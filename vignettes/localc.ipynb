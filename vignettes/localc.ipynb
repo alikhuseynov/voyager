{
 "cells": [
  {
   "cell_type": "raw",
<<<<<<< HEAD
   "id": "281654c5",
||||||| 52c4b7c5
   "id": "79111c25",
=======
   "id": "59da426e",
>>>>>>> documentation-devel
   "metadata": {},
   "source": [
    "---\n",
    "title: \"Multivariate local Geary's C\"\n",
    "author: \"Lambda Moses\"\n",
    "date: \"`r Sys.Date()`\"\n",
    "output: \n",
    "  html_document:\n",
    "  toc: true\n",
    "  toc_float:\n",
    "    collapsed: false\n",
    "  toc_depth: 3\n",
    "bibliography: ref.bib\n",
    "vignette: >\n",
    "  %\\VignetteIndexEntry{localc}\n",
    "  %\\VignetteEngine{knitr::rmarkdown}\n",
    "  %\\VignetteEncoding{UTF-8}\n",
    "---"
   ]
  },
  {
   "cell_type": "code",
   "execution_count": null,
<<<<<<< HEAD
   "id": "0ac9d045",
||||||| 52c4b7c5
   "id": "b2e54892",
=======
   "id": "84899f64",
>>>>>>> documentation-devel
   "metadata": {
    "lines_to_next_cell": 2,
    "tags": [
     "remove_cell"
    ]
   },
   "outputs": [],
   "source": [
    "knitr::opts_chunk$set(\n",
    "  collapse = TRUE,\n",
    "  comment = \"#>\"\n",
    ")"
   ]
  },
  {
   "cell_type": "code",
   "execution_count": null,
<<<<<<< HEAD
   "id": "57465efd",
||||||| 52c4b7c5
   "id": "4c7d6460",
=======
   "id": "ba5629ed",
>>>>>>> documentation-devel
   "metadata": {
    "eval": false,
    "tags": [
     "remove_cell"
    ]
   },
   "outputs": [],
   "source": [
    "# Install Google Colab dependencies\n",
    "# Note: this can take 30+ minutes (many of the dependencies include C++ code, which needs to be compiled)\n",
    "\n",
    "# First install `sf`, `ragg` and `textshaping` and their system dependencies:\n",
    "system(\"apt-get -y update && apt-get install -y  libudunits2-dev libgdal-dev libgeos-dev libproj-dev libharfbuzz-dev libfribidi-dev\")\n",
    "install.packages(\"sf\")\n",
    "install.packages(\"textshaping\")\n",
    "install.packages(\"ragg\")\n",
    "\n",
    "# Install system dependencies of some other R packages that Voyager either imports or suggests:\n",
    "system(\"apt-get install -y libfribidi-dev libcairo2-dev libmagick++-dev\")\n",
    "\n",
    "# Install Voyager from Bioconductor:\n",
    "install.packages(\"BiocManager\")\n",
    "BiocManager::install(version = \"3.17\", ask = FALSE, update = FALSE, Ncpus = 2)\n",
    "BiocManager::install(\"scater\")\n",
    "system.time(\n",
    "  BiocManager::install(\"Voyager\", dependencies = TRUE, Ncpus = 2, update = FALSE)\n",
    ")\n",
    "\n",
    "# Other packages used in this vignette\n",
    "packageVersion(\"Voyager\")"
   ]
  },
  {
   "cell_type": "markdown",
<<<<<<< HEAD
   "id": "23c71eb0",
||||||| 52c4b7c5
   "id": "64c76648",
=======
   "id": "97a23d17",
>>>>>>> documentation-devel
   "metadata": {
    "lines_to_next_cell": 0
   },
   "source": [
    "# Introduction\n",
    "Local Geary's C [@Anselin1995-cs] is defined as:\n",
    "\n",
    "$$\n",
    "c_i = \\sum_jw_{ij}(x_i - x_j)^2,\n",
    "$$\n",
    "\n",
    "where $w_{ij}$s are spatial weights from location $i$ to location $j$ and $x$ is a variable at spatial location. This is generalized to multiple variables in [@Anselin2019-uv]:\n",
    "\n",
    "$$\n",
    "c_{k,i} = \\sum_{v=1}^k c_{v,i},\n",
    "$$\n",
    "\n",
    "where there are $k$ variables. This is essentially a spatially weighted sum of squared distances between locations in feature space. This vignette demonstrates usage of multivariate local Geary's C.\n",
    "\n",
    "Here we load the packages used:"
   ]
  },
  {
   "cell_type": "code",
   "execution_count": null,
<<<<<<< HEAD
   "id": "1cccf86d",
||||||| 52c4b7c5
   "id": "720caf9c",
=======
   "id": "6c01bbb5",
>>>>>>> documentation-devel
   "metadata": {
    "message": false
   },
   "outputs": [],
   "source": [
    "library(Voyager)\n",
    "library(SFEData)\n",
    "library(SpatialFeatureExperiment)\n",
    "library(scater)\n",
    "library(scran)\n",
    "library(ggplot2)\n",
    "library(spdep)\n",
    "theme_set(theme_bw())"
   ]
  },
  {
   "cell_type": "markdown",
<<<<<<< HEAD
   "id": "75592721",
||||||| 52c4b7c5
   "id": "8f5a5471",
=======
   "id": "ae3898df",
>>>>>>> documentation-devel
   "metadata": {
    "lines_to_next_cell": 0
   },
   "source": [
    "QC was performed in [another vignette](https://pachterlab.github.io/voyager/articles/vig1_visium_basic.html), so this vignette will not plot QC metrics."
   ]
  },
  {
   "cell_type": "code",
   "execution_count": null,
<<<<<<< HEAD
   "id": "1f35ed83",
||||||| 52c4b7c5
   "id": "fa3a97d4",
=======
   "id": "1126e02a",
>>>>>>> documentation-devel
   "metadata": {},
   "outputs": [],
   "source": [
    "(sfe <- McKellarMuscleData(\"full\"))"
   ]
  },
  {
   "cell_type": "markdown",
<<<<<<< HEAD
   "id": "89a09258",
||||||| 52c4b7c5
   "id": "f79cf93b",
=======
   "id": "d1226449",
>>>>>>> documentation-devel
   "metadata": {
    "lines_to_next_cell": 0
   },
   "source": [
    "The image can be added to the SFE object and plotted behind the geometries, and needs to be flipped to align to the spots because the origin is at the top left for the image but bottom left for geometries."
   ]
  },
  {
   "cell_type": "code",
   "execution_count": null,
<<<<<<< HEAD
   "id": "1842d4bf",
||||||| 52c4b7c5
   "id": "ea321dbf",
=======
   "id": "a7b5518d",
>>>>>>> documentation-devel
   "metadata": {},
   "outputs": [],
   "source": [
    "if (!file.exists(\"tissue_lowres_5a.jpeg\")) {\n",
    "    download.file(\"https://raw.githubusercontent.com/pachterlab/voyager/main/vignettes/tissue_lowres_5a.jpeg\",\n",
    "                  destfile = \"tissue_lowres_5a.jpeg\")\n",
    "}"
   ]
  },
  {
   "cell_type": "code",
   "execution_count": null,
<<<<<<< HEAD
   "id": "0995f59e",
||||||| 52c4b7c5
   "id": "043d2e23",
=======
   "id": "57951360",
>>>>>>> documentation-devel
   "metadata": {},
   "outputs": [],
   "source": [
    "sfe <- addImg(sfe, file = \"tissue_lowres_5a.jpeg\", sample_id = \"Vis5A\", \n",
    "              image_id = \"lowres\", \n",
    "              scale_fct = 1024/22208)\n",
    "sfe <- mirrorImg(sfe, sample_id = \"Vis5A\", image_id = \"lowres\")"
   ]
  },
  {
   "cell_type": "code",
   "execution_count": null,
<<<<<<< HEAD
   "id": "69c7fc1a",
||||||| 52c4b7c5
   "id": "ff9a8859",
=======
   "id": "57f60daa",
>>>>>>> documentation-devel
   "metadata": {},
   "outputs": [],
   "source": [
    "sfe_tissue <- sfe[,colData(sfe)$in_tissue]\n",
    "sfe_tissue <- sfe_tissue[rowSums(counts(sfe_tissue)) > 0,]"
   ]
  },
  {
   "cell_type": "code",
   "execution_count": null,
<<<<<<< HEAD
   "id": "8d8d59e8",
||||||| 52c4b7c5
   "id": "5c37c3cb",
=======
   "id": "7672b903",
>>>>>>> documentation-devel
   "metadata": {},
   "outputs": [],
   "source": [
    "sfe_tissue <- logNormCounts(sfe_tissue)"
   ]
  },
  {
   "cell_type": "code",
   "execution_count": null,
<<<<<<< HEAD
   "id": "9a6c2347",
||||||| 52c4b7c5
   "id": "3b98c526",
=======
   "id": "a0ff204b",
>>>>>>> documentation-devel
   "metadata": {},
   "outputs": [],
   "source": [
    "colGraph(sfe_tissue, \"visium\") <- findVisiumGraph(sfe_tissue)"
   ]
  },
  {
   "cell_type": "markdown",
<<<<<<< HEAD
   "id": "ca1978bd",
||||||| 52c4b7c5
   "id": "31820145",
=======
   "id": "be8d3bff",
>>>>>>> documentation-devel
   "metadata": {
    "lines_to_next_cell": 0
   },
   "source": [
    "# Gene expression\n",
    "Here we compute multivariate local C for top highly variagle genes (HVGs) in this dataset:"
   ]
  },
  {
   "cell_type": "code",
   "execution_count": null,
<<<<<<< HEAD
   "id": "96d1204a",
||||||| 52c4b7c5
   "id": "dfdc9407",
=======
   "id": "649da1e4",
>>>>>>> documentation-devel
   "metadata": {},
   "outputs": [],
   "source": [
    "hvgs <- getTopHVGs(sfe_tissue, fdr.threshold = 0.01)"
   ]
  },
  {
   "cell_type": "code",
   "execution_count": null,
<<<<<<< HEAD
   "id": "8534b4e6",
||||||| 52c4b7c5
   "id": "437661b3",
=======
   "id": "d1a5b3da",
>>>>>>> documentation-devel
   "metadata": {},
   "outputs": [],
   "source": [
    "sfe_tissue <- runMultivariate(sfe_tissue, \"localC_perm_multi\", subset_row = hvgs)"
   ]
  },
  {
   "cell_type": "markdown",
<<<<<<< HEAD
   "id": "83ac9414",
||||||| 52c4b7c5
   "id": "f7cfefa3",
=======
   "id": "a675114b",
>>>>>>> documentation-devel
   "metadata": {
    "lines_to_next_cell": 0
   },
   "source": [
    "The results are stored in `reducedDim` although it's not really a dimension reduction. It can also go into `colData` if `dest = \"colData\"`. The test is two sided, but the `alternative` argument can be set to \"greater\" to only test for positive spatial autocorrelation and \"less\" for negative spatial autocorrelation."
   ]
  },
  {
   "cell_type": "code",
   "execution_count": null,
<<<<<<< HEAD
   "id": "5236a91c",
||||||| 52c4b7c5
   "id": "5e74377d",
=======
   "id": "8adce481",
>>>>>>> documentation-devel
   "metadata": {},
   "outputs": [],
   "source": [
    "names(reducedDim(sfe_tissue, \"localC_perm_multi\"))"
   ]
  },
  {
   "cell_type": "code",
   "execution_count": null,
<<<<<<< HEAD
   "id": "34fe30fa",
||||||| 52c4b7c5
   "id": "9315422b",
=======
   "id": "b0158055",
>>>>>>> documentation-devel
   "metadata": {},
   "outputs": [],
   "source": [
    "spatialReducedDim(sfe_tissue, \"localC_perm_multi\", c(1, 12),\n",
    "                  image_id = \"lowres\", maxcell = 5e4)"
   ]
  },
  {
   "cell_type": "markdown",
<<<<<<< HEAD
   "id": "df4c4197",
||||||| 52c4b7c5
   "id": "3f804643",
=======
   "id": "21009d21",
>>>>>>> documentation-devel
   "metadata": {},
   "source": [
    "In Geary's C, a value below 1 indicates positive spatial autocorrelation and a value above 1 indicates negative spatial autocorrelation. Local Geary's C is not scaled, but from the square difference expression, a low value means a more homogeneous neighborhood and a high value means a more heterogeneous neighborhood. Here considering all 341 top HVGs, the muscle tendon junction and the unjury site are more heterogeneous, which is detected as negative cluster.\n",
    "\n",
    "Permutation testing was performed, although Anselin noted that the pseudo-p-values should only be taken as indicative of _interesting_ regions and should not be interpreted in a strict sense."
   ]
  },
  {
   "cell_type": "code",
   "execution_count": null,
<<<<<<< HEAD
   "id": "be16be2a",
||||||| 52c4b7c5
   "id": "9cf30cb8",
=======
   "id": "03e84b4b",
>>>>>>> documentation-devel
   "metadata": {},
   "outputs": [],
   "source": [
    "spatialReducedDim(sfe_tissue, \"localC_perm_multi\", c(11, 12),\n",
    "                  image_id = \"lowres\", maxcell = 5e4, \n",
    "                  divergent = TRUE, diverge_center = -log10(0.05))"
   ]
  },
  {
   "cell_type": "markdown",
<<<<<<< HEAD
   "id": "a2f9b639",
||||||| 52c4b7c5
   "id": "d2648a17",
=======
   "id": "57ab7b09",
>>>>>>> documentation-devel
   "metadata": {},
   "source": [
    "Warm colors indicate adjusted p < 0.05. This should be interpreted along with the clusters. In this dataset, there are interestingly homogeneous regions in the myofibers, and an interestingly heterogeneous region in the injury site. Most of the significant regions are positive cluster, but the center of the injury site is significant and is negative cluster.\n",
    "\n",
    "# Top principal components\n",
    "Because multivariate local Geary's C is a spatially weighted sum of squared distances between locations in feature space, it's affected by the curse of dimensionality when used on a large number of features, when uniformly distributed data points in higher dimensions become more equidistant to each other with increasing number of dimensions. However, real data is not uniformly distributed and can have a much smaller effective dimension than the number of features, as many genes are co-regulated. Anselin suggested using the main principal components, but the issue of curse of dimensionality remains to be further investigated. Furthermore, as the cosine and Manhattan distances have been suggested to mitigate curse of dimensionality, I wonder what if I use these instead of the Euclidean distance in feature space for multivariate local Geary's C.\n",
    "\n",
    "So here we perform multivariate local Geary's C on the top PCs:"
   ]
  },
  {
   "cell_type": "code",
   "execution_count": null,
<<<<<<< HEAD
   "id": "d1a1cdff",
||||||| 52c4b7c5
   "id": "233eca1d",
=======
   "id": "c03f0fa0",
>>>>>>> documentation-devel
   "metadata": {},
   "outputs": [],
   "source": [
    "sfe_tissue <- runPCA(sfe_tissue, ncomponents = 20, scale = TRUE)"
   ]
  },
  {
   "cell_type": "code",
   "execution_count": null,
<<<<<<< HEAD
   "id": "a8db23d6",
||||||| 52c4b7c5
   "id": "31505a5f",
=======
   "id": "ba830a55",
>>>>>>> documentation-devel
   "metadata": {},
   "outputs": [],
   "source": [
    "ElbowPlot(sfe_tissue)"
   ]
  },
  {
   "cell_type": "markdown",
<<<<<<< HEAD
   "id": "109a3d8c",
||||||| 52c4b7c5
   "id": "76c4c0d8",
=======
   "id": "b5041950",
>>>>>>> documentation-devel
   "metadata": {
    "lines_to_next_cell": 0
   },
   "source": [
    "What percentage of variance is explained by the top 20 PCs?"
   ]
  },
  {
   "cell_type": "code",
   "execution_count": null,
<<<<<<< HEAD
   "id": "6eb2bbe7",
||||||| 52c4b7c5
   "id": "2ba600f8",
=======
   "id": "1236057d",
>>>>>>> documentation-devel
   "metadata": {},
   "outputs": [],
   "source": [
    "sum(attr(reducedDim(sfe_tissue, \"PCA\"), \"percentVar\"))"
   ]
  },
  {
   "cell_type": "code",
   "execution_count": null,
<<<<<<< HEAD
   "id": "5e34afec",
||||||| 52c4b7c5
   "id": "a7104ca8",
=======
   "id": "807ec148",
>>>>>>> documentation-devel
   "metadata": {},
   "outputs": [],
   "source": [
    "out <- localC_perm(reducedDim(sfe_tissue, \"PCA\"), \n",
    "                   listw = colGraph(sfe_tissue, \"visium\"))\n",
    "out <- Voyager:::.localCpermmulti2df(out, \n",
    "                                     nb = colGraph(sfe_tissue, \"visium\")$neighbours,\n",
    "                                     p.adjust.method = \"BH\")\n",
    "reducedDim(sfe_tissue, \"localC_PCs\", withDimnames = FALSE) <- out"
   ]
  },
  {
   "cell_type": "code",
   "execution_count": null,
<<<<<<< HEAD
   "id": "8bccada5",
||||||| 52c4b7c5
   "id": "494b4e98",
=======
   "id": "7809de40",
>>>>>>> documentation-devel
   "metadata": {},
   "outputs": [],
   "source": [
    "spatialReducedDim(sfe_tissue, \"localC_PCs\", c(1, 12),\n",
    "                  image_id = \"lowres\", maxcell = 5e4)"
   ]
  },
  {
   "cell_type": "code",
   "execution_count": null,
<<<<<<< HEAD
   "id": "33c44dd3",
||||||| 52c4b7c5
   "id": "01a2cd22",
=======
   "id": "11f58bc1",
>>>>>>> documentation-devel
   "metadata": {},
   "outputs": [],
   "source": [
    "spatialReducedDim(sfe_tissue, \"localC_PCs\", c(11, 12),\n",
    "                  image_id = \"lowres\", maxcell = 5e4, \n",
    "                  divergent = TRUE, diverge_center = -log10(0.05))"
   ]
  },
  {
   "cell_type": "markdown",
<<<<<<< HEAD
   "id": "3b843886",
||||||| 52c4b7c5
   "id": "ef6979ad",
=======
   "id": "2214370e",
>>>>>>> documentation-devel
   "metadata": {
    "lines_to_next_cell": 0
   },
   "source": [
    "The area that seem significant from the permutation test is larger than that from the HVGs, and the area considered negative clusters is smaller. The significant regions are pretty much all positive cluster. Do the differences in results have anything to do with curse of dimensionality? Twenty dimensions can still exhibit curse of dimensionality, but over 300 HVGs here would be worse. Or is it that we lose a lot of information, including negative spatial autocorrelation, by only using 20 PCs?\n",
    "\n",
    "# Session info"
   ]
  },
  {
   "cell_type": "code",
   "execution_count": null,
<<<<<<< HEAD
   "id": "78453371",
||||||| 52c4b7c5
   "id": "f60cd49e",
=======
   "id": "b3e07a2e",
>>>>>>> documentation-devel
   "metadata": {},
   "outputs": [],
   "source": [
    "sessionInfo()"
   ]
  },
  {
   "cell_type": "markdown",
<<<<<<< HEAD
   "id": "9744beb7",
||||||| 52c4b7c5
   "id": "f87bd304",
=======
   "id": "f3ea1b05",
>>>>>>> documentation-devel
   "metadata": {},
   "source": [
    "# References"
   ]
  }
 ],
 "metadata": {
  "kernelspec": {
   "display_name": "R",
   "language": "R",
   "name": "ir"
  }
 },
 "nbformat": 4,
 "nbformat_minor": 5
}
