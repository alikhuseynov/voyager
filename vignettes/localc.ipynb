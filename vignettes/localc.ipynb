{
 "cells": [
  {
   "cell_type": "raw",
   "id": "d042a8b0",
   "metadata": {},
   "source": [
    "---\n",
    "title: \"Multivariate local Geary's C\"\n",
    "author: \"Lambda Moses\"\n",
    "date: \"`r Sys.Date()`\"\n",
    "output: \n",
    "  html_document:\n",
    "  toc: true\n",
    "  toc_float:\n",
    "    collapsed: false\n",
    "  toc_depth: 3\n",
    "bibliography: ref.bib\n",
    "vignette: >\n",
    "  %\\VignetteIndexEntry{localc}\n",
    "  %\\VignetteEngine{knitr::rmarkdown}\n",
    "  %\\VignetteEncoding{UTF-8}\n",
    "---"
   ]
  },
  {
   "cell_type": "code",
   "execution_count": null,
   "id": "26954d63",
   "metadata": {
    "lines_to_next_cell": 2,
    "tags": [
     "remove_cell"
    ]
   },
   "outputs": [],
   "source": [
    "knitr::opts_chunk$set(\n",
    "  collapse = TRUE,\n",
    "  comment = \"#>\"\n",
    ")"
   ]
  },
  {
   "cell_type": "markdown",
   "id": "4fea6ae4",
   "metadata": {
    "lines_to_next_cell": 0
   },
   "source": [
    "Local Geary's C [@Anselin1995-cs] is defined as:\n",
    "\n",
    "$$\n",
    "c_i = \\sum_jw_{ij}(x_i - x_j)^2,\n",
    "$$\n",
    "\n",
    "where $w_{ij}$s are spatial weights from location $i$ to location $j$ and $x$ is a variable at spatial location. This is generalized to multiple variables in [@Anselin2019-uv]:\n",
    "\n",
    "$$\n",
    "c_{k,i} = \\sum_{v=1}^k c_{v,i},\n",
    "$$\n",
    "\n",
    "where there are $k$ variables. This vignette demonstrates usage of multivariate local Geary's C \n",
    "\n",
    "Here we load the packages used:"
   ]
  },
  {
   "cell_type": "code",
   "execution_count": null,
   "id": "bcd428ba",
   "metadata": {
    "message": false
   },
   "outputs": [],
   "source": [
    "library(Voyager)\n",
    "library(SFEData)\n",
    "library(SpatialFeatureExperiment)\n",
    "library(scater)\n",
    "library(scran)\n",
    "library(ggplot2)\n",
    "theme_set(theme_bw())"
   ]
  },
  {
   "cell_type": "markdown",
   "id": "dfea1965",
   "metadata": {
    "lines_to_next_cell": 0
   },
   "source": [
    "QC was performed in [another vignette](https://pachterlab.github.io/voyager/articles/vig1_visium_basic.html), so this vignette will not plot QC metrics."
   ]
  },
  {
   "cell_type": "code",
   "execution_count": null,
   "id": "85a79da5",
   "metadata": {},
   "outputs": [],
   "source": [
    "(sfe <- McKellarMuscleData(\"full\"))"
   ]
  },
  {
   "cell_type": "markdown",
   "id": "7203afaa",
   "metadata": {
    "lines_to_next_cell": 0
   },
   "source": [
    "The image can be added to the SFE object and plotted behind the geometries, and needs to be flipped to align to the spots because the origin is at the top left for the image but bottom left for geometries."
   ]
  },
  {
   "cell_type": "code",
   "execution_count": null,
   "id": "b29d523d",
   "metadata": {},
   "outputs": [],
   "source": [
    "sfe <- addImg(sfe, file = \"tissue_lowres_5a.jpeg\", sample_id = \"Vis5A\", \n",
    "              image_id = \"lowres\", \n",
    "              scale_fct = 1024/22208)\n",
    "sfe <- mirrorImg(sfe, sample_id = \"Vis5A\", image_id = \"lowres\")"
   ]
  },
  {
   "cell_type": "code",
   "execution_count": null,
   "id": "45e941e8",
   "metadata": {},
   "outputs": [],
   "source": [
    "sfe_tissue <- sfe[,colData(sfe)$in_tissue]\n",
    "sfe_tissue <- sfe_tissue[rowSums(counts(sfe_tissue)) > 0,]"
   ]
  },
  {
   "cell_type": "code",
   "execution_count": null,
   "id": "c48e6982",
   "metadata": {},
   "outputs": [],
   "source": [
    "sfe_tissue <- logNormCounts(sfe_tissue)"
   ]
  },
  {
   "cell_type": "code",
   "execution_count": null,
   "id": "41362038",
   "metadata": {},
   "outputs": [],
   "source": [
    "colGraph(sfe_tissue, \"visium\") <- findVisiumGraph(sfe_tissue)"
   ]
  },
  {
   "cell_type": "markdown",
   "id": "e3380509",
   "metadata": {
    "lines_to_next_cell": 0
   },
   "source": [
    "Here we compute Lee's L for top highly variagle genes (HVGs) in this dataset:"
   ]
  },
  {
   "cell_type": "code",
   "execution_count": null,
   "id": "3254991c",
   "metadata": {},
   "outputs": [],
   "source": [
    "hvgs <- getTopHVGs(sfe_tissue, fdr.threshold = 0.01)"
   ]
  },
  {
   "cell_type": "code",
   "execution_count": null,
   "id": "fad2d362",
   "metadata": {},
   "outputs": [],
   "source": [
    "sfe_tissue <- runMultivariate(sfe_tissue, \"localC_perm_multi\", subset_row = hvgs)"
   ]
  },
  {
   "cell_type": "markdown",
   "id": "5fca25b5",
   "metadata": {
    "lines_to_next_cell": 0
   },
   "source": [
    "The results are stored in `reducedDim` although it's not really a dimension reduction. It can also go into `colData` if `dest = \"colData\"`."
   ]
  },
  {
   "cell_type": "code",
   "execution_count": null,
   "id": "442c86fb",
   "metadata": {},
   "outputs": [],
   "source": [
    "names(reducedDim(sfe_tissue, \"localC_perm_multi\"))"
   ]
  },
  {
   "cell_type": "code",
   "execution_count": null,
   "id": "20b7cd96",
   "metadata": {},
   "outputs": [],
   "source": [
    "spatialReducedDim(sfe_tissue, \"localC_perm_multi\", c(1, 12),\n",
    "                  image_id = \"lowres\", maxcell = 5e4)"
   ]
  },
  {
   "cell_type": "markdown",
   "id": "0037e2e1",
   "metadata": {},
   "source": [
    "In Geary's C, a value below 1 indicates positive spatial autocorrelation and a value above 1 indicates negative spatial autocorrelation. Local Geary's C is not scaled, but from the square difference expression, a low value means a more homogeneous neighborhood and a high value means a more heterogeneous neighborhood. Here considering all 341 top HVGs, the muscle tendon junction and the unjury site are more heterogeneous, which is detected as negative cluster.\n",
    "\n",
    "Permutation testing was performed, although Anselin noted that the pseudo-p-values should only be taken as indicative of _interesting_ regions and should not be interpreted in a strict sense."
   ]
  },
  {
   "cell_type": "code",
   "execution_count": null,
   "id": "0b339b1f",
   "metadata": {},
   "outputs": [],
   "source": [
    "spatialReducedDim(sfe_tissue, \"localC_perm_multi\", c(11, 12),\n",
    "                  image_id = \"lowres\", maxcell = 5e4, \n",
    "                  divergent = TRUE, diverge_center = -log10(0.05))"
   ]
  },
  {
   "cell_type": "markdown",
   "id": "e1d3b286",
   "metadata": {
    "lines_to_next_cell": 0
   },
   "source": [
    "Warm colors indicate adjusted p < 0.05. This should be interpreted along with the clusters. In this dataset, there are interestingly homogeneous regions in the myofibers, and an interestingly heterogeneous region in the injury site.\n",
    "\n",
    "# Session info"
   ]
  },
  {
   "cell_type": "code",
   "execution_count": null,
   "id": "9cf68a15",
   "metadata": {},
   "outputs": [],
   "source": [
    "sessionInfo()"
   ]
  },
  {
   "cell_type": "markdown",
   "id": "d3dbf64b",
   "metadata": {},
   "source": [
    "# References"
   ]
  }
 ],
 "metadata": {
  "kernelspec": {
   "display_name": "R",
   "language": "R",
   "name": "ir"
  }
 },
 "nbformat": 4,
 "nbformat_minor": 5
}
