{
 "cells": [
  {
   "cell_type": "raw",
<<<<<<< HEAD
<<<<<<< HEAD
<<<<<<< HEAD
<<<<<<< HEAD
<<<<<<< HEAD
<<<<<<< HEAD
<<<<<<< HEAD
   "id": "e994440c",
||||||| 6a30bf1
   "id": "b414320d",
=======
   "id": "7a1e32d3",
>>>>>>> documentation-devel
||||||| d28b18c
   "id": "7a1e32d3",
=======
   "id": "469a3847",
>>>>>>> documentation-devel
||||||| 6893f63
<<<<<<< HEAD
   "id": "e994440c",
||||||| 6a30bf1
   "id": "b414320d",
=======
   "id": "7a1e32d3",
>>>>>>> documentation-devel
=======
   "id": "b98e1699",
>>>>>>> c74c98c2450c2a1ba922ed9442f136238d6bc88b
||||||| 6d93b645
   "id": "469a3847",
=======
   "id": "2da90e7b",
>>>>>>> documentation-devel
||||||| 804edffb
<<<<<<< HEAD
<<<<<<< HEAD
<<<<<<< HEAD
   "id": "e994440c",
||||||| 6a30bf1
   "id": "b414320d",
=======
   "id": "7a1e32d3",
>>>>>>> documentation-devel
||||||| d28b18c
   "id": "7a1e32d3",
=======
   "id": "469a3847",
>>>>>>> documentation-devel
||||||| 6893f63
<<<<<<< HEAD
   "id": "e994440c",
||||||| 6a30bf1
   "id": "b414320d",
=======
   "id": "7a1e32d3",
>>>>>>> documentation-devel
=======
   "id": "b98e1699",
>>>>>>> c74c98c2450c2a1ba922ed9442f136238d6bc88b
=======
   "id": "4d800ddf",
>>>>>>> 035bb2637984ead2784fecff78c0c60cc4181202
||||||| 3effdfa5
   "id": "2da90e7b",
=======
   "id": "d3766a2a",
>>>>>>> documentation-devel
||||||| 96c826da
<<<<<<< HEAD
<<<<<<< HEAD
<<<<<<< HEAD
<<<<<<< HEAD
<<<<<<< HEAD
   "id": "e994440c",
||||||| 6a30bf1
   "id": "b414320d",
=======
   "id": "7a1e32d3",
>>>>>>> documentation-devel
||||||| d28b18c
   "id": "7a1e32d3",
=======
   "id": "469a3847",
>>>>>>> documentation-devel
||||||| 6893f63
<<<<<<< HEAD
   "id": "e994440c",
||||||| 6a30bf1
   "id": "b414320d",
=======
   "id": "7a1e32d3",
>>>>>>> documentation-devel
=======
   "id": "b98e1699",
>>>>>>> c74c98c2450c2a1ba922ed9442f136238d6bc88b
||||||| 6d93b645
   "id": "469a3847",
=======
   "id": "2da90e7b",
>>>>>>> documentation-devel
||||||| 804edffb
<<<<<<< HEAD
<<<<<<< HEAD
<<<<<<< HEAD
   "id": "e994440c",
||||||| 6a30bf1
   "id": "b414320d",
=======
   "id": "7a1e32d3",
>>>>>>> documentation-devel
||||||| d28b18c
   "id": "7a1e32d3",
=======
   "id": "469a3847",
>>>>>>> documentation-devel
||||||| 6893f63
<<<<<<< HEAD
   "id": "e994440c",
||||||| 6a30bf1
   "id": "b414320d",
=======
   "id": "7a1e32d3",
>>>>>>> documentation-devel
=======
   "id": "b98e1699",
>>>>>>> c74c98c2450c2a1ba922ed9442f136238d6bc88b
=======
   "id": "4d800ddf",
>>>>>>> 035bb2637984ead2784fecff78c0c60cc4181202
=======
   "id": "5afddeea",
>>>>>>> 619c01f26351d57ac14d974b7af136ac5756103f
   "metadata": {},
   "source": [
    "---\n",
    "title: \"Multivariate local Geary's C\"\n",
    "author: \"Lambda Moses\"\n",
    "date: \"`r Sys.Date()`\"\n",
    "output: \n",
    "  html_document:\n",
    "  toc: true\n",
    "  toc_float:\n",
    "    collapsed: false\n",
    "  toc_depth: 3\n",
    "bibliography: ref.bib\n",
    "vignette: >\n",
    "  %\\VignetteIndexEntry{localc}\n",
    "  %\\VignetteEngine{knitr::rmarkdown}\n",
    "  %\\VignetteEncoding{UTF-8}\n",
    "---"
   ]
  },
  {
   "cell_type": "code",
   "execution_count": null,
<<<<<<< HEAD
<<<<<<< HEAD
<<<<<<< HEAD
<<<<<<< HEAD
<<<<<<< HEAD
<<<<<<< HEAD
<<<<<<< HEAD
   "id": "b548384b",
||||||| 6a30bf1
   "id": "d669817d",
=======
   "id": "15c031e0",
>>>>>>> documentation-devel
||||||| d28b18c
   "id": "15c031e0",
=======
   "id": "9fcd0ba5",
>>>>>>> documentation-devel
||||||| 6893f63
<<<<<<< HEAD
   "id": "b548384b",
||||||| 6a30bf1
   "id": "d669817d",
=======
   "id": "15c031e0",
>>>>>>> documentation-devel
=======
   "id": "8cdf3ec0",
>>>>>>> c74c98c2450c2a1ba922ed9442f136238d6bc88b
||||||| 6d93b645
   "id": "9fcd0ba5",
=======
   "id": "044db648",
>>>>>>> documentation-devel
||||||| 804edffb
<<<<<<< HEAD
<<<<<<< HEAD
<<<<<<< HEAD
   "id": "b548384b",
||||||| 6a30bf1
   "id": "d669817d",
=======
   "id": "15c031e0",
>>>>>>> documentation-devel
||||||| d28b18c
   "id": "15c031e0",
=======
   "id": "9fcd0ba5",
>>>>>>> documentation-devel
||||||| 6893f63
<<<<<<< HEAD
   "id": "b548384b",
||||||| 6a30bf1
   "id": "d669817d",
=======
   "id": "15c031e0",
>>>>>>> documentation-devel
=======
   "id": "8cdf3ec0",
>>>>>>> c74c98c2450c2a1ba922ed9442f136238d6bc88b
=======
   "id": "39a40e46",
>>>>>>> 035bb2637984ead2784fecff78c0c60cc4181202
||||||| 3effdfa5
   "id": "044db648",
=======
   "id": "8c031bce",
>>>>>>> documentation-devel
||||||| 96c826da
<<<<<<< HEAD
<<<<<<< HEAD
<<<<<<< HEAD
<<<<<<< HEAD
<<<<<<< HEAD
   "id": "b548384b",
||||||| 6a30bf1
   "id": "d669817d",
=======
   "id": "15c031e0",
>>>>>>> documentation-devel
||||||| d28b18c
   "id": "15c031e0",
=======
   "id": "9fcd0ba5",
>>>>>>> documentation-devel
||||||| 6893f63
<<<<<<< HEAD
   "id": "b548384b",
||||||| 6a30bf1
   "id": "d669817d",
=======
   "id": "15c031e0",
>>>>>>> documentation-devel
=======
   "id": "8cdf3ec0",
>>>>>>> c74c98c2450c2a1ba922ed9442f136238d6bc88b
||||||| 6d93b645
   "id": "9fcd0ba5",
=======
   "id": "044db648",
>>>>>>> documentation-devel
||||||| 804edffb
<<<<<<< HEAD
<<<<<<< HEAD
<<<<<<< HEAD
   "id": "b548384b",
||||||| 6a30bf1
   "id": "d669817d",
=======
   "id": "15c031e0",
>>>>>>> documentation-devel
||||||| d28b18c
   "id": "15c031e0",
=======
   "id": "9fcd0ba5",
>>>>>>> documentation-devel
||||||| 6893f63
<<<<<<< HEAD
   "id": "b548384b",
||||||| 6a30bf1
   "id": "d669817d",
=======
   "id": "15c031e0",
>>>>>>> documentation-devel
=======
   "id": "8cdf3ec0",
>>>>>>> c74c98c2450c2a1ba922ed9442f136238d6bc88b
=======
   "id": "39a40e46",
>>>>>>> 035bb2637984ead2784fecff78c0c60cc4181202
=======
   "id": "bdb7c539",
>>>>>>> 619c01f26351d57ac14d974b7af136ac5756103f
   "metadata": {
    "lines_to_next_cell": 2,
    "tags": [
     "remove_cell"
    ]
   },
   "outputs": [],
   "source": [
    "knitr::opts_chunk$set(\n",
    "  collapse = TRUE,\n",
    "  comment = \"#>\"\n",
    ")"
   ]
  },
  {
   "cell_type": "code",
   "execution_count": null,
<<<<<<< HEAD
<<<<<<< HEAD
<<<<<<< HEAD
<<<<<<< HEAD
<<<<<<< HEAD
<<<<<<< HEAD
<<<<<<< HEAD
   "id": "95936841",
||||||| 6a30bf1
   "id": "21cb6b2d",
=======
   "id": "a1c4d9a5",
>>>>>>> documentation-devel
||||||| d28b18c
   "id": "a1c4d9a5",
=======
   "id": "61e9d019",
>>>>>>> documentation-devel
||||||| 6893f63
<<<<<<< HEAD
   "id": "95936841",
||||||| 6a30bf1
   "id": "21cb6b2d",
=======
   "id": "a1c4d9a5",
>>>>>>> documentation-devel
=======
   "id": "eb7987d7",
>>>>>>> c74c98c2450c2a1ba922ed9442f136238d6bc88b
||||||| 6d93b645
   "id": "61e9d019",
=======
   "id": "5577070f",
>>>>>>> documentation-devel
||||||| 804edffb
<<<<<<< HEAD
<<<<<<< HEAD
<<<<<<< HEAD
   "id": "95936841",
||||||| 6a30bf1
   "id": "21cb6b2d",
=======
   "id": "a1c4d9a5",
>>>>>>> documentation-devel
||||||| d28b18c
   "id": "a1c4d9a5",
=======
   "id": "61e9d019",
>>>>>>> documentation-devel
||||||| 6893f63
<<<<<<< HEAD
   "id": "95936841",
||||||| 6a30bf1
   "id": "21cb6b2d",
=======
   "id": "a1c4d9a5",
>>>>>>> documentation-devel
=======
   "id": "eb7987d7",
>>>>>>> c74c98c2450c2a1ba922ed9442f136238d6bc88b
=======
   "id": "6cbc9775",
>>>>>>> 035bb2637984ead2784fecff78c0c60cc4181202
||||||| 3effdfa5
   "id": "5577070f",
=======
   "id": "45731b62",
>>>>>>> documentation-devel
||||||| 96c826da
<<<<<<< HEAD
<<<<<<< HEAD
<<<<<<< HEAD
<<<<<<< HEAD
<<<<<<< HEAD
   "id": "95936841",
||||||| 6a30bf1
   "id": "21cb6b2d",
=======
   "id": "a1c4d9a5",
>>>>>>> documentation-devel
||||||| d28b18c
   "id": "a1c4d9a5",
=======
   "id": "61e9d019",
>>>>>>> documentation-devel
||||||| 6893f63
<<<<<<< HEAD
   "id": "95936841",
||||||| 6a30bf1
   "id": "21cb6b2d",
=======
   "id": "a1c4d9a5",
>>>>>>> documentation-devel
=======
   "id": "eb7987d7",
>>>>>>> c74c98c2450c2a1ba922ed9442f136238d6bc88b
||||||| 6d93b645
   "id": "61e9d019",
=======
   "id": "5577070f",
>>>>>>> documentation-devel
||||||| 804edffb
<<<<<<< HEAD
<<<<<<< HEAD
<<<<<<< HEAD
   "id": "95936841",
||||||| 6a30bf1
   "id": "21cb6b2d",
=======
   "id": "a1c4d9a5",
>>>>>>> documentation-devel
||||||| d28b18c
   "id": "a1c4d9a5",
=======
   "id": "61e9d019",
>>>>>>> documentation-devel
||||||| 6893f63
<<<<<<< HEAD
   "id": "95936841",
||||||| 6a30bf1
   "id": "21cb6b2d",
=======
   "id": "a1c4d9a5",
>>>>>>> documentation-devel
=======
   "id": "eb7987d7",
>>>>>>> c74c98c2450c2a1ba922ed9442f136238d6bc88b
=======
   "id": "6cbc9775",
>>>>>>> 035bb2637984ead2784fecff78c0c60cc4181202
=======
   "id": "25778e86",
>>>>>>> 619c01f26351d57ac14d974b7af136ac5756103f
   "metadata": {
    "eval": false,
    "tags": [
     "remove_cell"
    ]
   },
   "outputs": [],
   "source": [
    "# Install Google Colab dependencies\n",
    "# Note: this can take 30+ minutes (many of the dependencies include C++ code, which needs to be compiled)\n",
    "\n",
    "# First install `sf`, `ragg` and `textshaping` and their system dependencies:\n",
    "system(\"apt-get -y update && apt-get install -y  libudunits2-dev libgdal-dev libgeos-dev libproj-dev libharfbuzz-dev libfribidi-dev\")\n",
    "install.packages(\"sf\")\n",
    "install.packages(\"textshaping\")\n",
    "install.packages(\"ragg\")\n",
    "\n",
    "# Install system dependencies of some other R packages that Voyager either imports or suggests:\n",
    "system(\"apt-get install -y libfribidi-dev libcairo2-dev libmagick++-dev\")\n",
    "\n",
    "# Install Voyager from Bioconductor:\n",
    "install.packages(\"BiocManager\")\n",
    "BiocManager::install(version = \"3.17\", ask = FALSE, update = FALSE, Ncpus = 2)\n",
    "BiocManager::install(\"scater\")\n",
    "system.time(\n",
    "  BiocManager::install(\"Voyager\", dependencies = TRUE, Ncpus = 2, update = FALSE)\n",
    ")\n",
    "\n",
    "# Other packages used in this vignette\n",
    "packageVersion(\"Voyager\")"
   ]
  },
  {
   "cell_type": "markdown",
<<<<<<< HEAD
<<<<<<< HEAD
<<<<<<< HEAD
<<<<<<< HEAD
<<<<<<< HEAD
<<<<<<< HEAD
<<<<<<< HEAD
   "id": "4e3b8a9d",
||||||| 6a30bf1
   "id": "5f1002df",
=======
   "id": "7c0b347a",
>>>>>>> documentation-devel
||||||| d28b18c
   "id": "7c0b347a",
=======
   "id": "3b34cbf0",
>>>>>>> documentation-devel
||||||| 6893f63
<<<<<<< HEAD
   "id": "4e3b8a9d",
||||||| 6a30bf1
   "id": "5f1002df",
=======
   "id": "7c0b347a",
>>>>>>> documentation-devel
=======
   "id": "de400a63",
>>>>>>> c74c98c2450c2a1ba922ed9442f136238d6bc88b
||||||| 6d93b645
   "id": "3b34cbf0",
=======
   "id": "c0455a69",
>>>>>>> documentation-devel
||||||| 804edffb
<<<<<<< HEAD
<<<<<<< HEAD
<<<<<<< HEAD
   "id": "4e3b8a9d",
||||||| 6a30bf1
   "id": "5f1002df",
=======
   "id": "7c0b347a",
>>>>>>> documentation-devel
||||||| d28b18c
   "id": "7c0b347a",
=======
   "id": "3b34cbf0",
>>>>>>> documentation-devel
||||||| 6893f63
<<<<<<< HEAD
   "id": "4e3b8a9d",
||||||| 6a30bf1
   "id": "5f1002df",
=======
   "id": "7c0b347a",
>>>>>>> documentation-devel
=======
   "id": "de400a63",
>>>>>>> c74c98c2450c2a1ba922ed9442f136238d6bc88b
=======
   "id": "adfbb7f3",
>>>>>>> 035bb2637984ead2784fecff78c0c60cc4181202
||||||| 3effdfa5
   "id": "c0455a69",
=======
   "id": "457823a4",
>>>>>>> documentation-devel
||||||| 96c826da
<<<<<<< HEAD
<<<<<<< HEAD
<<<<<<< HEAD
<<<<<<< HEAD
<<<<<<< HEAD
   "id": "4e3b8a9d",
||||||| 6a30bf1
   "id": "5f1002df",
=======
   "id": "7c0b347a",
>>>>>>> documentation-devel
||||||| d28b18c
   "id": "7c0b347a",
=======
   "id": "3b34cbf0",
>>>>>>> documentation-devel
||||||| 6893f63
<<<<<<< HEAD
   "id": "4e3b8a9d",
||||||| 6a30bf1
   "id": "5f1002df",
=======
   "id": "7c0b347a",
>>>>>>> documentation-devel
=======
   "id": "de400a63",
>>>>>>> c74c98c2450c2a1ba922ed9442f136238d6bc88b
||||||| 6d93b645
   "id": "3b34cbf0",
=======
   "id": "c0455a69",
>>>>>>> documentation-devel
||||||| 804edffb
<<<<<<< HEAD
<<<<<<< HEAD
<<<<<<< HEAD
   "id": "4e3b8a9d",
||||||| 6a30bf1
   "id": "5f1002df",
=======
   "id": "7c0b347a",
>>>>>>> documentation-devel
||||||| d28b18c
   "id": "7c0b347a",
=======
   "id": "3b34cbf0",
>>>>>>> documentation-devel
||||||| 6893f63
<<<<<<< HEAD
   "id": "4e3b8a9d",
||||||| 6a30bf1
   "id": "5f1002df",
=======
   "id": "7c0b347a",
>>>>>>> documentation-devel
=======
   "id": "de400a63",
>>>>>>> c74c98c2450c2a1ba922ed9442f136238d6bc88b
=======
   "id": "adfbb7f3",
>>>>>>> 035bb2637984ead2784fecff78c0c60cc4181202
=======
   "id": "4bc7e68e",
>>>>>>> 619c01f26351d57ac14d974b7af136ac5756103f
   "metadata": {
    "lines_to_next_cell": 0
   },
   "source": [
    "# Introduction\n",
    "Local Geary's C [@Anselin1995-cs] is defined as:\n",
    "\n",
    "$$\n",
    "c_i = \\sum_jw_{ij}(x_i - x_j)^2,\n",
    "$$\n",
    "\n",
    "where $w_{ij}$s are spatial weights from location $i$ to location $j$ and $x$ is a variable at spatial location. This is generalized to multiple variables in [@Anselin2019-uv]:\n",
    "\n",
    "$$\n",
    "c_{k,i} = \\sum_{v=1}^k c_{v,i},\n",
    "$$\n",
    "\n",
    "where there are $k$ variables. This is essentially a spatially weighted sum of squared distances between locations in feature space. This vignette demonstrates usage of multivariate local Geary's C.\n",
    "\n",
    "Here we load the packages used:"
   ]
  },
  {
   "cell_type": "code",
   "execution_count": null,
<<<<<<< HEAD
<<<<<<< HEAD
<<<<<<< HEAD
<<<<<<< HEAD
<<<<<<< HEAD
<<<<<<< HEAD
<<<<<<< HEAD
   "id": "85794422",
||||||| 6a30bf1
   "id": "9a403f02",
=======
   "id": "a0426ec6",
>>>>>>> documentation-devel
||||||| d28b18c
   "id": "a0426ec6",
=======
   "id": "796befe2",
>>>>>>> documentation-devel
||||||| 6893f63
<<<<<<< HEAD
   "id": "85794422",
||||||| 6a30bf1
   "id": "9a403f02",
=======
   "id": "a0426ec6",
>>>>>>> documentation-devel
=======
   "id": "5851cb03",
>>>>>>> c74c98c2450c2a1ba922ed9442f136238d6bc88b
||||||| 6d93b645
   "id": "796befe2",
=======
   "id": "91ab2104",
>>>>>>> documentation-devel
||||||| 804edffb
<<<<<<< HEAD
<<<<<<< HEAD
<<<<<<< HEAD
   "id": "85794422",
||||||| 6a30bf1
   "id": "9a403f02",
=======
   "id": "a0426ec6",
>>>>>>> documentation-devel
||||||| d28b18c
   "id": "a0426ec6",
=======
   "id": "796befe2",
>>>>>>> documentation-devel
||||||| 6893f63
<<<<<<< HEAD
   "id": "85794422",
||||||| 6a30bf1
   "id": "9a403f02",
=======
   "id": "a0426ec6",
>>>>>>> documentation-devel
=======
   "id": "5851cb03",
>>>>>>> c74c98c2450c2a1ba922ed9442f136238d6bc88b
=======
   "id": "0893d692",
>>>>>>> 035bb2637984ead2784fecff78c0c60cc4181202
||||||| 3effdfa5
   "id": "91ab2104",
=======
   "id": "d467f956",
>>>>>>> documentation-devel
||||||| 96c826da
<<<<<<< HEAD
<<<<<<< HEAD
<<<<<<< HEAD
<<<<<<< HEAD
<<<<<<< HEAD
   "id": "85794422",
||||||| 6a30bf1
   "id": "9a403f02",
=======
   "id": "a0426ec6",
>>>>>>> documentation-devel
||||||| d28b18c
   "id": "a0426ec6",
=======
   "id": "796befe2",
>>>>>>> documentation-devel
||||||| 6893f63
<<<<<<< HEAD
   "id": "85794422",
||||||| 6a30bf1
   "id": "9a403f02",
=======
   "id": "a0426ec6",
>>>>>>> documentation-devel
=======
   "id": "5851cb03",
>>>>>>> c74c98c2450c2a1ba922ed9442f136238d6bc88b
||||||| 6d93b645
   "id": "796befe2",
=======
   "id": "91ab2104",
>>>>>>> documentation-devel
||||||| 804edffb
<<<<<<< HEAD
<<<<<<< HEAD
<<<<<<< HEAD
   "id": "85794422",
||||||| 6a30bf1
   "id": "9a403f02",
=======
   "id": "a0426ec6",
>>>>>>> documentation-devel
||||||| d28b18c
   "id": "a0426ec6",
=======
   "id": "796befe2",
>>>>>>> documentation-devel
||||||| 6893f63
<<<<<<< HEAD
   "id": "85794422",
||||||| 6a30bf1
   "id": "9a403f02",
=======
   "id": "a0426ec6",
>>>>>>> documentation-devel
=======
   "id": "5851cb03",
>>>>>>> c74c98c2450c2a1ba922ed9442f136238d6bc88b
=======
   "id": "0893d692",
>>>>>>> 035bb2637984ead2784fecff78c0c60cc4181202
=======
   "id": "266c8a86",
>>>>>>> 619c01f26351d57ac14d974b7af136ac5756103f
   "metadata": {
    "message": false
   },
   "outputs": [],
   "source": [
    "library(Voyager)\n",
    "library(SFEData)\n",
    "library(SpatialFeatureExperiment)\n",
    "library(scater)\n",
    "library(scran)\n",
    "library(ggplot2)\n",
    "library(spdep)\n",
    "theme_set(theme_bw())"
   ]
  },
  {
   "cell_type": "markdown",
<<<<<<< HEAD
<<<<<<< HEAD
<<<<<<< HEAD
<<<<<<< HEAD
<<<<<<< HEAD
<<<<<<< HEAD
<<<<<<< HEAD
   "id": "f2b7cdc9",
||||||| 6a30bf1
   "id": "7bdacd2c",
=======
   "id": "36ab1f0a",
>>>>>>> documentation-devel
||||||| d28b18c
   "id": "36ab1f0a",
=======
   "id": "cb7b1e1d",
>>>>>>> documentation-devel
||||||| 6893f63
<<<<<<< HEAD
   "id": "f2b7cdc9",
||||||| 6a30bf1
   "id": "7bdacd2c",
=======
   "id": "36ab1f0a",
>>>>>>> documentation-devel
=======
   "id": "b17c92f0",
>>>>>>> c74c98c2450c2a1ba922ed9442f136238d6bc88b
||||||| 6d93b645
   "id": "cb7b1e1d",
=======
   "id": "a1129dac",
>>>>>>> documentation-devel
||||||| 804edffb
<<<<<<< HEAD
<<<<<<< HEAD
<<<<<<< HEAD
   "id": "f2b7cdc9",
||||||| 6a30bf1
   "id": "7bdacd2c",
=======
   "id": "36ab1f0a",
>>>>>>> documentation-devel
||||||| d28b18c
   "id": "36ab1f0a",
=======
   "id": "cb7b1e1d",
>>>>>>> documentation-devel
||||||| 6893f63
<<<<<<< HEAD
   "id": "f2b7cdc9",
||||||| 6a30bf1
   "id": "7bdacd2c",
=======
   "id": "36ab1f0a",
>>>>>>> documentation-devel
=======
   "id": "b17c92f0",
>>>>>>> c74c98c2450c2a1ba922ed9442f136238d6bc88b
=======
   "id": "1bca1d22",
>>>>>>> 035bb2637984ead2784fecff78c0c60cc4181202
||||||| 3effdfa5
   "id": "a1129dac",
=======
   "id": "e0282b3f",
>>>>>>> documentation-devel
||||||| 96c826da
<<<<<<< HEAD
<<<<<<< HEAD
<<<<<<< HEAD
<<<<<<< HEAD
<<<<<<< HEAD
   "id": "f2b7cdc9",
||||||| 6a30bf1
   "id": "7bdacd2c",
=======
   "id": "36ab1f0a",
>>>>>>> documentation-devel
||||||| d28b18c
   "id": "36ab1f0a",
=======
   "id": "cb7b1e1d",
>>>>>>> documentation-devel
||||||| 6893f63
<<<<<<< HEAD
   "id": "f2b7cdc9",
||||||| 6a30bf1
   "id": "7bdacd2c",
=======
   "id": "36ab1f0a",
>>>>>>> documentation-devel
=======
   "id": "b17c92f0",
>>>>>>> c74c98c2450c2a1ba922ed9442f136238d6bc88b
||||||| 6d93b645
   "id": "cb7b1e1d",
=======
   "id": "a1129dac",
>>>>>>> documentation-devel
||||||| 804edffb
<<<<<<< HEAD
<<<<<<< HEAD
<<<<<<< HEAD
   "id": "f2b7cdc9",
||||||| 6a30bf1
   "id": "7bdacd2c",
=======
   "id": "36ab1f0a",
>>>>>>> documentation-devel
||||||| d28b18c
   "id": "36ab1f0a",
=======
   "id": "cb7b1e1d",
>>>>>>> documentation-devel
||||||| 6893f63
<<<<<<< HEAD
   "id": "f2b7cdc9",
||||||| 6a30bf1
   "id": "7bdacd2c",
=======
   "id": "36ab1f0a",
>>>>>>> documentation-devel
=======
   "id": "b17c92f0",
>>>>>>> c74c98c2450c2a1ba922ed9442f136238d6bc88b
=======
   "id": "1bca1d22",
>>>>>>> 035bb2637984ead2784fecff78c0c60cc4181202
=======
   "id": "067bcbc9",
>>>>>>> 619c01f26351d57ac14d974b7af136ac5756103f
   "metadata": {
    "lines_to_next_cell": 0
   },
   "source": [
    "QC was performed in [another vignette](https://pachterlab.github.io/voyager/articles/vig1_visium_basic.html), so this vignette will not plot QC metrics."
   ]
  },
  {
   "cell_type": "code",
   "execution_count": null,
<<<<<<< HEAD
<<<<<<< HEAD
<<<<<<< HEAD
<<<<<<< HEAD
<<<<<<< HEAD
<<<<<<< HEAD
<<<<<<< HEAD
   "id": "dffd9f70",
||||||| 6a30bf1
   "id": "f4f89d5b",
=======
   "id": "d21bdec6",
>>>>>>> documentation-devel
||||||| d28b18c
   "id": "d21bdec6",
=======
   "id": "048d47e0",
>>>>>>> documentation-devel
||||||| 6893f63
<<<<<<< HEAD
   "id": "dffd9f70",
||||||| 6a30bf1
   "id": "f4f89d5b",
=======
   "id": "d21bdec6",
>>>>>>> documentation-devel
=======
   "id": "493715c0",
>>>>>>> c74c98c2450c2a1ba922ed9442f136238d6bc88b
||||||| 6d93b645
   "id": "048d47e0",
=======
   "id": "e213d722",
>>>>>>> documentation-devel
||||||| 804edffb
<<<<<<< HEAD
<<<<<<< HEAD
<<<<<<< HEAD
   "id": "dffd9f70",
||||||| 6a30bf1
   "id": "f4f89d5b",
=======
   "id": "d21bdec6",
>>>>>>> documentation-devel
||||||| d28b18c
   "id": "d21bdec6",
=======
   "id": "048d47e0",
>>>>>>> documentation-devel
||||||| 6893f63
<<<<<<< HEAD
   "id": "dffd9f70",
||||||| 6a30bf1
   "id": "f4f89d5b",
=======
   "id": "d21bdec6",
>>>>>>> documentation-devel
=======
   "id": "493715c0",
>>>>>>> c74c98c2450c2a1ba922ed9442f136238d6bc88b
=======
   "id": "9a998643",
>>>>>>> 035bb2637984ead2784fecff78c0c60cc4181202
||||||| 3effdfa5
   "id": "e213d722",
=======
   "id": "5c6c8e40",
>>>>>>> documentation-devel
||||||| 96c826da
<<<<<<< HEAD
<<<<<<< HEAD
<<<<<<< HEAD
<<<<<<< HEAD
<<<<<<< HEAD
   "id": "dffd9f70",
||||||| 6a30bf1
   "id": "f4f89d5b",
=======
   "id": "d21bdec6",
>>>>>>> documentation-devel
||||||| d28b18c
   "id": "d21bdec6",
=======
   "id": "048d47e0",
>>>>>>> documentation-devel
||||||| 6893f63
<<<<<<< HEAD
   "id": "dffd9f70",
||||||| 6a30bf1
   "id": "f4f89d5b",
=======
   "id": "d21bdec6",
>>>>>>> documentation-devel
=======
   "id": "493715c0",
>>>>>>> c74c98c2450c2a1ba922ed9442f136238d6bc88b
||||||| 6d93b645
   "id": "048d47e0",
=======
   "id": "e213d722",
>>>>>>> documentation-devel
||||||| 804edffb
<<<<<<< HEAD
<<<<<<< HEAD
<<<<<<< HEAD
   "id": "dffd9f70",
||||||| 6a30bf1
   "id": "f4f89d5b",
=======
   "id": "d21bdec6",
>>>>>>> documentation-devel
||||||| d28b18c
   "id": "d21bdec6",
=======
   "id": "048d47e0",
>>>>>>> documentation-devel
||||||| 6893f63
<<<<<<< HEAD
   "id": "dffd9f70",
||||||| 6a30bf1
   "id": "f4f89d5b",
=======
   "id": "d21bdec6",
>>>>>>> documentation-devel
=======
   "id": "493715c0",
>>>>>>> c74c98c2450c2a1ba922ed9442f136238d6bc88b
=======
   "id": "9a998643",
>>>>>>> 035bb2637984ead2784fecff78c0c60cc4181202
=======
   "id": "eadedfab",
>>>>>>> 619c01f26351d57ac14d974b7af136ac5756103f
   "metadata": {},
   "outputs": [],
   "source": [
    "(sfe <- McKellarMuscleData(\"full\"))"
   ]
  },
  {
   "cell_type": "markdown",
<<<<<<< HEAD
<<<<<<< HEAD
<<<<<<< HEAD
<<<<<<< HEAD
<<<<<<< HEAD
<<<<<<< HEAD
<<<<<<< HEAD
   "id": "a99f5373",
||||||| 6a30bf1
   "id": "dff8f1f0",
=======
   "id": "76b12d73",
>>>>>>> documentation-devel
||||||| d28b18c
   "id": "76b12d73",
=======
   "id": "4807940a",
>>>>>>> documentation-devel
||||||| 6893f63
<<<<<<< HEAD
   "id": "a99f5373",
||||||| 6a30bf1
   "id": "dff8f1f0",
=======
   "id": "76b12d73",
>>>>>>> documentation-devel
=======
   "id": "ac68a298",
>>>>>>> c74c98c2450c2a1ba922ed9442f136238d6bc88b
||||||| 6d93b645
   "id": "4807940a",
=======
   "id": "49af85ae",
>>>>>>> documentation-devel
||||||| 804edffb
<<<<<<< HEAD
<<<<<<< HEAD
<<<<<<< HEAD
   "id": "a99f5373",
||||||| 6a30bf1
   "id": "dff8f1f0",
=======
   "id": "76b12d73",
>>>>>>> documentation-devel
||||||| d28b18c
   "id": "76b12d73",
=======
   "id": "4807940a",
>>>>>>> documentation-devel
||||||| 6893f63
<<<<<<< HEAD
   "id": "a99f5373",
||||||| 6a30bf1
   "id": "dff8f1f0",
=======
   "id": "76b12d73",
>>>>>>> documentation-devel
=======
   "id": "ac68a298",
>>>>>>> c74c98c2450c2a1ba922ed9442f136238d6bc88b
=======
   "id": "58b41f18",
>>>>>>> 035bb2637984ead2784fecff78c0c60cc4181202
||||||| 3effdfa5
   "id": "49af85ae",
=======
   "id": "84031dbd",
>>>>>>> documentation-devel
||||||| 96c826da
<<<<<<< HEAD
<<<<<<< HEAD
<<<<<<< HEAD
<<<<<<< HEAD
<<<<<<< HEAD
   "id": "a99f5373",
||||||| 6a30bf1
   "id": "dff8f1f0",
=======
   "id": "76b12d73",
>>>>>>> documentation-devel
||||||| d28b18c
   "id": "76b12d73",
=======
   "id": "4807940a",
>>>>>>> documentation-devel
||||||| 6893f63
<<<<<<< HEAD
   "id": "a99f5373",
||||||| 6a30bf1
   "id": "dff8f1f0",
=======
   "id": "76b12d73",
>>>>>>> documentation-devel
=======
   "id": "ac68a298",
>>>>>>> c74c98c2450c2a1ba922ed9442f136238d6bc88b
||||||| 6d93b645
   "id": "4807940a",
=======
   "id": "49af85ae",
>>>>>>> documentation-devel
||||||| 804edffb
<<<<<<< HEAD
<<<<<<< HEAD
<<<<<<< HEAD
   "id": "a99f5373",
||||||| 6a30bf1
   "id": "dff8f1f0",
=======
   "id": "76b12d73",
>>>>>>> documentation-devel
||||||| d28b18c
   "id": "76b12d73",
=======
   "id": "4807940a",
>>>>>>> documentation-devel
||||||| 6893f63
<<<<<<< HEAD
   "id": "a99f5373",
||||||| 6a30bf1
   "id": "dff8f1f0",
=======
   "id": "76b12d73",
>>>>>>> documentation-devel
=======
   "id": "ac68a298",
>>>>>>> c74c98c2450c2a1ba922ed9442f136238d6bc88b
=======
   "id": "58b41f18",
>>>>>>> 035bb2637984ead2784fecff78c0c60cc4181202
=======
   "id": "90696614",
>>>>>>> 619c01f26351d57ac14d974b7af136ac5756103f
   "metadata": {
    "lines_to_next_cell": 0
   },
   "source": [
    "The image can be added to the SFE object and plotted behind the geometries, and needs to be flipped to align to the spots because the origin is at the top left for the image but bottom left for geometries."
   ]
  },
  {
   "cell_type": "code",
   "execution_count": null,
<<<<<<< HEAD
<<<<<<< HEAD
<<<<<<< HEAD
<<<<<<< HEAD
<<<<<<< HEAD
<<<<<<< HEAD
<<<<<<< HEAD
   "id": "5da43b8e",
||||||| 6a30bf1
   "id": "5b71374c",
=======
   "id": "2b5d6022",
>>>>>>> documentation-devel
||||||| d28b18c
   "id": "2b5d6022",
=======
   "id": "1b2095ef",
>>>>>>> documentation-devel
||||||| 6893f63
<<<<<<< HEAD
   "id": "5da43b8e",
||||||| 6a30bf1
   "id": "5b71374c",
=======
   "id": "2b5d6022",
>>>>>>> documentation-devel
=======
   "id": "db5ca0e0",
>>>>>>> c74c98c2450c2a1ba922ed9442f136238d6bc88b
||||||| 6d93b645
   "id": "1b2095ef",
=======
   "id": "746a9984",
>>>>>>> documentation-devel
||||||| 804edffb
<<<<<<< HEAD
<<<<<<< HEAD
<<<<<<< HEAD
   "id": "5da43b8e",
||||||| 6a30bf1
   "id": "5b71374c",
=======
   "id": "2b5d6022",
>>>>>>> documentation-devel
||||||| d28b18c
   "id": "2b5d6022",
=======
   "id": "1b2095ef",
>>>>>>> documentation-devel
||||||| 6893f63
<<<<<<< HEAD
   "id": "5da43b8e",
||||||| 6a30bf1
   "id": "5b71374c",
=======
   "id": "2b5d6022",
>>>>>>> documentation-devel
=======
   "id": "db5ca0e0",
>>>>>>> c74c98c2450c2a1ba922ed9442f136238d6bc88b
=======
   "id": "de2bf3fd",
>>>>>>> 035bb2637984ead2784fecff78c0c60cc4181202
||||||| 3effdfa5
   "id": "746a9984",
=======
   "id": "a24ce6c7",
>>>>>>> documentation-devel
||||||| 96c826da
<<<<<<< HEAD
<<<<<<< HEAD
<<<<<<< HEAD
<<<<<<< HEAD
<<<<<<< HEAD
   "id": "5da43b8e",
||||||| 6a30bf1
   "id": "5b71374c",
=======
   "id": "2b5d6022",
>>>>>>> documentation-devel
||||||| d28b18c
   "id": "2b5d6022",
=======
   "id": "1b2095ef",
>>>>>>> documentation-devel
||||||| 6893f63
<<<<<<< HEAD
   "id": "5da43b8e",
||||||| 6a30bf1
   "id": "5b71374c",
=======
   "id": "2b5d6022",
>>>>>>> documentation-devel
=======
   "id": "db5ca0e0",
>>>>>>> c74c98c2450c2a1ba922ed9442f136238d6bc88b
||||||| 6d93b645
   "id": "1b2095ef",
=======
   "id": "746a9984",
>>>>>>> documentation-devel
||||||| 804edffb
<<<<<<< HEAD
<<<<<<< HEAD
<<<<<<< HEAD
   "id": "5da43b8e",
||||||| 6a30bf1
   "id": "5b71374c",
=======
   "id": "2b5d6022",
>>>>>>> documentation-devel
||||||| d28b18c
   "id": "2b5d6022",
=======
   "id": "1b2095ef",
>>>>>>> documentation-devel
||||||| 6893f63
<<<<<<< HEAD
   "id": "5da43b8e",
||||||| 6a30bf1
   "id": "5b71374c",
=======
   "id": "2b5d6022",
>>>>>>> documentation-devel
=======
   "id": "db5ca0e0",
>>>>>>> c74c98c2450c2a1ba922ed9442f136238d6bc88b
=======
   "id": "de2bf3fd",
>>>>>>> 035bb2637984ead2784fecff78c0c60cc4181202
=======
   "id": "99b97a50",
>>>>>>> 619c01f26351d57ac14d974b7af136ac5756103f
   "metadata": {},
   "outputs": [],
   "source": [
    "if (!file.exists(\"tissue_lowres_5a.jpeg\")) {\n",
    "    download.file(\"https://raw.githubusercontent.com/pachterlab/voyager/main/vignettes/tissue_lowres_5a.jpeg\",\n",
    "                  destfile = \"tissue_lowres_5a.jpeg\")\n",
    "}"
   ]
  },
  {
   "cell_type": "code",
   "execution_count": null,
<<<<<<< HEAD
<<<<<<< HEAD
<<<<<<< HEAD
<<<<<<< HEAD
<<<<<<< HEAD
<<<<<<< HEAD
<<<<<<< HEAD
   "id": "e1a62211",
||||||| 6a30bf1
   "id": "6a8e19aa",
=======
   "id": "a5216ff9",
>>>>>>> documentation-devel
||||||| d28b18c
   "id": "a5216ff9",
=======
   "id": "77c53ee5",
>>>>>>> documentation-devel
||||||| 6893f63
<<<<<<< HEAD
   "id": "e1a62211",
||||||| 6a30bf1
   "id": "6a8e19aa",
=======
   "id": "a5216ff9",
>>>>>>> documentation-devel
=======
   "id": "a53a122b",
>>>>>>> c74c98c2450c2a1ba922ed9442f136238d6bc88b
||||||| 6d93b645
   "id": "77c53ee5",
=======
   "id": "0fed48e3",
>>>>>>> documentation-devel
||||||| 804edffb
<<<<<<< HEAD
<<<<<<< HEAD
<<<<<<< HEAD
   "id": "e1a62211",
||||||| 6a30bf1
   "id": "6a8e19aa",
=======
   "id": "a5216ff9",
>>>>>>> documentation-devel
||||||| d28b18c
   "id": "a5216ff9",
=======
   "id": "77c53ee5",
>>>>>>> documentation-devel
||||||| 6893f63
<<<<<<< HEAD
   "id": "e1a62211",
||||||| 6a30bf1
   "id": "6a8e19aa",
=======
   "id": "a5216ff9",
>>>>>>> documentation-devel
=======
   "id": "a53a122b",
>>>>>>> c74c98c2450c2a1ba922ed9442f136238d6bc88b
=======
   "id": "8ebe17a3",
>>>>>>> 035bb2637984ead2784fecff78c0c60cc4181202
||||||| 3effdfa5
   "id": "0fed48e3",
=======
   "id": "11bb8aab",
>>>>>>> documentation-devel
||||||| 96c826da
<<<<<<< HEAD
<<<<<<< HEAD
<<<<<<< HEAD
<<<<<<< HEAD
<<<<<<< HEAD
   "id": "e1a62211",
||||||| 6a30bf1
   "id": "6a8e19aa",
=======
   "id": "a5216ff9",
>>>>>>> documentation-devel
||||||| d28b18c
   "id": "a5216ff9",
=======
   "id": "77c53ee5",
>>>>>>> documentation-devel
||||||| 6893f63
<<<<<<< HEAD
   "id": "e1a62211",
||||||| 6a30bf1
   "id": "6a8e19aa",
=======
   "id": "a5216ff9",
>>>>>>> documentation-devel
=======
   "id": "a53a122b",
>>>>>>> c74c98c2450c2a1ba922ed9442f136238d6bc88b
||||||| 6d93b645
   "id": "77c53ee5",
=======
   "id": "0fed48e3",
>>>>>>> documentation-devel
||||||| 804edffb
<<<<<<< HEAD
<<<<<<< HEAD
<<<<<<< HEAD
   "id": "e1a62211",
||||||| 6a30bf1
   "id": "6a8e19aa",
=======
   "id": "a5216ff9",
>>>>>>> documentation-devel
||||||| d28b18c
   "id": "a5216ff9",
=======
   "id": "77c53ee5",
>>>>>>> documentation-devel
||||||| 6893f63
<<<<<<< HEAD
   "id": "e1a62211",
||||||| 6a30bf1
   "id": "6a8e19aa",
=======
   "id": "a5216ff9",
>>>>>>> documentation-devel
=======
   "id": "a53a122b",
>>>>>>> c74c98c2450c2a1ba922ed9442f136238d6bc88b
=======
   "id": "8ebe17a3",
>>>>>>> 035bb2637984ead2784fecff78c0c60cc4181202
=======
   "id": "0ca46b7b",
>>>>>>> 619c01f26351d57ac14d974b7af136ac5756103f
   "metadata": {},
   "outputs": [],
   "source": [
    "sfe <- addImg(sfe, file = \"tissue_lowres_5a.jpeg\", sample_id = \"Vis5A\", \n",
    "              image_id = \"lowres\", \n",
    "              scale_fct = 1024/22208)\n",
    "sfe <- mirrorImg(sfe, sample_id = \"Vis5A\", image_id = \"lowres\")"
   ]
  },
  {
   "cell_type": "code",
   "execution_count": null,
<<<<<<< HEAD
<<<<<<< HEAD
<<<<<<< HEAD
<<<<<<< HEAD
<<<<<<< HEAD
<<<<<<< HEAD
<<<<<<< HEAD
   "id": "f9c001e4",
||||||| 6a30bf1
   "id": "3c470826",
=======
   "id": "5530967b",
>>>>>>> documentation-devel
||||||| d28b18c
   "id": "5530967b",
=======
   "id": "ee8a3e7d",
>>>>>>> documentation-devel
||||||| 6893f63
<<<<<<< HEAD
   "id": "f9c001e4",
||||||| 6a30bf1
   "id": "3c470826",
=======
   "id": "5530967b",
>>>>>>> documentation-devel
=======
   "id": "cf028806",
>>>>>>> c74c98c2450c2a1ba922ed9442f136238d6bc88b
||||||| 6d93b645
   "id": "ee8a3e7d",
=======
   "id": "65bb8863",
>>>>>>> documentation-devel
||||||| 804edffb
<<<<<<< HEAD
<<<<<<< HEAD
<<<<<<< HEAD
   "id": "f9c001e4",
||||||| 6a30bf1
   "id": "3c470826",
=======
   "id": "5530967b",
>>>>>>> documentation-devel
||||||| d28b18c
   "id": "5530967b",
=======
   "id": "ee8a3e7d",
>>>>>>> documentation-devel
||||||| 6893f63
<<<<<<< HEAD
   "id": "f9c001e4",
||||||| 6a30bf1
   "id": "3c470826",
=======
   "id": "5530967b",
>>>>>>> documentation-devel
=======
   "id": "cf028806",
>>>>>>> c74c98c2450c2a1ba922ed9442f136238d6bc88b
=======
   "id": "7ea63194",
>>>>>>> 035bb2637984ead2784fecff78c0c60cc4181202
||||||| 3effdfa5
   "id": "65bb8863",
=======
   "id": "5d3140bc",
>>>>>>> documentation-devel
||||||| 96c826da
<<<<<<< HEAD
<<<<<<< HEAD
<<<<<<< HEAD
<<<<<<< HEAD
<<<<<<< HEAD
   "id": "f9c001e4",
||||||| 6a30bf1
   "id": "3c470826",
=======
   "id": "5530967b",
>>>>>>> documentation-devel
||||||| d28b18c
   "id": "5530967b",
=======
   "id": "ee8a3e7d",
>>>>>>> documentation-devel
||||||| 6893f63
<<<<<<< HEAD
   "id": "f9c001e4",
||||||| 6a30bf1
   "id": "3c470826",
=======
   "id": "5530967b",
>>>>>>> documentation-devel
=======
   "id": "cf028806",
>>>>>>> c74c98c2450c2a1ba922ed9442f136238d6bc88b
||||||| 6d93b645
   "id": "ee8a3e7d",
=======
   "id": "65bb8863",
>>>>>>> documentation-devel
||||||| 804edffb
<<<<<<< HEAD
<<<<<<< HEAD
<<<<<<< HEAD
   "id": "f9c001e4",
||||||| 6a30bf1
   "id": "3c470826",
=======
   "id": "5530967b",
>>>>>>> documentation-devel
||||||| d28b18c
   "id": "5530967b",
=======
   "id": "ee8a3e7d",
>>>>>>> documentation-devel
||||||| 6893f63
<<<<<<< HEAD
   "id": "f9c001e4",
||||||| 6a30bf1
   "id": "3c470826",
=======
   "id": "5530967b",
>>>>>>> documentation-devel
=======
   "id": "cf028806",
>>>>>>> c74c98c2450c2a1ba922ed9442f136238d6bc88b
=======
   "id": "7ea63194",
>>>>>>> 035bb2637984ead2784fecff78c0c60cc4181202
=======
   "id": "5e9a4eb7",
>>>>>>> 619c01f26351d57ac14d974b7af136ac5756103f
   "metadata": {},
   "outputs": [],
   "source": [
    "sfe_tissue <- sfe[,colData(sfe)$in_tissue]\n",
    "sfe_tissue <- sfe_tissue[rowSums(counts(sfe_tissue)) > 0,]"
   ]
  },
  {
   "cell_type": "code",
   "execution_count": null,
<<<<<<< HEAD
<<<<<<< HEAD
<<<<<<< HEAD
<<<<<<< HEAD
<<<<<<< HEAD
<<<<<<< HEAD
<<<<<<< HEAD
   "id": "b34e0864",
||||||| 6a30bf1
   "id": "10669b0d",
=======
   "id": "f4a59d2f",
>>>>>>> documentation-devel
||||||| d28b18c
   "id": "f4a59d2f",
=======
   "id": "29fe124e",
>>>>>>> documentation-devel
||||||| 6893f63
<<<<<<< HEAD
   "id": "b34e0864",
||||||| 6a30bf1
   "id": "10669b0d",
=======
   "id": "f4a59d2f",
>>>>>>> documentation-devel
=======
   "id": "cefb159a",
>>>>>>> c74c98c2450c2a1ba922ed9442f136238d6bc88b
||||||| 6d93b645
   "id": "29fe124e",
=======
   "id": "51e0847c",
>>>>>>> documentation-devel
||||||| 804edffb
<<<<<<< HEAD
<<<<<<< HEAD
<<<<<<< HEAD
   "id": "b34e0864",
||||||| 6a30bf1
   "id": "10669b0d",
=======
   "id": "f4a59d2f",
>>>>>>> documentation-devel
||||||| d28b18c
   "id": "f4a59d2f",
=======
   "id": "29fe124e",
>>>>>>> documentation-devel
||||||| 6893f63
<<<<<<< HEAD
   "id": "b34e0864",
||||||| 6a30bf1
   "id": "10669b0d",
=======
   "id": "f4a59d2f",
>>>>>>> documentation-devel
=======
   "id": "cefb159a",
>>>>>>> c74c98c2450c2a1ba922ed9442f136238d6bc88b
=======
   "id": "e1cf24e8",
>>>>>>> 035bb2637984ead2784fecff78c0c60cc4181202
||||||| 3effdfa5
   "id": "51e0847c",
=======
   "id": "db5cfa62",
>>>>>>> documentation-devel
||||||| 96c826da
<<<<<<< HEAD
<<<<<<< HEAD
<<<<<<< HEAD
<<<<<<< HEAD
<<<<<<< HEAD
   "id": "b34e0864",
||||||| 6a30bf1
   "id": "10669b0d",
=======
   "id": "f4a59d2f",
>>>>>>> documentation-devel
||||||| d28b18c
   "id": "f4a59d2f",
=======
   "id": "29fe124e",
>>>>>>> documentation-devel
||||||| 6893f63
<<<<<<< HEAD
   "id": "b34e0864",
||||||| 6a30bf1
   "id": "10669b0d",
=======
   "id": "f4a59d2f",
>>>>>>> documentation-devel
=======
   "id": "cefb159a",
>>>>>>> c74c98c2450c2a1ba922ed9442f136238d6bc88b
||||||| 6d93b645
   "id": "29fe124e",
=======
   "id": "51e0847c",
>>>>>>> documentation-devel
||||||| 804edffb
<<<<<<< HEAD
<<<<<<< HEAD
<<<<<<< HEAD
   "id": "b34e0864",
||||||| 6a30bf1
   "id": "10669b0d",
=======
   "id": "f4a59d2f",
>>>>>>> documentation-devel
||||||| d28b18c
   "id": "f4a59d2f",
=======
   "id": "29fe124e",
>>>>>>> documentation-devel
||||||| 6893f63
<<<<<<< HEAD
   "id": "b34e0864",
||||||| 6a30bf1
   "id": "10669b0d",
=======
   "id": "f4a59d2f",
>>>>>>> documentation-devel
=======
   "id": "cefb159a",
>>>>>>> c74c98c2450c2a1ba922ed9442f136238d6bc88b
=======
   "id": "e1cf24e8",
>>>>>>> 035bb2637984ead2784fecff78c0c60cc4181202
=======
   "id": "9a60ed90",
>>>>>>> 619c01f26351d57ac14d974b7af136ac5756103f
   "metadata": {},
   "outputs": [],
   "source": [
    "sfe_tissue <- logNormCounts(sfe_tissue)"
   ]
  },
  {
   "cell_type": "code",
   "execution_count": null,
<<<<<<< HEAD
<<<<<<< HEAD
<<<<<<< HEAD
<<<<<<< HEAD
<<<<<<< HEAD
<<<<<<< HEAD
<<<<<<< HEAD
   "id": "d81139c2",
||||||| 6a30bf1
   "id": "ef7963ce",
=======
   "id": "3ddd8a6e",
>>>>>>> documentation-devel
||||||| d28b18c
   "id": "3ddd8a6e",
=======
   "id": "1fa023ad",
>>>>>>> documentation-devel
||||||| 6893f63
<<<<<<< HEAD
   "id": "d81139c2",
||||||| 6a30bf1
   "id": "ef7963ce",
=======
   "id": "3ddd8a6e",
>>>>>>> documentation-devel
=======
   "id": "c6176210",
>>>>>>> c74c98c2450c2a1ba922ed9442f136238d6bc88b
||||||| 6d93b645
   "id": "1fa023ad",
=======
   "id": "874b1142",
>>>>>>> documentation-devel
||||||| 804edffb
<<<<<<< HEAD
<<<<<<< HEAD
<<<<<<< HEAD
   "id": "d81139c2",
||||||| 6a30bf1
   "id": "ef7963ce",
=======
   "id": "3ddd8a6e",
>>>>>>> documentation-devel
||||||| d28b18c
   "id": "3ddd8a6e",
=======
   "id": "1fa023ad",
>>>>>>> documentation-devel
||||||| 6893f63
<<<<<<< HEAD
   "id": "d81139c2",
||||||| 6a30bf1
   "id": "ef7963ce",
=======
   "id": "3ddd8a6e",
>>>>>>> documentation-devel
=======
   "id": "c6176210",
>>>>>>> c74c98c2450c2a1ba922ed9442f136238d6bc88b
=======
   "id": "beaae2b1",
>>>>>>> 035bb2637984ead2784fecff78c0c60cc4181202
||||||| 3effdfa5
   "id": "874b1142",
=======
   "id": "e918bcb1",
>>>>>>> documentation-devel
||||||| 96c826da
<<<<<<< HEAD
<<<<<<< HEAD
<<<<<<< HEAD
<<<<<<< HEAD
<<<<<<< HEAD
   "id": "d81139c2",
||||||| 6a30bf1
   "id": "ef7963ce",
=======
   "id": "3ddd8a6e",
>>>>>>> documentation-devel
||||||| d28b18c
   "id": "3ddd8a6e",
=======
   "id": "1fa023ad",
>>>>>>> documentation-devel
||||||| 6893f63
<<<<<<< HEAD
   "id": "d81139c2",
||||||| 6a30bf1
   "id": "ef7963ce",
=======
   "id": "3ddd8a6e",
>>>>>>> documentation-devel
=======
   "id": "c6176210",
>>>>>>> c74c98c2450c2a1ba922ed9442f136238d6bc88b
||||||| 6d93b645
   "id": "1fa023ad",
=======
   "id": "874b1142",
>>>>>>> documentation-devel
||||||| 804edffb
<<<<<<< HEAD
<<<<<<< HEAD
<<<<<<< HEAD
   "id": "d81139c2",
||||||| 6a30bf1
   "id": "ef7963ce",
=======
   "id": "3ddd8a6e",
>>>>>>> documentation-devel
||||||| d28b18c
   "id": "3ddd8a6e",
=======
   "id": "1fa023ad",
>>>>>>> documentation-devel
||||||| 6893f63
<<<<<<< HEAD
   "id": "d81139c2",
||||||| 6a30bf1
   "id": "ef7963ce",
=======
   "id": "3ddd8a6e",
>>>>>>> documentation-devel
=======
   "id": "c6176210",
>>>>>>> c74c98c2450c2a1ba922ed9442f136238d6bc88b
=======
   "id": "beaae2b1",
>>>>>>> 035bb2637984ead2784fecff78c0c60cc4181202
=======
   "id": "5775c8d0",
>>>>>>> 619c01f26351d57ac14d974b7af136ac5756103f
   "metadata": {},
   "outputs": [],
   "source": [
    "colGraph(sfe_tissue, \"visium\") <- findVisiumGraph(sfe_tissue)"
   ]
  },
  {
   "cell_type": "markdown",
<<<<<<< HEAD
<<<<<<< HEAD
<<<<<<< HEAD
<<<<<<< HEAD
<<<<<<< HEAD
<<<<<<< HEAD
<<<<<<< HEAD
   "id": "8338b813",
||||||| 6a30bf1
   "id": "88d4e74d",
=======
   "id": "f8e6146f",
>>>>>>> documentation-devel
||||||| d28b18c
   "id": "f8e6146f",
=======
   "id": "8946f6a6",
>>>>>>> documentation-devel
||||||| 6893f63
<<<<<<< HEAD
   "id": "8338b813",
||||||| 6a30bf1
   "id": "88d4e74d",
=======
   "id": "f8e6146f",
>>>>>>> documentation-devel
=======
   "id": "166c2bf1",
>>>>>>> c74c98c2450c2a1ba922ed9442f136238d6bc88b
||||||| 6d93b645
   "id": "8946f6a6",
=======
   "id": "53345593",
>>>>>>> documentation-devel
||||||| 804edffb
<<<<<<< HEAD
<<<<<<< HEAD
<<<<<<< HEAD
   "id": "8338b813",
||||||| 6a30bf1
   "id": "88d4e74d",
=======
   "id": "f8e6146f",
>>>>>>> documentation-devel
||||||| d28b18c
   "id": "f8e6146f",
=======
   "id": "8946f6a6",
>>>>>>> documentation-devel
||||||| 6893f63
<<<<<<< HEAD
   "id": "8338b813",
||||||| 6a30bf1
   "id": "88d4e74d",
=======
   "id": "f8e6146f",
>>>>>>> documentation-devel
=======
   "id": "166c2bf1",
>>>>>>> c74c98c2450c2a1ba922ed9442f136238d6bc88b
=======
   "id": "f6290e15",
>>>>>>> 035bb2637984ead2784fecff78c0c60cc4181202
||||||| 3effdfa5
   "id": "53345593",
=======
   "id": "427d48c2",
>>>>>>> documentation-devel
||||||| 96c826da
<<<<<<< HEAD
<<<<<<< HEAD
<<<<<<< HEAD
<<<<<<< HEAD
<<<<<<< HEAD
   "id": "8338b813",
||||||| 6a30bf1
   "id": "88d4e74d",
=======
   "id": "f8e6146f",
>>>>>>> documentation-devel
||||||| d28b18c
   "id": "f8e6146f",
=======
   "id": "8946f6a6",
>>>>>>> documentation-devel
||||||| 6893f63
<<<<<<< HEAD
   "id": "8338b813",
||||||| 6a30bf1
   "id": "88d4e74d",
=======
   "id": "f8e6146f",
>>>>>>> documentation-devel
=======
   "id": "166c2bf1",
>>>>>>> c74c98c2450c2a1ba922ed9442f136238d6bc88b
||||||| 6d93b645
   "id": "8946f6a6",
=======
   "id": "53345593",
>>>>>>> documentation-devel
||||||| 804edffb
<<<<<<< HEAD
<<<<<<< HEAD
<<<<<<< HEAD
   "id": "8338b813",
||||||| 6a30bf1
   "id": "88d4e74d",
=======
   "id": "f8e6146f",
>>>>>>> documentation-devel
||||||| d28b18c
   "id": "f8e6146f",
=======
   "id": "8946f6a6",
>>>>>>> documentation-devel
||||||| 6893f63
<<<<<<< HEAD
   "id": "8338b813",
||||||| 6a30bf1
   "id": "88d4e74d",
=======
   "id": "f8e6146f",
>>>>>>> documentation-devel
=======
   "id": "166c2bf1",
>>>>>>> c74c98c2450c2a1ba922ed9442f136238d6bc88b
=======
   "id": "f6290e15",
>>>>>>> 035bb2637984ead2784fecff78c0c60cc4181202
=======
   "id": "0d85a9a8",
>>>>>>> 619c01f26351d57ac14d974b7af136ac5756103f
   "metadata": {
    "lines_to_next_cell": 0
   },
   "source": [
    "# Gene expression\n",
    "Here we compute multivariate local C for top highly variagle genes (HVGs) in this dataset:"
   ]
  },
  {
   "cell_type": "code",
   "execution_count": null,
<<<<<<< HEAD
<<<<<<< HEAD
<<<<<<< HEAD
<<<<<<< HEAD
<<<<<<< HEAD
<<<<<<< HEAD
<<<<<<< HEAD
   "id": "56bd8025",
||||||| 6a30bf1
   "id": "dbf8df35",
=======
   "id": "4ef69b78",
>>>>>>> documentation-devel
||||||| d28b18c
   "id": "4ef69b78",
=======
   "id": "61ed7f39",
>>>>>>> documentation-devel
||||||| 6893f63
<<<<<<< HEAD
   "id": "56bd8025",
||||||| 6a30bf1
   "id": "dbf8df35",
=======
   "id": "4ef69b78",
>>>>>>> documentation-devel
=======
   "id": "ad87769d",
>>>>>>> c74c98c2450c2a1ba922ed9442f136238d6bc88b
||||||| 6d93b645
   "id": "61ed7f39",
=======
   "id": "f2470c9e",
>>>>>>> documentation-devel
||||||| 804edffb
<<<<<<< HEAD
<<<<<<< HEAD
<<<<<<< HEAD
   "id": "56bd8025",
||||||| 6a30bf1
   "id": "dbf8df35",
=======
   "id": "4ef69b78",
>>>>>>> documentation-devel
||||||| d28b18c
   "id": "4ef69b78",
=======
   "id": "61ed7f39",
>>>>>>> documentation-devel
||||||| 6893f63
<<<<<<< HEAD
   "id": "56bd8025",
||||||| 6a30bf1
   "id": "dbf8df35",
=======
   "id": "4ef69b78",
>>>>>>> documentation-devel
=======
   "id": "ad87769d",
>>>>>>> c74c98c2450c2a1ba922ed9442f136238d6bc88b
=======
   "id": "19bdaf19",
>>>>>>> 035bb2637984ead2784fecff78c0c60cc4181202
||||||| 3effdfa5
   "id": "f2470c9e",
=======
   "id": "4ce12188",
>>>>>>> documentation-devel
||||||| 96c826da
<<<<<<< HEAD
<<<<<<< HEAD
<<<<<<< HEAD
<<<<<<< HEAD
<<<<<<< HEAD
   "id": "56bd8025",
||||||| 6a30bf1
   "id": "dbf8df35",
=======
   "id": "4ef69b78",
>>>>>>> documentation-devel
||||||| d28b18c
   "id": "4ef69b78",
=======
   "id": "61ed7f39",
>>>>>>> documentation-devel
||||||| 6893f63
<<<<<<< HEAD
   "id": "56bd8025",
||||||| 6a30bf1
   "id": "dbf8df35",
=======
   "id": "4ef69b78",
>>>>>>> documentation-devel
=======
   "id": "ad87769d",
>>>>>>> c74c98c2450c2a1ba922ed9442f136238d6bc88b
||||||| 6d93b645
   "id": "61ed7f39",
=======
   "id": "f2470c9e",
>>>>>>> documentation-devel
||||||| 804edffb
<<<<<<< HEAD
<<<<<<< HEAD
<<<<<<< HEAD
   "id": "56bd8025",
||||||| 6a30bf1
   "id": "dbf8df35",
=======
   "id": "4ef69b78",
>>>>>>> documentation-devel
||||||| d28b18c
   "id": "4ef69b78",
=======
   "id": "61ed7f39",
>>>>>>> documentation-devel
||||||| 6893f63
<<<<<<< HEAD
   "id": "56bd8025",
||||||| 6a30bf1
   "id": "dbf8df35",
=======
   "id": "4ef69b78",
>>>>>>> documentation-devel
=======
   "id": "ad87769d",
>>>>>>> c74c98c2450c2a1ba922ed9442f136238d6bc88b
=======
   "id": "19bdaf19",
>>>>>>> 035bb2637984ead2784fecff78c0c60cc4181202
=======
   "id": "a5f9f208",
>>>>>>> 619c01f26351d57ac14d974b7af136ac5756103f
   "metadata": {},
   "outputs": [],
   "source": [
    "hvgs <- getTopHVGs(sfe_tissue, fdr.threshold = 0.01)"
   ]
  },
  {
   "cell_type": "code",
   "execution_count": null,
<<<<<<< HEAD
<<<<<<< HEAD
<<<<<<< HEAD
<<<<<<< HEAD
<<<<<<< HEAD
<<<<<<< HEAD
<<<<<<< HEAD
   "id": "cd863258",
||||||| 6a30bf1
   "id": "63930288",
=======
   "id": "62760a3b",
>>>>>>> documentation-devel
||||||| d28b18c
   "id": "62760a3b",
=======
   "id": "709730c2",
>>>>>>> documentation-devel
||||||| 6893f63
<<<<<<< HEAD
   "id": "cd863258",
||||||| 6a30bf1
   "id": "63930288",
=======
   "id": "62760a3b",
>>>>>>> documentation-devel
=======
   "id": "95dab91f",
>>>>>>> c74c98c2450c2a1ba922ed9442f136238d6bc88b
||||||| 6d93b645
   "id": "709730c2",
=======
   "id": "a3ee33fc",
>>>>>>> documentation-devel
||||||| 804edffb
<<<<<<< HEAD
<<<<<<< HEAD
<<<<<<< HEAD
   "id": "cd863258",
||||||| 6a30bf1
   "id": "63930288",
=======
   "id": "62760a3b",
>>>>>>> documentation-devel
||||||| d28b18c
   "id": "62760a3b",
=======
   "id": "709730c2",
>>>>>>> documentation-devel
||||||| 6893f63
<<<<<<< HEAD
   "id": "cd863258",
||||||| 6a30bf1
   "id": "63930288",
=======
   "id": "62760a3b",
>>>>>>> documentation-devel
=======
   "id": "95dab91f",
>>>>>>> c74c98c2450c2a1ba922ed9442f136238d6bc88b
=======
   "id": "d1a5db5c",
>>>>>>> 035bb2637984ead2784fecff78c0c60cc4181202
||||||| 3effdfa5
   "id": "a3ee33fc",
=======
   "id": "f3e7c119",
>>>>>>> documentation-devel
||||||| 96c826da
<<<<<<< HEAD
<<<<<<< HEAD
<<<<<<< HEAD
<<<<<<< HEAD
<<<<<<< HEAD
   "id": "cd863258",
||||||| 6a30bf1
   "id": "63930288",
=======
   "id": "62760a3b",
>>>>>>> documentation-devel
||||||| d28b18c
   "id": "62760a3b",
=======
   "id": "709730c2",
>>>>>>> documentation-devel
||||||| 6893f63
<<<<<<< HEAD
   "id": "cd863258",
||||||| 6a30bf1
   "id": "63930288",
=======
   "id": "62760a3b",
>>>>>>> documentation-devel
=======
   "id": "95dab91f",
>>>>>>> c74c98c2450c2a1ba922ed9442f136238d6bc88b
||||||| 6d93b645
   "id": "709730c2",
=======
   "id": "a3ee33fc",
>>>>>>> documentation-devel
||||||| 804edffb
<<<<<<< HEAD
<<<<<<< HEAD
<<<<<<< HEAD
   "id": "cd863258",
||||||| 6a30bf1
   "id": "63930288",
=======
   "id": "62760a3b",
>>>>>>> documentation-devel
||||||| d28b18c
   "id": "62760a3b",
=======
   "id": "709730c2",
>>>>>>> documentation-devel
||||||| 6893f63
<<<<<<< HEAD
   "id": "cd863258",
||||||| 6a30bf1
   "id": "63930288",
=======
   "id": "62760a3b",
>>>>>>> documentation-devel
=======
   "id": "95dab91f",
>>>>>>> c74c98c2450c2a1ba922ed9442f136238d6bc88b
=======
   "id": "d1a5db5c",
>>>>>>> 035bb2637984ead2784fecff78c0c60cc4181202
=======
   "id": "d5cae90d",
>>>>>>> 619c01f26351d57ac14d974b7af136ac5756103f
   "metadata": {},
   "outputs": [],
   "source": [
    "sfe_tissue <- runMultivariate(sfe_tissue, \"localC_perm_multi\", subset_row = hvgs)"
   ]
  },
  {
   "cell_type": "markdown",
<<<<<<< HEAD
<<<<<<< HEAD
<<<<<<< HEAD
<<<<<<< HEAD
<<<<<<< HEAD
<<<<<<< HEAD
<<<<<<< HEAD
   "id": "574f76b9",
||||||| 6a30bf1
   "id": "58987bad",
=======
   "id": "7d7d94b9",
>>>>>>> documentation-devel
||||||| d28b18c
   "id": "7d7d94b9",
=======
   "id": "d9bb8cd4",
>>>>>>> documentation-devel
||||||| 6893f63
<<<<<<< HEAD
   "id": "574f76b9",
||||||| 6a30bf1
   "id": "58987bad",
=======
   "id": "7d7d94b9",
>>>>>>> documentation-devel
=======
   "id": "a88d7c63",
>>>>>>> c74c98c2450c2a1ba922ed9442f136238d6bc88b
||||||| 6d93b645
   "id": "d9bb8cd4",
=======
   "id": "91c19e76",
>>>>>>> documentation-devel
||||||| 804edffb
<<<<<<< HEAD
<<<<<<< HEAD
<<<<<<< HEAD
   "id": "574f76b9",
||||||| 6a30bf1
   "id": "58987bad",
=======
   "id": "7d7d94b9",
>>>>>>> documentation-devel
||||||| d28b18c
   "id": "7d7d94b9",
=======
   "id": "d9bb8cd4",
>>>>>>> documentation-devel
||||||| 6893f63
<<<<<<< HEAD
   "id": "574f76b9",
||||||| 6a30bf1
   "id": "58987bad",
=======
   "id": "7d7d94b9",
>>>>>>> documentation-devel
=======
   "id": "a88d7c63",
>>>>>>> c74c98c2450c2a1ba922ed9442f136238d6bc88b
=======
   "id": "658d7fc4",
>>>>>>> 035bb2637984ead2784fecff78c0c60cc4181202
||||||| 3effdfa5
   "id": "91c19e76",
=======
   "id": "6b1425e1",
>>>>>>> documentation-devel
||||||| 96c826da
<<<<<<< HEAD
<<<<<<< HEAD
<<<<<<< HEAD
<<<<<<< HEAD
<<<<<<< HEAD
   "id": "574f76b9",
||||||| 6a30bf1
   "id": "58987bad",
=======
   "id": "7d7d94b9",
>>>>>>> documentation-devel
||||||| d28b18c
   "id": "7d7d94b9",
=======
   "id": "d9bb8cd4",
>>>>>>> documentation-devel
||||||| 6893f63
<<<<<<< HEAD
   "id": "574f76b9",
||||||| 6a30bf1
   "id": "58987bad",
=======
   "id": "7d7d94b9",
>>>>>>> documentation-devel
=======
   "id": "a88d7c63",
>>>>>>> c74c98c2450c2a1ba922ed9442f136238d6bc88b
||||||| 6d93b645
   "id": "d9bb8cd4",
=======
   "id": "91c19e76",
>>>>>>> documentation-devel
||||||| 804edffb
<<<<<<< HEAD
<<<<<<< HEAD
<<<<<<< HEAD
   "id": "574f76b9",
||||||| 6a30bf1
   "id": "58987bad",
=======
   "id": "7d7d94b9",
>>>>>>> documentation-devel
||||||| d28b18c
   "id": "7d7d94b9",
=======
   "id": "d9bb8cd4",
>>>>>>> documentation-devel
||||||| 6893f63
<<<<<<< HEAD
   "id": "574f76b9",
||||||| 6a30bf1
   "id": "58987bad",
=======
   "id": "7d7d94b9",
>>>>>>> documentation-devel
=======
   "id": "a88d7c63",
>>>>>>> c74c98c2450c2a1ba922ed9442f136238d6bc88b
=======
   "id": "658d7fc4",
>>>>>>> 035bb2637984ead2784fecff78c0c60cc4181202
=======
   "id": "b4b3b648",
>>>>>>> 619c01f26351d57ac14d974b7af136ac5756103f
   "metadata": {
    "lines_to_next_cell": 0
   },
   "source": [
    "The results are stored in `reducedDim` although it's not really a dimension reduction. It can also go into `colData` if `dest = \"colData\"`. The test is two sided, but the `alternative` argument can be set to \"greater\" to only test for positive spatial autocorrelation and \"less\" for negative spatial autocorrelation."
   ]
  },
  {
   "cell_type": "code",
   "execution_count": null,
<<<<<<< HEAD
<<<<<<< HEAD
<<<<<<< HEAD
<<<<<<< HEAD
<<<<<<< HEAD
<<<<<<< HEAD
<<<<<<< HEAD
   "id": "3b62c775",
||||||| 6a30bf1
   "id": "a4279cc5",
=======
   "id": "9ab819de",
>>>>>>> documentation-devel
||||||| d28b18c
   "id": "9ab819de",
=======
   "id": "2c088d23",
>>>>>>> documentation-devel
||||||| 6893f63
<<<<<<< HEAD
   "id": "3b62c775",
||||||| 6a30bf1
   "id": "a4279cc5",
=======
   "id": "9ab819de",
>>>>>>> documentation-devel
=======
   "id": "c1f01859",
>>>>>>> c74c98c2450c2a1ba922ed9442f136238d6bc88b
||||||| 6d93b645
   "id": "2c088d23",
=======
   "id": "3401ce79",
>>>>>>> documentation-devel
||||||| 804edffb
<<<<<<< HEAD
<<<<<<< HEAD
<<<<<<< HEAD
   "id": "3b62c775",
||||||| 6a30bf1
   "id": "a4279cc5",
=======
   "id": "9ab819de",
>>>>>>> documentation-devel
||||||| d28b18c
   "id": "9ab819de",
=======
   "id": "2c088d23",
>>>>>>> documentation-devel
||||||| 6893f63
<<<<<<< HEAD
   "id": "3b62c775",
||||||| 6a30bf1
   "id": "a4279cc5",
=======
   "id": "9ab819de",
>>>>>>> documentation-devel
=======
   "id": "c1f01859",
>>>>>>> c74c98c2450c2a1ba922ed9442f136238d6bc88b
=======
   "id": "dc2745c7",
>>>>>>> 035bb2637984ead2784fecff78c0c60cc4181202
||||||| 3effdfa5
   "id": "3401ce79",
=======
   "id": "76a4b7b7",
>>>>>>> documentation-devel
||||||| 96c826da
<<<<<<< HEAD
<<<<<<< HEAD
<<<<<<< HEAD
<<<<<<< HEAD
<<<<<<< HEAD
   "id": "3b62c775",
||||||| 6a30bf1
   "id": "a4279cc5",
=======
   "id": "9ab819de",
>>>>>>> documentation-devel
||||||| d28b18c
   "id": "9ab819de",
=======
   "id": "2c088d23",
>>>>>>> documentation-devel
||||||| 6893f63
<<<<<<< HEAD
   "id": "3b62c775",
||||||| 6a30bf1
   "id": "a4279cc5",
=======
   "id": "9ab819de",
>>>>>>> documentation-devel
=======
   "id": "c1f01859",
>>>>>>> c74c98c2450c2a1ba922ed9442f136238d6bc88b
||||||| 6d93b645
   "id": "2c088d23",
=======
   "id": "3401ce79",
>>>>>>> documentation-devel
||||||| 804edffb
<<<<<<< HEAD
<<<<<<< HEAD
<<<<<<< HEAD
   "id": "3b62c775",
||||||| 6a30bf1
   "id": "a4279cc5",
=======
   "id": "9ab819de",
>>>>>>> documentation-devel
||||||| d28b18c
   "id": "9ab819de",
=======
   "id": "2c088d23",
>>>>>>> documentation-devel
||||||| 6893f63
<<<<<<< HEAD
   "id": "3b62c775",
||||||| 6a30bf1
   "id": "a4279cc5",
=======
   "id": "9ab819de",
>>>>>>> documentation-devel
=======
   "id": "c1f01859",
>>>>>>> c74c98c2450c2a1ba922ed9442f136238d6bc88b
=======
   "id": "dc2745c7",
>>>>>>> 035bb2637984ead2784fecff78c0c60cc4181202
=======
   "id": "eb457167",
>>>>>>> 619c01f26351d57ac14d974b7af136ac5756103f
   "metadata": {},
   "outputs": [],
   "source": [
    "names(reducedDim(sfe_tissue, \"localC_perm_multi\"))"
   ]
  },
  {
   "cell_type": "code",
   "execution_count": null,
<<<<<<< HEAD
<<<<<<< HEAD
<<<<<<< HEAD
<<<<<<< HEAD
<<<<<<< HEAD
<<<<<<< HEAD
<<<<<<< HEAD
   "id": "de9f6359",
||||||| 6a30bf1
   "id": "1f4916b6",
=======
   "id": "6315b53c",
>>>>>>> documentation-devel
||||||| d28b18c
   "id": "6315b53c",
=======
   "id": "e6714117",
>>>>>>> documentation-devel
||||||| 6893f63
<<<<<<< HEAD
   "id": "de9f6359",
||||||| 6a30bf1
   "id": "1f4916b6",
=======
   "id": "6315b53c",
>>>>>>> documentation-devel
=======
   "id": "0cbdb029",
>>>>>>> c74c98c2450c2a1ba922ed9442f136238d6bc88b
||||||| 6d93b645
   "id": "e6714117",
=======
   "id": "fe2ac198",
>>>>>>> documentation-devel
||||||| 804edffb
<<<<<<< HEAD
<<<<<<< HEAD
<<<<<<< HEAD
   "id": "de9f6359",
||||||| 6a30bf1
   "id": "1f4916b6",
=======
   "id": "6315b53c",
>>>>>>> documentation-devel
||||||| d28b18c
   "id": "6315b53c",
=======
   "id": "e6714117",
>>>>>>> documentation-devel
||||||| 6893f63
<<<<<<< HEAD
   "id": "de9f6359",
||||||| 6a30bf1
   "id": "1f4916b6",
=======
   "id": "6315b53c",
>>>>>>> documentation-devel
=======
   "id": "0cbdb029",
>>>>>>> c74c98c2450c2a1ba922ed9442f136238d6bc88b
=======
   "id": "8a174911",
>>>>>>> 035bb2637984ead2784fecff78c0c60cc4181202
||||||| 3effdfa5
   "id": "fe2ac198",
=======
   "id": "1d756ba4",
>>>>>>> documentation-devel
||||||| 96c826da
<<<<<<< HEAD
<<<<<<< HEAD
<<<<<<< HEAD
<<<<<<< HEAD
<<<<<<< HEAD
   "id": "de9f6359",
||||||| 6a30bf1
   "id": "1f4916b6",
=======
   "id": "6315b53c",
>>>>>>> documentation-devel
||||||| d28b18c
   "id": "6315b53c",
=======
   "id": "e6714117",
>>>>>>> documentation-devel
||||||| 6893f63
<<<<<<< HEAD
   "id": "de9f6359",
||||||| 6a30bf1
   "id": "1f4916b6",
=======
   "id": "6315b53c",
>>>>>>> documentation-devel
=======
   "id": "0cbdb029",
>>>>>>> c74c98c2450c2a1ba922ed9442f136238d6bc88b
||||||| 6d93b645
   "id": "e6714117",
=======
   "id": "fe2ac198",
>>>>>>> documentation-devel
||||||| 804edffb
<<<<<<< HEAD
<<<<<<< HEAD
<<<<<<< HEAD
   "id": "de9f6359",
||||||| 6a30bf1
   "id": "1f4916b6",
=======
   "id": "6315b53c",
>>>>>>> documentation-devel
||||||| d28b18c
   "id": "6315b53c",
=======
   "id": "e6714117",
>>>>>>> documentation-devel
||||||| 6893f63
<<<<<<< HEAD
   "id": "de9f6359",
||||||| 6a30bf1
   "id": "1f4916b6",
=======
   "id": "6315b53c",
>>>>>>> documentation-devel
=======
   "id": "0cbdb029",
>>>>>>> c74c98c2450c2a1ba922ed9442f136238d6bc88b
=======
   "id": "8a174911",
>>>>>>> 035bb2637984ead2784fecff78c0c60cc4181202
=======
   "id": "5f026a84",
>>>>>>> 619c01f26351d57ac14d974b7af136ac5756103f
   "metadata": {},
   "outputs": [],
   "source": [
    "spatialReducedDim(sfe_tissue, \"localC_perm_multi\", c(1, 12),\n",
    "                  image_id = \"lowres\", maxcell = 5e4)"
   ]
  },
  {
   "cell_type": "markdown",
<<<<<<< HEAD
<<<<<<< HEAD
<<<<<<< HEAD
<<<<<<< HEAD
<<<<<<< HEAD
<<<<<<< HEAD
<<<<<<< HEAD
   "id": "4548a28e",
||||||| 6a30bf1
   "id": "700f35ca",
=======
   "id": "a80a47c6",
>>>>>>> documentation-devel
||||||| d28b18c
   "id": "a80a47c6",
=======
   "id": "4b66a420",
>>>>>>> documentation-devel
||||||| 6893f63
<<<<<<< HEAD
   "id": "4548a28e",
||||||| 6a30bf1
   "id": "700f35ca",
=======
   "id": "a80a47c6",
>>>>>>> documentation-devel
=======
   "id": "70f908d7",
>>>>>>> c74c98c2450c2a1ba922ed9442f136238d6bc88b
||||||| 6d93b645
   "id": "4b66a420",
=======
   "id": "bee7d06d",
>>>>>>> documentation-devel
||||||| 804edffb
<<<<<<< HEAD
<<<<<<< HEAD
<<<<<<< HEAD
   "id": "4548a28e",
||||||| 6a30bf1
   "id": "700f35ca",
=======
   "id": "a80a47c6",
>>>>>>> documentation-devel
||||||| d28b18c
   "id": "a80a47c6",
=======
   "id": "4b66a420",
>>>>>>> documentation-devel
||||||| 6893f63
<<<<<<< HEAD
   "id": "4548a28e",
||||||| 6a30bf1
   "id": "700f35ca",
=======
   "id": "a80a47c6",
>>>>>>> documentation-devel
=======
   "id": "70f908d7",
>>>>>>> c74c98c2450c2a1ba922ed9442f136238d6bc88b
=======
   "id": "c1786297",
>>>>>>> 035bb2637984ead2784fecff78c0c60cc4181202
||||||| 3effdfa5
   "id": "bee7d06d",
=======
   "id": "59c2b31e",
>>>>>>> documentation-devel
||||||| 96c826da
<<<<<<< HEAD
<<<<<<< HEAD
<<<<<<< HEAD
<<<<<<< HEAD
<<<<<<< HEAD
   "id": "4548a28e",
||||||| 6a30bf1
   "id": "700f35ca",
=======
   "id": "a80a47c6",
>>>>>>> documentation-devel
||||||| d28b18c
   "id": "a80a47c6",
=======
   "id": "4b66a420",
>>>>>>> documentation-devel
||||||| 6893f63
<<<<<<< HEAD
   "id": "4548a28e",
||||||| 6a30bf1
   "id": "700f35ca",
=======
   "id": "a80a47c6",
>>>>>>> documentation-devel
=======
   "id": "70f908d7",
>>>>>>> c74c98c2450c2a1ba922ed9442f136238d6bc88b
||||||| 6d93b645
   "id": "4b66a420",
=======
   "id": "bee7d06d",
>>>>>>> documentation-devel
||||||| 804edffb
<<<<<<< HEAD
<<<<<<< HEAD
<<<<<<< HEAD
   "id": "4548a28e",
||||||| 6a30bf1
   "id": "700f35ca",
=======
   "id": "a80a47c6",
>>>>>>> documentation-devel
||||||| d28b18c
   "id": "a80a47c6",
=======
   "id": "4b66a420",
>>>>>>> documentation-devel
||||||| 6893f63
<<<<<<< HEAD
   "id": "4548a28e",
||||||| 6a30bf1
   "id": "700f35ca",
=======
   "id": "a80a47c6",
>>>>>>> documentation-devel
=======
   "id": "70f908d7",
>>>>>>> c74c98c2450c2a1ba922ed9442f136238d6bc88b
=======
   "id": "c1786297",
>>>>>>> 035bb2637984ead2784fecff78c0c60cc4181202
=======
   "id": "908cdfcb",
>>>>>>> 619c01f26351d57ac14d974b7af136ac5756103f
   "metadata": {},
   "source": [
    "In Geary's C, a value below 1 indicates positive spatial autocorrelation and a value above 1 indicates negative spatial autocorrelation. Local Geary's C is not scaled, but from the square difference expression, a low value means a more homogeneous neighborhood and a high value means a more heterogeneous neighborhood. Here considering all 341 top HVGs, the muscle tendon junction and the unjury site are more heterogeneous, which is detected as negative cluster.\n",
    "\n",
    "Permutation testing was performed, although Anselin noted that the pseudo-p-values should only be taken as indicative of _interesting_ regions and should not be interpreted in a strict sense."
   ]
  },
  {
   "cell_type": "code",
   "execution_count": null,
<<<<<<< HEAD
<<<<<<< HEAD
<<<<<<< HEAD
<<<<<<< HEAD
<<<<<<< HEAD
<<<<<<< HEAD
<<<<<<< HEAD
   "id": "40a5366c",
||||||| 6a30bf1
   "id": "f7168aae",
=======
   "id": "5b0f8243",
>>>>>>> documentation-devel
||||||| d28b18c
   "id": "5b0f8243",
=======
   "id": "6d78f97e",
>>>>>>> documentation-devel
||||||| 6893f63
<<<<<<< HEAD
   "id": "40a5366c",
||||||| 6a30bf1
   "id": "f7168aae",
=======
   "id": "5b0f8243",
>>>>>>> documentation-devel
=======
   "id": "544d06ab",
>>>>>>> c74c98c2450c2a1ba922ed9442f136238d6bc88b
||||||| 6d93b645
   "id": "6d78f97e",
=======
   "id": "c1f0e784",
>>>>>>> documentation-devel
||||||| 804edffb
<<<<<<< HEAD
<<<<<<< HEAD
<<<<<<< HEAD
   "id": "40a5366c",
||||||| 6a30bf1
   "id": "f7168aae",
=======
   "id": "5b0f8243",
>>>>>>> documentation-devel
||||||| d28b18c
   "id": "5b0f8243",
=======
   "id": "6d78f97e",
>>>>>>> documentation-devel
||||||| 6893f63
<<<<<<< HEAD
   "id": "40a5366c",
||||||| 6a30bf1
   "id": "f7168aae",
=======
   "id": "5b0f8243",
>>>>>>> documentation-devel
=======
   "id": "544d06ab",
>>>>>>> c74c98c2450c2a1ba922ed9442f136238d6bc88b
=======
   "id": "a11e7b9d",
>>>>>>> 035bb2637984ead2784fecff78c0c60cc4181202
||||||| 3effdfa5
   "id": "c1f0e784",
=======
   "id": "d8b8d951",
>>>>>>> documentation-devel
||||||| 96c826da
<<<<<<< HEAD
<<<<<<< HEAD
<<<<<<< HEAD
<<<<<<< HEAD
<<<<<<< HEAD
   "id": "40a5366c",
||||||| 6a30bf1
   "id": "f7168aae",
=======
   "id": "5b0f8243",
>>>>>>> documentation-devel
||||||| d28b18c
   "id": "5b0f8243",
=======
   "id": "6d78f97e",
>>>>>>> documentation-devel
||||||| 6893f63
<<<<<<< HEAD
   "id": "40a5366c",
||||||| 6a30bf1
   "id": "f7168aae",
=======
   "id": "5b0f8243",
>>>>>>> documentation-devel
=======
   "id": "544d06ab",
>>>>>>> c74c98c2450c2a1ba922ed9442f136238d6bc88b
||||||| 6d93b645
   "id": "6d78f97e",
=======
   "id": "c1f0e784",
>>>>>>> documentation-devel
||||||| 804edffb
<<<<<<< HEAD
<<<<<<< HEAD
<<<<<<< HEAD
   "id": "40a5366c",
||||||| 6a30bf1
   "id": "f7168aae",
=======
   "id": "5b0f8243",
>>>>>>> documentation-devel
||||||| d28b18c
   "id": "5b0f8243",
=======
   "id": "6d78f97e",
>>>>>>> documentation-devel
||||||| 6893f63
<<<<<<< HEAD
   "id": "40a5366c",
||||||| 6a30bf1
   "id": "f7168aae",
=======
   "id": "5b0f8243",
>>>>>>> documentation-devel
=======
   "id": "544d06ab",
>>>>>>> c74c98c2450c2a1ba922ed9442f136238d6bc88b
=======
   "id": "a11e7b9d",
>>>>>>> 035bb2637984ead2784fecff78c0c60cc4181202
=======
   "id": "d7021e76",
>>>>>>> 619c01f26351d57ac14d974b7af136ac5756103f
   "metadata": {},
   "outputs": [],
   "source": [
    "spatialReducedDim(sfe_tissue, \"localC_perm_multi\", c(11, 12),\n",
    "                  image_id = \"lowres\", maxcell = 5e4, \n",
    "                  divergent = TRUE, diverge_center = -log10(0.05))"
   ]
  },
  {
   "cell_type": "markdown",
<<<<<<< HEAD
<<<<<<< HEAD
<<<<<<< HEAD
<<<<<<< HEAD
<<<<<<< HEAD
<<<<<<< HEAD
<<<<<<< HEAD
   "id": "ca66288f",
||||||| 6a30bf1
   "id": "2363dfd0",
=======
   "id": "4e220615",
>>>>>>> documentation-devel
||||||| d28b18c
   "id": "4e220615",
=======
   "id": "0e1d339e",
>>>>>>> documentation-devel
||||||| 6893f63
<<<<<<< HEAD
   "id": "ca66288f",
||||||| 6a30bf1
   "id": "2363dfd0",
=======
   "id": "4e220615",
>>>>>>> documentation-devel
=======
   "id": "0948f7e5",
>>>>>>> c74c98c2450c2a1ba922ed9442f136238d6bc88b
||||||| 6d93b645
   "id": "0e1d339e",
=======
   "id": "8eafe0c8",
>>>>>>> documentation-devel
||||||| 804edffb
<<<<<<< HEAD
<<<<<<< HEAD
<<<<<<< HEAD
   "id": "ca66288f",
||||||| 6a30bf1
   "id": "2363dfd0",
=======
   "id": "4e220615",
>>>>>>> documentation-devel
||||||| d28b18c
   "id": "4e220615",
=======
   "id": "0e1d339e",
>>>>>>> documentation-devel
||||||| 6893f63
<<<<<<< HEAD
   "id": "ca66288f",
||||||| 6a30bf1
   "id": "2363dfd0",
=======
   "id": "4e220615",
>>>>>>> documentation-devel
=======
   "id": "0948f7e5",
>>>>>>> c74c98c2450c2a1ba922ed9442f136238d6bc88b
=======
   "id": "c6c278df",
>>>>>>> 035bb2637984ead2784fecff78c0c60cc4181202
||||||| 3effdfa5
   "id": "8eafe0c8",
=======
   "id": "0cafde1f",
>>>>>>> documentation-devel
||||||| 96c826da
<<<<<<< HEAD
<<<<<<< HEAD
<<<<<<< HEAD
<<<<<<< HEAD
<<<<<<< HEAD
   "id": "ca66288f",
||||||| 6a30bf1
   "id": "2363dfd0",
=======
   "id": "4e220615",
>>>>>>> documentation-devel
||||||| d28b18c
   "id": "4e220615",
=======
   "id": "0e1d339e",
>>>>>>> documentation-devel
||||||| 6893f63
<<<<<<< HEAD
   "id": "ca66288f",
||||||| 6a30bf1
   "id": "2363dfd0",
=======
   "id": "4e220615",
>>>>>>> documentation-devel
=======
   "id": "0948f7e5",
>>>>>>> c74c98c2450c2a1ba922ed9442f136238d6bc88b
||||||| 6d93b645
   "id": "0e1d339e",
=======
   "id": "8eafe0c8",
>>>>>>> documentation-devel
||||||| 804edffb
<<<<<<< HEAD
<<<<<<< HEAD
<<<<<<< HEAD
   "id": "ca66288f",
||||||| 6a30bf1
   "id": "2363dfd0",
=======
   "id": "4e220615",
>>>>>>> documentation-devel
||||||| d28b18c
   "id": "4e220615",
=======
   "id": "0e1d339e",
>>>>>>> documentation-devel
||||||| 6893f63
<<<<<<< HEAD
   "id": "ca66288f",
||||||| 6a30bf1
   "id": "2363dfd0",
=======
   "id": "4e220615",
>>>>>>> documentation-devel
=======
   "id": "0948f7e5",
>>>>>>> c74c98c2450c2a1ba922ed9442f136238d6bc88b
=======
   "id": "c6c278df",
>>>>>>> 035bb2637984ead2784fecff78c0c60cc4181202
=======
   "id": "c5aad0dc",
>>>>>>> 619c01f26351d57ac14d974b7af136ac5756103f
   "metadata": {},
   "source": [
    "Warm colors indicate adjusted p < 0.05. This should be interpreted along with the clusters. In this dataset, there are interestingly homogeneous regions in the myofibers, and an interestingly heterogeneous region in the injury site. Most of the significant regions are positive cluster, but the center of the injury site is significant and is negative cluster.\n",
    "\n",
    "# Top principal components\n",
    "Because multivariate local Geary's C is a spatially weighted sum of squared distances between locations in feature space, it's affected by the curse of dimensionality when used on a large number of features, when uniformly distributed data points in higher dimensions become more equidistant to each other with increasing number of dimensions. However, real data is not uniformly distributed and can have a much smaller effective dimension than the number of features, as many genes are co-regulated. Anselin suggested using the main principal components, but the issue of curse of dimensionality remains to be further investigated. Furthermore, as the cosine and Manhattan distances have been suggested to mitigate curse of dimensionality, I wonder what if I use these instead of the Euclidean distance in feature space for multivariate local Geary's C.\n",
    "\n",
    "So here we perform multivariate local Geary's C on the top PCs:"
   ]
  },
  {
   "cell_type": "code",
   "execution_count": null,
<<<<<<< HEAD
<<<<<<< HEAD
<<<<<<< HEAD
<<<<<<< HEAD
<<<<<<< HEAD
<<<<<<< HEAD
<<<<<<< HEAD
   "id": "0c29e3e8",
||||||| 6a30bf1
   "id": "75566122",
=======
   "id": "2ae52a17",
>>>>>>> documentation-devel
||||||| d28b18c
   "id": "2ae52a17",
=======
   "id": "e634246d",
>>>>>>> documentation-devel
||||||| 6893f63
<<<<<<< HEAD
   "id": "0c29e3e8",
||||||| 6a30bf1
   "id": "75566122",
=======
   "id": "2ae52a17",
>>>>>>> documentation-devel
=======
   "id": "e98de2d4",
>>>>>>> c74c98c2450c2a1ba922ed9442f136238d6bc88b
||||||| 6d93b645
   "id": "e634246d",
=======
   "id": "85900ceb",
>>>>>>> documentation-devel
||||||| 804edffb
<<<<<<< HEAD
<<<<<<< HEAD
<<<<<<< HEAD
   "id": "0c29e3e8",
||||||| 6a30bf1
   "id": "75566122",
=======
   "id": "2ae52a17",
>>>>>>> documentation-devel
||||||| d28b18c
   "id": "2ae52a17",
=======
   "id": "e634246d",
>>>>>>> documentation-devel
||||||| 6893f63
<<<<<<< HEAD
   "id": "0c29e3e8",
||||||| 6a30bf1
   "id": "75566122",
=======
   "id": "2ae52a17",
>>>>>>> documentation-devel
=======
   "id": "e98de2d4",
>>>>>>> c74c98c2450c2a1ba922ed9442f136238d6bc88b
=======
   "id": "5b48e271",
>>>>>>> 035bb2637984ead2784fecff78c0c60cc4181202
||||||| 3effdfa5
   "id": "85900ceb",
=======
   "id": "3e7eb1c0",
>>>>>>> documentation-devel
||||||| 96c826da
<<<<<<< HEAD
<<<<<<< HEAD
<<<<<<< HEAD
<<<<<<< HEAD
<<<<<<< HEAD
   "id": "0c29e3e8",
||||||| 6a30bf1
   "id": "75566122",
=======
   "id": "2ae52a17",
>>>>>>> documentation-devel
||||||| d28b18c
   "id": "2ae52a17",
=======
   "id": "e634246d",
>>>>>>> documentation-devel
||||||| 6893f63
<<<<<<< HEAD
   "id": "0c29e3e8",
||||||| 6a30bf1
   "id": "75566122",
=======
   "id": "2ae52a17",
>>>>>>> documentation-devel
=======
   "id": "e98de2d4",
>>>>>>> c74c98c2450c2a1ba922ed9442f136238d6bc88b
||||||| 6d93b645
   "id": "e634246d",
=======
   "id": "85900ceb",
>>>>>>> documentation-devel
||||||| 804edffb
<<<<<<< HEAD
<<<<<<< HEAD
<<<<<<< HEAD
   "id": "0c29e3e8",
||||||| 6a30bf1
   "id": "75566122",
=======
   "id": "2ae52a17",
>>>>>>> documentation-devel
||||||| d28b18c
   "id": "2ae52a17",
=======
   "id": "e634246d",
>>>>>>> documentation-devel
||||||| 6893f63
<<<<<<< HEAD
   "id": "0c29e3e8",
||||||| 6a30bf1
   "id": "75566122",
=======
   "id": "2ae52a17",
>>>>>>> documentation-devel
=======
   "id": "e98de2d4",
>>>>>>> c74c98c2450c2a1ba922ed9442f136238d6bc88b
=======
   "id": "5b48e271",
>>>>>>> 035bb2637984ead2784fecff78c0c60cc4181202
=======
   "id": "55e7be55",
>>>>>>> 619c01f26351d57ac14d974b7af136ac5756103f
   "metadata": {},
   "outputs": [],
   "source": [
    "sfe_tissue <- runPCA(sfe_tissue, ncomponents = 20, scale = TRUE)"
   ]
  },
  {
   "cell_type": "code",
   "execution_count": null,
<<<<<<< HEAD
<<<<<<< HEAD
<<<<<<< HEAD
<<<<<<< HEAD
<<<<<<< HEAD
<<<<<<< HEAD
<<<<<<< HEAD
   "id": "15fb5219",
||||||| 6a30bf1
   "id": "0bbc2564",
=======
   "id": "74b662d1",
>>>>>>> documentation-devel
||||||| d28b18c
   "id": "74b662d1",
=======
   "id": "8f80d576",
>>>>>>> documentation-devel
||||||| 6893f63
<<<<<<< HEAD
   "id": "15fb5219",
||||||| 6a30bf1
   "id": "0bbc2564",
=======
   "id": "74b662d1",
>>>>>>> documentation-devel
=======
   "id": "0f85233d",
>>>>>>> c74c98c2450c2a1ba922ed9442f136238d6bc88b
||||||| 6d93b645
   "id": "8f80d576",
=======
   "id": "cae595ff",
>>>>>>> documentation-devel
||||||| 804edffb
<<<<<<< HEAD
<<<<<<< HEAD
<<<<<<< HEAD
   "id": "15fb5219",
||||||| 6a30bf1
   "id": "0bbc2564",
=======
   "id": "74b662d1",
>>>>>>> documentation-devel
||||||| d28b18c
   "id": "74b662d1",
=======
   "id": "8f80d576",
>>>>>>> documentation-devel
||||||| 6893f63
<<<<<<< HEAD
   "id": "15fb5219",
||||||| 6a30bf1
   "id": "0bbc2564",
=======
   "id": "74b662d1",
>>>>>>> documentation-devel
=======
   "id": "0f85233d",
>>>>>>> c74c98c2450c2a1ba922ed9442f136238d6bc88b
=======
   "id": "7ef3d1f3",
>>>>>>> 035bb2637984ead2784fecff78c0c60cc4181202
||||||| 3effdfa5
   "id": "cae595ff",
=======
   "id": "244c0a75",
>>>>>>> documentation-devel
||||||| 96c826da
<<<<<<< HEAD
<<<<<<< HEAD
<<<<<<< HEAD
<<<<<<< HEAD
<<<<<<< HEAD
   "id": "15fb5219",
||||||| 6a30bf1
   "id": "0bbc2564",
=======
   "id": "74b662d1",
>>>>>>> documentation-devel
||||||| d28b18c
   "id": "74b662d1",
=======
   "id": "8f80d576",
>>>>>>> documentation-devel
||||||| 6893f63
<<<<<<< HEAD
   "id": "15fb5219",
||||||| 6a30bf1
   "id": "0bbc2564",
=======
   "id": "74b662d1",
>>>>>>> documentation-devel
=======
   "id": "0f85233d",
>>>>>>> c74c98c2450c2a1ba922ed9442f136238d6bc88b
||||||| 6d93b645
   "id": "8f80d576",
=======
   "id": "cae595ff",
>>>>>>> documentation-devel
||||||| 804edffb
<<<<<<< HEAD
<<<<<<< HEAD
<<<<<<< HEAD
   "id": "15fb5219",
||||||| 6a30bf1
   "id": "0bbc2564",
=======
   "id": "74b662d1",
>>>>>>> documentation-devel
||||||| d28b18c
   "id": "74b662d1",
=======
   "id": "8f80d576",
>>>>>>> documentation-devel
||||||| 6893f63
<<<<<<< HEAD
   "id": "15fb5219",
||||||| 6a30bf1
   "id": "0bbc2564",
=======
   "id": "74b662d1",
>>>>>>> documentation-devel
=======
   "id": "0f85233d",
>>>>>>> c74c98c2450c2a1ba922ed9442f136238d6bc88b
=======
   "id": "7ef3d1f3",
>>>>>>> 035bb2637984ead2784fecff78c0c60cc4181202
=======
   "id": "e42d3cfe",
>>>>>>> 619c01f26351d57ac14d974b7af136ac5756103f
   "metadata": {},
   "outputs": [],
   "source": [
    "ElbowPlot(sfe_tissue)"
   ]
  },
  {
   "cell_type": "markdown",
<<<<<<< HEAD
<<<<<<< HEAD
<<<<<<< HEAD
<<<<<<< HEAD
<<<<<<< HEAD
<<<<<<< HEAD
<<<<<<< HEAD
   "id": "650c5f67",
||||||| 6a30bf1
   "id": "e8383a39",
=======
   "id": "c6ac6ec0",
>>>>>>> documentation-devel
||||||| d28b18c
   "id": "c6ac6ec0",
=======
   "id": "8ab8ef3e",
>>>>>>> documentation-devel
||||||| 6893f63
<<<<<<< HEAD
   "id": "650c5f67",
||||||| 6a30bf1
   "id": "e8383a39",
=======
   "id": "c6ac6ec0",
>>>>>>> documentation-devel
=======
   "id": "8d9737dc",
>>>>>>> c74c98c2450c2a1ba922ed9442f136238d6bc88b
||||||| 6d93b645
   "id": "8ab8ef3e",
=======
   "id": "31a0d4f1",
>>>>>>> documentation-devel
||||||| 804edffb
<<<<<<< HEAD
<<<<<<< HEAD
<<<<<<< HEAD
   "id": "650c5f67",
||||||| 6a30bf1
   "id": "e8383a39",
=======
   "id": "c6ac6ec0",
>>>>>>> documentation-devel
||||||| d28b18c
   "id": "c6ac6ec0",
=======
   "id": "8ab8ef3e",
>>>>>>> documentation-devel
||||||| 6893f63
<<<<<<< HEAD
   "id": "650c5f67",
||||||| 6a30bf1
   "id": "e8383a39",
=======
   "id": "c6ac6ec0",
>>>>>>> documentation-devel
=======
   "id": "8d9737dc",
>>>>>>> c74c98c2450c2a1ba922ed9442f136238d6bc88b
=======
   "id": "c24acb27",
>>>>>>> 035bb2637984ead2784fecff78c0c60cc4181202
||||||| 3effdfa5
   "id": "31a0d4f1",
=======
   "id": "475095ff",
>>>>>>> documentation-devel
||||||| 96c826da
<<<<<<< HEAD
<<<<<<< HEAD
<<<<<<< HEAD
<<<<<<< HEAD
<<<<<<< HEAD
   "id": "650c5f67",
||||||| 6a30bf1
   "id": "e8383a39",
=======
   "id": "c6ac6ec0",
>>>>>>> documentation-devel
||||||| d28b18c
   "id": "c6ac6ec0",
=======
   "id": "8ab8ef3e",
>>>>>>> documentation-devel
||||||| 6893f63
<<<<<<< HEAD
   "id": "650c5f67",
||||||| 6a30bf1
   "id": "e8383a39",
=======
   "id": "c6ac6ec0",
>>>>>>> documentation-devel
=======
   "id": "8d9737dc",
>>>>>>> c74c98c2450c2a1ba922ed9442f136238d6bc88b
||||||| 6d93b645
   "id": "8ab8ef3e",
=======
   "id": "31a0d4f1",
>>>>>>> documentation-devel
||||||| 804edffb
<<<<<<< HEAD
<<<<<<< HEAD
<<<<<<< HEAD
   "id": "650c5f67",
||||||| 6a30bf1
   "id": "e8383a39",
=======
   "id": "c6ac6ec0",
>>>>>>> documentation-devel
||||||| d28b18c
   "id": "c6ac6ec0",
=======
   "id": "8ab8ef3e",
>>>>>>> documentation-devel
||||||| 6893f63
<<<<<<< HEAD
   "id": "650c5f67",
||||||| 6a30bf1
   "id": "e8383a39",
=======
   "id": "c6ac6ec0",
>>>>>>> documentation-devel
=======
   "id": "8d9737dc",
>>>>>>> c74c98c2450c2a1ba922ed9442f136238d6bc88b
=======
   "id": "c24acb27",
>>>>>>> 035bb2637984ead2784fecff78c0c60cc4181202
=======
   "id": "75d17cc9",
>>>>>>> 619c01f26351d57ac14d974b7af136ac5756103f
   "metadata": {
    "lines_to_next_cell": 0
   },
   "source": [
    "What percentage of variance is explained by the top 20 PCs?"
   ]
  },
  {
   "cell_type": "code",
   "execution_count": null,
<<<<<<< HEAD
<<<<<<< HEAD
<<<<<<< HEAD
<<<<<<< HEAD
<<<<<<< HEAD
<<<<<<< HEAD
<<<<<<< HEAD
   "id": "c0010437",
||||||| 6a30bf1
   "id": "2e6c66ad",
=======
   "id": "73a17db4",
>>>>>>> documentation-devel
||||||| d28b18c
   "id": "73a17db4",
=======
   "id": "6eba3236",
>>>>>>> documentation-devel
||||||| 6893f63
<<<<<<< HEAD
   "id": "c0010437",
||||||| 6a30bf1
   "id": "2e6c66ad",
=======
   "id": "73a17db4",
>>>>>>> documentation-devel
=======
   "id": "26f66790",
>>>>>>> c74c98c2450c2a1ba922ed9442f136238d6bc88b
||||||| 6d93b645
   "id": "6eba3236",
=======
   "id": "59d6a242",
>>>>>>> documentation-devel
||||||| 804edffb
<<<<<<< HEAD
<<<<<<< HEAD
<<<<<<< HEAD
   "id": "c0010437",
||||||| 6a30bf1
   "id": "2e6c66ad",
=======
   "id": "73a17db4",
>>>>>>> documentation-devel
||||||| d28b18c
   "id": "73a17db4",
=======
   "id": "6eba3236",
>>>>>>> documentation-devel
||||||| 6893f63
<<<<<<< HEAD
   "id": "c0010437",
||||||| 6a30bf1
   "id": "2e6c66ad",
=======
   "id": "73a17db4",
>>>>>>> documentation-devel
=======
   "id": "26f66790",
>>>>>>> c74c98c2450c2a1ba922ed9442f136238d6bc88b
=======
   "id": "a6153c6f",
>>>>>>> 035bb2637984ead2784fecff78c0c60cc4181202
||||||| 3effdfa5
   "id": "59d6a242",
=======
   "id": "1ad8cf40",
>>>>>>> documentation-devel
||||||| 96c826da
<<<<<<< HEAD
<<<<<<< HEAD
<<<<<<< HEAD
<<<<<<< HEAD
<<<<<<< HEAD
   "id": "c0010437",
||||||| 6a30bf1
   "id": "2e6c66ad",
=======
   "id": "73a17db4",
>>>>>>> documentation-devel
||||||| d28b18c
   "id": "73a17db4",
=======
   "id": "6eba3236",
>>>>>>> documentation-devel
||||||| 6893f63
<<<<<<< HEAD
   "id": "c0010437",
||||||| 6a30bf1
   "id": "2e6c66ad",
=======
   "id": "73a17db4",
>>>>>>> documentation-devel
=======
   "id": "26f66790",
>>>>>>> c74c98c2450c2a1ba922ed9442f136238d6bc88b
||||||| 6d93b645
   "id": "6eba3236",
=======
   "id": "59d6a242",
>>>>>>> documentation-devel
||||||| 804edffb
<<<<<<< HEAD
<<<<<<< HEAD
<<<<<<< HEAD
   "id": "c0010437",
||||||| 6a30bf1
   "id": "2e6c66ad",
=======
   "id": "73a17db4",
>>>>>>> documentation-devel
||||||| d28b18c
   "id": "73a17db4",
=======
   "id": "6eba3236",
>>>>>>> documentation-devel
||||||| 6893f63
<<<<<<< HEAD
   "id": "c0010437",
||||||| 6a30bf1
   "id": "2e6c66ad",
=======
   "id": "73a17db4",
>>>>>>> documentation-devel
=======
   "id": "26f66790",
>>>>>>> c74c98c2450c2a1ba922ed9442f136238d6bc88b
=======
   "id": "a6153c6f",
>>>>>>> 035bb2637984ead2784fecff78c0c60cc4181202
=======
   "id": "f44618ca",
>>>>>>> 619c01f26351d57ac14d974b7af136ac5756103f
   "metadata": {},
   "outputs": [],
   "source": [
    "sum(attr(reducedDim(sfe_tissue, \"PCA\"), \"percentVar\"))"
   ]
  },
  {
   "cell_type": "code",
   "execution_count": null,
<<<<<<< HEAD
<<<<<<< HEAD
<<<<<<< HEAD
<<<<<<< HEAD
<<<<<<< HEAD
<<<<<<< HEAD
<<<<<<< HEAD
   "id": "693ca22d",
||||||| 6a30bf1
   "id": "bd6b84cf",
=======
   "id": "d4ede179",
>>>>>>> documentation-devel
||||||| d28b18c
   "id": "d4ede179",
=======
   "id": "cfe8110f",
>>>>>>> documentation-devel
||||||| 6893f63
<<<<<<< HEAD
   "id": "693ca22d",
||||||| 6a30bf1
   "id": "bd6b84cf",
=======
   "id": "d4ede179",
>>>>>>> documentation-devel
=======
   "id": "64149243",
>>>>>>> c74c98c2450c2a1ba922ed9442f136238d6bc88b
||||||| 6d93b645
   "id": "cfe8110f",
=======
   "id": "d496d584",
>>>>>>> documentation-devel
||||||| 804edffb
<<<<<<< HEAD
<<<<<<< HEAD
<<<<<<< HEAD
   "id": "693ca22d",
||||||| 6a30bf1
   "id": "bd6b84cf",
=======
   "id": "d4ede179",
>>>>>>> documentation-devel
||||||| d28b18c
   "id": "d4ede179",
=======
   "id": "cfe8110f",
>>>>>>> documentation-devel
||||||| 6893f63
<<<<<<< HEAD
   "id": "693ca22d",
||||||| 6a30bf1
   "id": "bd6b84cf",
=======
   "id": "d4ede179",
>>>>>>> documentation-devel
=======
   "id": "64149243",
>>>>>>> c74c98c2450c2a1ba922ed9442f136238d6bc88b
=======
   "id": "063627b1",
>>>>>>> 035bb2637984ead2784fecff78c0c60cc4181202
||||||| 3effdfa5
   "id": "d496d584",
=======
   "id": "abdaf181",
>>>>>>> documentation-devel
||||||| 96c826da
<<<<<<< HEAD
<<<<<<< HEAD
<<<<<<< HEAD
<<<<<<< HEAD
<<<<<<< HEAD
   "id": "693ca22d",
||||||| 6a30bf1
   "id": "bd6b84cf",
=======
   "id": "d4ede179",
>>>>>>> documentation-devel
||||||| d28b18c
   "id": "d4ede179",
=======
   "id": "cfe8110f",
>>>>>>> documentation-devel
||||||| 6893f63
<<<<<<< HEAD
   "id": "693ca22d",
||||||| 6a30bf1
   "id": "bd6b84cf",
=======
   "id": "d4ede179",
>>>>>>> documentation-devel
=======
   "id": "64149243",
>>>>>>> c74c98c2450c2a1ba922ed9442f136238d6bc88b
||||||| 6d93b645
   "id": "cfe8110f",
=======
   "id": "d496d584",
>>>>>>> documentation-devel
||||||| 804edffb
<<<<<<< HEAD
<<<<<<< HEAD
<<<<<<< HEAD
   "id": "693ca22d",
||||||| 6a30bf1
   "id": "bd6b84cf",
=======
   "id": "d4ede179",
>>>>>>> documentation-devel
||||||| d28b18c
   "id": "d4ede179",
=======
   "id": "cfe8110f",
>>>>>>> documentation-devel
||||||| 6893f63
<<<<<<< HEAD
   "id": "693ca22d",
||||||| 6a30bf1
   "id": "bd6b84cf",
=======
   "id": "d4ede179",
>>>>>>> documentation-devel
=======
   "id": "64149243",
>>>>>>> c74c98c2450c2a1ba922ed9442f136238d6bc88b
=======
   "id": "063627b1",
>>>>>>> 035bb2637984ead2784fecff78c0c60cc4181202
=======
   "id": "a1b536b3",
>>>>>>> 619c01f26351d57ac14d974b7af136ac5756103f
   "metadata": {},
   "outputs": [],
   "source": [
    "out <- localC_perm(reducedDim(sfe_tissue, \"PCA\"), \n",
    "                   listw = colGraph(sfe_tissue, \"visium\"))\n",
    "out <- Voyager:::.localCpermmulti2df(out, \n",
    "                                     nb = colGraph(sfe_tissue, \"visium\")$neighbours,\n",
    "                                     p.adjust.method = \"BH\")\n",
    "reducedDim(sfe_tissue, \"localC_PCs\", withDimnames = FALSE) <- out"
   ]
  },
  {
   "cell_type": "code",
   "execution_count": null,
<<<<<<< HEAD
<<<<<<< HEAD
<<<<<<< HEAD
<<<<<<< HEAD
<<<<<<< HEAD
<<<<<<< HEAD
<<<<<<< HEAD
   "id": "19d76d10",
||||||| 6a30bf1
   "id": "8e86d80e",
=======
   "id": "b709aa56",
>>>>>>> documentation-devel
||||||| d28b18c
   "id": "b709aa56",
=======
   "id": "9a47b413",
>>>>>>> documentation-devel
||||||| 6893f63
<<<<<<< HEAD
   "id": "19d76d10",
||||||| 6a30bf1
   "id": "8e86d80e",
=======
   "id": "b709aa56",
>>>>>>> documentation-devel
=======
   "id": "4d9a748c",
>>>>>>> c74c98c2450c2a1ba922ed9442f136238d6bc88b
||||||| 6d93b645
   "id": "9a47b413",
=======
   "id": "f866a10f",
>>>>>>> documentation-devel
||||||| 804edffb
<<<<<<< HEAD
<<<<<<< HEAD
<<<<<<< HEAD
   "id": "19d76d10",
||||||| 6a30bf1
   "id": "8e86d80e",
=======
   "id": "b709aa56",
>>>>>>> documentation-devel
||||||| d28b18c
   "id": "b709aa56",
=======
   "id": "9a47b413",
>>>>>>> documentation-devel
||||||| 6893f63
<<<<<<< HEAD
   "id": "19d76d10",
||||||| 6a30bf1
   "id": "8e86d80e",
=======
   "id": "b709aa56",
>>>>>>> documentation-devel
=======
   "id": "4d9a748c",
>>>>>>> c74c98c2450c2a1ba922ed9442f136238d6bc88b
=======
   "id": "c7603500",
>>>>>>> 035bb2637984ead2784fecff78c0c60cc4181202
||||||| 3effdfa5
   "id": "f866a10f",
=======
   "id": "3e350087",
>>>>>>> documentation-devel
||||||| 96c826da
<<<<<<< HEAD
<<<<<<< HEAD
<<<<<<< HEAD
<<<<<<< HEAD
<<<<<<< HEAD
   "id": "19d76d10",
||||||| 6a30bf1
   "id": "8e86d80e",
=======
   "id": "b709aa56",
>>>>>>> documentation-devel
||||||| d28b18c
   "id": "b709aa56",
=======
   "id": "9a47b413",
>>>>>>> documentation-devel
||||||| 6893f63
<<<<<<< HEAD
   "id": "19d76d10",
||||||| 6a30bf1
   "id": "8e86d80e",
=======
   "id": "b709aa56",
>>>>>>> documentation-devel
=======
   "id": "4d9a748c",
>>>>>>> c74c98c2450c2a1ba922ed9442f136238d6bc88b
||||||| 6d93b645
   "id": "9a47b413",
=======
   "id": "f866a10f",
>>>>>>> documentation-devel
||||||| 804edffb
<<<<<<< HEAD
<<<<<<< HEAD
<<<<<<< HEAD
   "id": "19d76d10",
||||||| 6a30bf1
   "id": "8e86d80e",
=======
   "id": "b709aa56",
>>>>>>> documentation-devel
||||||| d28b18c
   "id": "b709aa56",
=======
   "id": "9a47b413",
>>>>>>> documentation-devel
||||||| 6893f63
<<<<<<< HEAD
   "id": "19d76d10",
||||||| 6a30bf1
   "id": "8e86d80e",
=======
   "id": "b709aa56",
>>>>>>> documentation-devel
=======
   "id": "4d9a748c",
>>>>>>> c74c98c2450c2a1ba922ed9442f136238d6bc88b
=======
   "id": "c7603500",
>>>>>>> 035bb2637984ead2784fecff78c0c60cc4181202
=======
   "id": "0972e980",
>>>>>>> 619c01f26351d57ac14d974b7af136ac5756103f
   "metadata": {},
   "outputs": [],
   "source": [
    "spatialReducedDim(sfe_tissue, \"localC_PCs\", c(1, 12),\n",
    "                  image_id = \"lowres\", maxcell = 5e4)"
   ]
  },
  {
   "cell_type": "code",
   "execution_count": null,
<<<<<<< HEAD
<<<<<<< HEAD
<<<<<<< HEAD
<<<<<<< HEAD
<<<<<<< HEAD
<<<<<<< HEAD
<<<<<<< HEAD
   "id": "202a008a",
||||||| 6a30bf1
   "id": "9576fff6",
=======
   "id": "e0d8d88e",
>>>>>>> documentation-devel
||||||| d28b18c
   "id": "e0d8d88e",
=======
   "id": "cd927270",
>>>>>>> documentation-devel
||||||| 6893f63
<<<<<<< HEAD
   "id": "202a008a",
||||||| 6a30bf1
   "id": "9576fff6",
=======
   "id": "e0d8d88e",
>>>>>>> documentation-devel
=======
   "id": "4cca84d2",
>>>>>>> c74c98c2450c2a1ba922ed9442f136238d6bc88b
||||||| 6d93b645
   "id": "cd927270",
=======
   "id": "3be1d8c8",
>>>>>>> documentation-devel
||||||| 804edffb
<<<<<<< HEAD
<<<<<<< HEAD
<<<<<<< HEAD
   "id": "202a008a",
||||||| 6a30bf1
   "id": "9576fff6",
=======
   "id": "e0d8d88e",
>>>>>>> documentation-devel
||||||| d28b18c
   "id": "e0d8d88e",
=======
   "id": "cd927270",
>>>>>>> documentation-devel
||||||| 6893f63
<<<<<<< HEAD
   "id": "202a008a",
||||||| 6a30bf1
   "id": "9576fff6",
=======
   "id": "e0d8d88e",
>>>>>>> documentation-devel
=======
   "id": "4cca84d2",
>>>>>>> c74c98c2450c2a1ba922ed9442f136238d6bc88b
=======
   "id": "3deab69a",
>>>>>>> 035bb2637984ead2784fecff78c0c60cc4181202
||||||| 3effdfa5
   "id": "3be1d8c8",
=======
   "id": "443f828e",
>>>>>>> documentation-devel
||||||| 96c826da
<<<<<<< HEAD
<<<<<<< HEAD
<<<<<<< HEAD
<<<<<<< HEAD
<<<<<<< HEAD
   "id": "202a008a",
||||||| 6a30bf1
   "id": "9576fff6",
=======
   "id": "e0d8d88e",
>>>>>>> documentation-devel
||||||| d28b18c
   "id": "e0d8d88e",
=======
   "id": "cd927270",
>>>>>>> documentation-devel
||||||| 6893f63
<<<<<<< HEAD
   "id": "202a008a",
||||||| 6a30bf1
   "id": "9576fff6",
=======
   "id": "e0d8d88e",
>>>>>>> documentation-devel
=======
   "id": "4cca84d2",
>>>>>>> c74c98c2450c2a1ba922ed9442f136238d6bc88b
||||||| 6d93b645
   "id": "cd927270",
=======
   "id": "3be1d8c8",
>>>>>>> documentation-devel
||||||| 804edffb
<<<<<<< HEAD
<<<<<<< HEAD
<<<<<<< HEAD
   "id": "202a008a",
||||||| 6a30bf1
   "id": "9576fff6",
=======
   "id": "e0d8d88e",
>>>>>>> documentation-devel
||||||| d28b18c
   "id": "e0d8d88e",
=======
   "id": "cd927270",
>>>>>>> documentation-devel
||||||| 6893f63
<<<<<<< HEAD
   "id": "202a008a",
||||||| 6a30bf1
   "id": "9576fff6",
=======
   "id": "e0d8d88e",
>>>>>>> documentation-devel
=======
   "id": "4cca84d2",
>>>>>>> c74c98c2450c2a1ba922ed9442f136238d6bc88b
=======
   "id": "3deab69a",
>>>>>>> 035bb2637984ead2784fecff78c0c60cc4181202
=======
   "id": "c1ec63d6",
>>>>>>> 619c01f26351d57ac14d974b7af136ac5756103f
   "metadata": {},
   "outputs": [],
   "source": [
    "spatialReducedDim(sfe_tissue, \"localC_PCs\", c(11, 12),\n",
    "                  image_id = \"lowres\", maxcell = 5e4, \n",
    "                  divergent = TRUE, diverge_center = -log10(0.05))"
   ]
  },
  {
   "cell_type": "markdown",
<<<<<<< HEAD
<<<<<<< HEAD
<<<<<<< HEAD
<<<<<<< HEAD
<<<<<<< HEAD
<<<<<<< HEAD
<<<<<<< HEAD
   "id": "d5e98682",
||||||| 6a30bf1
   "id": "7ca96a39",
=======
   "id": "761ed49e",
>>>>>>> documentation-devel
||||||| d28b18c
   "id": "761ed49e",
=======
   "id": "72b4a776",
>>>>>>> documentation-devel
||||||| 6893f63
<<<<<<< HEAD
   "id": "d5e98682",
||||||| 6a30bf1
   "id": "7ca96a39",
=======
   "id": "761ed49e",
>>>>>>> documentation-devel
=======
   "id": "d3a26cb1",
>>>>>>> c74c98c2450c2a1ba922ed9442f136238d6bc88b
||||||| 6d93b645
   "id": "72b4a776",
=======
   "id": "e59a81fc",
>>>>>>> documentation-devel
||||||| 804edffb
<<<<<<< HEAD
<<<<<<< HEAD
<<<<<<< HEAD
   "id": "d5e98682",
||||||| 6a30bf1
   "id": "7ca96a39",
=======
   "id": "761ed49e",
>>>>>>> documentation-devel
||||||| d28b18c
   "id": "761ed49e",
=======
   "id": "72b4a776",
>>>>>>> documentation-devel
||||||| 6893f63
<<<<<<< HEAD
   "id": "d5e98682",
||||||| 6a30bf1
   "id": "7ca96a39",
=======
   "id": "761ed49e",
>>>>>>> documentation-devel
=======
   "id": "d3a26cb1",
>>>>>>> c74c98c2450c2a1ba922ed9442f136238d6bc88b
=======
   "id": "96d6c8c7",
>>>>>>> 035bb2637984ead2784fecff78c0c60cc4181202
||||||| 3effdfa5
   "id": "e59a81fc",
=======
   "id": "65a58016",
>>>>>>> documentation-devel
||||||| 96c826da
<<<<<<< HEAD
<<<<<<< HEAD
<<<<<<< HEAD
<<<<<<< HEAD
<<<<<<< HEAD
   "id": "d5e98682",
||||||| 6a30bf1
   "id": "7ca96a39",
=======
   "id": "761ed49e",
>>>>>>> documentation-devel
||||||| d28b18c
   "id": "761ed49e",
=======
   "id": "72b4a776",
>>>>>>> documentation-devel
||||||| 6893f63
<<<<<<< HEAD
   "id": "d5e98682",
||||||| 6a30bf1
   "id": "7ca96a39",
=======
   "id": "761ed49e",
>>>>>>> documentation-devel
=======
   "id": "d3a26cb1",
>>>>>>> c74c98c2450c2a1ba922ed9442f136238d6bc88b
||||||| 6d93b645
   "id": "72b4a776",
=======
   "id": "e59a81fc",
>>>>>>> documentation-devel
||||||| 804edffb
<<<<<<< HEAD
<<<<<<< HEAD
<<<<<<< HEAD
   "id": "d5e98682",
||||||| 6a30bf1
   "id": "7ca96a39",
=======
   "id": "761ed49e",
>>>>>>> documentation-devel
||||||| d28b18c
   "id": "761ed49e",
=======
   "id": "72b4a776",
>>>>>>> documentation-devel
||||||| 6893f63
<<<<<<< HEAD
   "id": "d5e98682",
||||||| 6a30bf1
   "id": "7ca96a39",
=======
   "id": "761ed49e",
>>>>>>> documentation-devel
=======
   "id": "d3a26cb1",
>>>>>>> c74c98c2450c2a1ba922ed9442f136238d6bc88b
=======
   "id": "96d6c8c7",
>>>>>>> 035bb2637984ead2784fecff78c0c60cc4181202
=======
   "id": "e972ce8a",
>>>>>>> 619c01f26351d57ac14d974b7af136ac5756103f
   "metadata": {
    "lines_to_next_cell": 0
   },
   "source": [
    "The area that seem significant from the permutation test is larger than that from the HVGs, and the area considered negative clusters is smaller. The significant regions are pretty much all positive cluster. Do the differences in results have anything to do with curse of dimensionality? Twenty dimensions can still exhibit curse of dimensionality, but over 300 HVGs here would be worse. Or is it that we lose a lot of information, including negative spatial autocorrelation, by only using 20 PCs?\n",
    "\n",
    "# Session info"
   ]
  },
  {
   "cell_type": "code",
   "execution_count": null,
<<<<<<< HEAD
<<<<<<< HEAD
<<<<<<< HEAD
<<<<<<< HEAD
<<<<<<< HEAD
<<<<<<< HEAD
<<<<<<< HEAD
   "id": "65646d87",
||||||| 6a30bf1
   "id": "f7a5f7ed",
=======
   "id": "d4e128b9",
>>>>>>> documentation-devel
||||||| d28b18c
   "id": "d4e128b9",
=======
   "id": "146ec7a9",
>>>>>>> documentation-devel
||||||| 6893f63
<<<<<<< HEAD
   "id": "65646d87",
||||||| 6a30bf1
   "id": "f7a5f7ed",
=======
   "id": "d4e128b9",
>>>>>>> documentation-devel
=======
   "id": "f87beebf",
>>>>>>> c74c98c2450c2a1ba922ed9442f136238d6bc88b
||||||| 6d93b645
   "id": "146ec7a9",
=======
   "id": "f788958c",
>>>>>>> documentation-devel
||||||| 804edffb
<<<<<<< HEAD
<<<<<<< HEAD
<<<<<<< HEAD
   "id": "65646d87",
||||||| 6a30bf1
   "id": "f7a5f7ed",
=======
   "id": "d4e128b9",
>>>>>>> documentation-devel
||||||| d28b18c
   "id": "d4e128b9",
=======
   "id": "146ec7a9",
>>>>>>> documentation-devel
||||||| 6893f63
<<<<<<< HEAD
   "id": "65646d87",
||||||| 6a30bf1
   "id": "f7a5f7ed",
=======
   "id": "d4e128b9",
>>>>>>> documentation-devel
=======
   "id": "f87beebf",
>>>>>>> c74c98c2450c2a1ba922ed9442f136238d6bc88b
=======
   "id": "a08111b2",
>>>>>>> 035bb2637984ead2784fecff78c0c60cc4181202
||||||| 3effdfa5
   "id": "f788958c",
=======
   "id": "948a00ae",
>>>>>>> documentation-devel
||||||| 96c826da
<<<<<<< HEAD
<<<<<<< HEAD
<<<<<<< HEAD
<<<<<<< HEAD
<<<<<<< HEAD
   "id": "65646d87",
||||||| 6a30bf1
   "id": "f7a5f7ed",
=======
   "id": "d4e128b9",
>>>>>>> documentation-devel
||||||| d28b18c
   "id": "d4e128b9",
=======
   "id": "146ec7a9",
>>>>>>> documentation-devel
||||||| 6893f63
<<<<<<< HEAD
   "id": "65646d87",
||||||| 6a30bf1
   "id": "f7a5f7ed",
=======
   "id": "d4e128b9",
>>>>>>> documentation-devel
=======
   "id": "f87beebf",
>>>>>>> c74c98c2450c2a1ba922ed9442f136238d6bc88b
||||||| 6d93b645
   "id": "146ec7a9",
=======
   "id": "f788958c",
>>>>>>> documentation-devel
||||||| 804edffb
<<<<<<< HEAD
<<<<<<< HEAD
<<<<<<< HEAD
   "id": "65646d87",
||||||| 6a30bf1
   "id": "f7a5f7ed",
=======
   "id": "d4e128b9",
>>>>>>> documentation-devel
||||||| d28b18c
   "id": "d4e128b9",
=======
   "id": "146ec7a9",
>>>>>>> documentation-devel
||||||| 6893f63
<<<<<<< HEAD
   "id": "65646d87",
||||||| 6a30bf1
   "id": "f7a5f7ed",
=======
   "id": "d4e128b9",
>>>>>>> documentation-devel
=======
   "id": "f87beebf",
>>>>>>> c74c98c2450c2a1ba922ed9442f136238d6bc88b
=======
   "id": "a08111b2",
>>>>>>> 035bb2637984ead2784fecff78c0c60cc4181202
=======
   "id": "d5953a9c",
>>>>>>> 619c01f26351d57ac14d974b7af136ac5756103f
   "metadata": {},
   "outputs": [],
   "source": [
    "sessionInfo()"
   ]
  },
  {
   "cell_type": "markdown",
<<<<<<< HEAD
<<<<<<< HEAD
<<<<<<< HEAD
<<<<<<< HEAD
<<<<<<< HEAD
<<<<<<< HEAD
<<<<<<< HEAD
   "id": "e67a620a",
||||||| 6a30bf1
   "id": "c9d239a8",
=======
   "id": "5dfd957f",
>>>>>>> documentation-devel
||||||| d28b18c
   "id": "5dfd957f",
=======
   "id": "0964e89c",
>>>>>>> documentation-devel
||||||| 6893f63
<<<<<<< HEAD
   "id": "e67a620a",
||||||| 6a30bf1
   "id": "c9d239a8",
=======
   "id": "5dfd957f",
>>>>>>> documentation-devel
=======
   "id": "9a2586cb",
>>>>>>> c74c98c2450c2a1ba922ed9442f136238d6bc88b
||||||| 6d93b645
   "id": "0964e89c",
=======
   "id": "92ca0211",
>>>>>>> documentation-devel
||||||| 804edffb
<<<<<<< HEAD
<<<<<<< HEAD
<<<<<<< HEAD
   "id": "e67a620a",
||||||| 6a30bf1
   "id": "c9d239a8",
=======
   "id": "5dfd957f",
>>>>>>> documentation-devel
||||||| d28b18c
   "id": "5dfd957f",
=======
   "id": "0964e89c",
>>>>>>> documentation-devel
||||||| 6893f63
<<<<<<< HEAD
   "id": "e67a620a",
||||||| 6a30bf1
   "id": "c9d239a8",
=======
   "id": "5dfd957f",
>>>>>>> documentation-devel
=======
   "id": "9a2586cb",
>>>>>>> c74c98c2450c2a1ba922ed9442f136238d6bc88b
=======
   "id": "2f016534",
>>>>>>> 035bb2637984ead2784fecff78c0c60cc4181202
||||||| 3effdfa5
   "id": "92ca0211",
=======
   "id": "c19a0948",
>>>>>>> documentation-devel
||||||| 96c826da
<<<<<<< HEAD
<<<<<<< HEAD
<<<<<<< HEAD
<<<<<<< HEAD
<<<<<<< HEAD
   "id": "e67a620a",
||||||| 6a30bf1
   "id": "c9d239a8",
=======
   "id": "5dfd957f",
>>>>>>> documentation-devel
||||||| d28b18c
   "id": "5dfd957f",
=======
   "id": "0964e89c",
>>>>>>> documentation-devel
||||||| 6893f63
<<<<<<< HEAD
   "id": "e67a620a",
||||||| 6a30bf1
   "id": "c9d239a8",
=======
   "id": "5dfd957f",
>>>>>>> documentation-devel
=======
   "id": "9a2586cb",
>>>>>>> c74c98c2450c2a1ba922ed9442f136238d6bc88b
||||||| 6d93b645
   "id": "0964e89c",
=======
   "id": "92ca0211",
>>>>>>> documentation-devel
||||||| 804edffb
<<<<<<< HEAD
<<<<<<< HEAD
<<<<<<< HEAD
   "id": "e67a620a",
||||||| 6a30bf1
   "id": "c9d239a8",
=======
   "id": "5dfd957f",
>>>>>>> documentation-devel
||||||| d28b18c
   "id": "5dfd957f",
=======
   "id": "0964e89c",
>>>>>>> documentation-devel
||||||| 6893f63
<<<<<<< HEAD
   "id": "e67a620a",
||||||| 6a30bf1
   "id": "c9d239a8",
=======
   "id": "5dfd957f",
>>>>>>> documentation-devel
=======
   "id": "9a2586cb",
>>>>>>> c74c98c2450c2a1ba922ed9442f136238d6bc88b
=======
   "id": "2f016534",
>>>>>>> 035bb2637984ead2784fecff78c0c60cc4181202
=======
   "id": "645919f1",
>>>>>>> 619c01f26351d57ac14d974b7af136ac5756103f
   "metadata": {},
   "source": [
    "# References"
   ]
  }
 ],
 "metadata": {
  "kernelspec": {
   "display_name": "R",
   "language": "R",
   "name": "ir"
  }
 },
 "nbformat": 4,
 "nbformat_minor": 5
}
