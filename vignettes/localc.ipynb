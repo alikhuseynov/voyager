{
 "cells": [
  {
   "cell_type": "raw",
<<<<<<< HEAD
   "id": "a55d90e9",
||||||| fa5abb84
   "id": "ee4e51bc",
=======
   "id": "c1c03963",
>>>>>>> documentation-devel
   "metadata": {},
   "source": [
    "---\n",
    "title: \"Multivariate local Geary's C\"\n",
    "author: \"Lambda Moses\"\n",
    "date: \"`r Sys.Date()`\"\n",
    "output: \n",
    "  html_document:\n",
    "  toc: true\n",
    "  toc_float:\n",
    "    collapsed: false\n",
    "  toc_depth: 3\n",
    "bibliography: ref.bib\n",
    "vignette: >\n",
    "  %\\VignetteIndexEntry{localc}\n",
    "  %\\VignetteEngine{knitr::rmarkdown}\n",
    "  %\\VignetteEncoding{UTF-8}\n",
    "---"
   ]
  },
  {
   "cell_type": "code",
   "execution_count": null,
<<<<<<< HEAD
   "id": "9d2c64d4",
||||||| fa5abb84
   "id": "c3278cd5",
=======
   "id": "f6e844b5",
>>>>>>> documentation-devel
   "metadata": {
    "lines_to_next_cell": 2,
    "tags": [
     "remove_cell"
    ]
   },
   "outputs": [],
   "source": [
    "knitr::opts_chunk$set(\n",
    "  collapse = TRUE,\n",
    "  comment = \"#>\"\n",
    ")"
   ]
  },
  {
   "cell_type": "code",
   "execution_count": null,
<<<<<<< HEAD
   "id": "2febd303",
||||||| fa5abb84
   "id": "e911cab1",
=======
   "id": "a998cffe",
>>>>>>> documentation-devel
   "metadata": {
    "eval": false,
    "tags": [
     "remove_cell"
    ]
   },
   "outputs": [],
   "source": [
    "# Install Google Colab dependencies\n",
    "# Note: this can take 30+ minutes (many of the dependencies include C++ code, which needs to be compiled)\n",
    "\n",
    "# First install `sf`, `ragg` and `textshaping` and their system dependencies:\n",
    "system(\"apt-get -y update && apt-get install -y  libudunits2-dev libgdal-dev libgeos-dev libproj-dev libharfbuzz-dev libfribidi-dev\")\n",
    "install.packages(\"sf\")\n",
    "install.packages(\"textshaping\")\n",
    "install.packages(\"ragg\")\n",
    "\n",
    "# Install system dependencies of some other R packages that Voyager either imports or suggests:\n",
    "system(\"apt-get install -y libfribidi-dev libcairo2-dev libmagick++-dev\")\n",
    "\n",
    "# Install Voyager from Bioconductor:\n",
    "install.packages(\"BiocManager\")\n",
    "BiocManager::install(version = \"3.17\", ask = FALSE, update = FALSE, Ncpus = 2)\n",
    "BiocManager::install(\"scater\")\n",
    "system.time(\n",
    "  BiocManager::install(\"Voyager\", dependencies = TRUE, Ncpus = 2, update = FALSE)\n",
    ")\n",
    "\n",
    "# Other packages used in this vignette\n",
    "packageVersion(\"Voyager\")"
   ]
  },
  {
   "cell_type": "markdown",
<<<<<<< HEAD
   "id": "e6ce8133",
||||||| fa5abb84
   "id": "f6829548",
=======
   "id": "c1e52a69",
>>>>>>> documentation-devel
   "metadata": {
    "lines_to_next_cell": 0
   },
   "source": [
    "# Introduction\n",
    "Local Geary's C [@Anselin1995-cs] is defined as:\n",
    "\n",
    "$$\n",
    "c_i = \\sum_jw_{ij}(x_i - x_j)^2,\n",
    "$$\n",
    "\n",
    "where $w_{ij}$s are spatial weights from location $i$ to location $j$ and $x$ is a variable at spatial location. This is generalized to multiple variables in [@Anselin2019-uv]:\n",
    "\n",
    "$$\n",
    "c_{k,i} = \\sum_{v=1}^k c_{v,i},\n",
    "$$\n",
    "\n",
    "where there are $k$ variables. This is essentially a spatially weighted sum of squared distances between locations in feature space. This vignette demonstrates usage of multivariate local Geary's C.\n",
    "\n",
    "Here we load the packages used:"
   ]
  },
  {
   "cell_type": "code",
   "execution_count": null,
<<<<<<< HEAD
   "id": "1cb86fce",
||||||| fa5abb84
   "id": "7f6de06d",
=======
   "id": "7f9e7211",
>>>>>>> documentation-devel
   "metadata": {
    "message": false
   },
   "outputs": [],
   "source": [
    "library(Voyager)\n",
    "library(SFEData)\n",
    "library(SpatialFeatureExperiment)\n",
    "library(scater)\n",
    "library(scran)\n",
    "library(ggplot2)\n",
    "library(spdep)\n",
    "theme_set(theme_bw())"
   ]
  },
  {
   "cell_type": "markdown",
<<<<<<< HEAD
   "id": "09635989",
||||||| fa5abb84
   "id": "711b7c0c",
=======
   "id": "b3705b5f",
>>>>>>> documentation-devel
   "metadata": {
    "lines_to_next_cell": 0
   },
   "source": [
    "QC was performed in [another vignette](https://pachterlab.github.io/voyager/articles/vig1_visium_basic.html), so this vignette will not plot QC metrics."
   ]
  },
  {
   "cell_type": "code",
   "execution_count": null,
<<<<<<< HEAD
   "id": "538dbd66",
||||||| fa5abb84
   "id": "cfc3299f",
=======
   "id": "b4dd07b1",
>>>>>>> documentation-devel
   "metadata": {},
   "outputs": [],
   "source": [
    "(sfe <- McKellarMuscleData(\"full\"))"
   ]
  },
  {
   "cell_type": "markdown",
<<<<<<< HEAD
   "id": "d9ab3e72",
||||||| fa5abb84
   "id": "b9849b2c",
=======
   "id": "c2bc417a",
>>>>>>> documentation-devel
   "metadata": {
    "lines_to_next_cell": 0
   },
   "source": [
    "The image can be added to the SFE object and plotted behind the geometries, and needs to be flipped to align to the spots because the origin is at the top left for the image but bottom left for geometries."
   ]
  },
  {
   "cell_type": "code",
   "execution_count": null,
<<<<<<< HEAD
   "id": "97e1ee8a",
||||||| fa5abb84
   "id": "cbc86aeb",
=======
   "id": "f04d5572",
>>>>>>> documentation-devel
   "metadata": {},
   "outputs": [],
   "source": [
    "if (!file.exists(\"tissue_lowres_5a.jpeg\")) {\n",
    "    download.file(\"https://raw.githubusercontent.com/pachterlab/voyager/main/vignettes/tissue_lowres_5a.jpeg\",\n",
    "                  destfile = \"tissue_lowres_5a.jpeg\")\n",
    "}"
   ]
  },
  {
   "cell_type": "code",
   "execution_count": null,
<<<<<<< HEAD
   "id": "268d502d",
||||||| fa5abb84
   "id": "ef5603e8",
=======
   "id": "862582cb",
>>>>>>> documentation-devel
   "metadata": {},
   "outputs": [],
   "source": [
    "sfe <- addImg(sfe, file = \"tissue_lowres_5a.jpeg\", sample_id = \"Vis5A\", \n",
    "              image_id = \"lowres\", \n",
    "              scale_fct = 1024/22208)\n",
    "sfe <- mirrorImg(sfe, sample_id = \"Vis5A\", image_id = \"lowres\")"
   ]
  },
  {
   "cell_type": "code",
   "execution_count": null,
<<<<<<< HEAD
   "id": "0bb9626d",
||||||| fa5abb84
   "id": "4956ae06",
=======
   "id": "35d3ca82",
>>>>>>> documentation-devel
   "metadata": {},
   "outputs": [],
   "source": [
    "sfe_tissue <- sfe[,colData(sfe)$in_tissue]\n",
    "sfe_tissue <- sfe_tissue[rowSums(counts(sfe_tissue)) > 0,]"
   ]
  },
  {
   "cell_type": "code",
   "execution_count": null,
<<<<<<< HEAD
   "id": "95b80f57",
||||||| fa5abb84
   "id": "183a5ad7",
=======
   "id": "0d01b1cc",
>>>>>>> documentation-devel
   "metadata": {},
   "outputs": [],
   "source": [
    "sfe_tissue <- logNormCounts(sfe_tissue)"
   ]
  },
  {
   "cell_type": "code",
   "execution_count": null,
<<<<<<< HEAD
   "id": "01da7765",
||||||| fa5abb84
   "id": "269189e2",
=======
   "id": "ee892c1e",
>>>>>>> documentation-devel
   "metadata": {},
   "outputs": [],
   "source": [
    "colGraph(sfe_tissue, \"visium\") <- findVisiumGraph(sfe_tissue)"
   ]
  },
  {
   "cell_type": "markdown",
<<<<<<< HEAD
   "id": "e5f56050",
||||||| fa5abb84
   "id": "62d073d2",
=======
   "id": "74f43ba9",
>>>>>>> documentation-devel
   "metadata": {
    "lines_to_next_cell": 0
   },
   "source": [
    "# Gene expression\n",
    "Here we compute multivariate local C for top highly variagle genes (HVGs) in this dataset:"
   ]
  },
  {
   "cell_type": "code",
   "execution_count": null,
<<<<<<< HEAD
   "id": "fd673514",
||||||| fa5abb84
   "id": "5d0905d1",
=======
   "id": "13bd4196",
>>>>>>> documentation-devel
   "metadata": {},
   "outputs": [],
   "source": [
    "hvgs <- getTopHVGs(sfe_tissue, fdr.threshold = 0.01)"
   ]
  },
  {
   "cell_type": "code",
   "execution_count": null,
<<<<<<< HEAD
   "id": "34276dab",
||||||| fa5abb84
   "id": "c1cd5706",
=======
   "id": "caf1a1f3",
>>>>>>> documentation-devel
   "metadata": {},
   "outputs": [],
   "source": [
    "sfe_tissue <- runMultivariate(sfe_tissue, \"localC_perm_multi\", subset_row = hvgs)"
   ]
  },
  {
   "cell_type": "markdown",
<<<<<<< HEAD
   "id": "3cab1600",
||||||| fa5abb84
   "id": "741d2c75",
=======
   "id": "f4af15ed",
>>>>>>> documentation-devel
   "metadata": {
    "lines_to_next_cell": 0
   },
   "source": [
    "The results are stored in `reducedDim` although it's not really a dimension reduction. It can also go into `colData` if `dest = \"colData\"`. The test is two sided, but the `alternative` argument can be set to \"greater\" to only test for positive spatial autocorrelation and \"less\" for negative spatial autocorrelation."
   ]
  },
  {
   "cell_type": "code",
   "execution_count": null,
<<<<<<< HEAD
   "id": "926aec38",
||||||| fa5abb84
   "id": "aeef8d31",
=======
   "id": "e94af61c",
>>>>>>> documentation-devel
   "metadata": {},
   "outputs": [],
   "source": [
    "names(reducedDim(sfe_tissue, \"localC_perm_multi\"))"
   ]
  },
  {
   "cell_type": "code",
   "execution_count": null,
<<<<<<< HEAD
   "id": "65e4d545",
||||||| fa5abb84
   "id": "1078652f",
=======
   "id": "7435f729",
>>>>>>> documentation-devel
   "metadata": {},
   "outputs": [],
   "source": [
    "spatialReducedDim(sfe_tissue, \"localC_perm_multi\", c(1, 12),\n",
    "                  image_id = \"lowres\", maxcell = 5e4)"
   ]
  },
  {
   "cell_type": "markdown",
<<<<<<< HEAD
   "id": "32ae22c4",
||||||| fa5abb84
   "id": "64ad928c",
=======
   "id": "290de161",
>>>>>>> documentation-devel
   "metadata": {},
   "source": [
    "In Geary's C, a value below 1 indicates positive spatial autocorrelation and a value above 1 indicates negative spatial autocorrelation. Local Geary's C is not scaled, but from the square difference expression, a low value means a more homogeneous neighborhood and a high value means a more heterogeneous neighborhood. Here considering all 341 top HVGs, the muscle tendon junction and the unjury site are more heterogeneous, which is detected as negative cluster.\n",
    "\n",
    "Permutation testing was performed, although Anselin noted that the pseudo-p-values should only be taken as indicative of _interesting_ regions and should not be interpreted in a strict sense."
   ]
  },
  {
   "cell_type": "code",
   "execution_count": null,
<<<<<<< HEAD
   "id": "535e76b3",
||||||| fa5abb84
   "id": "f72b1033",
=======
   "id": "925b9842",
>>>>>>> documentation-devel
   "metadata": {},
   "outputs": [],
   "source": [
    "spatialReducedDim(sfe_tissue, \"localC_perm_multi\", c(11, 12),\n",
    "                  image_id = \"lowres\", maxcell = 5e4, \n",
    "                  divergent = TRUE, diverge_center = -log10(0.05))"
   ]
  },
  {
   "cell_type": "markdown",
<<<<<<< HEAD
   "id": "35ba67bc",
||||||| fa5abb84
   "id": "c3d87f6f",
=======
   "id": "84666724",
>>>>>>> documentation-devel
   "metadata": {},
   "source": [
    "Warm colors indicate adjusted p < 0.05. This should be interpreted along with the clusters. In this dataset, there are interestingly homogeneous regions in the myofibers, and an interestingly heterogeneous region in the injury site. Most of the significant regions are positive cluster, but the center of the injury site is significant and is negative cluster.\n",
    "\n",
    "# Top principal components\n",
    "Because multivariate local Geary's C is a spatially weighted sum of squared distances between locations in feature space, it's affected by the curse of dimensionality when used on a large number of features, when uniformly distributed data points in higher dimensions become more equidistant to each other with increasing number of dimensions. However, real data is not uniformly distributed and can have a much smaller effective dimension than the number of features, as many genes are co-regulated. Anselin suggested using the main principal components, but the issue of curse of dimensionality remains to be further investigated. Furthermore, as the cosine and Manhattan distances have been suggested to mitigate curse of dimensionality, I wonder what if I use these instead of the Euclidean distance in feature space for multivariate local Geary's C.\n",
    "\n",
    "So here we perform multivariate local Geary's C on the top PCs:"
   ]
  },
  {
   "cell_type": "code",
   "execution_count": null,
<<<<<<< HEAD
   "id": "fb83aae6",
||||||| fa5abb84
   "id": "e682677e",
=======
   "id": "82d231dc",
>>>>>>> documentation-devel
   "metadata": {},
   "outputs": [],
   "source": [
    "sfe_tissue <- runPCA(sfe_tissue, ncomponents = 20, scale = TRUE)"
   ]
  },
  {
   "cell_type": "code",
   "execution_count": null,
<<<<<<< HEAD
   "id": "6e1e7a55",
||||||| fa5abb84
   "id": "6daa4c1b",
=======
   "id": "2f88ffa9",
>>>>>>> documentation-devel
   "metadata": {},
   "outputs": [],
   "source": [
    "ElbowPlot(sfe_tissue)"
   ]
  },
  {
   "cell_type": "markdown",
<<<<<<< HEAD
   "id": "1702d9af",
||||||| fa5abb84
   "id": "797d3859",
=======
   "id": "4c86571f",
>>>>>>> documentation-devel
   "metadata": {
    "lines_to_next_cell": 0
   },
   "source": [
    "What percentage of variance is explained by the top 20 PCs?"
   ]
  },
  {
   "cell_type": "code",
   "execution_count": null,
<<<<<<< HEAD
   "id": "e7a271f0",
||||||| fa5abb84
   "id": "246fc240",
=======
   "id": "2b350a5c",
>>>>>>> documentation-devel
   "metadata": {},
   "outputs": [],
   "source": [
    "sum(attr(reducedDim(sfe_tissue, \"PCA\"), \"percentVar\"))"
   ]
  },
  {
   "cell_type": "code",
   "execution_count": null,
<<<<<<< HEAD
   "id": "c385bffe",
||||||| fa5abb84
   "id": "16951d79",
=======
   "id": "5b4c05a2",
>>>>>>> documentation-devel
   "metadata": {},
   "outputs": [],
   "source": [
    "out <- localC_perm(reducedDim(sfe_tissue, \"PCA\"), \n",
    "                   listw = colGraph(sfe_tissue, \"visium\"))\n",
    "out <- Voyager:::.localCpermmulti2df(out, \n",
    "                                     nb = colGraph(sfe_tissue, \"visium\")$neighbours,\n",
    "                                     p.adjust.method = \"BH\")\n",
    "reducedDim(sfe_tissue, \"localC_PCs\", withDimnames = FALSE) <- out"
   ]
  },
  {
   "cell_type": "code",
   "execution_count": null,
<<<<<<< HEAD
   "id": "53344bbf",
||||||| fa5abb84
   "id": "dd1bfc00",
=======
   "id": "d69b7239",
>>>>>>> documentation-devel
   "metadata": {},
   "outputs": [],
   "source": [
    "spatialReducedDim(sfe_tissue, \"localC_PCs\", c(1, 12),\n",
    "                  image_id = \"lowres\", maxcell = 5e4)"
   ]
  },
  {
   "cell_type": "code",
   "execution_count": null,
<<<<<<< HEAD
   "id": "f97911d2",
||||||| fa5abb84
   "id": "859e40d9",
=======
   "id": "197368ff",
>>>>>>> documentation-devel
   "metadata": {},
   "outputs": [],
   "source": [
    "spatialReducedDim(sfe_tissue, \"localC_PCs\", c(11, 12),\n",
    "                  image_id = \"lowres\", maxcell = 5e4, \n",
    "                  divergent = TRUE, diverge_center = -log10(0.05))"
   ]
  },
  {
   "cell_type": "markdown",
<<<<<<< HEAD
   "id": "d189e7cd",
||||||| fa5abb84
   "id": "a8bcec61",
=======
   "id": "8bd31d10",
>>>>>>> documentation-devel
   "metadata": {
    "lines_to_next_cell": 0
   },
   "source": [
    "The area that seem significant from the permutation test is larger than that from the HVGs, and the area considered negative clusters is smaller. The significant regions are pretty much all positive cluster. Do the differences in results have anything to do with curse of dimensionality? Twenty dimensions can still exhibit curse of dimensionality, but over 300 HVGs here would be worse. Or is it that we lose a lot of information, including negative spatial autocorrelation, by only using 20 PCs?\n",
    "\n",
    "# Session info"
   ]
  },
  {
   "cell_type": "code",
   "execution_count": null,
<<<<<<< HEAD
   "id": "ac4f9d8a",
||||||| fa5abb84
   "id": "5f31fed6",
=======
   "id": "8ede3a75",
>>>>>>> documentation-devel
   "metadata": {},
   "outputs": [],
   "source": [
    "sessionInfo()"
   ]
  },
  {
   "cell_type": "markdown",
<<<<<<< HEAD
   "id": "845e2611",
||||||| fa5abb84
   "id": "f6763787",
=======
   "id": "fd304b97",
>>>>>>> documentation-devel
   "metadata": {},
   "source": [
    "# References"
   ]
  }
 ],
 "metadata": {
  "kernelspec": {
   "display_name": "R",
   "language": "R",
   "name": "ir"
  }
 },
 "nbformat": 4,
 "nbformat_minor": 5
}
