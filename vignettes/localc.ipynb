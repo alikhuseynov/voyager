{
 "cells": [
  {
   "cell_type": "raw",
<<<<<<< HEAD
<<<<<<< HEAD
<<<<<<< HEAD
<<<<<<< HEAD
   "id": "99ea216e",
||||||| 11b9cb7
   "id": "957b3c52",
=======
   "id": "1010e61f",
>>>>>>> documentation-devel
||||||| 614e9b1
   "id": "1010e61f",
=======
   "id": "2d316a49",
>>>>>>> documentation-devel
||||||| 856b4c0
<<<<<<< HEAD
   "id": "99ea216e",
||||||| 11b9cb7
   "id": "957b3c52",
=======
   "id": "1010e61f",
>>>>>>> documentation-devel
=======
   "id": "57278d33",
>>>>>>> 552590ea8fad969b67afdba27558a1e6cb21016e
||||||| 452c944
   "id": "2d316a49",
=======
   "id": "fddf8b1b",
>>>>>>> documentation-devel
   "metadata": {},
   "source": [
    "---\n",
    "title: \"Multivariate local Geary's C\"\n",
    "author: \"Lambda Moses\"\n",
    "date: \"`r Sys.Date()`\"\n",
    "output: \n",
    "  html_document:\n",
    "  toc: true\n",
    "  toc_float:\n",
    "    collapsed: false\n",
    "  toc_depth: 3\n",
    "bibliography: ref.bib\n",
    "vignette: >\n",
    "  %\\VignetteIndexEntry{localc}\n",
    "  %\\VignetteEngine{knitr::rmarkdown}\n",
    "  %\\VignetteEncoding{UTF-8}\n",
    "---"
   ]
  },
  {
   "cell_type": "code",
   "execution_count": null,
<<<<<<< HEAD
<<<<<<< HEAD
<<<<<<< HEAD
<<<<<<< HEAD
   "id": "e0a60ae0",
||||||| 11b9cb7
   "id": "2f784e2e",
=======
   "id": "211117b1",
>>>>>>> documentation-devel
||||||| 614e9b1
   "id": "211117b1",
=======
   "id": "be8f4d91",
>>>>>>> documentation-devel
||||||| 856b4c0
<<<<<<< HEAD
   "id": "e0a60ae0",
||||||| 11b9cb7
   "id": "2f784e2e",
=======
   "id": "211117b1",
>>>>>>> documentation-devel
=======
   "id": "658d3677",
>>>>>>> 552590ea8fad969b67afdba27558a1e6cb21016e
||||||| 452c944
   "id": "be8f4d91",
=======
   "id": "97235d48",
>>>>>>> documentation-devel
   "metadata": {
    "lines_to_next_cell": 2,
    "tags": [
     "remove_cell"
    ]
   },
   "outputs": [],
   "source": [
    "knitr::opts_chunk$set(\n",
    "  collapse = TRUE,\n",
    "  comment = \"#>\"\n",
    ")"
   ]
  },
  {
   "cell_type": "code",
   "execution_count": null,
<<<<<<< HEAD
<<<<<<< HEAD
<<<<<<< HEAD
<<<<<<< HEAD
   "id": "c2a138eb",
||||||| 11b9cb7
   "id": "39a6d5d4",
=======
   "id": "fc076468",
>>>>>>> documentation-devel
||||||| 614e9b1
   "id": "fc076468",
=======
   "id": "fc311b81",
>>>>>>> documentation-devel
||||||| 856b4c0
<<<<<<< HEAD
   "id": "c2a138eb",
||||||| 11b9cb7
   "id": "39a6d5d4",
=======
   "id": "fc076468",
>>>>>>> documentation-devel
=======
   "id": "cc0f5b37",
>>>>>>> 552590ea8fad969b67afdba27558a1e6cb21016e
||||||| 452c944
   "id": "fc311b81",
=======
   "id": "630f62c2",
>>>>>>> documentation-devel
   "metadata": {
    "eval": false,
    "tags": [
     "remove_cell"
    ]
   },
   "outputs": [],
   "source": [
    "# Install Google Colab dependencies\n",
    "# Note: this can take 30+ minutes (many of the dependencies include C++ code, which needs to be compiled)\n",
    "\n",
    "# First install `sf`, `ragg` and `textshaping` and their system dependencies:\n",
    "system(\"apt-get -y update && apt-get install -y  libudunits2-dev libgdal-dev libgeos-dev libproj-dev libharfbuzz-dev libfribidi-dev\")\n",
    "install.packages(\"sf\")\n",
    "install.packages(\"textshaping\")\n",
    "install.packages(\"ragg\")\n",
    "\n",
    "# Install system dependencies of some other R packages that Voyager either imports or suggests:\n",
    "system(\"apt-get install -y libfribidi-dev libcairo2-dev libmagick++-dev\")\n",
    "\n",
    "# Install Voyager from Bioconductor:\n",
    "install.packages(\"BiocManager\")\n",
    "BiocManager::install(version = \"3.17\", ask = FALSE, update = FALSE, Ncpus = 2)\n",
    "BiocManager::install(\"scater\")\n",
    "system.time(\n",
    "  BiocManager::install(\"Voyager\", dependencies = TRUE, Ncpus = 2, update = FALSE)\n",
    ")\n",
    "\n",
    "# Other packages used in this vignette\n",
    "packageVersion(\"Voyager\")"
   ]
  },
  {
   "cell_type": "markdown",
<<<<<<< HEAD
<<<<<<< HEAD
<<<<<<< HEAD
<<<<<<< HEAD
   "id": "65078bc3",
||||||| 11b9cb7
   "id": "dfb6f65d",
=======
   "id": "275343e1",
>>>>>>> documentation-devel
||||||| 614e9b1
   "id": "275343e1",
=======
   "id": "f1d190b9",
>>>>>>> documentation-devel
||||||| 856b4c0
<<<<<<< HEAD
   "id": "65078bc3",
||||||| 11b9cb7
   "id": "dfb6f65d",
=======
   "id": "275343e1",
>>>>>>> documentation-devel
=======
   "id": "e6605993",
>>>>>>> 552590ea8fad969b67afdba27558a1e6cb21016e
||||||| 452c944
   "id": "f1d190b9",
=======
   "id": "abbe9e0b",
>>>>>>> documentation-devel
   "metadata": {
    "lines_to_next_cell": 0
   },
   "source": [
    "# Introduction\n",
    "Local Geary's C [@Anselin1995-cs] is defined as:\n",
    "\n",
    "$$\n",
    "c_i = \\sum_jw_{ij}(x_i - x_j)^2,\n",
    "$$\n",
    "\n",
    "where $w_{ij}$s are spatial weights from location $i$ to location $j$ and $x$ is a variable at spatial location. This is generalized to multiple variables in [@Anselin2019-uv]:\n",
    "\n",
    "$$\n",
    "c_{k,i} = \\sum_{v=1}^k c_{v,i},\n",
    "$$\n",
    "\n",
    "where there are $k$ variables. This is essentially a spatially weighted sum of squared distances between locations in feature space. This vignette demonstrates usage of multivariate local Geary's C.\n",
    "\n",
    "Here we load the packages used:"
   ]
  },
  {
   "cell_type": "code",
   "execution_count": null,
<<<<<<< HEAD
<<<<<<< HEAD
<<<<<<< HEAD
<<<<<<< HEAD
   "id": "3ad4f6c2",
||||||| 11b9cb7
   "id": "7d4dd8b8",
=======
   "id": "71decdab",
>>>>>>> documentation-devel
||||||| 614e9b1
   "id": "71decdab",
=======
   "id": "f8ad2ca2",
>>>>>>> documentation-devel
||||||| 856b4c0
<<<<<<< HEAD
   "id": "3ad4f6c2",
||||||| 11b9cb7
   "id": "7d4dd8b8",
=======
   "id": "71decdab",
>>>>>>> documentation-devel
=======
   "id": "ae65ded4",
>>>>>>> 552590ea8fad969b67afdba27558a1e6cb21016e
||||||| 452c944
   "id": "f8ad2ca2",
=======
   "id": "7e7f32f0",
>>>>>>> documentation-devel
   "metadata": {
    "message": false
   },
   "outputs": [],
   "source": [
    "library(Voyager)\n",
    "library(SFEData)\n",
    "library(SpatialFeatureExperiment)\n",
    "library(scater)\n",
    "library(scran)\n",
    "library(ggplot2)\n",
    "library(spdep)\n",
    "theme_set(theme_bw())"
   ]
  },
  {
   "cell_type": "markdown",
<<<<<<< HEAD
<<<<<<< HEAD
<<<<<<< HEAD
<<<<<<< HEAD
   "id": "ad9ee684",
||||||| 11b9cb7
   "id": "ee8dd13b",
=======
   "id": "26f8ece6",
>>>>>>> documentation-devel
||||||| 614e9b1
   "id": "26f8ece6",
=======
   "id": "4db18516",
>>>>>>> documentation-devel
||||||| 856b4c0
<<<<<<< HEAD
   "id": "ad9ee684",
||||||| 11b9cb7
   "id": "ee8dd13b",
=======
   "id": "26f8ece6",
>>>>>>> documentation-devel
=======
   "id": "779a2b73",
>>>>>>> 552590ea8fad969b67afdba27558a1e6cb21016e
||||||| 452c944
   "id": "4db18516",
=======
   "id": "d7813e07",
>>>>>>> documentation-devel
   "metadata": {
    "lines_to_next_cell": 0
   },
   "source": [
    "QC was performed in [another vignette](https://pachterlab.github.io/voyager/articles/vig1_visium_basic.html), so this vignette will not plot QC metrics."
   ]
  },
  {
   "cell_type": "code",
   "execution_count": null,
<<<<<<< HEAD
<<<<<<< HEAD
<<<<<<< HEAD
<<<<<<< HEAD
   "id": "5ad41dae",
||||||| 11b9cb7
   "id": "1ee6bd25",
=======
   "id": "1b88a40a",
>>>>>>> documentation-devel
||||||| 614e9b1
   "id": "1b88a40a",
=======
   "id": "27271402",
>>>>>>> documentation-devel
||||||| 856b4c0
<<<<<<< HEAD
   "id": "5ad41dae",
||||||| 11b9cb7
   "id": "1ee6bd25",
=======
   "id": "1b88a40a",
>>>>>>> documentation-devel
=======
   "id": "3b2c0452",
>>>>>>> 552590ea8fad969b67afdba27558a1e6cb21016e
||||||| 452c944
   "id": "27271402",
=======
   "id": "2727dda1",
>>>>>>> documentation-devel
   "metadata": {},
   "outputs": [],
   "source": [
    "(sfe <- McKellarMuscleData(\"full\"))"
   ]
  },
  {
   "cell_type": "markdown",
<<<<<<< HEAD
<<<<<<< HEAD
<<<<<<< HEAD
<<<<<<< HEAD
   "id": "49627ae0",
||||||| 11b9cb7
   "id": "de7e4e2f",
=======
   "id": "6f8decaf",
>>>>>>> documentation-devel
||||||| 614e9b1
   "id": "6f8decaf",
=======
   "id": "7a69ec07",
>>>>>>> documentation-devel
||||||| 856b4c0
<<<<<<< HEAD
   "id": "49627ae0",
||||||| 11b9cb7
   "id": "de7e4e2f",
=======
   "id": "6f8decaf",
>>>>>>> documentation-devel
=======
   "id": "40b9f8d9",
>>>>>>> 552590ea8fad969b67afdba27558a1e6cb21016e
||||||| 452c944
   "id": "7a69ec07",
=======
   "id": "9387185e",
>>>>>>> documentation-devel
   "metadata": {
    "lines_to_next_cell": 0
   },
   "source": [
    "The image can be added to the SFE object and plotted behind the geometries, and needs to be flipped to align to the spots because the origin is at the top left for the image but bottom left for geometries."
   ]
  },
  {
   "cell_type": "code",
   "execution_count": null,
<<<<<<< HEAD
<<<<<<< HEAD
<<<<<<< HEAD
<<<<<<< HEAD
   "id": "9e9dde74",
||||||| 11b9cb7
   "id": "7511567c",
=======
   "id": "180c1685",
>>>>>>> documentation-devel
||||||| 614e9b1
   "id": "180c1685",
=======
   "id": "9c744e1b",
>>>>>>> documentation-devel
||||||| 856b4c0
<<<<<<< HEAD
   "id": "9e9dde74",
||||||| 11b9cb7
   "id": "7511567c",
=======
   "id": "180c1685",
>>>>>>> documentation-devel
=======
   "id": "85d69cb8",
>>>>>>> 552590ea8fad969b67afdba27558a1e6cb21016e
||||||| 452c944
   "id": "9c744e1b",
=======
   "id": "804cee99",
>>>>>>> documentation-devel
   "metadata": {},
   "outputs": [],
   "source": [
    "if (!file.exists(\"tissue_lowres_5a.jpeg\")) {\n",
    "    download.file(\"https://raw.githubusercontent.com/pachterlab/voyager/main/vignettes/tissue_lowres_5a.jpeg\",\n",
    "                  destfile = \"tissue_lowres_5a.jpeg\")\n",
    "}"
   ]
  },
  {
   "cell_type": "code",
   "execution_count": null,
<<<<<<< HEAD
<<<<<<< HEAD
<<<<<<< HEAD
<<<<<<< HEAD
   "id": "0caf0b7a",
||||||| 11b9cb7
   "id": "f91730c8",
=======
   "id": "4fedb3ba",
>>>>>>> documentation-devel
||||||| 614e9b1
   "id": "4fedb3ba",
=======
   "id": "99f97047",
>>>>>>> documentation-devel
||||||| 856b4c0
<<<<<<< HEAD
   "id": "0caf0b7a",
||||||| 11b9cb7
   "id": "f91730c8",
=======
   "id": "4fedb3ba",
>>>>>>> documentation-devel
=======
   "id": "00bf7a6d",
>>>>>>> 552590ea8fad969b67afdba27558a1e6cb21016e
||||||| 452c944
   "id": "99f97047",
=======
   "id": "da0bdb18",
>>>>>>> documentation-devel
   "metadata": {},
   "outputs": [],
   "source": [
    "sfe <- addImg(sfe, file = \"tissue_lowres_5a.jpeg\", sample_id = \"Vis5A\", \n",
    "              image_id = \"lowres\", \n",
    "              scale_fct = 1024/22208)\n",
    "sfe <- mirrorImg(sfe, sample_id = \"Vis5A\", image_id = \"lowres\")"
   ]
  },
  {
   "cell_type": "code",
   "execution_count": null,
<<<<<<< HEAD
<<<<<<< HEAD
<<<<<<< HEAD
<<<<<<< HEAD
   "id": "d12fd169",
||||||| 11b9cb7
   "id": "3562e80f",
=======
   "id": "acbfec85",
>>>>>>> documentation-devel
||||||| 614e9b1
   "id": "acbfec85",
=======
   "id": "689ea531",
>>>>>>> documentation-devel
||||||| 856b4c0
<<<<<<< HEAD
   "id": "d12fd169",
||||||| 11b9cb7
   "id": "3562e80f",
=======
   "id": "acbfec85",
>>>>>>> documentation-devel
=======
   "id": "dff280ee",
>>>>>>> 552590ea8fad969b67afdba27558a1e6cb21016e
||||||| 452c944
   "id": "689ea531",
=======
   "id": "29fc9dba",
>>>>>>> documentation-devel
   "metadata": {},
   "outputs": [],
   "source": [
    "sfe_tissue <- sfe[,colData(sfe)$in_tissue]\n",
    "sfe_tissue <- sfe_tissue[rowSums(counts(sfe_tissue)) > 0,]"
   ]
  },
  {
   "cell_type": "code",
   "execution_count": null,
<<<<<<< HEAD
<<<<<<< HEAD
<<<<<<< HEAD
<<<<<<< HEAD
   "id": "d82cecb3",
||||||| 11b9cb7
   "id": "8d55480d",
=======
   "id": "5941ff90",
>>>>>>> documentation-devel
||||||| 614e9b1
   "id": "5941ff90",
=======
   "id": "9c3271e5",
>>>>>>> documentation-devel
||||||| 856b4c0
<<<<<<< HEAD
   "id": "d82cecb3",
||||||| 11b9cb7
   "id": "8d55480d",
=======
   "id": "5941ff90",
>>>>>>> documentation-devel
=======
   "id": "27ef44c5",
>>>>>>> 552590ea8fad969b67afdba27558a1e6cb21016e
||||||| 452c944
   "id": "9c3271e5",
=======
   "id": "0111b3f7",
>>>>>>> documentation-devel
   "metadata": {},
   "outputs": [],
   "source": [
    "sfe_tissue <- logNormCounts(sfe_tissue)"
   ]
  },
  {
   "cell_type": "code",
   "execution_count": null,
<<<<<<< HEAD
<<<<<<< HEAD
<<<<<<< HEAD
<<<<<<< HEAD
   "id": "1918e4d0",
||||||| 11b9cb7
   "id": "569e8fd8",
=======
   "id": "34980dc9",
>>>>>>> documentation-devel
||||||| 614e9b1
   "id": "34980dc9",
=======
   "id": "416d474f",
>>>>>>> documentation-devel
||||||| 856b4c0
<<<<<<< HEAD
   "id": "1918e4d0",
||||||| 11b9cb7
   "id": "569e8fd8",
=======
   "id": "34980dc9",
>>>>>>> documentation-devel
=======
   "id": "5590914c",
>>>>>>> 552590ea8fad969b67afdba27558a1e6cb21016e
||||||| 452c944
   "id": "416d474f",
=======
   "id": "4192b864",
>>>>>>> documentation-devel
   "metadata": {},
   "outputs": [],
   "source": [
    "colGraph(sfe_tissue, \"visium\") <- findVisiumGraph(sfe_tissue)"
   ]
  },
  {
   "cell_type": "markdown",
<<<<<<< HEAD
<<<<<<< HEAD
<<<<<<< HEAD
<<<<<<< HEAD
   "id": "2697135f",
||||||| 11b9cb7
   "id": "b0752738",
=======
   "id": "db1af9a5",
>>>>>>> documentation-devel
||||||| 614e9b1
   "id": "db1af9a5",
=======
   "id": "44eb1fb1",
>>>>>>> documentation-devel
||||||| 856b4c0
<<<<<<< HEAD
   "id": "2697135f",
||||||| 11b9cb7
   "id": "b0752738",
=======
   "id": "db1af9a5",
>>>>>>> documentation-devel
=======
   "id": "c3b0900a",
>>>>>>> 552590ea8fad969b67afdba27558a1e6cb21016e
||||||| 452c944
   "id": "44eb1fb1",
=======
   "id": "38099885",
>>>>>>> documentation-devel
   "metadata": {
    "lines_to_next_cell": 0
   },
   "source": [
    "# Gene expression\n",
    "Here we compute multivariate local C for top highly variagle genes (HVGs) in this dataset:"
   ]
  },
  {
   "cell_type": "code",
   "execution_count": null,
<<<<<<< HEAD
<<<<<<< HEAD
<<<<<<< HEAD
<<<<<<< HEAD
   "id": "a4e2d6a9",
||||||| 11b9cb7
   "id": "6339ba4c",
=======
   "id": "44f98a53",
>>>>>>> documentation-devel
||||||| 614e9b1
   "id": "44f98a53",
=======
   "id": "62f2f9af",
>>>>>>> documentation-devel
||||||| 856b4c0
<<<<<<< HEAD
   "id": "a4e2d6a9",
||||||| 11b9cb7
   "id": "6339ba4c",
=======
   "id": "44f98a53",
>>>>>>> documentation-devel
=======
   "id": "3754f055",
>>>>>>> 552590ea8fad969b67afdba27558a1e6cb21016e
||||||| 452c944
   "id": "62f2f9af",
=======
   "id": "16e61bfa",
>>>>>>> documentation-devel
   "metadata": {},
   "outputs": [],
   "source": [
    "hvgs <- getTopHVGs(sfe_tissue, fdr.threshold = 0.01)"
   ]
  },
  {
   "cell_type": "code",
   "execution_count": null,
<<<<<<< HEAD
<<<<<<< HEAD
<<<<<<< HEAD
<<<<<<< HEAD
   "id": "9b54b04a",
||||||| 11b9cb7
   "id": "6ec47dba",
=======
   "id": "f8bcd3a6",
>>>>>>> documentation-devel
||||||| 614e9b1
   "id": "f8bcd3a6",
=======
   "id": "7b64e46c",
>>>>>>> documentation-devel
||||||| 856b4c0
<<<<<<< HEAD
   "id": "9b54b04a",
||||||| 11b9cb7
   "id": "6ec47dba",
=======
   "id": "f8bcd3a6",
>>>>>>> documentation-devel
=======
   "id": "540196c4",
>>>>>>> 552590ea8fad969b67afdba27558a1e6cb21016e
||||||| 452c944
   "id": "7b64e46c",
=======
   "id": "2d78506b",
>>>>>>> documentation-devel
   "metadata": {},
   "outputs": [],
   "source": [
    "sfe_tissue <- runMultivariate(sfe_tissue, \"localC_perm_multi\", subset_row = hvgs)"
   ]
  },
  {
   "cell_type": "markdown",
<<<<<<< HEAD
<<<<<<< HEAD
<<<<<<< HEAD
<<<<<<< HEAD
   "id": "96d4287e",
||||||| 11b9cb7
   "id": "f138bfbf",
=======
   "id": "179a0e96",
>>>>>>> documentation-devel
||||||| 614e9b1
   "id": "179a0e96",
=======
   "id": "9f16c7bd",
>>>>>>> documentation-devel
||||||| 856b4c0
<<<<<<< HEAD
   "id": "96d4287e",
||||||| 11b9cb7
   "id": "f138bfbf",
=======
   "id": "179a0e96",
>>>>>>> documentation-devel
=======
   "id": "9f8761a0",
>>>>>>> 552590ea8fad969b67afdba27558a1e6cb21016e
||||||| 452c944
   "id": "9f16c7bd",
=======
   "id": "1dff3473",
>>>>>>> documentation-devel
   "metadata": {
    "lines_to_next_cell": 0
   },
   "source": [
    "The results are stored in `reducedDim` although it's not really a dimension reduction. It can also go into `colData` if `dest = \"colData\"`. The test is two sided, but the `alternative` argument can be set to \"greater\" to only test for positive spatial autocorrelation and \"less\" for negative spatial autocorrelation."
   ]
  },
  {
   "cell_type": "code",
   "execution_count": null,
<<<<<<< HEAD
<<<<<<< HEAD
<<<<<<< HEAD
<<<<<<< HEAD
   "id": "f1f18d01",
||||||| 11b9cb7
   "id": "2d062a2a",
=======
   "id": "20ffc15e",
>>>>>>> documentation-devel
||||||| 614e9b1
   "id": "20ffc15e",
=======
   "id": "f60bd389",
>>>>>>> documentation-devel
||||||| 856b4c0
<<<<<<< HEAD
   "id": "f1f18d01",
||||||| 11b9cb7
   "id": "2d062a2a",
=======
   "id": "20ffc15e",
>>>>>>> documentation-devel
=======
   "id": "5fc9df07",
>>>>>>> 552590ea8fad969b67afdba27558a1e6cb21016e
||||||| 452c944
   "id": "f60bd389",
=======
   "id": "e2727f49",
>>>>>>> documentation-devel
   "metadata": {},
   "outputs": [],
   "source": [
    "names(reducedDim(sfe_tissue, \"localC_perm_multi\"))"
   ]
  },
  {
   "cell_type": "code",
   "execution_count": null,
<<<<<<< HEAD
<<<<<<< HEAD
<<<<<<< HEAD
<<<<<<< HEAD
   "id": "1ab7469a",
||||||| 11b9cb7
   "id": "f662280f",
=======
   "id": "68a8ab18",
>>>>>>> documentation-devel
||||||| 614e9b1
   "id": "68a8ab18",
=======
   "id": "5574b732",
>>>>>>> documentation-devel
||||||| 856b4c0
<<<<<<< HEAD
   "id": "1ab7469a",
||||||| 11b9cb7
   "id": "f662280f",
=======
   "id": "68a8ab18",
>>>>>>> documentation-devel
=======
   "id": "aa70cd50",
>>>>>>> 552590ea8fad969b67afdba27558a1e6cb21016e
||||||| 452c944
   "id": "5574b732",
=======
   "id": "9a44750a",
>>>>>>> documentation-devel
   "metadata": {},
   "outputs": [],
   "source": [
    "spatialReducedDim(sfe_tissue, \"localC_perm_multi\", c(1, 12),\n",
    "                  image_id = \"lowres\", maxcell = 5e4)"
   ]
  },
  {
   "cell_type": "markdown",
<<<<<<< HEAD
<<<<<<< HEAD
<<<<<<< HEAD
<<<<<<< HEAD
   "id": "0b843b65",
||||||| 11b9cb7
   "id": "434314e4",
=======
   "id": "ed696091",
>>>>>>> documentation-devel
||||||| 614e9b1
   "id": "ed696091",
=======
   "id": "668ac38e",
>>>>>>> documentation-devel
||||||| 856b4c0
<<<<<<< HEAD
   "id": "0b843b65",
||||||| 11b9cb7
   "id": "434314e4",
=======
   "id": "ed696091",
>>>>>>> documentation-devel
=======
   "id": "c343c7be",
>>>>>>> 552590ea8fad969b67afdba27558a1e6cb21016e
||||||| 452c944
   "id": "668ac38e",
=======
   "id": "8c5279b0",
>>>>>>> documentation-devel
   "metadata": {},
   "source": [
    "In Geary's C, a value below 1 indicates positive spatial autocorrelation and a value above 1 indicates negative spatial autocorrelation. Local Geary's C is not scaled, but from the square difference expression, a low value means a more homogeneous neighborhood and a high value means a more heterogeneous neighborhood. Here considering all 341 top HVGs, the muscle tendon junction and the unjury site are more heterogeneous, which is detected as negative cluster.\n",
    "\n",
    "Permutation testing was performed, although Anselin noted that the pseudo-p-values should only be taken as indicative of _interesting_ regions and should not be interpreted in a strict sense."
   ]
  },
  {
   "cell_type": "code",
   "execution_count": null,
<<<<<<< HEAD
<<<<<<< HEAD
<<<<<<< HEAD
<<<<<<< HEAD
   "id": "d51ce4d4",
||||||| 11b9cb7
   "id": "5b740a43",
=======
   "id": "83942452",
>>>>>>> documentation-devel
||||||| 614e9b1
   "id": "83942452",
=======
   "id": "8dbbea27",
>>>>>>> documentation-devel
||||||| 856b4c0
<<<<<<< HEAD
   "id": "d51ce4d4",
||||||| 11b9cb7
   "id": "5b740a43",
=======
   "id": "83942452",
>>>>>>> documentation-devel
=======
   "id": "9776bace",
>>>>>>> 552590ea8fad969b67afdba27558a1e6cb21016e
||||||| 452c944
   "id": "8dbbea27",
=======
   "id": "3f5deceb",
>>>>>>> documentation-devel
   "metadata": {},
   "outputs": [],
   "source": [
    "spatialReducedDim(sfe_tissue, \"localC_perm_multi\", c(11, 12),\n",
    "                  image_id = \"lowres\", maxcell = 5e4, \n",
    "                  divergent = TRUE, diverge_center = -log10(0.05))"
   ]
  },
  {
   "cell_type": "markdown",
<<<<<<< HEAD
<<<<<<< HEAD
<<<<<<< HEAD
<<<<<<< HEAD
   "id": "d6336bbb",
||||||| 11b9cb7
   "id": "734e9493",
=======
   "id": "f33b2380",
>>>>>>> documentation-devel
||||||| 614e9b1
   "id": "f33b2380",
=======
   "id": "a27ec547",
>>>>>>> documentation-devel
||||||| 856b4c0
<<<<<<< HEAD
   "id": "d6336bbb",
||||||| 11b9cb7
   "id": "734e9493",
=======
   "id": "f33b2380",
>>>>>>> documentation-devel
=======
   "id": "6ad67d47",
>>>>>>> 552590ea8fad969b67afdba27558a1e6cb21016e
||||||| 452c944
   "id": "a27ec547",
=======
   "id": "b701c397",
>>>>>>> documentation-devel
   "metadata": {},
   "source": [
    "Warm colors indicate adjusted p < 0.05. This should be interpreted along with the clusters. In this dataset, there are interestingly homogeneous regions in the myofibers, and an interestingly heterogeneous region in the injury site. Most of the significant regions are positive cluster, but the center of the injury site is significant and is negative cluster.\n",
    "\n",
    "# Top principal components\n",
    "Because multivariate local Geary's C is a spatially weighted sum of squared distances between locations in feature space, it's affected by the curse of dimensionality when used on a large number of features, when uniformly distributed data points in higher dimensions become more equidistant to each other with increasing number of dimensions. However, real data is not uniformly distributed and can have a much smaller effective dimension than the number of features, as many genes are co-regulated. Anselin suggested using the main principal components, but the issue of curse of dimensionality remains to be further investigated. Furthermore, as the cosine and Manhattan distances have been suggested to mitigate curse of dimensionality, I wonder what if I use these instead of the Euclidean distance in feature space for multivariate local Geary's C.\n",
    "\n",
    "So here we perform multivariate local Geary's C on the top PCs:"
   ]
  },
  {
   "cell_type": "code",
   "execution_count": null,
<<<<<<< HEAD
<<<<<<< HEAD
<<<<<<< HEAD
<<<<<<< HEAD
   "id": "2d0d7689",
||||||| 11b9cb7
   "id": "ff6b0e15",
=======
   "id": "8a2768a7",
>>>>>>> documentation-devel
||||||| 614e9b1
   "id": "8a2768a7",
=======
   "id": "d2dc6bef",
>>>>>>> documentation-devel
||||||| 856b4c0
<<<<<<< HEAD
   "id": "2d0d7689",
||||||| 11b9cb7
   "id": "ff6b0e15",
=======
   "id": "8a2768a7",
>>>>>>> documentation-devel
=======
   "id": "7c3e6e64",
>>>>>>> 552590ea8fad969b67afdba27558a1e6cb21016e
||||||| 452c944
   "id": "d2dc6bef",
=======
   "id": "fd5b53fe",
>>>>>>> documentation-devel
   "metadata": {},
   "outputs": [],
   "source": [
    "sfe_tissue <- runPCA(sfe_tissue, ncomponents = 20, scale = TRUE)"
   ]
  },
  {
   "cell_type": "code",
   "execution_count": null,
<<<<<<< HEAD
<<<<<<< HEAD
<<<<<<< HEAD
<<<<<<< HEAD
   "id": "757d17fc",
||||||| 11b9cb7
   "id": "e36c4954",
=======
   "id": "c0aa9f27",
>>>>>>> documentation-devel
||||||| 614e9b1
   "id": "c0aa9f27",
=======
   "id": "acdccdfa",
>>>>>>> documentation-devel
||||||| 856b4c0
<<<<<<< HEAD
   "id": "757d17fc",
||||||| 11b9cb7
   "id": "e36c4954",
=======
   "id": "c0aa9f27",
>>>>>>> documentation-devel
=======
   "id": "34840d49",
>>>>>>> 552590ea8fad969b67afdba27558a1e6cb21016e
||||||| 452c944
   "id": "acdccdfa",
=======
   "id": "4031ee77",
>>>>>>> documentation-devel
   "metadata": {},
   "outputs": [],
   "source": [
    "ElbowPlot(sfe_tissue)"
   ]
  },
  {
   "cell_type": "markdown",
<<<<<<< HEAD
<<<<<<< HEAD
<<<<<<< HEAD
<<<<<<< HEAD
   "id": "2ed9dc3c",
||||||| 11b9cb7
   "id": "2fc5aa50",
=======
   "id": "ffaff812",
>>>>>>> documentation-devel
||||||| 614e9b1
   "id": "ffaff812",
=======
   "id": "eeb504ac",
>>>>>>> documentation-devel
||||||| 856b4c0
<<<<<<< HEAD
   "id": "2ed9dc3c",
||||||| 11b9cb7
   "id": "2fc5aa50",
=======
   "id": "ffaff812",
>>>>>>> documentation-devel
=======
   "id": "2261b080",
>>>>>>> 552590ea8fad969b67afdba27558a1e6cb21016e
||||||| 452c944
   "id": "eeb504ac",
=======
   "id": "8c31cd26",
>>>>>>> documentation-devel
   "metadata": {
    "lines_to_next_cell": 0
   },
   "source": [
    "What percentage of variance is explained by the top 20 PCs?"
   ]
  },
  {
   "cell_type": "code",
   "execution_count": null,
<<<<<<< HEAD
<<<<<<< HEAD
<<<<<<< HEAD
<<<<<<< HEAD
   "id": "af627991",
||||||| 11b9cb7
   "id": "0f5829d8",
=======
   "id": "b8ecbaf3",
>>>>>>> documentation-devel
||||||| 614e9b1
   "id": "b8ecbaf3",
=======
   "id": "9fd3bfb1",
>>>>>>> documentation-devel
||||||| 856b4c0
<<<<<<< HEAD
   "id": "af627991",
||||||| 11b9cb7
   "id": "0f5829d8",
=======
   "id": "b8ecbaf3",
>>>>>>> documentation-devel
=======
   "id": "47f13f21",
>>>>>>> 552590ea8fad969b67afdba27558a1e6cb21016e
||||||| 452c944
   "id": "9fd3bfb1",
=======
   "id": "0c59ef35",
>>>>>>> documentation-devel
   "metadata": {},
   "outputs": [],
   "source": [
    "sum(attr(reducedDim(sfe_tissue, \"PCA\"), \"percentVar\"))"
   ]
  },
  {
   "cell_type": "code",
   "execution_count": null,
<<<<<<< HEAD
<<<<<<< HEAD
<<<<<<< HEAD
<<<<<<< HEAD
   "id": "d0addc20",
||||||| 11b9cb7
   "id": "829a697e",
=======
   "id": "c240c365",
>>>>>>> documentation-devel
||||||| 614e9b1
   "id": "c240c365",
=======
   "id": "3f1bbee8",
>>>>>>> documentation-devel
||||||| 856b4c0
<<<<<<< HEAD
   "id": "d0addc20",
||||||| 11b9cb7
   "id": "829a697e",
=======
   "id": "c240c365",
>>>>>>> documentation-devel
=======
   "id": "0690483a",
>>>>>>> 552590ea8fad969b67afdba27558a1e6cb21016e
||||||| 452c944
   "id": "3f1bbee8",
=======
   "id": "a7e3a1d3",
>>>>>>> documentation-devel
   "metadata": {},
   "outputs": [],
   "source": [
    "out <- localC_perm(reducedDim(sfe_tissue, \"PCA\"), \n",
    "                   listw = colGraph(sfe_tissue, \"visium\"))\n",
    "out <- Voyager:::.localCpermmulti2df(out, \n",
    "                                     nb = colGraph(sfe_tissue, \"visium\")$neighbours,\n",
    "                                     p.adjust.method = \"BH\")\n",
    "reducedDim(sfe_tissue, \"localC_PCs\", withDimnames = FALSE) <- out"
   ]
  },
  {
   "cell_type": "code",
   "execution_count": null,
<<<<<<< HEAD
<<<<<<< HEAD
<<<<<<< HEAD
<<<<<<< HEAD
   "id": "6ef4b295",
||||||| 11b9cb7
   "id": "0161e16c",
=======
   "id": "15d2de79",
>>>>>>> documentation-devel
||||||| 614e9b1
   "id": "15d2de79",
=======
   "id": "14b73211",
>>>>>>> documentation-devel
||||||| 856b4c0
<<<<<<< HEAD
   "id": "6ef4b295",
||||||| 11b9cb7
   "id": "0161e16c",
=======
   "id": "15d2de79",
>>>>>>> documentation-devel
=======
   "id": "dbf216d9",
>>>>>>> 552590ea8fad969b67afdba27558a1e6cb21016e
||||||| 452c944
   "id": "14b73211",
=======
   "id": "b13fff39",
>>>>>>> documentation-devel
   "metadata": {},
   "outputs": [],
   "source": [
    "spatialReducedDim(sfe_tissue, \"localC_PCs\", c(1, 12),\n",
    "                  image_id = \"lowres\", maxcell = 5e4)"
   ]
  },
  {
   "cell_type": "code",
   "execution_count": null,
<<<<<<< HEAD
<<<<<<< HEAD
<<<<<<< HEAD
<<<<<<< HEAD
   "id": "f5f5482f",
||||||| 11b9cb7
   "id": "4c8185d5",
=======
   "id": "33d24178",
>>>>>>> documentation-devel
||||||| 614e9b1
   "id": "33d24178",
=======
   "id": "681ee533",
>>>>>>> documentation-devel
||||||| 856b4c0
<<<<<<< HEAD
   "id": "f5f5482f",
||||||| 11b9cb7
   "id": "4c8185d5",
=======
   "id": "33d24178",
>>>>>>> documentation-devel
=======
   "id": "db82f67c",
>>>>>>> 552590ea8fad969b67afdba27558a1e6cb21016e
||||||| 452c944
   "id": "681ee533",
=======
   "id": "c04cb5ad",
>>>>>>> documentation-devel
   "metadata": {},
   "outputs": [],
   "source": [
    "spatialReducedDim(sfe_tissue, \"localC_PCs\", c(11, 12),\n",
    "                  image_id = \"lowres\", maxcell = 5e4, \n",
    "                  divergent = TRUE, diverge_center = -log10(0.05))"
   ]
  },
  {
   "cell_type": "markdown",
<<<<<<< HEAD
<<<<<<< HEAD
<<<<<<< HEAD
<<<<<<< HEAD
   "id": "f0ae84c9",
||||||| 11b9cb7
   "id": "ccb9565f",
=======
   "id": "9483735b",
>>>>>>> documentation-devel
||||||| 614e9b1
   "id": "9483735b",
=======
   "id": "e1e5447e",
>>>>>>> documentation-devel
||||||| 856b4c0
<<<<<<< HEAD
   "id": "f0ae84c9",
||||||| 11b9cb7
   "id": "ccb9565f",
=======
   "id": "9483735b",
>>>>>>> documentation-devel
=======
   "id": "380d22d7",
>>>>>>> 552590ea8fad969b67afdba27558a1e6cb21016e
||||||| 452c944
   "id": "e1e5447e",
=======
   "id": "8851909c",
>>>>>>> documentation-devel
   "metadata": {
    "lines_to_next_cell": 0
   },
   "source": [
    "The area that seem significant from the permutation test is larger than that from the HVGs, and the area considered negative clusters is smaller. The significant regions are pretty much all positive cluster. Do the differences in results have anything to do with curse of dimensionality? Twenty dimensions can still exhibit curse of dimensionality, but over 300 HVGs here would be worse. Or is it that we lose a lot of information, including negative spatial autocorrelation, by only using 20 PCs?\n",
    "\n",
    "# Session info"
   ]
  },
  {
   "cell_type": "code",
   "execution_count": null,
<<<<<<< HEAD
<<<<<<< HEAD
<<<<<<< HEAD
<<<<<<< HEAD
   "id": "a4b6f4a6",
||||||| 11b9cb7
   "id": "02c70445",
=======
   "id": "f8b5ad21",
>>>>>>> documentation-devel
||||||| 614e9b1
   "id": "f8b5ad21",
=======
   "id": "a6988e5b",
>>>>>>> documentation-devel
||||||| 856b4c0
<<<<<<< HEAD
   "id": "a4b6f4a6",
||||||| 11b9cb7
   "id": "02c70445",
=======
   "id": "f8b5ad21",
>>>>>>> documentation-devel
=======
   "id": "7ef778fe",
>>>>>>> 552590ea8fad969b67afdba27558a1e6cb21016e
||||||| 452c944
   "id": "a6988e5b",
=======
   "id": "0d520423",
>>>>>>> documentation-devel
   "metadata": {},
   "outputs": [],
   "source": [
    "sessionInfo()"
   ]
  },
  {
   "cell_type": "markdown",
<<<<<<< HEAD
<<<<<<< HEAD
<<<<<<< HEAD
<<<<<<< HEAD
   "id": "b5c2c13b",
||||||| 11b9cb7
   "id": "49995e85",
=======
   "id": "cde9c444",
>>>>>>> documentation-devel
||||||| 614e9b1
   "id": "cde9c444",
=======
   "id": "f8373162",
>>>>>>> documentation-devel
||||||| 856b4c0
<<<<<<< HEAD
   "id": "b5c2c13b",
||||||| 11b9cb7
   "id": "49995e85",
=======
   "id": "cde9c444",
>>>>>>> documentation-devel
=======
   "id": "8ef5eebc",
>>>>>>> 552590ea8fad969b67afdba27558a1e6cb21016e
||||||| 452c944
   "id": "f8373162",
=======
   "id": "9f9023a0",
>>>>>>> documentation-devel
   "metadata": {},
   "source": [
    "# References"
   ]
  }
 ],
 "metadata": {
  "kernelspec": {
   "display_name": "R",
   "language": "R",
   "name": "ir"
  }
 },
 "nbformat": 4,
 "nbformat_minor": 5
}
