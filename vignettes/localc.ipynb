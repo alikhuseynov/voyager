{
 "cells": [
  {
   "cell_type": "raw",
<<<<<<< HEAD
<<<<<<< HEAD
<<<<<<< HEAD
   "id": "32c5bca0",
||||||| 3477967
   "id": "b437741f",
=======
   "id": "2c1c36d6",
>>>>>>> 763a65aa00deab365d39bc26b2dcb2cc1410a666
||||||| eb63ff5
   "id": "32c5bca0",
=======
   "id": "b37e9fd8",
>>>>>>> documentation-devel
||||||| cd53b20
<<<<<<< HEAD
   "id": "32c5bca0",
||||||| 3477967
   "id": "b437741f",
=======
   "id": "2c1c36d6",
>>>>>>> 763a65aa00deab365d39bc26b2dcb2cc1410a666
=======
   "id": "06294c73",
>>>>>>> 61c8f4bff1b7848db82b013fbfba194514b420ca
   "metadata": {},
   "source": [
    "---\n",
    "title: \"Multivariate local Geary's C\"\n",
    "author: \"Lambda Moses\"\n",
    "date: \"`r Sys.Date()`\"\n",
    "output: \n",
    "  html_document:\n",
    "  toc: true\n",
    "  toc_float:\n",
    "    collapsed: false\n",
    "  toc_depth: 3\n",
    "bibliography: ref.bib\n",
    "vignette: >\n",
    "  %\\VignetteIndexEntry{localc}\n",
    "  %\\VignetteEngine{knitr::rmarkdown}\n",
    "  %\\VignetteEncoding{UTF-8}\n",
    "---"
   ]
  },
  {
   "cell_type": "code",
   "execution_count": null,
<<<<<<< HEAD
<<<<<<< HEAD
<<<<<<< HEAD
   "id": "838c634b",
||||||| 3477967
   "id": "3a671356",
=======
   "id": "977abccc",
>>>>>>> 763a65aa00deab365d39bc26b2dcb2cc1410a666
||||||| eb63ff5
   "id": "838c634b",
=======
   "id": "6ac23497",
>>>>>>> documentation-devel
||||||| cd53b20
<<<<<<< HEAD
   "id": "838c634b",
||||||| 3477967
   "id": "3a671356",
=======
   "id": "977abccc",
>>>>>>> 763a65aa00deab365d39bc26b2dcb2cc1410a666
=======
   "id": "2fc93907",
>>>>>>> 61c8f4bff1b7848db82b013fbfba194514b420ca
   "metadata": {
    "lines_to_next_cell": 2,
    "tags": [
     "remove_cell"
    ]
   },
   "outputs": [],
   "source": [
    "knitr::opts_chunk$set(\n",
    "  collapse = TRUE,\n",
    "  comment = \"#>\"\n",
    ")"
   ]
  },
  {
   "cell_type": "code",
   "execution_count": null,
<<<<<<< HEAD
<<<<<<< HEAD
<<<<<<< HEAD
   "id": "85d4fb34",
||||||| 3477967
   "id": "1e39e2d7",
=======
   "id": "5abdb5ca",
>>>>>>> 763a65aa00deab365d39bc26b2dcb2cc1410a666
||||||| eb63ff5
   "id": "85d4fb34",
=======
   "id": "d49091fe",
>>>>>>> documentation-devel
||||||| cd53b20
<<<<<<< HEAD
   "id": "85d4fb34",
||||||| 3477967
   "id": "1e39e2d7",
=======
   "id": "5abdb5ca",
>>>>>>> 763a65aa00deab365d39bc26b2dcb2cc1410a666
=======
   "id": "069db883",
>>>>>>> 61c8f4bff1b7848db82b013fbfba194514b420ca
   "metadata": {
    "eval": false,
    "tags": [
     "remove_cell"
    ]
   },
   "outputs": [],
   "source": [
    "# Install Google Colab dependencies\n",
    "# Note: this can take 30+ minutes (many of the dependencies include C++ code, which needs to be compiled)\n",
    "\n",
    "# First install `sf`, `ragg` and `textshaping` and their system dependencies:\n",
    "system(\"apt-get -y update && apt-get install -y  libudunits2-dev libgdal-dev libgeos-dev libproj-dev libharfbuzz-dev libfribidi-dev\")\n",
    "install.packages(\"sf\")\n",
    "install.packages(\"textshaping\")\n",
    "install.packages(\"ragg\")\n",
    "\n",
    "# Install system dependencies of some other R packages that Voyager either imports or suggests:\n",
    "system(\"apt-get install -y libfribidi-dev libcairo2-dev libmagick++-dev\")\n",
    "\n",
    "# Install Voyager from Bioconductor:\n",
    "install.packages(\"BiocManager\")\n",
    "BiocManager::install(version = \"3.17\", ask = FALSE, update = FALSE, Ncpus = 2)\n",
    "BiocManager::install(\"scater\")\n",
    "system.time(\n",
    "  BiocManager::install(\"Voyager\", dependencies = TRUE, Ncpus = 2, update = FALSE)\n",
    ")\n",
    "\n",
    "# Other packages used in this vignette\n",
    "packageVersion(\"Voyager\")"
   ]
  },
  {
   "cell_type": "markdown",
<<<<<<< HEAD
<<<<<<< HEAD
<<<<<<< HEAD
   "id": "0a312a3c",
||||||| 3477967
   "id": "49ac949e",
=======
   "id": "6391b0e2",
>>>>>>> 763a65aa00deab365d39bc26b2dcb2cc1410a666
||||||| eb63ff5
   "id": "0a312a3c",
=======
   "id": "60e57b06",
>>>>>>> documentation-devel
||||||| cd53b20
<<<<<<< HEAD
   "id": "0a312a3c",
||||||| 3477967
   "id": "49ac949e",
=======
   "id": "6391b0e2",
>>>>>>> 763a65aa00deab365d39bc26b2dcb2cc1410a666
=======
   "id": "7291aa01",
>>>>>>> 61c8f4bff1b7848db82b013fbfba194514b420ca
   "metadata": {
    "lines_to_next_cell": 0
   },
   "source": [
    "# Introduction\n",
    "Local Geary's C [@Anselin1995-cs] is defined as:\n",
    "\n",
    "$$\n",
    "c_i = \\sum_jw_{ij}(x_i - x_j)^2,\n",
    "$$\n",
    "\n",
    "where $w_{ij}$s are spatial weights from location $i$ to location $j$ and $x$ is a variable at spatial location. This is generalized to multiple variables in [@Anselin2019-uv]:\n",
    "\n",
    "$$\n",
    "c_{k,i} = \\sum_{v=1}^k c_{v,i},\n",
    "$$\n",
    "\n",
    "where there are $k$ variables. This is essentially a spatially weighted sum of squared distances between locations in feature space. This vignette demonstrates usage of multivariate local Geary's C.\n",
    "\n",
    "Here we load the packages used:"
   ]
  },
  {
   "cell_type": "code",
   "execution_count": null,
<<<<<<< HEAD
<<<<<<< HEAD
<<<<<<< HEAD
   "id": "98f6f494",
||||||| 3477967
   "id": "be608d29",
=======
   "id": "e41e2114",
>>>>>>> 763a65aa00deab365d39bc26b2dcb2cc1410a666
||||||| eb63ff5
   "id": "98f6f494",
=======
   "id": "cc1c6bb9",
>>>>>>> documentation-devel
||||||| cd53b20
<<<<<<< HEAD
   "id": "98f6f494",
||||||| 3477967
   "id": "be608d29",
=======
   "id": "e41e2114",
>>>>>>> 763a65aa00deab365d39bc26b2dcb2cc1410a666
=======
   "id": "16594fba",
>>>>>>> 61c8f4bff1b7848db82b013fbfba194514b420ca
   "metadata": {
    "message": false
   },
   "outputs": [],
   "source": [
    "library(Voyager)\n",
    "library(SFEData)\n",
    "library(SpatialFeatureExperiment)\n",
    "library(scater)\n",
    "library(scran)\n",
    "library(ggplot2)\n",
    "library(spdep)\n",
    "theme_set(theme_bw())"
   ]
  },
  {
   "cell_type": "markdown",
<<<<<<< HEAD
<<<<<<< HEAD
<<<<<<< HEAD
   "id": "afc6b98f",
||||||| 3477967
   "id": "81fdd869",
=======
   "id": "958aa5ec",
>>>>>>> 763a65aa00deab365d39bc26b2dcb2cc1410a666
||||||| eb63ff5
   "id": "afc6b98f",
=======
   "id": "95ff95ec",
>>>>>>> documentation-devel
||||||| cd53b20
<<<<<<< HEAD
   "id": "afc6b98f",
||||||| 3477967
   "id": "81fdd869",
=======
   "id": "958aa5ec",
>>>>>>> 763a65aa00deab365d39bc26b2dcb2cc1410a666
=======
   "id": "d3722d7d",
>>>>>>> 61c8f4bff1b7848db82b013fbfba194514b420ca
   "metadata": {
    "lines_to_next_cell": 0
   },
   "source": [
    "QC was performed in [another vignette](https://pachterlab.github.io/voyager/articles/vig1_visium_basic.html), so this vignette will not plot QC metrics."
   ]
  },
  {
   "cell_type": "code",
   "execution_count": null,
<<<<<<< HEAD
<<<<<<< HEAD
<<<<<<< HEAD
   "id": "dc65efb7",
||||||| 3477967
   "id": "89539837",
=======
   "id": "396e1949",
>>>>>>> 763a65aa00deab365d39bc26b2dcb2cc1410a666
||||||| eb63ff5
   "id": "dc65efb7",
=======
   "id": "6013f691",
>>>>>>> documentation-devel
||||||| cd53b20
<<<<<<< HEAD
   "id": "dc65efb7",
||||||| 3477967
   "id": "89539837",
=======
   "id": "396e1949",
>>>>>>> 763a65aa00deab365d39bc26b2dcb2cc1410a666
=======
   "id": "427e9766",
>>>>>>> 61c8f4bff1b7848db82b013fbfba194514b420ca
   "metadata": {},
   "outputs": [],
   "source": [
    "(sfe <- McKellarMuscleData(\"full\"))"
   ]
  },
  {
   "cell_type": "markdown",
<<<<<<< HEAD
<<<<<<< HEAD
<<<<<<< HEAD
   "id": "df27ef37",
||||||| 3477967
   "id": "294abd4a",
=======
   "id": "c57afbd6",
>>>>>>> 763a65aa00deab365d39bc26b2dcb2cc1410a666
||||||| eb63ff5
   "id": "df27ef37",
=======
   "id": "ca008a6d",
>>>>>>> documentation-devel
||||||| cd53b20
<<<<<<< HEAD
   "id": "df27ef37",
||||||| 3477967
   "id": "294abd4a",
=======
   "id": "c57afbd6",
>>>>>>> 763a65aa00deab365d39bc26b2dcb2cc1410a666
=======
   "id": "df4e13e0",
>>>>>>> 61c8f4bff1b7848db82b013fbfba194514b420ca
   "metadata": {
    "lines_to_next_cell": 0
   },
   "source": [
    "The image can be added to the SFE object and plotted behind the geometries, and needs to be flipped to align to the spots because the origin is at the top left for the image but bottom left for geometries."
   ]
  },
  {
   "cell_type": "code",
   "execution_count": null,
<<<<<<< HEAD
<<<<<<< HEAD
<<<<<<< HEAD
   "id": "36ab38fa",
||||||| 3477967
   "id": "8a130857",
=======
   "id": "ffb10b84",
>>>>>>> 763a65aa00deab365d39bc26b2dcb2cc1410a666
||||||| eb63ff5
   "id": "36ab38fa",
=======
   "id": "26c68965",
>>>>>>> documentation-devel
||||||| cd53b20
<<<<<<< HEAD
   "id": "36ab38fa",
||||||| 3477967
   "id": "8a130857",
=======
   "id": "ffb10b84",
>>>>>>> 763a65aa00deab365d39bc26b2dcb2cc1410a666
=======
   "id": "4e701f29",
>>>>>>> 61c8f4bff1b7848db82b013fbfba194514b420ca
   "metadata": {},
   "outputs": [],
   "source": [
    "sfe <- addImg(sfe, file = \"tissue_lowres_5a.jpeg\", sample_id = \"Vis5A\", \n",
    "              image_id = \"lowres\", \n",
    "              scale_fct = 1024/22208)\n",
    "sfe <- mirrorImg(sfe, sample_id = \"Vis5A\", image_id = \"lowres\")"
   ]
  },
  {
   "cell_type": "code",
   "execution_count": null,
<<<<<<< HEAD
<<<<<<< HEAD
<<<<<<< HEAD
   "id": "c3a52657",
||||||| 3477967
   "id": "eabd1b50",
=======
   "id": "73213528",
>>>>>>> 763a65aa00deab365d39bc26b2dcb2cc1410a666
||||||| eb63ff5
   "id": "c3a52657",
=======
   "id": "70ae495c",
>>>>>>> documentation-devel
||||||| cd53b20
<<<<<<< HEAD
   "id": "c3a52657",
||||||| 3477967
   "id": "eabd1b50",
=======
   "id": "73213528",
>>>>>>> 763a65aa00deab365d39bc26b2dcb2cc1410a666
=======
   "id": "03d2d01d",
>>>>>>> 61c8f4bff1b7848db82b013fbfba194514b420ca
   "metadata": {},
   "outputs": [],
   "source": [
    "sfe_tissue <- sfe[,colData(sfe)$in_tissue]\n",
    "sfe_tissue <- sfe_tissue[rowSums(counts(sfe_tissue)) > 0,]"
   ]
  },
  {
   "cell_type": "code",
   "execution_count": null,
<<<<<<< HEAD
<<<<<<< HEAD
<<<<<<< HEAD
   "id": "6b68dd6f",
||||||| 3477967
   "id": "013bd76a",
=======
   "id": "4e4113b3",
>>>>>>> 763a65aa00deab365d39bc26b2dcb2cc1410a666
||||||| eb63ff5
   "id": "6b68dd6f",
=======
   "id": "5b26244a",
>>>>>>> documentation-devel
||||||| cd53b20
<<<<<<< HEAD
   "id": "6b68dd6f",
||||||| 3477967
   "id": "013bd76a",
=======
   "id": "4e4113b3",
>>>>>>> 763a65aa00deab365d39bc26b2dcb2cc1410a666
=======
   "id": "19f6e49c",
>>>>>>> 61c8f4bff1b7848db82b013fbfba194514b420ca
   "metadata": {},
   "outputs": [],
   "source": [
    "sfe_tissue <- logNormCounts(sfe_tissue)"
   ]
  },
  {
   "cell_type": "code",
   "execution_count": null,
<<<<<<< HEAD
<<<<<<< HEAD
<<<<<<< HEAD
   "id": "ffab842b",
||||||| 3477967
   "id": "07cfb9ef",
=======
   "id": "4452c170",
>>>>>>> 763a65aa00deab365d39bc26b2dcb2cc1410a666
||||||| eb63ff5
   "id": "ffab842b",
=======
   "id": "ba9e2a72",
>>>>>>> documentation-devel
||||||| cd53b20
<<<<<<< HEAD
   "id": "ffab842b",
||||||| 3477967
   "id": "07cfb9ef",
=======
   "id": "4452c170",
>>>>>>> 763a65aa00deab365d39bc26b2dcb2cc1410a666
=======
   "id": "f8264e9f",
>>>>>>> 61c8f4bff1b7848db82b013fbfba194514b420ca
   "metadata": {},
   "outputs": [],
   "source": [
    "colGraph(sfe_tissue, \"visium\") <- findVisiumGraph(sfe_tissue)"
   ]
  },
  {
   "cell_type": "markdown",
<<<<<<< HEAD
<<<<<<< HEAD
<<<<<<< HEAD
   "id": "e6c31607",
||||||| 3477967
   "id": "9b85ac86",
=======
   "id": "5a163a8e",
>>>>>>> 763a65aa00deab365d39bc26b2dcb2cc1410a666
||||||| eb63ff5
   "id": "e6c31607",
=======
   "id": "3beba5f8",
>>>>>>> documentation-devel
||||||| cd53b20
<<<<<<< HEAD
   "id": "e6c31607",
||||||| 3477967
   "id": "9b85ac86",
=======
   "id": "5a163a8e",
>>>>>>> 763a65aa00deab365d39bc26b2dcb2cc1410a666
=======
   "id": "3c01c358",
>>>>>>> 61c8f4bff1b7848db82b013fbfba194514b420ca
   "metadata": {
    "lines_to_next_cell": 0
   },
   "source": [
    "# Gene expression\n",
    "Here we compute multivariate local C for top highly variagle genes (HVGs) in this dataset:"
   ]
  },
  {
   "cell_type": "code",
   "execution_count": null,
<<<<<<< HEAD
<<<<<<< HEAD
<<<<<<< HEAD
   "id": "214f9dc3",
||||||| 3477967
   "id": "5c3a614c",
=======
   "id": "a5daff54",
>>>>>>> 763a65aa00deab365d39bc26b2dcb2cc1410a666
||||||| eb63ff5
   "id": "214f9dc3",
=======
   "id": "232f0f0e",
>>>>>>> documentation-devel
||||||| cd53b20
<<<<<<< HEAD
   "id": "214f9dc3",
||||||| 3477967
   "id": "5c3a614c",
=======
   "id": "a5daff54",
>>>>>>> 763a65aa00deab365d39bc26b2dcb2cc1410a666
=======
   "id": "5da82fb3",
>>>>>>> 61c8f4bff1b7848db82b013fbfba194514b420ca
   "metadata": {},
   "outputs": [],
   "source": [
    "hvgs <- getTopHVGs(sfe_tissue, fdr.threshold = 0.01)"
   ]
  },
  {
   "cell_type": "code",
   "execution_count": null,
<<<<<<< HEAD
<<<<<<< HEAD
<<<<<<< HEAD
   "id": "b7511d64",
||||||| 3477967
   "id": "3939d456",
=======
   "id": "06bf89d0",
>>>>>>> 763a65aa00deab365d39bc26b2dcb2cc1410a666
||||||| eb63ff5
   "id": "b7511d64",
=======
   "id": "b0543943",
>>>>>>> documentation-devel
||||||| cd53b20
<<<<<<< HEAD
   "id": "b7511d64",
||||||| 3477967
   "id": "3939d456",
=======
   "id": "06bf89d0",
>>>>>>> 763a65aa00deab365d39bc26b2dcb2cc1410a666
=======
   "id": "2e5efd17",
>>>>>>> 61c8f4bff1b7848db82b013fbfba194514b420ca
   "metadata": {},
   "outputs": [],
   "source": [
    "sfe_tissue <- runMultivariate(sfe_tissue, \"localC_perm_multi\", subset_row = hvgs)"
   ]
  },
  {
   "cell_type": "markdown",
<<<<<<< HEAD
<<<<<<< HEAD
<<<<<<< HEAD
   "id": "07b892ae",
||||||| 3477967
   "id": "37a8fb03",
=======
   "id": "5f8be8bf",
>>>>>>> 763a65aa00deab365d39bc26b2dcb2cc1410a666
||||||| eb63ff5
   "id": "07b892ae",
=======
   "id": "dd1f4b28",
>>>>>>> documentation-devel
||||||| cd53b20
<<<<<<< HEAD
   "id": "07b892ae",
||||||| 3477967
   "id": "37a8fb03",
=======
   "id": "5f8be8bf",
>>>>>>> 763a65aa00deab365d39bc26b2dcb2cc1410a666
=======
   "id": "31058246",
>>>>>>> 61c8f4bff1b7848db82b013fbfba194514b420ca
   "metadata": {
    "lines_to_next_cell": 0
   },
   "source": [
    "The results are stored in `reducedDim` although it's not really a dimension reduction. It can also go into `colData` if `dest = \"colData\"`. The test is two sided, but the `alternative` argument can be set to \"greater\" to only test for positive spatial autocorrelation and \"less\" for negative spatial autocorrelation."
   ]
  },
  {
   "cell_type": "code",
   "execution_count": null,
<<<<<<< HEAD
<<<<<<< HEAD
<<<<<<< HEAD
   "id": "9326522a",
||||||| 3477967
   "id": "26c868cf",
=======
   "id": "833a24a5",
>>>>>>> 763a65aa00deab365d39bc26b2dcb2cc1410a666
||||||| eb63ff5
   "id": "9326522a",
=======
   "id": "5dd9cef8",
>>>>>>> documentation-devel
||||||| cd53b20
<<<<<<< HEAD
   "id": "9326522a",
||||||| 3477967
   "id": "26c868cf",
=======
   "id": "833a24a5",
>>>>>>> 763a65aa00deab365d39bc26b2dcb2cc1410a666
=======
   "id": "38ca0e27",
>>>>>>> 61c8f4bff1b7848db82b013fbfba194514b420ca
   "metadata": {},
   "outputs": [],
   "source": [
    "names(reducedDim(sfe_tissue, \"localC_perm_multi\"))"
   ]
  },
  {
   "cell_type": "code",
   "execution_count": null,
<<<<<<< HEAD
<<<<<<< HEAD
<<<<<<< HEAD
   "id": "9bc814df",
||||||| 3477967
   "id": "01643f15",
=======
   "id": "4ebdd79c",
>>>>>>> 763a65aa00deab365d39bc26b2dcb2cc1410a666
||||||| eb63ff5
   "id": "9bc814df",
=======
   "id": "199a63a2",
>>>>>>> documentation-devel
||||||| cd53b20
<<<<<<< HEAD
   "id": "9bc814df",
||||||| 3477967
   "id": "01643f15",
=======
   "id": "4ebdd79c",
>>>>>>> 763a65aa00deab365d39bc26b2dcb2cc1410a666
=======
   "id": "9d1e20d2",
>>>>>>> 61c8f4bff1b7848db82b013fbfba194514b420ca
   "metadata": {},
   "outputs": [],
   "source": [
    "spatialReducedDim(sfe_tissue, \"localC_perm_multi\", c(1, 12),\n",
    "                  image_id = \"lowres\", maxcell = 5e4)"
   ]
  },
  {
   "cell_type": "markdown",
<<<<<<< HEAD
<<<<<<< HEAD
<<<<<<< HEAD
   "id": "6fc6a040",
||||||| 3477967
   "id": "bb0775c9",
=======
   "id": "a4b7a244",
>>>>>>> 763a65aa00deab365d39bc26b2dcb2cc1410a666
||||||| eb63ff5
   "id": "6fc6a040",
=======
   "id": "6934ee34",
>>>>>>> documentation-devel
||||||| cd53b20
<<<<<<< HEAD
   "id": "6fc6a040",
||||||| 3477967
   "id": "bb0775c9",
=======
   "id": "a4b7a244",
>>>>>>> 763a65aa00deab365d39bc26b2dcb2cc1410a666
=======
   "id": "00403faf",
>>>>>>> 61c8f4bff1b7848db82b013fbfba194514b420ca
   "metadata": {},
   "source": [
    "In Geary's C, a value below 1 indicates positive spatial autocorrelation and a value above 1 indicates negative spatial autocorrelation. Local Geary's C is not scaled, but from the square difference expression, a low value means a more homogeneous neighborhood and a high value means a more heterogeneous neighborhood. Here considering all 341 top HVGs, the muscle tendon junction and the unjury site are more heterogeneous, which is detected as negative cluster.\n",
    "\n",
    "Permutation testing was performed, although Anselin noted that the pseudo-p-values should only be taken as indicative of _interesting_ regions and should not be interpreted in a strict sense."
   ]
  },
  {
   "cell_type": "code",
   "execution_count": null,
<<<<<<< HEAD
<<<<<<< HEAD
<<<<<<< HEAD
   "id": "547d1d2e",
||||||| 3477967
   "id": "0e2bb4e3",
=======
   "id": "85c8c2bf",
>>>>>>> 763a65aa00deab365d39bc26b2dcb2cc1410a666
||||||| eb63ff5
   "id": "547d1d2e",
=======
   "id": "f7c49072",
>>>>>>> documentation-devel
||||||| cd53b20
<<<<<<< HEAD
   "id": "547d1d2e",
||||||| 3477967
   "id": "0e2bb4e3",
=======
   "id": "85c8c2bf",
>>>>>>> 763a65aa00deab365d39bc26b2dcb2cc1410a666
=======
   "id": "9585e730",
>>>>>>> 61c8f4bff1b7848db82b013fbfba194514b420ca
   "metadata": {},
   "outputs": [],
   "source": [
    "spatialReducedDim(sfe_tissue, \"localC_perm_multi\", c(11, 12),\n",
    "                  image_id = \"lowres\", maxcell = 5e4, \n",
    "                  divergent = TRUE, diverge_center = -log10(0.05))"
   ]
  },
  {
   "cell_type": "markdown",
<<<<<<< HEAD
<<<<<<< HEAD
<<<<<<< HEAD
   "id": "fc0f5b3e",
||||||| 3477967
   "id": "4a0cdd5d",
=======
   "id": "572cb6cc",
>>>>>>> 763a65aa00deab365d39bc26b2dcb2cc1410a666
||||||| eb63ff5
   "id": "fc0f5b3e",
=======
   "id": "f612aeff",
>>>>>>> documentation-devel
||||||| cd53b20
<<<<<<< HEAD
   "id": "fc0f5b3e",
||||||| 3477967
   "id": "4a0cdd5d",
=======
   "id": "572cb6cc",
>>>>>>> 763a65aa00deab365d39bc26b2dcb2cc1410a666
=======
   "id": "5c8e31db",
>>>>>>> 61c8f4bff1b7848db82b013fbfba194514b420ca
   "metadata": {},
   "source": [
    "Warm colors indicate adjusted p < 0.05. This should be interpreted along with the clusters. In this dataset, there are interestingly homogeneous regions in the myofibers, and an interestingly heterogeneous region in the injury site. Most of the significant regions are positive cluster, but the center of the injury site is significant and is negative cluster.\n",
    "\n",
    "# Top principal components\n",
    "Because multivariate local Geary's C is a spatially weighted sum of squared distances between locations in feature space, it's affected by the curse of dimensionality when used on a large number of features, when uniformly distributed data points in higher dimensions become more equidistant to each other with increasing number of dimensions. However, real data is not uniformly distributed and can have a much smaller effective dimension than the number of features, as many genes are co-regulated. Anselin suggested using the main principal components, but the issue of curse of dimensionality remains to be further investigated. Furthermore, as the cosine and Manhattan distances have been suggested to mitigate curse of dimensionality, I wonder what if I use these instead of the Euclidean distance in feature space for multivariate local Geary's C.\n",
    "\n",
    "So here we perform multivariate local Geary's C on the top PCs:"
   ]
  },
  {
   "cell_type": "code",
   "execution_count": null,
<<<<<<< HEAD
<<<<<<< HEAD
<<<<<<< HEAD
   "id": "1682b7d1",
||||||| 3477967
   "id": "0c0993b9",
=======
   "id": "0099b20c",
>>>>>>> 763a65aa00deab365d39bc26b2dcb2cc1410a666
||||||| eb63ff5
   "id": "1682b7d1",
=======
   "id": "bec76648",
>>>>>>> documentation-devel
||||||| cd53b20
<<<<<<< HEAD
   "id": "1682b7d1",
||||||| 3477967
   "id": "0c0993b9",
=======
   "id": "0099b20c",
>>>>>>> 763a65aa00deab365d39bc26b2dcb2cc1410a666
=======
   "id": "61919260",
>>>>>>> 61c8f4bff1b7848db82b013fbfba194514b420ca
   "metadata": {},
   "outputs": [],
   "source": [
    "sfe_tissue <- runPCA(sfe_tissue, ncomponents = 20, scale = TRUE)"
   ]
  },
  {
   "cell_type": "code",
   "execution_count": null,
<<<<<<< HEAD
<<<<<<< HEAD
<<<<<<< HEAD
   "id": "da8e1a8c",
||||||| 3477967
   "id": "7bd9e00a",
=======
   "id": "9333170e",
>>>>>>> 763a65aa00deab365d39bc26b2dcb2cc1410a666
||||||| eb63ff5
   "id": "da8e1a8c",
=======
   "id": "df3f9554",
>>>>>>> documentation-devel
||||||| cd53b20
<<<<<<< HEAD
   "id": "da8e1a8c",
||||||| 3477967
   "id": "7bd9e00a",
=======
   "id": "9333170e",
>>>>>>> 763a65aa00deab365d39bc26b2dcb2cc1410a666
=======
   "id": "7438e994",
>>>>>>> 61c8f4bff1b7848db82b013fbfba194514b420ca
   "metadata": {},
   "outputs": [],
   "source": [
    "ElbowPlot(sfe_tissue)"
   ]
  },
  {
   "cell_type": "markdown",
<<<<<<< HEAD
<<<<<<< HEAD
<<<<<<< HEAD
   "id": "d13e1e5f",
||||||| 3477967
   "id": "7222eebf",
=======
   "id": "c96ef507",
>>>>>>> 763a65aa00deab365d39bc26b2dcb2cc1410a666
||||||| eb63ff5
   "id": "d13e1e5f",
=======
   "id": "d0c12f3b",
>>>>>>> documentation-devel
||||||| cd53b20
<<<<<<< HEAD
   "id": "d13e1e5f",
||||||| 3477967
   "id": "7222eebf",
=======
   "id": "c96ef507",
>>>>>>> 763a65aa00deab365d39bc26b2dcb2cc1410a666
=======
   "id": "77375b07",
>>>>>>> 61c8f4bff1b7848db82b013fbfba194514b420ca
   "metadata": {
    "lines_to_next_cell": 0
   },
   "source": [
    "What percentage of variance is explained by the top 20 PCs?"
   ]
  },
  {
   "cell_type": "code",
   "execution_count": null,
<<<<<<< HEAD
<<<<<<< HEAD
<<<<<<< HEAD
   "id": "14809d8a",
||||||| 3477967
   "id": "768675ac",
=======
   "id": "f362ba91",
>>>>>>> 763a65aa00deab365d39bc26b2dcb2cc1410a666
||||||| eb63ff5
   "id": "14809d8a",
=======
   "id": "34f1e93e",
>>>>>>> documentation-devel
||||||| cd53b20
<<<<<<< HEAD
   "id": "14809d8a",
||||||| 3477967
   "id": "768675ac",
=======
   "id": "f362ba91",
>>>>>>> 763a65aa00deab365d39bc26b2dcb2cc1410a666
=======
   "id": "f6400882",
>>>>>>> 61c8f4bff1b7848db82b013fbfba194514b420ca
   "metadata": {},
   "outputs": [],
   "source": [
    "sum(attr(reducedDim(sfe_tissue, \"PCA\"), \"percentVar\"))"
   ]
  },
  {
   "cell_type": "code",
   "execution_count": null,
<<<<<<< HEAD
<<<<<<< HEAD
<<<<<<< HEAD
   "id": "a67fc9c8",
||||||| 3477967
   "id": "979c05c4",
=======
   "id": "2ab17ee2",
>>>>>>> 763a65aa00deab365d39bc26b2dcb2cc1410a666
||||||| eb63ff5
   "id": "a67fc9c8",
=======
   "id": "d6cba24f",
>>>>>>> documentation-devel
||||||| cd53b20
<<<<<<< HEAD
   "id": "a67fc9c8",
||||||| 3477967
   "id": "979c05c4",
=======
   "id": "2ab17ee2",
>>>>>>> 763a65aa00deab365d39bc26b2dcb2cc1410a666
=======
   "id": "54846a71",
>>>>>>> 61c8f4bff1b7848db82b013fbfba194514b420ca
   "metadata": {},
   "outputs": [],
   "source": [
    "out <- localC_perm(reducedDim(sfe_tissue, \"PCA\"), \n",
    "                   listw = colGraph(sfe_tissue, \"visium\"))\n",
    "out <- Voyager:::.localCpermmulti2df(out, \n",
    "                                     nb = colGraph(sfe_tissue, \"visium\")$neighbours,\n",
    "                                     p.adjust.method = \"BH\")\n",
    "reducedDim(sfe_tissue, \"localC_PCs\", withDimnames = FALSE) <- out"
   ]
  },
  {
   "cell_type": "code",
   "execution_count": null,
<<<<<<< HEAD
<<<<<<< HEAD
<<<<<<< HEAD
   "id": "a9b83431",
||||||| 3477967
   "id": "d8fb9661",
=======
   "id": "4be97f90",
>>>>>>> 763a65aa00deab365d39bc26b2dcb2cc1410a666
||||||| eb63ff5
   "id": "a9b83431",
=======
   "id": "db8bf508",
>>>>>>> documentation-devel
||||||| cd53b20
<<<<<<< HEAD
   "id": "a9b83431",
||||||| 3477967
   "id": "d8fb9661",
=======
   "id": "4be97f90",
>>>>>>> 763a65aa00deab365d39bc26b2dcb2cc1410a666
=======
   "id": "6c7f6f69",
>>>>>>> 61c8f4bff1b7848db82b013fbfba194514b420ca
   "metadata": {},
   "outputs": [],
   "source": [
    "spatialReducedDim(sfe_tissue, \"localC_PCs\", c(1, 12),\n",
    "                  image_id = \"lowres\", maxcell = 5e4)"
   ]
  },
  {
   "cell_type": "code",
   "execution_count": null,
<<<<<<< HEAD
<<<<<<< HEAD
<<<<<<< HEAD
   "id": "3ab7a690",
||||||| 3477967
   "id": "bbaef41d",
=======
   "id": "bca45e61",
>>>>>>> 763a65aa00deab365d39bc26b2dcb2cc1410a666
||||||| eb63ff5
   "id": "3ab7a690",
=======
   "id": "367995dd",
>>>>>>> documentation-devel
||||||| cd53b20
<<<<<<< HEAD
   "id": "3ab7a690",
||||||| 3477967
   "id": "bbaef41d",
=======
   "id": "bca45e61",
>>>>>>> 763a65aa00deab365d39bc26b2dcb2cc1410a666
=======
   "id": "525b2011",
>>>>>>> 61c8f4bff1b7848db82b013fbfba194514b420ca
   "metadata": {},
   "outputs": [],
   "source": [
    "spatialReducedDim(sfe_tissue, \"localC_PCs\", c(11, 12),\n",
    "                  image_id = \"lowres\", maxcell = 5e4, \n",
    "                  divergent = TRUE, diverge_center = -log10(0.05))"
   ]
  },
  {
   "cell_type": "markdown",
<<<<<<< HEAD
<<<<<<< HEAD
<<<<<<< HEAD
   "id": "ab86ec99",
||||||| 3477967
   "id": "7e3d76cf",
=======
   "id": "f408b021",
>>>>>>> 763a65aa00deab365d39bc26b2dcb2cc1410a666
||||||| eb63ff5
   "id": "ab86ec99",
=======
   "id": "b7c9b1d9",
>>>>>>> documentation-devel
||||||| cd53b20
<<<<<<< HEAD
   "id": "ab86ec99",
||||||| 3477967
   "id": "7e3d76cf",
=======
   "id": "f408b021",
>>>>>>> 763a65aa00deab365d39bc26b2dcb2cc1410a666
=======
   "id": "1deeef95",
>>>>>>> 61c8f4bff1b7848db82b013fbfba194514b420ca
   "metadata": {
    "lines_to_next_cell": 0
   },
   "source": [
    "The area that seem significant from the permutation test is larger than that from the HVGs, and the area considered negative clusters is smaller. The significant regions are pretty much all positive cluster. Do the differences in results have anything to do with curse of dimensionality? Twenty dimensions can still exhibit curse of dimensionality, but over 300 HVGs here would be worse. Or is it that we lose a lot of information, including negative spatial autocorrelation, by only using 20 PCs?\n",
    "\n",
    "# Session info"
   ]
  },
  {
   "cell_type": "code",
   "execution_count": null,
<<<<<<< HEAD
<<<<<<< HEAD
<<<<<<< HEAD
   "id": "276a2f89",
||||||| 3477967
   "id": "e8102430",
=======
   "id": "9614a60a",
>>>>>>> 763a65aa00deab365d39bc26b2dcb2cc1410a666
||||||| eb63ff5
   "id": "276a2f89",
=======
   "id": "109a4552",
>>>>>>> documentation-devel
||||||| cd53b20
<<<<<<< HEAD
   "id": "276a2f89",
||||||| 3477967
   "id": "e8102430",
=======
   "id": "9614a60a",
>>>>>>> 763a65aa00deab365d39bc26b2dcb2cc1410a666
=======
   "id": "2d38c20d",
>>>>>>> 61c8f4bff1b7848db82b013fbfba194514b420ca
   "metadata": {},
   "outputs": [],
   "source": [
    "sessionInfo()"
   ]
  },
  {
   "cell_type": "markdown",
<<<<<<< HEAD
<<<<<<< HEAD
<<<<<<< HEAD
   "id": "a7292bd0",
||||||| 3477967
   "id": "f1e6dd30",
=======
   "id": "e5bddf66",
>>>>>>> 763a65aa00deab365d39bc26b2dcb2cc1410a666
||||||| eb63ff5
   "id": "a7292bd0",
=======
   "id": "feda251b",
>>>>>>> documentation-devel
||||||| cd53b20
<<<<<<< HEAD
   "id": "a7292bd0",
||||||| 3477967
   "id": "f1e6dd30",
=======
   "id": "e5bddf66",
>>>>>>> 763a65aa00deab365d39bc26b2dcb2cc1410a666
=======
   "id": "6f1821e5",
>>>>>>> 61c8f4bff1b7848db82b013fbfba194514b420ca
   "metadata": {},
   "source": [
    "# References"
   ]
  }
 ],
 "metadata": {
  "kernelspec": {
   "display_name": "R",
   "language": "R",
   "name": "ir"
  }
 },
 "nbformat": 4,
 "nbformat_minor": 5
}
