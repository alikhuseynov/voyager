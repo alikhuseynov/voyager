{
 "cells": [
  {
   "cell_type": "raw",
<<<<<<< HEAD
<<<<<<< HEAD
   "id": "6ada0210",
||||||| 6a30bf1
   "id": "0b59a874",
=======
   "id": "0a8ca40d",
>>>>>>> documentation-devel
||||||| d28b18c
   "id": "0a8ca40d",
=======
   "id": "9de636de",
>>>>>>> documentation-devel
   "metadata": {},
   "source": [
    "---\n",
    "title: \"Basic analysis of 10X example Visium dataset\"\n",
    "author: \"Lambda Moses\"\n",
    "date: \"`r Sys.Date()`\"\n",
    "output: \n",
    "  html_document:\n",
    "  toc: true\n",
    "  toc_float:\n",
    "    collapsed: false\n",
    "  toc_depth: 3\n",
    "bibliography: ref.bib\n",
    "vignette: >\n",
    "  %\\VignetteIndexEntry{visium_10x}\n",
    "  %\\VignetteEngine{knitr::rmarkdown}\n",
    "  %\\VignetteEncoding{UTF-8}\n",
    "---"
   ]
  },
  {
   "cell_type": "code",
   "execution_count": null,
<<<<<<< HEAD
<<<<<<< HEAD
   "id": "c33e6903",
||||||| 6a30bf1
   "id": "e55ae8c0",
=======
   "id": "222c29e1",
>>>>>>> documentation-devel
||||||| d28b18c
   "id": "222c29e1",
=======
   "id": "e7c30ba4",
>>>>>>> documentation-devel
   "metadata": {
    "tags": [
     "remove_cell"
    ]
   },
   "outputs": [],
   "source": [
    "knitr::opts_chunk$set(\n",
    "  collapse = TRUE,\n",
    "  comment = \"#>\"\n",
    ")"
   ]
  },
  {
   "cell_type": "code",
   "execution_count": null,
<<<<<<< HEAD
<<<<<<< HEAD
   "id": "f488522d",
||||||| 6a30bf1
   "id": "c0336d69",
=======
   "id": "859d4292",
>>>>>>> documentation-devel
||||||| d28b18c
   "id": "859d4292",
=======
   "id": "07506e28",
>>>>>>> documentation-devel
   "metadata": {
    "eval": false,
    "tags": [
     "remove_cell"
    ]
   },
   "outputs": [],
   "source": [
    "# Install Google Colab dependencies\n",
    "# Note: this can take 30+ minutes (many of the dependencies include C++ code, which needs to be compiled)\n",
    "\n",
    "# First install `sf`, `ragg` and `textshaping` and their system dependencies:\n",
    "system(\"apt-get -y update && apt-get install -y  libudunits2-dev libgdal-dev libgeos-dev libproj-dev libharfbuzz-dev libfribidi-dev\")\n",
    "install.packages(\"sf\")\n",
    "install.packages(\"textshaping\")\n",
    "install.packages(\"ragg\")\n",
    "\n",
    "# Install system dependencies of some other R packages that Voyager either imports or suggests:\n",
    "system(\"apt-get install -y libfribidi-dev libcairo2-dev libmagick++-dev\")\n",
    "\n",
    "# Install Voyager from Bioconductor:\n",
    "install.packages(\"BiocManager\")\n",
    "BiocManager::install(version = \"3.17\", ask = FALSE, update = FALSE, Ncpus = 2)\n",
    "BiocManager::install(\"scater\")\n",
    "system.time(\n",
    "  BiocManager::install(\"Voyager\", dependencies = TRUE, Ncpus = 2, update = FALSE)\n",
    ")\n",
    "\n",
    "packageVersion(\"Voyager\")"
   ]
  },
  {
   "cell_type": "markdown",
<<<<<<< HEAD
<<<<<<< HEAD
   "id": "465a46c0",
||||||| 6a30bf1
   "id": "6b14037f",
=======
   "id": "3e36f9a9",
>>>>>>> documentation-devel
||||||| d28b18c
   "id": "3e36f9a9",
=======
   "id": "bc2c315f",
>>>>>>> documentation-devel
   "metadata": {
    "lines_to_next_cell": 0
   },
   "source": [
    "# Introduction\n",
    "\n",
    "In this introductory vignette for [`SpatialFeatureExperiment`](https://bioconductor.org/packages/devel/bioc/html/SpatialFeatureExperiment.html) data representation and [`Voyager`](https://bioconductor.org/packages/devel/bioc/html/Voyager.html) anlaysis package, we demonstrate a basic exploratory data analysis (EDA) of spatial transcriptomics data. Basic knowledge of R and [`SingleCellExperiment`](https://bioconductor.org/packages/release/bioc/html/SingleCellExperiment.html) is assumed.\n",
    "\n",
    "This vignette showcases the packages with a Visium spatial gene expression system dataset, downloaded from the 10X website, in the Space Ranger output format. The technology was chosen due to its popularity, and therefore the availability of numerous publicly available datasets for analysis [@Moses2022-xz].\n",
    "\n",
    "While Voyager was developed with the goal of facilitating the use of geospatial methods in spatial genomics, this introductory vignette is restricted to non-spatial scRNA-seq EDA with the Visium dataset. There is [another Visium introductory vignette](https://pachterlab.github.io/voyager/articles/vig1_visium_basic.html) using a dataset in the [`SFEData`](https://bioconductor.org/packages/release/data/experiment/html/SFEData.html) package but not from the 10X website.\n",
    "\n",
    "Here we load the packages used in this vignette."
   ]
  },
  {
   "cell_type": "code",
   "execution_count": null,
<<<<<<< HEAD
<<<<<<< HEAD
   "id": "3846c570",
||||||| 6a30bf1
   "id": "bfd665fd",
=======
   "id": "d489802f",
>>>>>>> documentation-devel
||||||| d28b18c
   "id": "d489802f",
=======
   "id": "83d32b3c",
>>>>>>> documentation-devel
   "metadata": {
    "name": "setup"
   },
   "outputs": [],
   "source": [
    "library(Voyager)\n",
    "library(SpatialExperiment)\n",
    "library(SpatialFeatureExperiment)\n",
    "library(SingleCellExperiment)\n",
    "library(ggplot2)\n",
    "library(scater)\n",
    "library(scuttle)\n",
    "library(scran)\n",
    "library(stringr)\n",
    "library(patchwork)\n",
    "library(bluster)\n",
    "library(rjson)\n",
    "theme_set(theme_bw())"
   ]
  },
  {
   "cell_type": "markdown",
<<<<<<< HEAD
<<<<<<< HEAD
   "id": "8232829e",
||||||| 6a30bf1
   "id": "beddd6ea",
=======
   "id": "2f822a23",
>>>>>>> documentation-devel
||||||| d28b18c
   "id": "2f822a23",
=======
   "id": "9a8a558f",
>>>>>>> documentation-devel
   "metadata": {
    "lines_to_next_cell": 0
   },
   "source": [
    "Here we download the data from the 10X website. This is the unfiltered gene count matrix:"
   ]
  },
  {
   "cell_type": "code",
   "execution_count": null,
<<<<<<< HEAD
<<<<<<< HEAD
   "id": "09bb85a0",
||||||| 6a30bf1
   "id": "f187bfda",
=======
   "id": "f6552f28",
>>>>>>> documentation-devel
||||||| d28b18c
   "id": "f6552f28",
=======
   "id": "661589c9",
>>>>>>> documentation-devel
   "metadata": {},
   "outputs": [],
   "source": [
    "if (!file.exists(\"visium_ob.tar.gz\"))\n",
    "    download.file(\"https://cf.10xgenomics.com/samples/spatial-exp/2.0.0/Visium_Mouse_Olfactory_Bulb/Visium_Mouse_Olfactory_Bulb_raw_feature_bc_matrix.tar.gz\", \n",
    "                  destfile = \"visium_ob.tar.gz\")"
   ]
  },
  {
   "cell_type": "markdown",
<<<<<<< HEAD
<<<<<<< HEAD
   "id": "a80bdf51",
||||||| 6a30bf1
   "id": "b59b3ad1",
=======
   "id": "55104b9e",
>>>>>>> documentation-devel
||||||| d28b18c
   "id": "55104b9e",
=======
   "id": "97b85a4e",
>>>>>>> documentation-devel
   "metadata": {
    "lines_to_next_cell": 0
   },
   "source": [
    "This is the spatial information:"
   ]
  },
  {
   "cell_type": "code",
   "execution_count": null,
<<<<<<< HEAD
<<<<<<< HEAD
   "id": "1ef68e85",
||||||| 6a30bf1
   "id": "e3fb6b8e",
=======
   "id": "33a3cd42",
>>>>>>> documentation-devel
||||||| d28b18c
   "id": "33a3cd42",
=======
   "id": "37109f23",
>>>>>>> documentation-devel
   "metadata": {},
   "outputs": [],
   "source": [
    "if (!file.exists(\"visium_ob_spatial.tar.gz\"))\n",
    "    download.file(\"https://cf.10xgenomics.com/samples/spatial-exp/2.0.0/Visium_Mouse_Olfactory_Bulb/Visium_Mouse_Olfactory_Bulb_spatial.tar.gz\", \n",
    "                  destfile = \"visium_ob_spatial.tar.gz\")"
   ]
  },
  {
   "cell_type": "markdown",
<<<<<<< HEAD
<<<<<<< HEAD
   "id": "6a961214",
||||||| 6a30bf1
   "id": "6b54d315",
=======
   "id": "e3af5f9c",
>>>>>>> documentation-devel
||||||| d28b18c
   "id": "e3af5f9c",
=======
   "id": "602ce9e2",
>>>>>>> documentation-devel
   "metadata": {
    "lines_to_next_cell": 0
   },
   "source": [
    "Decompress the downloaded content:"
   ]
  },
  {
   "cell_type": "code",
   "execution_count": null,
<<<<<<< HEAD
<<<<<<< HEAD
   "id": "b4da3588",
||||||| 6a30bf1
   "id": "180709f2",
=======
   "id": "5cf03cb9",
>>>>>>> documentation-devel
||||||| d28b18c
   "id": "5cf03cb9",
=======
   "id": "5ddc12c4",
>>>>>>> documentation-devel
   "metadata": {},
   "outputs": [],
   "source": [
    "if (!dir.exists(\"outs\")) {\n",
    "    dir.create(\"outs\")\n",
    "    system(\"tar -xvf visium_ob.tar.gz -C outs\")\n",
    "    system(\"tar -xvf visium_ob_spatial.tar.gz -C outs\")\n",
    "}"
   ]
  },
  {
   "cell_type": "markdown",
<<<<<<< HEAD
<<<<<<< HEAD
   "id": "6f3f4790",
||||||| 6a30bf1
   "id": "825989a1",
=======
   "id": "4ffaf600",
>>>>>>> documentation-devel
||||||| d28b18c
   "id": "4ffaf600",
=======
   "id": "a364d037",
>>>>>>> documentation-devel
   "metadata": {
    "lines_to_next_cell": 0
   },
   "source": [
    "This is what the `outs` directory in Space Ranger output looks like:"
   ]
  },
  {
   "cell_type": "code",
   "execution_count": null,
<<<<<<< HEAD
<<<<<<< HEAD
   "id": "86895e88",
||||||| 6a30bf1
   "id": "55931f01",
=======
   "id": "621834be",
>>>>>>> documentation-devel
||||||| d28b18c
   "id": "621834be",
=======
   "id": "558dabb6",
>>>>>>> documentation-devel
   "metadata": {},
   "outputs": [],
   "source": [
    "list.dirs(\"outs\")"
   ]
  },
  {
   "cell_type": "markdown",
<<<<<<< HEAD
<<<<<<< HEAD
   "id": "daa5f95e",
||||||| 6a30bf1
   "id": "676ab98c",
=======
   "id": "3374b084",
>>>>>>> documentation-devel
||||||| d28b18c
   "id": "3374b084",
=======
   "id": "bf44519e",
>>>>>>> documentation-devel
   "metadata": {
    "lines_to_next_cell": 0
   },
   "source": [
    "In the gene count matrix directory:"
   ]
  },
  {
   "cell_type": "code",
   "execution_count": null,
<<<<<<< HEAD
<<<<<<< HEAD
   "id": "46bc15ff",
||||||| 6a30bf1
   "id": "9a436c64",
=======
   "id": "c2da180c",
>>>>>>> documentation-devel
||||||| d28b18c
   "id": "c2da180c",
=======
   "id": "f8f48aca",
>>>>>>> documentation-devel
   "metadata": {},
   "outputs": [],
   "source": [
    "list.files(\"outs/raw_feature_bc_matrix\")"
   ]
  },
  {
   "cell_type": "markdown",
<<<<<<< HEAD
<<<<<<< HEAD
   "id": "87b98079",
||||||| 6a30bf1
   "id": "58f7f913",
=======
   "id": "5a43c9a1",
>>>>>>> documentation-devel
||||||| d28b18c
   "id": "5a43c9a1",
=======
   "id": "0ae671cb",
>>>>>>> documentation-devel
   "metadata": {},
   "source": [
    "In the spatial directory:"
   ]
  },
  {
   "cell_type": "code",
   "execution_count": null,
<<<<<<< HEAD
<<<<<<< HEAD
   "id": "5c371f7f",
||||||| 6a30bf1
   "id": "a2f8ca2d",
=======
   "id": "0fb58591",
>>>>>>> documentation-devel
||||||| d28b18c
   "id": "0fb58591",
=======
   "id": "f18d97b7",
>>>>>>> documentation-devel
   "metadata": {},
   "outputs": [],
   "source": [
    "list.files(\"outs/spatial\")"
   ]
  },
  {
   "cell_type": "markdown",
<<<<<<< HEAD
<<<<<<< HEAD
   "id": "7ca5886f",
||||||| 6a30bf1
   "id": "b582ab64",
=======
   "id": "c1e369c8",
>>>>>>> documentation-devel
||||||| d28b18c
   "id": "c1e369c8",
=======
   "id": "b836ad55",
>>>>>>> documentation-devel
   "metadata": {},
   "source": [
    "The outputs in the spatial directory is explained [here on the 10X website](https://support.10xgenomics.com/spatial-gene-expression/software/pipelines/latest/output/spatial).\n",
    "\n",
    "The `tissue_hires_image.png` is a relatively high resolution image of the tissue, but not full resolution. The `tissue_lowres_image.png` file is a low resolution image of the tissue, suitable for quick plotting, and is shown here:\n",
    "![tissue_lowres_image.png](https://raw.githubusercontent.com/pachterlab/voyager/documentation/vignettes/tissue_lowres_image.png)\n",
    "\n",
    "The array of dots framing the tissue seen in this image is the fiducials, used to align the tissue image to the positions of the Visium spots, so gene expression can be matched to spatial locations. The alignment of the fiducials is shown in `aligned_fiducials.jpg`. Space Ranger can automatically detect which spots are in tissue, and these spots are highlighted in `detected_tissue_image.jpg`. \n",
    "\n",
    "Inside the `scalefactors_json.json` file:"
   ]
  },
  {
   "cell_type": "code",
   "execution_count": null,
<<<<<<< HEAD
<<<<<<< HEAD
   "id": "f54cf8ed",
||||||| 6a30bf1
   "id": "398e589f",
=======
   "id": "1712bde1",
>>>>>>> documentation-devel
||||||| d28b18c
   "id": "1712bde1",
=======
   "id": "986d6052",
>>>>>>> documentation-devel
   "metadata": {
    "lines_to_next_cell": 0
   },
   "outputs": [],
   "source": [
    "fromJSON(file = \"outs/spatial/scalefactors_json.json\")"
   ]
  },
  {
   "cell_type": "markdown",
<<<<<<< HEAD
<<<<<<< HEAD
   "id": "5df65e08",
||||||| 6a30bf1
   "id": "7470730f",
=======
   "id": "561b4b29",
>>>>>>> documentation-devel
||||||| d28b18c
   "id": "561b4b29",
=======
   "id": "8891303b",
>>>>>>> documentation-devel
   "metadata": {
    "lines_to_next_cell": 0
   },
   "source": [
    "`spot_diameter_fullres` is the diameter of each Visium spot in the full resolution H&E image in pixels. `tissue_hires_scalef` and `tissue_lowres_scalef` are the ratio of the size of the high resolution (but not full resolution) and low resolution H&E image to the full resolution image. `fiducial_diameter_fullres` is the diameter of each fiducial spot used to align the spots to the H&E image in pixels in the full resolution image.\n",
    "\n",
    "The `tissue_positions_list.csv` file contains information for the coordinates of the spots in the full resolution image and whether each spot is in tissue (`in_tissue`, 1 means yes and 0 means no) as automatically detected by Space Ranger or manually annotated in the Loupe browser."
   ]
  },
  {
   "cell_type": "code",
   "execution_count": null,
<<<<<<< HEAD
<<<<<<< HEAD
   "id": "e98e8065",
||||||| 6a30bf1
   "id": "8a34c69c",
=======
   "id": "81c5685e",
>>>>>>> documentation-devel
||||||| d28b18c
   "id": "81c5685e",
=======
   "id": "33842107",
>>>>>>> documentation-devel
   "metadata": {},
   "outputs": [],
   "source": [
    "head(read.csv(\"outs/spatial/tissue_positions.csv\"))"
   ]
  },
  {
   "cell_type": "markdown",
<<<<<<< HEAD
<<<<<<< HEAD
   "id": "7d50346d",
||||||| 6a30bf1
   "id": "2737ab05",
=======
   "id": "7b18d116",
>>>>>>> documentation-devel
||||||| d28b18c
   "id": "7b18d116",
=======
   "id": "3452f93a",
>>>>>>> documentation-devel
   "metadata": {
    "lines_to_next_cell": 0
   },
   "source": [
    "The `spatial_enrichment.csv` file has Moran's I (presumably for spots in tissue) and its p-value for each gene that is detected in at least 10 spots and has at least 20 UMIs. "
   ]
  },
  {
   "cell_type": "code",
   "execution_count": null,
<<<<<<< HEAD
<<<<<<< HEAD
   "id": "d2ed8bac",
||||||| 6a30bf1
   "id": "cfe5f566",
=======
   "id": "c41c03ef",
>>>>>>> documentation-devel
||||||| d28b18c
   "id": "c41c03ef",
=======
   "id": "7b1e52df",
>>>>>>> documentation-devel
   "metadata": {},
   "outputs": [],
   "source": [
    "head(read.csv(\"outs/spatial/spatial_enrichment.csv\"))"
   ]
  },
  {
   "cell_type": "markdown",
<<<<<<< HEAD
<<<<<<< HEAD
   "id": "134394c5",
||||||| 6a30bf1
   "id": "9e29b428",
=======
   "id": "c7d4d714",
>>>>>>> documentation-devel
||||||| d28b18c
   "id": "c7d4d714",
=======
   "id": "47d9d66e",
>>>>>>> documentation-devel
   "metadata": {
    "lines_to_next_cell": 0
   },
   "source": [
    "Here we read the Space Ranger output into R as an SFE object:"
   ]
  },
  {
   "cell_type": "code",
   "execution_count": null,
<<<<<<< HEAD
<<<<<<< HEAD
   "id": "84be9f9c",
||||||| 6a30bf1
   "id": "4ddadbdd",
=======
   "id": "1bcce5de",
>>>>>>> documentation-devel
||||||| d28b18c
   "id": "1bcce5de",
=======
   "id": "bc953073",
>>>>>>> documentation-devel
   "metadata": {},
   "outputs": [],
   "source": [
    "(sfe <- read10xVisiumSFE(samples = \".\", type = \"sparse\", data = \"raw\"))"
   ]
  },
  {
   "cell_type": "markdown",
<<<<<<< HEAD
<<<<<<< HEAD
   "id": "fea1b26d",
||||||| 6a30bf1
   "id": "492e3ccb",
=======
   "id": "8b276465",
>>>>>>> documentation-devel
||||||| d28b18c
   "id": "8b276465",
=======
   "id": "5a40f7d2",
>>>>>>> documentation-devel
   "metadata": {
    "lines_to_next_cell": 0
   },
   "source": [
    "# Quality control (QC)"
   ]
  },
  {
   "cell_type": "code",
   "execution_count": null,
<<<<<<< HEAD
<<<<<<< HEAD
   "id": "ca405bd3",
||||||| 6a30bf1
   "id": "9c467944",
=======
   "id": "71653a2b",
>>>>>>> documentation-devel
||||||| d28b18c
   "id": "71653a2b",
=======
   "id": "9d153bce",
>>>>>>> documentation-devel
   "metadata": {},
   "outputs": [],
   "source": [
    "is_mt <- str_detect(rowData(sfe)$symbol, \"^mt-\")"
   ]
  },
  {
   "cell_type": "code",
   "execution_count": null,
<<<<<<< HEAD
<<<<<<< HEAD
   "id": "71365457",
||||||| 6a30bf1
   "id": "2a8dfc54",
=======
   "id": "13013945",
>>>>>>> documentation-devel
||||||| d28b18c
   "id": "13013945",
=======
   "id": "87d979e5",
>>>>>>> documentation-devel
   "metadata": {},
   "outputs": [],
   "source": [
    "sfe <- addPerCellQCMetrics(sfe, subsets = list(mito = is_mt))"
   ]
  },
  {
   "cell_type": "code",
   "execution_count": null,
<<<<<<< HEAD
<<<<<<< HEAD
   "id": "0e66a94c",
||||||| 6a30bf1
   "id": "13517370",
=======
   "id": "1f549946",
>>>>>>> documentation-devel
||||||| d28b18c
   "id": "1f549946",
=======
   "id": "c8c17802",
>>>>>>> documentation-devel
   "metadata": {
    "lines_to_next_cell": 0
   },
   "outputs": [],
   "source": [
    "names(colData(sfe))"
   ]
  },
  {
   "cell_type": "markdown",
<<<<<<< HEAD
<<<<<<< HEAD
   "id": "85402b41",
||||||| 6a30bf1
   "id": "861114e4",
=======
   "id": "84d5cc6c",
>>>>>>> documentation-devel
||||||| d28b18c
   "id": "84d5cc6c",
=======
   "id": "5c22a2b4",
>>>>>>> documentation-devel
   "metadata": {},
   "source": [
    "The mouse olfactory bulb is conventionally plotted horizontally. The entire SFE object can be transposed in histologial space to make the olfactory bulb horizontal."
   ]
  },
  {
   "cell_type": "code",
   "execution_count": null,
<<<<<<< HEAD
<<<<<<< HEAD
   "id": "5708a44b",
||||||| 6a30bf1
   "id": "7dc3368c",
=======
   "id": "0ae76dd8",
>>>>>>> documentation-devel
||||||| d28b18c
   "id": "0ae76dd8",
=======
   "id": "017cf050",
>>>>>>> documentation-devel
   "metadata": {},
   "outputs": [],
   "source": [
    "sfe <- SpatialFeatureExperiment::transpose(sfe)"
   ]
  },
  {
   "cell_type": "code",
   "execution_count": null,
<<<<<<< HEAD
<<<<<<< HEAD
   "id": "12bca2a6",
||||||| 6a30bf1
   "id": "5960632f",
=======
   "id": "8c3b7211",
>>>>>>> documentation-devel
||||||| d28b18c
   "id": "8c3b7211",
=======
   "id": "3ce5c74d",
>>>>>>> documentation-devel
   "metadata": {
    "fig.height": 6,
    "fig.width": 8
   },
   "outputs": [],
   "source": [
    "plotSpatialFeature(sfe, c(\"sum\", \"detected\", \"subsets_mito_percent\"), \n",
    "                   image_id = \"lowres\", maxcell = 5e4, ncol = 2)"
   ]
  },
  {
   "cell_type": "markdown",
<<<<<<< HEAD
<<<<<<< HEAD
   "id": "3386c127",
||||||| 6a30bf1
   "id": "88672867",
=======
   "id": "bf6c8354",
>>>>>>> documentation-devel
||||||| d28b18c
   "id": "bf6c8354",
=======
   "id": "40bdb4ec",
>>>>>>> documentation-devel
   "metadata": {
    "lines_to_next_cell": 0
   },
   "source": [
    "Percentage of mitochondrial counts in spots outside tissue is higher near the tissue, especially on the left."
   ]
  },
  {
   "cell_type": "code",
   "execution_count": null,
<<<<<<< HEAD
<<<<<<< HEAD
   "id": "13d9bdcf",
||||||| 6a30bf1
   "id": "97168d9f",
=======
   "id": "6dc5f916",
>>>>>>> documentation-devel
||||||| d28b18c
   "id": "6dc5f916",
=======
   "id": "94575abf",
>>>>>>> documentation-devel
   "metadata": {},
   "outputs": [],
   "source": [
    "plotColData(sfe, \"sum\", x = \"in_tissue\", color_by = \"in_tissue\") +\n",
    "    plotColData(sfe, \"detected\", x = \"in_tissue\", color_by = \"in_tissue\") +\n",
    "    plotColData(sfe, \"subsets_mito_percent\", x = \"in_tissue\", color_by = \"in_tissue\") +\n",
    "    plot_layout(guides = \"collect\")"
   ]
  },
  {
   "cell_type": "markdown",
<<<<<<< HEAD
<<<<<<< HEAD
   "id": "b64e2b4c",
||||||| 6a30bf1
   "id": "0183b82f",
=======
   "id": "ee385ca6",
>>>>>>> documentation-devel
||||||| d28b18c
   "id": "ee385ca6",
=======
   "id": "1a8afcb8",
>>>>>>> documentation-devel
   "metadata": {},
   "source": [
    "3 peaks, apparently histologically relevant. Also no obvious outliers."
   ]
  },
  {
   "cell_type": "code",
   "execution_count": null,
<<<<<<< HEAD
<<<<<<< HEAD
   "id": "0a3e2828",
||||||| 6a30bf1
   "id": "aaaf8180",
=======
   "id": "07adb42a",
>>>>>>> documentation-devel
||||||| d28b18c
   "id": "07adb42a",
=======
   "id": "786ce82d",
>>>>>>> documentation-devel
   "metadata": {},
   "outputs": [],
   "source": [
    "plotColData(sfe, x = \"sum\", y = \"subsets_mito_percent\", color_by = \"in_tissue\") +\n",
    "    geom_density_2d()"
   ]
  },
  {
   "cell_type": "markdown",
<<<<<<< HEAD
<<<<<<< HEAD
   "id": "4dcde835",
||||||| 6a30bf1
   "id": "4ea89019",
=======
   "id": "d9f93754",
>>>>>>> documentation-devel
||||||| d28b18c
   "id": "d9f93754",
=======
   "id": "426a3ecd",
>>>>>>> documentation-devel
   "metadata": {},
   "source": [
    "This is unlike scRNA-seq data. Spots not in tissue have a wide range of mitocondrial percentage. Spots in tissue fall into 3 clusters in this plot, seemingly related to histological regions."
   ]
  },
  {
   "cell_type": "code",
   "execution_count": null,
<<<<<<< HEAD
<<<<<<< HEAD
   "id": "39a39f26",
||||||| 6a30bf1
   "id": "4cdcddba",
=======
   "id": "4cba9504",
>>>>>>> documentation-devel
||||||| d28b18c
   "id": "4cba9504",
=======
   "id": "77ac19e5",
>>>>>>> documentation-devel
   "metadata": {},
   "outputs": [],
   "source": [
    "sfe_tissue <- sfe[,sfe$in_tissue]"
   ]
  },
  {
   "cell_type": "code",
   "execution_count": null,
<<<<<<< HEAD
<<<<<<< HEAD
   "id": "3690829c",
||||||| 6a30bf1
   "id": "9fddea30",
=======
   "id": "a6909eb7",
>>>>>>> documentation-devel
||||||| d28b18c
   "id": "a6909eb7",
=======
   "id": "c3debe10",
>>>>>>> documentation-devel
   "metadata": {},
   "outputs": [],
   "source": [
    "plotColDataBin2D(sfe_tissue, x = \"sum\", y = \"detected\", bins = 75)"
   ]
  },
  {
   "cell_type": "code",
   "execution_count": null,
<<<<<<< HEAD
<<<<<<< HEAD
   "id": "3771a473",
||||||| 6a30bf1
   "id": "c4af7a70",
=======
   "id": "1d074dad",
>>>>>>> documentation-devel
||||||| d28b18c
   "id": "1d074dad",
=======
   "id": "7fbc6acf",
>>>>>>> documentation-devel
   "metadata": {},
   "outputs": [],
   "source": [
    "#clusters <- quickCluster(sfe_tissue)\n",
    "#sfe_tissue <- computeSumFactors(sfe_tissue, clusters=clusters)\n",
    "#sfe_tissue <- sfe_tissue[, sizeFactors(sfe_tissue) > 0]\n",
    "sfe_tissue <- logNormCounts(sfe_tissue)"
   ]
  },
  {
   "cell_type": "code",
   "execution_count": null,
<<<<<<< HEAD
<<<<<<< HEAD
   "id": "53745849",
||||||| 6a30bf1
   "id": "daae2b75",
=======
   "id": "bd831d18",
>>>>>>> documentation-devel
||||||| d28b18c
   "id": "bd831d18",
=======
   "id": "e93e0a5c",
>>>>>>> documentation-devel
   "metadata": {},
   "outputs": [],
   "source": [
    "dec <- modelGeneVar(sfe_tissue, lowess = FALSE)\n",
    "hvgs <- getTopHVGs(dec, n = 2000)"
   ]
  },
  {
   "cell_type": "markdown",
<<<<<<< HEAD
<<<<<<< HEAD
   "id": "0df8bef2",
||||||| 6a30bf1
   "id": "024ef5f3",
=======
   "id": "44dbc2be",
>>>>>>> documentation-devel
||||||| d28b18c
   "id": "44dbc2be",
=======
   "id": "43ad539b",
>>>>>>> documentation-devel
   "metadata": {
    "lines_to_next_cell": 0
   },
   "source": [
    "# Dimension reduction and clustering"
   ]
  },
  {
   "cell_type": "code",
   "execution_count": null,
<<<<<<< HEAD
<<<<<<< HEAD
   "id": "c2e33342",
||||||| 6a30bf1
   "id": "46fa9d88",
=======
   "id": "68b0ff61",
>>>>>>> documentation-devel
||||||| d28b18c
   "id": "68b0ff61",
=======
   "id": "3756ef88",
>>>>>>> documentation-devel
   "metadata": {},
   "outputs": [],
   "source": [
    "sfe_tissue <- runPCA(sfe_tissue, ncomponents = 30, subset_row = hvgs,\n",
    "                     scale = TRUE) # scale as in Seurat"
   ]
  },
  {
   "cell_type": "code",
   "execution_count": null,
<<<<<<< HEAD
<<<<<<< HEAD
   "id": "49b14c95",
||||||| 6a30bf1
   "id": "777c1670",
=======
   "id": "128dfcf4",
>>>>>>> documentation-devel
||||||| d28b18c
   "id": "128dfcf4",
=======
   "id": "2e9b7728",
>>>>>>> documentation-devel
   "metadata": {},
   "outputs": [],
   "source": [
    "ElbowPlot(sfe_tissue, ndims = 30)"
   ]
  },
  {
   "cell_type": "code",
   "execution_count": null,
<<<<<<< HEAD
<<<<<<< HEAD
   "id": "53698a5d",
||||||| 6a30bf1
   "id": "acd77175",
=======
   "id": "f7a3576c",
>>>>>>> documentation-devel
||||||| d28b18c
   "id": "f7a3576c",
=======
   "id": "ad066755",
>>>>>>> documentation-devel
   "metadata": {},
   "outputs": [],
   "source": [
    "names(rowData(sfe_tissue))"
   ]
  },
  {
   "cell_type": "code",
   "execution_count": null,
<<<<<<< HEAD
<<<<<<< HEAD
   "id": "1b4696fb",
||||||| 6a30bf1
   "id": "8fa916a8",
=======
   "id": "4bf7e99a",
>>>>>>> documentation-devel
||||||| d28b18c
   "id": "4bf7e99a",
=======
   "id": "004c1521",
>>>>>>> documentation-devel
   "metadata": {},
   "outputs": [],
   "source": [
    "plotDimLoadings(sfe_tissue, dims = 1:5, swap_rownames = \"symbol\", ncol = 3)"
   ]
  },
  {
   "cell_type": "markdown",
<<<<<<< HEAD
<<<<<<< HEAD
   "id": "1f5fd321",
||||||| 6a30bf1
   "id": "16232237",
=======
   "id": "8449f440",
>>>>>>> documentation-devel
||||||| d28b18c
   "id": "8449f440",
=======
   "id": "33f0ea84",
>>>>>>> documentation-devel
   "metadata": {
    "lines_to_next_cell": 0
   },
   "source": [
    "Do the clustering to show on the dimension reduction plots"
   ]
  },
  {
   "cell_type": "code",
   "execution_count": null,
<<<<<<< HEAD
<<<<<<< HEAD
   "id": "11e659a0",
||||||| 6a30bf1
   "id": "c7fc0e90",
=======
   "id": "bb05e439",
>>>>>>> documentation-devel
||||||| d28b18c
   "id": "bb05e439",
=======
   "id": "4a14226d",
>>>>>>> documentation-devel
   "metadata": {},
   "outputs": [],
   "source": [
    "set.seed(29)\n",
    "colData(sfe_tissue)$cluster <- clusterRows(reducedDim(sfe_tissue, \"PCA\")[,1:3],\n",
    "                                           BLUSPARAM = SNNGraphParam(\n",
    "                                               cluster.fun = \"leiden\",\n",
    "                                               cluster.args = list(\n",
    "                                                   resolution_parameter = 0.5,\n",
    "                                                   objective_function = \"modularity\")))"
   ]
  },
  {
   "cell_type": "code",
   "execution_count": null,
<<<<<<< HEAD
<<<<<<< HEAD
   "id": "bc9d279e",
||||||| 6a30bf1
   "id": "26adf447",
=======
   "id": "d998c873",
>>>>>>> documentation-devel
||||||| d28b18c
   "id": "d998c873",
=======
   "id": "3a14ed60",
>>>>>>> documentation-devel
   "metadata": {
    "fig.height": 9,
    "fig.width": 9
   },
   "outputs": [],
   "source": [
    "plotPCA(sfe_tissue, ncomponents = 5, colour_by = \"cluster\")"
   ]
  },
  {
   "cell_type": "code",
   "execution_count": null,
<<<<<<< HEAD
<<<<<<< HEAD
   "id": "59cacbd0",
||||||| 6a30bf1
   "id": "60a8effa",
=======
   "id": "fb78e325",
>>>>>>> documentation-devel
||||||| d28b18c
   "id": "fb78e325",
=======
   "id": "bc4c5238",
>>>>>>> documentation-devel
   "metadata": {},
   "outputs": [],
   "source": [
    "plotSpatialFeature(sfe_tissue, features = \"cluster\", \n",
    "                   colGeometryName = \"spotPoly\", image_id = \"lowres\")"
   ]
  },
  {
   "cell_type": "code",
   "execution_count": null,
<<<<<<< HEAD
<<<<<<< HEAD
   "id": "9b80e5ab",
||||||| 6a30bf1
   "id": "39f60da1",
=======
   "id": "3648cf32",
>>>>>>> documentation-devel
||||||| d28b18c
   "id": "3648cf32",
=======
   "id": "2453e53a",
>>>>>>> documentation-devel
   "metadata": {
    "fig.height": 8,
    "fig.width": 8
   },
   "outputs": [],
   "source": [
    "spatialReducedDim(sfe_tissue, \"PCA\", ncomponents = 5, \n",
    "                  colGeometryName = \"spotPoly\", divergent = TRUE, \n",
    "                  diverge_center = 0, ncol = 2, \n",
    "                  image_id = \"lowres\", maxcell = 5e4)"
   ]
  },
  {
   "cell_type": "code",
   "execution_count": null,
<<<<<<< HEAD
<<<<<<< HEAD
   "id": "4101d63c",
||||||| 6a30bf1
   "id": "755de685",
=======
   "id": "c0f24793",
>>>>>>> documentation-devel
||||||| d28b18c
   "id": "c0f24793",
=======
   "id": "f4af2598",
>>>>>>> documentation-devel
   "metadata": {},
   "outputs": [],
   "source": [
    "markers <- findMarkers(sfe_tissue, groups = colData(sfe_tissue)$cluster,\n",
    "                       test.type = \"wilcox\", pval.type = \"all\", direction = \"up\")"
   ]
  },
  {
   "cell_type": "markdown",
<<<<<<< HEAD
<<<<<<< HEAD
   "id": "f41a8b3f",
||||||| 6a30bf1
   "id": "bc0f5722",
=======
   "id": "66f4e280",
>>>>>>> documentation-devel
||||||| d28b18c
   "id": "66f4e280",
=======
   "id": "0d2f62bf",
>>>>>>> documentation-devel
   "metadata": {
    "lines_to_next_cell": 0
   },
   "source": [
    "Significant markers for each cluster can be obtained as follows:"
   ]
  },
  {
   "cell_type": "code",
   "execution_count": null,
<<<<<<< HEAD
<<<<<<< HEAD
   "id": "c66bcd1f",
||||||| 6a30bf1
   "id": "5829b19b",
=======
   "id": "573e8840",
>>>>>>> documentation-devel
||||||| d28b18c
   "id": "573e8840",
=======
   "id": "09bb7868",
>>>>>>> documentation-devel
   "metadata": {},
   "outputs": [],
   "source": [
    "genes_use <- vapply(markers, function(x) rownames(x)[1], FUN.VALUE = character(1))\n",
    "plotExpression(sfe_tissue, rowData(sfe_tissue)[genes_use, \"symbol\"], x = \"cluster\",\n",
    "               colour_by = \"cluster\", swap_rownames = \"symbol\")"
   ]
  },
  {
   "cell_type": "markdown",
<<<<<<< HEAD
<<<<<<< HEAD
   "id": "5df2ab1b",
||||||| 6a30bf1
   "id": "cccb7e9e",
=======
   "id": "80f8052c",
>>>>>>> documentation-devel
||||||| d28b18c
   "id": "80f8052c",
=======
   "id": "65e59369",
>>>>>>> documentation-devel
   "metadata": {
    "lines_to_next_cell": 0
   },
   "source": [
    "These genes are interesting to view in spatial context:"
   ]
  },
  {
   "cell_type": "code",
   "execution_count": null,
<<<<<<< HEAD
<<<<<<< HEAD
   "id": "aad2557d",
||||||| 6a30bf1
   "id": "5bb931c1",
=======
   "id": "8e772bf4",
>>>>>>> documentation-devel
||||||| d28b18c
   "id": "8e772bf4",
=======
   "id": "62c709c7",
>>>>>>> documentation-devel
   "metadata": {
    "fig.height": 8,
    "fig.width": 8
   },
   "outputs": [],
   "source": [
    "plotSpatialFeature(sfe_tissue, genes_use, colGeometryName = \"spotPoly\", ncol = 2,\n",
    "                   swap_rownames = \"symbol\", image_id = \"lowres\", maxcell = 5e4)"
   ]
  },
  {
   "cell_type": "markdown",
<<<<<<< HEAD
<<<<<<< HEAD
   "id": "535c2135",
||||||| 6a30bf1
   "id": "1e9b314c",
=======
   "id": "088ac70c",
>>>>>>> documentation-devel
||||||| d28b18c
   "id": "088ac70c",
=======
   "id": "0bf8e98c",
>>>>>>> documentation-devel
   "metadata": {
    "lines_to_next_cell": 0
   },
   "source": [
    "More spatial analyses on this dataset is performed in [an \"advanced\" version of this vignette](https://pachterlab.github.io/voyager/articles/visium_10x_spatial.html).\n",
    "\n",
    "# Session info"
   ]
  },
  {
   "cell_type": "code",
   "execution_count": null,
<<<<<<< HEAD
<<<<<<< HEAD
   "id": "cadec817",
||||||| 6a30bf1
   "id": "fe2f5587",
=======
   "id": "07582672",
>>>>>>> documentation-devel
||||||| d28b18c
   "id": "07582672",
=======
   "id": "3d3cc9c3",
>>>>>>> documentation-devel
   "metadata": {},
   "outputs": [],
   "source": [
    "sessionInfo()"
   ]
  }
 ],
 "metadata": {
  "kernelspec": {
   "display_name": "R",
   "language": "R",
   "name": "ir"
  }
 },
 "nbformat": 4,
 "nbformat_minor": 5
}
