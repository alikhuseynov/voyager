{
 "cells": [
  {
   "cell_type": "raw",
<<<<<<< HEAD
<<<<<<< HEAD
   "id": "b012f694",
||||||| b944554d
   "id": "bfefb863",
=======
   "id": "f44d8ee4",
>>>>>>> documentation-devel
||||||| 35cb6e7a
   "id": "f44d8ee4",
=======
   "id": "9eab0310",
>>>>>>> documentation-devel
   "metadata": {},
   "source": [
    "---\n",
    "title: \"Basic analysis of 10X example Visium dataset\"\n",
    "author: \"Lambda Moses\"\n",
    "date: \"`r Sys.Date()`\"\n",
    "output: \n",
    "  html_document:\n",
    "  toc: true\n",
    "  toc_float:\n",
    "    collapsed: false\n",
    "  toc_depth: 3\n",
    "bibliography: ref.bib\n",
    "vignette: >\n",
    "  %\\VignetteIndexEntry{visium_10x}\n",
    "  %\\VignetteEngine{knitr::rmarkdown}\n",
    "  %\\VignetteEncoding{UTF-8}\n",
    "---"
   ]
  },
  {
   "cell_type": "code",
   "execution_count": null,
<<<<<<< HEAD
<<<<<<< HEAD
   "id": "78a41ce8",
||||||| b944554d
   "id": "99038541",
=======
   "id": "3ab8bbd2",
>>>>>>> documentation-devel
||||||| 35cb6e7a
   "id": "3ab8bbd2",
=======
   "id": "de0d88a7",
>>>>>>> documentation-devel
   "metadata": {
    "tags": [
     "remove_cell"
    ]
   },
   "outputs": [],
   "source": [
    "knitr::opts_chunk$set(\n",
    "  collapse = TRUE,\n",
    "  comment = \"#>\"\n",
    ")"
   ]
  },
  {
   "cell_type": "code",
   "execution_count": null,
<<<<<<< HEAD
<<<<<<< HEAD
   "id": "f8ca35ff",
||||||| b944554d
   "id": "65769b10",
=======
   "id": "3485abf0",
>>>>>>> documentation-devel
||||||| 35cb6e7a
   "id": "3485abf0",
=======
   "id": "f9a51732",
>>>>>>> documentation-devel
   "metadata": {
    "eval": false,
    "tags": [
     "remove_cell"
    ]
   },
   "outputs": [],
   "source": [
    "# Install Google Colab dependencies\n",
    "# Note: this can take 30+ minutes (many of the dependencies include C++ code, which needs to be compiled)\n",
    "\n",
    "# First install `sf`, `ragg` and `textshaping` and their system dependencies:\n",
    "system(\"apt-get -y update && apt-get install -y  libudunits2-dev libgdal-dev libgeos-dev libproj-dev libharfbuzz-dev libfribidi-dev\")\n",
    "install.packages(\"sf\")\n",
    "install.packages(\"textshaping\")\n",
    "install.packages(\"ragg\")\n",
    "\n",
    "# Install system dependencies of some other R packages that Voyager either imports or suggests:\n",
    "system(\"apt-get install -y libfribidi-dev libcairo2-dev libmagick++-dev\")\n",
    "\n",
    "# Install Voyager from Bioconductor:\n",
    "install.packages(\"BiocManager\")\n",
    "BiocManager::install(version = \"3.17\", ask = FALSE, update = FALSE, Ncpus = 2)\n",
    "BiocManager::install(\"scater\")\n",
    "system.time(\n",
    "  BiocManager::install(\"Voyager\", dependencies = TRUE, Ncpus = 2, update = FALSE)\n",
    ")\n",
    "\n",
    "packageVersion(\"Voyager\")"
   ]
  },
  {
   "cell_type": "markdown",
<<<<<<< HEAD
<<<<<<< HEAD
   "id": "fdb5d248",
||||||| b944554d
   "id": "2de450f7",
=======
   "id": "6d1ad61a",
>>>>>>> documentation-devel
||||||| 35cb6e7a
   "id": "6d1ad61a",
=======
   "id": "075bf399",
>>>>>>> documentation-devel
   "metadata": {
    "lines_to_next_cell": 0
   },
   "source": [
    "# Introduction\n",
    "\n",
    "In this introductory vignette for [`SpatialFeatureExperiment`](https://bioconductor.org/packages/devel/bioc/html/SpatialFeatureExperiment.html) data representation and [`Voyager`](https://bioconductor.org/packages/devel/bioc/html/Voyager.html) anlaysis package, we demonstrate a basic exploratory data analysis (EDA) of spatial transcriptomics data. Basic knowledge of R and [`SingleCellExperiment`](https://bioconductor.org/packages/release/bioc/html/SingleCellExperiment.html) is assumed.\n",
    "\n",
    "This vignette showcases the packages with a Visium spatial gene expression system dataset, downloaded from the 10X website, in the Space Ranger output format. The technology was chosen due to its popularity, and therefore the availability of numerous publicly available datasets for analysis [@Moses2022-xz].\n",
    "\n",
    "While Voyager was developed with the goal of facilitating the use of geospatial methods in spatial genomics, this introductory vignette is restricted to non-spatial scRNA-seq EDA with the Visium dataset. There is [another Visium introductory vignette](https://pachterlab.github.io/voyager/articles/vig1_visium_basic.html) using a dataset in the [`SFEData`](https://bioconductor.org/packages/release/data/experiment/html/SFEData.html) package but not from the 10X website.\n",
    "\n",
    "Here we load the packages used in this vignette."
   ]
  },
  {
   "cell_type": "code",
   "execution_count": null,
<<<<<<< HEAD
<<<<<<< HEAD
   "id": "99873e63",
||||||| b944554d
   "id": "fde4160b",
=======
   "id": "e58da946",
>>>>>>> documentation-devel
||||||| 35cb6e7a
   "id": "e58da946",
=======
   "id": "a0c96c1d",
>>>>>>> documentation-devel
   "metadata": {
    "message": false,
    "name": "setup"
   },
   "outputs": [],
   "source": [
    "library(Voyager)\n",
    "library(SpatialExperiment)\n",
    "library(SpatialFeatureExperiment)\n",
    "library(SingleCellExperiment)\n",
    "library(ggplot2)\n",
    "library(scater)\n",
    "library(scuttle)\n",
    "library(scran)\n",
    "library(stringr)\n",
    "library(patchwork)\n",
    "library(bluster)\n",
    "library(rjson)\n",
    "theme_set(theme_bw())"
   ]
  },
  {
   "cell_type": "markdown",
<<<<<<< HEAD
<<<<<<< HEAD
   "id": "491bb8c0",
||||||| b944554d
   "id": "4b820971",
=======
   "id": "3b65e202",
>>>>>>> documentation-devel
||||||| 35cb6e7a
   "id": "3b65e202",
=======
   "id": "66ac180c",
>>>>>>> documentation-devel
   "metadata": {
    "lines_to_next_cell": 0
   },
   "source": [
    "Here we download the data from the 10X website. This is the unfiltered gene count matrix:"
   ]
  },
  {
   "cell_type": "code",
   "execution_count": null,
<<<<<<< HEAD
<<<<<<< HEAD
   "id": "810765b6",
||||||| b944554d
   "id": "2481a71a",
=======
   "id": "811a921e",
>>>>>>> documentation-devel
||||||| 35cb6e7a
   "id": "811a921e",
=======
   "id": "3c25dfe9",
>>>>>>> documentation-devel
   "metadata": {},
   "outputs": [],
   "source": [
    "if (!file.exists(\"visium_ob.tar.gz\"))\n",
    "    download.file(\"https://cf.10xgenomics.com/samples/spatial-exp/2.0.0/Visium_Mouse_Olfactory_Bulb/Visium_Mouse_Olfactory_Bulb_raw_feature_bc_matrix.tar.gz\", \n",
    "                  destfile = \"visium_ob.tar.gz\")"
   ]
  },
  {
   "cell_type": "markdown",
<<<<<<< HEAD
<<<<<<< HEAD
   "id": "5bd43551",
||||||| b944554d
   "id": "256eaacd",
=======
   "id": "c9d9d0c3",
>>>>>>> documentation-devel
||||||| 35cb6e7a
   "id": "c9d9d0c3",
=======
   "id": "3702b04a",
>>>>>>> documentation-devel
   "metadata": {
    "lines_to_next_cell": 0
   },
   "source": [
    "This is the spatial information:"
   ]
  },
  {
   "cell_type": "code",
   "execution_count": null,
<<<<<<< HEAD
<<<<<<< HEAD
   "id": "98342673",
||||||| b944554d
   "id": "3614d3cc",
=======
   "id": "0c4ad1d8",
>>>>>>> documentation-devel
||||||| 35cb6e7a
   "id": "0c4ad1d8",
=======
   "id": "2fa1d791",
>>>>>>> documentation-devel
   "metadata": {},
   "outputs": [],
   "source": [
    "if (!file.exists(\"visium_ob_spatial.tar.gz\"))\n",
    "    download.file(\"https://cf.10xgenomics.com/samples/spatial-exp/2.0.0/Visium_Mouse_Olfactory_Bulb/Visium_Mouse_Olfactory_Bulb_spatial.tar.gz\", \n",
    "                  destfile = \"visium_ob_spatial.tar.gz\")"
   ]
  },
  {
   "cell_type": "markdown",
<<<<<<< HEAD
<<<<<<< HEAD
   "id": "0b734c1a",
||||||| b944554d
   "id": "741aaff2",
=======
   "id": "c87d9f9a",
>>>>>>> documentation-devel
||||||| 35cb6e7a
   "id": "c87d9f9a",
=======
   "id": "ea98a2b5",
>>>>>>> documentation-devel
   "metadata": {
    "lines_to_next_cell": 0
   },
   "source": [
    "Decompress the downloaded content:"
   ]
  },
  {
   "cell_type": "code",
   "execution_count": null,
<<<<<<< HEAD
<<<<<<< HEAD
   "id": "bbb91148",
||||||| b944554d
   "id": "c975ea3c",
=======
   "id": "43114cba",
>>>>>>> documentation-devel
||||||| 35cb6e7a
   "id": "43114cba",
=======
   "id": "8cbba2fa",
>>>>>>> documentation-devel
   "metadata": {},
   "outputs": [],
   "source": [
    "if (!dir.exists(\"outs\")) {\n",
    "    dir.create(\"outs\")\n",
    "    system(\"tar -xvf visium_ob.tar.gz -C outs\")\n",
    "    system(\"tar -xvf visium_ob_spatial.tar.gz -C outs\")\n",
    "}"
   ]
  },
  {
   "cell_type": "markdown",
<<<<<<< HEAD
<<<<<<< HEAD
   "id": "b1ddb401",
||||||| b944554d
   "id": "ea0e6f85",
=======
   "id": "100ff498",
>>>>>>> documentation-devel
||||||| 35cb6e7a
   "id": "100ff498",
=======
   "id": "9fa43e23",
>>>>>>> documentation-devel
   "metadata": {
    "lines_to_next_cell": 0
   },
   "source": [
    "This is what the `outs` directory in Space Ranger output looks like:"
   ]
  },
  {
   "cell_type": "code",
   "execution_count": null,
<<<<<<< HEAD
<<<<<<< HEAD
   "id": "5d4f7294",
||||||| b944554d
   "id": "0caeb55d",
=======
   "id": "906d7ca3",
>>>>>>> documentation-devel
||||||| 35cb6e7a
   "id": "906d7ca3",
=======
   "id": "b7d00945",
>>>>>>> documentation-devel
   "metadata": {},
   "outputs": [],
   "source": [
    "list.dirs(\"outs\")"
   ]
  },
  {
   "cell_type": "markdown",
<<<<<<< HEAD
<<<<<<< HEAD
   "id": "babc9db9",
||||||| b944554d
   "id": "b0576f31",
=======
   "id": "00e6bac2",
>>>>>>> documentation-devel
||||||| 35cb6e7a
   "id": "00e6bac2",
=======
   "id": "98886520",
>>>>>>> documentation-devel
   "metadata": {
    "lines_to_next_cell": 0
   },
   "source": [
    "In the gene count matrix directory:"
   ]
  },
  {
   "cell_type": "code",
   "execution_count": null,
<<<<<<< HEAD
<<<<<<< HEAD
   "id": "215e7ffe",
||||||| b944554d
   "id": "9781bd3c",
=======
   "id": "ec6293ee",
>>>>>>> documentation-devel
||||||| 35cb6e7a
   "id": "ec6293ee",
=======
   "id": "ccfda235",
>>>>>>> documentation-devel
   "metadata": {},
   "outputs": [],
   "source": [
    "list.files(\"outs/raw_feature_bc_matrix\")"
   ]
  },
  {
   "cell_type": "markdown",
<<<<<<< HEAD
<<<<<<< HEAD
   "id": "efb2aa1e",
||||||| b944554d
   "id": "9c8626ab",
=======
   "id": "8aba0f20",
>>>>>>> documentation-devel
||||||| 35cb6e7a
   "id": "8aba0f20",
=======
   "id": "95f54093",
>>>>>>> documentation-devel
   "metadata": {},
   "source": [
    "In the spatial directory:"
   ]
  },
  {
   "cell_type": "code",
   "execution_count": null,
<<<<<<< HEAD
<<<<<<< HEAD
   "id": "2ace0a3f",
||||||| b944554d
   "id": "0c4d786a",
=======
   "id": "89b4943b",
>>>>>>> documentation-devel
||||||| 35cb6e7a
   "id": "89b4943b",
=======
   "id": "ce6eac23",
>>>>>>> documentation-devel
   "metadata": {},
   "outputs": [],
   "source": [
    "list.files(\"outs/spatial\")"
   ]
  },
  {
   "cell_type": "markdown",
<<<<<<< HEAD
<<<<<<< HEAD
   "id": "d7ded262",
||||||| b944554d
   "id": "c61ef230",
=======
   "id": "e7adcee3",
>>>>>>> documentation-devel
||||||| 35cb6e7a
   "id": "e7adcee3",
=======
   "id": "825cf6cc",
>>>>>>> documentation-devel
   "metadata": {},
   "source": [
    "The outputs in the spatial directory is explained [here on the 10X website](https://support.10xgenomics.com/spatial-gene-expression/software/pipelines/latest/output/spatial).\n",
    "\n",
    "The `tissue_hires_image.png` is a relatively high resolution image of the tissue, but not full resolution. The `tissue_lowres_image.png` file is a low resolution image of the tissue, suitable for quick plotting, and is shown here:\n",
    "![tissue_lowres_image.png](https://raw.githubusercontent.com/pachterlab/voyager/documentation/vignettes/tissue_lowres_image.png)\n",
    "\n",
    "The array of dots framing the tissue seen in this image is the fiducials, used to align the tissue image to the positions of the Visium spots, so gene expression can be matched to spatial locations. The alignment of the fiducials is shown in `aligned_fiducials.jpg`. Space Ranger can automatically detect which spots are in tissue, and these spots are highlighted in `detected_tissue_image.jpg`. \n",
    "\n",
    "Inside the `scalefactors_json.json` file:"
   ]
  },
  {
   "cell_type": "code",
   "execution_count": null,
<<<<<<< HEAD
<<<<<<< HEAD
   "id": "434736fb",
||||||| b944554d
   "id": "d0705057",
=======
   "id": "9d8b4d5e",
>>>>>>> documentation-devel
||||||| 35cb6e7a
   "id": "9d8b4d5e",
=======
   "id": "c8afab1d",
>>>>>>> documentation-devel
   "metadata": {
    "lines_to_next_cell": 0
   },
   "outputs": [],
   "source": [
    "fromJSON(file = \"outs/spatial/scalefactors_json.json\")"
   ]
  },
  {
   "cell_type": "markdown",
<<<<<<< HEAD
<<<<<<< HEAD
   "id": "fcd507df",
||||||| b944554d
   "id": "2d8901c2",
=======
   "id": "ec638c49",
>>>>>>> documentation-devel
||||||| 35cb6e7a
   "id": "ec638c49",
=======
   "id": "0c6d906c",
>>>>>>> documentation-devel
   "metadata": {
    "lines_to_next_cell": 0
   },
   "source": [
    "`spot_diameter_fullres` is the diameter of each Visium spot in the full resolution H&E image in pixels. `tissue_hires_scalef` and `tissue_lowres_scalef` are the ratio of the size of the high resolution (but not full resolution) and low resolution H&E image to the full resolution image. `fiducial_diameter_fullres` is the diameter of each fiducial spot used to align the spots to the H&E image in pixels in the full resolution image.\n",
    "\n",
    "The `tissue_positions_list.csv` file contains information for the coordinates of the spots in the full resolution image and whether each spot is in tissue (`in_tissue`, 1 means yes and 0 means no) as automatically detected by Space Ranger or manually annotated in the Loupe browser."
   ]
  },
  {
   "cell_type": "code",
   "execution_count": null,
<<<<<<< HEAD
<<<<<<< HEAD
   "id": "b06585b8",
||||||| b944554d
   "id": "3660bed8",
=======
   "id": "10c4ff48",
>>>>>>> documentation-devel
||||||| 35cb6e7a
   "id": "10c4ff48",
=======
   "id": "a498b320",
>>>>>>> documentation-devel
   "metadata": {},
   "outputs": [],
   "source": [
    "head(read.csv(\"outs/spatial/tissue_positions.csv\"))"
   ]
  },
  {
   "cell_type": "markdown",
<<<<<<< HEAD
<<<<<<< HEAD
   "id": "8e17275f",
||||||| b944554d
   "id": "6a1ad81a",
=======
   "id": "660e10e2",
>>>>>>> documentation-devel
||||||| 35cb6e7a
   "id": "660e10e2",
=======
   "id": "86e3c132",
>>>>>>> documentation-devel
   "metadata": {
    "lines_to_next_cell": 0
   },
   "source": [
    "The `spatial_enrichment.csv` file has Moran's I (presumably for spots in tissue) and its p-value for each gene that is detected in at least 10 spots and has at least 20 UMIs. "
   ]
  },
  {
   "cell_type": "code",
   "execution_count": null,
<<<<<<< HEAD
<<<<<<< HEAD
   "id": "8c9ee9c9",
||||||| b944554d
   "id": "d8201450",
=======
   "id": "2182eee6",
>>>>>>> documentation-devel
||||||| 35cb6e7a
   "id": "2182eee6",
=======
   "id": "6c4dd6dc",
>>>>>>> documentation-devel
   "metadata": {},
   "outputs": [],
   "source": [
    "head(read.csv(\"outs/spatial/spatial_enrichment.csv\"))"
   ]
  },
  {
   "cell_type": "markdown",
<<<<<<< HEAD
<<<<<<< HEAD
   "id": "8bd9ab5b",
||||||| b944554d
   "id": "f774c981",
=======
   "id": "7f06e141",
>>>>>>> documentation-devel
||||||| 35cb6e7a
   "id": "7f06e141",
=======
   "id": "72f38edd",
>>>>>>> documentation-devel
   "metadata": {
    "lines_to_next_cell": 0
   },
   "source": [
    "Here we read the Space Ranger output into R as an SFE object:"
   ]
  },
  {
   "cell_type": "code",
   "execution_count": null,
<<<<<<< HEAD
<<<<<<< HEAD
   "id": "d34bfe15",
||||||| b944554d
   "id": "4ae2ae4c",
=======
   "id": "9a4433ba",
>>>>>>> documentation-devel
||||||| 35cb6e7a
   "id": "9a4433ba",
=======
   "id": "5698c9db",
>>>>>>> documentation-devel
   "metadata": {},
   "outputs": [],
   "source": [
    "(sfe <- read10xVisiumSFE(samples = \".\", type = \"sparse\", data = \"raw\"))"
   ]
  },
  {
   "cell_type": "markdown",
<<<<<<< HEAD
<<<<<<< HEAD
   "id": "fcd817a0",
||||||| b944554d
   "id": "e3e946e4",
=======
   "id": "983133ae",
>>>>>>> documentation-devel
||||||| 35cb6e7a
   "id": "983133ae",
=======
   "id": "aeba2e47",
>>>>>>> documentation-devel
   "metadata": {
    "lines_to_next_cell": 0
   },
   "source": [
    "# Quality control (QC)"
   ]
  },
  {
   "cell_type": "code",
   "execution_count": null,
<<<<<<< HEAD
<<<<<<< HEAD
   "id": "abd0d1f0",
||||||| b944554d
   "id": "7b0fdf5e",
=======
   "id": "100dbae1",
>>>>>>> documentation-devel
||||||| 35cb6e7a
   "id": "100dbae1",
=======
   "id": "2502c0e5",
>>>>>>> documentation-devel
   "metadata": {},
   "outputs": [],
   "source": [
    "is_mt <- str_detect(rowData(sfe)$symbol, \"^mt-\")"
   ]
  },
  {
   "cell_type": "code",
   "execution_count": null,
<<<<<<< HEAD
<<<<<<< HEAD
   "id": "7b5421ee",
||||||| b944554d
   "id": "ef7bc132",
=======
   "id": "54359074",
>>>>>>> documentation-devel
||||||| 35cb6e7a
   "id": "54359074",
=======
   "id": "60fe2ad6",
>>>>>>> documentation-devel
   "metadata": {},
   "outputs": [],
   "source": [
    "sfe <- addPerCellQCMetrics(sfe, subsets = list(mito = is_mt))"
   ]
  },
  {
   "cell_type": "code",
   "execution_count": null,
<<<<<<< HEAD
<<<<<<< HEAD
   "id": "8fdedafe",
||||||| b944554d
   "id": "bed71a30",
=======
   "id": "6bad2e1a",
>>>>>>> documentation-devel
||||||| 35cb6e7a
   "id": "6bad2e1a",
=======
   "id": "f51ecef8",
>>>>>>> documentation-devel
   "metadata": {
    "lines_to_next_cell": 0
   },
   "outputs": [],
   "source": [
    "names(colData(sfe))"
   ]
  },
  {
   "cell_type": "markdown",
<<<<<<< HEAD
<<<<<<< HEAD
   "id": "edcdeb14",
||||||| b944554d
   "id": "11d1a813",
=======
   "id": "a795d4e6",
>>>>>>> documentation-devel
||||||| 35cb6e7a
   "id": "a795d4e6",
=======
   "id": "9a79f762",
>>>>>>> documentation-devel
   "metadata": {},
   "source": [
    "The mouse olfactory bulb is conventionally plotted horizontally. The entire SFE object can be transposed in histologial space to make the olfactory bulb horizontal."
   ]
  },
  {
   "cell_type": "code",
   "execution_count": null,
<<<<<<< HEAD
<<<<<<< HEAD
   "id": "c5c39c52",
||||||| b944554d
   "id": "076f482b",
=======
   "id": "1c776c91",
>>>>>>> documentation-devel
||||||| 35cb6e7a
   "id": "1c776c91",
=======
   "id": "f6c082ad",
>>>>>>> documentation-devel
   "metadata": {},
   "outputs": [],
   "source": [
    "sfe <- SpatialFeatureExperiment::transpose(sfe)"
   ]
  },
  {
   "cell_type": "code",
   "execution_count": null,
<<<<<<< HEAD
<<<<<<< HEAD
   "id": "c0b3aaca",
||||||| b944554d
   "id": "aa61cab5",
=======
   "id": "7b73d11f",
>>>>>>> documentation-devel
||||||| 35cb6e7a
   "id": "7b73d11f",
=======
   "id": "76d9aea5",
>>>>>>> documentation-devel
   "metadata": {
    "fig.height": 6,
    "fig.width": 8
   },
   "outputs": [],
   "source": [
    "plotSpatialFeature(sfe, c(\"sum\", \"detected\", \"subsets_mito_percent\"), \n",
    "                   image_id = \"lowres\", maxcell = 5e4, ncol = 2)"
   ]
  },
  {
   "cell_type": "markdown",
<<<<<<< HEAD
<<<<<<< HEAD
   "id": "72f5c298",
||||||| b944554d
   "id": "77ab9e38",
=======
   "id": "e9ac2b52",
>>>>>>> documentation-devel
||||||| 35cb6e7a
   "id": "e9ac2b52",
=======
   "id": "24d45f39",
>>>>>>> documentation-devel
   "metadata": {
    "lines_to_next_cell": 0
   },
   "source": [
    "Percentage of mitochondrial counts in spots outside tissue is higher near the tissue, especially on the left."
   ]
  },
  {
   "cell_type": "code",
   "execution_count": null,
<<<<<<< HEAD
<<<<<<< HEAD
   "id": "2c052d9a",
||||||| b944554d
   "id": "81f82f88",
=======
   "id": "a4d42dfd",
>>>>>>> documentation-devel
||||||| 35cb6e7a
   "id": "a4d42dfd",
=======
   "id": "a1791743",
>>>>>>> documentation-devel
   "metadata": {},
   "outputs": [],
   "source": [
    "plotColData(sfe, \"sum\", x = \"in_tissue\", color_by = \"in_tissue\") +\n",
    "    plotColData(sfe, \"detected\", x = \"in_tissue\", color_by = \"in_tissue\") +\n",
    "    plotColData(sfe, \"subsets_mito_percent\", x = \"in_tissue\", color_by = \"in_tissue\") +\n",
    "    plot_layout(guides = \"collect\")"
   ]
  },
  {
   "cell_type": "markdown",
<<<<<<< HEAD
<<<<<<< HEAD
   "id": "76059a47",
||||||| b944554d
   "id": "5e050e22",
=======
   "id": "f1d39c18",
>>>>>>> documentation-devel
||||||| 35cb6e7a
   "id": "f1d39c18",
=======
   "id": "ac5d36c7",
>>>>>>> documentation-devel
   "metadata": {},
   "source": [
    "3 peaks, apparently histologically relevant. Also no obvious outliers."
   ]
  },
  {
   "cell_type": "code",
   "execution_count": null,
<<<<<<< HEAD
<<<<<<< HEAD
   "id": "f04fa3f5",
||||||| b944554d
   "id": "59fee86e",
=======
   "id": "cc97b210",
>>>>>>> documentation-devel
||||||| 35cb6e7a
   "id": "cc97b210",
=======
   "id": "69c24a7e",
>>>>>>> documentation-devel
   "metadata": {},
   "outputs": [],
   "source": [
    "plotColData(sfe, x = \"sum\", y = \"subsets_mito_percent\", color_by = \"in_tissue\") +\n",
    "    geom_density_2d()"
   ]
  },
  {
   "cell_type": "markdown",
<<<<<<< HEAD
<<<<<<< HEAD
   "id": "bc9e39d4",
||||||| b944554d
   "id": "e9df08f7",
=======
   "id": "025cb280",
>>>>>>> documentation-devel
||||||| 35cb6e7a
   "id": "025cb280",
=======
   "id": "dc723d00",
>>>>>>> documentation-devel
   "metadata": {},
   "source": [
    "This is unlike scRNA-seq data. Spots not in tissue have a wide range of mitocondrial percentage. Spots in tissue fall into 3 clusters in this plot, seemingly related to histological regions."
   ]
  },
  {
   "cell_type": "code",
   "execution_count": null,
<<<<<<< HEAD
<<<<<<< HEAD
   "id": "9268289b",
||||||| b944554d
   "id": "9c33384a",
=======
   "id": "64445d67",
>>>>>>> documentation-devel
||||||| 35cb6e7a
   "id": "64445d67",
=======
   "id": "bd778622",
>>>>>>> documentation-devel
   "metadata": {},
   "outputs": [],
   "source": [
    "sfe_tissue <- sfe[,sfe$in_tissue]"
   ]
  },
  {
   "cell_type": "code",
   "execution_count": null,
<<<<<<< HEAD
<<<<<<< HEAD
   "id": "4810f751",
||||||| b944554d
   "id": "2160a4c8",
=======
   "id": "4b6ce6c8",
>>>>>>> documentation-devel
||||||| 35cb6e7a
   "id": "4b6ce6c8",
=======
   "id": "7f1d4fea",
>>>>>>> documentation-devel
   "metadata": {},
   "outputs": [],
   "source": [
    "plotColData(sfe_tissue, x = \"sum\", y = \"detected\", bins = 75)"
   ]
  },
  {
   "cell_type": "code",
   "execution_count": null,
<<<<<<< HEAD
<<<<<<< HEAD
   "id": "6e0fab84",
||||||| b944554d
   "id": "48198b93",
=======
   "id": "57c52033",
>>>>>>> documentation-devel
||||||| 35cb6e7a
   "id": "57c52033",
=======
   "id": "b7399c30",
>>>>>>> documentation-devel
   "metadata": {},
   "outputs": [],
   "source": [
    "#clusters <- quickCluster(sfe_tissue)\n",
    "#sfe_tissue <- computeSumFactors(sfe_tissue, clusters=clusters)\n",
    "#sfe_tissue <- sfe_tissue[, sizeFactors(sfe_tissue) > 0]\n",
    "sfe_tissue <- logNormCounts(sfe_tissue)"
   ]
  },
  {
   "cell_type": "code",
   "execution_count": null,
<<<<<<< HEAD
<<<<<<< HEAD
   "id": "cb83fdae",
||||||| b944554d
   "id": "6e48ded3",
=======
   "id": "aa744d44",
>>>>>>> documentation-devel
||||||| 35cb6e7a
   "id": "aa744d44",
=======
   "id": "f32cd4b5",
>>>>>>> documentation-devel
   "metadata": {},
   "outputs": [],
   "source": [
    "dec <- modelGeneVar(sfe_tissue, lowess = FALSE)\n",
    "hvgs <- getTopHVGs(dec, n = 2000)"
   ]
  },
  {
   "cell_type": "markdown",
<<<<<<< HEAD
<<<<<<< HEAD
   "id": "1d472f3f",
||||||| b944554d
   "id": "bed122c2",
=======
   "id": "62a37783",
>>>>>>> documentation-devel
||||||| 35cb6e7a
   "id": "62a37783",
=======
   "id": "a15a896c",
>>>>>>> documentation-devel
   "metadata": {
    "lines_to_next_cell": 0
   },
   "source": [
    "# Dimension reduction and clustering"
   ]
  },
  {
   "cell_type": "code",
   "execution_count": null,
<<<<<<< HEAD
<<<<<<< HEAD
   "id": "27ce037f",
||||||| b944554d
   "id": "bd293ec0",
=======
   "id": "1cff4643",
>>>>>>> documentation-devel
||||||| 35cb6e7a
   "id": "1cff4643",
=======
   "id": "768839fa",
>>>>>>> documentation-devel
   "metadata": {},
   "outputs": [],
   "source": [
    "sfe_tissue <- runPCA(sfe_tissue, ncomponents = 30, subset_row = hvgs,\n",
    "                     scale = TRUE) # scale as in Seurat"
   ]
  },
  {
   "cell_type": "code",
   "execution_count": null,
<<<<<<< HEAD
<<<<<<< HEAD
   "id": "7df456fd",
||||||| b944554d
   "id": "306f8305",
=======
   "id": "ccd95277",
>>>>>>> documentation-devel
||||||| 35cb6e7a
   "id": "ccd95277",
=======
   "id": "8f97ef78",
>>>>>>> documentation-devel
   "metadata": {},
   "outputs": [],
   "source": [
    "ElbowPlot(sfe_tissue, ndims = 30)"
   ]
  },
  {
   "cell_type": "code",
   "execution_count": null,
<<<<<<< HEAD
<<<<<<< HEAD
   "id": "a548bd0e",
||||||| b944554d
   "id": "eac088fd",
=======
   "id": "c540edb9",
>>>>>>> documentation-devel
||||||| 35cb6e7a
   "id": "c540edb9",
=======
   "id": "d449b830",
>>>>>>> documentation-devel
   "metadata": {},
   "outputs": [],
   "source": [
    "names(rowData(sfe_tissue))"
   ]
  },
  {
   "cell_type": "code",
   "execution_count": null,
<<<<<<< HEAD
<<<<<<< HEAD
   "id": "533b222c",
||||||| b944554d
   "id": "2db76208",
=======
   "id": "5d917a1a",
>>>>>>> documentation-devel
||||||| 35cb6e7a
   "id": "5d917a1a",
=======
   "id": "d6354210",
>>>>>>> documentation-devel
   "metadata": {},
   "outputs": [],
   "source": [
    "plotDimLoadings(sfe_tissue, dims = 1:5, swap_rownames = \"symbol\", ncol = 3)"
   ]
  },
  {
   "cell_type": "markdown",
<<<<<<< HEAD
<<<<<<< HEAD
   "id": "70e9b8e8",
||||||| b944554d
   "id": "599f6eac",
=======
   "id": "b0e0309a",
>>>>>>> documentation-devel
||||||| 35cb6e7a
   "id": "b0e0309a",
=======
   "id": "d9171953",
>>>>>>> documentation-devel
   "metadata": {
    "lines_to_next_cell": 0
   },
   "source": [
    "Do the clustering to show on the dimension reduction plots"
   ]
  },
  {
   "cell_type": "code",
   "execution_count": null,
<<<<<<< HEAD
<<<<<<< HEAD
   "id": "8f54068e",
||||||| b944554d
   "id": "21300200",
=======
   "id": "be6fb4eb",
>>>>>>> documentation-devel
||||||| 35cb6e7a
   "id": "be6fb4eb",
=======
   "id": "956f103e",
>>>>>>> documentation-devel
   "metadata": {},
   "outputs": [],
   "source": [
    "set.seed(29)\n",
    "colData(sfe_tissue)$cluster <- clusterRows(reducedDim(sfe_tissue, \"PCA\")[,1:3],\n",
    "                                           BLUSPARAM = SNNGraphParam(\n",
    "                                               cluster.fun = \"leiden\",\n",
    "                                               cluster.args = list(\n",
    "                                                   resolution_parameter = 0.5,\n",
    "                                                   objective_function = \"modularity\")))"
   ]
  },
  {
   "cell_type": "code",
   "execution_count": null,
<<<<<<< HEAD
<<<<<<< HEAD
   "id": "32f48734",
||||||| b944554d
   "id": "6928d7b3",
=======
   "id": "c837343b",
>>>>>>> documentation-devel
||||||| 35cb6e7a
   "id": "c837343b",
=======
   "id": "86ce2fa0",
>>>>>>> documentation-devel
   "metadata": {
    "fig.height": 9,
    "fig.width": 9
   },
   "outputs": [],
   "source": [
    "plotPCA(sfe_tissue, ncomponents = 5, colour_by = \"cluster\")"
   ]
  },
  {
   "cell_type": "code",
   "execution_count": null,
<<<<<<< HEAD
<<<<<<< HEAD
   "id": "71d66ff7",
||||||| b944554d
   "id": "5dc1c397",
=======
   "id": "4bec57ec",
>>>>>>> documentation-devel
||||||| 35cb6e7a
   "id": "4bec57ec",
=======
   "id": "978f4cf3",
>>>>>>> documentation-devel
   "metadata": {},
   "outputs": [],
   "source": [
    "plotSpatialFeature(sfe_tissue, features = \"cluster\", \n",
    "                   colGeometryName = \"spotPoly\", image_id = \"lowres\")"
   ]
  },
  {
   "cell_type": "code",
   "execution_count": null,
<<<<<<< HEAD
<<<<<<< HEAD
   "id": "14cdda09",
||||||| b944554d
   "id": "e36d7b49",
=======
   "id": "320759be",
>>>>>>> documentation-devel
||||||| 35cb6e7a
   "id": "320759be",
=======
   "id": "6c95fca8",
>>>>>>> documentation-devel
   "metadata": {
    "fig.height": 8,
    "fig.width": 8
   },
   "outputs": [],
   "source": [
    "spatialReducedDim(sfe_tissue, \"PCA\", ncomponents = 5, \n",
    "                  colGeometryName = \"spotPoly\", divergent = TRUE, \n",
    "                  diverge_center = 0, ncol = 2, \n",
    "                  image_id = \"lowres\", maxcell = 5e4)"
   ]
  },
  {
   "cell_type": "code",
   "execution_count": null,
<<<<<<< HEAD
<<<<<<< HEAD
   "id": "1e4bd022",
||||||| b944554d
   "id": "8279454a",
=======
   "id": "3c2a5eea",
>>>>>>> documentation-devel
||||||| 35cb6e7a
   "id": "3c2a5eea",
=======
   "id": "3308b5e8",
>>>>>>> documentation-devel
   "metadata": {},
   "outputs": [],
   "source": [
    "markers <- findMarkers(sfe_tissue, groups = colData(sfe_tissue)$cluster,\n",
    "                       test.type = \"wilcox\", pval.type = \"all\", direction = \"up\")"
   ]
  },
  {
   "cell_type": "markdown",
<<<<<<< HEAD
<<<<<<< HEAD
   "id": "8642a28c",
||||||| b944554d
   "id": "a27d2d2b",
=======
   "id": "201d89d9",
>>>>>>> documentation-devel
||||||| 35cb6e7a
   "id": "201d89d9",
=======
   "id": "60c93d67",
>>>>>>> documentation-devel
   "metadata": {
    "lines_to_next_cell": 0
   },
   "source": [
    "Significant markers for each cluster can be obtained as follows:"
   ]
  },
  {
   "cell_type": "code",
   "execution_count": null,
<<<<<<< HEAD
<<<<<<< HEAD
   "id": "c0ab13fd",
||||||| b944554d
   "id": "38713838",
=======
   "id": "7ff0e0cc",
>>>>>>> documentation-devel
||||||| 35cb6e7a
   "id": "7ff0e0cc",
=======
   "id": "2a1ba123",
>>>>>>> documentation-devel
   "metadata": {},
   "outputs": [],
   "source": [
    "genes_use <- vapply(markers, function(x) rownames(x)[1], FUN.VALUE = character(1))\n",
    "plotExpression(sfe_tissue, rowData(sfe_tissue)[genes_use, \"symbol\"], x = \"cluster\",\n",
    "               colour_by = \"cluster\", swap_rownames = \"symbol\")"
   ]
  },
  {
   "cell_type": "markdown",
<<<<<<< HEAD
<<<<<<< HEAD
   "id": "4a5492bc",
||||||| b944554d
   "id": "b173b09d",
=======
   "id": "87b4ead4",
>>>>>>> documentation-devel
||||||| 35cb6e7a
   "id": "87b4ead4",
=======
   "id": "f27e39ff",
>>>>>>> documentation-devel
   "metadata": {
    "lines_to_next_cell": 0
   },
   "source": [
    "These genes are interesting to view in spatial context:"
   ]
  },
  {
   "cell_type": "code",
   "execution_count": null,
<<<<<<< HEAD
<<<<<<< HEAD
   "id": "9371f817",
||||||| b944554d
   "id": "9bd8a23c",
=======
   "id": "6884a6a2",
>>>>>>> documentation-devel
||||||| 35cb6e7a
   "id": "6884a6a2",
=======
   "id": "0453d35f",
>>>>>>> documentation-devel
   "metadata": {
    "fig.height": 8,
    "fig.width": 8
   },
   "outputs": [],
   "source": [
    "plotSpatialFeature(sfe_tissue, genes_use, colGeometryName = \"spotPoly\", ncol = 2,\n",
    "                   swap_rownames = \"symbol\", image_id = \"lowres\", maxcell = 5e4)"
   ]
  },
  {
   "cell_type": "markdown",
<<<<<<< HEAD
<<<<<<< HEAD
   "id": "04c139f9",
||||||| b944554d
   "id": "8e4e102b",
=======
   "id": "f909b104",
>>>>>>> documentation-devel
||||||| 35cb6e7a
   "id": "f909b104",
=======
   "id": "b558a996",
>>>>>>> documentation-devel
   "metadata": {
    "lines_to_next_cell": 0
   },
   "source": [
    "More spatial analyses on this dataset is performed in [an \"advanced\" version of this vignette](https://pachterlab.github.io/voyager/articles/visium_10x_spatial.html).\n",
    "\n",
    "# Session info"
   ]
  },
  {
   "cell_type": "code",
   "execution_count": null,
<<<<<<< HEAD
<<<<<<< HEAD
   "id": "0c8a926e",
||||||| b944554d
   "id": "b2909c01",
=======
   "id": "c8fc09f8",
>>>>>>> documentation-devel
||||||| 35cb6e7a
   "id": "c8fc09f8",
=======
   "id": "1bb8e0a7",
>>>>>>> documentation-devel
   "metadata": {},
   "outputs": [],
   "source": [
    "sessionInfo()"
   ]
  }
 ],
 "metadata": {
  "kernelspec": {
   "display_name": "R",
   "language": "R",
   "name": "ir"
  }
 },
 "nbformat": 4,
 "nbformat_minor": 5
}
