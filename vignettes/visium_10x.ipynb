{
 "cells": [
  {
   "cell_type": "raw",
<<<<<<< HEAD
<<<<<<< HEAD
<<<<<<< HEAD
   "id": "357bc311",
||||||| merged common ancestors
   "id": "b2300491",
=======
   "id": "72cc5eea",
>>>>>>> documentation-devel
||||||| f5a2d7c
   "id": "72cc5eea",
=======
   "id": "79987c56",
>>>>>>> documentation-devel
||||||| de7e30d
   "id": "357bc311",
=======
   "id": "ccc14184",
>>>>>>> 03b044928c05aca10f627eea0665560c78e150c1
   "metadata": {},
   "source": [
    "---\n",
    "title: \"Basic analysis of 10X example Visium dataset\"\n",
    "author: \"Lambda Moses\"\n",
    "date: \"`r Sys.Date()`\"\n",
    "output: \n",
    "  html_document:\n",
    "  toc: true\n",
    "  toc_float:\n",
    "    collapsed: false\n",
    "  toc_depth: 3\n",
    "bibliography: ref.bib\n",
    "vignette: >\n",
    "  %\\VignetteIndexEntry{visium_10x}\n",
    "  %\\VignetteEngine{knitr::rmarkdown}\n",
    "  %\\VignetteEncoding{UTF-8}\n",
    "---"
   ]
  },
  {
   "cell_type": "code",
   "execution_count": null,
<<<<<<< HEAD
<<<<<<< HEAD
<<<<<<< HEAD
   "id": "c1b4a24b",
||||||| merged common ancestors
   "id": "8fd8d5a5",
=======
   "id": "3aed5afe",
>>>>>>> documentation-devel
||||||| f5a2d7c
   "id": "3aed5afe",
=======
   "id": "b53f10a7",
>>>>>>> documentation-devel
||||||| de7e30d
   "id": "c1b4a24b",
=======
   "id": "62672903",
>>>>>>> 03b044928c05aca10f627eea0665560c78e150c1
   "metadata": {
    "tags": [
     "remove_cell"
    ]
   },
   "outputs": [],
   "source": [
    "knitr::opts_chunk$set(\n",
    "  collapse = TRUE,\n",
    "  comment = \"#>\"\n",
    ")"
   ]
  },
  {
   "cell_type": "code",
   "execution_count": null,
<<<<<<< HEAD
<<<<<<< HEAD
<<<<<<< HEAD
   "id": "4c91b97f",
||||||| merged common ancestors
   "id": "d57aca9c",
=======
   "id": "b301681b",
>>>>>>> documentation-devel
||||||| f5a2d7c
   "id": "b301681b",
=======
   "id": "13ef0946",
>>>>>>> documentation-devel
||||||| de7e30d
   "id": "4c91b97f",
=======
   "id": "8f899e0e",
>>>>>>> 03b044928c05aca10f627eea0665560c78e150c1
   "metadata": {
    "eval": false,
    "tags": [
     "remove_cell"
    ]
   },
   "outputs": [],
   "source": [
    "# Install Google Colab dependencies\n",
    "# Note: this can take 30+ minutes (many of the dependencies include C++ code, which needs to be compiled)\n",
    "\n",
    "# First install `sf`, `ragg` and `textshaping` and their system dependencies:\n",
    "system(\"apt-get -y update && apt-get install -y  libudunits2-dev libgdal-dev libgeos-dev libproj-dev libharfbuzz-dev libfribidi-dev\")\n",
    "install.packages(\"sf\")\n",
    "install.packages(\"textshaping\")\n",
    "install.packages(\"ragg\")\n",
    "\n",
    "# Install system dependencies of some other R packages that Voyager either imports or suggests:\n",
    "system(\"apt-get install -y libfribidi-dev libcairo2-dev libmagick++-dev\")\n",
    "\n",
    "# Install Voyager from Bioconductor:\n",
    "install.packages(\"BiocManager\")\n",
    "BiocManager::install(version = \"3.17\", ask = FALSE, update = FALSE, Ncpus = 2)\n",
    "BiocManager::install(\"scater\")\n",
    "system.time(\n",
    "  BiocManager::install(\"Voyager\", dependencies = TRUE, Ncpus = 2, update = FALSE)\n",
    ")\n",
    "\n",
    "packageVersion(\"Voyager\")"
   ]
  },
  {
   "cell_type": "markdown",
<<<<<<< HEAD
<<<<<<< HEAD
<<<<<<< HEAD
   "id": "22fff028",
||||||| merged common ancestors
   "id": "13f1f409",
=======
   "id": "346ed2bf",
>>>>>>> documentation-devel
||||||| f5a2d7c
   "id": "346ed2bf",
=======
   "id": "2c83b632",
>>>>>>> documentation-devel
||||||| de7e30d
   "id": "22fff028",
=======
   "id": "262094c1",
>>>>>>> 03b044928c05aca10f627eea0665560c78e150c1
   "metadata": {
    "lines_to_next_cell": 0
   },
   "source": [
    "# Introduction\n",
    "\n",
    "In this introductory vignette for [`SpatialFeatureExperiment`](https://bioconductor.org/packages/devel/bioc/html/SpatialFeatureExperiment.html) data representation and [`Voyager`](https://bioconductor.org/packages/devel/bioc/html/Voyager.html) anlaysis package, we demonstrate a basic exploratory data analysis (EDA) of spatial transcriptomics data. Basic knowledge of R and [`SingleCellExperiment`](https://bioconductor.org/packages/release/bioc/html/SingleCellExperiment.html) is assumed.\n",
    "\n",
    "This vignette showcases the packages with a Visium spatial gene expression system dataset, downloaded from the 10X website, in the Space Ranger output format. The technology was chosen due to its popularity, and therefore the availability of numerous publicly available datasets for analysis [@Moses2022-xz].\n",
    "\n",
    "While Voyager was developed with the goal of facilitating the use of geospatial methods in spatial genomics, this introductory vignette is restricted to non-spatial scRNA-seq EDA with the Visium dataset. There is [another Visium introductory vignette](https://pachterlab.github.io/voyager/articles/vig1_visium_basic.html) using a dataset in the [`SFEData`](https://bioconductor.org/packages/release/data/experiment/html/SFEData.html) package but not from the 10X website.\n",
    "\n",
    "Here we load the packages used in this vignette."
   ]
  },
  {
   "cell_type": "code",
   "execution_count": null,
<<<<<<< HEAD
<<<<<<< HEAD
<<<<<<< HEAD
   "id": "e2eb24c1",
||||||| merged common ancestors
   "id": "391cc2c0",
=======
   "id": "b09ecdc5",
>>>>>>> documentation-devel
||||||| f5a2d7c
   "id": "b09ecdc5",
=======
   "id": "bfc975dc",
>>>>>>> documentation-devel
||||||| de7e30d
   "id": "e2eb24c1",
=======
   "id": "623d0884",
>>>>>>> 03b044928c05aca10f627eea0665560c78e150c1
   "metadata": {
    "name": "setup"
   },
   "outputs": [],
   "source": [
    "library(Voyager)\n",
    "library(SpatialExperiment)\n",
    "library(SpatialFeatureExperiment)\n",
    "library(SingleCellExperiment)\n",
    "library(ggplot2)\n",
    "library(scater)\n",
    "library(scuttle)\n",
    "library(scran)\n",
    "library(stringr)\n",
    "library(patchwork)\n",
    "library(bluster)\n",
    "library(rjson)\n",
    "theme_set(theme_bw())"
   ]
  },
  {
   "cell_type": "markdown",
<<<<<<< HEAD
<<<<<<< HEAD
<<<<<<< HEAD
   "id": "6e486e33",
||||||| merged common ancestors
   "id": "8e3d82d5",
=======
   "id": "99c4f051",
>>>>>>> documentation-devel
||||||| f5a2d7c
   "id": "99c4f051",
=======
   "id": "a216d017",
>>>>>>> documentation-devel
||||||| de7e30d
   "id": "6e486e33",
=======
   "id": "6df4b378",
>>>>>>> 03b044928c05aca10f627eea0665560c78e150c1
   "metadata": {
    "lines_to_next_cell": 0
   },
   "source": [
    "Here we download the data from the 10X website. This is the unfiltered gene count matrix:"
   ]
  },
  {
   "cell_type": "code",
   "execution_count": null,
<<<<<<< HEAD
<<<<<<< HEAD
<<<<<<< HEAD
   "id": "4693ea91",
||||||| merged common ancestors
   "id": "eb205a71",
=======
   "id": "07ee11d2",
>>>>>>> documentation-devel
||||||| f5a2d7c
   "id": "07ee11d2",
=======
   "id": "d48898cb",
>>>>>>> documentation-devel
||||||| de7e30d
   "id": "4693ea91",
=======
   "id": "4ed2b3f3",
>>>>>>> 03b044928c05aca10f627eea0665560c78e150c1
   "metadata": {},
   "outputs": [],
   "source": [
    "if (!file.exists(\"visium_ob.tar.gz\"))\n",
    "    download.file(\"https://cf.10xgenomics.com/samples/spatial-exp/2.0.0/Visium_Mouse_Olfactory_Bulb/Visium_Mouse_Olfactory_Bulb_raw_feature_bc_matrix.tar.gz\", \n",
    "                  destfile = \"visium_ob.tar.gz\")"
   ]
  },
  {
   "cell_type": "markdown",
<<<<<<< HEAD
<<<<<<< HEAD
<<<<<<< HEAD
   "id": "f7fbefc8",
||||||| merged common ancestors
   "id": "68848ad4",
=======
   "id": "bb3e5239",
>>>>>>> documentation-devel
||||||| f5a2d7c
   "id": "bb3e5239",
=======
   "id": "4d54f6a4",
>>>>>>> documentation-devel
||||||| de7e30d
   "id": "f7fbefc8",
=======
   "id": "940bf77e",
>>>>>>> 03b044928c05aca10f627eea0665560c78e150c1
   "metadata": {
    "lines_to_next_cell": 0
   },
   "source": [
    "This is the spatial information:"
   ]
  },
  {
   "cell_type": "code",
   "execution_count": null,
<<<<<<< HEAD
<<<<<<< HEAD
<<<<<<< HEAD
   "id": "5d3844e7",
||||||| merged common ancestors
   "id": "4a52f985",
=======
   "id": "f2548bda",
>>>>>>> documentation-devel
||||||| f5a2d7c
   "id": "f2548bda",
=======
   "id": "908bc94b",
>>>>>>> documentation-devel
||||||| de7e30d
   "id": "5d3844e7",
=======
   "id": "63127143",
>>>>>>> 03b044928c05aca10f627eea0665560c78e150c1
   "metadata": {},
   "outputs": [],
   "source": [
    "if (!file.exists(\"visium_ob_spatial.tar.gz\"))\n",
    "    download.file(\"https://cf.10xgenomics.com/samples/spatial-exp/2.0.0/Visium_Mouse_Olfactory_Bulb/Visium_Mouse_Olfactory_Bulb_spatial.tar.gz\", \n",
    "                  destfile = \"visium_ob_spatial.tar.gz\")"
   ]
  },
  {
   "cell_type": "markdown",
<<<<<<< HEAD
<<<<<<< HEAD
<<<<<<< HEAD
   "id": "0477e271",
||||||| merged common ancestors
   "id": "bc689fc5",
=======
   "id": "044eb600",
>>>>>>> documentation-devel
||||||| f5a2d7c
   "id": "044eb600",
=======
   "id": "2539d2d7",
>>>>>>> documentation-devel
||||||| de7e30d
   "id": "0477e271",
=======
   "id": "4c0b04d3",
>>>>>>> 03b044928c05aca10f627eea0665560c78e150c1
   "metadata": {
    "lines_to_next_cell": 0
   },
   "source": [
    "Decompress the downloaded content:"
   ]
  },
  {
   "cell_type": "code",
   "execution_count": null,
<<<<<<< HEAD
<<<<<<< HEAD
<<<<<<< HEAD
   "id": "99f601c5",
||||||| merged common ancestors
   "id": "50640395",
=======
   "id": "5b2e0304",
>>>>>>> documentation-devel
||||||| f5a2d7c
   "id": "5b2e0304",
=======
   "id": "89e166ef",
>>>>>>> documentation-devel
||||||| de7e30d
   "id": "99f601c5",
=======
   "id": "48a7a71d",
>>>>>>> 03b044928c05aca10f627eea0665560c78e150c1
   "metadata": {},
   "outputs": [],
   "source": [
    "if (!dir.exists(\"outs\")) {\n",
    "    dir.create(\"outs\")\n",
    "    system(\"tar -xvf visium_ob.tar.gz -C outs\")\n",
    "    system(\"tar -xvf visium_ob_spatial.tar.gz -C outs\")\n",
    "}"
   ]
  },
  {
   "cell_type": "markdown",
<<<<<<< HEAD
<<<<<<< HEAD
<<<<<<< HEAD
   "id": "97a5553c",
||||||| merged common ancestors
   "id": "d880a0d8",
=======
   "id": "767697b4",
>>>>>>> documentation-devel
||||||| f5a2d7c
   "id": "767697b4",
=======
   "id": "300e0964",
>>>>>>> documentation-devel
||||||| de7e30d
   "id": "97a5553c",
=======
   "id": "d0845ed7",
>>>>>>> 03b044928c05aca10f627eea0665560c78e150c1
   "metadata": {
    "lines_to_next_cell": 0
   },
   "source": [
    "This is what the `outs` directory in Space Ranger output looks like:"
   ]
  },
  {
   "cell_type": "code",
   "execution_count": null,
<<<<<<< HEAD
<<<<<<< HEAD
<<<<<<< HEAD
   "id": "d514512b",
||||||| merged common ancestors
   "id": "ebb27735",
=======
   "id": "b81b41f2",
>>>>>>> documentation-devel
||||||| f5a2d7c
   "id": "b81b41f2",
=======
   "id": "6651c2f6",
>>>>>>> documentation-devel
||||||| de7e30d
   "id": "d514512b",
=======
   "id": "25829ef8",
>>>>>>> 03b044928c05aca10f627eea0665560c78e150c1
   "metadata": {},
   "outputs": [],
   "source": [
    "list.dirs(\"outs\")"
   ]
  },
  {
   "cell_type": "markdown",
<<<<<<< HEAD
<<<<<<< HEAD
<<<<<<< HEAD
   "id": "0e1408fd",
||||||| merged common ancestors
   "id": "44fe6849",
=======
   "id": "74ec64af",
>>>>>>> documentation-devel
||||||| f5a2d7c
   "id": "74ec64af",
=======
   "id": "a272f042",
>>>>>>> documentation-devel
||||||| de7e30d
   "id": "0e1408fd",
=======
   "id": "19c4bd73",
>>>>>>> 03b044928c05aca10f627eea0665560c78e150c1
   "metadata": {
    "lines_to_next_cell": 0
   },
   "source": [
    "In the gene count matrix directory:"
   ]
  },
  {
   "cell_type": "code",
   "execution_count": null,
<<<<<<< HEAD
<<<<<<< HEAD
<<<<<<< HEAD
   "id": "fb1d73bd",
||||||| merged common ancestors
   "id": "efccbe9b",
=======
   "id": "b8b5d05a",
>>>>>>> documentation-devel
||||||| f5a2d7c
   "id": "b8b5d05a",
=======
   "id": "56a7a789",
>>>>>>> documentation-devel
||||||| de7e30d
   "id": "fb1d73bd",
=======
   "id": "eda021dc",
>>>>>>> 03b044928c05aca10f627eea0665560c78e150c1
   "metadata": {},
   "outputs": [],
   "source": [
    "list.files(\"outs/raw_feature_bc_matrix\")"
   ]
  },
  {
   "cell_type": "markdown",
<<<<<<< HEAD
<<<<<<< HEAD
<<<<<<< HEAD
   "id": "9335a0c4",
||||||| merged common ancestors
   "id": "7a4a27d2",
=======
   "id": "87a0a1b5",
>>>>>>> documentation-devel
||||||| f5a2d7c
   "id": "87a0a1b5",
=======
   "id": "5cb8268e",
>>>>>>> documentation-devel
||||||| de7e30d
   "id": "9335a0c4",
=======
   "id": "5f679f79",
>>>>>>> 03b044928c05aca10f627eea0665560c78e150c1
   "metadata": {},
   "source": [
    "In the spatial directory:"
   ]
  },
  {
   "cell_type": "code",
   "execution_count": null,
<<<<<<< HEAD
<<<<<<< HEAD
<<<<<<< HEAD
   "id": "a074dd91",
||||||| merged common ancestors
   "id": "08d00c63",
=======
   "id": "aab3605f",
>>>>>>> documentation-devel
||||||| f5a2d7c
   "id": "aab3605f",
=======
   "id": "8726e01c",
>>>>>>> documentation-devel
||||||| de7e30d
   "id": "a074dd91",
=======
   "id": "a6b3c85c",
>>>>>>> 03b044928c05aca10f627eea0665560c78e150c1
   "metadata": {},
   "outputs": [],
   "source": [
    "list.files(\"outs/spatial\")"
   ]
  },
  {
   "cell_type": "markdown",
<<<<<<< HEAD
<<<<<<< HEAD
<<<<<<< HEAD
   "id": "1ce2bb43",
||||||| merged common ancestors
   "id": "93bb18b6",
=======
   "id": "a218d916",
>>>>>>> documentation-devel
||||||| f5a2d7c
   "id": "a218d916",
=======
   "id": "7fd2f10c",
>>>>>>> documentation-devel
||||||| de7e30d
   "id": "1ce2bb43",
=======
   "id": "bb4eea46",
>>>>>>> 03b044928c05aca10f627eea0665560c78e150c1
   "metadata": {},
   "source": [
    "The outputs in the spatial directory is explained [here on the 10X website](https://support.10xgenomics.com/spatial-gene-expression/software/pipelines/latest/output/spatial).\n",
    "\n",
    "The `tissue_hires_image.png` is a relatively high resolution image of the tissue, but not full resolution. The `tissue_lowres_image.png` file is a low resolution image of the tissue, suitable for quick plotting, and is shown here:\n",
    "![tissue_lowres_image.png](https://raw.githubusercontent.com/pachterlab/voyager/documentation-devel/vignettes/tissue_lowres_image.png)\n",
    "\n",
    "The array of dots framing the tissue seen in this image is the fiducials, used to align the tissue image to the positions of the Visium spots, so gene expression can be matched to spatial locations. The alignment of the fiducials is shown in `aligned_fiducials.jpg`. Space Ranger can automatically detect which spots are in tissue, and these spots are highlighted in `detected_tissue_image.jpg`. \n",
    "\n",
    "Inside the `scalefactors_json.json` file:"
   ]
  },
  {
   "cell_type": "code",
   "execution_count": null,
<<<<<<< HEAD
<<<<<<< HEAD
<<<<<<< HEAD
   "id": "eb1c7fad",
||||||| merged common ancestors
   "id": "39f7785c",
=======
   "id": "942f1c2e",
>>>>>>> documentation-devel
||||||| f5a2d7c
   "id": "942f1c2e",
=======
   "id": "d192efe8",
>>>>>>> documentation-devel
||||||| de7e30d
   "id": "eb1c7fad",
=======
   "id": "f4048291",
>>>>>>> 03b044928c05aca10f627eea0665560c78e150c1
   "metadata": {
    "lines_to_next_cell": 0
   },
   "outputs": [],
   "source": [
    "fromJSON(file = \"outs/spatial/scalefactors_json.json\")"
   ]
  },
  {
   "cell_type": "markdown",
<<<<<<< HEAD
<<<<<<< HEAD
<<<<<<< HEAD
   "id": "e8bcc87e",
||||||| merged common ancestors
   "id": "8f97000d",
=======
   "id": "4ba2aba5",
>>>>>>> documentation-devel
||||||| f5a2d7c
   "id": "4ba2aba5",
=======
   "id": "77832a97",
>>>>>>> documentation-devel
||||||| de7e30d
   "id": "e8bcc87e",
=======
   "id": "94eaa495",
>>>>>>> 03b044928c05aca10f627eea0665560c78e150c1
   "metadata": {
    "lines_to_next_cell": 0
   },
   "source": [
    "`spot_diameter_fullres` is the diameter of each Visium spot in the full resolution H&E image in pixels. `tissue_hires_scalef` and `tissue_lowres_scalef` are the ratio of the size of the high resolution (but not full resolution) and low resolution H&E image to the full resolution image. `fiducial_diameter_fullres` is the diameter of each fiducial spot used to align the spots to the H&E image in pixels in the full resolution image.\n",
    "\n",
    "The `tissue_positions_list.csv` file contains information for the coordinates of the spots in the full resolution image and whether each spot is in tissue (`in_tissue`, 1 means yes and 0 means no) as automatically detected by Space Ranger or manually annotated in the Loupe browser."
   ]
  },
  {
   "cell_type": "code",
   "execution_count": null,
<<<<<<< HEAD
<<<<<<< HEAD
<<<<<<< HEAD
   "id": "6a719cbd",
||||||| merged common ancestors
   "id": "4d63766c",
=======
   "id": "35defaef",
>>>>>>> documentation-devel
||||||| f5a2d7c
   "id": "35defaef",
=======
   "id": "ec087d4e",
>>>>>>> documentation-devel
||||||| de7e30d
   "id": "6a719cbd",
=======
   "id": "0bb93dc2",
>>>>>>> 03b044928c05aca10f627eea0665560c78e150c1
   "metadata": {},
   "outputs": [],
   "source": [
    "head(read.csv(\"outs/spatial/tissue_positions.csv\"))"
   ]
  },
  {
   "cell_type": "markdown",
<<<<<<< HEAD
<<<<<<< HEAD
<<<<<<< HEAD
   "id": "7407a424",
||||||| merged common ancestors
   "id": "952c2e6c",
=======
   "id": "ca3e3fd5",
>>>>>>> documentation-devel
||||||| f5a2d7c
   "id": "ca3e3fd5",
=======
   "id": "32ff99cf",
>>>>>>> documentation-devel
||||||| de7e30d
   "id": "7407a424",
=======
   "id": "1481613f",
>>>>>>> 03b044928c05aca10f627eea0665560c78e150c1
   "metadata": {
    "lines_to_next_cell": 0
   },
   "source": [
    "The `spatial_enrichment.csv` file has Moran's I (presumably for spots in tissue) and its p-value for each gene that is detected in at least 10 spots and has at least 20 UMIs. "
   ]
  },
  {
   "cell_type": "code",
   "execution_count": null,
<<<<<<< HEAD
<<<<<<< HEAD
<<<<<<< HEAD
   "id": "07ca974f",
||||||| merged common ancestors
   "id": "b44cb7b5",
=======
   "id": "7bed16c1",
>>>>>>> documentation-devel
||||||| f5a2d7c
   "id": "7bed16c1",
=======
   "id": "b0e32e16",
>>>>>>> documentation-devel
||||||| de7e30d
   "id": "07ca974f",
=======
   "id": "66b3fde9",
>>>>>>> 03b044928c05aca10f627eea0665560c78e150c1
   "metadata": {},
   "outputs": [],
   "source": [
    "head(read.csv(\"outs/spatial/spatial_enrichment.csv\"))"
   ]
  },
  {
   "cell_type": "markdown",
<<<<<<< HEAD
<<<<<<< HEAD
<<<<<<< HEAD
   "id": "b8b91948",
||||||| merged common ancestors
   "id": "014d3342",
=======
   "id": "e66102be",
>>>>>>> documentation-devel
||||||| f5a2d7c
   "id": "e66102be",
=======
   "id": "40f3d9e4",
>>>>>>> documentation-devel
||||||| de7e30d
   "id": "b8b91948",
=======
   "id": "8b952d6e",
>>>>>>> 03b044928c05aca10f627eea0665560c78e150c1
   "metadata": {
    "lines_to_next_cell": 0
   },
   "source": [
    "Here we read the Space Ranger output into R as an SFE object:"
   ]
  },
  {
   "cell_type": "code",
   "execution_count": null,
<<<<<<< HEAD
<<<<<<< HEAD
<<<<<<< HEAD
   "id": "8e1e8828",
||||||| merged common ancestors
   "id": "70a62277",
=======
   "id": "0c294e48",
>>>>>>> documentation-devel
||||||| f5a2d7c
   "id": "0c294e48",
=======
   "id": "ce8dbd98",
>>>>>>> documentation-devel
||||||| de7e30d
   "id": "8e1e8828",
=======
   "id": "67b922cd",
>>>>>>> 03b044928c05aca10f627eea0665560c78e150c1
   "metadata": {},
   "outputs": [],
   "source": [
    "(sfe <- read10xVisiumSFE(samples = \".\", type = \"sparse\", data = \"raw\"))"
   ]
  },
  {
   "cell_type": "markdown",
<<<<<<< HEAD
<<<<<<< HEAD
<<<<<<< HEAD
   "id": "b9719da1",
||||||| merged common ancestors
   "id": "904d7242",
=======
   "id": "7dce7841",
>>>>>>> documentation-devel
||||||| f5a2d7c
   "id": "7dce7841",
=======
   "id": "b66a5b8f",
>>>>>>> documentation-devel
||||||| de7e30d
   "id": "b9719da1",
=======
   "id": "570e8fb4",
>>>>>>> 03b044928c05aca10f627eea0665560c78e150c1
   "metadata": {
    "lines_to_next_cell": 0
   },
   "source": [
    "# Quality control (QC)"
   ]
  },
  {
   "cell_type": "code",
   "execution_count": null,
<<<<<<< HEAD
<<<<<<< HEAD
<<<<<<< HEAD
   "id": "90c839bc",
||||||| merged common ancestors
   "id": "4e4da733",
=======
   "id": "6ec82c28",
>>>>>>> documentation-devel
||||||| f5a2d7c
   "id": "6ec82c28",
=======
   "id": "39bb2d0c",
>>>>>>> documentation-devel
||||||| de7e30d
   "id": "90c839bc",
=======
   "id": "8f9df543",
>>>>>>> 03b044928c05aca10f627eea0665560c78e150c1
   "metadata": {},
   "outputs": [],
   "source": [
    "is_mt <- str_detect(rowData(sfe)$symbol, \"^mt-\")"
   ]
  },
  {
   "cell_type": "code",
   "execution_count": null,
<<<<<<< HEAD
<<<<<<< HEAD
<<<<<<< HEAD
   "id": "e60f3720",
||||||| merged common ancestors
   "id": "31f42961",
=======
   "id": "25207d5a",
>>>>>>> documentation-devel
||||||| f5a2d7c
   "id": "25207d5a",
=======
   "id": "f09b0691",
>>>>>>> documentation-devel
||||||| de7e30d
   "id": "e60f3720",
=======
   "id": "260bb90a",
>>>>>>> 03b044928c05aca10f627eea0665560c78e150c1
   "metadata": {},
   "outputs": [],
   "source": [
    "sfe <- addPerCellQCMetrics(sfe, subsets = list(mito = is_mt))"
   ]
  },
  {
   "cell_type": "code",
   "execution_count": null,
<<<<<<< HEAD
<<<<<<< HEAD
<<<<<<< HEAD
   "id": "c10952dd",
||||||| merged common ancestors
   "id": "7531f2f1",
=======
   "id": "150007ae",
>>>>>>> documentation-devel
||||||| f5a2d7c
   "id": "150007ae",
=======
   "id": "2eaec171",
>>>>>>> documentation-devel
||||||| de7e30d
   "id": "c10952dd",
=======
   "id": "ed983e82",
>>>>>>> 03b044928c05aca10f627eea0665560c78e150c1
   "metadata": {
    "lines_to_next_cell": 0
   },
   "outputs": [],
   "source": [
    "names(colData(sfe))"
   ]
  },
  {
   "cell_type": "markdown",
<<<<<<< HEAD
<<<<<<< HEAD
<<<<<<< HEAD
   "id": "50c4ee0b",
||||||| merged common ancestors
   "id": "69841dc8",
=======
   "id": "9ee8a534",
>>>>>>> documentation-devel
||||||| f5a2d7c
   "id": "9ee8a534",
=======
   "id": "fda0cc8c",
>>>>>>> documentation-devel
||||||| de7e30d
   "id": "50c4ee0b",
=======
   "id": "d778d677",
>>>>>>> 03b044928c05aca10f627eea0665560c78e150c1
   "metadata": {},
   "source": [
    "The mouse olfactory bulb is conventionally plotted horizontally. The entire SFE object can be transposed in histologial space to make the olfactory bulb horizontal."
   ]
  },
  {
   "cell_type": "code",
   "execution_count": null,
<<<<<<< HEAD
<<<<<<< HEAD
<<<<<<< HEAD
   "id": "83c192a0",
||||||| merged common ancestors
   "id": "b4cadf1f",
=======
   "id": "1ac3a6e2",
>>>>>>> documentation-devel
||||||| f5a2d7c
   "id": "1ac3a6e2",
=======
   "id": "2d31d368",
>>>>>>> documentation-devel
||||||| de7e30d
   "id": "83c192a0",
=======
   "id": "f37e4d6f",
>>>>>>> 03b044928c05aca10f627eea0665560c78e150c1
   "metadata": {},
   "outputs": [],
   "source": [
    "sfe <- SpatialFeatureExperiment::transpose(sfe)"
   ]
  },
  {
   "cell_type": "code",
   "execution_count": null,
<<<<<<< HEAD
<<<<<<< HEAD
<<<<<<< HEAD
   "id": "ca0e554b",
||||||| merged common ancestors
   "id": "336107d0",
=======
   "id": "39f39fab",
>>>>>>> documentation-devel
||||||| f5a2d7c
   "id": "39f39fab",
=======
   "id": "187de4ac",
>>>>>>> documentation-devel
||||||| de7e30d
   "id": "ca0e554b",
=======
   "id": "6312339e",
>>>>>>> 03b044928c05aca10f627eea0665560c78e150c1
   "metadata": {
    "fig.height": 6,
    "fig.width": 8
   },
   "outputs": [],
   "source": [
    "plotSpatialFeature(sfe, c(\"sum\", \"detected\", \"subsets_mito_percent\"), \n",
    "                   image_id = \"lowres\", maxcell = 5e4, ncol = 2)"
   ]
  },
  {
   "cell_type": "markdown",
<<<<<<< HEAD
<<<<<<< HEAD
<<<<<<< HEAD
   "id": "b51a743a",
||||||| merged common ancestors
   "id": "b7f47d16",
=======
   "id": "53a5a1ea",
>>>>>>> documentation-devel
||||||| f5a2d7c
   "id": "53a5a1ea",
=======
   "id": "edeb15ce",
>>>>>>> documentation-devel
||||||| de7e30d
   "id": "b51a743a",
=======
   "id": "b437254a",
>>>>>>> 03b044928c05aca10f627eea0665560c78e150c1
   "metadata": {
    "lines_to_next_cell": 0
   },
   "source": [
    "Percentage of mitochondrial counts in spots outside tissue is higher near the tissue, especially on the left."
   ]
  },
  {
   "cell_type": "code",
   "execution_count": null,
<<<<<<< HEAD
<<<<<<< HEAD
<<<<<<< HEAD
   "id": "37fb6239",
||||||| merged common ancestors
   "id": "9a45b65a",
=======
   "id": "d12df362",
>>>>>>> documentation-devel
||||||| f5a2d7c
   "id": "d12df362",
=======
   "id": "f418425d",
>>>>>>> documentation-devel
||||||| de7e30d
   "id": "37fb6239",
=======
   "id": "6cccd727",
>>>>>>> 03b044928c05aca10f627eea0665560c78e150c1
   "metadata": {},
   "outputs": [],
   "source": [
    "plotColData(sfe, \"sum\", x = \"in_tissue\", color_by = \"in_tissue\") +\n",
    "    plotColData(sfe, \"detected\", x = \"in_tissue\", color_by = \"in_tissue\") +\n",
    "    plotColData(sfe, \"subsets_mito_percent\", x = \"in_tissue\", color_by = \"in_tissue\") +\n",
    "    plot_layout(guides = \"collect\")"
   ]
  },
  {
   "cell_type": "markdown",
<<<<<<< HEAD
<<<<<<< HEAD
<<<<<<< HEAD
   "id": "21856393",
||||||| merged common ancestors
   "id": "892e6d54",
=======
   "id": "1a6dd580",
>>>>>>> documentation-devel
||||||| f5a2d7c
   "id": "1a6dd580",
=======
   "id": "a1561dce",
>>>>>>> documentation-devel
||||||| de7e30d
   "id": "21856393",
=======
   "id": "e9d57501",
>>>>>>> 03b044928c05aca10f627eea0665560c78e150c1
   "metadata": {},
   "source": [
    "3 peaks, apparently histologically relevant. Also no obvious outliers."
   ]
  },
  {
   "cell_type": "code",
   "execution_count": null,
<<<<<<< HEAD
<<<<<<< HEAD
<<<<<<< HEAD
   "id": "3f87d428",
||||||| merged common ancestors
   "id": "0c6f2978",
=======
   "id": "a13261f4",
>>>>>>> documentation-devel
||||||| f5a2d7c
   "id": "a13261f4",
=======
   "id": "9ef37bc4",
>>>>>>> documentation-devel
||||||| de7e30d
   "id": "3f87d428",
=======
   "id": "d1f00c03",
>>>>>>> 03b044928c05aca10f627eea0665560c78e150c1
   "metadata": {},
   "outputs": [],
   "source": [
    "plotColData(sfe, x = \"sum\", y = \"subsets_mito_percent\", color_by = \"in_tissue\") +\n",
    "    geom_density_2d()"
   ]
  },
  {
   "cell_type": "markdown",
<<<<<<< HEAD
<<<<<<< HEAD
<<<<<<< HEAD
   "id": "512a0ae3",
||||||| merged common ancestors
   "id": "e270bb58",
=======
   "id": "c560fcb4",
>>>>>>> documentation-devel
||||||| f5a2d7c
   "id": "c560fcb4",
=======
   "id": "cdc7c99d",
>>>>>>> documentation-devel
||||||| de7e30d
   "id": "512a0ae3",
=======
   "id": "a5c130f0",
>>>>>>> 03b044928c05aca10f627eea0665560c78e150c1
   "metadata": {},
   "source": [
    "This is unlike scRNA-seq data. Spots not in tissue have a wide range of mitocondrial percentage. Spots in tissue fall into 3 clusters in this plot, seemingly related to histological regions."
   ]
  },
  {
   "cell_type": "code",
   "execution_count": null,
<<<<<<< HEAD
<<<<<<< HEAD
<<<<<<< HEAD
   "id": "fcfa4722",
||||||| merged common ancestors
   "id": "63701b76",
=======
   "id": "1e1676e8",
>>>>>>> documentation-devel
||||||| f5a2d7c
   "id": "1e1676e8",
=======
   "id": "31209c7e",
>>>>>>> documentation-devel
||||||| de7e30d
   "id": "fcfa4722",
=======
   "id": "fd821214",
>>>>>>> 03b044928c05aca10f627eea0665560c78e150c1
   "metadata": {},
   "outputs": [],
   "source": [
    "sfe_tissue <- sfe[,sfe$in_tissue]"
   ]
  },
  {
   "cell_type": "code",
   "execution_count": null,
<<<<<<< HEAD
<<<<<<< HEAD
<<<<<<< HEAD
   "id": "f96948ff",
||||||| merged common ancestors
   "id": "112bbfbb",
=======
   "id": "cfedc79f",
>>>>>>> documentation-devel
||||||| f5a2d7c
   "id": "cfedc79f",
=======
   "id": "c10933da",
>>>>>>> documentation-devel
||||||| de7e30d
   "id": "f96948ff",
=======
   "id": "f21d97f4",
>>>>>>> 03b044928c05aca10f627eea0665560c78e150c1
   "metadata": {},
   "outputs": [],
   "source": [
    "plotColDataBin2D(sfe_tissue, x = \"sum\", y = \"detected\", bins = 75)"
   ]
  },
  {
   "cell_type": "code",
   "execution_count": null,
<<<<<<< HEAD
<<<<<<< HEAD
<<<<<<< HEAD
   "id": "6692b306",
||||||| merged common ancestors
   "id": "80edd0e4",
=======
   "id": "baa7d935",
>>>>>>> documentation-devel
||||||| f5a2d7c
   "id": "baa7d935",
=======
   "id": "43ba18d4",
>>>>>>> documentation-devel
||||||| de7e30d
   "id": "6692b306",
=======
   "id": "11df4af3",
>>>>>>> 03b044928c05aca10f627eea0665560c78e150c1
   "metadata": {},
   "outputs": [],
   "source": [
    "#clusters <- quickCluster(sfe_tissue)\n",
    "#sfe_tissue <- computeSumFactors(sfe_tissue, clusters=clusters)\n",
    "#sfe_tissue <- sfe_tissue[, sizeFactors(sfe_tissue) > 0]\n",
    "sfe_tissue <- logNormCounts(sfe_tissue)"
   ]
  },
  {
   "cell_type": "code",
   "execution_count": null,
<<<<<<< HEAD
<<<<<<< HEAD
<<<<<<< HEAD
   "id": "865bcddb",
||||||| merged common ancestors
   "id": "2a757581",
=======
   "id": "f3a4a52c",
>>>>>>> documentation-devel
||||||| f5a2d7c
   "id": "f3a4a52c",
=======
   "id": "731ea13f",
>>>>>>> documentation-devel
||||||| de7e30d
   "id": "865bcddb",
=======
   "id": "0a15998b",
>>>>>>> 03b044928c05aca10f627eea0665560c78e150c1
   "metadata": {},
   "outputs": [],
   "source": [
    "dec <- modelGeneVar(sfe_tissue, lowess = FALSE)\n",
    "hvgs <- getTopHVGs(dec, n = 2000)"
   ]
  },
  {
   "cell_type": "markdown",
<<<<<<< HEAD
<<<<<<< HEAD
<<<<<<< HEAD
   "id": "f7d90ac7",
||||||| merged common ancestors
   "id": "66a29e79",
=======
   "id": "411d2095",
>>>>>>> documentation-devel
||||||| f5a2d7c
   "id": "411d2095",
=======
   "id": "bf59d557",
>>>>>>> documentation-devel
||||||| de7e30d
   "id": "f7d90ac7",
=======
   "id": "bf220afd",
>>>>>>> 03b044928c05aca10f627eea0665560c78e150c1
   "metadata": {
    "lines_to_next_cell": 0
   },
   "source": [
    "# Dimension reduction and clustering"
   ]
  },
  {
   "cell_type": "code",
   "execution_count": null,
<<<<<<< HEAD
<<<<<<< HEAD
<<<<<<< HEAD
   "id": "e158f5f6",
||||||| merged common ancestors
   "id": "0881bb77",
=======
   "id": "29feb501",
>>>>>>> documentation-devel
||||||| f5a2d7c
   "id": "29feb501",
=======
   "id": "497d4c34",
>>>>>>> documentation-devel
||||||| de7e30d
   "id": "e158f5f6",
=======
   "id": "37799e79",
>>>>>>> 03b044928c05aca10f627eea0665560c78e150c1
   "metadata": {},
   "outputs": [],
   "source": [
    "sfe_tissue <- runPCA(sfe_tissue, ncomponents = 30, subset_row = hvgs,\n",
    "                     scale = TRUE) # scale as in Seurat"
   ]
  },
  {
   "cell_type": "code",
   "execution_count": null,
<<<<<<< HEAD
<<<<<<< HEAD
<<<<<<< HEAD
   "id": "83101dee",
||||||| merged common ancestors
   "id": "951b8a98",
=======
   "id": "f084a25e",
>>>>>>> documentation-devel
||||||| f5a2d7c
   "id": "f084a25e",
=======
   "id": "56fba9d1",
>>>>>>> documentation-devel
||||||| de7e30d
   "id": "83101dee",
=======
   "id": "412daab8",
>>>>>>> 03b044928c05aca10f627eea0665560c78e150c1
   "metadata": {},
   "outputs": [],
   "source": [
    "ElbowPlot(sfe_tissue, ndims = 30)"
   ]
  },
  {
   "cell_type": "code",
   "execution_count": null,
<<<<<<< HEAD
<<<<<<< HEAD
<<<<<<< HEAD
   "id": "4d1f22f0",
||||||| merged common ancestors
   "id": "de5959ab",
=======
   "id": "7890976c",
>>>>>>> documentation-devel
||||||| f5a2d7c
   "id": "7890976c",
=======
   "id": "9a7b8861",
>>>>>>> documentation-devel
||||||| de7e30d
   "id": "4d1f22f0",
=======
   "id": "e79d62ca",
>>>>>>> 03b044928c05aca10f627eea0665560c78e150c1
   "metadata": {},
   "outputs": [],
   "source": [
    "names(rowData(sfe_tissue))"
   ]
  },
  {
   "cell_type": "code",
   "execution_count": null,
<<<<<<< HEAD
<<<<<<< HEAD
<<<<<<< HEAD
   "id": "01c682a4",
||||||| merged common ancestors
   "id": "49c43d87",
=======
   "id": "146db66c",
>>>>>>> documentation-devel
||||||| f5a2d7c
   "id": "146db66c",
=======
   "id": "6a3207e8",
>>>>>>> documentation-devel
||||||| de7e30d
   "id": "01c682a4",
=======
   "id": "d95d1fb4",
>>>>>>> 03b044928c05aca10f627eea0665560c78e150c1
   "metadata": {},
   "outputs": [],
   "source": [
    "plotDimLoadings(sfe_tissue, dims = 1:5, show_symbol = TRUE, ncol = 3,\n",
    "                swap_rownames = \"symbol\")"
   ]
  },
  {
   "cell_type": "markdown",
<<<<<<< HEAD
<<<<<<< HEAD
<<<<<<< HEAD
   "id": "56d7c4fc",
||||||| merged common ancestors
   "id": "2b2eefea",
=======
   "id": "0bb16d99",
>>>>>>> documentation-devel
||||||| f5a2d7c
   "id": "0bb16d99",
=======
   "id": "aaf104cc",
>>>>>>> documentation-devel
||||||| de7e30d
   "id": "56d7c4fc",
=======
   "id": "0abb3893",
>>>>>>> 03b044928c05aca10f627eea0665560c78e150c1
   "metadata": {
    "lines_to_next_cell": 0
   },
   "source": [
    "Do the clustering to show on the dimension reduction plots"
   ]
  },
  {
   "cell_type": "code",
   "execution_count": null,
<<<<<<< HEAD
<<<<<<< HEAD
<<<<<<< HEAD
   "id": "26fd33dc",
||||||| merged common ancestors
   "id": "978e03de",
=======
   "id": "34b0e993",
>>>>>>> documentation-devel
||||||| f5a2d7c
   "id": "34b0e993",
=======
   "id": "48a7a4b9",
>>>>>>> documentation-devel
||||||| de7e30d
   "id": "26fd33dc",
=======
   "id": "275d8ecc",
>>>>>>> 03b044928c05aca10f627eea0665560c78e150c1
   "metadata": {},
   "outputs": [],
   "source": [
    "set.seed(29)\n",
    "colData(sfe_tissue)$cluster <- clusterRows(reducedDim(sfe_tissue, \"PCA\")[,1:3],\n",
    "                                           BLUSPARAM = SNNGraphParam(\n",
    "                                               cluster.fun = \"leiden\",\n",
    "                                               cluster.args = list(\n",
    "                                                   resolution_parameter = 0.5,\n",
    "                                                   objective_function = \"modularity\")))"
   ]
  },
  {
   "cell_type": "code",
   "execution_count": null,
<<<<<<< HEAD
<<<<<<< HEAD
<<<<<<< HEAD
   "id": "6fac2602",
||||||| merged common ancestors
   "id": "e9339b84",
=======
   "id": "a979bfa7",
>>>>>>> documentation-devel
||||||| f5a2d7c
   "id": "a979bfa7",
=======
   "id": "2f74c627",
>>>>>>> documentation-devel
||||||| de7e30d
   "id": "6fac2602",
=======
   "id": "0f2c5279",
>>>>>>> 03b044928c05aca10f627eea0665560c78e150c1
   "metadata": {
    "fig.height": 9,
    "fig.width": 9
   },
   "outputs": [],
   "source": [
    "plotPCA(sfe_tissue, ncomponents = 5, colour_by = \"cluster\")"
   ]
  },
  {
   "cell_type": "code",
   "execution_count": null,
<<<<<<< HEAD
<<<<<<< HEAD
<<<<<<< HEAD
   "id": "a2591773",
||||||| merged common ancestors
   "id": "e06bff76",
=======
   "id": "8dff5372",
>>>>>>> documentation-devel
||||||| f5a2d7c
   "id": "8dff5372",
=======
   "id": "a0b7aa4f",
>>>>>>> documentation-devel
||||||| de7e30d
   "id": "a2591773",
=======
   "id": "3e06a25f",
>>>>>>> 03b044928c05aca10f627eea0665560c78e150c1
   "metadata": {},
   "outputs": [],
   "source": [
    "plotSpatialFeature(sfe_tissue, features = \"cluster\", \n",
    "                   colGeometryName = \"spotPoly\", image_id = \"lowres\")"
   ]
  },
  {
   "cell_type": "code",
   "execution_count": null,
<<<<<<< HEAD
<<<<<<< HEAD
<<<<<<< HEAD
   "id": "04066e43",
||||||| merged common ancestors
   "id": "87550857",
=======
   "id": "df756980",
>>>>>>> documentation-devel
||||||| f5a2d7c
   "id": "df756980",
=======
   "id": "d2a63faa",
>>>>>>> documentation-devel
||||||| de7e30d
   "id": "04066e43",
=======
   "id": "56441641",
>>>>>>> 03b044928c05aca10f627eea0665560c78e150c1
   "metadata": {
    "fig.height": 8,
    "fig.width": 8
   },
   "outputs": [],
   "source": [
    "spatialReducedDim(sfe_tissue, \"PCA\", ncomponents = 5, \n",
    "                  colGeometryName = \"spotPoly\", divergent = TRUE, \n",
    "                  diverge_center = 0, ncol = 2, \n",
    "                  image_id = \"lowres\", maxcell = 5e4)"
   ]
  },
  {
   "cell_type": "code",
   "execution_count": null,
<<<<<<< HEAD
<<<<<<< HEAD
<<<<<<< HEAD
   "id": "13e2457e",
||||||| merged common ancestors
   "id": "7ff6e764",
=======
   "id": "6636561a",
>>>>>>> documentation-devel
||||||| f5a2d7c
   "id": "6636561a",
=======
   "id": "2629f584",
>>>>>>> documentation-devel
||||||| de7e30d
   "id": "13e2457e",
=======
   "id": "bb160e79",
>>>>>>> 03b044928c05aca10f627eea0665560c78e150c1
   "metadata": {},
   "outputs": [],
   "source": [
    "markers <- findMarkers(sfe_tissue, groups = colData(sfe_tissue)$cluster,\n",
    "                       test.type = \"wilcox\", pval.type = \"all\", direction = \"up\")"
   ]
  },
  {
   "cell_type": "markdown",
<<<<<<< HEAD
<<<<<<< HEAD
<<<<<<< HEAD
   "id": "85ad6e28",
||||||| merged common ancestors
   "id": "4819afb2",
=======
   "id": "385565b0",
>>>>>>> documentation-devel
||||||| f5a2d7c
   "id": "385565b0",
=======
   "id": "8f54e089",
>>>>>>> documentation-devel
||||||| de7e30d
   "id": "85ad6e28",
=======
   "id": "19e7af7a",
>>>>>>> 03b044928c05aca10f627eea0665560c78e150c1
   "metadata": {
    "lines_to_next_cell": 0
   },
   "source": [
    "Significant markers for each cluster can be obtained as follows:"
   ]
  },
  {
   "cell_type": "code",
   "execution_count": null,
<<<<<<< HEAD
<<<<<<< HEAD
<<<<<<< HEAD
   "id": "2e899cf6",
||||||| merged common ancestors
   "id": "02e545fc",
=======
   "id": "c87a30d5",
>>>>>>> documentation-devel
||||||| f5a2d7c
   "id": "c87a30d5",
=======
   "id": "0374280a",
>>>>>>> documentation-devel
||||||| de7e30d
   "id": "2e899cf6",
=======
   "id": "3a05aa24",
>>>>>>> 03b044928c05aca10f627eea0665560c78e150c1
   "metadata": {},
   "outputs": [],
   "source": [
    "genes_use <- vapply(markers, function(x) rownames(x)[1], FUN.VALUE = character(1))\n",
    "plotExpression(sfe_tissue, rowData(sfe_tissue)[genes_use, \"symbol\"], x = \"cluster\",\n",
    "               colour_by = \"cluster\", swap_rownames = \"symbol\")"
   ]
  },
  {
   "cell_type": "markdown",
<<<<<<< HEAD
<<<<<<< HEAD
<<<<<<< HEAD
   "id": "c783d260",
||||||| merged common ancestors
   "id": "8c427b8b",
=======
   "id": "d884e863",
>>>>>>> documentation-devel
||||||| f5a2d7c
   "id": "d884e863",
=======
   "id": "99320d6a",
>>>>>>> documentation-devel
||||||| de7e30d
   "id": "c783d260",
=======
   "id": "dd4d0d1e",
>>>>>>> 03b044928c05aca10f627eea0665560c78e150c1
   "metadata": {
    "lines_to_next_cell": 0
   },
   "source": [
    "These genes are interesting to view in spatial context:"
   ]
  },
  {
   "cell_type": "code",
   "execution_count": null,
<<<<<<< HEAD
<<<<<<< HEAD
<<<<<<< HEAD
   "id": "074c3b09",
||||||| merged common ancestors
   "id": "1a423abd",
=======
   "id": "70bc2c35",
>>>>>>> documentation-devel
||||||| f5a2d7c
   "id": "70bc2c35",
=======
   "id": "69921024",
>>>>>>> documentation-devel
||||||| de7e30d
   "id": "074c3b09",
=======
   "id": "dad2a89e",
>>>>>>> 03b044928c05aca10f627eea0665560c78e150c1
   "metadata": {
    "fig.height": 8,
    "fig.width": 8
   },
   "outputs": [],
   "source": [
    "plotSpatialFeature(sfe_tissue, genes_use, colGeometryName = \"spotPoly\", ncol = 2,\n",
    "                   swap_rownames = \"symbol\", image_id = \"lowres\", maxcell = 5e4)"
   ]
  },
  {
   "cell_type": "markdown",
<<<<<<< HEAD
<<<<<<< HEAD
<<<<<<< HEAD
   "id": "ffcac13d",
||||||| merged common ancestors
   "id": "7247d254",
=======
   "id": "342a9e72",
>>>>>>> documentation-devel
||||||| f5a2d7c
   "id": "342a9e72",
=======
   "id": "6d1c8e6b",
>>>>>>> documentation-devel
||||||| de7e30d
   "id": "ffcac13d",
=======
   "id": "22cc43a3",
>>>>>>> 03b044928c05aca10f627eea0665560c78e150c1
   "metadata": {
    "lines_to_next_cell": 0
   },
   "source": [
    "More spatial analyses on this dataset is performed in [an \"advanced\" version of this vignette](https://pachterlab.github.io/voyager/articles/visium_10x_spatial.html).\n",
    "\n",
    "# Session info"
   ]
  },
  {
   "cell_type": "code",
   "execution_count": null,
<<<<<<< HEAD
<<<<<<< HEAD
<<<<<<< HEAD
   "id": "1f18f195",
||||||| merged common ancestors
   "id": "bd16d161",
=======
   "id": "a2283f6c",
>>>>>>> documentation-devel
||||||| f5a2d7c
   "id": "a2283f6c",
=======
   "id": "2a118e17",
>>>>>>> documentation-devel
||||||| de7e30d
   "id": "1f18f195",
=======
   "id": "0b6e2563",
>>>>>>> 03b044928c05aca10f627eea0665560c78e150c1
   "metadata": {},
   "outputs": [],
   "source": [
    "sessionInfo()"
   ]
  }
 ],
 "metadata": {
  "kernelspec": {
   "display_name": "R",
   "language": "R",
   "name": "ir"
  }
 },
 "nbformat": 4,
 "nbformat_minor": 5
}
