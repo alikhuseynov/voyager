{
 "cells": [
  {
   "cell_type": "raw",
<<<<<<< HEAD
<<<<<<< HEAD
<<<<<<< HEAD
<<<<<<< HEAD
   "id": "f10aef42",
||||||| 11b9cb7
   "id": "e0df519c",
=======
   "id": "8886964e",
>>>>>>> documentation-devel
||||||| 614e9b1
   "id": "8886964e",
=======
   "id": "e3cd20b6",
>>>>>>> documentation-devel
||||||| 856b4c0
<<<<<<< HEAD
   "id": "f10aef42",
||||||| 11b9cb7
   "id": "e0df519c",
=======
   "id": "8886964e",
>>>>>>> documentation-devel
=======
   "id": "aaa87f4c",
>>>>>>> 552590ea8fad969b67afdba27558a1e6cb21016e
||||||| 452c944
   "id": "e3cd20b6",
=======
   "id": "aee0fcfe",
>>>>>>> documentation-devel
   "metadata": {},
   "source": [
    "---\n",
    "title: \"Basic analysis of 10X example Visium dataset\"\n",
    "author: \"Lambda Moses\"\n",
    "date: \"`r Sys.Date()`\"\n",
    "output: \n",
    "  html_document:\n",
    "  toc: true\n",
    "  toc_float:\n",
    "    collapsed: false\n",
    "  toc_depth: 3\n",
    "bibliography: ref.bib\n",
    "vignette: >\n",
    "  %\\VignetteIndexEntry{visium_10x}\n",
    "  %\\VignetteEngine{knitr::rmarkdown}\n",
    "  %\\VignetteEncoding{UTF-8}\n",
    "---"
   ]
  },
  {
   "cell_type": "code",
   "execution_count": null,
<<<<<<< HEAD
<<<<<<< HEAD
<<<<<<< HEAD
<<<<<<< HEAD
   "id": "9e73de36",
||||||| 11b9cb7
   "id": "f6bbba92",
=======
   "id": "9223a121",
>>>>>>> documentation-devel
||||||| 614e9b1
   "id": "9223a121",
=======
   "id": "d2f94e68",
>>>>>>> documentation-devel
||||||| 856b4c0
<<<<<<< HEAD
   "id": "9e73de36",
||||||| 11b9cb7
   "id": "f6bbba92",
=======
   "id": "9223a121",
>>>>>>> documentation-devel
=======
   "id": "01702047",
>>>>>>> 552590ea8fad969b67afdba27558a1e6cb21016e
||||||| 452c944
   "id": "d2f94e68",
=======
   "id": "4bbe71d8",
>>>>>>> documentation-devel
   "metadata": {
    "tags": [
     "remove_cell"
    ]
   },
   "outputs": [],
   "source": [
    "knitr::opts_chunk$set(\n",
    "  collapse = TRUE,\n",
    "  comment = \"#>\"\n",
    ")"
   ]
  },
  {
   "cell_type": "code",
   "execution_count": null,
<<<<<<< HEAD
<<<<<<< HEAD
<<<<<<< HEAD
<<<<<<< HEAD
   "id": "04c48008",
||||||| 11b9cb7
   "id": "162882e4",
=======
   "id": "117e57f0",
>>>>>>> documentation-devel
||||||| 614e9b1
   "id": "117e57f0",
=======
   "id": "4cee9093",
>>>>>>> documentation-devel
||||||| 856b4c0
<<<<<<< HEAD
   "id": "04c48008",
||||||| 11b9cb7
   "id": "162882e4",
=======
   "id": "117e57f0",
>>>>>>> documentation-devel
=======
   "id": "26edd4f5",
>>>>>>> 552590ea8fad969b67afdba27558a1e6cb21016e
||||||| 452c944
   "id": "4cee9093",
=======
   "id": "99837a5d",
>>>>>>> documentation-devel
   "metadata": {
    "eval": false,
    "tags": [
     "remove_cell"
    ]
   },
   "outputs": [],
   "source": [
    "# Install Google Colab dependencies\n",
    "# Note: this can take 30+ minutes (many of the dependencies include C++ code, which needs to be compiled)\n",
    "\n",
    "# First install `sf`, `ragg` and `textshaping` and their system dependencies:\n",
    "system(\"apt-get -y update && apt-get install -y  libudunits2-dev libgdal-dev libgeos-dev libproj-dev libharfbuzz-dev libfribidi-dev\")\n",
    "install.packages(\"sf\")\n",
    "install.packages(\"textshaping\")\n",
    "install.packages(\"ragg\")\n",
    "\n",
    "# Install system dependencies of some other R packages that Voyager either imports or suggests:\n",
    "system(\"apt-get install -y libfribidi-dev libcairo2-dev libmagick++-dev\")\n",
    "\n",
    "# Install Voyager from Bioconductor:\n",
    "install.packages(\"BiocManager\")\n",
    "BiocManager::install(version = \"3.17\", ask = FALSE, update = FALSE, Ncpus = 2)\n",
    "BiocManager::install(\"scater\")\n",
    "system.time(\n",
    "  BiocManager::install(\"Voyager\", dependencies = TRUE, Ncpus = 2, update = FALSE)\n",
    ")\n",
    "\n",
    "packageVersion(\"Voyager\")"
   ]
  },
  {
   "cell_type": "markdown",
<<<<<<< HEAD
<<<<<<< HEAD
<<<<<<< HEAD
<<<<<<< HEAD
   "id": "00f8c4fb",
||||||| 11b9cb7
   "id": "45c7d48c",
=======
   "id": "ac4eee37",
>>>>>>> documentation-devel
||||||| 614e9b1
   "id": "ac4eee37",
=======
   "id": "340432b4",
>>>>>>> documentation-devel
||||||| 856b4c0
<<<<<<< HEAD
   "id": "00f8c4fb",
||||||| 11b9cb7
   "id": "45c7d48c",
=======
   "id": "ac4eee37",
>>>>>>> documentation-devel
=======
   "id": "ccce2e92",
>>>>>>> 552590ea8fad969b67afdba27558a1e6cb21016e
||||||| 452c944
   "id": "340432b4",
=======
   "id": "75a5239c",
>>>>>>> documentation-devel
   "metadata": {
    "lines_to_next_cell": 0
   },
   "source": [
    "# Introduction\n",
    "\n",
    "In this introductory vignette for [`SpatialFeatureExperiment`](https://bioconductor.org/packages/devel/bioc/html/SpatialFeatureExperiment.html) data representation and [`Voyager`](https://bioconductor.org/packages/devel/bioc/html/Voyager.html) anlaysis package, we demonstrate a basic exploratory data analysis (EDA) of spatial transcriptomics data. Basic knowledge of R and [`SingleCellExperiment`](https://bioconductor.org/packages/release/bioc/html/SingleCellExperiment.html) is assumed.\n",
    "\n",
    "This vignette showcases the packages with a Visium spatial gene expression system dataset, downloaded from the 10X website, in the Space Ranger output format. The technology was chosen due to its popularity, and therefore the availability of numerous publicly available datasets for analysis [@Moses2022-xz].\n",
    "\n",
    "While Voyager was developed with the goal of facilitating the use of geospatial methods in spatial genomics, this introductory vignette is restricted to non-spatial scRNA-seq EDA with the Visium dataset. There is [another Visium introductory vignette](https://pachterlab.github.io/voyager/articles/vig1_visium_basic.html) using a dataset in the [`SFEData`](https://bioconductor.org/packages/release/data/experiment/html/SFEData.html) package but not from the 10X website.\n",
    "\n",
    "Here we load the packages used in this vignette."
   ]
  },
  {
   "cell_type": "code",
   "execution_count": null,
<<<<<<< HEAD
<<<<<<< HEAD
<<<<<<< HEAD
<<<<<<< HEAD
   "id": "0b324280",
||||||| 11b9cb7
   "id": "10faab9e",
=======
   "id": "949c678e",
>>>>>>> documentation-devel
||||||| 614e9b1
   "id": "949c678e",
=======
   "id": "04bfdb90",
>>>>>>> documentation-devel
||||||| 856b4c0
<<<<<<< HEAD
   "id": "0b324280",
||||||| 11b9cb7
   "id": "10faab9e",
=======
   "id": "949c678e",
>>>>>>> documentation-devel
=======
   "id": "75f362a7",
>>>>>>> 552590ea8fad969b67afdba27558a1e6cb21016e
||||||| 452c944
   "id": "04bfdb90",
=======
   "id": "05a94b8a",
>>>>>>> documentation-devel
   "metadata": {
    "name": "setup"
   },
   "outputs": [],
   "source": [
    "library(Voyager)\n",
    "library(SpatialExperiment)\n",
    "library(SpatialFeatureExperiment)\n",
    "library(SingleCellExperiment)\n",
    "library(ggplot2)\n",
    "library(scater)\n",
    "library(scuttle)\n",
    "library(scran)\n",
    "library(stringr)\n",
    "library(patchwork)\n",
    "library(bluster)\n",
    "library(rjson)\n",
    "theme_set(theme_bw())"
   ]
  },
  {
   "cell_type": "markdown",
<<<<<<< HEAD
<<<<<<< HEAD
<<<<<<< HEAD
<<<<<<< HEAD
   "id": "10cbd13a",
||||||| 11b9cb7
   "id": "0729055e",
=======
   "id": "ce09f358",
>>>>>>> documentation-devel
||||||| 614e9b1
   "id": "ce09f358",
=======
   "id": "09978376",
>>>>>>> documentation-devel
||||||| 856b4c0
<<<<<<< HEAD
   "id": "10cbd13a",
||||||| 11b9cb7
   "id": "0729055e",
=======
   "id": "ce09f358",
>>>>>>> documentation-devel
=======
   "id": "a4e9ece7",
>>>>>>> 552590ea8fad969b67afdba27558a1e6cb21016e
||||||| 452c944
   "id": "09978376",
=======
   "id": "2f319ea0",
>>>>>>> documentation-devel
   "metadata": {
    "lines_to_next_cell": 0
   },
   "source": [
    "Here we download the data from the 10X website. This is the unfiltered gene count matrix:"
   ]
  },
  {
   "cell_type": "code",
   "execution_count": null,
<<<<<<< HEAD
<<<<<<< HEAD
<<<<<<< HEAD
<<<<<<< HEAD
   "id": "dcb3f7f8",
||||||| 11b9cb7
   "id": "9d4ab32e",
=======
   "id": "04a051e8",
>>>>>>> documentation-devel
||||||| 614e9b1
   "id": "04a051e8",
=======
   "id": "8cd2c0d5",
>>>>>>> documentation-devel
||||||| 856b4c0
<<<<<<< HEAD
   "id": "dcb3f7f8",
||||||| 11b9cb7
   "id": "9d4ab32e",
=======
   "id": "04a051e8",
>>>>>>> documentation-devel
=======
   "id": "8154576d",
>>>>>>> 552590ea8fad969b67afdba27558a1e6cb21016e
||||||| 452c944
   "id": "8cd2c0d5",
=======
   "id": "1bf5c982",
>>>>>>> documentation-devel
   "metadata": {},
   "outputs": [],
   "source": [
    "if (!file.exists(\"visium_ob.tar.gz\"))\n",
    "    download.file(\"https://cf.10xgenomics.com/samples/spatial-exp/2.0.0/Visium_Mouse_Olfactory_Bulb/Visium_Mouse_Olfactory_Bulb_raw_feature_bc_matrix.tar.gz\", \n",
    "                  destfile = \"visium_ob.tar.gz\")"
   ]
  },
  {
   "cell_type": "markdown",
<<<<<<< HEAD
<<<<<<< HEAD
<<<<<<< HEAD
<<<<<<< HEAD
   "id": "4026b3d8",
||||||| 11b9cb7
   "id": "4fb76ac1",
=======
   "id": "8d631960",
>>>>>>> documentation-devel
||||||| 614e9b1
   "id": "8d631960",
=======
   "id": "22bb5eb1",
>>>>>>> documentation-devel
||||||| 856b4c0
<<<<<<< HEAD
   "id": "4026b3d8",
||||||| 11b9cb7
   "id": "4fb76ac1",
=======
   "id": "8d631960",
>>>>>>> documentation-devel
=======
   "id": "73fd6bac",
>>>>>>> 552590ea8fad969b67afdba27558a1e6cb21016e
||||||| 452c944
   "id": "22bb5eb1",
=======
   "id": "7b814fb2",
>>>>>>> documentation-devel
   "metadata": {
    "lines_to_next_cell": 0
   },
   "source": [
    "This is the spatial information:"
   ]
  },
  {
   "cell_type": "code",
   "execution_count": null,
<<<<<<< HEAD
<<<<<<< HEAD
<<<<<<< HEAD
<<<<<<< HEAD
   "id": "6d2361d7",
||||||| 11b9cb7
   "id": "55518373",
=======
   "id": "c500868b",
>>>>>>> documentation-devel
||||||| 614e9b1
   "id": "c500868b",
=======
   "id": "6319e21e",
>>>>>>> documentation-devel
||||||| 856b4c0
<<<<<<< HEAD
   "id": "6d2361d7",
||||||| 11b9cb7
   "id": "55518373",
=======
   "id": "c500868b",
>>>>>>> documentation-devel
=======
   "id": "188aa849",
>>>>>>> 552590ea8fad969b67afdba27558a1e6cb21016e
||||||| 452c944
   "id": "6319e21e",
=======
   "id": "8ba28e80",
>>>>>>> documentation-devel
   "metadata": {},
   "outputs": [],
   "source": [
    "if (!file.exists(\"visium_ob_spatial.tar.gz\"))\n",
    "    download.file(\"https://cf.10xgenomics.com/samples/spatial-exp/2.0.0/Visium_Mouse_Olfactory_Bulb/Visium_Mouse_Olfactory_Bulb_spatial.tar.gz\", \n",
    "                  destfile = \"visium_ob_spatial.tar.gz\")"
   ]
  },
  {
   "cell_type": "markdown",
<<<<<<< HEAD
<<<<<<< HEAD
<<<<<<< HEAD
<<<<<<< HEAD
   "id": "24290f0d",
||||||| 11b9cb7
   "id": "878bcedd",
=======
   "id": "dc2fdd2b",
>>>>>>> documentation-devel
||||||| 614e9b1
   "id": "dc2fdd2b",
=======
   "id": "0b057bf8",
>>>>>>> documentation-devel
||||||| 856b4c0
<<<<<<< HEAD
   "id": "24290f0d",
||||||| 11b9cb7
   "id": "878bcedd",
=======
   "id": "dc2fdd2b",
>>>>>>> documentation-devel
=======
   "id": "5ff5d625",
>>>>>>> 552590ea8fad969b67afdba27558a1e6cb21016e
||||||| 452c944
   "id": "0b057bf8",
=======
   "id": "21a814a7",
>>>>>>> documentation-devel
   "metadata": {
    "lines_to_next_cell": 0
   },
   "source": [
    "Decompress the downloaded content:"
   ]
  },
  {
   "cell_type": "code",
   "execution_count": null,
<<<<<<< HEAD
<<<<<<< HEAD
<<<<<<< HEAD
<<<<<<< HEAD
   "id": "e8017f38",
||||||| 11b9cb7
   "id": "dcd18a29",
=======
   "id": "cf567d1c",
>>>>>>> documentation-devel
||||||| 614e9b1
   "id": "cf567d1c",
=======
   "id": "d6003d0b",
>>>>>>> documentation-devel
||||||| 856b4c0
<<<<<<< HEAD
   "id": "e8017f38",
||||||| 11b9cb7
   "id": "dcd18a29",
=======
   "id": "cf567d1c",
>>>>>>> documentation-devel
=======
   "id": "4733b53a",
>>>>>>> 552590ea8fad969b67afdba27558a1e6cb21016e
||||||| 452c944
   "id": "d6003d0b",
=======
   "id": "3706e853",
>>>>>>> documentation-devel
   "metadata": {},
   "outputs": [],
   "source": [
    "if (!dir.exists(\"outs\")) {\n",
    "    dir.create(\"outs\")\n",
    "    system(\"tar -xvf visium_ob.tar.gz -C outs\")\n",
    "    system(\"tar -xvf visium_ob_spatial.tar.gz -C outs\")\n",
    "}"
   ]
  },
  {
   "cell_type": "markdown",
<<<<<<< HEAD
<<<<<<< HEAD
<<<<<<< HEAD
<<<<<<< HEAD
   "id": "6d20f5dd",
||||||| 11b9cb7
   "id": "cd4dc796",
=======
   "id": "fa83e96b",
>>>>>>> documentation-devel
||||||| 614e9b1
   "id": "fa83e96b",
=======
   "id": "946b8c70",
>>>>>>> documentation-devel
||||||| 856b4c0
<<<<<<< HEAD
   "id": "6d20f5dd",
||||||| 11b9cb7
   "id": "cd4dc796",
=======
   "id": "fa83e96b",
>>>>>>> documentation-devel
=======
   "id": "dbb0821e",
>>>>>>> 552590ea8fad969b67afdba27558a1e6cb21016e
||||||| 452c944
   "id": "946b8c70",
=======
   "id": "3a8cb8f1",
>>>>>>> documentation-devel
   "metadata": {
    "lines_to_next_cell": 0
   },
   "source": [
    "This is what the `outs` directory in Space Ranger output looks like:"
   ]
  },
  {
   "cell_type": "code",
   "execution_count": null,
<<<<<<< HEAD
<<<<<<< HEAD
<<<<<<< HEAD
<<<<<<< HEAD
   "id": "36c28158",
||||||| 11b9cb7
   "id": "fb9bfc87",
=======
   "id": "2f233d11",
>>>>>>> documentation-devel
||||||| 614e9b1
   "id": "2f233d11",
=======
   "id": "c3e297b7",
>>>>>>> documentation-devel
||||||| 856b4c0
<<<<<<< HEAD
   "id": "36c28158",
||||||| 11b9cb7
   "id": "fb9bfc87",
=======
   "id": "2f233d11",
>>>>>>> documentation-devel
=======
   "id": "ce2fe384",
>>>>>>> 552590ea8fad969b67afdba27558a1e6cb21016e
||||||| 452c944
   "id": "c3e297b7",
=======
   "id": "1a8c94d7",
>>>>>>> documentation-devel
   "metadata": {},
   "outputs": [],
   "source": [
    "list.dirs(\"outs\")"
   ]
  },
  {
   "cell_type": "markdown",
<<<<<<< HEAD
<<<<<<< HEAD
<<<<<<< HEAD
<<<<<<< HEAD
   "id": "4090ee64",
||||||| 11b9cb7
   "id": "8af9eaac",
=======
   "id": "78da8a0b",
>>>>>>> documentation-devel
||||||| 614e9b1
   "id": "78da8a0b",
=======
   "id": "ba4a85b2",
>>>>>>> documentation-devel
||||||| 856b4c0
<<<<<<< HEAD
   "id": "4090ee64",
||||||| 11b9cb7
   "id": "8af9eaac",
=======
   "id": "78da8a0b",
>>>>>>> documentation-devel
=======
   "id": "e2bb0233",
>>>>>>> 552590ea8fad969b67afdba27558a1e6cb21016e
||||||| 452c944
   "id": "ba4a85b2",
=======
   "id": "8417058c",
>>>>>>> documentation-devel
   "metadata": {
    "lines_to_next_cell": 0
   },
   "source": [
    "In the gene count matrix directory:"
   ]
  },
  {
   "cell_type": "code",
   "execution_count": null,
<<<<<<< HEAD
<<<<<<< HEAD
<<<<<<< HEAD
<<<<<<< HEAD
   "id": "76c27afc",
||||||| 11b9cb7
   "id": "04bb6f27",
=======
   "id": "023a54d7",
>>>>>>> documentation-devel
||||||| 614e9b1
   "id": "023a54d7",
=======
   "id": "8732f8ca",
>>>>>>> documentation-devel
||||||| 856b4c0
<<<<<<< HEAD
   "id": "76c27afc",
||||||| 11b9cb7
   "id": "04bb6f27",
=======
   "id": "023a54d7",
>>>>>>> documentation-devel
=======
   "id": "85921975",
>>>>>>> 552590ea8fad969b67afdba27558a1e6cb21016e
||||||| 452c944
   "id": "8732f8ca",
=======
   "id": "63e5a6f2",
>>>>>>> documentation-devel
   "metadata": {},
   "outputs": [],
   "source": [
    "list.files(\"outs/raw_feature_bc_matrix\")"
   ]
  },
  {
   "cell_type": "markdown",
<<<<<<< HEAD
<<<<<<< HEAD
<<<<<<< HEAD
<<<<<<< HEAD
   "id": "1e2f3c0d",
||||||| 11b9cb7
   "id": "18b2941f",
=======
   "id": "1ba393ae",
>>>>>>> documentation-devel
||||||| 614e9b1
   "id": "1ba393ae",
=======
   "id": "5ebf069e",
>>>>>>> documentation-devel
||||||| 856b4c0
<<<<<<< HEAD
   "id": "1e2f3c0d",
||||||| 11b9cb7
   "id": "18b2941f",
=======
   "id": "1ba393ae",
>>>>>>> documentation-devel
=======
   "id": "82bbd362",
>>>>>>> 552590ea8fad969b67afdba27558a1e6cb21016e
||||||| 452c944
   "id": "5ebf069e",
=======
   "id": "88dda3e3",
>>>>>>> documentation-devel
   "metadata": {},
   "source": [
    "In the spatial directory:"
   ]
  },
  {
   "cell_type": "code",
   "execution_count": null,
<<<<<<< HEAD
<<<<<<< HEAD
<<<<<<< HEAD
<<<<<<< HEAD
   "id": "4e3da3fd",
||||||| 11b9cb7
   "id": "0a31e2dd",
=======
   "id": "2d011023",
>>>>>>> documentation-devel
||||||| 614e9b1
   "id": "2d011023",
=======
   "id": "97bc5e11",
>>>>>>> documentation-devel
||||||| 856b4c0
<<<<<<< HEAD
   "id": "4e3da3fd",
||||||| 11b9cb7
   "id": "0a31e2dd",
=======
   "id": "2d011023",
>>>>>>> documentation-devel
=======
   "id": "19d5bd47",
>>>>>>> 552590ea8fad969b67afdba27558a1e6cb21016e
||||||| 452c944
   "id": "97bc5e11",
=======
   "id": "7439bf8e",
>>>>>>> documentation-devel
   "metadata": {},
   "outputs": [],
   "source": [
    "list.files(\"outs/spatial\")"
   ]
  },
  {
   "cell_type": "markdown",
<<<<<<< HEAD
<<<<<<< HEAD
<<<<<<< HEAD
<<<<<<< HEAD
   "id": "70cdb2c4",
||||||| 11b9cb7
   "id": "740473dc",
=======
   "id": "0ccb6442",
>>>>>>> documentation-devel
||||||| 614e9b1
   "id": "0ccb6442",
=======
   "id": "d8e15452",
>>>>>>> documentation-devel
||||||| 856b4c0
<<<<<<< HEAD
   "id": "70cdb2c4",
||||||| 11b9cb7
   "id": "740473dc",
=======
   "id": "0ccb6442",
>>>>>>> documentation-devel
=======
   "id": "92ebecb5",
>>>>>>> 552590ea8fad969b67afdba27558a1e6cb21016e
||||||| 452c944
   "id": "d8e15452",
=======
   "id": "8aec1ee1",
>>>>>>> documentation-devel
   "metadata": {},
   "source": [
    "The outputs in the spatial directory is explained [here on the 10X website](https://support.10xgenomics.com/spatial-gene-expression/software/pipelines/latest/output/spatial).\n",
    "\n",
    "The `tissue_hires_image.png` is a relatively high resolution image of the tissue, but not full resolution. The `tissue_lowres_image.png` file is a low resolution image of the tissue, suitable for quick plotting, and is shown here:\n",
    "![tissue_lowres_image.png](https://raw.githubusercontent.com/pachterlab/voyager/documentation/vignettes/tissue_lowres_image.png)\n",
    "\n",
    "The array of dots framing the tissue seen in this image is the fiducials, used to align the tissue image to the positions of the Visium spots, so gene expression can be matched to spatial locations. The alignment of the fiducials is shown in `aligned_fiducials.jpg`. Space Ranger can automatically detect which spots are in tissue, and these spots are highlighted in `detected_tissue_image.jpg`. \n",
    "\n",
    "Inside the `scalefactors_json.json` file:"
   ]
  },
  {
   "cell_type": "code",
   "execution_count": null,
<<<<<<< HEAD
<<<<<<< HEAD
<<<<<<< HEAD
<<<<<<< HEAD
   "id": "febc993f",
||||||| 11b9cb7
   "id": "602e05d6",
=======
   "id": "7e76c97d",
>>>>>>> documentation-devel
||||||| 614e9b1
   "id": "7e76c97d",
=======
   "id": "847b973b",
>>>>>>> documentation-devel
||||||| 856b4c0
<<<<<<< HEAD
   "id": "febc993f",
||||||| 11b9cb7
   "id": "602e05d6",
=======
   "id": "7e76c97d",
>>>>>>> documentation-devel
=======
   "id": "febb5ef6",
>>>>>>> 552590ea8fad969b67afdba27558a1e6cb21016e
||||||| 452c944
   "id": "847b973b",
=======
   "id": "0769215a",
>>>>>>> documentation-devel
   "metadata": {
    "lines_to_next_cell": 0
   },
   "outputs": [],
   "source": [
    "fromJSON(file = \"outs/spatial/scalefactors_json.json\")"
   ]
  },
  {
   "cell_type": "markdown",
<<<<<<< HEAD
<<<<<<< HEAD
<<<<<<< HEAD
<<<<<<< HEAD
   "id": "7f369309",
||||||| 11b9cb7
   "id": "8930e34a",
=======
   "id": "8528085a",
>>>>>>> documentation-devel
||||||| 614e9b1
   "id": "8528085a",
=======
   "id": "d5364e1c",
>>>>>>> documentation-devel
||||||| 856b4c0
<<<<<<< HEAD
   "id": "7f369309",
||||||| 11b9cb7
   "id": "8930e34a",
=======
   "id": "8528085a",
>>>>>>> documentation-devel
=======
   "id": "80f8bc2d",
>>>>>>> 552590ea8fad969b67afdba27558a1e6cb21016e
||||||| 452c944
   "id": "d5364e1c",
=======
   "id": "c93517be",
>>>>>>> documentation-devel
   "metadata": {
    "lines_to_next_cell": 0
   },
   "source": [
    "`spot_diameter_fullres` is the diameter of each Visium spot in the full resolution H&E image in pixels. `tissue_hires_scalef` and `tissue_lowres_scalef` are the ratio of the size of the high resolution (but not full resolution) and low resolution H&E image to the full resolution image. `fiducial_diameter_fullres` is the diameter of each fiducial spot used to align the spots to the H&E image in pixels in the full resolution image.\n",
    "\n",
    "The `tissue_positions_list.csv` file contains information for the coordinates of the spots in the full resolution image and whether each spot is in tissue (`in_tissue`, 1 means yes and 0 means no) as automatically detected by Space Ranger or manually annotated in the Loupe browser."
   ]
  },
  {
   "cell_type": "code",
   "execution_count": null,
<<<<<<< HEAD
<<<<<<< HEAD
<<<<<<< HEAD
<<<<<<< HEAD
   "id": "c326f517",
||||||| 11b9cb7
   "id": "f17b02b3",
=======
   "id": "911197d7",
>>>>>>> documentation-devel
||||||| 614e9b1
   "id": "911197d7",
=======
   "id": "4e097db3",
>>>>>>> documentation-devel
||||||| 856b4c0
<<<<<<< HEAD
   "id": "c326f517",
||||||| 11b9cb7
   "id": "f17b02b3",
=======
   "id": "911197d7",
>>>>>>> documentation-devel
=======
   "id": "2e6f1392",
>>>>>>> 552590ea8fad969b67afdba27558a1e6cb21016e
||||||| 452c944
   "id": "4e097db3",
=======
   "id": "162b5457",
>>>>>>> documentation-devel
   "metadata": {},
   "outputs": [],
   "source": [
    "head(read.csv(\"outs/spatial/tissue_positions.csv\"))"
   ]
  },
  {
   "cell_type": "markdown",
<<<<<<< HEAD
<<<<<<< HEAD
<<<<<<< HEAD
<<<<<<< HEAD
   "id": "36a1a376",
||||||| 11b9cb7
   "id": "f5ebfef6",
=======
   "id": "b143d9a6",
>>>>>>> documentation-devel
||||||| 614e9b1
   "id": "b143d9a6",
=======
   "id": "209f5594",
>>>>>>> documentation-devel
||||||| 856b4c0
<<<<<<< HEAD
   "id": "36a1a376",
||||||| 11b9cb7
   "id": "f5ebfef6",
=======
   "id": "b143d9a6",
>>>>>>> documentation-devel
=======
   "id": "ed03178e",
>>>>>>> 552590ea8fad969b67afdba27558a1e6cb21016e
||||||| 452c944
   "id": "209f5594",
=======
   "id": "e4748b85",
>>>>>>> documentation-devel
   "metadata": {
    "lines_to_next_cell": 0
   },
   "source": [
    "The `spatial_enrichment.csv` file has Moran's I (presumably for spots in tissue) and its p-value for each gene that is detected in at least 10 spots and has at least 20 UMIs. "
   ]
  },
  {
   "cell_type": "code",
   "execution_count": null,
<<<<<<< HEAD
<<<<<<< HEAD
<<<<<<< HEAD
<<<<<<< HEAD
   "id": "dd0c6841",
||||||| 11b9cb7
   "id": "962bb726",
=======
   "id": "f1908416",
>>>>>>> documentation-devel
||||||| 614e9b1
   "id": "f1908416",
=======
   "id": "75f15e7b",
>>>>>>> documentation-devel
||||||| 856b4c0
<<<<<<< HEAD
   "id": "dd0c6841",
||||||| 11b9cb7
   "id": "962bb726",
=======
   "id": "f1908416",
>>>>>>> documentation-devel
=======
   "id": "113d7eed",
>>>>>>> 552590ea8fad969b67afdba27558a1e6cb21016e
||||||| 452c944
   "id": "75f15e7b",
=======
   "id": "291bcb20",
>>>>>>> documentation-devel
   "metadata": {},
   "outputs": [],
   "source": [
    "head(read.csv(\"outs/spatial/spatial_enrichment.csv\"))"
   ]
  },
  {
   "cell_type": "markdown",
<<<<<<< HEAD
<<<<<<< HEAD
<<<<<<< HEAD
<<<<<<< HEAD
   "id": "b4616679",
||||||| 11b9cb7
   "id": "36b4eaa8",
=======
   "id": "f703ab3e",
>>>>>>> documentation-devel
||||||| 614e9b1
   "id": "f703ab3e",
=======
   "id": "214cff26",
>>>>>>> documentation-devel
||||||| 856b4c0
<<<<<<< HEAD
   "id": "b4616679",
||||||| 11b9cb7
   "id": "36b4eaa8",
=======
   "id": "f703ab3e",
>>>>>>> documentation-devel
=======
   "id": "2d44750e",
>>>>>>> 552590ea8fad969b67afdba27558a1e6cb21016e
||||||| 452c944
   "id": "214cff26",
=======
   "id": "79e98cc9",
>>>>>>> documentation-devel
   "metadata": {
    "lines_to_next_cell": 0
   },
   "source": [
    "Here we read the Space Ranger output into R as an SFE object:"
   ]
  },
  {
   "cell_type": "code",
   "execution_count": null,
<<<<<<< HEAD
<<<<<<< HEAD
<<<<<<< HEAD
<<<<<<< HEAD
   "id": "26eabbb7",
||||||| 11b9cb7
   "id": "12f3f827",
=======
   "id": "79bdc59b",
>>>>>>> documentation-devel
||||||| 614e9b1
   "id": "79bdc59b",
=======
   "id": "35428d12",
>>>>>>> documentation-devel
||||||| 856b4c0
<<<<<<< HEAD
   "id": "26eabbb7",
||||||| 11b9cb7
   "id": "12f3f827",
=======
   "id": "79bdc59b",
>>>>>>> documentation-devel
=======
   "id": "a07379c5",
>>>>>>> 552590ea8fad969b67afdba27558a1e6cb21016e
||||||| 452c944
   "id": "35428d12",
=======
   "id": "51b2f3fb",
>>>>>>> documentation-devel
   "metadata": {},
   "outputs": [],
   "source": [
    "(sfe <- read10xVisiumSFE(samples = \".\", type = \"sparse\", data = \"raw\"))"
   ]
  },
  {
   "cell_type": "markdown",
<<<<<<< HEAD
<<<<<<< HEAD
<<<<<<< HEAD
<<<<<<< HEAD
   "id": "4f4e6838",
||||||| 11b9cb7
   "id": "337433f7",
=======
   "id": "77e263b2",
>>>>>>> documentation-devel
||||||| 614e9b1
   "id": "77e263b2",
=======
   "id": "829dff01",
>>>>>>> documentation-devel
||||||| 856b4c0
<<<<<<< HEAD
   "id": "4f4e6838",
||||||| 11b9cb7
   "id": "337433f7",
=======
   "id": "77e263b2",
>>>>>>> documentation-devel
=======
   "id": "9c459ff8",
>>>>>>> 552590ea8fad969b67afdba27558a1e6cb21016e
||||||| 452c944
   "id": "829dff01",
=======
   "id": "b48d480e",
>>>>>>> documentation-devel
   "metadata": {
    "lines_to_next_cell": 0
   },
   "source": [
    "# Quality control (QC)"
   ]
  },
  {
   "cell_type": "code",
   "execution_count": null,
<<<<<<< HEAD
<<<<<<< HEAD
<<<<<<< HEAD
<<<<<<< HEAD
   "id": "2c5b2570",
||||||| 11b9cb7
   "id": "cf19fea2",
=======
   "id": "306702fb",
>>>>>>> documentation-devel
||||||| 614e9b1
   "id": "306702fb",
=======
   "id": "3ae618e7",
>>>>>>> documentation-devel
||||||| 856b4c0
<<<<<<< HEAD
   "id": "2c5b2570",
||||||| 11b9cb7
   "id": "cf19fea2",
=======
   "id": "306702fb",
>>>>>>> documentation-devel
=======
   "id": "80f7fffd",
>>>>>>> 552590ea8fad969b67afdba27558a1e6cb21016e
||||||| 452c944
   "id": "3ae618e7",
=======
   "id": "77eca0de",
>>>>>>> documentation-devel
   "metadata": {},
   "outputs": [],
   "source": [
    "is_mt <- str_detect(rowData(sfe)$symbol, \"^mt-\")"
   ]
  },
  {
   "cell_type": "code",
   "execution_count": null,
<<<<<<< HEAD
<<<<<<< HEAD
<<<<<<< HEAD
<<<<<<< HEAD
   "id": "3f04f75e",
||||||| 11b9cb7
   "id": "9b7133bc",
=======
   "id": "e786351b",
>>>>>>> documentation-devel
||||||| 614e9b1
   "id": "e786351b",
=======
   "id": "242be06b",
>>>>>>> documentation-devel
||||||| 856b4c0
<<<<<<< HEAD
   "id": "3f04f75e",
||||||| 11b9cb7
   "id": "9b7133bc",
=======
   "id": "e786351b",
>>>>>>> documentation-devel
=======
   "id": "dc8b2e01",
>>>>>>> 552590ea8fad969b67afdba27558a1e6cb21016e
||||||| 452c944
   "id": "242be06b",
=======
   "id": "5ffe6541",
>>>>>>> documentation-devel
   "metadata": {},
   "outputs": [],
   "source": [
    "sfe <- addPerCellQCMetrics(sfe, subsets = list(mito = is_mt))"
   ]
  },
  {
   "cell_type": "code",
   "execution_count": null,
<<<<<<< HEAD
<<<<<<< HEAD
<<<<<<< HEAD
<<<<<<< HEAD
   "id": "72cc3669",
||||||| 11b9cb7
   "id": "9f9342d6",
=======
   "id": "1108b5b6",
>>>>>>> documentation-devel
||||||| 614e9b1
   "id": "1108b5b6",
=======
   "id": "7b704486",
>>>>>>> documentation-devel
||||||| 856b4c0
<<<<<<< HEAD
   "id": "72cc3669",
||||||| 11b9cb7
   "id": "9f9342d6",
=======
   "id": "1108b5b6",
>>>>>>> documentation-devel
=======
   "id": "c5f50498",
>>>>>>> 552590ea8fad969b67afdba27558a1e6cb21016e
||||||| 452c944
   "id": "7b704486",
=======
   "id": "33cf4585",
>>>>>>> documentation-devel
   "metadata": {
    "lines_to_next_cell": 0
   },
   "outputs": [],
   "source": [
    "names(colData(sfe))"
   ]
  },
  {
   "cell_type": "markdown",
<<<<<<< HEAD
<<<<<<< HEAD
<<<<<<< HEAD
<<<<<<< HEAD
   "id": "879076ac",
||||||| 11b9cb7
   "id": "e7261846",
=======
   "id": "f1367834",
>>>>>>> documentation-devel
||||||| 614e9b1
   "id": "f1367834",
=======
   "id": "6bb30449",
>>>>>>> documentation-devel
||||||| 856b4c0
<<<<<<< HEAD
   "id": "879076ac",
||||||| 11b9cb7
   "id": "e7261846",
=======
   "id": "f1367834",
>>>>>>> documentation-devel
=======
   "id": "a77e47ce",
>>>>>>> 552590ea8fad969b67afdba27558a1e6cb21016e
||||||| 452c944
   "id": "6bb30449",
=======
   "id": "e36fb3f6",
>>>>>>> documentation-devel
   "metadata": {},
   "source": [
    "The mouse olfactory bulb is conventionally plotted horizontally. The entire SFE object can be transposed in histologial space to make the olfactory bulb horizontal."
   ]
  },
  {
   "cell_type": "code",
   "execution_count": null,
<<<<<<< HEAD
<<<<<<< HEAD
<<<<<<< HEAD
<<<<<<< HEAD
   "id": "9a246b70",
||||||| 11b9cb7
   "id": "55590e99",
=======
   "id": "7631bb16",
>>>>>>> documentation-devel
||||||| 614e9b1
   "id": "7631bb16",
=======
   "id": "6aada09d",
>>>>>>> documentation-devel
||||||| 856b4c0
<<<<<<< HEAD
   "id": "9a246b70",
||||||| 11b9cb7
   "id": "55590e99",
=======
   "id": "7631bb16",
>>>>>>> documentation-devel
=======
   "id": "8574b4c7",
>>>>>>> 552590ea8fad969b67afdba27558a1e6cb21016e
||||||| 452c944
   "id": "6aada09d",
=======
   "id": "cd5d85a7",
>>>>>>> documentation-devel
   "metadata": {},
   "outputs": [],
   "source": [
    "sfe <- SpatialFeatureExperiment::transpose(sfe)"
   ]
  },
  {
   "cell_type": "code",
   "execution_count": null,
<<<<<<< HEAD
<<<<<<< HEAD
<<<<<<< HEAD
<<<<<<< HEAD
   "id": "542249ba",
||||||| 11b9cb7
   "id": "d48b3e5e",
=======
   "id": "65f36c04",
>>>>>>> documentation-devel
||||||| 614e9b1
   "id": "65f36c04",
=======
   "id": "165589a0",
>>>>>>> documentation-devel
||||||| 856b4c0
<<<<<<< HEAD
   "id": "542249ba",
||||||| 11b9cb7
   "id": "d48b3e5e",
=======
   "id": "65f36c04",
>>>>>>> documentation-devel
=======
   "id": "96fa744f",
>>>>>>> 552590ea8fad969b67afdba27558a1e6cb21016e
||||||| 452c944
   "id": "165589a0",
=======
   "id": "e9973a6b",
>>>>>>> documentation-devel
   "metadata": {
    "fig.height": 6,
    "fig.width": 8
   },
   "outputs": [],
   "source": [
    "plotSpatialFeature(sfe, c(\"sum\", \"detected\", \"subsets_mito_percent\"), \n",
    "                   image_id = \"lowres\", maxcell = 5e4, ncol = 2)"
   ]
  },
  {
   "cell_type": "markdown",
<<<<<<< HEAD
<<<<<<< HEAD
<<<<<<< HEAD
<<<<<<< HEAD
   "id": "9c5f02a5",
||||||| 11b9cb7
   "id": "b687a47b",
=======
   "id": "70b61282",
>>>>>>> documentation-devel
||||||| 614e9b1
   "id": "70b61282",
=======
   "id": "e672ac52",
>>>>>>> documentation-devel
||||||| 856b4c0
<<<<<<< HEAD
   "id": "9c5f02a5",
||||||| 11b9cb7
   "id": "b687a47b",
=======
   "id": "70b61282",
>>>>>>> documentation-devel
=======
   "id": "f49d419c",
>>>>>>> 552590ea8fad969b67afdba27558a1e6cb21016e
||||||| 452c944
   "id": "e672ac52",
=======
   "id": "6f9a4cd7",
>>>>>>> documentation-devel
   "metadata": {
    "lines_to_next_cell": 0
   },
   "source": [
    "Percentage of mitochondrial counts in spots outside tissue is higher near the tissue, especially on the left."
   ]
  },
  {
   "cell_type": "code",
   "execution_count": null,
<<<<<<< HEAD
<<<<<<< HEAD
<<<<<<< HEAD
<<<<<<< HEAD
   "id": "fbf5ec60",
||||||| 11b9cb7
   "id": "aeba8907",
=======
   "id": "bfaa27f9",
>>>>>>> documentation-devel
||||||| 614e9b1
   "id": "bfaa27f9",
=======
   "id": "fe0fc286",
>>>>>>> documentation-devel
||||||| 856b4c0
<<<<<<< HEAD
   "id": "fbf5ec60",
||||||| 11b9cb7
   "id": "aeba8907",
=======
   "id": "bfaa27f9",
>>>>>>> documentation-devel
=======
   "id": "e98adf8b",
>>>>>>> 552590ea8fad969b67afdba27558a1e6cb21016e
||||||| 452c944
   "id": "fe0fc286",
=======
   "id": "e58efcba",
>>>>>>> documentation-devel
   "metadata": {},
   "outputs": [],
   "source": [
    "plotColData(sfe, \"sum\", x = \"in_tissue\", color_by = \"in_tissue\") +\n",
    "    plotColData(sfe, \"detected\", x = \"in_tissue\", color_by = \"in_tissue\") +\n",
    "    plotColData(sfe, \"subsets_mito_percent\", x = \"in_tissue\", color_by = \"in_tissue\") +\n",
    "    plot_layout(guides = \"collect\")"
   ]
  },
  {
   "cell_type": "markdown",
<<<<<<< HEAD
<<<<<<< HEAD
<<<<<<< HEAD
<<<<<<< HEAD
   "id": "7a5df70e",
||||||| 11b9cb7
   "id": "bf716189",
=======
   "id": "770f93cb",
>>>>>>> documentation-devel
||||||| 614e9b1
   "id": "770f93cb",
=======
   "id": "764dab7e",
>>>>>>> documentation-devel
||||||| 856b4c0
<<<<<<< HEAD
   "id": "7a5df70e",
||||||| 11b9cb7
   "id": "bf716189",
=======
   "id": "770f93cb",
>>>>>>> documentation-devel
=======
   "id": "3a0d94f2",
>>>>>>> 552590ea8fad969b67afdba27558a1e6cb21016e
||||||| 452c944
   "id": "764dab7e",
=======
   "id": "c979f90a",
>>>>>>> documentation-devel
   "metadata": {},
   "source": [
    "3 peaks, apparently histologically relevant. Also no obvious outliers."
   ]
  },
  {
   "cell_type": "code",
   "execution_count": null,
<<<<<<< HEAD
<<<<<<< HEAD
<<<<<<< HEAD
<<<<<<< HEAD
   "id": "aacb5719",
||||||| 11b9cb7
   "id": "009018e2",
=======
   "id": "a308e0b8",
>>>>>>> documentation-devel
||||||| 614e9b1
   "id": "a308e0b8",
=======
   "id": "a25f0b47",
>>>>>>> documentation-devel
||||||| 856b4c0
<<<<<<< HEAD
   "id": "aacb5719",
||||||| 11b9cb7
   "id": "009018e2",
=======
   "id": "a308e0b8",
>>>>>>> documentation-devel
=======
   "id": "cee4327d",
>>>>>>> 552590ea8fad969b67afdba27558a1e6cb21016e
||||||| 452c944
   "id": "a25f0b47",
=======
   "id": "75ae088f",
>>>>>>> documentation-devel
   "metadata": {},
   "outputs": [],
   "source": [
    "plotColData(sfe, x = \"sum\", y = \"subsets_mito_percent\", color_by = \"in_tissue\") +\n",
    "    geom_density_2d()"
   ]
  },
  {
   "cell_type": "markdown",
<<<<<<< HEAD
<<<<<<< HEAD
<<<<<<< HEAD
<<<<<<< HEAD
   "id": "ba7fee0e",
||||||| 11b9cb7
   "id": "00ea88fa",
=======
   "id": "cda28996",
>>>>>>> documentation-devel
||||||| 614e9b1
   "id": "cda28996",
=======
   "id": "8a2cc3d6",
>>>>>>> documentation-devel
||||||| 856b4c0
<<<<<<< HEAD
   "id": "ba7fee0e",
||||||| 11b9cb7
   "id": "00ea88fa",
=======
   "id": "cda28996",
>>>>>>> documentation-devel
=======
   "id": "d091e8dd",
>>>>>>> 552590ea8fad969b67afdba27558a1e6cb21016e
||||||| 452c944
   "id": "8a2cc3d6",
=======
   "id": "7c183fc5",
>>>>>>> documentation-devel
   "metadata": {},
   "source": [
    "This is unlike scRNA-seq data. Spots not in tissue have a wide range of mitocondrial percentage. Spots in tissue fall into 3 clusters in this plot, seemingly related to histological regions."
   ]
  },
  {
   "cell_type": "code",
   "execution_count": null,
<<<<<<< HEAD
<<<<<<< HEAD
<<<<<<< HEAD
<<<<<<< HEAD
   "id": "ed172a96",
||||||| 11b9cb7
   "id": "731edabd",
=======
   "id": "8d395ae4",
>>>>>>> documentation-devel
||||||| 614e9b1
   "id": "8d395ae4",
=======
   "id": "bce01980",
>>>>>>> documentation-devel
||||||| 856b4c0
<<<<<<< HEAD
   "id": "ed172a96",
||||||| 11b9cb7
   "id": "731edabd",
=======
   "id": "8d395ae4",
>>>>>>> documentation-devel
=======
   "id": "7bbed996",
>>>>>>> 552590ea8fad969b67afdba27558a1e6cb21016e
||||||| 452c944
   "id": "bce01980",
=======
   "id": "b0d83fa2",
>>>>>>> documentation-devel
   "metadata": {},
   "outputs": [],
   "source": [
    "sfe_tissue <- sfe[,sfe$in_tissue]"
   ]
  },
  {
   "cell_type": "code",
   "execution_count": null,
<<<<<<< HEAD
<<<<<<< HEAD
<<<<<<< HEAD
<<<<<<< HEAD
   "id": "b5c6528f",
||||||| 11b9cb7
   "id": "1ac923bc",
=======
   "id": "8b3eea43",
>>>>>>> documentation-devel
||||||| 614e9b1
   "id": "8b3eea43",
=======
   "id": "6368fa58",
>>>>>>> documentation-devel
||||||| 856b4c0
<<<<<<< HEAD
   "id": "b5c6528f",
||||||| 11b9cb7
   "id": "1ac923bc",
=======
   "id": "8b3eea43",
>>>>>>> documentation-devel
=======
   "id": "fda722cb",
>>>>>>> 552590ea8fad969b67afdba27558a1e6cb21016e
||||||| 452c944
   "id": "6368fa58",
=======
   "id": "c0f0fe99",
>>>>>>> documentation-devel
   "metadata": {},
   "outputs": [],
   "source": [
    "plotColDataBin2D(sfe_tissue, x = \"sum\", y = \"detected\", bins = 75)"
   ]
  },
  {
   "cell_type": "code",
   "execution_count": null,
<<<<<<< HEAD
<<<<<<< HEAD
<<<<<<< HEAD
<<<<<<< HEAD
   "id": "490c5d77",
||||||| 11b9cb7
   "id": "0e355cc5",
=======
   "id": "3da310b5",
>>>>>>> documentation-devel
||||||| 614e9b1
   "id": "3da310b5",
=======
   "id": "cecfb88f",
>>>>>>> documentation-devel
||||||| 856b4c0
<<<<<<< HEAD
   "id": "490c5d77",
||||||| 11b9cb7
   "id": "0e355cc5",
=======
   "id": "3da310b5",
>>>>>>> documentation-devel
=======
   "id": "4da534dd",
>>>>>>> 552590ea8fad969b67afdba27558a1e6cb21016e
||||||| 452c944
   "id": "cecfb88f",
=======
   "id": "48a228d0",
>>>>>>> documentation-devel
   "metadata": {},
   "outputs": [],
   "source": [
    "#clusters <- quickCluster(sfe_tissue)\n",
    "#sfe_tissue <- computeSumFactors(sfe_tissue, clusters=clusters)\n",
    "#sfe_tissue <- sfe_tissue[, sizeFactors(sfe_tissue) > 0]\n",
    "sfe_tissue <- logNormCounts(sfe_tissue)"
   ]
  },
  {
   "cell_type": "code",
   "execution_count": null,
<<<<<<< HEAD
<<<<<<< HEAD
<<<<<<< HEAD
<<<<<<< HEAD
   "id": "902003b0",
||||||| 11b9cb7
   "id": "f8c9568a",
=======
   "id": "e90a1762",
>>>>>>> documentation-devel
||||||| 614e9b1
   "id": "e90a1762",
=======
   "id": "0ee42f7b",
>>>>>>> documentation-devel
||||||| 856b4c0
<<<<<<< HEAD
   "id": "902003b0",
||||||| 11b9cb7
   "id": "f8c9568a",
=======
   "id": "e90a1762",
>>>>>>> documentation-devel
=======
   "id": "79538359",
>>>>>>> 552590ea8fad969b67afdba27558a1e6cb21016e
||||||| 452c944
   "id": "0ee42f7b",
=======
   "id": "bd8fbf96",
>>>>>>> documentation-devel
   "metadata": {},
   "outputs": [],
   "source": [
    "dec <- modelGeneVar(sfe_tissue, lowess = FALSE)\n",
    "hvgs <- getTopHVGs(dec, n = 2000)"
   ]
  },
  {
   "cell_type": "markdown",
<<<<<<< HEAD
<<<<<<< HEAD
<<<<<<< HEAD
<<<<<<< HEAD
   "id": "8f18e719",
||||||| 11b9cb7
   "id": "e01fafd6",
=======
   "id": "401dcd01",
>>>>>>> documentation-devel
||||||| 614e9b1
   "id": "401dcd01",
=======
   "id": "ec9e1830",
>>>>>>> documentation-devel
||||||| 856b4c0
<<<<<<< HEAD
   "id": "8f18e719",
||||||| 11b9cb7
   "id": "e01fafd6",
=======
   "id": "401dcd01",
>>>>>>> documentation-devel
=======
   "id": "c0ffbe86",
>>>>>>> 552590ea8fad969b67afdba27558a1e6cb21016e
||||||| 452c944
   "id": "ec9e1830",
=======
   "id": "b451b0c0",
>>>>>>> documentation-devel
   "metadata": {
    "lines_to_next_cell": 0
   },
   "source": [
    "# Dimension reduction and clustering"
   ]
  },
  {
   "cell_type": "code",
   "execution_count": null,
<<<<<<< HEAD
<<<<<<< HEAD
<<<<<<< HEAD
<<<<<<< HEAD
   "id": "3359b06c",
||||||| 11b9cb7
   "id": "7eef649c",
=======
   "id": "e2fab83a",
>>>>>>> documentation-devel
||||||| 614e9b1
   "id": "e2fab83a",
=======
   "id": "f786499d",
>>>>>>> documentation-devel
||||||| 856b4c0
<<<<<<< HEAD
   "id": "3359b06c",
||||||| 11b9cb7
   "id": "7eef649c",
=======
   "id": "e2fab83a",
>>>>>>> documentation-devel
=======
   "id": "5084501f",
>>>>>>> 552590ea8fad969b67afdba27558a1e6cb21016e
||||||| 452c944
   "id": "f786499d",
=======
   "id": "64967cb0",
>>>>>>> documentation-devel
   "metadata": {},
   "outputs": [],
   "source": [
    "sfe_tissue <- runPCA(sfe_tissue, ncomponents = 30, subset_row = hvgs,\n",
    "                     scale = TRUE) # scale as in Seurat"
   ]
  },
  {
   "cell_type": "code",
   "execution_count": null,
<<<<<<< HEAD
<<<<<<< HEAD
<<<<<<< HEAD
<<<<<<< HEAD
   "id": "c68f2990",
||||||| 11b9cb7
   "id": "428487c4",
=======
   "id": "995e743e",
>>>>>>> documentation-devel
||||||| 614e9b1
   "id": "995e743e",
=======
   "id": "7f42653f",
>>>>>>> documentation-devel
||||||| 856b4c0
<<<<<<< HEAD
   "id": "c68f2990",
||||||| 11b9cb7
   "id": "428487c4",
=======
   "id": "995e743e",
>>>>>>> documentation-devel
=======
   "id": "2a626a79",
>>>>>>> 552590ea8fad969b67afdba27558a1e6cb21016e
||||||| 452c944
   "id": "7f42653f",
=======
   "id": "042b08c3",
>>>>>>> documentation-devel
   "metadata": {},
   "outputs": [],
   "source": [
    "ElbowPlot(sfe_tissue, ndims = 30)"
   ]
  },
  {
   "cell_type": "code",
   "execution_count": null,
<<<<<<< HEAD
<<<<<<< HEAD
<<<<<<< HEAD
<<<<<<< HEAD
   "id": "789f119b",
||||||| 11b9cb7
   "id": "26afb760",
=======
   "id": "e0dc8f70",
>>>>>>> documentation-devel
||||||| 614e9b1
   "id": "e0dc8f70",
=======
   "id": "a46870e1",
>>>>>>> documentation-devel
||||||| 856b4c0
<<<<<<< HEAD
   "id": "789f119b",
||||||| 11b9cb7
   "id": "26afb760",
=======
   "id": "e0dc8f70",
>>>>>>> documentation-devel
=======
   "id": "937fce61",
>>>>>>> 552590ea8fad969b67afdba27558a1e6cb21016e
||||||| 452c944
   "id": "a46870e1",
=======
   "id": "777c94da",
>>>>>>> documentation-devel
   "metadata": {},
   "outputs": [],
   "source": [
    "names(rowData(sfe_tissue))"
   ]
  },
  {
   "cell_type": "code",
   "execution_count": null,
<<<<<<< HEAD
<<<<<<< HEAD
<<<<<<< HEAD
<<<<<<< HEAD
   "id": "ceef38c4",
||||||| 11b9cb7
   "id": "5e6c73ec",
=======
   "id": "58b27839",
>>>>>>> documentation-devel
||||||| 614e9b1
   "id": "58b27839",
=======
   "id": "c91a38b4",
>>>>>>> documentation-devel
||||||| 856b4c0
<<<<<<< HEAD
   "id": "ceef38c4",
||||||| 11b9cb7
   "id": "5e6c73ec",
=======
   "id": "58b27839",
>>>>>>> documentation-devel
=======
   "id": "bdad1a3b",
>>>>>>> 552590ea8fad969b67afdba27558a1e6cb21016e
||||||| 452c944
   "id": "c91a38b4",
=======
   "id": "aff05989",
>>>>>>> documentation-devel
   "metadata": {},
   "outputs": [],
   "source": [
    "plotDimLoadings(sfe_tissue, dims = 1:5, swap_rownames = \"symbol\", ncol = 3)"
   ]
  },
  {
   "cell_type": "markdown",
<<<<<<< HEAD
<<<<<<< HEAD
<<<<<<< HEAD
<<<<<<< HEAD
   "id": "63905353",
||||||| 11b9cb7
   "id": "d7657bc5",
=======
   "id": "9b5d227a",
>>>>>>> documentation-devel
||||||| 614e9b1
   "id": "9b5d227a",
=======
   "id": "53cffa8a",
>>>>>>> documentation-devel
||||||| 856b4c0
<<<<<<< HEAD
   "id": "63905353",
||||||| 11b9cb7
   "id": "d7657bc5",
=======
   "id": "9b5d227a",
>>>>>>> documentation-devel
=======
   "id": "e0fd21f6",
>>>>>>> 552590ea8fad969b67afdba27558a1e6cb21016e
||||||| 452c944
   "id": "53cffa8a",
=======
   "id": "d0ac6eae",
>>>>>>> documentation-devel
   "metadata": {
    "lines_to_next_cell": 0
   },
   "source": [
    "Do the clustering to show on the dimension reduction plots"
   ]
  },
  {
   "cell_type": "code",
   "execution_count": null,
<<<<<<< HEAD
<<<<<<< HEAD
<<<<<<< HEAD
<<<<<<< HEAD
   "id": "d57d2fdf",
||||||| 11b9cb7
   "id": "a2c7321d",
=======
   "id": "7871913c",
>>>>>>> documentation-devel
||||||| 614e9b1
   "id": "7871913c",
=======
   "id": "271b8741",
>>>>>>> documentation-devel
||||||| 856b4c0
<<<<<<< HEAD
   "id": "d57d2fdf",
||||||| 11b9cb7
   "id": "a2c7321d",
=======
   "id": "7871913c",
>>>>>>> documentation-devel
=======
   "id": "64ca91dd",
>>>>>>> 552590ea8fad969b67afdba27558a1e6cb21016e
||||||| 452c944
   "id": "271b8741",
=======
   "id": "72263db2",
>>>>>>> documentation-devel
   "metadata": {},
   "outputs": [],
   "source": [
    "set.seed(29)\n",
    "colData(sfe_tissue)$cluster <- clusterRows(reducedDim(sfe_tissue, \"PCA\")[,1:3],\n",
    "                                           BLUSPARAM = SNNGraphParam(\n",
    "                                               cluster.fun = \"leiden\",\n",
    "                                               cluster.args = list(\n",
    "                                                   resolution_parameter = 0.5,\n",
    "                                                   objective_function = \"modularity\")))"
   ]
  },
  {
   "cell_type": "code",
   "execution_count": null,
<<<<<<< HEAD
<<<<<<< HEAD
<<<<<<< HEAD
<<<<<<< HEAD
   "id": "17157fb9",
||||||| 11b9cb7
   "id": "c9c42e0a",
=======
   "id": "8c4f8b3e",
>>>>>>> documentation-devel
||||||| 614e9b1
   "id": "8c4f8b3e",
=======
   "id": "d474bd0f",
>>>>>>> documentation-devel
||||||| 856b4c0
<<<<<<< HEAD
   "id": "17157fb9",
||||||| 11b9cb7
   "id": "c9c42e0a",
=======
   "id": "8c4f8b3e",
>>>>>>> documentation-devel
=======
   "id": "01c31f20",
>>>>>>> 552590ea8fad969b67afdba27558a1e6cb21016e
||||||| 452c944
   "id": "d474bd0f",
=======
   "id": "88854aba",
>>>>>>> documentation-devel
   "metadata": {
    "fig.height": 9,
    "fig.width": 9
   },
   "outputs": [],
   "source": [
    "plotPCA(sfe_tissue, ncomponents = 5, colour_by = \"cluster\")"
   ]
  },
  {
   "cell_type": "code",
   "execution_count": null,
<<<<<<< HEAD
<<<<<<< HEAD
<<<<<<< HEAD
<<<<<<< HEAD
   "id": "1e8d4cb6",
||||||| 11b9cb7
   "id": "5d4e593b",
=======
   "id": "2ceb2641",
>>>>>>> documentation-devel
||||||| 614e9b1
   "id": "2ceb2641",
=======
   "id": "f71f05ad",
>>>>>>> documentation-devel
||||||| 856b4c0
<<<<<<< HEAD
   "id": "1e8d4cb6",
||||||| 11b9cb7
   "id": "5d4e593b",
=======
   "id": "2ceb2641",
>>>>>>> documentation-devel
=======
   "id": "d4289cff",
>>>>>>> 552590ea8fad969b67afdba27558a1e6cb21016e
||||||| 452c944
   "id": "f71f05ad",
=======
   "id": "2deba5e1",
>>>>>>> documentation-devel
   "metadata": {},
   "outputs": [],
   "source": [
    "plotSpatialFeature(sfe_tissue, features = \"cluster\", \n",
    "                   colGeometryName = \"spotPoly\", image_id = \"lowres\")"
   ]
  },
  {
   "cell_type": "code",
   "execution_count": null,
<<<<<<< HEAD
<<<<<<< HEAD
<<<<<<< HEAD
<<<<<<< HEAD
   "id": "aba6758d",
||||||| 11b9cb7
   "id": "48589d9d",
=======
   "id": "e28e5fb9",
>>>>>>> documentation-devel
||||||| 614e9b1
   "id": "e28e5fb9",
=======
   "id": "ae2e949f",
>>>>>>> documentation-devel
||||||| 856b4c0
<<<<<<< HEAD
   "id": "aba6758d",
||||||| 11b9cb7
   "id": "48589d9d",
=======
   "id": "e28e5fb9",
>>>>>>> documentation-devel
=======
   "id": "07d112f5",
>>>>>>> 552590ea8fad969b67afdba27558a1e6cb21016e
||||||| 452c944
   "id": "ae2e949f",
=======
   "id": "91815a7f",
>>>>>>> documentation-devel
   "metadata": {
    "fig.height": 8,
    "fig.width": 8
   },
   "outputs": [],
   "source": [
    "spatialReducedDim(sfe_tissue, \"PCA\", ncomponents = 5, \n",
    "                  colGeometryName = \"spotPoly\", divergent = TRUE, \n",
    "                  diverge_center = 0, ncol = 2, \n",
    "                  image_id = \"lowres\", maxcell = 5e4)"
   ]
  },
  {
   "cell_type": "code",
   "execution_count": null,
<<<<<<< HEAD
<<<<<<< HEAD
<<<<<<< HEAD
<<<<<<< HEAD
   "id": "91a57aa2",
||||||| 11b9cb7
   "id": "602cbc74",
=======
   "id": "e110fce0",
>>>>>>> documentation-devel
||||||| 614e9b1
   "id": "e110fce0",
=======
   "id": "c70b3436",
>>>>>>> documentation-devel
||||||| 856b4c0
<<<<<<< HEAD
   "id": "91a57aa2",
||||||| 11b9cb7
   "id": "602cbc74",
=======
   "id": "e110fce0",
>>>>>>> documentation-devel
=======
   "id": "ef862e74",
>>>>>>> 552590ea8fad969b67afdba27558a1e6cb21016e
||||||| 452c944
   "id": "c70b3436",
=======
   "id": "89904176",
>>>>>>> documentation-devel
   "metadata": {},
   "outputs": [],
   "source": [
    "markers <- findMarkers(sfe_tissue, groups = colData(sfe_tissue)$cluster,\n",
    "                       test.type = \"wilcox\", pval.type = \"all\", direction = \"up\")"
   ]
  },
  {
   "cell_type": "markdown",
<<<<<<< HEAD
<<<<<<< HEAD
<<<<<<< HEAD
<<<<<<< HEAD
   "id": "d3b271e8",
||||||| 11b9cb7
   "id": "0aeeca01",
=======
   "id": "2d79a533",
>>>>>>> documentation-devel
||||||| 614e9b1
   "id": "2d79a533",
=======
   "id": "aa407043",
>>>>>>> documentation-devel
||||||| 856b4c0
<<<<<<< HEAD
   "id": "d3b271e8",
||||||| 11b9cb7
   "id": "0aeeca01",
=======
   "id": "2d79a533",
>>>>>>> documentation-devel
=======
   "id": "beb1844b",
>>>>>>> 552590ea8fad969b67afdba27558a1e6cb21016e
||||||| 452c944
   "id": "aa407043",
=======
   "id": "6ec52b9e",
>>>>>>> documentation-devel
   "metadata": {
    "lines_to_next_cell": 0
   },
   "source": [
    "Significant markers for each cluster can be obtained as follows:"
   ]
  },
  {
   "cell_type": "code",
   "execution_count": null,
<<<<<<< HEAD
<<<<<<< HEAD
<<<<<<< HEAD
<<<<<<< HEAD
   "id": "604d2a98",
||||||| 11b9cb7
   "id": "72a55997",
=======
   "id": "3d82ec75",
>>>>>>> documentation-devel
||||||| 614e9b1
   "id": "3d82ec75",
=======
   "id": "a453fbde",
>>>>>>> documentation-devel
||||||| 856b4c0
<<<<<<< HEAD
   "id": "604d2a98",
||||||| 11b9cb7
   "id": "72a55997",
=======
   "id": "3d82ec75",
>>>>>>> documentation-devel
=======
   "id": "a60ffdca",
>>>>>>> 552590ea8fad969b67afdba27558a1e6cb21016e
||||||| 452c944
   "id": "a453fbde",
=======
   "id": "4fd16f4e",
>>>>>>> documentation-devel
   "metadata": {},
   "outputs": [],
   "source": [
    "genes_use <- vapply(markers, function(x) rownames(x)[1], FUN.VALUE = character(1))\n",
    "plotExpression(sfe_tissue, rowData(sfe_tissue)[genes_use, \"symbol\"], x = \"cluster\",\n",
    "               colour_by = \"cluster\", swap_rownames = \"symbol\")"
   ]
  },
  {
   "cell_type": "markdown",
<<<<<<< HEAD
<<<<<<< HEAD
<<<<<<< HEAD
<<<<<<< HEAD
   "id": "482789c3",
||||||| 11b9cb7
   "id": "dbd5ad98",
=======
   "id": "c65d908b",
>>>>>>> documentation-devel
||||||| 614e9b1
   "id": "c65d908b",
=======
   "id": "da7e5107",
>>>>>>> documentation-devel
||||||| 856b4c0
<<<<<<< HEAD
   "id": "482789c3",
||||||| 11b9cb7
   "id": "dbd5ad98",
=======
   "id": "c65d908b",
>>>>>>> documentation-devel
=======
   "id": "baea5189",
>>>>>>> 552590ea8fad969b67afdba27558a1e6cb21016e
||||||| 452c944
   "id": "da7e5107",
=======
   "id": "61638560",
>>>>>>> documentation-devel
   "metadata": {
    "lines_to_next_cell": 0
   },
   "source": [
    "These genes are interesting to view in spatial context:"
   ]
  },
  {
   "cell_type": "code",
   "execution_count": null,
<<<<<<< HEAD
<<<<<<< HEAD
<<<<<<< HEAD
<<<<<<< HEAD
   "id": "8a055f73",
||||||| 11b9cb7
   "id": "9599c723",
=======
   "id": "15970759",
>>>>>>> documentation-devel
||||||| 614e9b1
   "id": "15970759",
=======
   "id": "e7bdd215",
>>>>>>> documentation-devel
||||||| 856b4c0
<<<<<<< HEAD
   "id": "8a055f73",
||||||| 11b9cb7
   "id": "9599c723",
=======
   "id": "15970759",
>>>>>>> documentation-devel
=======
   "id": "25432137",
>>>>>>> 552590ea8fad969b67afdba27558a1e6cb21016e
||||||| 452c944
   "id": "e7bdd215",
=======
   "id": "8cfdb7c8",
>>>>>>> documentation-devel
   "metadata": {
    "fig.height": 8,
    "fig.width": 8
   },
   "outputs": [],
   "source": [
    "plotSpatialFeature(sfe_tissue, genes_use, colGeometryName = \"spotPoly\", ncol = 2,\n",
    "                   swap_rownames = \"symbol\", image_id = \"lowres\", maxcell = 5e4)"
   ]
  },
  {
   "cell_type": "markdown",
<<<<<<< HEAD
<<<<<<< HEAD
<<<<<<< HEAD
<<<<<<< HEAD
   "id": "67bb6407",
||||||| 11b9cb7
   "id": "23d00766",
=======
   "id": "10a4c61f",
>>>>>>> documentation-devel
||||||| 614e9b1
   "id": "10a4c61f",
=======
   "id": "77bb81c5",
>>>>>>> documentation-devel
||||||| 856b4c0
<<<<<<< HEAD
   "id": "67bb6407",
||||||| 11b9cb7
   "id": "23d00766",
=======
   "id": "10a4c61f",
>>>>>>> documentation-devel
=======
   "id": "368e28c6",
>>>>>>> 552590ea8fad969b67afdba27558a1e6cb21016e
||||||| 452c944
   "id": "77bb81c5",
=======
   "id": "1c9c4e53",
>>>>>>> documentation-devel
   "metadata": {
    "lines_to_next_cell": 0
   },
   "source": [
    "More spatial analyses on this dataset is performed in [an \"advanced\" version of this vignette](https://pachterlab.github.io/voyager/articles/visium_10x_spatial.html).\n",
    "\n",
    "# Session info"
   ]
  },
  {
   "cell_type": "code",
   "execution_count": null,
<<<<<<< HEAD
<<<<<<< HEAD
<<<<<<< HEAD
<<<<<<< HEAD
   "id": "733404bb",
||||||| 11b9cb7
   "id": "07c3cb7d",
=======
   "id": "f11e8821",
>>>>>>> documentation-devel
||||||| 614e9b1
   "id": "f11e8821",
=======
   "id": "df04e314",
>>>>>>> documentation-devel
||||||| 856b4c0
<<<<<<< HEAD
   "id": "733404bb",
||||||| 11b9cb7
   "id": "07c3cb7d",
=======
   "id": "f11e8821",
>>>>>>> documentation-devel
=======
   "id": "055b275e",
>>>>>>> 552590ea8fad969b67afdba27558a1e6cb21016e
||||||| 452c944
   "id": "df04e314",
=======
   "id": "0fb64329",
>>>>>>> documentation-devel
   "metadata": {},
   "outputs": [],
   "source": [
    "sessionInfo()"
   ]
  }
 ],
 "metadata": {
  "kernelspec": {
   "display_name": "R",
   "language": "R",
   "name": "ir"
  }
 },
 "nbformat": 4,
 "nbformat_minor": 5
}
