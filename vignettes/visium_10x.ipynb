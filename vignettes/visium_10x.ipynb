{
 "cells": [
  {
   "cell_type": "raw",
<<<<<<< HEAD
<<<<<<< HEAD
<<<<<<< HEAD
<<<<<<< HEAD
<<<<<<< HEAD
<<<<<<< HEAD
<<<<<<< HEAD
   "id": "6ada0210",
||||||| 6a30bf1
   "id": "0b59a874",
=======
   "id": "0a8ca40d",
>>>>>>> documentation-devel
||||||| d28b18c
   "id": "0a8ca40d",
=======
   "id": "9de636de",
>>>>>>> documentation-devel
||||||| 6893f63
<<<<<<< HEAD
   "id": "6ada0210",
||||||| 6a30bf1
   "id": "0b59a874",
=======
   "id": "0a8ca40d",
>>>>>>> documentation-devel
=======
   "id": "1b8f9294",
>>>>>>> c74c98c2450c2a1ba922ed9442f136238d6bc88b
||||||| 6d93b645
   "id": "9de636de",
=======
   "id": "a1045594",
>>>>>>> documentation-devel
||||||| 804edffb
<<<<<<< HEAD
<<<<<<< HEAD
<<<<<<< HEAD
   "id": "6ada0210",
||||||| 6a30bf1
   "id": "0b59a874",
=======
   "id": "0a8ca40d",
>>>>>>> documentation-devel
||||||| d28b18c
   "id": "0a8ca40d",
=======
   "id": "9de636de",
>>>>>>> documentation-devel
||||||| 6893f63
<<<<<<< HEAD
   "id": "6ada0210",
||||||| 6a30bf1
   "id": "0b59a874",
=======
   "id": "0a8ca40d",
>>>>>>> documentation-devel
=======
   "id": "1b8f9294",
>>>>>>> c74c98c2450c2a1ba922ed9442f136238d6bc88b
=======
   "id": "861cf104",
>>>>>>> 035bb2637984ead2784fecff78c0c60cc4181202
||||||| 3effdfa5
   "id": "a1045594",
=======
   "id": "b638874a",
>>>>>>> documentation-devel
||||||| 96c826da
<<<<<<< HEAD
<<<<<<< HEAD
<<<<<<< HEAD
<<<<<<< HEAD
<<<<<<< HEAD
   "id": "6ada0210",
||||||| 6a30bf1
   "id": "0b59a874",
=======
   "id": "0a8ca40d",
>>>>>>> documentation-devel
||||||| d28b18c
   "id": "0a8ca40d",
=======
   "id": "9de636de",
>>>>>>> documentation-devel
||||||| 6893f63
<<<<<<< HEAD
   "id": "6ada0210",
||||||| 6a30bf1
   "id": "0b59a874",
=======
   "id": "0a8ca40d",
>>>>>>> documentation-devel
=======
   "id": "1b8f9294",
>>>>>>> c74c98c2450c2a1ba922ed9442f136238d6bc88b
||||||| 6d93b645
   "id": "9de636de",
=======
   "id": "a1045594",
>>>>>>> documentation-devel
||||||| 804edffb
<<<<<<< HEAD
<<<<<<< HEAD
<<<<<<< HEAD
   "id": "6ada0210",
||||||| 6a30bf1
   "id": "0b59a874",
=======
   "id": "0a8ca40d",
>>>>>>> documentation-devel
||||||| d28b18c
   "id": "0a8ca40d",
=======
   "id": "9de636de",
>>>>>>> documentation-devel
||||||| 6893f63
<<<<<<< HEAD
   "id": "6ada0210",
||||||| 6a30bf1
   "id": "0b59a874",
=======
   "id": "0a8ca40d",
>>>>>>> documentation-devel
=======
   "id": "1b8f9294",
>>>>>>> c74c98c2450c2a1ba922ed9442f136238d6bc88b
=======
   "id": "861cf104",
>>>>>>> 035bb2637984ead2784fecff78c0c60cc4181202
=======
   "id": "96684ac7",
>>>>>>> 619c01f26351d57ac14d974b7af136ac5756103f
   "metadata": {},
   "source": [
    "---\n",
    "title: \"Basic analysis of 10X example Visium dataset\"\n",
    "author: \"Lambda Moses\"\n",
    "date: \"`r Sys.Date()`\"\n",
    "output: \n",
    "  html_document:\n",
    "  toc: true\n",
    "  toc_float:\n",
    "    collapsed: false\n",
    "  toc_depth: 3\n",
    "bibliography: ref.bib\n",
    "vignette: >\n",
    "  %\\VignetteIndexEntry{visium_10x}\n",
    "  %\\VignetteEngine{knitr::rmarkdown}\n",
    "  %\\VignetteEncoding{UTF-8}\n",
    "---"
   ]
  },
  {
   "cell_type": "code",
   "execution_count": null,
<<<<<<< HEAD
<<<<<<< HEAD
<<<<<<< HEAD
<<<<<<< HEAD
<<<<<<< HEAD
<<<<<<< HEAD
<<<<<<< HEAD
   "id": "c33e6903",
||||||| 6a30bf1
   "id": "e55ae8c0",
=======
   "id": "222c29e1",
>>>>>>> documentation-devel
||||||| d28b18c
   "id": "222c29e1",
=======
   "id": "e7c30ba4",
>>>>>>> documentation-devel
||||||| 6893f63
<<<<<<< HEAD
   "id": "c33e6903",
||||||| 6a30bf1
   "id": "e55ae8c0",
=======
   "id": "222c29e1",
>>>>>>> documentation-devel
=======
   "id": "d3a9ba91",
>>>>>>> c74c98c2450c2a1ba922ed9442f136238d6bc88b
||||||| 6d93b645
   "id": "e7c30ba4",
=======
   "id": "aa4ba769",
>>>>>>> documentation-devel
||||||| 804edffb
<<<<<<< HEAD
<<<<<<< HEAD
<<<<<<< HEAD
   "id": "c33e6903",
||||||| 6a30bf1
   "id": "e55ae8c0",
=======
   "id": "222c29e1",
>>>>>>> documentation-devel
||||||| d28b18c
   "id": "222c29e1",
=======
   "id": "e7c30ba4",
>>>>>>> documentation-devel
||||||| 6893f63
<<<<<<< HEAD
   "id": "c33e6903",
||||||| 6a30bf1
   "id": "e55ae8c0",
=======
   "id": "222c29e1",
>>>>>>> documentation-devel
=======
   "id": "d3a9ba91",
>>>>>>> c74c98c2450c2a1ba922ed9442f136238d6bc88b
=======
   "id": "273316e4",
>>>>>>> 035bb2637984ead2784fecff78c0c60cc4181202
||||||| 3effdfa5
   "id": "aa4ba769",
=======
   "id": "37d602f4",
>>>>>>> documentation-devel
||||||| 96c826da
<<<<<<< HEAD
<<<<<<< HEAD
<<<<<<< HEAD
<<<<<<< HEAD
<<<<<<< HEAD
   "id": "c33e6903",
||||||| 6a30bf1
   "id": "e55ae8c0",
=======
   "id": "222c29e1",
>>>>>>> documentation-devel
||||||| d28b18c
   "id": "222c29e1",
=======
   "id": "e7c30ba4",
>>>>>>> documentation-devel
||||||| 6893f63
<<<<<<< HEAD
   "id": "c33e6903",
||||||| 6a30bf1
   "id": "e55ae8c0",
=======
   "id": "222c29e1",
>>>>>>> documentation-devel
=======
   "id": "d3a9ba91",
>>>>>>> c74c98c2450c2a1ba922ed9442f136238d6bc88b
||||||| 6d93b645
   "id": "e7c30ba4",
=======
   "id": "aa4ba769",
>>>>>>> documentation-devel
||||||| 804edffb
<<<<<<< HEAD
<<<<<<< HEAD
<<<<<<< HEAD
   "id": "c33e6903",
||||||| 6a30bf1
   "id": "e55ae8c0",
=======
   "id": "222c29e1",
>>>>>>> documentation-devel
||||||| d28b18c
   "id": "222c29e1",
=======
   "id": "e7c30ba4",
>>>>>>> documentation-devel
||||||| 6893f63
<<<<<<< HEAD
   "id": "c33e6903",
||||||| 6a30bf1
   "id": "e55ae8c0",
=======
   "id": "222c29e1",
>>>>>>> documentation-devel
=======
   "id": "d3a9ba91",
>>>>>>> c74c98c2450c2a1ba922ed9442f136238d6bc88b
=======
   "id": "273316e4",
>>>>>>> 035bb2637984ead2784fecff78c0c60cc4181202
=======
   "id": "a2e821d7",
>>>>>>> 619c01f26351d57ac14d974b7af136ac5756103f
   "metadata": {
    "tags": [
     "remove_cell"
    ]
   },
   "outputs": [],
   "source": [
    "knitr::opts_chunk$set(\n",
    "  collapse = TRUE,\n",
    "  comment = \"#>\"\n",
    ")"
   ]
  },
  {
   "cell_type": "code",
   "execution_count": null,
<<<<<<< HEAD
<<<<<<< HEAD
<<<<<<< HEAD
<<<<<<< HEAD
<<<<<<< HEAD
<<<<<<< HEAD
<<<<<<< HEAD
   "id": "f488522d",
||||||| 6a30bf1
   "id": "c0336d69",
=======
   "id": "859d4292",
>>>>>>> documentation-devel
||||||| d28b18c
   "id": "859d4292",
=======
   "id": "07506e28",
>>>>>>> documentation-devel
||||||| 6893f63
<<<<<<< HEAD
   "id": "f488522d",
||||||| 6a30bf1
   "id": "c0336d69",
=======
   "id": "859d4292",
>>>>>>> documentation-devel
=======
   "id": "ae6bbc37",
>>>>>>> c74c98c2450c2a1ba922ed9442f136238d6bc88b
||||||| 6d93b645
   "id": "07506e28",
=======
   "id": "4a4fada2",
>>>>>>> documentation-devel
||||||| 804edffb
<<<<<<< HEAD
<<<<<<< HEAD
<<<<<<< HEAD
   "id": "f488522d",
||||||| 6a30bf1
   "id": "c0336d69",
=======
   "id": "859d4292",
>>>>>>> documentation-devel
||||||| d28b18c
   "id": "859d4292",
=======
   "id": "07506e28",
>>>>>>> documentation-devel
||||||| 6893f63
<<<<<<< HEAD
   "id": "f488522d",
||||||| 6a30bf1
   "id": "c0336d69",
=======
   "id": "859d4292",
>>>>>>> documentation-devel
=======
   "id": "ae6bbc37",
>>>>>>> c74c98c2450c2a1ba922ed9442f136238d6bc88b
=======
   "id": "875689d9",
>>>>>>> 035bb2637984ead2784fecff78c0c60cc4181202
||||||| 3effdfa5
   "id": "4a4fada2",
=======
   "id": "a40cf9b9",
>>>>>>> documentation-devel
||||||| 96c826da
<<<<<<< HEAD
<<<<<<< HEAD
<<<<<<< HEAD
<<<<<<< HEAD
<<<<<<< HEAD
   "id": "f488522d",
||||||| 6a30bf1
   "id": "c0336d69",
=======
   "id": "859d4292",
>>>>>>> documentation-devel
||||||| d28b18c
   "id": "859d4292",
=======
   "id": "07506e28",
>>>>>>> documentation-devel
||||||| 6893f63
<<<<<<< HEAD
   "id": "f488522d",
||||||| 6a30bf1
   "id": "c0336d69",
=======
   "id": "859d4292",
>>>>>>> documentation-devel
=======
   "id": "ae6bbc37",
>>>>>>> c74c98c2450c2a1ba922ed9442f136238d6bc88b
||||||| 6d93b645
   "id": "07506e28",
=======
   "id": "4a4fada2",
>>>>>>> documentation-devel
||||||| 804edffb
<<<<<<< HEAD
<<<<<<< HEAD
<<<<<<< HEAD
   "id": "f488522d",
||||||| 6a30bf1
   "id": "c0336d69",
=======
   "id": "859d4292",
>>>>>>> documentation-devel
||||||| d28b18c
   "id": "859d4292",
=======
   "id": "07506e28",
>>>>>>> documentation-devel
||||||| 6893f63
<<<<<<< HEAD
   "id": "f488522d",
||||||| 6a30bf1
   "id": "c0336d69",
=======
   "id": "859d4292",
>>>>>>> documentation-devel
=======
   "id": "ae6bbc37",
>>>>>>> c74c98c2450c2a1ba922ed9442f136238d6bc88b
=======
   "id": "875689d9",
>>>>>>> 035bb2637984ead2784fecff78c0c60cc4181202
=======
   "id": "278bf064",
>>>>>>> 619c01f26351d57ac14d974b7af136ac5756103f
   "metadata": {
    "eval": false,
    "tags": [
     "remove_cell"
    ]
   },
   "outputs": [],
   "source": [
    "# Install Google Colab dependencies\n",
    "# Note: this can take 30+ minutes (many of the dependencies include C++ code, which needs to be compiled)\n",
    "\n",
    "# First install `sf`, `ragg` and `textshaping` and their system dependencies:\n",
    "system(\"apt-get -y update && apt-get install -y  libudunits2-dev libgdal-dev libgeos-dev libproj-dev libharfbuzz-dev libfribidi-dev\")\n",
    "install.packages(\"sf\")\n",
    "install.packages(\"textshaping\")\n",
    "install.packages(\"ragg\")\n",
    "\n",
    "# Install system dependencies of some other R packages that Voyager either imports or suggests:\n",
    "system(\"apt-get install -y libfribidi-dev libcairo2-dev libmagick++-dev\")\n",
    "\n",
    "# Install Voyager from Bioconductor:\n",
    "install.packages(\"BiocManager\")\n",
    "BiocManager::install(version = \"3.17\", ask = FALSE, update = FALSE, Ncpus = 2)\n",
    "BiocManager::install(\"scater\")\n",
    "system.time(\n",
    "  BiocManager::install(\"Voyager\", dependencies = TRUE, Ncpus = 2, update = FALSE)\n",
    ")\n",
    "\n",
    "packageVersion(\"Voyager\")"
   ]
  },
  {
   "cell_type": "markdown",
<<<<<<< HEAD
<<<<<<< HEAD
<<<<<<< HEAD
<<<<<<< HEAD
<<<<<<< HEAD
<<<<<<< HEAD
<<<<<<< HEAD
   "id": "465a46c0",
||||||| 6a30bf1
   "id": "6b14037f",
=======
   "id": "3e36f9a9",
>>>>>>> documentation-devel
||||||| d28b18c
   "id": "3e36f9a9",
=======
   "id": "bc2c315f",
>>>>>>> documentation-devel
||||||| 6893f63
<<<<<<< HEAD
   "id": "465a46c0",
||||||| 6a30bf1
   "id": "6b14037f",
=======
   "id": "3e36f9a9",
>>>>>>> documentation-devel
=======
   "id": "7fbea665",
>>>>>>> c74c98c2450c2a1ba922ed9442f136238d6bc88b
||||||| 6d93b645
   "id": "bc2c315f",
=======
   "id": "bb95d7d9",
>>>>>>> documentation-devel
||||||| 804edffb
<<<<<<< HEAD
<<<<<<< HEAD
<<<<<<< HEAD
   "id": "465a46c0",
||||||| 6a30bf1
   "id": "6b14037f",
=======
   "id": "3e36f9a9",
>>>>>>> documentation-devel
||||||| d28b18c
   "id": "3e36f9a9",
=======
   "id": "bc2c315f",
>>>>>>> documentation-devel
||||||| 6893f63
<<<<<<< HEAD
   "id": "465a46c0",
||||||| 6a30bf1
   "id": "6b14037f",
=======
   "id": "3e36f9a9",
>>>>>>> documentation-devel
=======
   "id": "7fbea665",
>>>>>>> c74c98c2450c2a1ba922ed9442f136238d6bc88b
=======
   "id": "459ffd08",
>>>>>>> 035bb2637984ead2784fecff78c0c60cc4181202
||||||| 3effdfa5
   "id": "bb95d7d9",
=======
   "id": "63f9c427",
>>>>>>> documentation-devel
||||||| 96c826da
<<<<<<< HEAD
<<<<<<< HEAD
<<<<<<< HEAD
<<<<<<< HEAD
<<<<<<< HEAD
   "id": "465a46c0",
||||||| 6a30bf1
   "id": "6b14037f",
=======
   "id": "3e36f9a9",
>>>>>>> documentation-devel
||||||| d28b18c
   "id": "3e36f9a9",
=======
   "id": "bc2c315f",
>>>>>>> documentation-devel
||||||| 6893f63
<<<<<<< HEAD
   "id": "465a46c0",
||||||| 6a30bf1
   "id": "6b14037f",
=======
   "id": "3e36f9a9",
>>>>>>> documentation-devel
=======
   "id": "7fbea665",
>>>>>>> c74c98c2450c2a1ba922ed9442f136238d6bc88b
||||||| 6d93b645
   "id": "bc2c315f",
=======
   "id": "bb95d7d9",
>>>>>>> documentation-devel
||||||| 804edffb
<<<<<<< HEAD
<<<<<<< HEAD
<<<<<<< HEAD
   "id": "465a46c0",
||||||| 6a30bf1
   "id": "6b14037f",
=======
   "id": "3e36f9a9",
>>>>>>> documentation-devel
||||||| d28b18c
   "id": "3e36f9a9",
=======
   "id": "bc2c315f",
>>>>>>> documentation-devel
||||||| 6893f63
<<<<<<< HEAD
   "id": "465a46c0",
||||||| 6a30bf1
   "id": "6b14037f",
=======
   "id": "3e36f9a9",
>>>>>>> documentation-devel
=======
   "id": "7fbea665",
>>>>>>> c74c98c2450c2a1ba922ed9442f136238d6bc88b
=======
   "id": "459ffd08",
>>>>>>> 035bb2637984ead2784fecff78c0c60cc4181202
=======
   "id": "28b66297",
>>>>>>> 619c01f26351d57ac14d974b7af136ac5756103f
   "metadata": {
    "lines_to_next_cell": 0
   },
   "source": [
    "# Introduction\n",
    "\n",
    "In this introductory vignette for [`SpatialFeatureExperiment`](https://bioconductor.org/packages/devel/bioc/html/SpatialFeatureExperiment.html) data representation and [`Voyager`](https://bioconductor.org/packages/devel/bioc/html/Voyager.html) anlaysis package, we demonstrate a basic exploratory data analysis (EDA) of spatial transcriptomics data. Basic knowledge of R and [`SingleCellExperiment`](https://bioconductor.org/packages/release/bioc/html/SingleCellExperiment.html) is assumed.\n",
    "\n",
    "This vignette showcases the packages with a Visium spatial gene expression system dataset, downloaded from the 10X website, in the Space Ranger output format. The technology was chosen due to its popularity, and therefore the availability of numerous publicly available datasets for analysis [@Moses2022-xz].\n",
    "\n",
    "While Voyager was developed with the goal of facilitating the use of geospatial methods in spatial genomics, this introductory vignette is restricted to non-spatial scRNA-seq EDA with the Visium dataset. There is [another Visium introductory vignette](https://pachterlab.github.io/voyager/articles/vig1_visium_basic.html) using a dataset in the [`SFEData`](https://bioconductor.org/packages/release/data/experiment/html/SFEData.html) package but not from the 10X website.\n",
    "\n",
    "Here we load the packages used in this vignette."
   ]
  },
  {
   "cell_type": "code",
   "execution_count": null,
<<<<<<< HEAD
<<<<<<< HEAD
<<<<<<< HEAD
<<<<<<< HEAD
<<<<<<< HEAD
<<<<<<< HEAD
<<<<<<< HEAD
   "id": "3846c570",
||||||| 6a30bf1
   "id": "bfd665fd",
=======
   "id": "d489802f",
>>>>>>> documentation-devel
||||||| d28b18c
   "id": "d489802f",
=======
   "id": "83d32b3c",
>>>>>>> documentation-devel
||||||| 6893f63
<<<<<<< HEAD
   "id": "3846c570",
||||||| 6a30bf1
   "id": "bfd665fd",
=======
   "id": "d489802f",
>>>>>>> documentation-devel
=======
   "id": "a5aca1d5",
>>>>>>> c74c98c2450c2a1ba922ed9442f136238d6bc88b
||||||| 6d93b645
   "id": "83d32b3c",
=======
   "id": "15950fa3",
>>>>>>> documentation-devel
||||||| 804edffb
<<<<<<< HEAD
<<<<<<< HEAD
<<<<<<< HEAD
   "id": "3846c570",
||||||| 6a30bf1
   "id": "bfd665fd",
=======
   "id": "d489802f",
>>>>>>> documentation-devel
||||||| d28b18c
   "id": "d489802f",
=======
   "id": "83d32b3c",
>>>>>>> documentation-devel
||||||| 6893f63
<<<<<<< HEAD
   "id": "3846c570",
||||||| 6a30bf1
   "id": "bfd665fd",
=======
   "id": "d489802f",
>>>>>>> documentation-devel
=======
   "id": "a5aca1d5",
>>>>>>> c74c98c2450c2a1ba922ed9442f136238d6bc88b
=======
   "id": "dd3ca50b",
>>>>>>> 035bb2637984ead2784fecff78c0c60cc4181202
||||||| 3effdfa5
   "id": "15950fa3",
=======
   "id": "65c85338",
>>>>>>> documentation-devel
||||||| 96c826da
<<<<<<< HEAD
<<<<<<< HEAD
<<<<<<< HEAD
<<<<<<< HEAD
<<<<<<< HEAD
   "id": "3846c570",
||||||| 6a30bf1
   "id": "bfd665fd",
=======
   "id": "d489802f",
>>>>>>> documentation-devel
||||||| d28b18c
   "id": "d489802f",
=======
   "id": "83d32b3c",
>>>>>>> documentation-devel
||||||| 6893f63
<<<<<<< HEAD
   "id": "3846c570",
||||||| 6a30bf1
   "id": "bfd665fd",
=======
   "id": "d489802f",
>>>>>>> documentation-devel
=======
   "id": "a5aca1d5",
>>>>>>> c74c98c2450c2a1ba922ed9442f136238d6bc88b
||||||| 6d93b645
   "id": "83d32b3c",
=======
   "id": "15950fa3",
>>>>>>> documentation-devel
||||||| 804edffb
<<<<<<< HEAD
<<<<<<< HEAD
<<<<<<< HEAD
   "id": "3846c570",
||||||| 6a30bf1
   "id": "bfd665fd",
=======
   "id": "d489802f",
>>>>>>> documentation-devel
||||||| d28b18c
   "id": "d489802f",
=======
   "id": "83d32b3c",
>>>>>>> documentation-devel
||||||| 6893f63
<<<<<<< HEAD
   "id": "3846c570",
||||||| 6a30bf1
   "id": "bfd665fd",
=======
   "id": "d489802f",
>>>>>>> documentation-devel
=======
   "id": "a5aca1d5",
>>>>>>> c74c98c2450c2a1ba922ed9442f136238d6bc88b
=======
   "id": "dd3ca50b",
>>>>>>> 035bb2637984ead2784fecff78c0c60cc4181202
=======
   "id": "78ae68a3",
>>>>>>> 619c01f26351d57ac14d974b7af136ac5756103f
   "metadata": {
    "name": "setup"
   },
   "outputs": [],
   "source": [
    "library(Voyager)\n",
    "library(SpatialExperiment)\n",
    "library(SpatialFeatureExperiment)\n",
    "library(SingleCellExperiment)\n",
    "library(ggplot2)\n",
    "library(scater)\n",
    "library(scuttle)\n",
    "library(scran)\n",
    "library(stringr)\n",
    "library(patchwork)\n",
    "library(bluster)\n",
    "library(rjson)\n",
    "theme_set(theme_bw())"
   ]
  },
  {
   "cell_type": "markdown",
<<<<<<< HEAD
<<<<<<< HEAD
<<<<<<< HEAD
<<<<<<< HEAD
<<<<<<< HEAD
<<<<<<< HEAD
<<<<<<< HEAD
   "id": "8232829e",
||||||| 6a30bf1
   "id": "beddd6ea",
=======
   "id": "2f822a23",
>>>>>>> documentation-devel
||||||| d28b18c
   "id": "2f822a23",
=======
   "id": "9a8a558f",
>>>>>>> documentation-devel
||||||| 6893f63
<<<<<<< HEAD
   "id": "8232829e",
||||||| 6a30bf1
   "id": "beddd6ea",
=======
   "id": "2f822a23",
>>>>>>> documentation-devel
=======
   "id": "cfda8759",
>>>>>>> c74c98c2450c2a1ba922ed9442f136238d6bc88b
||||||| 6d93b645
   "id": "9a8a558f",
=======
   "id": "0576d991",
>>>>>>> documentation-devel
||||||| 804edffb
<<<<<<< HEAD
<<<<<<< HEAD
<<<<<<< HEAD
   "id": "8232829e",
||||||| 6a30bf1
   "id": "beddd6ea",
=======
   "id": "2f822a23",
>>>>>>> documentation-devel
||||||| d28b18c
   "id": "2f822a23",
=======
   "id": "9a8a558f",
>>>>>>> documentation-devel
||||||| 6893f63
<<<<<<< HEAD
   "id": "8232829e",
||||||| 6a30bf1
   "id": "beddd6ea",
=======
   "id": "2f822a23",
>>>>>>> documentation-devel
=======
   "id": "cfda8759",
>>>>>>> c74c98c2450c2a1ba922ed9442f136238d6bc88b
=======
   "id": "29e5269a",
>>>>>>> 035bb2637984ead2784fecff78c0c60cc4181202
||||||| 3effdfa5
   "id": "0576d991",
=======
   "id": "2692c8ca",
>>>>>>> documentation-devel
||||||| 96c826da
<<<<<<< HEAD
<<<<<<< HEAD
<<<<<<< HEAD
<<<<<<< HEAD
<<<<<<< HEAD
   "id": "8232829e",
||||||| 6a30bf1
   "id": "beddd6ea",
=======
   "id": "2f822a23",
>>>>>>> documentation-devel
||||||| d28b18c
   "id": "2f822a23",
=======
   "id": "9a8a558f",
>>>>>>> documentation-devel
||||||| 6893f63
<<<<<<< HEAD
   "id": "8232829e",
||||||| 6a30bf1
   "id": "beddd6ea",
=======
   "id": "2f822a23",
>>>>>>> documentation-devel
=======
   "id": "cfda8759",
>>>>>>> c74c98c2450c2a1ba922ed9442f136238d6bc88b
||||||| 6d93b645
   "id": "9a8a558f",
=======
   "id": "0576d991",
>>>>>>> documentation-devel
||||||| 804edffb
<<<<<<< HEAD
<<<<<<< HEAD
<<<<<<< HEAD
   "id": "8232829e",
||||||| 6a30bf1
   "id": "beddd6ea",
=======
   "id": "2f822a23",
>>>>>>> documentation-devel
||||||| d28b18c
   "id": "2f822a23",
=======
   "id": "9a8a558f",
>>>>>>> documentation-devel
||||||| 6893f63
<<<<<<< HEAD
   "id": "8232829e",
||||||| 6a30bf1
   "id": "beddd6ea",
=======
   "id": "2f822a23",
>>>>>>> documentation-devel
=======
   "id": "cfda8759",
>>>>>>> c74c98c2450c2a1ba922ed9442f136238d6bc88b
=======
   "id": "29e5269a",
>>>>>>> 035bb2637984ead2784fecff78c0c60cc4181202
=======
   "id": "9dd76105",
>>>>>>> 619c01f26351d57ac14d974b7af136ac5756103f
   "metadata": {
    "lines_to_next_cell": 0
   },
   "source": [
    "Here we download the data from the 10X website. This is the unfiltered gene count matrix:"
   ]
  },
  {
   "cell_type": "code",
   "execution_count": null,
<<<<<<< HEAD
<<<<<<< HEAD
<<<<<<< HEAD
<<<<<<< HEAD
<<<<<<< HEAD
<<<<<<< HEAD
<<<<<<< HEAD
   "id": "09bb85a0",
||||||| 6a30bf1
   "id": "f187bfda",
=======
   "id": "f6552f28",
>>>>>>> documentation-devel
||||||| d28b18c
   "id": "f6552f28",
=======
   "id": "661589c9",
>>>>>>> documentation-devel
||||||| 6893f63
<<<<<<< HEAD
   "id": "09bb85a0",
||||||| 6a30bf1
   "id": "f187bfda",
=======
   "id": "f6552f28",
>>>>>>> documentation-devel
=======
   "id": "e9ee67db",
>>>>>>> c74c98c2450c2a1ba922ed9442f136238d6bc88b
||||||| 6d93b645
   "id": "661589c9",
=======
   "id": "7d08f3d5",
>>>>>>> documentation-devel
||||||| 804edffb
<<<<<<< HEAD
<<<<<<< HEAD
<<<<<<< HEAD
   "id": "09bb85a0",
||||||| 6a30bf1
   "id": "f187bfda",
=======
   "id": "f6552f28",
>>>>>>> documentation-devel
||||||| d28b18c
   "id": "f6552f28",
=======
   "id": "661589c9",
>>>>>>> documentation-devel
||||||| 6893f63
<<<<<<< HEAD
   "id": "09bb85a0",
||||||| 6a30bf1
   "id": "f187bfda",
=======
   "id": "f6552f28",
>>>>>>> documentation-devel
=======
   "id": "e9ee67db",
>>>>>>> c74c98c2450c2a1ba922ed9442f136238d6bc88b
=======
   "id": "b0cc8ae2",
>>>>>>> 035bb2637984ead2784fecff78c0c60cc4181202
||||||| 3effdfa5
   "id": "7d08f3d5",
=======
   "id": "c800e6d2",
>>>>>>> documentation-devel
||||||| 96c826da
<<<<<<< HEAD
<<<<<<< HEAD
<<<<<<< HEAD
<<<<<<< HEAD
<<<<<<< HEAD
   "id": "09bb85a0",
||||||| 6a30bf1
   "id": "f187bfda",
=======
   "id": "f6552f28",
>>>>>>> documentation-devel
||||||| d28b18c
   "id": "f6552f28",
=======
   "id": "661589c9",
>>>>>>> documentation-devel
||||||| 6893f63
<<<<<<< HEAD
   "id": "09bb85a0",
||||||| 6a30bf1
   "id": "f187bfda",
=======
   "id": "f6552f28",
>>>>>>> documentation-devel
=======
   "id": "e9ee67db",
>>>>>>> c74c98c2450c2a1ba922ed9442f136238d6bc88b
||||||| 6d93b645
   "id": "661589c9",
=======
   "id": "7d08f3d5",
>>>>>>> documentation-devel
||||||| 804edffb
<<<<<<< HEAD
<<<<<<< HEAD
<<<<<<< HEAD
   "id": "09bb85a0",
||||||| 6a30bf1
   "id": "f187bfda",
=======
   "id": "f6552f28",
>>>>>>> documentation-devel
||||||| d28b18c
   "id": "f6552f28",
=======
   "id": "661589c9",
>>>>>>> documentation-devel
||||||| 6893f63
<<<<<<< HEAD
   "id": "09bb85a0",
||||||| 6a30bf1
   "id": "f187bfda",
=======
   "id": "f6552f28",
>>>>>>> documentation-devel
=======
   "id": "e9ee67db",
>>>>>>> c74c98c2450c2a1ba922ed9442f136238d6bc88b
=======
   "id": "b0cc8ae2",
>>>>>>> 035bb2637984ead2784fecff78c0c60cc4181202
=======
   "id": "06c204c1",
>>>>>>> 619c01f26351d57ac14d974b7af136ac5756103f
   "metadata": {},
   "outputs": [],
   "source": [
    "if (!file.exists(\"visium_ob.tar.gz\"))\n",
    "    download.file(\"https://cf.10xgenomics.com/samples/spatial-exp/2.0.0/Visium_Mouse_Olfactory_Bulb/Visium_Mouse_Olfactory_Bulb_raw_feature_bc_matrix.tar.gz\", \n",
    "                  destfile = \"visium_ob.tar.gz\")"
   ]
  },
  {
   "cell_type": "markdown",
<<<<<<< HEAD
<<<<<<< HEAD
<<<<<<< HEAD
<<<<<<< HEAD
<<<<<<< HEAD
<<<<<<< HEAD
<<<<<<< HEAD
   "id": "a80bdf51",
||||||| 6a30bf1
   "id": "b59b3ad1",
=======
   "id": "55104b9e",
>>>>>>> documentation-devel
||||||| d28b18c
   "id": "55104b9e",
=======
   "id": "97b85a4e",
>>>>>>> documentation-devel
||||||| 6893f63
<<<<<<< HEAD
   "id": "a80bdf51",
||||||| 6a30bf1
   "id": "b59b3ad1",
=======
   "id": "55104b9e",
>>>>>>> documentation-devel
=======
   "id": "c15f6852",
>>>>>>> c74c98c2450c2a1ba922ed9442f136238d6bc88b
||||||| 6d93b645
   "id": "97b85a4e",
=======
   "id": "abefc9bf",
>>>>>>> documentation-devel
||||||| 804edffb
<<<<<<< HEAD
<<<<<<< HEAD
<<<<<<< HEAD
   "id": "a80bdf51",
||||||| 6a30bf1
   "id": "b59b3ad1",
=======
   "id": "55104b9e",
>>>>>>> documentation-devel
||||||| d28b18c
   "id": "55104b9e",
=======
   "id": "97b85a4e",
>>>>>>> documentation-devel
||||||| 6893f63
<<<<<<< HEAD
   "id": "a80bdf51",
||||||| 6a30bf1
   "id": "b59b3ad1",
=======
   "id": "55104b9e",
>>>>>>> documentation-devel
=======
   "id": "c15f6852",
>>>>>>> c74c98c2450c2a1ba922ed9442f136238d6bc88b
=======
   "id": "0c2983b7",
>>>>>>> 035bb2637984ead2784fecff78c0c60cc4181202
||||||| 3effdfa5
   "id": "abefc9bf",
=======
   "id": "7a4d5a4d",
>>>>>>> documentation-devel
||||||| 96c826da
<<<<<<< HEAD
<<<<<<< HEAD
<<<<<<< HEAD
<<<<<<< HEAD
<<<<<<< HEAD
   "id": "a80bdf51",
||||||| 6a30bf1
   "id": "b59b3ad1",
=======
   "id": "55104b9e",
>>>>>>> documentation-devel
||||||| d28b18c
   "id": "55104b9e",
=======
   "id": "97b85a4e",
>>>>>>> documentation-devel
||||||| 6893f63
<<<<<<< HEAD
   "id": "a80bdf51",
||||||| 6a30bf1
   "id": "b59b3ad1",
=======
   "id": "55104b9e",
>>>>>>> documentation-devel
=======
   "id": "c15f6852",
>>>>>>> c74c98c2450c2a1ba922ed9442f136238d6bc88b
||||||| 6d93b645
   "id": "97b85a4e",
=======
   "id": "abefc9bf",
>>>>>>> documentation-devel
||||||| 804edffb
<<<<<<< HEAD
<<<<<<< HEAD
<<<<<<< HEAD
   "id": "a80bdf51",
||||||| 6a30bf1
   "id": "b59b3ad1",
=======
   "id": "55104b9e",
>>>>>>> documentation-devel
||||||| d28b18c
   "id": "55104b9e",
=======
   "id": "97b85a4e",
>>>>>>> documentation-devel
||||||| 6893f63
<<<<<<< HEAD
   "id": "a80bdf51",
||||||| 6a30bf1
   "id": "b59b3ad1",
=======
   "id": "55104b9e",
>>>>>>> documentation-devel
=======
   "id": "c15f6852",
>>>>>>> c74c98c2450c2a1ba922ed9442f136238d6bc88b
=======
   "id": "0c2983b7",
>>>>>>> 035bb2637984ead2784fecff78c0c60cc4181202
=======
   "id": "0c2489b2",
>>>>>>> 619c01f26351d57ac14d974b7af136ac5756103f
   "metadata": {
    "lines_to_next_cell": 0
   },
   "source": [
    "This is the spatial information:"
   ]
  },
  {
   "cell_type": "code",
   "execution_count": null,
<<<<<<< HEAD
<<<<<<< HEAD
<<<<<<< HEAD
<<<<<<< HEAD
<<<<<<< HEAD
<<<<<<< HEAD
<<<<<<< HEAD
   "id": "1ef68e85",
||||||| 6a30bf1
   "id": "e3fb6b8e",
=======
   "id": "33a3cd42",
>>>>>>> documentation-devel
||||||| d28b18c
   "id": "33a3cd42",
=======
   "id": "37109f23",
>>>>>>> documentation-devel
||||||| 6893f63
<<<<<<< HEAD
   "id": "1ef68e85",
||||||| 6a30bf1
   "id": "e3fb6b8e",
=======
   "id": "33a3cd42",
>>>>>>> documentation-devel
=======
   "id": "4da762e1",
>>>>>>> c74c98c2450c2a1ba922ed9442f136238d6bc88b
||||||| 6d93b645
   "id": "37109f23",
=======
   "id": "c030d250",
>>>>>>> documentation-devel
||||||| 804edffb
<<<<<<< HEAD
<<<<<<< HEAD
<<<<<<< HEAD
   "id": "1ef68e85",
||||||| 6a30bf1
   "id": "e3fb6b8e",
=======
   "id": "33a3cd42",
>>>>>>> documentation-devel
||||||| d28b18c
   "id": "33a3cd42",
=======
   "id": "37109f23",
>>>>>>> documentation-devel
||||||| 6893f63
<<<<<<< HEAD
   "id": "1ef68e85",
||||||| 6a30bf1
   "id": "e3fb6b8e",
=======
   "id": "33a3cd42",
>>>>>>> documentation-devel
=======
   "id": "4da762e1",
>>>>>>> c74c98c2450c2a1ba922ed9442f136238d6bc88b
=======
   "id": "9a6a99ba",
>>>>>>> 035bb2637984ead2784fecff78c0c60cc4181202
||||||| 3effdfa5
   "id": "c030d250",
=======
   "id": "7655df1d",
>>>>>>> documentation-devel
||||||| 96c826da
<<<<<<< HEAD
<<<<<<< HEAD
<<<<<<< HEAD
<<<<<<< HEAD
<<<<<<< HEAD
   "id": "1ef68e85",
||||||| 6a30bf1
   "id": "e3fb6b8e",
=======
   "id": "33a3cd42",
>>>>>>> documentation-devel
||||||| d28b18c
   "id": "33a3cd42",
=======
   "id": "37109f23",
>>>>>>> documentation-devel
||||||| 6893f63
<<<<<<< HEAD
   "id": "1ef68e85",
||||||| 6a30bf1
   "id": "e3fb6b8e",
=======
   "id": "33a3cd42",
>>>>>>> documentation-devel
=======
   "id": "4da762e1",
>>>>>>> c74c98c2450c2a1ba922ed9442f136238d6bc88b
||||||| 6d93b645
   "id": "37109f23",
=======
   "id": "c030d250",
>>>>>>> documentation-devel
||||||| 804edffb
<<<<<<< HEAD
<<<<<<< HEAD
<<<<<<< HEAD
   "id": "1ef68e85",
||||||| 6a30bf1
   "id": "e3fb6b8e",
=======
   "id": "33a3cd42",
>>>>>>> documentation-devel
||||||| d28b18c
   "id": "33a3cd42",
=======
   "id": "37109f23",
>>>>>>> documentation-devel
||||||| 6893f63
<<<<<<< HEAD
   "id": "1ef68e85",
||||||| 6a30bf1
   "id": "e3fb6b8e",
=======
   "id": "33a3cd42",
>>>>>>> documentation-devel
=======
   "id": "4da762e1",
>>>>>>> c74c98c2450c2a1ba922ed9442f136238d6bc88b
=======
   "id": "9a6a99ba",
>>>>>>> 035bb2637984ead2784fecff78c0c60cc4181202
=======
   "id": "e229b9ae",
>>>>>>> 619c01f26351d57ac14d974b7af136ac5756103f
   "metadata": {},
   "outputs": [],
   "source": [
    "if (!file.exists(\"visium_ob_spatial.tar.gz\"))\n",
    "    download.file(\"https://cf.10xgenomics.com/samples/spatial-exp/2.0.0/Visium_Mouse_Olfactory_Bulb/Visium_Mouse_Olfactory_Bulb_spatial.tar.gz\", \n",
    "                  destfile = \"visium_ob_spatial.tar.gz\")"
   ]
  },
  {
   "cell_type": "markdown",
<<<<<<< HEAD
<<<<<<< HEAD
<<<<<<< HEAD
<<<<<<< HEAD
<<<<<<< HEAD
<<<<<<< HEAD
<<<<<<< HEAD
   "id": "6a961214",
||||||| 6a30bf1
   "id": "6b54d315",
=======
   "id": "e3af5f9c",
>>>>>>> documentation-devel
||||||| d28b18c
   "id": "e3af5f9c",
=======
   "id": "602ce9e2",
>>>>>>> documentation-devel
||||||| 6893f63
<<<<<<< HEAD
   "id": "6a961214",
||||||| 6a30bf1
   "id": "6b54d315",
=======
   "id": "e3af5f9c",
>>>>>>> documentation-devel
=======
   "id": "941f1cce",
>>>>>>> c74c98c2450c2a1ba922ed9442f136238d6bc88b
||||||| 6d93b645
   "id": "602ce9e2",
=======
   "id": "92997ef3",
>>>>>>> documentation-devel
||||||| 804edffb
<<<<<<< HEAD
<<<<<<< HEAD
<<<<<<< HEAD
   "id": "6a961214",
||||||| 6a30bf1
   "id": "6b54d315",
=======
   "id": "e3af5f9c",
>>>>>>> documentation-devel
||||||| d28b18c
   "id": "e3af5f9c",
=======
   "id": "602ce9e2",
>>>>>>> documentation-devel
||||||| 6893f63
<<<<<<< HEAD
   "id": "6a961214",
||||||| 6a30bf1
   "id": "6b54d315",
=======
   "id": "e3af5f9c",
>>>>>>> documentation-devel
=======
   "id": "941f1cce",
>>>>>>> c74c98c2450c2a1ba922ed9442f136238d6bc88b
=======
   "id": "8c40699a",
>>>>>>> 035bb2637984ead2784fecff78c0c60cc4181202
||||||| 3effdfa5
   "id": "92997ef3",
=======
   "id": "49ce54de",
>>>>>>> documentation-devel
||||||| 96c826da
<<<<<<< HEAD
<<<<<<< HEAD
<<<<<<< HEAD
<<<<<<< HEAD
<<<<<<< HEAD
   "id": "6a961214",
||||||| 6a30bf1
   "id": "6b54d315",
=======
   "id": "e3af5f9c",
>>>>>>> documentation-devel
||||||| d28b18c
   "id": "e3af5f9c",
=======
   "id": "602ce9e2",
>>>>>>> documentation-devel
||||||| 6893f63
<<<<<<< HEAD
   "id": "6a961214",
||||||| 6a30bf1
   "id": "6b54d315",
=======
   "id": "e3af5f9c",
>>>>>>> documentation-devel
=======
   "id": "941f1cce",
>>>>>>> c74c98c2450c2a1ba922ed9442f136238d6bc88b
||||||| 6d93b645
   "id": "602ce9e2",
=======
   "id": "92997ef3",
>>>>>>> documentation-devel
||||||| 804edffb
<<<<<<< HEAD
<<<<<<< HEAD
<<<<<<< HEAD
   "id": "6a961214",
||||||| 6a30bf1
   "id": "6b54d315",
=======
   "id": "e3af5f9c",
>>>>>>> documentation-devel
||||||| d28b18c
   "id": "e3af5f9c",
=======
   "id": "602ce9e2",
>>>>>>> documentation-devel
||||||| 6893f63
<<<<<<< HEAD
   "id": "6a961214",
||||||| 6a30bf1
   "id": "6b54d315",
=======
   "id": "e3af5f9c",
>>>>>>> documentation-devel
=======
   "id": "941f1cce",
>>>>>>> c74c98c2450c2a1ba922ed9442f136238d6bc88b
=======
   "id": "8c40699a",
>>>>>>> 035bb2637984ead2784fecff78c0c60cc4181202
=======
   "id": "3f48b194",
>>>>>>> 619c01f26351d57ac14d974b7af136ac5756103f
   "metadata": {
    "lines_to_next_cell": 0
   },
   "source": [
    "Decompress the downloaded content:"
   ]
  },
  {
   "cell_type": "code",
   "execution_count": null,
<<<<<<< HEAD
<<<<<<< HEAD
<<<<<<< HEAD
<<<<<<< HEAD
<<<<<<< HEAD
<<<<<<< HEAD
<<<<<<< HEAD
   "id": "b4da3588",
||||||| 6a30bf1
   "id": "180709f2",
=======
   "id": "5cf03cb9",
>>>>>>> documentation-devel
||||||| d28b18c
   "id": "5cf03cb9",
=======
   "id": "5ddc12c4",
>>>>>>> documentation-devel
||||||| 6893f63
<<<<<<< HEAD
   "id": "b4da3588",
||||||| 6a30bf1
   "id": "180709f2",
=======
   "id": "5cf03cb9",
>>>>>>> documentation-devel
=======
   "id": "588a9d9a",
>>>>>>> c74c98c2450c2a1ba922ed9442f136238d6bc88b
||||||| 6d93b645
   "id": "5ddc12c4",
=======
   "id": "7ea23649",
>>>>>>> documentation-devel
||||||| 804edffb
<<<<<<< HEAD
<<<<<<< HEAD
<<<<<<< HEAD
   "id": "b4da3588",
||||||| 6a30bf1
   "id": "180709f2",
=======
   "id": "5cf03cb9",
>>>>>>> documentation-devel
||||||| d28b18c
   "id": "5cf03cb9",
=======
   "id": "5ddc12c4",
>>>>>>> documentation-devel
||||||| 6893f63
<<<<<<< HEAD
   "id": "b4da3588",
||||||| 6a30bf1
   "id": "180709f2",
=======
   "id": "5cf03cb9",
>>>>>>> documentation-devel
=======
   "id": "588a9d9a",
>>>>>>> c74c98c2450c2a1ba922ed9442f136238d6bc88b
=======
   "id": "d299db73",
>>>>>>> 035bb2637984ead2784fecff78c0c60cc4181202
||||||| 3effdfa5
   "id": "7ea23649",
=======
   "id": "94b9362a",
>>>>>>> documentation-devel
||||||| 96c826da
<<<<<<< HEAD
<<<<<<< HEAD
<<<<<<< HEAD
<<<<<<< HEAD
<<<<<<< HEAD
   "id": "b4da3588",
||||||| 6a30bf1
   "id": "180709f2",
=======
   "id": "5cf03cb9",
>>>>>>> documentation-devel
||||||| d28b18c
   "id": "5cf03cb9",
=======
   "id": "5ddc12c4",
>>>>>>> documentation-devel
||||||| 6893f63
<<<<<<< HEAD
   "id": "b4da3588",
||||||| 6a30bf1
   "id": "180709f2",
=======
   "id": "5cf03cb9",
>>>>>>> documentation-devel
=======
   "id": "588a9d9a",
>>>>>>> c74c98c2450c2a1ba922ed9442f136238d6bc88b
||||||| 6d93b645
   "id": "5ddc12c4",
=======
   "id": "7ea23649",
>>>>>>> documentation-devel
||||||| 804edffb
<<<<<<< HEAD
<<<<<<< HEAD
<<<<<<< HEAD
   "id": "b4da3588",
||||||| 6a30bf1
   "id": "180709f2",
=======
   "id": "5cf03cb9",
>>>>>>> documentation-devel
||||||| d28b18c
   "id": "5cf03cb9",
=======
   "id": "5ddc12c4",
>>>>>>> documentation-devel
||||||| 6893f63
<<<<<<< HEAD
   "id": "b4da3588",
||||||| 6a30bf1
   "id": "180709f2",
=======
   "id": "5cf03cb9",
>>>>>>> documentation-devel
=======
   "id": "588a9d9a",
>>>>>>> c74c98c2450c2a1ba922ed9442f136238d6bc88b
=======
   "id": "d299db73",
>>>>>>> 035bb2637984ead2784fecff78c0c60cc4181202
=======
   "id": "7b583281",
>>>>>>> 619c01f26351d57ac14d974b7af136ac5756103f
   "metadata": {},
   "outputs": [],
   "source": [
    "if (!dir.exists(\"outs\")) {\n",
    "    dir.create(\"outs\")\n",
    "    system(\"tar -xvf visium_ob.tar.gz -C outs\")\n",
    "    system(\"tar -xvf visium_ob_spatial.tar.gz -C outs\")\n",
    "}"
   ]
  },
  {
   "cell_type": "markdown",
<<<<<<< HEAD
<<<<<<< HEAD
<<<<<<< HEAD
<<<<<<< HEAD
<<<<<<< HEAD
<<<<<<< HEAD
<<<<<<< HEAD
   "id": "6f3f4790",
||||||| 6a30bf1
   "id": "825989a1",
=======
   "id": "4ffaf600",
>>>>>>> documentation-devel
||||||| d28b18c
   "id": "4ffaf600",
=======
   "id": "a364d037",
>>>>>>> documentation-devel
||||||| 6893f63
<<<<<<< HEAD
   "id": "6f3f4790",
||||||| 6a30bf1
   "id": "825989a1",
=======
   "id": "4ffaf600",
>>>>>>> documentation-devel
=======
   "id": "83325d2c",
>>>>>>> c74c98c2450c2a1ba922ed9442f136238d6bc88b
||||||| 6d93b645
   "id": "a364d037",
=======
   "id": "a16bff11",
>>>>>>> documentation-devel
||||||| 804edffb
<<<<<<< HEAD
<<<<<<< HEAD
<<<<<<< HEAD
   "id": "6f3f4790",
||||||| 6a30bf1
   "id": "825989a1",
=======
   "id": "4ffaf600",
>>>>>>> documentation-devel
||||||| d28b18c
   "id": "4ffaf600",
=======
   "id": "a364d037",
>>>>>>> documentation-devel
||||||| 6893f63
<<<<<<< HEAD
   "id": "6f3f4790",
||||||| 6a30bf1
   "id": "825989a1",
=======
   "id": "4ffaf600",
>>>>>>> documentation-devel
=======
   "id": "83325d2c",
>>>>>>> c74c98c2450c2a1ba922ed9442f136238d6bc88b
=======
   "id": "8748d2c8",
>>>>>>> 035bb2637984ead2784fecff78c0c60cc4181202
||||||| 3effdfa5
   "id": "a16bff11",
=======
   "id": "337c276d",
>>>>>>> documentation-devel
||||||| 96c826da
<<<<<<< HEAD
<<<<<<< HEAD
<<<<<<< HEAD
<<<<<<< HEAD
<<<<<<< HEAD
   "id": "6f3f4790",
||||||| 6a30bf1
   "id": "825989a1",
=======
   "id": "4ffaf600",
>>>>>>> documentation-devel
||||||| d28b18c
   "id": "4ffaf600",
=======
   "id": "a364d037",
>>>>>>> documentation-devel
||||||| 6893f63
<<<<<<< HEAD
   "id": "6f3f4790",
||||||| 6a30bf1
   "id": "825989a1",
=======
   "id": "4ffaf600",
>>>>>>> documentation-devel
=======
   "id": "83325d2c",
>>>>>>> c74c98c2450c2a1ba922ed9442f136238d6bc88b
||||||| 6d93b645
   "id": "a364d037",
=======
   "id": "a16bff11",
>>>>>>> documentation-devel
||||||| 804edffb
<<<<<<< HEAD
<<<<<<< HEAD
<<<<<<< HEAD
   "id": "6f3f4790",
||||||| 6a30bf1
   "id": "825989a1",
=======
   "id": "4ffaf600",
>>>>>>> documentation-devel
||||||| d28b18c
   "id": "4ffaf600",
=======
   "id": "a364d037",
>>>>>>> documentation-devel
||||||| 6893f63
<<<<<<< HEAD
   "id": "6f3f4790",
||||||| 6a30bf1
   "id": "825989a1",
=======
   "id": "4ffaf600",
>>>>>>> documentation-devel
=======
   "id": "83325d2c",
>>>>>>> c74c98c2450c2a1ba922ed9442f136238d6bc88b
=======
   "id": "8748d2c8",
>>>>>>> 035bb2637984ead2784fecff78c0c60cc4181202
=======
   "id": "1b2db419",
>>>>>>> 619c01f26351d57ac14d974b7af136ac5756103f
   "metadata": {
    "lines_to_next_cell": 0
   },
   "source": [
    "This is what the `outs` directory in Space Ranger output looks like:"
   ]
  },
  {
   "cell_type": "code",
   "execution_count": null,
<<<<<<< HEAD
<<<<<<< HEAD
<<<<<<< HEAD
<<<<<<< HEAD
<<<<<<< HEAD
<<<<<<< HEAD
<<<<<<< HEAD
   "id": "86895e88",
||||||| 6a30bf1
   "id": "55931f01",
=======
   "id": "621834be",
>>>>>>> documentation-devel
||||||| d28b18c
   "id": "621834be",
=======
   "id": "558dabb6",
>>>>>>> documentation-devel
||||||| 6893f63
<<<<<<< HEAD
   "id": "86895e88",
||||||| 6a30bf1
   "id": "55931f01",
=======
   "id": "621834be",
>>>>>>> documentation-devel
=======
   "id": "01cf611f",
>>>>>>> c74c98c2450c2a1ba922ed9442f136238d6bc88b
||||||| 6d93b645
   "id": "558dabb6",
=======
   "id": "f084e174",
>>>>>>> documentation-devel
||||||| 804edffb
<<<<<<< HEAD
<<<<<<< HEAD
<<<<<<< HEAD
   "id": "86895e88",
||||||| 6a30bf1
   "id": "55931f01",
=======
   "id": "621834be",
>>>>>>> documentation-devel
||||||| d28b18c
   "id": "621834be",
=======
   "id": "558dabb6",
>>>>>>> documentation-devel
||||||| 6893f63
<<<<<<< HEAD
   "id": "86895e88",
||||||| 6a30bf1
   "id": "55931f01",
=======
   "id": "621834be",
>>>>>>> documentation-devel
=======
   "id": "01cf611f",
>>>>>>> c74c98c2450c2a1ba922ed9442f136238d6bc88b
=======
   "id": "c8a34908",
>>>>>>> 035bb2637984ead2784fecff78c0c60cc4181202
||||||| 3effdfa5
   "id": "f084e174",
=======
   "id": "45e91184",
>>>>>>> documentation-devel
||||||| 96c826da
<<<<<<< HEAD
<<<<<<< HEAD
<<<<<<< HEAD
<<<<<<< HEAD
<<<<<<< HEAD
   "id": "86895e88",
||||||| 6a30bf1
   "id": "55931f01",
=======
   "id": "621834be",
>>>>>>> documentation-devel
||||||| d28b18c
   "id": "621834be",
=======
   "id": "558dabb6",
>>>>>>> documentation-devel
||||||| 6893f63
<<<<<<< HEAD
   "id": "86895e88",
||||||| 6a30bf1
   "id": "55931f01",
=======
   "id": "621834be",
>>>>>>> documentation-devel
=======
   "id": "01cf611f",
>>>>>>> c74c98c2450c2a1ba922ed9442f136238d6bc88b
||||||| 6d93b645
   "id": "558dabb6",
=======
   "id": "f084e174",
>>>>>>> documentation-devel
||||||| 804edffb
<<<<<<< HEAD
<<<<<<< HEAD
<<<<<<< HEAD
   "id": "86895e88",
||||||| 6a30bf1
   "id": "55931f01",
=======
   "id": "621834be",
>>>>>>> documentation-devel
||||||| d28b18c
   "id": "621834be",
=======
   "id": "558dabb6",
>>>>>>> documentation-devel
||||||| 6893f63
<<<<<<< HEAD
   "id": "86895e88",
||||||| 6a30bf1
   "id": "55931f01",
=======
   "id": "621834be",
>>>>>>> documentation-devel
=======
   "id": "01cf611f",
>>>>>>> c74c98c2450c2a1ba922ed9442f136238d6bc88b
=======
   "id": "c8a34908",
>>>>>>> 035bb2637984ead2784fecff78c0c60cc4181202
=======
   "id": "5c0fe8f9",
>>>>>>> 619c01f26351d57ac14d974b7af136ac5756103f
   "metadata": {},
   "outputs": [],
   "source": [
    "list.dirs(\"outs\")"
   ]
  },
  {
   "cell_type": "markdown",
<<<<<<< HEAD
<<<<<<< HEAD
<<<<<<< HEAD
<<<<<<< HEAD
<<<<<<< HEAD
<<<<<<< HEAD
<<<<<<< HEAD
   "id": "daa5f95e",
||||||| 6a30bf1
   "id": "676ab98c",
=======
   "id": "3374b084",
>>>>>>> documentation-devel
||||||| d28b18c
   "id": "3374b084",
=======
   "id": "bf44519e",
>>>>>>> documentation-devel
||||||| 6893f63
<<<<<<< HEAD
   "id": "daa5f95e",
||||||| 6a30bf1
   "id": "676ab98c",
=======
   "id": "3374b084",
>>>>>>> documentation-devel
=======
   "id": "982e28aa",
>>>>>>> c74c98c2450c2a1ba922ed9442f136238d6bc88b
||||||| 6d93b645
   "id": "bf44519e",
=======
   "id": "c7b42370",
>>>>>>> documentation-devel
||||||| 804edffb
<<<<<<< HEAD
<<<<<<< HEAD
<<<<<<< HEAD
   "id": "daa5f95e",
||||||| 6a30bf1
   "id": "676ab98c",
=======
   "id": "3374b084",
>>>>>>> documentation-devel
||||||| d28b18c
   "id": "3374b084",
=======
   "id": "bf44519e",
>>>>>>> documentation-devel
||||||| 6893f63
<<<<<<< HEAD
   "id": "daa5f95e",
||||||| 6a30bf1
   "id": "676ab98c",
=======
   "id": "3374b084",
>>>>>>> documentation-devel
=======
   "id": "982e28aa",
>>>>>>> c74c98c2450c2a1ba922ed9442f136238d6bc88b
=======
   "id": "506efb73",
>>>>>>> 035bb2637984ead2784fecff78c0c60cc4181202
||||||| 3effdfa5
   "id": "c7b42370",
=======
   "id": "08ddbd89",
>>>>>>> documentation-devel
||||||| 96c826da
<<<<<<< HEAD
<<<<<<< HEAD
<<<<<<< HEAD
<<<<<<< HEAD
<<<<<<< HEAD
   "id": "daa5f95e",
||||||| 6a30bf1
   "id": "676ab98c",
=======
   "id": "3374b084",
>>>>>>> documentation-devel
||||||| d28b18c
   "id": "3374b084",
=======
   "id": "bf44519e",
>>>>>>> documentation-devel
||||||| 6893f63
<<<<<<< HEAD
   "id": "daa5f95e",
||||||| 6a30bf1
   "id": "676ab98c",
=======
   "id": "3374b084",
>>>>>>> documentation-devel
=======
   "id": "982e28aa",
>>>>>>> c74c98c2450c2a1ba922ed9442f136238d6bc88b
||||||| 6d93b645
   "id": "bf44519e",
=======
   "id": "c7b42370",
>>>>>>> documentation-devel
||||||| 804edffb
<<<<<<< HEAD
<<<<<<< HEAD
<<<<<<< HEAD
   "id": "daa5f95e",
||||||| 6a30bf1
   "id": "676ab98c",
=======
   "id": "3374b084",
>>>>>>> documentation-devel
||||||| d28b18c
   "id": "3374b084",
=======
   "id": "bf44519e",
>>>>>>> documentation-devel
||||||| 6893f63
<<<<<<< HEAD
   "id": "daa5f95e",
||||||| 6a30bf1
   "id": "676ab98c",
=======
   "id": "3374b084",
>>>>>>> documentation-devel
=======
   "id": "982e28aa",
>>>>>>> c74c98c2450c2a1ba922ed9442f136238d6bc88b
=======
   "id": "506efb73",
>>>>>>> 035bb2637984ead2784fecff78c0c60cc4181202
=======
   "id": "e78f8039",
>>>>>>> 619c01f26351d57ac14d974b7af136ac5756103f
   "metadata": {
    "lines_to_next_cell": 0
   },
   "source": [
    "In the gene count matrix directory:"
   ]
  },
  {
   "cell_type": "code",
   "execution_count": null,
<<<<<<< HEAD
<<<<<<< HEAD
<<<<<<< HEAD
<<<<<<< HEAD
<<<<<<< HEAD
<<<<<<< HEAD
<<<<<<< HEAD
   "id": "46bc15ff",
||||||| 6a30bf1
   "id": "9a436c64",
=======
   "id": "c2da180c",
>>>>>>> documentation-devel
||||||| d28b18c
   "id": "c2da180c",
=======
   "id": "f8f48aca",
>>>>>>> documentation-devel
||||||| 6893f63
<<<<<<< HEAD
   "id": "46bc15ff",
||||||| 6a30bf1
   "id": "9a436c64",
=======
   "id": "c2da180c",
>>>>>>> documentation-devel
=======
   "id": "d38ae94d",
>>>>>>> c74c98c2450c2a1ba922ed9442f136238d6bc88b
||||||| 6d93b645
   "id": "f8f48aca",
=======
   "id": "209ca2d8",
>>>>>>> documentation-devel
||||||| 804edffb
<<<<<<< HEAD
<<<<<<< HEAD
<<<<<<< HEAD
   "id": "46bc15ff",
||||||| 6a30bf1
   "id": "9a436c64",
=======
   "id": "c2da180c",
>>>>>>> documentation-devel
||||||| d28b18c
   "id": "c2da180c",
=======
   "id": "f8f48aca",
>>>>>>> documentation-devel
||||||| 6893f63
<<<<<<< HEAD
   "id": "46bc15ff",
||||||| 6a30bf1
   "id": "9a436c64",
=======
   "id": "c2da180c",
>>>>>>> documentation-devel
=======
   "id": "d38ae94d",
>>>>>>> c74c98c2450c2a1ba922ed9442f136238d6bc88b
=======
   "id": "a1f269c4",
>>>>>>> 035bb2637984ead2784fecff78c0c60cc4181202
||||||| 3effdfa5
   "id": "209ca2d8",
=======
   "id": "5b042419",
>>>>>>> documentation-devel
||||||| 96c826da
<<<<<<< HEAD
<<<<<<< HEAD
<<<<<<< HEAD
<<<<<<< HEAD
<<<<<<< HEAD
   "id": "46bc15ff",
||||||| 6a30bf1
   "id": "9a436c64",
=======
   "id": "c2da180c",
>>>>>>> documentation-devel
||||||| d28b18c
   "id": "c2da180c",
=======
   "id": "f8f48aca",
>>>>>>> documentation-devel
||||||| 6893f63
<<<<<<< HEAD
   "id": "46bc15ff",
||||||| 6a30bf1
   "id": "9a436c64",
=======
   "id": "c2da180c",
>>>>>>> documentation-devel
=======
   "id": "d38ae94d",
>>>>>>> c74c98c2450c2a1ba922ed9442f136238d6bc88b
||||||| 6d93b645
   "id": "f8f48aca",
=======
   "id": "209ca2d8",
>>>>>>> documentation-devel
||||||| 804edffb
<<<<<<< HEAD
<<<<<<< HEAD
<<<<<<< HEAD
   "id": "46bc15ff",
||||||| 6a30bf1
   "id": "9a436c64",
=======
   "id": "c2da180c",
>>>>>>> documentation-devel
||||||| d28b18c
   "id": "c2da180c",
=======
   "id": "f8f48aca",
>>>>>>> documentation-devel
||||||| 6893f63
<<<<<<< HEAD
   "id": "46bc15ff",
||||||| 6a30bf1
   "id": "9a436c64",
=======
   "id": "c2da180c",
>>>>>>> documentation-devel
=======
   "id": "d38ae94d",
>>>>>>> c74c98c2450c2a1ba922ed9442f136238d6bc88b
=======
   "id": "a1f269c4",
>>>>>>> 035bb2637984ead2784fecff78c0c60cc4181202
=======
   "id": "193140e3",
>>>>>>> 619c01f26351d57ac14d974b7af136ac5756103f
   "metadata": {},
   "outputs": [],
   "source": [
    "list.files(\"outs/raw_feature_bc_matrix\")"
   ]
  },
  {
   "cell_type": "markdown",
<<<<<<< HEAD
<<<<<<< HEAD
<<<<<<< HEAD
<<<<<<< HEAD
<<<<<<< HEAD
<<<<<<< HEAD
<<<<<<< HEAD
   "id": "87b98079",
||||||| 6a30bf1
   "id": "58f7f913",
=======
   "id": "5a43c9a1",
>>>>>>> documentation-devel
||||||| d28b18c
   "id": "5a43c9a1",
=======
   "id": "0ae671cb",
>>>>>>> documentation-devel
||||||| 6893f63
<<<<<<< HEAD
   "id": "87b98079",
||||||| 6a30bf1
   "id": "58f7f913",
=======
   "id": "5a43c9a1",
>>>>>>> documentation-devel
=======
   "id": "444d081e",
>>>>>>> c74c98c2450c2a1ba922ed9442f136238d6bc88b
||||||| 6d93b645
   "id": "0ae671cb",
=======
   "id": "cdaf6e4c",
>>>>>>> documentation-devel
||||||| 804edffb
<<<<<<< HEAD
<<<<<<< HEAD
<<<<<<< HEAD
   "id": "87b98079",
||||||| 6a30bf1
   "id": "58f7f913",
=======
   "id": "5a43c9a1",
>>>>>>> documentation-devel
||||||| d28b18c
   "id": "5a43c9a1",
=======
   "id": "0ae671cb",
>>>>>>> documentation-devel
||||||| 6893f63
<<<<<<< HEAD
   "id": "87b98079",
||||||| 6a30bf1
   "id": "58f7f913",
=======
   "id": "5a43c9a1",
>>>>>>> documentation-devel
=======
   "id": "444d081e",
>>>>>>> c74c98c2450c2a1ba922ed9442f136238d6bc88b
=======
   "id": "5ec897b4",
>>>>>>> 035bb2637984ead2784fecff78c0c60cc4181202
||||||| 3effdfa5
   "id": "cdaf6e4c",
=======
   "id": "de5b9fa1",
>>>>>>> documentation-devel
||||||| 96c826da
<<<<<<< HEAD
<<<<<<< HEAD
<<<<<<< HEAD
<<<<<<< HEAD
<<<<<<< HEAD
   "id": "87b98079",
||||||| 6a30bf1
   "id": "58f7f913",
=======
   "id": "5a43c9a1",
>>>>>>> documentation-devel
||||||| d28b18c
   "id": "5a43c9a1",
=======
   "id": "0ae671cb",
>>>>>>> documentation-devel
||||||| 6893f63
<<<<<<< HEAD
   "id": "87b98079",
||||||| 6a30bf1
   "id": "58f7f913",
=======
   "id": "5a43c9a1",
>>>>>>> documentation-devel
=======
   "id": "444d081e",
>>>>>>> c74c98c2450c2a1ba922ed9442f136238d6bc88b
||||||| 6d93b645
   "id": "0ae671cb",
=======
   "id": "cdaf6e4c",
>>>>>>> documentation-devel
||||||| 804edffb
<<<<<<< HEAD
<<<<<<< HEAD
<<<<<<< HEAD
   "id": "87b98079",
||||||| 6a30bf1
   "id": "58f7f913",
=======
   "id": "5a43c9a1",
>>>>>>> documentation-devel
||||||| d28b18c
   "id": "5a43c9a1",
=======
   "id": "0ae671cb",
>>>>>>> documentation-devel
||||||| 6893f63
<<<<<<< HEAD
   "id": "87b98079",
||||||| 6a30bf1
   "id": "58f7f913",
=======
   "id": "5a43c9a1",
>>>>>>> documentation-devel
=======
   "id": "444d081e",
>>>>>>> c74c98c2450c2a1ba922ed9442f136238d6bc88b
=======
   "id": "5ec897b4",
>>>>>>> 035bb2637984ead2784fecff78c0c60cc4181202
=======
   "id": "5c44ead7",
>>>>>>> 619c01f26351d57ac14d974b7af136ac5756103f
   "metadata": {},
   "source": [
    "In the spatial directory:"
   ]
  },
  {
   "cell_type": "code",
   "execution_count": null,
<<<<<<< HEAD
<<<<<<< HEAD
<<<<<<< HEAD
<<<<<<< HEAD
<<<<<<< HEAD
<<<<<<< HEAD
<<<<<<< HEAD
   "id": "5c371f7f",
||||||| 6a30bf1
   "id": "a2f8ca2d",
=======
   "id": "0fb58591",
>>>>>>> documentation-devel
||||||| d28b18c
   "id": "0fb58591",
=======
   "id": "f18d97b7",
>>>>>>> documentation-devel
||||||| 6893f63
<<<<<<< HEAD
   "id": "5c371f7f",
||||||| 6a30bf1
   "id": "a2f8ca2d",
=======
   "id": "0fb58591",
>>>>>>> documentation-devel
=======
   "id": "5fd5c80f",
>>>>>>> c74c98c2450c2a1ba922ed9442f136238d6bc88b
||||||| 6d93b645
   "id": "f18d97b7",
=======
   "id": "ac00a256",
>>>>>>> documentation-devel
||||||| 804edffb
<<<<<<< HEAD
<<<<<<< HEAD
<<<<<<< HEAD
   "id": "5c371f7f",
||||||| 6a30bf1
   "id": "a2f8ca2d",
=======
   "id": "0fb58591",
>>>>>>> documentation-devel
||||||| d28b18c
   "id": "0fb58591",
=======
   "id": "f18d97b7",
>>>>>>> documentation-devel
||||||| 6893f63
<<<<<<< HEAD
   "id": "5c371f7f",
||||||| 6a30bf1
   "id": "a2f8ca2d",
=======
   "id": "0fb58591",
>>>>>>> documentation-devel
=======
   "id": "5fd5c80f",
>>>>>>> c74c98c2450c2a1ba922ed9442f136238d6bc88b
=======
   "id": "eab27fb7",
>>>>>>> 035bb2637984ead2784fecff78c0c60cc4181202
||||||| 3effdfa5
   "id": "ac00a256",
=======
   "id": "dda080ba",
>>>>>>> documentation-devel
||||||| 96c826da
<<<<<<< HEAD
<<<<<<< HEAD
<<<<<<< HEAD
<<<<<<< HEAD
<<<<<<< HEAD
   "id": "5c371f7f",
||||||| 6a30bf1
   "id": "a2f8ca2d",
=======
   "id": "0fb58591",
>>>>>>> documentation-devel
||||||| d28b18c
   "id": "0fb58591",
=======
   "id": "f18d97b7",
>>>>>>> documentation-devel
||||||| 6893f63
<<<<<<< HEAD
   "id": "5c371f7f",
||||||| 6a30bf1
   "id": "a2f8ca2d",
=======
   "id": "0fb58591",
>>>>>>> documentation-devel
=======
   "id": "5fd5c80f",
>>>>>>> c74c98c2450c2a1ba922ed9442f136238d6bc88b
||||||| 6d93b645
   "id": "f18d97b7",
=======
   "id": "ac00a256",
>>>>>>> documentation-devel
||||||| 804edffb
<<<<<<< HEAD
<<<<<<< HEAD
<<<<<<< HEAD
   "id": "5c371f7f",
||||||| 6a30bf1
   "id": "a2f8ca2d",
=======
   "id": "0fb58591",
>>>>>>> documentation-devel
||||||| d28b18c
   "id": "0fb58591",
=======
   "id": "f18d97b7",
>>>>>>> documentation-devel
||||||| 6893f63
<<<<<<< HEAD
   "id": "5c371f7f",
||||||| 6a30bf1
   "id": "a2f8ca2d",
=======
   "id": "0fb58591",
>>>>>>> documentation-devel
=======
   "id": "5fd5c80f",
>>>>>>> c74c98c2450c2a1ba922ed9442f136238d6bc88b
=======
   "id": "eab27fb7",
>>>>>>> 035bb2637984ead2784fecff78c0c60cc4181202
=======
   "id": "b4594343",
>>>>>>> 619c01f26351d57ac14d974b7af136ac5756103f
   "metadata": {},
   "outputs": [],
   "source": [
    "list.files(\"outs/spatial\")"
   ]
  },
  {
   "cell_type": "markdown",
<<<<<<< HEAD
<<<<<<< HEAD
<<<<<<< HEAD
<<<<<<< HEAD
<<<<<<< HEAD
<<<<<<< HEAD
<<<<<<< HEAD
   "id": "7ca5886f",
||||||| 6a30bf1
   "id": "b582ab64",
=======
   "id": "c1e369c8",
>>>>>>> documentation-devel
||||||| d28b18c
   "id": "c1e369c8",
=======
   "id": "b836ad55",
>>>>>>> documentation-devel
||||||| 6893f63
<<<<<<< HEAD
   "id": "7ca5886f",
||||||| 6a30bf1
   "id": "b582ab64",
=======
   "id": "c1e369c8",
>>>>>>> documentation-devel
=======
   "id": "f3a9d510",
>>>>>>> c74c98c2450c2a1ba922ed9442f136238d6bc88b
||||||| 6d93b645
   "id": "b836ad55",
=======
   "id": "a7429130",
>>>>>>> documentation-devel
||||||| 804edffb
<<<<<<< HEAD
<<<<<<< HEAD
<<<<<<< HEAD
   "id": "7ca5886f",
||||||| 6a30bf1
   "id": "b582ab64",
=======
   "id": "c1e369c8",
>>>>>>> documentation-devel
||||||| d28b18c
   "id": "c1e369c8",
=======
   "id": "b836ad55",
>>>>>>> documentation-devel
||||||| 6893f63
<<<<<<< HEAD
   "id": "7ca5886f",
||||||| 6a30bf1
   "id": "b582ab64",
=======
   "id": "c1e369c8",
>>>>>>> documentation-devel
=======
   "id": "f3a9d510",
>>>>>>> c74c98c2450c2a1ba922ed9442f136238d6bc88b
=======
   "id": "1380e5d9",
>>>>>>> 035bb2637984ead2784fecff78c0c60cc4181202
||||||| 3effdfa5
   "id": "a7429130",
=======
   "id": "dfd12d09",
>>>>>>> documentation-devel
||||||| 96c826da
<<<<<<< HEAD
<<<<<<< HEAD
<<<<<<< HEAD
<<<<<<< HEAD
<<<<<<< HEAD
   "id": "7ca5886f",
||||||| 6a30bf1
   "id": "b582ab64",
=======
   "id": "c1e369c8",
>>>>>>> documentation-devel
||||||| d28b18c
   "id": "c1e369c8",
=======
   "id": "b836ad55",
>>>>>>> documentation-devel
||||||| 6893f63
<<<<<<< HEAD
   "id": "7ca5886f",
||||||| 6a30bf1
   "id": "b582ab64",
=======
   "id": "c1e369c8",
>>>>>>> documentation-devel
=======
   "id": "f3a9d510",
>>>>>>> c74c98c2450c2a1ba922ed9442f136238d6bc88b
||||||| 6d93b645
   "id": "b836ad55",
=======
   "id": "a7429130",
>>>>>>> documentation-devel
||||||| 804edffb
<<<<<<< HEAD
<<<<<<< HEAD
<<<<<<< HEAD
   "id": "7ca5886f",
||||||| 6a30bf1
   "id": "b582ab64",
=======
   "id": "c1e369c8",
>>>>>>> documentation-devel
||||||| d28b18c
   "id": "c1e369c8",
=======
   "id": "b836ad55",
>>>>>>> documentation-devel
||||||| 6893f63
<<<<<<< HEAD
   "id": "7ca5886f",
||||||| 6a30bf1
   "id": "b582ab64",
=======
   "id": "c1e369c8",
>>>>>>> documentation-devel
=======
   "id": "f3a9d510",
>>>>>>> c74c98c2450c2a1ba922ed9442f136238d6bc88b
=======
   "id": "1380e5d9",
>>>>>>> 035bb2637984ead2784fecff78c0c60cc4181202
=======
   "id": "40c2eb7f",
>>>>>>> 619c01f26351d57ac14d974b7af136ac5756103f
   "metadata": {},
   "source": [
    "The outputs in the spatial directory is explained [here on the 10X website](https://support.10xgenomics.com/spatial-gene-expression/software/pipelines/latest/output/spatial).\n",
    "\n",
    "The `tissue_hires_image.png` is a relatively high resolution image of the tissue, but not full resolution. The `tissue_lowres_image.png` file is a low resolution image of the tissue, suitable for quick plotting, and is shown here:\n",
    "![tissue_lowres_image.png](https://raw.githubusercontent.com/pachterlab/voyager/documentation/vignettes/tissue_lowres_image.png)\n",
    "\n",
    "The array of dots framing the tissue seen in this image is the fiducials, used to align the tissue image to the positions of the Visium spots, so gene expression can be matched to spatial locations. The alignment of the fiducials is shown in `aligned_fiducials.jpg`. Space Ranger can automatically detect which spots are in tissue, and these spots are highlighted in `detected_tissue_image.jpg`. \n",
    "\n",
    "Inside the `scalefactors_json.json` file:"
   ]
  },
  {
   "cell_type": "code",
   "execution_count": null,
<<<<<<< HEAD
<<<<<<< HEAD
<<<<<<< HEAD
<<<<<<< HEAD
<<<<<<< HEAD
<<<<<<< HEAD
<<<<<<< HEAD
   "id": "f54cf8ed",
||||||| 6a30bf1
   "id": "398e589f",
=======
   "id": "1712bde1",
>>>>>>> documentation-devel
||||||| d28b18c
   "id": "1712bde1",
=======
   "id": "986d6052",
>>>>>>> documentation-devel
||||||| 6893f63
<<<<<<< HEAD
   "id": "f54cf8ed",
||||||| 6a30bf1
   "id": "398e589f",
=======
   "id": "1712bde1",
>>>>>>> documentation-devel
=======
   "id": "7add8354",
>>>>>>> c74c98c2450c2a1ba922ed9442f136238d6bc88b
||||||| 6d93b645
   "id": "986d6052",
=======
   "id": "276686a5",
>>>>>>> documentation-devel
||||||| 804edffb
<<<<<<< HEAD
<<<<<<< HEAD
<<<<<<< HEAD
   "id": "f54cf8ed",
||||||| 6a30bf1
   "id": "398e589f",
=======
   "id": "1712bde1",
>>>>>>> documentation-devel
||||||| d28b18c
   "id": "1712bde1",
=======
   "id": "986d6052",
>>>>>>> documentation-devel
||||||| 6893f63
<<<<<<< HEAD
   "id": "f54cf8ed",
||||||| 6a30bf1
   "id": "398e589f",
=======
   "id": "1712bde1",
>>>>>>> documentation-devel
=======
   "id": "7add8354",
>>>>>>> c74c98c2450c2a1ba922ed9442f136238d6bc88b
=======
   "id": "f7080cee",
>>>>>>> 035bb2637984ead2784fecff78c0c60cc4181202
||||||| 3effdfa5
   "id": "276686a5",
=======
   "id": "6d3765b7",
>>>>>>> documentation-devel
||||||| 96c826da
<<<<<<< HEAD
<<<<<<< HEAD
<<<<<<< HEAD
<<<<<<< HEAD
<<<<<<< HEAD
   "id": "f54cf8ed",
||||||| 6a30bf1
   "id": "398e589f",
=======
   "id": "1712bde1",
>>>>>>> documentation-devel
||||||| d28b18c
   "id": "1712bde1",
=======
   "id": "986d6052",
>>>>>>> documentation-devel
||||||| 6893f63
<<<<<<< HEAD
   "id": "f54cf8ed",
||||||| 6a30bf1
   "id": "398e589f",
=======
   "id": "1712bde1",
>>>>>>> documentation-devel
=======
   "id": "7add8354",
>>>>>>> c74c98c2450c2a1ba922ed9442f136238d6bc88b
||||||| 6d93b645
   "id": "986d6052",
=======
   "id": "276686a5",
>>>>>>> documentation-devel
||||||| 804edffb
<<<<<<< HEAD
<<<<<<< HEAD
<<<<<<< HEAD
   "id": "f54cf8ed",
||||||| 6a30bf1
   "id": "398e589f",
=======
   "id": "1712bde1",
>>>>>>> documentation-devel
||||||| d28b18c
   "id": "1712bde1",
=======
   "id": "986d6052",
>>>>>>> documentation-devel
||||||| 6893f63
<<<<<<< HEAD
   "id": "f54cf8ed",
||||||| 6a30bf1
   "id": "398e589f",
=======
   "id": "1712bde1",
>>>>>>> documentation-devel
=======
   "id": "7add8354",
>>>>>>> c74c98c2450c2a1ba922ed9442f136238d6bc88b
=======
   "id": "f7080cee",
>>>>>>> 035bb2637984ead2784fecff78c0c60cc4181202
=======
   "id": "0a7144f2",
>>>>>>> 619c01f26351d57ac14d974b7af136ac5756103f
   "metadata": {
    "lines_to_next_cell": 0
   },
   "outputs": [],
   "source": [
    "fromJSON(file = \"outs/spatial/scalefactors_json.json\")"
   ]
  },
  {
   "cell_type": "markdown",
<<<<<<< HEAD
<<<<<<< HEAD
<<<<<<< HEAD
<<<<<<< HEAD
<<<<<<< HEAD
<<<<<<< HEAD
<<<<<<< HEAD
   "id": "5df65e08",
||||||| 6a30bf1
   "id": "7470730f",
=======
   "id": "561b4b29",
>>>>>>> documentation-devel
||||||| d28b18c
   "id": "561b4b29",
=======
   "id": "8891303b",
>>>>>>> documentation-devel
||||||| 6893f63
<<<<<<< HEAD
   "id": "5df65e08",
||||||| 6a30bf1
   "id": "7470730f",
=======
   "id": "561b4b29",
>>>>>>> documentation-devel
=======
   "id": "4925afbf",
>>>>>>> c74c98c2450c2a1ba922ed9442f136238d6bc88b
||||||| 6d93b645
   "id": "8891303b",
=======
   "id": "0dec0c76",
>>>>>>> documentation-devel
||||||| 804edffb
<<<<<<< HEAD
<<<<<<< HEAD
<<<<<<< HEAD
   "id": "5df65e08",
||||||| 6a30bf1
   "id": "7470730f",
=======
   "id": "561b4b29",
>>>>>>> documentation-devel
||||||| d28b18c
   "id": "561b4b29",
=======
   "id": "8891303b",
>>>>>>> documentation-devel
||||||| 6893f63
<<<<<<< HEAD
   "id": "5df65e08",
||||||| 6a30bf1
   "id": "7470730f",
=======
   "id": "561b4b29",
>>>>>>> documentation-devel
=======
   "id": "4925afbf",
>>>>>>> c74c98c2450c2a1ba922ed9442f136238d6bc88b
=======
   "id": "ff3f915a",
>>>>>>> 035bb2637984ead2784fecff78c0c60cc4181202
||||||| 3effdfa5
   "id": "0dec0c76",
=======
   "id": "7ea4e704",
>>>>>>> documentation-devel
||||||| 96c826da
<<<<<<< HEAD
<<<<<<< HEAD
<<<<<<< HEAD
<<<<<<< HEAD
<<<<<<< HEAD
   "id": "5df65e08",
||||||| 6a30bf1
   "id": "7470730f",
=======
   "id": "561b4b29",
>>>>>>> documentation-devel
||||||| d28b18c
   "id": "561b4b29",
=======
   "id": "8891303b",
>>>>>>> documentation-devel
||||||| 6893f63
<<<<<<< HEAD
   "id": "5df65e08",
||||||| 6a30bf1
   "id": "7470730f",
=======
   "id": "561b4b29",
>>>>>>> documentation-devel
=======
   "id": "4925afbf",
>>>>>>> c74c98c2450c2a1ba922ed9442f136238d6bc88b
||||||| 6d93b645
   "id": "8891303b",
=======
   "id": "0dec0c76",
>>>>>>> documentation-devel
||||||| 804edffb
<<<<<<< HEAD
<<<<<<< HEAD
<<<<<<< HEAD
   "id": "5df65e08",
||||||| 6a30bf1
   "id": "7470730f",
=======
   "id": "561b4b29",
>>>>>>> documentation-devel
||||||| d28b18c
   "id": "561b4b29",
=======
   "id": "8891303b",
>>>>>>> documentation-devel
||||||| 6893f63
<<<<<<< HEAD
   "id": "5df65e08",
||||||| 6a30bf1
   "id": "7470730f",
=======
   "id": "561b4b29",
>>>>>>> documentation-devel
=======
   "id": "4925afbf",
>>>>>>> c74c98c2450c2a1ba922ed9442f136238d6bc88b
=======
   "id": "ff3f915a",
>>>>>>> 035bb2637984ead2784fecff78c0c60cc4181202
=======
   "id": "330fc4dc",
>>>>>>> 619c01f26351d57ac14d974b7af136ac5756103f
   "metadata": {
    "lines_to_next_cell": 0
   },
   "source": [
    "`spot_diameter_fullres` is the diameter of each Visium spot in the full resolution H&E image in pixels. `tissue_hires_scalef` and `tissue_lowres_scalef` are the ratio of the size of the high resolution (but not full resolution) and low resolution H&E image to the full resolution image. `fiducial_diameter_fullres` is the diameter of each fiducial spot used to align the spots to the H&E image in pixels in the full resolution image.\n",
    "\n",
    "The `tissue_positions_list.csv` file contains information for the coordinates of the spots in the full resolution image and whether each spot is in tissue (`in_tissue`, 1 means yes and 0 means no) as automatically detected by Space Ranger or manually annotated in the Loupe browser."
   ]
  },
  {
   "cell_type": "code",
   "execution_count": null,
<<<<<<< HEAD
<<<<<<< HEAD
<<<<<<< HEAD
<<<<<<< HEAD
<<<<<<< HEAD
<<<<<<< HEAD
<<<<<<< HEAD
   "id": "e98e8065",
||||||| 6a30bf1
   "id": "8a34c69c",
=======
   "id": "81c5685e",
>>>>>>> documentation-devel
||||||| d28b18c
   "id": "81c5685e",
=======
   "id": "33842107",
>>>>>>> documentation-devel
||||||| 6893f63
<<<<<<< HEAD
   "id": "e98e8065",
||||||| 6a30bf1
   "id": "8a34c69c",
=======
   "id": "81c5685e",
>>>>>>> documentation-devel
=======
   "id": "abaded9e",
>>>>>>> c74c98c2450c2a1ba922ed9442f136238d6bc88b
||||||| 6d93b645
   "id": "33842107",
=======
   "id": "873fcb87",
>>>>>>> documentation-devel
||||||| 804edffb
<<<<<<< HEAD
<<<<<<< HEAD
<<<<<<< HEAD
   "id": "e98e8065",
||||||| 6a30bf1
   "id": "8a34c69c",
=======
   "id": "81c5685e",
>>>>>>> documentation-devel
||||||| d28b18c
   "id": "81c5685e",
=======
   "id": "33842107",
>>>>>>> documentation-devel
||||||| 6893f63
<<<<<<< HEAD
   "id": "e98e8065",
||||||| 6a30bf1
   "id": "8a34c69c",
=======
   "id": "81c5685e",
>>>>>>> documentation-devel
=======
   "id": "abaded9e",
>>>>>>> c74c98c2450c2a1ba922ed9442f136238d6bc88b
=======
   "id": "cad9e1de",
>>>>>>> 035bb2637984ead2784fecff78c0c60cc4181202
||||||| 3effdfa5
   "id": "873fcb87",
=======
   "id": "5da00481",
>>>>>>> documentation-devel
||||||| 96c826da
<<<<<<< HEAD
<<<<<<< HEAD
<<<<<<< HEAD
<<<<<<< HEAD
<<<<<<< HEAD
   "id": "e98e8065",
||||||| 6a30bf1
   "id": "8a34c69c",
=======
   "id": "81c5685e",
>>>>>>> documentation-devel
||||||| d28b18c
   "id": "81c5685e",
=======
   "id": "33842107",
>>>>>>> documentation-devel
||||||| 6893f63
<<<<<<< HEAD
   "id": "e98e8065",
||||||| 6a30bf1
   "id": "8a34c69c",
=======
   "id": "81c5685e",
>>>>>>> documentation-devel
=======
   "id": "abaded9e",
>>>>>>> c74c98c2450c2a1ba922ed9442f136238d6bc88b
||||||| 6d93b645
   "id": "33842107",
=======
   "id": "873fcb87",
>>>>>>> documentation-devel
||||||| 804edffb
<<<<<<< HEAD
<<<<<<< HEAD
<<<<<<< HEAD
   "id": "e98e8065",
||||||| 6a30bf1
   "id": "8a34c69c",
=======
   "id": "81c5685e",
>>>>>>> documentation-devel
||||||| d28b18c
   "id": "81c5685e",
=======
   "id": "33842107",
>>>>>>> documentation-devel
||||||| 6893f63
<<<<<<< HEAD
   "id": "e98e8065",
||||||| 6a30bf1
   "id": "8a34c69c",
=======
   "id": "81c5685e",
>>>>>>> documentation-devel
=======
   "id": "abaded9e",
>>>>>>> c74c98c2450c2a1ba922ed9442f136238d6bc88b
=======
   "id": "cad9e1de",
>>>>>>> 035bb2637984ead2784fecff78c0c60cc4181202
=======
   "id": "7dd965b2",
>>>>>>> 619c01f26351d57ac14d974b7af136ac5756103f
   "metadata": {},
   "outputs": [],
   "source": [
    "head(read.csv(\"outs/spatial/tissue_positions.csv\"))"
   ]
  },
  {
   "cell_type": "markdown",
<<<<<<< HEAD
<<<<<<< HEAD
<<<<<<< HEAD
<<<<<<< HEAD
<<<<<<< HEAD
<<<<<<< HEAD
<<<<<<< HEAD
   "id": "7d50346d",
||||||| 6a30bf1
   "id": "2737ab05",
=======
   "id": "7b18d116",
>>>>>>> documentation-devel
||||||| d28b18c
   "id": "7b18d116",
=======
   "id": "3452f93a",
>>>>>>> documentation-devel
||||||| 6893f63
<<<<<<< HEAD
   "id": "7d50346d",
||||||| 6a30bf1
   "id": "2737ab05",
=======
   "id": "7b18d116",
>>>>>>> documentation-devel
=======
   "id": "fb5a2dc7",
>>>>>>> c74c98c2450c2a1ba922ed9442f136238d6bc88b
||||||| 6d93b645
   "id": "3452f93a",
=======
   "id": "fcb3dde2",
>>>>>>> documentation-devel
||||||| 804edffb
<<<<<<< HEAD
<<<<<<< HEAD
<<<<<<< HEAD
   "id": "7d50346d",
||||||| 6a30bf1
   "id": "2737ab05",
=======
   "id": "7b18d116",
>>>>>>> documentation-devel
||||||| d28b18c
   "id": "7b18d116",
=======
   "id": "3452f93a",
>>>>>>> documentation-devel
||||||| 6893f63
<<<<<<< HEAD
   "id": "7d50346d",
||||||| 6a30bf1
   "id": "2737ab05",
=======
   "id": "7b18d116",
>>>>>>> documentation-devel
=======
   "id": "fb5a2dc7",
>>>>>>> c74c98c2450c2a1ba922ed9442f136238d6bc88b
=======
   "id": "b35ad407",
>>>>>>> 035bb2637984ead2784fecff78c0c60cc4181202
||||||| 3effdfa5
   "id": "fcb3dde2",
=======
   "id": "b2827fc9",
>>>>>>> documentation-devel
||||||| 96c826da
<<<<<<< HEAD
<<<<<<< HEAD
<<<<<<< HEAD
<<<<<<< HEAD
<<<<<<< HEAD
   "id": "7d50346d",
||||||| 6a30bf1
   "id": "2737ab05",
=======
   "id": "7b18d116",
>>>>>>> documentation-devel
||||||| d28b18c
   "id": "7b18d116",
=======
   "id": "3452f93a",
>>>>>>> documentation-devel
||||||| 6893f63
<<<<<<< HEAD
   "id": "7d50346d",
||||||| 6a30bf1
   "id": "2737ab05",
=======
   "id": "7b18d116",
>>>>>>> documentation-devel
=======
   "id": "fb5a2dc7",
>>>>>>> c74c98c2450c2a1ba922ed9442f136238d6bc88b
||||||| 6d93b645
   "id": "3452f93a",
=======
   "id": "fcb3dde2",
>>>>>>> documentation-devel
||||||| 804edffb
<<<<<<< HEAD
<<<<<<< HEAD
<<<<<<< HEAD
   "id": "7d50346d",
||||||| 6a30bf1
   "id": "2737ab05",
=======
   "id": "7b18d116",
>>>>>>> documentation-devel
||||||| d28b18c
   "id": "7b18d116",
=======
   "id": "3452f93a",
>>>>>>> documentation-devel
||||||| 6893f63
<<<<<<< HEAD
   "id": "7d50346d",
||||||| 6a30bf1
   "id": "2737ab05",
=======
   "id": "7b18d116",
>>>>>>> documentation-devel
=======
   "id": "fb5a2dc7",
>>>>>>> c74c98c2450c2a1ba922ed9442f136238d6bc88b
=======
   "id": "b35ad407",
>>>>>>> 035bb2637984ead2784fecff78c0c60cc4181202
=======
   "id": "00d6f813",
>>>>>>> 619c01f26351d57ac14d974b7af136ac5756103f
   "metadata": {
    "lines_to_next_cell": 0
   },
   "source": [
    "The `spatial_enrichment.csv` file has Moran's I (presumably for spots in tissue) and its p-value for each gene that is detected in at least 10 spots and has at least 20 UMIs. "
   ]
  },
  {
   "cell_type": "code",
   "execution_count": null,
<<<<<<< HEAD
<<<<<<< HEAD
<<<<<<< HEAD
<<<<<<< HEAD
<<<<<<< HEAD
<<<<<<< HEAD
<<<<<<< HEAD
   "id": "d2ed8bac",
||||||| 6a30bf1
   "id": "cfe5f566",
=======
   "id": "c41c03ef",
>>>>>>> documentation-devel
||||||| d28b18c
   "id": "c41c03ef",
=======
   "id": "7b1e52df",
>>>>>>> documentation-devel
||||||| 6893f63
<<<<<<< HEAD
   "id": "d2ed8bac",
||||||| 6a30bf1
   "id": "cfe5f566",
=======
   "id": "c41c03ef",
>>>>>>> documentation-devel
=======
   "id": "f3f43bf2",
>>>>>>> c74c98c2450c2a1ba922ed9442f136238d6bc88b
||||||| 6d93b645
   "id": "7b1e52df",
=======
   "id": "d53a4bd4",
>>>>>>> documentation-devel
||||||| 804edffb
<<<<<<< HEAD
<<<<<<< HEAD
<<<<<<< HEAD
   "id": "d2ed8bac",
||||||| 6a30bf1
   "id": "cfe5f566",
=======
   "id": "c41c03ef",
>>>>>>> documentation-devel
||||||| d28b18c
   "id": "c41c03ef",
=======
   "id": "7b1e52df",
>>>>>>> documentation-devel
||||||| 6893f63
<<<<<<< HEAD
   "id": "d2ed8bac",
||||||| 6a30bf1
   "id": "cfe5f566",
=======
   "id": "c41c03ef",
>>>>>>> documentation-devel
=======
   "id": "f3f43bf2",
>>>>>>> c74c98c2450c2a1ba922ed9442f136238d6bc88b
=======
   "id": "c2e54d46",
>>>>>>> 035bb2637984ead2784fecff78c0c60cc4181202
||||||| 3effdfa5
   "id": "d53a4bd4",
=======
   "id": "97aa4052",
>>>>>>> documentation-devel
||||||| 96c826da
<<<<<<< HEAD
<<<<<<< HEAD
<<<<<<< HEAD
<<<<<<< HEAD
<<<<<<< HEAD
   "id": "d2ed8bac",
||||||| 6a30bf1
   "id": "cfe5f566",
=======
   "id": "c41c03ef",
>>>>>>> documentation-devel
||||||| d28b18c
   "id": "c41c03ef",
=======
   "id": "7b1e52df",
>>>>>>> documentation-devel
||||||| 6893f63
<<<<<<< HEAD
   "id": "d2ed8bac",
||||||| 6a30bf1
   "id": "cfe5f566",
=======
   "id": "c41c03ef",
>>>>>>> documentation-devel
=======
   "id": "f3f43bf2",
>>>>>>> c74c98c2450c2a1ba922ed9442f136238d6bc88b
||||||| 6d93b645
   "id": "7b1e52df",
=======
   "id": "d53a4bd4",
>>>>>>> documentation-devel
||||||| 804edffb
<<<<<<< HEAD
<<<<<<< HEAD
<<<<<<< HEAD
   "id": "d2ed8bac",
||||||| 6a30bf1
   "id": "cfe5f566",
=======
   "id": "c41c03ef",
>>>>>>> documentation-devel
||||||| d28b18c
   "id": "c41c03ef",
=======
   "id": "7b1e52df",
>>>>>>> documentation-devel
||||||| 6893f63
<<<<<<< HEAD
   "id": "d2ed8bac",
||||||| 6a30bf1
   "id": "cfe5f566",
=======
   "id": "c41c03ef",
>>>>>>> documentation-devel
=======
   "id": "f3f43bf2",
>>>>>>> c74c98c2450c2a1ba922ed9442f136238d6bc88b
=======
   "id": "c2e54d46",
>>>>>>> 035bb2637984ead2784fecff78c0c60cc4181202
=======
   "id": "777deb60",
>>>>>>> 619c01f26351d57ac14d974b7af136ac5756103f
   "metadata": {},
   "outputs": [],
   "source": [
    "head(read.csv(\"outs/spatial/spatial_enrichment.csv\"))"
   ]
  },
  {
   "cell_type": "markdown",
<<<<<<< HEAD
<<<<<<< HEAD
<<<<<<< HEAD
<<<<<<< HEAD
<<<<<<< HEAD
<<<<<<< HEAD
<<<<<<< HEAD
   "id": "134394c5",
||||||| 6a30bf1
   "id": "9e29b428",
=======
   "id": "c7d4d714",
>>>>>>> documentation-devel
||||||| d28b18c
   "id": "c7d4d714",
=======
   "id": "47d9d66e",
>>>>>>> documentation-devel
||||||| 6893f63
<<<<<<< HEAD
   "id": "134394c5",
||||||| 6a30bf1
   "id": "9e29b428",
=======
   "id": "c7d4d714",
>>>>>>> documentation-devel
=======
   "id": "61276325",
>>>>>>> c74c98c2450c2a1ba922ed9442f136238d6bc88b
||||||| 6d93b645
   "id": "47d9d66e",
=======
   "id": "dc9b0a21",
>>>>>>> documentation-devel
||||||| 804edffb
<<<<<<< HEAD
<<<<<<< HEAD
<<<<<<< HEAD
   "id": "134394c5",
||||||| 6a30bf1
   "id": "9e29b428",
=======
   "id": "c7d4d714",
>>>>>>> documentation-devel
||||||| d28b18c
   "id": "c7d4d714",
=======
   "id": "47d9d66e",
>>>>>>> documentation-devel
||||||| 6893f63
<<<<<<< HEAD
   "id": "134394c5",
||||||| 6a30bf1
   "id": "9e29b428",
=======
   "id": "c7d4d714",
>>>>>>> documentation-devel
=======
   "id": "61276325",
>>>>>>> c74c98c2450c2a1ba922ed9442f136238d6bc88b
=======
   "id": "f1c5c4ff",
>>>>>>> 035bb2637984ead2784fecff78c0c60cc4181202
||||||| 3effdfa5
   "id": "dc9b0a21",
=======
   "id": "fdfff9fa",
>>>>>>> documentation-devel
||||||| 96c826da
<<<<<<< HEAD
<<<<<<< HEAD
<<<<<<< HEAD
<<<<<<< HEAD
<<<<<<< HEAD
   "id": "134394c5",
||||||| 6a30bf1
   "id": "9e29b428",
=======
   "id": "c7d4d714",
>>>>>>> documentation-devel
||||||| d28b18c
   "id": "c7d4d714",
=======
   "id": "47d9d66e",
>>>>>>> documentation-devel
||||||| 6893f63
<<<<<<< HEAD
   "id": "134394c5",
||||||| 6a30bf1
   "id": "9e29b428",
=======
   "id": "c7d4d714",
>>>>>>> documentation-devel
=======
   "id": "61276325",
>>>>>>> c74c98c2450c2a1ba922ed9442f136238d6bc88b
||||||| 6d93b645
   "id": "47d9d66e",
=======
   "id": "dc9b0a21",
>>>>>>> documentation-devel
||||||| 804edffb
<<<<<<< HEAD
<<<<<<< HEAD
<<<<<<< HEAD
   "id": "134394c5",
||||||| 6a30bf1
   "id": "9e29b428",
=======
   "id": "c7d4d714",
>>>>>>> documentation-devel
||||||| d28b18c
   "id": "c7d4d714",
=======
   "id": "47d9d66e",
>>>>>>> documentation-devel
||||||| 6893f63
<<<<<<< HEAD
   "id": "134394c5",
||||||| 6a30bf1
   "id": "9e29b428",
=======
   "id": "c7d4d714",
>>>>>>> documentation-devel
=======
   "id": "61276325",
>>>>>>> c74c98c2450c2a1ba922ed9442f136238d6bc88b
=======
   "id": "f1c5c4ff",
>>>>>>> 035bb2637984ead2784fecff78c0c60cc4181202
=======
   "id": "d43a1cc1",
>>>>>>> 619c01f26351d57ac14d974b7af136ac5756103f
   "metadata": {
    "lines_to_next_cell": 0
   },
   "source": [
    "Here we read the Space Ranger output into R as an SFE object:"
   ]
  },
  {
   "cell_type": "code",
   "execution_count": null,
<<<<<<< HEAD
<<<<<<< HEAD
<<<<<<< HEAD
<<<<<<< HEAD
<<<<<<< HEAD
<<<<<<< HEAD
<<<<<<< HEAD
   "id": "84be9f9c",
||||||| 6a30bf1
   "id": "4ddadbdd",
=======
   "id": "1bcce5de",
>>>>>>> documentation-devel
||||||| d28b18c
   "id": "1bcce5de",
=======
   "id": "bc953073",
>>>>>>> documentation-devel
||||||| 6893f63
<<<<<<< HEAD
   "id": "84be9f9c",
||||||| 6a30bf1
   "id": "4ddadbdd",
=======
   "id": "1bcce5de",
>>>>>>> documentation-devel
=======
   "id": "1c38b8c0",
>>>>>>> c74c98c2450c2a1ba922ed9442f136238d6bc88b
||||||| 6d93b645
   "id": "bc953073",
=======
   "id": "fdc16a12",
>>>>>>> documentation-devel
||||||| 804edffb
<<<<<<< HEAD
<<<<<<< HEAD
<<<<<<< HEAD
   "id": "84be9f9c",
||||||| 6a30bf1
   "id": "4ddadbdd",
=======
   "id": "1bcce5de",
>>>>>>> documentation-devel
||||||| d28b18c
   "id": "1bcce5de",
=======
   "id": "bc953073",
>>>>>>> documentation-devel
||||||| 6893f63
<<<<<<< HEAD
   "id": "84be9f9c",
||||||| 6a30bf1
   "id": "4ddadbdd",
=======
   "id": "1bcce5de",
>>>>>>> documentation-devel
=======
   "id": "1c38b8c0",
>>>>>>> c74c98c2450c2a1ba922ed9442f136238d6bc88b
=======
   "id": "95d2995f",
>>>>>>> 035bb2637984ead2784fecff78c0c60cc4181202
||||||| 3effdfa5
   "id": "fdc16a12",
=======
   "id": "a65da14d",
>>>>>>> documentation-devel
||||||| 96c826da
<<<<<<< HEAD
<<<<<<< HEAD
<<<<<<< HEAD
<<<<<<< HEAD
<<<<<<< HEAD
   "id": "84be9f9c",
||||||| 6a30bf1
   "id": "4ddadbdd",
=======
   "id": "1bcce5de",
>>>>>>> documentation-devel
||||||| d28b18c
   "id": "1bcce5de",
=======
   "id": "bc953073",
>>>>>>> documentation-devel
||||||| 6893f63
<<<<<<< HEAD
   "id": "84be9f9c",
||||||| 6a30bf1
   "id": "4ddadbdd",
=======
   "id": "1bcce5de",
>>>>>>> documentation-devel
=======
   "id": "1c38b8c0",
>>>>>>> c74c98c2450c2a1ba922ed9442f136238d6bc88b
||||||| 6d93b645
   "id": "bc953073",
=======
   "id": "fdc16a12",
>>>>>>> documentation-devel
||||||| 804edffb
<<<<<<< HEAD
<<<<<<< HEAD
<<<<<<< HEAD
   "id": "84be9f9c",
||||||| 6a30bf1
   "id": "4ddadbdd",
=======
   "id": "1bcce5de",
>>>>>>> documentation-devel
||||||| d28b18c
   "id": "1bcce5de",
=======
   "id": "bc953073",
>>>>>>> documentation-devel
||||||| 6893f63
<<<<<<< HEAD
   "id": "84be9f9c",
||||||| 6a30bf1
   "id": "4ddadbdd",
=======
   "id": "1bcce5de",
>>>>>>> documentation-devel
=======
   "id": "1c38b8c0",
>>>>>>> c74c98c2450c2a1ba922ed9442f136238d6bc88b
=======
   "id": "95d2995f",
>>>>>>> 035bb2637984ead2784fecff78c0c60cc4181202
=======
   "id": "cfb91622",
>>>>>>> 619c01f26351d57ac14d974b7af136ac5756103f
   "metadata": {},
   "outputs": [],
   "source": [
    "(sfe <- read10xVisiumSFE(samples = \".\", type = \"sparse\", data = \"raw\"))"
   ]
  },
  {
   "cell_type": "markdown",
<<<<<<< HEAD
<<<<<<< HEAD
<<<<<<< HEAD
<<<<<<< HEAD
<<<<<<< HEAD
<<<<<<< HEAD
<<<<<<< HEAD
   "id": "fea1b26d",
||||||| 6a30bf1
   "id": "492e3ccb",
=======
   "id": "8b276465",
>>>>>>> documentation-devel
||||||| d28b18c
   "id": "8b276465",
=======
   "id": "5a40f7d2",
>>>>>>> documentation-devel
||||||| 6893f63
<<<<<<< HEAD
   "id": "fea1b26d",
||||||| 6a30bf1
   "id": "492e3ccb",
=======
   "id": "8b276465",
>>>>>>> documentation-devel
=======
   "id": "e6eec3f5",
>>>>>>> c74c98c2450c2a1ba922ed9442f136238d6bc88b
||||||| 6d93b645
   "id": "5a40f7d2",
=======
   "id": "ebcfc7bd",
>>>>>>> documentation-devel
||||||| 804edffb
<<<<<<< HEAD
<<<<<<< HEAD
<<<<<<< HEAD
   "id": "fea1b26d",
||||||| 6a30bf1
   "id": "492e3ccb",
=======
   "id": "8b276465",
>>>>>>> documentation-devel
||||||| d28b18c
   "id": "8b276465",
=======
   "id": "5a40f7d2",
>>>>>>> documentation-devel
||||||| 6893f63
<<<<<<< HEAD
   "id": "fea1b26d",
||||||| 6a30bf1
   "id": "492e3ccb",
=======
   "id": "8b276465",
>>>>>>> documentation-devel
=======
   "id": "e6eec3f5",
>>>>>>> c74c98c2450c2a1ba922ed9442f136238d6bc88b
=======
   "id": "b7993266",
>>>>>>> 035bb2637984ead2784fecff78c0c60cc4181202
||||||| 3effdfa5
   "id": "ebcfc7bd",
=======
   "id": "e74feb6c",
>>>>>>> documentation-devel
||||||| 96c826da
<<<<<<< HEAD
<<<<<<< HEAD
<<<<<<< HEAD
<<<<<<< HEAD
<<<<<<< HEAD
   "id": "fea1b26d",
||||||| 6a30bf1
   "id": "492e3ccb",
=======
   "id": "8b276465",
>>>>>>> documentation-devel
||||||| d28b18c
   "id": "8b276465",
=======
   "id": "5a40f7d2",
>>>>>>> documentation-devel
||||||| 6893f63
<<<<<<< HEAD
   "id": "fea1b26d",
||||||| 6a30bf1
   "id": "492e3ccb",
=======
   "id": "8b276465",
>>>>>>> documentation-devel
=======
   "id": "e6eec3f5",
>>>>>>> c74c98c2450c2a1ba922ed9442f136238d6bc88b
||||||| 6d93b645
   "id": "5a40f7d2",
=======
   "id": "ebcfc7bd",
>>>>>>> documentation-devel
||||||| 804edffb
<<<<<<< HEAD
<<<<<<< HEAD
<<<<<<< HEAD
   "id": "fea1b26d",
||||||| 6a30bf1
   "id": "492e3ccb",
=======
   "id": "8b276465",
>>>>>>> documentation-devel
||||||| d28b18c
   "id": "8b276465",
=======
   "id": "5a40f7d2",
>>>>>>> documentation-devel
||||||| 6893f63
<<<<<<< HEAD
   "id": "fea1b26d",
||||||| 6a30bf1
   "id": "492e3ccb",
=======
   "id": "8b276465",
>>>>>>> documentation-devel
=======
   "id": "e6eec3f5",
>>>>>>> c74c98c2450c2a1ba922ed9442f136238d6bc88b
=======
   "id": "b7993266",
>>>>>>> 035bb2637984ead2784fecff78c0c60cc4181202
=======
   "id": "038e306a",
>>>>>>> 619c01f26351d57ac14d974b7af136ac5756103f
   "metadata": {
    "lines_to_next_cell": 0
   },
   "source": [
    "# Quality control (QC)"
   ]
  },
  {
   "cell_type": "code",
   "execution_count": null,
<<<<<<< HEAD
<<<<<<< HEAD
<<<<<<< HEAD
<<<<<<< HEAD
<<<<<<< HEAD
<<<<<<< HEAD
<<<<<<< HEAD
   "id": "ca405bd3",
||||||| 6a30bf1
   "id": "9c467944",
=======
   "id": "71653a2b",
>>>>>>> documentation-devel
||||||| d28b18c
   "id": "71653a2b",
=======
   "id": "9d153bce",
>>>>>>> documentation-devel
||||||| 6893f63
<<<<<<< HEAD
   "id": "ca405bd3",
||||||| 6a30bf1
   "id": "9c467944",
=======
   "id": "71653a2b",
>>>>>>> documentation-devel
=======
   "id": "aadc4799",
>>>>>>> c74c98c2450c2a1ba922ed9442f136238d6bc88b
||||||| 6d93b645
   "id": "9d153bce",
=======
   "id": "5d8c3a56",
>>>>>>> documentation-devel
||||||| 804edffb
<<<<<<< HEAD
<<<<<<< HEAD
<<<<<<< HEAD
   "id": "ca405bd3",
||||||| 6a30bf1
   "id": "9c467944",
=======
   "id": "71653a2b",
>>>>>>> documentation-devel
||||||| d28b18c
   "id": "71653a2b",
=======
   "id": "9d153bce",
>>>>>>> documentation-devel
||||||| 6893f63
<<<<<<< HEAD
   "id": "ca405bd3",
||||||| 6a30bf1
   "id": "9c467944",
=======
   "id": "71653a2b",
>>>>>>> documentation-devel
=======
   "id": "aadc4799",
>>>>>>> c74c98c2450c2a1ba922ed9442f136238d6bc88b
=======
   "id": "3e35465d",
>>>>>>> 035bb2637984ead2784fecff78c0c60cc4181202
||||||| 3effdfa5
   "id": "5d8c3a56",
=======
   "id": "8623f21c",
>>>>>>> documentation-devel
||||||| 96c826da
<<<<<<< HEAD
<<<<<<< HEAD
<<<<<<< HEAD
<<<<<<< HEAD
<<<<<<< HEAD
   "id": "ca405bd3",
||||||| 6a30bf1
   "id": "9c467944",
=======
   "id": "71653a2b",
>>>>>>> documentation-devel
||||||| d28b18c
   "id": "71653a2b",
=======
   "id": "9d153bce",
>>>>>>> documentation-devel
||||||| 6893f63
<<<<<<< HEAD
   "id": "ca405bd3",
||||||| 6a30bf1
   "id": "9c467944",
=======
   "id": "71653a2b",
>>>>>>> documentation-devel
=======
   "id": "aadc4799",
>>>>>>> c74c98c2450c2a1ba922ed9442f136238d6bc88b
||||||| 6d93b645
   "id": "9d153bce",
=======
   "id": "5d8c3a56",
>>>>>>> documentation-devel
||||||| 804edffb
<<<<<<< HEAD
<<<<<<< HEAD
<<<<<<< HEAD
   "id": "ca405bd3",
||||||| 6a30bf1
   "id": "9c467944",
=======
   "id": "71653a2b",
>>>>>>> documentation-devel
||||||| d28b18c
   "id": "71653a2b",
=======
   "id": "9d153bce",
>>>>>>> documentation-devel
||||||| 6893f63
<<<<<<< HEAD
   "id": "ca405bd3",
||||||| 6a30bf1
   "id": "9c467944",
=======
   "id": "71653a2b",
>>>>>>> documentation-devel
=======
   "id": "aadc4799",
>>>>>>> c74c98c2450c2a1ba922ed9442f136238d6bc88b
=======
   "id": "3e35465d",
>>>>>>> 035bb2637984ead2784fecff78c0c60cc4181202
=======
   "id": "89ebd70a",
>>>>>>> 619c01f26351d57ac14d974b7af136ac5756103f
   "metadata": {},
   "outputs": [],
   "source": [
    "is_mt <- str_detect(rowData(sfe)$symbol, \"^mt-\")"
   ]
  },
  {
   "cell_type": "code",
   "execution_count": null,
<<<<<<< HEAD
<<<<<<< HEAD
<<<<<<< HEAD
<<<<<<< HEAD
<<<<<<< HEAD
<<<<<<< HEAD
<<<<<<< HEAD
   "id": "71365457",
||||||| 6a30bf1
   "id": "2a8dfc54",
=======
   "id": "13013945",
>>>>>>> documentation-devel
||||||| d28b18c
   "id": "13013945",
=======
   "id": "87d979e5",
>>>>>>> documentation-devel
||||||| 6893f63
<<<<<<< HEAD
   "id": "71365457",
||||||| 6a30bf1
   "id": "2a8dfc54",
=======
   "id": "13013945",
>>>>>>> documentation-devel
=======
   "id": "6b426b86",
>>>>>>> c74c98c2450c2a1ba922ed9442f136238d6bc88b
||||||| 6d93b645
   "id": "87d979e5",
=======
   "id": "09aba322",
>>>>>>> documentation-devel
||||||| 804edffb
<<<<<<< HEAD
<<<<<<< HEAD
<<<<<<< HEAD
   "id": "71365457",
||||||| 6a30bf1
   "id": "2a8dfc54",
=======
   "id": "13013945",
>>>>>>> documentation-devel
||||||| d28b18c
   "id": "13013945",
=======
   "id": "87d979e5",
>>>>>>> documentation-devel
||||||| 6893f63
<<<<<<< HEAD
   "id": "71365457",
||||||| 6a30bf1
   "id": "2a8dfc54",
=======
   "id": "13013945",
>>>>>>> documentation-devel
=======
   "id": "6b426b86",
>>>>>>> c74c98c2450c2a1ba922ed9442f136238d6bc88b
=======
   "id": "537527a6",
>>>>>>> 035bb2637984ead2784fecff78c0c60cc4181202
||||||| 3effdfa5
   "id": "09aba322",
=======
   "id": "dcbeb4d2",
>>>>>>> documentation-devel
||||||| 96c826da
<<<<<<< HEAD
<<<<<<< HEAD
<<<<<<< HEAD
<<<<<<< HEAD
<<<<<<< HEAD
   "id": "71365457",
||||||| 6a30bf1
   "id": "2a8dfc54",
=======
   "id": "13013945",
>>>>>>> documentation-devel
||||||| d28b18c
   "id": "13013945",
=======
   "id": "87d979e5",
>>>>>>> documentation-devel
||||||| 6893f63
<<<<<<< HEAD
   "id": "71365457",
||||||| 6a30bf1
   "id": "2a8dfc54",
=======
   "id": "13013945",
>>>>>>> documentation-devel
=======
   "id": "6b426b86",
>>>>>>> c74c98c2450c2a1ba922ed9442f136238d6bc88b
||||||| 6d93b645
   "id": "87d979e5",
=======
   "id": "09aba322",
>>>>>>> documentation-devel
||||||| 804edffb
<<<<<<< HEAD
<<<<<<< HEAD
<<<<<<< HEAD
   "id": "71365457",
||||||| 6a30bf1
   "id": "2a8dfc54",
=======
   "id": "13013945",
>>>>>>> documentation-devel
||||||| d28b18c
   "id": "13013945",
=======
   "id": "87d979e5",
>>>>>>> documentation-devel
||||||| 6893f63
<<<<<<< HEAD
   "id": "71365457",
||||||| 6a30bf1
   "id": "2a8dfc54",
=======
   "id": "13013945",
>>>>>>> documentation-devel
=======
   "id": "6b426b86",
>>>>>>> c74c98c2450c2a1ba922ed9442f136238d6bc88b
=======
   "id": "537527a6",
>>>>>>> 035bb2637984ead2784fecff78c0c60cc4181202
=======
   "id": "96e00299",
>>>>>>> 619c01f26351d57ac14d974b7af136ac5756103f
   "metadata": {},
   "outputs": [],
   "source": [
    "sfe <- addPerCellQCMetrics(sfe, subsets = list(mito = is_mt))"
   ]
  },
  {
   "cell_type": "code",
   "execution_count": null,
<<<<<<< HEAD
<<<<<<< HEAD
<<<<<<< HEAD
<<<<<<< HEAD
<<<<<<< HEAD
<<<<<<< HEAD
<<<<<<< HEAD
   "id": "0e66a94c",
||||||| 6a30bf1
   "id": "13517370",
=======
   "id": "1f549946",
>>>>>>> documentation-devel
||||||| d28b18c
   "id": "1f549946",
=======
   "id": "c8c17802",
>>>>>>> documentation-devel
||||||| 6893f63
<<<<<<< HEAD
   "id": "0e66a94c",
||||||| 6a30bf1
   "id": "13517370",
=======
   "id": "1f549946",
>>>>>>> documentation-devel
=======
   "id": "23f161fd",
>>>>>>> c74c98c2450c2a1ba922ed9442f136238d6bc88b
||||||| 6d93b645
   "id": "c8c17802",
=======
   "id": "8c71fe9b",
>>>>>>> documentation-devel
||||||| 804edffb
<<<<<<< HEAD
<<<<<<< HEAD
<<<<<<< HEAD
   "id": "0e66a94c",
||||||| 6a30bf1
   "id": "13517370",
=======
   "id": "1f549946",
>>>>>>> documentation-devel
||||||| d28b18c
   "id": "1f549946",
=======
   "id": "c8c17802",
>>>>>>> documentation-devel
||||||| 6893f63
<<<<<<< HEAD
   "id": "0e66a94c",
||||||| 6a30bf1
   "id": "13517370",
=======
   "id": "1f549946",
>>>>>>> documentation-devel
=======
   "id": "23f161fd",
>>>>>>> c74c98c2450c2a1ba922ed9442f136238d6bc88b
=======
   "id": "c258d771",
>>>>>>> 035bb2637984ead2784fecff78c0c60cc4181202
||||||| 3effdfa5
   "id": "8c71fe9b",
=======
   "id": "607c0ffc",
>>>>>>> documentation-devel
||||||| 96c826da
<<<<<<< HEAD
<<<<<<< HEAD
<<<<<<< HEAD
<<<<<<< HEAD
<<<<<<< HEAD
   "id": "0e66a94c",
||||||| 6a30bf1
   "id": "13517370",
=======
   "id": "1f549946",
>>>>>>> documentation-devel
||||||| d28b18c
   "id": "1f549946",
=======
   "id": "c8c17802",
>>>>>>> documentation-devel
||||||| 6893f63
<<<<<<< HEAD
   "id": "0e66a94c",
||||||| 6a30bf1
   "id": "13517370",
=======
   "id": "1f549946",
>>>>>>> documentation-devel
=======
   "id": "23f161fd",
>>>>>>> c74c98c2450c2a1ba922ed9442f136238d6bc88b
||||||| 6d93b645
   "id": "c8c17802",
=======
   "id": "8c71fe9b",
>>>>>>> documentation-devel
||||||| 804edffb
<<<<<<< HEAD
<<<<<<< HEAD
<<<<<<< HEAD
   "id": "0e66a94c",
||||||| 6a30bf1
   "id": "13517370",
=======
   "id": "1f549946",
>>>>>>> documentation-devel
||||||| d28b18c
   "id": "1f549946",
=======
   "id": "c8c17802",
>>>>>>> documentation-devel
||||||| 6893f63
<<<<<<< HEAD
   "id": "0e66a94c",
||||||| 6a30bf1
   "id": "13517370",
=======
   "id": "1f549946",
>>>>>>> documentation-devel
=======
   "id": "23f161fd",
>>>>>>> c74c98c2450c2a1ba922ed9442f136238d6bc88b
=======
   "id": "c258d771",
>>>>>>> 035bb2637984ead2784fecff78c0c60cc4181202
=======
   "id": "8af5ebe0",
>>>>>>> 619c01f26351d57ac14d974b7af136ac5756103f
   "metadata": {
    "lines_to_next_cell": 0
   },
   "outputs": [],
   "source": [
    "names(colData(sfe))"
   ]
  },
  {
   "cell_type": "markdown",
<<<<<<< HEAD
<<<<<<< HEAD
<<<<<<< HEAD
<<<<<<< HEAD
<<<<<<< HEAD
<<<<<<< HEAD
<<<<<<< HEAD
   "id": "85402b41",
||||||| 6a30bf1
   "id": "861114e4",
=======
   "id": "84d5cc6c",
>>>>>>> documentation-devel
||||||| d28b18c
   "id": "84d5cc6c",
=======
   "id": "5c22a2b4",
>>>>>>> documentation-devel
||||||| 6893f63
<<<<<<< HEAD
   "id": "85402b41",
||||||| 6a30bf1
   "id": "861114e4",
=======
   "id": "84d5cc6c",
>>>>>>> documentation-devel
=======
   "id": "803fcbbe",
>>>>>>> c74c98c2450c2a1ba922ed9442f136238d6bc88b
||||||| 6d93b645
   "id": "5c22a2b4",
=======
   "id": "0e6ecfcd",
>>>>>>> documentation-devel
||||||| 804edffb
<<<<<<< HEAD
<<<<<<< HEAD
<<<<<<< HEAD
   "id": "85402b41",
||||||| 6a30bf1
   "id": "861114e4",
=======
   "id": "84d5cc6c",
>>>>>>> documentation-devel
||||||| d28b18c
   "id": "84d5cc6c",
=======
   "id": "5c22a2b4",
>>>>>>> documentation-devel
||||||| 6893f63
<<<<<<< HEAD
   "id": "85402b41",
||||||| 6a30bf1
   "id": "861114e4",
=======
   "id": "84d5cc6c",
>>>>>>> documentation-devel
=======
   "id": "803fcbbe",
>>>>>>> c74c98c2450c2a1ba922ed9442f136238d6bc88b
=======
   "id": "462ff5a8",
>>>>>>> 035bb2637984ead2784fecff78c0c60cc4181202
||||||| 3effdfa5
   "id": "0e6ecfcd",
=======
   "id": "2a8f615d",
>>>>>>> documentation-devel
||||||| 96c826da
<<<<<<< HEAD
<<<<<<< HEAD
<<<<<<< HEAD
<<<<<<< HEAD
<<<<<<< HEAD
   "id": "85402b41",
||||||| 6a30bf1
   "id": "861114e4",
=======
   "id": "84d5cc6c",
>>>>>>> documentation-devel
||||||| d28b18c
   "id": "84d5cc6c",
=======
   "id": "5c22a2b4",
>>>>>>> documentation-devel
||||||| 6893f63
<<<<<<< HEAD
   "id": "85402b41",
||||||| 6a30bf1
   "id": "861114e4",
=======
   "id": "84d5cc6c",
>>>>>>> documentation-devel
=======
   "id": "803fcbbe",
>>>>>>> c74c98c2450c2a1ba922ed9442f136238d6bc88b
||||||| 6d93b645
   "id": "5c22a2b4",
=======
   "id": "0e6ecfcd",
>>>>>>> documentation-devel
||||||| 804edffb
<<<<<<< HEAD
<<<<<<< HEAD
<<<<<<< HEAD
   "id": "85402b41",
||||||| 6a30bf1
   "id": "861114e4",
=======
   "id": "84d5cc6c",
>>>>>>> documentation-devel
||||||| d28b18c
   "id": "84d5cc6c",
=======
   "id": "5c22a2b4",
>>>>>>> documentation-devel
||||||| 6893f63
<<<<<<< HEAD
   "id": "85402b41",
||||||| 6a30bf1
   "id": "861114e4",
=======
   "id": "84d5cc6c",
>>>>>>> documentation-devel
=======
   "id": "803fcbbe",
>>>>>>> c74c98c2450c2a1ba922ed9442f136238d6bc88b
=======
   "id": "462ff5a8",
>>>>>>> 035bb2637984ead2784fecff78c0c60cc4181202
=======
   "id": "62dc7ab3",
>>>>>>> 619c01f26351d57ac14d974b7af136ac5756103f
   "metadata": {},
   "source": [
    "The mouse olfactory bulb is conventionally plotted horizontally. The entire SFE object can be transposed in histologial space to make the olfactory bulb horizontal."
   ]
  },
  {
   "cell_type": "code",
   "execution_count": null,
<<<<<<< HEAD
<<<<<<< HEAD
<<<<<<< HEAD
<<<<<<< HEAD
<<<<<<< HEAD
<<<<<<< HEAD
<<<<<<< HEAD
   "id": "5708a44b",
||||||| 6a30bf1
   "id": "7dc3368c",
=======
   "id": "0ae76dd8",
>>>>>>> documentation-devel
||||||| d28b18c
   "id": "0ae76dd8",
=======
   "id": "017cf050",
>>>>>>> documentation-devel
||||||| 6893f63
<<<<<<< HEAD
   "id": "5708a44b",
||||||| 6a30bf1
   "id": "7dc3368c",
=======
   "id": "0ae76dd8",
>>>>>>> documentation-devel
=======
   "id": "8243c834",
>>>>>>> c74c98c2450c2a1ba922ed9442f136238d6bc88b
||||||| 6d93b645
   "id": "017cf050",
=======
   "id": "a5ad37a4",
>>>>>>> documentation-devel
||||||| 804edffb
<<<<<<< HEAD
<<<<<<< HEAD
<<<<<<< HEAD
   "id": "5708a44b",
||||||| 6a30bf1
   "id": "7dc3368c",
=======
   "id": "0ae76dd8",
>>>>>>> documentation-devel
||||||| d28b18c
   "id": "0ae76dd8",
=======
   "id": "017cf050",
>>>>>>> documentation-devel
||||||| 6893f63
<<<<<<< HEAD
   "id": "5708a44b",
||||||| 6a30bf1
   "id": "7dc3368c",
=======
   "id": "0ae76dd8",
>>>>>>> documentation-devel
=======
   "id": "8243c834",
>>>>>>> c74c98c2450c2a1ba922ed9442f136238d6bc88b
=======
   "id": "c88b2ef8",
>>>>>>> 035bb2637984ead2784fecff78c0c60cc4181202
||||||| 3effdfa5
   "id": "a5ad37a4",
=======
   "id": "29f91828",
>>>>>>> documentation-devel
||||||| 96c826da
<<<<<<< HEAD
<<<<<<< HEAD
<<<<<<< HEAD
<<<<<<< HEAD
<<<<<<< HEAD
   "id": "5708a44b",
||||||| 6a30bf1
   "id": "7dc3368c",
=======
   "id": "0ae76dd8",
>>>>>>> documentation-devel
||||||| d28b18c
   "id": "0ae76dd8",
=======
   "id": "017cf050",
>>>>>>> documentation-devel
||||||| 6893f63
<<<<<<< HEAD
   "id": "5708a44b",
||||||| 6a30bf1
   "id": "7dc3368c",
=======
   "id": "0ae76dd8",
>>>>>>> documentation-devel
=======
   "id": "8243c834",
>>>>>>> c74c98c2450c2a1ba922ed9442f136238d6bc88b
||||||| 6d93b645
   "id": "017cf050",
=======
   "id": "a5ad37a4",
>>>>>>> documentation-devel
||||||| 804edffb
<<<<<<< HEAD
<<<<<<< HEAD
<<<<<<< HEAD
   "id": "5708a44b",
||||||| 6a30bf1
   "id": "7dc3368c",
=======
   "id": "0ae76dd8",
>>>>>>> documentation-devel
||||||| d28b18c
   "id": "0ae76dd8",
=======
   "id": "017cf050",
>>>>>>> documentation-devel
||||||| 6893f63
<<<<<<< HEAD
   "id": "5708a44b",
||||||| 6a30bf1
   "id": "7dc3368c",
=======
   "id": "0ae76dd8",
>>>>>>> documentation-devel
=======
   "id": "8243c834",
>>>>>>> c74c98c2450c2a1ba922ed9442f136238d6bc88b
=======
   "id": "c88b2ef8",
>>>>>>> 035bb2637984ead2784fecff78c0c60cc4181202
=======
   "id": "3ea958a9",
>>>>>>> 619c01f26351d57ac14d974b7af136ac5756103f
   "metadata": {},
   "outputs": [],
   "source": [
    "sfe <- SpatialFeatureExperiment::transpose(sfe)"
   ]
  },
  {
   "cell_type": "code",
   "execution_count": null,
<<<<<<< HEAD
<<<<<<< HEAD
<<<<<<< HEAD
<<<<<<< HEAD
<<<<<<< HEAD
<<<<<<< HEAD
<<<<<<< HEAD
   "id": "12bca2a6",
||||||| 6a30bf1
   "id": "5960632f",
=======
   "id": "8c3b7211",
>>>>>>> documentation-devel
||||||| d28b18c
   "id": "8c3b7211",
=======
   "id": "3ce5c74d",
>>>>>>> documentation-devel
||||||| 6893f63
<<<<<<< HEAD
   "id": "12bca2a6",
||||||| 6a30bf1
   "id": "5960632f",
=======
   "id": "8c3b7211",
>>>>>>> documentation-devel
=======
   "id": "39314bae",
>>>>>>> c74c98c2450c2a1ba922ed9442f136238d6bc88b
||||||| 6d93b645
   "id": "3ce5c74d",
=======
   "id": "f96a00bc",
>>>>>>> documentation-devel
||||||| 804edffb
<<<<<<< HEAD
<<<<<<< HEAD
<<<<<<< HEAD
   "id": "12bca2a6",
||||||| 6a30bf1
   "id": "5960632f",
=======
   "id": "8c3b7211",
>>>>>>> documentation-devel
||||||| d28b18c
   "id": "8c3b7211",
=======
   "id": "3ce5c74d",
>>>>>>> documentation-devel
||||||| 6893f63
<<<<<<< HEAD
   "id": "12bca2a6",
||||||| 6a30bf1
   "id": "5960632f",
=======
   "id": "8c3b7211",
>>>>>>> documentation-devel
=======
   "id": "39314bae",
>>>>>>> c74c98c2450c2a1ba922ed9442f136238d6bc88b
=======
   "id": "a23452f6",
>>>>>>> 035bb2637984ead2784fecff78c0c60cc4181202
||||||| 3effdfa5
   "id": "f96a00bc",
=======
   "id": "da394386",
>>>>>>> documentation-devel
||||||| 96c826da
<<<<<<< HEAD
<<<<<<< HEAD
<<<<<<< HEAD
<<<<<<< HEAD
<<<<<<< HEAD
   "id": "12bca2a6",
||||||| 6a30bf1
   "id": "5960632f",
=======
   "id": "8c3b7211",
>>>>>>> documentation-devel
||||||| d28b18c
   "id": "8c3b7211",
=======
   "id": "3ce5c74d",
>>>>>>> documentation-devel
||||||| 6893f63
<<<<<<< HEAD
   "id": "12bca2a6",
||||||| 6a30bf1
   "id": "5960632f",
=======
   "id": "8c3b7211",
>>>>>>> documentation-devel
=======
   "id": "39314bae",
>>>>>>> c74c98c2450c2a1ba922ed9442f136238d6bc88b
||||||| 6d93b645
   "id": "3ce5c74d",
=======
   "id": "f96a00bc",
>>>>>>> documentation-devel
||||||| 804edffb
<<<<<<< HEAD
<<<<<<< HEAD
<<<<<<< HEAD
   "id": "12bca2a6",
||||||| 6a30bf1
   "id": "5960632f",
=======
   "id": "8c3b7211",
>>>>>>> documentation-devel
||||||| d28b18c
   "id": "8c3b7211",
=======
   "id": "3ce5c74d",
>>>>>>> documentation-devel
||||||| 6893f63
<<<<<<< HEAD
   "id": "12bca2a6",
||||||| 6a30bf1
   "id": "5960632f",
=======
   "id": "8c3b7211",
>>>>>>> documentation-devel
=======
   "id": "39314bae",
>>>>>>> c74c98c2450c2a1ba922ed9442f136238d6bc88b
=======
   "id": "a23452f6",
>>>>>>> 035bb2637984ead2784fecff78c0c60cc4181202
=======
   "id": "1ca90f3c",
>>>>>>> 619c01f26351d57ac14d974b7af136ac5756103f
   "metadata": {
    "fig.height": 6,
    "fig.width": 8
   },
   "outputs": [],
   "source": [
    "plotSpatialFeature(sfe, c(\"sum\", \"detected\", \"subsets_mito_percent\"), \n",
    "                   image_id = \"lowres\", maxcell = 5e4, ncol = 2)"
   ]
  },
  {
   "cell_type": "markdown",
<<<<<<< HEAD
<<<<<<< HEAD
<<<<<<< HEAD
<<<<<<< HEAD
<<<<<<< HEAD
<<<<<<< HEAD
<<<<<<< HEAD
   "id": "3386c127",
||||||| 6a30bf1
   "id": "88672867",
=======
   "id": "bf6c8354",
>>>>>>> documentation-devel
||||||| d28b18c
   "id": "bf6c8354",
=======
   "id": "40bdb4ec",
>>>>>>> documentation-devel
||||||| 6893f63
<<<<<<< HEAD
   "id": "3386c127",
||||||| 6a30bf1
   "id": "88672867",
=======
   "id": "bf6c8354",
>>>>>>> documentation-devel
=======
   "id": "4c5a3790",
>>>>>>> c74c98c2450c2a1ba922ed9442f136238d6bc88b
||||||| 6d93b645
   "id": "40bdb4ec",
=======
   "id": "1990c17c",
>>>>>>> documentation-devel
||||||| 804edffb
<<<<<<< HEAD
<<<<<<< HEAD
<<<<<<< HEAD
   "id": "3386c127",
||||||| 6a30bf1
   "id": "88672867",
=======
   "id": "bf6c8354",
>>>>>>> documentation-devel
||||||| d28b18c
   "id": "bf6c8354",
=======
   "id": "40bdb4ec",
>>>>>>> documentation-devel
||||||| 6893f63
<<<<<<< HEAD
   "id": "3386c127",
||||||| 6a30bf1
   "id": "88672867",
=======
   "id": "bf6c8354",
>>>>>>> documentation-devel
=======
   "id": "4c5a3790",
>>>>>>> c74c98c2450c2a1ba922ed9442f136238d6bc88b
=======
   "id": "bcf39f50",
>>>>>>> 035bb2637984ead2784fecff78c0c60cc4181202
||||||| 3effdfa5
   "id": "1990c17c",
=======
   "id": "22dcd856",
>>>>>>> documentation-devel
||||||| 96c826da
<<<<<<< HEAD
<<<<<<< HEAD
<<<<<<< HEAD
<<<<<<< HEAD
<<<<<<< HEAD
   "id": "3386c127",
||||||| 6a30bf1
   "id": "88672867",
=======
   "id": "bf6c8354",
>>>>>>> documentation-devel
||||||| d28b18c
   "id": "bf6c8354",
=======
   "id": "40bdb4ec",
>>>>>>> documentation-devel
||||||| 6893f63
<<<<<<< HEAD
   "id": "3386c127",
||||||| 6a30bf1
   "id": "88672867",
=======
   "id": "bf6c8354",
>>>>>>> documentation-devel
=======
   "id": "4c5a3790",
>>>>>>> c74c98c2450c2a1ba922ed9442f136238d6bc88b
||||||| 6d93b645
   "id": "40bdb4ec",
=======
   "id": "1990c17c",
>>>>>>> documentation-devel
||||||| 804edffb
<<<<<<< HEAD
<<<<<<< HEAD
<<<<<<< HEAD
   "id": "3386c127",
||||||| 6a30bf1
   "id": "88672867",
=======
   "id": "bf6c8354",
>>>>>>> documentation-devel
||||||| d28b18c
   "id": "bf6c8354",
=======
   "id": "40bdb4ec",
>>>>>>> documentation-devel
||||||| 6893f63
<<<<<<< HEAD
   "id": "3386c127",
||||||| 6a30bf1
   "id": "88672867",
=======
   "id": "bf6c8354",
>>>>>>> documentation-devel
=======
   "id": "4c5a3790",
>>>>>>> c74c98c2450c2a1ba922ed9442f136238d6bc88b
=======
   "id": "bcf39f50",
>>>>>>> 035bb2637984ead2784fecff78c0c60cc4181202
=======
   "id": "8bafe07e",
>>>>>>> 619c01f26351d57ac14d974b7af136ac5756103f
   "metadata": {
    "lines_to_next_cell": 0
   },
   "source": [
    "Percentage of mitochondrial counts in spots outside tissue is higher near the tissue, especially on the left."
   ]
  },
  {
   "cell_type": "code",
   "execution_count": null,
<<<<<<< HEAD
<<<<<<< HEAD
<<<<<<< HEAD
<<<<<<< HEAD
<<<<<<< HEAD
<<<<<<< HEAD
<<<<<<< HEAD
   "id": "13d9bdcf",
||||||| 6a30bf1
   "id": "97168d9f",
=======
   "id": "6dc5f916",
>>>>>>> documentation-devel
||||||| d28b18c
   "id": "6dc5f916",
=======
   "id": "94575abf",
>>>>>>> documentation-devel
||||||| 6893f63
<<<<<<< HEAD
   "id": "13d9bdcf",
||||||| 6a30bf1
   "id": "97168d9f",
=======
   "id": "6dc5f916",
>>>>>>> documentation-devel
=======
   "id": "871c47e9",
>>>>>>> c74c98c2450c2a1ba922ed9442f136238d6bc88b
||||||| 6d93b645
   "id": "94575abf",
=======
   "id": "658b0b7b",
>>>>>>> documentation-devel
||||||| 804edffb
<<<<<<< HEAD
<<<<<<< HEAD
<<<<<<< HEAD
   "id": "13d9bdcf",
||||||| 6a30bf1
   "id": "97168d9f",
=======
   "id": "6dc5f916",
>>>>>>> documentation-devel
||||||| d28b18c
   "id": "6dc5f916",
=======
   "id": "94575abf",
>>>>>>> documentation-devel
||||||| 6893f63
<<<<<<< HEAD
   "id": "13d9bdcf",
||||||| 6a30bf1
   "id": "97168d9f",
=======
   "id": "6dc5f916",
>>>>>>> documentation-devel
=======
   "id": "871c47e9",
>>>>>>> c74c98c2450c2a1ba922ed9442f136238d6bc88b
=======
   "id": "d9112468",
>>>>>>> 035bb2637984ead2784fecff78c0c60cc4181202
||||||| 3effdfa5
   "id": "658b0b7b",
=======
   "id": "b09dfe63",
>>>>>>> documentation-devel
||||||| 96c826da
<<<<<<< HEAD
<<<<<<< HEAD
<<<<<<< HEAD
<<<<<<< HEAD
<<<<<<< HEAD
   "id": "13d9bdcf",
||||||| 6a30bf1
   "id": "97168d9f",
=======
   "id": "6dc5f916",
>>>>>>> documentation-devel
||||||| d28b18c
   "id": "6dc5f916",
=======
   "id": "94575abf",
>>>>>>> documentation-devel
||||||| 6893f63
<<<<<<< HEAD
   "id": "13d9bdcf",
||||||| 6a30bf1
   "id": "97168d9f",
=======
   "id": "6dc5f916",
>>>>>>> documentation-devel
=======
   "id": "871c47e9",
>>>>>>> c74c98c2450c2a1ba922ed9442f136238d6bc88b
||||||| 6d93b645
   "id": "94575abf",
=======
   "id": "658b0b7b",
>>>>>>> documentation-devel
||||||| 804edffb
<<<<<<< HEAD
<<<<<<< HEAD
<<<<<<< HEAD
   "id": "13d9bdcf",
||||||| 6a30bf1
   "id": "97168d9f",
=======
   "id": "6dc5f916",
>>>>>>> documentation-devel
||||||| d28b18c
   "id": "6dc5f916",
=======
   "id": "94575abf",
>>>>>>> documentation-devel
||||||| 6893f63
<<<<<<< HEAD
   "id": "13d9bdcf",
||||||| 6a30bf1
   "id": "97168d9f",
=======
   "id": "6dc5f916",
>>>>>>> documentation-devel
=======
   "id": "871c47e9",
>>>>>>> c74c98c2450c2a1ba922ed9442f136238d6bc88b
=======
   "id": "d9112468",
>>>>>>> 035bb2637984ead2784fecff78c0c60cc4181202
=======
   "id": "6492a913",
>>>>>>> 619c01f26351d57ac14d974b7af136ac5756103f
   "metadata": {},
   "outputs": [],
   "source": [
    "plotColData(sfe, \"sum\", x = \"in_tissue\", color_by = \"in_tissue\") +\n",
    "    plotColData(sfe, \"detected\", x = \"in_tissue\", color_by = \"in_tissue\") +\n",
    "    plotColData(sfe, \"subsets_mito_percent\", x = \"in_tissue\", color_by = \"in_tissue\") +\n",
    "    plot_layout(guides = \"collect\")"
   ]
  },
  {
   "cell_type": "markdown",
<<<<<<< HEAD
<<<<<<< HEAD
<<<<<<< HEAD
<<<<<<< HEAD
<<<<<<< HEAD
<<<<<<< HEAD
<<<<<<< HEAD
   "id": "b64e2b4c",
||||||| 6a30bf1
   "id": "0183b82f",
=======
   "id": "ee385ca6",
>>>>>>> documentation-devel
||||||| d28b18c
   "id": "ee385ca6",
=======
   "id": "1a8afcb8",
>>>>>>> documentation-devel
||||||| 6893f63
<<<<<<< HEAD
   "id": "b64e2b4c",
||||||| 6a30bf1
   "id": "0183b82f",
=======
   "id": "ee385ca6",
>>>>>>> documentation-devel
=======
   "id": "edc7c171",
>>>>>>> c74c98c2450c2a1ba922ed9442f136238d6bc88b
||||||| 6d93b645
   "id": "1a8afcb8",
=======
   "id": "033892da",
>>>>>>> documentation-devel
||||||| 804edffb
<<<<<<< HEAD
<<<<<<< HEAD
<<<<<<< HEAD
   "id": "b64e2b4c",
||||||| 6a30bf1
   "id": "0183b82f",
=======
   "id": "ee385ca6",
>>>>>>> documentation-devel
||||||| d28b18c
   "id": "ee385ca6",
=======
   "id": "1a8afcb8",
>>>>>>> documentation-devel
||||||| 6893f63
<<<<<<< HEAD
   "id": "b64e2b4c",
||||||| 6a30bf1
   "id": "0183b82f",
=======
   "id": "ee385ca6",
>>>>>>> documentation-devel
=======
   "id": "edc7c171",
>>>>>>> c74c98c2450c2a1ba922ed9442f136238d6bc88b
=======
   "id": "b0cafbb5",
>>>>>>> 035bb2637984ead2784fecff78c0c60cc4181202
||||||| 3effdfa5
   "id": "033892da",
=======
   "id": "9a0da191",
>>>>>>> documentation-devel
||||||| 96c826da
<<<<<<< HEAD
<<<<<<< HEAD
<<<<<<< HEAD
<<<<<<< HEAD
<<<<<<< HEAD
   "id": "b64e2b4c",
||||||| 6a30bf1
   "id": "0183b82f",
=======
   "id": "ee385ca6",
>>>>>>> documentation-devel
||||||| d28b18c
   "id": "ee385ca6",
=======
   "id": "1a8afcb8",
>>>>>>> documentation-devel
||||||| 6893f63
<<<<<<< HEAD
   "id": "b64e2b4c",
||||||| 6a30bf1
   "id": "0183b82f",
=======
   "id": "ee385ca6",
>>>>>>> documentation-devel
=======
   "id": "edc7c171",
>>>>>>> c74c98c2450c2a1ba922ed9442f136238d6bc88b
||||||| 6d93b645
   "id": "1a8afcb8",
=======
   "id": "033892da",
>>>>>>> documentation-devel
||||||| 804edffb
<<<<<<< HEAD
<<<<<<< HEAD
<<<<<<< HEAD
   "id": "b64e2b4c",
||||||| 6a30bf1
   "id": "0183b82f",
=======
   "id": "ee385ca6",
>>>>>>> documentation-devel
||||||| d28b18c
   "id": "ee385ca6",
=======
   "id": "1a8afcb8",
>>>>>>> documentation-devel
||||||| 6893f63
<<<<<<< HEAD
   "id": "b64e2b4c",
||||||| 6a30bf1
   "id": "0183b82f",
=======
   "id": "ee385ca6",
>>>>>>> documentation-devel
=======
   "id": "edc7c171",
>>>>>>> c74c98c2450c2a1ba922ed9442f136238d6bc88b
=======
   "id": "b0cafbb5",
>>>>>>> 035bb2637984ead2784fecff78c0c60cc4181202
=======
   "id": "ee7fed7a",
>>>>>>> 619c01f26351d57ac14d974b7af136ac5756103f
   "metadata": {},
   "source": [
    "3 peaks, apparently histologically relevant. Also no obvious outliers."
   ]
  },
  {
   "cell_type": "code",
   "execution_count": null,
<<<<<<< HEAD
<<<<<<< HEAD
<<<<<<< HEAD
<<<<<<< HEAD
<<<<<<< HEAD
<<<<<<< HEAD
<<<<<<< HEAD
   "id": "0a3e2828",
||||||| 6a30bf1
   "id": "aaaf8180",
=======
   "id": "07adb42a",
>>>>>>> documentation-devel
||||||| d28b18c
   "id": "07adb42a",
=======
   "id": "786ce82d",
>>>>>>> documentation-devel
||||||| 6893f63
<<<<<<< HEAD
   "id": "0a3e2828",
||||||| 6a30bf1
   "id": "aaaf8180",
=======
   "id": "07adb42a",
>>>>>>> documentation-devel
=======
   "id": "08728266",
>>>>>>> c74c98c2450c2a1ba922ed9442f136238d6bc88b
||||||| 6d93b645
   "id": "786ce82d",
=======
   "id": "d326b6df",
>>>>>>> documentation-devel
||||||| 804edffb
<<<<<<< HEAD
<<<<<<< HEAD
<<<<<<< HEAD
   "id": "0a3e2828",
||||||| 6a30bf1
   "id": "aaaf8180",
=======
   "id": "07adb42a",
>>>>>>> documentation-devel
||||||| d28b18c
   "id": "07adb42a",
=======
   "id": "786ce82d",
>>>>>>> documentation-devel
||||||| 6893f63
<<<<<<< HEAD
   "id": "0a3e2828",
||||||| 6a30bf1
   "id": "aaaf8180",
=======
   "id": "07adb42a",
>>>>>>> documentation-devel
=======
   "id": "08728266",
>>>>>>> c74c98c2450c2a1ba922ed9442f136238d6bc88b
=======
   "id": "2b895693",
>>>>>>> 035bb2637984ead2784fecff78c0c60cc4181202
||||||| 3effdfa5
   "id": "d326b6df",
=======
   "id": "21fbaccd",
>>>>>>> documentation-devel
||||||| 96c826da
<<<<<<< HEAD
<<<<<<< HEAD
<<<<<<< HEAD
<<<<<<< HEAD
<<<<<<< HEAD
   "id": "0a3e2828",
||||||| 6a30bf1
   "id": "aaaf8180",
=======
   "id": "07adb42a",
>>>>>>> documentation-devel
||||||| d28b18c
   "id": "07adb42a",
=======
   "id": "786ce82d",
>>>>>>> documentation-devel
||||||| 6893f63
<<<<<<< HEAD
   "id": "0a3e2828",
||||||| 6a30bf1
   "id": "aaaf8180",
=======
   "id": "07adb42a",
>>>>>>> documentation-devel
=======
   "id": "08728266",
>>>>>>> c74c98c2450c2a1ba922ed9442f136238d6bc88b
||||||| 6d93b645
   "id": "786ce82d",
=======
   "id": "d326b6df",
>>>>>>> documentation-devel
||||||| 804edffb
<<<<<<< HEAD
<<<<<<< HEAD
<<<<<<< HEAD
   "id": "0a3e2828",
||||||| 6a30bf1
   "id": "aaaf8180",
=======
   "id": "07adb42a",
>>>>>>> documentation-devel
||||||| d28b18c
   "id": "07adb42a",
=======
   "id": "786ce82d",
>>>>>>> documentation-devel
||||||| 6893f63
<<<<<<< HEAD
   "id": "0a3e2828",
||||||| 6a30bf1
   "id": "aaaf8180",
=======
   "id": "07adb42a",
>>>>>>> documentation-devel
=======
   "id": "08728266",
>>>>>>> c74c98c2450c2a1ba922ed9442f136238d6bc88b
=======
   "id": "2b895693",
>>>>>>> 035bb2637984ead2784fecff78c0c60cc4181202
=======
   "id": "83ec4613",
>>>>>>> 619c01f26351d57ac14d974b7af136ac5756103f
   "metadata": {},
   "outputs": [],
   "source": [
    "plotColData(sfe, x = \"sum\", y = \"subsets_mito_percent\", color_by = \"in_tissue\") +\n",
    "    geom_density_2d()"
   ]
  },
  {
   "cell_type": "markdown",
<<<<<<< HEAD
<<<<<<< HEAD
<<<<<<< HEAD
<<<<<<< HEAD
<<<<<<< HEAD
<<<<<<< HEAD
<<<<<<< HEAD
   "id": "4dcde835",
||||||| 6a30bf1
   "id": "4ea89019",
=======
   "id": "d9f93754",
>>>>>>> documentation-devel
||||||| d28b18c
   "id": "d9f93754",
=======
   "id": "426a3ecd",
>>>>>>> documentation-devel
||||||| 6893f63
<<<<<<< HEAD
   "id": "4dcde835",
||||||| 6a30bf1
   "id": "4ea89019",
=======
   "id": "d9f93754",
>>>>>>> documentation-devel
=======
   "id": "a26c8b30",
>>>>>>> c74c98c2450c2a1ba922ed9442f136238d6bc88b
||||||| 6d93b645
   "id": "426a3ecd",
=======
   "id": "9fa259d7",
>>>>>>> documentation-devel
||||||| 804edffb
<<<<<<< HEAD
<<<<<<< HEAD
<<<<<<< HEAD
   "id": "4dcde835",
||||||| 6a30bf1
   "id": "4ea89019",
=======
   "id": "d9f93754",
>>>>>>> documentation-devel
||||||| d28b18c
   "id": "d9f93754",
=======
   "id": "426a3ecd",
>>>>>>> documentation-devel
||||||| 6893f63
<<<<<<< HEAD
   "id": "4dcde835",
||||||| 6a30bf1
   "id": "4ea89019",
=======
   "id": "d9f93754",
>>>>>>> documentation-devel
=======
   "id": "a26c8b30",
>>>>>>> c74c98c2450c2a1ba922ed9442f136238d6bc88b
=======
   "id": "4c8fd84e",
>>>>>>> 035bb2637984ead2784fecff78c0c60cc4181202
||||||| 3effdfa5
   "id": "9fa259d7",
=======
   "id": "d8f5ad6b",
>>>>>>> documentation-devel
||||||| 96c826da
<<<<<<< HEAD
<<<<<<< HEAD
<<<<<<< HEAD
<<<<<<< HEAD
<<<<<<< HEAD
   "id": "4dcde835",
||||||| 6a30bf1
   "id": "4ea89019",
=======
   "id": "d9f93754",
>>>>>>> documentation-devel
||||||| d28b18c
   "id": "d9f93754",
=======
   "id": "426a3ecd",
>>>>>>> documentation-devel
||||||| 6893f63
<<<<<<< HEAD
   "id": "4dcde835",
||||||| 6a30bf1
   "id": "4ea89019",
=======
   "id": "d9f93754",
>>>>>>> documentation-devel
=======
   "id": "a26c8b30",
>>>>>>> c74c98c2450c2a1ba922ed9442f136238d6bc88b
||||||| 6d93b645
   "id": "426a3ecd",
=======
   "id": "9fa259d7",
>>>>>>> documentation-devel
||||||| 804edffb
<<<<<<< HEAD
<<<<<<< HEAD
<<<<<<< HEAD
   "id": "4dcde835",
||||||| 6a30bf1
   "id": "4ea89019",
=======
   "id": "d9f93754",
>>>>>>> documentation-devel
||||||| d28b18c
   "id": "d9f93754",
=======
   "id": "426a3ecd",
>>>>>>> documentation-devel
||||||| 6893f63
<<<<<<< HEAD
   "id": "4dcde835",
||||||| 6a30bf1
   "id": "4ea89019",
=======
   "id": "d9f93754",
>>>>>>> documentation-devel
=======
   "id": "a26c8b30",
>>>>>>> c74c98c2450c2a1ba922ed9442f136238d6bc88b
=======
   "id": "4c8fd84e",
>>>>>>> 035bb2637984ead2784fecff78c0c60cc4181202
=======
   "id": "1439c4eb",
>>>>>>> 619c01f26351d57ac14d974b7af136ac5756103f
   "metadata": {},
   "source": [
    "This is unlike scRNA-seq data. Spots not in tissue have a wide range of mitocondrial percentage. Spots in tissue fall into 3 clusters in this plot, seemingly related to histological regions."
   ]
  },
  {
   "cell_type": "code",
   "execution_count": null,
<<<<<<< HEAD
<<<<<<< HEAD
<<<<<<< HEAD
<<<<<<< HEAD
<<<<<<< HEAD
<<<<<<< HEAD
<<<<<<< HEAD
   "id": "39a39f26",
||||||| 6a30bf1
   "id": "4cdcddba",
=======
   "id": "4cba9504",
>>>>>>> documentation-devel
||||||| d28b18c
   "id": "4cba9504",
=======
   "id": "77ac19e5",
>>>>>>> documentation-devel
||||||| 6893f63
<<<<<<< HEAD
   "id": "39a39f26",
||||||| 6a30bf1
   "id": "4cdcddba",
=======
   "id": "4cba9504",
>>>>>>> documentation-devel
=======
   "id": "4b6e5d2d",
>>>>>>> c74c98c2450c2a1ba922ed9442f136238d6bc88b
||||||| 6d93b645
   "id": "77ac19e5",
=======
   "id": "369d7b38",
>>>>>>> documentation-devel
||||||| 804edffb
<<<<<<< HEAD
<<<<<<< HEAD
<<<<<<< HEAD
   "id": "39a39f26",
||||||| 6a30bf1
   "id": "4cdcddba",
=======
   "id": "4cba9504",
>>>>>>> documentation-devel
||||||| d28b18c
   "id": "4cba9504",
=======
   "id": "77ac19e5",
>>>>>>> documentation-devel
||||||| 6893f63
<<<<<<< HEAD
   "id": "39a39f26",
||||||| 6a30bf1
   "id": "4cdcddba",
=======
   "id": "4cba9504",
>>>>>>> documentation-devel
=======
   "id": "4b6e5d2d",
>>>>>>> c74c98c2450c2a1ba922ed9442f136238d6bc88b
=======
   "id": "7543a434",
>>>>>>> 035bb2637984ead2784fecff78c0c60cc4181202
||||||| 3effdfa5
   "id": "369d7b38",
=======
   "id": "0ab1985e",
>>>>>>> documentation-devel
||||||| 96c826da
<<<<<<< HEAD
<<<<<<< HEAD
<<<<<<< HEAD
<<<<<<< HEAD
<<<<<<< HEAD
   "id": "39a39f26",
||||||| 6a30bf1
   "id": "4cdcddba",
=======
   "id": "4cba9504",
>>>>>>> documentation-devel
||||||| d28b18c
   "id": "4cba9504",
=======
   "id": "77ac19e5",
>>>>>>> documentation-devel
||||||| 6893f63
<<<<<<< HEAD
   "id": "39a39f26",
||||||| 6a30bf1
   "id": "4cdcddba",
=======
   "id": "4cba9504",
>>>>>>> documentation-devel
=======
   "id": "4b6e5d2d",
>>>>>>> c74c98c2450c2a1ba922ed9442f136238d6bc88b
||||||| 6d93b645
   "id": "77ac19e5",
=======
   "id": "369d7b38",
>>>>>>> documentation-devel
||||||| 804edffb
<<<<<<< HEAD
<<<<<<< HEAD
<<<<<<< HEAD
   "id": "39a39f26",
||||||| 6a30bf1
   "id": "4cdcddba",
=======
   "id": "4cba9504",
>>>>>>> documentation-devel
||||||| d28b18c
   "id": "4cba9504",
=======
   "id": "77ac19e5",
>>>>>>> documentation-devel
||||||| 6893f63
<<<<<<< HEAD
   "id": "39a39f26",
||||||| 6a30bf1
   "id": "4cdcddba",
=======
   "id": "4cba9504",
>>>>>>> documentation-devel
=======
   "id": "4b6e5d2d",
>>>>>>> c74c98c2450c2a1ba922ed9442f136238d6bc88b
=======
   "id": "7543a434",
>>>>>>> 035bb2637984ead2784fecff78c0c60cc4181202
=======
   "id": "4d8fa10c",
>>>>>>> 619c01f26351d57ac14d974b7af136ac5756103f
   "metadata": {},
   "outputs": [],
   "source": [
    "sfe_tissue <- sfe[,sfe$in_tissue]"
   ]
  },
  {
   "cell_type": "code",
   "execution_count": null,
<<<<<<< HEAD
<<<<<<< HEAD
<<<<<<< HEAD
<<<<<<< HEAD
<<<<<<< HEAD
<<<<<<< HEAD
<<<<<<< HEAD
   "id": "3690829c",
||||||| 6a30bf1
   "id": "9fddea30",
=======
   "id": "a6909eb7",
>>>>>>> documentation-devel
||||||| d28b18c
   "id": "a6909eb7",
=======
   "id": "c3debe10",
>>>>>>> documentation-devel
||||||| 6893f63
<<<<<<< HEAD
   "id": "3690829c",
||||||| 6a30bf1
   "id": "9fddea30",
=======
   "id": "a6909eb7",
>>>>>>> documentation-devel
=======
   "id": "c3ec2811",
>>>>>>> c74c98c2450c2a1ba922ed9442f136238d6bc88b
||||||| 6d93b645
   "id": "c3debe10",
=======
   "id": "b986a324",
>>>>>>> documentation-devel
||||||| 804edffb
<<<<<<< HEAD
<<<<<<< HEAD
<<<<<<< HEAD
   "id": "3690829c",
||||||| 6a30bf1
   "id": "9fddea30",
=======
   "id": "a6909eb7",
>>>>>>> documentation-devel
||||||| d28b18c
   "id": "a6909eb7",
=======
   "id": "c3debe10",
>>>>>>> documentation-devel
||||||| 6893f63
<<<<<<< HEAD
   "id": "3690829c",
||||||| 6a30bf1
   "id": "9fddea30",
=======
   "id": "a6909eb7",
>>>>>>> documentation-devel
=======
   "id": "c3ec2811",
>>>>>>> c74c98c2450c2a1ba922ed9442f136238d6bc88b
=======
   "id": "c357a3e9",
>>>>>>> 035bb2637984ead2784fecff78c0c60cc4181202
||||||| 3effdfa5
   "id": "b986a324",
=======
   "id": "ad178dc6",
>>>>>>> documentation-devel
||||||| 96c826da
<<<<<<< HEAD
<<<<<<< HEAD
<<<<<<< HEAD
<<<<<<< HEAD
<<<<<<< HEAD
   "id": "3690829c",
||||||| 6a30bf1
   "id": "9fddea30",
=======
   "id": "a6909eb7",
>>>>>>> documentation-devel
||||||| d28b18c
   "id": "a6909eb7",
=======
   "id": "c3debe10",
>>>>>>> documentation-devel
||||||| 6893f63
<<<<<<< HEAD
   "id": "3690829c",
||||||| 6a30bf1
   "id": "9fddea30",
=======
   "id": "a6909eb7",
>>>>>>> documentation-devel
=======
   "id": "c3ec2811",
>>>>>>> c74c98c2450c2a1ba922ed9442f136238d6bc88b
||||||| 6d93b645
   "id": "c3debe10",
=======
   "id": "b986a324",
>>>>>>> documentation-devel
||||||| 804edffb
<<<<<<< HEAD
<<<<<<< HEAD
<<<<<<< HEAD
   "id": "3690829c",
||||||| 6a30bf1
   "id": "9fddea30",
=======
   "id": "a6909eb7",
>>>>>>> documentation-devel
||||||| d28b18c
   "id": "a6909eb7",
=======
   "id": "c3debe10",
>>>>>>> documentation-devel
||||||| 6893f63
<<<<<<< HEAD
   "id": "3690829c",
||||||| 6a30bf1
   "id": "9fddea30",
=======
   "id": "a6909eb7",
>>>>>>> documentation-devel
=======
   "id": "c3ec2811",
>>>>>>> c74c98c2450c2a1ba922ed9442f136238d6bc88b
=======
   "id": "c357a3e9",
>>>>>>> 035bb2637984ead2784fecff78c0c60cc4181202
=======
   "id": "c868c57d",
>>>>>>> 619c01f26351d57ac14d974b7af136ac5756103f
   "metadata": {},
   "outputs": [],
   "source": [
    "plotColDataBin2D(sfe_tissue, x = \"sum\", y = \"detected\", bins = 75)"
   ]
  },
  {
   "cell_type": "code",
   "execution_count": null,
<<<<<<< HEAD
<<<<<<< HEAD
<<<<<<< HEAD
<<<<<<< HEAD
<<<<<<< HEAD
<<<<<<< HEAD
<<<<<<< HEAD
   "id": "3771a473",
||||||| 6a30bf1
   "id": "c4af7a70",
=======
   "id": "1d074dad",
>>>>>>> documentation-devel
||||||| d28b18c
   "id": "1d074dad",
=======
   "id": "7fbc6acf",
>>>>>>> documentation-devel
||||||| 6893f63
<<<<<<< HEAD
   "id": "3771a473",
||||||| 6a30bf1
   "id": "c4af7a70",
=======
   "id": "1d074dad",
>>>>>>> documentation-devel
=======
   "id": "cd374821",
>>>>>>> c74c98c2450c2a1ba922ed9442f136238d6bc88b
||||||| 6d93b645
   "id": "7fbc6acf",
=======
   "id": "fb86f3df",
>>>>>>> documentation-devel
||||||| 804edffb
<<<<<<< HEAD
<<<<<<< HEAD
<<<<<<< HEAD
   "id": "3771a473",
||||||| 6a30bf1
   "id": "c4af7a70",
=======
   "id": "1d074dad",
>>>>>>> documentation-devel
||||||| d28b18c
   "id": "1d074dad",
=======
   "id": "7fbc6acf",
>>>>>>> documentation-devel
||||||| 6893f63
<<<<<<< HEAD
   "id": "3771a473",
||||||| 6a30bf1
   "id": "c4af7a70",
=======
   "id": "1d074dad",
>>>>>>> documentation-devel
=======
   "id": "cd374821",
>>>>>>> c74c98c2450c2a1ba922ed9442f136238d6bc88b
=======
   "id": "8a3d65f2",
>>>>>>> 035bb2637984ead2784fecff78c0c60cc4181202
||||||| 3effdfa5
   "id": "fb86f3df",
=======
   "id": "0f06c931",
>>>>>>> documentation-devel
||||||| 96c826da
<<<<<<< HEAD
<<<<<<< HEAD
<<<<<<< HEAD
<<<<<<< HEAD
<<<<<<< HEAD
   "id": "3771a473",
||||||| 6a30bf1
   "id": "c4af7a70",
=======
   "id": "1d074dad",
>>>>>>> documentation-devel
||||||| d28b18c
   "id": "1d074dad",
=======
   "id": "7fbc6acf",
>>>>>>> documentation-devel
||||||| 6893f63
<<<<<<< HEAD
   "id": "3771a473",
||||||| 6a30bf1
   "id": "c4af7a70",
=======
   "id": "1d074dad",
>>>>>>> documentation-devel
=======
   "id": "cd374821",
>>>>>>> c74c98c2450c2a1ba922ed9442f136238d6bc88b
||||||| 6d93b645
   "id": "7fbc6acf",
=======
   "id": "fb86f3df",
>>>>>>> documentation-devel
||||||| 804edffb
<<<<<<< HEAD
<<<<<<< HEAD
<<<<<<< HEAD
   "id": "3771a473",
||||||| 6a30bf1
   "id": "c4af7a70",
=======
   "id": "1d074dad",
>>>>>>> documentation-devel
||||||| d28b18c
   "id": "1d074dad",
=======
   "id": "7fbc6acf",
>>>>>>> documentation-devel
||||||| 6893f63
<<<<<<< HEAD
   "id": "3771a473",
||||||| 6a30bf1
   "id": "c4af7a70",
=======
   "id": "1d074dad",
>>>>>>> documentation-devel
=======
   "id": "cd374821",
>>>>>>> c74c98c2450c2a1ba922ed9442f136238d6bc88b
=======
   "id": "8a3d65f2",
>>>>>>> 035bb2637984ead2784fecff78c0c60cc4181202
=======
   "id": "3278f817",
>>>>>>> 619c01f26351d57ac14d974b7af136ac5756103f
   "metadata": {},
   "outputs": [],
   "source": [
    "#clusters <- quickCluster(sfe_tissue)\n",
    "#sfe_tissue <- computeSumFactors(sfe_tissue, clusters=clusters)\n",
    "#sfe_tissue <- sfe_tissue[, sizeFactors(sfe_tissue) > 0]\n",
    "sfe_tissue <- logNormCounts(sfe_tissue)"
   ]
  },
  {
   "cell_type": "code",
   "execution_count": null,
<<<<<<< HEAD
<<<<<<< HEAD
<<<<<<< HEAD
<<<<<<< HEAD
<<<<<<< HEAD
<<<<<<< HEAD
<<<<<<< HEAD
   "id": "53745849",
||||||| 6a30bf1
   "id": "daae2b75",
=======
   "id": "bd831d18",
>>>>>>> documentation-devel
||||||| d28b18c
   "id": "bd831d18",
=======
   "id": "e93e0a5c",
>>>>>>> documentation-devel
||||||| 6893f63
<<<<<<< HEAD
   "id": "53745849",
||||||| 6a30bf1
   "id": "daae2b75",
=======
   "id": "bd831d18",
>>>>>>> documentation-devel
=======
   "id": "6907b8d8",
>>>>>>> c74c98c2450c2a1ba922ed9442f136238d6bc88b
||||||| 6d93b645
   "id": "e93e0a5c",
=======
   "id": "b17c6193",
>>>>>>> documentation-devel
||||||| 804edffb
<<<<<<< HEAD
<<<<<<< HEAD
<<<<<<< HEAD
   "id": "53745849",
||||||| 6a30bf1
   "id": "daae2b75",
=======
   "id": "bd831d18",
>>>>>>> documentation-devel
||||||| d28b18c
   "id": "bd831d18",
=======
   "id": "e93e0a5c",
>>>>>>> documentation-devel
||||||| 6893f63
<<<<<<< HEAD
   "id": "53745849",
||||||| 6a30bf1
   "id": "daae2b75",
=======
   "id": "bd831d18",
>>>>>>> documentation-devel
=======
   "id": "6907b8d8",
>>>>>>> c74c98c2450c2a1ba922ed9442f136238d6bc88b
=======
   "id": "0e672a36",
>>>>>>> 035bb2637984ead2784fecff78c0c60cc4181202
||||||| 3effdfa5
   "id": "b17c6193",
=======
   "id": "ca6df5e2",
>>>>>>> documentation-devel
||||||| 96c826da
<<<<<<< HEAD
<<<<<<< HEAD
<<<<<<< HEAD
<<<<<<< HEAD
<<<<<<< HEAD
   "id": "53745849",
||||||| 6a30bf1
   "id": "daae2b75",
=======
   "id": "bd831d18",
>>>>>>> documentation-devel
||||||| d28b18c
   "id": "bd831d18",
=======
   "id": "e93e0a5c",
>>>>>>> documentation-devel
||||||| 6893f63
<<<<<<< HEAD
   "id": "53745849",
||||||| 6a30bf1
   "id": "daae2b75",
=======
   "id": "bd831d18",
>>>>>>> documentation-devel
=======
   "id": "6907b8d8",
>>>>>>> c74c98c2450c2a1ba922ed9442f136238d6bc88b
||||||| 6d93b645
   "id": "e93e0a5c",
=======
   "id": "b17c6193",
>>>>>>> documentation-devel
||||||| 804edffb
<<<<<<< HEAD
<<<<<<< HEAD
<<<<<<< HEAD
   "id": "53745849",
||||||| 6a30bf1
   "id": "daae2b75",
=======
   "id": "bd831d18",
>>>>>>> documentation-devel
||||||| d28b18c
   "id": "bd831d18",
=======
   "id": "e93e0a5c",
>>>>>>> documentation-devel
||||||| 6893f63
<<<<<<< HEAD
   "id": "53745849",
||||||| 6a30bf1
   "id": "daae2b75",
=======
   "id": "bd831d18",
>>>>>>> documentation-devel
=======
   "id": "6907b8d8",
>>>>>>> c74c98c2450c2a1ba922ed9442f136238d6bc88b
=======
   "id": "0e672a36",
>>>>>>> 035bb2637984ead2784fecff78c0c60cc4181202
=======
   "id": "1e479a9b",
>>>>>>> 619c01f26351d57ac14d974b7af136ac5756103f
   "metadata": {},
   "outputs": [],
   "source": [
    "dec <- modelGeneVar(sfe_tissue, lowess = FALSE)\n",
    "hvgs <- getTopHVGs(dec, n = 2000)"
   ]
  },
  {
   "cell_type": "markdown",
<<<<<<< HEAD
<<<<<<< HEAD
<<<<<<< HEAD
<<<<<<< HEAD
<<<<<<< HEAD
<<<<<<< HEAD
<<<<<<< HEAD
   "id": "0df8bef2",
||||||| 6a30bf1
   "id": "024ef5f3",
=======
   "id": "44dbc2be",
>>>>>>> documentation-devel
||||||| d28b18c
   "id": "44dbc2be",
=======
   "id": "43ad539b",
>>>>>>> documentation-devel
||||||| 6893f63
<<<<<<< HEAD
   "id": "0df8bef2",
||||||| 6a30bf1
   "id": "024ef5f3",
=======
   "id": "44dbc2be",
>>>>>>> documentation-devel
=======
   "id": "2192ccb0",
>>>>>>> c74c98c2450c2a1ba922ed9442f136238d6bc88b
||||||| 6d93b645
   "id": "43ad539b",
=======
   "id": "e12c5ff6",
>>>>>>> documentation-devel
||||||| 804edffb
<<<<<<< HEAD
<<<<<<< HEAD
<<<<<<< HEAD
   "id": "0df8bef2",
||||||| 6a30bf1
   "id": "024ef5f3",
=======
   "id": "44dbc2be",
>>>>>>> documentation-devel
||||||| d28b18c
   "id": "44dbc2be",
=======
   "id": "43ad539b",
>>>>>>> documentation-devel
||||||| 6893f63
<<<<<<< HEAD
   "id": "0df8bef2",
||||||| 6a30bf1
   "id": "024ef5f3",
=======
   "id": "44dbc2be",
>>>>>>> documentation-devel
=======
   "id": "2192ccb0",
>>>>>>> c74c98c2450c2a1ba922ed9442f136238d6bc88b
=======
   "id": "d8556c24",
>>>>>>> 035bb2637984ead2784fecff78c0c60cc4181202
||||||| 3effdfa5
   "id": "e12c5ff6",
=======
   "id": "bf0fe0dd",
>>>>>>> documentation-devel
||||||| 96c826da
<<<<<<< HEAD
<<<<<<< HEAD
<<<<<<< HEAD
<<<<<<< HEAD
<<<<<<< HEAD
   "id": "0df8bef2",
||||||| 6a30bf1
   "id": "024ef5f3",
=======
   "id": "44dbc2be",
>>>>>>> documentation-devel
||||||| d28b18c
   "id": "44dbc2be",
=======
   "id": "43ad539b",
>>>>>>> documentation-devel
||||||| 6893f63
<<<<<<< HEAD
   "id": "0df8bef2",
||||||| 6a30bf1
   "id": "024ef5f3",
=======
   "id": "44dbc2be",
>>>>>>> documentation-devel
=======
   "id": "2192ccb0",
>>>>>>> c74c98c2450c2a1ba922ed9442f136238d6bc88b
||||||| 6d93b645
   "id": "43ad539b",
=======
   "id": "e12c5ff6",
>>>>>>> documentation-devel
||||||| 804edffb
<<<<<<< HEAD
<<<<<<< HEAD
<<<<<<< HEAD
   "id": "0df8bef2",
||||||| 6a30bf1
   "id": "024ef5f3",
=======
   "id": "44dbc2be",
>>>>>>> documentation-devel
||||||| d28b18c
   "id": "44dbc2be",
=======
   "id": "43ad539b",
>>>>>>> documentation-devel
||||||| 6893f63
<<<<<<< HEAD
   "id": "0df8bef2",
||||||| 6a30bf1
   "id": "024ef5f3",
=======
   "id": "44dbc2be",
>>>>>>> documentation-devel
=======
   "id": "2192ccb0",
>>>>>>> c74c98c2450c2a1ba922ed9442f136238d6bc88b
=======
   "id": "d8556c24",
>>>>>>> 035bb2637984ead2784fecff78c0c60cc4181202
=======
   "id": "39e5a2e8",
>>>>>>> 619c01f26351d57ac14d974b7af136ac5756103f
   "metadata": {
    "lines_to_next_cell": 0
   },
   "source": [
    "# Dimension reduction and clustering"
   ]
  },
  {
   "cell_type": "code",
   "execution_count": null,
<<<<<<< HEAD
<<<<<<< HEAD
<<<<<<< HEAD
<<<<<<< HEAD
<<<<<<< HEAD
<<<<<<< HEAD
<<<<<<< HEAD
   "id": "c2e33342",
||||||| 6a30bf1
   "id": "46fa9d88",
=======
   "id": "68b0ff61",
>>>>>>> documentation-devel
||||||| d28b18c
   "id": "68b0ff61",
=======
   "id": "3756ef88",
>>>>>>> documentation-devel
||||||| 6893f63
<<<<<<< HEAD
   "id": "c2e33342",
||||||| 6a30bf1
   "id": "46fa9d88",
=======
   "id": "68b0ff61",
>>>>>>> documentation-devel
=======
   "id": "a26a0e38",
>>>>>>> c74c98c2450c2a1ba922ed9442f136238d6bc88b
||||||| 6d93b645
   "id": "3756ef88",
=======
   "id": "39905156",
>>>>>>> documentation-devel
||||||| 804edffb
<<<<<<< HEAD
<<<<<<< HEAD
<<<<<<< HEAD
   "id": "c2e33342",
||||||| 6a30bf1
   "id": "46fa9d88",
=======
   "id": "68b0ff61",
>>>>>>> documentation-devel
||||||| d28b18c
   "id": "68b0ff61",
=======
   "id": "3756ef88",
>>>>>>> documentation-devel
||||||| 6893f63
<<<<<<< HEAD
   "id": "c2e33342",
||||||| 6a30bf1
   "id": "46fa9d88",
=======
   "id": "68b0ff61",
>>>>>>> documentation-devel
=======
   "id": "a26a0e38",
>>>>>>> c74c98c2450c2a1ba922ed9442f136238d6bc88b
=======
   "id": "e0a78f9c",
>>>>>>> 035bb2637984ead2784fecff78c0c60cc4181202
||||||| 3effdfa5
   "id": "39905156",
=======
   "id": "5f71c2a7",
>>>>>>> documentation-devel
||||||| 96c826da
<<<<<<< HEAD
<<<<<<< HEAD
<<<<<<< HEAD
<<<<<<< HEAD
<<<<<<< HEAD
   "id": "c2e33342",
||||||| 6a30bf1
   "id": "46fa9d88",
=======
   "id": "68b0ff61",
>>>>>>> documentation-devel
||||||| d28b18c
   "id": "68b0ff61",
=======
   "id": "3756ef88",
>>>>>>> documentation-devel
||||||| 6893f63
<<<<<<< HEAD
   "id": "c2e33342",
||||||| 6a30bf1
   "id": "46fa9d88",
=======
   "id": "68b0ff61",
>>>>>>> documentation-devel
=======
   "id": "a26a0e38",
>>>>>>> c74c98c2450c2a1ba922ed9442f136238d6bc88b
||||||| 6d93b645
   "id": "3756ef88",
=======
   "id": "39905156",
>>>>>>> documentation-devel
||||||| 804edffb
<<<<<<< HEAD
<<<<<<< HEAD
<<<<<<< HEAD
   "id": "c2e33342",
||||||| 6a30bf1
   "id": "46fa9d88",
=======
   "id": "68b0ff61",
>>>>>>> documentation-devel
||||||| d28b18c
   "id": "68b0ff61",
=======
   "id": "3756ef88",
>>>>>>> documentation-devel
||||||| 6893f63
<<<<<<< HEAD
   "id": "c2e33342",
||||||| 6a30bf1
   "id": "46fa9d88",
=======
   "id": "68b0ff61",
>>>>>>> documentation-devel
=======
   "id": "a26a0e38",
>>>>>>> c74c98c2450c2a1ba922ed9442f136238d6bc88b
=======
   "id": "e0a78f9c",
>>>>>>> 035bb2637984ead2784fecff78c0c60cc4181202
=======
   "id": "bef1b67e",
>>>>>>> 619c01f26351d57ac14d974b7af136ac5756103f
   "metadata": {},
   "outputs": [],
   "source": [
    "sfe_tissue <- runPCA(sfe_tissue, ncomponents = 30, subset_row = hvgs,\n",
    "                     scale = TRUE) # scale as in Seurat"
   ]
  },
  {
   "cell_type": "code",
   "execution_count": null,
<<<<<<< HEAD
<<<<<<< HEAD
<<<<<<< HEAD
<<<<<<< HEAD
<<<<<<< HEAD
<<<<<<< HEAD
<<<<<<< HEAD
   "id": "49b14c95",
||||||| 6a30bf1
   "id": "777c1670",
=======
   "id": "128dfcf4",
>>>>>>> documentation-devel
||||||| d28b18c
   "id": "128dfcf4",
=======
   "id": "2e9b7728",
>>>>>>> documentation-devel
||||||| 6893f63
<<<<<<< HEAD
   "id": "49b14c95",
||||||| 6a30bf1
   "id": "777c1670",
=======
   "id": "128dfcf4",
>>>>>>> documentation-devel
=======
   "id": "dabce6d3",
>>>>>>> c74c98c2450c2a1ba922ed9442f136238d6bc88b
||||||| 6d93b645
   "id": "2e9b7728",
=======
   "id": "82706da4",
>>>>>>> documentation-devel
||||||| 804edffb
<<<<<<< HEAD
<<<<<<< HEAD
<<<<<<< HEAD
   "id": "49b14c95",
||||||| 6a30bf1
   "id": "777c1670",
=======
   "id": "128dfcf4",
>>>>>>> documentation-devel
||||||| d28b18c
   "id": "128dfcf4",
=======
   "id": "2e9b7728",
>>>>>>> documentation-devel
||||||| 6893f63
<<<<<<< HEAD
   "id": "49b14c95",
||||||| 6a30bf1
   "id": "777c1670",
=======
   "id": "128dfcf4",
>>>>>>> documentation-devel
=======
   "id": "dabce6d3",
>>>>>>> c74c98c2450c2a1ba922ed9442f136238d6bc88b
=======
   "id": "ecbf7804",
>>>>>>> 035bb2637984ead2784fecff78c0c60cc4181202
||||||| 3effdfa5
   "id": "82706da4",
=======
   "id": "7c00aac8",
>>>>>>> documentation-devel
||||||| 96c826da
<<<<<<< HEAD
<<<<<<< HEAD
<<<<<<< HEAD
<<<<<<< HEAD
<<<<<<< HEAD
   "id": "49b14c95",
||||||| 6a30bf1
   "id": "777c1670",
=======
   "id": "128dfcf4",
>>>>>>> documentation-devel
||||||| d28b18c
   "id": "128dfcf4",
=======
   "id": "2e9b7728",
>>>>>>> documentation-devel
||||||| 6893f63
<<<<<<< HEAD
   "id": "49b14c95",
||||||| 6a30bf1
   "id": "777c1670",
=======
   "id": "128dfcf4",
>>>>>>> documentation-devel
=======
   "id": "dabce6d3",
>>>>>>> c74c98c2450c2a1ba922ed9442f136238d6bc88b
||||||| 6d93b645
   "id": "2e9b7728",
=======
   "id": "82706da4",
>>>>>>> documentation-devel
||||||| 804edffb
<<<<<<< HEAD
<<<<<<< HEAD
<<<<<<< HEAD
   "id": "49b14c95",
||||||| 6a30bf1
   "id": "777c1670",
=======
   "id": "128dfcf4",
>>>>>>> documentation-devel
||||||| d28b18c
   "id": "128dfcf4",
=======
   "id": "2e9b7728",
>>>>>>> documentation-devel
||||||| 6893f63
<<<<<<< HEAD
   "id": "49b14c95",
||||||| 6a30bf1
   "id": "777c1670",
=======
   "id": "128dfcf4",
>>>>>>> documentation-devel
=======
   "id": "dabce6d3",
>>>>>>> c74c98c2450c2a1ba922ed9442f136238d6bc88b
=======
   "id": "ecbf7804",
>>>>>>> 035bb2637984ead2784fecff78c0c60cc4181202
=======
   "id": "63a642a9",
>>>>>>> 619c01f26351d57ac14d974b7af136ac5756103f
   "metadata": {},
   "outputs": [],
   "source": [
    "ElbowPlot(sfe_tissue, ndims = 30)"
   ]
  },
  {
   "cell_type": "code",
   "execution_count": null,
<<<<<<< HEAD
<<<<<<< HEAD
<<<<<<< HEAD
<<<<<<< HEAD
<<<<<<< HEAD
<<<<<<< HEAD
<<<<<<< HEAD
   "id": "53698a5d",
||||||| 6a30bf1
   "id": "acd77175",
=======
   "id": "f7a3576c",
>>>>>>> documentation-devel
||||||| d28b18c
   "id": "f7a3576c",
=======
   "id": "ad066755",
>>>>>>> documentation-devel
||||||| 6893f63
<<<<<<< HEAD
   "id": "53698a5d",
||||||| 6a30bf1
   "id": "acd77175",
=======
   "id": "f7a3576c",
>>>>>>> documentation-devel
=======
   "id": "f3f4f65e",
>>>>>>> c74c98c2450c2a1ba922ed9442f136238d6bc88b
||||||| 6d93b645
   "id": "ad066755",
=======
   "id": "208a6560",
>>>>>>> documentation-devel
||||||| 804edffb
<<<<<<< HEAD
<<<<<<< HEAD
<<<<<<< HEAD
   "id": "53698a5d",
||||||| 6a30bf1
   "id": "acd77175",
=======
   "id": "f7a3576c",
>>>>>>> documentation-devel
||||||| d28b18c
   "id": "f7a3576c",
=======
   "id": "ad066755",
>>>>>>> documentation-devel
||||||| 6893f63
<<<<<<< HEAD
   "id": "53698a5d",
||||||| 6a30bf1
   "id": "acd77175",
=======
   "id": "f7a3576c",
>>>>>>> documentation-devel
=======
   "id": "f3f4f65e",
>>>>>>> c74c98c2450c2a1ba922ed9442f136238d6bc88b
=======
   "id": "870e0dd3",
>>>>>>> 035bb2637984ead2784fecff78c0c60cc4181202
||||||| 3effdfa5
   "id": "208a6560",
=======
   "id": "3610f450",
>>>>>>> documentation-devel
||||||| 96c826da
<<<<<<< HEAD
<<<<<<< HEAD
<<<<<<< HEAD
<<<<<<< HEAD
<<<<<<< HEAD
   "id": "53698a5d",
||||||| 6a30bf1
   "id": "acd77175",
=======
   "id": "f7a3576c",
>>>>>>> documentation-devel
||||||| d28b18c
   "id": "f7a3576c",
=======
   "id": "ad066755",
>>>>>>> documentation-devel
||||||| 6893f63
<<<<<<< HEAD
   "id": "53698a5d",
||||||| 6a30bf1
   "id": "acd77175",
=======
   "id": "f7a3576c",
>>>>>>> documentation-devel
=======
   "id": "f3f4f65e",
>>>>>>> c74c98c2450c2a1ba922ed9442f136238d6bc88b
||||||| 6d93b645
   "id": "ad066755",
=======
   "id": "208a6560",
>>>>>>> documentation-devel
||||||| 804edffb
<<<<<<< HEAD
<<<<<<< HEAD
<<<<<<< HEAD
   "id": "53698a5d",
||||||| 6a30bf1
   "id": "acd77175",
=======
   "id": "f7a3576c",
>>>>>>> documentation-devel
||||||| d28b18c
   "id": "f7a3576c",
=======
   "id": "ad066755",
>>>>>>> documentation-devel
||||||| 6893f63
<<<<<<< HEAD
   "id": "53698a5d",
||||||| 6a30bf1
   "id": "acd77175",
=======
   "id": "f7a3576c",
>>>>>>> documentation-devel
=======
   "id": "f3f4f65e",
>>>>>>> c74c98c2450c2a1ba922ed9442f136238d6bc88b
=======
   "id": "870e0dd3",
>>>>>>> 035bb2637984ead2784fecff78c0c60cc4181202
=======
   "id": "c58360f7",
>>>>>>> 619c01f26351d57ac14d974b7af136ac5756103f
   "metadata": {},
   "outputs": [],
   "source": [
    "names(rowData(sfe_tissue))"
   ]
  },
  {
   "cell_type": "code",
   "execution_count": null,
<<<<<<< HEAD
<<<<<<< HEAD
<<<<<<< HEAD
<<<<<<< HEAD
<<<<<<< HEAD
<<<<<<< HEAD
<<<<<<< HEAD
   "id": "1b4696fb",
||||||| 6a30bf1
   "id": "8fa916a8",
=======
   "id": "4bf7e99a",
>>>>>>> documentation-devel
||||||| d28b18c
   "id": "4bf7e99a",
=======
   "id": "004c1521",
>>>>>>> documentation-devel
||||||| 6893f63
<<<<<<< HEAD
   "id": "1b4696fb",
||||||| 6a30bf1
   "id": "8fa916a8",
=======
   "id": "4bf7e99a",
>>>>>>> documentation-devel
=======
   "id": "81573149",
>>>>>>> c74c98c2450c2a1ba922ed9442f136238d6bc88b
||||||| 6d93b645
   "id": "004c1521",
=======
   "id": "6ebde4f0",
>>>>>>> documentation-devel
||||||| 804edffb
<<<<<<< HEAD
<<<<<<< HEAD
<<<<<<< HEAD
   "id": "1b4696fb",
||||||| 6a30bf1
   "id": "8fa916a8",
=======
   "id": "4bf7e99a",
>>>>>>> documentation-devel
||||||| d28b18c
   "id": "4bf7e99a",
=======
   "id": "004c1521",
>>>>>>> documentation-devel
||||||| 6893f63
<<<<<<< HEAD
   "id": "1b4696fb",
||||||| 6a30bf1
   "id": "8fa916a8",
=======
   "id": "4bf7e99a",
>>>>>>> documentation-devel
=======
   "id": "81573149",
>>>>>>> c74c98c2450c2a1ba922ed9442f136238d6bc88b
=======
   "id": "e2a82418",
>>>>>>> 035bb2637984ead2784fecff78c0c60cc4181202
||||||| 3effdfa5
   "id": "6ebde4f0",
=======
   "id": "e9106cce",
>>>>>>> documentation-devel
||||||| 96c826da
<<<<<<< HEAD
<<<<<<< HEAD
<<<<<<< HEAD
<<<<<<< HEAD
<<<<<<< HEAD
   "id": "1b4696fb",
||||||| 6a30bf1
   "id": "8fa916a8",
=======
   "id": "4bf7e99a",
>>>>>>> documentation-devel
||||||| d28b18c
   "id": "4bf7e99a",
=======
   "id": "004c1521",
>>>>>>> documentation-devel
||||||| 6893f63
<<<<<<< HEAD
   "id": "1b4696fb",
||||||| 6a30bf1
   "id": "8fa916a8",
=======
   "id": "4bf7e99a",
>>>>>>> documentation-devel
=======
   "id": "81573149",
>>>>>>> c74c98c2450c2a1ba922ed9442f136238d6bc88b
||||||| 6d93b645
   "id": "004c1521",
=======
   "id": "6ebde4f0",
>>>>>>> documentation-devel
||||||| 804edffb
<<<<<<< HEAD
<<<<<<< HEAD
<<<<<<< HEAD
   "id": "1b4696fb",
||||||| 6a30bf1
   "id": "8fa916a8",
=======
   "id": "4bf7e99a",
>>>>>>> documentation-devel
||||||| d28b18c
   "id": "4bf7e99a",
=======
   "id": "004c1521",
>>>>>>> documentation-devel
||||||| 6893f63
<<<<<<< HEAD
   "id": "1b4696fb",
||||||| 6a30bf1
   "id": "8fa916a8",
=======
   "id": "4bf7e99a",
>>>>>>> documentation-devel
=======
   "id": "81573149",
>>>>>>> c74c98c2450c2a1ba922ed9442f136238d6bc88b
=======
   "id": "e2a82418",
>>>>>>> 035bb2637984ead2784fecff78c0c60cc4181202
=======
   "id": "9e018ac1",
>>>>>>> 619c01f26351d57ac14d974b7af136ac5756103f
   "metadata": {},
   "outputs": [],
   "source": [
    "plotDimLoadings(sfe_tissue, dims = 1:5, swap_rownames = \"symbol\", ncol = 3)"
   ]
  },
  {
   "cell_type": "markdown",
<<<<<<< HEAD
<<<<<<< HEAD
<<<<<<< HEAD
<<<<<<< HEAD
<<<<<<< HEAD
<<<<<<< HEAD
<<<<<<< HEAD
   "id": "1f5fd321",
||||||| 6a30bf1
   "id": "16232237",
=======
   "id": "8449f440",
>>>>>>> documentation-devel
||||||| d28b18c
   "id": "8449f440",
=======
   "id": "33f0ea84",
>>>>>>> documentation-devel
||||||| 6893f63
<<<<<<< HEAD
   "id": "1f5fd321",
||||||| 6a30bf1
   "id": "16232237",
=======
   "id": "8449f440",
>>>>>>> documentation-devel
=======
   "id": "8a969c7e",
>>>>>>> c74c98c2450c2a1ba922ed9442f136238d6bc88b
||||||| 6d93b645
   "id": "33f0ea84",
=======
   "id": "958bc886",
>>>>>>> documentation-devel
||||||| 804edffb
<<<<<<< HEAD
<<<<<<< HEAD
<<<<<<< HEAD
   "id": "1f5fd321",
||||||| 6a30bf1
   "id": "16232237",
=======
   "id": "8449f440",
>>>>>>> documentation-devel
||||||| d28b18c
   "id": "8449f440",
=======
   "id": "33f0ea84",
>>>>>>> documentation-devel
||||||| 6893f63
<<<<<<< HEAD
   "id": "1f5fd321",
||||||| 6a30bf1
   "id": "16232237",
=======
   "id": "8449f440",
>>>>>>> documentation-devel
=======
   "id": "8a969c7e",
>>>>>>> c74c98c2450c2a1ba922ed9442f136238d6bc88b
=======
   "id": "053581ae",
>>>>>>> 035bb2637984ead2784fecff78c0c60cc4181202
||||||| 3effdfa5
   "id": "958bc886",
=======
   "id": "a695ad6d",
>>>>>>> documentation-devel
||||||| 96c826da
<<<<<<< HEAD
<<<<<<< HEAD
<<<<<<< HEAD
<<<<<<< HEAD
<<<<<<< HEAD
   "id": "1f5fd321",
||||||| 6a30bf1
   "id": "16232237",
=======
   "id": "8449f440",
>>>>>>> documentation-devel
||||||| d28b18c
   "id": "8449f440",
=======
   "id": "33f0ea84",
>>>>>>> documentation-devel
||||||| 6893f63
<<<<<<< HEAD
   "id": "1f5fd321",
||||||| 6a30bf1
   "id": "16232237",
=======
   "id": "8449f440",
>>>>>>> documentation-devel
=======
   "id": "8a969c7e",
>>>>>>> c74c98c2450c2a1ba922ed9442f136238d6bc88b
||||||| 6d93b645
   "id": "33f0ea84",
=======
   "id": "958bc886",
>>>>>>> documentation-devel
||||||| 804edffb
<<<<<<< HEAD
<<<<<<< HEAD
<<<<<<< HEAD
   "id": "1f5fd321",
||||||| 6a30bf1
   "id": "16232237",
=======
   "id": "8449f440",
>>>>>>> documentation-devel
||||||| d28b18c
   "id": "8449f440",
=======
   "id": "33f0ea84",
>>>>>>> documentation-devel
||||||| 6893f63
<<<<<<< HEAD
   "id": "1f5fd321",
||||||| 6a30bf1
   "id": "16232237",
=======
   "id": "8449f440",
>>>>>>> documentation-devel
=======
   "id": "8a969c7e",
>>>>>>> c74c98c2450c2a1ba922ed9442f136238d6bc88b
=======
   "id": "053581ae",
>>>>>>> 035bb2637984ead2784fecff78c0c60cc4181202
=======
   "id": "28d29172",
>>>>>>> 619c01f26351d57ac14d974b7af136ac5756103f
   "metadata": {
    "lines_to_next_cell": 0
   },
   "source": [
    "Do the clustering to show on the dimension reduction plots"
   ]
  },
  {
   "cell_type": "code",
   "execution_count": null,
<<<<<<< HEAD
<<<<<<< HEAD
<<<<<<< HEAD
<<<<<<< HEAD
<<<<<<< HEAD
<<<<<<< HEAD
<<<<<<< HEAD
   "id": "11e659a0",
||||||| 6a30bf1
   "id": "c7fc0e90",
=======
   "id": "bb05e439",
>>>>>>> documentation-devel
||||||| d28b18c
   "id": "bb05e439",
=======
   "id": "4a14226d",
>>>>>>> documentation-devel
||||||| 6893f63
<<<<<<< HEAD
   "id": "11e659a0",
||||||| 6a30bf1
   "id": "c7fc0e90",
=======
   "id": "bb05e439",
>>>>>>> documentation-devel
=======
   "id": "aeca2af4",
>>>>>>> c74c98c2450c2a1ba922ed9442f136238d6bc88b
||||||| 6d93b645
   "id": "4a14226d",
=======
   "id": "3bf72bfe",
>>>>>>> documentation-devel
||||||| 804edffb
<<<<<<< HEAD
<<<<<<< HEAD
<<<<<<< HEAD
   "id": "11e659a0",
||||||| 6a30bf1
   "id": "c7fc0e90",
=======
   "id": "bb05e439",
>>>>>>> documentation-devel
||||||| d28b18c
   "id": "bb05e439",
=======
   "id": "4a14226d",
>>>>>>> documentation-devel
||||||| 6893f63
<<<<<<< HEAD
   "id": "11e659a0",
||||||| 6a30bf1
   "id": "c7fc0e90",
=======
   "id": "bb05e439",
>>>>>>> documentation-devel
=======
   "id": "aeca2af4",
>>>>>>> c74c98c2450c2a1ba922ed9442f136238d6bc88b
=======
   "id": "8156de75",
>>>>>>> 035bb2637984ead2784fecff78c0c60cc4181202
||||||| 3effdfa5
   "id": "3bf72bfe",
=======
   "id": "82aed104",
>>>>>>> documentation-devel
||||||| 96c826da
<<<<<<< HEAD
<<<<<<< HEAD
<<<<<<< HEAD
<<<<<<< HEAD
<<<<<<< HEAD
   "id": "11e659a0",
||||||| 6a30bf1
   "id": "c7fc0e90",
=======
   "id": "bb05e439",
>>>>>>> documentation-devel
||||||| d28b18c
   "id": "bb05e439",
=======
   "id": "4a14226d",
>>>>>>> documentation-devel
||||||| 6893f63
<<<<<<< HEAD
   "id": "11e659a0",
||||||| 6a30bf1
   "id": "c7fc0e90",
=======
   "id": "bb05e439",
>>>>>>> documentation-devel
=======
   "id": "aeca2af4",
>>>>>>> c74c98c2450c2a1ba922ed9442f136238d6bc88b
||||||| 6d93b645
   "id": "4a14226d",
=======
   "id": "3bf72bfe",
>>>>>>> documentation-devel
||||||| 804edffb
<<<<<<< HEAD
<<<<<<< HEAD
<<<<<<< HEAD
   "id": "11e659a0",
||||||| 6a30bf1
   "id": "c7fc0e90",
=======
   "id": "bb05e439",
>>>>>>> documentation-devel
||||||| d28b18c
   "id": "bb05e439",
=======
   "id": "4a14226d",
>>>>>>> documentation-devel
||||||| 6893f63
<<<<<<< HEAD
   "id": "11e659a0",
||||||| 6a30bf1
   "id": "c7fc0e90",
=======
   "id": "bb05e439",
>>>>>>> documentation-devel
=======
   "id": "aeca2af4",
>>>>>>> c74c98c2450c2a1ba922ed9442f136238d6bc88b
=======
   "id": "8156de75",
>>>>>>> 035bb2637984ead2784fecff78c0c60cc4181202
=======
   "id": "96e23203",
>>>>>>> 619c01f26351d57ac14d974b7af136ac5756103f
   "metadata": {},
   "outputs": [],
   "source": [
    "set.seed(29)\n",
    "colData(sfe_tissue)$cluster <- clusterRows(reducedDim(sfe_tissue, \"PCA\")[,1:3],\n",
    "                                           BLUSPARAM = SNNGraphParam(\n",
    "                                               cluster.fun = \"leiden\",\n",
    "                                               cluster.args = list(\n",
    "                                                   resolution_parameter = 0.5,\n",
    "                                                   objective_function = \"modularity\")))"
   ]
  },
  {
   "cell_type": "code",
   "execution_count": null,
<<<<<<< HEAD
<<<<<<< HEAD
<<<<<<< HEAD
<<<<<<< HEAD
<<<<<<< HEAD
<<<<<<< HEAD
<<<<<<< HEAD
   "id": "bc9d279e",
||||||| 6a30bf1
   "id": "26adf447",
=======
   "id": "d998c873",
>>>>>>> documentation-devel
||||||| d28b18c
   "id": "d998c873",
=======
   "id": "3a14ed60",
>>>>>>> documentation-devel
||||||| 6893f63
<<<<<<< HEAD
   "id": "bc9d279e",
||||||| 6a30bf1
   "id": "26adf447",
=======
   "id": "d998c873",
>>>>>>> documentation-devel
=======
   "id": "6e367fa9",
>>>>>>> c74c98c2450c2a1ba922ed9442f136238d6bc88b
||||||| 6d93b645
   "id": "3a14ed60",
=======
   "id": "55c51973",
>>>>>>> documentation-devel
||||||| 804edffb
<<<<<<< HEAD
<<<<<<< HEAD
<<<<<<< HEAD
   "id": "bc9d279e",
||||||| 6a30bf1
   "id": "26adf447",
=======
   "id": "d998c873",
>>>>>>> documentation-devel
||||||| d28b18c
   "id": "d998c873",
=======
   "id": "3a14ed60",
>>>>>>> documentation-devel
||||||| 6893f63
<<<<<<< HEAD
   "id": "bc9d279e",
||||||| 6a30bf1
   "id": "26adf447",
=======
   "id": "d998c873",
>>>>>>> documentation-devel
=======
   "id": "6e367fa9",
>>>>>>> c74c98c2450c2a1ba922ed9442f136238d6bc88b
=======
   "id": "401bed89",
>>>>>>> 035bb2637984ead2784fecff78c0c60cc4181202
||||||| 3effdfa5
   "id": "55c51973",
=======
   "id": "250bcd23",
>>>>>>> documentation-devel
||||||| 96c826da
<<<<<<< HEAD
<<<<<<< HEAD
<<<<<<< HEAD
<<<<<<< HEAD
<<<<<<< HEAD
   "id": "bc9d279e",
||||||| 6a30bf1
   "id": "26adf447",
=======
   "id": "d998c873",
>>>>>>> documentation-devel
||||||| d28b18c
   "id": "d998c873",
=======
   "id": "3a14ed60",
>>>>>>> documentation-devel
||||||| 6893f63
<<<<<<< HEAD
   "id": "bc9d279e",
||||||| 6a30bf1
   "id": "26adf447",
=======
   "id": "d998c873",
>>>>>>> documentation-devel
=======
   "id": "6e367fa9",
>>>>>>> c74c98c2450c2a1ba922ed9442f136238d6bc88b
||||||| 6d93b645
   "id": "3a14ed60",
=======
   "id": "55c51973",
>>>>>>> documentation-devel
||||||| 804edffb
<<<<<<< HEAD
<<<<<<< HEAD
<<<<<<< HEAD
   "id": "bc9d279e",
||||||| 6a30bf1
   "id": "26adf447",
=======
   "id": "d998c873",
>>>>>>> documentation-devel
||||||| d28b18c
   "id": "d998c873",
=======
   "id": "3a14ed60",
>>>>>>> documentation-devel
||||||| 6893f63
<<<<<<< HEAD
   "id": "bc9d279e",
||||||| 6a30bf1
   "id": "26adf447",
=======
   "id": "d998c873",
>>>>>>> documentation-devel
=======
   "id": "6e367fa9",
>>>>>>> c74c98c2450c2a1ba922ed9442f136238d6bc88b
=======
   "id": "401bed89",
>>>>>>> 035bb2637984ead2784fecff78c0c60cc4181202
=======
   "id": "1bc5a8d9",
>>>>>>> 619c01f26351d57ac14d974b7af136ac5756103f
   "metadata": {
    "fig.height": 9,
    "fig.width": 9
   },
   "outputs": [],
   "source": [
    "plotPCA(sfe_tissue, ncomponents = 5, colour_by = \"cluster\")"
   ]
  },
  {
   "cell_type": "code",
   "execution_count": null,
<<<<<<< HEAD
<<<<<<< HEAD
<<<<<<< HEAD
<<<<<<< HEAD
<<<<<<< HEAD
<<<<<<< HEAD
<<<<<<< HEAD
   "id": "59cacbd0",
||||||| 6a30bf1
   "id": "60a8effa",
=======
   "id": "fb78e325",
>>>>>>> documentation-devel
||||||| d28b18c
   "id": "fb78e325",
=======
   "id": "bc4c5238",
>>>>>>> documentation-devel
||||||| 6893f63
<<<<<<< HEAD
   "id": "59cacbd0",
||||||| 6a30bf1
   "id": "60a8effa",
=======
   "id": "fb78e325",
>>>>>>> documentation-devel
=======
   "id": "141e8b2f",
>>>>>>> c74c98c2450c2a1ba922ed9442f136238d6bc88b
||||||| 6d93b645
   "id": "bc4c5238",
=======
   "id": "ff99eebf",
>>>>>>> documentation-devel
||||||| 804edffb
<<<<<<< HEAD
<<<<<<< HEAD
<<<<<<< HEAD
   "id": "59cacbd0",
||||||| 6a30bf1
   "id": "60a8effa",
=======
   "id": "fb78e325",
>>>>>>> documentation-devel
||||||| d28b18c
   "id": "fb78e325",
=======
   "id": "bc4c5238",
>>>>>>> documentation-devel
||||||| 6893f63
<<<<<<< HEAD
   "id": "59cacbd0",
||||||| 6a30bf1
   "id": "60a8effa",
=======
   "id": "fb78e325",
>>>>>>> documentation-devel
=======
   "id": "141e8b2f",
>>>>>>> c74c98c2450c2a1ba922ed9442f136238d6bc88b
=======
   "id": "71f71b3e",
>>>>>>> 035bb2637984ead2784fecff78c0c60cc4181202
||||||| 3effdfa5
   "id": "ff99eebf",
=======
   "id": "4197501f",
>>>>>>> documentation-devel
||||||| 96c826da
<<<<<<< HEAD
<<<<<<< HEAD
<<<<<<< HEAD
<<<<<<< HEAD
<<<<<<< HEAD
   "id": "59cacbd0",
||||||| 6a30bf1
   "id": "60a8effa",
=======
   "id": "fb78e325",
>>>>>>> documentation-devel
||||||| d28b18c
   "id": "fb78e325",
=======
   "id": "bc4c5238",
>>>>>>> documentation-devel
||||||| 6893f63
<<<<<<< HEAD
   "id": "59cacbd0",
||||||| 6a30bf1
   "id": "60a8effa",
=======
   "id": "fb78e325",
>>>>>>> documentation-devel
=======
   "id": "141e8b2f",
>>>>>>> c74c98c2450c2a1ba922ed9442f136238d6bc88b
||||||| 6d93b645
   "id": "bc4c5238",
=======
   "id": "ff99eebf",
>>>>>>> documentation-devel
||||||| 804edffb
<<<<<<< HEAD
<<<<<<< HEAD
<<<<<<< HEAD
   "id": "59cacbd0",
||||||| 6a30bf1
   "id": "60a8effa",
=======
   "id": "fb78e325",
>>>>>>> documentation-devel
||||||| d28b18c
   "id": "fb78e325",
=======
   "id": "bc4c5238",
>>>>>>> documentation-devel
||||||| 6893f63
<<<<<<< HEAD
   "id": "59cacbd0",
||||||| 6a30bf1
   "id": "60a8effa",
=======
   "id": "fb78e325",
>>>>>>> documentation-devel
=======
   "id": "141e8b2f",
>>>>>>> c74c98c2450c2a1ba922ed9442f136238d6bc88b
=======
   "id": "71f71b3e",
>>>>>>> 035bb2637984ead2784fecff78c0c60cc4181202
=======
   "id": "a3cf4a98",
>>>>>>> 619c01f26351d57ac14d974b7af136ac5756103f
   "metadata": {},
   "outputs": [],
   "source": [
    "plotSpatialFeature(sfe_tissue, features = \"cluster\", \n",
    "                   colGeometryName = \"spotPoly\", image_id = \"lowres\")"
   ]
  },
  {
   "cell_type": "code",
   "execution_count": null,
<<<<<<< HEAD
<<<<<<< HEAD
<<<<<<< HEAD
<<<<<<< HEAD
<<<<<<< HEAD
<<<<<<< HEAD
<<<<<<< HEAD
   "id": "9b80e5ab",
||||||| 6a30bf1
   "id": "39f60da1",
=======
   "id": "3648cf32",
>>>>>>> documentation-devel
||||||| d28b18c
   "id": "3648cf32",
=======
   "id": "2453e53a",
>>>>>>> documentation-devel
||||||| 6893f63
<<<<<<< HEAD
   "id": "9b80e5ab",
||||||| 6a30bf1
   "id": "39f60da1",
=======
   "id": "3648cf32",
>>>>>>> documentation-devel
=======
   "id": "495d2412",
>>>>>>> c74c98c2450c2a1ba922ed9442f136238d6bc88b
||||||| 6d93b645
   "id": "2453e53a",
=======
   "id": "102822cd",
>>>>>>> documentation-devel
||||||| 804edffb
<<<<<<< HEAD
<<<<<<< HEAD
<<<<<<< HEAD
   "id": "9b80e5ab",
||||||| 6a30bf1
   "id": "39f60da1",
=======
   "id": "3648cf32",
>>>>>>> documentation-devel
||||||| d28b18c
   "id": "3648cf32",
=======
   "id": "2453e53a",
>>>>>>> documentation-devel
||||||| 6893f63
<<<<<<< HEAD
   "id": "9b80e5ab",
||||||| 6a30bf1
   "id": "39f60da1",
=======
   "id": "3648cf32",
>>>>>>> documentation-devel
=======
   "id": "495d2412",
>>>>>>> c74c98c2450c2a1ba922ed9442f136238d6bc88b
=======
   "id": "f356d74a",
>>>>>>> 035bb2637984ead2784fecff78c0c60cc4181202
||||||| 3effdfa5
   "id": "102822cd",
=======
   "id": "b275d1f0",
>>>>>>> documentation-devel
||||||| 96c826da
<<<<<<< HEAD
<<<<<<< HEAD
<<<<<<< HEAD
<<<<<<< HEAD
<<<<<<< HEAD
   "id": "9b80e5ab",
||||||| 6a30bf1
   "id": "39f60da1",
=======
   "id": "3648cf32",
>>>>>>> documentation-devel
||||||| d28b18c
   "id": "3648cf32",
=======
   "id": "2453e53a",
>>>>>>> documentation-devel
||||||| 6893f63
<<<<<<< HEAD
   "id": "9b80e5ab",
||||||| 6a30bf1
   "id": "39f60da1",
=======
   "id": "3648cf32",
>>>>>>> documentation-devel
=======
   "id": "495d2412",
>>>>>>> c74c98c2450c2a1ba922ed9442f136238d6bc88b
||||||| 6d93b645
   "id": "2453e53a",
=======
   "id": "102822cd",
>>>>>>> documentation-devel
||||||| 804edffb
<<<<<<< HEAD
<<<<<<< HEAD
<<<<<<< HEAD
   "id": "9b80e5ab",
||||||| 6a30bf1
   "id": "39f60da1",
=======
   "id": "3648cf32",
>>>>>>> documentation-devel
||||||| d28b18c
   "id": "3648cf32",
=======
   "id": "2453e53a",
>>>>>>> documentation-devel
||||||| 6893f63
<<<<<<< HEAD
   "id": "9b80e5ab",
||||||| 6a30bf1
   "id": "39f60da1",
=======
   "id": "3648cf32",
>>>>>>> documentation-devel
=======
   "id": "495d2412",
>>>>>>> c74c98c2450c2a1ba922ed9442f136238d6bc88b
=======
   "id": "f356d74a",
>>>>>>> 035bb2637984ead2784fecff78c0c60cc4181202
=======
   "id": "716a47a4",
>>>>>>> 619c01f26351d57ac14d974b7af136ac5756103f
   "metadata": {
    "fig.height": 8,
    "fig.width": 8
   },
   "outputs": [],
   "source": [
    "spatialReducedDim(sfe_tissue, \"PCA\", ncomponents = 5, \n",
    "                  colGeometryName = \"spotPoly\", divergent = TRUE, \n",
    "                  diverge_center = 0, ncol = 2, \n",
    "                  image_id = \"lowres\", maxcell = 5e4)"
   ]
  },
  {
   "cell_type": "code",
   "execution_count": null,
<<<<<<< HEAD
<<<<<<< HEAD
<<<<<<< HEAD
<<<<<<< HEAD
<<<<<<< HEAD
<<<<<<< HEAD
<<<<<<< HEAD
   "id": "4101d63c",
||||||| 6a30bf1
   "id": "755de685",
=======
   "id": "c0f24793",
>>>>>>> documentation-devel
||||||| d28b18c
   "id": "c0f24793",
=======
   "id": "f4af2598",
>>>>>>> documentation-devel
||||||| 6893f63
<<<<<<< HEAD
   "id": "4101d63c",
||||||| 6a30bf1
   "id": "755de685",
=======
   "id": "c0f24793",
>>>>>>> documentation-devel
=======
   "id": "614b1600",
>>>>>>> c74c98c2450c2a1ba922ed9442f136238d6bc88b
||||||| 6d93b645
   "id": "f4af2598",
=======
   "id": "4fcad8f1",
>>>>>>> documentation-devel
||||||| 804edffb
<<<<<<< HEAD
<<<<<<< HEAD
<<<<<<< HEAD
   "id": "4101d63c",
||||||| 6a30bf1
   "id": "755de685",
=======
   "id": "c0f24793",
>>>>>>> documentation-devel
||||||| d28b18c
   "id": "c0f24793",
=======
   "id": "f4af2598",
>>>>>>> documentation-devel
||||||| 6893f63
<<<<<<< HEAD
   "id": "4101d63c",
||||||| 6a30bf1
   "id": "755de685",
=======
   "id": "c0f24793",
>>>>>>> documentation-devel
=======
   "id": "614b1600",
>>>>>>> c74c98c2450c2a1ba922ed9442f136238d6bc88b
=======
   "id": "749797ff",
>>>>>>> 035bb2637984ead2784fecff78c0c60cc4181202
||||||| 3effdfa5
   "id": "4fcad8f1",
=======
   "id": "8aefee75",
>>>>>>> documentation-devel
||||||| 96c826da
<<<<<<< HEAD
<<<<<<< HEAD
<<<<<<< HEAD
<<<<<<< HEAD
<<<<<<< HEAD
   "id": "4101d63c",
||||||| 6a30bf1
   "id": "755de685",
=======
   "id": "c0f24793",
>>>>>>> documentation-devel
||||||| d28b18c
   "id": "c0f24793",
=======
   "id": "f4af2598",
>>>>>>> documentation-devel
||||||| 6893f63
<<<<<<< HEAD
   "id": "4101d63c",
||||||| 6a30bf1
   "id": "755de685",
=======
   "id": "c0f24793",
>>>>>>> documentation-devel
=======
   "id": "614b1600",
>>>>>>> c74c98c2450c2a1ba922ed9442f136238d6bc88b
||||||| 6d93b645
   "id": "f4af2598",
=======
   "id": "4fcad8f1",
>>>>>>> documentation-devel
||||||| 804edffb
<<<<<<< HEAD
<<<<<<< HEAD
<<<<<<< HEAD
   "id": "4101d63c",
||||||| 6a30bf1
   "id": "755de685",
=======
   "id": "c0f24793",
>>>>>>> documentation-devel
||||||| d28b18c
   "id": "c0f24793",
=======
   "id": "f4af2598",
>>>>>>> documentation-devel
||||||| 6893f63
<<<<<<< HEAD
   "id": "4101d63c",
||||||| 6a30bf1
   "id": "755de685",
=======
   "id": "c0f24793",
>>>>>>> documentation-devel
=======
   "id": "614b1600",
>>>>>>> c74c98c2450c2a1ba922ed9442f136238d6bc88b
=======
   "id": "749797ff",
>>>>>>> 035bb2637984ead2784fecff78c0c60cc4181202
=======
   "id": "d3fdc2f1",
>>>>>>> 619c01f26351d57ac14d974b7af136ac5756103f
   "metadata": {},
   "outputs": [],
   "source": [
    "markers <- findMarkers(sfe_tissue, groups = colData(sfe_tissue)$cluster,\n",
    "                       test.type = \"wilcox\", pval.type = \"all\", direction = \"up\")"
   ]
  },
  {
   "cell_type": "markdown",
<<<<<<< HEAD
<<<<<<< HEAD
<<<<<<< HEAD
<<<<<<< HEAD
<<<<<<< HEAD
<<<<<<< HEAD
<<<<<<< HEAD
   "id": "f41a8b3f",
||||||| 6a30bf1
   "id": "bc0f5722",
=======
   "id": "66f4e280",
>>>>>>> documentation-devel
||||||| d28b18c
   "id": "66f4e280",
=======
   "id": "0d2f62bf",
>>>>>>> documentation-devel
||||||| 6893f63
<<<<<<< HEAD
   "id": "f41a8b3f",
||||||| 6a30bf1
   "id": "bc0f5722",
=======
   "id": "66f4e280",
>>>>>>> documentation-devel
=======
   "id": "de829972",
>>>>>>> c74c98c2450c2a1ba922ed9442f136238d6bc88b
||||||| 6d93b645
   "id": "0d2f62bf",
=======
   "id": "cb472b1e",
>>>>>>> documentation-devel
||||||| 804edffb
<<<<<<< HEAD
<<<<<<< HEAD
<<<<<<< HEAD
   "id": "f41a8b3f",
||||||| 6a30bf1
   "id": "bc0f5722",
=======
   "id": "66f4e280",
>>>>>>> documentation-devel
||||||| d28b18c
   "id": "66f4e280",
=======
   "id": "0d2f62bf",
>>>>>>> documentation-devel
||||||| 6893f63
<<<<<<< HEAD
   "id": "f41a8b3f",
||||||| 6a30bf1
   "id": "bc0f5722",
=======
   "id": "66f4e280",
>>>>>>> documentation-devel
=======
   "id": "de829972",
>>>>>>> c74c98c2450c2a1ba922ed9442f136238d6bc88b
=======
   "id": "0bcc321f",
>>>>>>> 035bb2637984ead2784fecff78c0c60cc4181202
||||||| 3effdfa5
   "id": "cb472b1e",
=======
   "id": "92c7fd2f",
>>>>>>> documentation-devel
||||||| 96c826da
<<<<<<< HEAD
<<<<<<< HEAD
<<<<<<< HEAD
<<<<<<< HEAD
<<<<<<< HEAD
   "id": "f41a8b3f",
||||||| 6a30bf1
   "id": "bc0f5722",
=======
   "id": "66f4e280",
>>>>>>> documentation-devel
||||||| d28b18c
   "id": "66f4e280",
=======
   "id": "0d2f62bf",
>>>>>>> documentation-devel
||||||| 6893f63
<<<<<<< HEAD
   "id": "f41a8b3f",
||||||| 6a30bf1
   "id": "bc0f5722",
=======
   "id": "66f4e280",
>>>>>>> documentation-devel
=======
   "id": "de829972",
>>>>>>> c74c98c2450c2a1ba922ed9442f136238d6bc88b
||||||| 6d93b645
   "id": "0d2f62bf",
=======
   "id": "cb472b1e",
>>>>>>> documentation-devel
||||||| 804edffb
<<<<<<< HEAD
<<<<<<< HEAD
<<<<<<< HEAD
   "id": "f41a8b3f",
||||||| 6a30bf1
   "id": "bc0f5722",
=======
   "id": "66f4e280",
>>>>>>> documentation-devel
||||||| d28b18c
   "id": "66f4e280",
=======
   "id": "0d2f62bf",
>>>>>>> documentation-devel
||||||| 6893f63
<<<<<<< HEAD
   "id": "f41a8b3f",
||||||| 6a30bf1
   "id": "bc0f5722",
=======
   "id": "66f4e280",
>>>>>>> documentation-devel
=======
   "id": "de829972",
>>>>>>> c74c98c2450c2a1ba922ed9442f136238d6bc88b
=======
   "id": "0bcc321f",
>>>>>>> 035bb2637984ead2784fecff78c0c60cc4181202
=======
   "id": "c3c5d13b",
>>>>>>> 619c01f26351d57ac14d974b7af136ac5756103f
   "metadata": {
    "lines_to_next_cell": 0
   },
   "source": [
    "Significant markers for each cluster can be obtained as follows:"
   ]
  },
  {
   "cell_type": "code",
   "execution_count": null,
<<<<<<< HEAD
<<<<<<< HEAD
<<<<<<< HEAD
<<<<<<< HEAD
<<<<<<< HEAD
<<<<<<< HEAD
<<<<<<< HEAD
   "id": "c66bcd1f",
||||||| 6a30bf1
   "id": "5829b19b",
=======
   "id": "573e8840",
>>>>>>> documentation-devel
||||||| d28b18c
   "id": "573e8840",
=======
   "id": "09bb7868",
>>>>>>> documentation-devel
||||||| 6893f63
<<<<<<< HEAD
   "id": "c66bcd1f",
||||||| 6a30bf1
   "id": "5829b19b",
=======
   "id": "573e8840",
>>>>>>> documentation-devel
=======
   "id": "a5d7c84f",
>>>>>>> c74c98c2450c2a1ba922ed9442f136238d6bc88b
||||||| 6d93b645
   "id": "09bb7868",
=======
   "id": "c52e22b1",
>>>>>>> documentation-devel
||||||| 804edffb
<<<<<<< HEAD
<<<<<<< HEAD
<<<<<<< HEAD
   "id": "c66bcd1f",
||||||| 6a30bf1
   "id": "5829b19b",
=======
   "id": "573e8840",
>>>>>>> documentation-devel
||||||| d28b18c
   "id": "573e8840",
=======
   "id": "09bb7868",
>>>>>>> documentation-devel
||||||| 6893f63
<<<<<<< HEAD
   "id": "c66bcd1f",
||||||| 6a30bf1
   "id": "5829b19b",
=======
   "id": "573e8840",
>>>>>>> documentation-devel
=======
   "id": "a5d7c84f",
>>>>>>> c74c98c2450c2a1ba922ed9442f136238d6bc88b
=======
   "id": "73c6d68f",
>>>>>>> 035bb2637984ead2784fecff78c0c60cc4181202
||||||| 3effdfa5
   "id": "c52e22b1",
=======
   "id": "3aae3f43",
>>>>>>> documentation-devel
||||||| 96c826da
<<<<<<< HEAD
<<<<<<< HEAD
<<<<<<< HEAD
<<<<<<< HEAD
<<<<<<< HEAD
   "id": "c66bcd1f",
||||||| 6a30bf1
   "id": "5829b19b",
=======
   "id": "573e8840",
>>>>>>> documentation-devel
||||||| d28b18c
   "id": "573e8840",
=======
   "id": "09bb7868",
>>>>>>> documentation-devel
||||||| 6893f63
<<<<<<< HEAD
   "id": "c66bcd1f",
||||||| 6a30bf1
   "id": "5829b19b",
=======
   "id": "573e8840",
>>>>>>> documentation-devel
=======
   "id": "a5d7c84f",
>>>>>>> c74c98c2450c2a1ba922ed9442f136238d6bc88b
||||||| 6d93b645
   "id": "09bb7868",
=======
   "id": "c52e22b1",
>>>>>>> documentation-devel
||||||| 804edffb
<<<<<<< HEAD
<<<<<<< HEAD
<<<<<<< HEAD
   "id": "c66bcd1f",
||||||| 6a30bf1
   "id": "5829b19b",
=======
   "id": "573e8840",
>>>>>>> documentation-devel
||||||| d28b18c
   "id": "573e8840",
=======
   "id": "09bb7868",
>>>>>>> documentation-devel
||||||| 6893f63
<<<<<<< HEAD
   "id": "c66bcd1f",
||||||| 6a30bf1
   "id": "5829b19b",
=======
   "id": "573e8840",
>>>>>>> documentation-devel
=======
   "id": "a5d7c84f",
>>>>>>> c74c98c2450c2a1ba922ed9442f136238d6bc88b
=======
   "id": "73c6d68f",
>>>>>>> 035bb2637984ead2784fecff78c0c60cc4181202
=======
   "id": "b176892a",
>>>>>>> 619c01f26351d57ac14d974b7af136ac5756103f
   "metadata": {},
   "outputs": [],
   "source": [
    "genes_use <- vapply(markers, function(x) rownames(x)[1], FUN.VALUE = character(1))\n",
    "plotExpression(sfe_tissue, rowData(sfe_tissue)[genes_use, \"symbol\"], x = \"cluster\",\n",
    "               colour_by = \"cluster\", swap_rownames = \"symbol\")"
   ]
  },
  {
   "cell_type": "markdown",
<<<<<<< HEAD
<<<<<<< HEAD
<<<<<<< HEAD
<<<<<<< HEAD
<<<<<<< HEAD
<<<<<<< HEAD
<<<<<<< HEAD
   "id": "5df2ab1b",
||||||| 6a30bf1
   "id": "cccb7e9e",
=======
   "id": "80f8052c",
>>>>>>> documentation-devel
||||||| d28b18c
   "id": "80f8052c",
=======
   "id": "65e59369",
>>>>>>> documentation-devel
||||||| 6893f63
<<<<<<< HEAD
   "id": "5df2ab1b",
||||||| 6a30bf1
   "id": "cccb7e9e",
=======
   "id": "80f8052c",
>>>>>>> documentation-devel
=======
   "id": "790d56b7",
>>>>>>> c74c98c2450c2a1ba922ed9442f136238d6bc88b
||||||| 6d93b645
   "id": "65e59369",
=======
   "id": "81560541",
>>>>>>> documentation-devel
||||||| 804edffb
<<<<<<< HEAD
<<<<<<< HEAD
<<<<<<< HEAD
   "id": "5df2ab1b",
||||||| 6a30bf1
   "id": "cccb7e9e",
=======
   "id": "80f8052c",
>>>>>>> documentation-devel
||||||| d28b18c
   "id": "80f8052c",
=======
   "id": "65e59369",
>>>>>>> documentation-devel
||||||| 6893f63
<<<<<<< HEAD
   "id": "5df2ab1b",
||||||| 6a30bf1
   "id": "cccb7e9e",
=======
   "id": "80f8052c",
>>>>>>> documentation-devel
=======
   "id": "790d56b7",
>>>>>>> c74c98c2450c2a1ba922ed9442f136238d6bc88b
=======
   "id": "23ab1cda",
>>>>>>> 035bb2637984ead2784fecff78c0c60cc4181202
||||||| 3effdfa5
   "id": "81560541",
=======
   "id": "afb4abcd",
>>>>>>> documentation-devel
||||||| 96c826da
<<<<<<< HEAD
<<<<<<< HEAD
<<<<<<< HEAD
<<<<<<< HEAD
<<<<<<< HEAD
   "id": "5df2ab1b",
||||||| 6a30bf1
   "id": "cccb7e9e",
=======
   "id": "80f8052c",
>>>>>>> documentation-devel
||||||| d28b18c
   "id": "80f8052c",
=======
   "id": "65e59369",
>>>>>>> documentation-devel
||||||| 6893f63
<<<<<<< HEAD
   "id": "5df2ab1b",
||||||| 6a30bf1
   "id": "cccb7e9e",
=======
   "id": "80f8052c",
>>>>>>> documentation-devel
=======
   "id": "790d56b7",
>>>>>>> c74c98c2450c2a1ba922ed9442f136238d6bc88b
||||||| 6d93b645
   "id": "65e59369",
=======
   "id": "81560541",
>>>>>>> documentation-devel
||||||| 804edffb
<<<<<<< HEAD
<<<<<<< HEAD
<<<<<<< HEAD
   "id": "5df2ab1b",
||||||| 6a30bf1
   "id": "cccb7e9e",
=======
   "id": "80f8052c",
>>>>>>> documentation-devel
||||||| d28b18c
   "id": "80f8052c",
=======
   "id": "65e59369",
>>>>>>> documentation-devel
||||||| 6893f63
<<<<<<< HEAD
   "id": "5df2ab1b",
||||||| 6a30bf1
   "id": "cccb7e9e",
=======
   "id": "80f8052c",
>>>>>>> documentation-devel
=======
   "id": "790d56b7",
>>>>>>> c74c98c2450c2a1ba922ed9442f136238d6bc88b
=======
   "id": "23ab1cda",
>>>>>>> 035bb2637984ead2784fecff78c0c60cc4181202
=======
   "id": "a691f56d",
>>>>>>> 619c01f26351d57ac14d974b7af136ac5756103f
   "metadata": {
    "lines_to_next_cell": 0
   },
   "source": [
    "These genes are interesting to view in spatial context:"
   ]
  },
  {
   "cell_type": "code",
   "execution_count": null,
<<<<<<< HEAD
<<<<<<< HEAD
<<<<<<< HEAD
<<<<<<< HEAD
<<<<<<< HEAD
<<<<<<< HEAD
<<<<<<< HEAD
   "id": "aad2557d",
||||||| 6a30bf1
   "id": "5bb931c1",
=======
   "id": "8e772bf4",
>>>>>>> documentation-devel
||||||| d28b18c
   "id": "8e772bf4",
=======
   "id": "62c709c7",
>>>>>>> documentation-devel
||||||| 6893f63
<<<<<<< HEAD
   "id": "aad2557d",
||||||| 6a30bf1
   "id": "5bb931c1",
=======
   "id": "8e772bf4",
>>>>>>> documentation-devel
=======
   "id": "5a7e36e6",
>>>>>>> c74c98c2450c2a1ba922ed9442f136238d6bc88b
||||||| 6d93b645
   "id": "62c709c7",
=======
   "id": "5a255572",
>>>>>>> documentation-devel
||||||| 804edffb
<<<<<<< HEAD
<<<<<<< HEAD
<<<<<<< HEAD
   "id": "aad2557d",
||||||| 6a30bf1
   "id": "5bb931c1",
=======
   "id": "8e772bf4",
>>>>>>> documentation-devel
||||||| d28b18c
   "id": "8e772bf4",
=======
   "id": "62c709c7",
>>>>>>> documentation-devel
||||||| 6893f63
<<<<<<< HEAD
   "id": "aad2557d",
||||||| 6a30bf1
   "id": "5bb931c1",
=======
   "id": "8e772bf4",
>>>>>>> documentation-devel
=======
   "id": "5a7e36e6",
>>>>>>> c74c98c2450c2a1ba922ed9442f136238d6bc88b
=======
   "id": "c6e381fd",
>>>>>>> 035bb2637984ead2784fecff78c0c60cc4181202
||||||| 3effdfa5
   "id": "5a255572",
=======
   "id": "2e76601e",
>>>>>>> documentation-devel
||||||| 96c826da
<<<<<<< HEAD
<<<<<<< HEAD
<<<<<<< HEAD
<<<<<<< HEAD
<<<<<<< HEAD
   "id": "aad2557d",
||||||| 6a30bf1
   "id": "5bb931c1",
=======
   "id": "8e772bf4",
>>>>>>> documentation-devel
||||||| d28b18c
   "id": "8e772bf4",
=======
   "id": "62c709c7",
>>>>>>> documentation-devel
||||||| 6893f63
<<<<<<< HEAD
   "id": "aad2557d",
||||||| 6a30bf1
   "id": "5bb931c1",
=======
   "id": "8e772bf4",
>>>>>>> documentation-devel
=======
   "id": "5a7e36e6",
>>>>>>> c74c98c2450c2a1ba922ed9442f136238d6bc88b
||||||| 6d93b645
   "id": "62c709c7",
=======
   "id": "5a255572",
>>>>>>> documentation-devel
||||||| 804edffb
<<<<<<< HEAD
<<<<<<< HEAD
<<<<<<< HEAD
   "id": "aad2557d",
||||||| 6a30bf1
   "id": "5bb931c1",
=======
   "id": "8e772bf4",
>>>>>>> documentation-devel
||||||| d28b18c
   "id": "8e772bf4",
=======
   "id": "62c709c7",
>>>>>>> documentation-devel
||||||| 6893f63
<<<<<<< HEAD
   "id": "aad2557d",
||||||| 6a30bf1
   "id": "5bb931c1",
=======
   "id": "8e772bf4",
>>>>>>> documentation-devel
=======
   "id": "5a7e36e6",
>>>>>>> c74c98c2450c2a1ba922ed9442f136238d6bc88b
=======
   "id": "c6e381fd",
>>>>>>> 035bb2637984ead2784fecff78c0c60cc4181202
=======
   "id": "9f4bd126",
>>>>>>> 619c01f26351d57ac14d974b7af136ac5756103f
   "metadata": {
    "fig.height": 8,
    "fig.width": 8
   },
   "outputs": [],
   "source": [
    "plotSpatialFeature(sfe_tissue, genes_use, colGeometryName = \"spotPoly\", ncol = 2,\n",
    "                   swap_rownames = \"symbol\", image_id = \"lowres\", maxcell = 5e4)"
   ]
  },
  {
   "cell_type": "markdown",
<<<<<<< HEAD
<<<<<<< HEAD
<<<<<<< HEAD
<<<<<<< HEAD
<<<<<<< HEAD
<<<<<<< HEAD
<<<<<<< HEAD
   "id": "535c2135",
||||||| 6a30bf1
   "id": "1e9b314c",
=======
   "id": "088ac70c",
>>>>>>> documentation-devel
||||||| d28b18c
   "id": "088ac70c",
=======
   "id": "0bf8e98c",
>>>>>>> documentation-devel
||||||| 6893f63
<<<<<<< HEAD
   "id": "535c2135",
||||||| 6a30bf1
   "id": "1e9b314c",
=======
   "id": "088ac70c",
>>>>>>> documentation-devel
=======
   "id": "88b110af",
>>>>>>> c74c98c2450c2a1ba922ed9442f136238d6bc88b
||||||| 6d93b645
   "id": "0bf8e98c",
=======
   "id": "41637737",
>>>>>>> documentation-devel
||||||| 804edffb
<<<<<<< HEAD
<<<<<<< HEAD
<<<<<<< HEAD
   "id": "535c2135",
||||||| 6a30bf1
   "id": "1e9b314c",
=======
   "id": "088ac70c",
>>>>>>> documentation-devel
||||||| d28b18c
   "id": "088ac70c",
=======
   "id": "0bf8e98c",
>>>>>>> documentation-devel
||||||| 6893f63
<<<<<<< HEAD
   "id": "535c2135",
||||||| 6a30bf1
   "id": "1e9b314c",
=======
   "id": "088ac70c",
>>>>>>> documentation-devel
=======
   "id": "88b110af",
>>>>>>> c74c98c2450c2a1ba922ed9442f136238d6bc88b
=======
   "id": "54fabf26",
>>>>>>> 035bb2637984ead2784fecff78c0c60cc4181202
||||||| 3effdfa5
   "id": "41637737",
=======
   "id": "121ef05a",
>>>>>>> documentation-devel
||||||| 96c826da
<<<<<<< HEAD
<<<<<<< HEAD
<<<<<<< HEAD
<<<<<<< HEAD
<<<<<<< HEAD
   "id": "535c2135",
||||||| 6a30bf1
   "id": "1e9b314c",
=======
   "id": "088ac70c",
>>>>>>> documentation-devel
||||||| d28b18c
   "id": "088ac70c",
=======
   "id": "0bf8e98c",
>>>>>>> documentation-devel
||||||| 6893f63
<<<<<<< HEAD
   "id": "535c2135",
||||||| 6a30bf1
   "id": "1e9b314c",
=======
   "id": "088ac70c",
>>>>>>> documentation-devel
=======
   "id": "88b110af",
>>>>>>> c74c98c2450c2a1ba922ed9442f136238d6bc88b
||||||| 6d93b645
   "id": "0bf8e98c",
=======
   "id": "41637737",
>>>>>>> documentation-devel
||||||| 804edffb
<<<<<<< HEAD
<<<<<<< HEAD
<<<<<<< HEAD
   "id": "535c2135",
||||||| 6a30bf1
   "id": "1e9b314c",
=======
   "id": "088ac70c",
>>>>>>> documentation-devel
||||||| d28b18c
   "id": "088ac70c",
=======
   "id": "0bf8e98c",
>>>>>>> documentation-devel
||||||| 6893f63
<<<<<<< HEAD
   "id": "535c2135",
||||||| 6a30bf1
   "id": "1e9b314c",
=======
   "id": "088ac70c",
>>>>>>> documentation-devel
=======
   "id": "88b110af",
>>>>>>> c74c98c2450c2a1ba922ed9442f136238d6bc88b
=======
   "id": "54fabf26",
>>>>>>> 035bb2637984ead2784fecff78c0c60cc4181202
=======
   "id": "3988f19c",
>>>>>>> 619c01f26351d57ac14d974b7af136ac5756103f
   "metadata": {
    "lines_to_next_cell": 0
   },
   "source": [
    "More spatial analyses on this dataset is performed in [an \"advanced\" version of this vignette](https://pachterlab.github.io/voyager/articles/visium_10x_spatial.html).\n",
    "\n",
    "# Session info"
   ]
  },
  {
   "cell_type": "code",
   "execution_count": null,
<<<<<<< HEAD
<<<<<<< HEAD
<<<<<<< HEAD
<<<<<<< HEAD
<<<<<<< HEAD
<<<<<<< HEAD
<<<<<<< HEAD
   "id": "cadec817",
||||||| 6a30bf1
   "id": "fe2f5587",
=======
   "id": "07582672",
>>>>>>> documentation-devel
||||||| d28b18c
   "id": "07582672",
=======
   "id": "3d3cc9c3",
>>>>>>> documentation-devel
||||||| 6893f63
<<<<<<< HEAD
   "id": "cadec817",
||||||| 6a30bf1
   "id": "fe2f5587",
=======
   "id": "07582672",
>>>>>>> documentation-devel
=======
   "id": "c0e793ac",
>>>>>>> c74c98c2450c2a1ba922ed9442f136238d6bc88b
||||||| 6d93b645
   "id": "3d3cc9c3",
=======
   "id": "2a0ced92",
>>>>>>> documentation-devel
||||||| 804edffb
<<<<<<< HEAD
<<<<<<< HEAD
<<<<<<< HEAD
   "id": "cadec817",
||||||| 6a30bf1
   "id": "fe2f5587",
=======
   "id": "07582672",
>>>>>>> documentation-devel
||||||| d28b18c
   "id": "07582672",
=======
   "id": "3d3cc9c3",
>>>>>>> documentation-devel
||||||| 6893f63
<<<<<<< HEAD
   "id": "cadec817",
||||||| 6a30bf1
   "id": "fe2f5587",
=======
   "id": "07582672",
>>>>>>> documentation-devel
=======
   "id": "c0e793ac",
>>>>>>> c74c98c2450c2a1ba922ed9442f136238d6bc88b
=======
   "id": "b9985f10",
>>>>>>> 035bb2637984ead2784fecff78c0c60cc4181202
||||||| 3effdfa5
   "id": "2a0ced92",
=======
   "id": "3fc3285a",
>>>>>>> documentation-devel
||||||| 96c826da
<<<<<<< HEAD
<<<<<<< HEAD
<<<<<<< HEAD
<<<<<<< HEAD
<<<<<<< HEAD
   "id": "cadec817",
||||||| 6a30bf1
   "id": "fe2f5587",
=======
   "id": "07582672",
>>>>>>> documentation-devel
||||||| d28b18c
   "id": "07582672",
=======
   "id": "3d3cc9c3",
>>>>>>> documentation-devel
||||||| 6893f63
<<<<<<< HEAD
   "id": "cadec817",
||||||| 6a30bf1
   "id": "fe2f5587",
=======
   "id": "07582672",
>>>>>>> documentation-devel
=======
   "id": "c0e793ac",
>>>>>>> c74c98c2450c2a1ba922ed9442f136238d6bc88b
||||||| 6d93b645
   "id": "3d3cc9c3",
=======
   "id": "2a0ced92",
>>>>>>> documentation-devel
||||||| 804edffb
<<<<<<< HEAD
<<<<<<< HEAD
<<<<<<< HEAD
   "id": "cadec817",
||||||| 6a30bf1
   "id": "fe2f5587",
=======
   "id": "07582672",
>>>>>>> documentation-devel
||||||| d28b18c
   "id": "07582672",
=======
   "id": "3d3cc9c3",
>>>>>>> documentation-devel
||||||| 6893f63
<<<<<<< HEAD
   "id": "cadec817",
||||||| 6a30bf1
   "id": "fe2f5587",
=======
   "id": "07582672",
>>>>>>> documentation-devel
=======
   "id": "c0e793ac",
>>>>>>> c74c98c2450c2a1ba922ed9442f136238d6bc88b
=======
   "id": "b9985f10",
>>>>>>> 035bb2637984ead2784fecff78c0c60cc4181202
=======
   "id": "0641a42e",
>>>>>>> 619c01f26351d57ac14d974b7af136ac5756103f
   "metadata": {},
   "outputs": [],
   "source": [
    "sessionInfo()"
   ]
  }
 ],
 "metadata": {
  "kernelspec": {
   "display_name": "R",
   "language": "R",
   "name": "ir"
  }
 },
 "nbformat": 4,
 "nbformat_minor": 5
}
