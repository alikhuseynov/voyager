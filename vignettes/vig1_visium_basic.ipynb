{
 "cells": [
  {
   "cell_type": "raw",
<<<<<<< HEAD
<<<<<<< HEAD
<<<<<<< HEAD
<<<<<<< HEAD
<<<<<<< HEAD
   "id": "f3fdc0b7",
||||||| 11b9cb7
   "id": "4fa7e789",
=======
   "id": "1da91dae",
>>>>>>> documentation-devel
||||||| 614e9b1
   "id": "1da91dae",
=======
   "id": "ff8f6d37",
>>>>>>> documentation-devel
||||||| 856b4c0
<<<<<<< HEAD
   "id": "f3fdc0b7",
||||||| 11b9cb7
   "id": "4fa7e789",
=======
   "id": "1da91dae",
>>>>>>> documentation-devel
=======
   "id": "18a9e070",
>>>>>>> 552590ea8fad969b67afdba27558a1e6cb21016e
||||||| 452c944
   "id": "ff8f6d37",
=======
   "id": "5026041e",
>>>>>>> documentation-devel
||||||| 4da3324
<<<<<<< HEAD
<<<<<<< HEAD
<<<<<<< HEAD
   "id": "f3fdc0b7",
||||||| 11b9cb7
   "id": "4fa7e789",
=======
   "id": "1da91dae",
>>>>>>> documentation-devel
||||||| 614e9b1
   "id": "1da91dae",
=======
   "id": "ff8f6d37",
>>>>>>> documentation-devel
||||||| 856b4c0
<<<<<<< HEAD
   "id": "f3fdc0b7",
||||||| 11b9cb7
   "id": "4fa7e789",
=======
   "id": "1da91dae",
>>>>>>> documentation-devel
=======
   "id": "18a9e070",
>>>>>>> 552590ea8fad969b67afdba27558a1e6cb21016e
=======
   "id": "c3a24cb1",
>>>>>>> b6e07d13baac92b2c1c9b43f8e4113ffa87bf495
   "metadata": {},
   "source": [
    "---\n",
    "title: \"Basic Visium exploratory data analysis\"\n",
    "author: \"Lambda Moses\"\n",
    "date: \"`r Sys.Date()`\"\n",
    "output: \n",
    "  html_document:\n",
    "  toc: true\n",
    "  toc_float:\n",
    "    collapsed: false\n",
    "  toc_depth: 3\n",
    "bibliography: ref.bib\n",
    "vignette: >\n",
    "  %\\VignetteIndexEntry{visium_basic}\n",
    "  %\\VignetteEngine{knitr::rmarkdown}\n",
    "  %\\VignetteEncoding{UTF-8}\n",
    "---"
   ]
  },
  {
   "cell_type": "code",
   "execution_count": null,
<<<<<<< HEAD
<<<<<<< HEAD
<<<<<<< HEAD
<<<<<<< HEAD
<<<<<<< HEAD
   "id": "a21211ed",
||||||| 11b9cb7
   "id": "43fc067f",
=======
   "id": "f61b66f2",
>>>>>>> documentation-devel
||||||| 614e9b1
   "id": "f61b66f2",
=======
   "id": "47dc03c0",
>>>>>>> documentation-devel
||||||| 856b4c0
<<<<<<< HEAD
   "id": "a21211ed",
||||||| 11b9cb7
   "id": "43fc067f",
=======
   "id": "f61b66f2",
>>>>>>> documentation-devel
=======
   "id": "3b761c4d",
>>>>>>> 552590ea8fad969b67afdba27558a1e6cb21016e
||||||| 452c944
   "id": "47dc03c0",
=======
   "id": "4e9f8367",
>>>>>>> documentation-devel
||||||| 4da3324
<<<<<<< HEAD
<<<<<<< HEAD
<<<<<<< HEAD
   "id": "a21211ed",
||||||| 11b9cb7
   "id": "43fc067f",
=======
   "id": "f61b66f2",
>>>>>>> documentation-devel
||||||| 614e9b1
   "id": "f61b66f2",
=======
   "id": "47dc03c0",
>>>>>>> documentation-devel
||||||| 856b4c0
<<<<<<< HEAD
   "id": "a21211ed",
||||||| 11b9cb7
   "id": "43fc067f",
=======
   "id": "f61b66f2",
>>>>>>> documentation-devel
=======
   "id": "3b761c4d",
>>>>>>> 552590ea8fad969b67afdba27558a1e6cb21016e
=======
   "id": "a4a327a4",
>>>>>>> b6e07d13baac92b2c1c9b43f8e4113ffa87bf495
   "metadata": {
    "tags": [
     "remove_cell"
    ]
   },
   "outputs": [],
   "source": [
    "knitr::opts_chunk$set(\n",
    "  collapse = TRUE,\n",
    "  comment = \"#>\", fig.align = \"center\"\n",
    ")"
   ]
  },
  {
   "cell_type": "code",
   "execution_count": null,
<<<<<<< HEAD
<<<<<<< HEAD
<<<<<<< HEAD
<<<<<<< HEAD
<<<<<<< HEAD
   "id": "3767779a",
||||||| 11b9cb7
   "id": "54e7a624",
=======
   "id": "6a03a115",
>>>>>>> documentation-devel
||||||| 614e9b1
   "id": "6a03a115",
=======
   "id": "8d83907c",
>>>>>>> documentation-devel
||||||| 856b4c0
<<<<<<< HEAD
   "id": "3767779a",
||||||| 11b9cb7
   "id": "54e7a624",
=======
   "id": "6a03a115",
>>>>>>> documentation-devel
=======
   "id": "9c75122d",
>>>>>>> 552590ea8fad969b67afdba27558a1e6cb21016e
||||||| 452c944
   "id": "8d83907c",
=======
   "id": "eed77bfc",
>>>>>>> documentation-devel
||||||| 4da3324
<<<<<<< HEAD
<<<<<<< HEAD
<<<<<<< HEAD
   "id": "3767779a",
||||||| 11b9cb7
   "id": "54e7a624",
=======
   "id": "6a03a115",
>>>>>>> documentation-devel
||||||| 614e9b1
   "id": "6a03a115",
=======
   "id": "8d83907c",
>>>>>>> documentation-devel
||||||| 856b4c0
<<<<<<< HEAD
   "id": "3767779a",
||||||| 11b9cb7
   "id": "54e7a624",
=======
   "id": "6a03a115",
>>>>>>> documentation-devel
=======
   "id": "9c75122d",
>>>>>>> 552590ea8fad969b67afdba27558a1e6cb21016e
=======
   "id": "213bb06f",
>>>>>>> b6e07d13baac92b2c1c9b43f8e4113ffa87bf495
   "metadata": {
    "eval": false,
    "tags": [
     "remove_cell"
    ]
   },
   "outputs": [],
   "source": [
    "# Install Google Colab dependencies\n",
    "# Note: this can take 30+ minutes (many of the dependencies include C++ code, which needs to be compiled)\n",
    "\n",
    "# First install `sf`, `ragg` and `textshaping` and their system dependencies:\n",
    "system(\"apt-get -y update && apt-get install -y  libudunits2-dev libgdal-dev libgeos-dev libproj-dev libharfbuzz-dev libfribidi-dev\")\n",
    "install.packages(\"sf\")\n",
    "install.packages(\"textshaping\")\n",
    "install.packages(\"ragg\")\n",
    "\n",
    "# Install system dependencies of some other R packages that Voyager either imports or suggests:\n",
    "system(\"apt-get install -y libfribidi-dev libcairo2-dev libmagick++-dev\")\n",
    "\n",
    "# Install Voyager from Bioconductor:\n",
    "install.packages(\"BiocManager\")\n",
    "BiocManager::install(version = \"3.17\", ask = FALSE, update = FALSE, Ncpus = 2)\n",
    "BiocManager::install(c(\"scater\", \"concordexR\"))\n",
    "system.time(\n",
    "  BiocManager::install(\"Voyager\", dependencies = TRUE, Ncpus = 2, update = FALSE)\n",
    ")\n",
    "\n",
    "# Additional dependencies for this notebook\n",
    "install.packages(\"reticulate\")\n",
    "\n",
    "packageVersion(\"Voyager\")"
   ]
  },
  {
   "cell_type": "markdown",
<<<<<<< HEAD
<<<<<<< HEAD
<<<<<<< HEAD
<<<<<<< HEAD
<<<<<<< HEAD
   "id": "977e271a",
||||||| 11b9cb7
   "id": "244f6d3d",
=======
   "id": "8be79b82",
>>>>>>> documentation-devel
||||||| 614e9b1
   "id": "8be79b82",
=======
   "id": "a6599c74",
>>>>>>> documentation-devel
||||||| 856b4c0
<<<<<<< HEAD
   "id": "977e271a",
||||||| 11b9cb7
   "id": "244f6d3d",
=======
   "id": "8be79b82",
>>>>>>> documentation-devel
=======
   "id": "a7bd891f",
>>>>>>> 552590ea8fad969b67afdba27558a1e6cb21016e
||||||| 452c944
   "id": "a6599c74",
=======
   "id": "f5979b34",
>>>>>>> documentation-devel
||||||| 4da3324
<<<<<<< HEAD
<<<<<<< HEAD
<<<<<<< HEAD
   "id": "977e271a",
||||||| 11b9cb7
   "id": "244f6d3d",
=======
   "id": "8be79b82",
>>>>>>> documentation-devel
||||||| 614e9b1
   "id": "8be79b82",
=======
   "id": "a6599c74",
>>>>>>> documentation-devel
||||||| 856b4c0
<<<<<<< HEAD
   "id": "977e271a",
||||||| 11b9cb7
   "id": "244f6d3d",
=======
   "id": "8be79b82",
>>>>>>> documentation-devel
=======
   "id": "a7bd891f",
>>>>>>> 552590ea8fad969b67afdba27558a1e6cb21016e
=======
   "id": "b767bd16",
>>>>>>> b6e07d13baac92b2c1c9b43f8e4113ffa87bf495
   "metadata": {
    "lines_to_next_cell": 0
   },
   "source": [
    "# Introduction\n",
    "\n",
    "In this introductory vignette for the [`SpatialFeatureExperiment`](https://bioconductor.org/packages/devel/bioc/html/SpatialFeatureExperiment.html) data representation and [`Voyager`](https://bioconductor.org/packages/devel/bioc/html/Voyager.html) analysis package, we demonstrate a basic exploratory data analysis (EDA) of spatial transcriptomics data. Basic knowledge of R and [`SingleCellExperiment`](https://bioconductor.org/packages/release/bioc/html/SingleCellExperiment.html) is assumed.\n",
    "\n",
    "This vignette showcases the packages with a Visium spatial gene expression system dataset. The technology was chosen due to its popularity, and therefore the availability of numerous publicly available datasets for analysis [@Moses2022-xz].  \n",
    "\n",
    "![Bar chart showing the number of institutions using each spatial transcriptomics data collection method. Only methods used by at least 3 different institutions are shown. The bars are colored by category of the methods. 10X Visium which is based on sequence barcoding is used by over 100 institutions. Following Visium are GeoMX DSP and GeoMX WTA which are \"regions of interest\" (ROI) methods, along with 2016 ST and some other ROI selection methods.](https://pachterlab.github.io/LP_2021/04-current_files/figure-html/n-insts-1.png)\n",
    "While Voyager was developed with the goal of facilitating the use of geospatial methods in spatial genomics, this introductory vignette is restricted to non-spatial scRNA-seq EDA with the Visium dataset. For a vignette illustrating univariate spatial analysis with the same dataset, see the more advanced [exploratory spatial data analyis vignette](https://pachterlab.github.io/voyager/articles/vig2_visium.html) with the same dataset.\n",
    "\n",
    "Here we load the packages used in this vignette."
   ]
  },
  {
   "cell_type": "code",
   "execution_count": null,
<<<<<<< HEAD
<<<<<<< HEAD
<<<<<<< HEAD
<<<<<<< HEAD
<<<<<<< HEAD
   "id": "8cabd1ee",
||||||| 11b9cb7
   "id": "ea7c5e04",
=======
   "id": "c6081672",
>>>>>>> documentation-devel
||||||| 614e9b1
   "id": "c6081672",
=======
   "id": "2e4e94d1",
>>>>>>> documentation-devel
||||||| 856b4c0
<<<<<<< HEAD
   "id": "8cabd1ee",
||||||| 11b9cb7
   "id": "ea7c5e04",
=======
   "id": "c6081672",
>>>>>>> documentation-devel
=======
   "id": "f0ccd874",
>>>>>>> 552590ea8fad969b67afdba27558a1e6cb21016e
||||||| 452c944
   "id": "2e4e94d1",
=======
   "id": "ecd4ade4",
>>>>>>> documentation-devel
||||||| 4da3324
<<<<<<< HEAD
<<<<<<< HEAD
<<<<<<< HEAD
   "id": "8cabd1ee",
||||||| 11b9cb7
   "id": "ea7c5e04",
=======
   "id": "c6081672",
>>>>>>> documentation-devel
||||||| 614e9b1
   "id": "c6081672",
=======
   "id": "2e4e94d1",
>>>>>>> documentation-devel
||||||| 856b4c0
<<<<<<< HEAD
   "id": "8cabd1ee",
||||||| 11b9cb7
   "id": "ea7c5e04",
=======
   "id": "c6081672",
>>>>>>> documentation-devel
=======
   "id": "f0ccd874",
>>>>>>> 552590ea8fad969b67afdba27558a1e6cb21016e
=======
   "id": "cd88bf6a",
>>>>>>> b6e07d13baac92b2c1c9b43f8e4113ffa87bf495
   "metadata": {
    "message": false,
    "name": "setup"
   },
   "outputs": [],
   "source": [
    "library(Voyager)\n",
    "library(SpatialFeatureExperiment)\n",
    "library(SingleCellExperiment)\n",
    "library(SpatialExperiment)\n",
    "library(scater)\n",
    "library(scran)\n",
    "library(patchwork)\n",
    "library(bluster)\n",
    "library(SFEData)\n",
    "library(BiocParallel)\n",
    "library(stringr)\n",
    "library(ggplot2)\n",
    "library(sparseMatrixStats)\n",
    "library(dplyr)\n",
    "library(reticulate)\n",
    "library(concordexR)\n",
    "library(BiocNeighbors)\n",
    "theme_set(theme_bw(10))"
   ]
  },
  {
   "cell_type": "code",
   "execution_count": null,
<<<<<<< HEAD
<<<<<<< HEAD
<<<<<<< HEAD
<<<<<<< HEAD
<<<<<<< HEAD
   "id": "27a2687b",
||||||| 11b9cb7
   "id": "a6acd168",
=======
   "id": "38ddb733",
>>>>>>> documentation-devel
||||||| 614e9b1
   "id": "38ddb733",
=======
   "id": "dfafffc2",
>>>>>>> documentation-devel
||||||| 856b4c0
<<<<<<< HEAD
   "id": "27a2687b",
||||||| 11b9cb7
   "id": "a6acd168",
=======
   "id": "38ddb733",
>>>>>>> documentation-devel
=======
   "id": "3ce642f0",
>>>>>>> 552590ea8fad969b67afdba27558a1e6cb21016e
||||||| 452c944
   "id": "dfafffc2",
=======
   "id": "9d7e15a5",
>>>>>>> documentation-devel
||||||| 4da3324
<<<<<<< HEAD
<<<<<<< HEAD
<<<<<<< HEAD
   "id": "27a2687b",
||||||| 11b9cb7
   "id": "a6acd168",
=======
   "id": "38ddb733",
>>>>>>> documentation-devel
||||||| 614e9b1
   "id": "38ddb733",
=======
   "id": "dfafffc2",
>>>>>>> documentation-devel
||||||| 856b4c0
<<<<<<< HEAD
   "id": "27a2687b",
||||||| 11b9cb7
   "id": "a6acd168",
=======
   "id": "38ddb733",
>>>>>>> documentation-devel
=======
   "id": "3ce642f0",
>>>>>>> 552590ea8fad969b67afdba27558a1e6cb21016e
=======
   "id": "72f6916e",
>>>>>>> b6e07d13baac92b2c1c9b43f8e4113ffa87bf495
   "metadata": {},
   "outputs": [],
   "source": [
    "# Specify Python version to use gget\n",
    "PY_PATH <- Sys.which(\"python\")\n",
    "use_python(PY_PATH)\n",
    "py_config()"
   ]
  },
  {
   "cell_type": "code",
   "execution_count": null,
<<<<<<< HEAD
<<<<<<< HEAD
<<<<<<< HEAD
<<<<<<< HEAD
<<<<<<< HEAD
   "id": "60a09fbf",
||||||| 11b9cb7
   "id": "dad9bcd2",
=======
   "id": "b9c26590",
>>>>>>> documentation-devel
||||||| 614e9b1
   "id": "b9c26590",
=======
   "id": "5ed2df56",
>>>>>>> documentation-devel
||||||| 856b4c0
<<<<<<< HEAD
   "id": "60a09fbf",
||||||| 11b9cb7
   "id": "dad9bcd2",
=======
   "id": "b9c26590",
>>>>>>> documentation-devel
=======
   "id": "700e281a",
>>>>>>> 552590ea8fad969b67afdba27558a1e6cb21016e
||||||| 452c944
   "id": "5ed2df56",
=======
   "id": "a125536a",
>>>>>>> documentation-devel
||||||| 4da3324
<<<<<<< HEAD
<<<<<<< HEAD
<<<<<<< HEAD
   "id": "60a09fbf",
||||||| 11b9cb7
   "id": "dad9bcd2",
=======
   "id": "b9c26590",
>>>>>>> documentation-devel
||||||| 614e9b1
   "id": "b9c26590",
=======
   "id": "5ed2df56",
>>>>>>> documentation-devel
||||||| 856b4c0
<<<<<<< HEAD
   "id": "60a09fbf",
||||||| 11b9cb7
   "id": "dad9bcd2",
=======
   "id": "b9c26590",
>>>>>>> documentation-devel
=======
   "id": "700e281a",
>>>>>>> 552590ea8fad969b67afdba27558a1e6cb21016e
=======
   "id": "759409a7",
>>>>>>> b6e07d13baac92b2c1c9b43f8e4113ffa87bf495
   "metadata": {
    "eval": false,
    "tags": [
     "remove_cell"
    ]
   },
   "outputs": [],
   "source": [
    "system(\"pip3 install gget\")"
   ]
  },
  {
   "cell_type": "code",
   "execution_count": null,
<<<<<<< HEAD
<<<<<<< HEAD
<<<<<<< HEAD
<<<<<<< HEAD
<<<<<<< HEAD
   "id": "dde22b3f",
||||||| 11b9cb7
   "id": "c350f95d",
=======
   "id": "658569d9",
>>>>>>> documentation-devel
||||||| 614e9b1
   "id": "658569d9",
=======
   "id": "48c583fd",
>>>>>>> documentation-devel
||||||| 856b4c0
<<<<<<< HEAD
   "id": "dde22b3f",
||||||| 11b9cb7
   "id": "c350f95d",
=======
   "id": "658569d9",
>>>>>>> documentation-devel
=======
   "id": "7aeeb812",
>>>>>>> 552590ea8fad969b67afdba27558a1e6cb21016e
||||||| 452c944
   "id": "48c583fd",
=======
   "id": "cfa11cc6",
>>>>>>> documentation-devel
||||||| 4da3324
<<<<<<< HEAD
<<<<<<< HEAD
<<<<<<< HEAD
   "id": "dde22b3f",
||||||| 11b9cb7
   "id": "c350f95d",
=======
   "id": "658569d9",
>>>>>>> documentation-devel
||||||| 614e9b1
   "id": "658569d9",
=======
   "id": "48c583fd",
>>>>>>> documentation-devel
||||||| 856b4c0
<<<<<<< HEAD
   "id": "dde22b3f",
||||||| 11b9cb7
   "id": "c350f95d",
=======
   "id": "658569d9",
>>>>>>> documentation-devel
=======
   "id": "7aeeb812",
>>>>>>> 552590ea8fad969b67afdba27558a1e6cb21016e
=======
   "id": "4a5199b8",
>>>>>>> b6e07d13baac92b2c1c9b43f8e4113ffa87bf495
   "metadata": {},
   "outputs": [],
   "source": [
    "gget <- import(\"gget\")"
   ]
  },
  {
   "cell_type": "markdown",
<<<<<<< HEAD
<<<<<<< HEAD
<<<<<<< HEAD
<<<<<<< HEAD
<<<<<<< HEAD
   "id": "89893c15",
||||||| 11b9cb7
   "id": "492a7d90",
=======
   "id": "ff8c064d",
>>>>>>> documentation-devel
||||||| 614e9b1
   "id": "ff8c064d",
=======
   "id": "23ab22d6",
>>>>>>> documentation-devel
||||||| 856b4c0
<<<<<<< HEAD
   "id": "89893c15",
||||||| 11b9cb7
   "id": "492a7d90",
=======
   "id": "ff8c064d",
>>>>>>> documentation-devel
=======
   "id": "427a6a0f",
>>>>>>> 552590ea8fad969b67afdba27558a1e6cb21016e
||||||| 452c944
   "id": "23ab22d6",
=======
   "id": "f5778cc9",
>>>>>>> documentation-devel
||||||| 4da3324
<<<<<<< HEAD
<<<<<<< HEAD
<<<<<<< HEAD
   "id": "89893c15",
||||||| 11b9cb7
   "id": "492a7d90",
=======
   "id": "ff8c064d",
>>>>>>> documentation-devel
||||||| 614e9b1
   "id": "ff8c064d",
=======
   "id": "23ab22d6",
>>>>>>> documentation-devel
||||||| 856b4c0
<<<<<<< HEAD
   "id": "89893c15",
||||||| 11b9cb7
   "id": "492a7d90",
=======
   "id": "ff8c064d",
>>>>>>> documentation-devel
=======
   "id": "427a6a0f",
>>>>>>> 552590ea8fad969b67afdba27558a1e6cb21016e
=======
   "id": "74fbcb98",
>>>>>>> b6e07d13baac92b2c1c9b43f8e4113ffa87bf495
   "metadata": {},
   "source": [
    "# Mouse skeletal muscle dataset\n",
    "The dataset used in this vignette is from the paper [Large-scale integration of single-cell transcriptomic data captures transitional progenitor states in mouse skeletal muscle regeneration](https://doi.org/10.1038/s42003-021-02810-x) [@McKellar2021-ek]. Notexin was injected into the tibialis anterior muscle of mice to induce injury, and the healing muscle was collected 2, 5, and 7 days post injury for Visium analysis. The dataset in this vignette is from the timepoint at day 2. The vignette starts with a `SpatialFeatureExperiment` (SFE) object.\n",
    "\n",
    "The gene count matrix was directly downloaded [from GEO](https://www.ncbi.nlm.nih.gov/geo/query/acc.cgi?acc=GSM4904759). All 4992 spots, whether in tissue or not, are included. The tissue boundary was found by thresholding the H&E image in OpenCV, and small polygons were removed as they are likely to be debris. Spot polygons were constructed with the spot centroid coordinates and diameter in the Space Ranger output. The `in_tissue` column in `colData` indicates which spot polygons intersect the tissue polygons, and is based on `st_intersects()`. \n",
    "\n",
    "Tissue boundary, nuclei, myofiber, and Visium spot polygons are stored as `sf` data frames in the SFE object. The Visium spot polygons are called \"spotPoly\" in this SFE object. The `SpatialFeatureExperiment` package has a few convenience wrappers to get and set common types of geometries, including `spotPoly()` for Visium (or other technologies when relevant) spot polygons, `cellSeg()` for cell segmentation, `nucSeg()` for nuclei segmentation, and `centroids()` for cell centroids. Behind the scene are specially named `sf` data frames. See [the vignette of `SpatialFeatureExperiment`](https://bioconductor.org/packages/devel/bioc/vignettes/SpatialFeatureExperiment/inst/doc/SFE.html) for more details on the structure of the SFE object. \n",
    "\n",
    "The SFE object of this dataset is provided in the `SFEData` package; we begin by downloading the data and loading it into R."
   ]
  },
  {
   "cell_type": "code",
   "execution_count": null,
<<<<<<< HEAD
<<<<<<< HEAD
<<<<<<< HEAD
<<<<<<< HEAD
<<<<<<< HEAD
   "id": "114c07f2",
||||||| 11b9cb7
   "id": "42338a4f",
=======
   "id": "ecd8c681",
>>>>>>> documentation-devel
||||||| 614e9b1
   "id": "ecd8c681",
=======
   "id": "713a4174",
>>>>>>> documentation-devel
||||||| 856b4c0
<<<<<<< HEAD
   "id": "114c07f2",
||||||| 11b9cb7
   "id": "42338a4f",
=======
   "id": "ecd8c681",
>>>>>>> documentation-devel
=======
   "id": "630433f2",
>>>>>>> 552590ea8fad969b67afdba27558a1e6cb21016e
||||||| 452c944
   "id": "713a4174",
=======
   "id": "4ce555df",
>>>>>>> documentation-devel
||||||| 4da3324
<<<<<<< HEAD
<<<<<<< HEAD
<<<<<<< HEAD
   "id": "114c07f2",
||||||| 11b9cb7
   "id": "42338a4f",
=======
   "id": "ecd8c681",
>>>>>>> documentation-devel
||||||| 614e9b1
   "id": "ecd8c681",
=======
   "id": "713a4174",
>>>>>>> documentation-devel
||||||| 856b4c0
<<<<<<< HEAD
   "id": "114c07f2",
||||||| 11b9cb7
   "id": "42338a4f",
=======
   "id": "ecd8c681",
>>>>>>> documentation-devel
=======
   "id": "630433f2",
>>>>>>> 552590ea8fad969b67afdba27558a1e6cb21016e
=======
   "id": "9f4e0772",
>>>>>>> b6e07d13baac92b2c1c9b43f8e4113ffa87bf495
   "metadata": {},
   "outputs": [],
   "source": [
    "(sfe <- McKellarMuscleData(\"full\"))"
   ]
  },
  {
   "cell_type": "markdown",
<<<<<<< HEAD
<<<<<<< HEAD
<<<<<<< HEAD
<<<<<<< HEAD
<<<<<<< HEAD
   "id": "5611aad3",
||||||| 11b9cb7
   "id": "02854418",
=======
   "id": "cce277a0",
>>>>>>> documentation-devel
||||||| 614e9b1
   "id": "cce277a0",
=======
   "id": "0b39d76a",
>>>>>>> documentation-devel
||||||| 856b4c0
<<<<<<< HEAD
   "id": "5611aad3",
||||||| 11b9cb7
   "id": "02854418",
=======
   "id": "cce277a0",
>>>>>>> documentation-devel
=======
   "id": "c7e43de9",
>>>>>>> 552590ea8fad969b67afdba27558a1e6cb21016e
||||||| 452c944
   "id": "0b39d76a",
=======
   "id": "80d62cac",
>>>>>>> documentation-devel
||||||| 4da3324
<<<<<<< HEAD
<<<<<<< HEAD
<<<<<<< HEAD
   "id": "5611aad3",
||||||| 11b9cb7
   "id": "02854418",
=======
   "id": "cce277a0",
>>>>>>> documentation-devel
||||||| 614e9b1
   "id": "cce277a0",
=======
   "id": "0b39d76a",
>>>>>>> documentation-devel
||||||| 856b4c0
<<<<<<< HEAD
   "id": "5611aad3",
||||||| 11b9cb7
   "id": "02854418",
=======
   "id": "cce277a0",
>>>>>>> documentation-devel
=======
   "id": "c7e43de9",
>>>>>>> 552590ea8fad969b67afdba27558a1e6cb21016e
=======
   "id": "949a4002",
>>>>>>> b6e07d13baac92b2c1c9b43f8e4113ffa87bf495
   "metadata": {
    "lines_to_next_cell": 0
   },
   "source": [
    "The authors provided the full resolution hematoxylin and eosin (H&E) image on GEO, which we downsized to facilitate its display:\n",
    "![A cross section of mouse muscle is slightly off center to the lower left. In the middle of the tissue is the notexin injury site with leukocyte infiltration and fewer myofibers. The rest of the tissue section is tightly packed with myofibers.](https://raw.githubusercontent.com/pachterlab/voyager/documentation/vignettes/tissue_lowres_5a.jpeg)\n",
    "\n",
    "The image can be added to the SFE object and plotted behind the geometries, and needs to be flipped to align to the spots because the origin is at the top left for the image but bottom left for geometries."
   ]
  },
  {
   "cell_type": "code",
   "execution_count": null,
<<<<<<< HEAD
<<<<<<< HEAD
<<<<<<< HEAD
<<<<<<< HEAD
<<<<<<< HEAD
   "id": "4a6dc107",
||||||| 11b9cb7
   "id": "9adca063",
=======
   "id": "c78a0ca9",
>>>>>>> documentation-devel
||||||| 614e9b1
   "id": "c78a0ca9",
=======
   "id": "0834e748",
>>>>>>> documentation-devel
||||||| 856b4c0
<<<<<<< HEAD
   "id": "4a6dc107",
||||||| 11b9cb7
   "id": "9adca063",
=======
   "id": "c78a0ca9",
>>>>>>> documentation-devel
=======
   "id": "3e8c9e43",
>>>>>>> 552590ea8fad969b67afdba27558a1e6cb21016e
||||||| 452c944
   "id": "0834e748",
=======
   "id": "55f0cd9f",
>>>>>>> documentation-devel
||||||| 4da3324
<<<<<<< HEAD
<<<<<<< HEAD
<<<<<<< HEAD
   "id": "4a6dc107",
||||||| 11b9cb7
   "id": "9adca063",
=======
   "id": "c78a0ca9",
>>>>>>> documentation-devel
||||||| 614e9b1
   "id": "c78a0ca9",
=======
   "id": "0834e748",
>>>>>>> documentation-devel
||||||| 856b4c0
<<<<<<< HEAD
   "id": "4a6dc107",
||||||| 11b9cb7
   "id": "9adca063",
=======
   "id": "c78a0ca9",
>>>>>>> documentation-devel
=======
   "id": "3e8c9e43",
>>>>>>> 552590ea8fad969b67afdba27558a1e6cb21016e
=======
   "id": "07b307a9",
>>>>>>> b6e07d13baac92b2c1c9b43f8e4113ffa87bf495
   "metadata": {},
   "outputs": [],
   "source": [
    "if (!file.exists(\"tissue_lowres_5a.jpeg\")) {\n",
    "    download.file(\"https://raw.githubusercontent.com/pachterlab/voyager/main/vignettes/tissue_lowres_5a.jpeg\",\n",
    "                  destfile = \"tissue_lowres_5a.jpeg\")\n",
    "}"
   ]
  },
  {
   "cell_type": "code",
   "execution_count": null,
<<<<<<< HEAD
<<<<<<< HEAD
<<<<<<< HEAD
<<<<<<< HEAD
<<<<<<< HEAD
   "id": "398499be",
||||||| 11b9cb7
   "id": "de7775c2",
=======
   "id": "eca191cc",
>>>>>>> documentation-devel
||||||| 614e9b1
   "id": "eca191cc",
=======
   "id": "85edcff9",
>>>>>>> documentation-devel
||||||| 856b4c0
<<<<<<< HEAD
   "id": "398499be",
||||||| 11b9cb7
   "id": "de7775c2",
=======
   "id": "eca191cc",
>>>>>>> documentation-devel
=======
   "id": "441b3f41",
>>>>>>> 552590ea8fad969b67afdba27558a1e6cb21016e
||||||| 452c944
   "id": "85edcff9",
=======
   "id": "91c646cd",
>>>>>>> documentation-devel
||||||| 4da3324
<<<<<<< HEAD
<<<<<<< HEAD
<<<<<<< HEAD
   "id": "398499be",
||||||| 11b9cb7
   "id": "de7775c2",
=======
   "id": "eca191cc",
>>>>>>> documentation-devel
||||||| 614e9b1
   "id": "eca191cc",
=======
   "id": "85edcff9",
>>>>>>> documentation-devel
||||||| 856b4c0
<<<<<<< HEAD
   "id": "398499be",
||||||| 11b9cb7
   "id": "de7775c2",
=======
   "id": "eca191cc",
>>>>>>> documentation-devel
=======
   "id": "441b3f41",
>>>>>>> 552590ea8fad969b67afdba27558a1e6cb21016e
=======
   "id": "7aeb44f6",
>>>>>>> b6e07d13baac92b2c1c9b43f8e4113ffa87bf495
   "metadata": {
    "lines_to_next_cell": 2
   },
   "outputs": [],
   "source": [
    "sfe <- addImg(sfe, file = \"tissue_lowres_5a.jpeg\", sample_id = \"Vis5A\", \n",
    "              image_id = \"lowres\", \n",
    "              scale_fct = 1024/22208)\n",
    "sfe <- mirrorImg(sfe, sample_id = \"Vis5A\", image_id = \"lowres\")"
   ]
  },
  {
   "cell_type": "markdown",
<<<<<<< HEAD
<<<<<<< HEAD
<<<<<<< HEAD
<<<<<<< HEAD
<<<<<<< HEAD
   "id": "38612917",
||||||| 11b9cb7
   "id": "31c4f720",
=======
   "id": "fa83f560",
>>>>>>> documentation-devel
||||||| 614e9b1
   "id": "fa83f560",
=======
   "id": "8aa2b5d9",
>>>>>>> documentation-devel
||||||| 856b4c0
<<<<<<< HEAD
   "id": "38612917",
||||||| 11b9cb7
   "id": "31c4f720",
=======
   "id": "fa83f560",
>>>>>>> documentation-devel
=======
   "id": "7882f612",
>>>>>>> 552590ea8fad969b67afdba27558a1e6cb21016e
||||||| 452c944
   "id": "8aa2b5d9",
=======
   "id": "8f37af79",
>>>>>>> documentation-devel
||||||| 4da3324
<<<<<<< HEAD
<<<<<<< HEAD
<<<<<<< HEAD
   "id": "38612917",
||||||| 11b9cb7
   "id": "31c4f720",
=======
   "id": "fa83f560",
>>>>>>> documentation-devel
||||||| 614e9b1
   "id": "fa83f560",
=======
   "id": "8aa2b5d9",
>>>>>>> documentation-devel
||||||| 856b4c0
<<<<<<< HEAD
   "id": "38612917",
||||||| 11b9cb7
   "id": "31c4f720",
=======
   "id": "fa83f560",
>>>>>>> documentation-devel
=======
   "id": "7882f612",
>>>>>>> 552590ea8fad969b67afdba27558a1e6cb21016e
=======
   "id": "0dcf78f1",
>>>>>>> b6e07d13baac92b2c1c9b43f8e4113ffa87bf495
   "metadata": {},
   "source": [
    "# Quality control\n",
    "## Spots\n",
    "We begin quality control (QC) by plotting various metrics both as violin plots and in space. The QC metrics are pre-computed and stored in `colData` (for spots) and `rowData` of the SFE object."
   ]
  },
  {
   "cell_type": "code",
   "execution_count": null,
<<<<<<< HEAD
<<<<<<< HEAD
<<<<<<< HEAD
<<<<<<< HEAD
<<<<<<< HEAD
   "id": "6f9d18f2",
||||||| 11b9cb7
   "id": "44aecb46",
=======
   "id": "f2729167",
>>>>>>> documentation-devel
||||||| 614e9b1
   "id": "f2729167",
=======
   "id": "0932f729",
>>>>>>> documentation-devel
||||||| 856b4c0
<<<<<<< HEAD
   "id": "6f9d18f2",
||||||| 11b9cb7
   "id": "44aecb46",
=======
   "id": "f2729167",
>>>>>>> documentation-devel
=======
   "id": "7809ad74",
>>>>>>> 552590ea8fad969b67afdba27558a1e6cb21016e
||||||| 452c944
   "id": "0932f729",
=======
   "id": "11533710",
>>>>>>> documentation-devel
||||||| 4da3324
<<<<<<< HEAD
<<<<<<< HEAD
<<<<<<< HEAD
   "id": "6f9d18f2",
||||||| 11b9cb7
   "id": "44aecb46",
=======
   "id": "f2729167",
>>>>>>> documentation-devel
||||||| 614e9b1
   "id": "f2729167",
=======
   "id": "0932f729",
>>>>>>> documentation-devel
||||||| 856b4c0
<<<<<<< HEAD
   "id": "6f9d18f2",
||||||| 11b9cb7
   "id": "44aecb46",
=======
   "id": "f2729167",
>>>>>>> documentation-devel
=======
   "id": "7809ad74",
>>>>>>> 552590ea8fad969b67afdba27558a1e6cb21016e
=======
   "id": "4084d222",
>>>>>>> b6e07d13baac92b2c1c9b43f8e4113ffa87bf495
   "metadata": {},
   "outputs": [],
   "source": [
    "names(colData(sfe))"
   ]
  },
  {
   "cell_type": "markdown",
<<<<<<< HEAD
<<<<<<< HEAD
<<<<<<< HEAD
<<<<<<< HEAD
<<<<<<< HEAD
   "id": "0e48c0bc",
||||||| 11b9cb7
   "id": "bb520b9f",
=======
   "id": "8ae73ea7",
>>>>>>> documentation-devel
||||||| 614e9b1
   "id": "8ae73ea7",
=======
   "id": "32ba3c31",
>>>>>>> documentation-devel
||||||| 856b4c0
<<<<<<< HEAD
   "id": "0e48c0bc",
||||||| 11b9cb7
   "id": "bb520b9f",
=======
   "id": "8ae73ea7",
>>>>>>> documentation-devel
=======
   "id": "79aad660",
>>>>>>> 552590ea8fad969b67afdba27558a1e6cb21016e
||||||| 452c944
   "id": "32ba3c31",
=======
   "id": "f09fbeef",
>>>>>>> documentation-devel
||||||| 4da3324
<<<<<<< HEAD
<<<<<<< HEAD
<<<<<<< HEAD
   "id": "0e48c0bc",
||||||| 11b9cb7
   "id": "bb520b9f",
=======
   "id": "8ae73ea7",
>>>>>>> documentation-devel
||||||| 614e9b1
   "id": "8ae73ea7",
=======
   "id": "32ba3c31",
>>>>>>> documentation-devel
||||||| 856b4c0
<<<<<<< HEAD
   "id": "0e48c0bc",
||||||| 11b9cb7
   "id": "bb520b9f",
=======
   "id": "8ae73ea7",
>>>>>>> documentation-devel
=======
   "id": "79aad660",
>>>>>>> 552590ea8fad969b67afdba27558a1e6cb21016e
=======
   "id": "5ae47389",
>>>>>>> b6e07d13baac92b2c1c9b43f8e4113ffa87bf495
   "metadata": {
    "lines_to_next_cell": 0
   },
   "source": [
    "Below we plot the total unique molecular identifier (UMI) counts per spot. The commented out line of code shows how to compute the total UMI counts. The `maxcell` argument is the maximum number of pixels to plot for the image; the image is downsampled if it has more pixels than `maxcells`. This can speed up plotting when plotting the same image in multiple facets."
   ]
  },
  {
   "cell_type": "code",
   "execution_count": null,
<<<<<<< HEAD
<<<<<<< HEAD
<<<<<<< HEAD
<<<<<<< HEAD
<<<<<<< HEAD
   "id": "fdd9375c",
||||||| 11b9cb7
   "id": "315bb811",
=======
   "id": "4366f222",
>>>>>>> documentation-devel
||||||| 614e9b1
   "id": "4366f222",
=======
   "id": "60e2fb4b",
>>>>>>> documentation-devel
||||||| 856b4c0
<<<<<<< HEAD
   "id": "fdd9375c",
||||||| 11b9cb7
   "id": "315bb811",
=======
   "id": "4366f222",
>>>>>>> documentation-devel
=======
   "id": "9fbe4b91",
>>>>>>> 552590ea8fad969b67afdba27558a1e6cb21016e
||||||| 452c944
   "id": "60e2fb4b",
=======
   "id": "39ac1a62",
>>>>>>> documentation-devel
||||||| 4da3324
<<<<<<< HEAD
<<<<<<< HEAD
<<<<<<< HEAD
   "id": "fdd9375c",
||||||| 11b9cb7
   "id": "315bb811",
=======
   "id": "4366f222",
>>>>>>> documentation-devel
||||||| 614e9b1
   "id": "4366f222",
=======
   "id": "60e2fb4b",
>>>>>>> documentation-devel
||||||| 856b4c0
<<<<<<< HEAD
   "id": "fdd9375c",
||||||| 11b9cb7
   "id": "315bb811",
=======
   "id": "4366f222",
>>>>>>> documentation-devel
=======
   "id": "9fbe4b91",
>>>>>>> 552590ea8fad969b67afdba27558a1e6cb21016e
=======
   "id": "c094c9f5",
>>>>>>> b6e07d13baac92b2c1c9b43f8e4113ffa87bf495
   "metadata": {},
   "outputs": [],
   "source": [
    "# colData(sfe)$nCounts <- colSums(counts(sfe))\n",
    "violin <- plotColData(sfe, \"nCounts\", x = \"in_tissue\", colour_by = \"in_tissue\") +\n",
    "    theme(legend.position = \"top\")\n",
    "spatial <- plotSpatialFeature(sfe, \"nCounts\", colGeometryName = \"spotPoly\",\n",
    "                              annotGeometryName = \"tissueBoundary\", \n",
    "                              image = \"lowres\", maxcell = 5e4,\n",
    "                              annot_fixed = list(fill = NA, color = \"black\")) +\n",
    "    theme_void()\n",
    "violin + spatial"
   ]
  },
  {
   "cell_type": "markdown",
<<<<<<< HEAD
<<<<<<< HEAD
<<<<<<< HEAD
<<<<<<< HEAD
<<<<<<< HEAD
   "id": "e68f8c59",
||||||| 11b9cb7
   "id": "053179c2",
=======
   "id": "96772978",
>>>>>>> documentation-devel
||||||| 614e9b1
   "id": "96772978",
=======
   "id": "19414b89",
>>>>>>> documentation-devel
||||||| 856b4c0
<<<<<<< HEAD
   "id": "e68f8c59",
||||||| 11b9cb7
   "id": "053179c2",
=======
   "id": "96772978",
>>>>>>> documentation-devel
=======
   "id": "b464c3a7",
>>>>>>> 552590ea8fad969b67afdba27558a1e6cb21016e
||||||| 452c944
   "id": "19414b89",
=======
   "id": "ca8eea0d",
>>>>>>> documentation-devel
||||||| 4da3324
<<<<<<< HEAD
<<<<<<< HEAD
<<<<<<< HEAD
   "id": "e68f8c59",
||||||| 11b9cb7
   "id": "053179c2",
=======
   "id": "96772978",
>>>>>>> documentation-devel
||||||| 614e9b1
   "id": "96772978",
=======
   "id": "19414b89",
>>>>>>> documentation-devel
||||||| 856b4c0
<<<<<<< HEAD
   "id": "e68f8c59",
||||||| 11b9cb7
   "id": "053179c2",
=======
   "id": "96772978",
>>>>>>> documentation-devel
=======
   "id": "b464c3a7",
>>>>>>> 552590ea8fad969b67afdba27558a1e6cb21016e
=======
   "id": "4f2fa424",
>>>>>>> b6e07d13baac92b2c1c9b43f8e4113ffa87bf495
   "metadata": {
    "lines_to_next_cell": 0
   },
   "source": [
    "Some spots in the injury site with leukocyte infiltration have high total counts. Spatial autocorrelation of the total counts is apparent, which will be discussed in a later section of this vignette.\n",
    "\n",
    "Next we find number of genes detected per spot. The commented out line of code shows how to find the number of genes detected."
   ]
  },
  {
   "cell_type": "code",
   "execution_count": null,
<<<<<<< HEAD
<<<<<<< HEAD
<<<<<<< HEAD
<<<<<<< HEAD
<<<<<<< HEAD
   "id": "50233659",
||||||| 11b9cb7
   "id": "fbb14b67",
=======
   "id": "b3a8be03",
>>>>>>> documentation-devel
||||||| 614e9b1
   "id": "b3a8be03",
=======
   "id": "487094d2",
>>>>>>> documentation-devel
||||||| 856b4c0
<<<<<<< HEAD
   "id": "50233659",
||||||| 11b9cb7
   "id": "fbb14b67",
=======
   "id": "b3a8be03",
>>>>>>> documentation-devel
=======
   "id": "c83a01d8",
>>>>>>> 552590ea8fad969b67afdba27558a1e6cb21016e
||||||| 452c944
   "id": "487094d2",
=======
   "id": "fc93472f",
>>>>>>> documentation-devel
||||||| 4da3324
<<<<<<< HEAD
<<<<<<< HEAD
<<<<<<< HEAD
   "id": "50233659",
||||||| 11b9cb7
   "id": "fbb14b67",
=======
   "id": "b3a8be03",
>>>>>>> documentation-devel
||||||| 614e9b1
   "id": "b3a8be03",
=======
   "id": "487094d2",
>>>>>>> documentation-devel
||||||| 856b4c0
<<<<<<< HEAD
   "id": "50233659",
||||||| 11b9cb7
   "id": "fbb14b67",
=======
   "id": "b3a8be03",
>>>>>>> documentation-devel
=======
   "id": "c83a01d8",
>>>>>>> 552590ea8fad969b67afdba27558a1e6cb21016e
=======
   "id": "b6ee0592",
>>>>>>> b6e07d13baac92b2c1c9b43f8e4113ffa87bf495
   "metadata": {},
   "outputs": [],
   "source": [
    "# colData(sfe)$nGenes <- colSums(counts(sfe) > 0)\n",
    "violin <- plotColData(sfe, \"nGenes\", x = \"in_tissue\", colour_by = \"in_tissue\") +\n",
    "    theme(legend.position = \"top\")\n",
    "spatial <- plotSpatialFeature(sfe, \"nGenes\", colGeometryName = \"spotPoly\",\n",
    "                              annotGeometryName = \"tissueBoundary\",\n",
    "                              image = \"lowres\", maxcell = 5e4,\n",
    "                              annot_fixed = list(fill = NA, color = \"black\")) +\n",
    "    theme_void()\n",
    "violin + spatial"
   ]
  },
  {
   "cell_type": "markdown",
<<<<<<< HEAD
<<<<<<< HEAD
<<<<<<< HEAD
<<<<<<< HEAD
<<<<<<< HEAD
   "id": "d62e2488",
||||||| 11b9cb7
   "id": "c5dd727b",
=======
   "id": "79ccb9bc",
>>>>>>> documentation-devel
||||||| 614e9b1
   "id": "79ccb9bc",
=======
   "id": "11471fef",
>>>>>>> documentation-devel
||||||| 856b4c0
<<<<<<< HEAD
   "id": "d62e2488",
||||||| 11b9cb7
   "id": "c5dd727b",
=======
   "id": "79ccb9bc",
>>>>>>> documentation-devel
=======
   "id": "dacd2186",
>>>>>>> 552590ea8fad969b67afdba27558a1e6cb21016e
||||||| 452c944
   "id": "11471fef",
=======
   "id": "872a16e2",
>>>>>>> documentation-devel
||||||| 4da3324
<<<<<<< HEAD
<<<<<<< HEAD
<<<<<<< HEAD
   "id": "d62e2488",
||||||| 11b9cb7
   "id": "c5dd727b",
=======
   "id": "79ccb9bc",
>>>>>>> documentation-devel
||||||| 614e9b1
   "id": "79ccb9bc",
=======
   "id": "11471fef",
>>>>>>> documentation-devel
||||||| 856b4c0
<<<<<<< HEAD
   "id": "d62e2488",
||||||| 11b9cb7
   "id": "c5dd727b",
=======
   "id": "79ccb9bc",
>>>>>>> documentation-devel
=======
   "id": "dacd2186",
>>>>>>> 552590ea8fad969b67afdba27558a1e6cb21016e
=======
   "id": "fa4aeb3a",
>>>>>>> b6e07d13baac92b2c1c9b43f8e4113ffa87bf495
   "metadata": {
    "lines_to_next_cell": 0
   },
   "source": [
    "As commonly done for scRNA-seq data, here we plot nCounts vs. nGenes"
   ]
  },
  {
   "cell_type": "code",
   "execution_count": null,
<<<<<<< HEAD
<<<<<<< HEAD
<<<<<<< HEAD
<<<<<<< HEAD
<<<<<<< HEAD
   "id": "672c4a7b",
||||||| 11b9cb7
   "id": "7d8eba52",
=======
   "id": "5b21493d",
>>>>>>> documentation-devel
||||||| 614e9b1
   "id": "5b21493d",
=======
   "id": "f4deeeef",
>>>>>>> documentation-devel
||||||| 856b4c0
<<<<<<< HEAD
   "id": "672c4a7b",
||||||| 11b9cb7
   "id": "7d8eba52",
=======
   "id": "5b21493d",
>>>>>>> documentation-devel
=======
   "id": "b34a0ceb",
>>>>>>> 552590ea8fad969b67afdba27558a1e6cb21016e
||||||| 452c944
   "id": "f4deeeef",
=======
   "id": "e5e022d8",
>>>>>>> documentation-devel
||||||| 4da3324
<<<<<<< HEAD
<<<<<<< HEAD
<<<<<<< HEAD
   "id": "672c4a7b",
||||||| 11b9cb7
   "id": "7d8eba52",
=======
   "id": "5b21493d",
>>>>>>> documentation-devel
||||||| 614e9b1
   "id": "5b21493d",
=======
   "id": "f4deeeef",
>>>>>>> documentation-devel
||||||| 856b4c0
<<<<<<< HEAD
   "id": "672c4a7b",
||||||| 11b9cb7
   "id": "7d8eba52",
=======
   "id": "5b21493d",
>>>>>>> documentation-devel
=======
   "id": "b34a0ceb",
>>>>>>> 552590ea8fad969b67afdba27558a1e6cb21016e
=======
   "id": "e4ebbde3",
>>>>>>> b6e07d13baac92b2c1c9b43f8e4113ffa87bf495
   "metadata": {},
   "outputs": [],
   "source": [
    "plotColData(sfe, x = \"nCounts\", y = \"nGenes\", colour_by = \"in_tissue\")"
   ]
  },
  {
   "cell_type": "markdown",
<<<<<<< HEAD
<<<<<<< HEAD
<<<<<<< HEAD
<<<<<<< HEAD
<<<<<<< HEAD
   "id": "c96ce379",
||||||| 11b9cb7
   "id": "11549276",
=======
   "id": "23c4fdd4",
>>>>>>> documentation-devel
||||||| 614e9b1
   "id": "23c4fdd4",
=======
   "id": "207c5d3d",
>>>>>>> documentation-devel
||||||| 856b4c0
<<<<<<< HEAD
   "id": "c96ce379",
||||||| 11b9cb7
   "id": "11549276",
=======
   "id": "23c4fdd4",
>>>>>>> documentation-devel
=======
   "id": "21ff06a6",
>>>>>>> 552590ea8fad969b67afdba27558a1e6cb21016e
||||||| 452c944
   "id": "207c5d3d",
=======
   "id": "f80ae290",
>>>>>>> documentation-devel
||||||| 4da3324
<<<<<<< HEAD
<<<<<<< HEAD
<<<<<<< HEAD
   "id": "c96ce379",
||||||| 11b9cb7
   "id": "11549276",
=======
   "id": "23c4fdd4",
>>>>>>> documentation-devel
||||||| 614e9b1
   "id": "23c4fdd4",
=======
   "id": "207c5d3d",
>>>>>>> documentation-devel
||||||| 856b4c0
<<<<<<< HEAD
   "id": "c96ce379",
||||||| 11b9cb7
   "id": "11549276",
=======
   "id": "23c4fdd4",
>>>>>>> documentation-devel
=======
   "id": "21ff06a6",
>>>>>>> 552590ea8fad969b67afdba27558a1e6cb21016e
=======
   "id": "ac0449ad",
>>>>>>> b6e07d13baac92b2c1c9b43f8e4113ffa87bf495
   "metadata": {
    "lines_to_next_cell": 0
   },
   "source": [
    "This plot has two branches for the spots in tissue, which turn out to be related to myofiber size. See [the exploratory spatial data analysis (ESDA) Visium vignette](https://pachterlab.github.io/voyager/articles/vig2_visium.html).\n",
    "\n",
    "As is commonly done for scRNA-seq data, we plot the proportion of mitochondrially encoded counts. The commented out code shows how to find this proportion:"
   ]
  },
  {
   "cell_type": "code",
   "execution_count": null,
<<<<<<< HEAD
<<<<<<< HEAD
<<<<<<< HEAD
<<<<<<< HEAD
<<<<<<< HEAD
   "id": "c2efce4c",
||||||| 11b9cb7
   "id": "9ee65e99",
=======
   "id": "c637d27e",
>>>>>>> documentation-devel
||||||| 614e9b1
   "id": "c637d27e",
=======
   "id": "9e6027fb",
>>>>>>> documentation-devel
||||||| 856b4c0
<<<<<<< HEAD
   "id": "c2efce4c",
||||||| 11b9cb7
   "id": "9ee65e99",
=======
   "id": "c637d27e",
>>>>>>> documentation-devel
=======
   "id": "4d03e513",
>>>>>>> 552590ea8fad969b67afdba27558a1e6cb21016e
||||||| 452c944
   "id": "9e6027fb",
=======
   "id": "0d49fea4",
>>>>>>> documentation-devel
||||||| 4da3324
<<<<<<< HEAD
<<<<<<< HEAD
<<<<<<< HEAD
   "id": "c2efce4c",
||||||| 11b9cb7
   "id": "9ee65e99",
=======
   "id": "c637d27e",
>>>>>>> documentation-devel
||||||| 614e9b1
   "id": "c637d27e",
=======
   "id": "9e6027fb",
>>>>>>> documentation-devel
||||||| 856b4c0
<<<<<<< HEAD
   "id": "c2efce4c",
||||||| 11b9cb7
   "id": "9ee65e99",
=======
   "id": "c637d27e",
>>>>>>> documentation-devel
=======
   "id": "4d03e513",
>>>>>>> 552590ea8fad969b67afdba27558a1e6cb21016e
=======
   "id": "3f43bf60",
>>>>>>> b6e07d13baac92b2c1c9b43f8e4113ffa87bf495
   "metadata": {},
   "outputs": [],
   "source": [
    "# mito_ind <- str_detect(rowData(sfe)$symbol, \"^Mt-\")\n",
    "# colData(sfe)$prop_mito <- colSums(counts(sfe)[mito_ind,]) / colData(sfe)$nCounts\n",
    "violin <- plotColData(sfe, \"prop_mito\", x = \"in_tissue\", colour_by = \"in_tissue\") +\n",
    "    theme(legend.position = \"top\")\n",
    "spatial <- plotSpatialFeature(sfe, \"prop_mito\", colGeometryName = \"spotPoly\",\n",
    "                              annotGeometryName = \"tissueBoundary\",\n",
    "                              image = \"lowres\", maxcell = 5e4,\n",
    "                              annot_fixed = list(fill = NA, color = \"black\")) +\n",
    "    theme_void()\n",
    "violin + spatial"
   ]
  },
  {
   "cell_type": "markdown",
<<<<<<< HEAD
<<<<<<< HEAD
<<<<<<< HEAD
<<<<<<< HEAD
<<<<<<< HEAD
   "id": "f99c9f32",
||||||| 11b9cb7
   "id": "8c48d1a6",
=======
   "id": "a4bb057a",
>>>>>>> documentation-devel
||||||| 614e9b1
   "id": "a4bb057a",
=======
   "id": "da8dbb8b",
>>>>>>> documentation-devel
||||||| 856b4c0
<<<<<<< HEAD
   "id": "f99c9f32",
||||||| 11b9cb7
   "id": "8c48d1a6",
=======
   "id": "a4bb057a",
>>>>>>> documentation-devel
=======
   "id": "aa44b5a8",
>>>>>>> 552590ea8fad969b67afdba27558a1e6cb21016e
||||||| 452c944
   "id": "da8dbb8b",
=======
   "id": "947430dc",
>>>>>>> documentation-devel
||||||| 4da3324
<<<<<<< HEAD
<<<<<<< HEAD
<<<<<<< HEAD
   "id": "f99c9f32",
||||||| 11b9cb7
   "id": "8c48d1a6",
=======
   "id": "a4bb057a",
>>>>>>> documentation-devel
||||||| 614e9b1
   "id": "a4bb057a",
=======
   "id": "da8dbb8b",
>>>>>>> documentation-devel
||||||| 856b4c0
<<<<<<< HEAD
   "id": "f99c9f32",
||||||| 11b9cb7
   "id": "8c48d1a6",
=======
   "id": "a4bb057a",
>>>>>>> documentation-devel
=======
   "id": "aa44b5a8",
>>>>>>> 552590ea8fad969b67afdba27558a1e6cb21016e
=======
   "id": "1c38c665",
>>>>>>> b6e07d13baac92b2c1c9b43f8e4113ffa87bf495
   "metadata": {
    "lines_to_next_cell": 0
   },
   "source": [
    "As expected, spots outside tissue have a higher proportion of mitochondrial counts, because when the tissue is lysed, mitochondrial transcripts are are less likely to degrade than cytosolic transcripts as they are protected by a double membrane. However, spots on myofibers also have a high proportion of mitochondrial counts, because of the function of myofibers. The injury site with leukocyte infiltration has a lower proportion of mitochondrial counts.\n",
    "\n",
    "To see the relationship between the proportion of mitochondrial counts and total UMI counts,  we plot them against each other as is commonly done in scRNA-seq analysis to identify low quality cells, i.e. cells with few UMI counts and a high proportion of mitochondrial counts."
   ]
  },
  {
   "cell_type": "code",
   "execution_count": null,
<<<<<<< HEAD
<<<<<<< HEAD
<<<<<<< HEAD
<<<<<<< HEAD
<<<<<<< HEAD
   "id": "20747b58",
||||||| 11b9cb7
   "id": "02d5d7ef",
=======
   "id": "41a2a518",
>>>>>>> documentation-devel
||||||| 614e9b1
   "id": "41a2a518",
=======
   "id": "f47afd3c",
>>>>>>> documentation-devel
||||||| 856b4c0
<<<<<<< HEAD
   "id": "20747b58",
||||||| 11b9cb7
   "id": "02d5d7ef",
=======
   "id": "41a2a518",
>>>>>>> documentation-devel
=======
   "id": "21453ac4",
>>>>>>> 552590ea8fad969b67afdba27558a1e6cb21016e
||||||| 452c944
   "id": "f47afd3c",
=======
   "id": "341e1530",
>>>>>>> documentation-devel
||||||| 4da3324
<<<<<<< HEAD
<<<<<<< HEAD
<<<<<<< HEAD
   "id": "20747b58",
||||||| 11b9cb7
   "id": "02d5d7ef",
=======
   "id": "41a2a518",
>>>>>>> documentation-devel
||||||| 614e9b1
   "id": "41a2a518",
=======
   "id": "f47afd3c",
>>>>>>> documentation-devel
||||||| 856b4c0
<<<<<<< HEAD
   "id": "20747b58",
||||||| 11b9cb7
   "id": "02d5d7ef",
=======
   "id": "41a2a518",
>>>>>>> documentation-devel
=======
   "id": "21453ac4",
>>>>>>> 552590ea8fad969b67afdba27558a1e6cb21016e
=======
   "id": "400cb404",
>>>>>>> b6e07d13baac92b2c1c9b43f8e4113ffa87bf495
   "metadata": {},
   "outputs": [],
   "source": [
    "plotColData(sfe, x = \"nCounts\", y = \"prop_mito\", colour_by = \"in_tissue\")"
   ]
  },
  {
   "cell_type": "markdown",
<<<<<<< HEAD
<<<<<<< HEAD
<<<<<<< HEAD
<<<<<<< HEAD
<<<<<<< HEAD
   "id": "de88a455",
||||||| 11b9cb7
   "id": "21eeff61",
=======
   "id": "aaa336ff",
>>>>>>> documentation-devel
||||||| 614e9b1
   "id": "aaa336ff",
=======
   "id": "55195803",
>>>>>>> documentation-devel
||||||| 856b4c0
<<<<<<< HEAD
   "id": "de88a455",
||||||| 11b9cb7
   "id": "21eeff61",
=======
   "id": "aaa336ff",
>>>>>>> documentation-devel
=======
   "id": "bbe9b7c1",
>>>>>>> 552590ea8fad969b67afdba27558a1e6cb21016e
||||||| 452c944
   "id": "55195803",
=======
   "id": "181a1ee9",
>>>>>>> documentation-devel
||||||| 4da3324
<<<<<<< HEAD
<<<<<<< HEAD
<<<<<<< HEAD
   "id": "de88a455",
||||||| 11b9cb7
   "id": "21eeff61",
=======
   "id": "aaa336ff",
>>>>>>> documentation-devel
||||||| 614e9b1
   "id": "aaa336ff",
=======
   "id": "55195803",
>>>>>>> documentation-devel
||||||| 856b4c0
<<<<<<< HEAD
   "id": "de88a455",
||||||| 11b9cb7
   "id": "21eeff61",
=======
   "id": "aaa336ff",
>>>>>>> documentation-devel
=======
   "id": "bbe9b7c1",
>>>>>>> 552590ea8fad969b67afdba27558a1e6cb21016e
=======
   "id": "cd736093",
>>>>>>> b6e07d13baac92b2c1c9b43f8e4113ffa87bf495
   "metadata": {
    "lines_to_next_cell": 0
   },
   "source": [
    "There are two clusters for the spots in tissue, which also turn out to be related to myofiber size. See the [ESDA Visium vignette](https://pachterlab.github.io/voyager/articles/vig2_visium.html). \n",
    "\n",
    "So far we haven't seen spots that are obvious outliers in these QC metrics.\n",
    "\n",
    "The following analyses only use spots in tissue, which are selected as follows:"
   ]
  },
  {
   "cell_type": "code",
   "execution_count": null,
<<<<<<< HEAD
<<<<<<< HEAD
<<<<<<< HEAD
<<<<<<< HEAD
<<<<<<< HEAD
   "id": "8cf2df68",
||||||| 11b9cb7
   "id": "5f7f5541",
=======
   "id": "981ae3a5",
>>>>>>> documentation-devel
||||||| 614e9b1
   "id": "981ae3a5",
=======
   "id": "2d88946f",
>>>>>>> documentation-devel
||||||| 856b4c0
<<<<<<< HEAD
   "id": "8cf2df68",
||||||| 11b9cb7
   "id": "5f7f5541",
=======
   "id": "981ae3a5",
>>>>>>> documentation-devel
=======
   "id": "fc4d71a8",
>>>>>>> 552590ea8fad969b67afdba27558a1e6cb21016e
||||||| 452c944
   "id": "2d88946f",
=======
   "id": "ec4b6ecd",
>>>>>>> documentation-devel
||||||| 4da3324
<<<<<<< HEAD
<<<<<<< HEAD
<<<<<<< HEAD
   "id": "8cf2df68",
||||||| 11b9cb7
   "id": "5f7f5541",
=======
   "id": "981ae3a5",
>>>>>>> documentation-devel
||||||| 614e9b1
   "id": "981ae3a5",
=======
   "id": "2d88946f",
>>>>>>> documentation-devel
||||||| 856b4c0
<<<<<<< HEAD
   "id": "8cf2df68",
||||||| 11b9cb7
   "id": "5f7f5541",
=======
   "id": "981ae3a5",
>>>>>>> documentation-devel
=======
   "id": "fc4d71a8",
>>>>>>> 552590ea8fad969b67afdba27558a1e6cb21016e
=======
   "id": "299c07e0",
>>>>>>> b6e07d13baac92b2c1c9b43f8e4113ffa87bf495
   "metadata": {},
   "outputs": [],
   "source": [
    "sfe_tissue <- sfe[, colData(sfe)$in_tissue]\n",
    "sfe_tissue <- sfe_tissue[rowSums(counts(sfe_tissue)) > 0,]"
   ]
  },
  {
   "cell_type": "markdown",
<<<<<<< HEAD
<<<<<<< HEAD
<<<<<<< HEAD
<<<<<<< HEAD
<<<<<<< HEAD
   "id": "5376d2e6",
||||||| 11b9cb7
   "id": "39b5d3a9",
=======
   "id": "96fd9969",
>>>>>>> documentation-devel
||||||| 614e9b1
   "id": "96fd9969",
=======
   "id": "c209a9ac",
>>>>>>> documentation-devel
||||||| 856b4c0
<<<<<<< HEAD
   "id": "5376d2e6",
||||||| 11b9cb7
   "id": "39b5d3a9",
=======
   "id": "96fd9969",
>>>>>>> documentation-devel
=======
   "id": "869e7831",
>>>>>>> 552590ea8fad969b67afdba27558a1e6cb21016e
||||||| 452c944
   "id": "c209a9ac",
=======
   "id": "1a7bcbbe",
>>>>>>> documentation-devel
||||||| 4da3324
<<<<<<< HEAD
<<<<<<< HEAD
<<<<<<< HEAD
   "id": "5376d2e6",
||||||| 11b9cb7
   "id": "39b5d3a9",
=======
   "id": "96fd9969",
>>>>>>> documentation-devel
||||||| 614e9b1
   "id": "96fd9969",
=======
   "id": "c209a9ac",
>>>>>>> documentation-devel
||||||| 856b4c0
<<<<<<< HEAD
   "id": "5376d2e6",
||||||| 11b9cb7
   "id": "39b5d3a9",
=======
   "id": "96fd9969",
>>>>>>> documentation-devel
=======
   "id": "869e7831",
>>>>>>> 552590ea8fad969b67afdba27558a1e6cb21016e
=======
   "id": "5be4a0e2",
>>>>>>> b6e07d13baac92b2c1c9b43f8e4113ffa87bf495
   "metadata": {
    "lines_to_next_cell": 0
   },
   "source": [
    "## Genes\n",
    "As in scRNA-seq, gene expression variance in Visium measurements is overdispersed compared to variance of counts that are Poisson distributed.\n",
    "\n",
    "To understand the mean-variance relationship, we compute the mean, variance, and coefficient of variance (CV2) for each gene among spots in tissue:"
   ]
  },
  {
   "cell_type": "code",
   "execution_count": null,
<<<<<<< HEAD
<<<<<<< HEAD
<<<<<<< HEAD
<<<<<<< HEAD
<<<<<<< HEAD
   "id": "74081d83",
||||||| 11b9cb7
   "id": "c0e43d46",
=======
   "id": "c153de45",
>>>>>>> documentation-devel
||||||| 614e9b1
   "id": "c153de45",
=======
   "id": "ef463db5",
>>>>>>> documentation-devel
||||||| 856b4c0
<<<<<<< HEAD
   "id": "74081d83",
||||||| 11b9cb7
   "id": "c0e43d46",
=======
   "id": "c153de45",
>>>>>>> documentation-devel
=======
   "id": "300d1ca1",
>>>>>>> 552590ea8fad969b67afdba27558a1e6cb21016e
||||||| 452c944
   "id": "ef463db5",
=======
   "id": "c1f0e7d1",
>>>>>>> documentation-devel
||||||| 4da3324
<<<<<<< HEAD
<<<<<<< HEAD
<<<<<<< HEAD
   "id": "74081d83",
||||||| 11b9cb7
   "id": "c0e43d46",
=======
   "id": "c153de45",
>>>>>>> documentation-devel
||||||| 614e9b1
   "id": "c153de45",
=======
   "id": "ef463db5",
>>>>>>> documentation-devel
||||||| 856b4c0
<<<<<<< HEAD
   "id": "74081d83",
||||||| 11b9cb7
   "id": "c0e43d46",
=======
   "id": "c153de45",
>>>>>>> documentation-devel
=======
   "id": "300d1ca1",
>>>>>>> 552590ea8fad969b67afdba27558a1e6cb21016e
=======
   "id": "c760ad02",
>>>>>>> b6e07d13baac92b2c1c9b43f8e4113ffa87bf495
   "metadata": {},
   "outputs": [],
   "source": [
    "rowData(sfe_tissue)$means <- rowMeans(counts(sfe_tissue))\n",
    "rowData(sfe_tissue)$vars <- rowVars(counts(sfe_tissue))\n",
    "# Coefficient of variance\n",
    "rowData(sfe_tissue)$cv2 <- rowData(sfe_tissue)$vars/rowData(sfe_tissue)$means^2"
   ]
  },
  {
   "cell_type": "markdown",
<<<<<<< HEAD
<<<<<<< HEAD
<<<<<<< HEAD
<<<<<<< HEAD
<<<<<<< HEAD
   "id": "3c26a226",
||||||| 11b9cb7
   "id": "77fa8687",
=======
   "id": "8822dbd6",
>>>>>>> documentation-devel
||||||| 614e9b1
   "id": "8822dbd6",
=======
   "id": "35aefb15",
>>>>>>> documentation-devel
||||||| 856b4c0
<<<<<<< HEAD
   "id": "3c26a226",
||||||| 11b9cb7
   "id": "77fa8687",
=======
   "id": "8822dbd6",
>>>>>>> documentation-devel
=======
   "id": "3b9385d4",
>>>>>>> 552590ea8fad969b67afdba27558a1e6cb21016e
||||||| 452c944
   "id": "35aefb15",
=======
   "id": "0954ff7b",
>>>>>>> documentation-devel
||||||| 4da3324
<<<<<<< HEAD
<<<<<<< HEAD
<<<<<<< HEAD
   "id": "3c26a226",
||||||| 11b9cb7
   "id": "77fa8687",
=======
   "id": "8822dbd6",
>>>>>>> documentation-devel
||||||| 614e9b1
   "id": "8822dbd6",
=======
   "id": "35aefb15",
>>>>>>> documentation-devel
||||||| 856b4c0
<<<<<<< HEAD
   "id": "3c26a226",
||||||| 11b9cb7
   "id": "77fa8687",
=======
   "id": "8822dbd6",
>>>>>>> documentation-devel
=======
   "id": "3b9385d4",
>>>>>>> 552590ea8fad969b67afdba27558a1e6cb21016e
=======
   "id": "6bb54769",
>>>>>>> b6e07d13baac92b2c1c9b43f8e4113ffa87bf495
   "metadata": {
    "lines_to_next_cell": 0
   },
   "source": [
    "To avoid overplotting and better show point density on the plot, we use a 2D histogram. The color of each bin indicates the number of points in that bin."
   ]
  },
  {
   "cell_type": "code",
   "execution_count": null,
<<<<<<< HEAD
<<<<<<< HEAD
<<<<<<< HEAD
<<<<<<< HEAD
<<<<<<< HEAD
   "id": "6e6180f8",
||||||| 11b9cb7
   "id": "ae10df69",
=======
   "id": "5dc45cf6",
>>>>>>> documentation-devel
||||||| 614e9b1
   "id": "5dc45cf6",
=======
   "id": "e6b3babc",
>>>>>>> documentation-devel
||||||| 856b4c0
<<<<<<< HEAD
   "id": "6e6180f8",
||||||| 11b9cb7
   "id": "ae10df69",
=======
   "id": "5dc45cf6",
>>>>>>> documentation-devel
=======
   "id": "6b11e5e0",
>>>>>>> 552590ea8fad969b67afdba27558a1e6cb21016e
||||||| 452c944
   "id": "e6b3babc",
=======
   "id": "3789b5c4",
>>>>>>> documentation-devel
||||||| 4da3324
<<<<<<< HEAD
<<<<<<< HEAD
<<<<<<< HEAD
   "id": "6e6180f8",
||||||| 11b9cb7
   "id": "ae10df69",
=======
   "id": "5dc45cf6",
>>>>>>> documentation-devel
||||||| 614e9b1
   "id": "5dc45cf6",
=======
   "id": "e6b3babc",
>>>>>>> documentation-devel
||||||| 856b4c0
<<<<<<< HEAD
   "id": "6e6180f8",
||||||| 11b9cb7
   "id": "ae10df69",
=======
   "id": "5dc45cf6",
>>>>>>> documentation-devel
=======
   "id": "6b11e5e0",
>>>>>>> 552590ea8fad969b67afdba27558a1e6cb21016e
=======
   "id": "53b4c55c",
>>>>>>> b6e07d13baac92b2c1c9b43f8e4113ffa87bf495
   "metadata": {},
   "outputs": [],
   "source": [
    "plotRowDataBin2D(sfe, \"means\", \"vars\", bins = 50) +\n",
    "    geom_abline(slope = 1, intercept = 0, color = \"red\") +\n",
    "    scale_x_log10() + scale_y_log10() +\n",
    "    annotation_logticks() +\n",
    "    coord_equal()"
   ]
  },
  {
   "cell_type": "markdown",
<<<<<<< HEAD
<<<<<<< HEAD
<<<<<<< HEAD
<<<<<<< HEAD
<<<<<<< HEAD
   "id": "bc83634a",
||||||| 11b9cb7
   "id": "54175ea1",
=======
   "id": "9334a8c0",
>>>>>>> documentation-devel
||||||| 614e9b1
   "id": "9334a8c0",
=======
   "id": "656f4ea9",
>>>>>>> documentation-devel
||||||| 856b4c0
<<<<<<< HEAD
   "id": "bc83634a",
||||||| 11b9cb7
   "id": "54175ea1",
=======
   "id": "9334a8c0",
>>>>>>> documentation-devel
=======
   "id": "8b56131e",
>>>>>>> 552590ea8fad969b67afdba27558a1e6cb21016e
||||||| 452c944
   "id": "656f4ea9",
=======
   "id": "ef881aae",
>>>>>>> documentation-devel
||||||| 4da3324
<<<<<<< HEAD
<<<<<<< HEAD
<<<<<<< HEAD
   "id": "bc83634a",
||||||| 11b9cb7
   "id": "54175ea1",
=======
   "id": "9334a8c0",
>>>>>>> documentation-devel
||||||| 614e9b1
   "id": "9334a8c0",
=======
   "id": "656f4ea9",
>>>>>>> documentation-devel
||||||| 856b4c0
<<<<<<< HEAD
   "id": "bc83634a",
||||||| 11b9cb7
   "id": "54175ea1",
=======
   "id": "9334a8c0",
>>>>>>> documentation-devel
=======
   "id": "8b56131e",
>>>>>>> 552590ea8fad969b67afdba27558a1e6cb21016e
=======
   "id": "f874460b",
>>>>>>> b6e07d13baac92b2c1c9b43f8e4113ffa87bf495
   "metadata": {},
   "source": [
    "The red line, $y = x$ is what is expected for Poisson distributed data, but we find that the variance is higher for more highly expressed genes than expected from Poisson distributed counts. The coefficient of variation shows the same."
   ]
  },
  {
   "cell_type": "code",
   "execution_count": null,
<<<<<<< HEAD
<<<<<<< HEAD
<<<<<<< HEAD
<<<<<<< HEAD
<<<<<<< HEAD
   "id": "0eb4110f",
||||||| 11b9cb7
   "id": "9524bc10",
=======
   "id": "efbe103c",
>>>>>>> documentation-devel
||||||| 614e9b1
   "id": "efbe103c",
=======
   "id": "18dd401f",
>>>>>>> documentation-devel
||||||| 856b4c0
<<<<<<< HEAD
   "id": "0eb4110f",
||||||| 11b9cb7
   "id": "9524bc10",
=======
   "id": "efbe103c",
>>>>>>> documentation-devel
=======
   "id": "9dc950a6",
>>>>>>> 552590ea8fad969b67afdba27558a1e6cb21016e
||||||| 452c944
   "id": "18dd401f",
=======
   "id": "b519213f",
>>>>>>> documentation-devel
||||||| 4da3324
<<<<<<< HEAD
<<<<<<< HEAD
<<<<<<< HEAD
   "id": "0eb4110f",
||||||| 11b9cb7
   "id": "9524bc10",
=======
   "id": "efbe103c",
>>>>>>> documentation-devel
||||||| 614e9b1
   "id": "efbe103c",
=======
   "id": "18dd401f",
>>>>>>> documentation-devel
||||||| 856b4c0
<<<<<<< HEAD
   "id": "0eb4110f",
||||||| 11b9cb7
   "id": "9524bc10",
=======
   "id": "efbe103c",
>>>>>>> documentation-devel
=======
   "id": "9dc950a6",
>>>>>>> 552590ea8fad969b67afdba27558a1e6cb21016e
=======
   "id": "64490617",
>>>>>>> b6e07d13baac92b2c1c9b43f8e4113ffa87bf495
   "metadata": {},
   "outputs": [],
   "source": [
    "plotRowDataBin2D(sfe, \"means\", \"cv2\", bins = 50) +\n",
    "    geom_abline(slope = -1, intercept = 0, color = \"red\") +\n",
    "    scale_x_log10() + scale_y_log10() +\n",
    "    annotation_logticks() +\n",
    "    coord_equal()"
   ]
  },
  {
   "cell_type": "markdown",
<<<<<<< HEAD
<<<<<<< HEAD
<<<<<<< HEAD
<<<<<<< HEAD
<<<<<<< HEAD
   "id": "384195bd",
||||||| 11b9cb7
   "id": "ebc17066",
=======
   "id": "0bd0a639",
>>>>>>> documentation-devel
||||||| 614e9b1
   "id": "0bd0a639",
=======
   "id": "5c8e9010",
>>>>>>> documentation-devel
||||||| 856b4c0
<<<<<<< HEAD
   "id": "384195bd",
||||||| 11b9cb7
   "id": "ebc17066",
=======
   "id": "0bd0a639",
>>>>>>> documentation-devel
=======
   "id": "414f7bb0",
>>>>>>> 552590ea8fad969b67afdba27558a1e6cb21016e
||||||| 452c944
   "id": "5c8e9010",
=======
   "id": "6b82b1c8",
>>>>>>> documentation-devel
||||||| 4da3324
<<<<<<< HEAD
<<<<<<< HEAD
<<<<<<< HEAD
   "id": "384195bd",
||||||| 11b9cb7
   "id": "ebc17066",
=======
   "id": "0bd0a639",
>>>>>>> documentation-devel
||||||| 614e9b1
   "id": "0bd0a639",
=======
   "id": "5c8e9010",
>>>>>>> documentation-devel
||||||| 856b4c0
<<<<<<< HEAD
   "id": "384195bd",
||||||| 11b9cb7
   "id": "ebc17066",
=======
   "id": "0bd0a639",
>>>>>>> documentation-devel
=======
   "id": "414f7bb0",
>>>>>>> 552590ea8fad969b67afdba27558a1e6cb21016e
=======
   "id": "7222276c",
>>>>>>> b6e07d13baac92b2c1c9b43f8e4113ffa87bf495
   "metadata": {},
   "source": [
    "# Normalize data\n",
    "\n",
    "We demonstrate the use of `scater` for normalization below, although we note that it is not necessarily the best approach to normalizing spatial transcriptomics data. The problem of when and how to normalize spatial transcriptomics data is non-trivial because, as the `nCounts` plot in space shows above, spatial autocorrelation is evident. Furthemrore, in Visium, reverse transcription occurs in situ on the spots, but PCR amplification occurs after the cDNA is dissociated from the spots. Artifacts may be subsequently introduced from the amplification step, and these would not be associated with spatial origin. Spatial artifacts may arise from the diffusion of transcripts and tissue permeablization. However, given how the total counts seem to correspond to histological regions, the total counts may have a biological component and hence should not be treated as a technical artifact to be normalized away as in scRNA-seq data normalization methods. In other words, the issue of normalization for spatial transcriptomics data, and Visium in particular, is complex and is currently unsolved.\n",
    "\n",
    "There is no one way to normalize non-spatial scRNA-seq data. The commented out code implements the `scran` method [@Lun2016-yq]. To simplify the matter, we only perform `logNormCounts()` in this introductory vignette. \n",
    "\n",
    "Note that `scater`'s `logNormCounts()` is quite different from that in Seurat. Let $N$ denote the total UMI count in one Visium spot, $\\bar N$ the average total UMI count in all spots in this dataset, and $x$ denote the UMI count of one gene in the Visium spot of interest. Seurat performs log normalization as $\\mathrm{log}\\left( \\frac{x}{N/10000} + 1 \\right)$, where the natural log is used. In contrast, with default parameters, `scater` uses $\\mathrm{log_2}\\left( \\frac{x}{N/\\bar N} + 1 \\right)$. The pseudocount (default to 1), library size factors (default to $N/\\bar N$), and transform (default to log2) can be changed. Log 2 is used because differences in values can be interpreted as log fold change."
   ]
  },
  {
   "cell_type": "code",
   "execution_count": null,
<<<<<<< HEAD
<<<<<<< HEAD
<<<<<<< HEAD
<<<<<<< HEAD
<<<<<<< HEAD
   "id": "22d5d074",
||||||| 11b9cb7
   "id": "011579b1",
=======
   "id": "35d7d450",
>>>>>>> documentation-devel
||||||| 614e9b1
   "id": "35d7d450",
=======
   "id": "84b4dbc3",
>>>>>>> documentation-devel
||||||| 856b4c0
<<<<<<< HEAD
   "id": "22d5d074",
||||||| 11b9cb7
   "id": "011579b1",
=======
   "id": "35d7d450",
>>>>>>> documentation-devel
=======
   "id": "f4917919",
>>>>>>> 552590ea8fad969b67afdba27558a1e6cb21016e
||||||| 452c944
   "id": "84b4dbc3",
=======
   "id": "561c7cfc",
>>>>>>> documentation-devel
||||||| 4da3324
<<<<<<< HEAD
<<<<<<< HEAD
<<<<<<< HEAD
   "id": "22d5d074",
||||||| 11b9cb7
   "id": "011579b1",
=======
   "id": "35d7d450",
>>>>>>> documentation-devel
||||||| 614e9b1
   "id": "35d7d450",
=======
   "id": "84b4dbc3",
>>>>>>> documentation-devel
||||||| 856b4c0
<<<<<<< HEAD
   "id": "22d5d074",
||||||| 11b9cb7
   "id": "011579b1",
=======
   "id": "35d7d450",
>>>>>>> documentation-devel
=======
   "id": "f4917919",
>>>>>>> 552590ea8fad969b67afdba27558a1e6cb21016e
=======
   "id": "4fc4bcd6",
>>>>>>> b6e07d13baac92b2c1c9b43f8e4113ffa87bf495
   "metadata": {},
   "outputs": [],
   "source": [
    "# clusters <- quickCluster(sfe_tissue)\n",
    "# sfe_tissue <- computeSumFactors(sfe_tissue, clusters=clusters)\n",
    "# sfe_tissue <- sfe_tissue[, sizeFactors(sfe_tissue) > 0]\n",
    "sfe_tissue <- logNormCounts(sfe_tissue)"
   ]
  },
  {
   "cell_type": "markdown",
<<<<<<< HEAD
<<<<<<< HEAD
<<<<<<< HEAD
<<<<<<< HEAD
<<<<<<< HEAD
   "id": "719db74f",
||||||| 11b9cb7
   "id": "d9cb0244",
=======
   "id": "5057a2c0",
>>>>>>> documentation-devel
||||||| 614e9b1
   "id": "5057a2c0",
=======
   "id": "45059b8f",
>>>>>>> documentation-devel
||||||| 856b4c0
<<<<<<< HEAD
   "id": "719db74f",
||||||| 11b9cb7
   "id": "d9cb0244",
=======
   "id": "5057a2c0",
>>>>>>> documentation-devel
=======
   "id": "3ab3679f",
>>>>>>> 552590ea8fad969b67afdba27558a1e6cb21016e
||||||| 452c944
   "id": "45059b8f",
=======
   "id": "9a8248c6",
>>>>>>> documentation-devel
||||||| 4da3324
<<<<<<< HEAD
<<<<<<< HEAD
<<<<<<< HEAD
   "id": "719db74f",
||||||| 11b9cb7
   "id": "d9cb0244",
=======
   "id": "5057a2c0",
>>>>>>> documentation-devel
||||||| 614e9b1
   "id": "5057a2c0",
=======
   "id": "45059b8f",
>>>>>>> documentation-devel
||||||| 856b4c0
<<<<<<< HEAD
   "id": "719db74f",
||||||| 11b9cb7
   "id": "d9cb0244",
=======
   "id": "5057a2c0",
>>>>>>> documentation-devel
=======
   "id": "3ab3679f",
>>>>>>> 552590ea8fad969b67afdba27558a1e6cb21016e
=======
   "id": "d659f103",
>>>>>>> b6e07d13baac92b2c1c9b43f8e4113ffa87bf495
   "metadata": {
    "lines_to_next_cell": 0
   },
   "source": [
    "Next, we identify highly variable genes (HVGs), which will be used for principal component analysis (PCA) dimensionality reduction. Again, there are different ways to identify HVGs, and `scater` does so differently from Seurat. In both frameworks, the log normalized data is used by default. In summary, in Seurat, with default parameters, a Loess curve is fitted to the log transformed data (the log normalized data is log transformed for fitting purposes), and the fitted values are exponentiated as the expected variance for each gene. Then the expected variance and the mean are used to standardize the log normalized gene expression; the standardized values are used to calculate a standardized variance for each gene. The top HVGs are the genes with the largest standardized variance.\n",
    "\n",
    "In `scater`, with default parameters, a parametric non-linear curve of variance vs. mean for each gene of the log normalized data. Then the log ratio of the actual variance to the fitted variance from the curve calculated, and a Loess curve is fitted to this log ratio vs. mean for each gene. The \"technical\" component of the variance is the fitted values from the Loess curve. The \"biological\" component is the difference between the actual variance and the Loess fitted variance. The top HVGs are genes with the largest biological component. See the documentation of `modelGeneVar()`, `fitTrendVar()`, and `getTopHVGs()` for more details.\n",
    "\n",
    "These differences can lead to different downstream results. While we don't comment on which way is better in this vignette, it's important to be aware of such differences."
   ]
  },
  {
   "cell_type": "code",
   "execution_count": null,
<<<<<<< HEAD
<<<<<<< HEAD
<<<<<<< HEAD
<<<<<<< HEAD
<<<<<<< HEAD
   "id": "e822b3c7",
||||||| 11b9cb7
   "id": "47e5fee6",
=======
   "id": "bbae4e1e",
>>>>>>> documentation-devel
||||||| 614e9b1
   "id": "bbae4e1e",
=======
   "id": "b41be974",
>>>>>>> documentation-devel
||||||| 856b4c0
<<<<<<< HEAD
   "id": "e822b3c7",
||||||| 11b9cb7
   "id": "47e5fee6",
=======
   "id": "bbae4e1e",
>>>>>>> documentation-devel
=======
   "id": "5c679f4c",
>>>>>>> 552590ea8fad969b67afdba27558a1e6cb21016e
||||||| 452c944
   "id": "b41be974",
=======
   "id": "38c51013",
>>>>>>> documentation-devel
||||||| 4da3324
<<<<<<< HEAD
<<<<<<< HEAD
<<<<<<< HEAD
   "id": "e822b3c7",
||||||| 11b9cb7
   "id": "47e5fee6",
=======
   "id": "bbae4e1e",
>>>>>>> documentation-devel
||||||| 614e9b1
   "id": "bbae4e1e",
=======
   "id": "b41be974",
>>>>>>> documentation-devel
||||||| 856b4c0
<<<<<<< HEAD
   "id": "e822b3c7",
||||||| 11b9cb7
   "id": "47e5fee6",
=======
   "id": "bbae4e1e",
>>>>>>> documentation-devel
=======
   "id": "5c679f4c",
>>>>>>> 552590ea8fad969b67afdba27558a1e6cb21016e
=======
   "id": "7a93f9bf",
>>>>>>> b6e07d13baac92b2c1c9b43f8e4113ffa87bf495
   "metadata": {},
   "outputs": [],
   "source": [
    "dec <- modelGeneVar(sfe_tissue)\n",
    "hvgs <- getTopHVGs(dec, n = 2000)"
   ]
  },
  {
   "cell_type": "markdown",
<<<<<<< HEAD
<<<<<<< HEAD
<<<<<<< HEAD
<<<<<<< HEAD
<<<<<<< HEAD
   "id": "f8721451",
||||||| 11b9cb7
   "id": "d25465af",
=======
   "id": "bdccf01f",
>>>>>>> documentation-devel
||||||| 614e9b1
   "id": "bdccf01f",
=======
   "id": "fb35e861",
>>>>>>> documentation-devel
||||||| 856b4c0
<<<<<<< HEAD
   "id": "f8721451",
||||||| 11b9cb7
   "id": "d25465af",
=======
   "id": "bdccf01f",
>>>>>>> documentation-devel
=======
   "id": "cf0eac7f",
>>>>>>> 552590ea8fad969b67afdba27558a1e6cb21016e
||||||| 452c944
   "id": "fb35e861",
=======
   "id": "29ca749b",
>>>>>>> documentation-devel
||||||| 4da3324
<<<<<<< HEAD
<<<<<<< HEAD
<<<<<<< HEAD
   "id": "f8721451",
||||||| 11b9cb7
   "id": "d25465af",
=======
   "id": "bdccf01f",
>>>>>>> documentation-devel
||||||| 614e9b1
   "id": "bdccf01f",
=======
   "id": "fb35e861",
>>>>>>> documentation-devel
||||||| 856b4c0
<<<<<<< HEAD
   "id": "f8721451",
||||||| 11b9cb7
   "id": "d25465af",
=======
   "id": "bdccf01f",
>>>>>>> documentation-devel
=======
   "id": "cf0eac7f",
>>>>>>> 552590ea8fad969b67afdba27558a1e6cb21016e
=======
   "id": "bda7a130",
>>>>>>> b6e07d13baac92b2c1c9b43f8e4113ffa87bf495
   "metadata": {
    "lines_to_next_cell": 0
   },
   "source": [
    "# Dimension reduction and clustering"
   ]
  },
  {
   "cell_type": "code",
   "execution_count": null,
<<<<<<< HEAD
<<<<<<< HEAD
<<<<<<< HEAD
<<<<<<< HEAD
<<<<<<< HEAD
   "id": "364ff137",
||||||| 11b9cb7
   "id": "21d0edf4",
=======
   "id": "ebfc98e9",
>>>>>>> documentation-devel
||||||| 614e9b1
   "id": "ebfc98e9",
=======
   "id": "54139eec",
>>>>>>> documentation-devel
||||||| 856b4c0
<<<<<<< HEAD
   "id": "364ff137",
||||||| 11b9cb7
   "id": "21d0edf4",
=======
   "id": "ebfc98e9",
>>>>>>> documentation-devel
=======
   "id": "c8304fed",
>>>>>>> 552590ea8fad969b67afdba27558a1e6cb21016e
||||||| 452c944
   "id": "54139eec",
=======
   "id": "ea9c42f4",
>>>>>>> documentation-devel
||||||| 4da3324
<<<<<<< HEAD
<<<<<<< HEAD
<<<<<<< HEAD
   "id": "364ff137",
||||||| 11b9cb7
   "id": "21d0edf4",
=======
   "id": "ebfc98e9",
>>>>>>> documentation-devel
||||||| 614e9b1
   "id": "ebfc98e9",
=======
   "id": "54139eec",
>>>>>>> documentation-devel
||||||| 856b4c0
<<<<<<< HEAD
   "id": "364ff137",
||||||| 11b9cb7
   "id": "21d0edf4",
=======
   "id": "ebfc98e9",
>>>>>>> documentation-devel
=======
   "id": "c8304fed",
>>>>>>> 552590ea8fad969b67afdba27558a1e6cb21016e
=======
   "id": "1df03f80",
>>>>>>> b6e07d13baac92b2c1c9b43f8e4113ffa87bf495
   "metadata": {},
   "outputs": [],
   "source": [
    "sfe_tissue <- runPCA(sfe_tissue, ncomponents = 30, subset_row = hvgs,\n",
    "                     scale = TRUE) # scale as in Seurat"
   ]
  },
  {
   "cell_type": "code",
   "execution_count": null,
<<<<<<< HEAD
<<<<<<< HEAD
<<<<<<< HEAD
<<<<<<< HEAD
<<<<<<< HEAD
   "id": "c4396f95",
||||||| 11b9cb7
   "id": "e4df05f9",
=======
   "id": "abd84c4b",
>>>>>>> documentation-devel
||||||| 614e9b1
   "id": "abd84c4b",
=======
   "id": "1b8c9731",
>>>>>>> documentation-devel
||||||| 856b4c0
<<<<<<< HEAD
   "id": "c4396f95",
||||||| 11b9cb7
   "id": "e4df05f9",
=======
   "id": "abd84c4b",
>>>>>>> documentation-devel
=======
   "id": "d1bac8db",
>>>>>>> 552590ea8fad969b67afdba27558a1e6cb21016e
||||||| 452c944
   "id": "1b8c9731",
=======
   "id": "79dca849",
>>>>>>> documentation-devel
||||||| 4da3324
<<<<<<< HEAD
<<<<<<< HEAD
<<<<<<< HEAD
   "id": "c4396f95",
||||||| 11b9cb7
   "id": "e4df05f9",
=======
   "id": "abd84c4b",
>>>>>>> documentation-devel
||||||| 614e9b1
   "id": "abd84c4b",
=======
   "id": "1b8c9731",
>>>>>>> documentation-devel
||||||| 856b4c0
<<<<<<< HEAD
   "id": "c4396f95",
||||||| 11b9cb7
   "id": "e4df05f9",
=======
   "id": "abd84c4b",
>>>>>>> documentation-devel
=======
   "id": "d1bac8db",
>>>>>>> 552590ea8fad969b67afdba27558a1e6cb21016e
=======
   "id": "d376612c",
>>>>>>> b6e07d13baac92b2c1c9b43f8e4113ffa87bf495
   "metadata": {},
   "outputs": [],
   "source": [
    "ElbowPlot(sfe_tissue, ndims = 30)"
   ]
  },
  {
   "cell_type": "code",
   "execution_count": null,
<<<<<<< HEAD
<<<<<<< HEAD
<<<<<<< HEAD
<<<<<<< HEAD
<<<<<<< HEAD
   "id": "0e607111",
||||||| 11b9cb7
   "id": "a6702489",
=======
   "id": "b25224ef",
>>>>>>> documentation-devel
||||||| 614e9b1
   "id": "b25224ef",
=======
   "id": "a9f42bae",
>>>>>>> documentation-devel
||||||| 856b4c0
<<<<<<< HEAD
   "id": "0e607111",
||||||| 11b9cb7
   "id": "a6702489",
=======
   "id": "b25224ef",
>>>>>>> documentation-devel
=======
   "id": "e4383d64",
>>>>>>> 552590ea8fad969b67afdba27558a1e6cb21016e
||||||| 452c944
   "id": "a9f42bae",
=======
   "id": "90b6602c",
>>>>>>> documentation-devel
||||||| 4da3324
<<<<<<< HEAD
<<<<<<< HEAD
<<<<<<< HEAD
   "id": "0e607111",
||||||| 11b9cb7
   "id": "a6702489",
=======
   "id": "b25224ef",
>>>>>>> documentation-devel
||||||| 614e9b1
   "id": "b25224ef",
=======
   "id": "a9f42bae",
>>>>>>> documentation-devel
||||||| 856b4c0
<<<<<<< HEAD
   "id": "0e607111",
||||||| 11b9cb7
   "id": "a6702489",
=======
   "id": "b25224ef",
>>>>>>> documentation-devel
=======
   "id": "e4383d64",
>>>>>>> 552590ea8fad969b67afdba27558a1e6cb21016e
=======
   "id": "1631bb79",
>>>>>>> b6e07d13baac92b2c1c9b43f8e4113ffa87bf495
   "metadata": {},
   "outputs": [],
   "source": [
    "plotDimLoadings(sfe_tissue, dims = 1:4, swap_rownames = \"symbol\")"
   ]
  },
  {
   "cell_type": "markdown",
<<<<<<< HEAD
<<<<<<< HEAD
<<<<<<< HEAD
<<<<<<< HEAD
<<<<<<< HEAD
   "id": "0f2bc078",
||||||| 11b9cb7
   "id": "d8725d88",
=======
   "id": "e2f8b1cd",
>>>>>>> documentation-devel
||||||| 614e9b1
   "id": "e2f8b1cd",
=======
   "id": "f1fc5965",
>>>>>>> documentation-devel
||||||| 856b4c0
<<<<<<< HEAD
   "id": "0f2bc078",
||||||| 11b9cb7
   "id": "d8725d88",
=======
   "id": "e2f8b1cd",
>>>>>>> documentation-devel
=======
   "id": "d783c29a",
>>>>>>> 552590ea8fad969b67afdba27558a1e6cb21016e
||||||| 452c944
   "id": "f1fc5965",
=======
   "id": "1fadaa26",
>>>>>>> documentation-devel
||||||| 4da3324
<<<<<<< HEAD
<<<<<<< HEAD
<<<<<<< HEAD
   "id": "0f2bc078",
||||||| 11b9cb7
   "id": "d8725d88",
=======
   "id": "e2f8b1cd",
>>>>>>> documentation-devel
||||||| 614e9b1
   "id": "e2f8b1cd",
=======
   "id": "f1fc5965",
>>>>>>> documentation-devel
||||||| 856b4c0
<<<<<<< HEAD
   "id": "0f2bc078",
||||||| 11b9cb7
   "id": "d8725d88",
=======
   "id": "e2f8b1cd",
>>>>>>> documentation-devel
=======
   "id": "d783c29a",
>>>>>>> 552590ea8fad969b67afdba27558a1e6cb21016e
=======
   "id": "1f6b9565",
>>>>>>> b6e07d13baac92b2c1c9b43f8e4113ffa87bf495
   "metadata": {
    "lines_to_next_cell": 0
   },
   "source": [
    "Do the clustering to show on the dimension reduction plots"
   ]
  },
  {
   "cell_type": "code",
   "execution_count": null,
<<<<<<< HEAD
<<<<<<< HEAD
<<<<<<< HEAD
<<<<<<< HEAD
<<<<<<< HEAD
   "id": "7a718ae7",
||||||| 11b9cb7
   "id": "45ad1543",
=======
   "id": "77b7d6f6",
>>>>>>> documentation-devel
||||||| 614e9b1
   "id": "77b7d6f6",
=======
   "id": "f2305070",
>>>>>>> documentation-devel
||||||| 856b4c0
<<<<<<< HEAD
   "id": "7a718ae7",
||||||| 11b9cb7
   "id": "45ad1543",
=======
   "id": "77b7d6f6",
>>>>>>> documentation-devel
=======
   "id": "cd26fb1c",
>>>>>>> 552590ea8fad969b67afdba27558a1e6cb21016e
||||||| 452c944
   "id": "f2305070",
=======
   "id": "ad7d76a3",
>>>>>>> documentation-devel
||||||| 4da3324
<<<<<<< HEAD
<<<<<<< HEAD
<<<<<<< HEAD
   "id": "7a718ae7",
||||||| 11b9cb7
   "id": "45ad1543",
=======
   "id": "77b7d6f6",
>>>>>>> documentation-devel
||||||| 614e9b1
   "id": "77b7d6f6",
=======
   "id": "f2305070",
>>>>>>> documentation-devel
||||||| 856b4c0
<<<<<<< HEAD
   "id": "7a718ae7",
||||||| 11b9cb7
   "id": "45ad1543",
=======
   "id": "77b7d6f6",
>>>>>>> documentation-devel
=======
   "id": "cd26fb1c",
>>>>>>> 552590ea8fad969b67afdba27558a1e6cb21016e
=======
   "id": "4c9c5c98",
>>>>>>> b6e07d13baac92b2c1c9b43f8e4113ffa87bf495
   "metadata": {},
   "outputs": [],
   "source": [
    "colData(sfe_tissue)$cluster <- clusterRows(reducedDim(sfe_tissue, \"PCA\")[,1:3],\n",
    "                                           BLUSPARAM = SNNGraphParam(\n",
    "                                               cluster.fun = \"leiden\",\n",
    "                                               cluster.args = list(\n",
    "                                                   resolution_parameter = 0.5,\n",
    "                                                   objective_function = \"modularity\")))"
   ]
  },
  {
   "cell_type": "code",
   "execution_count": null,
<<<<<<< HEAD
<<<<<<< HEAD
<<<<<<< HEAD
<<<<<<< HEAD
<<<<<<< HEAD
   "id": "a81cebac",
||||||| 11b9cb7
   "id": "3345dea0",
=======
   "id": "2851b3c4",
>>>>>>> documentation-devel
||||||| 614e9b1
   "id": "2851b3c4",
=======
   "id": "3b496da0",
>>>>>>> documentation-devel
||||||| 856b4c0
<<<<<<< HEAD
   "id": "a81cebac",
||||||| 11b9cb7
   "id": "3345dea0",
=======
   "id": "2851b3c4",
>>>>>>> documentation-devel
=======
   "id": "8df0e705",
>>>>>>> 552590ea8fad969b67afdba27558a1e6cb21016e
||||||| 452c944
   "id": "3b496da0",
=======
   "id": "ee72b3d7",
>>>>>>> documentation-devel
||||||| 4da3324
<<<<<<< HEAD
<<<<<<< HEAD
<<<<<<< HEAD
   "id": "a81cebac",
||||||| 11b9cb7
   "id": "3345dea0",
=======
   "id": "2851b3c4",
>>>>>>> documentation-devel
||||||| 614e9b1
   "id": "2851b3c4",
=======
   "id": "3b496da0",
>>>>>>> documentation-devel
||||||| 856b4c0
<<<<<<< HEAD
   "id": "a81cebac",
||||||| 11b9cb7
   "id": "3345dea0",
=======
   "id": "2851b3c4",
>>>>>>> documentation-devel
=======
   "id": "8df0e705",
>>>>>>> 552590ea8fad969b67afdba27558a1e6cb21016e
=======
   "id": "efc5829f",
>>>>>>> b6e07d13baac92b2c1c9b43f8e4113ffa87bf495
   "metadata": {
    "fig.height": 6,
    "fig.width": 7
   },
   "outputs": [],
   "source": [
    "plotPCA(sfe_tissue, ncomponents = 3, colour_by = \"cluster\")"
   ]
  },
  {
   "cell_type": "markdown",
<<<<<<< HEAD
<<<<<<< HEAD
<<<<<<< HEAD
<<<<<<< HEAD
<<<<<<< HEAD
   "id": "ff29c7fd",
||||||| 11b9cb7
   "id": "0b906e3b",
=======
   "id": "0feebbc8",
>>>>>>> documentation-devel
||||||| 614e9b1
   "id": "0feebbc8",
=======
   "id": "f18cbc49",
>>>>>>> documentation-devel
||||||| 856b4c0
<<<<<<< HEAD
   "id": "ff29c7fd",
||||||| 11b9cb7
   "id": "0b906e3b",
=======
   "id": "0feebbc8",
>>>>>>> documentation-devel
=======
   "id": "a75a2c3d",
>>>>>>> 552590ea8fad969b67afdba27558a1e6cb21016e
||||||| 452c944
   "id": "f18cbc49",
=======
   "id": "ea28eed1",
>>>>>>> documentation-devel
||||||| 4da3324
<<<<<<< HEAD
<<<<<<< HEAD
<<<<<<< HEAD
   "id": "ff29c7fd",
||||||| 11b9cb7
   "id": "0b906e3b",
=======
   "id": "0feebbc8",
>>>>>>> documentation-devel
||||||| 614e9b1
   "id": "0feebbc8",
=======
   "id": "f18cbc49",
>>>>>>> documentation-devel
||||||| 856b4c0
<<<<<<< HEAD
   "id": "ff29c7fd",
||||||| 11b9cb7
   "id": "0b906e3b",
=======
   "id": "0feebbc8",
>>>>>>> documentation-devel
=======
   "id": "a75a2c3d",
>>>>>>> 552590ea8fad969b67afdba27558a1e6cb21016e
=======
   "id": "a099c6fa",
>>>>>>> b6e07d13baac92b2c1c9b43f8e4113ffa87bf495
   "metadata": {
    "lines_to_next_cell": 0
   },
   "source": [
    "The principal components (PCs) can be plotted in space. Due to spatial autocorrelation of many genes and spatial regions of different histological characters, even though spatial information is not used in the PCA procedure, the PCs may show spatial structure. "
   ]
  },
  {
   "cell_type": "code",
   "execution_count": null,
<<<<<<< HEAD
<<<<<<< HEAD
<<<<<<< HEAD
<<<<<<< HEAD
<<<<<<< HEAD
   "id": "3d034ecc",
||||||| 11b9cb7
   "id": "c6352302",
=======
   "id": "da6c380f",
>>>>>>> documentation-devel
||||||| 614e9b1
   "id": "da6c380f",
=======
   "id": "65bf9d2b",
>>>>>>> documentation-devel
||||||| 856b4c0
<<<<<<< HEAD
   "id": "3d034ecc",
||||||| 11b9cb7
   "id": "c6352302",
=======
   "id": "da6c380f",
>>>>>>> documentation-devel
=======
   "id": "f7dbc726",
>>>>>>> 552590ea8fad969b67afdba27558a1e6cb21016e
||||||| 452c944
   "id": "65bf9d2b",
=======
   "id": "c7c88c6b",
>>>>>>> documentation-devel
||||||| 4da3324
<<<<<<< HEAD
<<<<<<< HEAD
<<<<<<< HEAD
   "id": "3d034ecc",
||||||| 11b9cb7
   "id": "c6352302",
=======
   "id": "da6c380f",
>>>>>>> documentation-devel
||||||| 614e9b1
   "id": "da6c380f",
=======
   "id": "65bf9d2b",
>>>>>>> documentation-devel
||||||| 856b4c0
<<<<<<< HEAD
   "id": "3d034ecc",
||||||| 11b9cb7
   "id": "c6352302",
=======
   "id": "da6c380f",
>>>>>>> documentation-devel
=======
   "id": "f7dbc726",
>>>>>>> 552590ea8fad969b67afdba27558a1e6cb21016e
=======
   "id": "a6db0a31",
>>>>>>> b6e07d13baac92b2c1c9b43f8e4113ffa87bf495
   "metadata": {
    "fig.height": 8,
    "fig.width": 6
   },
   "outputs": [],
   "source": [
    "spatialReducedDim(sfe_tissue, \"PCA\", ncomponents = 4, \n",
    "                  colGeometryName = \"spotPoly\", divergent = TRUE, \n",
    "                  diverge_center = 0, image = \"lowres\", maxcell = 5e4)"
   ]
  },
  {
   "cell_type": "markdown",
<<<<<<< HEAD
<<<<<<< HEAD
<<<<<<< HEAD
<<<<<<< HEAD
<<<<<<< HEAD
   "id": "efaf78f5",
||||||| 11b9cb7
   "id": "97c86345",
=======
   "id": "bf589d02",
>>>>>>> documentation-devel
||||||| 614e9b1
   "id": "bf589d02",
=======
   "id": "c2b9cbda",
>>>>>>> documentation-devel
||||||| 856b4c0
<<<<<<< HEAD
   "id": "efaf78f5",
||||||| 11b9cb7
   "id": "97c86345",
=======
   "id": "bf589d02",
>>>>>>> documentation-devel
=======
   "id": "0f48a6c9",
>>>>>>> 552590ea8fad969b67afdba27558a1e6cb21016e
||||||| 452c944
   "id": "c2b9cbda",
=======
   "id": "9250449b",
>>>>>>> documentation-devel
||||||| 4da3324
<<<<<<< HEAD
<<<<<<< HEAD
<<<<<<< HEAD
   "id": "efaf78f5",
||||||| 11b9cb7
   "id": "97c86345",
=======
   "id": "bf589d02",
>>>>>>> documentation-devel
||||||| 614e9b1
   "id": "bf589d02",
=======
   "id": "c2b9cbda",
>>>>>>> documentation-devel
||||||| 856b4c0
<<<<<<< HEAD
   "id": "efaf78f5",
||||||| 11b9cb7
   "id": "97c86345",
=======
   "id": "bf589d02",
>>>>>>> documentation-devel
=======
   "id": "0f48a6c9",
>>>>>>> 552590ea8fad969b67afdba27558a1e6cb21016e
=======
   "id": "169c1bef",
>>>>>>> b6e07d13baac92b2c1c9b43f8e4113ffa87bf495
   "metadata": {
    "lines_to_next_cell": 0
   },
   "source": [
    "PC1, which explains far more variance than PC2, separates the injury site leukocytes and myofibers close to the site from the Visium myofibers. PC2 highlights the center of the injury site and some myofibers near the edge. PC3 highlights the muscle tendon junctions. PC4 does not seem to be informative; it might have picked up an outlier.\n",
    "\n",
    "It is also possible to run UMAP following the PCA, as is done for scRNA-seq. We do not recommend producing a UMAP since the procedure distorts distances, and does not respect either local or global structure in the data [@Chari2021-hb]. However, for completeness, we show how to compute a UMAP below:"
   ]
  },
  {
   "cell_type": "code",
   "execution_count": null,
<<<<<<< HEAD
<<<<<<< HEAD
<<<<<<< HEAD
<<<<<<< HEAD
<<<<<<< HEAD
   "id": "60153e91",
||||||| 11b9cb7
   "id": "9c120fe7",
=======
   "id": "025e50f3",
>>>>>>> documentation-devel
||||||| 614e9b1
   "id": "025e50f3",
=======
   "id": "351bc6de",
>>>>>>> documentation-devel
||||||| 856b4c0
<<<<<<< HEAD
   "id": "60153e91",
||||||| 11b9cb7
   "id": "9c120fe7",
=======
   "id": "025e50f3",
>>>>>>> documentation-devel
=======
   "id": "180c419b",
>>>>>>> 552590ea8fad969b67afdba27558a1e6cb21016e
||||||| 452c944
   "id": "351bc6de",
=======
   "id": "d1c3e2da",
>>>>>>> documentation-devel
||||||| 4da3324
<<<<<<< HEAD
<<<<<<< HEAD
<<<<<<< HEAD
   "id": "60153e91",
||||||| 11b9cb7
   "id": "9c120fe7",
=======
   "id": "025e50f3",
>>>>>>> documentation-devel
||||||| 614e9b1
   "id": "025e50f3",
=======
   "id": "351bc6de",
>>>>>>> documentation-devel
||||||| 856b4c0
<<<<<<< HEAD
   "id": "60153e91",
||||||| 11b9cb7
   "id": "9c120fe7",
=======
   "id": "025e50f3",
>>>>>>> documentation-devel
=======
   "id": "180c419b",
>>>>>>> 552590ea8fad969b67afdba27558a1e6cb21016e
=======
   "id": "e4c48a2e",
>>>>>>> b6e07d13baac92b2c1c9b43f8e4113ffa87bf495
   "metadata": {},
   "outputs": [],
   "source": [
    "set.seed(29)\n",
    "sfe_tissue <- runUMAP(sfe_tissue, dimred = \"PCA\", n_dimred = 3)"
   ]
  },
  {
   "cell_type": "code",
   "execution_count": null,
<<<<<<< HEAD
<<<<<<< HEAD
<<<<<<< HEAD
<<<<<<< HEAD
<<<<<<< HEAD
   "id": "716ad80c",
||||||| 11b9cb7
   "id": "a52d16ce",
=======
   "id": "9658329f",
>>>>>>> documentation-devel
||||||| 614e9b1
   "id": "9658329f",
=======
   "id": "a2d612c9",
>>>>>>> documentation-devel
||||||| 856b4c0
<<<<<<< HEAD
   "id": "716ad80c",
||||||| 11b9cb7
   "id": "a52d16ce",
=======
   "id": "9658329f",
>>>>>>> documentation-devel
=======
   "id": "3903e9d0",
>>>>>>> 552590ea8fad969b67afdba27558a1e6cb21016e
||||||| 452c944
   "id": "a2d612c9",
=======
   "id": "2709c890",
>>>>>>> documentation-devel
||||||| 4da3324
<<<<<<< HEAD
<<<<<<< HEAD
<<<<<<< HEAD
   "id": "716ad80c",
||||||| 11b9cb7
   "id": "a52d16ce",
=======
   "id": "9658329f",
>>>>>>> documentation-devel
||||||| 614e9b1
   "id": "9658329f",
=======
   "id": "a2d612c9",
>>>>>>> documentation-devel
||||||| 856b4c0
<<<<<<< HEAD
   "id": "716ad80c",
||||||| 11b9cb7
   "id": "a52d16ce",
=======
   "id": "9658329f",
>>>>>>> documentation-devel
=======
   "id": "3903e9d0",
>>>>>>> 552590ea8fad969b67afdba27558a1e6cb21016e
=======
   "id": "00734268",
>>>>>>> b6e07d13baac92b2c1c9b43f8e4113ffa87bf495
   "metadata": {},
   "outputs": [],
   "source": [
    "plotUMAP(sfe_tissue, colour_by = \"cluster\")"
   ]
  },
  {
   "cell_type": "markdown",
<<<<<<< HEAD
<<<<<<< HEAD
<<<<<<< HEAD
<<<<<<< HEAD
<<<<<<< HEAD
   "id": "3d8a7fd9",
||||||| 11b9cb7
   "id": "a8d23c5d",
=======
   "id": "b6ea4d5f",
>>>>>>> documentation-devel
||||||| 614e9b1
   "id": "b6ea4d5f",
=======
   "id": "fc9cbfc9",
>>>>>>> documentation-devel
||||||| 856b4c0
<<<<<<< HEAD
   "id": "3d8a7fd9",
||||||| 11b9cb7
   "id": "a8d23c5d",
=======
   "id": "b6ea4d5f",
>>>>>>> documentation-devel
=======
   "id": "06e70877",
>>>>>>> 552590ea8fad969b67afdba27558a1e6cb21016e
||||||| 452c944
   "id": "fc9cbfc9",
=======
   "id": "51185907",
>>>>>>> documentation-devel
||||||| 4da3324
<<<<<<< HEAD
<<<<<<< HEAD
<<<<<<< HEAD
   "id": "3d8a7fd9",
||||||| 11b9cb7
   "id": "a8d23c5d",
=======
   "id": "b6ea4d5f",
>>>>>>> documentation-devel
||||||| 614e9b1
   "id": "b6ea4d5f",
=======
   "id": "fc9cbfc9",
>>>>>>> documentation-devel
||||||| 856b4c0
<<<<<<< HEAD
   "id": "3d8a7fd9",
||||||| 11b9cb7
   "id": "a8d23c5d",
=======
   "id": "b6ea4d5f",
>>>>>>> documentation-devel
=======
   "id": "06e70877",
>>>>>>> 552590ea8fad969b67afdba27558a1e6cb21016e
=======
   "id": "d542c04f",
>>>>>>> b6e07d13baac92b2c1c9b43f8e4113ffa87bf495
   "metadata": {},
   "source": [
    "UMAP is often used to visualize clusters. An alternative to UMAP is [`concordex`](https://bioconductor.org/packages/devel/bioc/html/concordexR.html), which quantitatively shows the proportion of neighbors on the k nearest neighbor graph with the same cluster label. To be consistent with the default in igraph Leiden clustering, we use k = 10."
   ]
  },
  {
   "cell_type": "code",
   "execution_count": null,
<<<<<<< HEAD
<<<<<<< HEAD
<<<<<<< HEAD
<<<<<<< HEAD
<<<<<<< HEAD
   "id": "13a60d2c",
||||||| 11b9cb7
   "id": "bc7d43da",
=======
   "id": "0181fc84",
>>>>>>> documentation-devel
||||||| 614e9b1
   "id": "0181fc84",
=======
   "id": "4949d074",
>>>>>>> documentation-devel
||||||| 856b4c0
<<<<<<< HEAD
   "id": "13a60d2c",
||||||| 11b9cb7
   "id": "bc7d43da",
=======
   "id": "0181fc84",
>>>>>>> documentation-devel
=======
   "id": "0bd4a0c5",
>>>>>>> 552590ea8fad969b67afdba27558a1e6cb21016e
||||||| 452c944
   "id": "4949d074",
=======
   "id": "24bad9ce",
>>>>>>> documentation-devel
||||||| 4da3324
<<<<<<< HEAD
<<<<<<< HEAD
<<<<<<< HEAD
   "id": "13a60d2c",
||||||| 11b9cb7
   "id": "bc7d43da",
=======
   "id": "0181fc84",
>>>>>>> documentation-devel
||||||| 614e9b1
   "id": "0181fc84",
=======
   "id": "4949d074",
>>>>>>> documentation-devel
||||||| 856b4c0
<<<<<<< HEAD
   "id": "13a60d2c",
||||||| 11b9cb7
   "id": "bc7d43da",
=======
   "id": "0181fc84",
>>>>>>> documentation-devel
=======
   "id": "0bd4a0c5",
>>>>>>> 552590ea8fad969b67afdba27558a1e6cb21016e
=======
   "id": "beea147b",
>>>>>>> b6e07d13baac92b2c1c9b43f8e4113ffa87bf495
   "metadata": {},
   "outputs": [],
   "source": [
    "g <- findKNN(reducedDim(sfe_tissue, \"PCA\")[,1:3], k = 10)\n",
    "res <- calculateConcordex(g$index, labels = sfe_tissue$cluster, k = 10, \n",
    "                          return.map = TRUE)"
   ]
  },
  {
   "cell_type": "markdown",
<<<<<<< HEAD
<<<<<<< HEAD
<<<<<<< HEAD
<<<<<<< HEAD
<<<<<<< HEAD
   "id": "18d88ccf",
||||||| 11b9cb7
   "id": "14a96693",
=======
   "id": "7b345e16",
>>>>>>> documentation-devel
||||||| 614e9b1
   "id": "7b345e16",
=======
   "id": "f2f1c766",
>>>>>>> documentation-devel
||||||| 856b4c0
<<<<<<< HEAD
   "id": "18d88ccf",
||||||| 11b9cb7
   "id": "14a96693",
=======
   "id": "7b345e16",
>>>>>>> documentation-devel
=======
   "id": "066b56ab",
>>>>>>> 552590ea8fad969b67afdba27558a1e6cb21016e
||||||| 452c944
   "id": "f2f1c766",
=======
   "id": "ee6b12ac",
>>>>>>> documentation-devel
||||||| 4da3324
<<<<<<< HEAD
<<<<<<< HEAD
<<<<<<< HEAD
   "id": "18d88ccf",
||||||| 11b9cb7
   "id": "14a96693",
=======
   "id": "7b345e16",
>>>>>>> documentation-devel
||||||| 614e9b1
   "id": "7b345e16",
=======
   "id": "f2f1c766",
>>>>>>> documentation-devel
||||||| 856b4c0
<<<<<<< HEAD
   "id": "18d88ccf",
||||||| 11b9cb7
   "id": "14a96693",
=======
   "id": "7b345e16",
>>>>>>> documentation-devel
=======
   "id": "066b56ab",
>>>>>>> 552590ea8fad969b67afdba27558a1e6cb21016e
=======
   "id": "57888032",
>>>>>>> b6e07d13baac92b2c1c9b43f8e4113ffa87bf495
   "metadata": {
    "lines_to_next_cell": 0
   },
   "source": [
    "The cluster labels are permuted to estimate a null distribution, and the observed values can be compared to the simulated values:"
   ]
  },
  {
   "cell_type": "code",
   "execution_count": null,
<<<<<<< HEAD
<<<<<<< HEAD
<<<<<<< HEAD
<<<<<<< HEAD
<<<<<<< HEAD
   "id": "bd63eedd",
||||||| 11b9cb7
   "id": "9aa9d078",
=======
   "id": "363b9b9c",
>>>>>>> documentation-devel
||||||| 614e9b1
   "id": "363b9b9c",
=======
   "id": "09d998a1",
>>>>>>> documentation-devel
||||||| 856b4c0
<<<<<<< HEAD
   "id": "bd63eedd",
||||||| 11b9cb7
   "id": "9aa9d078",
=======
   "id": "363b9b9c",
>>>>>>> documentation-devel
=======
   "id": "5b3c257d",
>>>>>>> 552590ea8fad969b67afdba27558a1e6cb21016e
||||||| 452c944
   "id": "09d998a1",
=======
   "id": "8358571e",
>>>>>>> documentation-devel
||||||| 4da3324
<<<<<<< HEAD
<<<<<<< HEAD
<<<<<<< HEAD
   "id": "bd63eedd",
||||||| 11b9cb7
   "id": "9aa9d078",
=======
   "id": "363b9b9c",
>>>>>>> documentation-devel
||||||| 614e9b1
   "id": "363b9b9c",
=======
   "id": "09d998a1",
>>>>>>> documentation-devel
||||||| 856b4c0
<<<<<<< HEAD
   "id": "bd63eedd",
||||||| 11b9cb7
   "id": "9aa9d078",
=======
   "id": "363b9b9c",
>>>>>>> documentation-devel
=======
   "id": "5b3c257d",
>>>>>>> 552590ea8fad969b67afdba27558a1e6cb21016e
=======
   "id": "d3d77e7c",
>>>>>>> b6e07d13baac92b2c1c9b43f8e4113ffa87bf495
   "metadata": {},
   "outputs": [],
   "source": [
    "plotConcordexSim(res)"
   ]
  },
  {
   "cell_type": "markdown",
<<<<<<< HEAD
<<<<<<< HEAD
<<<<<<< HEAD
<<<<<<< HEAD
<<<<<<< HEAD
   "id": "a85d3aa5",
||||||| 11b9cb7
   "id": "24cb680f",
=======
   "id": "153f23b7",
>>>>>>> documentation-devel
||||||| 614e9b1
   "id": "153f23b7",
=======
   "id": "0fbe71a7",
>>>>>>> documentation-devel
||||||| 856b4c0
<<<<<<< HEAD
   "id": "a85d3aa5",
||||||| 11b9cb7
   "id": "24cb680f",
=======
   "id": "153f23b7",
>>>>>>> documentation-devel
=======
   "id": "a31853dd",
>>>>>>> 552590ea8fad969b67afdba27558a1e6cb21016e
||||||| 452c944
   "id": "0fbe71a7",
=======
   "id": "b3cf778b",
>>>>>>> documentation-devel
||||||| 4da3324
<<<<<<< HEAD
<<<<<<< HEAD
<<<<<<< HEAD
   "id": "a85d3aa5",
||||||| 11b9cb7
   "id": "24cb680f",
=======
   "id": "153f23b7",
>>>>>>> documentation-devel
||||||| 614e9b1
   "id": "153f23b7",
=======
   "id": "0fbe71a7",
>>>>>>> documentation-devel
||||||| 856b4c0
<<<<<<< HEAD
   "id": "a85d3aa5",
||||||| 11b9cb7
   "id": "24cb680f",
=======
   "id": "153f23b7",
>>>>>>> documentation-devel
=======
   "id": "a31853dd",
>>>>>>> 552590ea8fad969b67afdba27558a1e6cb21016e
=======
   "id": "8bcb4f49",
>>>>>>> b6e07d13baac92b2c1c9b43f8e4113ffa87bf495
   "metadata": {
    "lines_to_next_cell": 0
   },
   "source": [
    "The observed value is much higher than in the simulated values, indicating good clustering. The single number is the average of all clusters. Values for different clusters can be plotted in a heatmap:"
   ]
  },
  {
   "cell_type": "code",
   "execution_count": null,
<<<<<<< HEAD
<<<<<<< HEAD
<<<<<<< HEAD
<<<<<<< HEAD
<<<<<<< HEAD
   "id": "551b26a0",
||||||| 11b9cb7
   "id": "bde70d64",
=======
   "id": "bf0a5b99",
>>>>>>> documentation-devel
||||||| 614e9b1
   "id": "bf0a5b99",
=======
   "id": "cda96e72",
>>>>>>> documentation-devel
||||||| 856b4c0
<<<<<<< HEAD
   "id": "551b26a0",
||||||| 11b9cb7
   "id": "bde70d64",
=======
   "id": "bf0a5b99",
>>>>>>> documentation-devel
=======
   "id": "33a3259a",
>>>>>>> 552590ea8fad969b67afdba27558a1e6cb21016e
||||||| 452c944
   "id": "cda96e72",
=======
   "id": "bdf9eb69",
>>>>>>> documentation-devel
||||||| 4da3324
<<<<<<< HEAD
<<<<<<< HEAD
<<<<<<< HEAD
   "id": "551b26a0",
||||||| 11b9cb7
   "id": "bde70d64",
=======
   "id": "bf0a5b99",
>>>>>>> documentation-devel
||||||| 614e9b1
   "id": "bf0a5b99",
=======
   "id": "cda96e72",
>>>>>>> documentation-devel
||||||| 856b4c0
<<<<<<< HEAD
   "id": "551b26a0",
||||||| 11b9cb7
   "id": "bde70d64",
=======
   "id": "bf0a5b99",
>>>>>>> documentation-devel
=======
   "id": "33a3259a",
>>>>>>> 552590ea8fad969b67afdba27558a1e6cb21016e
=======
   "id": "c2bc228a",
>>>>>>> b6e07d13baac92b2c1c9b43f8e4113ffa87bf495
   "metadata": {
    "fig.height": 4,
    "fig.width": 5
   },
   "outputs": [],
   "source": [
    "heatConcordex(res, angle_col = 0, cluster_rows = FALSE, cluster_cols = FALSE)"
   ]
  },
  {
   "cell_type": "markdown",
<<<<<<< HEAD
<<<<<<< HEAD
<<<<<<< HEAD
<<<<<<< HEAD
<<<<<<< HEAD
   "id": "547a0f37",
||||||| 11b9cb7
   "id": "30c8fdb6",
=======
   "id": "4c4800e1",
>>>>>>> documentation-devel
||||||| 614e9b1
   "id": "4c4800e1",
=======
   "id": "03ca9981",
>>>>>>> documentation-devel
||||||| 856b4c0
<<<<<<< HEAD
   "id": "547a0f37",
||||||| 11b9cb7
   "id": "30c8fdb6",
=======
   "id": "4c4800e1",
>>>>>>> documentation-devel
=======
   "id": "718b1938",
>>>>>>> 552590ea8fad969b67afdba27558a1e6cb21016e
||||||| 452c944
   "id": "03ca9981",
=======
   "id": "7984821d",
>>>>>>> documentation-devel
||||||| 4da3324
<<<<<<< HEAD
<<<<<<< HEAD
<<<<<<< HEAD
   "id": "547a0f37",
||||||| 11b9cb7
   "id": "30c8fdb6",
=======
   "id": "4c4800e1",
>>>>>>> documentation-devel
||||||| 614e9b1
   "id": "4c4800e1",
=======
   "id": "03ca9981",
>>>>>>> documentation-devel
||||||| 856b4c0
<<<<<<< HEAD
   "id": "547a0f37",
||||||| 11b9cb7
   "id": "30c8fdb6",
=======
   "id": "4c4800e1",
>>>>>>> documentation-devel
=======
   "id": "718b1938",
>>>>>>> 552590ea8fad969b67afdba27558a1e6cb21016e
=======
   "id": "e99a3866",
>>>>>>> b6e07d13baac92b2c1c9b43f8e4113ffa87bf495
   "metadata": {
    "lines_to_next_cell": 0
   },
   "source": [
    "The diagonal represents the proportion of neighbors of cells from each cluster that are from the same cluster. That the off diagonal entries are very low indicate good clustering.\n",
    "\n",
    "More interesting in spatial transcriptomics, is to locate the clusters in space, and this can be done as follows:"
   ]
  },
  {
   "cell_type": "code",
   "execution_count": null,
<<<<<<< HEAD
<<<<<<< HEAD
<<<<<<< HEAD
<<<<<<< HEAD
<<<<<<< HEAD
   "id": "383176dd",
||||||| 11b9cb7
   "id": "e165af49",
=======
   "id": "38df188b",
>>>>>>> documentation-devel
||||||| 614e9b1
   "id": "38df188b",
=======
   "id": "ba42d189",
>>>>>>> documentation-devel
||||||| 856b4c0
<<<<<<< HEAD
   "id": "383176dd",
||||||| 11b9cb7
   "id": "e165af49",
=======
   "id": "38df188b",
>>>>>>> documentation-devel
=======
   "id": "51aa8ba8",
>>>>>>> 552590ea8fad969b67afdba27558a1e6cb21016e
||||||| 452c944
   "id": "ba42d189",
=======
   "id": "fd2ecdc6",
>>>>>>> documentation-devel
||||||| 4da3324
<<<<<<< HEAD
<<<<<<< HEAD
<<<<<<< HEAD
   "id": "383176dd",
||||||| 11b9cb7
   "id": "e165af49",
=======
   "id": "38df188b",
>>>>>>> documentation-devel
||||||| 614e9b1
   "id": "38df188b",
=======
   "id": "ba42d189",
>>>>>>> documentation-devel
||||||| 856b4c0
<<<<<<< HEAD
   "id": "383176dd",
||||||| 11b9cb7
   "id": "e165af49",
=======
   "id": "38df188b",
>>>>>>> documentation-devel
=======
   "id": "51aa8ba8",
>>>>>>> 552590ea8fad969b67afdba27558a1e6cb21016e
=======
   "id": "f00044a7",
>>>>>>> b6e07d13baac92b2c1c9b43f8e4113ffa87bf495
   "metadata": {},
   "outputs": [],
   "source": [
    "plotSpatialFeature(sfe_tissue, \"cluster\", colGeometryName = \"spotPoly\",\n",
    "                   image = \"lowres\")"
   ]
  },
  {
   "cell_type": "markdown",
<<<<<<< HEAD
<<<<<<< HEAD
<<<<<<< HEAD
<<<<<<< HEAD
<<<<<<< HEAD
   "id": "776f3bcd",
||||||| 11b9cb7
   "id": "a75c7db9",
=======
   "id": "409b1acf",
>>>>>>> documentation-devel
||||||| 614e9b1
   "id": "409b1acf",
=======
   "id": "8d7b2671",
>>>>>>> documentation-devel
||||||| 856b4c0
<<<<<<< HEAD
   "id": "776f3bcd",
||||||| 11b9cb7
   "id": "a75c7db9",
=======
   "id": "409b1acf",
>>>>>>> documentation-devel
=======
   "id": "a013f891",
>>>>>>> 552590ea8fad969b67afdba27558a1e6cb21016e
||||||| 452c944
   "id": "8d7b2671",
=======
   "id": "5cd09a5d",
>>>>>>> documentation-devel
||||||| 4da3324
<<<<<<< HEAD
<<<<<<< HEAD
<<<<<<< HEAD
   "id": "776f3bcd",
||||||| 11b9cb7
   "id": "a75c7db9",
=======
   "id": "409b1acf",
>>>>>>> documentation-devel
||||||| 614e9b1
   "id": "409b1acf",
=======
   "id": "8d7b2671",
>>>>>>> documentation-devel
||||||| 856b4c0
<<<<<<< HEAD
   "id": "776f3bcd",
||||||| 11b9cb7
   "id": "a75c7db9",
=======
   "id": "409b1acf",
>>>>>>> documentation-devel
=======
   "id": "a013f891",
>>>>>>> 552590ea8fad969b67afdba27558a1e6cb21016e
=======
   "id": "a9608d69",
>>>>>>> b6e07d13baac92b2c1c9b43f8e4113ffa87bf495
   "metadata": {
    "lines_to_next_cell": 0
   },
   "source": [
    "While spatial information is not explicitly used in clustering, due to spatial autocorrelation of gene expression and the histological regions, some of these clusters are spatially contiguous. There are many methods to find spatially informed clusters, such as [`BayesSpace`](https://bioconductor.org/packages/release/bioc/html/BayesSpace.html) [@Zhao2021-vb], which is on Bioconductor.\n",
    "\n",
    "Remark on spatial regions: In geographical space, there is usually no one single way to define spatial regions. For example, influenced by both sociology and geology, LA county can be partitioned into regions such as Eastside, Westside, South Central, San Fernado Valley, San Gabriel Valley, Pomona Valley, Gateway Cities, South Bay, and etc., each containing multiple smaller cities or parts of LA City, each of which can be further divided into many neighborhoods, such as Koreatown, Highland Park, Lincoln Heights, and etc. Definitions of some of these regions are subject to dispute. Meanwhile, LA county can also be partitioned into watersheds of the LA River, San Gabriel River, Ballona Creek, and etc., as well as different rock formations. Which kind of spatial region at which resolution is relevant depends on the question being asked. There are also gray areas in spatial regions. For example, the Whittier Narrows dam intercepts both the San Gabriel River and Rio Hondo (a large tributary of the LA River), so whether the dam area belongs to the watershed of San Gabriel River or LA River is unclear. \n",
    "\n",
    "Similarly, in spatial transcriptomics, while methods identifying spatial regions currently generally only aim to give one result, multiple results at different resolutions depending on the question asked may be relevant. Furthermore, methods for spatial region demarcation to be used for spatial -omics would ideally provide uncertainty assessments for assignment of cells or Visium spots. An existing geospatial method that accounts for such uncertainty is [`geocmeans`](https://cran.r-project.org/web/packages/geocmeans/) [@Zhao2013-tw], which is on CRAN.\n",
    "\n",
    "In both the geographical and histological space, there conflicting views on spatial variation. On the one hand, methods that identify spatially variable genes such as SpatialDE often assume that gene expression vary smoothly and continuously in space. On the other hand, methods identifying spatial regions attempt to identify discrete regions. The continuous variation in features might be why definitions of geographical neighborhoods are often subject to dispute. Some existing methods attempt to harmonize the two views. For example, the spatially variable gene method [`belayer`](https://github.com/raphael-group/belayer) [@Ma2022-dc] takes discrete tissue layers into account.\n",
    "\n",
    "# Non-spatial differential expression\n",
    "Cluster marker genes can be found using differential analysis methods as is commonly done for scRNA-seq. Below is an example with the Wilcoxon rank sum test:"
   ]
  },
  {
   "cell_type": "code",
   "execution_count": null,
<<<<<<< HEAD
<<<<<<< HEAD
<<<<<<< HEAD
<<<<<<< HEAD
<<<<<<< HEAD
   "id": "fd8cfabc",
||||||| 11b9cb7
   "id": "09ff96a1",
=======
   "id": "0dd5b476",
>>>>>>> documentation-devel
||||||| 614e9b1
   "id": "0dd5b476",
=======
   "id": "a58bc4d8",
>>>>>>> documentation-devel
||||||| 856b4c0
<<<<<<< HEAD
   "id": "fd8cfabc",
||||||| 11b9cb7
   "id": "09ff96a1",
=======
   "id": "0dd5b476",
>>>>>>> documentation-devel
=======
   "id": "c90b4b09",
>>>>>>> 552590ea8fad969b67afdba27558a1e6cb21016e
||||||| 452c944
   "id": "a58bc4d8",
=======
   "id": "ad70eb2a",
>>>>>>> documentation-devel
||||||| 4da3324
<<<<<<< HEAD
<<<<<<< HEAD
<<<<<<< HEAD
   "id": "fd8cfabc",
||||||| 11b9cb7
   "id": "09ff96a1",
=======
   "id": "0dd5b476",
>>>>>>> documentation-devel
||||||| 614e9b1
   "id": "0dd5b476",
=======
   "id": "a58bc4d8",
>>>>>>> documentation-devel
||||||| 856b4c0
<<<<<<< HEAD
   "id": "fd8cfabc",
||||||| 11b9cb7
   "id": "09ff96a1",
=======
   "id": "0dd5b476",
>>>>>>> documentation-devel
=======
   "id": "c90b4b09",
>>>>>>> 552590ea8fad969b67afdba27558a1e6cb21016e
=======
   "id": "20ab2f99",
>>>>>>> b6e07d13baac92b2c1c9b43f8e4113ffa87bf495
   "metadata": {},
   "outputs": [],
   "source": [
    "markers <- findMarkers(sfe_tissue, groups = colData(sfe_tissue)$cluster,\n",
    "                       test.type = \"wilcox\", pval.type = \"all\", direction = \"up\")"
   ]
  },
  {
   "cell_type": "markdown",
<<<<<<< HEAD
<<<<<<< HEAD
<<<<<<< HEAD
<<<<<<< HEAD
<<<<<<< HEAD
   "id": "c6aaa20d",
||||||| 11b9cb7
   "id": "729f55bb",
=======
   "id": "37b4d530",
>>>>>>> documentation-devel
||||||| 614e9b1
   "id": "37b4d530",
=======
   "id": "79db0382",
>>>>>>> documentation-devel
||||||| 856b4c0
<<<<<<< HEAD
   "id": "c6aaa20d",
||||||| 11b9cb7
   "id": "729f55bb",
=======
   "id": "37b4d530",
>>>>>>> documentation-devel
=======
   "id": "71400132",
>>>>>>> 552590ea8fad969b67afdba27558a1e6cb21016e
||||||| 452c944
   "id": "79db0382",
=======
   "id": "d7fb76d5",
>>>>>>> documentation-devel
||||||| 4da3324
<<<<<<< HEAD
<<<<<<< HEAD
<<<<<<< HEAD
   "id": "c6aaa20d",
||||||| 11b9cb7
   "id": "729f55bb",
=======
   "id": "37b4d530",
>>>>>>> documentation-devel
||||||| 614e9b1
   "id": "37b4d530",
=======
   "id": "79db0382",
>>>>>>> documentation-devel
||||||| 856b4c0
<<<<<<< HEAD
   "id": "c6aaa20d",
||||||| 11b9cb7
   "id": "729f55bb",
=======
   "id": "37b4d530",
>>>>>>> documentation-devel
=======
   "id": "71400132",
>>>>>>> 552590ea8fad969b67afdba27558a1e6cb21016e
=======
   "id": "9fe466a3",
>>>>>>> b6e07d13baac92b2c1c9b43f8e4113ffa87bf495
   "metadata": {
    "lines_to_next_cell": 0
   },
   "source": [
    "The result is sorted by p-values:"
   ]
  },
  {
   "cell_type": "code",
   "execution_count": null,
<<<<<<< HEAD
<<<<<<< HEAD
<<<<<<< HEAD
<<<<<<< HEAD
<<<<<<< HEAD
   "id": "a172404b",
||||||| 11b9cb7
   "id": "5004d458",
=======
   "id": "96aa9f32",
>>>>>>> documentation-devel
||||||| 614e9b1
   "id": "96aa9f32",
=======
   "id": "a26fa5ea",
>>>>>>> documentation-devel
||||||| 856b4c0
<<<<<<< HEAD
   "id": "a172404b",
||||||| 11b9cb7
   "id": "5004d458",
=======
   "id": "96aa9f32",
>>>>>>> documentation-devel
=======
   "id": "a3bf1afd",
>>>>>>> 552590ea8fad969b67afdba27558a1e6cb21016e
||||||| 452c944
   "id": "a26fa5ea",
=======
   "id": "252006e1",
>>>>>>> documentation-devel
||||||| 4da3324
<<<<<<< HEAD
<<<<<<< HEAD
<<<<<<< HEAD
   "id": "a172404b",
||||||| 11b9cb7
   "id": "5004d458",
=======
   "id": "96aa9f32",
>>>>>>> documentation-devel
||||||| 614e9b1
   "id": "96aa9f32",
=======
   "id": "a26fa5ea",
>>>>>>> documentation-devel
||||||| 856b4c0
<<<<<<< HEAD
   "id": "a172404b",
||||||| 11b9cb7
   "id": "5004d458",
=======
   "id": "96aa9f32",
>>>>>>> documentation-devel
=======
   "id": "a3bf1afd",
>>>>>>> 552590ea8fad969b67afdba27558a1e6cb21016e
=======
   "id": "6e95f009",
>>>>>>> b6e07d13baac92b2c1c9b43f8e4113ffa87bf495
   "metadata": {},
   "outputs": [],
   "source": [
    "markers[[1]]"
   ]
  },
  {
   "cell_type": "markdown",
<<<<<<< HEAD
<<<<<<< HEAD
<<<<<<< HEAD
<<<<<<< HEAD
<<<<<<< HEAD
   "id": "0e29d484",
||||||| 11b9cb7
   "id": "7aba26c6",
=======
   "id": "77873cc8",
>>>>>>> documentation-devel
||||||| 614e9b1
   "id": "77873cc8",
=======
   "id": "d471e283",
>>>>>>> documentation-devel
||||||| 856b4c0
<<<<<<< HEAD
   "id": "0e29d484",
||||||| 11b9cb7
   "id": "7aba26c6",
=======
   "id": "77873cc8",
>>>>>>> documentation-devel
=======
   "id": "77155a2b",
>>>>>>> 552590ea8fad969b67afdba27558a1e6cb21016e
||||||| 452c944
   "id": "d471e283",
=======
   "id": "fdc841b2",
>>>>>>> documentation-devel
||||||| 4da3324
<<<<<<< HEAD
<<<<<<< HEAD
<<<<<<< HEAD
   "id": "0e29d484",
||||||| 11b9cb7
   "id": "7aba26c6",
=======
   "id": "77873cc8",
>>>>>>> documentation-devel
||||||| 614e9b1
   "id": "77873cc8",
=======
   "id": "d471e283",
>>>>>>> documentation-devel
||||||| 856b4c0
<<<<<<< HEAD
   "id": "0e29d484",
||||||| 11b9cb7
   "id": "7aba26c6",
=======
   "id": "77873cc8",
>>>>>>> documentation-devel
=======
   "id": "77155a2b",
>>>>>>> 552590ea8fad969b67afdba27558a1e6cb21016e
=======
   "id": "6683be19",
>>>>>>> b6e07d13baac92b2c1c9b43f8e4113ffa87bf495
   "metadata": {
    "lines_to_next_cell": 0
   },
   "source": [
    "We can use the [gget enrichr](https://pachterlab.github.io/gget/enrichr.html) module from the [gget](https://pachterlab.github.io/gget/) package to perform a gene enrichment analysis. You can choose from >200 enrichment databases which are listed on the [Enrichr website](https://maayanlab.cloud/Enrichr/#libraries). Here, we are analyzing the top 20 genes for cluster 1 using the default ontology database [GO_Biological_Process_2021](http://geneontology.org/):"
   ]
  },
  {
   "cell_type": "code",
   "execution_count": null,
<<<<<<< HEAD
<<<<<<< HEAD
<<<<<<< HEAD
<<<<<<< HEAD
<<<<<<< HEAD
   "id": "b5cee5be",
||||||| 11b9cb7
   "id": "399a84f7",
=======
   "id": "184ad115",
>>>>>>> documentation-devel
||||||| 614e9b1
   "id": "184ad115",
=======
   "id": "45b28b8c",
>>>>>>> documentation-devel
||||||| 856b4c0
<<<<<<< HEAD
   "id": "b5cee5be",
||||||| 11b9cb7
   "id": "399a84f7",
=======
   "id": "184ad115",
>>>>>>> documentation-devel
=======
   "id": "818e66d3",
>>>>>>> 552590ea8fad969b67afdba27558a1e6cb21016e
||||||| 452c944
   "id": "45b28b8c",
=======
   "id": "dbed91bb",
>>>>>>> documentation-devel
||||||| 4da3324
<<<<<<< HEAD
<<<<<<< HEAD
<<<<<<< HEAD
   "id": "b5cee5be",
||||||| 11b9cb7
   "id": "399a84f7",
=======
   "id": "184ad115",
>>>>>>> documentation-devel
||||||| 614e9b1
   "id": "184ad115",
=======
   "id": "45b28b8c",
>>>>>>> documentation-devel
||||||| 856b4c0
<<<<<<< HEAD
   "id": "b5cee5be",
||||||| 11b9cb7
   "id": "399a84f7",
=======
   "id": "184ad115",
>>>>>>> documentation-devel
=======
   "id": "818e66d3",
>>>>>>> 552590ea8fad969b67afdba27558a1e6cb21016e
=======
   "id": "d7dc3f11",
>>>>>>> b6e07d13baac92b2c1c9b43f8e4113ffa87bf495
   "metadata": {},
   "outputs": [],
   "source": [
    "enrichr_genes <- rownames(markers[[1]])[1:20]\n",
    "gget_e <- gget$enrichr(enrichr_genes, ensembl=TRUE, database = \"ontology\")\n",
    "\n",
    "# Plot results of gene enrichment analysis\n",
    "# Count number of overlapping genes\n",
    "gget_e$overlapping_genes_count <- lapply(gget_e$overlapping_genes, length) |> as.numeric()\n",
    "# Only keep the top 10 results\n",
    "gget_e <- gget_e[1:10,]\n",
    "gget_e |>\n",
    "    ggplot() +\n",
    "    geom_bar(aes(\n",
    "        x = -log10(adj_p_val),\n",
    "        y = reorder(path_name, -adj_p_val)\n",
    "    ),\n",
    "    stat = \"identity\",\n",
    "  \tfill = \"lightgrey\",\n",
    "  \twidth = 0.5,\n",
    "    color = \"black\") +\n",
    "    geom_text(\n",
    "        aes(\n",
    "            y = path_name,\n",
    "            x = (-log10(adj_p_val)),\n",
    "            label = overlapping_genes_count\n",
    "        ),\n",
    "        nudge_x = 0.25,\n",
    "        show.legend = NA,\n",
    "        color = \"red\"\n",
    "    ) +\n",
    "  \tgeom_text(\n",
    "        aes(\n",
    "            y = Inf,\n",
    "            x = Inf,\n",
    "      \t\t\thjust = 1,\n",
    "      \t\t\tvjust = 1,\n",
    "            label = \"# of overlapping genes\"\n",
    "        ),\n",
    "        show.legend = NA,\n",
    "        size=4,\n",
    "        color = \"red\"\n",
    "    ) +\n",
    "    geom_vline(linetype = \"dashed\", linewidth = 0.5, xintercept = -log10(0.05)) +\n",
    "    ylab(\"Pathway name\") +\n",
    "    xlab(\"-log10(adjusted P value)\")"
   ]
  },
  {
   "cell_type": "markdown",
<<<<<<< HEAD
<<<<<<< HEAD
<<<<<<< HEAD
<<<<<<< HEAD
<<<<<<< HEAD
   "id": "f02a78fb",
||||||| 11b9cb7
   "id": "4720b861",
=======
   "id": "9d2c8940",
>>>>>>> documentation-devel
||||||| 614e9b1
   "id": "9d2c8940",
=======
   "id": "887fe720",
>>>>>>> documentation-devel
||||||| 856b4c0
<<<<<<< HEAD
   "id": "f02a78fb",
||||||| 11b9cb7
   "id": "4720b861",
=======
   "id": "9d2c8940",
>>>>>>> documentation-devel
=======
   "id": "21d248af",
>>>>>>> 552590ea8fad969b67afdba27558a1e6cb21016e
||||||| 452c944
   "id": "887fe720",
=======
   "id": "49e54922",
>>>>>>> documentation-devel
||||||| 4da3324
<<<<<<< HEAD
<<<<<<< HEAD
<<<<<<< HEAD
   "id": "f02a78fb",
||||||| 11b9cb7
   "id": "4720b861",
=======
   "id": "9d2c8940",
>>>>>>> documentation-devel
||||||| 614e9b1
   "id": "9d2c8940",
=======
   "id": "887fe720",
>>>>>>> documentation-devel
||||||| 856b4c0
<<<<<<< HEAD
   "id": "f02a78fb",
||||||| 11b9cb7
   "id": "4720b861",
=======
   "id": "9d2c8940",
>>>>>>> documentation-devel
=======
   "id": "21d248af",
>>>>>>> 552590ea8fad969b67afdba27558a1e6cb21016e
=======
   "id": "8c76f117",
>>>>>>> b6e07d13baac92b2c1c9b43f8e4113ffa87bf495
   "metadata": {
    "lines_to_next_cell": 0
   },
   "source": [
    "Significant markers for each cluster can be obtained as follows:"
   ]
  },
  {
   "cell_type": "code",
   "execution_count": null,
<<<<<<< HEAD
<<<<<<< HEAD
<<<<<<< HEAD
<<<<<<< HEAD
<<<<<<< HEAD
   "id": "70f8b7ae",
||||||| 11b9cb7
   "id": "98e529a5",
=======
   "id": "6148328f",
>>>>>>> documentation-devel
||||||| 614e9b1
   "id": "6148328f",
=======
   "id": "c7218673",
>>>>>>> documentation-devel
||||||| 856b4c0
<<<<<<< HEAD
   "id": "70f8b7ae",
||||||| 11b9cb7
   "id": "98e529a5",
=======
   "id": "6148328f",
>>>>>>> documentation-devel
=======
   "id": "226f4dc4",
>>>>>>> 552590ea8fad969b67afdba27558a1e6cb21016e
||||||| 452c944
   "id": "c7218673",
=======
   "id": "62c853ec",
>>>>>>> documentation-devel
||||||| 4da3324
<<<<<<< HEAD
<<<<<<< HEAD
<<<<<<< HEAD
   "id": "70f8b7ae",
||||||| 11b9cb7
   "id": "98e529a5",
=======
   "id": "6148328f",
>>>>>>> documentation-devel
||||||| 614e9b1
   "id": "6148328f",
=======
   "id": "c7218673",
>>>>>>> documentation-devel
||||||| 856b4c0
<<<<<<< HEAD
   "id": "70f8b7ae",
||||||| 11b9cb7
   "id": "98e529a5",
=======
   "id": "6148328f",
>>>>>>> documentation-devel
=======
   "id": "226f4dc4",
>>>>>>> 552590ea8fad969b67afdba27558a1e6cb21016e
=======
   "id": "3c7f9613",
>>>>>>> b6e07d13baac92b2c1c9b43f8e4113ffa87bf495
   "metadata": {},
   "outputs": [],
   "source": [
    "genes_use <- vapply(markers, function(x) rownames(x)[1], FUN.VALUE = character(1))\n",
    "plotExpression(sfe_tissue, rowData(sfe_tissue)[genes_use, \"symbol\"], x = \"cluster\",\n",
    "               colour_by = \"cluster\", swap_rownames = \"symbol\")"
   ]
  },
  {
   "cell_type": "markdown",
<<<<<<< HEAD
<<<<<<< HEAD
<<<<<<< HEAD
<<<<<<< HEAD
<<<<<<< HEAD
   "id": "59bd81c8",
||||||| 11b9cb7
   "id": "623f1a31",
=======
   "id": "5e503292",
>>>>>>> documentation-devel
||||||| 614e9b1
   "id": "5e503292",
=======
   "id": "cc98fdcf",
>>>>>>> documentation-devel
||||||| 856b4c0
<<<<<<< HEAD
   "id": "59bd81c8",
||||||| 11b9cb7
   "id": "623f1a31",
=======
   "id": "5e503292",
>>>>>>> documentation-devel
=======
   "id": "9b137303",
>>>>>>> 552590ea8fad969b67afdba27558a1e6cb21016e
||||||| 452c944
   "id": "cc98fdcf",
=======
   "id": "33bf2bc5",
>>>>>>> documentation-devel
||||||| 4da3324
<<<<<<< HEAD
<<<<<<< HEAD
<<<<<<< HEAD
   "id": "59bd81c8",
||||||| 11b9cb7
   "id": "623f1a31",
=======
   "id": "5e503292",
>>>>>>> documentation-devel
||||||| 614e9b1
   "id": "5e503292",
=======
   "id": "cc98fdcf",
>>>>>>> documentation-devel
||||||| 856b4c0
<<<<<<< HEAD
   "id": "59bd81c8",
||||||| 11b9cb7
   "id": "623f1a31",
=======
   "id": "5e503292",
>>>>>>> documentation-devel
=======
   "id": "9b137303",
>>>>>>> 552590ea8fad969b67afdba27558a1e6cb21016e
=======
   "id": "39976f59",
>>>>>>> b6e07d13baac92b2c1c9b43f8e4113ffa87bf495
   "metadata": {
    "lines_to_next_cell": 0
   },
   "source": [
    "We'll use the module [gget info](https://pachterlab.github.io/gget/info.html) to get additional information on these genes, such as their descriptions, synonyms, transcripts and more from a collection of reference databases including [Ensembl](https://ensembl.org/), [UniProt](https://www.uniprot.org/), and [NCBI](https://www.ncbi.nlm.nih.gov/). Here, we are showing their gene descriptions from [NCBI](https://www.ncbi.nlm.nih.gov/):"
   ]
  },
  {
   "cell_type": "code",
   "execution_count": null,
<<<<<<< HEAD
<<<<<<< HEAD
<<<<<<< HEAD
<<<<<<< HEAD
<<<<<<< HEAD
   "id": "58322570",
||||||| 11b9cb7
   "id": "4840e8db",
=======
   "id": "35ebea48",
>>>>>>> documentation-devel
||||||| 614e9b1
   "id": "35ebea48",
=======
   "id": "ff096159",
>>>>>>> documentation-devel
||||||| 856b4c0
<<<<<<< HEAD
   "id": "58322570",
||||||| 11b9cb7
   "id": "4840e8db",
=======
   "id": "35ebea48",
>>>>>>> documentation-devel
=======
   "id": "1a672a74",
>>>>>>> 552590ea8fad969b67afdba27558a1e6cb21016e
||||||| 452c944
   "id": "ff096159",
=======
   "id": "e4a7877b",
>>>>>>> documentation-devel
||||||| 4da3324
<<<<<<< HEAD
<<<<<<< HEAD
<<<<<<< HEAD
   "id": "58322570",
||||||| 11b9cb7
   "id": "4840e8db",
=======
   "id": "35ebea48",
>>>>>>> documentation-devel
||||||| 614e9b1
   "id": "35ebea48",
=======
   "id": "ff096159",
>>>>>>> documentation-devel
||||||| 856b4c0
<<<<<<< HEAD
   "id": "58322570",
||||||| 11b9cb7
   "id": "4840e8db",
=======
   "id": "35ebea48",
>>>>>>> documentation-devel
=======
   "id": "1a672a74",
>>>>>>> 552590ea8fad969b67afdba27558a1e6cb21016e
=======
   "id": "a4328f86",
>>>>>>> b6e07d13baac92b2c1c9b43f8e4113ffa87bf495
   "metadata": {},
   "outputs": [],
   "source": [
    "gget_info <- gget$info(genes_use)\n",
    "\n",
    "rownames(gget_info) <- gget_info$primary_gene_name\n",
    "select(gget_info, ncbi_description)"
   ]
  },
  {
   "cell_type": "markdown",
<<<<<<< HEAD
<<<<<<< HEAD
<<<<<<< HEAD
<<<<<<< HEAD
<<<<<<< HEAD
   "id": "2bf2595f",
||||||| 11b9cb7
   "id": "9ea11277",
=======
   "id": "9f81c61a",
>>>>>>> documentation-devel
||||||| 614e9b1
   "id": "9f81c61a",
=======
   "id": "b87568ac",
>>>>>>> documentation-devel
||||||| 856b4c0
<<<<<<< HEAD
   "id": "2bf2595f",
||||||| 11b9cb7
   "id": "9ea11277",
=======
   "id": "9f81c61a",
>>>>>>> documentation-devel
=======
   "id": "cf0130b9",
>>>>>>> 552590ea8fad969b67afdba27558a1e6cb21016e
||||||| 452c944
   "id": "b87568ac",
=======
   "id": "05a970b7",
>>>>>>> documentation-devel
||||||| 4da3324
<<<<<<< HEAD
<<<<<<< HEAD
<<<<<<< HEAD
   "id": "2bf2595f",
||||||| 11b9cb7
   "id": "9ea11277",
=======
   "id": "9f81c61a",
>>>>>>> documentation-devel
||||||| 614e9b1
   "id": "9f81c61a",
=======
   "id": "b87568ac",
>>>>>>> documentation-devel
||||||| 856b4c0
<<<<<<< HEAD
   "id": "2bf2595f",
||||||| 11b9cb7
   "id": "9ea11277",
=======
   "id": "9f81c61a",
>>>>>>> documentation-devel
=======
   "id": "cf0130b9",
>>>>>>> 552590ea8fad969b67afdba27558a1e6cb21016e
=======
   "id": "0140adeb",
>>>>>>> b6e07d13baac92b2c1c9b43f8e4113ffa87bf495
   "metadata": {
    "lines_to_next_cell": 0
   },
   "source": [
    "These genes are interesting to view in spatial context:"
   ]
  },
  {
   "cell_type": "code",
   "execution_count": null,
<<<<<<< HEAD
<<<<<<< HEAD
<<<<<<< HEAD
<<<<<<< HEAD
<<<<<<< HEAD
   "id": "d972bb03",
||||||| 11b9cb7
   "id": "6c12421d",
=======
   "id": "3ad4202b",
>>>>>>> documentation-devel
||||||| 614e9b1
   "id": "3ad4202b",
=======
   "id": "1cc8f9af",
>>>>>>> documentation-devel
||||||| 856b4c0
<<<<<<< HEAD
   "id": "d972bb03",
||||||| 11b9cb7
   "id": "6c12421d",
=======
   "id": "3ad4202b",
>>>>>>> documentation-devel
=======
   "id": "6257ea38",
>>>>>>> 552590ea8fad969b67afdba27558a1e6cb21016e
||||||| 452c944
   "id": "1cc8f9af",
=======
   "id": "44f885d9",
>>>>>>> documentation-devel
||||||| 4da3324
<<<<<<< HEAD
<<<<<<< HEAD
<<<<<<< HEAD
   "id": "d972bb03",
||||||| 11b9cb7
   "id": "6c12421d",
=======
   "id": "3ad4202b",
>>>>>>> documentation-devel
||||||| 614e9b1
   "id": "3ad4202b",
=======
   "id": "1cc8f9af",
>>>>>>> documentation-devel
||||||| 856b4c0
<<<<<<< HEAD
   "id": "d972bb03",
||||||| 11b9cb7
   "id": "6c12421d",
=======
   "id": "3ad4202b",
>>>>>>> documentation-devel
=======
   "id": "6257ea38",
>>>>>>> 552590ea8fad969b67afdba27558a1e6cb21016e
=======
   "id": "a2a7910f",
>>>>>>> b6e07d13baac92b2c1c9b43f8e4113ffa87bf495
   "metadata": {
    "fig.height": 7,
    "fig.width": 9
   },
   "outputs": [],
   "source": [
    "plotSpatialFeature(sfe_tissue, genes_use, colGeometryName = \"spotPoly\", ncol = 3,\n",
    "                   image = \"lowres\", maxcell = 5e4, swap_rownames = \"symbol\")"
   ]
  },
  {
   "cell_type": "markdown",
<<<<<<< HEAD
<<<<<<< HEAD
<<<<<<< HEAD
<<<<<<< HEAD
<<<<<<< HEAD
   "id": "e9129209",
||||||| 11b9cb7
   "id": "b5ba42c1",
=======
   "id": "f72b4b62",
>>>>>>> documentation-devel
||||||| 614e9b1
   "id": "f72b4b62",
=======
   "id": "c52eee5c",
>>>>>>> documentation-devel
||||||| 856b4c0
<<<<<<< HEAD
   "id": "e9129209",
||||||| 11b9cb7
   "id": "b5ba42c1",
=======
   "id": "f72b4b62",
>>>>>>> documentation-devel
=======
   "id": "7edb9e79",
>>>>>>> 552590ea8fad969b67afdba27558a1e6cb21016e
||||||| 452c944
   "id": "c52eee5c",
=======
   "id": "19963ccc",
>>>>>>> documentation-devel
||||||| 4da3324
<<<<<<< HEAD
<<<<<<< HEAD
<<<<<<< HEAD
   "id": "e9129209",
||||||| 11b9cb7
   "id": "b5ba42c1",
=======
   "id": "f72b4b62",
>>>>>>> documentation-devel
||||||| 614e9b1
   "id": "f72b4b62",
=======
   "id": "c52eee5c",
>>>>>>> documentation-devel
||||||| 856b4c0
<<<<<<< HEAD
   "id": "e9129209",
||||||| 11b9cb7
   "id": "b5ba42c1",
=======
   "id": "f72b4b62",
>>>>>>> documentation-devel
=======
   "id": "7edb9e79",
>>>>>>> 552590ea8fad969b67afdba27558a1e6cb21016e
=======
   "id": "a0ec9e1e",
>>>>>>> b6e07d13baac92b2c1c9b43f8e4113ffa87bf495
   "metadata": {
    "lines_to_next_cell": 0
   },
   "source": [
    "# Moran's I\n",
    "Tobler's first law of geography states that\n",
    "\n",
    "> Everything is related to everything else. But near things are more related than distant things.\n",
    "\n",
    "This observation motivates the examination of spatial autocorrelation. Positive spatial autocorrelation is evident when nearby things tend to be similar, such as that weather in Pasadena and downtown Los Angeles (as opposed to the weather in Pasadena and San Francisco). Negative spatial autocorrelation is evident when nearby things tend to be more dissimilar, like squares on a chessboard. Spatial autocorrelation can arise from an intrinsic process such as diffusion or communication by physical contact, or result from a covariate that has such an intrinsic process, or in areal data, when the areal units of observation are smaller than the scale of the spatial process.\n",
    "\n",
    "The most commonly used measure of spatial autocorrelation is Moran's I [@Moran1950-aq], defined as\n",
    "\n",
    "$$\n",
    "I = \\frac{n}{\\sum_{i=1}^n \\sum_{j=1}^n w_{ij}} \\frac{\\sum_{i=1}^n \\sum_{j=1}^n w_{ij} (x_i - \\bar{x})(x_j - \\bar{x})}{\\sum_{i=1}^n (x_i - \\bar{x})^2},\n",
    "$$\n",
    "\n",
    "where $n$ is the number of spots or locations, $i$ and $j$ are different locations, or spots in the Visium context, $x$ is a variable with values at each location, and $w_{ij}$ is a spatial weight, which can be inversely proportional to distance between spots or an indicator of whether two spots are neighbors, subject to various definitions of neighborhood and whether to normalize the number of neighbors. The [`spdep`](https://r-spatial.github.io/spdep/index.html) package uses the neighborhood.\n",
    "\n",
    "Moran's I is similar to the Pearson correlation between the value at each location and the average value at its neighbors (but not identical, see [@Lee2001-tm]). Just like Pearson correlation, Moran's I is generally bound between -1 and 1, where positive value indicates positive spatial autocorrelation and negative value indicates negative spatial autocorrelation. \n",
    "Spatial dependence analysis in `spdep` requires a spatial neighborhood graph. The graph for adjacent Visium spot can be found with"
   ]
  },
  {
   "cell_type": "code",
   "execution_count": null,
<<<<<<< HEAD
<<<<<<< HEAD
<<<<<<< HEAD
<<<<<<< HEAD
<<<<<<< HEAD
   "id": "74eeddb5",
||||||| 11b9cb7
   "id": "64d577fc",
=======
   "id": "27ecd622",
>>>>>>> documentation-devel
||||||| 614e9b1
   "id": "27ecd622",
=======
   "id": "cf6aa2d2",
>>>>>>> documentation-devel
||||||| 856b4c0
<<<<<<< HEAD
   "id": "74eeddb5",
||||||| 11b9cb7
   "id": "64d577fc",
=======
   "id": "27ecd622",
>>>>>>> documentation-devel
=======
   "id": "9d5a9c43",
>>>>>>> 552590ea8fad969b67afdba27558a1e6cb21016e
||||||| 452c944
   "id": "cf6aa2d2",
=======
   "id": "c2e6016f",
>>>>>>> documentation-devel
||||||| 4da3324
<<<<<<< HEAD
<<<<<<< HEAD
<<<<<<< HEAD
   "id": "74eeddb5",
||||||| 11b9cb7
   "id": "64d577fc",
=======
   "id": "27ecd622",
>>>>>>> documentation-devel
||||||| 614e9b1
   "id": "27ecd622",
=======
   "id": "cf6aa2d2",
>>>>>>> documentation-devel
||||||| 856b4c0
<<<<<<< HEAD
   "id": "74eeddb5",
||||||| 11b9cb7
   "id": "64d577fc",
=======
   "id": "27ecd622",
>>>>>>> documentation-devel
=======
   "id": "9d5a9c43",
>>>>>>> 552590ea8fad969b67afdba27558a1e6cb21016e
=======
   "id": "6b824f9f",
>>>>>>> b6e07d13baac92b2c1c9b43f8e4113ffa87bf495
   "metadata": {},
   "outputs": [],
   "source": [
    "colGraph(sfe_tissue, \"visium\") <- findVisiumGraph(sfe_tissue)"
   ]
  },
  {
   "cell_type": "markdown",
<<<<<<< HEAD
<<<<<<< HEAD
<<<<<<< HEAD
<<<<<<< HEAD
<<<<<<< HEAD
   "id": "e898fccf",
||||||| 11b9cb7
   "id": "06cadfbd",
=======
   "id": "ca6f0564",
>>>>>>> documentation-devel
||||||| 614e9b1
   "id": "ca6f0564",
=======
   "id": "be5a019a",
>>>>>>> documentation-devel
||||||| 856b4c0
<<<<<<< HEAD
   "id": "e898fccf",
||||||| 11b9cb7
   "id": "06cadfbd",
=======
   "id": "ca6f0564",
>>>>>>> documentation-devel
=======
   "id": "a9432f18",
>>>>>>> 552590ea8fad969b67afdba27558a1e6cb21016e
||||||| 452c944
   "id": "be5a019a",
=======
   "id": "9e14a792",
>>>>>>> documentation-devel
||||||| 4da3324
<<<<<<< HEAD
<<<<<<< HEAD
<<<<<<< HEAD
   "id": "e898fccf",
||||||| 11b9cb7
   "id": "06cadfbd",
=======
   "id": "ca6f0564",
>>>>>>> documentation-devel
||||||| 614e9b1
   "id": "ca6f0564",
=======
   "id": "be5a019a",
>>>>>>> documentation-devel
||||||| 856b4c0
<<<<<<< HEAD
   "id": "e898fccf",
||||||| 11b9cb7
   "id": "06cadfbd",
=======
   "id": "ca6f0564",
>>>>>>> documentation-devel
=======
   "id": "a9432f18",
>>>>>>> 552590ea8fad969b67afdba27558a1e6cb21016e
=======
   "id": "aff6d113",
>>>>>>> b6e07d13baac92b2c1c9b43f8e4113ffa87bf495
   "metadata": {
    "lines_to_next_cell": 0
   },
   "source": [
    "We mentioned that spatial autocorrelation is apparent in total UMI counts. Here's what Moran's I shows:"
   ]
  },
  {
   "cell_type": "code",
   "execution_count": null,
<<<<<<< HEAD
<<<<<<< HEAD
<<<<<<< HEAD
<<<<<<< HEAD
<<<<<<< HEAD
   "id": "5c508a02",
||||||| 11b9cb7
   "id": "71edf144",
=======
   "id": "653eb2a4",
>>>>>>> documentation-devel
||||||| 614e9b1
   "id": "653eb2a4",
=======
   "id": "026f5e80",
>>>>>>> documentation-devel
||||||| 856b4c0
<<<<<<< HEAD
   "id": "5c508a02",
||||||| 11b9cb7
   "id": "71edf144",
=======
   "id": "653eb2a4",
>>>>>>> documentation-devel
=======
   "id": "3f39821b",
>>>>>>> 552590ea8fad969b67afdba27558a1e6cb21016e
||||||| 452c944
   "id": "026f5e80",
=======
   "id": "6e512916",
>>>>>>> documentation-devel
||||||| 4da3324
<<<<<<< HEAD
<<<<<<< HEAD
<<<<<<< HEAD
   "id": "5c508a02",
||||||| 11b9cb7
   "id": "71edf144",
=======
   "id": "653eb2a4",
>>>>>>> documentation-devel
||||||| 614e9b1
   "id": "653eb2a4",
=======
   "id": "026f5e80",
>>>>>>> documentation-devel
||||||| 856b4c0
<<<<<<< HEAD
   "id": "5c508a02",
||||||| 11b9cb7
   "id": "71edf144",
=======
   "id": "653eb2a4",
>>>>>>> documentation-devel
=======
   "id": "3f39821b",
>>>>>>> 552590ea8fad969b67afdba27558a1e6cb21016e
=======
   "id": "11bb187b",
>>>>>>> b6e07d13baac92b2c1c9b43f8e4113ffa87bf495
   "metadata": {},
   "outputs": [],
   "source": [
    "calculateMoransI(t(colData(sfe_tissue)[,c(\"nCounts\", \"nGenes\")]), \n",
    "                 listw = colGraph(sfe_tissue, \"visium\"))"
   ]
  },
  {
   "cell_type": "markdown",
<<<<<<< HEAD
<<<<<<< HEAD
<<<<<<< HEAD
<<<<<<< HEAD
<<<<<<< HEAD
   "id": "febec1e0",
||||||| 11b9cb7
   "id": "178a8153",
=======
   "id": "4b29c91b",
>>>>>>> documentation-devel
||||||| 614e9b1
   "id": "4b29c91b",
=======
   "id": "45b07ed8",
>>>>>>> documentation-devel
||||||| 856b4c0
<<<<<<< HEAD
   "id": "febec1e0",
||||||| 11b9cb7
   "id": "178a8153",
=======
   "id": "4b29c91b",
>>>>>>> documentation-devel
=======
   "id": "ea7258ec",
>>>>>>> 552590ea8fad969b67afdba27558a1e6cb21016e
||||||| 452c944
   "id": "45b07ed8",
=======
   "id": "572f39fd",
>>>>>>> documentation-devel
||||||| 4da3324
<<<<<<< HEAD
<<<<<<< HEAD
<<<<<<< HEAD
   "id": "febec1e0",
||||||| 11b9cb7
   "id": "178a8153",
=======
   "id": "4b29c91b",
>>>>>>> documentation-devel
||||||| 614e9b1
   "id": "4b29c91b",
=======
   "id": "45b07ed8",
>>>>>>> documentation-devel
||||||| 856b4c0
<<<<<<< HEAD
   "id": "febec1e0",
||||||| 11b9cb7
   "id": "178a8153",
=======
   "id": "4b29c91b",
>>>>>>> documentation-devel
=======
   "id": "ea7258ec",
>>>>>>> 552590ea8fad969b67afdba27558a1e6cb21016e
=======
   "id": "e698d29c",
>>>>>>> b6e07d13baac92b2c1c9b43f8e4113ffa87bf495
   "metadata": {},
   "source": [
    "K means kurtosis. The positive values of Moran's I indicate positive spatial autocorrelation.\n",
    "\n",
    "## Spatially variable genes\n",
    "A spatially variable gene is a gene whose expression depends on spatial locations, rather than being spatially random, like salt grains spread on a soup. Spatially variable genes can be identified by spatial autocorrelation signatures, and sometimes Moran's I is used to compare and assess spatially variable genes identified with different methods. Below `BPPARAM` is used to paralelize the computation of Moran's I for 2000 highly variable genes, and 2 cores are used with the SNOW backend."
   ]
  },
  {
   "cell_type": "code",
   "execution_count": null,
<<<<<<< HEAD
<<<<<<< HEAD
<<<<<<< HEAD
<<<<<<< HEAD
<<<<<<< HEAD
   "id": "9974bea7",
||||||| 11b9cb7
   "id": "94883977",
=======
   "id": "552cd372",
>>>>>>> documentation-devel
||||||| 614e9b1
   "id": "552cd372",
=======
   "id": "992202f8",
>>>>>>> documentation-devel
||||||| 856b4c0
<<<<<<< HEAD
   "id": "9974bea7",
||||||| 11b9cb7
   "id": "94883977",
=======
   "id": "552cd372",
>>>>>>> documentation-devel
=======
   "id": "b7801e27",
>>>>>>> 552590ea8fad969b67afdba27558a1e6cb21016e
||||||| 452c944
   "id": "992202f8",
=======
   "id": "25fc90eb",
>>>>>>> documentation-devel
||||||| 4da3324
<<<<<<< HEAD
<<<<<<< HEAD
<<<<<<< HEAD
   "id": "9974bea7",
||||||| 11b9cb7
   "id": "94883977",
=======
   "id": "552cd372",
>>>>>>> documentation-devel
||||||| 614e9b1
   "id": "552cd372",
=======
   "id": "992202f8",
>>>>>>> documentation-devel
||||||| 856b4c0
<<<<<<< HEAD
   "id": "9974bea7",
||||||| 11b9cb7
   "id": "94883977",
=======
   "id": "552cd372",
>>>>>>> documentation-devel
=======
   "id": "b7801e27",
>>>>>>> 552590ea8fad969b67afdba27558a1e6cb21016e
=======
   "id": "6dc87bc4",
>>>>>>> b6e07d13baac92b2c1c9b43f8e4113ffa87bf495
   "metadata": {},
   "outputs": [],
   "source": [
    "sfe_tissue <- runMoransI(sfe_tissue, features = hvgs, colGraphName = \"visium\",\n",
    "                         BPPARAM = SnowParam(2))"
   ]
  },
  {
   "cell_type": "markdown",
<<<<<<< HEAD
<<<<<<< HEAD
<<<<<<< HEAD
<<<<<<< HEAD
<<<<<<< HEAD
   "id": "10cc9e91",
||||||| 11b9cb7
   "id": "f4ebf26a",
=======
   "id": "f0fa8120",
>>>>>>> documentation-devel
||||||| 614e9b1
   "id": "f0fa8120",
=======
   "id": "69986ab5",
>>>>>>> documentation-devel
||||||| 856b4c0
<<<<<<< HEAD
   "id": "10cc9e91",
||||||| 11b9cb7
   "id": "f4ebf26a",
=======
   "id": "f0fa8120",
>>>>>>> documentation-devel
=======
   "id": "1ce2c3fb",
>>>>>>> 552590ea8fad969b67afdba27558a1e6cb21016e
||||||| 452c944
   "id": "69986ab5",
=======
   "id": "f4adda08",
>>>>>>> documentation-devel
||||||| 4da3324
<<<<<<< HEAD
<<<<<<< HEAD
<<<<<<< HEAD
   "id": "10cc9e91",
||||||| 11b9cb7
   "id": "f4ebf26a",
=======
   "id": "f0fa8120",
>>>>>>> documentation-devel
||||||| 614e9b1
   "id": "f0fa8120",
=======
   "id": "69986ab5",
>>>>>>> documentation-devel
||||||| 856b4c0
<<<<<<< HEAD
   "id": "10cc9e91",
||||||| 11b9cb7
   "id": "f4ebf26a",
=======
   "id": "f0fa8120",
>>>>>>> documentation-devel
=======
   "id": "1ce2c3fb",
>>>>>>> 552590ea8fad969b67afdba27558a1e6cb21016e
=======
   "id": "3b7f5079",
>>>>>>> b6e07d13baac92b2c1c9b43f8e4113ffa87bf495
   "metadata": {
    "lines_to_next_cell": 0
   },
   "source": [
    "The results are stored in `rowData`"
   ]
  },
  {
   "cell_type": "code",
   "execution_count": null,
<<<<<<< HEAD
<<<<<<< HEAD
<<<<<<< HEAD
<<<<<<< HEAD
<<<<<<< HEAD
   "id": "ac697762",
||||||| 11b9cb7
   "id": "1a2154bb",
=======
   "id": "07c2e7df",
>>>>>>> documentation-devel
||||||| 614e9b1
   "id": "07c2e7df",
=======
   "id": "425d4243",
>>>>>>> documentation-devel
||||||| 856b4c0
<<<<<<< HEAD
   "id": "ac697762",
||||||| 11b9cb7
   "id": "1a2154bb",
=======
   "id": "07c2e7df",
>>>>>>> documentation-devel
=======
   "id": "7fef6986",
>>>>>>> 552590ea8fad969b67afdba27558a1e6cb21016e
||||||| 452c944
   "id": "425d4243",
=======
   "id": "74953f44",
>>>>>>> documentation-devel
||||||| 4da3324
<<<<<<< HEAD
<<<<<<< HEAD
<<<<<<< HEAD
   "id": "ac697762",
||||||| 11b9cb7
   "id": "1a2154bb",
=======
   "id": "07c2e7df",
>>>>>>> documentation-devel
||||||| 614e9b1
   "id": "07c2e7df",
=======
   "id": "425d4243",
>>>>>>> documentation-devel
||||||| 856b4c0
<<<<<<< HEAD
   "id": "ac697762",
||||||| 11b9cb7
   "id": "1a2154bb",
=======
   "id": "07c2e7df",
>>>>>>> documentation-devel
=======
   "id": "7fef6986",
>>>>>>> 552590ea8fad969b67afdba27558a1e6cb21016e
=======
   "id": "90f96cdc",
>>>>>>> b6e07d13baac92b2c1c9b43f8e4113ffa87bf495
   "metadata": {},
   "outputs": [],
   "source": [
    "rowData(sfe_tissue)"
   ]
  },
  {
   "cell_type": "markdown",
<<<<<<< HEAD
<<<<<<< HEAD
<<<<<<< HEAD
<<<<<<< HEAD
<<<<<<< HEAD
   "id": "9917c7aa",
||||||| 11b9cb7
   "id": "74114bdd",
=======
   "id": "f820b1e1",
>>>>>>> documentation-devel
||||||| 614e9b1
   "id": "f820b1e1",
=======
   "id": "8ff3875b",
>>>>>>> documentation-devel
||||||| 856b4c0
<<<<<<< HEAD
   "id": "9917c7aa",
||||||| 11b9cb7
   "id": "74114bdd",
=======
   "id": "f820b1e1",
>>>>>>> documentation-devel
=======
   "id": "75a2a514",
>>>>>>> 552590ea8fad969b67afdba27558a1e6cb21016e
||||||| 452c944
   "id": "8ff3875b",
=======
   "id": "9a6bc809",
>>>>>>> documentation-devel
||||||| 4da3324
<<<<<<< HEAD
<<<<<<< HEAD
<<<<<<< HEAD
   "id": "9917c7aa",
||||||| 11b9cb7
   "id": "74114bdd",
=======
   "id": "f820b1e1",
>>>>>>> documentation-devel
||||||| 614e9b1
   "id": "f820b1e1",
=======
   "id": "8ff3875b",
>>>>>>> documentation-devel
||||||| 856b4c0
<<<<<<< HEAD
   "id": "9917c7aa",
||||||| 11b9cb7
   "id": "74114bdd",
=======
   "id": "f820b1e1",
>>>>>>> documentation-devel
=======
   "id": "75a2a514",
>>>>>>> 552590ea8fad969b67afdba27558a1e6cb21016e
=======
   "id": "f72a8b91",
>>>>>>> b6e07d13baac92b2c1c9b43f8e4113ffa87bf495
   "metadata": {},
   "source": [
    "The `NA`'s are for genes that are not highly variable and Moran's I was not computed for those genes. We rank the genes by Moran's I and plot them in space as follows:"
   ]
  },
  {
   "cell_type": "code",
   "execution_count": null,
<<<<<<< HEAD
<<<<<<< HEAD
<<<<<<< HEAD
<<<<<<< HEAD
<<<<<<< HEAD
   "id": "adf83a8c",
||||||| 11b9cb7
   "id": "c76207ed",
=======
   "id": "a60ed548",
>>>>>>> documentation-devel
||||||| 614e9b1
   "id": "a60ed548",
=======
   "id": "0845fc4c",
>>>>>>> documentation-devel
||||||| 856b4c0
<<<<<<< HEAD
   "id": "adf83a8c",
||||||| 11b9cb7
   "id": "c76207ed",
=======
   "id": "a60ed548",
>>>>>>> documentation-devel
=======
   "id": "0f495b13",
>>>>>>> 552590ea8fad969b67afdba27558a1e6cb21016e
||||||| 452c944
   "id": "0845fc4c",
=======
   "id": "087170a7",
>>>>>>> documentation-devel
||||||| 4da3324
<<<<<<< HEAD
<<<<<<< HEAD
<<<<<<< HEAD
   "id": "adf83a8c",
||||||| 11b9cb7
   "id": "c76207ed",
=======
   "id": "a60ed548",
>>>>>>> documentation-devel
||||||| 614e9b1
   "id": "a60ed548",
=======
   "id": "0845fc4c",
>>>>>>> documentation-devel
||||||| 856b4c0
<<<<<<< HEAD
   "id": "adf83a8c",
||||||| 11b9cb7
   "id": "c76207ed",
=======
   "id": "a60ed548",
>>>>>>> documentation-devel
=======
   "id": "0f495b13",
>>>>>>> 552590ea8fad969b67afdba27558a1e6cb21016e
=======
   "id": "711ad6fd",
>>>>>>> b6e07d13baac92b2c1c9b43f8e4113ffa87bf495
   "metadata": {},
   "outputs": [],
   "source": [
    "df <- rowData(sfe_tissue)[hvgs,]\n",
    "ord <- order(df$moran_Vis5A, decreasing = TRUE)\n",
    "df[ord, c(\"symbol\", \"moran_Vis5A\")]"
   ]
  },
  {
   "cell_type": "markdown",
<<<<<<< HEAD
<<<<<<< HEAD
<<<<<<< HEAD
<<<<<<< HEAD
<<<<<<< HEAD
   "id": "c6f0c131",
||||||| 11b9cb7
   "id": "3d2f52f3",
=======
   "id": "2ed9a8e9",
>>>>>>> documentation-devel
||||||| 614e9b1
   "id": "2ed9a8e9",
=======
   "id": "85e1859e",
>>>>>>> documentation-devel
||||||| 856b4c0
<<<<<<< HEAD
   "id": "c6f0c131",
||||||| 11b9cb7
   "id": "3d2f52f3",
=======
   "id": "2ed9a8e9",
>>>>>>> documentation-devel
=======
   "id": "6ea5d132",
>>>>>>> 552590ea8fad969b67afdba27558a1e6cb21016e
||||||| 452c944
   "id": "85e1859e",
=======
   "id": "e96666af",
>>>>>>> documentation-devel
||||||| 4da3324
<<<<<<< HEAD
<<<<<<< HEAD
<<<<<<< HEAD
   "id": "c6f0c131",
||||||| 11b9cb7
   "id": "3d2f52f3",
=======
   "id": "2ed9a8e9",
>>>>>>> documentation-devel
||||||| 614e9b1
   "id": "2ed9a8e9",
=======
   "id": "85e1859e",
>>>>>>> documentation-devel
||||||| 856b4c0
<<<<<<< HEAD
   "id": "c6f0c131",
||||||| 11b9cb7
   "id": "3d2f52f3",
=======
   "id": "2ed9a8e9",
>>>>>>> documentation-devel
=======
   "id": "6ea5d132",
>>>>>>> 552590ea8fad969b67afdba27558a1e6cb21016e
=======
   "id": "6d1be14a",
>>>>>>> b6e07d13baac92b2c1c9b43f8e4113ffa87bf495
   "metadata": {
    "lines_to_next_cell": 0
   },
   "source": [
    "We see that some genes that have strong positive spatial autocorrelation, but don't observe strong negative spatial autocorrelation.\n",
    "\n",
    "Let's get some additional information on the genes with the strongest positive spatial autocorrelation in space using [gget info](https://pachterlab.github.io/gget/info.html) as above:"
   ]
  },
  {
   "cell_type": "code",
   "execution_count": null,
<<<<<<< HEAD
<<<<<<< HEAD
<<<<<<< HEAD
<<<<<<< HEAD
<<<<<<< HEAD
   "id": "aa8c736b",
||||||| 11b9cb7
   "id": "d8249b65",
=======
   "id": "7972872a",
>>>>>>> documentation-devel
||||||| 614e9b1
   "id": "7972872a",
=======
   "id": "29d143f2",
>>>>>>> documentation-devel
||||||| 856b4c0
<<<<<<< HEAD
   "id": "aa8c736b",
||||||| 11b9cb7
   "id": "d8249b65",
=======
   "id": "7972872a",
>>>>>>> documentation-devel
=======
   "id": "be4405e5",
>>>>>>> 552590ea8fad969b67afdba27558a1e6cb21016e
||||||| 452c944
   "id": "29d143f2",
=======
   "id": "c8b803d7",
>>>>>>> documentation-devel
||||||| 4da3324
<<<<<<< HEAD
<<<<<<< HEAD
<<<<<<< HEAD
   "id": "aa8c736b",
||||||| 11b9cb7
   "id": "d8249b65",
=======
   "id": "7972872a",
>>>>>>> documentation-devel
||||||| 614e9b1
   "id": "7972872a",
=======
   "id": "29d143f2",
>>>>>>> documentation-devel
||||||| 856b4c0
<<<<<<< HEAD
   "id": "aa8c736b",
||||||| 11b9cb7
   "id": "d8249b65",
=======
   "id": "7972872a",
>>>>>>> documentation-devel
=======
   "id": "be4405e5",
>>>>>>> 552590ea8fad969b67afdba27558a1e6cb21016e
=======
   "id": "722f8225",
>>>>>>> b6e07d13baac92b2c1c9b43f8e4113ffa87bf495
   "metadata": {},
   "outputs": [],
   "source": [
    "gget_info2 <- gget$info(rownames(df)[1:6])\n",
    "\n",
    "rownames(gget_info2) <- gget_info2$primary_gene_name\n",
    "select(gget_info2, ncbi_description)"
   ]
  },
  {
   "cell_type": "markdown",
<<<<<<< HEAD
<<<<<<< HEAD
<<<<<<< HEAD
<<<<<<< HEAD
<<<<<<< HEAD
   "id": "10065838",
||||||| 11b9cb7
   "id": "c082b8e7",
=======
   "id": "5f286e32",
>>>>>>> documentation-devel
||||||| 614e9b1
   "id": "5f286e32",
=======
   "id": "6134fe75",
>>>>>>> documentation-devel
||||||| 856b4c0
<<<<<<< HEAD
   "id": "10065838",
||||||| 11b9cb7
   "id": "c082b8e7",
=======
   "id": "5f286e32",
>>>>>>> documentation-devel
=======
   "id": "a35464a5",
>>>>>>> 552590ea8fad969b67afdba27558a1e6cb21016e
||||||| 452c944
   "id": "6134fe75",
=======
   "id": "d8954421",
>>>>>>> documentation-devel
||||||| 4da3324
<<<<<<< HEAD
<<<<<<< HEAD
<<<<<<< HEAD
   "id": "10065838",
||||||| 11b9cb7
   "id": "c082b8e7",
=======
   "id": "5f286e32",
>>>>>>> documentation-devel
||||||| 614e9b1
   "id": "5f286e32",
=======
   "id": "6134fe75",
>>>>>>> documentation-devel
||||||| 856b4c0
<<<<<<< HEAD
   "id": "10065838",
||||||| 11b9cb7
   "id": "c082b8e7",
=======
   "id": "5f286e32",
>>>>>>> documentation-devel
=======
   "id": "a35464a5",
>>>>>>> 552590ea8fad969b67afdba27558a1e6cb21016e
=======
   "id": "3d4835af",
>>>>>>> b6e07d13baac92b2c1c9b43f8e4113ffa87bf495
   "metadata": {
    "lines_to_next_cell": 0
   },
   "source": [
    "Let's plot these genes:"
   ]
  },
  {
   "cell_type": "code",
   "execution_count": null,
<<<<<<< HEAD
<<<<<<< HEAD
<<<<<<< HEAD
<<<<<<< HEAD
<<<<<<< HEAD
   "id": "0303f6b9",
||||||| 11b9cb7
   "id": "a109f80d",
=======
   "id": "53b19b10",
>>>>>>> documentation-devel
||||||| 614e9b1
   "id": "53b19b10",
=======
   "id": "ee410c37",
>>>>>>> documentation-devel
||||||| 856b4c0
<<<<<<< HEAD
   "id": "0303f6b9",
||||||| 11b9cb7
   "id": "a109f80d",
=======
   "id": "53b19b10",
>>>>>>> documentation-devel
=======
   "id": "7903519c",
>>>>>>> 552590ea8fad969b67afdba27558a1e6cb21016e
||||||| 452c944
   "id": "ee410c37",
=======
   "id": "666cdca9",
>>>>>>> documentation-devel
||||||| 4da3324
<<<<<<< HEAD
<<<<<<< HEAD
<<<<<<< HEAD
   "id": "0303f6b9",
||||||| 11b9cb7
   "id": "a109f80d",
=======
   "id": "53b19b10",
>>>>>>> documentation-devel
||||||| 614e9b1
   "id": "53b19b10",
=======
   "id": "ee410c37",
>>>>>>> documentation-devel
||||||| 856b4c0
<<<<<<< HEAD
   "id": "0303f6b9",
||||||| 11b9cb7
   "id": "a109f80d",
=======
   "id": "53b19b10",
>>>>>>> documentation-devel
=======
   "id": "7903519c",
>>>>>>> 552590ea8fad969b67afdba27558a1e6cb21016e
=======
   "id": "f4bb0b2d",
>>>>>>> b6e07d13baac92b2c1c9b43f8e4113ffa87bf495
   "metadata": {
    "fig.height": 7,
    "fig.width": 9
   },
   "outputs": [],
   "source": [
    "plotSpatialFeature(sfe_tissue, rownames(df)[1:6], colGeometryName = \"spotPoly\",\n",
    "                   image = \"lowres\", maxcell = 5e4, swap_rownames = \"symbol\")"
   ]
  },
  {
   "cell_type": "markdown",
<<<<<<< HEAD
<<<<<<< HEAD
<<<<<<< HEAD
<<<<<<< HEAD
<<<<<<< HEAD
   "id": "c04d7bd2",
||||||| 11b9cb7
   "id": "dcdadfc9",
=======
   "id": "fbb9af18",
>>>>>>> documentation-devel
||||||| 614e9b1
   "id": "fbb9af18",
=======
   "id": "b00338fb",
>>>>>>> documentation-devel
||||||| 856b4c0
<<<<<<< HEAD
   "id": "c04d7bd2",
||||||| 11b9cb7
   "id": "dcdadfc9",
=======
   "id": "fbb9af18",
>>>>>>> documentation-devel
=======
   "id": "07656c52",
>>>>>>> 552590ea8fad969b67afdba27558a1e6cb21016e
||||||| 452c944
   "id": "b00338fb",
=======
   "id": "e127ff8b",
>>>>>>> documentation-devel
||||||| 4da3324
<<<<<<< HEAD
<<<<<<< HEAD
<<<<<<< HEAD
   "id": "c04d7bd2",
||||||| 11b9cb7
   "id": "dcdadfc9",
=======
   "id": "fbb9af18",
>>>>>>> documentation-devel
||||||| 614e9b1
   "id": "fbb9af18",
=======
   "id": "b00338fb",
>>>>>>> documentation-devel
||||||| 856b4c0
<<<<<<< HEAD
   "id": "c04d7bd2",
||||||| 11b9cb7
   "id": "dcdadfc9",
=======
   "id": "fbb9af18",
>>>>>>> documentation-devel
=======
   "id": "07656c52",
>>>>>>> 552590ea8fad969b67afdba27558a1e6cb21016e
=======
   "id": "bde584f6",
>>>>>>> b6e07d13baac92b2c1c9b43f8e4113ffa87bf495
   "metadata": {
    "lines_to_next_cell": 0
   },
   "source": [
    "These genes do indeed look spatially variable. However, such spatial variability can simply be due to the histological regions in space, or in other words, spatial distribution of different cell types. There are many methods to identify spatially variable genes, often involving Gaussian process modeling, which are far more complex than Moran's I, such as [`SpatialDE`](https://bioconductor.org/packages/release/bioc/html/spatialDE.html) [@Svensson2018-sx]. However, such methods usually don't account for the histological regions, except for `C-SIDE` [@Cable2022-ma], which identifies spatially variable genes within cell types. This leads to the question of what is really meant by \"cell type\". It remains to see how spatial methods made specifically for identifying spatially variable genes compare with methods that don't explicitly use spatial information but simply perform differential analysis between cell types which often are in spatially defined histological regions. \n",
    "\n",
    "Another consideration in using Moran's I is the extent to which the strength of spatial autocorrelation varies in space. What if a gene exhibits strong spatial autocorrelation in one region, but not in another? Should the different histological regions be analyzed separately in some cases? \n",
    "\n",
    "There are ways to see whether Moran's I is statistically significant, and many other methods to explore spatial autocorrelation. These are discussed in the more advanced [ESDA Visium vignette](https://pachterlab.github.io/voyager/articles/vig2_visium.html). \n",
    "\n",
    "# Session Info"
   ]
  },
  {
   "cell_type": "code",
   "execution_count": null,
<<<<<<< HEAD
<<<<<<< HEAD
<<<<<<< HEAD
<<<<<<< HEAD
<<<<<<< HEAD
   "id": "bdb78bf2",
||||||| 11b9cb7
   "id": "5e00f832",
=======
   "id": "a8d3d56e",
>>>>>>> documentation-devel
||||||| 614e9b1
   "id": "a8d3d56e",
=======
   "id": "0d5f9d94",
>>>>>>> documentation-devel
||||||| 856b4c0
<<<<<<< HEAD
   "id": "bdb78bf2",
||||||| 11b9cb7
   "id": "5e00f832",
=======
   "id": "a8d3d56e",
>>>>>>> documentation-devel
=======
   "id": "a064f2f6",
>>>>>>> 552590ea8fad969b67afdba27558a1e6cb21016e
||||||| 452c944
   "id": "0d5f9d94",
=======
   "id": "3cad0866",
>>>>>>> documentation-devel
||||||| 4da3324
<<<<<<< HEAD
<<<<<<< HEAD
<<<<<<< HEAD
   "id": "bdb78bf2",
||||||| 11b9cb7
   "id": "5e00f832",
=======
   "id": "a8d3d56e",
>>>>>>> documentation-devel
||||||| 614e9b1
   "id": "a8d3d56e",
=======
   "id": "0d5f9d94",
>>>>>>> documentation-devel
||||||| 856b4c0
<<<<<<< HEAD
   "id": "bdb78bf2",
||||||| 11b9cb7
   "id": "5e00f832",
=======
   "id": "a8d3d56e",
>>>>>>> documentation-devel
=======
   "id": "a064f2f6",
>>>>>>> 552590ea8fad969b67afdba27558a1e6cb21016e
=======
   "id": "e220c339",
>>>>>>> b6e07d13baac92b2c1c9b43f8e4113ffa87bf495
   "metadata": {},
   "outputs": [],
   "source": [
    "sessionInfo()"
   ]
  },
  {
   "cell_type": "markdown",
<<<<<<< HEAD
<<<<<<< HEAD
<<<<<<< HEAD
<<<<<<< HEAD
<<<<<<< HEAD
   "id": "067b7f7a",
||||||| 11b9cb7
   "id": "39719b6c",
=======
   "id": "a7fd3406",
>>>>>>> documentation-devel
||||||| 614e9b1
   "id": "a7fd3406",
=======
   "id": "b8b14edb",
>>>>>>> documentation-devel
||||||| 856b4c0
<<<<<<< HEAD
   "id": "067b7f7a",
||||||| 11b9cb7
   "id": "39719b6c",
=======
   "id": "a7fd3406",
>>>>>>> documentation-devel
=======
   "id": "8fca0121",
>>>>>>> 552590ea8fad969b67afdba27558a1e6cb21016e
||||||| 452c944
   "id": "b8b14edb",
=======
   "id": "fee4e6b2",
>>>>>>> documentation-devel
||||||| 4da3324
<<<<<<< HEAD
<<<<<<< HEAD
<<<<<<< HEAD
   "id": "067b7f7a",
||||||| 11b9cb7
   "id": "39719b6c",
=======
   "id": "a7fd3406",
>>>>>>> documentation-devel
||||||| 614e9b1
   "id": "a7fd3406",
=======
   "id": "b8b14edb",
>>>>>>> documentation-devel
||||||| 856b4c0
<<<<<<< HEAD
   "id": "067b7f7a",
||||||| 11b9cb7
   "id": "39719b6c",
=======
   "id": "a7fd3406",
>>>>>>> documentation-devel
=======
   "id": "8fca0121",
>>>>>>> 552590ea8fad969b67afdba27558a1e6cb21016e
=======
   "id": "f281c257",
>>>>>>> b6e07d13baac92b2c1c9b43f8e4113ffa87bf495
   "metadata": {},
   "source": [
    "# References"
   ]
  }
 ],
 "metadata": {
  "kernelspec": {
   "display_name": "R",
   "language": "R",
   "name": "ir"
  }
 },
 "nbformat": 4,
 "nbformat_minor": 5
}
