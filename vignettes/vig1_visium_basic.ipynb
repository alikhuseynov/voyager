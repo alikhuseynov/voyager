{
 "cells": [
  {
   "cell_type": "raw",
   "id": "9139958b",
   "metadata": {},
   "source": [
    "---\n",
    "title: \"Basic Visium exploratory data analysis\"\n",
    "author: \"Lambda Moses\"\n",
    "date: \"`r Sys.Date()`\"\n",
    "output: \n",
    "  html_document:\n",
    "  toc: true\n",
    "  toc_float:\n",
    "    collapsed: false\n",
    "  toc_depth: 3\n",
    "bibliography: ref.bib\n",
    "vignette: >\n",
    "  %\\VignetteIndexEntry{visium_basic}\n",
    "  %\\VignetteEngine{knitr::rmarkdown}\n",
    "  %\\VignetteEncoding{UTF-8}\n",
    "---"
   ]
  },
  {
   "cell_type": "code",
   "execution_count": null,
   "id": "c2e898d2",
   "metadata": {
    "tags": [
     "remove_cell"
    ]
   },
   "outputs": [],
   "source": [
    "knitr::opts_chunk$set(\n",
    "  collapse = TRUE,\n",
    "  comment = \"#>\", fig.align = \"center\"\n",
    ")"
   ]
  },
  {
   "cell_type": "code",
   "execution_count": null,
   "id": "448dcfcf",
   "metadata": {
    "eval": false,
    "tags": [
     "remove_cell"
    ]
   },
   "outputs": [],
   "source": [
    "# Install Google Colab dependencies\n",
    "# Note: this can take 30+ minutes (many of the dependencies include C++ code, which needs to be compiled)\n",
    "\n",
    "# Install `sf`, `ragg` and `textshaping` system dependencies:\n",
    "system(\"apt-get -y update && apt-get install -y  libudunits2-dev libgdal-dev libgeos-dev libproj-dev libharfbuzz-dev libfribidi-dev\")\n",
    "\n",
    "# Install system dependencies of some other R packages that Voyager either imports or suggests:\n",
    "system(\"apt-get install -y libfribidi-dev libcairo2-dev libmagick++-dev\")\n",
    "\n",
    "# Install Voyager from Bioconductor:\n",
    "install.packages(\"BiocManager\")\n",
    "BiocManager::install(version = \"3.16\", ask = FALSE, update = FALSE, Ncpus = 2)\n",
    "system.time(\n",
    "  BiocManager::install(\"Voyager\", dependencies = TRUE, Ncpus = 2, update = FALSE)\n",
    ")\n",
    "\n",
    "packageVersion(\"Voyager\")"
   ]
  },
  {
   "cell_type": "markdown",
   "id": "1fa39b7b",
   "metadata": {
    "lines_to_next_cell": 0
   },
   "source": [
    "# Introduction\n",
    "\n",
    "In this introductory vignette for [`SpatialFeatureExperiment`](https://bioconductor.org/packages/devel/bioc/html/SpatialFeatureExperiment.html) data representation and [`Voyager`](https://bioconductor.org/packages/devel/bioc/html/Voyager.html) analysis package, we demonstrate a basic exploratory data analysis (EDA) of spatial transcriptomics data. Basic knowledge of R and [`SingleCellExperiment`](https://bioconductor.org/packages/release/bioc/html/SingleCellExperiment.html) is assumed.\n",
    "\n",
    "This vignette showcases the packages with a Visium spatial gene expression system dataset. The technology was chosen due to its popularity, and therefore the availability of numerous publicly available datasets for analysis [@Moses2022-xz]. The code can be run on [Google Colab](https://colab.research.google.com/drive/1EPbPu71O7mvc1Hsp1VI3Jc3xI5mzJ0eM?usp=sharing).\n",
    "\n",
    "![Bar chart showing the number of institutions using each spatial transcriptomics data collection method. Only methods used by at least 3 different institutions are shown. The bars are colored by category of the methods. 10X Visium which is based on sequence barcoding is used by over 100 institutions. Following Visium are GeoMX DSP and GeoMX WTA which are \"regions of interest\" (ROI) methods, along with 2016 ST and some other ROI selection methods.](https://pachterlab.github.io/LP_2021/04-current_files/figure-html/n-insts-1.png)\n",
    "While Voyager was developed with the goal of facilitating the use of geospatial methods in spatial genomics, this introductory vignette is restricted to non-spatial scRNA-seq EDA with the Visium dataset. For a vignette illustrating univariate spatial analysis with the same dataset, see the more advanced [exploratory spatial data analyis vignette](https://pachterlab.github.io/voyager/articles/vig2_visium.html) with the same dataset.\n",
    "\n",
    "Here we load the packages used in this vignette."
   ]
  },
  {
   "cell_type": "code",
   "execution_count": null,
   "id": "8f4d1089",
   "metadata": {
    "name": "setup"
   },
   "outputs": [],
   "source": [
    "library(Voyager)\n",
    "library(SpatialFeatureExperiment)\n",
    "library(SingleCellExperiment)\n",
    "library(SpatialExperiment)\n",
    "library(scater)\n",
    "library(scran)\n",
    "library(patchwork)\n",
    "library(bluster)\n",
    "library(SFEData)\n",
    "library(BiocParallel)\n",
    "library(stringr)\n",
    "library(ggplot2)\n",
    "library(sparseMatrixStats)\n",
    "theme_set(theme_bw(10))"
   ]
  },
  {
   "cell_type": "markdown",
   "id": "b281599f",
   "metadata": {},
   "source": [
    "# Mouse skeletal muscle dataset\n",
    "The dataset used in this vignette is from the paper [Large-scale integration of single-cell transcriptomic data captures transitional progenitor states in mouse skeletal muscle regeneration](https://doi.org/10.1038/s42003-021-02810-x) [@McKellar2021-ek]. Notexin was injected into the tibialis anterior muscle of mice to induce injury, and the healing muscle was collected 2, 5, and 7 days post injury for Visium analysis. The dataset in this vignette is from the timepoint at day 2. The vignette starts with a `SpatialFeatureExperiment` (SFE) object.\n",
    "\n",
    "The gene count matrix was directly downloaded [from GEO](https://www.ncbi.nlm.nih.gov/geo/query/acc.cgi?acc=GSM4904759). All 4992 spots, whether in tissue or not, are included. The tissue boundary was found by thresholding the H&E image in OpenCV, and small polygons were removed as they are likely to be debris. Spot polygons were constructed with the spot centroid coordinates and diameter in the Space Ranger output. The `in_tissue` column in `colData` indicates which spot polygons intersect the tissue polygons, and is based on `st_intersects()`. \n",
    "\n",
    "Tissue boundary, nuclei, myofiber, and Visium spot polygons are stored as `sf` data frames in the SFE object. The Visium spot polygons are called \"spotPoly\" in this SFE object. The `SpatialFeatureExperiment` package has a few convenience wrappers to get and set common types of geometries, including `spotPoly()` for Visium (or other technologies when relevant) spot polygons, `cellSeg()` for cell segmentation, `nucSeg()` for nuclei segmentation, and `centroids()` for cell centroids. Behind the scene are specially named `sf` data frames. See [the vignette of `SpatialFeatureExperiment`](https://bioconductor.org/packages/devel/bioc/vignettes/SpatialFeatureExperiment/inst/doc/SFE.html) for more details on the structure of the SFE object. \n",
    "\n",
    "The SFE object of this dataset is provided in the `SFEData` package; we begin by downloading the data and loading it into R."
   ]
  },
  {
   "cell_type": "code",
   "execution_count": null,
   "id": "131d2249",
   "metadata": {},
   "outputs": [],
   "source": [
    "(sfe <- McKellarMuscleData(\"full\"))"
   ]
  },
  {
   "cell_type": "markdown",
   "id": "53d320d6",
   "metadata": {},
   "source": [
    "The authors provided the full resolution hematoxylin and eosin (H&E) image on GEO, which we downsized to facilitate its display:\n",
    "![A cross section of mouse muscle is slightly off center to the lower left. In the middle of the tissue is the notexin injury site with leukocyte infiltration and fewer myofibers. The rest of the tissue section is tightly packed with myofibers.](https://raw.githubusercontent.com/pachterlab/voyager/documentation/vignettes/tissue_lowres_5a.jpeg)\n",
    "\n",
    "# Quality control\n",
    "## Spots\n",
    "We begin quality control (QC) by plotting various metrics both as violin plots and in space. The QC metrics are pre-computed and stored in `colData` (for spots) and `rowData` of the SFE object."
   ]
  },
  {
   "cell_type": "code",
   "execution_count": null,
   "id": "ecf59f1d",
   "metadata": {},
   "outputs": [],
   "source": [
    "names(colData(sfe))"
   ]
  },
  {
   "cell_type": "markdown",
   "id": "50cc0672",
   "metadata": {
    "lines_to_next_cell": 0
   },
   "source": [
    "Below we plot the total unique molecular identifier (UMI) counts per spot. The commented out line of code shows how to compute the total UMI counts."
   ]
  },
  {
   "cell_type": "code",
   "execution_count": null,
   "id": "64780599",
   "metadata": {},
   "outputs": [],
   "source": [
    "# colData(sfe)$nCounts <- colSums(counts(sfe))\n",
    "violin <- plotColData(sfe, \"nCounts\", x = \"in_tissue\", colour_by = \"in_tissue\") +\n",
    "    theme(legend.position = \"top\")\n",
    "spatial <- plotSpatialFeature(sfe, \"nCounts\", colGeometryName = \"spotPoly\",\n",
    "                              annotGeometryName = \"tissueBoundary\") +\n",
    "    theme_void()\n",
    "violin + spatial"
   ]
  },
  {
   "cell_type": "markdown",
   "id": "0d7145c9",
   "metadata": {
    "lines_to_next_cell": 0
   },
   "source": [
    "Some spots in the injury site with leukocyte infiltration have high total counts. Spatial autocorrelation of the total counts is apparent, which will be discussed in a later section of this vignette.\n",
    "\n",
    "Next we find number of genes detected per spot. The commented out line of code shows how to find the number of genes detected."
   ]
  },
  {
   "cell_type": "code",
   "execution_count": null,
   "id": "23bb7a69",
   "metadata": {},
   "outputs": [],
   "source": [
    "# colData(sfe)$nGenes <- colSums(counts(sfe) > 0)\n",
    "violin <- plotColData(sfe, \"nGenes\", x = \"in_tissue\", colour_by = \"in_tissue\") +\n",
    "    theme(legend.position = \"top\")\n",
    "spatial <- plotSpatialFeature(sfe, \"nGenes\", colGeometryName = \"spotPoly\",\n",
    "                              annotGeometryName = \"tissueBoundary\",\n",
    "                              annot_fixed = list(fill = NA, color = \"black\", \n",
    "                                                 size = 0.5)) +\n",
    "    theme_void()\n",
    "violin + spatial"
   ]
  },
  {
   "cell_type": "markdown",
   "id": "9d08a2d8",
   "metadata": {
    "lines_to_next_cell": 0
   },
   "source": [
    "As commonly done for scRNA-seq data, here we plot nCounts vs. nGenes"
   ]
  },
  {
   "cell_type": "code",
   "execution_count": null,
   "id": "c35faecd",
   "metadata": {},
   "outputs": [],
   "source": [
    "plotColData(sfe, x = \"nCounts\", y = \"nGenes\", colour_by = \"in_tissue\")"
   ]
  },
  {
   "cell_type": "markdown",
   "id": "cb06ce3a",
   "metadata": {
    "lines_to_next_cell": 0
   },
   "source": [
    "This plot has two branches for the spots in tissue, which turn out to be related to myofiber size. See [the exploratory spatial data analysis (ESDA) Visium vignette](https://pachterlab.github.io/voyager/articles/vig2_visium.html).\n",
    "\n",
    "As is commonly done for scRNA-seq data, we plot the proportion of mitochondrially encoded counts. The commented out code shows how to find this proportion:"
   ]
  },
  {
   "cell_type": "code",
   "execution_count": null,
   "id": "70653085",
   "metadata": {},
   "outputs": [],
   "source": [
    "# mito_ind <- str_detect(rowData(sfe)$symbol, \"^Mt-\")\n",
    "# colData(sfe)$prop_mito <- colSums(counts(sfe)[mito_ind,]) / colData(sfe)$nCounts\n",
    "violin <- plotColData(sfe, \"prop_mito\", x = \"in_tissue\", colour_by = \"in_tissue\") +\n",
    "    theme(legend.position = \"top\")\n",
    "spatial <- plotSpatialFeature(sfe, \"prop_mito\", colGeometryName = \"spotPoly\",\n",
    "                              annotGeometryName = \"tissueBoundary\",\n",
    "                              annot_fixed = list(fill = NA, color = \"black\", \n",
    "                                                 size = 0.5)) +\n",
    "    theme_void()\n",
    "violin + spatial"
   ]
  },
  {
   "cell_type": "markdown",
   "id": "23831b43",
   "metadata": {
    "lines_to_next_cell": 0
   },
   "source": [
    "As expected, spots outside tissue have a higher proportion of mitochondrial counts, because when the tissue is lysed, mitochondrial transcripts are are less likely to degrade than cytosolic transcripts as they are protected by a double membrane. However, spots on myofibers also have a high proportion of mitochondrial counts, because of the function of myofibers. The injury site with leukocyte infiltration has a lower proportion of mitochondrial counts.\n",
    "\n",
    "To see the relationship between the proportion of mitochondrial counts and total UMI counts,  we plot them against each other as is commonly done in scRNA-seq analysis to identify low quality cells, i.e. cells with few UMI counts and a high proportion of mitochondrial counts."
   ]
  },
  {
   "cell_type": "code",
   "execution_count": null,
   "id": "4d717b8f",
   "metadata": {},
   "outputs": [],
   "source": [
    "plotColData(sfe, x = \"nCounts\", y = \"prop_mito\", colour_by = \"in_tissue\")"
   ]
  },
  {
   "cell_type": "markdown",
   "id": "38a986b3",
   "metadata": {
    "lines_to_next_cell": 0
   },
   "source": [
    "There are two clusters for the spots in tissue, which also turn out to be related to myofiber size. See the [ESDA Visium vignette](https://pachterlab.github.io/voyager/articles/vig2_visium.html). \n",
    "\n",
    "So far we haven't seen spots that are obvious outliers in these QC metrics.\n",
    "\n",
    "The following analyses only use spots in tissue, which are selected as follows:"
   ]
  },
  {
   "cell_type": "code",
   "execution_count": null,
   "id": "7dd9fc60",
   "metadata": {},
   "outputs": [],
   "source": [
    "sfe_tissue <- sfe[, colData(sfe)$in_tissue]\n",
    "sfe_tissue <- sfe_tissue[rowSums(counts(sfe_tissue)) > 0,]"
   ]
  },
  {
   "cell_type": "markdown",
   "id": "c0b0c0cf",
   "metadata": {
    "lines_to_next_cell": 0
   },
   "source": [
    "## Genes\n",
    "As in scRNA-seq, gene expression variance in Visium measurements is overdispersed compared to variance of counts that are Poisson distributed.\n",
    "\n",
    "To understand the mean-variance relationship, we compute the mean, variance, and coefficient of variance (CV2) for each gene among spots in tissue:"
   ]
  },
  {
   "cell_type": "code",
   "execution_count": null,
   "id": "874bd8dd",
   "metadata": {},
   "outputs": [],
   "source": [
    "rowData(sfe_tissue)$means <- rowMeans(counts(sfe_tissue))\n",
    "rowData(sfe_tissue)$vars <- rowVars(counts(sfe_tissue))\n",
    "# Coefficient of variance\n",
    "rowData(sfe_tissue)$cv2 <- rowData(sfe_tissue)$vars/rowData(sfe_tissue)$means^2"
   ]
  },
  {
   "cell_type": "markdown",
   "id": "7107e998",
   "metadata": {
    "lines_to_next_cell": 0
   },
   "source": [
    "To avoid overplotting and better show point density on the plot, we use a 2D histogram. The color of each bin indicates the number of points in that bin."
   ]
  },
  {
   "cell_type": "code",
   "execution_count": null,
   "id": "0ccdf7c0",
   "metadata": {},
   "outputs": [],
   "source": [
    "plotRowDataBin2D(sfe, \"means\", \"vars\", bins = 50) +\n",
    "    geom_abline(slope = 1, intercept = 0, color = \"red\") +\n",
    "    scale_x_log10() + scale_y_log10() +\n",
    "    annotation_logticks() +\n",
    "    coord_equal()"
   ]
  },
  {
   "cell_type": "markdown",
   "id": "2951a56e",
   "metadata": {},
   "source": [
    "The red line, $y = x$ is what is expected for Poisson distributed data, but we find that the variance is higher for more highly expressed genes than expected from Poisson distributed counts. The coefficient of variation shows the same."
   ]
  },
  {
   "cell_type": "code",
   "execution_count": null,
   "id": "3765574f",
   "metadata": {},
   "outputs": [],
   "source": [
    "plotRowDataBin2D(sfe, \"means\", \"cv2\", bins = 50) +\n",
    "    geom_abline(slope = -1, intercept = 0, color = \"red\") +\n",
    "    scale_x_log10() + scale_y_log10() +\n",
    "    annotation_logticks() +\n",
    "    coord_equal()"
   ]
  },
  {
   "cell_type": "markdown",
   "id": "d2c0c919",
   "metadata": {},
   "source": [
    "# Normalize data\n",
    "\n",
    "We demonstrate the use of `scater` for normalization below, although we note that it is not necessarily the best approach to normalizing spatial transcriptomics data. The problem of when and how to normalize spatial transcriptomics data is non-trivial because, as the `nCounts` plot in space shows above, spatial autocorrelation is evident. Furthemrore, in Visium, reverse transcription occurs in situ on the spots, but PCR amplification occurs after the cDNA is dissociated from the spots. Artifacts may be subsequently introduced from the amplification step, and these would not be associated with spatial origin. Spatial artifacts may arise from the diffusion of transcripts and tissue permeablization. However, given how the total counts seem to correspond to histological regions, the total counts may have a biological component and hence should not be treated as a technical artifact to be normalized away as in scRNA-seq data normalization methods. In other words, the issue of normalization for spatial transcriptomics data, and Visium in particular, is complex and is currently unsolved.\n",
    "\n",
    "There is no one way to normalize non-spatial scRNA-seq data. The commented out code implements the `scran` method [@Lun2016-yq]. To simplify the matter, we only perform `logNormCounts()` in this introductory vignette. \n",
    "\n",
    "Note that `scater`'s `logNormCounts()` is quite different from that in Seurat. Let $N$ denote the total UMI count in one Visium spot, $\\bar N$ the average total UMI count in all spots in this dataset, and $x$ denote the UMI count of one gene in the Visium spot of interest. Seurat performs log normalization as $\\mathrm{log}\\left( \\frac{x}{N/10000} + 1 \\right)$, where the natural log is used. In contrast, with default parameters, `scater` uses $\\mathrm{log_2}\\left( \\frac{x}{N/\\bar N} + 1 \\right)$. The pseudocount (default to 1), library size factors (default to $N/\\bar N$), and transform (default to log2) can be changed. Log 2 is used because differences in values can be interpreted as log fold change."
   ]
  },
  {
   "cell_type": "code",
   "execution_count": null,
   "id": "43a80dce",
   "metadata": {},
   "outputs": [],
   "source": [
    "# clusters <- quickCluster(sfe_tissue)\n",
    "# sfe_tissue <- computeSumFactors(sfe_tissue, clusters=clusters)\n",
    "# sfe_tissue <- sfe_tissue[, sizeFactors(sfe_tissue) > 0]\n",
    "sfe_tissue <- logNormCounts(sfe_tissue)"
   ]
  },
  {
   "cell_type": "markdown",
   "id": "9175eded",
   "metadata": {
    "lines_to_next_cell": 0
   },
   "source": [
    "Next, we identify highly variable genes (HVGs), which will be used for principal component analysis (PCA) dimensionality reduction. Again, there are different ways to identify HVGs, and `scater` does so differently from Seurat. In both frameworks, the log normalized data is used by default. In summary, in Seurat, with default parameters, a Loess curve is fitted to the log transformed data (the log normalized data is log transformed for fitting purposes), and the fitted values are exponentiated as the expected variance for each gene. Then the expected variance and the mean are used to standardize the log normalized gene expression; the standardized values are used to calculate a standardized variance for each gene. The top HVGs are the genes with the largest standardized variance.\n",
    "\n",
    "In `scater`, with default parameters, a parametric non-linear curve of variance vs. mean for each gene of the log normalized data. Then the log ratio of the actual variance to the fitted variance from the curve calculated, and a Loess curve is fitted to this log ratio vs. mean for each gene. The \"technical\" component of the variance is the fitted values from the Loess curve. The \"biological\" component is the difference between the actual variance and the Loess fitted variance. The top HVGs are genes with the largest biological component. See the documentation of `modelGeneVar()`, `fitTrendVar()`, and `getTopHVGs()` for more details.\n",
    "\n",
    "These differences can lead to different downstream results. While we don't comment on which way is better in this vignette, it's important to be aware of such differences."
   ]
  },
  {
   "cell_type": "code",
   "execution_count": null,
   "id": "7bffb896",
   "metadata": {},
   "outputs": [],
   "source": [
    "dec <- modelGeneVar(sfe_tissue)\n",
    "hvgs <- getTopHVGs(dec, n = 2000)"
   ]
  },
  {
   "cell_type": "markdown",
   "id": "fc31be76",
   "metadata": {
    "lines_to_next_cell": 0
   },
   "source": [
    "# Dimension reduction and clustering"
   ]
  },
  {
   "cell_type": "code",
   "execution_count": null,
   "id": "da386913",
   "metadata": {},
   "outputs": [],
   "source": [
    "sfe_tissue <- runPCA(sfe_tissue, ncomponents = 30, subset_row = hvgs,\n",
    "                     scale = TRUE) # scale as in Seurat"
   ]
  },
  {
   "cell_type": "code",
   "execution_count": null,
   "id": "911262b4",
   "metadata": {},
   "outputs": [],
   "source": [
    "ElbowPlot(sfe_tissue, ndims = 30)"
   ]
  },
  {
   "cell_type": "code",
   "execution_count": null,
   "id": "422efd71",
   "metadata": {},
   "outputs": [],
   "source": [
    "plotDimLoadings(sfe_tissue, dims = 1:4)"
   ]
  },
  {
   "cell_type": "markdown",
   "id": "344e60bc",
   "metadata": {
    "lines_to_next_cell": 0
   },
   "source": [
    "Do the clustering to show on the dimension reduction plots"
   ]
  },
  {
   "cell_type": "code",
   "execution_count": null,
   "id": "7bc163e4",
   "metadata": {},
   "outputs": [],
   "source": [
    "colData(sfe_tissue)$cluster <- clusterRows(reducedDim(sfe_tissue, \"PCA\")[,1:3],\n",
    "                                           BLUSPARAM = SNNGraphParam(\n",
    "                                               cluster.fun = \"leiden\",\n",
    "                                               cluster.args = list(\n",
    "                                                   resolution_parameter = 0.5,\n",
    "                                                   objective_function = \"modularity\")))"
   ]
  },
  {
   "cell_type": "code",
   "execution_count": null,
   "id": "00a036b2",
   "metadata": {
    "fig.height": 6,
    "fig.width": 7
   },
   "outputs": [],
   "source": [
    "plotPCA(sfe_tissue, ncomponents = 3, colour_by = \"cluster\")"
   ]
  },
  {
   "cell_type": "markdown",
   "id": "2ee7a0ac",
   "metadata": {
    "lines_to_next_cell": 0
   },
   "source": [
    "The principal components (PCs) can be plotted in space. Due to spatial autocorrelation of many genes and spatial regions of different histological characters, even though spatial information is not used in the PCA procedure, the PCs may show spatial structure."
   ]
  },
  {
   "cell_type": "code",
   "execution_count": null,
   "id": "68785756",
   "metadata": {
    "fig.height": 8,
    "fig.width": 6
   },
   "outputs": [],
   "source": [
    "spatialReducedDim(sfe_tissue, \"PCA\", ncomponents = 4, \n",
    "                  colGeometryName = \"spotPoly\", divergent = TRUE, \n",
    "                  diverge_center = 0) &\n",
    "    theme_void()"
   ]
  },
  {
   "cell_type": "markdown",
   "id": "f55f3402",
   "metadata": {
    "lines_to_next_cell": 0
   },
   "source": [
    "PC1, which explains far more variance than PC2, separates the injury site leukocytes and myofibers close to the site from the Visium myofibers. PC2 highlight some myofibers near the edge. PC3 highlights the muscle tendon junctions. PC4 does not seem to be informative; it might have picked up an outlier.\n",
    "\n",
    "It is also possible to run UMAP following the PCA, as is done for scRNA-seq. We do not recommend producing a UMAP since the procedure distorts distances, and does not respect either local or global structure in the data [@Chari2021-hb]. However, for completeness, we show how to compute a UMAP below:"
   ]
  },
  {
   "cell_type": "code",
   "execution_count": null,
   "id": "95bfd525",
   "metadata": {},
   "outputs": [],
   "source": [
    "set.seed(29)\n",
    "sfe_tissue <- runUMAP(sfe_tissue, dimred = \"PCA\", n_dimred = 3)"
   ]
  },
  {
   "cell_type": "code",
   "execution_count": null,
   "id": "71396fce",
   "metadata": {},
   "outputs": [],
   "source": [
    "plotUMAP(sfe_tissue, colour_by = \"cluster\")"
   ]
  },
  {
   "cell_type": "markdown",
   "id": "2bd2b321",
   "metadata": {
    "lines_to_next_cell": 0
   },
   "source": [
    "More interesting in spatial transcriptomics, is to locate the clusters in space, and this can be done as follows:"
   ]
  },
  {
   "cell_type": "code",
   "execution_count": null,
   "id": "3cc11cee",
   "metadata": {},
   "outputs": [],
   "source": [
    "plotSpatialFeature(sfe_tissue, \"cluster\", colGeometryName = \"spotPoly\")"
   ]
  },
  {
   "cell_type": "markdown",
   "id": "95e7bc99",
   "metadata": {
    "lines_to_next_cell": 0
   },
   "source": [
    "While spatial information is not explicitly used in clustering, due to spatial autocorrelation of gene expression and the histological regions, some of these clusters are spatially contiguous. There are many methods to find spatially informed clusters, such as [`BayesSpace`](https://bioconductor.org/packages/release/bioc/html/BayesSpace.html) [@Zhao2021-vb], which is on Bioconductor.\n",
    "\n",
    "Remark on spatial regions: In geographical space, there is usually no one single way to define spatial regions. For example, influenced by both sociology and geology, LA county can be partitioned into regions such as Eastside, Westside, South Central, San Fernado Valley, San Gabriel Valley, Pomona Valley, Gateway Cities, South Bay, and etc., each containing multiple smaller cities or parts of LA City, each of which can be further divided into many neighborhoods, such as Koreatown, Highland Park, Lincoln Heights, and etc. Definitions of some of these regions are subject to dispute. Meanwhile, LA county can also be partitioned into watersheds of the LA River, San Gabriel River, Ballona Creek, and etc., as well as different rock formations. Which kind of spatial region at which resolution is relevant depends on the question being asked. There are also gray areas in spatial regions. For example, the Whittier Narrows dam intercepts both the San Gabriel River and Rio Hondo (a large tributary of the LA River), so whether the dam area belongs to the watershed of San Gabriel River or LA River is unclear. \n",
    "\n",
    "Similarly, in spatial transcriptomics, while methods identifying spatial regions currently generally only aim to give one result, multiple results at different resolutions depending on the question asked may be relevant. Furthermore, methods for spatial region demarcation to be used for spatial -omics would ideally provide uncertainty assessments for assignment of cells or Visium spots. An existing geospatial method that accounts for such uncertainty is [`geocmeans`](https://cran.r-project.org/web/packages/geocmeans/) [@Zhao2013-tw], which is on CRAN.\n",
    "\n",
    "In both the geographical and histological space, there conflicting views on spatial variation. On the one hand, methods that identify spatially variable genes such as SpatialDE often assume that gene expression vary smoothly and continuously in space. On the other hand, methods identifying spatial regions attempt to identify discrete regions. The continuous variation in features might be why definitions of geographical neighborhoods are often subject to dispute. Some existing methods attempt to harmonize the two views. For example, the spatially variable gene method [`belayer`](https://github.com/raphael-group/belayer) [@Ma2022-dc] takes discrete tissue layers into account.\n",
    "\n",
    "# Non-spatial differential expression\n",
    "Cluster marker genes can be found using differential analysis methods as is commonly done for scRNA-seq. Below is an example with the Wilcoxon rank sum test:"
   ]
  },
  {
   "cell_type": "code",
   "execution_count": null,
   "id": "73dcf44b",
   "metadata": {},
   "outputs": [],
   "source": [
    "markers <- findMarkers(sfe_tissue, groups = colData(sfe_tissue)$cluster,\n",
    "                       test.type = \"wilcox\", pval.type = \"all\", direction = \"up\")"
   ]
  },
  {
   "cell_type": "markdown",
   "id": "79a42bd0",
   "metadata": {
    "lines_to_next_cell": 0
   },
   "source": [
    "The result is sorted by p-values:"
   ]
  },
  {
   "cell_type": "code",
   "execution_count": null,
   "id": "be0ff4fc",
   "metadata": {},
   "outputs": [],
   "source": [
    "markers[[6]]"
   ]
  },
  {
   "cell_type": "markdown",
   "id": "6222891e",
   "metadata": {
    "lines_to_next_cell": 0
   },
   "source": [
    "Significant markers for each cluster can be obtained as follows:"
   ]
  },
  {
   "cell_type": "code",
   "execution_count": null,
   "id": "a9116e24",
   "metadata": {},
   "outputs": [],
   "source": [
    "genes_use <- vapply(markers, function(x) rownames(x)[1], FUN.VALUE = character(1))\n",
    "plotExpression(sfe_tissue, rowData(sfe_tissue)[genes_use, \"symbol\"], x = \"cluster\",\n",
    "               colour_by = \"cluster\", swap_rownames = \"symbol\")"
   ]
  },
  {
   "cell_type": "markdown",
   "id": "23a68f27",
   "metadata": {
    "lines_to_next_cell": 0
   },
   "source": [
    "These genes are interesting to view in spatial context:"
   ]
  },
  {
   "cell_type": "code",
   "execution_count": null,
   "id": "f7237363",
   "metadata": {
    "fig.height": 6,
    "fig.width": 9
   },
   "outputs": [],
   "source": [
    "plotSpatialFeature(sfe_tissue, genes_use, colGeometryName = \"spotPoly\", ncol = 4) &\n",
    "    theme_void()"
   ]
  },
  {
   "cell_type": "markdown",
   "id": "2312e32a",
   "metadata": {
    "lines_to_next_cell": 0
   },
   "source": [
    "# Moran's I\n",
    "Tobler's first law of geography states that\n",
    "\n",
    "> Everything is related to everything else. But near things are more related than distant things.\n",
    "\n",
    "This observation motivates the examination of spatial autocorrelation. Positive spatial autocorrelation is evident when nearby things tend to be similar, such as that weather in Pasadena and downtown Los Angeles (as opposed to the weather in Pasadena and San Francisco). Negative spatial autocorrelation is evident when nearby things tend to be more dissimilar, like squares on a chessboard. Spatial autocorrelation can be arise from an intrinsic process such as diffusion or communication by physical contact, or result from a covariate that has such an intrinsic process, or in areal data, when the areal units of observation are smaller than the scale of the spatial process.\n",
    "\n",
    "The most commonly used measure of spatial autocorrelation is Moran's I, defined as\n",
    "\n",
    "$$\n",
    "I = \\frac{n}{\\sum_{i=1}^n \\sum_{j=1}^n w_{ij}} \\frac{\\sum_{i=1}^n \\sum_{j=1}^n w_{ij} (x_i - \\bar{x})(x_j - \\bar{x})}{\\sum_{i=1}^n (x_i - \\bar{x})^2},\n",
    "$$\n",
    "\n",
    "where $n$ is the number of spots or locations, $i$ and $j$ are different locations, or spots in the Visium context, $x$ is a variable with values at each location, and $w_{ij}$ is a spatial weight, which can be inversely proportional to distance between spots or an indicator of whether two spots are neighbors, subject to various definitions of neighborhood and whether to normalize the number of neighbors. The [`spdep`](https://r-spatial.github.io/spdep/index.html) package uses the neighborhood. \n",
    "\n",
    "Moran's I is similar to the Pearson correlation between the value at each location and the average value at its neighbors (but not identical, see [@Lee2001-tm]). Just like Pearson correlation, Moran's I is generally bound between -1 and 1, where positive value indicates positive spatial autocorrelation and negative value indicates negative spatial autocorrelation. \n",
    "Spatial dependence analysis in `spdep` requires a spatial neighborhood graph. The graph for adjacent Visium spot can be found with"
   ]
  },
  {
   "cell_type": "code",
   "execution_count": null,
   "id": "87a4ba82",
   "metadata": {
    "lines_to_next_cell": 2
   },
   "outputs": [],
   "source": [
    "colGraph(sfe_tissue, \"visium\") <- findVisiumGraph(sfe_tissue)"
   ]
  },
  {
   "cell_type": "markdown",
   "id": "91a58f39",
   "metadata": {
    "lines_to_next_cell": 0
   },
   "source": [
    "We mentioned that spatial autocorrelation is apparent in total UMI counts. Here's what Moran's I shows:"
   ]
  },
  {
   "cell_type": "code",
   "execution_count": null,
   "id": "f70e02a5",
   "metadata": {},
   "outputs": [],
   "source": [
    "calculateMoransI(t(colData(sfe_tissue)[,c(\"nCounts\", \"nGenes\")]), \n",
    "                 listw = colGraph(sfe_tissue, \"visium\"))"
   ]
  },
  {
   "cell_type": "markdown",
   "id": "bad5e16a",
   "metadata": {},
   "source": [
    "K means kurtosis. The positive values of Moran's I indicate positive spatial autocorrelation.\n",
    "\n",
    "## Spatially variable genes\n",
    "A spatially variable gene is a gene whose expression depends on spatial locations, rather than being spatially random, like salt grains spread on a soup. Spatially variable genes can be identified by spatial autocorrelation signatures, and sometimes Moran's I is used to compare and assess spatially variable genes identified with different methods. Below `BPPARAM` is used to parallelize the computation of Moran's I for 2000 highly variable genes, and 2 cores are used with the SNOW backend."
   ]
  },
  {
   "cell_type": "code",
   "execution_count": null,
   "id": "68acbf19",
   "metadata": {},
   "outputs": [],
   "source": [
    "sfe_tissue <- runMoransI(sfe_tissue, features = hvgs, colGraphName = \"visium\",\n",
    "                         BPPARAM = SnowParam(2))"
   ]
  },
  {
   "cell_type": "markdown",
   "id": "3ab25a42",
   "metadata": {
    "lines_to_next_cell": 0
   },
   "source": [
    "The results are stored in `rowData`"
   ]
  },
  {
   "cell_type": "code",
   "execution_count": null,
   "id": "9f4bb908",
   "metadata": {},
   "outputs": [],
   "source": [
    "rowData(sfe_tissue)"
   ]
  },
  {
   "cell_type": "markdown",
   "id": "5bd3c885",
   "metadata": {},
   "source": [
    "The `NA`'s are for genes that are not highly variable and Moran's I was not computed for those genes. We rank the genes by Moran's I and plot them in space as follows:"
   ]
  },
  {
   "cell_type": "code",
   "execution_count": null,
   "id": "90542ba1",
   "metadata": {},
   "outputs": [],
   "source": [
    "df <- rowData(sfe_tissue)[hvgs,]\n",
    "ord <- order(df$moran_Vis5A, decreasing = TRUE)\n",
    "df[ord, c(\"symbol\", \"moran_Vis5A\")]"
   ]
  },
  {
   "cell_type": "markdown",
   "id": "a0b71640",
   "metadata": {
    "lines_to_next_cell": 0
   },
   "source": [
    "We see that some genes that have strong positive spatial autocorrelation, but don't observe strong negative spatial autocorrelation. We can plot the genes with the strongest positive spatial autocorrelation in space:"
   ]
  },
  {
   "cell_type": "code",
   "execution_count": null,
   "id": "ec59a430",
   "metadata": {
    "fig.height": 6,
    "fig.width": 9
   },
   "outputs": [],
   "source": [
    "plotSpatialFeature(sfe_tissue, rownames(df)[1:6], colGeometryName = \"spotPoly\") &\n",
    "    theme_void()"
   ]
  },
  {
   "cell_type": "markdown",
   "id": "bc7ff016",
   "metadata": {
    "lines_to_next_cell": 0
   },
   "source": [
    "These genes do indeed look spatially variable. However, such spatial variability can simply be due to the histological regions in space, or in other words, spatial distribution of different cell types. There are many methods to identify spatially variable genes, often involving Gaussian process modeling, which are far more complex than Moran's I, such as [`SpatialDE`](https://bioconductor.org/packages/release/bioc/html/spatialDE.html) [@Svensson2018-sx]. However, such methods usually don't account for the histological regions, except for `C-SIDE` [@Cable2022-ma], which identifies spatially variable genes within cell types. This leads to the question of what is really meant by \"cell type\". It remains to see how spatial methods made specifically for identifying spatially variable genes compare with methods that don't explicitly use spatial information but simply perform differential analysis between cell types which often are in spatially defined histological regions. \n",
    "\n",
    "Another consideration in using Moran's I is the extent to which the strength of spatial autocorrelation varies in space. What if a gene exhibits strong spatial autocorrelation in one region, but not in another? Should the different histological regions be analyzed separately in some cases? \n",
    "\n",
    "There are ways to see whether Moran's I is statistically significant, and many other methods to explore spatial autocorrelation. These are discussed in the more advanced [ESDA Visium vignette](https://pachterlab.github.io/voyager/articles/vig2_visium.html). \n",
    "\n",
    "# Session Info"
   ]
  },
  {
   "cell_type": "code",
   "execution_count": null,
   "id": "30691324",
   "metadata": {},
   "outputs": [],
   "source": [
    "sessionInfo()"
   ]
  },
  {
   "cell_type": "markdown",
   "id": "1a28d9f8",
   "metadata": {},
   "source": [
    "# References"
   ]
  }
 ],
 "metadata": {
  "kernelspec": {
   "display_name": "R",
   "language": "R",
   "name": "ir"
  }
 },
 "nbformat": 4,
 "nbformat_minor": 5
}
