{
 "cells": [
  {
   "cell_type": "raw",
<<<<<<< HEAD
<<<<<<< HEAD
<<<<<<< HEAD
   "id": "11ce5e66",
||||||| merged common ancestors
   "id": "2d3fb3a1",
=======
   "id": "7c396788",
>>>>>>> documentation-devel
||||||| f5a2d7c
   "id": "7c396788",
=======
   "id": "81a8553f",
>>>>>>> documentation-devel
||||||| de7e30d
   "id": "11ce5e66",
=======
   "id": "204b52a1",
>>>>>>> 03b044928c05aca10f627eea0665560c78e150c1
   "metadata": {},
   "source": [
    "---\n",
    "title: \"Basic Visium exploratory data analysis\"\n",
    "author: \"Lambda Moses\"\n",
    "date: \"`r Sys.Date()`\"\n",
    "output: \n",
    "  html_document:\n",
    "  toc: true\n",
    "  toc_float:\n",
    "    collapsed: false\n",
    "  toc_depth: 3\n",
    "bibliography: ref.bib\n",
    "vignette: >\n",
    "  %\\VignetteIndexEntry{visium_basic}\n",
    "  %\\VignetteEngine{knitr::rmarkdown}\n",
    "  %\\VignetteEncoding{UTF-8}\n",
    "---"
   ]
  },
  {
   "cell_type": "code",
   "execution_count": null,
<<<<<<< HEAD
<<<<<<< HEAD
<<<<<<< HEAD
   "id": "f2577ffc",
||||||| merged common ancestors
   "id": "13f95b58",
=======
   "id": "47db2c5b",
>>>>>>> documentation-devel
||||||| f5a2d7c
   "id": "47db2c5b",
=======
   "id": "574c37c2",
>>>>>>> documentation-devel
||||||| de7e30d
   "id": "f2577ffc",
=======
   "id": "729c5ab2",
>>>>>>> 03b044928c05aca10f627eea0665560c78e150c1
   "metadata": {
    "tags": [
     "remove_cell"
    ]
   },
   "outputs": [],
   "source": [
    "knitr::opts_chunk$set(\n",
    "  collapse = TRUE,\n",
    "  comment = \"#>\", fig.align = \"center\"\n",
    ")"
   ]
  },
  {
   "cell_type": "code",
   "execution_count": null,
<<<<<<< HEAD
<<<<<<< HEAD
<<<<<<< HEAD
   "id": "41deded0",
||||||| merged common ancestors
   "id": "40721680",
=======
   "id": "6ee031a9",
>>>>>>> documentation-devel
||||||| f5a2d7c
   "id": "6ee031a9",
=======
   "id": "e4c20819",
>>>>>>> documentation-devel
||||||| de7e30d
   "id": "41deded0",
=======
   "id": "dbedb18e",
>>>>>>> 03b044928c05aca10f627eea0665560c78e150c1
   "metadata": {
    "eval": false,
    "tags": [
     "remove_cell"
    ]
   },
   "outputs": [],
   "source": [
    "# Install Google Colab dependencies\n",
    "# Note: this can take 30+ minutes (many of the dependencies include C++ code, which needs to be compiled)\n",
    "\n",
    "# First install `sf`, `ragg` and `textshaping` and their system dependencies:\n",
    "system(\"apt-get -y update && apt-get install -y  libudunits2-dev libgdal-dev libgeos-dev libproj-dev libharfbuzz-dev libfribidi-dev\")\n",
    "install.packages(\"sf\")\n",
    "install.packages(\"textshaping\")\n",
    "install.packages(\"ragg\")\n",
    "\n",
    "# Install system dependencies of some other R packages that Voyager either imports or suggests:\n",
    "system(\"apt-get install -y libfribidi-dev libcairo2-dev libmagick++-dev\")\n",
    "\n",
    "# Install Voyager from Bioconductor:\n",
    "install.packages(\"BiocManager\")\n",
    "BiocManager::install(version = \"3.17\", ask = FALSE, update = FALSE, Ncpus = 2)\n",
    "BiocManager::install(\"scater\")\n",
    "system.time(\n",
    "  BiocManager::install(\"Voyager\", dependencies = TRUE, Ncpus = 2, update = FALSE)\n",
    ")\n",
    "\n",
    "# Additional dependencies for this notebook\n",
    "install.packages(\"reticulate\")\n",
    "\n",
    "packageVersion(\"Voyager\")"
   ]
  },
  {
   "cell_type": "markdown",
<<<<<<< HEAD
<<<<<<< HEAD
<<<<<<< HEAD
   "id": "4705179d",
||||||| merged common ancestors
   "id": "d220916d",
=======
   "id": "563a5ca7",
>>>>>>> documentation-devel
||||||| f5a2d7c
   "id": "563a5ca7",
=======
   "id": "b0420759",
>>>>>>> documentation-devel
||||||| de7e30d
   "id": "4705179d",
=======
   "id": "18dd7ef2",
>>>>>>> 03b044928c05aca10f627eea0665560c78e150c1
   "metadata": {
    "lines_to_next_cell": 0
   },
   "source": [
    "# Introduction\n",
    "\n",
    "In this introductory vignette for the [`SpatialFeatureExperiment`](https://bioconductor.org/packages/devel/bioc/html/SpatialFeatureExperiment.html) data representation and [`Voyager`](https://bioconductor.org/packages/devel/bioc/html/Voyager.html) analysis package, we demonstrate a basic exploratory data analysis (EDA) of spatial transcriptomics data. Basic knowledge of R and [`SingleCellExperiment`](https://bioconductor.org/packages/release/bioc/html/SingleCellExperiment.html) is assumed.\n",
    "\n",
    "This vignette showcases the packages with a Visium spatial gene expression system dataset. The technology was chosen due to its popularity, and therefore the availability of numerous publicly available datasets for analysis [@Moses2022-xz].  \n",
    "\n",
    "![Bar chart showing the number of institutions using each spatial transcriptomics data collection method. Only methods used by at least 3 different institutions are shown. The bars are colored by category of the methods. 10X Visium which is based on sequence barcoding is used by over 100 institutions. Following Visium are GeoMX DSP and GeoMX WTA which are \"regions of interest\" (ROI) methods, along with 2016 ST and some other ROI selection methods.](https://pachterlab.github.io/LP_2021/04-current_files/figure-html/n-insts-1.png)\n",
    "While Voyager was developed with the goal of facilitating the use of geospatial methods in spatial genomics, this introductory vignette is restricted to non-spatial scRNA-seq EDA with the Visium dataset. For a vignette illustrating univariate spatial analysis with the same dataset, see the more advanced [exploratory spatial data analyis vignette](https://pachterlab.github.io/voyager/articles/vig2_visium.html) with the same dataset.\n",
    "\n",
    "Here we load the packages used in this vignette."
   ]
  },
  {
   "cell_type": "code",
   "execution_count": null,
<<<<<<< HEAD
<<<<<<< HEAD
<<<<<<< HEAD
   "id": "13e2edcc",
||||||| merged common ancestors
   "id": "8b02a798",
=======
   "id": "f982b12c",
>>>>>>> documentation-devel
||||||| f5a2d7c
   "id": "f982b12c",
=======
   "id": "460c6ac6",
>>>>>>> documentation-devel
||||||| de7e30d
   "id": "13e2edcc",
=======
   "id": "b49c1068",
>>>>>>> 03b044928c05aca10f627eea0665560c78e150c1
   "metadata": {
    "message": false,
    "name": "setup"
   },
   "outputs": [],
   "source": [
    "library(Voyager)\n",
    "library(SpatialFeatureExperiment)\n",
    "library(SingleCellExperiment)\n",
    "library(SpatialExperiment)\n",
    "library(scater)\n",
    "library(scran)\n",
    "library(patchwork)\n",
    "library(bluster)\n",
    "library(SFEData)\n",
    "library(BiocParallel)\n",
    "library(stringr)\n",
    "library(ggplot2)\n",
    "library(sparseMatrixStats)\n",
    "library(dplyr)\n",
    "library(reticulate)\n",
    "library(concordexR)\n",
    "library(BiocNeighbors)\n",
    "theme_set(theme_bw(10))"
   ]
  },
  {
   "cell_type": "code",
   "execution_count": null,
<<<<<<< HEAD
<<<<<<< HEAD
<<<<<<< HEAD
   "id": "2dff89d8",
||||||| merged common ancestors
   "id": "b77992cd",
=======
   "id": "5b38dc10",
>>>>>>> documentation-devel
||||||| f5a2d7c
   "id": "5b38dc10",
=======
   "id": "ace03374",
>>>>>>> documentation-devel
||||||| de7e30d
   "id": "2dff89d8",
=======
   "id": "19d4a011",
>>>>>>> 03b044928c05aca10f627eea0665560c78e150c1
   "metadata": {},
   "outputs": [],
   "source": [
    "# Specify Python version to use gget\n",
    "PY_PATH <- Sys.which(\"python\")\n",
    "use_python(PY_PATH)\n",
    "py_config()"
   ]
  },
  {
   "cell_type": "code",
   "execution_count": null,
<<<<<<< HEAD
<<<<<<< HEAD
<<<<<<< HEAD
   "id": "9adb3df3",
||||||| merged common ancestors
   "id": "9330126e",
=======
   "id": "ccc7026b",
>>>>>>> documentation-devel
||||||| f5a2d7c
   "id": "ccc7026b",
=======
   "id": "5efebb94",
>>>>>>> documentation-devel
||||||| de7e30d
   "id": "9adb3df3",
=======
   "id": "b50c76f8",
>>>>>>> 03b044928c05aca10f627eea0665560c78e150c1
   "metadata": {
    "eval": false,
    "tags": [
     "remove_cell"
    ]
   },
   "outputs": [],
   "source": [
    "system(\"pip3 install gget\")"
   ]
  },
  {
   "cell_type": "code",
   "execution_count": null,
<<<<<<< HEAD
<<<<<<< HEAD
<<<<<<< HEAD
   "id": "7096159b",
||||||| merged common ancestors
   "id": "69462e6b",
=======
   "id": "dfe18c26",
>>>>>>> documentation-devel
||||||| f5a2d7c
   "id": "dfe18c26",
=======
   "id": "5aec5ceb",
>>>>>>> documentation-devel
||||||| de7e30d
   "id": "7096159b",
=======
   "id": "1d3297c7",
>>>>>>> 03b044928c05aca10f627eea0665560c78e150c1
   "metadata": {},
   "outputs": [],
   "source": [
    "gget <- import(\"gget\")"
   ]
  },
  {
   "cell_type": "markdown",
<<<<<<< HEAD
<<<<<<< HEAD
<<<<<<< HEAD
   "id": "1f63e8b5",
||||||| merged common ancestors
   "id": "e193659c",
=======
   "id": "a780e0e4",
>>>>>>> documentation-devel
||||||| f5a2d7c
   "id": "a780e0e4",
=======
   "id": "0776857c",
>>>>>>> documentation-devel
||||||| de7e30d
   "id": "1f63e8b5",
=======
   "id": "f158c295",
>>>>>>> 03b044928c05aca10f627eea0665560c78e150c1
   "metadata": {},
   "source": [
    "# Mouse skeletal muscle dataset\n",
    "The dataset used in this vignette is from the paper [Large-scale integration of single-cell transcriptomic data captures transitional progenitor states in mouse skeletal muscle regeneration](https://doi.org/10.1038/s42003-021-02810-x) [@McKellar2021-ek]. Notexin was injected into the tibialis anterior muscle of mice to induce injury, and the healing muscle was collected 2, 5, and 7 days post injury for Visium analysis. The dataset in this vignette is from the timepoint at day 2. The vignette starts with a `SpatialFeatureExperiment` (SFE) object.\n",
    "\n",
    "The gene count matrix was directly downloaded [from GEO](https://www.ncbi.nlm.nih.gov/geo/query/acc.cgi?acc=GSM4904759). All 4992 spots, whether in tissue or not, are included. The tissue boundary was found by thresholding the H&E image in OpenCV, and small polygons were removed as they are likely to be debris. Spot polygons were constructed with the spot centroid coordinates and diameter in the Space Ranger output. The `in_tissue` column in `colData` indicates which spot polygons intersect the tissue polygons, and is based on `st_intersects()`. \n",
    "\n",
    "Tissue boundary, nuclei, myofiber, and Visium spot polygons are stored as `sf` data frames in the SFE object. The Visium spot polygons are called \"spotPoly\" in this SFE object. The `SpatialFeatureExperiment` package has a few convenience wrappers to get and set common types of geometries, including `spotPoly()` for Visium (or other technologies when relevant) spot polygons, `cellSeg()` for cell segmentation, `nucSeg()` for nuclei segmentation, and `centroids()` for cell centroids. Behind the scene are specially named `sf` data frames. See [the vignette of `SpatialFeatureExperiment`](https://bioconductor.org/packages/devel/bioc/vignettes/SpatialFeatureExperiment/inst/doc/SFE.html) for more details on the structure of the SFE object. \n",
    "\n",
    "The SFE object of this dataset is provided in the `SFEData` package; we begin by downloading the data and loading it into R."
   ]
  },
  {
   "cell_type": "code",
   "execution_count": null,
<<<<<<< HEAD
<<<<<<< HEAD
<<<<<<< HEAD
   "id": "fa78555e",
||||||| merged common ancestors
   "id": "fe5e9876",
=======
   "id": "8b27f402",
>>>>>>> documentation-devel
||||||| f5a2d7c
   "id": "8b27f402",
=======
   "id": "05106413",
>>>>>>> documentation-devel
||||||| de7e30d
   "id": "fa78555e",
=======
   "id": "5898f7d5",
>>>>>>> 03b044928c05aca10f627eea0665560c78e150c1
   "metadata": {},
   "outputs": [],
   "source": [
    "(sfe <- McKellarMuscleData(\"full\"))"
   ]
  },
  {
   "cell_type": "markdown",
<<<<<<< HEAD
<<<<<<< HEAD
<<<<<<< HEAD
   "id": "c1563825",
||||||| merged common ancestors
   "id": "65e501fc",
=======
   "id": "749a291d",
>>>>>>> documentation-devel
||||||| f5a2d7c
   "id": "749a291d",
=======
   "id": "92e3ee64",
>>>>>>> documentation-devel
||||||| de7e30d
   "id": "c1563825",
=======
   "id": "a97ec717",
>>>>>>> 03b044928c05aca10f627eea0665560c78e150c1
   "metadata": {
    "lines_to_next_cell": 0
   },
   "source": [
    "The authors provided the full resolution hematoxylin and eosin (H&E) image on GEO, which we downsized to facilitate its display:\n",
    "![A cross section of mouse muscle is slightly off center to the lower left. In the middle of the tissue is the notexin injury site with leukocyte infiltration and fewer myofibers. The rest of the tissue section is tightly packed with myofibers.](https://raw.githubusercontent.com/pachterlab/voyager/documentation/vignettes/tissue_lowres_5a.jpeg)\n",
    "\n",
    "The image can be added to the SFE object and plotted behind the geometries, and needs to be flipped to align to the spots because the origin is at the top left for the image but bottom left for geometries."
   ]
  },
  {
   "cell_type": "code",
   "execution_count": null,
<<<<<<< HEAD
<<<<<<< HEAD
<<<<<<< HEAD
   "id": "0ccd2e02",
||||||| merged common ancestors
   "id": "d32796aa",
=======
   "id": "f09aaf36",
>>>>>>> documentation-devel
||||||| f5a2d7c
   "id": "f09aaf36",
=======
   "id": "fdf66f26",
>>>>>>> documentation-devel
||||||| de7e30d
   "id": "0ccd2e02",
=======
   "id": "0a2a2f42",
>>>>>>> 03b044928c05aca10f627eea0665560c78e150c1
   "metadata": {
    "lines_to_next_cell": 2
   },
   "outputs": [],
   "source": [
    "sfe <- addImg(sfe, file = \"tissue_lowres_5a.jpeg\", sample_id = \"Vis5A\", \n",
    "              image_id = \"lowres\", \n",
    "              scale_fct = 1024/22208)\n",
    "sfe <- mirrorImg(sfe, sample_id = \"Vis5A\", image_id = \"lowres\")"
   ]
  },
  {
   "cell_type": "markdown",
<<<<<<< HEAD
<<<<<<< HEAD
<<<<<<< HEAD
   "id": "cea735bd",
||||||| merged common ancestors
   "id": "be4035b4",
=======
   "id": "5e57fee4",
>>>>>>> documentation-devel
||||||| f5a2d7c
   "id": "5e57fee4",
=======
   "id": "254d5c39",
>>>>>>> documentation-devel
||||||| de7e30d
   "id": "cea735bd",
=======
   "id": "06af3a1d",
>>>>>>> 03b044928c05aca10f627eea0665560c78e150c1
   "metadata": {},
   "source": [
    "# Quality control\n",
    "## Spots\n",
    "We begin quality control (QC) by plotting various metrics both as violin plots and in space. The QC metrics are pre-computed and stored in `colData` (for spots) and `rowData` of the SFE object."
   ]
  },
  {
   "cell_type": "code",
   "execution_count": null,
<<<<<<< HEAD
<<<<<<< HEAD
<<<<<<< HEAD
   "id": "4d81975b",
||||||| merged common ancestors
   "id": "94195e2f",
=======
   "id": "ef21eeea",
>>>>>>> documentation-devel
||||||| f5a2d7c
   "id": "ef21eeea",
=======
   "id": "812edfa2",
>>>>>>> documentation-devel
||||||| de7e30d
   "id": "4d81975b",
=======
   "id": "2a38d3a3",
>>>>>>> 03b044928c05aca10f627eea0665560c78e150c1
   "metadata": {},
   "outputs": [],
   "source": [
    "names(colData(sfe))"
   ]
  },
  {
   "cell_type": "markdown",
<<<<<<< HEAD
<<<<<<< HEAD
<<<<<<< HEAD
   "id": "e80d803f",
||||||| merged common ancestors
   "id": "f1bf1068",
=======
   "id": "ca9978a2",
>>>>>>> documentation-devel
||||||| f5a2d7c
   "id": "ca9978a2",
=======
   "id": "0ea3ae0a",
>>>>>>> documentation-devel
||||||| de7e30d
   "id": "e80d803f",
=======
   "id": "0d209fc6",
>>>>>>> 03b044928c05aca10f627eea0665560c78e150c1
   "metadata": {
    "lines_to_next_cell": 0
   },
   "source": [
    "Below we plot the total unique molecular identifier (UMI) counts per spot. The commented out line of code shows how to compute the total UMI counts. The `maxcell` argument is the maximum number of pixels to plot for the image; the image is downsampled if it has more pixels than `maxcells`. This can speed up plotting when plotting the same image in multiple facets."
   ]
  },
  {
   "cell_type": "code",
   "execution_count": null,
<<<<<<< HEAD
<<<<<<< HEAD
<<<<<<< HEAD
   "id": "22244164",
||||||| merged common ancestors
   "id": "71649405",
=======
   "id": "c2014c85",
>>>>>>> documentation-devel
||||||| f5a2d7c
   "id": "c2014c85",
=======
   "id": "49f8a65b",
>>>>>>> documentation-devel
||||||| de7e30d
   "id": "22244164",
=======
   "id": "5d9cd162",
>>>>>>> 03b044928c05aca10f627eea0665560c78e150c1
   "metadata": {},
   "outputs": [],
   "source": [
    "# colData(sfe)$nCounts <- colSums(counts(sfe))\n",
    "violin <- plotColData(sfe, \"nCounts\", x = \"in_tissue\", colour_by = \"in_tissue\") +\n",
    "    theme(legend.position = \"top\")\n",
    "spatial <- plotSpatialFeature(sfe, \"nCounts\", colGeometryName = \"spotPoly\",\n",
    "                              annotGeometryName = \"tissueBoundary\", \n",
    "                              image = \"lowres\", maxcell = 5e4,\n",
    "                              annot_fixed = list(fill = NA, color = \"black\")) +\n",
    "    theme_void()\n",
    "violin + spatial"
   ]
  },
  {
   "cell_type": "markdown",
<<<<<<< HEAD
<<<<<<< HEAD
<<<<<<< HEAD
   "id": "65a41d61",
||||||| merged common ancestors
   "id": "746c5764",
=======
   "id": "bb31005d",
>>>>>>> documentation-devel
||||||| f5a2d7c
   "id": "bb31005d",
=======
   "id": "87c4a345",
>>>>>>> documentation-devel
||||||| de7e30d
   "id": "65a41d61",
=======
   "id": "568bdd81",
>>>>>>> 03b044928c05aca10f627eea0665560c78e150c1
   "metadata": {
    "lines_to_next_cell": 0
   },
   "source": [
    "Some spots in the injury site with leukocyte infiltration have high total counts. Spatial autocorrelation of the total counts is apparent, which will be discussed in a later section of this vignette.\n",
    "\n",
    "Next we find number of genes detected per spot. The commented out line of code shows how to find the number of genes detected."
   ]
  },
  {
   "cell_type": "code",
   "execution_count": null,
<<<<<<< HEAD
<<<<<<< HEAD
<<<<<<< HEAD
   "id": "ac250169",
||||||| merged common ancestors
   "id": "1344d8d9",
=======
   "id": "72590229",
>>>>>>> documentation-devel
||||||| f5a2d7c
   "id": "72590229",
=======
   "id": "cfba5701",
>>>>>>> documentation-devel
||||||| de7e30d
   "id": "ac250169",
=======
   "id": "1d0437de",
>>>>>>> 03b044928c05aca10f627eea0665560c78e150c1
   "metadata": {},
   "outputs": [],
   "source": [
    "# colData(sfe)$nGenes <- colSums(counts(sfe) > 0)\n",
    "violin <- plotColData(sfe, \"nGenes\", x = \"in_tissue\", colour_by = \"in_tissue\") +\n",
    "    theme(legend.position = \"top\")\n",
    "spatial <- plotSpatialFeature(sfe, \"nGenes\", colGeometryName = \"spotPoly\",\n",
    "                              annotGeometryName = \"tissueBoundary\",\n",
    "                              image = \"lowres\", maxcell = 5e4,\n",
    "                              annot_fixed = list(fill = NA, color = \"black\")) +\n",
    "    theme_void()\n",
    "violin + spatial"
   ]
  },
  {
   "cell_type": "markdown",
<<<<<<< HEAD
<<<<<<< HEAD
<<<<<<< HEAD
   "id": "c7c56123",
||||||| merged common ancestors
   "id": "58fd3b4e",
=======
   "id": "a37cca3d",
>>>>>>> documentation-devel
||||||| f5a2d7c
   "id": "a37cca3d",
=======
   "id": "d3704b90",
>>>>>>> documentation-devel
||||||| de7e30d
   "id": "c7c56123",
=======
   "id": "a56c7579",
>>>>>>> 03b044928c05aca10f627eea0665560c78e150c1
   "metadata": {
    "lines_to_next_cell": 0
   },
   "source": [
    "As commonly done for scRNA-seq data, here we plot nCounts vs. nGenes"
   ]
  },
  {
   "cell_type": "code",
   "execution_count": null,
<<<<<<< HEAD
<<<<<<< HEAD
<<<<<<< HEAD
   "id": "21a2c286",
||||||| merged common ancestors
   "id": "7cac4487",
=======
   "id": "3d462f37",
>>>>>>> documentation-devel
||||||| f5a2d7c
   "id": "3d462f37",
=======
   "id": "058d81fb",
>>>>>>> documentation-devel
||||||| de7e30d
   "id": "21a2c286",
=======
   "id": "3fa4cd39",
>>>>>>> 03b044928c05aca10f627eea0665560c78e150c1
   "metadata": {},
   "outputs": [],
   "source": [
    "plotColData(sfe, x = \"nCounts\", y = \"nGenes\", colour_by = \"in_tissue\")"
   ]
  },
  {
   "cell_type": "markdown",
<<<<<<< HEAD
<<<<<<< HEAD
<<<<<<< HEAD
   "id": "f605e4de",
||||||| merged common ancestors
   "id": "a3cf2656",
=======
   "id": "ebd11c43",
>>>>>>> documentation-devel
||||||| f5a2d7c
   "id": "ebd11c43",
=======
   "id": "18942609",
>>>>>>> documentation-devel
||||||| de7e30d
   "id": "f605e4de",
=======
   "id": "d2433ebb",
>>>>>>> 03b044928c05aca10f627eea0665560c78e150c1
   "metadata": {
    "lines_to_next_cell": 0
   },
   "source": [
    "This plot has two branches for the spots in tissue, which turn out to be related to myofiber size. See [the exploratory spatial data analysis (ESDA) Visium vignette](https://pachterlab.github.io/voyager/articles/vig2_visium.html).\n",
    "\n",
    "As is commonly done for scRNA-seq data, we plot the proportion of mitochondrially encoded counts. The commented out code shows how to find this proportion:"
   ]
  },
  {
   "cell_type": "code",
   "execution_count": null,
<<<<<<< HEAD
<<<<<<< HEAD
<<<<<<< HEAD
   "id": "c7b76907",
||||||| merged common ancestors
   "id": "e23275c3",
=======
   "id": "1408c53b",
>>>>>>> documentation-devel
||||||| f5a2d7c
   "id": "1408c53b",
=======
   "id": "d33e8373",
>>>>>>> documentation-devel
||||||| de7e30d
   "id": "c7b76907",
=======
   "id": "8e199b46",
>>>>>>> 03b044928c05aca10f627eea0665560c78e150c1
   "metadata": {},
   "outputs": [],
   "source": [
    "# mito_ind <- str_detect(rowData(sfe)$symbol, \"^Mt-\")\n",
    "# colData(sfe)$prop_mito <- colSums(counts(sfe)[mito_ind,]) / colData(sfe)$nCounts\n",
    "violin <- plotColData(sfe, \"prop_mito\", x = \"in_tissue\", colour_by = \"in_tissue\") +\n",
    "    theme(legend.position = \"top\")\n",
    "spatial <- plotSpatialFeature(sfe, \"prop_mito\", colGeometryName = \"spotPoly\",\n",
    "                              annotGeometryName = \"tissueBoundary\",\n",
    "                              image = \"lowres\", maxcell = 5e4,\n",
    "                              annot_fixed = list(fill = NA, color = \"black\")) +\n",
    "    theme_void()\n",
    "violin + spatial"
   ]
  },
  {
   "cell_type": "markdown",
<<<<<<< HEAD
<<<<<<< HEAD
<<<<<<< HEAD
   "id": "80f29e7d",
||||||| merged common ancestors
   "id": "8dd558f3",
=======
   "id": "ab9e5ca5",
>>>>>>> documentation-devel
||||||| f5a2d7c
   "id": "ab9e5ca5",
=======
   "id": "58019cfb",
>>>>>>> documentation-devel
||||||| de7e30d
   "id": "80f29e7d",
=======
   "id": "c843609f",
>>>>>>> 03b044928c05aca10f627eea0665560c78e150c1
   "metadata": {
    "lines_to_next_cell": 0
   },
   "source": [
    "As expected, spots outside tissue have a higher proportion of mitochondrial counts, because when the tissue is lysed, mitochondrial transcripts are are less likely to degrade than cytosolic transcripts as they are protected by a double membrane. However, spots on myofibers also have a high proportion of mitochondrial counts, because of the function of myofibers. The injury site with leukocyte infiltration has a lower proportion of mitochondrial counts.\n",
    "\n",
    "To see the relationship between the proportion of mitochondrial counts and total UMI counts,  we plot them against each other as is commonly done in scRNA-seq analysis to identify low quality cells, i.e. cells with few UMI counts and a high proportion of mitochondrial counts."
   ]
  },
  {
   "cell_type": "code",
   "execution_count": null,
<<<<<<< HEAD
<<<<<<< HEAD
<<<<<<< HEAD
   "id": "17d36c93",
||||||| merged common ancestors
   "id": "9121b931",
=======
   "id": "f8345c6b",
>>>>>>> documentation-devel
||||||| f5a2d7c
   "id": "f8345c6b",
=======
   "id": "2800fcf2",
>>>>>>> documentation-devel
||||||| de7e30d
   "id": "17d36c93",
=======
   "id": "30e8dd5a",
>>>>>>> 03b044928c05aca10f627eea0665560c78e150c1
   "metadata": {},
   "outputs": [],
   "source": [
    "plotColData(sfe, x = \"nCounts\", y = \"prop_mito\", colour_by = \"in_tissue\")"
   ]
  },
  {
   "cell_type": "markdown",
<<<<<<< HEAD
<<<<<<< HEAD
<<<<<<< HEAD
   "id": "4870090c",
||||||| merged common ancestors
   "id": "dba57e40",
=======
   "id": "0db3747b",
>>>>>>> documentation-devel
||||||| f5a2d7c
   "id": "0db3747b",
=======
   "id": "6fd0eb17",
>>>>>>> documentation-devel
||||||| de7e30d
   "id": "4870090c",
=======
   "id": "37d76d13",
>>>>>>> 03b044928c05aca10f627eea0665560c78e150c1
   "metadata": {
    "lines_to_next_cell": 0
   },
   "source": [
    "There are two clusters for the spots in tissue, which also turn out to be related to myofiber size. See the [ESDA Visium vignette](https://pachterlab.github.io/voyager/articles/vig2_visium.html). \n",
    "\n",
    "So far we haven't seen spots that are obvious outliers in these QC metrics.\n",
    "\n",
    "The following analyses only use spots in tissue, which are selected as follows:"
   ]
  },
  {
   "cell_type": "code",
   "execution_count": null,
<<<<<<< HEAD
<<<<<<< HEAD
<<<<<<< HEAD
   "id": "ad769a01",
||||||| merged common ancestors
   "id": "6f7a85ad",
=======
   "id": "bcc29577",
>>>>>>> documentation-devel
||||||| f5a2d7c
   "id": "bcc29577",
=======
   "id": "4e8c5e63",
>>>>>>> documentation-devel
||||||| de7e30d
   "id": "ad769a01",
=======
   "id": "95630e6e",
>>>>>>> 03b044928c05aca10f627eea0665560c78e150c1
   "metadata": {},
   "outputs": [],
   "source": [
    "sfe_tissue <- sfe[, colData(sfe)$in_tissue]\n",
    "sfe_tissue <- sfe_tissue[rowSums(counts(sfe_tissue)) > 0,]"
   ]
  },
  {
   "cell_type": "markdown",
<<<<<<< HEAD
<<<<<<< HEAD
<<<<<<< HEAD
   "id": "bb3242a6",
||||||| merged common ancestors
   "id": "36b68bf4",
=======
   "id": "088a0a08",
>>>>>>> documentation-devel
||||||| f5a2d7c
   "id": "088a0a08",
=======
   "id": "e9d26732",
>>>>>>> documentation-devel
||||||| de7e30d
   "id": "bb3242a6",
=======
   "id": "baf39a45",
>>>>>>> 03b044928c05aca10f627eea0665560c78e150c1
   "metadata": {
    "lines_to_next_cell": 0
   },
   "source": [
    "## Genes\n",
    "As in scRNA-seq, gene expression variance in Visium measurements is overdispersed compared to variance of counts that are Poisson distributed.\n",
    "\n",
    "To understand the mean-variance relationship, we compute the mean, variance, and coefficient of variance (CV2) for each gene among spots in tissue:"
   ]
  },
  {
   "cell_type": "code",
   "execution_count": null,
<<<<<<< HEAD
<<<<<<< HEAD
<<<<<<< HEAD
   "id": "d132aaae",
||||||| merged common ancestors
   "id": "51be1cf8",
=======
   "id": "0cf45798",
>>>>>>> documentation-devel
||||||| f5a2d7c
   "id": "0cf45798",
=======
   "id": "ce520bda",
>>>>>>> documentation-devel
||||||| de7e30d
   "id": "d132aaae",
=======
   "id": "8d0f6ffe",
>>>>>>> 03b044928c05aca10f627eea0665560c78e150c1
   "metadata": {},
   "outputs": [],
   "source": [
    "rowData(sfe_tissue)$means <- rowMeans(counts(sfe_tissue))\n",
    "rowData(sfe_tissue)$vars <- rowVars(counts(sfe_tissue))\n",
    "# Coefficient of variance\n",
    "rowData(sfe_tissue)$cv2 <- rowData(sfe_tissue)$vars/rowData(sfe_tissue)$means^2"
   ]
  },
  {
   "cell_type": "markdown",
<<<<<<< HEAD
<<<<<<< HEAD
<<<<<<< HEAD
   "id": "3c6aba4a",
||||||| merged common ancestors
   "id": "48513008",
=======
   "id": "7daa7a16",
>>>>>>> documentation-devel
||||||| f5a2d7c
   "id": "7daa7a16",
=======
   "id": "b9603e0c",
>>>>>>> documentation-devel
||||||| de7e30d
   "id": "3c6aba4a",
=======
   "id": "a7ed6248",
>>>>>>> 03b044928c05aca10f627eea0665560c78e150c1
   "metadata": {
    "lines_to_next_cell": 0
   },
   "source": [
    "To avoid overplotting and better show point density on the plot, we use a 2D histogram. The color of each bin indicates the number of points in that bin."
   ]
  },
  {
   "cell_type": "code",
   "execution_count": null,
<<<<<<< HEAD
<<<<<<< HEAD
<<<<<<< HEAD
   "id": "9720a22e",
||||||| merged common ancestors
   "id": "b5bb6dfa",
=======
   "id": "6f44ac29",
>>>>>>> documentation-devel
||||||| f5a2d7c
   "id": "6f44ac29",
=======
   "id": "b6fe3442",
>>>>>>> documentation-devel
||||||| de7e30d
   "id": "9720a22e",
=======
   "id": "c0af6482",
>>>>>>> 03b044928c05aca10f627eea0665560c78e150c1
   "metadata": {},
   "outputs": [],
   "source": [
    "plotRowDataBin2D(sfe, \"means\", \"vars\", bins = 50) +\n",
    "    geom_abline(slope = 1, intercept = 0, color = \"red\") +\n",
    "    scale_x_log10() + scale_y_log10() +\n",
    "    annotation_logticks() +\n",
    "    coord_equal()"
   ]
  },
  {
   "cell_type": "markdown",
<<<<<<< HEAD
<<<<<<< HEAD
<<<<<<< HEAD
   "id": "21853746",
||||||| merged common ancestors
   "id": "4360c60f",
=======
   "id": "d49aa74a",
>>>>>>> documentation-devel
||||||| f5a2d7c
   "id": "d49aa74a",
=======
   "id": "e45ba566",
>>>>>>> documentation-devel
||||||| de7e30d
   "id": "21853746",
=======
   "id": "30815097",
>>>>>>> 03b044928c05aca10f627eea0665560c78e150c1
   "metadata": {},
   "source": [
    "The red line, $y = x$ is what is expected for Poisson distributed data, but we find that the variance is higher for more highly expressed genes than expected from Poisson distributed counts. The coefficient of variation shows the same."
   ]
  },
  {
   "cell_type": "code",
   "execution_count": null,
<<<<<<< HEAD
<<<<<<< HEAD
<<<<<<< HEAD
   "id": "fd06e9ee",
||||||| merged common ancestors
   "id": "16cd6ad3",
=======
   "id": "04a5d23f",
>>>>>>> documentation-devel
||||||| f5a2d7c
   "id": "04a5d23f",
=======
   "id": "69cf9cc6",
>>>>>>> documentation-devel
||||||| de7e30d
   "id": "fd06e9ee",
=======
   "id": "7533796b",
>>>>>>> 03b044928c05aca10f627eea0665560c78e150c1
   "metadata": {},
   "outputs": [],
   "source": [
    "plotRowDataBin2D(sfe, \"means\", \"cv2\", bins = 50) +\n",
    "    geom_abline(slope = -1, intercept = 0, color = \"red\") +\n",
    "    scale_x_log10() + scale_y_log10() +\n",
    "    annotation_logticks() +\n",
    "    coord_equal()"
   ]
  },
  {
   "cell_type": "markdown",
<<<<<<< HEAD
<<<<<<< HEAD
<<<<<<< HEAD
   "id": "2098da8a",
||||||| merged common ancestors
   "id": "8bd71d6b",
=======
   "id": "ecab90d3",
>>>>>>> documentation-devel
||||||| f5a2d7c
   "id": "ecab90d3",
=======
   "id": "373aa299",
>>>>>>> documentation-devel
||||||| de7e30d
   "id": "2098da8a",
=======
   "id": "7617d2ae",
>>>>>>> 03b044928c05aca10f627eea0665560c78e150c1
   "metadata": {},
   "source": [
    "# Normalize data\n",
    "\n",
    "We demonstrate the use of `scater` for normalization below, although we note that it is not necessarily the best approach to normalizing spatial transcriptomics data. The problem of when and how to normalize spatial transcriptomics data is non-trivial because, as the `nCounts` plot in space shows above, spatial autocorrelation is evident. Furthemrore, in Visium, reverse transcription occurs in situ on the spots, but PCR amplification occurs after the cDNA is dissociated from the spots. Artifacts may be subsequently introduced from the amplification step, and these would not be associated with spatial origin. Spatial artifacts may arise from the diffusion of transcripts and tissue permeablization. However, given how the total counts seem to correspond to histological regions, the total counts may have a biological component and hence should not be treated as a technical artifact to be normalized away as in scRNA-seq data normalization methods. In other words, the issue of normalization for spatial transcriptomics data, and Visium in particular, is complex and is currently unsolved.\n",
    "\n",
    "There is no one way to normalize non-spatial scRNA-seq data. The commented out code implements the `scran` method [@Lun2016-yq]. To simplify the matter, we only perform `logNormCounts()` in this introductory vignette. \n",
    "\n",
    "Note that `scater`'s `logNormCounts()` is quite different from that in Seurat. Let $N$ denote the total UMI count in one Visium spot, $\\bar N$ the average total UMI count in all spots in this dataset, and $x$ denote the UMI count of one gene in the Visium spot of interest. Seurat performs log normalization as $\\mathrm{log}\\left( \\frac{x}{N/10000} + 1 \\right)$, where the natural log is used. In contrast, with default parameters, `scater` uses $\\mathrm{log_2}\\left( \\frac{x}{N/\\bar N} + 1 \\right)$. The pseudocount (default to 1), library size factors (default to $N/\\bar N$), and transform (default to log2) can be changed. Log 2 is used because differences in values can be interpreted as log fold change."
   ]
  },
  {
   "cell_type": "code",
   "execution_count": null,
<<<<<<< HEAD
<<<<<<< HEAD
<<<<<<< HEAD
   "id": "71bf2888",
||||||| merged common ancestors
   "id": "37ef4116",
=======
   "id": "2d3de507",
>>>>>>> documentation-devel
||||||| f5a2d7c
   "id": "2d3de507",
=======
   "id": "3c2a0281",
>>>>>>> documentation-devel
||||||| de7e30d
   "id": "71bf2888",
=======
   "id": "be91f55c",
>>>>>>> 03b044928c05aca10f627eea0665560c78e150c1
   "metadata": {},
   "outputs": [],
   "source": [
    "# clusters <- quickCluster(sfe_tissue)\n",
    "# sfe_tissue <- computeSumFactors(sfe_tissue, clusters=clusters)\n",
    "# sfe_tissue <- sfe_tissue[, sizeFactors(sfe_tissue) > 0]\n",
    "sfe_tissue <- logNormCounts(sfe_tissue)"
   ]
  },
  {
   "cell_type": "markdown",
<<<<<<< HEAD
<<<<<<< HEAD
<<<<<<< HEAD
   "id": "505d9eae",
||||||| merged common ancestors
   "id": "bc833e23",
=======
   "id": "70793616",
>>>>>>> documentation-devel
||||||| f5a2d7c
   "id": "70793616",
=======
   "id": "6bcba475",
>>>>>>> documentation-devel
||||||| de7e30d
   "id": "505d9eae",
=======
   "id": "451d7415",
>>>>>>> 03b044928c05aca10f627eea0665560c78e150c1
   "metadata": {
    "lines_to_next_cell": 0
   },
   "source": [
    "Next, we identify highly variable genes (HVGs), which will be used for principal component analysis (PCA) dimensionality reduction. Again, there are different ways to identify HVGs, and `scater` does so differently from Seurat. In both frameworks, the log normalized data is used by default. In summary, in Seurat, with default parameters, a Loess curve is fitted to the log transformed data (the log normalized data is log transformed for fitting purposes), and the fitted values are exponentiated as the expected variance for each gene. Then the expected variance and the mean are used to standardize the log normalized gene expression; the standardized values are used to calculate a standardized variance for each gene. The top HVGs are the genes with the largest standardized variance.\n",
    "\n",
    "In `scater`, with default parameters, a parametric non-linear curve of variance vs. mean for each gene of the log normalized data. Then the log ratio of the actual variance to the fitted variance from the curve calculated, and a Loess curve is fitted to this log ratio vs. mean for each gene. The \"technical\" component of the variance is the fitted values from the Loess curve. The \"biological\" component is the difference between the actual variance and the Loess fitted variance. The top HVGs are genes with the largest biological component. See the documentation of `modelGeneVar()`, `fitTrendVar()`, and `getTopHVGs()` for more details.\n",
    "\n",
    "These differences can lead to different downstream results. While we don't comment on which way is better in this vignette, it's important to be aware of such differences."
   ]
  },
  {
   "cell_type": "code",
   "execution_count": null,
<<<<<<< HEAD
<<<<<<< HEAD
<<<<<<< HEAD
   "id": "65b212aa",
||||||| merged common ancestors
   "id": "a18ad579",
=======
   "id": "aed005bb",
>>>>>>> documentation-devel
||||||| f5a2d7c
   "id": "aed005bb",
=======
   "id": "926d9949",
>>>>>>> documentation-devel
||||||| de7e30d
   "id": "65b212aa",
=======
   "id": "c74605f9",
>>>>>>> 03b044928c05aca10f627eea0665560c78e150c1
   "metadata": {},
   "outputs": [],
   "source": [
    "dec <- modelGeneVar(sfe_tissue)\n",
    "hvgs <- getTopHVGs(dec, n = 2000)"
   ]
  },
  {
   "cell_type": "markdown",
<<<<<<< HEAD
<<<<<<< HEAD
<<<<<<< HEAD
   "id": "69f985c7",
||||||| merged common ancestors
   "id": "f7b507d7",
=======
   "id": "062a8fbf",
>>>>>>> documentation-devel
||||||| f5a2d7c
   "id": "062a8fbf",
=======
   "id": "7bab8f7a",
>>>>>>> documentation-devel
||||||| de7e30d
   "id": "69f985c7",
=======
   "id": "4013a946",
>>>>>>> 03b044928c05aca10f627eea0665560c78e150c1
   "metadata": {
    "lines_to_next_cell": 0
   },
   "source": [
    "# Dimension reduction and clustering"
   ]
  },
  {
   "cell_type": "code",
   "execution_count": null,
<<<<<<< HEAD
<<<<<<< HEAD
<<<<<<< HEAD
   "id": "bc696cc9",
||||||| merged common ancestors
   "id": "6d5cee62",
=======
   "id": "fe631eac",
>>>>>>> documentation-devel
||||||| f5a2d7c
   "id": "fe631eac",
=======
   "id": "f6b4f7ca",
>>>>>>> documentation-devel
||||||| de7e30d
   "id": "bc696cc9",
=======
   "id": "47a42cc8",
>>>>>>> 03b044928c05aca10f627eea0665560c78e150c1
   "metadata": {},
   "outputs": [],
   "source": [
    "sfe_tissue <- runPCA(sfe_tissue, ncomponents = 30, subset_row = hvgs,\n",
    "                     scale = TRUE) # scale as in Seurat"
   ]
  },
  {
   "cell_type": "code",
   "execution_count": null,
<<<<<<< HEAD
<<<<<<< HEAD
<<<<<<< HEAD
   "id": "5454ed52",
||||||| merged common ancestors
   "id": "c43ab5b3",
=======
   "id": "a729f5c0",
>>>>>>> documentation-devel
||||||| f5a2d7c
   "id": "a729f5c0",
=======
   "id": "0624c7a1",
>>>>>>> documentation-devel
||||||| de7e30d
   "id": "5454ed52",
=======
   "id": "b45daa25",
>>>>>>> 03b044928c05aca10f627eea0665560c78e150c1
   "metadata": {},
   "outputs": [],
   "source": [
    "ElbowPlot(sfe_tissue, ndims = 30)"
   ]
  },
  {
   "cell_type": "code",
   "execution_count": null,
<<<<<<< HEAD
<<<<<<< HEAD
<<<<<<< HEAD
   "id": "e9c2268d",
||||||| merged common ancestors
   "id": "a4094de4",
=======
   "id": "766e1397",
>>>>>>> documentation-devel
||||||| f5a2d7c
   "id": "766e1397",
=======
   "id": "c7aebe6b",
>>>>>>> documentation-devel
||||||| de7e30d
   "id": "e9c2268d",
=======
   "id": "e20c3762",
>>>>>>> 03b044928c05aca10f627eea0665560c78e150c1
   "metadata": {},
   "outputs": [],
   "source": [
    "plotDimLoadings(sfe_tissue, dims = 1:4, swap_rownames = \"symbol\")"
   ]
  },
  {
   "cell_type": "markdown",
<<<<<<< HEAD
<<<<<<< HEAD
<<<<<<< HEAD
   "id": "42356723",
||||||| merged common ancestors
   "id": "887f9ae9",
=======
   "id": "af4fa936",
>>>>>>> documentation-devel
||||||| f5a2d7c
   "id": "af4fa936",
=======
   "id": "97a8a2ee",
>>>>>>> documentation-devel
||||||| de7e30d
   "id": "42356723",
=======
   "id": "18d2cadc",
>>>>>>> 03b044928c05aca10f627eea0665560c78e150c1
   "metadata": {
    "lines_to_next_cell": 0
   },
   "source": [
    "Do the clustering to show on the dimension reduction plots"
   ]
  },
  {
   "cell_type": "code",
   "execution_count": null,
<<<<<<< HEAD
<<<<<<< HEAD
<<<<<<< HEAD
   "id": "3e4a5023",
||||||| merged common ancestors
   "id": "5e977521",
=======
   "id": "5b22e1e6",
>>>>>>> documentation-devel
||||||| f5a2d7c
   "id": "5b22e1e6",
=======
   "id": "b29fc620",
>>>>>>> documentation-devel
||||||| de7e30d
   "id": "3e4a5023",
=======
   "id": "8cb15a23",
>>>>>>> 03b044928c05aca10f627eea0665560c78e150c1
   "metadata": {},
   "outputs": [],
   "source": [
    "colData(sfe_tissue)$cluster <- clusterRows(reducedDim(sfe_tissue, \"PCA\")[,1:3],\n",
    "                                           BLUSPARAM = SNNGraphParam(\n",
    "                                               cluster.fun = \"leiden\",\n",
    "                                               cluster.args = list(\n",
    "                                                   resolution_parameter = 0.5,\n",
    "                                                   objective_function = \"modularity\")))"
   ]
  },
  {
   "cell_type": "code",
   "execution_count": null,
<<<<<<< HEAD
<<<<<<< HEAD
<<<<<<< HEAD
   "id": "628c0564",
||||||| merged common ancestors
   "id": "73f119ab",
=======
   "id": "60e453a4",
>>>>>>> documentation-devel
||||||| f5a2d7c
   "id": "60e453a4",
=======
   "id": "f03dfaab",
>>>>>>> documentation-devel
||||||| de7e30d
   "id": "628c0564",
=======
   "id": "5fc34862",
>>>>>>> 03b044928c05aca10f627eea0665560c78e150c1
   "metadata": {
    "fig.height": 6,
    "fig.width": 7
   },
   "outputs": [],
   "source": [
    "plotPCA(sfe_tissue, ncomponents = 3, colour_by = \"cluster\")"
   ]
  },
  {
   "cell_type": "markdown",
<<<<<<< HEAD
<<<<<<< HEAD
<<<<<<< HEAD
   "id": "c114e7d0",
||||||| merged common ancestors
   "id": "163831db",
=======
   "id": "36bdf730",
>>>>>>> documentation-devel
||||||| f5a2d7c
   "id": "36bdf730",
=======
   "id": "227b4243",
>>>>>>> documentation-devel
||||||| de7e30d
   "id": "c114e7d0",
=======
   "id": "3780b1f3",
>>>>>>> 03b044928c05aca10f627eea0665560c78e150c1
   "metadata": {
    "lines_to_next_cell": 0
   },
   "source": [
    "The principal components (PCs) can be plotted in space. Due to spatial autocorrelation of many genes and spatial regions of different histological characters, even though spatial information is not used in the PCA procedure, the PCs may show spatial structure. "
   ]
  },
  {
   "cell_type": "code",
   "execution_count": null,
<<<<<<< HEAD
<<<<<<< HEAD
<<<<<<< HEAD
   "id": "a850ae5e",
||||||| merged common ancestors
   "id": "92c1cc99",
=======
   "id": "9a95b1f5",
>>>>>>> documentation-devel
||||||| f5a2d7c
   "id": "9a95b1f5",
=======
   "id": "67435c3f",
>>>>>>> documentation-devel
||||||| de7e30d
   "id": "a850ae5e",
=======
   "id": "03206b6a",
>>>>>>> 03b044928c05aca10f627eea0665560c78e150c1
   "metadata": {
    "fig.height": 8,
    "fig.width": 6
   },
   "outputs": [],
   "source": [
    "spatialReducedDim(sfe_tissue, \"PCA\", ncomponents = 4, \n",
    "                  colGeometryName = \"spotPoly\", divergent = TRUE, \n",
    "                  diverge_center = 0, image = \"lowres\", maxcell = 5e4)"
   ]
  },
  {
   "cell_type": "markdown",
<<<<<<< HEAD
<<<<<<< HEAD
<<<<<<< HEAD
   "id": "379ac814",
||||||| merged common ancestors
   "id": "ea0b812b",
=======
   "id": "811bd3ff",
>>>>>>> documentation-devel
||||||| f5a2d7c
   "id": "811bd3ff",
=======
   "id": "fd947faa",
>>>>>>> documentation-devel
||||||| de7e30d
   "id": "379ac814",
=======
   "id": "a603538e",
>>>>>>> 03b044928c05aca10f627eea0665560c78e150c1
   "metadata": {
    "lines_to_next_cell": 0
   },
   "source": [
    "PC1, which explains far more variance than PC2, separates the injury site leukocytes and myofibers close to the site from the Visium myofibers. PC2 highlights the center of the injury site and some myofibers near the edge. PC3 highlights the muscle tendon junctions. PC4 does not seem to be informative; it might have picked up an outlier.\n",
    "\n",
    "It is also possible to run UMAP following the PCA, as is done for scRNA-seq. We do not recommend producing a UMAP since the procedure distorts distances, and does not respect either local or global structure in the data [@Chari2021-hb]. However, for completeness, we show how to compute a UMAP below:"
   ]
  },
  {
   "cell_type": "code",
   "execution_count": null,
<<<<<<< HEAD
<<<<<<< HEAD
<<<<<<< HEAD
   "id": "72ad56d1",
||||||| merged common ancestors
   "id": "2b9d87b9",
=======
   "id": "75720e61",
>>>>>>> documentation-devel
||||||| f5a2d7c
   "id": "75720e61",
=======
   "id": "edf648f3",
>>>>>>> documentation-devel
||||||| de7e30d
   "id": "72ad56d1",
=======
   "id": "d9f61d0e",
>>>>>>> 03b044928c05aca10f627eea0665560c78e150c1
   "metadata": {},
   "outputs": [],
   "source": [
    "set.seed(29)\n",
    "sfe_tissue <- runUMAP(sfe_tissue, dimred = \"PCA\", n_dimred = 3)"
   ]
  },
  {
   "cell_type": "code",
   "execution_count": null,
<<<<<<< HEAD
<<<<<<< HEAD
<<<<<<< HEAD
   "id": "440d3f3e",
||||||| merged common ancestors
   "id": "7cdb6188",
=======
   "id": "f8080ac2",
>>>>>>> documentation-devel
||||||| f5a2d7c
   "id": "f8080ac2",
=======
   "id": "eb1b486b",
>>>>>>> documentation-devel
||||||| de7e30d
   "id": "440d3f3e",
=======
   "id": "ef7d2401",
>>>>>>> 03b044928c05aca10f627eea0665560c78e150c1
   "metadata": {},
   "outputs": [],
   "source": [
    "plotUMAP(sfe_tissue, colour_by = \"cluster\")"
   ]
  },
  {
   "cell_type": "markdown",
<<<<<<< HEAD
<<<<<<< HEAD
<<<<<<< HEAD
   "id": "664cfc92",
||||||| merged common ancestors
   "id": "b4eb3220",
=======
   "id": "6cbc464d",
>>>>>>> documentation-devel
||||||| f5a2d7c
   "id": "6cbc464d",
=======
   "id": "74f69204",
>>>>>>> documentation-devel
||||||| de7e30d
   "id": "664cfc92",
=======
   "id": "368f9b7a",
>>>>>>> 03b044928c05aca10f627eea0665560c78e150c1
   "metadata": {},
   "source": [
    "UMAP is often used to visualize clusters. An alternative to UMAP is [`concordex`](https://bioconductor.org/packages/devel/bioc/html/concordexR.html), which quantitatively shows the proportion of neighbors on the k nearest neighbor graph with the same cluster label. To be consistent with the default in igraph Leiden clustering, we use k = 10."
   ]
  },
  {
   "cell_type": "code",
   "execution_count": null,
<<<<<<< HEAD
<<<<<<< HEAD
<<<<<<< HEAD
   "id": "88730cc6",
||||||| merged common ancestors
   "id": "f5a6550b",
=======
   "id": "2c790177",
>>>>>>> documentation-devel
||||||| f5a2d7c
   "id": "2c790177",
=======
   "id": "f2a0281e",
>>>>>>> documentation-devel
||||||| de7e30d
   "id": "88730cc6",
=======
   "id": "50c86d26",
>>>>>>> 03b044928c05aca10f627eea0665560c78e150c1
   "metadata": {},
   "outputs": [],
   "source": [
    "g <- findKNN(reducedDim(sfe_tissue, \"PCA\")[,1:3], k = 10)\n",
    "res <- calculateConcordex(g$index, labels = sfe_tissue$cluster, k = 10, \n",
    "                          return.map = TRUE)"
   ]
  },
  {
   "cell_type": "markdown",
<<<<<<< HEAD
<<<<<<< HEAD
<<<<<<< HEAD
   "id": "19573721",
||||||| merged common ancestors
   "id": "7e21ced2",
=======
   "id": "cb58132c",
>>>>>>> documentation-devel
||||||| f5a2d7c
   "id": "cb58132c",
=======
   "id": "16bcc248",
>>>>>>> documentation-devel
||||||| de7e30d
   "id": "19573721",
=======
   "id": "4767c29d",
>>>>>>> 03b044928c05aca10f627eea0665560c78e150c1
   "metadata": {
    "lines_to_next_cell": 0
   },
   "source": [
    "The cluster labels are permuted to estimate a null distribution, and the observed values can be compared to the simulated values:"
   ]
  },
  {
   "cell_type": "code",
   "execution_count": null,
<<<<<<< HEAD
<<<<<<< HEAD
<<<<<<< HEAD
   "id": "aedc0ea3",
||||||| merged common ancestors
   "id": "7e50e241",
=======
   "id": "dd86ccb4",
>>>>>>> documentation-devel
||||||| f5a2d7c
   "id": "dd86ccb4",
=======
   "id": "daa3f5e1",
>>>>>>> documentation-devel
||||||| de7e30d
   "id": "aedc0ea3",
=======
   "id": "fb808fef",
>>>>>>> 03b044928c05aca10f627eea0665560c78e150c1
   "metadata": {},
   "outputs": [],
   "source": [
    "plotConcordexSim(res)"
   ]
  },
  {
   "cell_type": "markdown",
<<<<<<< HEAD
<<<<<<< HEAD
<<<<<<< HEAD
   "id": "1277fc27",
||||||| merged common ancestors
   "id": "cd2b514b",
=======
   "id": "80e96a6d",
>>>>>>> documentation-devel
||||||| f5a2d7c
   "id": "80e96a6d",
=======
   "id": "24866b74",
>>>>>>> documentation-devel
||||||| de7e30d
   "id": "1277fc27",
=======
   "id": "6533220a",
>>>>>>> 03b044928c05aca10f627eea0665560c78e150c1
   "metadata": {
    "lines_to_next_cell": 0
   },
   "source": [
    "The observed value is much higher than in the simulated values, indicating good clustering. The single number is the average of all clusters. Values for different clusters can be plotted in a heatmap:"
   ]
  },
  {
   "cell_type": "code",
   "execution_count": null,
<<<<<<< HEAD
<<<<<<< HEAD
<<<<<<< HEAD
   "id": "47d4eee2",
||||||| merged common ancestors
   "id": "4e21415f",
=======
   "id": "b27716a4",
>>>>>>> documentation-devel
||||||| f5a2d7c
   "id": "b27716a4",
=======
   "id": "4db7ee98",
>>>>>>> documentation-devel
||||||| de7e30d
   "id": "47d4eee2",
=======
   "id": "ebdc9ddb",
>>>>>>> 03b044928c05aca10f627eea0665560c78e150c1
   "metadata": {
    "fig.height": 4,
    "fig.width": 5
   },
   "outputs": [],
   "source": [
    "heatConcordex(res, angle_col = 0, cluster_rows = FALSE, cluster_cols = FALSE)"
   ]
  },
  {
   "cell_type": "markdown",
<<<<<<< HEAD
<<<<<<< HEAD
<<<<<<< HEAD
   "id": "3666645a",
||||||| merged common ancestors
   "id": "196cee26",
=======
   "id": "642ca20a",
>>>>>>> documentation-devel
||||||| f5a2d7c
   "id": "642ca20a",
=======
   "id": "3bee11c7",
>>>>>>> documentation-devel
||||||| de7e30d
   "id": "3666645a",
=======
   "id": "0b0aa547",
>>>>>>> 03b044928c05aca10f627eea0665560c78e150c1
   "metadata": {
    "lines_to_next_cell": 0
   },
   "source": [
    "The diagonal represents the proportion of neighbors of cells from each cluster that are from the same cluster. That the off diagonal entries are very low indicate good clustering.\n",
    "\n",
    "More interesting in spatial transcriptomics, is to locate the clusters in space, and this can be done as follows:"
   ]
  },
  {
   "cell_type": "code",
   "execution_count": null,
<<<<<<< HEAD
<<<<<<< HEAD
<<<<<<< HEAD
   "id": "7fb7f58a",
||||||| merged common ancestors
   "id": "544b8c72",
=======
   "id": "49a87196",
>>>>>>> documentation-devel
||||||| f5a2d7c
   "id": "49a87196",
=======
   "id": "94b0c75c",
>>>>>>> documentation-devel
||||||| de7e30d
   "id": "7fb7f58a",
=======
   "id": "9473c087",
>>>>>>> 03b044928c05aca10f627eea0665560c78e150c1
   "metadata": {},
   "outputs": [],
   "source": [
    "plotSpatialFeature(sfe_tissue, \"cluster\", colGeometryName = \"spotPoly\",\n",
    "                   image = \"lowres\")"
   ]
  },
  {
   "cell_type": "markdown",
<<<<<<< HEAD
<<<<<<< HEAD
<<<<<<< HEAD
   "id": "89e5c56d",
||||||| merged common ancestors
   "id": "1d90c8d9",
=======
   "id": "178e9ec9",
>>>>>>> documentation-devel
||||||| f5a2d7c
   "id": "178e9ec9",
=======
   "id": "38f3c68f",
>>>>>>> documentation-devel
||||||| de7e30d
   "id": "89e5c56d",
=======
   "id": "abd657e1",
>>>>>>> 03b044928c05aca10f627eea0665560c78e150c1
   "metadata": {
    "lines_to_next_cell": 0
   },
   "source": [
    "While spatial information is not explicitly used in clustering, due to spatial autocorrelation of gene expression and the histological regions, some of these clusters are spatially contiguous. There are many methods to find spatially informed clusters, such as [`BayesSpace`](https://bioconductor.org/packages/release/bioc/html/BayesSpace.html) [@Zhao2021-vb], which is on Bioconductor.\n",
    "\n",
    "Remark on spatial regions: In geographical space, there is usually no one single way to define spatial regions. For example, influenced by both sociology and geology, LA county can be partitioned into regions such as Eastside, Westside, South Central, San Fernado Valley, San Gabriel Valley, Pomona Valley, Gateway Cities, South Bay, and etc., each containing multiple smaller cities or parts of LA City, each of which can be further divided into many neighborhoods, such as Koreatown, Highland Park, Lincoln Heights, and etc. Definitions of some of these regions are subject to dispute. Meanwhile, LA county can also be partitioned into watersheds of the LA River, San Gabriel River, Ballona Creek, and etc., as well as different rock formations. Which kind of spatial region at which resolution is relevant depends on the question being asked. There are also gray areas in spatial regions. For example, the Whittier Narrows dam intercepts both the San Gabriel River and Rio Hondo (a large tributary of the LA River), so whether the dam area belongs to the watershed of San Gabriel River or LA River is unclear. \n",
    "\n",
    "Similarly, in spatial transcriptomics, while methods identifying spatial regions currently generally only aim to give one result, multiple results at different resolutions depending on the question asked may be relevant. Furthermore, methods for spatial region demarcation to be used for spatial -omics would ideally provide uncertainty assessments for assignment of cells or Visium spots. An existing geospatial method that accounts for such uncertainty is [`geocmeans`](https://cran.r-project.org/web/packages/geocmeans/) [@Zhao2013-tw], which is on CRAN.\n",
    "\n",
    "In both the geographical and histological space, there conflicting views on spatial variation. On the one hand, methods that identify spatially variable genes such as SpatialDE often assume that gene expression vary smoothly and continuously in space. On the other hand, methods identifying spatial regions attempt to identify discrete regions. The continuous variation in features might be why definitions of geographical neighborhoods are often subject to dispute. Some existing methods attempt to harmonize the two views. For example, the spatially variable gene method [`belayer`](https://github.com/raphael-group/belayer) [@Ma2022-dc] takes discrete tissue layers into account.\n",
    "\n",
    "# Non-spatial differential expression\n",
    "Cluster marker genes can be found using differential analysis methods as is commonly done for scRNA-seq. Below is an example with the Wilcoxon rank sum test:"
   ]
  },
  {
   "cell_type": "code",
   "execution_count": null,
<<<<<<< HEAD
<<<<<<< HEAD
<<<<<<< HEAD
   "id": "1bfbd60a",
||||||| merged common ancestors
   "id": "7e4bd321",
=======
   "id": "fc567ba2",
>>>>>>> documentation-devel
||||||| f5a2d7c
   "id": "fc567ba2",
=======
   "id": "05ba9a3b",
>>>>>>> documentation-devel
||||||| de7e30d
   "id": "1bfbd60a",
=======
   "id": "598c8d04",
>>>>>>> 03b044928c05aca10f627eea0665560c78e150c1
   "metadata": {},
   "outputs": [],
   "source": [
    "markers <- findMarkers(sfe_tissue, groups = colData(sfe_tissue)$cluster,\n",
    "                       test.type = \"wilcox\", pval.type = \"all\", direction = \"up\")"
   ]
  },
  {
   "cell_type": "markdown",
<<<<<<< HEAD
<<<<<<< HEAD
<<<<<<< HEAD
   "id": "d49d7d26",
||||||| merged common ancestors
   "id": "6775abab",
=======
   "id": "5bf75bf9",
>>>>>>> documentation-devel
||||||| f5a2d7c
   "id": "5bf75bf9",
=======
   "id": "9a2e3b32",
>>>>>>> documentation-devel
||||||| de7e30d
   "id": "d49d7d26",
=======
   "id": "c9f0a029",
>>>>>>> 03b044928c05aca10f627eea0665560c78e150c1
   "metadata": {
    "lines_to_next_cell": 0
   },
   "source": [
    "The result is sorted by p-values:"
   ]
  },
  {
   "cell_type": "code",
   "execution_count": null,
<<<<<<< HEAD
<<<<<<< HEAD
<<<<<<< HEAD
   "id": "fc793e0b",
||||||| merged common ancestors
   "id": "60ae5ef4",
=======
   "id": "e6ce71f1",
>>>>>>> documentation-devel
||||||| f5a2d7c
   "id": "e6ce71f1",
=======
   "id": "76f1e6f2",
>>>>>>> documentation-devel
||||||| de7e30d
   "id": "fc793e0b",
=======
   "id": "e942ffe2",
>>>>>>> 03b044928c05aca10f627eea0665560c78e150c1
   "metadata": {},
   "outputs": [],
   "source": [
    "markers[[1]]"
   ]
  },
  {
   "cell_type": "markdown",
<<<<<<< HEAD
<<<<<<< HEAD
<<<<<<< HEAD
   "id": "40df76e9",
||||||| merged common ancestors
   "id": "f12a9dbc",
=======
   "id": "0f0dfc28",
>>>>>>> documentation-devel
||||||| f5a2d7c
   "id": "0f0dfc28",
=======
   "id": "37c5367b",
>>>>>>> documentation-devel
||||||| de7e30d
   "id": "40df76e9",
=======
   "id": "e1144042",
>>>>>>> 03b044928c05aca10f627eea0665560c78e150c1
   "metadata": {
    "lines_to_next_cell": 0
   },
   "source": [
    "We can use the [gget enrichr](https://pachterlab.github.io/gget/enrichr.html) module from the [gget](https://pachterlab.github.io/gget/) package to perform a gene enrichment analysis. You can choose from >200 enrichment databases which are listed on the [Enrichr website](https://maayanlab.cloud/Enrichr/#libraries). Here, we are analyzing the top 20 genes for cluster 1 using the default ontology database [GO_Biological_Process_2021](http://geneontology.org/):"
   ]
  },
  {
   "cell_type": "code",
   "execution_count": null,
<<<<<<< HEAD
<<<<<<< HEAD
<<<<<<< HEAD
   "id": "a3b025bb",
||||||| merged common ancestors
   "id": "525b3ad5",
=======
   "id": "ba368a1d",
>>>>>>> documentation-devel
||||||| f5a2d7c
   "id": "ba368a1d",
=======
   "id": "b7b6c831",
>>>>>>> documentation-devel
||||||| de7e30d
   "id": "a3b025bb",
=======
   "id": "26916131",
>>>>>>> 03b044928c05aca10f627eea0665560c78e150c1
   "metadata": {},
   "outputs": [],
   "source": [
    "enrichr_genes <- rownames(markers[[1]])[1:20]\n",
    "gget_e <- gget$enrichr(enrichr_genes, ensembl=TRUE, database = \"ontology\")\n",
    "\n",
    "# Plot results of gene enrichment analysis\n",
    "# Count number of overlapping genes\n",
    "gget_e$overlapping_genes_count <- lapply(gget_e$overlapping_genes, length) |> as.numeric()\n",
    "# Only keep the top 10 results\n",
    "gget_e <- gget_e[1:10,]\n",
    "gget_e |>\n",
    "    ggplot() +\n",
    "    geom_bar(aes(\n",
    "        x = -log10(adj_p_val),\n",
    "        y = reorder(path_name, -adj_p_val)\n",
    "    ),\n",
    "    stat = \"identity\",\n",
    "  \tfill = \"lightgrey\",\n",
    "  \twidth = 0.5,\n",
    "    color = \"black\") +\n",
    "    geom_text(\n",
    "        aes(\n",
    "            y = path_name,\n",
    "            x = (-log10(adj_p_val)),\n",
    "            label = overlapping_genes_count\n",
    "        ),\n",
    "        nudge_x = 0.25,\n",
    "        show.legend = NA,\n",
    "        color = \"red\"\n",
    "    ) +\n",
    "  \tgeom_text(\n",
    "        aes(\n",
    "            y = Inf,\n",
    "            x = Inf,\n",
    "      \t\t\thjust = 1,\n",
    "      \t\t\tvjust = 1,\n",
    "            label = \"# of overlapping genes\"\n",
    "        ),\n",
    "        show.legend = NA,\n",
    "        size=4,\n",
    "        color = \"red\"\n",
    "    ) +\n",
    "    geom_vline(linetype = \"dashed\", linewidth = 0.5, xintercept = -log10(0.05)) +\n",
    "    ylab(\"Pathway name\") +\n",
    "    xlab(\"-log10(adjusted P value)\")"
   ]
  },
  {
   "cell_type": "markdown",
<<<<<<< HEAD
<<<<<<< HEAD
<<<<<<< HEAD
   "id": "77f5e8d9",
||||||| merged common ancestors
   "id": "a1d5d2c7",
=======
   "id": "272525b2",
>>>>>>> documentation-devel
||||||| f5a2d7c
   "id": "272525b2",
=======
   "id": "c395066e",
>>>>>>> documentation-devel
||||||| de7e30d
   "id": "77f5e8d9",
=======
   "id": "b4058893",
>>>>>>> 03b044928c05aca10f627eea0665560c78e150c1
   "metadata": {
    "lines_to_next_cell": 0
   },
   "source": [
    "Significant markers for each cluster can be obtained as follows:"
   ]
  },
  {
   "cell_type": "code",
   "execution_count": null,
<<<<<<< HEAD
<<<<<<< HEAD
<<<<<<< HEAD
   "id": "84cb55e5",
||||||| merged common ancestors
   "id": "9f217938",
=======
   "id": "4476fa22",
>>>>>>> documentation-devel
||||||| f5a2d7c
   "id": "4476fa22",
=======
   "id": "21522c28",
>>>>>>> documentation-devel
||||||| de7e30d
   "id": "84cb55e5",
=======
   "id": "8e83c82d",
>>>>>>> 03b044928c05aca10f627eea0665560c78e150c1
   "metadata": {},
   "outputs": [],
   "source": [
    "genes_use <- vapply(markers, function(x) rownames(x)[1], FUN.VALUE = character(1))\n",
    "plotExpression(sfe_tissue, rowData(sfe_tissue)[genes_use, \"symbol\"], x = \"cluster\",\n",
    "               colour_by = \"cluster\", swap_rownames = \"symbol\")"
   ]
  },
  {
   "cell_type": "markdown",
<<<<<<< HEAD
<<<<<<< HEAD
<<<<<<< HEAD
   "id": "2a21f039",
||||||| merged common ancestors
   "id": "78c15198",
=======
   "id": "b9ee8960",
>>>>>>> documentation-devel
||||||| f5a2d7c
   "id": "b9ee8960",
=======
   "id": "a9618719",
>>>>>>> documentation-devel
||||||| de7e30d
   "id": "2a21f039",
=======
   "id": "942db2c7",
>>>>>>> 03b044928c05aca10f627eea0665560c78e150c1
   "metadata": {
    "lines_to_next_cell": 0
   },
   "source": [
    "We'll use the module [gget info](https://pachterlab.github.io/gget/info.html) to get additional information on these genes, such as their descriptions, synonyms, transcripts and more from a collection of reference databases including [Ensembl](https://ensembl.org/), [UniProt](https://www.uniprot.org/), and [NCBI](https://www.ncbi.nlm.nih.gov/). Here, we are showing their gene descriptions from [NCBI](https://www.ncbi.nlm.nih.gov/):"
   ]
  },
  {
   "cell_type": "code",
   "execution_count": null,
<<<<<<< HEAD
<<<<<<< HEAD
<<<<<<< HEAD
   "id": "a1a536ec",
||||||| merged common ancestors
   "id": "50751324",
=======
   "id": "ab7b8ea9",
>>>>>>> documentation-devel
||||||| f5a2d7c
   "id": "ab7b8ea9",
=======
   "id": "6ac7c8f8",
>>>>>>> documentation-devel
||||||| de7e30d
   "id": "a1a536ec",
=======
   "id": "720eb4d7",
>>>>>>> 03b044928c05aca10f627eea0665560c78e150c1
   "metadata": {},
   "outputs": [],
   "source": [
    "gget_info <- gget$info(genes_use)\n",
    "\n",
    "rownames(gget_info) <- gget_info$primary_gene_name\n",
    "select(gget_info, ncbi_description)"
   ]
  },
  {
   "cell_type": "markdown",
<<<<<<< HEAD
<<<<<<< HEAD
<<<<<<< HEAD
   "id": "5b74d3d8",
||||||| merged common ancestors
   "id": "9b7eb92a",
=======
   "id": "8d835fa3",
>>>>>>> documentation-devel
||||||| f5a2d7c
   "id": "8d835fa3",
=======
   "id": "8310800a",
>>>>>>> documentation-devel
||||||| de7e30d
   "id": "5b74d3d8",
=======
   "id": "eea6f93e",
>>>>>>> 03b044928c05aca10f627eea0665560c78e150c1
   "metadata": {
    "lines_to_next_cell": 0
   },
   "source": [
    "These genes are interesting to view in spatial context:"
   ]
  },
  {
   "cell_type": "code",
   "execution_count": null,
<<<<<<< HEAD
<<<<<<< HEAD
<<<<<<< HEAD
   "id": "af5bdc9f",
||||||| merged common ancestors
   "id": "d0b6ae71",
=======
   "id": "a7560f7b",
>>>>>>> documentation-devel
||||||| f5a2d7c
   "id": "a7560f7b",
=======
   "id": "ed449297",
>>>>>>> documentation-devel
||||||| de7e30d
   "id": "af5bdc9f",
=======
   "id": "f4a374bb",
>>>>>>> 03b044928c05aca10f627eea0665560c78e150c1
   "metadata": {
    "fig.height": 7,
    "fig.width": 9
   },
   "outputs": [],
   "source": [
    "plotSpatialFeature(sfe_tissue, genes_use, colGeometryName = \"spotPoly\", ncol = 3,\n",
    "                   image = \"lowres\", maxcell = 5e4, swap_rownames = \"symbol\")"
   ]
  },
  {
   "cell_type": "markdown",
<<<<<<< HEAD
<<<<<<< HEAD
<<<<<<< HEAD
   "id": "a0fcc3a9",
||||||| merged common ancestors
   "id": "f1d227f6",
=======
   "id": "bd02036a",
>>>>>>> documentation-devel
||||||| f5a2d7c
   "id": "bd02036a",
=======
   "id": "8ba14c91",
>>>>>>> documentation-devel
||||||| de7e30d
   "id": "a0fcc3a9",
=======
   "id": "06d6fb20",
>>>>>>> 03b044928c05aca10f627eea0665560c78e150c1
   "metadata": {
    "lines_to_next_cell": 0
   },
   "source": [
    "# Moran's I\n",
    "Tobler's first law of geography states that\n",
    "\n",
    "> Everything is related to everything else. But near things are more related than distant things.\n",
    "\n",
    "This observation motivates the examination of spatial autocorrelation. Positive spatial autocorrelation is evident when nearby things tend to be similar, such as that weather in Pasadena and downtown Los Angeles (as opposed to the weather in Pasadena and San Francisco). Negative spatial autocorrelation is evident when nearby things tend to be more dissimilar, like squares on a chessboard. Spatial autocorrelation can arise from an intrinsic process such as diffusion or communication by physical contact, or result from a covariate that has such an intrinsic process, or in areal data, when the areal units of observation are smaller than the scale of the spatial process.\n",
    "\n",
    "The most commonly used measure of spatial autocorrelation is Moran's I, defined as\n",
    "\n",
    "$$\n",
    "I = \\frac{n}{\\sum_{i=1}^n \\sum_{j=1}^n w_{ij}} \\frac{\\sum_{i=1}^n \\sum_{j=1}^n w_{ij} (x_i - \\bar{x})(x_j - \\bar{x})}{\\sum_{i=1}^n (x_i - \\bar{x})^2},\n",
    "$$\n",
    "\n",
    "where $n$ is the number of spots or locations, $i$ and $j$ are different locations, or spots in the Visium context, $x$ is a variable with values at each location, and $w_{ij}$ is a spatial weight, which can be inversely proportional to distance between spots or an indicator of whether two spots are neighbors, subject to various definitions of neighborhood and whether to normalize the number of neighbors. The [`spdep`](https://r-spatial.github.io/spdep/index.html) package uses the neighborhood.\n",
    "\n",
    "Moran's I is similar to the Pearson correlation between the value at each location and the average value at its neighbors (but not identical, see [@Lee2001-tm]). Just like Pearson correlation, Moran's I is generally bound between -1 and 1, where positive value indicates positive spatial autocorrelation and negative value indicates negative spatial autocorrelation. \n",
    "Spatial dependence analysis in `spdep` requires a spatial neighborhood graph. The graph for adjacent Visium spot can be found with"
   ]
  },
  {
   "cell_type": "code",
   "execution_count": null,
<<<<<<< HEAD
<<<<<<< HEAD
<<<<<<< HEAD
   "id": "83ff0500",
||||||| merged common ancestors
   "id": "2916c551",
=======
   "id": "8c79ee1c",
>>>>>>> documentation-devel
||||||| f5a2d7c
   "id": "8c79ee1c",
=======
   "id": "d6b07c7c",
>>>>>>> documentation-devel
||||||| de7e30d
   "id": "83ff0500",
=======
   "id": "7d7fcc1c",
>>>>>>> 03b044928c05aca10f627eea0665560c78e150c1
   "metadata": {},
   "outputs": [],
   "source": [
    "colGraph(sfe_tissue, \"visium\") <- findVisiumGraph(sfe_tissue)"
   ]
  },
  {
   "cell_type": "markdown",
<<<<<<< HEAD
<<<<<<< HEAD
<<<<<<< HEAD
   "id": "9442dddb",
||||||| merged common ancestors
   "id": "db39dc4b",
=======
   "id": "175a6abb",
>>>>>>> documentation-devel
||||||| f5a2d7c
   "id": "175a6abb",
=======
   "id": "dd752a94",
>>>>>>> documentation-devel
||||||| de7e30d
   "id": "9442dddb",
=======
   "id": "79be336a",
>>>>>>> 03b044928c05aca10f627eea0665560c78e150c1
   "metadata": {
    "lines_to_next_cell": 0
   },
   "source": [
    "We mentioned that spatial autocorrelation is apparent in total UMI counts. Here's what Moran's I shows:"
   ]
  },
  {
   "cell_type": "code",
   "execution_count": null,
<<<<<<< HEAD
<<<<<<< HEAD
<<<<<<< HEAD
   "id": "cefdd756",
||||||| merged common ancestors
   "id": "846e83ca",
=======
   "id": "03be8fc7",
>>>>>>> documentation-devel
||||||| f5a2d7c
   "id": "03be8fc7",
=======
   "id": "85f61c8d",
>>>>>>> documentation-devel
||||||| de7e30d
   "id": "cefdd756",
=======
   "id": "3ea3c8dc",
>>>>>>> 03b044928c05aca10f627eea0665560c78e150c1
   "metadata": {},
   "outputs": [],
   "source": [
    "calculateMoransI(t(colData(sfe_tissue)[,c(\"nCounts\", \"nGenes\")]), \n",
    "                 listw = colGraph(sfe_tissue, \"visium\"))"
   ]
  },
  {
   "cell_type": "markdown",
<<<<<<< HEAD
<<<<<<< HEAD
<<<<<<< HEAD
   "id": "56a21184",
||||||| merged common ancestors
   "id": "37a1346d",
=======
   "id": "90383adb",
>>>>>>> documentation-devel
||||||| f5a2d7c
   "id": "90383adb",
=======
   "id": "fe9eb345",
>>>>>>> documentation-devel
||||||| de7e30d
   "id": "56a21184",
=======
   "id": "87bccdff",
>>>>>>> 03b044928c05aca10f627eea0665560c78e150c1
   "metadata": {},
   "source": [
    "K means kurtosis. The positive values of Moran's I indicate positive spatial autocorrelation.\n",
    "\n",
    "## Spatially variable genes\n",
    "A spatially variable gene is a gene whose expression depends on spatial locations, rather than being spatially random, like salt grains spread on a soup. Spatially variable genes can be identified by spatial autocorrelation signatures, and sometimes Moran's I is used to compare and assess spatially variable genes identified with different methods. Below `BPPARAM` is used to paralelize the computation of Moran's I for 2000 highly variable genes, and 2 cores are used with the SNOW backend."
   ]
  },
  {
   "cell_type": "code",
   "execution_count": null,
<<<<<<< HEAD
<<<<<<< HEAD
<<<<<<< HEAD
   "id": "9429c57c",
||||||| merged common ancestors
   "id": "d911cf20",
=======
   "id": "1840da4f",
>>>>>>> documentation-devel
||||||| f5a2d7c
   "id": "1840da4f",
=======
   "id": "4773617d",
>>>>>>> documentation-devel
||||||| de7e30d
   "id": "9429c57c",
=======
   "id": "10da0e19",
>>>>>>> 03b044928c05aca10f627eea0665560c78e150c1
   "metadata": {},
   "outputs": [],
   "source": [
    "sfe_tissue <- runMoransI(sfe_tissue, features = hvgs, colGraphName = \"visium\",\n",
    "                         BPPARAM = SnowParam(2))"
   ]
  },
  {
   "cell_type": "markdown",
<<<<<<< HEAD
<<<<<<< HEAD
<<<<<<< HEAD
   "id": "0bd631b1",
||||||| merged common ancestors
   "id": "aa920b1d",
=======
   "id": "b5868330",
>>>>>>> documentation-devel
||||||| f5a2d7c
   "id": "b5868330",
=======
   "id": "3d99521b",
>>>>>>> documentation-devel
||||||| de7e30d
   "id": "0bd631b1",
=======
   "id": "9e777f8d",
>>>>>>> 03b044928c05aca10f627eea0665560c78e150c1
   "metadata": {
    "lines_to_next_cell": 0
   },
   "source": [
    "The results are stored in `rowData`"
   ]
  },
  {
   "cell_type": "code",
   "execution_count": null,
<<<<<<< HEAD
<<<<<<< HEAD
<<<<<<< HEAD
   "id": "1f31c2a5",
||||||| merged common ancestors
   "id": "5adf7b0d",
=======
   "id": "21f2abd4",
>>>>>>> documentation-devel
||||||| f5a2d7c
   "id": "21f2abd4",
=======
   "id": "1e19ee8c",
>>>>>>> documentation-devel
||||||| de7e30d
   "id": "1f31c2a5",
=======
   "id": "6e69e598",
>>>>>>> 03b044928c05aca10f627eea0665560c78e150c1
   "metadata": {},
   "outputs": [],
   "source": [
    "rowData(sfe_tissue)"
   ]
  },
  {
   "cell_type": "markdown",
<<<<<<< HEAD
<<<<<<< HEAD
<<<<<<< HEAD
   "id": "645dd337",
||||||| merged common ancestors
   "id": "47b76480",
=======
   "id": "4ca74f9f",
>>>>>>> documentation-devel
||||||| f5a2d7c
   "id": "4ca74f9f",
=======
   "id": "6f3344a2",
>>>>>>> documentation-devel
||||||| de7e30d
   "id": "645dd337",
=======
   "id": "4d70f352",
>>>>>>> 03b044928c05aca10f627eea0665560c78e150c1
   "metadata": {},
   "source": [
    "The `NA`'s are for genes that are not highly variable and Moran's I was not computed for those genes. We rank the genes by Moran's I and plot them in space as follows:"
   ]
  },
  {
   "cell_type": "code",
   "execution_count": null,
<<<<<<< HEAD
<<<<<<< HEAD
<<<<<<< HEAD
   "id": "2d8de96b",
||||||| merged common ancestors
   "id": "a1ed9f98",
=======
   "id": "a8d24441",
>>>>>>> documentation-devel
||||||| f5a2d7c
   "id": "a8d24441",
=======
   "id": "d21f7e1c",
>>>>>>> documentation-devel
||||||| de7e30d
   "id": "2d8de96b",
=======
   "id": "264724d4",
>>>>>>> 03b044928c05aca10f627eea0665560c78e150c1
   "metadata": {},
   "outputs": [],
   "source": [
    "df <- rowData(sfe_tissue)[hvgs,]\n",
    "ord <- order(df$moran_Vis5A, decreasing = TRUE)\n",
    "df[ord, c(\"symbol\", \"moran_Vis5A\")]"
   ]
  },
  {
   "cell_type": "markdown",
<<<<<<< HEAD
<<<<<<< HEAD
<<<<<<< HEAD
   "id": "b100b863",
||||||| merged common ancestors
   "id": "f7b5e862",
=======
   "id": "87d96606",
>>>>>>> documentation-devel
||||||| f5a2d7c
   "id": "87d96606",
=======
   "id": "ace6596d",
>>>>>>> documentation-devel
||||||| de7e30d
   "id": "b100b863",
=======
   "id": "3d98f262",
>>>>>>> 03b044928c05aca10f627eea0665560c78e150c1
   "metadata": {
    "lines_to_next_cell": 0
   },
   "source": [
    "We see that some genes that have strong positive spatial autocorrelation, but don't observe strong negative spatial autocorrelation.\n",
    "\n",
    "Let's get some additional information on the genes with the strongest positive spatial autocorrelation in space using [gget info](https://pachterlab.github.io/gget/info.html) as above:"
   ]
  },
  {
   "cell_type": "code",
   "execution_count": null,
<<<<<<< HEAD
<<<<<<< HEAD
<<<<<<< HEAD
   "id": "82a3b43c",
||||||| merged common ancestors
   "id": "389f1b0b",
=======
   "id": "1ce42ecb",
>>>>>>> documentation-devel
||||||| f5a2d7c
   "id": "1ce42ecb",
=======
   "id": "5bfa1d40",
>>>>>>> documentation-devel
||||||| de7e30d
   "id": "82a3b43c",
=======
   "id": "4eebf91a",
>>>>>>> 03b044928c05aca10f627eea0665560c78e150c1
   "metadata": {},
   "outputs": [],
   "source": [
    "gget_info2 <- gget$info(rownames(df)[1:6])\n",
    "\n",
    "rownames(gget_info2) <- gget_info2$primary_gene_name\n",
    "select(gget_info2, ncbi_description)"
   ]
  },
  {
   "cell_type": "markdown",
<<<<<<< HEAD
<<<<<<< HEAD
<<<<<<< HEAD
   "id": "c9a2f060",
||||||| merged common ancestors
   "id": "b1adea6a",
=======
   "id": "91479e78",
>>>>>>> documentation-devel
||||||| f5a2d7c
   "id": "91479e78",
=======
   "id": "c92face4",
>>>>>>> documentation-devel
||||||| de7e30d
   "id": "c9a2f060",
=======
   "id": "83cf09f8",
>>>>>>> 03b044928c05aca10f627eea0665560c78e150c1
   "metadata": {
    "lines_to_next_cell": 0
   },
   "source": [
    "Let's plot these genes:"
   ]
  },
  {
   "cell_type": "code",
   "execution_count": null,
<<<<<<< HEAD
<<<<<<< HEAD
<<<<<<< HEAD
   "id": "e4b46fc8",
||||||| merged common ancestors
   "id": "5f96cc04",
=======
   "id": "580ed8cf",
>>>>>>> documentation-devel
||||||| f5a2d7c
   "id": "580ed8cf",
=======
   "id": "3297bcdf",
>>>>>>> documentation-devel
||||||| de7e30d
   "id": "e4b46fc8",
=======
   "id": "f15e7667",
>>>>>>> 03b044928c05aca10f627eea0665560c78e150c1
   "metadata": {
    "fig.height": 7,
    "fig.width": 9
   },
   "outputs": [],
   "source": [
    "plotSpatialFeature(sfe_tissue, rownames(df)[1:6], colGeometryName = \"spotPoly\",\n",
    "                   image = \"lowres\", maxcell = 5e4, swap_rownames = \"symbol\")"
   ]
  },
  {
   "cell_type": "markdown",
<<<<<<< HEAD
<<<<<<< HEAD
<<<<<<< HEAD
   "id": "778fe505",
||||||| merged common ancestors
   "id": "aeaf840f",
=======
   "id": "e72b3947",
>>>>>>> documentation-devel
||||||| f5a2d7c
   "id": "e72b3947",
=======
   "id": "2b44b292",
>>>>>>> documentation-devel
||||||| de7e30d
   "id": "778fe505",
=======
   "id": "e4c03e37",
>>>>>>> 03b044928c05aca10f627eea0665560c78e150c1
   "metadata": {
    "lines_to_next_cell": 0
   },
   "source": [
    "These genes do indeed look spatially variable. However, such spatial variability can simply be due to the histological regions in space, or in other words, spatial distribution of different cell types. There are many methods to identify spatially variable genes, often involving Gaussian process modeling, which are far more complex than Moran's I, such as [`SpatialDE`](https://bioconductor.org/packages/release/bioc/html/spatialDE.html) [@Svensson2018-sx]. However, such methods usually don't account for the histological regions, except for `C-SIDE` [@Cable2022-ma], which identifies spatially variable genes within cell types. This leads to the question of what is really meant by \"cell type\". It remains to see how spatial methods made specifically for identifying spatially variable genes compare with methods that don't explicitly use spatial information but simply perform differential analysis between cell types which often are in spatially defined histological regions. \n",
    "\n",
    "Another consideration in using Moran's I is the extent to which the strength of spatial autocorrelation varies in space. What if a gene exhibits strong spatial autocorrelation in one region, but not in another? Should the different histological regions be analyzed separately in some cases? \n",
    "\n",
    "There are ways to see whether Moran's I is statistically significant, and many other methods to explore spatial autocorrelation. These are discussed in the more advanced [ESDA Visium vignette](https://pachterlab.github.io/voyager/articles/vig2_visium.html). \n",
    "\n",
    "# Session Info"
   ]
  },
  {
   "cell_type": "code",
   "execution_count": null,
<<<<<<< HEAD
<<<<<<< HEAD
<<<<<<< HEAD
   "id": "7ecc7d32",
||||||| merged common ancestors
   "id": "def4d875",
=======
   "id": "8e5d2017",
>>>>>>> documentation-devel
||||||| f5a2d7c
   "id": "8e5d2017",
=======
   "id": "c0f40985",
>>>>>>> documentation-devel
||||||| de7e30d
   "id": "7ecc7d32",
=======
   "id": "dbfecf9d",
>>>>>>> 03b044928c05aca10f627eea0665560c78e150c1
   "metadata": {},
   "outputs": [],
   "source": [
    "sessionInfo()"
   ]
  },
  {
   "cell_type": "markdown",
<<<<<<< HEAD
<<<<<<< HEAD
<<<<<<< HEAD
   "id": "7bac52c1",
||||||| merged common ancestors
   "id": "1cb7dd7c",
=======
   "id": "dd1fdc03",
>>>>>>> documentation-devel
||||||| f5a2d7c
   "id": "dd1fdc03",
=======
   "id": "26281d71",
>>>>>>> documentation-devel
||||||| de7e30d
   "id": "7bac52c1",
=======
   "id": "d898d4cd",
>>>>>>> 03b044928c05aca10f627eea0665560c78e150c1
   "metadata": {},
   "source": [
    "# References"
   ]
  }
 ],
 "metadata": {
  "kernelspec": {
   "display_name": "R",
   "language": "R",
   "name": "ir"
  }
 },
 "nbformat": 4,
 "nbformat_minor": 5
}
