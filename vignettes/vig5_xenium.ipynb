{
 "cells": [
  {
   "cell_type": "raw",
<<<<<<< HEAD
<<<<<<< HEAD
   "id": "139742c1",
||||||| ff06ad40
   "id": "ec17c7b9",
=======
   "id": "8742fcb6",
>>>>>>> documentation-devel
||||||| 1158767b
   "id": "139742c1",
=======
   "id": "359849d3",
>>>>>>> 6e0f6d6ef35309dec3607d4371c747197b435328
   "metadata": {},
   "source": [
    "---\n",
    "title: \"Xenium breast cancer dataset\"\n",
    "author: \"Lambda Moses\"\n",
    "date: \"`r Sys.Date()`\"\n",
    "output: \n",
    "  html_document:\n",
    "  toc: true\n",
    "  toc_float:\n",
    "    collapsed: false\n",
    "  toc_depth: 3\n",
    "bibliography: ref.bib\n",
    "vignette: >\n",
    "  %\\VignetteIndexEntry{xenium}\n",
    "  %\\VignetteEngine{knitr::rmarkdown}\n",
    "  %\\VignetteEncoding{UTF-8}\n",
    "---"
   ]
  },
  {
   "cell_type": "code",
   "execution_count": null,
<<<<<<< HEAD
<<<<<<< HEAD
   "id": "e6756e88",
||||||| ff06ad40
   "id": "0173c5e5",
=======
   "id": "c0605fb1",
>>>>>>> documentation-devel
||||||| 1158767b
   "id": "e6756e88",
=======
   "id": "a5ffd392",
>>>>>>> 6e0f6d6ef35309dec3607d4371c747197b435328
   "metadata": {
    "tags": [
     "remove_cell"
    ]
   },
   "outputs": [],
   "source": [
    "knitr::opts_chunk$set(\n",
    "  collapse = TRUE,\n",
    "  comment = \"#>\", fig.align = \"center\"\n",
    ")"
   ]
  },
  {
   "cell_type": "code",
   "execution_count": null,
<<<<<<< HEAD
<<<<<<< HEAD
   "id": "97f963d6",
||||||| ff06ad40
   "id": "a25113aa",
=======
   "id": "88ac517f",
>>>>>>> documentation-devel
||||||| 1158767b
   "id": "97f963d6",
=======
   "id": "a3f733ab",
>>>>>>> 6e0f6d6ef35309dec3607d4371c747197b435328
   "metadata": {
    "eval": false,
    "tags": [
     "remove_cell"
    ]
   },
   "outputs": [],
   "source": [
    "# Install Google Colab dependencies\n",
    "# Note: this can take 30+ minutes (many of the dependencies include C++ code, which needs to be compiled)\n",
    "\n",
    "# First install `sf`, `ragg` and `textshaping` and their system dependencies:\n",
    "system(\"apt-get -y update && apt-get install -y  libudunits2-dev libgdal-dev libgeos-dev libproj-dev libharfbuzz-dev libfribidi-dev\")\n",
    "install.packages(\"sf\")\n",
    "install.packages(\"textshaping\")\n",
    "install.packages(\"ragg\")\n",
    "\n",
    "# Install system dependencies of some other R packages that Voyager either imports or suggests:\n",
    "system(\"apt-get install -y libfribidi-dev libcairo2-dev libmagick++-dev\")\n",
    "\n",
    "# Install Voyager from Bioconductor:\n",
    "install.packages(\"BiocManager\")\n",
    "BiocManager::install(version = \"3.17\", ask = FALSE, update = FALSE, Ncpus = 2)\n",
    "BiocManager::install(\"scater\")\n",
    "system.time(\n",
    "  BiocManager::install(\"Voyager\", dependencies = TRUE, Ncpus = 2, update = FALSE)\n",
    ")\n",
    "\n",
    "packageVersion(\"Voyager\")"
   ]
  },
  {
   "cell_type": "markdown",
<<<<<<< HEAD
<<<<<<< HEAD
   "id": "37f44ba9",
||||||| ff06ad40
   "id": "82232861",
=======
   "id": "f7b7c1a8",
>>>>>>> documentation-devel
||||||| 1158767b
   "id": "37f44ba9",
=======
   "id": "4e22e8a9",
>>>>>>> 6e0f6d6ef35309dec3607d4371c747197b435328
   "metadata": {},
   "source": [
    "# Introduction\n",
    "\n",
    "Xenium is a new technology from 10X genomics for single cell resolution smFISH based spatial transcriptomics. The first Xenium dataset is for formalin fixed paraffin embedded (FFPE) human breast tumor, reported in [@Janesick2022-rp] and downloaded from the [10X website](https://www.10xgenomics.com/products/xenium-in-situ/preview-dataset-human-breast).\n",
    "\n",
    "The gene count matrix was downloaded as an HDF5 file and read into R as a `SingleCellExperiment` (SCE) object with `DropletUtils::read10xCounts()`. The gene count matrix is originally a `DelayedArray`, so the data is not all loaded into memory. For now, the matrix has been converted into an in memory `dgCMatrix`. However, for the next release, we would like to write another vignette on on disk analyses. The challenge is representing `sf` data frames on disk, perhaps with [`sedona`](https://github.com/apache/incubator-sedona) and [`SQLDataFrame`](https://bioconductor.org/packages/release/bioc/html/SQLDataFrame.html).\n",
    "\n",
    "The cell metadata (including centroid coordinates) and cell segmentation polygons were downloaded as `parquet` files, a more compact way to store columnar data than CSV, and read into R as data frames with `arrow::read_parquet()`. The cell polygons were converted into `sf` data frame with `SpatialFeatureExperiment::df2sf()`. Then the SCE object was converted into `SpatialFeatureExperiment` (SFE) and the polygon geometry was added to the SFE object, which is in the `SFEData` package.\n",
    "\n",
    "Here we load the packages used in this vignette."
   ]
  },
  {
   "cell_type": "code",
   "execution_count": null,
<<<<<<< HEAD
<<<<<<< HEAD
   "id": "6b8cb119",
||||||| ff06ad40
   "id": "30184afe",
=======
   "id": "ebc0cb95",
>>>>>>> documentation-devel
||||||| 1158767b
   "id": "6b8cb119",
=======
   "id": "a7ed7256",
>>>>>>> 6e0f6d6ef35309dec3607d4371c747197b435328
   "metadata": {
    "name": "setup"
   },
   "outputs": [],
   "source": [
    "library(Voyager)\n",
    "library(SFEData) \n",
    "library(SingleCellExperiment)\n",
    "library(SpatialExperiment)\n",
    "library(SpatialFeatureExperiment)\n",
    "library(ggplot2)\n",
    "library(stringr)\n",
    "library(scater) \n",
    "library(scuttle)\n",
    "library(BiocParallel)\n",
    "library(BiocSingular)\n",
    "library(bluster)\n",
    "library(scran)\n",
    "library(patchwork)\n",
    "theme_set(theme_bw())"
   ]
  },
  {
   "cell_type": "code",
   "execution_count": null,
<<<<<<< HEAD
<<<<<<< HEAD
   "id": "0126c31b",
||||||| ff06ad40
   "id": "33b76b73",
=======
   "id": "cb28ace6",
>>>>>>> documentation-devel
||||||| 1158767b
   "id": "0126c31b",
=======
   "id": "92e8f15f",
>>>>>>> 6e0f6d6ef35309dec3607d4371c747197b435328
   "metadata": {},
   "outputs": [],
   "source": [
    "(sfe <- JanesickBreastData(dataset = \"rep2\"))"
   ]
  },
  {
   "cell_type": "markdown",
<<<<<<< HEAD
<<<<<<< HEAD
   "id": "22d2dc18",
||||||| ff06ad40
   "id": "8ffd3322",
=======
   "id": "71ed4d2d",
>>>>>>> documentation-devel
||||||| 1158767b
   "id": "22d2dc18",
=======
   "id": "ce70841f",
>>>>>>> 6e0f6d6ef35309dec3607d4371c747197b435328
   "metadata": {
    "lines_to_next_cell": 0
   },
   "source": [
    "There are 118708 cells in this dataset, a little more than in the CosMX dataset.\n",
    "\n",
    "The SFE object doesn't have column names (i.e. cell IDs). Here we assign cell IDs."
   ]
  },
  {
   "cell_type": "code",
   "execution_count": null,
<<<<<<< HEAD
<<<<<<< HEAD
   "id": "aea95447",
||||||| ff06ad40
   "id": "aacbd1fa",
=======
   "id": "0ad67e34",
>>>>>>> documentation-devel
||||||| 1158767b
   "id": "aea95447",
=======
   "id": "a57ecd4f",
>>>>>>> 6e0f6d6ef35309dec3607d4371c747197b435328
   "metadata": {},
   "outputs": [],
   "source": [
    "colnames(sfe) <- seq_len(ncol(sfe))"
   ]
  },
  {
   "cell_type": "markdown",
<<<<<<< HEAD
<<<<<<< HEAD
   "id": "8513c09b",
||||||| ff06ad40
   "id": "edebc8b6",
=======
   "id": "4d230f9e",
>>>>>>> documentation-devel
||||||| 1158767b
   "id": "8513c09b",
=======
   "id": "21fda19d",
>>>>>>> 6e0f6d6ef35309dec3607d4371c747197b435328
   "metadata": {},
   "source": [
    "This is what the tissue, with the cell outlines, looks like"
   ]
  },
  {
   "cell_type": "code",
   "execution_count": null,
<<<<<<< HEAD
<<<<<<< HEAD
   "id": "e846a5df",
||||||| ff06ad40
   "id": "c56b8b7c",
=======
   "id": "c955c12e",
>>>>>>> documentation-devel
||||||| 1158767b
   "id": "e846a5df",
=======
   "id": "3701e03e",
>>>>>>> 6e0f6d6ef35309dec3607d4371c747197b435328
   "metadata": {},
   "outputs": [],
   "source": [
    "plotGeometry(sfe, \"cellSeg\")"
   ]
  },
  {
   "cell_type": "markdown",
<<<<<<< HEAD
<<<<<<< HEAD
   "id": "748a59ed",
||||||| ff06ad40
   "id": "767fa39f",
=======
   "id": "a3b29aea",
>>>>>>> documentation-devel
||||||| 1158767b
   "id": "748a59ed",
=======
   "id": "a2523f73",
>>>>>>> 6e0f6d6ef35309dec3607d4371c747197b435328
   "metadata": {
    "lines_to_next_cell": 0
   },
   "source": [
    "Plot cell density in space"
   ]
  },
  {
   "cell_type": "code",
   "execution_count": null,
<<<<<<< HEAD
<<<<<<< HEAD
   "id": "20ed135f",
||||||| ff06ad40
   "id": "0a988862",
=======
   "id": "a6e63a4d",
>>>>>>> documentation-devel
||||||| 1158767b
   "id": "20ed135f",
=======
   "id": "b2621fc3",
>>>>>>> 6e0f6d6ef35309dec3607d4371c747197b435328
   "metadata": {},
   "outputs": [],
   "source": [
    "plotCellBin2D(sfe, hex = TRUE)"
   ]
  },
  {
   "cell_type": "markdown",
<<<<<<< HEAD
<<<<<<< HEAD
   "id": "ebbd91c4",
||||||| ff06ad40
   "id": "bdc814bd",
=======
   "id": "5e48f0c5",
>>>>>>> documentation-devel
||||||| 1158767b
   "id": "ebbd91c4",
=======
   "id": "6309e27e",
>>>>>>> 6e0f6d6ef35309dec3607d4371c747197b435328
   "metadata": {},
   "source": [
    "# Quality control\n",
    "## Cells\n",
    "Some QC metrics are precomputed and are stored in `colData`"
   ]
  },
  {
   "cell_type": "code",
   "execution_count": null,
<<<<<<< HEAD
<<<<<<< HEAD
   "id": "9851c892",
||||||| ff06ad40
   "id": "214de84b",
=======
   "id": "c02a26ff",
>>>>>>> documentation-devel
||||||| 1158767b
   "id": "9851c892",
=======
   "id": "da1e321b",
>>>>>>> 6e0f6d6ef35309dec3607d4371c747197b435328
   "metadata": {},
   "outputs": [],
   "source": [
    "names(colData(sfe))"
   ]
  },
  {
   "cell_type": "markdown",
<<<<<<< HEAD
<<<<<<< HEAD
   "id": "474ae7cb",
||||||| ff06ad40
   "id": "b0c59566",
=======
   "id": "eebe85d2",
>>>>>>> documentation-devel
||||||| 1158767b
   "id": "474ae7cb",
=======
   "id": "73c62c26",
>>>>>>> 6e0f6d6ef35309dec3607d4371c747197b435328
   "metadata": {},
   "source": [
    "Since there're more cells, it would be better to plot the tissue larger, so we'll plot the histogram of QC metrics and the spatial plots separately, unlike in the CosMx vignette."
   ]
  },
  {
   "cell_type": "code",
   "execution_count": null,
<<<<<<< HEAD
<<<<<<< HEAD
   "id": "e5ba783d",
||||||| ff06ad40
   "id": "05e81c2d",
=======
   "id": "5e91d73e",
>>>>>>> documentation-devel
||||||| 1158767b
   "id": "e5ba783d",
=======
   "id": "76ecaaa3",
>>>>>>> 6e0f6d6ef35309dec3607d4371c747197b435328
   "metadata": {},
   "outputs": [],
   "source": [
    "n_panel <- 313\n",
    "colData(sfe)$nCounts_normed <- sfe$nCounts/n_panel\n",
    "colData(sfe)$nGenes_normed <- sfe$nGenes/n_panel"
   ]
  },
  {
   "cell_type": "markdown",
<<<<<<< HEAD
<<<<<<< HEAD
   "id": "1ee9d167",
||||||| ff06ad40
   "id": "86e7febb",
=======
   "id": "3a23eff2",
>>>>>>> documentation-devel
||||||| 1158767b
   "id": "1ee9d167",
=======
   "id": "b9863c0b",
>>>>>>> 6e0f6d6ef35309dec3607d4371c747197b435328
   "metadata": {},
   "source": [
    "Here we divided nCounts by the total number of genes probed, so this histogram is comparable to those from other smFISH-based datasets. "
   ]
  },
  {
   "cell_type": "code",
   "execution_count": null,
<<<<<<< HEAD
<<<<<<< HEAD
   "id": "2be73d1f",
||||||| ff06ad40
   "id": "b298ee61",
=======
   "id": "534bfba6",
>>>>>>> documentation-devel
||||||| 1158767b
   "id": "2be73d1f",
=======
   "id": "8af5d1d6",
>>>>>>> 6e0f6d6ef35309dec3607d4371c747197b435328
   "metadata": {},
   "outputs": [],
   "source": [
    "plotColDataHistogram(sfe, c(\"nCounts_normed\", \"nGenes_normed\"))"
   ]
  },
  {
   "cell_type": "markdown",
<<<<<<< HEAD
<<<<<<< HEAD
   "id": "238aa7f4",
||||||| ff06ad40
   "id": "75dd0aa8",
=======
   "id": "10dfea75",
>>>>>>> documentation-devel
||||||| 1158767b
   "id": "238aa7f4",
=======
   "id": "2183df32",
>>>>>>> 6e0f6d6ef35309dec3607d4371c747197b435328
   "metadata": {},
   "source": [
    "Compared to the [FFPE CosMX non-small cell lung cancer dataset](https://pachterlab.github.io/voyager/articles/vig4_cosmx.html#cells), more transcripts per gene on average and a larger proportion of all genes are detected in this dataset, which is also FFPE. However, this should be interpreted with care, since these two datasets are from different tissues and have different gene panels, so this may or may not indicate that Xenium has better detection efficiency than CosMX."
   ]
  },
  {
   "cell_type": "code",
   "execution_count": null,
<<<<<<< HEAD
<<<<<<< HEAD
   "id": "69c09b2f",
||||||| ff06ad40
   "id": "696ead9c",
=======
   "id": "d4ac46fb",
>>>>>>> documentation-devel
||||||| 1158767b
   "id": "69c09b2f",
=======
   "id": "4d253e93",
>>>>>>> 6e0f6d6ef35309dec3607d4371c747197b435328
   "metadata": {},
   "outputs": [],
   "source": [
    "plotSpatialFeature(sfe, \"nCounts\", colGeometryName = \"cellSeg\")"
   ]
  },
  {
   "cell_type": "markdown",
<<<<<<< HEAD
<<<<<<< HEAD
   "id": "ea2e3244",
||||||| ff06ad40
   "id": "50b4ec5f",
=======
   "id": "173e54b4",
>>>>>>> documentation-devel
||||||| 1158767b
   "id": "ea2e3244",
=======
   "id": "c70c8e8f",
>>>>>>> 6e0f6d6ef35309dec3607d4371c747197b435328
   "metadata": {},
   "source": [
    "There seem to be FOV artifacts. However, the cell ID and FOV information were unavailable so we cannot examine them. "
   ]
  },
  {
   "cell_type": "code",
   "execution_count": null,
<<<<<<< HEAD
<<<<<<< HEAD
   "id": "37164f3a",
||||||| ff06ad40
   "id": "30f2d761",
=======
   "id": "a4c70dc8",
>>>>>>> documentation-devel
||||||| 1158767b
   "id": "37164f3a",
=======
   "id": "0c9227f9",
>>>>>>> 6e0f6d6ef35309dec3607d4371c747197b435328
   "metadata": {},
   "outputs": [],
   "source": [
    "plotSpatialFeature(sfe, \"nGenes\", colGeometryName = \"cellSeg\")"
   ]
  },
  {
   "cell_type": "markdown",
<<<<<<< HEAD
<<<<<<< HEAD
   "id": "52f8936a",
||||||| ff06ad40
   "id": "0e501c94",
=======
   "id": "22fb02f1",
>>>>>>> documentation-devel
||||||| 1158767b
   "id": "52f8936a",
=======
   "id": "a1194e15",
>>>>>>> 6e0f6d6ef35309dec3607d4371c747197b435328
   "metadata": {
    "lines_to_next_cell": 0
   },
   "source": [
    "A standard examination is to look at the relationship between nCounts and nGenes:"
   ]
  },
  {
   "cell_type": "code",
   "execution_count": null,
<<<<<<< HEAD
<<<<<<< HEAD
   "id": "9018cfa0",
||||||| ff06ad40
   "id": "2492590f",
=======
   "id": "3fb71ab9",
>>>>>>> documentation-devel
||||||| 1158767b
   "id": "9018cfa0",
=======
   "id": "12ebca94",
>>>>>>> 6e0f6d6ef35309dec3607d4371c747197b435328
   "metadata": {},
   "outputs": [],
   "source": [
    "plotColDataBin2D(sfe, \"nCounts\", \"nGenes\")"
   ]
  },
  {
   "cell_type": "markdown",
<<<<<<< HEAD
<<<<<<< HEAD
   "id": "9a018758",
||||||| ff06ad40
   "id": "18305ab8",
=======
   "id": "1fd525a9",
>>>>>>> documentation-devel
||||||| 1158767b
   "id": "9a018758",
=======
   "id": "ae5aa9dc",
>>>>>>> 6e0f6d6ef35309dec3607d4371c747197b435328
   "metadata": {
    "lines_to_next_cell": 0
   },
   "source": [
    "There appear to be two branches. \n",
    "\n",
    "Here we plot the distribution of cell area"
   ]
  },
  {
   "cell_type": "code",
   "execution_count": null,
<<<<<<< HEAD
<<<<<<< HEAD
   "id": "cd5ea73c",
||||||| ff06ad40
   "id": "8f6384a4",
=======
   "id": "1ebc0325",
>>>>>>> documentation-devel
||||||| 1158767b
   "id": "cd5ea73c",
=======
   "id": "f41590c8",
>>>>>>> 6e0f6d6ef35309dec3607d4371c747197b435328
   "metadata": {},
   "outputs": [],
   "source": [
    "plotColDataHistogram(sfe, c(\"cell_area\", \"nucleus_area\"), scales = \"free_y\")"
   ]
  },
  {
   "cell_type": "markdown",
<<<<<<< HEAD
<<<<<<< HEAD
   "id": "b0c09451",
||||||| ff06ad40
   "id": "269e571f",
=======
   "id": "ff719256",
>>>>>>> documentation-devel
||||||| 1158767b
   "id": "b0c09451",
=======
   "id": "0ae2ded9",
>>>>>>> 6e0f6d6ef35309dec3607d4371c747197b435328
   "metadata": {
    "lines_to_next_cell": 0
   },
   "source": [
    "That should be in pixels. There's a very long tail. The nuclei are much smaller than the cells.\n",
    "\n",
    "How is cell area distributed in space?"
   ]
  },
  {
   "cell_type": "code",
   "execution_count": null,
<<<<<<< HEAD
<<<<<<< HEAD
   "id": "33942fb0",
||||||| ff06ad40
   "id": "a716b2e2",
=======
   "id": "d018cf6d",
>>>>>>> documentation-devel
||||||| 1158767b
   "id": "33942fb0",
=======
   "id": "0a2712f1",
>>>>>>> 6e0f6d6ef35309dec3607d4371c747197b435328
   "metadata": {},
   "outputs": [],
   "source": [
    "plotSpatialFeature(sfe, \"cell_area\", colGeometryName = \"cellSeg\")"
   ]
  },
  {
   "cell_type": "markdown",
<<<<<<< HEAD
<<<<<<< HEAD
   "id": "41508e02",
||||||| ff06ad40
   "id": "e217231f",
=======
   "id": "d3c1378d",
>>>>>>> documentation-devel
||||||| 1158767b
   "id": "41508e02",
=======
   "id": "8572fdca",
>>>>>>> 6e0f6d6ef35309dec3607d4371c747197b435328
   "metadata": {
    "lines_to_next_cell": 0
   },
   "source": [
    "Cells in the sparse region tend to be larger than those in the dense region. This may be biological or an artifact of the cell segmentation algorithm or both.\n",
    "\n",
    "Here the nuclei segmentations are plotted instead of cell segmentation. The nuclei are much smaller to the extent that they are difficult to see."
   ]
  },
  {
   "cell_type": "code",
   "execution_count": null,
<<<<<<< HEAD
<<<<<<< HEAD
   "id": "ac233b7a",
||||||| ff06ad40
   "id": "f2962b12",
=======
   "id": "8888aa00",
>>>>>>> documentation-devel
||||||| 1158767b
   "id": "ac233b7a",
=======
   "id": "03624b70",
>>>>>>> 6e0f6d6ef35309dec3607d4371c747197b435328
   "metadata": {},
   "outputs": [],
   "source": [
    "plotSpatialFeature(sfe, \"nucleus_area\", colGeometryName = \"nucSeg\")"
   ]
  },
  {
   "cell_type": "markdown",
<<<<<<< HEAD
<<<<<<< HEAD
   "id": "e03b384e",
||||||| ff06ad40
   "id": "194ee703",
=======
   "id": "2c4b1411",
>>>>>>> documentation-devel
||||||| 1158767b
   "id": "e03b384e",
=======
   "id": "83ba4191",
>>>>>>> 6e0f6d6ef35309dec3607d4371c747197b435328
   "metadata": {
    "lines_to_next_cell": 0
   },
   "source": [
    "There's an outlier near the right edge of the section, throwing off the dynamic range of the plot. Upon inspection of the H&E image, the outlier is a bit of tissue debris that doesn't look like a cell. But we can still that cells in the dense, gland like regions tend to have larger nuclei. This may be biological, or that nuclei are so densely packed in those regions that they are more likely to be undersegmented, i.e. when multiple nuclei are counted as one by the nuclei segmentation program, or both.\n",
    "\n",
    "These observations motivate an examination of the relationship between cell area and nuclei area:"
   ]
  },
  {
   "cell_type": "code",
   "execution_count": null,
<<<<<<< HEAD
<<<<<<< HEAD
   "id": "aeca7b1e",
||||||| ff06ad40
   "id": "e0654983",
=======
   "id": "aae97d9d",
>>>>>>> documentation-devel
||||||| 1158767b
   "id": "aeca7b1e",
=======
   "id": "b3ecfded",
>>>>>>> 6e0f6d6ef35309dec3607d4371c747197b435328
   "metadata": {},
   "outputs": [],
   "source": [
    "plotColDataBin2D(sfe, \"cell_area\", \"nucleus_area\") + \n",
    "    scale_fill_viridis_c()"
   ]
  },
  {
   "cell_type": "markdown",
<<<<<<< HEAD
<<<<<<< HEAD
   "id": "3e42296c",
||||||| ff06ad40
   "id": "851998fe",
=======
   "id": "d23c9e50",
>>>>>>> documentation-devel
||||||| 1158767b
   "id": "3e42296c",
=======
   "id": "a2ef8422",
>>>>>>> 6e0f6d6ef35309dec3607d4371c747197b435328
   "metadata": {},
   "source": [
    "Again, there are two branches, probably related to cell density and cell type. The nucleus outlier also has large cell area, though it is not as much an outlier in cell area. However, it is a spatial outlier as it's unusually large compared to its neighbors (scroll up two plots back). \n",
    "\n",
    "Next we calculate the proportion of cell in this z-plane taken up by the nucleus, and examine the distribution:"
   ]
  },
  {
   "cell_type": "code",
   "execution_count": null,
<<<<<<< HEAD
<<<<<<< HEAD
   "id": "41d00070",
||||||| ff06ad40
   "id": "c1c5d882",
=======
   "id": "23ba0a44",
>>>>>>> documentation-devel
||||||| 1158767b
   "id": "41d00070",
=======
   "id": "2db7f06d",
>>>>>>> 6e0f6d6ef35309dec3607d4371c747197b435328
   "metadata": {},
   "outputs": [],
   "source": [
    "colData(sfe)$prop_nuc <- sfe$nucleus_area / sfe$cell_area"
   ]
  },
  {
   "cell_type": "code",
   "execution_count": null,
<<<<<<< HEAD
<<<<<<< HEAD
   "id": "892a254d",
||||||| ff06ad40
   "id": "eab1227e",
=======
   "id": "a38c7c70",
>>>>>>> documentation-devel
||||||| 1158767b
   "id": "892a254d",
=======
   "id": "ebb694db",
>>>>>>> 6e0f6d6ef35309dec3607d4371c747197b435328
   "metadata": {},
   "outputs": [],
   "source": [
    "plotColDataHistogram(sfe, \"prop_nuc\")"
   ]
  },
  {
   "cell_type": "markdown",
<<<<<<< HEAD
<<<<<<< HEAD
   "id": "ca6dcf4b",
||||||| ff06ad40
   "id": "9f4961c5",
=======
   "id": "4d65adff",
>>>>>>> documentation-devel
||||||| 1158767b
   "id": "ca6dcf4b",
=======
   "id": "5740f52b",
>>>>>>> 6e0f6d6ef35309dec3607d4371c747197b435328
   "metadata": {
    "lines_to_next_cell": 0
   },
   "source": [
    "This distribution could have been generated from two peaks that were combined. From the histogram, there do not seem to be cells without nuclei or segmentation artifacts where the nucleus is larger than the cell. However, there are so many cells in this dataset and it is possible that just a few cells would not be visible on this histogram. We double check:"
   ]
  },
  {
   "cell_type": "code",
   "execution_count": null,
<<<<<<< HEAD
<<<<<<< HEAD
   "id": "2eb9ba58",
||||||| ff06ad40
   "id": "579a7d6d",
=======
   "id": "7b9e9f54",
>>>>>>> documentation-devel
||||||| 1158767b
   "id": "2eb9ba58",
=======
   "id": "35b89777",
>>>>>>> 6e0f6d6ef35309dec3607d4371c747197b435328
   "metadata": {},
   "outputs": [],
   "source": [
    "# No nucleus\n",
    "sum(sfe$nucleus_area < 1)\n",
    "# Nucleus larger than cell\n",
    "sum(sfe$nucleus_area > sfe$cell_area)"
   ]
  },
  {
   "cell_type": "markdown",
<<<<<<< HEAD
<<<<<<< HEAD
   "id": "28c95228",
||||||| ff06ad40
   "id": "56164160",
=======
   "id": "8164e1e2",
>>>>>>> documentation-devel
||||||| 1158767b
   "id": "28c95228",
=======
   "id": "7d6c7d86",
>>>>>>> 6e0f6d6ef35309dec3607d4371c747197b435328
   "metadata": {
    "lines_to_next_cell": 0
   },
   "source": [
    "So there are no cells without nuclei or nuclei larger than their cells. Here we plot the nuclei proportion in space:"
   ]
  },
  {
   "cell_type": "code",
   "execution_count": null,
<<<<<<< HEAD
<<<<<<< HEAD
   "id": "180101cc",
||||||| ff06ad40
   "id": "4633c6c3",
=======
   "id": "fc267652",
>>>>>>> documentation-devel
||||||| 1158767b
   "id": "180101cc",
=======
   "id": "775fe461",
>>>>>>> 6e0f6d6ef35309dec3607d4371c747197b435328
   "metadata": {},
   "outputs": [],
   "source": [
    "plotSpatialFeature(sfe, \"prop_nuc\", colGeometryName = \"cellSeg\")"
   ]
  },
  {
   "cell_type": "markdown",
<<<<<<< HEAD
<<<<<<< HEAD
   "id": "d02e6394",
||||||| ff06ad40
   "id": "f619362b",
=======
   "id": "a9e147df",
>>>>>>> documentation-devel
||||||| 1158767b
   "id": "d02e6394",
=======
   "id": "f5000234",
>>>>>>> 6e0f6d6ef35309dec3607d4371c747197b435328
   "metadata": {
    "lines_to_next_cell": 0
   },
   "source": [
    "Cells in some histological regions have larger proportions occupied by the nuclei. It is interesting to check, controlling for cell type, how cell area, nucleus area, and the proportion of cell occupied by nucleus relate to gene expression. However, a problem in performing such an analysis is that cell segmentation is only available for one z-plane here and these areas also relate to where this z-plane intersects each cell. \n",
    "\n",
    "Below we plot a 2D histogram to better show the density of points on this plot:"
   ]
  },
  {
   "cell_type": "code",
   "execution_count": null,
<<<<<<< HEAD
<<<<<<< HEAD
   "id": "9a98736d",
||||||| ff06ad40
   "id": "6587ee1f",
=======
   "id": "8dae7176",
>>>>>>> documentation-devel
||||||| 1158767b
   "id": "9a98736d",
=======
   "id": "a58ef7a5",
>>>>>>> 6e0f6d6ef35309dec3607d4371c747197b435328
   "metadata": {},
   "outputs": [],
   "source": [
    "plotColDataBin2D(sfe, \"cell_area\", \"prop_nuc\") + \n",
    "    scale_fill_viridis_c()"
   ]
  },
  {
   "cell_type": "markdown",
<<<<<<< HEAD
<<<<<<< HEAD
   "id": "68e6ea28",
||||||| ff06ad40
   "id": "db004ac9",
=======
   "id": "6b3c7932",
>>>>>>> documentation-devel
||||||| 1158767b
   "id": "68e6ea28",
=======
   "id": "dcc8c89d",
>>>>>>> 6e0f6d6ef35309dec3607d4371c747197b435328
   "metadata": {
    "lines_to_next_cell": 0
   },
   "source": [
    "Smaller cells tend to have higher proportion occupied by the nucleus. This can be related to cell type, or it could be a limitation in how small the nuclei can be in this tissue.\n",
    "\n",
    "We also examine the relationship between nucleus area and the proportion of cell occupied by the nucleus:"
   ]
  },
  {
   "cell_type": "code",
   "execution_count": null,
<<<<<<< HEAD
<<<<<<< HEAD
   "id": "7320a09a",
||||||| ff06ad40
   "id": "e9ce6274",
=======
   "id": "db115837",
>>>>>>> documentation-devel
||||||| 1158767b
   "id": "7320a09a",
=======
   "id": "efb9bad8",
>>>>>>> 6e0f6d6ef35309dec3607d4371c747197b435328
   "metadata": {},
   "outputs": [],
   "source": [
    "plotColDataBin2D(sfe, \"nucleus_area\", \"prop_nuc\") + \n",
    "    scale_fill_viridis_c()"
   ]
  },
  {
   "cell_type": "markdown",
<<<<<<< HEAD
<<<<<<< HEAD
   "id": "0b7297b8",
||||||| ff06ad40
   "id": "3a61cdbc",
=======
   "id": "e41f3e16",
>>>>>>> documentation-devel
||||||| 1158767b
   "id": "0b7297b8",
=======
   "id": "815cff8a",
>>>>>>> 6e0f6d6ef35309dec3607d4371c747197b435328
   "metadata": {
    "lines_to_next_cell": 0
   },
   "source": [
    "The outlier is obvious. There are more cells with both small nuclei and low proportion of area occupied by the nucleus.\n",
    "\n",
    "## Negative controls\n",
    "Since there are only a few hundred genes plus negative control probes, all row names of the SFE object can be printed out to find what the negative control probes are called."
   ]
  },
  {
   "cell_type": "code",
   "execution_count": null,
<<<<<<< HEAD
<<<<<<< HEAD
   "id": "56923003",
||||||| ff06ad40
   "id": "dd665ca9",
=======
   "id": "e5ec1ec8",
>>>>>>> documentation-devel
||||||| 1158767b
   "id": "56923003",
=======
   "id": "5708daaa",
>>>>>>> 6e0f6d6ef35309dec3607d4371c747197b435328
   "metadata": {},
   "outputs": [],
   "source": [
    "rownames(sfe)"
   ]
  },
  {
   "cell_type": "markdown",
<<<<<<< HEAD
<<<<<<< HEAD
   "id": "9c4a2fd0",
||||||| ff06ad40
   "id": "372ae3e4",
=======
   "id": "f90c9868",
>>>>>>> documentation-devel
||||||| 1158767b
   "id": "9c4a2fd0",
=======
   "id": "6bf2e9bd",
>>>>>>> 6e0f6d6ef35309dec3607d4371c747197b435328
   "metadata": {},
   "source": [
    "According to the Xenium paper [@Janesick2022-rp], there are 3 types of controls:\n",
    "\n",
    "> 1) probe controls to assess non-specific binding to RNA, \n",
    "2) decoding controls to assess misassigned genes, and \n",
    "3) genomic DNA (gDNA) controls to ensure the signal is from RNA.\n",
    "\n",
    "The paper does not explain in detail how those control probes were designed, nor explain what the blank probes are. But the blank probes can be used as a negative control."
   ]
  },
  {
   "cell_type": "code",
   "execution_count": null,
<<<<<<< HEAD
<<<<<<< HEAD
   "id": "7d696207",
||||||| ff06ad40
   "id": "f84460ab",
=======
   "id": "1a3d1bd8",
>>>>>>> documentation-devel
||||||| 1158767b
   "id": "7d696207",
=======
   "id": "f909e9df",
>>>>>>> 6e0f6d6ef35309dec3607d4371c747197b435328
   "metadata": {},
   "outputs": [],
   "source": [
    "is_blank <- str_detect(rownames(sfe), \"^BLANK_\")\n",
    "sum(is_blank)"
   ]
  },
  {
   "cell_type": "markdown",
<<<<<<< HEAD
<<<<<<< HEAD
   "id": "9031c555",
||||||| ff06ad40
   "id": "023b02c9",
=======
   "id": "f485b567",
>>>>>>> documentation-devel
||||||| 1158767b
   "id": "9031c555",
=======
   "id": "39c00ecc",
>>>>>>> 6e0f6d6ef35309dec3607d4371c747197b435328
   "metadata": {
    "lines_to_next_cell": 0
   },
   "source": [
    "This should be number 1, the probe control"
   ]
  },
  {
   "cell_type": "code",
   "execution_count": null,
<<<<<<< HEAD
<<<<<<< HEAD
   "id": "b98e3d64",
||||||| ff06ad40
   "id": "e571a091",
=======
   "id": "0f33b094",
>>>>>>> documentation-devel
||||||| 1158767b
   "id": "b98e3d64",
=======
   "id": "3a3f2f45",
>>>>>>> 6e0f6d6ef35309dec3607d4371c747197b435328
   "metadata": {},
   "outputs": [],
   "source": [
    "is_neg <- str_detect(rownames(sfe), \"^NegControlProbe\")\n",
    "sum(is_neg)"
   ]
  },
  {
   "cell_type": "markdown",
<<<<<<< HEAD
<<<<<<< HEAD
   "id": "7a8a6637",
||||||| ff06ad40
   "id": "8c24d634",
=======
   "id": "66c53394",
>>>>>>> documentation-devel
||||||| 1158767b
   "id": "7a8a6637",
=======
   "id": "59f4ca90",
>>>>>>> 6e0f6d6ef35309dec3607d4371c747197b435328
   "metadata": {
    "lines_to_next_cell": 0
   },
   "source": [
    "This should be number 2, the decoding control"
   ]
  },
  {
   "cell_type": "code",
   "execution_count": null,
<<<<<<< HEAD
<<<<<<< HEAD
   "id": "c2dd8b04",
||||||| ff06ad40
   "id": "018664e3",
=======
   "id": "44765584",
>>>>>>> documentation-devel
||||||| 1158767b
   "id": "c2dd8b04",
=======
   "id": "d5d85bef",
>>>>>>> 6e0f6d6ef35309dec3607d4371c747197b435328
   "metadata": {},
   "outputs": [],
   "source": [
    "is_neg2 <- str_detect(rownames(sfe), \"^NegControlCodeword\")\n",
    "sum(is_neg2)"
   ]
  },
  {
   "cell_type": "markdown",
<<<<<<< HEAD
<<<<<<< HEAD
   "id": "e95b3092",
||||||| ff06ad40
   "id": "b787cc50",
=======
   "id": "b1a3ef5f",
>>>>>>> documentation-devel
||||||| 1158767b
   "id": "e95b3092",
=======
   "id": "467a66de",
>>>>>>> 6e0f6d6ef35309dec3607d4371c747197b435328
   "metadata": {
    "lines_to_next_cell": 0
   },
   "source": [
    "This must be number 3, gDNA control"
   ]
  },
  {
   "cell_type": "code",
   "execution_count": null,
<<<<<<< HEAD
<<<<<<< HEAD
   "id": "c258cac7",
||||||| ff06ad40
   "id": "b002b539",
=======
   "id": "14d734b9",
>>>>>>> documentation-devel
||||||| 1158767b
   "id": "c258cac7",
=======
   "id": "e04ed480",
>>>>>>> 6e0f6d6ef35309dec3607d4371c747197b435328
   "metadata": {},
   "outputs": [],
   "source": [
    "is_anti <- str_detect(rownames(sfe), \"^antisense\")\n",
    "sum(is_anti)"
   ]
  },
  {
   "cell_type": "markdown",
<<<<<<< HEAD
<<<<<<< HEAD
   "id": "1e1296f7",
||||||| ff06ad40
   "id": "bbe43982",
=======
   "id": "dbfd4d44",
>>>>>>> documentation-devel
||||||| 1158767b
   "id": "1e1296f7",
=======
   "id": "6330aa9d",
>>>>>>> 6e0f6d6ef35309dec3607d4371c747197b435328
   "metadata": {
    "lines_to_next_cell": 0
   },
   "source": [
    "Also make an indicator of whether a feature is any sort of negative control"
   ]
  },
  {
   "cell_type": "code",
   "execution_count": null,
<<<<<<< HEAD
<<<<<<< HEAD
   "id": "5dd3f708",
||||||| ff06ad40
   "id": "f15841a0",
=======
   "id": "a5fad6e5",
>>>>>>> documentation-devel
||||||| 1158767b
   "id": "5dd3f708",
=======
   "id": "62f5ee23",
>>>>>>> 6e0f6d6ef35309dec3607d4371c747197b435328
   "metadata": {},
   "outputs": [],
   "source": [
    "is_any_neg <- is_blank | is_neg | is_neg2 | is_anti"
   ]
  },
  {
   "cell_type": "markdown",
<<<<<<< HEAD
<<<<<<< HEAD
   "id": "726cbebe",
||||||| ff06ad40
   "id": "bf4b3c1d",
=======
   "id": "4cf0eff5",
>>>>>>> documentation-devel
||||||| 1158767b
   "id": "726cbebe",
=======
   "id": "6bd286ec",
>>>>>>> 6e0f6d6ef35309dec3607d4371c747197b435328
   "metadata": {
    "lines_to_next_cell": 0
   },
   "source": [
    "The `addPerCellQCMetrics()` function in the `scuttle` package can conveniently add transcript counts, proportion of total counts, and number of features detected for any subset of features to the SCE object. Here we do this for the SFE object, as SFE inherits from SCE. "
   ]
  },
  {
   "cell_type": "code",
   "execution_count": null,
<<<<<<< HEAD
<<<<<<< HEAD
   "id": "8428295b",
||||||| ff06ad40
   "id": "cd9f984a",
=======
   "id": "0a425c6f",
>>>>>>> documentation-devel
||||||| 1158767b
   "id": "8428295b",
=======
   "id": "1b2d7ffe",
>>>>>>> 6e0f6d6ef35309dec3607d4371c747197b435328
   "metadata": {},
   "outputs": [],
   "source": [
    "sfe <- addPerCellQCMetrics(sfe, subsets = list(blank = is_blank,\n",
    "                                               negProbe = is_neg,\n",
    "                                               negCodeword = is_neg2,\n",
    "                                               anti = is_anti,\n",
    "                                               any_neg = is_any_neg))"
   ]
  },
  {
   "cell_type": "code",
   "execution_count": null,
<<<<<<< HEAD
<<<<<<< HEAD
   "id": "4fe6a08a",
||||||| ff06ad40
   "id": "b7223fb7",
=======
   "id": "8eab62a7",
>>>>>>> documentation-devel
||||||| 1158767b
   "id": "4fe6a08a",
=======
   "id": "1f08c906",
>>>>>>> 6e0f6d6ef35309dec3607d4371c747197b435328
   "metadata": {},
   "outputs": [],
   "source": [
    "names(colData(sfe))"
   ]
  },
  {
   "cell_type": "markdown",
<<<<<<< HEAD
<<<<<<< HEAD
   "id": "82dd7b8d",
||||||| ff06ad40
   "id": "6f512cd4",
=======
   "id": "38b94be2",
>>>>>>> documentation-devel
||||||| 1158767b
   "id": "82dd7b8d",
=======
   "id": "f03cc7bf",
>>>>>>> 6e0f6d6ef35309dec3607d4371c747197b435328
   "metadata": {},
   "source": [
    "Next we plot the proportion of transcript counts coming from any negative control. "
   ]
  },
  {
   "cell_type": "code",
   "execution_count": null,
<<<<<<< HEAD
<<<<<<< HEAD
   "id": "f49f3c09",
||||||| ff06ad40
   "id": "ea922977",
=======
   "id": "a3bc132b",
>>>>>>> documentation-devel
||||||| 1158767b
   "id": "f49f3c09",
=======
   "id": "f717de2e",
>>>>>>> 6e0f6d6ef35309dec3607d4371c747197b435328
   "metadata": {},
   "outputs": [],
   "source": [
    "cols_use <- names(colData(sfe))[str_detect(names(colData(sfe)), \"_percent$\")]\n",
    "plotColDataHistogram(sfe, cols_use, bins = 100, ncol = 3)"
   ]
  },
  {
   "cell_type": "markdown",
<<<<<<< HEAD
<<<<<<< HEAD
   "id": "4a0c49d7",
||||||| ff06ad40
   "id": "d14aee8e",
=======
   "id": "c066e2d5",
>>>>>>> documentation-devel
||||||| 1158767b
   "id": "4a0c49d7",
=======
   "id": "d6ca1816",
>>>>>>> 6e0f6d6ef35309dec3607d4371c747197b435328
   "metadata": {
    "lines_to_next_cell": 0
   },
   "source": [
    "The histogram is dominated by the bin at zero and there are some extreme outliers too few to be seen but evident from the scale of the x axis. We also plot the histogram only for cells with at least 1 count from a negative control. The NA's come from cells that got segmented but have no transcripts detected."
   ]
  },
  {
   "cell_type": "code",
   "execution_count": null,
<<<<<<< HEAD
<<<<<<< HEAD
   "id": "0a2454c6",
||||||| ff06ad40
   "id": "1768f8e1",
=======
   "id": "9a5b4f26",
>>>>>>> documentation-devel
||||||| 1158767b
   "id": "0a2454c6",
=======
   "id": "13878324",
>>>>>>> 6e0f6d6ef35309dec3607d4371c747197b435328
   "metadata": {},
   "outputs": [],
   "source": [
    "plotColDataHistogram(sfe, cols_use, bins = 100, ncol = 3) + \n",
    "    scale_x_log10() +\n",
    "    annotation_logticks(sides = \"b\")"
   ]
  },
  {
   "cell_type": "markdown",
<<<<<<< HEAD
<<<<<<< HEAD
   "id": "58dc04c4",
||||||| ff06ad40
   "id": "40b0fe1e",
=======
   "id": "3a1a85da",
>>>>>>> documentation-devel
||||||| 1158767b
   "id": "58dc04c4",
=======
   "id": "55a2bec8",
>>>>>>> 6e0f6d6ef35309dec3607d4371c747197b435328
   "metadata": {
    "lines_to_next_cell": 0
   },
   "source": [
    "The vast majority of these cells have less than 1% of transcript counts from negative controls, but there are outliers with up to 50%. \n",
    "\n",
    "Next we plot the distribution of the number of negative control counts per cell:"
   ]
  },
  {
   "cell_type": "code",
   "execution_count": null,
<<<<<<< HEAD
<<<<<<< HEAD
   "id": "63512799",
||||||| ff06ad40
   "id": "91132370",
=======
   "id": "e0c75f06",
>>>>>>> documentation-devel
||||||| 1158767b
   "id": "63512799",
=======
   "id": "84e9f0c5",
>>>>>>> 6e0f6d6ef35309dec3607d4371c747197b435328
   "metadata": {},
   "outputs": [],
   "source": [
    "cols_use2 <- names(colData(sfe))[str_detect(names(colData(sfe)), \"_detected$\")]\n",
    "plotColDataHistogram(sfe, cols_use2, bins = 20, ncol = 3) +\n",
    "    # Avoid decimal breaks on x axis unless there're too few breaks\n",
    "    scale_x_continuous(breaks = scales::breaks_extended(Q = c(1,2,5)))"
   ]
  },
  {
   "cell_type": "markdown",
<<<<<<< HEAD
<<<<<<< HEAD
   "id": "e4160c05",
||||||| ff06ad40
   "id": "43e1f828",
=======
   "id": "e21c641f",
>>>>>>> documentation-devel
||||||| 1158767b
   "id": "e4160c05",
=======
   "id": "2fd34275",
>>>>>>> 6e0f6d6ef35309dec3607d4371c747197b435328
   "metadata": {},
   "source": [
    "The counts are low, mostly zero, but there are outliers with up to 10 counts of all types aggregated. Then the outlier with 50% of counts from negative controls must have very low total real transcript counts to begin with.\n",
    "\n",
    "The `scuttle` package can detect outliers, but by default it assigns anything above zero as an outlier, since that is over 3 median absolute deviations (MADs) away from the median, which is 0, and the MAD is 0 since the vast majority of cells don't have any negative control count. But it makes sense to allow a small proportion of negative controls. Here we use the distribution just for cells with at least 1 negative control count to find outliers. This distribution has a very long tail and some definite outliers.\n",
    "\n",
    "The code below extracts the outliers, based only on cells with at least one negative control count"
   ]
  },
  {
   "cell_type": "code",
   "execution_count": null,
<<<<<<< HEAD
<<<<<<< HEAD
   "id": "be9409ea",
||||||| ff06ad40
   "id": "0c46e73e",
=======
   "id": "5484f7d5",
>>>>>>> documentation-devel
||||||| 1158767b
   "id": "be9409ea",
=======
   "id": "b03126bf",
>>>>>>> 6e0f6d6ef35309dec3607d4371c747197b435328
   "metadata": {},
   "outputs": [],
   "source": [
    "get_neg_ctrl_outliers <- function(col, sfe) {\n",
    "    inds <- colData(sfe)$nCounts > 0 & colData(sfe)[[col]] > 0\n",
    "    df <- colData(sfe)[inds,]\n",
    "    outlier_inds <- isOutlier(df[[col]], type = \"higher\")\n",
    "    outliers <- rownames(df)[outlier_inds]\n",
    "    col2 <- str_remove(col, \"^subsets_\")\n",
    "    col2 <- str_remove(col2, \"_percent$\")\n",
    "    new_colname <- paste(\"is\", col2, \"outlier\", sep = \"_\")\n",
    "    colData(sfe)[[new_colname]] <- colnames(sfe) %in% outliers\n",
    "    sfe\n",
    "}"
   ]
  },
  {
   "cell_type": "code",
   "execution_count": null,
<<<<<<< HEAD
<<<<<<< HEAD
   "id": "691dea59",
||||||| ff06ad40
   "id": "482e5cc8",
=======
   "id": "1db48a6f",
>>>>>>> documentation-devel
||||||| 1158767b
   "id": "691dea59",
=======
   "id": "47587137",
>>>>>>> 6e0f6d6ef35309dec3607d4371c747197b435328
   "metadata": {},
   "outputs": [],
   "source": [
    "cols_use <- names(colData(sfe))[str_detect(names(colData(sfe)), \"_percent$\")]\n",
    "for (n in cols_use) {\n",
    "    sfe <- get_neg_ctrl_outliers(n, sfe)\n",
    "}"
   ]
  },
  {
   "cell_type": "code",
   "execution_count": null,
<<<<<<< HEAD
<<<<<<< HEAD
   "id": "0cd42d7c",
||||||| ff06ad40
   "id": "e92f2032",
=======
   "id": "367b3281",
>>>>>>> documentation-devel
||||||| 1158767b
   "id": "0cd42d7c",
=======
   "id": "e7beb255",
>>>>>>> 6e0f6d6ef35309dec3607d4371c747197b435328
   "metadata": {},
   "outputs": [],
   "source": [
    "names(colData(sfe))"
   ]
  },
  {
   "cell_type": "markdown",
<<<<<<< HEAD
<<<<<<< HEAD
   "id": "376e74da",
||||||| ff06ad40
   "id": "b4113636",
=======
   "id": "721d72b0",
>>>>>>> documentation-devel
||||||| 1158767b
   "id": "376e74da",
=======
   "id": "99fe685b",
>>>>>>> 6e0f6d6ef35309dec3607d4371c747197b435328
   "metadata": {
    "lines_to_next_cell": 0
   },
   "source": [
    "Below we examine where the outliers are located in space:"
   ]
  },
  {
   "cell_type": "code",
   "execution_count": null,
<<<<<<< HEAD
<<<<<<< HEAD
   "id": "6a5fe0af",
||||||| ff06ad40
   "id": "89ef8ce2",
=======
   "id": "27240368",
>>>>>>> documentation-devel
||||||| 1158767b
   "id": "6a5fe0af",
=======
   "id": "85a22f41",
>>>>>>> 6e0f6d6ef35309dec3607d4371c747197b435328
   "metadata": {},
   "outputs": [],
   "source": [
    "plotSpatialFeature(sfe, \"is_blank_outlier\", colGeometryName = \"cellSeg\")"
   ]
  },
  {
   "cell_type": "markdown",
<<<<<<< HEAD
<<<<<<< HEAD
   "id": "1a1d94dc",
||||||| ff06ad40
   "id": "7bfe2f0e",
=======
   "id": "c2600b40",
>>>>>>> documentation-devel
||||||| 1158767b
   "id": "1a1d94dc",
=======
   "id": "f27624e3",
>>>>>>> 6e0f6d6ef35309dec3607d4371c747197b435328
   "metadata": {
    "lines_to_next_cell": 0
   },
   "source": [
    "We find that the outliers are difficult to see:"
   ]
  },
  {
   "cell_type": "code",
   "execution_count": null,
<<<<<<< HEAD
<<<<<<< HEAD
   "id": "21584049",
||||||| ff06ad40
   "id": "45983a5c",
=======
   "id": "63ba5ebf",
>>>>>>> documentation-devel
||||||| 1158767b
   "id": "21584049",
=======
   "id": "1aec7e7b",
>>>>>>> 6e0f6d6ef35309dec3607d4371c747197b435328
   "metadata": {},
   "outputs": [],
   "source": [
    "plotColData(sfe, y = \"is_blank_outlier\", x = \"cell_area\", \n",
    "            point_fun = function(...) list()) "
   ]
  },
  {
   "cell_type": "markdown",
<<<<<<< HEAD
<<<<<<< HEAD
   "id": "9b465077",
||||||| ff06ad40
   "id": "e66a656b",
=======
   "id": "61503b40",
>>>>>>> documentation-devel
||||||| 1158767b
   "id": "9b465077",
=======
   "id": "e3c47992",
>>>>>>> 6e0f6d6ef35309dec3607d4371c747197b435328
   "metadata": {
    "lines_to_next_cell": 0
   },
   "source": [
    "The analysis reveals that the outliers seem to be smaller. Outliers for negative probe controls and negative codeword controls are also hard to see on the plot, so their plots are skipped here. But the top left region in the tissue tends to have more counts from antisense controls. "
   ]
  },
  {
   "cell_type": "code",
   "execution_count": null,
<<<<<<< HEAD
<<<<<<< HEAD
   "id": "2438cd2c",
||||||| ff06ad40
   "id": "5c027677",
=======
   "id": "52310a11",
>>>>>>> documentation-devel
||||||| 1158767b
   "id": "2438cd2c",
=======
   "id": "b37dfc88",
>>>>>>> 6e0f6d6ef35309dec3607d4371c747197b435328
   "metadata": {},
   "outputs": [],
   "source": [
    "plotSpatialFeature(sfe, \"is_anti_outlier\", colGeometryName = \"cellSeg\")"
   ]
  },
  {
   "cell_type": "markdown",
<<<<<<< HEAD
<<<<<<< HEAD
   "id": "8a9a3986",
||||||| ff06ad40
   "id": "ce887484",
=======
   "id": "8e16949a",
>>>>>>> documentation-devel
||||||| 1158767b
   "id": "8a9a3986",
=======
   "id": "eb32eb01",
>>>>>>> 6e0f6d6ef35309dec3607d4371c747197b435328
   "metadata": {},
   "source": [
    "Now that we have identified the outliers, we can remove them along with empty cells before proceeding to further analysis:"
   ]
  },
  {
   "cell_type": "code",
   "execution_count": null,
<<<<<<< HEAD
<<<<<<< HEAD
   "id": "a5db989a",
||||||| ff06ad40
   "id": "ecc1a3b1",
=======
   "id": "d9f34536",
>>>>>>> documentation-devel
||||||| 1158767b
   "id": "a5db989a",
=======
   "id": "a2ee892f",
>>>>>>> 6e0f6d6ef35309dec3607d4371c747197b435328
   "metadata": {},
   "outputs": [],
   "source": [
    "inds_keep <- sfe$nCounts > 0 & sfe$nucleus_area < 400 & !sfe$is_anti_outlier &\n",
    "    !sfe$is_blank_outlier & !sfe$is_negCodeword_outlier & !sfe$is_negProbe_outlier\n",
    "(sfe <- sfe[,inds_keep])"
   ]
  },
  {
   "cell_type": "markdown",
<<<<<<< HEAD
<<<<<<< HEAD
   "id": "514d5d2b",
||||||| ff06ad40
   "id": "084269b3",
=======
   "id": "3f6840e9",
>>>>>>> documentation-devel
||||||| 1158767b
   "id": "514d5d2b",
=======
   "id": "57d28f45",
>>>>>>> 6e0f6d6ef35309dec3607d4371c747197b435328
   "metadata": {
    "lines_to_next_cell": 0
   },
   "source": [
    "Over 1000 cells were removed. \n",
    "\n",
    "Next we check how many negative control features are detected per cell:"
   ]
  },
  {
   "cell_type": "code",
   "execution_count": null,
<<<<<<< HEAD
<<<<<<< HEAD
   "id": "b1b666aa",
||||||| ff06ad40
   "id": "5b624448",
=======
   "id": "53308161",
>>>>>>> documentation-devel
||||||| 1158767b
   "id": "b1b666aa",
=======
   "id": "725086ed",
>>>>>>> 6e0f6d6ef35309dec3607d4371c747197b435328
   "metadata": {},
   "outputs": [],
   "source": [
    "plotColDataHistogram(sfe, cols_use2, bins = 20, ncol = 3) +\n",
    "    # Avoid decimal breaks on x axis unless there're too few breaks\n",
    "    scale_x_continuous(breaks = scales::breaks_extended(3, Q = c(1,2,5)))"
   ]
  },
  {
   "cell_type": "markdown",
<<<<<<< HEAD
<<<<<<< HEAD
   "id": "8d440213",
||||||| ff06ad40
   "id": "12ccfdaf",
=======
   "id": "5ee3d148",
>>>>>>> documentation-devel
||||||| 1158767b
   "id": "8d440213",
=======
   "id": "afa6006b",
>>>>>>> 6e0f6d6ef35309dec3607d4371c747197b435328
   "metadata": {
    "lines_to_next_cell": 0
   },
   "source": [
    "There are at most 3 counts per cell per type. For the non-outliers, each type is at most around 1%, so this data looks good. \n",
    "\n",
    "## Genes\n",
    "Here we look at the mean and variance of each gene"
   ]
  },
  {
   "cell_type": "code",
   "execution_count": null,
<<<<<<< HEAD
<<<<<<< HEAD
   "id": "5c01dcc5",
||||||| ff06ad40
   "id": "977650f1",
=======
   "id": "9dfdf83b",
>>>>>>> documentation-devel
||||||| 1158767b
   "id": "5c01dcc5",
=======
   "id": "53e2ff99",
>>>>>>> 6e0f6d6ef35309dec3607d4371c747197b435328
   "metadata": {},
   "outputs": [],
   "source": [
    "rowData(sfe)$means <- rowMeans(counts(sfe))\n",
    "rowData(sfe)$vars <- rowVars(counts(sfe))"
   ]
  },
  {
   "cell_type": "markdown",
<<<<<<< HEAD
<<<<<<< HEAD
   "id": "e71894fd",
||||||| ff06ad40
   "id": "735f9bfd",
=======
   "id": "3c1d7eba",
>>>>>>> documentation-devel
||||||| 1158767b
   "id": "e71894fd",
=======
   "id": "d01fac0f",
>>>>>>> 6e0f6d6ef35309dec3607d4371c747197b435328
   "metadata": {
    "lines_to_next_cell": 0
   },
   "source": [
    "Real genes generally have higher mean expression across cells than negative controls."
   ]
  },
  {
   "cell_type": "code",
   "execution_count": null,
<<<<<<< HEAD
<<<<<<< HEAD
   "id": "bf189382",
||||||| ff06ad40
   "id": "4f1fd299",
=======
   "id": "1e93c409",
>>>>>>> documentation-devel
||||||| 1158767b
   "id": "bf189382",
=======
   "id": "b3cf800f",
>>>>>>> 6e0f6d6ef35309dec3607d4371c747197b435328
   "metadata": {},
   "outputs": [],
   "source": [
    "rowData(sfe)$is_neg <- is_any_neg\n",
    "plotRowData(sfe, x = \"means\", y = \"is_neg\") +\n",
    "    scale_y_log10() +\n",
    "    annotation_logticks(sides = \"b\")"
   ]
  },
  {
   "cell_type": "markdown",
<<<<<<< HEAD
<<<<<<< HEAD
   "id": "2c23a43a",
||||||| ff06ad40
   "id": "40518c5e",
=======
   "id": "89c6d0d2",
>>>>>>> documentation-devel
||||||| 1158767b
   "id": "2c23a43a",
=======
   "id": "1dc0c05e",
>>>>>>> 6e0f6d6ef35309dec3607d4371c747197b435328
   "metadata": {
    "lines_to_next_cell": 0
   },
   "source": [
    "Here the real genes and negative controls are plotted in different colors"
   ]
  },
  {
   "cell_type": "code",
   "execution_count": null,
<<<<<<< HEAD
<<<<<<< HEAD
   "id": "779304d6",
||||||| ff06ad40
   "id": "6fb489f2",
=======
   "id": "550c502f",
>>>>>>> documentation-devel
||||||| 1158767b
   "id": "779304d6",
=======
   "id": "bc8be201",
>>>>>>> 6e0f6d6ef35309dec3607d4371c747197b435328
   "metadata": {},
   "outputs": [],
   "source": [
    "plotRowDataBin2D(sfe, \"means\", \"vars\", subset = \"is_neg\", \n",
    "                 name_true = \"Counts (negative controls)\", \n",
    "                 name_false = \"Counts (real genes)\", bins = 50) +\n",
    "    geom_abline(slope = 1, intercept = 0, color = \"red\") +\n",
    "    scale_x_log10() + scale_y_log10() +\n",
    "    annotation_logticks() +\n",
    "    coord_equal()"
   ]
  },
  {
   "cell_type": "markdown",
<<<<<<< HEAD
<<<<<<< HEAD
   "id": "bc959b5f",
||||||| ff06ad40
   "id": "ba733743",
=======
   "id": "b25b5c80",
>>>>>>> documentation-devel
||||||| 1158767b
   "id": "bc959b5f",
=======
   "id": "c1a0a137",
>>>>>>> 6e0f6d6ef35309dec3607d4371c747197b435328
   "metadata": {},
   "source": [
    "The red line $y = x$ is expected if the data follows a Poisson distribution. Negative controls and real genes form mostly separate clusters. Negative controls stick close to the line, while real genes are overdispersed. Unlike in the [CosMX dataset](https://pachterlab.github.io/voyager/articles/vig4_cosmx.html#genes), the negative controls don't seem overdispersed.\n",
    "\n",
    "# Spatial autocorrelation of QC metrics\n",
    "\n",
    "There's a sparse and a dense region. This poses the question of what type of neighborhood graph to use, e.g. it is conceivable that cells in the sparse region should just be singletons. Furthermore, it is unclear what the length scale of their influence might be. It might depend on the cell type and how contact and secreted signals are used in the cell type, and length scale of the influence. If k nearest neighbors are used, then the neighbors in the dense region are much closer together than those in the sparse region. If distance based neighbors are used, then cells in the dense region will have more neighbors than cells in the sparse region, and the sparse region can break into multiple compartments if the distance cutoff is not long enough. \n",
    "\n",
    "For the purpose of demonstration, we use k nearest neighbors with $k = 5$, with inverse distance weighting. Note that using more neighbors leads to longer computation time of spatial autocorrelation metrics."
   ]
  },
  {
   "cell_type": "code",
   "execution_count": null,
<<<<<<< HEAD
<<<<<<< HEAD
   "id": "f1e5b524",
||||||| ff06ad40
   "id": "aebc7089",
=======
   "id": "2842869f",
>>>>>>> documentation-devel
||||||| 1158767b
   "id": "f1e5b524",
=======
   "id": "49506a8a",
>>>>>>> 6e0f6d6ef35309dec3607d4371c747197b435328
   "metadata": {},
   "outputs": [],
   "source": [
    "system.time(\n",
    "    colGraph(sfe, \"knn5\") <- findSpatialNeighbors(sfe, method = \"knearneigh\", \n",
    "                                                  dist_type = \"idw\", k = 5, \n",
    "                                                  style = \"W\")\n",
    ")"
   ]
  },
  {
   "cell_type": "code",
   "execution_count": null,
<<<<<<< HEAD
<<<<<<< HEAD
   "id": "894ba70f",
||||||| ff06ad40
   "id": "4acd538d",
=======
   "id": "7b91d9d1",
>>>>>>> documentation-devel
||||||| 1158767b
   "id": "894ba70f",
=======
   "id": "d88f7346",
>>>>>>> 6e0f6d6ef35309dec3607d4371c747197b435328
   "metadata": {},
   "outputs": [],
   "source": [
    "sfe <- colDataMoransI(sfe, c(\"nCounts\", \"nGenes\", \"cell_area\", \"nucleus_area\"),\n",
    "                      colGraphName = \"knn5\")"
   ]
  },
  {
   "cell_type": "code",
   "execution_count": null,
<<<<<<< HEAD
<<<<<<< HEAD
   "id": "d3c7efc7",
||||||| ff06ad40
   "id": "4cdcccc0",
=======
   "id": "27771d34",
>>>>>>> documentation-devel
||||||| 1158767b
   "id": "d3c7efc7",
=======
   "id": "0b383c6e",
>>>>>>> 6e0f6d6ef35309dec3607d4371c747197b435328
   "metadata": {},
   "outputs": [],
   "source": [
    "colFeatureData(sfe)[c(\"nCounts\", \"nGenes\", \"cell_area\", \"nucleus_area\"),]"
   ]
  },
  {
   "cell_type": "markdown",
<<<<<<< HEAD
<<<<<<< HEAD
   "id": "e7221b2c",
||||||| ff06ad40
   "id": "3039f7e1",
=======
   "id": "da44b163",
>>>>>>> documentation-devel
||||||| 1158767b
   "id": "e7221b2c",
=======
   "id": "cfbe76d4",
>>>>>>> 6e0f6d6ef35309dec3607d4371c747197b435328
   "metadata": {},
   "source": [
    "Global Moran's I indicatse positive spatial autocorrelation. As the strength of spatial autocorrelation can vary spatially, we also run local Moran's I."
   ]
  },
  {
   "cell_type": "code",
   "execution_count": null,
<<<<<<< HEAD
<<<<<<< HEAD
   "id": "93ec427d",
||||||| ff06ad40
   "id": "7ccaf3fe",
=======
   "id": "3a6401ed",
>>>>>>> documentation-devel
||||||| 1158767b
   "id": "93ec427d",
=======
   "id": "d6808b31",
>>>>>>> 6e0f6d6ef35309dec3607d4371c747197b435328
   "metadata": {},
   "outputs": [],
   "source": [
    "sfe <- colDataUnivariate(sfe, type = \"localmoran\", \n",
    "                         features = c(\"nCounts\", \"nGenes\", \"cell_area\", \n",
    "                                      \"nucleus_area\"),\n",
    "                         colGraphName = \"knn5\", BPPARAM = MulticoreParam(2))"
   ]
  },
  {
   "cell_type": "markdown",
<<<<<<< HEAD
<<<<<<< HEAD
   "id": "8924f5ab",
||||||| ff06ad40
   "id": "7caab70a",
=======
   "id": "239d008f",
>>>>>>> documentation-devel
||||||| 1158767b
   "id": "8924f5ab",
=======
   "id": "85ffb399",
>>>>>>> 6e0f6d6ef35309dec3607d4371c747197b435328
   "metadata": {
    "lines_to_next_cell": 0
   },
   "source": [
    "The `pointsize` argument adjusts the point size in `scattermore`. The default is 0, meaning single pixels, but since the cells in the sparse region are hard to see that way, we increase `pointsize`. We would still plot the polygons in larger single panel plots, but use `scattermore` in multi-panel plots where the polygons in each panel are invisible anyway due to the small size to save some time."
   ]
  },
  {
   "cell_type": "code",
   "execution_count": null,
<<<<<<< HEAD
<<<<<<< HEAD
   "id": "b877c388",
||||||| ff06ad40
   "id": "d79ed0dc",
=======
   "id": "90bc5fee",
>>>>>>> documentation-devel
||||||| 1158767b
   "id": "b877c388",
=======
   "id": "753e1d30",
>>>>>>> 6e0f6d6ef35309dec3607d4371c747197b435328
   "metadata": {
    "fig.height": 6,
    "fig.width": 9
   },
   "outputs": [],
   "source": [
    "plotLocalResult(sfe, \"localmoran\",\n",
    "                features = c(\"nCounts\", \"nGenes\", \"cell_area\", \"nucleus_area\"),\n",
    "                colGeometryName = \"centroids\", scattermore = TRUE,\n",
    "                divergent = TRUE, diverge_center = 0, pointsize = 1)"
   ]
  },
  {
   "cell_type": "markdown",
<<<<<<< HEAD
<<<<<<< HEAD
   "id": "857eb117",
||||||| ff06ad40
   "id": "cfdc003b",
=======
   "id": "e83deff8",
>>>>>>> documentation-devel
||||||| 1158767b
   "id": "857eb117",
=======
   "id": "ba42103a",
>>>>>>> 6e0f6d6ef35309dec3607d4371c747197b435328
   "metadata": {
    "lines_to_next_cell": 0
   },
   "source": [
    "Interestingly, nCounts is more homogeneous in the interior of the dense region, while nGenes is more homogeneous by the edge of the dense region. As expected, cell area is more homogeneous in the sparse region. However, the nucleus area is more homogeneous in the interior of the dense region. \n",
    "\n",
    "Moran plot for nCounts"
   ]
  },
  {
   "cell_type": "code",
   "execution_count": null,
<<<<<<< HEAD
<<<<<<< HEAD
   "id": "59408657",
||||||| ff06ad40
   "id": "45257acf",
=======
   "id": "ed996230",
>>>>>>> documentation-devel
||||||| 1158767b
   "id": "59408657",
=======
   "id": "1fc2fdd3",
>>>>>>> 6e0f6d6ef35309dec3607d4371c747197b435328
   "metadata": {},
   "outputs": [],
   "source": [
    "sfe <- colDataUnivariate(sfe, \"moran.plot\", \"nCounts\", colGraphName = \"knn5\")"
   ]
  },
  {
   "cell_type": "code",
   "execution_count": null,
<<<<<<< HEAD
<<<<<<< HEAD
   "id": "f468f128",
||||||| ff06ad40
   "id": "ae75e6ac",
=======
   "id": "b3829fa9",
>>>>>>> documentation-devel
||||||| 1158767b
   "id": "f468f128",
=======
   "id": "adff2cf9",
>>>>>>> 6e0f6d6ef35309dec3607d4371c747197b435328
   "metadata": {
    "fig.height": 7,
    "fig.width": 8
   },
   "outputs": [],
   "source": [
    "p1 <- moranPlot(sfe, \"nCounts\", binned = TRUE, plot_influential = FALSE) \n",
    "p2 <- moranPlot(sfe, \"nCounts\", binned = TRUE)\n",
    "p1 / p2 + plot_layout(guides = \"collect\")"
   ]
  },
  {
   "cell_type": "markdown",
<<<<<<< HEAD
<<<<<<< HEAD
   "id": "881adf2a",
||||||| ff06ad40
   "id": "9d55344f",
=======
   "id": "6eadbf70",
>>>>>>> documentation-devel
||||||| 1158767b
   "id": "881adf2a",
=======
   "id": "54dcaef1",
>>>>>>> 6e0f6d6ef35309dec3607d4371c747197b435328
   "metadata": {},
   "source": [
    "There are no obvious clusters here. In the lower panel, the 2D histogram of influential points is plotted in red.\n",
    "\n",
    "# Moran's I\n",
    "\n",
    "By default, for gene expression, the log normalized counts are used in spatial autocorrelation metrics, so before running Moran's I, we normalize the data."
   ]
  },
  {
   "cell_type": "code",
   "execution_count": null,
<<<<<<< HEAD
<<<<<<< HEAD
   "id": "122e82d6",
||||||| ff06ad40
   "id": "87caf33e",
=======
   "id": "6b526a44",
>>>>>>> documentation-devel
||||||| 1158767b
   "id": "122e82d6",
=======
   "id": "3c57de04",
>>>>>>> 6e0f6d6ef35309dec3607d4371c747197b435328
   "metadata": {},
   "outputs": [],
   "source": [
    "sfe <- logNormCounts(sfe)"
   ]
  },
  {
   "cell_type": "markdown",
<<<<<<< HEAD
<<<<<<< HEAD
   "id": "7c265e6c",
||||||| ff06ad40
   "id": "dc1f515f",
=======
   "id": "8ec4fafc",
>>>>>>> documentation-devel
||||||| 1158767b
   "id": "7c265e6c",
=======
   "id": "0b8216fd",
>>>>>>> 6e0f6d6ef35309dec3607d4371c747197b435328
   "metadata": {
    "lines_to_next_cell": 0
   },
   "source": [
    "Use more cores if available to speed this up."
   ]
  },
  {
   "cell_type": "code",
   "execution_count": null,
<<<<<<< HEAD
<<<<<<< HEAD
   "id": "7340905e",
||||||| ff06ad40
   "id": "7bd3bb43",
=======
   "id": "d595591b",
>>>>>>> documentation-devel
||||||| 1158767b
   "id": "7340905e",
=======
   "id": "6f8ff08d",
>>>>>>> 6e0f6d6ef35309dec3607d4371c747197b435328
   "metadata": {},
   "outputs": [],
   "source": [
    "system.time(\n",
    "    sfe <- runMoransI(sfe, colGraphName = \"knn5\", BPPARAM = MulticoreParam(2))\n",
    ")"
   ]
  },
  {
   "cell_type": "code",
   "execution_count": null,
<<<<<<< HEAD
<<<<<<< HEAD
   "id": "42e1e44a",
||||||| ff06ad40
   "id": "f2132a4f",
=======
   "id": "e150a0c5",
>>>>>>> documentation-devel
||||||| 1158767b
   "id": "42e1e44a",
=======
   "id": "d8f62c46",
>>>>>>> 6e0f6d6ef35309dec3607d4371c747197b435328
   "metadata": {},
   "outputs": [],
   "source": [
    "rowData(sfe)$is_neg <- is_any_neg"
   ]
  },
  {
   "cell_type": "code",
   "execution_count": null,
<<<<<<< HEAD
<<<<<<< HEAD
   "id": "9a5541d2",
||||||| ff06ad40
   "id": "ed639bd6",
=======
   "id": "6a495140",
>>>>>>> documentation-devel
||||||| 1158767b
   "id": "9a5541d2",
=======
   "id": "7a6ea482",
>>>>>>> 6e0f6d6ef35309dec3607d4371c747197b435328
   "metadata": {},
   "outputs": [],
   "source": [
    "plotRowData(sfe, x = \"moran_sample01\", y = \"is_neg\")"
   ]
  },
  {
   "cell_type": "markdown",
<<<<<<< HEAD
<<<<<<< HEAD
   "id": "e63f0156",
||||||| ff06ad40
   "id": "18b81bfa",
=======
   "id": "c2ae1a61",
>>>>>>> documentation-devel
||||||| 1158767b
   "id": "e63f0156",
=======
   "id": "a7823020",
>>>>>>> 6e0f6d6ef35309dec3607d4371c747197b435328
   "metadata": {
    "lines_to_next_cell": 0
   },
   "source": [
    "As expected, generally the negative controls are tightly clustered around 0, while the real genes have positive Moran's I, which means there is generally no technical artifact spatial trend. No significantly negative Moran's I is observed. Why is negative spatial autocorrelation so rare in gene expression?\n",
    "\n",
    "What are the two negative controls with a sizable Moran's I?"
   ]
  },
  {
   "cell_type": "code",
   "execution_count": null,
<<<<<<< HEAD
<<<<<<< HEAD
   "id": "e2898bf8",
||||||| ff06ad40
   "id": "0cdf12c1",
=======
   "id": "100c705b",
>>>>>>> documentation-devel
||||||| 1158767b
   "id": "e2898bf8",
=======
   "id": "6a090afb",
>>>>>>> 6e0f6d6ef35309dec3607d4371c747197b435328
   "metadata": {
    "fig.height": 3,
    "fig.width": 9
   },
   "outputs": [],
   "source": [
    "ord <- order(rowData(sfe)$moran_sample01[is_any_neg], decreasing = TRUE)[1:2]\n",
    "top_neg <- rownames(sfe)[is_any_neg][ord]\n",
    "plotSpatialFeature(sfe, top_neg, colGeometryName = \"centroids\",\n",
    "                   scattermore = TRUE, pointsize = 1)"
   ]
  },
  {
   "cell_type": "markdown",
<<<<<<< HEAD
<<<<<<< HEAD
   "id": "b62aa1fd",
||||||| ff06ad40
   "id": "cdc29e99",
=======
   "id": "e11553be",
>>>>>>> documentation-devel
||||||| 1158767b
   "id": "b62aa1fd",
=======
   "id": "9a6e5641",
>>>>>>> 6e0f6d6ef35309dec3607d4371c747197b435328
   "metadata": {
    "lines_to_next_cell": 0
   },
   "source": [
    "There is somewhat a spatial trend for that antisense probe, with more detected in the upper left. However, this might not significantly affect other results since there are at most 2 counts and at most about 1% of all counts in each cell. The negative control codeword has at most 1 count per cell and the cells with this negative control detected seem to be few and far between. \n",
    "\n",
    "These are the most detected negative controls, and the most detected one is also the one with the highest Moran's I among negative controls. However, the other negative control with higher Moran's I is not among the most detected."
   ]
  },
  {
   "cell_type": "code",
   "execution_count": null,
<<<<<<< HEAD
<<<<<<< HEAD
   "id": "00d98334",
||||||| ff06ad40
   "id": "6473ec04",
=======
   "id": "9f75b385",
>>>>>>> documentation-devel
||||||| 1158767b
   "id": "00d98334",
=======
   "id": "b4005613",
>>>>>>> 6e0f6d6ef35309dec3607d4371c747197b435328
   "metadata": {},
   "outputs": [],
   "source": [
    "head(sort(rowData(sfe)$means[is_any_neg], decreasing = TRUE), 15)"
   ]
  },
  {
   "cell_type": "markdown",
<<<<<<< HEAD
<<<<<<< HEAD
   "id": "bcf291b1",
||||||| ff06ad40
   "id": "8b049659",
=======
   "id": "c6e5ec4d",
>>>>>>> documentation-devel
||||||| 1158767b
   "id": "bcf291b1",
=======
   "id": "ab658e3e",
>>>>>>> 6e0f6d6ef35309dec3607d4371c747197b435328
   "metadata": {
    "lines_to_next_cell": 0
   },
   "source": [
    "What are the genes with the highest Moran's I?"
   ]
  },
  {
   "cell_type": "code",
   "execution_count": null,
<<<<<<< HEAD
<<<<<<< HEAD
   "id": "fe9dba07",
||||||| ff06ad40
   "id": "edbe8c75",
=======
   "id": "9cec4e10",
>>>>>>> documentation-devel
||||||| 1158767b
   "id": "fe9dba07",
=======
   "id": "c72571dd",
>>>>>>> 6e0f6d6ef35309dec3607d4371c747197b435328
   "metadata": {
    "fig.height": 9,
    "fig.width": 9
   },
   "outputs": [],
   "source": [
    "top_moran <- rownames(sfe)[order(rowData(sfe)$moran_sample01, decreasing = TRUE)[1:6]]\n",
    "plotSpatialFeature(sfe, top_moran, colGeometryName = \"centroids\",\n",
    "                   scattermore = TRUE, ncol = 2, pointsize = 0.5)"
   ]
  },
  {
   "cell_type": "markdown",
<<<<<<< HEAD
<<<<<<< HEAD
   "id": "fa52f2d7",
||||||| ff06ad40
   "id": "5e9c7f40",
=======
   "id": "cefaee06",
>>>>>>> documentation-devel
||||||| 1158767b
   "id": "fa52f2d7",
=======
   "id": "9a5a48e7",
>>>>>>> 6e0f6d6ef35309dec3607d4371c747197b435328
   "metadata": {
    "lines_to_next_cell": 0
   },
   "source": [
    "They all highlight the same histological regions, as in the [CosMX vignette](https://pachterlab.github.io/voyager/articles/vig4_cosmx.html#morans-i). How does Moran's I relate to gene expression level?"
   ]
  },
  {
   "cell_type": "code",
   "execution_count": null,
<<<<<<< HEAD
<<<<<<< HEAD
   "id": "ccc3c2bd",
||||||| ff06ad40
   "id": "969dc431",
=======
   "id": "de3c2e65",
>>>>>>> documentation-devel
||||||| 1158767b
   "id": "ccc3c2bd",
=======
   "id": "1b482180",
>>>>>>> 6e0f6d6ef35309dec3607d4371c747197b435328
   "metadata": {},
   "outputs": [],
   "source": [
    "plotRowData(sfe, x = \"means\", y = \"moran_sample01\")"
   ]
  },
  {
   "cell_type": "markdown",
<<<<<<< HEAD
<<<<<<< HEAD
   "id": "8799d9d5",
||||||| ff06ad40
   "id": "49db148b",
=======
   "id": "f5fd1d35",
>>>>>>> documentation-devel
||||||| 1158767b
   "id": "8799d9d5",
=======
   "id": "6e9447f1",
>>>>>>> 6e0f6d6ef35309dec3607d4371c747197b435328
   "metadata": {
    "lines_to_next_cell": 0
   },
   "source": [
    "Very highly expressed genes have higher Moran's I, but there are some less expressed genes with higher Moran's I as well.\n",
    "\n",
    "# Non-spatial dimension reduction and clustering\n",
    "\n",
    "Here we run non-spatial PCA as for scRNA-seq data"
   ]
  },
  {
   "cell_type": "code",
   "execution_count": null,
<<<<<<< HEAD
<<<<<<< HEAD
   "id": "7ad53e72",
||||||| ff06ad40
   "id": "e50f77c1",
=======
   "id": "d7b4ffb9",
>>>>>>> documentation-devel
||||||| 1158767b
   "id": "7ad53e72",
=======
   "id": "1abf4f88",
>>>>>>> 6e0f6d6ef35309dec3607d4371c747197b435328
   "metadata": {},
   "outputs": [],
   "source": [
    "set.seed(29)\n",
    "sfe <- runPCA(sfe, ncomponents = 30, scale = TRUE, BSPARAM = IrlbaParam())"
   ]
  },
  {
   "cell_type": "code",
   "execution_count": null,
<<<<<<< HEAD
<<<<<<< HEAD
   "id": "0e51e278",
||||||| ff06ad40
   "id": "5b95e615",
=======
   "id": "f88fcedf",
>>>>>>> documentation-devel
||||||| 1158767b
   "id": "0e51e278",
=======
   "id": "c2844f51",
>>>>>>> 6e0f6d6ef35309dec3607d4371c747197b435328
   "metadata": {},
   "outputs": [],
   "source": [
    "ElbowPlot(sfe, ndims = 30)"
   ]
  },
  {
   "cell_type": "code",
   "execution_count": null,
<<<<<<< HEAD
<<<<<<< HEAD
   "id": "347abb80",
||||||| ff06ad40
   "id": "47dc405a",
=======
   "id": "256b7e0d",
>>>>>>> documentation-devel
||||||| 1158767b
   "id": "347abb80",
=======
   "id": "544e2de4",
>>>>>>> 6e0f6d6ef35309dec3607d4371c747197b435328
   "metadata": {},
   "outputs": [],
   "source": [
    "plotDimLoadings(sfe, dims = 1:6)"
   ]
  },
  {
   "cell_type": "code",
   "execution_count": null,
<<<<<<< HEAD
<<<<<<< HEAD
   "id": "700b25e2",
||||||| ff06ad40
   "id": "0277615f",
=======
   "id": "b837ff64",
>>>>>>> documentation-devel
||||||| 1158767b
   "id": "700b25e2",
=======
   "id": "4e37e3e5",
>>>>>>> 6e0f6d6ef35309dec3607d4371c747197b435328
   "metadata": {
    "fig.height": 9,
    "fig.width": 9
   },
   "outputs": [],
   "source": [
    "spatialReducedDim(sfe, \"PCA\", 6, colGeometryName = \"centroids\", divergent = TRUE,\n",
    "                  diverge_center = 0, ncol = 2, scattermore = TRUE, pointsize = 0.5)"
   ]
  },
  {
   "cell_type": "markdown",
<<<<<<< HEAD
<<<<<<< HEAD
   "id": "e79cca17",
||||||| ff06ad40
   "id": "4cbd2efe",
=======
   "id": "3598b7f2",
>>>>>>> documentation-devel
||||||| 1158767b
   "id": "e79cca17",
=======
   "id": "cf127db7",
>>>>>>> 6e0f6d6ef35309dec3607d4371c747197b435328
   "metadata": {
    "lines_to_next_cell": 0
   },
   "source": [
    "While spatial region is not explicitly used, the PC's highlight spatial regions due to spatial autocorrelation in gene expression and histological regions with different cell types.\n",
    "\n",
    "Non-spatial clustering and locating the clusters in space"
   ]
  },
  {
   "cell_type": "code",
   "execution_count": null,
<<<<<<< HEAD
<<<<<<< HEAD
   "id": "8846aa28",
||||||| ff06ad40
   "id": "2e4e2036",
=======
   "id": "0c632c83",
>>>>>>> documentation-devel
||||||| 1158767b
   "id": "8846aa28",
=======
   "id": "33b53d76",
>>>>>>> 6e0f6d6ef35309dec3607d4371c747197b435328
   "metadata": {},
   "outputs": [],
   "source": [
    "colData(sfe)$cluster <- clusterRows(reducedDim(sfe, \"PCA\")[,1:15],\n",
    "                                    BLUSPARAM = SNNGraphParam(\n",
    "                                        cluster.fun = \"leiden\",\n",
    "                                        cluster.args = list(\n",
    "                                            resolution_parameter = 0.5,\n",
    "                                            objective_function = \"modularity\")))"
   ]
  },
  {
   "cell_type": "markdown",
<<<<<<< HEAD
<<<<<<< HEAD
   "id": "d31c5aa5",
||||||| ff06ad40
   "id": "85d476b0",
=======
   "id": "f406d8e6",
>>>>>>> documentation-devel
||||||| 1158767b
   "id": "d31c5aa5",
=======
   "id": "e45fffc8",
>>>>>>> 6e0f6d6ef35309dec3607d4371c747197b435328
   "metadata": {
    "lines_to_next_cell": 0
   },
   "source": [
    "Now the `scater` can also rasterize the plots with lots of points with the `rasterise` argument, but with a different mechanism from `scattermore` that requires more system dependencies. "
   ]
  },
  {
   "cell_type": "code",
   "execution_count": null,
<<<<<<< HEAD
<<<<<<< HEAD
   "id": "d9e6d1d4",
||||||| ff06ad40
   "id": "cfa01fe7",
=======
   "id": "09cfb10d",
>>>>>>> documentation-devel
||||||| 1158767b
   "id": "d9e6d1d4",
=======
   "id": "307c40ad",
>>>>>>> 6e0f6d6ef35309dec3607d4371c747197b435328
   "metadata": {
    "fig.height": 8,
    "fig.width": 8
   },
   "outputs": [],
   "source": [
    "plotPCA(sfe, ncomponents = 4, colour_by = \"cluster\", rasterise = FALSE)"
   ]
  },
  {
   "cell_type": "markdown",
<<<<<<< HEAD
<<<<<<< HEAD
   "id": "43bc363e",
||||||| ff06ad40
   "id": "b1e80601",
=======
   "id": "f306cb23",
>>>>>>> documentation-devel
||||||| 1158767b
   "id": "43bc363e",
=======
   "id": "db227005",
>>>>>>> 6e0f6d6ef35309dec3607d4371c747197b435328
   "metadata": {
    "lines_to_next_cell": 0
   },
   "source": [
    "Plot the location of the clusters in space"
   ]
  },
  {
   "cell_type": "code",
   "execution_count": null,
<<<<<<< HEAD
<<<<<<< HEAD
   "id": "e752fea7",
||||||| ff06ad40
   "id": "8574005e",
=======
   "id": "1c069bee",
>>>>>>> documentation-devel
||||||| 1158767b
   "id": "e752fea7",
=======
   "id": "8a9a1ce7",
>>>>>>> 6e0f6d6ef35309dec3607d4371c747197b435328
   "metadata": {},
   "outputs": [],
   "source": [
    "plotSpatialFeature(sfe, \"cluster\", colGeometryName = \"cellSeg\")"
   ]
  },
  {
   "cell_type": "markdown",
<<<<<<< HEAD
<<<<<<< HEAD
   "id": "1ca6560f",
||||||| ff06ad40
   "id": "806738ac",
=======
   "id": "e0351794",
>>>>>>> documentation-devel
||||||| 1158767b
   "id": "1ca6560f",
=======
   "id": "81952297",
>>>>>>> 6e0f6d6ef35309dec3607d4371c747197b435328
   "metadata": {
    "lines_to_next_cell": 0
   },
   "source": [
    "# Differential expression\n",
    "Cluster marker genes are found with Wilcoxon rank sum test as commonly done for scRNA-seq."
   ]
  },
  {
   "cell_type": "code",
   "execution_count": null,
<<<<<<< HEAD
<<<<<<< HEAD
   "id": "1fb675bb",
||||||| ff06ad40
   "id": "c38ee30e",
=======
   "id": "eac7a7b4",
>>>>>>> documentation-devel
||||||| 1158767b
   "id": "1fb675bb",
=======
   "id": "39b22ab7",
>>>>>>> 6e0f6d6ef35309dec3607d4371c747197b435328
   "metadata": {},
   "outputs": [],
   "source": [
    "markers <- findMarkers(sfe, groups = colData(sfe)$cluster,\n",
    "                       test.type = \"wilcox\", pval.type = \"all\", direction = \"up\")"
   ]
  },
  {
   "cell_type": "markdown",
<<<<<<< HEAD
<<<<<<< HEAD
   "id": "9c0178b9",
||||||| ff06ad40
   "id": "2c864211",
=======
   "id": "9c0e32f6",
>>>>>>> documentation-devel
||||||| 1158767b
   "id": "9c0178b9",
=======
   "id": "19c5292e",
>>>>>>> 6e0f6d6ef35309dec3607d4371c747197b435328
   "metadata": {
    "lines_to_next_cell": 0
   },
   "source": [
    "It's already sorted by p-values:"
   ]
  },
  {
   "cell_type": "code",
   "execution_count": null,
<<<<<<< HEAD
<<<<<<< HEAD
   "id": "9be62639",
||||||| ff06ad40
   "id": "02e4254c",
=======
   "id": "c6a73303",
>>>>>>> documentation-devel
||||||| 1158767b
   "id": "9be62639",
=======
   "id": "32895efe",
>>>>>>> 6e0f6d6ef35309dec3607d4371c747197b435328
   "metadata": {},
   "outputs": [],
   "source": [
    "markers[[6]]"
   ]
  },
  {
   "cell_type": "markdown",
<<<<<<< HEAD
<<<<<<< HEAD
   "id": "08e26776",
||||||| ff06ad40
   "id": "7c3c5f83",
=======
   "id": "e29008c4",
>>>>>>> documentation-devel
||||||| 1158767b
   "id": "08e26776",
=======
   "id": "01402996",
>>>>>>> 6e0f6d6ef35309dec3607d4371c747197b435328
   "metadata": {
    "lines_to_next_cell": 0
   },
   "source": [
    "The code below extracts the significant markers for each cluster:"
   ]
  },
  {
   "cell_type": "code",
   "execution_count": null,
<<<<<<< HEAD
<<<<<<< HEAD
   "id": "1e7e580a",
||||||| ff06ad40
   "id": "700381e3",
=======
   "id": "fc75f1cc",
>>>>>>> documentation-devel
||||||| 1158767b
   "id": "1e7e580a",
=======
   "id": "300c19f7",
>>>>>>> 6e0f6d6ef35309dec3607d4371c747197b435328
   "metadata": {},
   "outputs": [],
   "source": [
    "genes_use <- vapply(markers, function(x) rownames(x)[1], FUN.VALUE = character(1))\n",
    "plotExpression(sfe, genes_use, x = \"cluster\", point_fun = function(...) list())"
   ]
  },
  {
   "cell_type": "markdown",
<<<<<<< HEAD
<<<<<<< HEAD
   "id": "a3357ca1",
||||||| ff06ad40
   "id": "7a087808",
=======
   "id": "4758b99d",
>>>>>>> documentation-devel
||||||| 1158767b
   "id": "a3357ca1",
=======
   "id": "df7d3d21",
>>>>>>> 6e0f6d6ef35309dec3607d4371c747197b435328
   "metadata": {
    "lines_to_next_cell": 0
   },
   "source": [
    "This allows for plotting more top marker genes in a heatmap:"
   ]
  },
  {
   "cell_type": "code",
   "execution_count": null,
<<<<<<< HEAD
<<<<<<< HEAD
   "id": "e548cb9a",
||||||| ff06ad40
   "id": "baea678f",
=======
   "id": "822e59de",
>>>>>>> documentation-devel
||||||| 1158767b
   "id": "e548cb9a",
=======
   "id": "8739a69d",
>>>>>>> 6e0f6d6ef35309dec3607d4371c747197b435328
   "metadata": {
    "fig.height": 8,
    "fig.width": 6
   },
   "outputs": [],
   "source": [
    "genes_use2 <- unique(unlist(lapply(markers, function(x) rownames(x)[1:5])))\n",
    "plotGroupedHeatmap(sfe, genes_use2, group = \"cluster\", colour = scales::viridis_pal()(100))"
   ]
  },
  {
   "cell_type": "markdown",
<<<<<<< HEAD
<<<<<<< HEAD
   "id": "6650c60e",
||||||| ff06ad40
   "id": "b0e06ee6",
=======
   "id": "b04bba5a",
>>>>>>> documentation-devel
||||||| 1158767b
   "id": "6650c60e",
=======
   "id": "cd59ea76",
>>>>>>> 6e0f6d6ef35309dec3607d4371c747197b435328
   "metadata": {
    "lines_to_next_cell": 0
   },
   "source": [
    "# Local spatial statistics of marker genes\n",
    "\n",
    "First we plot those genes in space as a reference"
   ]
  },
  {
   "cell_type": "code",
   "execution_count": null,
<<<<<<< HEAD
<<<<<<< HEAD
   "id": "47393aad",
||||||| ff06ad40
   "id": "ae7da200",
=======
   "id": "c42a4618",
>>>>>>> documentation-devel
||||||| 1158767b
   "id": "47393aad",
=======
   "id": "5e37220d",
>>>>>>> 6e0f6d6ef35309dec3607d4371c747197b435328
   "metadata": {
    "fig.height": 9,
    "fig.width": 9
   },
   "outputs": [],
   "source": [
    "plotSpatialFeature(sfe, genes_use, colGeometryName = \"centroids\", ncol = 3,\n",
    "                   pointsize = 0.3, scattermore = TRUE)"
   ]
  },
  {
   "cell_type": "markdown",
<<<<<<< HEAD
<<<<<<< HEAD
   "id": "22536d07",
||||||| ff06ad40
   "id": "d6cccf31",
=======
   "id": "bb386004",
>>>>>>> documentation-devel
||||||| 1158767b
   "id": "22536d07",
=======
   "id": "b9706b57",
>>>>>>> 6e0f6d6ef35309dec3607d4371c747197b435328
   "metadata": {},
   "source": [
    "Global Moran's I of these marker genes is shown below:"
   ]
  },
  {
   "cell_type": "code",
   "execution_count": null,
<<<<<<< HEAD
<<<<<<< HEAD
   "id": "a1fe5cc4",
||||||| ff06ad40
   "id": "1d5fd156",
=======
   "id": "a9cf2ed1",
>>>>>>> documentation-devel
||||||| 1158767b
   "id": "a1fe5cc4",
=======
   "id": "d6a19f5a",
>>>>>>> 6e0f6d6ef35309dec3607d4371c747197b435328
   "metadata": {},
   "outputs": [],
   "source": [
    "setNames(rowData(sfe)[genes_use, \"moran_sample01\"], genes_use)"
   ]
  },
  {
   "cell_type": "markdown",
<<<<<<< HEAD
<<<<<<< HEAD
   "id": "82a42f0e",
||||||| ff06ad40
   "id": "2d52c44e",
=======
   "id": "893d4b0b",
>>>>>>> documentation-devel
||||||| 1158767b
   "id": "82a42f0e",
=======
   "id": "eefce822",
>>>>>>> 6e0f6d6ef35309dec3607d4371c747197b435328
   "metadata": {
    "lines_to_next_cell": 0
   },
   "source": [
    "All these marker genes have positive spatial autocorrelation, but some stronger than others.\n",
    "\n",
    "Local Moran's I of these marker genes is shown below:"
   ]
  },
  {
   "cell_type": "code",
   "execution_count": null,
<<<<<<< HEAD
<<<<<<< HEAD
   "id": "fd93bec0",
||||||| ff06ad40
   "id": "a5a559c2",
=======
   "id": "495b5cf9",
>>>>>>> documentation-devel
||||||| 1158767b
   "id": "fd93bec0",
=======
   "id": "a286d29e",
>>>>>>> 6e0f6d6ef35309dec3607d4371c747197b435328
   "metadata": {},
   "outputs": [],
   "source": [
    "sfe <- runUnivariate(sfe, \"localmoran\", features = genes_use, colGraphName = \"knn5\",\n",
    "                     BPPARAM = MulticoreParam(2))"
   ]
  },
  {
   "cell_type": "code",
   "execution_count": null,
<<<<<<< HEAD
<<<<<<< HEAD
   "id": "51360fc4",
||||||| ff06ad40
   "id": "471482e7",
=======
   "id": "075bc005",
>>>>>>> documentation-devel
||||||| 1158767b
   "id": "51360fc4",
=======
   "id": "bfee9f91",
>>>>>>> 6e0f6d6ef35309dec3607d4371c747197b435328
   "metadata": {
    "fig.height": 9,
    "fig.width": 9
   },
   "outputs": [],
   "source": [
    "plotLocalResult(sfe, \"localmoran\", features = genes_use, \n",
    "                colGeometryName = \"centroids\", ncol = 3, divergent = TRUE,\n",
    "                diverge_center = 0, scattermore = TRUE, pointsize = 0.3)"
   ]
  },
  {
   "cell_type": "markdown",
<<<<<<< HEAD
<<<<<<< HEAD
   "id": "4a429843",
||||||| ff06ad40
   "id": "33ca23ac",
=======
   "id": "3ebe1d4d",
>>>>>>> documentation-devel
||||||| 1158767b
   "id": "4a429843",
=======
   "id": "02309ba8",
>>>>>>> 6e0f6d6ef35309dec3607d4371c747197b435328
   "metadata": {
    "lines_to_next_cell": 0
   },
   "source": [
    "It seems that some histological regions tend to be more spatially homogenous in gene expression than others. The epithelial region tends to be more homogenous. For some genes, regions with higher expression also have higher local Moran's I, such as FOXA1 and GATA3, while for some genes, this is not the case, such as FGL2 and LUM. \n",
    "\n",
    "Finally, we assess local spatial heteroscdasticity (LOSH) for these marker genes to find local heterogeneity:"
   ]
  },
  {
   "cell_type": "code",
   "execution_count": null,
<<<<<<< HEAD
<<<<<<< HEAD
   "id": "539dfb00",
||||||| ff06ad40
   "id": "4972e61a",
=======
   "id": "f73b07be",
>>>>>>> documentation-devel
||||||| 1158767b
   "id": "539dfb00",
=======
   "id": "42827f40",
>>>>>>> 6e0f6d6ef35309dec3607d4371c747197b435328
   "metadata": {},
   "outputs": [],
   "source": [
    "sfe <- runUnivariate(sfe, \"LOSH\", features = genes_use, colGraphName = \"knn5\",\n",
    "                     BPPARAM = MulticoreParam(2))"
   ]
  },
  {
   "cell_type": "code",
   "execution_count": null,
<<<<<<< HEAD
<<<<<<< HEAD
   "id": "cdc5da95",
||||||| ff06ad40
   "id": "8a14c5e1",
=======
   "id": "399be228",
>>>>>>> documentation-devel
||||||| 1158767b
   "id": "cdc5da95",
=======
   "id": "c5182f8d",
>>>>>>> 6e0f6d6ef35309dec3607d4371c747197b435328
   "metadata": {
    "fig.height": 9,
    "fig.width": 9
   },
   "outputs": [],
   "source": [
    "plotLocalResult(sfe, \"LOSH\", features = genes_use, \n",
    "                colGeometryName = \"centroids\", ncol = 3, scattermore = TRUE, \n",
    "                pointsize = 0.3)"
   ]
  },
  {
   "cell_type": "markdown",
<<<<<<< HEAD
<<<<<<< HEAD
   "id": "422ec3f8",
||||||| ff06ad40
   "id": "c4bd23d1",
=======
   "id": "435e42fd",
>>>>>>> documentation-devel
||||||| 1158767b
   "id": "422ec3f8",
=======
   "id": "693d2135",
>>>>>>> 6e0f6d6ef35309dec3607d4371c747197b435328
   "metadata": {
    "lines_to_next_cell": 0
   },
   "source": [
    "Again, just like in the [CosMX dataset](https://pachterlab.github.io/voyager/articles/vig4_cosmx.html#local-spatial-statistics-of-marker-genes), LOSH is higher where the gene is more highly expressed in some (e.g. CD3E, LUM, TENT5C) but not all cases (e.g. FOXA1, GATA3). This may be due to spatial distribution of different cell types.\n",
    "\n",
    "# Session info"
   ]
  },
  {
   "cell_type": "code",
   "execution_count": null,
<<<<<<< HEAD
<<<<<<< HEAD
   "id": "6d80dcf6",
||||||| ff06ad40
   "id": "a6f59a25",
=======
   "id": "03ddc6d7",
>>>>>>> documentation-devel
||||||| 1158767b
   "id": "6d80dcf6",
=======
   "id": "02d6ddfe",
>>>>>>> 6e0f6d6ef35309dec3607d4371c747197b435328
   "metadata": {},
   "outputs": [],
   "source": [
    "sessionInfo()"
   ]
  },
  {
   "cell_type": "markdown",
<<<<<<< HEAD
<<<<<<< HEAD
   "id": "8463ec97",
||||||| ff06ad40
   "id": "741410bc",
=======
   "id": "a7de5328",
>>>>>>> documentation-devel
||||||| 1158767b
   "id": "8463ec97",
=======
   "id": "cc4c24d2",
>>>>>>> 6e0f6d6ef35309dec3607d4371c747197b435328
   "metadata": {},
   "source": [
    "# References"
   ]
  }
 ],
 "metadata": {
  "kernelspec": {
   "display_name": "R",
   "language": "R",
   "name": "ir"
  }
 },
 "nbformat": 4,
 "nbformat_minor": 5
}
