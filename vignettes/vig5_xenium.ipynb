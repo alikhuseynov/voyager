{
 "cells": [
  {
   "cell_type": "raw",
<<<<<<< HEAD
   "id": "c1be76ae",
||||||| 3477967
   "id": "6ca9030e",
=======
   "id": "a9fd11af",
>>>>>>> 763a65aa00deab365d39bc26b2dcb2cc1410a666
   "metadata": {},
   "source": [
    "---\n",
    "title: \"Xenium breast cancer dataset\"\n",
    "author: \"Lambda Moses\"\n",
    "date: \"`r Sys.Date()`\"\n",
    "output: \n",
    "  html_document:\n",
    "  toc: true\n",
    "  toc_float:\n",
    "    collapsed: false\n",
    "  toc_depth: 3\n",
    "bibliography: ref.bib\n",
    "vignette: >\n",
    "  %\\VignetteIndexEntry{xenium}\n",
    "  %\\VignetteEngine{knitr::rmarkdown}\n",
    "  %\\VignetteEncoding{UTF-8}\n",
    "---"
   ]
  },
  {
   "cell_type": "code",
   "execution_count": null,
<<<<<<< HEAD
   "id": "ab4a3c5e",
||||||| 3477967
   "id": "cc683465",
=======
   "id": "0df469f6",
>>>>>>> 763a65aa00deab365d39bc26b2dcb2cc1410a666
   "metadata": {
    "tags": [
     "remove_cell"
    ]
   },
   "outputs": [],
   "source": [
    "knitr::opts_chunk$set(\n",
    "  collapse = TRUE,\n",
    "  comment = \"#>\", fig.align = \"center\"\n",
    ")"
   ]
  },
  {
   "cell_type": "code",
   "execution_count": null,
<<<<<<< HEAD
   "id": "b8fadb4b",
||||||| 3477967
   "id": "839d7ce5",
=======
   "id": "bfac0da1",
>>>>>>> 763a65aa00deab365d39bc26b2dcb2cc1410a666
   "metadata": {
    "eval": false,
    "tags": [
     "remove_cell"
    ]
   },
   "outputs": [],
   "source": [
    "# Install Google Colab dependencies\n",
    "# Note: this can take 30+ minutes (many of the dependencies include C++ code, which needs to be compiled)\n",
    "\n",
    "# First install `sf`, `ragg` and `textshaping` and their system dependencies:\n",
    "system(\"apt-get -y update && apt-get install -y  libudunits2-dev libgdal-dev libgeos-dev libproj-dev libharfbuzz-dev libfribidi-dev\")\n",
    "install.packages(\"sf\")\n",
    "install.packages(\"textshaping\")\n",
    "install.packages(\"ragg\")\n",
    "\n",
    "# Install system dependencies of some other R packages that Voyager either imports or suggests:\n",
    "system(\"apt-get install -y libfribidi-dev libcairo2-dev libmagick++-dev\")\n",
    "\n",
    "# Install Voyager from Bioconductor:\n",
    "install.packages(\"BiocManager\")\n",
    "BiocManager::install(version = \"3.17\", ask = FALSE, update = FALSE, Ncpus = 2)\n",
    "BiocManager::install(\"scater\")\n",
    "system.time(\n",
    "  BiocManager::install(\"Voyager\", dependencies = TRUE, Ncpus = 2, update = FALSE)\n",
    ")\n",
    "\n",
    "packageVersion(\"Voyager\")"
   ]
  },
  {
   "cell_type": "markdown",
<<<<<<< HEAD
   "id": "a9a0194d",
||||||| 3477967
   "id": "06c774cc",
=======
   "id": "fd454443",
>>>>>>> 763a65aa00deab365d39bc26b2dcb2cc1410a666
   "metadata": {},
   "source": [
    "# Introduction\n",
    "\n",
    "Xenium is a new technology from 10X genomics for single cell resolution smFISH based spatial transcriptomics. The first Xenium dataset is for formalin fixed paraffin embedded (FFPE) human breast tumor, reported in [@Janesick2022-rp] and downloaded from the [10X website](https://www.10xgenomics.com/products/xenium-in-situ/preview-dataset-human-breast).\n",
    "\n",
    "The gene count matrix was downloaded as an HDF5 file and read into R as a `SingleCellExperiment` (SCE) object with `DropletUtils::read10xCounts()`. The gene count matrix is originally a `DelayedArray`, so the data is not all loaded into memory. For now, the matrix has been converted into an in memory `dgCMatrix`. However, for the next release, we would like to write another vignette on on disk analyses. The challenge is representing `sf` data frames on disk, perhaps with [`sedona`](https://github.com/apache/incubator-sedona) and [`SQLDataFrame`](https://bioconductor.org/packages/release/bioc/html/SQLDataFrame.html).\n",
    "\n",
    "The cell metadata (including centroid coordinates) and cell segmentation polygons were downloaded as `parquet` files, a more compact way to store columnar data than CSV, and read into R as data frames with `arrow::read_parquet()`. The cell polygons were converted into `sf` data frame with `SpatialFeatureExperiment::df2sf()`. Then the SCE object was converted into `SpatialFeatureExperiment` (SFE) and the polygon geometry was added to the SFE object, which is in the `SFEData` package.\n",
    "\n",
    "Here we load the packages used in this vignette."
   ]
  },
  {
   "cell_type": "code",
   "execution_count": null,
<<<<<<< HEAD
   "id": "24ec9b90",
||||||| 3477967
   "id": "716c86f8",
=======
   "id": "1ab9ec03",
>>>>>>> 763a65aa00deab365d39bc26b2dcb2cc1410a666
   "metadata": {
    "name": "setup"
   },
   "outputs": [],
   "source": [
    "library(Voyager)\n",
    "library(SFEData) \n",
    "library(SingleCellExperiment)\n",
    "library(SpatialExperiment)\n",
    "library(SpatialFeatureExperiment)\n",
    "library(ggplot2)\n",
    "library(stringr)\n",
    "library(scater) \n",
    "library(scuttle)\n",
    "library(BiocParallel)\n",
    "library(BiocSingular)\n",
    "library(bluster)\n",
    "library(scran)\n",
    "library(patchwork)\n",
    "theme_set(theme_bw())"
   ]
  },
  {
   "cell_type": "code",
   "execution_count": null,
<<<<<<< HEAD
   "id": "ca794639",
||||||| 3477967
   "id": "acde0fc6",
=======
   "id": "8128e829",
>>>>>>> 763a65aa00deab365d39bc26b2dcb2cc1410a666
   "metadata": {},
   "outputs": [],
   "source": [
    "(sfe <- JanesickBreastData(dataset = \"rep2\"))"
   ]
  },
  {
   "cell_type": "markdown",
<<<<<<< HEAD
   "id": "009c96c1",
||||||| 3477967
   "id": "004316ea",
=======
   "id": "551a30c0",
>>>>>>> 763a65aa00deab365d39bc26b2dcb2cc1410a666
   "metadata": {
    "lines_to_next_cell": 0
   },
   "source": [
    "There are 118708 cells in this dataset, a little more than in the CosMX dataset.\n",
    "\n",
    "The SFE object doesn't have column names (i.e. cell IDs). Here we assign cell IDs."
   ]
  },
  {
   "cell_type": "code",
   "execution_count": null,
<<<<<<< HEAD
   "id": "39549d6f",
||||||| 3477967
   "id": "bbcfa8bb",
=======
   "id": "004c4627",
>>>>>>> 763a65aa00deab365d39bc26b2dcb2cc1410a666
   "metadata": {},
   "outputs": [],
   "source": [
    "colnames(sfe) <- seq_len(ncol(sfe))"
   ]
  },
  {
   "cell_type": "markdown",
<<<<<<< HEAD
   "id": "46100dc8",
||||||| 3477967
   "id": "6636ee47",
=======
   "id": "9d9ec652",
>>>>>>> 763a65aa00deab365d39bc26b2dcb2cc1410a666
   "metadata": {},
   "source": [
    "This is what the tissue, with the cell outlines, looks like"
   ]
  },
  {
   "cell_type": "code",
   "execution_count": null,
<<<<<<< HEAD
   "id": "46ab5c30",
||||||| 3477967
   "id": "6a6b2f20",
=======
   "id": "f3201aca",
>>>>>>> 763a65aa00deab365d39bc26b2dcb2cc1410a666
   "metadata": {},
   "outputs": [],
   "source": [
    "plotGeometry(sfe, \"cellSeg\")"
   ]
  },
  {
   "cell_type": "markdown",
<<<<<<< HEAD
   "id": "c12037c2",
||||||| 3477967
   "id": "d922ec38",
=======
   "id": "44c1c5d2",
>>>>>>> 763a65aa00deab365d39bc26b2dcb2cc1410a666
   "metadata": {
    "lines_to_next_cell": 0
   },
   "source": [
    "Plot cell density in space"
   ]
  },
  {
   "cell_type": "code",
   "execution_count": null,
<<<<<<< HEAD
   "id": "933d2e97",
||||||| 3477967
   "id": "36f4ae28",
=======
   "id": "de8e0052",
>>>>>>> 763a65aa00deab365d39bc26b2dcb2cc1410a666
   "metadata": {},
   "outputs": [],
   "source": [
    "plotCellBin2D(sfe, hex = TRUE)"
   ]
  },
  {
   "cell_type": "markdown",
<<<<<<< HEAD
   "id": "6ac00175",
||||||| 3477967
   "id": "3519682c",
=======
   "id": "08bb2b00",
>>>>>>> 763a65aa00deab365d39bc26b2dcb2cc1410a666
   "metadata": {},
   "source": [
    "# Quality control\n",
    "## Cells\n",
    "Some QC metrics are precomputed and are stored in `colData`"
   ]
  },
  {
   "cell_type": "code",
   "execution_count": null,
<<<<<<< HEAD
   "id": "bf7df6e3",
||||||| 3477967
   "id": "b744dcc0",
=======
   "id": "0efedcde",
>>>>>>> 763a65aa00deab365d39bc26b2dcb2cc1410a666
   "metadata": {},
   "outputs": [],
   "source": [
    "names(colData(sfe))"
   ]
  },
  {
   "cell_type": "markdown",
<<<<<<< HEAD
   "id": "651a5c96",
||||||| 3477967
   "id": "dc4b29fd",
=======
   "id": "1193e9be",
>>>>>>> 763a65aa00deab365d39bc26b2dcb2cc1410a666
   "metadata": {},
   "source": [
    "Since there're more cells, it would be better to plot the tissue larger, so we'll plot the histogram of QC metrics and the spatial plots separately, unlike in the CosMx vignette."
   ]
  },
  {
   "cell_type": "code",
   "execution_count": null,
<<<<<<< HEAD
   "id": "38370d0b",
||||||| 3477967
   "id": "43553f94",
=======
   "id": "cb561371",
>>>>>>> 763a65aa00deab365d39bc26b2dcb2cc1410a666
   "metadata": {},
   "outputs": [],
   "source": [
    "n_panel <- 313\n",
    "colData(sfe)$nCounts_normed <- sfe$nCounts/n_panel\n",
    "colData(sfe)$nGenes_normed <- sfe$nGenes/n_panel"
   ]
  },
  {
   "cell_type": "markdown",
<<<<<<< HEAD
   "id": "1bfea0fc",
||||||| 3477967
   "id": "beefc4f3",
=======
   "id": "7e8a5fa4",
>>>>>>> 763a65aa00deab365d39bc26b2dcb2cc1410a666
   "metadata": {},
   "source": [
    "Here we divided nCounts by the total number of genes probed, so this histogram is comparable to those from other smFISH-based datasets. "
   ]
  },
  {
   "cell_type": "code",
   "execution_count": null,
<<<<<<< HEAD
   "id": "221b9096",
||||||| 3477967
   "id": "a42d4207",
=======
   "id": "9c60a030",
>>>>>>> 763a65aa00deab365d39bc26b2dcb2cc1410a666
   "metadata": {},
   "outputs": [],
   "source": [
    "plotColDataHistogram(sfe, c(\"nCounts_normed\", \"nGenes_normed\"))"
   ]
  },
  {
   "cell_type": "markdown",
<<<<<<< HEAD
   "id": "5a896557",
||||||| 3477967
   "id": "02388334",
=======
   "id": "327d371b",
>>>>>>> 763a65aa00deab365d39bc26b2dcb2cc1410a666
   "metadata": {},
   "source": [
    "Compared to the [FFPE CosMX non-small cell lung cancer dataset](https://pachterlab.github.io/voyager/articles/vig4_cosmx.html#cells), more transcripts per gene on average and a larger proportion of all genes are detected in this dataset, which is also FFPE. However, this should be interpreted with care, since these two datasets are from different tissues and have different gene panels, so this may or may not indicate that Xenium has better detection efficiency than CosMX."
   ]
  },
  {
   "cell_type": "code",
   "execution_count": null,
<<<<<<< HEAD
   "id": "2d2028ec",
||||||| 3477967
   "id": "5bfa72b2",
=======
   "id": "05e770b9",
>>>>>>> 763a65aa00deab365d39bc26b2dcb2cc1410a666
   "metadata": {},
   "outputs": [],
   "source": [
    "plotSpatialFeature(sfe, \"nCounts\", colGeometryName = \"cellSeg\")"
   ]
  },
  {
   "cell_type": "markdown",
<<<<<<< HEAD
   "id": "e0cd0ad8",
||||||| 3477967
   "id": "9f8d7704",
=======
   "id": "7321d70b",
>>>>>>> 763a65aa00deab365d39bc26b2dcb2cc1410a666
   "metadata": {},
   "source": [
    "There seem to be FOV artifacts. However, the cell ID and FOV information were unavailable so we cannot examine them. "
   ]
  },
  {
   "cell_type": "code",
   "execution_count": null,
<<<<<<< HEAD
   "id": "a72810e7",
||||||| 3477967
   "id": "f9b0411e",
=======
   "id": "413bfcf4",
>>>>>>> 763a65aa00deab365d39bc26b2dcb2cc1410a666
   "metadata": {},
   "outputs": [],
   "source": [
    "plotSpatialFeature(sfe, \"nGenes\", colGeometryName = \"cellSeg\")"
   ]
  },
  {
   "cell_type": "markdown",
<<<<<<< HEAD
   "id": "4204f86e",
||||||| 3477967
   "id": "024e12c5",
=======
   "id": "30606be0",
>>>>>>> 763a65aa00deab365d39bc26b2dcb2cc1410a666
   "metadata": {
    "lines_to_next_cell": 0
   },
   "source": [
    "A standard examination is to look at the relationship between nCounts and nGenes:"
   ]
  },
  {
   "cell_type": "code",
   "execution_count": null,
<<<<<<< HEAD
   "id": "e93f45f0",
||||||| 3477967
   "id": "26307ea3",
=======
   "id": "ab705a36",
>>>>>>> 763a65aa00deab365d39bc26b2dcb2cc1410a666
   "metadata": {},
   "outputs": [],
   "source": [
    "plotColDataBin2D(sfe, \"nCounts\", \"nGenes\")"
   ]
  },
  {
   "cell_type": "markdown",
<<<<<<< HEAD
   "id": "17945dc3",
||||||| 3477967
   "id": "a8d47c2e",
=======
   "id": "5b071e99",
>>>>>>> 763a65aa00deab365d39bc26b2dcb2cc1410a666
   "metadata": {
    "lines_to_next_cell": 0
   },
   "source": [
    "There appear to be two branches. \n",
    "\n",
    "Here we plot the distribution of cell area"
   ]
  },
  {
   "cell_type": "code",
   "execution_count": null,
<<<<<<< HEAD
   "id": "5d73cd6f",
||||||| 3477967
   "id": "4dc96481",
=======
   "id": "a6e5a812",
>>>>>>> 763a65aa00deab365d39bc26b2dcb2cc1410a666
   "metadata": {},
   "outputs": [],
   "source": [
    "plotColDataHistogram(sfe, c(\"cell_area\", \"nucleus_area\"), scales = \"free_y\")"
   ]
  },
  {
   "cell_type": "markdown",
<<<<<<< HEAD
   "id": "237ddaf8",
||||||| 3477967
   "id": "b5023d70",
=======
   "id": "ed16b05b",
>>>>>>> 763a65aa00deab365d39bc26b2dcb2cc1410a666
   "metadata": {
    "lines_to_next_cell": 0
   },
   "source": [
    "That should be in pixels. There's a very long tail. The nuclei are much smaller than the cells.\n",
    "\n",
    "How is cell area distributed in space?"
   ]
  },
  {
   "cell_type": "code",
   "execution_count": null,
<<<<<<< HEAD
   "id": "852461a2",
||||||| 3477967
   "id": "848af79d",
=======
   "id": "45b6bfad",
>>>>>>> 763a65aa00deab365d39bc26b2dcb2cc1410a666
   "metadata": {},
   "outputs": [],
   "source": [
    "plotSpatialFeature(sfe, \"cell_area\", colGeometryName = \"cellSeg\")"
   ]
  },
  {
   "cell_type": "markdown",
<<<<<<< HEAD
   "id": "e19d0081",
||||||| 3477967
   "id": "8e9a23f9",
=======
   "id": "bb435be0",
>>>>>>> 763a65aa00deab365d39bc26b2dcb2cc1410a666
   "metadata": {
    "lines_to_next_cell": 0
   },
   "source": [
    "Cells in the sparse region tend to be larger than those in the dense region. This may be biological or an artifact of the cell segmentation algorithm or both.\n",
    "\n",
    "Here the nuclei segmentations are plotted instead of cell segmentation. The nuclei are much smaller to the extent that they are difficult to see."
   ]
  },
  {
   "cell_type": "code",
   "execution_count": null,
<<<<<<< HEAD
   "id": "7e754cf2",
||||||| 3477967
   "id": "553474a2",
=======
   "id": "15fa6e9b",
>>>>>>> 763a65aa00deab365d39bc26b2dcb2cc1410a666
   "metadata": {},
   "outputs": [],
   "source": [
    "plotSpatialFeature(sfe, \"nucleus_area\", colGeometryName = \"nucSeg\")"
   ]
  },
  {
   "cell_type": "markdown",
<<<<<<< HEAD
   "id": "5a61365f",
||||||| 3477967
   "id": "43966b0f",
=======
   "id": "e6ff5651",
>>>>>>> 763a65aa00deab365d39bc26b2dcb2cc1410a666
   "metadata": {
    "lines_to_next_cell": 0
   },
   "source": [
    "There's an outlier near the right edge of the section, throwing off the dynamic range of the plot. Upon inspection of the H&E image, the outlier is a bit of tissue debris that doesn't look like a cell. But we can still that cells in the dense, gland like regions tend to have larger nuclei. This may be biological, or that nuclei are so densely packed in those regions that they are more likely to be undersegmented, i.e. when multiple nuclei are counted as one by the nuclei segmentation program, or both.\n",
    "\n",
    "These observations motivate an examination of the relationship between cell area and nuclei area:"
   ]
  },
  {
   "cell_type": "code",
   "execution_count": null,
<<<<<<< HEAD
   "id": "5057d859",
||||||| 3477967
   "id": "d447ec09",
=======
   "id": "86488437",
>>>>>>> 763a65aa00deab365d39bc26b2dcb2cc1410a666
   "metadata": {},
   "outputs": [],
   "source": [
    "plotColDataBin2D(sfe, \"cell_area\", \"nucleus_area\") + \n",
    "    scale_fill_viridis_c()"
   ]
  },
  {
   "cell_type": "markdown",
<<<<<<< HEAD
   "id": "1ab074b1",
||||||| 3477967
   "id": "c69a4722",
=======
   "id": "df217e1b",
>>>>>>> 763a65aa00deab365d39bc26b2dcb2cc1410a666
   "metadata": {},
   "source": [
    "Again, there are two branches, probably related to cell density and cell type. The nucleus outlier also has large cell area, though it is not as much an outlier in cell area. However, it is a spatial outlier as it's unusually large compared to its neighbors (scroll up two plots back). \n",
    "\n",
    "Next we calculate the proportion of cell in this z-plane taken up by the nucleus, and examine the distribution:"
   ]
  },
  {
   "cell_type": "code",
   "execution_count": null,
<<<<<<< HEAD
   "id": "f9cd5f95",
||||||| 3477967
   "id": "35d5ecb2",
=======
   "id": "181f7f6d",
>>>>>>> 763a65aa00deab365d39bc26b2dcb2cc1410a666
   "metadata": {},
   "outputs": [],
   "source": [
    "colData(sfe)$prop_nuc <- sfe$nucleus_area / sfe$cell_area"
   ]
  },
  {
   "cell_type": "code",
   "execution_count": null,
<<<<<<< HEAD
   "id": "861f739c",
||||||| 3477967
   "id": "6338cbd6",
=======
   "id": "5106e187",
>>>>>>> 763a65aa00deab365d39bc26b2dcb2cc1410a666
   "metadata": {},
   "outputs": [],
   "source": [
    "plotColDataHistogram(sfe, \"prop_nuc\")"
   ]
  },
  {
   "cell_type": "markdown",
<<<<<<< HEAD
   "id": "ab613e05",
||||||| 3477967
   "id": "953e4986",
=======
   "id": "60f913cd",
>>>>>>> 763a65aa00deab365d39bc26b2dcb2cc1410a666
   "metadata": {
    "lines_to_next_cell": 0
   },
   "source": [
    "This distribution could have been generated from two peaks that were combined. From the histogram, there do not seem to be cells without nuclei or segmentation artifacts where the nucleus is larger than the cell. However, there are so many cells in this dataset and it is possible that just a few cells would not be visible on this histogram. We double check:"
   ]
  },
  {
   "cell_type": "code",
   "execution_count": null,
<<<<<<< HEAD
   "id": "0bc92efe",
||||||| 3477967
   "id": "eafd925f",
=======
   "id": "f6a9070e",
>>>>>>> 763a65aa00deab365d39bc26b2dcb2cc1410a666
   "metadata": {},
   "outputs": [],
   "source": [
    "# No nucleus\n",
    "sum(sfe$nucleus_area < 1)\n",
    "# Nucleus larger than cell\n",
    "sum(sfe$nucleus_area > sfe$cell_area)"
   ]
  },
  {
   "cell_type": "markdown",
<<<<<<< HEAD
   "id": "9fef376c",
||||||| 3477967
   "id": "98e4168c",
=======
   "id": "6bdae6ba",
>>>>>>> 763a65aa00deab365d39bc26b2dcb2cc1410a666
   "metadata": {
    "lines_to_next_cell": 0
   },
   "source": [
    "So there are no cells without nuclei or nuclei larger than their cells. Here we plot the nuclei proportion in space:"
   ]
  },
  {
   "cell_type": "code",
   "execution_count": null,
<<<<<<< HEAD
   "id": "9df74ebb",
||||||| 3477967
   "id": "285fbb5d",
=======
   "id": "5c180d44",
>>>>>>> 763a65aa00deab365d39bc26b2dcb2cc1410a666
   "metadata": {},
   "outputs": [],
   "source": [
    "plotSpatialFeature(sfe, \"prop_nuc\", colGeometryName = \"cellSeg\")"
   ]
  },
  {
   "cell_type": "markdown",
<<<<<<< HEAD
   "id": "d64fb66f",
||||||| 3477967
   "id": "c2a8ea2a",
=======
   "id": "133371af",
>>>>>>> 763a65aa00deab365d39bc26b2dcb2cc1410a666
   "metadata": {
    "lines_to_next_cell": 0
   },
   "source": [
    "Cells in some histological regions have larger proportions occupied by the nuclei. It is interesting to check, controlling for cell type, how cell area, nucleus area, and the proportion of cell occupied by nucleus relate to gene expression. However, a problem in performing such an analysis is that cell segmentation is only available for one z-plane here and these areas also relate to where this z-plane intersects each cell. \n",
    "\n",
    "Below we plot a 2D histogram to better show the density of points on this plot:"
   ]
  },
  {
   "cell_type": "code",
   "execution_count": null,
<<<<<<< HEAD
   "id": "bc52b6b9",
||||||| 3477967
   "id": "7a8d86f9",
=======
   "id": "daed66e1",
>>>>>>> 763a65aa00deab365d39bc26b2dcb2cc1410a666
   "metadata": {},
   "outputs": [],
   "source": [
    "plotColDataBin2D(sfe, \"cell_area\", \"prop_nuc\") + \n",
    "    scale_fill_viridis_c()"
   ]
  },
  {
   "cell_type": "markdown",
<<<<<<< HEAD
   "id": "9315c117",
||||||| 3477967
   "id": "9227d6d9",
=======
   "id": "3641ba85",
>>>>>>> 763a65aa00deab365d39bc26b2dcb2cc1410a666
   "metadata": {
    "lines_to_next_cell": 0
   },
   "source": [
    "Smaller cells tend to have higher proportion occupied by the nucleus. This can be related to cell type, or it could be a limitation in how small the nuclei can be in this tissue.\n",
    "\n",
    "We also examine the relationship between nucleus area and the proportion of cell occupied by the nucleus:"
   ]
  },
  {
   "cell_type": "code",
   "execution_count": null,
<<<<<<< HEAD
   "id": "5f8a2724",
||||||| 3477967
   "id": "ee8d9efb",
=======
   "id": "bc1ec603",
>>>>>>> 763a65aa00deab365d39bc26b2dcb2cc1410a666
   "metadata": {},
   "outputs": [],
   "source": [
    "plotColDataBin2D(sfe, \"nucleus_area\", \"prop_nuc\") + \n",
    "    scale_fill_viridis_c()"
   ]
  },
  {
   "cell_type": "markdown",
<<<<<<< HEAD
   "id": "62bbf6fd",
||||||| 3477967
   "id": "703598f5",
=======
   "id": "8261ed7e",
>>>>>>> 763a65aa00deab365d39bc26b2dcb2cc1410a666
   "metadata": {
    "lines_to_next_cell": 0
   },
   "source": [
    "The outlier is obvious. There are more cells with both small nuclei and low proportion of area occupied by the nucleus.\n",
    "\n",
    "## Negative controls\n",
    "Since there are only a few hundred genes plus negative control probes, all row names of the SFE object can be printed out to find what the negative control probes are called."
   ]
  },
  {
   "cell_type": "code",
   "execution_count": null,
<<<<<<< HEAD
   "id": "9fa14ba1",
||||||| 3477967
   "id": "e15bb093",
=======
   "id": "34c433c6",
>>>>>>> 763a65aa00deab365d39bc26b2dcb2cc1410a666
   "metadata": {},
   "outputs": [],
   "source": [
    "rownames(sfe)"
   ]
  },
  {
   "cell_type": "markdown",
<<<<<<< HEAD
   "id": "52a0524b",
||||||| 3477967
   "id": "4f46552d",
=======
   "id": "51232071",
>>>>>>> 763a65aa00deab365d39bc26b2dcb2cc1410a666
   "metadata": {},
   "source": [
    "According to the Xenium paper [@Janesick2022-rp], there are 3 types of controls:\n",
    "\n",
    "> 1) probe controls to assess non-specific binding to RNA, \n",
    "2) decoding controls to assess misassigned genes, and \n",
    "3) genomic DNA (gDNA) controls to ensure the signal is from RNA.\n",
    "\n",
    "The paper does not explain in detail how those control probes were designed, nor explain what the blank probes are. But the blank probes can be used as a negative control."
   ]
  },
  {
   "cell_type": "code",
   "execution_count": null,
<<<<<<< HEAD
   "id": "0f491864",
||||||| 3477967
   "id": "2196fcb1",
=======
   "id": "6c88b8a7",
>>>>>>> 763a65aa00deab365d39bc26b2dcb2cc1410a666
   "metadata": {},
   "outputs": [],
   "source": [
    "is_blank <- str_detect(rownames(sfe), \"^BLANK_\")\n",
    "sum(is_blank)"
   ]
  },
  {
   "cell_type": "markdown",
<<<<<<< HEAD
   "id": "37068c72",
||||||| 3477967
   "id": "21859505",
=======
   "id": "7fca3502",
>>>>>>> 763a65aa00deab365d39bc26b2dcb2cc1410a666
   "metadata": {
    "lines_to_next_cell": 0
   },
   "source": [
    "This should be number 1, the probe control"
   ]
  },
  {
   "cell_type": "code",
   "execution_count": null,
<<<<<<< HEAD
   "id": "c882d376",
||||||| 3477967
   "id": "53b9cd8f",
=======
   "id": "d7006ab2",
>>>>>>> 763a65aa00deab365d39bc26b2dcb2cc1410a666
   "metadata": {},
   "outputs": [],
   "source": [
    "is_neg <- str_detect(rownames(sfe), \"^NegControlProbe\")\n",
    "sum(is_neg)"
   ]
  },
  {
   "cell_type": "markdown",
<<<<<<< HEAD
   "id": "a62cdc27",
||||||| 3477967
   "id": "b0a09256",
=======
   "id": "e58bb966",
>>>>>>> 763a65aa00deab365d39bc26b2dcb2cc1410a666
   "metadata": {
    "lines_to_next_cell": 0
   },
   "source": [
    "This should be number 2, the decoding control"
   ]
  },
  {
   "cell_type": "code",
   "execution_count": null,
<<<<<<< HEAD
   "id": "9141a1b6",
||||||| 3477967
   "id": "050e0568",
=======
   "id": "4f7594af",
>>>>>>> 763a65aa00deab365d39bc26b2dcb2cc1410a666
   "metadata": {},
   "outputs": [],
   "source": [
    "is_neg2 <- str_detect(rownames(sfe), \"^NegControlCodeword\")\n",
    "sum(is_neg2)"
   ]
  },
  {
   "cell_type": "markdown",
<<<<<<< HEAD
   "id": "01bfe79a",
||||||| 3477967
   "id": "c67d5d2d",
=======
   "id": "619a6fdc",
>>>>>>> 763a65aa00deab365d39bc26b2dcb2cc1410a666
   "metadata": {
    "lines_to_next_cell": 0
   },
   "source": [
    "This must be number 3, gDNA control"
   ]
  },
  {
   "cell_type": "code",
   "execution_count": null,
<<<<<<< HEAD
   "id": "b7424cba",
||||||| 3477967
   "id": "f67b003a",
=======
   "id": "dcfa24c0",
>>>>>>> 763a65aa00deab365d39bc26b2dcb2cc1410a666
   "metadata": {},
   "outputs": [],
   "source": [
    "is_anti <- str_detect(rownames(sfe), \"^antisense\")\n",
    "sum(is_anti)"
   ]
  },
  {
   "cell_type": "markdown",
<<<<<<< HEAD
   "id": "7a9c2fd8",
||||||| 3477967
   "id": "4c139b57",
=======
   "id": "420a1010",
>>>>>>> 763a65aa00deab365d39bc26b2dcb2cc1410a666
   "metadata": {
    "lines_to_next_cell": 0
   },
   "source": [
    "Also make an indicator of whether a feature is any sort of negative control"
   ]
  },
  {
   "cell_type": "code",
   "execution_count": null,
<<<<<<< HEAD
   "id": "9e4f70c6",
||||||| 3477967
   "id": "c0f5dd52",
=======
   "id": "77333ec9",
>>>>>>> 763a65aa00deab365d39bc26b2dcb2cc1410a666
   "metadata": {},
   "outputs": [],
   "source": [
    "is_any_neg <- is_blank | is_neg | is_neg2 | is_anti"
   ]
  },
  {
   "cell_type": "markdown",
<<<<<<< HEAD
   "id": "3447c57f",
||||||| 3477967
   "id": "e6df40d2",
=======
   "id": "7fbd35cc",
>>>>>>> 763a65aa00deab365d39bc26b2dcb2cc1410a666
   "metadata": {
    "lines_to_next_cell": 0
   },
   "source": [
    "The `addPerCellQCMetrics()` function in the `scuttle` package can conveniently add transcript counts, proportion of total counts, and number of features detected for any subset of features to the SCE object. Here we do this for the SFE object, as SFE inherits from SCE. "
   ]
  },
  {
   "cell_type": "code",
   "execution_count": null,
<<<<<<< HEAD
   "id": "5291795e",
||||||| 3477967
   "id": "a1fa0919",
=======
   "id": "ee10ecad",
>>>>>>> 763a65aa00deab365d39bc26b2dcb2cc1410a666
   "metadata": {},
   "outputs": [],
   "source": [
    "sfe <- addPerCellQCMetrics(sfe, subsets = list(blank = is_blank,\n",
    "                                               negProbe = is_neg,\n",
    "                                               negCodeword = is_neg2,\n",
    "                                               anti = is_anti,\n",
    "                                               any_neg = is_any_neg))"
   ]
  },
  {
   "cell_type": "code",
   "execution_count": null,
<<<<<<< HEAD
   "id": "540622aa",
||||||| 3477967
   "id": "59f8befa",
=======
   "id": "bdf429e6",
>>>>>>> 763a65aa00deab365d39bc26b2dcb2cc1410a666
   "metadata": {},
   "outputs": [],
   "source": [
    "names(colData(sfe))"
   ]
  },
  {
   "cell_type": "markdown",
<<<<<<< HEAD
   "id": "fa6431a3",
||||||| 3477967
   "id": "a723a01d",
=======
   "id": "0c4f61c3",
>>>>>>> 763a65aa00deab365d39bc26b2dcb2cc1410a666
   "metadata": {},
   "source": [
    "Next we plot the proportion of transcript counts coming from any negative control. "
   ]
  },
  {
   "cell_type": "code",
   "execution_count": null,
<<<<<<< HEAD
   "id": "665a6257",
||||||| 3477967
   "id": "af957427",
=======
   "id": "4b911c06",
>>>>>>> 763a65aa00deab365d39bc26b2dcb2cc1410a666
   "metadata": {},
   "outputs": [],
   "source": [
    "cols_use <- names(colData(sfe))[str_detect(names(colData(sfe)), \"_percent$\")]\n",
    "plotColDataHistogram(sfe, cols_use, bins = 100, ncol = 3)"
   ]
  },
  {
   "cell_type": "markdown",
<<<<<<< HEAD
   "id": "df109805",
||||||| 3477967
   "id": "d0cf724d",
=======
   "id": "9c24e6b7",
>>>>>>> 763a65aa00deab365d39bc26b2dcb2cc1410a666
   "metadata": {
    "lines_to_next_cell": 0
   },
   "source": [
    "The histogram is dominated by the bin at zero and there are some extreme outliers too few to be seen but evident from the scale of the x axis. We also plot the histogram only for cells with at least 1 count from a negative control. The NA's come from cells that got segmented but have no transcripts detected."
   ]
  },
  {
   "cell_type": "code",
   "execution_count": null,
<<<<<<< HEAD
   "id": "db43d86d",
||||||| 3477967
   "id": "48999271",
=======
   "id": "a44597df",
>>>>>>> 763a65aa00deab365d39bc26b2dcb2cc1410a666
   "metadata": {},
   "outputs": [],
   "source": [
    "plotColDataHistogram(sfe, cols_use, bins = 100, ncol = 3) + \n",
    "    scale_x_log10() +\n",
    "    annotation_logticks(sides = \"b\")"
   ]
  },
  {
   "cell_type": "markdown",
<<<<<<< HEAD
   "id": "3ba106a4",
||||||| 3477967
   "id": "5e19d582",
=======
   "id": "53180a67",
>>>>>>> 763a65aa00deab365d39bc26b2dcb2cc1410a666
   "metadata": {
    "lines_to_next_cell": 0
   },
   "source": [
    "The vast majority of these cells have less than 1% of transcript counts from negative controls, but there are outliers with up to 50%. \n",
    "\n",
    "Next we plot the distribution of the number of negative control counts per cell:"
   ]
  },
  {
   "cell_type": "code",
   "execution_count": null,
<<<<<<< HEAD
   "id": "0f6b834a",
||||||| 3477967
   "id": "ed2f928e",
=======
   "id": "dec26bb8",
>>>>>>> 763a65aa00deab365d39bc26b2dcb2cc1410a666
   "metadata": {},
   "outputs": [],
   "source": [
    "cols_use2 <- names(colData(sfe))[str_detect(names(colData(sfe)), \"_detected$\")]\n",
    "plotColDataHistogram(sfe, cols_use2, bins = 20, ncol = 3) +\n",
    "    # Avoid decimal breaks on x axis unless there're too few breaks\n",
    "    scale_x_continuous(breaks = scales::breaks_extended(Q = c(1,2,5)))"
   ]
  },
  {
   "cell_type": "markdown",
<<<<<<< HEAD
   "id": "248fb799",
||||||| 3477967
   "id": "10856c1c",
=======
   "id": "59276fdf",
>>>>>>> 763a65aa00deab365d39bc26b2dcb2cc1410a666
   "metadata": {},
   "source": [
    "The counts are low, mostly zero, but there are outliers with up to 10 counts of all types aggregated. Then the outlier with 50% of counts from negative controls must have very low total real transcript counts to begin with.\n",
    "\n",
    "The `scuttle` package can detect outliers, but by default it assigns anything above zero as an outlier, since that is over 3 median absolute deviations (MADs) away from the median, which is 0, and the MAD is 0 since the vast majority of cells don't have any negative control count. But it makes sense to allow a small proportion of negative controls. Here we use the distribution just for cells with at least 1 negative control count to find outliers. This distribution has a very long tail and some definite outliers.\n",
    "\n",
    "The code below extracts the outliers, based only on cells with at least one negative control count"
   ]
  },
  {
   "cell_type": "code",
   "execution_count": null,
<<<<<<< HEAD
   "id": "ab36d402",
||||||| 3477967
   "id": "bce33e5a",
=======
   "id": "4da29eaf",
>>>>>>> 763a65aa00deab365d39bc26b2dcb2cc1410a666
   "metadata": {},
   "outputs": [],
   "source": [
    "get_neg_ctrl_outliers <- function(col, sfe) {\n",
    "    inds <- colData(sfe)$nCounts > 0 & colData(sfe)[[col]] > 0\n",
    "    df <- colData(sfe)[inds,]\n",
    "    outlier_inds <- isOutlier(df[[col]], type = \"higher\")\n",
    "    outliers <- rownames(df)[outlier_inds]\n",
    "    col2 <- str_remove(col, \"^subsets_\")\n",
    "    col2 <- str_remove(col2, \"_percent$\")\n",
    "    new_colname <- paste(\"is\", col2, \"outlier\", sep = \"_\")\n",
    "    colData(sfe)[[new_colname]] <- colnames(sfe) %in% outliers\n",
    "    sfe\n",
    "}"
   ]
  },
  {
   "cell_type": "code",
   "execution_count": null,
<<<<<<< HEAD
   "id": "b435a664",
||||||| 3477967
   "id": "f78da385",
=======
   "id": "72fd201d",
>>>>>>> 763a65aa00deab365d39bc26b2dcb2cc1410a666
   "metadata": {},
   "outputs": [],
   "source": [
    "cols_use <- names(colData(sfe))[str_detect(names(colData(sfe)), \"_percent$\")]\n",
    "for (n in cols_use) {\n",
    "    sfe <- get_neg_ctrl_outliers(n, sfe)\n",
    "}"
   ]
  },
  {
   "cell_type": "code",
   "execution_count": null,
<<<<<<< HEAD
   "id": "dd807e50",
||||||| 3477967
   "id": "e2a49d45",
=======
   "id": "81e3e7cd",
>>>>>>> 763a65aa00deab365d39bc26b2dcb2cc1410a666
   "metadata": {},
   "outputs": [],
   "source": [
    "names(colData(sfe))"
   ]
  },
  {
   "cell_type": "markdown",
<<<<<<< HEAD
   "id": "2acc3759",
||||||| 3477967
   "id": "98d0679a",
=======
   "id": "80956e11",
>>>>>>> 763a65aa00deab365d39bc26b2dcb2cc1410a666
   "metadata": {
    "lines_to_next_cell": 0
   },
   "source": [
    "Below we examine where the outliers are located in space:"
   ]
  },
  {
   "cell_type": "code",
   "execution_count": null,
<<<<<<< HEAD
   "id": "cec317d4",
||||||| 3477967
   "id": "918927de",
=======
   "id": "bcd50ef2",
>>>>>>> 763a65aa00deab365d39bc26b2dcb2cc1410a666
   "metadata": {},
   "outputs": [],
   "source": [
    "plotSpatialFeature(sfe, \"is_blank_outlier\", colGeometryName = \"cellSeg\")"
   ]
  },
  {
   "cell_type": "markdown",
<<<<<<< HEAD
   "id": "17b31c87",
||||||| 3477967
   "id": "14d56330",
=======
   "id": "492286b1",
>>>>>>> 763a65aa00deab365d39bc26b2dcb2cc1410a666
   "metadata": {
    "lines_to_next_cell": 0
   },
   "source": [
    "We find that the outliers are difficult to see:"
   ]
  },
  {
   "cell_type": "code",
   "execution_count": null,
<<<<<<< HEAD
   "id": "fd548380",
||||||| 3477967
   "id": "6757c981",
=======
   "id": "e89313a8",
>>>>>>> 763a65aa00deab365d39bc26b2dcb2cc1410a666
   "metadata": {},
   "outputs": [],
   "source": [
    "plotColData(sfe, y = \"is_blank_outlier\", x = \"cell_area\", \n",
    "            point_fun = function(...) list()) "
   ]
  },
  {
   "cell_type": "markdown",
<<<<<<< HEAD
   "id": "44674ea1",
||||||| 3477967
   "id": "58bd55a5",
=======
   "id": "795a956a",
>>>>>>> 763a65aa00deab365d39bc26b2dcb2cc1410a666
   "metadata": {
    "lines_to_next_cell": 0
   },
   "source": [
    "The analysis reveals that the outliers seem to be smaller. Outliers for negative probe controls and negative codeword controls are also hard to see on the plot, so their plots are skipped here. But the top left region in the tissue tends to have more counts from antisense controls. "
   ]
  },
  {
   "cell_type": "code",
   "execution_count": null,
<<<<<<< HEAD
   "id": "b06ff90d",
||||||| 3477967
   "id": "d16740dd",
=======
   "id": "cadc38f7",
>>>>>>> 763a65aa00deab365d39bc26b2dcb2cc1410a666
   "metadata": {},
   "outputs": [],
   "source": [
    "plotSpatialFeature(sfe, \"is_anti_outlier\", colGeometryName = \"cellSeg\")"
   ]
  },
  {
   "cell_type": "markdown",
<<<<<<< HEAD
   "id": "1ecd6021",
||||||| 3477967
   "id": "a082f107",
=======
   "id": "24c1d205",
>>>>>>> 763a65aa00deab365d39bc26b2dcb2cc1410a666
   "metadata": {},
   "source": [
    "Now that we have identified the outliers, we can remove them along with empty cells before proceeding to further analysis:"
   ]
  },
  {
   "cell_type": "code",
   "execution_count": null,
<<<<<<< HEAD
   "id": "f76152a7",
||||||| 3477967
   "id": "a8c96a5d",
=======
   "id": "511286c0",
>>>>>>> 763a65aa00deab365d39bc26b2dcb2cc1410a666
   "metadata": {},
   "outputs": [],
   "source": [
    "inds_keep <- sfe$nCounts > 0 & sfe$nucleus_area < 400 & !sfe$is_anti_outlier &\n",
    "    !sfe$is_blank_outlier & !sfe$is_negCodeword_outlier & !sfe$is_negProbe_outlier\n",
    "(sfe <- sfe[,inds_keep])"
   ]
  },
  {
   "cell_type": "markdown",
<<<<<<< HEAD
   "id": "781b2a3f",
||||||| 3477967
   "id": "ddeee564",
=======
   "id": "fab290f8",
>>>>>>> 763a65aa00deab365d39bc26b2dcb2cc1410a666
   "metadata": {
    "lines_to_next_cell": 0
   },
   "source": [
    "Over 1000 cells were removed. \n",
    "\n",
    "Next we check how many negative control features are detected per cell:"
   ]
  },
  {
   "cell_type": "code",
   "execution_count": null,
<<<<<<< HEAD
   "id": "fc78588a",
||||||| 3477967
   "id": "e9857cd4",
=======
   "id": "99df1b1e",
>>>>>>> 763a65aa00deab365d39bc26b2dcb2cc1410a666
   "metadata": {},
   "outputs": [],
   "source": [
    "plotColDataHistogram(sfe, cols_use2, bins = 20, ncol = 3) +\n",
    "    # Avoid decimal breaks on x axis unless there're too few breaks\n",
    "    scale_x_continuous(breaks = scales::breaks_extended(3, Q = c(1,2,5)))"
   ]
  },
  {
   "cell_type": "markdown",
<<<<<<< HEAD
   "id": "d4d24ee8",
||||||| 3477967
   "id": "7f3286ef",
=======
   "id": "f6d9c5c4",
>>>>>>> 763a65aa00deab365d39bc26b2dcb2cc1410a666
   "metadata": {
    "lines_to_next_cell": 0
   },
   "source": [
    "There are at most 3 counts per cell per type. For the non-outliers, each type is at most around 1%, so this data looks good. \n",
    "\n",
    "## Genes\n",
    "Here we look at the mean and variance of each gene"
   ]
  },
  {
   "cell_type": "code",
   "execution_count": null,
<<<<<<< HEAD
   "id": "c0607349",
||||||| 3477967
   "id": "8c5515a1",
=======
   "id": "be7289c7",
>>>>>>> 763a65aa00deab365d39bc26b2dcb2cc1410a666
   "metadata": {},
   "outputs": [],
   "source": [
    "rowData(sfe)$means <- rowMeans(counts(sfe))\n",
    "rowData(sfe)$vars <- rowVars(counts(sfe))"
   ]
  },
  {
   "cell_type": "markdown",
<<<<<<< HEAD
   "id": "1714cd75",
||||||| 3477967
   "id": "2db26f48",
=======
   "id": "94c16307",
>>>>>>> 763a65aa00deab365d39bc26b2dcb2cc1410a666
   "metadata": {
    "lines_to_next_cell": 0
   },
   "source": [
    "Real genes generally have higher mean expression across cells than negative controls."
   ]
  },
  {
   "cell_type": "code",
   "execution_count": null,
<<<<<<< HEAD
   "id": "eb4447a1",
||||||| 3477967
   "id": "17e43029",
=======
   "id": "3db7d716",
>>>>>>> 763a65aa00deab365d39bc26b2dcb2cc1410a666
   "metadata": {},
   "outputs": [],
   "source": [
    "rowData(sfe)$is_neg <- is_any_neg\n",
    "plotRowData(sfe, x = \"means\", y = \"is_neg\") +\n",
    "    scale_y_log10() +\n",
    "    annotation_logticks(sides = \"b\")"
   ]
  },
  {
   "cell_type": "markdown",
<<<<<<< HEAD
   "id": "02d78850",
||||||| 3477967
   "id": "607954bc",
=======
   "id": "58a617ef",
>>>>>>> 763a65aa00deab365d39bc26b2dcb2cc1410a666
   "metadata": {
    "lines_to_next_cell": 0
   },
   "source": [
    "Here the real genes and negative controls are plotted in different colors"
   ]
  },
  {
   "cell_type": "code",
   "execution_count": null,
<<<<<<< HEAD
   "id": "2df0a91a",
||||||| 3477967
   "id": "dd54e3d0",
=======
   "id": "f7352ee1",
>>>>>>> 763a65aa00deab365d39bc26b2dcb2cc1410a666
   "metadata": {},
   "outputs": [],
   "source": [
    "plotRowDataBin2D(sfe, \"means\", \"vars\", subset = \"is_neg\", \n",
    "                 name_true = \"Counts (negative controls)\", \n",
    "                 name_false = \"Counts (real genes)\", bins = 50) +\n",
    "    geom_abline(slope = 1, intercept = 0, color = \"red\") +\n",
    "    scale_x_log10() + scale_y_log10() +\n",
    "    annotation_logticks() +\n",
    "    coord_equal()"
   ]
  },
  {
   "cell_type": "markdown",
<<<<<<< HEAD
   "id": "62d97c6d",
||||||| 3477967
   "id": "96caf5cc",
=======
   "id": "d0560d0e",
>>>>>>> 763a65aa00deab365d39bc26b2dcb2cc1410a666
   "metadata": {},
   "source": [
    "The red line $y = x$ is expected if the data follows a Poisson distribution. Negative controls and real genes form mostly separate clusters. Negative controls stick close to the line, while real genes are overdispersed. Unlike in the [CosMX dataset](https://pachterlab.github.io/voyager/articles/vig4_cosmx.html#genes), the negative controls don't seem overdispersed.\n",
    "\n",
    "# Spatial autocorrelation of QC metrics\n",
    "\n",
    "There's a sparse and a dense region. This poses the question of what type of neighborhood graph to use, e.g. it is conceivable that cells in the sparse region should just be singletons. Furthermore, it is unclear what the length scale of their influence might be. It might depend on the cell type and how contact and secreted signals are used in the cell type, and length scale of the influence. If k nearest neighbors are used, then the neighbors in the dense region are much closer together than those in the sparse region. If distance based neighbors are used, then cells in the dense region will have more neighbors than cells in the sparse region, and the sparse region can break into multiple compartments if the distance cutoff is not long enough. \n",
    "\n",
    "For the purpose of demonstration, we use k nearest neighbors with $k = 5$, with inverse distance weighting. Note that using more neighbors leads to longer computation time of spatial autocorrelation metrics."
   ]
  },
  {
   "cell_type": "code",
   "execution_count": null,
<<<<<<< HEAD
   "id": "913edeaa",
||||||| 3477967
   "id": "e2adb2db",
=======
   "id": "15e64ac7",
>>>>>>> 763a65aa00deab365d39bc26b2dcb2cc1410a666
   "metadata": {},
   "outputs": [],
   "source": [
    "system.time(\n",
    "    colGraph(sfe, \"knn5\") <- findSpatialNeighbors(sfe, method = \"knearneigh\", \n",
    "                                                  dist_type = \"idw\", k = 5, \n",
    "                                                  style = \"W\")\n",
    ")"
   ]
  },
  {
   "cell_type": "code",
   "execution_count": null,
<<<<<<< HEAD
   "id": "557952e4",
||||||| 3477967
   "id": "6a016ef1",
=======
   "id": "446e8f31",
>>>>>>> 763a65aa00deab365d39bc26b2dcb2cc1410a666
   "metadata": {},
   "outputs": [],
   "source": [
    "sfe <- colDataMoransI(sfe, c(\"nCounts\", \"nGenes\", \"cell_area\", \"nucleus_area\"),\n",
    "                      colGraphName = \"knn5\")"
   ]
  },
  {
   "cell_type": "code",
   "execution_count": null,
<<<<<<< HEAD
   "id": "57a873f5",
||||||| 3477967
   "id": "15d5adfd",
=======
   "id": "135230f3",
>>>>>>> 763a65aa00deab365d39bc26b2dcb2cc1410a666
   "metadata": {},
   "outputs": [],
   "source": [
    "colFeatureData(sfe)[c(\"nCounts\", \"nGenes\", \"cell_area\", \"nucleus_area\"),]"
   ]
  },
  {
   "cell_type": "markdown",
<<<<<<< HEAD
   "id": "1944319c",
||||||| 3477967
   "id": "87195623",
=======
   "id": "b566ed35",
>>>>>>> 763a65aa00deab365d39bc26b2dcb2cc1410a666
   "metadata": {},
   "source": [
    "Global Moran's I indicatse positive spatial autocorrelation. As the strength of spatial autocorrelation can vary spatially, we also run local Moran's I."
   ]
  },
  {
   "cell_type": "code",
   "execution_count": null,
<<<<<<< HEAD
   "id": "dfb72d4b",
||||||| 3477967
   "id": "99831c95",
=======
   "id": "d8f62767",
>>>>>>> 763a65aa00deab365d39bc26b2dcb2cc1410a666
   "metadata": {},
   "outputs": [],
   "source": [
    "sfe <- colDataUnivariate(sfe, type = \"localmoran\", \n",
    "                         features = c(\"nCounts\", \"nGenes\", \"cell_area\", \n",
    "                                      \"nucleus_area\"),\n",
    "                         colGraphName = \"knn5\", BPPARAM = MulticoreParam(2))"
   ]
  },
  {
   "cell_type": "markdown",
<<<<<<< HEAD
   "id": "2b7739c6",
||||||| 3477967
   "id": "0a80e05c",
=======
   "id": "5933b20e",
>>>>>>> 763a65aa00deab365d39bc26b2dcb2cc1410a666
   "metadata": {
    "lines_to_next_cell": 0
   },
   "source": [
    "The `pointsize` argument adjusts the point size in `scattermore`. The default is 0, meaning single pixels, but since the cells in the sparse region are hard to see that way, we increase `pointsize`. We would still plot the polygons in larger single panel plots, but use `scattermore` in multi-panel plots where the polygons in each panel are invisible anyway due to the small size to save some time."
   ]
  },
  {
   "cell_type": "code",
   "execution_count": null,
<<<<<<< HEAD
   "id": "d209e4f1",
||||||| 3477967
   "id": "7d608121",
=======
   "id": "e0409a7f",
>>>>>>> 763a65aa00deab365d39bc26b2dcb2cc1410a666
   "metadata": {
    "fig.height": 6,
    "fig.width": 9
   },
   "outputs": [],
   "source": [
    "plotLocalResult(sfe, \"localmoran\",\n",
    "                features = c(\"nCounts\", \"nGenes\", \"cell_area\", \"nucleus_area\"),\n",
    "                colGeometryName = \"centroids\", scattermore = TRUE,\n",
    "                divergent = TRUE, diverge_center = 0, pointsize = 1)"
   ]
  },
  {
   "cell_type": "markdown",
<<<<<<< HEAD
   "id": "63fcb1bb",
||||||| 3477967
   "id": "a702f823",
=======
   "id": "708742eb",
>>>>>>> 763a65aa00deab365d39bc26b2dcb2cc1410a666
   "metadata": {
    "lines_to_next_cell": 0
   },
   "source": [
    "Interestingly, nCounts is more homogeneous in the interior of the dense region, while nGenes is more homogeneous by the edge of the dense region. As expected, cell area is more homogeneous in the sparse region. However, the nucleus area is more homogeneous in the interior of the dense region. \n",
    "\n",
    "Moran plot for nCounts"
   ]
  },
  {
   "cell_type": "code",
   "execution_count": null,
<<<<<<< HEAD
   "id": "ea1775ad",
||||||| 3477967
   "id": "c3fcccf1",
=======
   "id": "3af79304",
>>>>>>> 763a65aa00deab365d39bc26b2dcb2cc1410a666
   "metadata": {},
   "outputs": [],
   "source": [
    "sfe <- colDataUnivariate(sfe, \"moran.plot\", \"nCounts\", colGraphName = \"knn5\")"
   ]
  },
  {
   "cell_type": "code",
   "execution_count": null,
<<<<<<< HEAD
   "id": "52bdf97c",
||||||| 3477967
   "id": "52151b18",
=======
   "id": "33bd0526",
>>>>>>> 763a65aa00deab365d39bc26b2dcb2cc1410a666
   "metadata": {
    "fig.height": 7,
    "fig.width": 8
   },
   "outputs": [],
   "source": [
    "p1 <- moranPlot(sfe, \"nCounts\", binned = TRUE, plot_influential = FALSE) \n",
    "p2 <- moranPlot(sfe, \"nCounts\", binned = TRUE)\n",
    "p1 / p2 + plot_layout(guides = \"collect\")"
   ]
  },
  {
   "cell_type": "markdown",
<<<<<<< HEAD
   "id": "b960d17b",
||||||| 3477967
   "id": "588a149c",
=======
   "id": "343c379e",
>>>>>>> 763a65aa00deab365d39bc26b2dcb2cc1410a666
   "metadata": {},
   "source": [
    "There are no obvious clusters here. In the lower panel, the 2D histogram of influential points is plotted in red.\n",
    "\n",
    "# Moran's I\n",
    "\n",
    "By default, for gene expression, the log normalized counts are used in spatial autocorrelation metrics, so before running Moran's I, we normalize the data."
   ]
  },
  {
   "cell_type": "code",
   "execution_count": null,
<<<<<<< HEAD
   "id": "7542383f",
||||||| 3477967
   "id": "eb2f374e",
=======
   "id": "73c7754a",
>>>>>>> 763a65aa00deab365d39bc26b2dcb2cc1410a666
   "metadata": {},
   "outputs": [],
   "source": [
    "sfe <- logNormCounts(sfe)"
   ]
  },
  {
   "cell_type": "markdown",
<<<<<<< HEAD
   "id": "bfce482a",
||||||| 3477967
   "id": "f8ffa737",
=======
   "id": "2175fee5",
>>>>>>> 763a65aa00deab365d39bc26b2dcb2cc1410a666
   "metadata": {
    "lines_to_next_cell": 0
   },
   "source": [
    "Use more cores if available to speed this up."
   ]
  },
  {
   "cell_type": "code",
   "execution_count": null,
<<<<<<< HEAD
   "id": "004c3814",
||||||| 3477967
   "id": "a9237d5d",
=======
   "id": "78d886ab",
>>>>>>> 763a65aa00deab365d39bc26b2dcb2cc1410a666
   "metadata": {},
   "outputs": [],
   "source": [
    "system.time(\n",
    "    sfe <- runMoransI(sfe, colGraphName = \"knn5\", BPPARAM = MulticoreParam(2))\n",
    ")"
   ]
  },
  {
   "cell_type": "code",
   "execution_count": null,
<<<<<<< HEAD
   "id": "088c0671",
||||||| 3477967
   "id": "effc4520",
=======
   "id": "f98b23f6",
>>>>>>> 763a65aa00deab365d39bc26b2dcb2cc1410a666
   "metadata": {},
   "outputs": [],
   "source": [
    "rowData(sfe)$is_neg <- is_any_neg"
   ]
  },
  {
   "cell_type": "code",
   "execution_count": null,
<<<<<<< HEAD
   "id": "3f3e6bc5",
||||||| 3477967
   "id": "072374e1",
=======
   "id": "5bf159e3",
>>>>>>> 763a65aa00deab365d39bc26b2dcb2cc1410a666
   "metadata": {},
   "outputs": [],
   "source": [
    "plotRowData(sfe, x = \"moran_sample01\", y = \"is_neg\")"
   ]
  },
  {
   "cell_type": "markdown",
<<<<<<< HEAD
   "id": "42211d99",
||||||| 3477967
   "id": "4d91a309",
=======
   "id": "5cf69c0f",
>>>>>>> 763a65aa00deab365d39bc26b2dcb2cc1410a666
   "metadata": {
    "lines_to_next_cell": 0
   },
   "source": [
    "As expected, generally the negative controls are tightly clustered around 0, while the real genes have positive Moran's I, which means there is generally no technical artifact spatial trend. No significantly negative Moran's I is observed. Why is negative spatial autocorrelation so rare in gene expression?\n",
    "\n",
    "What are the two negative controls with a sizable Moran's I?"
   ]
  },
  {
   "cell_type": "code",
   "execution_count": null,
<<<<<<< HEAD
   "id": "deb21e39",
||||||| 3477967
   "id": "0d6e5e02",
=======
   "id": "dea1a50a",
>>>>>>> 763a65aa00deab365d39bc26b2dcb2cc1410a666
   "metadata": {
    "fig.height": 3,
    "fig.width": 9
   },
   "outputs": [],
   "source": [
    "ord <- order(rowData(sfe)$moran_sample01[is_any_neg], decreasing = TRUE)[1:2]\n",
    "top_neg <- rownames(sfe)[is_any_neg][ord]\n",
    "plotSpatialFeature(sfe, top_neg, colGeometryName = \"centroids\",\n",
    "                   scattermore = TRUE, pointsize = 1)"
   ]
  },
  {
   "cell_type": "markdown",
<<<<<<< HEAD
   "id": "0d9c5dfd",
||||||| 3477967
   "id": "51c041b2",
=======
   "id": "d684bef8",
>>>>>>> 763a65aa00deab365d39bc26b2dcb2cc1410a666
   "metadata": {
    "lines_to_next_cell": 0
   },
   "source": [
    "There is somewhat a spatial trend for that antisense probe, with more detected in the upper left. However, this might not significantly affect other results since there are at most 2 counts and at most about 1% of all counts in each cell. The negative control codeword has at most 1 count per cell and the cells with this negative control detected seem to be few and far between. \n",
    "\n",
    "These are the most detected negative controls, and the most detected one is also the one with the highest Moran's I among negative controls. However, the other negative control with higher Moran's I is not among the most detected."
   ]
  },
  {
   "cell_type": "code",
   "execution_count": null,
<<<<<<< HEAD
   "id": "f5851f17",
||||||| 3477967
   "id": "1c7c8c29",
=======
   "id": "ba55789c",
>>>>>>> 763a65aa00deab365d39bc26b2dcb2cc1410a666
   "metadata": {},
   "outputs": [],
   "source": [
    "head(sort(rowData(sfe)$means[is_any_neg], decreasing = TRUE), 15)"
   ]
  },
  {
   "cell_type": "markdown",
<<<<<<< HEAD
   "id": "8afc9d38",
||||||| 3477967
   "id": "1070bb54",
=======
   "id": "ecf74d26",
>>>>>>> 763a65aa00deab365d39bc26b2dcb2cc1410a666
   "metadata": {
    "lines_to_next_cell": 0
   },
   "source": [
    "What are the genes with the highest Moran's I?"
   ]
  },
  {
   "cell_type": "code",
   "execution_count": null,
<<<<<<< HEAD
   "id": "6014b3d7",
||||||| 3477967
   "id": "0973be87",
=======
   "id": "fb7279a6",
>>>>>>> 763a65aa00deab365d39bc26b2dcb2cc1410a666
   "metadata": {
    "fig.height": 9,
    "fig.width": 9
   },
   "outputs": [],
   "source": [
    "top_moran <- rownames(sfe)[order(rowData(sfe)$moran_sample01, decreasing = TRUE)[1:6]]\n",
    "plotSpatialFeature(sfe, top_moran, colGeometryName = \"centroids\",\n",
    "                   scattermore = TRUE, ncol = 2, pointsize = 0.5)"
   ]
  },
  {
   "cell_type": "markdown",
<<<<<<< HEAD
   "id": "da706d6a",
||||||| 3477967
   "id": "d51f1245",
=======
   "id": "808b0470",
>>>>>>> 763a65aa00deab365d39bc26b2dcb2cc1410a666
   "metadata": {
    "lines_to_next_cell": 0
   },
   "source": [
    "They all highlight the same histological regions, as in the [CosMX vignette](https://pachterlab.github.io/voyager/articles/vig4_cosmx.html#morans-i). How does Moran's I relate to gene expression level?"
   ]
  },
  {
   "cell_type": "code",
   "execution_count": null,
<<<<<<< HEAD
   "id": "e8658e16",
||||||| 3477967
   "id": "7c3d97c2",
=======
   "id": "c41c1998",
>>>>>>> 763a65aa00deab365d39bc26b2dcb2cc1410a666
   "metadata": {},
   "outputs": [],
   "source": [
    "plotRowData(sfe, x = \"means\", y = \"moran_sample01\")"
   ]
  },
  {
   "cell_type": "markdown",
<<<<<<< HEAD
   "id": "d4e6f382",
||||||| 3477967
   "id": "04d8d938",
=======
   "id": "8277d0e0",
>>>>>>> 763a65aa00deab365d39bc26b2dcb2cc1410a666
   "metadata": {
    "lines_to_next_cell": 0
   },
   "source": [
    "Very highly expressed genes have higher Moran's I, but there are some less expressed genes with higher Moran's I as well.\n",
    "\n",
    "# Non-spatial dimension reduction and clustering\n",
    "\n",
    "Here we run non-spatial PCA as for scRNA-seq data"
   ]
  },
  {
   "cell_type": "code",
   "execution_count": null,
<<<<<<< HEAD
   "id": "1e13022b",
||||||| 3477967
   "id": "30b032b0",
=======
   "id": "f122cd97",
>>>>>>> 763a65aa00deab365d39bc26b2dcb2cc1410a666
   "metadata": {},
   "outputs": [],
   "source": [
    "set.seed(29)\n",
    "sfe <- runPCA(sfe, ncomponents = 30, scale = TRUE, BSPARAM = IrlbaParam())"
   ]
  },
  {
   "cell_type": "code",
   "execution_count": null,
<<<<<<< HEAD
   "id": "8a478297",
||||||| 3477967
   "id": "0a4516e3",
=======
   "id": "7f684872",
>>>>>>> 763a65aa00deab365d39bc26b2dcb2cc1410a666
   "metadata": {},
   "outputs": [],
   "source": [
    "ElbowPlot(sfe, ndims = 30)"
   ]
  },
  {
   "cell_type": "code",
   "execution_count": null,
<<<<<<< HEAD
   "id": "6ec801b3",
||||||| 3477967
   "id": "ad4af7e5",
=======
   "id": "ac84e46b",
>>>>>>> 763a65aa00deab365d39bc26b2dcb2cc1410a666
   "metadata": {},
   "outputs": [],
   "source": [
    "plotDimLoadings(sfe, dims = 1:6)"
   ]
  },
  {
   "cell_type": "code",
   "execution_count": null,
<<<<<<< HEAD
   "id": "529a5377",
||||||| 3477967
   "id": "19b1e6bf",
=======
   "id": "226c3f2c",
>>>>>>> 763a65aa00deab365d39bc26b2dcb2cc1410a666
   "metadata": {
    "fig.height": 9,
    "fig.width": 9
   },
   "outputs": [],
   "source": [
    "spatialReducedDim(sfe, \"PCA\", 6, colGeometryName = \"centroids\", divergent = TRUE,\n",
    "                  diverge_center = 0, ncol = 2, scattermore = TRUE, pointsize = 0.5)"
   ]
  },
  {
   "cell_type": "markdown",
<<<<<<< HEAD
   "id": "ae749a4f",
||||||| 3477967
   "id": "2d0d7ba6",
=======
   "id": "e42cf310",
>>>>>>> 763a65aa00deab365d39bc26b2dcb2cc1410a666
   "metadata": {
    "lines_to_next_cell": 0
   },
   "source": [
    "While spatial region is not explicitly used, the PC's highlight spatial regions due to spatial autocorrelation in gene expression and histological regions with different cell types.\n",
    "\n",
    "Non-spatial clustering and locating the clusters in space"
   ]
  },
  {
   "cell_type": "code",
   "execution_count": null,
<<<<<<< HEAD
   "id": "68f1f4a0",
||||||| 3477967
   "id": "5cab3009",
=======
   "id": "5b7afea3",
>>>>>>> 763a65aa00deab365d39bc26b2dcb2cc1410a666
   "metadata": {},
   "outputs": [],
   "source": [
    "colData(sfe)$cluster <- clusterRows(reducedDim(sfe, \"PCA\")[,1:15],\n",
    "                                    BLUSPARAM = SNNGraphParam(\n",
    "                                        cluster.fun = \"leiden\",\n",
    "                                        cluster.args = list(\n",
    "                                            resolution_parameter = 0.5,\n",
    "                                            objective_function = \"modularity\")))"
   ]
  },
  {
   "cell_type": "markdown",
<<<<<<< HEAD
   "id": "fcc55e7d",
||||||| 3477967
   "id": "33f56e00",
=======
   "id": "801b36ec",
>>>>>>> 763a65aa00deab365d39bc26b2dcb2cc1410a666
   "metadata": {
    "lines_to_next_cell": 0
   },
   "source": [
    "Now the `scater` can also rasterize the plots with lots of points with the `rasterise` argument, but with a different mechanism from `scattermore` that requires more system dependencies. "
   ]
  },
  {
   "cell_type": "code",
   "execution_count": null,
<<<<<<< HEAD
   "id": "0b3df487",
||||||| 3477967
   "id": "b3137b68",
=======
   "id": "be365414",
>>>>>>> 763a65aa00deab365d39bc26b2dcb2cc1410a666
   "metadata": {
    "fig.height": 8,
    "fig.width": 8
   },
   "outputs": [],
   "source": [
    "plotPCA(sfe, ncomponents = 4, colour_by = \"cluster\", rasterise = FALSE)"
   ]
  },
  {
   "cell_type": "markdown",
<<<<<<< HEAD
   "id": "daba051a",
||||||| 3477967
   "id": "5bded1db",
=======
   "id": "0e902ebb",
>>>>>>> 763a65aa00deab365d39bc26b2dcb2cc1410a666
   "metadata": {
    "lines_to_next_cell": 0
   },
   "source": [
    "Plot the location of the clusters in space"
   ]
  },
  {
   "cell_type": "code",
   "execution_count": null,
<<<<<<< HEAD
   "id": "2773eea8",
||||||| 3477967
   "id": "fc074a27",
=======
   "id": "9206862c",
>>>>>>> 763a65aa00deab365d39bc26b2dcb2cc1410a666
   "metadata": {},
   "outputs": [],
   "source": [
    "plotSpatialFeature(sfe, \"cluster\", colGeometryName = \"cellSeg\")"
   ]
  },
  {
   "cell_type": "markdown",
<<<<<<< HEAD
   "id": "7de86660",
||||||| 3477967
   "id": "de5f03c2",
=======
   "id": "f8bcc9da",
>>>>>>> 763a65aa00deab365d39bc26b2dcb2cc1410a666
   "metadata": {
    "lines_to_next_cell": 0
   },
   "source": [
    "# Differential expression\n",
    "Cluster marker genes are found with Wilcoxon rank sum test as commonly done for scRNA-seq."
   ]
  },
  {
   "cell_type": "code",
   "execution_count": null,
<<<<<<< HEAD
   "id": "04bab92b",
||||||| 3477967
   "id": "2e8b6058",
=======
   "id": "da5c499a",
>>>>>>> 763a65aa00deab365d39bc26b2dcb2cc1410a666
   "metadata": {},
   "outputs": [],
   "source": [
    "markers <- findMarkers(sfe, groups = colData(sfe)$cluster,\n",
    "                       test.type = \"wilcox\", pval.type = \"all\", direction = \"up\")"
   ]
  },
  {
   "cell_type": "markdown",
<<<<<<< HEAD
   "id": "1a713cec",
||||||| 3477967
   "id": "84330b29",
=======
   "id": "b17eedb8",
>>>>>>> 763a65aa00deab365d39bc26b2dcb2cc1410a666
   "metadata": {
    "lines_to_next_cell": 0
   },
   "source": [
    "It's already sorted by p-values:"
   ]
  },
  {
   "cell_type": "code",
   "execution_count": null,
<<<<<<< HEAD
   "id": "33e9fd46",
||||||| 3477967
   "id": "3d32d4ae",
=======
   "id": "21ea73fa",
>>>>>>> 763a65aa00deab365d39bc26b2dcb2cc1410a666
   "metadata": {},
   "outputs": [],
   "source": [
    "markers[[6]]"
   ]
  },
  {
   "cell_type": "markdown",
<<<<<<< HEAD
   "id": "a722f0c8",
||||||| 3477967
   "id": "a2e75f8b",
=======
   "id": "2f6888cc",
>>>>>>> 763a65aa00deab365d39bc26b2dcb2cc1410a666
   "metadata": {
    "lines_to_next_cell": 0
   },
   "source": [
    "The code below extracts the significant markers for each cluster:"
   ]
  },
  {
   "cell_type": "code",
   "execution_count": null,
<<<<<<< HEAD
   "id": "8c5c875d",
||||||| 3477967
   "id": "43eee854",
=======
   "id": "657209ac",
>>>>>>> 763a65aa00deab365d39bc26b2dcb2cc1410a666
   "metadata": {},
   "outputs": [],
   "source": [
    "genes_use <- vapply(markers, function(x) rownames(x)[1], FUN.VALUE = character(1))\n",
    "plotExpression(sfe, genes_use, x = \"cluster\", point_fun = function(...) list())"
   ]
  },
  {
   "cell_type": "markdown",
<<<<<<< HEAD
   "id": "9f1e4783",
||||||| 3477967
   "id": "823b7360",
=======
   "id": "30d11eac",
>>>>>>> 763a65aa00deab365d39bc26b2dcb2cc1410a666
   "metadata": {
    "lines_to_next_cell": 0
   },
   "source": [
    "This allows for plotting more top marker genes in a heatmap:"
   ]
  },
  {
   "cell_type": "code",
   "execution_count": null,
<<<<<<< HEAD
   "id": "77845ca6",
||||||| 3477967
   "id": "14d982de",
=======
   "id": "e6bf4624",
>>>>>>> 763a65aa00deab365d39bc26b2dcb2cc1410a666
   "metadata": {
    "fig.height": 8,
    "fig.width": 6
   },
   "outputs": [],
   "source": [
    "genes_use2 <- unique(unlist(lapply(markers, function(x) rownames(x)[1:5])))\n",
    "plotGroupedHeatmap(sfe, genes_use2, group = \"cluster\", colour = scales::viridis_pal()(100))"
   ]
  },
  {
   "cell_type": "markdown",
<<<<<<< HEAD
   "id": "d5ab7bd9",
||||||| 3477967
   "id": "683747a2",
=======
   "id": "51fecaf4",
>>>>>>> 763a65aa00deab365d39bc26b2dcb2cc1410a666
   "metadata": {
    "lines_to_next_cell": 0
   },
   "source": [
    "# Local spatial statistics of marker genes\n",
    "\n",
    "First we plot those genes in space as a reference"
   ]
  },
  {
   "cell_type": "code",
   "execution_count": null,
<<<<<<< HEAD
   "id": "fe11e217",
||||||| 3477967
   "id": "5cdfce06",
=======
   "id": "3dd00481",
>>>>>>> 763a65aa00deab365d39bc26b2dcb2cc1410a666
   "metadata": {
    "fig.height": 9,
    "fig.width": 9
   },
   "outputs": [],
   "source": [
    "plotSpatialFeature(sfe, genes_use, colGeometryName = \"centroids\", ncol = 3,\n",
    "                   pointsize = 0.3, scattermore = TRUE)"
   ]
  },
  {
   "cell_type": "markdown",
<<<<<<< HEAD
   "id": "ca2b4242",
||||||| 3477967
   "id": "c9d0f96f",
=======
   "id": "152e2703",
>>>>>>> 763a65aa00deab365d39bc26b2dcb2cc1410a666
   "metadata": {},
   "source": [
    "Global Moran's I of these marker genes is shown below:"
   ]
  },
  {
   "cell_type": "code",
   "execution_count": null,
<<<<<<< HEAD
   "id": "dde94e99",
||||||| 3477967
   "id": "3acd6901",
=======
   "id": "0a3de6fc",
>>>>>>> 763a65aa00deab365d39bc26b2dcb2cc1410a666
   "metadata": {},
   "outputs": [],
   "source": [
    "setNames(rowData(sfe)[genes_use, \"moran_sample01\"], genes_use)"
   ]
  },
  {
   "cell_type": "markdown",
<<<<<<< HEAD
   "id": "d3c68cbd",
||||||| 3477967
   "id": "078a761a",
=======
   "id": "57506d6b",
>>>>>>> 763a65aa00deab365d39bc26b2dcb2cc1410a666
   "metadata": {
    "lines_to_next_cell": 0
   },
   "source": [
    "All these marker genes have positive spatial autocorrelation, but some stronger than others.\n",
    "\n",
    "Local Moran's I of these marker genes is shown below:"
   ]
  },
  {
   "cell_type": "code",
   "execution_count": null,
<<<<<<< HEAD
   "id": "ca19ed9e",
||||||| 3477967
   "id": "de483f99",
=======
   "id": "0673a7a0",
>>>>>>> 763a65aa00deab365d39bc26b2dcb2cc1410a666
   "metadata": {},
   "outputs": [],
   "source": [
    "sfe <- runUnivariate(sfe, \"localmoran\", features = genes_use, colGraphName = \"knn5\",\n",
    "                     BPPARAM = MulticoreParam(2))"
   ]
  },
  {
   "cell_type": "code",
   "execution_count": null,
<<<<<<< HEAD
   "id": "17cf639b",
||||||| 3477967
   "id": "75e7379a",
=======
   "id": "2f7a4bb9",
>>>>>>> 763a65aa00deab365d39bc26b2dcb2cc1410a666
   "metadata": {
    "fig.height": 9,
    "fig.width": 9
   },
   "outputs": [],
   "source": [
    "plotLocalResult(sfe, \"localmoran\", features = genes_use, \n",
    "                colGeometryName = \"centroids\", ncol = 3, divergent = TRUE,\n",
    "                diverge_center = 0, scattermore = TRUE, pointsize = 0.3)"
   ]
  },
  {
   "cell_type": "markdown",
<<<<<<< HEAD
   "id": "a7a0c566",
||||||| 3477967
   "id": "48ec92f6",
=======
   "id": "9c391823",
>>>>>>> 763a65aa00deab365d39bc26b2dcb2cc1410a666
   "metadata": {
    "lines_to_next_cell": 0
   },
   "source": [
    "It seems that some histological regions tend to be more spatially homogenous in gene expression than others. The epithelial region tends to be more homogenous. For some genes, regions with higher expression also have higher local Moran's I, such as FOXA1 and GATA3, while for some genes, this is not the case, such as FGL2 and LUM. \n",
    "\n",
    "Finally, we assess local spatial heteroscdasticity (LOSH) for these marker genes to find local heterogeneity:"
   ]
  },
  {
   "cell_type": "code",
   "execution_count": null,
<<<<<<< HEAD
   "id": "32307bcc",
||||||| 3477967
   "id": "9fd064cd",
=======
   "id": "88b1cb0e",
>>>>>>> 763a65aa00deab365d39bc26b2dcb2cc1410a666
   "metadata": {},
   "outputs": [],
   "source": [
    "sfe <- runUnivariate(sfe, \"LOSH\", features = genes_use, colGraphName = \"knn5\",\n",
    "                     BPPARAM = MulticoreParam(2))"
   ]
  },
  {
   "cell_type": "code",
   "execution_count": null,
<<<<<<< HEAD
   "id": "a97a122f",
||||||| 3477967
   "id": "6c47dec2",
=======
   "id": "c9a8f892",
>>>>>>> 763a65aa00deab365d39bc26b2dcb2cc1410a666
   "metadata": {
    "fig.height": 9,
    "fig.width": 9
   },
   "outputs": [],
   "source": [
    "plotLocalResult(sfe, \"LOSH\", features = genes_use, \n",
    "                colGeometryName = \"centroids\", ncol = 3, scattermore = TRUE, \n",
    "                pointsize = 0.3)"
   ]
  },
  {
   "cell_type": "markdown",
<<<<<<< HEAD
   "id": "af373073",
||||||| 3477967
   "id": "a58307e8",
=======
   "id": "9b6bb0b6",
>>>>>>> 763a65aa00deab365d39bc26b2dcb2cc1410a666
   "metadata": {
    "lines_to_next_cell": 0
   },
   "source": [
    "Again, just like in the [CosMX dataset](https://pachterlab.github.io/voyager/articles/vig4_cosmx.html#local-spatial-statistics-of-marker-genes), LOSH is higher where the gene is more highly expressed in some (e.g. CD3E, LUM, TENT5C) but not all cases (e.g. FOXA1, GATA3). This may be due to spatial distribution of different cell types.\n",
    "\n",
    "# Session info"
   ]
  },
  {
   "cell_type": "code",
   "execution_count": null,
<<<<<<< HEAD
   "id": "cbe912a0",
||||||| 3477967
   "id": "03e20bc4",
=======
   "id": "0cfe7162",
>>>>>>> 763a65aa00deab365d39bc26b2dcb2cc1410a666
   "metadata": {},
   "outputs": [],
   "source": [
    "sessionInfo()"
   ]
  },
  {
   "cell_type": "markdown",
<<<<<<< HEAD
   "id": "e3438a8f",
||||||| 3477967
   "id": "37828b60",
=======
   "id": "1f37d5ea",
>>>>>>> 763a65aa00deab365d39bc26b2dcb2cc1410a666
   "metadata": {},
   "source": [
    "# References"
   ]
  }
 ],
 "metadata": {
  "kernelspec": {
   "display_name": "R",
   "language": "R",
   "name": "ir"
  }
 },
 "nbformat": 4,
 "nbformat_minor": 5
}
