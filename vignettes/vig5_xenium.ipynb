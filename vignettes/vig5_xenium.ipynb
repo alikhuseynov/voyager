{
 "cells": [
  {
   "cell_type": "raw",
   "id": "fb521474",
   "metadata": {},
   "source": [
    "---\n",
    "title: \"Xenium breast cancer dataset\"\n",
    "author: \"Lambda Moses\"\n",
    "date: \"`r Sys.Date()`\"\n",
    "output: \n",
    "  html_document:\n",
    "  toc: true\n",
    "  toc_float:\n",
    "    collapsed: false\n",
    "  toc_depth: 3\n",
    "bibliography: ref.bib\n",
    "vignette: >\n",
    "  %\\VignetteIndexEntry{xenium}\n",
    "  %\\VignetteEngine{knitr::rmarkdown}\n",
    "  %\\VignetteEncoding{UTF-8}\n",
    "---"
   ]
  },
  {
   "cell_type": "code",
   "execution_count": null,
   "id": "ff28d0cf",
   "metadata": {
    "tags": [
     "remove_cell"
    ]
   },
   "outputs": [],
   "source": [
    "knitr::opts_chunk$set(\n",
    "  collapse = TRUE,\n",
    "  comment = \"#>\", fig.align = \"center\"\n",
    ")"
   ]
  },
  {
   "cell_type": "code",
   "execution_count": null,
   "id": "406f1902",
   "metadata": {
    "eval": false,
    "tags": [
     "remove_cell"
    ]
   },
   "outputs": [],
   "source": [
    "# Install Google Colab dependencies\n",
    "# Note: this can take 30+ minutes (many of the dependencies include C++ code, which needs to be compiled)\n",
    "\n",
    "# First install `sf`, `ragg` and `textshaping` and their system dependencies:\n",
    "system(\"apt-get -y update && apt-get install -y  libudunits2-dev libgdal-dev libgeos-dev libproj-dev libharfbuzz-dev libfribidi-dev\")\n",
    "install.packages(\"sf\")\n",
    "install.packages(\"textshaping\")\n",
    "install.packages(\"ragg\")\n",
    "\n",
    "# Install system dependencies of some other R packages that Voyager either imports or suggests:\n",
    "system(\"apt-get install -y libfribidi-dev libcairo2-dev libmagick++-dev\")\n",
    "\n",
    "# Install Voyager from Bioconductor:\n",
    "install.packages(\"BiocManager\")\n",
    "BiocManager::install(version = \"3.16\", ask = FALSE, update = FALSE, Ncpus = 2)\n",
    "BiocManager::install(\"scater\")\n",
    "system.time(\n",
    "  BiocManager::install(\"Voyager\", dependencies = TRUE, Ncpus = 2, update = FALSE)\n",
    ")\n",
    "\n",
    "packageVersion(\"Voyager\")"
   ]
  },
  {
   "cell_type": "markdown",
   "id": "ecf87822",
   "metadata": {},
   "source": [
    "# Introduction\n",
    "\n",
    "Xenium is a new technology from 10X genomics for single cell resolution smFISH based spatial transcriptomics. The first Xenium dataset is for formalin fixed paraffin embedded (FFPE) human breast tumor, reported in [@Janesick2022-rp] and downloaded from the [10X website](https://www.10xgenomics.com/products/xenium-in-situ/preview-dataset-human-breast).\n",
    "\n",
    "The gene count matrix was downloaded as an HDF5 file and read into R as a `SingleCellExperiment` (SCE) object with `DropletUtils::read10xCounts()`. The gene count matrix is originally a `DelayedArray`, so the data is not all loaded into memory. For now, the matrix has been converted into an in memory `dgCMatrix`. However, for the next release, we would like to write another vignette on on disk analyses. The challenge is representing `sf` data frames on disk, perhaps with [`sedona`](https://github.com/apache/incubator-sedona) and [`SQLDataFrame`](https://bioconductor.org/packages/release/bioc/html/SQLDataFrame.html).\n",
    "\n",
    "The cell metadata (including centroid coordinates) and cell segmentation polygons were downloaded as `parquet` files, a more compact way to store columnar data than CSV, and read into R as data frames with `arrow::read_parquet()`. The cell polygons were converted into `sf` data frame with `SpatialFeatureExperiment::df2sf()`. Then the SCE object was converted into `SpatialFeatureExperiment` (SFE) and the polygon geometry was added to the SFE object, which is in the `SFEData` package.\n",
    "\n",
    "Here we load the packages used in this vignette."
   ]
  },
  {
   "cell_type": "code",
   "execution_count": null,
   "id": "4ec30db0",
   "metadata": {
    "name": "setup"
   },
   "outputs": [],
   "source": [
    "library(Voyager)\n",
    "library(SFEData) # Pushed fix to Bioc but changes may take a while to show up\n",
    "library(SingleCellExperiment)\n",
    "library(SpatialExperiment)\n",
    "library(SpatialFeatureExperiment)\n",
    "library(ggplot2)\n",
    "library(stringr)\n",
    "library(scater) # devel version of plotExpression\n",
    "library(scuttle)\n",
    "library(BiocParallel)\n",
    "library(BiocSingular)\n",
    "library(bluster)\n",
    "library(scran)\n",
    "library(patchwork)\n",
    "theme_set(theme_void())"
   ]
  },
  {
   "cell_type": "code",
   "execution_count": null,
   "id": "14d2cc8c",
   "metadata": {},
   "outputs": [],
   "source": [
    "# Fixed version this function may not immediately show up on Bioconductor\n",
    "# Use remotes::install_github(\"pachterlab/SFEData\") if Bioc version doesn't work\n",
    "(sfe <- JanesickBreastData(dataset = \"rep2\"))"
   ]
  },
  {
   "cell_type": "markdown",
   "id": "2ac4c9a8",
   "metadata": {
    "lines_to_next_cell": 0
   },
   "source": [
    "There are 118708 cells in this dataset, a little more than in the CosMX dataset.\n",
    "\n",
    "The SFE object doesn't have column names (i.e. cell IDs). Here we assign cell IDs."
   ]
  },
  {
   "cell_type": "code",
   "execution_count": null,
   "id": "5f2fd52b",
   "metadata": {},
   "outputs": [],
   "source": [
    "colnames(sfe) <- seq_len(ncol(sfe))"
   ]
  },
  {
   "cell_type": "markdown",
   "id": "2bd0b2fd",
   "metadata": {},
   "source": [
    "This is what the tissue, with the cell outlines, looks like"
   ]
  },
  {
   "cell_type": "code",
   "execution_count": null,
   "id": "053a0cfb",
   "metadata": {},
   "outputs": [],
   "source": [
    "ggplot(cellSeg(sfe)) + geom_sf() +\n",
    "    theme_bw() +\n",
    "    scale_x_continuous(expand = expansion()) +\n",
    "    scale_y_continuous(expand = expansion())"
   ]
  },
  {
   "cell_type": "markdown",
   "id": "704a81b8",
   "metadata": {
    "lines_to_next_cell": 0
   },
   "source": [
    "Plot cell density in space"
   ]
  },
  {
   "cell_type": "code",
   "execution_count": null,
   "id": "941570bb",
   "metadata": {},
   "outputs": [],
   "source": [
    "plotCellBin2D(sfe) + theme_bw()"
   ]
  },
  {
   "cell_type": "markdown",
   "id": "a8bab9ad",
   "metadata": {},
   "source": [
    "# Quality control\n",
    "## Cells\n",
    "Some QC metrics are precomputed and are stored in `colData`"
   ]
  },
  {
   "cell_type": "code",
   "execution_count": null,
   "id": "d333343b",
   "metadata": {},
   "outputs": [],
   "source": [
    "names(colData(sfe))"
   ]
  },
  {
   "cell_type": "markdown",
   "id": "b047feef",
   "metadata": {},
   "source": [
    "Since there're more cells, it would be better to plot the tissue larger, so we'll plot the histogram of QC metrics and the spatial plots separately, unlike in the CosMx vignette."
   ]
  },
  {
   "cell_type": "code",
   "execution_count": null,
   "id": "cd02b6d2",
   "metadata": {},
   "outputs": [],
   "source": [
    "n_panel <- 313\n",
    "colData(sfe)$nCounts_normed <- sfe$nCounts/n_panel\n",
    "colData(sfe)$nGenes_normed <- sfe$nGenes/n_panel"
   ]
  },
  {
   "cell_type": "markdown",
   "id": "5e596cd2",
   "metadata": {},
   "source": [
    "Here we divided nCounts by the total number of genes probed, so this histogram is comparable to those from other smFISH-based datasets. "
   ]
  },
  {
   "cell_type": "code",
   "execution_count": null,
   "id": "94f536fb",
   "metadata": {},
   "outputs": [],
   "source": [
    "plotColDataHistogram(sfe, c(\"nCounts_normed\", \"nGenes_normed\")) + theme_bw()"
   ]
  },
  {
   "cell_type": "markdown",
   "id": "38c48ef6",
   "metadata": {},
   "source": [
    "Compared to the [FFPE CosMX non-small cell lung cancer dataset](https://pachterlab.github.io/voyager/articles/vig4_cosmx.html#cells), more transcripts per gene on average and a larger proportion of all genes are detected in this dataset, which is also FFPE. However, this should be interpreted with care, since these two datasets are from different tissues and have different gene panels, so this may or may not indicate that Xenium has better detection efficiency than CosMX."
   ]
  },
  {
   "cell_type": "code",
   "execution_count": null,
   "id": "00a0fbb9",
   "metadata": {},
   "outputs": [],
   "source": [
    "plotSpatialFeature(sfe, \"nCounts\", colGeometryName = \"cellSeg\")"
   ]
  },
  {
   "cell_type": "markdown",
   "id": "f0d7c808",
   "metadata": {},
   "source": [
    "There seem to be FOV artifacts. However, the cell ID and FOV information were unavailable so we cannot examine them. "
   ]
  },
  {
   "cell_type": "code",
   "execution_count": null,
   "id": "3de06777",
   "metadata": {},
   "outputs": [],
   "source": [
    "plotSpatialFeature(sfe, \"nGenes\", colGeometryName = \"cellSeg\")"
   ]
  },
  {
   "cell_type": "markdown",
   "id": "50a8269d",
   "metadata": {
    "lines_to_next_cell": 0
   },
   "source": [
    "A standard examination is to look at the relationship between nCounts and nGenes:"
   ]
  },
  {
   "cell_type": "code",
   "execution_count": null,
   "id": "daddf138",
   "metadata": {},
   "outputs": [],
   "source": [
    "plotColDataBin2D(sfe, \"nCounts\", \"nGenes\") + theme_bw()"
   ]
  },
  {
   "cell_type": "markdown",
   "id": "546943fe",
   "metadata": {
    "lines_to_next_cell": 0
   },
   "source": [
    "There appear to be two branches. \n",
    "\n",
    "Here we plot the distribution of cell area"
   ]
  },
  {
   "cell_type": "code",
   "execution_count": null,
   "id": "11ff0728",
   "metadata": {},
   "outputs": [],
   "source": [
    "plotColDataHistogram(sfe, c(\"cell_area\", \"nucleus_area\"), scales = \"free_y\") +\n",
    "    theme_bw()"
   ]
  },
  {
   "cell_type": "markdown",
   "id": "0ebc0896",
   "metadata": {
    "lines_to_next_cell": 0
   },
   "source": [
    "That should be in pixels. There's a very long tail. The nuclei are much smaller than the cells.\n",
    "\n",
    "How is cell area distributed in space?"
   ]
  },
  {
   "cell_type": "code",
   "execution_count": null,
   "id": "d2183304",
   "metadata": {},
   "outputs": [],
   "source": [
    "plotSpatialFeature(sfe, \"cell_area\", colGeometryName = \"cellSeg\")"
   ]
  },
  {
   "cell_type": "markdown",
   "id": "92023a6e",
   "metadata": {
    "lines_to_next_cell": 0
   },
   "source": [
    "Cells in the sparse region tend to be larger than those in the dense region. This may be biological or an artifact of the cell segmentation algorithm or both.\n",
    "\n",
    "Here the nuclei segmentations are plotted instead of cell segmentation. The nuclei are much smaller to the extent that they are difficult to see."
   ]
  },
  {
   "cell_type": "code",
   "execution_count": null,
   "id": "e89d0faf",
   "metadata": {},
   "outputs": [],
   "source": [
    "plotSpatialFeature(sfe, \"nucleus_area\", colGeometryName = \"nucSeg\")"
   ]
  },
  {
   "cell_type": "markdown",
   "id": "3c497cbb",
   "metadata": {
    "lines_to_next_cell": 0
   },
   "source": [
    "There's an outlier near the right edge of the section, throwing off the dynamic range of the plot. Upon inspection of the H&E image, the outlier is a bit of tissue debris that doesn't look like a cell. But we can still that cells in the dense, gland like regions tend to have larger nuclei. This may be biological, or that nuclei are so densely packed in those regions that they are more likely to be undersegmented, i.e. when multiple nuclei are counted as one by the nuclei segmentation program, or both.\n",
    "\n",
    "These observations motivate an examination of the relationship between cell area and nuclei area:"
   ]
  },
  {
   "cell_type": "code",
   "execution_count": null,
   "id": "84750e13",
   "metadata": {},
   "outputs": [],
   "source": [
    "plotColDataBin2D(sfe, \"cell_area\", \"nucleus_area\") + theme_bw() +\n",
    "    scale_fill_viridis_c()"
   ]
  },
  {
   "cell_type": "markdown",
   "id": "b7d47195",
   "metadata": {},
   "source": [
    "Again, there are two branches, probably related to cell density and cell type. The nucleus outlier also has large cell area, though it is not as much an outlier in cell area. However, it is a spatial outlier as it's unusually large compared to its neighbors (scroll up two plots back). \n",
    "\n",
    "Next we calculate the proportion of cell in this z-plane taken up by the nucleus, and examine the distribution:"
   ]
  },
  {
   "cell_type": "code",
   "execution_count": null,
   "id": "030bdb20",
   "metadata": {},
   "outputs": [],
   "source": [
    "colData(sfe)$prop_nuc <- sfe$nucleus_area / sfe$cell_area"
   ]
  },
  {
   "cell_type": "code",
   "execution_count": null,
   "id": "7a4040cb",
   "metadata": {},
   "outputs": [],
   "source": [
    "plotColDataHistogram(sfe, \"prop_nuc\") + theme_bw()"
   ]
  },
  {
   "cell_type": "markdown",
   "id": "f90c30fb",
   "metadata": {
    "lines_to_next_cell": 0
   },
   "source": [
    "This distribution could have been generated from two peaks that were combined. From the histogram, there do not seem to be cells without nuclei or segmentation artifacts where the nucleus is larger than the cell. However, there are so many cells in this dataset and it is possible that just a few cells would not be visible on this histogram. We double check:"
   ]
  },
  {
   "cell_type": "code",
   "execution_count": null,
   "id": "f6dac9db",
   "metadata": {},
   "outputs": [],
   "source": [
    "# No nucleus\n",
    "sum(sfe$nucleus_area < 1)\n",
    "# Nucleus larger than cell\n",
    "sum(sfe$nucleus_area > sfe$cell_area)"
   ]
  },
  {
   "cell_type": "markdown",
   "id": "28fb7fbc",
   "metadata": {
    "lines_to_next_cell": 0
   },
   "source": [
    "So there are no cells without nuclei or nuclei larger than their cells. Here we plot the nuclei proportion in space:"
   ]
  },
  {
   "cell_type": "code",
   "execution_count": null,
   "id": "fbd5887a",
   "metadata": {},
   "outputs": [],
   "source": [
    "plotSpatialFeature(sfe, \"prop_nuc\", colGeometryName = \"cellSeg\")"
   ]
  },
  {
   "cell_type": "markdown",
   "id": "ae806896",
   "metadata": {
    "lines_to_next_cell": 0
   },
   "source": [
    "Cells in some histological regions have larger proportions occupied by the nuclei. It is interesting to check, controlling for cell type, how cell area, nucleus area, and the proportion of cell occupied by nucleus relate to gene expression. However, a problem in performing such an analysis is that cell segmentation is only available for one z-plane here and these areas also relate to where this z-plane intersects each cell. \n",
    "\n",
    "Below we plot a 2D histogram to better show the density of points on this plot:"
   ]
  },
  {
   "cell_type": "code",
   "execution_count": null,
   "id": "d61b4e65",
   "metadata": {},
   "outputs": [],
   "source": [
    "plotColDataBin2D(sfe, \"cell_area\", \"prop_nuc\") + theme_bw() +\n",
    "    scale_fill_viridis_c()"
   ]
  },
  {
   "cell_type": "markdown",
   "id": "7ec9ce2d",
   "metadata": {
    "lines_to_next_cell": 0
   },
   "source": [
    "Smaller cells tend to have higher proportion occupied by the nucleus. This can be related to cell type, or it could be a limitation in how small the nuclei can be in this tissue.\n",
    "\n",
    "We also examine the relationship between nucleus area and the proportion of cell occupied by the nucleus:"
   ]
  },
  {
   "cell_type": "code",
   "execution_count": null,
   "id": "718848c4",
   "metadata": {},
   "outputs": [],
   "source": [
    "plotColDataBin2D(sfe, \"nucleus_area\", \"prop_nuc\") + theme_bw() +\n",
    "    scale_fill_viridis_c()"
   ]
  },
  {
   "cell_type": "markdown",
   "id": "3355f0f8",
   "metadata": {
    "lines_to_next_cell": 0
   },
   "source": [
    "The outlier is obvious. There are more cells with both small nuclei and low proportion of area occupied by the nucleus.\n",
    "\n",
    "## Negative controls\n",
    "Since there are only a few hundred genes plus negative control probes, all row names of the SFE object can be printed out to find what the negative control probes are called."
   ]
  },
  {
   "cell_type": "code",
   "execution_count": null,
   "id": "dd7ef045",
   "metadata": {},
   "outputs": [],
   "source": [
    "rownames(sfe)"
   ]
  },
  {
   "cell_type": "markdown",
   "id": "f945ed48",
   "metadata": {},
   "source": [
    "According to the Xenium paper [@Janesick2022-rp], there are 3 types of controls:\n",
    "\n",
    "> 1) probe controls to assess non-specific binding to RNA, \n",
    "2) decoding controls to assess misassigned genes, and \n",
    "3) genomic DNA (gDNA) controls to ensure the signal is from RNA.\n",
    "\n",
    "The paper does not explain in detail how those control probes were designed, nor explain what the blank probes are. But the blank probes can be used as a negative control."
   ]
  },
  {
   "cell_type": "code",
   "execution_count": null,
   "id": "0269ba62",
   "metadata": {},
   "outputs": [],
   "source": [
    "is_blank <- str_detect(rownames(sfe), \"^BLANK_\")\n",
    "sum(is_blank)"
   ]
  },
  {
   "cell_type": "markdown",
   "id": "f584c993",
   "metadata": {
    "lines_to_next_cell": 0
   },
   "source": [
    "This should be number 1, the probe control"
   ]
  },
  {
   "cell_type": "code",
   "execution_count": null,
   "id": "3696c05e",
   "metadata": {},
   "outputs": [],
   "source": [
    "is_neg <- str_detect(rownames(sfe), \"^NegControlProbe\")\n",
    "sum(is_neg)"
   ]
  },
  {
   "cell_type": "markdown",
   "id": "9f8b62e9",
   "metadata": {
    "lines_to_next_cell": 0
   },
   "source": [
    "This should be number 2, the decoding control"
   ]
  },
  {
   "cell_type": "code",
   "execution_count": null,
   "id": "5a676c36",
   "metadata": {},
   "outputs": [],
   "source": [
    "is_neg2 <- str_detect(rownames(sfe), \"^NegControlCodeword\")\n",
    "sum(is_neg2)"
   ]
  },
  {
   "cell_type": "markdown",
   "id": "75ddec2e",
   "metadata": {
    "lines_to_next_cell": 0
   },
   "source": [
    "This must be number 3, gDNA control"
   ]
  },
  {
   "cell_type": "code",
   "execution_count": null,
   "id": "924de59b",
   "metadata": {},
   "outputs": [],
   "source": [
    "is_anti <- str_detect(rownames(sfe), \"^antisense\")\n",
    "sum(is_anti)"
   ]
  },
  {
   "cell_type": "markdown",
   "id": "0780611c",
   "metadata": {
    "lines_to_next_cell": 0
   },
   "source": [
    "Also make an indicator of whether a feature is any sort of negative control"
   ]
  },
  {
   "cell_type": "code",
   "execution_count": null,
   "id": "45f70d50",
   "metadata": {},
   "outputs": [],
   "source": [
    "is_any_neg <- is_blank | is_neg | is_neg2 | is_anti"
   ]
  },
  {
   "cell_type": "markdown",
   "id": "e65ec11d",
   "metadata": {
    "lines_to_next_cell": 0
   },
   "source": [
    "The `addPerCellQCMetrics()` function in the `scuttle` package can conveniently add transcript counts, proportion of total counts, and number of features detected for any subset of features to the SCE object. Here we do this for the SFE object, as SFE inherits from SCE. "
   ]
  },
  {
   "cell_type": "code",
   "execution_count": null,
   "id": "aefb125e",
   "metadata": {},
   "outputs": [],
   "source": [
    "sfe <- addPerCellQCMetrics(sfe, subsets = list(blank = is_blank,\n",
    "                                               negProbe = is_neg,\n",
    "                                               negCodeword = is_neg2,\n",
    "                                               anti = is_anti,\n",
    "                                               any_neg = is_any_neg))"
   ]
  },
  {
   "cell_type": "code",
   "execution_count": null,
   "id": "6ee15d12",
   "metadata": {},
   "outputs": [],
   "source": [
    "names(colData(sfe))"
   ]
  },
  {
   "cell_type": "markdown",
   "id": "bfdc6b40",
   "metadata": {},
   "source": [
    "Next we plot the proportion of transcript counts coming from any negative control. "
   ]
  },
  {
   "cell_type": "code",
   "execution_count": null,
   "id": "4cb2b410",
   "metadata": {},
   "outputs": [],
   "source": [
    "cols_use <- names(colData(sfe))[str_detect(names(colData(sfe)), \"_percent$\")]\n",
    "plotColDataHistogram(sfe, cols_use, bins = 100, ncol = 3) + theme_bw()"
   ]
  },
  {
   "cell_type": "markdown",
   "id": "a8982dd4",
   "metadata": {
    "lines_to_next_cell": 0
   },
   "source": [
    "The histogram is dominated by the bin at zero and there are some extreme outliers too few to be seen but evident from the scale of the x axis. We also plot the histogram only for cells with at least 1 count from a negative control. The NA's come from cells that got segmented but have no transcripts detected."
   ]
  },
  {
   "cell_type": "code",
   "execution_count": null,
   "id": "30a4b70d",
   "metadata": {},
   "outputs": [],
   "source": [
    "plotColDataHistogram(sfe, cols_use, bins = 100, ncol = 3) + \n",
    "    scale_x_log10() +\n",
    "    annotation_logticks(sides = \"b\") +\n",
    "    theme_bw()"
   ]
  },
  {
   "cell_type": "markdown",
   "id": "3fc3bff1",
   "metadata": {
    "lines_to_next_cell": 0
   },
   "source": [
    "The vast majority of these cells have less than 1% of transcript counts from negative controls, but there are outliers with up to 50%. \n",
    "\n",
    "Next we plot the distribution of the number of negative control counts per cell:"
   ]
  },
  {
   "cell_type": "code",
   "execution_count": null,
   "id": "06f2cfe3",
   "metadata": {},
   "outputs": [],
   "source": [
    "cols_use2 <- names(colData(sfe))[str_detect(names(colData(sfe)), \"_detected$\")]\n",
    "plotColDataHistogram(sfe, cols_use2, bins = 20, ncol = 3) +\n",
    "    # Avoid decimal breaks on x axis unless there're too few breaks\n",
    "    scale_x_continuous(breaks = scales::breaks_extended(Q = c(1,2,5))) +\n",
    "    theme_bw()"
   ]
  },
  {
   "cell_type": "markdown",
   "id": "ae4738bd",
   "metadata": {},
   "source": [
    "The counts are low, mostly zero, but there are outliers with up to 10 counts of all types aggregated. Then the outlier with 50% of counts from negative controls must have very low total real transcript counts to begin with.\n",
    "\n",
    "The `scuttle` package can detect outliers, but by default it assigns anything above zero as an outlier, since that is over 3 median absolute deviations (MADs) away from the median, which is 0, and the MAD is 0 since the vast majority of cells don't have any negative control count. But it makes sense to allow a small proportion of negative controls. Here we use the distribution just for cells with at least 1 negative control count to find outliers. This distribution has a very long tail and some definite outliers.\n",
    "\n",
    "The code below extracts the outliers, based only on cells with at least one negative control count"
   ]
  },
  {
   "cell_type": "code",
   "execution_count": null,
   "id": "36273b85",
   "metadata": {},
   "outputs": [],
   "source": [
    "get_neg_ctrl_outliers <- function(col, sfe) {\n",
    "    inds <- colData(sfe)$nCounts > 0 & colData(sfe)[[col]] > 0\n",
    "    df <- colData(sfe)[inds,]\n",
    "    outlier_inds <- isOutlier(df[[col]], type = \"higher\")\n",
    "    outliers <- rownames(df)[outlier_inds]\n",
    "    col2 <- str_remove(col, \"^subsets_\")\n",
    "    col2 <- str_remove(col2, \"_percent$\")\n",
    "    new_colname <- paste(\"is\", col2, \"outlier\", sep = \"_\")\n",
    "    colData(sfe)[[new_colname]] <- colnames(sfe) %in% outliers\n",
    "    sfe\n",
    "}"
   ]
  },
  {
   "cell_type": "code",
   "execution_count": null,
   "id": "e1cc4b81",
   "metadata": {},
   "outputs": [],
   "source": [
    "cols_use <- names(colData(sfe))[str_detect(names(colData(sfe)), \"_percent$\")]\n",
    "for (n in cols_use) {\n",
    "    sfe <- get_neg_ctrl_outliers(n, sfe)\n",
    "}"
   ]
  },
  {
   "cell_type": "code",
   "execution_count": null,
   "id": "1e8b7974",
   "metadata": {},
   "outputs": [],
   "source": [
    "names(colData(sfe))"
   ]
  },
  {
   "cell_type": "markdown",
   "id": "03a0b2de",
   "metadata": {
    "lines_to_next_cell": 0
   },
   "source": [
    "Below we examine where the outliers are located in space:"
   ]
  },
  {
   "cell_type": "code",
   "execution_count": null,
   "id": "2becb04c",
   "metadata": {},
   "outputs": [],
   "source": [
    "plotSpatialFeature(sfe, \"is_blank_outlier\", colGeometryName = \"cellSeg\")"
   ]
  },
  {
   "cell_type": "markdown",
   "id": "6a023157",
   "metadata": {
    "lines_to_next_cell": 0
   },
   "source": [
    "We find that the outliers are difficult to see:"
   ]
  },
  {
   "cell_type": "code",
   "execution_count": null,
   "id": "6887340f",
   "metadata": {},
   "outputs": [],
   "source": [
    "plotColData(sfe, y = \"is_blank_outlier\", x = \"cell_area\", \n",
    "            # to not to plot points, only in devel version of scater\n",
    "            point_fun = function(...) list()) "
   ]
  },
  {
   "cell_type": "markdown",
   "id": "40a3d5e1",
   "metadata": {
    "lines_to_next_cell": 0
   },
   "source": [
    "The analysis reveals that the outliers seem to be smaller. Outliers for negative probe controls and negative codeword controls are also hard to see on the plot, so their plots are skipped here. But the top left region in the tissue tends to have more counts from antisense controls. "
   ]
  },
  {
   "cell_type": "code",
   "execution_count": null,
   "id": "c43da0ba",
   "metadata": {},
   "outputs": [],
   "source": [
    "plotSpatialFeature(sfe, \"is_anti_outlier\", colGeometryName = \"cellSeg\")"
   ]
  },
  {
   "cell_type": "markdown",
   "id": "b6533a7b",
   "metadata": {},
   "source": [
    "Now that we have identified the outliers, we can remove them along with empty cells before proceeding to further analysis:"
   ]
  },
  {
   "cell_type": "code",
   "execution_count": null,
   "id": "cea23a27",
   "metadata": {},
   "outputs": [],
   "source": [
    "inds_keep <- sfe$nCounts > 0 & sfe$nucleus_area < 400 & !sfe$is_anti_outlier &\n",
    "    !sfe$is_blank_outlier & !sfe$is_negCodeword_outlier & !sfe$is_negProbe_outlier\n",
    "(sfe <- sfe[,inds_keep])"
   ]
  },
  {
   "cell_type": "markdown",
   "id": "3e5ab2eb",
   "metadata": {
    "lines_to_next_cell": 0
   },
   "source": [
    "Over 1000 cells were removed. \n",
    "\n",
    "Next we check how many negative control features are detected per cell:"
   ]
  },
  {
   "cell_type": "code",
   "execution_count": null,
   "id": "e32d08be",
   "metadata": {},
   "outputs": [],
   "source": [
    "plotColDataHistogram(sfe, cols_use2, bins = 20, ncol = 3) +\n",
    "    # Avoid decimal breaks on x axis unless there're too few breaks\n",
    "    scale_x_continuous(breaks = scales::breaks_extended(3, Q = c(1,2,5))) +\n",
    "    theme_bw()"
   ]
  },
  {
   "cell_type": "markdown",
   "id": "a65c6001",
   "metadata": {
    "lines_to_next_cell": 0
   },
   "source": [
    "There are at most 3 counts per cell per type. For the non-outliers, each type is at most around 1%, so this data looks good. \n",
    "\n",
    "## Genes\n",
    "Here we look at the mean and variance of each gene"
   ]
  },
  {
   "cell_type": "code",
   "execution_count": null,
   "id": "0931f944",
   "metadata": {},
   "outputs": [],
   "source": [
    "rowData(sfe)$means <- rowMeans(counts(sfe))\n",
    "rowData(sfe)$vars <- rowVars(counts(sfe))"
   ]
  },
  {
   "cell_type": "markdown",
   "id": "324b3329",
   "metadata": {
    "lines_to_next_cell": 0
   },
   "source": [
    "Real genes generally have higher mean expression across cells than negative controls."
   ]
  },
  {
   "cell_type": "code",
   "execution_count": null,
   "id": "4b699473",
   "metadata": {},
   "outputs": [],
   "source": [
    "rowData(sfe)$is_neg <- is_any_neg\n",
    "plotRowData(sfe, x = \"means\", y = \"is_neg\") +\n",
    "    scale_y_log10() +\n",
    "    annotation_logticks(sides = \"b\")"
   ]
  },
  {
   "cell_type": "markdown",
   "id": "2e0f9bb2",
   "metadata": {
    "lines_to_next_cell": 0
   },
   "source": [
    "Here the real genes and negative controls are plotted in different colors"
   ]
  },
  {
   "cell_type": "code",
   "execution_count": null,
   "id": "7710369a",
   "metadata": {},
   "outputs": [],
   "source": [
    "plotRowDataBin2D(sfe, \"means\", \"vars\", subset = \"is_neg\", \n",
    "                 name_true = \"Counts (negative controls)\", \n",
    "                 name_false = \"Counts (real genes)\", bins = 50) +\n",
    "    geom_abline(slope = 1, intercept = 0, color = \"red\") +\n",
    "    scale_x_log10() + scale_y_log10() +\n",
    "    annotation_logticks() +\n",
    "    coord_equal() +\n",
    "    theme_bw()"
   ]
  },
  {
   "cell_type": "markdown",
   "id": "31746a7f",
   "metadata": {},
   "source": [
    "The red line $y = x$ is expected if the data follows a Poisson distribution. Negative controls and real genes form mostly separate clusters. Negative controls stick close to the line, while real genes are overdispersed. Unlike in the [CosMX dataset](https://pachterlab.github.io/voyager/articles/vig4_cosmx.html#genes), the negative controls don't seem overdispersed.\n",
    "\n",
    "# Spatial autocorrelation of QC metrics\n",
    "\n",
    "There's a sparse and a dense region. This poses the question of what type of neighborhood graph to use, e.g. it is conceivable that cells in the sparse region should just be singletons. Furthermore, it is unclear what the length scale of their influence might be. It might depend on the cell type and how contact and secreted signals are used in the cell type, and length scale of the influence. If k nearest neighbors are used, then the neighbors in the dense region are much closer together than those in the sparse region. If distance based neighbors are used, then cells in the dense region will have more neighbors than cells in the sparse region, and the sparse region can break into multiple compartments if the distance cutoff is not long enough. \n",
    "\n",
    "For the purpose of demonstration, we use k nearest neighbors with $k = 5$, with inverse distance weighting. Note that using more neighbors leads to longer computation time of spatial autocorrelation metrics."
   ]
  },
  {
   "cell_type": "code",
   "execution_count": null,
   "id": "e9619353",
   "metadata": {},
   "outputs": [],
   "source": [
    "system.time(\n",
    "    colGraph(sfe, \"knn5\") <- findSpatialNeighbors(sfe, method = \"knearneigh\", \n",
    "                                                  dist_type = \"idw\", k = 5, \n",
    "                                                  style = \"W\")\n",
    ")"
   ]
  },
  {
   "cell_type": "code",
   "execution_count": null,
   "id": "1e1457e2",
   "metadata": {},
   "outputs": [],
   "source": [
    "sfe <- colDataMoransI(sfe, c(\"nCounts\", \"nGenes\", \"cell_area\", \"nucleus_area\"),\n",
    "                      colGraphName = \"knn5\")"
   ]
  },
  {
   "cell_type": "code",
   "execution_count": null,
   "id": "e39b62df",
   "metadata": {},
   "outputs": [],
   "source": [
    "colFeatureData(sfe)[c(\"nCounts\", \"nGenes\", \"cell_area\", \"nucleus_area\"),]"
   ]
  },
  {
   "cell_type": "markdown",
   "id": "752d868c",
   "metadata": {},
   "source": [
    "Global Moran's I indicatse positive spatial autocorrelation. As the strength of spatial autocorrelation can vary spatially, we also run local Moran's I."
   ]
  },
  {
   "cell_type": "code",
   "execution_count": null,
   "id": "30186690",
   "metadata": {},
   "outputs": [],
   "source": [
    "sfe <- colDataUnivariate(sfe, type = \"localmoran\", \n",
    "                         features = c(\"nCounts\", \"nGenes\", \"cell_area\", \n",
    "                                      \"nucleus_area\"),\n",
    "                         colGraphName = \"knn5\", BPPARAM = MulticoreParam(2))"
   ]
  },
  {
   "cell_type": "markdown",
   "id": "b635608b",
   "metadata": {
    "lines_to_next_cell": 0
   },
   "source": [
    "The `pointsize` argument adjusts the point size in `scattermore`. The default is 0, meaning single pixels, but since the cells in the sparse region are hard to see that way, we increase `pointsize`. We would still plot the polygons in larger single panel plots, but use `scattermore` in multi-panel plots where the polygons in each panel are invisible anyway due to the small size to save some time."
   ]
  },
  {
   "cell_type": "code",
   "execution_count": null,
   "id": "55cace51",
   "metadata": {
    "fig.height": 6,
    "fig.width": 9
   },
   "outputs": [],
   "source": [
    "plotLocalResult(sfe, \"localmoran\",\n",
    "                features = c(\"nCounts\", \"nGenes\", \"cell_area\", \"nucleus_area\"),\n",
    "                colGeometryName = \"centroids\", scattermore = TRUE,\n",
    "                divergent = TRUE, diverge_center = 0, pointsize = 1)"
   ]
  },
  {
   "cell_type": "markdown",
   "id": "6867e7ad",
   "metadata": {
    "lines_to_next_cell": 0
   },
   "source": [
    "Interestingly, nCounts is more homogeneous in the interior of the dense region, while nGenes is more homogeneous by the edge of the dense region. As expected, cell area is more homogeneous in the sparse region. However, the nucleus area is more homogeneous in the interior of the dense region. \n",
    "\n",
    "Moran plot for nCounts"
   ]
  },
  {
   "cell_type": "code",
   "execution_count": null,
   "id": "5d0e0426",
   "metadata": {},
   "outputs": [],
   "source": [
    "sfe <- colDataUnivariate(sfe, \"moran.plot\", \"nCounts\", colGraphName = \"knn5\")"
   ]
  },
  {
   "cell_type": "code",
   "execution_count": null,
   "id": "4d00fb7b",
   "metadata": {
    "fig.height": 7,
    "fig.width": 8
   },
   "outputs": [],
   "source": [
    "p1 <- moranPlot(sfe, \"nCounts\", binned = TRUE, plot_influential = FALSE) \n",
    "p2 <- moranPlot(sfe, \"nCounts\", binned = TRUE)\n",
    "p1 / p2 + plot_layout(guides = \"collect\") & theme_bw()"
   ]
  },
  {
   "cell_type": "markdown",
   "id": "457599aa",
   "metadata": {},
   "source": [
    "There are no obvious clusters here. In the lower panel, the 2D histogram of influential points is plotted in red.\n",
    "\n",
    "# Moran's I\n",
    "\n",
    "By default, for gene expression, the log normalized counts are used in spatial autocorrelation metrics, so before running Moran's I, we normalize the data."
   ]
  },
  {
   "cell_type": "code",
   "execution_count": null,
   "id": "1fdd6073",
   "metadata": {},
   "outputs": [],
   "source": [
    "sfe <- logNormCounts(sfe)"
   ]
  },
  {
   "cell_type": "markdown",
   "id": "91f5b973",
   "metadata": {
    "lines_to_next_cell": 0
   },
   "source": [
    "Use more cores if available to speed this up."
   ]
  },
  {
   "cell_type": "code",
   "execution_count": null,
   "id": "75e58cdd",
   "metadata": {},
   "outputs": [],
   "source": [
    "system.time(\n",
    "    sfe <- runMoransI(sfe, colGraphName = \"knn5\", BPPARAM = MulticoreParam(2))\n",
    ")"
   ]
  },
  {
   "cell_type": "code",
   "execution_count": null,
   "id": "9308bc4d",
   "metadata": {},
   "outputs": [],
   "source": [
    "rowData(sfe)$is_neg <- is_any_neg"
   ]
  },
  {
   "cell_type": "code",
   "execution_count": null,
   "id": "99fe1019",
   "metadata": {},
   "outputs": [],
   "source": [
    "plotRowData(sfe, x = \"moran_sample01\", y = \"is_neg\")"
   ]
  },
  {
   "cell_type": "markdown",
   "id": "c5565230",
   "metadata": {
    "lines_to_next_cell": 0
   },
   "source": [
    "As expected, generally the negative controls are tightly clustered around 0, while the real genes have positive Moran's I, which means there is generally no technical artifact spatial trend. No significantly negative Moran's I is observed. Why is negative spatial autocorrelation so rare in gene expression?\n",
    "\n",
    "What are the two negative controls with a sizable Moran's I?"
   ]
  },
  {
   "cell_type": "code",
   "execution_count": null,
   "id": "546e3344",
   "metadata": {
    "fig.height": 3,
    "fig.width": 9
   },
   "outputs": [],
   "source": [
    "ord <- order(rowData(sfe)$moran_sample01[is_any_neg], decreasing = TRUE)[1:2]\n",
    "top_neg <- rownames(sfe)[is_any_neg][ord]\n",
    "plotSpatialFeature(sfe, top_neg, colGeometryName = \"centroids\",\n",
    "                   scattermore = TRUE, pointsize = 1)"
   ]
  },
  {
   "cell_type": "markdown",
   "id": "d0ec37c2",
   "metadata": {
    "lines_to_next_cell": 0
   },
   "source": [
    "There is somewhat a spatial trend for that antisense probe, with more detected in the upper left. However, this might not significantly affect other results since there are at most 2 counts and at most about 1% of all counts in each cell. The negative control codeword has at most 1 count per cell and the cells with this negative control detected seem to be few and far between. \n",
    "\n",
    "These are the most detected negative controls, and the most detected one is also the one with the highest Moran's I among negative controls. However, the other negative control with higher Moran's I is not among the most detected."
   ]
  },
  {
   "cell_type": "code",
   "execution_count": null,
   "id": "c5cf58d7",
   "metadata": {},
   "outputs": [],
   "source": [
    "head(sort(rowData(sfe)$means[is_any_neg], decreasing = TRUE), 15)"
   ]
  },
  {
   "cell_type": "markdown",
   "id": "abae30cd",
   "metadata": {
    "lines_to_next_cell": 0
   },
   "source": [
    "What are the genes with the highest Moran's I?"
   ]
  },
  {
   "cell_type": "code",
   "execution_count": null,
   "id": "424d4ce9",
   "metadata": {
    "fig.height": 9,
    "fig.width": 9
   },
   "outputs": [],
   "source": [
    "top_moran <- rownames(sfe)[order(rowData(sfe)$moran_sample01, decreasing = TRUE)[1:6]]\n",
    "plotSpatialFeature(sfe, top_moran, colGeometryName = \"centroids\",\n",
    "                   scattermore = TRUE, ncol = 2, pointsize = 0.5)"
   ]
  },
  {
   "cell_type": "markdown",
   "id": "1066e078",
   "metadata": {
    "lines_to_next_cell": 0
   },
   "source": [
    "They all highlight the same histological regions, as in the [CosMX vignette](https://pachterlab.github.io/voyager/articles/vig4_cosmx.html#morans-i). How does Moran's I relate to gene expression level?"
   ]
  },
  {
   "cell_type": "code",
   "execution_count": null,
   "id": "4cdeba26",
   "metadata": {},
   "outputs": [],
   "source": [
    "plotRowData(sfe, x = \"means\", y = \"moran_sample01\")"
   ]
  },
  {
   "cell_type": "markdown",
   "id": "ad0a85b0",
   "metadata": {
    "lines_to_next_cell": 0
   },
   "source": [
    "Very highly expressed genes have higher Moran's I, but there are some less expressed genes with higher Moran's I as well.\n",
    "\n",
    "# Non-spatial dimension reduction and clustering\n",
    "\n",
    "Here we run non-spatial PCA as for scRNA-seq data"
   ]
  },
  {
   "cell_type": "code",
   "execution_count": null,
   "id": "e87ee31c",
   "metadata": {},
   "outputs": [],
   "source": [
    "set.seed(29)\n",
    "sfe <- runPCA(sfe, ncomponents = 30, scale = TRUE, BSPARAM = IrlbaParam())"
   ]
  },
  {
   "cell_type": "code",
   "execution_count": null,
   "id": "ebc5bea1",
   "metadata": {},
   "outputs": [],
   "source": [
    "ElbowPlot(sfe, ndims = 30) + theme_bw()"
   ]
  },
  {
   "cell_type": "code",
   "execution_count": null,
   "id": "5513a44d",
   "metadata": {},
   "outputs": [],
   "source": [
    "plotDimLoadings(sfe, dims = 1:6) + theme_bw()"
   ]
  },
  {
   "cell_type": "code",
   "execution_count": null,
   "id": "8818ae3f",
   "metadata": {
    "fig.height": 9,
    "fig.width": 9
   },
   "outputs": [],
   "source": [
    "spatialReducedDim(sfe, \"PCA\", 6, colGeometryName = \"centroids\", divergent = TRUE,\n",
    "                  diverge_center = 0, ncol = 2, scattermore = TRUE, pointsize = 0.5)"
   ]
  },
  {
   "cell_type": "markdown",
   "id": "9968c22e",
   "metadata": {},
   "source": [
    "While spatial region is not explicitly used, the PC's highlight spatial regions due to spatial autocorrelation in gene expression and histological regions with different cell types."
   ]
  },
  {
   "cell_type": "code",
   "execution_count": null,
   "id": "2ea6cd22",
   "metadata": {},
   "outputs": [],
   "source": [
    "set.seed(29)\n",
    "sfe <- runUMAP(sfe, dimred = \"PCA\", n_dimred = 15)"
   ]
  },
  {
   "cell_type": "markdown",
   "id": "13552755",
   "metadata": {
    "lines_to_next_cell": 0
   },
   "source": [
    "Non-spatial clustering and locating the clusters in space"
   ]
  },
  {
   "cell_type": "code",
   "execution_count": null,
   "id": "77d3b884",
   "metadata": {},
   "outputs": [],
   "source": [
    "colData(sfe)$cluster <- clusterRows(reducedDim(sfe, \"PCA\")[,1:15],\n",
    "                                    BLUSPARAM = SNNGraphParam(\n",
    "                                        cluster.fun = \"leiden\",\n",
    "                                        cluster.args = list(\n",
    "                                            resolution_parameter = 0.5,\n",
    "                                            objective_function = \"modularity\")))"
   ]
  },
  {
   "cell_type": "markdown",
   "id": "a3ad9406",
   "metadata": {
    "lines_to_next_cell": 0
   },
   "source": [
    "Now the `scater` can also rasterize the plots with lots of points with the `rasterise` argument, but with a different mechanism from `scattermore` that requires more system dependencies. "
   ]
  },
  {
   "cell_type": "code",
   "execution_count": null,
   "id": "e278982f",
   "metadata": {
    "fig.height": 8,
    "fig.width": 8
   },
   "outputs": [],
   "source": [
    "plotPCA(sfe, ncomponents = 4, colour_by = \"cluster\", rasterise = FALSE)"
   ]
  },
  {
   "cell_type": "code",
   "execution_count": null,
   "id": "6d1d98bc",
   "metadata": {},
   "outputs": [],
   "source": [
    "plotUMAP(sfe, colour_by = \"cluster\", rasterise = FALSE)"
   ]
  },
  {
   "cell_type": "markdown",
   "id": "0f12567a",
   "metadata": {
    "lines_to_next_cell": 0
   },
   "source": [
    "Plot the location of the clusters in space"
   ]
  },
  {
   "cell_type": "code",
   "execution_count": null,
   "id": "69d0564b",
   "metadata": {},
   "outputs": [],
   "source": [
    "plotSpatialFeature(sfe, \"cluster\", colGeometryName = \"cellSeg\")"
   ]
  },
  {
   "cell_type": "markdown",
   "id": "da1c2843",
   "metadata": {
    "lines_to_next_cell": 0
   },
   "source": [
    "# Differential expression\n",
    "Cluster marker genes are found with Wilcoxon rank sum test as commonly done for scRNA-seq."
   ]
  },
  {
   "cell_type": "code",
   "execution_count": null,
   "id": "d79d0a4c",
   "metadata": {},
   "outputs": [],
   "source": [
    "markers <- findMarkers(sfe, groups = colData(sfe)$cluster,\n",
    "                       test.type = \"wilcox\", pval.type = \"all\", direction = \"up\")"
   ]
  },
  {
   "cell_type": "markdown",
   "id": "da690658",
   "metadata": {
    "lines_to_next_cell": 0
   },
   "source": [
    "It's already sorted by p-values:"
   ]
  },
  {
   "cell_type": "code",
   "execution_count": null,
   "id": "c96dca2e",
   "metadata": {},
   "outputs": [],
   "source": [
    "markers[[6]]"
   ]
  },
  {
   "cell_type": "markdown",
   "id": "205abc20",
   "metadata": {
    "lines_to_next_cell": 0
   },
   "source": [
    "The code below extracts the significant markers for each cluster:"
   ]
  },
  {
   "cell_type": "code",
   "execution_count": null,
   "id": "8c7b8bc2",
   "metadata": {},
   "outputs": [],
   "source": [
    "genes_use <- vapply(markers, function(x) rownames(x)[1], FUN.VALUE = character(1))\n",
    "plotExpression(sfe, genes_use, x = \"cluster\", point_fun = function(...) list())"
   ]
  },
  {
   "cell_type": "markdown",
   "id": "d98f3253",
   "metadata": {
    "lines_to_next_cell": 0
   },
   "source": [
    "This allows for plotting more top marker genes in a heatmap:"
   ]
  },
  {
   "cell_type": "code",
   "execution_count": null,
   "id": "8ee1f632",
   "metadata": {
    "fig.height": 8,
    "fig.width": 6
   },
   "outputs": [],
   "source": [
    "genes_use2 <- unique(unlist(lapply(markers, function(x) rownames(x)[1:5])))\n",
    "plotGroupedHeatmap(sfe, genes_use2, group = \"cluster\", colour = scales::viridis_pal()(100))"
   ]
  },
  {
   "cell_type": "markdown",
   "id": "60f8432c",
   "metadata": {
    "lines_to_next_cell": 0
   },
   "source": [
    "# Local spatial statistics of marker genes\n",
    "\n",
    "First we plot those genes in space as a reference"
   ]
  },
  {
   "cell_type": "code",
   "execution_count": null,
   "id": "52dd5820",
   "metadata": {
    "fig.height": 9,
    "fig.width": 9
   },
   "outputs": [],
   "source": [
    "plotSpatialFeature(sfe, genes_use, colGeometryName = \"centroids\", ncol = 3,\n",
    "                   pointsize = 0.3, scattermore = TRUE)"
   ]
  },
  {
   "cell_type": "markdown",
   "id": "4baa3616",
   "metadata": {},
   "source": [
    "Global Moran's I of these marker genes is shown below:"
   ]
  },
  {
   "cell_type": "code",
   "execution_count": null,
   "id": "84b7dca0",
   "metadata": {},
   "outputs": [],
   "source": [
    "setNames(rowData(sfe)[genes_use, \"moran_sample01\"], genes_use)"
   ]
  },
  {
   "cell_type": "markdown",
   "id": "1a62cd90",
   "metadata": {
    "lines_to_next_cell": 0
   },
   "source": [
    "All these marker genes have positive spatial autocorrelation, but some stronger than others.\n",
    "\n",
    "Local Moran's I of these marker genes is shown below:"
   ]
  },
  {
   "cell_type": "code",
   "execution_count": null,
   "id": "a5175198",
   "metadata": {},
   "outputs": [],
   "source": [
    "sfe <- runUnivariate(sfe, \"localmoran\", features = genes_use, colGraphName = \"knn5\",\n",
    "                     BPPARAM = MulticoreParam(2))"
   ]
  },
  {
   "cell_type": "code",
   "execution_count": null,
   "id": "14babdaa",
   "metadata": {
    "fig.height": 9,
    "fig.width": 9
   },
   "outputs": [],
   "source": [
    "plotLocalResult(sfe, type = \"localmoran\", features = genes_use, \n",
    "                colGeometryName = \"centroids\", ncol = 3, divergent = TRUE,\n",
    "                diverge_center = 0, scattermore = TRUE, pointsize = 0.3)"
   ]
  },
  {
   "cell_type": "markdown",
   "id": "adde2677",
   "metadata": {
    "lines_to_next_cell": 0
   },
   "source": [
    "It seems that some histological regions tend to be more spatially homogenous in gene expression than others. The epithelial region tends to be more homogenous. For some genes, regions with higher expression also have higher local Moran's I, such as FOXA1 and GATA3, while for some genes, this is not the case, such as FGL2 and LUM. \n",
    "\n",
    "Finally, we assess local spatial heteroscdasticity (LOSH) for these marker genes to find local heterogeneity:"
   ]
  },
  {
   "cell_type": "code",
   "execution_count": null,
   "id": "1ae1c69d",
   "metadata": {},
   "outputs": [],
   "source": [
    "sfe <- runUnivariate(sfe, \"LOSH\", features = genes_use, colGraphName = \"knn5\",\n",
    "                     BPPARAM = MulticoreParam(2))"
   ]
  },
  {
   "cell_type": "code",
   "execution_count": null,
   "id": "cd12b792",
   "metadata": {
    "fig.height": 9,
    "fig.width": 9
   },
   "outputs": [],
   "source": [
    "plotLocalResult(sfe, type = \"LOSH\", features = genes_use, \n",
    "                colGeometryName = \"centroids\", ncol = 3, scattermore = TRUE, \n",
    "                pointsize = 0.3)"
   ]
  },
  {
   "cell_type": "markdown",
   "id": "9f0848ce",
   "metadata": {
    "lines_to_next_cell": 0
   },
   "source": [
    "Again, just like in the [CosMX dataset](https://pachterlab.github.io/voyager/articles/vig4_cosmx.html#local-spatial-statistics-of-marker-genes), LOSH is higher where the gene is more highly expressed in some (e.g. CD3E, LUM, TENT5C) but not all cases (e.g. FOXA1, GATA3). This may be due to spatial distribution of different cell types.\n",
    "\n",
    "# Session info"
   ]
  },
  {
   "cell_type": "code",
   "execution_count": null,
   "id": "b23632a2",
   "metadata": {},
   "outputs": [],
   "source": [
    "sessionInfo()"
   ]
  },
  {
   "cell_type": "markdown",
   "id": "d0b9fb01",
   "metadata": {},
   "source": [
    "# References"
   ]
  }
 ],
 "metadata": {
  "kernelspec": {
   "display_name": "R",
   "language": "R",
   "name": "ir"
  }
 },
 "nbformat": 4,
 "nbformat_minor": 5
}
