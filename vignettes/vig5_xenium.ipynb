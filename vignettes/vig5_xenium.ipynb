{
 "cells": [
  {
   "cell_type": "raw",
<<<<<<< HEAD
<<<<<<< HEAD
   "id": "807e920f",
||||||| 00f6fb22
   "id": "3fcd3908",
=======
   "id": "990f9d17",
>>>>>>> documentation-devel
||||||| d828f8eb
   "id": "807e920f",
=======
   "id": "2b5f3e70",
>>>>>>> 6c25d2f1afd31725c9595ab9d8922b9d3c838629
   "metadata": {},
   "source": [
    "---\n",
    "title: \"Xenium breast cancer dataset\"\n",
    "author: \"Lambda Moses\"\n",
    "date: \"`r Sys.Date()`\"\n",
    "output: \n",
    "  html_document:\n",
    "  toc: true\n",
    "  toc_float:\n",
    "    collapsed: false\n",
    "  toc_depth: 3\n",
    "bibliography: ref.bib\n",
    "vignette: >\n",
    "  %\\VignetteIndexEntry{xenium}\n",
    "  %\\VignetteEngine{knitr::rmarkdown}\n",
    "  %\\VignetteEncoding{UTF-8}\n",
    "---"
   ]
  },
  {
   "cell_type": "code",
   "execution_count": null,
<<<<<<< HEAD
<<<<<<< HEAD
   "id": "155cdb50",
||||||| 00f6fb22
   "id": "72dc76d6",
=======
   "id": "58e2c86e",
>>>>>>> documentation-devel
||||||| d828f8eb
   "id": "155cdb50",
=======
   "id": "0ece07b9",
>>>>>>> 6c25d2f1afd31725c9595ab9d8922b9d3c838629
   "metadata": {
    "tags": [
     "remove_cell"
    ]
   },
   "outputs": [],
   "source": [
    "knitr::opts_chunk$set(\n",
    "  collapse = TRUE,\n",
    "  comment = \"#>\", fig.align = \"center\"\n",
    ")"
   ]
  },
  {
   "cell_type": "code",
   "execution_count": null,
<<<<<<< HEAD
<<<<<<< HEAD
   "id": "108395fd",
||||||| 00f6fb22
   "id": "50988302",
=======
   "id": "66d8a65d",
>>>>>>> documentation-devel
||||||| d828f8eb
   "id": "108395fd",
=======
   "id": "b1b0557e",
>>>>>>> 6c25d2f1afd31725c9595ab9d8922b9d3c838629
   "metadata": {
    "eval": false,
    "tags": [
     "remove_cell"
    ]
   },
   "outputs": [],
   "source": [
    "# Install Google Colab dependencies\n",
    "# Note: this can take 30+ minutes (many of the dependencies include C++ code, which needs to be compiled)\n",
    "\n",
    "# First install `sf`, `ragg` and `textshaping` and their system dependencies:\n",
    "system(\"apt-get -y update && apt-get install -y  libudunits2-dev libgdal-dev libgeos-dev libproj-dev libharfbuzz-dev libfribidi-dev\")\n",
    "install.packages(\"sf\")\n",
    "install.packages(\"textshaping\")\n",
    "install.packages(\"ragg\")\n",
    "\n",
    "# Install system dependencies of some other R packages that Voyager either imports or suggests:\n",
    "system(\"apt-get install -y libfribidi-dev libcairo2-dev libmagick++-dev\")\n",
    "\n",
    "# Install Voyager from Bioconductor:\n",
    "install.packages(\"BiocManager\")\n",
    "BiocManager::install(version = \"3.17\", ask = FALSE, update = FALSE, Ncpus = 2)\n",
    "BiocManager::install(\"scater\")\n",
    "system.time(\n",
    "  BiocManager::install(\"Voyager\", dependencies = TRUE, Ncpus = 2, update = FALSE)\n",
    ")\n",
    "\n",
    "packageVersion(\"Voyager\")"
   ]
  },
  {
   "cell_type": "markdown",
<<<<<<< HEAD
<<<<<<< HEAD
   "id": "1bc9a992",
||||||| 00f6fb22
   "id": "e60bf718",
=======
   "id": "08c62853",
>>>>>>> documentation-devel
||||||| d828f8eb
   "id": "1bc9a992",
=======
   "id": "711ec94d",
>>>>>>> 6c25d2f1afd31725c9595ab9d8922b9d3c838629
   "metadata": {},
   "source": [
    "# Introduction\n",
    "\n",
    "Xenium is a new technology from 10X genomics for single cell resolution smFISH based spatial transcriptomics. The first Xenium dataset is for formalin fixed paraffin embedded (FFPE) human breast tumor, reported in [@Janesick2022-rp] and downloaded from the [10X website](https://www.10xgenomics.com/products/xenium-in-situ/preview-dataset-human-breast).\n",
    "\n",
    "The gene count matrix was downloaded as an HDF5 file and read into R as a `SingleCellExperiment` (SCE) object with `DropletUtils::read10xCounts()`. The gene count matrix is originally a `DelayedArray`, so the data is not all loaded into memory. For now, the matrix has been converted into an in memory `dgCMatrix`. However, for the next release, we would like to write another vignette on on disk analyses. The challenge is representing `sf` data frames on disk, perhaps with [`sedona`](https://github.com/apache/incubator-sedona) and [`SQLDataFrame`](https://bioconductor.org/packages/release/bioc/html/SQLDataFrame.html).\n",
    "\n",
    "The cell metadata (including centroid coordinates) and cell segmentation polygons were downloaded as `parquet` files, a more compact way to store columnar data than CSV, and read into R as data frames with `arrow::read_parquet()`. The cell polygons were converted into `sf` data frame with `SpatialFeatureExperiment::df2sf()`. Then the SCE object was converted into `SpatialFeatureExperiment` (SFE) and the polygon geometry was added to the SFE object, which is in the `SFEData` package.\n",
    "\n",
    "Here we load the packages used in this vignette."
   ]
  },
  {
   "cell_type": "code",
   "execution_count": null,
<<<<<<< HEAD
<<<<<<< HEAD
   "id": "93c54ee5",
||||||| 00f6fb22
   "id": "217cbe9a",
=======
   "id": "11a83695",
>>>>>>> documentation-devel
||||||| d828f8eb
   "id": "93c54ee5",
=======
   "id": "77770170",
>>>>>>> 6c25d2f1afd31725c9595ab9d8922b9d3c838629
   "metadata": {
    "message": false,
    "name": "setup"
   },
   "outputs": [],
   "source": [
    "library(Voyager)\n",
    "library(SFEData) \n",
    "library(SingleCellExperiment)\n",
    "library(SpatialExperiment)\n",
    "library(SpatialFeatureExperiment)\n",
    "library(ggplot2)\n",
    "library(stringr)\n",
    "library(scater) \n",
    "library(scuttle)\n",
    "library(BiocParallel)\n",
    "library(BiocSingular)\n",
    "library(bluster)\n",
    "library(scran)\n",
    "library(patchwork)\n",
    "theme_set(theme_bw())"
   ]
  },
  {
   "cell_type": "code",
   "execution_count": null,
<<<<<<< HEAD
<<<<<<< HEAD
   "id": "b85e19f0",
||||||| 00f6fb22
   "id": "1d724888",
=======
   "id": "1f1772af",
>>>>>>> documentation-devel
||||||| d828f8eb
   "id": "b85e19f0",
=======
   "id": "b316efff",
>>>>>>> 6c25d2f1afd31725c9595ab9d8922b9d3c838629
   "metadata": {},
   "outputs": [],
   "source": [
    "(sfe <- JanesickBreastData(dataset = \"rep2\"))"
   ]
  },
  {
   "cell_type": "markdown",
<<<<<<< HEAD
<<<<<<< HEAD
   "id": "56a2a076",
||||||| 00f6fb22
   "id": "6afdab30",
=======
   "id": "450308ef",
>>>>>>> documentation-devel
||||||| d828f8eb
   "id": "56a2a076",
=======
   "id": "1a24fd3b",
>>>>>>> 6c25d2f1afd31725c9595ab9d8922b9d3c838629
   "metadata": {
    "lines_to_next_cell": 0
   },
   "source": [
    "There are 118708 cells in this dataset, a little more than in the CosMX dataset.\n",
    "\n",
    "The SFE object doesn't have column names (i.e. cell IDs). Here we assign cell IDs."
   ]
  },
  {
   "cell_type": "code",
   "execution_count": null,
<<<<<<< HEAD
<<<<<<< HEAD
   "id": "a4ef3d6a",
||||||| 00f6fb22
   "id": "65fce049",
=======
   "id": "0138c33d",
>>>>>>> documentation-devel
||||||| d828f8eb
   "id": "a4ef3d6a",
=======
   "id": "8d2bbce7",
>>>>>>> 6c25d2f1afd31725c9595ab9d8922b9d3c838629
   "metadata": {},
   "outputs": [],
   "source": [
    "colnames(sfe) <- seq_len(ncol(sfe))"
   ]
  },
  {
   "cell_type": "markdown",
<<<<<<< HEAD
<<<<<<< HEAD
   "id": "2c98e023",
||||||| 00f6fb22
   "id": "4b4330ea",
=======
   "id": "a53569fe",
>>>>>>> documentation-devel
||||||| d828f8eb
   "id": "2c98e023",
=======
   "id": "e6014214",
>>>>>>> 6c25d2f1afd31725c9595ab9d8922b9d3c838629
   "metadata": {},
   "source": [
    "This is what the tissue, with the cell outlines, looks like"
   ]
  },
  {
   "cell_type": "code",
   "execution_count": null,
<<<<<<< HEAD
<<<<<<< HEAD
   "id": "2d90a037",
||||||| 00f6fb22
   "id": "42288140",
=======
   "id": "3a01d4ec",
>>>>>>> documentation-devel
||||||| d828f8eb
   "id": "2d90a037",
=======
   "id": "bcb87741",
>>>>>>> 6c25d2f1afd31725c9595ab9d8922b9d3c838629
   "metadata": {},
   "outputs": [],
   "source": [
    "plotGeometry(sfe, \"cellSeg\")"
   ]
  },
  {
   "cell_type": "markdown",
<<<<<<< HEAD
<<<<<<< HEAD
   "id": "eaf7e849",
||||||| 00f6fb22
   "id": "68ec6dab",
=======
   "id": "8a5ea328",
>>>>>>> documentation-devel
||||||| d828f8eb
   "id": "eaf7e849",
=======
   "id": "5df7e5d6",
>>>>>>> 6c25d2f1afd31725c9595ab9d8922b9d3c838629
   "metadata": {
    "lines_to_next_cell": 0
   },
   "source": [
    "Plot cell density in space"
   ]
  },
  {
   "cell_type": "code",
   "execution_count": null,
<<<<<<< HEAD
<<<<<<< HEAD
   "id": "3881131d",
||||||| 00f6fb22
   "id": "a80e9ee3",
=======
   "id": "afe7eff6",
>>>>>>> documentation-devel
||||||| d828f8eb
   "id": "3881131d",
=======
   "id": "46264d27",
>>>>>>> 6c25d2f1afd31725c9595ab9d8922b9d3c838629
   "metadata": {},
   "outputs": [],
   "source": [
    "plotCellBin2D(sfe, hex = TRUE)"
   ]
  },
  {
   "cell_type": "markdown",
<<<<<<< HEAD
<<<<<<< HEAD
   "id": "a3c6f14d",
||||||| 00f6fb22
   "id": "af323e25",
=======
   "id": "1e8e28d9",
>>>>>>> documentation-devel
||||||| d828f8eb
   "id": "a3c6f14d",
=======
   "id": "31f5f3ba",
>>>>>>> 6c25d2f1afd31725c9595ab9d8922b9d3c838629
   "metadata": {},
   "source": [
    "# Quality control\n",
    "## Cells\n",
    "Some QC metrics are precomputed and are stored in `colData`"
   ]
  },
  {
   "cell_type": "code",
   "execution_count": null,
<<<<<<< HEAD
<<<<<<< HEAD
   "id": "afc5c562",
||||||| 00f6fb22
   "id": "72cc2e79",
=======
   "id": "740b8f1f",
>>>>>>> documentation-devel
||||||| d828f8eb
   "id": "afc5c562",
=======
   "id": "c0aa5e52",
>>>>>>> 6c25d2f1afd31725c9595ab9d8922b9d3c838629
   "metadata": {},
   "outputs": [],
   "source": [
    "names(colData(sfe))"
   ]
  },
  {
   "cell_type": "markdown",
<<<<<<< HEAD
<<<<<<< HEAD
   "id": "8b0dfaec",
||||||| 00f6fb22
   "id": "78a3ae55",
=======
   "id": "934ab7e6",
>>>>>>> documentation-devel
||||||| d828f8eb
   "id": "8b0dfaec",
=======
   "id": "dfc65b9e",
>>>>>>> 6c25d2f1afd31725c9595ab9d8922b9d3c838629
   "metadata": {},
   "source": [
    "Since there're more cells, it would be better to plot the tissue larger, so we'll plot the histogram of QC metrics and the spatial plots separately, unlike in the CosMx vignette."
   ]
  },
  {
   "cell_type": "code",
   "execution_count": null,
<<<<<<< HEAD
<<<<<<< HEAD
   "id": "fa1c7311",
||||||| 00f6fb22
   "id": "b2127f17",
=======
   "id": "1fb0e64c",
>>>>>>> documentation-devel
||||||| d828f8eb
   "id": "fa1c7311",
=======
   "id": "eec75a0d",
>>>>>>> 6c25d2f1afd31725c9595ab9d8922b9d3c838629
   "metadata": {},
   "outputs": [],
   "source": [
    "n_panel <- 313\n",
    "colData(sfe)$nCounts_normed <- sfe$nCounts/n_panel\n",
    "colData(sfe)$nGenes_normed <- sfe$nGenes/n_panel"
   ]
  },
  {
   "cell_type": "markdown",
<<<<<<< HEAD
<<<<<<< HEAD
   "id": "8ccf49d1",
||||||| 00f6fb22
   "id": "501de9ba",
=======
   "id": "57d6eaa3",
>>>>>>> documentation-devel
||||||| d828f8eb
   "id": "8ccf49d1",
=======
   "id": "29aa8451",
>>>>>>> 6c25d2f1afd31725c9595ab9d8922b9d3c838629
   "metadata": {},
   "source": [
    "Here we divided nCounts by the total number of genes probed, so this histogram is comparable to those from other smFISH-based datasets. "
   ]
  },
  {
   "cell_type": "code",
   "execution_count": null,
<<<<<<< HEAD
<<<<<<< HEAD
   "id": "a8e6df7f",
||||||| 00f6fb22
   "id": "95ec1392",
=======
   "id": "90a4a4a3",
>>>>>>> documentation-devel
||||||| d828f8eb
   "id": "a8e6df7f",
=======
   "id": "9fb65154",
>>>>>>> 6c25d2f1afd31725c9595ab9d8922b9d3c838629
   "metadata": {},
   "outputs": [],
   "source": [
    "plotColDataHistogram(sfe, c(\"nCounts_normed\", \"nGenes_normed\"))"
   ]
  },
  {
   "cell_type": "markdown",
<<<<<<< HEAD
<<<<<<< HEAD
   "id": "410040e1",
||||||| 00f6fb22
   "id": "2504de3e",
=======
   "id": "176ce502",
>>>>>>> documentation-devel
||||||| d828f8eb
   "id": "410040e1",
=======
   "id": "1f57dada",
>>>>>>> 6c25d2f1afd31725c9595ab9d8922b9d3c838629
   "metadata": {},
   "source": [
    "Compared to the [FFPE CosMX non-small cell lung cancer dataset](https://pachterlab.github.io/voyager/articles/vig4_cosmx.html#cells), more transcripts per gene on average and a larger proportion of all genes are detected in this dataset, which is also FFPE. However, this should be interpreted with care, since these two datasets are from different tissues and have different gene panels, so this may or may not indicate that Xenium has better detection efficiency than CosMX."
   ]
  },
  {
   "cell_type": "code",
   "execution_count": null,
<<<<<<< HEAD
<<<<<<< HEAD
   "id": "7ca3ab47",
||||||| 00f6fb22
   "id": "c980f118",
=======
   "id": "10c1ca25",
>>>>>>> documentation-devel
||||||| d828f8eb
   "id": "7ca3ab47",
=======
   "id": "1a0a1167",
>>>>>>> 6c25d2f1afd31725c9595ab9d8922b9d3c838629
   "metadata": {},
   "outputs": [],
   "source": [
    "plotSpatialFeature(sfe, \"nCounts\", colGeometryName = \"cellSeg\")"
   ]
  },
  {
   "cell_type": "markdown",
<<<<<<< HEAD
<<<<<<< HEAD
   "id": "67945eb0",
||||||| 00f6fb22
   "id": "86eefc97",
=======
   "id": "23fb1833",
>>>>>>> documentation-devel
||||||| d828f8eb
   "id": "67945eb0",
=======
   "id": "93384576",
>>>>>>> 6c25d2f1afd31725c9595ab9d8922b9d3c838629
   "metadata": {},
   "source": [
    "There seem to be FOV artifacts. However, the cell ID and FOV information were unavailable so we cannot examine them. "
   ]
  },
  {
   "cell_type": "code",
   "execution_count": null,
<<<<<<< HEAD
<<<<<<< HEAD
   "id": "37518c2c",
||||||| 00f6fb22
   "id": "dad5e440",
=======
   "id": "e77c904f",
>>>>>>> documentation-devel
||||||| d828f8eb
   "id": "37518c2c",
=======
   "id": "a7847b7a",
>>>>>>> 6c25d2f1afd31725c9595ab9d8922b9d3c838629
   "metadata": {},
   "outputs": [],
   "source": [
    "plotSpatialFeature(sfe, \"nGenes\", colGeometryName = \"cellSeg\")"
   ]
  },
  {
   "cell_type": "markdown",
<<<<<<< HEAD
<<<<<<< HEAD
   "id": "c0e5a790",
||||||| 00f6fb22
   "id": "43da33ad",
=======
   "id": "d45109c5",
>>>>>>> documentation-devel
||||||| d828f8eb
   "id": "c0e5a790",
=======
   "id": "cfeaa9c3",
>>>>>>> 6c25d2f1afd31725c9595ab9d8922b9d3c838629
   "metadata": {
    "lines_to_next_cell": 0
   },
   "source": [
    "A standard examination is to look at the relationship between nCounts and nGenes:"
   ]
  },
  {
   "cell_type": "code",
   "execution_count": null,
<<<<<<< HEAD
<<<<<<< HEAD
   "id": "b92cbc5d",
||||||| 00f6fb22
   "id": "796185b7",
=======
   "id": "e1ffb6f4",
>>>>>>> documentation-devel
||||||| d828f8eb
   "id": "b92cbc5d",
=======
   "id": "146ae746",
>>>>>>> 6c25d2f1afd31725c9595ab9d8922b9d3c838629
   "metadata": {},
   "outputs": [],
   "source": [
    "plotColData(sfe, x=\"nCounts\", y=\"nGenes\", bins = 100)"
   ]
  },
  {
   "cell_type": "markdown",
<<<<<<< HEAD
<<<<<<< HEAD
   "id": "55f823b2",
||||||| 00f6fb22
   "id": "391cc7d7",
=======
   "id": "0f95ae31",
>>>>>>> documentation-devel
||||||| d828f8eb
   "id": "55f823b2",
=======
   "id": "79119e45",
>>>>>>> 6c25d2f1afd31725c9595ab9d8922b9d3c838629
   "metadata": {
    "lines_to_next_cell": 0
   },
   "source": [
    "There appear to be two branches. \n",
    "\n",
    "Here we plot the distribution of cell area"
   ]
  },
  {
   "cell_type": "code",
   "execution_count": null,
<<<<<<< HEAD
<<<<<<< HEAD
   "id": "e361acca",
||||||| 00f6fb22
   "id": "9f424d21",
=======
   "id": "19af6d75",
>>>>>>> documentation-devel
||||||| d828f8eb
   "id": "e361acca",
=======
   "id": "9a514d7f",
>>>>>>> 6c25d2f1afd31725c9595ab9d8922b9d3c838629
   "metadata": {},
   "outputs": [],
   "source": [
    "plotColDataHistogram(sfe, c(\"cell_area\", \"nucleus_area\"), scales = \"free_y\")"
   ]
  },
  {
   "cell_type": "markdown",
<<<<<<< HEAD
<<<<<<< HEAD
   "id": "8d8b4dca",
||||||| 00f6fb22
   "id": "ffd6b2f4",
=======
   "id": "fe56b171",
>>>>>>> documentation-devel
||||||| d828f8eb
   "id": "8d8b4dca",
=======
   "id": "7125c875",
>>>>>>> 6c25d2f1afd31725c9595ab9d8922b9d3c838629
   "metadata": {
    "lines_to_next_cell": 0
   },
   "source": [
    "That should be in pixels. There's a very long tail. The nuclei are much smaller than the cells.\n",
    "\n",
    "How is cell area distributed in space?"
   ]
  },
  {
   "cell_type": "code",
   "execution_count": null,
<<<<<<< HEAD
<<<<<<< HEAD
   "id": "4201ed2b",
||||||| 00f6fb22
   "id": "efade864",
=======
   "id": "6cb1c0a5",
>>>>>>> documentation-devel
||||||| d828f8eb
   "id": "4201ed2b",
=======
   "id": "87900c22",
>>>>>>> 6c25d2f1afd31725c9595ab9d8922b9d3c838629
   "metadata": {},
   "outputs": [],
   "source": [
    "plotSpatialFeature(sfe, \"cell_area\", colGeometryName = \"cellSeg\")"
   ]
  },
  {
   "cell_type": "markdown",
<<<<<<< HEAD
<<<<<<< HEAD
   "id": "4571cdc1",
||||||| 00f6fb22
   "id": "eb0efb9a",
=======
   "id": "24cc7357",
>>>>>>> documentation-devel
||||||| d828f8eb
   "id": "4571cdc1",
=======
   "id": "e096a270",
>>>>>>> 6c25d2f1afd31725c9595ab9d8922b9d3c838629
   "metadata": {
    "lines_to_next_cell": 0
   },
   "source": [
    "Cells in the sparse region tend to be larger than those in the dense region. This may be biological or an artifact of the cell segmentation algorithm or both.\n",
    "\n",
    "Here the nuclei segmentations are plotted instead of cell segmentation. The nuclei are much smaller to the extent that they are difficult to see."
   ]
  },
  {
   "cell_type": "code",
   "execution_count": null,
<<<<<<< HEAD
<<<<<<< HEAD
   "id": "5015eb98",
||||||| 00f6fb22
   "id": "8c88c9db",
=======
   "id": "6f8dd6fa",
>>>>>>> documentation-devel
||||||| d828f8eb
   "id": "5015eb98",
=======
   "id": "6e62c28e",
>>>>>>> 6c25d2f1afd31725c9595ab9d8922b9d3c838629
   "metadata": {},
   "outputs": [],
   "source": [
    "plotSpatialFeature(sfe, \"nucleus_area\", colGeometryName = \"nucSeg\")"
   ]
  },
  {
   "cell_type": "markdown",
<<<<<<< HEAD
<<<<<<< HEAD
   "id": "3c4181b3",
||||||| 00f6fb22
   "id": "d9f87ef4",
=======
   "id": "196a9313",
>>>>>>> documentation-devel
||||||| d828f8eb
   "id": "3c4181b3",
=======
   "id": "cc9edf6f",
>>>>>>> 6c25d2f1afd31725c9595ab9d8922b9d3c838629
   "metadata": {
    "lines_to_next_cell": 0
   },
   "source": [
    "There's an outlier near the right edge of the section, throwing off the dynamic range of the plot. Upon inspection of the H&E image, the outlier is a bit of tissue debris that doesn't look like a cell. But we can still that cells in the dense, gland like regions tend to have larger nuclei. This may be biological, or that nuclei are so densely packed in those regions that they are more likely to be undersegmented, i.e. when multiple nuclei are counted as one by the nuclei segmentation program, or both.\n",
    "\n",
    "These observations motivate an examination of the relationship between cell area and nuclei area:"
   ]
  },
  {
   "cell_type": "code",
   "execution_count": null,
<<<<<<< HEAD
<<<<<<< HEAD
   "id": "904b47fd",
||||||| 00f6fb22
   "id": "b6a4b958",
=======
   "id": "67b87cfc",
>>>>>>> documentation-devel
||||||| d828f8eb
   "id": "904b47fd",
=======
   "id": "45b204be",
>>>>>>> 6c25d2f1afd31725c9595ab9d8922b9d3c838629
   "metadata": {},
   "outputs": [],
   "source": [
    "plotColData(sfe, x=\"cell_area\", y=\"nucleus_area\", bins = 100)"
   ]
  },
  {
   "cell_type": "markdown",
<<<<<<< HEAD
<<<<<<< HEAD
   "id": "df6b4f8a",
||||||| 00f6fb22
   "id": "3d21edff",
=======
   "id": "d83a0676",
>>>>>>> documentation-devel
||||||| d828f8eb
   "id": "df6b4f8a",
=======
   "id": "5865aaf5",
>>>>>>> 6c25d2f1afd31725c9595ab9d8922b9d3c838629
   "metadata": {},
   "source": [
    "Again, there are two branches, probably related to cell density and cell type. The nucleus outlier also has large cell area, though it is not as much an outlier in cell area. However, it is a spatial outlier as it's unusually large compared to its neighbors (scroll up two plots back). \n",
    "\n",
    "Next we calculate the proportion of cell in this z-plane taken up by the nucleus, and examine the distribution:"
   ]
  },
  {
   "cell_type": "code",
   "execution_count": null,
<<<<<<< HEAD
<<<<<<< HEAD
   "id": "be00a811",
||||||| 00f6fb22
   "id": "d9db77ef",
=======
   "id": "9a7c8c1a",
>>>>>>> documentation-devel
||||||| d828f8eb
   "id": "be00a811",
=======
   "id": "e42f3445",
>>>>>>> 6c25d2f1afd31725c9595ab9d8922b9d3c838629
   "metadata": {},
   "outputs": [],
   "source": [
    "colData(sfe)$prop_nuc <- sfe$nucleus_area / sfe$cell_area"
   ]
  },
  {
   "cell_type": "code",
   "execution_count": null,
<<<<<<< HEAD
<<<<<<< HEAD
   "id": "360f005a",
||||||| 00f6fb22
   "id": "e7ac8e76",
=======
   "id": "514a0ab1",
>>>>>>> documentation-devel
||||||| d828f8eb
   "id": "360f005a",
=======
   "id": "ef508705",
>>>>>>> 6c25d2f1afd31725c9595ab9d8922b9d3c838629
   "metadata": {},
   "outputs": [],
   "source": [
    "plotColDataHistogram(sfe, \"prop_nuc\")"
   ]
  },
  {
   "cell_type": "markdown",
<<<<<<< HEAD
<<<<<<< HEAD
   "id": "51c1a583",
||||||| 00f6fb22
   "id": "ac1facd1",
=======
   "id": "38e45fc2",
>>>>>>> documentation-devel
||||||| d828f8eb
   "id": "51c1a583",
=======
   "id": "d06e175a",
>>>>>>> 6c25d2f1afd31725c9595ab9d8922b9d3c838629
   "metadata": {
    "lines_to_next_cell": 0
   },
   "source": [
    "This distribution could have been generated from two peaks that were combined. From the histogram, there do not seem to be cells without nuclei or segmentation artifacts where the nucleus is larger than the cell. However, there are so many cells in this dataset and it is possible that just a few cells would not be visible on this histogram. We double check:"
   ]
  },
  {
   "cell_type": "code",
   "execution_count": null,
<<<<<<< HEAD
<<<<<<< HEAD
   "id": "9a44516c",
||||||| 00f6fb22
   "id": "cb28ea1a",
=======
   "id": "eae8c4c5",
>>>>>>> documentation-devel
||||||| d828f8eb
   "id": "9a44516c",
=======
   "id": "2c9a252a",
>>>>>>> 6c25d2f1afd31725c9595ab9d8922b9d3c838629
   "metadata": {},
   "outputs": [],
   "source": [
    "# No nucleus\n",
    "sum(sfe$nucleus_area < 1)\n",
    "# Nucleus larger than cell\n",
    "sum(sfe$nucleus_area > sfe$cell_area)"
   ]
  },
  {
   "cell_type": "markdown",
<<<<<<< HEAD
<<<<<<< HEAD
   "id": "304a6d4d",
||||||| 00f6fb22
   "id": "311f1a95",
=======
   "id": "ffabf1a6",
>>>>>>> documentation-devel
||||||| d828f8eb
   "id": "304a6d4d",
=======
   "id": "268c6f77",
>>>>>>> 6c25d2f1afd31725c9595ab9d8922b9d3c838629
   "metadata": {
    "lines_to_next_cell": 0
   },
   "source": [
    "So there are no cells without nuclei or nuclei larger than their cells. Here we plot the nuclei proportion in space:"
   ]
  },
  {
   "cell_type": "code",
   "execution_count": null,
<<<<<<< HEAD
<<<<<<< HEAD
   "id": "16e12960",
||||||| 00f6fb22
   "id": "e22a2bdd",
=======
   "id": "6bdbc5ae",
>>>>>>> documentation-devel
||||||| d828f8eb
   "id": "16e12960",
=======
   "id": "1a119433",
>>>>>>> 6c25d2f1afd31725c9595ab9d8922b9d3c838629
   "metadata": {},
   "outputs": [],
   "source": [
    "plotSpatialFeature(sfe, \"prop_nuc\", colGeometryName = \"cellSeg\")"
   ]
  },
  {
   "cell_type": "markdown",
<<<<<<< HEAD
<<<<<<< HEAD
   "id": "e1e7c95b",
||||||| 00f6fb22
   "id": "2626cec1",
=======
   "id": "e30b9415",
>>>>>>> documentation-devel
||||||| d828f8eb
   "id": "e1e7c95b",
=======
   "id": "ab194c09",
>>>>>>> 6c25d2f1afd31725c9595ab9d8922b9d3c838629
   "metadata": {
    "lines_to_next_cell": 0
   },
   "source": [
    "Cells in some histological regions have larger proportions occupied by the nuclei. It is interesting to check, controlling for cell type, how cell area, nucleus area, and the proportion of cell occupied by nucleus relate to gene expression. However, a problem in performing such an analysis is that cell segmentation is only available for one z-plane here and these areas also relate to where this z-plane intersects each cell. \n",
    "\n",
    "Below we plot a 2D histogram to better show the density of points on this plot:"
   ]
  },
  {
   "cell_type": "code",
   "execution_count": null,
<<<<<<< HEAD
<<<<<<< HEAD
   "id": "608d7e6b",
||||||| 00f6fb22
   "id": "8b666077",
=======
   "id": "18667f4a",
>>>>>>> documentation-devel
||||||| d828f8eb
   "id": "608d7e6b",
=======
   "id": "3630507c",
>>>>>>> 6c25d2f1afd31725c9595ab9d8922b9d3c838629
   "metadata": {},
   "outputs": [],
   "source": [
    "plotColData(sfe, x=\"cell_area\", y=\"prop_nuc\")"
   ]
  },
  {
   "cell_type": "markdown",
<<<<<<< HEAD
<<<<<<< HEAD
   "id": "57ffdb4e",
||||||| 00f6fb22
   "id": "83ff91ad",
=======
   "id": "bce2fe10",
>>>>>>> documentation-devel
||||||| d828f8eb
   "id": "57ffdb4e",
=======
   "id": "5fec8b6f",
>>>>>>> 6c25d2f1afd31725c9595ab9d8922b9d3c838629
   "metadata": {
    "lines_to_next_cell": 0
   },
   "source": [
    "Smaller cells tend to have higher proportion occupied by the nucleus. This can be related to cell type, or it could be a limitation in how small the nuclei can be in this tissue.\n",
    "\n",
    "We also examine the relationship between nucleus area and the proportion of cell occupied by the nucleus:"
   ]
  },
  {
   "cell_type": "code",
   "execution_count": null,
<<<<<<< HEAD
<<<<<<< HEAD
   "id": "460a5ac2",
||||||| 00f6fb22
   "id": "fa0600bb",
=======
   "id": "321af9a1",
>>>>>>> documentation-devel
||||||| d828f8eb
   "id": "460a5ac2",
=======
   "id": "fbb440cf",
>>>>>>> 6c25d2f1afd31725c9595ab9d8922b9d3c838629
   "metadata": {},
   "outputs": [],
   "source": [
    "plotColData(sfe, x=\"nucleus_area\", y=\"prop_nuc\", bins = 100)"
   ]
  },
  {
   "cell_type": "markdown",
<<<<<<< HEAD
<<<<<<< HEAD
   "id": "2221671f",
||||||| 00f6fb22
   "id": "d62f47d4",
=======
   "id": "a9182de3",
>>>>>>> documentation-devel
||||||| d828f8eb
   "id": "2221671f",
=======
   "id": "cef2c544",
>>>>>>> 6c25d2f1afd31725c9595ab9d8922b9d3c838629
   "metadata": {
    "lines_to_next_cell": 0
   },
   "source": [
    "The outlier is obvious. There are more cells with both small nuclei and low proportion of area occupied by the nucleus.\n",
    "\n",
    "## Negative controls\n",
    "Since there are only a few hundred genes plus negative control probes, all row names of the SFE object can be printed out to find what the negative control probes are called."
   ]
  },
  {
   "cell_type": "code",
   "execution_count": null,
<<<<<<< HEAD
<<<<<<< HEAD
   "id": "2a1759ac",
||||||| 00f6fb22
   "id": "08484f6f",
=======
   "id": "dcdfb32b",
>>>>>>> documentation-devel
||||||| d828f8eb
   "id": "2a1759ac",
=======
   "id": "4388b001",
>>>>>>> 6c25d2f1afd31725c9595ab9d8922b9d3c838629
   "metadata": {},
   "outputs": [],
   "source": [
    "rownames(sfe)"
   ]
  },
  {
   "cell_type": "markdown",
<<<<<<< HEAD
<<<<<<< HEAD
   "id": "e7ec0620",
||||||| 00f6fb22
   "id": "3c390f45",
=======
   "id": "3adbf17a",
>>>>>>> documentation-devel
||||||| d828f8eb
   "id": "e7ec0620",
=======
   "id": "b420dd03",
>>>>>>> 6c25d2f1afd31725c9595ab9d8922b9d3c838629
   "metadata": {},
   "source": [
    "According to the Xenium paper [@Janesick2022-rp], there are 3 types of controls:\n",
    "\n",
    "> 1) probe controls to assess non-specific binding to RNA, \n",
    "2) decoding controls to assess misassigned genes, and \n",
    "3) genomic DNA (gDNA) controls to ensure the signal is from RNA.\n",
    "\n",
    "The paper does not explain in detail how those control probes were designed, nor explain what the blank probes are. But the blank probes can be used as a negative control."
   ]
  },
  {
   "cell_type": "code",
   "execution_count": null,
<<<<<<< HEAD
<<<<<<< HEAD
   "id": "2d89d6e6",
||||||| 00f6fb22
   "id": "72bc0c4e",
=======
   "id": "6e8974b5",
>>>>>>> documentation-devel
||||||| d828f8eb
   "id": "2d89d6e6",
=======
   "id": "5161ea89",
>>>>>>> 6c25d2f1afd31725c9595ab9d8922b9d3c838629
   "metadata": {},
   "outputs": [],
   "source": [
    "is_blank <- str_detect(rownames(sfe), \"^BLANK_\")\n",
    "sum(is_blank)"
   ]
  },
  {
   "cell_type": "markdown",
<<<<<<< HEAD
<<<<<<< HEAD
   "id": "68f93ca3",
||||||| 00f6fb22
   "id": "b39c0c4e",
=======
   "id": "a62b8f8d",
>>>>>>> documentation-devel
||||||| d828f8eb
   "id": "68f93ca3",
=======
   "id": "0c289059",
>>>>>>> 6c25d2f1afd31725c9595ab9d8922b9d3c838629
   "metadata": {
    "lines_to_next_cell": 0
   },
   "source": [
    "This should be number 1, the probe control"
   ]
  },
  {
   "cell_type": "code",
   "execution_count": null,
<<<<<<< HEAD
<<<<<<< HEAD
   "id": "7b53670b",
||||||| 00f6fb22
   "id": "a90d9e5f",
=======
   "id": "5dee3909",
>>>>>>> documentation-devel
||||||| d828f8eb
   "id": "7b53670b",
=======
   "id": "40c32932",
>>>>>>> 6c25d2f1afd31725c9595ab9d8922b9d3c838629
   "metadata": {},
   "outputs": [],
   "source": [
    "is_neg <- str_detect(rownames(sfe), \"^NegControlProbe\")\n",
    "sum(is_neg)"
   ]
  },
  {
   "cell_type": "markdown",
<<<<<<< HEAD
<<<<<<< HEAD
   "id": "e694b61e",
||||||| 00f6fb22
   "id": "d89b6753",
=======
   "id": "d8bd4ca8",
>>>>>>> documentation-devel
||||||| d828f8eb
   "id": "e694b61e",
=======
   "id": "22beae3d",
>>>>>>> 6c25d2f1afd31725c9595ab9d8922b9d3c838629
   "metadata": {
    "lines_to_next_cell": 0
   },
   "source": [
    "This should be number 2, the decoding control"
   ]
  },
  {
   "cell_type": "code",
   "execution_count": null,
<<<<<<< HEAD
<<<<<<< HEAD
   "id": "4287e22d",
||||||| 00f6fb22
   "id": "cfc5bde7",
=======
   "id": "265dee54",
>>>>>>> documentation-devel
||||||| d828f8eb
   "id": "4287e22d",
=======
   "id": "1de861eb",
>>>>>>> 6c25d2f1afd31725c9595ab9d8922b9d3c838629
   "metadata": {},
   "outputs": [],
   "source": [
    "is_neg2 <- str_detect(rownames(sfe), \"^NegControlCodeword\")\n",
    "sum(is_neg2)"
   ]
  },
  {
   "cell_type": "markdown",
<<<<<<< HEAD
<<<<<<< HEAD
   "id": "14711da7",
||||||| 00f6fb22
   "id": "d326e5a0",
=======
   "id": "22d5fff8",
>>>>>>> documentation-devel
||||||| d828f8eb
   "id": "14711da7",
=======
   "id": "917da7a7",
>>>>>>> 6c25d2f1afd31725c9595ab9d8922b9d3c838629
   "metadata": {
    "lines_to_next_cell": 0
   },
   "source": [
    "This must be number 3, gDNA control"
   ]
  },
  {
   "cell_type": "code",
   "execution_count": null,
<<<<<<< HEAD
<<<<<<< HEAD
   "id": "56dc4388",
||||||| 00f6fb22
   "id": "780b8051",
=======
   "id": "2d4c9dbb",
>>>>>>> documentation-devel
||||||| d828f8eb
   "id": "56dc4388",
=======
   "id": "6d42de20",
>>>>>>> 6c25d2f1afd31725c9595ab9d8922b9d3c838629
   "metadata": {},
   "outputs": [],
   "source": [
    "is_anti <- str_detect(rownames(sfe), \"^antisense\")\n",
    "sum(is_anti)"
   ]
  },
  {
   "cell_type": "markdown",
<<<<<<< HEAD
<<<<<<< HEAD
   "id": "fa646c45",
||||||| 00f6fb22
   "id": "0e619ec4",
=======
   "id": "1942b00c",
>>>>>>> documentation-devel
||||||| d828f8eb
   "id": "fa646c45",
=======
   "id": "b0cbc59c",
>>>>>>> 6c25d2f1afd31725c9595ab9d8922b9d3c838629
   "metadata": {
    "lines_to_next_cell": 0
   },
   "source": [
    "Also make an indicator of whether a feature is any sort of negative control"
   ]
  },
  {
   "cell_type": "code",
   "execution_count": null,
<<<<<<< HEAD
<<<<<<< HEAD
   "id": "4d391399",
||||||| 00f6fb22
   "id": "a82131f2",
=======
   "id": "980718c4",
>>>>>>> documentation-devel
||||||| d828f8eb
   "id": "4d391399",
=======
   "id": "f50016b4",
>>>>>>> 6c25d2f1afd31725c9595ab9d8922b9d3c838629
   "metadata": {},
   "outputs": [],
   "source": [
    "is_any_neg <- is_blank | is_neg | is_neg2 | is_anti"
   ]
  },
  {
   "cell_type": "markdown",
<<<<<<< HEAD
<<<<<<< HEAD
   "id": "550980c2",
||||||| 00f6fb22
   "id": "448d2083",
=======
   "id": "8055fbd0",
>>>>>>> documentation-devel
||||||| d828f8eb
   "id": "550980c2",
=======
   "id": "468ca3a0",
>>>>>>> 6c25d2f1afd31725c9595ab9d8922b9d3c838629
   "metadata": {
    "lines_to_next_cell": 0
   },
   "source": [
    "The `addPerCellQCMetrics()` function in the `scuttle` package can conveniently add transcript counts, proportion of total counts, and number of features detected for any subset of features to the SCE object. Here we do this for the SFE object, as SFE inherits from SCE. "
   ]
  },
  {
   "cell_type": "code",
   "execution_count": null,
<<<<<<< HEAD
<<<<<<< HEAD
   "id": "52d68ff2",
||||||| 00f6fb22
   "id": "a116f524",
=======
   "id": "fa86a8ce",
>>>>>>> documentation-devel
||||||| d828f8eb
   "id": "52d68ff2",
=======
   "id": "a4fe6e64",
>>>>>>> 6c25d2f1afd31725c9595ab9d8922b9d3c838629
   "metadata": {},
   "outputs": [],
   "source": [
    "sfe <- addPerCellQCMetrics(sfe, subsets = list(blank = is_blank,\n",
    "                                               negProbe = is_neg,\n",
    "                                               negCodeword = is_neg2,\n",
    "                                               anti = is_anti,\n",
    "                                               any_neg = is_any_neg))"
   ]
  },
  {
   "cell_type": "code",
   "execution_count": null,
<<<<<<< HEAD
<<<<<<< HEAD
   "id": "c17b49e9",
||||||| 00f6fb22
   "id": "3a0c3d74",
=======
   "id": "32aeadf4",
>>>>>>> documentation-devel
||||||| d828f8eb
   "id": "c17b49e9",
=======
   "id": "6bffab57",
>>>>>>> 6c25d2f1afd31725c9595ab9d8922b9d3c838629
   "metadata": {},
   "outputs": [],
   "source": [
    "names(colData(sfe))"
   ]
  },
  {
   "cell_type": "markdown",
<<<<<<< HEAD
<<<<<<< HEAD
   "id": "730117e0",
||||||| 00f6fb22
   "id": "528d5b02",
=======
   "id": "e4167adb",
>>>>>>> documentation-devel
||||||| d828f8eb
   "id": "730117e0",
=======
   "id": "978b8395",
>>>>>>> 6c25d2f1afd31725c9595ab9d8922b9d3c838629
   "metadata": {},
   "source": [
    "Next we plot the proportion of transcript counts coming from any negative control. "
   ]
  },
  {
   "cell_type": "code",
   "execution_count": null,
<<<<<<< HEAD
<<<<<<< HEAD
   "id": "96cfcaf9",
||||||| 00f6fb22
   "id": "36830260",
=======
   "id": "029394ea",
>>>>>>> documentation-devel
||||||| d828f8eb
   "id": "96cfcaf9",
=======
   "id": "3e907f92",
>>>>>>> 6c25d2f1afd31725c9595ab9d8922b9d3c838629
   "metadata": {},
   "outputs": [],
   "source": [
    "cols_use <- names(colData(sfe))[str_detect(names(colData(sfe)), \"_percent$\")]\n",
    "plotColDataHistogram(sfe, cols_use, bins = 100, ncol = 3)"
   ]
  },
  {
   "cell_type": "markdown",
<<<<<<< HEAD
<<<<<<< HEAD
   "id": "3977f0b8",
||||||| 00f6fb22
   "id": "972f6add",
=======
   "id": "c7920486",
>>>>>>> documentation-devel
||||||| d828f8eb
   "id": "3977f0b8",
=======
   "id": "fcf8155b",
>>>>>>> 6c25d2f1afd31725c9595ab9d8922b9d3c838629
   "metadata": {
    "lines_to_next_cell": 0
   },
   "source": [
    "The histogram is dominated by the bin at zero and there are some extreme outliers too few to be seen but evident from the scale of the x axis. We also plot the histogram only for cells with at least 1 count from a negative control. The NA's come from cells that got segmented but have no transcripts detected."
   ]
  },
  {
   "cell_type": "code",
   "execution_count": null,
<<<<<<< HEAD
<<<<<<< HEAD
   "id": "d13b2b72",
||||||| 00f6fb22
   "id": "fec4e4ef",
=======
   "id": "5614f786",
>>>>>>> documentation-devel
||||||| d828f8eb
   "id": "d13b2b72",
=======
   "id": "fafaece7",
>>>>>>> 6c25d2f1afd31725c9595ab9d8922b9d3c838629
   "metadata": {},
   "outputs": [],
   "source": [
    "plotColDataHistogram(sfe, cols_use, bins = 100, ncol = 3) + \n",
    "    scale_x_log10() +\n",
    "    annotation_logticks(sides = \"b\")"
   ]
  },
  {
   "cell_type": "markdown",
<<<<<<< HEAD
<<<<<<< HEAD
   "id": "f41d4589",
||||||| 00f6fb22
   "id": "f2d2dd8d",
=======
   "id": "5b796d2d",
>>>>>>> documentation-devel
||||||| d828f8eb
   "id": "f41d4589",
=======
   "id": "7fa10ed8",
>>>>>>> 6c25d2f1afd31725c9595ab9d8922b9d3c838629
   "metadata": {
    "lines_to_next_cell": 0
   },
   "source": [
    "The vast majority of these cells have less than 1% of transcript counts from negative controls, but there are outliers with up to 50%. \n",
    "\n",
    "Next we plot the distribution of the number of negative control counts per cell:"
   ]
  },
  {
   "cell_type": "code",
   "execution_count": null,
<<<<<<< HEAD
<<<<<<< HEAD
   "id": "0f81d280",
||||||| 00f6fb22
   "id": "03b03cc1",
=======
   "id": "c91c65db",
>>>>>>> documentation-devel
||||||| d828f8eb
   "id": "0f81d280",
=======
   "id": "8f3d63d8",
>>>>>>> 6c25d2f1afd31725c9595ab9d8922b9d3c838629
   "metadata": {},
   "outputs": [],
   "source": [
    "cols_use2 <- names(colData(sfe))[str_detect(names(colData(sfe)), \"_detected$\")]\n",
    "plotColDataHistogram(sfe, cols_use2, bins = 20, ncol = 3) +\n",
    "    # Avoid decimal breaks on x axis unless there're too few breaks\n",
    "    scale_x_continuous(breaks = scales::breaks_extended(Q = c(1,2,5)))"
   ]
  },
  {
   "cell_type": "markdown",
<<<<<<< HEAD
<<<<<<< HEAD
   "id": "3bffa071",
||||||| 00f6fb22
   "id": "04729eb2",
=======
   "id": "b8dec70a",
>>>>>>> documentation-devel
||||||| d828f8eb
   "id": "3bffa071",
=======
   "id": "6141d020",
>>>>>>> 6c25d2f1afd31725c9595ab9d8922b9d3c838629
   "metadata": {},
   "source": [
    "The counts are low, mostly zero, but there are outliers with up to 10 counts of all types aggregated. Then the outlier with 50% of counts from negative controls must have very low total real transcript counts to begin with.\n",
    "\n",
    "The `scuttle` package can detect outliers, but by default it assigns anything above zero as an outlier, since that is over 3 median absolute deviations (MADs) away from the median, which is 0, and the MAD is 0 since the vast majority of cells don't have any negative control count. But it makes sense to allow a small proportion of negative controls. Here we use the distribution just for cells with at least 1 negative control count to find outliers. This distribution has a very long tail and some definite outliers.\n",
    "\n",
    "The code below extracts the outliers, based only on cells with at least one negative control count"
   ]
  },
  {
   "cell_type": "code",
   "execution_count": null,
<<<<<<< HEAD
<<<<<<< HEAD
   "id": "83b33881",
||||||| 00f6fb22
   "id": "bf694538",
=======
   "id": "a0b00c5e",
>>>>>>> documentation-devel
||||||| d828f8eb
   "id": "83b33881",
=======
   "id": "c8c93f68",
>>>>>>> 6c25d2f1afd31725c9595ab9d8922b9d3c838629
   "metadata": {},
   "outputs": [],
   "source": [
    "get_neg_ctrl_outliers <- function(col, sfe) {\n",
    "    inds <- colData(sfe)$nCounts > 0 & colData(sfe)[[col]] > 0\n",
    "    df <- colData(sfe)[inds,]\n",
    "    outlier_inds <- isOutlier(df[[col]], type = \"higher\")\n",
    "    outliers <- rownames(df)[outlier_inds]\n",
    "    col2 <- str_remove(col, \"^subsets_\")\n",
    "    col2 <- str_remove(col2, \"_percent$\")\n",
    "    new_colname <- paste(\"is\", col2, \"outlier\", sep = \"_\")\n",
    "    colData(sfe)[[new_colname]] <- colnames(sfe) %in% outliers\n",
    "    sfe\n",
    "}"
   ]
  },
  {
   "cell_type": "code",
   "execution_count": null,
<<<<<<< HEAD
<<<<<<< HEAD
   "id": "559aa2cf",
||||||| 00f6fb22
   "id": "98fcfb10",
=======
   "id": "49f24cf8",
>>>>>>> documentation-devel
||||||| d828f8eb
   "id": "559aa2cf",
=======
   "id": "52ee3932",
>>>>>>> 6c25d2f1afd31725c9595ab9d8922b9d3c838629
   "metadata": {},
   "outputs": [],
   "source": [
    "cols_use <- names(colData(sfe))[str_detect(names(colData(sfe)), \"_percent$\")]\n",
    "for (n in cols_use) {\n",
    "    sfe <- get_neg_ctrl_outliers(n, sfe)\n",
    "}"
   ]
  },
  {
   "cell_type": "code",
   "execution_count": null,
<<<<<<< HEAD
<<<<<<< HEAD
   "id": "b5ae0380",
||||||| 00f6fb22
   "id": "fcf2e5e8",
=======
   "id": "5094369a",
>>>>>>> documentation-devel
||||||| d828f8eb
   "id": "b5ae0380",
=======
   "id": "26ff8c97",
>>>>>>> 6c25d2f1afd31725c9595ab9d8922b9d3c838629
   "metadata": {},
   "outputs": [],
   "source": [
    "names(colData(sfe))"
   ]
  },
  {
   "cell_type": "markdown",
<<<<<<< HEAD
<<<<<<< HEAD
   "id": "e06302ea",
||||||| 00f6fb22
   "id": "5ab1f31a",
=======
   "id": "f71fa8ec",
>>>>>>> documentation-devel
||||||| d828f8eb
   "id": "e06302ea",
=======
   "id": "56f62e21",
>>>>>>> 6c25d2f1afd31725c9595ab9d8922b9d3c838629
   "metadata": {
    "lines_to_next_cell": 0
   },
   "source": [
    "Below we examine where the outliers are located in space:"
   ]
  },
  {
   "cell_type": "code",
   "execution_count": null,
<<<<<<< HEAD
<<<<<<< HEAD
   "id": "d836e42f",
||||||| 00f6fb22
   "id": "08b4130f",
=======
   "id": "be61472a",
>>>>>>> documentation-devel
||||||| d828f8eb
   "id": "d836e42f",
=======
   "id": "030f8818",
>>>>>>> 6c25d2f1afd31725c9595ab9d8922b9d3c838629
   "metadata": {},
   "outputs": [],
   "source": [
    "plotSpatialFeature(sfe, \"is_blank_outlier\", colGeometryName = \"cellSeg\")"
   ]
  },
  {
   "cell_type": "markdown",
<<<<<<< HEAD
<<<<<<< HEAD
   "id": "e1164059",
||||||| 00f6fb22
   "id": "408ade5a",
=======
   "id": "f401caa2",
>>>>>>> documentation-devel
||||||| d828f8eb
   "id": "e1164059",
=======
   "id": "f01375f4",
>>>>>>> 6c25d2f1afd31725c9595ab9d8922b9d3c838629
   "metadata": {
    "lines_to_next_cell": 0
   },
   "source": [
    "We find that the outliers are difficult to see:"
   ]
  },
  {
   "cell_type": "code",
   "execution_count": null,
<<<<<<< HEAD
<<<<<<< HEAD
   "id": "162d2bb0",
||||||| 00f6fb22
   "id": "7409120a",
=======
   "id": "04d41efa",
>>>>>>> documentation-devel
||||||| d828f8eb
   "id": "162d2bb0",
=======
   "id": "f4ad4201",
>>>>>>> 6c25d2f1afd31725c9595ab9d8922b9d3c838629
   "metadata": {},
   "outputs": [],
   "source": [
    "plotColData(sfe, y = \"is_blank_outlier\", x = \"cell_area\", \n",
    "            point_fun = function(...) list()) "
   ]
  },
  {
   "cell_type": "markdown",
<<<<<<< HEAD
<<<<<<< HEAD
   "id": "7afec7d1",
||||||| 00f6fb22
   "id": "4bce5727",
=======
   "id": "b61302fc",
>>>>>>> documentation-devel
||||||| d828f8eb
   "id": "7afec7d1",
=======
   "id": "4ad64ae9",
>>>>>>> 6c25d2f1afd31725c9595ab9d8922b9d3c838629
   "metadata": {
    "lines_to_next_cell": 0
   },
   "source": [
    "The analysis reveals that the outliers seem to be smaller. Outliers for negative probe controls and negative codeword controls are also hard to see on the plot, so their plots are skipped here. But the top left region in the tissue tends to have more counts from antisense controls. "
   ]
  },
  {
   "cell_type": "code",
   "execution_count": null,
<<<<<<< HEAD
<<<<<<< HEAD
   "id": "fae6fd50",
||||||| 00f6fb22
   "id": "21bfbaea",
=======
   "id": "4c9fb545",
>>>>>>> documentation-devel
||||||| d828f8eb
   "id": "fae6fd50",
=======
   "id": "9677c3ba",
>>>>>>> 6c25d2f1afd31725c9595ab9d8922b9d3c838629
   "metadata": {},
   "outputs": [],
   "source": [
    "plotSpatialFeature(sfe, \"is_anti_outlier\", colGeometryName = \"cellSeg\")"
   ]
  },
  {
   "cell_type": "markdown",
<<<<<<< HEAD
<<<<<<< HEAD
   "id": "fc0a77f9",
||||||| 00f6fb22
   "id": "0e64c2da",
=======
   "id": "481f293f",
>>>>>>> documentation-devel
||||||| d828f8eb
   "id": "fc0a77f9",
=======
   "id": "37e8401a",
>>>>>>> 6c25d2f1afd31725c9595ab9d8922b9d3c838629
   "metadata": {},
   "source": [
    "Now that we have identified the outliers, we can remove them along with empty cells before proceeding to further analysis:"
   ]
  },
  {
   "cell_type": "code",
   "execution_count": null,
<<<<<<< HEAD
<<<<<<< HEAD
   "id": "9ddc7ab4",
||||||| 00f6fb22
   "id": "6dfab87e",
=======
   "id": "b3c2a9c2",
>>>>>>> documentation-devel
||||||| d828f8eb
   "id": "9ddc7ab4",
=======
   "id": "38ae4a18",
>>>>>>> 6c25d2f1afd31725c9595ab9d8922b9d3c838629
   "metadata": {},
   "outputs": [],
   "source": [
    "inds_keep <- sfe$nCounts > 0 & sfe$nucleus_area < 400 & !sfe$is_anti_outlier &\n",
    "    !sfe$is_blank_outlier & !sfe$is_negCodeword_outlier & !sfe$is_negProbe_outlier\n",
    "(sfe <- sfe[,inds_keep])"
   ]
  },
  {
   "cell_type": "markdown",
<<<<<<< HEAD
<<<<<<< HEAD
   "id": "47a4d25e",
||||||| 00f6fb22
   "id": "6bbcac91",
=======
   "id": "0055102d",
>>>>>>> documentation-devel
||||||| d828f8eb
   "id": "47a4d25e",
=======
   "id": "3a1a5e1a",
>>>>>>> 6c25d2f1afd31725c9595ab9d8922b9d3c838629
   "metadata": {
    "lines_to_next_cell": 0
   },
   "source": [
    "Over 1000 cells were removed. \n",
    "\n",
    "Next we check how many negative control features are detected per cell:"
   ]
  },
  {
   "cell_type": "code",
   "execution_count": null,
<<<<<<< HEAD
<<<<<<< HEAD
   "id": "4437d906",
||||||| 00f6fb22
   "id": "a76d66e3",
=======
   "id": "b29b2909",
>>>>>>> documentation-devel
||||||| d828f8eb
   "id": "4437d906",
=======
   "id": "91aa4d8d",
>>>>>>> 6c25d2f1afd31725c9595ab9d8922b9d3c838629
   "metadata": {},
   "outputs": [],
   "source": [
    "plotColDataHistogram(sfe, cols_use2, bins = 20, ncol = 3) +\n",
    "    # Avoid decimal breaks on x axis unless there're too few breaks\n",
    "    scale_x_continuous(breaks = scales::breaks_extended(3, Q = c(1,2,5)))"
   ]
  },
  {
   "cell_type": "markdown",
<<<<<<< HEAD
<<<<<<< HEAD
   "id": "5e8dbd02",
||||||| 00f6fb22
   "id": "dec580d8",
=======
   "id": "7a892e24",
>>>>>>> documentation-devel
||||||| d828f8eb
   "id": "5e8dbd02",
=======
   "id": "8d3eda16",
>>>>>>> 6c25d2f1afd31725c9595ab9d8922b9d3c838629
   "metadata": {
    "lines_to_next_cell": 0
   },
   "source": [
    "There are at most 3 counts per cell per type. For the non-outliers, each type is at most around 1%, so this data looks good. \n",
    "\n",
    "## Genes\n",
    "Here we look at the mean and variance of each gene"
   ]
  },
  {
   "cell_type": "code",
   "execution_count": null,
<<<<<<< HEAD
<<<<<<< HEAD
   "id": "0cc825e2",
||||||| 00f6fb22
   "id": "94a18828",
=======
   "id": "f19b7fe1",
>>>>>>> documentation-devel
||||||| d828f8eb
   "id": "0cc825e2",
=======
   "id": "31da40ba",
>>>>>>> 6c25d2f1afd31725c9595ab9d8922b9d3c838629
   "metadata": {},
   "outputs": [],
   "source": [
    "rowData(sfe)$means <- rowMeans(counts(sfe))\n",
    "rowData(sfe)$vars <- rowVars(counts(sfe))"
   ]
  },
  {
   "cell_type": "markdown",
<<<<<<< HEAD
<<<<<<< HEAD
   "id": "d3632b5f",
||||||| 00f6fb22
   "id": "07240af4",
=======
   "id": "7da3fdd9",
>>>>>>> documentation-devel
||||||| d828f8eb
   "id": "d3632b5f",
=======
   "id": "260097c2",
>>>>>>> 6c25d2f1afd31725c9595ab9d8922b9d3c838629
   "metadata": {
    "lines_to_next_cell": 0
   },
   "source": [
    "Real genes generally have higher mean expression across cells than negative controls."
   ]
  },
  {
   "cell_type": "code",
   "execution_count": null,
<<<<<<< HEAD
<<<<<<< HEAD
   "id": "585f3fd3",
||||||| 00f6fb22
   "id": "d7b878c5",
=======
   "id": "356103ab",
>>>>>>> documentation-devel
||||||| d828f8eb
   "id": "585f3fd3",
=======
   "id": "142642f8",
>>>>>>> 6c25d2f1afd31725c9595ab9d8922b9d3c838629
   "metadata": {},
   "outputs": [],
   "source": [
    "rowData(sfe)$is_neg <- is_any_neg\n",
    "plotRowData(sfe, x = \"means\", y = \"is_neg\") +\n",
    "    scale_y_log10() +\n",
    "    annotation_logticks(sides = \"b\")"
   ]
  },
  {
   "cell_type": "markdown",
<<<<<<< HEAD
<<<<<<< HEAD
   "id": "5ad4bf72",
||||||| 00f6fb22
   "id": "77fd053d",
=======
   "id": "7dd875ac",
>>>>>>> documentation-devel
||||||| d828f8eb
   "id": "5ad4bf72",
=======
   "id": "f8ba7705",
>>>>>>> 6c25d2f1afd31725c9595ab9d8922b9d3c838629
   "metadata": {
    "lines_to_next_cell": 0
   },
   "source": [
    "Here the real genes and negative controls are plotted in different colors"
   ]
  },
  {
   "cell_type": "code",
   "execution_count": null,
<<<<<<< HEAD
<<<<<<< HEAD
   "id": "5c59ef7c",
||||||| 00f6fb22
   "id": "1d0639cb",
=======
   "id": "934e6d43",
>>>>>>> documentation-devel
||||||| d828f8eb
   "id": "5c59ef7c",
=======
   "id": "6839573b",
>>>>>>> 6c25d2f1afd31725c9595ab9d8922b9d3c838629
   "metadata": {},
   "outputs": [],
   "source": [
    "plotRowData(sfe, x=\"means\", y=\"vars\", subset = \"is_neg\", \n",
    "                 name_true = \"Counts (negative controls)\", \n",
    "                 name_false = \"Counts (real genes)\", bins = 50) +\n",
    "    geom_abline(slope = 1, intercept = 0, color = \"red\") +\n",
    "    scale_x_log10() + scale_y_log10() +\n",
    "    annotation_logticks() +\n",
    "    coord_equal()"
   ]
  },
  {
   "cell_type": "markdown",
<<<<<<< HEAD
<<<<<<< HEAD
   "id": "cdf8153c",
||||||| 00f6fb22
   "id": "1a33afcf",
=======
   "id": "44ce8896",
>>>>>>> documentation-devel
||||||| d828f8eb
   "id": "cdf8153c",
=======
   "id": "2b9830ee",
>>>>>>> 6c25d2f1afd31725c9595ab9d8922b9d3c838629
   "metadata": {},
   "source": [
    "The red line $y = x$ is expected if the data follows a Poisson distribution. Negative controls and real genes form mostly separate clusters. Negative controls stick close to the line, while real genes are overdispersed. Unlike in the [CosMX dataset](https://pachterlab.github.io/voyager/articles/vig4_cosmx.html#genes), the negative controls don't seem overdispersed.\n",
    "\n",
    "# Spatial autocorrelation of QC metrics\n",
    "\n",
    "There's a sparse and a dense region. This poses the question of what type of neighborhood graph to use, e.g. it is conceivable that cells in the sparse region should just be singletons. Furthermore, it is unclear what the length scale of their influence might be. It might depend on the cell type and how contact and secreted signals are used in the cell type, and length scale of the influence. If k nearest neighbors are used, then the neighbors in the dense region are much closer together than those in the sparse region. If distance based neighbors are used, then cells in the dense region will have more neighbors than cells in the sparse region, and the sparse region can break into multiple compartments if the distance cutoff is not long enough. \n",
    "\n",
    "For the purpose of demonstration, we use k nearest neighbors with $k = 5$, with inverse distance weighting. Note that using more neighbors leads to longer computation time of spatial autocorrelation metrics."
   ]
  },
  {
   "cell_type": "code",
   "execution_count": null,
<<<<<<< HEAD
<<<<<<< HEAD
   "id": "2aaa68eb",
||||||| 00f6fb22
   "id": "69817344",
=======
   "id": "25230cd9",
>>>>>>> documentation-devel
||||||| d828f8eb
   "id": "2aaa68eb",
=======
   "id": "1284ef18",
>>>>>>> 6c25d2f1afd31725c9595ab9d8922b9d3c838629
   "metadata": {},
   "outputs": [],
   "source": [
    "system.time(\n",
    "    colGraph(sfe, \"knn5\") <- findSpatialNeighbors(sfe, method = \"knearneigh\", \n",
    "                                                  dist_type = \"idw\", k = 5, \n",
    "                                                  style = \"W\")\n",
    ")"
   ]
  },
  {
   "cell_type": "code",
   "execution_count": null,
<<<<<<< HEAD
<<<<<<< HEAD
   "id": "52c0a56a",
||||||| 00f6fb22
   "id": "bcd19856",
=======
   "id": "a6b6c280",
>>>>>>> documentation-devel
||||||| d828f8eb
   "id": "52c0a56a",
=======
   "id": "4ef706d4",
>>>>>>> 6c25d2f1afd31725c9595ab9d8922b9d3c838629
   "metadata": {},
   "outputs": [],
   "source": [
    "sfe <- colDataMoransI(sfe, c(\"nCounts\", \"nGenes\", \"cell_area\", \"nucleus_area\"),\n",
    "                      colGraphName = \"knn5\")"
   ]
  },
  {
   "cell_type": "code",
   "execution_count": null,
<<<<<<< HEAD
<<<<<<< HEAD
   "id": "ea3fbdf5",
||||||| 00f6fb22
   "id": "12ea51c8",
=======
   "id": "6fbd5522",
>>>>>>> documentation-devel
||||||| d828f8eb
   "id": "ea3fbdf5",
=======
   "id": "b640d381",
>>>>>>> 6c25d2f1afd31725c9595ab9d8922b9d3c838629
   "metadata": {},
   "outputs": [],
   "source": [
    "colFeatureData(sfe)[c(\"nCounts\", \"nGenes\", \"cell_area\", \"nucleus_area\"),]"
   ]
  },
  {
   "cell_type": "markdown",
<<<<<<< HEAD
<<<<<<< HEAD
   "id": "bc72af54",
||||||| 00f6fb22
   "id": "028d3ddd",
=======
   "id": "3b6a76f3",
>>>>>>> documentation-devel
||||||| d828f8eb
   "id": "bc72af54",
=======
   "id": "405bed6f",
>>>>>>> 6c25d2f1afd31725c9595ab9d8922b9d3c838629
   "metadata": {},
   "source": [
    "Global Moran's I indicatse positive spatial autocorrelation. As the strength of spatial autocorrelation can vary spatially, we also run local Moran's I."
   ]
  },
  {
   "cell_type": "code",
   "execution_count": null,
<<<<<<< HEAD
<<<<<<< HEAD
   "id": "680dc2d7",
||||||| 00f6fb22
   "id": "63be034c",
=======
   "id": "a03a05b2",
>>>>>>> documentation-devel
||||||| d828f8eb
   "id": "680dc2d7",
=======
   "id": "b43bcf57",
>>>>>>> 6c25d2f1afd31725c9595ab9d8922b9d3c838629
   "metadata": {},
   "outputs": [],
   "source": [
    "sfe <- colDataUnivariate(sfe, type = \"localmoran\", \n",
    "                         features = c(\"nCounts\", \"nGenes\", \"cell_area\", \n",
    "                                      \"nucleus_area\"),\n",
    "                         colGraphName = \"knn5\", BPPARAM = MulticoreParam(2))"
   ]
  },
  {
   "cell_type": "markdown",
<<<<<<< HEAD
<<<<<<< HEAD
   "id": "421d721d",
||||||| 00f6fb22
   "id": "5ad623d9",
=======
   "id": "4105f505",
>>>>>>> documentation-devel
||||||| d828f8eb
   "id": "421d721d",
=======
   "id": "b12297f1",
>>>>>>> 6c25d2f1afd31725c9595ab9d8922b9d3c838629
   "metadata": {
    "lines_to_next_cell": 0
   },
   "source": [
    "The `pointsize` argument adjusts the point size in `scattermore`. The default is 0, meaning single pixels, but since the cells in the sparse region are hard to see that way, we increase `pointsize`. We would still plot the polygons in larger single panel plots, but use `scattermore` in multi-panel plots where the polygons in each panel are invisible anyway due to the small size to save some time."
   ]
  },
  {
   "cell_type": "code",
   "execution_count": null,
<<<<<<< HEAD
<<<<<<< HEAD
   "id": "490ce701",
||||||| 00f6fb22
   "id": "cb7d0383",
=======
   "id": "33e14541",
>>>>>>> documentation-devel
||||||| d828f8eb
   "id": "490ce701",
=======
   "id": "66585d99",
>>>>>>> 6c25d2f1afd31725c9595ab9d8922b9d3c838629
   "metadata": {
    "fig.height": 6,
    "fig.width": 9
   },
   "outputs": [],
   "source": [
    "plotLocalResult(sfe, \"localmoran\",\n",
    "                features = c(\"nCounts\", \"nGenes\", \"cell_area\", \"nucleus_area\"),\n",
    "                colGeometryName = \"centroids\", scattermore = TRUE,\n",
    "                divergent = TRUE, diverge_center = 0, pointsize = 1)"
   ]
  },
  {
   "cell_type": "markdown",
<<<<<<< HEAD
<<<<<<< HEAD
   "id": "b9757db3",
||||||| 00f6fb22
   "id": "5d718665",
=======
   "id": "8bc0c0e6",
>>>>>>> documentation-devel
||||||| d828f8eb
   "id": "b9757db3",
=======
   "id": "39c72d44",
>>>>>>> 6c25d2f1afd31725c9595ab9d8922b9d3c838629
   "metadata": {
    "lines_to_next_cell": 0
   },
   "source": [
    "Interestingly, nCounts is more homogeneous in the interior of the dense region, while nGenes is more homogeneous by the edge of the dense region. As expected, cell area is more homogeneous in the sparse region. However, the nucleus area is more homogeneous in the interior of the dense region. \n",
    "\n",
    "Moran plot for nCounts"
   ]
  },
  {
   "cell_type": "code",
   "execution_count": null,
<<<<<<< HEAD
<<<<<<< HEAD
   "id": "fc272d4c",
||||||| 00f6fb22
   "id": "d29ff6f3",
=======
   "id": "8891e9e9",
>>>>>>> documentation-devel
||||||| d828f8eb
   "id": "fc272d4c",
=======
   "id": "a1d87dc8",
>>>>>>> 6c25d2f1afd31725c9595ab9d8922b9d3c838629
   "metadata": {},
   "outputs": [],
   "source": [
    "sfe <- colDataUnivariate(sfe, \"moran.plot\", \"nCounts\", colGraphName = \"knn5\")"
   ]
  },
  {
   "cell_type": "code",
   "execution_count": null,
<<<<<<< HEAD
<<<<<<< HEAD
   "id": "f5456ed2",
||||||| 00f6fb22
   "id": "116758c0",
=======
   "id": "8a5a6eb4",
>>>>>>> documentation-devel
||||||| d828f8eb
   "id": "f5456ed2",
=======
   "id": "6bb15955",
>>>>>>> 6c25d2f1afd31725c9595ab9d8922b9d3c838629
   "metadata": {
    "fig.height": 7,
    "fig.width": 8
   },
   "outputs": [],
   "source": [
    "p1 <- moranPlot(sfe, \"nCounts\", binned = TRUE, plot_influential = FALSE) \n",
    "p2 <- moranPlot(sfe, \"nCounts\", binned = TRUE)\n",
    "p1 / p2 + plot_layout(guides = \"collect\")"
   ]
  },
  {
   "cell_type": "markdown",
<<<<<<< HEAD
<<<<<<< HEAD
   "id": "0e42b5e6",
||||||| 00f6fb22
   "id": "4636a620",
=======
   "id": "67ebb05c",
>>>>>>> documentation-devel
||||||| d828f8eb
   "id": "0e42b5e6",
=======
   "id": "737acc08",
>>>>>>> 6c25d2f1afd31725c9595ab9d8922b9d3c838629
   "metadata": {},
   "source": [
    "There are no obvious clusters here. In the lower panel, the 2D histogram of influential points is plotted in red.\n",
    "\n",
    "# Moran's I\n",
    "\n",
    "By default, for gene expression, the log normalized counts are used in spatial autocorrelation metrics, so before running Moran's I, we normalize the data."
   ]
  },
  {
   "cell_type": "code",
   "execution_count": null,
<<<<<<< HEAD
<<<<<<< HEAD
   "id": "425e00be",
||||||| 00f6fb22
   "id": "f9b24b0b",
=======
   "id": "0cde475f",
>>>>>>> documentation-devel
||||||| d828f8eb
   "id": "425e00be",
=======
   "id": "6e836ac3",
>>>>>>> 6c25d2f1afd31725c9595ab9d8922b9d3c838629
   "metadata": {},
   "outputs": [],
   "source": [
    "sfe <- logNormCounts(sfe)"
   ]
  },
  {
   "cell_type": "markdown",
<<<<<<< HEAD
<<<<<<< HEAD
   "id": "a1afadfe",
||||||| 00f6fb22
   "id": "537a9582",
=======
   "id": "da88dfbe",
>>>>>>> documentation-devel
||||||| d828f8eb
   "id": "a1afadfe",
=======
   "id": "4ec3f641",
>>>>>>> 6c25d2f1afd31725c9595ab9d8922b9d3c838629
   "metadata": {
    "lines_to_next_cell": 0
   },
   "source": [
    "Use more cores if available to speed this up."
   ]
  },
  {
   "cell_type": "code",
   "execution_count": null,
<<<<<<< HEAD
<<<<<<< HEAD
   "id": "5b1b4021",
||||||| 00f6fb22
   "id": "8d1eb6f8",
=======
   "id": "8acb5ff8",
>>>>>>> documentation-devel
||||||| d828f8eb
   "id": "5b1b4021",
=======
   "id": "8093c5e9",
>>>>>>> 6c25d2f1afd31725c9595ab9d8922b9d3c838629
   "metadata": {},
   "outputs": [],
   "source": [
    "system.time(\n",
    "    sfe <- runMoransI(sfe, colGraphName = \"knn5\", BPPARAM = MulticoreParam(2))\n",
    ")"
   ]
  },
  {
   "cell_type": "code",
   "execution_count": null,
<<<<<<< HEAD
<<<<<<< HEAD
   "id": "3b6909bc",
||||||| 00f6fb22
   "id": "3a3d1139",
=======
   "id": "b6f69f50",
>>>>>>> documentation-devel
||||||| d828f8eb
   "id": "3b6909bc",
=======
   "id": "e7e55cdd",
>>>>>>> 6c25d2f1afd31725c9595ab9d8922b9d3c838629
   "metadata": {},
   "outputs": [],
   "source": [
    "rowData(sfe)$is_neg <- is_any_neg"
   ]
  },
  {
   "cell_type": "code",
   "execution_count": null,
<<<<<<< HEAD
<<<<<<< HEAD
   "id": "2974e7ec",
||||||| 00f6fb22
   "id": "234bfdd2",
=======
   "id": "1e5eb2bd",
>>>>>>> documentation-devel
||||||| d828f8eb
   "id": "2974e7ec",
=======
   "id": "19249e62",
>>>>>>> 6c25d2f1afd31725c9595ab9d8922b9d3c838629
   "metadata": {},
   "outputs": [],
   "source": [
    "plotRowData(sfe, x = \"moran_sample01\", y = \"is_neg\")"
   ]
  },
  {
   "cell_type": "markdown",
<<<<<<< HEAD
<<<<<<< HEAD
   "id": "5277fa4b",
||||||| 00f6fb22
   "id": "44f60557",
=======
   "id": "ef47e9b9",
>>>>>>> documentation-devel
||||||| d828f8eb
   "id": "5277fa4b",
=======
   "id": "d2df344f",
>>>>>>> 6c25d2f1afd31725c9595ab9d8922b9d3c838629
   "metadata": {
    "lines_to_next_cell": 0
   },
   "source": [
    "As expected, generally the negative controls are tightly clustered around 0, while the real genes have positive Moran's I, which means there is generally no technical artifact spatial trend. No significantly negative Moran's I is observed. Why is negative spatial autocorrelation so rare in gene expression?\n",
    "\n",
    "What are the two negative controls with a sizable Moran's I?"
   ]
  },
  {
   "cell_type": "code",
   "execution_count": null,
<<<<<<< HEAD
<<<<<<< HEAD
   "id": "e329cc7a",
||||||| 00f6fb22
   "id": "aab11a0e",
=======
   "id": "66b06258",
>>>>>>> documentation-devel
||||||| d828f8eb
   "id": "e329cc7a",
=======
   "id": "77c5790d",
>>>>>>> 6c25d2f1afd31725c9595ab9d8922b9d3c838629
   "metadata": {
    "fig.height": 3,
    "fig.width": 9
   },
   "outputs": [],
   "source": [
    "ord <- order(rowData(sfe)$moran_sample01[is_any_neg], decreasing = TRUE)[1:2]\n",
    "top_neg <- rownames(sfe)[is_any_neg][ord]\n",
    "plotSpatialFeature(sfe, top_neg, colGeometryName = \"centroids\",\n",
    "                   scattermore = TRUE, pointsize = 1)"
   ]
  },
  {
   "cell_type": "markdown",
<<<<<<< HEAD
<<<<<<< HEAD
   "id": "30841e6a",
||||||| 00f6fb22
   "id": "22dc80e3",
=======
   "id": "de91fab2",
>>>>>>> documentation-devel
||||||| d828f8eb
   "id": "30841e6a",
=======
   "id": "a4f19cdf",
>>>>>>> 6c25d2f1afd31725c9595ab9d8922b9d3c838629
   "metadata": {
    "lines_to_next_cell": 0
   },
   "source": [
    "There is somewhat a spatial trend for that antisense probe, with more detected in the upper left. However, this might not significantly affect other results since there are at most 2 counts and at most about 1% of all counts in each cell. The negative control codeword has at most 1 count per cell and the cells with this negative control detected seem to be few and far between. \n",
    "\n",
    "These are the most detected negative controls, and the most detected one is also the one with the highest Moran's I among negative controls. However, the other negative control with higher Moran's I is not among the most detected."
   ]
  },
  {
   "cell_type": "code",
   "execution_count": null,
<<<<<<< HEAD
<<<<<<< HEAD
   "id": "32c7e8b6",
||||||| 00f6fb22
   "id": "a1128259",
=======
   "id": "aa286b1c",
>>>>>>> documentation-devel
||||||| d828f8eb
   "id": "32c7e8b6",
=======
   "id": "0f2fed82",
>>>>>>> 6c25d2f1afd31725c9595ab9d8922b9d3c838629
   "metadata": {},
   "outputs": [],
   "source": [
    "head(sort(rowData(sfe)$means[is_any_neg], decreasing = TRUE), 15)"
   ]
  },
  {
   "cell_type": "markdown",
<<<<<<< HEAD
<<<<<<< HEAD
   "id": "796a3520",
||||||| 00f6fb22
   "id": "72bc50b9",
=======
   "id": "428c9979",
>>>>>>> documentation-devel
||||||| d828f8eb
   "id": "796a3520",
=======
   "id": "c6e33fa7",
>>>>>>> 6c25d2f1afd31725c9595ab9d8922b9d3c838629
   "metadata": {
    "lines_to_next_cell": 0
   },
   "source": [
    "What are the genes with the highest Moran's I?"
   ]
  },
  {
   "cell_type": "code",
   "execution_count": null,
<<<<<<< HEAD
<<<<<<< HEAD
   "id": "012caf89",
||||||| 00f6fb22
   "id": "e081588f",
=======
   "id": "eee81c17",
>>>>>>> documentation-devel
||||||| d828f8eb
   "id": "012caf89",
=======
   "id": "339cd2fc",
>>>>>>> 6c25d2f1afd31725c9595ab9d8922b9d3c838629
   "metadata": {
    "fig.height": 9,
    "fig.width": 9
   },
   "outputs": [],
   "source": [
    "top_moran <- rownames(sfe)[order(rowData(sfe)$moran_sample01, decreasing = TRUE)[1:6]]\n",
    "plotSpatialFeature(sfe, top_moran, colGeometryName = \"centroids\",\n",
    "                   scattermore = TRUE, ncol = 2, pointsize = 0.5)"
   ]
  },
  {
   "cell_type": "markdown",
<<<<<<< HEAD
<<<<<<< HEAD
   "id": "f717bcac",
||||||| 00f6fb22
   "id": "476a9096",
=======
   "id": "d249131a",
>>>>>>> documentation-devel
||||||| d828f8eb
   "id": "f717bcac",
=======
   "id": "5668a736",
>>>>>>> 6c25d2f1afd31725c9595ab9d8922b9d3c838629
   "metadata": {
    "lines_to_next_cell": 0
   },
   "source": [
    "They all highlight the same histological regions, as in the [CosMX vignette](https://pachterlab.github.io/voyager/articles/vig4_cosmx.html#morans-i). How does Moran's I relate to gene expression level?"
   ]
  },
  {
   "cell_type": "code",
   "execution_count": null,
<<<<<<< HEAD
<<<<<<< HEAD
   "id": "94a05ae9",
||||||| 00f6fb22
   "id": "593aa8be",
=======
   "id": "00b1da72",
>>>>>>> documentation-devel
||||||| d828f8eb
   "id": "94a05ae9",
=======
   "id": "674e07b2",
>>>>>>> 6c25d2f1afd31725c9595ab9d8922b9d3c838629
   "metadata": {},
   "outputs": [],
   "source": [
    "plotRowData(sfe, x = \"means\", y = \"moran_sample01\")"
   ]
  },
  {
   "cell_type": "markdown",
<<<<<<< HEAD
<<<<<<< HEAD
   "id": "709593a8",
||||||| 00f6fb22
   "id": "24334f69",
=======
   "id": "a9e75d5d",
>>>>>>> documentation-devel
||||||| d828f8eb
   "id": "709593a8",
=======
   "id": "198977c2",
>>>>>>> 6c25d2f1afd31725c9595ab9d8922b9d3c838629
   "metadata": {
    "lines_to_next_cell": 0
   },
   "source": [
    "Very highly expressed genes have higher Moran's I, but there are some less expressed genes with higher Moran's I as well.\n",
    "\n",
    "# Non-spatial dimension reduction and clustering\n",
    "\n",
    "Here we run non-spatial PCA as for scRNA-seq data"
   ]
  },
  {
   "cell_type": "code",
   "execution_count": null,
<<<<<<< HEAD
<<<<<<< HEAD
   "id": "8f23909f",
||||||| 00f6fb22
   "id": "0311f960",
=======
   "id": "4c1cfc31",
>>>>>>> documentation-devel
||||||| d828f8eb
   "id": "8f23909f",
=======
   "id": "0d395f6d",
>>>>>>> 6c25d2f1afd31725c9595ab9d8922b9d3c838629
   "metadata": {},
   "outputs": [],
   "source": [
    "set.seed(29)\n",
    "sfe <- runPCA(sfe, ncomponents = 30, scale = TRUE, BSPARAM = IrlbaParam())"
   ]
  },
  {
   "cell_type": "code",
   "execution_count": null,
<<<<<<< HEAD
<<<<<<< HEAD
   "id": "29a6a009",
||||||| 00f6fb22
   "id": "37de0fe9",
=======
   "id": "0cdcaa01",
>>>>>>> documentation-devel
||||||| d828f8eb
   "id": "29a6a009",
=======
   "id": "e299c824",
>>>>>>> 6c25d2f1afd31725c9595ab9d8922b9d3c838629
   "metadata": {},
   "outputs": [],
   "source": [
    "ElbowPlot(sfe, ndims = 30)"
   ]
  },
  {
   "cell_type": "code",
   "execution_count": null,
<<<<<<< HEAD
<<<<<<< HEAD
   "id": "cdd821a4",
||||||| 00f6fb22
   "id": "9157aff2",
=======
   "id": "c4dab6bf",
>>>>>>> documentation-devel
||||||| d828f8eb
   "id": "cdd821a4",
=======
   "id": "73c60838",
>>>>>>> 6c25d2f1afd31725c9595ab9d8922b9d3c838629
   "metadata": {},
   "outputs": [],
   "source": [
    "plotDimLoadings(sfe, dims = 1:6)"
   ]
  },
  {
   "cell_type": "code",
   "execution_count": null,
<<<<<<< HEAD
<<<<<<< HEAD
   "id": "f5ce6474",
||||||| 00f6fb22
   "id": "e1ed5301",
=======
   "id": "6bc1e6c7",
>>>>>>> documentation-devel
||||||| d828f8eb
   "id": "f5ce6474",
=======
   "id": "32397e25",
>>>>>>> 6c25d2f1afd31725c9595ab9d8922b9d3c838629
   "metadata": {
    "fig.height": 9,
    "fig.width": 9
   },
   "outputs": [],
   "source": [
    "spatialReducedDim(sfe, \"PCA\", 6, colGeometryName = \"centroids\", divergent = TRUE,\n",
    "                  diverge_center = 0, ncol = 2, scattermore = TRUE, pointsize = 0.5)"
   ]
  },
  {
   "cell_type": "markdown",
<<<<<<< HEAD
<<<<<<< HEAD
   "id": "f0a85bb0",
||||||| 00f6fb22
   "id": "e8f3a645",
=======
   "id": "37fc81bb",
>>>>>>> documentation-devel
||||||| d828f8eb
   "id": "f0a85bb0",
=======
   "id": "f52db781",
>>>>>>> 6c25d2f1afd31725c9595ab9d8922b9d3c838629
   "metadata": {
    "lines_to_next_cell": 0
   },
   "source": [
    "While spatial region is not explicitly used, the PC's highlight spatial regions due to spatial autocorrelation in gene expression and histological regions with different cell types.\n",
    "\n",
    "Non-spatial clustering and locating the clusters in space"
   ]
  },
  {
   "cell_type": "code",
   "execution_count": null,
<<<<<<< HEAD
<<<<<<< HEAD
   "id": "3949ce72",
||||||| 00f6fb22
   "id": "d777297c",
=======
   "id": "b2eb7c00",
>>>>>>> documentation-devel
||||||| d828f8eb
   "id": "3949ce72",
=======
   "id": "c2896b32",
>>>>>>> 6c25d2f1afd31725c9595ab9d8922b9d3c838629
   "metadata": {},
   "outputs": [],
   "source": [
    "colData(sfe)$cluster <- clusterRows(reducedDim(sfe, \"PCA\")[,1:15],\n",
    "                                    BLUSPARAM = SNNGraphParam(\n",
    "                                        cluster.fun = \"leiden\",\n",
    "                                        cluster.args = list(\n",
    "                                            resolution_parameter = 0.5,\n",
    "                                            objective_function = \"modularity\")))"
   ]
  },
  {
   "cell_type": "markdown",
<<<<<<< HEAD
<<<<<<< HEAD
   "id": "129bbb4e",
||||||| 00f6fb22
   "id": "93fdf1fc",
=======
   "id": "38bc225b",
>>>>>>> documentation-devel
||||||| d828f8eb
   "id": "129bbb4e",
=======
   "id": "40f9fa96",
>>>>>>> 6c25d2f1afd31725c9595ab9d8922b9d3c838629
   "metadata": {
    "lines_to_next_cell": 0
   },
   "source": [
    "Now the `scater` can also rasterize the plots with lots of points with the `rasterise` argument, but with a different mechanism from `scattermore` that requires more system dependencies. "
   ]
  },
  {
   "cell_type": "code",
   "execution_count": null,
<<<<<<< HEAD
<<<<<<< HEAD
   "id": "8f458a8a",
||||||| 00f6fb22
   "id": "422705fa",
=======
   "id": "5bba7133",
>>>>>>> documentation-devel
||||||| d828f8eb
   "id": "8f458a8a",
=======
   "id": "9c151ba1",
>>>>>>> 6c25d2f1afd31725c9595ab9d8922b9d3c838629
   "metadata": {
    "fig.height": 8,
    "fig.width": 8
   },
   "outputs": [],
   "source": [
    "plotPCA(sfe, ncomponents = 4, colour_by = \"cluster\", rasterise = FALSE)"
   ]
  },
  {
   "cell_type": "markdown",
<<<<<<< HEAD
<<<<<<< HEAD
   "id": "9be05a1a",
||||||| 00f6fb22
   "id": "b86c759b",
=======
   "id": "f48537ef",
>>>>>>> documentation-devel
||||||| d828f8eb
   "id": "9be05a1a",
=======
   "id": "cf673dbc",
>>>>>>> 6c25d2f1afd31725c9595ab9d8922b9d3c838629
   "metadata": {
    "lines_to_next_cell": 0
   },
   "source": [
    "Plot the location of the clusters in space"
   ]
  },
  {
   "cell_type": "code",
   "execution_count": null,
<<<<<<< HEAD
<<<<<<< HEAD
   "id": "baf3ef01",
||||||| 00f6fb22
   "id": "43af1c77",
=======
   "id": "3cb01415",
>>>>>>> documentation-devel
||||||| d828f8eb
   "id": "baf3ef01",
=======
   "id": "ca4cabe6",
>>>>>>> 6c25d2f1afd31725c9595ab9d8922b9d3c838629
   "metadata": {},
   "outputs": [],
   "source": [
    "plotSpatialFeature(sfe, \"cluster\", colGeometryName = \"cellSeg\")"
   ]
  },
  {
   "cell_type": "markdown",
<<<<<<< HEAD
<<<<<<< HEAD
   "id": "7b951042",
||||||| 00f6fb22
   "id": "909f8f05",
=======
   "id": "a39f9ae5",
>>>>>>> documentation-devel
||||||| d828f8eb
   "id": "7b951042",
=======
   "id": "a87b7354",
>>>>>>> 6c25d2f1afd31725c9595ab9d8922b9d3c838629
   "metadata": {
    "lines_to_next_cell": 0
   },
   "source": [
    "# Differential expression\n",
    "Cluster marker genes are found with Wilcoxon rank sum test as commonly done for scRNA-seq."
   ]
  },
  {
   "cell_type": "code",
   "execution_count": null,
<<<<<<< HEAD
<<<<<<< HEAD
   "id": "e1e97c14",
||||||| 00f6fb22
   "id": "1cf49faf",
=======
   "id": "980e4010",
>>>>>>> documentation-devel
||||||| d828f8eb
   "id": "e1e97c14",
=======
   "id": "e8cd4a39",
>>>>>>> 6c25d2f1afd31725c9595ab9d8922b9d3c838629
   "metadata": {},
   "outputs": [],
   "source": [
    "markers <- findMarkers(sfe, groups = colData(sfe)$cluster,\n",
    "                       test.type = \"wilcox\", pval.type = \"all\", direction = \"up\")"
   ]
  },
  {
   "cell_type": "markdown",
<<<<<<< HEAD
<<<<<<< HEAD
   "id": "7c884e4f",
||||||| 00f6fb22
   "id": "936bbced",
=======
   "id": "912cf825",
>>>>>>> documentation-devel
||||||| d828f8eb
   "id": "7c884e4f",
=======
   "id": "f5578ad6",
>>>>>>> 6c25d2f1afd31725c9595ab9d8922b9d3c838629
   "metadata": {
    "lines_to_next_cell": 0
   },
   "source": [
    "It's already sorted by p-values:"
   ]
  },
  {
   "cell_type": "code",
   "execution_count": null,
<<<<<<< HEAD
<<<<<<< HEAD
   "id": "e74c9865",
||||||| 00f6fb22
   "id": "3e53f63c",
=======
   "id": "35a69d90",
>>>>>>> documentation-devel
||||||| d828f8eb
   "id": "e74c9865",
=======
   "id": "577ef422",
>>>>>>> 6c25d2f1afd31725c9595ab9d8922b9d3c838629
   "metadata": {},
   "outputs": [],
   "source": [
    "markers[[6]]"
   ]
  },
  {
   "cell_type": "markdown",
<<<<<<< HEAD
<<<<<<< HEAD
   "id": "b586588d",
||||||| 00f6fb22
   "id": "dc36794c",
=======
   "id": "5df0a431",
>>>>>>> documentation-devel
||||||| d828f8eb
   "id": "b586588d",
=======
   "id": "266dc04d",
>>>>>>> 6c25d2f1afd31725c9595ab9d8922b9d3c838629
   "metadata": {
    "lines_to_next_cell": 0
   },
   "source": [
    "The code below extracts the significant markers for each cluster:"
   ]
  },
  {
   "cell_type": "code",
   "execution_count": null,
<<<<<<< HEAD
<<<<<<< HEAD
   "id": "fb1b6bef",
||||||| 00f6fb22
   "id": "d0403e0c",
=======
   "id": "c9a8c736",
>>>>>>> documentation-devel
||||||| d828f8eb
   "id": "fb1b6bef",
=======
   "id": "b00a7f13",
>>>>>>> 6c25d2f1afd31725c9595ab9d8922b9d3c838629
   "metadata": {},
   "outputs": [],
   "source": [
    "genes_use <- vapply(markers, function(x) rownames(x)[1], FUN.VALUE = character(1))\n",
    "plotExpression(sfe, genes_use, x = \"cluster\", point_fun = function(...) list())"
   ]
  },
  {
   "cell_type": "markdown",
<<<<<<< HEAD
<<<<<<< HEAD
   "id": "e9227078",
||||||| 00f6fb22
   "id": "45df794f",
=======
   "id": "d8589bd3",
>>>>>>> documentation-devel
||||||| d828f8eb
   "id": "e9227078",
=======
   "id": "42179c82",
>>>>>>> 6c25d2f1afd31725c9595ab9d8922b9d3c838629
   "metadata": {
    "lines_to_next_cell": 0
   },
   "source": [
    "This allows for plotting more top marker genes in a heatmap:"
   ]
  },
  {
   "cell_type": "code",
   "execution_count": null,
<<<<<<< HEAD
<<<<<<< HEAD
   "id": "625448b8",
||||||| 00f6fb22
   "id": "95e67cbb",
=======
   "id": "f9c0e1a4",
>>>>>>> documentation-devel
||||||| d828f8eb
   "id": "625448b8",
=======
   "id": "d8e5226c",
>>>>>>> 6c25d2f1afd31725c9595ab9d8922b9d3c838629
   "metadata": {
    "fig.height": 8,
    "fig.width": 6
   },
   "outputs": [],
   "source": [
    "genes_use2 <- unique(unlist(lapply(markers, function(x) rownames(x)[1:5])))\n",
    "plotGroupedHeatmap(sfe, genes_use2, group = \"cluster\", colour = scales::viridis_pal()(100))"
   ]
  },
  {
   "cell_type": "markdown",
<<<<<<< HEAD
<<<<<<< HEAD
   "id": "ceb14db3",
||||||| 00f6fb22
   "id": "91c98ea4",
=======
   "id": "65068bd9",
>>>>>>> documentation-devel
||||||| d828f8eb
   "id": "ceb14db3",
=======
   "id": "0ee65af4",
>>>>>>> 6c25d2f1afd31725c9595ab9d8922b9d3c838629
   "metadata": {
    "lines_to_next_cell": 0
   },
   "source": [
    "# Local spatial statistics of marker genes\n",
    "\n",
    "First we plot those genes in space as a reference"
   ]
  },
  {
   "cell_type": "code",
   "execution_count": null,
<<<<<<< HEAD
<<<<<<< HEAD
   "id": "e6728969",
||||||| 00f6fb22
   "id": "080c212e",
=======
   "id": "0fde131b",
>>>>>>> documentation-devel
||||||| d828f8eb
   "id": "e6728969",
=======
   "id": "4eb4792c",
>>>>>>> 6c25d2f1afd31725c9595ab9d8922b9d3c838629
   "metadata": {
    "fig.height": 9,
    "fig.width": 9
   },
   "outputs": [],
   "source": [
    "plotSpatialFeature(sfe, genes_use, colGeometryName = \"centroids\", ncol = 3,\n",
    "                   pointsize = 0.3, scattermore = TRUE)"
   ]
  },
  {
   "cell_type": "markdown",
<<<<<<< HEAD
<<<<<<< HEAD
   "id": "e538cff1",
||||||| 00f6fb22
   "id": "f20058cc",
=======
   "id": "dfcb603b",
>>>>>>> documentation-devel
||||||| d828f8eb
   "id": "e538cff1",
=======
   "id": "3771bb9c",
>>>>>>> 6c25d2f1afd31725c9595ab9d8922b9d3c838629
   "metadata": {},
   "source": [
    "Global Moran's I of these marker genes is shown below:"
   ]
  },
  {
   "cell_type": "code",
   "execution_count": null,
<<<<<<< HEAD
<<<<<<< HEAD
   "id": "560cef63",
||||||| 00f6fb22
   "id": "9b93da8f",
=======
   "id": "cbcc19c2",
>>>>>>> documentation-devel
||||||| d828f8eb
   "id": "560cef63",
=======
   "id": "41a50f24",
>>>>>>> 6c25d2f1afd31725c9595ab9d8922b9d3c838629
   "metadata": {},
   "outputs": [],
   "source": [
    "setNames(rowData(sfe)[genes_use, \"moran_sample01\"], genes_use)"
   ]
  },
  {
   "cell_type": "markdown",
<<<<<<< HEAD
<<<<<<< HEAD
   "id": "441d5c70",
||||||| 00f6fb22
   "id": "17e02a0d",
=======
   "id": "36feec9f",
>>>>>>> documentation-devel
||||||| d828f8eb
   "id": "441d5c70",
=======
   "id": "d9b7478d",
>>>>>>> 6c25d2f1afd31725c9595ab9d8922b9d3c838629
   "metadata": {
    "lines_to_next_cell": 0
   },
   "source": [
    "All these marker genes have positive spatial autocorrelation, but some stronger than others.\n",
    "\n",
    "Local Moran's I of these marker genes is shown below:"
   ]
  },
  {
   "cell_type": "code",
   "execution_count": null,
<<<<<<< HEAD
<<<<<<< HEAD
   "id": "c909a11a",
||||||| 00f6fb22
   "id": "cd984354",
=======
   "id": "45792569",
>>>>>>> documentation-devel
||||||| d828f8eb
   "id": "c909a11a",
=======
   "id": "6049e7fd",
>>>>>>> 6c25d2f1afd31725c9595ab9d8922b9d3c838629
   "metadata": {},
   "outputs": [],
   "source": [
    "sfe <- runUnivariate(sfe, \"localmoran\", features = genes_use, colGraphName = \"knn5\",\n",
    "                     BPPARAM = MulticoreParam(2))"
   ]
  },
  {
   "cell_type": "code",
   "execution_count": null,
<<<<<<< HEAD
<<<<<<< HEAD
   "id": "53cdbc6b",
||||||| 00f6fb22
   "id": "2db230d5",
=======
   "id": "e59e0c60",
>>>>>>> documentation-devel
||||||| d828f8eb
   "id": "53cdbc6b",
=======
   "id": "29a04c98",
>>>>>>> 6c25d2f1afd31725c9595ab9d8922b9d3c838629
   "metadata": {
    "fig.height": 9,
    "fig.width": 9
   },
   "outputs": [],
   "source": [
    "plotLocalResult(sfe, \"localmoran\", features = genes_use, \n",
    "                colGeometryName = \"centroids\", ncol = 3, divergent = TRUE,\n",
    "                diverge_center = 0, scattermore = TRUE, pointsize = 0.3)"
   ]
  },
  {
   "cell_type": "markdown",
<<<<<<< HEAD
<<<<<<< HEAD
   "id": "32b69d28",
||||||| 00f6fb22
   "id": "4cce3994",
=======
   "id": "193ebb7d",
>>>>>>> documentation-devel
||||||| d828f8eb
   "id": "32b69d28",
=======
   "id": "f7cf95d1",
>>>>>>> 6c25d2f1afd31725c9595ab9d8922b9d3c838629
   "metadata": {
    "lines_to_next_cell": 0
   },
   "source": [
    "It seems that some histological regions tend to be more spatially homogenous in gene expression than others. The epithelial region tends to be more homogenous. For some genes, regions with higher expression also have higher local Moran's I, such as FOXA1 and GATA3, while for some genes, this is not the case, such as FGL2 and LUM. \n",
    "\n",
    "Finally, we assess local spatial heteroscdasticity (LOSH) for these marker genes to find local heterogeneity:"
   ]
  },
  {
   "cell_type": "code",
   "execution_count": null,
<<<<<<< HEAD
<<<<<<< HEAD
   "id": "a55a6335",
||||||| 00f6fb22
   "id": "c4e5a5ef",
=======
   "id": "178f4085",
>>>>>>> documentation-devel
||||||| d828f8eb
   "id": "a55a6335",
=======
   "id": "9c210eaf",
>>>>>>> 6c25d2f1afd31725c9595ab9d8922b9d3c838629
   "metadata": {},
   "outputs": [],
   "source": [
    "sfe <- runUnivariate(sfe, \"LOSH\", features = genes_use, colGraphName = \"knn5\",\n",
    "                     BPPARAM = MulticoreParam(2))"
   ]
  },
  {
   "cell_type": "code",
   "execution_count": null,
<<<<<<< HEAD
<<<<<<< HEAD
   "id": "b1b101c7",
||||||| 00f6fb22
   "id": "4fbf03fb",
=======
   "id": "c08e14f5",
>>>>>>> documentation-devel
||||||| d828f8eb
   "id": "b1b101c7",
=======
   "id": "88ad436d",
>>>>>>> 6c25d2f1afd31725c9595ab9d8922b9d3c838629
   "metadata": {
    "fig.height": 9,
    "fig.width": 9
   },
   "outputs": [],
   "source": [
    "plotLocalResult(sfe, \"LOSH\", features = genes_use, \n",
    "                colGeometryName = \"centroids\", ncol = 3, scattermore = TRUE, \n",
    "                pointsize = 0.3)"
   ]
  },
  {
   "cell_type": "markdown",
<<<<<<< HEAD
<<<<<<< HEAD
   "id": "cf79e595",
||||||| 00f6fb22
   "id": "9f43a1c5",
=======
   "id": "3915f584",
>>>>>>> documentation-devel
||||||| d828f8eb
   "id": "cf79e595",
=======
   "id": "c3ef3734",
>>>>>>> 6c25d2f1afd31725c9595ab9d8922b9d3c838629
   "metadata": {
    "lines_to_next_cell": 0
   },
   "source": [
    "Again, just like in the [CosMX dataset](https://pachterlab.github.io/voyager/articles/vig4_cosmx.html#local-spatial-statistics-of-marker-genes), LOSH is higher where the gene is more highly expressed in some (e.g. CD3E, LUM, TENT5C) but not all cases (e.g. FOXA1, GATA3). This may be due to spatial distribution of different cell types.\n",
    "\n",
    "# Session info"
   ]
  },
  {
   "cell_type": "code",
   "execution_count": null,
<<<<<<< HEAD
<<<<<<< HEAD
   "id": "c567a79e",
||||||| 00f6fb22
   "id": "108faf45",
=======
   "id": "7afee1a7",
>>>>>>> documentation-devel
||||||| d828f8eb
   "id": "c567a79e",
=======
   "id": "001ef61e",
>>>>>>> 6c25d2f1afd31725c9595ab9d8922b9d3c838629
   "metadata": {},
   "outputs": [],
   "source": [
    "sessionInfo()"
   ]
  },
  {
   "cell_type": "markdown",
<<<<<<< HEAD
<<<<<<< HEAD
   "id": "54077cbb",
||||||| 00f6fb22
   "id": "b1cb354f",
=======
   "id": "73e12087",
>>>>>>> documentation-devel
||||||| d828f8eb
   "id": "54077cbb",
=======
   "id": "24c2d58e",
>>>>>>> 6c25d2f1afd31725c9595ab9d8922b9d3c838629
   "metadata": {},
   "source": [
    "# References"
   ]
  }
 ],
 "metadata": {
  "kernelspec": {
   "display_name": "R",
   "language": "R",
   "name": "ir"
  }
 },
 "nbformat": 4,
 "nbformat_minor": 5
}
