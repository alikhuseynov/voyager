{
 "cells": [
  {
   "cell_type": "raw",
<<<<<<< HEAD
<<<<<<< HEAD
<<<<<<< HEAD
<<<<<<< HEAD
<<<<<<< HEAD
   "id": "72675c46",
||||||| 11b9cb7
   "id": "310ef11e",
=======
   "id": "31d92b01",
>>>>>>> documentation-devel
||||||| 614e9b1
   "id": "31d92b01",
=======
   "id": "7e75e28b",
>>>>>>> documentation-devel
||||||| 856b4c0
<<<<<<< HEAD
   "id": "72675c46",
||||||| 11b9cb7
   "id": "310ef11e",
=======
   "id": "31d92b01",
>>>>>>> documentation-devel
=======
   "id": "3fd2c56a",
>>>>>>> 552590ea8fad969b67afdba27558a1e6cb21016e
||||||| 452c944
   "id": "7e75e28b",
=======
   "id": "a571b8d8",
>>>>>>> documentation-devel
||||||| 4da3324
<<<<<<< HEAD
<<<<<<< HEAD
<<<<<<< HEAD
   "id": "72675c46",
||||||| 11b9cb7
   "id": "310ef11e",
=======
   "id": "31d92b01",
>>>>>>> documentation-devel
||||||| 614e9b1
   "id": "31d92b01",
=======
   "id": "7e75e28b",
>>>>>>> documentation-devel
||||||| 856b4c0
<<<<<<< HEAD
   "id": "72675c46",
||||||| 11b9cb7
   "id": "310ef11e",
=======
   "id": "31d92b01",
>>>>>>> documentation-devel
=======
   "id": "3fd2c56a",
>>>>>>> 552590ea8fad969b67afdba27558a1e6cb21016e
=======
   "id": "19fb7605",
>>>>>>> b6e07d13baac92b2c1c9b43f8e4113ffa87bf495
   "metadata": {},
   "source": [
    "---\n",
    "title: \"Xenium breast cancer dataset\"\n",
    "author: \"Lambda Moses\"\n",
    "date: \"`r Sys.Date()`\"\n",
    "output: \n",
    "  html_document:\n",
    "  toc: true\n",
    "  toc_float:\n",
    "    collapsed: false\n",
    "  toc_depth: 3\n",
    "bibliography: ref.bib\n",
    "vignette: >\n",
    "  %\\VignetteIndexEntry{xenium}\n",
    "  %\\VignetteEngine{knitr::rmarkdown}\n",
    "  %\\VignetteEncoding{UTF-8}\n",
    "---"
   ]
  },
  {
   "cell_type": "code",
   "execution_count": null,
<<<<<<< HEAD
<<<<<<< HEAD
<<<<<<< HEAD
<<<<<<< HEAD
<<<<<<< HEAD
   "id": "bac69226",
||||||| 11b9cb7
   "id": "790989c2",
=======
   "id": "5beaff49",
>>>>>>> documentation-devel
||||||| 614e9b1
   "id": "5beaff49",
=======
   "id": "c41e6d8e",
>>>>>>> documentation-devel
||||||| 856b4c0
<<<<<<< HEAD
   "id": "bac69226",
||||||| 11b9cb7
   "id": "790989c2",
=======
   "id": "5beaff49",
>>>>>>> documentation-devel
=======
   "id": "6e2baa84",
>>>>>>> 552590ea8fad969b67afdba27558a1e6cb21016e
||||||| 452c944
   "id": "c41e6d8e",
=======
   "id": "0304c0f3",
>>>>>>> documentation-devel
||||||| 4da3324
<<<<<<< HEAD
<<<<<<< HEAD
<<<<<<< HEAD
   "id": "bac69226",
||||||| 11b9cb7
   "id": "790989c2",
=======
   "id": "5beaff49",
>>>>>>> documentation-devel
||||||| 614e9b1
   "id": "5beaff49",
=======
   "id": "c41e6d8e",
>>>>>>> documentation-devel
||||||| 856b4c0
<<<<<<< HEAD
   "id": "bac69226",
||||||| 11b9cb7
   "id": "790989c2",
=======
   "id": "5beaff49",
>>>>>>> documentation-devel
=======
   "id": "6e2baa84",
>>>>>>> 552590ea8fad969b67afdba27558a1e6cb21016e
=======
   "id": "6ab4635c",
>>>>>>> b6e07d13baac92b2c1c9b43f8e4113ffa87bf495
   "metadata": {
    "tags": [
     "remove_cell"
    ]
   },
   "outputs": [],
   "source": [
    "knitr::opts_chunk$set(\n",
    "  collapse = TRUE,\n",
    "  comment = \"#>\", fig.align = \"center\"\n",
    ")"
   ]
  },
  {
   "cell_type": "code",
   "execution_count": null,
<<<<<<< HEAD
<<<<<<< HEAD
<<<<<<< HEAD
<<<<<<< HEAD
<<<<<<< HEAD
   "id": "6274ea16",
||||||| 11b9cb7
   "id": "af2e7e50",
=======
   "id": "22474adc",
>>>>>>> documentation-devel
||||||| 614e9b1
   "id": "22474adc",
=======
   "id": "659efe7a",
>>>>>>> documentation-devel
||||||| 856b4c0
<<<<<<< HEAD
   "id": "6274ea16",
||||||| 11b9cb7
   "id": "af2e7e50",
=======
   "id": "22474adc",
>>>>>>> documentation-devel
=======
   "id": "4c61d628",
>>>>>>> 552590ea8fad969b67afdba27558a1e6cb21016e
||||||| 452c944
   "id": "659efe7a",
=======
   "id": "5c5fa21a",
>>>>>>> documentation-devel
||||||| 4da3324
<<<<<<< HEAD
<<<<<<< HEAD
<<<<<<< HEAD
   "id": "6274ea16",
||||||| 11b9cb7
   "id": "af2e7e50",
=======
   "id": "22474adc",
>>>>>>> documentation-devel
||||||| 614e9b1
   "id": "22474adc",
=======
   "id": "659efe7a",
>>>>>>> documentation-devel
||||||| 856b4c0
<<<<<<< HEAD
   "id": "6274ea16",
||||||| 11b9cb7
   "id": "af2e7e50",
=======
   "id": "22474adc",
>>>>>>> documentation-devel
=======
   "id": "4c61d628",
>>>>>>> 552590ea8fad969b67afdba27558a1e6cb21016e
=======
   "id": "948f926d",
>>>>>>> b6e07d13baac92b2c1c9b43f8e4113ffa87bf495
   "metadata": {
    "eval": false,
    "tags": [
     "remove_cell"
    ]
   },
   "outputs": [],
   "source": [
    "# Install Google Colab dependencies\n",
    "# Note: this can take 30+ minutes (many of the dependencies include C++ code, which needs to be compiled)\n",
    "\n",
    "# First install `sf`, `ragg` and `textshaping` and their system dependencies:\n",
    "system(\"apt-get -y update && apt-get install -y  libudunits2-dev libgdal-dev libgeos-dev libproj-dev libharfbuzz-dev libfribidi-dev\")\n",
    "install.packages(\"sf\")\n",
    "install.packages(\"textshaping\")\n",
    "install.packages(\"ragg\")\n",
    "\n",
    "# Install system dependencies of some other R packages that Voyager either imports or suggests:\n",
    "system(\"apt-get install -y libfribidi-dev libcairo2-dev libmagick++-dev\")\n",
    "\n",
    "# Install Voyager from Bioconductor:\n",
    "install.packages(\"BiocManager\")\n",
    "BiocManager::install(version = \"3.17\", ask = FALSE, update = FALSE, Ncpus = 2)\n",
    "BiocManager::install(\"scater\")\n",
    "system.time(\n",
    "  BiocManager::install(\"Voyager\", dependencies = TRUE, Ncpus = 2, update = FALSE)\n",
    ")\n",
    "\n",
    "packageVersion(\"Voyager\")"
   ]
  },
  {
   "cell_type": "markdown",
<<<<<<< HEAD
<<<<<<< HEAD
<<<<<<< HEAD
<<<<<<< HEAD
<<<<<<< HEAD
   "id": "ed9e0e81",
||||||| 11b9cb7
   "id": "f6c4d0dc",
=======
   "id": "f8b05ca2",
>>>>>>> documentation-devel
||||||| 614e9b1
   "id": "f8b05ca2",
=======
   "id": "4e4f05bc",
>>>>>>> documentation-devel
||||||| 856b4c0
<<<<<<< HEAD
   "id": "ed9e0e81",
||||||| 11b9cb7
   "id": "f6c4d0dc",
=======
   "id": "f8b05ca2",
>>>>>>> documentation-devel
=======
   "id": "9a3229be",
>>>>>>> 552590ea8fad969b67afdba27558a1e6cb21016e
||||||| 452c944
   "id": "4e4f05bc",
=======
   "id": "3a7f1956",
>>>>>>> documentation-devel
||||||| 4da3324
<<<<<<< HEAD
<<<<<<< HEAD
<<<<<<< HEAD
   "id": "ed9e0e81",
||||||| 11b9cb7
   "id": "f6c4d0dc",
=======
   "id": "f8b05ca2",
>>>>>>> documentation-devel
||||||| 614e9b1
   "id": "f8b05ca2",
=======
   "id": "4e4f05bc",
>>>>>>> documentation-devel
||||||| 856b4c0
<<<<<<< HEAD
   "id": "ed9e0e81",
||||||| 11b9cb7
   "id": "f6c4d0dc",
=======
   "id": "f8b05ca2",
>>>>>>> documentation-devel
=======
   "id": "9a3229be",
>>>>>>> 552590ea8fad969b67afdba27558a1e6cb21016e
=======
   "id": "e6a03fd1",
>>>>>>> b6e07d13baac92b2c1c9b43f8e4113ffa87bf495
   "metadata": {},
   "source": [
    "# Introduction\n",
    "\n",
    "Xenium is a new technology from 10X genomics for single cell resolution smFISH based spatial transcriptomics. The first Xenium dataset is for formalin fixed paraffin embedded (FFPE) human breast tumor, reported in [@Janesick2022-rp] and downloaded from the [10X website](https://www.10xgenomics.com/products/xenium-in-situ/preview-dataset-human-breast).\n",
    "\n",
    "The gene count matrix was downloaded as an HDF5 file and read into R as a `SingleCellExperiment` (SCE) object with `DropletUtils::read10xCounts()`. The gene count matrix is originally a `DelayedArray`, so the data is not all loaded into memory. For now, the matrix has been converted into an in memory `dgCMatrix`. However, for the next release, we would like to write another vignette on on disk analyses. The challenge is representing `sf` data frames on disk, perhaps with [`sedona`](https://github.com/apache/incubator-sedona) and [`SQLDataFrame`](https://bioconductor.org/packages/release/bioc/html/SQLDataFrame.html).\n",
    "\n",
    "The cell metadata (including centroid coordinates) and cell segmentation polygons were downloaded as `parquet` files, a more compact way to store columnar data than CSV, and read into R as data frames with `arrow::read_parquet()`. The cell polygons were converted into `sf` data frame with `SpatialFeatureExperiment::df2sf()`. Then the SCE object was converted into `SpatialFeatureExperiment` (SFE) and the polygon geometry was added to the SFE object, which is in the `SFEData` package.\n",
    "\n",
    "Here we load the packages used in this vignette."
   ]
  },
  {
   "cell_type": "code",
   "execution_count": null,
<<<<<<< HEAD
<<<<<<< HEAD
<<<<<<< HEAD
<<<<<<< HEAD
<<<<<<< HEAD
   "id": "8186f7b8",
||||||| 11b9cb7
   "id": "1645c4f2",
=======
   "id": "10b9efb6",
>>>>>>> documentation-devel
||||||| 614e9b1
   "id": "10b9efb6",
=======
   "id": "abedf939",
>>>>>>> documentation-devel
||||||| 856b4c0
<<<<<<< HEAD
   "id": "8186f7b8",
||||||| 11b9cb7
   "id": "1645c4f2",
=======
   "id": "10b9efb6",
>>>>>>> documentation-devel
=======
   "id": "645989e1",
>>>>>>> 552590ea8fad969b67afdba27558a1e6cb21016e
||||||| 452c944
   "id": "abedf939",
=======
   "id": "d347255a",
>>>>>>> documentation-devel
||||||| 4da3324
<<<<<<< HEAD
<<<<<<< HEAD
<<<<<<< HEAD
   "id": "8186f7b8",
||||||| 11b9cb7
   "id": "1645c4f2",
=======
   "id": "10b9efb6",
>>>>>>> documentation-devel
||||||| 614e9b1
   "id": "10b9efb6",
=======
   "id": "abedf939",
>>>>>>> documentation-devel
||||||| 856b4c0
<<<<<<< HEAD
   "id": "8186f7b8",
||||||| 11b9cb7
   "id": "1645c4f2",
=======
   "id": "10b9efb6",
>>>>>>> documentation-devel
=======
   "id": "645989e1",
>>>>>>> 552590ea8fad969b67afdba27558a1e6cb21016e
=======
   "id": "fcb6f147",
>>>>>>> b6e07d13baac92b2c1c9b43f8e4113ffa87bf495
   "metadata": {
    "name": "setup"
   },
   "outputs": [],
   "source": [
    "library(Voyager)\n",
    "library(SFEData) \n",
    "library(SingleCellExperiment)\n",
    "library(SpatialExperiment)\n",
    "library(SpatialFeatureExperiment)\n",
    "library(ggplot2)\n",
    "library(stringr)\n",
    "library(scater) \n",
    "library(scuttle)\n",
    "library(BiocParallel)\n",
    "library(BiocSingular)\n",
    "library(bluster)\n",
    "library(scran)\n",
    "library(patchwork)\n",
    "theme_set(theme_bw())"
   ]
  },
  {
   "cell_type": "code",
   "execution_count": null,
<<<<<<< HEAD
<<<<<<< HEAD
<<<<<<< HEAD
<<<<<<< HEAD
<<<<<<< HEAD
   "id": "f2181911",
||||||| 11b9cb7
   "id": "8fc03512",
=======
   "id": "998fe2d1",
>>>>>>> documentation-devel
||||||| 614e9b1
   "id": "998fe2d1",
=======
   "id": "d5045245",
>>>>>>> documentation-devel
||||||| 856b4c0
<<<<<<< HEAD
   "id": "f2181911",
||||||| 11b9cb7
   "id": "8fc03512",
=======
   "id": "998fe2d1",
>>>>>>> documentation-devel
=======
   "id": "a78dfe5c",
>>>>>>> 552590ea8fad969b67afdba27558a1e6cb21016e
||||||| 452c944
   "id": "d5045245",
=======
   "id": "f6abd539",
>>>>>>> documentation-devel
||||||| 4da3324
<<<<<<< HEAD
<<<<<<< HEAD
<<<<<<< HEAD
   "id": "f2181911",
||||||| 11b9cb7
   "id": "8fc03512",
=======
   "id": "998fe2d1",
>>>>>>> documentation-devel
||||||| 614e9b1
   "id": "998fe2d1",
=======
   "id": "d5045245",
>>>>>>> documentation-devel
||||||| 856b4c0
<<<<<<< HEAD
   "id": "f2181911",
||||||| 11b9cb7
   "id": "8fc03512",
=======
   "id": "998fe2d1",
>>>>>>> documentation-devel
=======
   "id": "a78dfe5c",
>>>>>>> 552590ea8fad969b67afdba27558a1e6cb21016e
=======
   "id": "7b052c5c",
>>>>>>> b6e07d13baac92b2c1c9b43f8e4113ffa87bf495
   "metadata": {},
   "outputs": [],
   "source": [
    "(sfe <- JanesickBreastData(dataset = \"rep2\"))"
   ]
  },
  {
   "cell_type": "markdown",
<<<<<<< HEAD
<<<<<<< HEAD
<<<<<<< HEAD
<<<<<<< HEAD
<<<<<<< HEAD
   "id": "49d227b6",
||||||| 11b9cb7
   "id": "dc79d00d",
=======
   "id": "57687ed0",
>>>>>>> documentation-devel
||||||| 614e9b1
   "id": "57687ed0",
=======
   "id": "81935d56",
>>>>>>> documentation-devel
||||||| 856b4c0
<<<<<<< HEAD
   "id": "49d227b6",
||||||| 11b9cb7
   "id": "dc79d00d",
=======
   "id": "57687ed0",
>>>>>>> documentation-devel
=======
   "id": "107e67c3",
>>>>>>> 552590ea8fad969b67afdba27558a1e6cb21016e
||||||| 452c944
   "id": "81935d56",
=======
   "id": "ffb75898",
>>>>>>> documentation-devel
||||||| 4da3324
<<<<<<< HEAD
<<<<<<< HEAD
<<<<<<< HEAD
   "id": "49d227b6",
||||||| 11b9cb7
   "id": "dc79d00d",
=======
   "id": "57687ed0",
>>>>>>> documentation-devel
||||||| 614e9b1
   "id": "57687ed0",
=======
   "id": "81935d56",
>>>>>>> documentation-devel
||||||| 856b4c0
<<<<<<< HEAD
   "id": "49d227b6",
||||||| 11b9cb7
   "id": "dc79d00d",
=======
   "id": "57687ed0",
>>>>>>> documentation-devel
=======
   "id": "107e67c3",
>>>>>>> 552590ea8fad969b67afdba27558a1e6cb21016e
=======
   "id": "bccd426c",
>>>>>>> b6e07d13baac92b2c1c9b43f8e4113ffa87bf495
   "metadata": {
    "lines_to_next_cell": 0
   },
   "source": [
    "There are 118708 cells in this dataset, a little more than in the CosMX dataset.\n",
    "\n",
    "The SFE object doesn't have column names (i.e. cell IDs). Here we assign cell IDs."
   ]
  },
  {
   "cell_type": "code",
   "execution_count": null,
<<<<<<< HEAD
<<<<<<< HEAD
<<<<<<< HEAD
<<<<<<< HEAD
<<<<<<< HEAD
   "id": "c4a8b1b6",
||||||| 11b9cb7
   "id": "d8801cde",
=======
   "id": "d391fad0",
>>>>>>> documentation-devel
||||||| 614e9b1
   "id": "d391fad0",
=======
   "id": "8d98040c",
>>>>>>> documentation-devel
||||||| 856b4c0
<<<<<<< HEAD
   "id": "c4a8b1b6",
||||||| 11b9cb7
   "id": "d8801cde",
=======
   "id": "d391fad0",
>>>>>>> documentation-devel
=======
   "id": "08c4e2b0",
>>>>>>> 552590ea8fad969b67afdba27558a1e6cb21016e
||||||| 452c944
   "id": "8d98040c",
=======
   "id": "40c87de0",
>>>>>>> documentation-devel
||||||| 4da3324
<<<<<<< HEAD
<<<<<<< HEAD
<<<<<<< HEAD
   "id": "c4a8b1b6",
||||||| 11b9cb7
   "id": "d8801cde",
=======
   "id": "d391fad0",
>>>>>>> documentation-devel
||||||| 614e9b1
   "id": "d391fad0",
=======
   "id": "8d98040c",
>>>>>>> documentation-devel
||||||| 856b4c0
<<<<<<< HEAD
   "id": "c4a8b1b6",
||||||| 11b9cb7
   "id": "d8801cde",
=======
   "id": "d391fad0",
>>>>>>> documentation-devel
=======
   "id": "08c4e2b0",
>>>>>>> 552590ea8fad969b67afdba27558a1e6cb21016e
=======
   "id": "db397233",
>>>>>>> b6e07d13baac92b2c1c9b43f8e4113ffa87bf495
   "metadata": {},
   "outputs": [],
   "source": [
    "colnames(sfe) <- seq_len(ncol(sfe))"
   ]
  },
  {
   "cell_type": "markdown",
<<<<<<< HEAD
<<<<<<< HEAD
<<<<<<< HEAD
<<<<<<< HEAD
<<<<<<< HEAD
   "id": "5f74a800",
||||||| 11b9cb7
   "id": "e5a36042",
=======
   "id": "54b37173",
>>>>>>> documentation-devel
||||||| 614e9b1
   "id": "54b37173",
=======
   "id": "be540952",
>>>>>>> documentation-devel
||||||| 856b4c0
<<<<<<< HEAD
   "id": "5f74a800",
||||||| 11b9cb7
   "id": "e5a36042",
=======
   "id": "54b37173",
>>>>>>> documentation-devel
=======
   "id": "0801fcdf",
>>>>>>> 552590ea8fad969b67afdba27558a1e6cb21016e
||||||| 452c944
   "id": "be540952",
=======
   "id": "a57329fd",
>>>>>>> documentation-devel
||||||| 4da3324
<<<<<<< HEAD
<<<<<<< HEAD
<<<<<<< HEAD
   "id": "5f74a800",
||||||| 11b9cb7
   "id": "e5a36042",
=======
   "id": "54b37173",
>>>>>>> documentation-devel
||||||| 614e9b1
   "id": "54b37173",
=======
   "id": "be540952",
>>>>>>> documentation-devel
||||||| 856b4c0
<<<<<<< HEAD
   "id": "5f74a800",
||||||| 11b9cb7
   "id": "e5a36042",
=======
   "id": "54b37173",
>>>>>>> documentation-devel
=======
   "id": "0801fcdf",
>>>>>>> 552590ea8fad969b67afdba27558a1e6cb21016e
=======
   "id": "03be1a9b",
>>>>>>> b6e07d13baac92b2c1c9b43f8e4113ffa87bf495
   "metadata": {},
   "source": [
    "This is what the tissue, with the cell outlines, looks like"
   ]
  },
  {
   "cell_type": "code",
   "execution_count": null,
<<<<<<< HEAD
<<<<<<< HEAD
<<<<<<< HEAD
<<<<<<< HEAD
<<<<<<< HEAD
   "id": "c4a114a8",
||||||| 11b9cb7
   "id": "388246ee",
=======
   "id": "941b2297",
>>>>>>> documentation-devel
||||||| 614e9b1
   "id": "941b2297",
=======
   "id": "ad945926",
>>>>>>> documentation-devel
||||||| 856b4c0
<<<<<<< HEAD
   "id": "c4a114a8",
||||||| 11b9cb7
   "id": "388246ee",
=======
   "id": "941b2297",
>>>>>>> documentation-devel
=======
   "id": "81af6ac6",
>>>>>>> 552590ea8fad969b67afdba27558a1e6cb21016e
||||||| 452c944
   "id": "ad945926",
=======
   "id": "80b9da25",
>>>>>>> documentation-devel
||||||| 4da3324
<<<<<<< HEAD
<<<<<<< HEAD
<<<<<<< HEAD
   "id": "c4a114a8",
||||||| 11b9cb7
   "id": "388246ee",
=======
   "id": "941b2297",
>>>>>>> documentation-devel
||||||| 614e9b1
   "id": "941b2297",
=======
   "id": "ad945926",
>>>>>>> documentation-devel
||||||| 856b4c0
<<<<<<< HEAD
   "id": "c4a114a8",
||||||| 11b9cb7
   "id": "388246ee",
=======
   "id": "941b2297",
>>>>>>> documentation-devel
=======
   "id": "81af6ac6",
>>>>>>> 552590ea8fad969b67afdba27558a1e6cb21016e
=======
   "id": "e92f2e60",
>>>>>>> b6e07d13baac92b2c1c9b43f8e4113ffa87bf495
   "metadata": {},
   "outputs": [],
   "source": [
    "plotGeometry(sfe, \"cellSeg\")"
   ]
  },
  {
   "cell_type": "markdown",
<<<<<<< HEAD
<<<<<<< HEAD
<<<<<<< HEAD
<<<<<<< HEAD
<<<<<<< HEAD
   "id": "14b6474e",
||||||| 11b9cb7
   "id": "2d198eb4",
=======
   "id": "faf6a6d5",
>>>>>>> documentation-devel
||||||| 614e9b1
   "id": "faf6a6d5",
=======
   "id": "c5c986c4",
>>>>>>> documentation-devel
||||||| 856b4c0
<<<<<<< HEAD
   "id": "14b6474e",
||||||| 11b9cb7
   "id": "2d198eb4",
=======
   "id": "faf6a6d5",
>>>>>>> documentation-devel
=======
   "id": "3a644d28",
>>>>>>> 552590ea8fad969b67afdba27558a1e6cb21016e
||||||| 452c944
   "id": "c5c986c4",
=======
   "id": "f1770126",
>>>>>>> documentation-devel
||||||| 4da3324
<<<<<<< HEAD
<<<<<<< HEAD
<<<<<<< HEAD
   "id": "14b6474e",
||||||| 11b9cb7
   "id": "2d198eb4",
=======
   "id": "faf6a6d5",
>>>>>>> documentation-devel
||||||| 614e9b1
   "id": "faf6a6d5",
=======
   "id": "c5c986c4",
>>>>>>> documentation-devel
||||||| 856b4c0
<<<<<<< HEAD
   "id": "14b6474e",
||||||| 11b9cb7
   "id": "2d198eb4",
=======
   "id": "faf6a6d5",
>>>>>>> documentation-devel
=======
   "id": "3a644d28",
>>>>>>> 552590ea8fad969b67afdba27558a1e6cb21016e
=======
   "id": "1e02b9ce",
>>>>>>> b6e07d13baac92b2c1c9b43f8e4113ffa87bf495
   "metadata": {
    "lines_to_next_cell": 0
   },
   "source": [
    "Plot cell density in space"
   ]
  },
  {
   "cell_type": "code",
   "execution_count": null,
<<<<<<< HEAD
<<<<<<< HEAD
<<<<<<< HEAD
<<<<<<< HEAD
<<<<<<< HEAD
   "id": "0f573b8b",
||||||| 11b9cb7
   "id": "e8b62df4",
=======
   "id": "01947af1",
>>>>>>> documentation-devel
||||||| 614e9b1
   "id": "01947af1",
=======
   "id": "3289078b",
>>>>>>> documentation-devel
||||||| 856b4c0
<<<<<<< HEAD
   "id": "0f573b8b",
||||||| 11b9cb7
   "id": "e8b62df4",
=======
   "id": "01947af1",
>>>>>>> documentation-devel
=======
   "id": "dd6ea55e",
>>>>>>> 552590ea8fad969b67afdba27558a1e6cb21016e
||||||| 452c944
   "id": "3289078b",
=======
   "id": "54a9710d",
>>>>>>> documentation-devel
||||||| 4da3324
<<<<<<< HEAD
<<<<<<< HEAD
<<<<<<< HEAD
   "id": "0f573b8b",
||||||| 11b9cb7
   "id": "e8b62df4",
=======
   "id": "01947af1",
>>>>>>> documentation-devel
||||||| 614e9b1
   "id": "01947af1",
=======
   "id": "3289078b",
>>>>>>> documentation-devel
||||||| 856b4c0
<<<<<<< HEAD
   "id": "0f573b8b",
||||||| 11b9cb7
   "id": "e8b62df4",
=======
   "id": "01947af1",
>>>>>>> documentation-devel
=======
   "id": "dd6ea55e",
>>>>>>> 552590ea8fad969b67afdba27558a1e6cb21016e
=======
   "id": "4ce23acf",
>>>>>>> b6e07d13baac92b2c1c9b43f8e4113ffa87bf495
   "metadata": {},
   "outputs": [],
   "source": [
    "plotCellBin2D(sfe, hex = TRUE)"
   ]
  },
  {
   "cell_type": "markdown",
<<<<<<< HEAD
<<<<<<< HEAD
<<<<<<< HEAD
<<<<<<< HEAD
<<<<<<< HEAD
   "id": "623d3c7c",
||||||| 11b9cb7
   "id": "bec146b8",
=======
   "id": "29c51e20",
>>>>>>> documentation-devel
||||||| 614e9b1
   "id": "29c51e20",
=======
   "id": "4968a49c",
>>>>>>> documentation-devel
||||||| 856b4c0
<<<<<<< HEAD
   "id": "623d3c7c",
||||||| 11b9cb7
   "id": "bec146b8",
=======
   "id": "29c51e20",
>>>>>>> documentation-devel
=======
   "id": "31cb55b6",
>>>>>>> 552590ea8fad969b67afdba27558a1e6cb21016e
||||||| 452c944
   "id": "4968a49c",
=======
   "id": "21cd195e",
>>>>>>> documentation-devel
||||||| 4da3324
<<<<<<< HEAD
<<<<<<< HEAD
<<<<<<< HEAD
   "id": "623d3c7c",
||||||| 11b9cb7
   "id": "bec146b8",
=======
   "id": "29c51e20",
>>>>>>> documentation-devel
||||||| 614e9b1
   "id": "29c51e20",
=======
   "id": "4968a49c",
>>>>>>> documentation-devel
||||||| 856b4c0
<<<<<<< HEAD
   "id": "623d3c7c",
||||||| 11b9cb7
   "id": "bec146b8",
=======
   "id": "29c51e20",
>>>>>>> documentation-devel
=======
   "id": "31cb55b6",
>>>>>>> 552590ea8fad969b67afdba27558a1e6cb21016e
=======
   "id": "a2ad1907",
>>>>>>> b6e07d13baac92b2c1c9b43f8e4113ffa87bf495
   "metadata": {},
   "source": [
    "# Quality control\n",
    "## Cells\n",
    "Some QC metrics are precomputed and are stored in `colData`"
   ]
  },
  {
   "cell_type": "code",
   "execution_count": null,
<<<<<<< HEAD
<<<<<<< HEAD
<<<<<<< HEAD
<<<<<<< HEAD
<<<<<<< HEAD
   "id": "ac689276",
||||||| 11b9cb7
   "id": "2f944126",
=======
   "id": "f0d19960",
>>>>>>> documentation-devel
||||||| 614e9b1
   "id": "f0d19960",
=======
   "id": "143790e6",
>>>>>>> documentation-devel
||||||| 856b4c0
<<<<<<< HEAD
   "id": "ac689276",
||||||| 11b9cb7
   "id": "2f944126",
=======
   "id": "f0d19960",
>>>>>>> documentation-devel
=======
   "id": "caf6589f",
>>>>>>> 552590ea8fad969b67afdba27558a1e6cb21016e
||||||| 452c944
   "id": "143790e6",
=======
   "id": "716f0742",
>>>>>>> documentation-devel
||||||| 4da3324
<<<<<<< HEAD
<<<<<<< HEAD
<<<<<<< HEAD
   "id": "ac689276",
||||||| 11b9cb7
   "id": "2f944126",
=======
   "id": "f0d19960",
>>>>>>> documentation-devel
||||||| 614e9b1
   "id": "f0d19960",
=======
   "id": "143790e6",
>>>>>>> documentation-devel
||||||| 856b4c0
<<<<<<< HEAD
   "id": "ac689276",
||||||| 11b9cb7
   "id": "2f944126",
=======
   "id": "f0d19960",
>>>>>>> documentation-devel
=======
   "id": "caf6589f",
>>>>>>> 552590ea8fad969b67afdba27558a1e6cb21016e
=======
   "id": "e004a963",
>>>>>>> b6e07d13baac92b2c1c9b43f8e4113ffa87bf495
   "metadata": {},
   "outputs": [],
   "source": [
    "names(colData(sfe))"
   ]
  },
  {
   "cell_type": "markdown",
<<<<<<< HEAD
<<<<<<< HEAD
<<<<<<< HEAD
<<<<<<< HEAD
<<<<<<< HEAD
   "id": "8bc6ff0a",
||||||| 11b9cb7
   "id": "6d1caf17",
=======
   "id": "1a9239b7",
>>>>>>> documentation-devel
||||||| 614e9b1
   "id": "1a9239b7",
=======
   "id": "6de373ab",
>>>>>>> documentation-devel
||||||| 856b4c0
<<<<<<< HEAD
   "id": "8bc6ff0a",
||||||| 11b9cb7
   "id": "6d1caf17",
=======
   "id": "1a9239b7",
>>>>>>> documentation-devel
=======
   "id": "a9b15ffb",
>>>>>>> 552590ea8fad969b67afdba27558a1e6cb21016e
||||||| 452c944
   "id": "6de373ab",
=======
   "id": "3142a0c0",
>>>>>>> documentation-devel
||||||| 4da3324
<<<<<<< HEAD
<<<<<<< HEAD
<<<<<<< HEAD
   "id": "8bc6ff0a",
||||||| 11b9cb7
   "id": "6d1caf17",
=======
   "id": "1a9239b7",
>>>>>>> documentation-devel
||||||| 614e9b1
   "id": "1a9239b7",
=======
   "id": "6de373ab",
>>>>>>> documentation-devel
||||||| 856b4c0
<<<<<<< HEAD
   "id": "8bc6ff0a",
||||||| 11b9cb7
   "id": "6d1caf17",
=======
   "id": "1a9239b7",
>>>>>>> documentation-devel
=======
   "id": "a9b15ffb",
>>>>>>> 552590ea8fad969b67afdba27558a1e6cb21016e
=======
   "id": "7d36dc5e",
>>>>>>> b6e07d13baac92b2c1c9b43f8e4113ffa87bf495
   "metadata": {},
   "source": [
    "Since there're more cells, it would be better to plot the tissue larger, so we'll plot the histogram of QC metrics and the spatial plots separately, unlike in the CosMx vignette."
   ]
  },
  {
   "cell_type": "code",
   "execution_count": null,
<<<<<<< HEAD
<<<<<<< HEAD
<<<<<<< HEAD
<<<<<<< HEAD
<<<<<<< HEAD
   "id": "e9046f0e",
||||||| 11b9cb7
   "id": "fed15d8c",
=======
   "id": "14a1c5a3",
>>>>>>> documentation-devel
||||||| 614e9b1
   "id": "14a1c5a3",
=======
   "id": "4586db41",
>>>>>>> documentation-devel
||||||| 856b4c0
<<<<<<< HEAD
   "id": "e9046f0e",
||||||| 11b9cb7
   "id": "fed15d8c",
=======
   "id": "14a1c5a3",
>>>>>>> documentation-devel
=======
   "id": "d516e998",
>>>>>>> 552590ea8fad969b67afdba27558a1e6cb21016e
||||||| 452c944
   "id": "4586db41",
=======
   "id": "bac35eeb",
>>>>>>> documentation-devel
||||||| 4da3324
<<<<<<< HEAD
<<<<<<< HEAD
<<<<<<< HEAD
   "id": "e9046f0e",
||||||| 11b9cb7
   "id": "fed15d8c",
=======
   "id": "14a1c5a3",
>>>>>>> documentation-devel
||||||| 614e9b1
   "id": "14a1c5a3",
=======
   "id": "4586db41",
>>>>>>> documentation-devel
||||||| 856b4c0
<<<<<<< HEAD
   "id": "e9046f0e",
||||||| 11b9cb7
   "id": "fed15d8c",
=======
   "id": "14a1c5a3",
>>>>>>> documentation-devel
=======
   "id": "d516e998",
>>>>>>> 552590ea8fad969b67afdba27558a1e6cb21016e
=======
   "id": "8f13a6ec",
>>>>>>> b6e07d13baac92b2c1c9b43f8e4113ffa87bf495
   "metadata": {},
   "outputs": [],
   "source": [
    "n_panel <- 313\n",
    "colData(sfe)$nCounts_normed <- sfe$nCounts/n_panel\n",
    "colData(sfe)$nGenes_normed <- sfe$nGenes/n_panel"
   ]
  },
  {
   "cell_type": "markdown",
<<<<<<< HEAD
<<<<<<< HEAD
<<<<<<< HEAD
<<<<<<< HEAD
<<<<<<< HEAD
   "id": "d9683570",
||||||| 11b9cb7
   "id": "e30bd903",
=======
   "id": "c4903f52",
>>>>>>> documentation-devel
||||||| 614e9b1
   "id": "c4903f52",
=======
   "id": "6463febe",
>>>>>>> documentation-devel
||||||| 856b4c0
<<<<<<< HEAD
   "id": "d9683570",
||||||| 11b9cb7
   "id": "e30bd903",
=======
   "id": "c4903f52",
>>>>>>> documentation-devel
=======
   "id": "de172ecc",
>>>>>>> 552590ea8fad969b67afdba27558a1e6cb21016e
||||||| 452c944
   "id": "6463febe",
=======
   "id": "6be95a0d",
>>>>>>> documentation-devel
||||||| 4da3324
<<<<<<< HEAD
<<<<<<< HEAD
<<<<<<< HEAD
   "id": "d9683570",
||||||| 11b9cb7
   "id": "e30bd903",
=======
   "id": "c4903f52",
>>>>>>> documentation-devel
||||||| 614e9b1
   "id": "c4903f52",
=======
   "id": "6463febe",
>>>>>>> documentation-devel
||||||| 856b4c0
<<<<<<< HEAD
   "id": "d9683570",
||||||| 11b9cb7
   "id": "e30bd903",
=======
   "id": "c4903f52",
>>>>>>> documentation-devel
=======
   "id": "de172ecc",
>>>>>>> 552590ea8fad969b67afdba27558a1e6cb21016e
=======
   "id": "5cf1180e",
>>>>>>> b6e07d13baac92b2c1c9b43f8e4113ffa87bf495
   "metadata": {},
   "source": [
    "Here we divided nCounts by the total number of genes probed, so this histogram is comparable to those from other smFISH-based datasets. "
   ]
  },
  {
   "cell_type": "code",
   "execution_count": null,
<<<<<<< HEAD
<<<<<<< HEAD
<<<<<<< HEAD
<<<<<<< HEAD
<<<<<<< HEAD
   "id": "c1da5ed3",
||||||| 11b9cb7
   "id": "e199b4cb",
=======
   "id": "16440a91",
>>>>>>> documentation-devel
||||||| 614e9b1
   "id": "16440a91",
=======
   "id": "10af48e9",
>>>>>>> documentation-devel
||||||| 856b4c0
<<<<<<< HEAD
   "id": "c1da5ed3",
||||||| 11b9cb7
   "id": "e199b4cb",
=======
   "id": "16440a91",
>>>>>>> documentation-devel
=======
   "id": "27ff7888",
>>>>>>> 552590ea8fad969b67afdba27558a1e6cb21016e
||||||| 452c944
   "id": "10af48e9",
=======
   "id": "cd74f724",
>>>>>>> documentation-devel
||||||| 4da3324
<<<<<<< HEAD
<<<<<<< HEAD
<<<<<<< HEAD
   "id": "c1da5ed3",
||||||| 11b9cb7
   "id": "e199b4cb",
=======
   "id": "16440a91",
>>>>>>> documentation-devel
||||||| 614e9b1
   "id": "16440a91",
=======
   "id": "10af48e9",
>>>>>>> documentation-devel
||||||| 856b4c0
<<<<<<< HEAD
   "id": "c1da5ed3",
||||||| 11b9cb7
   "id": "e199b4cb",
=======
   "id": "16440a91",
>>>>>>> documentation-devel
=======
   "id": "27ff7888",
>>>>>>> 552590ea8fad969b67afdba27558a1e6cb21016e
=======
   "id": "460a4d2b",
>>>>>>> b6e07d13baac92b2c1c9b43f8e4113ffa87bf495
   "metadata": {},
   "outputs": [],
   "source": [
    "plotColDataHistogram(sfe, c(\"nCounts_normed\", \"nGenes_normed\"))"
   ]
  },
  {
   "cell_type": "markdown",
<<<<<<< HEAD
<<<<<<< HEAD
<<<<<<< HEAD
<<<<<<< HEAD
<<<<<<< HEAD
   "id": "f9ded5ae",
||||||| 11b9cb7
   "id": "4ee03441",
=======
   "id": "bf79e1cb",
>>>>>>> documentation-devel
||||||| 614e9b1
   "id": "bf79e1cb",
=======
   "id": "9687e639",
>>>>>>> documentation-devel
||||||| 856b4c0
<<<<<<< HEAD
   "id": "f9ded5ae",
||||||| 11b9cb7
   "id": "4ee03441",
=======
   "id": "bf79e1cb",
>>>>>>> documentation-devel
=======
   "id": "3a43bf40",
>>>>>>> 552590ea8fad969b67afdba27558a1e6cb21016e
||||||| 452c944
   "id": "9687e639",
=======
   "id": "53db4a13",
>>>>>>> documentation-devel
||||||| 4da3324
<<<<<<< HEAD
<<<<<<< HEAD
<<<<<<< HEAD
   "id": "f9ded5ae",
||||||| 11b9cb7
   "id": "4ee03441",
=======
   "id": "bf79e1cb",
>>>>>>> documentation-devel
||||||| 614e9b1
   "id": "bf79e1cb",
=======
   "id": "9687e639",
>>>>>>> documentation-devel
||||||| 856b4c0
<<<<<<< HEAD
   "id": "f9ded5ae",
||||||| 11b9cb7
   "id": "4ee03441",
=======
   "id": "bf79e1cb",
>>>>>>> documentation-devel
=======
   "id": "3a43bf40",
>>>>>>> 552590ea8fad969b67afdba27558a1e6cb21016e
=======
   "id": "33fd2729",
>>>>>>> b6e07d13baac92b2c1c9b43f8e4113ffa87bf495
   "metadata": {},
   "source": [
    "Compared to the [FFPE CosMX non-small cell lung cancer dataset](https://pachterlab.github.io/voyager/articles/vig4_cosmx.html#cells), more transcripts per gene on average and a larger proportion of all genes are detected in this dataset, which is also FFPE. However, this should be interpreted with care, since these two datasets are from different tissues and have different gene panels, so this may or may not indicate that Xenium has better detection efficiency than CosMX."
   ]
  },
  {
   "cell_type": "code",
   "execution_count": null,
<<<<<<< HEAD
<<<<<<< HEAD
<<<<<<< HEAD
<<<<<<< HEAD
<<<<<<< HEAD
   "id": "290f6861",
||||||| 11b9cb7
   "id": "e1323586",
=======
   "id": "1bb4a00a",
>>>>>>> documentation-devel
||||||| 614e9b1
   "id": "1bb4a00a",
=======
   "id": "ee1f637e",
>>>>>>> documentation-devel
||||||| 856b4c0
<<<<<<< HEAD
   "id": "290f6861",
||||||| 11b9cb7
   "id": "e1323586",
=======
   "id": "1bb4a00a",
>>>>>>> documentation-devel
=======
   "id": "4f124581",
>>>>>>> 552590ea8fad969b67afdba27558a1e6cb21016e
||||||| 452c944
   "id": "ee1f637e",
=======
   "id": "ef51c364",
>>>>>>> documentation-devel
||||||| 4da3324
<<<<<<< HEAD
<<<<<<< HEAD
<<<<<<< HEAD
   "id": "290f6861",
||||||| 11b9cb7
   "id": "e1323586",
=======
   "id": "1bb4a00a",
>>>>>>> documentation-devel
||||||| 614e9b1
   "id": "1bb4a00a",
=======
   "id": "ee1f637e",
>>>>>>> documentation-devel
||||||| 856b4c0
<<<<<<< HEAD
   "id": "290f6861",
||||||| 11b9cb7
   "id": "e1323586",
=======
   "id": "1bb4a00a",
>>>>>>> documentation-devel
=======
   "id": "4f124581",
>>>>>>> 552590ea8fad969b67afdba27558a1e6cb21016e
=======
   "id": "ecc68db4",
>>>>>>> b6e07d13baac92b2c1c9b43f8e4113ffa87bf495
   "metadata": {},
   "outputs": [],
   "source": [
    "plotSpatialFeature(sfe, \"nCounts\", colGeometryName = \"cellSeg\")"
   ]
  },
  {
   "cell_type": "markdown",
<<<<<<< HEAD
<<<<<<< HEAD
<<<<<<< HEAD
<<<<<<< HEAD
<<<<<<< HEAD
   "id": "ad376f9a",
||||||| 11b9cb7
   "id": "3ff623d3",
=======
   "id": "fded818e",
>>>>>>> documentation-devel
||||||| 614e9b1
   "id": "fded818e",
=======
   "id": "1f63ee3f",
>>>>>>> documentation-devel
||||||| 856b4c0
<<<<<<< HEAD
   "id": "ad376f9a",
||||||| 11b9cb7
   "id": "3ff623d3",
=======
   "id": "fded818e",
>>>>>>> documentation-devel
=======
   "id": "ee2597fd",
>>>>>>> 552590ea8fad969b67afdba27558a1e6cb21016e
||||||| 452c944
   "id": "1f63ee3f",
=======
   "id": "2183e1b7",
>>>>>>> documentation-devel
||||||| 4da3324
<<<<<<< HEAD
<<<<<<< HEAD
<<<<<<< HEAD
   "id": "ad376f9a",
||||||| 11b9cb7
   "id": "3ff623d3",
=======
   "id": "fded818e",
>>>>>>> documentation-devel
||||||| 614e9b1
   "id": "fded818e",
=======
   "id": "1f63ee3f",
>>>>>>> documentation-devel
||||||| 856b4c0
<<<<<<< HEAD
   "id": "ad376f9a",
||||||| 11b9cb7
   "id": "3ff623d3",
=======
   "id": "fded818e",
>>>>>>> documentation-devel
=======
   "id": "ee2597fd",
>>>>>>> 552590ea8fad969b67afdba27558a1e6cb21016e
=======
   "id": "968d5026",
>>>>>>> b6e07d13baac92b2c1c9b43f8e4113ffa87bf495
   "metadata": {},
   "source": [
    "There seem to be FOV artifacts. However, the cell ID and FOV information were unavailable so we cannot examine them. "
   ]
  },
  {
   "cell_type": "code",
   "execution_count": null,
<<<<<<< HEAD
<<<<<<< HEAD
<<<<<<< HEAD
<<<<<<< HEAD
<<<<<<< HEAD
   "id": "549602cc",
||||||| 11b9cb7
   "id": "711164d3",
=======
   "id": "8ceb03da",
>>>>>>> documentation-devel
||||||| 614e9b1
   "id": "8ceb03da",
=======
   "id": "061ac44c",
>>>>>>> documentation-devel
||||||| 856b4c0
<<<<<<< HEAD
   "id": "549602cc",
||||||| 11b9cb7
   "id": "711164d3",
=======
   "id": "8ceb03da",
>>>>>>> documentation-devel
=======
   "id": "fe31f76c",
>>>>>>> 552590ea8fad969b67afdba27558a1e6cb21016e
||||||| 452c944
   "id": "061ac44c",
=======
   "id": "0a30a38e",
>>>>>>> documentation-devel
||||||| 4da3324
<<<<<<< HEAD
<<<<<<< HEAD
<<<<<<< HEAD
   "id": "549602cc",
||||||| 11b9cb7
   "id": "711164d3",
=======
   "id": "8ceb03da",
>>>>>>> documentation-devel
||||||| 614e9b1
   "id": "8ceb03da",
=======
   "id": "061ac44c",
>>>>>>> documentation-devel
||||||| 856b4c0
<<<<<<< HEAD
   "id": "549602cc",
||||||| 11b9cb7
   "id": "711164d3",
=======
   "id": "8ceb03da",
>>>>>>> documentation-devel
=======
   "id": "fe31f76c",
>>>>>>> 552590ea8fad969b67afdba27558a1e6cb21016e
=======
   "id": "2c99c2de",
>>>>>>> b6e07d13baac92b2c1c9b43f8e4113ffa87bf495
   "metadata": {},
   "outputs": [],
   "source": [
    "plotSpatialFeature(sfe, \"nGenes\", colGeometryName = \"cellSeg\")"
   ]
  },
  {
   "cell_type": "markdown",
<<<<<<< HEAD
<<<<<<< HEAD
<<<<<<< HEAD
<<<<<<< HEAD
<<<<<<< HEAD
   "id": "06151ab1",
||||||| 11b9cb7
   "id": "be6b43b2",
=======
   "id": "ceb4de14",
>>>>>>> documentation-devel
||||||| 614e9b1
   "id": "ceb4de14",
=======
   "id": "92400671",
>>>>>>> documentation-devel
||||||| 856b4c0
<<<<<<< HEAD
   "id": "06151ab1",
||||||| 11b9cb7
   "id": "be6b43b2",
=======
   "id": "ceb4de14",
>>>>>>> documentation-devel
=======
   "id": "d06c8172",
>>>>>>> 552590ea8fad969b67afdba27558a1e6cb21016e
||||||| 452c944
   "id": "92400671",
=======
   "id": "6a75ffb9",
>>>>>>> documentation-devel
||||||| 4da3324
<<<<<<< HEAD
<<<<<<< HEAD
<<<<<<< HEAD
   "id": "06151ab1",
||||||| 11b9cb7
   "id": "be6b43b2",
=======
   "id": "ceb4de14",
>>>>>>> documentation-devel
||||||| 614e9b1
   "id": "ceb4de14",
=======
   "id": "92400671",
>>>>>>> documentation-devel
||||||| 856b4c0
<<<<<<< HEAD
   "id": "06151ab1",
||||||| 11b9cb7
   "id": "be6b43b2",
=======
   "id": "ceb4de14",
>>>>>>> documentation-devel
=======
   "id": "d06c8172",
>>>>>>> 552590ea8fad969b67afdba27558a1e6cb21016e
=======
   "id": "fa9f7148",
>>>>>>> b6e07d13baac92b2c1c9b43f8e4113ffa87bf495
   "metadata": {
    "lines_to_next_cell": 0
   },
   "source": [
    "A standard examination is to look at the relationship between nCounts and nGenes:"
   ]
  },
  {
   "cell_type": "code",
   "execution_count": null,
<<<<<<< HEAD
<<<<<<< HEAD
<<<<<<< HEAD
<<<<<<< HEAD
<<<<<<< HEAD
   "id": "039bbd55",
||||||| 11b9cb7
   "id": "89e349b7",
=======
   "id": "118fbb08",
>>>>>>> documentation-devel
||||||| 614e9b1
   "id": "118fbb08",
=======
   "id": "d948509b",
>>>>>>> documentation-devel
||||||| 856b4c0
<<<<<<< HEAD
   "id": "039bbd55",
||||||| 11b9cb7
   "id": "89e349b7",
=======
   "id": "118fbb08",
>>>>>>> documentation-devel
=======
   "id": "10f1954a",
>>>>>>> 552590ea8fad969b67afdba27558a1e6cb21016e
||||||| 452c944
   "id": "d948509b",
=======
   "id": "3c172b01",
>>>>>>> documentation-devel
||||||| 4da3324
<<<<<<< HEAD
<<<<<<< HEAD
<<<<<<< HEAD
   "id": "039bbd55",
||||||| 11b9cb7
   "id": "89e349b7",
=======
   "id": "118fbb08",
>>>>>>> documentation-devel
||||||| 614e9b1
   "id": "118fbb08",
=======
   "id": "d948509b",
>>>>>>> documentation-devel
||||||| 856b4c0
<<<<<<< HEAD
   "id": "039bbd55",
||||||| 11b9cb7
   "id": "89e349b7",
=======
   "id": "118fbb08",
>>>>>>> documentation-devel
=======
   "id": "10f1954a",
>>>>>>> 552590ea8fad969b67afdba27558a1e6cb21016e
=======
   "id": "a7db30fa",
>>>>>>> b6e07d13baac92b2c1c9b43f8e4113ffa87bf495
   "metadata": {},
   "outputs": [],
   "source": [
    "plotColDataBin2D(sfe, \"nCounts\", \"nGenes\")"
   ]
  },
  {
   "cell_type": "markdown",
<<<<<<< HEAD
<<<<<<< HEAD
<<<<<<< HEAD
<<<<<<< HEAD
<<<<<<< HEAD
   "id": "1cedbbe4",
||||||| 11b9cb7
   "id": "bcb1086f",
=======
   "id": "dc5722a9",
>>>>>>> documentation-devel
||||||| 614e9b1
   "id": "dc5722a9",
=======
   "id": "75ec6179",
>>>>>>> documentation-devel
||||||| 856b4c0
<<<<<<< HEAD
   "id": "1cedbbe4",
||||||| 11b9cb7
   "id": "bcb1086f",
=======
   "id": "dc5722a9",
>>>>>>> documentation-devel
=======
   "id": "b1bece1e",
>>>>>>> 552590ea8fad969b67afdba27558a1e6cb21016e
||||||| 452c944
   "id": "75ec6179",
=======
   "id": "e0b4f099",
>>>>>>> documentation-devel
||||||| 4da3324
<<<<<<< HEAD
<<<<<<< HEAD
<<<<<<< HEAD
   "id": "1cedbbe4",
||||||| 11b9cb7
   "id": "bcb1086f",
=======
   "id": "dc5722a9",
>>>>>>> documentation-devel
||||||| 614e9b1
   "id": "dc5722a9",
=======
   "id": "75ec6179",
>>>>>>> documentation-devel
||||||| 856b4c0
<<<<<<< HEAD
   "id": "1cedbbe4",
||||||| 11b9cb7
   "id": "bcb1086f",
=======
   "id": "dc5722a9",
>>>>>>> documentation-devel
=======
   "id": "b1bece1e",
>>>>>>> 552590ea8fad969b67afdba27558a1e6cb21016e
=======
   "id": "6a559cd4",
>>>>>>> b6e07d13baac92b2c1c9b43f8e4113ffa87bf495
   "metadata": {
    "lines_to_next_cell": 0
   },
   "source": [
    "There appear to be two branches. \n",
    "\n",
    "Here we plot the distribution of cell area"
   ]
  },
  {
   "cell_type": "code",
   "execution_count": null,
<<<<<<< HEAD
<<<<<<< HEAD
<<<<<<< HEAD
<<<<<<< HEAD
<<<<<<< HEAD
   "id": "d4382ccd",
||||||| 11b9cb7
   "id": "b8017f9f",
=======
   "id": "ddca0b0d",
>>>>>>> documentation-devel
||||||| 614e9b1
   "id": "ddca0b0d",
=======
   "id": "b185a285",
>>>>>>> documentation-devel
||||||| 856b4c0
<<<<<<< HEAD
   "id": "d4382ccd",
||||||| 11b9cb7
   "id": "b8017f9f",
=======
   "id": "ddca0b0d",
>>>>>>> documentation-devel
=======
   "id": "07eed091",
>>>>>>> 552590ea8fad969b67afdba27558a1e6cb21016e
||||||| 452c944
   "id": "b185a285",
=======
   "id": "d9b1fcca",
>>>>>>> documentation-devel
||||||| 4da3324
<<<<<<< HEAD
<<<<<<< HEAD
<<<<<<< HEAD
   "id": "d4382ccd",
||||||| 11b9cb7
   "id": "b8017f9f",
=======
   "id": "ddca0b0d",
>>>>>>> documentation-devel
||||||| 614e9b1
   "id": "ddca0b0d",
=======
   "id": "b185a285",
>>>>>>> documentation-devel
||||||| 856b4c0
<<<<<<< HEAD
   "id": "d4382ccd",
||||||| 11b9cb7
   "id": "b8017f9f",
=======
   "id": "ddca0b0d",
>>>>>>> documentation-devel
=======
   "id": "07eed091",
>>>>>>> 552590ea8fad969b67afdba27558a1e6cb21016e
=======
   "id": "50ffe436",
>>>>>>> b6e07d13baac92b2c1c9b43f8e4113ffa87bf495
   "metadata": {},
   "outputs": [],
   "source": [
    "plotColDataHistogram(sfe, c(\"cell_area\", \"nucleus_area\"), scales = \"free_y\")"
   ]
  },
  {
   "cell_type": "markdown",
<<<<<<< HEAD
<<<<<<< HEAD
<<<<<<< HEAD
<<<<<<< HEAD
<<<<<<< HEAD
   "id": "977d9c7b",
||||||| 11b9cb7
   "id": "37395930",
=======
   "id": "c6dc946f",
>>>>>>> documentation-devel
||||||| 614e9b1
   "id": "c6dc946f",
=======
   "id": "fe9466fb",
>>>>>>> documentation-devel
||||||| 856b4c0
<<<<<<< HEAD
   "id": "977d9c7b",
||||||| 11b9cb7
   "id": "37395930",
=======
   "id": "c6dc946f",
>>>>>>> documentation-devel
=======
   "id": "b0907037",
>>>>>>> 552590ea8fad969b67afdba27558a1e6cb21016e
||||||| 452c944
   "id": "fe9466fb",
=======
   "id": "37d188f9",
>>>>>>> documentation-devel
||||||| 4da3324
<<<<<<< HEAD
<<<<<<< HEAD
<<<<<<< HEAD
   "id": "977d9c7b",
||||||| 11b9cb7
   "id": "37395930",
=======
   "id": "c6dc946f",
>>>>>>> documentation-devel
||||||| 614e9b1
   "id": "c6dc946f",
=======
   "id": "fe9466fb",
>>>>>>> documentation-devel
||||||| 856b4c0
<<<<<<< HEAD
   "id": "977d9c7b",
||||||| 11b9cb7
   "id": "37395930",
=======
   "id": "c6dc946f",
>>>>>>> documentation-devel
=======
   "id": "b0907037",
>>>>>>> 552590ea8fad969b67afdba27558a1e6cb21016e
=======
   "id": "a1807c38",
>>>>>>> b6e07d13baac92b2c1c9b43f8e4113ffa87bf495
   "metadata": {
    "lines_to_next_cell": 0
   },
   "source": [
    "That should be in pixels. There's a very long tail. The nuclei are much smaller than the cells.\n",
    "\n",
    "How is cell area distributed in space?"
   ]
  },
  {
   "cell_type": "code",
   "execution_count": null,
<<<<<<< HEAD
<<<<<<< HEAD
<<<<<<< HEAD
<<<<<<< HEAD
<<<<<<< HEAD
   "id": "ca9fbd56",
||||||| 11b9cb7
   "id": "00e100df",
=======
   "id": "0b3c8618",
>>>>>>> documentation-devel
||||||| 614e9b1
   "id": "0b3c8618",
=======
   "id": "199fd15e",
>>>>>>> documentation-devel
||||||| 856b4c0
<<<<<<< HEAD
   "id": "ca9fbd56",
||||||| 11b9cb7
   "id": "00e100df",
=======
   "id": "0b3c8618",
>>>>>>> documentation-devel
=======
   "id": "cd649d5b",
>>>>>>> 552590ea8fad969b67afdba27558a1e6cb21016e
||||||| 452c944
   "id": "199fd15e",
=======
   "id": "d7d24962",
>>>>>>> documentation-devel
||||||| 4da3324
<<<<<<< HEAD
<<<<<<< HEAD
<<<<<<< HEAD
   "id": "ca9fbd56",
||||||| 11b9cb7
   "id": "00e100df",
=======
   "id": "0b3c8618",
>>>>>>> documentation-devel
||||||| 614e9b1
   "id": "0b3c8618",
=======
   "id": "199fd15e",
>>>>>>> documentation-devel
||||||| 856b4c0
<<<<<<< HEAD
   "id": "ca9fbd56",
||||||| 11b9cb7
   "id": "00e100df",
=======
   "id": "0b3c8618",
>>>>>>> documentation-devel
=======
   "id": "cd649d5b",
>>>>>>> 552590ea8fad969b67afdba27558a1e6cb21016e
=======
   "id": "6ab3cba0",
>>>>>>> b6e07d13baac92b2c1c9b43f8e4113ffa87bf495
   "metadata": {},
   "outputs": [],
   "source": [
    "plotSpatialFeature(sfe, \"cell_area\", colGeometryName = \"cellSeg\")"
   ]
  },
  {
   "cell_type": "markdown",
<<<<<<< HEAD
<<<<<<< HEAD
<<<<<<< HEAD
<<<<<<< HEAD
<<<<<<< HEAD
   "id": "9f8589c0",
||||||| 11b9cb7
   "id": "c4cb47c4",
=======
   "id": "a82d85c8",
>>>>>>> documentation-devel
||||||| 614e9b1
   "id": "a82d85c8",
=======
   "id": "389f25ff",
>>>>>>> documentation-devel
||||||| 856b4c0
<<<<<<< HEAD
   "id": "9f8589c0",
||||||| 11b9cb7
   "id": "c4cb47c4",
=======
   "id": "a82d85c8",
>>>>>>> documentation-devel
=======
   "id": "f5d2ba40",
>>>>>>> 552590ea8fad969b67afdba27558a1e6cb21016e
||||||| 452c944
   "id": "389f25ff",
=======
   "id": "bc5deb94",
>>>>>>> documentation-devel
||||||| 4da3324
<<<<<<< HEAD
<<<<<<< HEAD
<<<<<<< HEAD
   "id": "9f8589c0",
||||||| 11b9cb7
   "id": "c4cb47c4",
=======
   "id": "a82d85c8",
>>>>>>> documentation-devel
||||||| 614e9b1
   "id": "a82d85c8",
=======
   "id": "389f25ff",
>>>>>>> documentation-devel
||||||| 856b4c0
<<<<<<< HEAD
   "id": "9f8589c0",
||||||| 11b9cb7
   "id": "c4cb47c4",
=======
   "id": "a82d85c8",
>>>>>>> documentation-devel
=======
   "id": "f5d2ba40",
>>>>>>> 552590ea8fad969b67afdba27558a1e6cb21016e
=======
   "id": "f626543c",
>>>>>>> b6e07d13baac92b2c1c9b43f8e4113ffa87bf495
   "metadata": {
    "lines_to_next_cell": 0
   },
   "source": [
    "Cells in the sparse region tend to be larger than those in the dense region. This may be biological or an artifact of the cell segmentation algorithm or both.\n",
    "\n",
    "Here the nuclei segmentations are plotted instead of cell segmentation. The nuclei are much smaller to the extent that they are difficult to see."
   ]
  },
  {
   "cell_type": "code",
   "execution_count": null,
<<<<<<< HEAD
<<<<<<< HEAD
<<<<<<< HEAD
<<<<<<< HEAD
<<<<<<< HEAD
   "id": "138233e0",
||||||| 11b9cb7
   "id": "b5a3d51f",
=======
   "id": "50fb050e",
>>>>>>> documentation-devel
||||||| 614e9b1
   "id": "50fb050e",
=======
   "id": "38def8f2",
>>>>>>> documentation-devel
||||||| 856b4c0
<<<<<<< HEAD
   "id": "138233e0",
||||||| 11b9cb7
   "id": "b5a3d51f",
=======
   "id": "50fb050e",
>>>>>>> documentation-devel
=======
   "id": "f5098fdc",
>>>>>>> 552590ea8fad969b67afdba27558a1e6cb21016e
||||||| 452c944
   "id": "38def8f2",
=======
   "id": "f763f3a5",
>>>>>>> documentation-devel
||||||| 4da3324
<<<<<<< HEAD
<<<<<<< HEAD
<<<<<<< HEAD
   "id": "138233e0",
||||||| 11b9cb7
   "id": "b5a3d51f",
=======
   "id": "50fb050e",
>>>>>>> documentation-devel
||||||| 614e9b1
   "id": "50fb050e",
=======
   "id": "38def8f2",
>>>>>>> documentation-devel
||||||| 856b4c0
<<<<<<< HEAD
   "id": "138233e0",
||||||| 11b9cb7
   "id": "b5a3d51f",
=======
   "id": "50fb050e",
>>>>>>> documentation-devel
=======
   "id": "f5098fdc",
>>>>>>> 552590ea8fad969b67afdba27558a1e6cb21016e
=======
   "id": "2a42bd3a",
>>>>>>> b6e07d13baac92b2c1c9b43f8e4113ffa87bf495
   "metadata": {},
   "outputs": [],
   "source": [
    "plotSpatialFeature(sfe, \"nucleus_area\", colGeometryName = \"nucSeg\")"
   ]
  },
  {
   "cell_type": "markdown",
<<<<<<< HEAD
<<<<<<< HEAD
<<<<<<< HEAD
<<<<<<< HEAD
<<<<<<< HEAD
   "id": "fb1082a3",
||||||| 11b9cb7
   "id": "98b07cc7",
=======
   "id": "7ceedcf0",
>>>>>>> documentation-devel
||||||| 614e9b1
   "id": "7ceedcf0",
=======
   "id": "bc624ed0",
>>>>>>> documentation-devel
||||||| 856b4c0
<<<<<<< HEAD
   "id": "fb1082a3",
||||||| 11b9cb7
   "id": "98b07cc7",
=======
   "id": "7ceedcf0",
>>>>>>> documentation-devel
=======
   "id": "923ea183",
>>>>>>> 552590ea8fad969b67afdba27558a1e6cb21016e
||||||| 452c944
   "id": "bc624ed0",
=======
   "id": "6bbeed70",
>>>>>>> documentation-devel
||||||| 4da3324
<<<<<<< HEAD
<<<<<<< HEAD
<<<<<<< HEAD
   "id": "fb1082a3",
||||||| 11b9cb7
   "id": "98b07cc7",
=======
   "id": "7ceedcf0",
>>>>>>> documentation-devel
||||||| 614e9b1
   "id": "7ceedcf0",
=======
   "id": "bc624ed0",
>>>>>>> documentation-devel
||||||| 856b4c0
<<<<<<< HEAD
   "id": "fb1082a3",
||||||| 11b9cb7
   "id": "98b07cc7",
=======
   "id": "7ceedcf0",
>>>>>>> documentation-devel
=======
   "id": "923ea183",
>>>>>>> 552590ea8fad969b67afdba27558a1e6cb21016e
=======
   "id": "65315afb",
>>>>>>> b6e07d13baac92b2c1c9b43f8e4113ffa87bf495
   "metadata": {
    "lines_to_next_cell": 0
   },
   "source": [
    "There's an outlier near the right edge of the section, throwing off the dynamic range of the plot. Upon inspection of the H&E image, the outlier is a bit of tissue debris that doesn't look like a cell. But we can still that cells in the dense, gland like regions tend to have larger nuclei. This may be biological, or that nuclei are so densely packed in those regions that they are more likely to be undersegmented, i.e. when multiple nuclei are counted as one by the nuclei segmentation program, or both.\n",
    "\n",
    "These observations motivate an examination of the relationship between cell area and nuclei area:"
   ]
  },
  {
   "cell_type": "code",
   "execution_count": null,
<<<<<<< HEAD
<<<<<<< HEAD
<<<<<<< HEAD
<<<<<<< HEAD
<<<<<<< HEAD
   "id": "224bb4db",
||||||| 11b9cb7
   "id": "23df506f",
=======
   "id": "f6e69d4d",
>>>>>>> documentation-devel
||||||| 614e9b1
   "id": "f6e69d4d",
=======
   "id": "9ca43fbd",
>>>>>>> documentation-devel
||||||| 856b4c0
<<<<<<< HEAD
   "id": "224bb4db",
||||||| 11b9cb7
   "id": "23df506f",
=======
   "id": "f6e69d4d",
>>>>>>> documentation-devel
=======
   "id": "afb79c87",
>>>>>>> 552590ea8fad969b67afdba27558a1e6cb21016e
||||||| 452c944
   "id": "9ca43fbd",
=======
   "id": "04127d88",
>>>>>>> documentation-devel
||||||| 4da3324
<<<<<<< HEAD
<<<<<<< HEAD
<<<<<<< HEAD
   "id": "224bb4db",
||||||| 11b9cb7
   "id": "23df506f",
=======
   "id": "f6e69d4d",
>>>>>>> documentation-devel
||||||| 614e9b1
   "id": "f6e69d4d",
=======
   "id": "9ca43fbd",
>>>>>>> documentation-devel
||||||| 856b4c0
<<<<<<< HEAD
   "id": "224bb4db",
||||||| 11b9cb7
   "id": "23df506f",
=======
   "id": "f6e69d4d",
>>>>>>> documentation-devel
=======
   "id": "afb79c87",
>>>>>>> 552590ea8fad969b67afdba27558a1e6cb21016e
=======
   "id": "69aa15c2",
>>>>>>> b6e07d13baac92b2c1c9b43f8e4113ffa87bf495
   "metadata": {},
   "outputs": [],
   "source": [
    "plotColDataBin2D(sfe, \"cell_area\", \"nucleus_area\") + \n",
    "    scale_fill_viridis_c()"
   ]
  },
  {
   "cell_type": "markdown",
<<<<<<< HEAD
<<<<<<< HEAD
<<<<<<< HEAD
<<<<<<< HEAD
<<<<<<< HEAD
   "id": "69338e37",
||||||| 11b9cb7
   "id": "5cddf271",
=======
   "id": "bdf4da43",
>>>>>>> documentation-devel
||||||| 614e9b1
   "id": "bdf4da43",
=======
   "id": "9dd6c782",
>>>>>>> documentation-devel
||||||| 856b4c0
<<<<<<< HEAD
   "id": "69338e37",
||||||| 11b9cb7
   "id": "5cddf271",
=======
   "id": "bdf4da43",
>>>>>>> documentation-devel
=======
   "id": "c397fce3",
>>>>>>> 552590ea8fad969b67afdba27558a1e6cb21016e
||||||| 452c944
   "id": "9dd6c782",
=======
   "id": "27f57f01",
>>>>>>> documentation-devel
||||||| 4da3324
<<<<<<< HEAD
<<<<<<< HEAD
<<<<<<< HEAD
   "id": "69338e37",
||||||| 11b9cb7
   "id": "5cddf271",
=======
   "id": "bdf4da43",
>>>>>>> documentation-devel
||||||| 614e9b1
   "id": "bdf4da43",
=======
   "id": "9dd6c782",
>>>>>>> documentation-devel
||||||| 856b4c0
<<<<<<< HEAD
   "id": "69338e37",
||||||| 11b9cb7
   "id": "5cddf271",
=======
   "id": "bdf4da43",
>>>>>>> documentation-devel
=======
   "id": "c397fce3",
>>>>>>> 552590ea8fad969b67afdba27558a1e6cb21016e
=======
   "id": "3a5e8c6a",
>>>>>>> b6e07d13baac92b2c1c9b43f8e4113ffa87bf495
   "metadata": {},
   "source": [
    "Again, there are two branches, probably related to cell density and cell type. The nucleus outlier also has large cell area, though it is not as much an outlier in cell area. However, it is a spatial outlier as it's unusually large compared to its neighbors (scroll up two plots back). \n",
    "\n",
    "Next we calculate the proportion of cell in this z-plane taken up by the nucleus, and examine the distribution:"
   ]
  },
  {
   "cell_type": "code",
   "execution_count": null,
<<<<<<< HEAD
<<<<<<< HEAD
<<<<<<< HEAD
<<<<<<< HEAD
<<<<<<< HEAD
   "id": "bb5dcdc2",
||||||| 11b9cb7
   "id": "3f5355ee",
=======
   "id": "d2de28a3",
>>>>>>> documentation-devel
||||||| 614e9b1
   "id": "d2de28a3",
=======
   "id": "4fb94e6a",
>>>>>>> documentation-devel
||||||| 856b4c0
<<<<<<< HEAD
   "id": "bb5dcdc2",
||||||| 11b9cb7
   "id": "3f5355ee",
=======
   "id": "d2de28a3",
>>>>>>> documentation-devel
=======
   "id": "1a5fb20c",
>>>>>>> 552590ea8fad969b67afdba27558a1e6cb21016e
||||||| 452c944
   "id": "4fb94e6a",
=======
   "id": "cb566e0d",
>>>>>>> documentation-devel
||||||| 4da3324
<<<<<<< HEAD
<<<<<<< HEAD
<<<<<<< HEAD
   "id": "bb5dcdc2",
||||||| 11b9cb7
   "id": "3f5355ee",
=======
   "id": "d2de28a3",
>>>>>>> documentation-devel
||||||| 614e9b1
   "id": "d2de28a3",
=======
   "id": "4fb94e6a",
>>>>>>> documentation-devel
||||||| 856b4c0
<<<<<<< HEAD
   "id": "bb5dcdc2",
||||||| 11b9cb7
   "id": "3f5355ee",
=======
   "id": "d2de28a3",
>>>>>>> documentation-devel
=======
   "id": "1a5fb20c",
>>>>>>> 552590ea8fad969b67afdba27558a1e6cb21016e
=======
   "id": "819984df",
>>>>>>> b6e07d13baac92b2c1c9b43f8e4113ffa87bf495
   "metadata": {},
   "outputs": [],
   "source": [
    "colData(sfe)$prop_nuc <- sfe$nucleus_area / sfe$cell_area"
   ]
  },
  {
   "cell_type": "code",
   "execution_count": null,
<<<<<<< HEAD
<<<<<<< HEAD
<<<<<<< HEAD
<<<<<<< HEAD
<<<<<<< HEAD
   "id": "7deb4dae",
||||||| 11b9cb7
   "id": "738d037f",
=======
   "id": "ced843aa",
>>>>>>> documentation-devel
||||||| 614e9b1
   "id": "ced843aa",
=======
   "id": "898dd372",
>>>>>>> documentation-devel
||||||| 856b4c0
<<<<<<< HEAD
   "id": "7deb4dae",
||||||| 11b9cb7
   "id": "738d037f",
=======
   "id": "ced843aa",
>>>>>>> documentation-devel
=======
   "id": "d661d186",
>>>>>>> 552590ea8fad969b67afdba27558a1e6cb21016e
||||||| 452c944
   "id": "898dd372",
=======
   "id": "ae0813d2",
>>>>>>> documentation-devel
||||||| 4da3324
<<<<<<< HEAD
<<<<<<< HEAD
<<<<<<< HEAD
   "id": "7deb4dae",
||||||| 11b9cb7
   "id": "738d037f",
=======
   "id": "ced843aa",
>>>>>>> documentation-devel
||||||| 614e9b1
   "id": "ced843aa",
=======
   "id": "898dd372",
>>>>>>> documentation-devel
||||||| 856b4c0
<<<<<<< HEAD
   "id": "7deb4dae",
||||||| 11b9cb7
   "id": "738d037f",
=======
   "id": "ced843aa",
>>>>>>> documentation-devel
=======
   "id": "d661d186",
>>>>>>> 552590ea8fad969b67afdba27558a1e6cb21016e
=======
   "id": "6e3a01f2",
>>>>>>> b6e07d13baac92b2c1c9b43f8e4113ffa87bf495
   "metadata": {},
   "outputs": [],
   "source": [
    "plotColDataHistogram(sfe, \"prop_nuc\")"
   ]
  },
  {
   "cell_type": "markdown",
<<<<<<< HEAD
<<<<<<< HEAD
<<<<<<< HEAD
<<<<<<< HEAD
<<<<<<< HEAD
   "id": "a1419d4b",
||||||| 11b9cb7
   "id": "89d9c5d7",
=======
   "id": "7471bbef",
>>>>>>> documentation-devel
||||||| 614e9b1
   "id": "7471bbef",
=======
   "id": "08592e36",
>>>>>>> documentation-devel
||||||| 856b4c0
<<<<<<< HEAD
   "id": "a1419d4b",
||||||| 11b9cb7
   "id": "89d9c5d7",
=======
   "id": "7471bbef",
>>>>>>> documentation-devel
=======
   "id": "61a02e59",
>>>>>>> 552590ea8fad969b67afdba27558a1e6cb21016e
||||||| 452c944
   "id": "08592e36",
=======
   "id": "80f1cf25",
>>>>>>> documentation-devel
||||||| 4da3324
<<<<<<< HEAD
<<<<<<< HEAD
<<<<<<< HEAD
   "id": "a1419d4b",
||||||| 11b9cb7
   "id": "89d9c5d7",
=======
   "id": "7471bbef",
>>>>>>> documentation-devel
||||||| 614e9b1
   "id": "7471bbef",
=======
   "id": "08592e36",
>>>>>>> documentation-devel
||||||| 856b4c0
<<<<<<< HEAD
   "id": "a1419d4b",
||||||| 11b9cb7
   "id": "89d9c5d7",
=======
   "id": "7471bbef",
>>>>>>> documentation-devel
=======
   "id": "61a02e59",
>>>>>>> 552590ea8fad969b67afdba27558a1e6cb21016e
=======
   "id": "49a23cdf",
>>>>>>> b6e07d13baac92b2c1c9b43f8e4113ffa87bf495
   "metadata": {
    "lines_to_next_cell": 0
   },
   "source": [
    "This distribution could have been generated from two peaks that were combined. From the histogram, there do not seem to be cells without nuclei or segmentation artifacts where the nucleus is larger than the cell. However, there are so many cells in this dataset and it is possible that just a few cells would not be visible on this histogram. We double check:"
   ]
  },
  {
   "cell_type": "code",
   "execution_count": null,
<<<<<<< HEAD
<<<<<<< HEAD
<<<<<<< HEAD
<<<<<<< HEAD
<<<<<<< HEAD
   "id": "678012d3",
||||||| 11b9cb7
   "id": "3245363c",
=======
   "id": "2414184c",
>>>>>>> documentation-devel
||||||| 614e9b1
   "id": "2414184c",
=======
   "id": "e5727c59",
>>>>>>> documentation-devel
||||||| 856b4c0
<<<<<<< HEAD
   "id": "678012d3",
||||||| 11b9cb7
   "id": "3245363c",
=======
   "id": "2414184c",
>>>>>>> documentation-devel
=======
   "id": "279461fa",
>>>>>>> 552590ea8fad969b67afdba27558a1e6cb21016e
||||||| 452c944
   "id": "e5727c59",
=======
   "id": "1b7f0bdd",
>>>>>>> documentation-devel
||||||| 4da3324
<<<<<<< HEAD
<<<<<<< HEAD
<<<<<<< HEAD
   "id": "678012d3",
||||||| 11b9cb7
   "id": "3245363c",
=======
   "id": "2414184c",
>>>>>>> documentation-devel
||||||| 614e9b1
   "id": "2414184c",
=======
   "id": "e5727c59",
>>>>>>> documentation-devel
||||||| 856b4c0
<<<<<<< HEAD
   "id": "678012d3",
||||||| 11b9cb7
   "id": "3245363c",
=======
   "id": "2414184c",
>>>>>>> documentation-devel
=======
   "id": "279461fa",
>>>>>>> 552590ea8fad969b67afdba27558a1e6cb21016e
=======
   "id": "5bb9cb77",
>>>>>>> b6e07d13baac92b2c1c9b43f8e4113ffa87bf495
   "metadata": {},
   "outputs": [],
   "source": [
    "# No nucleus\n",
    "sum(sfe$nucleus_area < 1)\n",
    "# Nucleus larger than cell\n",
    "sum(sfe$nucleus_area > sfe$cell_area)"
   ]
  },
  {
   "cell_type": "markdown",
<<<<<<< HEAD
<<<<<<< HEAD
<<<<<<< HEAD
<<<<<<< HEAD
<<<<<<< HEAD
   "id": "f4c1c9b3",
||||||| 11b9cb7
   "id": "d1c414f4",
=======
   "id": "12b038e6",
>>>>>>> documentation-devel
||||||| 614e9b1
   "id": "12b038e6",
=======
   "id": "b4e22d86",
>>>>>>> documentation-devel
||||||| 856b4c0
<<<<<<< HEAD
   "id": "f4c1c9b3",
||||||| 11b9cb7
   "id": "d1c414f4",
=======
   "id": "12b038e6",
>>>>>>> documentation-devel
=======
   "id": "40b2a2dd",
>>>>>>> 552590ea8fad969b67afdba27558a1e6cb21016e
||||||| 452c944
   "id": "b4e22d86",
=======
   "id": "364e85f9",
>>>>>>> documentation-devel
||||||| 4da3324
<<<<<<< HEAD
<<<<<<< HEAD
<<<<<<< HEAD
   "id": "f4c1c9b3",
||||||| 11b9cb7
   "id": "d1c414f4",
=======
   "id": "12b038e6",
>>>>>>> documentation-devel
||||||| 614e9b1
   "id": "12b038e6",
=======
   "id": "b4e22d86",
>>>>>>> documentation-devel
||||||| 856b4c0
<<<<<<< HEAD
   "id": "f4c1c9b3",
||||||| 11b9cb7
   "id": "d1c414f4",
=======
   "id": "12b038e6",
>>>>>>> documentation-devel
=======
   "id": "40b2a2dd",
>>>>>>> 552590ea8fad969b67afdba27558a1e6cb21016e
=======
   "id": "147741b9",
>>>>>>> b6e07d13baac92b2c1c9b43f8e4113ffa87bf495
   "metadata": {
    "lines_to_next_cell": 0
   },
   "source": [
    "So there are no cells without nuclei or nuclei larger than their cells. Here we plot the nuclei proportion in space:"
   ]
  },
  {
   "cell_type": "code",
   "execution_count": null,
<<<<<<< HEAD
<<<<<<< HEAD
<<<<<<< HEAD
<<<<<<< HEAD
<<<<<<< HEAD
   "id": "217bb456",
||||||| 11b9cb7
   "id": "32c77aa9",
=======
   "id": "951caee1",
>>>>>>> documentation-devel
||||||| 614e9b1
   "id": "951caee1",
=======
   "id": "f83df7f6",
>>>>>>> documentation-devel
||||||| 856b4c0
<<<<<<< HEAD
   "id": "217bb456",
||||||| 11b9cb7
   "id": "32c77aa9",
=======
   "id": "951caee1",
>>>>>>> documentation-devel
=======
   "id": "4848d71f",
>>>>>>> 552590ea8fad969b67afdba27558a1e6cb21016e
||||||| 452c944
   "id": "f83df7f6",
=======
   "id": "1abda768",
>>>>>>> documentation-devel
||||||| 4da3324
<<<<<<< HEAD
<<<<<<< HEAD
<<<<<<< HEAD
   "id": "217bb456",
||||||| 11b9cb7
   "id": "32c77aa9",
=======
   "id": "951caee1",
>>>>>>> documentation-devel
||||||| 614e9b1
   "id": "951caee1",
=======
   "id": "f83df7f6",
>>>>>>> documentation-devel
||||||| 856b4c0
<<<<<<< HEAD
   "id": "217bb456",
||||||| 11b9cb7
   "id": "32c77aa9",
=======
   "id": "951caee1",
>>>>>>> documentation-devel
=======
   "id": "4848d71f",
>>>>>>> 552590ea8fad969b67afdba27558a1e6cb21016e
=======
   "id": "581c69a8",
>>>>>>> b6e07d13baac92b2c1c9b43f8e4113ffa87bf495
   "metadata": {},
   "outputs": [],
   "source": [
    "plotSpatialFeature(sfe, \"prop_nuc\", colGeometryName = \"cellSeg\")"
   ]
  },
  {
   "cell_type": "markdown",
<<<<<<< HEAD
<<<<<<< HEAD
<<<<<<< HEAD
<<<<<<< HEAD
<<<<<<< HEAD
   "id": "51991ad6",
||||||| 11b9cb7
   "id": "38eb8640",
=======
   "id": "a03a3508",
>>>>>>> documentation-devel
||||||| 614e9b1
   "id": "a03a3508",
=======
   "id": "f0bcf215",
>>>>>>> documentation-devel
||||||| 856b4c0
<<<<<<< HEAD
   "id": "51991ad6",
||||||| 11b9cb7
   "id": "38eb8640",
=======
   "id": "a03a3508",
>>>>>>> documentation-devel
=======
   "id": "9bf47f62",
>>>>>>> 552590ea8fad969b67afdba27558a1e6cb21016e
||||||| 452c944
   "id": "f0bcf215",
=======
   "id": "0a3271e9",
>>>>>>> documentation-devel
||||||| 4da3324
<<<<<<< HEAD
<<<<<<< HEAD
<<<<<<< HEAD
   "id": "51991ad6",
||||||| 11b9cb7
   "id": "38eb8640",
=======
   "id": "a03a3508",
>>>>>>> documentation-devel
||||||| 614e9b1
   "id": "a03a3508",
=======
   "id": "f0bcf215",
>>>>>>> documentation-devel
||||||| 856b4c0
<<<<<<< HEAD
   "id": "51991ad6",
||||||| 11b9cb7
   "id": "38eb8640",
=======
   "id": "a03a3508",
>>>>>>> documentation-devel
=======
   "id": "9bf47f62",
>>>>>>> 552590ea8fad969b67afdba27558a1e6cb21016e
=======
   "id": "05111ed7",
>>>>>>> b6e07d13baac92b2c1c9b43f8e4113ffa87bf495
   "metadata": {
    "lines_to_next_cell": 0
   },
   "source": [
    "Cells in some histological regions have larger proportions occupied by the nuclei. It is interesting to check, controlling for cell type, how cell area, nucleus area, and the proportion of cell occupied by nucleus relate to gene expression. However, a problem in performing such an analysis is that cell segmentation is only available for one z-plane here and these areas also relate to where this z-plane intersects each cell. \n",
    "\n",
    "Below we plot a 2D histogram to better show the density of points on this plot:"
   ]
  },
  {
   "cell_type": "code",
   "execution_count": null,
<<<<<<< HEAD
<<<<<<< HEAD
<<<<<<< HEAD
<<<<<<< HEAD
<<<<<<< HEAD
   "id": "ddb54945",
||||||| 11b9cb7
   "id": "10067b59",
=======
   "id": "4b9295da",
>>>>>>> documentation-devel
||||||| 614e9b1
   "id": "4b9295da",
=======
   "id": "5db91ccc",
>>>>>>> documentation-devel
||||||| 856b4c0
<<<<<<< HEAD
   "id": "ddb54945",
||||||| 11b9cb7
   "id": "10067b59",
=======
   "id": "4b9295da",
>>>>>>> documentation-devel
=======
   "id": "6badd63a",
>>>>>>> 552590ea8fad969b67afdba27558a1e6cb21016e
||||||| 452c944
   "id": "5db91ccc",
=======
   "id": "28e8b5a4",
>>>>>>> documentation-devel
||||||| 4da3324
<<<<<<< HEAD
<<<<<<< HEAD
<<<<<<< HEAD
   "id": "ddb54945",
||||||| 11b9cb7
   "id": "10067b59",
=======
   "id": "4b9295da",
>>>>>>> documentation-devel
||||||| 614e9b1
   "id": "4b9295da",
=======
   "id": "5db91ccc",
>>>>>>> documentation-devel
||||||| 856b4c0
<<<<<<< HEAD
   "id": "ddb54945",
||||||| 11b9cb7
   "id": "10067b59",
=======
   "id": "4b9295da",
>>>>>>> documentation-devel
=======
   "id": "6badd63a",
>>>>>>> 552590ea8fad969b67afdba27558a1e6cb21016e
=======
   "id": "80125441",
>>>>>>> b6e07d13baac92b2c1c9b43f8e4113ffa87bf495
   "metadata": {},
   "outputs": [],
   "source": [
    "plotColDataBin2D(sfe, \"cell_area\", \"prop_nuc\") + \n",
    "    scale_fill_viridis_c()"
   ]
  },
  {
   "cell_type": "markdown",
<<<<<<< HEAD
<<<<<<< HEAD
<<<<<<< HEAD
<<<<<<< HEAD
<<<<<<< HEAD
   "id": "ea7bc09d",
||||||| 11b9cb7
   "id": "36cc0421",
=======
   "id": "036c5162",
>>>>>>> documentation-devel
||||||| 614e9b1
   "id": "036c5162",
=======
   "id": "de082dc1",
>>>>>>> documentation-devel
||||||| 856b4c0
<<<<<<< HEAD
   "id": "ea7bc09d",
||||||| 11b9cb7
   "id": "36cc0421",
=======
   "id": "036c5162",
>>>>>>> documentation-devel
=======
   "id": "c5d64acf",
>>>>>>> 552590ea8fad969b67afdba27558a1e6cb21016e
||||||| 452c944
   "id": "de082dc1",
=======
   "id": "05f0f5ea",
>>>>>>> documentation-devel
||||||| 4da3324
<<<<<<< HEAD
<<<<<<< HEAD
<<<<<<< HEAD
   "id": "ea7bc09d",
||||||| 11b9cb7
   "id": "36cc0421",
=======
   "id": "036c5162",
>>>>>>> documentation-devel
||||||| 614e9b1
   "id": "036c5162",
=======
   "id": "de082dc1",
>>>>>>> documentation-devel
||||||| 856b4c0
<<<<<<< HEAD
   "id": "ea7bc09d",
||||||| 11b9cb7
   "id": "36cc0421",
=======
   "id": "036c5162",
>>>>>>> documentation-devel
=======
   "id": "c5d64acf",
>>>>>>> 552590ea8fad969b67afdba27558a1e6cb21016e
=======
   "id": "7790547a",
>>>>>>> b6e07d13baac92b2c1c9b43f8e4113ffa87bf495
   "metadata": {
    "lines_to_next_cell": 0
   },
   "source": [
    "Smaller cells tend to have higher proportion occupied by the nucleus. This can be related to cell type, or it could be a limitation in how small the nuclei can be in this tissue.\n",
    "\n",
    "We also examine the relationship between nucleus area and the proportion of cell occupied by the nucleus:"
   ]
  },
  {
   "cell_type": "code",
   "execution_count": null,
<<<<<<< HEAD
<<<<<<< HEAD
<<<<<<< HEAD
<<<<<<< HEAD
<<<<<<< HEAD
   "id": "4d4345dd",
||||||| 11b9cb7
   "id": "50c4b46f",
=======
   "id": "9c5df9fa",
>>>>>>> documentation-devel
||||||| 614e9b1
   "id": "9c5df9fa",
=======
   "id": "3c67cd71",
>>>>>>> documentation-devel
||||||| 856b4c0
<<<<<<< HEAD
   "id": "4d4345dd",
||||||| 11b9cb7
   "id": "50c4b46f",
=======
   "id": "9c5df9fa",
>>>>>>> documentation-devel
=======
   "id": "40c61ba4",
>>>>>>> 552590ea8fad969b67afdba27558a1e6cb21016e
||||||| 452c944
   "id": "3c67cd71",
=======
   "id": "ad8872ea",
>>>>>>> documentation-devel
||||||| 4da3324
<<<<<<< HEAD
<<<<<<< HEAD
<<<<<<< HEAD
   "id": "4d4345dd",
||||||| 11b9cb7
   "id": "50c4b46f",
=======
   "id": "9c5df9fa",
>>>>>>> documentation-devel
||||||| 614e9b1
   "id": "9c5df9fa",
=======
   "id": "3c67cd71",
>>>>>>> documentation-devel
||||||| 856b4c0
<<<<<<< HEAD
   "id": "4d4345dd",
||||||| 11b9cb7
   "id": "50c4b46f",
=======
   "id": "9c5df9fa",
>>>>>>> documentation-devel
=======
   "id": "40c61ba4",
>>>>>>> 552590ea8fad969b67afdba27558a1e6cb21016e
=======
   "id": "bdc3a082",
>>>>>>> b6e07d13baac92b2c1c9b43f8e4113ffa87bf495
   "metadata": {},
   "outputs": [],
   "source": [
    "plotColDataBin2D(sfe, \"nucleus_area\", \"prop_nuc\") + \n",
    "    scale_fill_viridis_c()"
   ]
  },
  {
   "cell_type": "markdown",
<<<<<<< HEAD
<<<<<<< HEAD
<<<<<<< HEAD
<<<<<<< HEAD
<<<<<<< HEAD
   "id": "c4588bbe",
||||||| 11b9cb7
   "id": "2cc744a1",
=======
   "id": "a41958af",
>>>>>>> documentation-devel
||||||| 614e9b1
   "id": "a41958af",
=======
   "id": "27f7fb47",
>>>>>>> documentation-devel
||||||| 856b4c0
<<<<<<< HEAD
   "id": "c4588bbe",
||||||| 11b9cb7
   "id": "2cc744a1",
=======
   "id": "a41958af",
>>>>>>> documentation-devel
=======
   "id": "8a210224",
>>>>>>> 552590ea8fad969b67afdba27558a1e6cb21016e
||||||| 452c944
   "id": "27f7fb47",
=======
   "id": "ce940612",
>>>>>>> documentation-devel
||||||| 4da3324
<<<<<<< HEAD
<<<<<<< HEAD
<<<<<<< HEAD
   "id": "c4588bbe",
||||||| 11b9cb7
   "id": "2cc744a1",
=======
   "id": "a41958af",
>>>>>>> documentation-devel
||||||| 614e9b1
   "id": "a41958af",
=======
   "id": "27f7fb47",
>>>>>>> documentation-devel
||||||| 856b4c0
<<<<<<< HEAD
   "id": "c4588bbe",
||||||| 11b9cb7
   "id": "2cc744a1",
=======
   "id": "a41958af",
>>>>>>> documentation-devel
=======
   "id": "8a210224",
>>>>>>> 552590ea8fad969b67afdba27558a1e6cb21016e
=======
   "id": "8f2cbc84",
>>>>>>> b6e07d13baac92b2c1c9b43f8e4113ffa87bf495
   "metadata": {
    "lines_to_next_cell": 0
   },
   "source": [
    "The outlier is obvious. There are more cells with both small nuclei and low proportion of area occupied by the nucleus.\n",
    "\n",
    "## Negative controls\n",
    "Since there are only a few hundred genes plus negative control probes, all row names of the SFE object can be printed out to find what the negative control probes are called."
   ]
  },
  {
   "cell_type": "code",
   "execution_count": null,
<<<<<<< HEAD
<<<<<<< HEAD
<<<<<<< HEAD
<<<<<<< HEAD
<<<<<<< HEAD
   "id": "932f1a6e",
||||||| 11b9cb7
   "id": "822d62b1",
=======
   "id": "269064be",
>>>>>>> documentation-devel
||||||| 614e9b1
   "id": "269064be",
=======
   "id": "f9193d34",
>>>>>>> documentation-devel
||||||| 856b4c0
<<<<<<< HEAD
   "id": "932f1a6e",
||||||| 11b9cb7
   "id": "822d62b1",
=======
   "id": "269064be",
>>>>>>> documentation-devel
=======
   "id": "b8dd5f3b",
>>>>>>> 552590ea8fad969b67afdba27558a1e6cb21016e
||||||| 452c944
   "id": "f9193d34",
=======
   "id": "ae6fde99",
>>>>>>> documentation-devel
||||||| 4da3324
<<<<<<< HEAD
<<<<<<< HEAD
<<<<<<< HEAD
   "id": "932f1a6e",
||||||| 11b9cb7
   "id": "822d62b1",
=======
   "id": "269064be",
>>>>>>> documentation-devel
||||||| 614e9b1
   "id": "269064be",
=======
   "id": "f9193d34",
>>>>>>> documentation-devel
||||||| 856b4c0
<<<<<<< HEAD
   "id": "932f1a6e",
||||||| 11b9cb7
   "id": "822d62b1",
=======
   "id": "269064be",
>>>>>>> documentation-devel
=======
   "id": "b8dd5f3b",
>>>>>>> 552590ea8fad969b67afdba27558a1e6cb21016e
=======
   "id": "7fdf5c3c",
>>>>>>> b6e07d13baac92b2c1c9b43f8e4113ffa87bf495
   "metadata": {},
   "outputs": [],
   "source": [
    "rownames(sfe)"
   ]
  },
  {
   "cell_type": "markdown",
<<<<<<< HEAD
<<<<<<< HEAD
<<<<<<< HEAD
<<<<<<< HEAD
<<<<<<< HEAD
   "id": "e1412b7e",
||||||| 11b9cb7
   "id": "27765286",
=======
   "id": "f36c8292",
>>>>>>> documentation-devel
||||||| 614e9b1
   "id": "f36c8292",
=======
   "id": "29c7c2a8",
>>>>>>> documentation-devel
||||||| 856b4c0
<<<<<<< HEAD
   "id": "e1412b7e",
||||||| 11b9cb7
   "id": "27765286",
=======
   "id": "f36c8292",
>>>>>>> documentation-devel
=======
   "id": "659e8964",
>>>>>>> 552590ea8fad969b67afdba27558a1e6cb21016e
||||||| 452c944
   "id": "29c7c2a8",
=======
   "id": "3704c1ab",
>>>>>>> documentation-devel
||||||| 4da3324
<<<<<<< HEAD
<<<<<<< HEAD
<<<<<<< HEAD
   "id": "e1412b7e",
||||||| 11b9cb7
   "id": "27765286",
=======
   "id": "f36c8292",
>>>>>>> documentation-devel
||||||| 614e9b1
   "id": "f36c8292",
=======
   "id": "29c7c2a8",
>>>>>>> documentation-devel
||||||| 856b4c0
<<<<<<< HEAD
   "id": "e1412b7e",
||||||| 11b9cb7
   "id": "27765286",
=======
   "id": "f36c8292",
>>>>>>> documentation-devel
=======
   "id": "659e8964",
>>>>>>> 552590ea8fad969b67afdba27558a1e6cb21016e
=======
   "id": "1a4151f2",
>>>>>>> b6e07d13baac92b2c1c9b43f8e4113ffa87bf495
   "metadata": {},
   "source": [
    "According to the Xenium paper [@Janesick2022-rp], there are 3 types of controls:\n",
    "\n",
    "> 1) probe controls to assess non-specific binding to RNA, \n",
    "2) decoding controls to assess misassigned genes, and \n",
    "3) genomic DNA (gDNA) controls to ensure the signal is from RNA.\n",
    "\n",
    "The paper does not explain in detail how those control probes were designed, nor explain what the blank probes are. But the blank probes can be used as a negative control."
   ]
  },
  {
   "cell_type": "code",
   "execution_count": null,
<<<<<<< HEAD
<<<<<<< HEAD
<<<<<<< HEAD
<<<<<<< HEAD
<<<<<<< HEAD
   "id": "3bbdc352",
||||||| 11b9cb7
   "id": "1753ee00",
=======
   "id": "00b4b740",
>>>>>>> documentation-devel
||||||| 614e9b1
   "id": "00b4b740",
=======
   "id": "9fe19b4f",
>>>>>>> documentation-devel
||||||| 856b4c0
<<<<<<< HEAD
   "id": "3bbdc352",
||||||| 11b9cb7
   "id": "1753ee00",
=======
   "id": "00b4b740",
>>>>>>> documentation-devel
=======
   "id": "33bada15",
>>>>>>> 552590ea8fad969b67afdba27558a1e6cb21016e
||||||| 452c944
   "id": "9fe19b4f",
=======
   "id": "c28e29a8",
>>>>>>> documentation-devel
||||||| 4da3324
<<<<<<< HEAD
<<<<<<< HEAD
<<<<<<< HEAD
   "id": "3bbdc352",
||||||| 11b9cb7
   "id": "1753ee00",
=======
   "id": "00b4b740",
>>>>>>> documentation-devel
||||||| 614e9b1
   "id": "00b4b740",
=======
   "id": "9fe19b4f",
>>>>>>> documentation-devel
||||||| 856b4c0
<<<<<<< HEAD
   "id": "3bbdc352",
||||||| 11b9cb7
   "id": "1753ee00",
=======
   "id": "00b4b740",
>>>>>>> documentation-devel
=======
   "id": "33bada15",
>>>>>>> 552590ea8fad969b67afdba27558a1e6cb21016e
=======
   "id": "ecdce60c",
>>>>>>> b6e07d13baac92b2c1c9b43f8e4113ffa87bf495
   "metadata": {},
   "outputs": [],
   "source": [
    "is_blank <- str_detect(rownames(sfe), \"^BLANK_\")\n",
    "sum(is_blank)"
   ]
  },
  {
   "cell_type": "markdown",
<<<<<<< HEAD
<<<<<<< HEAD
<<<<<<< HEAD
<<<<<<< HEAD
<<<<<<< HEAD
   "id": "fc9cc2e9",
||||||| 11b9cb7
   "id": "aae78a2c",
=======
   "id": "4c546cb1",
>>>>>>> documentation-devel
||||||| 614e9b1
   "id": "4c546cb1",
=======
   "id": "fea4b8fd",
>>>>>>> documentation-devel
||||||| 856b4c0
<<<<<<< HEAD
   "id": "fc9cc2e9",
||||||| 11b9cb7
   "id": "aae78a2c",
=======
   "id": "4c546cb1",
>>>>>>> documentation-devel
=======
   "id": "352af0d9",
>>>>>>> 552590ea8fad969b67afdba27558a1e6cb21016e
||||||| 452c944
   "id": "fea4b8fd",
=======
   "id": "f1eab903",
>>>>>>> documentation-devel
||||||| 4da3324
<<<<<<< HEAD
<<<<<<< HEAD
<<<<<<< HEAD
   "id": "fc9cc2e9",
||||||| 11b9cb7
   "id": "aae78a2c",
=======
   "id": "4c546cb1",
>>>>>>> documentation-devel
||||||| 614e9b1
   "id": "4c546cb1",
=======
   "id": "fea4b8fd",
>>>>>>> documentation-devel
||||||| 856b4c0
<<<<<<< HEAD
   "id": "fc9cc2e9",
||||||| 11b9cb7
   "id": "aae78a2c",
=======
   "id": "4c546cb1",
>>>>>>> documentation-devel
=======
   "id": "352af0d9",
>>>>>>> 552590ea8fad969b67afdba27558a1e6cb21016e
=======
   "id": "ab867f1e",
>>>>>>> b6e07d13baac92b2c1c9b43f8e4113ffa87bf495
   "metadata": {
    "lines_to_next_cell": 0
   },
   "source": [
    "This should be number 1, the probe control"
   ]
  },
  {
   "cell_type": "code",
   "execution_count": null,
<<<<<<< HEAD
<<<<<<< HEAD
<<<<<<< HEAD
<<<<<<< HEAD
<<<<<<< HEAD
   "id": "6dd58d91",
||||||| 11b9cb7
   "id": "cf17aa73",
=======
   "id": "1fcad469",
>>>>>>> documentation-devel
||||||| 614e9b1
   "id": "1fcad469",
=======
   "id": "3fd398a6",
>>>>>>> documentation-devel
||||||| 856b4c0
<<<<<<< HEAD
   "id": "6dd58d91",
||||||| 11b9cb7
   "id": "cf17aa73",
=======
   "id": "1fcad469",
>>>>>>> documentation-devel
=======
   "id": "53d8b241",
>>>>>>> 552590ea8fad969b67afdba27558a1e6cb21016e
||||||| 452c944
   "id": "3fd398a6",
=======
   "id": "377a6883",
>>>>>>> documentation-devel
||||||| 4da3324
<<<<<<< HEAD
<<<<<<< HEAD
<<<<<<< HEAD
   "id": "6dd58d91",
||||||| 11b9cb7
   "id": "cf17aa73",
=======
   "id": "1fcad469",
>>>>>>> documentation-devel
||||||| 614e9b1
   "id": "1fcad469",
=======
   "id": "3fd398a6",
>>>>>>> documentation-devel
||||||| 856b4c0
<<<<<<< HEAD
   "id": "6dd58d91",
||||||| 11b9cb7
   "id": "cf17aa73",
=======
   "id": "1fcad469",
>>>>>>> documentation-devel
=======
   "id": "53d8b241",
>>>>>>> 552590ea8fad969b67afdba27558a1e6cb21016e
=======
   "id": "21fb3cf9",
>>>>>>> b6e07d13baac92b2c1c9b43f8e4113ffa87bf495
   "metadata": {},
   "outputs": [],
   "source": [
    "is_neg <- str_detect(rownames(sfe), \"^NegControlProbe\")\n",
    "sum(is_neg)"
   ]
  },
  {
   "cell_type": "markdown",
<<<<<<< HEAD
<<<<<<< HEAD
<<<<<<< HEAD
<<<<<<< HEAD
<<<<<<< HEAD
   "id": "7f19574e",
||||||| 11b9cb7
   "id": "3d5a094c",
=======
   "id": "c6c26552",
>>>>>>> documentation-devel
||||||| 614e9b1
   "id": "c6c26552",
=======
   "id": "83272229",
>>>>>>> documentation-devel
||||||| 856b4c0
<<<<<<< HEAD
   "id": "7f19574e",
||||||| 11b9cb7
   "id": "3d5a094c",
=======
   "id": "c6c26552",
>>>>>>> documentation-devel
=======
   "id": "73a42f02",
>>>>>>> 552590ea8fad969b67afdba27558a1e6cb21016e
||||||| 452c944
   "id": "83272229",
=======
   "id": "712c648a",
>>>>>>> documentation-devel
||||||| 4da3324
<<<<<<< HEAD
<<<<<<< HEAD
<<<<<<< HEAD
   "id": "7f19574e",
||||||| 11b9cb7
   "id": "3d5a094c",
=======
   "id": "c6c26552",
>>>>>>> documentation-devel
||||||| 614e9b1
   "id": "c6c26552",
=======
   "id": "83272229",
>>>>>>> documentation-devel
||||||| 856b4c0
<<<<<<< HEAD
   "id": "7f19574e",
||||||| 11b9cb7
   "id": "3d5a094c",
=======
   "id": "c6c26552",
>>>>>>> documentation-devel
=======
   "id": "73a42f02",
>>>>>>> 552590ea8fad969b67afdba27558a1e6cb21016e
=======
   "id": "1e6fcf62",
>>>>>>> b6e07d13baac92b2c1c9b43f8e4113ffa87bf495
   "metadata": {
    "lines_to_next_cell": 0
   },
   "source": [
    "This should be number 2, the decoding control"
   ]
  },
  {
   "cell_type": "code",
   "execution_count": null,
<<<<<<< HEAD
<<<<<<< HEAD
<<<<<<< HEAD
<<<<<<< HEAD
<<<<<<< HEAD
   "id": "3550ea55",
||||||| 11b9cb7
   "id": "9ceb00e3",
=======
   "id": "72a8a436",
>>>>>>> documentation-devel
||||||| 614e9b1
   "id": "72a8a436",
=======
   "id": "ff2acc3d",
>>>>>>> documentation-devel
||||||| 856b4c0
<<<<<<< HEAD
   "id": "3550ea55",
||||||| 11b9cb7
   "id": "9ceb00e3",
=======
   "id": "72a8a436",
>>>>>>> documentation-devel
=======
   "id": "8438ab13",
>>>>>>> 552590ea8fad969b67afdba27558a1e6cb21016e
||||||| 452c944
   "id": "ff2acc3d",
=======
   "id": "2d1d9fb2",
>>>>>>> documentation-devel
||||||| 4da3324
<<<<<<< HEAD
<<<<<<< HEAD
<<<<<<< HEAD
   "id": "3550ea55",
||||||| 11b9cb7
   "id": "9ceb00e3",
=======
   "id": "72a8a436",
>>>>>>> documentation-devel
||||||| 614e9b1
   "id": "72a8a436",
=======
   "id": "ff2acc3d",
>>>>>>> documentation-devel
||||||| 856b4c0
<<<<<<< HEAD
   "id": "3550ea55",
||||||| 11b9cb7
   "id": "9ceb00e3",
=======
   "id": "72a8a436",
>>>>>>> documentation-devel
=======
   "id": "8438ab13",
>>>>>>> 552590ea8fad969b67afdba27558a1e6cb21016e
=======
   "id": "2e6aa9bb",
>>>>>>> b6e07d13baac92b2c1c9b43f8e4113ffa87bf495
   "metadata": {},
   "outputs": [],
   "source": [
    "is_neg2 <- str_detect(rownames(sfe), \"^NegControlCodeword\")\n",
    "sum(is_neg2)"
   ]
  },
  {
   "cell_type": "markdown",
<<<<<<< HEAD
<<<<<<< HEAD
<<<<<<< HEAD
<<<<<<< HEAD
<<<<<<< HEAD
   "id": "c602afad",
||||||| 11b9cb7
   "id": "ef9d20f9",
=======
   "id": "57e1c6cb",
>>>>>>> documentation-devel
||||||| 614e9b1
   "id": "57e1c6cb",
=======
   "id": "fa2c4577",
>>>>>>> documentation-devel
||||||| 856b4c0
<<<<<<< HEAD
   "id": "c602afad",
||||||| 11b9cb7
   "id": "ef9d20f9",
=======
   "id": "57e1c6cb",
>>>>>>> documentation-devel
=======
   "id": "40805a0e",
>>>>>>> 552590ea8fad969b67afdba27558a1e6cb21016e
||||||| 452c944
   "id": "fa2c4577",
=======
   "id": "e3b15eab",
>>>>>>> documentation-devel
||||||| 4da3324
<<<<<<< HEAD
<<<<<<< HEAD
<<<<<<< HEAD
   "id": "c602afad",
||||||| 11b9cb7
   "id": "ef9d20f9",
=======
   "id": "57e1c6cb",
>>>>>>> documentation-devel
||||||| 614e9b1
   "id": "57e1c6cb",
=======
   "id": "fa2c4577",
>>>>>>> documentation-devel
||||||| 856b4c0
<<<<<<< HEAD
   "id": "c602afad",
||||||| 11b9cb7
   "id": "ef9d20f9",
=======
   "id": "57e1c6cb",
>>>>>>> documentation-devel
=======
   "id": "40805a0e",
>>>>>>> 552590ea8fad969b67afdba27558a1e6cb21016e
=======
   "id": "f8bd483c",
>>>>>>> b6e07d13baac92b2c1c9b43f8e4113ffa87bf495
   "metadata": {
    "lines_to_next_cell": 0
   },
   "source": [
    "This must be number 3, gDNA control"
   ]
  },
  {
   "cell_type": "code",
   "execution_count": null,
<<<<<<< HEAD
<<<<<<< HEAD
<<<<<<< HEAD
<<<<<<< HEAD
<<<<<<< HEAD
   "id": "0aca480d",
||||||| 11b9cb7
   "id": "323563d4",
=======
   "id": "e81e9bfb",
>>>>>>> documentation-devel
||||||| 614e9b1
   "id": "e81e9bfb",
=======
   "id": "d428a815",
>>>>>>> documentation-devel
||||||| 856b4c0
<<<<<<< HEAD
   "id": "0aca480d",
||||||| 11b9cb7
   "id": "323563d4",
=======
   "id": "e81e9bfb",
>>>>>>> documentation-devel
=======
   "id": "cbf7f48c",
>>>>>>> 552590ea8fad969b67afdba27558a1e6cb21016e
||||||| 452c944
   "id": "d428a815",
=======
   "id": "f701d865",
>>>>>>> documentation-devel
||||||| 4da3324
<<<<<<< HEAD
<<<<<<< HEAD
<<<<<<< HEAD
   "id": "0aca480d",
||||||| 11b9cb7
   "id": "323563d4",
=======
   "id": "e81e9bfb",
>>>>>>> documentation-devel
||||||| 614e9b1
   "id": "e81e9bfb",
=======
   "id": "d428a815",
>>>>>>> documentation-devel
||||||| 856b4c0
<<<<<<< HEAD
   "id": "0aca480d",
||||||| 11b9cb7
   "id": "323563d4",
=======
   "id": "e81e9bfb",
>>>>>>> documentation-devel
=======
   "id": "cbf7f48c",
>>>>>>> 552590ea8fad969b67afdba27558a1e6cb21016e
=======
   "id": "e4b43166",
>>>>>>> b6e07d13baac92b2c1c9b43f8e4113ffa87bf495
   "metadata": {},
   "outputs": [],
   "source": [
    "is_anti <- str_detect(rownames(sfe), \"^antisense\")\n",
    "sum(is_anti)"
   ]
  },
  {
   "cell_type": "markdown",
<<<<<<< HEAD
<<<<<<< HEAD
<<<<<<< HEAD
<<<<<<< HEAD
<<<<<<< HEAD
   "id": "7109200d",
||||||| 11b9cb7
   "id": "f4d6820e",
=======
   "id": "1e35f686",
>>>>>>> documentation-devel
||||||| 614e9b1
   "id": "1e35f686",
=======
   "id": "606a2dff",
>>>>>>> documentation-devel
||||||| 856b4c0
<<<<<<< HEAD
   "id": "7109200d",
||||||| 11b9cb7
   "id": "f4d6820e",
=======
   "id": "1e35f686",
>>>>>>> documentation-devel
=======
   "id": "86a294e0",
>>>>>>> 552590ea8fad969b67afdba27558a1e6cb21016e
||||||| 452c944
   "id": "606a2dff",
=======
   "id": "f3450b6f",
>>>>>>> documentation-devel
||||||| 4da3324
<<<<<<< HEAD
<<<<<<< HEAD
<<<<<<< HEAD
   "id": "7109200d",
||||||| 11b9cb7
   "id": "f4d6820e",
=======
   "id": "1e35f686",
>>>>>>> documentation-devel
||||||| 614e9b1
   "id": "1e35f686",
=======
   "id": "606a2dff",
>>>>>>> documentation-devel
||||||| 856b4c0
<<<<<<< HEAD
   "id": "7109200d",
||||||| 11b9cb7
   "id": "f4d6820e",
=======
   "id": "1e35f686",
>>>>>>> documentation-devel
=======
   "id": "86a294e0",
>>>>>>> 552590ea8fad969b67afdba27558a1e6cb21016e
=======
   "id": "428934e7",
>>>>>>> b6e07d13baac92b2c1c9b43f8e4113ffa87bf495
   "metadata": {
    "lines_to_next_cell": 0
   },
   "source": [
    "Also make an indicator of whether a feature is any sort of negative control"
   ]
  },
  {
   "cell_type": "code",
   "execution_count": null,
<<<<<<< HEAD
<<<<<<< HEAD
<<<<<<< HEAD
<<<<<<< HEAD
<<<<<<< HEAD
   "id": "a049f868",
||||||| 11b9cb7
   "id": "10fa8149",
=======
   "id": "e84cc135",
>>>>>>> documentation-devel
||||||| 614e9b1
   "id": "e84cc135",
=======
   "id": "48ca9d1c",
>>>>>>> documentation-devel
||||||| 856b4c0
<<<<<<< HEAD
   "id": "a049f868",
||||||| 11b9cb7
   "id": "10fa8149",
=======
   "id": "e84cc135",
>>>>>>> documentation-devel
=======
   "id": "a25286e4",
>>>>>>> 552590ea8fad969b67afdba27558a1e6cb21016e
||||||| 452c944
   "id": "48ca9d1c",
=======
   "id": "974803da",
>>>>>>> documentation-devel
||||||| 4da3324
<<<<<<< HEAD
<<<<<<< HEAD
<<<<<<< HEAD
   "id": "a049f868",
||||||| 11b9cb7
   "id": "10fa8149",
=======
   "id": "e84cc135",
>>>>>>> documentation-devel
||||||| 614e9b1
   "id": "e84cc135",
=======
   "id": "48ca9d1c",
>>>>>>> documentation-devel
||||||| 856b4c0
<<<<<<< HEAD
   "id": "a049f868",
||||||| 11b9cb7
   "id": "10fa8149",
=======
   "id": "e84cc135",
>>>>>>> documentation-devel
=======
   "id": "a25286e4",
>>>>>>> 552590ea8fad969b67afdba27558a1e6cb21016e
=======
   "id": "f79b0dfb",
>>>>>>> b6e07d13baac92b2c1c9b43f8e4113ffa87bf495
   "metadata": {},
   "outputs": [],
   "source": [
    "is_any_neg <- is_blank | is_neg | is_neg2 | is_anti"
   ]
  },
  {
   "cell_type": "markdown",
<<<<<<< HEAD
<<<<<<< HEAD
<<<<<<< HEAD
<<<<<<< HEAD
<<<<<<< HEAD
   "id": "3cf937f2",
||||||| 11b9cb7
   "id": "dd58196e",
=======
   "id": "c67c5cb3",
>>>>>>> documentation-devel
||||||| 614e9b1
   "id": "c67c5cb3",
=======
   "id": "da630263",
>>>>>>> documentation-devel
||||||| 856b4c0
<<<<<<< HEAD
   "id": "3cf937f2",
||||||| 11b9cb7
   "id": "dd58196e",
=======
   "id": "c67c5cb3",
>>>>>>> documentation-devel
=======
   "id": "77c0b3bf",
>>>>>>> 552590ea8fad969b67afdba27558a1e6cb21016e
||||||| 452c944
   "id": "da630263",
=======
   "id": "04453051",
>>>>>>> documentation-devel
||||||| 4da3324
<<<<<<< HEAD
<<<<<<< HEAD
<<<<<<< HEAD
   "id": "3cf937f2",
||||||| 11b9cb7
   "id": "dd58196e",
=======
   "id": "c67c5cb3",
>>>>>>> documentation-devel
||||||| 614e9b1
   "id": "c67c5cb3",
=======
   "id": "da630263",
>>>>>>> documentation-devel
||||||| 856b4c0
<<<<<<< HEAD
   "id": "3cf937f2",
||||||| 11b9cb7
   "id": "dd58196e",
=======
   "id": "c67c5cb3",
>>>>>>> documentation-devel
=======
   "id": "77c0b3bf",
>>>>>>> 552590ea8fad969b67afdba27558a1e6cb21016e
=======
   "id": "4e9fa559",
>>>>>>> b6e07d13baac92b2c1c9b43f8e4113ffa87bf495
   "metadata": {
    "lines_to_next_cell": 0
   },
   "source": [
    "The `addPerCellQCMetrics()` function in the `scuttle` package can conveniently add transcript counts, proportion of total counts, and number of features detected for any subset of features to the SCE object. Here we do this for the SFE object, as SFE inherits from SCE. "
   ]
  },
  {
   "cell_type": "code",
   "execution_count": null,
<<<<<<< HEAD
<<<<<<< HEAD
<<<<<<< HEAD
<<<<<<< HEAD
<<<<<<< HEAD
   "id": "4b4e7009",
||||||| 11b9cb7
   "id": "23cfc4f9",
=======
   "id": "71894d0e",
>>>>>>> documentation-devel
||||||| 614e9b1
   "id": "71894d0e",
=======
   "id": "0bff3abe",
>>>>>>> documentation-devel
||||||| 856b4c0
<<<<<<< HEAD
   "id": "4b4e7009",
||||||| 11b9cb7
   "id": "23cfc4f9",
=======
   "id": "71894d0e",
>>>>>>> documentation-devel
=======
   "id": "f72ae5c7",
>>>>>>> 552590ea8fad969b67afdba27558a1e6cb21016e
||||||| 452c944
   "id": "0bff3abe",
=======
   "id": "51ca61fd",
>>>>>>> documentation-devel
||||||| 4da3324
<<<<<<< HEAD
<<<<<<< HEAD
<<<<<<< HEAD
   "id": "4b4e7009",
||||||| 11b9cb7
   "id": "23cfc4f9",
=======
   "id": "71894d0e",
>>>>>>> documentation-devel
||||||| 614e9b1
   "id": "71894d0e",
=======
   "id": "0bff3abe",
>>>>>>> documentation-devel
||||||| 856b4c0
<<<<<<< HEAD
   "id": "4b4e7009",
||||||| 11b9cb7
   "id": "23cfc4f9",
=======
   "id": "71894d0e",
>>>>>>> documentation-devel
=======
   "id": "f72ae5c7",
>>>>>>> 552590ea8fad969b67afdba27558a1e6cb21016e
=======
   "id": "ed679b46",
>>>>>>> b6e07d13baac92b2c1c9b43f8e4113ffa87bf495
   "metadata": {},
   "outputs": [],
   "source": [
    "sfe <- addPerCellQCMetrics(sfe, subsets = list(blank = is_blank,\n",
    "                                               negProbe = is_neg,\n",
    "                                               negCodeword = is_neg2,\n",
    "                                               anti = is_anti,\n",
    "                                               any_neg = is_any_neg))"
   ]
  },
  {
   "cell_type": "code",
   "execution_count": null,
<<<<<<< HEAD
<<<<<<< HEAD
<<<<<<< HEAD
<<<<<<< HEAD
<<<<<<< HEAD
   "id": "7f0dd335",
||||||| 11b9cb7
   "id": "cec1dd1f",
=======
   "id": "8f0a2a19",
>>>>>>> documentation-devel
||||||| 614e9b1
   "id": "8f0a2a19",
=======
   "id": "986e1a21",
>>>>>>> documentation-devel
||||||| 856b4c0
<<<<<<< HEAD
   "id": "7f0dd335",
||||||| 11b9cb7
   "id": "cec1dd1f",
=======
   "id": "8f0a2a19",
>>>>>>> documentation-devel
=======
   "id": "215dec05",
>>>>>>> 552590ea8fad969b67afdba27558a1e6cb21016e
||||||| 452c944
   "id": "986e1a21",
=======
   "id": "ac0f7b5f",
>>>>>>> documentation-devel
||||||| 4da3324
<<<<<<< HEAD
<<<<<<< HEAD
<<<<<<< HEAD
   "id": "7f0dd335",
||||||| 11b9cb7
   "id": "cec1dd1f",
=======
   "id": "8f0a2a19",
>>>>>>> documentation-devel
||||||| 614e9b1
   "id": "8f0a2a19",
=======
   "id": "986e1a21",
>>>>>>> documentation-devel
||||||| 856b4c0
<<<<<<< HEAD
   "id": "7f0dd335",
||||||| 11b9cb7
   "id": "cec1dd1f",
=======
   "id": "8f0a2a19",
>>>>>>> documentation-devel
=======
   "id": "215dec05",
>>>>>>> 552590ea8fad969b67afdba27558a1e6cb21016e
=======
   "id": "00f2caee",
>>>>>>> b6e07d13baac92b2c1c9b43f8e4113ffa87bf495
   "metadata": {},
   "outputs": [],
   "source": [
    "names(colData(sfe))"
   ]
  },
  {
   "cell_type": "markdown",
<<<<<<< HEAD
<<<<<<< HEAD
<<<<<<< HEAD
<<<<<<< HEAD
<<<<<<< HEAD
   "id": "cba4817a",
||||||| 11b9cb7
   "id": "512e5b46",
=======
   "id": "e0c669d5",
>>>>>>> documentation-devel
||||||| 614e9b1
   "id": "e0c669d5",
=======
   "id": "b0c1de0d",
>>>>>>> documentation-devel
||||||| 856b4c0
<<<<<<< HEAD
   "id": "cba4817a",
||||||| 11b9cb7
   "id": "512e5b46",
=======
   "id": "e0c669d5",
>>>>>>> documentation-devel
=======
   "id": "56acb1d2",
>>>>>>> 552590ea8fad969b67afdba27558a1e6cb21016e
||||||| 452c944
   "id": "b0c1de0d",
=======
   "id": "6381513d",
>>>>>>> documentation-devel
||||||| 4da3324
<<<<<<< HEAD
<<<<<<< HEAD
<<<<<<< HEAD
   "id": "cba4817a",
||||||| 11b9cb7
   "id": "512e5b46",
=======
   "id": "e0c669d5",
>>>>>>> documentation-devel
||||||| 614e9b1
   "id": "e0c669d5",
=======
   "id": "b0c1de0d",
>>>>>>> documentation-devel
||||||| 856b4c0
<<<<<<< HEAD
   "id": "cba4817a",
||||||| 11b9cb7
   "id": "512e5b46",
=======
   "id": "e0c669d5",
>>>>>>> documentation-devel
=======
   "id": "56acb1d2",
>>>>>>> 552590ea8fad969b67afdba27558a1e6cb21016e
=======
   "id": "99730972",
>>>>>>> b6e07d13baac92b2c1c9b43f8e4113ffa87bf495
   "metadata": {},
   "source": [
    "Next we plot the proportion of transcript counts coming from any negative control. "
   ]
  },
  {
   "cell_type": "code",
   "execution_count": null,
<<<<<<< HEAD
<<<<<<< HEAD
<<<<<<< HEAD
<<<<<<< HEAD
<<<<<<< HEAD
   "id": "2e0a8f1c",
||||||| 11b9cb7
   "id": "d4b90795",
=======
   "id": "05d09a52",
>>>>>>> documentation-devel
||||||| 614e9b1
   "id": "05d09a52",
=======
   "id": "069e46c0",
>>>>>>> documentation-devel
||||||| 856b4c0
<<<<<<< HEAD
   "id": "2e0a8f1c",
||||||| 11b9cb7
   "id": "d4b90795",
=======
   "id": "05d09a52",
>>>>>>> documentation-devel
=======
   "id": "ff986003",
>>>>>>> 552590ea8fad969b67afdba27558a1e6cb21016e
||||||| 452c944
   "id": "069e46c0",
=======
   "id": "8857affb",
>>>>>>> documentation-devel
||||||| 4da3324
<<<<<<< HEAD
<<<<<<< HEAD
<<<<<<< HEAD
   "id": "2e0a8f1c",
||||||| 11b9cb7
   "id": "d4b90795",
=======
   "id": "05d09a52",
>>>>>>> documentation-devel
||||||| 614e9b1
   "id": "05d09a52",
=======
   "id": "069e46c0",
>>>>>>> documentation-devel
||||||| 856b4c0
<<<<<<< HEAD
   "id": "2e0a8f1c",
||||||| 11b9cb7
   "id": "d4b90795",
=======
   "id": "05d09a52",
>>>>>>> documentation-devel
=======
   "id": "ff986003",
>>>>>>> 552590ea8fad969b67afdba27558a1e6cb21016e
=======
   "id": "e28ea853",
>>>>>>> b6e07d13baac92b2c1c9b43f8e4113ffa87bf495
   "metadata": {},
   "outputs": [],
   "source": [
    "cols_use <- names(colData(sfe))[str_detect(names(colData(sfe)), \"_percent$\")]\n",
    "plotColDataHistogram(sfe, cols_use, bins = 100, ncol = 3)"
   ]
  },
  {
   "cell_type": "markdown",
<<<<<<< HEAD
<<<<<<< HEAD
<<<<<<< HEAD
<<<<<<< HEAD
<<<<<<< HEAD
   "id": "24ff4df2",
||||||| 11b9cb7
   "id": "3dedc433",
=======
   "id": "0f668726",
>>>>>>> documentation-devel
||||||| 614e9b1
   "id": "0f668726",
=======
   "id": "4d5a3158",
>>>>>>> documentation-devel
||||||| 856b4c0
<<<<<<< HEAD
   "id": "24ff4df2",
||||||| 11b9cb7
   "id": "3dedc433",
=======
   "id": "0f668726",
>>>>>>> documentation-devel
=======
   "id": "d5f80c1a",
>>>>>>> 552590ea8fad969b67afdba27558a1e6cb21016e
||||||| 452c944
   "id": "4d5a3158",
=======
   "id": "39ff21df",
>>>>>>> documentation-devel
||||||| 4da3324
<<<<<<< HEAD
<<<<<<< HEAD
<<<<<<< HEAD
   "id": "24ff4df2",
||||||| 11b9cb7
   "id": "3dedc433",
=======
   "id": "0f668726",
>>>>>>> documentation-devel
||||||| 614e9b1
   "id": "0f668726",
=======
   "id": "4d5a3158",
>>>>>>> documentation-devel
||||||| 856b4c0
<<<<<<< HEAD
   "id": "24ff4df2",
||||||| 11b9cb7
   "id": "3dedc433",
=======
   "id": "0f668726",
>>>>>>> documentation-devel
=======
   "id": "d5f80c1a",
>>>>>>> 552590ea8fad969b67afdba27558a1e6cb21016e
=======
   "id": "428ae2e6",
>>>>>>> b6e07d13baac92b2c1c9b43f8e4113ffa87bf495
   "metadata": {
    "lines_to_next_cell": 0
   },
   "source": [
    "The histogram is dominated by the bin at zero and there are some extreme outliers too few to be seen but evident from the scale of the x axis. We also plot the histogram only for cells with at least 1 count from a negative control. The NA's come from cells that got segmented but have no transcripts detected."
   ]
  },
  {
   "cell_type": "code",
   "execution_count": null,
<<<<<<< HEAD
<<<<<<< HEAD
<<<<<<< HEAD
<<<<<<< HEAD
<<<<<<< HEAD
   "id": "db50e467",
||||||| 11b9cb7
   "id": "2c759266",
=======
   "id": "74de8150",
>>>>>>> documentation-devel
||||||| 614e9b1
   "id": "74de8150",
=======
   "id": "16f5850f",
>>>>>>> documentation-devel
||||||| 856b4c0
<<<<<<< HEAD
   "id": "db50e467",
||||||| 11b9cb7
   "id": "2c759266",
=======
   "id": "74de8150",
>>>>>>> documentation-devel
=======
   "id": "c1043be1",
>>>>>>> 552590ea8fad969b67afdba27558a1e6cb21016e
||||||| 452c944
   "id": "16f5850f",
=======
   "id": "fb379db4",
>>>>>>> documentation-devel
||||||| 4da3324
<<<<<<< HEAD
<<<<<<< HEAD
<<<<<<< HEAD
   "id": "db50e467",
||||||| 11b9cb7
   "id": "2c759266",
=======
   "id": "74de8150",
>>>>>>> documentation-devel
||||||| 614e9b1
   "id": "74de8150",
=======
   "id": "16f5850f",
>>>>>>> documentation-devel
||||||| 856b4c0
<<<<<<< HEAD
   "id": "db50e467",
||||||| 11b9cb7
   "id": "2c759266",
=======
   "id": "74de8150",
>>>>>>> documentation-devel
=======
   "id": "c1043be1",
>>>>>>> 552590ea8fad969b67afdba27558a1e6cb21016e
=======
   "id": "64d6cdb7",
>>>>>>> b6e07d13baac92b2c1c9b43f8e4113ffa87bf495
   "metadata": {},
   "outputs": [],
   "source": [
    "plotColDataHistogram(sfe, cols_use, bins = 100, ncol = 3) + \n",
    "    scale_x_log10() +\n",
    "    annotation_logticks(sides = \"b\")"
   ]
  },
  {
   "cell_type": "markdown",
<<<<<<< HEAD
<<<<<<< HEAD
<<<<<<< HEAD
<<<<<<< HEAD
<<<<<<< HEAD
   "id": "84a6a342",
||||||| 11b9cb7
   "id": "649ea49c",
=======
   "id": "d9c22339",
>>>>>>> documentation-devel
||||||| 614e9b1
   "id": "d9c22339",
=======
   "id": "6a0a37af",
>>>>>>> documentation-devel
||||||| 856b4c0
<<<<<<< HEAD
   "id": "84a6a342",
||||||| 11b9cb7
   "id": "649ea49c",
=======
   "id": "d9c22339",
>>>>>>> documentation-devel
=======
   "id": "d5b3b197",
>>>>>>> 552590ea8fad969b67afdba27558a1e6cb21016e
||||||| 452c944
   "id": "6a0a37af",
=======
   "id": "00d301c7",
>>>>>>> documentation-devel
||||||| 4da3324
<<<<<<< HEAD
<<<<<<< HEAD
<<<<<<< HEAD
   "id": "84a6a342",
||||||| 11b9cb7
   "id": "649ea49c",
=======
   "id": "d9c22339",
>>>>>>> documentation-devel
||||||| 614e9b1
   "id": "d9c22339",
=======
   "id": "6a0a37af",
>>>>>>> documentation-devel
||||||| 856b4c0
<<<<<<< HEAD
   "id": "84a6a342",
||||||| 11b9cb7
   "id": "649ea49c",
=======
   "id": "d9c22339",
>>>>>>> documentation-devel
=======
   "id": "d5b3b197",
>>>>>>> 552590ea8fad969b67afdba27558a1e6cb21016e
=======
   "id": "c9dfceb9",
>>>>>>> b6e07d13baac92b2c1c9b43f8e4113ffa87bf495
   "metadata": {
    "lines_to_next_cell": 0
   },
   "source": [
    "The vast majority of these cells have less than 1% of transcript counts from negative controls, but there are outliers with up to 50%. \n",
    "\n",
    "Next we plot the distribution of the number of negative control counts per cell:"
   ]
  },
  {
   "cell_type": "code",
   "execution_count": null,
<<<<<<< HEAD
<<<<<<< HEAD
<<<<<<< HEAD
<<<<<<< HEAD
<<<<<<< HEAD
   "id": "a75d68f2",
||||||| 11b9cb7
   "id": "07be11c4",
=======
   "id": "874e4830",
>>>>>>> documentation-devel
||||||| 614e9b1
   "id": "874e4830",
=======
   "id": "fcba0f12",
>>>>>>> documentation-devel
||||||| 856b4c0
<<<<<<< HEAD
   "id": "a75d68f2",
||||||| 11b9cb7
   "id": "07be11c4",
=======
   "id": "874e4830",
>>>>>>> documentation-devel
=======
   "id": "61223257",
>>>>>>> 552590ea8fad969b67afdba27558a1e6cb21016e
||||||| 452c944
   "id": "fcba0f12",
=======
   "id": "5ca1c522",
>>>>>>> documentation-devel
||||||| 4da3324
<<<<<<< HEAD
<<<<<<< HEAD
<<<<<<< HEAD
   "id": "a75d68f2",
||||||| 11b9cb7
   "id": "07be11c4",
=======
   "id": "874e4830",
>>>>>>> documentation-devel
||||||| 614e9b1
   "id": "874e4830",
=======
   "id": "fcba0f12",
>>>>>>> documentation-devel
||||||| 856b4c0
<<<<<<< HEAD
   "id": "a75d68f2",
||||||| 11b9cb7
   "id": "07be11c4",
=======
   "id": "874e4830",
>>>>>>> documentation-devel
=======
   "id": "61223257",
>>>>>>> 552590ea8fad969b67afdba27558a1e6cb21016e
=======
   "id": "14b76caa",
>>>>>>> b6e07d13baac92b2c1c9b43f8e4113ffa87bf495
   "metadata": {},
   "outputs": [],
   "source": [
    "cols_use2 <- names(colData(sfe))[str_detect(names(colData(sfe)), \"_detected$\")]\n",
    "plotColDataHistogram(sfe, cols_use2, bins = 20, ncol = 3) +\n",
    "    # Avoid decimal breaks on x axis unless there're too few breaks\n",
    "    scale_x_continuous(breaks = scales::breaks_extended(Q = c(1,2,5)))"
   ]
  },
  {
   "cell_type": "markdown",
<<<<<<< HEAD
<<<<<<< HEAD
<<<<<<< HEAD
<<<<<<< HEAD
<<<<<<< HEAD
   "id": "76434143",
||||||| 11b9cb7
   "id": "740a82f3",
=======
   "id": "9dd6504a",
>>>>>>> documentation-devel
||||||| 614e9b1
   "id": "9dd6504a",
=======
   "id": "b2e9a9a7",
>>>>>>> documentation-devel
||||||| 856b4c0
<<<<<<< HEAD
   "id": "76434143",
||||||| 11b9cb7
   "id": "740a82f3",
=======
   "id": "9dd6504a",
>>>>>>> documentation-devel
=======
   "id": "5086ac68",
>>>>>>> 552590ea8fad969b67afdba27558a1e6cb21016e
||||||| 452c944
   "id": "b2e9a9a7",
=======
   "id": "a55e72dc",
>>>>>>> documentation-devel
||||||| 4da3324
<<<<<<< HEAD
<<<<<<< HEAD
<<<<<<< HEAD
   "id": "76434143",
||||||| 11b9cb7
   "id": "740a82f3",
=======
   "id": "9dd6504a",
>>>>>>> documentation-devel
||||||| 614e9b1
   "id": "9dd6504a",
=======
   "id": "b2e9a9a7",
>>>>>>> documentation-devel
||||||| 856b4c0
<<<<<<< HEAD
   "id": "76434143",
||||||| 11b9cb7
   "id": "740a82f3",
=======
   "id": "9dd6504a",
>>>>>>> documentation-devel
=======
   "id": "5086ac68",
>>>>>>> 552590ea8fad969b67afdba27558a1e6cb21016e
=======
   "id": "59b3eefe",
>>>>>>> b6e07d13baac92b2c1c9b43f8e4113ffa87bf495
   "metadata": {},
   "source": [
    "The counts are low, mostly zero, but there are outliers with up to 10 counts of all types aggregated. Then the outlier with 50% of counts from negative controls must have very low total real transcript counts to begin with.\n",
    "\n",
    "The `scuttle` package can detect outliers, but by default it assigns anything above zero as an outlier, since that is over 3 median absolute deviations (MADs) away from the median, which is 0, and the MAD is 0 since the vast majority of cells don't have any negative control count. But it makes sense to allow a small proportion of negative controls. Here we use the distribution just for cells with at least 1 negative control count to find outliers. This distribution has a very long tail and some definite outliers.\n",
    "\n",
    "The code below extracts the outliers, based only on cells with at least one negative control count"
   ]
  },
  {
   "cell_type": "code",
   "execution_count": null,
<<<<<<< HEAD
<<<<<<< HEAD
<<<<<<< HEAD
<<<<<<< HEAD
<<<<<<< HEAD
   "id": "202f49f6",
||||||| 11b9cb7
   "id": "527220de",
=======
   "id": "1eb220e5",
>>>>>>> documentation-devel
||||||| 614e9b1
   "id": "1eb220e5",
=======
   "id": "31f61345",
>>>>>>> documentation-devel
||||||| 856b4c0
<<<<<<< HEAD
   "id": "202f49f6",
||||||| 11b9cb7
   "id": "527220de",
=======
   "id": "1eb220e5",
>>>>>>> documentation-devel
=======
   "id": "b8bf5425",
>>>>>>> 552590ea8fad969b67afdba27558a1e6cb21016e
||||||| 452c944
   "id": "31f61345",
=======
   "id": "e65d87db",
>>>>>>> documentation-devel
||||||| 4da3324
<<<<<<< HEAD
<<<<<<< HEAD
<<<<<<< HEAD
   "id": "202f49f6",
||||||| 11b9cb7
   "id": "527220de",
=======
   "id": "1eb220e5",
>>>>>>> documentation-devel
||||||| 614e9b1
   "id": "1eb220e5",
=======
   "id": "31f61345",
>>>>>>> documentation-devel
||||||| 856b4c0
<<<<<<< HEAD
   "id": "202f49f6",
||||||| 11b9cb7
   "id": "527220de",
=======
   "id": "1eb220e5",
>>>>>>> documentation-devel
=======
   "id": "b8bf5425",
>>>>>>> 552590ea8fad969b67afdba27558a1e6cb21016e
=======
   "id": "a5995ccc",
>>>>>>> b6e07d13baac92b2c1c9b43f8e4113ffa87bf495
   "metadata": {},
   "outputs": [],
   "source": [
    "get_neg_ctrl_outliers <- function(col, sfe) {\n",
    "    inds <- colData(sfe)$nCounts > 0 & colData(sfe)[[col]] > 0\n",
    "    df <- colData(sfe)[inds,]\n",
    "    outlier_inds <- isOutlier(df[[col]], type = \"higher\")\n",
    "    outliers <- rownames(df)[outlier_inds]\n",
    "    col2 <- str_remove(col, \"^subsets_\")\n",
    "    col2 <- str_remove(col2, \"_percent$\")\n",
    "    new_colname <- paste(\"is\", col2, \"outlier\", sep = \"_\")\n",
    "    colData(sfe)[[new_colname]] <- colnames(sfe) %in% outliers\n",
    "    sfe\n",
    "}"
   ]
  },
  {
   "cell_type": "code",
   "execution_count": null,
<<<<<<< HEAD
<<<<<<< HEAD
<<<<<<< HEAD
<<<<<<< HEAD
<<<<<<< HEAD
   "id": "fa11e52a",
||||||| 11b9cb7
   "id": "3c3fd93a",
=======
   "id": "1905b16e",
>>>>>>> documentation-devel
||||||| 614e9b1
   "id": "1905b16e",
=======
   "id": "83923dfa",
>>>>>>> documentation-devel
||||||| 856b4c0
<<<<<<< HEAD
   "id": "fa11e52a",
||||||| 11b9cb7
   "id": "3c3fd93a",
=======
   "id": "1905b16e",
>>>>>>> documentation-devel
=======
   "id": "c4214083",
>>>>>>> 552590ea8fad969b67afdba27558a1e6cb21016e
||||||| 452c944
   "id": "83923dfa",
=======
   "id": "67b71055",
>>>>>>> documentation-devel
||||||| 4da3324
<<<<<<< HEAD
<<<<<<< HEAD
<<<<<<< HEAD
   "id": "fa11e52a",
||||||| 11b9cb7
   "id": "3c3fd93a",
=======
   "id": "1905b16e",
>>>>>>> documentation-devel
||||||| 614e9b1
   "id": "1905b16e",
=======
   "id": "83923dfa",
>>>>>>> documentation-devel
||||||| 856b4c0
<<<<<<< HEAD
   "id": "fa11e52a",
||||||| 11b9cb7
   "id": "3c3fd93a",
=======
   "id": "1905b16e",
>>>>>>> documentation-devel
=======
   "id": "c4214083",
>>>>>>> 552590ea8fad969b67afdba27558a1e6cb21016e
=======
   "id": "dc586aed",
>>>>>>> b6e07d13baac92b2c1c9b43f8e4113ffa87bf495
   "metadata": {},
   "outputs": [],
   "source": [
    "cols_use <- names(colData(sfe))[str_detect(names(colData(sfe)), \"_percent$\")]\n",
    "for (n in cols_use) {\n",
    "    sfe <- get_neg_ctrl_outliers(n, sfe)\n",
    "}"
   ]
  },
  {
   "cell_type": "code",
   "execution_count": null,
<<<<<<< HEAD
<<<<<<< HEAD
<<<<<<< HEAD
<<<<<<< HEAD
<<<<<<< HEAD
   "id": "3d740cad",
||||||| 11b9cb7
   "id": "f15b294a",
=======
   "id": "70fdeefb",
>>>>>>> documentation-devel
||||||| 614e9b1
   "id": "70fdeefb",
=======
   "id": "b8bd98f2",
>>>>>>> documentation-devel
||||||| 856b4c0
<<<<<<< HEAD
   "id": "3d740cad",
||||||| 11b9cb7
   "id": "f15b294a",
=======
   "id": "70fdeefb",
>>>>>>> documentation-devel
=======
   "id": "9f7e54d5",
>>>>>>> 552590ea8fad969b67afdba27558a1e6cb21016e
||||||| 452c944
   "id": "b8bd98f2",
=======
   "id": "40159970",
>>>>>>> documentation-devel
||||||| 4da3324
<<<<<<< HEAD
<<<<<<< HEAD
<<<<<<< HEAD
   "id": "3d740cad",
||||||| 11b9cb7
   "id": "f15b294a",
=======
   "id": "70fdeefb",
>>>>>>> documentation-devel
||||||| 614e9b1
   "id": "70fdeefb",
=======
   "id": "b8bd98f2",
>>>>>>> documentation-devel
||||||| 856b4c0
<<<<<<< HEAD
   "id": "3d740cad",
||||||| 11b9cb7
   "id": "f15b294a",
=======
   "id": "70fdeefb",
>>>>>>> documentation-devel
=======
   "id": "9f7e54d5",
>>>>>>> 552590ea8fad969b67afdba27558a1e6cb21016e
=======
   "id": "9ebd2a9d",
>>>>>>> b6e07d13baac92b2c1c9b43f8e4113ffa87bf495
   "metadata": {},
   "outputs": [],
   "source": [
    "names(colData(sfe))"
   ]
  },
  {
   "cell_type": "markdown",
<<<<<<< HEAD
<<<<<<< HEAD
<<<<<<< HEAD
<<<<<<< HEAD
<<<<<<< HEAD
   "id": "bbc6ba1e",
||||||| 11b9cb7
   "id": "0e6dd47d",
=======
   "id": "c250aa61",
>>>>>>> documentation-devel
||||||| 614e9b1
   "id": "c250aa61",
=======
   "id": "110e44ac",
>>>>>>> documentation-devel
||||||| 856b4c0
<<<<<<< HEAD
   "id": "bbc6ba1e",
||||||| 11b9cb7
   "id": "0e6dd47d",
=======
   "id": "c250aa61",
>>>>>>> documentation-devel
=======
   "id": "00751253",
>>>>>>> 552590ea8fad969b67afdba27558a1e6cb21016e
||||||| 452c944
   "id": "110e44ac",
=======
   "id": "f18d0659",
>>>>>>> documentation-devel
||||||| 4da3324
<<<<<<< HEAD
<<<<<<< HEAD
<<<<<<< HEAD
   "id": "bbc6ba1e",
||||||| 11b9cb7
   "id": "0e6dd47d",
=======
   "id": "c250aa61",
>>>>>>> documentation-devel
||||||| 614e9b1
   "id": "c250aa61",
=======
   "id": "110e44ac",
>>>>>>> documentation-devel
||||||| 856b4c0
<<<<<<< HEAD
   "id": "bbc6ba1e",
||||||| 11b9cb7
   "id": "0e6dd47d",
=======
   "id": "c250aa61",
>>>>>>> documentation-devel
=======
   "id": "00751253",
>>>>>>> 552590ea8fad969b67afdba27558a1e6cb21016e
=======
   "id": "11cc072b",
>>>>>>> b6e07d13baac92b2c1c9b43f8e4113ffa87bf495
   "metadata": {
    "lines_to_next_cell": 0
   },
   "source": [
    "Below we examine where the outliers are located in space:"
   ]
  },
  {
   "cell_type": "code",
   "execution_count": null,
<<<<<<< HEAD
<<<<<<< HEAD
<<<<<<< HEAD
<<<<<<< HEAD
<<<<<<< HEAD
   "id": "0291b418",
||||||| 11b9cb7
   "id": "e7a4dab0",
=======
   "id": "65b64a9a",
>>>>>>> documentation-devel
||||||| 614e9b1
   "id": "65b64a9a",
=======
   "id": "d04f0e9a",
>>>>>>> documentation-devel
||||||| 856b4c0
<<<<<<< HEAD
   "id": "0291b418",
||||||| 11b9cb7
   "id": "e7a4dab0",
=======
   "id": "65b64a9a",
>>>>>>> documentation-devel
=======
   "id": "6d22d76a",
>>>>>>> 552590ea8fad969b67afdba27558a1e6cb21016e
||||||| 452c944
   "id": "d04f0e9a",
=======
   "id": "2f9a9c39",
>>>>>>> documentation-devel
||||||| 4da3324
<<<<<<< HEAD
<<<<<<< HEAD
<<<<<<< HEAD
   "id": "0291b418",
||||||| 11b9cb7
   "id": "e7a4dab0",
=======
   "id": "65b64a9a",
>>>>>>> documentation-devel
||||||| 614e9b1
   "id": "65b64a9a",
=======
   "id": "d04f0e9a",
>>>>>>> documentation-devel
||||||| 856b4c0
<<<<<<< HEAD
   "id": "0291b418",
||||||| 11b9cb7
   "id": "e7a4dab0",
=======
   "id": "65b64a9a",
>>>>>>> documentation-devel
=======
   "id": "6d22d76a",
>>>>>>> 552590ea8fad969b67afdba27558a1e6cb21016e
=======
   "id": "dd7bf002",
>>>>>>> b6e07d13baac92b2c1c9b43f8e4113ffa87bf495
   "metadata": {},
   "outputs": [],
   "source": [
    "plotSpatialFeature(sfe, \"is_blank_outlier\", colGeometryName = \"cellSeg\")"
   ]
  },
  {
   "cell_type": "markdown",
<<<<<<< HEAD
<<<<<<< HEAD
<<<<<<< HEAD
<<<<<<< HEAD
<<<<<<< HEAD
   "id": "4b320fa4",
||||||| 11b9cb7
   "id": "e37252c8",
=======
   "id": "7544f192",
>>>>>>> documentation-devel
||||||| 614e9b1
   "id": "7544f192",
=======
   "id": "8c47520a",
>>>>>>> documentation-devel
||||||| 856b4c0
<<<<<<< HEAD
   "id": "4b320fa4",
||||||| 11b9cb7
   "id": "e37252c8",
=======
   "id": "7544f192",
>>>>>>> documentation-devel
=======
   "id": "8addefd5",
>>>>>>> 552590ea8fad969b67afdba27558a1e6cb21016e
||||||| 452c944
   "id": "8c47520a",
=======
   "id": "f2e8dcb5",
>>>>>>> documentation-devel
||||||| 4da3324
<<<<<<< HEAD
<<<<<<< HEAD
<<<<<<< HEAD
   "id": "4b320fa4",
||||||| 11b9cb7
   "id": "e37252c8",
=======
   "id": "7544f192",
>>>>>>> documentation-devel
||||||| 614e9b1
   "id": "7544f192",
=======
   "id": "8c47520a",
>>>>>>> documentation-devel
||||||| 856b4c0
<<<<<<< HEAD
   "id": "4b320fa4",
||||||| 11b9cb7
   "id": "e37252c8",
=======
   "id": "7544f192",
>>>>>>> documentation-devel
=======
   "id": "8addefd5",
>>>>>>> 552590ea8fad969b67afdba27558a1e6cb21016e
=======
   "id": "0113950c",
>>>>>>> b6e07d13baac92b2c1c9b43f8e4113ffa87bf495
   "metadata": {
    "lines_to_next_cell": 0
   },
   "source": [
    "We find that the outliers are difficult to see:"
   ]
  },
  {
   "cell_type": "code",
   "execution_count": null,
<<<<<<< HEAD
<<<<<<< HEAD
<<<<<<< HEAD
<<<<<<< HEAD
<<<<<<< HEAD
   "id": "e363aa5c",
||||||| 11b9cb7
   "id": "0f91eff9",
=======
   "id": "0acee8b4",
>>>>>>> documentation-devel
||||||| 614e9b1
   "id": "0acee8b4",
=======
   "id": "d5770f23",
>>>>>>> documentation-devel
||||||| 856b4c0
<<<<<<< HEAD
   "id": "e363aa5c",
||||||| 11b9cb7
   "id": "0f91eff9",
=======
   "id": "0acee8b4",
>>>>>>> documentation-devel
=======
   "id": "7efc21c5",
>>>>>>> 552590ea8fad969b67afdba27558a1e6cb21016e
||||||| 452c944
   "id": "d5770f23",
=======
   "id": "b2aa5a83",
>>>>>>> documentation-devel
||||||| 4da3324
<<<<<<< HEAD
<<<<<<< HEAD
<<<<<<< HEAD
   "id": "e363aa5c",
||||||| 11b9cb7
   "id": "0f91eff9",
=======
   "id": "0acee8b4",
>>>>>>> documentation-devel
||||||| 614e9b1
   "id": "0acee8b4",
=======
   "id": "d5770f23",
>>>>>>> documentation-devel
||||||| 856b4c0
<<<<<<< HEAD
   "id": "e363aa5c",
||||||| 11b9cb7
   "id": "0f91eff9",
=======
   "id": "0acee8b4",
>>>>>>> documentation-devel
=======
   "id": "7efc21c5",
>>>>>>> 552590ea8fad969b67afdba27558a1e6cb21016e
=======
   "id": "f0d47984",
>>>>>>> b6e07d13baac92b2c1c9b43f8e4113ffa87bf495
   "metadata": {},
   "outputs": [],
   "source": [
    "plotColData(sfe, y = \"is_blank_outlier\", x = \"cell_area\", \n",
    "            point_fun = function(...) list()) "
   ]
  },
  {
   "cell_type": "markdown",
<<<<<<< HEAD
<<<<<<< HEAD
<<<<<<< HEAD
<<<<<<< HEAD
<<<<<<< HEAD
   "id": "fb40a5fd",
||||||| 11b9cb7
   "id": "479072ab",
=======
   "id": "4528c6f3",
>>>>>>> documentation-devel
||||||| 614e9b1
   "id": "4528c6f3",
=======
   "id": "219ce5f4",
>>>>>>> documentation-devel
||||||| 856b4c0
<<<<<<< HEAD
   "id": "fb40a5fd",
||||||| 11b9cb7
   "id": "479072ab",
=======
   "id": "4528c6f3",
>>>>>>> documentation-devel
=======
   "id": "8cba7b8c",
>>>>>>> 552590ea8fad969b67afdba27558a1e6cb21016e
||||||| 452c944
   "id": "219ce5f4",
=======
   "id": "6bc6e66f",
>>>>>>> documentation-devel
||||||| 4da3324
<<<<<<< HEAD
<<<<<<< HEAD
<<<<<<< HEAD
   "id": "fb40a5fd",
||||||| 11b9cb7
   "id": "479072ab",
=======
   "id": "4528c6f3",
>>>>>>> documentation-devel
||||||| 614e9b1
   "id": "4528c6f3",
=======
   "id": "219ce5f4",
>>>>>>> documentation-devel
||||||| 856b4c0
<<<<<<< HEAD
   "id": "fb40a5fd",
||||||| 11b9cb7
   "id": "479072ab",
=======
   "id": "4528c6f3",
>>>>>>> documentation-devel
=======
   "id": "8cba7b8c",
>>>>>>> 552590ea8fad969b67afdba27558a1e6cb21016e
=======
   "id": "8879f71d",
>>>>>>> b6e07d13baac92b2c1c9b43f8e4113ffa87bf495
   "metadata": {
    "lines_to_next_cell": 0
   },
   "source": [
    "The analysis reveals that the outliers seem to be smaller. Outliers for negative probe controls and negative codeword controls are also hard to see on the plot, so their plots are skipped here. But the top left region in the tissue tends to have more counts from antisense controls. "
   ]
  },
  {
   "cell_type": "code",
   "execution_count": null,
<<<<<<< HEAD
<<<<<<< HEAD
<<<<<<< HEAD
<<<<<<< HEAD
<<<<<<< HEAD
   "id": "93d27d5f",
||||||| 11b9cb7
   "id": "3dcc76e5",
=======
   "id": "08e32e78",
>>>>>>> documentation-devel
||||||| 614e9b1
   "id": "08e32e78",
=======
   "id": "7f924c81",
>>>>>>> documentation-devel
||||||| 856b4c0
<<<<<<< HEAD
   "id": "93d27d5f",
||||||| 11b9cb7
   "id": "3dcc76e5",
=======
   "id": "08e32e78",
>>>>>>> documentation-devel
=======
   "id": "4dd8969c",
>>>>>>> 552590ea8fad969b67afdba27558a1e6cb21016e
||||||| 452c944
   "id": "7f924c81",
=======
   "id": "bf9bd5e6",
>>>>>>> documentation-devel
||||||| 4da3324
<<<<<<< HEAD
<<<<<<< HEAD
<<<<<<< HEAD
   "id": "93d27d5f",
||||||| 11b9cb7
   "id": "3dcc76e5",
=======
   "id": "08e32e78",
>>>>>>> documentation-devel
||||||| 614e9b1
   "id": "08e32e78",
=======
   "id": "7f924c81",
>>>>>>> documentation-devel
||||||| 856b4c0
<<<<<<< HEAD
   "id": "93d27d5f",
||||||| 11b9cb7
   "id": "3dcc76e5",
=======
   "id": "08e32e78",
>>>>>>> documentation-devel
=======
   "id": "4dd8969c",
>>>>>>> 552590ea8fad969b67afdba27558a1e6cb21016e
=======
   "id": "86daf70a",
>>>>>>> b6e07d13baac92b2c1c9b43f8e4113ffa87bf495
   "metadata": {},
   "outputs": [],
   "source": [
    "plotSpatialFeature(sfe, \"is_anti_outlier\", colGeometryName = \"cellSeg\")"
   ]
  },
  {
   "cell_type": "markdown",
<<<<<<< HEAD
<<<<<<< HEAD
<<<<<<< HEAD
<<<<<<< HEAD
<<<<<<< HEAD
   "id": "e48af508",
||||||| 11b9cb7
   "id": "68478911",
=======
   "id": "b0223464",
>>>>>>> documentation-devel
||||||| 614e9b1
   "id": "b0223464",
=======
   "id": "f10d8988",
>>>>>>> documentation-devel
||||||| 856b4c0
<<<<<<< HEAD
   "id": "e48af508",
||||||| 11b9cb7
   "id": "68478911",
=======
   "id": "b0223464",
>>>>>>> documentation-devel
=======
   "id": "6e91b222",
>>>>>>> 552590ea8fad969b67afdba27558a1e6cb21016e
||||||| 452c944
   "id": "f10d8988",
=======
   "id": "fd40ae9a",
>>>>>>> documentation-devel
||||||| 4da3324
<<<<<<< HEAD
<<<<<<< HEAD
<<<<<<< HEAD
   "id": "e48af508",
||||||| 11b9cb7
   "id": "68478911",
=======
   "id": "b0223464",
>>>>>>> documentation-devel
||||||| 614e9b1
   "id": "b0223464",
=======
   "id": "f10d8988",
>>>>>>> documentation-devel
||||||| 856b4c0
<<<<<<< HEAD
   "id": "e48af508",
||||||| 11b9cb7
   "id": "68478911",
=======
   "id": "b0223464",
>>>>>>> documentation-devel
=======
   "id": "6e91b222",
>>>>>>> 552590ea8fad969b67afdba27558a1e6cb21016e
=======
   "id": "174b83ac",
>>>>>>> b6e07d13baac92b2c1c9b43f8e4113ffa87bf495
   "metadata": {},
   "source": [
    "Now that we have identified the outliers, we can remove them along with empty cells before proceeding to further analysis:"
   ]
  },
  {
   "cell_type": "code",
   "execution_count": null,
<<<<<<< HEAD
<<<<<<< HEAD
<<<<<<< HEAD
<<<<<<< HEAD
<<<<<<< HEAD
   "id": "2b65b490",
||||||| 11b9cb7
   "id": "0c5179e1",
=======
   "id": "3a9242ae",
>>>>>>> documentation-devel
||||||| 614e9b1
   "id": "3a9242ae",
=======
   "id": "a3286caf",
>>>>>>> documentation-devel
||||||| 856b4c0
<<<<<<< HEAD
   "id": "2b65b490",
||||||| 11b9cb7
   "id": "0c5179e1",
=======
   "id": "3a9242ae",
>>>>>>> documentation-devel
=======
   "id": "7a482202",
>>>>>>> 552590ea8fad969b67afdba27558a1e6cb21016e
||||||| 452c944
   "id": "a3286caf",
=======
   "id": "059451bc",
>>>>>>> documentation-devel
||||||| 4da3324
<<<<<<< HEAD
<<<<<<< HEAD
<<<<<<< HEAD
   "id": "2b65b490",
||||||| 11b9cb7
   "id": "0c5179e1",
=======
   "id": "3a9242ae",
>>>>>>> documentation-devel
||||||| 614e9b1
   "id": "3a9242ae",
=======
   "id": "a3286caf",
>>>>>>> documentation-devel
||||||| 856b4c0
<<<<<<< HEAD
   "id": "2b65b490",
||||||| 11b9cb7
   "id": "0c5179e1",
=======
   "id": "3a9242ae",
>>>>>>> documentation-devel
=======
   "id": "7a482202",
>>>>>>> 552590ea8fad969b67afdba27558a1e6cb21016e
=======
   "id": "9e4abe60",
>>>>>>> b6e07d13baac92b2c1c9b43f8e4113ffa87bf495
   "metadata": {},
   "outputs": [],
   "source": [
    "inds_keep <- sfe$nCounts > 0 & sfe$nucleus_area < 400 & !sfe$is_anti_outlier &\n",
    "    !sfe$is_blank_outlier & !sfe$is_negCodeword_outlier & !sfe$is_negProbe_outlier\n",
    "(sfe <- sfe[,inds_keep])"
   ]
  },
  {
   "cell_type": "markdown",
<<<<<<< HEAD
<<<<<<< HEAD
<<<<<<< HEAD
<<<<<<< HEAD
<<<<<<< HEAD
   "id": "d61f179e",
||||||| 11b9cb7
   "id": "1a87f3c3",
=======
   "id": "1af505e6",
>>>>>>> documentation-devel
||||||| 614e9b1
   "id": "1af505e6",
=======
   "id": "9f3e690b",
>>>>>>> documentation-devel
||||||| 856b4c0
<<<<<<< HEAD
   "id": "d61f179e",
||||||| 11b9cb7
   "id": "1a87f3c3",
=======
   "id": "1af505e6",
>>>>>>> documentation-devel
=======
   "id": "467fa470",
>>>>>>> 552590ea8fad969b67afdba27558a1e6cb21016e
||||||| 452c944
   "id": "9f3e690b",
=======
   "id": "c1cb4995",
>>>>>>> documentation-devel
||||||| 4da3324
<<<<<<< HEAD
<<<<<<< HEAD
<<<<<<< HEAD
   "id": "d61f179e",
||||||| 11b9cb7
   "id": "1a87f3c3",
=======
   "id": "1af505e6",
>>>>>>> documentation-devel
||||||| 614e9b1
   "id": "1af505e6",
=======
   "id": "9f3e690b",
>>>>>>> documentation-devel
||||||| 856b4c0
<<<<<<< HEAD
   "id": "d61f179e",
||||||| 11b9cb7
   "id": "1a87f3c3",
=======
   "id": "1af505e6",
>>>>>>> documentation-devel
=======
   "id": "467fa470",
>>>>>>> 552590ea8fad969b67afdba27558a1e6cb21016e
=======
   "id": "0922f3f8",
>>>>>>> b6e07d13baac92b2c1c9b43f8e4113ffa87bf495
   "metadata": {
    "lines_to_next_cell": 0
   },
   "source": [
    "Over 1000 cells were removed. \n",
    "\n",
    "Next we check how many negative control features are detected per cell:"
   ]
  },
  {
   "cell_type": "code",
   "execution_count": null,
<<<<<<< HEAD
<<<<<<< HEAD
<<<<<<< HEAD
<<<<<<< HEAD
<<<<<<< HEAD
   "id": "da5bcd4d",
||||||| 11b9cb7
   "id": "77ed3c4e",
=======
   "id": "79495d09",
>>>>>>> documentation-devel
||||||| 614e9b1
   "id": "79495d09",
=======
   "id": "aaa1bfb1",
>>>>>>> documentation-devel
||||||| 856b4c0
<<<<<<< HEAD
   "id": "da5bcd4d",
||||||| 11b9cb7
   "id": "77ed3c4e",
=======
   "id": "79495d09",
>>>>>>> documentation-devel
=======
   "id": "efd4ba32",
>>>>>>> 552590ea8fad969b67afdba27558a1e6cb21016e
||||||| 452c944
   "id": "aaa1bfb1",
=======
   "id": "63c40c03",
>>>>>>> documentation-devel
||||||| 4da3324
<<<<<<< HEAD
<<<<<<< HEAD
<<<<<<< HEAD
   "id": "da5bcd4d",
||||||| 11b9cb7
   "id": "77ed3c4e",
=======
   "id": "79495d09",
>>>>>>> documentation-devel
||||||| 614e9b1
   "id": "79495d09",
=======
   "id": "aaa1bfb1",
>>>>>>> documentation-devel
||||||| 856b4c0
<<<<<<< HEAD
   "id": "da5bcd4d",
||||||| 11b9cb7
   "id": "77ed3c4e",
=======
   "id": "79495d09",
>>>>>>> documentation-devel
=======
   "id": "efd4ba32",
>>>>>>> 552590ea8fad969b67afdba27558a1e6cb21016e
=======
   "id": "461d0dfa",
>>>>>>> b6e07d13baac92b2c1c9b43f8e4113ffa87bf495
   "metadata": {},
   "outputs": [],
   "source": [
    "plotColDataHistogram(sfe, cols_use2, bins = 20, ncol = 3) +\n",
    "    # Avoid decimal breaks on x axis unless there're too few breaks\n",
    "    scale_x_continuous(breaks = scales::breaks_extended(3, Q = c(1,2,5)))"
   ]
  },
  {
   "cell_type": "markdown",
<<<<<<< HEAD
<<<<<<< HEAD
<<<<<<< HEAD
<<<<<<< HEAD
<<<<<<< HEAD
   "id": "1ee77730",
||||||| 11b9cb7
   "id": "a255a613",
=======
   "id": "14fe3b89",
>>>>>>> documentation-devel
||||||| 614e9b1
   "id": "14fe3b89",
=======
   "id": "6992cfd9",
>>>>>>> documentation-devel
||||||| 856b4c0
<<<<<<< HEAD
   "id": "1ee77730",
||||||| 11b9cb7
   "id": "a255a613",
=======
   "id": "14fe3b89",
>>>>>>> documentation-devel
=======
   "id": "6903c7e4",
>>>>>>> 552590ea8fad969b67afdba27558a1e6cb21016e
||||||| 452c944
   "id": "6992cfd9",
=======
   "id": "05017ed3",
>>>>>>> documentation-devel
||||||| 4da3324
<<<<<<< HEAD
<<<<<<< HEAD
<<<<<<< HEAD
   "id": "1ee77730",
||||||| 11b9cb7
   "id": "a255a613",
=======
   "id": "14fe3b89",
>>>>>>> documentation-devel
||||||| 614e9b1
   "id": "14fe3b89",
=======
   "id": "6992cfd9",
>>>>>>> documentation-devel
||||||| 856b4c0
<<<<<<< HEAD
   "id": "1ee77730",
||||||| 11b9cb7
   "id": "a255a613",
=======
   "id": "14fe3b89",
>>>>>>> documentation-devel
=======
   "id": "6903c7e4",
>>>>>>> 552590ea8fad969b67afdba27558a1e6cb21016e
=======
   "id": "b70c7838",
>>>>>>> b6e07d13baac92b2c1c9b43f8e4113ffa87bf495
   "metadata": {
    "lines_to_next_cell": 0
   },
   "source": [
    "There are at most 3 counts per cell per type. For the non-outliers, each type is at most around 1%, so this data looks good. \n",
    "\n",
    "## Genes\n",
    "Here we look at the mean and variance of each gene"
   ]
  },
  {
   "cell_type": "code",
   "execution_count": null,
<<<<<<< HEAD
<<<<<<< HEAD
<<<<<<< HEAD
<<<<<<< HEAD
<<<<<<< HEAD
   "id": "567908bf",
||||||| 11b9cb7
   "id": "2fc59abc",
=======
   "id": "39695515",
>>>>>>> documentation-devel
||||||| 614e9b1
   "id": "39695515",
=======
   "id": "7b91ffe7",
>>>>>>> documentation-devel
||||||| 856b4c0
<<<<<<< HEAD
   "id": "567908bf",
||||||| 11b9cb7
   "id": "2fc59abc",
=======
   "id": "39695515",
>>>>>>> documentation-devel
=======
   "id": "f74e13d1",
>>>>>>> 552590ea8fad969b67afdba27558a1e6cb21016e
||||||| 452c944
   "id": "7b91ffe7",
=======
   "id": "8af4d017",
>>>>>>> documentation-devel
||||||| 4da3324
<<<<<<< HEAD
<<<<<<< HEAD
<<<<<<< HEAD
   "id": "567908bf",
||||||| 11b9cb7
   "id": "2fc59abc",
=======
   "id": "39695515",
>>>>>>> documentation-devel
||||||| 614e9b1
   "id": "39695515",
=======
   "id": "7b91ffe7",
>>>>>>> documentation-devel
||||||| 856b4c0
<<<<<<< HEAD
   "id": "567908bf",
||||||| 11b9cb7
   "id": "2fc59abc",
=======
   "id": "39695515",
>>>>>>> documentation-devel
=======
   "id": "f74e13d1",
>>>>>>> 552590ea8fad969b67afdba27558a1e6cb21016e
=======
   "id": "b7383c18",
>>>>>>> b6e07d13baac92b2c1c9b43f8e4113ffa87bf495
   "metadata": {},
   "outputs": [],
   "source": [
    "rowData(sfe)$means <- rowMeans(counts(sfe))\n",
    "rowData(sfe)$vars <- rowVars(counts(sfe))"
   ]
  },
  {
   "cell_type": "markdown",
<<<<<<< HEAD
<<<<<<< HEAD
<<<<<<< HEAD
<<<<<<< HEAD
<<<<<<< HEAD
   "id": "00997334",
||||||| 11b9cb7
   "id": "7d2195cb",
=======
   "id": "868f3115",
>>>>>>> documentation-devel
||||||| 614e9b1
   "id": "868f3115",
=======
   "id": "fd91c349",
>>>>>>> documentation-devel
||||||| 856b4c0
<<<<<<< HEAD
   "id": "00997334",
||||||| 11b9cb7
   "id": "7d2195cb",
=======
   "id": "868f3115",
>>>>>>> documentation-devel
=======
   "id": "72cdc882",
>>>>>>> 552590ea8fad969b67afdba27558a1e6cb21016e
||||||| 452c944
   "id": "fd91c349",
=======
   "id": "d14df194",
>>>>>>> documentation-devel
||||||| 4da3324
<<<<<<< HEAD
<<<<<<< HEAD
<<<<<<< HEAD
   "id": "00997334",
||||||| 11b9cb7
   "id": "7d2195cb",
=======
   "id": "868f3115",
>>>>>>> documentation-devel
||||||| 614e9b1
   "id": "868f3115",
=======
   "id": "fd91c349",
>>>>>>> documentation-devel
||||||| 856b4c0
<<<<<<< HEAD
   "id": "00997334",
||||||| 11b9cb7
   "id": "7d2195cb",
=======
   "id": "868f3115",
>>>>>>> documentation-devel
=======
   "id": "72cdc882",
>>>>>>> 552590ea8fad969b67afdba27558a1e6cb21016e
=======
   "id": "72ce492c",
>>>>>>> b6e07d13baac92b2c1c9b43f8e4113ffa87bf495
   "metadata": {
    "lines_to_next_cell": 0
   },
   "source": [
    "Real genes generally have higher mean expression across cells than negative controls."
   ]
  },
  {
   "cell_type": "code",
   "execution_count": null,
<<<<<<< HEAD
<<<<<<< HEAD
<<<<<<< HEAD
<<<<<<< HEAD
<<<<<<< HEAD
   "id": "57a1ebb6",
||||||| 11b9cb7
   "id": "d5f4dc32",
=======
   "id": "f01a8084",
>>>>>>> documentation-devel
||||||| 614e9b1
   "id": "f01a8084",
=======
   "id": "a8d5061a",
>>>>>>> documentation-devel
||||||| 856b4c0
<<<<<<< HEAD
   "id": "57a1ebb6",
||||||| 11b9cb7
   "id": "d5f4dc32",
=======
   "id": "f01a8084",
>>>>>>> documentation-devel
=======
   "id": "841592b8",
>>>>>>> 552590ea8fad969b67afdba27558a1e6cb21016e
||||||| 452c944
   "id": "a8d5061a",
=======
   "id": "64b38de9",
>>>>>>> documentation-devel
||||||| 4da3324
<<<<<<< HEAD
<<<<<<< HEAD
<<<<<<< HEAD
   "id": "57a1ebb6",
||||||| 11b9cb7
   "id": "d5f4dc32",
=======
   "id": "f01a8084",
>>>>>>> documentation-devel
||||||| 614e9b1
   "id": "f01a8084",
=======
   "id": "a8d5061a",
>>>>>>> documentation-devel
||||||| 856b4c0
<<<<<<< HEAD
   "id": "57a1ebb6",
||||||| 11b9cb7
   "id": "d5f4dc32",
=======
   "id": "f01a8084",
>>>>>>> documentation-devel
=======
   "id": "841592b8",
>>>>>>> 552590ea8fad969b67afdba27558a1e6cb21016e
=======
   "id": "b91b7af1",
>>>>>>> b6e07d13baac92b2c1c9b43f8e4113ffa87bf495
   "metadata": {},
   "outputs": [],
   "source": [
    "rowData(sfe)$is_neg <- is_any_neg\n",
    "plotRowData(sfe, x = \"means\", y = \"is_neg\") +\n",
    "    scale_y_log10() +\n",
    "    annotation_logticks(sides = \"b\")"
   ]
  },
  {
   "cell_type": "markdown",
<<<<<<< HEAD
<<<<<<< HEAD
<<<<<<< HEAD
<<<<<<< HEAD
<<<<<<< HEAD
   "id": "35a4a1a3",
||||||| 11b9cb7
   "id": "93bb7da6",
=======
   "id": "b5187dec",
>>>>>>> documentation-devel
||||||| 614e9b1
   "id": "b5187dec",
=======
   "id": "222728a9",
>>>>>>> documentation-devel
||||||| 856b4c0
<<<<<<< HEAD
   "id": "35a4a1a3",
||||||| 11b9cb7
   "id": "93bb7da6",
=======
   "id": "b5187dec",
>>>>>>> documentation-devel
=======
   "id": "8559c58b",
>>>>>>> 552590ea8fad969b67afdba27558a1e6cb21016e
||||||| 452c944
   "id": "222728a9",
=======
   "id": "d2f79e91",
>>>>>>> documentation-devel
||||||| 4da3324
<<<<<<< HEAD
<<<<<<< HEAD
<<<<<<< HEAD
   "id": "35a4a1a3",
||||||| 11b9cb7
   "id": "93bb7da6",
=======
   "id": "b5187dec",
>>>>>>> documentation-devel
||||||| 614e9b1
   "id": "b5187dec",
=======
   "id": "222728a9",
>>>>>>> documentation-devel
||||||| 856b4c0
<<<<<<< HEAD
   "id": "35a4a1a3",
||||||| 11b9cb7
   "id": "93bb7da6",
=======
   "id": "b5187dec",
>>>>>>> documentation-devel
=======
   "id": "8559c58b",
>>>>>>> 552590ea8fad969b67afdba27558a1e6cb21016e
=======
   "id": "da00b1be",
>>>>>>> b6e07d13baac92b2c1c9b43f8e4113ffa87bf495
   "metadata": {
    "lines_to_next_cell": 0
   },
   "source": [
    "Here the real genes and negative controls are plotted in different colors"
   ]
  },
  {
   "cell_type": "code",
   "execution_count": null,
<<<<<<< HEAD
<<<<<<< HEAD
<<<<<<< HEAD
<<<<<<< HEAD
<<<<<<< HEAD
   "id": "26c09849",
||||||| 11b9cb7
   "id": "08a4b1ba",
=======
   "id": "8068217a",
>>>>>>> documentation-devel
||||||| 614e9b1
   "id": "8068217a",
=======
   "id": "3cd2194d",
>>>>>>> documentation-devel
||||||| 856b4c0
<<<<<<< HEAD
   "id": "26c09849",
||||||| 11b9cb7
   "id": "08a4b1ba",
=======
   "id": "8068217a",
>>>>>>> documentation-devel
=======
   "id": "14449a86",
>>>>>>> 552590ea8fad969b67afdba27558a1e6cb21016e
||||||| 452c944
   "id": "3cd2194d",
=======
   "id": "7b6e4de2",
>>>>>>> documentation-devel
||||||| 4da3324
<<<<<<< HEAD
<<<<<<< HEAD
<<<<<<< HEAD
   "id": "26c09849",
||||||| 11b9cb7
   "id": "08a4b1ba",
=======
   "id": "8068217a",
>>>>>>> documentation-devel
||||||| 614e9b1
   "id": "8068217a",
=======
   "id": "3cd2194d",
>>>>>>> documentation-devel
||||||| 856b4c0
<<<<<<< HEAD
   "id": "26c09849",
||||||| 11b9cb7
   "id": "08a4b1ba",
=======
   "id": "8068217a",
>>>>>>> documentation-devel
=======
   "id": "14449a86",
>>>>>>> 552590ea8fad969b67afdba27558a1e6cb21016e
=======
   "id": "9f6cc679",
>>>>>>> b6e07d13baac92b2c1c9b43f8e4113ffa87bf495
   "metadata": {},
   "outputs": [],
   "source": [
    "plotRowDataBin2D(sfe, \"means\", \"vars\", subset = \"is_neg\", \n",
    "                 name_true = \"Counts (negative controls)\", \n",
    "                 name_false = \"Counts (real genes)\", bins = 50) +\n",
    "    geom_abline(slope = 1, intercept = 0, color = \"red\") +\n",
    "    scale_x_log10() + scale_y_log10() +\n",
    "    annotation_logticks() +\n",
    "    coord_equal()"
   ]
  },
  {
   "cell_type": "markdown",
<<<<<<< HEAD
<<<<<<< HEAD
<<<<<<< HEAD
<<<<<<< HEAD
<<<<<<< HEAD
   "id": "4b734760",
||||||| 11b9cb7
   "id": "7247ffb4",
=======
   "id": "70fcf39d",
>>>>>>> documentation-devel
||||||| 614e9b1
   "id": "70fcf39d",
=======
   "id": "d09846fd",
>>>>>>> documentation-devel
||||||| 856b4c0
<<<<<<< HEAD
   "id": "4b734760",
||||||| 11b9cb7
   "id": "7247ffb4",
=======
   "id": "70fcf39d",
>>>>>>> documentation-devel
=======
   "id": "f014627a",
>>>>>>> 552590ea8fad969b67afdba27558a1e6cb21016e
||||||| 452c944
   "id": "d09846fd",
=======
   "id": "af4976e3",
>>>>>>> documentation-devel
||||||| 4da3324
<<<<<<< HEAD
<<<<<<< HEAD
<<<<<<< HEAD
   "id": "4b734760",
||||||| 11b9cb7
   "id": "7247ffb4",
=======
   "id": "70fcf39d",
>>>>>>> documentation-devel
||||||| 614e9b1
   "id": "70fcf39d",
=======
   "id": "d09846fd",
>>>>>>> documentation-devel
||||||| 856b4c0
<<<<<<< HEAD
   "id": "4b734760",
||||||| 11b9cb7
   "id": "7247ffb4",
=======
   "id": "70fcf39d",
>>>>>>> documentation-devel
=======
   "id": "f014627a",
>>>>>>> 552590ea8fad969b67afdba27558a1e6cb21016e
=======
   "id": "8d3cf0c3",
>>>>>>> b6e07d13baac92b2c1c9b43f8e4113ffa87bf495
   "metadata": {},
   "source": [
    "The red line $y = x$ is expected if the data follows a Poisson distribution. Negative controls and real genes form mostly separate clusters. Negative controls stick close to the line, while real genes are overdispersed. Unlike in the [CosMX dataset](https://pachterlab.github.io/voyager/articles/vig4_cosmx.html#genes), the negative controls don't seem overdispersed.\n",
    "\n",
    "# Spatial autocorrelation of QC metrics\n",
    "\n",
    "There's a sparse and a dense region. This poses the question of what type of neighborhood graph to use, e.g. it is conceivable that cells in the sparse region should just be singletons. Furthermore, it is unclear what the length scale of their influence might be. It might depend on the cell type and how contact and secreted signals are used in the cell type, and length scale of the influence. If k nearest neighbors are used, then the neighbors in the dense region are much closer together than those in the sparse region. If distance based neighbors are used, then cells in the dense region will have more neighbors than cells in the sparse region, and the sparse region can break into multiple compartments if the distance cutoff is not long enough. \n",
    "\n",
    "For the purpose of demonstration, we use k nearest neighbors with $k = 5$, with inverse distance weighting. Note that using more neighbors leads to longer computation time of spatial autocorrelation metrics."
   ]
  },
  {
   "cell_type": "code",
   "execution_count": null,
<<<<<<< HEAD
<<<<<<< HEAD
<<<<<<< HEAD
<<<<<<< HEAD
<<<<<<< HEAD
   "id": "df8db711",
||||||| 11b9cb7
   "id": "aea0666f",
=======
   "id": "d501e2a8",
>>>>>>> documentation-devel
||||||| 614e9b1
   "id": "d501e2a8",
=======
   "id": "806db37e",
>>>>>>> documentation-devel
||||||| 856b4c0
<<<<<<< HEAD
   "id": "df8db711",
||||||| 11b9cb7
   "id": "aea0666f",
=======
   "id": "d501e2a8",
>>>>>>> documentation-devel
=======
   "id": "4ce0745c",
>>>>>>> 552590ea8fad969b67afdba27558a1e6cb21016e
||||||| 452c944
   "id": "806db37e",
=======
   "id": "a395d7de",
>>>>>>> documentation-devel
||||||| 4da3324
<<<<<<< HEAD
<<<<<<< HEAD
<<<<<<< HEAD
   "id": "df8db711",
||||||| 11b9cb7
   "id": "aea0666f",
=======
   "id": "d501e2a8",
>>>>>>> documentation-devel
||||||| 614e9b1
   "id": "d501e2a8",
=======
   "id": "806db37e",
>>>>>>> documentation-devel
||||||| 856b4c0
<<<<<<< HEAD
   "id": "df8db711",
||||||| 11b9cb7
   "id": "aea0666f",
=======
   "id": "d501e2a8",
>>>>>>> documentation-devel
=======
   "id": "4ce0745c",
>>>>>>> 552590ea8fad969b67afdba27558a1e6cb21016e
=======
   "id": "ac820943",
>>>>>>> b6e07d13baac92b2c1c9b43f8e4113ffa87bf495
   "metadata": {},
   "outputs": [],
   "source": [
    "system.time(\n",
    "    colGraph(sfe, \"knn5\") <- findSpatialNeighbors(sfe, method = \"knearneigh\", \n",
    "                                                  dist_type = \"idw\", k = 5, \n",
    "                                                  style = \"W\")\n",
    ")"
   ]
  },
  {
   "cell_type": "code",
   "execution_count": null,
<<<<<<< HEAD
<<<<<<< HEAD
<<<<<<< HEAD
<<<<<<< HEAD
<<<<<<< HEAD
   "id": "ec54b9bb",
||||||| 11b9cb7
   "id": "7a5c380d",
=======
   "id": "78b3d439",
>>>>>>> documentation-devel
||||||| 614e9b1
   "id": "78b3d439",
=======
   "id": "13ce4cc8",
>>>>>>> documentation-devel
||||||| 856b4c0
<<<<<<< HEAD
   "id": "ec54b9bb",
||||||| 11b9cb7
   "id": "7a5c380d",
=======
   "id": "78b3d439",
>>>>>>> documentation-devel
=======
   "id": "d3195907",
>>>>>>> 552590ea8fad969b67afdba27558a1e6cb21016e
||||||| 452c944
   "id": "13ce4cc8",
=======
   "id": "29d4f9a2",
>>>>>>> documentation-devel
||||||| 4da3324
<<<<<<< HEAD
<<<<<<< HEAD
<<<<<<< HEAD
   "id": "ec54b9bb",
||||||| 11b9cb7
   "id": "7a5c380d",
=======
   "id": "78b3d439",
>>>>>>> documentation-devel
||||||| 614e9b1
   "id": "78b3d439",
=======
   "id": "13ce4cc8",
>>>>>>> documentation-devel
||||||| 856b4c0
<<<<<<< HEAD
   "id": "ec54b9bb",
||||||| 11b9cb7
   "id": "7a5c380d",
=======
   "id": "78b3d439",
>>>>>>> documentation-devel
=======
   "id": "d3195907",
>>>>>>> 552590ea8fad969b67afdba27558a1e6cb21016e
=======
   "id": "941e2026",
>>>>>>> b6e07d13baac92b2c1c9b43f8e4113ffa87bf495
   "metadata": {},
   "outputs": [],
   "source": [
    "sfe <- colDataMoransI(sfe, c(\"nCounts\", \"nGenes\", \"cell_area\", \"nucleus_area\"),\n",
    "                      colGraphName = \"knn5\")"
   ]
  },
  {
   "cell_type": "code",
   "execution_count": null,
<<<<<<< HEAD
<<<<<<< HEAD
<<<<<<< HEAD
<<<<<<< HEAD
<<<<<<< HEAD
   "id": "a6ebd160",
||||||| 11b9cb7
   "id": "6836a957",
=======
   "id": "bd5761e9",
>>>>>>> documentation-devel
||||||| 614e9b1
   "id": "bd5761e9",
=======
   "id": "80e41235",
>>>>>>> documentation-devel
||||||| 856b4c0
<<<<<<< HEAD
   "id": "a6ebd160",
||||||| 11b9cb7
   "id": "6836a957",
=======
   "id": "bd5761e9",
>>>>>>> documentation-devel
=======
   "id": "e804bfa4",
>>>>>>> 552590ea8fad969b67afdba27558a1e6cb21016e
||||||| 452c944
   "id": "80e41235",
=======
   "id": "56d1d9a4",
>>>>>>> documentation-devel
||||||| 4da3324
<<<<<<< HEAD
<<<<<<< HEAD
<<<<<<< HEAD
   "id": "a6ebd160",
||||||| 11b9cb7
   "id": "6836a957",
=======
   "id": "bd5761e9",
>>>>>>> documentation-devel
||||||| 614e9b1
   "id": "bd5761e9",
=======
   "id": "80e41235",
>>>>>>> documentation-devel
||||||| 856b4c0
<<<<<<< HEAD
   "id": "a6ebd160",
||||||| 11b9cb7
   "id": "6836a957",
=======
   "id": "bd5761e9",
>>>>>>> documentation-devel
=======
   "id": "e804bfa4",
>>>>>>> 552590ea8fad969b67afdba27558a1e6cb21016e
=======
   "id": "a73cde6c",
>>>>>>> b6e07d13baac92b2c1c9b43f8e4113ffa87bf495
   "metadata": {},
   "outputs": [],
   "source": [
    "colFeatureData(sfe)[c(\"nCounts\", \"nGenes\", \"cell_area\", \"nucleus_area\"),]"
   ]
  },
  {
   "cell_type": "markdown",
<<<<<<< HEAD
<<<<<<< HEAD
<<<<<<< HEAD
<<<<<<< HEAD
<<<<<<< HEAD
   "id": "56129839",
||||||| 11b9cb7
   "id": "506eac89",
=======
   "id": "07c601c5",
>>>>>>> documentation-devel
||||||| 614e9b1
   "id": "07c601c5",
=======
   "id": "28ed6fbf",
>>>>>>> documentation-devel
||||||| 856b4c0
<<<<<<< HEAD
   "id": "56129839",
||||||| 11b9cb7
   "id": "506eac89",
=======
   "id": "07c601c5",
>>>>>>> documentation-devel
=======
   "id": "e7f7b73e",
>>>>>>> 552590ea8fad969b67afdba27558a1e6cb21016e
||||||| 452c944
   "id": "28ed6fbf",
=======
   "id": "0c199779",
>>>>>>> documentation-devel
||||||| 4da3324
<<<<<<< HEAD
<<<<<<< HEAD
<<<<<<< HEAD
   "id": "56129839",
||||||| 11b9cb7
   "id": "506eac89",
=======
   "id": "07c601c5",
>>>>>>> documentation-devel
||||||| 614e9b1
   "id": "07c601c5",
=======
   "id": "28ed6fbf",
>>>>>>> documentation-devel
||||||| 856b4c0
<<<<<<< HEAD
   "id": "56129839",
||||||| 11b9cb7
   "id": "506eac89",
=======
   "id": "07c601c5",
>>>>>>> documentation-devel
=======
   "id": "e7f7b73e",
>>>>>>> 552590ea8fad969b67afdba27558a1e6cb21016e
=======
   "id": "d4710fb0",
>>>>>>> b6e07d13baac92b2c1c9b43f8e4113ffa87bf495
   "metadata": {},
   "source": [
    "Global Moran's I indicatse positive spatial autocorrelation. As the strength of spatial autocorrelation can vary spatially, we also run local Moran's I."
   ]
  },
  {
   "cell_type": "code",
   "execution_count": null,
<<<<<<< HEAD
<<<<<<< HEAD
<<<<<<< HEAD
<<<<<<< HEAD
<<<<<<< HEAD
   "id": "387b07a1",
||||||| 11b9cb7
   "id": "c2ff22f9",
=======
   "id": "96db1233",
>>>>>>> documentation-devel
||||||| 614e9b1
   "id": "96db1233",
=======
   "id": "a2bc7d67",
>>>>>>> documentation-devel
||||||| 856b4c0
<<<<<<< HEAD
   "id": "387b07a1",
||||||| 11b9cb7
   "id": "c2ff22f9",
=======
   "id": "96db1233",
>>>>>>> documentation-devel
=======
   "id": "b70b128b",
>>>>>>> 552590ea8fad969b67afdba27558a1e6cb21016e
||||||| 452c944
   "id": "a2bc7d67",
=======
   "id": "1338bea2",
>>>>>>> documentation-devel
||||||| 4da3324
<<<<<<< HEAD
<<<<<<< HEAD
<<<<<<< HEAD
   "id": "387b07a1",
||||||| 11b9cb7
   "id": "c2ff22f9",
=======
   "id": "96db1233",
>>>>>>> documentation-devel
||||||| 614e9b1
   "id": "96db1233",
=======
   "id": "a2bc7d67",
>>>>>>> documentation-devel
||||||| 856b4c0
<<<<<<< HEAD
   "id": "387b07a1",
||||||| 11b9cb7
   "id": "c2ff22f9",
=======
   "id": "96db1233",
>>>>>>> documentation-devel
=======
   "id": "b70b128b",
>>>>>>> 552590ea8fad969b67afdba27558a1e6cb21016e
=======
   "id": "890b6bcc",
>>>>>>> b6e07d13baac92b2c1c9b43f8e4113ffa87bf495
   "metadata": {},
   "outputs": [],
   "source": [
    "sfe <- colDataUnivariate(sfe, type = \"localmoran\", \n",
    "                         features = c(\"nCounts\", \"nGenes\", \"cell_area\", \n",
    "                                      \"nucleus_area\"),\n",
    "                         colGraphName = \"knn5\", BPPARAM = MulticoreParam(2))"
   ]
  },
  {
   "cell_type": "markdown",
<<<<<<< HEAD
<<<<<<< HEAD
<<<<<<< HEAD
<<<<<<< HEAD
<<<<<<< HEAD
   "id": "ac7a4ed7",
||||||| 11b9cb7
   "id": "68cb025b",
=======
   "id": "5a27dc55",
>>>>>>> documentation-devel
||||||| 614e9b1
   "id": "5a27dc55",
=======
   "id": "060eadde",
>>>>>>> documentation-devel
||||||| 856b4c0
<<<<<<< HEAD
   "id": "ac7a4ed7",
||||||| 11b9cb7
   "id": "68cb025b",
=======
   "id": "5a27dc55",
>>>>>>> documentation-devel
=======
   "id": "8d4f5fea",
>>>>>>> 552590ea8fad969b67afdba27558a1e6cb21016e
||||||| 452c944
   "id": "060eadde",
=======
   "id": "d68cca0a",
>>>>>>> documentation-devel
||||||| 4da3324
<<<<<<< HEAD
<<<<<<< HEAD
<<<<<<< HEAD
   "id": "ac7a4ed7",
||||||| 11b9cb7
   "id": "68cb025b",
=======
   "id": "5a27dc55",
>>>>>>> documentation-devel
||||||| 614e9b1
   "id": "5a27dc55",
=======
   "id": "060eadde",
>>>>>>> documentation-devel
||||||| 856b4c0
<<<<<<< HEAD
   "id": "ac7a4ed7",
||||||| 11b9cb7
   "id": "68cb025b",
=======
   "id": "5a27dc55",
>>>>>>> documentation-devel
=======
   "id": "8d4f5fea",
>>>>>>> 552590ea8fad969b67afdba27558a1e6cb21016e
=======
   "id": "519a4abf",
>>>>>>> b6e07d13baac92b2c1c9b43f8e4113ffa87bf495
   "metadata": {
    "lines_to_next_cell": 0
   },
   "source": [
    "The `pointsize` argument adjusts the point size in `scattermore`. The default is 0, meaning single pixels, but since the cells in the sparse region are hard to see that way, we increase `pointsize`. We would still plot the polygons in larger single panel plots, but use `scattermore` in multi-panel plots where the polygons in each panel are invisible anyway due to the small size to save some time."
   ]
  },
  {
   "cell_type": "code",
   "execution_count": null,
<<<<<<< HEAD
<<<<<<< HEAD
<<<<<<< HEAD
<<<<<<< HEAD
<<<<<<< HEAD
   "id": "c59e26ea",
||||||| 11b9cb7
   "id": "80eeddfb",
=======
   "id": "e07e85f2",
>>>>>>> documentation-devel
||||||| 614e9b1
   "id": "e07e85f2",
=======
   "id": "a2dff79a",
>>>>>>> documentation-devel
||||||| 856b4c0
<<<<<<< HEAD
   "id": "c59e26ea",
||||||| 11b9cb7
   "id": "80eeddfb",
=======
   "id": "e07e85f2",
>>>>>>> documentation-devel
=======
   "id": "23e47a3d",
>>>>>>> 552590ea8fad969b67afdba27558a1e6cb21016e
||||||| 452c944
   "id": "a2dff79a",
=======
   "id": "d0b30737",
>>>>>>> documentation-devel
||||||| 4da3324
<<<<<<< HEAD
<<<<<<< HEAD
<<<<<<< HEAD
   "id": "c59e26ea",
||||||| 11b9cb7
   "id": "80eeddfb",
=======
   "id": "e07e85f2",
>>>>>>> documentation-devel
||||||| 614e9b1
   "id": "e07e85f2",
=======
   "id": "a2dff79a",
>>>>>>> documentation-devel
||||||| 856b4c0
<<<<<<< HEAD
   "id": "c59e26ea",
||||||| 11b9cb7
   "id": "80eeddfb",
=======
   "id": "e07e85f2",
>>>>>>> documentation-devel
=======
   "id": "23e47a3d",
>>>>>>> 552590ea8fad969b67afdba27558a1e6cb21016e
=======
   "id": "cb7fdca9",
>>>>>>> b6e07d13baac92b2c1c9b43f8e4113ffa87bf495
   "metadata": {
    "fig.height": 6,
    "fig.width": 9
   },
   "outputs": [],
   "source": [
    "plotLocalResult(sfe, \"localmoran\",\n",
    "                features = c(\"nCounts\", \"nGenes\", \"cell_area\", \"nucleus_area\"),\n",
    "                colGeometryName = \"centroids\", scattermore = TRUE,\n",
    "                divergent = TRUE, diverge_center = 0, pointsize = 1)"
   ]
  },
  {
   "cell_type": "markdown",
<<<<<<< HEAD
<<<<<<< HEAD
<<<<<<< HEAD
<<<<<<< HEAD
<<<<<<< HEAD
   "id": "074d041d",
||||||| 11b9cb7
   "id": "3e2cef17",
=======
   "id": "342b70a8",
>>>>>>> documentation-devel
||||||| 614e9b1
   "id": "342b70a8",
=======
   "id": "2da088fd",
>>>>>>> documentation-devel
||||||| 856b4c0
<<<<<<< HEAD
   "id": "074d041d",
||||||| 11b9cb7
   "id": "3e2cef17",
=======
   "id": "342b70a8",
>>>>>>> documentation-devel
=======
   "id": "3f6d0113",
>>>>>>> 552590ea8fad969b67afdba27558a1e6cb21016e
||||||| 452c944
   "id": "2da088fd",
=======
   "id": "961c953f",
>>>>>>> documentation-devel
||||||| 4da3324
<<<<<<< HEAD
<<<<<<< HEAD
<<<<<<< HEAD
   "id": "074d041d",
||||||| 11b9cb7
   "id": "3e2cef17",
=======
   "id": "342b70a8",
>>>>>>> documentation-devel
||||||| 614e9b1
   "id": "342b70a8",
=======
   "id": "2da088fd",
>>>>>>> documentation-devel
||||||| 856b4c0
<<<<<<< HEAD
   "id": "074d041d",
||||||| 11b9cb7
   "id": "3e2cef17",
=======
   "id": "342b70a8",
>>>>>>> documentation-devel
=======
   "id": "3f6d0113",
>>>>>>> 552590ea8fad969b67afdba27558a1e6cb21016e
=======
   "id": "a425fd34",
>>>>>>> b6e07d13baac92b2c1c9b43f8e4113ffa87bf495
   "metadata": {
    "lines_to_next_cell": 0
   },
   "source": [
    "Interestingly, nCounts is more homogeneous in the interior of the dense region, while nGenes is more homogeneous by the edge of the dense region. As expected, cell area is more homogeneous in the sparse region. However, the nucleus area is more homogeneous in the interior of the dense region. \n",
    "\n",
    "Moran plot for nCounts"
   ]
  },
  {
   "cell_type": "code",
   "execution_count": null,
<<<<<<< HEAD
<<<<<<< HEAD
<<<<<<< HEAD
<<<<<<< HEAD
<<<<<<< HEAD
   "id": "a2d16d2e",
||||||| 11b9cb7
   "id": "80cec927",
=======
   "id": "e0ad8466",
>>>>>>> documentation-devel
||||||| 614e9b1
   "id": "e0ad8466",
=======
   "id": "e1ba4a46",
>>>>>>> documentation-devel
||||||| 856b4c0
<<<<<<< HEAD
   "id": "a2d16d2e",
||||||| 11b9cb7
   "id": "80cec927",
=======
   "id": "e0ad8466",
>>>>>>> documentation-devel
=======
   "id": "5c81755b",
>>>>>>> 552590ea8fad969b67afdba27558a1e6cb21016e
||||||| 452c944
   "id": "e1ba4a46",
=======
   "id": "225e3f0b",
>>>>>>> documentation-devel
||||||| 4da3324
<<<<<<< HEAD
<<<<<<< HEAD
<<<<<<< HEAD
   "id": "a2d16d2e",
||||||| 11b9cb7
   "id": "80cec927",
=======
   "id": "e0ad8466",
>>>>>>> documentation-devel
||||||| 614e9b1
   "id": "e0ad8466",
=======
   "id": "e1ba4a46",
>>>>>>> documentation-devel
||||||| 856b4c0
<<<<<<< HEAD
   "id": "a2d16d2e",
||||||| 11b9cb7
   "id": "80cec927",
=======
   "id": "e0ad8466",
>>>>>>> documentation-devel
=======
   "id": "5c81755b",
>>>>>>> 552590ea8fad969b67afdba27558a1e6cb21016e
=======
   "id": "d2ee6a05",
>>>>>>> b6e07d13baac92b2c1c9b43f8e4113ffa87bf495
   "metadata": {},
   "outputs": [],
   "source": [
    "sfe <- colDataUnivariate(sfe, \"moran.plot\", \"nCounts\", colGraphName = \"knn5\")"
   ]
  },
  {
   "cell_type": "code",
   "execution_count": null,
<<<<<<< HEAD
<<<<<<< HEAD
<<<<<<< HEAD
<<<<<<< HEAD
<<<<<<< HEAD
   "id": "ee03ef8d",
||||||| 11b9cb7
   "id": "342e7bd6",
=======
   "id": "6f12cf2a",
>>>>>>> documentation-devel
||||||| 614e9b1
   "id": "6f12cf2a",
=======
   "id": "73595bb8",
>>>>>>> documentation-devel
||||||| 856b4c0
<<<<<<< HEAD
   "id": "ee03ef8d",
||||||| 11b9cb7
   "id": "342e7bd6",
=======
   "id": "6f12cf2a",
>>>>>>> documentation-devel
=======
   "id": "483d23c0",
>>>>>>> 552590ea8fad969b67afdba27558a1e6cb21016e
||||||| 452c944
   "id": "73595bb8",
=======
   "id": "c4c00b32",
>>>>>>> documentation-devel
||||||| 4da3324
<<<<<<< HEAD
<<<<<<< HEAD
<<<<<<< HEAD
   "id": "ee03ef8d",
||||||| 11b9cb7
   "id": "342e7bd6",
=======
   "id": "6f12cf2a",
>>>>>>> documentation-devel
||||||| 614e9b1
   "id": "6f12cf2a",
=======
   "id": "73595bb8",
>>>>>>> documentation-devel
||||||| 856b4c0
<<<<<<< HEAD
   "id": "ee03ef8d",
||||||| 11b9cb7
   "id": "342e7bd6",
=======
   "id": "6f12cf2a",
>>>>>>> documentation-devel
=======
   "id": "483d23c0",
>>>>>>> 552590ea8fad969b67afdba27558a1e6cb21016e
=======
   "id": "4f630db3",
>>>>>>> b6e07d13baac92b2c1c9b43f8e4113ffa87bf495
   "metadata": {
    "fig.height": 7,
    "fig.width": 8
   },
   "outputs": [],
   "source": [
    "p1 <- moranPlot(sfe, \"nCounts\", binned = TRUE, plot_influential = FALSE) \n",
    "p2 <- moranPlot(sfe, \"nCounts\", binned = TRUE)\n",
    "p1 / p2 + plot_layout(guides = \"collect\")"
   ]
  },
  {
   "cell_type": "markdown",
<<<<<<< HEAD
<<<<<<< HEAD
<<<<<<< HEAD
<<<<<<< HEAD
<<<<<<< HEAD
   "id": "69294608",
||||||| 11b9cb7
   "id": "472e6c1a",
=======
   "id": "bb3dc5ab",
>>>>>>> documentation-devel
||||||| 614e9b1
   "id": "bb3dc5ab",
=======
   "id": "120f8d60",
>>>>>>> documentation-devel
||||||| 856b4c0
<<<<<<< HEAD
   "id": "69294608",
||||||| 11b9cb7
   "id": "472e6c1a",
=======
   "id": "bb3dc5ab",
>>>>>>> documentation-devel
=======
   "id": "e03a7fe9",
>>>>>>> 552590ea8fad969b67afdba27558a1e6cb21016e
||||||| 452c944
   "id": "120f8d60",
=======
   "id": "dec9d904",
>>>>>>> documentation-devel
||||||| 4da3324
<<<<<<< HEAD
<<<<<<< HEAD
<<<<<<< HEAD
   "id": "69294608",
||||||| 11b9cb7
   "id": "472e6c1a",
=======
   "id": "bb3dc5ab",
>>>>>>> documentation-devel
||||||| 614e9b1
   "id": "bb3dc5ab",
=======
   "id": "120f8d60",
>>>>>>> documentation-devel
||||||| 856b4c0
<<<<<<< HEAD
   "id": "69294608",
||||||| 11b9cb7
   "id": "472e6c1a",
=======
   "id": "bb3dc5ab",
>>>>>>> documentation-devel
=======
   "id": "e03a7fe9",
>>>>>>> 552590ea8fad969b67afdba27558a1e6cb21016e
=======
   "id": "185f7eeb",
>>>>>>> b6e07d13baac92b2c1c9b43f8e4113ffa87bf495
   "metadata": {},
   "source": [
    "There are no obvious clusters here. In the lower panel, the 2D histogram of influential points is plotted in red.\n",
    "\n",
    "# Moran's I\n",
    "\n",
    "By default, for gene expression, the log normalized counts are used in spatial autocorrelation metrics, so before running Moran's I, we normalize the data."
   ]
  },
  {
   "cell_type": "code",
   "execution_count": null,
<<<<<<< HEAD
<<<<<<< HEAD
<<<<<<< HEAD
<<<<<<< HEAD
<<<<<<< HEAD
   "id": "5863a765",
||||||| 11b9cb7
   "id": "5680e7cd",
=======
   "id": "a3173bc2",
>>>>>>> documentation-devel
||||||| 614e9b1
   "id": "a3173bc2",
=======
   "id": "520d5d0d",
>>>>>>> documentation-devel
||||||| 856b4c0
<<<<<<< HEAD
   "id": "5863a765",
||||||| 11b9cb7
   "id": "5680e7cd",
=======
   "id": "a3173bc2",
>>>>>>> documentation-devel
=======
   "id": "c5d99edc",
>>>>>>> 552590ea8fad969b67afdba27558a1e6cb21016e
||||||| 452c944
   "id": "520d5d0d",
=======
   "id": "e12347f8",
>>>>>>> documentation-devel
||||||| 4da3324
<<<<<<< HEAD
<<<<<<< HEAD
<<<<<<< HEAD
   "id": "5863a765",
||||||| 11b9cb7
   "id": "5680e7cd",
=======
   "id": "a3173bc2",
>>>>>>> documentation-devel
||||||| 614e9b1
   "id": "a3173bc2",
=======
   "id": "520d5d0d",
>>>>>>> documentation-devel
||||||| 856b4c0
<<<<<<< HEAD
   "id": "5863a765",
||||||| 11b9cb7
   "id": "5680e7cd",
=======
   "id": "a3173bc2",
>>>>>>> documentation-devel
=======
   "id": "c5d99edc",
>>>>>>> 552590ea8fad969b67afdba27558a1e6cb21016e
=======
   "id": "12371e7e",
>>>>>>> b6e07d13baac92b2c1c9b43f8e4113ffa87bf495
   "metadata": {},
   "outputs": [],
   "source": [
    "sfe <- logNormCounts(sfe)"
   ]
  },
  {
   "cell_type": "markdown",
<<<<<<< HEAD
<<<<<<< HEAD
<<<<<<< HEAD
<<<<<<< HEAD
<<<<<<< HEAD
   "id": "888d7f40",
||||||| 11b9cb7
   "id": "9e6cb6bc",
=======
   "id": "5975545c",
>>>>>>> documentation-devel
||||||| 614e9b1
   "id": "5975545c",
=======
   "id": "e190056f",
>>>>>>> documentation-devel
||||||| 856b4c0
<<<<<<< HEAD
   "id": "888d7f40",
||||||| 11b9cb7
   "id": "9e6cb6bc",
=======
   "id": "5975545c",
>>>>>>> documentation-devel
=======
   "id": "6361f863",
>>>>>>> 552590ea8fad969b67afdba27558a1e6cb21016e
||||||| 452c944
   "id": "e190056f",
=======
   "id": "6f19dcff",
>>>>>>> documentation-devel
||||||| 4da3324
<<<<<<< HEAD
<<<<<<< HEAD
<<<<<<< HEAD
   "id": "888d7f40",
||||||| 11b9cb7
   "id": "9e6cb6bc",
=======
   "id": "5975545c",
>>>>>>> documentation-devel
||||||| 614e9b1
   "id": "5975545c",
=======
   "id": "e190056f",
>>>>>>> documentation-devel
||||||| 856b4c0
<<<<<<< HEAD
   "id": "888d7f40",
||||||| 11b9cb7
   "id": "9e6cb6bc",
=======
   "id": "5975545c",
>>>>>>> documentation-devel
=======
   "id": "6361f863",
>>>>>>> 552590ea8fad969b67afdba27558a1e6cb21016e
=======
   "id": "b2a2d420",
>>>>>>> b6e07d13baac92b2c1c9b43f8e4113ffa87bf495
   "metadata": {
    "lines_to_next_cell": 0
   },
   "source": [
    "Use more cores if available to speed this up."
   ]
  },
  {
   "cell_type": "code",
   "execution_count": null,
<<<<<<< HEAD
<<<<<<< HEAD
<<<<<<< HEAD
<<<<<<< HEAD
<<<<<<< HEAD
   "id": "8b502b91",
||||||| 11b9cb7
   "id": "49de76d3",
=======
   "id": "9b4f8576",
>>>>>>> documentation-devel
||||||| 614e9b1
   "id": "9b4f8576",
=======
   "id": "1410e27d",
>>>>>>> documentation-devel
||||||| 856b4c0
<<<<<<< HEAD
   "id": "8b502b91",
||||||| 11b9cb7
   "id": "49de76d3",
=======
   "id": "9b4f8576",
>>>>>>> documentation-devel
=======
   "id": "59b62766",
>>>>>>> 552590ea8fad969b67afdba27558a1e6cb21016e
||||||| 452c944
   "id": "1410e27d",
=======
   "id": "29b73d01",
>>>>>>> documentation-devel
||||||| 4da3324
<<<<<<< HEAD
<<<<<<< HEAD
<<<<<<< HEAD
   "id": "8b502b91",
||||||| 11b9cb7
   "id": "49de76d3",
=======
   "id": "9b4f8576",
>>>>>>> documentation-devel
||||||| 614e9b1
   "id": "9b4f8576",
=======
   "id": "1410e27d",
>>>>>>> documentation-devel
||||||| 856b4c0
<<<<<<< HEAD
   "id": "8b502b91",
||||||| 11b9cb7
   "id": "49de76d3",
=======
   "id": "9b4f8576",
>>>>>>> documentation-devel
=======
   "id": "59b62766",
>>>>>>> 552590ea8fad969b67afdba27558a1e6cb21016e
=======
   "id": "63a2705e",
>>>>>>> b6e07d13baac92b2c1c9b43f8e4113ffa87bf495
   "metadata": {},
   "outputs": [],
   "source": [
    "system.time(\n",
    "    sfe <- runMoransI(sfe, colGraphName = \"knn5\", BPPARAM = MulticoreParam(2))\n",
    ")"
   ]
  },
  {
   "cell_type": "code",
   "execution_count": null,
<<<<<<< HEAD
<<<<<<< HEAD
<<<<<<< HEAD
<<<<<<< HEAD
<<<<<<< HEAD
   "id": "308b5d77",
||||||| 11b9cb7
   "id": "40d88bfd",
=======
   "id": "bebb65d2",
>>>>>>> documentation-devel
||||||| 614e9b1
   "id": "bebb65d2",
=======
   "id": "087e9287",
>>>>>>> documentation-devel
||||||| 856b4c0
<<<<<<< HEAD
   "id": "308b5d77",
||||||| 11b9cb7
   "id": "40d88bfd",
=======
   "id": "bebb65d2",
>>>>>>> documentation-devel
=======
   "id": "a2680d48",
>>>>>>> 552590ea8fad969b67afdba27558a1e6cb21016e
||||||| 452c944
   "id": "087e9287",
=======
   "id": "ed453f16",
>>>>>>> documentation-devel
||||||| 4da3324
<<<<<<< HEAD
<<<<<<< HEAD
<<<<<<< HEAD
   "id": "308b5d77",
||||||| 11b9cb7
   "id": "40d88bfd",
=======
   "id": "bebb65d2",
>>>>>>> documentation-devel
||||||| 614e9b1
   "id": "bebb65d2",
=======
   "id": "087e9287",
>>>>>>> documentation-devel
||||||| 856b4c0
<<<<<<< HEAD
   "id": "308b5d77",
||||||| 11b9cb7
   "id": "40d88bfd",
=======
   "id": "bebb65d2",
>>>>>>> documentation-devel
=======
   "id": "a2680d48",
>>>>>>> 552590ea8fad969b67afdba27558a1e6cb21016e
=======
   "id": "3f14318b",
>>>>>>> b6e07d13baac92b2c1c9b43f8e4113ffa87bf495
   "metadata": {},
   "outputs": [],
   "source": [
    "rowData(sfe)$is_neg <- is_any_neg"
   ]
  },
  {
   "cell_type": "code",
   "execution_count": null,
<<<<<<< HEAD
<<<<<<< HEAD
<<<<<<< HEAD
<<<<<<< HEAD
<<<<<<< HEAD
   "id": "d1ad2749",
||||||| 11b9cb7
   "id": "5daeff49",
=======
   "id": "2258a7bd",
>>>>>>> documentation-devel
||||||| 614e9b1
   "id": "2258a7bd",
=======
   "id": "a9ba58cc",
>>>>>>> documentation-devel
||||||| 856b4c0
<<<<<<< HEAD
   "id": "d1ad2749",
||||||| 11b9cb7
   "id": "5daeff49",
=======
   "id": "2258a7bd",
>>>>>>> documentation-devel
=======
   "id": "f2937e3f",
>>>>>>> 552590ea8fad969b67afdba27558a1e6cb21016e
||||||| 452c944
   "id": "a9ba58cc",
=======
   "id": "fcfe5b58",
>>>>>>> documentation-devel
||||||| 4da3324
<<<<<<< HEAD
<<<<<<< HEAD
<<<<<<< HEAD
   "id": "d1ad2749",
||||||| 11b9cb7
   "id": "5daeff49",
=======
   "id": "2258a7bd",
>>>>>>> documentation-devel
||||||| 614e9b1
   "id": "2258a7bd",
=======
   "id": "a9ba58cc",
>>>>>>> documentation-devel
||||||| 856b4c0
<<<<<<< HEAD
   "id": "d1ad2749",
||||||| 11b9cb7
   "id": "5daeff49",
=======
   "id": "2258a7bd",
>>>>>>> documentation-devel
=======
   "id": "f2937e3f",
>>>>>>> 552590ea8fad969b67afdba27558a1e6cb21016e
=======
   "id": "d47c699f",
>>>>>>> b6e07d13baac92b2c1c9b43f8e4113ffa87bf495
   "metadata": {},
   "outputs": [],
   "source": [
    "plotRowData(sfe, x = \"moran_sample01\", y = \"is_neg\")"
   ]
  },
  {
   "cell_type": "markdown",
<<<<<<< HEAD
<<<<<<< HEAD
<<<<<<< HEAD
<<<<<<< HEAD
<<<<<<< HEAD
   "id": "89ef61bc",
||||||| 11b9cb7
   "id": "26d7d497",
=======
   "id": "77d64f63",
>>>>>>> documentation-devel
||||||| 614e9b1
   "id": "77d64f63",
=======
   "id": "1666862d",
>>>>>>> documentation-devel
||||||| 856b4c0
<<<<<<< HEAD
   "id": "89ef61bc",
||||||| 11b9cb7
   "id": "26d7d497",
=======
   "id": "77d64f63",
>>>>>>> documentation-devel
=======
   "id": "786c9569",
>>>>>>> 552590ea8fad969b67afdba27558a1e6cb21016e
||||||| 452c944
   "id": "1666862d",
=======
   "id": "e4cd7eb6",
>>>>>>> documentation-devel
||||||| 4da3324
<<<<<<< HEAD
<<<<<<< HEAD
<<<<<<< HEAD
   "id": "89ef61bc",
||||||| 11b9cb7
   "id": "26d7d497",
=======
   "id": "77d64f63",
>>>>>>> documentation-devel
||||||| 614e9b1
   "id": "77d64f63",
=======
   "id": "1666862d",
>>>>>>> documentation-devel
||||||| 856b4c0
<<<<<<< HEAD
   "id": "89ef61bc",
||||||| 11b9cb7
   "id": "26d7d497",
=======
   "id": "77d64f63",
>>>>>>> documentation-devel
=======
   "id": "786c9569",
>>>>>>> 552590ea8fad969b67afdba27558a1e6cb21016e
=======
   "id": "8c394a27",
>>>>>>> b6e07d13baac92b2c1c9b43f8e4113ffa87bf495
   "metadata": {
    "lines_to_next_cell": 0
   },
   "source": [
    "As expected, generally the negative controls are tightly clustered around 0, while the real genes have positive Moran's I, which means there is generally no technical artifact spatial trend. No significantly negative Moran's I is observed. Why is negative spatial autocorrelation so rare in gene expression?\n",
    "\n",
    "What are the two negative controls with a sizable Moran's I?"
   ]
  },
  {
   "cell_type": "code",
   "execution_count": null,
<<<<<<< HEAD
<<<<<<< HEAD
<<<<<<< HEAD
<<<<<<< HEAD
<<<<<<< HEAD
   "id": "37d47efc",
||||||| 11b9cb7
   "id": "22b773fe",
=======
   "id": "8958654b",
>>>>>>> documentation-devel
||||||| 614e9b1
   "id": "8958654b",
=======
   "id": "d6ccf91c",
>>>>>>> documentation-devel
||||||| 856b4c0
<<<<<<< HEAD
   "id": "37d47efc",
||||||| 11b9cb7
   "id": "22b773fe",
=======
   "id": "8958654b",
>>>>>>> documentation-devel
=======
   "id": "47326cd6",
>>>>>>> 552590ea8fad969b67afdba27558a1e6cb21016e
||||||| 452c944
   "id": "d6ccf91c",
=======
   "id": "ec0b67a5",
>>>>>>> documentation-devel
||||||| 4da3324
<<<<<<< HEAD
<<<<<<< HEAD
<<<<<<< HEAD
   "id": "37d47efc",
||||||| 11b9cb7
   "id": "22b773fe",
=======
   "id": "8958654b",
>>>>>>> documentation-devel
||||||| 614e9b1
   "id": "8958654b",
=======
   "id": "d6ccf91c",
>>>>>>> documentation-devel
||||||| 856b4c0
<<<<<<< HEAD
   "id": "37d47efc",
||||||| 11b9cb7
   "id": "22b773fe",
=======
   "id": "8958654b",
>>>>>>> documentation-devel
=======
   "id": "47326cd6",
>>>>>>> 552590ea8fad969b67afdba27558a1e6cb21016e
=======
   "id": "3c473420",
>>>>>>> b6e07d13baac92b2c1c9b43f8e4113ffa87bf495
   "metadata": {
    "fig.height": 3,
    "fig.width": 9
   },
   "outputs": [],
   "source": [
    "ord <- order(rowData(sfe)$moran_sample01[is_any_neg], decreasing = TRUE)[1:2]\n",
    "top_neg <- rownames(sfe)[is_any_neg][ord]\n",
    "plotSpatialFeature(sfe, top_neg, colGeometryName = \"centroids\",\n",
    "                   scattermore = TRUE, pointsize = 1)"
   ]
  },
  {
   "cell_type": "markdown",
<<<<<<< HEAD
<<<<<<< HEAD
<<<<<<< HEAD
<<<<<<< HEAD
<<<<<<< HEAD
   "id": "a5498fb4",
||||||| 11b9cb7
   "id": "2647f2b2",
=======
   "id": "7fd85629",
>>>>>>> documentation-devel
||||||| 614e9b1
   "id": "7fd85629",
=======
   "id": "571344f9",
>>>>>>> documentation-devel
||||||| 856b4c0
<<<<<<< HEAD
   "id": "a5498fb4",
||||||| 11b9cb7
   "id": "2647f2b2",
=======
   "id": "7fd85629",
>>>>>>> documentation-devel
=======
   "id": "8271857f",
>>>>>>> 552590ea8fad969b67afdba27558a1e6cb21016e
||||||| 452c944
   "id": "571344f9",
=======
   "id": "17c3d0b1",
>>>>>>> documentation-devel
||||||| 4da3324
<<<<<<< HEAD
<<<<<<< HEAD
<<<<<<< HEAD
   "id": "a5498fb4",
||||||| 11b9cb7
   "id": "2647f2b2",
=======
   "id": "7fd85629",
>>>>>>> documentation-devel
||||||| 614e9b1
   "id": "7fd85629",
=======
   "id": "571344f9",
>>>>>>> documentation-devel
||||||| 856b4c0
<<<<<<< HEAD
   "id": "a5498fb4",
||||||| 11b9cb7
   "id": "2647f2b2",
=======
   "id": "7fd85629",
>>>>>>> documentation-devel
=======
   "id": "8271857f",
>>>>>>> 552590ea8fad969b67afdba27558a1e6cb21016e
=======
   "id": "24dfdefc",
>>>>>>> b6e07d13baac92b2c1c9b43f8e4113ffa87bf495
   "metadata": {
    "lines_to_next_cell": 0
   },
   "source": [
    "There is somewhat a spatial trend for that antisense probe, with more detected in the upper left. However, this might not significantly affect other results since there are at most 2 counts and at most about 1% of all counts in each cell. The negative control codeword has at most 1 count per cell and the cells with this negative control detected seem to be few and far between. \n",
    "\n",
    "These are the most detected negative controls, and the most detected one is also the one with the highest Moran's I among negative controls. However, the other negative control with higher Moran's I is not among the most detected."
   ]
  },
  {
   "cell_type": "code",
   "execution_count": null,
<<<<<<< HEAD
<<<<<<< HEAD
<<<<<<< HEAD
<<<<<<< HEAD
<<<<<<< HEAD
   "id": "8cdbc53e",
||||||| 11b9cb7
   "id": "f617a754",
=======
   "id": "53abdb6b",
>>>>>>> documentation-devel
||||||| 614e9b1
   "id": "53abdb6b",
=======
   "id": "bfbad0aa",
>>>>>>> documentation-devel
||||||| 856b4c0
<<<<<<< HEAD
   "id": "8cdbc53e",
||||||| 11b9cb7
   "id": "f617a754",
=======
   "id": "53abdb6b",
>>>>>>> documentation-devel
=======
   "id": "edf27c70",
>>>>>>> 552590ea8fad969b67afdba27558a1e6cb21016e
||||||| 452c944
   "id": "bfbad0aa",
=======
   "id": "1163efa8",
>>>>>>> documentation-devel
||||||| 4da3324
<<<<<<< HEAD
<<<<<<< HEAD
<<<<<<< HEAD
   "id": "8cdbc53e",
||||||| 11b9cb7
   "id": "f617a754",
=======
   "id": "53abdb6b",
>>>>>>> documentation-devel
||||||| 614e9b1
   "id": "53abdb6b",
=======
   "id": "bfbad0aa",
>>>>>>> documentation-devel
||||||| 856b4c0
<<<<<<< HEAD
   "id": "8cdbc53e",
||||||| 11b9cb7
   "id": "f617a754",
=======
   "id": "53abdb6b",
>>>>>>> documentation-devel
=======
   "id": "edf27c70",
>>>>>>> 552590ea8fad969b67afdba27558a1e6cb21016e
=======
   "id": "90b9555e",
>>>>>>> b6e07d13baac92b2c1c9b43f8e4113ffa87bf495
   "metadata": {},
   "outputs": [],
   "source": [
    "head(sort(rowData(sfe)$means[is_any_neg], decreasing = TRUE), 15)"
   ]
  },
  {
   "cell_type": "markdown",
<<<<<<< HEAD
<<<<<<< HEAD
<<<<<<< HEAD
<<<<<<< HEAD
<<<<<<< HEAD
   "id": "45b7f124",
||||||| 11b9cb7
   "id": "1e187204",
=======
   "id": "6eac2676",
>>>>>>> documentation-devel
||||||| 614e9b1
   "id": "6eac2676",
=======
   "id": "8b1ea134",
>>>>>>> documentation-devel
||||||| 856b4c0
<<<<<<< HEAD
   "id": "45b7f124",
||||||| 11b9cb7
   "id": "1e187204",
=======
   "id": "6eac2676",
>>>>>>> documentation-devel
=======
   "id": "bdaf95df",
>>>>>>> 552590ea8fad969b67afdba27558a1e6cb21016e
||||||| 452c944
   "id": "8b1ea134",
=======
   "id": "91d46578",
>>>>>>> documentation-devel
||||||| 4da3324
<<<<<<< HEAD
<<<<<<< HEAD
<<<<<<< HEAD
   "id": "45b7f124",
||||||| 11b9cb7
   "id": "1e187204",
=======
   "id": "6eac2676",
>>>>>>> documentation-devel
||||||| 614e9b1
   "id": "6eac2676",
=======
   "id": "8b1ea134",
>>>>>>> documentation-devel
||||||| 856b4c0
<<<<<<< HEAD
   "id": "45b7f124",
||||||| 11b9cb7
   "id": "1e187204",
=======
   "id": "6eac2676",
>>>>>>> documentation-devel
=======
   "id": "bdaf95df",
>>>>>>> 552590ea8fad969b67afdba27558a1e6cb21016e
=======
   "id": "78221f51",
>>>>>>> b6e07d13baac92b2c1c9b43f8e4113ffa87bf495
   "metadata": {
    "lines_to_next_cell": 0
   },
   "source": [
    "What are the genes with the highest Moran's I?"
   ]
  },
  {
   "cell_type": "code",
   "execution_count": null,
<<<<<<< HEAD
<<<<<<< HEAD
<<<<<<< HEAD
<<<<<<< HEAD
<<<<<<< HEAD
   "id": "40ca2e4a",
||||||| 11b9cb7
   "id": "452792e5",
=======
   "id": "1b35ab92",
>>>>>>> documentation-devel
||||||| 614e9b1
   "id": "1b35ab92",
=======
   "id": "7ccb09e4",
>>>>>>> documentation-devel
||||||| 856b4c0
<<<<<<< HEAD
   "id": "40ca2e4a",
||||||| 11b9cb7
   "id": "452792e5",
=======
   "id": "1b35ab92",
>>>>>>> documentation-devel
=======
   "id": "c980bb32",
>>>>>>> 552590ea8fad969b67afdba27558a1e6cb21016e
||||||| 452c944
   "id": "7ccb09e4",
=======
   "id": "0fb1d1f8",
>>>>>>> documentation-devel
||||||| 4da3324
<<<<<<< HEAD
<<<<<<< HEAD
<<<<<<< HEAD
   "id": "40ca2e4a",
||||||| 11b9cb7
   "id": "452792e5",
=======
   "id": "1b35ab92",
>>>>>>> documentation-devel
||||||| 614e9b1
   "id": "1b35ab92",
=======
   "id": "7ccb09e4",
>>>>>>> documentation-devel
||||||| 856b4c0
<<<<<<< HEAD
   "id": "40ca2e4a",
||||||| 11b9cb7
   "id": "452792e5",
=======
   "id": "1b35ab92",
>>>>>>> documentation-devel
=======
   "id": "c980bb32",
>>>>>>> 552590ea8fad969b67afdba27558a1e6cb21016e
=======
   "id": "866b3c1f",
>>>>>>> b6e07d13baac92b2c1c9b43f8e4113ffa87bf495
   "metadata": {
    "fig.height": 9,
    "fig.width": 9
   },
   "outputs": [],
   "source": [
    "top_moran <- rownames(sfe)[order(rowData(sfe)$moran_sample01, decreasing = TRUE)[1:6]]\n",
    "plotSpatialFeature(sfe, top_moran, colGeometryName = \"centroids\",\n",
    "                   scattermore = TRUE, ncol = 2, pointsize = 0.5)"
   ]
  },
  {
   "cell_type": "markdown",
<<<<<<< HEAD
<<<<<<< HEAD
<<<<<<< HEAD
<<<<<<< HEAD
<<<<<<< HEAD
   "id": "4cecb00d",
||||||| 11b9cb7
   "id": "0324c999",
=======
   "id": "cf7a1fed",
>>>>>>> documentation-devel
||||||| 614e9b1
   "id": "cf7a1fed",
=======
   "id": "f37162e0",
>>>>>>> documentation-devel
||||||| 856b4c0
<<<<<<< HEAD
   "id": "4cecb00d",
||||||| 11b9cb7
   "id": "0324c999",
=======
   "id": "cf7a1fed",
>>>>>>> documentation-devel
=======
   "id": "403606ed",
>>>>>>> 552590ea8fad969b67afdba27558a1e6cb21016e
||||||| 452c944
   "id": "f37162e0",
=======
   "id": "bb6a8952",
>>>>>>> documentation-devel
||||||| 4da3324
<<<<<<< HEAD
<<<<<<< HEAD
<<<<<<< HEAD
   "id": "4cecb00d",
||||||| 11b9cb7
   "id": "0324c999",
=======
   "id": "cf7a1fed",
>>>>>>> documentation-devel
||||||| 614e9b1
   "id": "cf7a1fed",
=======
   "id": "f37162e0",
>>>>>>> documentation-devel
||||||| 856b4c0
<<<<<<< HEAD
   "id": "4cecb00d",
||||||| 11b9cb7
   "id": "0324c999",
=======
   "id": "cf7a1fed",
>>>>>>> documentation-devel
=======
   "id": "403606ed",
>>>>>>> 552590ea8fad969b67afdba27558a1e6cb21016e
=======
   "id": "7cfe453a",
>>>>>>> b6e07d13baac92b2c1c9b43f8e4113ffa87bf495
   "metadata": {
    "lines_to_next_cell": 0
   },
   "source": [
    "They all highlight the same histological regions, as in the [CosMX vignette](https://pachterlab.github.io/voyager/articles/vig4_cosmx.html#morans-i). How does Moran's I relate to gene expression level?"
   ]
  },
  {
   "cell_type": "code",
   "execution_count": null,
<<<<<<< HEAD
<<<<<<< HEAD
<<<<<<< HEAD
<<<<<<< HEAD
<<<<<<< HEAD
   "id": "11f17f85",
||||||| 11b9cb7
   "id": "15b0fd3b",
=======
   "id": "d2681595",
>>>>>>> documentation-devel
||||||| 614e9b1
   "id": "d2681595",
=======
   "id": "19897c9a",
>>>>>>> documentation-devel
||||||| 856b4c0
<<<<<<< HEAD
   "id": "11f17f85",
||||||| 11b9cb7
   "id": "15b0fd3b",
=======
   "id": "d2681595",
>>>>>>> documentation-devel
=======
   "id": "e07ab9cf",
>>>>>>> 552590ea8fad969b67afdba27558a1e6cb21016e
||||||| 452c944
   "id": "19897c9a",
=======
   "id": "e57bcede",
>>>>>>> documentation-devel
||||||| 4da3324
<<<<<<< HEAD
<<<<<<< HEAD
<<<<<<< HEAD
   "id": "11f17f85",
||||||| 11b9cb7
   "id": "15b0fd3b",
=======
   "id": "d2681595",
>>>>>>> documentation-devel
||||||| 614e9b1
   "id": "d2681595",
=======
   "id": "19897c9a",
>>>>>>> documentation-devel
||||||| 856b4c0
<<<<<<< HEAD
   "id": "11f17f85",
||||||| 11b9cb7
   "id": "15b0fd3b",
=======
   "id": "d2681595",
>>>>>>> documentation-devel
=======
   "id": "e07ab9cf",
>>>>>>> 552590ea8fad969b67afdba27558a1e6cb21016e
=======
   "id": "f59315a2",
>>>>>>> b6e07d13baac92b2c1c9b43f8e4113ffa87bf495
   "metadata": {},
   "outputs": [],
   "source": [
    "plotRowData(sfe, x = \"means\", y = \"moran_sample01\")"
   ]
  },
  {
   "cell_type": "markdown",
<<<<<<< HEAD
<<<<<<< HEAD
<<<<<<< HEAD
<<<<<<< HEAD
<<<<<<< HEAD
   "id": "e558a5e1",
||||||| 11b9cb7
   "id": "9db73403",
=======
   "id": "33fae968",
>>>>>>> documentation-devel
||||||| 614e9b1
   "id": "33fae968",
=======
   "id": "dbac1c18",
>>>>>>> documentation-devel
||||||| 856b4c0
<<<<<<< HEAD
   "id": "e558a5e1",
||||||| 11b9cb7
   "id": "9db73403",
=======
   "id": "33fae968",
>>>>>>> documentation-devel
=======
   "id": "ef70c055",
>>>>>>> 552590ea8fad969b67afdba27558a1e6cb21016e
||||||| 452c944
   "id": "dbac1c18",
=======
   "id": "f6288862",
>>>>>>> documentation-devel
||||||| 4da3324
<<<<<<< HEAD
<<<<<<< HEAD
<<<<<<< HEAD
   "id": "e558a5e1",
||||||| 11b9cb7
   "id": "9db73403",
=======
   "id": "33fae968",
>>>>>>> documentation-devel
||||||| 614e9b1
   "id": "33fae968",
=======
   "id": "dbac1c18",
>>>>>>> documentation-devel
||||||| 856b4c0
<<<<<<< HEAD
   "id": "e558a5e1",
||||||| 11b9cb7
   "id": "9db73403",
=======
   "id": "33fae968",
>>>>>>> documentation-devel
=======
   "id": "ef70c055",
>>>>>>> 552590ea8fad969b67afdba27558a1e6cb21016e
=======
   "id": "8e9b9569",
>>>>>>> b6e07d13baac92b2c1c9b43f8e4113ffa87bf495
   "metadata": {
    "lines_to_next_cell": 0
   },
   "source": [
    "Very highly expressed genes have higher Moran's I, but there are some less expressed genes with higher Moran's I as well.\n",
    "\n",
    "# Non-spatial dimension reduction and clustering\n",
    "\n",
    "Here we run non-spatial PCA as for scRNA-seq data"
   ]
  },
  {
   "cell_type": "code",
   "execution_count": null,
<<<<<<< HEAD
<<<<<<< HEAD
<<<<<<< HEAD
<<<<<<< HEAD
<<<<<<< HEAD
   "id": "0e42fd58",
||||||| 11b9cb7
   "id": "18d69275",
=======
   "id": "8fb2ba06",
>>>>>>> documentation-devel
||||||| 614e9b1
   "id": "8fb2ba06",
=======
   "id": "84fd7c36",
>>>>>>> documentation-devel
||||||| 856b4c0
<<<<<<< HEAD
   "id": "0e42fd58",
||||||| 11b9cb7
   "id": "18d69275",
=======
   "id": "8fb2ba06",
>>>>>>> documentation-devel
=======
   "id": "1eef180e",
>>>>>>> 552590ea8fad969b67afdba27558a1e6cb21016e
||||||| 452c944
   "id": "84fd7c36",
=======
   "id": "3ca6a800",
>>>>>>> documentation-devel
||||||| 4da3324
<<<<<<< HEAD
<<<<<<< HEAD
<<<<<<< HEAD
   "id": "0e42fd58",
||||||| 11b9cb7
   "id": "18d69275",
=======
   "id": "8fb2ba06",
>>>>>>> documentation-devel
||||||| 614e9b1
   "id": "8fb2ba06",
=======
   "id": "84fd7c36",
>>>>>>> documentation-devel
||||||| 856b4c0
<<<<<<< HEAD
   "id": "0e42fd58",
||||||| 11b9cb7
   "id": "18d69275",
=======
   "id": "8fb2ba06",
>>>>>>> documentation-devel
=======
   "id": "1eef180e",
>>>>>>> 552590ea8fad969b67afdba27558a1e6cb21016e
=======
   "id": "e4863af0",
>>>>>>> b6e07d13baac92b2c1c9b43f8e4113ffa87bf495
   "metadata": {},
   "outputs": [],
   "source": [
    "set.seed(29)\n",
    "sfe <- runPCA(sfe, ncomponents = 30, scale = TRUE, BSPARAM = IrlbaParam())"
   ]
  },
  {
   "cell_type": "code",
   "execution_count": null,
<<<<<<< HEAD
<<<<<<< HEAD
<<<<<<< HEAD
<<<<<<< HEAD
<<<<<<< HEAD
   "id": "5f86d844",
||||||| 11b9cb7
   "id": "22ac2652",
=======
   "id": "9aee87e1",
>>>>>>> documentation-devel
||||||| 614e9b1
   "id": "9aee87e1",
=======
   "id": "46a10665",
>>>>>>> documentation-devel
||||||| 856b4c0
<<<<<<< HEAD
   "id": "5f86d844",
||||||| 11b9cb7
   "id": "22ac2652",
=======
   "id": "9aee87e1",
>>>>>>> documentation-devel
=======
   "id": "f04eedfc",
>>>>>>> 552590ea8fad969b67afdba27558a1e6cb21016e
||||||| 452c944
   "id": "46a10665",
=======
   "id": "a5cab05a",
>>>>>>> documentation-devel
||||||| 4da3324
<<<<<<< HEAD
<<<<<<< HEAD
<<<<<<< HEAD
   "id": "5f86d844",
||||||| 11b9cb7
   "id": "22ac2652",
=======
   "id": "9aee87e1",
>>>>>>> documentation-devel
||||||| 614e9b1
   "id": "9aee87e1",
=======
   "id": "46a10665",
>>>>>>> documentation-devel
||||||| 856b4c0
<<<<<<< HEAD
   "id": "5f86d844",
||||||| 11b9cb7
   "id": "22ac2652",
=======
   "id": "9aee87e1",
>>>>>>> documentation-devel
=======
   "id": "f04eedfc",
>>>>>>> 552590ea8fad969b67afdba27558a1e6cb21016e
=======
   "id": "6d41edde",
>>>>>>> b6e07d13baac92b2c1c9b43f8e4113ffa87bf495
   "metadata": {},
   "outputs": [],
   "source": [
    "ElbowPlot(sfe, ndims = 30)"
   ]
  },
  {
   "cell_type": "code",
   "execution_count": null,
<<<<<<< HEAD
<<<<<<< HEAD
<<<<<<< HEAD
<<<<<<< HEAD
<<<<<<< HEAD
   "id": "a61b5726",
||||||| 11b9cb7
   "id": "abaecdf4",
=======
   "id": "a5bafdec",
>>>>>>> documentation-devel
||||||| 614e9b1
   "id": "a5bafdec",
=======
   "id": "5e0219ec",
>>>>>>> documentation-devel
||||||| 856b4c0
<<<<<<< HEAD
   "id": "a61b5726",
||||||| 11b9cb7
   "id": "abaecdf4",
=======
   "id": "a5bafdec",
>>>>>>> documentation-devel
=======
   "id": "265ce3ea",
>>>>>>> 552590ea8fad969b67afdba27558a1e6cb21016e
||||||| 452c944
   "id": "5e0219ec",
=======
   "id": "f3b2cfbc",
>>>>>>> documentation-devel
||||||| 4da3324
<<<<<<< HEAD
<<<<<<< HEAD
<<<<<<< HEAD
   "id": "a61b5726",
||||||| 11b9cb7
   "id": "abaecdf4",
=======
   "id": "a5bafdec",
>>>>>>> documentation-devel
||||||| 614e9b1
   "id": "a5bafdec",
=======
   "id": "5e0219ec",
>>>>>>> documentation-devel
||||||| 856b4c0
<<<<<<< HEAD
   "id": "a61b5726",
||||||| 11b9cb7
   "id": "abaecdf4",
=======
   "id": "a5bafdec",
>>>>>>> documentation-devel
=======
   "id": "265ce3ea",
>>>>>>> 552590ea8fad969b67afdba27558a1e6cb21016e
=======
   "id": "a4a19c37",
>>>>>>> b6e07d13baac92b2c1c9b43f8e4113ffa87bf495
   "metadata": {},
   "outputs": [],
   "source": [
    "plotDimLoadings(sfe, dims = 1:6)"
   ]
  },
  {
   "cell_type": "code",
   "execution_count": null,
<<<<<<< HEAD
<<<<<<< HEAD
<<<<<<< HEAD
<<<<<<< HEAD
<<<<<<< HEAD
   "id": "8f84d7e9",
||||||| 11b9cb7
   "id": "d0ee4614",
=======
   "id": "7e2a0df7",
>>>>>>> documentation-devel
||||||| 614e9b1
   "id": "7e2a0df7",
=======
   "id": "c7c57c1c",
>>>>>>> documentation-devel
||||||| 856b4c0
<<<<<<< HEAD
   "id": "8f84d7e9",
||||||| 11b9cb7
   "id": "d0ee4614",
=======
   "id": "7e2a0df7",
>>>>>>> documentation-devel
=======
   "id": "bfc217e9",
>>>>>>> 552590ea8fad969b67afdba27558a1e6cb21016e
||||||| 452c944
   "id": "c7c57c1c",
=======
   "id": "c1aa8590",
>>>>>>> documentation-devel
||||||| 4da3324
<<<<<<< HEAD
<<<<<<< HEAD
<<<<<<< HEAD
   "id": "8f84d7e9",
||||||| 11b9cb7
   "id": "d0ee4614",
=======
   "id": "7e2a0df7",
>>>>>>> documentation-devel
||||||| 614e9b1
   "id": "7e2a0df7",
=======
   "id": "c7c57c1c",
>>>>>>> documentation-devel
||||||| 856b4c0
<<<<<<< HEAD
   "id": "8f84d7e9",
||||||| 11b9cb7
   "id": "d0ee4614",
=======
   "id": "7e2a0df7",
>>>>>>> documentation-devel
=======
   "id": "bfc217e9",
>>>>>>> 552590ea8fad969b67afdba27558a1e6cb21016e
=======
   "id": "121c2025",
>>>>>>> b6e07d13baac92b2c1c9b43f8e4113ffa87bf495
   "metadata": {
    "fig.height": 9,
    "fig.width": 9
   },
   "outputs": [],
   "source": [
    "spatialReducedDim(sfe, \"PCA\", 6, colGeometryName = \"centroids\", divergent = TRUE,\n",
    "                  diverge_center = 0, ncol = 2, scattermore = TRUE, pointsize = 0.5)"
   ]
  },
  {
   "cell_type": "markdown",
<<<<<<< HEAD
<<<<<<< HEAD
<<<<<<< HEAD
<<<<<<< HEAD
<<<<<<< HEAD
   "id": "01a1a531",
||||||| 11b9cb7
   "id": "2285992c",
=======
   "id": "47a2b17c",
>>>>>>> documentation-devel
||||||| 614e9b1
   "id": "47a2b17c",
=======
   "id": "32b03bff",
>>>>>>> documentation-devel
||||||| 856b4c0
<<<<<<< HEAD
   "id": "01a1a531",
||||||| 11b9cb7
   "id": "2285992c",
=======
   "id": "47a2b17c",
>>>>>>> documentation-devel
=======
   "id": "5071533c",
>>>>>>> 552590ea8fad969b67afdba27558a1e6cb21016e
||||||| 452c944
   "id": "32b03bff",
=======
   "id": "addd6199",
>>>>>>> documentation-devel
||||||| 4da3324
<<<<<<< HEAD
<<<<<<< HEAD
<<<<<<< HEAD
   "id": "01a1a531",
||||||| 11b9cb7
   "id": "2285992c",
=======
   "id": "47a2b17c",
>>>>>>> documentation-devel
||||||| 614e9b1
   "id": "47a2b17c",
=======
   "id": "32b03bff",
>>>>>>> documentation-devel
||||||| 856b4c0
<<<<<<< HEAD
   "id": "01a1a531",
||||||| 11b9cb7
   "id": "2285992c",
=======
   "id": "47a2b17c",
>>>>>>> documentation-devel
=======
   "id": "5071533c",
>>>>>>> 552590ea8fad969b67afdba27558a1e6cb21016e
=======
   "id": "d036620d",
>>>>>>> b6e07d13baac92b2c1c9b43f8e4113ffa87bf495
   "metadata": {
    "lines_to_next_cell": 0
   },
   "source": [
    "While spatial region is not explicitly used, the PC's highlight spatial regions due to spatial autocorrelation in gene expression and histological regions with different cell types.\n",
    "\n",
    "Non-spatial clustering and locating the clusters in space"
   ]
  },
  {
   "cell_type": "code",
   "execution_count": null,
<<<<<<< HEAD
<<<<<<< HEAD
<<<<<<< HEAD
<<<<<<< HEAD
<<<<<<< HEAD
   "id": "98b4774c",
||||||| 11b9cb7
   "id": "563a3e2c",
=======
   "id": "8285a1f8",
>>>>>>> documentation-devel
||||||| 614e9b1
   "id": "8285a1f8",
=======
   "id": "d4f56713",
>>>>>>> documentation-devel
||||||| 856b4c0
<<<<<<< HEAD
   "id": "98b4774c",
||||||| 11b9cb7
   "id": "563a3e2c",
=======
   "id": "8285a1f8",
>>>>>>> documentation-devel
=======
   "id": "782a7cb9",
>>>>>>> 552590ea8fad969b67afdba27558a1e6cb21016e
||||||| 452c944
   "id": "d4f56713",
=======
   "id": "e8289bc6",
>>>>>>> documentation-devel
||||||| 4da3324
<<<<<<< HEAD
<<<<<<< HEAD
<<<<<<< HEAD
   "id": "98b4774c",
||||||| 11b9cb7
   "id": "563a3e2c",
=======
   "id": "8285a1f8",
>>>>>>> documentation-devel
||||||| 614e9b1
   "id": "8285a1f8",
=======
   "id": "d4f56713",
>>>>>>> documentation-devel
||||||| 856b4c0
<<<<<<< HEAD
   "id": "98b4774c",
||||||| 11b9cb7
   "id": "563a3e2c",
=======
   "id": "8285a1f8",
>>>>>>> documentation-devel
=======
   "id": "782a7cb9",
>>>>>>> 552590ea8fad969b67afdba27558a1e6cb21016e
=======
   "id": "94e75d13",
>>>>>>> b6e07d13baac92b2c1c9b43f8e4113ffa87bf495
   "metadata": {},
   "outputs": [],
   "source": [
    "colData(sfe)$cluster <- clusterRows(reducedDim(sfe, \"PCA\")[,1:15],\n",
    "                                    BLUSPARAM = SNNGraphParam(\n",
    "                                        cluster.fun = \"leiden\",\n",
    "                                        cluster.args = list(\n",
    "                                            resolution_parameter = 0.5,\n",
    "                                            objective_function = \"modularity\")))"
   ]
  },
  {
   "cell_type": "markdown",
<<<<<<< HEAD
<<<<<<< HEAD
<<<<<<< HEAD
<<<<<<< HEAD
<<<<<<< HEAD
   "id": "2f39b3f1",
||||||| 11b9cb7
   "id": "91af6bc2",
=======
   "id": "3d4d2b60",
>>>>>>> documentation-devel
||||||| 614e9b1
   "id": "3d4d2b60",
=======
   "id": "81ff6630",
>>>>>>> documentation-devel
||||||| 856b4c0
<<<<<<< HEAD
   "id": "2f39b3f1",
||||||| 11b9cb7
   "id": "91af6bc2",
=======
   "id": "3d4d2b60",
>>>>>>> documentation-devel
=======
   "id": "0a1f3e36",
>>>>>>> 552590ea8fad969b67afdba27558a1e6cb21016e
||||||| 452c944
   "id": "81ff6630",
=======
   "id": "d43e83da",
>>>>>>> documentation-devel
||||||| 4da3324
<<<<<<< HEAD
<<<<<<< HEAD
<<<<<<< HEAD
   "id": "2f39b3f1",
||||||| 11b9cb7
   "id": "91af6bc2",
=======
   "id": "3d4d2b60",
>>>>>>> documentation-devel
||||||| 614e9b1
   "id": "3d4d2b60",
=======
   "id": "81ff6630",
>>>>>>> documentation-devel
||||||| 856b4c0
<<<<<<< HEAD
   "id": "2f39b3f1",
||||||| 11b9cb7
   "id": "91af6bc2",
=======
   "id": "3d4d2b60",
>>>>>>> documentation-devel
=======
   "id": "0a1f3e36",
>>>>>>> 552590ea8fad969b67afdba27558a1e6cb21016e
=======
   "id": "0863f468",
>>>>>>> b6e07d13baac92b2c1c9b43f8e4113ffa87bf495
   "metadata": {
    "lines_to_next_cell": 0
   },
   "source": [
    "Now the `scater` can also rasterize the plots with lots of points with the `rasterise` argument, but with a different mechanism from `scattermore` that requires more system dependencies. "
   ]
  },
  {
   "cell_type": "code",
   "execution_count": null,
<<<<<<< HEAD
<<<<<<< HEAD
<<<<<<< HEAD
<<<<<<< HEAD
<<<<<<< HEAD
   "id": "36014895",
||||||| 11b9cb7
   "id": "a19208ca",
=======
   "id": "028d78ae",
>>>>>>> documentation-devel
||||||| 614e9b1
   "id": "028d78ae",
=======
   "id": "32874e25",
>>>>>>> documentation-devel
||||||| 856b4c0
<<<<<<< HEAD
   "id": "36014895",
||||||| 11b9cb7
   "id": "a19208ca",
=======
   "id": "028d78ae",
>>>>>>> documentation-devel
=======
   "id": "064f6e86",
>>>>>>> 552590ea8fad969b67afdba27558a1e6cb21016e
||||||| 452c944
   "id": "32874e25",
=======
   "id": "908726d2",
>>>>>>> documentation-devel
||||||| 4da3324
<<<<<<< HEAD
<<<<<<< HEAD
<<<<<<< HEAD
   "id": "36014895",
||||||| 11b9cb7
   "id": "a19208ca",
=======
   "id": "028d78ae",
>>>>>>> documentation-devel
||||||| 614e9b1
   "id": "028d78ae",
=======
   "id": "32874e25",
>>>>>>> documentation-devel
||||||| 856b4c0
<<<<<<< HEAD
   "id": "36014895",
||||||| 11b9cb7
   "id": "a19208ca",
=======
   "id": "028d78ae",
>>>>>>> documentation-devel
=======
   "id": "064f6e86",
>>>>>>> 552590ea8fad969b67afdba27558a1e6cb21016e
=======
   "id": "e3722808",
>>>>>>> b6e07d13baac92b2c1c9b43f8e4113ffa87bf495
   "metadata": {
    "fig.height": 8,
    "fig.width": 8
   },
   "outputs": [],
   "source": [
    "plotPCA(sfe, ncomponents = 4, colour_by = \"cluster\", rasterise = FALSE)"
   ]
  },
  {
   "cell_type": "markdown",
<<<<<<< HEAD
<<<<<<< HEAD
<<<<<<< HEAD
<<<<<<< HEAD
<<<<<<< HEAD
   "id": "840f9dad",
||||||| 11b9cb7
   "id": "2fb38fc1",
=======
   "id": "8f2e937f",
>>>>>>> documentation-devel
||||||| 614e9b1
   "id": "8f2e937f",
=======
   "id": "c8c0ea8e",
>>>>>>> documentation-devel
||||||| 856b4c0
<<<<<<< HEAD
   "id": "840f9dad",
||||||| 11b9cb7
   "id": "2fb38fc1",
=======
   "id": "8f2e937f",
>>>>>>> documentation-devel
=======
   "id": "41af761e",
>>>>>>> 552590ea8fad969b67afdba27558a1e6cb21016e
||||||| 452c944
   "id": "c8c0ea8e",
=======
   "id": "0ec116a2",
>>>>>>> documentation-devel
||||||| 4da3324
<<<<<<< HEAD
<<<<<<< HEAD
<<<<<<< HEAD
   "id": "840f9dad",
||||||| 11b9cb7
   "id": "2fb38fc1",
=======
   "id": "8f2e937f",
>>>>>>> documentation-devel
||||||| 614e9b1
   "id": "8f2e937f",
=======
   "id": "c8c0ea8e",
>>>>>>> documentation-devel
||||||| 856b4c0
<<<<<<< HEAD
   "id": "840f9dad",
||||||| 11b9cb7
   "id": "2fb38fc1",
=======
   "id": "8f2e937f",
>>>>>>> documentation-devel
=======
   "id": "41af761e",
>>>>>>> 552590ea8fad969b67afdba27558a1e6cb21016e
=======
   "id": "f179cd59",
>>>>>>> b6e07d13baac92b2c1c9b43f8e4113ffa87bf495
   "metadata": {
    "lines_to_next_cell": 0
   },
   "source": [
    "Plot the location of the clusters in space"
   ]
  },
  {
   "cell_type": "code",
   "execution_count": null,
<<<<<<< HEAD
<<<<<<< HEAD
<<<<<<< HEAD
<<<<<<< HEAD
<<<<<<< HEAD
   "id": "00180016",
||||||| 11b9cb7
   "id": "8d4e3592",
=======
   "id": "288ebeb9",
>>>>>>> documentation-devel
||||||| 614e9b1
   "id": "288ebeb9",
=======
   "id": "4e4f4c68",
>>>>>>> documentation-devel
||||||| 856b4c0
<<<<<<< HEAD
   "id": "00180016",
||||||| 11b9cb7
   "id": "8d4e3592",
=======
   "id": "288ebeb9",
>>>>>>> documentation-devel
=======
   "id": "1e678ba1",
>>>>>>> 552590ea8fad969b67afdba27558a1e6cb21016e
||||||| 452c944
   "id": "4e4f4c68",
=======
   "id": "c521b5f4",
>>>>>>> documentation-devel
||||||| 4da3324
<<<<<<< HEAD
<<<<<<< HEAD
<<<<<<< HEAD
   "id": "00180016",
||||||| 11b9cb7
   "id": "8d4e3592",
=======
   "id": "288ebeb9",
>>>>>>> documentation-devel
||||||| 614e9b1
   "id": "288ebeb9",
=======
   "id": "4e4f4c68",
>>>>>>> documentation-devel
||||||| 856b4c0
<<<<<<< HEAD
   "id": "00180016",
||||||| 11b9cb7
   "id": "8d4e3592",
=======
   "id": "288ebeb9",
>>>>>>> documentation-devel
=======
   "id": "1e678ba1",
>>>>>>> 552590ea8fad969b67afdba27558a1e6cb21016e
=======
   "id": "66048445",
>>>>>>> b6e07d13baac92b2c1c9b43f8e4113ffa87bf495
   "metadata": {},
   "outputs": [],
   "source": [
    "plotSpatialFeature(sfe, \"cluster\", colGeometryName = \"cellSeg\")"
   ]
  },
  {
   "cell_type": "markdown",
<<<<<<< HEAD
<<<<<<< HEAD
<<<<<<< HEAD
<<<<<<< HEAD
<<<<<<< HEAD
   "id": "8c9aba96",
||||||| 11b9cb7
   "id": "9eb7baf9",
=======
   "id": "c49d326b",
>>>>>>> documentation-devel
||||||| 614e9b1
   "id": "c49d326b",
=======
   "id": "aebd93fa",
>>>>>>> documentation-devel
||||||| 856b4c0
<<<<<<< HEAD
   "id": "8c9aba96",
||||||| 11b9cb7
   "id": "9eb7baf9",
=======
   "id": "c49d326b",
>>>>>>> documentation-devel
=======
   "id": "b43cdc60",
>>>>>>> 552590ea8fad969b67afdba27558a1e6cb21016e
||||||| 452c944
   "id": "aebd93fa",
=======
   "id": "0682ffec",
>>>>>>> documentation-devel
||||||| 4da3324
<<<<<<< HEAD
<<<<<<< HEAD
<<<<<<< HEAD
   "id": "8c9aba96",
||||||| 11b9cb7
   "id": "9eb7baf9",
=======
   "id": "c49d326b",
>>>>>>> documentation-devel
||||||| 614e9b1
   "id": "c49d326b",
=======
   "id": "aebd93fa",
>>>>>>> documentation-devel
||||||| 856b4c0
<<<<<<< HEAD
   "id": "8c9aba96",
||||||| 11b9cb7
   "id": "9eb7baf9",
=======
   "id": "c49d326b",
>>>>>>> documentation-devel
=======
   "id": "b43cdc60",
>>>>>>> 552590ea8fad969b67afdba27558a1e6cb21016e
=======
   "id": "afb38789",
>>>>>>> b6e07d13baac92b2c1c9b43f8e4113ffa87bf495
   "metadata": {
    "lines_to_next_cell": 0
   },
   "source": [
    "# Differential expression\n",
    "Cluster marker genes are found with Wilcoxon rank sum test as commonly done for scRNA-seq."
   ]
  },
  {
   "cell_type": "code",
   "execution_count": null,
<<<<<<< HEAD
<<<<<<< HEAD
<<<<<<< HEAD
<<<<<<< HEAD
<<<<<<< HEAD
   "id": "1ddc2d24",
||||||| 11b9cb7
   "id": "e889d6e8",
=======
   "id": "1cc7fa01",
>>>>>>> documentation-devel
||||||| 614e9b1
   "id": "1cc7fa01",
=======
   "id": "2eaa6538",
>>>>>>> documentation-devel
||||||| 856b4c0
<<<<<<< HEAD
   "id": "1ddc2d24",
||||||| 11b9cb7
   "id": "e889d6e8",
=======
   "id": "1cc7fa01",
>>>>>>> documentation-devel
=======
   "id": "60becb81",
>>>>>>> 552590ea8fad969b67afdba27558a1e6cb21016e
||||||| 452c944
   "id": "2eaa6538",
=======
   "id": "74d82fe1",
>>>>>>> documentation-devel
||||||| 4da3324
<<<<<<< HEAD
<<<<<<< HEAD
<<<<<<< HEAD
   "id": "1ddc2d24",
||||||| 11b9cb7
   "id": "e889d6e8",
=======
   "id": "1cc7fa01",
>>>>>>> documentation-devel
||||||| 614e9b1
   "id": "1cc7fa01",
=======
   "id": "2eaa6538",
>>>>>>> documentation-devel
||||||| 856b4c0
<<<<<<< HEAD
   "id": "1ddc2d24",
||||||| 11b9cb7
   "id": "e889d6e8",
=======
   "id": "1cc7fa01",
>>>>>>> documentation-devel
=======
   "id": "60becb81",
>>>>>>> 552590ea8fad969b67afdba27558a1e6cb21016e
=======
   "id": "6da1020a",
>>>>>>> b6e07d13baac92b2c1c9b43f8e4113ffa87bf495
   "metadata": {},
   "outputs": [],
   "source": [
    "markers <- findMarkers(sfe, groups = colData(sfe)$cluster,\n",
    "                       test.type = \"wilcox\", pval.type = \"all\", direction = \"up\")"
   ]
  },
  {
   "cell_type": "markdown",
<<<<<<< HEAD
<<<<<<< HEAD
<<<<<<< HEAD
<<<<<<< HEAD
<<<<<<< HEAD
   "id": "06eff4ee",
||||||| 11b9cb7
   "id": "d1f2e9c1",
=======
   "id": "f9c94485",
>>>>>>> documentation-devel
||||||| 614e9b1
   "id": "f9c94485",
=======
   "id": "bca9b4de",
>>>>>>> documentation-devel
||||||| 856b4c0
<<<<<<< HEAD
   "id": "06eff4ee",
||||||| 11b9cb7
   "id": "d1f2e9c1",
=======
   "id": "f9c94485",
>>>>>>> documentation-devel
=======
   "id": "cf916083",
>>>>>>> 552590ea8fad969b67afdba27558a1e6cb21016e
||||||| 452c944
   "id": "bca9b4de",
=======
   "id": "2ddd036b",
>>>>>>> documentation-devel
||||||| 4da3324
<<<<<<< HEAD
<<<<<<< HEAD
<<<<<<< HEAD
   "id": "06eff4ee",
||||||| 11b9cb7
   "id": "d1f2e9c1",
=======
   "id": "f9c94485",
>>>>>>> documentation-devel
||||||| 614e9b1
   "id": "f9c94485",
=======
   "id": "bca9b4de",
>>>>>>> documentation-devel
||||||| 856b4c0
<<<<<<< HEAD
   "id": "06eff4ee",
||||||| 11b9cb7
   "id": "d1f2e9c1",
=======
   "id": "f9c94485",
>>>>>>> documentation-devel
=======
   "id": "cf916083",
>>>>>>> 552590ea8fad969b67afdba27558a1e6cb21016e
=======
   "id": "8aac89bc",
>>>>>>> b6e07d13baac92b2c1c9b43f8e4113ffa87bf495
   "metadata": {
    "lines_to_next_cell": 0
   },
   "source": [
    "It's already sorted by p-values:"
   ]
  },
  {
   "cell_type": "code",
   "execution_count": null,
<<<<<<< HEAD
<<<<<<< HEAD
<<<<<<< HEAD
<<<<<<< HEAD
<<<<<<< HEAD
   "id": "ab3df913",
||||||| 11b9cb7
   "id": "1aa6ee1b",
=======
   "id": "ada527db",
>>>>>>> documentation-devel
||||||| 614e9b1
   "id": "ada527db",
=======
   "id": "81be8aca",
>>>>>>> documentation-devel
||||||| 856b4c0
<<<<<<< HEAD
   "id": "ab3df913",
||||||| 11b9cb7
   "id": "1aa6ee1b",
=======
   "id": "ada527db",
>>>>>>> documentation-devel
=======
   "id": "978dbb43",
>>>>>>> 552590ea8fad969b67afdba27558a1e6cb21016e
||||||| 452c944
   "id": "81be8aca",
=======
   "id": "ba996c8f",
>>>>>>> documentation-devel
||||||| 4da3324
<<<<<<< HEAD
<<<<<<< HEAD
<<<<<<< HEAD
   "id": "ab3df913",
||||||| 11b9cb7
   "id": "1aa6ee1b",
=======
   "id": "ada527db",
>>>>>>> documentation-devel
||||||| 614e9b1
   "id": "ada527db",
=======
   "id": "81be8aca",
>>>>>>> documentation-devel
||||||| 856b4c0
<<<<<<< HEAD
   "id": "ab3df913",
||||||| 11b9cb7
   "id": "1aa6ee1b",
=======
   "id": "ada527db",
>>>>>>> documentation-devel
=======
   "id": "978dbb43",
>>>>>>> 552590ea8fad969b67afdba27558a1e6cb21016e
=======
   "id": "a4942b89",
>>>>>>> b6e07d13baac92b2c1c9b43f8e4113ffa87bf495
   "metadata": {},
   "outputs": [],
   "source": [
    "markers[[6]]"
   ]
  },
  {
   "cell_type": "markdown",
<<<<<<< HEAD
<<<<<<< HEAD
<<<<<<< HEAD
<<<<<<< HEAD
<<<<<<< HEAD
   "id": "1aa8255a",
||||||| 11b9cb7
   "id": "14265994",
=======
   "id": "d0a66b17",
>>>>>>> documentation-devel
||||||| 614e9b1
   "id": "d0a66b17",
=======
   "id": "77a3c7b4",
>>>>>>> documentation-devel
||||||| 856b4c0
<<<<<<< HEAD
   "id": "1aa8255a",
||||||| 11b9cb7
   "id": "14265994",
=======
   "id": "d0a66b17",
>>>>>>> documentation-devel
=======
   "id": "73f44b21",
>>>>>>> 552590ea8fad969b67afdba27558a1e6cb21016e
||||||| 452c944
   "id": "77a3c7b4",
=======
   "id": "8e98222a",
>>>>>>> documentation-devel
||||||| 4da3324
<<<<<<< HEAD
<<<<<<< HEAD
<<<<<<< HEAD
   "id": "1aa8255a",
||||||| 11b9cb7
   "id": "14265994",
=======
   "id": "d0a66b17",
>>>>>>> documentation-devel
||||||| 614e9b1
   "id": "d0a66b17",
=======
   "id": "77a3c7b4",
>>>>>>> documentation-devel
||||||| 856b4c0
<<<<<<< HEAD
   "id": "1aa8255a",
||||||| 11b9cb7
   "id": "14265994",
=======
   "id": "d0a66b17",
>>>>>>> documentation-devel
=======
   "id": "73f44b21",
>>>>>>> 552590ea8fad969b67afdba27558a1e6cb21016e
=======
   "id": "83443e8d",
>>>>>>> b6e07d13baac92b2c1c9b43f8e4113ffa87bf495
   "metadata": {
    "lines_to_next_cell": 0
   },
   "source": [
    "The code below extracts the significant markers for each cluster:"
   ]
  },
  {
   "cell_type": "code",
   "execution_count": null,
<<<<<<< HEAD
<<<<<<< HEAD
<<<<<<< HEAD
<<<<<<< HEAD
<<<<<<< HEAD
   "id": "bef7dbc3",
||||||| 11b9cb7
   "id": "ebc74efd",
=======
   "id": "2bd89573",
>>>>>>> documentation-devel
||||||| 614e9b1
   "id": "2bd89573",
=======
   "id": "6536c7f6",
>>>>>>> documentation-devel
||||||| 856b4c0
<<<<<<< HEAD
   "id": "bef7dbc3",
||||||| 11b9cb7
   "id": "ebc74efd",
=======
   "id": "2bd89573",
>>>>>>> documentation-devel
=======
   "id": "e7a1725a",
>>>>>>> 552590ea8fad969b67afdba27558a1e6cb21016e
||||||| 452c944
   "id": "6536c7f6",
=======
   "id": "2d5a19d1",
>>>>>>> documentation-devel
||||||| 4da3324
<<<<<<< HEAD
<<<<<<< HEAD
<<<<<<< HEAD
   "id": "bef7dbc3",
||||||| 11b9cb7
   "id": "ebc74efd",
=======
   "id": "2bd89573",
>>>>>>> documentation-devel
||||||| 614e9b1
   "id": "2bd89573",
=======
   "id": "6536c7f6",
>>>>>>> documentation-devel
||||||| 856b4c0
<<<<<<< HEAD
   "id": "bef7dbc3",
||||||| 11b9cb7
   "id": "ebc74efd",
=======
   "id": "2bd89573",
>>>>>>> documentation-devel
=======
   "id": "e7a1725a",
>>>>>>> 552590ea8fad969b67afdba27558a1e6cb21016e
=======
   "id": "759b2a6d",
>>>>>>> b6e07d13baac92b2c1c9b43f8e4113ffa87bf495
   "metadata": {},
   "outputs": [],
   "source": [
    "genes_use <- vapply(markers, function(x) rownames(x)[1], FUN.VALUE = character(1))\n",
    "plotExpression(sfe, genes_use, x = \"cluster\", point_fun = function(...) list())"
   ]
  },
  {
   "cell_type": "markdown",
<<<<<<< HEAD
<<<<<<< HEAD
<<<<<<< HEAD
<<<<<<< HEAD
<<<<<<< HEAD
   "id": "b9bd55b2",
||||||| 11b9cb7
   "id": "d37a7fec",
=======
   "id": "a4ad9481",
>>>>>>> documentation-devel
||||||| 614e9b1
   "id": "a4ad9481",
=======
   "id": "e199ff34",
>>>>>>> documentation-devel
||||||| 856b4c0
<<<<<<< HEAD
   "id": "b9bd55b2",
||||||| 11b9cb7
   "id": "d37a7fec",
=======
   "id": "a4ad9481",
>>>>>>> documentation-devel
=======
   "id": "eb4e29a4",
>>>>>>> 552590ea8fad969b67afdba27558a1e6cb21016e
||||||| 452c944
   "id": "e199ff34",
=======
   "id": "fc34e24a",
>>>>>>> documentation-devel
||||||| 4da3324
<<<<<<< HEAD
<<<<<<< HEAD
<<<<<<< HEAD
   "id": "b9bd55b2",
||||||| 11b9cb7
   "id": "d37a7fec",
=======
   "id": "a4ad9481",
>>>>>>> documentation-devel
||||||| 614e9b1
   "id": "a4ad9481",
=======
   "id": "e199ff34",
>>>>>>> documentation-devel
||||||| 856b4c0
<<<<<<< HEAD
   "id": "b9bd55b2",
||||||| 11b9cb7
   "id": "d37a7fec",
=======
   "id": "a4ad9481",
>>>>>>> documentation-devel
=======
   "id": "eb4e29a4",
>>>>>>> 552590ea8fad969b67afdba27558a1e6cb21016e
=======
   "id": "50f22ac9",
>>>>>>> b6e07d13baac92b2c1c9b43f8e4113ffa87bf495
   "metadata": {
    "lines_to_next_cell": 0
   },
   "source": [
    "This allows for plotting more top marker genes in a heatmap:"
   ]
  },
  {
   "cell_type": "code",
   "execution_count": null,
<<<<<<< HEAD
<<<<<<< HEAD
<<<<<<< HEAD
<<<<<<< HEAD
<<<<<<< HEAD
   "id": "aa76758f",
||||||| 11b9cb7
   "id": "15179884",
=======
   "id": "22eb1e5c",
>>>>>>> documentation-devel
||||||| 614e9b1
   "id": "22eb1e5c",
=======
   "id": "64808eff",
>>>>>>> documentation-devel
||||||| 856b4c0
<<<<<<< HEAD
   "id": "aa76758f",
||||||| 11b9cb7
   "id": "15179884",
=======
   "id": "22eb1e5c",
>>>>>>> documentation-devel
=======
   "id": "ce5111ae",
>>>>>>> 552590ea8fad969b67afdba27558a1e6cb21016e
||||||| 452c944
   "id": "64808eff",
=======
   "id": "65019027",
>>>>>>> documentation-devel
||||||| 4da3324
<<<<<<< HEAD
<<<<<<< HEAD
<<<<<<< HEAD
   "id": "aa76758f",
||||||| 11b9cb7
   "id": "15179884",
=======
   "id": "22eb1e5c",
>>>>>>> documentation-devel
||||||| 614e9b1
   "id": "22eb1e5c",
=======
   "id": "64808eff",
>>>>>>> documentation-devel
||||||| 856b4c0
<<<<<<< HEAD
   "id": "aa76758f",
||||||| 11b9cb7
   "id": "15179884",
=======
   "id": "22eb1e5c",
>>>>>>> documentation-devel
=======
   "id": "ce5111ae",
>>>>>>> 552590ea8fad969b67afdba27558a1e6cb21016e
=======
   "id": "a59b09a3",
>>>>>>> b6e07d13baac92b2c1c9b43f8e4113ffa87bf495
   "metadata": {
    "fig.height": 8,
    "fig.width": 6
   },
   "outputs": [],
   "source": [
    "genes_use2 <- unique(unlist(lapply(markers, function(x) rownames(x)[1:5])))\n",
    "plotGroupedHeatmap(sfe, genes_use2, group = \"cluster\", colour = scales::viridis_pal()(100))"
   ]
  },
  {
   "cell_type": "markdown",
<<<<<<< HEAD
<<<<<<< HEAD
<<<<<<< HEAD
<<<<<<< HEAD
<<<<<<< HEAD
   "id": "ce162d36",
||||||| 11b9cb7
   "id": "f4f12862",
=======
   "id": "ec8a6894",
>>>>>>> documentation-devel
||||||| 614e9b1
   "id": "ec8a6894",
=======
   "id": "5ecd188f",
>>>>>>> documentation-devel
||||||| 856b4c0
<<<<<<< HEAD
   "id": "ce162d36",
||||||| 11b9cb7
   "id": "f4f12862",
=======
   "id": "ec8a6894",
>>>>>>> documentation-devel
=======
   "id": "387f5b11",
>>>>>>> 552590ea8fad969b67afdba27558a1e6cb21016e
||||||| 452c944
   "id": "5ecd188f",
=======
   "id": "26f87497",
>>>>>>> documentation-devel
||||||| 4da3324
<<<<<<< HEAD
<<<<<<< HEAD
<<<<<<< HEAD
   "id": "ce162d36",
||||||| 11b9cb7
   "id": "f4f12862",
=======
   "id": "ec8a6894",
>>>>>>> documentation-devel
||||||| 614e9b1
   "id": "ec8a6894",
=======
   "id": "5ecd188f",
>>>>>>> documentation-devel
||||||| 856b4c0
<<<<<<< HEAD
   "id": "ce162d36",
||||||| 11b9cb7
   "id": "f4f12862",
=======
   "id": "ec8a6894",
>>>>>>> documentation-devel
=======
   "id": "387f5b11",
>>>>>>> 552590ea8fad969b67afdba27558a1e6cb21016e
=======
   "id": "3763a82c",
>>>>>>> b6e07d13baac92b2c1c9b43f8e4113ffa87bf495
   "metadata": {
    "lines_to_next_cell": 0
   },
   "source": [
    "# Local spatial statistics of marker genes\n",
    "\n",
    "First we plot those genes in space as a reference"
   ]
  },
  {
   "cell_type": "code",
   "execution_count": null,
<<<<<<< HEAD
<<<<<<< HEAD
<<<<<<< HEAD
<<<<<<< HEAD
<<<<<<< HEAD
   "id": "3c43c93b",
||||||| 11b9cb7
   "id": "cdd11d74",
=======
   "id": "a4e01187",
>>>>>>> documentation-devel
||||||| 614e9b1
   "id": "a4e01187",
=======
   "id": "699196d1",
>>>>>>> documentation-devel
||||||| 856b4c0
<<<<<<< HEAD
   "id": "3c43c93b",
||||||| 11b9cb7
   "id": "cdd11d74",
=======
   "id": "a4e01187",
>>>>>>> documentation-devel
=======
   "id": "d9787eb4",
>>>>>>> 552590ea8fad969b67afdba27558a1e6cb21016e
||||||| 452c944
   "id": "699196d1",
=======
   "id": "044708c3",
>>>>>>> documentation-devel
||||||| 4da3324
<<<<<<< HEAD
<<<<<<< HEAD
<<<<<<< HEAD
   "id": "3c43c93b",
||||||| 11b9cb7
   "id": "cdd11d74",
=======
   "id": "a4e01187",
>>>>>>> documentation-devel
||||||| 614e9b1
   "id": "a4e01187",
=======
   "id": "699196d1",
>>>>>>> documentation-devel
||||||| 856b4c0
<<<<<<< HEAD
   "id": "3c43c93b",
||||||| 11b9cb7
   "id": "cdd11d74",
=======
   "id": "a4e01187",
>>>>>>> documentation-devel
=======
   "id": "d9787eb4",
>>>>>>> 552590ea8fad969b67afdba27558a1e6cb21016e
=======
   "id": "ce3c8ed2",
>>>>>>> b6e07d13baac92b2c1c9b43f8e4113ffa87bf495
   "metadata": {
    "fig.height": 9,
    "fig.width": 9
   },
   "outputs": [],
   "source": [
    "plotSpatialFeature(sfe, genes_use, colGeometryName = \"centroids\", ncol = 3,\n",
    "                   pointsize = 0.3, scattermore = TRUE)"
   ]
  },
  {
   "cell_type": "markdown",
<<<<<<< HEAD
<<<<<<< HEAD
<<<<<<< HEAD
<<<<<<< HEAD
<<<<<<< HEAD
   "id": "04b5d6de",
||||||| 11b9cb7
   "id": "eafe6477",
=======
   "id": "436302b6",
>>>>>>> documentation-devel
||||||| 614e9b1
   "id": "436302b6",
=======
   "id": "9b80d3b5",
>>>>>>> documentation-devel
||||||| 856b4c0
<<<<<<< HEAD
   "id": "04b5d6de",
||||||| 11b9cb7
   "id": "eafe6477",
=======
   "id": "436302b6",
>>>>>>> documentation-devel
=======
   "id": "eb5803bd",
>>>>>>> 552590ea8fad969b67afdba27558a1e6cb21016e
||||||| 452c944
   "id": "9b80d3b5",
=======
   "id": "9beafc00",
>>>>>>> documentation-devel
||||||| 4da3324
<<<<<<< HEAD
<<<<<<< HEAD
<<<<<<< HEAD
   "id": "04b5d6de",
||||||| 11b9cb7
   "id": "eafe6477",
=======
   "id": "436302b6",
>>>>>>> documentation-devel
||||||| 614e9b1
   "id": "436302b6",
=======
   "id": "9b80d3b5",
>>>>>>> documentation-devel
||||||| 856b4c0
<<<<<<< HEAD
   "id": "04b5d6de",
||||||| 11b9cb7
   "id": "eafe6477",
=======
   "id": "436302b6",
>>>>>>> documentation-devel
=======
   "id": "eb5803bd",
>>>>>>> 552590ea8fad969b67afdba27558a1e6cb21016e
=======
   "id": "4464b552",
>>>>>>> b6e07d13baac92b2c1c9b43f8e4113ffa87bf495
   "metadata": {},
   "source": [
    "Global Moran's I of these marker genes is shown below:"
   ]
  },
  {
   "cell_type": "code",
   "execution_count": null,
<<<<<<< HEAD
<<<<<<< HEAD
<<<<<<< HEAD
<<<<<<< HEAD
<<<<<<< HEAD
   "id": "005f717c",
||||||| 11b9cb7
   "id": "e38c67c1",
=======
   "id": "c32e20ad",
>>>>>>> documentation-devel
||||||| 614e9b1
   "id": "c32e20ad",
=======
   "id": "54f5e358",
>>>>>>> documentation-devel
||||||| 856b4c0
<<<<<<< HEAD
   "id": "005f717c",
||||||| 11b9cb7
   "id": "e38c67c1",
=======
   "id": "c32e20ad",
>>>>>>> documentation-devel
=======
   "id": "dd36de1e",
>>>>>>> 552590ea8fad969b67afdba27558a1e6cb21016e
||||||| 452c944
   "id": "54f5e358",
=======
   "id": "f0bab4fe",
>>>>>>> documentation-devel
||||||| 4da3324
<<<<<<< HEAD
<<<<<<< HEAD
<<<<<<< HEAD
   "id": "005f717c",
||||||| 11b9cb7
   "id": "e38c67c1",
=======
   "id": "c32e20ad",
>>>>>>> documentation-devel
||||||| 614e9b1
   "id": "c32e20ad",
=======
   "id": "54f5e358",
>>>>>>> documentation-devel
||||||| 856b4c0
<<<<<<< HEAD
   "id": "005f717c",
||||||| 11b9cb7
   "id": "e38c67c1",
=======
   "id": "c32e20ad",
>>>>>>> documentation-devel
=======
   "id": "dd36de1e",
>>>>>>> 552590ea8fad969b67afdba27558a1e6cb21016e
=======
   "id": "c0393bfe",
>>>>>>> b6e07d13baac92b2c1c9b43f8e4113ffa87bf495
   "metadata": {},
   "outputs": [],
   "source": [
    "setNames(rowData(sfe)[genes_use, \"moran_sample01\"], genes_use)"
   ]
  },
  {
   "cell_type": "markdown",
<<<<<<< HEAD
<<<<<<< HEAD
<<<<<<< HEAD
<<<<<<< HEAD
<<<<<<< HEAD
   "id": "6886c00e",
||||||| 11b9cb7
   "id": "2a01c275",
=======
   "id": "869b217a",
>>>>>>> documentation-devel
||||||| 614e9b1
   "id": "869b217a",
=======
   "id": "541b9fff",
>>>>>>> documentation-devel
||||||| 856b4c0
<<<<<<< HEAD
   "id": "6886c00e",
||||||| 11b9cb7
   "id": "2a01c275",
=======
   "id": "869b217a",
>>>>>>> documentation-devel
=======
   "id": "b229a8e4",
>>>>>>> 552590ea8fad969b67afdba27558a1e6cb21016e
||||||| 452c944
   "id": "541b9fff",
=======
   "id": "09c767b9",
>>>>>>> documentation-devel
||||||| 4da3324
<<<<<<< HEAD
<<<<<<< HEAD
<<<<<<< HEAD
   "id": "6886c00e",
||||||| 11b9cb7
   "id": "2a01c275",
=======
   "id": "869b217a",
>>>>>>> documentation-devel
||||||| 614e9b1
   "id": "869b217a",
=======
   "id": "541b9fff",
>>>>>>> documentation-devel
||||||| 856b4c0
<<<<<<< HEAD
   "id": "6886c00e",
||||||| 11b9cb7
   "id": "2a01c275",
=======
   "id": "869b217a",
>>>>>>> documentation-devel
=======
   "id": "b229a8e4",
>>>>>>> 552590ea8fad969b67afdba27558a1e6cb21016e
=======
   "id": "8bc1825f",
>>>>>>> b6e07d13baac92b2c1c9b43f8e4113ffa87bf495
   "metadata": {
    "lines_to_next_cell": 0
   },
   "source": [
    "All these marker genes have positive spatial autocorrelation, but some stronger than others.\n",
    "\n",
    "Local Moran's I of these marker genes is shown below:"
   ]
  },
  {
   "cell_type": "code",
   "execution_count": null,
<<<<<<< HEAD
<<<<<<< HEAD
<<<<<<< HEAD
<<<<<<< HEAD
<<<<<<< HEAD
   "id": "fed42645",
||||||| 11b9cb7
   "id": "90611d72",
=======
   "id": "8aefe12f",
>>>>>>> documentation-devel
||||||| 614e9b1
   "id": "8aefe12f",
=======
   "id": "11fa03fd",
>>>>>>> documentation-devel
||||||| 856b4c0
<<<<<<< HEAD
   "id": "fed42645",
||||||| 11b9cb7
   "id": "90611d72",
=======
   "id": "8aefe12f",
>>>>>>> documentation-devel
=======
   "id": "28d494cf",
>>>>>>> 552590ea8fad969b67afdba27558a1e6cb21016e
||||||| 452c944
   "id": "11fa03fd",
=======
   "id": "c4628753",
>>>>>>> documentation-devel
||||||| 4da3324
<<<<<<< HEAD
<<<<<<< HEAD
<<<<<<< HEAD
   "id": "fed42645",
||||||| 11b9cb7
   "id": "90611d72",
=======
   "id": "8aefe12f",
>>>>>>> documentation-devel
||||||| 614e9b1
   "id": "8aefe12f",
=======
   "id": "11fa03fd",
>>>>>>> documentation-devel
||||||| 856b4c0
<<<<<<< HEAD
   "id": "fed42645",
||||||| 11b9cb7
   "id": "90611d72",
=======
   "id": "8aefe12f",
>>>>>>> documentation-devel
=======
   "id": "28d494cf",
>>>>>>> 552590ea8fad969b67afdba27558a1e6cb21016e
=======
   "id": "f32b55e7",
>>>>>>> b6e07d13baac92b2c1c9b43f8e4113ffa87bf495
   "metadata": {},
   "outputs": [],
   "source": [
    "sfe <- runUnivariate(sfe, \"localmoran\", features = genes_use, colGraphName = \"knn5\",\n",
    "                     BPPARAM = MulticoreParam(2))"
   ]
  },
  {
   "cell_type": "code",
   "execution_count": null,
<<<<<<< HEAD
<<<<<<< HEAD
<<<<<<< HEAD
<<<<<<< HEAD
<<<<<<< HEAD
   "id": "f1a8a94e",
||||||| 11b9cb7
   "id": "cd5dbeaf",
=======
   "id": "b904039c",
>>>>>>> documentation-devel
||||||| 614e9b1
   "id": "b904039c",
=======
   "id": "f29c8aff",
>>>>>>> documentation-devel
||||||| 856b4c0
<<<<<<< HEAD
   "id": "f1a8a94e",
||||||| 11b9cb7
   "id": "cd5dbeaf",
=======
   "id": "b904039c",
>>>>>>> documentation-devel
=======
   "id": "67a7b4af",
>>>>>>> 552590ea8fad969b67afdba27558a1e6cb21016e
||||||| 452c944
   "id": "f29c8aff",
=======
   "id": "20180946",
>>>>>>> documentation-devel
||||||| 4da3324
<<<<<<< HEAD
<<<<<<< HEAD
<<<<<<< HEAD
   "id": "f1a8a94e",
||||||| 11b9cb7
   "id": "cd5dbeaf",
=======
   "id": "b904039c",
>>>>>>> documentation-devel
||||||| 614e9b1
   "id": "b904039c",
=======
   "id": "f29c8aff",
>>>>>>> documentation-devel
||||||| 856b4c0
<<<<<<< HEAD
   "id": "f1a8a94e",
||||||| 11b9cb7
   "id": "cd5dbeaf",
=======
   "id": "b904039c",
>>>>>>> documentation-devel
=======
   "id": "67a7b4af",
>>>>>>> 552590ea8fad969b67afdba27558a1e6cb21016e
=======
   "id": "edfce4f4",
>>>>>>> b6e07d13baac92b2c1c9b43f8e4113ffa87bf495
   "metadata": {
    "fig.height": 9,
    "fig.width": 9
   },
   "outputs": [],
   "source": [
    "plotLocalResult(sfe, \"localmoran\", features = genes_use, \n",
    "                colGeometryName = \"centroids\", ncol = 3, divergent = TRUE,\n",
    "                diverge_center = 0, scattermore = TRUE, pointsize = 0.3)"
   ]
  },
  {
   "cell_type": "markdown",
<<<<<<< HEAD
<<<<<<< HEAD
<<<<<<< HEAD
<<<<<<< HEAD
<<<<<<< HEAD
   "id": "79345e63",
||||||| 11b9cb7
   "id": "5149595f",
=======
   "id": "0554ebc4",
>>>>>>> documentation-devel
||||||| 614e9b1
   "id": "0554ebc4",
=======
   "id": "147e90bd",
>>>>>>> documentation-devel
||||||| 856b4c0
<<<<<<< HEAD
   "id": "79345e63",
||||||| 11b9cb7
   "id": "5149595f",
=======
   "id": "0554ebc4",
>>>>>>> documentation-devel
=======
   "id": "9cac611b",
>>>>>>> 552590ea8fad969b67afdba27558a1e6cb21016e
||||||| 452c944
   "id": "147e90bd",
=======
   "id": "eed7b72e",
>>>>>>> documentation-devel
||||||| 4da3324
<<<<<<< HEAD
<<<<<<< HEAD
<<<<<<< HEAD
   "id": "79345e63",
||||||| 11b9cb7
   "id": "5149595f",
=======
   "id": "0554ebc4",
>>>>>>> documentation-devel
||||||| 614e9b1
   "id": "0554ebc4",
=======
   "id": "147e90bd",
>>>>>>> documentation-devel
||||||| 856b4c0
<<<<<<< HEAD
   "id": "79345e63",
||||||| 11b9cb7
   "id": "5149595f",
=======
   "id": "0554ebc4",
>>>>>>> documentation-devel
=======
   "id": "9cac611b",
>>>>>>> 552590ea8fad969b67afdba27558a1e6cb21016e
=======
   "id": "c0c87e99",
>>>>>>> b6e07d13baac92b2c1c9b43f8e4113ffa87bf495
   "metadata": {
    "lines_to_next_cell": 0
   },
   "source": [
    "It seems that some histological regions tend to be more spatially homogenous in gene expression than others. The epithelial region tends to be more homogenous. For some genes, regions with higher expression also have higher local Moran's I, such as FOXA1 and GATA3, while for some genes, this is not the case, such as FGL2 and LUM. \n",
    "\n",
    "Finally, we assess local spatial heteroscdasticity (LOSH) for these marker genes to find local heterogeneity:"
   ]
  },
  {
   "cell_type": "code",
   "execution_count": null,
<<<<<<< HEAD
<<<<<<< HEAD
<<<<<<< HEAD
<<<<<<< HEAD
<<<<<<< HEAD
   "id": "9156dfec",
||||||| 11b9cb7
   "id": "94c8d3d1",
=======
   "id": "cc88b36a",
>>>>>>> documentation-devel
||||||| 614e9b1
   "id": "cc88b36a",
=======
   "id": "bdf12c3b",
>>>>>>> documentation-devel
||||||| 856b4c0
<<<<<<< HEAD
   "id": "9156dfec",
||||||| 11b9cb7
   "id": "94c8d3d1",
=======
   "id": "cc88b36a",
>>>>>>> documentation-devel
=======
   "id": "3a4247e5",
>>>>>>> 552590ea8fad969b67afdba27558a1e6cb21016e
||||||| 452c944
   "id": "bdf12c3b",
=======
   "id": "4846c19a",
>>>>>>> documentation-devel
||||||| 4da3324
<<<<<<< HEAD
<<<<<<< HEAD
<<<<<<< HEAD
   "id": "9156dfec",
||||||| 11b9cb7
   "id": "94c8d3d1",
=======
   "id": "cc88b36a",
>>>>>>> documentation-devel
||||||| 614e9b1
   "id": "cc88b36a",
=======
   "id": "bdf12c3b",
>>>>>>> documentation-devel
||||||| 856b4c0
<<<<<<< HEAD
   "id": "9156dfec",
||||||| 11b9cb7
   "id": "94c8d3d1",
=======
   "id": "cc88b36a",
>>>>>>> documentation-devel
=======
   "id": "3a4247e5",
>>>>>>> 552590ea8fad969b67afdba27558a1e6cb21016e
=======
   "id": "b0bd6020",
>>>>>>> b6e07d13baac92b2c1c9b43f8e4113ffa87bf495
   "metadata": {},
   "outputs": [],
   "source": [
    "sfe <- runUnivariate(sfe, \"LOSH\", features = genes_use, colGraphName = \"knn5\",\n",
    "                     BPPARAM = MulticoreParam(2))"
   ]
  },
  {
   "cell_type": "code",
   "execution_count": null,
<<<<<<< HEAD
<<<<<<< HEAD
<<<<<<< HEAD
<<<<<<< HEAD
<<<<<<< HEAD
   "id": "e65457cb",
||||||| 11b9cb7
   "id": "0926fb68",
=======
   "id": "7c7a1d9b",
>>>>>>> documentation-devel
||||||| 614e9b1
   "id": "7c7a1d9b",
=======
   "id": "b80ccb1a",
>>>>>>> documentation-devel
||||||| 856b4c0
<<<<<<< HEAD
   "id": "e65457cb",
||||||| 11b9cb7
   "id": "0926fb68",
=======
   "id": "7c7a1d9b",
>>>>>>> documentation-devel
=======
   "id": "22367667",
>>>>>>> 552590ea8fad969b67afdba27558a1e6cb21016e
||||||| 452c944
   "id": "b80ccb1a",
=======
   "id": "576b8417",
>>>>>>> documentation-devel
||||||| 4da3324
<<<<<<< HEAD
<<<<<<< HEAD
<<<<<<< HEAD
   "id": "e65457cb",
||||||| 11b9cb7
   "id": "0926fb68",
=======
   "id": "7c7a1d9b",
>>>>>>> documentation-devel
||||||| 614e9b1
   "id": "7c7a1d9b",
=======
   "id": "b80ccb1a",
>>>>>>> documentation-devel
||||||| 856b4c0
<<<<<<< HEAD
   "id": "e65457cb",
||||||| 11b9cb7
   "id": "0926fb68",
=======
   "id": "7c7a1d9b",
>>>>>>> documentation-devel
=======
   "id": "22367667",
>>>>>>> 552590ea8fad969b67afdba27558a1e6cb21016e
=======
   "id": "dc362d7a",
>>>>>>> b6e07d13baac92b2c1c9b43f8e4113ffa87bf495
   "metadata": {
    "fig.height": 9,
    "fig.width": 9
   },
   "outputs": [],
   "source": [
    "plotLocalResult(sfe, \"LOSH\", features = genes_use, \n",
    "                colGeometryName = \"centroids\", ncol = 3, scattermore = TRUE, \n",
    "                pointsize = 0.3)"
   ]
  },
  {
   "cell_type": "markdown",
<<<<<<< HEAD
<<<<<<< HEAD
<<<<<<< HEAD
<<<<<<< HEAD
<<<<<<< HEAD
   "id": "1fbe9e81",
||||||| 11b9cb7
   "id": "6d7247ff",
=======
   "id": "3d00a707",
>>>>>>> documentation-devel
||||||| 614e9b1
   "id": "3d00a707",
=======
   "id": "d9896abf",
>>>>>>> documentation-devel
||||||| 856b4c0
<<<<<<< HEAD
   "id": "1fbe9e81",
||||||| 11b9cb7
   "id": "6d7247ff",
=======
   "id": "3d00a707",
>>>>>>> documentation-devel
=======
   "id": "fcd9566c",
>>>>>>> 552590ea8fad969b67afdba27558a1e6cb21016e
||||||| 452c944
   "id": "d9896abf",
=======
   "id": "2d8857b1",
>>>>>>> documentation-devel
||||||| 4da3324
<<<<<<< HEAD
<<<<<<< HEAD
<<<<<<< HEAD
   "id": "1fbe9e81",
||||||| 11b9cb7
   "id": "6d7247ff",
=======
   "id": "3d00a707",
>>>>>>> documentation-devel
||||||| 614e9b1
   "id": "3d00a707",
=======
   "id": "d9896abf",
>>>>>>> documentation-devel
||||||| 856b4c0
<<<<<<< HEAD
   "id": "1fbe9e81",
||||||| 11b9cb7
   "id": "6d7247ff",
=======
   "id": "3d00a707",
>>>>>>> documentation-devel
=======
   "id": "fcd9566c",
>>>>>>> 552590ea8fad969b67afdba27558a1e6cb21016e
=======
   "id": "db2b006e",
>>>>>>> b6e07d13baac92b2c1c9b43f8e4113ffa87bf495
   "metadata": {
    "lines_to_next_cell": 0
   },
   "source": [
    "Again, just like in the [CosMX dataset](https://pachterlab.github.io/voyager/articles/vig4_cosmx.html#local-spatial-statistics-of-marker-genes), LOSH is higher where the gene is more highly expressed in some (e.g. CD3E, LUM, TENT5C) but not all cases (e.g. FOXA1, GATA3). This may be due to spatial distribution of different cell types.\n",
    "\n",
    "# Session info"
   ]
  },
  {
   "cell_type": "code",
   "execution_count": null,
<<<<<<< HEAD
<<<<<<< HEAD
<<<<<<< HEAD
<<<<<<< HEAD
<<<<<<< HEAD
   "id": "95144dcc",
||||||| 11b9cb7
   "id": "f4f3b108",
=======
   "id": "22ebe5d9",
>>>>>>> documentation-devel
||||||| 614e9b1
   "id": "22ebe5d9",
=======
   "id": "1a399094",
>>>>>>> documentation-devel
||||||| 856b4c0
<<<<<<< HEAD
   "id": "95144dcc",
||||||| 11b9cb7
   "id": "f4f3b108",
=======
   "id": "22ebe5d9",
>>>>>>> documentation-devel
=======
   "id": "7a6af6bc",
>>>>>>> 552590ea8fad969b67afdba27558a1e6cb21016e
||||||| 452c944
   "id": "1a399094",
=======
   "id": "f7bdeed2",
>>>>>>> documentation-devel
||||||| 4da3324
<<<<<<< HEAD
<<<<<<< HEAD
<<<<<<< HEAD
   "id": "95144dcc",
||||||| 11b9cb7
   "id": "f4f3b108",
=======
   "id": "22ebe5d9",
>>>>>>> documentation-devel
||||||| 614e9b1
   "id": "22ebe5d9",
=======
   "id": "1a399094",
>>>>>>> documentation-devel
||||||| 856b4c0
<<<<<<< HEAD
   "id": "95144dcc",
||||||| 11b9cb7
   "id": "f4f3b108",
=======
   "id": "22ebe5d9",
>>>>>>> documentation-devel
=======
   "id": "7a6af6bc",
>>>>>>> 552590ea8fad969b67afdba27558a1e6cb21016e
=======
   "id": "d872de41",
>>>>>>> b6e07d13baac92b2c1c9b43f8e4113ffa87bf495
   "metadata": {},
   "outputs": [],
   "source": [
    "sessionInfo()"
   ]
  },
  {
   "cell_type": "markdown",
<<<<<<< HEAD
<<<<<<< HEAD
<<<<<<< HEAD
<<<<<<< HEAD
<<<<<<< HEAD
   "id": "a7ca4409",
||||||| 11b9cb7
   "id": "5452107d",
=======
   "id": "87c62b97",
>>>>>>> documentation-devel
||||||| 614e9b1
   "id": "87c62b97",
=======
   "id": "cd3ec923",
>>>>>>> documentation-devel
||||||| 856b4c0
<<<<<<< HEAD
   "id": "a7ca4409",
||||||| 11b9cb7
   "id": "5452107d",
=======
   "id": "87c62b97",
>>>>>>> documentation-devel
=======
   "id": "28f405bc",
>>>>>>> 552590ea8fad969b67afdba27558a1e6cb21016e
||||||| 452c944
   "id": "cd3ec923",
=======
   "id": "0263d2e5",
>>>>>>> documentation-devel
||||||| 4da3324
<<<<<<< HEAD
<<<<<<< HEAD
<<<<<<< HEAD
   "id": "a7ca4409",
||||||| 11b9cb7
   "id": "5452107d",
=======
   "id": "87c62b97",
>>>>>>> documentation-devel
||||||| 614e9b1
   "id": "87c62b97",
=======
   "id": "cd3ec923",
>>>>>>> documentation-devel
||||||| 856b4c0
<<<<<<< HEAD
   "id": "a7ca4409",
||||||| 11b9cb7
   "id": "5452107d",
=======
   "id": "87c62b97",
>>>>>>> documentation-devel
=======
   "id": "28f405bc",
>>>>>>> 552590ea8fad969b67afdba27558a1e6cb21016e
=======
   "id": "29f66c0b",
>>>>>>> b6e07d13baac92b2c1c9b43f8e4113ffa87bf495
   "metadata": {},
   "source": [
    "# References"
   ]
  }
 ],
 "metadata": {
  "kernelspec": {
   "display_name": "R",
   "language": "R",
   "name": "ir"
  }
 },
 "nbformat": 4,
 "nbformat_minor": 5
}
