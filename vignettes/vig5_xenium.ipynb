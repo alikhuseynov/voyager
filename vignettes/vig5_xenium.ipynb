{
 "cells": [
  {
   "cell_type": "raw",
<<<<<<< HEAD
<<<<<<< HEAD
   "id": "735f4d38",
||||||| b944554d
   "id": "990f9d17",
=======
   "id": "50bfa97f",
>>>>>>> documentation-devel
||||||| 35cb6e7a
   "id": "50bfa97f",
=======
   "id": "9f56d292",
>>>>>>> documentation-devel
   "metadata": {},
   "source": [
    "---\n",
    "title: \"Xenium breast cancer dataset\"\n",
    "author: \"Lambda Moses\"\n",
    "date: \"`r Sys.Date()`\"\n",
    "output: \n",
    "  html_document:\n",
    "  toc: true\n",
    "  toc_float:\n",
    "    collapsed: false\n",
    "  toc_depth: 3\n",
    "bibliography: ref.bib\n",
    "vignette: >\n",
    "  %\\VignetteIndexEntry{xenium}\n",
    "  %\\VignetteEngine{knitr::rmarkdown}\n",
    "  %\\VignetteEncoding{UTF-8}\n",
    "---"
   ]
  },
  {
   "cell_type": "code",
   "execution_count": null,
<<<<<<< HEAD
<<<<<<< HEAD
   "id": "c1b04a2d",
||||||| b944554d
   "id": "58e2c86e",
=======
   "id": "5736ac8e",
>>>>>>> documentation-devel
||||||| 35cb6e7a
   "id": "5736ac8e",
=======
   "id": "bca6a142",
>>>>>>> documentation-devel
   "metadata": {
    "tags": [
     "remove_cell"
    ]
   },
   "outputs": [],
   "source": [
    "knitr::opts_chunk$set(\n",
    "  collapse = TRUE,\n",
    "  comment = \"#>\", fig.align = \"center\"\n",
    ")"
   ]
  },
  {
   "cell_type": "code",
   "execution_count": null,
<<<<<<< HEAD
<<<<<<< HEAD
   "id": "0d18a127",
||||||| b944554d
   "id": "66d8a65d",
=======
   "id": "f985614f",
>>>>>>> documentation-devel
||||||| 35cb6e7a
   "id": "f985614f",
=======
   "id": "8b5d641c",
>>>>>>> documentation-devel
   "metadata": {
    "eval": false,
    "tags": [
     "remove_cell"
    ]
   },
   "outputs": [],
   "source": [
    "# Install Google Colab dependencies\n",
    "# Note: this can take 30+ minutes (many of the dependencies include C++ code, which needs to be compiled)\n",
    "\n",
    "# First install `sf`, `ragg` and `textshaping` and their system dependencies:\n",
    "system(\"apt-get -y update && apt-get install -y  libudunits2-dev libgdal-dev libgeos-dev libproj-dev libharfbuzz-dev libfribidi-dev\")\n",
    "install.packages(\"sf\")\n",
    "install.packages(\"textshaping\")\n",
    "install.packages(\"ragg\")\n",
    "\n",
    "# Install system dependencies of some other R packages that Voyager either imports or suggests:\n",
    "system(\"apt-get install -y libfribidi-dev libcairo2-dev libmagick++-dev\")\n",
    "\n",
    "# Install Voyager from Bioconductor:\n",
    "install.packages(\"BiocManager\")\n",
    "BiocManager::install(version = \"3.17\", ask = FALSE, update = FALSE, Ncpus = 2)\n",
    "BiocManager::install(\"scater\")\n",
    "system.time(\n",
    "  BiocManager::install(\"Voyager\", dependencies = TRUE, Ncpus = 2, update = FALSE)\n",
    ")\n",
    "\n",
    "packageVersion(\"Voyager\")"
   ]
  },
  {
   "cell_type": "markdown",
<<<<<<< HEAD
<<<<<<< HEAD
   "id": "20e29914",
||||||| b944554d
   "id": "08c62853",
=======
   "id": "306d1d6a",
>>>>>>> documentation-devel
||||||| 35cb6e7a
   "id": "306d1d6a",
=======
   "id": "758de339",
>>>>>>> documentation-devel
   "metadata": {},
   "source": [
    "# Introduction\n",
    "\n",
    "Xenium is a new technology from 10X genomics for single cell resolution smFISH based spatial transcriptomics. The first Xenium dataset is for formalin fixed paraffin embedded (FFPE) human breast tumor, reported in [@Janesick2022-rp] and downloaded from the [10X website](https://www.10xgenomics.com/products/xenium-in-situ/preview-dataset-human-breast).\n",
    "\n",
    "The gene count matrix was downloaded as an HDF5 file and read into R as a `SingleCellExperiment` (SCE) object with `DropletUtils::read10xCounts()`. The gene count matrix is originally a `DelayedArray`, so the data is not all loaded into memory. For now, the matrix has been converted into an in memory `dgCMatrix`. However, for the next release, we would like to write another vignette on on disk analyses. The challenge is representing `sf` data frames on disk, perhaps with [`sedona`](https://github.com/apache/incubator-sedona) and [`SQLDataFrame`](https://bioconductor.org/packages/release/bioc/html/SQLDataFrame.html).\n",
    "\n",
    "The cell metadata (including centroid coordinates) and cell segmentation polygons were downloaded as `parquet` files, a more compact way to store columnar data than CSV, and read into R as data frames with read_parquet in the arrow package. The cell polygons were converted into `sf` data frame with `SpatialFeatureExperiment::df2sf()`. Then the SCE object was converted into `SpatialFeatureExperiment` (SFE) and the polygon geometry was added to the SFE object, which is in the `SFEData` package.\n",
    "\n",
    "Here we load the packages used in this vignette."
   ]
  },
  {
   "cell_type": "code",
   "execution_count": null,
<<<<<<< HEAD
<<<<<<< HEAD
   "id": "f31bd32b",
||||||| b944554d
   "id": "11a83695",
=======
   "id": "650b5c66",
>>>>>>> documentation-devel
||||||| 35cb6e7a
   "id": "650b5c66",
=======
   "id": "5585ecda",
>>>>>>> documentation-devel
   "metadata": {
    "message": false,
    "name": "setup"
   },
   "outputs": [],
   "source": [
    "library(Voyager)\n",
    "library(SFEData) \n",
    "library(SingleCellExperiment)\n",
    "library(SpatialExperiment)\n",
    "library(SpatialFeatureExperiment)\n",
    "library(ggplot2)\n",
    "library(stringr)\n",
    "library(scater) \n",
    "library(scuttle)\n",
    "library(BiocParallel)\n",
    "library(BiocSingular)\n",
    "library(bluster)\n",
    "library(scran)\n",
    "library(patchwork)\n",
    "theme_set(theme_bw())"
   ]
  },
  {
   "cell_type": "code",
   "execution_count": null,
<<<<<<< HEAD
<<<<<<< HEAD
   "id": "e2c3c3de",
||||||| b944554d
   "id": "1f1772af",
=======
   "id": "9c4cf13c",
>>>>>>> documentation-devel
||||||| 35cb6e7a
   "id": "9c4cf13c",
=======
   "id": "38f45d10",
>>>>>>> documentation-devel
   "metadata": {},
   "outputs": [],
   "source": [
    "(sfe <- JanesickBreastData(dataset = \"rep2\"))"
   ]
  },
  {
   "cell_type": "markdown",
<<<<<<< HEAD
<<<<<<< HEAD
   "id": "cf39e430",
||||||| b944554d
   "id": "450308ef",
=======
   "id": "e1defe1a",
>>>>>>> documentation-devel
||||||| 35cb6e7a
   "id": "e1defe1a",
=======
   "id": "e46fd0c7",
>>>>>>> documentation-devel
   "metadata": {
    "lines_to_next_cell": 0
   },
   "source": [
    "There are 118708 cells in this dataset, a little more than in the CosMX dataset.\n",
    "\n",
    "The SFE object doesn't have column names (i.e. cell IDs). Here we assign cell IDs."
   ]
  },
  {
   "cell_type": "code",
   "execution_count": null,
<<<<<<< HEAD
<<<<<<< HEAD
   "id": "fe864273",
||||||| b944554d
   "id": "0138c33d",
=======
   "id": "0194391e",
>>>>>>> documentation-devel
||||||| 35cb6e7a
   "id": "0194391e",
=======
   "id": "6fc3679c",
>>>>>>> documentation-devel
   "metadata": {},
   "outputs": [],
   "source": [
    "colnames(sfe) <- seq_len(ncol(sfe))"
   ]
  },
  {
   "cell_type": "markdown",
<<<<<<< HEAD
<<<<<<< HEAD
   "id": "70f122a9",
||||||| b944554d
   "id": "a53569fe",
=======
   "id": "ec965ab8",
>>>>>>> documentation-devel
||||||| 35cb6e7a
   "id": "ec965ab8",
=======
   "id": "be857596",
>>>>>>> documentation-devel
   "metadata": {},
   "source": [
    "This is what the tissue, with the cell outlines, looks like"
   ]
  },
  {
   "cell_type": "code",
   "execution_count": null,
<<<<<<< HEAD
<<<<<<< HEAD
   "id": "6789371d",
||||||| b944554d
   "id": "3a01d4ec",
=======
   "id": "c3e9c0cf",
>>>>>>> documentation-devel
||||||| 35cb6e7a
   "id": "c3e9c0cf",
=======
   "id": "63137b74",
>>>>>>> documentation-devel
   "metadata": {},
   "outputs": [],
   "source": [
    "plotGeometry(sfe, \"cellSeg\")"
   ]
  },
  {
   "cell_type": "markdown",
<<<<<<< HEAD
<<<<<<< HEAD
   "id": "74d98984",
||||||| b944554d
   "id": "8a5ea328",
=======
   "id": "91dafafd",
>>>>>>> documentation-devel
||||||| 35cb6e7a
   "id": "91dafafd",
=======
   "id": "ec3b162d",
>>>>>>> documentation-devel
   "metadata": {
    "lines_to_next_cell": 0
   },
   "source": [
    "Plot cell density in space"
   ]
  },
  {
   "cell_type": "code",
   "execution_count": null,
<<<<<<< HEAD
<<<<<<< HEAD
   "id": "dcc06d2f",
||||||| b944554d
   "id": "afe7eff6",
=======
   "id": "d77a0f1f",
>>>>>>> documentation-devel
||||||| 35cb6e7a
   "id": "d77a0f1f",
=======
   "id": "716df952",
>>>>>>> documentation-devel
   "metadata": {},
   "outputs": [],
   "source": [
    "plotCellBin2D(sfe, hex = TRUE)"
   ]
  },
  {
   "cell_type": "markdown",
<<<<<<< HEAD
<<<<<<< HEAD
   "id": "007f07bf",
||||||| b944554d
   "id": "1e8e28d9",
=======
   "id": "53291b07",
>>>>>>> documentation-devel
||||||| 35cb6e7a
   "id": "53291b07",
=======
   "id": "3eb7015d",
>>>>>>> documentation-devel
   "metadata": {},
   "source": [
    "# Quality control\n",
    "## Cells\n",
    "Some QC metrics are precomputed and are stored in `colData`"
   ]
  },
  {
   "cell_type": "code",
   "execution_count": null,
<<<<<<< HEAD
<<<<<<< HEAD
   "id": "8faaefa5",
||||||| b944554d
   "id": "740b8f1f",
=======
   "id": "504c6ca8",
>>>>>>> documentation-devel
||||||| 35cb6e7a
   "id": "504c6ca8",
=======
   "id": "f0d40eda",
>>>>>>> documentation-devel
   "metadata": {},
   "outputs": [],
   "source": [
    "names(colData(sfe))"
   ]
  },
  {
   "cell_type": "markdown",
<<<<<<< HEAD
<<<<<<< HEAD
   "id": "a5725b72",
||||||| b944554d
   "id": "934ab7e6",
=======
   "id": "5f6ff734",
>>>>>>> documentation-devel
||||||| 35cb6e7a
   "id": "5f6ff734",
=======
   "id": "33cb2e67",
>>>>>>> documentation-devel
   "metadata": {},
   "source": [
    "Since there're more cells, it would be better to plot the tissue larger, so we'll plot the histogram of QC metrics and the spatial plots separately, unlike in the CosMx vignette."
   ]
  },
  {
   "cell_type": "code",
   "execution_count": null,
<<<<<<< HEAD
<<<<<<< HEAD
   "id": "4c39b36e",
||||||| b944554d
   "id": "1fb0e64c",
=======
   "id": "d79c2ef0",
>>>>>>> documentation-devel
||||||| 35cb6e7a
   "id": "d79c2ef0",
=======
   "id": "36f7f41d",
>>>>>>> documentation-devel
   "metadata": {},
   "outputs": [],
   "source": [
    "n_panel <- 313\n",
    "colData(sfe)$nCounts_normed <- sfe$nCounts/n_panel\n",
    "colData(sfe)$nGenes_normed <- sfe$nGenes/n_panel"
   ]
  },
  {
   "cell_type": "markdown",
<<<<<<< HEAD
<<<<<<< HEAD
   "id": "9b205c8b",
||||||| b944554d
   "id": "57d6eaa3",
=======
   "id": "270111f7",
>>>>>>> documentation-devel
||||||| 35cb6e7a
   "id": "270111f7",
=======
   "id": "56266b55",
>>>>>>> documentation-devel
   "metadata": {},
   "source": [
    "Here we divided nCounts by the total number of genes probed, so this histogram is comparable to those from other smFISH-based datasets. "
   ]
  },
  {
   "cell_type": "code",
   "execution_count": null,
<<<<<<< HEAD
<<<<<<< HEAD
   "id": "36a06d92",
||||||| b944554d
   "id": "90a4a4a3",
=======
   "id": "bc643c77",
>>>>>>> documentation-devel
||||||| 35cb6e7a
   "id": "bc643c77",
=======
   "id": "99f4fdb0",
>>>>>>> documentation-devel
   "metadata": {},
   "outputs": [],
   "source": [
    "plotColDataHistogram(sfe, c(\"nCounts_normed\", \"nGenes_normed\"))"
   ]
  },
  {
   "cell_type": "markdown",
<<<<<<< HEAD
<<<<<<< HEAD
   "id": "384f7e9d",
||||||| b944554d
   "id": "176ce502",
=======
   "id": "e0fa342b",
>>>>>>> documentation-devel
||||||| 35cb6e7a
   "id": "e0fa342b",
=======
   "id": "064fd65e",
>>>>>>> documentation-devel
   "metadata": {},
   "source": [
    "Compared to the [FFPE CosMX non-small cell lung cancer dataset](https://pachterlab.github.io/voyager/articles/vig4_cosmx.html#cells), more transcripts per gene on average and a larger proportion of all genes are detected in this dataset, which is also FFPE. However, this should be interpreted with care, since these two datasets are from different tissues and have different gene panels, so this may or may not indicate that Xenium has better detection efficiency than CosMX."
   ]
  },
  {
   "cell_type": "code",
   "execution_count": null,
<<<<<<< HEAD
<<<<<<< HEAD
   "id": "106005b8",
||||||| b944554d
   "id": "10c1ca25",
=======
   "id": "6d1438c8",
>>>>>>> documentation-devel
||||||| 35cb6e7a
   "id": "6d1438c8",
=======
   "id": "8498381e",
>>>>>>> documentation-devel
   "metadata": {},
   "outputs": [],
   "source": [
    "plotSpatialFeature(sfe, \"nCounts\", colGeometryName = \"cellSeg\")"
   ]
  },
  {
   "cell_type": "markdown",
<<<<<<< HEAD
<<<<<<< HEAD
   "id": "0365639c",
||||||| b944554d
   "id": "23fb1833",
=======
   "id": "e60d591c",
>>>>>>> documentation-devel
||||||| 35cb6e7a
   "id": "e60d591c",
=======
   "id": "1944c4d0",
>>>>>>> documentation-devel
   "metadata": {},
   "source": [
    "There seem to be FOV artifacts. However, the cell ID and FOV information were unavailable so we cannot examine them. "
   ]
  },
  {
   "cell_type": "code",
   "execution_count": null,
<<<<<<< HEAD
<<<<<<< HEAD
   "id": "6408063a",
||||||| b944554d
   "id": "e77c904f",
=======
   "id": "c964f0d0",
>>>>>>> documentation-devel
||||||| 35cb6e7a
   "id": "c964f0d0",
=======
   "id": "9a89ae61",
>>>>>>> documentation-devel
   "metadata": {},
   "outputs": [],
   "source": [
    "plotSpatialFeature(sfe, \"nGenes\", colGeometryName = \"cellSeg\")"
   ]
  },
  {
   "cell_type": "markdown",
<<<<<<< HEAD
<<<<<<< HEAD
   "id": "58f4c68b",
||||||| b944554d
   "id": "d45109c5",
=======
   "id": "4d397fff",
>>>>>>> documentation-devel
||||||| 35cb6e7a
   "id": "4d397fff",
=======
   "id": "6bda4fb9",
>>>>>>> documentation-devel
   "metadata": {
    "lines_to_next_cell": 0
   },
   "source": [
    "A standard examination is to look at the relationship between nCounts and nGenes:"
   ]
  },
  {
   "cell_type": "code",
   "execution_count": null,
<<<<<<< HEAD
<<<<<<< HEAD
   "id": "001f3a52",
||||||| b944554d
   "id": "e1ffb6f4",
=======
   "id": "7c34a4e7",
>>>>>>> documentation-devel
||||||| 35cb6e7a
   "id": "7c34a4e7",
=======
   "id": "89b57ead",
>>>>>>> documentation-devel
   "metadata": {},
   "outputs": [],
   "source": [
    "plotColData(sfe, x=\"nCounts\", y=\"nGenes\", bins = 100)"
   ]
  },
  {
   "cell_type": "markdown",
<<<<<<< HEAD
<<<<<<< HEAD
   "id": "cc9972ea",
||||||| b944554d
   "id": "0f95ae31",
=======
   "id": "d67c4a7f",
>>>>>>> documentation-devel
||||||| 35cb6e7a
   "id": "d67c4a7f",
=======
   "id": "54b575ea",
>>>>>>> documentation-devel
   "metadata": {
    "lines_to_next_cell": 0
   },
   "source": [
    "There appear to be two branches. \n",
    "\n",
    "Here we plot the distribution of cell area"
   ]
  },
  {
   "cell_type": "code",
   "execution_count": null,
<<<<<<< HEAD
<<<<<<< HEAD
   "id": "cdf7b2de",
||||||| b944554d
   "id": "19af6d75",
=======
   "id": "b7c8fab1",
>>>>>>> documentation-devel
||||||| 35cb6e7a
   "id": "b7c8fab1",
=======
   "id": "d875f5f1",
>>>>>>> documentation-devel
   "metadata": {},
   "outputs": [],
   "source": [
    "plotColDataHistogram(sfe, c(\"cell_area\", \"nucleus_area\"), scales = \"free_y\")"
   ]
  },
  {
   "cell_type": "markdown",
<<<<<<< HEAD
<<<<<<< HEAD
   "id": "4971a225",
||||||| b944554d
   "id": "fe56b171",
=======
   "id": "b97b985b",
>>>>>>> documentation-devel
||||||| 35cb6e7a
   "id": "b97b985b",
=======
   "id": "2675887a",
>>>>>>> documentation-devel
   "metadata": {
    "lines_to_next_cell": 0
   },
   "source": [
    "That should be in pixels. There's a very long tail. The nuclei are much smaller than the cells.\n",
    "\n",
    "How is cell area distributed in space?"
   ]
  },
  {
   "cell_type": "code",
   "execution_count": null,
<<<<<<< HEAD
<<<<<<< HEAD
   "id": "59782931",
||||||| b944554d
   "id": "6cb1c0a5",
=======
   "id": "9d502145",
>>>>>>> documentation-devel
||||||| 35cb6e7a
   "id": "9d502145",
=======
   "id": "6852b478",
>>>>>>> documentation-devel
   "metadata": {},
   "outputs": [],
   "source": [
    "plotSpatialFeature(sfe, \"cell_area\", colGeometryName = \"cellSeg\")"
   ]
  },
  {
   "cell_type": "markdown",
<<<<<<< HEAD
<<<<<<< HEAD
   "id": "4dfa5bfb",
||||||| b944554d
   "id": "24cc7357",
=======
   "id": "b11a2517",
>>>>>>> documentation-devel
||||||| 35cb6e7a
   "id": "b11a2517",
=======
   "id": "2b4757c6",
>>>>>>> documentation-devel
   "metadata": {
    "lines_to_next_cell": 0
   },
   "source": [
    "Cells in the sparse region tend to be larger than those in the dense region. This may be biological or an artifact of the cell segmentation algorithm or both.\n",
    "\n",
    "Here the nuclei segmentations are plotted instead of cell segmentation. The nuclei are much smaller to the extent that they are difficult to see."
   ]
  },
  {
   "cell_type": "code",
   "execution_count": null,
<<<<<<< HEAD
<<<<<<< HEAD
   "id": "d122be63",
||||||| b944554d
   "id": "6f8dd6fa",
=======
   "id": "58f508ec",
>>>>>>> documentation-devel
||||||| 35cb6e7a
   "id": "58f508ec",
=======
   "id": "88f70729",
>>>>>>> documentation-devel
   "metadata": {},
   "outputs": [],
   "source": [
    "plotSpatialFeature(sfe, \"nucleus_area\", colGeometryName = \"nucSeg\")"
   ]
  },
  {
   "cell_type": "markdown",
<<<<<<< HEAD
<<<<<<< HEAD
   "id": "ab9700dd",
||||||| b944554d
   "id": "196a9313",
=======
   "id": "882d77a9",
>>>>>>> documentation-devel
||||||| 35cb6e7a
   "id": "882d77a9",
=======
   "id": "7243b248",
>>>>>>> documentation-devel
   "metadata": {
    "lines_to_next_cell": 0
   },
   "source": [
    "There's an outlier near the right edge of the section, throwing off the dynamic range of the plot. Upon inspection of the H&E image, the outlier is a bit of tissue debris that doesn't look like a cell. But we can still that cells in the dense, gland like regions tend to have larger nuclei. This may be biological, or that nuclei are so densely packed in those regions that they are more likely to be undersegmented, i.e. when multiple nuclei are counted as one by the nuclei segmentation program, or both.\n",
    "\n",
    "These observations motivate an examination of the relationship between cell area and nuclei area:"
   ]
  },
  {
   "cell_type": "code",
   "execution_count": null,
<<<<<<< HEAD
<<<<<<< HEAD
   "id": "36d80ade",
||||||| b944554d
   "id": "67b87cfc",
=======
   "id": "e4d9a4e7",
>>>>>>> documentation-devel
||||||| 35cb6e7a
   "id": "e4d9a4e7",
=======
   "id": "3df942f9",
>>>>>>> documentation-devel
   "metadata": {},
   "outputs": [],
   "source": [
    "plotColData(sfe, x=\"cell_area\", y=\"nucleus_area\", bins = 100)"
   ]
  },
  {
   "cell_type": "markdown",
<<<<<<< HEAD
<<<<<<< HEAD
   "id": "ad5fe24c",
||||||| b944554d
   "id": "d83a0676",
=======
   "id": "4cd34ef6",
>>>>>>> documentation-devel
||||||| 35cb6e7a
   "id": "4cd34ef6",
=======
   "id": "7e75a96d",
>>>>>>> documentation-devel
   "metadata": {},
   "source": [
    "Again, there are two branches, probably related to cell density and cell type. The nucleus outlier also has large cell area, though it is not as much an outlier in cell area. However, it is a spatial outlier as it's unusually large compared to its neighbors (scroll up two plots back). \n",
    "\n",
    "Next we calculate the proportion of cell in this z-plane taken up by the nucleus, and examine the distribution:"
   ]
  },
  {
   "cell_type": "code",
   "execution_count": null,
<<<<<<< HEAD
<<<<<<< HEAD
   "id": "ffec655a",
||||||| b944554d
   "id": "9a7c8c1a",
=======
   "id": "c7dc06ab",
>>>>>>> documentation-devel
||||||| 35cb6e7a
   "id": "c7dc06ab",
=======
   "id": "420cb5d3",
>>>>>>> documentation-devel
   "metadata": {},
   "outputs": [],
   "source": [
    "colData(sfe)$prop_nuc <- sfe$nucleus_area / sfe$cell_area"
   ]
  },
  {
   "cell_type": "code",
   "execution_count": null,
<<<<<<< HEAD
<<<<<<< HEAD
   "id": "0b37fd7a",
||||||| b944554d
   "id": "514a0ab1",
=======
   "id": "d2e6d816",
>>>>>>> documentation-devel
||||||| 35cb6e7a
   "id": "d2e6d816",
=======
   "id": "4957cd74",
>>>>>>> documentation-devel
   "metadata": {},
   "outputs": [],
   "source": [
    "plotColDataHistogram(sfe, \"prop_nuc\")"
   ]
  },
  {
   "cell_type": "markdown",
<<<<<<< HEAD
<<<<<<< HEAD
   "id": "3f30a095",
||||||| b944554d
   "id": "38e45fc2",
=======
   "id": "d7f01836",
>>>>>>> documentation-devel
||||||| 35cb6e7a
   "id": "d7f01836",
=======
   "id": "907325c0",
>>>>>>> documentation-devel
   "metadata": {
    "lines_to_next_cell": 0
   },
   "source": [
    "This distribution could have been generated from two peaks that were combined. From the histogram, there do not seem to be cells without nuclei or segmentation artifacts where the nucleus is larger than the cell. However, there are so many cells in this dataset and it is possible that just a few cells would not be visible on this histogram. We double check:"
   ]
  },
  {
   "cell_type": "code",
   "execution_count": null,
<<<<<<< HEAD
<<<<<<< HEAD
   "id": "cc51b049",
||||||| b944554d
   "id": "eae8c4c5",
=======
   "id": "cf4f4dac",
>>>>>>> documentation-devel
||||||| 35cb6e7a
   "id": "cf4f4dac",
=======
   "id": "aa4e781a",
>>>>>>> documentation-devel
   "metadata": {},
   "outputs": [],
   "source": [
    "# No nucleus\n",
    "sum(sfe$nucleus_area < 1)\n",
    "# Nucleus larger than cell\n",
    "sum(sfe$nucleus_area > sfe$cell_area)"
   ]
  },
  {
   "cell_type": "markdown",
<<<<<<< HEAD
<<<<<<< HEAD
   "id": "98e19f58",
||||||| b944554d
   "id": "ffabf1a6",
=======
   "id": "43d4650a",
>>>>>>> documentation-devel
||||||| 35cb6e7a
   "id": "43d4650a",
=======
   "id": "3affd15a",
>>>>>>> documentation-devel
   "metadata": {
    "lines_to_next_cell": 0
   },
   "source": [
    "So there are no cells without nuclei or nuclei larger than their cells. Here we plot the nuclei proportion in space:"
   ]
  },
  {
   "cell_type": "code",
   "execution_count": null,
<<<<<<< HEAD
<<<<<<< HEAD
   "id": "2d05ba5c",
||||||| b944554d
   "id": "6bdbc5ae",
=======
   "id": "a854be87",
>>>>>>> documentation-devel
||||||| 35cb6e7a
   "id": "a854be87",
=======
   "id": "69869045",
>>>>>>> documentation-devel
   "metadata": {},
   "outputs": [],
   "source": [
    "plotSpatialFeature(sfe, \"prop_nuc\", colGeometryName = \"cellSeg\")"
   ]
  },
  {
   "cell_type": "markdown",
<<<<<<< HEAD
<<<<<<< HEAD
   "id": "1a8f56b9",
||||||| b944554d
   "id": "e30b9415",
=======
   "id": "8f900f27",
>>>>>>> documentation-devel
||||||| 35cb6e7a
   "id": "8f900f27",
=======
   "id": "54fcdaa6",
>>>>>>> documentation-devel
   "metadata": {
    "lines_to_next_cell": 0
   },
   "source": [
    "Cells in some histological regions have larger proportions occupied by the nuclei. It is interesting to check, controlling for cell type, how cell area, nucleus area, and the proportion of cell occupied by nucleus relate to gene expression. However, a problem in performing such an analysis is that cell segmentation is only available for one z-plane here and these areas also relate to where this z-plane intersects each cell. \n",
    "\n",
    "Below we plot a 2D histogram to better show the density of points on this plot:"
   ]
  },
  {
   "cell_type": "code",
   "execution_count": null,
<<<<<<< HEAD
<<<<<<< HEAD
   "id": "c767014a",
||||||| b944554d
   "id": "18667f4a",
=======
   "id": "4c2c7e95",
>>>>>>> documentation-devel
||||||| 35cb6e7a
   "id": "4c2c7e95",
=======
   "id": "b1414969",
>>>>>>> documentation-devel
   "metadata": {},
   "outputs": [],
   "source": [
    "plotColData(sfe, x=\"cell_area\", y=\"prop_nuc\")"
   ]
  },
  {
   "cell_type": "markdown",
<<<<<<< HEAD
<<<<<<< HEAD
   "id": "b86aeb07",
||||||| b944554d
   "id": "bce2fe10",
=======
   "id": "7fe53675",
>>>>>>> documentation-devel
||||||| 35cb6e7a
   "id": "7fe53675",
=======
   "id": "cc207521",
>>>>>>> documentation-devel
   "metadata": {
    "lines_to_next_cell": 0
   },
   "source": [
    "Smaller cells tend to have higher proportion occupied by the nucleus. This can be related to cell type, or it could be a limitation in how small the nuclei can be in this tissue.\n",
    "\n",
    "We also examine the relationship between nucleus area and the proportion of cell occupied by the nucleus:"
   ]
  },
  {
   "cell_type": "code",
   "execution_count": null,
<<<<<<< HEAD
<<<<<<< HEAD
   "id": "f513087a",
||||||| b944554d
   "id": "321af9a1",
=======
   "id": "dd736c54",
>>>>>>> documentation-devel
||||||| 35cb6e7a
   "id": "dd736c54",
=======
   "id": "5361279f",
>>>>>>> documentation-devel
   "metadata": {},
   "outputs": [],
   "source": [
    "plotColData(sfe, x=\"nucleus_area\", y=\"prop_nuc\", bins = 100)"
   ]
  },
  {
   "cell_type": "markdown",
<<<<<<< HEAD
<<<<<<< HEAD
   "id": "76b7590b",
||||||| b944554d
   "id": "a9182de3",
=======
   "id": "43fe4abb",
>>>>>>> documentation-devel
||||||| 35cb6e7a
   "id": "43fe4abb",
=======
   "id": "9db99bfb",
>>>>>>> documentation-devel
   "metadata": {
    "lines_to_next_cell": 0
   },
   "source": [
    "The outlier is obvious. There are more cells with both small nuclei and low proportion of area occupied by the nucleus.\n",
    "\n",
    "## Negative controls\n",
    "Since there are only a few hundred genes plus negative control probes, all row names of the SFE object can be printed out to find what the negative control probes are called."
   ]
  },
  {
   "cell_type": "code",
   "execution_count": null,
<<<<<<< HEAD
<<<<<<< HEAD
   "id": "eca83063",
||||||| b944554d
   "id": "dcdfb32b",
=======
   "id": "20005b13",
>>>>>>> documentation-devel
||||||| 35cb6e7a
   "id": "20005b13",
=======
   "id": "82b54682",
>>>>>>> documentation-devel
   "metadata": {},
   "outputs": [],
   "source": [
    "rownames(sfe)"
   ]
  },
  {
   "cell_type": "markdown",
<<<<<<< HEAD
<<<<<<< HEAD
   "id": "d103e41c",
||||||| b944554d
   "id": "3adbf17a",
=======
   "id": "91cbf221",
>>>>>>> documentation-devel
||||||| 35cb6e7a
   "id": "91cbf221",
=======
   "id": "bc330450",
>>>>>>> documentation-devel
   "metadata": {},
   "source": [
    "According to the Xenium paper [@Janesick2022-rp], there are 3 types of controls:\n",
    "\n",
    "> 1) probe controls to assess non-specific binding to RNA, \n",
    "2) decoding controls to assess misassigned genes, and \n",
    "3) genomic DNA (gDNA) controls to ensure the signal is from RNA.\n",
    "\n",
    "The paper does not explain in detail how those control probes were designed, nor explain what the blank probes are. But the blank probes can be used as a negative control."
   ]
  },
  {
   "cell_type": "code",
   "execution_count": null,
<<<<<<< HEAD
<<<<<<< HEAD
   "id": "155913ac",
||||||| b944554d
   "id": "6e8974b5",
=======
   "id": "55ab5dc7",
>>>>>>> documentation-devel
||||||| 35cb6e7a
   "id": "55ab5dc7",
=======
   "id": "1e547d9f",
>>>>>>> documentation-devel
   "metadata": {},
   "outputs": [],
   "source": [
    "is_blank <- str_detect(rownames(sfe), \"^BLANK_\")\n",
    "sum(is_blank)"
   ]
  },
  {
   "cell_type": "markdown",
<<<<<<< HEAD
<<<<<<< HEAD
   "id": "e90761c9",
||||||| b944554d
   "id": "a62b8f8d",
=======
   "id": "fddca5dc",
>>>>>>> documentation-devel
||||||| 35cb6e7a
   "id": "fddca5dc",
=======
   "id": "373c8f9f",
>>>>>>> documentation-devel
   "metadata": {
    "lines_to_next_cell": 0
   },
   "source": [
    "This should be number 1, the probe control"
   ]
  },
  {
   "cell_type": "code",
   "execution_count": null,
<<<<<<< HEAD
<<<<<<< HEAD
   "id": "ffbc52c4",
||||||| b944554d
   "id": "5dee3909",
=======
   "id": "f48bd2b1",
>>>>>>> documentation-devel
||||||| 35cb6e7a
   "id": "f48bd2b1",
=======
   "id": "44c216e0",
>>>>>>> documentation-devel
   "metadata": {},
   "outputs": [],
   "source": [
    "is_neg <- str_detect(rownames(sfe), \"^NegControlProbe\")\n",
    "sum(is_neg)"
   ]
  },
  {
   "cell_type": "markdown",
<<<<<<< HEAD
<<<<<<< HEAD
   "id": "1fddcf0b",
||||||| b944554d
   "id": "d8bd4ca8",
=======
   "id": "f4442f6b",
>>>>>>> documentation-devel
||||||| 35cb6e7a
   "id": "f4442f6b",
=======
   "id": "5a0009f9",
>>>>>>> documentation-devel
   "metadata": {
    "lines_to_next_cell": 0
   },
   "source": [
    "This should be number 2, the decoding control"
   ]
  },
  {
   "cell_type": "code",
   "execution_count": null,
<<<<<<< HEAD
<<<<<<< HEAD
   "id": "05ae8309",
||||||| b944554d
   "id": "265dee54",
=======
   "id": "3f9b83c7",
>>>>>>> documentation-devel
||||||| 35cb6e7a
   "id": "3f9b83c7",
=======
   "id": "756dbefe",
>>>>>>> documentation-devel
   "metadata": {},
   "outputs": [],
   "source": [
    "is_neg2 <- str_detect(rownames(sfe), \"^NegControlCodeword\")\n",
    "sum(is_neg2)"
   ]
  },
  {
   "cell_type": "markdown",
<<<<<<< HEAD
<<<<<<< HEAD
   "id": "9acdfef8",
||||||| b944554d
   "id": "22d5fff8",
=======
   "id": "c6054ab3",
>>>>>>> documentation-devel
||||||| 35cb6e7a
   "id": "c6054ab3",
=======
   "id": "cc1cd698",
>>>>>>> documentation-devel
   "metadata": {
    "lines_to_next_cell": 0
   },
   "source": [
    "This must be number 3, gDNA control"
   ]
  },
  {
   "cell_type": "code",
   "execution_count": null,
<<<<<<< HEAD
<<<<<<< HEAD
   "id": "3aa060b0",
||||||| b944554d
   "id": "2d4c9dbb",
=======
   "id": "7de9bfd1",
>>>>>>> documentation-devel
||||||| 35cb6e7a
   "id": "7de9bfd1",
=======
   "id": "fa1a0ec3",
>>>>>>> documentation-devel
   "metadata": {},
   "outputs": [],
   "source": [
    "is_anti <- str_detect(rownames(sfe), \"^antisense\")\n",
    "sum(is_anti)"
   ]
  },
  {
   "cell_type": "markdown",
<<<<<<< HEAD
<<<<<<< HEAD
   "id": "3f0e3da0",
||||||| b944554d
   "id": "1942b00c",
=======
   "id": "4f3262a5",
>>>>>>> documentation-devel
||||||| 35cb6e7a
   "id": "4f3262a5",
=======
   "id": "e32e8c60",
>>>>>>> documentation-devel
   "metadata": {
    "lines_to_next_cell": 0
   },
   "source": [
    "Also make an indicator of whether a feature is any sort of negative control"
   ]
  },
  {
   "cell_type": "code",
   "execution_count": null,
<<<<<<< HEAD
<<<<<<< HEAD
   "id": "1006bf53",
||||||| b944554d
   "id": "980718c4",
=======
   "id": "b5b2d0d6",
>>>>>>> documentation-devel
||||||| 35cb6e7a
   "id": "b5b2d0d6",
=======
   "id": "e333b173",
>>>>>>> documentation-devel
   "metadata": {},
   "outputs": [],
   "source": [
    "is_any_neg <- is_blank | is_neg | is_neg2 | is_anti"
   ]
  },
  {
   "cell_type": "markdown",
<<<<<<< HEAD
<<<<<<< HEAD
   "id": "865bec72",
||||||| b944554d
   "id": "8055fbd0",
=======
   "id": "a7aea793",
>>>>>>> documentation-devel
||||||| 35cb6e7a
   "id": "a7aea793",
=======
   "id": "e79e943c",
>>>>>>> documentation-devel
   "metadata": {
    "lines_to_next_cell": 0
   },
   "source": [
    "The `addPerCellQCMetrics()` function in the `scuttle` package can conveniently add transcript counts, proportion of total counts, and number of features detected for any subset of features to the SCE object. Here we do this for the SFE object, as SFE inherits from SCE. "
   ]
  },
  {
   "cell_type": "code",
   "execution_count": null,
<<<<<<< HEAD
<<<<<<< HEAD
   "id": "6bda588b",
||||||| b944554d
   "id": "fa86a8ce",
=======
   "id": "65ed524e",
>>>>>>> documentation-devel
||||||| 35cb6e7a
   "id": "65ed524e",
=======
   "id": "134c2f93",
>>>>>>> documentation-devel
   "metadata": {},
   "outputs": [],
   "source": [
    "sfe <- addPerCellQCMetrics(sfe, subsets = list(blank = is_blank,\n",
    "                                               negProbe = is_neg,\n",
    "                                               negCodeword = is_neg2,\n",
    "                                               anti = is_anti,\n",
    "                                               any_neg = is_any_neg))"
   ]
  },
  {
   "cell_type": "code",
   "execution_count": null,
<<<<<<< HEAD
<<<<<<< HEAD
   "id": "fca2aa64",
||||||| b944554d
   "id": "32aeadf4",
=======
   "id": "a2573127",
>>>>>>> documentation-devel
||||||| 35cb6e7a
   "id": "a2573127",
=======
   "id": "8454a2e8",
>>>>>>> documentation-devel
   "metadata": {},
   "outputs": [],
   "source": [
    "names(colData(sfe))"
   ]
  },
  {
   "cell_type": "markdown",
<<<<<<< HEAD
<<<<<<< HEAD
   "id": "9abe0c0f",
||||||| b944554d
   "id": "e4167adb",
=======
   "id": "abec13ce",
>>>>>>> documentation-devel
||||||| 35cb6e7a
   "id": "abec13ce",
=======
   "id": "3ac1d534",
>>>>>>> documentation-devel
   "metadata": {},
   "source": [
    "Next we plot the proportion of transcript counts coming from any negative control. "
   ]
  },
  {
   "cell_type": "code",
   "execution_count": null,
<<<<<<< HEAD
<<<<<<< HEAD
   "id": "6e04470d",
||||||| b944554d
   "id": "029394ea",
=======
   "id": "e4e96625",
>>>>>>> documentation-devel
||||||| 35cb6e7a
   "id": "e4e96625",
=======
   "id": "48010f91",
>>>>>>> documentation-devel
   "metadata": {},
   "outputs": [],
   "source": [
    "cols_use <- names(colData(sfe))[str_detect(names(colData(sfe)), \"_percent$\")]\n",
    "plotColDataHistogram(sfe, cols_use, bins = 100, ncol = 3)"
   ]
  },
  {
   "cell_type": "markdown",
<<<<<<< HEAD
<<<<<<< HEAD
   "id": "23e4d40a",
||||||| b944554d
   "id": "c7920486",
=======
   "id": "1bae2630",
>>>>>>> documentation-devel
||||||| 35cb6e7a
   "id": "1bae2630",
=======
   "id": "cfae34dd",
>>>>>>> documentation-devel
   "metadata": {
    "lines_to_next_cell": 0
   },
   "source": [
    "The histogram is dominated by the bin at zero and there are some extreme outliers too few to be seen but evident from the scale of the x axis. We also plot the histogram only for cells with at least 1 count from a negative control. The NA's come from cells that got segmented but have no transcripts detected."
   ]
  },
  {
   "cell_type": "code",
   "execution_count": null,
<<<<<<< HEAD
<<<<<<< HEAD
   "id": "44717083",
||||||| b944554d
   "id": "5614f786",
=======
   "id": "62e2be1a",
>>>>>>> documentation-devel
||||||| 35cb6e7a
   "id": "62e2be1a",
=======
   "id": "1b216150",
>>>>>>> documentation-devel
   "metadata": {},
   "outputs": [],
   "source": [
    "plotColDataHistogram(sfe, cols_use, bins = 100, ncol = 3) + \n",
    "    scale_x_log10() +\n",
    "    annotation_logticks(sides = \"b\")"
   ]
  },
  {
   "cell_type": "markdown",
<<<<<<< HEAD
<<<<<<< HEAD
   "id": "af69e250",
||||||| b944554d
   "id": "5b796d2d",
=======
   "id": "9ec2b217",
>>>>>>> documentation-devel
||||||| 35cb6e7a
   "id": "9ec2b217",
=======
   "id": "e774edf1",
>>>>>>> documentation-devel
   "metadata": {
    "lines_to_next_cell": 0
   },
   "source": [
    "The vast majority of these cells have less than 1% of transcript counts from negative controls, but there are outliers with up to 50%. \n",
    "\n",
    "Next we plot the distribution of the number of negative control counts per cell:"
   ]
  },
  {
   "cell_type": "code",
   "execution_count": null,
<<<<<<< HEAD
<<<<<<< HEAD
   "id": "a7835f34",
||||||| b944554d
   "id": "c91c65db",
=======
   "id": "0dbde89e",
>>>>>>> documentation-devel
||||||| 35cb6e7a
   "id": "0dbde89e",
=======
   "id": "cb6581de",
>>>>>>> documentation-devel
   "metadata": {},
   "outputs": [],
   "source": [
    "cols_use2 <- names(colData(sfe))[str_detect(names(colData(sfe)), \"_detected$\")]\n",
    "plotColDataHistogram(sfe, cols_use2, bins = 20, ncol = 3) +\n",
    "    # Avoid decimal breaks on x axis unless there're too few breaks\n",
    "    scale_x_continuous(breaks = scales::breaks_extended(Q = c(1,2,5)))"
   ]
  },
  {
   "cell_type": "markdown",
<<<<<<< HEAD
<<<<<<< HEAD
   "id": "f99d6298",
||||||| b944554d
   "id": "b8dec70a",
=======
   "id": "72b4bdbf",
>>>>>>> documentation-devel
||||||| 35cb6e7a
   "id": "72b4bdbf",
=======
   "id": "f2cd4fc3",
>>>>>>> documentation-devel
   "metadata": {},
   "source": [
    "The counts are low, mostly zero, but there are outliers with up to 10 counts of all types aggregated. Then the outlier with 50% of counts from negative controls must have very low total real transcript counts to begin with.\n",
    "\n",
    "The `scuttle` package can detect outliers, but by default it assigns anything above zero as an outlier, since that is over 3 median absolute deviations (MADs) away from the median, which is 0, and the MAD is 0 since the vast majority of cells don't have any negative control count. But it makes sense to allow a small proportion of negative controls. Here we use the distribution just for cells with at least 1 negative control count to find outliers. This distribution has a very long tail and some definite outliers.\n",
    "\n",
    "The code below extracts the outliers, based only on cells with at least one negative control count"
   ]
  },
  {
   "cell_type": "code",
   "execution_count": null,
<<<<<<< HEAD
<<<<<<< HEAD
   "id": "b5b5006f",
||||||| b944554d
   "id": "a0b00c5e",
=======
   "id": "4085d2ff",
>>>>>>> documentation-devel
||||||| 35cb6e7a
   "id": "4085d2ff",
=======
   "id": "eb848fcb",
>>>>>>> documentation-devel
   "metadata": {},
   "outputs": [],
   "source": [
    "get_neg_ctrl_outliers <- function(col, sfe) {\n",
    "    inds <- colData(sfe)$nCounts > 0 & colData(sfe)[[col]] > 0\n",
    "    df <- colData(sfe)[inds,]\n",
    "    outlier_inds <- isOutlier(df[[col]], type = \"higher\")\n",
    "    outliers <- rownames(df)[outlier_inds]\n",
    "    col2 <- str_remove(col, \"^subsets_\")\n",
    "    col2 <- str_remove(col2, \"_percent$\")\n",
    "    new_colname <- paste(\"is\", col2, \"outlier\", sep = \"_\")\n",
    "    colData(sfe)[[new_colname]] <- colnames(sfe) %in% outliers\n",
    "    sfe\n",
    "}"
   ]
  },
  {
   "cell_type": "code",
   "execution_count": null,
<<<<<<< HEAD
<<<<<<< HEAD
   "id": "5bc39cdf",
||||||| b944554d
   "id": "49f24cf8",
=======
   "id": "58d9bdcd",
>>>>>>> documentation-devel
||||||| 35cb6e7a
   "id": "58d9bdcd",
=======
   "id": "b5fdf64f",
>>>>>>> documentation-devel
   "metadata": {},
   "outputs": [],
   "source": [
    "cols_use <- names(colData(sfe))[str_detect(names(colData(sfe)), \"_percent$\")]\n",
    "for (n in cols_use) {\n",
    "    sfe <- get_neg_ctrl_outliers(n, sfe)\n",
    "}"
   ]
  },
  {
   "cell_type": "code",
   "execution_count": null,
<<<<<<< HEAD
<<<<<<< HEAD
   "id": "278aa69c",
||||||| b944554d
   "id": "5094369a",
=======
   "id": "d9adf3d0",
>>>>>>> documentation-devel
||||||| 35cb6e7a
   "id": "d9adf3d0",
=======
   "id": "d89f3605",
>>>>>>> documentation-devel
   "metadata": {},
   "outputs": [],
   "source": [
    "names(colData(sfe))"
   ]
  },
  {
   "cell_type": "markdown",
<<<<<<< HEAD
<<<<<<< HEAD
   "id": "ca7aa9a4",
||||||| b944554d
   "id": "f71fa8ec",
=======
   "id": "fba7496e",
>>>>>>> documentation-devel
||||||| 35cb6e7a
   "id": "fba7496e",
=======
   "id": "38302972",
>>>>>>> documentation-devel
   "metadata": {
    "lines_to_next_cell": 0
   },
   "source": [
    "Below we examine where the outliers are located in space:"
   ]
  },
  {
   "cell_type": "code",
   "execution_count": null,
<<<<<<< HEAD
<<<<<<< HEAD
   "id": "2aa52a49",
||||||| b944554d
   "id": "be61472a",
=======
   "id": "47f482ae",
>>>>>>> documentation-devel
||||||| 35cb6e7a
   "id": "47f482ae",
=======
   "id": "7433424f",
>>>>>>> documentation-devel
   "metadata": {},
   "outputs": [],
   "source": [
    "plotSpatialFeature(sfe, \"is_blank_outlier\", colGeometryName = \"cellSeg\")"
   ]
  },
  {
   "cell_type": "markdown",
<<<<<<< HEAD
<<<<<<< HEAD
   "id": "ac195b09",
||||||| b944554d
   "id": "f401caa2",
=======
   "id": "a30c1392",
>>>>>>> documentation-devel
||||||| 35cb6e7a
   "id": "a30c1392",
=======
   "id": "552fb2d4",
>>>>>>> documentation-devel
   "metadata": {
    "lines_to_next_cell": 0
   },
   "source": [
    "We find that the outliers are difficult to see:"
   ]
  },
  {
   "cell_type": "code",
   "execution_count": null,
<<<<<<< HEAD
<<<<<<< HEAD
   "id": "e8caa353",
||||||| b944554d
   "id": "04d41efa",
=======
   "id": "2785dd92",
>>>>>>> documentation-devel
||||||| 35cb6e7a
   "id": "2785dd92",
=======
   "id": "03d2870f",
>>>>>>> documentation-devel
   "metadata": {},
   "outputs": [],
   "source": [
    "plotColData(sfe, y = \"is_blank_outlier\", x = \"cell_area\", \n",
    "            point_fun = function(...) list()) "
   ]
  },
  {
   "cell_type": "markdown",
<<<<<<< HEAD
<<<<<<< HEAD
   "id": "0c2aa4bf",
||||||| b944554d
   "id": "b61302fc",
=======
   "id": "afae380c",
>>>>>>> documentation-devel
||||||| 35cb6e7a
   "id": "afae380c",
=======
   "id": "2e3d63f9",
>>>>>>> documentation-devel
   "metadata": {
    "lines_to_next_cell": 0
   },
   "source": [
    "The analysis reveals that the outliers seem to be smaller. Outliers for negative probe controls and negative codeword controls are also hard to see on the plot, so their plots are skipped here. But the top left region in the tissue tends to have more counts from antisense controls. "
   ]
  },
  {
   "cell_type": "code",
   "execution_count": null,
<<<<<<< HEAD
<<<<<<< HEAD
   "id": "2ca323e5",
||||||| b944554d
   "id": "4c9fb545",
=======
   "id": "a863d62c",
>>>>>>> documentation-devel
||||||| 35cb6e7a
   "id": "a863d62c",
=======
   "id": "44a74d40",
>>>>>>> documentation-devel
   "metadata": {},
   "outputs": [],
   "source": [
    "plotSpatialFeature(sfe, \"is_anti_outlier\", colGeometryName = \"cellSeg\")"
   ]
  },
  {
   "cell_type": "markdown",
<<<<<<< HEAD
<<<<<<< HEAD
   "id": "a9907345",
||||||| b944554d
   "id": "481f293f",
=======
   "id": "2f22990b",
>>>>>>> documentation-devel
||||||| 35cb6e7a
   "id": "2f22990b",
=======
   "id": "1da4475b",
>>>>>>> documentation-devel
   "metadata": {},
   "source": [
    "Now that we have identified the outliers, we can remove them along with empty cells before proceeding to further analysis:"
   ]
  },
  {
   "cell_type": "code",
   "execution_count": null,
<<<<<<< HEAD
<<<<<<< HEAD
   "id": "bf2b7f66",
||||||| b944554d
   "id": "b3c2a9c2",
=======
   "id": "a2982abd",
>>>>>>> documentation-devel
||||||| 35cb6e7a
   "id": "a2982abd",
=======
   "id": "48ca12e9",
>>>>>>> documentation-devel
   "metadata": {},
   "outputs": [],
   "source": [
    "inds_keep <- sfe$nCounts > 0 & sfe$nucleus_area < 400 & !sfe$is_anti_outlier &\n",
    "    !sfe$is_blank_outlier & !sfe$is_negCodeword_outlier & !sfe$is_negProbe_outlier\n",
    "(sfe <- sfe[,inds_keep])"
   ]
  },
  {
   "cell_type": "markdown",
<<<<<<< HEAD
<<<<<<< HEAD
   "id": "a248a9ed",
||||||| b944554d
   "id": "0055102d",
=======
   "id": "0030d86a",
>>>>>>> documentation-devel
||||||| 35cb6e7a
   "id": "0030d86a",
=======
   "id": "9ac12d4a",
>>>>>>> documentation-devel
   "metadata": {
    "lines_to_next_cell": 0
   },
   "source": [
    "Over 1000 cells were removed. \n",
    "\n",
    "Next we check how many negative control features are detected per cell:"
   ]
  },
  {
   "cell_type": "code",
   "execution_count": null,
<<<<<<< HEAD
<<<<<<< HEAD
   "id": "0de6f512",
||||||| b944554d
   "id": "b29b2909",
=======
   "id": "46f54c8b",
>>>>>>> documentation-devel
||||||| 35cb6e7a
   "id": "46f54c8b",
=======
   "id": "f46c99ed",
>>>>>>> documentation-devel
   "metadata": {},
   "outputs": [],
   "source": [
    "plotColDataHistogram(sfe, cols_use2, bins = 20, ncol = 3) +\n",
    "    # Avoid decimal breaks on x axis unless there're too few breaks\n",
    "    scale_x_continuous(breaks = scales::breaks_extended(3, Q = c(1,2,5)))"
   ]
  },
  {
   "cell_type": "markdown",
<<<<<<< HEAD
<<<<<<< HEAD
   "id": "f3041650",
||||||| b944554d
   "id": "7a892e24",
=======
   "id": "f1373130",
>>>>>>> documentation-devel
||||||| 35cb6e7a
   "id": "f1373130",
=======
   "id": "17800432",
>>>>>>> documentation-devel
   "metadata": {
    "lines_to_next_cell": 0
   },
   "source": [
    "There are at most 3 counts per cell per type. For the non-outliers, each type is at most around 1%, so this data looks good. \n",
    "\n",
    "## Genes\n",
    "Here we look at the mean and variance of each gene"
   ]
  },
  {
   "cell_type": "code",
   "execution_count": null,
<<<<<<< HEAD
<<<<<<< HEAD
   "id": "7f35698b",
||||||| b944554d
   "id": "f19b7fe1",
=======
   "id": "8da3c58c",
>>>>>>> documentation-devel
||||||| 35cb6e7a
   "id": "8da3c58c",
=======
   "id": "5b7a299d",
>>>>>>> documentation-devel
   "metadata": {},
   "outputs": [],
   "source": [
    "rowData(sfe)$means <- rowMeans(counts(sfe))\n",
    "rowData(sfe)$vars <- rowVars(counts(sfe))"
   ]
  },
  {
   "cell_type": "markdown",
<<<<<<< HEAD
<<<<<<< HEAD
   "id": "810b2a21",
||||||| b944554d
   "id": "7da3fdd9",
=======
   "id": "60ef3642",
>>>>>>> documentation-devel
||||||| 35cb6e7a
   "id": "60ef3642",
=======
   "id": "4fd2baaf",
>>>>>>> documentation-devel
   "metadata": {
    "lines_to_next_cell": 0
   },
   "source": [
    "Real genes generally have higher mean expression across cells than negative controls."
   ]
  },
  {
   "cell_type": "code",
   "execution_count": null,
<<<<<<< HEAD
<<<<<<< HEAD
   "id": "44404c03",
||||||| b944554d
   "id": "356103ab",
=======
   "id": "9c9bd63c",
>>>>>>> documentation-devel
||||||| 35cb6e7a
   "id": "9c9bd63c",
=======
   "id": "9ce5d7a0",
>>>>>>> documentation-devel
   "metadata": {},
   "outputs": [],
   "source": [
    "rowData(sfe)$is_neg <- is_any_neg\n",
    "plotRowData(sfe, x = \"means\", y = \"is_neg\") +\n",
    "    scale_y_log10() +\n",
    "    annotation_logticks(sides = \"b\")"
   ]
  },
  {
   "cell_type": "markdown",
<<<<<<< HEAD
<<<<<<< HEAD
   "id": "6b905a57",
||||||| b944554d
   "id": "7dd875ac",
=======
   "id": "78609456",
>>>>>>> documentation-devel
||||||| 35cb6e7a
   "id": "78609456",
=======
   "id": "c355f178",
>>>>>>> documentation-devel
   "metadata": {
    "lines_to_next_cell": 0
   },
   "source": [
    "Here the real genes and negative controls are plotted in different colors"
   ]
  },
  {
   "cell_type": "code",
   "execution_count": null,
<<<<<<< HEAD
<<<<<<< HEAD
   "id": "be7b167c",
||||||| b944554d
   "id": "934e6d43",
=======
   "id": "da3e1ea5",
>>>>>>> documentation-devel
||||||| 35cb6e7a
   "id": "da3e1ea5",
=======
   "id": "0aec3b87",
>>>>>>> documentation-devel
   "metadata": {},
   "outputs": [],
   "source": [
    "plotRowData(sfe, x=\"means\", y=\"vars\", color_by = \"is_neg\") +\n",
    "    geom_abline(slope = 1, intercept = 0, color = \"red\") +\n",
    "    scale_x_log10() + scale_y_log10() +\n",
    "    annotation_logticks() +\n",
    "    coord_equal() +\n",
    "    labs(color = \"Negative control\")"
   ]
  },
  {
   "cell_type": "markdown",
<<<<<<< HEAD
<<<<<<< HEAD
   "id": "a97f1137",
||||||| b944554d
   "id": "44ce8896",
=======
   "id": "85d15b5e",
>>>>>>> documentation-devel
||||||| 35cb6e7a
   "id": "85d15b5e",
=======
   "id": "d24e71f8",
>>>>>>> documentation-devel
   "metadata": {},
   "source": [
    "The red line $y = x$ is expected if the data follows a Poisson distribution. Negative controls and real genes form mostly separate clusters. Negative controls stick close to the line, while real genes are overdispersed. Unlike in the [CosMX dataset](https://pachterlab.github.io/voyager/articles/vig4_cosmx.html#genes), the negative controls don't seem overdispersed.\n",
    "\n",
    "# Spatial autocorrelation of QC metrics\n",
    "\n",
    "There's a sparse and a dense region. This poses the question of what type of neighborhood graph to use, e.g. it is conceivable that cells in the sparse region should just be singletons. Furthermore, it is unclear what the length scale of their influence might be. It might depend on the cell type and how contact and secreted signals are used in the cell type, and length scale of the influence. If k nearest neighbors are used, then the neighbors in the dense region are much closer together than those in the sparse region. If distance based neighbors are used, then cells in the dense region will have more neighbors than cells in the sparse region, and the sparse region can break into multiple compartments if the distance cutoff is not long enough. \n",
    "\n",
    "For the purpose of demonstration, we use k nearest neighbors with $k = 5$, with inverse distance weighting. Note that using more neighbors leads to longer computation time of spatial autocorrelation metrics."
   ]
  },
  {
   "cell_type": "code",
   "execution_count": null,
<<<<<<< HEAD
<<<<<<< HEAD
   "id": "8c34bae8",
||||||| b944554d
   "id": "25230cd9",
=======
   "id": "cff3b38b",
>>>>>>> documentation-devel
||||||| 35cb6e7a
   "id": "cff3b38b",
=======
   "id": "ba3786c5",
>>>>>>> documentation-devel
   "metadata": {},
   "outputs": [],
   "source": [
    "system.time(\n",
    "    colGraph(sfe, \"knn5\") <- findSpatialNeighbors(sfe, method = \"knearneigh\", \n",
    "                                                  dist_type = \"idw\", k = 5, \n",
    "                                                  style = \"W\")\n",
    ")"
   ]
  },
  {
   "cell_type": "code",
   "execution_count": null,
<<<<<<< HEAD
<<<<<<< HEAD
   "id": "9e7ed26d",
||||||| b944554d
   "id": "a6b6c280",
=======
   "id": "2ca6080a",
>>>>>>> documentation-devel
||||||| 35cb6e7a
   "id": "2ca6080a",
=======
   "id": "d54ddaa3",
>>>>>>> documentation-devel
   "metadata": {},
   "outputs": [],
   "source": [
    "sfe <- colDataMoransI(sfe, c(\"nCounts\", \"nGenes\", \"cell_area\", \"nucleus_area\"),\n",
    "                      colGraphName = \"knn5\")"
   ]
  },
  {
   "cell_type": "code",
   "execution_count": null,
<<<<<<< HEAD
<<<<<<< HEAD
   "id": "83b39ebc",
||||||| b944554d
   "id": "6fbd5522",
=======
   "id": "67687c9d",
>>>>>>> documentation-devel
||||||| 35cb6e7a
   "id": "67687c9d",
=======
   "id": "0a2b49d0",
>>>>>>> documentation-devel
   "metadata": {},
   "outputs": [],
   "source": [
    "colFeatureData(sfe)[c(\"nCounts\", \"nGenes\", \"cell_area\", \"nucleus_area\"),]"
   ]
  },
  {
   "cell_type": "markdown",
<<<<<<< HEAD
<<<<<<< HEAD
   "id": "daa5c2ef",
||||||| b944554d
   "id": "3b6a76f3",
=======
   "id": "d0e6f6fe",
>>>>>>> documentation-devel
||||||| 35cb6e7a
   "id": "d0e6f6fe",
=======
   "id": "98fdc1ed",
>>>>>>> documentation-devel
   "metadata": {},
   "source": [
    "Global Moran's I indicatse positive spatial autocorrelation. As the strength of spatial autocorrelation can vary spatially, we also run local Moran's I."
   ]
  },
  {
   "cell_type": "code",
   "execution_count": null,
<<<<<<< HEAD
<<<<<<< HEAD
   "id": "c4146daa",
||||||| b944554d
   "id": "a03a05b2",
=======
   "id": "3c9a1cbf",
>>>>>>> documentation-devel
||||||| 35cb6e7a
   "id": "3c9a1cbf",
=======
   "id": "ab1f4f25",
>>>>>>> documentation-devel
   "metadata": {},
   "outputs": [],
   "source": [
    "sfe <- colDataUnivariate(sfe, type = \"localmoran\", \n",
    "                         features = c(\"nCounts\", \"nGenes\", \"cell_area\", \n",
    "                                      \"nucleus_area\"),\n",
    "                         colGraphName = \"knn5\", BPPARAM = MulticoreParam(2))"
   ]
  },
  {
   "cell_type": "markdown",
<<<<<<< HEAD
<<<<<<< HEAD
   "id": "5f6750dd",
||||||| b944554d
   "id": "4105f505",
=======
   "id": "0b8b80c0",
>>>>>>> documentation-devel
||||||| 35cb6e7a
   "id": "0b8b80c0",
=======
   "id": "a2086b2b",
>>>>>>> documentation-devel
   "metadata": {
    "lines_to_next_cell": 0
   },
   "source": [
    "The `pointsize` argument adjusts the point size in `scattermore`. The default is 0, meaning single pixels, but since the cells in the sparse region are hard to see that way, we increase `pointsize`. We would still plot the polygons in larger single panel plots, but use `scattermore` in multi-panel plots where the polygons in each panel are invisible anyway due to the small size to save some time."
   ]
  },
  {
   "cell_type": "code",
   "execution_count": null,
<<<<<<< HEAD
<<<<<<< HEAD
   "id": "6ab2b062",
||||||| b944554d
   "id": "33e14541",
=======
   "id": "adecb8c7",
>>>>>>> documentation-devel
||||||| 35cb6e7a
   "id": "adecb8c7",
=======
   "id": "350319fd",
>>>>>>> documentation-devel
   "metadata": {
    "fig.height": 6,
    "fig.width": 9
   },
   "outputs": [],
   "source": [
    "plotLocalResult(sfe, \"localmoran\",\n",
    "                features = c(\"nCounts\", \"nGenes\", \"cell_area\", \"nucleus_area\"),\n",
    "                colGeometryName = \"centroids\", scattermore = TRUE,\n",
    "                divergent = TRUE, diverge_center = 0, pointsize = 1)"
   ]
  },
  {
   "cell_type": "markdown",
<<<<<<< HEAD
<<<<<<< HEAD
   "id": "19e9fa06",
||||||| b944554d
   "id": "8bc0c0e6",
=======
   "id": "ca13a609",
>>>>>>> documentation-devel
||||||| 35cb6e7a
   "id": "ca13a609",
=======
   "id": "79b1711b",
>>>>>>> documentation-devel
   "metadata": {
    "lines_to_next_cell": 0
   },
   "source": [
    "Interestingly, nCounts is more homogeneous in the interior of the dense region, while nGenes is more homogeneous by the edge of the dense region. As expected, cell area is more homogeneous in the sparse region. However, the nucleus area is more homogeneous in the interior of the dense region. \n",
    "\n",
    "Moran plot for nCounts"
   ]
  },
  {
   "cell_type": "code",
   "execution_count": null,
<<<<<<< HEAD
<<<<<<< HEAD
   "id": "3bf40b0f",
||||||| b944554d
   "id": "8891e9e9",
=======
   "id": "784b981c",
>>>>>>> documentation-devel
||||||| 35cb6e7a
   "id": "784b981c",
=======
   "id": "f2939e30",
>>>>>>> documentation-devel
   "metadata": {},
   "outputs": [],
   "source": [
    "sfe <- colDataUnivariate(sfe, \"moran.plot\", \"nCounts\", colGraphName = \"knn5\")"
   ]
  },
  {
   "cell_type": "code",
   "execution_count": null,
<<<<<<< HEAD
<<<<<<< HEAD
   "id": "705a1c9a",
||||||| b944554d
   "id": "8a5a6eb4",
=======
   "id": "65c0c90e",
>>>>>>> documentation-devel
||||||| 35cb6e7a
   "id": "65c0c90e",
=======
   "id": "233c9c96",
>>>>>>> documentation-devel
   "metadata": {
    "fig.height": 7,
    "fig.width": 8
   },
   "outputs": [],
   "source": [
    "p1 <- moranPlot(sfe, \"nCounts\", binned = TRUE, plot_influential = FALSE) \n",
    "p2 <- moranPlot(sfe, \"nCounts\", binned = TRUE)\n",
    "p1 / p2 + plot_layout(guides = \"collect\")"
   ]
  },
  {
   "cell_type": "markdown",
<<<<<<< HEAD
<<<<<<< HEAD
   "id": "cc62c047",
||||||| b944554d
   "id": "67ebb05c",
=======
   "id": "ae516ba8",
>>>>>>> documentation-devel
||||||| 35cb6e7a
   "id": "ae516ba8",
=======
   "id": "5672cabc",
>>>>>>> documentation-devel
   "metadata": {},
   "source": [
    "There are no obvious clusters here. In the lower panel, the 2D histogram of influential points is plotted in red.\n",
    "\n",
    "# Moran's I\n",
    "\n",
    "By default, for gene expression, the log normalized counts are used in spatial autocorrelation metrics, so before running Moran's I, we normalize the data."
   ]
  },
  {
   "cell_type": "code",
   "execution_count": null,
<<<<<<< HEAD
<<<<<<< HEAD
   "id": "4476298e",
||||||| b944554d
   "id": "0cde475f",
=======
   "id": "9eb53d0a",
>>>>>>> documentation-devel
||||||| 35cb6e7a
   "id": "9eb53d0a",
=======
   "id": "57c07bb3",
>>>>>>> documentation-devel
   "metadata": {},
   "outputs": [],
   "source": [
    "sfe <- logNormCounts(sfe)"
   ]
  },
  {
   "cell_type": "markdown",
<<<<<<< HEAD
<<<<<<< HEAD
   "id": "3fa841f2",
||||||| b944554d
   "id": "da88dfbe",
=======
   "id": "0ffe3f92",
>>>>>>> documentation-devel
||||||| 35cb6e7a
   "id": "0ffe3f92",
=======
   "id": "e0ac1693",
>>>>>>> documentation-devel
   "metadata": {
    "lines_to_next_cell": 0
   },
   "source": [
    "Use more cores if available to speed this up."
   ]
  },
  {
   "cell_type": "code",
   "execution_count": null,
<<<<<<< HEAD
<<<<<<< HEAD
   "id": "535ee034",
||||||| b944554d
   "id": "8acb5ff8",
=======
   "id": "d8c995a5",
>>>>>>> documentation-devel
||||||| 35cb6e7a
   "id": "d8c995a5",
=======
   "id": "4fc07eea",
>>>>>>> documentation-devel
   "metadata": {},
   "outputs": [],
   "source": [
    "system.time(\n",
    "    sfe <- runMoransI(sfe, colGraphName = \"knn5\", BPPARAM = MulticoreParam(2))\n",
    ")"
   ]
  },
  {
   "cell_type": "code",
   "execution_count": null,
<<<<<<< HEAD
<<<<<<< HEAD
   "id": "6c5933fb",
||||||| b944554d
   "id": "b6f69f50",
=======
   "id": "2e45e59a",
>>>>>>> documentation-devel
||||||| 35cb6e7a
   "id": "2e45e59a",
=======
   "id": "5417bbed",
>>>>>>> documentation-devel
   "metadata": {},
   "outputs": [],
   "source": [
    "rowData(sfe)$is_neg <- is_any_neg"
   ]
  },
  {
   "cell_type": "code",
   "execution_count": null,
<<<<<<< HEAD
<<<<<<< HEAD
   "id": "9cee6ae8",
||||||| b944554d
   "id": "1e5eb2bd",
=======
   "id": "909526fa",
>>>>>>> documentation-devel
||||||| 35cb6e7a
   "id": "909526fa",
=======
   "id": "6974d99b",
>>>>>>> documentation-devel
   "metadata": {},
   "outputs": [],
   "source": [
    "plotRowData(sfe, x = \"moran_sample01\", y = \"is_neg\")"
   ]
  },
  {
   "cell_type": "markdown",
<<<<<<< HEAD
<<<<<<< HEAD
   "id": "167a56d0",
||||||| b944554d
   "id": "ef47e9b9",
=======
   "id": "5f080d2d",
>>>>>>> documentation-devel
||||||| 35cb6e7a
   "id": "5f080d2d",
=======
   "id": "ff9bd757",
>>>>>>> documentation-devel
   "metadata": {
    "lines_to_next_cell": 0
   },
   "source": [
    "As expected, generally the negative controls are tightly clustered around 0, while the real genes have positive Moran's I, which means there is generally no technical artifact spatial trend. No significantly negative Moran's I is observed. Why is negative spatial autocorrelation so rare in gene expression?\n",
    "\n",
    "What are the two negative controls with a sizable Moran's I?"
   ]
  },
  {
   "cell_type": "code",
   "execution_count": null,
<<<<<<< HEAD
<<<<<<< HEAD
   "id": "4c5018f4",
||||||| b944554d
   "id": "66b06258",
=======
   "id": "4d7bd56f",
>>>>>>> documentation-devel
||||||| 35cb6e7a
   "id": "4d7bd56f",
=======
   "id": "99db8e76",
>>>>>>> documentation-devel
   "metadata": {
    "fig.height": 3,
    "fig.width": 9
   },
   "outputs": [],
   "source": [
    "ord <- order(rowData(sfe)$moran_sample01[is_any_neg], decreasing = TRUE)[1:2]\n",
    "top_neg <- rownames(sfe)[is_any_neg][ord]\n",
    "plotSpatialFeature(sfe, top_neg, colGeometryName = \"centroids\",\n",
    "                   scattermore = TRUE, pointsize = 1)"
   ]
  },
  {
   "cell_type": "markdown",
<<<<<<< HEAD
<<<<<<< HEAD
   "id": "ecdca351",
||||||| b944554d
   "id": "de91fab2",
=======
   "id": "1f6dcb47",
>>>>>>> documentation-devel
||||||| 35cb6e7a
   "id": "1f6dcb47",
=======
   "id": "1d5bcdf1",
>>>>>>> documentation-devel
   "metadata": {
    "lines_to_next_cell": 0
   },
   "source": [
    "There is somewhat a spatial trend for that antisense probe, with more detected in the upper left. However, this might not significantly affect other results since there are at most 2 counts and at most about 1% of all counts in each cell. The negative control codeword has at most 1 count per cell and the cells with this negative control detected seem to be few and far between. \n",
    "\n",
    "These are the most detected negative controls, and the most detected one is also the one with the highest Moran's I among negative controls. However, the other negative control with higher Moran's I is not among the most detected."
   ]
  },
  {
   "cell_type": "code",
   "execution_count": null,
<<<<<<< HEAD
<<<<<<< HEAD
   "id": "bd5f861b",
||||||| b944554d
   "id": "aa286b1c",
=======
   "id": "24b34c2b",
>>>>>>> documentation-devel
||||||| 35cb6e7a
   "id": "24b34c2b",
=======
   "id": "227ca309",
>>>>>>> documentation-devel
   "metadata": {},
   "outputs": [],
   "source": [
    "head(sort(rowData(sfe)$means[is_any_neg], decreasing = TRUE), 15)"
   ]
  },
  {
   "cell_type": "markdown",
<<<<<<< HEAD
<<<<<<< HEAD
   "id": "1bdbc77b",
||||||| b944554d
   "id": "428c9979",
=======
   "id": "0ce5e342",
>>>>>>> documentation-devel
||||||| 35cb6e7a
   "id": "0ce5e342",
=======
   "id": "5ed8523b",
>>>>>>> documentation-devel
   "metadata": {
    "lines_to_next_cell": 0
   },
   "source": [
    "What are the genes with the highest Moran's I?"
   ]
  },
  {
   "cell_type": "code",
   "execution_count": null,
<<<<<<< HEAD
<<<<<<< HEAD
   "id": "a4a45df8",
||||||| b944554d
   "id": "eee81c17",
=======
   "id": "e192d113",
>>>>>>> documentation-devel
||||||| 35cb6e7a
   "id": "e192d113",
=======
   "id": "9bcce2b4",
>>>>>>> documentation-devel
   "metadata": {
    "fig.height": 9,
    "fig.width": 9
   },
   "outputs": [],
   "source": [
    "top_moran <- rownames(sfe)[order(rowData(sfe)$moran_sample01, decreasing = TRUE)[1:6]]\n",
    "plotSpatialFeature(sfe, top_moran, colGeometryName = \"centroids\",\n",
    "                   scattermore = TRUE, ncol = 2, pointsize = 0.5)"
   ]
  },
  {
   "cell_type": "markdown",
<<<<<<< HEAD
<<<<<<< HEAD
   "id": "7c2337bf",
||||||| b944554d
   "id": "d249131a",
=======
   "id": "dcf292fa",
>>>>>>> documentation-devel
||||||| 35cb6e7a
   "id": "dcf292fa",
=======
   "id": "65317b17",
>>>>>>> documentation-devel
   "metadata": {
    "lines_to_next_cell": 0
   },
   "source": [
    "They all highlight the same histological regions, as in the [CosMX vignette](https://pachterlab.github.io/voyager/articles/vig4_cosmx.html#morans-i). How does Moran's I relate to gene expression level?"
   ]
  },
  {
   "cell_type": "code",
   "execution_count": null,
<<<<<<< HEAD
<<<<<<< HEAD
   "id": "48836e55",
||||||| b944554d
   "id": "00b1da72",
=======
   "id": "dc778450",
>>>>>>> documentation-devel
||||||| 35cb6e7a
   "id": "dc778450",
=======
   "id": "773f144c",
>>>>>>> documentation-devel
   "metadata": {},
   "outputs": [],
   "source": [
    "plotRowData(sfe, x = \"means\", y = \"moran_sample01\")"
   ]
  },
  {
   "cell_type": "markdown",
<<<<<<< HEAD
<<<<<<< HEAD
   "id": "2d7790cc",
||||||| b944554d
   "id": "a9e75d5d",
=======
   "id": "c6a7b29e",
>>>>>>> documentation-devel
||||||| 35cb6e7a
   "id": "c6a7b29e",
=======
   "id": "0a4601b6",
>>>>>>> documentation-devel
   "metadata": {
    "lines_to_next_cell": 0
   },
   "source": [
    "Very highly expressed genes have higher Moran's I, but there are some less expressed genes with higher Moran's I as well.\n",
    "\n",
    "# Non-spatial dimension reduction and clustering\n",
    "\n",
    "Here we run non-spatial PCA as for scRNA-seq data"
   ]
  },
  {
   "cell_type": "code",
   "execution_count": null,
<<<<<<< HEAD
<<<<<<< HEAD
   "id": "0adb8d3b",
||||||| b944554d
   "id": "4c1cfc31",
=======
   "id": "df68aebf",
>>>>>>> documentation-devel
||||||| 35cb6e7a
   "id": "df68aebf",
=======
   "id": "b5b8dabe",
>>>>>>> documentation-devel
   "metadata": {},
   "outputs": [],
   "source": [
    "set.seed(29)\n",
    "sfe <- runPCA(sfe, ncomponents = 30, scale = TRUE, BSPARAM = IrlbaParam())"
   ]
  },
  {
   "cell_type": "code",
   "execution_count": null,
<<<<<<< HEAD
<<<<<<< HEAD
   "id": "da38088d",
||||||| b944554d
   "id": "0cdcaa01",
=======
   "id": "48016f11",
>>>>>>> documentation-devel
||||||| 35cb6e7a
   "id": "48016f11",
=======
   "id": "64b6d0df",
>>>>>>> documentation-devel
   "metadata": {},
   "outputs": [],
   "source": [
    "ElbowPlot(sfe, ndims = 30)"
   ]
  },
  {
   "cell_type": "code",
   "execution_count": null,
<<<<<<< HEAD
<<<<<<< HEAD
   "id": "7629eac0",
||||||| b944554d
   "id": "c4dab6bf",
=======
   "id": "4dfc15a1",
>>>>>>> documentation-devel
||||||| 35cb6e7a
   "id": "4dfc15a1",
=======
   "id": "953de7ab",
>>>>>>> documentation-devel
   "metadata": {},
   "outputs": [],
   "source": [
    "plotDimLoadings(sfe, dims = 1:6)"
   ]
  },
  {
   "cell_type": "code",
   "execution_count": null,
<<<<<<< HEAD
<<<<<<< HEAD
   "id": "5a2bed3f",
||||||| b944554d
   "id": "6bc1e6c7",
=======
   "id": "58e0d455",
>>>>>>> documentation-devel
||||||| 35cb6e7a
   "id": "58e0d455",
=======
   "id": "339cb0fc",
>>>>>>> documentation-devel
   "metadata": {
    "fig.height": 9,
    "fig.width": 9
   },
   "outputs": [],
   "source": [
    "spatialReducedDim(sfe, \"PCA\", 6, colGeometryName = \"centroids\", divergent = TRUE,\n",
    "                  diverge_center = 0, ncol = 2, scattermore = TRUE, pointsize = 0.5)"
   ]
  },
  {
   "cell_type": "markdown",
<<<<<<< HEAD
<<<<<<< HEAD
   "id": "bb8cc2b2",
||||||| b944554d
   "id": "37fc81bb",
=======
   "id": "2f68e93b",
>>>>>>> documentation-devel
||||||| 35cb6e7a
   "id": "2f68e93b",
=======
   "id": "59bd07b8",
>>>>>>> documentation-devel
   "metadata": {
    "lines_to_next_cell": 0
   },
   "source": [
    "While spatial region is not explicitly used, the PC's highlight spatial regions due to spatial autocorrelation in gene expression and histological regions with different cell types.\n",
    "\n",
    "Non-spatial clustering and locating the clusters in space"
   ]
  },
  {
   "cell_type": "code",
   "execution_count": null,
<<<<<<< HEAD
<<<<<<< HEAD
   "id": "825cd30f",
||||||| b944554d
   "id": "b2eb7c00",
=======
   "id": "450dbbad",
>>>>>>> documentation-devel
||||||| 35cb6e7a
   "id": "450dbbad",
=======
   "id": "505b8891",
>>>>>>> documentation-devel
   "metadata": {},
   "outputs": [],
   "source": [
    "colData(sfe)$cluster <- clusterRows(reducedDim(sfe, \"PCA\")[,1:15],\n",
    "                                    BLUSPARAM = SNNGraphParam(\n",
    "                                        cluster.fun = \"leiden\",\n",
    "                                        cluster.args = list(\n",
    "                                            resolution_parameter = 0.5,\n",
    "                                            objective_function = \"modularity\")))"
   ]
  },
  {
   "cell_type": "markdown",
<<<<<<< HEAD
<<<<<<< HEAD
   "id": "3cebf3a4",
||||||| b944554d
   "id": "38bc225b",
=======
   "id": "6302003a",
>>>>>>> documentation-devel
||||||| 35cb6e7a
   "id": "6302003a",
=======
   "id": "2cf1997a",
>>>>>>> documentation-devel
   "metadata": {
    "lines_to_next_cell": 0
   },
   "source": [
    "Now the `scater` can also rasterize the plots with lots of points with the `rasterise` argument, but with a different mechanism from `scattermore` that requires more system dependencies. "
   ]
  },
  {
   "cell_type": "code",
   "execution_count": null,
<<<<<<< HEAD
<<<<<<< HEAD
   "id": "acb88bd0",
||||||| b944554d
   "id": "5bba7133",
=======
   "id": "cde6c1f8",
>>>>>>> documentation-devel
||||||| 35cb6e7a
   "id": "cde6c1f8",
=======
   "id": "b2f53b9c",
>>>>>>> documentation-devel
   "metadata": {
    "fig.height": 8,
    "fig.width": 8
   },
   "outputs": [],
   "source": [
    "plotPCA(sfe, ncomponents = 4, colour_by = \"cluster\", rasterise = FALSE)"
   ]
  },
  {
   "cell_type": "markdown",
<<<<<<< HEAD
<<<<<<< HEAD
   "id": "7157f269",
||||||| b944554d
   "id": "f48537ef",
=======
   "id": "9937d6e5",
>>>>>>> documentation-devel
||||||| 35cb6e7a
   "id": "9937d6e5",
=======
   "id": "07dab40c",
>>>>>>> documentation-devel
   "metadata": {
    "lines_to_next_cell": 0
   },
   "source": [
    "Plot the location of the clusters in space"
   ]
  },
  {
   "cell_type": "code",
   "execution_count": null,
<<<<<<< HEAD
<<<<<<< HEAD
   "id": "3912ee18",
||||||| b944554d
   "id": "3cb01415",
=======
   "id": "6c0baee3",
>>>>>>> documentation-devel
||||||| 35cb6e7a
   "id": "6c0baee3",
=======
   "id": "47717b07",
>>>>>>> documentation-devel
   "metadata": {},
   "outputs": [],
   "source": [
    "plotSpatialFeature(sfe, \"cluster\", colGeometryName = \"cellSeg\")"
   ]
  },
  {
   "cell_type": "markdown",
<<<<<<< HEAD
<<<<<<< HEAD
   "id": "bc45a21f",
||||||| b944554d
   "id": "a39f9ae5",
=======
   "id": "b4802cc5",
>>>>>>> documentation-devel
||||||| 35cb6e7a
   "id": "b4802cc5",
=======
   "id": "020cc5b4",
>>>>>>> documentation-devel
   "metadata": {
    "lines_to_next_cell": 0
   },
   "source": [
    "# Differential expression\n",
    "Cluster marker genes are found with Wilcoxon rank sum test as commonly done for scRNA-seq."
   ]
  },
  {
   "cell_type": "code",
   "execution_count": null,
<<<<<<< HEAD
<<<<<<< HEAD
   "id": "d1fa7c99",
||||||| b944554d
   "id": "980e4010",
=======
   "id": "a4ae0f27",
>>>>>>> documentation-devel
||||||| 35cb6e7a
   "id": "a4ae0f27",
=======
   "id": "94b35aed",
>>>>>>> documentation-devel
   "metadata": {},
   "outputs": [],
   "source": [
    "markers <- findMarkers(sfe, groups = colData(sfe)$cluster,\n",
    "                       test.type = \"wilcox\", pval.type = \"all\", direction = \"up\")"
   ]
  },
  {
   "cell_type": "markdown",
<<<<<<< HEAD
<<<<<<< HEAD
   "id": "53b94c6b",
||||||| b944554d
   "id": "912cf825",
=======
   "id": "32b290c4",
>>>>>>> documentation-devel
||||||| 35cb6e7a
   "id": "32b290c4",
=======
   "id": "9b36400a",
>>>>>>> documentation-devel
   "metadata": {
    "lines_to_next_cell": 0
   },
   "source": [
    "It's already sorted by p-values:"
   ]
  },
  {
   "cell_type": "code",
   "execution_count": null,
<<<<<<< HEAD
<<<<<<< HEAD
   "id": "3760d199",
||||||| b944554d
   "id": "35a69d90",
=======
   "id": "bcc5ebd7",
>>>>>>> documentation-devel
||||||| 35cb6e7a
   "id": "bcc5ebd7",
=======
   "id": "1ab453f9",
>>>>>>> documentation-devel
   "metadata": {},
   "outputs": [],
   "source": [
    "markers[[6]]"
   ]
  },
  {
   "cell_type": "markdown",
<<<<<<< HEAD
<<<<<<< HEAD
   "id": "2dc7ebce",
||||||| b944554d
   "id": "5df0a431",
=======
   "id": "cf564a5f",
>>>>>>> documentation-devel
||||||| 35cb6e7a
   "id": "cf564a5f",
=======
   "id": "657bce9a",
>>>>>>> documentation-devel
   "metadata": {
    "lines_to_next_cell": 0
   },
   "source": [
    "The code below extracts the significant markers for each cluster:"
   ]
  },
  {
   "cell_type": "code",
   "execution_count": null,
<<<<<<< HEAD
<<<<<<< HEAD
   "id": "ab12e523",
||||||| b944554d
   "id": "c9a8c736",
=======
   "id": "573ce250",
>>>>>>> documentation-devel
||||||| 35cb6e7a
   "id": "573ce250",
=======
   "id": "8c05be83",
>>>>>>> documentation-devel
   "metadata": {},
   "outputs": [],
   "source": [
    "genes_use <- vapply(markers, function(x) rownames(x)[1], FUN.VALUE = character(1))\n",
    "plotExpression(sfe, genes_use, x = \"cluster\", point_fun = function(...) list())"
   ]
  },
  {
   "cell_type": "markdown",
<<<<<<< HEAD
<<<<<<< HEAD
   "id": "4c784270",
||||||| b944554d
   "id": "d8589bd3",
=======
   "id": "0d60a64b",
>>>>>>> documentation-devel
||||||| 35cb6e7a
   "id": "0d60a64b",
=======
   "id": "c6480612",
>>>>>>> documentation-devel
   "metadata": {
    "lines_to_next_cell": 0
   },
   "source": [
    "This allows for plotting more top marker genes in a heatmap:"
   ]
  },
  {
   "cell_type": "code",
   "execution_count": null,
<<<<<<< HEAD
<<<<<<< HEAD
   "id": "95a21a19",
||||||| b944554d
   "id": "f9c0e1a4",
=======
   "id": "9b68d9f4",
>>>>>>> documentation-devel
||||||| 35cb6e7a
   "id": "9b68d9f4",
=======
   "id": "79ee774c",
>>>>>>> documentation-devel
   "metadata": {
    "fig.height": 8,
    "fig.width": 6
   },
   "outputs": [],
   "source": [
    "genes_use2 <- unique(unlist(lapply(markers, function(x) rownames(x)[1:5])))\n",
    "plotGroupedHeatmap(sfe, genes_use2, group = \"cluster\", colour = scales::viridis_pal()(100))"
   ]
  },
  {
   "cell_type": "markdown",
<<<<<<< HEAD
<<<<<<< HEAD
   "id": "48e36b47",
||||||| b944554d
   "id": "65068bd9",
=======
   "id": "ad994f16",
>>>>>>> documentation-devel
||||||| 35cb6e7a
   "id": "ad994f16",
=======
   "id": "be3aa2fc",
>>>>>>> documentation-devel
   "metadata": {
    "lines_to_next_cell": 0
   },
   "source": [
    "# Local spatial statistics of marker genes\n",
    "\n",
    "First we plot those genes in space as a reference"
   ]
  },
  {
   "cell_type": "code",
   "execution_count": null,
<<<<<<< HEAD
<<<<<<< HEAD
   "id": "3876a0a2",
||||||| b944554d
   "id": "0fde131b",
=======
   "id": "ece5ba9f",
>>>>>>> documentation-devel
||||||| 35cb6e7a
   "id": "ece5ba9f",
=======
   "id": "9f493475",
>>>>>>> documentation-devel
   "metadata": {
    "fig.height": 9,
    "fig.width": 9
   },
   "outputs": [],
   "source": [
    "plotSpatialFeature(sfe, genes_use, colGeometryName = \"centroids\", ncol = 3,\n",
    "                   pointsize = 0.3, scattermore = TRUE)"
   ]
  },
  {
   "cell_type": "markdown",
<<<<<<< HEAD
<<<<<<< HEAD
   "id": "4b550a44",
||||||| b944554d
   "id": "dfcb603b",
=======
   "id": "9f361f14",
>>>>>>> documentation-devel
||||||| 35cb6e7a
   "id": "9f361f14",
=======
   "id": "3e71e75e",
>>>>>>> documentation-devel
   "metadata": {},
   "source": [
    "Global Moran's I of these marker genes is shown below:"
   ]
  },
  {
   "cell_type": "code",
   "execution_count": null,
<<<<<<< HEAD
<<<<<<< HEAD
   "id": "5f46c596",
||||||| b944554d
   "id": "cbcc19c2",
=======
   "id": "fcf7748c",
>>>>>>> documentation-devel
||||||| 35cb6e7a
   "id": "fcf7748c",
=======
   "id": "a4feda44",
>>>>>>> documentation-devel
   "metadata": {},
   "outputs": [],
   "source": [
    "setNames(rowData(sfe)[genes_use, \"moran_sample01\"], genes_use)"
   ]
  },
  {
   "cell_type": "markdown",
<<<<<<< HEAD
<<<<<<< HEAD
   "id": "c18a92b3",
||||||| b944554d
   "id": "36feec9f",
=======
   "id": "d381acb1",
>>>>>>> documentation-devel
||||||| 35cb6e7a
   "id": "d381acb1",
=======
   "id": "c6ca3c25",
>>>>>>> documentation-devel
   "metadata": {
    "lines_to_next_cell": 0
   },
   "source": [
    "All these marker genes have positive spatial autocorrelation, but some stronger than others.\n",
    "\n",
    "Local Moran's I of these marker genes is shown below:"
   ]
  },
  {
   "cell_type": "code",
   "execution_count": null,
<<<<<<< HEAD
<<<<<<< HEAD
   "id": "891ccc97",
||||||| b944554d
   "id": "45792569",
=======
   "id": "654c0778",
>>>>>>> documentation-devel
||||||| 35cb6e7a
   "id": "654c0778",
=======
   "id": "668e1db2",
>>>>>>> documentation-devel
   "metadata": {},
   "outputs": [],
   "source": [
    "sfe <- runUnivariate(sfe, \"localmoran\", features = genes_use, colGraphName = \"knn5\",\n",
    "                     BPPARAM = MulticoreParam(2))"
   ]
  },
  {
   "cell_type": "code",
   "execution_count": null,
<<<<<<< HEAD
<<<<<<< HEAD
   "id": "e8037022",
||||||| b944554d
   "id": "e59e0c60",
=======
   "id": "bd91db3e",
>>>>>>> documentation-devel
||||||| 35cb6e7a
   "id": "bd91db3e",
=======
   "id": "3e6e7483",
>>>>>>> documentation-devel
   "metadata": {
    "fig.height": 9,
    "fig.width": 9
   },
   "outputs": [],
   "source": [
    "plotLocalResult(sfe, \"localmoran\", features = genes_use, \n",
    "                colGeometryName = \"centroids\", ncol = 3, divergent = TRUE,\n",
    "                diverge_center = 0, scattermore = TRUE, pointsize = 0.3)"
   ]
  },
  {
   "cell_type": "markdown",
<<<<<<< HEAD
<<<<<<< HEAD
   "id": "c3265b4f",
||||||| b944554d
   "id": "193ebb7d",
=======
   "id": "bc4e1a65",
>>>>>>> documentation-devel
||||||| 35cb6e7a
   "id": "bc4e1a65",
=======
   "id": "3847d1f5",
>>>>>>> documentation-devel
   "metadata": {
    "lines_to_next_cell": 0
   },
   "source": [
    "It seems that some histological regions tend to be more spatially homogenous in gene expression than others. The epithelial region tends to be more homogenous. For some genes, regions with higher expression also have higher local Moran's I, such as FOXA1 and GATA3, while for some genes, this is not the case, such as FGL2 and LUM. \n",
    "\n",
    "Finally, we assess local spatial heteroscdasticity (LOSH) for these marker genes to find local heterogeneity:"
   ]
  },
  {
   "cell_type": "code",
   "execution_count": null,
<<<<<<< HEAD
<<<<<<< HEAD
   "id": "dfc911f1",
||||||| b944554d
   "id": "178f4085",
=======
   "id": "c71aa338",
>>>>>>> documentation-devel
||||||| 35cb6e7a
   "id": "c71aa338",
=======
   "id": "c437a098",
>>>>>>> documentation-devel
   "metadata": {},
   "outputs": [],
   "source": [
    "sfe <- runUnivariate(sfe, \"LOSH\", features = genes_use, colGraphName = \"knn5\",\n",
    "                     BPPARAM = MulticoreParam(2))"
   ]
  },
  {
   "cell_type": "code",
   "execution_count": null,
<<<<<<< HEAD
<<<<<<< HEAD
   "id": "feacd638",
||||||| b944554d
   "id": "c08e14f5",
=======
   "id": "4d64fcff",
>>>>>>> documentation-devel
||||||| 35cb6e7a
   "id": "4d64fcff",
=======
   "id": "61a2ac46",
>>>>>>> documentation-devel
   "metadata": {
    "fig.height": 9,
    "fig.width": 9
   },
   "outputs": [],
   "source": [
    "plotLocalResult(sfe, \"LOSH\", features = genes_use, \n",
    "                colGeometryName = \"centroids\", ncol = 3, scattermore = TRUE, \n",
    "                pointsize = 0.3)"
   ]
  },
  {
   "cell_type": "markdown",
<<<<<<< HEAD
<<<<<<< HEAD
   "id": "264bc853",
||||||| b944554d
   "id": "3915f584",
=======
   "id": "d552aedc",
>>>>>>> documentation-devel
||||||| 35cb6e7a
   "id": "d552aedc",
=======
   "id": "75f69ecc",
>>>>>>> documentation-devel
   "metadata": {
    "lines_to_next_cell": 0
   },
   "source": [
    "Again, just like in the [CosMX dataset](https://pachterlab.github.io/voyager/articles/vig4_cosmx.html#local-spatial-statistics-of-marker-genes), LOSH is higher where the gene is more highly expressed in some (e.g. CD3E, LUM, TENT5C) but not all cases (e.g. FOXA1, GATA3). This may be due to spatial distribution of different cell types.\n",
    "\n",
    "# Session info"
   ]
  },
  {
   "cell_type": "code",
   "execution_count": null,
<<<<<<< HEAD
<<<<<<< HEAD
   "id": "1131a824",
||||||| b944554d
   "id": "7afee1a7",
=======
   "id": "9add15ad",
>>>>>>> documentation-devel
||||||| 35cb6e7a
   "id": "9add15ad",
=======
   "id": "a0337494",
>>>>>>> documentation-devel
   "metadata": {},
   "outputs": [],
   "source": [
    "sessionInfo()"
   ]
  },
  {
   "cell_type": "markdown",
<<<<<<< HEAD
<<<<<<< HEAD
   "id": "6645e0d1",
||||||| b944554d
   "id": "73e12087",
=======
   "id": "5893cbb8",
>>>>>>> documentation-devel
||||||| 35cb6e7a
   "id": "5893cbb8",
=======
   "id": "1641c54f",
>>>>>>> documentation-devel
   "metadata": {},
   "source": [
    "# References"
   ]
  }
 ],
 "metadata": {
  "kernelspec": {
   "display_name": "R",
   "language": "R",
   "name": "ir"
  }
 },
 "nbformat": 4,
 "nbformat_minor": 5
}
