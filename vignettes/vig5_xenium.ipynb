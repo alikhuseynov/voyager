{
 "cells": [
  {
   "cell_type": "raw",
<<<<<<< HEAD
   "id": "df6e60c0",
||||||| 52c4b7c5
   "id": "8742fcb6",
=======
   "id": "3fcd3908",
>>>>>>> documentation-devel
   "metadata": {},
   "source": [
    "---\n",
    "title: \"Xenium breast cancer dataset\"\n",
    "author: \"Lambda Moses\"\n",
    "date: \"`r Sys.Date()`\"\n",
    "output: \n",
    "  html_document:\n",
    "  toc: true\n",
    "  toc_float:\n",
    "    collapsed: false\n",
    "  toc_depth: 3\n",
    "bibliography: ref.bib\n",
    "vignette: >\n",
    "  %\\VignetteIndexEntry{xenium}\n",
    "  %\\VignetteEngine{knitr::rmarkdown}\n",
    "  %\\VignetteEncoding{UTF-8}\n",
    "---"
   ]
  },
  {
   "cell_type": "code",
   "execution_count": null,
<<<<<<< HEAD
   "id": "94ce56c0",
||||||| 52c4b7c5
   "id": "c0605fb1",
=======
   "id": "72dc76d6",
>>>>>>> documentation-devel
   "metadata": {
    "tags": [
     "remove_cell"
    ]
   },
   "outputs": [],
   "source": [
    "knitr::opts_chunk$set(\n",
    "  collapse = TRUE,\n",
    "  comment = \"#>\", fig.align = \"center\"\n",
    ")"
   ]
  },
  {
   "cell_type": "code",
   "execution_count": null,
<<<<<<< HEAD
   "id": "c9aee6a7",
||||||| 52c4b7c5
   "id": "88ac517f",
=======
   "id": "50988302",
>>>>>>> documentation-devel
   "metadata": {
    "eval": false,
    "tags": [
     "remove_cell"
    ]
   },
   "outputs": [],
   "source": [
    "# Install Google Colab dependencies\n",
    "# Note: this can take 30+ minutes (many of the dependencies include C++ code, which needs to be compiled)\n",
    "\n",
    "# First install `sf`, `ragg` and `textshaping` and their system dependencies:\n",
    "system(\"apt-get -y update && apt-get install -y  libudunits2-dev libgdal-dev libgeos-dev libproj-dev libharfbuzz-dev libfribidi-dev\")\n",
    "install.packages(\"sf\")\n",
    "install.packages(\"textshaping\")\n",
    "install.packages(\"ragg\")\n",
    "\n",
    "# Install system dependencies of some other R packages that Voyager either imports or suggests:\n",
    "system(\"apt-get install -y libfribidi-dev libcairo2-dev libmagick++-dev\")\n",
    "\n",
    "# Install Voyager from Bioconductor:\n",
    "install.packages(\"BiocManager\")\n",
    "BiocManager::install(version = \"3.17\", ask = FALSE, update = FALSE, Ncpus = 2)\n",
    "BiocManager::install(\"scater\")\n",
    "system.time(\n",
    "  BiocManager::install(\"Voyager\", dependencies = TRUE, Ncpus = 2, update = FALSE)\n",
    ")\n",
    "\n",
    "packageVersion(\"Voyager\")"
   ]
  },
  {
   "cell_type": "markdown",
<<<<<<< HEAD
   "id": "7b80a0e4",
||||||| 52c4b7c5
   "id": "f7b7c1a8",
=======
   "id": "e60bf718",
>>>>>>> documentation-devel
   "metadata": {},
   "source": [
    "# Introduction\n",
    "\n",
    "Xenium is a new technology from 10X genomics for single cell resolution smFISH based spatial transcriptomics. The first Xenium dataset is for formalin fixed paraffin embedded (FFPE) human breast tumor, reported in [@Janesick2022-rp] and downloaded from the [10X website](https://www.10xgenomics.com/products/xenium-in-situ/preview-dataset-human-breast).\n",
    "\n",
    "The gene count matrix was downloaded as an HDF5 file and read into R as a `SingleCellExperiment` (SCE) object with `DropletUtils::read10xCounts()`. The gene count matrix is originally a `DelayedArray`, so the data is not all loaded into memory. For now, the matrix has been converted into an in memory `dgCMatrix`. However, for the next release, we would like to write another vignette on on disk analyses. The challenge is representing `sf` data frames on disk, perhaps with [`sedona`](https://github.com/apache/incubator-sedona) and [`SQLDataFrame`](https://bioconductor.org/packages/release/bioc/html/SQLDataFrame.html).\n",
    "\n",
    "The cell metadata (including centroid coordinates) and cell segmentation polygons were downloaded as `parquet` files, a more compact way to store columnar data than CSV, and read into R as data frames with `arrow::read_parquet()`. The cell polygons were converted into `sf` data frame with `SpatialFeatureExperiment::df2sf()`. Then the SCE object was converted into `SpatialFeatureExperiment` (SFE) and the polygon geometry was added to the SFE object, which is in the `SFEData` package.\n",
    "\n",
    "Here we load the packages used in this vignette."
   ]
  },
  {
   "cell_type": "code",
   "execution_count": null,
<<<<<<< HEAD
   "id": "bb568f01",
||||||| 52c4b7c5
   "id": "ebc0cb95",
=======
   "id": "217cbe9a",
>>>>>>> documentation-devel
   "metadata": {
    "name": "setup"
   },
   "outputs": [],
   "source": [
    "library(Voyager)\n",
    "library(SFEData) \n",
    "library(SingleCellExperiment)\n",
    "library(SpatialExperiment)\n",
    "library(SpatialFeatureExperiment)\n",
    "library(ggplot2)\n",
    "library(stringr)\n",
    "library(scater) \n",
    "library(scuttle)\n",
    "library(BiocParallel)\n",
    "library(BiocSingular)\n",
    "library(bluster)\n",
    "library(scran)\n",
    "library(patchwork)\n",
    "theme_set(theme_bw())"
   ]
  },
  {
   "cell_type": "code",
   "execution_count": null,
<<<<<<< HEAD
   "id": "7a57b050",
||||||| 52c4b7c5
   "id": "cb28ace6",
=======
   "id": "1d724888",
>>>>>>> documentation-devel
   "metadata": {},
   "outputs": [],
   "source": [
    "(sfe <- JanesickBreastData(dataset = \"rep2\"))"
   ]
  },
  {
   "cell_type": "markdown",
<<<<<<< HEAD
   "id": "72af5f6c",
||||||| 52c4b7c5
   "id": "71ed4d2d",
=======
   "id": "6afdab30",
>>>>>>> documentation-devel
   "metadata": {
    "lines_to_next_cell": 0
   },
   "source": [
    "There are 118708 cells in this dataset, a little more than in the CosMX dataset.\n",
    "\n",
    "The SFE object doesn't have column names (i.e. cell IDs). Here we assign cell IDs."
   ]
  },
  {
   "cell_type": "code",
   "execution_count": null,
<<<<<<< HEAD
   "id": "e17319a5",
||||||| 52c4b7c5
   "id": "0ad67e34",
=======
   "id": "65fce049",
>>>>>>> documentation-devel
   "metadata": {},
   "outputs": [],
   "source": [
    "colnames(sfe) <- seq_len(ncol(sfe))"
   ]
  },
  {
   "cell_type": "markdown",
<<<<<<< HEAD
   "id": "0eb0166f",
||||||| 52c4b7c5
   "id": "4d230f9e",
=======
   "id": "4b4330ea",
>>>>>>> documentation-devel
   "metadata": {},
   "source": [
    "This is what the tissue, with the cell outlines, looks like"
   ]
  },
  {
   "cell_type": "code",
   "execution_count": null,
<<<<<<< HEAD
   "id": "de4e24df",
||||||| 52c4b7c5
   "id": "c955c12e",
=======
   "id": "42288140",
>>>>>>> documentation-devel
   "metadata": {},
   "outputs": [],
   "source": [
    "plotGeometry(sfe, \"cellSeg\")"
   ]
  },
  {
   "cell_type": "markdown",
<<<<<<< HEAD
   "id": "40a29871",
||||||| 52c4b7c5
   "id": "a3b29aea",
=======
   "id": "68ec6dab",
>>>>>>> documentation-devel
   "metadata": {
    "lines_to_next_cell": 0
   },
   "source": [
    "Plot cell density in space"
   ]
  },
  {
   "cell_type": "code",
   "execution_count": null,
<<<<<<< HEAD
   "id": "6dd8db4d",
||||||| 52c4b7c5
   "id": "a6e63a4d",
=======
   "id": "a80e9ee3",
>>>>>>> documentation-devel
   "metadata": {},
   "outputs": [],
   "source": [
    "plotCellBin2D(sfe, hex = TRUE)"
   ]
  },
  {
   "cell_type": "markdown",
<<<<<<< HEAD
   "id": "c33c42a5",
||||||| 52c4b7c5
   "id": "5e48f0c5",
=======
   "id": "af323e25",
>>>>>>> documentation-devel
   "metadata": {},
   "source": [
    "# Quality control\n",
    "## Cells\n",
    "Some QC metrics are precomputed and are stored in `colData`"
   ]
  },
  {
   "cell_type": "code",
   "execution_count": null,
<<<<<<< HEAD
   "id": "41cc25c5",
||||||| 52c4b7c5
   "id": "c02a26ff",
=======
   "id": "72cc2e79",
>>>>>>> documentation-devel
   "metadata": {},
   "outputs": [],
   "source": [
    "names(colData(sfe))"
   ]
  },
  {
   "cell_type": "markdown",
<<<<<<< HEAD
   "id": "4b6bd407",
||||||| 52c4b7c5
   "id": "eebe85d2",
=======
   "id": "78a3ae55",
>>>>>>> documentation-devel
   "metadata": {},
   "source": [
    "Since there're more cells, it would be better to plot the tissue larger, so we'll plot the histogram of QC metrics and the spatial plots separately, unlike in the CosMx vignette."
   ]
  },
  {
   "cell_type": "code",
   "execution_count": null,
<<<<<<< HEAD
   "id": "b909ed96",
||||||| 52c4b7c5
   "id": "5e91d73e",
=======
   "id": "b2127f17",
>>>>>>> documentation-devel
   "metadata": {},
   "outputs": [],
   "source": [
    "n_panel <- 313\n",
    "colData(sfe)$nCounts_normed <- sfe$nCounts/n_panel\n",
    "colData(sfe)$nGenes_normed <- sfe$nGenes/n_panel"
   ]
  },
  {
   "cell_type": "markdown",
<<<<<<< HEAD
   "id": "edcf195e",
||||||| 52c4b7c5
   "id": "3a23eff2",
=======
   "id": "501de9ba",
>>>>>>> documentation-devel
   "metadata": {},
   "source": [
    "Here we divided nCounts by the total number of genes probed, so this histogram is comparable to those from other smFISH-based datasets. "
   ]
  },
  {
   "cell_type": "code",
   "execution_count": null,
<<<<<<< HEAD
   "id": "19c86559",
||||||| 52c4b7c5
   "id": "534bfba6",
=======
   "id": "95ec1392",
>>>>>>> documentation-devel
   "metadata": {},
   "outputs": [],
   "source": [
    "plotColDataHistogram(sfe, c(\"nCounts_normed\", \"nGenes_normed\"))"
   ]
  },
  {
   "cell_type": "markdown",
<<<<<<< HEAD
   "id": "9e4f409a",
||||||| 52c4b7c5
   "id": "10dfea75",
=======
   "id": "2504de3e",
>>>>>>> documentation-devel
   "metadata": {},
   "source": [
    "Compared to the [FFPE CosMX non-small cell lung cancer dataset](https://pachterlab.github.io/voyager/articles/vig4_cosmx.html#cells), more transcripts per gene on average and a larger proportion of all genes are detected in this dataset, which is also FFPE. However, this should be interpreted with care, since these two datasets are from different tissues and have different gene panels, so this may or may not indicate that Xenium has better detection efficiency than CosMX."
   ]
  },
  {
   "cell_type": "code",
   "execution_count": null,
<<<<<<< HEAD
   "id": "3c011049",
||||||| 52c4b7c5
   "id": "d4ac46fb",
=======
   "id": "c980f118",
>>>>>>> documentation-devel
   "metadata": {},
   "outputs": [],
   "source": [
    "plotSpatialFeature(sfe, \"nCounts\", colGeometryName = \"cellSeg\")"
   ]
  },
  {
   "cell_type": "markdown",
<<<<<<< HEAD
   "id": "ab9f4ca6",
||||||| 52c4b7c5
   "id": "173e54b4",
=======
   "id": "86eefc97",
>>>>>>> documentation-devel
   "metadata": {},
   "source": [
    "There seem to be FOV artifacts. However, the cell ID and FOV information were unavailable so we cannot examine them. "
   ]
  },
  {
   "cell_type": "code",
   "execution_count": null,
<<<<<<< HEAD
   "id": "bb5f9e59",
||||||| 52c4b7c5
   "id": "a4c70dc8",
=======
   "id": "dad5e440",
>>>>>>> documentation-devel
   "metadata": {},
   "outputs": [],
   "source": [
    "plotSpatialFeature(sfe, \"nGenes\", colGeometryName = \"cellSeg\")"
   ]
  },
  {
   "cell_type": "markdown",
<<<<<<< HEAD
   "id": "5a7da43a",
||||||| 52c4b7c5
   "id": "22fb02f1",
=======
   "id": "43da33ad",
>>>>>>> documentation-devel
   "metadata": {
    "lines_to_next_cell": 0
   },
   "source": [
    "A standard examination is to look at the relationship between nCounts and nGenes:"
   ]
  },
  {
   "cell_type": "code",
   "execution_count": null,
<<<<<<< HEAD
   "id": "2452de42",
||||||| 52c4b7c5
   "id": "3fb71ab9",
=======
   "id": "796185b7",
>>>>>>> documentation-devel
   "metadata": {},
   "outputs": [],
   "source": [
    "plotColDataBin2D(sfe, \"nCounts\", \"nGenes\")"
   ]
  },
  {
   "cell_type": "markdown",
<<<<<<< HEAD
   "id": "b3467b7a",
||||||| 52c4b7c5
   "id": "1fd525a9",
=======
   "id": "391cc7d7",
>>>>>>> documentation-devel
   "metadata": {
    "lines_to_next_cell": 0
   },
   "source": [
    "There appear to be two branches. \n",
    "\n",
    "Here we plot the distribution of cell area"
   ]
  },
  {
   "cell_type": "code",
   "execution_count": null,
<<<<<<< HEAD
   "id": "5c997fec",
||||||| 52c4b7c5
   "id": "1ebc0325",
=======
   "id": "9f424d21",
>>>>>>> documentation-devel
   "metadata": {},
   "outputs": [],
   "source": [
    "plotColDataHistogram(sfe, c(\"cell_area\", \"nucleus_area\"), scales = \"free_y\")"
   ]
  },
  {
   "cell_type": "markdown",
<<<<<<< HEAD
   "id": "c5b2135f",
||||||| 52c4b7c5
   "id": "ff719256",
=======
   "id": "ffd6b2f4",
>>>>>>> documentation-devel
   "metadata": {
    "lines_to_next_cell": 0
   },
   "source": [
    "That should be in pixels. There's a very long tail. The nuclei are much smaller than the cells.\n",
    "\n",
    "How is cell area distributed in space?"
   ]
  },
  {
   "cell_type": "code",
   "execution_count": null,
<<<<<<< HEAD
   "id": "d60bb011",
||||||| 52c4b7c5
   "id": "d018cf6d",
=======
   "id": "efade864",
>>>>>>> documentation-devel
   "metadata": {},
   "outputs": [],
   "source": [
    "plotSpatialFeature(sfe, \"cell_area\", colGeometryName = \"cellSeg\")"
   ]
  },
  {
   "cell_type": "markdown",
<<<<<<< HEAD
   "id": "186949a2",
||||||| 52c4b7c5
   "id": "d3c1378d",
=======
   "id": "eb0efb9a",
>>>>>>> documentation-devel
   "metadata": {
    "lines_to_next_cell": 0
   },
   "source": [
    "Cells in the sparse region tend to be larger than those in the dense region. This may be biological or an artifact of the cell segmentation algorithm or both.\n",
    "\n",
    "Here the nuclei segmentations are plotted instead of cell segmentation. The nuclei are much smaller to the extent that they are difficult to see."
   ]
  },
  {
   "cell_type": "code",
   "execution_count": null,
<<<<<<< HEAD
   "id": "b12fde57",
||||||| 52c4b7c5
   "id": "8888aa00",
=======
   "id": "8c88c9db",
>>>>>>> documentation-devel
   "metadata": {},
   "outputs": [],
   "source": [
    "plotSpatialFeature(sfe, \"nucleus_area\", colGeometryName = \"nucSeg\")"
   ]
  },
  {
   "cell_type": "markdown",
<<<<<<< HEAD
   "id": "3a8eb686",
||||||| 52c4b7c5
   "id": "2c4b1411",
=======
   "id": "d9f87ef4",
>>>>>>> documentation-devel
   "metadata": {
    "lines_to_next_cell": 0
   },
   "source": [
    "There's an outlier near the right edge of the section, throwing off the dynamic range of the plot. Upon inspection of the H&E image, the outlier is a bit of tissue debris that doesn't look like a cell. But we can still that cells in the dense, gland like regions tend to have larger nuclei. This may be biological, or that nuclei are so densely packed in those regions that they are more likely to be undersegmented, i.e. when multiple nuclei are counted as one by the nuclei segmentation program, or both.\n",
    "\n",
    "These observations motivate an examination of the relationship between cell area and nuclei area:"
   ]
  },
  {
   "cell_type": "code",
   "execution_count": null,
<<<<<<< HEAD
   "id": "8b143f79",
||||||| 52c4b7c5
   "id": "aae97d9d",
=======
   "id": "b6a4b958",
>>>>>>> documentation-devel
   "metadata": {},
   "outputs": [],
   "source": [
    "plotColDataBin2D(sfe, \"cell_area\", \"nucleus_area\") + \n",
    "    scale_fill_viridis_c()"
   ]
  },
  {
   "cell_type": "markdown",
<<<<<<< HEAD
   "id": "ab47e9a3",
||||||| 52c4b7c5
   "id": "d23c9e50",
=======
   "id": "3d21edff",
>>>>>>> documentation-devel
   "metadata": {},
   "source": [
    "Again, there are two branches, probably related to cell density and cell type. The nucleus outlier also has large cell area, though it is not as much an outlier in cell area. However, it is a spatial outlier as it's unusually large compared to its neighbors (scroll up two plots back). \n",
    "\n",
    "Next we calculate the proportion of cell in this z-plane taken up by the nucleus, and examine the distribution:"
   ]
  },
  {
   "cell_type": "code",
   "execution_count": null,
<<<<<<< HEAD
   "id": "6931dadd",
||||||| 52c4b7c5
   "id": "23ba0a44",
=======
   "id": "d9db77ef",
>>>>>>> documentation-devel
   "metadata": {},
   "outputs": [],
   "source": [
    "colData(sfe)$prop_nuc <- sfe$nucleus_area / sfe$cell_area"
   ]
  },
  {
   "cell_type": "code",
   "execution_count": null,
<<<<<<< HEAD
   "id": "a0471acc",
||||||| 52c4b7c5
   "id": "a38c7c70",
=======
   "id": "e7ac8e76",
>>>>>>> documentation-devel
   "metadata": {},
   "outputs": [],
   "source": [
    "plotColDataHistogram(sfe, \"prop_nuc\")"
   ]
  },
  {
   "cell_type": "markdown",
<<<<<<< HEAD
   "id": "4c171aae",
||||||| 52c4b7c5
   "id": "4d65adff",
=======
   "id": "ac1facd1",
>>>>>>> documentation-devel
   "metadata": {
    "lines_to_next_cell": 0
   },
   "source": [
    "This distribution could have been generated from two peaks that were combined. From the histogram, there do not seem to be cells without nuclei or segmentation artifacts where the nucleus is larger than the cell. However, there are so many cells in this dataset and it is possible that just a few cells would not be visible on this histogram. We double check:"
   ]
  },
  {
   "cell_type": "code",
   "execution_count": null,
<<<<<<< HEAD
   "id": "d11f1ff6",
||||||| 52c4b7c5
   "id": "7b9e9f54",
=======
   "id": "cb28ea1a",
>>>>>>> documentation-devel
   "metadata": {},
   "outputs": [],
   "source": [
    "# No nucleus\n",
    "sum(sfe$nucleus_area < 1)\n",
    "# Nucleus larger than cell\n",
    "sum(sfe$nucleus_area > sfe$cell_area)"
   ]
  },
  {
   "cell_type": "markdown",
<<<<<<< HEAD
   "id": "1acf4df7",
||||||| 52c4b7c5
   "id": "8164e1e2",
=======
   "id": "311f1a95",
>>>>>>> documentation-devel
   "metadata": {
    "lines_to_next_cell": 0
   },
   "source": [
    "So there are no cells without nuclei or nuclei larger than their cells. Here we plot the nuclei proportion in space:"
   ]
  },
  {
   "cell_type": "code",
   "execution_count": null,
<<<<<<< HEAD
   "id": "70e51046",
||||||| 52c4b7c5
   "id": "fc267652",
=======
   "id": "e22a2bdd",
>>>>>>> documentation-devel
   "metadata": {},
   "outputs": [],
   "source": [
    "plotSpatialFeature(sfe, \"prop_nuc\", colGeometryName = \"cellSeg\")"
   ]
  },
  {
   "cell_type": "markdown",
<<<<<<< HEAD
   "id": "90b93442",
||||||| 52c4b7c5
   "id": "a9e147df",
=======
   "id": "2626cec1",
>>>>>>> documentation-devel
   "metadata": {
    "lines_to_next_cell": 0
   },
   "source": [
    "Cells in some histological regions have larger proportions occupied by the nuclei. It is interesting to check, controlling for cell type, how cell area, nucleus area, and the proportion of cell occupied by nucleus relate to gene expression. However, a problem in performing such an analysis is that cell segmentation is only available for one z-plane here and these areas also relate to where this z-plane intersects each cell. \n",
    "\n",
    "Below we plot a 2D histogram to better show the density of points on this plot:"
   ]
  },
  {
   "cell_type": "code",
   "execution_count": null,
<<<<<<< HEAD
   "id": "0299addd",
||||||| 52c4b7c5
   "id": "8dae7176",
=======
   "id": "8b666077",
>>>>>>> documentation-devel
   "metadata": {},
   "outputs": [],
   "source": [
    "plotColDataBin2D(sfe, \"cell_area\", \"prop_nuc\") + \n",
    "    scale_fill_viridis_c()"
   ]
  },
  {
   "cell_type": "markdown",
<<<<<<< HEAD
   "id": "b4663acd",
||||||| 52c4b7c5
   "id": "6b3c7932",
=======
   "id": "83ff91ad",
>>>>>>> documentation-devel
   "metadata": {
    "lines_to_next_cell": 0
   },
   "source": [
    "Smaller cells tend to have higher proportion occupied by the nucleus. This can be related to cell type, or it could be a limitation in how small the nuclei can be in this tissue.\n",
    "\n",
    "We also examine the relationship between nucleus area and the proportion of cell occupied by the nucleus:"
   ]
  },
  {
   "cell_type": "code",
   "execution_count": null,
<<<<<<< HEAD
   "id": "d453347d",
||||||| 52c4b7c5
   "id": "db115837",
=======
   "id": "fa0600bb",
>>>>>>> documentation-devel
   "metadata": {},
   "outputs": [],
   "source": [
    "plotColDataBin2D(sfe, \"nucleus_area\", \"prop_nuc\") + \n",
    "    scale_fill_viridis_c()"
   ]
  },
  {
   "cell_type": "markdown",
<<<<<<< HEAD
   "id": "2f53a5da",
||||||| 52c4b7c5
   "id": "e41f3e16",
=======
   "id": "d62f47d4",
>>>>>>> documentation-devel
   "metadata": {
    "lines_to_next_cell": 0
   },
   "source": [
    "The outlier is obvious. There are more cells with both small nuclei and low proportion of area occupied by the nucleus.\n",
    "\n",
    "## Negative controls\n",
    "Since there are only a few hundred genes plus negative control probes, all row names of the SFE object can be printed out to find what the negative control probes are called."
   ]
  },
  {
   "cell_type": "code",
   "execution_count": null,
<<<<<<< HEAD
   "id": "ccd0db05",
||||||| 52c4b7c5
   "id": "e5ec1ec8",
=======
   "id": "08484f6f",
>>>>>>> documentation-devel
   "metadata": {},
   "outputs": [],
   "source": [
    "rownames(sfe)"
   ]
  },
  {
   "cell_type": "markdown",
<<<<<<< HEAD
   "id": "f05dcfd9",
||||||| 52c4b7c5
   "id": "f90c9868",
=======
   "id": "3c390f45",
>>>>>>> documentation-devel
   "metadata": {},
   "source": [
    "According to the Xenium paper [@Janesick2022-rp], there are 3 types of controls:\n",
    "\n",
    "> 1) probe controls to assess non-specific binding to RNA, \n",
    "2) decoding controls to assess misassigned genes, and \n",
    "3) genomic DNA (gDNA) controls to ensure the signal is from RNA.\n",
    "\n",
    "The paper does not explain in detail how those control probes were designed, nor explain what the blank probes are. But the blank probes can be used as a negative control."
   ]
  },
  {
   "cell_type": "code",
   "execution_count": null,
<<<<<<< HEAD
   "id": "fa9265e4",
||||||| 52c4b7c5
   "id": "1a3d1bd8",
=======
   "id": "72bc0c4e",
>>>>>>> documentation-devel
   "metadata": {},
   "outputs": [],
   "source": [
    "is_blank <- str_detect(rownames(sfe), \"^BLANK_\")\n",
    "sum(is_blank)"
   ]
  },
  {
   "cell_type": "markdown",
<<<<<<< HEAD
   "id": "9afd4779",
||||||| 52c4b7c5
   "id": "f485b567",
=======
   "id": "b39c0c4e",
>>>>>>> documentation-devel
   "metadata": {
    "lines_to_next_cell": 0
   },
   "source": [
    "This should be number 1, the probe control"
   ]
  },
  {
   "cell_type": "code",
   "execution_count": null,
<<<<<<< HEAD
   "id": "c76c16f4",
||||||| 52c4b7c5
   "id": "0f33b094",
=======
   "id": "a90d9e5f",
>>>>>>> documentation-devel
   "metadata": {},
   "outputs": [],
   "source": [
    "is_neg <- str_detect(rownames(sfe), \"^NegControlProbe\")\n",
    "sum(is_neg)"
   ]
  },
  {
   "cell_type": "markdown",
<<<<<<< HEAD
   "id": "3454a01e",
||||||| 52c4b7c5
   "id": "66c53394",
=======
   "id": "d89b6753",
>>>>>>> documentation-devel
   "metadata": {
    "lines_to_next_cell": 0
   },
   "source": [
    "This should be number 2, the decoding control"
   ]
  },
  {
   "cell_type": "code",
   "execution_count": null,
<<<<<<< HEAD
   "id": "8b08fc1a",
||||||| 52c4b7c5
   "id": "44765584",
=======
   "id": "cfc5bde7",
>>>>>>> documentation-devel
   "metadata": {},
   "outputs": [],
   "source": [
    "is_neg2 <- str_detect(rownames(sfe), \"^NegControlCodeword\")\n",
    "sum(is_neg2)"
   ]
  },
  {
   "cell_type": "markdown",
<<<<<<< HEAD
   "id": "66ed589a",
||||||| 52c4b7c5
   "id": "b1a3ef5f",
=======
   "id": "d326e5a0",
>>>>>>> documentation-devel
   "metadata": {
    "lines_to_next_cell": 0
   },
   "source": [
    "This must be number 3, gDNA control"
   ]
  },
  {
   "cell_type": "code",
   "execution_count": null,
<<<<<<< HEAD
   "id": "5cb49b4a",
||||||| 52c4b7c5
   "id": "14d734b9",
=======
   "id": "780b8051",
>>>>>>> documentation-devel
   "metadata": {},
   "outputs": [],
   "source": [
    "is_anti <- str_detect(rownames(sfe), \"^antisense\")\n",
    "sum(is_anti)"
   ]
  },
  {
   "cell_type": "markdown",
<<<<<<< HEAD
   "id": "d7cd52b7",
||||||| 52c4b7c5
   "id": "dbfd4d44",
=======
   "id": "0e619ec4",
>>>>>>> documentation-devel
   "metadata": {
    "lines_to_next_cell": 0
   },
   "source": [
    "Also make an indicator of whether a feature is any sort of negative control"
   ]
  },
  {
   "cell_type": "code",
   "execution_count": null,
<<<<<<< HEAD
   "id": "23a1d007",
||||||| 52c4b7c5
   "id": "a5fad6e5",
=======
   "id": "a82131f2",
>>>>>>> documentation-devel
   "metadata": {},
   "outputs": [],
   "source": [
    "is_any_neg <- is_blank | is_neg | is_neg2 | is_anti"
   ]
  },
  {
   "cell_type": "markdown",
<<<<<<< HEAD
   "id": "3e6b4148",
||||||| 52c4b7c5
   "id": "4cf0eff5",
=======
   "id": "448d2083",
>>>>>>> documentation-devel
   "metadata": {
    "lines_to_next_cell": 0
   },
   "source": [
    "The `addPerCellQCMetrics()` function in the `scuttle` package can conveniently add transcript counts, proportion of total counts, and number of features detected for any subset of features to the SCE object. Here we do this for the SFE object, as SFE inherits from SCE. "
   ]
  },
  {
   "cell_type": "code",
   "execution_count": null,
<<<<<<< HEAD
   "id": "9b42b71c",
||||||| 52c4b7c5
   "id": "0a425c6f",
=======
   "id": "a116f524",
>>>>>>> documentation-devel
   "metadata": {},
   "outputs": [],
   "source": [
    "sfe <- addPerCellQCMetrics(sfe, subsets = list(blank = is_blank,\n",
    "                                               negProbe = is_neg,\n",
    "                                               negCodeword = is_neg2,\n",
    "                                               anti = is_anti,\n",
    "                                               any_neg = is_any_neg))"
   ]
  },
  {
   "cell_type": "code",
   "execution_count": null,
<<<<<<< HEAD
   "id": "c8407b2a",
||||||| 52c4b7c5
   "id": "8eab62a7",
=======
   "id": "3a0c3d74",
>>>>>>> documentation-devel
   "metadata": {},
   "outputs": [],
   "source": [
    "names(colData(sfe))"
   ]
  },
  {
   "cell_type": "markdown",
<<<<<<< HEAD
   "id": "63540fc5",
||||||| 52c4b7c5
   "id": "38b94be2",
=======
   "id": "528d5b02",
>>>>>>> documentation-devel
   "metadata": {},
   "source": [
    "Next we plot the proportion of transcript counts coming from any negative control. "
   ]
  },
  {
   "cell_type": "code",
   "execution_count": null,
<<<<<<< HEAD
   "id": "ea17d5d1",
||||||| 52c4b7c5
   "id": "a3bc132b",
=======
   "id": "36830260",
>>>>>>> documentation-devel
   "metadata": {},
   "outputs": [],
   "source": [
    "cols_use <- names(colData(sfe))[str_detect(names(colData(sfe)), \"_percent$\")]\n",
    "plotColDataHistogram(sfe, cols_use, bins = 100, ncol = 3)"
   ]
  },
  {
   "cell_type": "markdown",
<<<<<<< HEAD
   "id": "b1bd3038",
||||||| 52c4b7c5
   "id": "c066e2d5",
=======
   "id": "972f6add",
>>>>>>> documentation-devel
   "metadata": {
    "lines_to_next_cell": 0
   },
   "source": [
    "The histogram is dominated by the bin at zero and there are some extreme outliers too few to be seen but evident from the scale of the x axis. We also plot the histogram only for cells with at least 1 count from a negative control. The NA's come from cells that got segmented but have no transcripts detected."
   ]
  },
  {
   "cell_type": "code",
   "execution_count": null,
<<<<<<< HEAD
   "id": "e131ac8b",
||||||| 52c4b7c5
   "id": "9a5b4f26",
=======
   "id": "fec4e4ef",
>>>>>>> documentation-devel
   "metadata": {},
   "outputs": [],
   "source": [
    "plotColDataHistogram(sfe, cols_use, bins = 100, ncol = 3) + \n",
    "    scale_x_log10() +\n",
    "    annotation_logticks(sides = \"b\")"
   ]
  },
  {
   "cell_type": "markdown",
<<<<<<< HEAD
   "id": "539631e1",
||||||| 52c4b7c5
   "id": "3a1a85da",
=======
   "id": "f2d2dd8d",
>>>>>>> documentation-devel
   "metadata": {
    "lines_to_next_cell": 0
   },
   "source": [
    "The vast majority of these cells have less than 1% of transcript counts from negative controls, but there are outliers with up to 50%. \n",
    "\n",
    "Next we plot the distribution of the number of negative control counts per cell:"
   ]
  },
  {
   "cell_type": "code",
   "execution_count": null,
<<<<<<< HEAD
   "id": "2cfcface",
||||||| 52c4b7c5
   "id": "e0c75f06",
=======
   "id": "03b03cc1",
>>>>>>> documentation-devel
   "metadata": {},
   "outputs": [],
   "source": [
    "cols_use2 <- names(colData(sfe))[str_detect(names(colData(sfe)), \"_detected$\")]\n",
    "plotColDataHistogram(sfe, cols_use2, bins = 20, ncol = 3) +\n",
    "    # Avoid decimal breaks on x axis unless there're too few breaks\n",
    "    scale_x_continuous(breaks = scales::breaks_extended(Q = c(1,2,5)))"
   ]
  },
  {
   "cell_type": "markdown",
<<<<<<< HEAD
   "id": "467880ee",
||||||| 52c4b7c5
   "id": "e21c641f",
=======
   "id": "04729eb2",
>>>>>>> documentation-devel
   "metadata": {},
   "source": [
    "The counts are low, mostly zero, but there are outliers with up to 10 counts of all types aggregated. Then the outlier with 50% of counts from negative controls must have very low total real transcript counts to begin with.\n",
    "\n",
    "The `scuttle` package can detect outliers, but by default it assigns anything above zero as an outlier, since that is over 3 median absolute deviations (MADs) away from the median, which is 0, and the MAD is 0 since the vast majority of cells don't have any negative control count. But it makes sense to allow a small proportion of negative controls. Here we use the distribution just for cells with at least 1 negative control count to find outliers. This distribution has a very long tail and some definite outliers.\n",
    "\n",
    "The code below extracts the outliers, based only on cells with at least one negative control count"
   ]
  },
  {
   "cell_type": "code",
   "execution_count": null,
<<<<<<< HEAD
   "id": "3c50a517",
||||||| 52c4b7c5
   "id": "5484f7d5",
=======
   "id": "bf694538",
>>>>>>> documentation-devel
   "metadata": {},
   "outputs": [],
   "source": [
    "get_neg_ctrl_outliers <- function(col, sfe) {\n",
    "    inds <- colData(sfe)$nCounts > 0 & colData(sfe)[[col]] > 0\n",
    "    df <- colData(sfe)[inds,]\n",
    "    outlier_inds <- isOutlier(df[[col]], type = \"higher\")\n",
    "    outliers <- rownames(df)[outlier_inds]\n",
    "    col2 <- str_remove(col, \"^subsets_\")\n",
    "    col2 <- str_remove(col2, \"_percent$\")\n",
    "    new_colname <- paste(\"is\", col2, \"outlier\", sep = \"_\")\n",
    "    colData(sfe)[[new_colname]] <- colnames(sfe) %in% outliers\n",
    "    sfe\n",
    "}"
   ]
  },
  {
   "cell_type": "code",
   "execution_count": null,
<<<<<<< HEAD
   "id": "70482c5e",
||||||| 52c4b7c5
   "id": "1db48a6f",
=======
   "id": "98fcfb10",
>>>>>>> documentation-devel
   "metadata": {},
   "outputs": [],
   "source": [
    "cols_use <- names(colData(sfe))[str_detect(names(colData(sfe)), \"_percent$\")]\n",
    "for (n in cols_use) {\n",
    "    sfe <- get_neg_ctrl_outliers(n, sfe)\n",
    "}"
   ]
  },
  {
   "cell_type": "code",
   "execution_count": null,
<<<<<<< HEAD
   "id": "eabc1697",
||||||| 52c4b7c5
   "id": "367b3281",
=======
   "id": "fcf2e5e8",
>>>>>>> documentation-devel
   "metadata": {},
   "outputs": [],
   "source": [
    "names(colData(sfe))"
   ]
  },
  {
   "cell_type": "markdown",
<<<<<<< HEAD
   "id": "42a8e431",
||||||| 52c4b7c5
   "id": "721d72b0",
=======
   "id": "5ab1f31a",
>>>>>>> documentation-devel
   "metadata": {
    "lines_to_next_cell": 0
   },
   "source": [
    "Below we examine where the outliers are located in space:"
   ]
  },
  {
   "cell_type": "code",
   "execution_count": null,
<<<<<<< HEAD
   "id": "6207cad2",
||||||| 52c4b7c5
   "id": "27240368",
=======
   "id": "08b4130f",
>>>>>>> documentation-devel
   "metadata": {},
   "outputs": [],
   "source": [
    "plotSpatialFeature(sfe, \"is_blank_outlier\", colGeometryName = \"cellSeg\")"
   ]
  },
  {
   "cell_type": "markdown",
<<<<<<< HEAD
   "id": "87ad19c5",
||||||| 52c4b7c5
   "id": "c2600b40",
=======
   "id": "408ade5a",
>>>>>>> documentation-devel
   "metadata": {
    "lines_to_next_cell": 0
   },
   "source": [
    "We find that the outliers are difficult to see:"
   ]
  },
  {
   "cell_type": "code",
   "execution_count": null,
<<<<<<< HEAD
   "id": "06dda5d2",
||||||| 52c4b7c5
   "id": "63ba5ebf",
=======
   "id": "7409120a",
>>>>>>> documentation-devel
   "metadata": {},
   "outputs": [],
   "source": [
    "plotColData(sfe, y = \"is_blank_outlier\", x = \"cell_area\", \n",
    "            point_fun = function(...) list()) "
   ]
  },
  {
   "cell_type": "markdown",
<<<<<<< HEAD
   "id": "10be2897",
||||||| 52c4b7c5
   "id": "61503b40",
=======
   "id": "4bce5727",
>>>>>>> documentation-devel
   "metadata": {
    "lines_to_next_cell": 0
   },
   "source": [
    "The analysis reveals that the outliers seem to be smaller. Outliers for negative probe controls and negative codeword controls are also hard to see on the plot, so their plots are skipped here. But the top left region in the tissue tends to have more counts from antisense controls. "
   ]
  },
  {
   "cell_type": "code",
   "execution_count": null,
<<<<<<< HEAD
   "id": "4be4bef1",
||||||| 52c4b7c5
   "id": "52310a11",
=======
   "id": "21bfbaea",
>>>>>>> documentation-devel
   "metadata": {},
   "outputs": [],
   "source": [
    "plotSpatialFeature(sfe, \"is_anti_outlier\", colGeometryName = \"cellSeg\")"
   ]
  },
  {
   "cell_type": "markdown",
<<<<<<< HEAD
   "id": "155344c3",
||||||| 52c4b7c5
   "id": "8e16949a",
=======
   "id": "0e64c2da",
>>>>>>> documentation-devel
   "metadata": {},
   "source": [
    "Now that we have identified the outliers, we can remove them along with empty cells before proceeding to further analysis:"
   ]
  },
  {
   "cell_type": "code",
   "execution_count": null,
<<<<<<< HEAD
   "id": "391dbfb8",
||||||| 52c4b7c5
   "id": "d9f34536",
=======
   "id": "6dfab87e",
>>>>>>> documentation-devel
   "metadata": {},
   "outputs": [],
   "source": [
    "inds_keep <- sfe$nCounts > 0 & sfe$nucleus_area < 400 & !sfe$is_anti_outlier &\n",
    "    !sfe$is_blank_outlier & !sfe$is_negCodeword_outlier & !sfe$is_negProbe_outlier\n",
    "(sfe <- sfe[,inds_keep])"
   ]
  },
  {
   "cell_type": "markdown",
<<<<<<< HEAD
   "id": "4f9ed8cb",
||||||| 52c4b7c5
   "id": "3f6840e9",
=======
   "id": "6bbcac91",
>>>>>>> documentation-devel
   "metadata": {
    "lines_to_next_cell": 0
   },
   "source": [
    "Over 1000 cells were removed. \n",
    "\n",
    "Next we check how many negative control features are detected per cell:"
   ]
  },
  {
   "cell_type": "code",
   "execution_count": null,
<<<<<<< HEAD
   "id": "e0dbe819",
||||||| 52c4b7c5
   "id": "53308161",
=======
   "id": "a76d66e3",
>>>>>>> documentation-devel
   "metadata": {},
   "outputs": [],
   "source": [
    "plotColDataHistogram(sfe, cols_use2, bins = 20, ncol = 3) +\n",
    "    # Avoid decimal breaks on x axis unless there're too few breaks\n",
    "    scale_x_continuous(breaks = scales::breaks_extended(3, Q = c(1,2,5)))"
   ]
  },
  {
   "cell_type": "markdown",
<<<<<<< HEAD
   "id": "9e567e1e",
||||||| 52c4b7c5
   "id": "5ee3d148",
=======
   "id": "dec580d8",
>>>>>>> documentation-devel
   "metadata": {
    "lines_to_next_cell": 0
   },
   "source": [
    "There are at most 3 counts per cell per type. For the non-outliers, each type is at most around 1%, so this data looks good. \n",
    "\n",
    "## Genes\n",
    "Here we look at the mean and variance of each gene"
   ]
  },
  {
   "cell_type": "code",
   "execution_count": null,
<<<<<<< HEAD
   "id": "4e4a6983",
||||||| 52c4b7c5
   "id": "9dfdf83b",
=======
   "id": "94a18828",
>>>>>>> documentation-devel
   "metadata": {},
   "outputs": [],
   "source": [
    "rowData(sfe)$means <- rowMeans(counts(sfe))\n",
    "rowData(sfe)$vars <- rowVars(counts(sfe))"
   ]
  },
  {
   "cell_type": "markdown",
<<<<<<< HEAD
   "id": "86f55aec",
||||||| 52c4b7c5
   "id": "3c1d7eba",
=======
   "id": "07240af4",
>>>>>>> documentation-devel
   "metadata": {
    "lines_to_next_cell": 0
   },
   "source": [
    "Real genes generally have higher mean expression across cells than negative controls."
   ]
  },
  {
   "cell_type": "code",
   "execution_count": null,
<<<<<<< HEAD
   "id": "e7a8649b",
||||||| 52c4b7c5
   "id": "1e93c409",
=======
   "id": "d7b878c5",
>>>>>>> documentation-devel
   "metadata": {},
   "outputs": [],
   "source": [
    "rowData(sfe)$is_neg <- is_any_neg\n",
    "plotRowData(sfe, x = \"means\", y = \"is_neg\") +\n",
    "    scale_y_log10() +\n",
    "    annotation_logticks(sides = \"b\")"
   ]
  },
  {
   "cell_type": "markdown",
<<<<<<< HEAD
   "id": "0c8113c6",
||||||| 52c4b7c5
   "id": "89c6d0d2",
=======
   "id": "77fd053d",
>>>>>>> documentation-devel
   "metadata": {
    "lines_to_next_cell": 0
   },
   "source": [
    "Here the real genes and negative controls are plotted in different colors"
   ]
  },
  {
   "cell_type": "code",
   "execution_count": null,
<<<<<<< HEAD
   "id": "051f554e",
||||||| 52c4b7c5
   "id": "550c502f",
=======
   "id": "1d0639cb",
>>>>>>> documentation-devel
   "metadata": {},
   "outputs": [],
   "source": [
    "plotRowDataBin2D(sfe, \"means\", \"vars\", subset = \"is_neg\", \n",
    "                 name_true = \"Counts (negative controls)\", \n",
    "                 name_false = \"Counts (real genes)\", bins = 50) +\n",
    "    geom_abline(slope = 1, intercept = 0, color = \"red\") +\n",
    "    scale_x_log10() + scale_y_log10() +\n",
    "    annotation_logticks() +\n",
    "    coord_equal()"
   ]
  },
  {
   "cell_type": "markdown",
<<<<<<< HEAD
   "id": "7f0f9293",
||||||| 52c4b7c5
   "id": "b25b5c80",
=======
   "id": "1a33afcf",
>>>>>>> documentation-devel
   "metadata": {},
   "source": [
    "The red line $y = x$ is expected if the data follows a Poisson distribution. Negative controls and real genes form mostly separate clusters. Negative controls stick close to the line, while real genes are overdispersed. Unlike in the [CosMX dataset](https://pachterlab.github.io/voyager/articles/vig4_cosmx.html#genes), the negative controls don't seem overdispersed.\n",
    "\n",
    "# Spatial autocorrelation of QC metrics\n",
    "\n",
    "There's a sparse and a dense region. This poses the question of what type of neighborhood graph to use, e.g. it is conceivable that cells in the sparse region should just be singletons. Furthermore, it is unclear what the length scale of their influence might be. It might depend on the cell type and how contact and secreted signals are used in the cell type, and length scale of the influence. If k nearest neighbors are used, then the neighbors in the dense region are much closer together than those in the sparse region. If distance based neighbors are used, then cells in the dense region will have more neighbors than cells in the sparse region, and the sparse region can break into multiple compartments if the distance cutoff is not long enough. \n",
    "\n",
    "For the purpose of demonstration, we use k nearest neighbors with $k = 5$, with inverse distance weighting. Note that using more neighbors leads to longer computation time of spatial autocorrelation metrics."
   ]
  },
  {
   "cell_type": "code",
   "execution_count": null,
<<<<<<< HEAD
   "id": "93de2fdf",
||||||| 52c4b7c5
   "id": "2842869f",
=======
   "id": "69817344",
>>>>>>> documentation-devel
   "metadata": {},
   "outputs": [],
   "source": [
    "system.time(\n",
    "    colGraph(sfe, \"knn5\") <- findSpatialNeighbors(sfe, method = \"knearneigh\", \n",
    "                                                  dist_type = \"idw\", k = 5, \n",
    "                                                  style = \"W\")\n",
    ")"
   ]
  },
  {
   "cell_type": "code",
   "execution_count": null,
<<<<<<< HEAD
   "id": "2dfbb3ef",
||||||| 52c4b7c5
   "id": "7b91d9d1",
=======
   "id": "bcd19856",
>>>>>>> documentation-devel
   "metadata": {},
   "outputs": [],
   "source": [
    "sfe <- colDataMoransI(sfe, c(\"nCounts\", \"nGenes\", \"cell_area\", \"nucleus_area\"),\n",
    "                      colGraphName = \"knn5\")"
   ]
  },
  {
   "cell_type": "code",
   "execution_count": null,
<<<<<<< HEAD
   "id": "220fd87d",
||||||| 52c4b7c5
   "id": "27771d34",
=======
   "id": "12ea51c8",
>>>>>>> documentation-devel
   "metadata": {},
   "outputs": [],
   "source": [
    "colFeatureData(sfe)[c(\"nCounts\", \"nGenes\", \"cell_area\", \"nucleus_area\"),]"
   ]
  },
  {
   "cell_type": "markdown",
<<<<<<< HEAD
   "id": "d6ad0170",
||||||| 52c4b7c5
   "id": "da44b163",
=======
   "id": "028d3ddd",
>>>>>>> documentation-devel
   "metadata": {},
   "source": [
    "Global Moran's I indicatse positive spatial autocorrelation. As the strength of spatial autocorrelation can vary spatially, we also run local Moran's I."
   ]
  },
  {
   "cell_type": "code",
   "execution_count": null,
<<<<<<< HEAD
   "id": "e2675e7f",
||||||| 52c4b7c5
   "id": "3a6401ed",
=======
   "id": "63be034c",
>>>>>>> documentation-devel
   "metadata": {},
   "outputs": [],
   "source": [
    "sfe <- colDataUnivariate(sfe, type = \"localmoran\", \n",
    "                         features = c(\"nCounts\", \"nGenes\", \"cell_area\", \n",
    "                                      \"nucleus_area\"),\n",
    "                         colGraphName = \"knn5\", BPPARAM = MulticoreParam(2))"
   ]
  },
  {
   "cell_type": "markdown",
<<<<<<< HEAD
   "id": "ccfa15e1",
||||||| 52c4b7c5
   "id": "239d008f",
=======
   "id": "5ad623d9",
>>>>>>> documentation-devel
   "metadata": {
    "lines_to_next_cell": 0
   },
   "source": [
    "The `pointsize` argument adjusts the point size in `scattermore`. The default is 0, meaning single pixels, but since the cells in the sparse region are hard to see that way, we increase `pointsize`. We would still plot the polygons in larger single panel plots, but use `scattermore` in multi-panel plots where the polygons in each panel are invisible anyway due to the small size to save some time."
   ]
  },
  {
   "cell_type": "code",
   "execution_count": null,
<<<<<<< HEAD
   "id": "2af3fb2f",
||||||| 52c4b7c5
   "id": "90bc5fee",
=======
   "id": "cb7d0383",
>>>>>>> documentation-devel
   "metadata": {
    "fig.height": 6,
    "fig.width": 9
   },
   "outputs": [],
   "source": [
    "plotLocalResult(sfe, \"localmoran\",\n",
    "                features = c(\"nCounts\", \"nGenes\", \"cell_area\", \"nucleus_area\"),\n",
    "                colGeometryName = \"centroids\", scattermore = TRUE,\n",
    "                divergent = TRUE, diverge_center = 0, pointsize = 1)"
   ]
  },
  {
   "cell_type": "markdown",
<<<<<<< HEAD
   "id": "89f166a9",
||||||| 52c4b7c5
   "id": "e83deff8",
=======
   "id": "5d718665",
>>>>>>> documentation-devel
   "metadata": {
    "lines_to_next_cell": 0
   },
   "source": [
    "Interestingly, nCounts is more homogeneous in the interior of the dense region, while nGenes is more homogeneous by the edge of the dense region. As expected, cell area is more homogeneous in the sparse region. However, the nucleus area is more homogeneous in the interior of the dense region. \n",
    "\n",
    "Moran plot for nCounts"
   ]
  },
  {
   "cell_type": "code",
   "execution_count": null,
<<<<<<< HEAD
   "id": "05fece63",
||||||| 52c4b7c5
   "id": "ed996230",
=======
   "id": "d29ff6f3",
>>>>>>> documentation-devel
   "metadata": {},
   "outputs": [],
   "source": [
    "sfe <- colDataUnivariate(sfe, \"moran.plot\", \"nCounts\", colGraphName = \"knn5\")"
   ]
  },
  {
   "cell_type": "code",
   "execution_count": null,
<<<<<<< HEAD
   "id": "59bb6a7c",
||||||| 52c4b7c5
   "id": "b3829fa9",
=======
   "id": "116758c0",
>>>>>>> documentation-devel
   "metadata": {
    "fig.height": 7,
    "fig.width": 8
   },
   "outputs": [],
   "source": [
    "p1 <- moranPlot(sfe, \"nCounts\", binned = TRUE, plot_influential = FALSE) \n",
    "p2 <- moranPlot(sfe, \"nCounts\", binned = TRUE)\n",
    "p1 / p2 + plot_layout(guides = \"collect\")"
   ]
  },
  {
   "cell_type": "markdown",
<<<<<<< HEAD
   "id": "4646b80c",
||||||| 52c4b7c5
   "id": "6eadbf70",
=======
   "id": "4636a620",
>>>>>>> documentation-devel
   "metadata": {},
   "source": [
    "There are no obvious clusters here. In the lower panel, the 2D histogram of influential points is plotted in red.\n",
    "\n",
    "# Moran's I\n",
    "\n",
    "By default, for gene expression, the log normalized counts are used in spatial autocorrelation metrics, so before running Moran's I, we normalize the data."
   ]
  },
  {
   "cell_type": "code",
   "execution_count": null,
<<<<<<< HEAD
   "id": "c45f8908",
||||||| 52c4b7c5
   "id": "6b526a44",
=======
   "id": "f9b24b0b",
>>>>>>> documentation-devel
   "metadata": {},
   "outputs": [],
   "source": [
    "sfe <- logNormCounts(sfe)"
   ]
  },
  {
   "cell_type": "markdown",
<<<<<<< HEAD
   "id": "9a287c0c",
||||||| 52c4b7c5
   "id": "8ec4fafc",
=======
   "id": "537a9582",
>>>>>>> documentation-devel
   "metadata": {
    "lines_to_next_cell": 0
   },
   "source": [
    "Use more cores if available to speed this up."
   ]
  },
  {
   "cell_type": "code",
   "execution_count": null,
<<<<<<< HEAD
   "id": "efc1a524",
||||||| 52c4b7c5
   "id": "d595591b",
=======
   "id": "8d1eb6f8",
>>>>>>> documentation-devel
   "metadata": {},
   "outputs": [],
   "source": [
    "system.time(\n",
    "    sfe <- runMoransI(sfe, colGraphName = \"knn5\", BPPARAM = MulticoreParam(2))\n",
    ")"
   ]
  },
  {
   "cell_type": "code",
   "execution_count": null,
<<<<<<< HEAD
   "id": "852ced0e",
||||||| 52c4b7c5
   "id": "e150a0c5",
=======
   "id": "3a3d1139",
>>>>>>> documentation-devel
   "metadata": {},
   "outputs": [],
   "source": [
    "rowData(sfe)$is_neg <- is_any_neg"
   ]
  },
  {
   "cell_type": "code",
   "execution_count": null,
<<<<<<< HEAD
   "id": "2d63537a",
||||||| 52c4b7c5
   "id": "6a495140",
=======
   "id": "234bfdd2",
>>>>>>> documentation-devel
   "metadata": {},
   "outputs": [],
   "source": [
    "plotRowData(sfe, x = \"moran_sample01\", y = \"is_neg\")"
   ]
  },
  {
   "cell_type": "markdown",
<<<<<<< HEAD
   "id": "a9d2e63c",
||||||| 52c4b7c5
   "id": "c2ae1a61",
=======
   "id": "44f60557",
>>>>>>> documentation-devel
   "metadata": {
    "lines_to_next_cell": 0
   },
   "source": [
    "As expected, generally the negative controls are tightly clustered around 0, while the real genes have positive Moran's I, which means there is generally no technical artifact spatial trend. No significantly negative Moran's I is observed. Why is negative spatial autocorrelation so rare in gene expression?\n",
    "\n",
    "What are the two negative controls with a sizable Moran's I?"
   ]
  },
  {
   "cell_type": "code",
   "execution_count": null,
<<<<<<< HEAD
   "id": "a2329037",
||||||| 52c4b7c5
   "id": "100c705b",
=======
   "id": "aab11a0e",
>>>>>>> documentation-devel
   "metadata": {
    "fig.height": 3,
    "fig.width": 9
   },
   "outputs": [],
   "source": [
    "ord <- order(rowData(sfe)$moran_sample01[is_any_neg], decreasing = TRUE)[1:2]\n",
    "top_neg <- rownames(sfe)[is_any_neg][ord]\n",
    "plotSpatialFeature(sfe, top_neg, colGeometryName = \"centroids\",\n",
    "                   scattermore = TRUE, pointsize = 1)"
   ]
  },
  {
   "cell_type": "markdown",
<<<<<<< HEAD
   "id": "16ad10d7",
||||||| 52c4b7c5
   "id": "e11553be",
=======
   "id": "22dc80e3",
>>>>>>> documentation-devel
   "metadata": {
    "lines_to_next_cell": 0
   },
   "source": [
    "There is somewhat a spatial trend for that antisense probe, with more detected in the upper left. However, this might not significantly affect other results since there are at most 2 counts and at most about 1% of all counts in each cell. The negative control codeword has at most 1 count per cell and the cells with this negative control detected seem to be few and far between. \n",
    "\n",
    "These are the most detected negative controls, and the most detected one is also the one with the highest Moran's I among negative controls. However, the other negative control with higher Moran's I is not among the most detected."
   ]
  },
  {
   "cell_type": "code",
   "execution_count": null,
<<<<<<< HEAD
   "id": "59fe2057",
||||||| 52c4b7c5
   "id": "9f75b385",
=======
   "id": "a1128259",
>>>>>>> documentation-devel
   "metadata": {},
   "outputs": [],
   "source": [
    "head(sort(rowData(sfe)$means[is_any_neg], decreasing = TRUE), 15)"
   ]
  },
  {
   "cell_type": "markdown",
<<<<<<< HEAD
   "id": "b90b1e9e",
||||||| 52c4b7c5
   "id": "c6e5ec4d",
=======
   "id": "72bc50b9",
>>>>>>> documentation-devel
   "metadata": {
    "lines_to_next_cell": 0
   },
   "source": [
    "What are the genes with the highest Moran's I?"
   ]
  },
  {
   "cell_type": "code",
   "execution_count": null,
<<<<<<< HEAD
   "id": "bb628fb6",
||||||| 52c4b7c5
   "id": "9cec4e10",
=======
   "id": "e081588f",
>>>>>>> documentation-devel
   "metadata": {
    "fig.height": 9,
    "fig.width": 9
   },
   "outputs": [],
   "source": [
    "top_moran <- rownames(sfe)[order(rowData(sfe)$moran_sample01, decreasing = TRUE)[1:6]]\n",
    "plotSpatialFeature(sfe, top_moran, colGeometryName = \"centroids\",\n",
    "                   scattermore = TRUE, ncol = 2, pointsize = 0.5)"
   ]
  },
  {
   "cell_type": "markdown",
<<<<<<< HEAD
   "id": "5073c97b",
||||||| 52c4b7c5
   "id": "cefaee06",
=======
   "id": "476a9096",
>>>>>>> documentation-devel
   "metadata": {
    "lines_to_next_cell": 0
   },
   "source": [
    "They all highlight the same histological regions, as in the [CosMX vignette](https://pachterlab.github.io/voyager/articles/vig4_cosmx.html#morans-i). How does Moran's I relate to gene expression level?"
   ]
  },
  {
   "cell_type": "code",
   "execution_count": null,
<<<<<<< HEAD
   "id": "1875cbae",
||||||| 52c4b7c5
   "id": "de3c2e65",
=======
   "id": "593aa8be",
>>>>>>> documentation-devel
   "metadata": {},
   "outputs": [],
   "source": [
    "plotRowData(sfe, x = \"means\", y = \"moran_sample01\")"
   ]
  },
  {
   "cell_type": "markdown",
<<<<<<< HEAD
   "id": "e43a328e",
||||||| 52c4b7c5
   "id": "f5fd1d35",
=======
   "id": "24334f69",
>>>>>>> documentation-devel
   "metadata": {
    "lines_to_next_cell": 0
   },
   "source": [
    "Very highly expressed genes have higher Moran's I, but there are some less expressed genes with higher Moran's I as well.\n",
    "\n",
    "# Non-spatial dimension reduction and clustering\n",
    "\n",
    "Here we run non-spatial PCA as for scRNA-seq data"
   ]
  },
  {
   "cell_type": "code",
   "execution_count": null,
<<<<<<< HEAD
   "id": "8f5a5da0",
||||||| 52c4b7c5
   "id": "d7b4ffb9",
=======
   "id": "0311f960",
>>>>>>> documentation-devel
   "metadata": {},
   "outputs": [],
   "source": [
    "set.seed(29)\n",
    "sfe <- runPCA(sfe, ncomponents = 30, scale = TRUE, BSPARAM = IrlbaParam())"
   ]
  },
  {
   "cell_type": "code",
   "execution_count": null,
<<<<<<< HEAD
   "id": "640ab31d",
||||||| 52c4b7c5
   "id": "f88fcedf",
=======
   "id": "37de0fe9",
>>>>>>> documentation-devel
   "metadata": {},
   "outputs": [],
   "source": [
    "ElbowPlot(sfe, ndims = 30)"
   ]
  },
  {
   "cell_type": "code",
   "execution_count": null,
<<<<<<< HEAD
   "id": "20ba52c4",
||||||| 52c4b7c5
   "id": "256b7e0d",
=======
   "id": "9157aff2",
>>>>>>> documentation-devel
   "metadata": {},
   "outputs": [],
   "source": [
    "plotDimLoadings(sfe, dims = 1:6)"
   ]
  },
  {
   "cell_type": "code",
   "execution_count": null,
<<<<<<< HEAD
   "id": "cdfb014a",
||||||| 52c4b7c5
   "id": "b837ff64",
=======
   "id": "e1ed5301",
>>>>>>> documentation-devel
   "metadata": {
    "fig.height": 9,
    "fig.width": 9
   },
   "outputs": [],
   "source": [
    "spatialReducedDim(sfe, \"PCA\", 6, colGeometryName = \"centroids\", divergent = TRUE,\n",
    "                  diverge_center = 0, ncol = 2, scattermore = TRUE, pointsize = 0.5)"
   ]
  },
  {
   "cell_type": "markdown",
<<<<<<< HEAD
   "id": "7f811eff",
||||||| 52c4b7c5
   "id": "3598b7f2",
=======
   "id": "e8f3a645",
>>>>>>> documentation-devel
   "metadata": {
    "lines_to_next_cell": 0
   },
   "source": [
    "While spatial region is not explicitly used, the PC's highlight spatial regions due to spatial autocorrelation in gene expression and histological regions with different cell types.\n",
    "\n",
    "Non-spatial clustering and locating the clusters in space"
   ]
  },
  {
   "cell_type": "code",
   "execution_count": null,
<<<<<<< HEAD
   "id": "5ecdb1ba",
||||||| 52c4b7c5
   "id": "0c632c83",
=======
   "id": "d777297c",
>>>>>>> documentation-devel
   "metadata": {},
   "outputs": [],
   "source": [
    "colData(sfe)$cluster <- clusterRows(reducedDim(sfe, \"PCA\")[,1:15],\n",
    "                                    BLUSPARAM = SNNGraphParam(\n",
    "                                        cluster.fun = \"leiden\",\n",
    "                                        cluster.args = list(\n",
    "                                            resolution_parameter = 0.5,\n",
    "                                            objective_function = \"modularity\")))"
   ]
  },
  {
   "cell_type": "markdown",
<<<<<<< HEAD
   "id": "faddaaa0",
||||||| 52c4b7c5
   "id": "f406d8e6",
=======
   "id": "93fdf1fc",
>>>>>>> documentation-devel
   "metadata": {
    "lines_to_next_cell": 0
   },
   "source": [
    "Now the `scater` can also rasterize the plots with lots of points with the `rasterise` argument, but with a different mechanism from `scattermore` that requires more system dependencies. "
   ]
  },
  {
   "cell_type": "code",
   "execution_count": null,
<<<<<<< HEAD
   "id": "c3ee7172",
||||||| 52c4b7c5
   "id": "09cfb10d",
=======
   "id": "422705fa",
>>>>>>> documentation-devel
   "metadata": {
    "fig.height": 8,
    "fig.width": 8
   },
   "outputs": [],
   "source": [
    "plotPCA(sfe, ncomponents = 4, colour_by = \"cluster\", rasterise = FALSE)"
   ]
  },
  {
   "cell_type": "markdown",
<<<<<<< HEAD
   "id": "75e42d6a",
||||||| 52c4b7c5
   "id": "f306cb23",
=======
   "id": "b86c759b",
>>>>>>> documentation-devel
   "metadata": {
    "lines_to_next_cell": 0
   },
   "source": [
    "Plot the location of the clusters in space"
   ]
  },
  {
   "cell_type": "code",
   "execution_count": null,
<<<<<<< HEAD
   "id": "f552f03f",
||||||| 52c4b7c5
   "id": "1c069bee",
=======
   "id": "43af1c77",
>>>>>>> documentation-devel
   "metadata": {},
   "outputs": [],
   "source": [
    "plotSpatialFeature(sfe, \"cluster\", colGeometryName = \"cellSeg\")"
   ]
  },
  {
   "cell_type": "markdown",
<<<<<<< HEAD
   "id": "e7329f21",
||||||| 52c4b7c5
   "id": "e0351794",
=======
   "id": "909f8f05",
>>>>>>> documentation-devel
   "metadata": {
    "lines_to_next_cell": 0
   },
   "source": [
    "# Differential expression\n",
    "Cluster marker genes are found with Wilcoxon rank sum test as commonly done for scRNA-seq."
   ]
  },
  {
   "cell_type": "code",
   "execution_count": null,
<<<<<<< HEAD
   "id": "90c75618",
||||||| 52c4b7c5
   "id": "eac7a7b4",
=======
   "id": "1cf49faf",
>>>>>>> documentation-devel
   "metadata": {},
   "outputs": [],
   "source": [
    "markers <- findMarkers(sfe, groups = colData(sfe)$cluster,\n",
    "                       test.type = \"wilcox\", pval.type = \"all\", direction = \"up\")"
   ]
  },
  {
   "cell_type": "markdown",
<<<<<<< HEAD
   "id": "19cceb90",
||||||| 52c4b7c5
   "id": "9c0e32f6",
=======
   "id": "936bbced",
>>>>>>> documentation-devel
   "metadata": {
    "lines_to_next_cell": 0
   },
   "source": [
    "It's already sorted by p-values:"
   ]
  },
  {
   "cell_type": "code",
   "execution_count": null,
<<<<<<< HEAD
   "id": "19046422",
||||||| 52c4b7c5
   "id": "c6a73303",
=======
   "id": "3e53f63c",
>>>>>>> documentation-devel
   "metadata": {},
   "outputs": [],
   "source": [
    "markers[[6]]"
   ]
  },
  {
   "cell_type": "markdown",
<<<<<<< HEAD
   "id": "ff3f7df3",
||||||| 52c4b7c5
   "id": "e29008c4",
=======
   "id": "dc36794c",
>>>>>>> documentation-devel
   "metadata": {
    "lines_to_next_cell": 0
   },
   "source": [
    "The code below extracts the significant markers for each cluster:"
   ]
  },
  {
   "cell_type": "code",
   "execution_count": null,
<<<<<<< HEAD
   "id": "c3572d41",
||||||| 52c4b7c5
   "id": "fc75f1cc",
=======
   "id": "d0403e0c",
>>>>>>> documentation-devel
   "metadata": {},
   "outputs": [],
   "source": [
    "genes_use <- vapply(markers, function(x) rownames(x)[1], FUN.VALUE = character(1))\n",
    "plotExpression(sfe, genes_use, x = \"cluster\", point_fun = function(...) list())"
   ]
  },
  {
   "cell_type": "markdown",
<<<<<<< HEAD
   "id": "19c40ee5",
||||||| 52c4b7c5
   "id": "4758b99d",
=======
   "id": "45df794f",
>>>>>>> documentation-devel
   "metadata": {
    "lines_to_next_cell": 0
   },
   "source": [
    "This allows for plotting more top marker genes in a heatmap:"
   ]
  },
  {
   "cell_type": "code",
   "execution_count": null,
<<<<<<< HEAD
   "id": "40e1f81d",
||||||| 52c4b7c5
   "id": "822e59de",
=======
   "id": "95e67cbb",
>>>>>>> documentation-devel
   "metadata": {
    "fig.height": 8,
    "fig.width": 6
   },
   "outputs": [],
   "source": [
    "genes_use2 <- unique(unlist(lapply(markers, function(x) rownames(x)[1:5])))\n",
    "plotGroupedHeatmap(sfe, genes_use2, group = \"cluster\", colour = scales::viridis_pal()(100))"
   ]
  },
  {
   "cell_type": "markdown",
<<<<<<< HEAD
   "id": "07901c49",
||||||| 52c4b7c5
   "id": "b04bba5a",
=======
   "id": "91c98ea4",
>>>>>>> documentation-devel
   "metadata": {
    "lines_to_next_cell": 0
   },
   "source": [
    "# Local spatial statistics of marker genes\n",
    "\n",
    "First we plot those genes in space as a reference"
   ]
  },
  {
   "cell_type": "code",
   "execution_count": null,
<<<<<<< HEAD
   "id": "9bbd8e87",
||||||| 52c4b7c5
   "id": "c42a4618",
=======
   "id": "080c212e",
>>>>>>> documentation-devel
   "metadata": {
    "fig.height": 9,
    "fig.width": 9
   },
   "outputs": [],
   "source": [
    "plotSpatialFeature(sfe, genes_use, colGeometryName = \"centroids\", ncol = 3,\n",
    "                   pointsize = 0.3, scattermore = TRUE)"
   ]
  },
  {
   "cell_type": "markdown",
<<<<<<< HEAD
   "id": "56b42888",
||||||| 52c4b7c5
   "id": "bb386004",
=======
   "id": "f20058cc",
>>>>>>> documentation-devel
   "metadata": {},
   "source": [
    "Global Moran's I of these marker genes is shown below:"
   ]
  },
  {
   "cell_type": "code",
   "execution_count": null,
<<<<<<< HEAD
   "id": "114da549",
||||||| 52c4b7c5
   "id": "a9cf2ed1",
=======
   "id": "9b93da8f",
>>>>>>> documentation-devel
   "metadata": {},
   "outputs": [],
   "source": [
    "setNames(rowData(sfe)[genes_use, \"moran_sample01\"], genes_use)"
   ]
  },
  {
   "cell_type": "markdown",
<<<<<<< HEAD
   "id": "7ad3ae16",
||||||| 52c4b7c5
   "id": "893d4b0b",
=======
   "id": "17e02a0d",
>>>>>>> documentation-devel
   "metadata": {
    "lines_to_next_cell": 0
   },
   "source": [
    "All these marker genes have positive spatial autocorrelation, but some stronger than others.\n",
    "\n",
    "Local Moran's I of these marker genes is shown below:"
   ]
  },
  {
   "cell_type": "code",
   "execution_count": null,
<<<<<<< HEAD
   "id": "624a676c",
||||||| 52c4b7c5
   "id": "495b5cf9",
=======
   "id": "cd984354",
>>>>>>> documentation-devel
   "metadata": {},
   "outputs": [],
   "source": [
    "sfe <- runUnivariate(sfe, \"localmoran\", features = genes_use, colGraphName = \"knn5\",\n",
    "                     BPPARAM = MulticoreParam(2))"
   ]
  },
  {
   "cell_type": "code",
   "execution_count": null,
<<<<<<< HEAD
   "id": "a6486959",
||||||| 52c4b7c5
   "id": "075bc005",
=======
   "id": "2db230d5",
>>>>>>> documentation-devel
   "metadata": {
    "fig.height": 9,
    "fig.width": 9
   },
   "outputs": [],
   "source": [
    "plotLocalResult(sfe, \"localmoran\", features = genes_use, \n",
    "                colGeometryName = \"centroids\", ncol = 3, divergent = TRUE,\n",
    "                diverge_center = 0, scattermore = TRUE, pointsize = 0.3)"
   ]
  },
  {
   "cell_type": "markdown",
<<<<<<< HEAD
   "id": "34b99a41",
||||||| 52c4b7c5
   "id": "3ebe1d4d",
=======
   "id": "4cce3994",
>>>>>>> documentation-devel
   "metadata": {
    "lines_to_next_cell": 0
   },
   "source": [
    "It seems that some histological regions tend to be more spatially homogenous in gene expression than others. The epithelial region tends to be more homogenous. For some genes, regions with higher expression also have higher local Moran's I, such as FOXA1 and GATA3, while for some genes, this is not the case, such as FGL2 and LUM. \n",
    "\n",
    "Finally, we assess local spatial heteroscdasticity (LOSH) for these marker genes to find local heterogeneity:"
   ]
  },
  {
   "cell_type": "code",
   "execution_count": null,
<<<<<<< HEAD
   "id": "42917290",
||||||| 52c4b7c5
   "id": "f73b07be",
=======
   "id": "c4e5a5ef",
>>>>>>> documentation-devel
   "metadata": {},
   "outputs": [],
   "source": [
    "sfe <- runUnivariate(sfe, \"LOSH\", features = genes_use, colGraphName = \"knn5\",\n",
    "                     BPPARAM = MulticoreParam(2))"
   ]
  },
  {
   "cell_type": "code",
   "execution_count": null,
<<<<<<< HEAD
   "id": "91ed4f15",
||||||| 52c4b7c5
   "id": "399be228",
=======
   "id": "4fbf03fb",
>>>>>>> documentation-devel
   "metadata": {
    "fig.height": 9,
    "fig.width": 9
   },
   "outputs": [],
   "source": [
    "plotLocalResult(sfe, \"LOSH\", features = genes_use, \n",
    "                colGeometryName = \"centroids\", ncol = 3, scattermore = TRUE, \n",
    "                pointsize = 0.3)"
   ]
  },
  {
   "cell_type": "markdown",
<<<<<<< HEAD
   "id": "e02f89af",
||||||| 52c4b7c5
   "id": "435e42fd",
=======
   "id": "9f43a1c5",
>>>>>>> documentation-devel
   "metadata": {
    "lines_to_next_cell": 0
   },
   "source": [
    "Again, just like in the [CosMX dataset](https://pachterlab.github.io/voyager/articles/vig4_cosmx.html#local-spatial-statistics-of-marker-genes), LOSH is higher where the gene is more highly expressed in some (e.g. CD3E, LUM, TENT5C) but not all cases (e.g. FOXA1, GATA3). This may be due to spatial distribution of different cell types.\n",
    "\n",
    "# Session info"
   ]
  },
  {
   "cell_type": "code",
   "execution_count": null,
<<<<<<< HEAD
   "id": "a60647d3",
||||||| 52c4b7c5
   "id": "03ddc6d7",
=======
   "id": "108faf45",
>>>>>>> documentation-devel
   "metadata": {},
   "outputs": [],
   "source": [
    "sessionInfo()"
   ]
  },
  {
   "cell_type": "markdown",
<<<<<<< HEAD
   "id": "c42bea25",
||||||| 52c4b7c5
   "id": "a7de5328",
=======
   "id": "b1cb354f",
>>>>>>> documentation-devel
   "metadata": {},
   "source": [
    "# References"
   ]
  }
 ],
 "metadata": {
  "kernelspec": {
   "display_name": "R",
   "language": "R",
   "name": "ir"
  }
 },
 "nbformat": 4,
 "nbformat_minor": 5
}
