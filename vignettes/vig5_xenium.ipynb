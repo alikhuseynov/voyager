{
 "cells": [
  {
   "cell_type": "raw",
   "id": "2b68a4f5",
   "metadata": {},
   "source": [
    "---\n",
    "title: \"Xenium breast cancer dataset\"\n",
    "author: \"Lambda Moses\"\n",
    "date: \"`r Sys.Date()`\"\n",
    "output: \n",
    "  html_document:\n",
    "  toc: true\n",
    "  toc_float:\n",
    "    collapsed: false\n",
    "  toc_depth: 3\n",
    "bibliography: ref.bib\n",
    "vignette: >\n",
    "  %\\VignetteIndexEntry{xenium}\n",
    "  %\\VignetteEngine{knitr::rmarkdown}\n",
    "  %\\VignetteEncoding{UTF-8}\n",
    "---"
   ]
  },
  {
   "cell_type": "code",
   "execution_count": null,
   "id": "489a6a51",
   "metadata": {
    "tags": [
     "remove_cell"
    ]
   },
   "outputs": [],
   "source": [
    "knitr::opts_chunk$set(\n",
    "  collapse = TRUE,\n",
    "  comment = \"#>\", fig.align = \"center\"\n",
    ")"
   ]
  },
  {
   "cell_type": "code",
   "execution_count": null,
   "id": "1d9c16a4",
   "metadata": {
    "eval": false,
    "tags": [
     "remove_cell"
    ]
   },
   "outputs": [],
   "source": [
    "# Install Google Colab dependencies\n",
    "# Note: this can take 30+ minutes (many of the dependencies include C++ code, which needs to be compiled)\n",
    "\n",
    "# First install `sf`, `ragg` and `textshaping` and their system dependencies:\n",
    "system(\"apt-get -y update && apt-get install -y  libudunits2-dev libgdal-dev libgeos-dev libproj-dev libharfbuzz-dev libfribidi-dev\")\n",
    "install.packages(\"sf\")\n",
    "install.packages(\"textshaping\")\n",
    "install.packages(\"ragg\")\n",
    "\n",
    "# Install system dependencies of some other R packages that Voyager either imports or suggests:\n",
    "system(\"apt-get install -y libfribidi-dev libcairo2-dev libmagick++-dev\")\n",
    "\n",
    "# Install Voyager from Bioconductor:\n",
    "install.packages(\"BiocManager\")\n",
    "BiocManager::install(version = \"3.17\", ask = FALSE, update = FALSE, Ncpus = 2)\n",
    "BiocManager::install(\"scater\")\n",
    "system.time(\n",
    "  BiocManager::install(\"Voyager\", dependencies = TRUE, Ncpus = 2, update = FALSE)\n",
    ")\n",
    "\n",
    "packageVersion(\"Voyager\")"
   ]
  },
  {
   "cell_type": "markdown",
   "id": "805f497d",
   "metadata": {},
   "source": [
    "# Introduction\n",
    "\n",
    "Xenium is a new technology from 10X genomics for single cell resolution smFISH based spatial transcriptomics. The first Xenium dataset is for formalin fixed paraffin embedded (FFPE) human breast tumor, reported in [@Janesick2022-rp] and downloaded from the [10X website](https://www.10xgenomics.com/products/xenium-in-situ/preview-dataset-human-breast).\n",
    "\n",
    "The gene count matrix was downloaded as an HDF5 file and read into R as a `SingleCellExperiment` (SCE) object with `DropletUtils::read10xCounts()`. The gene count matrix is originally a `DelayedArray`, so the data is not all loaded into memory. For now, the matrix has been converted into an in memory `dgCMatrix`. However, for the next release, we would like to write another vignette on on disk analyses. The challenge is representing `sf` data frames on disk, perhaps with [`sedona`](https://github.com/apache/incubator-sedona) and [`SQLDataFrame`](https://bioconductor.org/packages/release/bioc/html/SQLDataFrame.html).\n",
    "\n",
    "The cell metadata (including centroid coordinates) and cell segmentation polygons were downloaded as `parquet` files, a more compact way to store columnar data than CSV, and read into R as data frames with `arrow::read_parquet()`. The cell polygons were converted into `sf` data frame with `SpatialFeatureExperiment::df2sf()`. Then the SCE object was converted into `SpatialFeatureExperiment` (SFE) and the polygon geometry was added to the SFE object, which is in the `SFEData` package.\n",
    "\n",
    "Here we load the packages used in this vignette."
   ]
  },
  {
   "cell_type": "code",
   "execution_count": null,
   "id": "b4ae4d41",
   "metadata": {
    "message": false,
    "name": "setup"
   },
   "outputs": [],
   "source": [
    "library(Voyager)\n",
    "library(SFEData) \n",
    "library(SingleCellExperiment)\n",
    "library(SpatialExperiment)\n",
    "library(SpatialFeatureExperiment)\n",
    "library(ggplot2)\n",
    "library(stringr)\n",
    "library(scater) \n",
    "library(scuttle)\n",
    "library(BiocParallel)\n",
    "library(BiocSingular)\n",
    "library(bluster)\n",
    "library(scran)\n",
    "library(patchwork)\n",
    "theme_set(theme_bw())"
   ]
  },
  {
   "cell_type": "code",
   "execution_count": null,
   "id": "cac4c9bc",
   "metadata": {},
   "outputs": [],
   "source": [
    "(sfe <- JanesickBreastData(dataset = \"rep2\"))"
   ]
  },
  {
   "cell_type": "markdown",
   "id": "fadd33cb",
   "metadata": {
    "lines_to_next_cell": 0
   },
   "source": [
    "There are 118708 cells in this dataset, a little more than in the CosMX dataset.\n",
    "\n",
    "The SFE object doesn't have column names (i.e. cell IDs). Here we assign cell IDs."
   ]
  },
  {
   "cell_type": "code",
   "execution_count": null,
   "id": "6d6f1e32",
   "metadata": {},
   "outputs": [],
   "source": [
    "colnames(sfe) <- seq_len(ncol(sfe))"
   ]
  },
  {
   "cell_type": "markdown",
   "id": "d9276e25",
   "metadata": {},
   "source": [
    "This is what the tissue, with the cell outlines, looks like"
   ]
  },
  {
   "cell_type": "code",
   "execution_count": null,
   "id": "628dc5d8",
   "metadata": {},
   "outputs": [],
   "source": [
    "plotGeometry(sfe, \"cellSeg\")"
   ]
  },
  {
   "cell_type": "markdown",
   "id": "1c9bcf6c",
   "metadata": {
    "lines_to_next_cell": 0
   },
   "source": [
    "Plot cell density in space"
   ]
  },
  {
   "cell_type": "code",
   "execution_count": null,
   "id": "68072d3d",
   "metadata": {},
   "outputs": [],
   "source": [
    "plotCellBin2D(sfe, hex = TRUE)"
   ]
  },
  {
   "cell_type": "markdown",
   "id": "fabe9a9c",
   "metadata": {},
   "source": [
    "# Quality control\n",
    "## Cells\n",
    "Some QC metrics are precomputed and are stored in `colData`"
   ]
  },
  {
   "cell_type": "code",
   "execution_count": null,
   "id": "205526bb",
   "metadata": {},
   "outputs": [],
   "source": [
    "names(colData(sfe))"
   ]
  },
  {
   "cell_type": "markdown",
   "id": "a6be6f72",
   "metadata": {},
   "source": [
    "Since there're more cells, it would be better to plot the tissue larger, so we'll plot the histogram of QC metrics and the spatial plots separately, unlike in the CosMx vignette."
   ]
  },
  {
   "cell_type": "code",
   "execution_count": null,
   "id": "247afa96",
   "metadata": {},
   "outputs": [],
   "source": [
    "n_panel <- 313\n",
    "colData(sfe)$nCounts_normed <- sfe$nCounts/n_panel\n",
    "colData(sfe)$nGenes_normed <- sfe$nGenes/n_panel"
   ]
  },
  {
   "cell_type": "markdown",
   "id": "36cf3c69",
   "metadata": {},
   "source": [
    "Here we divided nCounts by the total number of genes probed, so this histogram is comparable to those from other smFISH-based datasets. "
   ]
  },
  {
   "cell_type": "code",
   "execution_count": null,
   "id": "dcec4954",
   "metadata": {},
   "outputs": [],
   "source": [
    "plotColDataHistogram(sfe, c(\"nCounts_normed\", \"nGenes_normed\"))"
   ]
  },
  {
   "cell_type": "markdown",
   "id": "e247acfb",
   "metadata": {},
   "source": [
    "Compared to the [FFPE CosMX non-small cell lung cancer dataset](https://pachterlab.github.io/voyager/articles/vig4_cosmx.html#cells), more transcripts per gene on average and a larger proportion of all genes are detected in this dataset, which is also FFPE. However, this should be interpreted with care, since these two datasets are from different tissues and have different gene panels, so this may or may not indicate that Xenium has better detection efficiency than CosMX."
   ]
  },
  {
   "cell_type": "code",
   "execution_count": null,
   "id": "2425f726",
   "metadata": {},
   "outputs": [],
   "source": [
    "plotSpatialFeature(sfe, \"nCounts\", colGeometryName = \"cellSeg\")"
   ]
  },
  {
   "cell_type": "markdown",
   "id": "80b657a4",
   "metadata": {},
   "source": [
    "There seem to be FOV artifacts. However, the cell ID and FOV information were unavailable so we cannot examine them. "
   ]
  },
  {
   "cell_type": "code",
   "execution_count": null,
   "id": "ef7cf0ec",
   "metadata": {},
   "outputs": [],
   "source": [
    "plotSpatialFeature(sfe, \"nGenes\", colGeometryName = \"cellSeg\")"
   ]
  },
  {
   "cell_type": "markdown",
   "id": "08ad072e",
   "metadata": {
    "lines_to_next_cell": 0
   },
   "source": [
    "A standard examination is to look at the relationship between nCounts and nGenes:"
   ]
  },
  {
   "cell_type": "code",
   "execution_count": null,
   "id": "ef14f2ee",
   "metadata": {},
   "outputs": [],
   "source": [
    "plotColData(sfe, x=\"nCounts\", y=\"nGenes\", bins = 100)"
   ]
  },
  {
   "cell_type": "markdown",
   "id": "faa8da8f",
   "metadata": {
    "lines_to_next_cell": 0
   },
   "source": [
    "There appear to be two branches. \n",
    "\n",
    "Here we plot the distribution of cell area"
   ]
  },
  {
   "cell_type": "code",
   "execution_count": null,
   "id": "94d22ab3",
   "metadata": {},
   "outputs": [],
   "source": [
    "plotColDataHistogram(sfe, c(\"cell_area\", \"nucleus_area\"), scales = \"free_y\")"
   ]
  },
  {
   "cell_type": "markdown",
   "id": "51e05ad1",
   "metadata": {
    "lines_to_next_cell": 0
   },
   "source": [
    "That should be in pixels. There's a very long tail. The nuclei are much smaller than the cells.\n",
    "\n",
    "How is cell area distributed in space?"
   ]
  },
  {
   "cell_type": "code",
   "execution_count": null,
   "id": "0e9ba088",
   "metadata": {},
   "outputs": [],
   "source": [
    "plotSpatialFeature(sfe, \"cell_area\", colGeometryName = \"cellSeg\")"
   ]
  },
  {
   "cell_type": "markdown",
   "id": "aca60a24",
   "metadata": {
    "lines_to_next_cell": 0
   },
   "source": [
    "Cells in the sparse region tend to be larger than those in the dense region. This may be biological or an artifact of the cell segmentation algorithm or both.\n",
    "\n",
    "Here the nuclei segmentations are plotted instead of cell segmentation. The nuclei are much smaller to the extent that they are difficult to see."
   ]
  },
  {
   "cell_type": "code",
   "execution_count": null,
   "id": "fcf5fb91",
   "metadata": {},
   "outputs": [],
   "source": [
    "plotSpatialFeature(sfe, \"nucleus_area\", colGeometryName = \"nucSeg\")"
   ]
  },
  {
   "cell_type": "markdown",
   "id": "fe5453da",
   "metadata": {
    "lines_to_next_cell": 0
   },
   "source": [
    "There's an outlier near the right edge of the section, throwing off the dynamic range of the plot. Upon inspection of the H&E image, the outlier is a bit of tissue debris that doesn't look like a cell. But we can still that cells in the dense, gland like regions tend to have larger nuclei. This may be biological, or that nuclei are so densely packed in those regions that they are more likely to be undersegmented, i.e. when multiple nuclei are counted as one by the nuclei segmentation program, or both.\n",
    "\n",
    "These observations motivate an examination of the relationship between cell area and nuclei area:"
   ]
  },
  {
   "cell_type": "code",
   "execution_count": null,
   "id": "19b67e77",
   "metadata": {},
   "outputs": [],
   "source": [
    "plotColData(sfe, x=\"cell_area\", y=\"nucleus_area\", bins = 100)"
   ]
  },
  {
   "cell_type": "markdown",
   "id": "6b620c4f",
   "metadata": {},
   "source": [
    "Again, there are two branches, probably related to cell density and cell type. The nucleus outlier also has large cell area, though it is not as much an outlier in cell area. However, it is a spatial outlier as it's unusually large compared to its neighbors (scroll up two plots back). \n",
    "\n",
    "Next we calculate the proportion of cell in this z-plane taken up by the nucleus, and examine the distribution:"
   ]
  },
  {
   "cell_type": "code",
   "execution_count": null,
   "id": "468ee87f",
   "metadata": {},
   "outputs": [],
   "source": [
    "colData(sfe)$prop_nuc <- sfe$nucleus_area / sfe$cell_area"
   ]
  },
  {
   "cell_type": "code",
   "execution_count": null,
   "id": "73560b00",
   "metadata": {},
   "outputs": [],
   "source": [
    "plotColDataHistogram(sfe, \"prop_nuc\")"
   ]
  },
  {
   "cell_type": "markdown",
   "id": "dcbcfab8",
   "metadata": {
    "lines_to_next_cell": 0
   },
   "source": [
    "This distribution could have been generated from two peaks that were combined. From the histogram, there do not seem to be cells without nuclei or segmentation artifacts where the nucleus is larger than the cell. However, there are so many cells in this dataset and it is possible that just a few cells would not be visible on this histogram. We double check:"
   ]
  },
  {
   "cell_type": "code",
   "execution_count": null,
   "id": "f3bcd13c",
   "metadata": {},
   "outputs": [],
   "source": [
    "# No nucleus\n",
    "sum(sfe$nucleus_area < 1)\n",
    "# Nucleus larger than cell\n",
    "sum(sfe$nucleus_area > sfe$cell_area)"
   ]
  },
  {
   "cell_type": "markdown",
   "id": "7b891e3a",
   "metadata": {
    "lines_to_next_cell": 0
   },
   "source": [
    "So there are no cells without nuclei or nuclei larger than their cells. Here we plot the nuclei proportion in space:"
   ]
  },
  {
   "cell_type": "code",
   "execution_count": null,
   "id": "4397103e",
   "metadata": {},
   "outputs": [],
   "source": [
    "plotSpatialFeature(sfe, \"prop_nuc\", colGeometryName = \"cellSeg\")"
   ]
  },
  {
   "cell_type": "markdown",
   "id": "4cf6142e",
   "metadata": {
    "lines_to_next_cell": 0
   },
   "source": [
    "Cells in some histological regions have larger proportions occupied by the nuclei. It is interesting to check, controlling for cell type, how cell area, nucleus area, and the proportion of cell occupied by nucleus relate to gene expression. However, a problem in performing such an analysis is that cell segmentation is only available for one z-plane here and these areas also relate to where this z-plane intersects each cell. \n",
    "\n",
    "Below we plot a 2D histogram to better show the density of points on this plot:"
   ]
  },
  {
   "cell_type": "code",
   "execution_count": null,
   "id": "f69e66e6",
   "metadata": {},
   "outputs": [],
   "source": [
    "plotColData(sfe, x=\"cell_area\", y=\"prop_nuc\")"
   ]
  },
  {
   "cell_type": "markdown",
   "id": "0691de33",
   "metadata": {
    "lines_to_next_cell": 0
   },
   "source": [
    "Smaller cells tend to have higher proportion occupied by the nucleus. This can be related to cell type, or it could be a limitation in how small the nuclei can be in this tissue.\n",
    "\n",
    "We also examine the relationship between nucleus area and the proportion of cell occupied by the nucleus:"
   ]
  },
  {
   "cell_type": "code",
   "execution_count": null,
   "id": "ffe851d2",
   "metadata": {},
   "outputs": [],
   "source": [
    "plotColData(sfe, x=\"nucleus_area\", y=\"prop_nuc\", bins = 100)"
   ]
  },
  {
   "cell_type": "markdown",
   "id": "bc0b197e",
   "metadata": {
    "lines_to_next_cell": 0
   },
   "source": [
    "The outlier is obvious. There are more cells with both small nuclei and low proportion of area occupied by the nucleus.\n",
    "\n",
    "## Negative controls\n",
    "Since there are only a few hundred genes plus negative control probes, all row names of the SFE object can be printed out to find what the negative control probes are called."
   ]
  },
  {
   "cell_type": "code",
   "execution_count": null,
   "id": "c3fbb321",
   "metadata": {},
   "outputs": [],
   "source": [
    "rownames(sfe)"
   ]
  },
  {
   "cell_type": "markdown",
   "id": "14498a89",
   "metadata": {},
   "source": [
    "According to the Xenium paper [@Janesick2022-rp], there are 3 types of controls:\n",
    "\n",
    "> 1) probe controls to assess non-specific binding to RNA, \n",
    "2) decoding controls to assess misassigned genes, and \n",
    "3) genomic DNA (gDNA) controls to ensure the signal is from RNA.\n",
    "\n",
    "The paper does not explain in detail how those control probes were designed, nor explain what the blank probes are. But the blank probes can be used as a negative control."
   ]
  },
  {
   "cell_type": "code",
   "execution_count": null,
   "id": "61039c48",
   "metadata": {},
   "outputs": [],
   "source": [
    "is_blank <- str_detect(rownames(sfe), \"^BLANK_\")\n",
    "sum(is_blank)"
   ]
  },
  {
   "cell_type": "markdown",
   "id": "b3746829",
   "metadata": {
    "lines_to_next_cell": 0
   },
   "source": [
    "This should be number 1, the probe control"
   ]
  },
  {
   "cell_type": "code",
   "execution_count": null,
   "id": "8e0ed2d9",
   "metadata": {},
   "outputs": [],
   "source": [
    "is_neg <- str_detect(rownames(sfe), \"^NegControlProbe\")\n",
    "sum(is_neg)"
   ]
  },
  {
   "cell_type": "markdown",
   "id": "2a904b17",
   "metadata": {
    "lines_to_next_cell": 0
   },
   "source": [
    "This should be number 2, the decoding control"
   ]
  },
  {
   "cell_type": "code",
   "execution_count": null,
   "id": "946c9983",
   "metadata": {},
   "outputs": [],
   "source": [
    "is_neg2 <- str_detect(rownames(sfe), \"^NegControlCodeword\")\n",
    "sum(is_neg2)"
   ]
  },
  {
   "cell_type": "markdown",
   "id": "76bf3496",
   "metadata": {
    "lines_to_next_cell": 0
   },
   "source": [
    "This must be number 3, gDNA control"
   ]
  },
  {
   "cell_type": "code",
   "execution_count": null,
   "id": "d8a7fac0",
   "metadata": {},
   "outputs": [],
   "source": [
    "is_anti <- str_detect(rownames(sfe), \"^antisense\")\n",
    "sum(is_anti)"
   ]
  },
  {
   "cell_type": "markdown",
   "id": "a98e4c5d",
   "metadata": {
    "lines_to_next_cell": 0
   },
   "source": [
    "Also make an indicator of whether a feature is any sort of negative control"
   ]
  },
  {
   "cell_type": "code",
   "execution_count": null,
   "id": "75f61300",
   "metadata": {},
   "outputs": [],
   "source": [
    "is_any_neg <- is_blank | is_neg | is_neg2 | is_anti"
   ]
  },
  {
   "cell_type": "markdown",
   "id": "a43b8de5",
   "metadata": {
    "lines_to_next_cell": 0
   },
   "source": [
    "The `addPerCellQCMetrics()` function in the `scuttle` package can conveniently add transcript counts, proportion of total counts, and number of features detected for any subset of features to the SCE object. Here we do this for the SFE object, as SFE inherits from SCE. "
   ]
  },
  {
   "cell_type": "code",
   "execution_count": null,
   "id": "1affe1f2",
   "metadata": {},
   "outputs": [],
   "source": [
    "sfe <- addPerCellQCMetrics(sfe, subsets = list(blank = is_blank,\n",
    "                                               negProbe = is_neg,\n",
    "                                               negCodeword = is_neg2,\n",
    "                                               anti = is_anti,\n",
    "                                               any_neg = is_any_neg))"
   ]
  },
  {
   "cell_type": "code",
   "execution_count": null,
   "id": "d0d5db6f",
   "metadata": {},
   "outputs": [],
   "source": [
    "names(colData(sfe))"
   ]
  },
  {
   "cell_type": "markdown",
   "id": "37050da7",
   "metadata": {},
   "source": [
    "Next we plot the proportion of transcript counts coming from any negative control. "
   ]
  },
  {
   "cell_type": "code",
   "execution_count": null,
   "id": "a07e0a17",
   "metadata": {},
   "outputs": [],
   "source": [
    "cols_use <- names(colData(sfe))[str_detect(names(colData(sfe)), \"_percent$\")]\n",
    "plotColDataHistogram(sfe, cols_use, bins = 100, ncol = 3)"
   ]
  },
  {
   "cell_type": "markdown",
   "id": "d17e7d68",
   "metadata": {
    "lines_to_next_cell": 0
   },
   "source": [
    "The histogram is dominated by the bin at zero and there are some extreme outliers too few to be seen but evident from the scale of the x axis. We also plot the histogram only for cells with at least 1 count from a negative control. The NA's come from cells that got segmented but have no transcripts detected."
   ]
  },
  {
   "cell_type": "code",
   "execution_count": null,
   "id": "a1c91fb9",
   "metadata": {},
   "outputs": [],
   "source": [
    "plotColDataHistogram(sfe, cols_use, bins = 100, ncol = 3) + \n",
    "    scale_x_log10() +\n",
    "    annotation_logticks(sides = \"b\")"
   ]
  },
  {
   "cell_type": "markdown",
   "id": "ae88d6f7",
   "metadata": {
    "lines_to_next_cell": 0
   },
   "source": [
    "The vast majority of these cells have less than 1% of transcript counts from negative controls, but there are outliers with up to 50%. \n",
    "\n",
    "Next we plot the distribution of the number of negative control counts per cell:"
   ]
  },
  {
   "cell_type": "code",
   "execution_count": null,
   "id": "74bd019a",
   "metadata": {},
   "outputs": [],
   "source": [
    "cols_use2 <- names(colData(sfe))[str_detect(names(colData(sfe)), \"_detected$\")]\n",
    "plotColDataHistogram(sfe, cols_use2, bins = 20, ncol = 3) +\n",
    "    # Avoid decimal breaks on x axis unless there're too few breaks\n",
    "    scale_x_continuous(breaks = scales::breaks_extended(Q = c(1,2,5)))"
   ]
  },
  {
   "cell_type": "markdown",
   "id": "af75959c",
   "metadata": {},
   "source": [
    "The counts are low, mostly zero, but there are outliers with up to 10 counts of all types aggregated. Then the outlier with 50% of counts from negative controls must have very low total real transcript counts to begin with.\n",
    "\n",
    "The `scuttle` package can detect outliers, but by default it assigns anything above zero as an outlier, since that is over 3 median absolute deviations (MADs) away from the median, which is 0, and the MAD is 0 since the vast majority of cells don't have any negative control count. But it makes sense to allow a small proportion of negative controls. Here we use the distribution just for cells with at least 1 negative control count to find outliers. This distribution has a very long tail and some definite outliers.\n",
    "\n",
    "The code below extracts the outliers, based only on cells with at least one negative control count"
   ]
  },
  {
   "cell_type": "code",
   "execution_count": null,
   "id": "7dd85e47",
   "metadata": {},
   "outputs": [],
   "source": [
    "get_neg_ctrl_outliers <- function(col, sfe) {\n",
    "    inds <- colData(sfe)$nCounts > 0 & colData(sfe)[[col]] > 0\n",
    "    df <- colData(sfe)[inds,]\n",
    "    outlier_inds <- isOutlier(df[[col]], type = \"higher\")\n",
    "    outliers <- rownames(df)[outlier_inds]\n",
    "    col2 <- str_remove(col, \"^subsets_\")\n",
    "    col2 <- str_remove(col2, \"_percent$\")\n",
    "    new_colname <- paste(\"is\", col2, \"outlier\", sep = \"_\")\n",
    "    colData(sfe)[[new_colname]] <- colnames(sfe) %in% outliers\n",
    "    sfe\n",
    "}"
   ]
  },
  {
   "cell_type": "code",
   "execution_count": null,
   "id": "793eda42",
   "metadata": {},
   "outputs": [],
   "source": [
    "cols_use <- names(colData(sfe))[str_detect(names(colData(sfe)), \"_percent$\")]\n",
    "for (n in cols_use) {\n",
    "    sfe <- get_neg_ctrl_outliers(n, sfe)\n",
    "}"
   ]
  },
  {
   "cell_type": "code",
   "execution_count": null,
   "id": "e9c3e0c2",
   "metadata": {},
   "outputs": [],
   "source": [
    "names(colData(sfe))"
   ]
  },
  {
   "cell_type": "markdown",
   "id": "c8c38008",
   "metadata": {
    "lines_to_next_cell": 0
   },
   "source": [
    "Below we examine where the outliers are located in space:"
   ]
  },
  {
   "cell_type": "code",
   "execution_count": null,
   "id": "97656582",
   "metadata": {},
   "outputs": [],
   "source": [
    "plotSpatialFeature(sfe, \"is_blank_outlier\", colGeometryName = \"cellSeg\")"
   ]
  },
  {
   "cell_type": "markdown",
   "id": "1ec406c6",
   "metadata": {
    "lines_to_next_cell": 0
   },
   "source": [
    "We find that the outliers are difficult to see:"
   ]
  },
  {
   "cell_type": "code",
   "execution_count": null,
   "id": "94dc983f",
   "metadata": {},
   "outputs": [],
   "source": [
    "plotColData(sfe, y = \"is_blank_outlier\", x = \"cell_area\", \n",
    "            point_fun = function(...) list()) "
   ]
  },
  {
   "cell_type": "markdown",
   "id": "d1247672",
   "metadata": {
    "lines_to_next_cell": 0
   },
   "source": [
    "The analysis reveals that the outliers seem to be smaller. Outliers for negative probe controls and negative codeword controls are also hard to see on the plot, so their plots are skipped here. But the top left region in the tissue tends to have more counts from antisense controls. "
   ]
  },
  {
   "cell_type": "code",
   "execution_count": null,
   "id": "5e64953d",
   "metadata": {},
   "outputs": [],
   "source": [
    "plotSpatialFeature(sfe, \"is_anti_outlier\", colGeometryName = \"cellSeg\")"
   ]
  },
  {
   "cell_type": "markdown",
   "id": "8fd56035",
   "metadata": {},
   "source": [
    "Now that we have identified the outliers, we can remove them along with empty cells before proceeding to further analysis:"
   ]
  },
  {
   "cell_type": "code",
   "execution_count": null,
   "id": "f20e3b95",
   "metadata": {},
   "outputs": [],
   "source": [
    "inds_keep <- sfe$nCounts > 0 & sfe$nucleus_area < 400 & !sfe$is_anti_outlier &\n",
    "    !sfe$is_blank_outlier & !sfe$is_negCodeword_outlier & !sfe$is_negProbe_outlier\n",
    "(sfe <- sfe[,inds_keep])"
   ]
  },
  {
   "cell_type": "markdown",
   "id": "78d45d1b",
   "metadata": {
    "lines_to_next_cell": 0
   },
   "source": [
    "Over 1000 cells were removed. \n",
    "\n",
    "Next we check how many negative control features are detected per cell:"
   ]
  },
  {
   "cell_type": "code",
   "execution_count": null,
   "id": "ad4fe0ee",
   "metadata": {},
   "outputs": [],
   "source": [
    "plotColDataHistogram(sfe, cols_use2, bins = 20, ncol = 3) +\n",
    "    # Avoid decimal breaks on x axis unless there're too few breaks\n",
    "    scale_x_continuous(breaks = scales::breaks_extended(3, Q = c(1,2,5)))"
   ]
  },
  {
   "cell_type": "markdown",
   "id": "46718f4a",
   "metadata": {
    "lines_to_next_cell": 0
   },
   "source": [
    "There are at most 3 counts per cell per type. For the non-outliers, each type is at most around 1%, so this data looks good. \n",
    "\n",
    "## Genes\n",
    "Here we look at the mean and variance of each gene"
   ]
  },
  {
   "cell_type": "code",
   "execution_count": null,
   "id": "5d7f6704",
   "metadata": {},
   "outputs": [],
   "source": [
    "rowData(sfe)$means <- rowMeans(counts(sfe))\n",
    "rowData(sfe)$vars <- rowVars(counts(sfe))"
   ]
  },
  {
   "cell_type": "markdown",
   "id": "470c0c77",
   "metadata": {
    "lines_to_next_cell": 0
   },
   "source": [
    "Real genes generally have higher mean expression across cells than negative controls."
   ]
  },
  {
   "cell_type": "code",
   "execution_count": null,
   "id": "133adc49",
   "metadata": {},
   "outputs": [],
   "source": [
    "rowData(sfe)$is_neg <- is_any_neg\n",
    "plotRowData(sfe, x = \"means\", y = \"is_neg\") +\n",
    "    scale_y_log10() +\n",
    "    annotation_logticks(sides = \"b\")"
   ]
  },
  {
   "cell_type": "markdown",
   "id": "364525df",
   "metadata": {
    "lines_to_next_cell": 0
   },
   "source": [
    "Here the real genes and negative controls are plotted in different colors"
   ]
  },
  {
   "cell_type": "code",
   "execution_count": null,
   "id": "4a5a6275",
   "metadata": {},
   "outputs": [],
   "source": [
    "plotRowData(sfe, x=\"means\", y=\"vars\", color_by = \"is_neg\") +\n",
    "    geom_abline(slope = 1, intercept = 0, color = \"red\") +\n",
    "    scale_x_log10() + scale_y_log10() +\n",
    "    annotation_logticks() +\n",
    "    coord_equal() +\n",
    "    labs(color = \"Negative control\")"
   ]
  },
  {
   "cell_type": "markdown",
   "id": "ba4e4c55",
   "metadata": {},
   "source": [
    "The red line $y = x$ is expected if the data follows a Poisson distribution. Negative controls and real genes form mostly separate clusters. Negative controls stick close to the line, while real genes are overdispersed. Unlike in the [CosMX dataset](https://pachterlab.github.io/voyager/articles/vig4_cosmx.html#genes), the negative controls don't seem overdispersed.\n",
    "\n",
    "# Spatial autocorrelation of QC metrics\n",
    "\n",
    "There's a sparse and a dense region. This poses the question of what type of neighborhood graph to use, e.g. it is conceivable that cells in the sparse region should just be singletons. Furthermore, it is unclear what the length scale of their influence might be. It might depend on the cell type and how contact and secreted signals are used in the cell type, and length scale of the influence. If k nearest neighbors are used, then the neighbors in the dense region are much closer together than those in the sparse region. If distance based neighbors are used, then cells in the dense region will have more neighbors than cells in the sparse region, and the sparse region can break into multiple compartments if the distance cutoff is not long enough. \n",
    "\n",
    "For the purpose of demonstration, we use k nearest neighbors with $k = 5$, with inverse distance weighting. Note that using more neighbors leads to longer computation time of spatial autocorrelation metrics."
   ]
  },
  {
   "cell_type": "code",
   "execution_count": null,
   "id": "a7295418",
   "metadata": {},
   "outputs": [],
   "source": [
    "system.time(\n",
    "    colGraph(sfe, \"knn5\") <- findSpatialNeighbors(sfe, method = \"knearneigh\", \n",
    "                                                  dist_type = \"idw\", k = 5, \n",
    "                                                  style = \"W\")\n",
    ")"
   ]
  },
  {
   "cell_type": "code",
   "execution_count": null,
   "id": "648f4fcb",
   "metadata": {},
   "outputs": [],
   "source": [
    "sfe <- colDataMoransI(sfe, c(\"nCounts\", \"nGenes\", \"cell_area\", \"nucleus_area\"),\n",
    "                      colGraphName = \"knn5\")"
   ]
  },
  {
   "cell_type": "code",
   "execution_count": null,
   "id": "5fec091d",
   "metadata": {},
   "outputs": [],
   "source": [
    "colFeatureData(sfe)[c(\"nCounts\", \"nGenes\", \"cell_area\", \"nucleus_area\"),]"
   ]
  },
  {
   "cell_type": "markdown",
   "id": "20a0d2f7",
   "metadata": {},
   "source": [
    "Global Moran's I indicatse positive spatial autocorrelation. As the strength of spatial autocorrelation can vary spatially, we also run local Moran's I."
   ]
  },
  {
   "cell_type": "code",
   "execution_count": null,
   "id": "3c6101af",
   "metadata": {},
   "outputs": [],
   "source": [
    "sfe <- colDataUnivariate(sfe, type = \"localmoran\", \n",
    "                         features = c(\"nCounts\", \"nGenes\", \"cell_area\", \n",
    "                                      \"nucleus_area\"),\n",
    "                         colGraphName = \"knn5\", BPPARAM = MulticoreParam(2))"
   ]
  },
  {
   "cell_type": "markdown",
   "id": "aefc101a",
   "metadata": {
    "lines_to_next_cell": 0
   },
   "source": [
    "The `pointsize` argument adjusts the point size in `scattermore`. The default is 0, meaning single pixels, but since the cells in the sparse region are hard to see that way, we increase `pointsize`. We would still plot the polygons in larger single panel plots, but use `scattermore` in multi-panel plots where the polygons in each panel are invisible anyway due to the small size to save some time."
   ]
  },
  {
   "cell_type": "code",
   "execution_count": null,
   "id": "843c72d5",
   "metadata": {
    "fig.height": 6,
    "fig.width": 9
   },
   "outputs": [],
   "source": [
    "plotLocalResult(sfe, \"localmoran\",\n",
    "                features = c(\"nCounts\", \"nGenes\", \"cell_area\", \"nucleus_area\"),\n",
    "                colGeometryName = \"centroids\", scattermore = TRUE,\n",
    "                divergent = TRUE, diverge_center = 0, pointsize = 1)"
   ]
  },
  {
   "cell_type": "markdown",
   "id": "d6952010",
   "metadata": {
    "lines_to_next_cell": 0
   },
   "source": [
    "Interestingly, nCounts is more homogeneous in the interior of the dense region, while nGenes is more homogeneous by the edge of the dense region. As expected, cell area is more homogeneous in the sparse region. However, the nucleus area is more homogeneous in the interior of the dense region. \n",
    "\n",
    "Moran plot for nCounts"
   ]
  },
  {
   "cell_type": "code",
   "execution_count": null,
   "id": "39ca6026",
   "metadata": {},
   "outputs": [],
   "source": [
    "sfe <- colDataUnivariate(sfe, \"moran.plot\", \"nCounts\", colGraphName = \"knn5\")"
   ]
  },
  {
   "cell_type": "code",
   "execution_count": null,
   "id": "dc1e4d90",
   "metadata": {
    "fig.height": 7,
    "fig.width": 8
   },
   "outputs": [],
   "source": [
    "p1 <- moranPlot(sfe, \"nCounts\", binned = TRUE, plot_influential = FALSE) \n",
    "p2 <- moranPlot(sfe, \"nCounts\", binned = TRUE)\n",
    "p1 / p2 + plot_layout(guides = \"collect\")"
   ]
  },
  {
   "cell_type": "markdown",
   "id": "e54318ec",
   "metadata": {},
   "source": [
    "There are no obvious clusters here. In the lower panel, the 2D histogram of influential points is plotted in red.\n",
    "\n",
    "# Moran's I\n",
    "\n",
    "By default, for gene expression, the log normalized counts are used in spatial autocorrelation metrics, so before running Moran's I, we normalize the data."
   ]
  },
  {
   "cell_type": "code",
   "execution_count": null,
   "id": "56c793a2",
   "metadata": {},
   "outputs": [],
   "source": [
    "sfe <- logNormCounts(sfe)"
   ]
  },
  {
   "cell_type": "markdown",
   "id": "d9744443",
   "metadata": {
    "lines_to_next_cell": 0
   },
   "source": [
    "Use more cores if available to speed this up."
   ]
  },
  {
   "cell_type": "code",
   "execution_count": null,
   "id": "2ee8cf26",
   "metadata": {},
   "outputs": [],
   "source": [
    "system.time(\n",
    "    sfe <- runMoransI(sfe, colGraphName = \"knn5\", BPPARAM = MulticoreParam(2))\n",
    ")"
   ]
  },
  {
   "cell_type": "code",
   "execution_count": null,
   "id": "550cd16c",
   "metadata": {},
   "outputs": [],
   "source": [
    "rowData(sfe)$is_neg <- is_any_neg"
   ]
  },
  {
   "cell_type": "code",
   "execution_count": null,
   "id": "0bfed7fe",
   "metadata": {},
   "outputs": [],
   "source": [
    "plotRowData(sfe, x = \"moran_sample01\", y = \"is_neg\")"
   ]
  },
  {
   "cell_type": "markdown",
   "id": "ce297650",
   "metadata": {
    "lines_to_next_cell": 0
   },
   "source": [
    "As expected, generally the negative controls are tightly clustered around 0, while the real genes have positive Moran's I, which means there is generally no technical artifact spatial trend. No significantly negative Moran's I is observed. Why is negative spatial autocorrelation so rare in gene expression?\n",
    "\n",
    "What are the two negative controls with a sizable Moran's I?"
   ]
  },
  {
   "cell_type": "code",
   "execution_count": null,
   "id": "d4a5eafe",
   "metadata": {
    "fig.height": 3,
    "fig.width": 9
   },
   "outputs": [],
   "source": [
    "ord <- order(rowData(sfe)$moran_sample01[is_any_neg], decreasing = TRUE)[1:2]\n",
    "top_neg <- rownames(sfe)[is_any_neg][ord]\n",
    "plotSpatialFeature(sfe, top_neg, colGeometryName = \"centroids\",\n",
    "                   scattermore = TRUE, pointsize = 1)"
   ]
  },
  {
   "cell_type": "markdown",
   "id": "e50af0f2",
   "metadata": {
    "lines_to_next_cell": 0
   },
   "source": [
    "There is somewhat a spatial trend for that antisense probe, with more detected in the upper left. However, this might not significantly affect other results since there are at most 2 counts and at most about 1% of all counts in each cell. The negative control codeword has at most 1 count per cell and the cells with this negative control detected seem to be few and far between. \n",
    "\n",
    "These are the most detected negative controls, and the most detected one is also the one with the highest Moran's I among negative controls. However, the other negative control with higher Moran's I is not among the most detected."
   ]
  },
  {
   "cell_type": "code",
   "execution_count": null,
   "id": "5eca41d7",
   "metadata": {},
   "outputs": [],
   "source": [
    "head(sort(rowData(sfe)$means[is_any_neg], decreasing = TRUE), 15)"
   ]
  },
  {
   "cell_type": "markdown",
   "id": "c255579e",
   "metadata": {
    "lines_to_next_cell": 0
   },
   "source": [
    "What are the genes with the highest Moran's I?"
   ]
  },
  {
   "cell_type": "code",
   "execution_count": null,
   "id": "c40a0833",
   "metadata": {
    "fig.height": 9,
    "fig.width": 9
   },
   "outputs": [],
   "source": [
    "top_moran <- rownames(sfe)[order(rowData(sfe)$moran_sample01, decreasing = TRUE)[1:6]]\n",
    "plotSpatialFeature(sfe, top_moran, colGeometryName = \"centroids\",\n",
    "                   scattermore = TRUE, ncol = 2, pointsize = 0.5)"
   ]
  },
  {
   "cell_type": "markdown",
   "id": "9d040180",
   "metadata": {
    "lines_to_next_cell": 0
   },
   "source": [
    "They all highlight the same histological regions, as in the [CosMX vignette](https://pachterlab.github.io/voyager/articles/vig4_cosmx.html#morans-i). How does Moran's I relate to gene expression level?"
   ]
  },
  {
   "cell_type": "code",
   "execution_count": null,
   "id": "3709bf2a",
   "metadata": {},
   "outputs": [],
   "source": [
    "plotRowData(sfe, x = \"means\", y = \"moran_sample01\")"
   ]
  },
  {
   "cell_type": "markdown",
   "id": "cc5cb324",
   "metadata": {
    "lines_to_next_cell": 0
   },
   "source": [
    "Very highly expressed genes have higher Moran's I, but there are some less expressed genes with higher Moran's I as well.\n",
    "\n",
    "# Non-spatial dimension reduction and clustering\n",
    "\n",
    "Here we run non-spatial PCA as for scRNA-seq data"
   ]
  },
  {
   "cell_type": "code",
   "execution_count": null,
   "id": "ed225b72",
   "metadata": {},
   "outputs": [],
   "source": [
    "set.seed(29)\n",
    "sfe <- runPCA(sfe, ncomponents = 30, scale = TRUE, BSPARAM = IrlbaParam())"
   ]
  },
  {
   "cell_type": "code",
   "execution_count": null,
   "id": "494b0a65",
   "metadata": {},
   "outputs": [],
   "source": [
    "ElbowPlot(sfe, ndims = 30)"
   ]
  },
  {
   "cell_type": "code",
   "execution_count": null,
   "id": "af576b80",
   "metadata": {},
   "outputs": [],
   "source": [
    "plotDimLoadings(sfe, dims = 1:6)"
   ]
  },
  {
   "cell_type": "code",
   "execution_count": null,
   "id": "519b0b1c",
   "metadata": {
    "fig.height": 9,
    "fig.width": 9
   },
   "outputs": [],
   "source": [
    "spatialReducedDim(sfe, \"PCA\", 6, colGeometryName = \"centroids\", divergent = TRUE,\n",
    "                  diverge_center = 0, ncol = 2, scattermore = TRUE, pointsize = 0.5)"
   ]
  },
  {
   "cell_type": "markdown",
   "id": "c0d0b7c4",
   "metadata": {
    "lines_to_next_cell": 0
   },
   "source": [
    "While spatial region is not explicitly used, the PC's highlight spatial regions due to spatial autocorrelation in gene expression and histological regions with different cell types.\n",
    "\n",
    "Non-spatial clustering and locating the clusters in space"
   ]
  },
  {
   "cell_type": "code",
   "execution_count": null,
   "id": "8153a43b",
   "metadata": {},
   "outputs": [],
   "source": [
    "colData(sfe)$cluster <- clusterRows(reducedDim(sfe, \"PCA\")[,1:15],\n",
    "                                    BLUSPARAM = SNNGraphParam(\n",
    "                                        cluster.fun = \"leiden\",\n",
    "                                        cluster.args = list(\n",
    "                                            resolution_parameter = 0.5,\n",
    "                                            objective_function = \"modularity\")))"
   ]
  },
  {
   "cell_type": "markdown",
   "id": "c6362888",
   "metadata": {
    "lines_to_next_cell": 0
   },
   "source": [
    "Now the `scater` can also rasterize the plots with lots of points with the `rasterise` argument, but with a different mechanism from `scattermore` that requires more system dependencies. "
   ]
  },
  {
   "cell_type": "code",
   "execution_count": null,
   "id": "7a95e00d",
   "metadata": {
    "fig.height": 8,
    "fig.width": 8
   },
   "outputs": [],
   "source": [
    "plotPCA(sfe, ncomponents = 4, colour_by = \"cluster\", rasterise = FALSE)"
   ]
  },
  {
   "cell_type": "markdown",
   "id": "e2caee19",
   "metadata": {
    "lines_to_next_cell": 0
   },
   "source": [
    "Plot the location of the clusters in space"
   ]
  },
  {
   "cell_type": "code",
   "execution_count": null,
   "id": "0b89a291",
   "metadata": {},
   "outputs": [],
   "source": [
    "plotSpatialFeature(sfe, \"cluster\", colGeometryName = \"cellSeg\")"
   ]
  },
  {
   "cell_type": "markdown",
   "id": "e7d3f383",
   "metadata": {
    "lines_to_next_cell": 0
   },
   "source": [
    "# Differential expression\n",
    "Cluster marker genes are found with Wilcoxon rank sum test as commonly done for scRNA-seq."
   ]
  },
  {
   "cell_type": "code",
   "execution_count": null,
   "id": "f2776ddf",
   "metadata": {},
   "outputs": [],
   "source": [
    "markers <- findMarkers(sfe, groups = colData(sfe)$cluster,\n",
    "                       test.type = \"wilcox\", pval.type = \"all\", direction = \"up\")"
   ]
  },
  {
   "cell_type": "markdown",
   "id": "bd009e65",
   "metadata": {
    "lines_to_next_cell": 0
   },
   "source": [
    "It's already sorted by p-values:"
   ]
  },
  {
   "cell_type": "code",
   "execution_count": null,
   "id": "e24ff154",
   "metadata": {},
   "outputs": [],
   "source": [
    "markers[[6]]"
   ]
  },
  {
   "cell_type": "markdown",
   "id": "41d5f2c7",
   "metadata": {
    "lines_to_next_cell": 0
   },
   "source": [
    "The code below extracts the significant markers for each cluster:"
   ]
  },
  {
   "cell_type": "code",
   "execution_count": null,
   "id": "45988a00",
   "metadata": {},
   "outputs": [],
   "source": [
    "genes_use <- vapply(markers, function(x) rownames(x)[1], FUN.VALUE = character(1))\n",
    "plotExpression(sfe, genes_use, x = \"cluster\", point_fun = function(...) list())"
   ]
  },
  {
   "cell_type": "markdown",
   "id": "0facdee4",
   "metadata": {
    "lines_to_next_cell": 0
   },
   "source": [
    "This allows for plotting more top marker genes in a heatmap:"
   ]
  },
  {
   "cell_type": "code",
   "execution_count": null,
   "id": "2bb22402",
   "metadata": {
    "fig.height": 8,
    "fig.width": 6
   },
   "outputs": [],
   "source": [
    "genes_use2 <- unique(unlist(lapply(markers, function(x) rownames(x)[1:5])))\n",
    "plotGroupedHeatmap(sfe, genes_use2, group = \"cluster\", colour = scales::viridis_pal()(100))"
   ]
  },
  {
   "cell_type": "markdown",
   "id": "e4c98723",
   "metadata": {
    "lines_to_next_cell": 0
   },
   "source": [
    "# Local spatial statistics of marker genes\n",
    "\n",
    "First we plot those genes in space as a reference"
   ]
  },
  {
   "cell_type": "code",
   "execution_count": null,
   "id": "efe1b971",
   "metadata": {
    "fig.height": 9,
    "fig.width": 9
   },
   "outputs": [],
   "source": [
    "plotSpatialFeature(sfe, genes_use, colGeometryName = \"centroids\", ncol = 3,\n",
    "                   pointsize = 0.3, scattermore = TRUE)"
   ]
  },
  {
   "cell_type": "markdown",
   "id": "f560e6ca",
   "metadata": {},
   "source": [
    "Global Moran's I of these marker genes is shown below:"
   ]
  },
  {
   "cell_type": "code",
   "execution_count": null,
   "id": "cd981bae",
   "metadata": {},
   "outputs": [],
   "source": [
    "setNames(rowData(sfe)[genes_use, \"moran_sample01\"], genes_use)"
   ]
  },
  {
   "cell_type": "markdown",
   "id": "9033e263",
   "metadata": {
    "lines_to_next_cell": 0
   },
   "source": [
    "All these marker genes have positive spatial autocorrelation, but some stronger than others.\n",
    "\n",
    "Local Moran's I of these marker genes is shown below:"
   ]
  },
  {
   "cell_type": "code",
   "execution_count": null,
   "id": "9e11d8c6",
   "metadata": {},
   "outputs": [],
   "source": [
    "sfe <- runUnivariate(sfe, \"localmoran\", features = genes_use, colGraphName = \"knn5\",\n",
    "                     BPPARAM = MulticoreParam(2))"
   ]
  },
  {
   "cell_type": "code",
   "execution_count": null,
   "id": "3592ce3b",
   "metadata": {
    "fig.height": 9,
    "fig.width": 9
   },
   "outputs": [],
   "source": [
    "plotLocalResult(sfe, \"localmoran\", features = genes_use, \n",
    "                colGeometryName = \"centroids\", ncol = 3, divergent = TRUE,\n",
    "                diverge_center = 0, scattermore = TRUE, pointsize = 0.3)"
   ]
  },
  {
   "cell_type": "markdown",
   "id": "f17d4141",
   "metadata": {
    "lines_to_next_cell": 0
   },
   "source": [
    "It seems that some histological regions tend to be more spatially homogenous in gene expression than others. The epithelial region tends to be more homogenous. For some genes, regions with higher expression also have higher local Moran's I, such as FOXA1 and GATA3, while for some genes, this is not the case, such as FGL2 and LUM. \n",
    "\n",
    "Finally, we assess local spatial heteroscdasticity (LOSH) for these marker genes to find local heterogeneity:"
   ]
  },
  {
   "cell_type": "code",
   "execution_count": null,
   "id": "f23694fc",
   "metadata": {},
   "outputs": [],
   "source": [
    "sfe <- runUnivariate(sfe, \"LOSH\", features = genes_use, colGraphName = \"knn5\",\n",
    "                     BPPARAM = MulticoreParam(2))"
   ]
  },
  {
   "cell_type": "code",
   "execution_count": null,
   "id": "13b06cfe",
   "metadata": {
    "fig.height": 9,
    "fig.width": 9
   },
   "outputs": [],
   "source": [
    "plotLocalResult(sfe, \"LOSH\", features = genes_use, \n",
    "                colGeometryName = \"centroids\", ncol = 3, scattermore = TRUE, \n",
    "                pointsize = 0.3)"
   ]
  },
  {
   "cell_type": "markdown",
   "id": "9a67d545",
   "metadata": {
    "lines_to_next_cell": 0
   },
   "source": [
    "Again, just like in the [CosMX dataset](https://pachterlab.github.io/voyager/articles/vig4_cosmx.html#local-spatial-statistics-of-marker-genes), LOSH is higher where the gene is more highly expressed in some (e.g. CD3E, LUM, TENT5C) but not all cases (e.g. FOXA1, GATA3). This may be due to spatial distribution of different cell types.\n",
    "\n",
    "# Session info"
   ]
  },
  {
   "cell_type": "code",
   "execution_count": null,
   "id": "a7dec6c4",
   "metadata": {},
   "outputs": [],
   "source": [
    "sessionInfo()"
   ]
  },
  {
   "cell_type": "markdown",
   "id": "2ce904dc",
   "metadata": {},
   "source": [
    "# References"
   ]
  }
 ],
 "metadata": {
  "kernelspec": {
   "display_name": "R",
   "language": "R",
   "name": "ir"
  }
 },
 "nbformat": 4,
 "nbformat_minor": 5
}
