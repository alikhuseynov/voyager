{
 "cells": [
  {
   "cell_type": "raw",
<<<<<<< HEAD
<<<<<<< HEAD
<<<<<<< HEAD
<<<<<<< HEAD
<<<<<<< HEAD
<<<<<<< HEAD
<<<<<<< HEAD
   "id": "58e7d9c7",
||||||| 6a30bf1
   "id": "3cc32eb7",
=======
   "id": "11c09899",
>>>>>>> documentation-devel
||||||| d28b18c
   "id": "11c09899",
=======
   "id": "8c361e5a",
>>>>>>> documentation-devel
||||||| 6893f63
<<<<<<< HEAD
   "id": "58e7d9c7",
||||||| 6a30bf1
   "id": "3cc32eb7",
=======
   "id": "11c09899",
>>>>>>> documentation-devel
=======
   "id": "8b966316",
>>>>>>> c74c98c2450c2a1ba922ed9442f136238d6bc88b
||||||| 6d93b645
   "id": "8c361e5a",
=======
   "id": "81d52027",
>>>>>>> documentation-devel
||||||| 804edffb
<<<<<<< HEAD
<<<<<<< HEAD
<<<<<<< HEAD
   "id": "58e7d9c7",
||||||| 6a30bf1
   "id": "3cc32eb7",
=======
   "id": "11c09899",
>>>>>>> documentation-devel
||||||| d28b18c
   "id": "11c09899",
=======
   "id": "8c361e5a",
>>>>>>> documentation-devel
||||||| 6893f63
<<<<<<< HEAD
   "id": "58e7d9c7",
||||||| 6a30bf1
   "id": "3cc32eb7",
=======
   "id": "11c09899",
>>>>>>> documentation-devel
=======
   "id": "8b966316",
>>>>>>> c74c98c2450c2a1ba922ed9442f136238d6bc88b
=======
   "id": "daa59051",
>>>>>>> 035bb2637984ead2784fecff78c0c60cc4181202
||||||| 3effdfa5
   "id": "81d52027",
=======
   "id": "ec17c7b9",
>>>>>>> documentation-devel
||||||| 96c826da
<<<<<<< HEAD
<<<<<<< HEAD
<<<<<<< HEAD
<<<<<<< HEAD
<<<<<<< HEAD
   "id": "58e7d9c7",
||||||| 6a30bf1
   "id": "3cc32eb7",
=======
   "id": "11c09899",
>>>>>>> documentation-devel
||||||| d28b18c
   "id": "11c09899",
=======
   "id": "8c361e5a",
>>>>>>> documentation-devel
||||||| 6893f63
<<<<<<< HEAD
   "id": "58e7d9c7",
||||||| 6a30bf1
   "id": "3cc32eb7",
=======
   "id": "11c09899",
>>>>>>> documentation-devel
=======
   "id": "8b966316",
>>>>>>> c74c98c2450c2a1ba922ed9442f136238d6bc88b
||||||| 6d93b645
   "id": "8c361e5a",
=======
   "id": "81d52027",
>>>>>>> documentation-devel
||||||| 804edffb
<<<<<<< HEAD
<<<<<<< HEAD
<<<<<<< HEAD
   "id": "58e7d9c7",
||||||| 6a30bf1
   "id": "3cc32eb7",
=======
   "id": "11c09899",
>>>>>>> documentation-devel
||||||| d28b18c
   "id": "11c09899",
=======
   "id": "8c361e5a",
>>>>>>> documentation-devel
||||||| 6893f63
<<<<<<< HEAD
   "id": "58e7d9c7",
||||||| 6a30bf1
   "id": "3cc32eb7",
=======
   "id": "11c09899",
>>>>>>> documentation-devel
=======
   "id": "8b966316",
>>>>>>> c74c98c2450c2a1ba922ed9442f136238d6bc88b
=======
   "id": "daa59051",
>>>>>>> 035bb2637984ead2784fecff78c0c60cc4181202
=======
   "id": "1f78b114",
>>>>>>> 619c01f26351d57ac14d974b7af136ac5756103f
   "metadata": {},
   "source": [
    "---\n",
    "title: \"Xenium breast cancer dataset\"\n",
    "author: \"Lambda Moses\"\n",
    "date: \"`r Sys.Date()`\"\n",
    "output: \n",
    "  html_document:\n",
    "  toc: true\n",
    "  toc_float:\n",
    "    collapsed: false\n",
    "  toc_depth: 3\n",
    "bibliography: ref.bib\n",
    "vignette: >\n",
    "  %\\VignetteIndexEntry{xenium}\n",
    "  %\\VignetteEngine{knitr::rmarkdown}\n",
    "  %\\VignetteEncoding{UTF-8}\n",
    "---"
   ]
  },
  {
   "cell_type": "code",
   "execution_count": null,
<<<<<<< HEAD
<<<<<<< HEAD
<<<<<<< HEAD
<<<<<<< HEAD
<<<<<<< HEAD
<<<<<<< HEAD
<<<<<<< HEAD
   "id": "37e2256e",
||||||| 6a30bf1
   "id": "eea8c10a",
=======
   "id": "a0b7f9f3",
>>>>>>> documentation-devel
||||||| d28b18c
   "id": "a0b7f9f3",
=======
   "id": "c977bb4d",
>>>>>>> documentation-devel
||||||| 6893f63
<<<<<<< HEAD
   "id": "37e2256e",
||||||| 6a30bf1
   "id": "eea8c10a",
=======
   "id": "a0b7f9f3",
>>>>>>> documentation-devel
=======
   "id": "22108013",
>>>>>>> c74c98c2450c2a1ba922ed9442f136238d6bc88b
||||||| 6d93b645
   "id": "c977bb4d",
=======
   "id": "744a850a",
>>>>>>> documentation-devel
||||||| 804edffb
<<<<<<< HEAD
<<<<<<< HEAD
<<<<<<< HEAD
   "id": "37e2256e",
||||||| 6a30bf1
   "id": "eea8c10a",
=======
   "id": "a0b7f9f3",
>>>>>>> documentation-devel
||||||| d28b18c
   "id": "a0b7f9f3",
=======
   "id": "c977bb4d",
>>>>>>> documentation-devel
||||||| 6893f63
<<<<<<< HEAD
   "id": "37e2256e",
||||||| 6a30bf1
   "id": "eea8c10a",
=======
   "id": "a0b7f9f3",
>>>>>>> documentation-devel
=======
   "id": "22108013",
>>>>>>> c74c98c2450c2a1ba922ed9442f136238d6bc88b
=======
   "id": "d1fa6f3b",
>>>>>>> 035bb2637984ead2784fecff78c0c60cc4181202
||||||| 3effdfa5
   "id": "744a850a",
=======
   "id": "0173c5e5",
>>>>>>> documentation-devel
||||||| 96c826da
<<<<<<< HEAD
<<<<<<< HEAD
<<<<<<< HEAD
<<<<<<< HEAD
<<<<<<< HEAD
   "id": "37e2256e",
||||||| 6a30bf1
   "id": "eea8c10a",
=======
   "id": "a0b7f9f3",
>>>>>>> documentation-devel
||||||| d28b18c
   "id": "a0b7f9f3",
=======
   "id": "c977bb4d",
>>>>>>> documentation-devel
||||||| 6893f63
<<<<<<< HEAD
   "id": "37e2256e",
||||||| 6a30bf1
   "id": "eea8c10a",
=======
   "id": "a0b7f9f3",
>>>>>>> documentation-devel
=======
   "id": "22108013",
>>>>>>> c74c98c2450c2a1ba922ed9442f136238d6bc88b
||||||| 6d93b645
   "id": "c977bb4d",
=======
   "id": "744a850a",
>>>>>>> documentation-devel
||||||| 804edffb
<<<<<<< HEAD
<<<<<<< HEAD
<<<<<<< HEAD
   "id": "37e2256e",
||||||| 6a30bf1
   "id": "eea8c10a",
=======
   "id": "a0b7f9f3",
>>>>>>> documentation-devel
||||||| d28b18c
   "id": "a0b7f9f3",
=======
   "id": "c977bb4d",
>>>>>>> documentation-devel
||||||| 6893f63
<<<<<<< HEAD
   "id": "37e2256e",
||||||| 6a30bf1
   "id": "eea8c10a",
=======
   "id": "a0b7f9f3",
>>>>>>> documentation-devel
=======
   "id": "22108013",
>>>>>>> c74c98c2450c2a1ba922ed9442f136238d6bc88b
=======
   "id": "d1fa6f3b",
>>>>>>> 035bb2637984ead2784fecff78c0c60cc4181202
=======
   "id": "2a6b7ecc",
>>>>>>> 619c01f26351d57ac14d974b7af136ac5756103f
   "metadata": {
    "tags": [
     "remove_cell"
    ]
   },
   "outputs": [],
   "source": [
    "knitr::opts_chunk$set(\n",
    "  collapse = TRUE,\n",
    "  comment = \"#>\", fig.align = \"center\"\n",
    ")"
   ]
  },
  {
   "cell_type": "code",
   "execution_count": null,
<<<<<<< HEAD
<<<<<<< HEAD
<<<<<<< HEAD
<<<<<<< HEAD
<<<<<<< HEAD
<<<<<<< HEAD
<<<<<<< HEAD
   "id": "1943953a",
||||||| 6a30bf1
   "id": "d59d059a",
=======
   "id": "7a135b62",
>>>>>>> documentation-devel
||||||| d28b18c
   "id": "7a135b62",
=======
   "id": "549008cd",
>>>>>>> documentation-devel
||||||| 6893f63
<<<<<<< HEAD
   "id": "1943953a",
||||||| 6a30bf1
   "id": "d59d059a",
=======
   "id": "7a135b62",
>>>>>>> documentation-devel
=======
   "id": "b8ccc375",
>>>>>>> c74c98c2450c2a1ba922ed9442f136238d6bc88b
||||||| 6d93b645
   "id": "549008cd",
=======
   "id": "3817b58e",
>>>>>>> documentation-devel
||||||| 804edffb
<<<<<<< HEAD
<<<<<<< HEAD
<<<<<<< HEAD
   "id": "1943953a",
||||||| 6a30bf1
   "id": "d59d059a",
=======
   "id": "7a135b62",
>>>>>>> documentation-devel
||||||| d28b18c
   "id": "7a135b62",
=======
   "id": "549008cd",
>>>>>>> documentation-devel
||||||| 6893f63
<<<<<<< HEAD
   "id": "1943953a",
||||||| 6a30bf1
   "id": "d59d059a",
=======
   "id": "7a135b62",
>>>>>>> documentation-devel
=======
   "id": "b8ccc375",
>>>>>>> c74c98c2450c2a1ba922ed9442f136238d6bc88b
=======
   "id": "95a54424",
>>>>>>> 035bb2637984ead2784fecff78c0c60cc4181202
||||||| 3effdfa5
   "id": "3817b58e",
=======
   "id": "a25113aa",
>>>>>>> documentation-devel
||||||| 96c826da
<<<<<<< HEAD
<<<<<<< HEAD
<<<<<<< HEAD
<<<<<<< HEAD
<<<<<<< HEAD
   "id": "1943953a",
||||||| 6a30bf1
   "id": "d59d059a",
=======
   "id": "7a135b62",
>>>>>>> documentation-devel
||||||| d28b18c
   "id": "7a135b62",
=======
   "id": "549008cd",
>>>>>>> documentation-devel
||||||| 6893f63
<<<<<<< HEAD
   "id": "1943953a",
||||||| 6a30bf1
   "id": "d59d059a",
=======
   "id": "7a135b62",
>>>>>>> documentation-devel
=======
   "id": "b8ccc375",
>>>>>>> c74c98c2450c2a1ba922ed9442f136238d6bc88b
||||||| 6d93b645
   "id": "549008cd",
=======
   "id": "3817b58e",
>>>>>>> documentation-devel
||||||| 804edffb
<<<<<<< HEAD
<<<<<<< HEAD
<<<<<<< HEAD
   "id": "1943953a",
||||||| 6a30bf1
   "id": "d59d059a",
=======
   "id": "7a135b62",
>>>>>>> documentation-devel
||||||| d28b18c
   "id": "7a135b62",
=======
   "id": "549008cd",
>>>>>>> documentation-devel
||||||| 6893f63
<<<<<<< HEAD
   "id": "1943953a",
||||||| 6a30bf1
   "id": "d59d059a",
=======
   "id": "7a135b62",
>>>>>>> documentation-devel
=======
   "id": "b8ccc375",
>>>>>>> c74c98c2450c2a1ba922ed9442f136238d6bc88b
=======
   "id": "95a54424",
>>>>>>> 035bb2637984ead2784fecff78c0c60cc4181202
=======
   "id": "af199b15",
>>>>>>> 619c01f26351d57ac14d974b7af136ac5756103f
   "metadata": {
    "eval": false,
    "tags": [
     "remove_cell"
    ]
   },
   "outputs": [],
   "source": [
    "# Install Google Colab dependencies\n",
    "# Note: this can take 30+ minutes (many of the dependencies include C++ code, which needs to be compiled)\n",
    "\n",
    "# First install `sf`, `ragg` and `textshaping` and their system dependencies:\n",
    "system(\"apt-get -y update && apt-get install -y  libudunits2-dev libgdal-dev libgeos-dev libproj-dev libharfbuzz-dev libfribidi-dev\")\n",
    "install.packages(\"sf\")\n",
    "install.packages(\"textshaping\")\n",
    "install.packages(\"ragg\")\n",
    "\n",
    "# Install system dependencies of some other R packages that Voyager either imports or suggests:\n",
    "system(\"apt-get install -y libfribidi-dev libcairo2-dev libmagick++-dev\")\n",
    "\n",
    "# Install Voyager from Bioconductor:\n",
    "install.packages(\"BiocManager\")\n",
    "BiocManager::install(version = \"3.17\", ask = FALSE, update = FALSE, Ncpus = 2)\n",
    "BiocManager::install(\"scater\")\n",
    "system.time(\n",
    "  BiocManager::install(\"Voyager\", dependencies = TRUE, Ncpus = 2, update = FALSE)\n",
    ")\n",
    "\n",
    "packageVersion(\"Voyager\")"
   ]
  },
  {
   "cell_type": "markdown",
<<<<<<< HEAD
<<<<<<< HEAD
<<<<<<< HEAD
<<<<<<< HEAD
<<<<<<< HEAD
<<<<<<< HEAD
<<<<<<< HEAD
   "id": "48916c64",
||||||| 6a30bf1
   "id": "b37da681",
=======
   "id": "04c67f4d",
>>>>>>> documentation-devel
||||||| d28b18c
   "id": "04c67f4d",
=======
   "id": "d7b37f41",
>>>>>>> documentation-devel
||||||| 6893f63
<<<<<<< HEAD
   "id": "48916c64",
||||||| 6a30bf1
   "id": "b37da681",
=======
   "id": "04c67f4d",
>>>>>>> documentation-devel
=======
   "id": "074fa51b",
>>>>>>> c74c98c2450c2a1ba922ed9442f136238d6bc88b
||||||| 6d93b645
   "id": "d7b37f41",
=======
   "id": "87e56188",
>>>>>>> documentation-devel
||||||| 804edffb
<<<<<<< HEAD
<<<<<<< HEAD
<<<<<<< HEAD
   "id": "48916c64",
||||||| 6a30bf1
   "id": "b37da681",
=======
   "id": "04c67f4d",
>>>>>>> documentation-devel
||||||| d28b18c
   "id": "04c67f4d",
=======
   "id": "d7b37f41",
>>>>>>> documentation-devel
||||||| 6893f63
<<<<<<< HEAD
   "id": "48916c64",
||||||| 6a30bf1
   "id": "b37da681",
=======
   "id": "04c67f4d",
>>>>>>> documentation-devel
=======
   "id": "074fa51b",
>>>>>>> c74c98c2450c2a1ba922ed9442f136238d6bc88b
=======
   "id": "1debee97",
>>>>>>> 035bb2637984ead2784fecff78c0c60cc4181202
||||||| 3effdfa5
   "id": "87e56188",
=======
   "id": "82232861",
>>>>>>> documentation-devel
||||||| 96c826da
<<<<<<< HEAD
<<<<<<< HEAD
<<<<<<< HEAD
<<<<<<< HEAD
<<<<<<< HEAD
   "id": "48916c64",
||||||| 6a30bf1
   "id": "b37da681",
=======
   "id": "04c67f4d",
>>>>>>> documentation-devel
||||||| d28b18c
   "id": "04c67f4d",
=======
   "id": "d7b37f41",
>>>>>>> documentation-devel
||||||| 6893f63
<<<<<<< HEAD
   "id": "48916c64",
||||||| 6a30bf1
   "id": "b37da681",
=======
   "id": "04c67f4d",
>>>>>>> documentation-devel
=======
   "id": "074fa51b",
>>>>>>> c74c98c2450c2a1ba922ed9442f136238d6bc88b
||||||| 6d93b645
   "id": "d7b37f41",
=======
   "id": "87e56188",
>>>>>>> documentation-devel
||||||| 804edffb
<<<<<<< HEAD
<<<<<<< HEAD
<<<<<<< HEAD
   "id": "48916c64",
||||||| 6a30bf1
   "id": "b37da681",
=======
   "id": "04c67f4d",
>>>>>>> documentation-devel
||||||| d28b18c
   "id": "04c67f4d",
=======
   "id": "d7b37f41",
>>>>>>> documentation-devel
||||||| 6893f63
<<<<<<< HEAD
   "id": "48916c64",
||||||| 6a30bf1
   "id": "b37da681",
=======
   "id": "04c67f4d",
>>>>>>> documentation-devel
=======
   "id": "074fa51b",
>>>>>>> c74c98c2450c2a1ba922ed9442f136238d6bc88b
=======
   "id": "1debee97",
>>>>>>> 035bb2637984ead2784fecff78c0c60cc4181202
=======
   "id": "c63e41fe",
>>>>>>> 619c01f26351d57ac14d974b7af136ac5756103f
   "metadata": {},
   "source": [
    "# Introduction\n",
    "\n",
    "Xenium is a new technology from 10X genomics for single cell resolution smFISH based spatial transcriptomics. The first Xenium dataset is for formalin fixed paraffin embedded (FFPE) human breast tumor, reported in [@Janesick2022-rp] and downloaded from the [10X website](https://www.10xgenomics.com/products/xenium-in-situ/preview-dataset-human-breast).\n",
    "\n",
    "The gene count matrix was downloaded as an HDF5 file and read into R as a `SingleCellExperiment` (SCE) object with `DropletUtils::read10xCounts()`. The gene count matrix is originally a `DelayedArray`, so the data is not all loaded into memory. For now, the matrix has been converted into an in memory `dgCMatrix`. However, for the next release, we would like to write another vignette on on disk analyses. The challenge is representing `sf` data frames on disk, perhaps with [`sedona`](https://github.com/apache/incubator-sedona) and [`SQLDataFrame`](https://bioconductor.org/packages/release/bioc/html/SQLDataFrame.html).\n",
    "\n",
    "The cell metadata (including centroid coordinates) and cell segmentation polygons were downloaded as `parquet` files, a more compact way to store columnar data than CSV, and read into R as data frames with `arrow::read_parquet()`. The cell polygons were converted into `sf` data frame with `SpatialFeatureExperiment::df2sf()`. Then the SCE object was converted into `SpatialFeatureExperiment` (SFE) and the polygon geometry was added to the SFE object, which is in the `SFEData` package.\n",
    "\n",
    "Here we load the packages used in this vignette."
   ]
  },
  {
   "cell_type": "code",
   "execution_count": null,
<<<<<<< HEAD
<<<<<<< HEAD
<<<<<<< HEAD
<<<<<<< HEAD
<<<<<<< HEAD
<<<<<<< HEAD
<<<<<<< HEAD
   "id": "7025bd26",
||||||| 6a30bf1
   "id": "689d90e6",
=======
   "id": "a70145aa",
>>>>>>> documentation-devel
||||||| d28b18c
   "id": "a70145aa",
=======
   "id": "b62b4c0d",
>>>>>>> documentation-devel
||||||| 6893f63
<<<<<<< HEAD
   "id": "7025bd26",
||||||| 6a30bf1
   "id": "689d90e6",
=======
   "id": "a70145aa",
>>>>>>> documentation-devel
=======
   "id": "def212ab",
>>>>>>> c74c98c2450c2a1ba922ed9442f136238d6bc88b
||||||| 6d93b645
   "id": "b62b4c0d",
=======
   "id": "7dd5079d",
>>>>>>> documentation-devel
||||||| 804edffb
<<<<<<< HEAD
<<<<<<< HEAD
<<<<<<< HEAD
   "id": "7025bd26",
||||||| 6a30bf1
   "id": "689d90e6",
=======
   "id": "a70145aa",
>>>>>>> documentation-devel
||||||| d28b18c
   "id": "a70145aa",
=======
   "id": "b62b4c0d",
>>>>>>> documentation-devel
||||||| 6893f63
<<<<<<< HEAD
   "id": "7025bd26",
||||||| 6a30bf1
   "id": "689d90e6",
=======
   "id": "a70145aa",
>>>>>>> documentation-devel
=======
   "id": "def212ab",
>>>>>>> c74c98c2450c2a1ba922ed9442f136238d6bc88b
=======
   "id": "b7e4aef1",
>>>>>>> 035bb2637984ead2784fecff78c0c60cc4181202
||||||| 3effdfa5
   "id": "7dd5079d",
=======
   "id": "30184afe",
>>>>>>> documentation-devel
||||||| 96c826da
<<<<<<< HEAD
<<<<<<< HEAD
<<<<<<< HEAD
<<<<<<< HEAD
<<<<<<< HEAD
   "id": "7025bd26",
||||||| 6a30bf1
   "id": "689d90e6",
=======
   "id": "a70145aa",
>>>>>>> documentation-devel
||||||| d28b18c
   "id": "a70145aa",
=======
   "id": "b62b4c0d",
>>>>>>> documentation-devel
||||||| 6893f63
<<<<<<< HEAD
   "id": "7025bd26",
||||||| 6a30bf1
   "id": "689d90e6",
=======
   "id": "a70145aa",
>>>>>>> documentation-devel
=======
   "id": "def212ab",
>>>>>>> c74c98c2450c2a1ba922ed9442f136238d6bc88b
||||||| 6d93b645
   "id": "b62b4c0d",
=======
   "id": "7dd5079d",
>>>>>>> documentation-devel
||||||| 804edffb
<<<<<<< HEAD
<<<<<<< HEAD
<<<<<<< HEAD
   "id": "7025bd26",
||||||| 6a30bf1
   "id": "689d90e6",
=======
   "id": "a70145aa",
>>>>>>> documentation-devel
||||||| d28b18c
   "id": "a70145aa",
=======
   "id": "b62b4c0d",
>>>>>>> documentation-devel
||||||| 6893f63
<<<<<<< HEAD
   "id": "7025bd26",
||||||| 6a30bf1
   "id": "689d90e6",
=======
   "id": "a70145aa",
>>>>>>> documentation-devel
=======
   "id": "def212ab",
>>>>>>> c74c98c2450c2a1ba922ed9442f136238d6bc88b
=======
   "id": "b7e4aef1",
>>>>>>> 035bb2637984ead2784fecff78c0c60cc4181202
=======
   "id": "bcc73646",
>>>>>>> 619c01f26351d57ac14d974b7af136ac5756103f
   "metadata": {
    "name": "setup"
   },
   "outputs": [],
   "source": [
    "library(Voyager)\n",
    "library(SFEData) \n",
    "library(SingleCellExperiment)\n",
    "library(SpatialExperiment)\n",
    "library(SpatialFeatureExperiment)\n",
    "library(ggplot2)\n",
    "library(stringr)\n",
    "library(scater) \n",
    "library(scuttle)\n",
    "library(BiocParallel)\n",
    "library(BiocSingular)\n",
    "library(bluster)\n",
    "library(scran)\n",
    "library(patchwork)\n",
    "theme_set(theme_bw())"
   ]
  },
  {
   "cell_type": "code",
   "execution_count": null,
<<<<<<< HEAD
<<<<<<< HEAD
<<<<<<< HEAD
<<<<<<< HEAD
<<<<<<< HEAD
<<<<<<< HEAD
<<<<<<< HEAD
   "id": "71fa0864",
||||||| 6a30bf1
   "id": "ad2f7ac9",
=======
   "id": "9ace498d",
>>>>>>> documentation-devel
||||||| d28b18c
   "id": "9ace498d",
=======
   "id": "90309ead",
>>>>>>> documentation-devel
||||||| 6893f63
<<<<<<< HEAD
   "id": "71fa0864",
||||||| 6a30bf1
   "id": "ad2f7ac9",
=======
   "id": "9ace498d",
>>>>>>> documentation-devel
=======
   "id": "1a922a05",
>>>>>>> c74c98c2450c2a1ba922ed9442f136238d6bc88b
||||||| 6d93b645
   "id": "90309ead",
=======
   "id": "d81ba3c6",
>>>>>>> documentation-devel
||||||| 804edffb
<<<<<<< HEAD
<<<<<<< HEAD
<<<<<<< HEAD
   "id": "71fa0864",
||||||| 6a30bf1
   "id": "ad2f7ac9",
=======
   "id": "9ace498d",
>>>>>>> documentation-devel
||||||| d28b18c
   "id": "9ace498d",
=======
   "id": "90309ead",
>>>>>>> documentation-devel
||||||| 6893f63
<<<<<<< HEAD
   "id": "71fa0864",
||||||| 6a30bf1
   "id": "ad2f7ac9",
=======
   "id": "9ace498d",
>>>>>>> documentation-devel
=======
   "id": "1a922a05",
>>>>>>> c74c98c2450c2a1ba922ed9442f136238d6bc88b
=======
   "id": "3d933295",
>>>>>>> 035bb2637984ead2784fecff78c0c60cc4181202
||||||| 3effdfa5
   "id": "d81ba3c6",
=======
   "id": "33b76b73",
>>>>>>> documentation-devel
||||||| 96c826da
<<<<<<< HEAD
<<<<<<< HEAD
<<<<<<< HEAD
<<<<<<< HEAD
<<<<<<< HEAD
   "id": "71fa0864",
||||||| 6a30bf1
   "id": "ad2f7ac9",
=======
   "id": "9ace498d",
>>>>>>> documentation-devel
||||||| d28b18c
   "id": "9ace498d",
=======
   "id": "90309ead",
>>>>>>> documentation-devel
||||||| 6893f63
<<<<<<< HEAD
   "id": "71fa0864",
||||||| 6a30bf1
   "id": "ad2f7ac9",
=======
   "id": "9ace498d",
>>>>>>> documentation-devel
=======
   "id": "1a922a05",
>>>>>>> c74c98c2450c2a1ba922ed9442f136238d6bc88b
||||||| 6d93b645
   "id": "90309ead",
=======
   "id": "d81ba3c6",
>>>>>>> documentation-devel
||||||| 804edffb
<<<<<<< HEAD
<<<<<<< HEAD
<<<<<<< HEAD
   "id": "71fa0864",
||||||| 6a30bf1
   "id": "ad2f7ac9",
=======
   "id": "9ace498d",
>>>>>>> documentation-devel
||||||| d28b18c
   "id": "9ace498d",
=======
   "id": "90309ead",
>>>>>>> documentation-devel
||||||| 6893f63
<<<<<<< HEAD
   "id": "71fa0864",
||||||| 6a30bf1
   "id": "ad2f7ac9",
=======
   "id": "9ace498d",
>>>>>>> documentation-devel
=======
   "id": "1a922a05",
>>>>>>> c74c98c2450c2a1ba922ed9442f136238d6bc88b
=======
   "id": "3d933295",
>>>>>>> 035bb2637984ead2784fecff78c0c60cc4181202
=======
   "id": "d115ca81",
>>>>>>> 619c01f26351d57ac14d974b7af136ac5756103f
   "metadata": {},
   "outputs": [],
   "source": [
    "(sfe <- JanesickBreastData(dataset = \"rep2\"))"
   ]
  },
  {
   "cell_type": "markdown",
<<<<<<< HEAD
<<<<<<< HEAD
<<<<<<< HEAD
<<<<<<< HEAD
<<<<<<< HEAD
<<<<<<< HEAD
<<<<<<< HEAD
   "id": "3a8fdb5f",
||||||| 6a30bf1
   "id": "b0d829fe",
=======
   "id": "da07b366",
>>>>>>> documentation-devel
||||||| d28b18c
   "id": "da07b366",
=======
   "id": "a511ed7a",
>>>>>>> documentation-devel
||||||| 6893f63
<<<<<<< HEAD
   "id": "3a8fdb5f",
||||||| 6a30bf1
   "id": "b0d829fe",
=======
   "id": "da07b366",
>>>>>>> documentation-devel
=======
   "id": "359d8996",
>>>>>>> c74c98c2450c2a1ba922ed9442f136238d6bc88b
||||||| 6d93b645
   "id": "a511ed7a",
=======
   "id": "81462d64",
>>>>>>> documentation-devel
||||||| 804edffb
<<<<<<< HEAD
<<<<<<< HEAD
<<<<<<< HEAD
   "id": "3a8fdb5f",
||||||| 6a30bf1
   "id": "b0d829fe",
=======
   "id": "da07b366",
>>>>>>> documentation-devel
||||||| d28b18c
   "id": "da07b366",
=======
   "id": "a511ed7a",
>>>>>>> documentation-devel
||||||| 6893f63
<<<<<<< HEAD
   "id": "3a8fdb5f",
||||||| 6a30bf1
   "id": "b0d829fe",
=======
   "id": "da07b366",
>>>>>>> documentation-devel
=======
   "id": "359d8996",
>>>>>>> c74c98c2450c2a1ba922ed9442f136238d6bc88b
=======
   "id": "68768f52",
>>>>>>> 035bb2637984ead2784fecff78c0c60cc4181202
||||||| 3effdfa5
   "id": "81462d64",
=======
   "id": "8ffd3322",
>>>>>>> documentation-devel
||||||| 96c826da
<<<<<<< HEAD
<<<<<<< HEAD
<<<<<<< HEAD
<<<<<<< HEAD
<<<<<<< HEAD
   "id": "3a8fdb5f",
||||||| 6a30bf1
   "id": "b0d829fe",
=======
   "id": "da07b366",
>>>>>>> documentation-devel
||||||| d28b18c
   "id": "da07b366",
=======
   "id": "a511ed7a",
>>>>>>> documentation-devel
||||||| 6893f63
<<<<<<< HEAD
   "id": "3a8fdb5f",
||||||| 6a30bf1
   "id": "b0d829fe",
=======
   "id": "da07b366",
>>>>>>> documentation-devel
=======
   "id": "359d8996",
>>>>>>> c74c98c2450c2a1ba922ed9442f136238d6bc88b
||||||| 6d93b645
   "id": "a511ed7a",
=======
   "id": "81462d64",
>>>>>>> documentation-devel
||||||| 804edffb
<<<<<<< HEAD
<<<<<<< HEAD
<<<<<<< HEAD
   "id": "3a8fdb5f",
||||||| 6a30bf1
   "id": "b0d829fe",
=======
   "id": "da07b366",
>>>>>>> documentation-devel
||||||| d28b18c
   "id": "da07b366",
=======
   "id": "a511ed7a",
>>>>>>> documentation-devel
||||||| 6893f63
<<<<<<< HEAD
   "id": "3a8fdb5f",
||||||| 6a30bf1
   "id": "b0d829fe",
=======
   "id": "da07b366",
>>>>>>> documentation-devel
=======
   "id": "359d8996",
>>>>>>> c74c98c2450c2a1ba922ed9442f136238d6bc88b
=======
   "id": "68768f52",
>>>>>>> 035bb2637984ead2784fecff78c0c60cc4181202
=======
   "id": "60139b7d",
>>>>>>> 619c01f26351d57ac14d974b7af136ac5756103f
   "metadata": {
    "lines_to_next_cell": 0
   },
   "source": [
    "There are 118708 cells in this dataset, a little more than in the CosMX dataset.\n",
    "\n",
    "The SFE object doesn't have column names (i.e. cell IDs). Here we assign cell IDs."
   ]
  },
  {
   "cell_type": "code",
   "execution_count": null,
<<<<<<< HEAD
<<<<<<< HEAD
<<<<<<< HEAD
<<<<<<< HEAD
<<<<<<< HEAD
<<<<<<< HEAD
<<<<<<< HEAD
   "id": "9d8e7cdf",
||||||| 6a30bf1
   "id": "ccde8d89",
=======
   "id": "a37f9c5b",
>>>>>>> documentation-devel
||||||| d28b18c
   "id": "a37f9c5b",
=======
   "id": "f963b6d6",
>>>>>>> documentation-devel
||||||| 6893f63
<<<<<<< HEAD
   "id": "9d8e7cdf",
||||||| 6a30bf1
   "id": "ccde8d89",
=======
   "id": "a37f9c5b",
>>>>>>> documentation-devel
=======
   "id": "54904bc7",
>>>>>>> c74c98c2450c2a1ba922ed9442f136238d6bc88b
||||||| 6d93b645
   "id": "f963b6d6",
=======
   "id": "bfc4e6ba",
>>>>>>> documentation-devel
||||||| 804edffb
<<<<<<< HEAD
<<<<<<< HEAD
<<<<<<< HEAD
   "id": "9d8e7cdf",
||||||| 6a30bf1
   "id": "ccde8d89",
=======
   "id": "a37f9c5b",
>>>>>>> documentation-devel
||||||| d28b18c
   "id": "a37f9c5b",
=======
   "id": "f963b6d6",
>>>>>>> documentation-devel
||||||| 6893f63
<<<<<<< HEAD
   "id": "9d8e7cdf",
||||||| 6a30bf1
   "id": "ccde8d89",
=======
   "id": "a37f9c5b",
>>>>>>> documentation-devel
=======
   "id": "54904bc7",
>>>>>>> c74c98c2450c2a1ba922ed9442f136238d6bc88b
=======
   "id": "5e359e22",
>>>>>>> 035bb2637984ead2784fecff78c0c60cc4181202
||||||| 3effdfa5
   "id": "bfc4e6ba",
=======
   "id": "aacbd1fa",
>>>>>>> documentation-devel
||||||| 96c826da
<<<<<<< HEAD
<<<<<<< HEAD
<<<<<<< HEAD
<<<<<<< HEAD
<<<<<<< HEAD
   "id": "9d8e7cdf",
||||||| 6a30bf1
   "id": "ccde8d89",
=======
   "id": "a37f9c5b",
>>>>>>> documentation-devel
||||||| d28b18c
   "id": "a37f9c5b",
=======
   "id": "f963b6d6",
>>>>>>> documentation-devel
||||||| 6893f63
<<<<<<< HEAD
   "id": "9d8e7cdf",
||||||| 6a30bf1
   "id": "ccde8d89",
=======
   "id": "a37f9c5b",
>>>>>>> documentation-devel
=======
   "id": "54904bc7",
>>>>>>> c74c98c2450c2a1ba922ed9442f136238d6bc88b
||||||| 6d93b645
   "id": "f963b6d6",
=======
   "id": "bfc4e6ba",
>>>>>>> documentation-devel
||||||| 804edffb
<<<<<<< HEAD
<<<<<<< HEAD
<<<<<<< HEAD
   "id": "9d8e7cdf",
||||||| 6a30bf1
   "id": "ccde8d89",
=======
   "id": "a37f9c5b",
>>>>>>> documentation-devel
||||||| d28b18c
   "id": "a37f9c5b",
=======
   "id": "f963b6d6",
>>>>>>> documentation-devel
||||||| 6893f63
<<<<<<< HEAD
   "id": "9d8e7cdf",
||||||| 6a30bf1
   "id": "ccde8d89",
=======
   "id": "a37f9c5b",
>>>>>>> documentation-devel
=======
   "id": "54904bc7",
>>>>>>> c74c98c2450c2a1ba922ed9442f136238d6bc88b
=======
   "id": "5e359e22",
>>>>>>> 035bb2637984ead2784fecff78c0c60cc4181202
=======
   "id": "661ad6a8",
>>>>>>> 619c01f26351d57ac14d974b7af136ac5756103f
   "metadata": {},
   "outputs": [],
   "source": [
    "colnames(sfe) <- seq_len(ncol(sfe))"
   ]
  },
  {
   "cell_type": "markdown",
<<<<<<< HEAD
<<<<<<< HEAD
<<<<<<< HEAD
<<<<<<< HEAD
<<<<<<< HEAD
<<<<<<< HEAD
<<<<<<< HEAD
   "id": "3f12b85d",
||||||| 6a30bf1
   "id": "9190fa80",
=======
   "id": "7c415f97",
>>>>>>> documentation-devel
||||||| d28b18c
   "id": "7c415f97",
=======
   "id": "4648d596",
>>>>>>> documentation-devel
||||||| 6893f63
<<<<<<< HEAD
   "id": "3f12b85d",
||||||| 6a30bf1
   "id": "9190fa80",
=======
   "id": "7c415f97",
>>>>>>> documentation-devel
=======
   "id": "106f03e4",
>>>>>>> c74c98c2450c2a1ba922ed9442f136238d6bc88b
||||||| 6d93b645
   "id": "4648d596",
=======
   "id": "36a33eea",
>>>>>>> documentation-devel
||||||| 804edffb
<<<<<<< HEAD
<<<<<<< HEAD
<<<<<<< HEAD
   "id": "3f12b85d",
||||||| 6a30bf1
   "id": "9190fa80",
=======
   "id": "7c415f97",
>>>>>>> documentation-devel
||||||| d28b18c
   "id": "7c415f97",
=======
   "id": "4648d596",
>>>>>>> documentation-devel
||||||| 6893f63
<<<<<<< HEAD
   "id": "3f12b85d",
||||||| 6a30bf1
   "id": "9190fa80",
=======
   "id": "7c415f97",
>>>>>>> documentation-devel
=======
   "id": "106f03e4",
>>>>>>> c74c98c2450c2a1ba922ed9442f136238d6bc88b
=======
   "id": "9c4069a8",
>>>>>>> 035bb2637984ead2784fecff78c0c60cc4181202
||||||| 3effdfa5
   "id": "36a33eea",
=======
   "id": "edebc8b6",
>>>>>>> documentation-devel
||||||| 96c826da
<<<<<<< HEAD
<<<<<<< HEAD
<<<<<<< HEAD
<<<<<<< HEAD
<<<<<<< HEAD
   "id": "3f12b85d",
||||||| 6a30bf1
   "id": "9190fa80",
=======
   "id": "7c415f97",
>>>>>>> documentation-devel
||||||| d28b18c
   "id": "7c415f97",
=======
   "id": "4648d596",
>>>>>>> documentation-devel
||||||| 6893f63
<<<<<<< HEAD
   "id": "3f12b85d",
||||||| 6a30bf1
   "id": "9190fa80",
=======
   "id": "7c415f97",
>>>>>>> documentation-devel
=======
   "id": "106f03e4",
>>>>>>> c74c98c2450c2a1ba922ed9442f136238d6bc88b
||||||| 6d93b645
   "id": "4648d596",
=======
   "id": "36a33eea",
>>>>>>> documentation-devel
||||||| 804edffb
<<<<<<< HEAD
<<<<<<< HEAD
<<<<<<< HEAD
   "id": "3f12b85d",
||||||| 6a30bf1
   "id": "9190fa80",
=======
   "id": "7c415f97",
>>>>>>> documentation-devel
||||||| d28b18c
   "id": "7c415f97",
=======
   "id": "4648d596",
>>>>>>> documentation-devel
||||||| 6893f63
<<<<<<< HEAD
   "id": "3f12b85d",
||||||| 6a30bf1
   "id": "9190fa80",
=======
   "id": "7c415f97",
>>>>>>> documentation-devel
=======
   "id": "106f03e4",
>>>>>>> c74c98c2450c2a1ba922ed9442f136238d6bc88b
=======
   "id": "9c4069a8",
>>>>>>> 035bb2637984ead2784fecff78c0c60cc4181202
=======
   "id": "b07721ef",
>>>>>>> 619c01f26351d57ac14d974b7af136ac5756103f
   "metadata": {},
   "source": [
    "This is what the tissue, with the cell outlines, looks like"
   ]
  },
  {
   "cell_type": "code",
   "execution_count": null,
<<<<<<< HEAD
<<<<<<< HEAD
<<<<<<< HEAD
<<<<<<< HEAD
<<<<<<< HEAD
<<<<<<< HEAD
<<<<<<< HEAD
   "id": "40daa6a6",
||||||| 6a30bf1
   "id": "aa3c80cd",
=======
   "id": "65b484c7",
>>>>>>> documentation-devel
||||||| d28b18c
   "id": "65b484c7",
=======
   "id": "7d701daf",
>>>>>>> documentation-devel
||||||| 6893f63
<<<<<<< HEAD
   "id": "40daa6a6",
||||||| 6a30bf1
   "id": "aa3c80cd",
=======
   "id": "65b484c7",
>>>>>>> documentation-devel
=======
   "id": "cbf93663",
>>>>>>> c74c98c2450c2a1ba922ed9442f136238d6bc88b
||||||| 6d93b645
   "id": "7d701daf",
=======
   "id": "3c9276c4",
>>>>>>> documentation-devel
||||||| 804edffb
<<<<<<< HEAD
<<<<<<< HEAD
<<<<<<< HEAD
   "id": "40daa6a6",
||||||| 6a30bf1
   "id": "aa3c80cd",
=======
   "id": "65b484c7",
>>>>>>> documentation-devel
||||||| d28b18c
   "id": "65b484c7",
=======
   "id": "7d701daf",
>>>>>>> documentation-devel
||||||| 6893f63
<<<<<<< HEAD
   "id": "40daa6a6",
||||||| 6a30bf1
   "id": "aa3c80cd",
=======
   "id": "65b484c7",
>>>>>>> documentation-devel
=======
   "id": "cbf93663",
>>>>>>> c74c98c2450c2a1ba922ed9442f136238d6bc88b
=======
   "id": "70aa698e",
>>>>>>> 035bb2637984ead2784fecff78c0c60cc4181202
||||||| 3effdfa5
   "id": "3c9276c4",
=======
   "id": "c56b8b7c",
>>>>>>> documentation-devel
||||||| 96c826da
<<<<<<< HEAD
<<<<<<< HEAD
<<<<<<< HEAD
<<<<<<< HEAD
<<<<<<< HEAD
   "id": "40daa6a6",
||||||| 6a30bf1
   "id": "aa3c80cd",
=======
   "id": "65b484c7",
>>>>>>> documentation-devel
||||||| d28b18c
   "id": "65b484c7",
=======
   "id": "7d701daf",
>>>>>>> documentation-devel
||||||| 6893f63
<<<<<<< HEAD
   "id": "40daa6a6",
||||||| 6a30bf1
   "id": "aa3c80cd",
=======
   "id": "65b484c7",
>>>>>>> documentation-devel
=======
   "id": "cbf93663",
>>>>>>> c74c98c2450c2a1ba922ed9442f136238d6bc88b
||||||| 6d93b645
   "id": "7d701daf",
=======
   "id": "3c9276c4",
>>>>>>> documentation-devel
||||||| 804edffb
<<<<<<< HEAD
<<<<<<< HEAD
<<<<<<< HEAD
   "id": "40daa6a6",
||||||| 6a30bf1
   "id": "aa3c80cd",
=======
   "id": "65b484c7",
>>>>>>> documentation-devel
||||||| d28b18c
   "id": "65b484c7",
=======
   "id": "7d701daf",
>>>>>>> documentation-devel
||||||| 6893f63
<<<<<<< HEAD
   "id": "40daa6a6",
||||||| 6a30bf1
   "id": "aa3c80cd",
=======
   "id": "65b484c7",
>>>>>>> documentation-devel
=======
   "id": "cbf93663",
>>>>>>> c74c98c2450c2a1ba922ed9442f136238d6bc88b
=======
   "id": "70aa698e",
>>>>>>> 035bb2637984ead2784fecff78c0c60cc4181202
=======
   "id": "2869b330",
>>>>>>> 619c01f26351d57ac14d974b7af136ac5756103f
   "metadata": {},
   "outputs": [],
   "source": [
    "plotGeometry(sfe, \"cellSeg\")"
   ]
  },
  {
   "cell_type": "markdown",
<<<<<<< HEAD
<<<<<<< HEAD
<<<<<<< HEAD
<<<<<<< HEAD
<<<<<<< HEAD
<<<<<<< HEAD
<<<<<<< HEAD
   "id": "eaf220b7",
||||||| 6a30bf1
   "id": "00b98109",
=======
   "id": "823f8c80",
>>>>>>> documentation-devel
||||||| d28b18c
   "id": "823f8c80",
=======
   "id": "c613afef",
>>>>>>> documentation-devel
||||||| 6893f63
<<<<<<< HEAD
   "id": "eaf220b7",
||||||| 6a30bf1
   "id": "00b98109",
=======
   "id": "823f8c80",
>>>>>>> documentation-devel
=======
   "id": "9a8d2a3f",
>>>>>>> c74c98c2450c2a1ba922ed9442f136238d6bc88b
||||||| 6d93b645
   "id": "c613afef",
=======
   "id": "97db2941",
>>>>>>> documentation-devel
||||||| 804edffb
<<<<<<< HEAD
<<<<<<< HEAD
<<<<<<< HEAD
   "id": "eaf220b7",
||||||| 6a30bf1
   "id": "00b98109",
=======
   "id": "823f8c80",
>>>>>>> documentation-devel
||||||| d28b18c
   "id": "823f8c80",
=======
   "id": "c613afef",
>>>>>>> documentation-devel
||||||| 6893f63
<<<<<<< HEAD
   "id": "eaf220b7",
||||||| 6a30bf1
   "id": "00b98109",
=======
   "id": "823f8c80",
>>>>>>> documentation-devel
=======
   "id": "9a8d2a3f",
>>>>>>> c74c98c2450c2a1ba922ed9442f136238d6bc88b
=======
   "id": "bb952aad",
>>>>>>> 035bb2637984ead2784fecff78c0c60cc4181202
||||||| 3effdfa5
   "id": "97db2941",
=======
   "id": "767fa39f",
>>>>>>> documentation-devel
||||||| 96c826da
<<<<<<< HEAD
<<<<<<< HEAD
<<<<<<< HEAD
<<<<<<< HEAD
<<<<<<< HEAD
   "id": "eaf220b7",
||||||| 6a30bf1
   "id": "00b98109",
=======
   "id": "823f8c80",
>>>>>>> documentation-devel
||||||| d28b18c
   "id": "823f8c80",
=======
   "id": "c613afef",
>>>>>>> documentation-devel
||||||| 6893f63
<<<<<<< HEAD
   "id": "eaf220b7",
||||||| 6a30bf1
   "id": "00b98109",
=======
   "id": "823f8c80",
>>>>>>> documentation-devel
=======
   "id": "9a8d2a3f",
>>>>>>> c74c98c2450c2a1ba922ed9442f136238d6bc88b
||||||| 6d93b645
   "id": "c613afef",
=======
   "id": "97db2941",
>>>>>>> documentation-devel
||||||| 804edffb
<<<<<<< HEAD
<<<<<<< HEAD
<<<<<<< HEAD
   "id": "eaf220b7",
||||||| 6a30bf1
   "id": "00b98109",
=======
   "id": "823f8c80",
>>>>>>> documentation-devel
||||||| d28b18c
   "id": "823f8c80",
=======
   "id": "c613afef",
>>>>>>> documentation-devel
||||||| 6893f63
<<<<<<< HEAD
   "id": "eaf220b7",
||||||| 6a30bf1
   "id": "00b98109",
=======
   "id": "823f8c80",
>>>>>>> documentation-devel
=======
   "id": "9a8d2a3f",
>>>>>>> c74c98c2450c2a1ba922ed9442f136238d6bc88b
=======
   "id": "bb952aad",
>>>>>>> 035bb2637984ead2784fecff78c0c60cc4181202
=======
   "id": "d4bf4b27",
>>>>>>> 619c01f26351d57ac14d974b7af136ac5756103f
   "metadata": {
    "lines_to_next_cell": 0
   },
   "source": [
    "Plot cell density in space"
   ]
  },
  {
   "cell_type": "code",
   "execution_count": null,
<<<<<<< HEAD
<<<<<<< HEAD
<<<<<<< HEAD
<<<<<<< HEAD
<<<<<<< HEAD
<<<<<<< HEAD
<<<<<<< HEAD
   "id": "17c9306e",
||||||| 6a30bf1
   "id": "74a2d284",
=======
   "id": "c0697520",
>>>>>>> documentation-devel
||||||| d28b18c
   "id": "c0697520",
=======
   "id": "a03a1829",
>>>>>>> documentation-devel
||||||| 6893f63
<<<<<<< HEAD
   "id": "17c9306e",
||||||| 6a30bf1
   "id": "74a2d284",
=======
   "id": "c0697520",
>>>>>>> documentation-devel
=======
   "id": "8f5522d4",
>>>>>>> c74c98c2450c2a1ba922ed9442f136238d6bc88b
||||||| 6d93b645
   "id": "a03a1829",
=======
   "id": "9e5b9acc",
>>>>>>> documentation-devel
||||||| 804edffb
<<<<<<< HEAD
<<<<<<< HEAD
<<<<<<< HEAD
   "id": "17c9306e",
||||||| 6a30bf1
   "id": "74a2d284",
=======
   "id": "c0697520",
>>>>>>> documentation-devel
||||||| d28b18c
   "id": "c0697520",
=======
   "id": "a03a1829",
>>>>>>> documentation-devel
||||||| 6893f63
<<<<<<< HEAD
   "id": "17c9306e",
||||||| 6a30bf1
   "id": "74a2d284",
=======
   "id": "c0697520",
>>>>>>> documentation-devel
=======
   "id": "8f5522d4",
>>>>>>> c74c98c2450c2a1ba922ed9442f136238d6bc88b
=======
   "id": "c522a7c9",
>>>>>>> 035bb2637984ead2784fecff78c0c60cc4181202
||||||| 3effdfa5
   "id": "9e5b9acc",
=======
   "id": "0a988862",
>>>>>>> documentation-devel
||||||| 96c826da
<<<<<<< HEAD
<<<<<<< HEAD
<<<<<<< HEAD
<<<<<<< HEAD
<<<<<<< HEAD
   "id": "17c9306e",
||||||| 6a30bf1
   "id": "74a2d284",
=======
   "id": "c0697520",
>>>>>>> documentation-devel
||||||| d28b18c
   "id": "c0697520",
=======
   "id": "a03a1829",
>>>>>>> documentation-devel
||||||| 6893f63
<<<<<<< HEAD
   "id": "17c9306e",
||||||| 6a30bf1
   "id": "74a2d284",
=======
   "id": "c0697520",
>>>>>>> documentation-devel
=======
   "id": "8f5522d4",
>>>>>>> c74c98c2450c2a1ba922ed9442f136238d6bc88b
||||||| 6d93b645
   "id": "a03a1829",
=======
   "id": "9e5b9acc",
>>>>>>> documentation-devel
||||||| 804edffb
<<<<<<< HEAD
<<<<<<< HEAD
<<<<<<< HEAD
   "id": "17c9306e",
||||||| 6a30bf1
   "id": "74a2d284",
=======
   "id": "c0697520",
>>>>>>> documentation-devel
||||||| d28b18c
   "id": "c0697520",
=======
   "id": "a03a1829",
>>>>>>> documentation-devel
||||||| 6893f63
<<<<<<< HEAD
   "id": "17c9306e",
||||||| 6a30bf1
   "id": "74a2d284",
=======
   "id": "c0697520",
>>>>>>> documentation-devel
=======
   "id": "8f5522d4",
>>>>>>> c74c98c2450c2a1ba922ed9442f136238d6bc88b
=======
   "id": "c522a7c9",
>>>>>>> 035bb2637984ead2784fecff78c0c60cc4181202
=======
   "id": "e54d6872",
>>>>>>> 619c01f26351d57ac14d974b7af136ac5756103f
   "metadata": {},
   "outputs": [],
   "source": [
    "plotCellBin2D(sfe, hex = TRUE)"
   ]
  },
  {
   "cell_type": "markdown",
<<<<<<< HEAD
<<<<<<< HEAD
<<<<<<< HEAD
<<<<<<< HEAD
<<<<<<< HEAD
<<<<<<< HEAD
<<<<<<< HEAD
   "id": "dd8ac4d6",
||||||| 6a30bf1
   "id": "7d753d9f",
=======
   "id": "f1e6aee2",
>>>>>>> documentation-devel
||||||| d28b18c
   "id": "f1e6aee2",
=======
   "id": "a5a1c21c",
>>>>>>> documentation-devel
||||||| 6893f63
<<<<<<< HEAD
   "id": "dd8ac4d6",
||||||| 6a30bf1
   "id": "7d753d9f",
=======
   "id": "f1e6aee2",
>>>>>>> documentation-devel
=======
   "id": "a3acce66",
>>>>>>> c74c98c2450c2a1ba922ed9442f136238d6bc88b
||||||| 6d93b645
   "id": "a5a1c21c",
=======
   "id": "6e0b687a",
>>>>>>> documentation-devel
||||||| 804edffb
<<<<<<< HEAD
<<<<<<< HEAD
<<<<<<< HEAD
   "id": "dd8ac4d6",
||||||| 6a30bf1
   "id": "7d753d9f",
=======
   "id": "f1e6aee2",
>>>>>>> documentation-devel
||||||| d28b18c
   "id": "f1e6aee2",
=======
   "id": "a5a1c21c",
>>>>>>> documentation-devel
||||||| 6893f63
<<<<<<< HEAD
   "id": "dd8ac4d6",
||||||| 6a30bf1
   "id": "7d753d9f",
=======
   "id": "f1e6aee2",
>>>>>>> documentation-devel
=======
   "id": "a3acce66",
>>>>>>> c74c98c2450c2a1ba922ed9442f136238d6bc88b
=======
   "id": "b681dd5f",
>>>>>>> 035bb2637984ead2784fecff78c0c60cc4181202
||||||| 3effdfa5
   "id": "6e0b687a",
=======
   "id": "bdc814bd",
>>>>>>> documentation-devel
||||||| 96c826da
<<<<<<< HEAD
<<<<<<< HEAD
<<<<<<< HEAD
<<<<<<< HEAD
<<<<<<< HEAD
   "id": "dd8ac4d6",
||||||| 6a30bf1
   "id": "7d753d9f",
=======
   "id": "f1e6aee2",
>>>>>>> documentation-devel
||||||| d28b18c
   "id": "f1e6aee2",
=======
   "id": "a5a1c21c",
>>>>>>> documentation-devel
||||||| 6893f63
<<<<<<< HEAD
   "id": "dd8ac4d6",
||||||| 6a30bf1
   "id": "7d753d9f",
=======
   "id": "f1e6aee2",
>>>>>>> documentation-devel
=======
   "id": "a3acce66",
>>>>>>> c74c98c2450c2a1ba922ed9442f136238d6bc88b
||||||| 6d93b645
   "id": "a5a1c21c",
=======
   "id": "6e0b687a",
>>>>>>> documentation-devel
||||||| 804edffb
<<<<<<< HEAD
<<<<<<< HEAD
<<<<<<< HEAD
   "id": "dd8ac4d6",
||||||| 6a30bf1
   "id": "7d753d9f",
=======
   "id": "f1e6aee2",
>>>>>>> documentation-devel
||||||| d28b18c
   "id": "f1e6aee2",
=======
   "id": "a5a1c21c",
>>>>>>> documentation-devel
||||||| 6893f63
<<<<<<< HEAD
   "id": "dd8ac4d6",
||||||| 6a30bf1
   "id": "7d753d9f",
=======
   "id": "f1e6aee2",
>>>>>>> documentation-devel
=======
   "id": "a3acce66",
>>>>>>> c74c98c2450c2a1ba922ed9442f136238d6bc88b
=======
   "id": "b681dd5f",
>>>>>>> 035bb2637984ead2784fecff78c0c60cc4181202
=======
   "id": "5750d23b",
>>>>>>> 619c01f26351d57ac14d974b7af136ac5756103f
   "metadata": {},
   "source": [
    "# Quality control\n",
    "## Cells\n",
    "Some QC metrics are precomputed and are stored in `colData`"
   ]
  },
  {
   "cell_type": "code",
   "execution_count": null,
<<<<<<< HEAD
<<<<<<< HEAD
<<<<<<< HEAD
<<<<<<< HEAD
<<<<<<< HEAD
<<<<<<< HEAD
<<<<<<< HEAD
   "id": "bf6307b6",
||||||| 6a30bf1
   "id": "d1b1c6f1",
=======
   "id": "a200e9dd",
>>>>>>> documentation-devel
||||||| d28b18c
   "id": "a200e9dd",
=======
   "id": "f6d455e3",
>>>>>>> documentation-devel
||||||| 6893f63
<<<<<<< HEAD
   "id": "bf6307b6",
||||||| 6a30bf1
   "id": "d1b1c6f1",
=======
   "id": "a200e9dd",
>>>>>>> documentation-devel
=======
   "id": "c4ae3858",
>>>>>>> c74c98c2450c2a1ba922ed9442f136238d6bc88b
||||||| 6d93b645
   "id": "f6d455e3",
=======
   "id": "7eddcaae",
>>>>>>> documentation-devel
||||||| 804edffb
<<<<<<< HEAD
<<<<<<< HEAD
<<<<<<< HEAD
   "id": "bf6307b6",
||||||| 6a30bf1
   "id": "d1b1c6f1",
=======
   "id": "a200e9dd",
>>>>>>> documentation-devel
||||||| d28b18c
   "id": "a200e9dd",
=======
   "id": "f6d455e3",
>>>>>>> documentation-devel
||||||| 6893f63
<<<<<<< HEAD
   "id": "bf6307b6",
||||||| 6a30bf1
   "id": "d1b1c6f1",
=======
   "id": "a200e9dd",
>>>>>>> documentation-devel
=======
   "id": "c4ae3858",
>>>>>>> c74c98c2450c2a1ba922ed9442f136238d6bc88b
=======
   "id": "c55c2d67",
>>>>>>> 035bb2637984ead2784fecff78c0c60cc4181202
||||||| 3effdfa5
   "id": "7eddcaae",
=======
   "id": "214de84b",
>>>>>>> documentation-devel
||||||| 96c826da
<<<<<<< HEAD
<<<<<<< HEAD
<<<<<<< HEAD
<<<<<<< HEAD
<<<<<<< HEAD
   "id": "bf6307b6",
||||||| 6a30bf1
   "id": "d1b1c6f1",
=======
   "id": "a200e9dd",
>>>>>>> documentation-devel
||||||| d28b18c
   "id": "a200e9dd",
=======
   "id": "f6d455e3",
>>>>>>> documentation-devel
||||||| 6893f63
<<<<<<< HEAD
   "id": "bf6307b6",
||||||| 6a30bf1
   "id": "d1b1c6f1",
=======
   "id": "a200e9dd",
>>>>>>> documentation-devel
=======
   "id": "c4ae3858",
>>>>>>> c74c98c2450c2a1ba922ed9442f136238d6bc88b
||||||| 6d93b645
   "id": "f6d455e3",
=======
   "id": "7eddcaae",
>>>>>>> documentation-devel
||||||| 804edffb
<<<<<<< HEAD
<<<<<<< HEAD
<<<<<<< HEAD
   "id": "bf6307b6",
||||||| 6a30bf1
   "id": "d1b1c6f1",
=======
   "id": "a200e9dd",
>>>>>>> documentation-devel
||||||| d28b18c
   "id": "a200e9dd",
=======
   "id": "f6d455e3",
>>>>>>> documentation-devel
||||||| 6893f63
<<<<<<< HEAD
   "id": "bf6307b6",
||||||| 6a30bf1
   "id": "d1b1c6f1",
=======
   "id": "a200e9dd",
>>>>>>> documentation-devel
=======
   "id": "c4ae3858",
>>>>>>> c74c98c2450c2a1ba922ed9442f136238d6bc88b
=======
   "id": "c55c2d67",
>>>>>>> 035bb2637984ead2784fecff78c0c60cc4181202
=======
   "id": "fd9cc3ba",
>>>>>>> 619c01f26351d57ac14d974b7af136ac5756103f
   "metadata": {},
   "outputs": [],
   "source": [
    "names(colData(sfe))"
   ]
  },
  {
   "cell_type": "markdown",
<<<<<<< HEAD
<<<<<<< HEAD
<<<<<<< HEAD
<<<<<<< HEAD
<<<<<<< HEAD
<<<<<<< HEAD
<<<<<<< HEAD
   "id": "e57fdae8",
||||||| 6a30bf1
   "id": "043a61f2",
=======
   "id": "cd0e3c68",
>>>>>>> documentation-devel
||||||| d28b18c
   "id": "cd0e3c68",
=======
   "id": "6ad7ee89",
>>>>>>> documentation-devel
||||||| 6893f63
<<<<<<< HEAD
   "id": "e57fdae8",
||||||| 6a30bf1
   "id": "043a61f2",
=======
   "id": "cd0e3c68",
>>>>>>> documentation-devel
=======
   "id": "1cddbfbc",
>>>>>>> c74c98c2450c2a1ba922ed9442f136238d6bc88b
||||||| 6d93b645
   "id": "6ad7ee89",
=======
   "id": "f7febf84",
>>>>>>> documentation-devel
||||||| 804edffb
<<<<<<< HEAD
<<<<<<< HEAD
<<<<<<< HEAD
   "id": "e57fdae8",
||||||| 6a30bf1
   "id": "043a61f2",
=======
   "id": "cd0e3c68",
>>>>>>> documentation-devel
||||||| d28b18c
   "id": "cd0e3c68",
=======
   "id": "6ad7ee89",
>>>>>>> documentation-devel
||||||| 6893f63
<<<<<<< HEAD
   "id": "e57fdae8",
||||||| 6a30bf1
   "id": "043a61f2",
=======
   "id": "cd0e3c68",
>>>>>>> documentation-devel
=======
   "id": "1cddbfbc",
>>>>>>> c74c98c2450c2a1ba922ed9442f136238d6bc88b
=======
   "id": "fe886d94",
>>>>>>> 035bb2637984ead2784fecff78c0c60cc4181202
||||||| 3effdfa5
   "id": "f7febf84",
=======
   "id": "b0c59566",
>>>>>>> documentation-devel
||||||| 96c826da
<<<<<<< HEAD
<<<<<<< HEAD
<<<<<<< HEAD
<<<<<<< HEAD
<<<<<<< HEAD
   "id": "e57fdae8",
||||||| 6a30bf1
   "id": "043a61f2",
=======
   "id": "cd0e3c68",
>>>>>>> documentation-devel
||||||| d28b18c
   "id": "cd0e3c68",
=======
   "id": "6ad7ee89",
>>>>>>> documentation-devel
||||||| 6893f63
<<<<<<< HEAD
   "id": "e57fdae8",
||||||| 6a30bf1
   "id": "043a61f2",
=======
   "id": "cd0e3c68",
>>>>>>> documentation-devel
=======
   "id": "1cddbfbc",
>>>>>>> c74c98c2450c2a1ba922ed9442f136238d6bc88b
||||||| 6d93b645
   "id": "6ad7ee89",
=======
   "id": "f7febf84",
>>>>>>> documentation-devel
||||||| 804edffb
<<<<<<< HEAD
<<<<<<< HEAD
<<<<<<< HEAD
   "id": "e57fdae8",
||||||| 6a30bf1
   "id": "043a61f2",
=======
   "id": "cd0e3c68",
>>>>>>> documentation-devel
||||||| d28b18c
   "id": "cd0e3c68",
=======
   "id": "6ad7ee89",
>>>>>>> documentation-devel
||||||| 6893f63
<<<<<<< HEAD
   "id": "e57fdae8",
||||||| 6a30bf1
   "id": "043a61f2",
=======
   "id": "cd0e3c68",
>>>>>>> documentation-devel
=======
   "id": "1cddbfbc",
>>>>>>> c74c98c2450c2a1ba922ed9442f136238d6bc88b
=======
   "id": "fe886d94",
>>>>>>> 035bb2637984ead2784fecff78c0c60cc4181202
=======
   "id": "fc76bfe5",
>>>>>>> 619c01f26351d57ac14d974b7af136ac5756103f
   "metadata": {},
   "source": [
    "Since there're more cells, it would be better to plot the tissue larger, so we'll plot the histogram of QC metrics and the spatial plots separately, unlike in the CosMx vignette."
   ]
  },
  {
   "cell_type": "code",
   "execution_count": null,
<<<<<<< HEAD
<<<<<<< HEAD
<<<<<<< HEAD
<<<<<<< HEAD
<<<<<<< HEAD
<<<<<<< HEAD
<<<<<<< HEAD
   "id": "d3413d65",
||||||| 6a30bf1
   "id": "e350949c",
=======
   "id": "3f024b91",
>>>>>>> documentation-devel
||||||| d28b18c
   "id": "3f024b91",
=======
   "id": "f1d94e87",
>>>>>>> documentation-devel
||||||| 6893f63
<<<<<<< HEAD
   "id": "d3413d65",
||||||| 6a30bf1
   "id": "e350949c",
=======
   "id": "3f024b91",
>>>>>>> documentation-devel
=======
   "id": "fa9c2d42",
>>>>>>> c74c98c2450c2a1ba922ed9442f136238d6bc88b
||||||| 6d93b645
   "id": "f1d94e87",
=======
   "id": "1478ba6c",
>>>>>>> documentation-devel
||||||| 804edffb
<<<<<<< HEAD
<<<<<<< HEAD
<<<<<<< HEAD
   "id": "d3413d65",
||||||| 6a30bf1
   "id": "e350949c",
=======
   "id": "3f024b91",
>>>>>>> documentation-devel
||||||| d28b18c
   "id": "3f024b91",
=======
   "id": "f1d94e87",
>>>>>>> documentation-devel
||||||| 6893f63
<<<<<<< HEAD
   "id": "d3413d65",
||||||| 6a30bf1
   "id": "e350949c",
=======
   "id": "3f024b91",
>>>>>>> documentation-devel
=======
   "id": "fa9c2d42",
>>>>>>> c74c98c2450c2a1ba922ed9442f136238d6bc88b
=======
   "id": "3ebf85d2",
>>>>>>> 035bb2637984ead2784fecff78c0c60cc4181202
||||||| 3effdfa5
   "id": "1478ba6c",
=======
   "id": "05e81c2d",
>>>>>>> documentation-devel
||||||| 96c826da
<<<<<<< HEAD
<<<<<<< HEAD
<<<<<<< HEAD
<<<<<<< HEAD
<<<<<<< HEAD
   "id": "d3413d65",
||||||| 6a30bf1
   "id": "e350949c",
=======
   "id": "3f024b91",
>>>>>>> documentation-devel
||||||| d28b18c
   "id": "3f024b91",
=======
   "id": "f1d94e87",
>>>>>>> documentation-devel
||||||| 6893f63
<<<<<<< HEAD
   "id": "d3413d65",
||||||| 6a30bf1
   "id": "e350949c",
=======
   "id": "3f024b91",
>>>>>>> documentation-devel
=======
   "id": "fa9c2d42",
>>>>>>> c74c98c2450c2a1ba922ed9442f136238d6bc88b
||||||| 6d93b645
   "id": "f1d94e87",
=======
   "id": "1478ba6c",
>>>>>>> documentation-devel
||||||| 804edffb
<<<<<<< HEAD
<<<<<<< HEAD
<<<<<<< HEAD
   "id": "d3413d65",
||||||| 6a30bf1
   "id": "e350949c",
=======
   "id": "3f024b91",
>>>>>>> documentation-devel
||||||| d28b18c
   "id": "3f024b91",
=======
   "id": "f1d94e87",
>>>>>>> documentation-devel
||||||| 6893f63
<<<<<<< HEAD
   "id": "d3413d65",
||||||| 6a30bf1
   "id": "e350949c",
=======
   "id": "3f024b91",
>>>>>>> documentation-devel
=======
   "id": "fa9c2d42",
>>>>>>> c74c98c2450c2a1ba922ed9442f136238d6bc88b
=======
   "id": "3ebf85d2",
>>>>>>> 035bb2637984ead2784fecff78c0c60cc4181202
=======
   "id": "3f7ac447",
>>>>>>> 619c01f26351d57ac14d974b7af136ac5756103f
   "metadata": {},
   "outputs": [],
   "source": [
    "n_panel <- 313\n",
    "colData(sfe)$nCounts_normed <- sfe$nCounts/n_panel\n",
    "colData(sfe)$nGenes_normed <- sfe$nGenes/n_panel"
   ]
  },
  {
   "cell_type": "markdown",
<<<<<<< HEAD
<<<<<<< HEAD
<<<<<<< HEAD
<<<<<<< HEAD
<<<<<<< HEAD
<<<<<<< HEAD
<<<<<<< HEAD
   "id": "a1da9b18",
||||||| 6a30bf1
   "id": "9fc2e107",
=======
   "id": "87937742",
>>>>>>> documentation-devel
||||||| d28b18c
   "id": "87937742",
=======
   "id": "dbf17da5",
>>>>>>> documentation-devel
||||||| 6893f63
<<<<<<< HEAD
   "id": "a1da9b18",
||||||| 6a30bf1
   "id": "9fc2e107",
=======
   "id": "87937742",
>>>>>>> documentation-devel
=======
   "id": "afde10ff",
>>>>>>> c74c98c2450c2a1ba922ed9442f136238d6bc88b
||||||| 6d93b645
   "id": "dbf17da5",
=======
   "id": "85a08f76",
>>>>>>> documentation-devel
||||||| 804edffb
<<<<<<< HEAD
<<<<<<< HEAD
<<<<<<< HEAD
   "id": "a1da9b18",
||||||| 6a30bf1
   "id": "9fc2e107",
=======
   "id": "87937742",
>>>>>>> documentation-devel
||||||| d28b18c
   "id": "87937742",
=======
   "id": "dbf17da5",
>>>>>>> documentation-devel
||||||| 6893f63
<<<<<<< HEAD
   "id": "a1da9b18",
||||||| 6a30bf1
   "id": "9fc2e107",
=======
   "id": "87937742",
>>>>>>> documentation-devel
=======
   "id": "afde10ff",
>>>>>>> c74c98c2450c2a1ba922ed9442f136238d6bc88b
=======
   "id": "035de9c5",
>>>>>>> 035bb2637984ead2784fecff78c0c60cc4181202
||||||| 3effdfa5
   "id": "85a08f76",
=======
   "id": "86e7febb",
>>>>>>> documentation-devel
||||||| 96c826da
<<<<<<< HEAD
<<<<<<< HEAD
<<<<<<< HEAD
<<<<<<< HEAD
<<<<<<< HEAD
   "id": "a1da9b18",
||||||| 6a30bf1
   "id": "9fc2e107",
=======
   "id": "87937742",
>>>>>>> documentation-devel
||||||| d28b18c
   "id": "87937742",
=======
   "id": "dbf17da5",
>>>>>>> documentation-devel
||||||| 6893f63
<<<<<<< HEAD
   "id": "a1da9b18",
||||||| 6a30bf1
   "id": "9fc2e107",
=======
   "id": "87937742",
>>>>>>> documentation-devel
=======
   "id": "afde10ff",
>>>>>>> c74c98c2450c2a1ba922ed9442f136238d6bc88b
||||||| 6d93b645
   "id": "dbf17da5",
=======
   "id": "85a08f76",
>>>>>>> documentation-devel
||||||| 804edffb
<<<<<<< HEAD
<<<<<<< HEAD
<<<<<<< HEAD
   "id": "a1da9b18",
||||||| 6a30bf1
   "id": "9fc2e107",
=======
   "id": "87937742",
>>>>>>> documentation-devel
||||||| d28b18c
   "id": "87937742",
=======
   "id": "dbf17da5",
>>>>>>> documentation-devel
||||||| 6893f63
<<<<<<< HEAD
   "id": "a1da9b18",
||||||| 6a30bf1
   "id": "9fc2e107",
=======
   "id": "87937742",
>>>>>>> documentation-devel
=======
   "id": "afde10ff",
>>>>>>> c74c98c2450c2a1ba922ed9442f136238d6bc88b
=======
   "id": "035de9c5",
>>>>>>> 035bb2637984ead2784fecff78c0c60cc4181202
=======
   "id": "d879481c",
>>>>>>> 619c01f26351d57ac14d974b7af136ac5756103f
   "metadata": {},
   "source": [
    "Here we divided nCounts by the total number of genes probed, so this histogram is comparable to those from other smFISH-based datasets. "
   ]
  },
  {
   "cell_type": "code",
   "execution_count": null,
<<<<<<< HEAD
<<<<<<< HEAD
<<<<<<< HEAD
<<<<<<< HEAD
<<<<<<< HEAD
<<<<<<< HEAD
<<<<<<< HEAD
   "id": "f1ea4914",
||||||| 6a30bf1
   "id": "38160b3b",
=======
   "id": "75fb2155",
>>>>>>> documentation-devel
||||||| d28b18c
   "id": "75fb2155",
=======
   "id": "8f236457",
>>>>>>> documentation-devel
||||||| 6893f63
<<<<<<< HEAD
   "id": "f1ea4914",
||||||| 6a30bf1
   "id": "38160b3b",
=======
   "id": "75fb2155",
>>>>>>> documentation-devel
=======
   "id": "d81b82f7",
>>>>>>> c74c98c2450c2a1ba922ed9442f136238d6bc88b
||||||| 6d93b645
   "id": "8f236457",
=======
   "id": "9feb80f4",
>>>>>>> documentation-devel
||||||| 804edffb
<<<<<<< HEAD
<<<<<<< HEAD
<<<<<<< HEAD
   "id": "f1ea4914",
||||||| 6a30bf1
   "id": "38160b3b",
=======
   "id": "75fb2155",
>>>>>>> documentation-devel
||||||| d28b18c
   "id": "75fb2155",
=======
   "id": "8f236457",
>>>>>>> documentation-devel
||||||| 6893f63
<<<<<<< HEAD
   "id": "f1ea4914",
||||||| 6a30bf1
   "id": "38160b3b",
=======
   "id": "75fb2155",
>>>>>>> documentation-devel
=======
   "id": "d81b82f7",
>>>>>>> c74c98c2450c2a1ba922ed9442f136238d6bc88b
=======
   "id": "ce03ce02",
>>>>>>> 035bb2637984ead2784fecff78c0c60cc4181202
||||||| 3effdfa5
   "id": "9feb80f4",
=======
   "id": "b298ee61",
>>>>>>> documentation-devel
||||||| 96c826da
<<<<<<< HEAD
<<<<<<< HEAD
<<<<<<< HEAD
<<<<<<< HEAD
<<<<<<< HEAD
   "id": "f1ea4914",
||||||| 6a30bf1
   "id": "38160b3b",
=======
   "id": "75fb2155",
>>>>>>> documentation-devel
||||||| d28b18c
   "id": "75fb2155",
=======
   "id": "8f236457",
>>>>>>> documentation-devel
||||||| 6893f63
<<<<<<< HEAD
   "id": "f1ea4914",
||||||| 6a30bf1
   "id": "38160b3b",
=======
   "id": "75fb2155",
>>>>>>> documentation-devel
=======
   "id": "d81b82f7",
>>>>>>> c74c98c2450c2a1ba922ed9442f136238d6bc88b
||||||| 6d93b645
   "id": "8f236457",
=======
   "id": "9feb80f4",
>>>>>>> documentation-devel
||||||| 804edffb
<<<<<<< HEAD
<<<<<<< HEAD
<<<<<<< HEAD
   "id": "f1ea4914",
||||||| 6a30bf1
   "id": "38160b3b",
=======
   "id": "75fb2155",
>>>>>>> documentation-devel
||||||| d28b18c
   "id": "75fb2155",
=======
   "id": "8f236457",
>>>>>>> documentation-devel
||||||| 6893f63
<<<<<<< HEAD
   "id": "f1ea4914",
||||||| 6a30bf1
   "id": "38160b3b",
=======
   "id": "75fb2155",
>>>>>>> documentation-devel
=======
   "id": "d81b82f7",
>>>>>>> c74c98c2450c2a1ba922ed9442f136238d6bc88b
=======
   "id": "ce03ce02",
>>>>>>> 035bb2637984ead2784fecff78c0c60cc4181202
=======
   "id": "707477fa",
>>>>>>> 619c01f26351d57ac14d974b7af136ac5756103f
   "metadata": {},
   "outputs": [],
   "source": [
    "plotColDataHistogram(sfe, c(\"nCounts_normed\", \"nGenes_normed\"))"
   ]
  },
  {
   "cell_type": "markdown",
<<<<<<< HEAD
<<<<<<< HEAD
<<<<<<< HEAD
<<<<<<< HEAD
<<<<<<< HEAD
<<<<<<< HEAD
<<<<<<< HEAD
   "id": "f7d30cb3",
||||||| 6a30bf1
   "id": "5bbe9e67",
=======
   "id": "8de7f6b0",
>>>>>>> documentation-devel
||||||| d28b18c
   "id": "8de7f6b0",
=======
   "id": "fa8ae5fa",
>>>>>>> documentation-devel
||||||| 6893f63
<<<<<<< HEAD
   "id": "f7d30cb3",
||||||| 6a30bf1
   "id": "5bbe9e67",
=======
   "id": "8de7f6b0",
>>>>>>> documentation-devel
=======
   "id": "c6502ddc",
>>>>>>> c74c98c2450c2a1ba922ed9442f136238d6bc88b
||||||| 6d93b645
   "id": "fa8ae5fa",
=======
   "id": "197bde51",
>>>>>>> documentation-devel
||||||| 804edffb
<<<<<<< HEAD
<<<<<<< HEAD
<<<<<<< HEAD
   "id": "f7d30cb3",
||||||| 6a30bf1
   "id": "5bbe9e67",
=======
   "id": "8de7f6b0",
>>>>>>> documentation-devel
||||||| d28b18c
   "id": "8de7f6b0",
=======
   "id": "fa8ae5fa",
>>>>>>> documentation-devel
||||||| 6893f63
<<<<<<< HEAD
   "id": "f7d30cb3",
||||||| 6a30bf1
   "id": "5bbe9e67",
=======
   "id": "8de7f6b0",
>>>>>>> documentation-devel
=======
   "id": "c6502ddc",
>>>>>>> c74c98c2450c2a1ba922ed9442f136238d6bc88b
=======
   "id": "0d8ddb06",
>>>>>>> 035bb2637984ead2784fecff78c0c60cc4181202
||||||| 3effdfa5
   "id": "197bde51",
=======
   "id": "75dd0aa8",
>>>>>>> documentation-devel
||||||| 96c826da
<<<<<<< HEAD
<<<<<<< HEAD
<<<<<<< HEAD
<<<<<<< HEAD
<<<<<<< HEAD
   "id": "f7d30cb3",
||||||| 6a30bf1
   "id": "5bbe9e67",
=======
   "id": "8de7f6b0",
>>>>>>> documentation-devel
||||||| d28b18c
   "id": "8de7f6b0",
=======
   "id": "fa8ae5fa",
>>>>>>> documentation-devel
||||||| 6893f63
<<<<<<< HEAD
   "id": "f7d30cb3",
||||||| 6a30bf1
   "id": "5bbe9e67",
=======
   "id": "8de7f6b0",
>>>>>>> documentation-devel
=======
   "id": "c6502ddc",
>>>>>>> c74c98c2450c2a1ba922ed9442f136238d6bc88b
||||||| 6d93b645
   "id": "fa8ae5fa",
=======
   "id": "197bde51",
>>>>>>> documentation-devel
||||||| 804edffb
<<<<<<< HEAD
<<<<<<< HEAD
<<<<<<< HEAD
   "id": "f7d30cb3",
||||||| 6a30bf1
   "id": "5bbe9e67",
=======
   "id": "8de7f6b0",
>>>>>>> documentation-devel
||||||| d28b18c
   "id": "8de7f6b0",
=======
   "id": "fa8ae5fa",
>>>>>>> documentation-devel
||||||| 6893f63
<<<<<<< HEAD
   "id": "f7d30cb3",
||||||| 6a30bf1
   "id": "5bbe9e67",
=======
   "id": "8de7f6b0",
>>>>>>> documentation-devel
=======
   "id": "c6502ddc",
>>>>>>> c74c98c2450c2a1ba922ed9442f136238d6bc88b
=======
   "id": "0d8ddb06",
>>>>>>> 035bb2637984ead2784fecff78c0c60cc4181202
=======
   "id": "52dcf0d5",
>>>>>>> 619c01f26351d57ac14d974b7af136ac5756103f
   "metadata": {},
   "source": [
    "Compared to the [FFPE CosMX non-small cell lung cancer dataset](https://pachterlab.github.io/voyager/articles/vig4_cosmx.html#cells), more transcripts per gene on average and a larger proportion of all genes are detected in this dataset, which is also FFPE. However, this should be interpreted with care, since these two datasets are from different tissues and have different gene panels, so this may or may not indicate that Xenium has better detection efficiency than CosMX."
   ]
  },
  {
   "cell_type": "code",
   "execution_count": null,
<<<<<<< HEAD
<<<<<<< HEAD
<<<<<<< HEAD
<<<<<<< HEAD
<<<<<<< HEAD
<<<<<<< HEAD
<<<<<<< HEAD
   "id": "f4a0050e",
||||||| 6a30bf1
   "id": "ea609b27",
=======
   "id": "d40292e2",
>>>>>>> documentation-devel
||||||| d28b18c
   "id": "d40292e2",
=======
   "id": "9c031f7d",
>>>>>>> documentation-devel
||||||| 6893f63
<<<<<<< HEAD
   "id": "f4a0050e",
||||||| 6a30bf1
   "id": "ea609b27",
=======
   "id": "d40292e2",
>>>>>>> documentation-devel
=======
   "id": "3e7e00df",
>>>>>>> c74c98c2450c2a1ba922ed9442f136238d6bc88b
||||||| 6d93b645
   "id": "9c031f7d",
=======
   "id": "03b57b50",
>>>>>>> documentation-devel
||||||| 804edffb
<<<<<<< HEAD
<<<<<<< HEAD
<<<<<<< HEAD
   "id": "f4a0050e",
||||||| 6a30bf1
   "id": "ea609b27",
=======
   "id": "d40292e2",
>>>>>>> documentation-devel
||||||| d28b18c
   "id": "d40292e2",
=======
   "id": "9c031f7d",
>>>>>>> documentation-devel
||||||| 6893f63
<<<<<<< HEAD
   "id": "f4a0050e",
||||||| 6a30bf1
   "id": "ea609b27",
=======
   "id": "d40292e2",
>>>>>>> documentation-devel
=======
   "id": "3e7e00df",
>>>>>>> c74c98c2450c2a1ba922ed9442f136238d6bc88b
=======
   "id": "9a621cc7",
>>>>>>> 035bb2637984ead2784fecff78c0c60cc4181202
||||||| 3effdfa5
   "id": "03b57b50",
=======
   "id": "696ead9c",
>>>>>>> documentation-devel
||||||| 96c826da
<<<<<<< HEAD
<<<<<<< HEAD
<<<<<<< HEAD
<<<<<<< HEAD
<<<<<<< HEAD
   "id": "f4a0050e",
||||||| 6a30bf1
   "id": "ea609b27",
=======
   "id": "d40292e2",
>>>>>>> documentation-devel
||||||| d28b18c
   "id": "d40292e2",
=======
   "id": "9c031f7d",
>>>>>>> documentation-devel
||||||| 6893f63
<<<<<<< HEAD
   "id": "f4a0050e",
||||||| 6a30bf1
   "id": "ea609b27",
=======
   "id": "d40292e2",
>>>>>>> documentation-devel
=======
   "id": "3e7e00df",
>>>>>>> c74c98c2450c2a1ba922ed9442f136238d6bc88b
||||||| 6d93b645
   "id": "9c031f7d",
=======
   "id": "03b57b50",
>>>>>>> documentation-devel
||||||| 804edffb
<<<<<<< HEAD
<<<<<<< HEAD
<<<<<<< HEAD
   "id": "f4a0050e",
||||||| 6a30bf1
   "id": "ea609b27",
=======
   "id": "d40292e2",
>>>>>>> documentation-devel
||||||| d28b18c
   "id": "d40292e2",
=======
   "id": "9c031f7d",
>>>>>>> documentation-devel
||||||| 6893f63
<<<<<<< HEAD
   "id": "f4a0050e",
||||||| 6a30bf1
   "id": "ea609b27",
=======
   "id": "d40292e2",
>>>>>>> documentation-devel
=======
   "id": "3e7e00df",
>>>>>>> c74c98c2450c2a1ba922ed9442f136238d6bc88b
=======
   "id": "9a621cc7",
>>>>>>> 035bb2637984ead2784fecff78c0c60cc4181202
=======
   "id": "963a0de1",
>>>>>>> 619c01f26351d57ac14d974b7af136ac5756103f
   "metadata": {},
   "outputs": [],
   "source": [
    "plotSpatialFeature(sfe, \"nCounts\", colGeometryName = \"cellSeg\")"
   ]
  },
  {
   "cell_type": "markdown",
<<<<<<< HEAD
<<<<<<< HEAD
<<<<<<< HEAD
<<<<<<< HEAD
<<<<<<< HEAD
<<<<<<< HEAD
<<<<<<< HEAD
   "id": "6162abc9",
||||||| 6a30bf1
   "id": "1c35ce35",
=======
   "id": "58abfb84",
>>>>>>> documentation-devel
||||||| d28b18c
   "id": "58abfb84",
=======
   "id": "ffde4a95",
>>>>>>> documentation-devel
||||||| 6893f63
<<<<<<< HEAD
   "id": "6162abc9",
||||||| 6a30bf1
   "id": "1c35ce35",
=======
   "id": "58abfb84",
>>>>>>> documentation-devel
=======
   "id": "cc90ad89",
>>>>>>> c74c98c2450c2a1ba922ed9442f136238d6bc88b
||||||| 6d93b645
   "id": "ffde4a95",
=======
   "id": "f9ed99e8",
>>>>>>> documentation-devel
||||||| 804edffb
<<<<<<< HEAD
<<<<<<< HEAD
<<<<<<< HEAD
   "id": "6162abc9",
||||||| 6a30bf1
   "id": "1c35ce35",
=======
   "id": "58abfb84",
>>>>>>> documentation-devel
||||||| d28b18c
   "id": "58abfb84",
=======
   "id": "ffde4a95",
>>>>>>> documentation-devel
||||||| 6893f63
<<<<<<< HEAD
   "id": "6162abc9",
||||||| 6a30bf1
   "id": "1c35ce35",
=======
   "id": "58abfb84",
>>>>>>> documentation-devel
=======
   "id": "cc90ad89",
>>>>>>> c74c98c2450c2a1ba922ed9442f136238d6bc88b
=======
   "id": "383b10e5",
>>>>>>> 035bb2637984ead2784fecff78c0c60cc4181202
||||||| 3effdfa5
   "id": "f9ed99e8",
=======
   "id": "50b4ec5f",
>>>>>>> documentation-devel
||||||| 96c826da
<<<<<<< HEAD
<<<<<<< HEAD
<<<<<<< HEAD
<<<<<<< HEAD
<<<<<<< HEAD
   "id": "6162abc9",
||||||| 6a30bf1
   "id": "1c35ce35",
=======
   "id": "58abfb84",
>>>>>>> documentation-devel
||||||| d28b18c
   "id": "58abfb84",
=======
   "id": "ffde4a95",
>>>>>>> documentation-devel
||||||| 6893f63
<<<<<<< HEAD
   "id": "6162abc9",
||||||| 6a30bf1
   "id": "1c35ce35",
=======
   "id": "58abfb84",
>>>>>>> documentation-devel
=======
   "id": "cc90ad89",
>>>>>>> c74c98c2450c2a1ba922ed9442f136238d6bc88b
||||||| 6d93b645
   "id": "ffde4a95",
=======
   "id": "f9ed99e8",
>>>>>>> documentation-devel
||||||| 804edffb
<<<<<<< HEAD
<<<<<<< HEAD
<<<<<<< HEAD
   "id": "6162abc9",
||||||| 6a30bf1
   "id": "1c35ce35",
=======
   "id": "58abfb84",
>>>>>>> documentation-devel
||||||| d28b18c
   "id": "58abfb84",
=======
   "id": "ffde4a95",
>>>>>>> documentation-devel
||||||| 6893f63
<<<<<<< HEAD
   "id": "6162abc9",
||||||| 6a30bf1
   "id": "1c35ce35",
=======
   "id": "58abfb84",
>>>>>>> documentation-devel
=======
   "id": "cc90ad89",
>>>>>>> c74c98c2450c2a1ba922ed9442f136238d6bc88b
=======
   "id": "383b10e5",
>>>>>>> 035bb2637984ead2784fecff78c0c60cc4181202
=======
   "id": "1d85e7ed",
>>>>>>> 619c01f26351d57ac14d974b7af136ac5756103f
   "metadata": {},
   "source": [
    "There seem to be FOV artifacts. However, the cell ID and FOV information were unavailable so we cannot examine them. "
   ]
  },
  {
   "cell_type": "code",
   "execution_count": null,
<<<<<<< HEAD
<<<<<<< HEAD
<<<<<<< HEAD
<<<<<<< HEAD
<<<<<<< HEAD
<<<<<<< HEAD
<<<<<<< HEAD
   "id": "ae1d5080",
||||||| 6a30bf1
   "id": "48ae5aab",
=======
   "id": "220bf70d",
>>>>>>> documentation-devel
||||||| d28b18c
   "id": "220bf70d",
=======
   "id": "b5542b0c",
>>>>>>> documentation-devel
||||||| 6893f63
<<<<<<< HEAD
   "id": "ae1d5080",
||||||| 6a30bf1
   "id": "48ae5aab",
=======
   "id": "220bf70d",
>>>>>>> documentation-devel
=======
   "id": "17725838",
>>>>>>> c74c98c2450c2a1ba922ed9442f136238d6bc88b
||||||| 6d93b645
   "id": "b5542b0c",
=======
   "id": "87ae7520",
>>>>>>> documentation-devel
||||||| 804edffb
<<<<<<< HEAD
<<<<<<< HEAD
<<<<<<< HEAD
   "id": "ae1d5080",
||||||| 6a30bf1
   "id": "48ae5aab",
=======
   "id": "220bf70d",
>>>>>>> documentation-devel
||||||| d28b18c
   "id": "220bf70d",
=======
   "id": "b5542b0c",
>>>>>>> documentation-devel
||||||| 6893f63
<<<<<<< HEAD
   "id": "ae1d5080",
||||||| 6a30bf1
   "id": "48ae5aab",
=======
   "id": "220bf70d",
>>>>>>> documentation-devel
=======
   "id": "17725838",
>>>>>>> c74c98c2450c2a1ba922ed9442f136238d6bc88b
=======
   "id": "a8113ee2",
>>>>>>> 035bb2637984ead2784fecff78c0c60cc4181202
||||||| 3effdfa5
   "id": "87ae7520",
=======
   "id": "30f2d761",
>>>>>>> documentation-devel
||||||| 96c826da
<<<<<<< HEAD
<<<<<<< HEAD
<<<<<<< HEAD
<<<<<<< HEAD
<<<<<<< HEAD
   "id": "ae1d5080",
||||||| 6a30bf1
   "id": "48ae5aab",
=======
   "id": "220bf70d",
>>>>>>> documentation-devel
||||||| d28b18c
   "id": "220bf70d",
=======
   "id": "b5542b0c",
>>>>>>> documentation-devel
||||||| 6893f63
<<<<<<< HEAD
   "id": "ae1d5080",
||||||| 6a30bf1
   "id": "48ae5aab",
=======
   "id": "220bf70d",
>>>>>>> documentation-devel
=======
   "id": "17725838",
>>>>>>> c74c98c2450c2a1ba922ed9442f136238d6bc88b
||||||| 6d93b645
   "id": "b5542b0c",
=======
   "id": "87ae7520",
>>>>>>> documentation-devel
||||||| 804edffb
<<<<<<< HEAD
<<<<<<< HEAD
<<<<<<< HEAD
   "id": "ae1d5080",
||||||| 6a30bf1
   "id": "48ae5aab",
=======
   "id": "220bf70d",
>>>>>>> documentation-devel
||||||| d28b18c
   "id": "220bf70d",
=======
   "id": "b5542b0c",
>>>>>>> documentation-devel
||||||| 6893f63
<<<<<<< HEAD
   "id": "ae1d5080",
||||||| 6a30bf1
   "id": "48ae5aab",
=======
   "id": "220bf70d",
>>>>>>> documentation-devel
=======
   "id": "17725838",
>>>>>>> c74c98c2450c2a1ba922ed9442f136238d6bc88b
=======
   "id": "a8113ee2",
>>>>>>> 035bb2637984ead2784fecff78c0c60cc4181202
=======
   "id": "80a8cf49",
>>>>>>> 619c01f26351d57ac14d974b7af136ac5756103f
   "metadata": {},
   "outputs": [],
   "source": [
    "plotSpatialFeature(sfe, \"nGenes\", colGeometryName = \"cellSeg\")"
   ]
  },
  {
   "cell_type": "markdown",
<<<<<<< HEAD
<<<<<<< HEAD
<<<<<<< HEAD
<<<<<<< HEAD
<<<<<<< HEAD
<<<<<<< HEAD
<<<<<<< HEAD
   "id": "e1de2d76",
||||||| 6a30bf1
   "id": "6889fb83",
=======
   "id": "03db8220",
>>>>>>> documentation-devel
||||||| d28b18c
   "id": "03db8220",
=======
   "id": "a152359c",
>>>>>>> documentation-devel
||||||| 6893f63
<<<<<<< HEAD
   "id": "e1de2d76",
||||||| 6a30bf1
   "id": "6889fb83",
=======
   "id": "03db8220",
>>>>>>> documentation-devel
=======
   "id": "96a6cee7",
>>>>>>> c74c98c2450c2a1ba922ed9442f136238d6bc88b
||||||| 6d93b645
   "id": "a152359c",
=======
   "id": "454ece4c",
>>>>>>> documentation-devel
||||||| 804edffb
<<<<<<< HEAD
<<<<<<< HEAD
<<<<<<< HEAD
   "id": "e1de2d76",
||||||| 6a30bf1
   "id": "6889fb83",
=======
   "id": "03db8220",
>>>>>>> documentation-devel
||||||| d28b18c
   "id": "03db8220",
=======
   "id": "a152359c",
>>>>>>> documentation-devel
||||||| 6893f63
<<<<<<< HEAD
   "id": "e1de2d76",
||||||| 6a30bf1
   "id": "6889fb83",
=======
   "id": "03db8220",
>>>>>>> documentation-devel
=======
   "id": "96a6cee7",
>>>>>>> c74c98c2450c2a1ba922ed9442f136238d6bc88b
=======
   "id": "67215909",
>>>>>>> 035bb2637984ead2784fecff78c0c60cc4181202
||||||| 3effdfa5
   "id": "454ece4c",
=======
   "id": "0e501c94",
>>>>>>> documentation-devel
||||||| 96c826da
<<<<<<< HEAD
<<<<<<< HEAD
<<<<<<< HEAD
<<<<<<< HEAD
<<<<<<< HEAD
   "id": "e1de2d76",
||||||| 6a30bf1
   "id": "6889fb83",
=======
   "id": "03db8220",
>>>>>>> documentation-devel
||||||| d28b18c
   "id": "03db8220",
=======
   "id": "a152359c",
>>>>>>> documentation-devel
||||||| 6893f63
<<<<<<< HEAD
   "id": "e1de2d76",
||||||| 6a30bf1
   "id": "6889fb83",
=======
   "id": "03db8220",
>>>>>>> documentation-devel
=======
   "id": "96a6cee7",
>>>>>>> c74c98c2450c2a1ba922ed9442f136238d6bc88b
||||||| 6d93b645
   "id": "a152359c",
=======
   "id": "454ece4c",
>>>>>>> documentation-devel
||||||| 804edffb
<<<<<<< HEAD
<<<<<<< HEAD
<<<<<<< HEAD
   "id": "e1de2d76",
||||||| 6a30bf1
   "id": "6889fb83",
=======
   "id": "03db8220",
>>>>>>> documentation-devel
||||||| d28b18c
   "id": "03db8220",
=======
   "id": "a152359c",
>>>>>>> documentation-devel
||||||| 6893f63
<<<<<<< HEAD
   "id": "e1de2d76",
||||||| 6a30bf1
   "id": "6889fb83",
=======
   "id": "03db8220",
>>>>>>> documentation-devel
=======
   "id": "96a6cee7",
>>>>>>> c74c98c2450c2a1ba922ed9442f136238d6bc88b
=======
   "id": "67215909",
>>>>>>> 035bb2637984ead2784fecff78c0c60cc4181202
=======
   "id": "18045a2b",
>>>>>>> 619c01f26351d57ac14d974b7af136ac5756103f
   "metadata": {
    "lines_to_next_cell": 0
   },
   "source": [
    "A standard examination is to look at the relationship between nCounts and nGenes:"
   ]
  },
  {
   "cell_type": "code",
   "execution_count": null,
<<<<<<< HEAD
<<<<<<< HEAD
<<<<<<< HEAD
<<<<<<< HEAD
<<<<<<< HEAD
<<<<<<< HEAD
<<<<<<< HEAD
   "id": "73034fb3",
||||||| 6a30bf1
   "id": "b21569c7",
=======
   "id": "f8273d48",
>>>>>>> documentation-devel
||||||| d28b18c
   "id": "f8273d48",
=======
   "id": "24ff4cfa",
>>>>>>> documentation-devel
||||||| 6893f63
<<<<<<< HEAD
   "id": "73034fb3",
||||||| 6a30bf1
   "id": "b21569c7",
=======
   "id": "f8273d48",
>>>>>>> documentation-devel
=======
   "id": "89699818",
>>>>>>> c74c98c2450c2a1ba922ed9442f136238d6bc88b
||||||| 6d93b645
   "id": "24ff4cfa",
=======
   "id": "6f5c6910",
>>>>>>> documentation-devel
||||||| 804edffb
<<<<<<< HEAD
<<<<<<< HEAD
<<<<<<< HEAD
   "id": "73034fb3",
||||||| 6a30bf1
   "id": "b21569c7",
=======
   "id": "f8273d48",
>>>>>>> documentation-devel
||||||| d28b18c
   "id": "f8273d48",
=======
   "id": "24ff4cfa",
>>>>>>> documentation-devel
||||||| 6893f63
<<<<<<< HEAD
   "id": "73034fb3",
||||||| 6a30bf1
   "id": "b21569c7",
=======
   "id": "f8273d48",
>>>>>>> documentation-devel
=======
   "id": "89699818",
>>>>>>> c74c98c2450c2a1ba922ed9442f136238d6bc88b
=======
   "id": "fd5f328f",
>>>>>>> 035bb2637984ead2784fecff78c0c60cc4181202
||||||| 3effdfa5
   "id": "6f5c6910",
=======
   "id": "2492590f",
>>>>>>> documentation-devel
||||||| 96c826da
<<<<<<< HEAD
<<<<<<< HEAD
<<<<<<< HEAD
<<<<<<< HEAD
<<<<<<< HEAD
   "id": "73034fb3",
||||||| 6a30bf1
   "id": "b21569c7",
=======
   "id": "f8273d48",
>>>>>>> documentation-devel
||||||| d28b18c
   "id": "f8273d48",
=======
   "id": "24ff4cfa",
>>>>>>> documentation-devel
||||||| 6893f63
<<<<<<< HEAD
   "id": "73034fb3",
||||||| 6a30bf1
   "id": "b21569c7",
=======
   "id": "f8273d48",
>>>>>>> documentation-devel
=======
   "id": "89699818",
>>>>>>> c74c98c2450c2a1ba922ed9442f136238d6bc88b
||||||| 6d93b645
   "id": "24ff4cfa",
=======
   "id": "6f5c6910",
>>>>>>> documentation-devel
||||||| 804edffb
<<<<<<< HEAD
<<<<<<< HEAD
<<<<<<< HEAD
   "id": "73034fb3",
||||||| 6a30bf1
   "id": "b21569c7",
=======
   "id": "f8273d48",
>>>>>>> documentation-devel
||||||| d28b18c
   "id": "f8273d48",
=======
   "id": "24ff4cfa",
>>>>>>> documentation-devel
||||||| 6893f63
<<<<<<< HEAD
   "id": "73034fb3",
||||||| 6a30bf1
   "id": "b21569c7",
=======
   "id": "f8273d48",
>>>>>>> documentation-devel
=======
   "id": "89699818",
>>>>>>> c74c98c2450c2a1ba922ed9442f136238d6bc88b
=======
   "id": "fd5f328f",
>>>>>>> 035bb2637984ead2784fecff78c0c60cc4181202
=======
   "id": "54ab9bcc",
>>>>>>> 619c01f26351d57ac14d974b7af136ac5756103f
   "metadata": {},
   "outputs": [],
   "source": [
    "plotColDataBin2D(sfe, \"nCounts\", \"nGenes\")"
   ]
  },
  {
   "cell_type": "markdown",
<<<<<<< HEAD
<<<<<<< HEAD
<<<<<<< HEAD
<<<<<<< HEAD
<<<<<<< HEAD
<<<<<<< HEAD
<<<<<<< HEAD
   "id": "ba8f45a7",
||||||| 6a30bf1
   "id": "e97f37b0",
=======
   "id": "26b5bf7a",
>>>>>>> documentation-devel
||||||| d28b18c
   "id": "26b5bf7a",
=======
   "id": "ff7c965e",
>>>>>>> documentation-devel
||||||| 6893f63
<<<<<<< HEAD
   "id": "ba8f45a7",
||||||| 6a30bf1
   "id": "e97f37b0",
=======
   "id": "26b5bf7a",
>>>>>>> documentation-devel
=======
   "id": "70dc77b5",
>>>>>>> c74c98c2450c2a1ba922ed9442f136238d6bc88b
||||||| 6d93b645
   "id": "ff7c965e",
=======
   "id": "250da832",
>>>>>>> documentation-devel
||||||| 804edffb
<<<<<<< HEAD
<<<<<<< HEAD
<<<<<<< HEAD
   "id": "ba8f45a7",
||||||| 6a30bf1
   "id": "e97f37b0",
=======
   "id": "26b5bf7a",
>>>>>>> documentation-devel
||||||| d28b18c
   "id": "26b5bf7a",
=======
   "id": "ff7c965e",
>>>>>>> documentation-devel
||||||| 6893f63
<<<<<<< HEAD
   "id": "ba8f45a7",
||||||| 6a30bf1
   "id": "e97f37b0",
=======
   "id": "26b5bf7a",
>>>>>>> documentation-devel
=======
   "id": "70dc77b5",
>>>>>>> c74c98c2450c2a1ba922ed9442f136238d6bc88b
=======
   "id": "05d1da9f",
>>>>>>> 035bb2637984ead2784fecff78c0c60cc4181202
||||||| 3effdfa5
   "id": "250da832",
=======
   "id": "18305ab8",
>>>>>>> documentation-devel
||||||| 96c826da
<<<<<<< HEAD
<<<<<<< HEAD
<<<<<<< HEAD
<<<<<<< HEAD
<<<<<<< HEAD
   "id": "ba8f45a7",
||||||| 6a30bf1
   "id": "e97f37b0",
=======
   "id": "26b5bf7a",
>>>>>>> documentation-devel
||||||| d28b18c
   "id": "26b5bf7a",
=======
   "id": "ff7c965e",
>>>>>>> documentation-devel
||||||| 6893f63
<<<<<<< HEAD
   "id": "ba8f45a7",
||||||| 6a30bf1
   "id": "e97f37b0",
=======
   "id": "26b5bf7a",
>>>>>>> documentation-devel
=======
   "id": "70dc77b5",
>>>>>>> c74c98c2450c2a1ba922ed9442f136238d6bc88b
||||||| 6d93b645
   "id": "ff7c965e",
=======
   "id": "250da832",
>>>>>>> documentation-devel
||||||| 804edffb
<<<<<<< HEAD
<<<<<<< HEAD
<<<<<<< HEAD
   "id": "ba8f45a7",
||||||| 6a30bf1
   "id": "e97f37b0",
=======
   "id": "26b5bf7a",
>>>>>>> documentation-devel
||||||| d28b18c
   "id": "26b5bf7a",
=======
   "id": "ff7c965e",
>>>>>>> documentation-devel
||||||| 6893f63
<<<<<<< HEAD
   "id": "ba8f45a7",
||||||| 6a30bf1
   "id": "e97f37b0",
=======
   "id": "26b5bf7a",
>>>>>>> documentation-devel
=======
   "id": "70dc77b5",
>>>>>>> c74c98c2450c2a1ba922ed9442f136238d6bc88b
=======
   "id": "05d1da9f",
>>>>>>> 035bb2637984ead2784fecff78c0c60cc4181202
=======
   "id": "40500c8f",
>>>>>>> 619c01f26351d57ac14d974b7af136ac5756103f
   "metadata": {
    "lines_to_next_cell": 0
   },
   "source": [
    "There appear to be two branches. \n",
    "\n",
    "Here we plot the distribution of cell area"
   ]
  },
  {
   "cell_type": "code",
   "execution_count": null,
<<<<<<< HEAD
<<<<<<< HEAD
<<<<<<< HEAD
<<<<<<< HEAD
<<<<<<< HEAD
<<<<<<< HEAD
<<<<<<< HEAD
   "id": "8b969573",
||||||| 6a30bf1
   "id": "1db25755",
=======
   "id": "ed6512a0",
>>>>>>> documentation-devel
||||||| d28b18c
   "id": "ed6512a0",
=======
   "id": "5ddb5f29",
>>>>>>> documentation-devel
||||||| 6893f63
<<<<<<< HEAD
   "id": "8b969573",
||||||| 6a30bf1
   "id": "1db25755",
=======
   "id": "ed6512a0",
>>>>>>> documentation-devel
=======
   "id": "279c7974",
>>>>>>> c74c98c2450c2a1ba922ed9442f136238d6bc88b
||||||| 6d93b645
   "id": "5ddb5f29",
=======
   "id": "b97d1910",
>>>>>>> documentation-devel
||||||| 804edffb
<<<<<<< HEAD
<<<<<<< HEAD
<<<<<<< HEAD
   "id": "8b969573",
||||||| 6a30bf1
   "id": "1db25755",
=======
   "id": "ed6512a0",
>>>>>>> documentation-devel
||||||| d28b18c
   "id": "ed6512a0",
=======
   "id": "5ddb5f29",
>>>>>>> documentation-devel
||||||| 6893f63
<<<<<<< HEAD
   "id": "8b969573",
||||||| 6a30bf1
   "id": "1db25755",
=======
   "id": "ed6512a0",
>>>>>>> documentation-devel
=======
   "id": "279c7974",
>>>>>>> c74c98c2450c2a1ba922ed9442f136238d6bc88b
=======
   "id": "40dd4296",
>>>>>>> 035bb2637984ead2784fecff78c0c60cc4181202
||||||| 3effdfa5
   "id": "b97d1910",
=======
   "id": "8f6384a4",
>>>>>>> documentation-devel
||||||| 96c826da
<<<<<<< HEAD
<<<<<<< HEAD
<<<<<<< HEAD
<<<<<<< HEAD
<<<<<<< HEAD
   "id": "8b969573",
||||||| 6a30bf1
   "id": "1db25755",
=======
   "id": "ed6512a0",
>>>>>>> documentation-devel
||||||| d28b18c
   "id": "ed6512a0",
=======
   "id": "5ddb5f29",
>>>>>>> documentation-devel
||||||| 6893f63
<<<<<<< HEAD
   "id": "8b969573",
||||||| 6a30bf1
   "id": "1db25755",
=======
   "id": "ed6512a0",
>>>>>>> documentation-devel
=======
   "id": "279c7974",
>>>>>>> c74c98c2450c2a1ba922ed9442f136238d6bc88b
||||||| 6d93b645
   "id": "5ddb5f29",
=======
   "id": "b97d1910",
>>>>>>> documentation-devel
||||||| 804edffb
<<<<<<< HEAD
<<<<<<< HEAD
<<<<<<< HEAD
   "id": "8b969573",
||||||| 6a30bf1
   "id": "1db25755",
=======
   "id": "ed6512a0",
>>>>>>> documentation-devel
||||||| d28b18c
   "id": "ed6512a0",
=======
   "id": "5ddb5f29",
>>>>>>> documentation-devel
||||||| 6893f63
<<<<<<< HEAD
   "id": "8b969573",
||||||| 6a30bf1
   "id": "1db25755",
=======
   "id": "ed6512a0",
>>>>>>> documentation-devel
=======
   "id": "279c7974",
>>>>>>> c74c98c2450c2a1ba922ed9442f136238d6bc88b
=======
   "id": "40dd4296",
>>>>>>> 035bb2637984ead2784fecff78c0c60cc4181202
=======
   "id": "4dc0a6c2",
>>>>>>> 619c01f26351d57ac14d974b7af136ac5756103f
   "metadata": {},
   "outputs": [],
   "source": [
    "plotColDataHistogram(sfe, c(\"cell_area\", \"nucleus_area\"), scales = \"free_y\")"
   ]
  },
  {
   "cell_type": "markdown",
<<<<<<< HEAD
<<<<<<< HEAD
<<<<<<< HEAD
<<<<<<< HEAD
<<<<<<< HEAD
<<<<<<< HEAD
<<<<<<< HEAD
   "id": "84233398",
||||||| 6a30bf1
   "id": "49ba4772",
=======
   "id": "720e5f7f",
>>>>>>> documentation-devel
||||||| d28b18c
   "id": "720e5f7f",
=======
   "id": "54f91136",
>>>>>>> documentation-devel
||||||| 6893f63
<<<<<<< HEAD
   "id": "84233398",
||||||| 6a30bf1
   "id": "49ba4772",
=======
   "id": "720e5f7f",
>>>>>>> documentation-devel
=======
   "id": "07156fa7",
>>>>>>> c74c98c2450c2a1ba922ed9442f136238d6bc88b
||||||| 6d93b645
   "id": "54f91136",
=======
   "id": "ad1a8ab0",
>>>>>>> documentation-devel
||||||| 804edffb
<<<<<<< HEAD
<<<<<<< HEAD
<<<<<<< HEAD
   "id": "84233398",
||||||| 6a30bf1
   "id": "49ba4772",
=======
   "id": "720e5f7f",
>>>>>>> documentation-devel
||||||| d28b18c
   "id": "720e5f7f",
=======
   "id": "54f91136",
>>>>>>> documentation-devel
||||||| 6893f63
<<<<<<< HEAD
   "id": "84233398",
||||||| 6a30bf1
   "id": "49ba4772",
=======
   "id": "720e5f7f",
>>>>>>> documentation-devel
=======
   "id": "07156fa7",
>>>>>>> c74c98c2450c2a1ba922ed9442f136238d6bc88b
=======
   "id": "3ece9681",
>>>>>>> 035bb2637984ead2784fecff78c0c60cc4181202
||||||| 3effdfa5
   "id": "ad1a8ab0",
=======
   "id": "269e571f",
>>>>>>> documentation-devel
||||||| 96c826da
<<<<<<< HEAD
<<<<<<< HEAD
<<<<<<< HEAD
<<<<<<< HEAD
<<<<<<< HEAD
   "id": "84233398",
||||||| 6a30bf1
   "id": "49ba4772",
=======
   "id": "720e5f7f",
>>>>>>> documentation-devel
||||||| d28b18c
   "id": "720e5f7f",
=======
   "id": "54f91136",
>>>>>>> documentation-devel
||||||| 6893f63
<<<<<<< HEAD
   "id": "84233398",
||||||| 6a30bf1
   "id": "49ba4772",
=======
   "id": "720e5f7f",
>>>>>>> documentation-devel
=======
   "id": "07156fa7",
>>>>>>> c74c98c2450c2a1ba922ed9442f136238d6bc88b
||||||| 6d93b645
   "id": "54f91136",
=======
   "id": "ad1a8ab0",
>>>>>>> documentation-devel
||||||| 804edffb
<<<<<<< HEAD
<<<<<<< HEAD
<<<<<<< HEAD
   "id": "84233398",
||||||| 6a30bf1
   "id": "49ba4772",
=======
   "id": "720e5f7f",
>>>>>>> documentation-devel
||||||| d28b18c
   "id": "720e5f7f",
=======
   "id": "54f91136",
>>>>>>> documentation-devel
||||||| 6893f63
<<<<<<< HEAD
   "id": "84233398",
||||||| 6a30bf1
   "id": "49ba4772",
=======
   "id": "720e5f7f",
>>>>>>> documentation-devel
=======
   "id": "07156fa7",
>>>>>>> c74c98c2450c2a1ba922ed9442f136238d6bc88b
=======
   "id": "3ece9681",
>>>>>>> 035bb2637984ead2784fecff78c0c60cc4181202
=======
   "id": "690c5c72",
>>>>>>> 619c01f26351d57ac14d974b7af136ac5756103f
   "metadata": {
    "lines_to_next_cell": 0
   },
   "source": [
    "That should be in pixels. There's a very long tail. The nuclei are much smaller than the cells.\n",
    "\n",
    "How is cell area distributed in space?"
   ]
  },
  {
   "cell_type": "code",
   "execution_count": null,
<<<<<<< HEAD
<<<<<<< HEAD
<<<<<<< HEAD
<<<<<<< HEAD
<<<<<<< HEAD
<<<<<<< HEAD
<<<<<<< HEAD
   "id": "43bf62ca",
||||||| 6a30bf1
   "id": "efeb480e",
=======
   "id": "1b717df0",
>>>>>>> documentation-devel
||||||| d28b18c
   "id": "1b717df0",
=======
   "id": "6851b84f",
>>>>>>> documentation-devel
||||||| 6893f63
<<<<<<< HEAD
   "id": "43bf62ca",
||||||| 6a30bf1
   "id": "efeb480e",
=======
   "id": "1b717df0",
>>>>>>> documentation-devel
=======
   "id": "0c43155a",
>>>>>>> c74c98c2450c2a1ba922ed9442f136238d6bc88b
||||||| 6d93b645
   "id": "6851b84f",
=======
   "id": "2118427b",
>>>>>>> documentation-devel
||||||| 804edffb
<<<<<<< HEAD
<<<<<<< HEAD
<<<<<<< HEAD
   "id": "43bf62ca",
||||||| 6a30bf1
   "id": "efeb480e",
=======
   "id": "1b717df0",
>>>>>>> documentation-devel
||||||| d28b18c
   "id": "1b717df0",
=======
   "id": "6851b84f",
>>>>>>> documentation-devel
||||||| 6893f63
<<<<<<< HEAD
   "id": "43bf62ca",
||||||| 6a30bf1
   "id": "efeb480e",
=======
   "id": "1b717df0",
>>>>>>> documentation-devel
=======
   "id": "0c43155a",
>>>>>>> c74c98c2450c2a1ba922ed9442f136238d6bc88b
=======
   "id": "29f8e854",
>>>>>>> 035bb2637984ead2784fecff78c0c60cc4181202
||||||| 3effdfa5
   "id": "2118427b",
=======
   "id": "a716b2e2",
>>>>>>> documentation-devel
||||||| 96c826da
<<<<<<< HEAD
<<<<<<< HEAD
<<<<<<< HEAD
<<<<<<< HEAD
<<<<<<< HEAD
   "id": "43bf62ca",
||||||| 6a30bf1
   "id": "efeb480e",
=======
   "id": "1b717df0",
>>>>>>> documentation-devel
||||||| d28b18c
   "id": "1b717df0",
=======
   "id": "6851b84f",
>>>>>>> documentation-devel
||||||| 6893f63
<<<<<<< HEAD
   "id": "43bf62ca",
||||||| 6a30bf1
   "id": "efeb480e",
=======
   "id": "1b717df0",
>>>>>>> documentation-devel
=======
   "id": "0c43155a",
>>>>>>> c74c98c2450c2a1ba922ed9442f136238d6bc88b
||||||| 6d93b645
   "id": "6851b84f",
=======
   "id": "2118427b",
>>>>>>> documentation-devel
||||||| 804edffb
<<<<<<< HEAD
<<<<<<< HEAD
<<<<<<< HEAD
   "id": "43bf62ca",
||||||| 6a30bf1
   "id": "efeb480e",
=======
   "id": "1b717df0",
>>>>>>> documentation-devel
||||||| d28b18c
   "id": "1b717df0",
=======
   "id": "6851b84f",
>>>>>>> documentation-devel
||||||| 6893f63
<<<<<<< HEAD
   "id": "43bf62ca",
||||||| 6a30bf1
   "id": "efeb480e",
=======
   "id": "1b717df0",
>>>>>>> documentation-devel
=======
   "id": "0c43155a",
>>>>>>> c74c98c2450c2a1ba922ed9442f136238d6bc88b
=======
   "id": "29f8e854",
>>>>>>> 035bb2637984ead2784fecff78c0c60cc4181202
=======
   "id": "01c677ee",
>>>>>>> 619c01f26351d57ac14d974b7af136ac5756103f
   "metadata": {},
   "outputs": [],
   "source": [
    "plotSpatialFeature(sfe, \"cell_area\", colGeometryName = \"cellSeg\")"
   ]
  },
  {
   "cell_type": "markdown",
<<<<<<< HEAD
<<<<<<< HEAD
<<<<<<< HEAD
<<<<<<< HEAD
<<<<<<< HEAD
<<<<<<< HEAD
<<<<<<< HEAD
   "id": "0ab5e508",
||||||| 6a30bf1
   "id": "9eed7938",
=======
   "id": "8aad2875",
>>>>>>> documentation-devel
||||||| d28b18c
   "id": "8aad2875",
=======
   "id": "bd448f26",
>>>>>>> documentation-devel
||||||| 6893f63
<<<<<<< HEAD
   "id": "0ab5e508",
||||||| 6a30bf1
   "id": "9eed7938",
=======
   "id": "8aad2875",
>>>>>>> documentation-devel
=======
   "id": "0ffbb3e8",
>>>>>>> c74c98c2450c2a1ba922ed9442f136238d6bc88b
||||||| 6d93b645
   "id": "bd448f26",
=======
   "id": "4afb9094",
>>>>>>> documentation-devel
||||||| 804edffb
<<<<<<< HEAD
<<<<<<< HEAD
<<<<<<< HEAD
   "id": "0ab5e508",
||||||| 6a30bf1
   "id": "9eed7938",
=======
   "id": "8aad2875",
>>>>>>> documentation-devel
||||||| d28b18c
   "id": "8aad2875",
=======
   "id": "bd448f26",
>>>>>>> documentation-devel
||||||| 6893f63
<<<<<<< HEAD
   "id": "0ab5e508",
||||||| 6a30bf1
   "id": "9eed7938",
=======
   "id": "8aad2875",
>>>>>>> documentation-devel
=======
   "id": "0ffbb3e8",
>>>>>>> c74c98c2450c2a1ba922ed9442f136238d6bc88b
=======
   "id": "055f0dd6",
>>>>>>> 035bb2637984ead2784fecff78c0c60cc4181202
||||||| 3effdfa5
   "id": "4afb9094",
=======
   "id": "e217231f",
>>>>>>> documentation-devel
||||||| 96c826da
<<<<<<< HEAD
<<<<<<< HEAD
<<<<<<< HEAD
<<<<<<< HEAD
<<<<<<< HEAD
   "id": "0ab5e508",
||||||| 6a30bf1
   "id": "9eed7938",
=======
   "id": "8aad2875",
>>>>>>> documentation-devel
||||||| d28b18c
   "id": "8aad2875",
=======
   "id": "bd448f26",
>>>>>>> documentation-devel
||||||| 6893f63
<<<<<<< HEAD
   "id": "0ab5e508",
||||||| 6a30bf1
   "id": "9eed7938",
=======
   "id": "8aad2875",
>>>>>>> documentation-devel
=======
   "id": "0ffbb3e8",
>>>>>>> c74c98c2450c2a1ba922ed9442f136238d6bc88b
||||||| 6d93b645
   "id": "bd448f26",
=======
   "id": "4afb9094",
>>>>>>> documentation-devel
||||||| 804edffb
<<<<<<< HEAD
<<<<<<< HEAD
<<<<<<< HEAD
   "id": "0ab5e508",
||||||| 6a30bf1
   "id": "9eed7938",
=======
   "id": "8aad2875",
>>>>>>> documentation-devel
||||||| d28b18c
   "id": "8aad2875",
=======
   "id": "bd448f26",
>>>>>>> documentation-devel
||||||| 6893f63
<<<<<<< HEAD
   "id": "0ab5e508",
||||||| 6a30bf1
   "id": "9eed7938",
=======
   "id": "8aad2875",
>>>>>>> documentation-devel
=======
   "id": "0ffbb3e8",
>>>>>>> c74c98c2450c2a1ba922ed9442f136238d6bc88b
=======
   "id": "055f0dd6",
>>>>>>> 035bb2637984ead2784fecff78c0c60cc4181202
=======
   "id": "0f653366",
>>>>>>> 619c01f26351d57ac14d974b7af136ac5756103f
   "metadata": {
    "lines_to_next_cell": 0
   },
   "source": [
    "Cells in the sparse region tend to be larger than those in the dense region. This may be biological or an artifact of the cell segmentation algorithm or both.\n",
    "\n",
    "Here the nuclei segmentations are plotted instead of cell segmentation. The nuclei are much smaller to the extent that they are difficult to see."
   ]
  },
  {
   "cell_type": "code",
   "execution_count": null,
<<<<<<< HEAD
<<<<<<< HEAD
<<<<<<< HEAD
<<<<<<< HEAD
<<<<<<< HEAD
<<<<<<< HEAD
<<<<<<< HEAD
   "id": "97b21a70",
||||||| 6a30bf1
   "id": "886a5a13",
=======
   "id": "bef0e9ed",
>>>>>>> documentation-devel
||||||| d28b18c
   "id": "bef0e9ed",
=======
   "id": "3a7b04b0",
>>>>>>> documentation-devel
||||||| 6893f63
<<<<<<< HEAD
   "id": "97b21a70",
||||||| 6a30bf1
   "id": "886a5a13",
=======
   "id": "bef0e9ed",
>>>>>>> documentation-devel
=======
   "id": "0e227e1d",
>>>>>>> c74c98c2450c2a1ba922ed9442f136238d6bc88b
||||||| 6d93b645
   "id": "3a7b04b0",
=======
   "id": "c352602c",
>>>>>>> documentation-devel
||||||| 804edffb
<<<<<<< HEAD
<<<<<<< HEAD
<<<<<<< HEAD
   "id": "97b21a70",
||||||| 6a30bf1
   "id": "886a5a13",
=======
   "id": "bef0e9ed",
>>>>>>> documentation-devel
||||||| d28b18c
   "id": "bef0e9ed",
=======
   "id": "3a7b04b0",
>>>>>>> documentation-devel
||||||| 6893f63
<<<<<<< HEAD
   "id": "97b21a70",
||||||| 6a30bf1
   "id": "886a5a13",
=======
   "id": "bef0e9ed",
>>>>>>> documentation-devel
=======
   "id": "0e227e1d",
>>>>>>> c74c98c2450c2a1ba922ed9442f136238d6bc88b
=======
   "id": "616587bb",
>>>>>>> 035bb2637984ead2784fecff78c0c60cc4181202
||||||| 3effdfa5
   "id": "c352602c",
=======
   "id": "f2962b12",
>>>>>>> documentation-devel
||||||| 96c826da
<<<<<<< HEAD
<<<<<<< HEAD
<<<<<<< HEAD
<<<<<<< HEAD
<<<<<<< HEAD
   "id": "97b21a70",
||||||| 6a30bf1
   "id": "886a5a13",
=======
   "id": "bef0e9ed",
>>>>>>> documentation-devel
||||||| d28b18c
   "id": "bef0e9ed",
=======
   "id": "3a7b04b0",
>>>>>>> documentation-devel
||||||| 6893f63
<<<<<<< HEAD
   "id": "97b21a70",
||||||| 6a30bf1
   "id": "886a5a13",
=======
   "id": "bef0e9ed",
>>>>>>> documentation-devel
=======
   "id": "0e227e1d",
>>>>>>> c74c98c2450c2a1ba922ed9442f136238d6bc88b
||||||| 6d93b645
   "id": "3a7b04b0",
=======
   "id": "c352602c",
>>>>>>> documentation-devel
||||||| 804edffb
<<<<<<< HEAD
<<<<<<< HEAD
<<<<<<< HEAD
   "id": "97b21a70",
||||||| 6a30bf1
   "id": "886a5a13",
=======
   "id": "bef0e9ed",
>>>>>>> documentation-devel
||||||| d28b18c
   "id": "bef0e9ed",
=======
   "id": "3a7b04b0",
>>>>>>> documentation-devel
||||||| 6893f63
<<<<<<< HEAD
   "id": "97b21a70",
||||||| 6a30bf1
   "id": "886a5a13",
=======
   "id": "bef0e9ed",
>>>>>>> documentation-devel
=======
   "id": "0e227e1d",
>>>>>>> c74c98c2450c2a1ba922ed9442f136238d6bc88b
=======
   "id": "616587bb",
>>>>>>> 035bb2637984ead2784fecff78c0c60cc4181202
=======
   "id": "f0736c72",
>>>>>>> 619c01f26351d57ac14d974b7af136ac5756103f
   "metadata": {},
   "outputs": [],
   "source": [
    "plotSpatialFeature(sfe, \"nucleus_area\", colGeometryName = \"nucSeg\")"
   ]
  },
  {
   "cell_type": "markdown",
<<<<<<< HEAD
<<<<<<< HEAD
<<<<<<< HEAD
<<<<<<< HEAD
<<<<<<< HEAD
<<<<<<< HEAD
<<<<<<< HEAD
   "id": "7b616f7b",
||||||| 6a30bf1
   "id": "d3809964",
=======
   "id": "6421a9f4",
>>>>>>> documentation-devel
||||||| d28b18c
   "id": "6421a9f4",
=======
   "id": "6f759891",
>>>>>>> documentation-devel
||||||| 6893f63
<<<<<<< HEAD
   "id": "7b616f7b",
||||||| 6a30bf1
   "id": "d3809964",
=======
   "id": "6421a9f4",
>>>>>>> documentation-devel
=======
   "id": "ca5df7ad",
>>>>>>> c74c98c2450c2a1ba922ed9442f136238d6bc88b
||||||| 6d93b645
   "id": "6f759891",
=======
   "id": "ea5fe92d",
>>>>>>> documentation-devel
||||||| 804edffb
<<<<<<< HEAD
<<<<<<< HEAD
<<<<<<< HEAD
   "id": "7b616f7b",
||||||| 6a30bf1
   "id": "d3809964",
=======
   "id": "6421a9f4",
>>>>>>> documentation-devel
||||||| d28b18c
   "id": "6421a9f4",
=======
   "id": "6f759891",
>>>>>>> documentation-devel
||||||| 6893f63
<<<<<<< HEAD
   "id": "7b616f7b",
||||||| 6a30bf1
   "id": "d3809964",
=======
   "id": "6421a9f4",
>>>>>>> documentation-devel
=======
   "id": "ca5df7ad",
>>>>>>> c74c98c2450c2a1ba922ed9442f136238d6bc88b
=======
   "id": "caa8be1e",
>>>>>>> 035bb2637984ead2784fecff78c0c60cc4181202
||||||| 3effdfa5
   "id": "ea5fe92d",
=======
   "id": "194ee703",
>>>>>>> documentation-devel
||||||| 96c826da
<<<<<<< HEAD
<<<<<<< HEAD
<<<<<<< HEAD
<<<<<<< HEAD
<<<<<<< HEAD
   "id": "7b616f7b",
||||||| 6a30bf1
   "id": "d3809964",
=======
   "id": "6421a9f4",
>>>>>>> documentation-devel
||||||| d28b18c
   "id": "6421a9f4",
=======
   "id": "6f759891",
>>>>>>> documentation-devel
||||||| 6893f63
<<<<<<< HEAD
   "id": "7b616f7b",
||||||| 6a30bf1
   "id": "d3809964",
=======
   "id": "6421a9f4",
>>>>>>> documentation-devel
=======
   "id": "ca5df7ad",
>>>>>>> c74c98c2450c2a1ba922ed9442f136238d6bc88b
||||||| 6d93b645
   "id": "6f759891",
=======
   "id": "ea5fe92d",
>>>>>>> documentation-devel
||||||| 804edffb
<<<<<<< HEAD
<<<<<<< HEAD
<<<<<<< HEAD
   "id": "7b616f7b",
||||||| 6a30bf1
   "id": "d3809964",
=======
   "id": "6421a9f4",
>>>>>>> documentation-devel
||||||| d28b18c
   "id": "6421a9f4",
=======
   "id": "6f759891",
>>>>>>> documentation-devel
||||||| 6893f63
<<<<<<< HEAD
   "id": "7b616f7b",
||||||| 6a30bf1
   "id": "d3809964",
=======
   "id": "6421a9f4",
>>>>>>> documentation-devel
=======
   "id": "ca5df7ad",
>>>>>>> c74c98c2450c2a1ba922ed9442f136238d6bc88b
=======
   "id": "caa8be1e",
>>>>>>> 035bb2637984ead2784fecff78c0c60cc4181202
=======
   "id": "d5f2483c",
>>>>>>> 619c01f26351d57ac14d974b7af136ac5756103f
   "metadata": {
    "lines_to_next_cell": 0
   },
   "source": [
    "There's an outlier near the right edge of the section, throwing off the dynamic range of the plot. Upon inspection of the H&E image, the outlier is a bit of tissue debris that doesn't look like a cell. But we can still that cells in the dense, gland like regions tend to have larger nuclei. This may be biological, or that nuclei are so densely packed in those regions that they are more likely to be undersegmented, i.e. when multiple nuclei are counted as one by the nuclei segmentation program, or both.\n",
    "\n",
    "These observations motivate an examination of the relationship between cell area and nuclei area:"
   ]
  },
  {
   "cell_type": "code",
   "execution_count": null,
<<<<<<< HEAD
<<<<<<< HEAD
<<<<<<< HEAD
<<<<<<< HEAD
<<<<<<< HEAD
<<<<<<< HEAD
<<<<<<< HEAD
   "id": "95ad649c",
||||||| 6a30bf1
   "id": "f344e184",
=======
   "id": "de79f4ee",
>>>>>>> documentation-devel
||||||| d28b18c
   "id": "de79f4ee",
=======
   "id": "8211d0ea",
>>>>>>> documentation-devel
||||||| 6893f63
<<<<<<< HEAD
   "id": "95ad649c",
||||||| 6a30bf1
   "id": "f344e184",
=======
   "id": "de79f4ee",
>>>>>>> documentation-devel
=======
   "id": "7a857db1",
>>>>>>> c74c98c2450c2a1ba922ed9442f136238d6bc88b
||||||| 6d93b645
   "id": "8211d0ea",
=======
   "id": "de788bd9",
>>>>>>> documentation-devel
||||||| 804edffb
<<<<<<< HEAD
<<<<<<< HEAD
<<<<<<< HEAD
   "id": "95ad649c",
||||||| 6a30bf1
   "id": "f344e184",
=======
   "id": "de79f4ee",
>>>>>>> documentation-devel
||||||| d28b18c
   "id": "de79f4ee",
=======
   "id": "8211d0ea",
>>>>>>> documentation-devel
||||||| 6893f63
<<<<<<< HEAD
   "id": "95ad649c",
||||||| 6a30bf1
   "id": "f344e184",
=======
   "id": "de79f4ee",
>>>>>>> documentation-devel
=======
   "id": "7a857db1",
>>>>>>> c74c98c2450c2a1ba922ed9442f136238d6bc88b
=======
   "id": "7c2a37fb",
>>>>>>> 035bb2637984ead2784fecff78c0c60cc4181202
||||||| 3effdfa5
   "id": "de788bd9",
=======
   "id": "e0654983",
>>>>>>> documentation-devel
||||||| 96c826da
<<<<<<< HEAD
<<<<<<< HEAD
<<<<<<< HEAD
<<<<<<< HEAD
<<<<<<< HEAD
   "id": "95ad649c",
||||||| 6a30bf1
   "id": "f344e184",
=======
   "id": "de79f4ee",
>>>>>>> documentation-devel
||||||| d28b18c
   "id": "de79f4ee",
=======
   "id": "8211d0ea",
>>>>>>> documentation-devel
||||||| 6893f63
<<<<<<< HEAD
   "id": "95ad649c",
||||||| 6a30bf1
   "id": "f344e184",
=======
   "id": "de79f4ee",
>>>>>>> documentation-devel
=======
   "id": "7a857db1",
>>>>>>> c74c98c2450c2a1ba922ed9442f136238d6bc88b
||||||| 6d93b645
   "id": "8211d0ea",
=======
   "id": "de788bd9",
>>>>>>> documentation-devel
||||||| 804edffb
<<<<<<< HEAD
<<<<<<< HEAD
<<<<<<< HEAD
   "id": "95ad649c",
||||||| 6a30bf1
   "id": "f344e184",
=======
   "id": "de79f4ee",
>>>>>>> documentation-devel
||||||| d28b18c
   "id": "de79f4ee",
=======
   "id": "8211d0ea",
>>>>>>> documentation-devel
||||||| 6893f63
<<<<<<< HEAD
   "id": "95ad649c",
||||||| 6a30bf1
   "id": "f344e184",
=======
   "id": "de79f4ee",
>>>>>>> documentation-devel
=======
   "id": "7a857db1",
>>>>>>> c74c98c2450c2a1ba922ed9442f136238d6bc88b
=======
   "id": "7c2a37fb",
>>>>>>> 035bb2637984ead2784fecff78c0c60cc4181202
=======
   "id": "4d6f5e66",
>>>>>>> 619c01f26351d57ac14d974b7af136ac5756103f
   "metadata": {},
   "outputs": [],
   "source": [
    "plotColDataBin2D(sfe, \"cell_area\", \"nucleus_area\") + \n",
    "    scale_fill_viridis_c()"
   ]
  },
  {
   "cell_type": "markdown",
<<<<<<< HEAD
<<<<<<< HEAD
<<<<<<< HEAD
<<<<<<< HEAD
<<<<<<< HEAD
<<<<<<< HEAD
<<<<<<< HEAD
   "id": "ae5840f5",
||||||| 6a30bf1
   "id": "20de22b6",
=======
   "id": "6deb669f",
>>>>>>> documentation-devel
||||||| d28b18c
   "id": "6deb669f",
=======
   "id": "02a4e487",
>>>>>>> documentation-devel
||||||| 6893f63
<<<<<<< HEAD
   "id": "ae5840f5",
||||||| 6a30bf1
   "id": "20de22b6",
=======
   "id": "6deb669f",
>>>>>>> documentation-devel
=======
   "id": "e9a70b85",
>>>>>>> c74c98c2450c2a1ba922ed9442f136238d6bc88b
||||||| 6d93b645
   "id": "02a4e487",
=======
   "id": "c8d94eba",
>>>>>>> documentation-devel
||||||| 804edffb
<<<<<<< HEAD
<<<<<<< HEAD
<<<<<<< HEAD
   "id": "ae5840f5",
||||||| 6a30bf1
   "id": "20de22b6",
=======
   "id": "6deb669f",
>>>>>>> documentation-devel
||||||| d28b18c
   "id": "6deb669f",
=======
   "id": "02a4e487",
>>>>>>> documentation-devel
||||||| 6893f63
<<<<<<< HEAD
   "id": "ae5840f5",
||||||| 6a30bf1
   "id": "20de22b6",
=======
   "id": "6deb669f",
>>>>>>> documentation-devel
=======
   "id": "e9a70b85",
>>>>>>> c74c98c2450c2a1ba922ed9442f136238d6bc88b
=======
   "id": "49fa8923",
>>>>>>> 035bb2637984ead2784fecff78c0c60cc4181202
||||||| 3effdfa5
   "id": "c8d94eba",
=======
   "id": "851998fe",
>>>>>>> documentation-devel
||||||| 96c826da
<<<<<<< HEAD
<<<<<<< HEAD
<<<<<<< HEAD
<<<<<<< HEAD
<<<<<<< HEAD
   "id": "ae5840f5",
||||||| 6a30bf1
   "id": "20de22b6",
=======
   "id": "6deb669f",
>>>>>>> documentation-devel
||||||| d28b18c
   "id": "6deb669f",
=======
   "id": "02a4e487",
>>>>>>> documentation-devel
||||||| 6893f63
<<<<<<< HEAD
   "id": "ae5840f5",
||||||| 6a30bf1
   "id": "20de22b6",
=======
   "id": "6deb669f",
>>>>>>> documentation-devel
=======
   "id": "e9a70b85",
>>>>>>> c74c98c2450c2a1ba922ed9442f136238d6bc88b
||||||| 6d93b645
   "id": "02a4e487",
=======
   "id": "c8d94eba",
>>>>>>> documentation-devel
||||||| 804edffb
<<<<<<< HEAD
<<<<<<< HEAD
<<<<<<< HEAD
   "id": "ae5840f5",
||||||| 6a30bf1
   "id": "20de22b6",
=======
   "id": "6deb669f",
>>>>>>> documentation-devel
||||||| d28b18c
   "id": "6deb669f",
=======
   "id": "02a4e487",
>>>>>>> documentation-devel
||||||| 6893f63
<<<<<<< HEAD
   "id": "ae5840f5",
||||||| 6a30bf1
   "id": "20de22b6",
=======
   "id": "6deb669f",
>>>>>>> documentation-devel
=======
   "id": "e9a70b85",
>>>>>>> c74c98c2450c2a1ba922ed9442f136238d6bc88b
=======
   "id": "49fa8923",
>>>>>>> 035bb2637984ead2784fecff78c0c60cc4181202
=======
   "id": "f6afafa5",
>>>>>>> 619c01f26351d57ac14d974b7af136ac5756103f
   "metadata": {},
   "source": [
    "Again, there are two branches, probably related to cell density and cell type. The nucleus outlier also has large cell area, though it is not as much an outlier in cell area. However, it is a spatial outlier as it's unusually large compared to its neighbors (scroll up two plots back). \n",
    "\n",
    "Next we calculate the proportion of cell in this z-plane taken up by the nucleus, and examine the distribution:"
   ]
  },
  {
   "cell_type": "code",
   "execution_count": null,
<<<<<<< HEAD
<<<<<<< HEAD
<<<<<<< HEAD
<<<<<<< HEAD
<<<<<<< HEAD
<<<<<<< HEAD
<<<<<<< HEAD
   "id": "98eb06a3",
||||||| 6a30bf1
   "id": "b27d683c",
=======
   "id": "02bf4d76",
>>>>>>> documentation-devel
||||||| d28b18c
   "id": "02bf4d76",
=======
   "id": "888e940e",
>>>>>>> documentation-devel
||||||| 6893f63
<<<<<<< HEAD
   "id": "98eb06a3",
||||||| 6a30bf1
   "id": "b27d683c",
=======
   "id": "02bf4d76",
>>>>>>> documentation-devel
=======
   "id": "a3445708",
>>>>>>> c74c98c2450c2a1ba922ed9442f136238d6bc88b
||||||| 6d93b645
   "id": "888e940e",
=======
   "id": "b4dec920",
>>>>>>> documentation-devel
||||||| 804edffb
<<<<<<< HEAD
<<<<<<< HEAD
<<<<<<< HEAD
   "id": "98eb06a3",
||||||| 6a30bf1
   "id": "b27d683c",
=======
   "id": "02bf4d76",
>>>>>>> documentation-devel
||||||| d28b18c
   "id": "02bf4d76",
=======
   "id": "888e940e",
>>>>>>> documentation-devel
||||||| 6893f63
<<<<<<< HEAD
   "id": "98eb06a3",
||||||| 6a30bf1
   "id": "b27d683c",
=======
   "id": "02bf4d76",
>>>>>>> documentation-devel
=======
   "id": "a3445708",
>>>>>>> c74c98c2450c2a1ba922ed9442f136238d6bc88b
=======
   "id": "458877d1",
>>>>>>> 035bb2637984ead2784fecff78c0c60cc4181202
||||||| 3effdfa5
   "id": "b4dec920",
=======
   "id": "c1c5d882",
>>>>>>> documentation-devel
||||||| 96c826da
<<<<<<< HEAD
<<<<<<< HEAD
<<<<<<< HEAD
<<<<<<< HEAD
<<<<<<< HEAD
   "id": "98eb06a3",
||||||| 6a30bf1
   "id": "b27d683c",
=======
   "id": "02bf4d76",
>>>>>>> documentation-devel
||||||| d28b18c
   "id": "02bf4d76",
=======
   "id": "888e940e",
>>>>>>> documentation-devel
||||||| 6893f63
<<<<<<< HEAD
   "id": "98eb06a3",
||||||| 6a30bf1
   "id": "b27d683c",
=======
   "id": "02bf4d76",
>>>>>>> documentation-devel
=======
   "id": "a3445708",
>>>>>>> c74c98c2450c2a1ba922ed9442f136238d6bc88b
||||||| 6d93b645
   "id": "888e940e",
=======
   "id": "b4dec920",
>>>>>>> documentation-devel
||||||| 804edffb
<<<<<<< HEAD
<<<<<<< HEAD
<<<<<<< HEAD
   "id": "98eb06a3",
||||||| 6a30bf1
   "id": "b27d683c",
=======
   "id": "02bf4d76",
>>>>>>> documentation-devel
||||||| d28b18c
   "id": "02bf4d76",
=======
   "id": "888e940e",
>>>>>>> documentation-devel
||||||| 6893f63
<<<<<<< HEAD
   "id": "98eb06a3",
||||||| 6a30bf1
   "id": "b27d683c",
=======
   "id": "02bf4d76",
>>>>>>> documentation-devel
=======
   "id": "a3445708",
>>>>>>> c74c98c2450c2a1ba922ed9442f136238d6bc88b
=======
   "id": "458877d1",
>>>>>>> 035bb2637984ead2784fecff78c0c60cc4181202
=======
   "id": "e122f9e3",
>>>>>>> 619c01f26351d57ac14d974b7af136ac5756103f
   "metadata": {},
   "outputs": [],
   "source": [
    "colData(sfe)$prop_nuc <- sfe$nucleus_area / sfe$cell_area"
   ]
  },
  {
   "cell_type": "code",
   "execution_count": null,
<<<<<<< HEAD
<<<<<<< HEAD
<<<<<<< HEAD
<<<<<<< HEAD
<<<<<<< HEAD
<<<<<<< HEAD
<<<<<<< HEAD
   "id": "ce710977",
||||||| 6a30bf1
   "id": "7d1b71a3",
=======
   "id": "567f90d2",
>>>>>>> documentation-devel
||||||| d28b18c
   "id": "567f90d2",
=======
   "id": "49d87cfa",
>>>>>>> documentation-devel
||||||| 6893f63
<<<<<<< HEAD
   "id": "ce710977",
||||||| 6a30bf1
   "id": "7d1b71a3",
=======
   "id": "567f90d2",
>>>>>>> documentation-devel
=======
   "id": "c01100cb",
>>>>>>> c74c98c2450c2a1ba922ed9442f136238d6bc88b
||||||| 6d93b645
   "id": "49d87cfa",
=======
   "id": "b8b80c7a",
>>>>>>> documentation-devel
||||||| 804edffb
<<<<<<< HEAD
<<<<<<< HEAD
<<<<<<< HEAD
   "id": "ce710977",
||||||| 6a30bf1
   "id": "7d1b71a3",
=======
   "id": "567f90d2",
>>>>>>> documentation-devel
||||||| d28b18c
   "id": "567f90d2",
=======
   "id": "49d87cfa",
>>>>>>> documentation-devel
||||||| 6893f63
<<<<<<< HEAD
   "id": "ce710977",
||||||| 6a30bf1
   "id": "7d1b71a3",
=======
   "id": "567f90d2",
>>>>>>> documentation-devel
=======
   "id": "c01100cb",
>>>>>>> c74c98c2450c2a1ba922ed9442f136238d6bc88b
=======
   "id": "0d3d720a",
>>>>>>> 035bb2637984ead2784fecff78c0c60cc4181202
||||||| 3effdfa5
   "id": "b8b80c7a",
=======
   "id": "eab1227e",
>>>>>>> documentation-devel
||||||| 96c826da
<<<<<<< HEAD
<<<<<<< HEAD
<<<<<<< HEAD
<<<<<<< HEAD
<<<<<<< HEAD
   "id": "ce710977",
||||||| 6a30bf1
   "id": "7d1b71a3",
=======
   "id": "567f90d2",
>>>>>>> documentation-devel
||||||| d28b18c
   "id": "567f90d2",
=======
   "id": "49d87cfa",
>>>>>>> documentation-devel
||||||| 6893f63
<<<<<<< HEAD
   "id": "ce710977",
||||||| 6a30bf1
   "id": "7d1b71a3",
=======
   "id": "567f90d2",
>>>>>>> documentation-devel
=======
   "id": "c01100cb",
>>>>>>> c74c98c2450c2a1ba922ed9442f136238d6bc88b
||||||| 6d93b645
   "id": "49d87cfa",
=======
   "id": "b8b80c7a",
>>>>>>> documentation-devel
||||||| 804edffb
<<<<<<< HEAD
<<<<<<< HEAD
<<<<<<< HEAD
   "id": "ce710977",
||||||| 6a30bf1
   "id": "7d1b71a3",
=======
   "id": "567f90d2",
>>>>>>> documentation-devel
||||||| d28b18c
   "id": "567f90d2",
=======
   "id": "49d87cfa",
>>>>>>> documentation-devel
||||||| 6893f63
<<<<<<< HEAD
   "id": "ce710977",
||||||| 6a30bf1
   "id": "7d1b71a3",
=======
   "id": "567f90d2",
>>>>>>> documentation-devel
=======
   "id": "c01100cb",
>>>>>>> c74c98c2450c2a1ba922ed9442f136238d6bc88b
=======
   "id": "0d3d720a",
>>>>>>> 035bb2637984ead2784fecff78c0c60cc4181202
=======
   "id": "88ff4038",
>>>>>>> 619c01f26351d57ac14d974b7af136ac5756103f
   "metadata": {},
   "outputs": [],
   "source": [
    "plotColDataHistogram(sfe, \"prop_nuc\")"
   ]
  },
  {
   "cell_type": "markdown",
<<<<<<< HEAD
<<<<<<< HEAD
<<<<<<< HEAD
<<<<<<< HEAD
<<<<<<< HEAD
<<<<<<< HEAD
<<<<<<< HEAD
   "id": "77081bc6",
||||||| 6a30bf1
   "id": "54b345cf",
=======
   "id": "e4ab88cb",
>>>>>>> documentation-devel
||||||| d28b18c
   "id": "e4ab88cb",
=======
   "id": "0b0f371b",
>>>>>>> documentation-devel
||||||| 6893f63
<<<<<<< HEAD
   "id": "77081bc6",
||||||| 6a30bf1
   "id": "54b345cf",
=======
   "id": "e4ab88cb",
>>>>>>> documentation-devel
=======
   "id": "c8ca85bb",
>>>>>>> c74c98c2450c2a1ba922ed9442f136238d6bc88b
||||||| 6d93b645
   "id": "0b0f371b",
=======
   "id": "61296c5d",
>>>>>>> documentation-devel
||||||| 804edffb
<<<<<<< HEAD
<<<<<<< HEAD
<<<<<<< HEAD
   "id": "77081bc6",
||||||| 6a30bf1
   "id": "54b345cf",
=======
   "id": "e4ab88cb",
>>>>>>> documentation-devel
||||||| d28b18c
   "id": "e4ab88cb",
=======
   "id": "0b0f371b",
>>>>>>> documentation-devel
||||||| 6893f63
<<<<<<< HEAD
   "id": "77081bc6",
||||||| 6a30bf1
   "id": "54b345cf",
=======
   "id": "e4ab88cb",
>>>>>>> documentation-devel
=======
   "id": "c8ca85bb",
>>>>>>> c74c98c2450c2a1ba922ed9442f136238d6bc88b
=======
   "id": "5df720af",
>>>>>>> 035bb2637984ead2784fecff78c0c60cc4181202
||||||| 3effdfa5
   "id": "61296c5d",
=======
   "id": "9f4961c5",
>>>>>>> documentation-devel
||||||| 96c826da
<<<<<<< HEAD
<<<<<<< HEAD
<<<<<<< HEAD
<<<<<<< HEAD
<<<<<<< HEAD
   "id": "77081bc6",
||||||| 6a30bf1
   "id": "54b345cf",
=======
   "id": "e4ab88cb",
>>>>>>> documentation-devel
||||||| d28b18c
   "id": "e4ab88cb",
=======
   "id": "0b0f371b",
>>>>>>> documentation-devel
||||||| 6893f63
<<<<<<< HEAD
   "id": "77081bc6",
||||||| 6a30bf1
   "id": "54b345cf",
=======
   "id": "e4ab88cb",
>>>>>>> documentation-devel
=======
   "id": "c8ca85bb",
>>>>>>> c74c98c2450c2a1ba922ed9442f136238d6bc88b
||||||| 6d93b645
   "id": "0b0f371b",
=======
   "id": "61296c5d",
>>>>>>> documentation-devel
||||||| 804edffb
<<<<<<< HEAD
<<<<<<< HEAD
<<<<<<< HEAD
   "id": "77081bc6",
||||||| 6a30bf1
   "id": "54b345cf",
=======
   "id": "e4ab88cb",
>>>>>>> documentation-devel
||||||| d28b18c
   "id": "e4ab88cb",
=======
   "id": "0b0f371b",
>>>>>>> documentation-devel
||||||| 6893f63
<<<<<<< HEAD
   "id": "77081bc6",
||||||| 6a30bf1
   "id": "54b345cf",
=======
   "id": "e4ab88cb",
>>>>>>> documentation-devel
=======
   "id": "c8ca85bb",
>>>>>>> c74c98c2450c2a1ba922ed9442f136238d6bc88b
=======
   "id": "5df720af",
>>>>>>> 035bb2637984ead2784fecff78c0c60cc4181202
=======
   "id": "8d424c83",
>>>>>>> 619c01f26351d57ac14d974b7af136ac5756103f
   "metadata": {
    "lines_to_next_cell": 0
   },
   "source": [
    "This distribution could have been generated from two peaks that were combined. From the histogram, there do not seem to be cells without nuclei or segmentation artifacts where the nucleus is larger than the cell. However, there are so many cells in this dataset and it is possible that just a few cells would not be visible on this histogram. We double check:"
   ]
  },
  {
   "cell_type": "code",
   "execution_count": null,
<<<<<<< HEAD
<<<<<<< HEAD
<<<<<<< HEAD
<<<<<<< HEAD
<<<<<<< HEAD
<<<<<<< HEAD
<<<<<<< HEAD
   "id": "2232a5f3",
||||||| 6a30bf1
   "id": "3f1894db",
=======
   "id": "46bb3abd",
>>>>>>> documentation-devel
||||||| d28b18c
   "id": "46bb3abd",
=======
   "id": "29fc92de",
>>>>>>> documentation-devel
||||||| 6893f63
<<<<<<< HEAD
   "id": "2232a5f3",
||||||| 6a30bf1
   "id": "3f1894db",
=======
   "id": "46bb3abd",
>>>>>>> documentation-devel
=======
   "id": "c94562ae",
>>>>>>> c74c98c2450c2a1ba922ed9442f136238d6bc88b
||||||| 6d93b645
   "id": "29fc92de",
=======
   "id": "9d169ef5",
>>>>>>> documentation-devel
||||||| 804edffb
<<<<<<< HEAD
<<<<<<< HEAD
<<<<<<< HEAD
   "id": "2232a5f3",
||||||| 6a30bf1
   "id": "3f1894db",
=======
   "id": "46bb3abd",
>>>>>>> documentation-devel
||||||| d28b18c
   "id": "46bb3abd",
=======
   "id": "29fc92de",
>>>>>>> documentation-devel
||||||| 6893f63
<<<<<<< HEAD
   "id": "2232a5f3",
||||||| 6a30bf1
   "id": "3f1894db",
=======
   "id": "46bb3abd",
>>>>>>> documentation-devel
=======
   "id": "c94562ae",
>>>>>>> c74c98c2450c2a1ba922ed9442f136238d6bc88b
=======
   "id": "3891a4cc",
>>>>>>> 035bb2637984ead2784fecff78c0c60cc4181202
||||||| 3effdfa5
   "id": "9d169ef5",
=======
   "id": "579a7d6d",
>>>>>>> documentation-devel
||||||| 96c826da
<<<<<<< HEAD
<<<<<<< HEAD
<<<<<<< HEAD
<<<<<<< HEAD
<<<<<<< HEAD
   "id": "2232a5f3",
||||||| 6a30bf1
   "id": "3f1894db",
=======
   "id": "46bb3abd",
>>>>>>> documentation-devel
||||||| d28b18c
   "id": "46bb3abd",
=======
   "id": "29fc92de",
>>>>>>> documentation-devel
||||||| 6893f63
<<<<<<< HEAD
   "id": "2232a5f3",
||||||| 6a30bf1
   "id": "3f1894db",
=======
   "id": "46bb3abd",
>>>>>>> documentation-devel
=======
   "id": "c94562ae",
>>>>>>> c74c98c2450c2a1ba922ed9442f136238d6bc88b
||||||| 6d93b645
   "id": "29fc92de",
=======
   "id": "9d169ef5",
>>>>>>> documentation-devel
||||||| 804edffb
<<<<<<< HEAD
<<<<<<< HEAD
<<<<<<< HEAD
   "id": "2232a5f3",
||||||| 6a30bf1
   "id": "3f1894db",
=======
   "id": "46bb3abd",
>>>>>>> documentation-devel
||||||| d28b18c
   "id": "46bb3abd",
=======
   "id": "29fc92de",
>>>>>>> documentation-devel
||||||| 6893f63
<<<<<<< HEAD
   "id": "2232a5f3",
||||||| 6a30bf1
   "id": "3f1894db",
=======
   "id": "46bb3abd",
>>>>>>> documentation-devel
=======
   "id": "c94562ae",
>>>>>>> c74c98c2450c2a1ba922ed9442f136238d6bc88b
=======
   "id": "3891a4cc",
>>>>>>> 035bb2637984ead2784fecff78c0c60cc4181202
=======
   "id": "236c92ac",
>>>>>>> 619c01f26351d57ac14d974b7af136ac5756103f
   "metadata": {},
   "outputs": [],
   "source": [
    "# No nucleus\n",
    "sum(sfe$nucleus_area < 1)\n",
    "# Nucleus larger than cell\n",
    "sum(sfe$nucleus_area > sfe$cell_area)"
   ]
  },
  {
   "cell_type": "markdown",
<<<<<<< HEAD
<<<<<<< HEAD
<<<<<<< HEAD
<<<<<<< HEAD
<<<<<<< HEAD
<<<<<<< HEAD
<<<<<<< HEAD
   "id": "a8e2c415",
||||||| 6a30bf1
   "id": "f1b579db",
=======
   "id": "d7184e7a",
>>>>>>> documentation-devel
||||||| d28b18c
   "id": "d7184e7a",
=======
   "id": "87d5dcf8",
>>>>>>> documentation-devel
||||||| 6893f63
<<<<<<< HEAD
   "id": "a8e2c415",
||||||| 6a30bf1
   "id": "f1b579db",
=======
   "id": "d7184e7a",
>>>>>>> documentation-devel
=======
   "id": "f9b9b747",
>>>>>>> c74c98c2450c2a1ba922ed9442f136238d6bc88b
||||||| 6d93b645
   "id": "87d5dcf8",
=======
   "id": "e68ff9c4",
>>>>>>> documentation-devel
||||||| 804edffb
<<<<<<< HEAD
<<<<<<< HEAD
<<<<<<< HEAD
   "id": "a8e2c415",
||||||| 6a30bf1
   "id": "f1b579db",
=======
   "id": "d7184e7a",
>>>>>>> documentation-devel
||||||| d28b18c
   "id": "d7184e7a",
=======
   "id": "87d5dcf8",
>>>>>>> documentation-devel
||||||| 6893f63
<<<<<<< HEAD
   "id": "a8e2c415",
||||||| 6a30bf1
   "id": "f1b579db",
=======
   "id": "d7184e7a",
>>>>>>> documentation-devel
=======
   "id": "f9b9b747",
>>>>>>> c74c98c2450c2a1ba922ed9442f136238d6bc88b
=======
   "id": "6567c4c9",
>>>>>>> 035bb2637984ead2784fecff78c0c60cc4181202
||||||| 3effdfa5
   "id": "e68ff9c4",
=======
   "id": "56164160",
>>>>>>> documentation-devel
||||||| 96c826da
<<<<<<< HEAD
<<<<<<< HEAD
<<<<<<< HEAD
<<<<<<< HEAD
<<<<<<< HEAD
   "id": "a8e2c415",
||||||| 6a30bf1
   "id": "f1b579db",
=======
   "id": "d7184e7a",
>>>>>>> documentation-devel
||||||| d28b18c
   "id": "d7184e7a",
=======
   "id": "87d5dcf8",
>>>>>>> documentation-devel
||||||| 6893f63
<<<<<<< HEAD
   "id": "a8e2c415",
||||||| 6a30bf1
   "id": "f1b579db",
=======
   "id": "d7184e7a",
>>>>>>> documentation-devel
=======
   "id": "f9b9b747",
>>>>>>> c74c98c2450c2a1ba922ed9442f136238d6bc88b
||||||| 6d93b645
   "id": "87d5dcf8",
=======
   "id": "e68ff9c4",
>>>>>>> documentation-devel
||||||| 804edffb
<<<<<<< HEAD
<<<<<<< HEAD
<<<<<<< HEAD
   "id": "a8e2c415",
||||||| 6a30bf1
   "id": "f1b579db",
=======
   "id": "d7184e7a",
>>>>>>> documentation-devel
||||||| d28b18c
   "id": "d7184e7a",
=======
   "id": "87d5dcf8",
>>>>>>> documentation-devel
||||||| 6893f63
<<<<<<< HEAD
   "id": "a8e2c415",
||||||| 6a30bf1
   "id": "f1b579db",
=======
   "id": "d7184e7a",
>>>>>>> documentation-devel
=======
   "id": "f9b9b747",
>>>>>>> c74c98c2450c2a1ba922ed9442f136238d6bc88b
=======
   "id": "6567c4c9",
>>>>>>> 035bb2637984ead2784fecff78c0c60cc4181202
=======
   "id": "8b3e5c63",
>>>>>>> 619c01f26351d57ac14d974b7af136ac5756103f
   "metadata": {
    "lines_to_next_cell": 0
   },
   "source": [
    "So there are no cells without nuclei or nuclei larger than their cells. Here we plot the nuclei proportion in space:"
   ]
  },
  {
   "cell_type": "code",
   "execution_count": null,
<<<<<<< HEAD
<<<<<<< HEAD
<<<<<<< HEAD
<<<<<<< HEAD
<<<<<<< HEAD
<<<<<<< HEAD
<<<<<<< HEAD
   "id": "340c78fb",
||||||| 6a30bf1
   "id": "55616ab0",
=======
   "id": "ba30ae18",
>>>>>>> documentation-devel
||||||| d28b18c
   "id": "ba30ae18",
=======
   "id": "092f9837",
>>>>>>> documentation-devel
||||||| 6893f63
<<<<<<< HEAD
   "id": "340c78fb",
||||||| 6a30bf1
   "id": "55616ab0",
=======
   "id": "ba30ae18",
>>>>>>> documentation-devel
=======
   "id": "4f8503ee",
>>>>>>> c74c98c2450c2a1ba922ed9442f136238d6bc88b
||||||| 6d93b645
   "id": "092f9837",
=======
   "id": "a347cbe5",
>>>>>>> documentation-devel
||||||| 804edffb
<<<<<<< HEAD
<<<<<<< HEAD
<<<<<<< HEAD
   "id": "340c78fb",
||||||| 6a30bf1
   "id": "55616ab0",
=======
   "id": "ba30ae18",
>>>>>>> documentation-devel
||||||| d28b18c
   "id": "ba30ae18",
=======
   "id": "092f9837",
>>>>>>> documentation-devel
||||||| 6893f63
<<<<<<< HEAD
   "id": "340c78fb",
||||||| 6a30bf1
   "id": "55616ab0",
=======
   "id": "ba30ae18",
>>>>>>> documentation-devel
=======
   "id": "4f8503ee",
>>>>>>> c74c98c2450c2a1ba922ed9442f136238d6bc88b
=======
   "id": "fe4eed8e",
>>>>>>> 035bb2637984ead2784fecff78c0c60cc4181202
||||||| 3effdfa5
   "id": "a347cbe5",
=======
   "id": "4633c6c3",
>>>>>>> documentation-devel
||||||| 96c826da
<<<<<<< HEAD
<<<<<<< HEAD
<<<<<<< HEAD
<<<<<<< HEAD
<<<<<<< HEAD
   "id": "340c78fb",
||||||| 6a30bf1
   "id": "55616ab0",
=======
   "id": "ba30ae18",
>>>>>>> documentation-devel
||||||| d28b18c
   "id": "ba30ae18",
=======
   "id": "092f9837",
>>>>>>> documentation-devel
||||||| 6893f63
<<<<<<< HEAD
   "id": "340c78fb",
||||||| 6a30bf1
   "id": "55616ab0",
=======
   "id": "ba30ae18",
>>>>>>> documentation-devel
=======
   "id": "4f8503ee",
>>>>>>> c74c98c2450c2a1ba922ed9442f136238d6bc88b
||||||| 6d93b645
   "id": "092f9837",
=======
   "id": "a347cbe5",
>>>>>>> documentation-devel
||||||| 804edffb
<<<<<<< HEAD
<<<<<<< HEAD
<<<<<<< HEAD
   "id": "340c78fb",
||||||| 6a30bf1
   "id": "55616ab0",
=======
   "id": "ba30ae18",
>>>>>>> documentation-devel
||||||| d28b18c
   "id": "ba30ae18",
=======
   "id": "092f9837",
>>>>>>> documentation-devel
||||||| 6893f63
<<<<<<< HEAD
   "id": "340c78fb",
||||||| 6a30bf1
   "id": "55616ab0",
=======
   "id": "ba30ae18",
>>>>>>> documentation-devel
=======
   "id": "4f8503ee",
>>>>>>> c74c98c2450c2a1ba922ed9442f136238d6bc88b
=======
   "id": "fe4eed8e",
>>>>>>> 035bb2637984ead2784fecff78c0c60cc4181202
=======
   "id": "500df3fd",
>>>>>>> 619c01f26351d57ac14d974b7af136ac5756103f
   "metadata": {},
   "outputs": [],
   "source": [
    "plotSpatialFeature(sfe, \"prop_nuc\", colGeometryName = \"cellSeg\")"
   ]
  },
  {
   "cell_type": "markdown",
<<<<<<< HEAD
<<<<<<< HEAD
<<<<<<< HEAD
<<<<<<< HEAD
<<<<<<< HEAD
<<<<<<< HEAD
<<<<<<< HEAD
   "id": "e245ed5d",
||||||| 6a30bf1
   "id": "13a7cd49",
=======
   "id": "8e39f097",
>>>>>>> documentation-devel
||||||| d28b18c
   "id": "8e39f097",
=======
   "id": "65efd224",
>>>>>>> documentation-devel
||||||| 6893f63
<<<<<<< HEAD
   "id": "e245ed5d",
||||||| 6a30bf1
   "id": "13a7cd49",
=======
   "id": "8e39f097",
>>>>>>> documentation-devel
=======
   "id": "025f5223",
>>>>>>> c74c98c2450c2a1ba922ed9442f136238d6bc88b
||||||| 6d93b645
   "id": "65efd224",
=======
   "id": "032e14cd",
>>>>>>> documentation-devel
||||||| 804edffb
<<<<<<< HEAD
<<<<<<< HEAD
<<<<<<< HEAD
   "id": "e245ed5d",
||||||| 6a30bf1
   "id": "13a7cd49",
=======
   "id": "8e39f097",
>>>>>>> documentation-devel
||||||| d28b18c
   "id": "8e39f097",
=======
   "id": "65efd224",
>>>>>>> documentation-devel
||||||| 6893f63
<<<<<<< HEAD
   "id": "e245ed5d",
||||||| 6a30bf1
   "id": "13a7cd49",
=======
   "id": "8e39f097",
>>>>>>> documentation-devel
=======
   "id": "025f5223",
>>>>>>> c74c98c2450c2a1ba922ed9442f136238d6bc88b
=======
   "id": "893f25c1",
>>>>>>> 035bb2637984ead2784fecff78c0c60cc4181202
||||||| 3effdfa5
   "id": "032e14cd",
=======
   "id": "f619362b",
>>>>>>> documentation-devel
||||||| 96c826da
<<<<<<< HEAD
<<<<<<< HEAD
<<<<<<< HEAD
<<<<<<< HEAD
<<<<<<< HEAD
   "id": "e245ed5d",
||||||| 6a30bf1
   "id": "13a7cd49",
=======
   "id": "8e39f097",
>>>>>>> documentation-devel
||||||| d28b18c
   "id": "8e39f097",
=======
   "id": "65efd224",
>>>>>>> documentation-devel
||||||| 6893f63
<<<<<<< HEAD
   "id": "e245ed5d",
||||||| 6a30bf1
   "id": "13a7cd49",
=======
   "id": "8e39f097",
>>>>>>> documentation-devel
=======
   "id": "025f5223",
>>>>>>> c74c98c2450c2a1ba922ed9442f136238d6bc88b
||||||| 6d93b645
   "id": "65efd224",
=======
   "id": "032e14cd",
>>>>>>> documentation-devel
||||||| 804edffb
<<<<<<< HEAD
<<<<<<< HEAD
<<<<<<< HEAD
   "id": "e245ed5d",
||||||| 6a30bf1
   "id": "13a7cd49",
=======
   "id": "8e39f097",
>>>>>>> documentation-devel
||||||| d28b18c
   "id": "8e39f097",
=======
   "id": "65efd224",
>>>>>>> documentation-devel
||||||| 6893f63
<<<<<<< HEAD
   "id": "e245ed5d",
||||||| 6a30bf1
   "id": "13a7cd49",
=======
   "id": "8e39f097",
>>>>>>> documentation-devel
=======
   "id": "025f5223",
>>>>>>> c74c98c2450c2a1ba922ed9442f136238d6bc88b
=======
   "id": "893f25c1",
>>>>>>> 035bb2637984ead2784fecff78c0c60cc4181202
=======
   "id": "f4717a5b",
>>>>>>> 619c01f26351d57ac14d974b7af136ac5756103f
   "metadata": {
    "lines_to_next_cell": 0
   },
   "source": [
    "Cells in some histological regions have larger proportions occupied by the nuclei. It is interesting to check, controlling for cell type, how cell area, nucleus area, and the proportion of cell occupied by nucleus relate to gene expression. However, a problem in performing such an analysis is that cell segmentation is only available for one z-plane here and these areas also relate to where this z-plane intersects each cell. \n",
    "\n",
    "Below we plot a 2D histogram to better show the density of points on this plot:"
   ]
  },
  {
   "cell_type": "code",
   "execution_count": null,
<<<<<<< HEAD
<<<<<<< HEAD
<<<<<<< HEAD
<<<<<<< HEAD
<<<<<<< HEAD
<<<<<<< HEAD
<<<<<<< HEAD
   "id": "629b4d50",
||||||| 6a30bf1
   "id": "b0fd0e00",
=======
   "id": "6b7e3a57",
>>>>>>> documentation-devel
||||||| d28b18c
   "id": "6b7e3a57",
=======
   "id": "5570bf42",
>>>>>>> documentation-devel
||||||| 6893f63
<<<<<<< HEAD
   "id": "629b4d50",
||||||| 6a30bf1
   "id": "b0fd0e00",
=======
   "id": "6b7e3a57",
>>>>>>> documentation-devel
=======
   "id": "d6e7e83c",
>>>>>>> c74c98c2450c2a1ba922ed9442f136238d6bc88b
||||||| 6d93b645
   "id": "5570bf42",
=======
   "id": "834abac7",
>>>>>>> documentation-devel
||||||| 804edffb
<<<<<<< HEAD
<<<<<<< HEAD
<<<<<<< HEAD
   "id": "629b4d50",
||||||| 6a30bf1
   "id": "b0fd0e00",
=======
   "id": "6b7e3a57",
>>>>>>> documentation-devel
||||||| d28b18c
   "id": "6b7e3a57",
=======
   "id": "5570bf42",
>>>>>>> documentation-devel
||||||| 6893f63
<<<<<<< HEAD
   "id": "629b4d50",
||||||| 6a30bf1
   "id": "b0fd0e00",
=======
   "id": "6b7e3a57",
>>>>>>> documentation-devel
=======
   "id": "d6e7e83c",
>>>>>>> c74c98c2450c2a1ba922ed9442f136238d6bc88b
=======
   "id": "5cc96e54",
>>>>>>> 035bb2637984ead2784fecff78c0c60cc4181202
||||||| 3effdfa5
   "id": "834abac7",
=======
   "id": "6587ee1f",
>>>>>>> documentation-devel
||||||| 96c826da
<<<<<<< HEAD
<<<<<<< HEAD
<<<<<<< HEAD
<<<<<<< HEAD
<<<<<<< HEAD
   "id": "629b4d50",
||||||| 6a30bf1
   "id": "b0fd0e00",
=======
   "id": "6b7e3a57",
>>>>>>> documentation-devel
||||||| d28b18c
   "id": "6b7e3a57",
=======
   "id": "5570bf42",
>>>>>>> documentation-devel
||||||| 6893f63
<<<<<<< HEAD
   "id": "629b4d50",
||||||| 6a30bf1
   "id": "b0fd0e00",
=======
   "id": "6b7e3a57",
>>>>>>> documentation-devel
=======
   "id": "d6e7e83c",
>>>>>>> c74c98c2450c2a1ba922ed9442f136238d6bc88b
||||||| 6d93b645
   "id": "5570bf42",
=======
   "id": "834abac7",
>>>>>>> documentation-devel
||||||| 804edffb
<<<<<<< HEAD
<<<<<<< HEAD
<<<<<<< HEAD
   "id": "629b4d50",
||||||| 6a30bf1
   "id": "b0fd0e00",
=======
   "id": "6b7e3a57",
>>>>>>> documentation-devel
||||||| d28b18c
   "id": "6b7e3a57",
=======
   "id": "5570bf42",
>>>>>>> documentation-devel
||||||| 6893f63
<<<<<<< HEAD
   "id": "629b4d50",
||||||| 6a30bf1
   "id": "b0fd0e00",
=======
   "id": "6b7e3a57",
>>>>>>> documentation-devel
=======
   "id": "d6e7e83c",
>>>>>>> c74c98c2450c2a1ba922ed9442f136238d6bc88b
=======
   "id": "5cc96e54",
>>>>>>> 035bb2637984ead2784fecff78c0c60cc4181202
=======
   "id": "41cdd8ee",
>>>>>>> 619c01f26351d57ac14d974b7af136ac5756103f
   "metadata": {},
   "outputs": [],
   "source": [
    "plotColDataBin2D(sfe, \"cell_area\", \"prop_nuc\") + \n",
    "    scale_fill_viridis_c()"
   ]
  },
  {
   "cell_type": "markdown",
<<<<<<< HEAD
<<<<<<< HEAD
<<<<<<< HEAD
<<<<<<< HEAD
<<<<<<< HEAD
<<<<<<< HEAD
<<<<<<< HEAD
   "id": "1db7765e",
||||||| 6a30bf1
   "id": "ec5122d5",
=======
   "id": "d07cd9fe",
>>>>>>> documentation-devel
||||||| d28b18c
   "id": "d07cd9fe",
=======
   "id": "bbe4f77c",
>>>>>>> documentation-devel
||||||| 6893f63
<<<<<<< HEAD
   "id": "1db7765e",
||||||| 6a30bf1
   "id": "ec5122d5",
=======
   "id": "d07cd9fe",
>>>>>>> documentation-devel
=======
   "id": "0b99cc2e",
>>>>>>> c74c98c2450c2a1ba922ed9442f136238d6bc88b
||||||| 6d93b645
   "id": "bbe4f77c",
=======
   "id": "774b278e",
>>>>>>> documentation-devel
||||||| 804edffb
<<<<<<< HEAD
<<<<<<< HEAD
<<<<<<< HEAD
   "id": "1db7765e",
||||||| 6a30bf1
   "id": "ec5122d5",
=======
   "id": "d07cd9fe",
>>>>>>> documentation-devel
||||||| d28b18c
   "id": "d07cd9fe",
=======
   "id": "bbe4f77c",
>>>>>>> documentation-devel
||||||| 6893f63
<<<<<<< HEAD
   "id": "1db7765e",
||||||| 6a30bf1
   "id": "ec5122d5",
=======
   "id": "d07cd9fe",
>>>>>>> documentation-devel
=======
   "id": "0b99cc2e",
>>>>>>> c74c98c2450c2a1ba922ed9442f136238d6bc88b
=======
   "id": "0f73eaa1",
>>>>>>> 035bb2637984ead2784fecff78c0c60cc4181202
||||||| 3effdfa5
   "id": "774b278e",
=======
   "id": "db004ac9",
>>>>>>> documentation-devel
||||||| 96c826da
<<<<<<< HEAD
<<<<<<< HEAD
<<<<<<< HEAD
<<<<<<< HEAD
<<<<<<< HEAD
   "id": "1db7765e",
||||||| 6a30bf1
   "id": "ec5122d5",
=======
   "id": "d07cd9fe",
>>>>>>> documentation-devel
||||||| d28b18c
   "id": "d07cd9fe",
=======
   "id": "bbe4f77c",
>>>>>>> documentation-devel
||||||| 6893f63
<<<<<<< HEAD
   "id": "1db7765e",
||||||| 6a30bf1
   "id": "ec5122d5",
=======
   "id": "d07cd9fe",
>>>>>>> documentation-devel
=======
   "id": "0b99cc2e",
>>>>>>> c74c98c2450c2a1ba922ed9442f136238d6bc88b
||||||| 6d93b645
   "id": "bbe4f77c",
=======
   "id": "774b278e",
>>>>>>> documentation-devel
||||||| 804edffb
<<<<<<< HEAD
<<<<<<< HEAD
<<<<<<< HEAD
   "id": "1db7765e",
||||||| 6a30bf1
   "id": "ec5122d5",
=======
   "id": "d07cd9fe",
>>>>>>> documentation-devel
||||||| d28b18c
   "id": "d07cd9fe",
=======
   "id": "bbe4f77c",
>>>>>>> documentation-devel
||||||| 6893f63
<<<<<<< HEAD
   "id": "1db7765e",
||||||| 6a30bf1
   "id": "ec5122d5",
=======
   "id": "d07cd9fe",
>>>>>>> documentation-devel
=======
   "id": "0b99cc2e",
>>>>>>> c74c98c2450c2a1ba922ed9442f136238d6bc88b
=======
   "id": "0f73eaa1",
>>>>>>> 035bb2637984ead2784fecff78c0c60cc4181202
=======
   "id": "2817faf5",
>>>>>>> 619c01f26351d57ac14d974b7af136ac5756103f
   "metadata": {
    "lines_to_next_cell": 0
   },
   "source": [
    "Smaller cells tend to have higher proportion occupied by the nucleus. This can be related to cell type, or it could be a limitation in how small the nuclei can be in this tissue.\n",
    "\n",
    "We also examine the relationship between nucleus area and the proportion of cell occupied by the nucleus:"
   ]
  },
  {
   "cell_type": "code",
   "execution_count": null,
<<<<<<< HEAD
<<<<<<< HEAD
<<<<<<< HEAD
<<<<<<< HEAD
<<<<<<< HEAD
<<<<<<< HEAD
<<<<<<< HEAD
   "id": "0df455aa",
||||||| 6a30bf1
   "id": "b4aac299",
=======
   "id": "617fb55c",
>>>>>>> documentation-devel
||||||| d28b18c
   "id": "617fb55c",
=======
   "id": "7d213ada",
>>>>>>> documentation-devel
||||||| 6893f63
<<<<<<< HEAD
   "id": "0df455aa",
||||||| 6a30bf1
   "id": "b4aac299",
=======
   "id": "617fb55c",
>>>>>>> documentation-devel
=======
   "id": "b243bcf2",
>>>>>>> c74c98c2450c2a1ba922ed9442f136238d6bc88b
||||||| 6d93b645
   "id": "7d213ada",
=======
   "id": "3f5d193b",
>>>>>>> documentation-devel
||||||| 804edffb
<<<<<<< HEAD
<<<<<<< HEAD
<<<<<<< HEAD
   "id": "0df455aa",
||||||| 6a30bf1
   "id": "b4aac299",
=======
   "id": "617fb55c",
>>>>>>> documentation-devel
||||||| d28b18c
   "id": "617fb55c",
=======
   "id": "7d213ada",
>>>>>>> documentation-devel
||||||| 6893f63
<<<<<<< HEAD
   "id": "0df455aa",
||||||| 6a30bf1
   "id": "b4aac299",
=======
   "id": "617fb55c",
>>>>>>> documentation-devel
=======
   "id": "b243bcf2",
>>>>>>> c74c98c2450c2a1ba922ed9442f136238d6bc88b
=======
   "id": "90eb04ef",
>>>>>>> 035bb2637984ead2784fecff78c0c60cc4181202
||||||| 3effdfa5
   "id": "3f5d193b",
=======
   "id": "e9ce6274",
>>>>>>> documentation-devel
||||||| 96c826da
<<<<<<< HEAD
<<<<<<< HEAD
<<<<<<< HEAD
<<<<<<< HEAD
<<<<<<< HEAD
   "id": "0df455aa",
||||||| 6a30bf1
   "id": "b4aac299",
=======
   "id": "617fb55c",
>>>>>>> documentation-devel
||||||| d28b18c
   "id": "617fb55c",
=======
   "id": "7d213ada",
>>>>>>> documentation-devel
||||||| 6893f63
<<<<<<< HEAD
   "id": "0df455aa",
||||||| 6a30bf1
   "id": "b4aac299",
=======
   "id": "617fb55c",
>>>>>>> documentation-devel
=======
   "id": "b243bcf2",
>>>>>>> c74c98c2450c2a1ba922ed9442f136238d6bc88b
||||||| 6d93b645
   "id": "7d213ada",
=======
   "id": "3f5d193b",
>>>>>>> documentation-devel
||||||| 804edffb
<<<<<<< HEAD
<<<<<<< HEAD
<<<<<<< HEAD
   "id": "0df455aa",
||||||| 6a30bf1
   "id": "b4aac299",
=======
   "id": "617fb55c",
>>>>>>> documentation-devel
||||||| d28b18c
   "id": "617fb55c",
=======
   "id": "7d213ada",
>>>>>>> documentation-devel
||||||| 6893f63
<<<<<<< HEAD
   "id": "0df455aa",
||||||| 6a30bf1
   "id": "b4aac299",
=======
   "id": "617fb55c",
>>>>>>> documentation-devel
=======
   "id": "b243bcf2",
>>>>>>> c74c98c2450c2a1ba922ed9442f136238d6bc88b
=======
   "id": "90eb04ef",
>>>>>>> 035bb2637984ead2784fecff78c0c60cc4181202
=======
   "id": "318c2c67",
>>>>>>> 619c01f26351d57ac14d974b7af136ac5756103f
   "metadata": {},
   "outputs": [],
   "source": [
    "plotColDataBin2D(sfe, \"nucleus_area\", \"prop_nuc\") + \n",
    "    scale_fill_viridis_c()"
   ]
  },
  {
   "cell_type": "markdown",
<<<<<<< HEAD
<<<<<<< HEAD
<<<<<<< HEAD
<<<<<<< HEAD
<<<<<<< HEAD
<<<<<<< HEAD
<<<<<<< HEAD
   "id": "1e42b7e3",
||||||| 6a30bf1
   "id": "f1e0c050",
=======
   "id": "df1f0f67",
>>>>>>> documentation-devel
||||||| d28b18c
   "id": "df1f0f67",
=======
   "id": "6c637200",
>>>>>>> documentation-devel
||||||| 6893f63
<<<<<<< HEAD
   "id": "1e42b7e3",
||||||| 6a30bf1
   "id": "f1e0c050",
=======
   "id": "df1f0f67",
>>>>>>> documentation-devel
=======
   "id": "bbf7d867",
>>>>>>> c74c98c2450c2a1ba922ed9442f136238d6bc88b
||||||| 6d93b645
   "id": "6c637200",
=======
   "id": "8843ccd7",
>>>>>>> documentation-devel
||||||| 804edffb
<<<<<<< HEAD
<<<<<<< HEAD
<<<<<<< HEAD
   "id": "1e42b7e3",
||||||| 6a30bf1
   "id": "f1e0c050",
=======
   "id": "df1f0f67",
>>>>>>> documentation-devel
||||||| d28b18c
   "id": "df1f0f67",
=======
   "id": "6c637200",
>>>>>>> documentation-devel
||||||| 6893f63
<<<<<<< HEAD
   "id": "1e42b7e3",
||||||| 6a30bf1
   "id": "f1e0c050",
=======
   "id": "df1f0f67",
>>>>>>> documentation-devel
=======
   "id": "bbf7d867",
>>>>>>> c74c98c2450c2a1ba922ed9442f136238d6bc88b
=======
   "id": "05c24e45",
>>>>>>> 035bb2637984ead2784fecff78c0c60cc4181202
||||||| 3effdfa5
   "id": "8843ccd7",
=======
   "id": "3a61cdbc",
>>>>>>> documentation-devel
||||||| 96c826da
<<<<<<< HEAD
<<<<<<< HEAD
<<<<<<< HEAD
<<<<<<< HEAD
<<<<<<< HEAD
   "id": "1e42b7e3",
||||||| 6a30bf1
   "id": "f1e0c050",
=======
   "id": "df1f0f67",
>>>>>>> documentation-devel
||||||| d28b18c
   "id": "df1f0f67",
=======
   "id": "6c637200",
>>>>>>> documentation-devel
||||||| 6893f63
<<<<<<< HEAD
   "id": "1e42b7e3",
||||||| 6a30bf1
   "id": "f1e0c050",
=======
   "id": "df1f0f67",
>>>>>>> documentation-devel
=======
   "id": "bbf7d867",
>>>>>>> c74c98c2450c2a1ba922ed9442f136238d6bc88b
||||||| 6d93b645
   "id": "6c637200",
=======
   "id": "8843ccd7",
>>>>>>> documentation-devel
||||||| 804edffb
<<<<<<< HEAD
<<<<<<< HEAD
<<<<<<< HEAD
   "id": "1e42b7e3",
||||||| 6a30bf1
   "id": "f1e0c050",
=======
   "id": "df1f0f67",
>>>>>>> documentation-devel
||||||| d28b18c
   "id": "df1f0f67",
=======
   "id": "6c637200",
>>>>>>> documentation-devel
||||||| 6893f63
<<<<<<< HEAD
   "id": "1e42b7e3",
||||||| 6a30bf1
   "id": "f1e0c050",
=======
   "id": "df1f0f67",
>>>>>>> documentation-devel
=======
   "id": "bbf7d867",
>>>>>>> c74c98c2450c2a1ba922ed9442f136238d6bc88b
=======
   "id": "05c24e45",
>>>>>>> 035bb2637984ead2784fecff78c0c60cc4181202
=======
   "id": "200ef6af",
>>>>>>> 619c01f26351d57ac14d974b7af136ac5756103f
   "metadata": {
    "lines_to_next_cell": 0
   },
   "source": [
    "The outlier is obvious. There are more cells with both small nuclei and low proportion of area occupied by the nucleus.\n",
    "\n",
    "## Negative controls\n",
    "Since there are only a few hundred genes plus negative control probes, all row names of the SFE object can be printed out to find what the negative control probes are called."
   ]
  },
  {
   "cell_type": "code",
   "execution_count": null,
<<<<<<< HEAD
<<<<<<< HEAD
<<<<<<< HEAD
<<<<<<< HEAD
<<<<<<< HEAD
<<<<<<< HEAD
<<<<<<< HEAD
   "id": "2589a545",
||||||| 6a30bf1
   "id": "13a5f54f",
=======
   "id": "5dcdec2a",
>>>>>>> documentation-devel
||||||| d28b18c
   "id": "5dcdec2a",
=======
   "id": "35483bb9",
>>>>>>> documentation-devel
||||||| 6893f63
<<<<<<< HEAD
   "id": "2589a545",
||||||| 6a30bf1
   "id": "13a5f54f",
=======
   "id": "5dcdec2a",
>>>>>>> documentation-devel
=======
   "id": "c2605fa8",
>>>>>>> c74c98c2450c2a1ba922ed9442f136238d6bc88b
||||||| 6d93b645
   "id": "35483bb9",
=======
   "id": "c9758b8e",
>>>>>>> documentation-devel
||||||| 804edffb
<<<<<<< HEAD
<<<<<<< HEAD
<<<<<<< HEAD
   "id": "2589a545",
||||||| 6a30bf1
   "id": "13a5f54f",
=======
   "id": "5dcdec2a",
>>>>>>> documentation-devel
||||||| d28b18c
   "id": "5dcdec2a",
=======
   "id": "35483bb9",
>>>>>>> documentation-devel
||||||| 6893f63
<<<<<<< HEAD
   "id": "2589a545",
||||||| 6a30bf1
   "id": "13a5f54f",
=======
   "id": "5dcdec2a",
>>>>>>> documentation-devel
=======
   "id": "c2605fa8",
>>>>>>> c74c98c2450c2a1ba922ed9442f136238d6bc88b
=======
   "id": "31c74c57",
>>>>>>> 035bb2637984ead2784fecff78c0c60cc4181202
||||||| 3effdfa5
   "id": "c9758b8e",
=======
   "id": "dd665ca9",
>>>>>>> documentation-devel
||||||| 96c826da
<<<<<<< HEAD
<<<<<<< HEAD
<<<<<<< HEAD
<<<<<<< HEAD
<<<<<<< HEAD
   "id": "2589a545",
||||||| 6a30bf1
   "id": "13a5f54f",
=======
   "id": "5dcdec2a",
>>>>>>> documentation-devel
||||||| d28b18c
   "id": "5dcdec2a",
=======
   "id": "35483bb9",
>>>>>>> documentation-devel
||||||| 6893f63
<<<<<<< HEAD
   "id": "2589a545",
||||||| 6a30bf1
   "id": "13a5f54f",
=======
   "id": "5dcdec2a",
>>>>>>> documentation-devel
=======
   "id": "c2605fa8",
>>>>>>> c74c98c2450c2a1ba922ed9442f136238d6bc88b
||||||| 6d93b645
   "id": "35483bb9",
=======
   "id": "c9758b8e",
>>>>>>> documentation-devel
||||||| 804edffb
<<<<<<< HEAD
<<<<<<< HEAD
<<<<<<< HEAD
   "id": "2589a545",
||||||| 6a30bf1
   "id": "13a5f54f",
=======
   "id": "5dcdec2a",
>>>>>>> documentation-devel
||||||| d28b18c
   "id": "5dcdec2a",
=======
   "id": "35483bb9",
>>>>>>> documentation-devel
||||||| 6893f63
<<<<<<< HEAD
   "id": "2589a545",
||||||| 6a30bf1
   "id": "13a5f54f",
=======
   "id": "5dcdec2a",
>>>>>>> documentation-devel
=======
   "id": "c2605fa8",
>>>>>>> c74c98c2450c2a1ba922ed9442f136238d6bc88b
=======
   "id": "31c74c57",
>>>>>>> 035bb2637984ead2784fecff78c0c60cc4181202
=======
   "id": "4b9f06ae",
>>>>>>> 619c01f26351d57ac14d974b7af136ac5756103f
   "metadata": {},
   "outputs": [],
   "source": [
    "rownames(sfe)"
   ]
  },
  {
   "cell_type": "markdown",
<<<<<<< HEAD
<<<<<<< HEAD
<<<<<<< HEAD
<<<<<<< HEAD
<<<<<<< HEAD
<<<<<<< HEAD
<<<<<<< HEAD
   "id": "4398ab72",
||||||| 6a30bf1
   "id": "3d204413",
=======
   "id": "6dd1564d",
>>>>>>> documentation-devel
||||||| d28b18c
   "id": "6dd1564d",
=======
   "id": "7a0f5940",
>>>>>>> documentation-devel
||||||| 6893f63
<<<<<<< HEAD
   "id": "4398ab72",
||||||| 6a30bf1
   "id": "3d204413",
=======
   "id": "6dd1564d",
>>>>>>> documentation-devel
=======
   "id": "54d3a34d",
>>>>>>> c74c98c2450c2a1ba922ed9442f136238d6bc88b
||||||| 6d93b645
   "id": "7a0f5940",
=======
   "id": "c989144e",
>>>>>>> documentation-devel
||||||| 804edffb
<<<<<<< HEAD
<<<<<<< HEAD
<<<<<<< HEAD
   "id": "4398ab72",
||||||| 6a30bf1
   "id": "3d204413",
=======
   "id": "6dd1564d",
>>>>>>> documentation-devel
||||||| d28b18c
   "id": "6dd1564d",
=======
   "id": "7a0f5940",
>>>>>>> documentation-devel
||||||| 6893f63
<<<<<<< HEAD
   "id": "4398ab72",
||||||| 6a30bf1
   "id": "3d204413",
=======
   "id": "6dd1564d",
>>>>>>> documentation-devel
=======
   "id": "54d3a34d",
>>>>>>> c74c98c2450c2a1ba922ed9442f136238d6bc88b
=======
   "id": "c26c0f1b",
>>>>>>> 035bb2637984ead2784fecff78c0c60cc4181202
||||||| 3effdfa5
   "id": "c989144e",
=======
   "id": "372ae3e4",
>>>>>>> documentation-devel
||||||| 96c826da
<<<<<<< HEAD
<<<<<<< HEAD
<<<<<<< HEAD
<<<<<<< HEAD
<<<<<<< HEAD
   "id": "4398ab72",
||||||| 6a30bf1
   "id": "3d204413",
=======
   "id": "6dd1564d",
>>>>>>> documentation-devel
||||||| d28b18c
   "id": "6dd1564d",
=======
   "id": "7a0f5940",
>>>>>>> documentation-devel
||||||| 6893f63
<<<<<<< HEAD
   "id": "4398ab72",
||||||| 6a30bf1
   "id": "3d204413",
=======
   "id": "6dd1564d",
>>>>>>> documentation-devel
=======
   "id": "54d3a34d",
>>>>>>> c74c98c2450c2a1ba922ed9442f136238d6bc88b
||||||| 6d93b645
   "id": "7a0f5940",
=======
   "id": "c989144e",
>>>>>>> documentation-devel
||||||| 804edffb
<<<<<<< HEAD
<<<<<<< HEAD
<<<<<<< HEAD
   "id": "4398ab72",
||||||| 6a30bf1
   "id": "3d204413",
=======
   "id": "6dd1564d",
>>>>>>> documentation-devel
||||||| d28b18c
   "id": "6dd1564d",
=======
   "id": "7a0f5940",
>>>>>>> documentation-devel
||||||| 6893f63
<<<<<<< HEAD
   "id": "4398ab72",
||||||| 6a30bf1
   "id": "3d204413",
=======
   "id": "6dd1564d",
>>>>>>> documentation-devel
=======
   "id": "54d3a34d",
>>>>>>> c74c98c2450c2a1ba922ed9442f136238d6bc88b
=======
   "id": "c26c0f1b",
>>>>>>> 035bb2637984ead2784fecff78c0c60cc4181202
=======
   "id": "9aef7dd3",
>>>>>>> 619c01f26351d57ac14d974b7af136ac5756103f
   "metadata": {},
   "source": [
    "According to the Xenium paper [@Janesick2022-rp], there are 3 types of controls:\n",
    "\n",
    "> 1) probe controls to assess non-specific binding to RNA, \n",
    "2) decoding controls to assess misassigned genes, and \n",
    "3) genomic DNA (gDNA) controls to ensure the signal is from RNA.\n",
    "\n",
    "The paper does not explain in detail how those control probes were designed, nor explain what the blank probes are. But the blank probes can be used as a negative control."
   ]
  },
  {
   "cell_type": "code",
   "execution_count": null,
<<<<<<< HEAD
<<<<<<< HEAD
<<<<<<< HEAD
<<<<<<< HEAD
<<<<<<< HEAD
<<<<<<< HEAD
<<<<<<< HEAD
   "id": "c4f6edc6",
||||||| 6a30bf1
   "id": "3a048f87",
=======
   "id": "d53bfd0a",
>>>>>>> documentation-devel
||||||| d28b18c
   "id": "d53bfd0a",
=======
   "id": "37ce3662",
>>>>>>> documentation-devel
||||||| 6893f63
<<<<<<< HEAD
   "id": "c4f6edc6",
||||||| 6a30bf1
   "id": "3a048f87",
=======
   "id": "d53bfd0a",
>>>>>>> documentation-devel
=======
   "id": "48d673a9",
>>>>>>> c74c98c2450c2a1ba922ed9442f136238d6bc88b
||||||| 6d93b645
   "id": "37ce3662",
=======
   "id": "0cc54f7c",
>>>>>>> documentation-devel
||||||| 804edffb
<<<<<<< HEAD
<<<<<<< HEAD
<<<<<<< HEAD
   "id": "c4f6edc6",
||||||| 6a30bf1
   "id": "3a048f87",
=======
   "id": "d53bfd0a",
>>>>>>> documentation-devel
||||||| d28b18c
   "id": "d53bfd0a",
=======
   "id": "37ce3662",
>>>>>>> documentation-devel
||||||| 6893f63
<<<<<<< HEAD
   "id": "c4f6edc6",
||||||| 6a30bf1
   "id": "3a048f87",
=======
   "id": "d53bfd0a",
>>>>>>> documentation-devel
=======
   "id": "48d673a9",
>>>>>>> c74c98c2450c2a1ba922ed9442f136238d6bc88b
=======
   "id": "c588962a",
>>>>>>> 035bb2637984ead2784fecff78c0c60cc4181202
||||||| 3effdfa5
   "id": "0cc54f7c",
=======
   "id": "f84460ab",
>>>>>>> documentation-devel
||||||| 96c826da
<<<<<<< HEAD
<<<<<<< HEAD
<<<<<<< HEAD
<<<<<<< HEAD
<<<<<<< HEAD
   "id": "c4f6edc6",
||||||| 6a30bf1
   "id": "3a048f87",
=======
   "id": "d53bfd0a",
>>>>>>> documentation-devel
||||||| d28b18c
   "id": "d53bfd0a",
=======
   "id": "37ce3662",
>>>>>>> documentation-devel
||||||| 6893f63
<<<<<<< HEAD
   "id": "c4f6edc6",
||||||| 6a30bf1
   "id": "3a048f87",
=======
   "id": "d53bfd0a",
>>>>>>> documentation-devel
=======
   "id": "48d673a9",
>>>>>>> c74c98c2450c2a1ba922ed9442f136238d6bc88b
||||||| 6d93b645
   "id": "37ce3662",
=======
   "id": "0cc54f7c",
>>>>>>> documentation-devel
||||||| 804edffb
<<<<<<< HEAD
<<<<<<< HEAD
<<<<<<< HEAD
   "id": "c4f6edc6",
||||||| 6a30bf1
   "id": "3a048f87",
=======
   "id": "d53bfd0a",
>>>>>>> documentation-devel
||||||| d28b18c
   "id": "d53bfd0a",
=======
   "id": "37ce3662",
>>>>>>> documentation-devel
||||||| 6893f63
<<<<<<< HEAD
   "id": "c4f6edc6",
||||||| 6a30bf1
   "id": "3a048f87",
=======
   "id": "d53bfd0a",
>>>>>>> documentation-devel
=======
   "id": "48d673a9",
>>>>>>> c74c98c2450c2a1ba922ed9442f136238d6bc88b
=======
   "id": "c588962a",
>>>>>>> 035bb2637984ead2784fecff78c0c60cc4181202
=======
   "id": "505f7b16",
>>>>>>> 619c01f26351d57ac14d974b7af136ac5756103f
   "metadata": {},
   "outputs": [],
   "source": [
    "is_blank <- str_detect(rownames(sfe), \"^BLANK_\")\n",
    "sum(is_blank)"
   ]
  },
  {
   "cell_type": "markdown",
<<<<<<< HEAD
<<<<<<< HEAD
<<<<<<< HEAD
<<<<<<< HEAD
<<<<<<< HEAD
<<<<<<< HEAD
<<<<<<< HEAD
   "id": "1459fba9",
||||||| 6a30bf1
   "id": "0ef50afe",
=======
   "id": "5bdd5f03",
>>>>>>> documentation-devel
||||||| d28b18c
   "id": "5bdd5f03",
=======
   "id": "9d77e35a",
>>>>>>> documentation-devel
||||||| 6893f63
<<<<<<< HEAD
   "id": "1459fba9",
||||||| 6a30bf1
   "id": "0ef50afe",
=======
   "id": "5bdd5f03",
>>>>>>> documentation-devel
=======
   "id": "d8a6a767",
>>>>>>> c74c98c2450c2a1ba922ed9442f136238d6bc88b
||||||| 6d93b645
   "id": "9d77e35a",
=======
   "id": "df13aca0",
>>>>>>> documentation-devel
||||||| 804edffb
<<<<<<< HEAD
<<<<<<< HEAD
<<<<<<< HEAD
   "id": "1459fba9",
||||||| 6a30bf1
   "id": "0ef50afe",
=======
   "id": "5bdd5f03",
>>>>>>> documentation-devel
||||||| d28b18c
   "id": "5bdd5f03",
=======
   "id": "9d77e35a",
>>>>>>> documentation-devel
||||||| 6893f63
<<<<<<< HEAD
   "id": "1459fba9",
||||||| 6a30bf1
   "id": "0ef50afe",
=======
   "id": "5bdd5f03",
>>>>>>> documentation-devel
=======
   "id": "d8a6a767",
>>>>>>> c74c98c2450c2a1ba922ed9442f136238d6bc88b
=======
   "id": "2d265c3a",
>>>>>>> 035bb2637984ead2784fecff78c0c60cc4181202
||||||| 3effdfa5
   "id": "df13aca0",
=======
   "id": "023b02c9",
>>>>>>> documentation-devel
||||||| 96c826da
<<<<<<< HEAD
<<<<<<< HEAD
<<<<<<< HEAD
<<<<<<< HEAD
<<<<<<< HEAD
   "id": "1459fba9",
||||||| 6a30bf1
   "id": "0ef50afe",
=======
   "id": "5bdd5f03",
>>>>>>> documentation-devel
||||||| d28b18c
   "id": "5bdd5f03",
=======
   "id": "9d77e35a",
>>>>>>> documentation-devel
||||||| 6893f63
<<<<<<< HEAD
   "id": "1459fba9",
||||||| 6a30bf1
   "id": "0ef50afe",
=======
   "id": "5bdd5f03",
>>>>>>> documentation-devel
=======
   "id": "d8a6a767",
>>>>>>> c74c98c2450c2a1ba922ed9442f136238d6bc88b
||||||| 6d93b645
   "id": "9d77e35a",
=======
   "id": "df13aca0",
>>>>>>> documentation-devel
||||||| 804edffb
<<<<<<< HEAD
<<<<<<< HEAD
<<<<<<< HEAD
   "id": "1459fba9",
||||||| 6a30bf1
   "id": "0ef50afe",
=======
   "id": "5bdd5f03",
>>>>>>> documentation-devel
||||||| d28b18c
   "id": "5bdd5f03",
=======
   "id": "9d77e35a",
>>>>>>> documentation-devel
||||||| 6893f63
<<<<<<< HEAD
   "id": "1459fba9",
||||||| 6a30bf1
   "id": "0ef50afe",
=======
   "id": "5bdd5f03",
>>>>>>> documentation-devel
=======
   "id": "d8a6a767",
>>>>>>> c74c98c2450c2a1ba922ed9442f136238d6bc88b
=======
   "id": "2d265c3a",
>>>>>>> 035bb2637984ead2784fecff78c0c60cc4181202
=======
   "id": "b01a389a",
>>>>>>> 619c01f26351d57ac14d974b7af136ac5756103f
   "metadata": {
    "lines_to_next_cell": 0
   },
   "source": [
    "This should be number 1, the probe control"
   ]
  },
  {
   "cell_type": "code",
   "execution_count": null,
<<<<<<< HEAD
<<<<<<< HEAD
<<<<<<< HEAD
<<<<<<< HEAD
<<<<<<< HEAD
<<<<<<< HEAD
<<<<<<< HEAD
   "id": "8236ab6f",
||||||| 6a30bf1
   "id": "698aa96e",
=======
   "id": "b480043c",
>>>>>>> documentation-devel
||||||| d28b18c
   "id": "b480043c",
=======
   "id": "e34c3b43",
>>>>>>> documentation-devel
||||||| 6893f63
<<<<<<< HEAD
   "id": "8236ab6f",
||||||| 6a30bf1
   "id": "698aa96e",
=======
   "id": "b480043c",
>>>>>>> documentation-devel
=======
   "id": "cf24e327",
>>>>>>> c74c98c2450c2a1ba922ed9442f136238d6bc88b
||||||| 6d93b645
   "id": "e34c3b43",
=======
   "id": "466a6242",
>>>>>>> documentation-devel
||||||| 804edffb
<<<<<<< HEAD
<<<<<<< HEAD
<<<<<<< HEAD
   "id": "8236ab6f",
||||||| 6a30bf1
   "id": "698aa96e",
=======
   "id": "b480043c",
>>>>>>> documentation-devel
||||||| d28b18c
   "id": "b480043c",
=======
   "id": "e34c3b43",
>>>>>>> documentation-devel
||||||| 6893f63
<<<<<<< HEAD
   "id": "8236ab6f",
||||||| 6a30bf1
   "id": "698aa96e",
=======
   "id": "b480043c",
>>>>>>> documentation-devel
=======
   "id": "cf24e327",
>>>>>>> c74c98c2450c2a1ba922ed9442f136238d6bc88b
=======
   "id": "0be710d3",
>>>>>>> 035bb2637984ead2784fecff78c0c60cc4181202
||||||| 3effdfa5
   "id": "466a6242",
=======
   "id": "e571a091",
>>>>>>> documentation-devel
||||||| 96c826da
<<<<<<< HEAD
<<<<<<< HEAD
<<<<<<< HEAD
<<<<<<< HEAD
<<<<<<< HEAD
   "id": "8236ab6f",
||||||| 6a30bf1
   "id": "698aa96e",
=======
   "id": "b480043c",
>>>>>>> documentation-devel
||||||| d28b18c
   "id": "b480043c",
=======
   "id": "e34c3b43",
>>>>>>> documentation-devel
||||||| 6893f63
<<<<<<< HEAD
   "id": "8236ab6f",
||||||| 6a30bf1
   "id": "698aa96e",
=======
   "id": "b480043c",
>>>>>>> documentation-devel
=======
   "id": "cf24e327",
>>>>>>> c74c98c2450c2a1ba922ed9442f136238d6bc88b
||||||| 6d93b645
   "id": "e34c3b43",
=======
   "id": "466a6242",
>>>>>>> documentation-devel
||||||| 804edffb
<<<<<<< HEAD
<<<<<<< HEAD
<<<<<<< HEAD
   "id": "8236ab6f",
||||||| 6a30bf1
   "id": "698aa96e",
=======
   "id": "b480043c",
>>>>>>> documentation-devel
||||||| d28b18c
   "id": "b480043c",
=======
   "id": "e34c3b43",
>>>>>>> documentation-devel
||||||| 6893f63
<<<<<<< HEAD
   "id": "8236ab6f",
||||||| 6a30bf1
   "id": "698aa96e",
=======
   "id": "b480043c",
>>>>>>> documentation-devel
=======
   "id": "cf24e327",
>>>>>>> c74c98c2450c2a1ba922ed9442f136238d6bc88b
=======
   "id": "0be710d3",
>>>>>>> 035bb2637984ead2784fecff78c0c60cc4181202
=======
   "id": "66eae2dc",
>>>>>>> 619c01f26351d57ac14d974b7af136ac5756103f
   "metadata": {},
   "outputs": [],
   "source": [
    "is_neg <- str_detect(rownames(sfe), \"^NegControlProbe\")\n",
    "sum(is_neg)"
   ]
  },
  {
   "cell_type": "markdown",
<<<<<<< HEAD
<<<<<<< HEAD
<<<<<<< HEAD
<<<<<<< HEAD
<<<<<<< HEAD
<<<<<<< HEAD
<<<<<<< HEAD
   "id": "efdb5d37",
||||||| 6a30bf1
   "id": "d2bca7ca",
=======
   "id": "62544905",
>>>>>>> documentation-devel
||||||| d28b18c
   "id": "62544905",
=======
   "id": "cc94e8aa",
>>>>>>> documentation-devel
||||||| 6893f63
<<<<<<< HEAD
   "id": "efdb5d37",
||||||| 6a30bf1
   "id": "d2bca7ca",
=======
   "id": "62544905",
>>>>>>> documentation-devel
=======
   "id": "bcdef278",
>>>>>>> c74c98c2450c2a1ba922ed9442f136238d6bc88b
||||||| 6d93b645
   "id": "cc94e8aa",
=======
   "id": "3e83d687",
>>>>>>> documentation-devel
||||||| 804edffb
<<<<<<< HEAD
<<<<<<< HEAD
<<<<<<< HEAD
   "id": "efdb5d37",
||||||| 6a30bf1
   "id": "d2bca7ca",
=======
   "id": "62544905",
>>>>>>> documentation-devel
||||||| d28b18c
   "id": "62544905",
=======
   "id": "cc94e8aa",
>>>>>>> documentation-devel
||||||| 6893f63
<<<<<<< HEAD
   "id": "efdb5d37",
||||||| 6a30bf1
   "id": "d2bca7ca",
=======
   "id": "62544905",
>>>>>>> documentation-devel
=======
   "id": "bcdef278",
>>>>>>> c74c98c2450c2a1ba922ed9442f136238d6bc88b
=======
   "id": "bb99f7a9",
>>>>>>> 035bb2637984ead2784fecff78c0c60cc4181202
||||||| 3effdfa5
   "id": "3e83d687",
=======
   "id": "8c24d634",
>>>>>>> documentation-devel
||||||| 96c826da
<<<<<<< HEAD
<<<<<<< HEAD
<<<<<<< HEAD
<<<<<<< HEAD
<<<<<<< HEAD
   "id": "efdb5d37",
||||||| 6a30bf1
   "id": "d2bca7ca",
=======
   "id": "62544905",
>>>>>>> documentation-devel
||||||| d28b18c
   "id": "62544905",
=======
   "id": "cc94e8aa",
>>>>>>> documentation-devel
||||||| 6893f63
<<<<<<< HEAD
   "id": "efdb5d37",
||||||| 6a30bf1
   "id": "d2bca7ca",
=======
   "id": "62544905",
>>>>>>> documentation-devel
=======
   "id": "bcdef278",
>>>>>>> c74c98c2450c2a1ba922ed9442f136238d6bc88b
||||||| 6d93b645
   "id": "cc94e8aa",
=======
   "id": "3e83d687",
>>>>>>> documentation-devel
||||||| 804edffb
<<<<<<< HEAD
<<<<<<< HEAD
<<<<<<< HEAD
   "id": "efdb5d37",
||||||| 6a30bf1
   "id": "d2bca7ca",
=======
   "id": "62544905",
>>>>>>> documentation-devel
||||||| d28b18c
   "id": "62544905",
=======
   "id": "cc94e8aa",
>>>>>>> documentation-devel
||||||| 6893f63
<<<<<<< HEAD
   "id": "efdb5d37",
||||||| 6a30bf1
   "id": "d2bca7ca",
=======
   "id": "62544905",
>>>>>>> documentation-devel
=======
   "id": "bcdef278",
>>>>>>> c74c98c2450c2a1ba922ed9442f136238d6bc88b
=======
   "id": "bb99f7a9",
>>>>>>> 035bb2637984ead2784fecff78c0c60cc4181202
=======
   "id": "8f7da703",
>>>>>>> 619c01f26351d57ac14d974b7af136ac5756103f
   "metadata": {
    "lines_to_next_cell": 0
   },
   "source": [
    "This should be number 2, the decoding control"
   ]
  },
  {
   "cell_type": "code",
   "execution_count": null,
<<<<<<< HEAD
<<<<<<< HEAD
<<<<<<< HEAD
<<<<<<< HEAD
<<<<<<< HEAD
<<<<<<< HEAD
<<<<<<< HEAD
   "id": "9be49e93",
||||||| 6a30bf1
   "id": "9e2b5874",
=======
   "id": "5e647b03",
>>>>>>> documentation-devel
||||||| d28b18c
   "id": "5e647b03",
=======
   "id": "9758a9fe",
>>>>>>> documentation-devel
||||||| 6893f63
<<<<<<< HEAD
   "id": "9be49e93",
||||||| 6a30bf1
   "id": "9e2b5874",
=======
   "id": "5e647b03",
>>>>>>> documentation-devel
=======
   "id": "fefa472e",
>>>>>>> c74c98c2450c2a1ba922ed9442f136238d6bc88b
||||||| 6d93b645
   "id": "9758a9fe",
=======
   "id": "7ae26aa1",
>>>>>>> documentation-devel
||||||| 804edffb
<<<<<<< HEAD
<<<<<<< HEAD
<<<<<<< HEAD
   "id": "9be49e93",
||||||| 6a30bf1
   "id": "9e2b5874",
=======
   "id": "5e647b03",
>>>>>>> documentation-devel
||||||| d28b18c
   "id": "5e647b03",
=======
   "id": "9758a9fe",
>>>>>>> documentation-devel
||||||| 6893f63
<<<<<<< HEAD
   "id": "9be49e93",
||||||| 6a30bf1
   "id": "9e2b5874",
=======
   "id": "5e647b03",
>>>>>>> documentation-devel
=======
   "id": "fefa472e",
>>>>>>> c74c98c2450c2a1ba922ed9442f136238d6bc88b
=======
   "id": "578df50e",
>>>>>>> 035bb2637984ead2784fecff78c0c60cc4181202
||||||| 3effdfa5
   "id": "7ae26aa1",
=======
   "id": "018664e3",
>>>>>>> documentation-devel
||||||| 96c826da
<<<<<<< HEAD
<<<<<<< HEAD
<<<<<<< HEAD
<<<<<<< HEAD
<<<<<<< HEAD
   "id": "9be49e93",
||||||| 6a30bf1
   "id": "9e2b5874",
=======
   "id": "5e647b03",
>>>>>>> documentation-devel
||||||| d28b18c
   "id": "5e647b03",
=======
   "id": "9758a9fe",
>>>>>>> documentation-devel
||||||| 6893f63
<<<<<<< HEAD
   "id": "9be49e93",
||||||| 6a30bf1
   "id": "9e2b5874",
=======
   "id": "5e647b03",
>>>>>>> documentation-devel
=======
   "id": "fefa472e",
>>>>>>> c74c98c2450c2a1ba922ed9442f136238d6bc88b
||||||| 6d93b645
   "id": "9758a9fe",
=======
   "id": "7ae26aa1",
>>>>>>> documentation-devel
||||||| 804edffb
<<<<<<< HEAD
<<<<<<< HEAD
<<<<<<< HEAD
   "id": "9be49e93",
||||||| 6a30bf1
   "id": "9e2b5874",
=======
   "id": "5e647b03",
>>>>>>> documentation-devel
||||||| d28b18c
   "id": "5e647b03",
=======
   "id": "9758a9fe",
>>>>>>> documentation-devel
||||||| 6893f63
<<<<<<< HEAD
   "id": "9be49e93",
||||||| 6a30bf1
   "id": "9e2b5874",
=======
   "id": "5e647b03",
>>>>>>> documentation-devel
=======
   "id": "fefa472e",
>>>>>>> c74c98c2450c2a1ba922ed9442f136238d6bc88b
=======
   "id": "578df50e",
>>>>>>> 035bb2637984ead2784fecff78c0c60cc4181202
=======
   "id": "4df79b02",
>>>>>>> 619c01f26351d57ac14d974b7af136ac5756103f
   "metadata": {},
   "outputs": [],
   "source": [
    "is_neg2 <- str_detect(rownames(sfe), \"^NegControlCodeword\")\n",
    "sum(is_neg2)"
   ]
  },
  {
   "cell_type": "markdown",
<<<<<<< HEAD
<<<<<<< HEAD
<<<<<<< HEAD
<<<<<<< HEAD
<<<<<<< HEAD
<<<<<<< HEAD
<<<<<<< HEAD
   "id": "479c876f",
||||||| 6a30bf1
   "id": "1217184e",
=======
   "id": "77de54dd",
>>>>>>> documentation-devel
||||||| d28b18c
   "id": "77de54dd",
=======
   "id": "2b93581a",
>>>>>>> documentation-devel
||||||| 6893f63
<<<<<<< HEAD
   "id": "479c876f",
||||||| 6a30bf1
   "id": "1217184e",
=======
   "id": "77de54dd",
>>>>>>> documentation-devel
=======
   "id": "39059e58",
>>>>>>> c74c98c2450c2a1ba922ed9442f136238d6bc88b
||||||| 6d93b645
   "id": "2b93581a",
=======
   "id": "f58e5eda",
>>>>>>> documentation-devel
||||||| 804edffb
<<<<<<< HEAD
<<<<<<< HEAD
<<<<<<< HEAD
   "id": "479c876f",
||||||| 6a30bf1
   "id": "1217184e",
=======
   "id": "77de54dd",
>>>>>>> documentation-devel
||||||| d28b18c
   "id": "77de54dd",
=======
   "id": "2b93581a",
>>>>>>> documentation-devel
||||||| 6893f63
<<<<<<< HEAD
   "id": "479c876f",
||||||| 6a30bf1
   "id": "1217184e",
=======
   "id": "77de54dd",
>>>>>>> documentation-devel
=======
   "id": "39059e58",
>>>>>>> c74c98c2450c2a1ba922ed9442f136238d6bc88b
=======
   "id": "59f79648",
>>>>>>> 035bb2637984ead2784fecff78c0c60cc4181202
||||||| 3effdfa5
   "id": "f58e5eda",
=======
   "id": "b787cc50",
>>>>>>> documentation-devel
||||||| 96c826da
<<<<<<< HEAD
<<<<<<< HEAD
<<<<<<< HEAD
<<<<<<< HEAD
<<<<<<< HEAD
   "id": "479c876f",
||||||| 6a30bf1
   "id": "1217184e",
=======
   "id": "77de54dd",
>>>>>>> documentation-devel
||||||| d28b18c
   "id": "77de54dd",
=======
   "id": "2b93581a",
>>>>>>> documentation-devel
||||||| 6893f63
<<<<<<< HEAD
   "id": "479c876f",
||||||| 6a30bf1
   "id": "1217184e",
=======
   "id": "77de54dd",
>>>>>>> documentation-devel
=======
   "id": "39059e58",
>>>>>>> c74c98c2450c2a1ba922ed9442f136238d6bc88b
||||||| 6d93b645
   "id": "2b93581a",
=======
   "id": "f58e5eda",
>>>>>>> documentation-devel
||||||| 804edffb
<<<<<<< HEAD
<<<<<<< HEAD
<<<<<<< HEAD
   "id": "479c876f",
||||||| 6a30bf1
   "id": "1217184e",
=======
   "id": "77de54dd",
>>>>>>> documentation-devel
||||||| d28b18c
   "id": "77de54dd",
=======
   "id": "2b93581a",
>>>>>>> documentation-devel
||||||| 6893f63
<<<<<<< HEAD
   "id": "479c876f",
||||||| 6a30bf1
   "id": "1217184e",
=======
   "id": "77de54dd",
>>>>>>> documentation-devel
=======
   "id": "39059e58",
>>>>>>> c74c98c2450c2a1ba922ed9442f136238d6bc88b
=======
   "id": "59f79648",
>>>>>>> 035bb2637984ead2784fecff78c0c60cc4181202
=======
   "id": "d6a0ca05",
>>>>>>> 619c01f26351d57ac14d974b7af136ac5756103f
   "metadata": {
    "lines_to_next_cell": 0
   },
   "source": [
    "This must be number 3, gDNA control"
   ]
  },
  {
   "cell_type": "code",
   "execution_count": null,
<<<<<<< HEAD
<<<<<<< HEAD
<<<<<<< HEAD
<<<<<<< HEAD
<<<<<<< HEAD
<<<<<<< HEAD
<<<<<<< HEAD
   "id": "ebe8993d",
||||||| 6a30bf1
   "id": "21be9a16",
=======
   "id": "5bb759f5",
>>>>>>> documentation-devel
||||||| d28b18c
   "id": "5bb759f5",
=======
   "id": "978d8de9",
>>>>>>> documentation-devel
||||||| 6893f63
<<<<<<< HEAD
   "id": "ebe8993d",
||||||| 6a30bf1
   "id": "21be9a16",
=======
   "id": "5bb759f5",
>>>>>>> documentation-devel
=======
   "id": "57e3cedd",
>>>>>>> c74c98c2450c2a1ba922ed9442f136238d6bc88b
||||||| 6d93b645
   "id": "978d8de9",
=======
   "id": "3b5fd4ca",
>>>>>>> documentation-devel
||||||| 804edffb
<<<<<<< HEAD
<<<<<<< HEAD
<<<<<<< HEAD
   "id": "ebe8993d",
||||||| 6a30bf1
   "id": "21be9a16",
=======
   "id": "5bb759f5",
>>>>>>> documentation-devel
||||||| d28b18c
   "id": "5bb759f5",
=======
   "id": "978d8de9",
>>>>>>> documentation-devel
||||||| 6893f63
<<<<<<< HEAD
   "id": "ebe8993d",
||||||| 6a30bf1
   "id": "21be9a16",
=======
   "id": "5bb759f5",
>>>>>>> documentation-devel
=======
   "id": "57e3cedd",
>>>>>>> c74c98c2450c2a1ba922ed9442f136238d6bc88b
=======
   "id": "22321ef8",
>>>>>>> 035bb2637984ead2784fecff78c0c60cc4181202
||||||| 3effdfa5
   "id": "3b5fd4ca",
=======
   "id": "b002b539",
>>>>>>> documentation-devel
||||||| 96c826da
<<<<<<< HEAD
<<<<<<< HEAD
<<<<<<< HEAD
<<<<<<< HEAD
<<<<<<< HEAD
   "id": "ebe8993d",
||||||| 6a30bf1
   "id": "21be9a16",
=======
   "id": "5bb759f5",
>>>>>>> documentation-devel
||||||| d28b18c
   "id": "5bb759f5",
=======
   "id": "978d8de9",
>>>>>>> documentation-devel
||||||| 6893f63
<<<<<<< HEAD
   "id": "ebe8993d",
||||||| 6a30bf1
   "id": "21be9a16",
=======
   "id": "5bb759f5",
>>>>>>> documentation-devel
=======
   "id": "57e3cedd",
>>>>>>> c74c98c2450c2a1ba922ed9442f136238d6bc88b
||||||| 6d93b645
   "id": "978d8de9",
=======
   "id": "3b5fd4ca",
>>>>>>> documentation-devel
||||||| 804edffb
<<<<<<< HEAD
<<<<<<< HEAD
<<<<<<< HEAD
   "id": "ebe8993d",
||||||| 6a30bf1
   "id": "21be9a16",
=======
   "id": "5bb759f5",
>>>>>>> documentation-devel
||||||| d28b18c
   "id": "5bb759f5",
=======
   "id": "978d8de9",
>>>>>>> documentation-devel
||||||| 6893f63
<<<<<<< HEAD
   "id": "ebe8993d",
||||||| 6a30bf1
   "id": "21be9a16",
=======
   "id": "5bb759f5",
>>>>>>> documentation-devel
=======
   "id": "57e3cedd",
>>>>>>> c74c98c2450c2a1ba922ed9442f136238d6bc88b
=======
   "id": "22321ef8",
>>>>>>> 035bb2637984ead2784fecff78c0c60cc4181202
=======
   "id": "c2ae610d",
>>>>>>> 619c01f26351d57ac14d974b7af136ac5756103f
   "metadata": {},
   "outputs": [],
   "source": [
    "is_anti <- str_detect(rownames(sfe), \"^antisense\")\n",
    "sum(is_anti)"
   ]
  },
  {
   "cell_type": "markdown",
<<<<<<< HEAD
<<<<<<< HEAD
<<<<<<< HEAD
<<<<<<< HEAD
<<<<<<< HEAD
<<<<<<< HEAD
<<<<<<< HEAD
   "id": "b66724d7",
||||||| 6a30bf1
   "id": "5e75ca7f",
=======
   "id": "71e5a560",
>>>>>>> documentation-devel
||||||| d28b18c
   "id": "71e5a560",
=======
   "id": "62c8c726",
>>>>>>> documentation-devel
||||||| 6893f63
<<<<<<< HEAD
   "id": "b66724d7",
||||||| 6a30bf1
   "id": "5e75ca7f",
=======
   "id": "71e5a560",
>>>>>>> documentation-devel
=======
   "id": "eb5a3951",
>>>>>>> c74c98c2450c2a1ba922ed9442f136238d6bc88b
||||||| 6d93b645
   "id": "62c8c726",
=======
   "id": "f60df147",
>>>>>>> documentation-devel
||||||| 804edffb
<<<<<<< HEAD
<<<<<<< HEAD
<<<<<<< HEAD
   "id": "b66724d7",
||||||| 6a30bf1
   "id": "5e75ca7f",
=======
   "id": "71e5a560",
>>>>>>> documentation-devel
||||||| d28b18c
   "id": "71e5a560",
=======
   "id": "62c8c726",
>>>>>>> documentation-devel
||||||| 6893f63
<<<<<<< HEAD
   "id": "b66724d7",
||||||| 6a30bf1
   "id": "5e75ca7f",
=======
   "id": "71e5a560",
>>>>>>> documentation-devel
=======
   "id": "eb5a3951",
>>>>>>> c74c98c2450c2a1ba922ed9442f136238d6bc88b
=======
   "id": "47727de3",
>>>>>>> 035bb2637984ead2784fecff78c0c60cc4181202
||||||| 3effdfa5
   "id": "f60df147",
=======
   "id": "bbe43982",
>>>>>>> documentation-devel
||||||| 96c826da
<<<<<<< HEAD
<<<<<<< HEAD
<<<<<<< HEAD
<<<<<<< HEAD
<<<<<<< HEAD
   "id": "b66724d7",
||||||| 6a30bf1
   "id": "5e75ca7f",
=======
   "id": "71e5a560",
>>>>>>> documentation-devel
||||||| d28b18c
   "id": "71e5a560",
=======
   "id": "62c8c726",
>>>>>>> documentation-devel
||||||| 6893f63
<<<<<<< HEAD
   "id": "b66724d7",
||||||| 6a30bf1
   "id": "5e75ca7f",
=======
   "id": "71e5a560",
>>>>>>> documentation-devel
=======
   "id": "eb5a3951",
>>>>>>> c74c98c2450c2a1ba922ed9442f136238d6bc88b
||||||| 6d93b645
   "id": "62c8c726",
=======
   "id": "f60df147",
>>>>>>> documentation-devel
||||||| 804edffb
<<<<<<< HEAD
<<<<<<< HEAD
<<<<<<< HEAD
   "id": "b66724d7",
||||||| 6a30bf1
   "id": "5e75ca7f",
=======
   "id": "71e5a560",
>>>>>>> documentation-devel
||||||| d28b18c
   "id": "71e5a560",
=======
   "id": "62c8c726",
>>>>>>> documentation-devel
||||||| 6893f63
<<<<<<< HEAD
   "id": "b66724d7",
||||||| 6a30bf1
   "id": "5e75ca7f",
=======
   "id": "71e5a560",
>>>>>>> documentation-devel
=======
   "id": "eb5a3951",
>>>>>>> c74c98c2450c2a1ba922ed9442f136238d6bc88b
=======
   "id": "47727de3",
>>>>>>> 035bb2637984ead2784fecff78c0c60cc4181202
=======
   "id": "a0985680",
>>>>>>> 619c01f26351d57ac14d974b7af136ac5756103f
   "metadata": {
    "lines_to_next_cell": 0
   },
   "source": [
    "Also make an indicator of whether a feature is any sort of negative control"
   ]
  },
  {
   "cell_type": "code",
   "execution_count": null,
<<<<<<< HEAD
<<<<<<< HEAD
<<<<<<< HEAD
<<<<<<< HEAD
<<<<<<< HEAD
<<<<<<< HEAD
<<<<<<< HEAD
   "id": "7c4616e1",
||||||| 6a30bf1
   "id": "db79f8bd",
=======
   "id": "fbcecd97",
>>>>>>> documentation-devel
||||||| d28b18c
   "id": "fbcecd97",
=======
   "id": "0ba6fc5c",
>>>>>>> documentation-devel
||||||| 6893f63
<<<<<<< HEAD
   "id": "7c4616e1",
||||||| 6a30bf1
   "id": "db79f8bd",
=======
   "id": "fbcecd97",
>>>>>>> documentation-devel
=======
   "id": "25629a49",
>>>>>>> c74c98c2450c2a1ba922ed9442f136238d6bc88b
||||||| 6d93b645
   "id": "0ba6fc5c",
=======
   "id": "ce0ca996",
>>>>>>> documentation-devel
||||||| 804edffb
<<<<<<< HEAD
<<<<<<< HEAD
<<<<<<< HEAD
   "id": "7c4616e1",
||||||| 6a30bf1
   "id": "db79f8bd",
=======
   "id": "fbcecd97",
>>>>>>> documentation-devel
||||||| d28b18c
   "id": "fbcecd97",
=======
   "id": "0ba6fc5c",
>>>>>>> documentation-devel
||||||| 6893f63
<<<<<<< HEAD
   "id": "7c4616e1",
||||||| 6a30bf1
   "id": "db79f8bd",
=======
   "id": "fbcecd97",
>>>>>>> documentation-devel
=======
   "id": "25629a49",
>>>>>>> c74c98c2450c2a1ba922ed9442f136238d6bc88b
=======
   "id": "2536879e",
>>>>>>> 035bb2637984ead2784fecff78c0c60cc4181202
||||||| 3effdfa5
   "id": "ce0ca996",
=======
   "id": "f15841a0",
>>>>>>> documentation-devel
||||||| 96c826da
<<<<<<< HEAD
<<<<<<< HEAD
<<<<<<< HEAD
<<<<<<< HEAD
<<<<<<< HEAD
   "id": "7c4616e1",
||||||| 6a30bf1
   "id": "db79f8bd",
=======
   "id": "fbcecd97",
>>>>>>> documentation-devel
||||||| d28b18c
   "id": "fbcecd97",
=======
   "id": "0ba6fc5c",
>>>>>>> documentation-devel
||||||| 6893f63
<<<<<<< HEAD
   "id": "7c4616e1",
||||||| 6a30bf1
   "id": "db79f8bd",
=======
   "id": "fbcecd97",
>>>>>>> documentation-devel
=======
   "id": "25629a49",
>>>>>>> c74c98c2450c2a1ba922ed9442f136238d6bc88b
||||||| 6d93b645
   "id": "0ba6fc5c",
=======
   "id": "ce0ca996",
>>>>>>> documentation-devel
||||||| 804edffb
<<<<<<< HEAD
<<<<<<< HEAD
<<<<<<< HEAD
   "id": "7c4616e1",
||||||| 6a30bf1
   "id": "db79f8bd",
=======
   "id": "fbcecd97",
>>>>>>> documentation-devel
||||||| d28b18c
   "id": "fbcecd97",
=======
   "id": "0ba6fc5c",
>>>>>>> documentation-devel
||||||| 6893f63
<<<<<<< HEAD
   "id": "7c4616e1",
||||||| 6a30bf1
   "id": "db79f8bd",
=======
   "id": "fbcecd97",
>>>>>>> documentation-devel
=======
   "id": "25629a49",
>>>>>>> c74c98c2450c2a1ba922ed9442f136238d6bc88b
=======
   "id": "2536879e",
>>>>>>> 035bb2637984ead2784fecff78c0c60cc4181202
=======
   "id": "130655e4",
>>>>>>> 619c01f26351d57ac14d974b7af136ac5756103f
   "metadata": {},
   "outputs": [],
   "source": [
    "is_any_neg <- is_blank | is_neg | is_neg2 | is_anti"
   ]
  },
  {
   "cell_type": "markdown",
<<<<<<< HEAD
<<<<<<< HEAD
<<<<<<< HEAD
<<<<<<< HEAD
<<<<<<< HEAD
<<<<<<< HEAD
<<<<<<< HEAD
   "id": "31beea59",
||||||| 6a30bf1
   "id": "cddb07a6",
=======
   "id": "38c36dcc",
>>>>>>> documentation-devel
||||||| d28b18c
   "id": "38c36dcc",
=======
   "id": "e9927b5c",
>>>>>>> documentation-devel
||||||| 6893f63
<<<<<<< HEAD
   "id": "31beea59",
||||||| 6a30bf1
   "id": "cddb07a6",
=======
   "id": "38c36dcc",
>>>>>>> documentation-devel
=======
   "id": "e04327f1",
>>>>>>> c74c98c2450c2a1ba922ed9442f136238d6bc88b
||||||| 6d93b645
   "id": "e9927b5c",
=======
   "id": "14edfa8c",
>>>>>>> documentation-devel
||||||| 804edffb
<<<<<<< HEAD
<<<<<<< HEAD
<<<<<<< HEAD
   "id": "31beea59",
||||||| 6a30bf1
   "id": "cddb07a6",
=======
   "id": "38c36dcc",
>>>>>>> documentation-devel
||||||| d28b18c
   "id": "38c36dcc",
=======
   "id": "e9927b5c",
>>>>>>> documentation-devel
||||||| 6893f63
<<<<<<< HEAD
   "id": "31beea59",
||||||| 6a30bf1
   "id": "cddb07a6",
=======
   "id": "38c36dcc",
>>>>>>> documentation-devel
=======
   "id": "e04327f1",
>>>>>>> c74c98c2450c2a1ba922ed9442f136238d6bc88b
=======
   "id": "18af0e67",
>>>>>>> 035bb2637984ead2784fecff78c0c60cc4181202
||||||| 3effdfa5
   "id": "14edfa8c",
=======
   "id": "bf4b3c1d",
>>>>>>> documentation-devel
||||||| 96c826da
<<<<<<< HEAD
<<<<<<< HEAD
<<<<<<< HEAD
<<<<<<< HEAD
<<<<<<< HEAD
   "id": "31beea59",
||||||| 6a30bf1
   "id": "cddb07a6",
=======
   "id": "38c36dcc",
>>>>>>> documentation-devel
||||||| d28b18c
   "id": "38c36dcc",
=======
   "id": "e9927b5c",
>>>>>>> documentation-devel
||||||| 6893f63
<<<<<<< HEAD
   "id": "31beea59",
||||||| 6a30bf1
   "id": "cddb07a6",
=======
   "id": "38c36dcc",
>>>>>>> documentation-devel
=======
   "id": "e04327f1",
>>>>>>> c74c98c2450c2a1ba922ed9442f136238d6bc88b
||||||| 6d93b645
   "id": "e9927b5c",
=======
   "id": "14edfa8c",
>>>>>>> documentation-devel
||||||| 804edffb
<<<<<<< HEAD
<<<<<<< HEAD
<<<<<<< HEAD
   "id": "31beea59",
||||||| 6a30bf1
   "id": "cddb07a6",
=======
   "id": "38c36dcc",
>>>>>>> documentation-devel
||||||| d28b18c
   "id": "38c36dcc",
=======
   "id": "e9927b5c",
>>>>>>> documentation-devel
||||||| 6893f63
<<<<<<< HEAD
   "id": "31beea59",
||||||| 6a30bf1
   "id": "cddb07a6",
=======
   "id": "38c36dcc",
>>>>>>> documentation-devel
=======
   "id": "e04327f1",
>>>>>>> c74c98c2450c2a1ba922ed9442f136238d6bc88b
=======
   "id": "18af0e67",
>>>>>>> 035bb2637984ead2784fecff78c0c60cc4181202
=======
   "id": "398594a6",
>>>>>>> 619c01f26351d57ac14d974b7af136ac5756103f
   "metadata": {
    "lines_to_next_cell": 0
   },
   "source": [
    "The `addPerCellQCMetrics()` function in the `scuttle` package can conveniently add transcript counts, proportion of total counts, and number of features detected for any subset of features to the SCE object. Here we do this for the SFE object, as SFE inherits from SCE. "
   ]
  },
  {
   "cell_type": "code",
   "execution_count": null,
<<<<<<< HEAD
<<<<<<< HEAD
<<<<<<< HEAD
<<<<<<< HEAD
<<<<<<< HEAD
<<<<<<< HEAD
<<<<<<< HEAD
   "id": "dd5d587d",
||||||| 6a30bf1
   "id": "4aed9457",
=======
   "id": "a8a3b995",
>>>>>>> documentation-devel
||||||| d28b18c
   "id": "a8a3b995",
=======
   "id": "638f6cf7",
>>>>>>> documentation-devel
||||||| 6893f63
<<<<<<< HEAD
   "id": "dd5d587d",
||||||| 6a30bf1
   "id": "4aed9457",
=======
   "id": "a8a3b995",
>>>>>>> documentation-devel
=======
   "id": "a5b04c07",
>>>>>>> c74c98c2450c2a1ba922ed9442f136238d6bc88b
||||||| 6d93b645
   "id": "638f6cf7",
=======
   "id": "a5a9b7d4",
>>>>>>> documentation-devel
||||||| 804edffb
<<<<<<< HEAD
<<<<<<< HEAD
<<<<<<< HEAD
   "id": "dd5d587d",
||||||| 6a30bf1
   "id": "4aed9457",
=======
   "id": "a8a3b995",
>>>>>>> documentation-devel
||||||| d28b18c
   "id": "a8a3b995",
=======
   "id": "638f6cf7",
>>>>>>> documentation-devel
||||||| 6893f63
<<<<<<< HEAD
   "id": "dd5d587d",
||||||| 6a30bf1
   "id": "4aed9457",
=======
   "id": "a8a3b995",
>>>>>>> documentation-devel
=======
   "id": "a5b04c07",
>>>>>>> c74c98c2450c2a1ba922ed9442f136238d6bc88b
=======
   "id": "d75d494b",
>>>>>>> 035bb2637984ead2784fecff78c0c60cc4181202
||||||| 3effdfa5
   "id": "a5a9b7d4",
=======
   "id": "cd9f984a",
>>>>>>> documentation-devel
||||||| 96c826da
<<<<<<< HEAD
<<<<<<< HEAD
<<<<<<< HEAD
<<<<<<< HEAD
<<<<<<< HEAD
   "id": "dd5d587d",
||||||| 6a30bf1
   "id": "4aed9457",
=======
   "id": "a8a3b995",
>>>>>>> documentation-devel
||||||| d28b18c
   "id": "a8a3b995",
=======
   "id": "638f6cf7",
>>>>>>> documentation-devel
||||||| 6893f63
<<<<<<< HEAD
   "id": "dd5d587d",
||||||| 6a30bf1
   "id": "4aed9457",
=======
   "id": "a8a3b995",
>>>>>>> documentation-devel
=======
   "id": "a5b04c07",
>>>>>>> c74c98c2450c2a1ba922ed9442f136238d6bc88b
||||||| 6d93b645
   "id": "638f6cf7",
=======
   "id": "a5a9b7d4",
>>>>>>> documentation-devel
||||||| 804edffb
<<<<<<< HEAD
<<<<<<< HEAD
<<<<<<< HEAD
   "id": "dd5d587d",
||||||| 6a30bf1
   "id": "4aed9457",
=======
   "id": "a8a3b995",
>>>>>>> documentation-devel
||||||| d28b18c
   "id": "a8a3b995",
=======
   "id": "638f6cf7",
>>>>>>> documentation-devel
||||||| 6893f63
<<<<<<< HEAD
   "id": "dd5d587d",
||||||| 6a30bf1
   "id": "4aed9457",
=======
   "id": "a8a3b995",
>>>>>>> documentation-devel
=======
   "id": "a5b04c07",
>>>>>>> c74c98c2450c2a1ba922ed9442f136238d6bc88b
=======
   "id": "d75d494b",
>>>>>>> 035bb2637984ead2784fecff78c0c60cc4181202
=======
   "id": "c39330fe",
>>>>>>> 619c01f26351d57ac14d974b7af136ac5756103f
   "metadata": {},
   "outputs": [],
   "source": [
    "sfe <- addPerCellQCMetrics(sfe, subsets = list(blank = is_blank,\n",
    "                                               negProbe = is_neg,\n",
    "                                               negCodeword = is_neg2,\n",
    "                                               anti = is_anti,\n",
    "                                               any_neg = is_any_neg))"
   ]
  },
  {
   "cell_type": "code",
   "execution_count": null,
<<<<<<< HEAD
<<<<<<< HEAD
<<<<<<< HEAD
<<<<<<< HEAD
<<<<<<< HEAD
<<<<<<< HEAD
<<<<<<< HEAD
   "id": "9b91096f",
||||||| 6a30bf1
   "id": "519c100e",
=======
   "id": "f86f0c18",
>>>>>>> documentation-devel
||||||| d28b18c
   "id": "f86f0c18",
=======
   "id": "cb651ba4",
>>>>>>> documentation-devel
||||||| 6893f63
<<<<<<< HEAD
   "id": "9b91096f",
||||||| 6a30bf1
   "id": "519c100e",
=======
   "id": "f86f0c18",
>>>>>>> documentation-devel
=======
   "id": "3f9774a4",
>>>>>>> c74c98c2450c2a1ba922ed9442f136238d6bc88b
||||||| 6d93b645
   "id": "cb651ba4",
=======
   "id": "b60509d1",
>>>>>>> documentation-devel
||||||| 804edffb
<<<<<<< HEAD
<<<<<<< HEAD
<<<<<<< HEAD
   "id": "9b91096f",
||||||| 6a30bf1
   "id": "519c100e",
=======
   "id": "f86f0c18",
>>>>>>> documentation-devel
||||||| d28b18c
   "id": "f86f0c18",
=======
   "id": "cb651ba4",
>>>>>>> documentation-devel
||||||| 6893f63
<<<<<<< HEAD
   "id": "9b91096f",
||||||| 6a30bf1
   "id": "519c100e",
=======
   "id": "f86f0c18",
>>>>>>> documentation-devel
=======
   "id": "3f9774a4",
>>>>>>> c74c98c2450c2a1ba922ed9442f136238d6bc88b
=======
   "id": "d90a50ee",
>>>>>>> 035bb2637984ead2784fecff78c0c60cc4181202
||||||| 3effdfa5
   "id": "b60509d1",
=======
   "id": "b7223fb7",
>>>>>>> documentation-devel
||||||| 96c826da
<<<<<<< HEAD
<<<<<<< HEAD
<<<<<<< HEAD
<<<<<<< HEAD
<<<<<<< HEAD
   "id": "9b91096f",
||||||| 6a30bf1
   "id": "519c100e",
=======
   "id": "f86f0c18",
>>>>>>> documentation-devel
||||||| d28b18c
   "id": "f86f0c18",
=======
   "id": "cb651ba4",
>>>>>>> documentation-devel
||||||| 6893f63
<<<<<<< HEAD
   "id": "9b91096f",
||||||| 6a30bf1
   "id": "519c100e",
=======
   "id": "f86f0c18",
>>>>>>> documentation-devel
=======
   "id": "3f9774a4",
>>>>>>> c74c98c2450c2a1ba922ed9442f136238d6bc88b
||||||| 6d93b645
   "id": "cb651ba4",
=======
   "id": "b60509d1",
>>>>>>> documentation-devel
||||||| 804edffb
<<<<<<< HEAD
<<<<<<< HEAD
<<<<<<< HEAD
   "id": "9b91096f",
||||||| 6a30bf1
   "id": "519c100e",
=======
   "id": "f86f0c18",
>>>>>>> documentation-devel
||||||| d28b18c
   "id": "f86f0c18",
=======
   "id": "cb651ba4",
>>>>>>> documentation-devel
||||||| 6893f63
<<<<<<< HEAD
   "id": "9b91096f",
||||||| 6a30bf1
   "id": "519c100e",
=======
   "id": "f86f0c18",
>>>>>>> documentation-devel
=======
   "id": "3f9774a4",
>>>>>>> c74c98c2450c2a1ba922ed9442f136238d6bc88b
=======
   "id": "d90a50ee",
>>>>>>> 035bb2637984ead2784fecff78c0c60cc4181202
=======
   "id": "68a8c69e",
>>>>>>> 619c01f26351d57ac14d974b7af136ac5756103f
   "metadata": {},
   "outputs": [],
   "source": [
    "names(colData(sfe))"
   ]
  },
  {
   "cell_type": "markdown",
<<<<<<< HEAD
<<<<<<< HEAD
<<<<<<< HEAD
<<<<<<< HEAD
<<<<<<< HEAD
<<<<<<< HEAD
<<<<<<< HEAD
   "id": "a39be75f",
||||||| 6a30bf1
   "id": "208b847e",
=======
   "id": "0695bd7b",
>>>>>>> documentation-devel
||||||| d28b18c
   "id": "0695bd7b",
=======
   "id": "d4152636",
>>>>>>> documentation-devel
||||||| 6893f63
<<<<<<< HEAD
   "id": "a39be75f",
||||||| 6a30bf1
   "id": "208b847e",
=======
   "id": "0695bd7b",
>>>>>>> documentation-devel
=======
   "id": "5a4e65c2",
>>>>>>> c74c98c2450c2a1ba922ed9442f136238d6bc88b
||||||| 6d93b645
   "id": "d4152636",
=======
   "id": "2760cdb0",
>>>>>>> documentation-devel
||||||| 804edffb
<<<<<<< HEAD
<<<<<<< HEAD
<<<<<<< HEAD
   "id": "a39be75f",
||||||| 6a30bf1
   "id": "208b847e",
=======
   "id": "0695bd7b",
>>>>>>> documentation-devel
||||||| d28b18c
   "id": "0695bd7b",
=======
   "id": "d4152636",
>>>>>>> documentation-devel
||||||| 6893f63
<<<<<<< HEAD
   "id": "a39be75f",
||||||| 6a30bf1
   "id": "208b847e",
=======
   "id": "0695bd7b",
>>>>>>> documentation-devel
=======
   "id": "5a4e65c2",
>>>>>>> c74c98c2450c2a1ba922ed9442f136238d6bc88b
=======
   "id": "d1a876cb",
>>>>>>> 035bb2637984ead2784fecff78c0c60cc4181202
||||||| 3effdfa5
   "id": "2760cdb0",
=======
   "id": "6f512cd4",
>>>>>>> documentation-devel
||||||| 96c826da
<<<<<<< HEAD
<<<<<<< HEAD
<<<<<<< HEAD
<<<<<<< HEAD
<<<<<<< HEAD
   "id": "a39be75f",
||||||| 6a30bf1
   "id": "208b847e",
=======
   "id": "0695bd7b",
>>>>>>> documentation-devel
||||||| d28b18c
   "id": "0695bd7b",
=======
   "id": "d4152636",
>>>>>>> documentation-devel
||||||| 6893f63
<<<<<<< HEAD
   "id": "a39be75f",
||||||| 6a30bf1
   "id": "208b847e",
=======
   "id": "0695bd7b",
>>>>>>> documentation-devel
=======
   "id": "5a4e65c2",
>>>>>>> c74c98c2450c2a1ba922ed9442f136238d6bc88b
||||||| 6d93b645
   "id": "d4152636",
=======
   "id": "2760cdb0",
>>>>>>> documentation-devel
||||||| 804edffb
<<<<<<< HEAD
<<<<<<< HEAD
<<<<<<< HEAD
   "id": "a39be75f",
||||||| 6a30bf1
   "id": "208b847e",
=======
   "id": "0695bd7b",
>>>>>>> documentation-devel
||||||| d28b18c
   "id": "0695bd7b",
=======
   "id": "d4152636",
>>>>>>> documentation-devel
||||||| 6893f63
<<<<<<< HEAD
   "id": "a39be75f",
||||||| 6a30bf1
   "id": "208b847e",
=======
   "id": "0695bd7b",
>>>>>>> documentation-devel
=======
   "id": "5a4e65c2",
>>>>>>> c74c98c2450c2a1ba922ed9442f136238d6bc88b
=======
   "id": "d1a876cb",
>>>>>>> 035bb2637984ead2784fecff78c0c60cc4181202
=======
   "id": "b0a83ad7",
>>>>>>> 619c01f26351d57ac14d974b7af136ac5756103f
   "metadata": {},
   "source": [
    "Next we plot the proportion of transcript counts coming from any negative control. "
   ]
  },
  {
   "cell_type": "code",
   "execution_count": null,
<<<<<<< HEAD
<<<<<<< HEAD
<<<<<<< HEAD
<<<<<<< HEAD
<<<<<<< HEAD
<<<<<<< HEAD
<<<<<<< HEAD
   "id": "ed680a8f",
||||||| 6a30bf1
   "id": "bc216b8b",
=======
   "id": "8fd0e24e",
>>>>>>> documentation-devel
||||||| d28b18c
   "id": "8fd0e24e",
=======
   "id": "caa60f2f",
>>>>>>> documentation-devel
||||||| 6893f63
<<<<<<< HEAD
   "id": "ed680a8f",
||||||| 6a30bf1
   "id": "bc216b8b",
=======
   "id": "8fd0e24e",
>>>>>>> documentation-devel
=======
   "id": "79b0f9ad",
>>>>>>> c74c98c2450c2a1ba922ed9442f136238d6bc88b
||||||| 6d93b645
   "id": "caa60f2f",
=======
   "id": "c420a103",
>>>>>>> documentation-devel
||||||| 804edffb
<<<<<<< HEAD
<<<<<<< HEAD
<<<<<<< HEAD
   "id": "ed680a8f",
||||||| 6a30bf1
   "id": "bc216b8b",
=======
   "id": "8fd0e24e",
>>>>>>> documentation-devel
||||||| d28b18c
   "id": "8fd0e24e",
=======
   "id": "caa60f2f",
>>>>>>> documentation-devel
||||||| 6893f63
<<<<<<< HEAD
   "id": "ed680a8f",
||||||| 6a30bf1
   "id": "bc216b8b",
=======
   "id": "8fd0e24e",
>>>>>>> documentation-devel
=======
   "id": "79b0f9ad",
>>>>>>> c74c98c2450c2a1ba922ed9442f136238d6bc88b
=======
   "id": "5b1c444d",
>>>>>>> 035bb2637984ead2784fecff78c0c60cc4181202
||||||| 3effdfa5
   "id": "c420a103",
=======
   "id": "ea922977",
>>>>>>> documentation-devel
||||||| 96c826da
<<<<<<< HEAD
<<<<<<< HEAD
<<<<<<< HEAD
<<<<<<< HEAD
<<<<<<< HEAD
   "id": "ed680a8f",
||||||| 6a30bf1
   "id": "bc216b8b",
=======
   "id": "8fd0e24e",
>>>>>>> documentation-devel
||||||| d28b18c
   "id": "8fd0e24e",
=======
   "id": "caa60f2f",
>>>>>>> documentation-devel
||||||| 6893f63
<<<<<<< HEAD
   "id": "ed680a8f",
||||||| 6a30bf1
   "id": "bc216b8b",
=======
   "id": "8fd0e24e",
>>>>>>> documentation-devel
=======
   "id": "79b0f9ad",
>>>>>>> c74c98c2450c2a1ba922ed9442f136238d6bc88b
||||||| 6d93b645
   "id": "caa60f2f",
=======
   "id": "c420a103",
>>>>>>> documentation-devel
||||||| 804edffb
<<<<<<< HEAD
<<<<<<< HEAD
<<<<<<< HEAD
   "id": "ed680a8f",
||||||| 6a30bf1
   "id": "bc216b8b",
=======
   "id": "8fd0e24e",
>>>>>>> documentation-devel
||||||| d28b18c
   "id": "8fd0e24e",
=======
   "id": "caa60f2f",
>>>>>>> documentation-devel
||||||| 6893f63
<<<<<<< HEAD
   "id": "ed680a8f",
||||||| 6a30bf1
   "id": "bc216b8b",
=======
   "id": "8fd0e24e",
>>>>>>> documentation-devel
=======
   "id": "79b0f9ad",
>>>>>>> c74c98c2450c2a1ba922ed9442f136238d6bc88b
=======
   "id": "5b1c444d",
>>>>>>> 035bb2637984ead2784fecff78c0c60cc4181202
=======
   "id": "313eda13",
>>>>>>> 619c01f26351d57ac14d974b7af136ac5756103f
   "metadata": {},
   "outputs": [],
   "source": [
    "cols_use <- names(colData(sfe))[str_detect(names(colData(sfe)), \"_percent$\")]\n",
    "plotColDataHistogram(sfe, cols_use, bins = 100, ncol = 3)"
   ]
  },
  {
   "cell_type": "markdown",
<<<<<<< HEAD
<<<<<<< HEAD
<<<<<<< HEAD
<<<<<<< HEAD
<<<<<<< HEAD
<<<<<<< HEAD
<<<<<<< HEAD
   "id": "8750c13f",
||||||| 6a30bf1
   "id": "75b61982",
=======
   "id": "4d63632d",
>>>>>>> documentation-devel
||||||| d28b18c
   "id": "4d63632d",
=======
   "id": "f8dc5db7",
>>>>>>> documentation-devel
||||||| 6893f63
<<<<<<< HEAD
   "id": "8750c13f",
||||||| 6a30bf1
   "id": "75b61982",
=======
   "id": "4d63632d",
>>>>>>> documentation-devel
=======
   "id": "e34238a5",
>>>>>>> c74c98c2450c2a1ba922ed9442f136238d6bc88b
||||||| 6d93b645
   "id": "f8dc5db7",
=======
   "id": "8b169bbd",
>>>>>>> documentation-devel
||||||| 804edffb
<<<<<<< HEAD
<<<<<<< HEAD
<<<<<<< HEAD
   "id": "8750c13f",
||||||| 6a30bf1
   "id": "75b61982",
=======
   "id": "4d63632d",
>>>>>>> documentation-devel
||||||| d28b18c
   "id": "4d63632d",
=======
   "id": "f8dc5db7",
>>>>>>> documentation-devel
||||||| 6893f63
<<<<<<< HEAD
   "id": "8750c13f",
||||||| 6a30bf1
   "id": "75b61982",
=======
   "id": "4d63632d",
>>>>>>> documentation-devel
=======
   "id": "e34238a5",
>>>>>>> c74c98c2450c2a1ba922ed9442f136238d6bc88b
=======
   "id": "64a4cbb0",
>>>>>>> 035bb2637984ead2784fecff78c0c60cc4181202
||||||| 3effdfa5
   "id": "8b169bbd",
=======
   "id": "d14aee8e",
>>>>>>> documentation-devel
||||||| 96c826da
<<<<<<< HEAD
<<<<<<< HEAD
<<<<<<< HEAD
<<<<<<< HEAD
<<<<<<< HEAD
   "id": "8750c13f",
||||||| 6a30bf1
   "id": "75b61982",
=======
   "id": "4d63632d",
>>>>>>> documentation-devel
||||||| d28b18c
   "id": "4d63632d",
=======
   "id": "f8dc5db7",
>>>>>>> documentation-devel
||||||| 6893f63
<<<<<<< HEAD
   "id": "8750c13f",
||||||| 6a30bf1
   "id": "75b61982",
=======
   "id": "4d63632d",
>>>>>>> documentation-devel
=======
   "id": "e34238a5",
>>>>>>> c74c98c2450c2a1ba922ed9442f136238d6bc88b
||||||| 6d93b645
   "id": "f8dc5db7",
=======
   "id": "8b169bbd",
>>>>>>> documentation-devel
||||||| 804edffb
<<<<<<< HEAD
<<<<<<< HEAD
<<<<<<< HEAD
   "id": "8750c13f",
||||||| 6a30bf1
   "id": "75b61982",
=======
   "id": "4d63632d",
>>>>>>> documentation-devel
||||||| d28b18c
   "id": "4d63632d",
=======
   "id": "f8dc5db7",
>>>>>>> documentation-devel
||||||| 6893f63
<<<<<<< HEAD
   "id": "8750c13f",
||||||| 6a30bf1
   "id": "75b61982",
=======
   "id": "4d63632d",
>>>>>>> documentation-devel
=======
   "id": "e34238a5",
>>>>>>> c74c98c2450c2a1ba922ed9442f136238d6bc88b
=======
   "id": "64a4cbb0",
>>>>>>> 035bb2637984ead2784fecff78c0c60cc4181202
=======
   "id": "a9c31640",
>>>>>>> 619c01f26351d57ac14d974b7af136ac5756103f
   "metadata": {
    "lines_to_next_cell": 0
   },
   "source": [
    "The histogram is dominated by the bin at zero and there are some extreme outliers too few to be seen but evident from the scale of the x axis. We also plot the histogram only for cells with at least 1 count from a negative control. The NA's come from cells that got segmented but have no transcripts detected."
   ]
  },
  {
   "cell_type": "code",
   "execution_count": null,
<<<<<<< HEAD
<<<<<<< HEAD
<<<<<<< HEAD
<<<<<<< HEAD
<<<<<<< HEAD
<<<<<<< HEAD
<<<<<<< HEAD
   "id": "759276ba",
||||||| 6a30bf1
   "id": "bfdc7d09",
=======
   "id": "8bec8122",
>>>>>>> documentation-devel
||||||| d28b18c
   "id": "8bec8122",
=======
   "id": "b807743d",
>>>>>>> documentation-devel
||||||| 6893f63
<<<<<<< HEAD
   "id": "759276ba",
||||||| 6a30bf1
   "id": "bfdc7d09",
=======
   "id": "8bec8122",
>>>>>>> documentation-devel
=======
   "id": "8afbab9f",
>>>>>>> c74c98c2450c2a1ba922ed9442f136238d6bc88b
||||||| 6d93b645
   "id": "b807743d",
=======
   "id": "ab73703e",
>>>>>>> documentation-devel
||||||| 804edffb
<<<<<<< HEAD
<<<<<<< HEAD
<<<<<<< HEAD
   "id": "759276ba",
||||||| 6a30bf1
   "id": "bfdc7d09",
=======
   "id": "8bec8122",
>>>>>>> documentation-devel
||||||| d28b18c
   "id": "8bec8122",
=======
   "id": "b807743d",
>>>>>>> documentation-devel
||||||| 6893f63
<<<<<<< HEAD
   "id": "759276ba",
||||||| 6a30bf1
   "id": "bfdc7d09",
=======
   "id": "8bec8122",
>>>>>>> documentation-devel
=======
   "id": "8afbab9f",
>>>>>>> c74c98c2450c2a1ba922ed9442f136238d6bc88b
=======
   "id": "f8ab62d7",
>>>>>>> 035bb2637984ead2784fecff78c0c60cc4181202
||||||| 3effdfa5
   "id": "ab73703e",
=======
   "id": "1768f8e1",
>>>>>>> documentation-devel
||||||| 96c826da
<<<<<<< HEAD
<<<<<<< HEAD
<<<<<<< HEAD
<<<<<<< HEAD
<<<<<<< HEAD
   "id": "759276ba",
||||||| 6a30bf1
   "id": "bfdc7d09",
=======
   "id": "8bec8122",
>>>>>>> documentation-devel
||||||| d28b18c
   "id": "8bec8122",
=======
   "id": "b807743d",
>>>>>>> documentation-devel
||||||| 6893f63
<<<<<<< HEAD
   "id": "759276ba",
||||||| 6a30bf1
   "id": "bfdc7d09",
=======
   "id": "8bec8122",
>>>>>>> documentation-devel
=======
   "id": "8afbab9f",
>>>>>>> c74c98c2450c2a1ba922ed9442f136238d6bc88b
||||||| 6d93b645
   "id": "b807743d",
=======
   "id": "ab73703e",
>>>>>>> documentation-devel
||||||| 804edffb
<<<<<<< HEAD
<<<<<<< HEAD
<<<<<<< HEAD
   "id": "759276ba",
||||||| 6a30bf1
   "id": "bfdc7d09",
=======
   "id": "8bec8122",
>>>>>>> documentation-devel
||||||| d28b18c
   "id": "8bec8122",
=======
   "id": "b807743d",
>>>>>>> documentation-devel
||||||| 6893f63
<<<<<<< HEAD
   "id": "759276ba",
||||||| 6a30bf1
   "id": "bfdc7d09",
=======
   "id": "8bec8122",
>>>>>>> documentation-devel
=======
   "id": "8afbab9f",
>>>>>>> c74c98c2450c2a1ba922ed9442f136238d6bc88b
=======
   "id": "f8ab62d7",
>>>>>>> 035bb2637984ead2784fecff78c0c60cc4181202
=======
   "id": "392f58dd",
>>>>>>> 619c01f26351d57ac14d974b7af136ac5756103f
   "metadata": {},
   "outputs": [],
   "source": [
    "plotColDataHistogram(sfe, cols_use, bins = 100, ncol = 3) + \n",
    "    scale_x_log10() +\n",
    "    annotation_logticks(sides = \"b\")"
   ]
  },
  {
   "cell_type": "markdown",
<<<<<<< HEAD
<<<<<<< HEAD
<<<<<<< HEAD
<<<<<<< HEAD
<<<<<<< HEAD
<<<<<<< HEAD
<<<<<<< HEAD
   "id": "6eb8eead",
||||||| 6a30bf1
   "id": "4fe3a7d3",
=======
   "id": "ffe91d8a",
>>>>>>> documentation-devel
||||||| d28b18c
   "id": "ffe91d8a",
=======
   "id": "e8f34a62",
>>>>>>> documentation-devel
||||||| 6893f63
<<<<<<< HEAD
   "id": "6eb8eead",
||||||| 6a30bf1
   "id": "4fe3a7d3",
=======
   "id": "ffe91d8a",
>>>>>>> documentation-devel
=======
   "id": "2f7e672a",
>>>>>>> c74c98c2450c2a1ba922ed9442f136238d6bc88b
||||||| 6d93b645
   "id": "e8f34a62",
=======
   "id": "a6aebf39",
>>>>>>> documentation-devel
||||||| 804edffb
<<<<<<< HEAD
<<<<<<< HEAD
<<<<<<< HEAD
   "id": "6eb8eead",
||||||| 6a30bf1
   "id": "4fe3a7d3",
=======
   "id": "ffe91d8a",
>>>>>>> documentation-devel
||||||| d28b18c
   "id": "ffe91d8a",
=======
   "id": "e8f34a62",
>>>>>>> documentation-devel
||||||| 6893f63
<<<<<<< HEAD
   "id": "6eb8eead",
||||||| 6a30bf1
   "id": "4fe3a7d3",
=======
   "id": "ffe91d8a",
>>>>>>> documentation-devel
=======
   "id": "2f7e672a",
>>>>>>> c74c98c2450c2a1ba922ed9442f136238d6bc88b
=======
   "id": "b884156e",
>>>>>>> 035bb2637984ead2784fecff78c0c60cc4181202
||||||| 3effdfa5
   "id": "a6aebf39",
=======
   "id": "40b0fe1e",
>>>>>>> documentation-devel
||||||| 96c826da
<<<<<<< HEAD
<<<<<<< HEAD
<<<<<<< HEAD
<<<<<<< HEAD
<<<<<<< HEAD
   "id": "6eb8eead",
||||||| 6a30bf1
   "id": "4fe3a7d3",
=======
   "id": "ffe91d8a",
>>>>>>> documentation-devel
||||||| d28b18c
   "id": "ffe91d8a",
=======
   "id": "e8f34a62",
>>>>>>> documentation-devel
||||||| 6893f63
<<<<<<< HEAD
   "id": "6eb8eead",
||||||| 6a30bf1
   "id": "4fe3a7d3",
=======
   "id": "ffe91d8a",
>>>>>>> documentation-devel
=======
   "id": "2f7e672a",
>>>>>>> c74c98c2450c2a1ba922ed9442f136238d6bc88b
||||||| 6d93b645
   "id": "e8f34a62",
=======
   "id": "a6aebf39",
>>>>>>> documentation-devel
||||||| 804edffb
<<<<<<< HEAD
<<<<<<< HEAD
<<<<<<< HEAD
   "id": "6eb8eead",
||||||| 6a30bf1
   "id": "4fe3a7d3",
=======
   "id": "ffe91d8a",
>>>>>>> documentation-devel
||||||| d28b18c
   "id": "ffe91d8a",
=======
   "id": "e8f34a62",
>>>>>>> documentation-devel
||||||| 6893f63
<<<<<<< HEAD
   "id": "6eb8eead",
||||||| 6a30bf1
   "id": "4fe3a7d3",
=======
   "id": "ffe91d8a",
>>>>>>> documentation-devel
=======
   "id": "2f7e672a",
>>>>>>> c74c98c2450c2a1ba922ed9442f136238d6bc88b
=======
   "id": "b884156e",
>>>>>>> 035bb2637984ead2784fecff78c0c60cc4181202
=======
   "id": "6d0db8cf",
>>>>>>> 619c01f26351d57ac14d974b7af136ac5756103f
   "metadata": {
    "lines_to_next_cell": 0
   },
   "source": [
    "The vast majority of these cells have less than 1% of transcript counts from negative controls, but there are outliers with up to 50%. \n",
    "\n",
    "Next we plot the distribution of the number of negative control counts per cell:"
   ]
  },
  {
   "cell_type": "code",
   "execution_count": null,
<<<<<<< HEAD
<<<<<<< HEAD
<<<<<<< HEAD
<<<<<<< HEAD
<<<<<<< HEAD
<<<<<<< HEAD
<<<<<<< HEAD
   "id": "822d798f",
||||||| 6a30bf1
   "id": "50793cd9",
=======
   "id": "a6df67ef",
>>>>>>> documentation-devel
||||||| d28b18c
   "id": "a6df67ef",
=======
   "id": "96d01e73",
>>>>>>> documentation-devel
||||||| 6893f63
<<<<<<< HEAD
   "id": "822d798f",
||||||| 6a30bf1
   "id": "50793cd9",
=======
   "id": "a6df67ef",
>>>>>>> documentation-devel
=======
   "id": "c809f13e",
>>>>>>> c74c98c2450c2a1ba922ed9442f136238d6bc88b
||||||| 6d93b645
   "id": "96d01e73",
=======
   "id": "ae32e3bc",
>>>>>>> documentation-devel
||||||| 804edffb
<<<<<<< HEAD
<<<<<<< HEAD
<<<<<<< HEAD
   "id": "822d798f",
||||||| 6a30bf1
   "id": "50793cd9",
=======
   "id": "a6df67ef",
>>>>>>> documentation-devel
||||||| d28b18c
   "id": "a6df67ef",
=======
   "id": "96d01e73",
>>>>>>> documentation-devel
||||||| 6893f63
<<<<<<< HEAD
   "id": "822d798f",
||||||| 6a30bf1
   "id": "50793cd9",
=======
   "id": "a6df67ef",
>>>>>>> documentation-devel
=======
   "id": "c809f13e",
>>>>>>> c74c98c2450c2a1ba922ed9442f136238d6bc88b
=======
   "id": "f129086d",
>>>>>>> 035bb2637984ead2784fecff78c0c60cc4181202
||||||| 3effdfa5
   "id": "ae32e3bc",
=======
   "id": "91132370",
>>>>>>> documentation-devel
||||||| 96c826da
<<<<<<< HEAD
<<<<<<< HEAD
<<<<<<< HEAD
<<<<<<< HEAD
<<<<<<< HEAD
   "id": "822d798f",
||||||| 6a30bf1
   "id": "50793cd9",
=======
   "id": "a6df67ef",
>>>>>>> documentation-devel
||||||| d28b18c
   "id": "a6df67ef",
=======
   "id": "96d01e73",
>>>>>>> documentation-devel
||||||| 6893f63
<<<<<<< HEAD
   "id": "822d798f",
||||||| 6a30bf1
   "id": "50793cd9",
=======
   "id": "a6df67ef",
>>>>>>> documentation-devel
=======
   "id": "c809f13e",
>>>>>>> c74c98c2450c2a1ba922ed9442f136238d6bc88b
||||||| 6d93b645
   "id": "96d01e73",
=======
   "id": "ae32e3bc",
>>>>>>> documentation-devel
||||||| 804edffb
<<<<<<< HEAD
<<<<<<< HEAD
<<<<<<< HEAD
   "id": "822d798f",
||||||| 6a30bf1
   "id": "50793cd9",
=======
   "id": "a6df67ef",
>>>>>>> documentation-devel
||||||| d28b18c
   "id": "a6df67ef",
=======
   "id": "96d01e73",
>>>>>>> documentation-devel
||||||| 6893f63
<<<<<<< HEAD
   "id": "822d798f",
||||||| 6a30bf1
   "id": "50793cd9",
=======
   "id": "a6df67ef",
>>>>>>> documentation-devel
=======
   "id": "c809f13e",
>>>>>>> c74c98c2450c2a1ba922ed9442f136238d6bc88b
=======
   "id": "f129086d",
>>>>>>> 035bb2637984ead2784fecff78c0c60cc4181202
=======
   "id": "3bb4da19",
>>>>>>> 619c01f26351d57ac14d974b7af136ac5756103f
   "metadata": {},
   "outputs": [],
   "source": [
    "cols_use2 <- names(colData(sfe))[str_detect(names(colData(sfe)), \"_detected$\")]\n",
    "plotColDataHistogram(sfe, cols_use2, bins = 20, ncol = 3) +\n",
    "    # Avoid decimal breaks on x axis unless there're too few breaks\n",
    "    scale_x_continuous(breaks = scales::breaks_extended(Q = c(1,2,5)))"
   ]
  },
  {
   "cell_type": "markdown",
<<<<<<< HEAD
<<<<<<< HEAD
<<<<<<< HEAD
<<<<<<< HEAD
<<<<<<< HEAD
<<<<<<< HEAD
<<<<<<< HEAD
   "id": "8a3b96a2",
||||||| 6a30bf1
   "id": "06763c55",
=======
   "id": "5d2c78c5",
>>>>>>> documentation-devel
||||||| d28b18c
   "id": "5d2c78c5",
=======
   "id": "0b9c7907",
>>>>>>> documentation-devel
||||||| 6893f63
<<<<<<< HEAD
   "id": "8a3b96a2",
||||||| 6a30bf1
   "id": "06763c55",
=======
   "id": "5d2c78c5",
>>>>>>> documentation-devel
=======
   "id": "f4694845",
>>>>>>> c74c98c2450c2a1ba922ed9442f136238d6bc88b
||||||| 6d93b645
   "id": "0b9c7907",
=======
   "id": "d2c07471",
>>>>>>> documentation-devel
||||||| 804edffb
<<<<<<< HEAD
<<<<<<< HEAD
<<<<<<< HEAD
   "id": "8a3b96a2",
||||||| 6a30bf1
   "id": "06763c55",
=======
   "id": "5d2c78c5",
>>>>>>> documentation-devel
||||||| d28b18c
   "id": "5d2c78c5",
=======
   "id": "0b9c7907",
>>>>>>> documentation-devel
||||||| 6893f63
<<<<<<< HEAD
   "id": "8a3b96a2",
||||||| 6a30bf1
   "id": "06763c55",
=======
   "id": "5d2c78c5",
>>>>>>> documentation-devel
=======
   "id": "f4694845",
>>>>>>> c74c98c2450c2a1ba922ed9442f136238d6bc88b
=======
   "id": "bba0196c",
>>>>>>> 035bb2637984ead2784fecff78c0c60cc4181202
||||||| 3effdfa5
   "id": "d2c07471",
=======
   "id": "43e1f828",
>>>>>>> documentation-devel
||||||| 96c826da
<<<<<<< HEAD
<<<<<<< HEAD
<<<<<<< HEAD
<<<<<<< HEAD
<<<<<<< HEAD
   "id": "8a3b96a2",
||||||| 6a30bf1
   "id": "06763c55",
=======
   "id": "5d2c78c5",
>>>>>>> documentation-devel
||||||| d28b18c
   "id": "5d2c78c5",
=======
   "id": "0b9c7907",
>>>>>>> documentation-devel
||||||| 6893f63
<<<<<<< HEAD
   "id": "8a3b96a2",
||||||| 6a30bf1
   "id": "06763c55",
=======
   "id": "5d2c78c5",
>>>>>>> documentation-devel
=======
   "id": "f4694845",
>>>>>>> c74c98c2450c2a1ba922ed9442f136238d6bc88b
||||||| 6d93b645
   "id": "0b9c7907",
=======
   "id": "d2c07471",
>>>>>>> documentation-devel
||||||| 804edffb
<<<<<<< HEAD
<<<<<<< HEAD
<<<<<<< HEAD
   "id": "8a3b96a2",
||||||| 6a30bf1
   "id": "06763c55",
=======
   "id": "5d2c78c5",
>>>>>>> documentation-devel
||||||| d28b18c
   "id": "5d2c78c5",
=======
   "id": "0b9c7907",
>>>>>>> documentation-devel
||||||| 6893f63
<<<<<<< HEAD
   "id": "8a3b96a2",
||||||| 6a30bf1
   "id": "06763c55",
=======
   "id": "5d2c78c5",
>>>>>>> documentation-devel
=======
   "id": "f4694845",
>>>>>>> c74c98c2450c2a1ba922ed9442f136238d6bc88b
=======
   "id": "bba0196c",
>>>>>>> 035bb2637984ead2784fecff78c0c60cc4181202
=======
   "id": "5f053a16",
>>>>>>> 619c01f26351d57ac14d974b7af136ac5756103f
   "metadata": {},
   "source": [
    "The counts are low, mostly zero, but there are outliers with up to 10 counts of all types aggregated. Then the outlier with 50% of counts from negative controls must have very low total real transcript counts to begin with.\n",
    "\n",
    "The `scuttle` package can detect outliers, but by default it assigns anything above zero as an outlier, since that is over 3 median absolute deviations (MADs) away from the median, which is 0, and the MAD is 0 since the vast majority of cells don't have any negative control count. But it makes sense to allow a small proportion of negative controls. Here we use the distribution just for cells with at least 1 negative control count to find outliers. This distribution has a very long tail and some definite outliers.\n",
    "\n",
    "The code below extracts the outliers, based only on cells with at least one negative control count"
   ]
  },
  {
   "cell_type": "code",
   "execution_count": null,
<<<<<<< HEAD
<<<<<<< HEAD
<<<<<<< HEAD
<<<<<<< HEAD
<<<<<<< HEAD
<<<<<<< HEAD
<<<<<<< HEAD
   "id": "53e6e7e8",
||||||| 6a30bf1
   "id": "94b79013",
=======
   "id": "fca77d4e",
>>>>>>> documentation-devel
||||||| d28b18c
   "id": "fca77d4e",
=======
   "id": "5f297c21",
>>>>>>> documentation-devel
||||||| 6893f63
<<<<<<< HEAD
   "id": "53e6e7e8",
||||||| 6a30bf1
   "id": "94b79013",
=======
   "id": "fca77d4e",
>>>>>>> documentation-devel
=======
   "id": "a5c55497",
>>>>>>> c74c98c2450c2a1ba922ed9442f136238d6bc88b
||||||| 6d93b645
   "id": "5f297c21",
=======
   "id": "bf6c738c",
>>>>>>> documentation-devel
||||||| 804edffb
<<<<<<< HEAD
<<<<<<< HEAD
<<<<<<< HEAD
   "id": "53e6e7e8",
||||||| 6a30bf1
   "id": "94b79013",
=======
   "id": "fca77d4e",
>>>>>>> documentation-devel
||||||| d28b18c
   "id": "fca77d4e",
=======
   "id": "5f297c21",
>>>>>>> documentation-devel
||||||| 6893f63
<<<<<<< HEAD
   "id": "53e6e7e8",
||||||| 6a30bf1
   "id": "94b79013",
=======
   "id": "fca77d4e",
>>>>>>> documentation-devel
=======
   "id": "a5c55497",
>>>>>>> c74c98c2450c2a1ba922ed9442f136238d6bc88b
=======
   "id": "2baf9352",
>>>>>>> 035bb2637984ead2784fecff78c0c60cc4181202
||||||| 3effdfa5
   "id": "bf6c738c",
=======
   "id": "0c46e73e",
>>>>>>> documentation-devel
||||||| 96c826da
<<<<<<< HEAD
<<<<<<< HEAD
<<<<<<< HEAD
<<<<<<< HEAD
<<<<<<< HEAD
   "id": "53e6e7e8",
||||||| 6a30bf1
   "id": "94b79013",
=======
   "id": "fca77d4e",
>>>>>>> documentation-devel
||||||| d28b18c
   "id": "fca77d4e",
=======
   "id": "5f297c21",
>>>>>>> documentation-devel
||||||| 6893f63
<<<<<<< HEAD
   "id": "53e6e7e8",
||||||| 6a30bf1
   "id": "94b79013",
=======
   "id": "fca77d4e",
>>>>>>> documentation-devel
=======
   "id": "a5c55497",
>>>>>>> c74c98c2450c2a1ba922ed9442f136238d6bc88b
||||||| 6d93b645
   "id": "5f297c21",
=======
   "id": "bf6c738c",
>>>>>>> documentation-devel
||||||| 804edffb
<<<<<<< HEAD
<<<<<<< HEAD
<<<<<<< HEAD
   "id": "53e6e7e8",
||||||| 6a30bf1
   "id": "94b79013",
=======
   "id": "fca77d4e",
>>>>>>> documentation-devel
||||||| d28b18c
   "id": "fca77d4e",
=======
   "id": "5f297c21",
>>>>>>> documentation-devel
||||||| 6893f63
<<<<<<< HEAD
   "id": "53e6e7e8",
||||||| 6a30bf1
   "id": "94b79013",
=======
   "id": "fca77d4e",
>>>>>>> documentation-devel
=======
   "id": "a5c55497",
>>>>>>> c74c98c2450c2a1ba922ed9442f136238d6bc88b
=======
   "id": "2baf9352",
>>>>>>> 035bb2637984ead2784fecff78c0c60cc4181202
=======
   "id": "59f69ef1",
>>>>>>> 619c01f26351d57ac14d974b7af136ac5756103f
   "metadata": {},
   "outputs": [],
   "source": [
    "get_neg_ctrl_outliers <- function(col, sfe) {\n",
    "    inds <- colData(sfe)$nCounts > 0 & colData(sfe)[[col]] > 0\n",
    "    df <- colData(sfe)[inds,]\n",
    "    outlier_inds <- isOutlier(df[[col]], type = \"higher\")\n",
    "    outliers <- rownames(df)[outlier_inds]\n",
    "    col2 <- str_remove(col, \"^subsets_\")\n",
    "    col2 <- str_remove(col2, \"_percent$\")\n",
    "    new_colname <- paste(\"is\", col2, \"outlier\", sep = \"_\")\n",
    "    colData(sfe)[[new_colname]] <- colnames(sfe) %in% outliers\n",
    "    sfe\n",
    "}"
   ]
  },
  {
   "cell_type": "code",
   "execution_count": null,
<<<<<<< HEAD
<<<<<<< HEAD
<<<<<<< HEAD
<<<<<<< HEAD
<<<<<<< HEAD
<<<<<<< HEAD
<<<<<<< HEAD
   "id": "6a0badf0",
||||||| 6a30bf1
   "id": "3e866b95",
=======
   "id": "8adc13fa",
>>>>>>> documentation-devel
||||||| d28b18c
   "id": "8adc13fa",
=======
   "id": "71b534f4",
>>>>>>> documentation-devel
||||||| 6893f63
<<<<<<< HEAD
   "id": "6a0badf0",
||||||| 6a30bf1
   "id": "3e866b95",
=======
   "id": "8adc13fa",
>>>>>>> documentation-devel
=======
   "id": "b6176d8b",
>>>>>>> c74c98c2450c2a1ba922ed9442f136238d6bc88b
||||||| 6d93b645
   "id": "71b534f4",
=======
   "id": "2930abd7",
>>>>>>> documentation-devel
||||||| 804edffb
<<<<<<< HEAD
<<<<<<< HEAD
<<<<<<< HEAD
   "id": "6a0badf0",
||||||| 6a30bf1
   "id": "3e866b95",
=======
   "id": "8adc13fa",
>>>>>>> documentation-devel
||||||| d28b18c
   "id": "8adc13fa",
=======
   "id": "71b534f4",
>>>>>>> documentation-devel
||||||| 6893f63
<<<<<<< HEAD
   "id": "6a0badf0",
||||||| 6a30bf1
   "id": "3e866b95",
=======
   "id": "8adc13fa",
>>>>>>> documentation-devel
=======
   "id": "b6176d8b",
>>>>>>> c74c98c2450c2a1ba922ed9442f136238d6bc88b
=======
   "id": "a17161cf",
>>>>>>> 035bb2637984ead2784fecff78c0c60cc4181202
||||||| 3effdfa5
   "id": "2930abd7",
=======
   "id": "482e5cc8",
>>>>>>> documentation-devel
||||||| 96c826da
<<<<<<< HEAD
<<<<<<< HEAD
<<<<<<< HEAD
<<<<<<< HEAD
<<<<<<< HEAD
   "id": "6a0badf0",
||||||| 6a30bf1
   "id": "3e866b95",
=======
   "id": "8adc13fa",
>>>>>>> documentation-devel
||||||| d28b18c
   "id": "8adc13fa",
=======
   "id": "71b534f4",
>>>>>>> documentation-devel
||||||| 6893f63
<<<<<<< HEAD
   "id": "6a0badf0",
||||||| 6a30bf1
   "id": "3e866b95",
=======
   "id": "8adc13fa",
>>>>>>> documentation-devel
=======
   "id": "b6176d8b",
>>>>>>> c74c98c2450c2a1ba922ed9442f136238d6bc88b
||||||| 6d93b645
   "id": "71b534f4",
=======
   "id": "2930abd7",
>>>>>>> documentation-devel
||||||| 804edffb
<<<<<<< HEAD
<<<<<<< HEAD
<<<<<<< HEAD
   "id": "6a0badf0",
||||||| 6a30bf1
   "id": "3e866b95",
=======
   "id": "8adc13fa",
>>>>>>> documentation-devel
||||||| d28b18c
   "id": "8adc13fa",
=======
   "id": "71b534f4",
>>>>>>> documentation-devel
||||||| 6893f63
<<<<<<< HEAD
   "id": "6a0badf0",
||||||| 6a30bf1
   "id": "3e866b95",
=======
   "id": "8adc13fa",
>>>>>>> documentation-devel
=======
   "id": "b6176d8b",
>>>>>>> c74c98c2450c2a1ba922ed9442f136238d6bc88b
=======
   "id": "a17161cf",
>>>>>>> 035bb2637984ead2784fecff78c0c60cc4181202
=======
   "id": "87219a03",
>>>>>>> 619c01f26351d57ac14d974b7af136ac5756103f
   "metadata": {},
   "outputs": [],
   "source": [
    "cols_use <- names(colData(sfe))[str_detect(names(colData(sfe)), \"_percent$\")]\n",
    "for (n in cols_use) {\n",
    "    sfe <- get_neg_ctrl_outliers(n, sfe)\n",
    "}"
   ]
  },
  {
   "cell_type": "code",
   "execution_count": null,
<<<<<<< HEAD
<<<<<<< HEAD
<<<<<<< HEAD
<<<<<<< HEAD
<<<<<<< HEAD
<<<<<<< HEAD
<<<<<<< HEAD
   "id": "daba15a7",
||||||| 6a30bf1
   "id": "b563e4ec",
=======
   "id": "60e2b230",
>>>>>>> documentation-devel
||||||| d28b18c
   "id": "60e2b230",
=======
   "id": "8743042b",
>>>>>>> documentation-devel
||||||| 6893f63
<<<<<<< HEAD
   "id": "daba15a7",
||||||| 6a30bf1
   "id": "b563e4ec",
=======
   "id": "60e2b230",
>>>>>>> documentation-devel
=======
   "id": "8da3bee5",
>>>>>>> c74c98c2450c2a1ba922ed9442f136238d6bc88b
||||||| 6d93b645
   "id": "8743042b",
=======
   "id": "b8f934d2",
>>>>>>> documentation-devel
||||||| 804edffb
<<<<<<< HEAD
<<<<<<< HEAD
<<<<<<< HEAD
   "id": "daba15a7",
||||||| 6a30bf1
   "id": "b563e4ec",
=======
   "id": "60e2b230",
>>>>>>> documentation-devel
||||||| d28b18c
   "id": "60e2b230",
=======
   "id": "8743042b",
>>>>>>> documentation-devel
||||||| 6893f63
<<<<<<< HEAD
   "id": "daba15a7",
||||||| 6a30bf1
   "id": "b563e4ec",
=======
   "id": "60e2b230",
>>>>>>> documentation-devel
=======
   "id": "8da3bee5",
>>>>>>> c74c98c2450c2a1ba922ed9442f136238d6bc88b
=======
   "id": "6e94f528",
>>>>>>> 035bb2637984ead2784fecff78c0c60cc4181202
||||||| 3effdfa5
   "id": "b8f934d2",
=======
   "id": "e92f2032",
>>>>>>> documentation-devel
||||||| 96c826da
<<<<<<< HEAD
<<<<<<< HEAD
<<<<<<< HEAD
<<<<<<< HEAD
<<<<<<< HEAD
   "id": "daba15a7",
||||||| 6a30bf1
   "id": "b563e4ec",
=======
   "id": "60e2b230",
>>>>>>> documentation-devel
||||||| d28b18c
   "id": "60e2b230",
=======
   "id": "8743042b",
>>>>>>> documentation-devel
||||||| 6893f63
<<<<<<< HEAD
   "id": "daba15a7",
||||||| 6a30bf1
   "id": "b563e4ec",
=======
   "id": "60e2b230",
>>>>>>> documentation-devel
=======
   "id": "8da3bee5",
>>>>>>> c74c98c2450c2a1ba922ed9442f136238d6bc88b
||||||| 6d93b645
   "id": "8743042b",
=======
   "id": "b8f934d2",
>>>>>>> documentation-devel
||||||| 804edffb
<<<<<<< HEAD
<<<<<<< HEAD
<<<<<<< HEAD
   "id": "daba15a7",
||||||| 6a30bf1
   "id": "b563e4ec",
=======
   "id": "60e2b230",
>>>>>>> documentation-devel
||||||| d28b18c
   "id": "60e2b230",
=======
   "id": "8743042b",
>>>>>>> documentation-devel
||||||| 6893f63
<<<<<<< HEAD
   "id": "daba15a7",
||||||| 6a30bf1
   "id": "b563e4ec",
=======
   "id": "60e2b230",
>>>>>>> documentation-devel
=======
   "id": "8da3bee5",
>>>>>>> c74c98c2450c2a1ba922ed9442f136238d6bc88b
=======
   "id": "6e94f528",
>>>>>>> 035bb2637984ead2784fecff78c0c60cc4181202
=======
   "id": "e87f5ff9",
>>>>>>> 619c01f26351d57ac14d974b7af136ac5756103f
   "metadata": {},
   "outputs": [],
   "source": [
    "names(colData(sfe))"
   ]
  },
  {
   "cell_type": "markdown",
<<<<<<< HEAD
<<<<<<< HEAD
<<<<<<< HEAD
<<<<<<< HEAD
<<<<<<< HEAD
<<<<<<< HEAD
<<<<<<< HEAD
   "id": "0649d2f3",
||||||| 6a30bf1
   "id": "fcc0bdb8",
=======
   "id": "4ef04c0e",
>>>>>>> documentation-devel
||||||| d28b18c
   "id": "4ef04c0e",
=======
   "id": "2874584b",
>>>>>>> documentation-devel
||||||| 6893f63
<<<<<<< HEAD
   "id": "0649d2f3",
||||||| 6a30bf1
   "id": "fcc0bdb8",
=======
   "id": "4ef04c0e",
>>>>>>> documentation-devel
=======
   "id": "daa6d650",
>>>>>>> c74c98c2450c2a1ba922ed9442f136238d6bc88b
||||||| 6d93b645
   "id": "2874584b",
=======
   "id": "06fdd4b0",
>>>>>>> documentation-devel
||||||| 804edffb
<<<<<<< HEAD
<<<<<<< HEAD
<<<<<<< HEAD
   "id": "0649d2f3",
||||||| 6a30bf1
   "id": "fcc0bdb8",
=======
   "id": "4ef04c0e",
>>>>>>> documentation-devel
||||||| d28b18c
   "id": "4ef04c0e",
=======
   "id": "2874584b",
>>>>>>> documentation-devel
||||||| 6893f63
<<<<<<< HEAD
   "id": "0649d2f3",
||||||| 6a30bf1
   "id": "fcc0bdb8",
=======
   "id": "4ef04c0e",
>>>>>>> documentation-devel
=======
   "id": "daa6d650",
>>>>>>> c74c98c2450c2a1ba922ed9442f136238d6bc88b
=======
   "id": "34210563",
>>>>>>> 035bb2637984ead2784fecff78c0c60cc4181202
||||||| 3effdfa5
   "id": "06fdd4b0",
=======
   "id": "b4113636",
>>>>>>> documentation-devel
||||||| 96c826da
<<<<<<< HEAD
<<<<<<< HEAD
<<<<<<< HEAD
<<<<<<< HEAD
<<<<<<< HEAD
   "id": "0649d2f3",
||||||| 6a30bf1
   "id": "fcc0bdb8",
=======
   "id": "4ef04c0e",
>>>>>>> documentation-devel
||||||| d28b18c
   "id": "4ef04c0e",
=======
   "id": "2874584b",
>>>>>>> documentation-devel
||||||| 6893f63
<<<<<<< HEAD
   "id": "0649d2f3",
||||||| 6a30bf1
   "id": "fcc0bdb8",
=======
   "id": "4ef04c0e",
>>>>>>> documentation-devel
=======
   "id": "daa6d650",
>>>>>>> c74c98c2450c2a1ba922ed9442f136238d6bc88b
||||||| 6d93b645
   "id": "2874584b",
=======
   "id": "06fdd4b0",
>>>>>>> documentation-devel
||||||| 804edffb
<<<<<<< HEAD
<<<<<<< HEAD
<<<<<<< HEAD
   "id": "0649d2f3",
||||||| 6a30bf1
   "id": "fcc0bdb8",
=======
   "id": "4ef04c0e",
>>>>>>> documentation-devel
||||||| d28b18c
   "id": "4ef04c0e",
=======
   "id": "2874584b",
>>>>>>> documentation-devel
||||||| 6893f63
<<<<<<< HEAD
   "id": "0649d2f3",
||||||| 6a30bf1
   "id": "fcc0bdb8",
=======
   "id": "4ef04c0e",
>>>>>>> documentation-devel
=======
   "id": "daa6d650",
>>>>>>> c74c98c2450c2a1ba922ed9442f136238d6bc88b
=======
   "id": "34210563",
>>>>>>> 035bb2637984ead2784fecff78c0c60cc4181202
=======
   "id": "2845103d",
>>>>>>> 619c01f26351d57ac14d974b7af136ac5756103f
   "metadata": {
    "lines_to_next_cell": 0
   },
   "source": [
    "Below we examine where the outliers are located in space:"
   ]
  },
  {
   "cell_type": "code",
   "execution_count": null,
<<<<<<< HEAD
<<<<<<< HEAD
<<<<<<< HEAD
<<<<<<< HEAD
<<<<<<< HEAD
<<<<<<< HEAD
<<<<<<< HEAD
   "id": "135706c5",
||||||| 6a30bf1
   "id": "404f6b25",
=======
   "id": "a568ea74",
>>>>>>> documentation-devel
||||||| d28b18c
   "id": "a568ea74",
=======
   "id": "4606c115",
>>>>>>> documentation-devel
||||||| 6893f63
<<<<<<< HEAD
   "id": "135706c5",
||||||| 6a30bf1
   "id": "404f6b25",
=======
   "id": "a568ea74",
>>>>>>> documentation-devel
=======
   "id": "3070b5d4",
>>>>>>> c74c98c2450c2a1ba922ed9442f136238d6bc88b
||||||| 6d93b645
   "id": "4606c115",
=======
   "id": "15cd0b7e",
>>>>>>> documentation-devel
||||||| 804edffb
<<<<<<< HEAD
<<<<<<< HEAD
<<<<<<< HEAD
   "id": "135706c5",
||||||| 6a30bf1
   "id": "404f6b25",
=======
   "id": "a568ea74",
>>>>>>> documentation-devel
||||||| d28b18c
   "id": "a568ea74",
=======
   "id": "4606c115",
>>>>>>> documentation-devel
||||||| 6893f63
<<<<<<< HEAD
   "id": "135706c5",
||||||| 6a30bf1
   "id": "404f6b25",
=======
   "id": "a568ea74",
>>>>>>> documentation-devel
=======
   "id": "3070b5d4",
>>>>>>> c74c98c2450c2a1ba922ed9442f136238d6bc88b
=======
   "id": "8bc0a5bb",
>>>>>>> 035bb2637984ead2784fecff78c0c60cc4181202
||||||| 3effdfa5
   "id": "15cd0b7e",
=======
   "id": "89ef8ce2",
>>>>>>> documentation-devel
||||||| 96c826da
<<<<<<< HEAD
<<<<<<< HEAD
<<<<<<< HEAD
<<<<<<< HEAD
<<<<<<< HEAD
   "id": "135706c5",
||||||| 6a30bf1
   "id": "404f6b25",
=======
   "id": "a568ea74",
>>>>>>> documentation-devel
||||||| d28b18c
   "id": "a568ea74",
=======
   "id": "4606c115",
>>>>>>> documentation-devel
||||||| 6893f63
<<<<<<< HEAD
   "id": "135706c5",
||||||| 6a30bf1
   "id": "404f6b25",
=======
   "id": "a568ea74",
>>>>>>> documentation-devel
=======
   "id": "3070b5d4",
>>>>>>> c74c98c2450c2a1ba922ed9442f136238d6bc88b
||||||| 6d93b645
   "id": "4606c115",
=======
   "id": "15cd0b7e",
>>>>>>> documentation-devel
||||||| 804edffb
<<<<<<< HEAD
<<<<<<< HEAD
<<<<<<< HEAD
   "id": "135706c5",
||||||| 6a30bf1
   "id": "404f6b25",
=======
   "id": "a568ea74",
>>>>>>> documentation-devel
||||||| d28b18c
   "id": "a568ea74",
=======
   "id": "4606c115",
>>>>>>> documentation-devel
||||||| 6893f63
<<<<<<< HEAD
   "id": "135706c5",
||||||| 6a30bf1
   "id": "404f6b25",
=======
   "id": "a568ea74",
>>>>>>> documentation-devel
=======
   "id": "3070b5d4",
>>>>>>> c74c98c2450c2a1ba922ed9442f136238d6bc88b
=======
   "id": "8bc0a5bb",
>>>>>>> 035bb2637984ead2784fecff78c0c60cc4181202
=======
   "id": "aa2500e5",
>>>>>>> 619c01f26351d57ac14d974b7af136ac5756103f
   "metadata": {},
   "outputs": [],
   "source": [
    "plotSpatialFeature(sfe, \"is_blank_outlier\", colGeometryName = \"cellSeg\")"
   ]
  },
  {
   "cell_type": "markdown",
<<<<<<< HEAD
<<<<<<< HEAD
<<<<<<< HEAD
<<<<<<< HEAD
<<<<<<< HEAD
<<<<<<< HEAD
<<<<<<< HEAD
   "id": "39ef5928",
||||||| 6a30bf1
   "id": "91541a67",
=======
   "id": "de38fb82",
>>>>>>> documentation-devel
||||||| d28b18c
   "id": "de38fb82",
=======
   "id": "024790d8",
>>>>>>> documentation-devel
||||||| 6893f63
<<<<<<< HEAD
   "id": "39ef5928",
||||||| 6a30bf1
   "id": "91541a67",
=======
   "id": "de38fb82",
>>>>>>> documentation-devel
=======
   "id": "92b15117",
>>>>>>> c74c98c2450c2a1ba922ed9442f136238d6bc88b
||||||| 6d93b645
   "id": "024790d8",
=======
   "id": "68e3aaf6",
>>>>>>> documentation-devel
||||||| 804edffb
<<<<<<< HEAD
<<<<<<< HEAD
<<<<<<< HEAD
   "id": "39ef5928",
||||||| 6a30bf1
   "id": "91541a67",
=======
   "id": "de38fb82",
>>>>>>> documentation-devel
||||||| d28b18c
   "id": "de38fb82",
=======
   "id": "024790d8",
>>>>>>> documentation-devel
||||||| 6893f63
<<<<<<< HEAD
   "id": "39ef5928",
||||||| 6a30bf1
   "id": "91541a67",
=======
   "id": "de38fb82",
>>>>>>> documentation-devel
=======
   "id": "92b15117",
>>>>>>> c74c98c2450c2a1ba922ed9442f136238d6bc88b
=======
   "id": "6c0a66d8",
>>>>>>> 035bb2637984ead2784fecff78c0c60cc4181202
||||||| 3effdfa5
   "id": "68e3aaf6",
=======
   "id": "7bfe2f0e",
>>>>>>> documentation-devel
||||||| 96c826da
<<<<<<< HEAD
<<<<<<< HEAD
<<<<<<< HEAD
<<<<<<< HEAD
<<<<<<< HEAD
   "id": "39ef5928",
||||||| 6a30bf1
   "id": "91541a67",
=======
   "id": "de38fb82",
>>>>>>> documentation-devel
||||||| d28b18c
   "id": "de38fb82",
=======
   "id": "024790d8",
>>>>>>> documentation-devel
||||||| 6893f63
<<<<<<< HEAD
   "id": "39ef5928",
||||||| 6a30bf1
   "id": "91541a67",
=======
   "id": "de38fb82",
>>>>>>> documentation-devel
=======
   "id": "92b15117",
>>>>>>> c74c98c2450c2a1ba922ed9442f136238d6bc88b
||||||| 6d93b645
   "id": "024790d8",
=======
   "id": "68e3aaf6",
>>>>>>> documentation-devel
||||||| 804edffb
<<<<<<< HEAD
<<<<<<< HEAD
<<<<<<< HEAD
   "id": "39ef5928",
||||||| 6a30bf1
   "id": "91541a67",
=======
   "id": "de38fb82",
>>>>>>> documentation-devel
||||||| d28b18c
   "id": "de38fb82",
=======
   "id": "024790d8",
>>>>>>> documentation-devel
||||||| 6893f63
<<<<<<< HEAD
   "id": "39ef5928",
||||||| 6a30bf1
   "id": "91541a67",
=======
   "id": "de38fb82",
>>>>>>> documentation-devel
=======
   "id": "92b15117",
>>>>>>> c74c98c2450c2a1ba922ed9442f136238d6bc88b
=======
   "id": "6c0a66d8",
>>>>>>> 035bb2637984ead2784fecff78c0c60cc4181202
=======
   "id": "408b3a19",
>>>>>>> 619c01f26351d57ac14d974b7af136ac5756103f
   "metadata": {
    "lines_to_next_cell": 0
   },
   "source": [
    "We find that the outliers are difficult to see:"
   ]
  },
  {
   "cell_type": "code",
   "execution_count": null,
<<<<<<< HEAD
<<<<<<< HEAD
<<<<<<< HEAD
<<<<<<< HEAD
<<<<<<< HEAD
<<<<<<< HEAD
<<<<<<< HEAD
   "id": "8dfc4631",
||||||| 6a30bf1
   "id": "1d79cd29",
=======
   "id": "f7a20239",
>>>>>>> documentation-devel
||||||| d28b18c
   "id": "f7a20239",
=======
   "id": "b1a5baff",
>>>>>>> documentation-devel
||||||| 6893f63
<<<<<<< HEAD
   "id": "8dfc4631",
||||||| 6a30bf1
   "id": "1d79cd29",
=======
   "id": "f7a20239",
>>>>>>> documentation-devel
=======
   "id": "53143b8f",
>>>>>>> c74c98c2450c2a1ba922ed9442f136238d6bc88b
||||||| 6d93b645
   "id": "b1a5baff",
=======
   "id": "c105cd77",
>>>>>>> documentation-devel
||||||| 804edffb
<<<<<<< HEAD
<<<<<<< HEAD
<<<<<<< HEAD
   "id": "8dfc4631",
||||||| 6a30bf1
   "id": "1d79cd29",
=======
   "id": "f7a20239",
>>>>>>> documentation-devel
||||||| d28b18c
   "id": "f7a20239",
=======
   "id": "b1a5baff",
>>>>>>> documentation-devel
||||||| 6893f63
<<<<<<< HEAD
   "id": "8dfc4631",
||||||| 6a30bf1
   "id": "1d79cd29",
=======
   "id": "f7a20239",
>>>>>>> documentation-devel
=======
   "id": "53143b8f",
>>>>>>> c74c98c2450c2a1ba922ed9442f136238d6bc88b
=======
   "id": "4db6f01d",
>>>>>>> 035bb2637984ead2784fecff78c0c60cc4181202
||||||| 3effdfa5
   "id": "c105cd77",
=======
   "id": "45983a5c",
>>>>>>> documentation-devel
||||||| 96c826da
<<<<<<< HEAD
<<<<<<< HEAD
<<<<<<< HEAD
<<<<<<< HEAD
<<<<<<< HEAD
   "id": "8dfc4631",
||||||| 6a30bf1
   "id": "1d79cd29",
=======
   "id": "f7a20239",
>>>>>>> documentation-devel
||||||| d28b18c
   "id": "f7a20239",
=======
   "id": "b1a5baff",
>>>>>>> documentation-devel
||||||| 6893f63
<<<<<<< HEAD
   "id": "8dfc4631",
||||||| 6a30bf1
   "id": "1d79cd29",
=======
   "id": "f7a20239",
>>>>>>> documentation-devel
=======
   "id": "53143b8f",
>>>>>>> c74c98c2450c2a1ba922ed9442f136238d6bc88b
||||||| 6d93b645
   "id": "b1a5baff",
=======
   "id": "c105cd77",
>>>>>>> documentation-devel
||||||| 804edffb
<<<<<<< HEAD
<<<<<<< HEAD
<<<<<<< HEAD
   "id": "8dfc4631",
||||||| 6a30bf1
   "id": "1d79cd29",
=======
   "id": "f7a20239",
>>>>>>> documentation-devel
||||||| d28b18c
   "id": "f7a20239",
=======
   "id": "b1a5baff",
>>>>>>> documentation-devel
||||||| 6893f63
<<<<<<< HEAD
   "id": "8dfc4631",
||||||| 6a30bf1
   "id": "1d79cd29",
=======
   "id": "f7a20239",
>>>>>>> documentation-devel
=======
   "id": "53143b8f",
>>>>>>> c74c98c2450c2a1ba922ed9442f136238d6bc88b
=======
   "id": "4db6f01d",
>>>>>>> 035bb2637984ead2784fecff78c0c60cc4181202
=======
   "id": "deb56836",
>>>>>>> 619c01f26351d57ac14d974b7af136ac5756103f
   "metadata": {},
   "outputs": [],
   "source": [
    "plotColData(sfe, y = \"is_blank_outlier\", x = \"cell_area\", \n",
    "            point_fun = function(...) list()) "
   ]
  },
  {
   "cell_type": "markdown",
<<<<<<< HEAD
<<<<<<< HEAD
<<<<<<< HEAD
<<<<<<< HEAD
<<<<<<< HEAD
<<<<<<< HEAD
<<<<<<< HEAD
   "id": "dffc6425",
||||||| 6a30bf1
   "id": "9c516349",
=======
   "id": "b960b771",
>>>>>>> documentation-devel
||||||| d28b18c
   "id": "b960b771",
=======
   "id": "df99eda3",
>>>>>>> documentation-devel
||||||| 6893f63
<<<<<<< HEAD
   "id": "dffc6425",
||||||| 6a30bf1
   "id": "9c516349",
=======
   "id": "b960b771",
>>>>>>> documentation-devel
=======
   "id": "1f0d487f",
>>>>>>> c74c98c2450c2a1ba922ed9442f136238d6bc88b
||||||| 6d93b645
   "id": "df99eda3",
=======
   "id": "1f417436",
>>>>>>> documentation-devel
||||||| 804edffb
<<<<<<< HEAD
<<<<<<< HEAD
<<<<<<< HEAD
   "id": "dffc6425",
||||||| 6a30bf1
   "id": "9c516349",
=======
   "id": "b960b771",
>>>>>>> documentation-devel
||||||| d28b18c
   "id": "b960b771",
=======
   "id": "df99eda3",
>>>>>>> documentation-devel
||||||| 6893f63
<<<<<<< HEAD
   "id": "dffc6425",
||||||| 6a30bf1
   "id": "9c516349",
=======
   "id": "b960b771",
>>>>>>> documentation-devel
=======
   "id": "1f0d487f",
>>>>>>> c74c98c2450c2a1ba922ed9442f136238d6bc88b
=======
   "id": "dcf74042",
>>>>>>> 035bb2637984ead2784fecff78c0c60cc4181202
||||||| 3effdfa5
   "id": "1f417436",
=======
   "id": "e66a656b",
>>>>>>> documentation-devel
||||||| 96c826da
<<<<<<< HEAD
<<<<<<< HEAD
<<<<<<< HEAD
<<<<<<< HEAD
<<<<<<< HEAD
   "id": "dffc6425",
||||||| 6a30bf1
   "id": "9c516349",
=======
   "id": "b960b771",
>>>>>>> documentation-devel
||||||| d28b18c
   "id": "b960b771",
=======
   "id": "df99eda3",
>>>>>>> documentation-devel
||||||| 6893f63
<<<<<<< HEAD
   "id": "dffc6425",
||||||| 6a30bf1
   "id": "9c516349",
=======
   "id": "b960b771",
>>>>>>> documentation-devel
=======
   "id": "1f0d487f",
>>>>>>> c74c98c2450c2a1ba922ed9442f136238d6bc88b
||||||| 6d93b645
   "id": "df99eda3",
=======
   "id": "1f417436",
>>>>>>> documentation-devel
||||||| 804edffb
<<<<<<< HEAD
<<<<<<< HEAD
<<<<<<< HEAD
   "id": "dffc6425",
||||||| 6a30bf1
   "id": "9c516349",
=======
   "id": "b960b771",
>>>>>>> documentation-devel
||||||| d28b18c
   "id": "b960b771",
=======
   "id": "df99eda3",
>>>>>>> documentation-devel
||||||| 6893f63
<<<<<<< HEAD
   "id": "dffc6425",
||||||| 6a30bf1
   "id": "9c516349",
=======
   "id": "b960b771",
>>>>>>> documentation-devel
=======
   "id": "1f0d487f",
>>>>>>> c74c98c2450c2a1ba922ed9442f136238d6bc88b
=======
   "id": "dcf74042",
>>>>>>> 035bb2637984ead2784fecff78c0c60cc4181202
=======
   "id": "f9761acd",
>>>>>>> 619c01f26351d57ac14d974b7af136ac5756103f
   "metadata": {
    "lines_to_next_cell": 0
   },
   "source": [
    "The analysis reveals that the outliers seem to be smaller. Outliers for negative probe controls and negative codeword controls are also hard to see on the plot, so their plots are skipped here. But the top left region in the tissue tends to have more counts from antisense controls. "
   ]
  },
  {
   "cell_type": "code",
   "execution_count": null,
<<<<<<< HEAD
<<<<<<< HEAD
<<<<<<< HEAD
<<<<<<< HEAD
<<<<<<< HEAD
<<<<<<< HEAD
<<<<<<< HEAD
   "id": "e62b9437",
||||||| 6a30bf1
   "id": "f1f9e9d2",
=======
   "id": "94bbaf7d",
>>>>>>> documentation-devel
||||||| d28b18c
   "id": "94bbaf7d",
=======
   "id": "523e9715",
>>>>>>> documentation-devel
||||||| 6893f63
<<<<<<< HEAD
   "id": "e62b9437",
||||||| 6a30bf1
   "id": "f1f9e9d2",
=======
   "id": "94bbaf7d",
>>>>>>> documentation-devel
=======
   "id": "8b393fb5",
>>>>>>> c74c98c2450c2a1ba922ed9442f136238d6bc88b
||||||| 6d93b645
   "id": "523e9715",
=======
   "id": "9fcc0991",
>>>>>>> documentation-devel
||||||| 804edffb
<<<<<<< HEAD
<<<<<<< HEAD
<<<<<<< HEAD
   "id": "e62b9437",
||||||| 6a30bf1
   "id": "f1f9e9d2",
=======
   "id": "94bbaf7d",
>>>>>>> documentation-devel
||||||| d28b18c
   "id": "94bbaf7d",
=======
   "id": "523e9715",
>>>>>>> documentation-devel
||||||| 6893f63
<<<<<<< HEAD
   "id": "e62b9437",
||||||| 6a30bf1
   "id": "f1f9e9d2",
=======
   "id": "94bbaf7d",
>>>>>>> documentation-devel
=======
   "id": "8b393fb5",
>>>>>>> c74c98c2450c2a1ba922ed9442f136238d6bc88b
=======
   "id": "f902cd9d",
>>>>>>> 035bb2637984ead2784fecff78c0c60cc4181202
||||||| 3effdfa5
   "id": "9fcc0991",
=======
   "id": "5c027677",
>>>>>>> documentation-devel
||||||| 96c826da
<<<<<<< HEAD
<<<<<<< HEAD
<<<<<<< HEAD
<<<<<<< HEAD
<<<<<<< HEAD
   "id": "e62b9437",
||||||| 6a30bf1
   "id": "f1f9e9d2",
=======
   "id": "94bbaf7d",
>>>>>>> documentation-devel
||||||| d28b18c
   "id": "94bbaf7d",
=======
   "id": "523e9715",
>>>>>>> documentation-devel
||||||| 6893f63
<<<<<<< HEAD
   "id": "e62b9437",
||||||| 6a30bf1
   "id": "f1f9e9d2",
=======
   "id": "94bbaf7d",
>>>>>>> documentation-devel
=======
   "id": "8b393fb5",
>>>>>>> c74c98c2450c2a1ba922ed9442f136238d6bc88b
||||||| 6d93b645
   "id": "523e9715",
=======
   "id": "9fcc0991",
>>>>>>> documentation-devel
||||||| 804edffb
<<<<<<< HEAD
<<<<<<< HEAD
<<<<<<< HEAD
   "id": "e62b9437",
||||||| 6a30bf1
   "id": "f1f9e9d2",
=======
   "id": "94bbaf7d",
>>>>>>> documentation-devel
||||||| d28b18c
   "id": "94bbaf7d",
=======
   "id": "523e9715",
>>>>>>> documentation-devel
||||||| 6893f63
<<<<<<< HEAD
   "id": "e62b9437",
||||||| 6a30bf1
   "id": "f1f9e9d2",
=======
   "id": "94bbaf7d",
>>>>>>> documentation-devel
=======
   "id": "8b393fb5",
>>>>>>> c74c98c2450c2a1ba922ed9442f136238d6bc88b
=======
   "id": "f902cd9d",
>>>>>>> 035bb2637984ead2784fecff78c0c60cc4181202
=======
   "id": "529d17c6",
>>>>>>> 619c01f26351d57ac14d974b7af136ac5756103f
   "metadata": {},
   "outputs": [],
   "source": [
    "plotSpatialFeature(sfe, \"is_anti_outlier\", colGeometryName = \"cellSeg\")"
   ]
  },
  {
   "cell_type": "markdown",
<<<<<<< HEAD
<<<<<<< HEAD
<<<<<<< HEAD
<<<<<<< HEAD
<<<<<<< HEAD
<<<<<<< HEAD
<<<<<<< HEAD
   "id": "edc75356",
||||||| 6a30bf1
   "id": "6982e617",
=======
   "id": "93db43de",
>>>>>>> documentation-devel
||||||| d28b18c
   "id": "93db43de",
=======
   "id": "15ef2616",
>>>>>>> documentation-devel
||||||| 6893f63
<<<<<<< HEAD
   "id": "edc75356",
||||||| 6a30bf1
   "id": "6982e617",
=======
   "id": "93db43de",
>>>>>>> documentation-devel
=======
   "id": "04816944",
>>>>>>> c74c98c2450c2a1ba922ed9442f136238d6bc88b
||||||| 6d93b645
   "id": "15ef2616",
=======
   "id": "36e43908",
>>>>>>> documentation-devel
||||||| 804edffb
<<<<<<< HEAD
<<<<<<< HEAD
<<<<<<< HEAD
   "id": "edc75356",
||||||| 6a30bf1
   "id": "6982e617",
=======
   "id": "93db43de",
>>>>>>> documentation-devel
||||||| d28b18c
   "id": "93db43de",
=======
   "id": "15ef2616",
>>>>>>> documentation-devel
||||||| 6893f63
<<<<<<< HEAD
   "id": "edc75356",
||||||| 6a30bf1
   "id": "6982e617",
=======
   "id": "93db43de",
>>>>>>> documentation-devel
=======
   "id": "04816944",
>>>>>>> c74c98c2450c2a1ba922ed9442f136238d6bc88b
=======
   "id": "55009124",
>>>>>>> 035bb2637984ead2784fecff78c0c60cc4181202
||||||| 3effdfa5
   "id": "36e43908",
=======
   "id": "ce887484",
>>>>>>> documentation-devel
||||||| 96c826da
<<<<<<< HEAD
<<<<<<< HEAD
<<<<<<< HEAD
<<<<<<< HEAD
<<<<<<< HEAD
   "id": "edc75356",
||||||| 6a30bf1
   "id": "6982e617",
=======
   "id": "93db43de",
>>>>>>> documentation-devel
||||||| d28b18c
   "id": "93db43de",
=======
   "id": "15ef2616",
>>>>>>> documentation-devel
||||||| 6893f63
<<<<<<< HEAD
   "id": "edc75356",
||||||| 6a30bf1
   "id": "6982e617",
=======
   "id": "93db43de",
>>>>>>> documentation-devel
=======
   "id": "04816944",
>>>>>>> c74c98c2450c2a1ba922ed9442f136238d6bc88b
||||||| 6d93b645
   "id": "15ef2616",
=======
   "id": "36e43908",
>>>>>>> documentation-devel
||||||| 804edffb
<<<<<<< HEAD
<<<<<<< HEAD
<<<<<<< HEAD
   "id": "edc75356",
||||||| 6a30bf1
   "id": "6982e617",
=======
   "id": "93db43de",
>>>>>>> documentation-devel
||||||| d28b18c
   "id": "93db43de",
=======
   "id": "15ef2616",
>>>>>>> documentation-devel
||||||| 6893f63
<<<<<<< HEAD
   "id": "edc75356",
||||||| 6a30bf1
   "id": "6982e617",
=======
   "id": "93db43de",
>>>>>>> documentation-devel
=======
   "id": "04816944",
>>>>>>> c74c98c2450c2a1ba922ed9442f136238d6bc88b
=======
   "id": "55009124",
>>>>>>> 035bb2637984ead2784fecff78c0c60cc4181202
=======
   "id": "bd3353f0",
>>>>>>> 619c01f26351d57ac14d974b7af136ac5756103f
   "metadata": {},
   "source": [
    "Now that we have identified the outliers, we can remove them along with empty cells before proceeding to further analysis:"
   ]
  },
  {
   "cell_type": "code",
   "execution_count": null,
<<<<<<< HEAD
<<<<<<< HEAD
<<<<<<< HEAD
<<<<<<< HEAD
<<<<<<< HEAD
<<<<<<< HEAD
<<<<<<< HEAD
   "id": "1c4c0515",
||||||| 6a30bf1
   "id": "a771c185",
=======
   "id": "5ab3b505",
>>>>>>> documentation-devel
||||||| d28b18c
   "id": "5ab3b505",
=======
   "id": "b9036708",
>>>>>>> documentation-devel
||||||| 6893f63
<<<<<<< HEAD
   "id": "1c4c0515",
||||||| 6a30bf1
   "id": "a771c185",
=======
   "id": "5ab3b505",
>>>>>>> documentation-devel
=======
   "id": "a0f2f1d3",
>>>>>>> c74c98c2450c2a1ba922ed9442f136238d6bc88b
||||||| 6d93b645
   "id": "b9036708",
=======
   "id": "6d7d835a",
>>>>>>> documentation-devel
||||||| 804edffb
<<<<<<< HEAD
<<<<<<< HEAD
<<<<<<< HEAD
   "id": "1c4c0515",
||||||| 6a30bf1
   "id": "a771c185",
=======
   "id": "5ab3b505",
>>>>>>> documentation-devel
||||||| d28b18c
   "id": "5ab3b505",
=======
   "id": "b9036708",
>>>>>>> documentation-devel
||||||| 6893f63
<<<<<<< HEAD
   "id": "1c4c0515",
||||||| 6a30bf1
   "id": "a771c185",
=======
   "id": "5ab3b505",
>>>>>>> documentation-devel
=======
   "id": "a0f2f1d3",
>>>>>>> c74c98c2450c2a1ba922ed9442f136238d6bc88b
=======
   "id": "c6763d9f",
>>>>>>> 035bb2637984ead2784fecff78c0c60cc4181202
||||||| 3effdfa5
   "id": "6d7d835a",
=======
   "id": "ecc1a3b1",
>>>>>>> documentation-devel
||||||| 96c826da
<<<<<<< HEAD
<<<<<<< HEAD
<<<<<<< HEAD
<<<<<<< HEAD
<<<<<<< HEAD
   "id": "1c4c0515",
||||||| 6a30bf1
   "id": "a771c185",
=======
   "id": "5ab3b505",
>>>>>>> documentation-devel
||||||| d28b18c
   "id": "5ab3b505",
=======
   "id": "b9036708",
>>>>>>> documentation-devel
||||||| 6893f63
<<<<<<< HEAD
   "id": "1c4c0515",
||||||| 6a30bf1
   "id": "a771c185",
=======
   "id": "5ab3b505",
>>>>>>> documentation-devel
=======
   "id": "a0f2f1d3",
>>>>>>> c74c98c2450c2a1ba922ed9442f136238d6bc88b
||||||| 6d93b645
   "id": "b9036708",
=======
   "id": "6d7d835a",
>>>>>>> documentation-devel
||||||| 804edffb
<<<<<<< HEAD
<<<<<<< HEAD
<<<<<<< HEAD
   "id": "1c4c0515",
||||||| 6a30bf1
   "id": "a771c185",
=======
   "id": "5ab3b505",
>>>>>>> documentation-devel
||||||| d28b18c
   "id": "5ab3b505",
=======
   "id": "b9036708",
>>>>>>> documentation-devel
||||||| 6893f63
<<<<<<< HEAD
   "id": "1c4c0515",
||||||| 6a30bf1
   "id": "a771c185",
=======
   "id": "5ab3b505",
>>>>>>> documentation-devel
=======
   "id": "a0f2f1d3",
>>>>>>> c74c98c2450c2a1ba922ed9442f136238d6bc88b
=======
   "id": "c6763d9f",
>>>>>>> 035bb2637984ead2784fecff78c0c60cc4181202
=======
   "id": "ca42f05a",
>>>>>>> 619c01f26351d57ac14d974b7af136ac5756103f
   "metadata": {},
   "outputs": [],
   "source": [
    "inds_keep <- sfe$nCounts > 0 & sfe$nucleus_area < 400 & !sfe$is_anti_outlier &\n",
    "    !sfe$is_blank_outlier & !sfe$is_negCodeword_outlier & !sfe$is_negProbe_outlier\n",
    "(sfe <- sfe[,inds_keep])"
   ]
  },
  {
   "cell_type": "markdown",
<<<<<<< HEAD
<<<<<<< HEAD
<<<<<<< HEAD
<<<<<<< HEAD
<<<<<<< HEAD
<<<<<<< HEAD
<<<<<<< HEAD
   "id": "491ec3ae",
||||||| 6a30bf1
   "id": "cd2adb91",
=======
   "id": "c9bb4ecd",
>>>>>>> documentation-devel
||||||| d28b18c
   "id": "c9bb4ecd",
=======
   "id": "42625fe7",
>>>>>>> documentation-devel
||||||| 6893f63
<<<<<<< HEAD
   "id": "491ec3ae",
||||||| 6a30bf1
   "id": "cd2adb91",
=======
   "id": "c9bb4ecd",
>>>>>>> documentation-devel
=======
   "id": "384499a7",
>>>>>>> c74c98c2450c2a1ba922ed9442f136238d6bc88b
||||||| 6d93b645
   "id": "42625fe7",
=======
   "id": "c260e4bc",
>>>>>>> documentation-devel
||||||| 804edffb
<<<<<<< HEAD
<<<<<<< HEAD
<<<<<<< HEAD
   "id": "491ec3ae",
||||||| 6a30bf1
   "id": "cd2adb91",
=======
   "id": "c9bb4ecd",
>>>>>>> documentation-devel
||||||| d28b18c
   "id": "c9bb4ecd",
=======
   "id": "42625fe7",
>>>>>>> documentation-devel
||||||| 6893f63
<<<<<<< HEAD
   "id": "491ec3ae",
||||||| 6a30bf1
   "id": "cd2adb91",
=======
   "id": "c9bb4ecd",
>>>>>>> documentation-devel
=======
   "id": "384499a7",
>>>>>>> c74c98c2450c2a1ba922ed9442f136238d6bc88b
=======
   "id": "2c0a2a49",
>>>>>>> 035bb2637984ead2784fecff78c0c60cc4181202
||||||| 3effdfa5
   "id": "c260e4bc",
=======
   "id": "084269b3",
>>>>>>> documentation-devel
||||||| 96c826da
<<<<<<< HEAD
<<<<<<< HEAD
<<<<<<< HEAD
<<<<<<< HEAD
<<<<<<< HEAD
   "id": "491ec3ae",
||||||| 6a30bf1
   "id": "cd2adb91",
=======
   "id": "c9bb4ecd",
>>>>>>> documentation-devel
||||||| d28b18c
   "id": "c9bb4ecd",
=======
   "id": "42625fe7",
>>>>>>> documentation-devel
||||||| 6893f63
<<<<<<< HEAD
   "id": "491ec3ae",
||||||| 6a30bf1
   "id": "cd2adb91",
=======
   "id": "c9bb4ecd",
>>>>>>> documentation-devel
=======
   "id": "384499a7",
>>>>>>> c74c98c2450c2a1ba922ed9442f136238d6bc88b
||||||| 6d93b645
   "id": "42625fe7",
=======
   "id": "c260e4bc",
>>>>>>> documentation-devel
||||||| 804edffb
<<<<<<< HEAD
<<<<<<< HEAD
<<<<<<< HEAD
   "id": "491ec3ae",
||||||| 6a30bf1
   "id": "cd2adb91",
=======
   "id": "c9bb4ecd",
>>>>>>> documentation-devel
||||||| d28b18c
   "id": "c9bb4ecd",
=======
   "id": "42625fe7",
>>>>>>> documentation-devel
||||||| 6893f63
<<<<<<< HEAD
   "id": "491ec3ae",
||||||| 6a30bf1
   "id": "cd2adb91",
=======
   "id": "c9bb4ecd",
>>>>>>> documentation-devel
=======
   "id": "384499a7",
>>>>>>> c74c98c2450c2a1ba922ed9442f136238d6bc88b
=======
   "id": "2c0a2a49",
>>>>>>> 035bb2637984ead2784fecff78c0c60cc4181202
=======
   "id": "a32ce081",
>>>>>>> 619c01f26351d57ac14d974b7af136ac5756103f
   "metadata": {
    "lines_to_next_cell": 0
   },
   "source": [
    "Over 1000 cells were removed. \n",
    "\n",
    "Next we check how many negative control features are detected per cell:"
   ]
  },
  {
   "cell_type": "code",
   "execution_count": null,
<<<<<<< HEAD
<<<<<<< HEAD
<<<<<<< HEAD
<<<<<<< HEAD
<<<<<<< HEAD
<<<<<<< HEAD
<<<<<<< HEAD
   "id": "d1c1a23b",
||||||| 6a30bf1
   "id": "7b0ab268",
=======
   "id": "7d4812d2",
>>>>>>> documentation-devel
||||||| d28b18c
   "id": "7d4812d2",
=======
   "id": "a2d8199c",
>>>>>>> documentation-devel
||||||| 6893f63
<<<<<<< HEAD
   "id": "d1c1a23b",
||||||| 6a30bf1
   "id": "7b0ab268",
=======
   "id": "7d4812d2",
>>>>>>> documentation-devel
=======
   "id": "0d41b41e",
>>>>>>> c74c98c2450c2a1ba922ed9442f136238d6bc88b
||||||| 6d93b645
   "id": "a2d8199c",
=======
   "id": "c078125d",
>>>>>>> documentation-devel
||||||| 804edffb
<<<<<<< HEAD
<<<<<<< HEAD
<<<<<<< HEAD
   "id": "d1c1a23b",
||||||| 6a30bf1
   "id": "7b0ab268",
=======
   "id": "7d4812d2",
>>>>>>> documentation-devel
||||||| d28b18c
   "id": "7d4812d2",
=======
   "id": "a2d8199c",
>>>>>>> documentation-devel
||||||| 6893f63
<<<<<<< HEAD
   "id": "d1c1a23b",
||||||| 6a30bf1
   "id": "7b0ab268",
=======
   "id": "7d4812d2",
>>>>>>> documentation-devel
=======
   "id": "0d41b41e",
>>>>>>> c74c98c2450c2a1ba922ed9442f136238d6bc88b
=======
   "id": "ea156ad0",
>>>>>>> 035bb2637984ead2784fecff78c0c60cc4181202
||||||| 3effdfa5
   "id": "c078125d",
=======
   "id": "5b624448",
>>>>>>> documentation-devel
||||||| 96c826da
<<<<<<< HEAD
<<<<<<< HEAD
<<<<<<< HEAD
<<<<<<< HEAD
<<<<<<< HEAD
   "id": "d1c1a23b",
||||||| 6a30bf1
   "id": "7b0ab268",
=======
   "id": "7d4812d2",
>>>>>>> documentation-devel
||||||| d28b18c
   "id": "7d4812d2",
=======
   "id": "a2d8199c",
>>>>>>> documentation-devel
||||||| 6893f63
<<<<<<< HEAD
   "id": "d1c1a23b",
||||||| 6a30bf1
   "id": "7b0ab268",
=======
   "id": "7d4812d2",
>>>>>>> documentation-devel
=======
   "id": "0d41b41e",
>>>>>>> c74c98c2450c2a1ba922ed9442f136238d6bc88b
||||||| 6d93b645
   "id": "a2d8199c",
=======
   "id": "c078125d",
>>>>>>> documentation-devel
||||||| 804edffb
<<<<<<< HEAD
<<<<<<< HEAD
<<<<<<< HEAD
   "id": "d1c1a23b",
||||||| 6a30bf1
   "id": "7b0ab268",
=======
   "id": "7d4812d2",
>>>>>>> documentation-devel
||||||| d28b18c
   "id": "7d4812d2",
=======
   "id": "a2d8199c",
>>>>>>> documentation-devel
||||||| 6893f63
<<<<<<< HEAD
   "id": "d1c1a23b",
||||||| 6a30bf1
   "id": "7b0ab268",
=======
   "id": "7d4812d2",
>>>>>>> documentation-devel
=======
   "id": "0d41b41e",
>>>>>>> c74c98c2450c2a1ba922ed9442f136238d6bc88b
=======
   "id": "ea156ad0",
>>>>>>> 035bb2637984ead2784fecff78c0c60cc4181202
=======
   "id": "14c77aeb",
>>>>>>> 619c01f26351d57ac14d974b7af136ac5756103f
   "metadata": {},
   "outputs": [],
   "source": [
    "plotColDataHistogram(sfe, cols_use2, bins = 20, ncol = 3) +\n",
    "    # Avoid decimal breaks on x axis unless there're too few breaks\n",
    "    scale_x_continuous(breaks = scales::breaks_extended(3, Q = c(1,2,5)))"
   ]
  },
  {
   "cell_type": "markdown",
<<<<<<< HEAD
<<<<<<< HEAD
<<<<<<< HEAD
<<<<<<< HEAD
<<<<<<< HEAD
<<<<<<< HEAD
<<<<<<< HEAD
   "id": "601e1d6e",
||||||| 6a30bf1
   "id": "2adab00c",
=======
   "id": "640f29b5",
>>>>>>> documentation-devel
||||||| d28b18c
   "id": "640f29b5",
=======
   "id": "d3f90fe1",
>>>>>>> documentation-devel
||||||| 6893f63
<<<<<<< HEAD
   "id": "601e1d6e",
||||||| 6a30bf1
   "id": "2adab00c",
=======
   "id": "640f29b5",
>>>>>>> documentation-devel
=======
   "id": "cd886469",
>>>>>>> c74c98c2450c2a1ba922ed9442f136238d6bc88b
||||||| 6d93b645
   "id": "d3f90fe1",
=======
   "id": "3c1cb666",
>>>>>>> documentation-devel
||||||| 804edffb
<<<<<<< HEAD
<<<<<<< HEAD
<<<<<<< HEAD
   "id": "601e1d6e",
||||||| 6a30bf1
   "id": "2adab00c",
=======
   "id": "640f29b5",
>>>>>>> documentation-devel
||||||| d28b18c
   "id": "640f29b5",
=======
   "id": "d3f90fe1",
>>>>>>> documentation-devel
||||||| 6893f63
<<<<<<< HEAD
   "id": "601e1d6e",
||||||| 6a30bf1
   "id": "2adab00c",
=======
   "id": "640f29b5",
>>>>>>> documentation-devel
=======
   "id": "cd886469",
>>>>>>> c74c98c2450c2a1ba922ed9442f136238d6bc88b
=======
   "id": "5fe02ca8",
>>>>>>> 035bb2637984ead2784fecff78c0c60cc4181202
||||||| 3effdfa5
   "id": "3c1cb666",
=======
   "id": "12ccfdaf",
>>>>>>> documentation-devel
||||||| 96c826da
<<<<<<< HEAD
<<<<<<< HEAD
<<<<<<< HEAD
<<<<<<< HEAD
<<<<<<< HEAD
   "id": "601e1d6e",
||||||| 6a30bf1
   "id": "2adab00c",
=======
   "id": "640f29b5",
>>>>>>> documentation-devel
||||||| d28b18c
   "id": "640f29b5",
=======
   "id": "d3f90fe1",
>>>>>>> documentation-devel
||||||| 6893f63
<<<<<<< HEAD
   "id": "601e1d6e",
||||||| 6a30bf1
   "id": "2adab00c",
=======
   "id": "640f29b5",
>>>>>>> documentation-devel
=======
   "id": "cd886469",
>>>>>>> c74c98c2450c2a1ba922ed9442f136238d6bc88b
||||||| 6d93b645
   "id": "d3f90fe1",
=======
   "id": "3c1cb666",
>>>>>>> documentation-devel
||||||| 804edffb
<<<<<<< HEAD
<<<<<<< HEAD
<<<<<<< HEAD
   "id": "601e1d6e",
||||||| 6a30bf1
   "id": "2adab00c",
=======
   "id": "640f29b5",
>>>>>>> documentation-devel
||||||| d28b18c
   "id": "640f29b5",
=======
   "id": "d3f90fe1",
>>>>>>> documentation-devel
||||||| 6893f63
<<<<<<< HEAD
   "id": "601e1d6e",
||||||| 6a30bf1
   "id": "2adab00c",
=======
   "id": "640f29b5",
>>>>>>> documentation-devel
=======
   "id": "cd886469",
>>>>>>> c74c98c2450c2a1ba922ed9442f136238d6bc88b
=======
   "id": "5fe02ca8",
>>>>>>> 035bb2637984ead2784fecff78c0c60cc4181202
=======
   "id": "36b8c66b",
>>>>>>> 619c01f26351d57ac14d974b7af136ac5756103f
   "metadata": {
    "lines_to_next_cell": 0
   },
   "source": [
    "There are at most 3 counts per cell per type. For the non-outliers, each type is at most around 1%, so this data looks good. \n",
    "\n",
    "## Genes\n",
    "Here we look at the mean and variance of each gene"
   ]
  },
  {
   "cell_type": "code",
   "execution_count": null,
<<<<<<< HEAD
<<<<<<< HEAD
<<<<<<< HEAD
<<<<<<< HEAD
<<<<<<< HEAD
<<<<<<< HEAD
<<<<<<< HEAD
   "id": "485b93c3",
||||||| 6a30bf1
   "id": "258ee682",
=======
   "id": "7b7601fc",
>>>>>>> documentation-devel
||||||| d28b18c
   "id": "7b7601fc",
=======
   "id": "247d23d6",
>>>>>>> documentation-devel
||||||| 6893f63
<<<<<<< HEAD
   "id": "485b93c3",
||||||| 6a30bf1
   "id": "258ee682",
=======
   "id": "7b7601fc",
>>>>>>> documentation-devel
=======
   "id": "223eeeb3",
>>>>>>> c74c98c2450c2a1ba922ed9442f136238d6bc88b
||||||| 6d93b645
   "id": "247d23d6",
=======
   "id": "ba63f221",
>>>>>>> documentation-devel
||||||| 804edffb
<<<<<<< HEAD
<<<<<<< HEAD
<<<<<<< HEAD
   "id": "485b93c3",
||||||| 6a30bf1
   "id": "258ee682",
=======
   "id": "7b7601fc",
>>>>>>> documentation-devel
||||||| d28b18c
   "id": "7b7601fc",
=======
   "id": "247d23d6",
>>>>>>> documentation-devel
||||||| 6893f63
<<<<<<< HEAD
   "id": "485b93c3",
||||||| 6a30bf1
   "id": "258ee682",
=======
   "id": "7b7601fc",
>>>>>>> documentation-devel
=======
   "id": "223eeeb3",
>>>>>>> c74c98c2450c2a1ba922ed9442f136238d6bc88b
=======
   "id": "d1dc2225",
>>>>>>> 035bb2637984ead2784fecff78c0c60cc4181202
||||||| 3effdfa5
   "id": "ba63f221",
=======
   "id": "977650f1",
>>>>>>> documentation-devel
||||||| 96c826da
<<<<<<< HEAD
<<<<<<< HEAD
<<<<<<< HEAD
<<<<<<< HEAD
<<<<<<< HEAD
   "id": "485b93c3",
||||||| 6a30bf1
   "id": "258ee682",
=======
   "id": "7b7601fc",
>>>>>>> documentation-devel
||||||| d28b18c
   "id": "7b7601fc",
=======
   "id": "247d23d6",
>>>>>>> documentation-devel
||||||| 6893f63
<<<<<<< HEAD
   "id": "485b93c3",
||||||| 6a30bf1
   "id": "258ee682",
=======
   "id": "7b7601fc",
>>>>>>> documentation-devel
=======
   "id": "223eeeb3",
>>>>>>> c74c98c2450c2a1ba922ed9442f136238d6bc88b
||||||| 6d93b645
   "id": "247d23d6",
=======
   "id": "ba63f221",
>>>>>>> documentation-devel
||||||| 804edffb
<<<<<<< HEAD
<<<<<<< HEAD
<<<<<<< HEAD
   "id": "485b93c3",
||||||| 6a30bf1
   "id": "258ee682",
=======
   "id": "7b7601fc",
>>>>>>> documentation-devel
||||||| d28b18c
   "id": "7b7601fc",
=======
   "id": "247d23d6",
>>>>>>> documentation-devel
||||||| 6893f63
<<<<<<< HEAD
   "id": "485b93c3",
||||||| 6a30bf1
   "id": "258ee682",
=======
   "id": "7b7601fc",
>>>>>>> documentation-devel
=======
   "id": "223eeeb3",
>>>>>>> c74c98c2450c2a1ba922ed9442f136238d6bc88b
=======
   "id": "d1dc2225",
>>>>>>> 035bb2637984ead2784fecff78c0c60cc4181202
=======
   "id": "cc4af0ab",
>>>>>>> 619c01f26351d57ac14d974b7af136ac5756103f
   "metadata": {},
   "outputs": [],
   "source": [
    "rowData(sfe)$means <- rowMeans(counts(sfe))\n",
    "rowData(sfe)$vars <- rowVars(counts(sfe))"
   ]
  },
  {
   "cell_type": "markdown",
<<<<<<< HEAD
<<<<<<< HEAD
<<<<<<< HEAD
<<<<<<< HEAD
<<<<<<< HEAD
<<<<<<< HEAD
<<<<<<< HEAD
   "id": "44b138aa",
||||||| 6a30bf1
   "id": "8fd64e9a",
=======
   "id": "35833c0f",
>>>>>>> documentation-devel
||||||| d28b18c
   "id": "35833c0f",
=======
   "id": "86d2cc4a",
>>>>>>> documentation-devel
||||||| 6893f63
<<<<<<< HEAD
   "id": "44b138aa",
||||||| 6a30bf1
   "id": "8fd64e9a",
=======
   "id": "35833c0f",
>>>>>>> documentation-devel
=======
   "id": "b8262826",
>>>>>>> c74c98c2450c2a1ba922ed9442f136238d6bc88b
||||||| 6d93b645
   "id": "86d2cc4a",
=======
   "id": "20af6569",
>>>>>>> documentation-devel
||||||| 804edffb
<<<<<<< HEAD
<<<<<<< HEAD
<<<<<<< HEAD
   "id": "44b138aa",
||||||| 6a30bf1
   "id": "8fd64e9a",
=======
   "id": "35833c0f",
>>>>>>> documentation-devel
||||||| d28b18c
   "id": "35833c0f",
=======
   "id": "86d2cc4a",
>>>>>>> documentation-devel
||||||| 6893f63
<<<<<<< HEAD
   "id": "44b138aa",
||||||| 6a30bf1
   "id": "8fd64e9a",
=======
   "id": "35833c0f",
>>>>>>> documentation-devel
=======
   "id": "b8262826",
>>>>>>> c74c98c2450c2a1ba922ed9442f136238d6bc88b
=======
   "id": "77521c0c",
>>>>>>> 035bb2637984ead2784fecff78c0c60cc4181202
||||||| 3effdfa5
   "id": "20af6569",
=======
   "id": "735f9bfd",
>>>>>>> documentation-devel
||||||| 96c826da
<<<<<<< HEAD
<<<<<<< HEAD
<<<<<<< HEAD
<<<<<<< HEAD
<<<<<<< HEAD
   "id": "44b138aa",
||||||| 6a30bf1
   "id": "8fd64e9a",
=======
   "id": "35833c0f",
>>>>>>> documentation-devel
||||||| d28b18c
   "id": "35833c0f",
=======
   "id": "86d2cc4a",
>>>>>>> documentation-devel
||||||| 6893f63
<<<<<<< HEAD
   "id": "44b138aa",
||||||| 6a30bf1
   "id": "8fd64e9a",
=======
   "id": "35833c0f",
>>>>>>> documentation-devel
=======
   "id": "b8262826",
>>>>>>> c74c98c2450c2a1ba922ed9442f136238d6bc88b
||||||| 6d93b645
   "id": "86d2cc4a",
=======
   "id": "20af6569",
>>>>>>> documentation-devel
||||||| 804edffb
<<<<<<< HEAD
<<<<<<< HEAD
<<<<<<< HEAD
   "id": "44b138aa",
||||||| 6a30bf1
   "id": "8fd64e9a",
=======
   "id": "35833c0f",
>>>>>>> documentation-devel
||||||| d28b18c
   "id": "35833c0f",
=======
   "id": "86d2cc4a",
>>>>>>> documentation-devel
||||||| 6893f63
<<<<<<< HEAD
   "id": "44b138aa",
||||||| 6a30bf1
   "id": "8fd64e9a",
=======
   "id": "35833c0f",
>>>>>>> documentation-devel
=======
   "id": "b8262826",
>>>>>>> c74c98c2450c2a1ba922ed9442f136238d6bc88b
=======
   "id": "77521c0c",
>>>>>>> 035bb2637984ead2784fecff78c0c60cc4181202
=======
   "id": "2a080ec2",
>>>>>>> 619c01f26351d57ac14d974b7af136ac5756103f
   "metadata": {
    "lines_to_next_cell": 0
   },
   "source": [
    "Real genes generally have higher mean expression across cells than negative controls."
   ]
  },
  {
   "cell_type": "code",
   "execution_count": null,
<<<<<<< HEAD
<<<<<<< HEAD
<<<<<<< HEAD
<<<<<<< HEAD
<<<<<<< HEAD
<<<<<<< HEAD
<<<<<<< HEAD
   "id": "5cc5363e",
||||||| 6a30bf1
   "id": "eeeed5fc",
=======
   "id": "803d374f",
>>>>>>> documentation-devel
||||||| d28b18c
   "id": "803d374f",
=======
   "id": "cc74a3c3",
>>>>>>> documentation-devel
||||||| 6893f63
<<<<<<< HEAD
   "id": "5cc5363e",
||||||| 6a30bf1
   "id": "eeeed5fc",
=======
   "id": "803d374f",
>>>>>>> documentation-devel
=======
   "id": "dd89f844",
>>>>>>> c74c98c2450c2a1ba922ed9442f136238d6bc88b
||||||| 6d93b645
   "id": "cc74a3c3",
=======
   "id": "590794cd",
>>>>>>> documentation-devel
||||||| 804edffb
<<<<<<< HEAD
<<<<<<< HEAD
<<<<<<< HEAD
   "id": "5cc5363e",
||||||| 6a30bf1
   "id": "eeeed5fc",
=======
   "id": "803d374f",
>>>>>>> documentation-devel
||||||| d28b18c
   "id": "803d374f",
=======
   "id": "cc74a3c3",
>>>>>>> documentation-devel
||||||| 6893f63
<<<<<<< HEAD
   "id": "5cc5363e",
||||||| 6a30bf1
   "id": "eeeed5fc",
=======
   "id": "803d374f",
>>>>>>> documentation-devel
=======
   "id": "dd89f844",
>>>>>>> c74c98c2450c2a1ba922ed9442f136238d6bc88b
=======
   "id": "468d361a",
>>>>>>> 035bb2637984ead2784fecff78c0c60cc4181202
||||||| 3effdfa5
   "id": "590794cd",
=======
   "id": "4f1fd299",
>>>>>>> documentation-devel
||||||| 96c826da
<<<<<<< HEAD
<<<<<<< HEAD
<<<<<<< HEAD
<<<<<<< HEAD
<<<<<<< HEAD
   "id": "5cc5363e",
||||||| 6a30bf1
   "id": "eeeed5fc",
=======
   "id": "803d374f",
>>>>>>> documentation-devel
||||||| d28b18c
   "id": "803d374f",
=======
   "id": "cc74a3c3",
>>>>>>> documentation-devel
||||||| 6893f63
<<<<<<< HEAD
   "id": "5cc5363e",
||||||| 6a30bf1
   "id": "eeeed5fc",
=======
   "id": "803d374f",
>>>>>>> documentation-devel
=======
   "id": "dd89f844",
>>>>>>> c74c98c2450c2a1ba922ed9442f136238d6bc88b
||||||| 6d93b645
   "id": "cc74a3c3",
=======
   "id": "590794cd",
>>>>>>> documentation-devel
||||||| 804edffb
<<<<<<< HEAD
<<<<<<< HEAD
<<<<<<< HEAD
   "id": "5cc5363e",
||||||| 6a30bf1
   "id": "eeeed5fc",
=======
   "id": "803d374f",
>>>>>>> documentation-devel
||||||| d28b18c
   "id": "803d374f",
=======
   "id": "cc74a3c3",
>>>>>>> documentation-devel
||||||| 6893f63
<<<<<<< HEAD
   "id": "5cc5363e",
||||||| 6a30bf1
   "id": "eeeed5fc",
=======
   "id": "803d374f",
>>>>>>> documentation-devel
=======
   "id": "dd89f844",
>>>>>>> c74c98c2450c2a1ba922ed9442f136238d6bc88b
=======
   "id": "468d361a",
>>>>>>> 035bb2637984ead2784fecff78c0c60cc4181202
=======
   "id": "2136aca6",
>>>>>>> 619c01f26351d57ac14d974b7af136ac5756103f
   "metadata": {},
   "outputs": [],
   "source": [
    "rowData(sfe)$is_neg <- is_any_neg\n",
    "plotRowData(sfe, x = \"means\", y = \"is_neg\") +\n",
    "    scale_y_log10() +\n",
    "    annotation_logticks(sides = \"b\")"
   ]
  },
  {
   "cell_type": "markdown",
<<<<<<< HEAD
<<<<<<< HEAD
<<<<<<< HEAD
<<<<<<< HEAD
<<<<<<< HEAD
<<<<<<< HEAD
<<<<<<< HEAD
   "id": "596aea68",
||||||| 6a30bf1
   "id": "8f8d6e10",
=======
   "id": "ee22902b",
>>>>>>> documentation-devel
||||||| d28b18c
   "id": "ee22902b",
=======
   "id": "84be222d",
>>>>>>> documentation-devel
||||||| 6893f63
<<<<<<< HEAD
   "id": "596aea68",
||||||| 6a30bf1
   "id": "8f8d6e10",
=======
   "id": "ee22902b",
>>>>>>> documentation-devel
=======
   "id": "f44d27b8",
>>>>>>> c74c98c2450c2a1ba922ed9442f136238d6bc88b
||||||| 6d93b645
   "id": "84be222d",
=======
   "id": "e528c58e",
>>>>>>> documentation-devel
||||||| 804edffb
<<<<<<< HEAD
<<<<<<< HEAD
<<<<<<< HEAD
   "id": "596aea68",
||||||| 6a30bf1
   "id": "8f8d6e10",
=======
   "id": "ee22902b",
>>>>>>> documentation-devel
||||||| d28b18c
   "id": "ee22902b",
=======
   "id": "84be222d",
>>>>>>> documentation-devel
||||||| 6893f63
<<<<<<< HEAD
   "id": "596aea68",
||||||| 6a30bf1
   "id": "8f8d6e10",
=======
   "id": "ee22902b",
>>>>>>> documentation-devel
=======
   "id": "f44d27b8",
>>>>>>> c74c98c2450c2a1ba922ed9442f136238d6bc88b
=======
   "id": "2b4a94da",
>>>>>>> 035bb2637984ead2784fecff78c0c60cc4181202
||||||| 3effdfa5
   "id": "e528c58e",
=======
   "id": "40518c5e",
>>>>>>> documentation-devel
||||||| 96c826da
<<<<<<< HEAD
<<<<<<< HEAD
<<<<<<< HEAD
<<<<<<< HEAD
<<<<<<< HEAD
   "id": "596aea68",
||||||| 6a30bf1
   "id": "8f8d6e10",
=======
   "id": "ee22902b",
>>>>>>> documentation-devel
||||||| d28b18c
   "id": "ee22902b",
=======
   "id": "84be222d",
>>>>>>> documentation-devel
||||||| 6893f63
<<<<<<< HEAD
   "id": "596aea68",
||||||| 6a30bf1
   "id": "8f8d6e10",
=======
   "id": "ee22902b",
>>>>>>> documentation-devel
=======
   "id": "f44d27b8",
>>>>>>> c74c98c2450c2a1ba922ed9442f136238d6bc88b
||||||| 6d93b645
   "id": "84be222d",
=======
   "id": "e528c58e",
>>>>>>> documentation-devel
||||||| 804edffb
<<<<<<< HEAD
<<<<<<< HEAD
<<<<<<< HEAD
   "id": "596aea68",
||||||| 6a30bf1
   "id": "8f8d6e10",
=======
   "id": "ee22902b",
>>>>>>> documentation-devel
||||||| d28b18c
   "id": "ee22902b",
=======
   "id": "84be222d",
>>>>>>> documentation-devel
||||||| 6893f63
<<<<<<< HEAD
   "id": "596aea68",
||||||| 6a30bf1
   "id": "8f8d6e10",
=======
   "id": "ee22902b",
>>>>>>> documentation-devel
=======
   "id": "f44d27b8",
>>>>>>> c74c98c2450c2a1ba922ed9442f136238d6bc88b
=======
   "id": "2b4a94da",
>>>>>>> 035bb2637984ead2784fecff78c0c60cc4181202
=======
   "id": "b2a68897",
>>>>>>> 619c01f26351d57ac14d974b7af136ac5756103f
   "metadata": {
    "lines_to_next_cell": 0
   },
   "source": [
    "Here the real genes and negative controls are plotted in different colors"
   ]
  },
  {
   "cell_type": "code",
   "execution_count": null,
<<<<<<< HEAD
<<<<<<< HEAD
<<<<<<< HEAD
<<<<<<< HEAD
<<<<<<< HEAD
<<<<<<< HEAD
<<<<<<< HEAD
   "id": "fe6cc402",
||||||| 6a30bf1
   "id": "5be58939",
=======
   "id": "8c40c26c",
>>>>>>> documentation-devel
||||||| d28b18c
   "id": "8c40c26c",
=======
   "id": "0916fedb",
>>>>>>> documentation-devel
||||||| 6893f63
<<<<<<< HEAD
   "id": "fe6cc402",
||||||| 6a30bf1
   "id": "5be58939",
=======
   "id": "8c40c26c",
>>>>>>> documentation-devel
=======
   "id": "0bbab0e3",
>>>>>>> c74c98c2450c2a1ba922ed9442f136238d6bc88b
||||||| 6d93b645
   "id": "0916fedb",
=======
   "id": "d90d3e79",
>>>>>>> documentation-devel
||||||| 804edffb
<<<<<<< HEAD
<<<<<<< HEAD
<<<<<<< HEAD
   "id": "fe6cc402",
||||||| 6a30bf1
   "id": "5be58939",
=======
   "id": "8c40c26c",
>>>>>>> documentation-devel
||||||| d28b18c
   "id": "8c40c26c",
=======
   "id": "0916fedb",
>>>>>>> documentation-devel
||||||| 6893f63
<<<<<<< HEAD
   "id": "fe6cc402",
||||||| 6a30bf1
   "id": "5be58939",
=======
   "id": "8c40c26c",
>>>>>>> documentation-devel
=======
   "id": "0bbab0e3",
>>>>>>> c74c98c2450c2a1ba922ed9442f136238d6bc88b
=======
   "id": "5a482549",
>>>>>>> 035bb2637984ead2784fecff78c0c60cc4181202
||||||| 3effdfa5
   "id": "d90d3e79",
=======
   "id": "6fb489f2",
>>>>>>> documentation-devel
||||||| 96c826da
<<<<<<< HEAD
<<<<<<< HEAD
<<<<<<< HEAD
<<<<<<< HEAD
<<<<<<< HEAD
   "id": "fe6cc402",
||||||| 6a30bf1
   "id": "5be58939",
=======
   "id": "8c40c26c",
>>>>>>> documentation-devel
||||||| d28b18c
   "id": "8c40c26c",
=======
   "id": "0916fedb",
>>>>>>> documentation-devel
||||||| 6893f63
<<<<<<< HEAD
   "id": "fe6cc402",
||||||| 6a30bf1
   "id": "5be58939",
=======
   "id": "8c40c26c",
>>>>>>> documentation-devel
=======
   "id": "0bbab0e3",
>>>>>>> c74c98c2450c2a1ba922ed9442f136238d6bc88b
||||||| 6d93b645
   "id": "0916fedb",
=======
   "id": "d90d3e79",
>>>>>>> documentation-devel
||||||| 804edffb
<<<<<<< HEAD
<<<<<<< HEAD
<<<<<<< HEAD
   "id": "fe6cc402",
||||||| 6a30bf1
   "id": "5be58939",
=======
   "id": "8c40c26c",
>>>>>>> documentation-devel
||||||| d28b18c
   "id": "8c40c26c",
=======
   "id": "0916fedb",
>>>>>>> documentation-devel
||||||| 6893f63
<<<<<<< HEAD
   "id": "fe6cc402",
||||||| 6a30bf1
   "id": "5be58939",
=======
   "id": "8c40c26c",
>>>>>>> documentation-devel
=======
   "id": "0bbab0e3",
>>>>>>> c74c98c2450c2a1ba922ed9442f136238d6bc88b
=======
   "id": "5a482549",
>>>>>>> 035bb2637984ead2784fecff78c0c60cc4181202
=======
   "id": "4e9528b0",
>>>>>>> 619c01f26351d57ac14d974b7af136ac5756103f
   "metadata": {},
   "outputs": [],
   "source": [
    "plotRowDataBin2D(sfe, \"means\", \"vars\", subset = \"is_neg\", \n",
    "                 name_true = \"Counts (negative controls)\", \n",
    "                 name_false = \"Counts (real genes)\", bins = 50) +\n",
    "    geom_abline(slope = 1, intercept = 0, color = \"red\") +\n",
    "    scale_x_log10() + scale_y_log10() +\n",
    "    annotation_logticks() +\n",
    "    coord_equal()"
   ]
  },
  {
   "cell_type": "markdown",
<<<<<<< HEAD
<<<<<<< HEAD
<<<<<<< HEAD
<<<<<<< HEAD
<<<<<<< HEAD
<<<<<<< HEAD
<<<<<<< HEAD
   "id": "0fdda7b7",
||||||| 6a30bf1
   "id": "cbb31d78",
=======
   "id": "03c3f43f",
>>>>>>> documentation-devel
||||||| d28b18c
   "id": "03c3f43f",
=======
   "id": "cc6c16d7",
>>>>>>> documentation-devel
||||||| 6893f63
<<<<<<< HEAD
   "id": "0fdda7b7",
||||||| 6a30bf1
   "id": "cbb31d78",
=======
   "id": "03c3f43f",
>>>>>>> documentation-devel
=======
   "id": "a178b574",
>>>>>>> c74c98c2450c2a1ba922ed9442f136238d6bc88b
||||||| 6d93b645
   "id": "cc6c16d7",
=======
   "id": "fe829fb3",
>>>>>>> documentation-devel
||||||| 804edffb
<<<<<<< HEAD
<<<<<<< HEAD
<<<<<<< HEAD
   "id": "0fdda7b7",
||||||| 6a30bf1
   "id": "cbb31d78",
=======
   "id": "03c3f43f",
>>>>>>> documentation-devel
||||||| d28b18c
   "id": "03c3f43f",
=======
   "id": "cc6c16d7",
>>>>>>> documentation-devel
||||||| 6893f63
<<<<<<< HEAD
   "id": "0fdda7b7",
||||||| 6a30bf1
   "id": "cbb31d78",
=======
   "id": "03c3f43f",
>>>>>>> documentation-devel
=======
   "id": "a178b574",
>>>>>>> c74c98c2450c2a1ba922ed9442f136238d6bc88b
=======
   "id": "ebff0c22",
>>>>>>> 035bb2637984ead2784fecff78c0c60cc4181202
||||||| 3effdfa5
   "id": "fe829fb3",
=======
   "id": "ba733743",
>>>>>>> documentation-devel
||||||| 96c826da
<<<<<<< HEAD
<<<<<<< HEAD
<<<<<<< HEAD
<<<<<<< HEAD
<<<<<<< HEAD
   "id": "0fdda7b7",
||||||| 6a30bf1
   "id": "cbb31d78",
=======
   "id": "03c3f43f",
>>>>>>> documentation-devel
||||||| d28b18c
   "id": "03c3f43f",
=======
   "id": "cc6c16d7",
>>>>>>> documentation-devel
||||||| 6893f63
<<<<<<< HEAD
   "id": "0fdda7b7",
||||||| 6a30bf1
   "id": "cbb31d78",
=======
   "id": "03c3f43f",
>>>>>>> documentation-devel
=======
   "id": "a178b574",
>>>>>>> c74c98c2450c2a1ba922ed9442f136238d6bc88b
||||||| 6d93b645
   "id": "cc6c16d7",
=======
   "id": "fe829fb3",
>>>>>>> documentation-devel
||||||| 804edffb
<<<<<<< HEAD
<<<<<<< HEAD
<<<<<<< HEAD
   "id": "0fdda7b7",
||||||| 6a30bf1
   "id": "cbb31d78",
=======
   "id": "03c3f43f",
>>>>>>> documentation-devel
||||||| d28b18c
   "id": "03c3f43f",
=======
   "id": "cc6c16d7",
>>>>>>> documentation-devel
||||||| 6893f63
<<<<<<< HEAD
   "id": "0fdda7b7",
||||||| 6a30bf1
   "id": "cbb31d78",
=======
   "id": "03c3f43f",
>>>>>>> documentation-devel
=======
   "id": "a178b574",
>>>>>>> c74c98c2450c2a1ba922ed9442f136238d6bc88b
=======
   "id": "ebff0c22",
>>>>>>> 035bb2637984ead2784fecff78c0c60cc4181202
=======
   "id": "699a64a3",
>>>>>>> 619c01f26351d57ac14d974b7af136ac5756103f
   "metadata": {},
   "source": [
    "The red line $y = x$ is expected if the data follows a Poisson distribution. Negative controls and real genes form mostly separate clusters. Negative controls stick close to the line, while real genes are overdispersed. Unlike in the [CosMX dataset](https://pachterlab.github.io/voyager/articles/vig4_cosmx.html#genes), the negative controls don't seem overdispersed.\n",
    "\n",
    "# Spatial autocorrelation of QC metrics\n",
    "\n",
    "There's a sparse and a dense region. This poses the question of what type of neighborhood graph to use, e.g. it is conceivable that cells in the sparse region should just be singletons. Furthermore, it is unclear what the length scale of their influence might be. It might depend on the cell type and how contact and secreted signals are used in the cell type, and length scale of the influence. If k nearest neighbors are used, then the neighbors in the dense region are much closer together than those in the sparse region. If distance based neighbors are used, then cells in the dense region will have more neighbors than cells in the sparse region, and the sparse region can break into multiple compartments if the distance cutoff is not long enough. \n",
    "\n",
    "For the purpose of demonstration, we use k nearest neighbors with $k = 5$, with inverse distance weighting. Note that using more neighbors leads to longer computation time of spatial autocorrelation metrics."
   ]
  },
  {
   "cell_type": "code",
   "execution_count": null,
<<<<<<< HEAD
<<<<<<< HEAD
<<<<<<< HEAD
<<<<<<< HEAD
<<<<<<< HEAD
<<<<<<< HEAD
<<<<<<< HEAD
   "id": "c101ccd4",
||||||| 6a30bf1
   "id": "cf554f4c",
=======
   "id": "6c70bfe4",
>>>>>>> documentation-devel
||||||| d28b18c
   "id": "6c70bfe4",
=======
   "id": "95634dbb",
>>>>>>> documentation-devel
||||||| 6893f63
<<<<<<< HEAD
   "id": "c101ccd4",
||||||| 6a30bf1
   "id": "cf554f4c",
=======
   "id": "6c70bfe4",
>>>>>>> documentation-devel
=======
   "id": "e6bd5e1f",
>>>>>>> c74c98c2450c2a1ba922ed9442f136238d6bc88b
||||||| 6d93b645
   "id": "95634dbb",
=======
   "id": "e6246e7e",
>>>>>>> documentation-devel
||||||| 804edffb
<<<<<<< HEAD
<<<<<<< HEAD
<<<<<<< HEAD
   "id": "c101ccd4",
||||||| 6a30bf1
   "id": "cf554f4c",
=======
   "id": "6c70bfe4",
>>>>>>> documentation-devel
||||||| d28b18c
   "id": "6c70bfe4",
=======
   "id": "95634dbb",
>>>>>>> documentation-devel
||||||| 6893f63
<<<<<<< HEAD
   "id": "c101ccd4",
||||||| 6a30bf1
   "id": "cf554f4c",
=======
   "id": "6c70bfe4",
>>>>>>> documentation-devel
=======
   "id": "e6bd5e1f",
>>>>>>> c74c98c2450c2a1ba922ed9442f136238d6bc88b
=======
   "id": "8bc9fe72",
>>>>>>> 035bb2637984ead2784fecff78c0c60cc4181202
||||||| 3effdfa5
   "id": "e6246e7e",
=======
   "id": "aebc7089",
>>>>>>> documentation-devel
||||||| 96c826da
<<<<<<< HEAD
<<<<<<< HEAD
<<<<<<< HEAD
<<<<<<< HEAD
<<<<<<< HEAD
   "id": "c101ccd4",
||||||| 6a30bf1
   "id": "cf554f4c",
=======
   "id": "6c70bfe4",
>>>>>>> documentation-devel
||||||| d28b18c
   "id": "6c70bfe4",
=======
   "id": "95634dbb",
>>>>>>> documentation-devel
||||||| 6893f63
<<<<<<< HEAD
   "id": "c101ccd4",
||||||| 6a30bf1
   "id": "cf554f4c",
=======
   "id": "6c70bfe4",
>>>>>>> documentation-devel
=======
   "id": "e6bd5e1f",
>>>>>>> c74c98c2450c2a1ba922ed9442f136238d6bc88b
||||||| 6d93b645
   "id": "95634dbb",
=======
   "id": "e6246e7e",
>>>>>>> documentation-devel
||||||| 804edffb
<<<<<<< HEAD
<<<<<<< HEAD
<<<<<<< HEAD
   "id": "c101ccd4",
||||||| 6a30bf1
   "id": "cf554f4c",
=======
   "id": "6c70bfe4",
>>>>>>> documentation-devel
||||||| d28b18c
   "id": "6c70bfe4",
=======
   "id": "95634dbb",
>>>>>>> documentation-devel
||||||| 6893f63
<<<<<<< HEAD
   "id": "c101ccd4",
||||||| 6a30bf1
   "id": "cf554f4c",
=======
   "id": "6c70bfe4",
>>>>>>> documentation-devel
=======
   "id": "e6bd5e1f",
>>>>>>> c74c98c2450c2a1ba922ed9442f136238d6bc88b
=======
   "id": "8bc9fe72",
>>>>>>> 035bb2637984ead2784fecff78c0c60cc4181202
=======
   "id": "a2a6011a",
>>>>>>> 619c01f26351d57ac14d974b7af136ac5756103f
   "metadata": {},
   "outputs": [],
   "source": [
    "system.time(\n",
    "    colGraph(sfe, \"knn5\") <- findSpatialNeighbors(sfe, method = \"knearneigh\", \n",
    "                                                  dist_type = \"idw\", k = 5, \n",
    "                                                  style = \"W\")\n",
    ")"
   ]
  },
  {
   "cell_type": "code",
   "execution_count": null,
<<<<<<< HEAD
<<<<<<< HEAD
<<<<<<< HEAD
<<<<<<< HEAD
<<<<<<< HEAD
<<<<<<< HEAD
<<<<<<< HEAD
   "id": "760f1c26",
||||||| 6a30bf1
   "id": "952363a4",
=======
   "id": "4163972c",
>>>>>>> documentation-devel
||||||| d28b18c
   "id": "4163972c",
=======
   "id": "16cb9e2f",
>>>>>>> documentation-devel
||||||| 6893f63
<<<<<<< HEAD
   "id": "760f1c26",
||||||| 6a30bf1
   "id": "952363a4",
=======
   "id": "4163972c",
>>>>>>> documentation-devel
=======
   "id": "65652e59",
>>>>>>> c74c98c2450c2a1ba922ed9442f136238d6bc88b
||||||| 6d93b645
   "id": "16cb9e2f",
=======
   "id": "21536793",
>>>>>>> documentation-devel
||||||| 804edffb
<<<<<<< HEAD
<<<<<<< HEAD
<<<<<<< HEAD
   "id": "760f1c26",
||||||| 6a30bf1
   "id": "952363a4",
=======
   "id": "4163972c",
>>>>>>> documentation-devel
||||||| d28b18c
   "id": "4163972c",
=======
   "id": "16cb9e2f",
>>>>>>> documentation-devel
||||||| 6893f63
<<<<<<< HEAD
   "id": "760f1c26",
||||||| 6a30bf1
   "id": "952363a4",
=======
   "id": "4163972c",
>>>>>>> documentation-devel
=======
   "id": "65652e59",
>>>>>>> c74c98c2450c2a1ba922ed9442f136238d6bc88b
=======
   "id": "4447e1a4",
>>>>>>> 035bb2637984ead2784fecff78c0c60cc4181202
||||||| 3effdfa5
   "id": "21536793",
=======
   "id": "4acd538d",
>>>>>>> documentation-devel
||||||| 96c826da
<<<<<<< HEAD
<<<<<<< HEAD
<<<<<<< HEAD
<<<<<<< HEAD
<<<<<<< HEAD
   "id": "760f1c26",
||||||| 6a30bf1
   "id": "952363a4",
=======
   "id": "4163972c",
>>>>>>> documentation-devel
||||||| d28b18c
   "id": "4163972c",
=======
   "id": "16cb9e2f",
>>>>>>> documentation-devel
||||||| 6893f63
<<<<<<< HEAD
   "id": "760f1c26",
||||||| 6a30bf1
   "id": "952363a4",
=======
   "id": "4163972c",
>>>>>>> documentation-devel
=======
   "id": "65652e59",
>>>>>>> c74c98c2450c2a1ba922ed9442f136238d6bc88b
||||||| 6d93b645
   "id": "16cb9e2f",
=======
   "id": "21536793",
>>>>>>> documentation-devel
||||||| 804edffb
<<<<<<< HEAD
<<<<<<< HEAD
<<<<<<< HEAD
   "id": "760f1c26",
||||||| 6a30bf1
   "id": "952363a4",
=======
   "id": "4163972c",
>>>>>>> documentation-devel
||||||| d28b18c
   "id": "4163972c",
=======
   "id": "16cb9e2f",
>>>>>>> documentation-devel
||||||| 6893f63
<<<<<<< HEAD
   "id": "760f1c26",
||||||| 6a30bf1
   "id": "952363a4",
=======
   "id": "4163972c",
>>>>>>> documentation-devel
=======
   "id": "65652e59",
>>>>>>> c74c98c2450c2a1ba922ed9442f136238d6bc88b
=======
   "id": "4447e1a4",
>>>>>>> 035bb2637984ead2784fecff78c0c60cc4181202
=======
   "id": "05c24f78",
>>>>>>> 619c01f26351d57ac14d974b7af136ac5756103f
   "metadata": {},
   "outputs": [],
   "source": [
    "sfe <- colDataMoransI(sfe, c(\"nCounts\", \"nGenes\", \"cell_area\", \"nucleus_area\"),\n",
    "                      colGraphName = \"knn5\")"
   ]
  },
  {
   "cell_type": "code",
   "execution_count": null,
<<<<<<< HEAD
<<<<<<< HEAD
<<<<<<< HEAD
<<<<<<< HEAD
<<<<<<< HEAD
<<<<<<< HEAD
<<<<<<< HEAD
   "id": "f96c6fa4",
||||||| 6a30bf1
   "id": "2b24603d",
=======
   "id": "38c0ad70",
>>>>>>> documentation-devel
||||||| d28b18c
   "id": "38c0ad70",
=======
   "id": "d5987b7d",
>>>>>>> documentation-devel
||||||| 6893f63
<<<<<<< HEAD
   "id": "f96c6fa4",
||||||| 6a30bf1
   "id": "2b24603d",
=======
   "id": "38c0ad70",
>>>>>>> documentation-devel
=======
   "id": "6fd55c85",
>>>>>>> c74c98c2450c2a1ba922ed9442f136238d6bc88b
||||||| 6d93b645
   "id": "d5987b7d",
=======
   "id": "90f8e4a3",
>>>>>>> documentation-devel
||||||| 804edffb
<<<<<<< HEAD
<<<<<<< HEAD
<<<<<<< HEAD
   "id": "f96c6fa4",
||||||| 6a30bf1
   "id": "2b24603d",
=======
   "id": "38c0ad70",
>>>>>>> documentation-devel
||||||| d28b18c
   "id": "38c0ad70",
=======
   "id": "d5987b7d",
>>>>>>> documentation-devel
||||||| 6893f63
<<<<<<< HEAD
   "id": "f96c6fa4",
||||||| 6a30bf1
   "id": "2b24603d",
=======
   "id": "38c0ad70",
>>>>>>> documentation-devel
=======
   "id": "6fd55c85",
>>>>>>> c74c98c2450c2a1ba922ed9442f136238d6bc88b
=======
   "id": "f53dd064",
>>>>>>> 035bb2637984ead2784fecff78c0c60cc4181202
||||||| 3effdfa5
   "id": "90f8e4a3",
=======
   "id": "4cdcccc0",
>>>>>>> documentation-devel
||||||| 96c826da
<<<<<<< HEAD
<<<<<<< HEAD
<<<<<<< HEAD
<<<<<<< HEAD
<<<<<<< HEAD
   "id": "f96c6fa4",
||||||| 6a30bf1
   "id": "2b24603d",
=======
   "id": "38c0ad70",
>>>>>>> documentation-devel
||||||| d28b18c
   "id": "38c0ad70",
=======
   "id": "d5987b7d",
>>>>>>> documentation-devel
||||||| 6893f63
<<<<<<< HEAD
   "id": "f96c6fa4",
||||||| 6a30bf1
   "id": "2b24603d",
=======
   "id": "38c0ad70",
>>>>>>> documentation-devel
=======
   "id": "6fd55c85",
>>>>>>> c74c98c2450c2a1ba922ed9442f136238d6bc88b
||||||| 6d93b645
   "id": "d5987b7d",
=======
   "id": "90f8e4a3",
>>>>>>> documentation-devel
||||||| 804edffb
<<<<<<< HEAD
<<<<<<< HEAD
<<<<<<< HEAD
   "id": "f96c6fa4",
||||||| 6a30bf1
   "id": "2b24603d",
=======
   "id": "38c0ad70",
>>>>>>> documentation-devel
||||||| d28b18c
   "id": "38c0ad70",
=======
   "id": "d5987b7d",
>>>>>>> documentation-devel
||||||| 6893f63
<<<<<<< HEAD
   "id": "f96c6fa4",
||||||| 6a30bf1
   "id": "2b24603d",
=======
   "id": "38c0ad70",
>>>>>>> documentation-devel
=======
   "id": "6fd55c85",
>>>>>>> c74c98c2450c2a1ba922ed9442f136238d6bc88b
=======
   "id": "f53dd064",
>>>>>>> 035bb2637984ead2784fecff78c0c60cc4181202
=======
   "id": "52c4ee3a",
>>>>>>> 619c01f26351d57ac14d974b7af136ac5756103f
   "metadata": {},
   "outputs": [],
   "source": [
    "colFeatureData(sfe)[c(\"nCounts\", \"nGenes\", \"cell_area\", \"nucleus_area\"),]"
   ]
  },
  {
   "cell_type": "markdown",
<<<<<<< HEAD
<<<<<<< HEAD
<<<<<<< HEAD
<<<<<<< HEAD
<<<<<<< HEAD
<<<<<<< HEAD
<<<<<<< HEAD
   "id": "745f12dc",
||||||| 6a30bf1
   "id": "adecf5a0",
=======
   "id": "775b2031",
>>>>>>> documentation-devel
||||||| d28b18c
   "id": "775b2031",
=======
   "id": "40d769f3",
>>>>>>> documentation-devel
||||||| 6893f63
<<<<<<< HEAD
   "id": "745f12dc",
||||||| 6a30bf1
   "id": "adecf5a0",
=======
   "id": "775b2031",
>>>>>>> documentation-devel
=======
   "id": "0199f909",
>>>>>>> c74c98c2450c2a1ba922ed9442f136238d6bc88b
||||||| 6d93b645
   "id": "40d769f3",
=======
   "id": "bed9f006",
>>>>>>> documentation-devel
||||||| 804edffb
<<<<<<< HEAD
<<<<<<< HEAD
<<<<<<< HEAD
   "id": "745f12dc",
||||||| 6a30bf1
   "id": "adecf5a0",
=======
   "id": "775b2031",
>>>>>>> documentation-devel
||||||| d28b18c
   "id": "775b2031",
=======
   "id": "40d769f3",
>>>>>>> documentation-devel
||||||| 6893f63
<<<<<<< HEAD
   "id": "745f12dc",
||||||| 6a30bf1
   "id": "adecf5a0",
=======
   "id": "775b2031",
>>>>>>> documentation-devel
=======
   "id": "0199f909",
>>>>>>> c74c98c2450c2a1ba922ed9442f136238d6bc88b
=======
   "id": "9691e5b5",
>>>>>>> 035bb2637984ead2784fecff78c0c60cc4181202
||||||| 3effdfa5
   "id": "bed9f006",
=======
   "id": "3039f7e1",
>>>>>>> documentation-devel
||||||| 96c826da
<<<<<<< HEAD
<<<<<<< HEAD
<<<<<<< HEAD
<<<<<<< HEAD
<<<<<<< HEAD
   "id": "745f12dc",
||||||| 6a30bf1
   "id": "adecf5a0",
=======
   "id": "775b2031",
>>>>>>> documentation-devel
||||||| d28b18c
   "id": "775b2031",
=======
   "id": "40d769f3",
>>>>>>> documentation-devel
||||||| 6893f63
<<<<<<< HEAD
   "id": "745f12dc",
||||||| 6a30bf1
   "id": "adecf5a0",
=======
   "id": "775b2031",
>>>>>>> documentation-devel
=======
   "id": "0199f909",
>>>>>>> c74c98c2450c2a1ba922ed9442f136238d6bc88b
||||||| 6d93b645
   "id": "40d769f3",
=======
   "id": "bed9f006",
>>>>>>> documentation-devel
||||||| 804edffb
<<<<<<< HEAD
<<<<<<< HEAD
<<<<<<< HEAD
   "id": "745f12dc",
||||||| 6a30bf1
   "id": "adecf5a0",
=======
   "id": "775b2031",
>>>>>>> documentation-devel
||||||| d28b18c
   "id": "775b2031",
=======
   "id": "40d769f3",
>>>>>>> documentation-devel
||||||| 6893f63
<<<<<<< HEAD
   "id": "745f12dc",
||||||| 6a30bf1
   "id": "adecf5a0",
=======
   "id": "775b2031",
>>>>>>> documentation-devel
=======
   "id": "0199f909",
>>>>>>> c74c98c2450c2a1ba922ed9442f136238d6bc88b
=======
   "id": "9691e5b5",
>>>>>>> 035bb2637984ead2784fecff78c0c60cc4181202
=======
   "id": "c4c184ff",
>>>>>>> 619c01f26351d57ac14d974b7af136ac5756103f
   "metadata": {},
   "source": [
    "Global Moran's I indicatse positive spatial autocorrelation. As the strength of spatial autocorrelation can vary spatially, we also run local Moran's I."
   ]
  },
  {
   "cell_type": "code",
   "execution_count": null,
<<<<<<< HEAD
<<<<<<< HEAD
<<<<<<< HEAD
<<<<<<< HEAD
<<<<<<< HEAD
<<<<<<< HEAD
<<<<<<< HEAD
   "id": "74ad61e8",
||||||| 6a30bf1
   "id": "f2cf9620",
=======
   "id": "a3989f42",
>>>>>>> documentation-devel
||||||| d28b18c
   "id": "a3989f42",
=======
   "id": "03280499",
>>>>>>> documentation-devel
||||||| 6893f63
<<<<<<< HEAD
   "id": "74ad61e8",
||||||| 6a30bf1
   "id": "f2cf9620",
=======
   "id": "a3989f42",
>>>>>>> documentation-devel
=======
   "id": "f0cda9fb",
>>>>>>> c74c98c2450c2a1ba922ed9442f136238d6bc88b
||||||| 6d93b645
   "id": "03280499",
=======
   "id": "5765ee58",
>>>>>>> documentation-devel
||||||| 804edffb
<<<<<<< HEAD
<<<<<<< HEAD
<<<<<<< HEAD
   "id": "74ad61e8",
||||||| 6a30bf1
   "id": "f2cf9620",
=======
   "id": "a3989f42",
>>>>>>> documentation-devel
||||||| d28b18c
   "id": "a3989f42",
=======
   "id": "03280499",
>>>>>>> documentation-devel
||||||| 6893f63
<<<<<<< HEAD
   "id": "74ad61e8",
||||||| 6a30bf1
   "id": "f2cf9620",
=======
   "id": "a3989f42",
>>>>>>> documentation-devel
=======
   "id": "f0cda9fb",
>>>>>>> c74c98c2450c2a1ba922ed9442f136238d6bc88b
=======
   "id": "e8cacf05",
>>>>>>> 035bb2637984ead2784fecff78c0c60cc4181202
||||||| 3effdfa5
   "id": "5765ee58",
=======
   "id": "7ccaf3fe",
>>>>>>> documentation-devel
||||||| 96c826da
<<<<<<< HEAD
<<<<<<< HEAD
<<<<<<< HEAD
<<<<<<< HEAD
<<<<<<< HEAD
   "id": "74ad61e8",
||||||| 6a30bf1
   "id": "f2cf9620",
=======
   "id": "a3989f42",
>>>>>>> documentation-devel
||||||| d28b18c
   "id": "a3989f42",
=======
   "id": "03280499",
>>>>>>> documentation-devel
||||||| 6893f63
<<<<<<< HEAD
   "id": "74ad61e8",
||||||| 6a30bf1
   "id": "f2cf9620",
=======
   "id": "a3989f42",
>>>>>>> documentation-devel
=======
   "id": "f0cda9fb",
>>>>>>> c74c98c2450c2a1ba922ed9442f136238d6bc88b
||||||| 6d93b645
   "id": "03280499",
=======
   "id": "5765ee58",
>>>>>>> documentation-devel
||||||| 804edffb
<<<<<<< HEAD
<<<<<<< HEAD
<<<<<<< HEAD
   "id": "74ad61e8",
||||||| 6a30bf1
   "id": "f2cf9620",
=======
   "id": "a3989f42",
>>>>>>> documentation-devel
||||||| d28b18c
   "id": "a3989f42",
=======
   "id": "03280499",
>>>>>>> documentation-devel
||||||| 6893f63
<<<<<<< HEAD
   "id": "74ad61e8",
||||||| 6a30bf1
   "id": "f2cf9620",
=======
   "id": "a3989f42",
>>>>>>> documentation-devel
=======
   "id": "f0cda9fb",
>>>>>>> c74c98c2450c2a1ba922ed9442f136238d6bc88b
=======
   "id": "e8cacf05",
>>>>>>> 035bb2637984ead2784fecff78c0c60cc4181202
=======
   "id": "21939705",
>>>>>>> 619c01f26351d57ac14d974b7af136ac5756103f
   "metadata": {},
   "outputs": [],
   "source": [
    "sfe <- colDataUnivariate(sfe, type = \"localmoran\", \n",
    "                         features = c(\"nCounts\", \"nGenes\", \"cell_area\", \n",
    "                                      \"nucleus_area\"),\n",
    "                         colGraphName = \"knn5\", BPPARAM = MulticoreParam(2))"
   ]
  },
  {
   "cell_type": "markdown",
<<<<<<< HEAD
<<<<<<< HEAD
<<<<<<< HEAD
<<<<<<< HEAD
<<<<<<< HEAD
<<<<<<< HEAD
<<<<<<< HEAD
   "id": "32e09fc5",
||||||| 6a30bf1
   "id": "d2d5d669",
=======
   "id": "a007eeac",
>>>>>>> documentation-devel
||||||| d28b18c
   "id": "a007eeac",
=======
   "id": "4f015c92",
>>>>>>> documentation-devel
||||||| 6893f63
<<<<<<< HEAD
   "id": "32e09fc5",
||||||| 6a30bf1
   "id": "d2d5d669",
=======
   "id": "a007eeac",
>>>>>>> documentation-devel
=======
   "id": "e2657f96",
>>>>>>> c74c98c2450c2a1ba922ed9442f136238d6bc88b
||||||| 6d93b645
   "id": "4f015c92",
=======
   "id": "3f261ada",
>>>>>>> documentation-devel
||||||| 804edffb
<<<<<<< HEAD
<<<<<<< HEAD
<<<<<<< HEAD
   "id": "32e09fc5",
||||||| 6a30bf1
   "id": "d2d5d669",
=======
   "id": "a007eeac",
>>>>>>> documentation-devel
||||||| d28b18c
   "id": "a007eeac",
=======
   "id": "4f015c92",
>>>>>>> documentation-devel
||||||| 6893f63
<<<<<<< HEAD
   "id": "32e09fc5",
||||||| 6a30bf1
   "id": "d2d5d669",
=======
   "id": "a007eeac",
>>>>>>> documentation-devel
=======
   "id": "e2657f96",
>>>>>>> c74c98c2450c2a1ba922ed9442f136238d6bc88b
=======
   "id": "007bd874",
>>>>>>> 035bb2637984ead2784fecff78c0c60cc4181202
||||||| 3effdfa5
   "id": "3f261ada",
=======
   "id": "7caab70a",
>>>>>>> documentation-devel
||||||| 96c826da
<<<<<<< HEAD
<<<<<<< HEAD
<<<<<<< HEAD
<<<<<<< HEAD
<<<<<<< HEAD
   "id": "32e09fc5",
||||||| 6a30bf1
   "id": "d2d5d669",
=======
   "id": "a007eeac",
>>>>>>> documentation-devel
||||||| d28b18c
   "id": "a007eeac",
=======
   "id": "4f015c92",
>>>>>>> documentation-devel
||||||| 6893f63
<<<<<<< HEAD
   "id": "32e09fc5",
||||||| 6a30bf1
   "id": "d2d5d669",
=======
   "id": "a007eeac",
>>>>>>> documentation-devel
=======
   "id": "e2657f96",
>>>>>>> c74c98c2450c2a1ba922ed9442f136238d6bc88b
||||||| 6d93b645
   "id": "4f015c92",
=======
   "id": "3f261ada",
>>>>>>> documentation-devel
||||||| 804edffb
<<<<<<< HEAD
<<<<<<< HEAD
<<<<<<< HEAD
   "id": "32e09fc5",
||||||| 6a30bf1
   "id": "d2d5d669",
=======
   "id": "a007eeac",
>>>>>>> documentation-devel
||||||| d28b18c
   "id": "a007eeac",
=======
   "id": "4f015c92",
>>>>>>> documentation-devel
||||||| 6893f63
<<<<<<< HEAD
   "id": "32e09fc5",
||||||| 6a30bf1
   "id": "d2d5d669",
=======
   "id": "a007eeac",
>>>>>>> documentation-devel
=======
   "id": "e2657f96",
>>>>>>> c74c98c2450c2a1ba922ed9442f136238d6bc88b
=======
   "id": "007bd874",
>>>>>>> 035bb2637984ead2784fecff78c0c60cc4181202
=======
   "id": "cb0b89c7",
>>>>>>> 619c01f26351d57ac14d974b7af136ac5756103f
   "metadata": {
    "lines_to_next_cell": 0
   },
   "source": [
    "The `pointsize` argument adjusts the point size in `scattermore`. The default is 0, meaning single pixels, but since the cells in the sparse region are hard to see that way, we increase `pointsize`. We would still plot the polygons in larger single panel plots, but use `scattermore` in multi-panel plots where the polygons in each panel are invisible anyway due to the small size to save some time."
   ]
  },
  {
   "cell_type": "code",
   "execution_count": null,
<<<<<<< HEAD
<<<<<<< HEAD
<<<<<<< HEAD
<<<<<<< HEAD
<<<<<<< HEAD
<<<<<<< HEAD
<<<<<<< HEAD
   "id": "29b99013",
||||||| 6a30bf1
   "id": "490adffc",
=======
   "id": "7b8fead5",
>>>>>>> documentation-devel
||||||| d28b18c
   "id": "7b8fead5",
=======
   "id": "960009ab",
>>>>>>> documentation-devel
||||||| 6893f63
<<<<<<< HEAD
   "id": "29b99013",
||||||| 6a30bf1
   "id": "490adffc",
=======
   "id": "7b8fead5",
>>>>>>> documentation-devel
=======
   "id": "46b6007a",
>>>>>>> c74c98c2450c2a1ba922ed9442f136238d6bc88b
||||||| 6d93b645
   "id": "960009ab",
=======
   "id": "3cf59d98",
>>>>>>> documentation-devel
||||||| 804edffb
<<<<<<< HEAD
<<<<<<< HEAD
<<<<<<< HEAD
   "id": "29b99013",
||||||| 6a30bf1
   "id": "490adffc",
=======
   "id": "7b8fead5",
>>>>>>> documentation-devel
||||||| d28b18c
   "id": "7b8fead5",
=======
   "id": "960009ab",
>>>>>>> documentation-devel
||||||| 6893f63
<<<<<<< HEAD
   "id": "29b99013",
||||||| 6a30bf1
   "id": "490adffc",
=======
   "id": "7b8fead5",
>>>>>>> documentation-devel
=======
   "id": "46b6007a",
>>>>>>> c74c98c2450c2a1ba922ed9442f136238d6bc88b
=======
   "id": "f4d05e38",
>>>>>>> 035bb2637984ead2784fecff78c0c60cc4181202
||||||| 3effdfa5
   "id": "3cf59d98",
=======
   "id": "d79ed0dc",
>>>>>>> documentation-devel
||||||| 96c826da
<<<<<<< HEAD
<<<<<<< HEAD
<<<<<<< HEAD
<<<<<<< HEAD
<<<<<<< HEAD
   "id": "29b99013",
||||||| 6a30bf1
   "id": "490adffc",
=======
   "id": "7b8fead5",
>>>>>>> documentation-devel
||||||| d28b18c
   "id": "7b8fead5",
=======
   "id": "960009ab",
>>>>>>> documentation-devel
||||||| 6893f63
<<<<<<< HEAD
   "id": "29b99013",
||||||| 6a30bf1
   "id": "490adffc",
=======
   "id": "7b8fead5",
>>>>>>> documentation-devel
=======
   "id": "46b6007a",
>>>>>>> c74c98c2450c2a1ba922ed9442f136238d6bc88b
||||||| 6d93b645
   "id": "960009ab",
=======
   "id": "3cf59d98",
>>>>>>> documentation-devel
||||||| 804edffb
<<<<<<< HEAD
<<<<<<< HEAD
<<<<<<< HEAD
   "id": "29b99013",
||||||| 6a30bf1
   "id": "490adffc",
=======
   "id": "7b8fead5",
>>>>>>> documentation-devel
||||||| d28b18c
   "id": "7b8fead5",
=======
   "id": "960009ab",
>>>>>>> documentation-devel
||||||| 6893f63
<<<<<<< HEAD
   "id": "29b99013",
||||||| 6a30bf1
   "id": "490adffc",
=======
   "id": "7b8fead5",
>>>>>>> documentation-devel
=======
   "id": "46b6007a",
>>>>>>> c74c98c2450c2a1ba922ed9442f136238d6bc88b
=======
   "id": "f4d05e38",
>>>>>>> 035bb2637984ead2784fecff78c0c60cc4181202
=======
   "id": "47c27ed5",
>>>>>>> 619c01f26351d57ac14d974b7af136ac5756103f
   "metadata": {
    "fig.height": 6,
    "fig.width": 9
   },
   "outputs": [],
   "source": [
    "plotLocalResult(sfe, \"localmoran\",\n",
    "                features = c(\"nCounts\", \"nGenes\", \"cell_area\", \"nucleus_area\"),\n",
    "                colGeometryName = \"centroids\", scattermore = TRUE,\n",
    "                divergent = TRUE, diverge_center = 0, pointsize = 1)"
   ]
  },
  {
   "cell_type": "markdown",
<<<<<<< HEAD
<<<<<<< HEAD
<<<<<<< HEAD
<<<<<<< HEAD
<<<<<<< HEAD
<<<<<<< HEAD
<<<<<<< HEAD
   "id": "f5d20ed2",
||||||| 6a30bf1
   "id": "1a49a806",
=======
   "id": "669c2865",
>>>>>>> documentation-devel
||||||| d28b18c
   "id": "669c2865",
=======
   "id": "890daca9",
>>>>>>> documentation-devel
||||||| 6893f63
<<<<<<< HEAD
   "id": "f5d20ed2",
||||||| 6a30bf1
   "id": "1a49a806",
=======
   "id": "669c2865",
>>>>>>> documentation-devel
=======
   "id": "bfa4c702",
>>>>>>> c74c98c2450c2a1ba922ed9442f136238d6bc88b
||||||| 6d93b645
   "id": "890daca9",
=======
   "id": "062b412d",
>>>>>>> documentation-devel
||||||| 804edffb
<<<<<<< HEAD
<<<<<<< HEAD
<<<<<<< HEAD
   "id": "f5d20ed2",
||||||| 6a30bf1
   "id": "1a49a806",
=======
   "id": "669c2865",
>>>>>>> documentation-devel
||||||| d28b18c
   "id": "669c2865",
=======
   "id": "890daca9",
>>>>>>> documentation-devel
||||||| 6893f63
<<<<<<< HEAD
   "id": "f5d20ed2",
||||||| 6a30bf1
   "id": "1a49a806",
=======
   "id": "669c2865",
>>>>>>> documentation-devel
=======
   "id": "bfa4c702",
>>>>>>> c74c98c2450c2a1ba922ed9442f136238d6bc88b
=======
   "id": "0d0581ab",
>>>>>>> 035bb2637984ead2784fecff78c0c60cc4181202
||||||| 3effdfa5
   "id": "062b412d",
=======
   "id": "cfdc003b",
>>>>>>> documentation-devel
||||||| 96c826da
<<<<<<< HEAD
<<<<<<< HEAD
<<<<<<< HEAD
<<<<<<< HEAD
<<<<<<< HEAD
   "id": "f5d20ed2",
||||||| 6a30bf1
   "id": "1a49a806",
=======
   "id": "669c2865",
>>>>>>> documentation-devel
||||||| d28b18c
   "id": "669c2865",
=======
   "id": "890daca9",
>>>>>>> documentation-devel
||||||| 6893f63
<<<<<<< HEAD
   "id": "f5d20ed2",
||||||| 6a30bf1
   "id": "1a49a806",
=======
   "id": "669c2865",
>>>>>>> documentation-devel
=======
   "id": "bfa4c702",
>>>>>>> c74c98c2450c2a1ba922ed9442f136238d6bc88b
||||||| 6d93b645
   "id": "890daca9",
=======
   "id": "062b412d",
>>>>>>> documentation-devel
||||||| 804edffb
<<<<<<< HEAD
<<<<<<< HEAD
<<<<<<< HEAD
   "id": "f5d20ed2",
||||||| 6a30bf1
   "id": "1a49a806",
=======
   "id": "669c2865",
>>>>>>> documentation-devel
||||||| d28b18c
   "id": "669c2865",
=======
   "id": "890daca9",
>>>>>>> documentation-devel
||||||| 6893f63
<<<<<<< HEAD
   "id": "f5d20ed2",
||||||| 6a30bf1
   "id": "1a49a806",
=======
   "id": "669c2865",
>>>>>>> documentation-devel
=======
   "id": "bfa4c702",
>>>>>>> c74c98c2450c2a1ba922ed9442f136238d6bc88b
=======
   "id": "0d0581ab",
>>>>>>> 035bb2637984ead2784fecff78c0c60cc4181202
=======
   "id": "d60ac7a6",
>>>>>>> 619c01f26351d57ac14d974b7af136ac5756103f
   "metadata": {
    "lines_to_next_cell": 0
   },
   "source": [
    "Interestingly, nCounts is more homogeneous in the interior of the dense region, while nGenes is more homogeneous by the edge of the dense region. As expected, cell area is more homogeneous in the sparse region. However, the nucleus area is more homogeneous in the interior of the dense region. \n",
    "\n",
    "Moran plot for nCounts"
   ]
  },
  {
   "cell_type": "code",
   "execution_count": null,
<<<<<<< HEAD
<<<<<<< HEAD
<<<<<<< HEAD
<<<<<<< HEAD
<<<<<<< HEAD
<<<<<<< HEAD
<<<<<<< HEAD
   "id": "8fa2276a",
||||||| 6a30bf1
   "id": "eb3e9d8b",
=======
   "id": "2179f48e",
>>>>>>> documentation-devel
||||||| d28b18c
   "id": "2179f48e",
=======
   "id": "7db98709",
>>>>>>> documentation-devel
||||||| 6893f63
<<<<<<< HEAD
   "id": "8fa2276a",
||||||| 6a30bf1
   "id": "eb3e9d8b",
=======
   "id": "2179f48e",
>>>>>>> documentation-devel
=======
   "id": "37c0eb34",
>>>>>>> c74c98c2450c2a1ba922ed9442f136238d6bc88b
||||||| 6d93b645
   "id": "7db98709",
=======
   "id": "5ab79f70",
>>>>>>> documentation-devel
||||||| 804edffb
<<<<<<< HEAD
<<<<<<< HEAD
<<<<<<< HEAD
   "id": "8fa2276a",
||||||| 6a30bf1
   "id": "eb3e9d8b",
=======
   "id": "2179f48e",
>>>>>>> documentation-devel
||||||| d28b18c
   "id": "2179f48e",
=======
   "id": "7db98709",
>>>>>>> documentation-devel
||||||| 6893f63
<<<<<<< HEAD
   "id": "8fa2276a",
||||||| 6a30bf1
   "id": "eb3e9d8b",
=======
   "id": "2179f48e",
>>>>>>> documentation-devel
=======
   "id": "37c0eb34",
>>>>>>> c74c98c2450c2a1ba922ed9442f136238d6bc88b
=======
   "id": "9f108375",
>>>>>>> 035bb2637984ead2784fecff78c0c60cc4181202
||||||| 3effdfa5
   "id": "5ab79f70",
=======
   "id": "45257acf",
>>>>>>> documentation-devel
||||||| 96c826da
<<<<<<< HEAD
<<<<<<< HEAD
<<<<<<< HEAD
<<<<<<< HEAD
<<<<<<< HEAD
   "id": "8fa2276a",
||||||| 6a30bf1
   "id": "eb3e9d8b",
=======
   "id": "2179f48e",
>>>>>>> documentation-devel
||||||| d28b18c
   "id": "2179f48e",
=======
   "id": "7db98709",
>>>>>>> documentation-devel
||||||| 6893f63
<<<<<<< HEAD
   "id": "8fa2276a",
||||||| 6a30bf1
   "id": "eb3e9d8b",
=======
   "id": "2179f48e",
>>>>>>> documentation-devel
=======
   "id": "37c0eb34",
>>>>>>> c74c98c2450c2a1ba922ed9442f136238d6bc88b
||||||| 6d93b645
   "id": "7db98709",
=======
   "id": "5ab79f70",
>>>>>>> documentation-devel
||||||| 804edffb
<<<<<<< HEAD
<<<<<<< HEAD
<<<<<<< HEAD
   "id": "8fa2276a",
||||||| 6a30bf1
   "id": "eb3e9d8b",
=======
   "id": "2179f48e",
>>>>>>> documentation-devel
||||||| d28b18c
   "id": "2179f48e",
=======
   "id": "7db98709",
>>>>>>> documentation-devel
||||||| 6893f63
<<<<<<< HEAD
   "id": "8fa2276a",
||||||| 6a30bf1
   "id": "eb3e9d8b",
=======
   "id": "2179f48e",
>>>>>>> documentation-devel
=======
   "id": "37c0eb34",
>>>>>>> c74c98c2450c2a1ba922ed9442f136238d6bc88b
=======
   "id": "9f108375",
>>>>>>> 035bb2637984ead2784fecff78c0c60cc4181202
=======
   "id": "418ae3bf",
>>>>>>> 619c01f26351d57ac14d974b7af136ac5756103f
   "metadata": {},
   "outputs": [],
   "source": [
    "sfe <- colDataUnivariate(sfe, \"moran.plot\", \"nCounts\", colGraphName = \"knn5\")"
   ]
  },
  {
   "cell_type": "code",
   "execution_count": null,
<<<<<<< HEAD
<<<<<<< HEAD
<<<<<<< HEAD
<<<<<<< HEAD
<<<<<<< HEAD
<<<<<<< HEAD
<<<<<<< HEAD
   "id": "0de58531",
||||||| 6a30bf1
   "id": "1ae62dee",
=======
   "id": "a129a611",
>>>>>>> documentation-devel
||||||| d28b18c
   "id": "a129a611",
=======
   "id": "d9f0ac37",
>>>>>>> documentation-devel
||||||| 6893f63
<<<<<<< HEAD
   "id": "0de58531",
||||||| 6a30bf1
   "id": "1ae62dee",
=======
   "id": "a129a611",
>>>>>>> documentation-devel
=======
   "id": "aa69ebe5",
>>>>>>> c74c98c2450c2a1ba922ed9442f136238d6bc88b
||||||| 6d93b645
   "id": "d9f0ac37",
=======
   "id": "036b8a70",
>>>>>>> documentation-devel
||||||| 804edffb
<<<<<<< HEAD
<<<<<<< HEAD
<<<<<<< HEAD
   "id": "0de58531",
||||||| 6a30bf1
   "id": "1ae62dee",
=======
   "id": "a129a611",
>>>>>>> documentation-devel
||||||| d28b18c
   "id": "a129a611",
=======
   "id": "d9f0ac37",
>>>>>>> documentation-devel
||||||| 6893f63
<<<<<<< HEAD
   "id": "0de58531",
||||||| 6a30bf1
   "id": "1ae62dee",
=======
   "id": "a129a611",
>>>>>>> documentation-devel
=======
   "id": "aa69ebe5",
>>>>>>> c74c98c2450c2a1ba922ed9442f136238d6bc88b
=======
   "id": "fad90180",
>>>>>>> 035bb2637984ead2784fecff78c0c60cc4181202
||||||| 3effdfa5
   "id": "036b8a70",
=======
   "id": "ae75e6ac",
>>>>>>> documentation-devel
||||||| 96c826da
<<<<<<< HEAD
<<<<<<< HEAD
<<<<<<< HEAD
<<<<<<< HEAD
<<<<<<< HEAD
   "id": "0de58531",
||||||| 6a30bf1
   "id": "1ae62dee",
=======
   "id": "a129a611",
>>>>>>> documentation-devel
||||||| d28b18c
   "id": "a129a611",
=======
   "id": "d9f0ac37",
>>>>>>> documentation-devel
||||||| 6893f63
<<<<<<< HEAD
   "id": "0de58531",
||||||| 6a30bf1
   "id": "1ae62dee",
=======
   "id": "a129a611",
>>>>>>> documentation-devel
=======
   "id": "aa69ebe5",
>>>>>>> c74c98c2450c2a1ba922ed9442f136238d6bc88b
||||||| 6d93b645
   "id": "d9f0ac37",
=======
   "id": "036b8a70",
>>>>>>> documentation-devel
||||||| 804edffb
<<<<<<< HEAD
<<<<<<< HEAD
<<<<<<< HEAD
   "id": "0de58531",
||||||| 6a30bf1
   "id": "1ae62dee",
=======
   "id": "a129a611",
>>>>>>> documentation-devel
||||||| d28b18c
   "id": "a129a611",
=======
   "id": "d9f0ac37",
>>>>>>> documentation-devel
||||||| 6893f63
<<<<<<< HEAD
   "id": "0de58531",
||||||| 6a30bf1
   "id": "1ae62dee",
=======
   "id": "a129a611",
>>>>>>> documentation-devel
=======
   "id": "aa69ebe5",
>>>>>>> c74c98c2450c2a1ba922ed9442f136238d6bc88b
=======
   "id": "fad90180",
>>>>>>> 035bb2637984ead2784fecff78c0c60cc4181202
=======
   "id": "f90c4d5d",
>>>>>>> 619c01f26351d57ac14d974b7af136ac5756103f
   "metadata": {
    "fig.height": 7,
    "fig.width": 8
   },
   "outputs": [],
   "source": [
    "p1 <- moranPlot(sfe, \"nCounts\", binned = TRUE, plot_influential = FALSE) \n",
    "p2 <- moranPlot(sfe, \"nCounts\", binned = TRUE)\n",
    "p1 / p2 + plot_layout(guides = \"collect\")"
   ]
  },
  {
   "cell_type": "markdown",
<<<<<<< HEAD
<<<<<<< HEAD
<<<<<<< HEAD
<<<<<<< HEAD
<<<<<<< HEAD
<<<<<<< HEAD
<<<<<<< HEAD
   "id": "9d1980c7",
||||||| 6a30bf1
   "id": "d50cf07f",
=======
   "id": "9ee209ea",
>>>>>>> documentation-devel
||||||| d28b18c
   "id": "9ee209ea",
=======
   "id": "596bdcd3",
>>>>>>> documentation-devel
||||||| 6893f63
<<<<<<< HEAD
   "id": "9d1980c7",
||||||| 6a30bf1
   "id": "d50cf07f",
=======
   "id": "9ee209ea",
>>>>>>> documentation-devel
=======
   "id": "94d09071",
>>>>>>> c74c98c2450c2a1ba922ed9442f136238d6bc88b
||||||| 6d93b645
   "id": "596bdcd3",
=======
   "id": "9e2af445",
>>>>>>> documentation-devel
||||||| 804edffb
<<<<<<< HEAD
<<<<<<< HEAD
<<<<<<< HEAD
   "id": "9d1980c7",
||||||| 6a30bf1
   "id": "d50cf07f",
=======
   "id": "9ee209ea",
>>>>>>> documentation-devel
||||||| d28b18c
   "id": "9ee209ea",
=======
   "id": "596bdcd3",
>>>>>>> documentation-devel
||||||| 6893f63
<<<<<<< HEAD
   "id": "9d1980c7",
||||||| 6a30bf1
   "id": "d50cf07f",
=======
   "id": "9ee209ea",
>>>>>>> documentation-devel
=======
   "id": "94d09071",
>>>>>>> c74c98c2450c2a1ba922ed9442f136238d6bc88b
=======
   "id": "efc425fe",
>>>>>>> 035bb2637984ead2784fecff78c0c60cc4181202
||||||| 3effdfa5
   "id": "9e2af445",
=======
   "id": "9d55344f",
>>>>>>> documentation-devel
||||||| 96c826da
<<<<<<< HEAD
<<<<<<< HEAD
<<<<<<< HEAD
<<<<<<< HEAD
<<<<<<< HEAD
   "id": "9d1980c7",
||||||| 6a30bf1
   "id": "d50cf07f",
=======
   "id": "9ee209ea",
>>>>>>> documentation-devel
||||||| d28b18c
   "id": "9ee209ea",
=======
   "id": "596bdcd3",
>>>>>>> documentation-devel
||||||| 6893f63
<<<<<<< HEAD
   "id": "9d1980c7",
||||||| 6a30bf1
   "id": "d50cf07f",
=======
   "id": "9ee209ea",
>>>>>>> documentation-devel
=======
   "id": "94d09071",
>>>>>>> c74c98c2450c2a1ba922ed9442f136238d6bc88b
||||||| 6d93b645
   "id": "596bdcd3",
=======
   "id": "9e2af445",
>>>>>>> documentation-devel
||||||| 804edffb
<<<<<<< HEAD
<<<<<<< HEAD
<<<<<<< HEAD
   "id": "9d1980c7",
||||||| 6a30bf1
   "id": "d50cf07f",
=======
   "id": "9ee209ea",
>>>>>>> documentation-devel
||||||| d28b18c
   "id": "9ee209ea",
=======
   "id": "596bdcd3",
>>>>>>> documentation-devel
||||||| 6893f63
<<<<<<< HEAD
   "id": "9d1980c7",
||||||| 6a30bf1
   "id": "d50cf07f",
=======
   "id": "9ee209ea",
>>>>>>> documentation-devel
=======
   "id": "94d09071",
>>>>>>> c74c98c2450c2a1ba922ed9442f136238d6bc88b
=======
   "id": "efc425fe",
>>>>>>> 035bb2637984ead2784fecff78c0c60cc4181202
=======
   "id": "685b3598",
>>>>>>> 619c01f26351d57ac14d974b7af136ac5756103f
   "metadata": {},
   "source": [
    "There are no obvious clusters here. In the lower panel, the 2D histogram of influential points is plotted in red.\n",
    "\n",
    "# Moran's I\n",
    "\n",
    "By default, for gene expression, the log normalized counts are used in spatial autocorrelation metrics, so before running Moran's I, we normalize the data."
   ]
  },
  {
   "cell_type": "code",
   "execution_count": null,
<<<<<<< HEAD
<<<<<<< HEAD
<<<<<<< HEAD
<<<<<<< HEAD
<<<<<<< HEAD
<<<<<<< HEAD
<<<<<<< HEAD
   "id": "b9db58cb",
||||||| 6a30bf1
   "id": "ebb89948",
=======
   "id": "ac9a45a9",
>>>>>>> documentation-devel
||||||| d28b18c
   "id": "ac9a45a9",
=======
   "id": "f94b2684",
>>>>>>> documentation-devel
||||||| 6893f63
<<<<<<< HEAD
   "id": "b9db58cb",
||||||| 6a30bf1
   "id": "ebb89948",
=======
   "id": "ac9a45a9",
>>>>>>> documentation-devel
=======
   "id": "dd592653",
>>>>>>> c74c98c2450c2a1ba922ed9442f136238d6bc88b
||||||| 6d93b645
   "id": "f94b2684",
=======
   "id": "959f1d1b",
>>>>>>> documentation-devel
||||||| 804edffb
<<<<<<< HEAD
<<<<<<< HEAD
<<<<<<< HEAD
   "id": "b9db58cb",
||||||| 6a30bf1
   "id": "ebb89948",
=======
   "id": "ac9a45a9",
>>>>>>> documentation-devel
||||||| d28b18c
   "id": "ac9a45a9",
=======
   "id": "f94b2684",
>>>>>>> documentation-devel
||||||| 6893f63
<<<<<<< HEAD
   "id": "b9db58cb",
||||||| 6a30bf1
   "id": "ebb89948",
=======
   "id": "ac9a45a9",
>>>>>>> documentation-devel
=======
   "id": "dd592653",
>>>>>>> c74c98c2450c2a1ba922ed9442f136238d6bc88b
=======
   "id": "4a49c94d",
>>>>>>> 035bb2637984ead2784fecff78c0c60cc4181202
||||||| 3effdfa5
   "id": "959f1d1b",
=======
   "id": "87caf33e",
>>>>>>> documentation-devel
||||||| 96c826da
<<<<<<< HEAD
<<<<<<< HEAD
<<<<<<< HEAD
<<<<<<< HEAD
<<<<<<< HEAD
   "id": "b9db58cb",
||||||| 6a30bf1
   "id": "ebb89948",
=======
   "id": "ac9a45a9",
>>>>>>> documentation-devel
||||||| d28b18c
   "id": "ac9a45a9",
=======
   "id": "f94b2684",
>>>>>>> documentation-devel
||||||| 6893f63
<<<<<<< HEAD
   "id": "b9db58cb",
||||||| 6a30bf1
   "id": "ebb89948",
=======
   "id": "ac9a45a9",
>>>>>>> documentation-devel
=======
   "id": "dd592653",
>>>>>>> c74c98c2450c2a1ba922ed9442f136238d6bc88b
||||||| 6d93b645
   "id": "f94b2684",
=======
   "id": "959f1d1b",
>>>>>>> documentation-devel
||||||| 804edffb
<<<<<<< HEAD
<<<<<<< HEAD
<<<<<<< HEAD
   "id": "b9db58cb",
||||||| 6a30bf1
   "id": "ebb89948",
=======
   "id": "ac9a45a9",
>>>>>>> documentation-devel
||||||| d28b18c
   "id": "ac9a45a9",
=======
   "id": "f94b2684",
>>>>>>> documentation-devel
||||||| 6893f63
<<<<<<< HEAD
   "id": "b9db58cb",
||||||| 6a30bf1
   "id": "ebb89948",
=======
   "id": "ac9a45a9",
>>>>>>> documentation-devel
=======
   "id": "dd592653",
>>>>>>> c74c98c2450c2a1ba922ed9442f136238d6bc88b
=======
   "id": "4a49c94d",
>>>>>>> 035bb2637984ead2784fecff78c0c60cc4181202
=======
   "id": "bf92600a",
>>>>>>> 619c01f26351d57ac14d974b7af136ac5756103f
   "metadata": {},
   "outputs": [],
   "source": [
    "sfe <- logNormCounts(sfe)"
   ]
  },
  {
   "cell_type": "markdown",
<<<<<<< HEAD
<<<<<<< HEAD
<<<<<<< HEAD
<<<<<<< HEAD
<<<<<<< HEAD
<<<<<<< HEAD
<<<<<<< HEAD
   "id": "066a3ab5",
||||||| 6a30bf1
   "id": "069723ea",
=======
   "id": "c93f1882",
>>>>>>> documentation-devel
||||||| d28b18c
   "id": "c93f1882",
=======
   "id": "37cc15a9",
>>>>>>> documentation-devel
||||||| 6893f63
<<<<<<< HEAD
   "id": "066a3ab5",
||||||| 6a30bf1
   "id": "069723ea",
=======
   "id": "c93f1882",
>>>>>>> documentation-devel
=======
   "id": "648dc214",
>>>>>>> c74c98c2450c2a1ba922ed9442f136238d6bc88b
||||||| 6d93b645
   "id": "37cc15a9",
=======
   "id": "f032bbb6",
>>>>>>> documentation-devel
||||||| 804edffb
<<<<<<< HEAD
<<<<<<< HEAD
<<<<<<< HEAD
   "id": "066a3ab5",
||||||| 6a30bf1
   "id": "069723ea",
=======
   "id": "c93f1882",
>>>>>>> documentation-devel
||||||| d28b18c
   "id": "c93f1882",
=======
   "id": "37cc15a9",
>>>>>>> documentation-devel
||||||| 6893f63
<<<<<<< HEAD
   "id": "066a3ab5",
||||||| 6a30bf1
   "id": "069723ea",
=======
   "id": "c93f1882",
>>>>>>> documentation-devel
=======
   "id": "648dc214",
>>>>>>> c74c98c2450c2a1ba922ed9442f136238d6bc88b
=======
   "id": "a1295125",
>>>>>>> 035bb2637984ead2784fecff78c0c60cc4181202
||||||| 3effdfa5
   "id": "f032bbb6",
=======
   "id": "dc1f515f",
>>>>>>> documentation-devel
||||||| 96c826da
<<<<<<< HEAD
<<<<<<< HEAD
<<<<<<< HEAD
<<<<<<< HEAD
<<<<<<< HEAD
   "id": "066a3ab5",
||||||| 6a30bf1
   "id": "069723ea",
=======
   "id": "c93f1882",
>>>>>>> documentation-devel
||||||| d28b18c
   "id": "c93f1882",
=======
   "id": "37cc15a9",
>>>>>>> documentation-devel
||||||| 6893f63
<<<<<<< HEAD
   "id": "066a3ab5",
||||||| 6a30bf1
   "id": "069723ea",
=======
   "id": "c93f1882",
>>>>>>> documentation-devel
=======
   "id": "648dc214",
>>>>>>> c74c98c2450c2a1ba922ed9442f136238d6bc88b
||||||| 6d93b645
   "id": "37cc15a9",
=======
   "id": "f032bbb6",
>>>>>>> documentation-devel
||||||| 804edffb
<<<<<<< HEAD
<<<<<<< HEAD
<<<<<<< HEAD
   "id": "066a3ab5",
||||||| 6a30bf1
   "id": "069723ea",
=======
   "id": "c93f1882",
>>>>>>> documentation-devel
||||||| d28b18c
   "id": "c93f1882",
=======
   "id": "37cc15a9",
>>>>>>> documentation-devel
||||||| 6893f63
<<<<<<< HEAD
   "id": "066a3ab5",
||||||| 6a30bf1
   "id": "069723ea",
=======
   "id": "c93f1882",
>>>>>>> documentation-devel
=======
   "id": "648dc214",
>>>>>>> c74c98c2450c2a1ba922ed9442f136238d6bc88b
=======
   "id": "a1295125",
>>>>>>> 035bb2637984ead2784fecff78c0c60cc4181202
=======
   "id": "66c1f41e",
>>>>>>> 619c01f26351d57ac14d974b7af136ac5756103f
   "metadata": {
    "lines_to_next_cell": 0
   },
   "source": [
    "Use more cores if available to speed this up."
   ]
  },
  {
   "cell_type": "code",
   "execution_count": null,
<<<<<<< HEAD
<<<<<<< HEAD
<<<<<<< HEAD
<<<<<<< HEAD
<<<<<<< HEAD
<<<<<<< HEAD
<<<<<<< HEAD
   "id": "90a43eb3",
||||||| 6a30bf1
   "id": "1d7770db",
=======
   "id": "f6a54c92",
>>>>>>> documentation-devel
||||||| d28b18c
   "id": "f6a54c92",
=======
   "id": "3340c86c",
>>>>>>> documentation-devel
||||||| 6893f63
<<<<<<< HEAD
   "id": "90a43eb3",
||||||| 6a30bf1
   "id": "1d7770db",
=======
   "id": "f6a54c92",
>>>>>>> documentation-devel
=======
   "id": "4367e719",
>>>>>>> c74c98c2450c2a1ba922ed9442f136238d6bc88b
||||||| 6d93b645
   "id": "3340c86c",
=======
   "id": "8661d9c6",
>>>>>>> documentation-devel
||||||| 804edffb
<<<<<<< HEAD
<<<<<<< HEAD
<<<<<<< HEAD
   "id": "90a43eb3",
||||||| 6a30bf1
   "id": "1d7770db",
=======
   "id": "f6a54c92",
>>>>>>> documentation-devel
||||||| d28b18c
   "id": "f6a54c92",
=======
   "id": "3340c86c",
>>>>>>> documentation-devel
||||||| 6893f63
<<<<<<< HEAD
   "id": "90a43eb3",
||||||| 6a30bf1
   "id": "1d7770db",
=======
   "id": "f6a54c92",
>>>>>>> documentation-devel
=======
   "id": "4367e719",
>>>>>>> c74c98c2450c2a1ba922ed9442f136238d6bc88b
=======
   "id": "9a48388d",
>>>>>>> 035bb2637984ead2784fecff78c0c60cc4181202
||||||| 3effdfa5
   "id": "8661d9c6",
=======
   "id": "7bd3bb43",
>>>>>>> documentation-devel
||||||| 96c826da
<<<<<<< HEAD
<<<<<<< HEAD
<<<<<<< HEAD
<<<<<<< HEAD
<<<<<<< HEAD
   "id": "90a43eb3",
||||||| 6a30bf1
   "id": "1d7770db",
=======
   "id": "f6a54c92",
>>>>>>> documentation-devel
||||||| d28b18c
   "id": "f6a54c92",
=======
   "id": "3340c86c",
>>>>>>> documentation-devel
||||||| 6893f63
<<<<<<< HEAD
   "id": "90a43eb3",
||||||| 6a30bf1
   "id": "1d7770db",
=======
   "id": "f6a54c92",
>>>>>>> documentation-devel
=======
   "id": "4367e719",
>>>>>>> c74c98c2450c2a1ba922ed9442f136238d6bc88b
||||||| 6d93b645
   "id": "3340c86c",
=======
   "id": "8661d9c6",
>>>>>>> documentation-devel
||||||| 804edffb
<<<<<<< HEAD
<<<<<<< HEAD
<<<<<<< HEAD
   "id": "90a43eb3",
||||||| 6a30bf1
   "id": "1d7770db",
=======
   "id": "f6a54c92",
>>>>>>> documentation-devel
||||||| d28b18c
   "id": "f6a54c92",
=======
   "id": "3340c86c",
>>>>>>> documentation-devel
||||||| 6893f63
<<<<<<< HEAD
   "id": "90a43eb3",
||||||| 6a30bf1
   "id": "1d7770db",
=======
   "id": "f6a54c92",
>>>>>>> documentation-devel
=======
   "id": "4367e719",
>>>>>>> c74c98c2450c2a1ba922ed9442f136238d6bc88b
=======
   "id": "9a48388d",
>>>>>>> 035bb2637984ead2784fecff78c0c60cc4181202
=======
   "id": "3acd97da",
>>>>>>> 619c01f26351d57ac14d974b7af136ac5756103f
   "metadata": {},
   "outputs": [],
   "source": [
    "system.time(\n",
    "    sfe <- runMoransI(sfe, colGraphName = \"knn5\", BPPARAM = MulticoreParam(2))\n",
    ")"
   ]
  },
  {
   "cell_type": "code",
   "execution_count": null,
<<<<<<< HEAD
<<<<<<< HEAD
<<<<<<< HEAD
<<<<<<< HEAD
<<<<<<< HEAD
<<<<<<< HEAD
<<<<<<< HEAD
   "id": "e29d73a1",
||||||| 6a30bf1
   "id": "64a570f0",
=======
   "id": "a565589a",
>>>>>>> documentation-devel
||||||| d28b18c
   "id": "a565589a",
=======
   "id": "86688cf1",
>>>>>>> documentation-devel
||||||| 6893f63
<<<<<<< HEAD
   "id": "e29d73a1",
||||||| 6a30bf1
   "id": "64a570f0",
=======
   "id": "a565589a",
>>>>>>> documentation-devel
=======
   "id": "5f73ec4b",
>>>>>>> c74c98c2450c2a1ba922ed9442f136238d6bc88b
||||||| 6d93b645
   "id": "86688cf1",
=======
   "id": "c87ce92d",
>>>>>>> documentation-devel
||||||| 804edffb
<<<<<<< HEAD
<<<<<<< HEAD
<<<<<<< HEAD
   "id": "e29d73a1",
||||||| 6a30bf1
   "id": "64a570f0",
=======
   "id": "a565589a",
>>>>>>> documentation-devel
||||||| d28b18c
   "id": "a565589a",
=======
   "id": "86688cf1",
>>>>>>> documentation-devel
||||||| 6893f63
<<<<<<< HEAD
   "id": "e29d73a1",
||||||| 6a30bf1
   "id": "64a570f0",
=======
   "id": "a565589a",
>>>>>>> documentation-devel
=======
   "id": "5f73ec4b",
>>>>>>> c74c98c2450c2a1ba922ed9442f136238d6bc88b
=======
   "id": "3e0c9a71",
>>>>>>> 035bb2637984ead2784fecff78c0c60cc4181202
||||||| 3effdfa5
   "id": "c87ce92d",
=======
   "id": "f2132a4f",
>>>>>>> documentation-devel
||||||| 96c826da
<<<<<<< HEAD
<<<<<<< HEAD
<<<<<<< HEAD
<<<<<<< HEAD
<<<<<<< HEAD
   "id": "e29d73a1",
||||||| 6a30bf1
   "id": "64a570f0",
=======
   "id": "a565589a",
>>>>>>> documentation-devel
||||||| d28b18c
   "id": "a565589a",
=======
   "id": "86688cf1",
>>>>>>> documentation-devel
||||||| 6893f63
<<<<<<< HEAD
   "id": "e29d73a1",
||||||| 6a30bf1
   "id": "64a570f0",
=======
   "id": "a565589a",
>>>>>>> documentation-devel
=======
   "id": "5f73ec4b",
>>>>>>> c74c98c2450c2a1ba922ed9442f136238d6bc88b
||||||| 6d93b645
   "id": "86688cf1",
=======
   "id": "c87ce92d",
>>>>>>> documentation-devel
||||||| 804edffb
<<<<<<< HEAD
<<<<<<< HEAD
<<<<<<< HEAD
   "id": "e29d73a1",
||||||| 6a30bf1
   "id": "64a570f0",
=======
   "id": "a565589a",
>>>>>>> documentation-devel
||||||| d28b18c
   "id": "a565589a",
=======
   "id": "86688cf1",
>>>>>>> documentation-devel
||||||| 6893f63
<<<<<<< HEAD
   "id": "e29d73a1",
||||||| 6a30bf1
   "id": "64a570f0",
=======
   "id": "a565589a",
>>>>>>> documentation-devel
=======
   "id": "5f73ec4b",
>>>>>>> c74c98c2450c2a1ba922ed9442f136238d6bc88b
=======
   "id": "3e0c9a71",
>>>>>>> 035bb2637984ead2784fecff78c0c60cc4181202
=======
   "id": "9d9c5e18",
>>>>>>> 619c01f26351d57ac14d974b7af136ac5756103f
   "metadata": {},
   "outputs": [],
   "source": [
    "rowData(sfe)$is_neg <- is_any_neg"
   ]
  },
  {
   "cell_type": "code",
   "execution_count": null,
<<<<<<< HEAD
<<<<<<< HEAD
<<<<<<< HEAD
<<<<<<< HEAD
<<<<<<< HEAD
<<<<<<< HEAD
<<<<<<< HEAD
   "id": "ddeaffdb",
||||||| 6a30bf1
   "id": "a2ac816e",
=======
   "id": "45c2dfa8",
>>>>>>> documentation-devel
||||||| d28b18c
   "id": "45c2dfa8",
=======
   "id": "43d528e4",
>>>>>>> documentation-devel
||||||| 6893f63
<<<<<<< HEAD
   "id": "ddeaffdb",
||||||| 6a30bf1
   "id": "a2ac816e",
=======
   "id": "45c2dfa8",
>>>>>>> documentation-devel
=======
   "id": "d4110e18",
>>>>>>> c74c98c2450c2a1ba922ed9442f136238d6bc88b
||||||| 6d93b645
   "id": "43d528e4",
=======
   "id": "cbb969a3",
>>>>>>> documentation-devel
||||||| 804edffb
<<<<<<< HEAD
<<<<<<< HEAD
<<<<<<< HEAD
   "id": "ddeaffdb",
||||||| 6a30bf1
   "id": "a2ac816e",
=======
   "id": "45c2dfa8",
>>>>>>> documentation-devel
||||||| d28b18c
   "id": "45c2dfa8",
=======
   "id": "43d528e4",
>>>>>>> documentation-devel
||||||| 6893f63
<<<<<<< HEAD
   "id": "ddeaffdb",
||||||| 6a30bf1
   "id": "a2ac816e",
=======
   "id": "45c2dfa8",
>>>>>>> documentation-devel
=======
   "id": "d4110e18",
>>>>>>> c74c98c2450c2a1ba922ed9442f136238d6bc88b
=======
   "id": "080a7349",
>>>>>>> 035bb2637984ead2784fecff78c0c60cc4181202
||||||| 3effdfa5
   "id": "cbb969a3",
=======
   "id": "ed639bd6",
>>>>>>> documentation-devel
||||||| 96c826da
<<<<<<< HEAD
<<<<<<< HEAD
<<<<<<< HEAD
<<<<<<< HEAD
<<<<<<< HEAD
   "id": "ddeaffdb",
||||||| 6a30bf1
   "id": "a2ac816e",
=======
   "id": "45c2dfa8",
>>>>>>> documentation-devel
||||||| d28b18c
   "id": "45c2dfa8",
=======
   "id": "43d528e4",
>>>>>>> documentation-devel
||||||| 6893f63
<<<<<<< HEAD
   "id": "ddeaffdb",
||||||| 6a30bf1
   "id": "a2ac816e",
=======
   "id": "45c2dfa8",
>>>>>>> documentation-devel
=======
   "id": "d4110e18",
>>>>>>> c74c98c2450c2a1ba922ed9442f136238d6bc88b
||||||| 6d93b645
   "id": "43d528e4",
=======
   "id": "cbb969a3",
>>>>>>> documentation-devel
||||||| 804edffb
<<<<<<< HEAD
<<<<<<< HEAD
<<<<<<< HEAD
   "id": "ddeaffdb",
||||||| 6a30bf1
   "id": "a2ac816e",
=======
   "id": "45c2dfa8",
>>>>>>> documentation-devel
||||||| d28b18c
   "id": "45c2dfa8",
=======
   "id": "43d528e4",
>>>>>>> documentation-devel
||||||| 6893f63
<<<<<<< HEAD
   "id": "ddeaffdb",
||||||| 6a30bf1
   "id": "a2ac816e",
=======
   "id": "45c2dfa8",
>>>>>>> documentation-devel
=======
   "id": "d4110e18",
>>>>>>> c74c98c2450c2a1ba922ed9442f136238d6bc88b
=======
   "id": "080a7349",
>>>>>>> 035bb2637984ead2784fecff78c0c60cc4181202
=======
   "id": "df51140b",
>>>>>>> 619c01f26351d57ac14d974b7af136ac5756103f
   "metadata": {},
   "outputs": [],
   "source": [
    "plotRowData(sfe, x = \"moran_sample01\", y = \"is_neg\")"
   ]
  },
  {
   "cell_type": "markdown",
<<<<<<< HEAD
<<<<<<< HEAD
<<<<<<< HEAD
<<<<<<< HEAD
<<<<<<< HEAD
<<<<<<< HEAD
<<<<<<< HEAD
   "id": "e700a7ff",
||||||| 6a30bf1
   "id": "a8a12301",
=======
   "id": "dac04d31",
>>>>>>> documentation-devel
||||||| d28b18c
   "id": "dac04d31",
=======
   "id": "38e4ca96",
>>>>>>> documentation-devel
||||||| 6893f63
<<<<<<< HEAD
   "id": "e700a7ff",
||||||| 6a30bf1
   "id": "a8a12301",
=======
   "id": "dac04d31",
>>>>>>> documentation-devel
=======
   "id": "4b4506e7",
>>>>>>> c74c98c2450c2a1ba922ed9442f136238d6bc88b
||||||| 6d93b645
   "id": "38e4ca96",
=======
   "id": "2687ba1b",
>>>>>>> documentation-devel
||||||| 804edffb
<<<<<<< HEAD
<<<<<<< HEAD
<<<<<<< HEAD
   "id": "e700a7ff",
||||||| 6a30bf1
   "id": "a8a12301",
=======
   "id": "dac04d31",
>>>>>>> documentation-devel
||||||| d28b18c
   "id": "dac04d31",
=======
   "id": "38e4ca96",
>>>>>>> documentation-devel
||||||| 6893f63
<<<<<<< HEAD
   "id": "e700a7ff",
||||||| 6a30bf1
   "id": "a8a12301",
=======
   "id": "dac04d31",
>>>>>>> documentation-devel
=======
   "id": "4b4506e7",
>>>>>>> c74c98c2450c2a1ba922ed9442f136238d6bc88b
=======
   "id": "a20cd706",
>>>>>>> 035bb2637984ead2784fecff78c0c60cc4181202
||||||| 3effdfa5
   "id": "2687ba1b",
=======
   "id": "18b81bfa",
>>>>>>> documentation-devel
||||||| 96c826da
<<<<<<< HEAD
<<<<<<< HEAD
<<<<<<< HEAD
<<<<<<< HEAD
<<<<<<< HEAD
   "id": "e700a7ff",
||||||| 6a30bf1
   "id": "a8a12301",
=======
   "id": "dac04d31",
>>>>>>> documentation-devel
||||||| d28b18c
   "id": "dac04d31",
=======
   "id": "38e4ca96",
>>>>>>> documentation-devel
||||||| 6893f63
<<<<<<< HEAD
   "id": "e700a7ff",
||||||| 6a30bf1
   "id": "a8a12301",
=======
   "id": "dac04d31",
>>>>>>> documentation-devel
=======
   "id": "4b4506e7",
>>>>>>> c74c98c2450c2a1ba922ed9442f136238d6bc88b
||||||| 6d93b645
   "id": "38e4ca96",
=======
   "id": "2687ba1b",
>>>>>>> documentation-devel
||||||| 804edffb
<<<<<<< HEAD
<<<<<<< HEAD
<<<<<<< HEAD
   "id": "e700a7ff",
||||||| 6a30bf1
   "id": "a8a12301",
=======
   "id": "dac04d31",
>>>>>>> documentation-devel
||||||| d28b18c
   "id": "dac04d31",
=======
   "id": "38e4ca96",
>>>>>>> documentation-devel
||||||| 6893f63
<<<<<<< HEAD
   "id": "e700a7ff",
||||||| 6a30bf1
   "id": "a8a12301",
=======
   "id": "dac04d31",
>>>>>>> documentation-devel
=======
   "id": "4b4506e7",
>>>>>>> c74c98c2450c2a1ba922ed9442f136238d6bc88b
=======
   "id": "a20cd706",
>>>>>>> 035bb2637984ead2784fecff78c0c60cc4181202
=======
   "id": "ea276a19",
>>>>>>> 619c01f26351d57ac14d974b7af136ac5756103f
   "metadata": {
    "lines_to_next_cell": 0
   },
   "source": [
    "As expected, generally the negative controls are tightly clustered around 0, while the real genes have positive Moran's I, which means there is generally no technical artifact spatial trend. No significantly negative Moran's I is observed. Why is negative spatial autocorrelation so rare in gene expression?\n",
    "\n",
    "What are the two negative controls with a sizable Moran's I?"
   ]
  },
  {
   "cell_type": "code",
   "execution_count": null,
<<<<<<< HEAD
<<<<<<< HEAD
<<<<<<< HEAD
<<<<<<< HEAD
<<<<<<< HEAD
<<<<<<< HEAD
<<<<<<< HEAD
   "id": "2c660ee9",
||||||| 6a30bf1
   "id": "50db5bef",
=======
   "id": "4cc1ca0f",
>>>>>>> documentation-devel
||||||| d28b18c
   "id": "4cc1ca0f",
=======
   "id": "d772116c",
>>>>>>> documentation-devel
||||||| 6893f63
<<<<<<< HEAD
   "id": "2c660ee9",
||||||| 6a30bf1
   "id": "50db5bef",
=======
   "id": "4cc1ca0f",
>>>>>>> documentation-devel
=======
   "id": "94b59f97",
>>>>>>> c74c98c2450c2a1ba922ed9442f136238d6bc88b
||||||| 6d93b645
   "id": "d772116c",
=======
   "id": "f18a3539",
>>>>>>> documentation-devel
||||||| 804edffb
<<<<<<< HEAD
<<<<<<< HEAD
<<<<<<< HEAD
   "id": "2c660ee9",
||||||| 6a30bf1
   "id": "50db5bef",
=======
   "id": "4cc1ca0f",
>>>>>>> documentation-devel
||||||| d28b18c
   "id": "4cc1ca0f",
=======
   "id": "d772116c",
>>>>>>> documentation-devel
||||||| 6893f63
<<<<<<< HEAD
   "id": "2c660ee9",
||||||| 6a30bf1
   "id": "50db5bef",
=======
   "id": "4cc1ca0f",
>>>>>>> documentation-devel
=======
   "id": "94b59f97",
>>>>>>> c74c98c2450c2a1ba922ed9442f136238d6bc88b
=======
   "id": "7877ed84",
>>>>>>> 035bb2637984ead2784fecff78c0c60cc4181202
||||||| 3effdfa5
   "id": "f18a3539",
=======
   "id": "0cdf12c1",
>>>>>>> documentation-devel
||||||| 96c826da
<<<<<<< HEAD
<<<<<<< HEAD
<<<<<<< HEAD
<<<<<<< HEAD
<<<<<<< HEAD
   "id": "2c660ee9",
||||||| 6a30bf1
   "id": "50db5bef",
=======
   "id": "4cc1ca0f",
>>>>>>> documentation-devel
||||||| d28b18c
   "id": "4cc1ca0f",
=======
   "id": "d772116c",
>>>>>>> documentation-devel
||||||| 6893f63
<<<<<<< HEAD
   "id": "2c660ee9",
||||||| 6a30bf1
   "id": "50db5bef",
=======
   "id": "4cc1ca0f",
>>>>>>> documentation-devel
=======
   "id": "94b59f97",
>>>>>>> c74c98c2450c2a1ba922ed9442f136238d6bc88b
||||||| 6d93b645
   "id": "d772116c",
=======
   "id": "f18a3539",
>>>>>>> documentation-devel
||||||| 804edffb
<<<<<<< HEAD
<<<<<<< HEAD
<<<<<<< HEAD
   "id": "2c660ee9",
||||||| 6a30bf1
   "id": "50db5bef",
=======
   "id": "4cc1ca0f",
>>>>>>> documentation-devel
||||||| d28b18c
   "id": "4cc1ca0f",
=======
   "id": "d772116c",
>>>>>>> documentation-devel
||||||| 6893f63
<<<<<<< HEAD
   "id": "2c660ee9",
||||||| 6a30bf1
   "id": "50db5bef",
=======
   "id": "4cc1ca0f",
>>>>>>> documentation-devel
=======
   "id": "94b59f97",
>>>>>>> c74c98c2450c2a1ba922ed9442f136238d6bc88b
=======
   "id": "7877ed84",
>>>>>>> 035bb2637984ead2784fecff78c0c60cc4181202
=======
   "id": "9ecef8f3",
>>>>>>> 619c01f26351d57ac14d974b7af136ac5756103f
   "metadata": {
    "fig.height": 3,
    "fig.width": 9
   },
   "outputs": [],
   "source": [
    "ord <- order(rowData(sfe)$moran_sample01[is_any_neg], decreasing = TRUE)[1:2]\n",
    "top_neg <- rownames(sfe)[is_any_neg][ord]\n",
    "plotSpatialFeature(sfe, top_neg, colGeometryName = \"centroids\",\n",
    "                   scattermore = TRUE, pointsize = 1)"
   ]
  },
  {
   "cell_type": "markdown",
<<<<<<< HEAD
<<<<<<< HEAD
<<<<<<< HEAD
<<<<<<< HEAD
<<<<<<< HEAD
<<<<<<< HEAD
<<<<<<< HEAD
   "id": "a1a003a8",
||||||| 6a30bf1
   "id": "1cf8e302",
=======
   "id": "bc9e891a",
>>>>>>> documentation-devel
||||||| d28b18c
   "id": "bc9e891a",
=======
   "id": "9f270577",
>>>>>>> documentation-devel
||||||| 6893f63
<<<<<<< HEAD
   "id": "a1a003a8",
||||||| 6a30bf1
   "id": "1cf8e302",
=======
   "id": "bc9e891a",
>>>>>>> documentation-devel
=======
   "id": "b42012fd",
>>>>>>> c74c98c2450c2a1ba922ed9442f136238d6bc88b
||||||| 6d93b645
   "id": "9f270577",
=======
   "id": "19b055f7",
>>>>>>> documentation-devel
||||||| 804edffb
<<<<<<< HEAD
<<<<<<< HEAD
<<<<<<< HEAD
   "id": "a1a003a8",
||||||| 6a30bf1
   "id": "1cf8e302",
=======
   "id": "bc9e891a",
>>>>>>> documentation-devel
||||||| d28b18c
   "id": "bc9e891a",
=======
   "id": "9f270577",
>>>>>>> documentation-devel
||||||| 6893f63
<<<<<<< HEAD
   "id": "a1a003a8",
||||||| 6a30bf1
   "id": "1cf8e302",
=======
   "id": "bc9e891a",
>>>>>>> documentation-devel
=======
   "id": "b42012fd",
>>>>>>> c74c98c2450c2a1ba922ed9442f136238d6bc88b
=======
   "id": "239740d8",
>>>>>>> 035bb2637984ead2784fecff78c0c60cc4181202
||||||| 3effdfa5
   "id": "19b055f7",
=======
   "id": "cdc29e99",
>>>>>>> documentation-devel
||||||| 96c826da
<<<<<<< HEAD
<<<<<<< HEAD
<<<<<<< HEAD
<<<<<<< HEAD
<<<<<<< HEAD
   "id": "a1a003a8",
||||||| 6a30bf1
   "id": "1cf8e302",
=======
   "id": "bc9e891a",
>>>>>>> documentation-devel
||||||| d28b18c
   "id": "bc9e891a",
=======
   "id": "9f270577",
>>>>>>> documentation-devel
||||||| 6893f63
<<<<<<< HEAD
   "id": "a1a003a8",
||||||| 6a30bf1
   "id": "1cf8e302",
=======
   "id": "bc9e891a",
>>>>>>> documentation-devel
=======
   "id": "b42012fd",
>>>>>>> c74c98c2450c2a1ba922ed9442f136238d6bc88b
||||||| 6d93b645
   "id": "9f270577",
=======
   "id": "19b055f7",
>>>>>>> documentation-devel
||||||| 804edffb
<<<<<<< HEAD
<<<<<<< HEAD
<<<<<<< HEAD
   "id": "a1a003a8",
||||||| 6a30bf1
   "id": "1cf8e302",
=======
   "id": "bc9e891a",
>>>>>>> documentation-devel
||||||| d28b18c
   "id": "bc9e891a",
=======
   "id": "9f270577",
>>>>>>> documentation-devel
||||||| 6893f63
<<<<<<< HEAD
   "id": "a1a003a8",
||||||| 6a30bf1
   "id": "1cf8e302",
=======
   "id": "bc9e891a",
>>>>>>> documentation-devel
=======
   "id": "b42012fd",
>>>>>>> c74c98c2450c2a1ba922ed9442f136238d6bc88b
=======
   "id": "239740d8",
>>>>>>> 035bb2637984ead2784fecff78c0c60cc4181202
=======
   "id": "dbd8117f",
>>>>>>> 619c01f26351d57ac14d974b7af136ac5756103f
   "metadata": {
    "lines_to_next_cell": 0
   },
   "source": [
    "There is somewhat a spatial trend for that antisense probe, with more detected in the upper left. However, this might not significantly affect other results since there are at most 2 counts and at most about 1% of all counts in each cell. The negative control codeword has at most 1 count per cell and the cells with this negative control detected seem to be few and far between. \n",
    "\n",
    "These are the most detected negative controls, and the most detected one is also the one with the highest Moran's I among negative controls. However, the other negative control with higher Moran's I is not among the most detected."
   ]
  },
  {
   "cell_type": "code",
   "execution_count": null,
<<<<<<< HEAD
<<<<<<< HEAD
<<<<<<< HEAD
<<<<<<< HEAD
<<<<<<< HEAD
<<<<<<< HEAD
<<<<<<< HEAD
   "id": "924005af",
||||||| 6a30bf1
   "id": "0d3a3cc8",
=======
   "id": "2aa8eb32",
>>>>>>> documentation-devel
||||||| d28b18c
   "id": "2aa8eb32",
=======
   "id": "9bd9019b",
>>>>>>> documentation-devel
||||||| 6893f63
<<<<<<< HEAD
   "id": "924005af",
||||||| 6a30bf1
   "id": "0d3a3cc8",
=======
   "id": "2aa8eb32",
>>>>>>> documentation-devel
=======
   "id": "27293d3c",
>>>>>>> c74c98c2450c2a1ba922ed9442f136238d6bc88b
||||||| 6d93b645
   "id": "9bd9019b",
=======
   "id": "8261c936",
>>>>>>> documentation-devel
||||||| 804edffb
<<<<<<< HEAD
<<<<<<< HEAD
<<<<<<< HEAD
   "id": "924005af",
||||||| 6a30bf1
   "id": "0d3a3cc8",
=======
   "id": "2aa8eb32",
>>>>>>> documentation-devel
||||||| d28b18c
   "id": "2aa8eb32",
=======
   "id": "9bd9019b",
>>>>>>> documentation-devel
||||||| 6893f63
<<<<<<< HEAD
   "id": "924005af",
||||||| 6a30bf1
   "id": "0d3a3cc8",
=======
   "id": "2aa8eb32",
>>>>>>> documentation-devel
=======
   "id": "27293d3c",
>>>>>>> c74c98c2450c2a1ba922ed9442f136238d6bc88b
=======
   "id": "5678a76e",
>>>>>>> 035bb2637984ead2784fecff78c0c60cc4181202
||||||| 3effdfa5
   "id": "8261c936",
=======
   "id": "6473ec04",
>>>>>>> documentation-devel
||||||| 96c826da
<<<<<<< HEAD
<<<<<<< HEAD
<<<<<<< HEAD
<<<<<<< HEAD
<<<<<<< HEAD
   "id": "924005af",
||||||| 6a30bf1
   "id": "0d3a3cc8",
=======
   "id": "2aa8eb32",
>>>>>>> documentation-devel
||||||| d28b18c
   "id": "2aa8eb32",
=======
   "id": "9bd9019b",
>>>>>>> documentation-devel
||||||| 6893f63
<<<<<<< HEAD
   "id": "924005af",
||||||| 6a30bf1
   "id": "0d3a3cc8",
=======
   "id": "2aa8eb32",
>>>>>>> documentation-devel
=======
   "id": "27293d3c",
>>>>>>> c74c98c2450c2a1ba922ed9442f136238d6bc88b
||||||| 6d93b645
   "id": "9bd9019b",
=======
   "id": "8261c936",
>>>>>>> documentation-devel
||||||| 804edffb
<<<<<<< HEAD
<<<<<<< HEAD
<<<<<<< HEAD
   "id": "924005af",
||||||| 6a30bf1
   "id": "0d3a3cc8",
=======
   "id": "2aa8eb32",
>>>>>>> documentation-devel
||||||| d28b18c
   "id": "2aa8eb32",
=======
   "id": "9bd9019b",
>>>>>>> documentation-devel
||||||| 6893f63
<<<<<<< HEAD
   "id": "924005af",
||||||| 6a30bf1
   "id": "0d3a3cc8",
=======
   "id": "2aa8eb32",
>>>>>>> documentation-devel
=======
   "id": "27293d3c",
>>>>>>> c74c98c2450c2a1ba922ed9442f136238d6bc88b
=======
   "id": "5678a76e",
>>>>>>> 035bb2637984ead2784fecff78c0c60cc4181202
=======
   "id": "2a742ccd",
>>>>>>> 619c01f26351d57ac14d974b7af136ac5756103f
   "metadata": {},
   "outputs": [],
   "source": [
    "head(sort(rowData(sfe)$means[is_any_neg], decreasing = TRUE), 15)"
   ]
  },
  {
   "cell_type": "markdown",
<<<<<<< HEAD
<<<<<<< HEAD
<<<<<<< HEAD
<<<<<<< HEAD
<<<<<<< HEAD
<<<<<<< HEAD
<<<<<<< HEAD
   "id": "88bc2b59",
||||||| 6a30bf1
   "id": "44f17d80",
=======
   "id": "3c1b1162",
>>>>>>> documentation-devel
||||||| d28b18c
   "id": "3c1b1162",
=======
   "id": "211b3977",
>>>>>>> documentation-devel
||||||| 6893f63
<<<<<<< HEAD
   "id": "88bc2b59",
||||||| 6a30bf1
   "id": "44f17d80",
=======
   "id": "3c1b1162",
>>>>>>> documentation-devel
=======
   "id": "95f23857",
>>>>>>> c74c98c2450c2a1ba922ed9442f136238d6bc88b
||||||| 6d93b645
   "id": "211b3977",
=======
   "id": "952b551d",
>>>>>>> documentation-devel
||||||| 804edffb
<<<<<<< HEAD
<<<<<<< HEAD
<<<<<<< HEAD
   "id": "88bc2b59",
||||||| 6a30bf1
   "id": "44f17d80",
=======
   "id": "3c1b1162",
>>>>>>> documentation-devel
||||||| d28b18c
   "id": "3c1b1162",
=======
   "id": "211b3977",
>>>>>>> documentation-devel
||||||| 6893f63
<<<<<<< HEAD
   "id": "88bc2b59",
||||||| 6a30bf1
   "id": "44f17d80",
=======
   "id": "3c1b1162",
>>>>>>> documentation-devel
=======
   "id": "95f23857",
>>>>>>> c74c98c2450c2a1ba922ed9442f136238d6bc88b
=======
   "id": "f951e363",
>>>>>>> 035bb2637984ead2784fecff78c0c60cc4181202
||||||| 3effdfa5
   "id": "952b551d",
=======
   "id": "8b049659",
>>>>>>> documentation-devel
||||||| 96c826da
<<<<<<< HEAD
<<<<<<< HEAD
<<<<<<< HEAD
<<<<<<< HEAD
<<<<<<< HEAD
   "id": "88bc2b59",
||||||| 6a30bf1
   "id": "44f17d80",
=======
   "id": "3c1b1162",
>>>>>>> documentation-devel
||||||| d28b18c
   "id": "3c1b1162",
=======
   "id": "211b3977",
>>>>>>> documentation-devel
||||||| 6893f63
<<<<<<< HEAD
   "id": "88bc2b59",
||||||| 6a30bf1
   "id": "44f17d80",
=======
   "id": "3c1b1162",
>>>>>>> documentation-devel
=======
   "id": "95f23857",
>>>>>>> c74c98c2450c2a1ba922ed9442f136238d6bc88b
||||||| 6d93b645
   "id": "211b3977",
=======
   "id": "952b551d",
>>>>>>> documentation-devel
||||||| 804edffb
<<<<<<< HEAD
<<<<<<< HEAD
<<<<<<< HEAD
   "id": "88bc2b59",
||||||| 6a30bf1
   "id": "44f17d80",
=======
   "id": "3c1b1162",
>>>>>>> documentation-devel
||||||| d28b18c
   "id": "3c1b1162",
=======
   "id": "211b3977",
>>>>>>> documentation-devel
||||||| 6893f63
<<<<<<< HEAD
   "id": "88bc2b59",
||||||| 6a30bf1
   "id": "44f17d80",
=======
   "id": "3c1b1162",
>>>>>>> documentation-devel
=======
   "id": "95f23857",
>>>>>>> c74c98c2450c2a1ba922ed9442f136238d6bc88b
=======
   "id": "f951e363",
>>>>>>> 035bb2637984ead2784fecff78c0c60cc4181202
=======
   "id": "c4ea3d87",
>>>>>>> 619c01f26351d57ac14d974b7af136ac5756103f
   "metadata": {
    "lines_to_next_cell": 0
   },
   "source": [
    "What are the genes with the highest Moran's I?"
   ]
  },
  {
   "cell_type": "code",
   "execution_count": null,
<<<<<<< HEAD
<<<<<<< HEAD
<<<<<<< HEAD
<<<<<<< HEAD
<<<<<<< HEAD
<<<<<<< HEAD
<<<<<<< HEAD
   "id": "f556f4ae",
||||||| 6a30bf1
   "id": "170457db",
=======
   "id": "3d552a94",
>>>>>>> documentation-devel
||||||| d28b18c
   "id": "3d552a94",
=======
   "id": "d043cadf",
>>>>>>> documentation-devel
||||||| 6893f63
<<<<<<< HEAD
   "id": "f556f4ae",
||||||| 6a30bf1
   "id": "170457db",
=======
   "id": "3d552a94",
>>>>>>> documentation-devel
=======
   "id": "d13c215b",
>>>>>>> c74c98c2450c2a1ba922ed9442f136238d6bc88b
||||||| 6d93b645
   "id": "d043cadf",
=======
   "id": "b63e9474",
>>>>>>> documentation-devel
||||||| 804edffb
<<<<<<< HEAD
<<<<<<< HEAD
<<<<<<< HEAD
   "id": "f556f4ae",
||||||| 6a30bf1
   "id": "170457db",
=======
   "id": "3d552a94",
>>>>>>> documentation-devel
||||||| d28b18c
   "id": "3d552a94",
=======
   "id": "d043cadf",
>>>>>>> documentation-devel
||||||| 6893f63
<<<<<<< HEAD
   "id": "f556f4ae",
||||||| 6a30bf1
   "id": "170457db",
=======
   "id": "3d552a94",
>>>>>>> documentation-devel
=======
   "id": "d13c215b",
>>>>>>> c74c98c2450c2a1ba922ed9442f136238d6bc88b
=======
   "id": "a52d601e",
>>>>>>> 035bb2637984ead2784fecff78c0c60cc4181202
||||||| 3effdfa5
   "id": "b63e9474",
=======
   "id": "edbe8c75",
>>>>>>> documentation-devel
||||||| 96c826da
<<<<<<< HEAD
<<<<<<< HEAD
<<<<<<< HEAD
<<<<<<< HEAD
<<<<<<< HEAD
   "id": "f556f4ae",
||||||| 6a30bf1
   "id": "170457db",
=======
   "id": "3d552a94",
>>>>>>> documentation-devel
||||||| d28b18c
   "id": "3d552a94",
=======
   "id": "d043cadf",
>>>>>>> documentation-devel
||||||| 6893f63
<<<<<<< HEAD
   "id": "f556f4ae",
||||||| 6a30bf1
   "id": "170457db",
=======
   "id": "3d552a94",
>>>>>>> documentation-devel
=======
   "id": "d13c215b",
>>>>>>> c74c98c2450c2a1ba922ed9442f136238d6bc88b
||||||| 6d93b645
   "id": "d043cadf",
=======
   "id": "b63e9474",
>>>>>>> documentation-devel
||||||| 804edffb
<<<<<<< HEAD
<<<<<<< HEAD
<<<<<<< HEAD
   "id": "f556f4ae",
||||||| 6a30bf1
   "id": "170457db",
=======
   "id": "3d552a94",
>>>>>>> documentation-devel
||||||| d28b18c
   "id": "3d552a94",
=======
   "id": "d043cadf",
>>>>>>> documentation-devel
||||||| 6893f63
<<<<<<< HEAD
   "id": "f556f4ae",
||||||| 6a30bf1
   "id": "170457db",
=======
   "id": "3d552a94",
>>>>>>> documentation-devel
=======
   "id": "d13c215b",
>>>>>>> c74c98c2450c2a1ba922ed9442f136238d6bc88b
=======
   "id": "a52d601e",
>>>>>>> 035bb2637984ead2784fecff78c0c60cc4181202
=======
   "id": "36eee7fb",
>>>>>>> 619c01f26351d57ac14d974b7af136ac5756103f
   "metadata": {
    "fig.height": 9,
    "fig.width": 9
   },
   "outputs": [],
   "source": [
    "top_moran <- rownames(sfe)[order(rowData(sfe)$moran_sample01, decreasing = TRUE)[1:6]]\n",
    "plotSpatialFeature(sfe, top_moran, colGeometryName = \"centroids\",\n",
    "                   scattermore = TRUE, ncol = 2, pointsize = 0.5)"
   ]
  },
  {
   "cell_type": "markdown",
<<<<<<< HEAD
<<<<<<< HEAD
<<<<<<< HEAD
<<<<<<< HEAD
<<<<<<< HEAD
<<<<<<< HEAD
<<<<<<< HEAD
   "id": "119fc15a",
||||||| 6a30bf1
   "id": "2f28aca9",
=======
   "id": "e3e6baa6",
>>>>>>> documentation-devel
||||||| d28b18c
   "id": "e3e6baa6",
=======
   "id": "d319ef9d",
>>>>>>> documentation-devel
||||||| 6893f63
<<<<<<< HEAD
   "id": "119fc15a",
||||||| 6a30bf1
   "id": "2f28aca9",
=======
   "id": "e3e6baa6",
>>>>>>> documentation-devel
=======
   "id": "fffc16ed",
>>>>>>> c74c98c2450c2a1ba922ed9442f136238d6bc88b
||||||| 6d93b645
   "id": "d319ef9d",
=======
   "id": "8f809461",
>>>>>>> documentation-devel
||||||| 804edffb
<<<<<<< HEAD
<<<<<<< HEAD
<<<<<<< HEAD
   "id": "119fc15a",
||||||| 6a30bf1
   "id": "2f28aca9",
=======
   "id": "e3e6baa6",
>>>>>>> documentation-devel
||||||| d28b18c
   "id": "e3e6baa6",
=======
   "id": "d319ef9d",
>>>>>>> documentation-devel
||||||| 6893f63
<<<<<<< HEAD
   "id": "119fc15a",
||||||| 6a30bf1
   "id": "2f28aca9",
=======
   "id": "e3e6baa6",
>>>>>>> documentation-devel
=======
   "id": "fffc16ed",
>>>>>>> c74c98c2450c2a1ba922ed9442f136238d6bc88b
=======
   "id": "3ce80571",
>>>>>>> 035bb2637984ead2784fecff78c0c60cc4181202
||||||| 3effdfa5
   "id": "8f809461",
=======
   "id": "5e9c7f40",
>>>>>>> documentation-devel
||||||| 96c826da
<<<<<<< HEAD
<<<<<<< HEAD
<<<<<<< HEAD
<<<<<<< HEAD
<<<<<<< HEAD
   "id": "119fc15a",
||||||| 6a30bf1
   "id": "2f28aca9",
=======
   "id": "e3e6baa6",
>>>>>>> documentation-devel
||||||| d28b18c
   "id": "e3e6baa6",
=======
   "id": "d319ef9d",
>>>>>>> documentation-devel
||||||| 6893f63
<<<<<<< HEAD
   "id": "119fc15a",
||||||| 6a30bf1
   "id": "2f28aca9",
=======
   "id": "e3e6baa6",
>>>>>>> documentation-devel
=======
   "id": "fffc16ed",
>>>>>>> c74c98c2450c2a1ba922ed9442f136238d6bc88b
||||||| 6d93b645
   "id": "d319ef9d",
=======
   "id": "8f809461",
>>>>>>> documentation-devel
||||||| 804edffb
<<<<<<< HEAD
<<<<<<< HEAD
<<<<<<< HEAD
   "id": "119fc15a",
||||||| 6a30bf1
   "id": "2f28aca9",
=======
   "id": "e3e6baa6",
>>>>>>> documentation-devel
||||||| d28b18c
   "id": "e3e6baa6",
=======
   "id": "d319ef9d",
>>>>>>> documentation-devel
||||||| 6893f63
<<<<<<< HEAD
   "id": "119fc15a",
||||||| 6a30bf1
   "id": "2f28aca9",
=======
   "id": "e3e6baa6",
>>>>>>> documentation-devel
=======
   "id": "fffc16ed",
>>>>>>> c74c98c2450c2a1ba922ed9442f136238d6bc88b
=======
   "id": "3ce80571",
>>>>>>> 035bb2637984ead2784fecff78c0c60cc4181202
=======
   "id": "26277bed",
>>>>>>> 619c01f26351d57ac14d974b7af136ac5756103f
   "metadata": {
    "lines_to_next_cell": 0
   },
   "source": [
    "They all highlight the same histological regions, as in the [CosMX vignette](https://pachterlab.github.io/voyager/articles/vig4_cosmx.html#morans-i). How does Moran's I relate to gene expression level?"
   ]
  },
  {
   "cell_type": "code",
   "execution_count": null,
<<<<<<< HEAD
<<<<<<< HEAD
<<<<<<< HEAD
<<<<<<< HEAD
<<<<<<< HEAD
<<<<<<< HEAD
<<<<<<< HEAD
   "id": "18eb6009",
||||||| 6a30bf1
   "id": "89cabefc",
=======
   "id": "ca365309",
>>>>>>> documentation-devel
||||||| d28b18c
   "id": "ca365309",
=======
   "id": "714c789a",
>>>>>>> documentation-devel
||||||| 6893f63
<<<<<<< HEAD
   "id": "18eb6009",
||||||| 6a30bf1
   "id": "89cabefc",
=======
   "id": "ca365309",
>>>>>>> documentation-devel
=======
   "id": "9f3de474",
>>>>>>> c74c98c2450c2a1ba922ed9442f136238d6bc88b
||||||| 6d93b645
   "id": "714c789a",
=======
   "id": "40408b46",
>>>>>>> documentation-devel
||||||| 804edffb
<<<<<<< HEAD
<<<<<<< HEAD
<<<<<<< HEAD
   "id": "18eb6009",
||||||| 6a30bf1
   "id": "89cabefc",
=======
   "id": "ca365309",
>>>>>>> documentation-devel
||||||| d28b18c
   "id": "ca365309",
=======
   "id": "714c789a",
>>>>>>> documentation-devel
||||||| 6893f63
<<<<<<< HEAD
   "id": "18eb6009",
||||||| 6a30bf1
   "id": "89cabefc",
=======
   "id": "ca365309",
>>>>>>> documentation-devel
=======
   "id": "9f3de474",
>>>>>>> c74c98c2450c2a1ba922ed9442f136238d6bc88b
=======
   "id": "153b18b9",
>>>>>>> 035bb2637984ead2784fecff78c0c60cc4181202
||||||| 3effdfa5
   "id": "40408b46",
=======
   "id": "969dc431",
>>>>>>> documentation-devel
||||||| 96c826da
<<<<<<< HEAD
<<<<<<< HEAD
<<<<<<< HEAD
<<<<<<< HEAD
<<<<<<< HEAD
   "id": "18eb6009",
||||||| 6a30bf1
   "id": "89cabefc",
=======
   "id": "ca365309",
>>>>>>> documentation-devel
||||||| d28b18c
   "id": "ca365309",
=======
   "id": "714c789a",
>>>>>>> documentation-devel
||||||| 6893f63
<<<<<<< HEAD
   "id": "18eb6009",
||||||| 6a30bf1
   "id": "89cabefc",
=======
   "id": "ca365309",
>>>>>>> documentation-devel
=======
   "id": "9f3de474",
>>>>>>> c74c98c2450c2a1ba922ed9442f136238d6bc88b
||||||| 6d93b645
   "id": "714c789a",
=======
   "id": "40408b46",
>>>>>>> documentation-devel
||||||| 804edffb
<<<<<<< HEAD
<<<<<<< HEAD
<<<<<<< HEAD
   "id": "18eb6009",
||||||| 6a30bf1
   "id": "89cabefc",
=======
   "id": "ca365309",
>>>>>>> documentation-devel
||||||| d28b18c
   "id": "ca365309",
=======
   "id": "714c789a",
>>>>>>> documentation-devel
||||||| 6893f63
<<<<<<< HEAD
   "id": "18eb6009",
||||||| 6a30bf1
   "id": "89cabefc",
=======
   "id": "ca365309",
>>>>>>> documentation-devel
=======
   "id": "9f3de474",
>>>>>>> c74c98c2450c2a1ba922ed9442f136238d6bc88b
=======
   "id": "153b18b9",
>>>>>>> 035bb2637984ead2784fecff78c0c60cc4181202
=======
   "id": "0778c081",
>>>>>>> 619c01f26351d57ac14d974b7af136ac5756103f
   "metadata": {},
   "outputs": [],
   "source": [
    "plotRowData(sfe, x = \"means\", y = \"moran_sample01\")"
   ]
  },
  {
   "cell_type": "markdown",
<<<<<<< HEAD
<<<<<<< HEAD
<<<<<<< HEAD
<<<<<<< HEAD
<<<<<<< HEAD
<<<<<<< HEAD
<<<<<<< HEAD
   "id": "8c05ec1b",
||||||| 6a30bf1
   "id": "21913ba1",
=======
   "id": "61e630e2",
>>>>>>> documentation-devel
||||||| d28b18c
   "id": "61e630e2",
=======
   "id": "454cf72b",
>>>>>>> documentation-devel
||||||| 6893f63
<<<<<<< HEAD
   "id": "8c05ec1b",
||||||| 6a30bf1
   "id": "21913ba1",
=======
   "id": "61e630e2",
>>>>>>> documentation-devel
=======
   "id": "78b4adc7",
>>>>>>> c74c98c2450c2a1ba922ed9442f136238d6bc88b
||||||| 6d93b645
   "id": "454cf72b",
=======
   "id": "e864c918",
>>>>>>> documentation-devel
||||||| 804edffb
<<<<<<< HEAD
<<<<<<< HEAD
<<<<<<< HEAD
   "id": "8c05ec1b",
||||||| 6a30bf1
   "id": "21913ba1",
=======
   "id": "61e630e2",
>>>>>>> documentation-devel
||||||| d28b18c
   "id": "61e630e2",
=======
   "id": "454cf72b",
>>>>>>> documentation-devel
||||||| 6893f63
<<<<<<< HEAD
   "id": "8c05ec1b",
||||||| 6a30bf1
   "id": "21913ba1",
=======
   "id": "61e630e2",
>>>>>>> documentation-devel
=======
   "id": "78b4adc7",
>>>>>>> c74c98c2450c2a1ba922ed9442f136238d6bc88b
=======
   "id": "6d562a86",
>>>>>>> 035bb2637984ead2784fecff78c0c60cc4181202
||||||| 3effdfa5
   "id": "e864c918",
=======
   "id": "49db148b",
>>>>>>> documentation-devel
||||||| 96c826da
<<<<<<< HEAD
<<<<<<< HEAD
<<<<<<< HEAD
<<<<<<< HEAD
<<<<<<< HEAD
   "id": "8c05ec1b",
||||||| 6a30bf1
   "id": "21913ba1",
=======
   "id": "61e630e2",
>>>>>>> documentation-devel
||||||| d28b18c
   "id": "61e630e2",
=======
   "id": "454cf72b",
>>>>>>> documentation-devel
||||||| 6893f63
<<<<<<< HEAD
   "id": "8c05ec1b",
||||||| 6a30bf1
   "id": "21913ba1",
=======
   "id": "61e630e2",
>>>>>>> documentation-devel
=======
   "id": "78b4adc7",
>>>>>>> c74c98c2450c2a1ba922ed9442f136238d6bc88b
||||||| 6d93b645
   "id": "454cf72b",
=======
   "id": "e864c918",
>>>>>>> documentation-devel
||||||| 804edffb
<<<<<<< HEAD
<<<<<<< HEAD
<<<<<<< HEAD
   "id": "8c05ec1b",
||||||| 6a30bf1
   "id": "21913ba1",
=======
   "id": "61e630e2",
>>>>>>> documentation-devel
||||||| d28b18c
   "id": "61e630e2",
=======
   "id": "454cf72b",
>>>>>>> documentation-devel
||||||| 6893f63
<<<<<<< HEAD
   "id": "8c05ec1b",
||||||| 6a30bf1
   "id": "21913ba1",
=======
   "id": "61e630e2",
>>>>>>> documentation-devel
=======
   "id": "78b4adc7",
>>>>>>> c74c98c2450c2a1ba922ed9442f136238d6bc88b
=======
   "id": "6d562a86",
>>>>>>> 035bb2637984ead2784fecff78c0c60cc4181202
=======
   "id": "456f898e",
>>>>>>> 619c01f26351d57ac14d974b7af136ac5756103f
   "metadata": {
    "lines_to_next_cell": 0
   },
   "source": [
    "Very highly expressed genes have higher Moran's I, but there are some less expressed genes with higher Moran's I as well.\n",
    "\n",
    "# Non-spatial dimension reduction and clustering\n",
    "\n",
    "Here we run non-spatial PCA as for scRNA-seq data"
   ]
  },
  {
   "cell_type": "code",
   "execution_count": null,
<<<<<<< HEAD
<<<<<<< HEAD
<<<<<<< HEAD
<<<<<<< HEAD
<<<<<<< HEAD
<<<<<<< HEAD
<<<<<<< HEAD
   "id": "e74b7d9d",
||||||| 6a30bf1
   "id": "62bdbd7f",
=======
   "id": "e29bb79e",
>>>>>>> documentation-devel
||||||| d28b18c
   "id": "e29bb79e",
=======
   "id": "c49b8df4",
>>>>>>> documentation-devel
||||||| 6893f63
<<<<<<< HEAD
   "id": "e74b7d9d",
||||||| 6a30bf1
   "id": "62bdbd7f",
=======
   "id": "e29bb79e",
>>>>>>> documentation-devel
=======
   "id": "bcc3bdac",
>>>>>>> c74c98c2450c2a1ba922ed9442f136238d6bc88b
||||||| 6d93b645
   "id": "c49b8df4",
=======
   "id": "5d1a708b",
>>>>>>> documentation-devel
||||||| 804edffb
<<<<<<< HEAD
<<<<<<< HEAD
<<<<<<< HEAD
   "id": "e74b7d9d",
||||||| 6a30bf1
   "id": "62bdbd7f",
=======
   "id": "e29bb79e",
>>>>>>> documentation-devel
||||||| d28b18c
   "id": "e29bb79e",
=======
   "id": "c49b8df4",
>>>>>>> documentation-devel
||||||| 6893f63
<<<<<<< HEAD
   "id": "e74b7d9d",
||||||| 6a30bf1
   "id": "62bdbd7f",
=======
   "id": "e29bb79e",
>>>>>>> documentation-devel
=======
   "id": "bcc3bdac",
>>>>>>> c74c98c2450c2a1ba922ed9442f136238d6bc88b
=======
   "id": "1d2c3acc",
>>>>>>> 035bb2637984ead2784fecff78c0c60cc4181202
||||||| 3effdfa5
   "id": "5d1a708b",
=======
   "id": "e50f77c1",
>>>>>>> documentation-devel
||||||| 96c826da
<<<<<<< HEAD
<<<<<<< HEAD
<<<<<<< HEAD
<<<<<<< HEAD
<<<<<<< HEAD
   "id": "e74b7d9d",
||||||| 6a30bf1
   "id": "62bdbd7f",
=======
   "id": "e29bb79e",
>>>>>>> documentation-devel
||||||| d28b18c
   "id": "e29bb79e",
=======
   "id": "c49b8df4",
>>>>>>> documentation-devel
||||||| 6893f63
<<<<<<< HEAD
   "id": "e74b7d9d",
||||||| 6a30bf1
   "id": "62bdbd7f",
=======
   "id": "e29bb79e",
>>>>>>> documentation-devel
=======
   "id": "bcc3bdac",
>>>>>>> c74c98c2450c2a1ba922ed9442f136238d6bc88b
||||||| 6d93b645
   "id": "c49b8df4",
=======
   "id": "5d1a708b",
>>>>>>> documentation-devel
||||||| 804edffb
<<<<<<< HEAD
<<<<<<< HEAD
<<<<<<< HEAD
   "id": "e74b7d9d",
||||||| 6a30bf1
   "id": "62bdbd7f",
=======
   "id": "e29bb79e",
>>>>>>> documentation-devel
||||||| d28b18c
   "id": "e29bb79e",
=======
   "id": "c49b8df4",
>>>>>>> documentation-devel
||||||| 6893f63
<<<<<<< HEAD
   "id": "e74b7d9d",
||||||| 6a30bf1
   "id": "62bdbd7f",
=======
   "id": "e29bb79e",
>>>>>>> documentation-devel
=======
   "id": "bcc3bdac",
>>>>>>> c74c98c2450c2a1ba922ed9442f136238d6bc88b
=======
   "id": "1d2c3acc",
>>>>>>> 035bb2637984ead2784fecff78c0c60cc4181202
=======
   "id": "79192c0b",
>>>>>>> 619c01f26351d57ac14d974b7af136ac5756103f
   "metadata": {},
   "outputs": [],
   "source": [
    "set.seed(29)\n",
    "sfe <- runPCA(sfe, ncomponents = 30, scale = TRUE, BSPARAM = IrlbaParam())"
   ]
  },
  {
   "cell_type": "code",
   "execution_count": null,
<<<<<<< HEAD
<<<<<<< HEAD
<<<<<<< HEAD
<<<<<<< HEAD
<<<<<<< HEAD
<<<<<<< HEAD
<<<<<<< HEAD
   "id": "f9f942b9",
||||||| 6a30bf1
   "id": "c92704b9",
=======
   "id": "6f01158e",
>>>>>>> documentation-devel
||||||| d28b18c
   "id": "6f01158e",
=======
   "id": "51b1dc29",
>>>>>>> documentation-devel
||||||| 6893f63
<<<<<<< HEAD
   "id": "f9f942b9",
||||||| 6a30bf1
   "id": "c92704b9",
=======
   "id": "6f01158e",
>>>>>>> documentation-devel
=======
   "id": "c967c648",
>>>>>>> c74c98c2450c2a1ba922ed9442f136238d6bc88b
||||||| 6d93b645
   "id": "51b1dc29",
=======
   "id": "3dee66af",
>>>>>>> documentation-devel
||||||| 804edffb
<<<<<<< HEAD
<<<<<<< HEAD
<<<<<<< HEAD
   "id": "f9f942b9",
||||||| 6a30bf1
   "id": "c92704b9",
=======
   "id": "6f01158e",
>>>>>>> documentation-devel
||||||| d28b18c
   "id": "6f01158e",
=======
   "id": "51b1dc29",
>>>>>>> documentation-devel
||||||| 6893f63
<<<<<<< HEAD
   "id": "f9f942b9",
||||||| 6a30bf1
   "id": "c92704b9",
=======
   "id": "6f01158e",
>>>>>>> documentation-devel
=======
   "id": "c967c648",
>>>>>>> c74c98c2450c2a1ba922ed9442f136238d6bc88b
=======
   "id": "1270a3d3",
>>>>>>> 035bb2637984ead2784fecff78c0c60cc4181202
||||||| 3effdfa5
   "id": "3dee66af",
=======
   "id": "5b95e615",
>>>>>>> documentation-devel
||||||| 96c826da
<<<<<<< HEAD
<<<<<<< HEAD
<<<<<<< HEAD
<<<<<<< HEAD
<<<<<<< HEAD
   "id": "f9f942b9",
||||||| 6a30bf1
   "id": "c92704b9",
=======
   "id": "6f01158e",
>>>>>>> documentation-devel
||||||| d28b18c
   "id": "6f01158e",
=======
   "id": "51b1dc29",
>>>>>>> documentation-devel
||||||| 6893f63
<<<<<<< HEAD
   "id": "f9f942b9",
||||||| 6a30bf1
   "id": "c92704b9",
=======
   "id": "6f01158e",
>>>>>>> documentation-devel
=======
   "id": "c967c648",
>>>>>>> c74c98c2450c2a1ba922ed9442f136238d6bc88b
||||||| 6d93b645
   "id": "51b1dc29",
=======
   "id": "3dee66af",
>>>>>>> documentation-devel
||||||| 804edffb
<<<<<<< HEAD
<<<<<<< HEAD
<<<<<<< HEAD
   "id": "f9f942b9",
||||||| 6a30bf1
   "id": "c92704b9",
=======
   "id": "6f01158e",
>>>>>>> documentation-devel
||||||| d28b18c
   "id": "6f01158e",
=======
   "id": "51b1dc29",
>>>>>>> documentation-devel
||||||| 6893f63
<<<<<<< HEAD
   "id": "f9f942b9",
||||||| 6a30bf1
   "id": "c92704b9",
=======
   "id": "6f01158e",
>>>>>>> documentation-devel
=======
   "id": "c967c648",
>>>>>>> c74c98c2450c2a1ba922ed9442f136238d6bc88b
=======
   "id": "1270a3d3",
>>>>>>> 035bb2637984ead2784fecff78c0c60cc4181202
=======
   "id": "a20aad58",
>>>>>>> 619c01f26351d57ac14d974b7af136ac5756103f
   "metadata": {},
   "outputs": [],
   "source": [
    "ElbowPlot(sfe, ndims = 30)"
   ]
  },
  {
   "cell_type": "code",
   "execution_count": null,
<<<<<<< HEAD
<<<<<<< HEAD
<<<<<<< HEAD
<<<<<<< HEAD
<<<<<<< HEAD
<<<<<<< HEAD
<<<<<<< HEAD
   "id": "000845a2",
||||||| 6a30bf1
   "id": "28afdcd4",
=======
   "id": "3a89ae13",
>>>>>>> documentation-devel
||||||| d28b18c
   "id": "3a89ae13",
=======
   "id": "b28663df",
>>>>>>> documentation-devel
||||||| 6893f63
<<<<<<< HEAD
   "id": "000845a2",
||||||| 6a30bf1
   "id": "28afdcd4",
=======
   "id": "3a89ae13",
>>>>>>> documentation-devel
=======
   "id": "e468f62c",
>>>>>>> c74c98c2450c2a1ba922ed9442f136238d6bc88b
||||||| 6d93b645
   "id": "b28663df",
=======
   "id": "999df981",
>>>>>>> documentation-devel
||||||| 804edffb
<<<<<<< HEAD
<<<<<<< HEAD
<<<<<<< HEAD
   "id": "000845a2",
||||||| 6a30bf1
   "id": "28afdcd4",
=======
   "id": "3a89ae13",
>>>>>>> documentation-devel
||||||| d28b18c
   "id": "3a89ae13",
=======
   "id": "b28663df",
>>>>>>> documentation-devel
||||||| 6893f63
<<<<<<< HEAD
   "id": "000845a2",
||||||| 6a30bf1
   "id": "28afdcd4",
=======
   "id": "3a89ae13",
>>>>>>> documentation-devel
=======
   "id": "e468f62c",
>>>>>>> c74c98c2450c2a1ba922ed9442f136238d6bc88b
=======
   "id": "242ab33f",
>>>>>>> 035bb2637984ead2784fecff78c0c60cc4181202
||||||| 3effdfa5
   "id": "999df981",
=======
   "id": "47dc405a",
>>>>>>> documentation-devel
||||||| 96c826da
<<<<<<< HEAD
<<<<<<< HEAD
<<<<<<< HEAD
<<<<<<< HEAD
<<<<<<< HEAD
   "id": "000845a2",
||||||| 6a30bf1
   "id": "28afdcd4",
=======
   "id": "3a89ae13",
>>>>>>> documentation-devel
||||||| d28b18c
   "id": "3a89ae13",
=======
   "id": "b28663df",
>>>>>>> documentation-devel
||||||| 6893f63
<<<<<<< HEAD
   "id": "000845a2",
||||||| 6a30bf1
   "id": "28afdcd4",
=======
   "id": "3a89ae13",
>>>>>>> documentation-devel
=======
   "id": "e468f62c",
>>>>>>> c74c98c2450c2a1ba922ed9442f136238d6bc88b
||||||| 6d93b645
   "id": "b28663df",
=======
   "id": "999df981",
>>>>>>> documentation-devel
||||||| 804edffb
<<<<<<< HEAD
<<<<<<< HEAD
<<<<<<< HEAD
   "id": "000845a2",
||||||| 6a30bf1
   "id": "28afdcd4",
=======
   "id": "3a89ae13",
>>>>>>> documentation-devel
||||||| d28b18c
   "id": "3a89ae13",
=======
   "id": "b28663df",
>>>>>>> documentation-devel
||||||| 6893f63
<<<<<<< HEAD
   "id": "000845a2",
||||||| 6a30bf1
   "id": "28afdcd4",
=======
   "id": "3a89ae13",
>>>>>>> documentation-devel
=======
   "id": "e468f62c",
>>>>>>> c74c98c2450c2a1ba922ed9442f136238d6bc88b
=======
   "id": "242ab33f",
>>>>>>> 035bb2637984ead2784fecff78c0c60cc4181202
=======
   "id": "ea9d65d6",
>>>>>>> 619c01f26351d57ac14d974b7af136ac5756103f
   "metadata": {},
   "outputs": [],
   "source": [
    "plotDimLoadings(sfe, dims = 1:6)"
   ]
  },
  {
   "cell_type": "code",
   "execution_count": null,
<<<<<<< HEAD
<<<<<<< HEAD
<<<<<<< HEAD
<<<<<<< HEAD
<<<<<<< HEAD
<<<<<<< HEAD
<<<<<<< HEAD
   "id": "0fe0bb43",
||||||| 6a30bf1
   "id": "be7258b5",
=======
   "id": "d9eccee5",
>>>>>>> documentation-devel
||||||| d28b18c
   "id": "d9eccee5",
=======
   "id": "c3dc264c",
>>>>>>> documentation-devel
||||||| 6893f63
<<<<<<< HEAD
   "id": "0fe0bb43",
||||||| 6a30bf1
   "id": "be7258b5",
=======
   "id": "d9eccee5",
>>>>>>> documentation-devel
=======
   "id": "ef315f47",
>>>>>>> c74c98c2450c2a1ba922ed9442f136238d6bc88b
||||||| 6d93b645
   "id": "c3dc264c",
=======
   "id": "72126043",
>>>>>>> documentation-devel
||||||| 804edffb
<<<<<<< HEAD
<<<<<<< HEAD
<<<<<<< HEAD
   "id": "0fe0bb43",
||||||| 6a30bf1
   "id": "be7258b5",
=======
   "id": "d9eccee5",
>>>>>>> documentation-devel
||||||| d28b18c
   "id": "d9eccee5",
=======
   "id": "c3dc264c",
>>>>>>> documentation-devel
||||||| 6893f63
<<<<<<< HEAD
   "id": "0fe0bb43",
||||||| 6a30bf1
   "id": "be7258b5",
=======
   "id": "d9eccee5",
>>>>>>> documentation-devel
=======
   "id": "ef315f47",
>>>>>>> c74c98c2450c2a1ba922ed9442f136238d6bc88b
=======
   "id": "dce10156",
>>>>>>> 035bb2637984ead2784fecff78c0c60cc4181202
||||||| 3effdfa5
   "id": "72126043",
=======
   "id": "0277615f",
>>>>>>> documentation-devel
||||||| 96c826da
<<<<<<< HEAD
<<<<<<< HEAD
<<<<<<< HEAD
<<<<<<< HEAD
<<<<<<< HEAD
   "id": "0fe0bb43",
||||||| 6a30bf1
   "id": "be7258b5",
=======
   "id": "d9eccee5",
>>>>>>> documentation-devel
||||||| d28b18c
   "id": "d9eccee5",
=======
   "id": "c3dc264c",
>>>>>>> documentation-devel
||||||| 6893f63
<<<<<<< HEAD
   "id": "0fe0bb43",
||||||| 6a30bf1
   "id": "be7258b5",
=======
   "id": "d9eccee5",
>>>>>>> documentation-devel
=======
   "id": "ef315f47",
>>>>>>> c74c98c2450c2a1ba922ed9442f136238d6bc88b
||||||| 6d93b645
   "id": "c3dc264c",
=======
   "id": "72126043",
>>>>>>> documentation-devel
||||||| 804edffb
<<<<<<< HEAD
<<<<<<< HEAD
<<<<<<< HEAD
   "id": "0fe0bb43",
||||||| 6a30bf1
   "id": "be7258b5",
=======
   "id": "d9eccee5",
>>>>>>> documentation-devel
||||||| d28b18c
   "id": "d9eccee5",
=======
   "id": "c3dc264c",
>>>>>>> documentation-devel
||||||| 6893f63
<<<<<<< HEAD
   "id": "0fe0bb43",
||||||| 6a30bf1
   "id": "be7258b5",
=======
   "id": "d9eccee5",
>>>>>>> documentation-devel
=======
   "id": "ef315f47",
>>>>>>> c74c98c2450c2a1ba922ed9442f136238d6bc88b
=======
   "id": "dce10156",
>>>>>>> 035bb2637984ead2784fecff78c0c60cc4181202
=======
   "id": "8d9bb691",
>>>>>>> 619c01f26351d57ac14d974b7af136ac5756103f
   "metadata": {
    "fig.height": 9,
    "fig.width": 9
   },
   "outputs": [],
   "source": [
    "spatialReducedDim(sfe, \"PCA\", 6, colGeometryName = \"centroids\", divergent = TRUE,\n",
    "                  diverge_center = 0, ncol = 2, scattermore = TRUE, pointsize = 0.5)"
   ]
  },
  {
   "cell_type": "markdown",
<<<<<<< HEAD
<<<<<<< HEAD
<<<<<<< HEAD
<<<<<<< HEAD
<<<<<<< HEAD
<<<<<<< HEAD
<<<<<<< HEAD
   "id": "f2ba640c",
||||||| 6a30bf1
   "id": "f1e0ce2e",
=======
   "id": "b7f16e0c",
>>>>>>> documentation-devel
||||||| d28b18c
   "id": "b7f16e0c",
=======
   "id": "76eb886b",
>>>>>>> documentation-devel
||||||| 6893f63
<<<<<<< HEAD
   "id": "f2ba640c",
||||||| 6a30bf1
   "id": "f1e0ce2e",
=======
   "id": "b7f16e0c",
>>>>>>> documentation-devel
=======
   "id": "773f85ec",
>>>>>>> c74c98c2450c2a1ba922ed9442f136238d6bc88b
||||||| 6d93b645
   "id": "76eb886b",
=======
   "id": "719fc6a4",
>>>>>>> documentation-devel
||||||| 804edffb
<<<<<<< HEAD
<<<<<<< HEAD
<<<<<<< HEAD
   "id": "f2ba640c",
||||||| 6a30bf1
   "id": "f1e0ce2e",
=======
   "id": "b7f16e0c",
>>>>>>> documentation-devel
||||||| d28b18c
   "id": "b7f16e0c",
=======
   "id": "76eb886b",
>>>>>>> documentation-devel
||||||| 6893f63
<<<<<<< HEAD
   "id": "f2ba640c",
||||||| 6a30bf1
   "id": "f1e0ce2e",
=======
   "id": "b7f16e0c",
>>>>>>> documentation-devel
=======
   "id": "773f85ec",
>>>>>>> c74c98c2450c2a1ba922ed9442f136238d6bc88b
=======
   "id": "c84706e6",
>>>>>>> 035bb2637984ead2784fecff78c0c60cc4181202
||||||| 3effdfa5
   "id": "719fc6a4",
=======
   "id": "4cbd2efe",
>>>>>>> documentation-devel
||||||| 96c826da
<<<<<<< HEAD
<<<<<<< HEAD
<<<<<<< HEAD
<<<<<<< HEAD
<<<<<<< HEAD
   "id": "f2ba640c",
||||||| 6a30bf1
   "id": "f1e0ce2e",
=======
   "id": "b7f16e0c",
>>>>>>> documentation-devel
||||||| d28b18c
   "id": "b7f16e0c",
=======
   "id": "76eb886b",
>>>>>>> documentation-devel
||||||| 6893f63
<<<<<<< HEAD
   "id": "f2ba640c",
||||||| 6a30bf1
   "id": "f1e0ce2e",
=======
   "id": "b7f16e0c",
>>>>>>> documentation-devel
=======
   "id": "773f85ec",
>>>>>>> c74c98c2450c2a1ba922ed9442f136238d6bc88b
||||||| 6d93b645
   "id": "76eb886b",
=======
   "id": "719fc6a4",
>>>>>>> documentation-devel
||||||| 804edffb
<<<<<<< HEAD
<<<<<<< HEAD
<<<<<<< HEAD
   "id": "f2ba640c",
||||||| 6a30bf1
   "id": "f1e0ce2e",
=======
   "id": "b7f16e0c",
>>>>>>> documentation-devel
||||||| d28b18c
   "id": "b7f16e0c",
=======
   "id": "76eb886b",
>>>>>>> documentation-devel
||||||| 6893f63
<<<<<<< HEAD
   "id": "f2ba640c",
||||||| 6a30bf1
   "id": "f1e0ce2e",
=======
   "id": "b7f16e0c",
>>>>>>> documentation-devel
=======
   "id": "773f85ec",
>>>>>>> c74c98c2450c2a1ba922ed9442f136238d6bc88b
=======
   "id": "c84706e6",
>>>>>>> 035bb2637984ead2784fecff78c0c60cc4181202
=======
   "id": "77f75954",
>>>>>>> 619c01f26351d57ac14d974b7af136ac5756103f
   "metadata": {
    "lines_to_next_cell": 0
   },
   "source": [
    "While spatial region is not explicitly used, the PC's highlight spatial regions due to spatial autocorrelation in gene expression and histological regions with different cell types.\n",
    "\n",
    "Non-spatial clustering and locating the clusters in space"
   ]
  },
  {
   "cell_type": "code",
   "execution_count": null,
<<<<<<< HEAD
<<<<<<< HEAD
<<<<<<< HEAD
<<<<<<< HEAD
<<<<<<< HEAD
<<<<<<< HEAD
<<<<<<< HEAD
   "id": "f200c564",
||||||| 6a30bf1
   "id": "e46fffbe",
=======
   "id": "328bb371",
>>>>>>> documentation-devel
||||||| d28b18c
   "id": "328bb371",
=======
   "id": "8b11a8c5",
>>>>>>> documentation-devel
||||||| 6893f63
<<<<<<< HEAD
   "id": "f200c564",
||||||| 6a30bf1
   "id": "e46fffbe",
=======
   "id": "328bb371",
>>>>>>> documentation-devel
=======
   "id": "df05eb75",
>>>>>>> c74c98c2450c2a1ba922ed9442f136238d6bc88b
||||||| 6d93b645
   "id": "8b11a8c5",
=======
   "id": "117ac31d",
>>>>>>> documentation-devel
||||||| 804edffb
<<<<<<< HEAD
<<<<<<< HEAD
<<<<<<< HEAD
   "id": "f200c564",
||||||| 6a30bf1
   "id": "e46fffbe",
=======
   "id": "328bb371",
>>>>>>> documentation-devel
||||||| d28b18c
   "id": "328bb371",
=======
   "id": "8b11a8c5",
>>>>>>> documentation-devel
||||||| 6893f63
<<<<<<< HEAD
   "id": "f200c564",
||||||| 6a30bf1
   "id": "e46fffbe",
=======
   "id": "328bb371",
>>>>>>> documentation-devel
=======
   "id": "df05eb75",
>>>>>>> c74c98c2450c2a1ba922ed9442f136238d6bc88b
=======
   "id": "0dad2cd0",
>>>>>>> 035bb2637984ead2784fecff78c0c60cc4181202
||||||| 3effdfa5
   "id": "117ac31d",
=======
   "id": "2e4e2036",
>>>>>>> documentation-devel
||||||| 96c826da
<<<<<<< HEAD
<<<<<<< HEAD
<<<<<<< HEAD
<<<<<<< HEAD
<<<<<<< HEAD
   "id": "f200c564",
||||||| 6a30bf1
   "id": "e46fffbe",
=======
   "id": "328bb371",
>>>>>>> documentation-devel
||||||| d28b18c
   "id": "328bb371",
=======
   "id": "8b11a8c5",
>>>>>>> documentation-devel
||||||| 6893f63
<<<<<<< HEAD
   "id": "f200c564",
||||||| 6a30bf1
   "id": "e46fffbe",
=======
   "id": "328bb371",
>>>>>>> documentation-devel
=======
   "id": "df05eb75",
>>>>>>> c74c98c2450c2a1ba922ed9442f136238d6bc88b
||||||| 6d93b645
   "id": "8b11a8c5",
=======
   "id": "117ac31d",
>>>>>>> documentation-devel
||||||| 804edffb
<<<<<<< HEAD
<<<<<<< HEAD
<<<<<<< HEAD
   "id": "f200c564",
||||||| 6a30bf1
   "id": "e46fffbe",
=======
   "id": "328bb371",
>>>>>>> documentation-devel
||||||| d28b18c
   "id": "328bb371",
=======
   "id": "8b11a8c5",
>>>>>>> documentation-devel
||||||| 6893f63
<<<<<<< HEAD
   "id": "f200c564",
||||||| 6a30bf1
   "id": "e46fffbe",
=======
   "id": "328bb371",
>>>>>>> documentation-devel
=======
   "id": "df05eb75",
>>>>>>> c74c98c2450c2a1ba922ed9442f136238d6bc88b
=======
   "id": "0dad2cd0",
>>>>>>> 035bb2637984ead2784fecff78c0c60cc4181202
=======
   "id": "9a93e8a5",
>>>>>>> 619c01f26351d57ac14d974b7af136ac5756103f
   "metadata": {},
   "outputs": [],
   "source": [
    "colData(sfe)$cluster <- clusterRows(reducedDim(sfe, \"PCA\")[,1:15],\n",
    "                                    BLUSPARAM = SNNGraphParam(\n",
    "                                        cluster.fun = \"leiden\",\n",
    "                                        cluster.args = list(\n",
    "                                            resolution_parameter = 0.5,\n",
    "                                            objective_function = \"modularity\")))"
   ]
  },
  {
   "cell_type": "markdown",
<<<<<<< HEAD
<<<<<<< HEAD
<<<<<<< HEAD
<<<<<<< HEAD
<<<<<<< HEAD
<<<<<<< HEAD
<<<<<<< HEAD
   "id": "23820cd1",
||||||| 6a30bf1
   "id": "712a0994",
=======
   "id": "f9dc8528",
>>>>>>> documentation-devel
||||||| d28b18c
   "id": "f9dc8528",
=======
   "id": "3ef29dfe",
>>>>>>> documentation-devel
||||||| 6893f63
<<<<<<< HEAD
   "id": "23820cd1",
||||||| 6a30bf1
   "id": "712a0994",
=======
   "id": "f9dc8528",
>>>>>>> documentation-devel
=======
   "id": "c4bf9dc5",
>>>>>>> c74c98c2450c2a1ba922ed9442f136238d6bc88b
||||||| 6d93b645
   "id": "3ef29dfe",
=======
   "id": "e7634f9d",
>>>>>>> documentation-devel
||||||| 804edffb
<<<<<<< HEAD
<<<<<<< HEAD
<<<<<<< HEAD
   "id": "23820cd1",
||||||| 6a30bf1
   "id": "712a0994",
=======
   "id": "f9dc8528",
>>>>>>> documentation-devel
||||||| d28b18c
   "id": "f9dc8528",
=======
   "id": "3ef29dfe",
>>>>>>> documentation-devel
||||||| 6893f63
<<<<<<< HEAD
   "id": "23820cd1",
||||||| 6a30bf1
   "id": "712a0994",
=======
   "id": "f9dc8528",
>>>>>>> documentation-devel
=======
   "id": "c4bf9dc5",
>>>>>>> c74c98c2450c2a1ba922ed9442f136238d6bc88b
=======
   "id": "0dae8f8b",
>>>>>>> 035bb2637984ead2784fecff78c0c60cc4181202
||||||| 3effdfa5
   "id": "e7634f9d",
=======
   "id": "85d476b0",
>>>>>>> documentation-devel
||||||| 96c826da
<<<<<<< HEAD
<<<<<<< HEAD
<<<<<<< HEAD
<<<<<<< HEAD
<<<<<<< HEAD
   "id": "23820cd1",
||||||| 6a30bf1
   "id": "712a0994",
=======
   "id": "f9dc8528",
>>>>>>> documentation-devel
||||||| d28b18c
   "id": "f9dc8528",
=======
   "id": "3ef29dfe",
>>>>>>> documentation-devel
||||||| 6893f63
<<<<<<< HEAD
   "id": "23820cd1",
||||||| 6a30bf1
   "id": "712a0994",
=======
   "id": "f9dc8528",
>>>>>>> documentation-devel
=======
   "id": "c4bf9dc5",
>>>>>>> c74c98c2450c2a1ba922ed9442f136238d6bc88b
||||||| 6d93b645
   "id": "3ef29dfe",
=======
   "id": "e7634f9d",
>>>>>>> documentation-devel
||||||| 804edffb
<<<<<<< HEAD
<<<<<<< HEAD
<<<<<<< HEAD
   "id": "23820cd1",
||||||| 6a30bf1
   "id": "712a0994",
=======
   "id": "f9dc8528",
>>>>>>> documentation-devel
||||||| d28b18c
   "id": "f9dc8528",
=======
   "id": "3ef29dfe",
>>>>>>> documentation-devel
||||||| 6893f63
<<<<<<< HEAD
   "id": "23820cd1",
||||||| 6a30bf1
   "id": "712a0994",
=======
   "id": "f9dc8528",
>>>>>>> documentation-devel
=======
   "id": "c4bf9dc5",
>>>>>>> c74c98c2450c2a1ba922ed9442f136238d6bc88b
=======
   "id": "0dae8f8b",
>>>>>>> 035bb2637984ead2784fecff78c0c60cc4181202
=======
   "id": "bf7928e5",
>>>>>>> 619c01f26351d57ac14d974b7af136ac5756103f
   "metadata": {
    "lines_to_next_cell": 0
   },
   "source": [
    "Now the `scater` can also rasterize the plots with lots of points with the `rasterise` argument, but with a different mechanism from `scattermore` that requires more system dependencies. "
   ]
  },
  {
   "cell_type": "code",
   "execution_count": null,
<<<<<<< HEAD
<<<<<<< HEAD
<<<<<<< HEAD
<<<<<<< HEAD
<<<<<<< HEAD
<<<<<<< HEAD
<<<<<<< HEAD
   "id": "70da7f17",
||||||| 6a30bf1
   "id": "fbba5a63",
=======
   "id": "60543154",
>>>>>>> documentation-devel
||||||| d28b18c
   "id": "60543154",
=======
   "id": "1b7a602e",
>>>>>>> documentation-devel
||||||| 6893f63
<<<<<<< HEAD
   "id": "70da7f17",
||||||| 6a30bf1
   "id": "fbba5a63",
=======
   "id": "60543154",
>>>>>>> documentation-devel
=======
   "id": "45465cde",
>>>>>>> c74c98c2450c2a1ba922ed9442f136238d6bc88b
||||||| 6d93b645
   "id": "1b7a602e",
=======
   "id": "147140e6",
>>>>>>> documentation-devel
||||||| 804edffb
<<<<<<< HEAD
<<<<<<< HEAD
<<<<<<< HEAD
   "id": "70da7f17",
||||||| 6a30bf1
   "id": "fbba5a63",
=======
   "id": "60543154",
>>>>>>> documentation-devel
||||||| d28b18c
   "id": "60543154",
=======
   "id": "1b7a602e",
>>>>>>> documentation-devel
||||||| 6893f63
<<<<<<< HEAD
   "id": "70da7f17",
||||||| 6a30bf1
   "id": "fbba5a63",
=======
   "id": "60543154",
>>>>>>> documentation-devel
=======
   "id": "45465cde",
>>>>>>> c74c98c2450c2a1ba922ed9442f136238d6bc88b
=======
   "id": "56b4d6d0",
>>>>>>> 035bb2637984ead2784fecff78c0c60cc4181202
||||||| 3effdfa5
   "id": "147140e6",
=======
   "id": "cfa01fe7",
>>>>>>> documentation-devel
||||||| 96c826da
<<<<<<< HEAD
<<<<<<< HEAD
<<<<<<< HEAD
<<<<<<< HEAD
<<<<<<< HEAD
   "id": "70da7f17",
||||||| 6a30bf1
   "id": "fbba5a63",
=======
   "id": "60543154",
>>>>>>> documentation-devel
||||||| d28b18c
   "id": "60543154",
=======
   "id": "1b7a602e",
>>>>>>> documentation-devel
||||||| 6893f63
<<<<<<< HEAD
   "id": "70da7f17",
||||||| 6a30bf1
   "id": "fbba5a63",
=======
   "id": "60543154",
>>>>>>> documentation-devel
=======
   "id": "45465cde",
>>>>>>> c74c98c2450c2a1ba922ed9442f136238d6bc88b
||||||| 6d93b645
   "id": "1b7a602e",
=======
   "id": "147140e6",
>>>>>>> documentation-devel
||||||| 804edffb
<<<<<<< HEAD
<<<<<<< HEAD
<<<<<<< HEAD
   "id": "70da7f17",
||||||| 6a30bf1
   "id": "fbba5a63",
=======
   "id": "60543154",
>>>>>>> documentation-devel
||||||| d28b18c
   "id": "60543154",
=======
   "id": "1b7a602e",
>>>>>>> documentation-devel
||||||| 6893f63
<<<<<<< HEAD
   "id": "70da7f17",
||||||| 6a30bf1
   "id": "fbba5a63",
=======
   "id": "60543154",
>>>>>>> documentation-devel
=======
   "id": "45465cde",
>>>>>>> c74c98c2450c2a1ba922ed9442f136238d6bc88b
=======
   "id": "56b4d6d0",
>>>>>>> 035bb2637984ead2784fecff78c0c60cc4181202
=======
   "id": "d2e2b195",
>>>>>>> 619c01f26351d57ac14d974b7af136ac5756103f
   "metadata": {
    "fig.height": 8,
    "fig.width": 8
   },
   "outputs": [],
   "source": [
    "plotPCA(sfe, ncomponents = 4, colour_by = \"cluster\", rasterise = FALSE)"
   ]
  },
  {
   "cell_type": "markdown",
<<<<<<< HEAD
<<<<<<< HEAD
<<<<<<< HEAD
<<<<<<< HEAD
<<<<<<< HEAD
<<<<<<< HEAD
<<<<<<< HEAD
   "id": "702a520e",
||||||| 6a30bf1
   "id": "b6b9e218",
=======
   "id": "7e42ab7a",
>>>>>>> documentation-devel
||||||| d28b18c
   "id": "7e42ab7a",
=======
   "id": "fece0c31",
>>>>>>> documentation-devel
||||||| 6893f63
<<<<<<< HEAD
   "id": "702a520e",
||||||| 6a30bf1
   "id": "b6b9e218",
=======
   "id": "7e42ab7a",
>>>>>>> documentation-devel
=======
   "id": "61a1d8ed",
>>>>>>> c74c98c2450c2a1ba922ed9442f136238d6bc88b
||||||| 6d93b645
   "id": "fece0c31",
=======
   "id": "d6b1452f",
>>>>>>> documentation-devel
||||||| 804edffb
<<<<<<< HEAD
<<<<<<< HEAD
<<<<<<< HEAD
   "id": "702a520e",
||||||| 6a30bf1
   "id": "b6b9e218",
=======
   "id": "7e42ab7a",
>>>>>>> documentation-devel
||||||| d28b18c
   "id": "7e42ab7a",
=======
   "id": "fece0c31",
>>>>>>> documentation-devel
||||||| 6893f63
<<<<<<< HEAD
   "id": "702a520e",
||||||| 6a30bf1
   "id": "b6b9e218",
=======
   "id": "7e42ab7a",
>>>>>>> documentation-devel
=======
   "id": "61a1d8ed",
>>>>>>> c74c98c2450c2a1ba922ed9442f136238d6bc88b
=======
   "id": "b687c2c1",
>>>>>>> 035bb2637984ead2784fecff78c0c60cc4181202
||||||| 3effdfa5
   "id": "d6b1452f",
=======
   "id": "b1e80601",
>>>>>>> documentation-devel
||||||| 96c826da
<<<<<<< HEAD
<<<<<<< HEAD
<<<<<<< HEAD
<<<<<<< HEAD
<<<<<<< HEAD
   "id": "702a520e",
||||||| 6a30bf1
   "id": "b6b9e218",
=======
   "id": "7e42ab7a",
>>>>>>> documentation-devel
||||||| d28b18c
   "id": "7e42ab7a",
=======
   "id": "fece0c31",
>>>>>>> documentation-devel
||||||| 6893f63
<<<<<<< HEAD
   "id": "702a520e",
||||||| 6a30bf1
   "id": "b6b9e218",
=======
   "id": "7e42ab7a",
>>>>>>> documentation-devel
=======
   "id": "61a1d8ed",
>>>>>>> c74c98c2450c2a1ba922ed9442f136238d6bc88b
||||||| 6d93b645
   "id": "fece0c31",
=======
   "id": "d6b1452f",
>>>>>>> documentation-devel
||||||| 804edffb
<<<<<<< HEAD
<<<<<<< HEAD
<<<<<<< HEAD
   "id": "702a520e",
||||||| 6a30bf1
   "id": "b6b9e218",
=======
   "id": "7e42ab7a",
>>>>>>> documentation-devel
||||||| d28b18c
   "id": "7e42ab7a",
=======
   "id": "fece0c31",
>>>>>>> documentation-devel
||||||| 6893f63
<<<<<<< HEAD
   "id": "702a520e",
||||||| 6a30bf1
   "id": "b6b9e218",
=======
   "id": "7e42ab7a",
>>>>>>> documentation-devel
=======
   "id": "61a1d8ed",
>>>>>>> c74c98c2450c2a1ba922ed9442f136238d6bc88b
=======
   "id": "b687c2c1",
>>>>>>> 035bb2637984ead2784fecff78c0c60cc4181202
=======
   "id": "3188a8dd",
>>>>>>> 619c01f26351d57ac14d974b7af136ac5756103f
   "metadata": {
    "lines_to_next_cell": 0
   },
   "source": [
    "Plot the location of the clusters in space"
   ]
  },
  {
   "cell_type": "code",
   "execution_count": null,
<<<<<<< HEAD
<<<<<<< HEAD
<<<<<<< HEAD
<<<<<<< HEAD
<<<<<<< HEAD
<<<<<<< HEAD
<<<<<<< HEAD
   "id": "3f9dd0f5",
||||||| 6a30bf1
   "id": "70b49620",
=======
   "id": "79987de0",
>>>>>>> documentation-devel
||||||| d28b18c
   "id": "79987de0",
=======
   "id": "d2b3e37d",
>>>>>>> documentation-devel
||||||| 6893f63
<<<<<<< HEAD
   "id": "3f9dd0f5",
||||||| 6a30bf1
   "id": "70b49620",
=======
   "id": "79987de0",
>>>>>>> documentation-devel
=======
   "id": "ab465a2d",
>>>>>>> c74c98c2450c2a1ba922ed9442f136238d6bc88b
||||||| 6d93b645
   "id": "d2b3e37d",
=======
   "id": "fa5e2f25",
>>>>>>> documentation-devel
||||||| 804edffb
<<<<<<< HEAD
<<<<<<< HEAD
<<<<<<< HEAD
   "id": "3f9dd0f5",
||||||| 6a30bf1
   "id": "70b49620",
=======
   "id": "79987de0",
>>>>>>> documentation-devel
||||||| d28b18c
   "id": "79987de0",
=======
   "id": "d2b3e37d",
>>>>>>> documentation-devel
||||||| 6893f63
<<<<<<< HEAD
   "id": "3f9dd0f5",
||||||| 6a30bf1
   "id": "70b49620",
=======
   "id": "79987de0",
>>>>>>> documentation-devel
=======
   "id": "ab465a2d",
>>>>>>> c74c98c2450c2a1ba922ed9442f136238d6bc88b
=======
   "id": "e676c76f",
>>>>>>> 035bb2637984ead2784fecff78c0c60cc4181202
||||||| 3effdfa5
   "id": "fa5e2f25",
=======
   "id": "8574005e",
>>>>>>> documentation-devel
||||||| 96c826da
<<<<<<< HEAD
<<<<<<< HEAD
<<<<<<< HEAD
<<<<<<< HEAD
<<<<<<< HEAD
   "id": "3f9dd0f5",
||||||| 6a30bf1
   "id": "70b49620",
=======
   "id": "79987de0",
>>>>>>> documentation-devel
||||||| d28b18c
   "id": "79987de0",
=======
   "id": "d2b3e37d",
>>>>>>> documentation-devel
||||||| 6893f63
<<<<<<< HEAD
   "id": "3f9dd0f5",
||||||| 6a30bf1
   "id": "70b49620",
=======
   "id": "79987de0",
>>>>>>> documentation-devel
=======
   "id": "ab465a2d",
>>>>>>> c74c98c2450c2a1ba922ed9442f136238d6bc88b
||||||| 6d93b645
   "id": "d2b3e37d",
=======
   "id": "fa5e2f25",
>>>>>>> documentation-devel
||||||| 804edffb
<<<<<<< HEAD
<<<<<<< HEAD
<<<<<<< HEAD
   "id": "3f9dd0f5",
||||||| 6a30bf1
   "id": "70b49620",
=======
   "id": "79987de0",
>>>>>>> documentation-devel
||||||| d28b18c
   "id": "79987de0",
=======
   "id": "d2b3e37d",
>>>>>>> documentation-devel
||||||| 6893f63
<<<<<<< HEAD
   "id": "3f9dd0f5",
||||||| 6a30bf1
   "id": "70b49620",
=======
   "id": "79987de0",
>>>>>>> documentation-devel
=======
   "id": "ab465a2d",
>>>>>>> c74c98c2450c2a1ba922ed9442f136238d6bc88b
=======
   "id": "e676c76f",
>>>>>>> 035bb2637984ead2784fecff78c0c60cc4181202
=======
   "id": "29a3374c",
>>>>>>> 619c01f26351d57ac14d974b7af136ac5756103f
   "metadata": {},
   "outputs": [],
   "source": [
    "plotSpatialFeature(sfe, \"cluster\", colGeometryName = \"cellSeg\")"
   ]
  },
  {
   "cell_type": "markdown",
<<<<<<< HEAD
<<<<<<< HEAD
<<<<<<< HEAD
<<<<<<< HEAD
<<<<<<< HEAD
<<<<<<< HEAD
<<<<<<< HEAD
   "id": "6df87bac",
||||||| 6a30bf1
   "id": "e35b5208",
=======
   "id": "1000faa9",
>>>>>>> documentation-devel
||||||| d28b18c
   "id": "1000faa9",
=======
   "id": "06f54ef8",
>>>>>>> documentation-devel
||||||| 6893f63
<<<<<<< HEAD
   "id": "6df87bac",
||||||| 6a30bf1
   "id": "e35b5208",
=======
   "id": "1000faa9",
>>>>>>> documentation-devel
=======
   "id": "55ba13c7",
>>>>>>> c74c98c2450c2a1ba922ed9442f136238d6bc88b
||||||| 6d93b645
   "id": "06f54ef8",
=======
   "id": "891b303d",
>>>>>>> documentation-devel
||||||| 804edffb
<<<<<<< HEAD
<<<<<<< HEAD
<<<<<<< HEAD
   "id": "6df87bac",
||||||| 6a30bf1
   "id": "e35b5208",
=======
   "id": "1000faa9",
>>>>>>> documentation-devel
||||||| d28b18c
   "id": "1000faa9",
=======
   "id": "06f54ef8",
>>>>>>> documentation-devel
||||||| 6893f63
<<<<<<< HEAD
   "id": "6df87bac",
||||||| 6a30bf1
   "id": "e35b5208",
=======
   "id": "1000faa9",
>>>>>>> documentation-devel
=======
   "id": "55ba13c7",
>>>>>>> c74c98c2450c2a1ba922ed9442f136238d6bc88b
=======
   "id": "31199293",
>>>>>>> 035bb2637984ead2784fecff78c0c60cc4181202
||||||| 3effdfa5
   "id": "891b303d",
=======
   "id": "806738ac",
>>>>>>> documentation-devel
||||||| 96c826da
<<<<<<< HEAD
<<<<<<< HEAD
<<<<<<< HEAD
<<<<<<< HEAD
<<<<<<< HEAD
   "id": "6df87bac",
||||||| 6a30bf1
   "id": "e35b5208",
=======
   "id": "1000faa9",
>>>>>>> documentation-devel
||||||| d28b18c
   "id": "1000faa9",
=======
   "id": "06f54ef8",
>>>>>>> documentation-devel
||||||| 6893f63
<<<<<<< HEAD
   "id": "6df87bac",
||||||| 6a30bf1
   "id": "e35b5208",
=======
   "id": "1000faa9",
>>>>>>> documentation-devel
=======
   "id": "55ba13c7",
>>>>>>> c74c98c2450c2a1ba922ed9442f136238d6bc88b
||||||| 6d93b645
   "id": "06f54ef8",
=======
   "id": "891b303d",
>>>>>>> documentation-devel
||||||| 804edffb
<<<<<<< HEAD
<<<<<<< HEAD
<<<<<<< HEAD
   "id": "6df87bac",
||||||| 6a30bf1
   "id": "e35b5208",
=======
   "id": "1000faa9",
>>>>>>> documentation-devel
||||||| d28b18c
   "id": "1000faa9",
=======
   "id": "06f54ef8",
>>>>>>> documentation-devel
||||||| 6893f63
<<<<<<< HEAD
   "id": "6df87bac",
||||||| 6a30bf1
   "id": "e35b5208",
=======
   "id": "1000faa9",
>>>>>>> documentation-devel
=======
   "id": "55ba13c7",
>>>>>>> c74c98c2450c2a1ba922ed9442f136238d6bc88b
=======
   "id": "31199293",
>>>>>>> 035bb2637984ead2784fecff78c0c60cc4181202
=======
   "id": "6954c863",
>>>>>>> 619c01f26351d57ac14d974b7af136ac5756103f
   "metadata": {
    "lines_to_next_cell": 0
   },
   "source": [
    "# Differential expression\n",
    "Cluster marker genes are found with Wilcoxon rank sum test as commonly done for scRNA-seq."
   ]
  },
  {
   "cell_type": "code",
   "execution_count": null,
<<<<<<< HEAD
<<<<<<< HEAD
<<<<<<< HEAD
<<<<<<< HEAD
<<<<<<< HEAD
<<<<<<< HEAD
<<<<<<< HEAD
   "id": "14fa4fb6",
||||||| 6a30bf1
   "id": "7fe22929",
=======
   "id": "90adbcd9",
>>>>>>> documentation-devel
||||||| d28b18c
   "id": "90adbcd9",
=======
   "id": "a27a4004",
>>>>>>> documentation-devel
||||||| 6893f63
<<<<<<< HEAD
   "id": "14fa4fb6",
||||||| 6a30bf1
   "id": "7fe22929",
=======
   "id": "90adbcd9",
>>>>>>> documentation-devel
=======
   "id": "3def4345",
>>>>>>> c74c98c2450c2a1ba922ed9442f136238d6bc88b
||||||| 6d93b645
   "id": "a27a4004",
=======
   "id": "b40a12d1",
>>>>>>> documentation-devel
||||||| 804edffb
<<<<<<< HEAD
<<<<<<< HEAD
<<<<<<< HEAD
   "id": "14fa4fb6",
||||||| 6a30bf1
   "id": "7fe22929",
=======
   "id": "90adbcd9",
>>>>>>> documentation-devel
||||||| d28b18c
   "id": "90adbcd9",
=======
   "id": "a27a4004",
>>>>>>> documentation-devel
||||||| 6893f63
<<<<<<< HEAD
   "id": "14fa4fb6",
||||||| 6a30bf1
   "id": "7fe22929",
=======
   "id": "90adbcd9",
>>>>>>> documentation-devel
=======
   "id": "3def4345",
>>>>>>> c74c98c2450c2a1ba922ed9442f136238d6bc88b
=======
   "id": "9ea01ee4",
>>>>>>> 035bb2637984ead2784fecff78c0c60cc4181202
||||||| 3effdfa5
   "id": "b40a12d1",
=======
   "id": "c38ee30e",
>>>>>>> documentation-devel
||||||| 96c826da
<<<<<<< HEAD
<<<<<<< HEAD
<<<<<<< HEAD
<<<<<<< HEAD
<<<<<<< HEAD
   "id": "14fa4fb6",
||||||| 6a30bf1
   "id": "7fe22929",
=======
   "id": "90adbcd9",
>>>>>>> documentation-devel
||||||| d28b18c
   "id": "90adbcd9",
=======
   "id": "a27a4004",
>>>>>>> documentation-devel
||||||| 6893f63
<<<<<<< HEAD
   "id": "14fa4fb6",
||||||| 6a30bf1
   "id": "7fe22929",
=======
   "id": "90adbcd9",
>>>>>>> documentation-devel
=======
   "id": "3def4345",
>>>>>>> c74c98c2450c2a1ba922ed9442f136238d6bc88b
||||||| 6d93b645
   "id": "a27a4004",
=======
   "id": "b40a12d1",
>>>>>>> documentation-devel
||||||| 804edffb
<<<<<<< HEAD
<<<<<<< HEAD
<<<<<<< HEAD
   "id": "14fa4fb6",
||||||| 6a30bf1
   "id": "7fe22929",
=======
   "id": "90adbcd9",
>>>>>>> documentation-devel
||||||| d28b18c
   "id": "90adbcd9",
=======
   "id": "a27a4004",
>>>>>>> documentation-devel
||||||| 6893f63
<<<<<<< HEAD
   "id": "14fa4fb6",
||||||| 6a30bf1
   "id": "7fe22929",
=======
   "id": "90adbcd9",
>>>>>>> documentation-devel
=======
   "id": "3def4345",
>>>>>>> c74c98c2450c2a1ba922ed9442f136238d6bc88b
=======
   "id": "9ea01ee4",
>>>>>>> 035bb2637984ead2784fecff78c0c60cc4181202
=======
   "id": "113f8aef",
>>>>>>> 619c01f26351d57ac14d974b7af136ac5756103f
   "metadata": {},
   "outputs": [],
   "source": [
    "markers <- findMarkers(sfe, groups = colData(sfe)$cluster,\n",
    "                       test.type = \"wilcox\", pval.type = \"all\", direction = \"up\")"
   ]
  },
  {
   "cell_type": "markdown",
<<<<<<< HEAD
<<<<<<< HEAD
<<<<<<< HEAD
<<<<<<< HEAD
<<<<<<< HEAD
<<<<<<< HEAD
<<<<<<< HEAD
   "id": "9639d0b5",
||||||| 6a30bf1
   "id": "bf0a2a1b",
=======
   "id": "0871d785",
>>>>>>> documentation-devel
||||||| d28b18c
   "id": "0871d785",
=======
   "id": "8f6f3640",
>>>>>>> documentation-devel
||||||| 6893f63
<<<<<<< HEAD
   "id": "9639d0b5",
||||||| 6a30bf1
   "id": "bf0a2a1b",
=======
   "id": "0871d785",
>>>>>>> documentation-devel
=======
   "id": "db2fefcf",
>>>>>>> c74c98c2450c2a1ba922ed9442f136238d6bc88b
||||||| 6d93b645
   "id": "8f6f3640",
=======
   "id": "29766859",
>>>>>>> documentation-devel
||||||| 804edffb
<<<<<<< HEAD
<<<<<<< HEAD
<<<<<<< HEAD
   "id": "9639d0b5",
||||||| 6a30bf1
   "id": "bf0a2a1b",
=======
   "id": "0871d785",
>>>>>>> documentation-devel
||||||| d28b18c
   "id": "0871d785",
=======
   "id": "8f6f3640",
>>>>>>> documentation-devel
||||||| 6893f63
<<<<<<< HEAD
   "id": "9639d0b5",
||||||| 6a30bf1
   "id": "bf0a2a1b",
=======
   "id": "0871d785",
>>>>>>> documentation-devel
=======
   "id": "db2fefcf",
>>>>>>> c74c98c2450c2a1ba922ed9442f136238d6bc88b
=======
   "id": "301ca74a",
>>>>>>> 035bb2637984ead2784fecff78c0c60cc4181202
||||||| 3effdfa5
   "id": "29766859",
=======
   "id": "2c864211",
>>>>>>> documentation-devel
||||||| 96c826da
<<<<<<< HEAD
<<<<<<< HEAD
<<<<<<< HEAD
<<<<<<< HEAD
<<<<<<< HEAD
   "id": "9639d0b5",
||||||| 6a30bf1
   "id": "bf0a2a1b",
=======
   "id": "0871d785",
>>>>>>> documentation-devel
||||||| d28b18c
   "id": "0871d785",
=======
   "id": "8f6f3640",
>>>>>>> documentation-devel
||||||| 6893f63
<<<<<<< HEAD
   "id": "9639d0b5",
||||||| 6a30bf1
   "id": "bf0a2a1b",
=======
   "id": "0871d785",
>>>>>>> documentation-devel
=======
   "id": "db2fefcf",
>>>>>>> c74c98c2450c2a1ba922ed9442f136238d6bc88b
||||||| 6d93b645
   "id": "8f6f3640",
=======
   "id": "29766859",
>>>>>>> documentation-devel
||||||| 804edffb
<<<<<<< HEAD
<<<<<<< HEAD
<<<<<<< HEAD
   "id": "9639d0b5",
||||||| 6a30bf1
   "id": "bf0a2a1b",
=======
   "id": "0871d785",
>>>>>>> documentation-devel
||||||| d28b18c
   "id": "0871d785",
=======
   "id": "8f6f3640",
>>>>>>> documentation-devel
||||||| 6893f63
<<<<<<< HEAD
   "id": "9639d0b5",
||||||| 6a30bf1
   "id": "bf0a2a1b",
=======
   "id": "0871d785",
>>>>>>> documentation-devel
=======
   "id": "db2fefcf",
>>>>>>> c74c98c2450c2a1ba922ed9442f136238d6bc88b
=======
   "id": "301ca74a",
>>>>>>> 035bb2637984ead2784fecff78c0c60cc4181202
=======
   "id": "86e8d5ec",
>>>>>>> 619c01f26351d57ac14d974b7af136ac5756103f
   "metadata": {
    "lines_to_next_cell": 0
   },
   "source": [
    "It's already sorted by p-values:"
   ]
  },
  {
   "cell_type": "code",
   "execution_count": null,
<<<<<<< HEAD
<<<<<<< HEAD
<<<<<<< HEAD
<<<<<<< HEAD
<<<<<<< HEAD
<<<<<<< HEAD
<<<<<<< HEAD
   "id": "d24ab13c",
||||||| 6a30bf1
   "id": "8306e621",
=======
   "id": "a11753fd",
>>>>>>> documentation-devel
||||||| d28b18c
   "id": "a11753fd",
=======
   "id": "f296e014",
>>>>>>> documentation-devel
||||||| 6893f63
<<<<<<< HEAD
   "id": "d24ab13c",
||||||| 6a30bf1
   "id": "8306e621",
=======
   "id": "a11753fd",
>>>>>>> documentation-devel
=======
   "id": "212e7b1a",
>>>>>>> c74c98c2450c2a1ba922ed9442f136238d6bc88b
||||||| 6d93b645
   "id": "f296e014",
=======
   "id": "3c4caa55",
>>>>>>> documentation-devel
||||||| 804edffb
<<<<<<< HEAD
<<<<<<< HEAD
<<<<<<< HEAD
   "id": "d24ab13c",
||||||| 6a30bf1
   "id": "8306e621",
=======
   "id": "a11753fd",
>>>>>>> documentation-devel
||||||| d28b18c
   "id": "a11753fd",
=======
   "id": "f296e014",
>>>>>>> documentation-devel
||||||| 6893f63
<<<<<<< HEAD
   "id": "d24ab13c",
||||||| 6a30bf1
   "id": "8306e621",
=======
   "id": "a11753fd",
>>>>>>> documentation-devel
=======
   "id": "212e7b1a",
>>>>>>> c74c98c2450c2a1ba922ed9442f136238d6bc88b
=======
   "id": "1908b662",
>>>>>>> 035bb2637984ead2784fecff78c0c60cc4181202
||||||| 3effdfa5
   "id": "3c4caa55",
=======
   "id": "02e4254c",
>>>>>>> documentation-devel
||||||| 96c826da
<<<<<<< HEAD
<<<<<<< HEAD
<<<<<<< HEAD
<<<<<<< HEAD
<<<<<<< HEAD
   "id": "d24ab13c",
||||||| 6a30bf1
   "id": "8306e621",
=======
   "id": "a11753fd",
>>>>>>> documentation-devel
||||||| d28b18c
   "id": "a11753fd",
=======
   "id": "f296e014",
>>>>>>> documentation-devel
||||||| 6893f63
<<<<<<< HEAD
   "id": "d24ab13c",
||||||| 6a30bf1
   "id": "8306e621",
=======
   "id": "a11753fd",
>>>>>>> documentation-devel
=======
   "id": "212e7b1a",
>>>>>>> c74c98c2450c2a1ba922ed9442f136238d6bc88b
||||||| 6d93b645
   "id": "f296e014",
=======
   "id": "3c4caa55",
>>>>>>> documentation-devel
||||||| 804edffb
<<<<<<< HEAD
<<<<<<< HEAD
<<<<<<< HEAD
   "id": "d24ab13c",
||||||| 6a30bf1
   "id": "8306e621",
=======
   "id": "a11753fd",
>>>>>>> documentation-devel
||||||| d28b18c
   "id": "a11753fd",
=======
   "id": "f296e014",
>>>>>>> documentation-devel
||||||| 6893f63
<<<<<<< HEAD
   "id": "d24ab13c",
||||||| 6a30bf1
   "id": "8306e621",
=======
   "id": "a11753fd",
>>>>>>> documentation-devel
=======
   "id": "212e7b1a",
>>>>>>> c74c98c2450c2a1ba922ed9442f136238d6bc88b
=======
   "id": "1908b662",
>>>>>>> 035bb2637984ead2784fecff78c0c60cc4181202
=======
   "id": "ae5ea5c3",
>>>>>>> 619c01f26351d57ac14d974b7af136ac5756103f
   "metadata": {},
   "outputs": [],
   "source": [
    "markers[[6]]"
   ]
  },
  {
   "cell_type": "markdown",
<<<<<<< HEAD
<<<<<<< HEAD
<<<<<<< HEAD
<<<<<<< HEAD
<<<<<<< HEAD
<<<<<<< HEAD
<<<<<<< HEAD
   "id": "219f8885",
||||||| 6a30bf1
   "id": "059dee8b",
=======
   "id": "5901158a",
>>>>>>> documentation-devel
||||||| d28b18c
   "id": "5901158a",
=======
   "id": "04955f03",
>>>>>>> documentation-devel
||||||| 6893f63
<<<<<<< HEAD
   "id": "219f8885",
||||||| 6a30bf1
   "id": "059dee8b",
=======
   "id": "5901158a",
>>>>>>> documentation-devel
=======
   "id": "b10413c0",
>>>>>>> c74c98c2450c2a1ba922ed9442f136238d6bc88b
||||||| 6d93b645
   "id": "04955f03",
=======
   "id": "f0ec2349",
>>>>>>> documentation-devel
||||||| 804edffb
<<<<<<< HEAD
<<<<<<< HEAD
<<<<<<< HEAD
   "id": "219f8885",
||||||| 6a30bf1
   "id": "059dee8b",
=======
   "id": "5901158a",
>>>>>>> documentation-devel
||||||| d28b18c
   "id": "5901158a",
=======
   "id": "04955f03",
>>>>>>> documentation-devel
||||||| 6893f63
<<<<<<< HEAD
   "id": "219f8885",
||||||| 6a30bf1
   "id": "059dee8b",
=======
   "id": "5901158a",
>>>>>>> documentation-devel
=======
   "id": "b10413c0",
>>>>>>> c74c98c2450c2a1ba922ed9442f136238d6bc88b
=======
   "id": "df32025f",
>>>>>>> 035bb2637984ead2784fecff78c0c60cc4181202
||||||| 3effdfa5
   "id": "f0ec2349",
=======
   "id": "7c3c5f83",
>>>>>>> documentation-devel
||||||| 96c826da
<<<<<<< HEAD
<<<<<<< HEAD
<<<<<<< HEAD
<<<<<<< HEAD
<<<<<<< HEAD
   "id": "219f8885",
||||||| 6a30bf1
   "id": "059dee8b",
=======
   "id": "5901158a",
>>>>>>> documentation-devel
||||||| d28b18c
   "id": "5901158a",
=======
   "id": "04955f03",
>>>>>>> documentation-devel
||||||| 6893f63
<<<<<<< HEAD
   "id": "219f8885",
||||||| 6a30bf1
   "id": "059dee8b",
=======
   "id": "5901158a",
>>>>>>> documentation-devel
=======
   "id": "b10413c0",
>>>>>>> c74c98c2450c2a1ba922ed9442f136238d6bc88b
||||||| 6d93b645
   "id": "04955f03",
=======
   "id": "f0ec2349",
>>>>>>> documentation-devel
||||||| 804edffb
<<<<<<< HEAD
<<<<<<< HEAD
<<<<<<< HEAD
   "id": "219f8885",
||||||| 6a30bf1
   "id": "059dee8b",
=======
   "id": "5901158a",
>>>>>>> documentation-devel
||||||| d28b18c
   "id": "5901158a",
=======
   "id": "04955f03",
>>>>>>> documentation-devel
||||||| 6893f63
<<<<<<< HEAD
   "id": "219f8885",
||||||| 6a30bf1
   "id": "059dee8b",
=======
   "id": "5901158a",
>>>>>>> documentation-devel
=======
   "id": "b10413c0",
>>>>>>> c74c98c2450c2a1ba922ed9442f136238d6bc88b
=======
   "id": "df32025f",
>>>>>>> 035bb2637984ead2784fecff78c0c60cc4181202
=======
   "id": "1719ba7c",
>>>>>>> 619c01f26351d57ac14d974b7af136ac5756103f
   "metadata": {
    "lines_to_next_cell": 0
   },
   "source": [
    "The code below extracts the significant markers for each cluster:"
   ]
  },
  {
   "cell_type": "code",
   "execution_count": null,
<<<<<<< HEAD
<<<<<<< HEAD
<<<<<<< HEAD
<<<<<<< HEAD
<<<<<<< HEAD
<<<<<<< HEAD
<<<<<<< HEAD
   "id": "53471cd6",
||||||| 6a30bf1
   "id": "f6f5dcd0",
=======
   "id": "4aee7109",
>>>>>>> documentation-devel
||||||| d28b18c
   "id": "4aee7109",
=======
   "id": "c9cd49c7",
>>>>>>> documentation-devel
||||||| 6893f63
<<<<<<< HEAD
   "id": "53471cd6",
||||||| 6a30bf1
   "id": "f6f5dcd0",
=======
   "id": "4aee7109",
>>>>>>> documentation-devel
=======
   "id": "7bb349da",
>>>>>>> c74c98c2450c2a1ba922ed9442f136238d6bc88b
||||||| 6d93b645
   "id": "c9cd49c7",
=======
   "id": "3376f7c0",
>>>>>>> documentation-devel
||||||| 804edffb
<<<<<<< HEAD
<<<<<<< HEAD
<<<<<<< HEAD
   "id": "53471cd6",
||||||| 6a30bf1
   "id": "f6f5dcd0",
=======
   "id": "4aee7109",
>>>>>>> documentation-devel
||||||| d28b18c
   "id": "4aee7109",
=======
   "id": "c9cd49c7",
>>>>>>> documentation-devel
||||||| 6893f63
<<<<<<< HEAD
   "id": "53471cd6",
||||||| 6a30bf1
   "id": "f6f5dcd0",
=======
   "id": "4aee7109",
>>>>>>> documentation-devel
=======
   "id": "7bb349da",
>>>>>>> c74c98c2450c2a1ba922ed9442f136238d6bc88b
=======
   "id": "adf9e9b8",
>>>>>>> 035bb2637984ead2784fecff78c0c60cc4181202
||||||| 3effdfa5
   "id": "3376f7c0",
=======
   "id": "700381e3",
>>>>>>> documentation-devel
||||||| 96c826da
<<<<<<< HEAD
<<<<<<< HEAD
<<<<<<< HEAD
<<<<<<< HEAD
<<<<<<< HEAD
   "id": "53471cd6",
||||||| 6a30bf1
   "id": "f6f5dcd0",
=======
   "id": "4aee7109",
>>>>>>> documentation-devel
||||||| d28b18c
   "id": "4aee7109",
=======
   "id": "c9cd49c7",
>>>>>>> documentation-devel
||||||| 6893f63
<<<<<<< HEAD
   "id": "53471cd6",
||||||| 6a30bf1
   "id": "f6f5dcd0",
=======
   "id": "4aee7109",
>>>>>>> documentation-devel
=======
   "id": "7bb349da",
>>>>>>> c74c98c2450c2a1ba922ed9442f136238d6bc88b
||||||| 6d93b645
   "id": "c9cd49c7",
=======
   "id": "3376f7c0",
>>>>>>> documentation-devel
||||||| 804edffb
<<<<<<< HEAD
<<<<<<< HEAD
<<<<<<< HEAD
   "id": "53471cd6",
||||||| 6a30bf1
   "id": "f6f5dcd0",
=======
   "id": "4aee7109",
>>>>>>> documentation-devel
||||||| d28b18c
   "id": "4aee7109",
=======
   "id": "c9cd49c7",
>>>>>>> documentation-devel
||||||| 6893f63
<<<<<<< HEAD
   "id": "53471cd6",
||||||| 6a30bf1
   "id": "f6f5dcd0",
=======
   "id": "4aee7109",
>>>>>>> documentation-devel
=======
   "id": "7bb349da",
>>>>>>> c74c98c2450c2a1ba922ed9442f136238d6bc88b
=======
   "id": "adf9e9b8",
>>>>>>> 035bb2637984ead2784fecff78c0c60cc4181202
=======
   "id": "894b3d16",
>>>>>>> 619c01f26351d57ac14d974b7af136ac5756103f
   "metadata": {},
   "outputs": [],
   "source": [
    "genes_use <- vapply(markers, function(x) rownames(x)[1], FUN.VALUE = character(1))\n",
    "plotExpression(sfe, genes_use, x = \"cluster\", point_fun = function(...) list())"
   ]
  },
  {
   "cell_type": "markdown",
<<<<<<< HEAD
<<<<<<< HEAD
<<<<<<< HEAD
<<<<<<< HEAD
<<<<<<< HEAD
<<<<<<< HEAD
<<<<<<< HEAD
   "id": "0f53a9c1",
||||||| 6a30bf1
   "id": "f55cd748",
=======
   "id": "c3710287",
>>>>>>> documentation-devel
||||||| d28b18c
   "id": "c3710287",
=======
   "id": "4bf6d0a5",
>>>>>>> documentation-devel
||||||| 6893f63
<<<<<<< HEAD
   "id": "0f53a9c1",
||||||| 6a30bf1
   "id": "f55cd748",
=======
   "id": "c3710287",
>>>>>>> documentation-devel
=======
   "id": "034b53d2",
>>>>>>> c74c98c2450c2a1ba922ed9442f136238d6bc88b
||||||| 6d93b645
   "id": "4bf6d0a5",
=======
   "id": "42824f2b",
>>>>>>> documentation-devel
||||||| 804edffb
<<<<<<< HEAD
<<<<<<< HEAD
<<<<<<< HEAD
   "id": "0f53a9c1",
||||||| 6a30bf1
   "id": "f55cd748",
=======
   "id": "c3710287",
>>>>>>> documentation-devel
||||||| d28b18c
   "id": "c3710287",
=======
   "id": "4bf6d0a5",
>>>>>>> documentation-devel
||||||| 6893f63
<<<<<<< HEAD
   "id": "0f53a9c1",
||||||| 6a30bf1
   "id": "f55cd748",
=======
   "id": "c3710287",
>>>>>>> documentation-devel
=======
   "id": "034b53d2",
>>>>>>> c74c98c2450c2a1ba922ed9442f136238d6bc88b
=======
   "id": "33e56778",
>>>>>>> 035bb2637984ead2784fecff78c0c60cc4181202
||||||| 3effdfa5
   "id": "42824f2b",
=======
   "id": "7a087808",
>>>>>>> documentation-devel
||||||| 96c826da
<<<<<<< HEAD
<<<<<<< HEAD
<<<<<<< HEAD
<<<<<<< HEAD
<<<<<<< HEAD
   "id": "0f53a9c1",
||||||| 6a30bf1
   "id": "f55cd748",
=======
   "id": "c3710287",
>>>>>>> documentation-devel
||||||| d28b18c
   "id": "c3710287",
=======
   "id": "4bf6d0a5",
>>>>>>> documentation-devel
||||||| 6893f63
<<<<<<< HEAD
   "id": "0f53a9c1",
||||||| 6a30bf1
   "id": "f55cd748",
=======
   "id": "c3710287",
>>>>>>> documentation-devel
=======
   "id": "034b53d2",
>>>>>>> c74c98c2450c2a1ba922ed9442f136238d6bc88b
||||||| 6d93b645
   "id": "4bf6d0a5",
=======
   "id": "42824f2b",
>>>>>>> documentation-devel
||||||| 804edffb
<<<<<<< HEAD
<<<<<<< HEAD
<<<<<<< HEAD
   "id": "0f53a9c1",
||||||| 6a30bf1
   "id": "f55cd748",
=======
   "id": "c3710287",
>>>>>>> documentation-devel
||||||| d28b18c
   "id": "c3710287",
=======
   "id": "4bf6d0a5",
>>>>>>> documentation-devel
||||||| 6893f63
<<<<<<< HEAD
   "id": "0f53a9c1",
||||||| 6a30bf1
   "id": "f55cd748",
=======
   "id": "c3710287",
>>>>>>> documentation-devel
=======
   "id": "034b53d2",
>>>>>>> c74c98c2450c2a1ba922ed9442f136238d6bc88b
=======
   "id": "33e56778",
>>>>>>> 035bb2637984ead2784fecff78c0c60cc4181202
=======
   "id": "f12fd76d",
>>>>>>> 619c01f26351d57ac14d974b7af136ac5756103f
   "metadata": {
    "lines_to_next_cell": 0
   },
   "source": [
    "This allows for plotting more top marker genes in a heatmap:"
   ]
  },
  {
   "cell_type": "code",
   "execution_count": null,
<<<<<<< HEAD
<<<<<<< HEAD
<<<<<<< HEAD
<<<<<<< HEAD
<<<<<<< HEAD
<<<<<<< HEAD
<<<<<<< HEAD
   "id": "e14b0861",
||||||| 6a30bf1
   "id": "6e576204",
=======
   "id": "fe2f0c06",
>>>>>>> documentation-devel
||||||| d28b18c
   "id": "fe2f0c06",
=======
   "id": "5853e48b",
>>>>>>> documentation-devel
||||||| 6893f63
<<<<<<< HEAD
   "id": "e14b0861",
||||||| 6a30bf1
   "id": "6e576204",
=======
   "id": "fe2f0c06",
>>>>>>> documentation-devel
=======
   "id": "d0c5d721",
>>>>>>> c74c98c2450c2a1ba922ed9442f136238d6bc88b
||||||| 6d93b645
   "id": "5853e48b",
=======
   "id": "9fe5de24",
>>>>>>> documentation-devel
||||||| 804edffb
<<<<<<< HEAD
<<<<<<< HEAD
<<<<<<< HEAD
   "id": "e14b0861",
||||||| 6a30bf1
   "id": "6e576204",
=======
   "id": "fe2f0c06",
>>>>>>> documentation-devel
||||||| d28b18c
   "id": "fe2f0c06",
=======
   "id": "5853e48b",
>>>>>>> documentation-devel
||||||| 6893f63
<<<<<<< HEAD
   "id": "e14b0861",
||||||| 6a30bf1
   "id": "6e576204",
=======
   "id": "fe2f0c06",
>>>>>>> documentation-devel
=======
   "id": "d0c5d721",
>>>>>>> c74c98c2450c2a1ba922ed9442f136238d6bc88b
=======
   "id": "522864d3",
>>>>>>> 035bb2637984ead2784fecff78c0c60cc4181202
||||||| 3effdfa5
   "id": "9fe5de24",
=======
   "id": "baea678f",
>>>>>>> documentation-devel
||||||| 96c826da
<<<<<<< HEAD
<<<<<<< HEAD
<<<<<<< HEAD
<<<<<<< HEAD
<<<<<<< HEAD
   "id": "e14b0861",
||||||| 6a30bf1
   "id": "6e576204",
=======
   "id": "fe2f0c06",
>>>>>>> documentation-devel
||||||| d28b18c
   "id": "fe2f0c06",
=======
   "id": "5853e48b",
>>>>>>> documentation-devel
||||||| 6893f63
<<<<<<< HEAD
   "id": "e14b0861",
||||||| 6a30bf1
   "id": "6e576204",
=======
   "id": "fe2f0c06",
>>>>>>> documentation-devel
=======
   "id": "d0c5d721",
>>>>>>> c74c98c2450c2a1ba922ed9442f136238d6bc88b
||||||| 6d93b645
   "id": "5853e48b",
=======
   "id": "9fe5de24",
>>>>>>> documentation-devel
||||||| 804edffb
<<<<<<< HEAD
<<<<<<< HEAD
<<<<<<< HEAD
   "id": "e14b0861",
||||||| 6a30bf1
   "id": "6e576204",
=======
   "id": "fe2f0c06",
>>>>>>> documentation-devel
||||||| d28b18c
   "id": "fe2f0c06",
=======
   "id": "5853e48b",
>>>>>>> documentation-devel
||||||| 6893f63
<<<<<<< HEAD
   "id": "e14b0861",
||||||| 6a30bf1
   "id": "6e576204",
=======
   "id": "fe2f0c06",
>>>>>>> documentation-devel
=======
   "id": "d0c5d721",
>>>>>>> c74c98c2450c2a1ba922ed9442f136238d6bc88b
=======
   "id": "522864d3",
>>>>>>> 035bb2637984ead2784fecff78c0c60cc4181202
=======
   "id": "6f748237",
>>>>>>> 619c01f26351d57ac14d974b7af136ac5756103f
   "metadata": {
    "fig.height": 8,
    "fig.width": 6
   },
   "outputs": [],
   "source": [
    "genes_use2 <- unique(unlist(lapply(markers, function(x) rownames(x)[1:5])))\n",
    "plotGroupedHeatmap(sfe, genes_use2, group = \"cluster\", colour = scales::viridis_pal()(100))"
   ]
  },
  {
   "cell_type": "markdown",
<<<<<<< HEAD
<<<<<<< HEAD
<<<<<<< HEAD
<<<<<<< HEAD
<<<<<<< HEAD
<<<<<<< HEAD
<<<<<<< HEAD
   "id": "df48bc47",
||||||| 6a30bf1
   "id": "3c32d7ef",
=======
   "id": "766f87ff",
>>>>>>> documentation-devel
||||||| d28b18c
   "id": "766f87ff",
=======
   "id": "b31a7e68",
>>>>>>> documentation-devel
||||||| 6893f63
<<<<<<< HEAD
   "id": "df48bc47",
||||||| 6a30bf1
   "id": "3c32d7ef",
=======
   "id": "766f87ff",
>>>>>>> documentation-devel
=======
   "id": "cd673bde",
>>>>>>> c74c98c2450c2a1ba922ed9442f136238d6bc88b
||||||| 6d93b645
   "id": "b31a7e68",
=======
   "id": "dce24309",
>>>>>>> documentation-devel
||||||| 804edffb
<<<<<<< HEAD
<<<<<<< HEAD
<<<<<<< HEAD
   "id": "df48bc47",
||||||| 6a30bf1
   "id": "3c32d7ef",
=======
   "id": "766f87ff",
>>>>>>> documentation-devel
||||||| d28b18c
   "id": "766f87ff",
=======
   "id": "b31a7e68",
>>>>>>> documentation-devel
||||||| 6893f63
<<<<<<< HEAD
   "id": "df48bc47",
||||||| 6a30bf1
   "id": "3c32d7ef",
=======
   "id": "766f87ff",
>>>>>>> documentation-devel
=======
   "id": "cd673bde",
>>>>>>> c74c98c2450c2a1ba922ed9442f136238d6bc88b
=======
   "id": "640258aa",
>>>>>>> 035bb2637984ead2784fecff78c0c60cc4181202
||||||| 3effdfa5
   "id": "dce24309",
=======
   "id": "b0e06ee6",
>>>>>>> documentation-devel
||||||| 96c826da
<<<<<<< HEAD
<<<<<<< HEAD
<<<<<<< HEAD
<<<<<<< HEAD
<<<<<<< HEAD
   "id": "df48bc47",
||||||| 6a30bf1
   "id": "3c32d7ef",
=======
   "id": "766f87ff",
>>>>>>> documentation-devel
||||||| d28b18c
   "id": "766f87ff",
=======
   "id": "b31a7e68",
>>>>>>> documentation-devel
||||||| 6893f63
<<<<<<< HEAD
   "id": "df48bc47",
||||||| 6a30bf1
   "id": "3c32d7ef",
=======
   "id": "766f87ff",
>>>>>>> documentation-devel
=======
   "id": "cd673bde",
>>>>>>> c74c98c2450c2a1ba922ed9442f136238d6bc88b
||||||| 6d93b645
   "id": "b31a7e68",
=======
   "id": "dce24309",
>>>>>>> documentation-devel
||||||| 804edffb
<<<<<<< HEAD
<<<<<<< HEAD
<<<<<<< HEAD
   "id": "df48bc47",
||||||| 6a30bf1
   "id": "3c32d7ef",
=======
   "id": "766f87ff",
>>>>>>> documentation-devel
||||||| d28b18c
   "id": "766f87ff",
=======
   "id": "b31a7e68",
>>>>>>> documentation-devel
||||||| 6893f63
<<<<<<< HEAD
   "id": "df48bc47",
||||||| 6a30bf1
   "id": "3c32d7ef",
=======
   "id": "766f87ff",
>>>>>>> documentation-devel
=======
   "id": "cd673bde",
>>>>>>> c74c98c2450c2a1ba922ed9442f136238d6bc88b
=======
   "id": "640258aa",
>>>>>>> 035bb2637984ead2784fecff78c0c60cc4181202
=======
   "id": "ccf4132c",
>>>>>>> 619c01f26351d57ac14d974b7af136ac5756103f
   "metadata": {
    "lines_to_next_cell": 0
   },
   "source": [
    "# Local spatial statistics of marker genes\n",
    "\n",
    "First we plot those genes in space as a reference"
   ]
  },
  {
   "cell_type": "code",
   "execution_count": null,
<<<<<<< HEAD
<<<<<<< HEAD
<<<<<<< HEAD
<<<<<<< HEAD
<<<<<<< HEAD
<<<<<<< HEAD
<<<<<<< HEAD
   "id": "6b292acc",
||||||| 6a30bf1
   "id": "8e282f0a",
=======
   "id": "b86fb217",
>>>>>>> documentation-devel
||||||| d28b18c
   "id": "b86fb217",
=======
   "id": "508cbdcb",
>>>>>>> documentation-devel
||||||| 6893f63
<<<<<<< HEAD
   "id": "6b292acc",
||||||| 6a30bf1
   "id": "8e282f0a",
=======
   "id": "b86fb217",
>>>>>>> documentation-devel
=======
   "id": "351e800b",
>>>>>>> c74c98c2450c2a1ba922ed9442f136238d6bc88b
||||||| 6d93b645
   "id": "508cbdcb",
=======
   "id": "51df60e6",
>>>>>>> documentation-devel
||||||| 804edffb
<<<<<<< HEAD
<<<<<<< HEAD
<<<<<<< HEAD
   "id": "6b292acc",
||||||| 6a30bf1
   "id": "8e282f0a",
=======
   "id": "b86fb217",
>>>>>>> documentation-devel
||||||| d28b18c
   "id": "b86fb217",
=======
   "id": "508cbdcb",
>>>>>>> documentation-devel
||||||| 6893f63
<<<<<<< HEAD
   "id": "6b292acc",
||||||| 6a30bf1
   "id": "8e282f0a",
=======
   "id": "b86fb217",
>>>>>>> documentation-devel
=======
   "id": "351e800b",
>>>>>>> c74c98c2450c2a1ba922ed9442f136238d6bc88b
=======
   "id": "05bb8b73",
>>>>>>> 035bb2637984ead2784fecff78c0c60cc4181202
||||||| 3effdfa5
   "id": "51df60e6",
=======
   "id": "ae7da200",
>>>>>>> documentation-devel
||||||| 96c826da
<<<<<<< HEAD
<<<<<<< HEAD
<<<<<<< HEAD
<<<<<<< HEAD
<<<<<<< HEAD
   "id": "6b292acc",
||||||| 6a30bf1
   "id": "8e282f0a",
=======
   "id": "b86fb217",
>>>>>>> documentation-devel
||||||| d28b18c
   "id": "b86fb217",
=======
   "id": "508cbdcb",
>>>>>>> documentation-devel
||||||| 6893f63
<<<<<<< HEAD
   "id": "6b292acc",
||||||| 6a30bf1
   "id": "8e282f0a",
=======
   "id": "b86fb217",
>>>>>>> documentation-devel
=======
   "id": "351e800b",
>>>>>>> c74c98c2450c2a1ba922ed9442f136238d6bc88b
||||||| 6d93b645
   "id": "508cbdcb",
=======
   "id": "51df60e6",
>>>>>>> documentation-devel
||||||| 804edffb
<<<<<<< HEAD
<<<<<<< HEAD
<<<<<<< HEAD
   "id": "6b292acc",
||||||| 6a30bf1
   "id": "8e282f0a",
=======
   "id": "b86fb217",
>>>>>>> documentation-devel
||||||| d28b18c
   "id": "b86fb217",
=======
   "id": "508cbdcb",
>>>>>>> documentation-devel
||||||| 6893f63
<<<<<<< HEAD
   "id": "6b292acc",
||||||| 6a30bf1
   "id": "8e282f0a",
=======
   "id": "b86fb217",
>>>>>>> documentation-devel
=======
   "id": "351e800b",
>>>>>>> c74c98c2450c2a1ba922ed9442f136238d6bc88b
=======
   "id": "05bb8b73",
>>>>>>> 035bb2637984ead2784fecff78c0c60cc4181202
=======
   "id": "8a44d8f8",
>>>>>>> 619c01f26351d57ac14d974b7af136ac5756103f
   "metadata": {
    "fig.height": 9,
    "fig.width": 9
   },
   "outputs": [],
   "source": [
    "plotSpatialFeature(sfe, genes_use, colGeometryName = \"centroids\", ncol = 3,\n",
    "                   pointsize = 0.3, scattermore = TRUE)"
   ]
  },
  {
   "cell_type": "markdown",
<<<<<<< HEAD
<<<<<<< HEAD
<<<<<<< HEAD
<<<<<<< HEAD
<<<<<<< HEAD
<<<<<<< HEAD
<<<<<<< HEAD
   "id": "179b32fe",
||||||| 6a30bf1
   "id": "cbd71a4c",
=======
   "id": "43e5fb86",
>>>>>>> documentation-devel
||||||| d28b18c
   "id": "43e5fb86",
=======
   "id": "7c5efc16",
>>>>>>> documentation-devel
||||||| 6893f63
<<<<<<< HEAD
   "id": "179b32fe",
||||||| 6a30bf1
   "id": "cbd71a4c",
=======
   "id": "43e5fb86",
>>>>>>> documentation-devel
=======
   "id": "7e9a4126",
>>>>>>> c74c98c2450c2a1ba922ed9442f136238d6bc88b
||||||| 6d93b645
   "id": "7c5efc16",
=======
   "id": "26033847",
>>>>>>> documentation-devel
||||||| 804edffb
<<<<<<< HEAD
<<<<<<< HEAD
<<<<<<< HEAD
   "id": "179b32fe",
||||||| 6a30bf1
   "id": "cbd71a4c",
=======
   "id": "43e5fb86",
>>>>>>> documentation-devel
||||||| d28b18c
   "id": "43e5fb86",
=======
   "id": "7c5efc16",
>>>>>>> documentation-devel
||||||| 6893f63
<<<<<<< HEAD
   "id": "179b32fe",
||||||| 6a30bf1
   "id": "cbd71a4c",
=======
   "id": "43e5fb86",
>>>>>>> documentation-devel
=======
   "id": "7e9a4126",
>>>>>>> c74c98c2450c2a1ba922ed9442f136238d6bc88b
=======
   "id": "73185a67",
>>>>>>> 035bb2637984ead2784fecff78c0c60cc4181202
||||||| 3effdfa5
   "id": "26033847",
=======
   "id": "d6cccf31",
>>>>>>> documentation-devel
||||||| 96c826da
<<<<<<< HEAD
<<<<<<< HEAD
<<<<<<< HEAD
<<<<<<< HEAD
<<<<<<< HEAD
   "id": "179b32fe",
||||||| 6a30bf1
   "id": "cbd71a4c",
=======
   "id": "43e5fb86",
>>>>>>> documentation-devel
||||||| d28b18c
   "id": "43e5fb86",
=======
   "id": "7c5efc16",
>>>>>>> documentation-devel
||||||| 6893f63
<<<<<<< HEAD
   "id": "179b32fe",
||||||| 6a30bf1
   "id": "cbd71a4c",
=======
   "id": "43e5fb86",
>>>>>>> documentation-devel
=======
   "id": "7e9a4126",
>>>>>>> c74c98c2450c2a1ba922ed9442f136238d6bc88b
||||||| 6d93b645
   "id": "7c5efc16",
=======
   "id": "26033847",
>>>>>>> documentation-devel
||||||| 804edffb
<<<<<<< HEAD
<<<<<<< HEAD
<<<<<<< HEAD
   "id": "179b32fe",
||||||| 6a30bf1
   "id": "cbd71a4c",
=======
   "id": "43e5fb86",
>>>>>>> documentation-devel
||||||| d28b18c
   "id": "43e5fb86",
=======
   "id": "7c5efc16",
>>>>>>> documentation-devel
||||||| 6893f63
<<<<<<< HEAD
   "id": "179b32fe",
||||||| 6a30bf1
   "id": "cbd71a4c",
=======
   "id": "43e5fb86",
>>>>>>> documentation-devel
=======
   "id": "7e9a4126",
>>>>>>> c74c98c2450c2a1ba922ed9442f136238d6bc88b
=======
   "id": "73185a67",
>>>>>>> 035bb2637984ead2784fecff78c0c60cc4181202
=======
   "id": "a8a6ffee",
>>>>>>> 619c01f26351d57ac14d974b7af136ac5756103f
   "metadata": {},
   "source": [
    "Global Moran's I of these marker genes is shown below:"
   ]
  },
  {
   "cell_type": "code",
   "execution_count": null,
<<<<<<< HEAD
<<<<<<< HEAD
<<<<<<< HEAD
<<<<<<< HEAD
<<<<<<< HEAD
<<<<<<< HEAD
<<<<<<< HEAD
   "id": "2f960079",
||||||| 6a30bf1
   "id": "64e43869",
=======
   "id": "476cd541",
>>>>>>> documentation-devel
||||||| d28b18c
   "id": "476cd541",
=======
   "id": "d963a003",
>>>>>>> documentation-devel
||||||| 6893f63
<<<<<<< HEAD
   "id": "2f960079",
||||||| 6a30bf1
   "id": "64e43869",
=======
   "id": "476cd541",
>>>>>>> documentation-devel
=======
   "id": "24c4f45f",
>>>>>>> c74c98c2450c2a1ba922ed9442f136238d6bc88b
||||||| 6d93b645
   "id": "d963a003",
=======
   "id": "859ec6b5",
>>>>>>> documentation-devel
||||||| 804edffb
<<<<<<< HEAD
<<<<<<< HEAD
<<<<<<< HEAD
   "id": "2f960079",
||||||| 6a30bf1
   "id": "64e43869",
=======
   "id": "476cd541",
>>>>>>> documentation-devel
||||||| d28b18c
   "id": "476cd541",
=======
   "id": "d963a003",
>>>>>>> documentation-devel
||||||| 6893f63
<<<<<<< HEAD
   "id": "2f960079",
||||||| 6a30bf1
   "id": "64e43869",
=======
   "id": "476cd541",
>>>>>>> documentation-devel
=======
   "id": "24c4f45f",
>>>>>>> c74c98c2450c2a1ba922ed9442f136238d6bc88b
=======
   "id": "873a739d",
>>>>>>> 035bb2637984ead2784fecff78c0c60cc4181202
||||||| 3effdfa5
   "id": "859ec6b5",
=======
   "id": "1d5fd156",
>>>>>>> documentation-devel
||||||| 96c826da
<<<<<<< HEAD
<<<<<<< HEAD
<<<<<<< HEAD
<<<<<<< HEAD
<<<<<<< HEAD
   "id": "2f960079",
||||||| 6a30bf1
   "id": "64e43869",
=======
   "id": "476cd541",
>>>>>>> documentation-devel
||||||| d28b18c
   "id": "476cd541",
=======
   "id": "d963a003",
>>>>>>> documentation-devel
||||||| 6893f63
<<<<<<< HEAD
   "id": "2f960079",
||||||| 6a30bf1
   "id": "64e43869",
=======
   "id": "476cd541",
>>>>>>> documentation-devel
=======
   "id": "24c4f45f",
>>>>>>> c74c98c2450c2a1ba922ed9442f136238d6bc88b
||||||| 6d93b645
   "id": "d963a003",
=======
   "id": "859ec6b5",
>>>>>>> documentation-devel
||||||| 804edffb
<<<<<<< HEAD
<<<<<<< HEAD
<<<<<<< HEAD
   "id": "2f960079",
||||||| 6a30bf1
   "id": "64e43869",
=======
   "id": "476cd541",
>>>>>>> documentation-devel
||||||| d28b18c
   "id": "476cd541",
=======
   "id": "d963a003",
>>>>>>> documentation-devel
||||||| 6893f63
<<<<<<< HEAD
   "id": "2f960079",
||||||| 6a30bf1
   "id": "64e43869",
=======
   "id": "476cd541",
>>>>>>> documentation-devel
=======
   "id": "24c4f45f",
>>>>>>> c74c98c2450c2a1ba922ed9442f136238d6bc88b
=======
   "id": "873a739d",
>>>>>>> 035bb2637984ead2784fecff78c0c60cc4181202
=======
   "id": "1f409a64",
>>>>>>> 619c01f26351d57ac14d974b7af136ac5756103f
   "metadata": {},
   "outputs": [],
   "source": [
    "setNames(rowData(sfe)[genes_use, \"moran_sample01\"], genes_use)"
   ]
  },
  {
   "cell_type": "markdown",
<<<<<<< HEAD
<<<<<<< HEAD
<<<<<<< HEAD
<<<<<<< HEAD
<<<<<<< HEAD
<<<<<<< HEAD
<<<<<<< HEAD
   "id": "a5b85359",
||||||| 6a30bf1
   "id": "473d587d",
=======
   "id": "c7969e55",
>>>>>>> documentation-devel
||||||| d28b18c
   "id": "c7969e55",
=======
   "id": "46439d2c",
>>>>>>> documentation-devel
||||||| 6893f63
<<<<<<< HEAD
   "id": "a5b85359",
||||||| 6a30bf1
   "id": "473d587d",
=======
   "id": "c7969e55",
>>>>>>> documentation-devel
=======
   "id": "cee86c32",
>>>>>>> c74c98c2450c2a1ba922ed9442f136238d6bc88b
||||||| 6d93b645
   "id": "46439d2c",
=======
   "id": "a2d2a8c4",
>>>>>>> documentation-devel
||||||| 804edffb
<<<<<<< HEAD
<<<<<<< HEAD
<<<<<<< HEAD
   "id": "a5b85359",
||||||| 6a30bf1
   "id": "473d587d",
=======
   "id": "c7969e55",
>>>>>>> documentation-devel
||||||| d28b18c
   "id": "c7969e55",
=======
   "id": "46439d2c",
>>>>>>> documentation-devel
||||||| 6893f63
<<<<<<< HEAD
   "id": "a5b85359",
||||||| 6a30bf1
   "id": "473d587d",
=======
   "id": "c7969e55",
>>>>>>> documentation-devel
=======
   "id": "cee86c32",
>>>>>>> c74c98c2450c2a1ba922ed9442f136238d6bc88b
=======
   "id": "007f0a08",
>>>>>>> 035bb2637984ead2784fecff78c0c60cc4181202
||||||| 3effdfa5
   "id": "a2d2a8c4",
=======
   "id": "2d52c44e",
>>>>>>> documentation-devel
||||||| 96c826da
<<<<<<< HEAD
<<<<<<< HEAD
<<<<<<< HEAD
<<<<<<< HEAD
<<<<<<< HEAD
   "id": "a5b85359",
||||||| 6a30bf1
   "id": "473d587d",
=======
   "id": "c7969e55",
>>>>>>> documentation-devel
||||||| d28b18c
   "id": "c7969e55",
=======
   "id": "46439d2c",
>>>>>>> documentation-devel
||||||| 6893f63
<<<<<<< HEAD
   "id": "a5b85359",
||||||| 6a30bf1
   "id": "473d587d",
=======
   "id": "c7969e55",
>>>>>>> documentation-devel
=======
   "id": "cee86c32",
>>>>>>> c74c98c2450c2a1ba922ed9442f136238d6bc88b
||||||| 6d93b645
   "id": "46439d2c",
=======
   "id": "a2d2a8c4",
>>>>>>> documentation-devel
||||||| 804edffb
<<<<<<< HEAD
<<<<<<< HEAD
<<<<<<< HEAD
   "id": "a5b85359",
||||||| 6a30bf1
   "id": "473d587d",
=======
   "id": "c7969e55",
>>>>>>> documentation-devel
||||||| d28b18c
   "id": "c7969e55",
=======
   "id": "46439d2c",
>>>>>>> documentation-devel
||||||| 6893f63
<<<<<<< HEAD
   "id": "a5b85359",
||||||| 6a30bf1
   "id": "473d587d",
=======
   "id": "c7969e55",
>>>>>>> documentation-devel
=======
   "id": "cee86c32",
>>>>>>> c74c98c2450c2a1ba922ed9442f136238d6bc88b
=======
   "id": "007f0a08",
>>>>>>> 035bb2637984ead2784fecff78c0c60cc4181202
=======
   "id": "07c8afc4",
>>>>>>> 619c01f26351d57ac14d974b7af136ac5756103f
   "metadata": {
    "lines_to_next_cell": 0
   },
   "source": [
    "All these marker genes have positive spatial autocorrelation, but some stronger than others.\n",
    "\n",
    "Local Moran's I of these marker genes is shown below:"
   ]
  },
  {
   "cell_type": "code",
   "execution_count": null,
<<<<<<< HEAD
<<<<<<< HEAD
<<<<<<< HEAD
<<<<<<< HEAD
<<<<<<< HEAD
<<<<<<< HEAD
<<<<<<< HEAD
   "id": "e231942d",
||||||| 6a30bf1
   "id": "2dc27ecf",
=======
   "id": "55a0081f",
>>>>>>> documentation-devel
||||||| d28b18c
   "id": "55a0081f",
=======
   "id": "a501bd43",
>>>>>>> documentation-devel
||||||| 6893f63
<<<<<<< HEAD
   "id": "e231942d",
||||||| 6a30bf1
   "id": "2dc27ecf",
=======
   "id": "55a0081f",
>>>>>>> documentation-devel
=======
   "id": "59070298",
>>>>>>> c74c98c2450c2a1ba922ed9442f136238d6bc88b
||||||| 6d93b645
   "id": "a501bd43",
=======
   "id": "0b10f631",
>>>>>>> documentation-devel
||||||| 804edffb
<<<<<<< HEAD
<<<<<<< HEAD
<<<<<<< HEAD
   "id": "e231942d",
||||||| 6a30bf1
   "id": "2dc27ecf",
=======
   "id": "55a0081f",
>>>>>>> documentation-devel
||||||| d28b18c
   "id": "55a0081f",
=======
   "id": "a501bd43",
>>>>>>> documentation-devel
||||||| 6893f63
<<<<<<< HEAD
   "id": "e231942d",
||||||| 6a30bf1
   "id": "2dc27ecf",
=======
   "id": "55a0081f",
>>>>>>> documentation-devel
=======
   "id": "59070298",
>>>>>>> c74c98c2450c2a1ba922ed9442f136238d6bc88b
=======
   "id": "a799913b",
>>>>>>> 035bb2637984ead2784fecff78c0c60cc4181202
||||||| 3effdfa5
   "id": "0b10f631",
=======
   "id": "a5a559c2",
>>>>>>> documentation-devel
||||||| 96c826da
<<<<<<< HEAD
<<<<<<< HEAD
<<<<<<< HEAD
<<<<<<< HEAD
<<<<<<< HEAD
   "id": "e231942d",
||||||| 6a30bf1
   "id": "2dc27ecf",
=======
   "id": "55a0081f",
>>>>>>> documentation-devel
||||||| d28b18c
   "id": "55a0081f",
=======
   "id": "a501bd43",
>>>>>>> documentation-devel
||||||| 6893f63
<<<<<<< HEAD
   "id": "e231942d",
||||||| 6a30bf1
   "id": "2dc27ecf",
=======
   "id": "55a0081f",
>>>>>>> documentation-devel
=======
   "id": "59070298",
>>>>>>> c74c98c2450c2a1ba922ed9442f136238d6bc88b
||||||| 6d93b645
   "id": "a501bd43",
=======
   "id": "0b10f631",
>>>>>>> documentation-devel
||||||| 804edffb
<<<<<<< HEAD
<<<<<<< HEAD
<<<<<<< HEAD
   "id": "e231942d",
||||||| 6a30bf1
   "id": "2dc27ecf",
=======
   "id": "55a0081f",
>>>>>>> documentation-devel
||||||| d28b18c
   "id": "55a0081f",
=======
   "id": "a501bd43",
>>>>>>> documentation-devel
||||||| 6893f63
<<<<<<< HEAD
   "id": "e231942d",
||||||| 6a30bf1
   "id": "2dc27ecf",
=======
   "id": "55a0081f",
>>>>>>> documentation-devel
=======
   "id": "59070298",
>>>>>>> c74c98c2450c2a1ba922ed9442f136238d6bc88b
=======
   "id": "a799913b",
>>>>>>> 035bb2637984ead2784fecff78c0c60cc4181202
=======
   "id": "b4ff1ebc",
>>>>>>> 619c01f26351d57ac14d974b7af136ac5756103f
   "metadata": {},
   "outputs": [],
   "source": [
    "sfe <- runUnivariate(sfe, \"localmoran\", features = genes_use, colGraphName = \"knn5\",\n",
    "                     BPPARAM = MulticoreParam(2))"
   ]
  },
  {
   "cell_type": "code",
   "execution_count": null,
<<<<<<< HEAD
<<<<<<< HEAD
<<<<<<< HEAD
<<<<<<< HEAD
<<<<<<< HEAD
<<<<<<< HEAD
<<<<<<< HEAD
   "id": "aefcc5cf",
||||||| 6a30bf1
   "id": "248cc78d",
=======
   "id": "dfc977d0",
>>>>>>> documentation-devel
||||||| d28b18c
   "id": "dfc977d0",
=======
   "id": "6b7527a9",
>>>>>>> documentation-devel
||||||| 6893f63
<<<<<<< HEAD
   "id": "aefcc5cf",
||||||| 6a30bf1
   "id": "248cc78d",
=======
   "id": "dfc977d0",
>>>>>>> documentation-devel
=======
   "id": "1bd13bc4",
>>>>>>> c74c98c2450c2a1ba922ed9442f136238d6bc88b
||||||| 6d93b645
   "id": "6b7527a9",
=======
   "id": "9c9654c6",
>>>>>>> documentation-devel
||||||| 804edffb
<<<<<<< HEAD
<<<<<<< HEAD
<<<<<<< HEAD
   "id": "aefcc5cf",
||||||| 6a30bf1
   "id": "248cc78d",
=======
   "id": "dfc977d0",
>>>>>>> documentation-devel
||||||| d28b18c
   "id": "dfc977d0",
=======
   "id": "6b7527a9",
>>>>>>> documentation-devel
||||||| 6893f63
<<<<<<< HEAD
   "id": "aefcc5cf",
||||||| 6a30bf1
   "id": "248cc78d",
=======
   "id": "dfc977d0",
>>>>>>> documentation-devel
=======
   "id": "1bd13bc4",
>>>>>>> c74c98c2450c2a1ba922ed9442f136238d6bc88b
=======
   "id": "bdef81d5",
>>>>>>> 035bb2637984ead2784fecff78c0c60cc4181202
||||||| 3effdfa5
   "id": "9c9654c6",
=======
   "id": "471482e7",
>>>>>>> documentation-devel
||||||| 96c826da
<<<<<<< HEAD
<<<<<<< HEAD
<<<<<<< HEAD
<<<<<<< HEAD
<<<<<<< HEAD
   "id": "aefcc5cf",
||||||| 6a30bf1
   "id": "248cc78d",
=======
   "id": "dfc977d0",
>>>>>>> documentation-devel
||||||| d28b18c
   "id": "dfc977d0",
=======
   "id": "6b7527a9",
>>>>>>> documentation-devel
||||||| 6893f63
<<<<<<< HEAD
   "id": "aefcc5cf",
||||||| 6a30bf1
   "id": "248cc78d",
=======
   "id": "dfc977d0",
>>>>>>> documentation-devel
=======
   "id": "1bd13bc4",
>>>>>>> c74c98c2450c2a1ba922ed9442f136238d6bc88b
||||||| 6d93b645
   "id": "6b7527a9",
=======
   "id": "9c9654c6",
>>>>>>> documentation-devel
||||||| 804edffb
<<<<<<< HEAD
<<<<<<< HEAD
<<<<<<< HEAD
   "id": "aefcc5cf",
||||||| 6a30bf1
   "id": "248cc78d",
=======
   "id": "dfc977d0",
>>>>>>> documentation-devel
||||||| d28b18c
   "id": "dfc977d0",
=======
   "id": "6b7527a9",
>>>>>>> documentation-devel
||||||| 6893f63
<<<<<<< HEAD
   "id": "aefcc5cf",
||||||| 6a30bf1
   "id": "248cc78d",
=======
   "id": "dfc977d0",
>>>>>>> documentation-devel
=======
   "id": "1bd13bc4",
>>>>>>> c74c98c2450c2a1ba922ed9442f136238d6bc88b
=======
   "id": "bdef81d5",
>>>>>>> 035bb2637984ead2784fecff78c0c60cc4181202
=======
   "id": "9d4f25f0",
>>>>>>> 619c01f26351d57ac14d974b7af136ac5756103f
   "metadata": {
    "fig.height": 9,
    "fig.width": 9
   },
   "outputs": [],
   "source": [
    "plotLocalResult(sfe, \"localmoran\", features = genes_use, \n",
    "                colGeometryName = \"centroids\", ncol = 3, divergent = TRUE,\n",
    "                diverge_center = 0, scattermore = TRUE, pointsize = 0.3)"
   ]
  },
  {
   "cell_type": "markdown",
<<<<<<< HEAD
<<<<<<< HEAD
<<<<<<< HEAD
<<<<<<< HEAD
<<<<<<< HEAD
<<<<<<< HEAD
<<<<<<< HEAD
   "id": "b4e63075",
||||||| 6a30bf1
   "id": "88583f92",
=======
   "id": "b15020af",
>>>>>>> documentation-devel
||||||| d28b18c
   "id": "b15020af",
=======
   "id": "b6f6e6e7",
>>>>>>> documentation-devel
||||||| 6893f63
<<<<<<< HEAD
   "id": "b4e63075",
||||||| 6a30bf1
   "id": "88583f92",
=======
   "id": "b15020af",
>>>>>>> documentation-devel
=======
   "id": "d24ad605",
>>>>>>> c74c98c2450c2a1ba922ed9442f136238d6bc88b
||||||| 6d93b645
   "id": "b6f6e6e7",
=======
   "id": "b5bca617",
>>>>>>> documentation-devel
||||||| 804edffb
<<<<<<< HEAD
<<<<<<< HEAD
<<<<<<< HEAD
   "id": "b4e63075",
||||||| 6a30bf1
   "id": "88583f92",
=======
   "id": "b15020af",
>>>>>>> documentation-devel
||||||| d28b18c
   "id": "b15020af",
=======
   "id": "b6f6e6e7",
>>>>>>> documentation-devel
||||||| 6893f63
<<<<<<< HEAD
   "id": "b4e63075",
||||||| 6a30bf1
   "id": "88583f92",
=======
   "id": "b15020af",
>>>>>>> documentation-devel
=======
   "id": "d24ad605",
>>>>>>> c74c98c2450c2a1ba922ed9442f136238d6bc88b
=======
   "id": "bddb2540",
>>>>>>> 035bb2637984ead2784fecff78c0c60cc4181202
||||||| 3effdfa5
   "id": "b5bca617",
=======
   "id": "33ca23ac",
>>>>>>> documentation-devel
||||||| 96c826da
<<<<<<< HEAD
<<<<<<< HEAD
<<<<<<< HEAD
<<<<<<< HEAD
<<<<<<< HEAD
   "id": "b4e63075",
||||||| 6a30bf1
   "id": "88583f92",
=======
   "id": "b15020af",
>>>>>>> documentation-devel
||||||| d28b18c
   "id": "b15020af",
=======
   "id": "b6f6e6e7",
>>>>>>> documentation-devel
||||||| 6893f63
<<<<<<< HEAD
   "id": "b4e63075",
||||||| 6a30bf1
   "id": "88583f92",
=======
   "id": "b15020af",
>>>>>>> documentation-devel
=======
   "id": "d24ad605",
>>>>>>> c74c98c2450c2a1ba922ed9442f136238d6bc88b
||||||| 6d93b645
   "id": "b6f6e6e7",
=======
   "id": "b5bca617",
>>>>>>> documentation-devel
||||||| 804edffb
<<<<<<< HEAD
<<<<<<< HEAD
<<<<<<< HEAD
   "id": "b4e63075",
||||||| 6a30bf1
   "id": "88583f92",
=======
   "id": "b15020af",
>>>>>>> documentation-devel
||||||| d28b18c
   "id": "b15020af",
=======
   "id": "b6f6e6e7",
>>>>>>> documentation-devel
||||||| 6893f63
<<<<<<< HEAD
   "id": "b4e63075",
||||||| 6a30bf1
   "id": "88583f92",
=======
   "id": "b15020af",
>>>>>>> documentation-devel
=======
   "id": "d24ad605",
>>>>>>> c74c98c2450c2a1ba922ed9442f136238d6bc88b
=======
   "id": "bddb2540",
>>>>>>> 035bb2637984ead2784fecff78c0c60cc4181202
=======
   "id": "fdf5769d",
>>>>>>> 619c01f26351d57ac14d974b7af136ac5756103f
   "metadata": {
    "lines_to_next_cell": 0
   },
   "source": [
    "It seems that some histological regions tend to be more spatially homogenous in gene expression than others. The epithelial region tends to be more homogenous. For some genes, regions with higher expression also have higher local Moran's I, such as FOXA1 and GATA3, while for some genes, this is not the case, such as FGL2 and LUM. \n",
    "\n",
    "Finally, we assess local spatial heteroscdasticity (LOSH) for these marker genes to find local heterogeneity:"
   ]
  },
  {
   "cell_type": "code",
   "execution_count": null,
<<<<<<< HEAD
<<<<<<< HEAD
<<<<<<< HEAD
<<<<<<< HEAD
<<<<<<< HEAD
<<<<<<< HEAD
<<<<<<< HEAD
   "id": "620eb2c5",
||||||| 6a30bf1
   "id": "b8b87432",
=======
   "id": "b3ef5f58",
>>>>>>> documentation-devel
||||||| d28b18c
   "id": "b3ef5f58",
=======
   "id": "59d5a15d",
>>>>>>> documentation-devel
||||||| 6893f63
<<<<<<< HEAD
   "id": "620eb2c5",
||||||| 6a30bf1
   "id": "b8b87432",
=======
   "id": "b3ef5f58",
>>>>>>> documentation-devel
=======
   "id": "601e9924",
>>>>>>> c74c98c2450c2a1ba922ed9442f136238d6bc88b
||||||| 6d93b645
   "id": "59d5a15d",
=======
   "id": "26628d44",
>>>>>>> documentation-devel
||||||| 804edffb
<<<<<<< HEAD
<<<<<<< HEAD
<<<<<<< HEAD
   "id": "620eb2c5",
||||||| 6a30bf1
   "id": "b8b87432",
=======
   "id": "b3ef5f58",
>>>>>>> documentation-devel
||||||| d28b18c
   "id": "b3ef5f58",
=======
   "id": "59d5a15d",
>>>>>>> documentation-devel
||||||| 6893f63
<<<<<<< HEAD
   "id": "620eb2c5",
||||||| 6a30bf1
   "id": "b8b87432",
=======
   "id": "b3ef5f58",
>>>>>>> documentation-devel
=======
   "id": "601e9924",
>>>>>>> c74c98c2450c2a1ba922ed9442f136238d6bc88b
=======
   "id": "ccd9a2cb",
>>>>>>> 035bb2637984ead2784fecff78c0c60cc4181202
||||||| 3effdfa5
   "id": "26628d44",
=======
   "id": "4972e61a",
>>>>>>> documentation-devel
||||||| 96c826da
<<<<<<< HEAD
<<<<<<< HEAD
<<<<<<< HEAD
<<<<<<< HEAD
<<<<<<< HEAD
   "id": "620eb2c5",
||||||| 6a30bf1
   "id": "b8b87432",
=======
   "id": "b3ef5f58",
>>>>>>> documentation-devel
||||||| d28b18c
   "id": "b3ef5f58",
=======
   "id": "59d5a15d",
>>>>>>> documentation-devel
||||||| 6893f63
<<<<<<< HEAD
   "id": "620eb2c5",
||||||| 6a30bf1
   "id": "b8b87432",
=======
   "id": "b3ef5f58",
>>>>>>> documentation-devel
=======
   "id": "601e9924",
>>>>>>> c74c98c2450c2a1ba922ed9442f136238d6bc88b
||||||| 6d93b645
   "id": "59d5a15d",
=======
   "id": "26628d44",
>>>>>>> documentation-devel
||||||| 804edffb
<<<<<<< HEAD
<<<<<<< HEAD
<<<<<<< HEAD
   "id": "620eb2c5",
||||||| 6a30bf1
   "id": "b8b87432",
=======
   "id": "b3ef5f58",
>>>>>>> documentation-devel
||||||| d28b18c
   "id": "b3ef5f58",
=======
   "id": "59d5a15d",
>>>>>>> documentation-devel
||||||| 6893f63
<<<<<<< HEAD
   "id": "620eb2c5",
||||||| 6a30bf1
   "id": "b8b87432",
=======
   "id": "b3ef5f58",
>>>>>>> documentation-devel
=======
   "id": "601e9924",
>>>>>>> c74c98c2450c2a1ba922ed9442f136238d6bc88b
=======
   "id": "ccd9a2cb",
>>>>>>> 035bb2637984ead2784fecff78c0c60cc4181202
=======
   "id": "7bca4b0e",
>>>>>>> 619c01f26351d57ac14d974b7af136ac5756103f
   "metadata": {},
   "outputs": [],
   "source": [
    "sfe <- runUnivariate(sfe, \"LOSH\", features = genes_use, colGraphName = \"knn5\",\n",
    "                     BPPARAM = MulticoreParam(2))"
   ]
  },
  {
   "cell_type": "code",
   "execution_count": null,
<<<<<<< HEAD
<<<<<<< HEAD
<<<<<<< HEAD
<<<<<<< HEAD
<<<<<<< HEAD
<<<<<<< HEAD
<<<<<<< HEAD
   "id": "2d2edf60",
||||||| 6a30bf1
   "id": "e6506523",
=======
   "id": "b52c6fe0",
>>>>>>> documentation-devel
||||||| d28b18c
   "id": "b52c6fe0",
=======
   "id": "ccd1b76f",
>>>>>>> documentation-devel
||||||| 6893f63
<<<<<<< HEAD
   "id": "2d2edf60",
||||||| 6a30bf1
   "id": "e6506523",
=======
   "id": "b52c6fe0",
>>>>>>> documentation-devel
=======
   "id": "9dfdfb84",
>>>>>>> c74c98c2450c2a1ba922ed9442f136238d6bc88b
||||||| 6d93b645
   "id": "ccd1b76f",
=======
   "id": "82dc06b6",
>>>>>>> documentation-devel
||||||| 804edffb
<<<<<<< HEAD
<<<<<<< HEAD
<<<<<<< HEAD
   "id": "2d2edf60",
||||||| 6a30bf1
   "id": "e6506523",
=======
   "id": "b52c6fe0",
>>>>>>> documentation-devel
||||||| d28b18c
   "id": "b52c6fe0",
=======
   "id": "ccd1b76f",
>>>>>>> documentation-devel
||||||| 6893f63
<<<<<<< HEAD
   "id": "2d2edf60",
||||||| 6a30bf1
   "id": "e6506523",
=======
   "id": "b52c6fe0",
>>>>>>> documentation-devel
=======
   "id": "9dfdfb84",
>>>>>>> c74c98c2450c2a1ba922ed9442f136238d6bc88b
=======
   "id": "ae1e8a35",
>>>>>>> 035bb2637984ead2784fecff78c0c60cc4181202
||||||| 3effdfa5
   "id": "82dc06b6",
=======
   "id": "8a14c5e1",
>>>>>>> documentation-devel
||||||| 96c826da
<<<<<<< HEAD
<<<<<<< HEAD
<<<<<<< HEAD
<<<<<<< HEAD
<<<<<<< HEAD
   "id": "2d2edf60",
||||||| 6a30bf1
   "id": "e6506523",
=======
   "id": "b52c6fe0",
>>>>>>> documentation-devel
||||||| d28b18c
   "id": "b52c6fe0",
=======
   "id": "ccd1b76f",
>>>>>>> documentation-devel
||||||| 6893f63
<<<<<<< HEAD
   "id": "2d2edf60",
||||||| 6a30bf1
   "id": "e6506523",
=======
   "id": "b52c6fe0",
>>>>>>> documentation-devel
=======
   "id": "9dfdfb84",
>>>>>>> c74c98c2450c2a1ba922ed9442f136238d6bc88b
||||||| 6d93b645
   "id": "ccd1b76f",
=======
   "id": "82dc06b6",
>>>>>>> documentation-devel
||||||| 804edffb
<<<<<<< HEAD
<<<<<<< HEAD
<<<<<<< HEAD
   "id": "2d2edf60",
||||||| 6a30bf1
   "id": "e6506523",
=======
   "id": "b52c6fe0",
>>>>>>> documentation-devel
||||||| d28b18c
   "id": "b52c6fe0",
=======
   "id": "ccd1b76f",
>>>>>>> documentation-devel
||||||| 6893f63
<<<<<<< HEAD
   "id": "2d2edf60",
||||||| 6a30bf1
   "id": "e6506523",
=======
   "id": "b52c6fe0",
>>>>>>> documentation-devel
=======
   "id": "9dfdfb84",
>>>>>>> c74c98c2450c2a1ba922ed9442f136238d6bc88b
=======
   "id": "ae1e8a35",
>>>>>>> 035bb2637984ead2784fecff78c0c60cc4181202
=======
   "id": "8e8607d6",
>>>>>>> 619c01f26351d57ac14d974b7af136ac5756103f
   "metadata": {
    "fig.height": 9,
    "fig.width": 9
   },
   "outputs": [],
   "source": [
    "plotLocalResult(sfe, \"LOSH\", features = genes_use, \n",
    "                colGeometryName = \"centroids\", ncol = 3, scattermore = TRUE, \n",
    "                pointsize = 0.3)"
   ]
  },
  {
   "cell_type": "markdown",
<<<<<<< HEAD
<<<<<<< HEAD
<<<<<<< HEAD
<<<<<<< HEAD
<<<<<<< HEAD
<<<<<<< HEAD
<<<<<<< HEAD
   "id": "2d79cc3b",
||||||| 6a30bf1
   "id": "17c4f679",
=======
   "id": "13051b8d",
>>>>>>> documentation-devel
||||||| d28b18c
   "id": "13051b8d",
=======
   "id": "989ed3b0",
>>>>>>> documentation-devel
||||||| 6893f63
<<<<<<< HEAD
   "id": "2d79cc3b",
||||||| 6a30bf1
   "id": "17c4f679",
=======
   "id": "13051b8d",
>>>>>>> documentation-devel
=======
   "id": "4b0dd041",
>>>>>>> c74c98c2450c2a1ba922ed9442f136238d6bc88b
||||||| 6d93b645
   "id": "989ed3b0",
=======
   "id": "7a3ccf12",
>>>>>>> documentation-devel
||||||| 804edffb
<<<<<<< HEAD
<<<<<<< HEAD
<<<<<<< HEAD
   "id": "2d79cc3b",
||||||| 6a30bf1
   "id": "17c4f679",
=======
   "id": "13051b8d",
>>>>>>> documentation-devel
||||||| d28b18c
   "id": "13051b8d",
=======
   "id": "989ed3b0",
>>>>>>> documentation-devel
||||||| 6893f63
<<<<<<< HEAD
   "id": "2d79cc3b",
||||||| 6a30bf1
   "id": "17c4f679",
=======
   "id": "13051b8d",
>>>>>>> documentation-devel
=======
   "id": "4b0dd041",
>>>>>>> c74c98c2450c2a1ba922ed9442f136238d6bc88b
=======
   "id": "f7cf1d1d",
>>>>>>> 035bb2637984ead2784fecff78c0c60cc4181202
||||||| 3effdfa5
   "id": "7a3ccf12",
=======
   "id": "c4bd23d1",
>>>>>>> documentation-devel
||||||| 96c826da
<<<<<<< HEAD
<<<<<<< HEAD
<<<<<<< HEAD
<<<<<<< HEAD
<<<<<<< HEAD
   "id": "2d79cc3b",
||||||| 6a30bf1
   "id": "17c4f679",
=======
   "id": "13051b8d",
>>>>>>> documentation-devel
||||||| d28b18c
   "id": "13051b8d",
=======
   "id": "989ed3b0",
>>>>>>> documentation-devel
||||||| 6893f63
<<<<<<< HEAD
   "id": "2d79cc3b",
||||||| 6a30bf1
   "id": "17c4f679",
=======
   "id": "13051b8d",
>>>>>>> documentation-devel
=======
   "id": "4b0dd041",
>>>>>>> c74c98c2450c2a1ba922ed9442f136238d6bc88b
||||||| 6d93b645
   "id": "989ed3b0",
=======
   "id": "7a3ccf12",
>>>>>>> documentation-devel
||||||| 804edffb
<<<<<<< HEAD
<<<<<<< HEAD
<<<<<<< HEAD
   "id": "2d79cc3b",
||||||| 6a30bf1
   "id": "17c4f679",
=======
   "id": "13051b8d",
>>>>>>> documentation-devel
||||||| d28b18c
   "id": "13051b8d",
=======
   "id": "989ed3b0",
>>>>>>> documentation-devel
||||||| 6893f63
<<<<<<< HEAD
   "id": "2d79cc3b",
||||||| 6a30bf1
   "id": "17c4f679",
=======
   "id": "13051b8d",
>>>>>>> documentation-devel
=======
   "id": "4b0dd041",
>>>>>>> c74c98c2450c2a1ba922ed9442f136238d6bc88b
=======
   "id": "f7cf1d1d",
>>>>>>> 035bb2637984ead2784fecff78c0c60cc4181202
=======
   "id": "0e407f68",
>>>>>>> 619c01f26351d57ac14d974b7af136ac5756103f
   "metadata": {
    "lines_to_next_cell": 0
   },
   "source": [
    "Again, just like in the [CosMX dataset](https://pachterlab.github.io/voyager/articles/vig4_cosmx.html#local-spatial-statistics-of-marker-genes), LOSH is higher where the gene is more highly expressed in some (e.g. CD3E, LUM, TENT5C) but not all cases (e.g. FOXA1, GATA3). This may be due to spatial distribution of different cell types.\n",
    "\n",
    "# Session info"
   ]
  },
  {
   "cell_type": "code",
   "execution_count": null,
<<<<<<< HEAD
<<<<<<< HEAD
<<<<<<< HEAD
<<<<<<< HEAD
<<<<<<< HEAD
<<<<<<< HEAD
<<<<<<< HEAD
   "id": "4351a301",
||||||| 6a30bf1
   "id": "1e23d904",
=======
   "id": "3d26abca",
>>>>>>> documentation-devel
||||||| d28b18c
   "id": "3d26abca",
=======
   "id": "b0d5a7ea",
>>>>>>> documentation-devel
||||||| 6893f63
<<<<<<< HEAD
   "id": "4351a301",
||||||| 6a30bf1
   "id": "1e23d904",
=======
   "id": "3d26abca",
>>>>>>> documentation-devel
=======
   "id": "214f51df",
>>>>>>> c74c98c2450c2a1ba922ed9442f136238d6bc88b
||||||| 6d93b645
   "id": "b0d5a7ea",
=======
   "id": "b66b058e",
>>>>>>> documentation-devel
||||||| 804edffb
<<<<<<< HEAD
<<<<<<< HEAD
<<<<<<< HEAD
   "id": "4351a301",
||||||| 6a30bf1
   "id": "1e23d904",
=======
   "id": "3d26abca",
>>>>>>> documentation-devel
||||||| d28b18c
   "id": "3d26abca",
=======
   "id": "b0d5a7ea",
>>>>>>> documentation-devel
||||||| 6893f63
<<<<<<< HEAD
   "id": "4351a301",
||||||| 6a30bf1
   "id": "1e23d904",
=======
   "id": "3d26abca",
>>>>>>> documentation-devel
=======
   "id": "214f51df",
>>>>>>> c74c98c2450c2a1ba922ed9442f136238d6bc88b
=======
   "id": "04886211",
>>>>>>> 035bb2637984ead2784fecff78c0c60cc4181202
||||||| 3effdfa5
   "id": "b66b058e",
=======
   "id": "a6f59a25",
>>>>>>> documentation-devel
||||||| 96c826da
<<<<<<< HEAD
<<<<<<< HEAD
<<<<<<< HEAD
<<<<<<< HEAD
<<<<<<< HEAD
   "id": "4351a301",
||||||| 6a30bf1
   "id": "1e23d904",
=======
   "id": "3d26abca",
>>>>>>> documentation-devel
||||||| d28b18c
   "id": "3d26abca",
=======
   "id": "b0d5a7ea",
>>>>>>> documentation-devel
||||||| 6893f63
<<<<<<< HEAD
   "id": "4351a301",
||||||| 6a30bf1
   "id": "1e23d904",
=======
   "id": "3d26abca",
>>>>>>> documentation-devel
=======
   "id": "214f51df",
>>>>>>> c74c98c2450c2a1ba922ed9442f136238d6bc88b
||||||| 6d93b645
   "id": "b0d5a7ea",
=======
   "id": "b66b058e",
>>>>>>> documentation-devel
||||||| 804edffb
<<<<<<< HEAD
<<<<<<< HEAD
<<<<<<< HEAD
   "id": "4351a301",
||||||| 6a30bf1
   "id": "1e23d904",
=======
   "id": "3d26abca",
>>>>>>> documentation-devel
||||||| d28b18c
   "id": "3d26abca",
=======
   "id": "b0d5a7ea",
>>>>>>> documentation-devel
||||||| 6893f63
<<<<<<< HEAD
   "id": "4351a301",
||||||| 6a30bf1
   "id": "1e23d904",
=======
   "id": "3d26abca",
>>>>>>> documentation-devel
=======
   "id": "214f51df",
>>>>>>> c74c98c2450c2a1ba922ed9442f136238d6bc88b
=======
   "id": "04886211",
>>>>>>> 035bb2637984ead2784fecff78c0c60cc4181202
=======
   "id": "cb7ca8fe",
>>>>>>> 619c01f26351d57ac14d974b7af136ac5756103f
   "metadata": {},
   "outputs": [],
   "source": [
    "sessionInfo()"
   ]
  },
  {
   "cell_type": "markdown",
<<<<<<< HEAD
<<<<<<< HEAD
<<<<<<< HEAD
<<<<<<< HEAD
<<<<<<< HEAD
<<<<<<< HEAD
<<<<<<< HEAD
   "id": "c9a666c5",
||||||| 6a30bf1
   "id": "1cefc65c",
=======
   "id": "b215f695",
>>>>>>> documentation-devel
||||||| d28b18c
   "id": "b215f695",
=======
   "id": "f65e6d7a",
>>>>>>> documentation-devel
||||||| 6893f63
<<<<<<< HEAD
   "id": "c9a666c5",
||||||| 6a30bf1
   "id": "1cefc65c",
=======
   "id": "b215f695",
>>>>>>> documentation-devel
=======
   "id": "b9b53c77",
>>>>>>> c74c98c2450c2a1ba922ed9442f136238d6bc88b
||||||| 6d93b645
   "id": "f65e6d7a",
=======
   "id": "97206aa0",
>>>>>>> documentation-devel
||||||| 804edffb
<<<<<<< HEAD
<<<<<<< HEAD
<<<<<<< HEAD
   "id": "c9a666c5",
||||||| 6a30bf1
   "id": "1cefc65c",
=======
   "id": "b215f695",
>>>>>>> documentation-devel
||||||| d28b18c
   "id": "b215f695",
=======
   "id": "f65e6d7a",
>>>>>>> documentation-devel
||||||| 6893f63
<<<<<<< HEAD
   "id": "c9a666c5",
||||||| 6a30bf1
   "id": "1cefc65c",
=======
   "id": "b215f695",
>>>>>>> documentation-devel
=======
   "id": "b9b53c77",
>>>>>>> c74c98c2450c2a1ba922ed9442f136238d6bc88b
=======
   "id": "fa396ce1",
>>>>>>> 035bb2637984ead2784fecff78c0c60cc4181202
||||||| 3effdfa5
   "id": "97206aa0",
=======
   "id": "741410bc",
>>>>>>> documentation-devel
||||||| 96c826da
<<<<<<< HEAD
<<<<<<< HEAD
<<<<<<< HEAD
<<<<<<< HEAD
<<<<<<< HEAD
   "id": "c9a666c5",
||||||| 6a30bf1
   "id": "1cefc65c",
=======
   "id": "b215f695",
>>>>>>> documentation-devel
||||||| d28b18c
   "id": "b215f695",
=======
   "id": "f65e6d7a",
>>>>>>> documentation-devel
||||||| 6893f63
<<<<<<< HEAD
   "id": "c9a666c5",
||||||| 6a30bf1
   "id": "1cefc65c",
=======
   "id": "b215f695",
>>>>>>> documentation-devel
=======
   "id": "b9b53c77",
>>>>>>> c74c98c2450c2a1ba922ed9442f136238d6bc88b
||||||| 6d93b645
   "id": "f65e6d7a",
=======
   "id": "97206aa0",
>>>>>>> documentation-devel
||||||| 804edffb
<<<<<<< HEAD
<<<<<<< HEAD
<<<<<<< HEAD
   "id": "c9a666c5",
||||||| 6a30bf1
   "id": "1cefc65c",
=======
   "id": "b215f695",
>>>>>>> documentation-devel
||||||| d28b18c
   "id": "b215f695",
=======
   "id": "f65e6d7a",
>>>>>>> documentation-devel
||||||| 6893f63
<<<<<<< HEAD
   "id": "c9a666c5",
||||||| 6a30bf1
   "id": "1cefc65c",
=======
   "id": "b215f695",
>>>>>>> documentation-devel
=======
   "id": "b9b53c77",
>>>>>>> c74c98c2450c2a1ba922ed9442f136238d6bc88b
=======
   "id": "fa396ce1",
>>>>>>> 035bb2637984ead2784fecff78c0c60cc4181202
=======
   "id": "93653063",
>>>>>>> 619c01f26351d57ac14d974b7af136ac5756103f
   "metadata": {},
   "source": [
    "# References"
   ]
  }
 ],
 "metadata": {
  "kernelspec": {
   "display_name": "R",
   "language": "R",
   "name": "ir"
  }
 },
 "nbformat": 4,
 "nbformat_minor": 5
}
