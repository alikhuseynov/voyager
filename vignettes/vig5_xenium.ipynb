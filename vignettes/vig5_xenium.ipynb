{
 "cells": [
  {
   "cell_type": "raw",
<<<<<<< HEAD
   "id": "e66321d1",
||||||| 4eaa9fa
   "id": "a571b8d8",
=======
   "id": "3cc32eb7",
>>>>>>> documentation-devel
   "metadata": {},
   "source": [
    "---\n",
    "title: \"Xenium breast cancer dataset\"\n",
    "author: \"Lambda Moses\"\n",
    "date: \"`r Sys.Date()`\"\n",
    "output: \n",
    "  html_document:\n",
    "  toc: true\n",
    "  toc_float:\n",
    "    collapsed: false\n",
    "  toc_depth: 3\n",
    "bibliography: ref.bib\n",
    "vignette: >\n",
    "  %\\VignetteIndexEntry{xenium}\n",
    "  %\\VignetteEngine{knitr::rmarkdown}\n",
    "  %\\VignetteEncoding{UTF-8}\n",
    "---"
   ]
  },
  {
   "cell_type": "code",
   "execution_count": null,
<<<<<<< HEAD
   "id": "74c14454",
||||||| 4eaa9fa
   "id": "0304c0f3",
=======
   "id": "eea8c10a",
>>>>>>> documentation-devel
   "metadata": {
    "tags": [
     "remove_cell"
    ]
   },
   "outputs": [],
   "source": [
    "knitr::opts_chunk$set(\n",
    "  collapse = TRUE,\n",
    "  comment = \"#>\", fig.align = \"center\"\n",
    ")"
   ]
  },
  {
   "cell_type": "code",
   "execution_count": null,
<<<<<<< HEAD
   "id": "49aa72c4",
||||||| 4eaa9fa
   "id": "5c5fa21a",
=======
   "id": "d59d059a",
>>>>>>> documentation-devel
   "metadata": {
    "eval": false,
    "tags": [
     "remove_cell"
    ]
   },
   "outputs": [],
   "source": [
    "# Install Google Colab dependencies\n",
    "# Note: this can take 30+ minutes (many of the dependencies include C++ code, which needs to be compiled)\n",
    "\n",
    "# First install `sf`, `ragg` and `textshaping` and their system dependencies:\n",
    "system(\"apt-get -y update && apt-get install -y  libudunits2-dev libgdal-dev libgeos-dev libproj-dev libharfbuzz-dev libfribidi-dev\")\n",
    "install.packages(\"sf\")\n",
    "install.packages(\"textshaping\")\n",
    "install.packages(\"ragg\")\n",
    "\n",
    "# Install system dependencies of some other R packages that Voyager either imports or suggests:\n",
    "system(\"apt-get install -y libfribidi-dev libcairo2-dev libmagick++-dev\")\n",
    "\n",
    "# Install Voyager from Bioconductor:\n",
    "install.packages(\"BiocManager\")\n",
    "BiocManager::install(version = \"3.17\", ask = FALSE, update = FALSE, Ncpus = 2)\n",
    "BiocManager::install(\"scater\")\n",
    "system.time(\n",
    "  BiocManager::install(\"Voyager\", dependencies = TRUE, Ncpus = 2, update = FALSE)\n",
    ")\n",
    "\n",
    "packageVersion(\"Voyager\")"
   ]
  },
  {
   "cell_type": "markdown",
<<<<<<< HEAD
   "id": "dd1fe241",
||||||| 4eaa9fa
   "id": "3a7f1956",
=======
   "id": "b37da681",
>>>>>>> documentation-devel
   "metadata": {},
   "source": [
    "# Introduction\n",
    "\n",
    "Xenium is a new technology from 10X genomics for single cell resolution smFISH based spatial transcriptomics. The first Xenium dataset is for formalin fixed paraffin embedded (FFPE) human breast tumor, reported in [@Janesick2022-rp] and downloaded from the [10X website](https://www.10xgenomics.com/products/xenium-in-situ/preview-dataset-human-breast).\n",
    "\n",
    "The gene count matrix was downloaded as an HDF5 file and read into R as a `SingleCellExperiment` (SCE) object with `DropletUtils::read10xCounts()`. The gene count matrix is originally a `DelayedArray`, so the data is not all loaded into memory. For now, the matrix has been converted into an in memory `dgCMatrix`. However, for the next release, we would like to write another vignette on on disk analyses. The challenge is representing `sf` data frames on disk, perhaps with [`sedona`](https://github.com/apache/incubator-sedona) and [`SQLDataFrame`](https://bioconductor.org/packages/release/bioc/html/SQLDataFrame.html).\n",
    "\n",
    "The cell metadata (including centroid coordinates) and cell segmentation polygons were downloaded as `parquet` files, a more compact way to store columnar data than CSV, and read into R as data frames with `arrow::read_parquet()`. The cell polygons were converted into `sf` data frame with `SpatialFeatureExperiment::df2sf()`. Then the SCE object was converted into `SpatialFeatureExperiment` (SFE) and the polygon geometry was added to the SFE object, which is in the `SFEData` package.\n",
    "\n",
    "Here we load the packages used in this vignette."
   ]
  },
  {
   "cell_type": "code",
   "execution_count": null,
<<<<<<< HEAD
   "id": "5585cead",
||||||| 4eaa9fa
   "id": "d347255a",
=======
   "id": "689d90e6",
>>>>>>> documentation-devel
   "metadata": {
    "name": "setup"
   },
   "outputs": [],
   "source": [
    "library(Voyager)\n",
    "library(SFEData) \n",
    "library(SingleCellExperiment)\n",
    "library(SpatialExperiment)\n",
    "library(SpatialFeatureExperiment)\n",
    "library(ggplot2)\n",
    "library(stringr)\n",
    "library(scater) \n",
    "library(scuttle)\n",
    "library(BiocParallel)\n",
    "library(BiocSingular)\n",
    "library(bluster)\n",
    "library(scran)\n",
    "library(patchwork)\n",
    "theme_set(theme_bw())"
   ]
  },
  {
   "cell_type": "code",
   "execution_count": null,
<<<<<<< HEAD
   "id": "03c7f77c",
||||||| 4eaa9fa
   "id": "f6abd539",
=======
   "id": "ad2f7ac9",
>>>>>>> documentation-devel
   "metadata": {},
   "outputs": [],
   "source": [
    "(sfe <- JanesickBreastData(dataset = \"rep2\"))"
   ]
  },
  {
   "cell_type": "markdown",
<<<<<<< HEAD
   "id": "8e5bffd4",
||||||| 4eaa9fa
   "id": "ffb75898",
=======
   "id": "b0d829fe",
>>>>>>> documentation-devel
   "metadata": {
    "lines_to_next_cell": 0
   },
   "source": [
    "There are 118708 cells in this dataset, a little more than in the CosMX dataset.\n",
    "\n",
    "The SFE object doesn't have column names (i.e. cell IDs). Here we assign cell IDs."
   ]
  },
  {
   "cell_type": "code",
   "execution_count": null,
<<<<<<< HEAD
   "id": "865952cc",
||||||| 4eaa9fa
   "id": "40c87de0",
=======
   "id": "ccde8d89",
>>>>>>> documentation-devel
   "metadata": {},
   "outputs": [],
   "source": [
    "colnames(sfe) <- seq_len(ncol(sfe))"
   ]
  },
  {
   "cell_type": "markdown",
<<<<<<< HEAD
   "id": "4463fdf7",
||||||| 4eaa9fa
   "id": "a57329fd",
=======
   "id": "9190fa80",
>>>>>>> documentation-devel
   "metadata": {},
   "source": [
    "This is what the tissue, with the cell outlines, looks like"
   ]
  },
  {
   "cell_type": "code",
   "execution_count": null,
<<<<<<< HEAD
   "id": "ac9ffde6",
||||||| 4eaa9fa
   "id": "80b9da25",
=======
   "id": "aa3c80cd",
>>>>>>> documentation-devel
   "metadata": {},
   "outputs": [],
   "source": [
    "plotGeometry(sfe, \"cellSeg\")"
   ]
  },
  {
   "cell_type": "markdown",
<<<<<<< HEAD
   "id": "49b517b4",
||||||| 4eaa9fa
   "id": "f1770126",
=======
   "id": "00b98109",
>>>>>>> documentation-devel
   "metadata": {
    "lines_to_next_cell": 0
   },
   "source": [
    "Plot cell density in space"
   ]
  },
  {
   "cell_type": "code",
   "execution_count": null,
<<<<<<< HEAD
   "id": "8f2f40cc",
||||||| 4eaa9fa
   "id": "54a9710d",
=======
   "id": "74a2d284",
>>>>>>> documentation-devel
   "metadata": {},
   "outputs": [],
   "source": [
    "plotCellBin2D(sfe, hex = TRUE)"
   ]
  },
  {
   "cell_type": "markdown",
<<<<<<< HEAD
   "id": "9cfb29cc",
||||||| 4eaa9fa
   "id": "21cd195e",
=======
   "id": "7d753d9f",
>>>>>>> documentation-devel
   "metadata": {},
   "source": [
    "# Quality control\n",
    "## Cells\n",
    "Some QC metrics are precomputed and are stored in `colData`"
   ]
  },
  {
   "cell_type": "code",
   "execution_count": null,
<<<<<<< HEAD
   "id": "4f623eac",
||||||| 4eaa9fa
   "id": "716f0742",
=======
   "id": "d1b1c6f1",
>>>>>>> documentation-devel
   "metadata": {},
   "outputs": [],
   "source": [
    "names(colData(sfe))"
   ]
  },
  {
   "cell_type": "markdown",
<<<<<<< HEAD
   "id": "c0069eef",
||||||| 4eaa9fa
   "id": "3142a0c0",
=======
   "id": "043a61f2",
>>>>>>> documentation-devel
   "metadata": {},
   "source": [
    "Since there're more cells, it would be better to plot the tissue larger, so we'll plot the histogram of QC metrics and the spatial plots separately, unlike in the CosMx vignette."
   ]
  },
  {
   "cell_type": "code",
   "execution_count": null,
<<<<<<< HEAD
   "id": "da50d2c0",
||||||| 4eaa9fa
   "id": "bac35eeb",
=======
   "id": "e350949c",
>>>>>>> documentation-devel
   "metadata": {},
   "outputs": [],
   "source": [
    "n_panel <- 313\n",
    "colData(sfe)$nCounts_normed <- sfe$nCounts/n_panel\n",
    "colData(sfe)$nGenes_normed <- sfe$nGenes/n_panel"
   ]
  },
  {
   "cell_type": "markdown",
<<<<<<< HEAD
   "id": "b6ccff8c",
||||||| 4eaa9fa
   "id": "6be95a0d",
=======
   "id": "9fc2e107",
>>>>>>> documentation-devel
   "metadata": {},
   "source": [
    "Here we divided nCounts by the total number of genes probed, so this histogram is comparable to those from other smFISH-based datasets. "
   ]
  },
  {
   "cell_type": "code",
   "execution_count": null,
<<<<<<< HEAD
   "id": "c346673e",
||||||| 4eaa9fa
   "id": "cd74f724",
=======
   "id": "38160b3b",
>>>>>>> documentation-devel
   "metadata": {},
   "outputs": [],
   "source": [
    "plotColDataHistogram(sfe, c(\"nCounts_normed\", \"nGenes_normed\"))"
   ]
  },
  {
   "cell_type": "markdown",
<<<<<<< HEAD
   "id": "de924850",
||||||| 4eaa9fa
   "id": "53db4a13",
=======
   "id": "5bbe9e67",
>>>>>>> documentation-devel
   "metadata": {},
   "source": [
    "Compared to the [FFPE CosMX non-small cell lung cancer dataset](https://pachterlab.github.io/voyager/articles/vig4_cosmx.html#cells), more transcripts per gene on average and a larger proportion of all genes are detected in this dataset, which is also FFPE. However, this should be interpreted with care, since these two datasets are from different tissues and have different gene panels, so this may or may not indicate that Xenium has better detection efficiency than CosMX."
   ]
  },
  {
   "cell_type": "code",
   "execution_count": null,
<<<<<<< HEAD
   "id": "a19debbc",
||||||| 4eaa9fa
   "id": "ef51c364",
=======
   "id": "ea609b27",
>>>>>>> documentation-devel
   "metadata": {},
   "outputs": [],
   "source": [
    "plotSpatialFeature(sfe, \"nCounts\", colGeometryName = \"cellSeg\")"
   ]
  },
  {
   "cell_type": "markdown",
<<<<<<< HEAD
   "id": "e4eb1959",
||||||| 4eaa9fa
   "id": "2183e1b7",
=======
   "id": "1c35ce35",
>>>>>>> documentation-devel
   "metadata": {},
   "source": [
    "There seem to be FOV artifacts. However, the cell ID and FOV information were unavailable so we cannot examine them. "
   ]
  },
  {
   "cell_type": "code",
   "execution_count": null,
<<<<<<< HEAD
   "id": "b5094843",
||||||| 4eaa9fa
   "id": "0a30a38e",
=======
   "id": "48ae5aab",
>>>>>>> documentation-devel
   "metadata": {},
   "outputs": [],
   "source": [
    "plotSpatialFeature(sfe, \"nGenes\", colGeometryName = \"cellSeg\")"
   ]
  },
  {
   "cell_type": "markdown",
<<<<<<< HEAD
   "id": "2a780dab",
||||||| 4eaa9fa
   "id": "6a75ffb9",
=======
   "id": "6889fb83",
>>>>>>> documentation-devel
   "metadata": {
    "lines_to_next_cell": 0
   },
   "source": [
    "A standard examination is to look at the relationship between nCounts and nGenes:"
   ]
  },
  {
   "cell_type": "code",
   "execution_count": null,
<<<<<<< HEAD
   "id": "b4896b15",
||||||| 4eaa9fa
   "id": "3c172b01",
=======
   "id": "b21569c7",
>>>>>>> documentation-devel
   "metadata": {},
   "outputs": [],
   "source": [
    "plotColDataBin2D(sfe, \"nCounts\", \"nGenes\")"
   ]
  },
  {
   "cell_type": "markdown",
<<<<<<< HEAD
   "id": "ccc01f60",
||||||| 4eaa9fa
   "id": "e0b4f099",
=======
   "id": "e97f37b0",
>>>>>>> documentation-devel
   "metadata": {
    "lines_to_next_cell": 0
   },
   "source": [
    "There appear to be two branches. \n",
    "\n",
    "Here we plot the distribution of cell area"
   ]
  },
  {
   "cell_type": "code",
   "execution_count": null,
<<<<<<< HEAD
   "id": "52148685",
||||||| 4eaa9fa
   "id": "d9b1fcca",
=======
   "id": "1db25755",
>>>>>>> documentation-devel
   "metadata": {},
   "outputs": [],
   "source": [
    "plotColDataHistogram(sfe, c(\"cell_area\", \"nucleus_area\"), scales = \"free_y\")"
   ]
  },
  {
   "cell_type": "markdown",
<<<<<<< HEAD
   "id": "e4de829b",
||||||| 4eaa9fa
   "id": "37d188f9",
=======
   "id": "49ba4772",
>>>>>>> documentation-devel
   "metadata": {
    "lines_to_next_cell": 0
   },
   "source": [
    "That should be in pixels. There's a very long tail. The nuclei are much smaller than the cells.\n",
    "\n",
    "How is cell area distributed in space?"
   ]
  },
  {
   "cell_type": "code",
   "execution_count": null,
<<<<<<< HEAD
   "id": "bc7ccdf3",
||||||| 4eaa9fa
   "id": "d7d24962",
=======
   "id": "efeb480e",
>>>>>>> documentation-devel
   "metadata": {},
   "outputs": [],
   "source": [
    "plotSpatialFeature(sfe, \"cell_area\", colGeometryName = \"cellSeg\")"
   ]
  },
  {
   "cell_type": "markdown",
<<<<<<< HEAD
   "id": "ccea97f3",
||||||| 4eaa9fa
   "id": "bc5deb94",
=======
   "id": "9eed7938",
>>>>>>> documentation-devel
   "metadata": {
    "lines_to_next_cell": 0
   },
   "source": [
    "Cells in the sparse region tend to be larger than those in the dense region. This may be biological or an artifact of the cell segmentation algorithm or both.\n",
    "\n",
    "Here the nuclei segmentations are plotted instead of cell segmentation. The nuclei are much smaller to the extent that they are difficult to see."
   ]
  },
  {
   "cell_type": "code",
   "execution_count": null,
<<<<<<< HEAD
   "id": "5d5e1b4b",
||||||| 4eaa9fa
   "id": "f763f3a5",
=======
   "id": "886a5a13",
>>>>>>> documentation-devel
   "metadata": {},
   "outputs": [],
   "source": [
    "plotSpatialFeature(sfe, \"nucleus_area\", colGeometryName = \"nucSeg\")"
   ]
  },
  {
   "cell_type": "markdown",
<<<<<<< HEAD
   "id": "688290ae",
||||||| 4eaa9fa
   "id": "6bbeed70",
=======
   "id": "d3809964",
>>>>>>> documentation-devel
   "metadata": {
    "lines_to_next_cell": 0
   },
   "source": [
    "There's an outlier near the right edge of the section, throwing off the dynamic range of the plot. Upon inspection of the H&E image, the outlier is a bit of tissue debris that doesn't look like a cell. But we can still that cells in the dense, gland like regions tend to have larger nuclei. This may be biological, or that nuclei are so densely packed in those regions that they are more likely to be undersegmented, i.e. when multiple nuclei are counted as one by the nuclei segmentation program, or both.\n",
    "\n",
    "These observations motivate an examination of the relationship between cell area and nuclei area:"
   ]
  },
  {
   "cell_type": "code",
   "execution_count": null,
<<<<<<< HEAD
   "id": "db662419",
||||||| 4eaa9fa
   "id": "04127d88",
=======
   "id": "f344e184",
>>>>>>> documentation-devel
   "metadata": {},
   "outputs": [],
   "source": [
    "plotColDataBin2D(sfe, \"cell_area\", \"nucleus_area\") + \n",
    "    scale_fill_viridis_c()"
   ]
  },
  {
   "cell_type": "markdown",
<<<<<<< HEAD
   "id": "621a61c1",
||||||| 4eaa9fa
   "id": "27f57f01",
=======
   "id": "20de22b6",
>>>>>>> documentation-devel
   "metadata": {},
   "source": [
    "Again, there are two branches, probably related to cell density and cell type. The nucleus outlier also has large cell area, though it is not as much an outlier in cell area. However, it is a spatial outlier as it's unusually large compared to its neighbors (scroll up two plots back). \n",
    "\n",
    "Next we calculate the proportion of cell in this z-plane taken up by the nucleus, and examine the distribution:"
   ]
  },
  {
   "cell_type": "code",
   "execution_count": null,
<<<<<<< HEAD
   "id": "0769540a",
||||||| 4eaa9fa
   "id": "cb566e0d",
=======
   "id": "b27d683c",
>>>>>>> documentation-devel
   "metadata": {},
   "outputs": [],
   "source": [
    "colData(sfe)$prop_nuc <- sfe$nucleus_area / sfe$cell_area"
   ]
  },
  {
   "cell_type": "code",
   "execution_count": null,
<<<<<<< HEAD
   "id": "6e854986",
||||||| 4eaa9fa
   "id": "ae0813d2",
=======
   "id": "7d1b71a3",
>>>>>>> documentation-devel
   "metadata": {},
   "outputs": [],
   "source": [
    "plotColDataHistogram(sfe, \"prop_nuc\")"
   ]
  },
  {
   "cell_type": "markdown",
<<<<<<< HEAD
   "id": "7f19ee5f",
||||||| 4eaa9fa
   "id": "80f1cf25",
=======
   "id": "54b345cf",
>>>>>>> documentation-devel
   "metadata": {
    "lines_to_next_cell": 0
   },
   "source": [
    "This distribution could have been generated from two peaks that were combined. From the histogram, there do not seem to be cells without nuclei or segmentation artifacts where the nucleus is larger than the cell. However, there are so many cells in this dataset and it is possible that just a few cells would not be visible on this histogram. We double check:"
   ]
  },
  {
   "cell_type": "code",
   "execution_count": null,
<<<<<<< HEAD
   "id": "ea649942",
||||||| 4eaa9fa
   "id": "1b7f0bdd",
=======
   "id": "3f1894db",
>>>>>>> documentation-devel
   "metadata": {},
   "outputs": [],
   "source": [
    "# No nucleus\n",
    "sum(sfe$nucleus_area < 1)\n",
    "# Nucleus larger than cell\n",
    "sum(sfe$nucleus_area > sfe$cell_area)"
   ]
  },
  {
   "cell_type": "markdown",
<<<<<<< HEAD
   "id": "52912744",
||||||| 4eaa9fa
   "id": "364e85f9",
=======
   "id": "f1b579db",
>>>>>>> documentation-devel
   "metadata": {
    "lines_to_next_cell": 0
   },
   "source": [
    "So there are no cells without nuclei or nuclei larger than their cells. Here we plot the nuclei proportion in space:"
   ]
  },
  {
   "cell_type": "code",
   "execution_count": null,
<<<<<<< HEAD
   "id": "a52feda6",
||||||| 4eaa9fa
   "id": "1abda768",
=======
   "id": "55616ab0",
>>>>>>> documentation-devel
   "metadata": {},
   "outputs": [],
   "source": [
    "plotSpatialFeature(sfe, \"prop_nuc\", colGeometryName = \"cellSeg\")"
   ]
  },
  {
   "cell_type": "markdown",
<<<<<<< HEAD
   "id": "17ec9f36",
||||||| 4eaa9fa
   "id": "0a3271e9",
=======
   "id": "13a7cd49",
>>>>>>> documentation-devel
   "metadata": {
    "lines_to_next_cell": 0
   },
   "source": [
    "Cells in some histological regions have larger proportions occupied by the nuclei. It is interesting to check, controlling for cell type, how cell area, nucleus area, and the proportion of cell occupied by nucleus relate to gene expression. However, a problem in performing such an analysis is that cell segmentation is only available for one z-plane here and these areas also relate to where this z-plane intersects each cell. \n",
    "\n",
    "Below we plot a 2D histogram to better show the density of points on this plot:"
   ]
  },
  {
   "cell_type": "code",
   "execution_count": null,
<<<<<<< HEAD
   "id": "58f74edf",
||||||| 4eaa9fa
   "id": "28e8b5a4",
=======
   "id": "b0fd0e00",
>>>>>>> documentation-devel
   "metadata": {},
   "outputs": [],
   "source": [
    "plotColDataBin2D(sfe, \"cell_area\", \"prop_nuc\") + \n",
    "    scale_fill_viridis_c()"
   ]
  },
  {
   "cell_type": "markdown",
<<<<<<< HEAD
   "id": "d000a88e",
||||||| 4eaa9fa
   "id": "05f0f5ea",
=======
   "id": "ec5122d5",
>>>>>>> documentation-devel
   "metadata": {
    "lines_to_next_cell": 0
   },
   "source": [
    "Smaller cells tend to have higher proportion occupied by the nucleus. This can be related to cell type, or it could be a limitation in how small the nuclei can be in this tissue.\n",
    "\n",
    "We also examine the relationship between nucleus area and the proportion of cell occupied by the nucleus:"
   ]
  },
  {
   "cell_type": "code",
   "execution_count": null,
<<<<<<< HEAD
   "id": "2bf8d1a8",
||||||| 4eaa9fa
   "id": "ad8872ea",
=======
   "id": "b4aac299",
>>>>>>> documentation-devel
   "metadata": {},
   "outputs": [],
   "source": [
    "plotColDataBin2D(sfe, \"nucleus_area\", \"prop_nuc\") + \n",
    "    scale_fill_viridis_c()"
   ]
  },
  {
   "cell_type": "markdown",
<<<<<<< HEAD
   "id": "de392d5b",
||||||| 4eaa9fa
   "id": "ce940612",
=======
   "id": "f1e0c050",
>>>>>>> documentation-devel
   "metadata": {
    "lines_to_next_cell": 0
   },
   "source": [
    "The outlier is obvious. There are more cells with both small nuclei and low proportion of area occupied by the nucleus.\n",
    "\n",
    "## Negative controls\n",
    "Since there are only a few hundred genes plus negative control probes, all row names of the SFE object can be printed out to find what the negative control probes are called."
   ]
  },
  {
   "cell_type": "code",
   "execution_count": null,
<<<<<<< HEAD
   "id": "e5f596cd",
||||||| 4eaa9fa
   "id": "ae6fde99",
=======
   "id": "13a5f54f",
>>>>>>> documentation-devel
   "metadata": {},
   "outputs": [],
   "source": [
    "rownames(sfe)"
   ]
  },
  {
   "cell_type": "markdown",
<<<<<<< HEAD
   "id": "f8b30916",
||||||| 4eaa9fa
   "id": "3704c1ab",
=======
   "id": "3d204413",
>>>>>>> documentation-devel
   "metadata": {},
   "source": [
    "According to the Xenium paper [@Janesick2022-rp], there are 3 types of controls:\n",
    "\n",
    "> 1) probe controls to assess non-specific binding to RNA, \n",
    "2) decoding controls to assess misassigned genes, and \n",
    "3) genomic DNA (gDNA) controls to ensure the signal is from RNA.\n",
    "\n",
    "The paper does not explain in detail how those control probes were designed, nor explain what the blank probes are. But the blank probes can be used as a negative control."
   ]
  },
  {
   "cell_type": "code",
   "execution_count": null,
<<<<<<< HEAD
   "id": "b1c21d18",
||||||| 4eaa9fa
   "id": "c28e29a8",
=======
   "id": "3a048f87",
>>>>>>> documentation-devel
   "metadata": {},
   "outputs": [],
   "source": [
    "is_blank <- str_detect(rownames(sfe), \"^BLANK_\")\n",
    "sum(is_blank)"
   ]
  },
  {
   "cell_type": "markdown",
<<<<<<< HEAD
   "id": "b02c899a",
||||||| 4eaa9fa
   "id": "f1eab903",
=======
   "id": "0ef50afe",
>>>>>>> documentation-devel
   "metadata": {
    "lines_to_next_cell": 0
   },
   "source": [
    "This should be number 1, the probe control"
   ]
  },
  {
   "cell_type": "code",
   "execution_count": null,
<<<<<<< HEAD
   "id": "31558ef9",
||||||| 4eaa9fa
   "id": "377a6883",
=======
   "id": "698aa96e",
>>>>>>> documentation-devel
   "metadata": {},
   "outputs": [],
   "source": [
    "is_neg <- str_detect(rownames(sfe), \"^NegControlProbe\")\n",
    "sum(is_neg)"
   ]
  },
  {
   "cell_type": "markdown",
<<<<<<< HEAD
   "id": "f92053fd",
||||||| 4eaa9fa
   "id": "712c648a",
=======
   "id": "d2bca7ca",
>>>>>>> documentation-devel
   "metadata": {
    "lines_to_next_cell": 0
   },
   "source": [
    "This should be number 2, the decoding control"
   ]
  },
  {
   "cell_type": "code",
   "execution_count": null,
<<<<<<< HEAD
   "id": "1b830774",
||||||| 4eaa9fa
   "id": "2d1d9fb2",
=======
   "id": "9e2b5874",
>>>>>>> documentation-devel
   "metadata": {},
   "outputs": [],
   "source": [
    "is_neg2 <- str_detect(rownames(sfe), \"^NegControlCodeword\")\n",
    "sum(is_neg2)"
   ]
  },
  {
   "cell_type": "markdown",
<<<<<<< HEAD
   "id": "4853b9ce",
||||||| 4eaa9fa
   "id": "e3b15eab",
=======
   "id": "1217184e",
>>>>>>> documentation-devel
   "metadata": {
    "lines_to_next_cell": 0
   },
   "source": [
    "This must be number 3, gDNA control"
   ]
  },
  {
   "cell_type": "code",
   "execution_count": null,
<<<<<<< HEAD
   "id": "e812773c",
||||||| 4eaa9fa
   "id": "f701d865",
=======
   "id": "21be9a16",
>>>>>>> documentation-devel
   "metadata": {},
   "outputs": [],
   "source": [
    "is_anti <- str_detect(rownames(sfe), \"^antisense\")\n",
    "sum(is_anti)"
   ]
  },
  {
   "cell_type": "markdown",
<<<<<<< HEAD
   "id": "02d501f6",
||||||| 4eaa9fa
   "id": "f3450b6f",
=======
   "id": "5e75ca7f",
>>>>>>> documentation-devel
   "metadata": {
    "lines_to_next_cell": 0
   },
   "source": [
    "Also make an indicator of whether a feature is any sort of negative control"
   ]
  },
  {
   "cell_type": "code",
   "execution_count": null,
<<<<<<< HEAD
   "id": "acb8dc7e",
||||||| 4eaa9fa
   "id": "974803da",
=======
   "id": "db79f8bd",
>>>>>>> documentation-devel
   "metadata": {},
   "outputs": [],
   "source": [
    "is_any_neg <- is_blank | is_neg | is_neg2 | is_anti"
   ]
  },
  {
   "cell_type": "markdown",
<<<<<<< HEAD
   "id": "73d1e055",
||||||| 4eaa9fa
   "id": "04453051",
=======
   "id": "cddb07a6",
>>>>>>> documentation-devel
   "metadata": {
    "lines_to_next_cell": 0
   },
   "source": [
    "The `addPerCellQCMetrics()` function in the `scuttle` package can conveniently add transcript counts, proportion of total counts, and number of features detected for any subset of features to the SCE object. Here we do this for the SFE object, as SFE inherits from SCE. "
   ]
  },
  {
   "cell_type": "code",
   "execution_count": null,
<<<<<<< HEAD
   "id": "c64f1ae3",
||||||| 4eaa9fa
   "id": "51ca61fd",
=======
   "id": "4aed9457",
>>>>>>> documentation-devel
   "metadata": {},
   "outputs": [],
   "source": [
    "sfe <- addPerCellQCMetrics(sfe, subsets = list(blank = is_blank,\n",
    "                                               negProbe = is_neg,\n",
    "                                               negCodeword = is_neg2,\n",
    "                                               anti = is_anti,\n",
    "                                               any_neg = is_any_neg))"
   ]
  },
  {
   "cell_type": "code",
   "execution_count": null,
<<<<<<< HEAD
   "id": "242fc1b6",
||||||| 4eaa9fa
   "id": "ac0f7b5f",
=======
   "id": "519c100e",
>>>>>>> documentation-devel
   "metadata": {},
   "outputs": [],
   "source": [
    "names(colData(sfe))"
   ]
  },
  {
   "cell_type": "markdown",
<<<<<<< HEAD
   "id": "2431796f",
||||||| 4eaa9fa
   "id": "6381513d",
=======
   "id": "208b847e",
>>>>>>> documentation-devel
   "metadata": {},
   "source": [
    "Next we plot the proportion of transcript counts coming from any negative control. "
   ]
  },
  {
   "cell_type": "code",
   "execution_count": null,
<<<<<<< HEAD
   "id": "55393d3c",
||||||| 4eaa9fa
   "id": "8857affb",
=======
   "id": "bc216b8b",
>>>>>>> documentation-devel
   "metadata": {},
   "outputs": [],
   "source": [
    "cols_use <- names(colData(sfe))[str_detect(names(colData(sfe)), \"_percent$\")]\n",
    "plotColDataHistogram(sfe, cols_use, bins = 100, ncol = 3)"
   ]
  },
  {
   "cell_type": "markdown",
<<<<<<< HEAD
   "id": "50645b8b",
||||||| 4eaa9fa
   "id": "39ff21df",
=======
   "id": "75b61982",
>>>>>>> documentation-devel
   "metadata": {
    "lines_to_next_cell": 0
   },
   "source": [
    "The histogram is dominated by the bin at zero and there are some extreme outliers too few to be seen but evident from the scale of the x axis. We also plot the histogram only for cells with at least 1 count from a negative control. The NA's come from cells that got segmented but have no transcripts detected."
   ]
  },
  {
   "cell_type": "code",
   "execution_count": null,
<<<<<<< HEAD
   "id": "bc8f12cd",
||||||| 4eaa9fa
   "id": "fb379db4",
=======
   "id": "bfdc7d09",
>>>>>>> documentation-devel
   "metadata": {},
   "outputs": [],
   "source": [
    "plotColDataHistogram(sfe, cols_use, bins = 100, ncol = 3) + \n",
    "    scale_x_log10() +\n",
    "    annotation_logticks(sides = \"b\")"
   ]
  },
  {
   "cell_type": "markdown",
<<<<<<< HEAD
   "id": "057d49df",
||||||| 4eaa9fa
   "id": "00d301c7",
=======
   "id": "4fe3a7d3",
>>>>>>> documentation-devel
   "metadata": {
    "lines_to_next_cell": 0
   },
   "source": [
    "The vast majority of these cells have less than 1% of transcript counts from negative controls, but there are outliers with up to 50%. \n",
    "\n",
    "Next we plot the distribution of the number of negative control counts per cell:"
   ]
  },
  {
   "cell_type": "code",
   "execution_count": null,
<<<<<<< HEAD
   "id": "64d2600a",
||||||| 4eaa9fa
   "id": "5ca1c522",
=======
   "id": "50793cd9",
>>>>>>> documentation-devel
   "metadata": {},
   "outputs": [],
   "source": [
    "cols_use2 <- names(colData(sfe))[str_detect(names(colData(sfe)), \"_detected$\")]\n",
    "plotColDataHistogram(sfe, cols_use2, bins = 20, ncol = 3) +\n",
    "    # Avoid decimal breaks on x axis unless there're too few breaks\n",
    "    scale_x_continuous(breaks = scales::breaks_extended(Q = c(1,2,5)))"
   ]
  },
  {
   "cell_type": "markdown",
<<<<<<< HEAD
   "id": "eb09ffa5",
||||||| 4eaa9fa
   "id": "a55e72dc",
=======
   "id": "06763c55",
>>>>>>> documentation-devel
   "metadata": {},
   "source": [
    "The counts are low, mostly zero, but there are outliers with up to 10 counts of all types aggregated. Then the outlier with 50% of counts from negative controls must have very low total real transcript counts to begin with.\n",
    "\n",
    "The `scuttle` package can detect outliers, but by default it assigns anything above zero as an outlier, since that is over 3 median absolute deviations (MADs) away from the median, which is 0, and the MAD is 0 since the vast majority of cells don't have any negative control count. But it makes sense to allow a small proportion of negative controls. Here we use the distribution just for cells with at least 1 negative control count to find outliers. This distribution has a very long tail and some definite outliers.\n",
    "\n",
    "The code below extracts the outliers, based only on cells with at least one negative control count"
   ]
  },
  {
   "cell_type": "code",
   "execution_count": null,
<<<<<<< HEAD
   "id": "0dc45437",
||||||| 4eaa9fa
   "id": "e65d87db",
=======
   "id": "94b79013",
>>>>>>> documentation-devel
   "metadata": {},
   "outputs": [],
   "source": [
    "get_neg_ctrl_outliers <- function(col, sfe) {\n",
    "    inds <- colData(sfe)$nCounts > 0 & colData(sfe)[[col]] > 0\n",
    "    df <- colData(sfe)[inds,]\n",
    "    outlier_inds <- isOutlier(df[[col]], type = \"higher\")\n",
    "    outliers <- rownames(df)[outlier_inds]\n",
    "    col2 <- str_remove(col, \"^subsets_\")\n",
    "    col2 <- str_remove(col2, \"_percent$\")\n",
    "    new_colname <- paste(\"is\", col2, \"outlier\", sep = \"_\")\n",
    "    colData(sfe)[[new_colname]] <- colnames(sfe) %in% outliers\n",
    "    sfe\n",
    "}"
   ]
  },
  {
   "cell_type": "code",
   "execution_count": null,
<<<<<<< HEAD
   "id": "9f200b0b",
||||||| 4eaa9fa
   "id": "67b71055",
=======
   "id": "3e866b95",
>>>>>>> documentation-devel
   "metadata": {},
   "outputs": [],
   "source": [
    "cols_use <- names(colData(sfe))[str_detect(names(colData(sfe)), \"_percent$\")]\n",
    "for (n in cols_use) {\n",
    "    sfe <- get_neg_ctrl_outliers(n, sfe)\n",
    "}"
   ]
  },
  {
   "cell_type": "code",
   "execution_count": null,
<<<<<<< HEAD
   "id": "d9c4e9f1",
||||||| 4eaa9fa
   "id": "40159970",
=======
   "id": "b563e4ec",
>>>>>>> documentation-devel
   "metadata": {},
   "outputs": [],
   "source": [
    "names(colData(sfe))"
   ]
  },
  {
   "cell_type": "markdown",
<<<<<<< HEAD
   "id": "d1b42e12",
||||||| 4eaa9fa
   "id": "f18d0659",
=======
   "id": "fcc0bdb8",
>>>>>>> documentation-devel
   "metadata": {
    "lines_to_next_cell": 0
   },
   "source": [
    "Below we examine where the outliers are located in space:"
   ]
  },
  {
   "cell_type": "code",
   "execution_count": null,
<<<<<<< HEAD
   "id": "9e2e62d6",
||||||| 4eaa9fa
   "id": "2f9a9c39",
=======
   "id": "404f6b25",
>>>>>>> documentation-devel
   "metadata": {},
   "outputs": [],
   "source": [
    "plotSpatialFeature(sfe, \"is_blank_outlier\", colGeometryName = \"cellSeg\")"
   ]
  },
  {
   "cell_type": "markdown",
<<<<<<< HEAD
   "id": "984b59bc",
||||||| 4eaa9fa
   "id": "f2e8dcb5",
=======
   "id": "91541a67",
>>>>>>> documentation-devel
   "metadata": {
    "lines_to_next_cell": 0
   },
   "source": [
    "We find that the outliers are difficult to see:"
   ]
  },
  {
   "cell_type": "code",
   "execution_count": null,
<<<<<<< HEAD
   "id": "38222b7b",
||||||| 4eaa9fa
   "id": "b2aa5a83",
=======
   "id": "1d79cd29",
>>>>>>> documentation-devel
   "metadata": {},
   "outputs": [],
   "source": [
    "plotColData(sfe, y = \"is_blank_outlier\", x = \"cell_area\", \n",
    "            point_fun = function(...) list()) "
   ]
  },
  {
   "cell_type": "markdown",
<<<<<<< HEAD
   "id": "bf2aac8a",
||||||| 4eaa9fa
   "id": "6bc6e66f",
=======
   "id": "9c516349",
>>>>>>> documentation-devel
   "metadata": {
    "lines_to_next_cell": 0
   },
   "source": [
    "The analysis reveals that the outliers seem to be smaller. Outliers for negative probe controls and negative codeword controls are also hard to see on the plot, so their plots are skipped here. But the top left region in the tissue tends to have more counts from antisense controls. "
   ]
  },
  {
   "cell_type": "code",
   "execution_count": null,
<<<<<<< HEAD
   "id": "5ebbc47f",
||||||| 4eaa9fa
   "id": "bf9bd5e6",
=======
   "id": "f1f9e9d2",
>>>>>>> documentation-devel
   "metadata": {},
   "outputs": [],
   "source": [
    "plotSpatialFeature(sfe, \"is_anti_outlier\", colGeometryName = \"cellSeg\")"
   ]
  },
  {
   "cell_type": "markdown",
<<<<<<< HEAD
   "id": "4a83e91e",
||||||| 4eaa9fa
   "id": "fd40ae9a",
=======
   "id": "6982e617",
>>>>>>> documentation-devel
   "metadata": {},
   "source": [
    "Now that we have identified the outliers, we can remove them along with empty cells before proceeding to further analysis:"
   ]
  },
  {
   "cell_type": "code",
   "execution_count": null,
<<<<<<< HEAD
   "id": "0f3df352",
||||||| 4eaa9fa
   "id": "059451bc",
=======
   "id": "a771c185",
>>>>>>> documentation-devel
   "metadata": {},
   "outputs": [],
   "source": [
    "inds_keep <- sfe$nCounts > 0 & sfe$nucleus_area < 400 & !sfe$is_anti_outlier &\n",
    "    !sfe$is_blank_outlier & !sfe$is_negCodeword_outlier & !sfe$is_negProbe_outlier\n",
    "(sfe <- sfe[,inds_keep])"
   ]
  },
  {
   "cell_type": "markdown",
<<<<<<< HEAD
   "id": "04e49c19",
||||||| 4eaa9fa
   "id": "c1cb4995",
=======
   "id": "cd2adb91",
>>>>>>> documentation-devel
   "metadata": {
    "lines_to_next_cell": 0
   },
   "source": [
    "Over 1000 cells were removed. \n",
    "\n",
    "Next we check how many negative control features are detected per cell:"
   ]
  },
  {
   "cell_type": "code",
   "execution_count": null,
<<<<<<< HEAD
   "id": "8c71e4d4",
||||||| 4eaa9fa
   "id": "63c40c03",
=======
   "id": "7b0ab268",
>>>>>>> documentation-devel
   "metadata": {},
   "outputs": [],
   "source": [
    "plotColDataHistogram(sfe, cols_use2, bins = 20, ncol = 3) +\n",
    "    # Avoid decimal breaks on x axis unless there're too few breaks\n",
    "    scale_x_continuous(breaks = scales::breaks_extended(3, Q = c(1,2,5)))"
   ]
  },
  {
   "cell_type": "markdown",
<<<<<<< HEAD
   "id": "b7e1b17b",
||||||| 4eaa9fa
   "id": "05017ed3",
=======
   "id": "2adab00c",
>>>>>>> documentation-devel
   "metadata": {
    "lines_to_next_cell": 0
   },
   "source": [
    "There are at most 3 counts per cell per type. For the non-outliers, each type is at most around 1%, so this data looks good. \n",
    "\n",
    "## Genes\n",
    "Here we look at the mean and variance of each gene"
   ]
  },
  {
   "cell_type": "code",
   "execution_count": null,
<<<<<<< HEAD
   "id": "976edbe1",
||||||| 4eaa9fa
   "id": "8af4d017",
=======
   "id": "258ee682",
>>>>>>> documentation-devel
   "metadata": {},
   "outputs": [],
   "source": [
    "rowData(sfe)$means <- rowMeans(counts(sfe))\n",
    "rowData(sfe)$vars <- rowVars(counts(sfe))"
   ]
  },
  {
   "cell_type": "markdown",
<<<<<<< HEAD
   "id": "418fe1e8",
||||||| 4eaa9fa
   "id": "d14df194",
=======
   "id": "8fd64e9a",
>>>>>>> documentation-devel
   "metadata": {
    "lines_to_next_cell": 0
   },
   "source": [
    "Real genes generally have higher mean expression across cells than negative controls."
   ]
  },
  {
   "cell_type": "code",
   "execution_count": null,
<<<<<<< HEAD
   "id": "94cc5f8d",
||||||| 4eaa9fa
   "id": "64b38de9",
=======
   "id": "eeeed5fc",
>>>>>>> documentation-devel
   "metadata": {},
   "outputs": [],
   "source": [
    "rowData(sfe)$is_neg <- is_any_neg\n",
    "plotRowData(sfe, x = \"means\", y = \"is_neg\") +\n",
    "    scale_y_log10() +\n",
    "    annotation_logticks(sides = \"b\")"
   ]
  },
  {
   "cell_type": "markdown",
<<<<<<< HEAD
   "id": "e7866b7f",
||||||| 4eaa9fa
   "id": "d2f79e91",
=======
   "id": "8f8d6e10",
>>>>>>> documentation-devel
   "metadata": {
    "lines_to_next_cell": 0
   },
   "source": [
    "Here the real genes and negative controls are plotted in different colors"
   ]
  },
  {
   "cell_type": "code",
   "execution_count": null,
<<<<<<< HEAD
   "id": "336e72a0",
||||||| 4eaa9fa
   "id": "7b6e4de2",
=======
   "id": "5be58939",
>>>>>>> documentation-devel
   "metadata": {},
   "outputs": [],
   "source": [
    "plotRowDataBin2D(sfe, \"means\", \"vars\", subset = \"is_neg\", \n",
    "                 name_true = \"Counts (negative controls)\", \n",
    "                 name_false = \"Counts (real genes)\", bins = 50) +\n",
    "    geom_abline(slope = 1, intercept = 0, color = \"red\") +\n",
    "    scale_x_log10() + scale_y_log10() +\n",
    "    annotation_logticks() +\n",
    "    coord_equal()"
   ]
  },
  {
   "cell_type": "markdown",
<<<<<<< HEAD
   "id": "261ee4ec",
||||||| 4eaa9fa
   "id": "af4976e3",
=======
   "id": "cbb31d78",
>>>>>>> documentation-devel
   "metadata": {},
   "source": [
    "The red line $y = x$ is expected if the data follows a Poisson distribution. Negative controls and real genes form mostly separate clusters. Negative controls stick close to the line, while real genes are overdispersed. Unlike in the [CosMX dataset](https://pachterlab.github.io/voyager/articles/vig4_cosmx.html#genes), the negative controls don't seem overdispersed.\n",
    "\n",
    "# Spatial autocorrelation of QC metrics\n",
    "\n",
    "There's a sparse and a dense region. This poses the question of what type of neighborhood graph to use, e.g. it is conceivable that cells in the sparse region should just be singletons. Furthermore, it is unclear what the length scale of their influence might be. It might depend on the cell type and how contact and secreted signals are used in the cell type, and length scale of the influence. If k nearest neighbors are used, then the neighbors in the dense region are much closer together than those in the sparse region. If distance based neighbors are used, then cells in the dense region will have more neighbors than cells in the sparse region, and the sparse region can break into multiple compartments if the distance cutoff is not long enough. \n",
    "\n",
    "For the purpose of demonstration, we use k nearest neighbors with $k = 5$, with inverse distance weighting. Note that using more neighbors leads to longer computation time of spatial autocorrelation metrics."
   ]
  },
  {
   "cell_type": "code",
   "execution_count": null,
<<<<<<< HEAD
   "id": "68f31150",
||||||| 4eaa9fa
   "id": "a395d7de",
=======
   "id": "cf554f4c",
>>>>>>> documentation-devel
   "metadata": {},
   "outputs": [],
   "source": [
    "system.time(\n",
    "    colGraph(sfe, \"knn5\") <- findSpatialNeighbors(sfe, method = \"knearneigh\", \n",
    "                                                  dist_type = \"idw\", k = 5, \n",
    "                                                  style = \"W\")\n",
    ")"
   ]
  },
  {
   "cell_type": "code",
   "execution_count": null,
<<<<<<< HEAD
   "id": "50b43b6e",
||||||| 4eaa9fa
   "id": "29d4f9a2",
=======
   "id": "952363a4",
>>>>>>> documentation-devel
   "metadata": {},
   "outputs": [],
   "source": [
    "sfe <- colDataMoransI(sfe, c(\"nCounts\", \"nGenes\", \"cell_area\", \"nucleus_area\"),\n",
    "                      colGraphName = \"knn5\")"
   ]
  },
  {
   "cell_type": "code",
   "execution_count": null,
<<<<<<< HEAD
   "id": "c7718199",
||||||| 4eaa9fa
   "id": "56d1d9a4",
=======
   "id": "2b24603d",
>>>>>>> documentation-devel
   "metadata": {},
   "outputs": [],
   "source": [
    "colFeatureData(sfe)[c(\"nCounts\", \"nGenes\", \"cell_area\", \"nucleus_area\"),]"
   ]
  },
  {
   "cell_type": "markdown",
<<<<<<< HEAD
   "id": "b1e2ad85",
||||||| 4eaa9fa
   "id": "0c199779",
=======
   "id": "adecf5a0",
>>>>>>> documentation-devel
   "metadata": {},
   "source": [
    "Global Moran's I indicatse positive spatial autocorrelation. As the strength of spatial autocorrelation can vary spatially, we also run local Moran's I."
   ]
  },
  {
   "cell_type": "code",
   "execution_count": null,
<<<<<<< HEAD
   "id": "39f246e1",
||||||| 4eaa9fa
   "id": "1338bea2",
=======
   "id": "f2cf9620",
>>>>>>> documentation-devel
   "metadata": {},
   "outputs": [],
   "source": [
    "sfe <- colDataUnivariate(sfe, type = \"localmoran\", \n",
    "                         features = c(\"nCounts\", \"nGenes\", \"cell_area\", \n",
    "                                      \"nucleus_area\"),\n",
    "                         colGraphName = \"knn5\", BPPARAM = MulticoreParam(2))"
   ]
  },
  {
   "cell_type": "markdown",
<<<<<<< HEAD
   "id": "c6752e50",
||||||| 4eaa9fa
   "id": "d68cca0a",
=======
   "id": "d2d5d669",
>>>>>>> documentation-devel
   "metadata": {
    "lines_to_next_cell": 0
   },
   "source": [
    "The `pointsize` argument adjusts the point size in `scattermore`. The default is 0, meaning single pixels, but since the cells in the sparse region are hard to see that way, we increase `pointsize`. We would still plot the polygons in larger single panel plots, but use `scattermore` in multi-panel plots where the polygons in each panel are invisible anyway due to the small size to save some time."
   ]
  },
  {
   "cell_type": "code",
   "execution_count": null,
<<<<<<< HEAD
   "id": "599261ee",
||||||| 4eaa9fa
   "id": "d0b30737",
=======
   "id": "490adffc",
>>>>>>> documentation-devel
   "metadata": {
    "fig.height": 6,
    "fig.width": 9
   },
   "outputs": [],
   "source": [
    "plotLocalResult(sfe, \"localmoran\",\n",
    "                features = c(\"nCounts\", \"nGenes\", \"cell_area\", \"nucleus_area\"),\n",
    "                colGeometryName = \"centroids\", scattermore = TRUE,\n",
    "                divergent = TRUE, diverge_center = 0, pointsize = 1)"
   ]
  },
  {
   "cell_type": "markdown",
<<<<<<< HEAD
   "id": "99ef8a5c",
||||||| 4eaa9fa
   "id": "961c953f",
=======
   "id": "1a49a806",
>>>>>>> documentation-devel
   "metadata": {
    "lines_to_next_cell": 0
   },
   "source": [
    "Interestingly, nCounts is more homogeneous in the interior of the dense region, while nGenes is more homogeneous by the edge of the dense region. As expected, cell area is more homogeneous in the sparse region. However, the nucleus area is more homogeneous in the interior of the dense region. \n",
    "\n",
    "Moran plot for nCounts"
   ]
  },
  {
   "cell_type": "code",
   "execution_count": null,
<<<<<<< HEAD
   "id": "938ab206",
||||||| 4eaa9fa
   "id": "225e3f0b",
=======
   "id": "eb3e9d8b",
>>>>>>> documentation-devel
   "metadata": {},
   "outputs": [],
   "source": [
    "sfe <- colDataUnivariate(sfe, \"moran.plot\", \"nCounts\", colGraphName = \"knn5\")"
   ]
  },
  {
   "cell_type": "code",
   "execution_count": null,
<<<<<<< HEAD
   "id": "d1fe3a1c",
||||||| 4eaa9fa
   "id": "c4c00b32",
=======
   "id": "1ae62dee",
>>>>>>> documentation-devel
   "metadata": {
    "fig.height": 7,
    "fig.width": 8
   },
   "outputs": [],
   "source": [
    "p1 <- moranPlot(sfe, \"nCounts\", binned = TRUE, plot_influential = FALSE) \n",
    "p2 <- moranPlot(sfe, \"nCounts\", binned = TRUE)\n",
    "p1 / p2 + plot_layout(guides = \"collect\")"
   ]
  },
  {
   "cell_type": "markdown",
<<<<<<< HEAD
   "id": "94b1d304",
||||||| 4eaa9fa
   "id": "dec9d904",
=======
   "id": "d50cf07f",
>>>>>>> documentation-devel
   "metadata": {},
   "source": [
    "There are no obvious clusters here. In the lower panel, the 2D histogram of influential points is plotted in red.\n",
    "\n",
    "# Moran's I\n",
    "\n",
    "By default, for gene expression, the log normalized counts are used in spatial autocorrelation metrics, so before running Moran's I, we normalize the data."
   ]
  },
  {
   "cell_type": "code",
   "execution_count": null,
<<<<<<< HEAD
   "id": "2c283a71",
||||||| 4eaa9fa
   "id": "e12347f8",
=======
   "id": "ebb89948",
>>>>>>> documentation-devel
   "metadata": {},
   "outputs": [],
   "source": [
    "sfe <- logNormCounts(sfe)"
   ]
  },
  {
   "cell_type": "markdown",
<<<<<<< HEAD
   "id": "7c567ade",
||||||| 4eaa9fa
   "id": "6f19dcff",
=======
   "id": "069723ea",
>>>>>>> documentation-devel
   "metadata": {
    "lines_to_next_cell": 0
   },
   "source": [
    "Use more cores if available to speed this up."
   ]
  },
  {
   "cell_type": "code",
   "execution_count": null,
<<<<<<< HEAD
   "id": "8eca20c2",
||||||| 4eaa9fa
   "id": "29b73d01",
=======
   "id": "1d7770db",
>>>>>>> documentation-devel
   "metadata": {},
   "outputs": [],
   "source": [
    "system.time(\n",
    "    sfe <- runMoransI(sfe, colGraphName = \"knn5\", BPPARAM = MulticoreParam(2))\n",
    ")"
   ]
  },
  {
   "cell_type": "code",
   "execution_count": null,
<<<<<<< HEAD
   "id": "0c8bf957",
||||||| 4eaa9fa
   "id": "ed453f16",
=======
   "id": "64a570f0",
>>>>>>> documentation-devel
   "metadata": {},
   "outputs": [],
   "source": [
    "rowData(sfe)$is_neg <- is_any_neg"
   ]
  },
  {
   "cell_type": "code",
   "execution_count": null,
<<<<<<< HEAD
   "id": "df4aed6c",
||||||| 4eaa9fa
   "id": "fcfe5b58",
=======
   "id": "a2ac816e",
>>>>>>> documentation-devel
   "metadata": {},
   "outputs": [],
   "source": [
    "plotRowData(sfe, x = \"moran_sample01\", y = \"is_neg\")"
   ]
  },
  {
   "cell_type": "markdown",
<<<<<<< HEAD
   "id": "1ce6dbfc",
||||||| 4eaa9fa
   "id": "e4cd7eb6",
=======
   "id": "a8a12301",
>>>>>>> documentation-devel
   "metadata": {
    "lines_to_next_cell": 0
   },
   "source": [
    "As expected, generally the negative controls are tightly clustered around 0, while the real genes have positive Moran's I, which means there is generally no technical artifact spatial trend. No significantly negative Moran's I is observed. Why is negative spatial autocorrelation so rare in gene expression?\n",
    "\n",
    "What are the two negative controls with a sizable Moran's I?"
   ]
  },
  {
   "cell_type": "code",
   "execution_count": null,
<<<<<<< HEAD
   "id": "effe676f",
||||||| 4eaa9fa
   "id": "ec0b67a5",
=======
   "id": "50db5bef",
>>>>>>> documentation-devel
   "metadata": {
    "fig.height": 3,
    "fig.width": 9
   },
   "outputs": [],
   "source": [
    "ord <- order(rowData(sfe)$moran_sample01[is_any_neg], decreasing = TRUE)[1:2]\n",
    "top_neg <- rownames(sfe)[is_any_neg][ord]\n",
    "plotSpatialFeature(sfe, top_neg, colGeometryName = \"centroids\",\n",
    "                   scattermore = TRUE, pointsize = 1)"
   ]
  },
  {
   "cell_type": "markdown",
<<<<<<< HEAD
   "id": "c79dab6d",
||||||| 4eaa9fa
   "id": "17c3d0b1",
=======
   "id": "1cf8e302",
>>>>>>> documentation-devel
   "metadata": {
    "lines_to_next_cell": 0
   },
   "source": [
    "There is somewhat a spatial trend for that antisense probe, with more detected in the upper left. However, this might not significantly affect other results since there are at most 2 counts and at most about 1% of all counts in each cell. The negative control codeword has at most 1 count per cell and the cells with this negative control detected seem to be few and far between. \n",
    "\n",
    "These are the most detected negative controls, and the most detected one is also the one with the highest Moran's I among negative controls. However, the other negative control with higher Moran's I is not among the most detected."
   ]
  },
  {
   "cell_type": "code",
   "execution_count": null,
<<<<<<< HEAD
   "id": "cb4cf293",
||||||| 4eaa9fa
   "id": "1163efa8",
=======
   "id": "0d3a3cc8",
>>>>>>> documentation-devel
   "metadata": {},
   "outputs": [],
   "source": [
    "head(sort(rowData(sfe)$means[is_any_neg], decreasing = TRUE), 15)"
   ]
  },
  {
   "cell_type": "markdown",
<<<<<<< HEAD
   "id": "e59b7585",
||||||| 4eaa9fa
   "id": "91d46578",
=======
   "id": "44f17d80",
>>>>>>> documentation-devel
   "metadata": {
    "lines_to_next_cell": 0
   },
   "source": [
    "What are the genes with the highest Moran's I?"
   ]
  },
  {
   "cell_type": "code",
   "execution_count": null,
<<<<<<< HEAD
   "id": "1b3b074c",
||||||| 4eaa9fa
   "id": "0fb1d1f8",
=======
   "id": "170457db",
>>>>>>> documentation-devel
   "metadata": {
    "fig.height": 9,
    "fig.width": 9
   },
   "outputs": [],
   "source": [
    "top_moran <- rownames(sfe)[order(rowData(sfe)$moran_sample01, decreasing = TRUE)[1:6]]\n",
    "plotSpatialFeature(sfe, top_moran, colGeometryName = \"centroids\",\n",
    "                   scattermore = TRUE, ncol = 2, pointsize = 0.5)"
   ]
  },
  {
   "cell_type": "markdown",
<<<<<<< HEAD
   "id": "2aec99bd",
||||||| 4eaa9fa
   "id": "bb6a8952",
=======
   "id": "2f28aca9",
>>>>>>> documentation-devel
   "metadata": {
    "lines_to_next_cell": 0
   },
   "source": [
    "They all highlight the same histological regions, as in the [CosMX vignette](https://pachterlab.github.io/voyager/articles/vig4_cosmx.html#morans-i). How does Moran's I relate to gene expression level?"
   ]
  },
  {
   "cell_type": "code",
   "execution_count": null,
<<<<<<< HEAD
   "id": "e2e0e967",
||||||| 4eaa9fa
   "id": "e57bcede",
=======
   "id": "89cabefc",
>>>>>>> documentation-devel
   "metadata": {},
   "outputs": [],
   "source": [
    "plotRowData(sfe, x = \"means\", y = \"moran_sample01\")"
   ]
  },
  {
   "cell_type": "markdown",
<<<<<<< HEAD
   "id": "94c39a10",
||||||| 4eaa9fa
   "id": "f6288862",
=======
   "id": "21913ba1",
>>>>>>> documentation-devel
   "metadata": {
    "lines_to_next_cell": 0
   },
   "source": [
    "Very highly expressed genes have higher Moran's I, but there are some less expressed genes with higher Moran's I as well.\n",
    "\n",
    "# Non-spatial dimension reduction and clustering\n",
    "\n",
    "Here we run non-spatial PCA as for scRNA-seq data"
   ]
  },
  {
   "cell_type": "code",
   "execution_count": null,
<<<<<<< HEAD
   "id": "d292f0b6",
||||||| 4eaa9fa
   "id": "3ca6a800",
=======
   "id": "62bdbd7f",
>>>>>>> documentation-devel
   "metadata": {},
   "outputs": [],
   "source": [
    "set.seed(29)\n",
    "sfe <- runPCA(sfe, ncomponents = 30, scale = TRUE, BSPARAM = IrlbaParam())"
   ]
  },
  {
   "cell_type": "code",
   "execution_count": null,
<<<<<<< HEAD
   "id": "0b7d84b3",
||||||| 4eaa9fa
   "id": "a5cab05a",
=======
   "id": "c92704b9",
>>>>>>> documentation-devel
   "metadata": {},
   "outputs": [],
   "source": [
    "ElbowPlot(sfe, ndims = 30)"
   ]
  },
  {
   "cell_type": "code",
   "execution_count": null,
<<<<<<< HEAD
   "id": "99b12a78",
||||||| 4eaa9fa
   "id": "f3b2cfbc",
=======
   "id": "28afdcd4",
>>>>>>> documentation-devel
   "metadata": {},
   "outputs": [],
   "source": [
    "plotDimLoadings(sfe, dims = 1:6)"
   ]
  },
  {
   "cell_type": "code",
   "execution_count": null,
<<<<<<< HEAD
   "id": "abe46be0",
||||||| 4eaa9fa
   "id": "c1aa8590",
=======
   "id": "be7258b5",
>>>>>>> documentation-devel
   "metadata": {
    "fig.height": 9,
    "fig.width": 9
   },
   "outputs": [],
   "source": [
    "spatialReducedDim(sfe, \"PCA\", 6, colGeometryName = \"centroids\", divergent = TRUE,\n",
    "                  diverge_center = 0, ncol = 2, scattermore = TRUE, pointsize = 0.5)"
   ]
  },
  {
   "cell_type": "markdown",
<<<<<<< HEAD
   "id": "570dad82",
||||||| 4eaa9fa
   "id": "addd6199",
=======
   "id": "f1e0ce2e",
>>>>>>> documentation-devel
   "metadata": {
    "lines_to_next_cell": 0
   },
   "source": [
    "While spatial region is not explicitly used, the PC's highlight spatial regions due to spatial autocorrelation in gene expression and histological regions with different cell types.\n",
    "\n",
    "Non-spatial clustering and locating the clusters in space"
   ]
  },
  {
   "cell_type": "code",
   "execution_count": null,
<<<<<<< HEAD
   "id": "294e8fb4",
||||||| 4eaa9fa
   "id": "e8289bc6",
=======
   "id": "e46fffbe",
>>>>>>> documentation-devel
   "metadata": {},
   "outputs": [],
   "source": [
    "colData(sfe)$cluster <- clusterRows(reducedDim(sfe, \"PCA\")[,1:15],\n",
    "                                    BLUSPARAM = SNNGraphParam(\n",
    "                                        cluster.fun = \"leiden\",\n",
    "                                        cluster.args = list(\n",
    "                                            resolution_parameter = 0.5,\n",
    "                                            objective_function = \"modularity\")))"
   ]
  },
  {
   "cell_type": "markdown",
<<<<<<< HEAD
   "id": "6f42a377",
||||||| 4eaa9fa
   "id": "d43e83da",
=======
   "id": "712a0994",
>>>>>>> documentation-devel
   "metadata": {
    "lines_to_next_cell": 0
   },
   "source": [
    "Now the `scater` can also rasterize the plots with lots of points with the `rasterise` argument, but with a different mechanism from `scattermore` that requires more system dependencies. "
   ]
  },
  {
   "cell_type": "code",
   "execution_count": null,
<<<<<<< HEAD
   "id": "671c6e74",
||||||| 4eaa9fa
   "id": "908726d2",
=======
   "id": "fbba5a63",
>>>>>>> documentation-devel
   "metadata": {
    "fig.height": 8,
    "fig.width": 8
   },
   "outputs": [],
   "source": [
    "plotPCA(sfe, ncomponents = 4, colour_by = \"cluster\", rasterise = FALSE)"
   ]
  },
  {
   "cell_type": "markdown",
<<<<<<< HEAD
   "id": "6c5f8356",
||||||| 4eaa9fa
   "id": "0ec116a2",
=======
   "id": "b6b9e218",
>>>>>>> documentation-devel
   "metadata": {
    "lines_to_next_cell": 0
   },
   "source": [
    "Plot the location of the clusters in space"
   ]
  },
  {
   "cell_type": "code",
   "execution_count": null,
<<<<<<< HEAD
   "id": "cc93881b",
||||||| 4eaa9fa
   "id": "c521b5f4",
=======
   "id": "70b49620",
>>>>>>> documentation-devel
   "metadata": {},
   "outputs": [],
   "source": [
    "plotSpatialFeature(sfe, \"cluster\", colGeometryName = \"cellSeg\")"
   ]
  },
  {
   "cell_type": "markdown",
<<<<<<< HEAD
   "id": "345d18a0",
||||||| 4eaa9fa
   "id": "0682ffec",
=======
   "id": "e35b5208",
>>>>>>> documentation-devel
   "metadata": {
    "lines_to_next_cell": 0
   },
   "source": [
    "# Differential expression\n",
    "Cluster marker genes are found with Wilcoxon rank sum test as commonly done for scRNA-seq."
   ]
  },
  {
   "cell_type": "code",
   "execution_count": null,
<<<<<<< HEAD
   "id": "943aa83e",
||||||| 4eaa9fa
   "id": "74d82fe1",
=======
   "id": "7fe22929",
>>>>>>> documentation-devel
   "metadata": {},
   "outputs": [],
   "source": [
    "markers <- findMarkers(sfe, groups = colData(sfe)$cluster,\n",
    "                       test.type = \"wilcox\", pval.type = \"all\", direction = \"up\")"
   ]
  },
  {
   "cell_type": "markdown",
<<<<<<< HEAD
   "id": "5cd5285d",
||||||| 4eaa9fa
   "id": "2ddd036b",
=======
   "id": "bf0a2a1b",
>>>>>>> documentation-devel
   "metadata": {
    "lines_to_next_cell": 0
   },
   "source": [
    "It's already sorted by p-values:"
   ]
  },
  {
   "cell_type": "code",
   "execution_count": null,
<<<<<<< HEAD
   "id": "fb6a1838",
||||||| 4eaa9fa
   "id": "ba996c8f",
=======
   "id": "8306e621",
>>>>>>> documentation-devel
   "metadata": {},
   "outputs": [],
   "source": [
    "markers[[6]]"
   ]
  },
  {
   "cell_type": "markdown",
<<<<<<< HEAD
   "id": "dda3d04c",
||||||| 4eaa9fa
   "id": "8e98222a",
=======
   "id": "059dee8b",
>>>>>>> documentation-devel
   "metadata": {
    "lines_to_next_cell": 0
   },
   "source": [
    "The code below extracts the significant markers for each cluster:"
   ]
  },
  {
   "cell_type": "code",
   "execution_count": null,
<<<<<<< HEAD
   "id": "72c72bcf",
||||||| 4eaa9fa
   "id": "2d5a19d1",
=======
   "id": "f6f5dcd0",
>>>>>>> documentation-devel
   "metadata": {},
   "outputs": [],
   "source": [
    "genes_use <- vapply(markers, function(x) rownames(x)[1], FUN.VALUE = character(1))\n",
    "plotExpression(sfe, genes_use, x = \"cluster\", point_fun = function(...) list())"
   ]
  },
  {
   "cell_type": "markdown",
<<<<<<< HEAD
   "id": "d16956e2",
||||||| 4eaa9fa
   "id": "fc34e24a",
=======
   "id": "f55cd748",
>>>>>>> documentation-devel
   "metadata": {
    "lines_to_next_cell": 0
   },
   "source": [
    "This allows for plotting more top marker genes in a heatmap:"
   ]
  },
  {
   "cell_type": "code",
   "execution_count": null,
<<<<<<< HEAD
   "id": "e621134d",
||||||| 4eaa9fa
   "id": "65019027",
=======
   "id": "6e576204",
>>>>>>> documentation-devel
   "metadata": {
    "fig.height": 8,
    "fig.width": 6
   },
   "outputs": [],
   "source": [
    "genes_use2 <- unique(unlist(lapply(markers, function(x) rownames(x)[1:5])))\n",
    "plotGroupedHeatmap(sfe, genes_use2, group = \"cluster\", colour = scales::viridis_pal()(100))"
   ]
  },
  {
   "cell_type": "markdown",
<<<<<<< HEAD
   "id": "966b1c40",
||||||| 4eaa9fa
   "id": "26f87497",
=======
   "id": "3c32d7ef",
>>>>>>> documentation-devel
   "metadata": {
    "lines_to_next_cell": 0
   },
   "source": [
    "# Local spatial statistics of marker genes\n",
    "\n",
    "First we plot those genes in space as a reference"
   ]
  },
  {
   "cell_type": "code",
   "execution_count": null,
<<<<<<< HEAD
   "id": "d0f8ae0a",
||||||| 4eaa9fa
   "id": "044708c3",
=======
   "id": "8e282f0a",
>>>>>>> documentation-devel
   "metadata": {
    "fig.height": 9,
    "fig.width": 9
   },
   "outputs": [],
   "source": [
    "plotSpatialFeature(sfe, genes_use, colGeometryName = \"centroids\", ncol = 3,\n",
    "                   pointsize = 0.3, scattermore = TRUE)"
   ]
  },
  {
   "cell_type": "markdown",
<<<<<<< HEAD
   "id": "ecb7d6b4",
||||||| 4eaa9fa
   "id": "9beafc00",
=======
   "id": "cbd71a4c",
>>>>>>> documentation-devel
   "metadata": {},
   "source": [
    "Global Moran's I of these marker genes is shown below:"
   ]
  },
  {
   "cell_type": "code",
   "execution_count": null,
<<<<<<< HEAD
   "id": "8229fdb7",
||||||| 4eaa9fa
   "id": "f0bab4fe",
=======
   "id": "64e43869",
>>>>>>> documentation-devel
   "metadata": {},
   "outputs": [],
   "source": [
    "setNames(rowData(sfe)[genes_use, \"moran_sample01\"], genes_use)"
   ]
  },
  {
   "cell_type": "markdown",
<<<<<<< HEAD
   "id": "87788f89",
||||||| 4eaa9fa
   "id": "09c767b9",
=======
   "id": "473d587d",
>>>>>>> documentation-devel
   "metadata": {
    "lines_to_next_cell": 0
   },
   "source": [
    "All these marker genes have positive spatial autocorrelation, but some stronger than others.\n",
    "\n",
    "Local Moran's I of these marker genes is shown below:"
   ]
  },
  {
   "cell_type": "code",
   "execution_count": null,
<<<<<<< HEAD
   "id": "b98eb109",
||||||| 4eaa9fa
   "id": "c4628753",
=======
   "id": "2dc27ecf",
>>>>>>> documentation-devel
   "metadata": {},
   "outputs": [],
   "source": [
    "sfe <- runUnivariate(sfe, \"localmoran\", features = genes_use, colGraphName = \"knn5\",\n",
    "                     BPPARAM = MulticoreParam(2))"
   ]
  },
  {
   "cell_type": "code",
   "execution_count": null,
<<<<<<< HEAD
   "id": "182da7a2",
||||||| 4eaa9fa
   "id": "20180946",
=======
   "id": "248cc78d",
>>>>>>> documentation-devel
   "metadata": {
    "fig.height": 9,
    "fig.width": 9
   },
   "outputs": [],
   "source": [
    "plotLocalResult(sfe, \"localmoran\", features = genes_use, \n",
    "                colGeometryName = \"centroids\", ncol = 3, divergent = TRUE,\n",
    "                diverge_center = 0, scattermore = TRUE, pointsize = 0.3)"
   ]
  },
  {
   "cell_type": "markdown",
<<<<<<< HEAD
   "id": "5d3083a8",
||||||| 4eaa9fa
   "id": "eed7b72e",
=======
   "id": "88583f92",
>>>>>>> documentation-devel
   "metadata": {
    "lines_to_next_cell": 0
   },
   "source": [
    "It seems that some histological regions tend to be more spatially homogenous in gene expression than others. The epithelial region tends to be more homogenous. For some genes, regions with higher expression also have higher local Moran's I, such as FOXA1 and GATA3, while for some genes, this is not the case, such as FGL2 and LUM. \n",
    "\n",
    "Finally, we assess local spatial heteroscdasticity (LOSH) for these marker genes to find local heterogeneity:"
   ]
  },
  {
   "cell_type": "code",
   "execution_count": null,
<<<<<<< HEAD
   "id": "76195f62",
||||||| 4eaa9fa
   "id": "4846c19a",
=======
   "id": "b8b87432",
>>>>>>> documentation-devel
   "metadata": {},
   "outputs": [],
   "source": [
    "sfe <- runUnivariate(sfe, \"LOSH\", features = genes_use, colGraphName = \"knn5\",\n",
    "                     BPPARAM = MulticoreParam(2))"
   ]
  },
  {
   "cell_type": "code",
   "execution_count": null,
<<<<<<< HEAD
   "id": "2b937716",
||||||| 4eaa9fa
   "id": "576b8417",
=======
   "id": "e6506523",
>>>>>>> documentation-devel
   "metadata": {
    "fig.height": 9,
    "fig.width": 9
   },
   "outputs": [],
   "source": [
    "plotLocalResult(sfe, \"LOSH\", features = genes_use, \n",
    "                colGeometryName = \"centroids\", ncol = 3, scattermore = TRUE, \n",
    "                pointsize = 0.3)"
   ]
  },
  {
   "cell_type": "markdown",
<<<<<<< HEAD
   "id": "626cdfd0",
||||||| 4eaa9fa
   "id": "2d8857b1",
=======
   "id": "17c4f679",
>>>>>>> documentation-devel
   "metadata": {
    "lines_to_next_cell": 0
   },
   "source": [
    "Again, just like in the [CosMX dataset](https://pachterlab.github.io/voyager/articles/vig4_cosmx.html#local-spatial-statistics-of-marker-genes), LOSH is higher where the gene is more highly expressed in some (e.g. CD3E, LUM, TENT5C) but not all cases (e.g. FOXA1, GATA3). This may be due to spatial distribution of different cell types.\n",
    "\n",
    "# Session info"
   ]
  },
  {
   "cell_type": "code",
   "execution_count": null,
<<<<<<< HEAD
   "id": "92e19dd4",
||||||| 4eaa9fa
   "id": "f7bdeed2",
=======
   "id": "1e23d904",
>>>>>>> documentation-devel
   "metadata": {},
   "outputs": [],
   "source": [
    "sessionInfo()"
   ]
  },
  {
   "cell_type": "markdown",
<<<<<<< HEAD
   "id": "5c457439",
||||||| 4eaa9fa
   "id": "0263d2e5",
=======
   "id": "1cefc65c",
>>>>>>> documentation-devel
   "metadata": {},
   "source": [
    "# References"
   ]
  }
 ],
 "metadata": {
  "kernelspec": {
   "display_name": "R",
   "language": "R",
   "name": "ir"
  }
 },
 "nbformat": 4,
 "nbformat_minor": 5
}
