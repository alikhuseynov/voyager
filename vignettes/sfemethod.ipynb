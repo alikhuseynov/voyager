{
 "cells": [
  {
   "cell_type": "raw",
<<<<<<< HEAD
<<<<<<< HEAD
<<<<<<< HEAD
<<<<<<< HEAD
   "id": "b3609f85",
||||||| 11b9cb7
   "id": "91e30007",
=======
   "id": "77575082",
>>>>>>> documentation-devel
||||||| 614e9b1
   "id": "77575082",
=======
   "id": "cf0ae007",
>>>>>>> documentation-devel
||||||| 856b4c0
<<<<<<< HEAD
   "id": "b3609f85",
||||||| 11b9cb7
   "id": "91e30007",
=======
   "id": "77575082",
>>>>>>> documentation-devel
=======
   "id": "eb2c35e3",
>>>>>>> 552590ea8fad969b67afdba27558a1e6cb21016e
||||||| 452c944
   "id": "cf0ae007",
=======
   "id": "58a70a70",
>>>>>>> documentation-devel
   "metadata": {},
   "source": [
    "---\n",
    "title: \"Use your own spatial method in Voyager\"\n",
    "author: \"Lambda Moses\"\n",
    "date: \"`r Sys.Date()`\"\n",
    "output: \n",
    "  html_document:\n",
    "  toc: true\n",
    "  toc_float:\n",
    "    collapsed: false\n",
    "  toc_depth: 3\n",
    "bibliography: ref.bib\n",
    "vignette: >\n",
    "  %\\VignetteIndexEntry{sfemethod}\n",
    "  %\\VignetteEngine{knitr::rmarkdown}\n",
    "  %\\VignetteEncoding{UTF-8}\n",
    "---"
   ]
  },
  {
   "cell_type": "code",
   "execution_count": null,
<<<<<<< HEAD
<<<<<<< HEAD
<<<<<<< HEAD
<<<<<<< HEAD
   "id": "020a111a",
||||||| 11b9cb7
   "id": "34c6450c",
=======
   "id": "83575a9b",
>>>>>>> documentation-devel
||||||| 614e9b1
   "id": "83575a9b",
=======
   "id": "c70b55de",
>>>>>>> documentation-devel
||||||| 856b4c0
<<<<<<< HEAD
   "id": "020a111a",
||||||| 11b9cb7
   "id": "34c6450c",
=======
   "id": "83575a9b",
>>>>>>> documentation-devel
=======
   "id": "1d997ed0",
>>>>>>> 552590ea8fad969b67afdba27558a1e6cb21016e
||||||| 452c944
   "id": "c70b55de",
=======
   "id": "b32e6eec",
>>>>>>> documentation-devel
   "metadata": {
    "tags": [
     "remove_cell"
    ]
   },
   "outputs": [],
   "source": [
    "knitr::opts_chunk$set(\n",
    "  collapse = TRUE,\n",
    "  comment = \"#>\"\n",
    ")"
   ]
  },
  {
   "cell_type": "markdown",
<<<<<<< HEAD
<<<<<<< HEAD
<<<<<<< HEAD
<<<<<<< HEAD
   "id": "0d062a05",
||||||| 11b9cb7
   "id": "27ad3f3d",
=======
   "id": "f285ba8d",
>>>>>>> documentation-devel
||||||| 614e9b1
   "id": "f285ba8d",
=======
   "id": "99dbf9d6",
>>>>>>> documentation-devel
||||||| 856b4c0
<<<<<<< HEAD
   "id": "0d062a05",
||||||| 11b9cb7
   "id": "27ad3f3d",
=======
   "id": "f285ba8d",
>>>>>>> documentation-devel
=======
   "id": "200e10d7",
>>>>>>> 552590ea8fad969b67afdba27558a1e6cb21016e
||||||| 452c944
   "id": "99dbf9d6",
=======
   "id": "e6e1976d",
>>>>>>> documentation-devel
   "metadata": {},
   "source": [
    "# Introduction\n",
    "There are multiple different ways to do certain things. Each of the different ways have pros and cons, and sometimes can tell somewhat different stories. Often the different ways come with different syntaxes, increasing the learning curve for users. `Voyager` took inspiration from `caret` and `tidymodels` [@Kuhn2020-fm] for machine learning, `foreach`, `future`, and `BiocParallel` for parallel processing with different backends, `bluster` for different clustering algorithms, and `BiocNeighbors` for different algorithms to find nearest neighbors. These packages provide uniform user interfaces to different methods to achieve a given goal. \n",
    "\n",
    "In `caret` and `tidymodels`, users can make the uniform user interface fit custom models not included in the package to eliminate a lot of duplicate code. In `Voyager`, this is done with the `SFEMethod` S4 class. This vignette shows how to use the `SFEMethod` class to use Voyager's uniform user interface on you own custom methods.\n",
    "\n",
    "Here we load the packages used:"
   ]
  },
  {
   "cell_type": "code",
   "execution_count": null,
<<<<<<< HEAD
<<<<<<< HEAD
<<<<<<< HEAD
<<<<<<< HEAD
   "id": "1d4d0f95",
||||||| 11b9cb7
   "id": "b7c90186",
=======
   "id": "dc6a659b",
>>>>>>> documentation-devel
||||||| 614e9b1
   "id": "dc6a659b",
=======
   "id": "247f6b69",
>>>>>>> documentation-devel
||||||| 856b4c0
<<<<<<< HEAD
   "id": "1d4d0f95",
||||||| 11b9cb7
   "id": "b7c90186",
=======
   "id": "dc6a659b",
>>>>>>> documentation-devel
=======
   "id": "327a450a",
>>>>>>> 552590ea8fad969b67afdba27558a1e6cb21016e
||||||| 452c944
   "id": "247f6b69",
=======
   "id": "53fc05ee",
>>>>>>> documentation-devel
   "metadata": {},
   "outputs": [],
   "source": [
    "library(Voyager)\n",
    "library(spdep)"
   ]
  },
  {
   "cell_type": "markdown",
<<<<<<< HEAD
<<<<<<< HEAD
<<<<<<< HEAD
<<<<<<< HEAD
   "id": "74fe1ca7",
||||||| 11b9cb7
   "id": "3d280ecd",
=======
   "id": "baa9404c",
>>>>>>> documentation-devel
||||||| 614e9b1
   "id": "baa9404c",
=======
   "id": "83db28b7",
>>>>>>> documentation-devel
||||||| 856b4c0
<<<<<<< HEAD
   "id": "74fe1ca7",
||||||| 11b9cb7
   "id": "3d280ecd",
=======
   "id": "baa9404c",
>>>>>>> documentation-devel
=======
   "id": "10e78e4d",
>>>>>>> 552590ea8fad969b67afdba27558a1e6cb21016e
||||||| 452c944
   "id": "83db28b7",
=======
   "id": "cb2bc8c8",
>>>>>>> documentation-devel
   "metadata": {},
   "source": [
    "`Voyager` categorizes exploratory spatial data analysis (ESDA) methods by the number of variables and whether the method gives one result for the entire dataset (global) or gives results at each location (local). While the process to create an `SFEMethod` object is mostly the same across categories, each category has specific arguments.\n",
    "\n",
    "Also, before you make your own `SFEMethod` object, see if the method of interest is already in `Voyager`. The methods can be listed with the `listSFEMethods()` function.\n",
    "\n",
    "When calling `calculate*variate()` or `run*variate()`, the `type` (2nd) argument takes either an `SFEMethod` object or a string that matches an entry in the `name` column in the data frame returned by `listSFEMethods()` so `Voyager` will search for an S4 object with name matching the string.\n",
    "\n",
    "# Univariate\n",
    "## Global\n",
    "These are the univariate global methods in `Voyager`:"
   ]
  },
  {
   "cell_type": "code",
   "execution_count": null,
<<<<<<< HEAD
<<<<<<< HEAD
<<<<<<< HEAD
<<<<<<< HEAD
   "id": "8a0df8bd",
||||||| 11b9cb7
   "id": "a8e6f023",
=======
   "id": "6ed0b6e9",
>>>>>>> documentation-devel
||||||| 614e9b1
   "id": "6ed0b6e9",
=======
   "id": "1f3ac247",
>>>>>>> documentation-devel
||||||| 856b4c0
<<<<<<< HEAD
   "id": "8a0df8bd",
||||||| 11b9cb7
   "id": "a8e6f023",
=======
   "id": "6ed0b6e9",
>>>>>>> documentation-devel
=======
   "id": "9637e93f",
>>>>>>> 552590ea8fad969b67afdba27558a1e6cb21016e
||||||| 452c944
   "id": "1f3ac247",
=======
   "id": "8d2025c8",
>>>>>>> documentation-devel
   "metadata": {},
   "outputs": [],
   "source": [
    "listSFEMethods(\"uni\", \"global\")"
   ]
  },
  {
   "cell_type": "markdown",
<<<<<<< HEAD
<<<<<<< HEAD
<<<<<<< HEAD
<<<<<<< HEAD
   "id": "12c336bb",
||||||| 11b9cb7
   "id": "ef2b9fc1",
=======
   "id": "abaa2fd4",
>>>>>>> documentation-devel
||||||| 614e9b1
   "id": "abaa2fd4",
=======
   "id": "6b37e482",
>>>>>>> documentation-devel
||||||| 856b4c0
<<<<<<< HEAD
   "id": "12c336bb",
||||||| 11b9cb7
   "id": "ef2b9fc1",
=======
   "id": "abaa2fd4",
>>>>>>> documentation-devel
=======
   "id": "d565d019",
>>>>>>> 552590ea8fad969b67afdba27558a1e6cb21016e
||||||| 452c944
   "id": "6b37e482",
=======
   "id": "2534bddf",
>>>>>>> documentation-devel
   "metadata": {},
   "source": [
    "This is the code used to create the `SFEMethod` object to run Moran's I, with the `SFEMethod()` constructor:"
   ]
  },
  {
   "cell_type": "code",
   "execution_count": null,
<<<<<<< HEAD
<<<<<<< HEAD
<<<<<<< HEAD
<<<<<<< HEAD
   "id": "b983d120",
||||||| 11b9cb7
   "id": "6aebf0f2",
=======
   "id": "255e1ea4",
>>>>>>> documentation-devel
||||||| 614e9b1
   "id": "255e1ea4",
=======
   "id": "f7426374",
>>>>>>> documentation-devel
||||||| 856b4c0
<<<<<<< HEAD
   "id": "b983d120",
||||||| 11b9cb7
   "id": "6aebf0f2",
=======
   "id": "255e1ea4",
>>>>>>> documentation-devel
=======
   "id": "bc6f820e",
>>>>>>> 552590ea8fad969b67afdba27558a1e6cb21016e
||||||| 452c944
   "id": "f7426374",
=======
   "id": "68fcfd36",
>>>>>>> documentation-devel
   "metadata": {
    "eval": false
   },
   "outputs": [],
   "source": [
    "moran <- SFEMethod(\n",
    "    name = \"moran\", title = \"Moran's I\", package = \"spdep\", \n",
    "    variate = \"uni\", scope = \"global\",\n",
    "    fun = function(x, listw, zero.policy = NULL)\n",
    "        spdep::moran(x, listw, n = length(listw$neighbours), S0 = spdep::Szero(listw),\n",
    "                     zero.policy = zero.policy),\n",
    "    use_graph = TRUE,\n",
    "    reorganize_fun = .moran2df\n",
    ")"
   ]
  },
  {
   "cell_type": "markdown",
<<<<<<< HEAD
<<<<<<< HEAD
<<<<<<< HEAD
<<<<<<< HEAD
   "id": "c539ae28",
||||||| 11b9cb7
   "id": "5c0df780",
=======
   "id": "c5754243",
>>>>>>> documentation-devel
||||||| 614e9b1
   "id": "c5754243",
=======
   "id": "d858fd00",
>>>>>>> documentation-devel
||||||| 856b4c0
<<<<<<< HEAD
   "id": "c539ae28",
||||||| 11b9cb7
   "id": "5c0df780",
=======
   "id": "c5754243",
>>>>>>> documentation-devel
=======
   "id": "1f2b87ca",
>>>>>>> 552590ea8fad969b67afdba27558a1e6cb21016e
||||||| 452c944
   "id": "d858fd00",
=======
   "id": "d36feeb9",
>>>>>>> documentation-devel
   "metadata": {},
   "source": [
    "The `package` argument is used to check if the package is installed when the method is run. The function to run the method is in the `fun` argument. All univariate methods that use a spatial neighborhood graph (`use_graph = TRUE`) must have arguments:\n",
    "\n",
    "* `x` for a vector as input\n",
    "* `listw` for the spatial neighborhood graph as a `listw` object, and \n",
    "* `zero.policy` for what to do when there are cells or spots that don't have spatial neighbors. See `spdep` documentation (e.g. `spdep::moran()`) for how the `zero.policy` argument behaves. \n",
    "\n",
    "In this case I wrote a think wrapper to fill in the confusing arguments that may confuse the users.\n",
    "\n",
    "If the function running the method from another package has different arguments, then write a thin wrapper to make these required arguments. Extra arguments can be passed to `fun` through `...`.\n",
    "\n",
    "The `reorganize_fun` argument takes a function to reorganize the output from `fun` to form a `DataFrame` so the results for genes can be added to `rowData(sfe)`. Here for Moran's I, the function is"
   ]
  },
  {
   "cell_type": "code",
   "execution_count": null,
<<<<<<< HEAD
<<<<<<< HEAD
<<<<<<< HEAD
<<<<<<< HEAD
   "id": "b1e1f63d",
||||||| 11b9cb7
   "id": "abefcb32",
=======
   "id": "9f4396ad",
>>>>>>> documentation-devel
||||||| 614e9b1
   "id": "9f4396ad",
=======
   "id": "8c2b3333",
>>>>>>> documentation-devel
||||||| 856b4c0
<<<<<<< HEAD
   "id": "b1e1f63d",
||||||| 11b9cb7
   "id": "abefcb32",
=======
   "id": "9f4396ad",
>>>>>>> documentation-devel
=======
   "id": "026bd416",
>>>>>>> 552590ea8fad969b67afdba27558a1e6cb21016e
||||||| 452c944
   "id": "8c2b3333",
=======
   "id": "b2d2a54c",
>>>>>>> documentation-devel
   "metadata": {
    "eval": false
   },
   "outputs": [],
   "source": [
    ".moran2df <- function(out, name, ...) {\n",
    "    rns <- names(out)\n",
    "    out <- lapply(out, unlist, use.names = TRUE)\n",
    "    out <- Reduce(rbind, out)\n",
    "    if (!is.matrix(out)) out <- t(as.matrix(out))\n",
    "    rownames(out) <- rns\n",
    "    out <- DataFrame(out)\n",
    "    names(out)[1] <- name\n",
    "    out\n",
    "}"
   ]
  },
  {
   "cell_type": "markdown",
<<<<<<< HEAD
<<<<<<< HEAD
<<<<<<< HEAD
<<<<<<< HEAD
   "id": "4cf24db7",
||||||| 11b9cb7
   "id": "48165ba8",
=======
   "id": "700e9b40",
>>>>>>> documentation-devel
||||||| 614e9b1
   "id": "700e9b40",
=======
   "id": "807341ab",
>>>>>>> documentation-devel
||||||| 856b4c0
<<<<<<< HEAD
   "id": "4cf24db7",
||||||| 11b9cb7
   "id": "48165ba8",
=======
   "id": "700e9b40",
>>>>>>> documentation-devel
=======
   "id": "6521eb9d",
>>>>>>> 552590ea8fad969b67afdba27558a1e6cb21016e
||||||| 452c944
   "id": "807341ab",
=======
   "id": "5dfb9b04",
>>>>>>> documentation-devel
   "metadata": {},
   "source": [
    "For univariate or bivariate global methods, the function must have:\n",
    "\n",
    "* `out` argument to take in the output from `fun` for multiple genes or features\n",
    "* `name` to take the name under which the results are stored in case the same method is run for the same genes but with different parameters and you don't want to overwrite previous results. The `name` is the name specified in the `SFEMethod()` constructor by default, but can be set by the user when calling `calculate*variate()` or `run*variate()`, and\n",
    "* `...` because the `reorganize_fun` of some univariate global methods in Voyager, such as `sp.correlogram`, needs other arguments.\n",
    "\n",
    "Some spatial methods use spatial distances rather than graphs, such as the variogram. This is the code used to create the `SFEMethod` object for `variogram`:"
   ]
  },
  {
   "cell_type": "code",
   "execution_count": null,
<<<<<<< HEAD
<<<<<<< HEAD
<<<<<<< HEAD
<<<<<<< HEAD
   "id": "76c14b6c",
||||||| 11b9cb7
   "id": "5e4500a3",
=======
   "id": "867947f8",
>>>>>>> documentation-devel
||||||| 614e9b1
   "id": "867947f8",
=======
   "id": "bffe647a",
>>>>>>> documentation-devel
||||||| 856b4c0
<<<<<<< HEAD
   "id": "76c14b6c",
||||||| 11b9cb7
   "id": "5e4500a3",
=======
   "id": "867947f8",
>>>>>>> documentation-devel
=======
   "id": "26f2cfa8",
>>>>>>> 552590ea8fad969b67afdba27558a1e6cb21016e
||||||| 452c944
   "id": "bffe647a",
=======
   "id": "9c13317d",
>>>>>>> documentation-devel
   "metadata": {
    "eval": false
   },
   "outputs": [],
   "source": [
    "variogram <- SFEMethod(package = \"automap\", variate = \"uni\", scope = \"global\",\n",
    "                       default_attr = NA, name = \"variogram\", title = \"Variogram\",\n",
    "                       fun = .variogram,\n",
    "                       reorganize_fun = .other2df,\n",
    "                       use_graph = FALSE)"
   ]
  },
  {
   "cell_type": "markdown",
<<<<<<< HEAD
<<<<<<< HEAD
<<<<<<< HEAD
<<<<<<< HEAD
   "id": "93c68401",
||||||| 11b9cb7
   "id": "f82a1a8a",
=======
   "id": "22527d32",
>>>>>>> documentation-devel
||||||| 614e9b1
   "id": "22527d32",
=======
   "id": "0d21f46e",
>>>>>>> documentation-devel
||||||| 856b4c0
<<<<<<< HEAD
   "id": "93c68401",
||||||| 11b9cb7
   "id": "f82a1a8a",
=======
   "id": "22527d32",
>>>>>>> documentation-devel
=======
   "id": "c47d49ba",
>>>>>>> 552590ea8fad969b67afdba27558a1e6cb21016e
||||||| 452c944
   "id": "0d21f46e",
=======
   "id": "92e822a3",
>>>>>>> documentation-devel
   "metadata": {},
   "source": [
    "The function in `fun` for univariate methods that don't use a spatial neighborhood graph must have arguments `x` and `coords_df` (`sf` data frame for the spatial coordinates) and other arguments are allowed. This is the `.variogram` function:"
   ]
  },
  {
   "cell_type": "code",
   "execution_count": null,
<<<<<<< HEAD
<<<<<<< HEAD
<<<<<<< HEAD
<<<<<<< HEAD
   "id": "d54feb4a",
||||||| 11b9cb7
   "id": "2733e07b",
=======
   "id": "8fbbe657",
>>>>>>> documentation-devel
||||||| 614e9b1
   "id": "8fbbe657",
=======
   "id": "1d7b07e3",
>>>>>>> documentation-devel
||||||| 856b4c0
<<<<<<< HEAD
   "id": "d54feb4a",
||||||| 11b9cb7
   "id": "2733e07b",
=======
   "id": "8fbbe657",
>>>>>>> documentation-devel
=======
   "id": "3994e9b4",
>>>>>>> 552590ea8fad969b67afdba27558a1e6cb21016e
||||||| 452c944
   "id": "1d7b07e3",
=======
   "id": "43e60ef8",
>>>>>>> documentation-devel
   "metadata": {
    "eval": false
   },
   "outputs": [],
   "source": [
    ".variogram <- function(x, coords_df, formula = x ~ 1, scale = TRUE, ...) {\n",
    "    coords_df$x <- x\n",
    "    if (scale) coords_df$x <- scale(coords_df$x)\n",
    "    dots <- list(...)\n",
    "    # Deal with alpha myself and fit a global variogram to avoid further gstat warnings\n",
    "    have_alpha <- \"alpha\" %in% names(dots)\n",
    "    if (have_alpha) {\n",
    "        empirical <- gstat::variogram(formula, data = coords_df, alpha = dots$alpha)\n",
    "        dots$alpha <- NULL\n",
    "    }\n",
    "    out <- do.call(automap::autofitVariogram,\n",
    "                   c(list(formula = formula, input_data = coords_df,\n",
    "                          map = FALSE, cloud = FALSE), dots))\n",
    "    if (have_alpha) {\n",
    "        out$exp_var <- empirical\n",
    "    }\n",
    "    out\n",
    "}"
   ]
  },
  {
   "cell_type": "markdown",
<<<<<<< HEAD
<<<<<<< HEAD
<<<<<<< HEAD
<<<<<<< HEAD
   "id": "940799a8",
||||||| 11b9cb7
   "id": "c06cba1d",
=======
   "id": "1e245bc8",
>>>>>>> documentation-devel
||||||| 614e9b1
   "id": "1e245bc8",
=======
   "id": "d8133ed5",
>>>>>>> documentation-devel
||||||| 856b4c0
<<<<<<< HEAD
   "id": "940799a8",
||||||| 11b9cb7
   "id": "c06cba1d",
=======
   "id": "1e245bc8",
>>>>>>> documentation-devel
=======
   "id": "2f72c816",
>>>>>>> 552590ea8fad969b67afdba27558a1e6cb21016e
||||||| 452c944
   "id": "d8133ed5",
=======
   "id": "ef47bee0",
>>>>>>> documentation-devel
   "metadata": {},
   "source": [
    "The rule for `reorganize_fun` remains the same, and this is the `.other2df` function:"
   ]
  },
  {
   "cell_type": "code",
   "execution_count": null,
<<<<<<< HEAD
<<<<<<< HEAD
<<<<<<< HEAD
<<<<<<< HEAD
   "id": "d8d578ff",
||||||| 11b9cb7
   "id": "1f0b6019",
=======
   "id": "84049e77",
>>>>>>> documentation-devel
||||||| 614e9b1
   "id": "84049e77",
=======
   "id": "375a4e42",
>>>>>>> documentation-devel
||||||| 856b4c0
<<<<<<< HEAD
   "id": "d8d578ff",
||||||| 11b9cb7
   "id": "1f0b6019",
=======
   "id": "84049e77",
>>>>>>> documentation-devel
=======
   "id": "7d10d891",
>>>>>>> 552590ea8fad969b67afdba27558a1e6cb21016e
||||||| 452c944
   "id": "375a4e42",
=======
   "id": "b72c0dc8",
>>>>>>> documentation-devel
   "metadata": {
    "eval": false
   },
   "outputs": [],
   "source": [
    ".other2df <- function(out, name, ...) {\n",
    "    if (!is.atomic(out)) out <- I(out)\n",
    "    out_df <- DataFrame(res = out)\n",
    "    names(out_df) <- name\n",
    "    rownames(out_df) <- names(out)\n",
    "    out_df\n",
    "}"
   ]
  },
  {
   "cell_type": "markdown",
<<<<<<< HEAD
<<<<<<< HEAD
<<<<<<< HEAD
<<<<<<< HEAD
   "id": "89909211",
||||||| 11b9cb7
   "id": "8bbd035a",
=======
   "id": "eb118c1a",
>>>>>>> documentation-devel
||||||| 614e9b1
   "id": "eb118c1a",
=======
   "id": "d9769c8c",
>>>>>>> documentation-devel
||||||| 856b4c0
<<<<<<< HEAD
   "id": "89909211",
||||||| 11b9cb7
   "id": "8bbd035a",
=======
   "id": "eb118c1a",
>>>>>>> documentation-devel
=======
   "id": "d7c1c4fd",
>>>>>>> 552590ea8fad969b67afdba27558a1e6cb21016e
||||||| 452c944
   "id": "d9769c8c",
=======
   "id": "6c055931",
>>>>>>> documentation-devel
   "metadata": {},
   "source": [
    "## Local\n",
    "These are the univariate local methods in `Voyager`:"
   ]
  },
  {
   "cell_type": "code",
   "execution_count": null,
<<<<<<< HEAD
<<<<<<< HEAD
<<<<<<< HEAD
<<<<<<< HEAD
   "id": "4d80b11b",
||||||| 11b9cb7
   "id": "1af3e812",
=======
   "id": "e8b6e689",
>>>>>>> documentation-devel
||||||| 614e9b1
   "id": "e8b6e689",
=======
   "id": "22efb512",
>>>>>>> documentation-devel
||||||| 856b4c0
<<<<<<< HEAD
   "id": "4d80b11b",
||||||| 11b9cb7
   "id": "1af3e812",
=======
   "id": "e8b6e689",
>>>>>>> documentation-devel
=======
   "id": "05b9dadc",
>>>>>>> 552590ea8fad969b67afdba27558a1e6cb21016e
||||||| 452c944
   "id": "22efb512",
=======
   "id": "3b2fbd3b",
>>>>>>> documentation-devel
   "metadata": {},
   "outputs": [],
   "source": [
    "listSFEMethods(\"uni\", \"local\")"
   ]
  },
  {
   "cell_type": "markdown",
<<<<<<< HEAD
<<<<<<< HEAD
<<<<<<< HEAD
<<<<<<< HEAD
   "id": "1f34b777",
||||||| 11b9cb7
   "id": "99e6e9e2",
=======
   "id": "4d79cb89",
>>>>>>> documentation-devel
||||||| 614e9b1
   "id": "4d79cb89",
=======
   "id": "9808a9a4",
>>>>>>> documentation-devel
||||||| 856b4c0
<<<<<<< HEAD
   "id": "1f34b777",
||||||| 11b9cb7
   "id": "99e6e9e2",
=======
   "id": "4d79cb89",
>>>>>>> documentation-devel
=======
   "id": "dfdee3b3",
>>>>>>> 552590ea8fad969b67afdba27558a1e6cb21016e
||||||| 452c944
   "id": "9808a9a4",
=======
   "id": "2874289f",
>>>>>>> documentation-devel
   "metadata": {},
   "source": [
    "This is the code used to create the `SFEMethod` object for `localmoran`:"
   ]
  },
  {
   "cell_type": "code",
   "execution_count": null,
<<<<<<< HEAD
<<<<<<< HEAD
<<<<<<< HEAD
<<<<<<< HEAD
   "id": "f5fb4450",
||||||| 11b9cb7
   "id": "84274561",
=======
   "id": "4355b876",
>>>>>>> documentation-devel
||||||| 614e9b1
   "id": "4355b876",
=======
   "id": "c4c84dd4",
>>>>>>> documentation-devel
||||||| 856b4c0
<<<<<<< HEAD
   "id": "f5fb4450",
||||||| 11b9cb7
   "id": "84274561",
=======
   "id": "4355b876",
>>>>>>> documentation-devel
=======
   "id": "4fb885c0",
>>>>>>> 552590ea8fad969b67afdba27558a1e6cb21016e
||||||| 452c944
   "id": "c4c84dd4",
=======
   "id": "398648b7",
>>>>>>> documentation-devel
   "metadata": {
    "eval": false
   },
   "outputs": [],
   "source": [
    "localmoran <- SFEMethod(\n",
    "    name = \"localmoran\", title = \"Local Moran's I\",\n",
    "    package = \"spdep\", scope = \"local\", default_attr = \"Ii\",\n",
    "    fun = spdep::localmoran,\n",
    "    use_graph = TRUE,\n",
    "    reorganize_fun = .localmoran2df\n",
    ")"
   ]
  },
  {
   "cell_type": "markdown",
<<<<<<< HEAD
<<<<<<< HEAD
<<<<<<< HEAD
<<<<<<< HEAD
   "id": "64f46c79",
||||||| 11b9cb7
   "id": "d710e4da",
=======
   "id": "e48d727b",
>>>>>>> documentation-devel
||||||| 614e9b1
   "id": "e48d727b",
=======
   "id": "2ac588b9",
>>>>>>> documentation-devel
||||||| 856b4c0
<<<<<<< HEAD
   "id": "64f46c79",
||||||| 11b9cb7
   "id": "d710e4da",
=======
   "id": "e48d727b",
>>>>>>> documentation-devel
=======
   "id": "4fd8f4d6",
>>>>>>> 552590ea8fad969b67afdba27558a1e6cb21016e
||||||| 452c944
   "id": "2ac588b9",
=======
   "id": "4000bab2",
>>>>>>> documentation-devel
   "metadata": {},
   "source": [
    "`spdep::localmoran` already has the right arguments, including `x`, `listw`, and `zero.policy`.\n",
    "\n",
    "For local methods, the `title` and `default_attr` arguments are important, as they are used in `plotLocalResults()` for the plot title. Many local methods return a matrix or data frame as the results for each gene, and `default_attr` specifies the column to use by default when plotting, such as the local Moran's I values (`Ii`) in this case. Other fields the results can be p-values and adjusted p-values.\n",
    "\n",
    "The `reorganize_fun` is different from those of univariate global methods because the local results are organized differently. Here is the `.localmoran2df` function:"
   ]
  },
  {
   "cell_type": "code",
   "execution_count": null,
<<<<<<< HEAD
<<<<<<< HEAD
<<<<<<< HEAD
<<<<<<< HEAD
   "id": "2147f263",
||||||| 11b9cb7
   "id": "712448cc",
=======
   "id": "92fcbc85",
>>>>>>> documentation-devel
||||||| 614e9b1
   "id": "92fcbc85",
=======
   "id": "52370742",
>>>>>>> documentation-devel
||||||| 856b4c0
<<<<<<< HEAD
   "id": "2147f263",
||||||| 11b9cb7
   "id": "712448cc",
=======
   "id": "92fcbc85",
>>>>>>> documentation-devel
=======
   "id": "74761eda",
>>>>>>> 552590ea8fad969b67afdba27558a1e6cb21016e
||||||| 452c944
   "id": "52370742",
=======
   "id": "fc296fc6",
>>>>>>> documentation-devel
   "metadata": {
    "eval": false
   },
   "outputs": [],
   "source": [
    ".localmoran2df <- function(out, nb, p.adjust.method) {\n",
    "    lapply(out, function(o) {\n",
    "        o1 <- as.data.frame(o)\n",
    "        quadr <- attr(o, \"quadr\")\n",
    "        I(.add_log_p(cbind(o1, quadr), nb, p.adjust.method))\n",
    "    })\n",
    "}"
   ]
  },
  {
   "cell_type": "markdown",
<<<<<<< HEAD
<<<<<<< HEAD
<<<<<<< HEAD
<<<<<<< HEAD
   "id": "bb5c1dd9",
||||||| 11b9cb7
   "id": "b80f48d0",
=======
   "id": "2250564d",
>>>>>>> documentation-devel
||||||| 614e9b1
   "id": "2250564d",
=======
   "id": "506c348e",
>>>>>>> documentation-devel
||||||| 856b4c0
<<<<<<< HEAD
   "id": "bb5c1dd9",
||||||| 11b9cb7
   "id": "b80f48d0",
=======
   "id": "2250564d",
>>>>>>> documentation-devel
=======
   "id": "e99a9e65",
>>>>>>> 552590ea8fad969b67afdba27558a1e6cb21016e
||||||| 452c944
   "id": "506c348e",
=======
   "id": "05eb921e",
>>>>>>> documentation-devel
   "metadata": {},
   "source": [
    "The function must have arguments:\n",
    "\n",
    "* `out` for results from `fun` for all genes, a list each element of which is the results for one gene.\n",
    "* `nb` for a neighbor object of class `nb`, which is part of the `listw` object for spatial neighborhood graphs. This is used to correct for multiple hypothesis testing with `p.adjustSP()`\n",
    "* `p.adjust.method` to specify a method to correct for multiple testing. See `p.adjust()` for available methods.\n",
    "\n",
    "The output is a list of organized results, each element for one gene, which will then be converted to a `DataFrame` and added to `localResults(sfe)`.\n",
    "\n",
    "# Bivariate\n",
    "These are the bivariate global methods in `Voyager`:"
   ]
  },
  {
   "cell_type": "code",
   "execution_count": null,
<<<<<<< HEAD
<<<<<<< HEAD
<<<<<<< HEAD
<<<<<<< HEAD
   "id": "a5147d1d",
||||||| 11b9cb7
   "id": "3c4163ec",
=======
   "id": "d9719592",
>>>>>>> documentation-devel
||||||| 614e9b1
   "id": "d9719592",
=======
   "id": "d54f178e",
>>>>>>> documentation-devel
||||||| 856b4c0
<<<<<<< HEAD
   "id": "a5147d1d",
||||||| 11b9cb7
   "id": "3c4163ec",
=======
   "id": "d9719592",
>>>>>>> documentation-devel
=======
   "id": "f58c39cc",
>>>>>>> 552590ea8fad969b67afdba27558a1e6cb21016e
||||||| 452c944
   "id": "d54f178e",
=======
   "id": "6a11ec4a",
>>>>>>> documentation-devel
   "metadata": {},
   "outputs": [],
   "source": [
    "listSFEMethods(\"bi\", \"global\")"
   ]
  },
  {
   "cell_type": "markdown",
<<<<<<< HEAD
<<<<<<< HEAD
<<<<<<< HEAD
<<<<<<< HEAD
   "id": "5e0368d3",
||||||| 11b9cb7
   "id": "e86cb052",
=======
   "id": "78fd88fc",
>>>>>>> documentation-devel
||||||| 614e9b1
   "id": "78fd88fc",
=======
   "id": "7b7dd7bc",
>>>>>>> documentation-devel
||||||| 856b4c0
<<<<<<< HEAD
   "id": "5e0368d3",
||||||| 11b9cb7
   "id": "e86cb052",
=======
   "id": "78fd88fc",
>>>>>>> documentation-devel
=======
   "id": "cab63ce4",
>>>>>>> 552590ea8fad969b67afdba27558a1e6cb21016e
||||||| 452c944
   "id": "7b7dd7bc",
=======
   "id": "c9056602",
>>>>>>> documentation-devel
   "metadata": {},
   "source": [
    "These are the bivariate local methods in `Voyager`:"
   ]
  },
  {
   "cell_type": "code",
   "execution_count": null,
<<<<<<< HEAD
<<<<<<< HEAD
<<<<<<< HEAD
<<<<<<< HEAD
   "id": "4a7fc12c",
||||||| 11b9cb7
   "id": "17e182a2",
=======
   "id": "6c2923c6",
>>>>>>> documentation-devel
||||||| 614e9b1
   "id": "6c2923c6",
=======
   "id": "36ee1901",
>>>>>>> documentation-devel
||||||| 856b4c0
<<<<<<< HEAD
   "id": "4a7fc12c",
||||||| 11b9cb7
   "id": "17e182a2",
=======
   "id": "6c2923c6",
>>>>>>> documentation-devel
=======
   "id": "afbc3914",
>>>>>>> 552590ea8fad969b67afdba27558a1e6cb21016e
||||||| 452c944
   "id": "36ee1901",
=======
   "id": "1d86ea48",
>>>>>>> documentation-devel
   "metadata": {},
   "outputs": [],
   "source": [
    "listSFEMethods(\"bi\", \"local\")"
   ]
  },
  {
   "cell_type": "markdown",
<<<<<<< HEAD
<<<<<<< HEAD
<<<<<<< HEAD
<<<<<<< HEAD
   "id": "03a8312a",
||||||| 11b9cb7
   "id": "4f33d3e0",
=======
   "id": "f09b2fc7",
>>>>>>> documentation-devel
||||||| 614e9b1
   "id": "f09b2fc7",
=======
   "id": "25ff6764",
>>>>>>> documentation-devel
||||||| 856b4c0
<<<<<<< HEAD
   "id": "03a8312a",
||||||| 11b9cb7
   "id": "4f33d3e0",
=======
   "id": "f09b2fc7",
>>>>>>> documentation-devel
=======
   "id": "516b7804",
>>>>>>> 552590ea8fad969b67afdba27558a1e6cb21016e
||||||| 452c944
   "id": "25ff6764",
=======
   "id": "bbff5442",
>>>>>>> documentation-devel
   "metadata": {},
   "source": [
    "The `SFEMethod` construction for bivariate methods is similar to that of univariate methods, except that the function in `fun` must have argument `y` after `x`. This is the code used to create the `SFEMethod` object for `lee`, Lee's L:"
   ]
  },
  {
   "cell_type": "code",
   "execution_count": null,
<<<<<<< HEAD
<<<<<<< HEAD
<<<<<<< HEAD
<<<<<<< HEAD
   "id": "a4d98ff4",
||||||| 11b9cb7
   "id": "c999a738",
=======
   "id": "bd6749aa",
>>>>>>> documentation-devel
||||||| 614e9b1
   "id": "bd6749aa",
=======
   "id": "d82cf105",
>>>>>>> documentation-devel
||||||| 856b4c0
<<<<<<< HEAD
   "id": "a4d98ff4",
||||||| 11b9cb7
   "id": "c999a738",
=======
   "id": "bd6749aa",
>>>>>>> documentation-devel
=======
   "id": "606f9bf1",
>>>>>>> 552590ea8fad969b67afdba27558a1e6cb21016e
||||||| 452c944
   "id": "d82cf105",
=======
   "id": "7540e5ac",
>>>>>>> documentation-devel
   "metadata": {
    "eval": false
   },
   "outputs": [],
   "source": [
    "lee <- SFEMethod(name = \"lee\", fun = .lee_mat, title = \"Lee's bivariate statistic\",\n",
    "                 reorganize_fun = function(out, name, ...) out,\n",
    "                 package = \"Voyager\", variate = \"bi\", scope = \"global\",\n",
    "                 use_matrix = TRUE)"
   ]
  },
  {
   "cell_type": "markdown",
<<<<<<< HEAD
<<<<<<< HEAD
<<<<<<< HEAD
<<<<<<< HEAD
   "id": "86f60a79",
||||||| 11b9cb7
   "id": "741daf14",
=======
   "id": "4e9dff31",
>>>>>>> documentation-devel
||||||| 614e9b1
   "id": "4e9dff31",
=======
   "id": "03d27b04",
>>>>>>> documentation-devel
||||||| 856b4c0
<<<<<<< HEAD
   "id": "86f60a79",
||||||| 11b9cb7
   "id": "741daf14",
=======
   "id": "4e9dff31",
>>>>>>> documentation-devel
=======
   "id": "db3ad7d9",
>>>>>>> 552590ea8fad969b67afdba27558a1e6cb21016e
||||||| 452c944
   "id": "03d27b04",
=======
   "id": "e6d760ec",
>>>>>>> documentation-devel
   "metadata": {},
   "source": [
    "Note the `use_matrix` argument, which specific to bivariate methods. It means whether the method can take a matrix as argument and compute the statistic for all pairwise combinations of the matrix's rows. This way the computation can be expressed as matrix operations which is much more efficient than R loops because the loops are pushed to the underlying C and Fortran code in BLAS and the `Matrix` package for sparse matrices.\n",
    "\n",
    "Here's the `.lee_mat` function:"
   ]
  },
  {
   "cell_type": "code",
   "execution_count": null,
<<<<<<< HEAD
<<<<<<< HEAD
<<<<<<< HEAD
<<<<<<< HEAD
   "id": "dba97db3",
||||||| 11b9cb7
   "id": "10cade10",
=======
   "id": "52a1df76",
>>>>>>> documentation-devel
||||||| 614e9b1
   "id": "52a1df76",
=======
   "id": "149442ea",
>>>>>>> documentation-devel
||||||| 856b4c0
<<<<<<< HEAD
   "id": "dba97db3",
||||||| 11b9cb7
   "id": "10cade10",
=======
   "id": "52a1df76",
>>>>>>> documentation-devel
=======
   "id": "b5511b30",
>>>>>>> 552590ea8fad969b67afdba27558a1e6cb21016e
||||||| 452c944
   "id": "149442ea",
=======
   "id": "4b27bac7",
>>>>>>> documentation-devel
   "metadata": {
    "eval": false
   },
   "outputs": [],
   "source": [
    ".lee_mat <- function(x, y = NULL, listw, zero.policy = TRUE, ...) {\n",
    "    # X has genes in rows\n",
    "    if (is(listw, \"listw\"))\n",
    "        W <- listw2sparse(listw)\n",
    "    else W <- listw\n",
    "    x <- .scale_n(x)\n",
    "    if (!is.null(y)) {\n",
    "        y <- .scale_n(y)\n",
    "    } else y <- x\n",
    "    n <- ncol(x) # dimension of y is checked in calculateBivariate\n",
    "    out <- x %*% (t(W) %*% W) %*% t(y)/sum(rowSums(W)^2) * n\n",
    "    if (all(dim(out) == 1L)) out <- out[1,1]\n",
    "    out\n",
    "}"
   ]
  },
  {
   "cell_type": "markdown",
<<<<<<< HEAD
<<<<<<< HEAD
<<<<<<< HEAD
<<<<<<< HEAD
   "id": "65ce6f03",
||||||| 11b9cb7
   "id": "5be2c4b6",
=======
   "id": "337c57fb",
>>>>>>> documentation-devel
||||||| 614e9b1
   "id": "337c57fb",
=======
   "id": "d94396c3",
>>>>>>> documentation-devel
||||||| 856b4c0
<<<<<<< HEAD
   "id": "65ce6f03",
||||||| 11b9cb7
   "id": "5be2c4b6",
=======
   "id": "337c57fb",
>>>>>>> documentation-devel
=======
   "id": "80f2920f",
>>>>>>> 552590ea8fad969b67afdba27558a1e6cb21016e
||||||| 452c944
   "id": "d94396c3",
=======
   "id": "3ba9c973",
>>>>>>> documentation-devel
   "metadata": {},
   "source": [
    "Due to the matrix operation, `listw` can be a sparse or dense adjacency matrix of the spatial neighborhood graph. To conform to scRNA-seq conventions, `x` and `y` have genes in rows if they are matrices.\n",
    "\n",
    "The `reorganize_fun` for bivariate global methods don't have to return a `DataFrame`, because bivariate global results can't be stored in the SFE object. However, `reorganize_fun` for bivariate local methods follow the same rules as that of univariate local methods because the results also go into `localResults(sfe)`.\n",
    "\n",
    "# Multivariate\n",
    "These are the multivariate methods in `Voyager`:"
   ]
  },
  {
   "cell_type": "code",
   "execution_count": null,
<<<<<<< HEAD
<<<<<<< HEAD
<<<<<<< HEAD
<<<<<<< HEAD
   "id": "197a1291",
||||||| 11b9cb7
   "id": "d13ff91f",
=======
   "id": "1e8e86ef",
>>>>>>> documentation-devel
||||||| 614e9b1
   "id": "1e8e86ef",
=======
   "id": "bf1f57fa",
>>>>>>> documentation-devel
||||||| 856b4c0
<<<<<<< HEAD
   "id": "197a1291",
||||||| 11b9cb7
   "id": "d13ff91f",
=======
   "id": "1e8e86ef",
>>>>>>> documentation-devel
=======
   "id": "15c2aefb",
>>>>>>> 552590ea8fad969b67afdba27558a1e6cb21016e
||||||| 452c944
   "id": "bf1f57fa",
=======
   "id": "f66fdb7d",
>>>>>>> documentation-devel
   "metadata": {},
   "outputs": [],
   "source": [
    "listSFEMethods(\"multi\")"
   ]
  },
  {
   "cell_type": "markdown",
<<<<<<< HEAD
<<<<<<< HEAD
<<<<<<< HEAD
<<<<<<< HEAD
   "id": "cc4a4969",
||||||| 11b9cb7
   "id": "3733868e",
=======
   "id": "5b81bff5",
>>>>>>> documentation-devel
||||||| 614e9b1
   "id": "5b81bff5",
=======
   "id": "2c1f0274",
>>>>>>> documentation-devel
||||||| 856b4c0
<<<<<<< HEAD
   "id": "cc4a4969",
||||||| 11b9cb7
   "id": "3733868e",
=======
   "id": "5b81bff5",
>>>>>>> documentation-devel
=======
   "id": "5f433f23",
>>>>>>> 552590ea8fad969b67afdba27558a1e6cb21016e
||||||| 452c944
   "id": "2c1f0274",
=======
   "id": "e125691c",
>>>>>>> documentation-devel
   "metadata": {},
   "source": [
    "The `SFEMethod` construction for bivariate methods is similar to that of univariate methods, except for two arguments: `joint` to indicate whether it makes sense to run the method for multiple samples jointly just like in non-spatial PCA, and `dest` to indicate whether the results should go into `reducedDims(sfe)` or `colData(sfe)`. This is the code for a multivariate generalization of local Geary's C [@Anselin2019-uv] with permutation testing:"
   ]
  },
  {
   "cell_type": "code",
   "execution_count": null,
<<<<<<< HEAD
<<<<<<< HEAD
<<<<<<< HEAD
<<<<<<< HEAD
   "id": "0cca392b",
||||||| 11b9cb7
   "id": "29c9d183",
=======
   "id": "63ea19e2",
>>>>>>> documentation-devel
||||||| 614e9b1
   "id": "63ea19e2",
=======
   "id": "ac30deca",
>>>>>>> documentation-devel
||||||| 856b4c0
<<<<<<< HEAD
   "id": "0cca392b",
||||||| 11b9cb7
   "id": "29c9d183",
=======
   "id": "63ea19e2",
>>>>>>> documentation-devel
=======
   "id": "326e4913",
>>>>>>> 552590ea8fad969b67afdba27558a1e6cb21016e
||||||| 452c944
   "id": "ac30deca",
=======
   "id": "4af16b87",
>>>>>>> documentation-devel
   "metadata": {
    "eval": false
   },
   "outputs": [],
   "source": [
    ".localC_multi_fun <- function(perm = FALSE) {\n",
    "    function(x, listw, ..., zero.policy) {\n",
    "        x <- as.matrix(x)\n",
    "        fun <- if (perm) spdep::localC_perm else spdep::localC\n",
    "        fun(x, listw = listw, zero.policy = zero.policy, ...)\n",
    "    }\n",
    "}\n",
    "\n",
    ".localCpermmulti2df <- function(out, nb, p.adjust.method) {\n",
    "    .attrmat2df(list(out), \"pseudo-p\", \"localC_perm_multi\", nb, p.adjust.method)[[1]]\n",
    "}\n",
    "\n",
    "localC_perm_multi <- SFEMethod(\n",
    "    name = \"localC_perm_multi\", title = \"Multivariate local Geary's C permutation testing\",\n",
    "    package = \"spdep\", variate = \"multi\", default_attr = \"localC\",\n",
    "    fun = .localC_multi_fun(TRUE),\n",
    "    reorganize_fun = .localCpermmulti2df,\n",
    "    dest = \"colData\"\n",
    ")"
   ]
  },
  {
   "cell_type": "markdown",
<<<<<<< HEAD
<<<<<<< HEAD
<<<<<<< HEAD
<<<<<<< HEAD
   "id": "a3c17ac2",
||||||| 11b9cb7
   "id": "4b85062d",
=======
   "id": "aaed129a",
>>>>>>> documentation-devel
||||||| 614e9b1
   "id": "aaed129a",
=======
   "id": "321bb96e",
>>>>>>> documentation-devel
||||||| 856b4c0
<<<<<<< HEAD
   "id": "a3c17ac2",
||||||| 11b9cb7
   "id": "4b85062d",
=======
   "id": "aaed129a",
>>>>>>> documentation-devel
=======
   "id": "e219d5e7",
>>>>>>> 552590ea8fad969b67afdba27558a1e6cb21016e
||||||| 452c944
   "id": "321bb96e",
=======
   "id": "560bfd86",
>>>>>>> documentation-devel
   "metadata": {},
   "source": [
    "Here the results, as a single vector, goes into `colData(sfe)`, and it does not make sense to run it across multiple samples jointly as each sample has a separate spatial neighborhood graph, so it will be run on each sample separately. \n",
    "\n",
    "The function in `reorganize_fun` should return a vector, matrix, or data frame ready to be added to `reducedDims(sfe)` or `colData(sfe)`. If the results can go into `colData`, the rules for arguments are the same as those for univariate local methods, because with permutation testing for multivariate local Geary's C, multiple testing correction is performed in the `reorganize_fun`. If the results go into `reducedDims`, then it only needs one argument for the output.\n",
    "\n",
    "# References"
   ]
  }
 ],
 "metadata": {
  "kernelspec": {
   "display_name": "R",
   "language": "R",
   "name": "ir"
  }
 },
 "nbformat": 4,
 "nbformat_minor": 5
}
