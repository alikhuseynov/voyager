{
 "cells": [
  {
   "cell_type": "raw",
<<<<<<< HEAD
<<<<<<< HEAD
<<<<<<< HEAD
   "id": "afc96814",
||||||| fa5abb84
   "id": "a2d0459d",
=======
   "id": "a7577249",
>>>>>>> documentation-devel
||||||| 7e3277eb
   "id": "a7577249",
=======
   "id": "3a09d9ce",
>>>>>>> documentation-devel
||||||| 971bf77c
<<<<<<< HEAD
   "id": "afc96814",
||||||| fa5abb84
   "id": "a2d0459d",
=======
   "id": "a7577249",
>>>>>>> documentation-devel
=======
   "id": "38d1df7e",
>>>>>>> e1d793125c0aeb7e34aca09298b9c5b44973e4b3
   "metadata": {},
   "source": [
    "---\n",
    "title: \"Use your own spatial method in Voyager\"\n",
    "author: \"Lambda Moses\"\n",
    "date: \"`r Sys.Date()`\"\n",
    "output: \n",
    "  html_document:\n",
    "  toc: true\n",
    "  toc_float:\n",
    "    collapsed: false\n",
    "  toc_depth: 3\n",
    "bibliography: ref.bib\n",
    "vignette: >\n",
    "  %\\VignetteIndexEntry{sfemethod}\n",
    "  %\\VignetteEngine{knitr::rmarkdown}\n",
    "  %\\VignetteEncoding{UTF-8}\n",
    "---"
   ]
  },
  {
   "cell_type": "code",
   "execution_count": null,
<<<<<<< HEAD
<<<<<<< HEAD
<<<<<<< HEAD
   "id": "1fa6c1a3",
||||||| fa5abb84
   "id": "09ecf688",
=======
   "id": "825b652b",
>>>>>>> documentation-devel
||||||| 7e3277eb
   "id": "825b652b",
=======
   "id": "ddb62e7e",
>>>>>>> documentation-devel
||||||| 971bf77c
<<<<<<< HEAD
   "id": "1fa6c1a3",
||||||| fa5abb84
   "id": "09ecf688",
=======
   "id": "825b652b",
>>>>>>> documentation-devel
=======
   "id": "297142cd",
>>>>>>> e1d793125c0aeb7e34aca09298b9c5b44973e4b3
   "metadata": {
    "tags": [
     "remove_cell"
    ]
   },
   "outputs": [],
   "source": [
    "knitr::opts_chunk$set(\n",
    "  collapse = TRUE,\n",
    "  comment = \"#>\"\n",
    ")"
   ]
  },
  {
   "cell_type": "markdown",
<<<<<<< HEAD
<<<<<<< HEAD
<<<<<<< HEAD
   "id": "76262ce3",
||||||| fa5abb84
   "id": "6f22aacb",
=======
   "id": "f99186e6",
>>>>>>> documentation-devel
||||||| 7e3277eb
   "id": "f99186e6",
=======
   "id": "0e04ec3a",
>>>>>>> documentation-devel
||||||| 971bf77c
<<<<<<< HEAD
   "id": "76262ce3",
||||||| fa5abb84
   "id": "6f22aacb",
=======
   "id": "f99186e6",
>>>>>>> documentation-devel
=======
   "id": "2133a15d",
>>>>>>> e1d793125c0aeb7e34aca09298b9c5b44973e4b3
   "metadata": {},
   "source": [
    "# Introduction\n",
    "There are multiple different ways to do certain things. Each of the different ways have pros and cons, and sometimes can tell somewhat different stories. Often the different ways come with different syntaxes, increasing the learning curve for users. `Voyager` took inspiration from `caret` and `tidymodels` [@Kuhn2020-fm] for machine learning, `foreach`, `future`, and `BiocParallel` for parallel processing with different backends, `bluster` for different clustering algorithms, and `BiocNeighbors` for different algorithms to find nearest neighbors. These packages provide uniform user interfaces to different methods to achieve a given goal. \n",
    "\n",
    "In `caret` and `tidymodels`, users can make the uniform user interface fit custom models not included in the package to eliminate a lot of duplicate code. In `Voyager`, this is done with the `SFEMethod` S4 class. This vignette shows how to use the `SFEMethod` class to use Voyager's uniform user interface on you own custom methods.\n",
    "\n",
    "Here we load the packages used:"
   ]
  },
  {
   "cell_type": "code",
   "execution_count": null,
<<<<<<< HEAD
<<<<<<< HEAD
<<<<<<< HEAD
   "id": "050ffe33",
||||||| fa5abb84
   "id": "71bbda9b",
=======
   "id": "2421a815",
>>>>>>> documentation-devel
||||||| 7e3277eb
   "id": "2421a815",
=======
   "id": "487d4d8b",
>>>>>>> documentation-devel
||||||| 971bf77c
<<<<<<< HEAD
   "id": "050ffe33",
||||||| fa5abb84
   "id": "71bbda9b",
=======
   "id": "2421a815",
>>>>>>> documentation-devel
=======
   "id": "9311b09e",
>>>>>>> e1d793125c0aeb7e34aca09298b9c5b44973e4b3
   "metadata": {},
   "outputs": [],
   "source": [
    "library(Voyager)\n",
    "library(spdep)"
   ]
  },
  {
   "cell_type": "markdown",
<<<<<<< HEAD
<<<<<<< HEAD
<<<<<<< HEAD
   "id": "a5e085d1",
||||||| fa5abb84
   "id": "95d4b58d",
=======
   "id": "b860279c",
>>>>>>> documentation-devel
||||||| 7e3277eb
   "id": "b860279c",
=======
   "id": "b8abdb7d",
>>>>>>> documentation-devel
||||||| 971bf77c
<<<<<<< HEAD
   "id": "a5e085d1",
||||||| fa5abb84
   "id": "95d4b58d",
=======
   "id": "b860279c",
>>>>>>> documentation-devel
=======
   "id": "66710fd4",
>>>>>>> e1d793125c0aeb7e34aca09298b9c5b44973e4b3
   "metadata": {},
   "source": [
    "`Voyager` categorizes exploratory spatial data analysis (ESDA) methods by the number of variables and whether the method gives one result for the entire dataset (global) or gives results at each location (local). While the process to create an `SFEMethod` object is mostly the same across categories, each category has specific arguments.\n",
    "\n",
    "Also, before you make your own `SFEMethod` object, see if the method of interest is already in `Voyager`. The methods can be listed with the `listSFEMethods()` function.\n",
    "\n",
    "When calling `calculate*variate()` or `run*variate()`, the `type` (2nd) argument takes either an `SFEMethod` object or a string that matches an entry in the `name` column in the data frame returned by `listSFEMethods()` so `Voyager` will search for an S4 object with name matching the string.\n",
    "\n",
    "# Univariate\n",
    "## Global\n",
    "These are the univariate global methods in `Voyager`:"
   ]
  },
  {
   "cell_type": "code",
   "execution_count": null,
<<<<<<< HEAD
<<<<<<< HEAD
<<<<<<< HEAD
   "id": "ba838a53",
||||||| fa5abb84
   "id": "0957e0f0",
=======
   "id": "7c4635a3",
>>>>>>> documentation-devel
||||||| 7e3277eb
   "id": "7c4635a3",
=======
   "id": "50774b1f",
>>>>>>> documentation-devel
||||||| 971bf77c
<<<<<<< HEAD
   "id": "ba838a53",
||||||| fa5abb84
   "id": "0957e0f0",
=======
   "id": "7c4635a3",
>>>>>>> documentation-devel
=======
   "id": "4133e04e",
>>>>>>> e1d793125c0aeb7e34aca09298b9c5b44973e4b3
   "metadata": {},
   "outputs": [],
   "source": [
    "listSFEMethods(\"uni\", \"global\")"
   ]
  },
  {
   "cell_type": "markdown",
<<<<<<< HEAD
<<<<<<< HEAD
<<<<<<< HEAD
   "id": "df54abbc",
||||||| fa5abb84
   "id": "4514bf35",
=======
   "id": "5b075060",
>>>>>>> documentation-devel
||||||| 7e3277eb
   "id": "5b075060",
=======
   "id": "5129d41f",
>>>>>>> documentation-devel
||||||| 971bf77c
<<<<<<< HEAD
   "id": "df54abbc",
||||||| fa5abb84
   "id": "4514bf35",
=======
   "id": "5b075060",
>>>>>>> documentation-devel
=======
   "id": "8b7fd75d",
>>>>>>> e1d793125c0aeb7e34aca09298b9c5b44973e4b3
   "metadata": {},
   "source": [
    "This is the code used to create the `SFEMethod` object to run Moran's I, with the `SFEMethod()` constructor:"
   ]
  },
  {
   "cell_type": "code",
   "execution_count": null,
<<<<<<< HEAD
<<<<<<< HEAD
<<<<<<< HEAD
   "id": "a56c7ed1",
||||||| fa5abb84
   "id": "b79cec9c",
=======
   "id": "14add5e0",
>>>>>>> documentation-devel
||||||| 7e3277eb
   "id": "14add5e0",
=======
   "id": "298c7b00",
>>>>>>> documentation-devel
||||||| 971bf77c
<<<<<<< HEAD
   "id": "a56c7ed1",
||||||| fa5abb84
   "id": "b79cec9c",
=======
   "id": "14add5e0",
>>>>>>> documentation-devel
=======
   "id": "ea83fbac",
>>>>>>> e1d793125c0aeb7e34aca09298b9c5b44973e4b3
   "metadata": {
    "eval": false
   },
   "outputs": [],
   "source": [
    "moran <- SFEMethod(\n",
    "    name = \"moran\", title = \"Moran's I\", package = \"spdep\", \n",
    "    variate = \"uni\", scope = \"global\",\n",
    "    fun = function(x, listw, zero.policy = NULL)\n",
    "        spdep::moran(x, listw, n = length(listw$neighbours), S0 = spdep::Szero(listw),\n",
    "                     zero.policy = zero.policy),\n",
    "    use_graph = TRUE,\n",
    "    reorganize_fun = .moran2df\n",
    ")"
   ]
  },
  {
   "cell_type": "markdown",
<<<<<<< HEAD
<<<<<<< HEAD
<<<<<<< HEAD
   "id": "ca43db2c",
||||||| fa5abb84
   "id": "d57472e5",
=======
   "id": "70935278",
>>>>>>> documentation-devel
||||||| 7e3277eb
   "id": "70935278",
=======
   "id": "557870d0",
>>>>>>> documentation-devel
||||||| 971bf77c
<<<<<<< HEAD
   "id": "ca43db2c",
||||||| fa5abb84
   "id": "d57472e5",
=======
   "id": "70935278",
>>>>>>> documentation-devel
=======
   "id": "24cbe69a",
>>>>>>> e1d793125c0aeb7e34aca09298b9c5b44973e4b3
   "metadata": {},
   "source": [
    "The `package` argument is used to check if the package is installed when the method is run. The function to run the method is in the `fun` argument. All univariate methods that use a spatial neighborhood graph (`use_graph = TRUE`) must have arguments:\n",
    "\n",
    "* `x` for a vector as input\n",
    "* `listw` for the spatial neighborhood graph as a `listw` object, and \n",
    "* `zero.policy` for what to do when there are cells or spots that don't have spatial neighbors. See `spdep` documentation (e.g. `spdep::moran()`) for how the `zero.policy` argument behaves. \n",
    "\n",
    "In this case I wrote a think wrapper to fill in the confusing arguments that may confuse the users.\n",
    "\n",
    "If the function running the method from another package has different arguments, then write a thin wrapper to make these required arguments. Extra arguments can be passed to `fun` through `...`.\n",
    "\n",
    "The `reorganize_fun` argument takes a function to reorganize the output from `fun` to form a `DataFrame` so the results for genes can be added to `rowData(sfe)`. Here for Moran's I, the function is"
   ]
  },
  {
   "cell_type": "code",
   "execution_count": null,
<<<<<<< HEAD
<<<<<<< HEAD
<<<<<<< HEAD
   "id": "e037c4e6",
||||||| fa5abb84
   "id": "4b3a648a",
=======
   "id": "4ef23163",
>>>>>>> documentation-devel
||||||| 7e3277eb
   "id": "4ef23163",
=======
   "id": "fa78416c",
>>>>>>> documentation-devel
||||||| 971bf77c
<<<<<<< HEAD
   "id": "e037c4e6",
||||||| fa5abb84
   "id": "4b3a648a",
=======
   "id": "4ef23163",
>>>>>>> documentation-devel
=======
   "id": "0b03b842",
>>>>>>> e1d793125c0aeb7e34aca09298b9c5b44973e4b3
   "metadata": {
    "eval": false
   },
   "outputs": [],
   "source": [
    ".moran2df <- function(out, name, ...) {\n",
    "    rns <- names(out)\n",
    "    out <- lapply(out, unlist, use.names = TRUE)\n",
    "    out <- Reduce(rbind, out)\n",
    "    if (!is.matrix(out)) out <- t(as.matrix(out))\n",
    "    rownames(out) <- rns\n",
    "    out <- DataFrame(out)\n",
    "    names(out)[1] <- name\n",
    "    out\n",
    "}"
   ]
  },
  {
   "cell_type": "markdown",
<<<<<<< HEAD
<<<<<<< HEAD
<<<<<<< HEAD
   "id": "552a83a5",
||||||| fa5abb84
   "id": "69909f8d",
=======
   "id": "80503900",
>>>>>>> documentation-devel
||||||| 7e3277eb
   "id": "80503900",
=======
   "id": "eb578c33",
>>>>>>> documentation-devel
||||||| 971bf77c
<<<<<<< HEAD
   "id": "552a83a5",
||||||| fa5abb84
   "id": "69909f8d",
=======
   "id": "80503900",
>>>>>>> documentation-devel
=======
   "id": "5b420cdf",
>>>>>>> e1d793125c0aeb7e34aca09298b9c5b44973e4b3
   "metadata": {},
   "source": [
    "For univariate or bivariate global methods, the function must have:\n",
    "\n",
    "* `out` argument to take in the output from `fun` for multiple genes or features\n",
    "* `name` to take the name under which the results are stored in case the same method is run for the same genes but with different parameters and you don't want to overwrite previous results. The `name` is the name specified in the `SFEMethod()` constructor by default, but can be set by the user when calling `calculate*variate()` or `run*variate()`, and\n",
    "* `...` because the `reorganize_fun` of some univariate global methods in Voyager, such as `sp.correlogram`, needs other arguments.\n",
    "\n",
    "Some spatial methods use spatial distances rather than graphs, such as the variogram. This is the code used to create the `SFEMethod` object for `variogram`:"
   ]
  },
  {
   "cell_type": "code",
   "execution_count": null,
<<<<<<< HEAD
<<<<<<< HEAD
<<<<<<< HEAD
   "id": "67359327",
||||||| fa5abb84
   "id": "dfd79748",
=======
   "id": "724808d6",
>>>>>>> documentation-devel
||||||| 7e3277eb
   "id": "724808d6",
=======
   "id": "c39de5e2",
>>>>>>> documentation-devel
||||||| 971bf77c
<<<<<<< HEAD
   "id": "67359327",
||||||| fa5abb84
   "id": "dfd79748",
=======
   "id": "724808d6",
>>>>>>> documentation-devel
=======
   "id": "53ce335f",
>>>>>>> e1d793125c0aeb7e34aca09298b9c5b44973e4b3
   "metadata": {
    "eval": false
   },
   "outputs": [],
   "source": [
    "variogram <- SFEMethod(package = \"automap\", variate = \"uni\", scope = \"global\",\n",
    "                       default_attr = NA, name = \"variogram\", title = \"Variogram\",\n",
    "                       fun = .variogram,\n",
    "                       reorganize_fun = .other2df,\n",
    "                       use_graph = FALSE)"
   ]
  },
  {
   "cell_type": "markdown",
<<<<<<< HEAD
<<<<<<< HEAD
<<<<<<< HEAD
   "id": "367df3dc",
||||||| fa5abb84
   "id": "8eb04b73",
=======
   "id": "4f79b72c",
>>>>>>> documentation-devel
||||||| 7e3277eb
   "id": "4f79b72c",
=======
   "id": "8b642e20",
>>>>>>> documentation-devel
||||||| 971bf77c
<<<<<<< HEAD
   "id": "367df3dc",
||||||| fa5abb84
   "id": "8eb04b73",
=======
   "id": "4f79b72c",
>>>>>>> documentation-devel
=======
   "id": "d2fadaad",
>>>>>>> e1d793125c0aeb7e34aca09298b9c5b44973e4b3
   "metadata": {},
   "source": [
    "The function in `fun` for univariate methods that don't use a spatial neighborhood graph must have arguments `x` and `coords_df` (`sf` data frame for the spatial coordinates) and other arguments are allowed. This is the `.variogram` function:"
   ]
  },
  {
   "cell_type": "code",
   "execution_count": null,
<<<<<<< HEAD
<<<<<<< HEAD
<<<<<<< HEAD
   "id": "e336bcc5",
||||||| fa5abb84
   "id": "9894bb82",
=======
   "id": "0d66a90b",
>>>>>>> documentation-devel
||||||| 7e3277eb
   "id": "0d66a90b",
=======
   "id": "b9fcd643",
>>>>>>> documentation-devel
||||||| 971bf77c
<<<<<<< HEAD
   "id": "e336bcc5",
||||||| fa5abb84
   "id": "9894bb82",
=======
   "id": "0d66a90b",
>>>>>>> documentation-devel
=======
   "id": "27f429e5",
>>>>>>> e1d793125c0aeb7e34aca09298b9c5b44973e4b3
   "metadata": {
    "eval": false
   },
   "outputs": [],
   "source": [
    ".variogram <- function(x, coords_df, formula = x ~ 1, scale = TRUE, ...) {\n",
    "    coords_df$x <- x\n",
    "    if (scale) coords_df$x <- scale(coords_df$x)\n",
    "    dots <- list(...)\n",
    "    # Deal with alpha myself and fit a global variogram to avoid further gstat warnings\n",
    "    have_alpha <- \"alpha\" %in% names(dots)\n",
    "    if (have_alpha) {\n",
    "        empirical <- gstat::variogram(formula, data = coords_df, alpha = dots$alpha)\n",
    "        dots$alpha <- NULL\n",
    "    }\n",
    "    out <- do.call(automap::autofitVariogram,\n",
    "                   c(list(formula = formula, input_data = coords_df,\n",
    "                          map = FALSE, cloud = FALSE), dots))\n",
    "    if (have_alpha) {\n",
    "        out$exp_var <- empirical\n",
    "    }\n",
    "    out\n",
    "}"
   ]
  },
  {
   "cell_type": "markdown",
<<<<<<< HEAD
<<<<<<< HEAD
<<<<<<< HEAD
   "id": "d1d4a93e",
||||||| fa5abb84
   "id": "8a88a652",
=======
   "id": "1820a0c4",
>>>>>>> documentation-devel
||||||| 7e3277eb
   "id": "1820a0c4",
=======
   "id": "62e9a7e0",
>>>>>>> documentation-devel
||||||| 971bf77c
<<<<<<< HEAD
   "id": "d1d4a93e",
||||||| fa5abb84
   "id": "8a88a652",
=======
   "id": "1820a0c4",
>>>>>>> documentation-devel
=======
   "id": "42773207",
>>>>>>> e1d793125c0aeb7e34aca09298b9c5b44973e4b3
   "metadata": {},
   "source": [
    "The rule for `reorganize_fun` remains the same, and this is the `.other2df` function:"
   ]
  },
  {
   "cell_type": "code",
   "execution_count": null,
<<<<<<< HEAD
<<<<<<< HEAD
<<<<<<< HEAD
   "id": "8ae5eac9",
||||||| fa5abb84
   "id": "a6b51eee",
=======
   "id": "9b4ba537",
>>>>>>> documentation-devel
||||||| 7e3277eb
   "id": "9b4ba537",
=======
   "id": "46cff265",
>>>>>>> documentation-devel
||||||| 971bf77c
<<<<<<< HEAD
   "id": "8ae5eac9",
||||||| fa5abb84
   "id": "a6b51eee",
=======
   "id": "9b4ba537",
>>>>>>> documentation-devel
=======
   "id": "251b6fff",
>>>>>>> e1d793125c0aeb7e34aca09298b9c5b44973e4b3
   "metadata": {
    "eval": false
   },
   "outputs": [],
   "source": [
    ".other2df <- function(out, name, ...) {\n",
    "    if (!is.atomic(out)) out <- I(out)\n",
    "    out_df <- DataFrame(res = out)\n",
    "    names(out_df) <- name\n",
    "    rownames(out_df) <- names(out)\n",
    "    out_df\n",
    "}"
   ]
  },
  {
   "cell_type": "markdown",
<<<<<<< HEAD
<<<<<<< HEAD
<<<<<<< HEAD
   "id": "2cae109e",
||||||| fa5abb84
   "id": "3ede71b3",
=======
   "id": "35cbc677",
>>>>>>> documentation-devel
||||||| 7e3277eb
   "id": "35cbc677",
=======
   "id": "29a897f3",
>>>>>>> documentation-devel
||||||| 971bf77c
<<<<<<< HEAD
   "id": "2cae109e",
||||||| fa5abb84
   "id": "3ede71b3",
=======
   "id": "35cbc677",
>>>>>>> documentation-devel
=======
   "id": "01bfe073",
>>>>>>> e1d793125c0aeb7e34aca09298b9c5b44973e4b3
   "metadata": {},
   "source": [
    "## Local\n",
    "These are the univariate local methods in `Voyager`:"
   ]
  },
  {
   "cell_type": "code",
   "execution_count": null,
<<<<<<< HEAD
<<<<<<< HEAD
<<<<<<< HEAD
   "id": "c55eed41",
||||||| fa5abb84
   "id": "715a8399",
=======
   "id": "4f3e78ef",
>>>>>>> documentation-devel
||||||| 7e3277eb
   "id": "4f3e78ef",
=======
   "id": "0ce2e2ab",
>>>>>>> documentation-devel
||||||| 971bf77c
<<<<<<< HEAD
   "id": "c55eed41",
||||||| fa5abb84
   "id": "715a8399",
=======
   "id": "4f3e78ef",
>>>>>>> documentation-devel
=======
   "id": "13babf56",
>>>>>>> e1d793125c0aeb7e34aca09298b9c5b44973e4b3
   "metadata": {},
   "outputs": [],
   "source": [
    "listSFEMethods(\"uni\", \"local\")"
   ]
  },
  {
   "cell_type": "markdown",
<<<<<<< HEAD
<<<<<<< HEAD
<<<<<<< HEAD
   "id": "7cb6732e",
||||||| fa5abb84
   "id": "55e19428",
=======
   "id": "64e1f00f",
>>>>>>> documentation-devel
||||||| 7e3277eb
   "id": "64e1f00f",
=======
   "id": "e7650bf6",
>>>>>>> documentation-devel
||||||| 971bf77c
<<<<<<< HEAD
   "id": "7cb6732e",
||||||| fa5abb84
   "id": "55e19428",
=======
   "id": "64e1f00f",
>>>>>>> documentation-devel
=======
   "id": "ba1b910f",
>>>>>>> e1d793125c0aeb7e34aca09298b9c5b44973e4b3
   "metadata": {},
   "source": [
    "This is the code used to create the `SFEMethod` object for `localmoran`:"
   ]
  },
  {
   "cell_type": "code",
   "execution_count": null,
<<<<<<< HEAD
<<<<<<< HEAD
<<<<<<< HEAD
   "id": "2fd12839",
||||||| fa5abb84
   "id": "62210679",
=======
   "id": "cc5b027e",
>>>>>>> documentation-devel
||||||| 7e3277eb
   "id": "cc5b027e",
=======
   "id": "81f6a1bd",
>>>>>>> documentation-devel
||||||| 971bf77c
<<<<<<< HEAD
   "id": "2fd12839",
||||||| fa5abb84
   "id": "62210679",
=======
   "id": "cc5b027e",
>>>>>>> documentation-devel
=======
   "id": "710a3e9f",
>>>>>>> e1d793125c0aeb7e34aca09298b9c5b44973e4b3
   "metadata": {
    "eval": false
   },
   "outputs": [],
   "source": [
    "localmoran <- SFEMethod(\n",
    "    name = \"localmoran\", title = \"Local Moran's I\",\n",
    "    package = \"spdep\", scope = \"local\", default_attr = \"Ii\",\n",
    "    fun = spdep::localmoran,\n",
    "    use_graph = TRUE,\n",
    "    reorganize_fun = .localmoran2df\n",
    ")"
   ]
  },
  {
   "cell_type": "markdown",
<<<<<<< HEAD
<<<<<<< HEAD
<<<<<<< HEAD
   "id": "1d63b59f",
||||||| fa5abb84
   "id": "ae737829",
=======
   "id": "10b60ab1",
>>>>>>> documentation-devel
||||||| 7e3277eb
   "id": "10b60ab1",
=======
   "id": "398bd6f7",
>>>>>>> documentation-devel
||||||| 971bf77c
<<<<<<< HEAD
   "id": "1d63b59f",
||||||| fa5abb84
   "id": "ae737829",
=======
   "id": "10b60ab1",
>>>>>>> documentation-devel
=======
   "id": "287e1189",
>>>>>>> e1d793125c0aeb7e34aca09298b9c5b44973e4b3
   "metadata": {},
   "source": [
    "`spdep::localmoran` already has the right arguments, including `x`, `listw`, and `zero.policy`.\n",
    "\n",
    "For local methods, the `title` and `default_attr` arguments are important, as they are used in `plotLocalResults()` for the plot title. Many local methods return a matrix or data frame as the results for each gene, and `default_attr` specifies the column to use by default when plotting, such as the local Moran's I values (`Ii`) in this case. Other fields the results can be p-values and adjusted p-values.\n",
    "\n",
    "The `reorganize_fun` is different from those of univariate global methods because the local results are organized differently. Here is the `.localmoran2df` function:"
   ]
  },
  {
   "cell_type": "code",
   "execution_count": null,
<<<<<<< HEAD
<<<<<<< HEAD
<<<<<<< HEAD
   "id": "decdf8d7",
||||||| fa5abb84
   "id": "f08b8043",
=======
   "id": "0fa9f014",
>>>>>>> documentation-devel
||||||| 7e3277eb
   "id": "0fa9f014",
=======
   "id": "629026fc",
>>>>>>> documentation-devel
||||||| 971bf77c
<<<<<<< HEAD
   "id": "decdf8d7",
||||||| fa5abb84
   "id": "f08b8043",
=======
   "id": "0fa9f014",
>>>>>>> documentation-devel
=======
   "id": "ea6b785a",
>>>>>>> e1d793125c0aeb7e34aca09298b9c5b44973e4b3
   "metadata": {
    "eval": false
   },
   "outputs": [],
   "source": [
    ".localmoran2df <- function(out, nb, p.adjust.method) {\n",
    "    lapply(out, function(o) {\n",
    "        o1 <- as.data.frame(o)\n",
    "        quadr <- attr(o, \"quadr\")\n",
    "        I(.add_log_p(cbind(o1, quadr), nb, p.adjust.method))\n",
    "    })\n",
    "}"
   ]
  },
  {
   "cell_type": "markdown",
<<<<<<< HEAD
<<<<<<< HEAD
<<<<<<< HEAD
   "id": "c368d328",
||||||| fa5abb84
   "id": "7bf05203",
=======
   "id": "dca3d175",
>>>>>>> documentation-devel
||||||| 7e3277eb
   "id": "dca3d175",
=======
   "id": "a52fa11d",
>>>>>>> documentation-devel
||||||| 971bf77c
<<<<<<< HEAD
   "id": "c368d328",
||||||| fa5abb84
   "id": "7bf05203",
=======
   "id": "dca3d175",
>>>>>>> documentation-devel
=======
   "id": "d5149201",
>>>>>>> e1d793125c0aeb7e34aca09298b9c5b44973e4b3
   "metadata": {},
   "source": [
    "The function must have arguments:\n",
    "\n",
    "* `out` for results from `fun` for all genes, a list each element of which is the results for one gene.\n",
    "* `nb` for a neighbor object of class `nb`, which is part of the `listw` object for spatial neighborhood graphs. This is used to correct for multiple hypothesis testing with `p.adjustSP()`\n",
    "* `p.adjust.method` to specify a method to correct for multiple testing. See `p.adjust()` for available methods.\n",
    "\n",
    "The output is a list of organized results, each element for one gene, which will then be converted to a `DataFrame` and added to `localResults(sfe)`.\n",
    "\n",
    "# Bivariate\n",
    "These are the bivariate global methods in `Voyager`:"
   ]
  },
  {
   "cell_type": "code",
   "execution_count": null,
<<<<<<< HEAD
<<<<<<< HEAD
<<<<<<< HEAD
   "id": "32533bc5",
||||||| fa5abb84
   "id": "5ecc1b46",
=======
   "id": "b238b873",
>>>>>>> documentation-devel
||||||| 7e3277eb
   "id": "b238b873",
=======
   "id": "d1dfe071",
>>>>>>> documentation-devel
||||||| 971bf77c
<<<<<<< HEAD
   "id": "32533bc5",
||||||| fa5abb84
   "id": "5ecc1b46",
=======
   "id": "b238b873",
>>>>>>> documentation-devel
=======
   "id": "c8a24c2a",
>>>>>>> e1d793125c0aeb7e34aca09298b9c5b44973e4b3
   "metadata": {},
   "outputs": [],
   "source": [
    "listSFEMethods(\"bi\", \"global\")"
   ]
  },
  {
   "cell_type": "markdown",
<<<<<<< HEAD
<<<<<<< HEAD
<<<<<<< HEAD
   "id": "876ee507",
||||||| fa5abb84
   "id": "ae155a40",
=======
   "id": "aba2ae6b",
>>>>>>> documentation-devel
||||||| 7e3277eb
   "id": "aba2ae6b",
=======
   "id": "17dff05d",
>>>>>>> documentation-devel
||||||| 971bf77c
<<<<<<< HEAD
   "id": "876ee507",
||||||| fa5abb84
   "id": "ae155a40",
=======
   "id": "aba2ae6b",
>>>>>>> documentation-devel
=======
   "id": "6cb5433f",
>>>>>>> e1d793125c0aeb7e34aca09298b9c5b44973e4b3
   "metadata": {},
   "source": [
    "These are the bivariate local methods in `Voyager`:"
   ]
  },
  {
   "cell_type": "code",
   "execution_count": null,
<<<<<<< HEAD
<<<<<<< HEAD
<<<<<<< HEAD
   "id": "030e8428",
||||||| fa5abb84
   "id": "94025dfe",
=======
   "id": "d7e16008",
>>>>>>> documentation-devel
||||||| 7e3277eb
   "id": "d7e16008",
=======
   "id": "1ba05a00",
>>>>>>> documentation-devel
||||||| 971bf77c
<<<<<<< HEAD
   "id": "030e8428",
||||||| fa5abb84
   "id": "94025dfe",
=======
   "id": "d7e16008",
>>>>>>> documentation-devel
=======
   "id": "9fb4fc22",
>>>>>>> e1d793125c0aeb7e34aca09298b9c5b44973e4b3
   "metadata": {},
   "outputs": [],
   "source": [
    "listSFEMethods(\"bi\", \"local\")"
   ]
  },
  {
   "cell_type": "markdown",
<<<<<<< HEAD
<<<<<<< HEAD
<<<<<<< HEAD
   "id": "aa728d6a",
||||||| fa5abb84
   "id": "ce4b43bc",
=======
   "id": "4d290ff3",
>>>>>>> documentation-devel
||||||| 7e3277eb
   "id": "4d290ff3",
=======
   "id": "cce8af99",
>>>>>>> documentation-devel
||||||| 971bf77c
<<<<<<< HEAD
   "id": "aa728d6a",
||||||| fa5abb84
   "id": "ce4b43bc",
=======
   "id": "4d290ff3",
>>>>>>> documentation-devel
=======
   "id": "3d216296",
>>>>>>> e1d793125c0aeb7e34aca09298b9c5b44973e4b3
   "metadata": {},
   "source": [
    "The `SFEMethod` construction for bivariate methods is similar to that of univariate methods, except that the function in `fun` must have argument `y` after `x`. This is the code used to create the `SFEMethod` object for `lee`, Lee's L:"
   ]
  },
  {
   "cell_type": "code",
   "execution_count": null,
<<<<<<< HEAD
<<<<<<< HEAD
<<<<<<< HEAD
   "id": "447ddf30",
||||||| fa5abb84
   "id": "336240c8",
=======
   "id": "13cb7351",
>>>>>>> documentation-devel
||||||| 7e3277eb
   "id": "13cb7351",
=======
   "id": "05aac2da",
>>>>>>> documentation-devel
||||||| 971bf77c
<<<<<<< HEAD
   "id": "447ddf30",
||||||| fa5abb84
   "id": "336240c8",
=======
   "id": "13cb7351",
>>>>>>> documentation-devel
=======
   "id": "6d413248",
>>>>>>> e1d793125c0aeb7e34aca09298b9c5b44973e4b3
   "metadata": {
    "eval": false
   },
   "outputs": [],
   "source": [
    "lee <- SFEMethod(name = \"lee\", fun = .lee_mat, title = \"Lee's bivariate statistic\",\n",
    "                 reorganize_fun = function(out, name, ...) out,\n",
    "                 package = \"Voyager\", variate = \"bi\", scope = \"global\",\n",
    "                 use_matrix = TRUE)"
   ]
  },
  {
   "cell_type": "markdown",
<<<<<<< HEAD
<<<<<<< HEAD
<<<<<<< HEAD
   "id": "d18a4f20",
||||||| fa5abb84
   "id": "694a3425",
=======
   "id": "476019a8",
>>>>>>> documentation-devel
||||||| 7e3277eb
   "id": "476019a8",
=======
   "id": "d2168fa0",
>>>>>>> documentation-devel
||||||| 971bf77c
<<<<<<< HEAD
   "id": "d18a4f20",
||||||| fa5abb84
   "id": "694a3425",
=======
   "id": "476019a8",
>>>>>>> documentation-devel
=======
   "id": "32ec5278",
>>>>>>> e1d793125c0aeb7e34aca09298b9c5b44973e4b3
   "metadata": {},
   "source": [
    "Note the `use_matrix` argument, which specific to bivariate methods. It means whether the method can take a matrix as argument and compute the statistic for all pairwise combinations of the matrix's rows. This way the computation can be expressed as matrix operations which is much more efficient than R loops because the loops are pushed to the underlying C and Fortran code in BLAS and the `Matrix` package for sparse matrices.\n",
    "\n",
    "Here's the `.lee_mat` function:"
   ]
  },
  {
   "cell_type": "code",
   "execution_count": null,
<<<<<<< HEAD
<<<<<<< HEAD
<<<<<<< HEAD
   "id": "f007581a",
||||||| fa5abb84
   "id": "6a82c3da",
=======
   "id": "2b7c76b4",
>>>>>>> documentation-devel
||||||| 7e3277eb
   "id": "2b7c76b4",
=======
   "id": "cf48d72e",
>>>>>>> documentation-devel
||||||| 971bf77c
<<<<<<< HEAD
   "id": "f007581a",
||||||| fa5abb84
   "id": "6a82c3da",
=======
   "id": "2b7c76b4",
>>>>>>> documentation-devel
=======
   "id": "8704d809",
>>>>>>> e1d793125c0aeb7e34aca09298b9c5b44973e4b3
   "metadata": {
    "eval": false
   },
   "outputs": [],
   "source": [
    ".lee_mat <- function(x, y = NULL, listw, zero.policy = TRUE, ...) {\n",
    "    # X has genes in rows\n",
    "    if (is(listw, \"listw\"))\n",
    "        W <- listw2sparse(listw)\n",
    "    else W <- listw\n",
    "    x <- .scale_n(x)\n",
    "    if (!is.null(y)) {\n",
    "        y <- .scale_n(y)\n",
    "    } else y <- x\n",
    "    n <- ncol(x) # dimension of y is checked in calculateBivariate\n",
    "    out <- x %*% (t(W) %*% W) %*% t(y)/sum(rowSums(W)^2) * n\n",
    "    if (all(dim(out) == 1L)) out <- out[1,1]\n",
    "    out\n",
    "}"
   ]
  },
  {
   "cell_type": "markdown",
<<<<<<< HEAD
<<<<<<< HEAD
<<<<<<< HEAD
   "id": "2b86dff4",
||||||| fa5abb84
   "id": "3a995d38",
=======
   "id": "10ab34c2",
>>>>>>> documentation-devel
||||||| 7e3277eb
   "id": "10ab34c2",
=======
   "id": "d1044994",
>>>>>>> documentation-devel
||||||| 971bf77c
<<<<<<< HEAD
   "id": "2b86dff4",
||||||| fa5abb84
   "id": "3a995d38",
=======
   "id": "10ab34c2",
>>>>>>> documentation-devel
=======
   "id": "43983f50",
>>>>>>> e1d793125c0aeb7e34aca09298b9c5b44973e4b3
   "metadata": {},
   "source": [
    "Due to the matrix operation, `listw` can be a sparse or dense adjacency matrix of the spatial neighborhood graph. To conform to scRNA-seq conventions, `x` and `y` have genes in rows if they are matrices.\n",
    "\n",
    "The `reorganize_fun` for bivariate global methods don't have to return a `DataFrame`, because bivariate global results can't be stored in the SFE object. However, `reorganize_fun` for bivariate local methods follow the same rules as that of univariate local methods because the results also go into `localResults(sfe)`.\n",
    "\n",
    "# Multivariate\n",
    "These are the multivariate methods in `Voyager`:"
   ]
  },
  {
   "cell_type": "code",
   "execution_count": null,
<<<<<<< HEAD
<<<<<<< HEAD
<<<<<<< HEAD
   "id": "851c85e2",
||||||| fa5abb84
   "id": "46ffbe6b",
=======
   "id": "9d582f39",
>>>>>>> documentation-devel
||||||| 7e3277eb
   "id": "9d582f39",
=======
   "id": "c7759822",
>>>>>>> documentation-devel
||||||| 971bf77c
<<<<<<< HEAD
   "id": "851c85e2",
||||||| fa5abb84
   "id": "46ffbe6b",
=======
   "id": "9d582f39",
>>>>>>> documentation-devel
=======
   "id": "72a8ec24",
>>>>>>> e1d793125c0aeb7e34aca09298b9c5b44973e4b3
   "metadata": {},
   "outputs": [],
   "source": [
    "listSFEMethods(\"multi\")"
   ]
  },
  {
   "cell_type": "markdown",
<<<<<<< HEAD
<<<<<<< HEAD
<<<<<<< HEAD
   "id": "68d9e3dc",
||||||| fa5abb84
   "id": "f289d1e1",
=======
   "id": "f57f07d6",
>>>>>>> documentation-devel
||||||| 7e3277eb
   "id": "f57f07d6",
=======
   "id": "c8b94ee4",
>>>>>>> documentation-devel
||||||| 971bf77c
<<<<<<< HEAD
   "id": "68d9e3dc",
||||||| fa5abb84
   "id": "f289d1e1",
=======
   "id": "f57f07d6",
>>>>>>> documentation-devel
=======
   "id": "bd745385",
>>>>>>> e1d793125c0aeb7e34aca09298b9c5b44973e4b3
   "metadata": {},
   "source": [
    "The `SFEMethod` construction for bivariate methods is similar to that of univariate methods, except for two arguments: `joint` to indicate whether it makes sense to run the method for multiple samples jointly just like in non-spatial PCA, and `dest` to indicate whether the results should go into `reducedDims(sfe)` or `colData(sfe)`. This is the code for a multivariate generalization of local Geary's C [@Anselin2019-uv] with permutation testing:"
   ]
  },
  {
   "cell_type": "code",
   "execution_count": null,
<<<<<<< HEAD
<<<<<<< HEAD
<<<<<<< HEAD
   "id": "bc9adc7a",
||||||| fa5abb84
   "id": "bba2ebf2",
=======
   "id": "3c5d3e92",
>>>>>>> documentation-devel
||||||| 7e3277eb
   "id": "3c5d3e92",
=======
   "id": "127ceee9",
>>>>>>> documentation-devel
||||||| 971bf77c
<<<<<<< HEAD
   "id": "bc9adc7a",
||||||| fa5abb84
   "id": "bba2ebf2",
=======
   "id": "3c5d3e92",
>>>>>>> documentation-devel
=======
   "id": "06ba7e4e",
>>>>>>> e1d793125c0aeb7e34aca09298b9c5b44973e4b3
   "metadata": {
    "eval": false
   },
   "outputs": [],
   "source": [
    ".localC_multi_fun <- function(perm = FALSE) {\n",
    "    function(x, listw, ..., zero.policy) {\n",
    "        x <- as.matrix(x)\n",
    "        fun <- if (perm) spdep::localC_perm else spdep::localC\n",
    "        fun(x, listw = listw, zero.policy = zero.policy, ...)\n",
    "    }\n",
    "}\n",
    "\n",
    ".localCpermmulti2df <- function(out, nb, p.adjust.method) {\n",
    "    .attrmat2df(list(out), \"pseudo-p\", \"localC_perm_multi\", nb, p.adjust.method)[[1]]\n",
    "}\n",
    "\n",
    "localC_perm_multi <- SFEMethod(\n",
    "    name = \"localC_perm_multi\", title = \"Multivariate local Geary's C permutation testing\",\n",
    "    package = \"spdep\", variate = \"multi\", default_attr = \"localC\",\n",
    "    fun = .localC_multi_fun(TRUE),\n",
    "    reorganize_fun = .localCpermmulti2df,\n",
    "    dest = \"colData\"\n",
    ")"
   ]
  },
  {
   "cell_type": "markdown",
<<<<<<< HEAD
<<<<<<< HEAD
<<<<<<< HEAD
   "id": "378268c9",
||||||| fa5abb84
   "id": "e8af57ad",
=======
   "id": "671ad38d",
>>>>>>> documentation-devel
||||||| 7e3277eb
   "id": "671ad38d",
=======
   "id": "a0a4e57c",
>>>>>>> documentation-devel
||||||| 971bf77c
<<<<<<< HEAD
   "id": "378268c9",
||||||| fa5abb84
   "id": "e8af57ad",
=======
   "id": "671ad38d",
>>>>>>> documentation-devel
=======
   "id": "4750273f",
>>>>>>> e1d793125c0aeb7e34aca09298b9c5b44973e4b3
   "metadata": {},
   "source": [
    "Here the results, as a single vector, goes into `colData(sfe)`, and it does not make sense to run it across multiple samples jointly as each sample has a separate spatial neighborhood graph, so it will be run on each sample separately. \n",
    "\n",
    "The function in `reorganize_fun` should return a vector, matrix, or data frame ready to be added to `reducedDims(sfe)` or `colData(sfe)`. If the results can go into `colData`, the rules for arguments are the same as those for univariate local methods, because with permutation testing for multivariate local Geary's C, multiple testing correction is performed in the `reorganize_fun`. If the results go into `reducedDims`, then it only needs one argument for the output.\n",
    "\n",
    "# References"
   ]
  }
 ],
 "metadata": {
  "kernelspec": {
   "display_name": "R",
   "language": "R",
   "name": "ir"
  }
 },
 "nbformat": 4,
 "nbformat_minor": 5
}
