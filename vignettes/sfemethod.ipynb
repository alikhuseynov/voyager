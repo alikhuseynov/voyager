{
 "cells": [
  {
   "cell_type": "raw",
<<<<<<< HEAD
<<<<<<< HEAD
<<<<<<< HEAD
   "id": "98a1c63c",
||||||| 6a30bf1
   "id": "319357ae",
=======
   "id": "f9a212a7",
>>>>>>> documentation-devel
||||||| d28b18c
   "id": "f9a212a7",
=======
   "id": "4e8c33ed",
>>>>>>> documentation-devel
||||||| 6893f63
<<<<<<< HEAD
   "id": "98a1c63c",
||||||| 6a30bf1
   "id": "319357ae",
=======
   "id": "f9a212a7",
>>>>>>> documentation-devel
=======
   "id": "976538a3",
>>>>>>> c74c98c2450c2a1ba922ed9442f136238d6bc88b
   "metadata": {},
   "source": [
    "---\n",
    "title: \"Use your own spatial method in Voyager\"\n",
    "author: \"Lambda Moses\"\n",
    "date: \"`r Sys.Date()`\"\n",
    "output: \n",
    "  html_document:\n",
    "  toc: true\n",
    "  toc_float:\n",
    "    collapsed: false\n",
    "  toc_depth: 3\n",
    "bibliography: ref.bib\n",
    "vignette: >\n",
    "  %\\VignetteIndexEntry{sfemethod}\n",
    "  %\\VignetteEngine{knitr::rmarkdown}\n",
    "  %\\VignetteEncoding{UTF-8}\n",
    "---"
   ]
  },
  {
   "cell_type": "code",
   "execution_count": null,
<<<<<<< HEAD
<<<<<<< HEAD
<<<<<<< HEAD
   "id": "99256bf9",
||||||| 6a30bf1
   "id": "bb9d879c",
=======
   "id": "3146caf9",
>>>>>>> documentation-devel
||||||| d28b18c
   "id": "3146caf9",
=======
   "id": "4574a55b",
>>>>>>> documentation-devel
||||||| 6893f63
<<<<<<< HEAD
   "id": "99256bf9",
||||||| 6a30bf1
   "id": "bb9d879c",
=======
   "id": "3146caf9",
>>>>>>> documentation-devel
=======
   "id": "8f509965",
>>>>>>> c74c98c2450c2a1ba922ed9442f136238d6bc88b
   "metadata": {
    "tags": [
     "remove_cell"
    ]
   },
   "outputs": [],
   "source": [
    "knitr::opts_chunk$set(\n",
    "  collapse = TRUE,\n",
    "  comment = \"#>\"\n",
    ")"
   ]
  },
  {
   "cell_type": "markdown",
<<<<<<< HEAD
<<<<<<< HEAD
<<<<<<< HEAD
   "id": "54aff2ed",
||||||| 6a30bf1
   "id": "e590967e",
=======
   "id": "5b54d820",
>>>>>>> documentation-devel
||||||| d28b18c
   "id": "5b54d820",
=======
   "id": "aa70965c",
>>>>>>> documentation-devel
||||||| 6893f63
<<<<<<< HEAD
   "id": "54aff2ed",
||||||| 6a30bf1
   "id": "e590967e",
=======
   "id": "5b54d820",
>>>>>>> documentation-devel
=======
   "id": "5bf03650",
>>>>>>> c74c98c2450c2a1ba922ed9442f136238d6bc88b
   "metadata": {},
   "source": [
    "# Introduction\n",
    "There are multiple different ways to do certain things. Each of the different ways have pros and cons, and sometimes can tell somewhat different stories. Often the different ways come with different syntaxes, increasing the learning curve for users. `Voyager` took inspiration from `caret` and `tidymodels` [@Kuhn2020-fm] for machine learning, `foreach`, `future`, and `BiocParallel` for parallel processing with different backends, `bluster` for different clustering algorithms, and `BiocNeighbors` for different algorithms to find nearest neighbors. These packages provide uniform user interfaces to different methods to achieve a given goal. \n",
    "\n",
    "In `caret` and `tidymodels`, users can make the uniform user interface fit custom models not included in the package to eliminate a lot of duplicate code. In `Voyager`, this is done with the `SFEMethod` S4 class. This vignette shows how to use the `SFEMethod` class to use Voyager's uniform user interface on you own custom methods.\n",
    "\n",
    "Here we load the packages used:"
   ]
  },
  {
   "cell_type": "code",
   "execution_count": null,
<<<<<<< HEAD
<<<<<<< HEAD
<<<<<<< HEAD
   "id": "c78f3c7b",
||||||| 6a30bf1
   "id": "564b2ed5",
=======
   "id": "188d2be2",
>>>>>>> documentation-devel
||||||| d28b18c
   "id": "188d2be2",
=======
   "id": "964b7753",
>>>>>>> documentation-devel
||||||| 6893f63
<<<<<<< HEAD
   "id": "c78f3c7b",
||||||| 6a30bf1
   "id": "564b2ed5",
=======
   "id": "188d2be2",
>>>>>>> documentation-devel
=======
   "id": "c3ba0c3c",
>>>>>>> c74c98c2450c2a1ba922ed9442f136238d6bc88b
   "metadata": {},
   "outputs": [],
   "source": [
    "library(Voyager)\n",
    "library(spdep)"
   ]
  },
  {
   "cell_type": "markdown",
<<<<<<< HEAD
<<<<<<< HEAD
<<<<<<< HEAD
   "id": "9aae6e55",
||||||| 6a30bf1
   "id": "d61b5bda",
=======
   "id": "7bfa111f",
>>>>>>> documentation-devel
||||||| d28b18c
   "id": "7bfa111f",
=======
   "id": "495baf1f",
>>>>>>> documentation-devel
||||||| 6893f63
<<<<<<< HEAD
   "id": "9aae6e55",
||||||| 6a30bf1
   "id": "d61b5bda",
=======
   "id": "7bfa111f",
>>>>>>> documentation-devel
=======
   "id": "3aee954c",
>>>>>>> c74c98c2450c2a1ba922ed9442f136238d6bc88b
   "metadata": {},
   "source": [
    "`Voyager` categorizes exploratory spatial data analysis (ESDA) methods by the number of variables and whether the method gives one result for the entire dataset (global) or gives results at each location (local). While the process to create an `SFEMethod` object is mostly the same across categories, each category has specific arguments.\n",
    "\n",
    "Also, before you make your own `SFEMethod` object, see if the method of interest is already in `Voyager`. The methods can be listed with the `listSFEMethods()` function.\n",
    "\n",
    "When calling `calculate*variate()` or `run*variate()`, the `type` (2nd) argument takes either an `SFEMethod` object or a string that matches an entry in the `name` column in the data frame returned by `listSFEMethods()` so `Voyager` will search for an S4 object with name matching the string.\n",
    "\n",
    "# Univariate\n",
    "## Global\n",
    "These are the univariate global methods in `Voyager`:"
   ]
  },
  {
   "cell_type": "code",
   "execution_count": null,
<<<<<<< HEAD
<<<<<<< HEAD
<<<<<<< HEAD
   "id": "7121b135",
||||||| 6a30bf1
   "id": "6ebb6878",
=======
   "id": "009332c6",
>>>>>>> documentation-devel
||||||| d28b18c
   "id": "009332c6",
=======
   "id": "b1a7c045",
>>>>>>> documentation-devel
||||||| 6893f63
<<<<<<< HEAD
   "id": "7121b135",
||||||| 6a30bf1
   "id": "6ebb6878",
=======
   "id": "009332c6",
>>>>>>> documentation-devel
=======
   "id": "e7b0b7fb",
>>>>>>> c74c98c2450c2a1ba922ed9442f136238d6bc88b
   "metadata": {},
   "outputs": [],
   "source": [
    "listSFEMethods(\"uni\", \"global\")"
   ]
  },
  {
   "cell_type": "markdown",
<<<<<<< HEAD
<<<<<<< HEAD
<<<<<<< HEAD
   "id": "8dc62835",
||||||| 6a30bf1
   "id": "6d8ac2f7",
=======
   "id": "65961e3d",
>>>>>>> documentation-devel
||||||| d28b18c
   "id": "65961e3d",
=======
   "id": "5e609927",
>>>>>>> documentation-devel
||||||| 6893f63
<<<<<<< HEAD
   "id": "8dc62835",
||||||| 6a30bf1
   "id": "6d8ac2f7",
=======
   "id": "65961e3d",
>>>>>>> documentation-devel
=======
   "id": "857b47c0",
>>>>>>> c74c98c2450c2a1ba922ed9442f136238d6bc88b
   "metadata": {},
   "source": [
    "This is the code used to create the `SFEMethod` object to run Moran's I, with the `SFEMethod()` constructor:"
   ]
  },
  {
   "cell_type": "code",
   "execution_count": null,
<<<<<<< HEAD
<<<<<<< HEAD
<<<<<<< HEAD
   "id": "e8da6a02",
||||||| 6a30bf1
   "id": "4050f035",
=======
   "id": "8c8ffc99",
>>>>>>> documentation-devel
||||||| d28b18c
   "id": "8c8ffc99",
=======
   "id": "9e2619ad",
>>>>>>> documentation-devel
||||||| 6893f63
<<<<<<< HEAD
   "id": "e8da6a02",
||||||| 6a30bf1
   "id": "4050f035",
=======
   "id": "8c8ffc99",
>>>>>>> documentation-devel
=======
   "id": "6e900d33",
>>>>>>> c74c98c2450c2a1ba922ed9442f136238d6bc88b
   "metadata": {
    "eval": false
   },
   "outputs": [],
   "source": [
    "moran <- SFEMethod(\n",
    "    name = \"moran\", title = \"Moran's I\", package = \"spdep\", \n",
    "    variate = \"uni\", scope = \"global\",\n",
    "    fun = function(x, listw, zero.policy = NULL)\n",
    "        spdep::moran(x, listw, n = length(listw$neighbours), S0 = spdep::Szero(listw),\n",
    "                     zero.policy = zero.policy),\n",
    "    use_graph = TRUE,\n",
    "    reorganize_fun = .moran2df\n",
    ")"
   ]
  },
  {
   "cell_type": "markdown",
<<<<<<< HEAD
<<<<<<< HEAD
<<<<<<< HEAD
   "id": "a9b94c16",
||||||| 6a30bf1
   "id": "8c349791",
=======
   "id": "6b2cf0bc",
>>>>>>> documentation-devel
||||||| d28b18c
   "id": "6b2cf0bc",
=======
   "id": "19670bba",
>>>>>>> documentation-devel
||||||| 6893f63
<<<<<<< HEAD
   "id": "a9b94c16",
||||||| 6a30bf1
   "id": "8c349791",
=======
   "id": "6b2cf0bc",
>>>>>>> documentation-devel
=======
   "id": "4ef2ecfd",
>>>>>>> c74c98c2450c2a1ba922ed9442f136238d6bc88b
   "metadata": {},
   "source": [
    "The `package` argument is used to check if the package is installed when the method is run. The function to run the method is in the `fun` argument. All univariate methods that use a spatial neighborhood graph (`use_graph = TRUE`) must have arguments:\n",
    "\n",
    "* `x` for a vector as input\n",
    "* `listw` for the spatial neighborhood graph as a `listw` object, and \n",
    "* `zero.policy` for what to do when there are cells or spots that don't have spatial neighbors. See `spdep` documentation (e.g. `spdep::moran()`) for how the `zero.policy` argument behaves. \n",
    "\n",
    "In this case I wrote a think wrapper to fill in the confusing arguments that may confuse the users.\n",
    "\n",
    "If the function running the method from another package has different arguments, then write a thin wrapper to make these required arguments. Extra arguments can be passed to `fun` through `...`.\n",
    "\n",
    "The `reorganize_fun` argument takes a function to reorganize the output from `fun` to form a `DataFrame` so the results for genes can be added to `rowData(sfe)`. Here for Moran's I, the function is"
   ]
  },
  {
   "cell_type": "code",
   "execution_count": null,
<<<<<<< HEAD
<<<<<<< HEAD
<<<<<<< HEAD
   "id": "bf7441c8",
||||||| 6a30bf1
   "id": "e92f16af",
=======
   "id": "a442de23",
>>>>>>> documentation-devel
||||||| d28b18c
   "id": "a442de23",
=======
   "id": "defc4077",
>>>>>>> documentation-devel
||||||| 6893f63
<<<<<<< HEAD
   "id": "bf7441c8",
||||||| 6a30bf1
   "id": "e92f16af",
=======
   "id": "a442de23",
>>>>>>> documentation-devel
=======
   "id": "82b65c60",
>>>>>>> c74c98c2450c2a1ba922ed9442f136238d6bc88b
   "metadata": {
    "eval": false
   },
   "outputs": [],
   "source": [
    ".moran2df <- function(out, name, ...) {\n",
    "    rns <- names(out)\n",
    "    out <- lapply(out, unlist, use.names = TRUE)\n",
    "    out <- Reduce(rbind, out)\n",
    "    if (!is.matrix(out)) out <- t(as.matrix(out))\n",
    "    rownames(out) <- rns\n",
    "    out <- DataFrame(out)\n",
    "    names(out)[1] <- name\n",
    "    out\n",
    "}"
   ]
  },
  {
   "cell_type": "markdown",
<<<<<<< HEAD
<<<<<<< HEAD
<<<<<<< HEAD
   "id": "e9acfea1",
||||||| 6a30bf1
   "id": "81e5eedf",
=======
   "id": "a046fae6",
>>>>>>> documentation-devel
||||||| d28b18c
   "id": "a046fae6",
=======
   "id": "6bf2ae49",
>>>>>>> documentation-devel
||||||| 6893f63
<<<<<<< HEAD
   "id": "e9acfea1",
||||||| 6a30bf1
   "id": "81e5eedf",
=======
   "id": "a046fae6",
>>>>>>> documentation-devel
=======
   "id": "7e377bdb",
>>>>>>> c74c98c2450c2a1ba922ed9442f136238d6bc88b
   "metadata": {},
   "source": [
    "For univariate or bivariate global methods, the function must have:\n",
    "\n",
    "* `out` argument to take in the output from `fun` for multiple genes or features\n",
    "* `name` to take the name under which the results are stored in case the same method is run for the same genes but with different parameters and you don't want to overwrite previous results. The `name` is the name specified in the `SFEMethod()` constructor by default, but can be set by the user when calling `calculate*variate()` or `run*variate()`, and\n",
    "* `...` because the `reorganize_fun` of some univariate global methods in Voyager, such as `sp.correlogram`, needs other arguments.\n",
    "\n",
    "Some spatial methods use spatial distances rather than graphs, such as the variogram. This is the code used to create the `SFEMethod` object for `variogram`:"
   ]
  },
  {
   "cell_type": "code",
   "execution_count": null,
<<<<<<< HEAD
<<<<<<< HEAD
<<<<<<< HEAD
   "id": "3eb44b9c",
||||||| 6a30bf1
   "id": "6c2e8d5b",
=======
   "id": "82674459",
>>>>>>> documentation-devel
||||||| d28b18c
   "id": "82674459",
=======
   "id": "81ec7955",
>>>>>>> documentation-devel
||||||| 6893f63
<<<<<<< HEAD
   "id": "3eb44b9c",
||||||| 6a30bf1
   "id": "6c2e8d5b",
=======
   "id": "82674459",
>>>>>>> documentation-devel
=======
   "id": "a202b585",
>>>>>>> c74c98c2450c2a1ba922ed9442f136238d6bc88b
   "metadata": {
    "eval": false
   },
   "outputs": [],
   "source": [
    "variogram <- SFEMethod(package = \"automap\", variate = \"uni\", scope = \"global\",\n",
    "                       default_attr = NA, name = \"variogram\", title = \"Variogram\",\n",
    "                       fun = .variogram,\n",
    "                       reorganize_fun = .other2df,\n",
    "                       use_graph = FALSE)"
   ]
  },
  {
   "cell_type": "markdown",
<<<<<<< HEAD
<<<<<<< HEAD
<<<<<<< HEAD
   "id": "b240f297",
||||||| 6a30bf1
   "id": "fabc2c78",
=======
   "id": "1547db06",
>>>>>>> documentation-devel
||||||| d28b18c
   "id": "1547db06",
=======
   "id": "e22b9c10",
>>>>>>> documentation-devel
||||||| 6893f63
<<<<<<< HEAD
   "id": "b240f297",
||||||| 6a30bf1
   "id": "fabc2c78",
=======
   "id": "1547db06",
>>>>>>> documentation-devel
=======
   "id": "5d56d937",
>>>>>>> c74c98c2450c2a1ba922ed9442f136238d6bc88b
   "metadata": {},
   "source": [
    "The function in `fun` for univariate methods that don't use a spatial neighborhood graph must have arguments `x` and `coords_df` (`sf` data frame for the spatial coordinates) and other arguments are allowed. This is the `.variogram` function:"
   ]
  },
  {
   "cell_type": "code",
   "execution_count": null,
<<<<<<< HEAD
<<<<<<< HEAD
<<<<<<< HEAD
   "id": "711886c3",
||||||| 6a30bf1
   "id": "3dbdeeec",
=======
   "id": "c3bd9494",
>>>>>>> documentation-devel
||||||| d28b18c
   "id": "c3bd9494",
=======
   "id": "4a1a94f4",
>>>>>>> documentation-devel
||||||| 6893f63
<<<<<<< HEAD
   "id": "711886c3",
||||||| 6a30bf1
   "id": "3dbdeeec",
=======
   "id": "c3bd9494",
>>>>>>> documentation-devel
=======
   "id": "798ff614",
>>>>>>> c74c98c2450c2a1ba922ed9442f136238d6bc88b
   "metadata": {
    "eval": false
   },
   "outputs": [],
   "source": [
    ".variogram <- function(x, coords_df, formula = x ~ 1, scale = TRUE, ...) {\n",
    "    coords_df$x <- x\n",
    "    if (scale) coords_df$x <- scale(coords_df$x)\n",
    "    dots <- list(...)\n",
    "    # Deal with alpha myself and fit a global variogram to avoid further gstat warnings\n",
    "    have_alpha <- \"alpha\" %in% names(dots)\n",
    "    if (have_alpha) {\n",
    "        empirical <- gstat::variogram(formula, data = coords_df, alpha = dots$alpha)\n",
    "        dots$alpha <- NULL\n",
    "    }\n",
    "    out <- do.call(automap::autofitVariogram,\n",
    "                   c(list(formula = formula, input_data = coords_df,\n",
    "                          map = FALSE, cloud = FALSE), dots))\n",
    "    if (have_alpha) {\n",
    "        out$exp_var <- empirical\n",
    "    }\n",
    "    out\n",
    "}"
   ]
  },
  {
   "cell_type": "markdown",
<<<<<<< HEAD
<<<<<<< HEAD
<<<<<<< HEAD
   "id": "33cb6415",
||||||| 6a30bf1
   "id": "612acef2",
=======
   "id": "c30be666",
>>>>>>> documentation-devel
||||||| d28b18c
   "id": "c30be666",
=======
   "id": "4aadaaa6",
>>>>>>> documentation-devel
||||||| 6893f63
<<<<<<< HEAD
   "id": "33cb6415",
||||||| 6a30bf1
   "id": "612acef2",
=======
   "id": "c30be666",
>>>>>>> documentation-devel
=======
   "id": "11cc4441",
>>>>>>> c74c98c2450c2a1ba922ed9442f136238d6bc88b
   "metadata": {},
   "source": [
    "The rule for `reorganize_fun` remains the same, and this is the `.other2df` function:"
   ]
  },
  {
   "cell_type": "code",
   "execution_count": null,
<<<<<<< HEAD
<<<<<<< HEAD
<<<<<<< HEAD
   "id": "3dc5cfb9",
||||||| 6a30bf1
   "id": "fdc54964",
=======
   "id": "2f29e7e5",
>>>>>>> documentation-devel
||||||| d28b18c
   "id": "2f29e7e5",
=======
   "id": "314682fe",
>>>>>>> documentation-devel
||||||| 6893f63
<<<<<<< HEAD
   "id": "3dc5cfb9",
||||||| 6a30bf1
   "id": "fdc54964",
=======
   "id": "2f29e7e5",
>>>>>>> documentation-devel
=======
   "id": "21d877ab",
>>>>>>> c74c98c2450c2a1ba922ed9442f136238d6bc88b
   "metadata": {
    "eval": false
   },
   "outputs": [],
   "source": [
    ".other2df <- function(out, name, ...) {\n",
    "    if (!is.atomic(out)) out <- I(out)\n",
    "    out_df <- DataFrame(res = out)\n",
    "    names(out_df) <- name\n",
    "    rownames(out_df) <- names(out)\n",
    "    out_df\n",
    "}"
   ]
  },
  {
   "cell_type": "markdown",
<<<<<<< HEAD
<<<<<<< HEAD
<<<<<<< HEAD
   "id": "cd8106df",
||||||| 6a30bf1
   "id": "2223c739",
=======
   "id": "4d24b5d4",
>>>>>>> documentation-devel
||||||| d28b18c
   "id": "4d24b5d4",
=======
   "id": "c1cdf7c1",
>>>>>>> documentation-devel
||||||| 6893f63
<<<<<<< HEAD
   "id": "cd8106df",
||||||| 6a30bf1
   "id": "2223c739",
=======
   "id": "4d24b5d4",
>>>>>>> documentation-devel
=======
   "id": "b28161e5",
>>>>>>> c74c98c2450c2a1ba922ed9442f136238d6bc88b
   "metadata": {},
   "source": [
    "## Local\n",
    "These are the univariate local methods in `Voyager`:"
   ]
  },
  {
   "cell_type": "code",
   "execution_count": null,
<<<<<<< HEAD
<<<<<<< HEAD
<<<<<<< HEAD
   "id": "7959342e",
||||||| 6a30bf1
   "id": "d1cb08ef",
=======
   "id": "65bb8f89",
>>>>>>> documentation-devel
||||||| d28b18c
   "id": "65bb8f89",
=======
   "id": "c88a45c5",
>>>>>>> documentation-devel
||||||| 6893f63
<<<<<<< HEAD
   "id": "7959342e",
||||||| 6a30bf1
   "id": "d1cb08ef",
=======
   "id": "65bb8f89",
>>>>>>> documentation-devel
=======
   "id": "841fc2e3",
>>>>>>> c74c98c2450c2a1ba922ed9442f136238d6bc88b
   "metadata": {},
   "outputs": [],
   "source": [
    "listSFEMethods(\"uni\", \"local\")"
   ]
  },
  {
   "cell_type": "markdown",
<<<<<<< HEAD
<<<<<<< HEAD
<<<<<<< HEAD
   "id": "eaf60ed7",
||||||| 6a30bf1
   "id": "57eba7cb",
=======
   "id": "cb482079",
>>>>>>> documentation-devel
||||||| d28b18c
   "id": "cb482079",
=======
   "id": "03b907c6",
>>>>>>> documentation-devel
||||||| 6893f63
<<<<<<< HEAD
   "id": "eaf60ed7",
||||||| 6a30bf1
   "id": "57eba7cb",
=======
   "id": "cb482079",
>>>>>>> documentation-devel
=======
   "id": "1e49bdba",
>>>>>>> c74c98c2450c2a1ba922ed9442f136238d6bc88b
   "metadata": {},
   "source": [
    "This is the code used to create the `SFEMethod` object for `localmoran`:"
   ]
  },
  {
   "cell_type": "code",
   "execution_count": null,
<<<<<<< HEAD
<<<<<<< HEAD
<<<<<<< HEAD
   "id": "836d7a70",
||||||| 6a30bf1
   "id": "17fcd183",
=======
   "id": "87033a6a",
>>>>>>> documentation-devel
||||||| d28b18c
   "id": "87033a6a",
=======
   "id": "82bf5155",
>>>>>>> documentation-devel
||||||| 6893f63
<<<<<<< HEAD
   "id": "836d7a70",
||||||| 6a30bf1
   "id": "17fcd183",
=======
   "id": "87033a6a",
>>>>>>> documentation-devel
=======
   "id": "a9fa72d7",
>>>>>>> c74c98c2450c2a1ba922ed9442f136238d6bc88b
   "metadata": {
    "eval": false
   },
   "outputs": [],
   "source": [
    "localmoran <- SFEMethod(\n",
    "    name = \"localmoran\", title = \"Local Moran's I\",\n",
    "    package = \"spdep\", scope = \"local\", default_attr = \"Ii\",\n",
    "    fun = spdep::localmoran,\n",
    "    use_graph = TRUE,\n",
    "    reorganize_fun = .localmoran2df\n",
    ")"
   ]
  },
  {
   "cell_type": "markdown",
<<<<<<< HEAD
<<<<<<< HEAD
<<<<<<< HEAD
   "id": "a023e881",
||||||| 6a30bf1
   "id": "f6002ab8",
=======
   "id": "e88a7ddc",
>>>>>>> documentation-devel
||||||| d28b18c
   "id": "e88a7ddc",
=======
   "id": "9be6b1ab",
>>>>>>> documentation-devel
||||||| 6893f63
<<<<<<< HEAD
   "id": "a023e881",
||||||| 6a30bf1
   "id": "f6002ab8",
=======
   "id": "e88a7ddc",
>>>>>>> documentation-devel
=======
   "id": "d551e0c7",
>>>>>>> c74c98c2450c2a1ba922ed9442f136238d6bc88b
   "metadata": {},
   "source": [
    "`spdep::localmoran` already has the right arguments, including `x`, `listw`, and `zero.policy`.\n",
    "\n",
    "For local methods, the `title` and `default_attr` arguments are important, as they are used in `plotLocalResults()` for the plot title. Many local methods return a matrix or data frame as the results for each gene, and `default_attr` specifies the column to use by default when plotting, such as the local Moran's I values (`Ii`) in this case. Other fields the results can be p-values and adjusted p-values.\n",
    "\n",
    "The `reorganize_fun` is different from those of univariate global methods because the local results are organized differently. Here is the `.localmoran2df` function:"
   ]
  },
  {
   "cell_type": "code",
   "execution_count": null,
<<<<<<< HEAD
<<<<<<< HEAD
<<<<<<< HEAD
   "id": "5cea544c",
||||||| 6a30bf1
   "id": "0a50e855",
=======
   "id": "d5265437",
>>>>>>> documentation-devel
||||||| d28b18c
   "id": "d5265437",
=======
   "id": "667436e9",
>>>>>>> documentation-devel
||||||| 6893f63
<<<<<<< HEAD
   "id": "5cea544c",
||||||| 6a30bf1
   "id": "0a50e855",
=======
   "id": "d5265437",
>>>>>>> documentation-devel
=======
   "id": "e73372e3",
>>>>>>> c74c98c2450c2a1ba922ed9442f136238d6bc88b
   "metadata": {
    "eval": false
   },
   "outputs": [],
   "source": [
    ".localmoran2df <- function(out, nb, p.adjust.method) {\n",
    "    lapply(out, function(o) {\n",
    "        o1 <- as.data.frame(o)\n",
    "        quadr <- attr(o, \"quadr\")\n",
    "        I(.add_log_p(cbind(o1, quadr), nb, p.adjust.method))\n",
    "    })\n",
    "}"
   ]
  },
  {
   "cell_type": "markdown",
<<<<<<< HEAD
<<<<<<< HEAD
<<<<<<< HEAD
   "id": "f3891002",
||||||| 6a30bf1
   "id": "7ee9e647",
=======
   "id": "2f8059ee",
>>>>>>> documentation-devel
||||||| d28b18c
   "id": "2f8059ee",
=======
   "id": "7196e898",
>>>>>>> documentation-devel
||||||| 6893f63
<<<<<<< HEAD
   "id": "f3891002",
||||||| 6a30bf1
   "id": "7ee9e647",
=======
   "id": "2f8059ee",
>>>>>>> documentation-devel
=======
   "id": "2e592709",
>>>>>>> c74c98c2450c2a1ba922ed9442f136238d6bc88b
   "metadata": {},
   "source": [
    "The function must have arguments:\n",
    "\n",
    "* `out` for results from `fun` for all genes, a list each element of which is the results for one gene.\n",
    "* `nb` for a neighbor object of class `nb`, which is part of the `listw` object for spatial neighborhood graphs. This is used to correct for multiple hypothesis testing with `p.adjustSP()`\n",
    "* `p.adjust.method` to specify a method to correct for multiple testing. See `p.adjust()` for available methods.\n",
    "\n",
    "The output is a list of organized results, each element for one gene, which will then be converted to a `DataFrame` and added to `localResults(sfe)`.\n",
    "\n",
    "# Bivariate\n",
    "These are the bivariate global methods in `Voyager`:"
   ]
  },
  {
   "cell_type": "code",
   "execution_count": null,
<<<<<<< HEAD
<<<<<<< HEAD
<<<<<<< HEAD
   "id": "014705c1",
||||||| 6a30bf1
   "id": "60a2fa20",
=======
   "id": "4023f2f9",
>>>>>>> documentation-devel
||||||| d28b18c
   "id": "4023f2f9",
=======
   "id": "a6f43bdd",
>>>>>>> documentation-devel
||||||| 6893f63
<<<<<<< HEAD
   "id": "014705c1",
||||||| 6a30bf1
   "id": "60a2fa20",
=======
   "id": "4023f2f9",
>>>>>>> documentation-devel
=======
   "id": "33e96a94",
>>>>>>> c74c98c2450c2a1ba922ed9442f136238d6bc88b
   "metadata": {},
   "outputs": [],
   "source": [
    "listSFEMethods(\"bi\", \"global\")"
   ]
  },
  {
   "cell_type": "markdown",
<<<<<<< HEAD
<<<<<<< HEAD
<<<<<<< HEAD
   "id": "3f5b092c",
||||||| 6a30bf1
   "id": "d5ce9968",
=======
   "id": "8f8a57ba",
>>>>>>> documentation-devel
||||||| d28b18c
   "id": "8f8a57ba",
=======
   "id": "0f5f4013",
>>>>>>> documentation-devel
||||||| 6893f63
<<<<<<< HEAD
   "id": "3f5b092c",
||||||| 6a30bf1
   "id": "d5ce9968",
=======
   "id": "8f8a57ba",
>>>>>>> documentation-devel
=======
   "id": "9732a264",
>>>>>>> c74c98c2450c2a1ba922ed9442f136238d6bc88b
   "metadata": {},
   "source": [
    "These are the bivariate local methods in `Voyager`:"
   ]
  },
  {
   "cell_type": "code",
   "execution_count": null,
<<<<<<< HEAD
<<<<<<< HEAD
<<<<<<< HEAD
   "id": "18f3f192",
||||||| 6a30bf1
   "id": "75909321",
=======
   "id": "27c14288",
>>>>>>> documentation-devel
||||||| d28b18c
   "id": "27c14288",
=======
   "id": "f75eacf7",
>>>>>>> documentation-devel
||||||| 6893f63
<<<<<<< HEAD
   "id": "18f3f192",
||||||| 6a30bf1
   "id": "75909321",
=======
   "id": "27c14288",
>>>>>>> documentation-devel
=======
   "id": "e6482c99",
>>>>>>> c74c98c2450c2a1ba922ed9442f136238d6bc88b
   "metadata": {},
   "outputs": [],
   "source": [
    "listSFEMethods(\"bi\", \"local\")"
   ]
  },
  {
   "cell_type": "markdown",
<<<<<<< HEAD
<<<<<<< HEAD
<<<<<<< HEAD
   "id": "86499a2a",
||||||| 6a30bf1
   "id": "d470782f",
=======
   "id": "bd4fdaae",
>>>>>>> documentation-devel
||||||| d28b18c
   "id": "bd4fdaae",
=======
   "id": "b0e19e4a",
>>>>>>> documentation-devel
||||||| 6893f63
<<<<<<< HEAD
   "id": "86499a2a",
||||||| 6a30bf1
   "id": "d470782f",
=======
   "id": "bd4fdaae",
>>>>>>> documentation-devel
=======
   "id": "3ae5478d",
>>>>>>> c74c98c2450c2a1ba922ed9442f136238d6bc88b
   "metadata": {},
   "source": [
    "The `SFEMethod` construction for bivariate methods is similar to that of univariate methods, except that the function in `fun` must have argument `y` after `x`. This is the code used to create the `SFEMethod` object for `lee`, Lee's L:"
   ]
  },
  {
   "cell_type": "code",
   "execution_count": null,
<<<<<<< HEAD
<<<<<<< HEAD
<<<<<<< HEAD
   "id": "92260ba2",
||||||| 6a30bf1
   "id": "2282b4a5",
=======
   "id": "6235aac3",
>>>>>>> documentation-devel
||||||| d28b18c
   "id": "6235aac3",
=======
   "id": "09c3dd95",
>>>>>>> documentation-devel
||||||| 6893f63
<<<<<<< HEAD
   "id": "92260ba2",
||||||| 6a30bf1
   "id": "2282b4a5",
=======
   "id": "6235aac3",
>>>>>>> documentation-devel
=======
   "id": "8b54c5dd",
>>>>>>> c74c98c2450c2a1ba922ed9442f136238d6bc88b
   "metadata": {
    "eval": false
   },
   "outputs": [],
   "source": [
    "lee <- SFEMethod(name = \"lee\", fun = .lee_mat, title = \"Lee's bivariate statistic\",\n",
    "                 reorganize_fun = function(out, name, ...) out,\n",
    "                 package = \"Voyager\", variate = \"bi\", scope = \"global\",\n",
    "                 use_matrix = TRUE)"
   ]
  },
  {
   "cell_type": "markdown",
<<<<<<< HEAD
<<<<<<< HEAD
<<<<<<< HEAD
   "id": "f3b34b91",
||||||| 6a30bf1
   "id": "49affdfc",
=======
   "id": "14194f9c",
>>>>>>> documentation-devel
||||||| d28b18c
   "id": "14194f9c",
=======
   "id": "a0299fb9",
>>>>>>> documentation-devel
||||||| 6893f63
<<<<<<< HEAD
   "id": "f3b34b91",
||||||| 6a30bf1
   "id": "49affdfc",
=======
   "id": "14194f9c",
>>>>>>> documentation-devel
=======
   "id": "d629c7f3",
>>>>>>> c74c98c2450c2a1ba922ed9442f136238d6bc88b
   "metadata": {},
   "source": [
    "Note the `use_matrix` argument, which specific to bivariate methods. It means whether the method can take a matrix as argument and compute the statistic for all pairwise combinations of the matrix's rows. This way the computation can be expressed as matrix operations which is much more efficient than R loops because the loops are pushed to the underlying C and Fortran code in BLAS and the `Matrix` package for sparse matrices.\n",
    "\n",
    "Here's the `.lee_mat` function:"
   ]
  },
  {
   "cell_type": "code",
   "execution_count": null,
<<<<<<< HEAD
<<<<<<< HEAD
<<<<<<< HEAD
   "id": "cfc3378e",
||||||| 6a30bf1
   "id": "c121fca8",
=======
   "id": "1c9bfb10",
>>>>>>> documentation-devel
||||||| d28b18c
   "id": "1c9bfb10",
=======
   "id": "05ae8261",
>>>>>>> documentation-devel
||||||| 6893f63
<<<<<<< HEAD
   "id": "cfc3378e",
||||||| 6a30bf1
   "id": "c121fca8",
=======
   "id": "1c9bfb10",
>>>>>>> documentation-devel
=======
   "id": "af6b86f8",
>>>>>>> c74c98c2450c2a1ba922ed9442f136238d6bc88b
   "metadata": {
    "eval": false
   },
   "outputs": [],
   "source": [
    ".lee_mat <- function(x, y = NULL, listw, zero.policy = TRUE, ...) {\n",
    "    # X has genes in rows\n",
    "    if (is(listw, \"listw\"))\n",
    "        W <- listw2sparse(listw)\n",
    "    else W <- listw\n",
    "    x <- .scale_n(x)\n",
    "    if (!is.null(y)) {\n",
    "        y <- .scale_n(y)\n",
    "    } else y <- x\n",
    "    n <- ncol(x) # dimension of y is checked in calculateBivariate\n",
    "    out <- x %*% (t(W) %*% W) %*% t(y)/sum(rowSums(W)^2) * n\n",
    "    if (all(dim(out) == 1L)) out <- out[1,1]\n",
    "    out\n",
    "}"
   ]
  },
  {
   "cell_type": "markdown",
<<<<<<< HEAD
<<<<<<< HEAD
<<<<<<< HEAD
   "id": "b0dd8172",
||||||| 6a30bf1
   "id": "fc6a6ea1",
=======
   "id": "a77af22f",
>>>>>>> documentation-devel
||||||| d28b18c
   "id": "a77af22f",
=======
   "id": "9986a0d3",
>>>>>>> documentation-devel
||||||| 6893f63
<<<<<<< HEAD
   "id": "b0dd8172",
||||||| 6a30bf1
   "id": "fc6a6ea1",
=======
   "id": "a77af22f",
>>>>>>> documentation-devel
=======
   "id": "95826a02",
>>>>>>> c74c98c2450c2a1ba922ed9442f136238d6bc88b
   "metadata": {},
   "source": [
    "Due to the matrix operation, `listw` can be a sparse or dense adjacency matrix of the spatial neighborhood graph. To conform to scRNA-seq conventions, `x` and `y` have genes in rows if they are matrices.\n",
    "\n",
    "The `reorganize_fun` for bivariate global methods don't have to return a `DataFrame`, because bivariate global results can't be stored in the SFE object. However, `reorganize_fun` for bivariate local methods follow the same rules as that of univariate local methods because the results also go into `localResults(sfe)`.\n",
    "\n",
    "# Multivariate\n",
    "These are the multivariate methods in `Voyager`:"
   ]
  },
  {
   "cell_type": "code",
   "execution_count": null,
<<<<<<< HEAD
<<<<<<< HEAD
<<<<<<< HEAD
   "id": "68915425",
||||||| 6a30bf1
   "id": "82227040",
=======
   "id": "e0fdfc60",
>>>>>>> documentation-devel
||||||| d28b18c
   "id": "e0fdfc60",
=======
   "id": "a73f2f61",
>>>>>>> documentation-devel
||||||| 6893f63
<<<<<<< HEAD
   "id": "68915425",
||||||| 6a30bf1
   "id": "82227040",
=======
   "id": "e0fdfc60",
>>>>>>> documentation-devel
=======
   "id": "b5d0b426",
>>>>>>> c74c98c2450c2a1ba922ed9442f136238d6bc88b
   "metadata": {},
   "outputs": [],
   "source": [
    "listSFEMethods(\"multi\")"
   ]
  },
  {
   "cell_type": "markdown",
<<<<<<< HEAD
<<<<<<< HEAD
<<<<<<< HEAD
   "id": "53db6885",
||||||| 6a30bf1
   "id": "2f203a55",
=======
   "id": "dd76060b",
>>>>>>> documentation-devel
||||||| d28b18c
   "id": "dd76060b",
=======
   "id": "a50f630a",
>>>>>>> documentation-devel
||||||| 6893f63
<<<<<<< HEAD
   "id": "53db6885",
||||||| 6a30bf1
   "id": "2f203a55",
=======
   "id": "dd76060b",
>>>>>>> documentation-devel
=======
   "id": "76e12042",
>>>>>>> c74c98c2450c2a1ba922ed9442f136238d6bc88b
   "metadata": {},
   "source": [
    "The `SFEMethod` construction for bivariate methods is similar to that of univariate methods, except for two arguments: `joint` to indicate whether it makes sense to run the method for multiple samples jointly just like in non-spatial PCA, and `dest` to indicate whether the results should go into `reducedDims(sfe)` or `colData(sfe)`. This is the code for a multivariate generalization of local Geary's C [@Anselin2019-uv] with permutation testing:"
   ]
  },
  {
   "cell_type": "code",
   "execution_count": null,
<<<<<<< HEAD
<<<<<<< HEAD
<<<<<<< HEAD
   "id": "2b8357ad",
||||||| 6a30bf1
   "id": "9ed3ad72",
=======
   "id": "39318b93",
>>>>>>> documentation-devel
||||||| d28b18c
   "id": "39318b93",
=======
   "id": "0a012ec1",
>>>>>>> documentation-devel
||||||| 6893f63
<<<<<<< HEAD
   "id": "2b8357ad",
||||||| 6a30bf1
   "id": "9ed3ad72",
=======
   "id": "39318b93",
>>>>>>> documentation-devel
=======
   "id": "da8d3b48",
>>>>>>> c74c98c2450c2a1ba922ed9442f136238d6bc88b
   "metadata": {
    "eval": false
   },
   "outputs": [],
   "source": [
    ".localC_multi_fun <- function(perm = FALSE) {\n",
    "    function(x, listw, ..., zero.policy) {\n",
    "        x <- as.matrix(x)\n",
    "        fun <- if (perm) spdep::localC_perm else spdep::localC\n",
    "        fun(x, listw = listw, zero.policy = zero.policy, ...)\n",
    "    }\n",
    "}\n",
    "\n",
    ".localCpermmulti2df <- function(out, nb, p.adjust.method) {\n",
    "    .attrmat2df(list(out), \"pseudo-p\", \"localC_perm_multi\", nb, p.adjust.method)[[1]]\n",
    "}\n",
    "\n",
    "localC_perm_multi <- SFEMethod(\n",
    "    name = \"localC_perm_multi\", title = \"Multivariate local Geary's C permutation testing\",\n",
    "    package = \"spdep\", variate = \"multi\", default_attr = \"localC\",\n",
    "    fun = .localC_multi_fun(TRUE),\n",
    "    reorganize_fun = .localCpermmulti2df,\n",
    "    dest = \"colData\"\n",
    ")"
   ]
  },
  {
   "cell_type": "markdown",
<<<<<<< HEAD
<<<<<<< HEAD
<<<<<<< HEAD
   "id": "1c146e7e",
||||||| 6a30bf1
   "id": "4d54fb42",
=======
   "id": "96fd352c",
>>>>>>> documentation-devel
||||||| d28b18c
   "id": "96fd352c",
=======
   "id": "0fd1bcd3",
>>>>>>> documentation-devel
||||||| 6893f63
<<<<<<< HEAD
   "id": "1c146e7e",
||||||| 6a30bf1
   "id": "4d54fb42",
=======
   "id": "96fd352c",
>>>>>>> documentation-devel
=======
   "id": "c3c34ccc",
>>>>>>> c74c98c2450c2a1ba922ed9442f136238d6bc88b
   "metadata": {},
   "source": [
    "Here the results, as a single vector, goes into `colData(sfe)`, and it does not make sense to run it across multiple samples jointly as each sample has a separate spatial neighborhood graph, so it will be run on each sample separately. \n",
    "\n",
    "The function in `reorganize_fun` should return a vector, matrix, or data frame ready to be added to `reducedDims(sfe)` or `colData(sfe)`. If the results can go into `colData`, the rules for arguments are the same as those for univariate local methods, because with permutation testing for multivariate local Geary's C, multiple testing correction is performed in the `reorganize_fun`. If the results go into `reducedDims`, then it only needs one argument for the output.\n",
    "\n",
    "# References"
   ]
  }
 ],
 "metadata": {
  "kernelspec": {
   "display_name": "R",
   "language": "R",
   "name": "ir"
  }
 },
 "nbformat": 4,
 "nbformat_minor": 5
}
