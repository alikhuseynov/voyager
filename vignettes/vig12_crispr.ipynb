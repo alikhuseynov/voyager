{
 "cells": [
  {
   "cell_type": "raw",
<<<<<<< HEAD
<<<<<<< HEAD
<<<<<<< HEAD
<<<<<<< HEAD
<<<<<<< HEAD
<<<<<<< HEAD
   "id": "a310fdd1",
||||||| 6a30bf1
   "id": "3756f5e1",
=======
   "id": "3d5579ad",
>>>>>>> documentation-devel
||||||| d28b18c
   "id": "3d5579ad",
=======
   "id": "ca08a377",
>>>>>>> documentation-devel
||||||| 6893f63
<<<<<<< HEAD
   "id": "a310fdd1",
||||||| 6a30bf1
   "id": "3756f5e1",
=======
   "id": "3d5579ad",
>>>>>>> documentation-devel
=======
   "id": "eee69787",
>>>>>>> c74c98c2450c2a1ba922ed9442f136238d6bc88b
||||||| 6d93b645
   "id": "ca08a377",
=======
   "id": "ba7213e8",
>>>>>>> documentation-devel
||||||| 804edffb
<<<<<<< HEAD
<<<<<<< HEAD
<<<<<<< HEAD
   "id": "a310fdd1",
||||||| 6a30bf1
   "id": "3756f5e1",
=======
   "id": "3d5579ad",
>>>>>>> documentation-devel
||||||| d28b18c
   "id": "3d5579ad",
=======
   "id": "ca08a377",
>>>>>>> documentation-devel
||||||| 6893f63
<<<<<<< HEAD
   "id": "a310fdd1",
||||||| 6a30bf1
   "id": "3756f5e1",
=======
   "id": "3d5579ad",
>>>>>>> documentation-devel
=======
   "id": "eee69787",
>>>>>>> c74c98c2450c2a1ba922ed9442f136238d6bc88b
=======
   "id": "a24a31b9",
>>>>>>> 035bb2637984ead2784fecff78c0c60cc4181202
||||||| 3effdfa5
   "id": "ba7213e8",
=======
   "id": "c7991b8c",
>>>>>>> documentation-devel
   "metadata": {},
   "source": [
    "---\n",
    "title: \"Quality control on Chromium CRISPR Guide Capture libraries\"\n",
    "author: \"Kayla Jackson and A. Sina Booeshaghi\"\n",
    "date: \"`r Sys.Date()`\"\n",
    "output: \n",
    "  html_document:\n",
    "  toc: true\n",
    "  toc_float:\n",
    "    collapsed: false\n",
    "  toc_depth: 3\n",
    "bibliography: ref.bib\n",
    "vignette: >\n",
    "  %\\VignetteIndexEntry{10xcrispr_qc}\n",
    "  %\\VignetteEngine{knitr::rmarkdown}\n",
    "  %\\VignetteEncoding{UTF-8}\n",
    "---"
   ]
  },
  {
   "cell_type": "code",
   "execution_count": null,
<<<<<<< HEAD
<<<<<<< HEAD
<<<<<<< HEAD
<<<<<<< HEAD
<<<<<<< HEAD
<<<<<<< HEAD
   "id": "5eb2e0ca",
||||||| 6a30bf1
   "id": "fa2c8280",
=======
   "id": "94c85f3a",
>>>>>>> documentation-devel
||||||| d28b18c
   "id": "94c85f3a",
=======
   "id": "a734abde",
>>>>>>> documentation-devel
||||||| 6893f63
<<<<<<< HEAD
   "id": "5eb2e0ca",
||||||| 6a30bf1
   "id": "fa2c8280",
=======
   "id": "94c85f3a",
>>>>>>> documentation-devel
=======
   "id": "211e9627",
>>>>>>> c74c98c2450c2a1ba922ed9442f136238d6bc88b
||||||| 6d93b645
   "id": "a734abde",
=======
   "id": "2a6feee1",
>>>>>>> documentation-devel
||||||| 804edffb
<<<<<<< HEAD
<<<<<<< HEAD
<<<<<<< HEAD
   "id": "5eb2e0ca",
||||||| 6a30bf1
   "id": "fa2c8280",
=======
   "id": "94c85f3a",
>>>>>>> documentation-devel
||||||| d28b18c
   "id": "94c85f3a",
=======
   "id": "a734abde",
>>>>>>> documentation-devel
||||||| 6893f63
<<<<<<< HEAD
   "id": "5eb2e0ca",
||||||| 6a30bf1
   "id": "fa2c8280",
=======
   "id": "94c85f3a",
>>>>>>> documentation-devel
=======
   "id": "211e9627",
>>>>>>> c74c98c2450c2a1ba922ed9442f136238d6bc88b
=======
   "id": "ca4ac10c",
>>>>>>> 035bb2637984ead2784fecff78c0c60cc4181202
||||||| 3effdfa5
   "id": "2a6feee1",
=======
   "id": "07678908",
>>>>>>> documentation-devel
   "metadata": {
    "tags": [
     "remove_cell"
    ]
   },
   "outputs": [],
   "source": [
    "knitr::opts_chunk$set(\n",
    "  collapse = TRUE,\n",
    "  comment = \"#>\", fig.align = \"center\"\n",
    ")"
   ]
  },
  {
   "cell_type": "code",
   "execution_count": null,
<<<<<<< HEAD
<<<<<<< HEAD
<<<<<<< HEAD
<<<<<<< HEAD
<<<<<<< HEAD
<<<<<<< HEAD
   "id": "b42da428",
||||||| 6a30bf1
   "id": "06e5d511",
=======
   "id": "2650d848",
>>>>>>> documentation-devel
||||||| d28b18c
   "id": "2650d848",
=======
   "id": "ea2cf9c8",
>>>>>>> documentation-devel
||||||| 6893f63
<<<<<<< HEAD
   "id": "b42da428",
||||||| 6a30bf1
   "id": "06e5d511",
=======
   "id": "2650d848",
>>>>>>> documentation-devel
=======
   "id": "234b358b",
>>>>>>> c74c98c2450c2a1ba922ed9442f136238d6bc88b
||||||| 6d93b645
   "id": "ea2cf9c8",
=======
   "id": "6d84d18d",
>>>>>>> documentation-devel
||||||| 804edffb
<<<<<<< HEAD
<<<<<<< HEAD
<<<<<<< HEAD
   "id": "b42da428",
||||||| 6a30bf1
   "id": "06e5d511",
=======
   "id": "2650d848",
>>>>>>> documentation-devel
||||||| d28b18c
   "id": "2650d848",
=======
   "id": "ea2cf9c8",
>>>>>>> documentation-devel
||||||| 6893f63
<<<<<<< HEAD
   "id": "b42da428",
||||||| 6a30bf1
   "id": "06e5d511",
=======
   "id": "2650d848",
>>>>>>> documentation-devel
=======
   "id": "234b358b",
>>>>>>> c74c98c2450c2a1ba922ed9442f136238d6bc88b
=======
   "id": "6c498bbc",
>>>>>>> 035bb2637984ead2784fecff78c0c60cc4181202
||||||| 3effdfa5
   "id": "6d84d18d",
=======
   "id": "fb43ae76",
>>>>>>> documentation-devel
   "metadata": {
    "eval": false,
    "tags": [
     "remove_cell"
    ]
   },
   "outputs": [],
   "source": [
    "# Install Google Colab dependencies\n",
    "# Note: this can take 30+ minutes (many of the dependencies include C++ code, which needs to be compiled)\n",
    "\n",
    "# First install `sf`, `ragg` and `textshaping` and their system dependencies:\n",
    "system(\"apt-get -y update && apt-get install -y  libudunits2-dev libgdal-dev libgeos-dev libproj-dev libharfbuzz-dev libfribidi-dev\")\n",
    "install.packages(\"sf\")\n",
    "install.packages(\"textshaping\")\n",
    "install.packages(\"ragg\")\n",
    "\n",
    "# Install system dependencies of some other R packages that Voyager either imports or suggests:\n",
    "system(\"apt-get install -y libfribidi-dev libcairo2-dev libmagick++-dev\")\n",
    "\n",
    "# Install Voyager from Bioconductor:\n",
    "install.packages(\"BiocManager\")\n",
    "BiocManager::install(version = \"3.17\", ask = FALSE, update = FALSE, Ncpus = 2)\n",
    "BiocManager::install(\"scater\")\n",
    "system.time(\n",
    "  BiocManager::install(\"Voyager\", dependencies = TRUE, Ncpus = 2, update = FALSE)\n",
    ")\n",
    "\n",
    "\n",
    "packageVersion(\"Voyager\")"
   ]
  },
  {
   "cell_type": "markdown",
<<<<<<< HEAD
<<<<<<< HEAD
<<<<<<< HEAD
<<<<<<< HEAD
<<<<<<< HEAD
<<<<<<< HEAD
   "id": "c875c024",
||||||| 6a30bf1
   "id": "0aa07942",
=======
   "id": "c3fc2c96",
>>>>>>> documentation-devel
||||||| d28b18c
   "id": "c3fc2c96",
=======
   "id": "5ba514be",
>>>>>>> documentation-devel
||||||| 6893f63
<<<<<<< HEAD
   "id": "c875c024",
||||||| 6a30bf1
   "id": "0aa07942",
=======
   "id": "c3fc2c96",
>>>>>>> documentation-devel
=======
   "id": "ea317285",
>>>>>>> c74c98c2450c2a1ba922ed9442f136238d6bc88b
||||||| 6d93b645
   "id": "5ba514be",
=======
   "id": "af5aff43",
>>>>>>> documentation-devel
||||||| 804edffb
<<<<<<< HEAD
<<<<<<< HEAD
<<<<<<< HEAD
   "id": "c875c024",
||||||| 6a30bf1
   "id": "0aa07942",
=======
   "id": "c3fc2c96",
>>>>>>> documentation-devel
||||||| d28b18c
   "id": "c3fc2c96",
=======
   "id": "5ba514be",
>>>>>>> documentation-devel
||||||| 6893f63
<<<<<<< HEAD
   "id": "c875c024",
||||||| 6a30bf1
   "id": "0aa07942",
=======
   "id": "c3fc2c96",
>>>>>>> documentation-devel
=======
   "id": "ea317285",
>>>>>>> c74c98c2450c2a1ba922ed9442f136238d6bc88b
=======
   "id": "f52f1d36",
>>>>>>> 035bb2637984ead2784fecff78c0c60cc4181202
||||||| 3effdfa5
   "id": "af5aff43",
=======
   "id": "fb4b2d8b",
>>>>>>> documentation-devel
   "metadata": {},
   "source": [
    "# Introduction\n",
    "The data in this vignette is shipped with the `cellatlas` repository. The count matrix and metadata are provided in the `cellatlas/examples` folder as an [`AnnData`](https://anndata-tutorials.readthedocs.io/en/latest/getting-started.html) object. We will begin by loading the object and converting it to a `SingleCellExperiment` object. "
   ]
  },
  {
   "cell_type": "code",
   "execution_count": null,
<<<<<<< HEAD
<<<<<<< HEAD
<<<<<<< HEAD
<<<<<<< HEAD
<<<<<<< HEAD
<<<<<<< HEAD
   "id": "065423d0",
||||||| 6a30bf1
   "id": "0bc8d9dc",
=======
   "id": "fa1a129e",
>>>>>>> documentation-devel
||||||| d28b18c
   "id": "fa1a129e",
=======
   "id": "eb82592a",
>>>>>>> documentation-devel
||||||| 6893f63
<<<<<<< HEAD
   "id": "065423d0",
||||||| 6a30bf1
   "id": "0bc8d9dc",
=======
   "id": "fa1a129e",
>>>>>>> documentation-devel
=======
   "id": "24de71a7",
>>>>>>> c74c98c2450c2a1ba922ed9442f136238d6bc88b
||||||| 6d93b645
   "id": "eb82592a",
=======
   "id": "f9cb738d",
>>>>>>> documentation-devel
||||||| 804edffb
<<<<<<< HEAD
<<<<<<< HEAD
<<<<<<< HEAD
   "id": "065423d0",
||||||| 6a30bf1
   "id": "0bc8d9dc",
=======
   "id": "fa1a129e",
>>>>>>> documentation-devel
||||||| d28b18c
   "id": "fa1a129e",
=======
   "id": "eb82592a",
>>>>>>> documentation-devel
||||||| 6893f63
<<<<<<< HEAD
   "id": "065423d0",
||||||| 6a30bf1
   "id": "0bc8d9dc",
=======
   "id": "fa1a129e",
>>>>>>> documentation-devel
=======
   "id": "24de71a7",
>>>>>>> c74c98c2450c2a1ba922ed9442f136238d6bc88b
=======
   "id": "e39a1c95",
>>>>>>> 035bb2637984ead2784fecff78c0c60cc4181202
||||||| 3effdfa5
   "id": "f9cb738d",
=======
   "id": "1b4d3538",
>>>>>>> documentation-devel
   "metadata": {
    "message": false
   },
   "outputs": [],
   "source": [
    "library(stringr)\n",
    "library(Matrix)\n",
    "library(DropletUtils)\n",
    "library(SpatialExperiment)\n",
    "library(SpatialFeatureExperiment)\n",
    "library(scater)\n",
    "library(scuttle)\n",
    "library(Voyager)\n",
    "library(zellkonverter)\n",
    "library(ggplot2)\n",
    "theme_set(theme_bw())"
   ]
  },
  {
   "cell_type": "code",
   "execution_count": null,
<<<<<<< HEAD
<<<<<<< HEAD
<<<<<<< HEAD
<<<<<<< HEAD
<<<<<<< HEAD
<<<<<<< HEAD
   "id": "12d77222",
||||||| 6a30bf1
   "id": "9b09b826",
=======
   "id": "f3bb6964",
>>>>>>> documentation-devel
||||||| d28b18c
   "id": "f3bb6964",
=======
   "id": "ea167eec",
>>>>>>> documentation-devel
||||||| 6893f63
<<<<<<< HEAD
   "id": "12d77222",
||||||| 6a30bf1
   "id": "9b09b826",
=======
   "id": "f3bb6964",
>>>>>>> documentation-devel
=======
   "id": "1ade3dd1",
>>>>>>> c74c98c2450c2a1ba922ed9442f136238d6bc88b
||||||| 6d93b645
   "id": "ea167eec",
=======
   "id": "52edb425",
>>>>>>> documentation-devel
||||||| 804edffb
<<<<<<< HEAD
<<<<<<< HEAD
<<<<<<< HEAD
   "id": "12d77222",
||||||| 6a30bf1
   "id": "9b09b826",
=======
   "id": "f3bb6964",
>>>>>>> documentation-devel
||||||| d28b18c
   "id": "f3bb6964",
=======
   "id": "ea167eec",
>>>>>>> documentation-devel
||||||| 6893f63
<<<<<<< HEAD
   "id": "12d77222",
||||||| 6a30bf1
   "id": "9b09b826",
=======
   "id": "f3bb6964",
>>>>>>> documentation-devel
=======
   "id": "1ade3dd1",
>>>>>>> c74c98c2450c2a1ba922ed9442f136238d6bc88b
=======
   "id": "ea065248",
>>>>>>> 035bb2637984ead2784fecff78c0c60cc4181202
||||||| 3effdfa5
   "id": "52edb425",
=======
   "id": "f883e5c4",
>>>>>>> documentation-devel
   "metadata": {
    "message": false,
    "name": "dwnld",
    "tags": [
     "remove_output"
    ]
   },
   "outputs": [],
   "source": [
    "download.file(\"https://github.com/cellatlas/cellatlas/raw/main/examples/crispr-10xcrispr/cellatlas_out/adata.h5ad.gz\", \"adata.h5ad.gz\", quiet = TRUE)\n",
    "system(\"gunzip -f adata.h5ad.gz\")\n",
    "sce <- readH5AD(\"adata.h5ad\")\n",
    "assayNames(sce) <- \"counts\""
   ]
  },
  {
   "cell_type": "code",
   "execution_count": null,
<<<<<<< HEAD
<<<<<<< HEAD
<<<<<<< HEAD
<<<<<<< HEAD
<<<<<<< HEAD
<<<<<<< HEAD
   "id": "49d2727a",
||||||| 6a30bf1
   "id": "884eb795",
=======
   "id": "a662e29a",
>>>>>>> documentation-devel
||||||| d28b18c
   "id": "a662e29a",
=======
   "id": "f8c58c53",
>>>>>>> documentation-devel
||||||| 6893f63
<<<<<<< HEAD
   "id": "49d2727a",
||||||| 6a30bf1
   "id": "884eb795",
=======
   "id": "a662e29a",
>>>>>>> documentation-devel
=======
   "id": "35652341",
>>>>>>> c74c98c2450c2a1ba922ed9442f136238d6bc88b
||||||| 6d93b645
   "id": "f8c58c53",
=======
   "id": "39f40834",
>>>>>>> documentation-devel
||||||| 804edffb
<<<<<<< HEAD
<<<<<<< HEAD
<<<<<<< HEAD
   "id": "49d2727a",
||||||| 6a30bf1
   "id": "884eb795",
=======
   "id": "a662e29a",
>>>>>>> documentation-devel
||||||| d28b18c
   "id": "a662e29a",
=======
   "id": "f8c58c53",
>>>>>>> documentation-devel
||||||| 6893f63
<<<<<<< HEAD
   "id": "49d2727a",
||||||| 6a30bf1
   "id": "884eb795",
=======
   "id": "a662e29a",
>>>>>>> documentation-devel
=======
   "id": "35652341",
>>>>>>> c74c98c2450c2a1ba922ed9442f136238d6bc88b
=======
   "id": "f61fdc15",
>>>>>>> 035bb2637984ead2784fecff78c0c60cc4181202
||||||| 3effdfa5
   "id": "39f40834",
=======
   "id": "6e8abace",
>>>>>>> documentation-devel
   "metadata": {},
   "outputs": [],
   "source": [
    "is_mito <- str_detect(rowData(sce)$gene_name, regex(\"^mt-\", ignore_case=TRUE))\n",
    "sum(is_mito)"
   ]
  },
  {
   "cell_type": "code",
   "execution_count": null,
<<<<<<< HEAD
<<<<<<< HEAD
<<<<<<< HEAD
<<<<<<< HEAD
<<<<<<< HEAD
<<<<<<< HEAD
   "id": "16f5ca72",
||||||| 6a30bf1
   "id": "a94ca510",
=======
   "id": "5803a890",
>>>>>>> documentation-devel
||||||| d28b18c
   "id": "5803a890",
=======
   "id": "0d4def52",
>>>>>>> documentation-devel
||||||| 6893f63
<<<<<<< HEAD
   "id": "16f5ca72",
||||||| 6a30bf1
   "id": "a94ca510",
=======
   "id": "5803a890",
>>>>>>> documentation-devel
=======
   "id": "46e40fea",
>>>>>>> c74c98c2450c2a1ba922ed9442f136238d6bc88b
||||||| 6d93b645
   "id": "0d4def52",
=======
   "id": "7c7adfc2",
>>>>>>> documentation-devel
||||||| 804edffb
<<<<<<< HEAD
<<<<<<< HEAD
<<<<<<< HEAD
   "id": "16f5ca72",
||||||| 6a30bf1
   "id": "a94ca510",
=======
   "id": "5803a890",
>>>>>>> documentation-devel
||||||| d28b18c
   "id": "5803a890",
=======
   "id": "0d4def52",
>>>>>>> documentation-devel
||||||| 6893f63
<<<<<<< HEAD
   "id": "16f5ca72",
||||||| 6a30bf1
   "id": "a94ca510",
=======
   "id": "5803a890",
>>>>>>> documentation-devel
=======
   "id": "46e40fea",
>>>>>>> c74c98c2450c2a1ba922ed9442f136238d6bc88b
=======
   "id": "b1325327",
>>>>>>> 035bb2637984ead2784fecff78c0c60cc4181202
||||||| 3effdfa5
   "id": "7c7adfc2",
=======
   "id": "e6b7324b",
>>>>>>> documentation-devel
   "metadata": {},
   "outputs": [],
   "source": [
    "sce <- addPerCellQCMetrics(sce, subsets = list(mito = is_mito))\n",
    "names(colData(sce))"
   ]
  },
  {
   "cell_type": "code",
   "execution_count": null,
<<<<<<< HEAD
<<<<<<< HEAD
<<<<<<< HEAD
<<<<<<< HEAD
<<<<<<< HEAD
<<<<<<< HEAD
   "id": "fd61d1d7",
||||||| 6a30bf1
   "id": "65611d0b",
=======
   "id": "1d5661ee",
>>>>>>> documentation-devel
||||||| d28b18c
   "id": "1d5661ee",
=======
   "id": "d3151e20",
>>>>>>> documentation-devel
||||||| 6893f63
<<<<<<< HEAD
   "id": "fd61d1d7",
||||||| 6a30bf1
   "id": "65611d0b",
=======
   "id": "1d5661ee",
>>>>>>> documentation-devel
=======
   "id": "fc73a212",
>>>>>>> c74c98c2450c2a1ba922ed9442f136238d6bc88b
||||||| 6d93b645
   "id": "d3151e20",
=======
   "id": "8be802ea",
>>>>>>> documentation-devel
||||||| 804edffb
<<<<<<< HEAD
<<<<<<< HEAD
<<<<<<< HEAD
   "id": "fd61d1d7",
||||||| 6a30bf1
   "id": "65611d0b",
=======
   "id": "1d5661ee",
>>>>>>> documentation-devel
||||||| d28b18c
   "id": "1d5661ee",
=======
   "id": "d3151e20",
>>>>>>> documentation-devel
||||||| 6893f63
<<<<<<< HEAD
   "id": "fd61d1d7",
||||||| 6a30bf1
   "id": "65611d0b",
=======
   "id": "1d5661ee",
>>>>>>> documentation-devel
=======
   "id": "fc73a212",
>>>>>>> c74c98c2450c2a1ba922ed9442f136238d6bc88b
=======
   "id": "ee26541d",
>>>>>>> 035bb2637984ead2784fecff78c0c60cc4181202
||||||| 3effdfa5
   "id": "8be802ea",
=======
   "id": "668cf624",
>>>>>>> documentation-devel
   "metadata": {},
   "outputs": [],
   "source": [
    "plotColData(sce, \"sum\") +\n",
    "    plotColData(sce, \"detected\")"
   ]
  },
  {
   "cell_type": "code",
   "execution_count": null,
<<<<<<< HEAD
<<<<<<< HEAD
<<<<<<< HEAD
<<<<<<< HEAD
<<<<<<< HEAD
<<<<<<< HEAD
   "id": "abd1c3d9",
||||||| 6a30bf1
   "id": "ddfad787",
=======
   "id": "81e0ef63",
>>>>>>> documentation-devel
||||||| d28b18c
   "id": "81e0ef63",
=======
   "id": "e3f888ff",
>>>>>>> documentation-devel
||||||| 6893f63
<<<<<<< HEAD
   "id": "abd1c3d9",
||||||| 6a30bf1
   "id": "ddfad787",
=======
   "id": "81e0ef63",
>>>>>>> documentation-devel
=======
   "id": "52b088e5",
>>>>>>> c74c98c2450c2a1ba922ed9442f136238d6bc88b
||||||| 6d93b645
   "id": "e3f888ff",
=======
   "id": "ef09e402",
>>>>>>> documentation-devel
||||||| 804edffb
<<<<<<< HEAD
<<<<<<< HEAD
<<<<<<< HEAD
   "id": "abd1c3d9",
||||||| 6a30bf1
   "id": "ddfad787",
=======
   "id": "81e0ef63",
>>>>>>> documentation-devel
||||||| d28b18c
   "id": "81e0ef63",
=======
   "id": "e3f888ff",
>>>>>>> documentation-devel
||||||| 6893f63
<<<<<<< HEAD
   "id": "abd1c3d9",
||||||| 6a30bf1
   "id": "ddfad787",
=======
   "id": "81e0ef63",
>>>>>>> documentation-devel
=======
   "id": "52b088e5",
>>>>>>> c74c98c2450c2a1ba922ed9442f136238d6bc88b
=======
   "id": "f153255b",
>>>>>>> 035bb2637984ead2784fecff78c0c60cc4181202
||||||| 3effdfa5
   "id": "ef09e402",
=======
   "id": "f0258cc5",
>>>>>>> documentation-devel
   "metadata": {},
   "outputs": [],
   "source": [
    "plotColData(sce, x = \"sum\", y = \"detected\", bins = 100) +\n",
    "    scale_fill_distiller(palette = \"Blues\", direction = 1)"
   ]
  },
  {
   "cell_type": "code",
   "execution_count": null,
<<<<<<< HEAD
<<<<<<< HEAD
<<<<<<< HEAD
<<<<<<< HEAD
<<<<<<< HEAD
<<<<<<< HEAD
   "id": "2ed3cf47",
||||||| 6a30bf1
   "id": "85a3f140",
=======
   "id": "840b26ee",
>>>>>>> documentation-devel
||||||| d28b18c
   "id": "840b26ee",
=======
   "id": "b40ae347",
>>>>>>> documentation-devel
||||||| 6893f63
<<<<<<< HEAD
   "id": "2ed3cf47",
||||||| 6a30bf1
   "id": "85a3f140",
=======
   "id": "840b26ee",
>>>>>>> documentation-devel
=======
   "id": "bc8b3081",
>>>>>>> c74c98c2450c2a1ba922ed9442f136238d6bc88b
||||||| 6d93b645
   "id": "b40ae347",
=======
   "id": "9f6c1850",
>>>>>>> documentation-devel
||||||| 804edffb
<<<<<<< HEAD
<<<<<<< HEAD
<<<<<<< HEAD
   "id": "2ed3cf47",
||||||| 6a30bf1
   "id": "85a3f140",
=======
   "id": "840b26ee",
>>>>>>> documentation-devel
||||||| d28b18c
   "id": "840b26ee",
=======
   "id": "b40ae347",
>>>>>>> documentation-devel
||||||| 6893f63
<<<<<<< HEAD
   "id": "2ed3cf47",
||||||| 6a30bf1
   "id": "85a3f140",
=======
   "id": "840b26ee",
>>>>>>> documentation-devel
=======
   "id": "bc8b3081",
>>>>>>> c74c98c2450c2a1ba922ed9442f136238d6bc88b
=======
   "id": "b92f038f",
>>>>>>> 035bb2637984ead2784fecff78c0c60cc4181202
||||||| 3effdfa5
   "id": "9f6c1850",
=======
   "id": "1b2d522e",
>>>>>>> documentation-devel
   "metadata": {},
   "outputs": [],
   "source": [
    "plotColData(sce, x = \"sum\", y = \"subsets_mito_detected\", bins = 100) +\n",
    "    scale_fill_distiller(palette = \"Blues\", direction = 1)"
   ]
  },
  {
   "cell_type": "code",
   "execution_count": null,
<<<<<<< HEAD
<<<<<<< HEAD
<<<<<<< HEAD
<<<<<<< HEAD
<<<<<<< HEAD
<<<<<<< HEAD
   "id": "8b642e80",
||||||| 6a30bf1
   "id": "5ae9e101",
=======
   "id": "94ef9127",
>>>>>>> documentation-devel
||||||| d28b18c
   "id": "94ef9127",
=======
   "id": "f5c30df7",
>>>>>>> documentation-devel
||||||| 6893f63
<<<<<<< HEAD
   "id": "8b642e80",
||||||| 6a30bf1
   "id": "5ae9e101",
=======
   "id": "94ef9127",
>>>>>>> documentation-devel
=======
   "id": "363dc9fa",
>>>>>>> c74c98c2450c2a1ba922ed9442f136238d6bc88b
||||||| 6d93b645
   "id": "f5c30df7",
=======
   "id": "8b41d7d4",
>>>>>>> documentation-devel
||||||| 804edffb
<<<<<<< HEAD
<<<<<<< HEAD
<<<<<<< HEAD
   "id": "8b642e80",
||||||| 6a30bf1
   "id": "5ae9e101",
=======
   "id": "94ef9127",
>>>>>>> documentation-devel
||||||| d28b18c
   "id": "94ef9127",
=======
   "id": "f5c30df7",
>>>>>>> documentation-devel
||||||| 6893f63
<<<<<<< HEAD
   "id": "8b642e80",
||||||| 6a30bf1
   "id": "5ae9e101",
=======
   "id": "94ef9127",
>>>>>>> documentation-devel
=======
   "id": "363dc9fa",
>>>>>>> c74c98c2450c2a1ba922ed9442f136238d6bc88b
=======
   "id": "37eee8f4",
>>>>>>> 035bb2637984ead2784fecff78c0c60cc4181202
||||||| 3effdfa5
   "id": "8b41d7d4",
=======
   "id": "e2d82552",
>>>>>>> documentation-devel
   "metadata": {
    "name": "knee-plot"
   },
   "outputs": [],
   "source": [
    "bcrank <- barcodeRanks(counts(sce))\n",
    "\n",
    "knee <- metadata(bcrank)$knee\n",
    "inflection <- metadata(bcrank)$inflection\n",
    "\n",
    "plot(bcrank$rank, bcrank$total, log=\"xy\",\n",
    "      xlab=\"Rank\", ylab=\"Total ClickTags count\", cex.lab=1.2)\n",
    "\n",
    "abline(h=inflection, col=\"darkgreen\", lty=2)\n",
    "abline(h=knee, col=\"dodgerblue\", lty=2)"
   ]
  },
  {
   "cell_type": "code",
   "execution_count": null,
<<<<<<< HEAD
<<<<<<< HEAD
<<<<<<< HEAD
<<<<<<< HEAD
<<<<<<< HEAD
<<<<<<< HEAD
   "id": "b693f267",
||||||| 6a30bf1
   "id": "d7c76aca",
=======
   "id": "369dd6d0",
>>>>>>> documentation-devel
||||||| d28b18c
   "id": "369dd6d0",
=======
   "id": "29ec0957",
>>>>>>> documentation-devel
||||||| 6893f63
<<<<<<< HEAD
   "id": "b693f267",
||||||| 6a30bf1
   "id": "d7c76aca",
=======
   "id": "369dd6d0",
>>>>>>> documentation-devel
=======
   "id": "23570fe1",
>>>>>>> c74c98c2450c2a1ba922ed9442f136238d6bc88b
||||||| 6d93b645
   "id": "29ec0957",
=======
   "id": "c33b227d",
>>>>>>> documentation-devel
||||||| 804edffb
<<<<<<< HEAD
<<<<<<< HEAD
<<<<<<< HEAD
   "id": "b693f267",
||||||| 6a30bf1
   "id": "d7c76aca",
=======
   "id": "369dd6d0",
>>>>>>> documentation-devel
||||||| d28b18c
   "id": "369dd6d0",
=======
   "id": "29ec0957",
>>>>>>> documentation-devel
||||||| 6893f63
<<<<<<< HEAD
   "id": "b693f267",
||||||| 6a30bf1
   "id": "d7c76aca",
=======
   "id": "369dd6d0",
>>>>>>> documentation-devel
=======
   "id": "23570fe1",
>>>>>>> c74c98c2450c2a1ba922ed9442f136238d6bc88b
=======
   "id": "40ce227e",
>>>>>>> 035bb2637984ead2784fecff78c0c60cc4181202
||||||| 3effdfa5
   "id": "c33b227d",
=======
   "id": "2dd948a8",
>>>>>>> documentation-devel
   "metadata": {
    "name": "subset-qc"
   },
   "outputs": [],
   "source": [
    "sce <- sce[, which(sce$total > inflection)]\n",
    "sce <- sce[rowSums(counts(sce)) > 0,]\n",
    "\n",
    "sce"
   ]
  },
  {
   "cell_type": "code",
   "execution_count": null,
<<<<<<< HEAD
<<<<<<< HEAD
<<<<<<< HEAD
<<<<<<< HEAD
<<<<<<< HEAD
<<<<<<< HEAD
   "id": "baba2dbc",
||||||| 6a30bf1
   "id": "e1ae28b9",
=======
   "id": "afdc38c7",
>>>>>>> documentation-devel
||||||| d28b18c
   "id": "afdc38c7",
=======
   "id": "8e4edf34",
>>>>>>> documentation-devel
||||||| 6893f63
<<<<<<< HEAD
   "id": "baba2dbc",
||||||| 6a30bf1
   "id": "e1ae28b9",
=======
   "id": "afdc38c7",
>>>>>>> documentation-devel
=======
   "id": "1ef550bf",
>>>>>>> c74c98c2450c2a1ba922ed9442f136238d6bc88b
||||||| 6d93b645
   "id": "8e4edf34",
=======
   "id": "8a90d199",
>>>>>>> documentation-devel
||||||| 804edffb
<<<<<<< HEAD
<<<<<<< HEAD
<<<<<<< HEAD
   "id": "baba2dbc",
||||||| 6a30bf1
   "id": "e1ae28b9",
=======
   "id": "afdc38c7",
>>>>>>> documentation-devel
||||||| d28b18c
   "id": "afdc38c7",
=======
   "id": "8e4edf34",
>>>>>>> documentation-devel
||||||| 6893f63
<<<<<<< HEAD
   "id": "baba2dbc",
||||||| 6a30bf1
   "id": "e1ae28b9",
=======
   "id": "afdc38c7",
>>>>>>> documentation-devel
=======
   "id": "1ef550bf",
>>>>>>> c74c98c2450c2a1ba922ed9442f136238d6bc88b
=======
   "id": "5c9da990",
>>>>>>> 035bb2637984ead2784fecff78c0c60cc4181202
||||||| 3effdfa5
   "id": "8a90d199",
=======
   "id": "b0a42a3a",
>>>>>>> documentation-devel
   "metadata": {},
   "outputs": [],
   "source": [
    "sessionInfo()"
   ]
  }
 ],
 "metadata": {
  "kernelspec": {
   "display_name": "R",
   "language": "R",
   "name": "ir"
  }
 },
 "nbformat": 4,
 "nbformat_minor": 5
}
