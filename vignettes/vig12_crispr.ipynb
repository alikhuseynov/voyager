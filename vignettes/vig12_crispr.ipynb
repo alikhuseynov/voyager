{
 "cells": [
  {
   "cell_type": "raw",
<<<<<<< HEAD
<<<<<<< HEAD
<<<<<<< HEAD
   "id": "6468f648",
||||||| fa5abb84
   "id": "fb721766",
=======
   "id": "f93a2cc4",
>>>>>>> documentation-devel
||||||| 7e3277eb
   "id": "f93a2cc4",
=======
   "id": "70b59ecf",
>>>>>>> documentation-devel
||||||| 971bf77c
<<<<<<< HEAD
   "id": "6468f648",
||||||| fa5abb84
   "id": "fb721766",
=======
   "id": "f93a2cc4",
>>>>>>> documentation-devel
=======
   "id": "12f4bb7b",
>>>>>>> e1d793125c0aeb7e34aca09298b9c5b44973e4b3
   "metadata": {},
   "source": [
    "---\n",
    "title: \"Quality control on Chromium CRISPR Guide Capture libraries\"\n",
    "author: \"Kayla Jackson and A. Sina Booeshaghi\"\n",
    "date: \"`r Sys.Date()`\"\n",
    "output: \n",
    "  html_document:\n",
    "  toc: true\n",
    "  toc_float:\n",
    "    collapsed: false\n",
    "  toc_depth: 3\n",
    "bibliography: ref.bib\n",
    "vignette: >\n",
    "  %\\VignetteIndexEntry{10xcrispr_qc}\n",
    "  %\\VignetteEngine{knitr::rmarkdown}\n",
    "  %\\VignetteEncoding{UTF-8}\n",
    "---"
   ]
  },
  {
   "cell_type": "code",
   "execution_count": null,
<<<<<<< HEAD
<<<<<<< HEAD
<<<<<<< HEAD
   "id": "bde5e332",
||||||| fa5abb84
   "id": "4221bc95",
=======
   "id": "c910db07",
>>>>>>> documentation-devel
||||||| 7e3277eb
   "id": "c910db07",
=======
   "id": "ca74e8b7",
>>>>>>> documentation-devel
||||||| 971bf77c
<<<<<<< HEAD
   "id": "bde5e332",
||||||| fa5abb84
   "id": "4221bc95",
=======
   "id": "c910db07",
>>>>>>> documentation-devel
=======
   "id": "4f1be3e7",
>>>>>>> e1d793125c0aeb7e34aca09298b9c5b44973e4b3
   "metadata": {
    "tags": [
     "remove_cell"
    ]
   },
   "outputs": [],
   "source": [
    "knitr::opts_chunk$set(\n",
    "  collapse = TRUE,\n",
    "  comment = \"#>\", fig.align = \"center\"\n",
    ")"
   ]
  },
  {
   "cell_type": "code",
   "execution_count": null,
<<<<<<< HEAD
<<<<<<< HEAD
<<<<<<< HEAD
   "id": "dcb349a6",
||||||| fa5abb84
   "id": "566ef909",
=======
   "id": "111c6421",
>>>>>>> documentation-devel
||||||| 7e3277eb
   "id": "111c6421",
=======
   "id": "96436792",
>>>>>>> documentation-devel
||||||| 971bf77c
<<<<<<< HEAD
   "id": "dcb349a6",
||||||| fa5abb84
   "id": "566ef909",
=======
   "id": "111c6421",
>>>>>>> documentation-devel
=======
   "id": "7e8ec363",
>>>>>>> e1d793125c0aeb7e34aca09298b9c5b44973e4b3
   "metadata": {
    "eval": false,
    "tags": [
     "remove_cell"
    ]
   },
   "outputs": [],
   "source": [
    "# Install Google Colab dependencies\n",
    "# Note: this can take 30+ minutes (many of the dependencies include C++ code, which needs to be compiled)\n",
    "\n",
    "# First install `sf`, `ragg` and `textshaping` and their system dependencies:\n",
    "system(\"apt-get -y update && apt-get install -y  libudunits2-dev libgdal-dev libgeos-dev libproj-dev libharfbuzz-dev libfribidi-dev\")\n",
    "install.packages(\"sf\")\n",
    "install.packages(\"textshaping\")\n",
    "install.packages(\"ragg\")\n",
    "\n",
    "# Install system dependencies of some other R packages that Voyager either imports or suggests:\n",
    "system(\"apt-get install -y libfribidi-dev libcairo2-dev libmagick++-dev\")\n",
    "\n",
    "# Install Voyager from Bioconductor:\n",
    "install.packages(\"BiocManager\")\n",
    "BiocManager::install(version = \"3.17\", ask = FALSE, update = FALSE, Ncpus = 2)\n",
    "BiocManager::install(\"scater\")\n",
    "system.time(\n",
    "  BiocManager::install(\"Voyager\", dependencies = TRUE, Ncpus = 2, update = FALSE)\n",
    ")\n",
    "\n",
    "\n",
    "packageVersion(\"Voyager\")"
   ]
  },
  {
   "cell_type": "markdown",
<<<<<<< HEAD
<<<<<<< HEAD
<<<<<<< HEAD
   "id": "69eeba40",
||||||| fa5abb84
   "id": "53a98c25",
=======
   "id": "b83682b7",
>>>>>>> documentation-devel
||||||| 7e3277eb
   "id": "b83682b7",
=======
   "id": "f33678e5",
>>>>>>> documentation-devel
||||||| 971bf77c
<<<<<<< HEAD
   "id": "69eeba40",
||||||| fa5abb84
   "id": "53a98c25",
=======
   "id": "b83682b7",
>>>>>>> documentation-devel
=======
   "id": "04260246",
>>>>>>> e1d793125c0aeb7e34aca09298b9c5b44973e4b3
   "metadata": {},
   "source": [
    "# Introduction\n",
    "The data in this vignette is shipped with the `cellatlas` repository. The count matrix and metadata are provided in the `cellatlas/examples` folder as an [`AnnData`](https://anndata-tutorials.readthedocs.io/en/latest/getting-started.html) object. We will begin by loading the object and converting it to a `SingleCellExperiment` object. "
   ]
  },
  {
   "cell_type": "code",
   "execution_count": null,
<<<<<<< HEAD
<<<<<<< HEAD
<<<<<<< HEAD
   "id": "55323137",
||||||| fa5abb84
   "id": "864296ed",
=======
   "id": "7c87f6e8",
>>>>>>> documentation-devel
||||||| 7e3277eb
   "id": "7c87f6e8",
=======
   "id": "e953d960",
>>>>>>> documentation-devel
||||||| 971bf77c
<<<<<<< HEAD
   "id": "55323137",
||||||| fa5abb84
   "id": "864296ed",
=======
   "id": "7c87f6e8",
>>>>>>> documentation-devel
=======
   "id": "8ac2b32e",
>>>>>>> e1d793125c0aeb7e34aca09298b9c5b44973e4b3
   "metadata": {
    "message": false
   },
   "outputs": [],
   "source": [
    "library(stringr)\n",
    "library(Matrix)\n",
    "library(DropletUtils)\n",
    "library(SpatialExperiment)\n",
    "library(SpatialFeatureExperiment)\n",
    "library(scater)\n",
    "library(scuttle)\n",
    "library(Voyager)\n",
    "library(ggplot2)\n",
    "theme_set(theme_bw())"
   ]
  },
  {
   "cell_type": "code",
   "execution_count": null,
<<<<<<< HEAD
<<<<<<< HEAD
<<<<<<< HEAD
   "id": "42189dd9",
||||||| 971bf77c
<<<<<<< HEAD
   "id": "42189dd9",
=======
   "id": "a2076517",
>>>>>>> e1d793125c0aeb7e34aca09298b9c5b44973e4b3
   "metadata": {
    "message": true,
    "tags": [
     "remove_output"
    ]
   },
<<<<<<< HEAD
||||||| fa5abb84
   "id": "e18e26af",
   "metadata": {
    "message": false,
    "name": "dwnld",
    "tags": [
     "remove_output"
    ]
   },
=======
   "id": "1b9c814a",
   "metadata": {},
>>>>>>> documentation-devel
||||||| 7e3277eb
   "id": "1b9c814a",
   "metadata": {},
=======
   "id": "d52cde74",
   "metadata": {
    "message": true,
    "tags": [
     "remove_output"
    ]
   },
>>>>>>> documentation-devel
||||||| 971bf77c
||||||| fa5abb84
   "id": "e18e26af",
   "metadata": {
    "message": false,
    "name": "dwnld",
    "tags": [
     "remove_output"
    ]
   },
=======
   "id": "1b9c814a",
   "metadata": {},
>>>>>>> documentation-devel
=======
>>>>>>> e1d793125c0aeb7e34aca09298b9c5b44973e4b3
   "outputs": [],
   "source": [
    "if (!file.exists(\"10xcrispr.rds\"))\n",
    "    download.file(\"https://github.com/pachterlab/voyager/raw/documentation-devel/vignettes/10xcrispr.rds\", destfile = \"10xcrispr.rds\")\n",
    "sce <- readRDS(\"10xcrispr.rds\")"
   ]
  },
  {
   "cell_type": "code",
   "execution_count": null,
<<<<<<< HEAD
<<<<<<< HEAD
<<<<<<< HEAD
   "id": "68cdb04d",
||||||| fa5abb84
   "id": "90fdfaaf",
=======
   "id": "fe0d200d",
>>>>>>> documentation-devel
||||||| 7e3277eb
   "id": "fe0d200d",
=======
   "id": "0027a7f4",
>>>>>>> documentation-devel
||||||| 971bf77c
<<<<<<< HEAD
   "id": "68cdb04d",
||||||| fa5abb84
   "id": "90fdfaaf",
=======
   "id": "fe0d200d",
>>>>>>> documentation-devel
=======
   "id": "10c7aa6b",
>>>>>>> e1d793125c0aeb7e34aca09298b9c5b44973e4b3
   "metadata": {},
   "outputs": [],
   "source": [
    "is_mito <- str_detect(rowData(sce)$gene_name, regex(\"^mt-\", ignore_case=TRUE))\n",
    "sum(is_mito)"
   ]
  },
  {
   "cell_type": "code",
   "execution_count": null,
<<<<<<< HEAD
<<<<<<< HEAD
<<<<<<< HEAD
   "id": "c82b26a7",
||||||| fa5abb84
   "id": "bcf8e64a",
=======
   "id": "397d3708",
>>>>>>> documentation-devel
||||||| 7e3277eb
   "id": "397d3708",
=======
   "id": "8fd8891e",
>>>>>>> documentation-devel
||||||| 971bf77c
<<<<<<< HEAD
   "id": "c82b26a7",
||||||| fa5abb84
   "id": "bcf8e64a",
=======
   "id": "397d3708",
>>>>>>> documentation-devel
=======
   "id": "8e27267d",
>>>>>>> e1d793125c0aeb7e34aca09298b9c5b44973e4b3
   "metadata": {},
   "outputs": [],
   "source": [
    "sce <- addPerCellQCMetrics(sce, subsets = list(mito = is_mito))\n",
    "names(colData(sce))"
   ]
  },
  {
   "cell_type": "code",
   "execution_count": null,
<<<<<<< HEAD
<<<<<<< HEAD
<<<<<<< HEAD
   "id": "7992f066",
||||||| fa5abb84
   "id": "07ab4f31",
=======
   "id": "17fa665a",
>>>>>>> documentation-devel
||||||| 7e3277eb
   "id": "17fa665a",
=======
   "id": "394bbaea",
>>>>>>> documentation-devel
||||||| 971bf77c
<<<<<<< HEAD
   "id": "7992f066",
||||||| fa5abb84
   "id": "07ab4f31",
=======
   "id": "17fa665a",
>>>>>>> documentation-devel
=======
   "id": "e98883c6",
>>>>>>> e1d793125c0aeb7e34aca09298b9c5b44973e4b3
   "metadata": {},
   "outputs": [],
   "source": [
    "plotColData(sce, \"sum\") +\n",
    "    plotColData(sce, \"detected\")"
   ]
  },
  {
   "cell_type": "code",
   "execution_count": null,
<<<<<<< HEAD
<<<<<<< HEAD
<<<<<<< HEAD
   "id": "3890afab",
||||||| fa5abb84
   "id": "89100136",
=======
   "id": "12aba07d",
>>>>>>> documentation-devel
||||||| 7e3277eb
   "id": "12aba07d",
=======
   "id": "78542dcb",
>>>>>>> documentation-devel
||||||| 971bf77c
<<<<<<< HEAD
   "id": "3890afab",
||||||| fa5abb84
   "id": "89100136",
=======
   "id": "12aba07d",
>>>>>>> documentation-devel
=======
   "id": "042f5352",
>>>>>>> e1d793125c0aeb7e34aca09298b9c5b44973e4b3
   "metadata": {},
   "outputs": [],
   "source": [
    "plotColData(sce, x = \"sum\", y = \"detected\", bins = 100) +\n",
    "    scale_fill_distiller(palette = \"Blues\", direction = 1)"
   ]
  },
  {
   "cell_type": "code",
   "execution_count": null,
<<<<<<< HEAD
<<<<<<< HEAD
<<<<<<< HEAD
   "id": "8a37827b",
||||||| fa5abb84
   "id": "6eae8e9a",
=======
   "id": "694ddfd8",
>>>>>>> documentation-devel
||||||| 7e3277eb
   "id": "694ddfd8",
=======
   "id": "5c6acc26",
>>>>>>> documentation-devel
||||||| 971bf77c
<<<<<<< HEAD
   "id": "8a37827b",
||||||| fa5abb84
   "id": "6eae8e9a",
=======
   "id": "694ddfd8",
>>>>>>> documentation-devel
=======
   "id": "628c7ad9",
>>>>>>> e1d793125c0aeb7e34aca09298b9c5b44973e4b3
   "metadata": {},
   "outputs": [],
   "source": [
    "plotColData(sce, x = \"sum\", y = \"subsets_mito_detected\", bins = 100) +\n",
    "    scale_fill_distiller(palette = \"Blues\", direction = 1)"
   ]
  },
  {
   "cell_type": "code",
   "execution_count": null,
<<<<<<< HEAD
<<<<<<< HEAD
<<<<<<< HEAD
   "id": "5202ba74",
||||||| fa5abb84
   "id": "7e4b0539",
=======
   "id": "d9cbc707",
>>>>>>> documentation-devel
||||||| 7e3277eb
   "id": "d9cbc707",
=======
   "id": "b99b491f",
>>>>>>> documentation-devel
||||||| 971bf77c
<<<<<<< HEAD
   "id": "5202ba74",
||||||| fa5abb84
   "id": "7e4b0539",
=======
   "id": "d9cbc707",
>>>>>>> documentation-devel
=======
   "id": "85a400cb",
>>>>>>> e1d793125c0aeb7e34aca09298b9c5b44973e4b3
   "metadata": {
    "name": "knee-plot"
   },
   "outputs": [],
   "source": [
    "bcrank <- barcodeRanks(counts(sce))\n",
    "\n",
    "knee <- metadata(bcrank)$knee\n",
    "inflection <- metadata(bcrank)$inflection\n",
    "\n",
    "plot(bcrank$rank, bcrank$total, log=\"xy\",\n",
    "      xlab=\"Rank\", ylab=\"Total ClickTags count\", cex.lab=1.2)\n",
    "\n",
    "abline(h=inflection, col=\"darkgreen\", lty=2)\n",
    "abline(h=knee, col=\"dodgerblue\", lty=2)"
   ]
  },
  {
   "cell_type": "code",
   "execution_count": null,
<<<<<<< HEAD
<<<<<<< HEAD
<<<<<<< HEAD
   "id": "c679221d",
||||||| fa5abb84
   "id": "32722945",
=======
   "id": "bb576c64",
>>>>>>> documentation-devel
||||||| 7e3277eb
   "id": "bb576c64",
=======
   "id": "317746c7",
>>>>>>> documentation-devel
||||||| 971bf77c
<<<<<<< HEAD
   "id": "c679221d",
||||||| fa5abb84
   "id": "32722945",
=======
   "id": "bb576c64",
>>>>>>> documentation-devel
=======
   "id": "febe5598",
>>>>>>> e1d793125c0aeb7e34aca09298b9c5b44973e4b3
   "metadata": {
    "name": "subset-qc"
   },
   "outputs": [],
   "source": [
    "sce <- sce[, which(sce$total > inflection)]\n",
    "sce <- sce[rowSums(counts(sce)) > 0,]\n",
    "\n",
    "sce"
   ]
  },
  {
   "cell_type": "code",
   "execution_count": null,
<<<<<<< HEAD
<<<<<<< HEAD
<<<<<<< HEAD
   "id": "f53bfbb7",
||||||| fa5abb84
   "id": "52664a1d",
=======
   "id": "7b21ffdd",
>>>>>>> documentation-devel
||||||| 7e3277eb
   "id": "7b21ffdd",
=======
   "id": "2d89dcb0",
>>>>>>> documentation-devel
||||||| 971bf77c
<<<<<<< HEAD
   "id": "f53bfbb7",
||||||| fa5abb84
   "id": "52664a1d",
=======
   "id": "7b21ffdd",
>>>>>>> documentation-devel
=======
   "id": "a7bff87e",
>>>>>>> e1d793125c0aeb7e34aca09298b9c5b44973e4b3
   "metadata": {},
   "outputs": [],
   "source": [
    "sessionInfo()"
   ]
  }
 ],
 "metadata": {
  "kernelspec": {
   "display_name": "R",
   "language": "R",
   "name": "ir"
  }
 },
 "nbformat": 4,
 "nbformat_minor": 5
}
