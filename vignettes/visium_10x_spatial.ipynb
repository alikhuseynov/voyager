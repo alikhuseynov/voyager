{
 "cells": [
  {
   "cell_type": "raw",
<<<<<<< HEAD
<<<<<<< HEAD
<<<<<<< HEAD
   "id": "be9d87ab",
||||||| fa5abb84
   "id": "ec25e984",
=======
   "id": "c3752ec3",
>>>>>>> documentation-devel
||||||| 7e3277eb
   "id": "c3752ec3",
=======
   "id": "0f86f5d8",
>>>>>>> documentation-devel
||||||| 971bf77c
<<<<<<< HEAD
   "id": "be9d87ab",
||||||| fa5abb84
   "id": "ec25e984",
=======
   "id": "c3752ec3",
>>>>>>> documentation-devel
=======
   "id": "df023895",
>>>>>>> e1d793125c0aeb7e34aca09298b9c5b44973e4b3
   "metadata": {},
   "source": [
    "---\n",
    "title: \"Spatial analysis of 10X example Visium dataset\"\n",
    "author: \"Lambda Moses\"\n",
    "date: \"`r Sys.Date()`\"\n",
    "output: \n",
    "  html_document:\n",
    "  toc: true\n",
    "  toc_float:\n",
    "    collapsed: false\n",
    "  toc_depth: 3\n",
    "bibliography: ref.bib\n",
    "vignette: >\n",
    "  %\\VignetteIndexEntry{visium_10x_spatial}\n",
    "  %\\VignetteEngine{knitr::rmarkdown}\n",
    "  %\\VignetteEncoding{UTF-8}\n",
    "---"
   ]
  },
  {
   "cell_type": "code",
   "execution_count": null,
<<<<<<< HEAD
<<<<<<< HEAD
<<<<<<< HEAD
   "id": "e75abbc4",
||||||| fa5abb84
   "id": "8ad8cf4e",
=======
   "id": "4c4feeb6",
>>>>>>> documentation-devel
||||||| 7e3277eb
   "id": "4c4feeb6",
=======
   "id": "b5796397",
>>>>>>> documentation-devel
||||||| 971bf77c
<<<<<<< HEAD
   "id": "e75abbc4",
||||||| fa5abb84
   "id": "8ad8cf4e",
=======
   "id": "4c4feeb6",
>>>>>>> documentation-devel
=======
   "id": "1b55ee41",
>>>>>>> e1d793125c0aeb7e34aca09298b9c5b44973e4b3
   "metadata": {
    "tags": [
     "remove_cell"
    ]
   },
   "outputs": [],
   "source": [
    "knitr::opts_chunk$set(\n",
    "  collapse = TRUE,\n",
    "  comment = \"#>\"\n",
    ")"
   ]
  },
  {
   "cell_type": "code",
   "execution_count": null,
<<<<<<< HEAD
<<<<<<< HEAD
<<<<<<< HEAD
   "id": "b1126c6f",
||||||| fa5abb84
   "id": "2fab1467",
=======
   "id": "d8666645",
>>>>>>> documentation-devel
||||||| 7e3277eb
   "id": "d8666645",
=======
   "id": "b0cc36c3",
>>>>>>> documentation-devel
||||||| 971bf77c
<<<<<<< HEAD
   "id": "b1126c6f",
||||||| fa5abb84
   "id": "2fab1467",
=======
   "id": "d8666645",
>>>>>>> documentation-devel
=======
   "id": "72400135",
>>>>>>> e1d793125c0aeb7e34aca09298b9c5b44973e4b3
   "metadata": {
    "eval": false,
    "tags": [
     "remove_cell"
    ]
   },
   "outputs": [],
   "source": [
    "# Install Google Colab dependencies\n",
    "# Note: this can take 30+ minutes (many of the dependencies include C++ code, which needs to be compiled)\n",
    "\n",
    "# First install `sf`, `ragg` and `textshaping` and their system dependencies:\n",
    "system(\"apt-get -y update && apt-get install -y  libudunits2-dev libgdal-dev libgeos-dev libproj-dev libharfbuzz-dev libfribidi-dev\")\n",
    "install.packages(\"sf\")\n",
    "install.packages(\"textshaping\")\n",
    "install.packages(\"ragg\")\n",
    "\n",
    "# Install system dependencies of some other R packages that Voyager either imports or suggests:\n",
    "system(\"apt-get install -y libfribidi-dev libcairo2-dev libmagick++-dev\")\n",
    "\n",
    "# Install Voyager from Bioconductor:\n",
    "install.packages(\"BiocManager\")\n",
    "BiocManager::install(version = \"3.17\", ask = FALSE, update = FALSE, Ncpus = 2)\n",
    "BiocManager::install(\"scater\")\n",
    "system.time(\n",
    "  BiocManager::install(\"Voyager\", dependencies = TRUE, Ncpus = 2, update = FALSE)\n",
    ")\n",
    "\n",
    "# Additional dependencies for this notebook\n",
    "system(\"apt-get install -y libfftw3-dev libprotobuf-dev\")\n",
    "BiocManager::install(\"EBImage\")\n",
    "BiocManager::install(\"terra\")\n",
    "BiocManager::install(\"rmapshaper\")\n",
    "install.packages(\"reticulate\")\n",
    "\n",
    "packageVersion(\"Voyager\")"
   ]
  },
  {
   "cell_type": "markdown",
<<<<<<< HEAD
<<<<<<< HEAD
<<<<<<< HEAD
   "id": "05e1daf3",
||||||| fa5abb84
   "id": "766ebdca",
=======
   "id": "cc293880",
>>>>>>> documentation-devel
||||||| 7e3277eb
   "id": "cc293880",
=======
   "id": "dfe2a8b2",
>>>>>>> documentation-devel
||||||| 971bf77c
<<<<<<< HEAD
   "id": "05e1daf3",
||||||| fa5abb84
   "id": "766ebdca",
=======
   "id": "cc293880",
>>>>>>> documentation-devel
=======
   "id": "cd881d9d",
>>>>>>> e1d793125c0aeb7e34aca09298b9c5b44973e4b3
   "metadata": {
    "lines_to_next_cell": 0
   },
   "source": [
    "# Introduction\n",
    "In a [more introductory vignette](https://pachterlab.github.io/voyager/articles/visium_10x.html), we performed basic non-spatial analyses on a mouse olfactory bulb Visium dataset from the 10X website. In this vignette, we perform spatial analyses in histological space as well as in gene expression space. \n",
    "\n",
    "Here we load the packages used in this vignette:"
   ]
  },
  {
   "cell_type": "code",
   "execution_count": null,
<<<<<<< HEAD
<<<<<<< HEAD
<<<<<<< HEAD
   "id": "9c2f3d7f",
||||||| fa5abb84
   "id": "af99d410",
=======
   "id": "849d1c6c",
>>>>>>> documentation-devel
||||||| 7e3277eb
   "id": "849d1c6c",
=======
   "id": "86b806ff",
>>>>>>> documentation-devel
||||||| 971bf77c
<<<<<<< HEAD
   "id": "9c2f3d7f",
||||||| fa5abb84
   "id": "af99d410",
=======
   "id": "849d1c6c",
>>>>>>> documentation-devel
=======
   "id": "5a3897f8",
>>>>>>> e1d793125c0aeb7e34aca09298b9c5b44973e4b3
   "metadata": {
    "message": false
   },
   "outputs": [],
   "source": [
    "library(Voyager)\n",
    "library(SpatialFeatureExperiment)\n",
    "library(SingleCellExperiment)\n",
    "library(ggplot2)\n",
    "library(scater)\n",
    "library(scuttle)\n",
    "library(scran)\n",
    "library(stringr)\n",
    "library(patchwork)\n",
    "library(bluster)\n",
    "library(rjson)\n",
    "library(EBImage)\n",
    "library(terra)\n",
    "library(rlang)\n",
    "library(sf)\n",
    "library(rmapshaper)\n",
    "library(dplyr)\n",
    "library(BiocParallel)\n",
    "library(BiocNeighbors)\n",
    "library(reticulate)\n",
    "theme_set(theme_bw())"
   ]
  },
  {
   "cell_type": "code",
   "execution_count": null,
<<<<<<< HEAD
<<<<<<< HEAD
<<<<<<< HEAD
   "id": "dc937754",
||||||| fa5abb84
   "id": "5303dcb9",
=======
   "id": "7c89f4a2",
>>>>>>> documentation-devel
||||||| 7e3277eb
   "id": "7c89f4a2",
=======
   "id": "fbe0e7af",
>>>>>>> documentation-devel
||||||| 971bf77c
<<<<<<< HEAD
   "id": "dc937754",
||||||| fa5abb84
   "id": "5303dcb9",
=======
   "id": "7c89f4a2",
>>>>>>> documentation-devel
=======
   "id": "b6bd010b",
>>>>>>> e1d793125c0aeb7e34aca09298b9c5b44973e4b3
   "metadata": {},
   "outputs": [],
   "source": [
    "# Specify Python version to use gget\n",
    "PY_PATH <- system(\"which python\", intern = TRUE)\n",
    "use_python(PY_PATH)\n",
    "py_config()"
   ]
  },
  {
   "cell_type": "code",
   "execution_count": null,
<<<<<<< HEAD
<<<<<<< HEAD
<<<<<<< HEAD
   "id": "b1e4e674",
||||||| fa5abb84
   "id": "eda24ef1",
=======
   "id": "50b7858f",
>>>>>>> documentation-devel
||||||| 7e3277eb
   "id": "50b7858f",
=======
   "id": "32842ee4",
>>>>>>> documentation-devel
||||||| 971bf77c
<<<<<<< HEAD
   "id": "b1e4e674",
||||||| fa5abb84
   "id": "eda24ef1",
=======
   "id": "50b7858f",
>>>>>>> documentation-devel
=======
   "id": "02157b61",
>>>>>>> e1d793125c0aeb7e34aca09298b9c5b44973e4b3
   "metadata": {
    "eval": false,
    "tags": [
     "remove_cell"
    ]
   },
   "outputs": [],
   "source": [
    "system(\"pip3 install gget\")"
   ]
  },
  {
   "cell_type": "code",
   "execution_count": null,
<<<<<<< HEAD
<<<<<<< HEAD
<<<<<<< HEAD
   "id": "af10f237",
||||||| fa5abb84
   "id": "15cd5bbc",
=======
   "id": "9e939e02",
>>>>>>> documentation-devel
||||||| 7e3277eb
   "id": "9e939e02",
=======
   "id": "df33c972",
>>>>>>> documentation-devel
||||||| 971bf77c
<<<<<<< HEAD
   "id": "af10f237",
||||||| fa5abb84
   "id": "15cd5bbc",
=======
   "id": "9e939e02",
>>>>>>> documentation-devel
=======
   "id": "cfbfa228",
>>>>>>> e1d793125c0aeb7e34aca09298b9c5b44973e4b3
   "metadata": {},
   "outputs": [],
   "source": [
    "gget <- import(\"gget\")"
   ]
  },
  {
   "cell_type": "markdown",
<<<<<<< HEAD
<<<<<<< HEAD
<<<<<<< HEAD
   "id": "9bfe1ee8",
||||||| fa5abb84
   "id": "7714b9eb",
=======
   "id": "9676b191",
>>>>>>> documentation-devel
||||||| 7e3277eb
   "id": "9676b191",
=======
   "id": "b0f84c31",
>>>>>>> documentation-devel
||||||| 971bf77c
<<<<<<< HEAD
   "id": "9bfe1ee8",
||||||| fa5abb84
   "id": "7714b9eb",
=======
   "id": "9676b191",
>>>>>>> documentation-devel
=======
   "id": "e8d40a45",
>>>>>>> e1d793125c0aeb7e34aca09298b9c5b44973e4b3
   "metadata": {
    "lines_to_next_cell": 0
   },
   "source": [
    "Here we download the data from the 10X website. This is the unfiltered gene count matrix:"
   ]
  },
  {
   "cell_type": "code",
   "execution_count": null,
<<<<<<< HEAD
<<<<<<< HEAD
<<<<<<< HEAD
   "id": "446f3d00",
||||||| fa5abb84
   "id": "ee75a6e0",
=======
   "id": "32b02786",
>>>>>>> documentation-devel
||||||| 7e3277eb
   "id": "32b02786",
=======
   "id": "ec53f84d",
>>>>>>> documentation-devel
||||||| 971bf77c
<<<<<<< HEAD
   "id": "446f3d00",
||||||| fa5abb84
   "id": "ee75a6e0",
=======
   "id": "32b02786",
>>>>>>> documentation-devel
=======
   "id": "440cd6f1",
>>>>>>> e1d793125c0aeb7e34aca09298b9c5b44973e4b3
   "metadata": {},
   "outputs": [],
   "source": [
    "if (!file.exists(\"visium_ob.tar.gz\"))\n",
    "    download.file(\"https://cf.10xgenomics.com/samples/spatial-exp/2.0.0/Visium_Mouse_Olfactory_Bulb/Visium_Mouse_Olfactory_Bulb_raw_feature_bc_matrix.tar.gz\", \n",
    "                  destfile = \"visium_ob.tar.gz\")"
   ]
  },
  {
   "cell_type": "markdown",
<<<<<<< HEAD
<<<<<<< HEAD
<<<<<<< HEAD
   "id": "d3cb776d",
||||||| fa5abb84
   "id": "1e7ae940",
=======
   "id": "b4a368f5",
>>>>>>> documentation-devel
||||||| 7e3277eb
   "id": "b4a368f5",
=======
   "id": "1447b235",
>>>>>>> documentation-devel
||||||| 971bf77c
<<<<<<< HEAD
   "id": "d3cb776d",
||||||| fa5abb84
   "id": "1e7ae940",
=======
   "id": "b4a368f5",
>>>>>>> documentation-devel
=======
   "id": "3c2f7571",
>>>>>>> e1d793125c0aeb7e34aca09298b9c5b44973e4b3
   "metadata": {
    "lines_to_next_cell": 0
   },
   "source": [
    "This is the spatial information:"
   ]
  },
  {
   "cell_type": "code",
   "execution_count": null,
<<<<<<< HEAD
<<<<<<< HEAD
<<<<<<< HEAD
   "id": "90ae163c",
||||||| fa5abb84
   "id": "6f921da1",
=======
   "id": "078e390b",
>>>>>>> documentation-devel
||||||| 7e3277eb
   "id": "078e390b",
=======
   "id": "c071dec9",
>>>>>>> documentation-devel
||||||| 971bf77c
<<<<<<< HEAD
   "id": "90ae163c",
||||||| fa5abb84
   "id": "6f921da1",
=======
   "id": "078e390b",
>>>>>>> documentation-devel
=======
   "id": "2e78ba8a",
>>>>>>> e1d793125c0aeb7e34aca09298b9c5b44973e4b3
   "metadata": {},
   "outputs": [],
   "source": [
    "if (!file.exists(\"visium_ob_spatial.tar.gz\"))\n",
    "    download.file(\"https://cf.10xgenomics.com/samples/spatial-exp/2.0.0/Visium_Mouse_Olfactory_Bulb/Visium_Mouse_Olfactory_Bulb_spatial.tar.gz\", \n",
    "                  destfile = \"visium_ob_spatial.tar.gz\")"
   ]
  },
  {
   "cell_type": "markdown",
<<<<<<< HEAD
<<<<<<< HEAD
<<<<<<< HEAD
   "id": "3cda2e66",
||||||| fa5abb84
   "id": "f61479d2",
=======
   "id": "6b2f10b9",
>>>>>>> documentation-devel
||||||| 7e3277eb
   "id": "6b2f10b9",
=======
   "id": "42943dd6",
>>>>>>> documentation-devel
||||||| 971bf77c
<<<<<<< HEAD
   "id": "3cda2e66",
||||||| fa5abb84
   "id": "f61479d2",
=======
   "id": "6b2f10b9",
>>>>>>> documentation-devel
=======
   "id": "1242293d",
>>>>>>> e1d793125c0aeb7e34aca09298b9c5b44973e4b3
   "metadata": {
    "lines_to_next_cell": 0
   },
   "source": [
    "Decompress the downloaded content:"
   ]
  },
  {
   "cell_type": "code",
   "execution_count": null,
<<<<<<< HEAD
<<<<<<< HEAD
<<<<<<< HEAD
   "id": "98068606",
||||||| fa5abb84
   "id": "15047486",
=======
   "id": "2917ea9a",
>>>>>>> documentation-devel
||||||| 7e3277eb
   "id": "2917ea9a",
=======
   "id": "3d3a9c33",
>>>>>>> documentation-devel
||||||| 971bf77c
<<<<<<< HEAD
   "id": "98068606",
||||||| fa5abb84
   "id": "15047486",
=======
   "id": "2917ea9a",
>>>>>>> documentation-devel
=======
   "id": "8ee07022",
>>>>>>> e1d793125c0aeb7e34aca09298b9c5b44973e4b3
   "metadata": {},
   "outputs": [],
   "source": [
    "if (!dir.exists(\"outs\")) {\n",
    "    dir.create(\"outs\")\n",
    "    system(\"tar -xvf visium_ob.tar.gz -C outs\")\n",
    "    system(\"tar -xvf visium_ob_spatial.tar.gz -C outs\")\n",
    "}"
   ]
  },
  {
   "cell_type": "markdown",
<<<<<<< HEAD
<<<<<<< HEAD
<<<<<<< HEAD
   "id": "aa22e1a8",
||||||| fa5abb84
   "id": "963b95b6",
=======
   "id": "5ec04915",
>>>>>>> documentation-devel
||||||| 7e3277eb
   "id": "5ec04915",
=======
   "id": "f73c00e5",
>>>>>>> documentation-devel
||||||| 971bf77c
<<<<<<< HEAD
   "id": "aa22e1a8",
||||||| fa5abb84
   "id": "963b95b6",
=======
   "id": "5ec04915",
>>>>>>> documentation-devel
=======
   "id": "d469d0f6",
>>>>>>> e1d793125c0aeb7e34aca09298b9c5b44973e4b3
   "metadata": {
    "lines_to_next_cell": 0
   },
   "source": [
    "Contents of the `outs` directory as from Space Ranger is explained in [the introductory vignette](https://pachterlab.github.io/voyager/articles/visium_10x.html).\n",
    "\n",
    "Here we read the data into R as an SFE object."
   ]
  },
  {
   "cell_type": "code",
   "execution_count": null,
<<<<<<< HEAD
<<<<<<< HEAD
<<<<<<< HEAD
   "id": "d3763ec4",
||||||| fa5abb84
   "id": "61292987",
=======
   "id": "5401d161",
>>>>>>> documentation-devel
||||||| 7e3277eb
   "id": "5401d161",
=======
   "id": "a020d26f",
>>>>>>> documentation-devel
||||||| 971bf77c
<<<<<<< HEAD
   "id": "d3763ec4",
||||||| fa5abb84
   "id": "61292987",
=======
   "id": "5401d161",
>>>>>>> documentation-devel
=======
   "id": "b349a2e0",
>>>>>>> e1d793125c0aeb7e34aca09298b9c5b44973e4b3
   "metadata": {},
   "outputs": [],
   "source": [
    "(sfe <- read10xVisiumSFE(samples = \".\", type = \"sparse\", data = \"raw\"))"
   ]
  },
  {
   "cell_type": "markdown",
<<<<<<< HEAD
<<<<<<< HEAD
<<<<<<< HEAD
   "id": "43636fe5",
||||||| fa5abb84
   "id": "22d23ac9",
=======
   "id": "f1bb408d",
>>>>>>> documentation-devel
||||||| 7e3277eb
   "id": "f1bb408d",
=======
   "id": "7306809f",
>>>>>>> documentation-devel
||||||| 971bf77c
<<<<<<< HEAD
   "id": "43636fe5",
||||||| fa5abb84
   "id": "22d23ac9",
=======
   "id": "f1bb408d",
>>>>>>> documentation-devel
=======
   "id": "e82cfd1e",
>>>>>>> e1d793125c0aeb7e34aca09298b9c5b44973e4b3
   "metadata": {},
   "source": [
    "Here we add QC metrics, already plotted in the introductory vignette."
   ]
  },
  {
   "cell_type": "code",
   "execution_count": null,
<<<<<<< HEAD
<<<<<<< HEAD
<<<<<<< HEAD
   "id": "d109347b",
||||||| fa5abb84
   "id": "acb4bc5b",
=======
   "id": "32276a71",
>>>>>>> documentation-devel
||||||| 7e3277eb
   "id": "32276a71",
=======
   "id": "15d57dea",
>>>>>>> documentation-devel
||||||| 971bf77c
<<<<<<< HEAD
   "id": "d109347b",
||||||| fa5abb84
   "id": "acb4bc5b",
=======
   "id": "32276a71",
>>>>>>> documentation-devel
=======
   "id": "df847ddc",
>>>>>>> e1d793125c0aeb7e34aca09298b9c5b44973e4b3
   "metadata": {},
   "outputs": [],
   "source": [
    "is_mt <- str_detect(rowData(sfe)$symbol, \"^mt-\")"
   ]
  },
  {
   "cell_type": "code",
   "execution_count": null,
<<<<<<< HEAD
<<<<<<< HEAD
<<<<<<< HEAD
   "id": "67c41c6d",
||||||| fa5abb84
   "id": "506a3e69",
=======
   "id": "50fa5557",
>>>>>>> documentation-devel
||||||| 7e3277eb
   "id": "50fa5557",
=======
   "id": "61ba8db6",
>>>>>>> documentation-devel
||||||| 971bf77c
<<<<<<< HEAD
   "id": "67c41c6d",
||||||| fa5abb84
   "id": "506a3e69",
=======
   "id": "50fa5557",
>>>>>>> documentation-devel
=======
   "id": "c59adc8b",
>>>>>>> e1d793125c0aeb7e34aca09298b9c5b44973e4b3
   "metadata": {},
   "outputs": [],
   "source": [
    "sfe <- addPerCellQCMetrics(sfe, subsets = list(mito = is_mt))"
   ]
  },
  {
   "cell_type": "markdown",
<<<<<<< HEAD
<<<<<<< HEAD
<<<<<<< HEAD
   "id": "0a1eaa77",
||||||| fa5abb84
   "id": "203558b2",
=======
   "id": "c5a659e7",
>>>>>>> documentation-devel
||||||| 7e3277eb
   "id": "c5a659e7",
=======
   "id": "a792b20e",
>>>>>>> documentation-devel
||||||| 971bf77c
<<<<<<< HEAD
   "id": "0a1eaa77",
||||||| fa5abb84
   "id": "203558b2",
=======
   "id": "c5a659e7",
>>>>>>> documentation-devel
=======
   "id": "bb56856a",
>>>>>>> e1d793125c0aeb7e34aca09298b9c5b44973e4b3
   "metadata": {},
   "source": [
    "# Tissue segmentation\n",
    "While Space Ranger can automatically detect which spots are in tissue and the Loupe browser can be used to manually annotate which spots are in tissue, it may be interesting to get the tissue outline polygon, so we would know how much each spot overlaps with the tissue and plot the outline. The tissue boundary polygon can be manually annotated with QuPath, which saves the polygon as a GeoJSON and can be directly read into R with `st_read()`. \n",
    "\n",
    "Or we can segment the tissue computationally. R generally isn't great for image processing, but there are some packages that can perform the segmentation, such as [`EBImage`](https://bioconductor.org/packages/release/bioc/html/EBImage.html), which is based on its own in house C and C++ code, and [`imager`](https://github.com/dahtah/imager/), which is based on [`CImg`](http://cimg.eu/).\n",
    "\n",
    "Here we don't have the full resolution image. We will perform tissue segmentation on the high resolution downsampled image and then scale it to make the coordinates of the tissue boundary match those of the spots. The `EBImage` package is used here. Compared to OpenCV, `EBImage` is slow on the full resolution image, but should be fine here for the downsized image."
   ]
  },
  {
   "cell_type": "code",
   "execution_count": null,
<<<<<<< HEAD
<<<<<<< HEAD
<<<<<<< HEAD
   "id": "64dc6e4e",
||||||| fa5abb84
   "id": "3cf5ef3c",
=======
   "id": "f8857609",
>>>>>>> documentation-devel
||||||| 7e3277eb
   "id": "f8857609",
=======
   "id": "2dc0e970",
>>>>>>> documentation-devel
||||||| 971bf77c
<<<<<<< HEAD
   "id": "64dc6e4e",
||||||| fa5abb84
   "id": "3cf5ef3c",
=======
   "id": "f8857609",
>>>>>>> documentation-devel
=======
   "id": "8582a653",
>>>>>>> e1d793125c0aeb7e34aca09298b9c5b44973e4b3
   "metadata": {},
   "outputs": [],
   "source": [
    "img <- readImage(\"outs/spatial/tissue_hires_image.png\")\n",
    "display(img)"
   ]
  },
  {
   "cell_type": "markdown",
<<<<<<< HEAD
<<<<<<< HEAD
<<<<<<< HEAD
   "id": "68853c02",
||||||| fa5abb84
   "id": "e5d4d0c3",
=======
   "id": "5c9b51bb",
>>>>>>> documentation-devel
||||||| 7e3277eb
   "id": "5c9b51bb",
=======
   "id": "a29ef1a0",
>>>>>>> documentation-devel
||||||| 971bf77c
<<<<<<< HEAD
   "id": "68853c02",
||||||| fa5abb84
   "id": "e5d4d0c3",
=======
   "id": "5c9b51bb",
>>>>>>> documentation-devel
=======
   "id": "35741bd6",
>>>>>>> e1d793125c0aeb7e34aca09298b9c5b44973e4b3
   "metadata": {
    "lines_to_next_cell": 0
   },
   "source": [
    "When rendered as a static webpage, the image is static, but when run interactively, this image will be shown in an interactive widget where you can zoom and pan.\n",
    "\n",
    "Here we show the RGB channels separately"
   ]
  },
  {
   "cell_type": "code",
   "execution_count": null,
<<<<<<< HEAD
<<<<<<< HEAD
<<<<<<< HEAD
   "id": "52127be5",
||||||| fa5abb84
   "id": "1ff6ffad",
=======
   "id": "c9d8c5aa",
>>>>>>> documentation-devel
||||||| 7e3277eb
   "id": "c9d8c5aa",
=======
   "id": "ac25bc3e",
>>>>>>> documentation-devel
||||||| 971bf77c
<<<<<<< HEAD
   "id": "52127be5",
||||||| fa5abb84
   "id": "1ff6ffad",
=======
   "id": "c9d8c5aa",
>>>>>>> documentation-devel
=======
   "id": "0870a8d8",
>>>>>>> e1d793125c0aeb7e34aca09298b9c5b44973e4b3
   "metadata": {},
   "outputs": [],
   "source": [
    "img2 <- img\n",
    "colorMode(img2) <- Grayscale\n",
    "display(img2, all = TRUE)"
   ]
  },
  {
   "cell_type": "code",
   "execution_count": null,
<<<<<<< HEAD
<<<<<<< HEAD
<<<<<<< HEAD
   "id": "97d86e3f",
||||||| fa5abb84
   "id": "231f9a7c",
=======
   "id": "109224eb",
>>>>>>> documentation-devel
||||||| 7e3277eb
   "id": "109224eb",
=======
   "id": "ab6ff994",
>>>>>>> documentation-devel
||||||| 971bf77c
<<<<<<< HEAD
   "id": "97d86e3f",
||||||| fa5abb84
   "id": "231f9a7c",
=======
   "id": "109224eb",
>>>>>>> documentation-devel
=======
   "id": "d52377b0",
>>>>>>> e1d793125c0aeb7e34aca09298b9c5b44973e4b3
   "metadata": {},
   "outputs": [],
   "source": [
    "hist(img)"
   ]
  },
  {
   "cell_type": "markdown",
<<<<<<< HEAD
<<<<<<< HEAD
<<<<<<< HEAD
   "id": "4e159908",
||||||| fa5abb84
   "id": "16d8cfe0",
=======
   "id": "160334ab",
>>>>>>> documentation-devel
||||||| 7e3277eb
   "id": "160334ab",
=======
   "id": "25f9c7fa",
>>>>>>> documentation-devel
||||||| 971bf77c
<<<<<<< HEAD
   "id": "4e159908",
||||||| fa5abb84
   "id": "16d8cfe0",
=======
   "id": "160334ab",
>>>>>>> documentation-devel
=======
   "id": "4ef458c1",
>>>>>>> e1d793125c0aeb7e34aca09298b9c5b44973e4b3
   "metadata": {},
   "source": [
    "The tissue can be discerned with thresholding. The tall peak on the right is the background. The much lower peaks from around 0.6 to 0.85 must be the tissue. To capture the faint bluish region, the blue channel is used for thresholding. The threshold here is chosen based on the histogram and experimenting with nearby values."
   ]
  },
  {
   "cell_type": "code",
   "execution_count": null,
<<<<<<< HEAD
<<<<<<< HEAD
<<<<<<< HEAD
   "id": "2a78a089",
||||||| fa5abb84
   "id": "03849461",
=======
   "id": "d37b431d",
>>>>>>> documentation-devel
||||||| 7e3277eb
   "id": "d37b431d",
=======
   "id": "93755910",
>>>>>>> documentation-devel
||||||| 971bf77c
<<<<<<< HEAD
   "id": "2a78a089",
||||||| fa5abb84
   "id": "03849461",
=======
   "id": "d37b431d",
>>>>>>> documentation-devel
=======
   "id": "101129a1",
>>>>>>> e1d793125c0aeb7e34aca09298b9c5b44973e4b3
   "metadata": {},
   "outputs": [],
   "source": [
    "mask <- img2[,,3] < 0.87\n",
    "display(mask)"
   ]
  },
  {
   "cell_type": "markdown",
<<<<<<< HEAD
<<<<<<< HEAD
<<<<<<< HEAD
   "id": "ef71f206",
||||||| fa5abb84
   "id": "932deab8",
=======
   "id": "79c1f2fe",
>>>>>>> documentation-devel
||||||| 7e3277eb
   "id": "79c1f2fe",
=======
   "id": "2b73cc9a",
>>>>>>> documentation-devel
||||||| 971bf77c
<<<<<<< HEAD
   "id": "ef71f206",
||||||| fa5abb84
   "id": "932deab8",
=======
   "id": "79c1f2fe",
>>>>>>> documentation-devel
=======
   "id": "80ad546a",
>>>>>>> e1d793125c0aeb7e34aca09298b9c5b44973e4b3
   "metadata": {
    "lines_to_next_cell": 0
   },
   "source": [
    "Then we use an opening operation (erosion followed by dilation) to denoise"
   ]
  },
  {
   "cell_type": "code",
   "execution_count": null,
<<<<<<< HEAD
<<<<<<< HEAD
<<<<<<< HEAD
   "id": "f24a4096",
||||||| fa5abb84
   "id": "26fcbff6",
=======
   "id": "7af0d443",
>>>>>>> documentation-devel
||||||| 7e3277eb
   "id": "7af0d443",
=======
   "id": "b845375e",
>>>>>>> documentation-devel
||||||| 971bf77c
<<<<<<< HEAD
   "id": "f24a4096",
||||||| fa5abb84
   "id": "26fcbff6",
=======
   "id": "7af0d443",
>>>>>>> documentation-devel
=======
   "id": "a40adc58",
>>>>>>> e1d793125c0aeb7e34aca09298b9c5b44973e4b3
   "metadata": {},
   "outputs": [],
   "source": [
    "kern <- makeBrush(3, shape='disc')\n",
    "mask_open <- opening(mask, kern)\n",
    "display(mask_open)"
   ]
  },
  {
   "cell_type": "markdown",
<<<<<<< HEAD
<<<<<<< HEAD
<<<<<<< HEAD
   "id": "4dc2575c",
||||||| fa5abb84
   "id": "007c2be0",
=======
   "id": "a3a5492c",
>>>>>>> documentation-devel
||||||| 7e3277eb
   "id": "a3a5492c",
=======
   "id": "2884ff65",
>>>>>>> documentation-devel
||||||| 971bf77c
<<<<<<< HEAD
   "id": "4dc2575c",
||||||| fa5abb84
   "id": "007c2be0",
=======
   "id": "a3a5492c",
>>>>>>> documentation-devel
=======
   "id": "25241532",
>>>>>>> e1d793125c0aeb7e34aca09298b9c5b44973e4b3
   "metadata": {
    "lines_to_next_cell": 0
   },
   "source": [
    "There are some small holes in the tissue, which can be removed by a closing operation (dilation followed by erosion):"
   ]
  },
  {
   "cell_type": "code",
   "execution_count": null,
<<<<<<< HEAD
<<<<<<< HEAD
<<<<<<< HEAD
   "id": "307dafbd",
||||||| fa5abb84
   "id": "d92aa5bd",
=======
   "id": "592cd61e",
>>>>>>> documentation-devel
||||||| 7e3277eb
   "id": "592cd61e",
=======
   "id": "0a2d0316",
>>>>>>> documentation-devel
||||||| 971bf77c
<<<<<<< HEAD
   "id": "307dafbd",
||||||| fa5abb84
   "id": "d92aa5bd",
=======
   "id": "592cd61e",
>>>>>>> documentation-devel
=======
   "id": "024fc2f4",
>>>>>>> e1d793125c0aeb7e34aca09298b9c5b44973e4b3
   "metadata": {},
   "outputs": [],
   "source": [
    "mask_close <- closing(mask_open, kern)\n",
    "display(mask_close)"
   ]
  },
  {
   "cell_type": "markdown",
<<<<<<< HEAD
<<<<<<< HEAD
<<<<<<< HEAD
   "id": "ce4f39f4",
||||||| fa5abb84
   "id": "00548101",
=======
   "id": "1f61a5eb",
>>>>>>> documentation-devel
||||||| 7e3277eb
   "id": "1f61a5eb",
=======
   "id": "b83c77b3",
>>>>>>> documentation-devel
||||||| 971bf77c
<<<<<<< HEAD
   "id": "ce4f39f4",
||||||| fa5abb84
   "id": "00548101",
=======
   "id": "1f61a5eb",
>>>>>>> documentation-devel
=======
   "id": "fa6cff1f",
>>>>>>> e1d793125c0aeb7e34aca09298b9c5b44973e4b3
   "metadata": {},
   "source": [
    "There are some larger holes in the tissue mask, which may be real holes or faint regions with few nuclei missed by thresholding. They might not be large enough to affect which Visium spots intersect the tissue.\n",
    "\n",
    "Now the main piece of tissue is clear. It must be the object with the largest area. However, there are two small pieces that should belong to the tissue at the top left. The debris and fiducials can be removed by setting all pixels in the mask outside the bounding box of the main piece to 0. Here we assign a different value to each contiguous object with `bwlabel()`, and use `computeFeatures.shape()` to find the area among other shape features (e.g. perimeter) of each object."
   ]
  },
  {
   "cell_type": "code",
   "execution_count": null,
<<<<<<< HEAD
<<<<<<< HEAD
<<<<<<< HEAD
   "id": "80feb52d",
||||||| fa5abb84
   "id": "9db7d4cf",
=======
   "id": "89bc2abb",
>>>>>>> documentation-devel
||||||| 7e3277eb
   "id": "89bc2abb",
=======
   "id": "7fe23156",
>>>>>>> documentation-devel
||||||| 971bf77c
<<<<<<< HEAD
   "id": "80feb52d",
||||||| fa5abb84
   "id": "9db7d4cf",
=======
   "id": "89bc2abb",
>>>>>>> documentation-devel
=======
   "id": "bbd898f8",
>>>>>>> e1d793125c0aeb7e34aca09298b9c5b44973e4b3
   "metadata": {},
   "outputs": [],
   "source": [
    "mask_label <- bwlabel(mask_close)\n",
    "fts <- computeFeatures.shape(mask_label)"
   ]
  },
  {
   "cell_type": "code",
   "execution_count": null,
<<<<<<< HEAD
<<<<<<< HEAD
<<<<<<< HEAD
   "id": "e00243dc",
||||||| fa5abb84
   "id": "cf5a4684",
=======
   "id": "edbdeaab",
>>>>>>> documentation-devel
||||||| 7e3277eb
   "id": "edbdeaab",
=======
   "id": "c2b8a151",
>>>>>>> documentation-devel
||||||| 971bf77c
<<<<<<< HEAD
   "id": "e00243dc",
||||||| fa5abb84
   "id": "cf5a4684",
=======
   "id": "edbdeaab",
>>>>>>> documentation-devel
=======
   "id": "710f24a9",
>>>>>>> e1d793125c0aeb7e34aca09298b9c5b44973e4b3
   "metadata": {},
   "outputs": [],
   "source": [
    "head(fts)"
   ]
  },
  {
   "cell_type": "code",
   "execution_count": null,
<<<<<<< HEAD
<<<<<<< HEAD
<<<<<<< HEAD
   "id": "5043199b",
||||||| fa5abb84
   "id": "04110aa9",
=======
   "id": "bf25550e",
>>>>>>> documentation-devel
||||||| 7e3277eb
   "id": "bf25550e",
=======
   "id": "c396a9f8",
>>>>>>> documentation-devel
||||||| 971bf77c
<<<<<<< HEAD
   "id": "5043199b",
||||||| fa5abb84
   "id": "04110aa9",
=======
   "id": "bf25550e",
>>>>>>> documentation-devel
=======
   "id": "8f71eb6b",
>>>>>>> e1d793125c0aeb7e34aca09298b9c5b44973e4b3
   "metadata": {},
   "outputs": [],
   "source": [
    "summary(fts[,\"s.area\"])"
   ]
  },
  {
   "cell_type": "code",
   "execution_count": null,
<<<<<<< HEAD
<<<<<<< HEAD
<<<<<<< HEAD
   "id": "0269c1d5",
||||||| fa5abb84
   "id": "6883390f",
=======
   "id": "b8967267",
>>>>>>> documentation-devel
||||||| 7e3277eb
   "id": "b8967267",
=======
   "id": "9bff9d00",
>>>>>>> documentation-devel
||||||| 971bf77c
<<<<<<< HEAD
   "id": "0269c1d5",
||||||| fa5abb84
   "id": "6883390f",
=======
   "id": "b8967267",
>>>>>>> documentation-devel
=======
   "id": "d882b0f7",
>>>>>>> e1d793125c0aeb7e34aca09298b9c5b44973e4b3
   "metadata": {},
   "outputs": [],
   "source": [
    "max_ind <- which.max(fts[,\"s.area\"])\n",
    "inds <- which(as.array(mask_label) == max_ind, arr.ind = TRUE)\n",
    "head(inds)"
   ]
  },
  {
   "cell_type": "code",
   "execution_count": null,
<<<<<<< HEAD
<<<<<<< HEAD
<<<<<<< HEAD
   "id": "dd2d8fe0",
||||||| fa5abb84
   "id": "7c1480d5",
=======
   "id": "ac2cf2a0",
>>>>>>> documentation-devel
||||||| 7e3277eb
   "id": "ac2cf2a0",
=======
   "id": "91a42d89",
>>>>>>> documentation-devel
||||||| 971bf77c
<<<<<<< HEAD
   "id": "dd2d8fe0",
||||||| fa5abb84
   "id": "7c1480d5",
=======
   "id": "ac2cf2a0",
>>>>>>> documentation-devel
=======
   "id": "d8b076dc",
>>>>>>> e1d793125c0aeb7e34aca09298b9c5b44973e4b3
   "metadata": {},
   "outputs": [],
   "source": [
    "row_inds <- c(seq_len(min(inds[,1])-1), seq(max(inds[,1])+1, nrow(mask_label), by = 1))\n",
    "col_inds <- c(seq_len(min(inds[,2])-1), seq(max(inds[,2])+1, nrow(mask_label), by = 1))\n",
    "mask_label[row_inds, ] <- 0\n",
    "mask_label[,col_inds] <- 0\n",
    "display(mask_label)"
   ]
  },
  {
   "cell_type": "markdown",
<<<<<<< HEAD
<<<<<<< HEAD
<<<<<<< HEAD
   "id": "567e65d8",
||||||| fa5abb84
   "id": "cef8638c",
=======
   "id": "b4e3c70b",
>>>>>>> documentation-devel
||||||| 7e3277eb
   "id": "b4e3c70b",
=======
   "id": "179816ad",
>>>>>>> documentation-devel
||||||| 971bf77c
<<<<<<< HEAD
   "id": "567e65d8",
||||||| fa5abb84
   "id": "cef8638c",
=======
   "id": "b4e3c70b",
>>>>>>> documentation-devel
=======
   "id": "7ea7e844",
>>>>>>> e1d793125c0aeb7e34aca09298b9c5b44973e4b3
   "metadata": {
    "lines_to_next_cell": 0
   },
   "source": [
    "Then remove the small pieces that are debris."
   ]
  },
  {
   "cell_type": "code",
   "execution_count": null,
<<<<<<< HEAD
<<<<<<< HEAD
<<<<<<< HEAD
   "id": "d3e3678c",
||||||| fa5abb84
   "id": "4d9a134d",
=======
   "id": "599b3f29",
>>>>>>> documentation-devel
||||||| 7e3277eb
   "id": "599b3f29",
=======
   "id": "ec5e61da",
>>>>>>> documentation-devel
||||||| 971bf77c
<<<<<<< HEAD
   "id": "d3e3678c",
||||||| fa5abb84
   "id": "4d9a134d",
=======
   "id": "599b3f29",
>>>>>>> documentation-devel
=======
   "id": "2c936b17",
>>>>>>> e1d793125c0aeb7e34aca09298b9c5b44973e4b3
   "metadata": {},
   "outputs": [],
   "source": [
    "unique(as.vector(mask_label))"
   ]
  },
  {
   "cell_type": "code",
   "execution_count": null,
<<<<<<< HEAD
<<<<<<< HEAD
<<<<<<< HEAD
   "id": "c514287f",
||||||| fa5abb84
   "id": "e3f68769",
=======
   "id": "f41a2303",
>>>>>>> documentation-devel
||||||| 7e3277eb
   "id": "f41a2303",
=======
   "id": "4e5f4504",
>>>>>>> documentation-devel
||||||| 971bf77c
<<<<<<< HEAD
   "id": "c514287f",
||||||| fa5abb84
   "id": "e3f68769",
=======
   "id": "f41a2303",
>>>>>>> documentation-devel
=======
   "id": "944260fa",
>>>>>>> e1d793125c0aeb7e34aca09298b9c5b44973e4b3
   "metadata": {},
   "outputs": [],
   "source": [
    "fts2 <- fts[unique(as.vector(mask_label))[-1],]\n",
    "fts2 <- fts2[order(fts2[,\"s.area\"], decreasing = TRUE),]"
   ]
  },
  {
   "cell_type": "code",
   "execution_count": null,
<<<<<<< HEAD
<<<<<<< HEAD
<<<<<<< HEAD
   "id": "3d89b2bd",
||||||| fa5abb84
   "id": "e2360cb8",
=======
   "id": "282aa82f",
>>>>>>> documentation-devel
||||||| 7e3277eb
   "id": "282aa82f",
=======
   "id": "21595fd0",
>>>>>>> documentation-devel
||||||| 971bf77c
<<<<<<< HEAD
   "id": "3d89b2bd",
||||||| fa5abb84
   "id": "e2360cb8",
=======
   "id": "282aa82f",
>>>>>>> documentation-devel
=======
   "id": "4d4d4760",
>>>>>>> e1d793125c0aeb7e34aca09298b9c5b44973e4b3
   "metadata": {},
   "outputs": [],
   "source": [
    "plot(fts2[,1][-1], type = \"l\", ylab = \"Area\")"
   ]
  },
  {
   "cell_type": "code",
   "execution_count": null,
<<<<<<< HEAD
<<<<<<< HEAD
<<<<<<< HEAD
   "id": "055286a6",
||||||| fa5abb84
   "id": "b4619164",
=======
   "id": "d3a798f2",
>>>>>>> documentation-devel
||||||| 7e3277eb
   "id": "d3a798f2",
=======
   "id": "9bca1e34",
>>>>>>> documentation-devel
||||||| 971bf77c
<<<<<<< HEAD
   "id": "055286a6",
||||||| fa5abb84
   "id": "b4619164",
=======
   "id": "d3a798f2",
>>>>>>> documentation-devel
=======
   "id": "18f69091",
>>>>>>> e1d793125c0aeb7e34aca09298b9c5b44973e4b3
   "metadata": {},
   "outputs": [],
   "source": [
    "head(fts2, 10)"
   ]
  },
  {
   "cell_type": "markdown",
<<<<<<< HEAD
<<<<<<< HEAD
<<<<<<< HEAD
   "id": "c95c2a17",
||||||| fa5abb84
   "id": "75b22f38",
=======
   "id": "6355f094",
>>>>>>> documentation-devel
||||||| 7e3277eb
   "id": "6355f094",
=======
   "id": "de526424",
>>>>>>> documentation-devel
||||||| 971bf77c
<<<<<<< HEAD
   "id": "c95c2a17",
||||||| fa5abb84
   "id": "75b22f38",
=======
   "id": "6355f094",
>>>>>>> documentation-devel
=======
   "id": "9e631616",
>>>>>>> e1d793125c0aeb7e34aca09298b9c5b44973e4b3
   "metadata": {},
   "source": [
    "Object number 797 is a piece of debris at the bottom left. The other pieces with area over 100 pixels are tissue. Since debris really is small bits of tissue, so the boundary between debris and tissue can be blurry. Here the two are distinguished by morphology on the H&E image and proximity to the main tissue."
   ]
  },
  {
   "cell_type": "code",
   "execution_count": null,
<<<<<<< HEAD
<<<<<<< HEAD
<<<<<<< HEAD
   "id": "eed38acd",
||||||| fa5abb84
   "id": "5d9cc346",
=======
   "id": "ba969501",
>>>>>>> documentation-devel
||||||| 7e3277eb
   "id": "ba969501",
=======
   "id": "8eabb301",
>>>>>>> documentation-devel
||||||| 971bf77c
<<<<<<< HEAD
   "id": "eed38acd",
||||||| fa5abb84
   "id": "5d9cc346",
=======
   "id": "ba969501",
>>>>>>> documentation-devel
=======
   "id": "f00d37c7",
>>>>>>> e1d793125c0aeb7e34aca09298b9c5b44973e4b3
   "metadata": {},
   "outputs": [],
   "source": [
    "#display(mask_label == 797)"
   ]
  },
  {
   "cell_type": "markdown",
<<<<<<< HEAD
<<<<<<< HEAD
<<<<<<< HEAD
   "id": "3f7debec",
||||||| fa5abb84
   "id": "d5925283",
=======
   "id": "16f5bfd7",
>>>>>>> documentation-devel
||||||| 7e3277eb
   "id": "16f5bfd7",
=======
   "id": "746e163f",
>>>>>>> documentation-devel
||||||| 971bf77c
<<<<<<< HEAD
   "id": "3f7debec",
||||||| fa5abb84
   "id": "d5925283",
=======
   "id": "16f5bfd7",
>>>>>>> documentation-devel
=======
   "id": "dfb32f2f",
>>>>>>> e1d793125c0aeb7e34aca09298b9c5b44973e4b3
   "metadata": {
    "lines_to_next_cell": 0
   },
   "source": [
    "Here we remove the debris from the mask"
   ]
  },
  {
   "cell_type": "code",
   "execution_count": null,
<<<<<<< HEAD
<<<<<<< HEAD
<<<<<<< HEAD
   "id": "a984a3c8",
||||||| fa5abb84
   "id": "5a49a854",
=======
   "id": "ce4da2a4",
>>>>>>> documentation-devel
||||||| 7e3277eb
   "id": "ce4da2a4",
=======
   "id": "a046e905",
>>>>>>> documentation-devel
||||||| 971bf77c
<<<<<<< HEAD
   "id": "a984a3c8",
||||||| fa5abb84
   "id": "5a49a854",
=======
   "id": "ce4da2a4",
>>>>>>> documentation-devel
=======
   "id": "30a957db",
>>>>>>> e1d793125c0aeb7e34aca09298b9c5b44973e4b3
   "metadata": {},
   "outputs": [],
   "source": [
    "mask_label[mask_label %in% c(797, as.numeric(rownames(fts2)[fts2[,1] < 100]))] <- 0"
   ]
  },
  {
   "cell_type": "markdown",
<<<<<<< HEAD
<<<<<<< HEAD
<<<<<<< HEAD
   "id": "d3073d24",
||||||| fa5abb84
   "id": "fdb10a81",
=======
   "id": "2240438e",
>>>>>>> documentation-devel
||||||| 7e3277eb
   "id": "2240438e",
=======
   "id": "c02a0810",
>>>>>>> documentation-devel
||||||| 971bf77c
<<<<<<< HEAD
   "id": "d3073d24",
||||||| fa5abb84
   "id": "fdb10a81",
=======
   "id": "2240438e",
>>>>>>> documentation-devel
=======
   "id": "a78fb688",
>>>>>>> e1d793125c0aeb7e34aca09298b9c5b44973e4b3
   "metadata": {
    "lines_to_next_cell": 0
   },
   "source": [
    "Since most holes in the mask are faint regions of the tissue missed by thresholding, the holes will be filled"
   ]
  },
  {
   "cell_type": "code",
   "execution_count": null,
<<<<<<< HEAD
<<<<<<< HEAD
<<<<<<< HEAD
   "id": "83e903ad",
||||||| fa5abb84
   "id": "aaed5cce",
=======
   "id": "4acff661",
>>>>>>> documentation-devel
||||||| 7e3277eb
   "id": "4acff661",
=======
   "id": "32115c0a",
>>>>>>> documentation-devel
||||||| 971bf77c
<<<<<<< HEAD
   "id": "83e903ad",
||||||| fa5abb84
   "id": "aaed5cce",
=======
   "id": "4acff661",
>>>>>>> documentation-devel
=======
   "id": "6c27f385",
>>>>>>> e1d793125c0aeb7e34aca09298b9c5b44973e4b3
   "metadata": {},
   "outputs": [],
   "source": [
    "mask_label <- fillHull(mask_label)"
   ]
  },
  {
   "cell_type": "code",
   "execution_count": null,
<<<<<<< HEAD
<<<<<<< HEAD
<<<<<<< HEAD
   "id": "ec389bfb",
||||||| fa5abb84
   "id": "95089a79",
=======
   "id": "3ee89f49",
>>>>>>> documentation-devel
||||||| 7e3277eb
   "id": "3ee89f49",
=======
   "id": "e88a1938",
>>>>>>> documentation-devel
||||||| 971bf77c
<<<<<<< HEAD
   "id": "ec389bfb",
||||||| fa5abb84
   "id": "95089a79",
=======
   "id": "3ee89f49",
>>>>>>> documentation-devel
=======
   "id": "96cbfa28",
>>>>>>> e1d793125c0aeb7e34aca09298b9c5b44973e4b3
   "metadata": {},
   "outputs": [],
   "source": [
    "display(paintObjects(mask_label, img, col=c(\"red\", \"yellow\"), opac=c(1, 0.3)))"
   ]
  },
  {
   "cell_type": "markdown",
<<<<<<< HEAD
<<<<<<< HEAD
<<<<<<< HEAD
   "id": "277982c5",
||||||| fa5abb84
   "id": "d942213d",
=======
   "id": "77e0e593",
>>>>>>> documentation-devel
||||||| 7e3277eb
   "id": "77e0e593",
=======
   "id": "48447004",
>>>>>>> documentation-devel
||||||| 971bf77c
<<<<<<< HEAD
   "id": "277982c5",
||||||| fa5abb84
   "id": "d942213d",
=======
   "id": "77e0e593",
>>>>>>> documentation-devel
=======
   "id": "2ef64775",
>>>>>>> e1d793125c0aeb7e34aca09298b9c5b44973e4b3
   "metadata": {},
   "source": [
    "This segmentation process took a lot of manual oversight, in choosing the threshold, choosing kernel size and shape in the opening and closing operations, deciding whether to fill the holes, and deciding what is debris and what is tissue. \n",
    "\n",
    "# Convert tissue mask to polygon\n",
    "Now we have the tissue mask, which we will convert to polygon. While OpenCV can directly perform the conversion, as there isn't a comprehensive R wrapper of OpenCV, this conversion is more convoluted in R. We first convert the `Image` object to a raster as implemented in `terra`, the core R package for geospatial raster data. Then `terra` can convert the raster to polygon. As this image is downsized, the polygon will look quite pixelated. To mitigate this pixelation and save memory, the `ms_simplify()` function is used to simplify the polygon, only keeping a small proportion of all vertices. The `st_simplify()` function in `sf` can also simplify the polygons, but we can't specify what proportion of vertices to keep."
   ]
  },
  {
   "cell_type": "code",
   "execution_count": null,
<<<<<<< HEAD
<<<<<<< HEAD
<<<<<<< HEAD
   "id": "b37aa8ba",
||||||| fa5abb84
   "id": "b11433bf",
=======
   "id": "65ee44c0",
>>>>>>> documentation-devel
||||||| 7e3277eb
   "id": "65ee44c0",
=======
   "id": "5ac7ff4a",
>>>>>>> documentation-devel
||||||| 971bf77c
<<<<<<< HEAD
   "id": "b37aa8ba",
||||||| fa5abb84
   "id": "b11433bf",
=======
   "id": "65ee44c0",
>>>>>>> documentation-devel
=======
   "id": "91b8ce20",
>>>>>>> e1d793125c0aeb7e34aca09298b9c5b44973e4b3
   "metadata": {},
   "outputs": [],
   "source": [
    "raster2polygon <- function(seg, keep = 0.2) {\n",
    "    r <- rast(as.array(seg), extent = ext(0, nrow(seg), 0, ncol(seg))) |> \n",
    "        trans() |> flip()\n",
    "    r[r < 1] <- NA\n",
    "    contours <- st_as_sf(as.polygons(r, dissolve = TRUE))\n",
    "    simplified <- ms_simplify(contours, keep = keep)\n",
    "    list(full = contours,\n",
    "         simplified = simplified)\n",
    "}"
   ]
  },
  {
   "cell_type": "code",
   "execution_count": null,
<<<<<<< HEAD
<<<<<<< HEAD
<<<<<<< HEAD
   "id": "4641b331",
||||||| fa5abb84
   "id": "f3db4ba9",
=======
   "id": "a6705528",
>>>>>>> documentation-devel
||||||| 7e3277eb
   "id": "a6705528",
=======
   "id": "baa5fa7d",
>>>>>>> documentation-devel
||||||| 971bf77c
<<<<<<< HEAD
   "id": "4641b331",
||||||| fa5abb84
   "id": "f3db4ba9",
=======
   "id": "a6705528",
>>>>>>> documentation-devel
=======
   "id": "c245f4ee",
>>>>>>> e1d793125c0aeb7e34aca09298b9c5b44973e4b3
   "metadata": {},
   "outputs": [],
   "source": [
    "tb <- raster2polygon(mask_label)"
   ]
  },
  {
   "cell_type": "markdown",
<<<<<<< HEAD
<<<<<<< HEAD
<<<<<<< HEAD
   "id": "2c616d99",
||||||| fa5abb84
   "id": "87cd2b40",
=======
   "id": "18182cd1",
>>>>>>> documentation-devel
||||||| 7e3277eb
   "id": "18182cd1",
=======
   "id": "70edc8b5",
>>>>>>> documentation-devel
||||||| 971bf77c
<<<<<<< HEAD
   "id": "2c616d99",
||||||| fa5abb84
   "id": "87cd2b40",
=======
   "id": "18182cd1",
>>>>>>> documentation-devel
=======
   "id": "4daeb04e",
>>>>>>> e1d793125c0aeb7e34aca09298b9c5b44973e4b3
   "metadata": {
    "lines_to_next_cell": 0
   },
   "source": [
    "Before adding the geometry to the SFE object, it needs to be scaled to match the coordinates of the spots"
   ]
  },
  {
   "cell_type": "code",
   "execution_count": null,
<<<<<<< HEAD
<<<<<<< HEAD
<<<<<<< HEAD
   "id": "45cf7c01",
||||||| fa5abb84
   "id": "8bf4116d",
=======
   "id": "bab6a9a3",
>>>>>>> documentation-devel
||||||| 7e3277eb
   "id": "bab6a9a3",
=======
   "id": "430a9a5f",
>>>>>>> documentation-devel
||||||| 971bf77c
<<<<<<< HEAD
   "id": "45cf7c01",
||||||| fa5abb84
   "id": "8bf4116d",
=======
   "id": "bab6a9a3",
>>>>>>> documentation-devel
=======
   "id": "ecb0ecab",
>>>>>>> e1d793125c0aeb7e34aca09298b9c5b44973e4b3
   "metadata": {},
   "outputs": [],
   "source": [
    "scale_factors <- fromJSON(file = \"outs/spatial/scalefactors_json.json\")"
   ]
  },
  {
   "cell_type": "code",
   "execution_count": null,
<<<<<<< HEAD
<<<<<<< HEAD
<<<<<<< HEAD
   "id": "8cc679de",
||||||| fa5abb84
   "id": "b1cac234",
=======
   "id": "75c3d4d5",
>>>>>>> documentation-devel
||||||| 7e3277eb
   "id": "75c3d4d5",
=======
   "id": "bab0034e",
>>>>>>> documentation-devel
||||||| 971bf77c
<<<<<<< HEAD
   "id": "8cc679de",
||||||| fa5abb84
   "id": "b1cac234",
=======
   "id": "75c3d4d5",
>>>>>>> documentation-devel
=======
   "id": "22fc17af",
>>>>>>> e1d793125c0aeb7e34aca09298b9c5b44973e4b3
   "metadata": {},
   "outputs": [],
   "source": [
    "tb$simplified$geometry <- tb$simplified$geometry / scale_factors$tissue_hires_scalef"
   ]
  },
  {
   "cell_type": "code",
   "execution_count": null,
<<<<<<< HEAD
<<<<<<< HEAD
<<<<<<< HEAD
   "id": "1e55e1d4",
||||||| fa5abb84
   "id": "4c6f59d9",
=======
   "id": "e079d8be",
>>>>>>> documentation-devel
||||||| 7e3277eb
   "id": "e079d8be",
=======
   "id": "a7258b98",
>>>>>>> documentation-devel
||||||| 971bf77c
<<<<<<< HEAD
   "id": "1e55e1d4",
||||||| fa5abb84
   "id": "4c6f59d9",
=======
   "id": "e079d8be",
>>>>>>> documentation-devel
=======
   "id": "8c6a741f",
>>>>>>> e1d793125c0aeb7e34aca09298b9c5b44973e4b3
   "metadata": {},
   "outputs": [],
   "source": [
    "tissueBoundary(sfe) <- tb$simplified"
   ]
  },
  {
   "cell_type": "code",
   "execution_count": null,
<<<<<<< HEAD
<<<<<<< HEAD
<<<<<<< HEAD
   "id": "2268d90d",
||||||| fa5abb84
   "id": "f1eee18d",
=======
   "id": "9740c728",
>>>>>>> documentation-devel
||||||| 7e3277eb
   "id": "9740c728",
=======
   "id": "2e8ee142",
>>>>>>> documentation-devel
||||||| 971bf77c
<<<<<<< HEAD
   "id": "2268d90d",
||||||| fa5abb84
   "id": "f1eee18d",
=======
   "id": "9740c728",
>>>>>>> documentation-devel
=======
   "id": "0e027c69",
>>>>>>> e1d793125c0aeb7e34aca09298b9c5b44973e4b3
   "metadata": {},
   "outputs": [],
   "source": [
    "plotSpatialFeature(sfe, \"sum\", annotGeometryName = \"tissueBoundary\", \n",
    "                   annot_fixed = list(fill = NA, color = \"black\"),\n",
    "                   image_id = \"lowres\") +\n",
    "    theme_void()"
   ]
  },
  {
   "cell_type": "markdown",
<<<<<<< HEAD
<<<<<<< HEAD
<<<<<<< HEAD
   "id": "9602083c",
||||||| fa5abb84
   "id": "50e37af8",
=======
   "id": "66b5116a",
>>>>>>> documentation-devel
||||||| 7e3277eb
   "id": "66b5116a",
=======
   "id": "9e1e437f",
>>>>>>> documentation-devel
||||||| 971bf77c
<<<<<<< HEAD
   "id": "9602083c",
||||||| fa5abb84
   "id": "50e37af8",
=======
   "id": "66b5116a",
>>>>>>> documentation-devel
=======
   "id": "11feab91",
>>>>>>> e1d793125c0aeb7e34aca09298b9c5b44973e4b3
   "metadata": {},
   "source": [
    "The mouse olfactory bulb is conventionally plotted horizontally. The entire SFE object can be transposed in histologial space to make the olfactory bulb horizontal."
   ]
  },
  {
   "cell_type": "code",
   "execution_count": null,
<<<<<<< HEAD
<<<<<<< HEAD
<<<<<<< HEAD
   "id": "9aa8f2dd",
||||||| fa5abb84
   "id": "e3b7c342",
=======
   "id": "7df81b51",
>>>>>>> documentation-devel
||||||| 7e3277eb
   "id": "7df81b51",
=======
   "id": "25d5710f",
>>>>>>> documentation-devel
||||||| 971bf77c
<<<<<<< HEAD
   "id": "9aa8f2dd",
||||||| fa5abb84
   "id": "e3b7c342",
=======
   "id": "7df81b51",
>>>>>>> documentation-devel
=======
   "id": "a772bf3c",
>>>>>>> e1d793125c0aeb7e34aca09298b9c5b44973e4b3
   "metadata": {},
   "outputs": [],
   "source": [
    "sfe <- SpatialFeatureExperiment::transpose(sfe)"
   ]
  },
  {
   "cell_type": "code",
   "execution_count": null,
<<<<<<< HEAD
<<<<<<< HEAD
<<<<<<< HEAD
   "id": "1ebbbf9f",
||||||| fa5abb84
   "id": "312d9cb4",
=======
   "id": "e0515a71",
>>>>>>> documentation-devel
||||||| 7e3277eb
   "id": "e0515a71",
=======
   "id": "68f4d5f6",
>>>>>>> documentation-devel
||||||| 971bf77c
<<<<<<< HEAD
   "id": "1ebbbf9f",
||||||| fa5abb84
   "id": "312d9cb4",
=======
   "id": "e0515a71",
>>>>>>> documentation-devel
=======
   "id": "626b2f3e",
>>>>>>> e1d793125c0aeb7e34aca09298b9c5b44973e4b3
   "metadata": {},
   "outputs": [],
   "source": [
    "plotSpatialFeature(sfe, \"sum\", annotGeometryName = \"tissueBoundary\", \n",
    "                   annot_fixed = list(fill = NA, color = \"black\"),\n",
    "                   image_id = \"lowres\")"
   ]
  },
  {
   "cell_type": "markdown",
<<<<<<< HEAD
<<<<<<< HEAD
<<<<<<< HEAD
   "id": "09b376fa",
||||||| fa5abb84
   "id": "c66bb052",
=======
   "id": "3e64966b",
>>>>>>> documentation-devel
||||||| 7e3277eb
   "id": "3e64966b",
=======
   "id": "ff93896e",
>>>>>>> documentation-devel
||||||| 971bf77c
<<<<<<< HEAD
   "id": "09b376fa",
||||||| fa5abb84
   "id": "c66bb052",
=======
   "id": "3e64966b",
>>>>>>> documentation-devel
=======
   "id": "c9e3b4e7",
>>>>>>> e1d793125c0aeb7e34aca09298b9c5b44973e4b3
   "metadata": {},
   "source": [
    "Then we can use geometric operations to find which spots intersect tissue, which spots are covered by tissue, and how much of each spot intersects tissue."
   ]
  },
  {
   "cell_type": "code",
   "execution_count": null,
<<<<<<< HEAD
<<<<<<< HEAD
<<<<<<< HEAD
   "id": "ff0fc24a",
||||||| fa5abb84
   "id": "7e7a0be3",
=======
   "id": "baf72beb",
>>>>>>> documentation-devel
||||||| 7e3277eb
   "id": "baf72beb",
=======
   "id": "1a7a6871",
>>>>>>> documentation-devel
||||||| 971bf77c
<<<<<<< HEAD
   "id": "ff0fc24a",
||||||| fa5abb84
   "id": "7e7a0be3",
=======
   "id": "baf72beb",
>>>>>>> documentation-devel
=======
   "id": "ff3c6338",
>>>>>>> e1d793125c0aeb7e34aca09298b9c5b44973e4b3
   "metadata": {},
   "outputs": [],
   "source": [
    "# Which spots intersect tissue\n",
    "sfe$int_tissue <- annotPred(sfe, colGeometryName = \"spotPoly\", \n",
    "                            annotGeometryName = \"tissueBoundary\",\n",
    "                            pred = st_intersects)\n",
    "sfe$cov_tissue <- annotPred(sfe, colGeometryName = \"spotPoly\", \n",
    "                            annotGeometryName = \"tissueBoundary\",\n",
    "                            pred = st_covered_by)"
   ]
  },
  {
   "cell_type": "markdown",
<<<<<<< HEAD
<<<<<<< HEAD
<<<<<<< HEAD
   "id": "fc463643",
||||||| fa5abb84
   "id": "67058d5a",
=======
   "id": "040b9ef0",
>>>>>>> documentation-devel
||||||| 7e3277eb
   "id": "040b9ef0",
=======
   "id": "1a24bc27",
>>>>>>> documentation-devel
||||||| 971bf77c
<<<<<<< HEAD
   "id": "fc463643",
||||||| fa5abb84
   "id": "67058d5a",
=======
   "id": "040b9ef0",
>>>>>>> documentation-devel
=======
   "id": "941cbe43",
>>>>>>> e1d793125c0aeb7e34aca09298b9c5b44973e4b3
   "metadata": {
    "lines_to_next_cell": 0
   },
   "source": [
    "Discrepancies between Space Ranger's annotation and the annotation based on tissue segmentation here:"
   ]
  },
  {
   "cell_type": "code",
   "execution_count": null,
<<<<<<< HEAD
<<<<<<< HEAD
<<<<<<< HEAD
   "id": "597541b2",
||||||| fa5abb84
   "id": "692454e6",
=======
   "id": "e564af7f",
>>>>>>> documentation-devel
||||||| 7e3277eb
   "id": "e564af7f",
=======
   "id": "e6904b3d",
>>>>>>> documentation-devel
||||||| 971bf77c
<<<<<<< HEAD
   "id": "597541b2",
||||||| fa5abb84
   "id": "692454e6",
=======
   "id": "e564af7f",
>>>>>>> documentation-devel
=======
   "id": "85ffe561",
>>>>>>> e1d793125c0aeb7e34aca09298b9c5b44973e4b3
   "metadata": {},
   "outputs": [],
   "source": [
    "sfe$diff_sr <- case_when(sfe$in_tissue == sfe$int_tissue ~ \"same\",\n",
    "                         sfe$in_tissue & !sfe$int_tissue ~ \"Space Ranger\",\n",
    "                         sfe$int_tissue & !sfe$in_tissue ~ \"segmentation\") |> \n",
    "    factor(levels = c(\"Space Ranger\", \"same\", \"segmentation\"))\n",
    "plotSpatialFeature(sfe, \"diff_sr\", \n",
    "                   annotGeometryName = \"tissueBoundary\", \n",
    "                   annot_fixed = list(fill = NA, size = 0.5, color = \"black\")) +\n",
    "    scale_fill_brewer(type = \"div\", palette = 4)"
   ]
  },
  {
   "cell_type": "markdown",
<<<<<<< HEAD
<<<<<<< HEAD
<<<<<<< HEAD
   "id": "dd847b68",
||||||| fa5abb84
   "id": "c3e3b400",
=======
   "id": "a63f591a",
>>>>>>> documentation-devel
||||||| 7e3277eb
   "id": "a63f591a",
=======
   "id": "63434a3a",
>>>>>>> documentation-devel
||||||| 971bf77c
<<<<<<< HEAD
   "id": "dd847b68",
||||||| fa5abb84
   "id": "c3e3b400",
=======
   "id": "a63f591a",
>>>>>>> documentation-devel
=======
   "id": "693d833e",
>>>>>>> e1d793125c0aeb7e34aca09298b9c5b44973e4b3
   "metadata": {
    "lines_to_next_cell": 0
   },
   "source": [
    "Spots at the margin can intersect the tissue without being covered by it."
   ]
  },
  {
   "cell_type": "code",
   "execution_count": null,
<<<<<<< HEAD
<<<<<<< HEAD
<<<<<<< HEAD
   "id": "21199e8c",
||||||| fa5abb84
   "id": "d55b7e67",
=======
   "id": "06426a0d",
>>>>>>> documentation-devel
||||||| 7e3277eb
   "id": "06426a0d",
=======
   "id": "5cc087b3",
>>>>>>> documentation-devel
||||||| 971bf77c
<<<<<<< HEAD
   "id": "21199e8c",
||||||| fa5abb84
   "id": "d55b7e67",
=======
   "id": "06426a0d",
>>>>>>> documentation-devel
=======
   "id": "875da870",
>>>>>>> e1d793125c0aeb7e34aca09298b9c5b44973e4b3
   "metadata": {},
   "outputs": [],
   "source": [
    "sfe$diff_int_cov <- sfe$int_tissue != sfe$cov_tissue\n",
    "plotSpatialFeature(sfe, \"diff_int_cov\", \n",
    "                   annotGeometryName = \"tissueBoundary\", \n",
    "                   annot_fixed = list(fill = NA, size = 0.5, color = \"black\"))"
   ]
  },
  {
   "cell_type": "markdown",
<<<<<<< HEAD
<<<<<<< HEAD
<<<<<<< HEAD
   "id": "f026c232",
||||||| fa5abb84
   "id": "da6865d4",
=======
   "id": "4aa5e1aa",
>>>>>>> documentation-devel
||||||| 7e3277eb
   "id": "4aa5e1aa",
=======
   "id": "9f9f27c8",
>>>>>>> documentation-devel
||||||| 971bf77c
<<<<<<< HEAD
   "id": "f026c232",
||||||| fa5abb84
   "id": "da6865d4",
=======
   "id": "4aa5e1aa",
>>>>>>> documentation-devel
=======
   "id": "bbf0ab0b",
>>>>>>> e1d793125c0aeb7e34aca09298b9c5b44973e4b3
   "metadata": {},
   "source": [
    "We can also get the geometries of the intersections between the tissue and the Visium spots, and then calculate what percentage of each spot is in tissue. However, this percentage may not be very useful if the tissue segmentation is subject to error. This percentage may be more useful for pathologist annotated histological regions or objects such as nuclei and myofibers."
   ]
  },
  {
   "cell_type": "code",
   "execution_count": null,
<<<<<<< HEAD
<<<<<<< HEAD
<<<<<<< HEAD
   "id": "d1b7c2a8",
||||||| fa5abb84
   "id": "bd96d741",
=======
   "id": "6ed26460",
>>>>>>> documentation-devel
||||||| 7e3277eb
   "id": "6ed26460",
=======
   "id": "9dc16940",
>>>>>>> documentation-devel
||||||| 971bf77c
<<<<<<< HEAD
   "id": "d1b7c2a8",
||||||| fa5abb84
   "id": "bd96d741",
=======
   "id": "6ed26460",
>>>>>>> documentation-devel
=======
   "id": "23fba4c1",
>>>>>>> e1d793125c0aeb7e34aca09298b9c5b44973e4b3
   "metadata": {},
   "outputs": [],
   "source": [
    "spot_ints <- annotOp(sfe, colGeometryName = \"spotPoly\", \n",
    "                     annotGeometryName = \"tissueBoundary\", op = st_intersection)\n",
    "sfe$pct_tissue <- st_area(spot_ints) / st_area(spotPoly(sfe)) * 100"
   ]
  },
  {
   "cell_type": "markdown",
<<<<<<< HEAD
<<<<<<< HEAD
<<<<<<< HEAD
   "id": "64c106d2",
||||||| fa5abb84
   "id": "0fc2da76",
=======
   "id": "0e46e697",
>>>>>>> documentation-devel
||||||| 7e3277eb
   "id": "0e46e697",
=======
   "id": "494d15d2",
>>>>>>> documentation-devel
||||||| 971bf77c
<<<<<<< HEAD
   "id": "64c106d2",
||||||| fa5abb84
   "id": "0fc2da76",
=======
   "id": "0e46e697",
>>>>>>> documentation-devel
=======
   "id": "44c22c5a",
>>>>>>> e1d793125c0aeb7e34aca09298b9c5b44973e4b3
   "metadata": {
    "lines_to_next_cell": 0
   },
   "source": [
    "For spots that intersect tissue, does total counts relate to percentage of the spot in tissue?"
   ]
  },
  {
   "cell_type": "code",
   "execution_count": null,
<<<<<<< HEAD
<<<<<<< HEAD
<<<<<<< HEAD
   "id": "121ab7c1",
||||||| fa5abb84
   "id": "5adab58b",
=======
   "id": "c91b9712",
>>>>>>> documentation-devel
||||||| 7e3277eb
   "id": "c91b9712",
=======
   "id": "03579488",
>>>>>>> documentation-devel
||||||| 971bf77c
<<<<<<< HEAD
   "id": "121ab7c1",
||||||| fa5abb84
   "id": "5adab58b",
=======
   "id": "c91b9712",
>>>>>>> documentation-devel
=======
   "id": "d7e86961",
>>>>>>> e1d793125c0aeb7e34aca09298b9c5b44973e4b3
   "metadata": {},
   "outputs": [],
   "source": [
    "sfe_tissue <- sfe[,sfe$int_tissue]"
   ]
  },
  {
   "cell_type": "code",
   "execution_count": null,
<<<<<<< HEAD
<<<<<<< HEAD
<<<<<<< HEAD
   "id": "8542eb17",
||||||| fa5abb84
   "id": "a255b55f",
=======
   "id": "f3c12223",
>>>>>>> documentation-devel
||||||| 7e3277eb
   "id": "f3c12223",
=======
   "id": "16094c06",
>>>>>>> documentation-devel
||||||| 971bf77c
<<<<<<< HEAD
   "id": "8542eb17",
||||||| fa5abb84
   "id": "a255b55f",
=======
   "id": "f3c12223",
>>>>>>> documentation-devel
=======
   "id": "32a3ff11",
>>>>>>> e1d793125c0aeb7e34aca09298b9c5b44973e4b3
   "metadata": {},
   "outputs": [],
   "source": [
    "plotColData(sfe_tissue, x = \"pct_tissue\", y = \"sum\", color_by = \"diff_int_cov\")"
   ]
  },
  {
   "cell_type": "markdown",
<<<<<<< HEAD
<<<<<<< HEAD
<<<<<<< HEAD
   "id": "4539a4cd",
||||||| fa5abb84
   "id": "62408f0c",
=======
   "id": "17bfa081",
>>>>>>> documentation-devel
||||||| 7e3277eb
   "id": "17bfa081",
=======
   "id": "064c7ab0",
>>>>>>> documentation-devel
||||||| 971bf77c
<<<<<<< HEAD
   "id": "4539a4cd",
||||||| fa5abb84
   "id": "62408f0c",
=======
   "id": "17bfa081",
>>>>>>> documentation-devel
=======
   "id": "f77d3ed5",
>>>>>>> e1d793125c0aeb7e34aca09298b9c5b44973e4b3
   "metadata": {
    "lines_to_next_cell": 0
   },
   "source": [
    "Spots that are not fully covered by tissue have lower total UMI counts, which can be due to both that they are not fully in tissue and the cell types with lower total counts in the histological region near the edge, as some spots fully covered by tissue also have low UMI counts.\n",
    "\n",
    "# Spatial autocorrelation of QC metrics"
   ]
  },
  {
   "cell_type": "code",
   "execution_count": null,
<<<<<<< HEAD
<<<<<<< HEAD
<<<<<<< HEAD
   "id": "97006f52",
||||||| fa5abb84
   "id": "dbf02f4c",
=======
   "id": "be9e31c4",
>>>>>>> documentation-devel
||||||| 7e3277eb
   "id": "be9e31c4",
=======
   "id": "252dfe4c",
>>>>>>> documentation-devel
||||||| 971bf77c
<<<<<<< HEAD
   "id": "97006f52",
||||||| fa5abb84
   "id": "dbf02f4c",
=======
   "id": "be9e31c4",
>>>>>>> documentation-devel
=======
   "id": "1348ba73",
>>>>>>> e1d793125c0aeb7e34aca09298b9c5b44973e4b3
   "metadata": {},
   "outputs": [],
   "source": [
    "colGraph(sfe_tissue, \"visium\") <- findVisiumGraph(sfe_tissue)"
   ]
  },
  {
   "cell_type": "code",
   "execution_count": null,
<<<<<<< HEAD
<<<<<<< HEAD
<<<<<<< HEAD
   "id": "148a3af9",
||||||| fa5abb84
   "id": "75c94402",
=======
   "id": "6aeb25da",
>>>>>>> documentation-devel
||||||| 7e3277eb
   "id": "6aeb25da",
=======
   "id": "7025150c",
>>>>>>> documentation-devel
||||||| 971bf77c
<<<<<<< HEAD
   "id": "148a3af9",
||||||| fa5abb84
   "id": "75c94402",
=======
   "id": "6aeb25da",
>>>>>>> documentation-devel
=======
   "id": "06613448",
>>>>>>> e1d793125c0aeb7e34aca09298b9c5b44973e4b3
   "metadata": {},
   "outputs": [],
   "source": [
    "qc_features <- c(\"sum\", \"detected\", \"subsets_mito_percent\")"
   ]
  },
  {
   "cell_type": "code",
   "execution_count": null,
<<<<<<< HEAD
<<<<<<< HEAD
<<<<<<< HEAD
   "id": "029b439f",
||||||| fa5abb84
   "id": "0a73fe3e",
=======
   "id": "e05ecd34",
>>>>>>> documentation-devel
||||||| 7e3277eb
   "id": "e05ecd34",
=======
   "id": "0c0173e1",
>>>>>>> documentation-devel
||||||| 971bf77c
<<<<<<< HEAD
   "id": "029b439f",
||||||| fa5abb84
   "id": "0a73fe3e",
=======
   "id": "e05ecd34",
>>>>>>> documentation-devel
=======
   "id": "6dce98f3",
>>>>>>> e1d793125c0aeb7e34aca09298b9c5b44973e4b3
   "metadata": {},
   "outputs": [],
   "source": [
    "sfe_tissue <- colDataUnivariate(sfe_tissue, \"moran.mc\", qc_features, nsim = 200)"
   ]
  },
  {
   "cell_type": "code",
   "execution_count": null,
<<<<<<< HEAD
<<<<<<< HEAD
<<<<<<< HEAD
   "id": "49253d95",
||||||| fa5abb84
   "id": "1fd13d52",
=======
   "id": "e32b50e1",
>>>>>>> documentation-devel
||||||| 7e3277eb
   "id": "e32b50e1",
=======
   "id": "049adf23",
>>>>>>> documentation-devel
||||||| 971bf77c
<<<<<<< HEAD
   "id": "49253d95",
||||||| fa5abb84
   "id": "1fd13d52",
=======
   "id": "e32b50e1",
>>>>>>> documentation-devel
=======
   "id": "dc03ad8f",
>>>>>>> e1d793125c0aeb7e34aca09298b9c5b44973e4b3
   "metadata": {},
   "outputs": [],
   "source": [
    "plotMoranMC(sfe_tissue, qc_features)"
   ]
  },
  {
   "cell_type": "code",
   "execution_count": null,
<<<<<<< HEAD
<<<<<<< HEAD
<<<<<<< HEAD
   "id": "454131cc",
||||||| fa5abb84
   "id": "939a4a6e",
=======
   "id": "5fa8ea6c",
>>>>>>> documentation-devel
||||||| 7e3277eb
   "id": "5fa8ea6c",
=======
   "id": "3f0d7e1c",
>>>>>>> documentation-devel
||||||| 971bf77c
<<<<<<< HEAD
   "id": "454131cc",
||||||| fa5abb84
   "id": "939a4a6e",
=======
   "id": "5fa8ea6c",
>>>>>>> documentation-devel
=======
   "id": "4b57dd74",
>>>>>>> e1d793125c0aeb7e34aca09298b9c5b44973e4b3
   "metadata": {},
   "outputs": [],
   "source": [
    "sfe_tissue <- colDataUnivariate(sfe_tissue, \"sp.correlogram\", qc_features,\n",
    "                                order = 8)"
   ]
  },
  {
   "cell_type": "code",
   "execution_count": null,
<<<<<<< HEAD
<<<<<<< HEAD
<<<<<<< HEAD
   "id": "756d0af4",
||||||| fa5abb84
   "id": "1ea04e85",
=======
   "id": "a6d5a773",
>>>>>>> documentation-devel
||||||| 7e3277eb
   "id": "a6d5a773",
=======
   "id": "dc01c6ce",
>>>>>>> documentation-devel
||||||| 971bf77c
<<<<<<< HEAD
   "id": "756d0af4",
||||||| fa5abb84
   "id": "1ea04e85",
=======
   "id": "a6d5a773",
>>>>>>> documentation-devel
=======
   "id": "f36c63d2",
>>>>>>> e1d793125c0aeb7e34aca09298b9c5b44973e4b3
   "metadata": {},
   "outputs": [],
   "source": [
    "plotCorrelogram(sfe_tissue, qc_features)"
   ]
  },
  {
   "cell_type": "code",
   "execution_count": null,
<<<<<<< HEAD
<<<<<<< HEAD
<<<<<<< HEAD
   "id": "1bb4a0c5",
||||||| fa5abb84
   "id": "bffaaf0b",
=======
   "id": "d9cc3394",
>>>>>>> documentation-devel
||||||| 7e3277eb
   "id": "d9cc3394",
=======
   "id": "6e584942",
>>>>>>> documentation-devel
||||||| 971bf77c
<<<<<<< HEAD
   "id": "1bb4a0c5",
||||||| fa5abb84
   "id": "bffaaf0b",
=======
   "id": "d9cc3394",
>>>>>>> documentation-devel
=======
   "id": "3524e4a7",
>>>>>>> e1d793125c0aeb7e34aca09298b9c5b44973e4b3
   "metadata": {},
   "outputs": [],
   "source": [
    "sfe_tissue <- colDataUnivariate(sfe_tissue, \"localmoran\", qc_features)"
   ]
  },
  {
   "cell_type": "code",
   "execution_count": null,
<<<<<<< HEAD
<<<<<<< HEAD
<<<<<<< HEAD
   "id": "a417d8bf",
||||||| fa5abb84
   "id": "d578a689",
=======
   "id": "13de3197",
>>>>>>> documentation-devel
||||||| 7e3277eb
   "id": "13de3197",
=======
   "id": "bfb066d7",
>>>>>>> documentation-devel
||||||| 971bf77c
<<<<<<< HEAD
   "id": "a417d8bf",
||||||| fa5abb84
   "id": "d578a689",
=======
   "id": "13de3197",
>>>>>>> documentation-devel
=======
   "id": "e669f60d",
>>>>>>> e1d793125c0aeb7e34aca09298b9c5b44973e4b3
   "metadata": {
    "fig.height": 6,
    "fig.width": 8
   },
   "outputs": [],
   "source": [
    "plotLocalResult(sfe_tissue, \"localmoran\", qc_features, ncol = 2,\n",
    "                colGeometryName = \"spotPoly\", divergent = TRUE, \n",
    "                diverge_center = 0, image_id = \"lowres\", maxcell = 5e4)"
   ]
  },
  {
   "cell_type": "code",
   "execution_count": null,
<<<<<<< HEAD
<<<<<<< HEAD
<<<<<<< HEAD
   "id": "f8390120",
||||||| fa5abb84
   "id": "9d7ba0e3",
=======
   "id": "432fd583",
>>>>>>> documentation-devel
||||||| 7e3277eb
   "id": "432fd583",
=======
   "id": "178b87ec",
>>>>>>> documentation-devel
||||||| 971bf77c
<<<<<<< HEAD
   "id": "f8390120",
||||||| fa5abb84
   "id": "9d7ba0e3",
=======
   "id": "432fd583",
>>>>>>> documentation-devel
=======
   "id": "10cd66c2",
>>>>>>> e1d793125c0aeb7e34aca09298b9c5b44973e4b3
   "metadata": {},
   "outputs": [],
   "source": [
    "sfe_tissue <- colDataUnivariate(sfe_tissue, \"LOSH\", qc_features)"
   ]
  },
  {
   "cell_type": "code",
   "execution_count": null,
<<<<<<< HEAD
<<<<<<< HEAD
<<<<<<< HEAD
   "id": "fd0fdf23",
||||||| fa5abb84
   "id": "f4b15923",
=======
   "id": "4a7f0596",
>>>>>>> documentation-devel
||||||| 7e3277eb
   "id": "4a7f0596",
=======
   "id": "bb059ff6",
>>>>>>> documentation-devel
||||||| 971bf77c
<<<<<<< HEAD
   "id": "fd0fdf23",
||||||| fa5abb84
   "id": "f4b15923",
=======
   "id": "4a7f0596",
>>>>>>> documentation-devel
=======
   "id": "a83bca46",
>>>>>>> e1d793125c0aeb7e34aca09298b9c5b44973e4b3
   "metadata": {
    "fig.height": 6,
    "fig.width": 8
   },
   "outputs": [],
   "source": [
    "plotLocalResult(sfe_tissue, \"LOSH\", qc_features, ncol = 2,\n",
    "                colGeometryName = \"spotPoly\", image_id = \"lowres\", maxcell = 5e4)"
   ]
  },
  {
   "cell_type": "code",
   "execution_count": null,
<<<<<<< HEAD
<<<<<<< HEAD
<<<<<<< HEAD
   "id": "c5e26166",
||||||| fa5abb84
   "id": "053c1acd",
=======
   "id": "88daab0f",
>>>>>>> documentation-devel
||||||| 7e3277eb
   "id": "88daab0f",
=======
   "id": "8c4e1d2f",
>>>>>>> documentation-devel
||||||| 971bf77c
<<<<<<< HEAD
   "id": "c5e26166",
||||||| fa5abb84
   "id": "053c1acd",
=======
   "id": "88daab0f",
>>>>>>> documentation-devel
=======
   "id": "8b59c536",
>>>>>>> e1d793125c0aeb7e34aca09298b9c5b44973e4b3
   "metadata": {},
   "outputs": [],
   "source": [
    "sfe_tissue <- colDataUnivariate(sfe_tissue, \"moran.plot\", qc_features)"
   ]
  },
  {
   "cell_type": "code",
   "execution_count": null,
<<<<<<< HEAD
<<<<<<< HEAD
<<<<<<< HEAD
   "id": "d8d0f5ad",
||||||| fa5abb84
   "id": "2cb26a17",
=======
   "id": "0fb459d4",
>>>>>>> documentation-devel
||||||| 7e3277eb
   "id": "0fb459d4",
=======
   "id": "276e6715",
>>>>>>> documentation-devel
||||||| 971bf77c
<<<<<<< HEAD
   "id": "d8d0f5ad",
||||||| fa5abb84
   "id": "2cb26a17",
=======
   "id": "0fb459d4",
>>>>>>> documentation-devel
=======
   "id": "cc913c45",
>>>>>>> e1d793125c0aeb7e34aca09298b9c5b44973e4b3
   "metadata": {},
   "outputs": [],
   "source": [
    "moranPlot(sfe_tissue, \"subsets_mito_percent\")"
   ]
  },
  {
   "cell_type": "markdown",
<<<<<<< HEAD
<<<<<<< HEAD
<<<<<<< HEAD
   "id": "7dc652d2",
||||||| fa5abb84
   "id": "a10bac61",
=======
   "id": "307e6c04",
>>>>>>> documentation-devel
||||||| 7e3277eb
   "id": "307e6c04",
=======
   "id": "aae8cf20",
>>>>>>> documentation-devel
||||||| 971bf77c
<<<<<<< HEAD
   "id": "7dc652d2",
||||||| fa5abb84
   "id": "a10bac61",
=======
   "id": "307e6c04",
>>>>>>> documentation-devel
=======
   "id": "fff6f83b",
>>>>>>> e1d793125c0aeb7e34aca09298b9c5b44973e4b3
   "metadata": {
    "lines_to_next_cell": 0
   },
   "source": [
    "# Spatial autocorrelation of gene expression\n",
    "\n",
    "Normalize data with the `scran` method, and find highly variable genes"
   ]
  },
  {
   "cell_type": "code",
   "execution_count": null,
<<<<<<< HEAD
<<<<<<< HEAD
<<<<<<< HEAD
   "id": "d0fd71c8",
||||||| fa5abb84
   "id": "df6daf1d",
=======
   "id": "a5397bb5",
>>>>>>> documentation-devel
||||||| 7e3277eb
   "id": "a5397bb5",
=======
   "id": "aad837bc",
>>>>>>> documentation-devel
||||||| 971bf77c
<<<<<<< HEAD
   "id": "d0fd71c8",
||||||| fa5abb84
   "id": "df6daf1d",
=======
   "id": "a5397bb5",
>>>>>>> documentation-devel
=======
   "id": "4ba015f0",
>>>>>>> e1d793125c0aeb7e34aca09298b9c5b44973e4b3
   "metadata": {},
   "outputs": [],
   "source": [
    "#clusters <- quickCluster(sfe_tissue)\n",
    "#sfe_tissue <- computeSumFactors(sfe_tissue, clusters=clusters)\n",
    "#sfe_tissue <- sfe_tissue[, sizeFactors(sfe_tissue) > 0]\n",
    "sfe_tissue <- logNormCounts(sfe_tissue)"
   ]
  },
  {
   "cell_type": "code",
   "execution_count": null,
<<<<<<< HEAD
<<<<<<< HEAD
<<<<<<< HEAD
   "id": "94a877a2",
||||||| fa5abb84
   "id": "cd75ffd5",
=======
   "id": "68066681",
>>>>>>> documentation-devel
||||||| 7e3277eb
   "id": "68066681",
=======
   "id": "a2f34977",
>>>>>>> documentation-devel
||||||| 971bf77c
<<<<<<< HEAD
   "id": "94a877a2",
||||||| fa5abb84
   "id": "cd75ffd5",
=======
   "id": "68066681",
>>>>>>> documentation-devel
=======
   "id": "b62ee305",
>>>>>>> e1d793125c0aeb7e34aca09298b9c5b44973e4b3
   "metadata": {},
   "outputs": [],
   "source": [
    "dec <- modelGeneVar(sfe_tissue)\n",
    "hvgs <- getTopHVGs(dec, n = 2000)"
   ]
  },
  {
   "cell_type": "markdown",
<<<<<<< HEAD
<<<<<<< HEAD
<<<<<<< HEAD
   "id": "a6bdfa68",
||||||| fa5abb84
   "id": "384e8b4d",
=======
   "id": "c0f030b6",
>>>>>>> documentation-devel
||||||| 7e3277eb
   "id": "c0f030b6",
=======
   "id": "9174e127",
>>>>>>> documentation-devel
||||||| 971bf77c
<<<<<<< HEAD
   "id": "a6bdfa68",
||||||| fa5abb84
   "id": "384e8b4d",
=======
   "id": "c0f030b6",
>>>>>>> documentation-devel
=======
   "id": "9af80fc4",
>>>>>>> e1d793125c0aeb7e34aca09298b9c5b44973e4b3
   "metadata": {
    "lines_to_next_cell": 0
   },
   "source": [
    "Find Moran's I for all highly variable genes:"
   ]
  },
  {
   "cell_type": "code",
   "execution_count": null,
<<<<<<< HEAD
<<<<<<< HEAD
<<<<<<< HEAD
   "id": "afecb323",
||||||| fa5abb84
   "id": "6dbcff35",
=======
   "id": "c328ff6b",
>>>>>>> documentation-devel
||||||| 7e3277eb
   "id": "c328ff6b",
=======
   "id": "591aafd2",
>>>>>>> documentation-devel
||||||| 971bf77c
<<<<<<< HEAD
   "id": "afecb323",
||||||| fa5abb84
   "id": "6dbcff35",
=======
   "id": "c328ff6b",
>>>>>>> documentation-devel
=======
   "id": "d652d678",
>>>>>>> e1d793125c0aeb7e34aca09298b9c5b44973e4b3
   "metadata": {},
   "outputs": [],
   "source": [
    "sfe_tissue <- runMoransI(sfe_tissue, features = hvgs, BPPARAM = MulticoreParam(2))"
   ]
  },
  {
   "cell_type": "code",
   "execution_count": null,
<<<<<<< HEAD
<<<<<<< HEAD
<<<<<<< HEAD
   "id": "4d49fc4e",
||||||| fa5abb84
   "id": "6ddead1f",
=======
   "id": "e78b624b",
>>>>>>> documentation-devel
||||||| 7e3277eb
   "id": "e78b624b",
=======
   "id": "3986da76",
>>>>>>> documentation-devel
||||||| 971bf77c
<<<<<<< HEAD
   "id": "4d49fc4e",
||||||| fa5abb84
   "id": "6ddead1f",
=======
   "id": "e78b624b",
>>>>>>> documentation-devel
=======
   "id": "c5d52008",
>>>>>>> e1d793125c0aeb7e34aca09298b9c5b44973e4b3
   "metadata": {},
   "outputs": [],
   "source": [
    "plotRowDataHistogram(sfe_tissue, \"moran_sample01\")"
   ]
  },
  {
   "cell_type": "markdown",
<<<<<<< HEAD
<<<<<<< HEAD
<<<<<<< HEAD
   "id": "791fefca",
||||||| fa5abb84
   "id": "a25f669a",
=======
   "id": "2a92b5cc",
>>>>>>> documentation-devel
||||||| 7e3277eb
   "id": "2a92b5cc",
=======
   "id": "07fa4c8f",
>>>>>>> documentation-devel
||||||| 971bf77c
<<<<<<< HEAD
   "id": "791fefca",
||||||| fa5abb84
   "id": "a25f669a",
=======
   "id": "2a92b5cc",
>>>>>>> documentation-devel
=======
   "id": "118b7a30",
>>>>>>> e1d793125c0aeb7e34aca09298b9c5b44973e4b3
   "metadata": {
    "lines_to_next_cell": 0
   },
   "source": [
    "The vast majority of genes have positive Moran's I. Here we'll find the genes with the highest Moran's I:"
   ]
  },
  {
   "cell_type": "code",
   "execution_count": null,
<<<<<<< HEAD
<<<<<<< HEAD
<<<<<<< HEAD
   "id": "4479396d",
||||||| fa5abb84
   "id": "6b300b26",
=======
   "id": "9583f0b5",
>>>>>>> documentation-devel
||||||| 7e3277eb
   "id": "9583f0b5",
=======
   "id": "cee5ff35",
>>>>>>> documentation-devel
||||||| 971bf77c
<<<<<<< HEAD
   "id": "4479396d",
||||||| fa5abb84
   "id": "6b300b26",
=======
   "id": "9583f0b5",
>>>>>>> documentation-devel
=======
   "id": "5264b34b",
>>>>>>> e1d793125c0aeb7e34aca09298b9c5b44973e4b3
   "metadata": {},
   "outputs": [],
   "source": [
    "top_moran <- rownames(sfe_tissue)[order(rowData(sfe_tissue)$moran_sample01, \n",
    "                                        decreasing = TRUE)[1:9]]"
   ]
  },
  {
   "cell_type": "markdown",
<<<<<<< HEAD
<<<<<<< HEAD
<<<<<<< HEAD
   "id": "f5899156",
||||||| fa5abb84
   "id": "1d22090d",
=======
   "id": "2ac970cb",
>>>>>>> documentation-devel
||||||| 7e3277eb
   "id": "2ac970cb",
=======
   "id": "3e5dbc67",
>>>>>>> documentation-devel
||||||| 971bf77c
<<<<<<< HEAD
   "id": "f5899156",
||||||| fa5abb84
   "id": "1d22090d",
=======
   "id": "2ac970cb",
>>>>>>> documentation-devel
=======
   "id": "acaf3423",
>>>>>>> e1d793125c0aeb7e34aca09298b9c5b44973e4b3
   "metadata": {
    "lines_to_next_cell": 0
   },
   "source": [
    "We can use the [gget info](https://pachterlab.github.io/gget/info.html) module from the [gget](https://pachterlab.github.io/gget/) package to get additional information on these genes, such as their descriptions, synonyms, transcripts and more from a collection of reference databases including [Ensembl](https://ensembl.org/), [UniProt](https://www.uniprot.org/) and [NCBI](https://www.ncbi.nlm.nih.gov/) Here, we are showing their gene descriptions from [NCBI](https://www.ncbi.nlm.nih.gov/):"
   ]
  },
  {
   "cell_type": "code",
   "execution_count": null,
<<<<<<< HEAD
<<<<<<< HEAD
<<<<<<< HEAD
   "id": "27c23102",
||||||| fa5abb84
   "id": "a156d558",
=======
   "id": "167ae0c5",
>>>>>>> documentation-devel
||||||| 7e3277eb
   "id": "167ae0c5",
=======
   "id": "dd4676df",
>>>>>>> documentation-devel
||||||| 971bf77c
<<<<<<< HEAD
   "id": "27c23102",
||||||| fa5abb84
   "id": "a156d558",
=======
   "id": "167ae0c5",
>>>>>>> documentation-devel
=======
   "id": "824ee87f",
>>>>>>> e1d793125c0aeb7e34aca09298b9c5b44973e4b3
   "metadata": {},
   "outputs": [],
   "source": [
    "gget_info <- gget$info(top_moran)\n",
    "\n",
    "rownames(gget_info) <- gget_info$primary_gene_name\n",
    "select(gget_info, ncbi_description)"
   ]
  },
  {
   "cell_type": "markdown",
<<<<<<< HEAD
<<<<<<< HEAD
<<<<<<< HEAD
   "id": "89d7f934",
||||||| fa5abb84
   "id": "822ce3d2",
=======
   "id": "2b9f9422",
>>>>>>> documentation-devel
||||||| 7e3277eb
   "id": "2b9f9422",
=======
   "id": "838ca108",
>>>>>>> documentation-devel
||||||| 971bf77c
<<<<<<< HEAD
   "id": "89d7f934",
||||||| fa5abb84
   "id": "822ce3d2",
=======
   "id": "2b9f9422",
>>>>>>> documentation-devel
=======
   "id": "128c1875",
>>>>>>> e1d793125c0aeb7e34aca09298b9c5b44973e4b3
   "metadata": {
    "lines_to_next_cell": 0
   },
   "source": [
    "Plot the genes with the highest Moran's I:"
   ]
  },
  {
   "cell_type": "code",
   "execution_count": null,
<<<<<<< HEAD
<<<<<<< HEAD
<<<<<<< HEAD
   "id": "2f25cf18",
||||||| fa5abb84
   "id": "68086c58",
=======
   "id": "b6372761",
>>>>>>> documentation-devel
||||||| 7e3277eb
   "id": "b6372761",
=======
   "id": "64530ea2",
>>>>>>> documentation-devel
||||||| 971bf77c
<<<<<<< HEAD
   "id": "2f25cf18",
||||||| fa5abb84
   "id": "68086c58",
=======
   "id": "b6372761",
>>>>>>> documentation-devel
=======
   "id": "1516a402",
>>>>>>> e1d793125c0aeb7e34aca09298b9c5b44973e4b3
   "metadata": {
    "fig.height": 5,
    "fig.width": 9
   },
   "outputs": [],
   "source": [
    "plotSpatialFeature(sfe_tissue, top_moran, ncol = 3, image_id = \"lowres\",\n",
    "                   maxcell = 5e4, swap_rownames = \"symbol\")"
   ]
  },
  {
   "cell_type": "markdown",
<<<<<<< HEAD
<<<<<<< HEAD
<<<<<<< HEAD
   "id": "c88404a6",
||||||| fa5abb84
   "id": "dbab32b9",
=======
   "id": "9a7b3aaa",
>>>>>>> documentation-devel
||||||| 7e3277eb
   "id": "9a7b3aaa",
=======
   "id": "6649d984",
>>>>>>> documentation-devel
||||||| 971bf77c
<<<<<<< HEAD
   "id": "c88404a6",
||||||| fa5abb84
   "id": "dbab32b9",
=======
   "id": "9a7b3aaa",
>>>>>>> documentation-devel
=======
   "id": "016d6803",
>>>>>>> e1d793125c0aeb7e34aca09298b9c5b44973e4b3
   "metadata": {
    "lines_to_next_cell": 0
   },
   "source": [
    "Here global Moran's I seems to be more about tissue structure. \n",
    "\n",
    "Some genes have negative Moran's I that might not be statistically significant:"
   ]
  },
  {
   "cell_type": "code",
   "execution_count": null,
<<<<<<< HEAD
<<<<<<< HEAD
<<<<<<< HEAD
   "id": "55250d0a",
||||||| fa5abb84
   "id": "3fe046d1",
=======
   "id": "4ea4b441",
>>>>>>> documentation-devel
||||||| 7e3277eb
   "id": "4ea4b441",
=======
   "id": "2e6811ae",
>>>>>>> documentation-devel
||||||| 971bf77c
<<<<<<< HEAD
   "id": "55250d0a",
||||||| fa5abb84
   "id": "3fe046d1",
=======
   "id": "4ea4b441",
>>>>>>> documentation-devel
=======
   "id": "0c00087f",
>>>>>>> e1d793125c0aeb7e34aca09298b9c5b44973e4b3
   "metadata": {},
   "outputs": [],
   "source": [
    "neg_moran <- rownames(sfe_tissue)[order(rowData(sfe_tissue)$moran_sample01, \n",
    "                                        decreasing = FALSE)[1:9]]"
   ]
  },
  {
   "cell_type": "code",
   "execution_count": null,
<<<<<<< HEAD
<<<<<<< HEAD
<<<<<<< HEAD
   "id": "338a4587",
||||||| fa5abb84
   "id": "214947f5",
=======
   "id": "3f0bbfbb",
>>>>>>> documentation-devel
||||||| 7e3277eb
   "id": "3f0bbfbb",
=======
   "id": "cc2a164e",
>>>>>>> documentation-devel
||||||| 971bf77c
<<<<<<< HEAD
   "id": "338a4587",
||||||| fa5abb84
   "id": "214947f5",
=======
   "id": "3f0bbfbb",
>>>>>>> documentation-devel
=======
   "id": "25daf4c1",
>>>>>>> e1d793125c0aeb7e34aca09298b9c5b44973e4b3
   "metadata": {},
   "outputs": [],
   "source": [
    "# Display NCBI descriptions for these genes\n",
    "gget_info_neg <- gget$info(neg_moran)\n",
    "\n",
    "rownames(gget_info_neg) <- gget_info_neg$primary_gene_name\n",
    "select(gget_info_neg, ncbi_description)"
   ]
  },
  {
   "cell_type": "code",
   "execution_count": null,
<<<<<<< HEAD
<<<<<<< HEAD
<<<<<<< HEAD
   "id": "db521104",
||||||| fa5abb84
   "id": "8bcc3090",
=======
   "id": "d8b4715a",
>>>>>>> documentation-devel
||||||| 7e3277eb
   "id": "d8b4715a",
=======
   "id": "7c2f6773",
>>>>>>> documentation-devel
||||||| 971bf77c
<<<<<<< HEAD
   "id": "db521104",
||||||| fa5abb84
   "id": "8bcc3090",
=======
   "id": "d8b4715a",
>>>>>>> documentation-devel
=======
   "id": "6dff7849",
>>>>>>> e1d793125c0aeb7e34aca09298b9c5b44973e4b3
   "metadata": {
    "fig.height": 5,
    "fig.width": 9
   },
   "outputs": [],
   "source": [
    "plotSpatialFeature(sfe_tissue, neg_moran, ncol = 3, swap_rownames = \"symbol\",\n",
    "                   image_id = \"lowres\", maxcell = 5e4)"
   ]
  },
  {
   "cell_type": "code",
   "execution_count": null,
<<<<<<< HEAD
<<<<<<< HEAD
<<<<<<< HEAD
   "id": "5188b01a",
||||||| fa5abb84
   "id": "7274971c",
=======
   "id": "88f42ae9",
>>>>>>> documentation-devel
||||||| 7e3277eb
   "id": "88f42ae9",
=======
   "id": "2cc3b199",
>>>>>>> documentation-devel
||||||| 971bf77c
<<<<<<< HEAD
   "id": "5188b01a",
||||||| fa5abb84
   "id": "7274971c",
=======
   "id": "88f42ae9",
>>>>>>> documentation-devel
=======
   "id": "7710ab4c",
>>>>>>> e1d793125c0aeb7e34aca09298b9c5b44973e4b3
   "metadata": {},
   "outputs": [],
   "source": [
    "sfe_tissue <- runUnivariate(sfe_tissue, \"moran.mc\", neg_moran, \n",
    "                            colGraphName = \"visium\", nsim = 200, alternative = \"less\")"
   ]
  },
  {
   "cell_type": "code",
   "execution_count": null,
<<<<<<< HEAD
<<<<<<< HEAD
<<<<<<< HEAD
   "id": "5c0bbe39",
||||||| fa5abb84
   "id": "4b9ec178",
=======
   "id": "3fc25ece",
>>>>>>> documentation-devel
||||||| 7e3277eb
   "id": "3fc25ece",
=======
   "id": "16b28288",
>>>>>>> documentation-devel
||||||| 971bf77c
<<<<<<< HEAD
   "id": "5c0bbe39",
||||||| fa5abb84
   "id": "4b9ec178",
=======
   "id": "3fc25ece",
>>>>>>> documentation-devel
=======
   "id": "4ed0dcb4",
>>>>>>> e1d793125c0aeb7e34aca09298b9c5b44973e4b3
   "metadata": {},
   "outputs": [],
   "source": [
    "plotMoranMC(sfe_tissue, neg_moran, swap_rownames = \"symbol\")"
   ]
  },
  {
   "cell_type": "code",
   "execution_count": null,
<<<<<<< HEAD
<<<<<<< HEAD
<<<<<<< HEAD
   "id": "145c08c2",
||||||| fa5abb84
   "id": "bf823b5e",
=======
   "id": "637027d8",
>>>>>>> documentation-devel
||||||| 7e3277eb
   "id": "637027d8",
=======
   "id": "aba14167",
>>>>>>> documentation-devel
||||||| 971bf77c
<<<<<<< HEAD
   "id": "145c08c2",
||||||| fa5abb84
   "id": "bf823b5e",
=======
   "id": "637027d8",
>>>>>>> documentation-devel
=======
   "id": "be1f273e",
>>>>>>> e1d793125c0aeb7e34aca09298b9c5b44973e4b3
   "metadata": {},
   "outputs": [],
   "source": [
    "rowData(sfe_tissue)[neg_moran, c(\"moran_sample01\", \"moran.mc_p.value_sample01\")]"
   ]
  },
  {
   "cell_type": "markdown",
<<<<<<< HEAD
<<<<<<< HEAD
<<<<<<< HEAD
   "id": "b4f49257",
||||||| fa5abb84
   "id": "7bc48a60",
=======
   "id": "48f8f24c",
>>>>>>> documentation-devel
||||||| 7e3277eb
   "id": "48f8f24c",
=======
   "id": "236d6d16",
>>>>>>> documentation-devel
||||||| 971bf77c
<<<<<<< HEAD
   "id": "b4f49257",
||||||| fa5abb84
   "id": "7bc48a60",
=======
   "id": "48f8f24c",
>>>>>>> documentation-devel
=======
   "id": "09fb2050",
>>>>>>> e1d793125c0aeb7e34aca09298b9c5b44973e4b3
   "metadata": {},
   "source": [
    "As there are 2000 highly variable genes and 2000 tests, these would no longer be significant after correcting for multiple testing. \n",
    "\n",
    "Does global Moran's I relate to gene expression level?"
   ]
  },
  {
   "cell_type": "code",
   "execution_count": null,
<<<<<<< HEAD
<<<<<<< HEAD
<<<<<<< HEAD
   "id": "4a1f2b9d",
||||||| fa5abb84
   "id": "dd8cf6dc",
=======
   "id": "fac3801a",
>>>>>>> documentation-devel
||||||| 7e3277eb
   "id": "fac3801a",
=======
   "id": "3ee34d46",
>>>>>>> documentation-devel
||||||| 971bf77c
<<<<<<< HEAD
   "id": "4a1f2b9d",
||||||| fa5abb84
   "id": "dd8cf6dc",
=======
   "id": "fac3801a",
>>>>>>> documentation-devel
=======
   "id": "cdc28a26",
>>>>>>> e1d793125c0aeb7e34aca09298b9c5b44973e4b3
   "metadata": {},
   "outputs": [],
   "source": [
    "sfe_tissue <- addPerFeatureQCMetrics(sfe_tissue)\n",
    "names(rowData(sfe_tissue))"
   ]
  },
  {
   "cell_type": "code",
   "execution_count": null,
<<<<<<< HEAD
<<<<<<< HEAD
<<<<<<< HEAD
   "id": "52642ed6",
||||||| fa5abb84
   "id": "5a201747",
=======
   "id": "538696f0",
>>>>>>> documentation-devel
||||||| 7e3277eb
   "id": "538696f0",
=======
   "id": "ccec1d1e",
>>>>>>> documentation-devel
||||||| 971bf77c
<<<<<<< HEAD
   "id": "52642ed6",
||||||| fa5abb84
   "id": "5a201747",
=======
   "id": "538696f0",
>>>>>>> documentation-devel
=======
   "id": "3fa6dec4",
>>>>>>> e1d793125c0aeb7e34aca09298b9c5b44973e4b3
   "metadata": {},
   "outputs": [],
   "source": [
    "plotRowData(sfe_tissue, x = \"mean\", y = \"moran_sample01\") +\n",
    "    scale_x_log10() +\n",
    "    annotation_logticks(sides = \"b\") +\n",
    "    geom_density2d()"
   ]
  },
  {
   "cell_type": "markdown",
<<<<<<< HEAD
<<<<<<< HEAD
<<<<<<< HEAD
   "id": "a88d0a87",
||||||| fa5abb84
   "id": "6b80bb97",
=======
   "id": "62430f48",
>>>>>>> documentation-devel
||||||| 7e3277eb
   "id": "62430f48",
=======
   "id": "9b3f54cd",
>>>>>>> documentation-devel
||||||| 971bf77c
<<<<<<< HEAD
   "id": "a88d0a87",
||||||| fa5abb84
   "id": "6b80bb97",
=======
   "id": "62430f48",
>>>>>>> documentation-devel
=======
   "id": "344ce726",
>>>>>>> e1d793125c0aeb7e34aca09298b9c5b44973e4b3
   "metadata": {
    "lines_to_next_cell": 0
   },
   "source": [
    "Genes that are more highly expressed overall tend to have higher Moran's I. \n",
    "\n",
    "# Apply spatial analysis methods to gene expression space\n",
    "Spatial statistics that require a spatial neighborhood graph can also be applied to the k nearest neighbor graph not in histological space but in gene expression space. This is done in more depth in [this vignette](https://pachterlab.github.io/voyager/articles/nonspatial.html)."
   ]
  },
  {
   "cell_type": "code",
   "execution_count": null,
<<<<<<< HEAD
<<<<<<< HEAD
<<<<<<< HEAD
   "id": "34cf8512",
||||||| fa5abb84
   "id": "ee84c8d0",
=======
   "id": "d850788d",
>>>>>>> documentation-devel
||||||| 7e3277eb
   "id": "d850788d",
=======
   "id": "2bc3d4d2",
>>>>>>> documentation-devel
||||||| 971bf77c
<<<<<<< HEAD
   "id": "34cf8512",
||||||| fa5abb84
   "id": "ee84c8d0",
=======
   "id": "d850788d",
>>>>>>> documentation-devel
=======
   "id": "4e5287ec",
>>>>>>> e1d793125c0aeb7e34aca09298b9c5b44973e4b3
   "metadata": {},
   "outputs": [],
   "source": [
    "sfe_tissue <- runPCA(sfe_tissue, ncomponents = 30, subset_row = hvgs,\n",
    "                     scale = TRUE) # scale as in Seurat"
   ]
  },
  {
   "cell_type": "code",
   "execution_count": null,
<<<<<<< HEAD
<<<<<<< HEAD
<<<<<<< HEAD
   "id": "73931f75",
||||||| fa5abb84
   "id": "8055a87c",
=======
   "id": "c9010867",
>>>>>>> documentation-devel
||||||| 7e3277eb
   "id": "c9010867",
=======
   "id": "ad229d70",
>>>>>>> documentation-devel
||||||| 971bf77c
<<<<<<< HEAD
   "id": "73931f75",
||||||| fa5abb84
   "id": "8055a87c",
=======
   "id": "c9010867",
>>>>>>> documentation-devel
=======
   "id": "c2e2ef91",
>>>>>>> e1d793125c0aeb7e34aca09298b9c5b44973e4b3
   "metadata": {},
   "outputs": [],
   "source": [
    "foo <- findKNN(reducedDim(sfe_tissue, \"PCA\")[,1:10], k=10, BNPARAM=AnnoyParam())\n",
    "# Split by row\n",
    "foo_nb <- asplit(foo$index, 1)\n",
    "dmat <- 1/foo$distance\n",
    "# Row normalize the weights\n",
    "dmat <- sweep(dmat, 1, rowSums(dmat), FUN = \"/\")\n",
    "glist <- asplit(dmat, 1)\n",
    "# Sort based on index\n",
    "ord <- lapply(foo_nb, order)\n",
    "foo_nb <- lapply(seq_along(foo_nb), function(i) foo_nb[[i]][ord[[i]]])\n",
    "class(foo_nb) <- \"nb\"\n",
    "glist <- lapply(seq_along(glist), function(i) glist[[i]][ord[[i]]])\n",
    "\n",
    "listw <- list(style = \"W\",\n",
    "              neighbours = foo_nb,\n",
    "              weights = glist)\n",
    "class(listw) <- \"listw\"\n",
    "attr(listw, \"region.id\") <- colnames(sfe_tissue)"
   ]
  },
  {
   "cell_type": "code",
   "execution_count": null,
<<<<<<< HEAD
<<<<<<< HEAD
<<<<<<< HEAD
   "id": "a2a09b5a",
||||||| fa5abb84
   "id": "dcfb5ffb",
=======
   "id": "cbf0fc71",
>>>>>>> documentation-devel
||||||| 7e3277eb
   "id": "cbf0fc71",
=======
   "id": "a31d8aa6",
>>>>>>> documentation-devel
||||||| 971bf77c
<<<<<<< HEAD
   "id": "a2a09b5a",
||||||| fa5abb84
   "id": "dcfb5ffb",
=======
   "id": "cbf0fc71",
>>>>>>> documentation-devel
=======
   "id": "f080c7e8",
>>>>>>> e1d793125c0aeb7e34aca09298b9c5b44973e4b3
   "metadata": {},
   "outputs": [],
   "source": [
    "colGraph(sfe_tissue, \"knn10\") <- listw"
   ]
  },
  {
   "cell_type": "code",
   "execution_count": null,
<<<<<<< HEAD
<<<<<<< HEAD
<<<<<<< HEAD
   "id": "43ab04d0",
||||||| fa5abb84
   "id": "e196512c",
=======
   "id": "2a6b3021",
>>>>>>> documentation-devel
||||||| 7e3277eb
   "id": "2a6b3021",
=======
   "id": "90ec2ace",
>>>>>>> documentation-devel
||||||| 971bf77c
<<<<<<< HEAD
   "id": "43ab04d0",
||||||| fa5abb84
   "id": "e196512c",
=======
   "id": "2a6b3021",
>>>>>>> documentation-devel
=======
   "id": "9f4989f0",
>>>>>>> e1d793125c0aeb7e34aca09298b9c5b44973e4b3
   "metadata": {},
   "outputs": [],
   "source": [
    "sfe_tissue <- runMoransI(sfe_tissue, features = hvgs, BPPARAM = MulticoreParam(2),\n",
    "                         colGraphName = \"knn10\", name = \"moran_ns\")"
   ]
  },
  {
   "cell_type": "markdown",
<<<<<<< HEAD
<<<<<<< HEAD
<<<<<<< HEAD
   "id": "8b9ac88f",
||||||| fa5abb84
   "id": "0fd9a4ef",
=======
   "id": "ca34db0c",
>>>>>>> documentation-devel
||||||| 7e3277eb
   "id": "ca34db0c",
=======
   "id": "0af2021e",
>>>>>>> documentation-devel
||||||| 971bf77c
<<<<<<< HEAD
   "id": "8b9ac88f",
||||||| fa5abb84
   "id": "0fd9a4ef",
=======
   "id": "ca34db0c",
>>>>>>> documentation-devel
=======
   "id": "42df8045",
>>>>>>> e1d793125c0aeb7e34aca09298b9c5b44973e4b3
   "metadata": {
    "lines_to_next_cell": 0
   },
   "source": [
    "Here we store the results in \"moran_ns\", not to be confused with spatial Moran's I results.\n",
    "\n",
    "These are the genes that tend to be more similar to their neighbors in the 10 nearest neighbor graph in PCA space for gene expression rather than in histological space:"
   ]
  },
  {
   "cell_type": "code",
   "execution_count": null,
<<<<<<< HEAD
<<<<<<< HEAD
<<<<<<< HEAD
   "id": "0ebab0e0",
||||||| fa5abb84
   "id": "69b79171",
=======
   "id": "14ef7761",
>>>>>>> documentation-devel
||||||| 7e3277eb
   "id": "14ef7761",
=======
   "id": "791e7bcb",
>>>>>>> documentation-devel
||||||| 971bf77c
<<<<<<< HEAD
   "id": "0ebab0e0",
||||||| fa5abb84
   "id": "69b79171",
=======
   "id": "14ef7761",
>>>>>>> documentation-devel
=======
   "id": "af139120",
>>>>>>> e1d793125c0aeb7e34aca09298b9c5b44973e4b3
   "metadata": {},
   "outputs": [],
   "source": [
    "top_moran2 <- rownames(sfe_tissue)[order(rowData(sfe_tissue)$moran_ns_sample01, \n",
    "                                        decreasing = TRUE)[1:9]]"
   ]
  },
  {
   "cell_type": "code",
   "execution_count": null,
<<<<<<< HEAD
<<<<<<< HEAD
<<<<<<< HEAD
   "id": "83ba5613",
||||||| fa5abb84
   "id": "752d6e62",
=======
   "id": "b3bcd50e",
>>>>>>> documentation-devel
||||||| 7e3277eb
   "id": "b3bcd50e",
=======
   "id": "2e367de1",
>>>>>>> documentation-devel
||||||| 971bf77c
<<<<<<< HEAD
   "id": "83ba5613",
||||||| fa5abb84
   "id": "752d6e62",
=======
   "id": "b3bcd50e",
>>>>>>> documentation-devel
=======
   "id": "09812370",
>>>>>>> e1d793125c0aeb7e34aca09298b9c5b44973e4b3
   "metadata": {},
   "outputs": [],
   "source": [
    "# Display NCBI descriptions for these genes\n",
    "gget_info2 <- gget$info(top_moran2)\n",
    "\n",
    "rownames(gget_info2) <- gget_info2$primary_gene_name\n",
    "select(gget_info2, ncbi_description)"
   ]
  },
  {
   "cell_type": "code",
   "execution_count": null,
<<<<<<< HEAD
<<<<<<< HEAD
<<<<<<< HEAD
   "id": "115edb1d",
||||||| fa5abb84
   "id": "eff60253",
=======
   "id": "0bc00379",
>>>>>>> documentation-devel
||||||| 7e3277eb
   "id": "0bc00379",
=======
   "id": "1bd82dca",
>>>>>>> documentation-devel
||||||| 971bf77c
<<<<<<< HEAD
   "id": "115edb1d",
||||||| fa5abb84
   "id": "eff60253",
=======
   "id": "0bc00379",
>>>>>>> documentation-devel
=======
   "id": "4436e531",
>>>>>>> e1d793125c0aeb7e34aca09298b9c5b44973e4b3
   "metadata": {
    "fig.height": 6,
    "fig.width": 9
   },
   "outputs": [],
   "source": [
    "plotSpatialFeature(sfe_tissue, top_moran2, ncol = 3, swap_rownames = \"symbol\",\n",
    "                   image_id = \"lowres\", maxcell = 5e4)"
   ]
  },
  {
   "cell_type": "markdown",
<<<<<<< HEAD
<<<<<<< HEAD
<<<<<<< HEAD
   "id": "0d21d997",
||||||| fa5abb84
   "id": "fb77c84a",
=======
   "id": "8a2438a7",
>>>>>>> documentation-devel
||||||| 7e3277eb
   "id": "8a2438a7",
=======
   "id": "dfba8723",
>>>>>>> documentation-devel
||||||| 971bf77c
<<<<<<< HEAD
   "id": "0d21d997",
||||||| fa5abb84
   "id": "fb77c84a",
=======
   "id": "8a2438a7",
>>>>>>> documentation-devel
=======
   "id": "b5445a92",
>>>>>>> e1d793125c0aeb7e34aca09298b9c5b44973e4b3
   "metadata": {},
   "source": [
    "Although this Moran's I was not computed in histological space, these genes with the highest Moran's I in PCA space also show spatial structure, as different cell types reside in different spatial regions.\n",
    "\n",
    "# Session info"
   ]
  },
  {
   "cell_type": "code",
   "execution_count": null,
<<<<<<< HEAD
<<<<<<< HEAD
<<<<<<< HEAD
   "id": "4850994e",
||||||| fa5abb84
   "id": "27626975",
=======
   "id": "c58a4124",
>>>>>>> documentation-devel
||||||| 7e3277eb
   "id": "c58a4124",
=======
   "id": "59d493c3",
>>>>>>> documentation-devel
||||||| 971bf77c
<<<<<<< HEAD
   "id": "4850994e",
||||||| fa5abb84
   "id": "27626975",
=======
   "id": "c58a4124",
>>>>>>> documentation-devel
=======
   "id": "41e640ff",
>>>>>>> e1d793125c0aeb7e34aca09298b9c5b44973e4b3
   "metadata": {
    "lines_to_next_cell": 0
   },
   "outputs": [],
   "source": [
    "sessionInfo()"
   ]
  },
  {
   "cell_type": "markdown",
<<<<<<< HEAD
<<<<<<< HEAD
<<<<<<< HEAD
   "id": "77dfa044",
||||||| fa5abb84
   "id": "27f0b548",
=======
   "id": "41635d94",
>>>>>>> documentation-devel
||||||| 7e3277eb
   "id": "41635d94",
=======
   "id": "91ea1064",
>>>>>>> documentation-devel
||||||| 971bf77c
<<<<<<< HEAD
   "id": "77dfa044",
||||||| fa5abb84
   "id": "27f0b548",
=======
   "id": "41635d94",
>>>>>>> documentation-devel
=======
   "id": "0e19bb69",
>>>>>>> e1d793125c0aeb7e34aca09298b9c5b44973e4b3
   "metadata": {},
   "source": []
  }
 ],
 "metadata": {
  "kernelspec": {
   "display_name": "R",
   "language": "R",
   "name": "ir"
  }
 },
 "nbformat": 4,
 "nbformat_minor": 5
}
