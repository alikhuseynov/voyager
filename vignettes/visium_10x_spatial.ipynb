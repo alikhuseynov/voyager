{
 "cells": [
  {
   "cell_type": "raw",
<<<<<<< HEAD
<<<<<<< HEAD
   "id": "62c5c6b3",
||||||| 6a30bf1
   "id": "5aba9eb5",
=======
   "id": "d97dbb85",
>>>>>>> documentation-devel
||||||| d28b18c
   "id": "d97dbb85",
=======
   "id": "a314733d",
>>>>>>> documentation-devel
   "metadata": {},
   "source": [
    "---\n",
    "title: \"Spatial analysis of 10X example Visium dataset\"\n",
    "author: \"Lambda Moses\"\n",
    "date: \"`r Sys.Date()`\"\n",
    "output: \n",
    "  html_document:\n",
    "  toc: true\n",
    "  toc_float:\n",
    "    collapsed: false\n",
    "  toc_depth: 3\n",
    "bibliography: ref.bib\n",
    "vignette: >\n",
    "  %\\VignetteIndexEntry{visium_10x_spatial}\n",
    "  %\\VignetteEngine{knitr::rmarkdown}\n",
    "  %\\VignetteEncoding{UTF-8}\n",
    "---"
   ]
  },
  {
   "cell_type": "code",
   "execution_count": null,
<<<<<<< HEAD
<<<<<<< HEAD
   "id": "e7d1ed70",
||||||| 6a30bf1
   "id": "ebc9e0c7",
=======
   "id": "f103dfc3",
>>>>>>> documentation-devel
||||||| d28b18c
   "id": "f103dfc3",
=======
   "id": "b96a1610",
>>>>>>> documentation-devel
   "metadata": {
    "tags": [
     "remove_cell"
    ]
   },
   "outputs": [],
   "source": [
    "knitr::opts_chunk$set(\n",
    "  collapse = TRUE,\n",
    "  comment = \"#>\"\n",
    ")"
   ]
  },
  {
   "cell_type": "code",
   "execution_count": null,
<<<<<<< HEAD
<<<<<<< HEAD
   "id": "d70b72b8",
||||||| 6a30bf1
   "id": "0bb14576",
=======
   "id": "c8e0b0ae",
>>>>>>> documentation-devel
||||||| d28b18c
   "id": "c8e0b0ae",
=======
   "id": "5aaab21d",
>>>>>>> documentation-devel
   "metadata": {
    "eval": false,
    "tags": [
     "remove_cell"
    ]
   },
   "outputs": [],
   "source": [
    "# Install Google Colab dependencies\n",
    "# Note: this can take 30+ minutes (many of the dependencies include C++ code, which needs to be compiled)\n",
    "\n",
    "# First install `sf`, `ragg` and `textshaping` and their system dependencies:\n",
    "system(\"apt-get -y update && apt-get install -y  libudunits2-dev libgdal-dev libgeos-dev libproj-dev libharfbuzz-dev libfribidi-dev\")\n",
    "install.packages(\"sf\")\n",
    "install.packages(\"textshaping\")\n",
    "install.packages(\"ragg\")\n",
    "\n",
    "# Install system dependencies of some other R packages that Voyager either imports or suggests:\n",
    "system(\"apt-get install -y libfribidi-dev libcairo2-dev libmagick++-dev\")\n",
    "\n",
    "# Install Voyager from Bioconductor:\n",
    "install.packages(\"BiocManager\")\n",
    "BiocManager::install(version = \"3.17\", ask = FALSE, update = FALSE, Ncpus = 2)\n",
    "BiocManager::install(\"scater\")\n",
    "system.time(\n",
    "  BiocManager::install(\"Voyager\", dependencies = TRUE, Ncpus = 2, update = FALSE)\n",
    ")\n",
    "\n",
    "# Additional dependencies for this notebook\n",
    "system(\"apt-get install -y libfftw3-dev libprotobuf-dev\")\n",
    "BiocManager::install(\"EBImage\")\n",
    "BiocManager::install(\"terra\")\n",
    "BiocManager::install(\"rmapshaper\")\n",
    "install.packages(\"reticulate\")\n",
    "\n",
    "packageVersion(\"Voyager\")"
   ]
  },
  {
   "cell_type": "markdown",
<<<<<<< HEAD
<<<<<<< HEAD
   "id": "d4e2dbe0",
||||||| 6a30bf1
   "id": "b14ce38d",
=======
   "id": "77a324f4",
>>>>>>> documentation-devel
||||||| d28b18c
   "id": "77a324f4",
=======
   "id": "e1fcc818",
>>>>>>> documentation-devel
   "metadata": {
    "lines_to_next_cell": 0
   },
   "source": [
    "# Introduction\n",
    "In a [more introductory vignette](https://pachterlab.github.io/voyager/articles/visium_10x.html), we performed basic non-spatial analyses on a mouse olfactory bulb Visium dataset from the 10X website. In this vignette, we perform spatial analyses in histological space as well as in gene expression space. \n",
    "\n",
    "Here we load the packages used in this vignette:"
   ]
  },
  {
   "cell_type": "code",
   "execution_count": null,
<<<<<<< HEAD
<<<<<<< HEAD
   "id": "e7abe55c",
||||||| 6a30bf1
   "id": "13ff617b",
=======
   "id": "ab8abf34",
>>>>>>> documentation-devel
||||||| d28b18c
   "id": "ab8abf34",
=======
   "id": "35e2d7e1",
>>>>>>> documentation-devel
   "metadata": {},
   "outputs": [],
   "source": [
    "library(Voyager)\n",
    "library(SpatialFeatureExperiment)\n",
    "library(SingleCellExperiment)\n",
    "library(ggplot2)\n",
    "library(scater)\n",
    "library(scuttle)\n",
    "library(scran)\n",
    "library(stringr)\n",
    "library(patchwork)\n",
    "library(bluster)\n",
    "library(rjson)\n",
    "library(EBImage)\n",
    "library(terra)\n",
    "library(rlang)\n",
    "library(sf)\n",
    "library(rmapshaper)\n",
    "library(dplyr)\n",
    "library(BiocParallel)\n",
    "library(BiocNeighbors)\n",
    "library(reticulate)\n",
    "theme_set(theme_bw())"
   ]
  },
  {
   "cell_type": "code",
   "execution_count": null,
<<<<<<< HEAD
<<<<<<< HEAD
   "id": "05a066d2",
||||||| 6a30bf1
   "id": "61e7319e",
=======
   "id": "f8ecb289",
>>>>>>> documentation-devel
||||||| d28b18c
   "id": "f8ecb289",
=======
   "id": "8c8bc2a3",
>>>>>>> documentation-devel
   "metadata": {},
   "outputs": [],
   "source": [
    "# Specify Python version to use gget\n",
    "PY_PATH <- system(\"which python\", intern = TRUE)\n",
    "use_python(PY_PATH)\n",
    "py_config()"
   ]
  },
  {
   "cell_type": "code",
   "execution_count": null,
<<<<<<< HEAD
<<<<<<< HEAD
   "id": "554ecf85",
||||||| 6a30bf1
   "id": "d827538f",
=======
   "id": "931565cb",
>>>>>>> documentation-devel
||||||| d28b18c
   "id": "931565cb",
=======
   "id": "5ae12e8a",
>>>>>>> documentation-devel
   "metadata": {
    "eval": false,
    "tags": [
     "remove_cell"
    ]
   },
   "outputs": [],
   "source": [
    "system(\"pip3 install gget\")"
   ]
  },
  {
   "cell_type": "code",
   "execution_count": null,
<<<<<<< HEAD
<<<<<<< HEAD
   "id": "44932b82",
||||||| 6a30bf1
   "id": "67cd3914",
=======
   "id": "39612be1",
>>>>>>> documentation-devel
||||||| d28b18c
   "id": "39612be1",
=======
   "id": "9c0babc7",
>>>>>>> documentation-devel
   "metadata": {},
   "outputs": [],
   "source": [
    "gget <- import(\"gget\")"
   ]
  },
  {
   "cell_type": "markdown",
<<<<<<< HEAD
<<<<<<< HEAD
   "id": "f6512f05",
||||||| 6a30bf1
   "id": "2c9895e5",
=======
   "id": "a3acf345",
>>>>>>> documentation-devel
||||||| d28b18c
   "id": "a3acf345",
=======
   "id": "0c35bb9b",
>>>>>>> documentation-devel
   "metadata": {
    "lines_to_next_cell": 0
   },
   "source": [
    "Here we download the data from the 10X website. This is the unfiltered gene count matrix:"
   ]
  },
  {
   "cell_type": "code",
   "execution_count": null,
<<<<<<< HEAD
<<<<<<< HEAD
   "id": "ba347554",
||||||| 6a30bf1
   "id": "ed1b68c5",
=======
   "id": "be583a6c",
>>>>>>> documentation-devel
||||||| d28b18c
   "id": "be583a6c",
=======
   "id": "e6568c80",
>>>>>>> documentation-devel
   "metadata": {},
   "outputs": [],
   "source": [
    "if (!file.exists(\"visium_ob.tar.gz\"))\n",
    "    download.file(\"https://cf.10xgenomics.com/samples/spatial-exp/2.0.0/Visium_Mouse_Olfactory_Bulb/Visium_Mouse_Olfactory_Bulb_raw_feature_bc_matrix.tar.gz\", \n",
    "                  destfile = \"visium_ob.tar.gz\")"
   ]
  },
  {
   "cell_type": "markdown",
<<<<<<< HEAD
<<<<<<< HEAD
   "id": "50981318",
||||||| 6a30bf1
   "id": "2ec1a636",
=======
   "id": "2ece6415",
>>>>>>> documentation-devel
||||||| d28b18c
   "id": "2ece6415",
=======
   "id": "1318548e",
>>>>>>> documentation-devel
   "metadata": {
    "lines_to_next_cell": 0
   },
   "source": [
    "This is the spatial information:"
   ]
  },
  {
   "cell_type": "code",
   "execution_count": null,
<<<<<<< HEAD
<<<<<<< HEAD
   "id": "a3b731b3",
||||||| 6a30bf1
   "id": "52b9dcdc",
=======
   "id": "7f64dc44",
>>>>>>> documentation-devel
||||||| d28b18c
   "id": "7f64dc44",
=======
   "id": "4b515298",
>>>>>>> documentation-devel
   "metadata": {},
   "outputs": [],
   "source": [
    "if (!file.exists(\"visium_ob_spatial.tar.gz\"))\n",
    "    download.file(\"https://cf.10xgenomics.com/samples/spatial-exp/2.0.0/Visium_Mouse_Olfactory_Bulb/Visium_Mouse_Olfactory_Bulb_spatial.tar.gz\", \n",
    "                  destfile = \"visium_ob_spatial.tar.gz\")"
   ]
  },
  {
   "cell_type": "markdown",
<<<<<<< HEAD
<<<<<<< HEAD
   "id": "6fc51fac",
||||||| 6a30bf1
   "id": "29a8df80",
=======
   "id": "6931b908",
>>>>>>> documentation-devel
||||||| d28b18c
   "id": "6931b908",
=======
   "id": "5d21fb7c",
>>>>>>> documentation-devel
   "metadata": {
    "lines_to_next_cell": 0
   },
   "source": [
    "Decompress the downloaded content:"
   ]
  },
  {
   "cell_type": "code",
   "execution_count": null,
<<<<<<< HEAD
<<<<<<< HEAD
   "id": "a8b0a7aa",
||||||| 6a30bf1
   "id": "b3542e39",
=======
   "id": "73793360",
>>>>>>> documentation-devel
||||||| d28b18c
   "id": "73793360",
=======
   "id": "5e750965",
>>>>>>> documentation-devel
   "metadata": {},
   "outputs": [],
   "source": [
    "if (!dir.exists(\"outs\")) {\n",
    "    dir.create(\"outs\")\n",
    "    system(\"tar -xvf visium_ob.tar.gz -C outs\")\n",
    "    system(\"tar -xvf visium_ob_spatial.tar.gz -C outs\")\n",
    "}"
   ]
  },
  {
   "cell_type": "markdown",
<<<<<<< HEAD
<<<<<<< HEAD
   "id": "cfe7f629",
||||||| 6a30bf1
   "id": "03c3a899",
=======
   "id": "38dd0a89",
>>>>>>> documentation-devel
||||||| d28b18c
   "id": "38dd0a89",
=======
   "id": "e3ae983c",
>>>>>>> documentation-devel
   "metadata": {
    "lines_to_next_cell": 0
   },
   "source": [
    "Contents of the `outs` directory as from Space Ranger is explained in [the introductory vignette](https://pachterlab.github.io/voyager/articles/visium_10x.html).\n",
    "\n",
    "Here we read the data into R as an SFE object."
   ]
  },
  {
   "cell_type": "code",
   "execution_count": null,
<<<<<<< HEAD
<<<<<<< HEAD
   "id": "f27ad638",
||||||| 6a30bf1
   "id": "2ad1d24e",
=======
   "id": "ed782c2e",
>>>>>>> documentation-devel
||||||| d28b18c
   "id": "ed782c2e",
=======
   "id": "e5cf9516",
>>>>>>> documentation-devel
   "metadata": {},
   "outputs": [],
   "source": [
    "(sfe <- read10xVisiumSFE(samples = \".\", type = \"sparse\", data = \"raw\"))"
   ]
  },
  {
   "cell_type": "markdown",
<<<<<<< HEAD
<<<<<<< HEAD
   "id": "11e92564",
||||||| 6a30bf1
   "id": "b102ee81",
=======
   "id": "05b18bda",
>>>>>>> documentation-devel
||||||| d28b18c
   "id": "05b18bda",
=======
   "id": "970b64e5",
>>>>>>> documentation-devel
   "metadata": {},
   "source": [
    "Here we add QC metrics, already plotted in the introductory vignette."
   ]
  },
  {
   "cell_type": "code",
   "execution_count": null,
<<<<<<< HEAD
<<<<<<< HEAD
   "id": "08b635c9",
||||||| 6a30bf1
   "id": "c35f9d56",
=======
   "id": "359affb7",
>>>>>>> documentation-devel
||||||| d28b18c
   "id": "359affb7",
=======
   "id": "895c9dac",
>>>>>>> documentation-devel
   "metadata": {},
   "outputs": [],
   "source": [
    "is_mt <- str_detect(rowData(sfe)$symbol, \"^mt-\")"
   ]
  },
  {
   "cell_type": "code",
   "execution_count": null,
<<<<<<< HEAD
<<<<<<< HEAD
   "id": "4aa41778",
||||||| 6a30bf1
   "id": "89efb152",
=======
   "id": "d42fb989",
>>>>>>> documentation-devel
||||||| d28b18c
   "id": "d42fb989",
=======
   "id": "72c95cac",
>>>>>>> documentation-devel
   "metadata": {},
   "outputs": [],
   "source": [
    "sfe <- addPerCellQCMetrics(sfe, subsets = list(mito = is_mt))"
   ]
  },
  {
   "cell_type": "markdown",
<<<<<<< HEAD
<<<<<<< HEAD
   "id": "c4ef722f",
||||||| 6a30bf1
   "id": "ad2fc2c4",
=======
   "id": "66acb805",
>>>>>>> documentation-devel
||||||| d28b18c
   "id": "66acb805",
=======
   "id": "bdb3a5b0",
>>>>>>> documentation-devel
   "metadata": {},
   "source": [
    "# Tissue segmentation\n",
    "While Space Ranger can automatically detect which spots are in tissue and the Loupe browser can be used to manually annotate which spots are in tissue, it may be interesting to get the tissue outline polygon, so we would know how much each spot overlaps with the tissue and plot the outline. The tissue boundary polygon can be manually annotated with QuPath, which saves the polygon as a GeoJSON and can be directly read into R with `st_read()`. \n",
    "\n",
    "Or we can segment the tissue computationally. R generally isn't great for image processing, but there are some packages that can perform the segmentation, such as [`EBImage`](https://bioconductor.org/packages/release/bioc/html/EBImage.html), which is based on its own in house C and C++ code, and [`imager`](https://github.com/dahtah/imager/), which is based on [`CImg`](http://cimg.eu/).\n",
    "\n",
    "Here we don't have the full resolution image. We will perform tissue segmentation on the high resolution downsampled image and then scale it to make the coordinates of the tissue boundary match those of the spots. The `EBImage` package is used here. Compared to OpenCV, `EBImage` is slow on the full resolution image, but should be fine here for the downsized image."
   ]
  },
  {
   "cell_type": "code",
   "execution_count": null,
<<<<<<< HEAD
<<<<<<< HEAD
   "id": "d34e76ac",
||||||| 6a30bf1
   "id": "eb6b646a",
=======
   "id": "6eb1455f",
>>>>>>> documentation-devel
||||||| d28b18c
   "id": "6eb1455f",
=======
   "id": "44c2fcfd",
>>>>>>> documentation-devel
   "metadata": {},
   "outputs": [],
   "source": [
    "img <- readImage(\"outs/spatial/tissue_hires_image.png\")\n",
    "display(img)"
   ]
  },
  {
   "cell_type": "markdown",
<<<<<<< HEAD
<<<<<<< HEAD
   "id": "41755ebb",
||||||| 6a30bf1
   "id": "9d939b4c",
=======
   "id": "99eeca0a",
>>>>>>> documentation-devel
||||||| d28b18c
   "id": "99eeca0a",
=======
   "id": "e5a18d0b",
>>>>>>> documentation-devel
   "metadata": {
    "lines_to_next_cell": 0
   },
   "source": [
    "When rendered as a static webpage, the image is static, but when run interactively, this image will be shown in an interactive widget where you can zoom and pan.\n",
    "\n",
    "Here we show the RGB channels separately"
   ]
  },
  {
   "cell_type": "code",
   "execution_count": null,
<<<<<<< HEAD
<<<<<<< HEAD
   "id": "197f2b3c",
||||||| 6a30bf1
   "id": "56666c30",
=======
   "id": "d94d9e14",
>>>>>>> documentation-devel
||||||| d28b18c
   "id": "d94d9e14",
=======
   "id": "9022a601",
>>>>>>> documentation-devel
   "metadata": {},
   "outputs": [],
   "source": [
    "img2 <- img\n",
    "colorMode(img2) <- Grayscale\n",
    "display(img2, all = TRUE)"
   ]
  },
  {
   "cell_type": "code",
   "execution_count": null,
<<<<<<< HEAD
<<<<<<< HEAD
   "id": "159930bf",
||||||| 6a30bf1
   "id": "62480423",
=======
   "id": "2072c481",
>>>>>>> documentation-devel
||||||| d28b18c
   "id": "2072c481",
=======
   "id": "7e62cf12",
>>>>>>> documentation-devel
   "metadata": {},
   "outputs": [],
   "source": [
    "hist(img)"
   ]
  },
  {
   "cell_type": "markdown",
<<<<<<< HEAD
<<<<<<< HEAD
   "id": "48e1ad60",
||||||| 6a30bf1
   "id": "35a2d71c",
=======
   "id": "f18aceae",
>>>>>>> documentation-devel
||||||| d28b18c
   "id": "f18aceae",
=======
   "id": "70eb65cd",
>>>>>>> documentation-devel
   "metadata": {},
   "source": [
    "The tissue can be discerned with thresholding. The tall peak on the right is the background. The much lower peaks from around 0.6 to 0.85 must be the tissue. To capture the faint bluish region, the blue channel is used for thresholding. The threshold here is chosen based on the histogram and experimenting with nearby values."
   ]
  },
  {
   "cell_type": "code",
   "execution_count": null,
<<<<<<< HEAD
<<<<<<< HEAD
   "id": "e119a503",
||||||| 6a30bf1
   "id": "9e41c778",
=======
   "id": "e8866cec",
>>>>>>> documentation-devel
||||||| d28b18c
   "id": "e8866cec",
=======
   "id": "d31b55cb",
>>>>>>> documentation-devel
   "metadata": {},
   "outputs": [],
   "source": [
    "mask <- img2[,,3] < 0.87\n",
    "display(mask)"
   ]
  },
  {
   "cell_type": "markdown",
<<<<<<< HEAD
<<<<<<< HEAD
   "id": "7cb1bf2c",
||||||| 6a30bf1
   "id": "404d31de",
=======
   "id": "87ad5617",
>>>>>>> documentation-devel
||||||| d28b18c
   "id": "87ad5617",
=======
   "id": "177178f0",
>>>>>>> documentation-devel
   "metadata": {
    "lines_to_next_cell": 0
   },
   "source": [
    "Then we use an opening operation (erosion followed by dilation) to denoise"
   ]
  },
  {
   "cell_type": "code",
   "execution_count": null,
<<<<<<< HEAD
<<<<<<< HEAD
   "id": "64a28947",
||||||| 6a30bf1
   "id": "56ee2a78",
=======
   "id": "2d70caee",
>>>>>>> documentation-devel
||||||| d28b18c
   "id": "2d70caee",
=======
   "id": "00e3e8e4",
>>>>>>> documentation-devel
   "metadata": {},
   "outputs": [],
   "source": [
    "kern <- makeBrush(3, shape='disc')\n",
    "mask_open <- opening(mask, kern)\n",
    "display(mask_open)"
   ]
  },
  {
   "cell_type": "markdown",
<<<<<<< HEAD
<<<<<<< HEAD
   "id": "b2cd7955",
||||||| 6a30bf1
   "id": "8b3a0c67",
=======
   "id": "1b59697b",
>>>>>>> documentation-devel
||||||| d28b18c
   "id": "1b59697b",
=======
   "id": "87db4d25",
>>>>>>> documentation-devel
   "metadata": {
    "lines_to_next_cell": 0
   },
   "source": [
    "There are some small holes in the tissue, which can be removed by a closing operation (dilation followed by erosion):"
   ]
  },
  {
   "cell_type": "code",
   "execution_count": null,
<<<<<<< HEAD
<<<<<<< HEAD
   "id": "eece2e63",
||||||| 6a30bf1
   "id": "2bc2c51e",
=======
   "id": "649603ce",
>>>>>>> documentation-devel
||||||| d28b18c
   "id": "649603ce",
=======
   "id": "19a3a3f1",
>>>>>>> documentation-devel
   "metadata": {},
   "outputs": [],
   "source": [
    "mask_close <- closing(mask_open, kern)\n",
    "display(mask_close)"
   ]
  },
  {
   "cell_type": "markdown",
<<<<<<< HEAD
<<<<<<< HEAD
   "id": "c7b0ff3e",
||||||| 6a30bf1
   "id": "a38f5dca",
=======
   "id": "258a934b",
>>>>>>> documentation-devel
||||||| d28b18c
   "id": "258a934b",
=======
   "id": "b0aa0662",
>>>>>>> documentation-devel
   "metadata": {},
   "source": [
    "There are some larger holes in the tissue mask, which may be real holes or faint regions with few nuclei missed by thresholding. They might not be large enough to affect which Visium spots intersect the tissue.\n",
    "\n",
    "Now the main piece of tissue is clear. It must be the object with the largest area. However, there are two small pieces that should belong to the tissue at the top left. The debris and fiducials can be removed by setting all pixels in the mask outside the bounding box of the main piece to 0. Here we assign a different value to each contiguous object with `bwlabel()`, and use `computeFeatures.shape()` to find the area among other shape features (e.g. perimeter) of each object."
   ]
  },
  {
   "cell_type": "code",
   "execution_count": null,
<<<<<<< HEAD
<<<<<<< HEAD
   "id": "ece164dd",
||||||| 6a30bf1
   "id": "5068f4a3",
=======
   "id": "66f1a57d",
>>>>>>> documentation-devel
||||||| d28b18c
   "id": "66f1a57d",
=======
   "id": "2c4ebdca",
>>>>>>> documentation-devel
   "metadata": {},
   "outputs": [],
   "source": [
    "mask_label <- bwlabel(mask_close)\n",
    "fts <- computeFeatures.shape(mask_label)"
   ]
  },
  {
   "cell_type": "code",
   "execution_count": null,
<<<<<<< HEAD
<<<<<<< HEAD
   "id": "1e9615bf",
||||||| 6a30bf1
   "id": "2f47c331",
=======
   "id": "9ac25a75",
>>>>>>> documentation-devel
||||||| d28b18c
   "id": "9ac25a75",
=======
   "id": "7c13d991",
>>>>>>> documentation-devel
   "metadata": {},
   "outputs": [],
   "source": [
    "head(fts)"
   ]
  },
  {
   "cell_type": "code",
   "execution_count": null,
<<<<<<< HEAD
<<<<<<< HEAD
   "id": "24bfcb8b",
||||||| 6a30bf1
   "id": "8dd2a4ce",
=======
   "id": "9687fe86",
>>>>>>> documentation-devel
||||||| d28b18c
   "id": "9687fe86",
=======
   "id": "2bddc265",
>>>>>>> documentation-devel
   "metadata": {},
   "outputs": [],
   "source": [
    "summary(fts[,\"s.area\"])"
   ]
  },
  {
   "cell_type": "code",
   "execution_count": null,
<<<<<<< HEAD
<<<<<<< HEAD
   "id": "caf7c1e0",
||||||| 6a30bf1
   "id": "a54eb8d7",
=======
   "id": "3dd45bd3",
>>>>>>> documentation-devel
||||||| d28b18c
   "id": "3dd45bd3",
=======
   "id": "a652ea4f",
>>>>>>> documentation-devel
   "metadata": {},
   "outputs": [],
   "source": [
    "max_ind <- which.max(fts[,\"s.area\"])\n",
    "inds <- which(as.array(mask_label) == max_ind, arr.ind = TRUE)\n",
    "head(inds)"
   ]
  },
  {
   "cell_type": "code",
   "execution_count": null,
<<<<<<< HEAD
<<<<<<< HEAD
   "id": "f7809916",
||||||| 6a30bf1
   "id": "7ae587c4",
=======
   "id": "b346925f",
>>>>>>> documentation-devel
||||||| d28b18c
   "id": "b346925f",
=======
   "id": "80b2690c",
>>>>>>> documentation-devel
   "metadata": {},
   "outputs": [],
   "source": [
    "row_inds <- c(seq_len(min(inds[,1])-1), seq(max(inds[,1])+1, nrow(mask_label), by = 1))\n",
    "col_inds <- c(seq_len(min(inds[,2])-1), seq(max(inds[,2])+1, nrow(mask_label), by = 1))\n",
    "mask_label[row_inds, ] <- 0\n",
    "mask_label[,col_inds] <- 0\n",
    "display(mask_label)"
   ]
  },
  {
   "cell_type": "markdown",
<<<<<<< HEAD
<<<<<<< HEAD
   "id": "52b0e142",
||||||| 6a30bf1
   "id": "13434008",
=======
   "id": "e2da1468",
>>>>>>> documentation-devel
||||||| d28b18c
   "id": "e2da1468",
=======
   "id": "14259a7c",
>>>>>>> documentation-devel
   "metadata": {
    "lines_to_next_cell": 0
   },
   "source": [
    "Then remove the small pieces that are debris."
   ]
  },
  {
   "cell_type": "code",
   "execution_count": null,
<<<<<<< HEAD
<<<<<<< HEAD
   "id": "3dec40e6",
||||||| 6a30bf1
   "id": "d247668f",
=======
   "id": "35b92b38",
>>>>>>> documentation-devel
||||||| d28b18c
   "id": "35b92b38",
=======
   "id": "eadfb1a6",
>>>>>>> documentation-devel
   "metadata": {},
   "outputs": [],
   "source": [
    "unique(as.vector(mask_label))"
   ]
  },
  {
   "cell_type": "code",
   "execution_count": null,
<<<<<<< HEAD
<<<<<<< HEAD
   "id": "4c4a4f16",
||||||| 6a30bf1
   "id": "575b2ddd",
=======
   "id": "25d407d0",
>>>>>>> documentation-devel
||||||| d28b18c
   "id": "25d407d0",
=======
   "id": "ae6b294d",
>>>>>>> documentation-devel
   "metadata": {},
   "outputs": [],
   "source": [
    "fts2 <- fts[unique(as.vector(mask_label))[-1],]\n",
    "fts2 <- fts2[order(fts2[,\"s.area\"], decreasing = TRUE),]"
   ]
  },
  {
   "cell_type": "code",
   "execution_count": null,
<<<<<<< HEAD
<<<<<<< HEAD
   "id": "7c419727",
||||||| 6a30bf1
   "id": "376aac0e",
=======
   "id": "af9295a5",
>>>>>>> documentation-devel
||||||| d28b18c
   "id": "af9295a5",
=======
   "id": "b7095483",
>>>>>>> documentation-devel
   "metadata": {},
   "outputs": [],
   "source": [
    "plot(fts2[,1][-1], type = \"l\", ylab = \"Area\")"
   ]
  },
  {
   "cell_type": "code",
   "execution_count": null,
<<<<<<< HEAD
<<<<<<< HEAD
   "id": "742b5d81",
||||||| 6a30bf1
   "id": "afe02717",
=======
   "id": "0725f615",
>>>>>>> documentation-devel
||||||| d28b18c
   "id": "0725f615",
=======
   "id": "96888495",
>>>>>>> documentation-devel
   "metadata": {},
   "outputs": [],
   "source": [
    "head(fts2, 10)"
   ]
  },
  {
   "cell_type": "markdown",
<<<<<<< HEAD
<<<<<<< HEAD
   "id": "f76d0dcd",
||||||| 6a30bf1
   "id": "f254b5d7",
=======
   "id": "315fe6dc",
>>>>>>> documentation-devel
||||||| d28b18c
   "id": "315fe6dc",
=======
   "id": "58373447",
>>>>>>> documentation-devel
   "metadata": {},
   "source": [
    "Object number 797 is a piece of debris at the bottom left. The other pieces with area over 100 pixels are tissue. Since debris really is small bits of tissue, so the boundary between debris and tissue can be blurry. Here the two are distinguished by morphology on the H&E image and proximity to the main tissue."
   ]
  },
  {
   "cell_type": "code",
   "execution_count": null,
<<<<<<< HEAD
<<<<<<< HEAD
   "id": "b0cab4d0",
||||||| 6a30bf1
   "id": "06169ad5",
=======
   "id": "9d103967",
>>>>>>> documentation-devel
||||||| d28b18c
   "id": "9d103967",
=======
   "id": "5e04cef3",
>>>>>>> documentation-devel
   "metadata": {},
   "outputs": [],
   "source": [
    "#display(mask_label == 797)"
   ]
  },
  {
   "cell_type": "markdown",
<<<<<<< HEAD
<<<<<<< HEAD
   "id": "b72bf7dc",
||||||| 6a30bf1
   "id": "c1b95296",
=======
   "id": "c78253f5",
>>>>>>> documentation-devel
||||||| d28b18c
   "id": "c78253f5",
=======
   "id": "af1ddea1",
>>>>>>> documentation-devel
   "metadata": {
    "lines_to_next_cell": 0
   },
   "source": [
    "Here we remove the debris from the mask"
   ]
  },
  {
   "cell_type": "code",
   "execution_count": null,
<<<<<<< HEAD
<<<<<<< HEAD
   "id": "6480cb2f",
||||||| 6a30bf1
   "id": "5c4fdee5",
=======
   "id": "01af0824",
>>>>>>> documentation-devel
||||||| d28b18c
   "id": "01af0824",
=======
   "id": "5ca9404f",
>>>>>>> documentation-devel
   "metadata": {},
   "outputs": [],
   "source": [
    "mask_label[mask_label %in% c(797, as.numeric(rownames(fts2)[fts2[,1] < 100]))] <- 0"
   ]
  },
  {
   "cell_type": "markdown",
<<<<<<< HEAD
<<<<<<< HEAD
   "id": "8766f72f",
||||||| 6a30bf1
   "id": "6929505b",
=======
   "id": "be52ddc0",
>>>>>>> documentation-devel
||||||| d28b18c
   "id": "be52ddc0",
=======
   "id": "b0ea81fb",
>>>>>>> documentation-devel
   "metadata": {
    "lines_to_next_cell": 0
   },
   "source": [
    "Since most holes in the mask are faint regions of the tissue missed by thresholding, the holes will be filled"
   ]
  },
  {
   "cell_type": "code",
   "execution_count": null,
<<<<<<< HEAD
<<<<<<< HEAD
   "id": "a0327363",
||||||| 6a30bf1
   "id": "2534cc92",
=======
   "id": "d441ff75",
>>>>>>> documentation-devel
||||||| d28b18c
   "id": "d441ff75",
=======
   "id": "311cfc6a",
>>>>>>> documentation-devel
   "metadata": {},
   "outputs": [],
   "source": [
    "mask_label <- fillHull(mask_label)"
   ]
  },
  {
   "cell_type": "code",
   "execution_count": null,
<<<<<<< HEAD
<<<<<<< HEAD
   "id": "81988692",
||||||| 6a30bf1
   "id": "16f004d7",
=======
   "id": "a07ae91a",
>>>>>>> documentation-devel
||||||| d28b18c
   "id": "a07ae91a",
=======
   "id": "6f649771",
>>>>>>> documentation-devel
   "metadata": {},
   "outputs": [],
   "source": [
    "display(paintObjects(mask_label, img, col=c(\"red\", \"yellow\"), opac=c(1, 0.3)))"
   ]
  },
  {
   "cell_type": "markdown",
<<<<<<< HEAD
<<<<<<< HEAD
   "id": "de61af81",
||||||| 6a30bf1
   "id": "c34b3cae",
=======
   "id": "c7e849f4",
>>>>>>> documentation-devel
||||||| d28b18c
   "id": "c7e849f4",
=======
   "id": "9c38b8f5",
>>>>>>> documentation-devel
   "metadata": {},
   "source": [
    "This segmentation process took a lot of manual oversight, in choosing the threshold, choosing kernel size and shape in the opening and closing operations, deciding whether to fill the holes, and deciding what is debris and what is tissue. \n",
    "\n",
    "# Convert tissue mask to polygon\n",
    "Now we have the tissue mask, which we will convert to polygon. While OpenCV can directly perform the conversion, as there isn't a comprehensive R wrapper of OpenCV, this conversion is more convoluted in R. We first convert the `Image` object to a raster as implemented in `terra`, the core R package for geospatial raster data. Then `terra` can convert the raster to polygon. As this image is downsized, the polygon will look quite pixelated. To mitigate this pixelation and save memory, the `ms_simplify()` function is used to simplify the polygon, only keeping a small proportion of all vertices. The `st_simplify()` function in `sf` can also simplify the polygons, but we can't specify what proportion of vertices to keep."
   ]
  },
  {
   "cell_type": "code",
   "execution_count": null,
<<<<<<< HEAD
<<<<<<< HEAD
   "id": "8387b18f",
||||||| 6a30bf1
   "id": "57bbab5b",
=======
   "id": "de1c1a06",
>>>>>>> documentation-devel
||||||| d28b18c
   "id": "de1c1a06",
=======
   "id": "f1818e8f",
>>>>>>> documentation-devel
   "metadata": {},
   "outputs": [],
   "source": [
    "raster2polygon <- function(seg, keep = 0.2) {\n",
    "    r <- rast(as.array(seg), extent = ext(0, nrow(seg), 0, ncol(seg))) |> \n",
    "        trans() |> flip()\n",
    "    r[r < 1] <- NA\n",
    "    contours <- st_as_sf(as.polygons(r, dissolve = TRUE))\n",
    "    simplified <- ms_simplify(contours, keep = keep)\n",
    "    list(full = contours,\n",
    "         simplified = simplified)\n",
    "}"
   ]
  },
  {
   "cell_type": "code",
   "execution_count": null,
<<<<<<< HEAD
<<<<<<< HEAD
   "id": "e30ae235",
||||||| 6a30bf1
   "id": "e8019a31",
=======
   "id": "f5b04aa0",
>>>>>>> documentation-devel
||||||| d28b18c
   "id": "f5b04aa0",
=======
   "id": "7f0ffcbc",
>>>>>>> documentation-devel
   "metadata": {},
   "outputs": [],
   "source": [
    "tb <- raster2polygon(mask_label)"
   ]
  },
  {
   "cell_type": "markdown",
<<<<<<< HEAD
<<<<<<< HEAD
   "id": "b8bbc550",
||||||| 6a30bf1
   "id": "6d5d8475",
=======
   "id": "af50c312",
>>>>>>> documentation-devel
||||||| d28b18c
   "id": "af50c312",
=======
   "id": "52c746ca",
>>>>>>> documentation-devel
   "metadata": {
    "lines_to_next_cell": 0
   },
   "source": [
    "Before adding the geometry to the SFE object, it needs to be scaled to match the coordinates of the spots"
   ]
  },
  {
   "cell_type": "code",
   "execution_count": null,
<<<<<<< HEAD
<<<<<<< HEAD
   "id": "b6d72049",
||||||| 6a30bf1
   "id": "2534d433",
=======
   "id": "d7c08e7d",
>>>>>>> documentation-devel
||||||| d28b18c
   "id": "d7c08e7d",
=======
   "id": "d033b8fc",
>>>>>>> documentation-devel
   "metadata": {},
   "outputs": [],
   "source": [
    "scale_factors <- fromJSON(file = \"outs/spatial/scalefactors_json.json\")"
   ]
  },
  {
   "cell_type": "code",
   "execution_count": null,
<<<<<<< HEAD
<<<<<<< HEAD
   "id": "bf416c3d",
||||||| 6a30bf1
   "id": "7c2ee64b",
=======
   "id": "63a154cd",
>>>>>>> documentation-devel
||||||| d28b18c
   "id": "63a154cd",
=======
   "id": "433db5aa",
>>>>>>> documentation-devel
   "metadata": {},
   "outputs": [],
   "source": [
    "tb$simplified$geometry <- tb$simplified$geometry / scale_factors$tissue_hires_scalef"
   ]
  },
  {
   "cell_type": "code",
   "execution_count": null,
<<<<<<< HEAD
<<<<<<< HEAD
   "id": "87fb09ae",
||||||| 6a30bf1
   "id": "f6a0991f",
=======
   "id": "dc931786",
>>>>>>> documentation-devel
||||||| d28b18c
   "id": "dc931786",
=======
   "id": "a305dd8c",
>>>>>>> documentation-devel
   "metadata": {},
   "outputs": [],
   "source": [
    "tissueBoundary(sfe) <- tb$simplified"
   ]
  },
  {
   "cell_type": "code",
   "execution_count": null,
<<<<<<< HEAD
<<<<<<< HEAD
   "id": "765bd322",
||||||| 6a30bf1
   "id": "c996a5d1",
=======
   "id": "e5284d60",
>>>>>>> documentation-devel
||||||| d28b18c
   "id": "e5284d60",
=======
   "id": "87eb47e1",
>>>>>>> documentation-devel
   "metadata": {},
   "outputs": [],
   "source": [
    "plotSpatialFeature(sfe, \"sum\", annotGeometryName = \"tissueBoundary\", \n",
    "                   annot_fixed = list(fill = NA, color = \"black\"),\n",
    "                   image_id = \"lowres\") +\n",
    "    theme_void()"
   ]
  },
  {
   "cell_type": "markdown",
<<<<<<< HEAD
<<<<<<< HEAD
   "id": "a5ca7e8e",
||||||| 6a30bf1
   "id": "e2d98aac",
=======
   "id": "6191f39b",
>>>>>>> documentation-devel
||||||| d28b18c
   "id": "6191f39b",
=======
   "id": "04e5fe7f",
>>>>>>> documentation-devel
   "metadata": {},
   "source": [
    "The mouse olfactory bulb is conventionally plotted horizontally. The entire SFE object can be transposed in histologial space to make the olfactory bulb horizontal."
   ]
  },
  {
   "cell_type": "code",
   "execution_count": null,
<<<<<<< HEAD
<<<<<<< HEAD
   "id": "0beccd6f",
||||||| 6a30bf1
   "id": "fbfddb59",
=======
   "id": "119f053e",
>>>>>>> documentation-devel
||||||| d28b18c
   "id": "119f053e",
=======
   "id": "be28fff2",
>>>>>>> documentation-devel
   "metadata": {},
   "outputs": [],
   "source": [
    "sfe <- SpatialFeatureExperiment::transpose(sfe)"
   ]
  },
  {
   "cell_type": "code",
   "execution_count": null,
<<<<<<< HEAD
<<<<<<< HEAD
   "id": "b0f0f20a",
||||||| 6a30bf1
   "id": "ad9a9409",
=======
   "id": "94d88555",
>>>>>>> documentation-devel
||||||| d28b18c
   "id": "94d88555",
=======
   "id": "76a52430",
>>>>>>> documentation-devel
   "metadata": {},
   "outputs": [],
   "source": [
    "plotSpatialFeature(sfe, \"sum\", annotGeometryName = \"tissueBoundary\", \n",
    "                   annot_fixed = list(fill = NA, color = \"black\"),\n",
    "                   image_id = \"lowres\")"
   ]
  },
  {
   "cell_type": "markdown",
<<<<<<< HEAD
<<<<<<< HEAD
   "id": "136a56d3",
||||||| 6a30bf1
   "id": "7b7711d6",
=======
   "id": "e123dc1a",
>>>>>>> documentation-devel
||||||| d28b18c
   "id": "e123dc1a",
=======
   "id": "0f047260",
>>>>>>> documentation-devel
   "metadata": {},
   "source": [
    "Then we can use geometric operations to find which spots intersect tissue, which spots are covered by tissue, and how much of each spot intersects tissue."
   ]
  },
  {
   "cell_type": "code",
   "execution_count": null,
<<<<<<< HEAD
<<<<<<< HEAD
   "id": "20203c66",
||||||| 6a30bf1
   "id": "abe9c917",
=======
   "id": "ee243f53",
>>>>>>> documentation-devel
||||||| d28b18c
   "id": "ee243f53",
=======
   "id": "b644519f",
>>>>>>> documentation-devel
   "metadata": {},
   "outputs": [],
   "source": [
    "# Which spots intersect tissue\n",
    "sfe$int_tissue <- annotPred(sfe, colGeometryName = \"spotPoly\", \n",
    "                            annotGeometryName = \"tissueBoundary\",\n",
    "                            pred = st_intersects)\n",
    "sfe$cov_tissue <- annotPred(sfe, colGeometryName = \"spotPoly\", \n",
    "                            annotGeometryName = \"tissueBoundary\",\n",
    "                            pred = st_covered_by)"
   ]
  },
  {
   "cell_type": "markdown",
<<<<<<< HEAD
<<<<<<< HEAD
   "id": "8db55cdb",
||||||| 6a30bf1
   "id": "7edcf198",
=======
   "id": "b3c5f230",
>>>>>>> documentation-devel
||||||| d28b18c
   "id": "b3c5f230",
=======
   "id": "e222e17a",
>>>>>>> documentation-devel
   "metadata": {
    "lines_to_next_cell": 0
   },
   "source": [
    "Discrepancies between Space Ranger's annotation and the annotation based on tissue segmentation here:"
   ]
  },
  {
   "cell_type": "code",
   "execution_count": null,
<<<<<<< HEAD
<<<<<<< HEAD
   "id": "0f72072b",
||||||| 6a30bf1
   "id": "4c7625fa",
=======
   "id": "db3bc7c1",
>>>>>>> documentation-devel
||||||| d28b18c
   "id": "db3bc7c1",
=======
   "id": "939f11d9",
>>>>>>> documentation-devel
   "metadata": {},
   "outputs": [],
   "source": [
    "sfe$diff_sr <- case_when(sfe$in_tissue == sfe$int_tissue ~ \"same\",\n",
    "                         sfe$in_tissue & !sfe$int_tissue ~ \"Space Ranger\",\n",
    "                         sfe$int_tissue & !sfe$in_tissue ~ \"segmentation\") |> \n",
    "    factor(levels = c(\"Space Ranger\", \"same\", \"segmentation\"))\n",
    "plotSpatialFeature(sfe, \"diff_sr\", \n",
    "                   annotGeometryName = \"tissueBoundary\", \n",
    "                   annot_fixed = list(fill = NA, size = 0.5, color = \"black\")) +\n",
    "    scale_fill_brewer(type = \"div\", palette = 4)"
   ]
  },
  {
   "cell_type": "markdown",
<<<<<<< HEAD
<<<<<<< HEAD
   "id": "f04995e1",
||||||| 6a30bf1
   "id": "e55d21bb",
=======
   "id": "df3e7a4d",
>>>>>>> documentation-devel
||||||| d28b18c
   "id": "df3e7a4d",
=======
   "id": "cf3d05ae",
>>>>>>> documentation-devel
   "metadata": {
    "lines_to_next_cell": 0
   },
   "source": [
    "Spots at the margin can intersect the tissue without being covered by it."
   ]
  },
  {
   "cell_type": "code",
   "execution_count": null,
<<<<<<< HEAD
<<<<<<< HEAD
   "id": "1edfc573",
||||||| 6a30bf1
   "id": "3e59b9e9",
=======
   "id": "91fd05ca",
>>>>>>> documentation-devel
||||||| d28b18c
   "id": "91fd05ca",
=======
   "id": "04103194",
>>>>>>> documentation-devel
   "metadata": {},
   "outputs": [],
   "source": [
    "sfe$diff_int_cov <- sfe$int_tissue != sfe$cov_tissue\n",
    "plotSpatialFeature(sfe, \"diff_int_cov\", \n",
    "                   annotGeometryName = \"tissueBoundary\", \n",
    "                   annot_fixed = list(fill = NA, size = 0.5, color = \"black\"))"
   ]
  },
  {
   "cell_type": "markdown",
<<<<<<< HEAD
<<<<<<< HEAD
   "id": "64c35195",
||||||| 6a30bf1
   "id": "a98986b1",
=======
   "id": "4a73c341",
>>>>>>> documentation-devel
||||||| d28b18c
   "id": "4a73c341",
=======
   "id": "8caab91a",
>>>>>>> documentation-devel
   "metadata": {},
   "source": [
    "We can also get the geometries of the intersections between the tissue and the Visium spots, and then calculate what percentage of each spot is in tissue. However, this percentage may not be very useful if the tissue segmentation is subject to error. This percentage may be more useful for pathologist annotated histological regions or objects such as nuclei and myofibers."
   ]
  },
  {
   "cell_type": "code",
   "execution_count": null,
<<<<<<< HEAD
<<<<<<< HEAD
   "id": "3ad92a75",
||||||| 6a30bf1
   "id": "857ddef7",
=======
   "id": "c4f5be10",
>>>>>>> documentation-devel
||||||| d28b18c
   "id": "c4f5be10",
=======
   "id": "4d1448e6",
>>>>>>> documentation-devel
   "metadata": {},
   "outputs": [],
   "source": [
    "spot_ints <- annotOp(sfe, colGeometryName = \"spotPoly\", \n",
    "                     annotGeometryName = \"tissueBoundary\", op = st_intersection)\n",
    "sfe$pct_tissue <- st_area(spot_ints) / st_area(spotPoly(sfe)) * 100"
   ]
  },
  {
   "cell_type": "markdown",
<<<<<<< HEAD
<<<<<<< HEAD
   "id": "74901dc4",
||||||| 6a30bf1
   "id": "556a66f0",
=======
   "id": "b9696b9a",
>>>>>>> documentation-devel
||||||| d28b18c
   "id": "b9696b9a",
=======
   "id": "872552c3",
>>>>>>> documentation-devel
   "metadata": {
    "lines_to_next_cell": 0
   },
   "source": [
    "For spots that intersect tissue, does total counts relate to percentage of the spot in tissue?"
   ]
  },
  {
   "cell_type": "code",
   "execution_count": null,
<<<<<<< HEAD
<<<<<<< HEAD
   "id": "a07fc035",
||||||| 6a30bf1
   "id": "4aea52a0",
=======
   "id": "bf314f85",
>>>>>>> documentation-devel
||||||| d28b18c
   "id": "bf314f85",
=======
   "id": "ff3ac798",
>>>>>>> documentation-devel
   "metadata": {},
   "outputs": [],
   "source": [
    "sfe_tissue <- sfe[,sfe$int_tissue]"
   ]
  },
  {
   "cell_type": "code",
   "execution_count": null,
<<<<<<< HEAD
<<<<<<< HEAD
   "id": "b50145bc",
||||||| 6a30bf1
   "id": "aae7dbbb",
=======
   "id": "446a642d",
>>>>>>> documentation-devel
||||||| d28b18c
   "id": "446a642d",
=======
   "id": "1ed1dfb6",
>>>>>>> documentation-devel
   "metadata": {},
   "outputs": [],
   "source": [
    "plotColDataBin2D(sfe_tissue, x = \"pct_tissue\", y = \"sum\", subset = \"diff_int_cov\",\n",
    "                name_true = \"Not covered\", name_false = \"Covered\", bins = 50)"
   ]
  },
  {
   "cell_type": "markdown",
<<<<<<< HEAD
<<<<<<< HEAD
   "id": "f93cb1d8",
||||||| 6a30bf1
   "id": "060f9302",
=======
   "id": "74ee79ed",
>>>>>>> documentation-devel
||||||| d28b18c
   "id": "74ee79ed",
=======
   "id": "d145f747",
>>>>>>> documentation-devel
   "metadata": {
    "lines_to_next_cell": 0
   },
   "source": [
    "Spots that are not fully covered by tissue have lower total UMI counts, which can be due to both that they are not fully in tissue and the cell types with lower total counts in the histological region near the edge, as some spots fully covered by tissue also have low UMI counts.\n",
    "\n",
    "# Spatial autocorrelation of QC metrics"
   ]
  },
  {
   "cell_type": "code",
   "execution_count": null,
<<<<<<< HEAD
<<<<<<< HEAD
   "id": "716f90dd",
||||||| 6a30bf1
   "id": "7dfe8e29",
=======
   "id": "857ed99c",
>>>>>>> documentation-devel
||||||| d28b18c
   "id": "857ed99c",
=======
   "id": "3399b226",
>>>>>>> documentation-devel
   "metadata": {},
   "outputs": [],
   "source": [
    "colGraph(sfe_tissue, \"visium\") <- findVisiumGraph(sfe_tissue)"
   ]
  },
  {
   "cell_type": "code",
   "execution_count": null,
<<<<<<< HEAD
<<<<<<< HEAD
   "id": "cff367d1",
||||||| 6a30bf1
   "id": "08c94441",
=======
   "id": "cd9de600",
>>>>>>> documentation-devel
||||||| d28b18c
   "id": "cd9de600",
=======
   "id": "6a0eeba5",
>>>>>>> documentation-devel
   "metadata": {},
   "outputs": [],
   "source": [
    "qc_features <- c(\"sum\", \"detected\", \"subsets_mito_percent\")"
   ]
  },
  {
   "cell_type": "code",
   "execution_count": null,
<<<<<<< HEAD
<<<<<<< HEAD
   "id": "2dabcbab",
||||||| 6a30bf1
   "id": "62183f5e",
=======
   "id": "9b7215d1",
>>>>>>> documentation-devel
||||||| d28b18c
   "id": "9b7215d1",
=======
   "id": "36c57cfb",
>>>>>>> documentation-devel
   "metadata": {},
   "outputs": [],
   "source": [
    "sfe_tissue <- colDataUnivariate(sfe_tissue, \"moran.mc\", qc_features, nsim = 200)"
   ]
  },
  {
   "cell_type": "code",
   "execution_count": null,
<<<<<<< HEAD
<<<<<<< HEAD
   "id": "cf30f863",
||||||| 6a30bf1
   "id": "8a214bab",
=======
   "id": "696eb8d0",
>>>>>>> documentation-devel
||||||| d28b18c
   "id": "696eb8d0",
=======
   "id": "37131a9f",
>>>>>>> documentation-devel
   "metadata": {},
   "outputs": [],
   "source": [
    "plotMoranMC(sfe_tissue, qc_features)"
   ]
  },
  {
   "cell_type": "code",
   "execution_count": null,
<<<<<<< HEAD
<<<<<<< HEAD
   "id": "df9f8af7",
||||||| 6a30bf1
   "id": "98e63a85",
=======
   "id": "986496d7",
>>>>>>> documentation-devel
||||||| d28b18c
   "id": "986496d7",
=======
   "id": "32475185",
>>>>>>> documentation-devel
   "metadata": {},
   "outputs": [],
   "source": [
    "sfe_tissue <- colDataUnivariate(sfe_tissue, \"sp.correlogram\", qc_features,\n",
    "                                order = 8)"
   ]
  },
  {
   "cell_type": "code",
   "execution_count": null,
<<<<<<< HEAD
<<<<<<< HEAD
   "id": "8054960c",
||||||| 6a30bf1
   "id": "ae0201e3",
=======
   "id": "10b6a7e9",
>>>>>>> documentation-devel
||||||| d28b18c
   "id": "10b6a7e9",
=======
   "id": "a00208b3",
>>>>>>> documentation-devel
   "metadata": {},
   "outputs": [],
   "source": [
    "plotCorrelogram(sfe_tissue, qc_features)"
   ]
  },
  {
   "cell_type": "code",
   "execution_count": null,
<<<<<<< HEAD
<<<<<<< HEAD
   "id": "d7d748dd",
||||||| 6a30bf1
   "id": "821b96f1",
=======
   "id": "84548a24",
>>>>>>> documentation-devel
||||||| d28b18c
   "id": "84548a24",
=======
   "id": "ab188fd3",
>>>>>>> documentation-devel
   "metadata": {},
   "outputs": [],
   "source": [
    "sfe_tissue <- colDataUnivariate(sfe_tissue, \"localmoran\", qc_features)"
   ]
  },
  {
   "cell_type": "code",
   "execution_count": null,
<<<<<<< HEAD
<<<<<<< HEAD
   "id": "ce4955e2",
||||||| 6a30bf1
   "id": "443af600",
=======
   "id": "86397621",
>>>>>>> documentation-devel
||||||| d28b18c
   "id": "86397621",
=======
   "id": "99f69bb7",
>>>>>>> documentation-devel
   "metadata": {
    "fig.height": 6,
    "fig.width": 8
   },
   "outputs": [],
   "source": [
    "plotLocalResult(sfe_tissue, \"localmoran\", qc_features, ncol = 2,\n",
    "                colGeometryName = \"spotPoly\", divergent = TRUE, \n",
    "                diverge_center = 0, image_id = \"lowres\", maxcell = 5e4)"
   ]
  },
  {
   "cell_type": "code",
   "execution_count": null,
<<<<<<< HEAD
<<<<<<< HEAD
   "id": "468fe1fb",
||||||| 6a30bf1
   "id": "3c613244",
=======
   "id": "4b662c2f",
>>>>>>> documentation-devel
||||||| d28b18c
   "id": "4b662c2f",
=======
   "id": "c1edf9ab",
>>>>>>> documentation-devel
   "metadata": {},
   "outputs": [],
   "source": [
    "sfe_tissue <- colDataUnivariate(sfe_tissue, \"LOSH\", qc_features)"
   ]
  },
  {
   "cell_type": "code",
   "execution_count": null,
<<<<<<< HEAD
<<<<<<< HEAD
   "id": "80ed1081",
||||||| 6a30bf1
   "id": "83e7bbc6",
=======
   "id": "5891d940",
>>>>>>> documentation-devel
||||||| d28b18c
   "id": "5891d940",
=======
   "id": "83b3875d",
>>>>>>> documentation-devel
   "metadata": {
    "fig.height": 6,
    "fig.width": 8
   },
   "outputs": [],
   "source": [
    "plotLocalResult(sfe_tissue, \"LOSH\", qc_features, ncol = 2,\n",
    "                colGeometryName = \"spotPoly\", image_id = \"lowres\", maxcell = 5e4)"
   ]
  },
  {
   "cell_type": "code",
   "execution_count": null,
<<<<<<< HEAD
<<<<<<< HEAD
   "id": "4852164b",
||||||| 6a30bf1
   "id": "ef6a5d92",
=======
   "id": "c18d9d83",
>>>>>>> documentation-devel
||||||| d28b18c
   "id": "c18d9d83",
=======
   "id": "921803cd",
>>>>>>> documentation-devel
   "metadata": {},
   "outputs": [],
   "source": [
    "sfe_tissue <- colDataUnivariate(sfe_tissue, \"moran.plot\", qc_features)"
   ]
  },
  {
   "cell_type": "code",
   "execution_count": null,
<<<<<<< HEAD
<<<<<<< HEAD
   "id": "0fb823a5",
||||||| 6a30bf1
   "id": "35228c00",
=======
   "id": "57e8d3f1",
>>>>>>> documentation-devel
||||||| d28b18c
   "id": "57e8d3f1",
=======
   "id": "6078d2c0",
>>>>>>> documentation-devel
   "metadata": {},
   "outputs": [],
   "source": [
    "moranPlot(sfe_tissue, \"subsets_mito_percent\")"
   ]
  },
  {
   "cell_type": "markdown",
<<<<<<< HEAD
<<<<<<< HEAD
   "id": "14df24b2",
||||||| 6a30bf1
   "id": "33b23db5",
=======
   "id": "40dc8478",
>>>>>>> documentation-devel
||||||| d28b18c
   "id": "40dc8478",
=======
   "id": "8dcf192a",
>>>>>>> documentation-devel
   "metadata": {
    "lines_to_next_cell": 0
   },
   "source": [
    "# Spatial autocorrelation of gene expression\n",
    "\n",
    "Normalize data with the `scran` method, and find highly variable genes"
   ]
  },
  {
   "cell_type": "code",
   "execution_count": null,
<<<<<<< HEAD
<<<<<<< HEAD
   "id": "b19d1276",
||||||| 6a30bf1
   "id": "0c73757a",
=======
   "id": "d8ad660e",
>>>>>>> documentation-devel
||||||| d28b18c
   "id": "d8ad660e",
=======
   "id": "a16912a9",
>>>>>>> documentation-devel
   "metadata": {},
   "outputs": [],
   "source": [
    "#clusters <- quickCluster(sfe_tissue)\n",
    "#sfe_tissue <- computeSumFactors(sfe_tissue, clusters=clusters)\n",
    "#sfe_tissue <- sfe_tissue[, sizeFactors(sfe_tissue) > 0]\n",
    "sfe_tissue <- logNormCounts(sfe_tissue)"
   ]
  },
  {
   "cell_type": "code",
   "execution_count": null,
<<<<<<< HEAD
<<<<<<< HEAD
   "id": "7527fa2d",
||||||| 6a30bf1
   "id": "2f73624c",
=======
   "id": "be662597",
>>>>>>> documentation-devel
||||||| d28b18c
   "id": "be662597",
=======
   "id": "2d24b26f",
>>>>>>> documentation-devel
   "metadata": {},
   "outputs": [],
   "source": [
    "dec <- modelGeneVar(sfe_tissue)\n",
    "hvgs <- getTopHVGs(dec, n = 2000)"
   ]
  },
  {
   "cell_type": "markdown",
<<<<<<< HEAD
<<<<<<< HEAD
   "id": "e9f86d27",
||||||| 6a30bf1
   "id": "4c997f4b",
=======
   "id": "e3f65a7d",
>>>>>>> documentation-devel
||||||| d28b18c
   "id": "e3f65a7d",
=======
   "id": "1b2bd611",
>>>>>>> documentation-devel
   "metadata": {
    "lines_to_next_cell": 0
   },
   "source": [
    "Find Moran's I for all highly variable genes:"
   ]
  },
  {
   "cell_type": "code",
   "execution_count": null,
<<<<<<< HEAD
<<<<<<< HEAD
   "id": "c06e0c9d",
||||||| 6a30bf1
   "id": "912d8156",
=======
   "id": "0cb4a92b",
>>>>>>> documentation-devel
||||||| d28b18c
   "id": "0cb4a92b",
=======
   "id": "22747384",
>>>>>>> documentation-devel
   "metadata": {},
   "outputs": [],
   "source": [
    "sfe_tissue <- runMoransI(sfe_tissue, features = hvgs, BPPARAM = MulticoreParam(2))"
   ]
  },
  {
   "cell_type": "code",
   "execution_count": null,
<<<<<<< HEAD
<<<<<<< HEAD
   "id": "8f6db224",
||||||| 6a30bf1
   "id": "e0c92d8e",
=======
   "id": "64bd2684",
>>>>>>> documentation-devel
||||||| d28b18c
   "id": "64bd2684",
=======
   "id": "1390016f",
>>>>>>> documentation-devel
   "metadata": {},
   "outputs": [],
   "source": [
    "plotRowDataHistogram(sfe_tissue, \"moran_sample01\")"
   ]
  },
  {
   "cell_type": "markdown",
<<<<<<< HEAD
<<<<<<< HEAD
   "id": "477b48ad",
||||||| 6a30bf1
   "id": "88a76b3d",
=======
   "id": "b3cf76b4",
>>>>>>> documentation-devel
||||||| d28b18c
   "id": "b3cf76b4",
=======
   "id": "57baee04",
>>>>>>> documentation-devel
   "metadata": {
    "lines_to_next_cell": 0
   },
   "source": [
    "The vast majority of genes have positive Moran's I. Here we'll find the genes with the highest Moran's I:"
   ]
  },
  {
   "cell_type": "code",
   "execution_count": null,
<<<<<<< HEAD
<<<<<<< HEAD
   "id": "1cdeabff",
||||||| 6a30bf1
   "id": "4a3fa434",
=======
   "id": "c6ff8371",
>>>>>>> documentation-devel
||||||| d28b18c
   "id": "c6ff8371",
=======
   "id": "113aedda",
>>>>>>> documentation-devel
   "metadata": {},
   "outputs": [],
   "source": [
    "top_moran <- rownames(sfe_tissue)[order(rowData(sfe_tissue)$moran_sample01, \n",
    "                                        decreasing = TRUE)[1:9]]"
   ]
  },
  {
   "cell_type": "markdown",
<<<<<<< HEAD
<<<<<<< HEAD
   "id": "98b80d20",
||||||| 6a30bf1
   "id": "f2e704fa",
=======
   "id": "757ca883",
>>>>>>> documentation-devel
||||||| d28b18c
   "id": "757ca883",
=======
   "id": "4026096b",
>>>>>>> documentation-devel
   "metadata": {
    "lines_to_next_cell": 0
   },
   "source": [
    "We can use the [gget info](https://pachterlab.github.io/gget/info.html) module from the [gget](https://pachterlab.github.io/gget/) package to get additional information on these genes, such as their descriptions, synonyms, transcripts and more from a collection of reference databases including [Ensembl](https://ensembl.org/), [UniProt](https://www.uniprot.org/) and [NCBI](https://www.ncbi.nlm.nih.gov/) Here, we are showing their gene descriptions from [NCBI](https://www.ncbi.nlm.nih.gov/):"
   ]
  },
  {
   "cell_type": "code",
   "execution_count": null,
<<<<<<< HEAD
<<<<<<< HEAD
   "id": "e87594a1",
||||||| 6a30bf1
   "id": "67ee4daf",
=======
   "id": "8fbf69b7",
>>>>>>> documentation-devel
||||||| d28b18c
   "id": "8fbf69b7",
=======
   "id": "604b1083",
>>>>>>> documentation-devel
   "metadata": {},
   "outputs": [],
   "source": [
    "gget_info <- gget$info(top_moran)\n",
    "\n",
    "rownames(gget_info) <- gget_info$primary_gene_name\n",
    "select(gget_info, ncbi_description)"
   ]
  },
  {
   "cell_type": "markdown",
<<<<<<< HEAD
<<<<<<< HEAD
   "id": "0fabc39e",
||||||| 6a30bf1
   "id": "0b0a699f",
=======
   "id": "8ddbefc7",
>>>>>>> documentation-devel
||||||| d28b18c
   "id": "8ddbefc7",
=======
   "id": "426be131",
>>>>>>> documentation-devel
   "metadata": {
    "lines_to_next_cell": 0
   },
   "source": [
    "Plot the genes with the highest Moran's I:"
   ]
  },
  {
   "cell_type": "code",
   "execution_count": null,
<<<<<<< HEAD
<<<<<<< HEAD
   "id": "ba131541",
||||||| 6a30bf1
   "id": "82cc7b3e",
=======
   "id": "d862a870",
>>>>>>> documentation-devel
||||||| d28b18c
   "id": "d862a870",
=======
   "id": "ce1caa57",
>>>>>>> documentation-devel
   "metadata": {
    "fig.height": 5,
    "fig.width": 9
   },
   "outputs": [],
   "source": [
    "plotSpatialFeature(sfe_tissue, top_moran, ncol = 3, image_id = \"lowres\",\n",
    "                   maxcell = 5e4, swap_rownames = \"symbol\")"
   ]
  },
  {
   "cell_type": "markdown",
<<<<<<< HEAD
<<<<<<< HEAD
   "id": "c2ee2ae1",
||||||| 6a30bf1
   "id": "d89299e5",
=======
   "id": "801e15b9",
>>>>>>> documentation-devel
||||||| d28b18c
   "id": "801e15b9",
=======
   "id": "eb572292",
>>>>>>> documentation-devel
   "metadata": {
    "lines_to_next_cell": 0
   },
   "source": [
    "Here global Moran's I seems to be more about tissue structure. \n",
    "\n",
    "Some genes have negative Moran's I that might not be statistically significant:"
   ]
  },
  {
   "cell_type": "code",
   "execution_count": null,
<<<<<<< HEAD
<<<<<<< HEAD
   "id": "336191fe",
||||||| 6a30bf1
   "id": "d160ea39",
=======
   "id": "9e8a727f",
>>>>>>> documentation-devel
||||||| d28b18c
   "id": "9e8a727f",
=======
   "id": "7fa6ceca",
>>>>>>> documentation-devel
   "metadata": {},
   "outputs": [],
   "source": [
    "neg_moran <- rownames(sfe_tissue)[order(rowData(sfe_tissue)$moran_sample01, \n",
    "                                        decreasing = FALSE)[1:9]]"
   ]
  },
  {
   "cell_type": "code",
   "execution_count": null,
<<<<<<< HEAD
<<<<<<< HEAD
   "id": "a1d9be5b",
||||||| 6a30bf1
   "id": "1f63435b",
=======
   "id": "af3713e5",
>>>>>>> documentation-devel
||||||| d28b18c
   "id": "af3713e5",
=======
   "id": "ae61af3a",
>>>>>>> documentation-devel
   "metadata": {},
   "outputs": [],
   "source": [
    "# Display NCBI descriptions for these genes\n",
    "gget_info_neg <- gget$info(neg_moran)\n",
    "\n",
    "rownames(gget_info_neg) <- gget_info_neg$primary_gene_name\n",
    "select(gget_info_neg, ncbi_description)"
   ]
  },
  {
   "cell_type": "code",
   "execution_count": null,
<<<<<<< HEAD
<<<<<<< HEAD
   "id": "cc5aff66",
||||||| 6a30bf1
   "id": "fe82b608",
=======
   "id": "01fd860f",
>>>>>>> documentation-devel
||||||| d28b18c
   "id": "01fd860f",
=======
   "id": "e9d036eb",
>>>>>>> documentation-devel
   "metadata": {
    "fig.height": 5,
    "fig.width": 9
   },
   "outputs": [],
   "source": [
    "plotSpatialFeature(sfe_tissue, neg_moran, ncol = 3, swap_rownames = \"symbol\",\n",
    "                   image_id = \"lowres\", maxcell = 5e4)"
   ]
  },
  {
   "cell_type": "code",
   "execution_count": null,
<<<<<<< HEAD
<<<<<<< HEAD
   "id": "cfc72b74",
||||||| 6a30bf1
   "id": "be04813d",
=======
   "id": "9a2ae9bb",
>>>>>>> documentation-devel
||||||| d28b18c
   "id": "9a2ae9bb",
=======
   "id": "c2b0d586",
>>>>>>> documentation-devel
   "metadata": {},
   "outputs": [],
   "source": [
    "sfe_tissue <- runUnivariate(sfe_tissue, \"moran.mc\", neg_moran, \n",
    "                            colGraphName = \"visium\", nsim = 200, alternative = \"less\")"
   ]
  },
  {
   "cell_type": "code",
   "execution_count": null,
<<<<<<< HEAD
<<<<<<< HEAD
   "id": "10d6700a",
||||||| 6a30bf1
   "id": "3dcf4ee7",
=======
   "id": "481fc11c",
>>>>>>> documentation-devel
||||||| d28b18c
   "id": "481fc11c",
=======
   "id": "6bc82267",
>>>>>>> documentation-devel
   "metadata": {},
   "outputs": [],
   "source": [
    "plotMoranMC(sfe_tissue, neg_moran, swap_rownames = \"symbol\")"
   ]
  },
  {
   "cell_type": "code",
   "execution_count": null,
<<<<<<< HEAD
<<<<<<< HEAD
   "id": "7e2a664f",
||||||| 6a30bf1
   "id": "6930b991",
=======
   "id": "669ba352",
>>>>>>> documentation-devel
||||||| d28b18c
   "id": "669ba352",
=======
   "id": "aec8c524",
>>>>>>> documentation-devel
   "metadata": {},
   "outputs": [],
   "source": [
    "rowData(sfe_tissue)[neg_moran, c(\"moran_sample01\", \"moran.mc_p.value_sample01\")]"
   ]
  },
  {
   "cell_type": "markdown",
<<<<<<< HEAD
<<<<<<< HEAD
   "id": "3fae3a6c",
||||||| 6a30bf1
   "id": "2027a3f8",
=======
   "id": "abd0fd94",
>>>>>>> documentation-devel
||||||| d28b18c
   "id": "abd0fd94",
=======
   "id": "00fc7016",
>>>>>>> documentation-devel
   "metadata": {},
   "source": [
    "As there are 2000 highly variable genes and 2000 tests, these would no longer be significant after correcting for multiple testing. \n",
    "\n",
    "Does global Moran's I relate to gene expression level?"
   ]
  },
  {
   "cell_type": "code",
   "execution_count": null,
<<<<<<< HEAD
<<<<<<< HEAD
   "id": "13b381dd",
||||||| 6a30bf1
   "id": "cc377f97",
=======
   "id": "86babc71",
>>>>>>> documentation-devel
||||||| d28b18c
   "id": "86babc71",
=======
   "id": "2e56761f",
>>>>>>> documentation-devel
   "metadata": {},
   "outputs": [],
   "source": [
    "sfe_tissue <- addPerFeatureQCMetrics(sfe_tissue)\n",
    "names(rowData(sfe_tissue))"
   ]
  },
  {
   "cell_type": "code",
   "execution_count": null,
<<<<<<< HEAD
<<<<<<< HEAD
   "id": "da9120c3",
||||||| 6a30bf1
   "id": "f766502c",
=======
   "id": "bbd042eb",
>>>>>>> documentation-devel
||||||| d28b18c
   "id": "bbd042eb",
=======
   "id": "b0828367",
>>>>>>> documentation-devel
   "metadata": {},
   "outputs": [],
   "source": [
    "plotRowData(sfe_tissue, x = \"mean\", y = \"moran_sample01\") +\n",
    "    scale_x_log10() +\n",
    "    annotation_logticks(sides = \"b\") +\n",
    "    geom_density2d()"
   ]
  },
  {
   "cell_type": "markdown",
<<<<<<< HEAD
<<<<<<< HEAD
   "id": "9b131bd4",
||||||| 6a30bf1
   "id": "dfb78954",
=======
   "id": "45303721",
>>>>>>> documentation-devel
||||||| d28b18c
   "id": "45303721",
=======
   "id": "20bc3a97",
>>>>>>> documentation-devel
   "metadata": {
    "lines_to_next_cell": 0
   },
   "source": [
    "Genes that are more highly expressed overall tend to have higher Moran's I. \n",
    "\n",
    "# Apply spatial analysis methods to gene expression space\n",
    "Spatial statistics that require a spatial neighborhood graph can also be applied to the k nearest neighbor graph not in histological space but in gene expression space. This is done in more depth in [this vignette](https://pachterlab.github.io/voyager/articles/nonspatial.html)."
   ]
  },
  {
   "cell_type": "code",
   "execution_count": null,
<<<<<<< HEAD
<<<<<<< HEAD
   "id": "7fbf69dd",
||||||| 6a30bf1
   "id": "a235f218",
=======
   "id": "c0a54038",
>>>>>>> documentation-devel
||||||| d28b18c
   "id": "c0a54038",
=======
   "id": "a69d0f10",
>>>>>>> documentation-devel
   "metadata": {},
   "outputs": [],
   "source": [
    "sfe_tissue <- runPCA(sfe_tissue, ncomponents = 30, subset_row = hvgs,\n",
    "                     scale = TRUE) # scale as in Seurat"
   ]
  },
  {
   "cell_type": "code",
   "execution_count": null,
<<<<<<< HEAD
<<<<<<< HEAD
   "id": "c28baf5f",
||||||| 6a30bf1
   "id": "1d8a69bb",
=======
   "id": "9d5b0a6c",
>>>>>>> documentation-devel
||||||| d28b18c
   "id": "9d5b0a6c",
=======
   "id": "83b9a0c0",
>>>>>>> documentation-devel
   "metadata": {},
   "outputs": [],
   "source": [
    "foo <- findKNN(reducedDim(sfe_tissue, \"PCA\")[,1:10], k=10, BNPARAM=AnnoyParam())\n",
    "# Split by row\n",
    "foo_nb <- asplit(foo$index, 1)\n",
    "dmat <- 1/foo$distance\n",
    "# Row normalize the weights\n",
    "dmat <- sweep(dmat, 1, rowSums(dmat), FUN = \"/\")\n",
    "glist <- asplit(dmat, 1)\n",
    "# Sort based on index\n",
    "ord <- lapply(foo_nb, order)\n",
    "foo_nb <- lapply(seq_along(foo_nb), function(i) foo_nb[[i]][ord[[i]]])\n",
    "class(foo_nb) <- \"nb\"\n",
    "glist <- lapply(seq_along(glist), function(i) glist[[i]][ord[[i]]])\n",
    "\n",
    "listw <- list(style = \"W\",\n",
    "              neighbours = foo_nb,\n",
    "              weights = glist)\n",
    "class(listw) <- \"listw\"\n",
    "attr(listw, \"region.id\") <- colnames(sfe_tissue)"
   ]
  },
  {
   "cell_type": "code",
   "execution_count": null,
<<<<<<< HEAD
<<<<<<< HEAD
   "id": "91e0d94a",
||||||| 6a30bf1
   "id": "d2326dba",
=======
   "id": "783abd6b",
>>>>>>> documentation-devel
||||||| d28b18c
   "id": "783abd6b",
=======
   "id": "ac4330e5",
>>>>>>> documentation-devel
   "metadata": {},
   "outputs": [],
   "source": [
    "colGraph(sfe_tissue, \"knn10\") <- listw"
   ]
  },
  {
   "cell_type": "code",
   "execution_count": null,
<<<<<<< HEAD
<<<<<<< HEAD
   "id": "54ff0826",
||||||| 6a30bf1
   "id": "34f7ce64",
=======
   "id": "c22fc808",
>>>>>>> documentation-devel
||||||| d28b18c
   "id": "c22fc808",
=======
   "id": "12ce1c90",
>>>>>>> documentation-devel
   "metadata": {},
   "outputs": [],
   "source": [
    "sfe_tissue <- runMoransI(sfe_tissue, features = hvgs, BPPARAM = MulticoreParam(2),\n",
    "                         colGraphName = \"knn10\", name = \"moran_ns\")"
   ]
  },
  {
   "cell_type": "markdown",
<<<<<<< HEAD
<<<<<<< HEAD
   "id": "90ae24de",
||||||| 6a30bf1
   "id": "ccd21164",
=======
   "id": "25e79082",
>>>>>>> documentation-devel
||||||| d28b18c
   "id": "25e79082",
=======
   "id": "9a230eb5",
>>>>>>> documentation-devel
   "metadata": {
    "lines_to_next_cell": 0
   },
   "source": [
    "Here we store the results in \"moran_ns\", not to be confused with spatial Moran's I results.\n",
    "\n",
    "These are the genes that tend to be more similar to their neighbors in the 10 nearest neighbor graph in PCA space for gene expression rather than in histological space:"
   ]
  },
  {
   "cell_type": "code",
   "execution_count": null,
<<<<<<< HEAD
<<<<<<< HEAD
   "id": "f482cb6f",
||||||| 6a30bf1
   "id": "bd685311",
=======
   "id": "ebe32344",
>>>>>>> documentation-devel
||||||| d28b18c
   "id": "ebe32344",
=======
   "id": "11ca7466",
>>>>>>> documentation-devel
   "metadata": {},
   "outputs": [],
   "source": [
    "top_moran2 <- rownames(sfe_tissue)[order(rowData(sfe_tissue)$moran_ns_sample01, \n",
    "                                        decreasing = TRUE)[1:9]]"
   ]
  },
  {
   "cell_type": "code",
   "execution_count": null,
<<<<<<< HEAD
<<<<<<< HEAD
   "id": "c21cd61a",
||||||| 6a30bf1
   "id": "deaca017",
=======
   "id": "ab499051",
>>>>>>> documentation-devel
||||||| d28b18c
   "id": "ab499051",
=======
   "id": "135c86c1",
>>>>>>> documentation-devel
   "metadata": {},
   "outputs": [],
   "source": [
    "# Display NCBI descriptions for these genes\n",
    "gget_info2 <- gget$info(top_moran2)\n",
    "\n",
    "rownames(gget_info2) <- gget_info2$primary_gene_name\n",
    "select(gget_info2, ncbi_description)"
   ]
  },
  {
   "cell_type": "code",
   "execution_count": null,
<<<<<<< HEAD
<<<<<<< HEAD
   "id": "b0ef4270",
||||||| 6a30bf1
   "id": "04d6332c",
=======
   "id": "7870bc00",
>>>>>>> documentation-devel
||||||| d28b18c
   "id": "7870bc00",
=======
   "id": "5ff6d20a",
>>>>>>> documentation-devel
   "metadata": {
    "fig.height": 6,
    "fig.width": 9
   },
   "outputs": [],
   "source": [
    "plotSpatialFeature(sfe_tissue, top_moran2, ncol = 3, swap_rownames = \"symbol\",\n",
    "                   image_id = \"lowres\", maxcell = 5e4)"
   ]
  },
  {
   "cell_type": "markdown",
<<<<<<< HEAD
<<<<<<< HEAD
   "id": "4448568e",
||||||| 6a30bf1
   "id": "465e1d60",
=======
   "id": "bf12beb8",
>>>>>>> documentation-devel
||||||| d28b18c
   "id": "bf12beb8",
=======
   "id": "e86e27da",
>>>>>>> documentation-devel
   "metadata": {},
   "source": [
    "Although this Moran's I was not computed in histological space, these genes with the highest Moran's I in PCA space also show spatial structure, as different cell types reside in different spatial regions.\n",
    "\n",
    "# Session info"
   ]
  },
  {
   "cell_type": "code",
   "execution_count": null,
<<<<<<< HEAD
<<<<<<< HEAD
   "id": "a1a04b01",
||||||| 6a30bf1
   "id": "78d2f7b4",
=======
   "id": "ea68fcfc",
>>>>>>> documentation-devel
||||||| d28b18c
   "id": "ea68fcfc",
=======
   "id": "bfe82ee3",
>>>>>>> documentation-devel
   "metadata": {
    "lines_to_next_cell": 0
   },
   "outputs": [],
   "source": [
    "sessionInfo()"
   ]
  },
  {
   "cell_type": "markdown",
<<<<<<< HEAD
<<<<<<< HEAD
   "id": "a7d6c685",
||||||| 6a30bf1
   "id": "0a521cfe",
=======
   "id": "844a071e",
>>>>>>> documentation-devel
||||||| d28b18c
   "id": "844a071e",
=======
   "id": "6e3ab72c",
>>>>>>> documentation-devel
   "metadata": {},
   "source": []
  }
 ],
 "metadata": {
  "kernelspec": {
   "display_name": "R",
   "language": "R",
   "name": "ir"
  }
 },
 "nbformat": 4,
 "nbformat_minor": 5
}
