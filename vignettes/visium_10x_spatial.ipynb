{
 "cells": [
  {
   "cell_type": "raw",
<<<<<<< HEAD
<<<<<<< HEAD
   "id": "57b94fd8",
||||||| 00f6fb22
   "id": "05bd1cf1",
=======
   "id": "f3880886",
>>>>>>> documentation-devel
||||||| d828f8eb
   "id": "57b94fd8",
=======
   "id": "925e7d58",
>>>>>>> 6c25d2f1afd31725c9595ab9d8922b9d3c838629
   "metadata": {},
   "source": [
    "---\n",
    "title: \"Spatial analysis of 10X example Visium dataset\"\n",
    "author: \"Lambda Moses\"\n",
    "date: \"`r Sys.Date()`\"\n",
    "output: \n",
    "  html_document:\n",
    "  toc: true\n",
    "  toc_float:\n",
    "    collapsed: false\n",
    "  toc_depth: 3\n",
    "bibliography: ref.bib\n",
    "vignette: >\n",
    "  %\\VignetteIndexEntry{visium_10x_spatial}\n",
    "  %\\VignetteEngine{knitr::rmarkdown}\n",
    "  %\\VignetteEncoding{UTF-8}\n",
    "---"
   ]
  },
  {
   "cell_type": "code",
   "execution_count": null,
<<<<<<< HEAD
<<<<<<< HEAD
   "id": "4407c093",
||||||| 00f6fb22
   "id": "ae62a349",
=======
   "id": "cbb03429",
>>>>>>> documentation-devel
||||||| d828f8eb
   "id": "4407c093",
=======
   "id": "2b011384",
>>>>>>> 6c25d2f1afd31725c9595ab9d8922b9d3c838629
   "metadata": {
    "tags": [
     "remove_cell"
    ]
   },
   "outputs": [],
   "source": [
    "knitr::opts_chunk$set(\n",
    "  collapse = TRUE,\n",
    "  comment = \"#>\"\n",
    ")"
   ]
  },
  {
   "cell_type": "code",
   "execution_count": null,
<<<<<<< HEAD
<<<<<<< HEAD
   "id": "fba5ab95",
||||||| 00f6fb22
   "id": "a45fa2a7",
=======
   "id": "bad16e38",
>>>>>>> documentation-devel
||||||| d828f8eb
   "id": "fba5ab95",
=======
   "id": "d2707998",
>>>>>>> 6c25d2f1afd31725c9595ab9d8922b9d3c838629
   "metadata": {
    "eval": false,
    "tags": [
     "remove_cell"
    ]
   },
   "outputs": [],
   "source": [
    "# Install Google Colab dependencies\n",
    "# Note: this can take 30+ minutes (many of the dependencies include C++ code, which needs to be compiled)\n",
    "\n",
    "# First install `sf`, `ragg` and `textshaping` and their system dependencies:\n",
    "system(\"apt-get -y update && apt-get install -y  libudunits2-dev libgdal-dev libgeos-dev libproj-dev libharfbuzz-dev libfribidi-dev\")\n",
    "install.packages(\"sf\")\n",
    "install.packages(\"textshaping\")\n",
    "install.packages(\"ragg\")\n",
    "\n",
    "# Install system dependencies of some other R packages that Voyager either imports or suggests:\n",
    "system(\"apt-get install -y libfribidi-dev libcairo2-dev libmagick++-dev\")\n",
    "\n",
    "# Install Voyager from Bioconductor:\n",
    "install.packages(\"BiocManager\")\n",
    "BiocManager::install(version = \"3.17\", ask = FALSE, update = FALSE, Ncpus = 2)\n",
    "BiocManager::install(\"scater\")\n",
    "system.time(\n",
    "  BiocManager::install(\"Voyager\", dependencies = TRUE, Ncpus = 2, update = FALSE)\n",
    ")\n",
    "\n",
    "# Additional dependencies for this notebook\n",
    "system(\"apt-get install -y libfftw3-dev libprotobuf-dev\")\n",
    "BiocManager::install(\"EBImage\")\n",
    "BiocManager::install(\"terra\")\n",
    "BiocManager::install(\"rmapshaper\")\n",
    "install.packages(\"reticulate\")\n",
    "\n",
    "packageVersion(\"Voyager\")"
   ]
  },
  {
   "cell_type": "markdown",
<<<<<<< HEAD
<<<<<<< HEAD
   "id": "096a8194",
||||||| 00f6fb22
   "id": "46aea94e",
=======
   "id": "6257b3e2",
>>>>>>> documentation-devel
||||||| d828f8eb
   "id": "096a8194",
=======
   "id": "06a4982a",
>>>>>>> 6c25d2f1afd31725c9595ab9d8922b9d3c838629
   "metadata": {
    "lines_to_next_cell": 0
   },
   "source": [
    "# Introduction\n",
    "In a [more introductory vignette](https://pachterlab.github.io/voyager/articles/visium_10x.html), we performed basic non-spatial analyses on a mouse olfactory bulb Visium dataset from the 10X website. In this vignette, we perform spatial analyses in histological space as well as in gene expression space. \n",
    "\n",
    "Here we load the packages used in this vignette:"
   ]
  },
  {
   "cell_type": "code",
   "execution_count": null,
<<<<<<< HEAD
<<<<<<< HEAD
   "id": "37ac00dc",
||||||| d828f8eb
   "id": "37ac00dc",
=======
   "id": "9afdeefa",
>>>>>>> 6c25d2f1afd31725c9595ab9d8922b9d3c838629
   "metadata": {
    "message": false
   },
||||||| 00f6fb22
   "id": "4962968b",
   "metadata": {},
=======
   "id": "f44f7dc7",
   "metadata": {
    "message": false
   },
>>>>>>> documentation-devel
   "outputs": [],
   "source": [
    "library(Voyager)\n",
    "library(SpatialFeatureExperiment)\n",
    "library(SingleCellExperiment)\n",
    "library(ggplot2)\n",
    "library(scater)\n",
    "library(scuttle)\n",
    "library(scran)\n",
    "library(stringr)\n",
    "library(patchwork)\n",
    "library(bluster)\n",
    "library(rjson)\n",
    "library(EBImage)\n",
    "library(terra)\n",
    "library(rlang)\n",
    "library(sf)\n",
    "library(rmapshaper)\n",
    "library(dplyr)\n",
    "library(BiocParallel)\n",
    "library(BiocNeighbors)\n",
    "library(reticulate)\n",
    "theme_set(theme_bw())"
   ]
  },
  {
   "cell_type": "code",
   "execution_count": null,
<<<<<<< HEAD
<<<<<<< HEAD
   "id": "c48ee64a",
||||||| 00f6fb22
   "id": "3696c87e",
=======
   "id": "892095c9",
>>>>>>> documentation-devel
||||||| d828f8eb
   "id": "c48ee64a",
=======
   "id": "1e48eb22",
>>>>>>> 6c25d2f1afd31725c9595ab9d8922b9d3c838629
   "metadata": {},
   "outputs": [],
   "source": [
    "# Specify Python version to use gget\n",
    "PY_PATH <- system(\"which python\", intern = TRUE)\n",
    "use_python(PY_PATH)\n",
    "py_config()"
   ]
  },
  {
   "cell_type": "code",
   "execution_count": null,
<<<<<<< HEAD
<<<<<<< HEAD
   "id": "b20854c9",
||||||| 00f6fb22
   "id": "0c1579c9",
=======
   "id": "61ffcf9a",
>>>>>>> documentation-devel
||||||| d828f8eb
   "id": "b20854c9",
=======
   "id": "401c9966",
>>>>>>> 6c25d2f1afd31725c9595ab9d8922b9d3c838629
   "metadata": {
    "eval": false,
    "tags": [
     "remove_cell"
    ]
   },
   "outputs": [],
   "source": [
    "system(\"pip3 install gget\")"
   ]
  },
  {
   "cell_type": "code",
   "execution_count": null,
<<<<<<< HEAD
<<<<<<< HEAD
   "id": "42fd9a3a",
||||||| 00f6fb22
   "id": "f1e22cb9",
=======
   "id": "5c9f92a5",
>>>>>>> documentation-devel
||||||| d828f8eb
   "id": "42fd9a3a",
=======
   "id": "512e3918",
>>>>>>> 6c25d2f1afd31725c9595ab9d8922b9d3c838629
   "metadata": {},
   "outputs": [],
   "source": [
    "gget <- import(\"gget\")"
   ]
  },
  {
   "cell_type": "markdown",
<<<<<<< HEAD
<<<<<<< HEAD
   "id": "1604b2d7",
||||||| 00f6fb22
   "id": "a041e698",
=======
   "id": "658beb35",
>>>>>>> documentation-devel
||||||| d828f8eb
   "id": "1604b2d7",
=======
   "id": "6371bdd7",
>>>>>>> 6c25d2f1afd31725c9595ab9d8922b9d3c838629
   "metadata": {
    "lines_to_next_cell": 0
   },
   "source": [
    "Here we download the data from the 10X website. This is the unfiltered gene count matrix:"
   ]
  },
  {
   "cell_type": "code",
   "execution_count": null,
<<<<<<< HEAD
<<<<<<< HEAD
   "id": "b67d0599",
||||||| 00f6fb22
   "id": "2e268811",
=======
   "id": "9a971dcf",
>>>>>>> documentation-devel
||||||| d828f8eb
   "id": "b67d0599",
=======
   "id": "f573f7a5",
>>>>>>> 6c25d2f1afd31725c9595ab9d8922b9d3c838629
   "metadata": {},
   "outputs": [],
   "source": [
    "if (!file.exists(\"visium_ob.tar.gz\"))\n",
    "    download.file(\"https://cf.10xgenomics.com/samples/spatial-exp/2.0.0/Visium_Mouse_Olfactory_Bulb/Visium_Mouse_Olfactory_Bulb_raw_feature_bc_matrix.tar.gz\", \n",
    "                  destfile = \"visium_ob.tar.gz\")"
   ]
  },
  {
   "cell_type": "markdown",
<<<<<<< HEAD
<<<<<<< HEAD
   "id": "aa98723a",
||||||| 00f6fb22
   "id": "aab62e0d",
=======
   "id": "4215c8b6",
>>>>>>> documentation-devel
||||||| d828f8eb
   "id": "aa98723a",
=======
   "id": "4e947387",
>>>>>>> 6c25d2f1afd31725c9595ab9d8922b9d3c838629
   "metadata": {
    "lines_to_next_cell": 0
   },
   "source": [
    "This is the spatial information:"
   ]
  },
  {
   "cell_type": "code",
   "execution_count": null,
<<<<<<< HEAD
<<<<<<< HEAD
   "id": "6452215f",
||||||| 00f6fb22
   "id": "e83de501",
=======
   "id": "0c024165",
>>>>>>> documentation-devel
||||||| d828f8eb
   "id": "6452215f",
=======
   "id": "f93c8f8f",
>>>>>>> 6c25d2f1afd31725c9595ab9d8922b9d3c838629
   "metadata": {},
   "outputs": [],
   "source": [
    "if (!file.exists(\"visium_ob_spatial.tar.gz\"))\n",
    "    download.file(\"https://cf.10xgenomics.com/samples/spatial-exp/2.0.0/Visium_Mouse_Olfactory_Bulb/Visium_Mouse_Olfactory_Bulb_spatial.tar.gz\", \n",
    "                  destfile = \"visium_ob_spatial.tar.gz\")"
   ]
  },
  {
   "cell_type": "markdown",
<<<<<<< HEAD
<<<<<<< HEAD
   "id": "13eeaeaf",
||||||| 00f6fb22
   "id": "7a6a2334",
=======
   "id": "b6f59ce1",
>>>>>>> documentation-devel
||||||| d828f8eb
   "id": "13eeaeaf",
=======
   "id": "7c79f0cd",
>>>>>>> 6c25d2f1afd31725c9595ab9d8922b9d3c838629
   "metadata": {
    "lines_to_next_cell": 0
   },
   "source": [
    "Decompress the downloaded content:"
   ]
  },
  {
   "cell_type": "code",
   "execution_count": null,
<<<<<<< HEAD
<<<<<<< HEAD
   "id": "a9756c4d",
||||||| 00f6fb22
   "id": "e849ac3c",
=======
   "id": "6f524c1c",
>>>>>>> documentation-devel
||||||| d828f8eb
   "id": "a9756c4d",
=======
   "id": "20094b73",
>>>>>>> 6c25d2f1afd31725c9595ab9d8922b9d3c838629
   "metadata": {},
   "outputs": [],
   "source": [
    "if (!dir.exists(\"outs\")) {\n",
    "    dir.create(\"outs\")\n",
    "    system(\"tar -xvf visium_ob.tar.gz -C outs\")\n",
    "    system(\"tar -xvf visium_ob_spatial.tar.gz -C outs\")\n",
    "}"
   ]
  },
  {
   "cell_type": "markdown",
<<<<<<< HEAD
<<<<<<< HEAD
   "id": "ede5e26e",
||||||| 00f6fb22
   "id": "af929f3a",
=======
   "id": "cd71dc52",
>>>>>>> documentation-devel
||||||| d828f8eb
   "id": "ede5e26e",
=======
   "id": "8530d5c9",
>>>>>>> 6c25d2f1afd31725c9595ab9d8922b9d3c838629
   "metadata": {
    "lines_to_next_cell": 0
   },
   "source": [
    "Contents of the `outs` directory as from Space Ranger is explained in [the introductory vignette](https://pachterlab.github.io/voyager/articles/visium_10x.html).\n",
    "\n",
    "Here we read the data into R as an SFE object."
   ]
  },
  {
   "cell_type": "code",
   "execution_count": null,
<<<<<<< HEAD
<<<<<<< HEAD
   "id": "d3fbd008",
||||||| 00f6fb22
   "id": "34774e81",
=======
   "id": "58042dec",
>>>>>>> documentation-devel
||||||| d828f8eb
   "id": "d3fbd008",
=======
   "id": "2f13cfbd",
>>>>>>> 6c25d2f1afd31725c9595ab9d8922b9d3c838629
   "metadata": {},
   "outputs": [],
   "source": [
    "(sfe <- read10xVisiumSFE(samples = \".\", type = \"sparse\", data = \"raw\"))"
   ]
  },
  {
   "cell_type": "markdown",
<<<<<<< HEAD
<<<<<<< HEAD
   "id": "41c95396",
||||||| 00f6fb22
   "id": "cd9fda86",
=======
   "id": "62e9e830",
>>>>>>> documentation-devel
||||||| d828f8eb
   "id": "41c95396",
=======
   "id": "5157c16a",
>>>>>>> 6c25d2f1afd31725c9595ab9d8922b9d3c838629
   "metadata": {},
   "source": [
    "Here we add QC metrics, already plotted in the introductory vignette."
   ]
  },
  {
   "cell_type": "code",
   "execution_count": null,
<<<<<<< HEAD
<<<<<<< HEAD
   "id": "5fb79df8",
||||||| 00f6fb22
   "id": "f06a6c59",
=======
   "id": "7d1fd3c4",
>>>>>>> documentation-devel
||||||| d828f8eb
   "id": "5fb79df8",
=======
   "id": "2c8dd68c",
>>>>>>> 6c25d2f1afd31725c9595ab9d8922b9d3c838629
   "metadata": {},
   "outputs": [],
   "source": [
    "is_mt <- str_detect(rowData(sfe)$symbol, \"^mt-\")"
   ]
  },
  {
   "cell_type": "code",
   "execution_count": null,
<<<<<<< HEAD
<<<<<<< HEAD
   "id": "6c8eed2b",
||||||| 00f6fb22
   "id": "efdf9bfc",
=======
   "id": "9ce1186a",
>>>>>>> documentation-devel
||||||| d828f8eb
   "id": "6c8eed2b",
=======
   "id": "19e3824e",
>>>>>>> 6c25d2f1afd31725c9595ab9d8922b9d3c838629
   "metadata": {},
   "outputs": [],
   "source": [
    "sfe <- addPerCellQCMetrics(sfe, subsets = list(mito = is_mt))"
   ]
  },
  {
   "cell_type": "markdown",
<<<<<<< HEAD
<<<<<<< HEAD
   "id": "5f0a81d3",
||||||| 00f6fb22
   "id": "de745d67",
=======
   "id": "4b6cedf8",
>>>>>>> documentation-devel
||||||| d828f8eb
   "id": "5f0a81d3",
=======
   "id": "4002899d",
>>>>>>> 6c25d2f1afd31725c9595ab9d8922b9d3c838629
   "metadata": {},
   "source": [
    "# Tissue segmentation\n",
    "While Space Ranger can automatically detect which spots are in tissue and the Loupe browser can be used to manually annotate which spots are in tissue, it may be interesting to get the tissue outline polygon, so we would know how much each spot overlaps with the tissue and plot the outline. The tissue boundary polygon can be manually annotated with QuPath, which saves the polygon as a GeoJSON and can be directly read into R with `st_read()`. \n",
    "\n",
    "Or we can segment the tissue computationally. R generally isn't great for image processing, but there are some packages that can perform the segmentation, such as [`EBImage`](https://bioconductor.org/packages/release/bioc/html/EBImage.html), which is based on its own in house C and C++ code, and [`imager`](https://github.com/dahtah/imager/), which is based on [`CImg`](http://cimg.eu/).\n",
    "\n",
    "Here we don't have the full resolution image. We will perform tissue segmentation on the high resolution downsampled image and then scale it to make the coordinates of the tissue boundary match those of the spots. The `EBImage` package is used here. Compared to OpenCV, `EBImage` is slow on the full resolution image, but should be fine here for the downsized image."
   ]
  },
  {
   "cell_type": "code",
   "execution_count": null,
<<<<<<< HEAD
<<<<<<< HEAD
   "id": "fd89a437",
||||||| 00f6fb22
   "id": "270dba57",
=======
   "id": "ad1748f5",
>>>>>>> documentation-devel
||||||| d828f8eb
   "id": "fd89a437",
=======
   "id": "90ca4a97",
>>>>>>> 6c25d2f1afd31725c9595ab9d8922b9d3c838629
   "metadata": {},
   "outputs": [],
   "source": [
    "img <- readImage(\"outs/spatial/tissue_hires_image.png\")\n",
    "display(img)"
   ]
  },
  {
   "cell_type": "markdown",
<<<<<<< HEAD
<<<<<<< HEAD
   "id": "2f5cc1bd",
||||||| 00f6fb22
   "id": "a032662a",
=======
   "id": "e9ccfadf",
>>>>>>> documentation-devel
||||||| d828f8eb
   "id": "2f5cc1bd",
=======
   "id": "595e0ac2",
>>>>>>> 6c25d2f1afd31725c9595ab9d8922b9d3c838629
   "metadata": {
    "lines_to_next_cell": 0
   },
   "source": [
    "When rendered as a static webpage, the image is static, but when run interactively, this image will be shown in an interactive widget where you can zoom and pan.\n",
    "\n",
    "Here we show the RGB channels separately"
   ]
  },
  {
   "cell_type": "code",
   "execution_count": null,
<<<<<<< HEAD
<<<<<<< HEAD
   "id": "4e6b0914",
||||||| 00f6fb22
   "id": "6fe3bd35",
=======
   "id": "7b9d08d3",
>>>>>>> documentation-devel
||||||| d828f8eb
   "id": "4e6b0914",
=======
   "id": "fb9bc784",
>>>>>>> 6c25d2f1afd31725c9595ab9d8922b9d3c838629
   "metadata": {},
   "outputs": [],
   "source": [
    "img2 <- img\n",
    "colorMode(img2) <- Grayscale\n",
    "display(img2, all = TRUE)"
   ]
  },
  {
   "cell_type": "code",
   "execution_count": null,
<<<<<<< HEAD
<<<<<<< HEAD
   "id": "4755912d",
||||||| 00f6fb22
   "id": "c5f58827",
=======
   "id": "22163795",
>>>>>>> documentation-devel
||||||| d828f8eb
   "id": "4755912d",
=======
   "id": "29e2e09b",
>>>>>>> 6c25d2f1afd31725c9595ab9d8922b9d3c838629
   "metadata": {},
   "outputs": [],
   "source": [
    "hist(img)"
   ]
  },
  {
   "cell_type": "markdown",
<<<<<<< HEAD
<<<<<<< HEAD
   "id": "32a28aaf",
||||||| 00f6fb22
   "id": "404e3fae",
=======
   "id": "2c7811a1",
>>>>>>> documentation-devel
||||||| d828f8eb
   "id": "32a28aaf",
=======
   "id": "6cc15952",
>>>>>>> 6c25d2f1afd31725c9595ab9d8922b9d3c838629
   "metadata": {},
   "source": [
    "The tissue can be discerned with thresholding. The tall peak on the right is the background. The much lower peaks from around 0.6 to 0.85 must be the tissue. To capture the faint bluish region, the blue channel is used for thresholding. The threshold here is chosen based on the histogram and experimenting with nearby values."
   ]
  },
  {
   "cell_type": "code",
   "execution_count": null,
<<<<<<< HEAD
<<<<<<< HEAD
   "id": "f564f0f9",
||||||| 00f6fb22
   "id": "0046a3ec",
=======
   "id": "cb3aa3c8",
>>>>>>> documentation-devel
||||||| d828f8eb
   "id": "f564f0f9",
=======
   "id": "04d57618",
>>>>>>> 6c25d2f1afd31725c9595ab9d8922b9d3c838629
   "metadata": {},
   "outputs": [],
   "source": [
    "mask <- img2[,,3] < 0.87\n",
    "display(mask)"
   ]
  },
  {
   "cell_type": "markdown",
<<<<<<< HEAD
<<<<<<< HEAD
   "id": "2073fa67",
||||||| 00f6fb22
   "id": "99ae0828",
=======
   "id": "2a90b859",
>>>>>>> documentation-devel
||||||| d828f8eb
   "id": "2073fa67",
=======
   "id": "6649a165",
>>>>>>> 6c25d2f1afd31725c9595ab9d8922b9d3c838629
   "metadata": {
    "lines_to_next_cell": 0
   },
   "source": [
    "Then we use an opening operation (erosion followed by dilation) to denoise"
   ]
  },
  {
   "cell_type": "code",
   "execution_count": null,
<<<<<<< HEAD
<<<<<<< HEAD
   "id": "ba3d576e",
||||||| 00f6fb22
   "id": "8663283c",
=======
   "id": "15393280",
>>>>>>> documentation-devel
||||||| d828f8eb
   "id": "ba3d576e",
=======
   "id": "ca317f11",
>>>>>>> 6c25d2f1afd31725c9595ab9d8922b9d3c838629
   "metadata": {},
   "outputs": [],
   "source": [
    "kern <- makeBrush(3, shape='disc')\n",
    "mask_open <- opening(mask, kern)\n",
    "display(mask_open)"
   ]
  },
  {
   "cell_type": "markdown",
<<<<<<< HEAD
<<<<<<< HEAD
   "id": "020ab50f",
||||||| 00f6fb22
   "id": "8f889d8e",
=======
   "id": "fda007ed",
>>>>>>> documentation-devel
||||||| d828f8eb
   "id": "020ab50f",
=======
   "id": "41b55e8b",
>>>>>>> 6c25d2f1afd31725c9595ab9d8922b9d3c838629
   "metadata": {
    "lines_to_next_cell": 0
   },
   "source": [
    "There are some small holes in the tissue, which can be removed by a closing operation (dilation followed by erosion):"
   ]
  },
  {
   "cell_type": "code",
   "execution_count": null,
<<<<<<< HEAD
<<<<<<< HEAD
   "id": "c22dc7f5",
||||||| 00f6fb22
   "id": "bffe1b6b",
=======
   "id": "bbf78bfb",
>>>>>>> documentation-devel
||||||| d828f8eb
   "id": "c22dc7f5",
=======
   "id": "a796b7df",
>>>>>>> 6c25d2f1afd31725c9595ab9d8922b9d3c838629
   "metadata": {},
   "outputs": [],
   "source": [
    "mask_close <- closing(mask_open, kern)\n",
    "display(mask_close)"
   ]
  },
  {
   "cell_type": "markdown",
<<<<<<< HEAD
<<<<<<< HEAD
   "id": "a78db0fb",
||||||| 00f6fb22
   "id": "57b4253d",
=======
   "id": "a6037ae1",
>>>>>>> documentation-devel
||||||| d828f8eb
   "id": "a78db0fb",
=======
   "id": "bf94da2d",
>>>>>>> 6c25d2f1afd31725c9595ab9d8922b9d3c838629
   "metadata": {},
   "source": [
    "There are some larger holes in the tissue mask, which may be real holes or faint regions with few nuclei missed by thresholding. They might not be large enough to affect which Visium spots intersect the tissue.\n",
    "\n",
    "Now the main piece of tissue is clear. It must be the object with the largest area. However, there are two small pieces that should belong to the tissue at the top left. The debris and fiducials can be removed by setting all pixels in the mask outside the bounding box of the main piece to 0. Here we assign a different value to each contiguous object with `bwlabel()`, and use `computeFeatures.shape()` to find the area among other shape features (e.g. perimeter) of each object."
   ]
  },
  {
   "cell_type": "code",
   "execution_count": null,
<<<<<<< HEAD
<<<<<<< HEAD
   "id": "a95303bc",
||||||| 00f6fb22
   "id": "e83a46f4",
=======
   "id": "dc767380",
>>>>>>> documentation-devel
||||||| d828f8eb
   "id": "a95303bc",
=======
   "id": "cd1ed4e4",
>>>>>>> 6c25d2f1afd31725c9595ab9d8922b9d3c838629
   "metadata": {},
   "outputs": [],
   "source": [
    "mask_label <- bwlabel(mask_close)\n",
    "fts <- computeFeatures.shape(mask_label)"
   ]
  },
  {
   "cell_type": "code",
   "execution_count": null,
<<<<<<< HEAD
<<<<<<< HEAD
   "id": "9c7b43f4",
||||||| 00f6fb22
   "id": "1f950a3d",
=======
   "id": "636ad262",
>>>>>>> documentation-devel
||||||| d828f8eb
   "id": "9c7b43f4",
=======
   "id": "3568149e",
>>>>>>> 6c25d2f1afd31725c9595ab9d8922b9d3c838629
   "metadata": {},
   "outputs": [],
   "source": [
    "head(fts)"
   ]
  },
  {
   "cell_type": "code",
   "execution_count": null,
<<<<<<< HEAD
<<<<<<< HEAD
   "id": "55638756",
||||||| 00f6fb22
   "id": "2772e138",
=======
   "id": "a4cdc50d",
>>>>>>> documentation-devel
||||||| d828f8eb
   "id": "55638756",
=======
   "id": "36ea9a53",
>>>>>>> 6c25d2f1afd31725c9595ab9d8922b9d3c838629
   "metadata": {},
   "outputs": [],
   "source": [
    "summary(fts[,\"s.area\"])"
   ]
  },
  {
   "cell_type": "code",
   "execution_count": null,
<<<<<<< HEAD
<<<<<<< HEAD
   "id": "b478de5e",
||||||| 00f6fb22
   "id": "18710f2a",
=======
   "id": "33944434",
>>>>>>> documentation-devel
||||||| d828f8eb
   "id": "b478de5e",
=======
   "id": "1be75c2c",
>>>>>>> 6c25d2f1afd31725c9595ab9d8922b9d3c838629
   "metadata": {},
   "outputs": [],
   "source": [
    "max_ind <- which.max(fts[,\"s.area\"])\n",
    "inds <- which(as.array(mask_label) == max_ind, arr.ind = TRUE)\n",
    "head(inds)"
   ]
  },
  {
   "cell_type": "code",
   "execution_count": null,
<<<<<<< HEAD
<<<<<<< HEAD
   "id": "861b50b6",
||||||| 00f6fb22
   "id": "9f27fecc",
=======
   "id": "6159c65a",
>>>>>>> documentation-devel
||||||| d828f8eb
   "id": "861b50b6",
=======
   "id": "41432020",
>>>>>>> 6c25d2f1afd31725c9595ab9d8922b9d3c838629
   "metadata": {},
   "outputs": [],
   "source": [
    "row_inds <- c(seq_len(min(inds[,1])-1), seq(max(inds[,1])+1, nrow(mask_label), by = 1))\n",
    "col_inds <- c(seq_len(min(inds[,2])-1), seq(max(inds[,2])+1, nrow(mask_label), by = 1))\n",
    "mask_label[row_inds, ] <- 0\n",
    "mask_label[,col_inds] <- 0\n",
    "display(mask_label)"
   ]
  },
  {
   "cell_type": "markdown",
<<<<<<< HEAD
<<<<<<< HEAD
   "id": "4b0d39a3",
||||||| 00f6fb22
   "id": "cdbff9cc",
=======
   "id": "b48efd6c",
>>>>>>> documentation-devel
||||||| d828f8eb
   "id": "4b0d39a3",
=======
   "id": "943f296b",
>>>>>>> 6c25d2f1afd31725c9595ab9d8922b9d3c838629
   "metadata": {
    "lines_to_next_cell": 0
   },
   "source": [
    "Then remove the small pieces that are debris."
   ]
  },
  {
   "cell_type": "code",
   "execution_count": null,
<<<<<<< HEAD
<<<<<<< HEAD
   "id": "216e8595",
||||||| 00f6fb22
   "id": "0f5d85f0",
=======
   "id": "13683271",
>>>>>>> documentation-devel
||||||| d828f8eb
   "id": "216e8595",
=======
   "id": "7bfd18c2",
>>>>>>> 6c25d2f1afd31725c9595ab9d8922b9d3c838629
   "metadata": {},
   "outputs": [],
   "source": [
    "unique(as.vector(mask_label))"
   ]
  },
  {
   "cell_type": "code",
   "execution_count": null,
<<<<<<< HEAD
<<<<<<< HEAD
   "id": "7d9e05e1",
||||||| 00f6fb22
   "id": "a0249d0d",
=======
   "id": "c82da530",
>>>>>>> documentation-devel
||||||| d828f8eb
   "id": "7d9e05e1",
=======
   "id": "7773c9a0",
>>>>>>> 6c25d2f1afd31725c9595ab9d8922b9d3c838629
   "metadata": {},
   "outputs": [],
   "source": [
    "fts2 <- fts[unique(as.vector(mask_label))[-1],]\n",
    "fts2 <- fts2[order(fts2[,\"s.area\"], decreasing = TRUE),]"
   ]
  },
  {
   "cell_type": "code",
   "execution_count": null,
<<<<<<< HEAD
<<<<<<< HEAD
   "id": "6c2a0104",
||||||| 00f6fb22
   "id": "26b8df2b",
=======
   "id": "fae7b148",
>>>>>>> documentation-devel
||||||| d828f8eb
   "id": "6c2a0104",
=======
   "id": "417a7cc7",
>>>>>>> 6c25d2f1afd31725c9595ab9d8922b9d3c838629
   "metadata": {},
   "outputs": [],
   "source": [
    "plot(fts2[,1][-1], type = \"l\", ylab = \"Area\")"
   ]
  },
  {
   "cell_type": "code",
   "execution_count": null,
<<<<<<< HEAD
<<<<<<< HEAD
   "id": "ceb81e1d",
||||||| 00f6fb22
   "id": "aa4e2345",
=======
   "id": "58e85d32",
>>>>>>> documentation-devel
||||||| d828f8eb
   "id": "ceb81e1d",
=======
   "id": "90fc6dd0",
>>>>>>> 6c25d2f1afd31725c9595ab9d8922b9d3c838629
   "metadata": {},
   "outputs": [],
   "source": [
    "head(fts2, 10)"
   ]
  },
  {
   "cell_type": "markdown",
<<<<<<< HEAD
<<<<<<< HEAD
   "id": "7fb42551",
||||||| 00f6fb22
   "id": "9f37abbd",
=======
   "id": "ee9cbae2",
>>>>>>> documentation-devel
||||||| d828f8eb
   "id": "7fb42551",
=======
   "id": "f070791a",
>>>>>>> 6c25d2f1afd31725c9595ab9d8922b9d3c838629
   "metadata": {},
   "source": [
    "Object number 797 is a piece of debris at the bottom left. The other pieces with area over 100 pixels are tissue. Since debris really is small bits of tissue, so the boundary between debris and tissue can be blurry. Here the two are distinguished by morphology on the H&E image and proximity to the main tissue."
   ]
  },
  {
   "cell_type": "code",
   "execution_count": null,
<<<<<<< HEAD
<<<<<<< HEAD
   "id": "f7ce17ec",
||||||| 00f6fb22
   "id": "21c9db5c",
=======
   "id": "c1160799",
>>>>>>> documentation-devel
||||||| d828f8eb
   "id": "f7ce17ec",
=======
   "id": "55a988d8",
>>>>>>> 6c25d2f1afd31725c9595ab9d8922b9d3c838629
   "metadata": {},
   "outputs": [],
   "source": [
    "#display(mask_label == 797)"
   ]
  },
  {
   "cell_type": "markdown",
<<<<<<< HEAD
<<<<<<< HEAD
   "id": "1291f359",
||||||| 00f6fb22
   "id": "0b9ea126",
=======
   "id": "6271cda5",
>>>>>>> documentation-devel
||||||| d828f8eb
   "id": "1291f359",
=======
   "id": "3c9ec58d",
>>>>>>> 6c25d2f1afd31725c9595ab9d8922b9d3c838629
   "metadata": {
    "lines_to_next_cell": 0
   },
   "source": [
    "Here we remove the debris from the mask"
   ]
  },
  {
   "cell_type": "code",
   "execution_count": null,
<<<<<<< HEAD
<<<<<<< HEAD
   "id": "16f8b884",
||||||| 00f6fb22
   "id": "7d933688",
=======
   "id": "ebb8e1f9",
>>>>>>> documentation-devel
||||||| d828f8eb
   "id": "16f8b884",
=======
   "id": "ac7efff4",
>>>>>>> 6c25d2f1afd31725c9595ab9d8922b9d3c838629
   "metadata": {},
   "outputs": [],
   "source": [
    "mask_label[mask_label %in% c(797, as.numeric(rownames(fts2)[fts2[,1] < 100]))] <- 0"
   ]
  },
  {
   "cell_type": "markdown",
<<<<<<< HEAD
<<<<<<< HEAD
   "id": "4afc71f5",
||||||| 00f6fb22
   "id": "430a1439",
=======
   "id": "c18f8cfc",
>>>>>>> documentation-devel
||||||| d828f8eb
   "id": "4afc71f5",
=======
   "id": "17967310",
>>>>>>> 6c25d2f1afd31725c9595ab9d8922b9d3c838629
   "metadata": {
    "lines_to_next_cell": 0
   },
   "source": [
    "Since most holes in the mask are faint regions of the tissue missed by thresholding, the holes will be filled"
   ]
  },
  {
   "cell_type": "code",
   "execution_count": null,
<<<<<<< HEAD
<<<<<<< HEAD
   "id": "1d3b2eaf",
||||||| 00f6fb22
   "id": "b02d4262",
=======
   "id": "9f56ae47",
>>>>>>> documentation-devel
||||||| d828f8eb
   "id": "1d3b2eaf",
=======
   "id": "5a628e74",
>>>>>>> 6c25d2f1afd31725c9595ab9d8922b9d3c838629
   "metadata": {},
   "outputs": [],
   "source": [
    "mask_label <- fillHull(mask_label)"
   ]
  },
  {
   "cell_type": "code",
   "execution_count": null,
<<<<<<< HEAD
<<<<<<< HEAD
   "id": "67ed9172",
||||||| 00f6fb22
   "id": "46f5681f",
=======
   "id": "a2be12f7",
>>>>>>> documentation-devel
||||||| d828f8eb
   "id": "67ed9172",
=======
   "id": "7a4495e6",
>>>>>>> 6c25d2f1afd31725c9595ab9d8922b9d3c838629
   "metadata": {},
   "outputs": [],
   "source": [
    "display(paintObjects(mask_label, img, col=c(\"red\", \"yellow\"), opac=c(1, 0.3)))"
   ]
  },
  {
   "cell_type": "markdown",
<<<<<<< HEAD
<<<<<<< HEAD
   "id": "ef4f15de",
||||||| 00f6fb22
   "id": "ce1c4e1d",
=======
   "id": "fa34e11e",
>>>>>>> documentation-devel
||||||| d828f8eb
   "id": "ef4f15de",
=======
   "id": "9be07631",
>>>>>>> 6c25d2f1afd31725c9595ab9d8922b9d3c838629
   "metadata": {},
   "source": [
    "This segmentation process took a lot of manual oversight, in choosing the threshold, choosing kernel size and shape in the opening and closing operations, deciding whether to fill the holes, and deciding what is debris and what is tissue. \n",
    "\n",
    "# Convert tissue mask to polygon\n",
    "Now we have the tissue mask, which we will convert to polygon. While OpenCV can directly perform the conversion, as there isn't a comprehensive R wrapper of OpenCV, this conversion is more convoluted in R. We first convert the `Image` object to a raster as implemented in `terra`, the core R package for geospatial raster data. Then `terra` can convert the raster to polygon. As this image is downsized, the polygon will look quite pixelated. To mitigate this pixelation and save memory, the `ms_simplify()` function is used to simplify the polygon, only keeping a small proportion of all vertices. The `st_simplify()` function in `sf` can also simplify the polygons, but we can't specify what proportion of vertices to keep."
   ]
  },
  {
   "cell_type": "code",
   "execution_count": null,
<<<<<<< HEAD
<<<<<<< HEAD
   "id": "29088718",
||||||| 00f6fb22
   "id": "79f5c61e",
=======
   "id": "3bd945ec",
>>>>>>> documentation-devel
||||||| d828f8eb
   "id": "29088718",
=======
   "id": "da0ac1ed",
>>>>>>> 6c25d2f1afd31725c9595ab9d8922b9d3c838629
   "metadata": {},
   "outputs": [],
   "source": [
    "raster2polygon <- function(seg, keep = 0.2) {\n",
    "    r <- rast(as.array(seg), extent = ext(0, nrow(seg), 0, ncol(seg))) |> \n",
    "        trans() |> flip()\n",
    "    r[r < 1] <- NA\n",
    "    contours <- st_as_sf(as.polygons(r, dissolve = TRUE))\n",
    "    simplified <- ms_simplify(contours, keep = keep)\n",
    "    list(full = contours,\n",
    "         simplified = simplified)\n",
    "}"
   ]
  },
  {
   "cell_type": "code",
   "execution_count": null,
<<<<<<< HEAD
<<<<<<< HEAD
   "id": "cee43584",
||||||| 00f6fb22
   "id": "22d83d1f",
=======
   "id": "673d2149",
>>>>>>> documentation-devel
||||||| d828f8eb
   "id": "cee43584",
=======
   "id": "7796f8f4",
>>>>>>> 6c25d2f1afd31725c9595ab9d8922b9d3c838629
   "metadata": {},
   "outputs": [],
   "source": [
    "tb <- raster2polygon(mask_label)"
   ]
  },
  {
   "cell_type": "markdown",
<<<<<<< HEAD
<<<<<<< HEAD
   "id": "34a63c29",
||||||| 00f6fb22
   "id": "bfcd63a2",
=======
   "id": "536cfd6a",
>>>>>>> documentation-devel
||||||| d828f8eb
   "id": "34a63c29",
=======
   "id": "06b45735",
>>>>>>> 6c25d2f1afd31725c9595ab9d8922b9d3c838629
   "metadata": {
    "lines_to_next_cell": 0
   },
   "source": [
    "Before adding the geometry to the SFE object, it needs to be scaled to match the coordinates of the spots"
   ]
  },
  {
   "cell_type": "code",
   "execution_count": null,
<<<<<<< HEAD
<<<<<<< HEAD
   "id": "e79f2624",
||||||| 00f6fb22
   "id": "4d8c36d9",
=======
   "id": "bb83bf80",
>>>>>>> documentation-devel
||||||| d828f8eb
   "id": "e79f2624",
=======
   "id": "a1456168",
>>>>>>> 6c25d2f1afd31725c9595ab9d8922b9d3c838629
   "metadata": {},
   "outputs": [],
   "source": [
    "scale_factors <- fromJSON(file = \"outs/spatial/scalefactors_json.json\")"
   ]
  },
  {
   "cell_type": "code",
   "execution_count": null,
<<<<<<< HEAD
<<<<<<< HEAD
   "id": "7ead3b93",
||||||| 00f6fb22
   "id": "24c24dd4",
=======
   "id": "cfa9ecfe",
>>>>>>> documentation-devel
||||||| d828f8eb
   "id": "7ead3b93",
=======
   "id": "ea305621",
>>>>>>> 6c25d2f1afd31725c9595ab9d8922b9d3c838629
   "metadata": {},
   "outputs": [],
   "source": [
    "tb$simplified$geometry <- tb$simplified$geometry / scale_factors$tissue_hires_scalef"
   ]
  },
  {
   "cell_type": "code",
   "execution_count": null,
<<<<<<< HEAD
<<<<<<< HEAD
   "id": "99186735",
||||||| 00f6fb22
   "id": "ee9f436b",
=======
   "id": "27947b30",
>>>>>>> documentation-devel
||||||| d828f8eb
   "id": "99186735",
=======
   "id": "5eefbddf",
>>>>>>> 6c25d2f1afd31725c9595ab9d8922b9d3c838629
   "metadata": {},
   "outputs": [],
   "source": [
    "tissueBoundary(sfe) <- tb$simplified"
   ]
  },
  {
   "cell_type": "code",
   "execution_count": null,
<<<<<<< HEAD
<<<<<<< HEAD
   "id": "99a1860c",
||||||| 00f6fb22
   "id": "70a7aab6",
=======
   "id": "7508dae2",
>>>>>>> documentation-devel
||||||| d828f8eb
   "id": "99a1860c",
=======
   "id": "7f085f62",
>>>>>>> 6c25d2f1afd31725c9595ab9d8922b9d3c838629
   "metadata": {},
   "outputs": [],
   "source": [
    "plotSpatialFeature(sfe, \"sum\", annotGeometryName = \"tissueBoundary\", \n",
    "                   annot_fixed = list(fill = NA, color = \"black\"),\n",
    "                   image_id = \"lowres\") +\n",
    "    theme_void()"
   ]
  },
  {
   "cell_type": "markdown",
<<<<<<< HEAD
<<<<<<< HEAD
   "id": "02d435f1",
||||||| 00f6fb22
   "id": "66b882f4",
=======
   "id": "15ebc3be",
>>>>>>> documentation-devel
||||||| d828f8eb
   "id": "02d435f1",
=======
   "id": "5575494a",
>>>>>>> 6c25d2f1afd31725c9595ab9d8922b9d3c838629
   "metadata": {},
   "source": [
    "The mouse olfactory bulb is conventionally plotted horizontally. The entire SFE object can be transposed in histologial space to make the olfactory bulb horizontal."
   ]
  },
  {
   "cell_type": "code",
   "execution_count": null,
<<<<<<< HEAD
<<<<<<< HEAD
   "id": "3e397648",
||||||| 00f6fb22
   "id": "9305b19c",
=======
   "id": "4b6c1e70",
>>>>>>> documentation-devel
||||||| d828f8eb
   "id": "3e397648",
=======
   "id": "51febc90",
>>>>>>> 6c25d2f1afd31725c9595ab9d8922b9d3c838629
   "metadata": {},
   "outputs": [],
   "source": [
    "sfe <- SpatialFeatureExperiment::transpose(sfe)"
   ]
  },
  {
   "cell_type": "code",
   "execution_count": null,
<<<<<<< HEAD
<<<<<<< HEAD
   "id": "9bcc0765",
||||||| 00f6fb22
   "id": "7d9b7de9",
=======
   "id": "fbf95f1e",
>>>>>>> documentation-devel
||||||| d828f8eb
   "id": "9bcc0765",
=======
   "id": "aea81ac2",
>>>>>>> 6c25d2f1afd31725c9595ab9d8922b9d3c838629
   "metadata": {},
   "outputs": [],
   "source": [
    "plotSpatialFeature(sfe, \"sum\", annotGeometryName = \"tissueBoundary\", \n",
    "                   annot_fixed = list(fill = NA, color = \"black\"),\n",
    "                   image_id = \"lowres\")"
   ]
  },
  {
   "cell_type": "markdown",
<<<<<<< HEAD
<<<<<<< HEAD
   "id": "f2526a2d",
||||||| 00f6fb22
   "id": "9dfbf200",
=======
   "id": "cd01310d",
>>>>>>> documentation-devel
||||||| d828f8eb
   "id": "f2526a2d",
=======
   "id": "671225ad",
>>>>>>> 6c25d2f1afd31725c9595ab9d8922b9d3c838629
   "metadata": {},
   "source": [
    "Then we can use geometric operations to find which spots intersect tissue, which spots are covered by tissue, and how much of each spot intersects tissue."
   ]
  },
  {
   "cell_type": "code",
   "execution_count": null,
<<<<<<< HEAD
<<<<<<< HEAD
   "id": "12eec474",
||||||| 00f6fb22
   "id": "984979cb",
=======
   "id": "81bff652",
>>>>>>> documentation-devel
||||||| d828f8eb
   "id": "12eec474",
=======
   "id": "a9a96da9",
>>>>>>> 6c25d2f1afd31725c9595ab9d8922b9d3c838629
   "metadata": {},
   "outputs": [],
   "source": [
    "# Which spots intersect tissue\n",
    "sfe$int_tissue <- annotPred(sfe, colGeometryName = \"spotPoly\", \n",
    "                            annotGeometryName = \"tissueBoundary\",\n",
    "                            pred = st_intersects)\n",
    "sfe$cov_tissue <- annotPred(sfe, colGeometryName = \"spotPoly\", \n",
    "                            annotGeometryName = \"tissueBoundary\",\n",
    "                            pred = st_covered_by)"
   ]
  },
  {
   "cell_type": "markdown",
<<<<<<< HEAD
<<<<<<< HEAD
   "id": "a31dc5a3",
||||||| 00f6fb22
   "id": "f8e4d7a3",
=======
   "id": "01c39691",
>>>>>>> documentation-devel
||||||| d828f8eb
   "id": "a31dc5a3",
=======
   "id": "e049fa46",
>>>>>>> 6c25d2f1afd31725c9595ab9d8922b9d3c838629
   "metadata": {
    "lines_to_next_cell": 0
   },
   "source": [
    "Discrepancies between Space Ranger's annotation and the annotation based on tissue segmentation here:"
   ]
  },
  {
   "cell_type": "code",
   "execution_count": null,
<<<<<<< HEAD
<<<<<<< HEAD
   "id": "3c0376eb",
||||||| 00f6fb22
   "id": "efce37c2",
=======
   "id": "332daee5",
>>>>>>> documentation-devel
||||||| d828f8eb
   "id": "3c0376eb",
=======
   "id": "2349255d",
>>>>>>> 6c25d2f1afd31725c9595ab9d8922b9d3c838629
   "metadata": {},
   "outputs": [],
   "source": [
    "sfe$diff_sr <- case_when(sfe$in_tissue == sfe$int_tissue ~ \"same\",\n",
    "                         sfe$in_tissue & !sfe$int_tissue ~ \"Space Ranger\",\n",
    "                         sfe$int_tissue & !sfe$in_tissue ~ \"segmentation\") |> \n",
    "    factor(levels = c(\"Space Ranger\", \"same\", \"segmentation\"))\n",
    "plotSpatialFeature(sfe, \"diff_sr\", \n",
    "                   annotGeometryName = \"tissueBoundary\", \n",
    "                   annot_fixed = list(fill = NA, size = 0.5, color = \"black\")) +\n",
    "    scale_fill_brewer(type = \"div\", palette = 4)"
   ]
  },
  {
   "cell_type": "markdown",
<<<<<<< HEAD
<<<<<<< HEAD
   "id": "f01df324",
||||||| 00f6fb22
   "id": "c6864526",
=======
   "id": "56749821",
>>>>>>> documentation-devel
||||||| d828f8eb
   "id": "f01df324",
=======
   "id": "bbba357f",
>>>>>>> 6c25d2f1afd31725c9595ab9d8922b9d3c838629
   "metadata": {
    "lines_to_next_cell": 0
   },
   "source": [
    "Spots at the margin can intersect the tissue without being covered by it."
   ]
  },
  {
   "cell_type": "code",
   "execution_count": null,
<<<<<<< HEAD
<<<<<<< HEAD
   "id": "5dcb8661",
||||||| 00f6fb22
   "id": "76d1f8e5",
=======
   "id": "f27299a7",
>>>>>>> documentation-devel
||||||| d828f8eb
   "id": "5dcb8661",
=======
   "id": "a40c9cd4",
>>>>>>> 6c25d2f1afd31725c9595ab9d8922b9d3c838629
   "metadata": {},
   "outputs": [],
   "source": [
    "sfe$diff_int_cov <- sfe$int_tissue != sfe$cov_tissue\n",
    "plotSpatialFeature(sfe, \"diff_int_cov\", \n",
    "                   annotGeometryName = \"tissueBoundary\", \n",
    "                   annot_fixed = list(fill = NA, size = 0.5, color = \"black\"))"
   ]
  },
  {
   "cell_type": "markdown",
<<<<<<< HEAD
<<<<<<< HEAD
   "id": "ceb9afc5",
||||||| 00f6fb22
   "id": "8d831ee8",
=======
   "id": "766ec62b",
>>>>>>> documentation-devel
||||||| d828f8eb
   "id": "ceb9afc5",
=======
   "id": "76b00ede",
>>>>>>> 6c25d2f1afd31725c9595ab9d8922b9d3c838629
   "metadata": {},
   "source": [
    "We can also get the geometries of the intersections between the tissue and the Visium spots, and then calculate what percentage of each spot is in tissue. However, this percentage may not be very useful if the tissue segmentation is subject to error. This percentage may be more useful for pathologist annotated histological regions or objects such as nuclei and myofibers."
   ]
  },
  {
   "cell_type": "code",
   "execution_count": null,
<<<<<<< HEAD
<<<<<<< HEAD
   "id": "7cbf7a22",
||||||| 00f6fb22
   "id": "99677de5",
=======
   "id": "d15e648f",
>>>>>>> documentation-devel
||||||| d828f8eb
   "id": "7cbf7a22",
=======
   "id": "6e07c1f4",
>>>>>>> 6c25d2f1afd31725c9595ab9d8922b9d3c838629
   "metadata": {},
   "outputs": [],
   "source": [
    "spot_ints <- annotOp(sfe, colGeometryName = \"spotPoly\", \n",
    "                     annotGeometryName = \"tissueBoundary\", op = st_intersection)\n",
    "sfe$pct_tissue <- st_area(spot_ints) / st_area(spotPoly(sfe)) * 100"
   ]
  },
  {
   "cell_type": "markdown",
<<<<<<< HEAD
<<<<<<< HEAD
   "id": "6038f2d5",
||||||| 00f6fb22
   "id": "296cf6a0",
=======
   "id": "db06e567",
>>>>>>> documentation-devel
||||||| d828f8eb
   "id": "6038f2d5",
=======
   "id": "0be05e2e",
>>>>>>> 6c25d2f1afd31725c9595ab9d8922b9d3c838629
   "metadata": {
    "lines_to_next_cell": 0
   },
   "source": [
    "For spots that intersect tissue, does total counts relate to percentage of the spot in tissue?"
   ]
  },
  {
   "cell_type": "code",
   "execution_count": null,
<<<<<<< HEAD
<<<<<<< HEAD
   "id": "dc4177be",
||||||| 00f6fb22
   "id": "60528eaf",
=======
   "id": "8ce07d4b",
>>>>>>> documentation-devel
||||||| d828f8eb
   "id": "dc4177be",
=======
   "id": "0916cb96",
>>>>>>> 6c25d2f1afd31725c9595ab9d8922b9d3c838629
   "metadata": {},
   "outputs": [],
   "source": [
    "sfe_tissue <- sfe[,sfe$int_tissue]"
   ]
  },
  {
   "cell_type": "code",
   "execution_count": null,
<<<<<<< HEAD
<<<<<<< HEAD
   "id": "09f97efa",
||||||| 00f6fb22
   "id": "7bd2f317",
=======
   "id": "30975f94",
>>>>>>> documentation-devel
||||||| d828f8eb
   "id": "09f97efa",
=======
   "id": "14e083af",
>>>>>>> 6c25d2f1afd31725c9595ab9d8922b9d3c838629
   "metadata": {},
   "outputs": [],
   "source": [
    "plotColData(sfe_tissue, x = \"pct_tissue\", y = \"sum\", subset = \"diff_int_cov\",\n",
    "                name_true = \"Not covered\", name_false = \"Covered\", bins = 50)"
   ]
  },
  {
   "cell_type": "markdown",
<<<<<<< HEAD
<<<<<<< HEAD
   "id": "8a8accf7",
||||||| 00f6fb22
   "id": "b27d8dc6",
=======
   "id": "c984c04e",
>>>>>>> documentation-devel
||||||| d828f8eb
   "id": "8a8accf7",
=======
   "id": "6fe18c10",
>>>>>>> 6c25d2f1afd31725c9595ab9d8922b9d3c838629
   "metadata": {
    "lines_to_next_cell": 0
   },
   "source": [
    "Spots that are not fully covered by tissue have lower total UMI counts, which can be due to both that they are not fully in tissue and the cell types with lower total counts in the histological region near the edge, as some spots fully covered by tissue also have low UMI counts.\n",
    "\n",
    "# Spatial autocorrelation of QC metrics"
   ]
  },
  {
   "cell_type": "code",
   "execution_count": null,
<<<<<<< HEAD
<<<<<<< HEAD
   "id": "221a13e0",
||||||| 00f6fb22
   "id": "22598415",
=======
   "id": "cbb137e9",
>>>>>>> documentation-devel
||||||| d828f8eb
   "id": "221a13e0",
=======
   "id": "119b18e2",
>>>>>>> 6c25d2f1afd31725c9595ab9d8922b9d3c838629
   "metadata": {},
   "outputs": [],
   "source": [
    "colGraph(sfe_tissue, \"visium\") <- findVisiumGraph(sfe_tissue)"
   ]
  },
  {
   "cell_type": "code",
   "execution_count": null,
<<<<<<< HEAD
<<<<<<< HEAD
   "id": "d62f9674",
||||||| 00f6fb22
   "id": "ec121dc3",
=======
   "id": "d5c50419",
>>>>>>> documentation-devel
||||||| d828f8eb
   "id": "d62f9674",
=======
   "id": "66c98878",
>>>>>>> 6c25d2f1afd31725c9595ab9d8922b9d3c838629
   "metadata": {},
   "outputs": [],
   "source": [
    "qc_features <- c(\"sum\", \"detected\", \"subsets_mito_percent\")"
   ]
  },
  {
   "cell_type": "code",
   "execution_count": null,
<<<<<<< HEAD
<<<<<<< HEAD
   "id": "9151d3d0",
||||||| 00f6fb22
   "id": "f7e5aced",
=======
   "id": "91b14631",
>>>>>>> documentation-devel
||||||| d828f8eb
   "id": "9151d3d0",
=======
   "id": "dd309088",
>>>>>>> 6c25d2f1afd31725c9595ab9d8922b9d3c838629
   "metadata": {},
   "outputs": [],
   "source": [
    "sfe_tissue <- colDataUnivariate(sfe_tissue, \"moran.mc\", qc_features, nsim = 200)"
   ]
  },
  {
   "cell_type": "code",
   "execution_count": null,
<<<<<<< HEAD
<<<<<<< HEAD
   "id": "27df1028",
||||||| 00f6fb22
   "id": "56a5705c",
=======
   "id": "6b2cfdf8",
>>>>>>> documentation-devel
||||||| d828f8eb
   "id": "27df1028",
=======
   "id": "74959a13",
>>>>>>> 6c25d2f1afd31725c9595ab9d8922b9d3c838629
   "metadata": {},
   "outputs": [],
   "source": [
    "plotMoranMC(sfe_tissue, qc_features)"
   ]
  },
  {
   "cell_type": "code",
   "execution_count": null,
<<<<<<< HEAD
<<<<<<< HEAD
   "id": "3a229f91",
||||||| 00f6fb22
   "id": "9e674708",
=======
   "id": "2a0d656b",
>>>>>>> documentation-devel
||||||| d828f8eb
   "id": "3a229f91",
=======
   "id": "d7db877e",
>>>>>>> 6c25d2f1afd31725c9595ab9d8922b9d3c838629
   "metadata": {},
   "outputs": [],
   "source": [
    "sfe_tissue <- colDataUnivariate(sfe_tissue, \"sp.correlogram\", qc_features,\n",
    "                                order = 8)"
   ]
  },
  {
   "cell_type": "code",
   "execution_count": null,
<<<<<<< HEAD
<<<<<<< HEAD
   "id": "fc4909a8",
||||||| 00f6fb22
   "id": "c6425b2b",
=======
   "id": "39547ef4",
>>>>>>> documentation-devel
||||||| d828f8eb
   "id": "fc4909a8",
=======
   "id": "a27896c2",
>>>>>>> 6c25d2f1afd31725c9595ab9d8922b9d3c838629
   "metadata": {},
   "outputs": [],
   "source": [
    "plotCorrelogram(sfe_tissue, qc_features)"
   ]
  },
  {
   "cell_type": "code",
   "execution_count": null,
<<<<<<< HEAD
<<<<<<< HEAD
   "id": "6c4fe6a9",
||||||| 00f6fb22
   "id": "d356e8cf",
=======
   "id": "4442526d",
>>>>>>> documentation-devel
||||||| d828f8eb
   "id": "6c4fe6a9",
=======
   "id": "5204220b",
>>>>>>> 6c25d2f1afd31725c9595ab9d8922b9d3c838629
   "metadata": {},
   "outputs": [],
   "source": [
    "sfe_tissue <- colDataUnivariate(sfe_tissue, \"localmoran\", qc_features)"
   ]
  },
  {
   "cell_type": "code",
   "execution_count": null,
<<<<<<< HEAD
<<<<<<< HEAD
   "id": "859df899",
||||||| 00f6fb22
   "id": "11094595",
=======
   "id": "374752b4",
>>>>>>> documentation-devel
||||||| d828f8eb
   "id": "859df899",
=======
   "id": "b8429eb3",
>>>>>>> 6c25d2f1afd31725c9595ab9d8922b9d3c838629
   "metadata": {
    "fig.height": 6,
    "fig.width": 8
   },
   "outputs": [],
   "source": [
    "plotLocalResult(sfe_tissue, \"localmoran\", qc_features, ncol = 2,\n",
    "                colGeometryName = \"spotPoly\", divergent = TRUE, \n",
    "                diverge_center = 0, image_id = \"lowres\", maxcell = 5e4)"
   ]
  },
  {
   "cell_type": "code",
   "execution_count": null,
<<<<<<< HEAD
<<<<<<< HEAD
   "id": "33b818ef",
||||||| 00f6fb22
   "id": "9f6c69e3",
=======
   "id": "625aebc6",
>>>>>>> documentation-devel
||||||| d828f8eb
   "id": "33b818ef",
=======
   "id": "f43adffd",
>>>>>>> 6c25d2f1afd31725c9595ab9d8922b9d3c838629
   "metadata": {},
   "outputs": [],
   "source": [
    "sfe_tissue <- colDataUnivariate(sfe_tissue, \"LOSH\", qc_features)"
   ]
  },
  {
   "cell_type": "code",
   "execution_count": null,
<<<<<<< HEAD
<<<<<<< HEAD
   "id": "1f9638cc",
||||||| 00f6fb22
   "id": "caca2c0f",
=======
   "id": "ea6fa4de",
>>>>>>> documentation-devel
||||||| d828f8eb
   "id": "1f9638cc",
=======
   "id": "50392845",
>>>>>>> 6c25d2f1afd31725c9595ab9d8922b9d3c838629
   "metadata": {
    "fig.height": 6,
    "fig.width": 8
   },
   "outputs": [],
   "source": [
    "plotLocalResult(sfe_tissue, \"LOSH\", qc_features, ncol = 2,\n",
    "                colGeometryName = \"spotPoly\", image_id = \"lowres\", maxcell = 5e4)"
   ]
  },
  {
   "cell_type": "code",
   "execution_count": null,
<<<<<<< HEAD
<<<<<<< HEAD
   "id": "c8bc5c70",
||||||| 00f6fb22
   "id": "7b4e951b",
=======
   "id": "658a3581",
>>>>>>> documentation-devel
||||||| d828f8eb
   "id": "c8bc5c70",
=======
   "id": "56c74420",
>>>>>>> 6c25d2f1afd31725c9595ab9d8922b9d3c838629
   "metadata": {},
   "outputs": [],
   "source": [
    "sfe_tissue <- colDataUnivariate(sfe_tissue, \"moran.plot\", qc_features)"
   ]
  },
  {
   "cell_type": "code",
   "execution_count": null,
<<<<<<< HEAD
<<<<<<< HEAD
   "id": "357dae15",
||||||| 00f6fb22
   "id": "e1e3c960",
=======
   "id": "87c31ccc",
>>>>>>> documentation-devel
||||||| d828f8eb
   "id": "357dae15",
=======
   "id": "f24fa0c3",
>>>>>>> 6c25d2f1afd31725c9595ab9d8922b9d3c838629
   "metadata": {},
   "outputs": [],
   "source": [
    "moranPlot(sfe_tissue, \"subsets_mito_percent\")"
   ]
  },
  {
   "cell_type": "markdown",
<<<<<<< HEAD
<<<<<<< HEAD
   "id": "5a0cf860",
||||||| 00f6fb22
   "id": "a8c93350",
=======
   "id": "a1c19698",
>>>>>>> documentation-devel
||||||| d828f8eb
   "id": "5a0cf860",
=======
   "id": "66965dca",
>>>>>>> 6c25d2f1afd31725c9595ab9d8922b9d3c838629
   "metadata": {
    "lines_to_next_cell": 0
   },
   "source": [
    "# Spatial autocorrelation of gene expression\n",
    "\n",
    "Normalize data with the `scran` method, and find highly variable genes"
   ]
  },
  {
   "cell_type": "code",
   "execution_count": null,
<<<<<<< HEAD
<<<<<<< HEAD
   "id": "548ffb6a",
||||||| 00f6fb22
   "id": "1d74081f",
=======
   "id": "04861625",
>>>>>>> documentation-devel
||||||| d828f8eb
   "id": "548ffb6a",
=======
   "id": "011ad8e2",
>>>>>>> 6c25d2f1afd31725c9595ab9d8922b9d3c838629
   "metadata": {},
   "outputs": [],
   "source": [
    "#clusters <- quickCluster(sfe_tissue)\n",
    "#sfe_tissue <- computeSumFactors(sfe_tissue, clusters=clusters)\n",
    "#sfe_tissue <- sfe_tissue[, sizeFactors(sfe_tissue) > 0]\n",
    "sfe_tissue <- logNormCounts(sfe_tissue)"
   ]
  },
  {
   "cell_type": "code",
   "execution_count": null,
<<<<<<< HEAD
<<<<<<< HEAD
   "id": "90290b34",
||||||| 00f6fb22
   "id": "d6e33040",
=======
   "id": "bcab2ad3",
>>>>>>> documentation-devel
||||||| d828f8eb
   "id": "90290b34",
=======
   "id": "eceb477e",
>>>>>>> 6c25d2f1afd31725c9595ab9d8922b9d3c838629
   "metadata": {},
   "outputs": [],
   "source": [
    "dec <- modelGeneVar(sfe_tissue)\n",
    "hvgs <- getTopHVGs(dec, n = 2000)"
   ]
  },
  {
   "cell_type": "markdown",
<<<<<<< HEAD
<<<<<<< HEAD
   "id": "93024070",
||||||| 00f6fb22
   "id": "3ce4e274",
=======
   "id": "975896c3",
>>>>>>> documentation-devel
||||||| d828f8eb
   "id": "93024070",
=======
   "id": "8a9cd977",
>>>>>>> 6c25d2f1afd31725c9595ab9d8922b9d3c838629
   "metadata": {
    "lines_to_next_cell": 0
   },
   "source": [
    "Find Moran's I for all highly variable genes:"
   ]
  },
  {
   "cell_type": "code",
   "execution_count": null,
<<<<<<< HEAD
<<<<<<< HEAD
   "id": "6be2fb42",
||||||| 00f6fb22
   "id": "cd9b6ba0",
=======
   "id": "5a611471",
>>>>>>> documentation-devel
||||||| d828f8eb
   "id": "6be2fb42",
=======
   "id": "5a67c030",
>>>>>>> 6c25d2f1afd31725c9595ab9d8922b9d3c838629
   "metadata": {},
   "outputs": [],
   "source": [
    "sfe_tissue <- runMoransI(sfe_tissue, features = hvgs, BPPARAM = MulticoreParam(2))"
   ]
  },
  {
   "cell_type": "code",
   "execution_count": null,
<<<<<<< HEAD
<<<<<<< HEAD
   "id": "10977221",
||||||| 00f6fb22
   "id": "4fa95d19",
=======
   "id": "4f2bc3ae",
>>>>>>> documentation-devel
||||||| d828f8eb
   "id": "10977221",
=======
   "id": "ce11ad24",
>>>>>>> 6c25d2f1afd31725c9595ab9d8922b9d3c838629
   "metadata": {},
   "outputs": [],
   "source": [
    "plotRowDataHistogram(sfe_tissue, \"moran_sample01\")"
   ]
  },
  {
   "cell_type": "markdown",
<<<<<<< HEAD
<<<<<<< HEAD
   "id": "bfbd8c5c",
||||||| 00f6fb22
   "id": "e29cc375",
=======
   "id": "87a64e55",
>>>>>>> documentation-devel
||||||| d828f8eb
   "id": "bfbd8c5c",
=======
   "id": "febe410a",
>>>>>>> 6c25d2f1afd31725c9595ab9d8922b9d3c838629
   "metadata": {
    "lines_to_next_cell": 0
   },
   "source": [
    "The vast majority of genes have positive Moran's I. Here we'll find the genes with the highest Moran's I:"
   ]
  },
  {
   "cell_type": "code",
   "execution_count": null,
<<<<<<< HEAD
<<<<<<< HEAD
   "id": "6c0b12fb",
||||||| 00f6fb22
   "id": "325e5e74",
=======
   "id": "1544ec3b",
>>>>>>> documentation-devel
||||||| d828f8eb
   "id": "6c0b12fb",
=======
   "id": "95203886",
>>>>>>> 6c25d2f1afd31725c9595ab9d8922b9d3c838629
   "metadata": {},
   "outputs": [],
   "source": [
    "top_moran <- rownames(sfe_tissue)[order(rowData(sfe_tissue)$moran_sample01, \n",
    "                                        decreasing = TRUE)[1:9]]"
   ]
  },
  {
   "cell_type": "markdown",
<<<<<<< HEAD
<<<<<<< HEAD
   "id": "304b6d79",
||||||| 00f6fb22
   "id": "a4ce0e54",
=======
   "id": "2866c4aa",
>>>>>>> documentation-devel
||||||| d828f8eb
   "id": "304b6d79",
=======
   "id": "80a0eae4",
>>>>>>> 6c25d2f1afd31725c9595ab9d8922b9d3c838629
   "metadata": {
    "lines_to_next_cell": 0
   },
   "source": [
    "We can use the [gget info](https://pachterlab.github.io/gget/info.html) module from the [gget](https://pachterlab.github.io/gget/) package to get additional information on these genes, such as their descriptions, synonyms, transcripts and more from a collection of reference databases including [Ensembl](https://ensembl.org/), [UniProt](https://www.uniprot.org/) and [NCBI](https://www.ncbi.nlm.nih.gov/) Here, we are showing their gene descriptions from [NCBI](https://www.ncbi.nlm.nih.gov/):"
   ]
  },
  {
   "cell_type": "code",
   "execution_count": null,
<<<<<<< HEAD
<<<<<<< HEAD
   "id": "8e193350",
||||||| 00f6fb22
   "id": "3a7e949a",
=======
   "id": "c23f39ac",
>>>>>>> documentation-devel
||||||| d828f8eb
   "id": "8e193350",
=======
   "id": "9776e024",
>>>>>>> 6c25d2f1afd31725c9595ab9d8922b9d3c838629
   "metadata": {},
   "outputs": [],
   "source": [
    "gget_info <- gget$info(top_moran)\n",
    "\n",
    "rownames(gget_info) <- gget_info$primary_gene_name\n",
    "select(gget_info, ncbi_description)"
   ]
  },
  {
   "cell_type": "markdown",
<<<<<<< HEAD
<<<<<<< HEAD
   "id": "85068191",
||||||| 00f6fb22
   "id": "89014419",
=======
   "id": "c1cdfdc9",
>>>>>>> documentation-devel
||||||| d828f8eb
   "id": "85068191",
=======
   "id": "5d2914c6",
>>>>>>> 6c25d2f1afd31725c9595ab9d8922b9d3c838629
   "metadata": {
    "lines_to_next_cell": 0
   },
   "source": [
    "Plot the genes with the highest Moran's I:"
   ]
  },
  {
   "cell_type": "code",
   "execution_count": null,
<<<<<<< HEAD
<<<<<<< HEAD
   "id": "6c274baf",
||||||| 00f6fb22
   "id": "fe31ba3d",
=======
   "id": "0c008804",
>>>>>>> documentation-devel
||||||| d828f8eb
   "id": "6c274baf",
=======
   "id": "6caa426c",
>>>>>>> 6c25d2f1afd31725c9595ab9d8922b9d3c838629
   "metadata": {
    "fig.height": 5,
    "fig.width": 9
   },
   "outputs": [],
   "source": [
    "plotSpatialFeature(sfe_tissue, top_moran, ncol = 3, image_id = \"lowres\",\n",
    "                   maxcell = 5e4, swap_rownames = \"symbol\")"
   ]
  },
  {
   "cell_type": "markdown",
<<<<<<< HEAD
<<<<<<< HEAD
   "id": "6669582f",
||||||| 00f6fb22
   "id": "3f2fef81",
=======
   "id": "b7bef2ab",
>>>>>>> documentation-devel
||||||| d828f8eb
   "id": "6669582f",
=======
   "id": "09412db2",
>>>>>>> 6c25d2f1afd31725c9595ab9d8922b9d3c838629
   "metadata": {
    "lines_to_next_cell": 0
   },
   "source": [
    "Here global Moran's I seems to be more about tissue structure. \n",
    "\n",
    "Some genes have negative Moran's I that might not be statistically significant:"
   ]
  },
  {
   "cell_type": "code",
   "execution_count": null,
<<<<<<< HEAD
<<<<<<< HEAD
   "id": "831d501a",
||||||| 00f6fb22
   "id": "4f4fa1d6",
=======
   "id": "d2d0613c",
>>>>>>> documentation-devel
||||||| d828f8eb
   "id": "831d501a",
=======
   "id": "fe068deb",
>>>>>>> 6c25d2f1afd31725c9595ab9d8922b9d3c838629
   "metadata": {},
   "outputs": [],
   "source": [
    "neg_moran <- rownames(sfe_tissue)[order(rowData(sfe_tissue)$moran_sample01, \n",
    "                                        decreasing = FALSE)[1:9]]"
   ]
  },
  {
   "cell_type": "code",
   "execution_count": null,
<<<<<<< HEAD
<<<<<<< HEAD
   "id": "610bfab7",
||||||| 00f6fb22
   "id": "ffacb1bd",
=======
   "id": "283086c4",
>>>>>>> documentation-devel
||||||| d828f8eb
   "id": "610bfab7",
=======
   "id": "9baf8c78",
>>>>>>> 6c25d2f1afd31725c9595ab9d8922b9d3c838629
   "metadata": {},
   "outputs": [],
   "source": [
    "# Display NCBI descriptions for these genes\n",
    "gget_info_neg <- gget$info(neg_moran)\n",
    "\n",
    "rownames(gget_info_neg) <- gget_info_neg$primary_gene_name\n",
    "select(gget_info_neg, ncbi_description)"
   ]
  },
  {
   "cell_type": "code",
   "execution_count": null,
<<<<<<< HEAD
<<<<<<< HEAD
   "id": "c6731840",
||||||| 00f6fb22
   "id": "80ff2336",
=======
   "id": "390d048c",
>>>>>>> documentation-devel
||||||| d828f8eb
   "id": "c6731840",
=======
   "id": "1ae9792b",
>>>>>>> 6c25d2f1afd31725c9595ab9d8922b9d3c838629
   "metadata": {
    "fig.height": 5,
    "fig.width": 9
   },
   "outputs": [],
   "source": [
    "plotSpatialFeature(sfe_tissue, neg_moran, ncol = 3, swap_rownames = \"symbol\",\n",
    "                   image_id = \"lowres\", maxcell = 5e4)"
   ]
  },
  {
   "cell_type": "code",
   "execution_count": null,
<<<<<<< HEAD
<<<<<<< HEAD
   "id": "ae450f29",
||||||| 00f6fb22
   "id": "0200ca59",
=======
   "id": "c5d497a4",
>>>>>>> documentation-devel
||||||| d828f8eb
   "id": "ae450f29",
=======
   "id": "f9ea5783",
>>>>>>> 6c25d2f1afd31725c9595ab9d8922b9d3c838629
   "metadata": {},
   "outputs": [],
   "source": [
    "sfe_tissue <- runUnivariate(sfe_tissue, \"moran.mc\", neg_moran, \n",
    "                            colGraphName = \"visium\", nsim = 200, alternative = \"less\")"
   ]
  },
  {
   "cell_type": "code",
   "execution_count": null,
<<<<<<< HEAD
<<<<<<< HEAD
   "id": "e0303151",
||||||| 00f6fb22
   "id": "9ef516f4",
=======
   "id": "1b91aa29",
>>>>>>> documentation-devel
||||||| d828f8eb
   "id": "e0303151",
=======
   "id": "f3522399",
>>>>>>> 6c25d2f1afd31725c9595ab9d8922b9d3c838629
   "metadata": {},
   "outputs": [],
   "source": [
    "plotMoranMC(sfe_tissue, neg_moran, swap_rownames = \"symbol\")"
   ]
  },
  {
   "cell_type": "code",
   "execution_count": null,
<<<<<<< HEAD
<<<<<<< HEAD
   "id": "5183cac7",
||||||| 00f6fb22
   "id": "266bcbce",
=======
   "id": "9a371219",
>>>>>>> documentation-devel
||||||| d828f8eb
   "id": "5183cac7",
=======
   "id": "32560d08",
>>>>>>> 6c25d2f1afd31725c9595ab9d8922b9d3c838629
   "metadata": {},
   "outputs": [],
   "source": [
    "rowData(sfe_tissue)[neg_moran, c(\"moran_sample01\", \"moran.mc_p.value_sample01\")]"
   ]
  },
  {
   "cell_type": "markdown",
<<<<<<< HEAD
<<<<<<< HEAD
   "id": "18450aee",
||||||| 00f6fb22
   "id": "27fdb013",
=======
   "id": "d9fbd47b",
>>>>>>> documentation-devel
||||||| d828f8eb
   "id": "18450aee",
=======
   "id": "9a007c00",
>>>>>>> 6c25d2f1afd31725c9595ab9d8922b9d3c838629
   "metadata": {},
   "source": [
    "As there are 2000 highly variable genes and 2000 tests, these would no longer be significant after correcting for multiple testing. \n",
    "\n",
    "Does global Moran's I relate to gene expression level?"
   ]
  },
  {
   "cell_type": "code",
   "execution_count": null,
<<<<<<< HEAD
<<<<<<< HEAD
   "id": "f1675706",
||||||| 00f6fb22
   "id": "2a17dce4",
=======
   "id": "300507a1",
>>>>>>> documentation-devel
||||||| d828f8eb
   "id": "f1675706",
=======
   "id": "ad295299",
>>>>>>> 6c25d2f1afd31725c9595ab9d8922b9d3c838629
   "metadata": {},
   "outputs": [],
   "source": [
    "sfe_tissue <- addPerFeatureQCMetrics(sfe_tissue)\n",
    "names(rowData(sfe_tissue))"
   ]
  },
  {
   "cell_type": "code",
   "execution_count": null,
<<<<<<< HEAD
<<<<<<< HEAD
   "id": "a4698c19",
||||||| 00f6fb22
   "id": "0fd731ab",
=======
   "id": "e244cff2",
>>>>>>> documentation-devel
||||||| d828f8eb
   "id": "a4698c19",
=======
   "id": "b8c8a255",
>>>>>>> 6c25d2f1afd31725c9595ab9d8922b9d3c838629
   "metadata": {},
   "outputs": [],
   "source": [
    "plotRowData(sfe_tissue, x = \"mean\", y = \"moran_sample01\") +\n",
    "    scale_x_log10() +\n",
    "    annotation_logticks(sides = \"b\") +\n",
    "    geom_density2d()"
   ]
  },
  {
   "cell_type": "markdown",
<<<<<<< HEAD
<<<<<<< HEAD
   "id": "b54e804d",
||||||| 00f6fb22
   "id": "f17301f2",
=======
   "id": "c9d71833",
>>>>>>> documentation-devel
||||||| d828f8eb
   "id": "b54e804d",
=======
   "id": "98e8774d",
>>>>>>> 6c25d2f1afd31725c9595ab9d8922b9d3c838629
   "metadata": {
    "lines_to_next_cell": 0
   },
   "source": [
    "Genes that are more highly expressed overall tend to have higher Moran's I. \n",
    "\n",
    "# Apply spatial analysis methods to gene expression space\n",
    "Spatial statistics that require a spatial neighborhood graph can also be applied to the k nearest neighbor graph not in histological space but in gene expression space. This is done in more depth in [this vignette](https://pachterlab.github.io/voyager/articles/nonspatial.html)."
   ]
  },
  {
   "cell_type": "code",
   "execution_count": null,
<<<<<<< HEAD
<<<<<<< HEAD
   "id": "23cf4405",
||||||| 00f6fb22
   "id": "98cfdea7",
=======
   "id": "7cf4e02e",
>>>>>>> documentation-devel
||||||| d828f8eb
   "id": "23cf4405",
=======
   "id": "87f2fa24",
>>>>>>> 6c25d2f1afd31725c9595ab9d8922b9d3c838629
   "metadata": {},
   "outputs": [],
   "source": [
    "sfe_tissue <- runPCA(sfe_tissue, ncomponents = 30, subset_row = hvgs,\n",
    "                     scale = TRUE) # scale as in Seurat"
   ]
  },
  {
   "cell_type": "code",
   "execution_count": null,
<<<<<<< HEAD
<<<<<<< HEAD
   "id": "868370b9",
||||||| 00f6fb22
   "id": "8d769b1a",
=======
   "id": "54f20086",
>>>>>>> documentation-devel
||||||| d828f8eb
   "id": "868370b9",
=======
   "id": "5e6812bd",
>>>>>>> 6c25d2f1afd31725c9595ab9d8922b9d3c838629
   "metadata": {},
   "outputs": [],
   "source": [
    "foo <- findKNN(reducedDim(sfe_tissue, \"PCA\")[,1:10], k=10, BNPARAM=AnnoyParam())\n",
    "# Split by row\n",
    "foo_nb <- asplit(foo$index, 1)\n",
    "dmat <- 1/foo$distance\n",
    "# Row normalize the weights\n",
    "dmat <- sweep(dmat, 1, rowSums(dmat), FUN = \"/\")\n",
    "glist <- asplit(dmat, 1)\n",
    "# Sort based on index\n",
    "ord <- lapply(foo_nb, order)\n",
    "foo_nb <- lapply(seq_along(foo_nb), function(i) foo_nb[[i]][ord[[i]]])\n",
    "class(foo_nb) <- \"nb\"\n",
    "glist <- lapply(seq_along(glist), function(i) glist[[i]][ord[[i]]])\n",
    "\n",
    "listw <- list(style = \"W\",\n",
    "              neighbours = foo_nb,\n",
    "              weights = glist)\n",
    "class(listw) <- \"listw\"\n",
    "attr(listw, \"region.id\") <- colnames(sfe_tissue)"
   ]
  },
  {
   "cell_type": "code",
   "execution_count": null,
<<<<<<< HEAD
<<<<<<< HEAD
   "id": "f8093835",
||||||| 00f6fb22
   "id": "b95bc61f",
=======
   "id": "f2b3973e",
>>>>>>> documentation-devel
||||||| d828f8eb
   "id": "f8093835",
=======
   "id": "f33560b2",
>>>>>>> 6c25d2f1afd31725c9595ab9d8922b9d3c838629
   "metadata": {},
   "outputs": [],
   "source": [
    "colGraph(sfe_tissue, \"knn10\") <- listw"
   ]
  },
  {
   "cell_type": "code",
   "execution_count": null,
<<<<<<< HEAD
<<<<<<< HEAD
   "id": "c6cb5378",
||||||| 00f6fb22
   "id": "44579ed1",
=======
   "id": "b12db204",
>>>>>>> documentation-devel
||||||| d828f8eb
   "id": "c6cb5378",
=======
   "id": "1a904f86",
>>>>>>> 6c25d2f1afd31725c9595ab9d8922b9d3c838629
   "metadata": {},
   "outputs": [],
   "source": [
    "sfe_tissue <- runMoransI(sfe_tissue, features = hvgs, BPPARAM = MulticoreParam(2),\n",
    "                         colGraphName = \"knn10\", name = \"moran_ns\")"
   ]
  },
  {
   "cell_type": "markdown",
<<<<<<< HEAD
<<<<<<< HEAD
   "id": "df3ba5d0",
||||||| 00f6fb22
   "id": "a86751c5",
=======
   "id": "dbf6cb7a",
>>>>>>> documentation-devel
||||||| d828f8eb
   "id": "df3ba5d0",
=======
   "id": "d3b70d99",
>>>>>>> 6c25d2f1afd31725c9595ab9d8922b9d3c838629
   "metadata": {
    "lines_to_next_cell": 0
   },
   "source": [
    "Here we store the results in \"moran_ns\", not to be confused with spatial Moran's I results.\n",
    "\n",
    "These are the genes that tend to be more similar to their neighbors in the 10 nearest neighbor graph in PCA space for gene expression rather than in histological space:"
   ]
  },
  {
   "cell_type": "code",
   "execution_count": null,
<<<<<<< HEAD
<<<<<<< HEAD
   "id": "2b5037ac",
||||||| 00f6fb22
   "id": "a02162e4",
=======
   "id": "794142db",
>>>>>>> documentation-devel
||||||| d828f8eb
   "id": "2b5037ac",
=======
   "id": "e38cfe56",
>>>>>>> 6c25d2f1afd31725c9595ab9d8922b9d3c838629
   "metadata": {},
   "outputs": [],
   "source": [
    "top_moran2 <- rownames(sfe_tissue)[order(rowData(sfe_tissue)$moran_ns_sample01, \n",
    "                                        decreasing = TRUE)[1:9]]"
   ]
  },
  {
   "cell_type": "code",
   "execution_count": null,
<<<<<<< HEAD
<<<<<<< HEAD
   "id": "1b5c312a",
||||||| 00f6fb22
   "id": "ade58d23",
=======
   "id": "fa897f95",
>>>>>>> documentation-devel
||||||| d828f8eb
   "id": "1b5c312a",
=======
   "id": "3d93c25f",
>>>>>>> 6c25d2f1afd31725c9595ab9d8922b9d3c838629
   "metadata": {},
   "outputs": [],
   "source": [
    "# Display NCBI descriptions for these genes\n",
    "gget_info2 <- gget$info(top_moran2)\n",
    "\n",
    "rownames(gget_info2) <- gget_info2$primary_gene_name\n",
    "select(gget_info2, ncbi_description)"
   ]
  },
  {
   "cell_type": "code",
   "execution_count": null,
<<<<<<< HEAD
<<<<<<< HEAD
   "id": "90e92151",
||||||| 00f6fb22
   "id": "f47c1a68",
=======
   "id": "87da8947",
>>>>>>> documentation-devel
||||||| d828f8eb
   "id": "90e92151",
=======
   "id": "b50c1766",
>>>>>>> 6c25d2f1afd31725c9595ab9d8922b9d3c838629
   "metadata": {
    "fig.height": 6,
    "fig.width": 9
   },
   "outputs": [],
   "source": [
    "plotSpatialFeature(sfe_tissue, top_moran2, ncol = 3, swap_rownames = \"symbol\",\n",
    "                   image_id = \"lowres\", maxcell = 5e4)"
   ]
  },
  {
   "cell_type": "markdown",
<<<<<<< HEAD
<<<<<<< HEAD
   "id": "e0e95826",
||||||| 00f6fb22
   "id": "ce4aefa3",
=======
   "id": "cb86aab0",
>>>>>>> documentation-devel
||||||| d828f8eb
   "id": "e0e95826",
=======
   "id": "ad8ae12e",
>>>>>>> 6c25d2f1afd31725c9595ab9d8922b9d3c838629
   "metadata": {},
   "source": [
    "Although this Moran's I was not computed in histological space, these genes with the highest Moran's I in PCA space also show spatial structure, as different cell types reside in different spatial regions.\n",
    "\n",
    "# Session info"
   ]
  },
  {
   "cell_type": "code",
   "execution_count": null,
<<<<<<< HEAD
<<<<<<< HEAD
   "id": "68809938",
||||||| 00f6fb22
   "id": "b90a33b9",
=======
   "id": "577b1427",
>>>>>>> documentation-devel
||||||| d828f8eb
   "id": "68809938",
=======
   "id": "add6eb70",
>>>>>>> 6c25d2f1afd31725c9595ab9d8922b9d3c838629
   "metadata": {
    "lines_to_next_cell": 0
   },
   "outputs": [],
   "source": [
    "sessionInfo()"
   ]
  },
  {
   "cell_type": "markdown",
<<<<<<< HEAD
<<<<<<< HEAD
   "id": "9c25da55",
||||||| 00f6fb22
   "id": "96128adc",
=======
   "id": "ff29e837",
>>>>>>> documentation-devel
||||||| d828f8eb
   "id": "9c25da55",
=======
   "id": "07803985",
>>>>>>> 6c25d2f1afd31725c9595ab9d8922b9d3c838629
   "metadata": {},
   "source": []
  }
 ],
 "metadata": {
  "kernelspec": {
   "display_name": "R",
   "language": "R",
   "name": "ir"
  }
 },
 "nbformat": 4,
 "nbformat_minor": 5
}
