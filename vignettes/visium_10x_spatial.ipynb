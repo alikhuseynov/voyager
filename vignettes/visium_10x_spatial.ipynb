{
 "cells": [
  {
   "cell_type": "raw",
   "id": "40a19e50",
   "metadata": {},
   "source": [
    "---\n",
    "title: \"Spatial analysis of 10X example Visium dataset\"\n",
    "author: \"Lambda Moses\"\n",
    "date: \"`r Sys.Date()`\"\n",
    "output: \n",
    "  html_document:\n",
    "  toc: true\n",
    "  toc_float:\n",
    "    collapsed: false\n",
    "  toc_depth: 3\n",
    "bibliography: ref.bib\n",
    "vignette: >\n",
    "  %\\VignetteIndexEntry{visium_10x_spatial}\n",
    "  %\\VignetteEngine{knitr::rmarkdown}\n",
    "  %\\VignetteEncoding{UTF-8}\n",
    "---"
   ]
  },
  {
   "cell_type": "code",
   "execution_count": null,
   "id": "95bf47ff",
   "metadata": {
    "tags": [
     "remove_cell"
    ]
   },
   "outputs": [],
   "source": [
    "knitr::opts_chunk$set(\n",
    "  collapse = TRUE,\n",
    "  comment = \"#>\"\n",
    ")"
   ]
  },
  {
   "cell_type": "code",
   "execution_count": null,
   "id": "f5ffc685",
   "metadata": {
    "eval": false,
    "tags": [
     "remove_cell"
    ]
   },
   "outputs": [],
   "source": [
    "# Install Google Colab dependencies\n",
    "# Note: this can take 30+ minutes (many of the dependencies include C++ code, which needs to be compiled)\n",
    "\n",
    "# First install `sf`, `ragg` and `textshaping` and their system dependencies:\n",
    "system(\"apt-get -y update && apt-get install -y  libudunits2-dev libgdal-dev libgeos-dev libproj-dev libharfbuzz-dev libfribidi-dev\")\n",
    "install.packages(\"sf\")\n",
    "install.packages(\"textshaping\")\n",
    "install.packages(\"ragg\")\n",
    "\n",
    "# Install system dependencies of some other R packages that Voyager either imports or suggests:\n",
    "system(\"apt-get install -y libfribidi-dev libcairo2-dev libmagick++-dev\")\n",
    "\n",
    "# Install Voyager from Bioconductor:\n",
    "install.packages(\"BiocManager\")\n",
    "BiocManager::install(version = \"3.16\", ask = FALSE, update = FALSE, Ncpus = 2)\n",
    "BiocManager::install(\"scater\")\n",
    "system.time(\n",
    "  BiocManager::install(\"Voyager\", dependencies = TRUE, Ncpus = 2, update = FALSE)\n",
    ")\n",
    "\n",
    "# Additional dependencies for this notebook\n",
    "system(\"apt-get install -y libfftw3-dev libprotobuf-dev\")\n",
    "BiocManager::install(\"EBImage\")\n",
    "BiocManager::install(\"terra\")\n",
    "BiocManager::install(\"rmapshaper\")\n",
    "\n",
    "packageVersion(\"Voyager\")"
   ]
  },
  {
   "cell_type": "markdown",
   "id": "46150213",
   "metadata": {
    "lines_to_next_cell": 0
   },
   "source": [
    "# Introduction\n",
    "In a [more introductory vignette](https://pachterlab.github.io/voyager/articles/visium_10x.html), we performed basic non-spatial analyses on a mouse olfactory bulb Visium dataset from the 10X website. In this vignette, we perform spatial analyses in histological space as well as in gene expression space. \n",
    "\n",
    "Here we load the packages used in this vignette:"
   ]
  },
  {
   "cell_type": "code",
   "execution_count": null,
   "id": "d49d85de",
   "metadata": {},
   "outputs": [],
   "source": [
    "library(Voyager)\n",
    "library(SpatialFeatureExperiment)\n",
    "library(SingleCellExperiment)\n",
    "library(ggplot2)\n",
    "library(scater)\n",
    "library(scuttle)\n",
    "library(scran)\n",
    "library(stringr)\n",
    "library(patchwork)\n",
    "library(bluster)\n",
    "library(rjson)\n",
    "library(EBImage)\n",
    "library(terra)\n",
    "library(rlang)\n",
    "library(sf)\n",
    "library(rmapshaper)\n",
    "library(dplyr)\n",
    "library(BiocParallel)\n",
    "library(BiocNeighbors)\n",
    "theme_set(theme_bw())"
   ]
  },
  {
   "cell_type": "markdown",
   "id": "34e77c3c",
   "metadata": {
    "lines_to_next_cell": 0
   },
   "source": [
    "Here we download the data from the 10X website. This is the unfiltered gene count matrix:"
   ]
  },
  {
   "cell_type": "code",
   "execution_count": null,
   "id": "cba2a6b0",
   "metadata": {},
   "outputs": [],
   "source": [
    "if (!file.exists(\"visium_ob.tar.gz\"))\n",
    "    download.file(\"https://cf.10xgenomics.com/samples/spatial-exp/2.0.0/Visium_Mouse_Olfactory_Bulb/Visium_Mouse_Olfactory_Bulb_raw_feature_bc_matrix.tar.gz\", \n",
    "                  destfile = \"visium_ob.tar.gz\")"
   ]
  },
  {
   "cell_type": "markdown",
   "id": "3e8129ff",
   "metadata": {
    "lines_to_next_cell": 0
   },
   "source": [
    "This is the spatial information:"
   ]
  },
  {
   "cell_type": "code",
   "execution_count": null,
   "id": "51caf45b",
   "metadata": {},
   "outputs": [],
   "source": [
    "if (!file.exists(\"visium_ob_spatial.tar.gz\"))\n",
    "    download.file(\"https://cf.10xgenomics.com/samples/spatial-exp/2.0.0/Visium_Mouse_Olfactory_Bulb/Visium_Mouse_Olfactory_Bulb_spatial.tar.gz\", \n",
    "                  destfile = \"visium_ob_spatial.tar.gz\")"
   ]
  },
  {
   "cell_type": "markdown",
   "id": "091f5d88",
   "metadata": {
    "lines_to_next_cell": 0
   },
   "source": [
    "Decompress the downloaded content:"
   ]
  },
  {
   "cell_type": "code",
   "execution_count": null,
   "id": "c6728a23",
   "metadata": {},
   "outputs": [],
   "source": [
    "if (!dir.exists(\"outs\")) {\n",
    "    dir.create(\"outs\")\n",
    "    system(\"tar -xvf visium_ob.tar.gz -C outs\")\n",
    "    system(\"tar -xvf visium_ob_spatial.tar.gz -C outs\")\n",
    "}"
   ]
  },
  {
   "cell_type": "markdown",
   "id": "2e45ff9f",
   "metadata": {
    "lines_to_next_cell": 0
   },
   "source": [
    "Contents of the `outs` directory as from Space Ranger is explained in [the introductory vignette](https://pachterlab.github.io/voyager/articles/visium_10x.html).\n",
    "\n",
    "Here we read the data into R as an SFE object."
   ]
  },
  {
   "cell_type": "code",
   "execution_count": null,
   "id": "e585aa56",
   "metadata": {},
   "outputs": [],
   "source": [
    "(sfe <- read10xVisiumSFE(samples = \"outs\", type = \"sparse\", data = \"raw\"))"
   ]
  },
  {
   "cell_type": "markdown",
   "id": "83de6dfe",
   "metadata": {},
   "source": [
    "Here we add QC metrics, already plotted in the introductory vignette."
   ]
  },
  {
   "cell_type": "code",
   "execution_count": null,
   "id": "4912c91b",
   "metadata": {},
   "outputs": [],
   "source": [
    "is_mt <- str_detect(rowData(sfe)$symbol, \"^mt-\")"
   ]
  },
  {
   "cell_type": "code",
   "execution_count": null,
   "id": "da9016aa",
   "metadata": {},
   "outputs": [],
   "source": [
    "sfe <- addPerCellQCMetrics(sfe, subsets = list(mito = is_mt))"
   ]
  },
  {
   "cell_type": "markdown",
   "id": "1d6bc50e",
   "metadata": {},
   "source": [
    "# Tissue segmentation\n",
    "While Space Ranger can automatically detect which spots are in tissue and the Loupe browser can be used to manually annotate which spots are in tissue, it may be interesting to get the tissue outline polygon, so we would know how much each spot overlaps with the tissue and plot the outline. The tissue boundary polygon can be manually annotated with QuPath, which saves the polygon as a GeoJSON and can be directly read into R with `st_read()`. \n",
    "\n",
    "Or we can segment the tissue computationally. R generally isn't great for image processing, but there are some packages that can perform the segmentation, such as [`EBImage`](https://bioconductor.org/packages/release/bioc/html/EBImage.html), which is based on its own in house C and C++ code, and [`imager`](https://github.com/dahtah/imager/), which is based on [`CImg`](http://cimg.eu/).\n",
    "\n",
    "Here we don't have the full resolution image. We will perform tissue segmentation on the high resolution downsampled image and then scale it to make the coordinates of the tissue boundary match those of the spots. The `EBImage` package is used here. Compared to OpenCV, `EBImage` is slow on the full resolution image, but should be fine here for the downsized image."
   ]
  },
  {
   "cell_type": "code",
   "execution_count": null,
   "id": "e301c61d",
   "metadata": {},
   "outputs": [],
   "source": [
    "img <- readImage(\"outs/spatial/tissue_hires_image.png\")\n",
    "display(img)"
   ]
  },
  {
   "cell_type": "markdown",
   "id": "b576b4ca",
   "metadata": {
    "lines_to_next_cell": 0
   },
   "source": [
    "When rendered as a static webpage, the image is static, but when run interactively, this image will be shown in an interactive widget where you can zoom and pan.\n",
    "\n",
    "Here we show the RGB channels separately"
   ]
  },
  {
   "cell_type": "code",
   "execution_count": null,
   "id": "b46bf646",
   "metadata": {},
   "outputs": [],
   "source": [
    "img2 <- img\n",
    "colorMode(img2) <- Grayscale\n",
    "display(img2, all = TRUE)"
   ]
  },
  {
   "cell_type": "code",
   "execution_count": null,
   "id": "d2c0a3e2",
   "metadata": {},
   "outputs": [],
   "source": [
    "hist(img)"
   ]
  },
  {
   "cell_type": "markdown",
   "id": "88b8dc99",
   "metadata": {},
   "source": [
    "The tissue can be discerned with thresholding. The tall peak on the right is the background. The much lower peaks from around 0.6 to 0.85 must be the tissue. To capture the faint bluish region, the blue channel is used for thresholding. The threshold here is chosen based on the histogram and experimenting with nearby values."
   ]
  },
  {
   "cell_type": "code",
   "execution_count": null,
   "id": "4d1450a5",
   "metadata": {},
   "outputs": [],
   "source": [
    "mask <- img2[,,3] < 0.87\n",
    "display(mask)"
   ]
  },
  {
   "cell_type": "markdown",
   "id": "8c4f751d",
   "metadata": {
    "lines_to_next_cell": 0
   },
   "source": [
    "Then we use an opening operation (erosion followed by dilation) to denoise"
   ]
  },
  {
   "cell_type": "code",
   "execution_count": null,
   "id": "2293c9da",
   "metadata": {},
   "outputs": [],
   "source": [
    "kern <- makeBrush(3, shape='disc')\n",
    "mask_open <- opening(mask, kern)\n",
    "display(mask_open)"
   ]
  },
  {
   "cell_type": "markdown",
   "id": "ee2a4d46",
   "metadata": {
    "lines_to_next_cell": 0
   },
   "source": [
    "There are some small holes in the tissue, which can be removed by a closing operation (dilation followed by erosion):"
   ]
  },
  {
   "cell_type": "code",
   "execution_count": null,
   "id": "e17d792e",
   "metadata": {},
   "outputs": [],
   "source": [
    "mask_close <- closing(mask_open, kern)\n",
    "display(mask_close)"
   ]
  },
  {
   "cell_type": "markdown",
   "id": "46020b56",
   "metadata": {},
   "source": [
    "There are some larger holes in the tissue mask, which may be real holes or faint regions with few nuclei missed by thresholding. They might not be large enough to affect which Visium spots intersect the tissue.\n",
    "\n",
    "Now the main piece of tissue is clear. It must be the object with the largest area. However, there are two small pieces that should belong to the tissue at the top left. The debris and fiducials can be removed by setting all pixels in the mask outside the bounding box of the main piece to 0. Here we assign a different value to each contiguous object with `bwlabel()`, and use `computeFeatures.shape()` to find the area among other shape features (e.g. perimeter) of each object."
   ]
  },
  {
   "cell_type": "code",
   "execution_count": null,
   "id": "2870e839",
   "metadata": {},
   "outputs": [],
   "source": [
    "mask_label <- bwlabel(mask_close)\n",
    "fts <- computeFeatures.shape(mask_label)"
   ]
  },
  {
   "cell_type": "code",
   "execution_count": null,
   "id": "52a75312",
   "metadata": {},
   "outputs": [],
   "source": [
    "head(fts)"
   ]
  },
  {
   "cell_type": "code",
   "execution_count": null,
   "id": "324c136d",
   "metadata": {},
   "outputs": [],
   "source": [
    "summary(fts[,\"s.area\"])"
   ]
  },
  {
   "cell_type": "code",
   "execution_count": null,
   "id": "2bb528a9",
   "metadata": {},
   "outputs": [],
   "source": [
    "max_ind <- which.max(fts[,\"s.area\"])\n",
    "inds <- which(as.array(mask_label) == max_ind, arr.ind = TRUE)\n",
    "head(inds)"
   ]
  },
  {
   "cell_type": "code",
   "execution_count": null,
   "id": "916418bc",
   "metadata": {},
   "outputs": [],
   "source": [
    "row_inds <- c(seq_len(min(inds[,1])-1), seq(max(inds[,1])+1, nrow(mask_label), by = 1))\n",
    "col_inds <- c(seq_len(min(inds[,2])-1), seq(max(inds[,2])+1, nrow(mask_label), by = 1))\n",
    "mask_label[row_inds, ] <- 0\n",
    "mask_label[,col_inds] <- 0\n",
    "display(mask_label)"
   ]
  },
  {
   "cell_type": "markdown",
   "id": "d6e5966a",
   "metadata": {
    "lines_to_next_cell": 0
   },
   "source": [
    "Then remove the small pieces that are debris."
   ]
  },
  {
   "cell_type": "code",
   "execution_count": null,
   "id": "acb9940c",
   "metadata": {},
   "outputs": [],
   "source": [
    "unique(as.vector(mask_label))"
   ]
  },
  {
   "cell_type": "code",
   "execution_count": null,
   "id": "c74921a3",
   "metadata": {},
   "outputs": [],
   "source": [
    "fts2 <- fts[unique(as.vector(mask_label))[-1],]\n",
    "fts2 <- fts2[order(fts2[,\"s.area\"], decreasing = TRUE),]"
   ]
  },
  {
   "cell_type": "code",
   "execution_count": null,
   "id": "ab95b193",
   "metadata": {},
   "outputs": [],
   "source": [
    "plot(fts2[,1][-1], type = \"l\", ylab = \"Area\")"
   ]
  },
  {
   "cell_type": "code",
   "execution_count": null,
   "id": "e4775397",
   "metadata": {},
   "outputs": [],
   "source": [
    "head(fts2, 10)"
   ]
  },
  {
   "cell_type": "markdown",
   "id": "a51d57cf",
   "metadata": {},
   "source": [
    "Object number 797 is a piece of debris at the bottom left. The other pieces with area over 100 pixels are tissue. Since debris really is small bits of tissue, so the boundary between debris and tissue can be blurry. Here the two are distinguished by morphology on the H&E image and proximity to the main tissue."
   ]
  },
  {
   "cell_type": "code",
   "execution_count": null,
   "id": "66fd32e6",
   "metadata": {},
   "outputs": [],
   "source": [
    "#display(mask_label == 797)"
   ]
  },
  {
   "cell_type": "markdown",
   "id": "a2e7b937",
   "metadata": {
    "lines_to_next_cell": 0
   },
   "source": [
    "Here we remove the debris from the mask"
   ]
  },
  {
   "cell_type": "code",
   "execution_count": null,
   "id": "a33166db",
   "metadata": {},
   "outputs": [],
   "source": [
    "mask_label[mask_label %in% c(797, as.numeric(rownames(fts2)[fts2[,1] < 100]))] <- 0"
   ]
  },
  {
   "cell_type": "markdown",
   "id": "f7011b53",
   "metadata": {
    "lines_to_next_cell": 0
   },
   "source": [
    "Since most holes in the mask are faint regions of the tissue missed by thresholding, the holes will be filled"
   ]
  },
  {
   "cell_type": "code",
   "execution_count": null,
   "id": "4f5a7cd9",
   "metadata": {},
   "outputs": [],
   "source": [
    "mask_label <- fillHull(mask_label)"
   ]
  },
  {
   "cell_type": "code",
   "execution_count": null,
   "id": "d82af834",
   "metadata": {},
   "outputs": [],
   "source": [
    "display(paintObjects(mask_label, img, col=c(\"red\", \"yellow\"), opac=c(1, 0.3)))"
   ]
  },
  {
   "cell_type": "markdown",
   "id": "0a22c2ae",
   "metadata": {
    "lines_to_next_cell": 0
   },
   "source": [
    "This segmentation process took a lot of manual oversight, in choosing the threshold, choosing kernel size and shape in the opening and closing operations, deciding whether to fill the holes, and deciding what is debris and what is tissue. \n",
    "\n",
    "Finally, the image needs to be rotated to match the spots."
   ]
  },
  {
   "cell_type": "code",
   "execution_count": null,
   "id": "af3e8550",
   "metadata": {},
   "outputs": [],
   "source": [
    "mask_label <- EBImage::rotate(mask_label, 270)\n",
    "display(mask_label)"
   ]
  },
  {
   "cell_type": "markdown",
   "id": "0b44754b",
   "metadata": {},
   "source": [
    "# Convert tissue mask to polygon\n",
    "Now we have the tissue mask, which we will convert to polygon. While OpenCV can directly perform the conversion, as there isn't a comprehensive R wrapper of OpenCV, this conversion is more convoluted in R. We first convert the `Image` object to a raster as implemented in `terra`, the core R package for geospatial raster data. Then `terra` can convert the raster to polygon. As this image is downsized, the polygon will look quite pixelated. To mitigate this pixelation and save memory, the `ms_simplify()` function is used to simplify the polygon, only keeping a small proportion of all vertices. The `st_simplify()` function in `sf` can also simplify the polygons, but we can't specify what proportion of vertices to keep."
   ]
  },
  {
   "cell_type": "code",
   "execution_count": null,
   "id": "1bc09850",
   "metadata": {},
   "outputs": [],
   "source": [
    "raster2polygon <- function(seg, keep = 0.2) {\n",
    "    r <- rast(t(as.array(seg)), extent = ext(0, nrow(seg), 0, ncol(seg)))\n",
    "    r[r < 1] <- NA\n",
    "    contours <- st_as_sf(as.polygons(r, dissolve = TRUE))\n",
    "    simplified <- ms_simplify(contours, keep = keep)\n",
    "    list(full = contours,\n",
    "         simplified = simplified)\n",
    "}"
   ]
  },
  {
   "cell_type": "code",
   "execution_count": null,
   "id": "664340e9",
   "metadata": {},
   "outputs": [],
   "source": [
    "tb <- raster2polygon(mask_label)"
   ]
  },
  {
   "cell_type": "markdown",
   "id": "b254cccc",
   "metadata": {
    "lines_to_next_cell": 0
   },
   "source": [
    "Before adding the geometry to the SFE object, it needs to be scaled to match the coordinates of the spots"
   ]
  },
  {
   "cell_type": "code",
   "execution_count": null,
   "id": "5725555b",
   "metadata": {},
   "outputs": [],
   "source": [
    "scale_factors <- fromJSON(file = \"outs/spatial/scalefactors_json.json\")"
   ]
  },
  {
   "cell_type": "code",
   "execution_count": null,
   "id": "4e00170a",
   "metadata": {
    "lines_to_next_cell": 2
   },
   "outputs": [],
   "source": [
    "tb$simplified$geometry <- tb$simplified$geometry / scale_factors$tissue_hires_scalef"
   ]
  },
  {
   "cell_type": "code",
   "execution_count": null,
   "id": "4c4672bb",
   "metadata": {},
   "outputs": [],
   "source": [
    "tissueBoundary(sfe) <- tb$simplified"
   ]
  },
  {
   "cell_type": "code",
   "execution_count": null,
   "id": "23dcf65c",
   "metadata": {},
   "outputs": [],
   "source": [
    "plotSpatialFeature(sfe, \"sum\", annotGeometryName = \"tissueBoundary\", \n",
    "                   annot_fixed = list(fill = NA, size = 0.5, color = \"black\")) +\n",
    "    theme_void()"
   ]
  },
  {
   "cell_type": "markdown",
   "id": "d381b7f8",
   "metadata": {},
   "source": [
    "Then we can use geometric operations to find which spots intersect tissue, which spots are covered by tissue, and how much of each spot intersects tissue."
   ]
  },
  {
   "cell_type": "code",
   "execution_count": null,
   "id": "e7fa9d51",
   "metadata": {},
   "outputs": [],
   "source": [
    "# Which spots intersect tissue\n",
    "sfe$int_tissue <- annotPred(sfe, colGeometryName = \"spotPoly\", \n",
    "                            annotGeometryName = \"tissueBoundary\",\n",
    "                            pred = st_intersects)\n",
    "sfe$cov_tissue <- annotPred(sfe, colGeometryName = \"spotPoly\", \n",
    "                            annotGeometryName = \"tissueBoundary\",\n",
    "                            pred = st_covered_by)"
   ]
  },
  {
   "cell_type": "markdown",
   "id": "1c85534e",
   "metadata": {
    "lines_to_next_cell": 0
   },
   "source": [
    "Discrepancies between Space Ranger's annotation and the annotation based on tissue segmentation here:"
   ]
  },
  {
   "cell_type": "code",
   "execution_count": null,
   "id": "47d2d5c5",
   "metadata": {},
   "outputs": [],
   "source": [
    "sfe$diff_sr <- case_when(sfe$in_tissue == sfe$int_tissue ~ \"same\",\n",
    "                         sfe$in_tissue & !sfe$int_tissue ~ \"Space Ranger\",\n",
    "                         sfe$int_tissue & !sfe$in_tissue ~ \"segmentation\") |> \n",
    "    factor(levels = c(\"Space Ranger\", \"same\", \"segmentation\"))\n",
    "plotSpatialFeature(sfe, \"diff_sr\", \n",
    "                   annotGeometryName = \"tissueBoundary\", \n",
    "                   annot_fixed = list(fill = NA, size = 0.5, color = \"black\")) +\n",
    "    scale_fill_brewer(type = \"div\", palette = 4) +\n",
    "    theme_void()"
   ]
  },
  {
   "cell_type": "markdown",
   "id": "2e89324c",
   "metadata": {
    "lines_to_next_cell": 0
   },
   "source": [
    "Spots at the margin can intersect the tissue without being covered by it."
   ]
  },
  {
   "cell_type": "code",
   "execution_count": null,
   "id": "70524aa0",
   "metadata": {},
   "outputs": [],
   "source": [
    "sfe$diff_int_cov <- sfe$int_tissue != sfe$cov_tissue\n",
    "plotSpatialFeature(sfe, \"diff_int_cov\", \n",
    "                   annotGeometryName = \"tissueBoundary\", \n",
    "                   annot_fixed = list(fill = NA, size = 0.5, color = \"black\")) +\n",
    "    theme_void()"
   ]
  },
  {
   "cell_type": "markdown",
   "id": "4984ba52",
   "metadata": {},
   "source": [
    "We can also get the geometries of the intersections between the tissue and the Visium spots, and then calculate what percentage of each spot is in tissue. However, this percentage may not be very useful if the tissue segmentation is subject to error. This percentage may be more useful for pathologist annotated histological regions or objects such as nuclei and myofibers."
   ]
  },
  {
   "cell_type": "code",
   "execution_count": null,
   "id": "d2ba66ba",
   "metadata": {},
   "outputs": [],
   "source": [
    "spot_ints <- annotOp(sfe, colGeometryName = \"spotPoly\", \n",
    "                     annotGeometryName = \"tissueBoundary\", op = st_intersection)\n",
    "sfe$pct_tissue <- st_area(spot_ints) / st_area(spotPoly(sfe)) * 100"
   ]
  },
  {
   "cell_type": "markdown",
   "id": "8921bbbb",
   "metadata": {
    "lines_to_next_cell": 0
   },
   "source": [
    "For spots that intersect tissue, does total counts relate to percentage of the spot in tissue?"
   ]
  },
  {
   "cell_type": "code",
   "execution_count": null,
   "id": "f032d1da",
   "metadata": {},
   "outputs": [],
   "source": [
    "sfe_tissue <- sfe[,sfe$int_tissue]"
   ]
  },
  {
   "cell_type": "code",
   "execution_count": null,
   "id": "a0b0c229",
   "metadata": {},
   "outputs": [],
   "source": [
    "plotColDataBin2D(sfe_tissue, x = \"pct_tissue\", y = \"sum\", subset = \"diff_int_cov\",\n",
    "                name_true = \"Not covered\", name_false = \"Covered\", bins = 50)"
   ]
  },
  {
   "cell_type": "markdown",
   "id": "0434bd74",
   "metadata": {
    "lines_to_next_cell": 0
   },
   "source": [
    "Spots that are not fully covered by tissue have lower total UMI counts, which can be due to both that they are not fully in tissue and the cell types with lower total counts in the histological region near the edge, as some spots fully covered by tissue also have low UMI counts.\n",
    "\n",
    "# Spatial autocorrelation of QC metrics"
   ]
  },
  {
   "cell_type": "code",
   "execution_count": null,
   "id": "7c95266c",
   "metadata": {},
   "outputs": [],
   "source": [
    "colGraph(sfe_tissue, \"visium\") <- findVisiumGraph(sfe_tissue)"
   ]
  },
  {
   "cell_type": "code",
   "execution_count": null,
   "id": "2c930605",
   "metadata": {},
   "outputs": [],
   "source": [
    "qc_features <- c(\"sum\", \"detected\", \"subsets_mito_percent\")"
   ]
  },
  {
   "cell_type": "code",
   "execution_count": null,
   "id": "35bd641b",
   "metadata": {},
   "outputs": [],
   "source": [
    "sfe_tissue <- colDataUnivariate(sfe_tissue, \"moran.mc\", qc_features, nsim = 200)"
   ]
  },
  {
   "cell_type": "code",
   "execution_count": null,
   "id": "b3cfcc88",
   "metadata": {},
   "outputs": [],
   "source": [
    "plotMoranMC(sfe_tissue, qc_features)"
   ]
  },
  {
   "cell_type": "code",
   "execution_count": null,
   "id": "0bad3164",
   "metadata": {},
   "outputs": [],
   "source": [
    "sfe_tissue <- colDataUnivariate(sfe_tissue, \"sp.correlogram\", qc_features,\n",
    "                                order = 8)"
   ]
  },
  {
   "cell_type": "code",
   "execution_count": null,
   "id": "f9ea152d",
   "metadata": {},
   "outputs": [],
   "source": [
    "plotCorrelogram(sfe_tissue, qc_features)"
   ]
  },
  {
   "cell_type": "code",
   "execution_count": null,
   "id": "2cef064a",
   "metadata": {},
   "outputs": [],
   "source": [
    "sfe_tissue <- colDataUnivariate(sfe_tissue, \"localmoran\", qc_features)"
   ]
  },
  {
   "cell_type": "code",
   "execution_count": null,
   "id": "8f475b4e",
   "metadata": {
    "fig.height": 6,
    "fig.width": 8
   },
   "outputs": [],
   "source": [
    "plotLocalResult(sfe_tissue, \"localmoran\", qc_features, ncol = 2,\n",
    "                colGeometryName = \"spotPoly\", divergent = TRUE, \n",
    "                diverge_center = 0) &\n",
    "    theme_void()"
   ]
  },
  {
   "cell_type": "code",
   "execution_count": null,
   "id": "f9f9cf94",
   "metadata": {},
   "outputs": [],
   "source": [
    "sfe_tissue <- colDataUnivariate(sfe_tissue, \"LOSH\", qc_features)"
   ]
  },
  {
   "cell_type": "code",
   "execution_count": null,
   "id": "239a85a7",
   "metadata": {
    "fig.height": 6,
    "fig.width": 8
   },
   "outputs": [],
   "source": [
    "plotLocalResult(sfe_tissue, \"LOSH\", qc_features, ncol = 2,\n",
    "                colGeometryName = \"spotPoly\") &\n",
    "    theme_void()"
   ]
  },
  {
   "cell_type": "code",
   "execution_count": null,
   "id": "769d4641",
   "metadata": {},
   "outputs": [],
   "source": [
    "sfe_tissue <- colDataUnivariate(sfe_tissue, \"moran.plot\", qc_features)"
   ]
  },
  {
   "cell_type": "code",
   "execution_count": null,
   "id": "82b02428",
   "metadata": {},
   "outputs": [],
   "source": [
    "moranPlot(sfe_tissue, \"subsets_mito_percent\")"
   ]
  },
  {
   "cell_type": "markdown",
   "id": "c6fe663e",
   "metadata": {
    "lines_to_next_cell": 0
   },
   "source": [
    "# Spatial autocorrelation of gene expression\n",
    "\n",
    "Normalize data with the `scran` method, and find highly variable genes"
   ]
  },
  {
   "cell_type": "code",
   "execution_count": null,
   "id": "ab3a18c3",
   "metadata": {},
   "outputs": [],
   "source": [
    "#clusters <- quickCluster(sfe_tissue)\n",
    "#sfe_tissue <- computeSumFactors(sfe_tissue, clusters=clusters)\n",
    "#sfe_tissue <- sfe_tissue[, sizeFactors(sfe_tissue) > 0]\n",
    "sfe_tissue <- logNormCounts(sfe_tissue)"
   ]
  },
  {
   "cell_type": "code",
   "execution_count": null,
   "id": "7a1fd828",
   "metadata": {},
   "outputs": [],
   "source": [
    "dec <- modelGeneVar(sfe_tissue)\n",
    "hvgs <- getTopHVGs(dec, n = 2000)"
   ]
  },
  {
   "cell_type": "markdown",
   "id": "31063b24",
   "metadata": {
    "lines_to_next_cell": 0
   },
   "source": [
    "Find Moran's I for all highly variable genes"
   ]
  },
  {
   "cell_type": "code",
   "execution_count": null,
   "id": "0a3dbd3d",
   "metadata": {},
   "outputs": [],
   "source": [
    "sfe_tissue <- runMoransI(sfe_tissue, features = hvgs, BPPARAM = MulticoreParam(2))"
   ]
  },
  {
   "cell_type": "code",
   "execution_count": null,
   "id": "402208f6",
   "metadata": {},
   "outputs": [],
   "source": [
    "plotRowDataHistogram(sfe_tissue, \"moran_sample01\")"
   ]
  },
  {
   "cell_type": "markdown",
   "id": "0fa3cab8",
   "metadata": {
    "lines_to_next_cell": 0
   },
   "source": [
    "The vast majority of genes have positive Moran's I. Here we plot the genes with the highest Moran's I."
   ]
  },
  {
   "cell_type": "code",
   "execution_count": null,
   "id": "f2bf896f",
   "metadata": {},
   "outputs": [],
   "source": [
    "top_moran <- rownames(sfe_tissue)[order(rowData(sfe_tissue)$moran_sample01, \n",
    "                                        decreasing = TRUE)[1:9]]"
   ]
  },
  {
   "cell_type": "code",
   "execution_count": null,
   "id": "44d85cf7",
   "metadata": {
    "fig.height": 6,
    "fig.width": 9
   },
   "outputs": [],
   "source": [
    "plotSpatialFeature(sfe_tissue, top_moran, ncol = 3) & theme_void()"
   ]
  },
  {
   "cell_type": "markdown",
   "id": "34c4f6cc",
   "metadata": {},
   "source": [
    "Here global Moran's I seems to be more about tissue structure. \n",
    "\n",
    "Some genes have negative Moran's I that might not be statistically significant"
   ]
  },
  {
   "cell_type": "code",
   "execution_count": null,
   "id": "a844d153",
   "metadata": {},
   "outputs": [],
   "source": [
    "neg_moran <- rownames(sfe_tissue)[order(rowData(sfe_tissue)$moran_sample01, \n",
    "                                        decreasing = FALSE)[1:9]]"
   ]
  },
  {
   "cell_type": "code",
   "execution_count": null,
   "id": "9fcf8cb5",
   "metadata": {
    "fig.height": 6,
    "fig.width": 9
   },
   "outputs": [],
   "source": [
    "plotSpatialFeature(sfe_tissue, neg_moran, ncol = 3) & theme_void()"
   ]
  },
  {
   "cell_type": "code",
   "execution_count": null,
   "id": "509fb9d8",
   "metadata": {},
   "outputs": [],
   "source": [
    "sfe_tissue <- runUnivariate(sfe_tissue, \"moran.mc\", neg_moran, \n",
    "                            colGraphName = \"visium\", nsim = 200, alternative = \"less\")"
   ]
  },
  {
   "cell_type": "code",
   "execution_count": null,
   "id": "d7020cd9",
   "metadata": {},
   "outputs": [],
   "source": [
    "plotMoranMC(sfe_tissue, neg_moran)"
   ]
  },
  {
   "cell_type": "code",
   "execution_count": null,
   "id": "ea7ae2dc",
   "metadata": {},
   "outputs": [],
   "source": [
    "rowData(sfe_tissue)[neg_moran, c(\"moran_sample01\", \"moran.mc_p.value_sample01\")]"
   ]
  },
  {
   "cell_type": "markdown",
   "id": "ffb130b1",
   "metadata": {},
   "source": [
    "As there're 2000 highly variable genes and 2000 tests, these would no longer be significant after correcting for multiple testing. \n",
    "\n",
    "Does global Moran's I relate to gene expression level?"
   ]
  },
  {
   "cell_type": "code",
   "execution_count": null,
   "id": "a94eee77",
   "metadata": {},
   "outputs": [],
   "source": [
    "sfe_tissue <- addPerFeatureQCMetrics(sfe_tissue)\n",
    "names(rowData(sfe_tissue))"
   ]
  },
  {
   "cell_type": "code",
   "execution_count": null,
   "id": "c89689ee",
   "metadata": {},
   "outputs": [],
   "source": [
    "plotRowData(sfe_tissue, x = \"mean\", y = \"moran_sample01\") +\n",
    "    scale_x_log10() +\n",
    "    annotation_logticks(sides = \"b\") +\n",
    "    geom_density2d()"
   ]
  },
  {
   "cell_type": "markdown",
   "id": "d3dd40cb",
   "metadata": {
    "lines_to_next_cell": 0
   },
   "source": [
    "Genes that are more highly expressed overall tend to have higher Moran's I. \n",
    "\n",
    "# Apply spatial analysis methods to gene expression space\n",
    "Spatial statistics that require a spatial neighborhood graph can also be applied to the k nearest neighbor graph not in histological space but in gene expression space. This is done in more depth in [this vignette](https://pachterlab.github.io/voyager/articles/nonspatial.html)."
   ]
  },
  {
   "cell_type": "code",
   "execution_count": null,
   "id": "74f64451",
   "metadata": {},
   "outputs": [],
   "source": [
    "sfe_tissue <- runPCA(sfe_tissue, ncomponents = 30, subset_row = hvgs,\n",
    "                     scale = TRUE) # scale as in Seurat"
   ]
  },
  {
   "cell_type": "code",
   "execution_count": null,
   "id": "414efa5c",
   "metadata": {},
   "outputs": [],
   "source": [
    "foo <- findKNN(reducedDim(sfe_tissue, \"PCA\")[,1:10], k=10, BNPARAM=AnnoyParam())\n",
    "# Split by row\n",
    "foo_nb <- asplit(foo$index, 1)\n",
    "dmat <- 1/foo$distance\n",
    "# Row normalize the weights\n",
    "dmat <- sweep(dmat, 1, rowSums(dmat), FUN = \"/\")\n",
    "glist <- asplit(dmat, 1)\n",
    "# Sort based on index\n",
    "ord <- lapply(foo_nb, order)\n",
    "foo_nb <- lapply(seq_along(foo_nb), function(i) foo_nb[[i]][ord[[i]]])\n",
    "class(foo_nb) <- \"nb\"\n",
    "glist <- lapply(seq_along(glist), function(i) glist[[i]][ord[[i]]])\n",
    "\n",
    "listw <- list(style = \"W\",\n",
    "              neighbours = foo_nb,\n",
    "              weights = glist)\n",
    "class(listw) <- \"listw\"\n",
    "attr(listw, \"region.id\") <- colnames(sfe_tissue)"
   ]
  },
  {
   "cell_type": "code",
   "execution_count": null,
   "id": "1b51e282",
   "metadata": {},
   "outputs": [],
   "source": [
    "colGraph(sfe_tissue, \"knn10\") <- listw"
   ]
  },
  {
   "cell_type": "code",
   "execution_count": null,
   "id": "a7392f9a",
   "metadata": {},
   "outputs": [],
   "source": [
    "sfe_tissue <- runMoransI(sfe_tissue, features = hvgs, BPPARAM = MulticoreParam(2),\n",
    "                         colGraphName = \"knn10\")"
   ]
  },
  {
   "cell_type": "markdown",
   "id": "6185e85b",
   "metadata": {
    "lines_to_next_cell": 0
   },
   "source": [
    "Caveat in the current version of Voyager: running Moran's I again with a different neighborhood graph will overwrite the existing Moran's I results. In the next version, users may specify new names for the same statistics with different parameters and the parameters will be stored in `rowData`.\n",
    "\n",
    "These are the genes that tend to be more similar to their neighbors in the 10 nearest neighbor graph in PCA space for gene expression rather than in histological space:"
   ]
  },
  {
   "cell_type": "code",
   "execution_count": null,
   "id": "41c203d8",
   "metadata": {},
   "outputs": [],
   "source": [
    "top_moran2 <- rownames(sfe_tissue)[order(rowData(sfe_tissue)$moran_sample01, \n",
    "                                        decreasing = TRUE)[1:9]]"
   ]
  },
  {
   "cell_type": "code",
   "execution_count": null,
   "id": "54e2bb05",
   "metadata": {
    "fig.height": 6,
    "fig.width": 9
   },
   "outputs": [],
   "source": [
    "plotSpatialFeature(sfe_tissue, top_moran2, ncol = 3) & theme_void()"
   ]
  },
  {
   "cell_type": "markdown",
   "id": "866681fa",
   "metadata": {},
   "source": [
    "Although this Moran's I was not computed in histological space, these genes with the highest Moran's I in PCA space also show spatial structure, as different cell types reside in different spatial regions.\n",
    "\n",
    "# Session info"
   ]
  },
  {
   "cell_type": "code",
   "execution_count": null,
   "id": "d0722c47",
   "metadata": {
    "lines_to_next_cell": 0
   },
   "outputs": [],
   "source": [
    "sessionInfo()"
   ]
  },
  {
   "cell_type": "markdown",
   "id": "07d139d2",
   "metadata": {},
   "source": []
  }
 ],
 "metadata": {
  "kernelspec": {
   "display_name": "R",
   "language": "R",
   "name": "ir"
  }
 },
 "nbformat": 4,
 "nbformat_minor": 5
}
