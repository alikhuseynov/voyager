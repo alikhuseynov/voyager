{
 "cells": [
  {
   "cell_type": "raw",
<<<<<<< HEAD
<<<<<<< HEAD
<<<<<<< HEAD
   "id": "de5f17f4",
||||||| b944554d
   "id": "f3880886",
=======
   "id": "ec6fdbe4",
>>>>>>> documentation-devel
||||||| 35cb6e7a
   "id": "ec6fdbe4",
=======
   "id": "ec25e984",
>>>>>>> documentation-devel
||||||| 596bf878
<<<<<<< HEAD
   "id": "de5f17f4",
||||||| b944554d
   "id": "f3880886",
=======
   "id": "ec6fdbe4",
>>>>>>> documentation-devel
=======
   "id": "eb1553a3",
>>>>>>> f8a184fea58c53eb88debec89cb7180bf225886f
   "metadata": {},
   "source": [
    "---\n",
    "title: \"Spatial analysis of 10X example Visium dataset\"\n",
    "author: \"Lambda Moses\"\n",
    "date: \"`r Sys.Date()`\"\n",
    "output: \n",
    "  html_document:\n",
    "  toc: true\n",
    "  toc_float:\n",
    "    collapsed: false\n",
    "  toc_depth: 3\n",
    "bibliography: ref.bib\n",
    "vignette: >\n",
    "  %\\VignetteIndexEntry{visium_10x_spatial}\n",
    "  %\\VignetteEngine{knitr::rmarkdown}\n",
    "  %\\VignetteEncoding{UTF-8}\n",
    "---"
   ]
  },
  {
   "cell_type": "code",
   "execution_count": null,
<<<<<<< HEAD
<<<<<<< HEAD
<<<<<<< HEAD
   "id": "3bc5f423",
||||||| b944554d
   "id": "cbb03429",
=======
   "id": "89c4f63c",
>>>>>>> documentation-devel
||||||| 35cb6e7a
   "id": "89c4f63c",
=======
   "id": "8ad8cf4e",
>>>>>>> documentation-devel
||||||| 596bf878
<<<<<<< HEAD
   "id": "3bc5f423",
||||||| b944554d
   "id": "cbb03429",
=======
   "id": "89c4f63c",
>>>>>>> documentation-devel
=======
   "id": "00443de9",
>>>>>>> f8a184fea58c53eb88debec89cb7180bf225886f
   "metadata": {
    "tags": [
     "remove_cell"
    ]
   },
   "outputs": [],
   "source": [
    "knitr::opts_chunk$set(\n",
    "  collapse = TRUE,\n",
    "  comment = \"#>\"\n",
    ")"
   ]
  },
  {
   "cell_type": "code",
   "execution_count": null,
<<<<<<< HEAD
<<<<<<< HEAD
<<<<<<< HEAD
   "id": "782fba14",
||||||| b944554d
   "id": "bad16e38",
=======
   "id": "c9545c78",
>>>>>>> documentation-devel
||||||| 35cb6e7a
   "id": "c9545c78",
=======
   "id": "2fab1467",
>>>>>>> documentation-devel
||||||| 596bf878
<<<<<<< HEAD
   "id": "782fba14",
||||||| b944554d
   "id": "bad16e38",
=======
   "id": "c9545c78",
>>>>>>> documentation-devel
=======
   "id": "b31394c9",
>>>>>>> f8a184fea58c53eb88debec89cb7180bf225886f
   "metadata": {
    "eval": false,
    "tags": [
     "remove_cell"
    ]
   },
   "outputs": [],
   "source": [
    "# Install Google Colab dependencies\n",
    "# Note: this can take 30+ minutes (many of the dependencies include C++ code, which needs to be compiled)\n",
    "\n",
    "# First install `sf`, `ragg` and `textshaping` and their system dependencies:\n",
    "system(\"apt-get -y update && apt-get install -y  libudunits2-dev libgdal-dev libgeos-dev libproj-dev libharfbuzz-dev libfribidi-dev\")\n",
    "install.packages(\"sf\")\n",
    "install.packages(\"textshaping\")\n",
    "install.packages(\"ragg\")\n",
    "\n",
    "# Install system dependencies of some other R packages that Voyager either imports or suggests:\n",
    "system(\"apt-get install -y libfribidi-dev libcairo2-dev libmagick++-dev\")\n",
    "\n",
    "# Install Voyager from Bioconductor:\n",
    "install.packages(\"BiocManager\")\n",
    "BiocManager::install(version = \"3.17\", ask = FALSE, update = FALSE, Ncpus = 2)\n",
    "BiocManager::install(\"scater\")\n",
    "system.time(\n",
    "  BiocManager::install(\"Voyager\", dependencies = TRUE, Ncpus = 2, update = FALSE)\n",
    ")\n",
    "\n",
    "# Additional dependencies for this notebook\n",
    "system(\"apt-get install -y libfftw3-dev libprotobuf-dev\")\n",
    "BiocManager::install(\"EBImage\")\n",
    "BiocManager::install(\"terra\")\n",
    "BiocManager::install(\"rmapshaper\")\n",
    "install.packages(\"reticulate\")\n",
    "\n",
    "packageVersion(\"Voyager\")"
   ]
  },
  {
   "cell_type": "markdown",
<<<<<<< HEAD
<<<<<<< HEAD
<<<<<<< HEAD
   "id": "3284036f",
||||||| b944554d
   "id": "6257b3e2",
=======
   "id": "03a60e3b",
>>>>>>> documentation-devel
||||||| 35cb6e7a
   "id": "03a60e3b",
=======
   "id": "766ebdca",
>>>>>>> documentation-devel
||||||| 596bf878
<<<<<<< HEAD
   "id": "3284036f",
||||||| b944554d
   "id": "6257b3e2",
=======
   "id": "03a60e3b",
>>>>>>> documentation-devel
=======
   "id": "5c08daa0",
>>>>>>> f8a184fea58c53eb88debec89cb7180bf225886f
   "metadata": {
    "lines_to_next_cell": 0
   },
   "source": [
    "# Introduction\n",
    "In a [more introductory vignette](https://pachterlab.github.io/voyager/articles/visium_10x.html), we performed basic non-spatial analyses on a mouse olfactory bulb Visium dataset from the 10X website. In this vignette, we perform spatial analyses in histological space as well as in gene expression space. \n",
    "\n",
    "Here we load the packages used in this vignette:"
   ]
  },
  {
   "cell_type": "code",
   "execution_count": null,
<<<<<<< HEAD
<<<<<<< HEAD
<<<<<<< HEAD
   "id": "26728949",
||||||| b944554d
   "id": "f44f7dc7",
=======
   "id": "d47fbf35",
>>>>>>> documentation-devel
||||||| 35cb6e7a
   "id": "d47fbf35",
=======
   "id": "af99d410",
>>>>>>> documentation-devel
||||||| 596bf878
<<<<<<< HEAD
   "id": "26728949",
||||||| b944554d
   "id": "f44f7dc7",
=======
   "id": "d47fbf35",
>>>>>>> documentation-devel
=======
   "id": "3f7a4c31",
>>>>>>> f8a184fea58c53eb88debec89cb7180bf225886f
   "metadata": {
    "message": false
   },
   "outputs": [],
   "source": [
    "library(Voyager)\n",
    "library(SpatialFeatureExperiment)\n",
    "library(SingleCellExperiment)\n",
    "library(ggplot2)\n",
    "library(scater)\n",
    "library(scuttle)\n",
    "library(scran)\n",
    "library(stringr)\n",
    "library(patchwork)\n",
    "library(bluster)\n",
    "library(rjson)\n",
    "library(EBImage)\n",
    "library(terra)\n",
    "library(rlang)\n",
    "library(sf)\n",
    "library(rmapshaper)\n",
    "library(dplyr)\n",
    "library(BiocParallel)\n",
    "library(BiocNeighbors)\n",
    "library(reticulate)\n",
    "theme_set(theme_bw())"
   ]
  },
  {
   "cell_type": "code",
   "execution_count": null,
<<<<<<< HEAD
<<<<<<< HEAD
<<<<<<< HEAD
   "id": "71179a46",
||||||| b944554d
   "id": "892095c9",
=======
   "id": "282a7992",
>>>>>>> documentation-devel
||||||| 35cb6e7a
   "id": "282a7992",
=======
   "id": "5303dcb9",
>>>>>>> documentation-devel
||||||| 596bf878
<<<<<<< HEAD
   "id": "71179a46",
||||||| b944554d
   "id": "892095c9",
=======
   "id": "282a7992",
>>>>>>> documentation-devel
=======
   "id": "608d8ff1",
>>>>>>> f8a184fea58c53eb88debec89cb7180bf225886f
   "metadata": {},
   "outputs": [],
   "source": [
    "# Specify Python version to use gget\n",
    "PY_PATH <- system(\"which python\", intern = TRUE)\n",
    "use_python(PY_PATH)\n",
    "py_config()"
   ]
  },
  {
   "cell_type": "code",
   "execution_count": null,
<<<<<<< HEAD
<<<<<<< HEAD
<<<<<<< HEAD
   "id": "3a58979a",
||||||| b944554d
   "id": "61ffcf9a",
=======
   "id": "6505c902",
>>>>>>> documentation-devel
||||||| 35cb6e7a
   "id": "6505c902",
=======
   "id": "eda24ef1",
>>>>>>> documentation-devel
||||||| 596bf878
<<<<<<< HEAD
   "id": "3a58979a",
||||||| b944554d
   "id": "61ffcf9a",
=======
   "id": "6505c902",
>>>>>>> documentation-devel
=======
   "id": "7cc6d429",
>>>>>>> f8a184fea58c53eb88debec89cb7180bf225886f
   "metadata": {
    "eval": false,
    "tags": [
     "remove_cell"
    ]
   },
   "outputs": [],
   "source": [
    "system(\"pip3 install gget\")"
   ]
  },
  {
   "cell_type": "code",
   "execution_count": null,
<<<<<<< HEAD
<<<<<<< HEAD
<<<<<<< HEAD
   "id": "cceb3207",
||||||| b944554d
   "id": "5c9f92a5",
=======
   "id": "4881e1ae",
>>>>>>> documentation-devel
||||||| 35cb6e7a
   "id": "4881e1ae",
=======
   "id": "15cd5bbc",
>>>>>>> documentation-devel
||||||| 596bf878
<<<<<<< HEAD
   "id": "cceb3207",
||||||| b944554d
   "id": "5c9f92a5",
=======
   "id": "4881e1ae",
>>>>>>> documentation-devel
=======
   "id": "b8b84c76",
>>>>>>> f8a184fea58c53eb88debec89cb7180bf225886f
   "metadata": {},
   "outputs": [],
   "source": [
    "gget <- import(\"gget\")"
   ]
  },
  {
   "cell_type": "markdown",
<<<<<<< HEAD
<<<<<<< HEAD
<<<<<<< HEAD
   "id": "d3adbf93",
||||||| b944554d
   "id": "658beb35",
=======
   "id": "7230acbb",
>>>>>>> documentation-devel
||||||| 35cb6e7a
   "id": "7230acbb",
=======
   "id": "7714b9eb",
>>>>>>> documentation-devel
||||||| 596bf878
<<<<<<< HEAD
   "id": "d3adbf93",
||||||| b944554d
   "id": "658beb35",
=======
   "id": "7230acbb",
>>>>>>> documentation-devel
=======
   "id": "14545c7c",
>>>>>>> f8a184fea58c53eb88debec89cb7180bf225886f
   "metadata": {
    "lines_to_next_cell": 0
   },
   "source": [
    "Here we download the data from the 10X website. This is the unfiltered gene count matrix:"
   ]
  },
  {
   "cell_type": "code",
   "execution_count": null,
<<<<<<< HEAD
<<<<<<< HEAD
<<<<<<< HEAD
   "id": "a15b0504",
||||||| b944554d
   "id": "9a971dcf",
=======
   "id": "442049fa",
>>>>>>> documentation-devel
||||||| 35cb6e7a
   "id": "442049fa",
=======
   "id": "ee75a6e0",
>>>>>>> documentation-devel
||||||| 596bf878
<<<<<<< HEAD
   "id": "a15b0504",
||||||| b944554d
   "id": "9a971dcf",
=======
   "id": "442049fa",
>>>>>>> documentation-devel
=======
   "id": "b6397fef",
>>>>>>> f8a184fea58c53eb88debec89cb7180bf225886f
   "metadata": {},
   "outputs": [],
   "source": [
    "if (!file.exists(\"visium_ob.tar.gz\"))\n",
    "    download.file(\"https://cf.10xgenomics.com/samples/spatial-exp/2.0.0/Visium_Mouse_Olfactory_Bulb/Visium_Mouse_Olfactory_Bulb_raw_feature_bc_matrix.tar.gz\", \n",
    "                  destfile = \"visium_ob.tar.gz\")"
   ]
  },
  {
   "cell_type": "markdown",
<<<<<<< HEAD
<<<<<<< HEAD
<<<<<<< HEAD
   "id": "df0bf98a",
||||||| b944554d
   "id": "4215c8b6",
=======
   "id": "d695b81e",
>>>>>>> documentation-devel
||||||| 35cb6e7a
   "id": "d695b81e",
=======
   "id": "1e7ae940",
>>>>>>> documentation-devel
||||||| 596bf878
<<<<<<< HEAD
   "id": "df0bf98a",
||||||| b944554d
   "id": "4215c8b6",
=======
   "id": "d695b81e",
>>>>>>> documentation-devel
=======
   "id": "2ee5761e",
>>>>>>> f8a184fea58c53eb88debec89cb7180bf225886f
   "metadata": {
    "lines_to_next_cell": 0
   },
   "source": [
    "This is the spatial information:"
   ]
  },
  {
   "cell_type": "code",
   "execution_count": null,
<<<<<<< HEAD
<<<<<<< HEAD
<<<<<<< HEAD
   "id": "3494c272",
||||||| b944554d
   "id": "0c024165",
=======
   "id": "1df4a66b",
>>>>>>> documentation-devel
||||||| 35cb6e7a
   "id": "1df4a66b",
=======
   "id": "6f921da1",
>>>>>>> documentation-devel
||||||| 596bf878
<<<<<<< HEAD
   "id": "3494c272",
||||||| b944554d
   "id": "0c024165",
=======
   "id": "1df4a66b",
>>>>>>> documentation-devel
=======
   "id": "b5614619",
>>>>>>> f8a184fea58c53eb88debec89cb7180bf225886f
   "metadata": {},
   "outputs": [],
   "source": [
    "if (!file.exists(\"visium_ob_spatial.tar.gz\"))\n",
    "    download.file(\"https://cf.10xgenomics.com/samples/spatial-exp/2.0.0/Visium_Mouse_Olfactory_Bulb/Visium_Mouse_Olfactory_Bulb_spatial.tar.gz\", \n",
    "                  destfile = \"visium_ob_spatial.tar.gz\")"
   ]
  },
  {
   "cell_type": "markdown",
<<<<<<< HEAD
<<<<<<< HEAD
<<<<<<< HEAD
   "id": "79d5df2d",
||||||| b944554d
   "id": "b6f59ce1",
=======
   "id": "2a975ec5",
>>>>>>> documentation-devel
||||||| 35cb6e7a
   "id": "2a975ec5",
=======
   "id": "f61479d2",
>>>>>>> documentation-devel
||||||| 596bf878
<<<<<<< HEAD
   "id": "79d5df2d",
||||||| b944554d
   "id": "b6f59ce1",
=======
   "id": "2a975ec5",
>>>>>>> documentation-devel
=======
   "id": "0d0cd948",
>>>>>>> f8a184fea58c53eb88debec89cb7180bf225886f
   "metadata": {
    "lines_to_next_cell": 0
   },
   "source": [
    "Decompress the downloaded content:"
   ]
  },
  {
   "cell_type": "code",
   "execution_count": null,
<<<<<<< HEAD
<<<<<<< HEAD
<<<<<<< HEAD
   "id": "ab821d92",
||||||| b944554d
   "id": "6f524c1c",
=======
   "id": "1eabc007",
>>>>>>> documentation-devel
||||||| 35cb6e7a
   "id": "1eabc007",
=======
   "id": "15047486",
>>>>>>> documentation-devel
||||||| 596bf878
<<<<<<< HEAD
   "id": "ab821d92",
||||||| b944554d
   "id": "6f524c1c",
=======
   "id": "1eabc007",
>>>>>>> documentation-devel
=======
   "id": "7e37df62",
>>>>>>> f8a184fea58c53eb88debec89cb7180bf225886f
   "metadata": {},
   "outputs": [],
   "source": [
    "if (!dir.exists(\"outs\")) {\n",
    "    dir.create(\"outs\")\n",
    "    system(\"tar -xvf visium_ob.tar.gz -C outs\")\n",
    "    system(\"tar -xvf visium_ob_spatial.tar.gz -C outs\")\n",
    "}"
   ]
  },
  {
   "cell_type": "markdown",
<<<<<<< HEAD
<<<<<<< HEAD
<<<<<<< HEAD
   "id": "9eb59b1b",
||||||| b944554d
   "id": "cd71dc52",
=======
   "id": "73f1c0e4",
>>>>>>> documentation-devel
||||||| 35cb6e7a
   "id": "73f1c0e4",
=======
   "id": "963b95b6",
>>>>>>> documentation-devel
||||||| 596bf878
<<<<<<< HEAD
   "id": "9eb59b1b",
||||||| b944554d
   "id": "cd71dc52",
=======
   "id": "73f1c0e4",
>>>>>>> documentation-devel
=======
   "id": "ecb8c44e",
>>>>>>> f8a184fea58c53eb88debec89cb7180bf225886f
   "metadata": {
    "lines_to_next_cell": 0
   },
   "source": [
    "Contents of the `outs` directory as from Space Ranger is explained in [the introductory vignette](https://pachterlab.github.io/voyager/articles/visium_10x.html).\n",
    "\n",
    "Here we read the data into R as an SFE object."
   ]
  },
  {
   "cell_type": "code",
   "execution_count": null,
<<<<<<< HEAD
<<<<<<< HEAD
<<<<<<< HEAD
   "id": "8b5b8f0f",
||||||| b944554d
   "id": "58042dec",
=======
   "id": "597d3889",
>>>>>>> documentation-devel
||||||| 35cb6e7a
   "id": "597d3889",
=======
   "id": "61292987",
>>>>>>> documentation-devel
||||||| 596bf878
<<<<<<< HEAD
   "id": "8b5b8f0f",
||||||| b944554d
   "id": "58042dec",
=======
   "id": "597d3889",
>>>>>>> documentation-devel
=======
   "id": "cb8a2137",
>>>>>>> f8a184fea58c53eb88debec89cb7180bf225886f
   "metadata": {},
   "outputs": [],
   "source": [
    "(sfe <- read10xVisiumSFE(samples = \".\", type = \"sparse\", data = \"raw\"))"
   ]
  },
  {
   "cell_type": "markdown",
<<<<<<< HEAD
<<<<<<< HEAD
<<<<<<< HEAD
   "id": "b356c560",
||||||| b944554d
   "id": "62e9e830",
=======
   "id": "069e1cf0",
>>>>>>> documentation-devel
||||||| 35cb6e7a
   "id": "069e1cf0",
=======
   "id": "22d23ac9",
>>>>>>> documentation-devel
||||||| 596bf878
<<<<<<< HEAD
   "id": "b356c560",
||||||| b944554d
   "id": "62e9e830",
=======
   "id": "069e1cf0",
>>>>>>> documentation-devel
=======
   "id": "3e4b496d",
>>>>>>> f8a184fea58c53eb88debec89cb7180bf225886f
   "metadata": {},
   "source": [
    "Here we add QC metrics, already plotted in the introductory vignette."
   ]
  },
  {
   "cell_type": "code",
   "execution_count": null,
<<<<<<< HEAD
<<<<<<< HEAD
<<<<<<< HEAD
   "id": "1d7c7caf",
||||||| b944554d
   "id": "7d1fd3c4",
=======
   "id": "3f57f816",
>>>>>>> documentation-devel
||||||| 35cb6e7a
   "id": "3f57f816",
=======
   "id": "acb4bc5b",
>>>>>>> documentation-devel
||||||| 596bf878
<<<<<<< HEAD
   "id": "1d7c7caf",
||||||| b944554d
   "id": "7d1fd3c4",
=======
   "id": "3f57f816",
>>>>>>> documentation-devel
=======
   "id": "ad6d5197",
>>>>>>> f8a184fea58c53eb88debec89cb7180bf225886f
   "metadata": {},
   "outputs": [],
   "source": [
    "is_mt <- str_detect(rowData(sfe)$symbol, \"^mt-\")"
   ]
  },
  {
   "cell_type": "code",
   "execution_count": null,
<<<<<<< HEAD
<<<<<<< HEAD
<<<<<<< HEAD
   "id": "548c44e5",
||||||| b944554d
   "id": "9ce1186a",
=======
   "id": "6b5b24a5",
>>>>>>> documentation-devel
||||||| 35cb6e7a
   "id": "6b5b24a5",
=======
   "id": "506a3e69",
>>>>>>> documentation-devel
||||||| 596bf878
<<<<<<< HEAD
   "id": "548c44e5",
||||||| b944554d
   "id": "9ce1186a",
=======
   "id": "6b5b24a5",
>>>>>>> documentation-devel
=======
   "id": "db6fee1d",
>>>>>>> f8a184fea58c53eb88debec89cb7180bf225886f
   "metadata": {},
   "outputs": [],
   "source": [
    "sfe <- addPerCellQCMetrics(sfe, subsets = list(mito = is_mt))"
   ]
  },
  {
   "cell_type": "markdown",
<<<<<<< HEAD
<<<<<<< HEAD
<<<<<<< HEAD
   "id": "33128862",
||||||| b944554d
   "id": "4b6cedf8",
=======
   "id": "4e1cb9d1",
>>>>>>> documentation-devel
||||||| 35cb6e7a
   "id": "4e1cb9d1",
=======
   "id": "203558b2",
>>>>>>> documentation-devel
||||||| 596bf878
<<<<<<< HEAD
   "id": "33128862",
||||||| b944554d
   "id": "4b6cedf8",
=======
   "id": "4e1cb9d1",
>>>>>>> documentation-devel
=======
   "id": "982baf9f",
>>>>>>> f8a184fea58c53eb88debec89cb7180bf225886f
   "metadata": {},
   "source": [
    "# Tissue segmentation\n",
    "While Space Ranger can automatically detect which spots are in tissue and the Loupe browser can be used to manually annotate which spots are in tissue, it may be interesting to get the tissue outline polygon, so we would know how much each spot overlaps with the tissue and plot the outline. The tissue boundary polygon can be manually annotated with QuPath, which saves the polygon as a GeoJSON and can be directly read into R with `st_read()`. \n",
    "\n",
    "Or we can segment the tissue computationally. R generally isn't great for image processing, but there are some packages that can perform the segmentation, such as [`EBImage`](https://bioconductor.org/packages/release/bioc/html/EBImage.html), which is based on its own in house C and C++ code, and [`imager`](https://github.com/dahtah/imager/), which is based on [`CImg`](http://cimg.eu/).\n",
    "\n",
    "Here we don't have the full resolution image. We will perform tissue segmentation on the high resolution downsampled image and then scale it to make the coordinates of the tissue boundary match those of the spots. The `EBImage` package is used here. Compared to OpenCV, `EBImage` is slow on the full resolution image, but should be fine here for the downsized image."
   ]
  },
  {
   "cell_type": "code",
   "execution_count": null,
<<<<<<< HEAD
<<<<<<< HEAD
<<<<<<< HEAD
   "id": "2640c4d7",
||||||| b944554d
   "id": "ad1748f5",
=======
   "id": "c107bad8",
>>>>>>> documentation-devel
||||||| 35cb6e7a
   "id": "c107bad8",
=======
   "id": "3cf5ef3c",
>>>>>>> documentation-devel
||||||| 596bf878
<<<<<<< HEAD
   "id": "2640c4d7",
||||||| b944554d
   "id": "ad1748f5",
=======
   "id": "c107bad8",
>>>>>>> documentation-devel
=======
   "id": "2f835ea0",
>>>>>>> f8a184fea58c53eb88debec89cb7180bf225886f
   "metadata": {},
   "outputs": [],
   "source": [
    "img <- readImage(\"outs/spatial/tissue_hires_image.png\")\n",
    "display(img)"
   ]
  },
  {
   "cell_type": "markdown",
<<<<<<< HEAD
<<<<<<< HEAD
<<<<<<< HEAD
   "id": "f7112871",
||||||| b944554d
   "id": "e9ccfadf",
=======
   "id": "c75fc6d5",
>>>>>>> documentation-devel
||||||| 35cb6e7a
   "id": "c75fc6d5",
=======
   "id": "e5d4d0c3",
>>>>>>> documentation-devel
||||||| 596bf878
<<<<<<< HEAD
   "id": "f7112871",
||||||| b944554d
   "id": "e9ccfadf",
=======
   "id": "c75fc6d5",
>>>>>>> documentation-devel
=======
   "id": "2fe5d7fb",
>>>>>>> f8a184fea58c53eb88debec89cb7180bf225886f
   "metadata": {
    "lines_to_next_cell": 0
   },
   "source": [
    "When rendered as a static webpage, the image is static, but when run interactively, this image will be shown in an interactive widget where you can zoom and pan.\n",
    "\n",
    "Here we show the RGB channels separately"
   ]
  },
  {
   "cell_type": "code",
   "execution_count": null,
<<<<<<< HEAD
<<<<<<< HEAD
<<<<<<< HEAD
   "id": "8857f3ef",
||||||| b944554d
   "id": "7b9d08d3",
=======
   "id": "e04c0a46",
>>>>>>> documentation-devel
||||||| 35cb6e7a
   "id": "e04c0a46",
=======
   "id": "1ff6ffad",
>>>>>>> documentation-devel
||||||| 596bf878
<<<<<<< HEAD
   "id": "8857f3ef",
||||||| b944554d
   "id": "7b9d08d3",
=======
   "id": "e04c0a46",
>>>>>>> documentation-devel
=======
   "id": "dec23982",
>>>>>>> f8a184fea58c53eb88debec89cb7180bf225886f
   "metadata": {},
   "outputs": [],
   "source": [
    "img2 <- img\n",
    "colorMode(img2) <- Grayscale\n",
    "display(img2, all = TRUE)"
   ]
  },
  {
   "cell_type": "code",
   "execution_count": null,
<<<<<<< HEAD
<<<<<<< HEAD
<<<<<<< HEAD
   "id": "46fd4a17",
||||||| b944554d
   "id": "22163795",
=======
   "id": "bae85c5a",
>>>>>>> documentation-devel
||||||| 35cb6e7a
   "id": "bae85c5a",
=======
   "id": "231f9a7c",
>>>>>>> documentation-devel
||||||| 596bf878
<<<<<<< HEAD
   "id": "46fd4a17",
||||||| b944554d
   "id": "22163795",
=======
   "id": "bae85c5a",
>>>>>>> documentation-devel
=======
   "id": "ced0a6cb",
>>>>>>> f8a184fea58c53eb88debec89cb7180bf225886f
   "metadata": {},
   "outputs": [],
   "source": [
    "hist(img)"
   ]
  },
  {
   "cell_type": "markdown",
<<<<<<< HEAD
<<<<<<< HEAD
<<<<<<< HEAD
   "id": "fb82f13d",
||||||| b944554d
   "id": "2c7811a1",
=======
   "id": "6096c639",
>>>>>>> documentation-devel
||||||| 35cb6e7a
   "id": "6096c639",
=======
   "id": "16d8cfe0",
>>>>>>> documentation-devel
||||||| 596bf878
<<<<<<< HEAD
   "id": "fb82f13d",
||||||| b944554d
   "id": "2c7811a1",
=======
   "id": "6096c639",
>>>>>>> documentation-devel
=======
   "id": "e43cb375",
>>>>>>> f8a184fea58c53eb88debec89cb7180bf225886f
   "metadata": {},
   "source": [
    "The tissue can be discerned with thresholding. The tall peak on the right is the background. The much lower peaks from around 0.6 to 0.85 must be the tissue. To capture the faint bluish region, the blue channel is used for thresholding. The threshold here is chosen based on the histogram and experimenting with nearby values."
   ]
  },
  {
   "cell_type": "code",
   "execution_count": null,
<<<<<<< HEAD
<<<<<<< HEAD
<<<<<<< HEAD
   "id": "ac330219",
||||||| b944554d
   "id": "cb3aa3c8",
=======
   "id": "3f1b3d0c",
>>>>>>> documentation-devel
||||||| 35cb6e7a
   "id": "3f1b3d0c",
=======
   "id": "03849461",
>>>>>>> documentation-devel
||||||| 596bf878
<<<<<<< HEAD
   "id": "ac330219",
||||||| b944554d
   "id": "cb3aa3c8",
=======
   "id": "3f1b3d0c",
>>>>>>> documentation-devel
=======
   "id": "358fa7db",
>>>>>>> f8a184fea58c53eb88debec89cb7180bf225886f
   "metadata": {},
   "outputs": [],
   "source": [
    "mask <- img2[,,3] < 0.87\n",
    "display(mask)"
   ]
  },
  {
   "cell_type": "markdown",
<<<<<<< HEAD
<<<<<<< HEAD
<<<<<<< HEAD
   "id": "34bb3bbb",
||||||| b944554d
   "id": "2a90b859",
=======
   "id": "9a0d7ece",
>>>>>>> documentation-devel
||||||| 35cb6e7a
   "id": "9a0d7ece",
=======
   "id": "932deab8",
>>>>>>> documentation-devel
||||||| 596bf878
<<<<<<< HEAD
   "id": "34bb3bbb",
||||||| b944554d
   "id": "2a90b859",
=======
   "id": "9a0d7ece",
>>>>>>> documentation-devel
=======
   "id": "220966cc",
>>>>>>> f8a184fea58c53eb88debec89cb7180bf225886f
   "metadata": {
    "lines_to_next_cell": 0
   },
   "source": [
    "Then we use an opening operation (erosion followed by dilation) to denoise"
   ]
  },
  {
   "cell_type": "code",
   "execution_count": null,
<<<<<<< HEAD
<<<<<<< HEAD
<<<<<<< HEAD
   "id": "54b41813",
||||||| b944554d
   "id": "15393280",
=======
   "id": "ca781b77",
>>>>>>> documentation-devel
||||||| 35cb6e7a
   "id": "ca781b77",
=======
   "id": "26fcbff6",
>>>>>>> documentation-devel
||||||| 596bf878
<<<<<<< HEAD
   "id": "54b41813",
||||||| b944554d
   "id": "15393280",
=======
   "id": "ca781b77",
>>>>>>> documentation-devel
=======
   "id": "9290d0dd",
>>>>>>> f8a184fea58c53eb88debec89cb7180bf225886f
   "metadata": {},
   "outputs": [],
   "source": [
    "kern <- makeBrush(3, shape='disc')\n",
    "mask_open <- opening(mask, kern)\n",
    "display(mask_open)"
   ]
  },
  {
   "cell_type": "markdown",
<<<<<<< HEAD
<<<<<<< HEAD
<<<<<<< HEAD
   "id": "4ff63ec9",
||||||| b944554d
   "id": "fda007ed",
=======
   "id": "65320da0",
>>>>>>> documentation-devel
||||||| 35cb6e7a
   "id": "65320da0",
=======
   "id": "007c2be0",
>>>>>>> documentation-devel
||||||| 596bf878
<<<<<<< HEAD
   "id": "4ff63ec9",
||||||| b944554d
   "id": "fda007ed",
=======
   "id": "65320da0",
>>>>>>> documentation-devel
=======
   "id": "eca48388",
>>>>>>> f8a184fea58c53eb88debec89cb7180bf225886f
   "metadata": {
    "lines_to_next_cell": 0
   },
   "source": [
    "There are some small holes in the tissue, which can be removed by a closing operation (dilation followed by erosion):"
   ]
  },
  {
   "cell_type": "code",
   "execution_count": null,
<<<<<<< HEAD
<<<<<<< HEAD
<<<<<<< HEAD
   "id": "f9bfef3f",
||||||| b944554d
   "id": "bbf78bfb",
=======
   "id": "57b6a048",
>>>>>>> documentation-devel
||||||| 35cb6e7a
   "id": "57b6a048",
=======
   "id": "d92aa5bd",
>>>>>>> documentation-devel
||||||| 596bf878
<<<<<<< HEAD
   "id": "f9bfef3f",
||||||| b944554d
   "id": "bbf78bfb",
=======
   "id": "57b6a048",
>>>>>>> documentation-devel
=======
   "id": "7e4ab885",
>>>>>>> f8a184fea58c53eb88debec89cb7180bf225886f
   "metadata": {},
   "outputs": [],
   "source": [
    "mask_close <- closing(mask_open, kern)\n",
    "display(mask_close)"
   ]
  },
  {
   "cell_type": "markdown",
<<<<<<< HEAD
<<<<<<< HEAD
<<<<<<< HEAD
   "id": "53702986",
||||||| b944554d
   "id": "a6037ae1",
=======
   "id": "bb1f9bfc",
>>>>>>> documentation-devel
||||||| 35cb6e7a
   "id": "bb1f9bfc",
=======
   "id": "00548101",
>>>>>>> documentation-devel
||||||| 596bf878
<<<<<<< HEAD
   "id": "53702986",
||||||| b944554d
   "id": "a6037ae1",
=======
   "id": "bb1f9bfc",
>>>>>>> documentation-devel
=======
   "id": "d7956191",
>>>>>>> f8a184fea58c53eb88debec89cb7180bf225886f
   "metadata": {},
   "source": [
    "There are some larger holes in the tissue mask, which may be real holes or faint regions with few nuclei missed by thresholding. They might not be large enough to affect which Visium spots intersect the tissue.\n",
    "\n",
    "Now the main piece of tissue is clear. It must be the object with the largest area. However, there are two small pieces that should belong to the tissue at the top left. The debris and fiducials can be removed by setting all pixels in the mask outside the bounding box of the main piece to 0. Here we assign a different value to each contiguous object with `bwlabel()`, and use `computeFeatures.shape()` to find the area among other shape features (e.g. perimeter) of each object."
   ]
  },
  {
   "cell_type": "code",
   "execution_count": null,
<<<<<<< HEAD
<<<<<<< HEAD
<<<<<<< HEAD
   "id": "1afc1ce8",
||||||| b944554d
   "id": "dc767380",
=======
   "id": "a41c9024",
>>>>>>> documentation-devel
||||||| 35cb6e7a
   "id": "a41c9024",
=======
   "id": "9db7d4cf",
>>>>>>> documentation-devel
||||||| 596bf878
<<<<<<< HEAD
   "id": "1afc1ce8",
||||||| b944554d
   "id": "dc767380",
=======
   "id": "a41c9024",
>>>>>>> documentation-devel
=======
   "id": "5063a2a8",
>>>>>>> f8a184fea58c53eb88debec89cb7180bf225886f
   "metadata": {},
   "outputs": [],
   "source": [
    "mask_label <- bwlabel(mask_close)\n",
    "fts <- computeFeatures.shape(mask_label)"
   ]
  },
  {
   "cell_type": "code",
   "execution_count": null,
<<<<<<< HEAD
<<<<<<< HEAD
<<<<<<< HEAD
   "id": "badc5f3c",
||||||| b944554d
   "id": "636ad262",
=======
   "id": "7007847b",
>>>>>>> documentation-devel
||||||| 35cb6e7a
   "id": "7007847b",
=======
   "id": "cf5a4684",
>>>>>>> documentation-devel
||||||| 596bf878
<<<<<<< HEAD
   "id": "badc5f3c",
||||||| b944554d
   "id": "636ad262",
=======
   "id": "7007847b",
>>>>>>> documentation-devel
=======
   "id": "0317f07e",
>>>>>>> f8a184fea58c53eb88debec89cb7180bf225886f
   "metadata": {},
   "outputs": [],
   "source": [
    "head(fts)"
   ]
  },
  {
   "cell_type": "code",
   "execution_count": null,
<<<<<<< HEAD
<<<<<<< HEAD
<<<<<<< HEAD
   "id": "260e2ef0",
||||||| b944554d
   "id": "a4cdc50d",
=======
   "id": "a97093c7",
>>>>>>> documentation-devel
||||||| 35cb6e7a
   "id": "a97093c7",
=======
   "id": "04110aa9",
>>>>>>> documentation-devel
||||||| 596bf878
<<<<<<< HEAD
   "id": "260e2ef0",
||||||| b944554d
   "id": "a4cdc50d",
=======
   "id": "a97093c7",
>>>>>>> documentation-devel
=======
   "id": "6dc5af9f",
>>>>>>> f8a184fea58c53eb88debec89cb7180bf225886f
   "metadata": {},
   "outputs": [],
   "source": [
    "summary(fts[,\"s.area\"])"
   ]
  },
  {
   "cell_type": "code",
   "execution_count": null,
<<<<<<< HEAD
<<<<<<< HEAD
<<<<<<< HEAD
   "id": "70f80605",
||||||| b944554d
   "id": "33944434",
=======
   "id": "adf51796",
>>>>>>> documentation-devel
||||||| 35cb6e7a
   "id": "adf51796",
=======
   "id": "6883390f",
>>>>>>> documentation-devel
||||||| 596bf878
<<<<<<< HEAD
   "id": "70f80605",
||||||| b944554d
   "id": "33944434",
=======
   "id": "adf51796",
>>>>>>> documentation-devel
=======
   "id": "a5e456c6",
>>>>>>> f8a184fea58c53eb88debec89cb7180bf225886f
   "metadata": {},
   "outputs": [],
   "source": [
    "max_ind <- which.max(fts[,\"s.area\"])\n",
    "inds <- which(as.array(mask_label) == max_ind, arr.ind = TRUE)\n",
    "head(inds)"
   ]
  },
  {
   "cell_type": "code",
   "execution_count": null,
<<<<<<< HEAD
<<<<<<< HEAD
<<<<<<< HEAD
   "id": "ca2745b8",
||||||| b944554d
   "id": "6159c65a",
=======
   "id": "5f896f27",
>>>>>>> documentation-devel
||||||| 35cb6e7a
   "id": "5f896f27",
=======
   "id": "7c1480d5",
>>>>>>> documentation-devel
||||||| 596bf878
<<<<<<< HEAD
   "id": "ca2745b8",
||||||| b944554d
   "id": "6159c65a",
=======
   "id": "5f896f27",
>>>>>>> documentation-devel
=======
   "id": "d934124e",
>>>>>>> f8a184fea58c53eb88debec89cb7180bf225886f
   "metadata": {},
   "outputs": [],
   "source": [
    "row_inds <- c(seq_len(min(inds[,1])-1), seq(max(inds[,1])+1, nrow(mask_label), by = 1))\n",
    "col_inds <- c(seq_len(min(inds[,2])-1), seq(max(inds[,2])+1, nrow(mask_label), by = 1))\n",
    "mask_label[row_inds, ] <- 0\n",
    "mask_label[,col_inds] <- 0\n",
    "display(mask_label)"
   ]
  },
  {
   "cell_type": "markdown",
<<<<<<< HEAD
<<<<<<< HEAD
<<<<<<< HEAD
   "id": "8fa77c52",
||||||| b944554d
   "id": "b48efd6c",
=======
   "id": "560732d4",
>>>>>>> documentation-devel
||||||| 35cb6e7a
   "id": "560732d4",
=======
   "id": "cef8638c",
>>>>>>> documentation-devel
||||||| 596bf878
<<<<<<< HEAD
   "id": "8fa77c52",
||||||| b944554d
   "id": "b48efd6c",
=======
   "id": "560732d4",
>>>>>>> documentation-devel
=======
   "id": "c928f97a",
>>>>>>> f8a184fea58c53eb88debec89cb7180bf225886f
   "metadata": {
    "lines_to_next_cell": 0
   },
   "source": [
    "Then remove the small pieces that are debris."
   ]
  },
  {
   "cell_type": "code",
   "execution_count": null,
<<<<<<< HEAD
<<<<<<< HEAD
<<<<<<< HEAD
   "id": "5f58330b",
||||||| b944554d
   "id": "13683271",
=======
   "id": "f1eb18e0",
>>>>>>> documentation-devel
||||||| 35cb6e7a
   "id": "f1eb18e0",
=======
   "id": "4d9a134d",
>>>>>>> documentation-devel
||||||| 596bf878
<<<<<<< HEAD
   "id": "5f58330b",
||||||| b944554d
   "id": "13683271",
=======
   "id": "f1eb18e0",
>>>>>>> documentation-devel
=======
   "id": "b349b002",
>>>>>>> f8a184fea58c53eb88debec89cb7180bf225886f
   "metadata": {},
   "outputs": [],
   "source": [
    "unique(as.vector(mask_label))"
   ]
  },
  {
   "cell_type": "code",
   "execution_count": null,
<<<<<<< HEAD
<<<<<<< HEAD
<<<<<<< HEAD
   "id": "03d5fc28",
||||||| b944554d
   "id": "c82da530",
=======
   "id": "91bbec49",
>>>>>>> documentation-devel
||||||| 35cb6e7a
   "id": "91bbec49",
=======
   "id": "e3f68769",
>>>>>>> documentation-devel
||||||| 596bf878
<<<<<<< HEAD
   "id": "03d5fc28",
||||||| b944554d
   "id": "c82da530",
=======
   "id": "91bbec49",
>>>>>>> documentation-devel
=======
   "id": "871fef09",
>>>>>>> f8a184fea58c53eb88debec89cb7180bf225886f
   "metadata": {},
   "outputs": [],
   "source": [
    "fts2 <- fts[unique(as.vector(mask_label))[-1],]\n",
    "fts2 <- fts2[order(fts2[,\"s.area\"], decreasing = TRUE),]"
   ]
  },
  {
   "cell_type": "code",
   "execution_count": null,
<<<<<<< HEAD
<<<<<<< HEAD
<<<<<<< HEAD
   "id": "3c8852f0",
||||||| b944554d
   "id": "fae7b148",
=======
   "id": "c22c985b",
>>>>>>> documentation-devel
||||||| 35cb6e7a
   "id": "c22c985b",
=======
   "id": "e2360cb8",
>>>>>>> documentation-devel
||||||| 596bf878
<<<<<<< HEAD
   "id": "3c8852f0",
||||||| b944554d
   "id": "fae7b148",
=======
   "id": "c22c985b",
>>>>>>> documentation-devel
=======
   "id": "e0c6470a",
>>>>>>> f8a184fea58c53eb88debec89cb7180bf225886f
   "metadata": {},
   "outputs": [],
   "source": [
    "plot(fts2[,1][-1], type = \"l\", ylab = \"Area\")"
   ]
  },
  {
   "cell_type": "code",
   "execution_count": null,
<<<<<<< HEAD
<<<<<<< HEAD
<<<<<<< HEAD
   "id": "8fd45f6b",
||||||| b944554d
   "id": "58e85d32",
=======
   "id": "55d57816",
>>>>>>> documentation-devel
||||||| 35cb6e7a
   "id": "55d57816",
=======
   "id": "b4619164",
>>>>>>> documentation-devel
||||||| 596bf878
<<<<<<< HEAD
   "id": "8fd45f6b",
||||||| b944554d
   "id": "58e85d32",
=======
   "id": "55d57816",
>>>>>>> documentation-devel
=======
   "id": "7aee1f21",
>>>>>>> f8a184fea58c53eb88debec89cb7180bf225886f
   "metadata": {},
   "outputs": [],
   "source": [
    "head(fts2, 10)"
   ]
  },
  {
   "cell_type": "markdown",
<<<<<<< HEAD
<<<<<<< HEAD
<<<<<<< HEAD
   "id": "415dd851",
||||||| b944554d
   "id": "ee9cbae2",
=======
   "id": "ce6f1a3f",
>>>>>>> documentation-devel
||||||| 35cb6e7a
   "id": "ce6f1a3f",
=======
   "id": "75b22f38",
>>>>>>> documentation-devel
||||||| 596bf878
<<<<<<< HEAD
   "id": "415dd851",
||||||| b944554d
   "id": "ee9cbae2",
=======
   "id": "ce6f1a3f",
>>>>>>> documentation-devel
=======
   "id": "92aef016",
>>>>>>> f8a184fea58c53eb88debec89cb7180bf225886f
   "metadata": {},
   "source": [
    "Object number 797 is a piece of debris at the bottom left. The other pieces with area over 100 pixels are tissue. Since debris really is small bits of tissue, so the boundary between debris and tissue can be blurry. Here the two are distinguished by morphology on the H&E image and proximity to the main tissue."
   ]
  },
  {
   "cell_type": "code",
   "execution_count": null,
<<<<<<< HEAD
<<<<<<< HEAD
<<<<<<< HEAD
   "id": "9625563b",
||||||| b944554d
   "id": "c1160799",
=======
   "id": "8ad2f894",
>>>>>>> documentation-devel
||||||| 35cb6e7a
   "id": "8ad2f894",
=======
   "id": "5d9cc346",
>>>>>>> documentation-devel
||||||| 596bf878
<<<<<<< HEAD
   "id": "9625563b",
||||||| b944554d
   "id": "c1160799",
=======
   "id": "8ad2f894",
>>>>>>> documentation-devel
=======
   "id": "807224e9",
>>>>>>> f8a184fea58c53eb88debec89cb7180bf225886f
   "metadata": {},
   "outputs": [],
   "source": [
    "#display(mask_label == 797)"
   ]
  },
  {
   "cell_type": "markdown",
<<<<<<< HEAD
<<<<<<< HEAD
<<<<<<< HEAD
   "id": "8ce547c9",
||||||| b944554d
   "id": "6271cda5",
=======
   "id": "f4022262",
>>>>>>> documentation-devel
||||||| 35cb6e7a
   "id": "f4022262",
=======
   "id": "d5925283",
>>>>>>> documentation-devel
||||||| 596bf878
<<<<<<< HEAD
   "id": "8ce547c9",
||||||| b944554d
   "id": "6271cda5",
=======
   "id": "f4022262",
>>>>>>> documentation-devel
=======
   "id": "c9b21741",
>>>>>>> f8a184fea58c53eb88debec89cb7180bf225886f
   "metadata": {
    "lines_to_next_cell": 0
   },
   "source": [
    "Here we remove the debris from the mask"
   ]
  },
  {
   "cell_type": "code",
   "execution_count": null,
<<<<<<< HEAD
<<<<<<< HEAD
<<<<<<< HEAD
   "id": "92fa300f",
||||||| b944554d
   "id": "ebb8e1f9",
=======
   "id": "fe8f77b5",
>>>>>>> documentation-devel
||||||| 35cb6e7a
   "id": "fe8f77b5",
=======
   "id": "5a49a854",
>>>>>>> documentation-devel
||||||| 596bf878
<<<<<<< HEAD
   "id": "92fa300f",
||||||| b944554d
   "id": "ebb8e1f9",
=======
   "id": "fe8f77b5",
>>>>>>> documentation-devel
=======
   "id": "b58ffd5e",
>>>>>>> f8a184fea58c53eb88debec89cb7180bf225886f
   "metadata": {},
   "outputs": [],
   "source": [
    "mask_label[mask_label %in% c(797, as.numeric(rownames(fts2)[fts2[,1] < 100]))] <- 0"
   ]
  },
  {
   "cell_type": "markdown",
<<<<<<< HEAD
<<<<<<< HEAD
<<<<<<< HEAD
   "id": "9180f9d2",
||||||| b944554d
   "id": "c18f8cfc",
=======
   "id": "3f2cb8d8",
>>>>>>> documentation-devel
||||||| 35cb6e7a
   "id": "3f2cb8d8",
=======
   "id": "fdb10a81",
>>>>>>> documentation-devel
||||||| 596bf878
<<<<<<< HEAD
   "id": "9180f9d2",
||||||| b944554d
   "id": "c18f8cfc",
=======
   "id": "3f2cb8d8",
>>>>>>> documentation-devel
=======
   "id": "91a219bd",
>>>>>>> f8a184fea58c53eb88debec89cb7180bf225886f
   "metadata": {
    "lines_to_next_cell": 0
   },
   "source": [
    "Since most holes in the mask are faint regions of the tissue missed by thresholding, the holes will be filled"
   ]
  },
  {
   "cell_type": "code",
   "execution_count": null,
<<<<<<< HEAD
<<<<<<< HEAD
<<<<<<< HEAD
   "id": "3c6079f1",
||||||| b944554d
   "id": "9f56ae47",
=======
   "id": "2ff69782",
>>>>>>> documentation-devel
||||||| 35cb6e7a
   "id": "2ff69782",
=======
   "id": "aaed5cce",
>>>>>>> documentation-devel
||||||| 596bf878
<<<<<<< HEAD
   "id": "3c6079f1",
||||||| b944554d
   "id": "9f56ae47",
=======
   "id": "2ff69782",
>>>>>>> documentation-devel
=======
   "id": "443dcf8d",
>>>>>>> f8a184fea58c53eb88debec89cb7180bf225886f
   "metadata": {},
   "outputs": [],
   "source": [
    "mask_label <- fillHull(mask_label)"
   ]
  },
  {
   "cell_type": "code",
   "execution_count": null,
<<<<<<< HEAD
<<<<<<< HEAD
<<<<<<< HEAD
   "id": "f8e6a4a6",
||||||| b944554d
   "id": "a2be12f7",
=======
   "id": "6532b1a8",
>>>>>>> documentation-devel
||||||| 35cb6e7a
   "id": "6532b1a8",
=======
   "id": "95089a79",
>>>>>>> documentation-devel
||||||| 596bf878
<<<<<<< HEAD
   "id": "f8e6a4a6",
||||||| b944554d
   "id": "a2be12f7",
=======
   "id": "6532b1a8",
>>>>>>> documentation-devel
=======
   "id": "83c9d9c3",
>>>>>>> f8a184fea58c53eb88debec89cb7180bf225886f
   "metadata": {},
   "outputs": [],
   "source": [
    "display(paintObjects(mask_label, img, col=c(\"red\", \"yellow\"), opac=c(1, 0.3)))"
   ]
  },
  {
   "cell_type": "markdown",
<<<<<<< HEAD
<<<<<<< HEAD
<<<<<<< HEAD
   "id": "0660b2fd",
||||||| b944554d
   "id": "fa34e11e",
=======
   "id": "bc2b3f7c",
>>>>>>> documentation-devel
||||||| 35cb6e7a
   "id": "bc2b3f7c",
=======
   "id": "d942213d",
>>>>>>> documentation-devel
||||||| 596bf878
<<<<<<< HEAD
   "id": "0660b2fd",
||||||| b944554d
   "id": "fa34e11e",
=======
   "id": "bc2b3f7c",
>>>>>>> documentation-devel
=======
   "id": "a5509117",
>>>>>>> f8a184fea58c53eb88debec89cb7180bf225886f
   "metadata": {},
   "source": [
    "This segmentation process took a lot of manual oversight, in choosing the threshold, choosing kernel size and shape in the opening and closing operations, deciding whether to fill the holes, and deciding what is debris and what is tissue. \n",
    "\n",
    "# Convert tissue mask to polygon\n",
    "Now we have the tissue mask, which we will convert to polygon. While OpenCV can directly perform the conversion, as there isn't a comprehensive R wrapper of OpenCV, this conversion is more convoluted in R. We first convert the `Image` object to a raster as implemented in `terra`, the core R package for geospatial raster data. Then `terra` can convert the raster to polygon. As this image is downsized, the polygon will look quite pixelated. To mitigate this pixelation and save memory, the `ms_simplify()` function is used to simplify the polygon, only keeping a small proportion of all vertices. The `st_simplify()` function in `sf` can also simplify the polygons, but we can't specify what proportion of vertices to keep."
   ]
  },
  {
   "cell_type": "code",
   "execution_count": null,
<<<<<<< HEAD
<<<<<<< HEAD
<<<<<<< HEAD
   "id": "e9baf1d3",
||||||| b944554d
   "id": "3bd945ec",
=======
   "id": "306a0a16",
>>>>>>> documentation-devel
||||||| 35cb6e7a
   "id": "306a0a16",
=======
   "id": "b11433bf",
>>>>>>> documentation-devel
||||||| 596bf878
<<<<<<< HEAD
   "id": "e9baf1d3",
||||||| b944554d
   "id": "3bd945ec",
=======
   "id": "306a0a16",
>>>>>>> documentation-devel
=======
   "id": "cf1d5631",
>>>>>>> f8a184fea58c53eb88debec89cb7180bf225886f
   "metadata": {},
   "outputs": [],
   "source": [
    "raster2polygon <- function(seg, keep = 0.2) {\n",
    "    r <- rast(as.array(seg), extent = ext(0, nrow(seg), 0, ncol(seg))) |> \n",
    "        trans() |> flip()\n",
    "    r[r < 1] <- NA\n",
    "    contours <- st_as_sf(as.polygons(r, dissolve = TRUE))\n",
    "    simplified <- ms_simplify(contours, keep = keep)\n",
    "    list(full = contours,\n",
    "         simplified = simplified)\n",
    "}"
   ]
  },
  {
   "cell_type": "code",
   "execution_count": null,
<<<<<<< HEAD
<<<<<<< HEAD
<<<<<<< HEAD
   "id": "759a82a6",
||||||| b944554d
   "id": "673d2149",
=======
   "id": "24453992",
>>>>>>> documentation-devel
||||||| 35cb6e7a
   "id": "24453992",
=======
   "id": "f3db4ba9",
>>>>>>> documentation-devel
||||||| 596bf878
<<<<<<< HEAD
   "id": "759a82a6",
||||||| b944554d
   "id": "673d2149",
=======
   "id": "24453992",
>>>>>>> documentation-devel
=======
   "id": "04e30db8",
>>>>>>> f8a184fea58c53eb88debec89cb7180bf225886f
   "metadata": {},
   "outputs": [],
   "source": [
    "tb <- raster2polygon(mask_label)"
   ]
  },
  {
   "cell_type": "markdown",
<<<<<<< HEAD
<<<<<<< HEAD
<<<<<<< HEAD
   "id": "43fef14b",
||||||| b944554d
   "id": "536cfd6a",
=======
   "id": "963f1ff0",
>>>>>>> documentation-devel
||||||| 35cb6e7a
   "id": "963f1ff0",
=======
   "id": "87cd2b40",
>>>>>>> documentation-devel
||||||| 596bf878
<<<<<<< HEAD
   "id": "43fef14b",
||||||| b944554d
   "id": "536cfd6a",
=======
   "id": "963f1ff0",
>>>>>>> documentation-devel
=======
   "id": "aaa4ce98",
>>>>>>> f8a184fea58c53eb88debec89cb7180bf225886f
   "metadata": {
    "lines_to_next_cell": 0
   },
   "source": [
    "Before adding the geometry to the SFE object, it needs to be scaled to match the coordinates of the spots"
   ]
  },
  {
   "cell_type": "code",
   "execution_count": null,
<<<<<<< HEAD
<<<<<<< HEAD
<<<<<<< HEAD
   "id": "7ba721eb",
||||||| b944554d
   "id": "bb83bf80",
=======
   "id": "eec39c29",
>>>>>>> documentation-devel
||||||| 35cb6e7a
   "id": "eec39c29",
=======
   "id": "8bf4116d",
>>>>>>> documentation-devel
||||||| 596bf878
<<<<<<< HEAD
   "id": "7ba721eb",
||||||| b944554d
   "id": "bb83bf80",
=======
   "id": "eec39c29",
>>>>>>> documentation-devel
=======
   "id": "0f3278b9",
>>>>>>> f8a184fea58c53eb88debec89cb7180bf225886f
   "metadata": {},
   "outputs": [],
   "source": [
    "scale_factors <- fromJSON(file = \"outs/spatial/scalefactors_json.json\")"
   ]
  },
  {
   "cell_type": "code",
   "execution_count": null,
<<<<<<< HEAD
<<<<<<< HEAD
<<<<<<< HEAD
   "id": "7d6da3a9",
||||||| b944554d
   "id": "cfa9ecfe",
=======
   "id": "20feea8e",
>>>>>>> documentation-devel
||||||| 35cb6e7a
   "id": "20feea8e",
=======
   "id": "b1cac234",
>>>>>>> documentation-devel
||||||| 596bf878
<<<<<<< HEAD
   "id": "7d6da3a9",
||||||| b944554d
   "id": "cfa9ecfe",
=======
   "id": "20feea8e",
>>>>>>> documentation-devel
=======
   "id": "071ee5fb",
>>>>>>> f8a184fea58c53eb88debec89cb7180bf225886f
   "metadata": {},
   "outputs": [],
   "source": [
    "tb$simplified$geometry <- tb$simplified$geometry / scale_factors$tissue_hires_scalef"
   ]
  },
  {
   "cell_type": "code",
   "execution_count": null,
<<<<<<< HEAD
<<<<<<< HEAD
<<<<<<< HEAD
   "id": "ed4c6a7c",
||||||| b944554d
   "id": "27947b30",
=======
   "id": "a7f8782a",
>>>>>>> documentation-devel
||||||| 35cb6e7a
   "id": "a7f8782a",
=======
   "id": "4c6f59d9",
>>>>>>> documentation-devel
||||||| 596bf878
<<<<<<< HEAD
   "id": "ed4c6a7c",
||||||| b944554d
   "id": "27947b30",
=======
   "id": "a7f8782a",
>>>>>>> documentation-devel
=======
   "id": "ccaaffd5",
>>>>>>> f8a184fea58c53eb88debec89cb7180bf225886f
   "metadata": {},
   "outputs": [],
   "source": [
    "tissueBoundary(sfe) <- tb$simplified"
   ]
  },
  {
   "cell_type": "code",
   "execution_count": null,
<<<<<<< HEAD
<<<<<<< HEAD
<<<<<<< HEAD
   "id": "5c7599b0",
||||||| b944554d
   "id": "7508dae2",
=======
   "id": "b71678d1",
>>>>>>> documentation-devel
||||||| 35cb6e7a
   "id": "b71678d1",
=======
   "id": "f1eee18d",
>>>>>>> documentation-devel
||||||| 596bf878
<<<<<<< HEAD
   "id": "5c7599b0",
||||||| b944554d
   "id": "7508dae2",
=======
   "id": "b71678d1",
>>>>>>> documentation-devel
=======
   "id": "26462f5f",
>>>>>>> f8a184fea58c53eb88debec89cb7180bf225886f
   "metadata": {},
   "outputs": [],
   "source": [
    "plotSpatialFeature(sfe, \"sum\", annotGeometryName = \"tissueBoundary\", \n",
    "                   annot_fixed = list(fill = NA, color = \"black\"),\n",
    "                   image_id = \"lowres\") +\n",
    "    theme_void()"
   ]
  },
  {
   "cell_type": "markdown",
<<<<<<< HEAD
<<<<<<< HEAD
<<<<<<< HEAD
   "id": "2dbaacb8",
||||||| b944554d
   "id": "15ebc3be",
=======
   "id": "cd5fde51",
>>>>>>> documentation-devel
||||||| 35cb6e7a
   "id": "cd5fde51",
=======
   "id": "50e37af8",
>>>>>>> documentation-devel
||||||| 596bf878
<<<<<<< HEAD
   "id": "2dbaacb8",
||||||| b944554d
   "id": "15ebc3be",
=======
   "id": "cd5fde51",
>>>>>>> documentation-devel
=======
   "id": "fb62bd77",
>>>>>>> f8a184fea58c53eb88debec89cb7180bf225886f
   "metadata": {},
   "source": [
    "The mouse olfactory bulb is conventionally plotted horizontally. The entire SFE object can be transposed in histologial space to make the olfactory bulb horizontal."
   ]
  },
  {
   "cell_type": "code",
   "execution_count": null,
<<<<<<< HEAD
<<<<<<< HEAD
<<<<<<< HEAD
   "id": "db337b11",
||||||| b944554d
   "id": "4b6c1e70",
=======
   "id": "c429a58a",
>>>>>>> documentation-devel
||||||| 35cb6e7a
   "id": "c429a58a",
=======
   "id": "e3b7c342",
>>>>>>> documentation-devel
||||||| 596bf878
<<<<<<< HEAD
   "id": "db337b11",
||||||| b944554d
   "id": "4b6c1e70",
=======
   "id": "c429a58a",
>>>>>>> documentation-devel
=======
   "id": "a292a133",
>>>>>>> f8a184fea58c53eb88debec89cb7180bf225886f
   "metadata": {},
   "outputs": [],
   "source": [
    "sfe <- SpatialFeatureExperiment::transpose(sfe)"
   ]
  },
  {
   "cell_type": "code",
   "execution_count": null,
<<<<<<< HEAD
<<<<<<< HEAD
<<<<<<< HEAD
   "id": "93b68d68",
||||||| b944554d
   "id": "fbf95f1e",
=======
   "id": "2e04a88a",
>>>>>>> documentation-devel
||||||| 35cb6e7a
   "id": "2e04a88a",
=======
   "id": "312d9cb4",
>>>>>>> documentation-devel
||||||| 596bf878
<<<<<<< HEAD
   "id": "93b68d68",
||||||| b944554d
   "id": "fbf95f1e",
=======
   "id": "2e04a88a",
>>>>>>> documentation-devel
=======
   "id": "769139e9",
>>>>>>> f8a184fea58c53eb88debec89cb7180bf225886f
   "metadata": {},
   "outputs": [],
   "source": [
    "plotSpatialFeature(sfe, \"sum\", annotGeometryName = \"tissueBoundary\", \n",
    "                   annot_fixed = list(fill = NA, color = \"black\"),\n",
    "                   image_id = \"lowres\")"
   ]
  },
  {
   "cell_type": "markdown",
<<<<<<< HEAD
<<<<<<< HEAD
<<<<<<< HEAD
   "id": "822f5a65",
||||||| b944554d
   "id": "cd01310d",
=======
   "id": "47fd8090",
>>>>>>> documentation-devel
||||||| 35cb6e7a
   "id": "47fd8090",
=======
   "id": "c66bb052",
>>>>>>> documentation-devel
||||||| 596bf878
<<<<<<< HEAD
   "id": "822f5a65",
||||||| b944554d
   "id": "cd01310d",
=======
   "id": "47fd8090",
>>>>>>> documentation-devel
=======
   "id": "a98cc921",
>>>>>>> f8a184fea58c53eb88debec89cb7180bf225886f
   "metadata": {},
   "source": [
    "Then we can use geometric operations to find which spots intersect tissue, which spots are covered by tissue, and how much of each spot intersects tissue."
   ]
  },
  {
   "cell_type": "code",
   "execution_count": null,
<<<<<<< HEAD
<<<<<<< HEAD
<<<<<<< HEAD
   "id": "653d8028",
||||||| b944554d
   "id": "81bff652",
=======
   "id": "6c0d6fc6",
>>>>>>> documentation-devel
||||||| 35cb6e7a
   "id": "6c0d6fc6",
=======
   "id": "7e7a0be3",
>>>>>>> documentation-devel
||||||| 596bf878
<<<<<<< HEAD
   "id": "653d8028",
||||||| b944554d
   "id": "81bff652",
=======
   "id": "6c0d6fc6",
>>>>>>> documentation-devel
=======
   "id": "9e07c8d4",
>>>>>>> f8a184fea58c53eb88debec89cb7180bf225886f
   "metadata": {},
   "outputs": [],
   "source": [
    "# Which spots intersect tissue\n",
    "sfe$int_tissue <- annotPred(sfe, colGeometryName = \"spotPoly\", \n",
    "                            annotGeometryName = \"tissueBoundary\",\n",
    "                            pred = st_intersects)\n",
    "sfe$cov_tissue <- annotPred(sfe, colGeometryName = \"spotPoly\", \n",
    "                            annotGeometryName = \"tissueBoundary\",\n",
    "                            pred = st_covered_by)"
   ]
  },
  {
   "cell_type": "markdown",
<<<<<<< HEAD
<<<<<<< HEAD
<<<<<<< HEAD
   "id": "2d2dab3a",
||||||| b944554d
   "id": "01c39691",
=======
   "id": "7b31836f",
>>>>>>> documentation-devel
||||||| 35cb6e7a
   "id": "7b31836f",
=======
   "id": "67058d5a",
>>>>>>> documentation-devel
||||||| 596bf878
<<<<<<< HEAD
   "id": "2d2dab3a",
||||||| b944554d
   "id": "01c39691",
=======
   "id": "7b31836f",
>>>>>>> documentation-devel
=======
   "id": "fb78d459",
>>>>>>> f8a184fea58c53eb88debec89cb7180bf225886f
   "metadata": {
    "lines_to_next_cell": 0
   },
   "source": [
    "Discrepancies between Space Ranger's annotation and the annotation based on tissue segmentation here:"
   ]
  },
  {
   "cell_type": "code",
   "execution_count": null,
<<<<<<< HEAD
<<<<<<< HEAD
<<<<<<< HEAD
   "id": "1f9274d8",
||||||| b944554d
   "id": "332daee5",
=======
   "id": "2933ac0f",
>>>>>>> documentation-devel
||||||| 35cb6e7a
   "id": "2933ac0f",
=======
   "id": "692454e6",
>>>>>>> documentation-devel
||||||| 596bf878
<<<<<<< HEAD
   "id": "1f9274d8",
||||||| b944554d
   "id": "332daee5",
=======
   "id": "2933ac0f",
>>>>>>> documentation-devel
=======
   "id": "e69dced9",
>>>>>>> f8a184fea58c53eb88debec89cb7180bf225886f
   "metadata": {},
   "outputs": [],
   "source": [
    "sfe$diff_sr <- case_when(sfe$in_tissue == sfe$int_tissue ~ \"same\",\n",
    "                         sfe$in_tissue & !sfe$int_tissue ~ \"Space Ranger\",\n",
    "                         sfe$int_tissue & !sfe$in_tissue ~ \"segmentation\") |> \n",
    "    factor(levels = c(\"Space Ranger\", \"same\", \"segmentation\"))\n",
    "plotSpatialFeature(sfe, \"diff_sr\", \n",
    "                   annotGeometryName = \"tissueBoundary\", \n",
    "                   annot_fixed = list(fill = NA, size = 0.5, color = \"black\")) +\n",
    "    scale_fill_brewer(type = \"div\", palette = 4)"
   ]
  },
  {
   "cell_type": "markdown",
<<<<<<< HEAD
<<<<<<< HEAD
<<<<<<< HEAD
   "id": "da42bdb5",
||||||| b944554d
   "id": "56749821",
=======
   "id": "6f5bb2d0",
>>>>>>> documentation-devel
||||||| 35cb6e7a
   "id": "6f5bb2d0",
=======
   "id": "c3e3b400",
>>>>>>> documentation-devel
||||||| 596bf878
<<<<<<< HEAD
   "id": "da42bdb5",
||||||| b944554d
   "id": "56749821",
=======
   "id": "6f5bb2d0",
>>>>>>> documentation-devel
=======
   "id": "97a972cf",
>>>>>>> f8a184fea58c53eb88debec89cb7180bf225886f
   "metadata": {
    "lines_to_next_cell": 0
   },
   "source": [
    "Spots at the margin can intersect the tissue without being covered by it."
   ]
  },
  {
   "cell_type": "code",
   "execution_count": null,
<<<<<<< HEAD
<<<<<<< HEAD
<<<<<<< HEAD
   "id": "a2d8cfa5",
||||||| b944554d
   "id": "f27299a7",
=======
   "id": "935888fb",
>>>>>>> documentation-devel
||||||| 35cb6e7a
   "id": "935888fb",
=======
   "id": "d55b7e67",
>>>>>>> documentation-devel
||||||| 596bf878
<<<<<<< HEAD
   "id": "a2d8cfa5",
||||||| b944554d
   "id": "f27299a7",
=======
   "id": "935888fb",
>>>>>>> documentation-devel
=======
   "id": "e1678407",
>>>>>>> f8a184fea58c53eb88debec89cb7180bf225886f
   "metadata": {},
   "outputs": [],
   "source": [
    "sfe$diff_int_cov <- sfe$int_tissue != sfe$cov_tissue\n",
    "plotSpatialFeature(sfe, \"diff_int_cov\", \n",
    "                   annotGeometryName = \"tissueBoundary\", \n",
    "                   annot_fixed = list(fill = NA, size = 0.5, color = \"black\"))"
   ]
  },
  {
   "cell_type": "markdown",
<<<<<<< HEAD
<<<<<<< HEAD
<<<<<<< HEAD
   "id": "12a3db4a",
||||||| b944554d
   "id": "766ec62b",
=======
   "id": "65d807aa",
>>>>>>> documentation-devel
||||||| 35cb6e7a
   "id": "65d807aa",
=======
   "id": "da6865d4",
>>>>>>> documentation-devel
||||||| 596bf878
<<<<<<< HEAD
   "id": "12a3db4a",
||||||| b944554d
   "id": "766ec62b",
=======
   "id": "65d807aa",
>>>>>>> documentation-devel
=======
   "id": "7714a4b9",
>>>>>>> f8a184fea58c53eb88debec89cb7180bf225886f
   "metadata": {},
   "source": [
    "We can also get the geometries of the intersections between the tissue and the Visium spots, and then calculate what percentage of each spot is in tissue. However, this percentage may not be very useful if the tissue segmentation is subject to error. This percentage may be more useful for pathologist annotated histological regions or objects such as nuclei and myofibers."
   ]
  },
  {
   "cell_type": "code",
   "execution_count": null,
<<<<<<< HEAD
<<<<<<< HEAD
<<<<<<< HEAD
   "id": "912df0a2",
||||||| b944554d
   "id": "d15e648f",
=======
   "id": "e7bc9909",
>>>>>>> documentation-devel
||||||| 35cb6e7a
   "id": "e7bc9909",
=======
   "id": "bd96d741",
>>>>>>> documentation-devel
||||||| 596bf878
<<<<<<< HEAD
   "id": "912df0a2",
||||||| b944554d
   "id": "d15e648f",
=======
   "id": "e7bc9909",
>>>>>>> documentation-devel
=======
   "id": "67cf836d",
>>>>>>> f8a184fea58c53eb88debec89cb7180bf225886f
   "metadata": {},
   "outputs": [],
   "source": [
    "spot_ints <- annotOp(sfe, colGeometryName = \"spotPoly\", \n",
    "                     annotGeometryName = \"tissueBoundary\", op = st_intersection)\n",
    "sfe$pct_tissue <- st_area(spot_ints) / st_area(spotPoly(sfe)) * 100"
   ]
  },
  {
   "cell_type": "markdown",
<<<<<<< HEAD
<<<<<<< HEAD
<<<<<<< HEAD
   "id": "809c32db",
||||||| b944554d
   "id": "db06e567",
=======
   "id": "3319be82",
>>>>>>> documentation-devel
||||||| 35cb6e7a
   "id": "3319be82",
=======
   "id": "0fc2da76",
>>>>>>> documentation-devel
||||||| 596bf878
<<<<<<< HEAD
   "id": "809c32db",
||||||| b944554d
   "id": "db06e567",
=======
   "id": "3319be82",
>>>>>>> documentation-devel
=======
   "id": "6d394177",
>>>>>>> f8a184fea58c53eb88debec89cb7180bf225886f
   "metadata": {
    "lines_to_next_cell": 0
   },
   "source": [
    "For spots that intersect tissue, does total counts relate to percentage of the spot in tissue?"
   ]
  },
  {
   "cell_type": "code",
   "execution_count": null,
<<<<<<< HEAD
<<<<<<< HEAD
<<<<<<< HEAD
   "id": "5ca35d17",
||||||| b944554d
   "id": "8ce07d4b",
=======
   "id": "fa1ab3fb",
>>>>>>> documentation-devel
||||||| 35cb6e7a
   "id": "fa1ab3fb",
=======
   "id": "5adab58b",
>>>>>>> documentation-devel
||||||| 596bf878
<<<<<<< HEAD
   "id": "5ca35d17",
||||||| b944554d
   "id": "8ce07d4b",
=======
   "id": "fa1ab3fb",
>>>>>>> documentation-devel
=======
   "id": "a84658ae",
>>>>>>> f8a184fea58c53eb88debec89cb7180bf225886f
   "metadata": {},
   "outputs": [],
   "source": [
    "sfe_tissue <- sfe[,sfe$int_tissue]"
   ]
  },
  {
   "cell_type": "code",
   "execution_count": null,
<<<<<<< HEAD
<<<<<<< HEAD
<<<<<<< HEAD
   "id": "c2932a22",
||||||| b944554d
   "id": "30975f94",
=======
   "id": "c861820f",
>>>>>>> documentation-devel
||||||| 35cb6e7a
   "id": "c861820f",
=======
   "id": "a255b55f",
>>>>>>> documentation-devel
||||||| 596bf878
<<<<<<< HEAD
   "id": "c2932a22",
||||||| b944554d
   "id": "30975f94",
=======
   "id": "c861820f",
>>>>>>> documentation-devel
=======
   "id": "737f50b4",
>>>>>>> f8a184fea58c53eb88debec89cb7180bf225886f
   "metadata": {},
   "outputs": [],
   "source": [
    "plotColData(sfe_tissue, x = \"pct_tissue\", y = \"sum\", color_by = \"diff_int_cov\")"
   ]
  },
  {
   "cell_type": "markdown",
<<<<<<< HEAD
<<<<<<< HEAD
<<<<<<< HEAD
   "id": "b567d54f",
||||||| b944554d
   "id": "c984c04e",
=======
   "id": "d065c286",
>>>>>>> documentation-devel
||||||| 35cb6e7a
   "id": "d065c286",
=======
   "id": "62408f0c",
>>>>>>> documentation-devel
||||||| 596bf878
<<<<<<< HEAD
   "id": "b567d54f",
||||||| b944554d
   "id": "c984c04e",
=======
   "id": "d065c286",
>>>>>>> documentation-devel
=======
   "id": "724b5e59",
>>>>>>> f8a184fea58c53eb88debec89cb7180bf225886f
   "metadata": {
    "lines_to_next_cell": 0
   },
   "source": [
    "Spots that are not fully covered by tissue have lower total UMI counts, which can be due to both that they are not fully in tissue and the cell types with lower total counts in the histological region near the edge, as some spots fully covered by tissue also have low UMI counts.\n",
    "\n",
    "# Spatial autocorrelation of QC metrics"
   ]
  },
  {
   "cell_type": "code",
   "execution_count": null,
<<<<<<< HEAD
<<<<<<< HEAD
<<<<<<< HEAD
   "id": "205d06ae",
||||||| b944554d
   "id": "cbb137e9",
=======
   "id": "c7aef132",
>>>>>>> documentation-devel
||||||| 35cb6e7a
   "id": "c7aef132",
=======
   "id": "dbf02f4c",
>>>>>>> documentation-devel
||||||| 596bf878
<<<<<<< HEAD
   "id": "205d06ae",
||||||| b944554d
   "id": "cbb137e9",
=======
   "id": "c7aef132",
>>>>>>> documentation-devel
=======
   "id": "20ffc85b",
>>>>>>> f8a184fea58c53eb88debec89cb7180bf225886f
   "metadata": {},
   "outputs": [],
   "source": [
    "colGraph(sfe_tissue, \"visium\") <- findVisiumGraph(sfe_tissue)"
   ]
  },
  {
   "cell_type": "code",
   "execution_count": null,
<<<<<<< HEAD
<<<<<<< HEAD
<<<<<<< HEAD
   "id": "cd964f4d",
||||||| b944554d
   "id": "d5c50419",
=======
   "id": "ddc60f73",
>>>>>>> documentation-devel
||||||| 35cb6e7a
   "id": "ddc60f73",
=======
   "id": "75c94402",
>>>>>>> documentation-devel
||||||| 596bf878
<<<<<<< HEAD
   "id": "cd964f4d",
||||||| b944554d
   "id": "d5c50419",
=======
   "id": "ddc60f73",
>>>>>>> documentation-devel
=======
   "id": "10251216",
>>>>>>> f8a184fea58c53eb88debec89cb7180bf225886f
   "metadata": {},
   "outputs": [],
   "source": [
    "qc_features <- c(\"sum\", \"detected\", \"subsets_mito_percent\")"
   ]
  },
  {
   "cell_type": "code",
   "execution_count": null,
<<<<<<< HEAD
<<<<<<< HEAD
<<<<<<< HEAD
   "id": "1857e3af",
||||||| b944554d
   "id": "91b14631",
=======
   "id": "d9fe1b7c",
>>>>>>> documentation-devel
||||||| 35cb6e7a
   "id": "d9fe1b7c",
=======
   "id": "0a73fe3e",
>>>>>>> documentation-devel
||||||| 596bf878
<<<<<<< HEAD
   "id": "1857e3af",
||||||| b944554d
   "id": "91b14631",
=======
   "id": "d9fe1b7c",
>>>>>>> documentation-devel
=======
   "id": "48afa17a",
>>>>>>> f8a184fea58c53eb88debec89cb7180bf225886f
   "metadata": {},
   "outputs": [],
   "source": [
    "sfe_tissue <- colDataUnivariate(sfe_tissue, \"moran.mc\", qc_features, nsim = 200)"
   ]
  },
  {
   "cell_type": "code",
   "execution_count": null,
<<<<<<< HEAD
<<<<<<< HEAD
<<<<<<< HEAD
   "id": "c6ae98d6",
||||||| b944554d
   "id": "6b2cfdf8",
=======
   "id": "b15e8fb5",
>>>>>>> documentation-devel
||||||| 35cb6e7a
   "id": "b15e8fb5",
=======
   "id": "1fd13d52",
>>>>>>> documentation-devel
||||||| 596bf878
<<<<<<< HEAD
   "id": "c6ae98d6",
||||||| b944554d
   "id": "6b2cfdf8",
=======
   "id": "b15e8fb5",
>>>>>>> documentation-devel
=======
   "id": "942b2af6",
>>>>>>> f8a184fea58c53eb88debec89cb7180bf225886f
   "metadata": {},
   "outputs": [],
   "source": [
    "plotMoranMC(sfe_tissue, qc_features)"
   ]
  },
  {
   "cell_type": "code",
   "execution_count": null,
<<<<<<< HEAD
<<<<<<< HEAD
<<<<<<< HEAD
   "id": "676dc406",
||||||| b944554d
   "id": "2a0d656b",
=======
   "id": "357c7404",
>>>>>>> documentation-devel
||||||| 35cb6e7a
   "id": "357c7404",
=======
   "id": "939a4a6e",
>>>>>>> documentation-devel
||||||| 596bf878
<<<<<<< HEAD
   "id": "676dc406",
||||||| b944554d
   "id": "2a0d656b",
=======
   "id": "357c7404",
>>>>>>> documentation-devel
=======
   "id": "9f3b2a94",
>>>>>>> f8a184fea58c53eb88debec89cb7180bf225886f
   "metadata": {},
   "outputs": [],
   "source": [
    "sfe_tissue <- colDataUnivariate(sfe_tissue, \"sp.correlogram\", qc_features,\n",
    "                                order = 8)"
   ]
  },
  {
   "cell_type": "code",
   "execution_count": null,
<<<<<<< HEAD
<<<<<<< HEAD
<<<<<<< HEAD
   "id": "24144715",
||||||| b944554d
   "id": "39547ef4",
=======
   "id": "534abc62",
>>>>>>> documentation-devel
||||||| 35cb6e7a
   "id": "534abc62",
=======
   "id": "1ea04e85",
>>>>>>> documentation-devel
||||||| 596bf878
<<<<<<< HEAD
   "id": "24144715",
||||||| b944554d
   "id": "39547ef4",
=======
   "id": "534abc62",
>>>>>>> documentation-devel
=======
   "id": "f312612d",
>>>>>>> f8a184fea58c53eb88debec89cb7180bf225886f
   "metadata": {},
   "outputs": [],
   "source": [
    "plotCorrelogram(sfe_tissue, qc_features)"
   ]
  },
  {
   "cell_type": "code",
   "execution_count": null,
<<<<<<< HEAD
<<<<<<< HEAD
<<<<<<< HEAD
   "id": "6655cb31",
||||||| b944554d
   "id": "4442526d",
=======
   "id": "e809fb9a",
>>>>>>> documentation-devel
||||||| 35cb6e7a
   "id": "e809fb9a",
=======
   "id": "bffaaf0b",
>>>>>>> documentation-devel
||||||| 596bf878
<<<<<<< HEAD
   "id": "6655cb31",
||||||| b944554d
   "id": "4442526d",
=======
   "id": "e809fb9a",
>>>>>>> documentation-devel
=======
   "id": "78e9db51",
>>>>>>> f8a184fea58c53eb88debec89cb7180bf225886f
   "metadata": {},
   "outputs": [],
   "source": [
    "sfe_tissue <- colDataUnivariate(sfe_tissue, \"localmoran\", qc_features)"
   ]
  },
  {
   "cell_type": "code",
   "execution_count": null,
<<<<<<< HEAD
<<<<<<< HEAD
<<<<<<< HEAD
   "id": "7d879a18",
||||||| b944554d
   "id": "374752b4",
=======
   "id": "b577e451",
>>>>>>> documentation-devel
||||||| 35cb6e7a
   "id": "b577e451",
=======
   "id": "d578a689",
>>>>>>> documentation-devel
||||||| 596bf878
<<<<<<< HEAD
   "id": "7d879a18",
||||||| b944554d
   "id": "374752b4",
=======
   "id": "b577e451",
>>>>>>> documentation-devel
=======
   "id": "fcdaac4d",
>>>>>>> f8a184fea58c53eb88debec89cb7180bf225886f
   "metadata": {
    "fig.height": 6,
    "fig.width": 8
   },
   "outputs": [],
   "source": [
    "plotLocalResult(sfe_tissue, \"localmoran\", qc_features, ncol = 2,\n",
    "                colGeometryName = \"spotPoly\", divergent = TRUE, \n",
    "                diverge_center = 0, image_id = \"lowres\", maxcell = 5e4)"
   ]
  },
  {
   "cell_type": "code",
   "execution_count": null,
<<<<<<< HEAD
<<<<<<< HEAD
<<<<<<< HEAD
   "id": "a233b9ef",
||||||| b944554d
   "id": "625aebc6",
=======
   "id": "114f1ce6",
>>>>>>> documentation-devel
||||||| 35cb6e7a
   "id": "114f1ce6",
=======
   "id": "9d7ba0e3",
>>>>>>> documentation-devel
||||||| 596bf878
<<<<<<< HEAD
   "id": "a233b9ef",
||||||| b944554d
   "id": "625aebc6",
=======
   "id": "114f1ce6",
>>>>>>> documentation-devel
=======
   "id": "facd0daf",
>>>>>>> f8a184fea58c53eb88debec89cb7180bf225886f
   "metadata": {},
   "outputs": [],
   "source": [
    "sfe_tissue <- colDataUnivariate(sfe_tissue, \"LOSH\", qc_features)"
   ]
  },
  {
   "cell_type": "code",
   "execution_count": null,
<<<<<<< HEAD
<<<<<<< HEAD
<<<<<<< HEAD
   "id": "8fd56a2e",
||||||| b944554d
   "id": "ea6fa4de",
=======
   "id": "ef2cc782",
>>>>>>> documentation-devel
||||||| 35cb6e7a
   "id": "ef2cc782",
=======
   "id": "f4b15923",
>>>>>>> documentation-devel
||||||| 596bf878
<<<<<<< HEAD
   "id": "8fd56a2e",
||||||| b944554d
   "id": "ea6fa4de",
=======
   "id": "ef2cc782",
>>>>>>> documentation-devel
=======
   "id": "dda97786",
>>>>>>> f8a184fea58c53eb88debec89cb7180bf225886f
   "metadata": {
    "fig.height": 6,
    "fig.width": 8
   },
   "outputs": [],
   "source": [
    "plotLocalResult(sfe_tissue, \"LOSH\", qc_features, ncol = 2,\n",
    "                colGeometryName = \"spotPoly\", image_id = \"lowres\", maxcell = 5e4)"
   ]
  },
  {
   "cell_type": "code",
   "execution_count": null,
<<<<<<< HEAD
<<<<<<< HEAD
<<<<<<< HEAD
   "id": "56bc3fd7",
||||||| b944554d
   "id": "658a3581",
=======
   "id": "85e99fe4",
>>>>>>> documentation-devel
||||||| 35cb6e7a
   "id": "85e99fe4",
=======
   "id": "053c1acd",
>>>>>>> documentation-devel
||||||| 596bf878
<<<<<<< HEAD
   "id": "56bc3fd7",
||||||| b944554d
   "id": "658a3581",
=======
   "id": "85e99fe4",
>>>>>>> documentation-devel
=======
   "id": "a9fe4fc4",
>>>>>>> f8a184fea58c53eb88debec89cb7180bf225886f
   "metadata": {},
   "outputs": [],
   "source": [
    "sfe_tissue <- colDataUnivariate(sfe_tissue, \"moran.plot\", qc_features)"
   ]
  },
  {
   "cell_type": "code",
   "execution_count": null,
<<<<<<< HEAD
<<<<<<< HEAD
<<<<<<< HEAD
   "id": "33586f2d",
||||||| b944554d
   "id": "87c31ccc",
=======
   "id": "9cfa04da",
>>>>>>> documentation-devel
||||||| 35cb6e7a
   "id": "9cfa04da",
=======
   "id": "2cb26a17",
>>>>>>> documentation-devel
||||||| 596bf878
<<<<<<< HEAD
   "id": "33586f2d",
||||||| b944554d
   "id": "87c31ccc",
=======
   "id": "9cfa04da",
>>>>>>> documentation-devel
=======
   "id": "9a702bbf",
>>>>>>> f8a184fea58c53eb88debec89cb7180bf225886f
   "metadata": {},
   "outputs": [],
   "source": [
    "moranPlot(sfe_tissue, \"subsets_mito_percent\")"
   ]
  },
  {
   "cell_type": "markdown",
<<<<<<< HEAD
<<<<<<< HEAD
<<<<<<< HEAD
   "id": "240109a4",
||||||| b944554d
   "id": "a1c19698",
=======
   "id": "02a8de76",
>>>>>>> documentation-devel
||||||| 35cb6e7a
   "id": "02a8de76",
=======
   "id": "a10bac61",
>>>>>>> documentation-devel
||||||| 596bf878
<<<<<<< HEAD
   "id": "240109a4",
||||||| b944554d
   "id": "a1c19698",
=======
   "id": "02a8de76",
>>>>>>> documentation-devel
=======
   "id": "e91042c3",
>>>>>>> f8a184fea58c53eb88debec89cb7180bf225886f
   "metadata": {
    "lines_to_next_cell": 0
   },
   "source": [
    "# Spatial autocorrelation of gene expression\n",
    "\n",
    "Normalize data with the `scran` method, and find highly variable genes"
   ]
  },
  {
   "cell_type": "code",
   "execution_count": null,
<<<<<<< HEAD
<<<<<<< HEAD
<<<<<<< HEAD
   "id": "1198f695",
||||||| b944554d
   "id": "04861625",
=======
   "id": "e7ad24e0",
>>>>>>> documentation-devel
||||||| 35cb6e7a
   "id": "e7ad24e0",
=======
   "id": "df6daf1d",
>>>>>>> documentation-devel
||||||| 596bf878
<<<<<<< HEAD
   "id": "1198f695",
||||||| b944554d
   "id": "04861625",
=======
   "id": "e7ad24e0",
>>>>>>> documentation-devel
=======
   "id": "69878dff",
>>>>>>> f8a184fea58c53eb88debec89cb7180bf225886f
   "metadata": {},
   "outputs": [],
   "source": [
    "#clusters <- quickCluster(sfe_tissue)\n",
    "#sfe_tissue <- computeSumFactors(sfe_tissue, clusters=clusters)\n",
    "#sfe_tissue <- sfe_tissue[, sizeFactors(sfe_tissue) > 0]\n",
    "sfe_tissue <- logNormCounts(sfe_tissue)"
   ]
  },
  {
   "cell_type": "code",
   "execution_count": null,
<<<<<<< HEAD
<<<<<<< HEAD
<<<<<<< HEAD
   "id": "de651fc6",
||||||| b944554d
   "id": "bcab2ad3",
=======
   "id": "88485df2",
>>>>>>> documentation-devel
||||||| 35cb6e7a
   "id": "88485df2",
=======
   "id": "cd75ffd5",
>>>>>>> documentation-devel
||||||| 596bf878
<<<<<<< HEAD
   "id": "de651fc6",
||||||| b944554d
   "id": "bcab2ad3",
=======
   "id": "88485df2",
>>>>>>> documentation-devel
=======
   "id": "bbb79f7f",
>>>>>>> f8a184fea58c53eb88debec89cb7180bf225886f
   "metadata": {},
   "outputs": [],
   "source": [
    "dec <- modelGeneVar(sfe_tissue)\n",
    "hvgs <- getTopHVGs(dec, n = 2000)"
   ]
  },
  {
   "cell_type": "markdown",
<<<<<<< HEAD
<<<<<<< HEAD
<<<<<<< HEAD
   "id": "f9358a74",
||||||| b944554d
   "id": "975896c3",
=======
   "id": "94ceb03d",
>>>>>>> documentation-devel
||||||| 35cb6e7a
   "id": "94ceb03d",
=======
   "id": "384e8b4d",
>>>>>>> documentation-devel
||||||| 596bf878
<<<<<<< HEAD
   "id": "f9358a74",
||||||| b944554d
   "id": "975896c3",
=======
   "id": "94ceb03d",
>>>>>>> documentation-devel
=======
   "id": "e6b662fd",
>>>>>>> f8a184fea58c53eb88debec89cb7180bf225886f
   "metadata": {
    "lines_to_next_cell": 0
   },
   "source": [
    "Find Moran's I for all highly variable genes:"
   ]
  },
  {
   "cell_type": "code",
   "execution_count": null,
<<<<<<< HEAD
<<<<<<< HEAD
<<<<<<< HEAD
   "id": "d273fa2c",
||||||| b944554d
   "id": "5a611471",
=======
   "id": "598f8d27",
>>>>>>> documentation-devel
||||||| 35cb6e7a
   "id": "598f8d27",
=======
   "id": "6dbcff35",
>>>>>>> documentation-devel
||||||| 596bf878
<<<<<<< HEAD
   "id": "d273fa2c",
||||||| b944554d
   "id": "5a611471",
=======
   "id": "598f8d27",
>>>>>>> documentation-devel
=======
   "id": "62676dcd",
>>>>>>> f8a184fea58c53eb88debec89cb7180bf225886f
   "metadata": {},
   "outputs": [],
   "source": [
    "sfe_tissue <- runMoransI(sfe_tissue, features = hvgs, BPPARAM = MulticoreParam(2))"
   ]
  },
  {
   "cell_type": "code",
   "execution_count": null,
<<<<<<< HEAD
<<<<<<< HEAD
<<<<<<< HEAD
   "id": "2d448909",
||||||| b944554d
   "id": "4f2bc3ae",
=======
   "id": "859154d7",
>>>>>>> documentation-devel
||||||| 35cb6e7a
   "id": "859154d7",
=======
   "id": "6ddead1f",
>>>>>>> documentation-devel
||||||| 596bf878
<<<<<<< HEAD
   "id": "2d448909",
||||||| b944554d
   "id": "4f2bc3ae",
=======
   "id": "859154d7",
>>>>>>> documentation-devel
=======
   "id": "f76ffb1b",
>>>>>>> f8a184fea58c53eb88debec89cb7180bf225886f
   "metadata": {},
   "outputs": [],
   "source": [
    "plotRowDataHistogram(sfe_tissue, \"moran_sample01\")"
   ]
  },
  {
   "cell_type": "markdown",
<<<<<<< HEAD
<<<<<<< HEAD
<<<<<<< HEAD
   "id": "bd301c0e",
||||||| b944554d
   "id": "87a64e55",
=======
   "id": "b0568724",
>>>>>>> documentation-devel
||||||| 35cb6e7a
   "id": "b0568724",
=======
   "id": "a25f669a",
>>>>>>> documentation-devel
||||||| 596bf878
<<<<<<< HEAD
   "id": "bd301c0e",
||||||| b944554d
   "id": "87a64e55",
=======
   "id": "b0568724",
>>>>>>> documentation-devel
=======
   "id": "c93e66d2",
>>>>>>> f8a184fea58c53eb88debec89cb7180bf225886f
   "metadata": {
    "lines_to_next_cell": 0
   },
   "source": [
    "The vast majority of genes have positive Moran's I. Here we'll find the genes with the highest Moran's I:"
   ]
  },
  {
   "cell_type": "code",
   "execution_count": null,
<<<<<<< HEAD
<<<<<<< HEAD
<<<<<<< HEAD
   "id": "b9dfe362",
||||||| b944554d
   "id": "1544ec3b",
=======
   "id": "24e86a0f",
>>>>>>> documentation-devel
||||||| 35cb6e7a
   "id": "24e86a0f",
=======
   "id": "6b300b26",
>>>>>>> documentation-devel
||||||| 596bf878
<<<<<<< HEAD
   "id": "b9dfe362",
||||||| b944554d
   "id": "1544ec3b",
=======
   "id": "24e86a0f",
>>>>>>> documentation-devel
=======
   "id": "9027744d",
>>>>>>> f8a184fea58c53eb88debec89cb7180bf225886f
   "metadata": {},
   "outputs": [],
   "source": [
    "top_moran <- rownames(sfe_tissue)[order(rowData(sfe_tissue)$moran_sample01, \n",
    "                                        decreasing = TRUE)[1:9]]"
   ]
  },
  {
   "cell_type": "markdown",
<<<<<<< HEAD
<<<<<<< HEAD
<<<<<<< HEAD
   "id": "159114b7",
||||||| b944554d
   "id": "2866c4aa",
=======
   "id": "1ab9a157",
>>>>>>> documentation-devel
||||||| 35cb6e7a
   "id": "1ab9a157",
=======
   "id": "1d22090d",
>>>>>>> documentation-devel
||||||| 596bf878
<<<<<<< HEAD
   "id": "159114b7",
||||||| b944554d
   "id": "2866c4aa",
=======
   "id": "1ab9a157",
>>>>>>> documentation-devel
=======
   "id": "89986989",
>>>>>>> f8a184fea58c53eb88debec89cb7180bf225886f
   "metadata": {
    "lines_to_next_cell": 0
   },
   "source": [
    "We can use the [gget info](https://pachterlab.github.io/gget/info.html) module from the [gget](https://pachterlab.github.io/gget/) package to get additional information on these genes, such as their descriptions, synonyms, transcripts and more from a collection of reference databases including [Ensembl](https://ensembl.org/), [UniProt](https://www.uniprot.org/) and [NCBI](https://www.ncbi.nlm.nih.gov/) Here, we are showing their gene descriptions from [NCBI](https://www.ncbi.nlm.nih.gov/):"
   ]
  },
  {
   "cell_type": "code",
   "execution_count": null,
<<<<<<< HEAD
<<<<<<< HEAD
<<<<<<< HEAD
   "id": "eb07154f",
||||||| b944554d
   "id": "c23f39ac",
=======
   "id": "9bec3430",
>>>>>>> documentation-devel
||||||| 35cb6e7a
   "id": "9bec3430",
=======
   "id": "a156d558",
>>>>>>> documentation-devel
||||||| 596bf878
<<<<<<< HEAD
   "id": "eb07154f",
||||||| b944554d
   "id": "c23f39ac",
=======
   "id": "9bec3430",
>>>>>>> documentation-devel
=======
   "id": "f27a7080",
>>>>>>> f8a184fea58c53eb88debec89cb7180bf225886f
   "metadata": {},
   "outputs": [],
   "source": [
    "gget_info <- gget$info(top_moran)\n",
    "\n",
    "rownames(gget_info) <- gget_info$primary_gene_name\n",
    "select(gget_info, ncbi_description)"
   ]
  },
  {
   "cell_type": "markdown",
<<<<<<< HEAD
<<<<<<< HEAD
<<<<<<< HEAD
   "id": "43764bcc",
||||||| b944554d
   "id": "c1cdfdc9",
=======
   "id": "6bc7e8bb",
>>>>>>> documentation-devel
||||||| 35cb6e7a
   "id": "6bc7e8bb",
=======
   "id": "822ce3d2",
>>>>>>> documentation-devel
||||||| 596bf878
<<<<<<< HEAD
   "id": "43764bcc",
||||||| b944554d
   "id": "c1cdfdc9",
=======
   "id": "6bc7e8bb",
>>>>>>> documentation-devel
=======
   "id": "9c386752",
>>>>>>> f8a184fea58c53eb88debec89cb7180bf225886f
   "metadata": {
    "lines_to_next_cell": 0
   },
   "source": [
    "Plot the genes with the highest Moran's I:"
   ]
  },
  {
   "cell_type": "code",
   "execution_count": null,
<<<<<<< HEAD
<<<<<<< HEAD
<<<<<<< HEAD
   "id": "0a33c6e0",
||||||| b944554d
   "id": "0c008804",
=======
   "id": "012f2ba3",
>>>>>>> documentation-devel
||||||| 35cb6e7a
   "id": "012f2ba3",
=======
   "id": "68086c58",
>>>>>>> documentation-devel
||||||| 596bf878
<<<<<<< HEAD
   "id": "0a33c6e0",
||||||| b944554d
   "id": "0c008804",
=======
   "id": "012f2ba3",
>>>>>>> documentation-devel
=======
   "id": "b49554e9",
>>>>>>> f8a184fea58c53eb88debec89cb7180bf225886f
   "metadata": {
    "fig.height": 5,
    "fig.width": 9
   },
   "outputs": [],
   "source": [
    "plotSpatialFeature(sfe_tissue, top_moran, ncol = 3, image_id = \"lowres\",\n",
    "                   maxcell = 5e4, swap_rownames = \"symbol\")"
   ]
  },
  {
   "cell_type": "markdown",
<<<<<<< HEAD
<<<<<<< HEAD
<<<<<<< HEAD
   "id": "e2cf10b4",
||||||| b944554d
   "id": "b7bef2ab",
=======
   "id": "0f976ce8",
>>>>>>> documentation-devel
||||||| 35cb6e7a
   "id": "0f976ce8",
=======
   "id": "dbab32b9",
>>>>>>> documentation-devel
||||||| 596bf878
<<<<<<< HEAD
   "id": "e2cf10b4",
||||||| b944554d
   "id": "b7bef2ab",
=======
   "id": "0f976ce8",
>>>>>>> documentation-devel
=======
   "id": "0c9fabb2",
>>>>>>> f8a184fea58c53eb88debec89cb7180bf225886f
   "metadata": {
    "lines_to_next_cell": 0
   },
   "source": [
    "Here global Moran's I seems to be more about tissue structure. \n",
    "\n",
    "Some genes have negative Moran's I that might not be statistically significant:"
   ]
  },
  {
   "cell_type": "code",
   "execution_count": null,
<<<<<<< HEAD
<<<<<<< HEAD
<<<<<<< HEAD
   "id": "e704070b",
||||||| b944554d
   "id": "d2d0613c",
=======
   "id": "fd1fe7e6",
>>>>>>> documentation-devel
||||||| 35cb6e7a
   "id": "fd1fe7e6",
=======
   "id": "3fe046d1",
>>>>>>> documentation-devel
||||||| 596bf878
<<<<<<< HEAD
   "id": "e704070b",
||||||| b944554d
   "id": "d2d0613c",
=======
   "id": "fd1fe7e6",
>>>>>>> documentation-devel
=======
   "id": "561e57f0",
>>>>>>> f8a184fea58c53eb88debec89cb7180bf225886f
   "metadata": {},
   "outputs": [],
   "source": [
    "neg_moran <- rownames(sfe_tissue)[order(rowData(sfe_tissue)$moran_sample01, \n",
    "                                        decreasing = FALSE)[1:9]]"
   ]
  },
  {
   "cell_type": "code",
   "execution_count": null,
<<<<<<< HEAD
<<<<<<< HEAD
<<<<<<< HEAD
   "id": "2774c17a",
||||||| b944554d
   "id": "283086c4",
=======
   "id": "9e5082e2",
>>>>>>> documentation-devel
||||||| 35cb6e7a
   "id": "9e5082e2",
=======
   "id": "214947f5",
>>>>>>> documentation-devel
||||||| 596bf878
<<<<<<< HEAD
   "id": "2774c17a",
||||||| b944554d
   "id": "283086c4",
=======
   "id": "9e5082e2",
>>>>>>> documentation-devel
=======
   "id": "76cecbfc",
>>>>>>> f8a184fea58c53eb88debec89cb7180bf225886f
   "metadata": {},
   "outputs": [],
   "source": [
    "# Display NCBI descriptions for these genes\n",
    "gget_info_neg <- gget$info(neg_moran)\n",
    "\n",
    "rownames(gget_info_neg) <- gget_info_neg$primary_gene_name\n",
    "select(gget_info_neg, ncbi_description)"
   ]
  },
  {
   "cell_type": "code",
   "execution_count": null,
<<<<<<< HEAD
<<<<<<< HEAD
<<<<<<< HEAD
   "id": "bf8353e1",
||||||| b944554d
   "id": "390d048c",
=======
   "id": "97405e82",
>>>>>>> documentation-devel
||||||| 35cb6e7a
   "id": "97405e82",
=======
   "id": "8bcc3090",
>>>>>>> documentation-devel
||||||| 596bf878
<<<<<<< HEAD
   "id": "bf8353e1",
||||||| b944554d
   "id": "390d048c",
=======
   "id": "97405e82",
>>>>>>> documentation-devel
=======
   "id": "b1f68714",
>>>>>>> f8a184fea58c53eb88debec89cb7180bf225886f
   "metadata": {
    "fig.height": 5,
    "fig.width": 9
   },
   "outputs": [],
   "source": [
    "plotSpatialFeature(sfe_tissue, neg_moran, ncol = 3, swap_rownames = \"symbol\",\n",
    "                   image_id = \"lowres\", maxcell = 5e4)"
   ]
  },
  {
   "cell_type": "code",
   "execution_count": null,
<<<<<<< HEAD
<<<<<<< HEAD
<<<<<<< HEAD
   "id": "da2088dc",
||||||| b944554d
   "id": "c5d497a4",
=======
   "id": "4edc5dcf",
>>>>>>> documentation-devel
||||||| 35cb6e7a
   "id": "4edc5dcf",
=======
   "id": "7274971c",
>>>>>>> documentation-devel
||||||| 596bf878
<<<<<<< HEAD
   "id": "da2088dc",
||||||| b944554d
   "id": "c5d497a4",
=======
   "id": "4edc5dcf",
>>>>>>> documentation-devel
=======
   "id": "7bf63f09",
>>>>>>> f8a184fea58c53eb88debec89cb7180bf225886f
   "metadata": {},
   "outputs": [],
   "source": [
    "sfe_tissue <- runUnivariate(sfe_tissue, \"moran.mc\", neg_moran, \n",
    "                            colGraphName = \"visium\", nsim = 200, alternative = \"less\")"
   ]
  },
  {
   "cell_type": "code",
   "execution_count": null,
<<<<<<< HEAD
<<<<<<< HEAD
<<<<<<< HEAD
   "id": "43e6009e",
||||||| b944554d
   "id": "1b91aa29",
=======
   "id": "8c77e0ea",
>>>>>>> documentation-devel
||||||| 35cb6e7a
   "id": "8c77e0ea",
=======
   "id": "4b9ec178",
>>>>>>> documentation-devel
||||||| 596bf878
<<<<<<< HEAD
   "id": "43e6009e",
||||||| b944554d
   "id": "1b91aa29",
=======
   "id": "8c77e0ea",
>>>>>>> documentation-devel
=======
   "id": "a0133e99",
>>>>>>> f8a184fea58c53eb88debec89cb7180bf225886f
   "metadata": {},
   "outputs": [],
   "source": [
    "plotMoranMC(sfe_tissue, neg_moran, swap_rownames = \"symbol\")"
   ]
  },
  {
   "cell_type": "code",
   "execution_count": null,
<<<<<<< HEAD
<<<<<<< HEAD
<<<<<<< HEAD
   "id": "e6283126",
||||||| b944554d
   "id": "9a371219",
=======
   "id": "3eb548e6",
>>>>>>> documentation-devel
||||||| 35cb6e7a
   "id": "3eb548e6",
=======
   "id": "bf823b5e",
>>>>>>> documentation-devel
||||||| 596bf878
<<<<<<< HEAD
   "id": "e6283126",
||||||| b944554d
   "id": "9a371219",
=======
   "id": "3eb548e6",
>>>>>>> documentation-devel
=======
   "id": "6d81ff91",
>>>>>>> f8a184fea58c53eb88debec89cb7180bf225886f
   "metadata": {},
   "outputs": [],
   "source": [
    "rowData(sfe_tissue)[neg_moran, c(\"moran_sample01\", \"moran.mc_p.value_sample01\")]"
   ]
  },
  {
   "cell_type": "markdown",
<<<<<<< HEAD
<<<<<<< HEAD
<<<<<<< HEAD
   "id": "14e0e125",
||||||| b944554d
   "id": "d9fbd47b",
=======
   "id": "5d2e22ab",
>>>>>>> documentation-devel
||||||| 35cb6e7a
   "id": "5d2e22ab",
=======
   "id": "7bc48a60",
>>>>>>> documentation-devel
||||||| 596bf878
<<<<<<< HEAD
   "id": "14e0e125",
||||||| b944554d
   "id": "d9fbd47b",
=======
   "id": "5d2e22ab",
>>>>>>> documentation-devel
=======
   "id": "5139133f",
>>>>>>> f8a184fea58c53eb88debec89cb7180bf225886f
   "metadata": {},
   "source": [
    "As there are 2000 highly variable genes and 2000 tests, these would no longer be significant after correcting for multiple testing. \n",
    "\n",
    "Does global Moran's I relate to gene expression level?"
   ]
  },
  {
   "cell_type": "code",
   "execution_count": null,
<<<<<<< HEAD
<<<<<<< HEAD
<<<<<<< HEAD
   "id": "fff73717",
||||||| b944554d
   "id": "300507a1",
=======
   "id": "f61b23e2",
>>>>>>> documentation-devel
||||||| 35cb6e7a
   "id": "f61b23e2",
=======
   "id": "dd8cf6dc",
>>>>>>> documentation-devel
||||||| 596bf878
<<<<<<< HEAD
   "id": "fff73717",
||||||| b944554d
   "id": "300507a1",
=======
   "id": "f61b23e2",
>>>>>>> documentation-devel
=======
   "id": "ed16cf92",
>>>>>>> f8a184fea58c53eb88debec89cb7180bf225886f
   "metadata": {},
   "outputs": [],
   "source": [
    "sfe_tissue <- addPerFeatureQCMetrics(sfe_tissue)\n",
    "names(rowData(sfe_tissue))"
   ]
  },
  {
   "cell_type": "code",
   "execution_count": null,
<<<<<<< HEAD
<<<<<<< HEAD
<<<<<<< HEAD
   "id": "573deae8",
||||||| b944554d
   "id": "e244cff2",
=======
   "id": "75186778",
>>>>>>> documentation-devel
||||||| 35cb6e7a
   "id": "75186778",
=======
   "id": "5a201747",
>>>>>>> documentation-devel
||||||| 596bf878
<<<<<<< HEAD
   "id": "573deae8",
||||||| b944554d
   "id": "e244cff2",
=======
   "id": "75186778",
>>>>>>> documentation-devel
=======
   "id": "4f6285ec",
>>>>>>> f8a184fea58c53eb88debec89cb7180bf225886f
   "metadata": {},
   "outputs": [],
   "source": [
    "plotRowData(sfe_tissue, x = \"mean\", y = \"moran_sample01\") +\n",
    "    scale_x_log10() +\n",
    "    annotation_logticks(sides = \"b\") +\n",
    "    geom_density2d()"
   ]
  },
  {
   "cell_type": "markdown",
<<<<<<< HEAD
<<<<<<< HEAD
<<<<<<< HEAD
   "id": "9cb3ae6e",
||||||| b944554d
   "id": "c9d71833",
=======
   "id": "44fa8350",
>>>>>>> documentation-devel
||||||| 35cb6e7a
   "id": "44fa8350",
=======
   "id": "6b80bb97",
>>>>>>> documentation-devel
||||||| 596bf878
<<<<<<< HEAD
   "id": "9cb3ae6e",
||||||| b944554d
   "id": "c9d71833",
=======
   "id": "44fa8350",
>>>>>>> documentation-devel
=======
   "id": "7ee8b001",
>>>>>>> f8a184fea58c53eb88debec89cb7180bf225886f
   "metadata": {
    "lines_to_next_cell": 0
   },
   "source": [
    "Genes that are more highly expressed overall tend to have higher Moran's I. \n",
    "\n",
    "# Apply spatial analysis methods to gene expression space\n",
    "Spatial statistics that require a spatial neighborhood graph can also be applied to the k nearest neighbor graph not in histological space but in gene expression space. This is done in more depth in [this vignette](https://pachterlab.github.io/voyager/articles/nonspatial.html)."
   ]
  },
  {
   "cell_type": "code",
   "execution_count": null,
<<<<<<< HEAD
<<<<<<< HEAD
<<<<<<< HEAD
   "id": "26540dff",
||||||| b944554d
   "id": "7cf4e02e",
=======
   "id": "e952fb9c",
>>>>>>> documentation-devel
||||||| 35cb6e7a
   "id": "e952fb9c",
=======
   "id": "ee84c8d0",
>>>>>>> documentation-devel
||||||| 596bf878
<<<<<<< HEAD
   "id": "26540dff",
||||||| b944554d
   "id": "7cf4e02e",
=======
   "id": "e952fb9c",
>>>>>>> documentation-devel
=======
   "id": "3254766a",
>>>>>>> f8a184fea58c53eb88debec89cb7180bf225886f
   "metadata": {},
   "outputs": [],
   "source": [
    "sfe_tissue <- runPCA(sfe_tissue, ncomponents = 30, subset_row = hvgs,\n",
    "                     scale = TRUE) # scale as in Seurat"
   ]
  },
  {
   "cell_type": "code",
   "execution_count": null,
<<<<<<< HEAD
<<<<<<< HEAD
<<<<<<< HEAD
   "id": "e5e2be37",
||||||| b944554d
   "id": "54f20086",
=======
   "id": "f1b3d88d",
>>>>>>> documentation-devel
||||||| 35cb6e7a
   "id": "f1b3d88d",
=======
   "id": "8055a87c",
>>>>>>> documentation-devel
||||||| 596bf878
<<<<<<< HEAD
   "id": "e5e2be37",
||||||| b944554d
   "id": "54f20086",
=======
   "id": "f1b3d88d",
>>>>>>> documentation-devel
=======
   "id": "bd0eb3d2",
>>>>>>> f8a184fea58c53eb88debec89cb7180bf225886f
   "metadata": {},
   "outputs": [],
   "source": [
    "foo <- findKNN(reducedDim(sfe_tissue, \"PCA\")[,1:10], k=10, BNPARAM=AnnoyParam())\n",
    "# Split by row\n",
    "foo_nb <- asplit(foo$index, 1)\n",
    "dmat <- 1/foo$distance\n",
    "# Row normalize the weights\n",
    "dmat <- sweep(dmat, 1, rowSums(dmat), FUN = \"/\")\n",
    "glist <- asplit(dmat, 1)\n",
    "# Sort based on index\n",
    "ord <- lapply(foo_nb, order)\n",
    "foo_nb <- lapply(seq_along(foo_nb), function(i) foo_nb[[i]][ord[[i]]])\n",
    "class(foo_nb) <- \"nb\"\n",
    "glist <- lapply(seq_along(glist), function(i) glist[[i]][ord[[i]]])\n",
    "\n",
    "listw <- list(style = \"W\",\n",
    "              neighbours = foo_nb,\n",
    "              weights = glist)\n",
    "class(listw) <- \"listw\"\n",
    "attr(listw, \"region.id\") <- colnames(sfe_tissue)"
   ]
  },
  {
   "cell_type": "code",
   "execution_count": null,
<<<<<<< HEAD
<<<<<<< HEAD
<<<<<<< HEAD
   "id": "23c124ae",
||||||| b944554d
   "id": "f2b3973e",
=======
   "id": "289672e6",
>>>>>>> documentation-devel
||||||| 35cb6e7a
   "id": "289672e6",
=======
   "id": "dcfb5ffb",
>>>>>>> documentation-devel
||||||| 596bf878
<<<<<<< HEAD
   "id": "23c124ae",
||||||| b944554d
   "id": "f2b3973e",
=======
   "id": "289672e6",
>>>>>>> documentation-devel
=======
   "id": "47662f40",
>>>>>>> f8a184fea58c53eb88debec89cb7180bf225886f
   "metadata": {},
   "outputs": [],
   "source": [
    "colGraph(sfe_tissue, \"knn10\") <- listw"
   ]
  },
  {
   "cell_type": "code",
   "execution_count": null,
<<<<<<< HEAD
<<<<<<< HEAD
<<<<<<< HEAD
   "id": "f79d42be",
||||||| b944554d
   "id": "b12db204",
=======
   "id": "efa3cb26",
>>>>>>> documentation-devel
||||||| 35cb6e7a
   "id": "efa3cb26",
=======
   "id": "e196512c",
>>>>>>> documentation-devel
||||||| 596bf878
<<<<<<< HEAD
   "id": "f79d42be",
||||||| b944554d
   "id": "b12db204",
=======
   "id": "efa3cb26",
>>>>>>> documentation-devel
=======
   "id": "4f778630",
>>>>>>> f8a184fea58c53eb88debec89cb7180bf225886f
   "metadata": {},
   "outputs": [],
   "source": [
    "sfe_tissue <- runMoransI(sfe_tissue, features = hvgs, BPPARAM = MulticoreParam(2),\n",
    "                         colGraphName = \"knn10\", name = \"moran_ns\")"
   ]
  },
  {
   "cell_type": "markdown",
<<<<<<< HEAD
<<<<<<< HEAD
<<<<<<< HEAD
   "id": "30a68718",
||||||| b944554d
   "id": "dbf6cb7a",
=======
   "id": "6c0fb0f0",
>>>>>>> documentation-devel
||||||| 35cb6e7a
   "id": "6c0fb0f0",
=======
   "id": "0fd9a4ef",
>>>>>>> documentation-devel
||||||| 596bf878
<<<<<<< HEAD
   "id": "30a68718",
||||||| b944554d
   "id": "dbf6cb7a",
=======
   "id": "6c0fb0f0",
>>>>>>> documentation-devel
=======
   "id": "9dc10d71",
>>>>>>> f8a184fea58c53eb88debec89cb7180bf225886f
   "metadata": {
    "lines_to_next_cell": 0
   },
   "source": [
    "Here we store the results in \"moran_ns\", not to be confused with spatial Moran's I results.\n",
    "\n",
    "These are the genes that tend to be more similar to their neighbors in the 10 nearest neighbor graph in PCA space for gene expression rather than in histological space:"
   ]
  },
  {
   "cell_type": "code",
   "execution_count": null,
<<<<<<< HEAD
<<<<<<< HEAD
<<<<<<< HEAD
   "id": "37fb4c11",
||||||| b944554d
   "id": "794142db",
=======
   "id": "f114d3ab",
>>>>>>> documentation-devel
||||||| 35cb6e7a
   "id": "f114d3ab",
=======
   "id": "69b79171",
>>>>>>> documentation-devel
||||||| 596bf878
<<<<<<< HEAD
   "id": "37fb4c11",
||||||| b944554d
   "id": "794142db",
=======
   "id": "f114d3ab",
>>>>>>> documentation-devel
=======
   "id": "241e463e",
>>>>>>> f8a184fea58c53eb88debec89cb7180bf225886f
   "metadata": {},
   "outputs": [],
   "source": [
    "top_moran2 <- rownames(sfe_tissue)[order(rowData(sfe_tissue)$moran_ns_sample01, \n",
    "                                        decreasing = TRUE)[1:9]]"
   ]
  },
  {
   "cell_type": "code",
   "execution_count": null,
<<<<<<< HEAD
<<<<<<< HEAD
<<<<<<< HEAD
   "id": "3680cb9e",
||||||| b944554d
   "id": "fa897f95",
=======
   "id": "17b9085f",
>>>>>>> documentation-devel
||||||| 35cb6e7a
   "id": "17b9085f",
=======
   "id": "752d6e62",
>>>>>>> documentation-devel
||||||| 596bf878
<<<<<<< HEAD
   "id": "3680cb9e",
||||||| b944554d
   "id": "fa897f95",
=======
   "id": "17b9085f",
>>>>>>> documentation-devel
=======
   "id": "97c6ca6e",
>>>>>>> f8a184fea58c53eb88debec89cb7180bf225886f
   "metadata": {},
   "outputs": [],
   "source": [
    "# Display NCBI descriptions for these genes\n",
    "gget_info2 <- gget$info(top_moran2)\n",
    "\n",
    "rownames(gget_info2) <- gget_info2$primary_gene_name\n",
    "select(gget_info2, ncbi_description)"
   ]
  },
  {
   "cell_type": "code",
   "execution_count": null,
<<<<<<< HEAD
<<<<<<< HEAD
<<<<<<< HEAD
   "id": "970e62b0",
||||||| b944554d
   "id": "87da8947",
=======
   "id": "dacd639e",
>>>>>>> documentation-devel
||||||| 35cb6e7a
   "id": "dacd639e",
=======
   "id": "eff60253",
>>>>>>> documentation-devel
||||||| 596bf878
<<<<<<< HEAD
   "id": "970e62b0",
||||||| b944554d
   "id": "87da8947",
=======
   "id": "dacd639e",
>>>>>>> documentation-devel
=======
   "id": "c848e487",
>>>>>>> f8a184fea58c53eb88debec89cb7180bf225886f
   "metadata": {
    "fig.height": 6,
    "fig.width": 9
   },
   "outputs": [],
   "source": [
    "plotSpatialFeature(sfe_tissue, top_moran2, ncol = 3, swap_rownames = \"symbol\",\n",
    "                   image_id = \"lowres\", maxcell = 5e4)"
   ]
  },
  {
   "cell_type": "markdown",
<<<<<<< HEAD
<<<<<<< HEAD
<<<<<<< HEAD
   "id": "49f394e8",
||||||| b944554d
   "id": "cb86aab0",
=======
   "id": "0d492303",
>>>>>>> documentation-devel
||||||| 35cb6e7a
   "id": "0d492303",
=======
   "id": "fb77c84a",
>>>>>>> documentation-devel
||||||| 596bf878
<<<<<<< HEAD
   "id": "49f394e8",
||||||| b944554d
   "id": "cb86aab0",
=======
   "id": "0d492303",
>>>>>>> documentation-devel
=======
   "id": "b8cfa085",
>>>>>>> f8a184fea58c53eb88debec89cb7180bf225886f
   "metadata": {},
   "source": [
    "Although this Moran's I was not computed in histological space, these genes with the highest Moran's I in PCA space also show spatial structure, as different cell types reside in different spatial regions.\n",
    "\n",
    "# Session info"
   ]
  },
  {
   "cell_type": "code",
   "execution_count": null,
<<<<<<< HEAD
<<<<<<< HEAD
<<<<<<< HEAD
   "id": "305abd1e",
||||||| b944554d
   "id": "577b1427",
=======
   "id": "5c9687e1",
>>>>>>> documentation-devel
||||||| 35cb6e7a
   "id": "5c9687e1",
=======
   "id": "27626975",
>>>>>>> documentation-devel
||||||| 596bf878
<<<<<<< HEAD
   "id": "305abd1e",
||||||| b944554d
   "id": "577b1427",
=======
   "id": "5c9687e1",
>>>>>>> documentation-devel
=======
   "id": "bbae805e",
>>>>>>> f8a184fea58c53eb88debec89cb7180bf225886f
   "metadata": {
    "lines_to_next_cell": 0
   },
   "outputs": [],
   "source": [
    "sessionInfo()"
   ]
  },
  {
   "cell_type": "markdown",
<<<<<<< HEAD
<<<<<<< HEAD
<<<<<<< HEAD
   "id": "552fca17",
||||||| b944554d
   "id": "ff29e837",
=======
   "id": "93311cf4",
>>>>>>> documentation-devel
||||||| 35cb6e7a
   "id": "93311cf4",
=======
   "id": "27f0b548",
>>>>>>> documentation-devel
||||||| 596bf878
<<<<<<< HEAD
   "id": "552fca17",
||||||| b944554d
   "id": "ff29e837",
=======
   "id": "93311cf4",
>>>>>>> documentation-devel
=======
   "id": "00d2105b",
>>>>>>> f8a184fea58c53eb88debec89cb7180bf225886f
   "metadata": {},
   "source": []
  }
 ],
 "metadata": {
  "kernelspec": {
   "display_name": "R",
   "language": "R",
   "name": "ir"
  }
 },
 "nbformat": 4,
 "nbformat_minor": 5
}
