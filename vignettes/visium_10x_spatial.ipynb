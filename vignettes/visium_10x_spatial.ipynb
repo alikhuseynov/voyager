{
 "cells": [
  {
   "cell_type": "raw",
<<<<<<< HEAD
<<<<<<< HEAD
<<<<<<< HEAD
   "id": "5080a757",
||||||| merged common ancestors
   "id": "a04a75e3",
=======
   "id": "80ab7091",
>>>>>>> documentation-devel
||||||| f5a2d7c
   "id": "80ab7091",
=======
   "id": "8eb75d96",
>>>>>>> documentation-devel
||||||| de7e30d
   "id": "5080a757",
=======
   "id": "b8b0ea4e",
>>>>>>> 03b044928c05aca10f627eea0665560c78e150c1
   "metadata": {},
   "source": [
    "---\n",
    "title: \"Spatial analysis of 10X example Visium dataset\"\n",
    "author: \"Lambda Moses\"\n",
    "date: \"`r Sys.Date()`\"\n",
    "output: \n",
    "  html_document:\n",
    "  toc: true\n",
    "  toc_float:\n",
    "    collapsed: false\n",
    "  toc_depth: 3\n",
    "bibliography: ref.bib\n",
    "vignette: >\n",
    "  %\\VignetteIndexEntry{visium_10x_spatial}\n",
    "  %\\VignetteEngine{knitr::rmarkdown}\n",
    "  %\\VignetteEncoding{UTF-8}\n",
    "---"
   ]
  },
  {
   "cell_type": "code",
   "execution_count": null,
<<<<<<< HEAD
<<<<<<< HEAD
<<<<<<< HEAD
   "id": "2144c77d",
||||||| merged common ancestors
   "id": "68cc8e73",
=======
   "id": "473da7f0",
>>>>>>> documentation-devel
||||||| f5a2d7c
   "id": "473da7f0",
=======
   "id": "fe32cabc",
>>>>>>> documentation-devel
||||||| de7e30d
   "id": "2144c77d",
=======
   "id": "579060c0",
>>>>>>> 03b044928c05aca10f627eea0665560c78e150c1
   "metadata": {
    "tags": [
     "remove_cell"
    ]
   },
   "outputs": [],
   "source": [
    "knitr::opts_chunk$set(\n",
    "  collapse = TRUE,\n",
    "  comment = \"#>\"\n",
    ")"
   ]
  },
  {
   "cell_type": "code",
   "execution_count": null,
<<<<<<< HEAD
<<<<<<< HEAD
<<<<<<< HEAD
   "id": "7918abbd",
||||||| merged common ancestors
   "id": "d4554725",
=======
   "id": "7268b312",
>>>>>>> documentation-devel
||||||| f5a2d7c
   "id": "7268b312",
=======
   "id": "5825af9e",
>>>>>>> documentation-devel
||||||| de7e30d
   "id": "7918abbd",
=======
   "id": "9b904564",
>>>>>>> 03b044928c05aca10f627eea0665560c78e150c1
   "metadata": {
    "eval": false,
    "tags": [
     "remove_cell"
    ]
   },
   "outputs": [],
   "source": [
    "# Install Google Colab dependencies\n",
    "# Note: this can take 30+ minutes (many of the dependencies include C++ code, which needs to be compiled)\n",
    "\n",
    "# First install `sf`, `ragg` and `textshaping` and their system dependencies:\n",
    "system(\"apt-get -y update && apt-get install -y  libudunits2-dev libgdal-dev libgeos-dev libproj-dev libharfbuzz-dev libfribidi-dev\")\n",
    "install.packages(\"sf\")\n",
    "install.packages(\"textshaping\")\n",
    "install.packages(\"ragg\")\n",
    "\n",
    "# Install system dependencies of some other R packages that Voyager either imports or suggests:\n",
    "system(\"apt-get install -y libfribidi-dev libcairo2-dev libmagick++-dev\")\n",
    "\n",
    "# Install Voyager from Bioconductor:\n",
    "install.packages(\"BiocManager\")\n",
    "BiocManager::install(version = \"3.17\", ask = FALSE, update = FALSE, Ncpus = 2)\n",
    "BiocManager::install(\"scater\")\n",
    "system.time(\n",
    "  BiocManager::install(\"Voyager\", dependencies = TRUE, Ncpus = 2, update = FALSE)\n",
    ")\n",
    "\n",
    "# Additional dependencies for this notebook\n",
    "system(\"apt-get install -y libfftw3-dev libprotobuf-dev\")\n",
    "BiocManager::install(\"EBImage\")\n",
    "BiocManager::install(\"terra\")\n",
    "BiocManager::install(\"rmapshaper\")\n",
    "install.packages(\"reticulate\")\n",
    "\n",
    "packageVersion(\"Voyager\")"
   ]
  },
  {
   "cell_type": "markdown",
<<<<<<< HEAD
<<<<<<< HEAD
<<<<<<< HEAD
   "id": "661ae831",
||||||| merged common ancestors
   "id": "90f87879",
=======
   "id": "e834ed23",
>>>>>>> documentation-devel
||||||| f5a2d7c
   "id": "e834ed23",
=======
   "id": "da663760",
>>>>>>> documentation-devel
||||||| de7e30d
   "id": "661ae831",
=======
   "id": "2b389322",
>>>>>>> 03b044928c05aca10f627eea0665560c78e150c1
   "metadata": {
    "lines_to_next_cell": 0
   },
   "source": [
    "# Introduction\n",
    "In a [more introductory vignette](https://pachterlab.github.io/voyager/articles/visium_10x.html), we performed basic non-spatial analyses on a mouse olfactory bulb Visium dataset from the 10X website. In this vignette, we perform spatial analyses in histological space as well as in gene expression space. \n",
    "\n",
    "Here we load the packages used in this vignette:"
   ]
  },
  {
   "cell_type": "code",
   "execution_count": null,
<<<<<<< HEAD
<<<<<<< HEAD
<<<<<<< HEAD
   "id": "187e6c5f",
||||||| merged common ancestors
   "id": "70213f0f",
=======
   "id": "dbd2edf7",
>>>>>>> documentation-devel
||||||| f5a2d7c
   "id": "dbd2edf7",
=======
   "id": "6f106683",
>>>>>>> documentation-devel
||||||| de7e30d
   "id": "187e6c5f",
=======
   "id": "c1c24e5c",
>>>>>>> 03b044928c05aca10f627eea0665560c78e150c1
   "metadata": {},
   "outputs": [],
   "source": [
    "library(Voyager)\n",
    "library(SpatialFeatureExperiment)\n",
    "library(SingleCellExperiment)\n",
    "library(ggplot2)\n",
    "library(scater)\n",
    "library(scuttle)\n",
    "library(scran)\n",
    "library(stringr)\n",
    "library(patchwork)\n",
    "library(bluster)\n",
    "library(rjson)\n",
    "library(EBImage)\n",
    "library(terra)\n",
    "library(rlang)\n",
    "library(sf)\n",
    "library(rmapshaper)\n",
    "library(dplyr)\n",
    "library(BiocParallel)\n",
    "library(BiocNeighbors)\n",
    "library(reticulate)\n",
    "theme_set(theme_bw())"
   ]
  },
  {
   "cell_type": "code",
   "execution_count": null,
<<<<<<< HEAD
<<<<<<< HEAD
<<<<<<< HEAD
   "id": "dae958e2",
||||||| merged common ancestors
   "id": "9b9d1ea6",
=======
   "id": "f2d17740",
>>>>>>> documentation-devel
||||||| f5a2d7c
   "id": "f2d17740",
=======
   "id": "2ec5fc06",
>>>>>>> documentation-devel
||||||| de7e30d
   "id": "dae958e2",
=======
   "id": "84f05642",
>>>>>>> 03b044928c05aca10f627eea0665560c78e150c1
   "metadata": {},
   "outputs": [],
   "source": [
    "# Specify Python version to use gget\n",
    "PY_PATH <- system(\"which python\", intern = TRUE)\n",
    "use_python(PY_PATH)\n",
    "py_config()"
   ]
  },
  {
   "cell_type": "code",
   "execution_count": null,
<<<<<<< HEAD
<<<<<<< HEAD
<<<<<<< HEAD
   "id": "580e7466",
||||||| merged common ancestors
   "id": "e2151905",
=======
   "id": "1d26686f",
>>>>>>> documentation-devel
||||||| f5a2d7c
   "id": "1d26686f",
=======
   "id": "e0c8cab2",
>>>>>>> documentation-devel
||||||| de7e30d
   "id": "580e7466",
=======
   "id": "59944688",
>>>>>>> 03b044928c05aca10f627eea0665560c78e150c1
   "metadata": {
    "eval": false,
    "tags": [
     "remove_cell"
    ]
   },
   "outputs": [],
   "source": [
    "system(\"pip3 install gget\")"
   ]
  },
  {
   "cell_type": "code",
   "execution_count": null,
<<<<<<< HEAD
<<<<<<< HEAD
<<<<<<< HEAD
   "id": "b2fa96bc",
||||||| merged common ancestors
   "id": "33114e08",
=======
   "id": "4611fab4",
>>>>>>> documentation-devel
||||||| f5a2d7c
   "id": "4611fab4",
=======
   "id": "ed7cdbdd",
>>>>>>> documentation-devel
||||||| de7e30d
   "id": "b2fa96bc",
=======
   "id": "a745e7e0",
>>>>>>> 03b044928c05aca10f627eea0665560c78e150c1
   "metadata": {},
   "outputs": [],
   "source": [
    "gget <- import(\"gget\")"
   ]
  },
  {
   "cell_type": "markdown",
<<<<<<< HEAD
<<<<<<< HEAD
<<<<<<< HEAD
   "id": "4216d2e5",
||||||| merged common ancestors
   "id": "4367acb3",
=======
   "id": "c6a83b08",
>>>>>>> documentation-devel
||||||| f5a2d7c
   "id": "c6a83b08",
=======
   "id": "d57bbd9b",
>>>>>>> documentation-devel
||||||| de7e30d
   "id": "4216d2e5",
=======
   "id": "1bb3a8ca",
>>>>>>> 03b044928c05aca10f627eea0665560c78e150c1
   "metadata": {
    "lines_to_next_cell": 0
   },
   "source": [
    "Here we download the data from the 10X website. This is the unfiltered gene count matrix:"
   ]
  },
  {
   "cell_type": "code",
   "execution_count": null,
<<<<<<< HEAD
<<<<<<< HEAD
<<<<<<< HEAD
   "id": "48fbd3e3",
||||||| merged common ancestors
   "id": "9fb2a2e1",
=======
   "id": "17a6b292",
>>>>>>> documentation-devel
||||||| f5a2d7c
   "id": "17a6b292",
=======
   "id": "a8ee6428",
>>>>>>> documentation-devel
||||||| de7e30d
   "id": "48fbd3e3",
=======
   "id": "23af6b14",
>>>>>>> 03b044928c05aca10f627eea0665560c78e150c1
   "metadata": {},
   "outputs": [],
   "source": [
    "if (!file.exists(\"visium_ob.tar.gz\"))\n",
    "    download.file(\"https://cf.10xgenomics.com/samples/spatial-exp/2.0.0/Visium_Mouse_Olfactory_Bulb/Visium_Mouse_Olfactory_Bulb_raw_feature_bc_matrix.tar.gz\", \n",
    "                  destfile = \"visium_ob.tar.gz\")"
   ]
  },
  {
   "cell_type": "markdown",
<<<<<<< HEAD
<<<<<<< HEAD
<<<<<<< HEAD
   "id": "b41e6c0c",
||||||| merged common ancestors
   "id": "8edfff8c",
=======
   "id": "8f836abb",
>>>>>>> documentation-devel
||||||| f5a2d7c
   "id": "8f836abb",
=======
   "id": "a2f5b611",
>>>>>>> documentation-devel
||||||| de7e30d
   "id": "b41e6c0c",
=======
   "id": "fa5ede2c",
>>>>>>> 03b044928c05aca10f627eea0665560c78e150c1
   "metadata": {
    "lines_to_next_cell": 0
   },
   "source": [
    "This is the spatial information:"
   ]
  },
  {
   "cell_type": "code",
   "execution_count": null,
<<<<<<< HEAD
<<<<<<< HEAD
<<<<<<< HEAD
   "id": "72a01a02",
||||||| merged common ancestors
   "id": "0704e8d4",
=======
   "id": "d32dd100",
>>>>>>> documentation-devel
||||||| f5a2d7c
   "id": "d32dd100",
=======
   "id": "18b44cd5",
>>>>>>> documentation-devel
||||||| de7e30d
   "id": "72a01a02",
=======
   "id": "c3ab67dc",
>>>>>>> 03b044928c05aca10f627eea0665560c78e150c1
   "metadata": {},
   "outputs": [],
   "source": [
    "if (!file.exists(\"visium_ob_spatial.tar.gz\"))\n",
    "    download.file(\"https://cf.10xgenomics.com/samples/spatial-exp/2.0.0/Visium_Mouse_Olfactory_Bulb/Visium_Mouse_Olfactory_Bulb_spatial.tar.gz\", \n",
    "                  destfile = \"visium_ob_spatial.tar.gz\")"
   ]
  },
  {
   "cell_type": "markdown",
<<<<<<< HEAD
<<<<<<< HEAD
<<<<<<< HEAD
   "id": "635697f9",
||||||| merged common ancestors
   "id": "349da017",
=======
   "id": "53cf63d1",
>>>>>>> documentation-devel
||||||| f5a2d7c
   "id": "53cf63d1",
=======
   "id": "443308b2",
>>>>>>> documentation-devel
||||||| de7e30d
   "id": "635697f9",
=======
   "id": "39a55bb4",
>>>>>>> 03b044928c05aca10f627eea0665560c78e150c1
   "metadata": {
    "lines_to_next_cell": 0
   },
   "source": [
    "Decompress the downloaded content:"
   ]
  },
  {
   "cell_type": "code",
   "execution_count": null,
<<<<<<< HEAD
<<<<<<< HEAD
<<<<<<< HEAD
   "id": "dc0fb192",
||||||| merged common ancestors
   "id": "b59db969",
=======
   "id": "9394e12c",
>>>>>>> documentation-devel
||||||| f5a2d7c
   "id": "9394e12c",
=======
   "id": "e09dcb03",
>>>>>>> documentation-devel
||||||| de7e30d
   "id": "dc0fb192",
=======
   "id": "ad79ba4a",
>>>>>>> 03b044928c05aca10f627eea0665560c78e150c1
   "metadata": {},
   "outputs": [],
   "source": [
    "if (!dir.exists(\"outs\")) {\n",
    "    dir.create(\"outs\")\n",
    "    system(\"tar -xvf visium_ob.tar.gz -C outs\")\n",
    "    system(\"tar -xvf visium_ob_spatial.tar.gz -C outs\")\n",
    "}"
   ]
  },
  {
   "cell_type": "markdown",
<<<<<<< HEAD
<<<<<<< HEAD
<<<<<<< HEAD
   "id": "da354660",
||||||| merged common ancestors
   "id": "d9696c33",
=======
   "id": "030839fd",
>>>>>>> documentation-devel
||||||| f5a2d7c
   "id": "030839fd",
=======
   "id": "1d9ee242",
>>>>>>> documentation-devel
||||||| de7e30d
   "id": "da354660",
=======
   "id": "e4607175",
>>>>>>> 03b044928c05aca10f627eea0665560c78e150c1
   "metadata": {
    "lines_to_next_cell": 0
   },
   "source": [
    "Contents of the `outs` directory as from Space Ranger is explained in [the introductory vignette](https://pachterlab.github.io/voyager/articles/visium_10x.html).\n",
    "\n",
    "Here we read the data into R as an SFE object."
   ]
  },
  {
   "cell_type": "code",
   "execution_count": null,
<<<<<<< HEAD
<<<<<<< HEAD
<<<<<<< HEAD
   "id": "8b16f0d5",
||||||| merged common ancestors
   "id": "63630645",
=======
   "id": "abe5c1c4",
>>>>>>> documentation-devel
||||||| f5a2d7c
   "id": "abe5c1c4",
=======
   "id": "609503c6",
>>>>>>> documentation-devel
||||||| de7e30d
   "id": "8b16f0d5",
=======
   "id": "1b9370a0",
>>>>>>> 03b044928c05aca10f627eea0665560c78e150c1
   "metadata": {},
   "outputs": [],
   "source": [
    "(sfe <- read10xVisiumSFE(samples = \".\", type = \"sparse\", data = \"raw\"))"
   ]
  },
  {
   "cell_type": "markdown",
<<<<<<< HEAD
<<<<<<< HEAD
<<<<<<< HEAD
   "id": "4ce2e4c0",
||||||| merged common ancestors
   "id": "51b52434",
=======
   "id": "10f63609",
>>>>>>> documentation-devel
||||||| f5a2d7c
   "id": "10f63609",
=======
   "id": "13eb9acd",
>>>>>>> documentation-devel
||||||| de7e30d
   "id": "4ce2e4c0",
=======
   "id": "128f8f7f",
>>>>>>> 03b044928c05aca10f627eea0665560c78e150c1
   "metadata": {},
   "source": [
    "Here we add QC metrics, already plotted in the introductory vignette."
   ]
  },
  {
   "cell_type": "code",
   "execution_count": null,
<<<<<<< HEAD
<<<<<<< HEAD
<<<<<<< HEAD
   "id": "2d5c4324",
||||||| merged common ancestors
   "id": "3b690ab5",
=======
   "id": "bcf93079",
>>>>>>> documentation-devel
||||||| f5a2d7c
   "id": "bcf93079",
=======
   "id": "cff36c42",
>>>>>>> documentation-devel
||||||| de7e30d
   "id": "2d5c4324",
=======
   "id": "7d84b338",
>>>>>>> 03b044928c05aca10f627eea0665560c78e150c1
   "metadata": {},
   "outputs": [],
   "source": [
    "is_mt <- str_detect(rowData(sfe)$symbol, \"^mt-\")"
   ]
  },
  {
   "cell_type": "code",
   "execution_count": null,
<<<<<<< HEAD
<<<<<<< HEAD
<<<<<<< HEAD
   "id": "670ca461",
||||||| merged common ancestors
   "id": "9204ec4e",
=======
   "id": "0ac88cc1",
>>>>>>> documentation-devel
||||||| f5a2d7c
   "id": "0ac88cc1",
=======
   "id": "6dc9bbf5",
>>>>>>> documentation-devel
||||||| de7e30d
   "id": "670ca461",
=======
   "id": "8e20e218",
>>>>>>> 03b044928c05aca10f627eea0665560c78e150c1
   "metadata": {},
   "outputs": [],
   "source": [
    "sfe <- addPerCellQCMetrics(sfe, subsets = list(mito = is_mt))"
   ]
  },
  {
   "cell_type": "markdown",
<<<<<<< HEAD
<<<<<<< HEAD
<<<<<<< HEAD
   "id": "f13990d0",
||||||| merged common ancestors
   "id": "77e31ba1",
=======
   "id": "de1f3c49",
>>>>>>> documentation-devel
||||||| f5a2d7c
   "id": "de1f3c49",
=======
   "id": "7b10921a",
>>>>>>> documentation-devel
||||||| de7e30d
   "id": "f13990d0",
=======
   "id": "e98ebd32",
>>>>>>> 03b044928c05aca10f627eea0665560c78e150c1
   "metadata": {},
   "source": [
    "# Tissue segmentation\n",
    "While Space Ranger can automatically detect which spots are in tissue and the Loupe browser can be used to manually annotate which spots are in tissue, it may be interesting to get the tissue outline polygon, so we would know how much each spot overlaps with the tissue and plot the outline. The tissue boundary polygon can be manually annotated with QuPath, which saves the polygon as a GeoJSON and can be directly read into R with `st_read()`. \n",
    "\n",
    "Or we can segment the tissue computationally. R generally isn't great for image processing, but there are some packages that can perform the segmentation, such as [`EBImage`](https://bioconductor.org/packages/release/bioc/html/EBImage.html), which is based on its own in house C and C++ code, and [`imager`](https://github.com/dahtah/imager/), which is based on [`CImg`](http://cimg.eu/).\n",
    "\n",
    "Here we don't have the full resolution image. We will perform tissue segmentation on the high resolution downsampled image and then scale it to make the coordinates of the tissue boundary match those of the spots. The `EBImage` package is used here. Compared to OpenCV, `EBImage` is slow on the full resolution image, but should be fine here for the downsized image."
   ]
  },
  {
   "cell_type": "code",
   "execution_count": null,
<<<<<<< HEAD
<<<<<<< HEAD
<<<<<<< HEAD
   "id": "28027e68",
||||||| merged common ancestors
   "id": "e6828bc0",
=======
   "id": "c57274ed",
>>>>>>> documentation-devel
||||||| f5a2d7c
   "id": "c57274ed",
=======
   "id": "667c8118",
>>>>>>> documentation-devel
||||||| de7e30d
   "id": "28027e68",
=======
   "id": "18bf4f1b",
>>>>>>> 03b044928c05aca10f627eea0665560c78e150c1
   "metadata": {},
   "outputs": [],
   "source": [
    "img <- readImage(\"outs/spatial/tissue_hires_image.png\")\n",
    "display(img)"
   ]
  },
  {
   "cell_type": "markdown",
<<<<<<< HEAD
<<<<<<< HEAD
<<<<<<< HEAD
   "id": "677ab4a5",
||||||| merged common ancestors
   "id": "ffb2f41b",
=======
   "id": "a763386a",
>>>>>>> documentation-devel
||||||| f5a2d7c
   "id": "a763386a",
=======
   "id": "d0d483af",
>>>>>>> documentation-devel
||||||| de7e30d
   "id": "677ab4a5",
=======
   "id": "2737d850",
>>>>>>> 03b044928c05aca10f627eea0665560c78e150c1
   "metadata": {
    "lines_to_next_cell": 0
   },
   "source": [
    "When rendered as a static webpage, the image is static, but when run interactively, this image will be shown in an interactive widget where you can zoom and pan.\n",
    "\n",
    "Here we show the RGB channels separately"
   ]
  },
  {
   "cell_type": "code",
   "execution_count": null,
<<<<<<< HEAD
<<<<<<< HEAD
<<<<<<< HEAD
   "id": "8df49c8c",
||||||| merged common ancestors
   "id": "48093c1c",
=======
   "id": "c6c7bd4a",
>>>>>>> documentation-devel
||||||| f5a2d7c
   "id": "c6c7bd4a",
=======
   "id": "75967bf2",
>>>>>>> documentation-devel
||||||| de7e30d
   "id": "8df49c8c",
=======
   "id": "ab5cd813",
>>>>>>> 03b044928c05aca10f627eea0665560c78e150c1
   "metadata": {},
   "outputs": [],
   "source": [
    "img2 <- img\n",
    "colorMode(img2) <- Grayscale\n",
    "display(img2, all = TRUE)"
   ]
  },
  {
   "cell_type": "code",
   "execution_count": null,
<<<<<<< HEAD
<<<<<<< HEAD
<<<<<<< HEAD
   "id": "7a0af7e5",
||||||| merged common ancestors
   "id": "fc89d340",
=======
   "id": "9d1e7b2a",
>>>>>>> documentation-devel
||||||| f5a2d7c
   "id": "9d1e7b2a",
=======
   "id": "876eb088",
>>>>>>> documentation-devel
||||||| de7e30d
   "id": "7a0af7e5",
=======
   "id": "4a5ddadd",
>>>>>>> 03b044928c05aca10f627eea0665560c78e150c1
   "metadata": {},
   "outputs": [],
   "source": [
    "hist(img)"
   ]
  },
  {
   "cell_type": "markdown",
<<<<<<< HEAD
<<<<<<< HEAD
<<<<<<< HEAD
   "id": "2df13f06",
||||||| merged common ancestors
   "id": "70a4501e",
=======
   "id": "125c5929",
>>>>>>> documentation-devel
||||||| f5a2d7c
   "id": "125c5929",
=======
   "id": "d2f97bf4",
>>>>>>> documentation-devel
||||||| de7e30d
   "id": "2df13f06",
=======
   "id": "c7216417",
>>>>>>> 03b044928c05aca10f627eea0665560c78e150c1
   "metadata": {},
   "source": [
    "The tissue can be discerned with thresholding. The tall peak on the right is the background. The much lower peaks from around 0.6 to 0.85 must be the tissue. To capture the faint bluish region, the blue channel is used for thresholding. The threshold here is chosen based on the histogram and experimenting with nearby values."
   ]
  },
  {
   "cell_type": "code",
   "execution_count": null,
<<<<<<< HEAD
<<<<<<< HEAD
<<<<<<< HEAD
   "id": "27dfb07c",
||||||| merged common ancestors
   "id": "0228d058",
=======
   "id": "82839e11",
>>>>>>> documentation-devel
||||||| f5a2d7c
   "id": "82839e11",
=======
   "id": "a0d1e392",
>>>>>>> documentation-devel
||||||| de7e30d
   "id": "27dfb07c",
=======
   "id": "a1bd7fe6",
>>>>>>> 03b044928c05aca10f627eea0665560c78e150c1
   "metadata": {},
   "outputs": [],
   "source": [
    "mask <- img2[,,3] < 0.87\n",
    "display(mask)"
   ]
  },
  {
   "cell_type": "markdown",
<<<<<<< HEAD
<<<<<<< HEAD
<<<<<<< HEAD
   "id": "c06432a2",
||||||| merged common ancestors
   "id": "301a3b85",
=======
   "id": "7ba02346",
>>>>>>> documentation-devel
||||||| f5a2d7c
   "id": "7ba02346",
=======
   "id": "58fad330",
>>>>>>> documentation-devel
||||||| de7e30d
   "id": "c06432a2",
=======
   "id": "d6c8566f",
>>>>>>> 03b044928c05aca10f627eea0665560c78e150c1
   "metadata": {
    "lines_to_next_cell": 0
   },
   "source": [
    "Then we use an opening operation (erosion followed by dilation) to denoise"
   ]
  },
  {
   "cell_type": "code",
   "execution_count": null,
<<<<<<< HEAD
<<<<<<< HEAD
<<<<<<< HEAD
   "id": "30722b81",
||||||| merged common ancestors
   "id": "9636daf1",
=======
   "id": "eb0df5b2",
>>>>>>> documentation-devel
||||||| f5a2d7c
   "id": "eb0df5b2",
=======
   "id": "746f79ec",
>>>>>>> documentation-devel
||||||| de7e30d
   "id": "30722b81",
=======
   "id": "ec02da5d",
>>>>>>> 03b044928c05aca10f627eea0665560c78e150c1
   "metadata": {},
   "outputs": [],
   "source": [
    "kern <- makeBrush(3, shape='disc')\n",
    "mask_open <- opening(mask, kern)\n",
    "display(mask_open)"
   ]
  },
  {
   "cell_type": "markdown",
<<<<<<< HEAD
<<<<<<< HEAD
<<<<<<< HEAD
   "id": "f903e762",
||||||| merged common ancestors
   "id": "2982c11f",
=======
   "id": "6d8acfb7",
>>>>>>> documentation-devel
||||||| f5a2d7c
   "id": "6d8acfb7",
=======
   "id": "f4e4096f",
>>>>>>> documentation-devel
||||||| de7e30d
   "id": "f903e762",
=======
   "id": "da2cca8e",
>>>>>>> 03b044928c05aca10f627eea0665560c78e150c1
   "metadata": {
    "lines_to_next_cell": 0
   },
   "source": [
    "There are some small holes in the tissue, which can be removed by a closing operation (dilation followed by erosion):"
   ]
  },
  {
   "cell_type": "code",
   "execution_count": null,
<<<<<<< HEAD
<<<<<<< HEAD
<<<<<<< HEAD
   "id": "71dc4ad2",
||||||| merged common ancestors
   "id": "32ba39de",
=======
   "id": "9e2641f2",
>>>>>>> documentation-devel
||||||| f5a2d7c
   "id": "9e2641f2",
=======
   "id": "d33803b0",
>>>>>>> documentation-devel
||||||| de7e30d
   "id": "71dc4ad2",
=======
   "id": "6a6932f8",
>>>>>>> 03b044928c05aca10f627eea0665560c78e150c1
   "metadata": {},
   "outputs": [],
   "source": [
    "mask_close <- closing(mask_open, kern)\n",
    "display(mask_close)"
   ]
  },
  {
   "cell_type": "markdown",
<<<<<<< HEAD
<<<<<<< HEAD
<<<<<<< HEAD
   "id": "29f02d99",
||||||| merged common ancestors
   "id": "03c3545e",
=======
   "id": "1390d09f",
>>>>>>> documentation-devel
||||||| f5a2d7c
   "id": "1390d09f",
=======
   "id": "537bb4b3",
>>>>>>> documentation-devel
||||||| de7e30d
   "id": "29f02d99",
=======
   "id": "5447bc41",
>>>>>>> 03b044928c05aca10f627eea0665560c78e150c1
   "metadata": {},
   "source": [
    "There are some larger holes in the tissue mask, which may be real holes or faint regions with few nuclei missed by thresholding. They might not be large enough to affect which Visium spots intersect the tissue.\n",
    "\n",
    "Now the main piece of tissue is clear. It must be the object with the largest area. However, there are two small pieces that should belong to the tissue at the top left. The debris and fiducials can be removed by setting all pixels in the mask outside the bounding box of the main piece to 0. Here we assign a different value to each contiguous object with `bwlabel()`, and use `computeFeatures.shape()` to find the area among other shape features (e.g. perimeter) of each object."
   ]
  },
  {
   "cell_type": "code",
   "execution_count": null,
<<<<<<< HEAD
<<<<<<< HEAD
<<<<<<< HEAD
   "id": "b23a560c",
||||||| merged common ancestors
   "id": "bd129cef",
=======
   "id": "4b1bfda9",
>>>>>>> documentation-devel
||||||| f5a2d7c
   "id": "4b1bfda9",
=======
   "id": "18c1cdc0",
>>>>>>> documentation-devel
||||||| de7e30d
   "id": "b23a560c",
=======
   "id": "ba2d16fe",
>>>>>>> 03b044928c05aca10f627eea0665560c78e150c1
   "metadata": {},
   "outputs": [],
   "source": [
    "mask_label <- bwlabel(mask_close)\n",
    "fts <- computeFeatures.shape(mask_label)"
   ]
  },
  {
   "cell_type": "code",
   "execution_count": null,
<<<<<<< HEAD
<<<<<<< HEAD
<<<<<<< HEAD
   "id": "2f7c4266",
||||||| merged common ancestors
   "id": "43589fd1",
=======
   "id": "b48b5002",
>>>>>>> documentation-devel
||||||| f5a2d7c
   "id": "b48b5002",
=======
   "id": "3aa6c561",
>>>>>>> documentation-devel
||||||| de7e30d
   "id": "2f7c4266",
=======
   "id": "31362953",
>>>>>>> 03b044928c05aca10f627eea0665560c78e150c1
   "metadata": {},
   "outputs": [],
   "source": [
    "head(fts)"
   ]
  },
  {
   "cell_type": "code",
   "execution_count": null,
<<<<<<< HEAD
<<<<<<< HEAD
<<<<<<< HEAD
   "id": "4d29d841",
||||||| merged common ancestors
   "id": "e609310b",
=======
   "id": "f0fd679c",
>>>>>>> documentation-devel
||||||| f5a2d7c
   "id": "f0fd679c",
=======
   "id": "2d9497d9",
>>>>>>> documentation-devel
||||||| de7e30d
   "id": "4d29d841",
=======
   "id": "9966c870",
>>>>>>> 03b044928c05aca10f627eea0665560c78e150c1
   "metadata": {},
   "outputs": [],
   "source": [
    "summary(fts[,\"s.area\"])"
   ]
  },
  {
   "cell_type": "code",
   "execution_count": null,
<<<<<<< HEAD
<<<<<<< HEAD
<<<<<<< HEAD
   "id": "26230461",
||||||| merged common ancestors
   "id": "601f7cdc",
=======
   "id": "471aebe6",
>>>>>>> documentation-devel
||||||| f5a2d7c
   "id": "471aebe6",
=======
   "id": "c8175ee1",
>>>>>>> documentation-devel
||||||| de7e30d
   "id": "26230461",
=======
   "id": "182cb0c4",
>>>>>>> 03b044928c05aca10f627eea0665560c78e150c1
   "metadata": {},
   "outputs": [],
   "source": [
    "max_ind <- which.max(fts[,\"s.area\"])\n",
    "inds <- which(as.array(mask_label) == max_ind, arr.ind = TRUE)\n",
    "head(inds)"
   ]
  },
  {
   "cell_type": "code",
   "execution_count": null,
<<<<<<< HEAD
<<<<<<< HEAD
<<<<<<< HEAD
   "id": "91bbd078",
||||||| merged common ancestors
   "id": "fd37880a",
=======
   "id": "51db1a02",
>>>>>>> documentation-devel
||||||| f5a2d7c
   "id": "51db1a02",
=======
   "id": "cd9691a1",
>>>>>>> documentation-devel
||||||| de7e30d
   "id": "91bbd078",
=======
   "id": "da059128",
>>>>>>> 03b044928c05aca10f627eea0665560c78e150c1
   "metadata": {},
   "outputs": [],
   "source": [
    "row_inds <- c(seq_len(min(inds[,1])-1), seq(max(inds[,1])+1, nrow(mask_label), by = 1))\n",
    "col_inds <- c(seq_len(min(inds[,2])-1), seq(max(inds[,2])+1, nrow(mask_label), by = 1))\n",
    "mask_label[row_inds, ] <- 0\n",
    "mask_label[,col_inds] <- 0\n",
    "display(mask_label)"
   ]
  },
  {
   "cell_type": "markdown",
<<<<<<< HEAD
<<<<<<< HEAD
<<<<<<< HEAD
   "id": "4dfeb673",
||||||| merged common ancestors
   "id": "d440f66d",
=======
   "id": "0302045f",
>>>>>>> documentation-devel
||||||| f5a2d7c
   "id": "0302045f",
=======
   "id": "84e36c5a",
>>>>>>> documentation-devel
||||||| de7e30d
   "id": "4dfeb673",
=======
   "id": "d4328bf4",
>>>>>>> 03b044928c05aca10f627eea0665560c78e150c1
   "metadata": {
    "lines_to_next_cell": 0
   },
   "source": [
    "Then remove the small pieces that are debris."
   ]
  },
  {
   "cell_type": "code",
   "execution_count": null,
<<<<<<< HEAD
<<<<<<< HEAD
<<<<<<< HEAD
   "id": "135acfaf",
||||||| merged common ancestors
   "id": "eb895265",
=======
   "id": "89a09ae2",
>>>>>>> documentation-devel
||||||| f5a2d7c
   "id": "89a09ae2",
=======
   "id": "53240a46",
>>>>>>> documentation-devel
||||||| de7e30d
   "id": "135acfaf",
=======
   "id": "35e61d1a",
>>>>>>> 03b044928c05aca10f627eea0665560c78e150c1
   "metadata": {},
   "outputs": [],
   "source": [
    "unique(as.vector(mask_label))"
   ]
  },
  {
   "cell_type": "code",
   "execution_count": null,
<<<<<<< HEAD
<<<<<<< HEAD
<<<<<<< HEAD
   "id": "8516740e",
||||||| merged common ancestors
   "id": "992f4566",
=======
   "id": "456d628d",
>>>>>>> documentation-devel
||||||| f5a2d7c
   "id": "456d628d",
=======
   "id": "5b1e90e6",
>>>>>>> documentation-devel
||||||| de7e30d
   "id": "8516740e",
=======
   "id": "ff5c1491",
>>>>>>> 03b044928c05aca10f627eea0665560c78e150c1
   "metadata": {},
   "outputs": [],
   "source": [
    "fts2 <- fts[unique(as.vector(mask_label))[-1],]\n",
    "fts2 <- fts2[order(fts2[,\"s.area\"], decreasing = TRUE),]"
   ]
  },
  {
   "cell_type": "code",
   "execution_count": null,
<<<<<<< HEAD
<<<<<<< HEAD
<<<<<<< HEAD
   "id": "5284d498",
||||||| merged common ancestors
   "id": "6194f797",
=======
   "id": "8a07ecf4",
>>>>>>> documentation-devel
||||||| f5a2d7c
   "id": "8a07ecf4",
=======
   "id": "a7edd51c",
>>>>>>> documentation-devel
||||||| de7e30d
   "id": "5284d498",
=======
   "id": "6c92bfe7",
>>>>>>> 03b044928c05aca10f627eea0665560c78e150c1
   "metadata": {},
   "outputs": [],
   "source": [
    "plot(fts2[,1][-1], type = \"l\", ylab = \"Area\")"
   ]
  },
  {
   "cell_type": "code",
   "execution_count": null,
<<<<<<< HEAD
<<<<<<< HEAD
<<<<<<< HEAD
   "id": "49e48ca8",
||||||| merged common ancestors
   "id": "d5b7bd12",
=======
   "id": "7439af4a",
>>>>>>> documentation-devel
||||||| f5a2d7c
   "id": "7439af4a",
=======
   "id": "a4046d52",
>>>>>>> documentation-devel
||||||| de7e30d
   "id": "49e48ca8",
=======
   "id": "8eba98c9",
>>>>>>> 03b044928c05aca10f627eea0665560c78e150c1
   "metadata": {},
   "outputs": [],
   "source": [
    "head(fts2, 10)"
   ]
  },
  {
   "cell_type": "markdown",
<<<<<<< HEAD
<<<<<<< HEAD
<<<<<<< HEAD
   "id": "f2d7badc",
||||||| merged common ancestors
   "id": "3df02302",
=======
   "id": "15f92a15",
>>>>>>> documentation-devel
||||||| f5a2d7c
   "id": "15f92a15",
=======
   "id": "d57dda2b",
>>>>>>> documentation-devel
||||||| de7e30d
   "id": "f2d7badc",
=======
   "id": "dddd7bdb",
>>>>>>> 03b044928c05aca10f627eea0665560c78e150c1
   "metadata": {},
   "source": [
    "Object number 797 is a piece of debris at the bottom left. The other pieces with area over 100 pixels are tissue. Since debris really is small bits of tissue, so the boundary between debris and tissue can be blurry. Here the two are distinguished by morphology on the H&E image and proximity to the main tissue."
   ]
  },
  {
   "cell_type": "code",
   "execution_count": null,
<<<<<<< HEAD
<<<<<<< HEAD
<<<<<<< HEAD
   "id": "aba76361",
||||||| merged common ancestors
   "id": "6c76c390",
=======
   "id": "3f5923d9",
>>>>>>> documentation-devel
||||||| f5a2d7c
   "id": "3f5923d9",
=======
   "id": "f3da1318",
>>>>>>> documentation-devel
||||||| de7e30d
   "id": "aba76361",
=======
   "id": "a3ecadef",
>>>>>>> 03b044928c05aca10f627eea0665560c78e150c1
   "metadata": {},
   "outputs": [],
   "source": [
    "#display(mask_label == 797)"
   ]
  },
  {
   "cell_type": "markdown",
<<<<<<< HEAD
<<<<<<< HEAD
<<<<<<< HEAD
   "id": "23dae802",
||||||| merged common ancestors
   "id": "484a7623",
=======
   "id": "895dbe13",
>>>>>>> documentation-devel
||||||| f5a2d7c
   "id": "895dbe13",
=======
   "id": "b19d583c",
>>>>>>> documentation-devel
||||||| de7e30d
   "id": "23dae802",
=======
   "id": "f424b9a5",
>>>>>>> 03b044928c05aca10f627eea0665560c78e150c1
   "metadata": {
    "lines_to_next_cell": 0
   },
   "source": [
    "Here we remove the debris from the mask"
   ]
  },
  {
   "cell_type": "code",
   "execution_count": null,
<<<<<<< HEAD
<<<<<<< HEAD
<<<<<<< HEAD
   "id": "06436231",
||||||| merged common ancestors
   "id": "062fb78e",
=======
   "id": "a91763eb",
>>>>>>> documentation-devel
||||||| f5a2d7c
   "id": "a91763eb",
=======
   "id": "732ed172",
>>>>>>> documentation-devel
||||||| de7e30d
   "id": "06436231",
=======
   "id": "1a67c333",
>>>>>>> 03b044928c05aca10f627eea0665560c78e150c1
   "metadata": {},
   "outputs": [],
   "source": [
    "mask_label[mask_label %in% c(797, as.numeric(rownames(fts2)[fts2[,1] < 100]))] <- 0"
   ]
  },
  {
   "cell_type": "markdown",
<<<<<<< HEAD
<<<<<<< HEAD
<<<<<<< HEAD
   "id": "2be8c4a2",
||||||| merged common ancestors
   "id": "1249564d",
=======
   "id": "111dd2d6",
>>>>>>> documentation-devel
||||||| f5a2d7c
   "id": "111dd2d6",
=======
   "id": "bf9d21a7",
>>>>>>> documentation-devel
||||||| de7e30d
   "id": "2be8c4a2",
=======
   "id": "10efb841",
>>>>>>> 03b044928c05aca10f627eea0665560c78e150c1
   "metadata": {
    "lines_to_next_cell": 0
   },
   "source": [
    "Since most holes in the mask are faint regions of the tissue missed by thresholding, the holes will be filled"
   ]
  },
  {
   "cell_type": "code",
   "execution_count": null,
<<<<<<< HEAD
<<<<<<< HEAD
<<<<<<< HEAD
   "id": "69029ce9",
||||||| merged common ancestors
   "id": "08e91e0f",
=======
   "id": "e6366987",
>>>>>>> documentation-devel
||||||| f5a2d7c
   "id": "e6366987",
=======
   "id": "246bf685",
>>>>>>> documentation-devel
||||||| de7e30d
   "id": "69029ce9",
=======
   "id": "536c5701",
>>>>>>> 03b044928c05aca10f627eea0665560c78e150c1
   "metadata": {},
   "outputs": [],
   "source": [
    "mask_label <- fillHull(mask_label)"
   ]
  },
  {
   "cell_type": "code",
   "execution_count": null,
<<<<<<< HEAD
<<<<<<< HEAD
<<<<<<< HEAD
   "id": "9a08e01a",
||||||| merged common ancestors
   "id": "86a15b3f",
=======
   "id": "2c119fc8",
>>>>>>> documentation-devel
||||||| f5a2d7c
   "id": "2c119fc8",
=======
   "id": "4d241354",
>>>>>>> documentation-devel
||||||| de7e30d
   "id": "9a08e01a",
=======
   "id": "fe6cce59",
>>>>>>> 03b044928c05aca10f627eea0665560c78e150c1
   "metadata": {},
   "outputs": [],
   "source": [
    "display(paintObjects(mask_label, img, col=c(\"red\", \"yellow\"), opac=c(1, 0.3)))"
   ]
  },
  {
   "cell_type": "markdown",
<<<<<<< HEAD
<<<<<<< HEAD
<<<<<<< HEAD
   "id": "17f18508",
||||||| merged common ancestors
   "id": "6ad2e257",
=======
   "id": "15f8612c",
>>>>>>> documentation-devel
||||||| f5a2d7c
   "id": "15f8612c",
=======
   "id": "91ea3ece",
>>>>>>> documentation-devel
||||||| de7e30d
   "id": "17f18508",
=======
   "id": "dff02e2e",
>>>>>>> 03b044928c05aca10f627eea0665560c78e150c1
   "metadata": {},
   "source": [
    "This segmentation process took a lot of manual oversight, in choosing the threshold, choosing kernel size and shape in the opening and closing operations, deciding whether to fill the holes, and deciding what is debris and what is tissue. \n",
    "\n",
    "# Convert tissue mask to polygon\n",
    "Now we have the tissue mask, which we will convert to polygon. While OpenCV can directly perform the conversion, as there isn't a comprehensive R wrapper of OpenCV, this conversion is more convoluted in R. We first convert the `Image` object to a raster as implemented in `terra`, the core R package for geospatial raster data. Then `terra` can convert the raster to polygon. As this image is downsized, the polygon will look quite pixelated. To mitigate this pixelation and save memory, the `ms_simplify()` function is used to simplify the polygon, only keeping a small proportion of all vertices. The `st_simplify()` function in `sf` can also simplify the polygons, but we can't specify what proportion of vertices to keep."
   ]
  },
  {
   "cell_type": "code",
   "execution_count": null,
<<<<<<< HEAD
<<<<<<< HEAD
<<<<<<< HEAD
   "id": "a774d967",
||||||| merged common ancestors
   "id": "795327be",
=======
   "id": "8af05961",
>>>>>>> documentation-devel
||||||| f5a2d7c
   "id": "8af05961",
=======
   "id": "51373567",
>>>>>>> documentation-devel
||||||| de7e30d
   "id": "a774d967",
=======
   "id": "672d5340",
>>>>>>> 03b044928c05aca10f627eea0665560c78e150c1
   "metadata": {},
   "outputs": [],
   "source": [
    "raster2polygon <- function(seg, keep = 0.2) {\n",
    "    r <- rast(as.array(seg), extent = ext(0, nrow(seg), 0, ncol(seg))) |> \n",
    "        trans() |> flip()\n",
    "    r[r < 1] <- NA\n",
    "    contours <- st_as_sf(as.polygons(r, dissolve = TRUE))\n",
    "    simplified <- ms_simplify(contours, keep = keep)\n",
    "    list(full = contours,\n",
    "         simplified = simplified)\n",
    "}"
   ]
  },
  {
   "cell_type": "code",
   "execution_count": null,
<<<<<<< HEAD
<<<<<<< HEAD
<<<<<<< HEAD
   "id": "7d4c781e",
||||||| merged common ancestors
   "id": "5fe7e213",
=======
   "id": "3701ce71",
>>>>>>> documentation-devel
||||||| f5a2d7c
   "id": "3701ce71",
=======
   "id": "364e36d5",
>>>>>>> documentation-devel
||||||| de7e30d
   "id": "7d4c781e",
=======
   "id": "307a7d55",
>>>>>>> 03b044928c05aca10f627eea0665560c78e150c1
   "metadata": {},
   "outputs": [],
   "source": [
    "tb <- raster2polygon(mask_label)"
   ]
  },
  {
   "cell_type": "markdown",
<<<<<<< HEAD
<<<<<<< HEAD
<<<<<<< HEAD
   "id": "a12b0b5a",
||||||| merged common ancestors
   "id": "6b949155",
=======
   "id": "36bac509",
>>>>>>> documentation-devel
||||||| f5a2d7c
   "id": "36bac509",
=======
   "id": "50c8cf9e",
>>>>>>> documentation-devel
||||||| de7e30d
   "id": "a12b0b5a",
=======
   "id": "e93ac11b",
>>>>>>> 03b044928c05aca10f627eea0665560c78e150c1
   "metadata": {
    "lines_to_next_cell": 0
   },
   "source": [
    "Before adding the geometry to the SFE object, it needs to be scaled to match the coordinates of the spots"
   ]
  },
  {
   "cell_type": "code",
   "execution_count": null,
<<<<<<< HEAD
<<<<<<< HEAD
<<<<<<< HEAD
   "id": "472fe6a0",
||||||| merged common ancestors
   "id": "fe998ac0",
=======
   "id": "4a9005aa",
>>>>>>> documentation-devel
||||||| f5a2d7c
   "id": "4a9005aa",
=======
   "id": "8fc96c7b",
>>>>>>> documentation-devel
||||||| de7e30d
   "id": "472fe6a0",
=======
   "id": "8bea41ca",
>>>>>>> 03b044928c05aca10f627eea0665560c78e150c1
   "metadata": {},
   "outputs": [],
   "source": [
    "scale_factors <- fromJSON(file = \"outs/spatial/scalefactors_json.json\")"
   ]
  },
  {
   "cell_type": "code",
   "execution_count": null,
<<<<<<< HEAD
<<<<<<< HEAD
<<<<<<< HEAD
   "id": "025c9669",
||||||| merged common ancestors
   "id": "1576b8e1",
=======
   "id": "8bd09551",
>>>>>>> documentation-devel
||||||| f5a2d7c
   "id": "8bd09551",
=======
   "id": "c0fc9fbc",
>>>>>>> documentation-devel
||||||| de7e30d
   "id": "025c9669",
=======
   "id": "a41d8769",
>>>>>>> 03b044928c05aca10f627eea0665560c78e150c1
   "metadata": {},
   "outputs": [],
   "source": [
    "tb$simplified$geometry <- tb$simplified$geometry / scale_factors$tissue_hires_scalef"
   ]
  },
  {
   "cell_type": "code",
   "execution_count": null,
<<<<<<< HEAD
<<<<<<< HEAD
<<<<<<< HEAD
   "id": "7286949f",
||||||| merged common ancestors
   "id": "510d2764",
=======
   "id": "8c23ce0f",
>>>>>>> documentation-devel
||||||| f5a2d7c
   "id": "8c23ce0f",
=======
   "id": "95095452",
>>>>>>> documentation-devel
||||||| de7e30d
   "id": "7286949f",
=======
   "id": "6888d0a0",
>>>>>>> 03b044928c05aca10f627eea0665560c78e150c1
   "metadata": {},
   "outputs": [],
   "source": [
    "tissueBoundary(sfe) <- tb$simplified"
   ]
  },
  {
   "cell_type": "code",
   "execution_count": null,
<<<<<<< HEAD
<<<<<<< HEAD
<<<<<<< HEAD
   "id": "6dc1afd0",
||||||| merged common ancestors
   "id": "c3f78641",
=======
   "id": "7d1ac288",
>>>>>>> documentation-devel
||||||| f5a2d7c
   "id": "7d1ac288",
=======
   "id": "515133d4",
>>>>>>> documentation-devel
||||||| de7e30d
   "id": "6dc1afd0",
=======
   "id": "691b7c96",
>>>>>>> 03b044928c05aca10f627eea0665560c78e150c1
   "metadata": {},
   "outputs": [],
   "source": [
    "plotSpatialFeature(sfe, \"sum\", annotGeometryName = \"tissueBoundary\", \n",
    "                   annot_fixed = list(fill = NA, color = \"black\"),\n",
    "                   image_id = \"lowres\") +\n",
    "    theme_void()"
   ]
  },
  {
   "cell_type": "markdown",
<<<<<<< HEAD
<<<<<<< HEAD
<<<<<<< HEAD
   "id": "b1a9537f",
||||||| merged common ancestors
   "id": "02fb8ed0",
=======
   "id": "c94baabd",
>>>>>>> documentation-devel
||||||| f5a2d7c
   "id": "c94baabd",
=======
   "id": "15738ac6",
>>>>>>> documentation-devel
||||||| de7e30d
   "id": "b1a9537f",
=======
   "id": "0a3e0ac4",
>>>>>>> 03b044928c05aca10f627eea0665560c78e150c1
   "metadata": {},
   "source": [
    "The mouse olfactory bulb is conventionally plotted horizontally. The entire SFE object can be transposed in histologial space to make the olfactory bulb horizontal."
   ]
  },
  {
   "cell_type": "code",
   "execution_count": null,
<<<<<<< HEAD
<<<<<<< HEAD
<<<<<<< HEAD
   "id": "fdf0997c",
||||||| merged common ancestors
   "id": "a636df10",
=======
   "id": "2d6c2c67",
>>>>>>> documentation-devel
||||||| f5a2d7c
   "id": "2d6c2c67",
=======
   "id": "8c255fd5",
>>>>>>> documentation-devel
||||||| de7e30d
   "id": "fdf0997c",
=======
   "id": "dc6cce23",
>>>>>>> 03b044928c05aca10f627eea0665560c78e150c1
   "metadata": {},
   "outputs": [],
   "source": [
    "sfe <- SpatialFeatureExperiment::transpose(sfe)"
   ]
  },
  {
   "cell_type": "code",
   "execution_count": null,
<<<<<<< HEAD
<<<<<<< HEAD
<<<<<<< HEAD
   "id": "5b82f370",
||||||| merged common ancestors
   "id": "53e33183",
=======
   "id": "a7cfe137",
>>>>>>> documentation-devel
||||||| f5a2d7c
   "id": "a7cfe137",
=======
   "id": "609588b2",
>>>>>>> documentation-devel
||||||| de7e30d
   "id": "5b82f370",
=======
   "id": "d63ee264",
>>>>>>> 03b044928c05aca10f627eea0665560c78e150c1
   "metadata": {},
   "outputs": [],
   "source": [
    "plotSpatialFeature(sfe, \"sum\", annotGeometryName = \"tissueBoundary\", \n",
    "                   annot_fixed = list(fill = NA, color = \"black\"),\n",
    "                   image_id = \"lowres\")"
   ]
  },
  {
   "cell_type": "markdown",
<<<<<<< HEAD
<<<<<<< HEAD
<<<<<<< HEAD
   "id": "b59091d8",
||||||| merged common ancestors
   "id": "893ad277",
=======
   "id": "20c64150",
>>>>>>> documentation-devel
||||||| f5a2d7c
   "id": "20c64150",
=======
   "id": "f4aa5a65",
>>>>>>> documentation-devel
||||||| de7e30d
   "id": "b59091d8",
=======
   "id": "3eddefd1",
>>>>>>> 03b044928c05aca10f627eea0665560c78e150c1
   "metadata": {},
   "source": [
    "Then we can use geometric operations to find which spots intersect tissue, which spots are covered by tissue, and how much of each spot intersects tissue."
   ]
  },
  {
   "cell_type": "code",
   "execution_count": null,
<<<<<<< HEAD
<<<<<<< HEAD
<<<<<<< HEAD
   "id": "f31d4e0b",
||||||| merged common ancestors
   "id": "e5909777",
=======
   "id": "e64dcc2b",
>>>>>>> documentation-devel
||||||| f5a2d7c
   "id": "e64dcc2b",
=======
   "id": "a907c0eb",
>>>>>>> documentation-devel
||||||| de7e30d
   "id": "f31d4e0b",
=======
   "id": "da7eaa9d",
>>>>>>> 03b044928c05aca10f627eea0665560c78e150c1
   "metadata": {},
   "outputs": [],
   "source": [
    "# Which spots intersect tissue\n",
    "sfe$int_tissue <- annotPred(sfe, colGeometryName = \"spotPoly\", \n",
    "                            annotGeometryName = \"tissueBoundary\",\n",
    "                            pred = st_intersects)\n",
    "sfe$cov_tissue <- annotPred(sfe, colGeometryName = \"spotPoly\", \n",
    "                            annotGeometryName = \"tissueBoundary\",\n",
    "                            pred = st_covered_by)"
   ]
  },
  {
   "cell_type": "markdown",
<<<<<<< HEAD
<<<<<<< HEAD
<<<<<<< HEAD
   "id": "8be6558a",
||||||| merged common ancestors
   "id": "b03ad066",
=======
   "id": "606c3599",
>>>>>>> documentation-devel
||||||| f5a2d7c
   "id": "606c3599",
=======
   "id": "a2a6e728",
>>>>>>> documentation-devel
||||||| de7e30d
   "id": "8be6558a",
=======
   "id": "69b64613",
>>>>>>> 03b044928c05aca10f627eea0665560c78e150c1
   "metadata": {
    "lines_to_next_cell": 0
   },
   "source": [
    "Discrepancies between Space Ranger's annotation and the annotation based on tissue segmentation here:"
   ]
  },
  {
   "cell_type": "code",
   "execution_count": null,
<<<<<<< HEAD
<<<<<<< HEAD
<<<<<<< HEAD
   "id": "e9bd03ed",
||||||| merged common ancestors
   "id": "37bc6366",
=======
   "id": "a915320f",
>>>>>>> documentation-devel
||||||| f5a2d7c
   "id": "a915320f",
=======
   "id": "996944b0",
>>>>>>> documentation-devel
||||||| de7e30d
   "id": "e9bd03ed",
=======
   "id": "7d8b206f",
>>>>>>> 03b044928c05aca10f627eea0665560c78e150c1
   "metadata": {},
   "outputs": [],
   "source": [
    "sfe$diff_sr <- case_when(sfe$in_tissue == sfe$int_tissue ~ \"same\",\n",
    "                         sfe$in_tissue & !sfe$int_tissue ~ \"Space Ranger\",\n",
    "                         sfe$int_tissue & !sfe$in_tissue ~ \"segmentation\") |> \n",
    "    factor(levels = c(\"Space Ranger\", \"same\", \"segmentation\"))\n",
    "plotSpatialFeature(sfe, \"diff_sr\", \n",
    "                   annotGeometryName = \"tissueBoundary\", \n",
    "                   annot_fixed = list(fill = NA, size = 0.5, color = \"black\")) +\n",
    "    scale_fill_brewer(type = \"div\", palette = 4)"
   ]
  },
  {
   "cell_type": "markdown",
<<<<<<< HEAD
<<<<<<< HEAD
<<<<<<< HEAD
   "id": "ebb70d16",
||||||| merged common ancestors
   "id": "ac4e2cff",
=======
   "id": "c92dcd7d",
>>>>>>> documentation-devel
||||||| f5a2d7c
   "id": "c92dcd7d",
=======
   "id": "224927b4",
>>>>>>> documentation-devel
||||||| de7e30d
   "id": "ebb70d16",
=======
   "id": "8c4f8a96",
>>>>>>> 03b044928c05aca10f627eea0665560c78e150c1
   "metadata": {
    "lines_to_next_cell": 0
   },
   "source": [
    "Spots at the margin can intersect the tissue without being covered by it."
   ]
  },
  {
   "cell_type": "code",
   "execution_count": null,
<<<<<<< HEAD
<<<<<<< HEAD
<<<<<<< HEAD
   "id": "647f48ec",
||||||| merged common ancestors
   "id": "1ec93b4b",
=======
   "id": "4e13de2e",
>>>>>>> documentation-devel
||||||| f5a2d7c
   "id": "4e13de2e",
=======
   "id": "75528279",
>>>>>>> documentation-devel
||||||| de7e30d
   "id": "647f48ec",
=======
   "id": "be20d0c3",
>>>>>>> 03b044928c05aca10f627eea0665560c78e150c1
   "metadata": {},
   "outputs": [],
   "source": [
    "sfe$diff_int_cov <- sfe$int_tissue != sfe$cov_tissue\n",
    "plotSpatialFeature(sfe, \"diff_int_cov\", \n",
    "                   annotGeometryName = \"tissueBoundary\", \n",
    "                   annot_fixed = list(fill = NA, size = 0.5, color = \"black\"))"
   ]
  },
  {
   "cell_type": "markdown",
<<<<<<< HEAD
<<<<<<< HEAD
<<<<<<< HEAD
   "id": "a22b0118",
||||||| merged common ancestors
   "id": "a4a0440d",
=======
   "id": "aa24da7c",
>>>>>>> documentation-devel
||||||| f5a2d7c
   "id": "aa24da7c",
=======
   "id": "b6daf7c6",
>>>>>>> documentation-devel
||||||| de7e30d
   "id": "a22b0118",
=======
   "id": "8792cd7e",
>>>>>>> 03b044928c05aca10f627eea0665560c78e150c1
   "metadata": {},
   "source": [
    "We can also get the geometries of the intersections between the tissue and the Visium spots, and then calculate what percentage of each spot is in tissue. However, this percentage may not be very useful if the tissue segmentation is subject to error. This percentage may be more useful for pathologist annotated histological regions or objects such as nuclei and myofibers."
   ]
  },
  {
   "cell_type": "code",
   "execution_count": null,
<<<<<<< HEAD
<<<<<<< HEAD
<<<<<<< HEAD
   "id": "39671e04",
||||||| merged common ancestors
   "id": "67c85062",
=======
   "id": "0af6f561",
>>>>>>> documentation-devel
||||||| f5a2d7c
   "id": "0af6f561",
=======
   "id": "792a1551",
>>>>>>> documentation-devel
||||||| de7e30d
   "id": "39671e04",
=======
   "id": "193645f4",
>>>>>>> 03b044928c05aca10f627eea0665560c78e150c1
   "metadata": {},
   "outputs": [],
   "source": [
    "spot_ints <- annotOp(sfe, colGeometryName = \"spotPoly\", \n",
    "                     annotGeometryName = \"tissueBoundary\", op = st_intersection)\n",
    "sfe$pct_tissue <- st_area(spot_ints) / st_area(spotPoly(sfe)) * 100"
   ]
  },
  {
   "cell_type": "markdown",
<<<<<<< HEAD
<<<<<<< HEAD
<<<<<<< HEAD
   "id": "696a5258",
||||||| merged common ancestors
   "id": "22b4d51a",
=======
   "id": "76f654ed",
>>>>>>> documentation-devel
||||||| f5a2d7c
   "id": "76f654ed",
=======
   "id": "636dbc53",
>>>>>>> documentation-devel
||||||| de7e30d
   "id": "696a5258",
=======
   "id": "d1944199",
>>>>>>> 03b044928c05aca10f627eea0665560c78e150c1
   "metadata": {
    "lines_to_next_cell": 0
   },
   "source": [
    "For spots that intersect tissue, does total counts relate to percentage of the spot in tissue?"
   ]
  },
  {
   "cell_type": "code",
   "execution_count": null,
<<<<<<< HEAD
<<<<<<< HEAD
<<<<<<< HEAD
   "id": "9f3320ba",
||||||| merged common ancestors
   "id": "b76b42a2",
=======
   "id": "d64a8687",
>>>>>>> documentation-devel
||||||| f5a2d7c
   "id": "d64a8687",
=======
   "id": "5adda283",
>>>>>>> documentation-devel
||||||| de7e30d
   "id": "9f3320ba",
=======
   "id": "decb9b81",
>>>>>>> 03b044928c05aca10f627eea0665560c78e150c1
   "metadata": {},
   "outputs": [],
   "source": [
    "sfe_tissue <- sfe[,sfe$int_tissue]"
   ]
  },
  {
   "cell_type": "code",
   "execution_count": null,
<<<<<<< HEAD
<<<<<<< HEAD
<<<<<<< HEAD
   "id": "5e9abffa",
||||||| merged common ancestors
   "id": "9cbe75d9",
=======
   "id": "6ebf0621",
>>>>>>> documentation-devel
||||||| f5a2d7c
   "id": "6ebf0621",
=======
   "id": "143b804e",
>>>>>>> documentation-devel
||||||| de7e30d
   "id": "5e9abffa",
=======
   "id": "d3191d49",
>>>>>>> 03b044928c05aca10f627eea0665560c78e150c1
   "metadata": {},
   "outputs": [],
   "source": [
    "plotColDataBin2D(sfe_tissue, x = \"pct_tissue\", y = \"sum\", subset = \"diff_int_cov\",\n",
    "                name_true = \"Not covered\", name_false = \"Covered\", bins = 50)"
   ]
  },
  {
   "cell_type": "markdown",
<<<<<<< HEAD
<<<<<<< HEAD
<<<<<<< HEAD
   "id": "535dd3c5",
||||||| merged common ancestors
   "id": "ab713005",
=======
   "id": "f921b480",
>>>>>>> documentation-devel
||||||| f5a2d7c
   "id": "f921b480",
=======
   "id": "e290212f",
>>>>>>> documentation-devel
||||||| de7e30d
   "id": "535dd3c5",
=======
   "id": "c6af5855",
>>>>>>> 03b044928c05aca10f627eea0665560c78e150c1
   "metadata": {
    "lines_to_next_cell": 0
   },
   "source": [
    "Spots that are not fully covered by tissue have lower total UMI counts, which can be due to both that they are not fully in tissue and the cell types with lower total counts in the histological region near the edge, as some spots fully covered by tissue also have low UMI counts.\n",
    "\n",
    "# Spatial autocorrelation of QC metrics"
   ]
  },
  {
   "cell_type": "code",
   "execution_count": null,
<<<<<<< HEAD
<<<<<<< HEAD
<<<<<<< HEAD
   "id": "9d8cc4b1",
||||||| merged common ancestors
   "id": "f3f13fa3",
=======
   "id": "f47ee9a3",
>>>>>>> documentation-devel
||||||| f5a2d7c
   "id": "f47ee9a3",
=======
   "id": "b60e287b",
>>>>>>> documentation-devel
||||||| de7e30d
   "id": "9d8cc4b1",
=======
   "id": "4d99b1bf",
>>>>>>> 03b044928c05aca10f627eea0665560c78e150c1
   "metadata": {},
   "outputs": [],
   "source": [
    "colGraph(sfe_tissue, \"visium\") <- findVisiumGraph(sfe_tissue)"
   ]
  },
  {
   "cell_type": "code",
   "execution_count": null,
<<<<<<< HEAD
<<<<<<< HEAD
<<<<<<< HEAD
   "id": "11010683",
||||||| merged common ancestors
   "id": "ff59eeab",
=======
   "id": "56c4ab60",
>>>>>>> documentation-devel
||||||| f5a2d7c
   "id": "56c4ab60",
=======
   "id": "4de2f115",
>>>>>>> documentation-devel
||||||| de7e30d
   "id": "11010683",
=======
   "id": "551c527b",
>>>>>>> 03b044928c05aca10f627eea0665560c78e150c1
   "metadata": {},
   "outputs": [],
   "source": [
    "qc_features <- c(\"sum\", \"detected\", \"subsets_mito_percent\")"
   ]
  },
  {
   "cell_type": "code",
   "execution_count": null,
<<<<<<< HEAD
<<<<<<< HEAD
<<<<<<< HEAD
   "id": "2419b1ac",
||||||| merged common ancestors
   "id": "e2a1a705",
=======
   "id": "6e98a784",
>>>>>>> documentation-devel
||||||| f5a2d7c
   "id": "6e98a784",
=======
   "id": "be3397f8",
>>>>>>> documentation-devel
||||||| de7e30d
   "id": "2419b1ac",
=======
   "id": "45ac71da",
>>>>>>> 03b044928c05aca10f627eea0665560c78e150c1
   "metadata": {},
   "outputs": [],
   "source": [
    "sfe_tissue <- colDataUnivariate(sfe_tissue, \"moran.mc\", qc_features, nsim = 200)"
   ]
  },
  {
   "cell_type": "code",
   "execution_count": null,
<<<<<<< HEAD
<<<<<<< HEAD
<<<<<<< HEAD
   "id": "6606d2ac",
||||||| merged common ancestors
   "id": "7dd3e69e",
=======
   "id": "ec4ce43d",
>>>>>>> documentation-devel
||||||| f5a2d7c
   "id": "ec4ce43d",
=======
   "id": "d8a175c0",
>>>>>>> documentation-devel
||||||| de7e30d
   "id": "6606d2ac",
=======
   "id": "2b94d722",
>>>>>>> 03b044928c05aca10f627eea0665560c78e150c1
   "metadata": {},
   "outputs": [],
   "source": [
    "plotMoranMC(sfe_tissue, qc_features)"
   ]
  },
  {
   "cell_type": "code",
   "execution_count": null,
<<<<<<< HEAD
<<<<<<< HEAD
<<<<<<< HEAD
   "id": "efc5aebc",
||||||| merged common ancestors
   "id": "0bf1f6d3",
=======
   "id": "7c5fbeec",
>>>>>>> documentation-devel
||||||| f5a2d7c
   "id": "7c5fbeec",
=======
   "id": "7fb540ed",
>>>>>>> documentation-devel
||||||| de7e30d
   "id": "efc5aebc",
=======
   "id": "9ea1c96c",
>>>>>>> 03b044928c05aca10f627eea0665560c78e150c1
   "metadata": {},
   "outputs": [],
   "source": [
    "sfe_tissue <- colDataUnivariate(sfe_tissue, \"sp.correlogram\", qc_features,\n",
    "                                order = 8)"
   ]
  },
  {
   "cell_type": "code",
   "execution_count": null,
<<<<<<< HEAD
<<<<<<< HEAD
<<<<<<< HEAD
   "id": "508dea05",
||||||| merged common ancestors
   "id": "26a39973",
=======
   "id": "28d43ba7",
>>>>>>> documentation-devel
||||||| f5a2d7c
   "id": "28d43ba7",
=======
   "id": "01698f1d",
>>>>>>> documentation-devel
||||||| de7e30d
   "id": "508dea05",
=======
   "id": "28d0eca8",
>>>>>>> 03b044928c05aca10f627eea0665560c78e150c1
   "metadata": {},
   "outputs": [],
   "source": [
    "plotCorrelogram(sfe_tissue, qc_features)"
   ]
  },
  {
   "cell_type": "code",
   "execution_count": null,
<<<<<<< HEAD
<<<<<<< HEAD
<<<<<<< HEAD
   "id": "1f080fcb",
||||||| merged common ancestors
   "id": "2677d211",
=======
   "id": "9685a862",
>>>>>>> documentation-devel
||||||| f5a2d7c
   "id": "9685a862",
=======
   "id": "c2917cc1",
>>>>>>> documentation-devel
||||||| de7e30d
   "id": "1f080fcb",
=======
   "id": "85394a19",
>>>>>>> 03b044928c05aca10f627eea0665560c78e150c1
   "metadata": {},
   "outputs": [],
   "source": [
    "sfe_tissue <- colDataUnivariate(sfe_tissue, \"localmoran\", qc_features)"
   ]
  },
  {
   "cell_type": "code",
   "execution_count": null,
<<<<<<< HEAD
<<<<<<< HEAD
<<<<<<< HEAD
   "id": "19779507",
||||||| merged common ancestors
   "id": "bedd111d",
=======
   "id": "05601118",
>>>>>>> documentation-devel
||||||| f5a2d7c
   "id": "05601118",
=======
   "id": "723bbd6a",
>>>>>>> documentation-devel
||||||| de7e30d
   "id": "19779507",
=======
   "id": "72080a6f",
>>>>>>> 03b044928c05aca10f627eea0665560c78e150c1
   "metadata": {
    "fig.height": 6,
    "fig.width": 8
   },
   "outputs": [],
   "source": [
    "plotLocalResult(sfe_tissue, \"localmoran\", qc_features, ncol = 2,\n",
    "                colGeometryName = \"spotPoly\", divergent = TRUE, \n",
    "                diverge_center = 0, image_id = \"lowres\", maxcell = 5e4)"
   ]
  },
  {
   "cell_type": "code",
   "execution_count": null,
<<<<<<< HEAD
<<<<<<< HEAD
<<<<<<< HEAD
   "id": "07a11202",
||||||| merged common ancestors
   "id": "c1cc3792",
=======
   "id": "29e2c14d",
>>>>>>> documentation-devel
||||||| f5a2d7c
   "id": "29e2c14d",
=======
   "id": "c00dbbce",
>>>>>>> documentation-devel
||||||| de7e30d
   "id": "07a11202",
=======
   "id": "e6e3d004",
>>>>>>> 03b044928c05aca10f627eea0665560c78e150c1
   "metadata": {},
   "outputs": [],
   "source": [
    "sfe_tissue <- colDataUnivariate(sfe_tissue, \"LOSH\", qc_features)"
   ]
  },
  {
   "cell_type": "code",
   "execution_count": null,
<<<<<<< HEAD
<<<<<<< HEAD
<<<<<<< HEAD
   "id": "95e02b7c",
||||||| merged common ancestors
   "id": "2ed8d7ec",
=======
   "id": "1d79b274",
>>>>>>> documentation-devel
||||||| f5a2d7c
   "id": "1d79b274",
=======
   "id": "8206eac1",
>>>>>>> documentation-devel
||||||| de7e30d
   "id": "95e02b7c",
=======
   "id": "c89e4e79",
>>>>>>> 03b044928c05aca10f627eea0665560c78e150c1
   "metadata": {
    "fig.height": 6,
    "fig.width": 8
   },
   "outputs": [],
   "source": [
    "plotLocalResult(sfe_tissue, \"LOSH\", qc_features, ncol = 2,\n",
    "                colGeometryName = \"spotPoly\", image_id = \"lowres\", maxcell = 5e4)"
   ]
  },
  {
   "cell_type": "code",
   "execution_count": null,
<<<<<<< HEAD
<<<<<<< HEAD
<<<<<<< HEAD
   "id": "75668279",
||||||| merged common ancestors
   "id": "ca21b221",
=======
   "id": "010e12e5",
>>>>>>> documentation-devel
||||||| f5a2d7c
   "id": "010e12e5",
=======
   "id": "a3c3464a",
>>>>>>> documentation-devel
||||||| de7e30d
   "id": "75668279",
=======
   "id": "24a50ed8",
>>>>>>> 03b044928c05aca10f627eea0665560c78e150c1
   "metadata": {},
   "outputs": [],
   "source": [
    "sfe_tissue <- colDataUnivariate(sfe_tissue, \"moran.plot\", qc_features)"
   ]
  },
  {
   "cell_type": "code",
   "execution_count": null,
<<<<<<< HEAD
<<<<<<< HEAD
<<<<<<< HEAD
   "id": "65c79c08",
||||||| merged common ancestors
   "id": "06bdfa42",
=======
   "id": "81a89068",
>>>>>>> documentation-devel
||||||| f5a2d7c
   "id": "81a89068",
=======
   "id": "76526efb",
>>>>>>> documentation-devel
||||||| de7e30d
   "id": "65c79c08",
=======
   "id": "38207f75",
>>>>>>> 03b044928c05aca10f627eea0665560c78e150c1
   "metadata": {},
   "outputs": [],
   "source": [
    "moranPlot(sfe_tissue, \"subsets_mito_percent\")"
   ]
  },
  {
   "cell_type": "markdown",
<<<<<<< HEAD
<<<<<<< HEAD
<<<<<<< HEAD
   "id": "4bcdd505",
||||||| merged common ancestors
   "id": "77e888a7",
=======
   "id": "2b4229df",
>>>>>>> documentation-devel
||||||| f5a2d7c
   "id": "2b4229df",
=======
   "id": "024f0e32",
>>>>>>> documentation-devel
||||||| de7e30d
   "id": "4bcdd505",
=======
   "id": "925446d2",
>>>>>>> 03b044928c05aca10f627eea0665560c78e150c1
   "metadata": {
    "lines_to_next_cell": 0
   },
   "source": [
    "# Spatial autocorrelation of gene expression\n",
    "\n",
    "Normalize data with the `scran` method, and find highly variable genes"
   ]
  },
  {
   "cell_type": "code",
   "execution_count": null,
<<<<<<< HEAD
<<<<<<< HEAD
<<<<<<< HEAD
   "id": "5d002816",
||||||| merged common ancestors
   "id": "ab01ad81",
=======
   "id": "e7e7fd28",
>>>>>>> documentation-devel
||||||| f5a2d7c
   "id": "e7e7fd28",
=======
   "id": "06979238",
>>>>>>> documentation-devel
||||||| de7e30d
   "id": "5d002816",
=======
   "id": "76ce423f",
>>>>>>> 03b044928c05aca10f627eea0665560c78e150c1
   "metadata": {},
   "outputs": [],
   "source": [
    "#clusters <- quickCluster(sfe_tissue)\n",
    "#sfe_tissue <- computeSumFactors(sfe_tissue, clusters=clusters)\n",
    "#sfe_tissue <- sfe_tissue[, sizeFactors(sfe_tissue) > 0]\n",
    "sfe_tissue <- logNormCounts(sfe_tissue)"
   ]
  },
  {
   "cell_type": "code",
   "execution_count": null,
<<<<<<< HEAD
<<<<<<< HEAD
<<<<<<< HEAD
   "id": "2d8568b7",
||||||| merged common ancestors
   "id": "08fedf28",
=======
   "id": "c0a4591a",
>>>>>>> documentation-devel
||||||| f5a2d7c
   "id": "c0a4591a",
=======
   "id": "89b4a3e1",
>>>>>>> documentation-devel
||||||| de7e30d
   "id": "2d8568b7",
=======
   "id": "16d70fe9",
>>>>>>> 03b044928c05aca10f627eea0665560c78e150c1
   "metadata": {},
   "outputs": [],
   "source": [
    "dec <- modelGeneVar(sfe_tissue)\n",
    "hvgs <- getTopHVGs(dec, n = 2000)"
   ]
  },
  {
   "cell_type": "markdown",
<<<<<<< HEAD
<<<<<<< HEAD
<<<<<<< HEAD
   "id": "0df4e927",
||||||| merged common ancestors
   "id": "e6a65564",
=======
   "id": "69b98245",
>>>>>>> documentation-devel
||||||| f5a2d7c
   "id": "69b98245",
=======
   "id": "fc3e4dd5",
>>>>>>> documentation-devel
||||||| de7e30d
   "id": "0df4e927",
=======
   "id": "f2ef6000",
>>>>>>> 03b044928c05aca10f627eea0665560c78e150c1
   "metadata": {
    "lines_to_next_cell": 0
   },
   "source": [
    "Find Moran's I for all highly variable genes:"
   ]
  },
  {
   "cell_type": "code",
   "execution_count": null,
<<<<<<< HEAD
<<<<<<< HEAD
<<<<<<< HEAD
   "id": "77801b02",
||||||| merged common ancestors
   "id": "4082c776",
=======
   "id": "203fec8a",
>>>>>>> documentation-devel
||||||| f5a2d7c
   "id": "203fec8a",
=======
   "id": "2101531f",
>>>>>>> documentation-devel
||||||| de7e30d
   "id": "77801b02",
=======
   "id": "a8938b7b",
>>>>>>> 03b044928c05aca10f627eea0665560c78e150c1
   "metadata": {},
   "outputs": [],
   "source": [
    "sfe_tissue <- runMoransI(sfe_tissue, features = hvgs, BPPARAM = MulticoreParam(2))"
   ]
  },
  {
   "cell_type": "code",
   "execution_count": null,
<<<<<<< HEAD
<<<<<<< HEAD
<<<<<<< HEAD
   "id": "cd14e107",
||||||| merged common ancestors
   "id": "59c44e97",
=======
   "id": "0ec1b461",
>>>>>>> documentation-devel
||||||| f5a2d7c
   "id": "0ec1b461",
=======
   "id": "08fbacd5",
>>>>>>> documentation-devel
||||||| de7e30d
   "id": "cd14e107",
=======
   "id": "e6e4e224",
>>>>>>> 03b044928c05aca10f627eea0665560c78e150c1
   "metadata": {},
   "outputs": [],
   "source": [
    "plotRowDataHistogram(sfe_tissue, \"moran_sample01\")"
   ]
  },
  {
   "cell_type": "markdown",
<<<<<<< HEAD
<<<<<<< HEAD
<<<<<<< HEAD
   "id": "ac3c0933",
||||||| merged common ancestors
   "id": "4e67f69d",
=======
   "id": "fd34dcf3",
>>>>>>> documentation-devel
||||||| f5a2d7c
   "id": "fd34dcf3",
=======
   "id": "9fe77d4e",
>>>>>>> documentation-devel
||||||| de7e30d
   "id": "ac3c0933",
=======
   "id": "0499334a",
>>>>>>> 03b044928c05aca10f627eea0665560c78e150c1
   "metadata": {
    "lines_to_next_cell": 0
   },
   "source": [
    "The vast majority of genes have positive Moran's I. Here we'll find the genes with the highest Moran's I:"
   ]
  },
  {
   "cell_type": "code",
   "execution_count": null,
<<<<<<< HEAD
<<<<<<< HEAD
<<<<<<< HEAD
   "id": "05da6966",
||||||| merged common ancestors
   "id": "60688b35",
=======
   "id": "b5deced2",
>>>>>>> documentation-devel
||||||| f5a2d7c
   "id": "b5deced2",
=======
   "id": "102945c0",
>>>>>>> documentation-devel
||||||| de7e30d
   "id": "05da6966",
=======
   "id": "c968346c",
>>>>>>> 03b044928c05aca10f627eea0665560c78e150c1
   "metadata": {},
   "outputs": [],
   "source": [
    "top_moran <- rownames(sfe_tissue)[order(rowData(sfe_tissue)$moran_sample01, \n",
    "                                        decreasing = TRUE)[1:9]]"
   ]
  },
  {
   "cell_type": "markdown",
<<<<<<< HEAD
<<<<<<< HEAD
<<<<<<< HEAD
   "id": "1a6ce2aa",
||||||| merged common ancestors
   "id": "0e0c6dac",
=======
   "id": "aefd55ed",
>>>>>>> documentation-devel
||||||| f5a2d7c
   "id": "aefd55ed",
=======
   "id": "1becabd4",
>>>>>>> documentation-devel
||||||| de7e30d
   "id": "1a6ce2aa",
=======
   "id": "b898b60f",
>>>>>>> 03b044928c05aca10f627eea0665560c78e150c1
   "metadata": {
    "lines_to_next_cell": 0
   },
   "source": [
    "We can use the [gget info](https://pachterlab.github.io/gget/info.html) module from the [gget](https://pachterlab.github.io/gget/) package to get additional information on these genes, such as their descriptions, synonyms, transcripts and more from a collection of reference databases including [Ensembl](https://ensembl.org/), [UniProt](https://www.uniprot.org/) and [NCBI](https://www.ncbi.nlm.nih.gov/) Here, we are showing their gene descriptions from [NCBI](https://www.ncbi.nlm.nih.gov/):"
   ]
  },
  {
   "cell_type": "code",
   "execution_count": null,
<<<<<<< HEAD
<<<<<<< HEAD
<<<<<<< HEAD
   "id": "71dd2cf1",
||||||| merged common ancestors
   "id": "c6456073",
=======
   "id": "e6f444d7",
>>>>>>> documentation-devel
||||||| f5a2d7c
   "id": "e6f444d7",
=======
   "id": "76c6872c",
>>>>>>> documentation-devel
||||||| de7e30d
   "id": "71dd2cf1",
=======
   "id": "29eeea62",
>>>>>>> 03b044928c05aca10f627eea0665560c78e150c1
   "metadata": {},
   "outputs": [],
   "source": [
    "gget_info <- gget$info(top_moran)\n",
    "\n",
    "rownames(gget_info) <- gget_info$primary_gene_name\n",
    "select(gget_info, ncbi_description)"
   ]
  },
  {
   "cell_type": "markdown",
<<<<<<< HEAD
<<<<<<< HEAD
<<<<<<< HEAD
   "id": "a93a6bdc",
||||||| merged common ancestors
   "id": "a14630c4",
=======
   "id": "7fbe57b8",
>>>>>>> documentation-devel
||||||| f5a2d7c
   "id": "7fbe57b8",
=======
   "id": "3285fed4",
>>>>>>> documentation-devel
||||||| de7e30d
   "id": "a93a6bdc",
=======
   "id": "b9ed78d7",
>>>>>>> 03b044928c05aca10f627eea0665560c78e150c1
   "metadata": {
    "lines_to_next_cell": 0
   },
   "source": [
    "Plot the genes with the highest Moran's I:"
   ]
  },
  {
   "cell_type": "code",
   "execution_count": null,
<<<<<<< HEAD
<<<<<<< HEAD
<<<<<<< HEAD
   "id": "b57a1c07",
||||||| merged common ancestors
   "id": "4886adf2",
=======
   "id": "6457e456",
>>>>>>> documentation-devel
||||||| f5a2d7c
   "id": "6457e456",
=======
   "id": "dce396aa",
>>>>>>> documentation-devel
||||||| de7e30d
   "id": "b57a1c07",
=======
   "id": "c288e2b3",
>>>>>>> 03b044928c05aca10f627eea0665560c78e150c1
   "metadata": {
    "fig.height": 5,
    "fig.width": 9
   },
   "outputs": [],
   "source": [
    "plotSpatialFeature(sfe_tissue, top_moran, ncol = 3, image_id = \"lowres\",\n",
    "                   maxcell = 5e4, swap_rownames = \"symbol\")"
   ]
  },
  {
   "cell_type": "markdown",
<<<<<<< HEAD
<<<<<<< HEAD
<<<<<<< HEAD
   "id": "6167e6b6",
||||||| merged common ancestors
   "id": "d6445b22",
=======
   "id": "57e131ff",
>>>>>>> documentation-devel
||||||| f5a2d7c
   "id": "57e131ff",
=======
   "id": "6ff38340",
>>>>>>> documentation-devel
||||||| de7e30d
   "id": "6167e6b6",
=======
   "id": "62af54c0",
>>>>>>> 03b044928c05aca10f627eea0665560c78e150c1
   "metadata": {
    "lines_to_next_cell": 0
   },
   "source": [
    "Here global Moran's I seems to be more about tissue structure. \n",
    "\n",
    "Some genes have negative Moran's I that might not be statistically significant:"
   ]
  },
  {
   "cell_type": "code",
   "execution_count": null,
<<<<<<< HEAD
<<<<<<< HEAD
<<<<<<< HEAD
   "id": "fc5b6868",
||||||| merged common ancestors
   "id": "002dd3df",
=======
   "id": "a42bfadf",
>>>>>>> documentation-devel
||||||| f5a2d7c
   "id": "a42bfadf",
=======
   "id": "578a07ac",
>>>>>>> documentation-devel
||||||| de7e30d
   "id": "fc5b6868",
=======
   "id": "2ae6d3b1",
>>>>>>> 03b044928c05aca10f627eea0665560c78e150c1
   "metadata": {},
   "outputs": [],
   "source": [
    "neg_moran <- rownames(sfe_tissue)[order(rowData(sfe_tissue)$moran_sample01, \n",
    "                                        decreasing = FALSE)[1:9]]"
   ]
  },
  {
   "cell_type": "code",
   "execution_count": null,
<<<<<<< HEAD
<<<<<<< HEAD
<<<<<<< HEAD
   "id": "32c1e4ad",
||||||| merged common ancestors
   "id": "24447b7f",
=======
   "id": "91beb063",
>>>>>>> documentation-devel
||||||| f5a2d7c
   "id": "91beb063",
=======
   "id": "b7a465c9",
>>>>>>> documentation-devel
||||||| de7e30d
   "id": "32c1e4ad",
=======
   "id": "77a1bb34",
>>>>>>> 03b044928c05aca10f627eea0665560c78e150c1
   "metadata": {},
   "outputs": [],
   "source": [
    "# Display NCBI descriptions for these genes\n",
    "gget_info_neg <- gget$info(neg_moran)\n",
    "\n",
    "rownames(gget_info_neg) <- gget_info_neg$primary_gene_name\n",
    "select(gget_info_neg, ncbi_description)"
   ]
  },
  {
   "cell_type": "code",
   "execution_count": null,
<<<<<<< HEAD
<<<<<<< HEAD
<<<<<<< HEAD
   "id": "85ee9097",
||||||| merged common ancestors
   "id": "e582a71a",
=======
   "id": "a03d707a",
>>>>>>> documentation-devel
||||||| f5a2d7c
   "id": "a03d707a",
=======
   "id": "017b379e",
>>>>>>> documentation-devel
||||||| de7e30d
   "id": "85ee9097",
=======
   "id": "d9899a1d",
>>>>>>> 03b044928c05aca10f627eea0665560c78e150c1
   "metadata": {
    "fig.height": 5,
    "fig.width": 9
   },
   "outputs": [],
   "source": [
    "plotSpatialFeature(sfe_tissue, neg_moran, ncol = 3, swap_rownames = \"symbol\",\n",
    "                   image_id = \"lowres\", maxcell = 5e4)"
   ]
  },
  {
   "cell_type": "code",
   "execution_count": null,
<<<<<<< HEAD
<<<<<<< HEAD
<<<<<<< HEAD
   "id": "be09ab43",
||||||| merged common ancestors
   "id": "fe194cf8",
=======
   "id": "de9698d7",
>>>>>>> documentation-devel
||||||| f5a2d7c
   "id": "de9698d7",
=======
   "id": "9bede759",
>>>>>>> documentation-devel
||||||| de7e30d
   "id": "be09ab43",
=======
   "id": "8c878dff",
>>>>>>> 03b044928c05aca10f627eea0665560c78e150c1
   "metadata": {},
   "outputs": [],
   "source": [
    "sfe_tissue <- runUnivariate(sfe_tissue, \"moran.mc\", neg_moran, \n",
    "                            colGraphName = \"visium\", nsim = 200, alternative = \"less\")"
   ]
  },
  {
   "cell_type": "code",
   "execution_count": null,
<<<<<<< HEAD
<<<<<<< HEAD
<<<<<<< HEAD
   "id": "796de22d",
||||||| merged common ancestors
   "id": "192c54e5",
=======
   "id": "45cfb781",
>>>>>>> documentation-devel
||||||| f5a2d7c
   "id": "45cfb781",
=======
   "id": "7934f580",
>>>>>>> documentation-devel
||||||| de7e30d
   "id": "796de22d",
=======
   "id": "85501b35",
>>>>>>> 03b044928c05aca10f627eea0665560c78e150c1
   "metadata": {},
   "outputs": [],
   "source": [
    "plotMoranMC(sfe_tissue, neg_moran, swap_rownames = \"symbol\")"
   ]
  },
  {
   "cell_type": "code",
   "execution_count": null,
<<<<<<< HEAD
<<<<<<< HEAD
<<<<<<< HEAD
   "id": "697fddf8",
||||||| merged common ancestors
   "id": "daa9fb81",
=======
   "id": "6709626f",
>>>>>>> documentation-devel
||||||| f5a2d7c
   "id": "6709626f",
=======
   "id": "07abddd7",
>>>>>>> documentation-devel
||||||| de7e30d
   "id": "697fddf8",
=======
   "id": "a19890aa",
>>>>>>> 03b044928c05aca10f627eea0665560c78e150c1
   "metadata": {},
   "outputs": [],
   "source": [
    "rowData(sfe_tissue)[neg_moran, c(\"moran_sample01\", \"moran.mc_p.value_sample01\")]"
   ]
  },
  {
   "cell_type": "markdown",
<<<<<<< HEAD
<<<<<<< HEAD
<<<<<<< HEAD
   "id": "9ec8d3c1",
||||||| merged common ancestors
   "id": "35fa8fcf",
=======
   "id": "c5244502",
>>>>>>> documentation-devel
||||||| f5a2d7c
   "id": "c5244502",
=======
   "id": "9678d03c",
>>>>>>> documentation-devel
||||||| de7e30d
   "id": "9ec8d3c1",
=======
   "id": "d29fccb1",
>>>>>>> 03b044928c05aca10f627eea0665560c78e150c1
   "metadata": {},
   "source": [
    "As there are 2000 highly variable genes and 2000 tests, these would no longer be significant after correcting for multiple testing. \n",
    "\n",
    "Does global Moran's I relate to gene expression level?"
   ]
  },
  {
   "cell_type": "code",
   "execution_count": null,
<<<<<<< HEAD
<<<<<<< HEAD
<<<<<<< HEAD
   "id": "ab4b1f23",
||||||| merged common ancestors
   "id": "69343eb8",
=======
   "id": "6f091288",
>>>>>>> documentation-devel
||||||| f5a2d7c
   "id": "6f091288",
=======
   "id": "4c428b45",
>>>>>>> documentation-devel
||||||| de7e30d
   "id": "ab4b1f23",
=======
   "id": "400b2621",
>>>>>>> 03b044928c05aca10f627eea0665560c78e150c1
   "metadata": {},
   "outputs": [],
   "source": [
    "sfe_tissue <- addPerFeatureQCMetrics(sfe_tissue)\n",
    "names(rowData(sfe_tissue))"
   ]
  },
  {
   "cell_type": "code",
   "execution_count": null,
<<<<<<< HEAD
<<<<<<< HEAD
<<<<<<< HEAD
   "id": "d4e318bc",
||||||| merged common ancestors
   "id": "1857b14b",
=======
   "id": "a393d453",
>>>>>>> documentation-devel
||||||| f5a2d7c
   "id": "a393d453",
=======
   "id": "8f49d70e",
>>>>>>> documentation-devel
||||||| de7e30d
   "id": "d4e318bc",
=======
   "id": "e7d95d73",
>>>>>>> 03b044928c05aca10f627eea0665560c78e150c1
   "metadata": {},
   "outputs": [],
   "source": [
    "plotRowData(sfe_tissue, x = \"mean\", y = \"moran_sample01\") +\n",
    "    scale_x_log10() +\n",
    "    annotation_logticks(sides = \"b\") +\n",
    "    geom_density2d()"
   ]
  },
  {
   "cell_type": "markdown",
<<<<<<< HEAD
<<<<<<< HEAD
<<<<<<< HEAD
   "id": "71f11854",
||||||| merged common ancestors
   "id": "20f30027",
=======
   "id": "378e5060",
>>>>>>> documentation-devel
||||||| f5a2d7c
   "id": "378e5060",
=======
   "id": "be61c2af",
>>>>>>> documentation-devel
||||||| de7e30d
   "id": "71f11854",
=======
   "id": "a43e11d0",
>>>>>>> 03b044928c05aca10f627eea0665560c78e150c1
   "metadata": {
    "lines_to_next_cell": 0
   },
   "source": [
    "Genes that are more highly expressed overall tend to have higher Moran's I. \n",
    "\n",
    "# Apply spatial analysis methods to gene expression space\n",
    "Spatial statistics that require a spatial neighborhood graph can also be applied to the k nearest neighbor graph not in histological space but in gene expression space. This is done in more depth in [this vignette](https://pachterlab.github.io/voyager/articles/nonspatial.html)."
   ]
  },
  {
   "cell_type": "code",
   "execution_count": null,
<<<<<<< HEAD
<<<<<<< HEAD
<<<<<<< HEAD
   "id": "1b454bf9",
||||||| merged common ancestors
   "id": "f49da7a2",
=======
   "id": "ba8d21da",
>>>>>>> documentation-devel
||||||| f5a2d7c
   "id": "ba8d21da",
=======
   "id": "372ebd64",
>>>>>>> documentation-devel
||||||| de7e30d
   "id": "1b454bf9",
=======
   "id": "4f300e20",
>>>>>>> 03b044928c05aca10f627eea0665560c78e150c1
   "metadata": {},
   "outputs": [],
   "source": [
    "sfe_tissue <- runPCA(sfe_tissue, ncomponents = 30, subset_row = hvgs,\n",
    "                     scale = TRUE) # scale as in Seurat"
   ]
  },
  {
   "cell_type": "code",
   "execution_count": null,
<<<<<<< HEAD
<<<<<<< HEAD
<<<<<<< HEAD
   "id": "b75d72ed",
||||||| merged common ancestors
   "id": "f4e3bdf3",
=======
   "id": "bbb1a51b",
>>>>>>> documentation-devel
||||||| f5a2d7c
   "id": "bbb1a51b",
=======
   "id": "52c3d050",
>>>>>>> documentation-devel
||||||| de7e30d
   "id": "b75d72ed",
=======
   "id": "bbe6b84c",
>>>>>>> 03b044928c05aca10f627eea0665560c78e150c1
   "metadata": {},
   "outputs": [],
   "source": [
    "foo <- findKNN(reducedDim(sfe_tissue, \"PCA\")[,1:10], k=10, BNPARAM=AnnoyParam())\n",
    "# Split by row\n",
    "foo_nb <- asplit(foo$index, 1)\n",
    "dmat <- 1/foo$distance\n",
    "# Row normalize the weights\n",
    "dmat <- sweep(dmat, 1, rowSums(dmat), FUN = \"/\")\n",
    "glist <- asplit(dmat, 1)\n",
    "# Sort based on index\n",
    "ord <- lapply(foo_nb, order)\n",
    "foo_nb <- lapply(seq_along(foo_nb), function(i) foo_nb[[i]][ord[[i]]])\n",
    "class(foo_nb) <- \"nb\"\n",
    "glist <- lapply(seq_along(glist), function(i) glist[[i]][ord[[i]]])\n",
    "\n",
    "listw <- list(style = \"W\",\n",
    "              neighbours = foo_nb,\n",
    "              weights = glist)\n",
    "class(listw) <- \"listw\"\n",
    "attr(listw, \"region.id\") <- colnames(sfe_tissue)"
   ]
  },
  {
   "cell_type": "code",
   "execution_count": null,
<<<<<<< HEAD
<<<<<<< HEAD
<<<<<<< HEAD
   "id": "27150cc1",
||||||| merged common ancestors
   "id": "c62a6aba",
=======
   "id": "56152b6c",
>>>>>>> documentation-devel
||||||| f5a2d7c
   "id": "56152b6c",
=======
   "id": "f2b5cbd7",
>>>>>>> documentation-devel
||||||| de7e30d
   "id": "27150cc1",
=======
   "id": "66b1ff95",
>>>>>>> 03b044928c05aca10f627eea0665560c78e150c1
   "metadata": {},
   "outputs": [],
   "source": [
    "colGraph(sfe_tissue, \"knn10\") <- listw"
   ]
  },
  {
   "cell_type": "code",
   "execution_count": null,
<<<<<<< HEAD
<<<<<<< HEAD
<<<<<<< HEAD
   "id": "975ba827",
||||||| merged common ancestors
   "id": "9221510f",
=======
   "id": "f0519ad7",
>>>>>>> documentation-devel
||||||| f5a2d7c
   "id": "f0519ad7",
=======
   "id": "a085352f",
>>>>>>> documentation-devel
||||||| de7e30d
   "id": "975ba827",
=======
   "id": "41d938b7",
>>>>>>> 03b044928c05aca10f627eea0665560c78e150c1
   "metadata": {},
   "outputs": [],
   "source": [
    "sfe_tissue <- runMoransI(sfe_tissue, features = hvgs, BPPARAM = MulticoreParam(2),\n",
    "                         colGraphName = \"knn10\", name = \"moran_ns\")"
   ]
  },
  {
   "cell_type": "markdown",
<<<<<<< HEAD
<<<<<<< HEAD
<<<<<<< HEAD
   "id": "a6e3ab6f",
||||||| merged common ancestors
   "id": "3f7bc6cb",
=======
   "id": "a83b3a2b",
>>>>>>> documentation-devel
||||||| f5a2d7c
   "id": "a83b3a2b",
=======
   "id": "78b13226",
>>>>>>> documentation-devel
||||||| de7e30d
   "id": "a6e3ab6f",
=======
   "id": "72a750ce",
>>>>>>> 03b044928c05aca10f627eea0665560c78e150c1
   "metadata": {
    "lines_to_next_cell": 0
   },
   "source": [
    "Here we store the results in \"moran_ns\", not to be confused with spatial Moran's I results.\n",
    "\n",
    "These are the genes that tend to be more similar to their neighbors in the 10 nearest neighbor graph in PCA space for gene expression rather than in histological space:"
   ]
  },
  {
   "cell_type": "code",
   "execution_count": null,
<<<<<<< HEAD
<<<<<<< HEAD
<<<<<<< HEAD
   "id": "2684ea77",
||||||| merged common ancestors
   "id": "63f3be27",
=======
   "id": "7f502b5a",
>>>>>>> documentation-devel
||||||| f5a2d7c
   "id": "7f502b5a",
=======
   "id": "b602d132",
>>>>>>> documentation-devel
||||||| de7e30d
   "id": "2684ea77",
=======
   "id": "0b719be3",
>>>>>>> 03b044928c05aca10f627eea0665560c78e150c1
   "metadata": {},
   "outputs": [],
   "source": [
    "top_moran2 <- rownames(sfe_tissue)[order(rowData(sfe_tissue)$moran_ns_sample01, \n",
    "                                        decreasing = TRUE)[1:9]]"
   ]
  },
  {
   "cell_type": "code",
   "execution_count": null,
<<<<<<< HEAD
<<<<<<< HEAD
<<<<<<< HEAD
   "id": "cd13cc36",
||||||| merged common ancestors
   "id": "bf8728db",
=======
   "id": "efb420b7",
>>>>>>> documentation-devel
||||||| f5a2d7c
   "id": "efb420b7",
=======
   "id": "57e9409d",
>>>>>>> documentation-devel
||||||| de7e30d
   "id": "cd13cc36",
=======
   "id": "56dc939a",
>>>>>>> 03b044928c05aca10f627eea0665560c78e150c1
   "metadata": {},
   "outputs": [],
   "source": [
    "# Display NCBI descriptions for these genes\n",
    "gget_info2 <- gget$info(top_moran2)\n",
    "\n",
    "rownames(gget_info2) <- gget_info2$primary_gene_name\n",
    "select(gget_info2, ncbi_description)"
   ]
  },
  {
   "cell_type": "code",
   "execution_count": null,
<<<<<<< HEAD
<<<<<<< HEAD
<<<<<<< HEAD
   "id": "f68f2013",
||||||| merged common ancestors
   "id": "93b405ad",
=======
   "id": "d97b2a4d",
>>>>>>> documentation-devel
||||||| f5a2d7c
   "id": "d97b2a4d",
=======
   "id": "f76b54e2",
>>>>>>> documentation-devel
||||||| de7e30d
   "id": "f68f2013",
=======
   "id": "f3080b8d",
>>>>>>> 03b044928c05aca10f627eea0665560c78e150c1
   "metadata": {
    "fig.height": 6,
    "fig.width": 9
   },
   "outputs": [],
   "source": [
    "plotSpatialFeature(sfe_tissue, top_moran2, ncol = 3, swap_rownames = \"symbol\",\n",
    "                   image_id = \"lowres\", maxcell = 5e4)"
   ]
  },
  {
   "cell_type": "markdown",
<<<<<<< HEAD
<<<<<<< HEAD
<<<<<<< HEAD
   "id": "2d0014b0",
||||||| merged common ancestors
   "id": "5c0fbdb2",
=======
   "id": "66cf9261",
>>>>>>> documentation-devel
||||||| f5a2d7c
   "id": "66cf9261",
=======
   "id": "98ef647d",
>>>>>>> documentation-devel
||||||| de7e30d
   "id": "2d0014b0",
=======
   "id": "b84fe580",
>>>>>>> 03b044928c05aca10f627eea0665560c78e150c1
   "metadata": {},
   "source": [
    "Although this Moran's I was not computed in histological space, these genes with the highest Moran's I in PCA space also show spatial structure, as different cell types reside in different spatial regions.\n",
    "\n",
    "# Session info"
   ]
  },
  {
   "cell_type": "code",
   "execution_count": null,
<<<<<<< HEAD
<<<<<<< HEAD
<<<<<<< HEAD
   "id": "966118fa",
||||||| merged common ancestors
   "id": "4386f5f6",
=======
   "id": "0889ccde",
>>>>>>> documentation-devel
||||||| f5a2d7c
   "id": "0889ccde",
=======
   "id": "b99dfe37",
>>>>>>> documentation-devel
||||||| de7e30d
   "id": "966118fa",
=======
   "id": "6bb560ec",
>>>>>>> 03b044928c05aca10f627eea0665560c78e150c1
   "metadata": {
    "lines_to_next_cell": 0
   },
   "outputs": [],
   "source": [
    "sessionInfo()"
   ]
  },
  {
   "cell_type": "markdown",
<<<<<<< HEAD
<<<<<<< HEAD
<<<<<<< HEAD
   "id": "5a53b741",
||||||| merged common ancestors
   "id": "86308df3",
=======
   "id": "83087343",
>>>>>>> documentation-devel
||||||| f5a2d7c
   "id": "83087343",
=======
   "id": "3e97137b",
>>>>>>> documentation-devel
||||||| de7e30d
   "id": "5a53b741",
=======
   "id": "48c98c5e",
>>>>>>> 03b044928c05aca10f627eea0665560c78e150c1
   "metadata": {},
   "source": []
  }
 ],
 "metadata": {
  "kernelspec": {
   "display_name": "R",
   "language": "R",
   "name": "ir"
  }
 },
 "nbformat": 4,
 "nbformat_minor": 5
}
