{
 "cells": [
  {
   "cell_type": "raw",
<<<<<<< HEAD
<<<<<<< HEAD
<<<<<<< HEAD
   "id": "e523f745",
||||||| 3477967
   "id": "abc77134",
=======
   "id": "5b27106d",
>>>>>>> 763a65aa00deab365d39bc26b2dcb2cc1410a666
||||||| eb63ff5
   "id": "e523f745",
=======
   "id": "2866359e",
>>>>>>> documentation-devel
||||||| cd53b20
<<<<<<< HEAD
   "id": "e523f745",
||||||| 3477967
   "id": "abc77134",
=======
   "id": "5b27106d",
>>>>>>> 763a65aa00deab365d39bc26b2dcb2cc1410a666
=======
   "id": "62011c61",
>>>>>>> 61c8f4bff1b7848db82b013fbfba194514b420ca
   "metadata": {},
   "source": [
    "---\n",
    "title: \"Spatial analysis of 10X example Visium dataset\"\n",
    "author: \"Lambda Moses\"\n",
    "date: \"`r Sys.Date()`\"\n",
    "output: \n",
    "  html_document:\n",
    "  toc: true\n",
    "  toc_float:\n",
    "    collapsed: false\n",
    "  toc_depth: 3\n",
    "bibliography: ref.bib\n",
    "vignette: >\n",
    "  %\\VignetteIndexEntry{visium_10x_spatial}\n",
    "  %\\VignetteEngine{knitr::rmarkdown}\n",
    "  %\\VignetteEncoding{UTF-8}\n",
    "---"
   ]
  },
  {
   "cell_type": "code",
   "execution_count": null,
<<<<<<< HEAD
<<<<<<< HEAD
<<<<<<< HEAD
   "id": "98b44e3a",
||||||| 3477967
   "id": "b1ae08ea",
=======
   "id": "c584fa24",
>>>>>>> 763a65aa00deab365d39bc26b2dcb2cc1410a666
||||||| eb63ff5
   "id": "98b44e3a",
=======
   "id": "1b5d5893",
>>>>>>> documentation-devel
||||||| cd53b20
<<<<<<< HEAD
   "id": "98b44e3a",
||||||| 3477967
   "id": "b1ae08ea",
=======
   "id": "c584fa24",
>>>>>>> 763a65aa00deab365d39bc26b2dcb2cc1410a666
=======
   "id": "73a811ad",
>>>>>>> 61c8f4bff1b7848db82b013fbfba194514b420ca
   "metadata": {
    "tags": [
     "remove_cell"
    ]
   },
   "outputs": [],
   "source": [
    "knitr::opts_chunk$set(\n",
    "  collapse = TRUE,\n",
    "  comment = \"#>\"\n",
    ")"
   ]
  },
  {
   "cell_type": "code",
   "execution_count": null,
<<<<<<< HEAD
<<<<<<< HEAD
<<<<<<< HEAD
   "id": "08864c36",
||||||| 3477967
   "id": "9a2332ca",
=======
   "id": "e39a420a",
>>>>>>> 763a65aa00deab365d39bc26b2dcb2cc1410a666
||||||| eb63ff5
   "id": "08864c36",
=======
   "id": "59e8fb4e",
>>>>>>> documentation-devel
||||||| cd53b20
<<<<<<< HEAD
   "id": "08864c36",
||||||| 3477967
   "id": "9a2332ca",
=======
   "id": "e39a420a",
>>>>>>> 763a65aa00deab365d39bc26b2dcb2cc1410a666
=======
   "id": "0c5b56f0",
>>>>>>> 61c8f4bff1b7848db82b013fbfba194514b420ca
   "metadata": {
    "eval": false,
    "tags": [
     "remove_cell"
    ]
   },
   "outputs": [],
   "source": [
    "# Install Google Colab dependencies\n",
    "# Note: this can take 30+ minutes (many of the dependencies include C++ code, which needs to be compiled)\n",
    "\n",
    "# First install `sf`, `ragg` and `textshaping` and their system dependencies:\n",
    "system(\"apt-get -y update && apt-get install -y  libudunits2-dev libgdal-dev libgeos-dev libproj-dev libharfbuzz-dev libfribidi-dev\")\n",
    "install.packages(\"sf\")\n",
    "install.packages(\"textshaping\")\n",
    "install.packages(\"ragg\")\n",
    "\n",
    "# Install system dependencies of some other R packages that Voyager either imports or suggests:\n",
    "system(\"apt-get install -y libfribidi-dev libcairo2-dev libmagick++-dev\")\n",
    "\n",
    "# Install Voyager from Bioconductor:\n",
    "install.packages(\"BiocManager\")\n",
    "BiocManager::install(version = \"3.17\", ask = FALSE, update = FALSE, Ncpus = 2)\n",
    "BiocManager::install(\"scater\")\n",
    "system.time(\n",
    "  BiocManager::install(\"Voyager\", dependencies = TRUE, Ncpus = 2, update = FALSE)\n",
    ")\n",
    "\n",
    "# Additional dependencies for this notebook\n",
    "system(\"apt-get install -y libfftw3-dev libprotobuf-dev\")\n",
    "BiocManager::install(\"EBImage\")\n",
    "BiocManager::install(\"terra\")\n",
    "BiocManager::install(\"rmapshaper\")\n",
    "install.packages(\"reticulate\")\n",
    "\n",
    "packageVersion(\"Voyager\")"
   ]
  },
  {
   "cell_type": "markdown",
<<<<<<< HEAD
<<<<<<< HEAD
<<<<<<< HEAD
   "id": "b1954e8a",
||||||| 3477967
   "id": "bc802498",
=======
   "id": "a8204baa",
>>>>>>> 763a65aa00deab365d39bc26b2dcb2cc1410a666
||||||| eb63ff5
   "id": "b1954e8a",
=======
   "id": "f83a403d",
>>>>>>> documentation-devel
||||||| cd53b20
<<<<<<< HEAD
   "id": "b1954e8a",
||||||| 3477967
   "id": "bc802498",
=======
   "id": "a8204baa",
>>>>>>> 763a65aa00deab365d39bc26b2dcb2cc1410a666
=======
   "id": "7e956a8c",
>>>>>>> 61c8f4bff1b7848db82b013fbfba194514b420ca
   "metadata": {
    "lines_to_next_cell": 0
   },
   "source": [
    "# Introduction\n",
    "In a [more introductory vignette](https://pachterlab.github.io/voyager/articles/visium_10x.html), we performed basic non-spatial analyses on a mouse olfactory bulb Visium dataset from the 10X website. In this vignette, we perform spatial analyses in histological space as well as in gene expression space. \n",
    "\n",
    "Here we load the packages used in this vignette:"
   ]
  },
  {
   "cell_type": "code",
   "execution_count": null,
<<<<<<< HEAD
<<<<<<< HEAD
<<<<<<< HEAD
   "id": "d877488a",
||||||| 3477967
   "id": "f60277ac",
=======
   "id": "7333f5ee",
>>>>>>> 763a65aa00deab365d39bc26b2dcb2cc1410a666
||||||| eb63ff5
   "id": "d877488a",
=======
   "id": "a315e87b",
>>>>>>> documentation-devel
||||||| cd53b20
<<<<<<< HEAD
   "id": "d877488a",
||||||| 3477967
   "id": "f60277ac",
=======
   "id": "7333f5ee",
>>>>>>> 763a65aa00deab365d39bc26b2dcb2cc1410a666
=======
   "id": "0b52b656",
>>>>>>> 61c8f4bff1b7848db82b013fbfba194514b420ca
   "metadata": {},
   "outputs": [],
   "source": [
    "library(Voyager)\n",
    "library(SpatialFeatureExperiment)\n",
    "library(SingleCellExperiment)\n",
    "library(ggplot2)\n",
    "library(scater)\n",
    "library(scuttle)\n",
    "library(scran)\n",
    "library(stringr)\n",
    "library(patchwork)\n",
    "library(bluster)\n",
    "library(rjson)\n",
    "library(EBImage)\n",
    "library(terra)\n",
    "library(rlang)\n",
    "library(sf)\n",
    "library(rmapshaper)\n",
    "library(dplyr)\n",
    "library(BiocParallel)\n",
    "library(BiocNeighbors)\n",
    "library(reticulate)\n",
    "theme_set(theme_bw())"
   ]
  },
  {
   "cell_type": "code",
   "execution_count": null,
<<<<<<< HEAD
<<<<<<< HEAD
<<<<<<< HEAD
   "id": "75455ca0",
||||||| 3477967
   "id": "ec04c416",
=======
   "id": "56af8cf2",
>>>>>>> 763a65aa00deab365d39bc26b2dcb2cc1410a666
||||||| eb63ff5
   "id": "75455ca0",
=======
   "id": "7ac10c14",
>>>>>>> documentation-devel
||||||| cd53b20
<<<<<<< HEAD
   "id": "75455ca0",
||||||| 3477967
   "id": "ec04c416",
=======
   "id": "56af8cf2",
>>>>>>> 763a65aa00deab365d39bc26b2dcb2cc1410a666
=======
   "id": "ba6c07c4",
>>>>>>> 61c8f4bff1b7848db82b013fbfba194514b420ca
   "metadata": {},
   "outputs": [],
   "source": [
    "# Specify Python version to use gget\n",
    "PY_PATH <- system(\"which python\", intern = TRUE)\n",
    "use_python(PY_PATH)\n",
    "py_config()"
   ]
  },
  {
   "cell_type": "code",
   "execution_count": null,
<<<<<<< HEAD
<<<<<<< HEAD
<<<<<<< HEAD
   "id": "41057d8d",
||||||| 3477967
   "id": "c5503b2d",
=======
   "id": "b1c207d9",
>>>>>>> 763a65aa00deab365d39bc26b2dcb2cc1410a666
||||||| eb63ff5
   "id": "41057d8d",
=======
   "id": "73136895",
>>>>>>> documentation-devel
||||||| cd53b20
<<<<<<< HEAD
   "id": "41057d8d",
||||||| 3477967
   "id": "c5503b2d",
=======
   "id": "b1c207d9",
>>>>>>> 763a65aa00deab365d39bc26b2dcb2cc1410a666
=======
   "id": "9d51457f",
>>>>>>> 61c8f4bff1b7848db82b013fbfba194514b420ca
   "metadata": {
    "eval": false,
    "tags": [
     "remove_cell"
    ]
   },
   "outputs": [],
   "source": [
    "system(\"pip3 install gget\")"
   ]
  },
  {
   "cell_type": "code",
   "execution_count": null,
<<<<<<< HEAD
<<<<<<< HEAD
<<<<<<< HEAD
   "id": "d31fea14",
||||||| 3477967
   "id": "bcb1adfb",
=======
   "id": "d55f3f57",
>>>>>>> 763a65aa00deab365d39bc26b2dcb2cc1410a666
||||||| eb63ff5
   "id": "d31fea14",
=======
   "id": "57d30117",
>>>>>>> documentation-devel
||||||| cd53b20
<<<<<<< HEAD
   "id": "d31fea14",
||||||| 3477967
   "id": "bcb1adfb",
=======
   "id": "d55f3f57",
>>>>>>> 763a65aa00deab365d39bc26b2dcb2cc1410a666
=======
   "id": "ea7957ad",
>>>>>>> 61c8f4bff1b7848db82b013fbfba194514b420ca
   "metadata": {},
   "outputs": [],
   "source": [
    "gget <- import(\"gget\")"
   ]
  },
  {
   "cell_type": "markdown",
<<<<<<< HEAD
<<<<<<< HEAD
<<<<<<< HEAD
   "id": "d773d0f7",
||||||| 3477967
   "id": "7fac7151",
=======
   "id": "86097e77",
>>>>>>> 763a65aa00deab365d39bc26b2dcb2cc1410a666
||||||| eb63ff5
   "id": "d773d0f7",
=======
   "id": "722b5281",
>>>>>>> documentation-devel
||||||| cd53b20
<<<<<<< HEAD
   "id": "d773d0f7",
||||||| 3477967
   "id": "7fac7151",
=======
   "id": "86097e77",
>>>>>>> 763a65aa00deab365d39bc26b2dcb2cc1410a666
=======
   "id": "70637bd7",
>>>>>>> 61c8f4bff1b7848db82b013fbfba194514b420ca
   "metadata": {
    "lines_to_next_cell": 0
   },
   "source": [
    "Here we download the data from the 10X website. This is the unfiltered gene count matrix:"
   ]
  },
  {
   "cell_type": "code",
   "execution_count": null,
<<<<<<< HEAD
<<<<<<< HEAD
<<<<<<< HEAD
   "id": "bb3c3f5e",
||||||| 3477967
   "id": "b3e3d353",
=======
   "id": "8a3d62fc",
>>>>>>> 763a65aa00deab365d39bc26b2dcb2cc1410a666
||||||| eb63ff5
   "id": "bb3c3f5e",
=======
   "id": "2fec0916",
>>>>>>> documentation-devel
||||||| cd53b20
<<<<<<< HEAD
   "id": "bb3c3f5e",
||||||| 3477967
   "id": "b3e3d353",
=======
   "id": "8a3d62fc",
>>>>>>> 763a65aa00deab365d39bc26b2dcb2cc1410a666
=======
   "id": "65b4690c",
>>>>>>> 61c8f4bff1b7848db82b013fbfba194514b420ca
   "metadata": {},
   "outputs": [],
   "source": [
    "if (!file.exists(\"visium_ob.tar.gz\"))\n",
    "    download.file(\"https://cf.10xgenomics.com/samples/spatial-exp/2.0.0/Visium_Mouse_Olfactory_Bulb/Visium_Mouse_Olfactory_Bulb_raw_feature_bc_matrix.tar.gz\", \n",
    "                  destfile = \"visium_ob.tar.gz\")"
   ]
  },
  {
   "cell_type": "markdown",
<<<<<<< HEAD
<<<<<<< HEAD
<<<<<<< HEAD
   "id": "70b4b16b",
||||||| 3477967
   "id": "a3046b1d",
=======
   "id": "e8e2b2c2",
>>>>>>> 763a65aa00deab365d39bc26b2dcb2cc1410a666
||||||| eb63ff5
   "id": "70b4b16b",
=======
   "id": "90a4412b",
>>>>>>> documentation-devel
||||||| cd53b20
<<<<<<< HEAD
   "id": "70b4b16b",
||||||| 3477967
   "id": "a3046b1d",
=======
   "id": "e8e2b2c2",
>>>>>>> 763a65aa00deab365d39bc26b2dcb2cc1410a666
=======
   "id": "4b0fc148",
>>>>>>> 61c8f4bff1b7848db82b013fbfba194514b420ca
   "metadata": {
    "lines_to_next_cell": 0
   },
   "source": [
    "This is the spatial information:"
   ]
  },
  {
   "cell_type": "code",
   "execution_count": null,
<<<<<<< HEAD
<<<<<<< HEAD
<<<<<<< HEAD
   "id": "07ee3653",
||||||| 3477967
   "id": "00b4216e",
=======
   "id": "cd61bdb6",
>>>>>>> 763a65aa00deab365d39bc26b2dcb2cc1410a666
||||||| eb63ff5
   "id": "07ee3653",
=======
   "id": "93a8b5a7",
>>>>>>> documentation-devel
||||||| cd53b20
<<<<<<< HEAD
   "id": "07ee3653",
||||||| 3477967
   "id": "00b4216e",
=======
   "id": "cd61bdb6",
>>>>>>> 763a65aa00deab365d39bc26b2dcb2cc1410a666
=======
   "id": "b7e6afa4",
>>>>>>> 61c8f4bff1b7848db82b013fbfba194514b420ca
   "metadata": {},
   "outputs": [],
   "source": [
    "if (!file.exists(\"visium_ob_spatial.tar.gz\"))\n",
    "    download.file(\"https://cf.10xgenomics.com/samples/spatial-exp/2.0.0/Visium_Mouse_Olfactory_Bulb/Visium_Mouse_Olfactory_Bulb_spatial.tar.gz\", \n",
    "                  destfile = \"visium_ob_spatial.tar.gz\")"
   ]
  },
  {
   "cell_type": "markdown",
<<<<<<< HEAD
<<<<<<< HEAD
<<<<<<< HEAD
   "id": "f3f0ecc2",
||||||| 3477967
   "id": "83e9f5e3",
=======
   "id": "60fc6e63",
>>>>>>> 763a65aa00deab365d39bc26b2dcb2cc1410a666
||||||| eb63ff5
   "id": "f3f0ecc2",
=======
   "id": "c22441fb",
>>>>>>> documentation-devel
||||||| cd53b20
<<<<<<< HEAD
   "id": "f3f0ecc2",
||||||| 3477967
   "id": "83e9f5e3",
=======
   "id": "60fc6e63",
>>>>>>> 763a65aa00deab365d39bc26b2dcb2cc1410a666
=======
   "id": "79ece86b",
>>>>>>> 61c8f4bff1b7848db82b013fbfba194514b420ca
   "metadata": {
    "lines_to_next_cell": 0
   },
   "source": [
    "Decompress the downloaded content:"
   ]
  },
  {
   "cell_type": "code",
   "execution_count": null,
<<<<<<< HEAD
<<<<<<< HEAD
<<<<<<< HEAD
   "id": "86276714",
||||||| 3477967
   "id": "11ab3639",
=======
   "id": "5a9f2af3",
>>>>>>> 763a65aa00deab365d39bc26b2dcb2cc1410a666
||||||| eb63ff5
   "id": "86276714",
=======
   "id": "0345ab05",
>>>>>>> documentation-devel
||||||| cd53b20
<<<<<<< HEAD
   "id": "86276714",
||||||| 3477967
   "id": "11ab3639",
=======
   "id": "5a9f2af3",
>>>>>>> 763a65aa00deab365d39bc26b2dcb2cc1410a666
=======
   "id": "3a41e37f",
>>>>>>> 61c8f4bff1b7848db82b013fbfba194514b420ca
   "metadata": {},
   "outputs": [],
   "source": [
    "if (!dir.exists(\"outs\")) {\n",
    "    dir.create(\"outs\")\n",
    "    system(\"tar -xvf visium_ob.tar.gz -C outs\")\n",
    "    system(\"tar -xvf visium_ob_spatial.tar.gz -C outs\")\n",
    "}"
   ]
  },
  {
   "cell_type": "markdown",
<<<<<<< HEAD
<<<<<<< HEAD
<<<<<<< HEAD
   "id": "b6df84ad",
||||||| 3477967
   "id": "b0246027",
=======
   "id": "654e4943",
>>>>>>> 763a65aa00deab365d39bc26b2dcb2cc1410a666
||||||| eb63ff5
   "id": "b6df84ad",
=======
   "id": "f0665b70",
>>>>>>> documentation-devel
||||||| cd53b20
<<<<<<< HEAD
   "id": "b6df84ad",
||||||| 3477967
   "id": "b0246027",
=======
   "id": "654e4943",
>>>>>>> 763a65aa00deab365d39bc26b2dcb2cc1410a666
=======
   "id": "6de423ca",
>>>>>>> 61c8f4bff1b7848db82b013fbfba194514b420ca
   "metadata": {
    "lines_to_next_cell": 0
   },
   "source": [
    "Contents of the `outs` directory as from Space Ranger is explained in [the introductory vignette](https://pachterlab.github.io/voyager/articles/visium_10x.html).\n",
    "\n",
    "Here we read the data into R as an SFE object."
   ]
  },
  {
   "cell_type": "code",
   "execution_count": null,
<<<<<<< HEAD
<<<<<<< HEAD
<<<<<<< HEAD
   "id": "b03f5324",
||||||| 3477967
   "id": "1d18e505",
=======
   "id": "8e2fed26",
>>>>>>> 763a65aa00deab365d39bc26b2dcb2cc1410a666
||||||| eb63ff5
   "id": "b03f5324",
=======
   "id": "845d1e79",
>>>>>>> documentation-devel
||||||| cd53b20
<<<<<<< HEAD
   "id": "b03f5324",
||||||| 3477967
   "id": "1d18e505",
=======
   "id": "8e2fed26",
>>>>>>> 763a65aa00deab365d39bc26b2dcb2cc1410a666
=======
   "id": "b931873d",
>>>>>>> 61c8f4bff1b7848db82b013fbfba194514b420ca
   "metadata": {},
   "outputs": [],
   "source": [
    "(sfe <- read10xVisiumSFE(samples = \".\", type = \"sparse\", data = \"raw\"))"
   ]
  },
  {
   "cell_type": "markdown",
<<<<<<< HEAD
<<<<<<< HEAD
<<<<<<< HEAD
   "id": "ecccffe7",
||||||| 3477967
   "id": "1a1702d7",
=======
   "id": "8c6db55a",
>>>>>>> 763a65aa00deab365d39bc26b2dcb2cc1410a666
||||||| eb63ff5
   "id": "ecccffe7",
=======
   "id": "f7c63903",
>>>>>>> documentation-devel
||||||| cd53b20
<<<<<<< HEAD
   "id": "ecccffe7",
||||||| 3477967
   "id": "1a1702d7",
=======
   "id": "8c6db55a",
>>>>>>> 763a65aa00deab365d39bc26b2dcb2cc1410a666
=======
   "id": "325db943",
>>>>>>> 61c8f4bff1b7848db82b013fbfba194514b420ca
   "metadata": {},
   "source": [
    "Here we add QC metrics, already plotted in the introductory vignette."
   ]
  },
  {
   "cell_type": "code",
   "execution_count": null,
<<<<<<< HEAD
<<<<<<< HEAD
<<<<<<< HEAD
   "id": "ef35e260",
||||||| 3477967
   "id": "1fa5f3f3",
=======
   "id": "47436bfc",
>>>>>>> 763a65aa00deab365d39bc26b2dcb2cc1410a666
||||||| eb63ff5
   "id": "ef35e260",
=======
   "id": "51479e39",
>>>>>>> documentation-devel
||||||| cd53b20
<<<<<<< HEAD
   "id": "ef35e260",
||||||| 3477967
   "id": "1fa5f3f3",
=======
   "id": "47436bfc",
>>>>>>> 763a65aa00deab365d39bc26b2dcb2cc1410a666
=======
   "id": "2e7eabb0",
>>>>>>> 61c8f4bff1b7848db82b013fbfba194514b420ca
   "metadata": {},
   "outputs": [],
   "source": [
    "is_mt <- str_detect(rowData(sfe)$symbol, \"^mt-\")"
   ]
  },
  {
   "cell_type": "code",
   "execution_count": null,
<<<<<<< HEAD
<<<<<<< HEAD
<<<<<<< HEAD
   "id": "5748af71",
||||||| 3477967
   "id": "c46bab1e",
=======
   "id": "20b99205",
>>>>>>> 763a65aa00deab365d39bc26b2dcb2cc1410a666
||||||| eb63ff5
   "id": "5748af71",
=======
   "id": "b81815d6",
>>>>>>> documentation-devel
||||||| cd53b20
<<<<<<< HEAD
   "id": "5748af71",
||||||| 3477967
   "id": "c46bab1e",
=======
   "id": "20b99205",
>>>>>>> 763a65aa00deab365d39bc26b2dcb2cc1410a666
=======
   "id": "d8f80aec",
>>>>>>> 61c8f4bff1b7848db82b013fbfba194514b420ca
   "metadata": {},
   "outputs": [],
   "source": [
    "sfe <- addPerCellQCMetrics(sfe, subsets = list(mito = is_mt))"
   ]
  },
  {
   "cell_type": "markdown",
<<<<<<< HEAD
<<<<<<< HEAD
<<<<<<< HEAD
   "id": "351e3a3d",
||||||| 3477967
   "id": "32584276",
=======
   "id": "3a1f9ab6",
>>>>>>> 763a65aa00deab365d39bc26b2dcb2cc1410a666
||||||| eb63ff5
   "id": "351e3a3d",
=======
   "id": "af078452",
>>>>>>> documentation-devel
||||||| cd53b20
<<<<<<< HEAD
   "id": "351e3a3d",
||||||| 3477967
   "id": "32584276",
=======
   "id": "3a1f9ab6",
>>>>>>> 763a65aa00deab365d39bc26b2dcb2cc1410a666
=======
   "id": "b8c7d7de",
>>>>>>> 61c8f4bff1b7848db82b013fbfba194514b420ca
   "metadata": {},
   "source": [
    "# Tissue segmentation\n",
    "While Space Ranger can automatically detect which spots are in tissue and the Loupe browser can be used to manually annotate which spots are in tissue, it may be interesting to get the tissue outline polygon, so we would know how much each spot overlaps with the tissue and plot the outline. The tissue boundary polygon can be manually annotated with QuPath, which saves the polygon as a GeoJSON and can be directly read into R with `st_read()`. \n",
    "\n",
    "Or we can segment the tissue computationally. R generally isn't great for image processing, but there are some packages that can perform the segmentation, such as [`EBImage`](https://bioconductor.org/packages/release/bioc/html/EBImage.html), which is based on its own in house C and C++ code, and [`imager`](https://github.com/dahtah/imager/), which is based on [`CImg`](http://cimg.eu/).\n",
    "\n",
    "Here we don't have the full resolution image. We will perform tissue segmentation on the high resolution downsampled image and then scale it to make the coordinates of the tissue boundary match those of the spots. The `EBImage` package is used here. Compared to OpenCV, `EBImage` is slow on the full resolution image, but should be fine here for the downsized image."
   ]
  },
  {
   "cell_type": "code",
   "execution_count": null,
<<<<<<< HEAD
<<<<<<< HEAD
<<<<<<< HEAD
   "id": "ad33df2b",
||||||| 3477967
   "id": "196adde2",
=======
   "id": "7ed48fd4",
>>>>>>> 763a65aa00deab365d39bc26b2dcb2cc1410a666
||||||| eb63ff5
   "id": "ad33df2b",
=======
   "id": "54db7574",
>>>>>>> documentation-devel
||||||| cd53b20
<<<<<<< HEAD
   "id": "ad33df2b",
||||||| 3477967
   "id": "196adde2",
=======
   "id": "7ed48fd4",
>>>>>>> 763a65aa00deab365d39bc26b2dcb2cc1410a666
=======
   "id": "8a5d539d",
>>>>>>> 61c8f4bff1b7848db82b013fbfba194514b420ca
   "metadata": {},
   "outputs": [],
   "source": [
    "img <- readImage(\"outs/spatial/tissue_hires_image.png\")\n",
    "display(img)"
   ]
  },
  {
   "cell_type": "markdown",
<<<<<<< HEAD
<<<<<<< HEAD
<<<<<<< HEAD
   "id": "a11a8265",
||||||| 3477967
   "id": "588a23a0",
=======
   "id": "9ab9b98b",
>>>>>>> 763a65aa00deab365d39bc26b2dcb2cc1410a666
||||||| eb63ff5
   "id": "a11a8265",
=======
   "id": "40a73192",
>>>>>>> documentation-devel
||||||| cd53b20
<<<<<<< HEAD
   "id": "a11a8265",
||||||| 3477967
   "id": "588a23a0",
=======
   "id": "9ab9b98b",
>>>>>>> 763a65aa00deab365d39bc26b2dcb2cc1410a666
=======
   "id": "f6dcfe44",
>>>>>>> 61c8f4bff1b7848db82b013fbfba194514b420ca
   "metadata": {
    "lines_to_next_cell": 0
   },
   "source": [
    "When rendered as a static webpage, the image is static, but when run interactively, this image will be shown in an interactive widget where you can zoom and pan.\n",
    "\n",
    "Here we show the RGB channels separately"
   ]
  },
  {
   "cell_type": "code",
   "execution_count": null,
<<<<<<< HEAD
<<<<<<< HEAD
<<<<<<< HEAD
   "id": "dcaffdbe",
||||||| 3477967
   "id": "4fc7b0af",
=======
   "id": "0352ee81",
>>>>>>> 763a65aa00deab365d39bc26b2dcb2cc1410a666
||||||| eb63ff5
   "id": "dcaffdbe",
=======
   "id": "8bba6966",
>>>>>>> documentation-devel
||||||| cd53b20
<<<<<<< HEAD
   "id": "dcaffdbe",
||||||| 3477967
   "id": "4fc7b0af",
=======
   "id": "0352ee81",
>>>>>>> 763a65aa00deab365d39bc26b2dcb2cc1410a666
=======
   "id": "25c8102c",
>>>>>>> 61c8f4bff1b7848db82b013fbfba194514b420ca
   "metadata": {},
   "outputs": [],
   "source": [
    "img2 <- img\n",
    "colorMode(img2) <- Grayscale\n",
    "display(img2, all = TRUE)"
   ]
  },
  {
   "cell_type": "code",
   "execution_count": null,
<<<<<<< HEAD
<<<<<<< HEAD
<<<<<<< HEAD
   "id": "8bee89a4",
||||||| 3477967
   "id": "b55aa815",
=======
   "id": "07ca7b8a",
>>>>>>> 763a65aa00deab365d39bc26b2dcb2cc1410a666
||||||| eb63ff5
   "id": "8bee89a4",
=======
   "id": "836194e8",
>>>>>>> documentation-devel
||||||| cd53b20
<<<<<<< HEAD
   "id": "8bee89a4",
||||||| 3477967
   "id": "b55aa815",
=======
   "id": "07ca7b8a",
>>>>>>> 763a65aa00deab365d39bc26b2dcb2cc1410a666
=======
   "id": "f24663bc",
>>>>>>> 61c8f4bff1b7848db82b013fbfba194514b420ca
   "metadata": {},
   "outputs": [],
   "source": [
    "hist(img)"
   ]
  },
  {
   "cell_type": "markdown",
<<<<<<< HEAD
<<<<<<< HEAD
<<<<<<< HEAD
   "id": "9402abd6",
||||||| 3477967
   "id": "c14eb546",
=======
   "id": "313a1e3c",
>>>>>>> 763a65aa00deab365d39bc26b2dcb2cc1410a666
||||||| eb63ff5
   "id": "9402abd6",
=======
   "id": "0867d810",
>>>>>>> documentation-devel
||||||| cd53b20
<<<<<<< HEAD
   "id": "9402abd6",
||||||| 3477967
   "id": "c14eb546",
=======
   "id": "313a1e3c",
>>>>>>> 763a65aa00deab365d39bc26b2dcb2cc1410a666
=======
   "id": "a70cbd76",
>>>>>>> 61c8f4bff1b7848db82b013fbfba194514b420ca
   "metadata": {},
   "source": [
    "The tissue can be discerned with thresholding. The tall peak on the right is the background. The much lower peaks from around 0.6 to 0.85 must be the tissue. To capture the faint bluish region, the blue channel is used for thresholding. The threshold here is chosen based on the histogram and experimenting with nearby values."
   ]
  },
  {
   "cell_type": "code",
   "execution_count": null,
<<<<<<< HEAD
<<<<<<< HEAD
<<<<<<< HEAD
   "id": "3dfdc907",
||||||| 3477967
   "id": "a2f26935",
=======
   "id": "50837271",
>>>>>>> 763a65aa00deab365d39bc26b2dcb2cc1410a666
||||||| eb63ff5
   "id": "3dfdc907",
=======
   "id": "a6276a24",
>>>>>>> documentation-devel
||||||| cd53b20
<<<<<<< HEAD
   "id": "3dfdc907",
||||||| 3477967
   "id": "a2f26935",
=======
   "id": "50837271",
>>>>>>> 763a65aa00deab365d39bc26b2dcb2cc1410a666
=======
   "id": "cd80a7d0",
>>>>>>> 61c8f4bff1b7848db82b013fbfba194514b420ca
   "metadata": {},
   "outputs": [],
   "source": [
    "mask <- img2[,,3] < 0.87\n",
    "display(mask)"
   ]
  },
  {
   "cell_type": "markdown",
<<<<<<< HEAD
<<<<<<< HEAD
<<<<<<< HEAD
   "id": "1a5e5e9e",
||||||| 3477967
   "id": "77dab8b5",
=======
   "id": "1e8df406",
>>>>>>> 763a65aa00deab365d39bc26b2dcb2cc1410a666
||||||| eb63ff5
   "id": "1a5e5e9e",
=======
   "id": "dc3eb30c",
>>>>>>> documentation-devel
||||||| cd53b20
<<<<<<< HEAD
   "id": "1a5e5e9e",
||||||| 3477967
   "id": "77dab8b5",
=======
   "id": "1e8df406",
>>>>>>> 763a65aa00deab365d39bc26b2dcb2cc1410a666
=======
   "id": "8c8ac612",
>>>>>>> 61c8f4bff1b7848db82b013fbfba194514b420ca
   "metadata": {
    "lines_to_next_cell": 0
   },
   "source": [
    "Then we use an opening operation (erosion followed by dilation) to denoise"
   ]
  },
  {
   "cell_type": "code",
   "execution_count": null,
<<<<<<< HEAD
<<<<<<< HEAD
<<<<<<< HEAD
   "id": "a7716cb7",
||||||| 3477967
   "id": "9347e81c",
=======
   "id": "f2973f61",
>>>>>>> 763a65aa00deab365d39bc26b2dcb2cc1410a666
||||||| eb63ff5
   "id": "a7716cb7",
=======
   "id": "d74283ff",
>>>>>>> documentation-devel
||||||| cd53b20
<<<<<<< HEAD
   "id": "a7716cb7",
||||||| 3477967
   "id": "9347e81c",
=======
   "id": "f2973f61",
>>>>>>> 763a65aa00deab365d39bc26b2dcb2cc1410a666
=======
   "id": "1c13e8db",
>>>>>>> 61c8f4bff1b7848db82b013fbfba194514b420ca
   "metadata": {},
   "outputs": [],
   "source": [
    "kern <- makeBrush(3, shape='disc')\n",
    "mask_open <- opening(mask, kern)\n",
    "display(mask_open)"
   ]
  },
  {
   "cell_type": "markdown",
<<<<<<< HEAD
<<<<<<< HEAD
<<<<<<< HEAD
   "id": "e32fcc78",
||||||| 3477967
   "id": "4b40ead6",
=======
   "id": "282dde72",
>>>>>>> 763a65aa00deab365d39bc26b2dcb2cc1410a666
||||||| eb63ff5
   "id": "e32fcc78",
=======
   "id": "fe9a98c0",
>>>>>>> documentation-devel
||||||| cd53b20
<<<<<<< HEAD
   "id": "e32fcc78",
||||||| 3477967
   "id": "4b40ead6",
=======
   "id": "282dde72",
>>>>>>> 763a65aa00deab365d39bc26b2dcb2cc1410a666
=======
   "id": "de7620bf",
>>>>>>> 61c8f4bff1b7848db82b013fbfba194514b420ca
   "metadata": {
    "lines_to_next_cell": 0
   },
   "source": [
    "There are some small holes in the tissue, which can be removed by a closing operation (dilation followed by erosion):"
   ]
  },
  {
   "cell_type": "code",
   "execution_count": null,
<<<<<<< HEAD
<<<<<<< HEAD
<<<<<<< HEAD
   "id": "b9edd510",
||||||| 3477967
   "id": "a3b39229",
=======
   "id": "60d5ae4d",
>>>>>>> 763a65aa00deab365d39bc26b2dcb2cc1410a666
||||||| eb63ff5
   "id": "b9edd510",
=======
   "id": "3470dc86",
>>>>>>> documentation-devel
||||||| cd53b20
<<<<<<< HEAD
   "id": "b9edd510",
||||||| 3477967
   "id": "a3b39229",
=======
   "id": "60d5ae4d",
>>>>>>> 763a65aa00deab365d39bc26b2dcb2cc1410a666
=======
   "id": "422e8f8c",
>>>>>>> 61c8f4bff1b7848db82b013fbfba194514b420ca
   "metadata": {},
   "outputs": [],
   "source": [
    "mask_close <- closing(mask_open, kern)\n",
    "display(mask_close)"
   ]
  },
  {
   "cell_type": "markdown",
<<<<<<< HEAD
<<<<<<< HEAD
<<<<<<< HEAD
   "id": "8b230c6c",
||||||| 3477967
   "id": "a0ad352f",
=======
   "id": "c725cc80",
>>>>>>> 763a65aa00deab365d39bc26b2dcb2cc1410a666
||||||| eb63ff5
   "id": "8b230c6c",
=======
   "id": "1806c9eb",
>>>>>>> documentation-devel
||||||| cd53b20
<<<<<<< HEAD
   "id": "8b230c6c",
||||||| 3477967
   "id": "a0ad352f",
=======
   "id": "c725cc80",
>>>>>>> 763a65aa00deab365d39bc26b2dcb2cc1410a666
=======
   "id": "b6e99e2b",
>>>>>>> 61c8f4bff1b7848db82b013fbfba194514b420ca
   "metadata": {},
   "source": [
    "There are some larger holes in the tissue mask, which may be real holes or faint regions with few nuclei missed by thresholding. They might not be large enough to affect which Visium spots intersect the tissue.\n",
    "\n",
    "Now the main piece of tissue is clear. It must be the object with the largest area. However, there are two small pieces that should belong to the tissue at the top left. The debris and fiducials can be removed by setting all pixels in the mask outside the bounding box of the main piece to 0. Here we assign a different value to each contiguous object with `bwlabel()`, and use `computeFeatures.shape()` to find the area among other shape features (e.g. perimeter) of each object."
   ]
  },
  {
   "cell_type": "code",
   "execution_count": null,
<<<<<<< HEAD
<<<<<<< HEAD
<<<<<<< HEAD
   "id": "c97cdd2f",
||||||| 3477967
   "id": "b233370c",
=======
   "id": "3b3023c6",
>>>>>>> 763a65aa00deab365d39bc26b2dcb2cc1410a666
||||||| eb63ff5
   "id": "c97cdd2f",
=======
   "id": "c4fa85ef",
>>>>>>> documentation-devel
||||||| cd53b20
<<<<<<< HEAD
   "id": "c97cdd2f",
||||||| 3477967
   "id": "b233370c",
=======
   "id": "3b3023c6",
>>>>>>> 763a65aa00deab365d39bc26b2dcb2cc1410a666
=======
   "id": "aaa1faa0",
>>>>>>> 61c8f4bff1b7848db82b013fbfba194514b420ca
   "metadata": {},
   "outputs": [],
   "source": [
    "mask_label <- bwlabel(mask_close)\n",
    "fts <- computeFeatures.shape(mask_label)"
   ]
  },
  {
   "cell_type": "code",
   "execution_count": null,
<<<<<<< HEAD
<<<<<<< HEAD
<<<<<<< HEAD
   "id": "c33d4b40",
||||||| 3477967
   "id": "f22095ff",
=======
   "id": "9f659ae4",
>>>>>>> 763a65aa00deab365d39bc26b2dcb2cc1410a666
||||||| eb63ff5
   "id": "c33d4b40",
=======
   "id": "e953b060",
>>>>>>> documentation-devel
||||||| cd53b20
<<<<<<< HEAD
   "id": "c33d4b40",
||||||| 3477967
   "id": "f22095ff",
=======
   "id": "9f659ae4",
>>>>>>> 763a65aa00deab365d39bc26b2dcb2cc1410a666
=======
   "id": "bef16e78",
>>>>>>> 61c8f4bff1b7848db82b013fbfba194514b420ca
   "metadata": {},
   "outputs": [],
   "source": [
    "head(fts)"
   ]
  },
  {
   "cell_type": "code",
   "execution_count": null,
<<<<<<< HEAD
<<<<<<< HEAD
<<<<<<< HEAD
   "id": "9f40fb97",
||||||| 3477967
   "id": "80b42f80",
=======
   "id": "56158cf6",
>>>>>>> 763a65aa00deab365d39bc26b2dcb2cc1410a666
||||||| eb63ff5
   "id": "9f40fb97",
=======
   "id": "a217cffb",
>>>>>>> documentation-devel
||||||| cd53b20
<<<<<<< HEAD
   "id": "9f40fb97",
||||||| 3477967
   "id": "80b42f80",
=======
   "id": "56158cf6",
>>>>>>> 763a65aa00deab365d39bc26b2dcb2cc1410a666
=======
   "id": "78ffb7ef",
>>>>>>> 61c8f4bff1b7848db82b013fbfba194514b420ca
   "metadata": {},
   "outputs": [],
   "source": [
    "summary(fts[,\"s.area\"])"
   ]
  },
  {
   "cell_type": "code",
   "execution_count": null,
<<<<<<< HEAD
<<<<<<< HEAD
<<<<<<< HEAD
   "id": "2eec8463",
||||||| 3477967
   "id": "6e698f7e",
=======
   "id": "9bc55df3",
>>>>>>> 763a65aa00deab365d39bc26b2dcb2cc1410a666
||||||| eb63ff5
   "id": "2eec8463",
=======
   "id": "50777a6e",
>>>>>>> documentation-devel
||||||| cd53b20
<<<<<<< HEAD
   "id": "2eec8463",
||||||| 3477967
   "id": "6e698f7e",
=======
   "id": "9bc55df3",
>>>>>>> 763a65aa00deab365d39bc26b2dcb2cc1410a666
=======
   "id": "ae6c89bb",
>>>>>>> 61c8f4bff1b7848db82b013fbfba194514b420ca
   "metadata": {},
   "outputs": [],
   "source": [
    "max_ind <- which.max(fts[,\"s.area\"])\n",
    "inds <- which(as.array(mask_label) == max_ind, arr.ind = TRUE)\n",
    "head(inds)"
   ]
  },
  {
   "cell_type": "code",
   "execution_count": null,
<<<<<<< HEAD
<<<<<<< HEAD
<<<<<<< HEAD
   "id": "f83781ed",
||||||| 3477967
   "id": "4c37e05d",
=======
   "id": "7624d898",
>>>>>>> 763a65aa00deab365d39bc26b2dcb2cc1410a666
||||||| eb63ff5
   "id": "f83781ed",
=======
   "id": "9c776f50",
>>>>>>> documentation-devel
||||||| cd53b20
<<<<<<< HEAD
   "id": "f83781ed",
||||||| 3477967
   "id": "4c37e05d",
=======
   "id": "7624d898",
>>>>>>> 763a65aa00deab365d39bc26b2dcb2cc1410a666
=======
   "id": "9b7d8ae0",
>>>>>>> 61c8f4bff1b7848db82b013fbfba194514b420ca
   "metadata": {},
   "outputs": [],
   "source": [
    "row_inds <- c(seq_len(min(inds[,1])-1), seq(max(inds[,1])+1, nrow(mask_label), by = 1))\n",
    "col_inds <- c(seq_len(min(inds[,2])-1), seq(max(inds[,2])+1, nrow(mask_label), by = 1))\n",
    "mask_label[row_inds, ] <- 0\n",
    "mask_label[,col_inds] <- 0\n",
    "display(mask_label)"
   ]
  },
  {
   "cell_type": "markdown",
<<<<<<< HEAD
<<<<<<< HEAD
<<<<<<< HEAD
   "id": "308ac35e",
||||||| 3477967
   "id": "1d813b35",
=======
   "id": "373ad458",
>>>>>>> 763a65aa00deab365d39bc26b2dcb2cc1410a666
||||||| eb63ff5
   "id": "308ac35e",
=======
   "id": "abe0b59b",
>>>>>>> documentation-devel
||||||| cd53b20
<<<<<<< HEAD
   "id": "308ac35e",
||||||| 3477967
   "id": "1d813b35",
=======
   "id": "373ad458",
>>>>>>> 763a65aa00deab365d39bc26b2dcb2cc1410a666
=======
   "id": "ff80d7bd",
>>>>>>> 61c8f4bff1b7848db82b013fbfba194514b420ca
   "metadata": {
    "lines_to_next_cell": 0
   },
   "source": [
    "Then remove the small pieces that are debris."
   ]
  },
  {
   "cell_type": "code",
   "execution_count": null,
<<<<<<< HEAD
<<<<<<< HEAD
<<<<<<< HEAD
   "id": "bc60cc3d",
||||||| 3477967
   "id": "81930c60",
=======
   "id": "c8893ead",
>>>>>>> 763a65aa00deab365d39bc26b2dcb2cc1410a666
||||||| eb63ff5
   "id": "bc60cc3d",
=======
   "id": "f47ac905",
>>>>>>> documentation-devel
||||||| cd53b20
<<<<<<< HEAD
   "id": "bc60cc3d",
||||||| 3477967
   "id": "81930c60",
=======
   "id": "c8893ead",
>>>>>>> 763a65aa00deab365d39bc26b2dcb2cc1410a666
=======
   "id": "6ccb7249",
>>>>>>> 61c8f4bff1b7848db82b013fbfba194514b420ca
   "metadata": {},
   "outputs": [],
   "source": [
    "unique(as.vector(mask_label))"
   ]
  },
  {
   "cell_type": "code",
   "execution_count": null,
<<<<<<< HEAD
<<<<<<< HEAD
<<<<<<< HEAD
   "id": "81536310",
||||||| 3477967
   "id": "eb7d726b",
=======
   "id": "0deed7af",
>>>>>>> 763a65aa00deab365d39bc26b2dcb2cc1410a666
||||||| eb63ff5
   "id": "81536310",
=======
   "id": "87df2af2",
>>>>>>> documentation-devel
||||||| cd53b20
<<<<<<< HEAD
   "id": "81536310",
||||||| 3477967
   "id": "eb7d726b",
=======
   "id": "0deed7af",
>>>>>>> 763a65aa00deab365d39bc26b2dcb2cc1410a666
=======
   "id": "03d877fb",
>>>>>>> 61c8f4bff1b7848db82b013fbfba194514b420ca
   "metadata": {},
   "outputs": [],
   "source": [
    "fts2 <- fts[unique(as.vector(mask_label))[-1],]\n",
    "fts2 <- fts2[order(fts2[,\"s.area\"], decreasing = TRUE),]"
   ]
  },
  {
   "cell_type": "code",
   "execution_count": null,
<<<<<<< HEAD
<<<<<<< HEAD
<<<<<<< HEAD
   "id": "afd51263",
||||||| 3477967
   "id": "3e62249d",
=======
   "id": "bf4b4b3e",
>>>>>>> 763a65aa00deab365d39bc26b2dcb2cc1410a666
||||||| eb63ff5
   "id": "afd51263",
=======
   "id": "d2b24f15",
>>>>>>> documentation-devel
||||||| cd53b20
<<<<<<< HEAD
   "id": "afd51263",
||||||| 3477967
   "id": "3e62249d",
=======
   "id": "bf4b4b3e",
>>>>>>> 763a65aa00deab365d39bc26b2dcb2cc1410a666
=======
   "id": "7cafb879",
>>>>>>> 61c8f4bff1b7848db82b013fbfba194514b420ca
   "metadata": {},
   "outputs": [],
   "source": [
    "plot(fts2[,1][-1], type = \"l\", ylab = \"Area\")"
   ]
  },
  {
   "cell_type": "code",
   "execution_count": null,
<<<<<<< HEAD
<<<<<<< HEAD
<<<<<<< HEAD
   "id": "ed758cea",
||||||| 3477967
   "id": "53dd3072",
=======
   "id": "17a57426",
>>>>>>> 763a65aa00deab365d39bc26b2dcb2cc1410a666
||||||| eb63ff5
   "id": "ed758cea",
=======
   "id": "0f5d9ae2",
>>>>>>> documentation-devel
||||||| cd53b20
<<<<<<< HEAD
   "id": "ed758cea",
||||||| 3477967
   "id": "53dd3072",
=======
   "id": "17a57426",
>>>>>>> 763a65aa00deab365d39bc26b2dcb2cc1410a666
=======
   "id": "fd102d95",
>>>>>>> 61c8f4bff1b7848db82b013fbfba194514b420ca
   "metadata": {},
   "outputs": [],
   "source": [
    "head(fts2, 10)"
   ]
  },
  {
   "cell_type": "markdown",
<<<<<<< HEAD
<<<<<<< HEAD
<<<<<<< HEAD
   "id": "4bdd4f88",
||||||| 3477967
   "id": "e204694f",
=======
   "id": "c9f40153",
>>>>>>> 763a65aa00deab365d39bc26b2dcb2cc1410a666
||||||| eb63ff5
   "id": "4bdd4f88",
=======
   "id": "cccfa477",
>>>>>>> documentation-devel
||||||| cd53b20
<<<<<<< HEAD
   "id": "4bdd4f88",
||||||| 3477967
   "id": "e204694f",
=======
   "id": "c9f40153",
>>>>>>> 763a65aa00deab365d39bc26b2dcb2cc1410a666
=======
   "id": "8245294f",
>>>>>>> 61c8f4bff1b7848db82b013fbfba194514b420ca
   "metadata": {},
   "source": [
    "Object number 797 is a piece of debris at the bottom left. The other pieces with area over 100 pixels are tissue. Since debris really is small bits of tissue, so the boundary between debris and tissue can be blurry. Here the two are distinguished by morphology on the H&E image and proximity to the main tissue."
   ]
  },
  {
   "cell_type": "code",
   "execution_count": null,
<<<<<<< HEAD
<<<<<<< HEAD
<<<<<<< HEAD
   "id": "064ee557",
||||||| 3477967
   "id": "90498411",
=======
   "id": "5b55a1a2",
>>>>>>> 763a65aa00deab365d39bc26b2dcb2cc1410a666
||||||| eb63ff5
   "id": "064ee557",
=======
   "id": "bd8f4e33",
>>>>>>> documentation-devel
||||||| cd53b20
<<<<<<< HEAD
   "id": "064ee557",
||||||| 3477967
   "id": "90498411",
=======
   "id": "5b55a1a2",
>>>>>>> 763a65aa00deab365d39bc26b2dcb2cc1410a666
=======
   "id": "d0d64089",
>>>>>>> 61c8f4bff1b7848db82b013fbfba194514b420ca
   "metadata": {},
   "outputs": [],
   "source": [
    "#display(mask_label == 797)"
   ]
  },
  {
   "cell_type": "markdown",
<<<<<<< HEAD
<<<<<<< HEAD
<<<<<<< HEAD
   "id": "37dd7720",
||||||| 3477967
   "id": "3708a1e7",
=======
   "id": "0c0c7641",
>>>>>>> 763a65aa00deab365d39bc26b2dcb2cc1410a666
||||||| eb63ff5
   "id": "37dd7720",
=======
   "id": "dab07881",
>>>>>>> documentation-devel
||||||| cd53b20
<<<<<<< HEAD
   "id": "37dd7720",
||||||| 3477967
   "id": "3708a1e7",
=======
   "id": "0c0c7641",
>>>>>>> 763a65aa00deab365d39bc26b2dcb2cc1410a666
=======
   "id": "692d1531",
>>>>>>> 61c8f4bff1b7848db82b013fbfba194514b420ca
   "metadata": {
    "lines_to_next_cell": 0
   },
   "source": [
    "Here we remove the debris from the mask"
   ]
  },
  {
   "cell_type": "code",
   "execution_count": null,
<<<<<<< HEAD
<<<<<<< HEAD
<<<<<<< HEAD
   "id": "4ca2ba9e",
||||||| 3477967
   "id": "a7c81fef",
=======
   "id": "89ae4468",
>>>>>>> 763a65aa00deab365d39bc26b2dcb2cc1410a666
||||||| eb63ff5
   "id": "4ca2ba9e",
=======
   "id": "28bceb30",
>>>>>>> documentation-devel
||||||| cd53b20
<<<<<<< HEAD
   "id": "4ca2ba9e",
||||||| 3477967
   "id": "a7c81fef",
=======
   "id": "89ae4468",
>>>>>>> 763a65aa00deab365d39bc26b2dcb2cc1410a666
=======
   "id": "839c3741",
>>>>>>> 61c8f4bff1b7848db82b013fbfba194514b420ca
   "metadata": {},
   "outputs": [],
   "source": [
    "mask_label[mask_label %in% c(797, as.numeric(rownames(fts2)[fts2[,1] < 100]))] <- 0"
   ]
  },
  {
   "cell_type": "markdown",
<<<<<<< HEAD
<<<<<<< HEAD
<<<<<<< HEAD
   "id": "7134c09b",
||||||| 3477967
   "id": "d9c146b3",
=======
   "id": "25b8ce6c",
>>>>>>> 763a65aa00deab365d39bc26b2dcb2cc1410a666
||||||| eb63ff5
   "id": "7134c09b",
=======
   "id": "8f4a0f64",
>>>>>>> documentation-devel
||||||| cd53b20
<<<<<<< HEAD
   "id": "7134c09b",
||||||| 3477967
   "id": "d9c146b3",
=======
   "id": "25b8ce6c",
>>>>>>> 763a65aa00deab365d39bc26b2dcb2cc1410a666
=======
   "id": "57bc9152",
>>>>>>> 61c8f4bff1b7848db82b013fbfba194514b420ca
   "metadata": {
    "lines_to_next_cell": 0
   },
   "source": [
    "Since most holes in the mask are faint regions of the tissue missed by thresholding, the holes will be filled"
   ]
  },
  {
   "cell_type": "code",
   "execution_count": null,
<<<<<<< HEAD
<<<<<<< HEAD
<<<<<<< HEAD
   "id": "c34917d1",
||||||| 3477967
   "id": "b2be43a5",
=======
   "id": "4d682f9c",
>>>>>>> 763a65aa00deab365d39bc26b2dcb2cc1410a666
||||||| eb63ff5
   "id": "c34917d1",
=======
   "id": "c5f1f006",
>>>>>>> documentation-devel
||||||| cd53b20
<<<<<<< HEAD
   "id": "c34917d1",
||||||| 3477967
   "id": "b2be43a5",
=======
   "id": "4d682f9c",
>>>>>>> 763a65aa00deab365d39bc26b2dcb2cc1410a666
=======
   "id": "f4946ece",
>>>>>>> 61c8f4bff1b7848db82b013fbfba194514b420ca
   "metadata": {},
   "outputs": [],
   "source": [
    "mask_label <- fillHull(mask_label)"
   ]
  },
  {
   "cell_type": "code",
   "execution_count": null,
<<<<<<< HEAD
<<<<<<< HEAD
<<<<<<< HEAD
   "id": "fb885162",
||||||| 3477967
   "id": "83408f45",
=======
   "id": "d67e0859",
>>>>>>> 763a65aa00deab365d39bc26b2dcb2cc1410a666
||||||| eb63ff5
   "id": "fb885162",
=======
   "id": "ccae9db2",
>>>>>>> documentation-devel
||||||| cd53b20
<<<<<<< HEAD
   "id": "fb885162",
||||||| 3477967
   "id": "83408f45",
=======
   "id": "d67e0859",
>>>>>>> 763a65aa00deab365d39bc26b2dcb2cc1410a666
=======
   "id": "cc6f559d",
>>>>>>> 61c8f4bff1b7848db82b013fbfba194514b420ca
   "metadata": {},
   "outputs": [],
   "source": [
    "display(paintObjects(mask_label, img, col=c(\"red\", \"yellow\"), opac=c(1, 0.3)))"
   ]
  },
  {
   "cell_type": "markdown",
<<<<<<< HEAD
<<<<<<< HEAD
<<<<<<< HEAD
   "id": "90bbf840",
||||||| 3477967
   "id": "b6ded6f6",
=======
   "id": "7ea66c00",
>>>>>>> 763a65aa00deab365d39bc26b2dcb2cc1410a666
||||||| eb63ff5
   "id": "90bbf840",
=======
   "id": "8f0677f7",
>>>>>>> documentation-devel
||||||| cd53b20
<<<<<<< HEAD
   "id": "90bbf840",
||||||| 3477967
   "id": "b6ded6f6",
=======
   "id": "7ea66c00",
>>>>>>> 763a65aa00deab365d39bc26b2dcb2cc1410a666
=======
   "id": "9bbf3e7b",
>>>>>>> 61c8f4bff1b7848db82b013fbfba194514b420ca
   "metadata": {},
   "source": [
    "This segmentation process took a lot of manual oversight, in choosing the threshold, choosing kernel size and shape in the opening and closing operations, deciding whether to fill the holes, and deciding what is debris and what is tissue. \n",
    "\n",
    "# Convert tissue mask to polygon\n",
    "Now we have the tissue mask, which we will convert to polygon. While OpenCV can directly perform the conversion, as there isn't a comprehensive R wrapper of OpenCV, this conversion is more convoluted in R. We first convert the `Image` object to a raster as implemented in `terra`, the core R package for geospatial raster data. Then `terra` can convert the raster to polygon. As this image is downsized, the polygon will look quite pixelated. To mitigate this pixelation and save memory, the `ms_simplify()` function is used to simplify the polygon, only keeping a small proportion of all vertices. The `st_simplify()` function in `sf` can also simplify the polygons, but we can't specify what proportion of vertices to keep."
   ]
  },
  {
   "cell_type": "code",
   "execution_count": null,
<<<<<<< HEAD
<<<<<<< HEAD
<<<<<<< HEAD
   "id": "73c60272",
||||||| 3477967
   "id": "e932b01a",
=======
   "id": "364fb01d",
>>>>>>> 763a65aa00deab365d39bc26b2dcb2cc1410a666
||||||| eb63ff5
   "id": "73c60272",
=======
   "id": "b1f55d70",
>>>>>>> documentation-devel
||||||| cd53b20
<<<<<<< HEAD
   "id": "73c60272",
||||||| 3477967
   "id": "e932b01a",
=======
   "id": "364fb01d",
>>>>>>> 763a65aa00deab365d39bc26b2dcb2cc1410a666
=======
   "id": "6d05fc32",
>>>>>>> 61c8f4bff1b7848db82b013fbfba194514b420ca
   "metadata": {},
   "outputs": [],
   "source": [
    "raster2polygon <- function(seg, keep = 0.2) {\n",
    "    r <- rast(as.array(seg), extent = ext(0, nrow(seg), 0, ncol(seg))) |> \n",
    "        trans() |> flip()\n",
    "    r[r < 1] <- NA\n",
    "    contours <- st_as_sf(as.polygons(r, dissolve = TRUE))\n",
    "    simplified <- ms_simplify(contours, keep = keep)\n",
    "    list(full = contours,\n",
    "         simplified = simplified)\n",
    "}"
   ]
  },
  {
   "cell_type": "code",
   "execution_count": null,
<<<<<<< HEAD
<<<<<<< HEAD
<<<<<<< HEAD
   "id": "aa8e63f1",
||||||| 3477967
   "id": "a42200bb",
=======
   "id": "96e08dea",
>>>>>>> 763a65aa00deab365d39bc26b2dcb2cc1410a666
||||||| eb63ff5
   "id": "aa8e63f1",
=======
   "id": "bb297c6c",
>>>>>>> documentation-devel
||||||| cd53b20
<<<<<<< HEAD
   "id": "aa8e63f1",
||||||| 3477967
   "id": "a42200bb",
=======
   "id": "96e08dea",
>>>>>>> 763a65aa00deab365d39bc26b2dcb2cc1410a666
=======
   "id": "3cdc0a06",
>>>>>>> 61c8f4bff1b7848db82b013fbfba194514b420ca
   "metadata": {},
   "outputs": [],
   "source": [
    "tb <- raster2polygon(mask_label)"
   ]
  },
  {
   "cell_type": "markdown",
<<<<<<< HEAD
<<<<<<< HEAD
<<<<<<< HEAD
   "id": "dc904734",
||||||| 3477967
   "id": "a1397eb8",
=======
   "id": "c02f4fce",
>>>>>>> 763a65aa00deab365d39bc26b2dcb2cc1410a666
||||||| eb63ff5
   "id": "dc904734",
=======
   "id": "87d05080",
>>>>>>> documentation-devel
||||||| cd53b20
<<<<<<< HEAD
   "id": "dc904734",
||||||| 3477967
   "id": "a1397eb8",
=======
   "id": "c02f4fce",
>>>>>>> 763a65aa00deab365d39bc26b2dcb2cc1410a666
=======
   "id": "8bb51e79",
>>>>>>> 61c8f4bff1b7848db82b013fbfba194514b420ca
   "metadata": {
    "lines_to_next_cell": 0
   },
   "source": [
    "Before adding the geometry to the SFE object, it needs to be scaled to match the coordinates of the spots"
   ]
  },
  {
   "cell_type": "code",
   "execution_count": null,
<<<<<<< HEAD
<<<<<<< HEAD
<<<<<<< HEAD
   "id": "8081987d",
||||||| 3477967
   "id": "d52ba168",
=======
   "id": "0c95ef5e",
>>>>>>> 763a65aa00deab365d39bc26b2dcb2cc1410a666
||||||| eb63ff5
   "id": "8081987d",
=======
   "id": "7d823e00",
>>>>>>> documentation-devel
||||||| cd53b20
<<<<<<< HEAD
   "id": "8081987d",
||||||| 3477967
   "id": "d52ba168",
=======
   "id": "0c95ef5e",
>>>>>>> 763a65aa00deab365d39bc26b2dcb2cc1410a666
=======
   "id": "b6d6b795",
>>>>>>> 61c8f4bff1b7848db82b013fbfba194514b420ca
   "metadata": {},
   "outputs": [],
   "source": [
    "scale_factors <- fromJSON(file = \"outs/spatial/scalefactors_json.json\")"
   ]
  },
  {
   "cell_type": "code",
   "execution_count": null,
<<<<<<< HEAD
<<<<<<< HEAD
<<<<<<< HEAD
   "id": "c8caea61",
||||||| 3477967
   "id": "467ecb34",
=======
   "id": "da188d30",
>>>>>>> 763a65aa00deab365d39bc26b2dcb2cc1410a666
||||||| eb63ff5
   "id": "c8caea61",
=======
   "id": "c1ab2093",
>>>>>>> documentation-devel
||||||| cd53b20
<<<<<<< HEAD
   "id": "c8caea61",
||||||| 3477967
   "id": "467ecb34",
=======
   "id": "da188d30",
>>>>>>> 763a65aa00deab365d39bc26b2dcb2cc1410a666
=======
   "id": "7eb8f97d",
>>>>>>> 61c8f4bff1b7848db82b013fbfba194514b420ca
   "metadata": {},
   "outputs": [],
   "source": [
    "tb$simplified$geometry <- tb$simplified$geometry / scale_factors$tissue_hires_scalef"
   ]
  },
  {
   "cell_type": "code",
   "execution_count": null,
<<<<<<< HEAD
<<<<<<< HEAD
<<<<<<< HEAD
   "id": "abd82ec4",
||||||| 3477967
   "id": "2540ec12",
=======
   "id": "3d66757f",
>>>>>>> 763a65aa00deab365d39bc26b2dcb2cc1410a666
||||||| eb63ff5
   "id": "abd82ec4",
=======
   "id": "7797d9cf",
>>>>>>> documentation-devel
||||||| cd53b20
<<<<<<< HEAD
   "id": "abd82ec4",
||||||| 3477967
   "id": "2540ec12",
=======
   "id": "3d66757f",
>>>>>>> 763a65aa00deab365d39bc26b2dcb2cc1410a666
=======
   "id": "c8fcad2f",
>>>>>>> 61c8f4bff1b7848db82b013fbfba194514b420ca
   "metadata": {},
   "outputs": [],
   "source": [
    "tissueBoundary(sfe) <- tb$simplified"
   ]
  },
  {
   "cell_type": "code",
   "execution_count": null,
<<<<<<< HEAD
<<<<<<< HEAD
<<<<<<< HEAD
   "id": "14ab2f7e",
||||||| 3477967
   "id": "b60c99b8",
=======
   "id": "e4168f60",
>>>>>>> 763a65aa00deab365d39bc26b2dcb2cc1410a666
||||||| eb63ff5
   "id": "14ab2f7e",
=======
   "id": "218e1c39",
>>>>>>> documentation-devel
||||||| cd53b20
<<<<<<< HEAD
   "id": "14ab2f7e",
||||||| 3477967
   "id": "b60c99b8",
=======
   "id": "e4168f60",
>>>>>>> 763a65aa00deab365d39bc26b2dcb2cc1410a666
=======
   "id": "d8c6532b",
>>>>>>> 61c8f4bff1b7848db82b013fbfba194514b420ca
   "metadata": {},
   "outputs": [],
   "source": [
    "plotSpatialFeature(sfe, \"sum\", annotGeometryName = \"tissueBoundary\", \n",
    "                   annot_fixed = list(fill = NA, color = \"black\"),\n",
    "                   image_id = \"lowres\") +\n",
    "    theme_void()"
   ]
  },
  {
   "cell_type": "markdown",
<<<<<<< HEAD
<<<<<<< HEAD
<<<<<<< HEAD
   "id": "30af0395",
||||||| 3477967
   "id": "36f25e8c",
=======
   "id": "642b9f45",
>>>>>>> 763a65aa00deab365d39bc26b2dcb2cc1410a666
||||||| eb63ff5
   "id": "30af0395",
=======
   "id": "2a5854ee",
>>>>>>> documentation-devel
||||||| cd53b20
<<<<<<< HEAD
   "id": "30af0395",
||||||| 3477967
   "id": "36f25e8c",
=======
   "id": "642b9f45",
>>>>>>> 763a65aa00deab365d39bc26b2dcb2cc1410a666
=======
   "id": "0d272062",
>>>>>>> 61c8f4bff1b7848db82b013fbfba194514b420ca
   "metadata": {},
   "source": [
    "The mouse olfactory bulb is conventionally plotted horizontally. The entire SFE object can be transposed in histologial space to make the olfactory bulb horizontal."
   ]
  },
  {
   "cell_type": "code",
   "execution_count": null,
<<<<<<< HEAD
<<<<<<< HEAD
<<<<<<< HEAD
   "id": "4e9a1255",
||||||| 3477967
   "id": "c12238b8",
=======
   "id": "e169cda7",
>>>>>>> 763a65aa00deab365d39bc26b2dcb2cc1410a666
||||||| eb63ff5
   "id": "4e9a1255",
=======
   "id": "554e4878",
>>>>>>> documentation-devel
||||||| cd53b20
<<<<<<< HEAD
   "id": "4e9a1255",
||||||| 3477967
   "id": "c12238b8",
=======
   "id": "e169cda7",
>>>>>>> 763a65aa00deab365d39bc26b2dcb2cc1410a666
=======
   "id": "e8c39ad8",
>>>>>>> 61c8f4bff1b7848db82b013fbfba194514b420ca
   "metadata": {},
   "outputs": [],
   "source": [
    "sfe <- SpatialFeatureExperiment::transpose(sfe)"
   ]
  },
  {
   "cell_type": "code",
   "execution_count": null,
<<<<<<< HEAD
<<<<<<< HEAD
<<<<<<< HEAD
   "id": "67ecb332",
||||||| 3477967
   "id": "7ba68cbc",
=======
   "id": "5b5f048c",
>>>>>>> 763a65aa00deab365d39bc26b2dcb2cc1410a666
||||||| eb63ff5
   "id": "67ecb332",
=======
   "id": "480b4386",
>>>>>>> documentation-devel
||||||| cd53b20
<<<<<<< HEAD
   "id": "67ecb332",
||||||| 3477967
   "id": "7ba68cbc",
=======
   "id": "5b5f048c",
>>>>>>> 763a65aa00deab365d39bc26b2dcb2cc1410a666
=======
   "id": "6cd5b453",
>>>>>>> 61c8f4bff1b7848db82b013fbfba194514b420ca
   "metadata": {},
   "outputs": [],
   "source": [
    "plotSpatialFeature(sfe, \"sum\", annotGeometryName = \"tissueBoundary\", \n",
    "                   annot_fixed = list(fill = NA, color = \"black\"),\n",
    "                   image_id = \"lowres\")"
   ]
  },
  {
   "cell_type": "markdown",
<<<<<<< HEAD
<<<<<<< HEAD
<<<<<<< HEAD
   "id": "80b75976",
||||||| 3477967
   "id": "f204cc20",
=======
   "id": "75118ab7",
>>>>>>> 763a65aa00deab365d39bc26b2dcb2cc1410a666
||||||| eb63ff5
   "id": "80b75976",
=======
   "id": "07ff627f",
>>>>>>> documentation-devel
||||||| cd53b20
<<<<<<< HEAD
   "id": "80b75976",
||||||| 3477967
   "id": "f204cc20",
=======
   "id": "75118ab7",
>>>>>>> 763a65aa00deab365d39bc26b2dcb2cc1410a666
=======
   "id": "e9ac5c66",
>>>>>>> 61c8f4bff1b7848db82b013fbfba194514b420ca
   "metadata": {},
   "source": [
    "Then we can use geometric operations to find which spots intersect tissue, which spots are covered by tissue, and how much of each spot intersects tissue."
   ]
  },
  {
   "cell_type": "code",
   "execution_count": null,
<<<<<<< HEAD
<<<<<<< HEAD
<<<<<<< HEAD
   "id": "98575d12",
||||||| 3477967
   "id": "f20c77f7",
=======
   "id": "5936aee1",
>>>>>>> 763a65aa00deab365d39bc26b2dcb2cc1410a666
||||||| eb63ff5
   "id": "98575d12",
=======
   "id": "346fe94c",
>>>>>>> documentation-devel
||||||| cd53b20
<<<<<<< HEAD
   "id": "98575d12",
||||||| 3477967
   "id": "f20c77f7",
=======
   "id": "5936aee1",
>>>>>>> 763a65aa00deab365d39bc26b2dcb2cc1410a666
=======
   "id": "5fd88c9d",
>>>>>>> 61c8f4bff1b7848db82b013fbfba194514b420ca
   "metadata": {},
   "outputs": [],
   "source": [
    "# Which spots intersect tissue\n",
    "sfe$int_tissue <- annotPred(sfe, colGeometryName = \"spotPoly\", \n",
    "                            annotGeometryName = \"tissueBoundary\",\n",
    "                            pred = st_intersects)\n",
    "sfe$cov_tissue <- annotPred(sfe, colGeometryName = \"spotPoly\", \n",
    "                            annotGeometryName = \"tissueBoundary\",\n",
    "                            pred = st_covered_by)"
   ]
  },
  {
   "cell_type": "markdown",
<<<<<<< HEAD
<<<<<<< HEAD
<<<<<<< HEAD
   "id": "df26496f",
||||||| 3477967
   "id": "d79e8014",
=======
   "id": "d5aeeb57",
>>>>>>> 763a65aa00deab365d39bc26b2dcb2cc1410a666
||||||| eb63ff5
   "id": "df26496f",
=======
   "id": "466953c8",
>>>>>>> documentation-devel
||||||| cd53b20
<<<<<<< HEAD
   "id": "df26496f",
||||||| 3477967
   "id": "d79e8014",
=======
   "id": "d5aeeb57",
>>>>>>> 763a65aa00deab365d39bc26b2dcb2cc1410a666
=======
   "id": "e1bb97bc",
>>>>>>> 61c8f4bff1b7848db82b013fbfba194514b420ca
   "metadata": {
    "lines_to_next_cell": 0
   },
   "source": [
    "Discrepancies between Space Ranger's annotation and the annotation based on tissue segmentation here:"
   ]
  },
  {
   "cell_type": "code",
   "execution_count": null,
<<<<<<< HEAD
<<<<<<< HEAD
<<<<<<< HEAD
   "id": "36a34fe2",
||||||| 3477967
   "id": "fd3acfbb",
=======
   "id": "30e2f631",
>>>>>>> 763a65aa00deab365d39bc26b2dcb2cc1410a666
||||||| eb63ff5
   "id": "36a34fe2",
=======
   "id": "072718b2",
>>>>>>> documentation-devel
||||||| cd53b20
<<<<<<< HEAD
   "id": "36a34fe2",
||||||| 3477967
   "id": "fd3acfbb",
=======
   "id": "30e2f631",
>>>>>>> 763a65aa00deab365d39bc26b2dcb2cc1410a666
=======
   "id": "d448de4c",
>>>>>>> 61c8f4bff1b7848db82b013fbfba194514b420ca
   "metadata": {},
   "outputs": [],
   "source": [
    "sfe$diff_sr <- case_when(sfe$in_tissue == sfe$int_tissue ~ \"same\",\n",
    "                         sfe$in_tissue & !sfe$int_tissue ~ \"Space Ranger\",\n",
    "                         sfe$int_tissue & !sfe$in_tissue ~ \"segmentation\") |> \n",
    "    factor(levels = c(\"Space Ranger\", \"same\", \"segmentation\"))\n",
    "plotSpatialFeature(sfe, \"diff_sr\", \n",
    "                   annotGeometryName = \"tissueBoundary\", \n",
    "                   annot_fixed = list(fill = NA, size = 0.5, color = \"black\")) +\n",
    "    scale_fill_brewer(type = \"div\", palette = 4)"
   ]
  },
  {
   "cell_type": "markdown",
<<<<<<< HEAD
<<<<<<< HEAD
<<<<<<< HEAD
   "id": "da5a5e6d",
||||||| 3477967
   "id": "1c60e553",
=======
   "id": "22bcf2ba",
>>>>>>> 763a65aa00deab365d39bc26b2dcb2cc1410a666
||||||| eb63ff5
   "id": "da5a5e6d",
=======
   "id": "7cdfdaef",
>>>>>>> documentation-devel
||||||| cd53b20
<<<<<<< HEAD
   "id": "da5a5e6d",
||||||| 3477967
   "id": "1c60e553",
=======
   "id": "22bcf2ba",
>>>>>>> 763a65aa00deab365d39bc26b2dcb2cc1410a666
=======
   "id": "34b9dbc9",
>>>>>>> 61c8f4bff1b7848db82b013fbfba194514b420ca
   "metadata": {
    "lines_to_next_cell": 0
   },
   "source": [
    "Spots at the margin can intersect the tissue without being covered by it."
   ]
  },
  {
   "cell_type": "code",
   "execution_count": null,
<<<<<<< HEAD
<<<<<<< HEAD
<<<<<<< HEAD
   "id": "24218dc1",
||||||| 3477967
   "id": "e32dd5ea",
=======
   "id": "9f933757",
>>>>>>> 763a65aa00deab365d39bc26b2dcb2cc1410a666
||||||| eb63ff5
   "id": "24218dc1",
=======
   "id": "ec723935",
>>>>>>> documentation-devel
||||||| cd53b20
<<<<<<< HEAD
   "id": "24218dc1",
||||||| 3477967
   "id": "e32dd5ea",
=======
   "id": "9f933757",
>>>>>>> 763a65aa00deab365d39bc26b2dcb2cc1410a666
=======
   "id": "5ff5f143",
>>>>>>> 61c8f4bff1b7848db82b013fbfba194514b420ca
   "metadata": {},
   "outputs": [],
   "source": [
    "sfe$diff_int_cov <- sfe$int_tissue != sfe$cov_tissue\n",
    "plotSpatialFeature(sfe, \"diff_int_cov\", \n",
    "                   annotGeometryName = \"tissueBoundary\", \n",
    "                   annot_fixed = list(fill = NA, size = 0.5, color = \"black\"))"
   ]
  },
  {
   "cell_type": "markdown",
<<<<<<< HEAD
<<<<<<< HEAD
<<<<<<< HEAD
   "id": "3b6024fa",
||||||| 3477967
   "id": "559bcd75",
=======
   "id": "b7483a56",
>>>>>>> 763a65aa00deab365d39bc26b2dcb2cc1410a666
||||||| eb63ff5
   "id": "3b6024fa",
=======
   "id": "4e00b90b",
>>>>>>> documentation-devel
||||||| cd53b20
<<<<<<< HEAD
   "id": "3b6024fa",
||||||| 3477967
   "id": "559bcd75",
=======
   "id": "b7483a56",
>>>>>>> 763a65aa00deab365d39bc26b2dcb2cc1410a666
=======
   "id": "205a1261",
>>>>>>> 61c8f4bff1b7848db82b013fbfba194514b420ca
   "metadata": {},
   "source": [
    "We can also get the geometries of the intersections between the tissue and the Visium spots, and then calculate what percentage of each spot is in tissue. However, this percentage may not be very useful if the tissue segmentation is subject to error. This percentage may be more useful for pathologist annotated histological regions or objects such as nuclei and myofibers."
   ]
  },
  {
   "cell_type": "code",
   "execution_count": null,
<<<<<<< HEAD
<<<<<<< HEAD
<<<<<<< HEAD
   "id": "eeda17d6",
||||||| 3477967
   "id": "c8db711a",
=======
   "id": "4d076752",
>>>>>>> 763a65aa00deab365d39bc26b2dcb2cc1410a666
||||||| eb63ff5
   "id": "eeda17d6",
=======
   "id": "59c56189",
>>>>>>> documentation-devel
||||||| cd53b20
<<<<<<< HEAD
   "id": "eeda17d6",
||||||| 3477967
   "id": "c8db711a",
=======
   "id": "4d076752",
>>>>>>> 763a65aa00deab365d39bc26b2dcb2cc1410a666
=======
   "id": "c00e7305",
>>>>>>> 61c8f4bff1b7848db82b013fbfba194514b420ca
   "metadata": {},
   "outputs": [],
   "source": [
    "spot_ints <- annotOp(sfe, colGeometryName = \"spotPoly\", \n",
    "                     annotGeometryName = \"tissueBoundary\", op = st_intersection)\n",
    "sfe$pct_tissue <- st_area(spot_ints) / st_area(spotPoly(sfe)) * 100"
   ]
  },
  {
   "cell_type": "markdown",
<<<<<<< HEAD
<<<<<<< HEAD
<<<<<<< HEAD
   "id": "ef7aefad",
||||||| 3477967
   "id": "dce4df10",
=======
   "id": "50e4c103",
>>>>>>> 763a65aa00deab365d39bc26b2dcb2cc1410a666
||||||| eb63ff5
   "id": "ef7aefad",
=======
   "id": "65d8b346",
>>>>>>> documentation-devel
||||||| cd53b20
<<<<<<< HEAD
   "id": "ef7aefad",
||||||| 3477967
   "id": "dce4df10",
=======
   "id": "50e4c103",
>>>>>>> 763a65aa00deab365d39bc26b2dcb2cc1410a666
=======
   "id": "d8a86c48",
>>>>>>> 61c8f4bff1b7848db82b013fbfba194514b420ca
   "metadata": {
    "lines_to_next_cell": 0
   },
   "source": [
    "For spots that intersect tissue, does total counts relate to percentage of the spot in tissue?"
   ]
  },
  {
   "cell_type": "code",
   "execution_count": null,
<<<<<<< HEAD
<<<<<<< HEAD
<<<<<<< HEAD
   "id": "5a9029b3",
||||||| 3477967
   "id": "ae120f86",
=======
   "id": "ecd80eff",
>>>>>>> 763a65aa00deab365d39bc26b2dcb2cc1410a666
||||||| eb63ff5
   "id": "5a9029b3",
=======
   "id": "da947e4a",
>>>>>>> documentation-devel
||||||| cd53b20
<<<<<<< HEAD
   "id": "5a9029b3",
||||||| 3477967
   "id": "ae120f86",
=======
   "id": "ecd80eff",
>>>>>>> 763a65aa00deab365d39bc26b2dcb2cc1410a666
=======
   "id": "987d17ca",
>>>>>>> 61c8f4bff1b7848db82b013fbfba194514b420ca
   "metadata": {},
   "outputs": [],
   "source": [
    "sfe_tissue <- sfe[,sfe$int_tissue]"
   ]
  },
  {
   "cell_type": "code",
   "execution_count": null,
<<<<<<< HEAD
<<<<<<< HEAD
<<<<<<< HEAD
   "id": "418b1887",
||||||| 3477967
   "id": "8425b0cc",
=======
   "id": "6824a3d5",
>>>>>>> 763a65aa00deab365d39bc26b2dcb2cc1410a666
||||||| eb63ff5
   "id": "418b1887",
=======
   "id": "f7e5db22",
>>>>>>> documentation-devel
||||||| cd53b20
<<<<<<< HEAD
   "id": "418b1887",
||||||| 3477967
   "id": "8425b0cc",
=======
   "id": "6824a3d5",
>>>>>>> 763a65aa00deab365d39bc26b2dcb2cc1410a666
=======
   "id": "d59fedb0",
>>>>>>> 61c8f4bff1b7848db82b013fbfba194514b420ca
   "metadata": {},
   "outputs": [],
   "source": [
    "plotColDataBin2D(sfe_tissue, x = \"pct_tissue\", y = \"sum\", subset = \"diff_int_cov\",\n",
    "                name_true = \"Not covered\", name_false = \"Covered\", bins = 50)"
   ]
  },
  {
   "cell_type": "markdown",
<<<<<<< HEAD
<<<<<<< HEAD
<<<<<<< HEAD
   "id": "7f5b6d8e",
||||||| 3477967
   "id": "b049bcba",
=======
   "id": "2235b2f9",
>>>>>>> 763a65aa00deab365d39bc26b2dcb2cc1410a666
||||||| eb63ff5
   "id": "7f5b6d8e",
=======
   "id": "4d96a801",
>>>>>>> documentation-devel
||||||| cd53b20
<<<<<<< HEAD
   "id": "7f5b6d8e",
||||||| 3477967
   "id": "b049bcba",
=======
   "id": "2235b2f9",
>>>>>>> 763a65aa00deab365d39bc26b2dcb2cc1410a666
=======
   "id": "5ce7b216",
>>>>>>> 61c8f4bff1b7848db82b013fbfba194514b420ca
   "metadata": {
    "lines_to_next_cell": 0
   },
   "source": [
    "Spots that are not fully covered by tissue have lower total UMI counts, which can be due to both that they are not fully in tissue and the cell types with lower total counts in the histological region near the edge, as some spots fully covered by tissue also have low UMI counts.\n",
    "\n",
    "# Spatial autocorrelation of QC metrics"
   ]
  },
  {
   "cell_type": "code",
   "execution_count": null,
<<<<<<< HEAD
<<<<<<< HEAD
<<<<<<< HEAD
   "id": "6ea78923",
||||||| 3477967
   "id": "d38e3da7",
=======
   "id": "5fdb0d1f",
>>>>>>> 763a65aa00deab365d39bc26b2dcb2cc1410a666
||||||| eb63ff5
   "id": "6ea78923",
=======
   "id": "d1c955ab",
>>>>>>> documentation-devel
||||||| cd53b20
<<<<<<< HEAD
   "id": "6ea78923",
||||||| 3477967
   "id": "d38e3da7",
=======
   "id": "5fdb0d1f",
>>>>>>> 763a65aa00deab365d39bc26b2dcb2cc1410a666
=======
   "id": "3e2ab0d5",
>>>>>>> 61c8f4bff1b7848db82b013fbfba194514b420ca
   "metadata": {},
   "outputs": [],
   "source": [
    "colGraph(sfe_tissue, \"visium\") <- findVisiumGraph(sfe_tissue)"
   ]
  },
  {
   "cell_type": "code",
   "execution_count": null,
<<<<<<< HEAD
<<<<<<< HEAD
<<<<<<< HEAD
   "id": "77717d52",
||||||| 3477967
   "id": "26271da1",
=======
   "id": "de405668",
>>>>>>> 763a65aa00deab365d39bc26b2dcb2cc1410a666
||||||| eb63ff5
   "id": "77717d52",
=======
   "id": "0dbcbf21",
>>>>>>> documentation-devel
||||||| cd53b20
<<<<<<< HEAD
   "id": "77717d52",
||||||| 3477967
   "id": "26271da1",
=======
   "id": "de405668",
>>>>>>> 763a65aa00deab365d39bc26b2dcb2cc1410a666
=======
   "id": "f26b713d",
>>>>>>> 61c8f4bff1b7848db82b013fbfba194514b420ca
   "metadata": {},
   "outputs": [],
   "source": [
    "qc_features <- c(\"sum\", \"detected\", \"subsets_mito_percent\")"
   ]
  },
  {
   "cell_type": "code",
   "execution_count": null,
<<<<<<< HEAD
<<<<<<< HEAD
<<<<<<< HEAD
   "id": "14d1d6da",
||||||| 3477967
   "id": "51d8acc8",
=======
   "id": "d980a138",
>>>>>>> 763a65aa00deab365d39bc26b2dcb2cc1410a666
||||||| eb63ff5
   "id": "14d1d6da",
=======
   "id": "9f6f278c",
>>>>>>> documentation-devel
||||||| cd53b20
<<<<<<< HEAD
   "id": "14d1d6da",
||||||| 3477967
   "id": "51d8acc8",
=======
   "id": "d980a138",
>>>>>>> 763a65aa00deab365d39bc26b2dcb2cc1410a666
=======
   "id": "c197ef4c",
>>>>>>> 61c8f4bff1b7848db82b013fbfba194514b420ca
   "metadata": {},
   "outputs": [],
   "source": [
    "sfe_tissue <- colDataUnivariate(sfe_tissue, \"moran.mc\", qc_features, nsim = 200)"
   ]
  },
  {
   "cell_type": "code",
   "execution_count": null,
<<<<<<< HEAD
<<<<<<< HEAD
<<<<<<< HEAD
   "id": "7257f19c",
||||||| 3477967
   "id": "97e2176f",
=======
   "id": "cbffebe7",
>>>>>>> 763a65aa00deab365d39bc26b2dcb2cc1410a666
||||||| eb63ff5
   "id": "7257f19c",
=======
   "id": "dd3baf13",
>>>>>>> documentation-devel
||||||| cd53b20
<<<<<<< HEAD
   "id": "7257f19c",
||||||| 3477967
   "id": "97e2176f",
=======
   "id": "cbffebe7",
>>>>>>> 763a65aa00deab365d39bc26b2dcb2cc1410a666
=======
   "id": "15f87eb5",
>>>>>>> 61c8f4bff1b7848db82b013fbfba194514b420ca
   "metadata": {},
   "outputs": [],
   "source": [
    "plotMoranMC(sfe_tissue, qc_features)"
   ]
  },
  {
   "cell_type": "code",
   "execution_count": null,
<<<<<<< HEAD
<<<<<<< HEAD
<<<<<<< HEAD
   "id": "b883b035",
||||||| 3477967
   "id": "023e9511",
=======
   "id": "1278cf4d",
>>>>>>> 763a65aa00deab365d39bc26b2dcb2cc1410a666
||||||| eb63ff5
   "id": "b883b035",
=======
   "id": "d931e61d",
>>>>>>> documentation-devel
||||||| cd53b20
<<<<<<< HEAD
   "id": "b883b035",
||||||| 3477967
   "id": "023e9511",
=======
   "id": "1278cf4d",
>>>>>>> 763a65aa00deab365d39bc26b2dcb2cc1410a666
=======
   "id": "879e0de7",
>>>>>>> 61c8f4bff1b7848db82b013fbfba194514b420ca
   "metadata": {},
   "outputs": [],
   "source": [
    "sfe_tissue <- colDataUnivariate(sfe_tissue, \"sp.correlogram\", qc_features,\n",
    "                                order = 8)"
   ]
  },
  {
   "cell_type": "code",
   "execution_count": null,
<<<<<<< HEAD
<<<<<<< HEAD
<<<<<<< HEAD
   "id": "2b9f77ff",
||||||| 3477967
   "id": "b19e1c60",
=======
   "id": "9407deb8",
>>>>>>> 763a65aa00deab365d39bc26b2dcb2cc1410a666
||||||| eb63ff5
   "id": "2b9f77ff",
=======
   "id": "7296b868",
>>>>>>> documentation-devel
||||||| cd53b20
<<<<<<< HEAD
   "id": "2b9f77ff",
||||||| 3477967
   "id": "b19e1c60",
=======
   "id": "9407deb8",
>>>>>>> 763a65aa00deab365d39bc26b2dcb2cc1410a666
=======
   "id": "c743bb65",
>>>>>>> 61c8f4bff1b7848db82b013fbfba194514b420ca
   "metadata": {},
   "outputs": [],
   "source": [
    "plotCorrelogram(sfe_tissue, qc_features)"
   ]
  },
  {
   "cell_type": "code",
   "execution_count": null,
<<<<<<< HEAD
<<<<<<< HEAD
<<<<<<< HEAD
   "id": "8028bcc7",
||||||| 3477967
   "id": "d2a17d58",
=======
   "id": "dbb03e10",
>>>>>>> 763a65aa00deab365d39bc26b2dcb2cc1410a666
||||||| eb63ff5
   "id": "8028bcc7",
=======
   "id": "e48b05e4",
>>>>>>> documentation-devel
||||||| cd53b20
<<<<<<< HEAD
   "id": "8028bcc7",
||||||| 3477967
   "id": "d2a17d58",
=======
   "id": "dbb03e10",
>>>>>>> 763a65aa00deab365d39bc26b2dcb2cc1410a666
=======
   "id": "ccf74e83",
>>>>>>> 61c8f4bff1b7848db82b013fbfba194514b420ca
   "metadata": {},
   "outputs": [],
   "source": [
    "sfe_tissue <- colDataUnivariate(sfe_tissue, \"localmoran\", qc_features)"
   ]
  },
  {
   "cell_type": "code",
   "execution_count": null,
<<<<<<< HEAD
<<<<<<< HEAD
<<<<<<< HEAD
   "id": "2a0d4647",
||||||| 3477967
   "id": "f02d7e2d",
=======
   "id": "6e15a242",
>>>>>>> 763a65aa00deab365d39bc26b2dcb2cc1410a666
||||||| eb63ff5
   "id": "2a0d4647",
=======
   "id": "ab8682ae",
>>>>>>> documentation-devel
||||||| cd53b20
<<<<<<< HEAD
   "id": "2a0d4647",
||||||| 3477967
   "id": "f02d7e2d",
=======
   "id": "6e15a242",
>>>>>>> 763a65aa00deab365d39bc26b2dcb2cc1410a666
=======
   "id": "2923c1d6",
>>>>>>> 61c8f4bff1b7848db82b013fbfba194514b420ca
   "metadata": {
    "fig.height": 6,
    "fig.width": 8
   },
   "outputs": [],
   "source": [
    "plotLocalResult(sfe_tissue, \"localmoran\", qc_features, ncol = 2,\n",
    "                colGeometryName = \"spotPoly\", divergent = TRUE, \n",
    "                diverge_center = 0, image_id = \"lowres\", maxcell = 5e4)"
   ]
  },
  {
   "cell_type": "code",
   "execution_count": null,
<<<<<<< HEAD
<<<<<<< HEAD
<<<<<<< HEAD
   "id": "7a3f6a1f",
||||||| 3477967
   "id": "5f10e515",
=======
   "id": "d016b60d",
>>>>>>> 763a65aa00deab365d39bc26b2dcb2cc1410a666
||||||| eb63ff5
   "id": "7a3f6a1f",
=======
   "id": "09a49107",
>>>>>>> documentation-devel
||||||| cd53b20
<<<<<<< HEAD
   "id": "7a3f6a1f",
||||||| 3477967
   "id": "5f10e515",
=======
   "id": "d016b60d",
>>>>>>> 763a65aa00deab365d39bc26b2dcb2cc1410a666
=======
   "id": "1cf2362f",
>>>>>>> 61c8f4bff1b7848db82b013fbfba194514b420ca
   "metadata": {},
   "outputs": [],
   "source": [
    "sfe_tissue <- colDataUnivariate(sfe_tissue, \"LOSH\", qc_features)"
   ]
  },
  {
   "cell_type": "code",
   "execution_count": null,
<<<<<<< HEAD
<<<<<<< HEAD
<<<<<<< HEAD
   "id": "90035a2f",
||||||| 3477967
   "id": "9abd3a22",
=======
   "id": "76bbfbec",
>>>>>>> 763a65aa00deab365d39bc26b2dcb2cc1410a666
||||||| eb63ff5
   "id": "90035a2f",
=======
   "id": "86c67ac3",
>>>>>>> documentation-devel
||||||| cd53b20
<<<<<<< HEAD
   "id": "90035a2f",
||||||| 3477967
   "id": "9abd3a22",
=======
   "id": "76bbfbec",
>>>>>>> 763a65aa00deab365d39bc26b2dcb2cc1410a666
=======
   "id": "470320c4",
>>>>>>> 61c8f4bff1b7848db82b013fbfba194514b420ca
   "metadata": {
    "fig.height": 6,
    "fig.width": 8
   },
   "outputs": [],
   "source": [
    "plotLocalResult(sfe_tissue, \"LOSH\", qc_features, ncol = 2,\n",
    "                colGeometryName = \"spotPoly\", image_id = \"lowres\", maxcell = 5e4)"
   ]
  },
  {
   "cell_type": "code",
   "execution_count": null,
<<<<<<< HEAD
<<<<<<< HEAD
<<<<<<< HEAD
   "id": "7757d5ae",
||||||| 3477967
   "id": "9ce52b55",
=======
   "id": "d2bf64ec",
>>>>>>> 763a65aa00deab365d39bc26b2dcb2cc1410a666
||||||| eb63ff5
   "id": "7757d5ae",
=======
   "id": "188feb0c",
>>>>>>> documentation-devel
||||||| cd53b20
<<<<<<< HEAD
   "id": "7757d5ae",
||||||| 3477967
   "id": "9ce52b55",
=======
   "id": "d2bf64ec",
>>>>>>> 763a65aa00deab365d39bc26b2dcb2cc1410a666
=======
   "id": "e394017e",
>>>>>>> 61c8f4bff1b7848db82b013fbfba194514b420ca
   "metadata": {},
   "outputs": [],
   "source": [
    "sfe_tissue <- colDataUnivariate(sfe_tissue, \"moran.plot\", qc_features)"
   ]
  },
  {
   "cell_type": "code",
   "execution_count": null,
<<<<<<< HEAD
<<<<<<< HEAD
<<<<<<< HEAD
   "id": "65971757",
||||||| 3477967
   "id": "fde63608",
=======
   "id": "d2c088ff",
>>>>>>> 763a65aa00deab365d39bc26b2dcb2cc1410a666
||||||| eb63ff5
   "id": "65971757",
=======
   "id": "d33c8103",
>>>>>>> documentation-devel
||||||| cd53b20
<<<<<<< HEAD
   "id": "65971757",
||||||| 3477967
   "id": "fde63608",
=======
   "id": "d2c088ff",
>>>>>>> 763a65aa00deab365d39bc26b2dcb2cc1410a666
=======
   "id": "8193b104",
>>>>>>> 61c8f4bff1b7848db82b013fbfba194514b420ca
   "metadata": {},
   "outputs": [],
   "source": [
    "moranPlot(sfe_tissue, \"subsets_mito_percent\")"
   ]
  },
  {
   "cell_type": "markdown",
<<<<<<< HEAD
<<<<<<< HEAD
<<<<<<< HEAD
   "id": "48a0d2cc",
||||||| 3477967
   "id": "c2ceb31d",
=======
   "id": "96beb124",
>>>>>>> 763a65aa00deab365d39bc26b2dcb2cc1410a666
||||||| eb63ff5
   "id": "48a0d2cc",
=======
   "id": "32a8ab19",
>>>>>>> documentation-devel
||||||| cd53b20
<<<<<<< HEAD
   "id": "48a0d2cc",
||||||| 3477967
   "id": "c2ceb31d",
=======
   "id": "96beb124",
>>>>>>> 763a65aa00deab365d39bc26b2dcb2cc1410a666
=======
   "id": "1638a8fd",
>>>>>>> 61c8f4bff1b7848db82b013fbfba194514b420ca
   "metadata": {
    "lines_to_next_cell": 0
   },
   "source": [
    "# Spatial autocorrelation of gene expression\n",
    "\n",
    "Normalize data with the `scran` method, and find highly variable genes"
   ]
  },
  {
   "cell_type": "code",
   "execution_count": null,
<<<<<<< HEAD
<<<<<<< HEAD
<<<<<<< HEAD
   "id": "94e07d5b",
||||||| 3477967
   "id": "476429ca",
=======
   "id": "8743fcf2",
>>>>>>> 763a65aa00deab365d39bc26b2dcb2cc1410a666
||||||| eb63ff5
   "id": "94e07d5b",
=======
   "id": "634f2c4c",
>>>>>>> documentation-devel
||||||| cd53b20
<<<<<<< HEAD
   "id": "94e07d5b",
||||||| 3477967
   "id": "476429ca",
=======
   "id": "8743fcf2",
>>>>>>> 763a65aa00deab365d39bc26b2dcb2cc1410a666
=======
   "id": "e9d2ff71",
>>>>>>> 61c8f4bff1b7848db82b013fbfba194514b420ca
   "metadata": {},
   "outputs": [],
   "source": [
    "#clusters <- quickCluster(sfe_tissue)\n",
    "#sfe_tissue <- computeSumFactors(sfe_tissue, clusters=clusters)\n",
    "#sfe_tissue <- sfe_tissue[, sizeFactors(sfe_tissue) > 0]\n",
    "sfe_tissue <- logNormCounts(sfe_tissue)"
   ]
  },
  {
   "cell_type": "code",
   "execution_count": null,
<<<<<<< HEAD
<<<<<<< HEAD
<<<<<<< HEAD
   "id": "af536377",
||||||| 3477967
   "id": "dcaa03c2",
=======
   "id": "5306e4ed",
>>>>>>> 763a65aa00deab365d39bc26b2dcb2cc1410a666
||||||| eb63ff5
   "id": "af536377",
=======
   "id": "d769ef5c",
>>>>>>> documentation-devel
||||||| cd53b20
<<<<<<< HEAD
   "id": "af536377",
||||||| 3477967
   "id": "dcaa03c2",
=======
   "id": "5306e4ed",
>>>>>>> 763a65aa00deab365d39bc26b2dcb2cc1410a666
=======
   "id": "a95d4229",
>>>>>>> 61c8f4bff1b7848db82b013fbfba194514b420ca
   "metadata": {},
   "outputs": [],
   "source": [
    "dec <- modelGeneVar(sfe_tissue)\n",
    "hvgs <- getTopHVGs(dec, n = 2000)"
   ]
  },
  {
   "cell_type": "markdown",
<<<<<<< HEAD
<<<<<<< HEAD
<<<<<<< HEAD
   "id": "c9263115",
||||||| 3477967
   "id": "6fb81629",
=======
   "id": "550c4866",
>>>>>>> 763a65aa00deab365d39bc26b2dcb2cc1410a666
||||||| eb63ff5
   "id": "c9263115",
=======
   "id": "14793432",
>>>>>>> documentation-devel
||||||| cd53b20
<<<<<<< HEAD
   "id": "c9263115",
||||||| 3477967
   "id": "6fb81629",
=======
   "id": "550c4866",
>>>>>>> 763a65aa00deab365d39bc26b2dcb2cc1410a666
=======
   "id": "7a2580e0",
>>>>>>> 61c8f4bff1b7848db82b013fbfba194514b420ca
   "metadata": {
    "lines_to_next_cell": 0
   },
   "source": [
    "Find Moran's I for all highly variable genes:"
   ]
  },
  {
   "cell_type": "code",
   "execution_count": null,
<<<<<<< HEAD
<<<<<<< HEAD
<<<<<<< HEAD
   "id": "28350a55",
||||||| 3477967
   "id": "18f61b34",
=======
   "id": "b9adcba0",
>>>>>>> 763a65aa00deab365d39bc26b2dcb2cc1410a666
||||||| eb63ff5
   "id": "28350a55",
=======
   "id": "52e55718",
>>>>>>> documentation-devel
||||||| cd53b20
<<<<<<< HEAD
   "id": "28350a55",
||||||| 3477967
   "id": "18f61b34",
=======
   "id": "b9adcba0",
>>>>>>> 763a65aa00deab365d39bc26b2dcb2cc1410a666
=======
   "id": "98fa8950",
>>>>>>> 61c8f4bff1b7848db82b013fbfba194514b420ca
   "metadata": {},
   "outputs": [],
   "source": [
    "sfe_tissue <- runMoransI(sfe_tissue, features = hvgs, BPPARAM = MulticoreParam(2))"
   ]
  },
  {
   "cell_type": "code",
   "execution_count": null,
<<<<<<< HEAD
<<<<<<< HEAD
<<<<<<< HEAD
   "id": "0389bcd4",
||||||| 3477967
   "id": "45c7bbf0",
=======
   "id": "e58caa13",
>>>>>>> 763a65aa00deab365d39bc26b2dcb2cc1410a666
||||||| eb63ff5
   "id": "0389bcd4",
=======
   "id": "8354276a",
>>>>>>> documentation-devel
||||||| cd53b20
<<<<<<< HEAD
   "id": "0389bcd4",
||||||| 3477967
   "id": "45c7bbf0",
=======
   "id": "e58caa13",
>>>>>>> 763a65aa00deab365d39bc26b2dcb2cc1410a666
=======
   "id": "da1e3349",
>>>>>>> 61c8f4bff1b7848db82b013fbfba194514b420ca
   "metadata": {},
   "outputs": [],
   "source": [
    "plotRowDataHistogram(sfe_tissue, \"moran_sample01\")"
   ]
  },
  {
   "cell_type": "markdown",
<<<<<<< HEAD
<<<<<<< HEAD
<<<<<<< HEAD
   "id": "788fb7ef",
||||||| 3477967
   "id": "8c98d776",
=======
   "id": "8cf756cf",
>>>>>>> 763a65aa00deab365d39bc26b2dcb2cc1410a666
||||||| eb63ff5
   "id": "788fb7ef",
=======
   "id": "6e91f486",
>>>>>>> documentation-devel
||||||| cd53b20
<<<<<<< HEAD
   "id": "788fb7ef",
||||||| 3477967
   "id": "8c98d776",
=======
   "id": "8cf756cf",
>>>>>>> 763a65aa00deab365d39bc26b2dcb2cc1410a666
=======
   "id": "a295226d",
>>>>>>> 61c8f4bff1b7848db82b013fbfba194514b420ca
   "metadata": {
    "lines_to_next_cell": 0
   },
   "source": [
    "The vast majority of genes have positive Moran's I. Here we'll find the genes with the highest Moran's I:"
   ]
  },
  {
   "cell_type": "code",
   "execution_count": null,
<<<<<<< HEAD
<<<<<<< HEAD
<<<<<<< HEAD
   "id": "57663867",
||||||| 3477967
   "id": "5ddc2b4e",
=======
   "id": "6bb9dcc5",
>>>>>>> 763a65aa00deab365d39bc26b2dcb2cc1410a666
||||||| eb63ff5
   "id": "57663867",
=======
   "id": "22c320e6",
>>>>>>> documentation-devel
||||||| cd53b20
<<<<<<< HEAD
   "id": "57663867",
||||||| 3477967
   "id": "5ddc2b4e",
=======
   "id": "6bb9dcc5",
>>>>>>> 763a65aa00deab365d39bc26b2dcb2cc1410a666
=======
   "id": "33b07834",
>>>>>>> 61c8f4bff1b7848db82b013fbfba194514b420ca
   "metadata": {},
   "outputs": [],
   "source": [
    "top_moran <- rownames(sfe_tissue)[order(rowData(sfe_tissue)$moran_sample01, \n",
    "                                        decreasing = TRUE)[1:9]]"
   ]
  },
  {
   "cell_type": "markdown",
<<<<<<< HEAD
<<<<<<< HEAD
<<<<<<< HEAD
   "id": "78339364",
||||||| 3477967
   "id": "a91d05a7",
=======
   "id": "0056adc2",
>>>>>>> 763a65aa00deab365d39bc26b2dcb2cc1410a666
||||||| eb63ff5
   "id": "78339364",
=======
   "id": "3a77373a",
>>>>>>> documentation-devel
||||||| cd53b20
<<<<<<< HEAD
   "id": "78339364",
||||||| 3477967
   "id": "a91d05a7",
=======
   "id": "0056adc2",
>>>>>>> 763a65aa00deab365d39bc26b2dcb2cc1410a666
=======
   "id": "f23910d8",
>>>>>>> 61c8f4bff1b7848db82b013fbfba194514b420ca
   "metadata": {
    "lines_to_next_cell": 0
   },
   "source": [
    "We can use the [gget info](https://pachterlab.github.io/gget/info.html) module from the [gget](https://pachterlab.github.io/gget/) package to get additional information on these genes, such as their descriptions, synonyms, transcripts and more from a collection of reference databases including [Ensembl](https://ensembl.org/), [UniProt](https://www.uniprot.org/) and [NCBI](https://www.ncbi.nlm.nih.gov/) Here, we are showing their gene descriptions from [NCBI](https://www.ncbi.nlm.nih.gov/):"
   ]
  },
  {
   "cell_type": "code",
   "execution_count": null,
<<<<<<< HEAD
<<<<<<< HEAD
<<<<<<< HEAD
   "id": "3465c939",
||||||| 3477967
   "id": "9324405d",
=======
   "id": "ab3c4a09",
>>>>>>> 763a65aa00deab365d39bc26b2dcb2cc1410a666
||||||| eb63ff5
   "id": "3465c939",
=======
   "id": "40e05585",
>>>>>>> documentation-devel
||||||| cd53b20
<<<<<<< HEAD
   "id": "3465c939",
||||||| 3477967
   "id": "9324405d",
=======
   "id": "ab3c4a09",
>>>>>>> 763a65aa00deab365d39bc26b2dcb2cc1410a666
=======
   "id": "31e53336",
>>>>>>> 61c8f4bff1b7848db82b013fbfba194514b420ca
   "metadata": {},
   "outputs": [],
   "source": [
    "gget_info <- gget$info(top_moran)\n",
    "\n",
    "rownames(gget_info) <- gget_info$primary_gene_name\n",
    "select(gget_info, ncbi_description)"
   ]
  },
  {
   "cell_type": "markdown",
<<<<<<< HEAD
<<<<<<< HEAD
<<<<<<< HEAD
   "id": "ad6dd0a4",
||||||| 3477967
   "id": "46788afa",
=======
   "id": "41cee736",
>>>>>>> 763a65aa00deab365d39bc26b2dcb2cc1410a666
||||||| eb63ff5
   "id": "ad6dd0a4",
=======
   "id": "72567436",
>>>>>>> documentation-devel
||||||| cd53b20
<<<<<<< HEAD
   "id": "ad6dd0a4",
||||||| 3477967
   "id": "46788afa",
=======
   "id": "41cee736",
>>>>>>> 763a65aa00deab365d39bc26b2dcb2cc1410a666
=======
   "id": "da1d5931",
>>>>>>> 61c8f4bff1b7848db82b013fbfba194514b420ca
   "metadata": {
    "lines_to_next_cell": 0
   },
   "source": [
    "Plot the genes with the highest Moran's I:"
   ]
  },
  {
   "cell_type": "code",
   "execution_count": null,
<<<<<<< HEAD
<<<<<<< HEAD
<<<<<<< HEAD
   "id": "ef7521f6",
||||||| 3477967
   "id": "819f69a2",
=======
   "id": "6f7e26c8",
>>>>>>> 763a65aa00deab365d39bc26b2dcb2cc1410a666
||||||| eb63ff5
   "id": "ef7521f6",
=======
   "id": "03112f02",
>>>>>>> documentation-devel
||||||| cd53b20
<<<<<<< HEAD
   "id": "ef7521f6",
||||||| 3477967
   "id": "819f69a2",
=======
   "id": "6f7e26c8",
>>>>>>> 763a65aa00deab365d39bc26b2dcb2cc1410a666
=======
   "id": "c4d874d8",
>>>>>>> 61c8f4bff1b7848db82b013fbfba194514b420ca
   "metadata": {
    "fig.height": 5,
    "fig.width": 9
   },
   "outputs": [],
   "source": [
    "plotSpatialFeature(sfe_tissue, top_moran, ncol = 3, image_id = \"lowres\",\n",
    "                   maxcell = 5e4, swap_rownames = \"symbol\")"
   ]
  },
  {
   "cell_type": "markdown",
<<<<<<< HEAD
<<<<<<< HEAD
<<<<<<< HEAD
   "id": "c453eeb6",
||||||| 3477967
   "id": "43f71bcf",
=======
   "id": "6225cb5a",
>>>>>>> 763a65aa00deab365d39bc26b2dcb2cc1410a666
||||||| eb63ff5
   "id": "c453eeb6",
=======
   "id": "018d21f2",
>>>>>>> documentation-devel
||||||| cd53b20
<<<<<<< HEAD
   "id": "c453eeb6",
||||||| 3477967
   "id": "43f71bcf",
=======
   "id": "6225cb5a",
>>>>>>> 763a65aa00deab365d39bc26b2dcb2cc1410a666
=======
   "id": "5d0152ec",
>>>>>>> 61c8f4bff1b7848db82b013fbfba194514b420ca
   "metadata": {
    "lines_to_next_cell": 0
   },
   "source": [
    "Here global Moran's I seems to be more about tissue structure. \n",
    "\n",
    "Some genes have negative Moran's I that might not be statistically significant:"
   ]
  },
  {
   "cell_type": "code",
   "execution_count": null,
<<<<<<< HEAD
<<<<<<< HEAD
<<<<<<< HEAD
   "id": "6efeaf8d",
||||||| 3477967
   "id": "b9a79efa",
=======
   "id": "739ab98d",
>>>>>>> 763a65aa00deab365d39bc26b2dcb2cc1410a666
||||||| eb63ff5
   "id": "6efeaf8d",
=======
   "id": "0695fcfd",
>>>>>>> documentation-devel
||||||| cd53b20
<<<<<<< HEAD
   "id": "6efeaf8d",
||||||| 3477967
   "id": "b9a79efa",
=======
   "id": "739ab98d",
>>>>>>> 763a65aa00deab365d39bc26b2dcb2cc1410a666
=======
   "id": "74409f9d",
>>>>>>> 61c8f4bff1b7848db82b013fbfba194514b420ca
   "metadata": {},
   "outputs": [],
   "source": [
    "neg_moran <- rownames(sfe_tissue)[order(rowData(sfe_tissue)$moran_sample01, \n",
    "                                        decreasing = FALSE)[1:9]]"
   ]
  },
  {
   "cell_type": "code",
   "execution_count": null,
<<<<<<< HEAD
<<<<<<< HEAD
<<<<<<< HEAD
   "id": "c09ef905",
||||||| 3477967
   "id": "e214f496",
=======
   "id": "5706f053",
>>>>>>> 763a65aa00deab365d39bc26b2dcb2cc1410a666
||||||| eb63ff5
   "id": "c09ef905",
=======
   "id": "d1aeeed8",
>>>>>>> documentation-devel
||||||| cd53b20
<<<<<<< HEAD
   "id": "c09ef905",
||||||| 3477967
   "id": "e214f496",
=======
   "id": "5706f053",
>>>>>>> 763a65aa00deab365d39bc26b2dcb2cc1410a666
=======
   "id": "2316002b",
>>>>>>> 61c8f4bff1b7848db82b013fbfba194514b420ca
   "metadata": {},
   "outputs": [],
   "source": [
    "# Display NCBI descriptions for these genes\n",
    "gget_info_neg <- gget$info(neg_moran)\n",
    "\n",
    "rownames(gget_info_neg) <- gget_info_neg$primary_gene_name\n",
    "select(gget_info_neg, ncbi_description)"
   ]
  },
  {
   "cell_type": "code",
   "execution_count": null,
<<<<<<< HEAD
<<<<<<< HEAD
<<<<<<< HEAD
   "id": "042282b7",
||||||| 3477967
   "id": "d0f270e3",
=======
   "id": "e355a94a",
>>>>>>> 763a65aa00deab365d39bc26b2dcb2cc1410a666
||||||| eb63ff5
   "id": "042282b7",
=======
   "id": "b6a8f426",
>>>>>>> documentation-devel
||||||| cd53b20
<<<<<<< HEAD
   "id": "042282b7",
||||||| 3477967
   "id": "d0f270e3",
=======
   "id": "e355a94a",
>>>>>>> 763a65aa00deab365d39bc26b2dcb2cc1410a666
=======
   "id": "57245afd",
>>>>>>> 61c8f4bff1b7848db82b013fbfba194514b420ca
   "metadata": {
    "fig.height": 5,
    "fig.width": 9
   },
   "outputs": [],
   "source": [
    "plotSpatialFeature(sfe_tissue, neg_moran, ncol = 3, swap_rownames = \"symbol\",\n",
    "                   image_id = \"lowres\", maxcell = 5e4)"
   ]
  },
  {
   "cell_type": "code",
   "execution_count": null,
<<<<<<< HEAD
<<<<<<< HEAD
<<<<<<< HEAD
   "id": "74bd4360",
||||||| 3477967
   "id": "42edb7bd",
=======
   "id": "d7f5f2c5",
>>>>>>> 763a65aa00deab365d39bc26b2dcb2cc1410a666
||||||| eb63ff5
   "id": "74bd4360",
=======
   "id": "d6b4be65",
>>>>>>> documentation-devel
||||||| cd53b20
<<<<<<< HEAD
   "id": "74bd4360",
||||||| 3477967
   "id": "42edb7bd",
=======
   "id": "d7f5f2c5",
>>>>>>> 763a65aa00deab365d39bc26b2dcb2cc1410a666
=======
   "id": "9144118a",
>>>>>>> 61c8f4bff1b7848db82b013fbfba194514b420ca
   "metadata": {},
   "outputs": [],
   "source": [
    "sfe_tissue <- runUnivariate(sfe_tissue, \"moran.mc\", neg_moran, \n",
    "                            colGraphName = \"visium\", nsim = 200, alternative = \"less\")"
   ]
  },
  {
   "cell_type": "code",
   "execution_count": null,
<<<<<<< HEAD
<<<<<<< HEAD
<<<<<<< HEAD
   "id": "dfd7ab77",
||||||| 3477967
   "id": "f02d0ffd",
=======
   "id": "dda950c0",
>>>>>>> 763a65aa00deab365d39bc26b2dcb2cc1410a666
||||||| eb63ff5
   "id": "dfd7ab77",
=======
   "id": "0ac6721f",
>>>>>>> documentation-devel
||||||| cd53b20
<<<<<<< HEAD
   "id": "dfd7ab77",
||||||| 3477967
   "id": "f02d0ffd",
=======
   "id": "dda950c0",
>>>>>>> 763a65aa00deab365d39bc26b2dcb2cc1410a666
=======
   "id": "7908c926",
>>>>>>> 61c8f4bff1b7848db82b013fbfba194514b420ca
   "metadata": {},
   "outputs": [],
   "source": [
    "plotMoranMC(sfe_tissue, neg_moran, swap_rownames = \"symbol\")"
   ]
  },
  {
   "cell_type": "code",
   "execution_count": null,
<<<<<<< HEAD
<<<<<<< HEAD
<<<<<<< HEAD
   "id": "619453be",
||||||| 3477967
   "id": "c87b1c02",
=======
   "id": "b3c4a8df",
>>>>>>> 763a65aa00deab365d39bc26b2dcb2cc1410a666
||||||| eb63ff5
   "id": "619453be",
=======
   "id": "47ac01fe",
>>>>>>> documentation-devel
||||||| cd53b20
<<<<<<< HEAD
   "id": "619453be",
||||||| 3477967
   "id": "c87b1c02",
=======
   "id": "b3c4a8df",
>>>>>>> 763a65aa00deab365d39bc26b2dcb2cc1410a666
=======
   "id": "ad890f1f",
>>>>>>> 61c8f4bff1b7848db82b013fbfba194514b420ca
   "metadata": {},
   "outputs": [],
   "source": [
    "rowData(sfe_tissue)[neg_moran, c(\"moran_sample01\", \"moran.mc_p.value_sample01\")]"
   ]
  },
  {
   "cell_type": "markdown",
<<<<<<< HEAD
<<<<<<< HEAD
<<<<<<< HEAD
   "id": "3e1e20f1",
||||||| 3477967
   "id": "9c54b495",
=======
   "id": "486ce7c3",
>>>>>>> 763a65aa00deab365d39bc26b2dcb2cc1410a666
||||||| eb63ff5
   "id": "3e1e20f1",
=======
   "id": "d36fd23b",
>>>>>>> documentation-devel
||||||| cd53b20
<<<<<<< HEAD
   "id": "3e1e20f1",
||||||| 3477967
   "id": "9c54b495",
=======
   "id": "486ce7c3",
>>>>>>> 763a65aa00deab365d39bc26b2dcb2cc1410a666
=======
   "id": "9c1b8929",
>>>>>>> 61c8f4bff1b7848db82b013fbfba194514b420ca
   "metadata": {},
   "source": [
    "As there are 2000 highly variable genes and 2000 tests, these would no longer be significant after correcting for multiple testing. \n",
    "\n",
    "Does global Moran's I relate to gene expression level?"
   ]
  },
  {
   "cell_type": "code",
   "execution_count": null,
<<<<<<< HEAD
<<<<<<< HEAD
<<<<<<< HEAD
   "id": "661013e2",
||||||| 3477967
   "id": "bf0f86e2",
=======
   "id": "97b2c9d7",
>>>>>>> 763a65aa00deab365d39bc26b2dcb2cc1410a666
||||||| eb63ff5
   "id": "661013e2",
=======
   "id": "8f3a3fff",
>>>>>>> documentation-devel
||||||| cd53b20
<<<<<<< HEAD
   "id": "661013e2",
||||||| 3477967
   "id": "bf0f86e2",
=======
   "id": "97b2c9d7",
>>>>>>> 763a65aa00deab365d39bc26b2dcb2cc1410a666
=======
   "id": "f85fdc59",
>>>>>>> 61c8f4bff1b7848db82b013fbfba194514b420ca
   "metadata": {},
   "outputs": [],
   "source": [
    "sfe_tissue <- addPerFeatureQCMetrics(sfe_tissue)\n",
    "names(rowData(sfe_tissue))"
   ]
  },
  {
   "cell_type": "code",
   "execution_count": null,
<<<<<<< HEAD
<<<<<<< HEAD
<<<<<<< HEAD
   "id": "44ff24aa",
||||||| 3477967
   "id": "bf7efaf1",
=======
   "id": "cb883aee",
>>>>>>> 763a65aa00deab365d39bc26b2dcb2cc1410a666
||||||| eb63ff5
   "id": "44ff24aa",
=======
   "id": "6f02325f",
>>>>>>> documentation-devel
||||||| cd53b20
<<<<<<< HEAD
   "id": "44ff24aa",
||||||| 3477967
   "id": "bf7efaf1",
=======
   "id": "cb883aee",
>>>>>>> 763a65aa00deab365d39bc26b2dcb2cc1410a666
=======
   "id": "60a24363",
>>>>>>> 61c8f4bff1b7848db82b013fbfba194514b420ca
   "metadata": {},
   "outputs": [],
   "source": [
    "plotRowData(sfe_tissue, x = \"mean\", y = \"moran_sample01\") +\n",
    "    scale_x_log10() +\n",
    "    annotation_logticks(sides = \"b\") +\n",
    "    geom_density2d()"
   ]
  },
  {
   "cell_type": "markdown",
<<<<<<< HEAD
<<<<<<< HEAD
<<<<<<< HEAD
   "id": "06c99ea1",
||||||| 3477967
   "id": "98b376c1",
=======
   "id": "2d30151d",
>>>>>>> 763a65aa00deab365d39bc26b2dcb2cc1410a666
||||||| eb63ff5
   "id": "06c99ea1",
=======
   "id": "1962bd35",
>>>>>>> documentation-devel
||||||| cd53b20
<<<<<<< HEAD
   "id": "06c99ea1",
||||||| 3477967
   "id": "98b376c1",
=======
   "id": "2d30151d",
>>>>>>> 763a65aa00deab365d39bc26b2dcb2cc1410a666
=======
   "id": "7d33127a",
>>>>>>> 61c8f4bff1b7848db82b013fbfba194514b420ca
   "metadata": {
    "lines_to_next_cell": 0
   },
   "source": [
    "Genes that are more highly expressed overall tend to have higher Moran's I. \n",
    "\n",
    "# Apply spatial analysis methods to gene expression space\n",
    "Spatial statistics that require a spatial neighborhood graph can also be applied to the k nearest neighbor graph not in histological space but in gene expression space. This is done in more depth in [this vignette](https://pachterlab.github.io/voyager/articles/nonspatial.html)."
   ]
  },
  {
   "cell_type": "code",
   "execution_count": null,
<<<<<<< HEAD
<<<<<<< HEAD
<<<<<<< HEAD
   "id": "0c2ccb1f",
||||||| 3477967
   "id": "0a140a3b",
=======
   "id": "121bba9f",
>>>>>>> 763a65aa00deab365d39bc26b2dcb2cc1410a666
||||||| eb63ff5
   "id": "0c2ccb1f",
=======
   "id": "7526f19d",
>>>>>>> documentation-devel
||||||| cd53b20
<<<<<<< HEAD
   "id": "0c2ccb1f",
||||||| 3477967
   "id": "0a140a3b",
=======
   "id": "121bba9f",
>>>>>>> 763a65aa00deab365d39bc26b2dcb2cc1410a666
=======
   "id": "000ead07",
>>>>>>> 61c8f4bff1b7848db82b013fbfba194514b420ca
   "metadata": {},
   "outputs": [],
   "source": [
    "sfe_tissue <- runPCA(sfe_tissue, ncomponents = 30, subset_row = hvgs,\n",
    "                     scale = TRUE) # scale as in Seurat"
   ]
  },
  {
   "cell_type": "code",
   "execution_count": null,
<<<<<<< HEAD
<<<<<<< HEAD
<<<<<<< HEAD
   "id": "85aac8f8",
||||||| 3477967
   "id": "9ba83a01",
=======
   "id": "88607e30",
>>>>>>> 763a65aa00deab365d39bc26b2dcb2cc1410a666
||||||| eb63ff5
   "id": "85aac8f8",
=======
   "id": "5f97b43c",
>>>>>>> documentation-devel
||||||| cd53b20
<<<<<<< HEAD
   "id": "85aac8f8",
||||||| 3477967
   "id": "9ba83a01",
=======
   "id": "88607e30",
>>>>>>> 763a65aa00deab365d39bc26b2dcb2cc1410a666
=======
   "id": "42e2caed",
>>>>>>> 61c8f4bff1b7848db82b013fbfba194514b420ca
   "metadata": {},
   "outputs": [],
   "source": [
    "foo <- findKNN(reducedDim(sfe_tissue, \"PCA\")[,1:10], k=10, BNPARAM=AnnoyParam())\n",
    "# Split by row\n",
    "foo_nb <- asplit(foo$index, 1)\n",
    "dmat <- 1/foo$distance\n",
    "# Row normalize the weights\n",
    "dmat <- sweep(dmat, 1, rowSums(dmat), FUN = \"/\")\n",
    "glist <- asplit(dmat, 1)\n",
    "# Sort based on index\n",
    "ord <- lapply(foo_nb, order)\n",
    "foo_nb <- lapply(seq_along(foo_nb), function(i) foo_nb[[i]][ord[[i]]])\n",
    "class(foo_nb) <- \"nb\"\n",
    "glist <- lapply(seq_along(glist), function(i) glist[[i]][ord[[i]]])\n",
    "\n",
    "listw <- list(style = \"W\",\n",
    "              neighbours = foo_nb,\n",
    "              weights = glist)\n",
    "class(listw) <- \"listw\"\n",
    "attr(listw, \"region.id\") <- colnames(sfe_tissue)"
   ]
  },
  {
   "cell_type": "code",
   "execution_count": null,
<<<<<<< HEAD
<<<<<<< HEAD
<<<<<<< HEAD
   "id": "79a6ae15",
||||||| 3477967
   "id": "01bd3f8d",
=======
   "id": "a21996f3",
>>>>>>> 763a65aa00deab365d39bc26b2dcb2cc1410a666
||||||| eb63ff5
   "id": "79a6ae15",
=======
   "id": "2dbe1aa4",
>>>>>>> documentation-devel
||||||| cd53b20
<<<<<<< HEAD
   "id": "79a6ae15",
||||||| 3477967
   "id": "01bd3f8d",
=======
   "id": "a21996f3",
>>>>>>> 763a65aa00deab365d39bc26b2dcb2cc1410a666
=======
   "id": "5b7b4fe5",
>>>>>>> 61c8f4bff1b7848db82b013fbfba194514b420ca
   "metadata": {},
   "outputs": [],
   "source": [
    "colGraph(sfe_tissue, \"knn10\") <- listw"
   ]
  },
  {
   "cell_type": "code",
   "execution_count": null,
<<<<<<< HEAD
<<<<<<< HEAD
<<<<<<< HEAD
   "id": "7b4b1205",
||||||| 3477967
   "id": "e732953c",
=======
   "id": "42249303",
>>>>>>> 763a65aa00deab365d39bc26b2dcb2cc1410a666
||||||| eb63ff5
   "id": "7b4b1205",
=======
   "id": "9b208c09",
>>>>>>> documentation-devel
||||||| cd53b20
<<<<<<< HEAD
   "id": "7b4b1205",
||||||| 3477967
   "id": "e732953c",
=======
   "id": "42249303",
>>>>>>> 763a65aa00deab365d39bc26b2dcb2cc1410a666
=======
   "id": "bcd90b20",
>>>>>>> 61c8f4bff1b7848db82b013fbfba194514b420ca
   "metadata": {},
   "outputs": [],
   "source": [
    "sfe_tissue <- runMoransI(sfe_tissue, features = hvgs, BPPARAM = MulticoreParam(2),\n",
    "                         colGraphName = \"knn10\", name = \"moran_ns\")"
   ]
  },
  {
   "cell_type": "markdown",
<<<<<<< HEAD
<<<<<<< HEAD
<<<<<<< HEAD
   "id": "be507d08",
||||||| 3477967
   "id": "51da726d",
=======
   "id": "ec5aad75",
>>>>>>> 763a65aa00deab365d39bc26b2dcb2cc1410a666
||||||| eb63ff5
   "id": "be507d08",
=======
   "id": "cba3f262",
>>>>>>> documentation-devel
||||||| cd53b20
<<<<<<< HEAD
   "id": "be507d08",
||||||| 3477967
   "id": "51da726d",
=======
   "id": "ec5aad75",
>>>>>>> 763a65aa00deab365d39bc26b2dcb2cc1410a666
=======
   "id": "3f44dfda",
>>>>>>> 61c8f4bff1b7848db82b013fbfba194514b420ca
   "metadata": {
    "lines_to_next_cell": 0
   },
   "source": [
    "Here we store the results in \"moran_ns\", not to be confused with spatial Moran's I results.\n",
    "\n",
    "These are the genes that tend to be more similar to their neighbors in the 10 nearest neighbor graph in PCA space for gene expression rather than in histological space:"
   ]
  },
  {
   "cell_type": "code",
   "execution_count": null,
<<<<<<< HEAD
<<<<<<< HEAD
<<<<<<< HEAD
   "id": "8c180198",
||||||| 3477967
   "id": "73fa3236",
=======
   "id": "1a16216b",
>>>>>>> 763a65aa00deab365d39bc26b2dcb2cc1410a666
||||||| eb63ff5
   "id": "8c180198",
=======
   "id": "a02c3f09",
>>>>>>> documentation-devel
||||||| cd53b20
<<<<<<< HEAD
   "id": "8c180198",
||||||| 3477967
   "id": "73fa3236",
=======
   "id": "1a16216b",
>>>>>>> 763a65aa00deab365d39bc26b2dcb2cc1410a666
=======
   "id": "329ab7ba",
>>>>>>> 61c8f4bff1b7848db82b013fbfba194514b420ca
   "metadata": {},
   "outputs": [],
   "source": [
    "top_moran2 <- rownames(sfe_tissue)[order(rowData(sfe_tissue)$moran_ns_sample01, \n",
    "                                        decreasing = TRUE)[1:9]]"
   ]
  },
  {
   "cell_type": "code",
   "execution_count": null,
<<<<<<< HEAD
<<<<<<< HEAD
<<<<<<< HEAD
   "id": "654841f2",
||||||| 3477967
   "id": "2a1799d0",
=======
   "id": "01c04b13",
>>>>>>> 763a65aa00deab365d39bc26b2dcb2cc1410a666
||||||| eb63ff5
   "id": "654841f2",
=======
   "id": "bdaa6f3b",
>>>>>>> documentation-devel
||||||| cd53b20
<<<<<<< HEAD
   "id": "654841f2",
||||||| 3477967
   "id": "2a1799d0",
=======
   "id": "01c04b13",
>>>>>>> 763a65aa00deab365d39bc26b2dcb2cc1410a666
=======
   "id": "57ab57a1",
>>>>>>> 61c8f4bff1b7848db82b013fbfba194514b420ca
   "metadata": {},
   "outputs": [],
   "source": [
    "# Display NCBI descriptions for these genes\n",
    "gget_info2 <- gget$info(top_moran2)\n",
    "\n",
    "rownames(gget_info2) <- gget_info2$primary_gene_name\n",
    "select(gget_info2, ncbi_description)"
   ]
  },
  {
   "cell_type": "code",
   "execution_count": null,
<<<<<<< HEAD
<<<<<<< HEAD
<<<<<<< HEAD
   "id": "0487de3a",
||||||| 3477967
   "id": "762f3828",
=======
   "id": "22a66c5e",
>>>>>>> 763a65aa00deab365d39bc26b2dcb2cc1410a666
||||||| eb63ff5
   "id": "0487de3a",
=======
   "id": "bf2d16a7",
>>>>>>> documentation-devel
||||||| cd53b20
<<<<<<< HEAD
   "id": "0487de3a",
||||||| 3477967
   "id": "762f3828",
=======
   "id": "22a66c5e",
>>>>>>> 763a65aa00deab365d39bc26b2dcb2cc1410a666
=======
   "id": "8df4049d",
>>>>>>> 61c8f4bff1b7848db82b013fbfba194514b420ca
   "metadata": {
    "fig.height": 6,
    "fig.width": 9
   },
   "outputs": [],
   "source": [
    "plotSpatialFeature(sfe_tissue, top_moran2, ncol = 3, swap_rownames = \"symbol\",\n",
    "                   image_id = \"lowres\", maxcell = 5e4)"
   ]
  },
  {
   "cell_type": "markdown",
<<<<<<< HEAD
<<<<<<< HEAD
<<<<<<< HEAD
   "id": "fad99b9b",
||||||| 3477967
   "id": "cdd672fc",
=======
   "id": "8eb7a9ef",
>>>>>>> 763a65aa00deab365d39bc26b2dcb2cc1410a666
||||||| eb63ff5
   "id": "fad99b9b",
=======
   "id": "2896ea2e",
>>>>>>> documentation-devel
||||||| cd53b20
<<<<<<< HEAD
   "id": "fad99b9b",
||||||| 3477967
   "id": "cdd672fc",
=======
   "id": "8eb7a9ef",
>>>>>>> 763a65aa00deab365d39bc26b2dcb2cc1410a666
=======
   "id": "91214324",
>>>>>>> 61c8f4bff1b7848db82b013fbfba194514b420ca
   "metadata": {},
   "source": [
    "Although this Moran's I was not computed in histological space, these genes with the highest Moran's I in PCA space also show spatial structure, as different cell types reside in different spatial regions.\n",
    "\n",
    "# Session info"
   ]
  },
  {
   "cell_type": "code",
   "execution_count": null,
<<<<<<< HEAD
<<<<<<< HEAD
<<<<<<< HEAD
   "id": "bbf840e8",
||||||| 3477967
   "id": "e9376bad",
=======
   "id": "5e70d60d",
>>>>>>> 763a65aa00deab365d39bc26b2dcb2cc1410a666
||||||| eb63ff5
   "id": "bbf840e8",
=======
   "id": "95f9d8dc",
>>>>>>> documentation-devel
||||||| cd53b20
<<<<<<< HEAD
   "id": "bbf840e8",
||||||| 3477967
   "id": "e9376bad",
=======
   "id": "5e70d60d",
>>>>>>> 763a65aa00deab365d39bc26b2dcb2cc1410a666
=======
   "id": "c9dbef8a",
>>>>>>> 61c8f4bff1b7848db82b013fbfba194514b420ca
   "metadata": {
    "lines_to_next_cell": 0
   },
   "outputs": [],
   "source": [
    "sessionInfo()"
   ]
  },
  {
   "cell_type": "markdown",
<<<<<<< HEAD
<<<<<<< HEAD
<<<<<<< HEAD
   "id": "af02e869",
||||||| 3477967
   "id": "53f5f6bd",
=======
   "id": "2923c7be",
>>>>>>> 763a65aa00deab365d39bc26b2dcb2cc1410a666
||||||| eb63ff5
   "id": "af02e869",
=======
   "id": "6d053e2c",
>>>>>>> documentation-devel
||||||| cd53b20
<<<<<<< HEAD
   "id": "af02e869",
||||||| 3477967
   "id": "53f5f6bd",
=======
   "id": "2923c7be",
>>>>>>> 763a65aa00deab365d39bc26b2dcb2cc1410a666
=======
   "id": "bfd8e251",
>>>>>>> 61c8f4bff1b7848db82b013fbfba194514b420ca
   "metadata": {},
   "source": []
  }
 ],
 "metadata": {
  "kernelspec": {
   "display_name": "R",
   "language": "R",
   "name": "ir"
  }
 },
 "nbformat": 4,
 "nbformat_minor": 5
}
