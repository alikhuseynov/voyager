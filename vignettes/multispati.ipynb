{
 "cells": [
  {
   "cell_type": "raw",
<<<<<<< HEAD
<<<<<<< HEAD
<<<<<<< HEAD
<<<<<<< HEAD
<<<<<<< HEAD
<<<<<<< HEAD
<<<<<<< HEAD
   "id": "45e9946e",
||||||| 6a30bf1
   "id": "b2e3f5fd",
=======
   "id": "7b3977a1",
>>>>>>> documentation-devel
||||||| d28b18c
   "id": "7b3977a1",
=======
   "id": "5edc9737",
>>>>>>> documentation-devel
||||||| 6893f63
<<<<<<< HEAD
   "id": "45e9946e",
||||||| 6a30bf1
   "id": "b2e3f5fd",
=======
   "id": "7b3977a1",
>>>>>>> documentation-devel
=======
   "id": "b4b93923",
>>>>>>> c74c98c2450c2a1ba922ed9442f136238d6bc88b
||||||| 6d93b645
   "id": "5edc9737",
=======
   "id": "4cb36877",
>>>>>>> documentation-devel
||||||| 804edffb
<<<<<<< HEAD
<<<<<<< HEAD
<<<<<<< HEAD
   "id": "45e9946e",
||||||| 6a30bf1
   "id": "b2e3f5fd",
=======
   "id": "7b3977a1",
>>>>>>> documentation-devel
||||||| d28b18c
   "id": "7b3977a1",
=======
   "id": "5edc9737",
>>>>>>> documentation-devel
||||||| 6893f63
<<<<<<< HEAD
   "id": "45e9946e",
||||||| 6a30bf1
   "id": "b2e3f5fd",
=======
   "id": "7b3977a1",
>>>>>>> documentation-devel
=======
   "id": "b4b93923",
>>>>>>> c74c98c2450c2a1ba922ed9442f136238d6bc88b
=======
   "id": "b5e85c17",
>>>>>>> 035bb2637984ead2784fecff78c0c60cc4181202
||||||| 3effdfa5
   "id": "4cb36877",
=======
   "id": "2e719bd5",
>>>>>>> documentation-devel
||||||| 96c826da
<<<<<<< HEAD
<<<<<<< HEAD
<<<<<<< HEAD
<<<<<<< HEAD
<<<<<<< HEAD
   "id": "45e9946e",
||||||| 6a30bf1
   "id": "b2e3f5fd",
=======
   "id": "7b3977a1",
>>>>>>> documentation-devel
||||||| d28b18c
   "id": "7b3977a1",
=======
   "id": "5edc9737",
>>>>>>> documentation-devel
||||||| 6893f63
<<<<<<< HEAD
   "id": "45e9946e",
||||||| 6a30bf1
   "id": "b2e3f5fd",
=======
   "id": "7b3977a1",
>>>>>>> documentation-devel
=======
   "id": "b4b93923",
>>>>>>> c74c98c2450c2a1ba922ed9442f136238d6bc88b
||||||| 6d93b645
   "id": "5edc9737",
=======
   "id": "4cb36877",
>>>>>>> documentation-devel
||||||| 804edffb
<<<<<<< HEAD
<<<<<<< HEAD
<<<<<<< HEAD
   "id": "45e9946e",
||||||| 6a30bf1
   "id": "b2e3f5fd",
=======
   "id": "7b3977a1",
>>>>>>> documentation-devel
||||||| d28b18c
   "id": "7b3977a1",
=======
   "id": "5edc9737",
>>>>>>> documentation-devel
||||||| 6893f63
<<<<<<< HEAD
   "id": "45e9946e",
||||||| 6a30bf1
   "id": "b2e3f5fd",
=======
   "id": "7b3977a1",
>>>>>>> documentation-devel
=======
   "id": "b4b93923",
>>>>>>> c74c98c2450c2a1ba922ed9442f136238d6bc88b
=======
   "id": "b5e85c17",
>>>>>>> 035bb2637984ead2784fecff78c0c60cc4181202
=======
   "id": "7a3c8443",
>>>>>>> 619c01f26351d57ac14d974b7af136ac5756103f
   "metadata": {},
   "source": [
    "---\n",
    "title: \"MULTISPATI PCA and negative spatial autocorrelation\"\n",
    "author: \"Lambda Moses\"\n",
    "date: \"`r Sys.Date()`\"\n",
    "output: \n",
    "  html_document:\n",
    "  toc: true\n",
    "  toc_float:\n",
    "    collapsed: false\n",
    "  toc_depth: 3\n",
    "bibliography: ref.bib\n",
    "vignette: >\n",
    "  %\\VignetteIndexEntry{multispati}\n",
    "  %\\VignetteEngine{knitr::rmarkdown}\n",
    "  %\\VignetteEncoding{UTF-8}\n",
    "---"
   ]
  },
  {
   "cell_type": "code",
   "execution_count": null,
<<<<<<< HEAD
<<<<<<< HEAD
<<<<<<< HEAD
<<<<<<< HEAD
<<<<<<< HEAD
<<<<<<< HEAD
<<<<<<< HEAD
   "id": "2c6ca6af",
||||||| 6a30bf1
   "id": "b7e8c65b",
=======
   "id": "42e6a4e6",
>>>>>>> documentation-devel
||||||| d28b18c
   "id": "42e6a4e6",
=======
   "id": "40915c3e",
>>>>>>> documentation-devel
||||||| 6893f63
<<<<<<< HEAD
   "id": "2c6ca6af",
||||||| 6a30bf1
   "id": "b7e8c65b",
=======
   "id": "42e6a4e6",
>>>>>>> documentation-devel
=======
   "id": "a5f4e480",
>>>>>>> c74c98c2450c2a1ba922ed9442f136238d6bc88b
||||||| 6d93b645
   "id": "40915c3e",
=======
   "id": "b71958a1",
>>>>>>> documentation-devel
||||||| 804edffb
<<<<<<< HEAD
<<<<<<< HEAD
<<<<<<< HEAD
   "id": "2c6ca6af",
||||||| 6a30bf1
   "id": "b7e8c65b",
=======
   "id": "42e6a4e6",
>>>>>>> documentation-devel
||||||| d28b18c
   "id": "42e6a4e6",
=======
   "id": "40915c3e",
>>>>>>> documentation-devel
||||||| 6893f63
<<<<<<< HEAD
   "id": "2c6ca6af",
||||||| 6a30bf1
   "id": "b7e8c65b",
=======
   "id": "42e6a4e6",
>>>>>>> documentation-devel
=======
   "id": "a5f4e480",
>>>>>>> c74c98c2450c2a1ba922ed9442f136238d6bc88b
=======
   "id": "78d74bd7",
>>>>>>> 035bb2637984ead2784fecff78c0c60cc4181202
||||||| 3effdfa5
   "id": "b71958a1",
=======
   "id": "5f694685",
>>>>>>> documentation-devel
||||||| 96c826da
<<<<<<< HEAD
<<<<<<< HEAD
<<<<<<< HEAD
<<<<<<< HEAD
<<<<<<< HEAD
   "id": "2c6ca6af",
||||||| 6a30bf1
   "id": "b7e8c65b",
=======
   "id": "42e6a4e6",
>>>>>>> documentation-devel
||||||| d28b18c
   "id": "42e6a4e6",
=======
   "id": "40915c3e",
>>>>>>> documentation-devel
||||||| 6893f63
<<<<<<< HEAD
   "id": "2c6ca6af",
||||||| 6a30bf1
   "id": "b7e8c65b",
=======
   "id": "42e6a4e6",
>>>>>>> documentation-devel
=======
   "id": "a5f4e480",
>>>>>>> c74c98c2450c2a1ba922ed9442f136238d6bc88b
||||||| 6d93b645
   "id": "40915c3e",
=======
   "id": "b71958a1",
>>>>>>> documentation-devel
||||||| 804edffb
<<<<<<< HEAD
<<<<<<< HEAD
<<<<<<< HEAD
   "id": "2c6ca6af",
||||||| 6a30bf1
   "id": "b7e8c65b",
=======
   "id": "42e6a4e6",
>>>>>>> documentation-devel
||||||| d28b18c
   "id": "42e6a4e6",
=======
   "id": "40915c3e",
>>>>>>> documentation-devel
||||||| 6893f63
<<<<<<< HEAD
   "id": "2c6ca6af",
||||||| 6a30bf1
   "id": "b7e8c65b",
=======
   "id": "42e6a4e6",
>>>>>>> documentation-devel
=======
   "id": "a5f4e480",
>>>>>>> c74c98c2450c2a1ba922ed9442f136238d6bc88b
=======
   "id": "78d74bd7",
>>>>>>> 035bb2637984ead2784fecff78c0c60cc4181202
=======
   "id": "4c5df0a2",
>>>>>>> 619c01f26351d57ac14d974b7af136ac5756103f
   "metadata": {
    "lines_to_next_cell": 2,
    "tags": [
     "remove_cell"
    ]
   },
   "outputs": [],
   "source": [
    "knitr::opts_chunk$set(\n",
    "  collapse = TRUE,\n",
    "  comment = \"#>\"\n",
    ")"
   ]
  },
  {
   "cell_type": "code",
   "execution_count": null,
<<<<<<< HEAD
<<<<<<< HEAD
<<<<<<< HEAD
<<<<<<< HEAD
<<<<<<< HEAD
<<<<<<< HEAD
<<<<<<< HEAD
   "id": "38453ebe",
||||||| 6a30bf1
   "id": "fb158e5b",
=======
   "id": "cbe5e06b",
>>>>>>> documentation-devel
||||||| d28b18c
   "id": "cbe5e06b",
=======
   "id": "ae8a6d57",
>>>>>>> documentation-devel
||||||| 6893f63
<<<<<<< HEAD
   "id": "38453ebe",
||||||| 6a30bf1
   "id": "fb158e5b",
=======
   "id": "cbe5e06b",
>>>>>>> documentation-devel
=======
   "id": "7fcf4d07",
>>>>>>> c74c98c2450c2a1ba922ed9442f136238d6bc88b
||||||| 6d93b645
   "id": "ae8a6d57",
=======
   "id": "13734e7b",
>>>>>>> documentation-devel
||||||| 804edffb
<<<<<<< HEAD
<<<<<<< HEAD
<<<<<<< HEAD
   "id": "38453ebe",
||||||| 6a30bf1
   "id": "fb158e5b",
=======
   "id": "cbe5e06b",
>>>>>>> documentation-devel
||||||| d28b18c
   "id": "cbe5e06b",
=======
   "id": "ae8a6d57",
>>>>>>> documentation-devel
||||||| 6893f63
<<<<<<< HEAD
   "id": "38453ebe",
||||||| 6a30bf1
   "id": "fb158e5b",
=======
   "id": "cbe5e06b",
>>>>>>> documentation-devel
=======
   "id": "7fcf4d07",
>>>>>>> c74c98c2450c2a1ba922ed9442f136238d6bc88b
=======
   "id": "f8a35b7e",
>>>>>>> 035bb2637984ead2784fecff78c0c60cc4181202
||||||| 3effdfa5
   "id": "13734e7b",
=======
   "id": "e440576f",
>>>>>>> documentation-devel
||||||| 96c826da
<<<<<<< HEAD
<<<<<<< HEAD
<<<<<<< HEAD
<<<<<<< HEAD
<<<<<<< HEAD
   "id": "38453ebe",
||||||| 6a30bf1
   "id": "fb158e5b",
=======
   "id": "cbe5e06b",
>>>>>>> documentation-devel
||||||| d28b18c
   "id": "cbe5e06b",
=======
   "id": "ae8a6d57",
>>>>>>> documentation-devel
||||||| 6893f63
<<<<<<< HEAD
   "id": "38453ebe",
||||||| 6a30bf1
   "id": "fb158e5b",
=======
   "id": "cbe5e06b",
>>>>>>> documentation-devel
=======
   "id": "7fcf4d07",
>>>>>>> c74c98c2450c2a1ba922ed9442f136238d6bc88b
||||||| 6d93b645
   "id": "ae8a6d57",
=======
   "id": "13734e7b",
>>>>>>> documentation-devel
||||||| 804edffb
<<<<<<< HEAD
<<<<<<< HEAD
<<<<<<< HEAD
   "id": "38453ebe",
||||||| 6a30bf1
   "id": "fb158e5b",
=======
   "id": "cbe5e06b",
>>>>>>> documentation-devel
||||||| d28b18c
   "id": "cbe5e06b",
=======
   "id": "ae8a6d57",
>>>>>>> documentation-devel
||||||| 6893f63
<<<<<<< HEAD
   "id": "38453ebe",
||||||| 6a30bf1
   "id": "fb158e5b",
=======
   "id": "cbe5e06b",
>>>>>>> documentation-devel
=======
   "id": "7fcf4d07",
>>>>>>> c74c98c2450c2a1ba922ed9442f136238d6bc88b
=======
   "id": "f8a35b7e",
>>>>>>> 035bb2637984ead2784fecff78c0c60cc4181202
=======
   "id": "df3e40fb",
>>>>>>> 619c01f26351d57ac14d974b7af136ac5756103f
   "metadata": {
    "eval": false,
    "tags": [
     "remove_cell"
    ]
   },
   "outputs": [],
   "source": [
    "# Install Google Colab dependencies\n",
    "# Note: this can take 30+ minutes (many of the dependencies include C++ code, which needs to be compiled)\n",
    "\n",
    "# First install `sf`, `ragg` and `textshaping` and their system dependencies:\n",
    "system(\"apt-get -y update && apt-get install -y  libudunits2-dev libgdal-dev libgeos-dev libproj-dev libharfbuzz-dev libfribidi-dev\")\n",
    "install.packages(\"sf\")\n",
    "install.packages(\"textshaping\")\n",
    "install.packages(\"ragg\")\n",
    "\n",
    "# Install system dependencies of some other R packages that Voyager either imports or suggests:\n",
    "system(\"apt-get install -y libfribidi-dev libcairo2-dev libmagick++-dev\")\n",
    "\n",
    "# Install Voyager from Bioconductor:\n",
    "install.packages(\"BiocManager\")\n",
    "BiocManager::install(version = \"3.17\", ask = FALSE, update = FALSE, Ncpus = 2)\n",
    "BiocManager::install(\"scater\")\n",
    "system.time(\n",
    "  BiocManager::install(\"Voyager\", dependencies = TRUE, Ncpus = 2, update = FALSE)\n",
    ")\n",
    "\n",
    "# Other packages used in this vignette\n",
    "packageVersion(\"Voyager\")"
   ]
  },
  {
   "cell_type": "markdown",
<<<<<<< HEAD
<<<<<<< HEAD
<<<<<<< HEAD
<<<<<<< HEAD
<<<<<<< HEAD
<<<<<<< HEAD
<<<<<<< HEAD
   "id": "2441488e",
||||||| 6a30bf1
   "id": "e640eb32",
=======
   "id": "4efa89f3",
>>>>>>> documentation-devel
||||||| d28b18c
   "id": "4efa89f3",
=======
   "id": "b0fba9eb",
>>>>>>> documentation-devel
||||||| 6893f63
<<<<<<< HEAD
   "id": "2441488e",
||||||| 6a30bf1
   "id": "e640eb32",
=======
   "id": "4efa89f3",
>>>>>>> documentation-devel
=======
   "id": "c223cf60",
>>>>>>> c74c98c2450c2a1ba922ed9442f136238d6bc88b
||||||| 6d93b645
   "id": "b0fba9eb",
=======
   "id": "a0b4c14f",
>>>>>>> documentation-devel
||||||| 804edffb
<<<<<<< HEAD
<<<<<<< HEAD
<<<<<<< HEAD
   "id": "2441488e",
||||||| 6a30bf1
   "id": "e640eb32",
=======
   "id": "4efa89f3",
>>>>>>> documentation-devel
||||||| d28b18c
   "id": "4efa89f3",
=======
   "id": "b0fba9eb",
>>>>>>> documentation-devel
||||||| 6893f63
<<<<<<< HEAD
   "id": "2441488e",
||||||| 6a30bf1
   "id": "e640eb32",
=======
   "id": "4efa89f3",
>>>>>>> documentation-devel
=======
   "id": "c223cf60",
>>>>>>> c74c98c2450c2a1ba922ed9442f136238d6bc88b
=======
   "id": "0c079b82",
>>>>>>> 035bb2637984ead2784fecff78c0c60cc4181202
||||||| 3effdfa5
   "id": "a0b4c14f",
=======
   "id": "d0d9ecfe",
>>>>>>> documentation-devel
||||||| 96c826da
<<<<<<< HEAD
<<<<<<< HEAD
<<<<<<< HEAD
<<<<<<< HEAD
<<<<<<< HEAD
   "id": "2441488e",
||||||| 6a30bf1
   "id": "e640eb32",
=======
   "id": "4efa89f3",
>>>>>>> documentation-devel
||||||| d28b18c
   "id": "4efa89f3",
=======
   "id": "b0fba9eb",
>>>>>>> documentation-devel
||||||| 6893f63
<<<<<<< HEAD
   "id": "2441488e",
||||||| 6a30bf1
   "id": "e640eb32",
=======
   "id": "4efa89f3",
>>>>>>> documentation-devel
=======
   "id": "c223cf60",
>>>>>>> c74c98c2450c2a1ba922ed9442f136238d6bc88b
||||||| 6d93b645
   "id": "b0fba9eb",
=======
   "id": "a0b4c14f",
>>>>>>> documentation-devel
||||||| 804edffb
<<<<<<< HEAD
<<<<<<< HEAD
<<<<<<< HEAD
   "id": "2441488e",
||||||| 6a30bf1
   "id": "e640eb32",
=======
   "id": "4efa89f3",
>>>>>>> documentation-devel
||||||| d28b18c
   "id": "4efa89f3",
=======
   "id": "b0fba9eb",
>>>>>>> documentation-devel
||||||| 6893f63
<<<<<<< HEAD
   "id": "2441488e",
||||||| 6a30bf1
   "id": "e640eb32",
=======
   "id": "4efa89f3",
>>>>>>> documentation-devel
=======
   "id": "c223cf60",
>>>>>>> c74c98c2450c2a1ba922ed9442f136238d6bc88b
=======
   "id": "0c079b82",
>>>>>>> 035bb2637984ead2784fecff78c0c60cc4181202
=======
   "id": "b3568b7b",
>>>>>>> 619c01f26351d57ac14d974b7af136ac5756103f
   "metadata": {},
   "source": [
    "# Introduction\n",
    "Due to the large number of genes quantified in single cell and spatial transcriptomics, dimension reduction is part of the standard workflow to analyze such data, to visualize, to help interpreting the data, to distill relevant information and reduce noise, to facilitate downstream analyses such as clustering and pseudotime, to project different samples into a shared latent space for data integration, and so on.\n",
    "\n",
    "The first dimension reduction methods we learn about, such as good old principal component analysis (PCA), tSNE, and UMAP, don't use spatial information. With the rise of spatial transcriptomics, some dimension reduction methods that take spatial dependence into account have been written. Some, such as `SpatialPCA` [@Shang2022-qy], `NSF` [@Townes2023-bi], and `MEFISTO` [@Velten2022-gv] use factor analysis or probabilistic PCA which is related to factor analysis, and model the factors as Gaussian processes, with a spatial kernel for the covariance matrix, so the factors have positive spatial autocorrelation and can be used for downstream clustering where the clusters can be more spatially coherent. Some use graph convolution networks on a spatial neighborhood graph to find spatially informed embeddings of the cells, such as `conST` [@Zong2022-tb] and `SpaceFlow` [@Ren2022-qx]. `SpaSRL` [@Zhang2023-kf] finds a low dimension projection of spatial neighborhood augmented data. \n",
    "\n",
    "Spatially informed dimension reduction is actually not new, and dates back to at least 1985, with Wartenberg's crossover of Moran's I and PCA [@Wartenberg1985-fk], which was generalized and further developed as MULTISPATI PCA [@Dray2008-en], implemented in the [`adespatial`](https://cran.r-project.org/web/packages/adespatial/index.html) package on CRAN. In short, while PCA tries to maximize the variance explained by each PC, MULTISPATI maximizes the product of Moran's I and variance explained. Also, while all the eigenvalues from PCA are non-negative, because the covariance matrix is positive semidefinite, MULTISPATI can give negative eigenvalues, which represent negative spatial autocorrelation, which can be present and interesting but is not as common as positive spatial autocorrelation and is often masked by the latter [@Griffith2019-bo]. \n",
    "\n",
    "In single cell -omics conventions, let $X$ denote a gene count matrix whose columns are cells or Visium spots and whose rows are genes, with $n$ columns. Let $W$ denote the row normalized $n\\times n$ adjacency matrix of the spatial neighborhood graph of the cells or Visium spots, which does not have to be symmetric. MULTISPATI diagonalizes a symmetric matrix\n",
    "\n",
    "$$\n",
    "H = \\frac 1 {2n} X(W^t+W)X^t\n",
    "$$\n",
    "\n",
    "However, the implementation in `adespatial` is more general and can be used for other multivariate analyses in the [duality diagram](https://www.ncbi.nlm.nih.gov/pmc/articles/PMC3265363/) paradigm, such as correspondence analysis; the equation above is simplified just for PCA, without having to introduce the duality diagram here.\n",
    "\n",
    "Voyager 1.2.0 (Bioconductor 3.17) has a much faster implementation of MULTISPATI PCA based on [`RSpectra`](https://cran.r-project.org/web/packages/RSpectra/index.html). See benchmark [here](https://lambdamoses.github.io/thevoyages/posts/2023-03-25-multispati-part-2/).\n",
    "\n",
    "In this vignette, we perform MULTISPATI PCA on the MERFISH mouse liver dataset. See the first vignette using this dataset [here](https://pachterlab.github.io/voyager/articles/vig6_merfish.html).\n",
    "\n",
    "Here we load the packages used:"
   ]
  },
  {
   "cell_type": "code",
   "execution_count": null,
<<<<<<< HEAD
<<<<<<< HEAD
<<<<<<< HEAD
<<<<<<< HEAD
<<<<<<< HEAD
<<<<<<< HEAD
<<<<<<< HEAD
   "id": "ccefa3aa",
||||||| 6a30bf1
   "id": "cb465fdd",
=======
   "id": "c0c0bd7e",
>>>>>>> documentation-devel
||||||| d28b18c
   "id": "c0c0bd7e",
=======
   "id": "4184101f",
>>>>>>> documentation-devel
||||||| 6893f63
<<<<<<< HEAD
   "id": "ccefa3aa",
||||||| 6a30bf1
   "id": "cb465fdd",
=======
   "id": "c0c0bd7e",
>>>>>>> documentation-devel
=======
   "id": "2255d537",
>>>>>>> c74c98c2450c2a1ba922ed9442f136238d6bc88b
||||||| 6d93b645
   "id": "4184101f",
=======
   "id": "6212328b",
>>>>>>> documentation-devel
||||||| 804edffb
<<<<<<< HEAD
<<<<<<< HEAD
<<<<<<< HEAD
   "id": "ccefa3aa",
||||||| 6a30bf1
   "id": "cb465fdd",
=======
   "id": "c0c0bd7e",
>>>>>>> documentation-devel
||||||| d28b18c
   "id": "c0c0bd7e",
=======
   "id": "4184101f",
>>>>>>> documentation-devel
||||||| 6893f63
<<<<<<< HEAD
   "id": "ccefa3aa",
||||||| 6a30bf1
   "id": "cb465fdd",
=======
   "id": "c0c0bd7e",
>>>>>>> documentation-devel
=======
   "id": "2255d537",
>>>>>>> c74c98c2450c2a1ba922ed9442f136238d6bc88b
=======
   "id": "4e9a6f92",
>>>>>>> 035bb2637984ead2784fecff78c0c60cc4181202
||||||| 3effdfa5
   "id": "6212328b",
=======
   "id": "a7c3d461",
>>>>>>> documentation-devel
||||||| 96c826da
<<<<<<< HEAD
<<<<<<< HEAD
<<<<<<< HEAD
<<<<<<< HEAD
<<<<<<< HEAD
   "id": "ccefa3aa",
||||||| 6a30bf1
   "id": "cb465fdd",
=======
   "id": "c0c0bd7e",
>>>>>>> documentation-devel
||||||| d28b18c
   "id": "c0c0bd7e",
=======
   "id": "4184101f",
>>>>>>> documentation-devel
||||||| 6893f63
<<<<<<< HEAD
   "id": "ccefa3aa",
||||||| 6a30bf1
   "id": "cb465fdd",
=======
   "id": "c0c0bd7e",
>>>>>>> documentation-devel
=======
   "id": "2255d537",
>>>>>>> c74c98c2450c2a1ba922ed9442f136238d6bc88b
||||||| 6d93b645
   "id": "4184101f",
=======
   "id": "6212328b",
>>>>>>> documentation-devel
||||||| 804edffb
<<<<<<< HEAD
<<<<<<< HEAD
<<<<<<< HEAD
   "id": "ccefa3aa",
||||||| 6a30bf1
   "id": "cb465fdd",
=======
   "id": "c0c0bd7e",
>>>>>>> documentation-devel
||||||| d28b18c
   "id": "c0c0bd7e",
=======
   "id": "4184101f",
>>>>>>> documentation-devel
||||||| 6893f63
<<<<<<< HEAD
   "id": "ccefa3aa",
||||||| 6a30bf1
   "id": "cb465fdd",
=======
   "id": "c0c0bd7e",
>>>>>>> documentation-devel
=======
   "id": "2255d537",
>>>>>>> c74c98c2450c2a1ba922ed9442f136238d6bc88b
=======
   "id": "4e9a6f92",
>>>>>>> 035bb2637984ead2784fecff78c0c60cc4181202
=======
   "id": "4d65482f",
>>>>>>> 619c01f26351d57ac14d974b7af136ac5756103f
   "metadata": {
    "message": false,
    "name": "setup"
   },
   "outputs": [],
   "source": [
    "library(Voyager)\n",
    "library(SFEData)\n",
    "library(SpatialFeatureExperiment)\n",
    "library(scater)\n",
    "library(scran)\n",
    "library(scuttle)\n",
    "library(ggplot2)\n",
    "library(stringr)\n",
    "library(tidyr)\n",
    "library(tibble)\n",
    "library(bluster)\n",
    "library(BiocSingular)\n",
    "library(BiocParallel)\n",
    "library(sf)\n",
    "library(patchwork)\n",
    "theme_set(theme_bw())"
   ]
  },
  {
   "cell_type": "code",
   "execution_count": null,
<<<<<<< HEAD
<<<<<<< HEAD
<<<<<<< HEAD
<<<<<<< HEAD
<<<<<<< HEAD
<<<<<<< HEAD
<<<<<<< HEAD
   "id": "eb885968",
||||||| 6a30bf1
   "id": "618e6ae9",
=======
   "id": "01cf8e1e",
>>>>>>> documentation-devel
||||||| d28b18c
   "id": "01cf8e1e",
=======
   "id": "3bc606e5",
>>>>>>> documentation-devel
||||||| 6893f63
<<<<<<< HEAD
   "id": "eb885968",
||||||| 6a30bf1
   "id": "618e6ae9",
=======
   "id": "01cf8e1e",
>>>>>>> documentation-devel
=======
   "id": "725822b6",
>>>>>>> c74c98c2450c2a1ba922ed9442f136238d6bc88b
||||||| 6d93b645
   "id": "3bc606e5",
=======
   "id": "34eb7c8d",
>>>>>>> documentation-devel
||||||| 804edffb
<<<<<<< HEAD
<<<<<<< HEAD
<<<<<<< HEAD
   "id": "eb885968",
||||||| 6a30bf1
   "id": "618e6ae9",
=======
   "id": "01cf8e1e",
>>>>>>> documentation-devel
||||||| d28b18c
   "id": "01cf8e1e",
=======
   "id": "3bc606e5",
>>>>>>> documentation-devel
||||||| 6893f63
<<<<<<< HEAD
   "id": "eb885968",
||||||| 6a30bf1
   "id": "618e6ae9",
=======
   "id": "01cf8e1e",
>>>>>>> documentation-devel
=======
   "id": "725822b6",
>>>>>>> c74c98c2450c2a1ba922ed9442f136238d6bc88b
=======
   "id": "5e6e21e1",
>>>>>>> 035bb2637984ead2784fecff78c0c60cc4181202
||||||| 3effdfa5
   "id": "34eb7c8d",
=======
   "id": "c573719c",
>>>>>>> documentation-devel
||||||| 96c826da
<<<<<<< HEAD
<<<<<<< HEAD
<<<<<<< HEAD
<<<<<<< HEAD
<<<<<<< HEAD
   "id": "eb885968",
||||||| 6a30bf1
   "id": "618e6ae9",
=======
   "id": "01cf8e1e",
>>>>>>> documentation-devel
||||||| d28b18c
   "id": "01cf8e1e",
=======
   "id": "3bc606e5",
>>>>>>> documentation-devel
||||||| 6893f63
<<<<<<< HEAD
   "id": "eb885968",
||||||| 6a30bf1
   "id": "618e6ae9",
=======
   "id": "01cf8e1e",
>>>>>>> documentation-devel
=======
   "id": "725822b6",
>>>>>>> c74c98c2450c2a1ba922ed9442f136238d6bc88b
||||||| 6d93b645
   "id": "3bc606e5",
=======
   "id": "34eb7c8d",
>>>>>>> documentation-devel
||||||| 804edffb
<<<<<<< HEAD
<<<<<<< HEAD
<<<<<<< HEAD
   "id": "eb885968",
||||||| 6a30bf1
   "id": "618e6ae9",
=======
   "id": "01cf8e1e",
>>>>>>> documentation-devel
||||||| d28b18c
   "id": "01cf8e1e",
=======
   "id": "3bc606e5",
>>>>>>> documentation-devel
||||||| 6893f63
<<<<<<< HEAD
   "id": "eb885968",
||||||| 6a30bf1
   "id": "618e6ae9",
=======
   "id": "01cf8e1e",
>>>>>>> documentation-devel
=======
   "id": "725822b6",
>>>>>>> c74c98c2450c2a1ba922ed9442f136238d6bc88b
=======
   "id": "5e6e21e1",
>>>>>>> 035bb2637984ead2784fecff78c0c60cc4181202
=======
   "id": "f3ed3ab1",
>>>>>>> 619c01f26351d57ac14d974b7af136ac5756103f
   "metadata": {},
   "outputs": [],
   "source": [
    "(sfe <- VizgenLiverData())"
   ]
  },
  {
   "cell_type": "markdown",
<<<<<<< HEAD
<<<<<<< HEAD
<<<<<<< HEAD
<<<<<<< HEAD
<<<<<<< HEAD
<<<<<<< HEAD
<<<<<<< HEAD
   "id": "4a18355a",
||||||| 6a30bf1
   "id": "c89bf8f0",
=======
   "id": "26a9f59c",
>>>>>>> documentation-devel
||||||| d28b18c
   "id": "26a9f59c",
=======
   "id": "4e457dd4",
>>>>>>> documentation-devel
||||||| 6893f63
<<<<<<< HEAD
   "id": "4a18355a",
||||||| 6a30bf1
   "id": "c89bf8f0",
=======
   "id": "26a9f59c",
>>>>>>> documentation-devel
=======
   "id": "49502a06",
>>>>>>> c74c98c2450c2a1ba922ed9442f136238d6bc88b
||||||| 6d93b645
   "id": "4e457dd4",
=======
   "id": "83bf36f9",
>>>>>>> documentation-devel
||||||| 804edffb
<<<<<<< HEAD
<<<<<<< HEAD
<<<<<<< HEAD
   "id": "4a18355a",
||||||| 6a30bf1
   "id": "c89bf8f0",
=======
   "id": "26a9f59c",
>>>>>>> documentation-devel
||||||| d28b18c
   "id": "26a9f59c",
=======
   "id": "4e457dd4",
>>>>>>> documentation-devel
||||||| 6893f63
<<<<<<< HEAD
   "id": "4a18355a",
||||||| 6a30bf1
   "id": "c89bf8f0",
=======
   "id": "26a9f59c",
>>>>>>> documentation-devel
=======
   "id": "49502a06",
>>>>>>> c74c98c2450c2a1ba922ed9442f136238d6bc88b
=======
   "id": "8b1f5895",
>>>>>>> 035bb2637984ead2784fecff78c0c60cc4181202
||||||| 3effdfa5
   "id": "83bf36f9",
=======
   "id": "829064fa",
>>>>>>> documentation-devel
||||||| 96c826da
<<<<<<< HEAD
<<<<<<< HEAD
<<<<<<< HEAD
<<<<<<< HEAD
<<<<<<< HEAD
   "id": "4a18355a",
||||||| 6a30bf1
   "id": "c89bf8f0",
=======
   "id": "26a9f59c",
>>>>>>> documentation-devel
||||||| d28b18c
   "id": "26a9f59c",
=======
   "id": "4e457dd4",
>>>>>>> documentation-devel
||||||| 6893f63
<<<<<<< HEAD
   "id": "4a18355a",
||||||| 6a30bf1
   "id": "c89bf8f0",
=======
   "id": "26a9f59c",
>>>>>>> documentation-devel
=======
   "id": "49502a06",
>>>>>>> c74c98c2450c2a1ba922ed9442f136238d6bc88b
||||||| 6d93b645
   "id": "4e457dd4",
=======
   "id": "83bf36f9",
>>>>>>> documentation-devel
||||||| 804edffb
<<<<<<< HEAD
<<<<<<< HEAD
<<<<<<< HEAD
   "id": "4a18355a",
||||||| 6a30bf1
   "id": "c89bf8f0",
=======
   "id": "26a9f59c",
>>>>>>> documentation-devel
||||||| d28b18c
   "id": "26a9f59c",
=======
   "id": "4e457dd4",
>>>>>>> documentation-devel
||||||| 6893f63
<<<<<<< HEAD
   "id": "4a18355a",
||||||| 6a30bf1
   "id": "c89bf8f0",
=======
   "id": "26a9f59c",
>>>>>>> documentation-devel
=======
   "id": "49502a06",
>>>>>>> c74c98c2450c2a1ba922ed9442f136238d6bc88b
=======
   "id": "8b1f5895",
>>>>>>> 035bb2637984ead2784fecff78c0c60cc4181202
=======
   "id": "95fb4524",
>>>>>>> 619c01f26351d57ac14d974b7af136ac5756103f
   "metadata": {
    "lines_to_next_cell": 0
   },
   "source": [
    "MULTISPATI PCA is one of the multivariate methods introduced in `Voyager` 1.2.0. All multivariate methods in `Voyager` are listed here:"
   ]
  },
  {
   "cell_type": "code",
   "execution_count": null,
<<<<<<< HEAD
<<<<<<< HEAD
<<<<<<< HEAD
<<<<<<< HEAD
<<<<<<< HEAD
<<<<<<< HEAD
<<<<<<< HEAD
   "id": "22551c17",
||||||| 6a30bf1
   "id": "759f2e83",
=======
   "id": "3883aada",
>>>>>>> documentation-devel
||||||| d28b18c
   "id": "3883aada",
=======
   "id": "20ebf9a6",
>>>>>>> documentation-devel
||||||| 6893f63
<<<<<<< HEAD
   "id": "22551c17",
||||||| 6a30bf1
   "id": "759f2e83",
=======
   "id": "3883aada",
>>>>>>> documentation-devel
=======
   "id": "39491d6d",
>>>>>>> c74c98c2450c2a1ba922ed9442f136238d6bc88b
||||||| 6d93b645
   "id": "20ebf9a6",
=======
   "id": "9b085580",
>>>>>>> documentation-devel
||||||| 804edffb
<<<<<<< HEAD
<<<<<<< HEAD
<<<<<<< HEAD
   "id": "22551c17",
||||||| 6a30bf1
   "id": "759f2e83",
=======
   "id": "3883aada",
>>>>>>> documentation-devel
||||||| d28b18c
   "id": "3883aada",
=======
   "id": "20ebf9a6",
>>>>>>> documentation-devel
||||||| 6893f63
<<<<<<< HEAD
   "id": "22551c17",
||||||| 6a30bf1
   "id": "759f2e83",
=======
   "id": "3883aada",
>>>>>>> documentation-devel
=======
   "id": "39491d6d",
>>>>>>> c74c98c2450c2a1ba922ed9442f136238d6bc88b
=======
   "id": "5ecb849e",
>>>>>>> 035bb2637984ead2784fecff78c0c60cc4181202
||||||| 3effdfa5
   "id": "9b085580",
=======
   "id": "dd75e2c6",
>>>>>>> documentation-devel
||||||| 96c826da
<<<<<<< HEAD
<<<<<<< HEAD
<<<<<<< HEAD
<<<<<<< HEAD
<<<<<<< HEAD
   "id": "22551c17",
||||||| 6a30bf1
   "id": "759f2e83",
=======
   "id": "3883aada",
>>>>>>> documentation-devel
||||||| d28b18c
   "id": "3883aada",
=======
   "id": "20ebf9a6",
>>>>>>> documentation-devel
||||||| 6893f63
<<<<<<< HEAD
   "id": "22551c17",
||||||| 6a30bf1
   "id": "759f2e83",
=======
   "id": "3883aada",
>>>>>>> documentation-devel
=======
   "id": "39491d6d",
>>>>>>> c74c98c2450c2a1ba922ed9442f136238d6bc88b
||||||| 6d93b645
   "id": "20ebf9a6",
=======
   "id": "9b085580",
>>>>>>> documentation-devel
||||||| 804edffb
<<<<<<< HEAD
<<<<<<< HEAD
<<<<<<< HEAD
   "id": "22551c17",
||||||| 6a30bf1
   "id": "759f2e83",
=======
   "id": "3883aada",
>>>>>>> documentation-devel
||||||| d28b18c
   "id": "3883aada",
=======
   "id": "20ebf9a6",
>>>>>>> documentation-devel
||||||| 6893f63
<<<<<<< HEAD
   "id": "22551c17",
||||||| 6a30bf1
   "id": "759f2e83",
=======
   "id": "3883aada",
>>>>>>> documentation-devel
=======
   "id": "39491d6d",
>>>>>>> c74c98c2450c2a1ba922ed9442f136238d6bc88b
=======
   "id": "5ecb849e",
>>>>>>> 035bb2637984ead2784fecff78c0c60cc4181202
=======
   "id": "28d2c076",
>>>>>>> 619c01f26351d57ac14d974b7af136ac5756103f
   "metadata": {},
   "outputs": [],
   "source": [
    "listSFEMethods(variate = \"multi\")"
   ]
  },
  {
   "cell_type": "markdown",
<<<<<<< HEAD
<<<<<<< HEAD
<<<<<<< HEAD
<<<<<<< HEAD
<<<<<<< HEAD
<<<<<<< HEAD
<<<<<<< HEAD
   "id": "17d27e45",
||||||| 6a30bf1
   "id": "efda97dc",
=======
   "id": "26af866b",
>>>>>>> documentation-devel
||||||| d28b18c
   "id": "26af866b",
=======
   "id": "1bb66abd",
>>>>>>> documentation-devel
||||||| 6893f63
<<<<<<< HEAD
   "id": "17d27e45",
||||||| 6a30bf1
   "id": "efda97dc",
=======
   "id": "26af866b",
>>>>>>> documentation-devel
=======
   "id": "cc1fe136",
>>>>>>> c74c98c2450c2a1ba922ed9442f136238d6bc88b
||||||| 6d93b645
   "id": "1bb66abd",
=======
   "id": "3b6e57a3",
>>>>>>> documentation-devel
||||||| 804edffb
<<<<<<< HEAD
<<<<<<< HEAD
<<<<<<< HEAD
   "id": "17d27e45",
||||||| 6a30bf1
   "id": "efda97dc",
=======
   "id": "26af866b",
>>>>>>> documentation-devel
||||||| d28b18c
   "id": "26af866b",
=======
   "id": "1bb66abd",
>>>>>>> documentation-devel
||||||| 6893f63
<<<<<<< HEAD
   "id": "17d27e45",
||||||| 6a30bf1
   "id": "efda97dc",
=======
   "id": "26af866b",
>>>>>>> documentation-devel
=======
   "id": "cc1fe136",
>>>>>>> c74c98c2450c2a1ba922ed9442f136238d6bc88b
=======
   "id": "259f1f7d",
>>>>>>> 035bb2637984ead2784fecff78c0c60cc4181202
||||||| 3effdfa5
   "id": "3b6e57a3",
=======
   "id": "10ccbc76",
>>>>>>> documentation-devel
||||||| 96c826da
<<<<<<< HEAD
<<<<<<< HEAD
<<<<<<< HEAD
<<<<<<< HEAD
<<<<<<< HEAD
   "id": "17d27e45",
||||||| 6a30bf1
   "id": "efda97dc",
=======
   "id": "26af866b",
>>>>>>> documentation-devel
||||||| d28b18c
   "id": "26af866b",
=======
   "id": "1bb66abd",
>>>>>>> documentation-devel
||||||| 6893f63
<<<<<<< HEAD
   "id": "17d27e45",
||||||| 6a30bf1
   "id": "efda97dc",
=======
   "id": "26af866b",
>>>>>>> documentation-devel
=======
   "id": "cc1fe136",
>>>>>>> c74c98c2450c2a1ba922ed9442f136238d6bc88b
||||||| 6d93b645
   "id": "1bb66abd",
=======
   "id": "3b6e57a3",
>>>>>>> documentation-devel
||||||| 804edffb
<<<<<<< HEAD
<<<<<<< HEAD
<<<<<<< HEAD
   "id": "17d27e45",
||||||| 6a30bf1
   "id": "efda97dc",
=======
   "id": "26af866b",
>>>>>>> documentation-devel
||||||| d28b18c
   "id": "26af866b",
=======
   "id": "1bb66abd",
>>>>>>> documentation-devel
||||||| 6893f63
<<<<<<< HEAD
   "id": "17d27e45",
||||||| 6a30bf1
   "id": "efda97dc",
=======
   "id": "26af866b",
>>>>>>> documentation-devel
=======
   "id": "cc1fe136",
>>>>>>> c74c98c2450c2a1ba922ed9442f136238d6bc88b
=======
   "id": "259f1f7d",
>>>>>>> 035bb2637984ead2784fecff78c0c60cc4181202
=======
   "id": "445cb6c1",
>>>>>>> 619c01f26351d57ac14d974b7af136ac5756103f
   "metadata": {
    "lines_to_next_cell": 0
   },
   "source": [
    "When calling `calculate*variate()` or `run*variate()`, the `type` (2nd) argument takes either an `SFEMethod` object or a string that matches an entry in the `name` column in the data frame returned by `listSFEMethods()`.\n",
    "\n",
    "# Quality control\n",
    "QC was already performed in the [first vignette](https://pachterlab.github.io/voyager/articles/vig6_merfish.html). We do the same QC here, but see the first vignette for more details."
   ]
  },
  {
   "cell_type": "code",
   "execution_count": null,
<<<<<<< HEAD
<<<<<<< HEAD
<<<<<<< HEAD
<<<<<<< HEAD
<<<<<<< HEAD
<<<<<<< HEAD
<<<<<<< HEAD
   "id": "6542751b",
||||||| 6a30bf1
   "id": "7e84e05b",
=======
   "id": "a6b61f96",
>>>>>>> documentation-devel
||||||| d28b18c
   "id": "a6b61f96",
=======
   "id": "060e0f5b",
>>>>>>> documentation-devel
||||||| 6893f63
<<<<<<< HEAD
   "id": "6542751b",
||||||| 6a30bf1
   "id": "7e84e05b",
=======
   "id": "a6b61f96",
>>>>>>> documentation-devel
=======
   "id": "33755493",
>>>>>>> c74c98c2450c2a1ba922ed9442f136238d6bc88b
||||||| 6d93b645
   "id": "060e0f5b",
=======
   "id": "c9dcfe16",
>>>>>>> documentation-devel
||||||| 804edffb
<<<<<<< HEAD
<<<<<<< HEAD
<<<<<<< HEAD
   "id": "6542751b",
||||||| 6a30bf1
   "id": "7e84e05b",
=======
   "id": "a6b61f96",
>>>>>>> documentation-devel
||||||| d28b18c
   "id": "a6b61f96",
=======
   "id": "060e0f5b",
>>>>>>> documentation-devel
||||||| 6893f63
<<<<<<< HEAD
   "id": "6542751b",
||||||| 6a30bf1
   "id": "7e84e05b",
=======
   "id": "a6b61f96",
>>>>>>> documentation-devel
=======
   "id": "33755493",
>>>>>>> c74c98c2450c2a1ba922ed9442f136238d6bc88b
=======
   "id": "819f6eab",
>>>>>>> 035bb2637984ead2784fecff78c0c60cc4181202
||||||| 3effdfa5
   "id": "c9dcfe16",
=======
   "id": "5d0aa992",
>>>>>>> documentation-devel
||||||| 96c826da
<<<<<<< HEAD
<<<<<<< HEAD
<<<<<<< HEAD
<<<<<<< HEAD
<<<<<<< HEAD
   "id": "6542751b",
||||||| 6a30bf1
   "id": "7e84e05b",
=======
   "id": "a6b61f96",
>>>>>>> documentation-devel
||||||| d28b18c
   "id": "a6b61f96",
=======
   "id": "060e0f5b",
>>>>>>> documentation-devel
||||||| 6893f63
<<<<<<< HEAD
   "id": "6542751b",
||||||| 6a30bf1
   "id": "7e84e05b",
=======
   "id": "a6b61f96",
>>>>>>> documentation-devel
=======
   "id": "33755493",
>>>>>>> c74c98c2450c2a1ba922ed9442f136238d6bc88b
||||||| 6d93b645
   "id": "060e0f5b",
=======
   "id": "c9dcfe16",
>>>>>>> documentation-devel
||||||| 804edffb
<<<<<<< HEAD
<<<<<<< HEAD
<<<<<<< HEAD
   "id": "6542751b",
||||||| 6a30bf1
   "id": "7e84e05b",
=======
   "id": "a6b61f96",
>>>>>>> documentation-devel
||||||| d28b18c
   "id": "a6b61f96",
=======
   "id": "060e0f5b",
>>>>>>> documentation-devel
||||||| 6893f63
<<<<<<< HEAD
   "id": "6542751b",
||||||| 6a30bf1
   "id": "7e84e05b",
=======
   "id": "a6b61f96",
>>>>>>> documentation-devel
=======
   "id": "33755493",
>>>>>>> c74c98c2450c2a1ba922ed9442f136238d6bc88b
=======
   "id": "819f6eab",
>>>>>>> 035bb2637984ead2784fecff78c0c60cc4181202
=======
   "id": "5950db29",
>>>>>>> 619c01f26351d57ac14d974b7af136ac5756103f
   "metadata": {},
   "outputs": [],
   "source": [
    "is_blank <- str_detect(rownames(sfe), \"^Blank-\")\n",
    "sfe <- addPerCellQCMetrics(sfe, subset = list(blank = is_blank))"
   ]
  },
  {
   "cell_type": "code",
   "execution_count": null,
<<<<<<< HEAD
<<<<<<< HEAD
<<<<<<< HEAD
<<<<<<< HEAD
<<<<<<< HEAD
<<<<<<< HEAD
<<<<<<< HEAD
   "id": "cf37fbe8",
||||||| 6a30bf1
   "id": "3baea560",
=======
   "id": "fc147920",
>>>>>>> documentation-devel
||||||| d28b18c
   "id": "fc147920",
=======
   "id": "8fad283b",
>>>>>>> documentation-devel
||||||| 6893f63
<<<<<<< HEAD
   "id": "cf37fbe8",
||||||| 6a30bf1
   "id": "3baea560",
=======
   "id": "fc147920",
>>>>>>> documentation-devel
=======
   "id": "8c729221",
>>>>>>> c74c98c2450c2a1ba922ed9442f136238d6bc88b
||||||| 6d93b645
   "id": "8fad283b",
=======
   "id": "4c15b071",
>>>>>>> documentation-devel
||||||| 804edffb
<<<<<<< HEAD
<<<<<<< HEAD
<<<<<<< HEAD
   "id": "cf37fbe8",
||||||| 6a30bf1
   "id": "3baea560",
=======
   "id": "fc147920",
>>>>>>> documentation-devel
||||||| d28b18c
   "id": "fc147920",
=======
   "id": "8fad283b",
>>>>>>> documentation-devel
||||||| 6893f63
<<<<<<< HEAD
   "id": "cf37fbe8",
||||||| 6a30bf1
   "id": "3baea560",
=======
   "id": "fc147920",
>>>>>>> documentation-devel
=======
   "id": "8c729221",
>>>>>>> c74c98c2450c2a1ba922ed9442f136238d6bc88b
=======
   "id": "e83537f5",
>>>>>>> 035bb2637984ead2784fecff78c0c60cc4181202
||||||| 3effdfa5
   "id": "4c15b071",
=======
   "id": "22c329a2",
>>>>>>> documentation-devel
||||||| 96c826da
<<<<<<< HEAD
<<<<<<< HEAD
<<<<<<< HEAD
<<<<<<< HEAD
<<<<<<< HEAD
   "id": "cf37fbe8",
||||||| 6a30bf1
   "id": "3baea560",
=======
   "id": "fc147920",
>>>>>>> documentation-devel
||||||| d28b18c
   "id": "fc147920",
=======
   "id": "8fad283b",
>>>>>>> documentation-devel
||||||| 6893f63
<<<<<<< HEAD
   "id": "cf37fbe8",
||||||| 6a30bf1
   "id": "3baea560",
=======
   "id": "fc147920",
>>>>>>> documentation-devel
=======
   "id": "8c729221",
>>>>>>> c74c98c2450c2a1ba922ed9442f136238d6bc88b
||||||| 6d93b645
   "id": "8fad283b",
=======
   "id": "4c15b071",
>>>>>>> documentation-devel
||||||| 804edffb
<<<<<<< HEAD
<<<<<<< HEAD
<<<<<<< HEAD
   "id": "cf37fbe8",
||||||| 6a30bf1
   "id": "3baea560",
=======
   "id": "fc147920",
>>>>>>> documentation-devel
||||||| d28b18c
   "id": "fc147920",
=======
   "id": "8fad283b",
>>>>>>> documentation-devel
||||||| 6893f63
<<<<<<< HEAD
   "id": "cf37fbe8",
||||||| 6a30bf1
   "id": "3baea560",
=======
   "id": "fc147920",
>>>>>>> documentation-devel
=======
   "id": "8c729221",
>>>>>>> c74c98c2450c2a1ba922ed9442f136238d6bc88b
=======
   "id": "e83537f5",
>>>>>>> 035bb2637984ead2784fecff78c0c60cc4181202
=======
   "id": "22f8446e",
>>>>>>> 619c01f26351d57ac14d974b7af136ac5756103f
   "metadata": {},
   "outputs": [],
   "source": [
    "get_neg_ctrl_outliers <- function(col, sfe, nmads = 3, log = FALSE) {\n",
    "    inds <- colData(sfe)$nCounts > 0 & colData(sfe)[[col]] > 0\n",
    "    df <- colData(sfe)[inds,]\n",
    "    outlier_inds <- isOutlier(df[[col]], type = \"higher\", nmads = nmads, log = log)\n",
    "    outliers <- rownames(df)[outlier_inds]\n",
    "    col2 <- str_remove(col, \"^subsets_\")\n",
    "    col2 <- str_remove(col2, \"_percent$\")\n",
    "    new_colname <- paste(\"is\", col2, \"outlier\", sep = \"_\")\n",
    "    colData(sfe)[[new_colname]] <- colnames(sfe) %in% outliers\n",
    "    sfe\n",
    "}"
   ]
  },
  {
   "cell_type": "code",
   "execution_count": null,
<<<<<<< HEAD
<<<<<<< HEAD
<<<<<<< HEAD
<<<<<<< HEAD
<<<<<<< HEAD
<<<<<<< HEAD
<<<<<<< HEAD
   "id": "2a640a0d",
||||||| 6a30bf1
   "id": "5f6aaf46",
=======
   "id": "ef171d94",
>>>>>>> documentation-devel
||||||| d28b18c
   "id": "ef171d94",
=======
   "id": "adb5911d",
>>>>>>> documentation-devel
||||||| 6893f63
<<<<<<< HEAD
   "id": "2a640a0d",
||||||| 6a30bf1
   "id": "5f6aaf46",
=======
   "id": "ef171d94",
>>>>>>> documentation-devel
=======
   "id": "63667b69",
>>>>>>> c74c98c2450c2a1ba922ed9442f136238d6bc88b
||||||| 6d93b645
   "id": "adb5911d",
=======
   "id": "74b0261d",
>>>>>>> documentation-devel
||||||| 804edffb
<<<<<<< HEAD
<<<<<<< HEAD
<<<<<<< HEAD
   "id": "2a640a0d",
||||||| 6a30bf1
   "id": "5f6aaf46",
=======
   "id": "ef171d94",
>>>>>>> documentation-devel
||||||| d28b18c
   "id": "ef171d94",
=======
   "id": "adb5911d",
>>>>>>> documentation-devel
||||||| 6893f63
<<<<<<< HEAD
   "id": "2a640a0d",
||||||| 6a30bf1
   "id": "5f6aaf46",
=======
   "id": "ef171d94",
>>>>>>> documentation-devel
=======
   "id": "63667b69",
>>>>>>> c74c98c2450c2a1ba922ed9442f136238d6bc88b
=======
   "id": "723f35c0",
>>>>>>> 035bb2637984ead2784fecff78c0c60cc4181202
||||||| 3effdfa5
   "id": "74b0261d",
=======
   "id": "6d598add",
>>>>>>> documentation-devel
||||||| 96c826da
<<<<<<< HEAD
<<<<<<< HEAD
<<<<<<< HEAD
<<<<<<< HEAD
<<<<<<< HEAD
   "id": "2a640a0d",
||||||| 6a30bf1
   "id": "5f6aaf46",
=======
   "id": "ef171d94",
>>>>>>> documentation-devel
||||||| d28b18c
   "id": "ef171d94",
=======
   "id": "adb5911d",
>>>>>>> documentation-devel
||||||| 6893f63
<<<<<<< HEAD
   "id": "2a640a0d",
||||||| 6a30bf1
   "id": "5f6aaf46",
=======
   "id": "ef171d94",
>>>>>>> documentation-devel
=======
   "id": "63667b69",
>>>>>>> c74c98c2450c2a1ba922ed9442f136238d6bc88b
||||||| 6d93b645
   "id": "adb5911d",
=======
   "id": "74b0261d",
>>>>>>> documentation-devel
||||||| 804edffb
<<<<<<< HEAD
<<<<<<< HEAD
<<<<<<< HEAD
   "id": "2a640a0d",
||||||| 6a30bf1
   "id": "5f6aaf46",
=======
   "id": "ef171d94",
>>>>>>> documentation-devel
||||||| d28b18c
   "id": "ef171d94",
=======
   "id": "adb5911d",
>>>>>>> documentation-devel
||||||| 6893f63
<<<<<<< HEAD
   "id": "2a640a0d",
||||||| 6a30bf1
   "id": "5f6aaf46",
=======
   "id": "ef171d94",
>>>>>>> documentation-devel
=======
   "id": "63667b69",
>>>>>>> c74c98c2450c2a1ba922ed9442f136238d6bc88b
=======
   "id": "723f35c0",
>>>>>>> 035bb2637984ead2784fecff78c0c60cc4181202
=======
   "id": "eb13579c",
>>>>>>> 619c01f26351d57ac14d974b7af136ac5756103f
   "metadata": {},
   "outputs": [],
   "source": [
    "sfe <- get_neg_ctrl_outliers(\"subsets_blank_percent\", sfe, log = TRUE)"
   ]
  },
  {
   "cell_type": "markdown",
<<<<<<< HEAD
<<<<<<< HEAD
<<<<<<< HEAD
<<<<<<< HEAD
<<<<<<< HEAD
<<<<<<< HEAD
<<<<<<< HEAD
   "id": "59ecb6bd",
||||||| 6a30bf1
   "id": "8fde21e5",
=======
   "id": "cd98b212",
>>>>>>> documentation-devel
||||||| d28b18c
   "id": "cd98b212",
=======
   "id": "32b9723a",
>>>>>>> documentation-devel
||||||| 6893f63
<<<<<<< HEAD
   "id": "59ecb6bd",
||||||| 6a30bf1
   "id": "8fde21e5",
=======
   "id": "cd98b212",
>>>>>>> documentation-devel
=======
   "id": "73c41489",
>>>>>>> c74c98c2450c2a1ba922ed9442f136238d6bc88b
||||||| 6d93b645
   "id": "32b9723a",
=======
   "id": "45739234",
>>>>>>> documentation-devel
||||||| 804edffb
<<<<<<< HEAD
<<<<<<< HEAD
<<<<<<< HEAD
   "id": "59ecb6bd",
||||||| 6a30bf1
   "id": "8fde21e5",
=======
   "id": "cd98b212",
>>>>>>> documentation-devel
||||||| d28b18c
   "id": "cd98b212",
=======
   "id": "32b9723a",
>>>>>>> documentation-devel
||||||| 6893f63
<<<<<<< HEAD
   "id": "59ecb6bd",
||||||| 6a30bf1
   "id": "8fde21e5",
=======
   "id": "cd98b212",
>>>>>>> documentation-devel
=======
   "id": "73c41489",
>>>>>>> c74c98c2450c2a1ba922ed9442f136238d6bc88b
=======
   "id": "0978d95d",
>>>>>>> 035bb2637984ead2784fecff78c0c60cc4181202
||||||| 3effdfa5
   "id": "45739234",
=======
   "id": "01ff7f69",
>>>>>>> documentation-devel
||||||| 96c826da
<<<<<<< HEAD
<<<<<<< HEAD
<<<<<<< HEAD
<<<<<<< HEAD
<<<<<<< HEAD
   "id": "59ecb6bd",
||||||| 6a30bf1
   "id": "8fde21e5",
=======
   "id": "cd98b212",
>>>>>>> documentation-devel
||||||| d28b18c
   "id": "cd98b212",
=======
   "id": "32b9723a",
>>>>>>> documentation-devel
||||||| 6893f63
<<<<<<< HEAD
   "id": "59ecb6bd",
||||||| 6a30bf1
   "id": "8fde21e5",
=======
   "id": "cd98b212",
>>>>>>> documentation-devel
=======
   "id": "73c41489",
>>>>>>> c74c98c2450c2a1ba922ed9442f136238d6bc88b
||||||| 6d93b645
   "id": "32b9723a",
=======
   "id": "45739234",
>>>>>>> documentation-devel
||||||| 804edffb
<<<<<<< HEAD
<<<<<<< HEAD
<<<<<<< HEAD
   "id": "59ecb6bd",
||||||| 6a30bf1
   "id": "8fde21e5",
=======
   "id": "cd98b212",
>>>>>>> documentation-devel
||||||| d28b18c
   "id": "cd98b212",
=======
   "id": "32b9723a",
>>>>>>> documentation-devel
||||||| 6893f63
<<<<<<< HEAD
   "id": "59ecb6bd",
||||||| 6a30bf1
   "id": "8fde21e5",
=======
   "id": "cd98b212",
>>>>>>> documentation-devel
=======
   "id": "73c41489",
>>>>>>> c74c98c2450c2a1ba922ed9442f136238d6bc88b
=======
   "id": "0978d95d",
>>>>>>> 035bb2637984ead2784fecff78c0c60cc4181202
=======
   "id": "cd0367b3",
>>>>>>> 619c01f26351d57ac14d974b7af136ac5756103f
   "metadata": {
    "lines_to_next_cell": 0
   },
   "source": [
    "Remove the outliers and empty cells:"
   ]
  },
  {
   "cell_type": "code",
   "execution_count": null,
<<<<<<< HEAD
<<<<<<< HEAD
<<<<<<< HEAD
<<<<<<< HEAD
<<<<<<< HEAD
<<<<<<< HEAD
<<<<<<< HEAD
   "id": "a70a5ac8",
||||||| 6a30bf1
   "id": "eb84277d",
=======
   "id": "5cc21a63",
>>>>>>> documentation-devel
||||||| d28b18c
   "id": "5cc21a63",
=======
   "id": "b19f4c86",
>>>>>>> documentation-devel
||||||| 6893f63
<<<<<<< HEAD
   "id": "a70a5ac8",
||||||| 6a30bf1
   "id": "eb84277d",
=======
   "id": "5cc21a63",
>>>>>>> documentation-devel
=======
   "id": "6837569c",
>>>>>>> c74c98c2450c2a1ba922ed9442f136238d6bc88b
||||||| 6d93b645
   "id": "b19f4c86",
=======
   "id": "57504083",
>>>>>>> documentation-devel
||||||| 804edffb
<<<<<<< HEAD
<<<<<<< HEAD
<<<<<<< HEAD
   "id": "a70a5ac8",
||||||| 6a30bf1
   "id": "eb84277d",
=======
   "id": "5cc21a63",
>>>>>>> documentation-devel
||||||| d28b18c
   "id": "5cc21a63",
=======
   "id": "b19f4c86",
>>>>>>> documentation-devel
||||||| 6893f63
<<<<<<< HEAD
   "id": "a70a5ac8",
||||||| 6a30bf1
   "id": "eb84277d",
=======
   "id": "5cc21a63",
>>>>>>> documentation-devel
=======
   "id": "6837569c",
>>>>>>> c74c98c2450c2a1ba922ed9442f136238d6bc88b
=======
   "id": "8b4dffa4",
>>>>>>> 035bb2637984ead2784fecff78c0c60cc4181202
||||||| 3effdfa5
   "id": "57504083",
=======
   "id": "f257a97f",
>>>>>>> documentation-devel
||||||| 96c826da
<<<<<<< HEAD
<<<<<<< HEAD
<<<<<<< HEAD
<<<<<<< HEAD
<<<<<<< HEAD
   "id": "a70a5ac8",
||||||| 6a30bf1
   "id": "eb84277d",
=======
   "id": "5cc21a63",
>>>>>>> documentation-devel
||||||| d28b18c
   "id": "5cc21a63",
=======
   "id": "b19f4c86",
>>>>>>> documentation-devel
||||||| 6893f63
<<<<<<< HEAD
   "id": "a70a5ac8",
||||||| 6a30bf1
   "id": "eb84277d",
=======
   "id": "5cc21a63",
>>>>>>> documentation-devel
=======
   "id": "6837569c",
>>>>>>> c74c98c2450c2a1ba922ed9442f136238d6bc88b
||||||| 6d93b645
   "id": "b19f4c86",
=======
   "id": "57504083",
>>>>>>> documentation-devel
||||||| 804edffb
<<<<<<< HEAD
<<<<<<< HEAD
<<<<<<< HEAD
   "id": "a70a5ac8",
||||||| 6a30bf1
   "id": "eb84277d",
=======
   "id": "5cc21a63",
>>>>>>> documentation-devel
||||||| d28b18c
   "id": "5cc21a63",
=======
   "id": "b19f4c86",
>>>>>>> documentation-devel
||||||| 6893f63
<<<<<<< HEAD
   "id": "a70a5ac8",
||||||| 6a30bf1
   "id": "eb84277d",
=======
   "id": "5cc21a63",
>>>>>>> documentation-devel
=======
   "id": "6837569c",
>>>>>>> c74c98c2450c2a1ba922ed9442f136238d6bc88b
=======
   "id": "8b4dffa4",
>>>>>>> 035bb2637984ead2784fecff78c0c60cc4181202
=======
   "id": "62005774",
>>>>>>> 619c01f26351d57ac14d974b7af136ac5756103f
   "metadata": {},
   "outputs": [],
   "source": [
    "inds <- !sfe$is_blank_outlier & sfe$nCounts > 0\n",
    "(sfe <- sfe[, inds])"
   ]
  },
  {
   "cell_type": "markdown",
<<<<<<< HEAD
<<<<<<< HEAD
<<<<<<< HEAD
<<<<<<< HEAD
<<<<<<< HEAD
<<<<<<< HEAD
<<<<<<< HEAD
   "id": "cc834092",
||||||| 6a30bf1
   "id": "801b9343",
=======
   "id": "d6f39390",
>>>>>>> documentation-devel
||||||| d28b18c
   "id": "d6f39390",
=======
   "id": "445057fa",
>>>>>>> documentation-devel
||||||| 6893f63
<<<<<<< HEAD
   "id": "cc834092",
||||||| 6a30bf1
   "id": "801b9343",
=======
   "id": "d6f39390",
>>>>>>> documentation-devel
=======
   "id": "5c94406a",
>>>>>>> c74c98c2450c2a1ba922ed9442f136238d6bc88b
||||||| 6d93b645
   "id": "445057fa",
=======
   "id": "49a29f3d",
>>>>>>> documentation-devel
||||||| 804edffb
<<<<<<< HEAD
<<<<<<< HEAD
<<<<<<< HEAD
   "id": "cc834092",
||||||| 6a30bf1
   "id": "801b9343",
=======
   "id": "d6f39390",
>>>>>>> documentation-devel
||||||| d28b18c
   "id": "d6f39390",
=======
   "id": "445057fa",
>>>>>>> documentation-devel
||||||| 6893f63
<<<<<<< HEAD
   "id": "cc834092",
||||||| 6a30bf1
   "id": "801b9343",
=======
   "id": "d6f39390",
>>>>>>> documentation-devel
=======
   "id": "5c94406a",
>>>>>>> c74c98c2450c2a1ba922ed9442f136238d6bc88b
=======
   "id": "e34b9b32",
>>>>>>> 035bb2637984ead2784fecff78c0c60cc4181202
||||||| 3effdfa5
   "id": "49a29f3d",
=======
   "id": "ed7ca8a7",
>>>>>>> documentation-devel
||||||| 96c826da
<<<<<<< HEAD
<<<<<<< HEAD
<<<<<<< HEAD
<<<<<<< HEAD
<<<<<<< HEAD
   "id": "cc834092",
||||||| 6a30bf1
   "id": "801b9343",
=======
   "id": "d6f39390",
>>>>>>> documentation-devel
||||||| d28b18c
   "id": "d6f39390",
=======
   "id": "445057fa",
>>>>>>> documentation-devel
||||||| 6893f63
<<<<<<< HEAD
   "id": "cc834092",
||||||| 6a30bf1
   "id": "801b9343",
=======
   "id": "d6f39390",
>>>>>>> documentation-devel
=======
   "id": "5c94406a",
>>>>>>> c74c98c2450c2a1ba922ed9442f136238d6bc88b
||||||| 6d93b645
   "id": "445057fa",
=======
   "id": "49a29f3d",
>>>>>>> documentation-devel
||||||| 804edffb
<<<<<<< HEAD
<<<<<<< HEAD
<<<<<<< HEAD
   "id": "cc834092",
||||||| 6a30bf1
   "id": "801b9343",
=======
   "id": "d6f39390",
>>>>>>> documentation-devel
||||||| d28b18c
   "id": "d6f39390",
=======
   "id": "445057fa",
>>>>>>> documentation-devel
||||||| 6893f63
<<<<<<< HEAD
   "id": "cc834092",
||||||| 6a30bf1
   "id": "801b9343",
=======
   "id": "d6f39390",
>>>>>>> documentation-devel
=======
   "id": "5c94406a",
>>>>>>> c74c98c2450c2a1ba922ed9442f136238d6bc88b
=======
   "id": "e34b9b32",
>>>>>>> 035bb2637984ead2784fecff78c0c60cc4181202
=======
   "id": "b2a57e37",
>>>>>>> 619c01f26351d57ac14d974b7af136ac5756103f
   "metadata": {},
   "source": [
    "There still are over 390,000 cells left after removing the outliers. \n",
    "\n",
    "Next we compute Moran's I for QC metrics, which requires a spatial neighborhood graph:"
   ]
  },
  {
   "cell_type": "code",
   "execution_count": null,
<<<<<<< HEAD
<<<<<<< HEAD
<<<<<<< HEAD
<<<<<<< HEAD
<<<<<<< HEAD
<<<<<<< HEAD
<<<<<<< HEAD
   "id": "5e6718b0",
||||||| 6a30bf1
   "id": "90fe34ec",
=======
   "id": "02097558",
>>>>>>> documentation-devel
||||||| d28b18c
   "id": "02097558",
=======
   "id": "7489ce80",
>>>>>>> documentation-devel
||||||| 6893f63
<<<<<<< HEAD
   "id": "5e6718b0",
||||||| 6a30bf1
   "id": "90fe34ec",
=======
   "id": "02097558",
>>>>>>> documentation-devel
=======
   "id": "3472da14",
>>>>>>> c74c98c2450c2a1ba922ed9442f136238d6bc88b
||||||| 6d93b645
   "id": "7489ce80",
=======
   "id": "3e572bca",
>>>>>>> documentation-devel
||||||| 804edffb
<<<<<<< HEAD
<<<<<<< HEAD
<<<<<<< HEAD
   "id": "5e6718b0",
||||||| 6a30bf1
   "id": "90fe34ec",
=======
   "id": "02097558",
>>>>>>> documentation-devel
||||||| d28b18c
   "id": "02097558",
=======
   "id": "7489ce80",
>>>>>>> documentation-devel
||||||| 6893f63
<<<<<<< HEAD
   "id": "5e6718b0",
||||||| 6a30bf1
   "id": "90fe34ec",
=======
   "id": "02097558",
>>>>>>> documentation-devel
=======
   "id": "3472da14",
>>>>>>> c74c98c2450c2a1ba922ed9442f136238d6bc88b
=======
   "id": "7f3c9793",
>>>>>>> 035bb2637984ead2784fecff78c0c60cc4181202
||||||| 3effdfa5
   "id": "3e572bca",
=======
   "id": "befc2e0a",
>>>>>>> documentation-devel
||||||| 96c826da
<<<<<<< HEAD
<<<<<<< HEAD
<<<<<<< HEAD
<<<<<<< HEAD
<<<<<<< HEAD
   "id": "5e6718b0",
||||||| 6a30bf1
   "id": "90fe34ec",
=======
   "id": "02097558",
>>>>>>> documentation-devel
||||||| d28b18c
   "id": "02097558",
=======
   "id": "7489ce80",
>>>>>>> documentation-devel
||||||| 6893f63
<<<<<<< HEAD
   "id": "5e6718b0",
||||||| 6a30bf1
   "id": "90fe34ec",
=======
   "id": "02097558",
>>>>>>> documentation-devel
=======
   "id": "3472da14",
>>>>>>> c74c98c2450c2a1ba922ed9442f136238d6bc88b
||||||| 6d93b645
   "id": "7489ce80",
=======
   "id": "3e572bca",
>>>>>>> documentation-devel
||||||| 804edffb
<<<<<<< HEAD
<<<<<<< HEAD
<<<<<<< HEAD
   "id": "5e6718b0",
||||||| 6a30bf1
   "id": "90fe34ec",
=======
   "id": "02097558",
>>>>>>> documentation-devel
||||||| d28b18c
   "id": "02097558",
=======
   "id": "7489ce80",
>>>>>>> documentation-devel
||||||| 6893f63
<<<<<<< HEAD
   "id": "5e6718b0",
||||||| 6a30bf1
   "id": "90fe34ec",
=======
   "id": "02097558",
>>>>>>> documentation-devel
=======
   "id": "3472da14",
>>>>>>> c74c98c2450c2a1ba922ed9442f136238d6bc88b
=======
   "id": "7f3c9793",
>>>>>>> 035bb2637984ead2784fecff78c0c60cc4181202
=======
   "id": "d56ec9d8",
>>>>>>> 619c01f26351d57ac14d974b7af136ac5756103f
   "metadata": {},
   "outputs": [],
   "source": [
    "system.time(\n",
    "    colGraph(sfe, \"knn5\") <- findSpatialNeighbors(sfe, method = \"knearneigh\", \n",
    "                                                  dist_type = \"idw\", k = 5, \n",
    "                                                  style = \"W\")\n",
    ")"
   ]
  },
  {
   "cell_type": "code",
   "execution_count": null,
<<<<<<< HEAD
<<<<<<< HEAD
<<<<<<< HEAD
<<<<<<< HEAD
<<<<<<< HEAD
<<<<<<< HEAD
<<<<<<< HEAD
   "id": "02910eea",
||||||| 6a30bf1
   "id": "6c58197f",
=======
   "id": "486a7749",
>>>>>>> documentation-devel
||||||| d28b18c
   "id": "486a7749",
=======
   "id": "52af4286",
>>>>>>> documentation-devel
||||||| 6893f63
<<<<<<< HEAD
   "id": "02910eea",
||||||| 6a30bf1
   "id": "6c58197f",
=======
   "id": "486a7749",
>>>>>>> documentation-devel
=======
   "id": "40146831",
>>>>>>> c74c98c2450c2a1ba922ed9442f136238d6bc88b
||||||| 6d93b645
   "id": "52af4286",
=======
   "id": "66c6b1c1",
>>>>>>> documentation-devel
||||||| 804edffb
<<<<<<< HEAD
<<<<<<< HEAD
<<<<<<< HEAD
   "id": "02910eea",
||||||| 6a30bf1
   "id": "6c58197f",
=======
   "id": "486a7749",
>>>>>>> documentation-devel
||||||| d28b18c
   "id": "486a7749",
=======
   "id": "52af4286",
>>>>>>> documentation-devel
||||||| 6893f63
<<<<<<< HEAD
   "id": "02910eea",
||||||| 6a30bf1
   "id": "6c58197f",
=======
   "id": "486a7749",
>>>>>>> documentation-devel
=======
   "id": "40146831",
>>>>>>> c74c98c2450c2a1ba922ed9442f136238d6bc88b
=======
   "id": "9c47795e",
>>>>>>> 035bb2637984ead2784fecff78c0c60cc4181202
||||||| 3effdfa5
   "id": "66c6b1c1",
=======
   "id": "84371e41",
>>>>>>> documentation-devel
||||||| 96c826da
<<<<<<< HEAD
<<<<<<< HEAD
<<<<<<< HEAD
<<<<<<< HEAD
<<<<<<< HEAD
   "id": "02910eea",
||||||| 6a30bf1
   "id": "6c58197f",
=======
   "id": "486a7749",
>>>>>>> documentation-devel
||||||| d28b18c
   "id": "486a7749",
=======
   "id": "52af4286",
>>>>>>> documentation-devel
||||||| 6893f63
<<<<<<< HEAD
   "id": "02910eea",
||||||| 6a30bf1
   "id": "6c58197f",
=======
   "id": "486a7749",
>>>>>>> documentation-devel
=======
   "id": "40146831",
>>>>>>> c74c98c2450c2a1ba922ed9442f136238d6bc88b
||||||| 6d93b645
   "id": "52af4286",
=======
   "id": "66c6b1c1",
>>>>>>> documentation-devel
||||||| 804edffb
<<<<<<< HEAD
<<<<<<< HEAD
<<<<<<< HEAD
   "id": "02910eea",
||||||| 6a30bf1
   "id": "6c58197f",
=======
   "id": "486a7749",
>>>>>>> documentation-devel
||||||| d28b18c
   "id": "486a7749",
=======
   "id": "52af4286",
>>>>>>> documentation-devel
||||||| 6893f63
<<<<<<< HEAD
   "id": "02910eea",
||||||| 6a30bf1
   "id": "6c58197f",
=======
   "id": "486a7749",
>>>>>>> documentation-devel
=======
   "id": "40146831",
>>>>>>> c74c98c2450c2a1ba922ed9442f136238d6bc88b
=======
   "id": "9c47795e",
>>>>>>> 035bb2637984ead2784fecff78c0c60cc4181202
=======
   "id": "e067cf88",
>>>>>>> 619c01f26351d57ac14d974b7af136ac5756103f
   "metadata": {},
   "outputs": [],
   "source": [
    "features_use <- c(\"nCounts\", \"nGenes\", \"volume\")\n",
    "sfe <- colDataUnivariate(sfe, \"moran.mc\", features_use, \n",
    "                         colGraphName = \"knn5\", nsim = 49, \n",
    "                         BPPARAM = MulticoreParam(2))"
   ]
  },
  {
   "cell_type": "code",
   "execution_count": null,
<<<<<<< HEAD
<<<<<<< HEAD
<<<<<<< HEAD
<<<<<<< HEAD
<<<<<<< HEAD
<<<<<<< HEAD
<<<<<<< HEAD
   "id": "51a6811f",
||||||| 6a30bf1
   "id": "bfabdc15",
=======
   "id": "e66f9798",
>>>>>>> documentation-devel
||||||| d28b18c
   "id": "e66f9798",
=======
   "id": "51e9dbd0",
>>>>>>> documentation-devel
||||||| 6893f63
<<<<<<< HEAD
   "id": "51a6811f",
||||||| 6a30bf1
   "id": "bfabdc15",
=======
   "id": "e66f9798",
>>>>>>> documentation-devel
=======
   "id": "6823f759",
>>>>>>> c74c98c2450c2a1ba922ed9442f136238d6bc88b
||||||| 6d93b645
   "id": "51e9dbd0",
=======
   "id": "75dd6fb1",
>>>>>>> documentation-devel
||||||| 804edffb
<<<<<<< HEAD
<<<<<<< HEAD
<<<<<<< HEAD
   "id": "51a6811f",
||||||| 6a30bf1
   "id": "bfabdc15",
=======
   "id": "e66f9798",
>>>>>>> documentation-devel
||||||| d28b18c
   "id": "e66f9798",
=======
   "id": "51e9dbd0",
>>>>>>> documentation-devel
||||||| 6893f63
<<<<<<< HEAD
   "id": "51a6811f",
||||||| 6a30bf1
   "id": "bfabdc15",
=======
   "id": "e66f9798",
>>>>>>> documentation-devel
=======
   "id": "6823f759",
>>>>>>> c74c98c2450c2a1ba922ed9442f136238d6bc88b
=======
   "id": "6b16a55d",
>>>>>>> 035bb2637984ead2784fecff78c0c60cc4181202
||||||| 3effdfa5
   "id": "75dd6fb1",
=======
   "id": "30cfe400",
>>>>>>> documentation-devel
||||||| 96c826da
<<<<<<< HEAD
<<<<<<< HEAD
<<<<<<< HEAD
<<<<<<< HEAD
<<<<<<< HEAD
   "id": "51a6811f",
||||||| 6a30bf1
   "id": "bfabdc15",
=======
   "id": "e66f9798",
>>>>>>> documentation-devel
||||||| d28b18c
   "id": "e66f9798",
=======
   "id": "51e9dbd0",
>>>>>>> documentation-devel
||||||| 6893f63
<<<<<<< HEAD
   "id": "51a6811f",
||||||| 6a30bf1
   "id": "bfabdc15",
=======
   "id": "e66f9798",
>>>>>>> documentation-devel
=======
   "id": "6823f759",
>>>>>>> c74c98c2450c2a1ba922ed9442f136238d6bc88b
||||||| 6d93b645
   "id": "51e9dbd0",
=======
   "id": "75dd6fb1",
>>>>>>> documentation-devel
||||||| 804edffb
<<<<<<< HEAD
<<<<<<< HEAD
<<<<<<< HEAD
   "id": "51a6811f",
||||||| 6a30bf1
   "id": "bfabdc15",
=======
   "id": "e66f9798",
>>>>>>> documentation-devel
||||||| d28b18c
   "id": "e66f9798",
=======
   "id": "51e9dbd0",
>>>>>>> documentation-devel
||||||| 6893f63
<<<<<<< HEAD
   "id": "51a6811f",
||||||| 6a30bf1
   "id": "bfabdc15",
=======
   "id": "e66f9798",
>>>>>>> documentation-devel
=======
   "id": "6823f759",
>>>>>>> c74c98c2450c2a1ba922ed9442f136238d6bc88b
=======
   "id": "6b16a55d",
>>>>>>> 035bb2637984ead2784fecff78c0c60cc4181202
=======
   "id": "253f6c69",
>>>>>>> 619c01f26351d57ac14d974b7af136ac5756103f
   "metadata": {},
   "outputs": [],
   "source": [
    "plotMoranMC(sfe, features_use)"
   ]
  },
  {
   "cell_type": "markdown",
<<<<<<< HEAD
<<<<<<< HEAD
<<<<<<< HEAD
<<<<<<< HEAD
<<<<<<< HEAD
<<<<<<< HEAD
<<<<<<< HEAD
   "id": "94e070c4",
||||||| 6a30bf1
   "id": "0f412356",
=======
   "id": "70012be9",
>>>>>>> documentation-devel
||||||| d28b18c
   "id": "70012be9",
=======
   "id": "a9232e99",
>>>>>>> documentation-devel
||||||| 6893f63
<<<<<<< HEAD
   "id": "94e070c4",
||||||| 6a30bf1
   "id": "0f412356",
=======
   "id": "70012be9",
>>>>>>> documentation-devel
=======
   "id": "16fca4a7",
>>>>>>> c74c98c2450c2a1ba922ed9442f136238d6bc88b
||||||| 6d93b645
   "id": "a9232e99",
=======
   "id": "6da32d3b",
>>>>>>> documentation-devel
||||||| 804edffb
<<<<<<< HEAD
<<<<<<< HEAD
<<<<<<< HEAD
   "id": "94e070c4",
||||||| 6a30bf1
   "id": "0f412356",
=======
   "id": "70012be9",
>>>>>>> documentation-devel
||||||| d28b18c
   "id": "70012be9",
=======
   "id": "a9232e99",
>>>>>>> documentation-devel
||||||| 6893f63
<<<<<<< HEAD
   "id": "94e070c4",
||||||| 6a30bf1
   "id": "0f412356",
=======
   "id": "70012be9",
>>>>>>> documentation-devel
=======
   "id": "16fca4a7",
>>>>>>> c74c98c2450c2a1ba922ed9442f136238d6bc88b
=======
   "id": "c796829d",
>>>>>>> 035bb2637984ead2784fecff78c0c60cc4181202
||||||| 3effdfa5
   "id": "6da32d3b",
=======
   "id": "edf471e6",
>>>>>>> documentation-devel
||||||| 96c826da
<<<<<<< HEAD
<<<<<<< HEAD
<<<<<<< HEAD
<<<<<<< HEAD
<<<<<<< HEAD
   "id": "94e070c4",
||||||| 6a30bf1
   "id": "0f412356",
=======
   "id": "70012be9",
>>>>>>> documentation-devel
||||||| d28b18c
   "id": "70012be9",
=======
   "id": "a9232e99",
>>>>>>> documentation-devel
||||||| 6893f63
<<<<<<< HEAD
   "id": "94e070c4",
||||||| 6a30bf1
   "id": "0f412356",
=======
   "id": "70012be9",
>>>>>>> documentation-devel
=======
   "id": "16fca4a7",
>>>>>>> c74c98c2450c2a1ba922ed9442f136238d6bc88b
||||||| 6d93b645
   "id": "a9232e99",
=======
   "id": "6da32d3b",
>>>>>>> documentation-devel
||||||| 804edffb
<<<<<<< HEAD
<<<<<<< HEAD
<<<<<<< HEAD
   "id": "94e070c4",
||||||| 6a30bf1
   "id": "0f412356",
=======
   "id": "70012be9",
>>>>>>> documentation-devel
||||||| d28b18c
   "id": "70012be9",
=======
   "id": "a9232e99",
>>>>>>> documentation-devel
||||||| 6893f63
<<<<<<< HEAD
   "id": "94e070c4",
||||||| 6a30bf1
   "id": "0f412356",
=======
   "id": "70012be9",
>>>>>>> documentation-devel
=======
   "id": "16fca4a7",
>>>>>>> c74c98c2450c2a1ba922ed9442f136238d6bc88b
=======
   "id": "c796829d",
>>>>>>> 035bb2637984ead2784fecff78c0c60cc4181202
=======
   "id": "9becd10f",
>>>>>>> 619c01f26351d57ac14d974b7af136ac5756103f
   "metadata": {},
   "source": [
    "Here Moran's I is a little negative, but from the permutation testing, it is significant, though that can also be the large number of cells. The lower bound of Moran's I given the spatial neighborhood graph is usually closer to -0.5 than -1, while the upper bound is usually around 1. The bounds given a specific spatial neighborhood graph can be found with `moranBounds()`, but because it double centers the adjacency matrix, hence making it dense, there isn't enough memory to use it for the entire dataset. But we can look at the Moran bounds of a small subset of data, which might be generalizable to the whole dataset given that this tissue appears quite homogeneous in space."
   ]
  },
  {
   "cell_type": "code",
   "execution_count": null,
<<<<<<< HEAD
<<<<<<< HEAD
<<<<<<< HEAD
<<<<<<< HEAD
<<<<<<< HEAD
<<<<<<< HEAD
<<<<<<< HEAD
   "id": "c5bf008d",
||||||| 6a30bf1
   "id": "b1ae9570",
=======
   "id": "9bb75dd7",
>>>>>>> documentation-devel
||||||| d28b18c
   "id": "9bb75dd7",
=======
   "id": "bb3a066f",
>>>>>>> documentation-devel
||||||| 6893f63
<<<<<<< HEAD
   "id": "c5bf008d",
||||||| 6a30bf1
   "id": "b1ae9570",
=======
   "id": "9bb75dd7",
>>>>>>> documentation-devel
=======
   "id": "33164291",
>>>>>>> c74c98c2450c2a1ba922ed9442f136238d6bc88b
||||||| 6d93b645
   "id": "bb3a066f",
=======
   "id": "a1c2e056",
>>>>>>> documentation-devel
||||||| 804edffb
<<<<<<< HEAD
<<<<<<< HEAD
<<<<<<< HEAD
   "id": "c5bf008d",
||||||| 6a30bf1
   "id": "b1ae9570",
=======
   "id": "9bb75dd7",
>>>>>>> documentation-devel
||||||| d28b18c
   "id": "9bb75dd7",
=======
   "id": "bb3a066f",
>>>>>>> documentation-devel
||||||| 6893f63
<<<<<<< HEAD
   "id": "c5bf008d",
||||||| 6a30bf1
   "id": "b1ae9570",
=======
   "id": "9bb75dd7",
>>>>>>> documentation-devel
=======
   "id": "33164291",
>>>>>>> c74c98c2450c2a1ba922ed9442f136238d6bc88b
=======
   "id": "b2256c86",
>>>>>>> 035bb2637984ead2784fecff78c0c60cc4181202
||||||| 3effdfa5
   "id": "a1c2e056",
=======
   "id": "dbadfc97",
>>>>>>> documentation-devel
||||||| 96c826da
<<<<<<< HEAD
<<<<<<< HEAD
<<<<<<< HEAD
<<<<<<< HEAD
<<<<<<< HEAD
   "id": "c5bf008d",
||||||| 6a30bf1
   "id": "b1ae9570",
=======
   "id": "9bb75dd7",
>>>>>>> documentation-devel
||||||| d28b18c
   "id": "9bb75dd7",
=======
   "id": "bb3a066f",
>>>>>>> documentation-devel
||||||| 6893f63
<<<<<<< HEAD
   "id": "c5bf008d",
||||||| 6a30bf1
   "id": "b1ae9570",
=======
   "id": "9bb75dd7",
>>>>>>> documentation-devel
=======
   "id": "33164291",
>>>>>>> c74c98c2450c2a1ba922ed9442f136238d6bc88b
||||||| 6d93b645
   "id": "bb3a066f",
=======
   "id": "a1c2e056",
>>>>>>> documentation-devel
||||||| 804edffb
<<<<<<< HEAD
<<<<<<< HEAD
<<<<<<< HEAD
   "id": "c5bf008d",
||||||| 6a30bf1
   "id": "b1ae9570",
=======
   "id": "9bb75dd7",
>>>>>>> documentation-devel
||||||| d28b18c
   "id": "9bb75dd7",
=======
   "id": "bb3a066f",
>>>>>>> documentation-devel
||||||| 6893f63
<<<<<<< HEAD
   "id": "c5bf008d",
||||||| 6a30bf1
   "id": "b1ae9570",
=======
   "id": "9bb75dd7",
>>>>>>> documentation-devel
=======
   "id": "33164291",
>>>>>>> c74c98c2450c2a1ba922ed9442f136238d6bc88b
=======
   "id": "b2256c86",
>>>>>>> 035bb2637984ead2784fecff78c0c60cc4181202
=======
   "id": "4424f1d7",
>>>>>>> 619c01f26351d57ac14d974b7af136ac5756103f
   "metadata": {},
   "outputs": [],
   "source": [
    "bbox_use <- c(xmin = 6000, xmax = 7000, ymin = 4000, ymax = 5000)\n",
    "inds2 <- st_intersects(cellSeg(sfe), st_as_sfc(st_bbox(bbox_use)), \n",
    "                       sparse = FALSE)[,1]\n",
    "sfe_sub <- sfe[, inds2]"
   ]
  },
  {
   "cell_type": "code",
   "execution_count": null,
<<<<<<< HEAD
<<<<<<< HEAD
<<<<<<< HEAD
<<<<<<< HEAD
<<<<<<< HEAD
<<<<<<< HEAD
<<<<<<< HEAD
   "id": "89ec5379",
||||||| 6a30bf1
   "id": "0107320d",
=======
   "id": "eed3094f",
>>>>>>> documentation-devel
||||||| d28b18c
   "id": "eed3094f",
=======
   "id": "8128fc67",
>>>>>>> documentation-devel
||||||| 6893f63
<<<<<<< HEAD
   "id": "89ec5379",
||||||| 6a30bf1
   "id": "0107320d",
=======
   "id": "eed3094f",
>>>>>>> documentation-devel
=======
   "id": "1bfcb568",
>>>>>>> c74c98c2450c2a1ba922ed9442f136238d6bc88b
||||||| 6d93b645
   "id": "8128fc67",
=======
   "id": "8dad828e",
>>>>>>> documentation-devel
||||||| 804edffb
<<<<<<< HEAD
<<<<<<< HEAD
<<<<<<< HEAD
   "id": "89ec5379",
||||||| 6a30bf1
   "id": "0107320d",
=======
   "id": "eed3094f",
>>>>>>> documentation-devel
||||||| d28b18c
   "id": "eed3094f",
=======
   "id": "8128fc67",
>>>>>>> documentation-devel
||||||| 6893f63
<<<<<<< HEAD
   "id": "89ec5379",
||||||| 6a30bf1
   "id": "0107320d",
=======
   "id": "eed3094f",
>>>>>>> documentation-devel
=======
   "id": "1bfcb568",
>>>>>>> c74c98c2450c2a1ba922ed9442f136238d6bc88b
=======
   "id": "17c9e663",
>>>>>>> 035bb2637984ead2784fecff78c0c60cc4181202
||||||| 3effdfa5
   "id": "8dad828e",
=======
   "id": "886213b2",
>>>>>>> documentation-devel
||||||| 96c826da
<<<<<<< HEAD
<<<<<<< HEAD
<<<<<<< HEAD
<<<<<<< HEAD
<<<<<<< HEAD
   "id": "89ec5379",
||||||| 6a30bf1
   "id": "0107320d",
=======
   "id": "eed3094f",
>>>>>>> documentation-devel
||||||| d28b18c
   "id": "eed3094f",
=======
   "id": "8128fc67",
>>>>>>> documentation-devel
||||||| 6893f63
<<<<<<< HEAD
   "id": "89ec5379",
||||||| 6a30bf1
   "id": "0107320d",
=======
   "id": "eed3094f",
>>>>>>> documentation-devel
=======
   "id": "1bfcb568",
>>>>>>> c74c98c2450c2a1ba922ed9442f136238d6bc88b
||||||| 6d93b645
   "id": "8128fc67",
=======
   "id": "8dad828e",
>>>>>>> documentation-devel
||||||| 804edffb
<<<<<<< HEAD
<<<<<<< HEAD
<<<<<<< HEAD
   "id": "89ec5379",
||||||| 6a30bf1
   "id": "0107320d",
=======
   "id": "eed3094f",
>>>>>>> documentation-devel
||||||| d28b18c
   "id": "eed3094f",
=======
   "id": "8128fc67",
>>>>>>> documentation-devel
||||||| 6893f63
<<<<<<< HEAD
   "id": "89ec5379",
||||||| 6a30bf1
   "id": "0107320d",
=======
   "id": "eed3094f",
>>>>>>> documentation-devel
=======
   "id": "1bfcb568",
>>>>>>> c74c98c2450c2a1ba922ed9442f136238d6bc88b
=======
   "id": "17c9e663",
>>>>>>> 035bb2637984ead2784fecff78c0c60cc4181202
=======
   "id": "0ec112c6",
>>>>>>> 619c01f26351d57ac14d974b7af136ac5756103f
   "metadata": {},
   "outputs": [],
   "source": [
    "(mb <- moranBounds(colGraph(sfe_sub, \"knn5\")))"
   ]
  },
  {
   "cell_type": "markdown",
<<<<<<< HEAD
<<<<<<< HEAD
<<<<<<< HEAD
<<<<<<< HEAD
<<<<<<< HEAD
<<<<<<< HEAD
<<<<<<< HEAD
   "id": "25316b9f",
||||||| 6a30bf1
   "id": "ca8ea711",
=======
   "id": "a1957ad0",
>>>>>>> documentation-devel
||||||| d28b18c
   "id": "a1957ad0",
=======
   "id": "e2c53fc6",
>>>>>>> documentation-devel
||||||| 6893f63
<<<<<<< HEAD
   "id": "25316b9f",
||||||| 6a30bf1
   "id": "ca8ea711",
=======
   "id": "a1957ad0",
>>>>>>> documentation-devel
=======
   "id": "a3869a5c",
>>>>>>> c74c98c2450c2a1ba922ed9442f136238d6bc88b
||||||| 6d93b645
   "id": "e2c53fc6",
=======
   "id": "774576f4",
>>>>>>> documentation-devel
||||||| 804edffb
<<<<<<< HEAD
<<<<<<< HEAD
<<<<<<< HEAD
   "id": "25316b9f",
||||||| 6a30bf1
   "id": "ca8ea711",
=======
   "id": "a1957ad0",
>>>>>>> documentation-devel
||||||| d28b18c
   "id": "a1957ad0",
=======
   "id": "e2c53fc6",
>>>>>>> documentation-devel
||||||| 6893f63
<<<<<<< HEAD
   "id": "25316b9f",
||||||| 6a30bf1
   "id": "ca8ea711",
=======
   "id": "a1957ad0",
>>>>>>> documentation-devel
=======
   "id": "a3869a5c",
>>>>>>> c74c98c2450c2a1ba922ed9442f136238d6bc88b
=======
   "id": "4a4bd142",
>>>>>>> 035bb2637984ead2784fecff78c0c60cc4181202
||||||| 3effdfa5
   "id": "774576f4",
=======
   "id": "78400de2",
>>>>>>> documentation-devel
||||||| 96c826da
<<<<<<< HEAD
<<<<<<< HEAD
<<<<<<< HEAD
<<<<<<< HEAD
<<<<<<< HEAD
   "id": "25316b9f",
||||||| 6a30bf1
   "id": "ca8ea711",
=======
   "id": "a1957ad0",
>>>>>>> documentation-devel
||||||| d28b18c
   "id": "a1957ad0",
=======
   "id": "e2c53fc6",
>>>>>>> documentation-devel
||||||| 6893f63
<<<<<<< HEAD
   "id": "25316b9f",
||||||| 6a30bf1
   "id": "ca8ea711",
=======
   "id": "a1957ad0",
>>>>>>> documentation-devel
=======
   "id": "a3869a5c",
>>>>>>> c74c98c2450c2a1ba922ed9442f136238d6bc88b
||||||| 6d93b645
   "id": "e2c53fc6",
=======
   "id": "774576f4",
>>>>>>> documentation-devel
||||||| 804edffb
<<<<<<< HEAD
<<<<<<< HEAD
<<<<<<< HEAD
   "id": "25316b9f",
||||||| 6a30bf1
   "id": "ca8ea711",
=======
   "id": "a1957ad0",
>>>>>>> documentation-devel
||||||| d28b18c
   "id": "a1957ad0",
=======
   "id": "e2c53fc6",
>>>>>>> documentation-devel
||||||| 6893f63
<<<<<<< HEAD
   "id": "25316b9f",
||||||| 6a30bf1
   "id": "ca8ea711",
=======
   "id": "a1957ad0",
>>>>>>> documentation-devel
=======
   "id": "a3869a5c",
>>>>>>> c74c98c2450c2a1ba922ed9442f136238d6bc88b
=======
   "id": "4a4bd142",
>>>>>>> 035bb2637984ead2784fecff78c0c60cc4181202
=======
   "id": "4ccec39d",
>>>>>>> 619c01f26351d57ac14d974b7af136ac5756103f
   "metadata": {
    "lines_to_next_cell": 0
   },
   "source": [
    "So considering the bounds, the MOran's I values of the QC metrics are more like"
   ]
  },
  {
   "cell_type": "code",
   "execution_count": null,
<<<<<<< HEAD
<<<<<<< HEAD
<<<<<<< HEAD
<<<<<<< HEAD
<<<<<<< HEAD
<<<<<<< HEAD
<<<<<<< HEAD
   "id": "037c64be",
||||||| 6a30bf1
   "id": "1f01db6b",
=======
   "id": "f80f5039",
>>>>>>> documentation-devel
||||||| d28b18c
   "id": "f80f5039",
=======
   "id": "5fcd96b7",
>>>>>>> documentation-devel
||||||| 6893f63
<<<<<<< HEAD
   "id": "037c64be",
||||||| 6a30bf1
   "id": "1f01db6b",
=======
   "id": "f80f5039",
>>>>>>> documentation-devel
=======
   "id": "5204562c",
>>>>>>> c74c98c2450c2a1ba922ed9442f136238d6bc88b
||||||| 6d93b645
   "id": "5fcd96b7",
=======
   "id": "b19250ee",
>>>>>>> documentation-devel
||||||| 804edffb
<<<<<<< HEAD
<<<<<<< HEAD
<<<<<<< HEAD
   "id": "037c64be",
||||||| 6a30bf1
   "id": "1f01db6b",
=======
   "id": "f80f5039",
>>>>>>> documentation-devel
||||||| d28b18c
   "id": "f80f5039",
=======
   "id": "5fcd96b7",
>>>>>>> documentation-devel
||||||| 6893f63
<<<<<<< HEAD
   "id": "037c64be",
||||||| 6a30bf1
   "id": "1f01db6b",
=======
   "id": "f80f5039",
>>>>>>> documentation-devel
=======
   "id": "5204562c",
>>>>>>> c74c98c2450c2a1ba922ed9442f136238d6bc88b
=======
   "id": "8d230be6",
>>>>>>> 035bb2637984ead2784fecff78c0c60cc4181202
||||||| 3effdfa5
   "id": "b19250ee",
=======
   "id": "70646098",
>>>>>>> documentation-devel
||||||| 96c826da
<<<<<<< HEAD
<<<<<<< HEAD
<<<<<<< HEAD
<<<<<<< HEAD
<<<<<<< HEAD
   "id": "037c64be",
||||||| 6a30bf1
   "id": "1f01db6b",
=======
   "id": "f80f5039",
>>>>>>> documentation-devel
||||||| d28b18c
   "id": "f80f5039",
=======
   "id": "5fcd96b7",
>>>>>>> documentation-devel
||||||| 6893f63
<<<<<<< HEAD
   "id": "037c64be",
||||||| 6a30bf1
   "id": "1f01db6b",
=======
   "id": "f80f5039",
>>>>>>> documentation-devel
=======
   "id": "5204562c",
>>>>>>> c74c98c2450c2a1ba922ed9442f136238d6bc88b
||||||| 6d93b645
   "id": "5fcd96b7",
=======
   "id": "b19250ee",
>>>>>>> documentation-devel
||||||| 804edffb
<<<<<<< HEAD
<<<<<<< HEAD
<<<<<<< HEAD
   "id": "037c64be",
||||||| 6a30bf1
   "id": "1f01db6b",
=======
   "id": "f80f5039",
>>>>>>> documentation-devel
||||||| d28b18c
   "id": "f80f5039",
=======
   "id": "5fcd96b7",
>>>>>>> documentation-devel
||||||| 6893f63
<<<<<<< HEAD
   "id": "037c64be",
||||||| 6a30bf1
   "id": "1f01db6b",
=======
   "id": "f80f5039",
>>>>>>> documentation-devel
=======
   "id": "5204562c",
>>>>>>> c74c98c2450c2a1ba922ed9442f136238d6bc88b
=======
   "id": "8d230be6",
>>>>>>> 035bb2637984ead2784fecff78c0c60cc4181202
=======
   "id": "94afffdd",
>>>>>>> 619c01f26351d57ac14d974b7af136ac5756103f
   "metadata": {},
   "outputs": [],
   "source": [
    "setNames(colFeatureData(sfe)[c(\"nCounts\", \"nGenes\", \"volume\"), \n",
    "                             \"moran.mc_statistic_sample01\"] / mb[\"Imin\"],\n",
    "         features_use)"
   ]
  },
  {
   "cell_type": "markdown",
<<<<<<< HEAD
<<<<<<< HEAD
<<<<<<< HEAD
<<<<<<< HEAD
<<<<<<< HEAD
<<<<<<< HEAD
<<<<<<< HEAD
   "id": "e1c07651",
||||||| 6a30bf1
   "id": "6001abba",
=======
   "id": "bfebd6ee",
>>>>>>> documentation-devel
||||||| d28b18c
   "id": "bfebd6ee",
=======
   "id": "93c897ce",
>>>>>>> documentation-devel
||||||| 6893f63
<<<<<<< HEAD
   "id": "e1c07651",
||||||| 6a30bf1
   "id": "6001abba",
=======
   "id": "bfebd6ee",
>>>>>>> documentation-devel
=======
   "id": "49cadcfc",
>>>>>>> c74c98c2450c2a1ba922ed9442f136238d6bc88b
||||||| 6d93b645
   "id": "93c897ce",
=======
   "id": "39dfce00",
>>>>>>> documentation-devel
||||||| 804edffb
<<<<<<< HEAD
<<<<<<< HEAD
<<<<<<< HEAD
   "id": "e1c07651",
||||||| 6a30bf1
   "id": "6001abba",
=======
   "id": "bfebd6ee",
>>>>>>> documentation-devel
||||||| d28b18c
   "id": "bfebd6ee",
=======
   "id": "93c897ce",
>>>>>>> documentation-devel
||||||| 6893f63
<<<<<<< HEAD
   "id": "e1c07651",
||||||| 6a30bf1
   "id": "6001abba",
=======
   "id": "bfebd6ee",
>>>>>>> documentation-devel
=======
   "id": "49cadcfc",
>>>>>>> c74c98c2450c2a1ba922ed9442f136238d6bc88b
=======
   "id": "3b26990f",
>>>>>>> 035bb2637984ead2784fecff78c0c60cc4181202
||||||| 3effdfa5
   "id": "39dfce00",
=======
   "id": "3855e616",
>>>>>>> documentation-devel
||||||| 96c826da
<<<<<<< HEAD
<<<<<<< HEAD
<<<<<<< HEAD
<<<<<<< HEAD
<<<<<<< HEAD
   "id": "e1c07651",
||||||| 6a30bf1
   "id": "6001abba",
=======
   "id": "bfebd6ee",
>>>>>>> documentation-devel
||||||| d28b18c
   "id": "bfebd6ee",
=======
   "id": "93c897ce",
>>>>>>> documentation-devel
||||||| 6893f63
<<<<<<< HEAD
   "id": "e1c07651",
||||||| 6a30bf1
   "id": "6001abba",
=======
   "id": "bfebd6ee",
>>>>>>> documentation-devel
=======
   "id": "49cadcfc",
>>>>>>> c74c98c2450c2a1ba922ed9442f136238d6bc88b
||||||| 6d93b645
   "id": "93c897ce",
=======
   "id": "39dfce00",
>>>>>>> documentation-devel
||||||| 804edffb
<<<<<<< HEAD
<<<<<<< HEAD
<<<<<<< HEAD
   "id": "e1c07651",
||||||| 6a30bf1
   "id": "6001abba",
=======
   "id": "bfebd6ee",
>>>>>>> documentation-devel
||||||| d28b18c
   "id": "bfebd6ee",
=======
   "id": "93c897ce",
>>>>>>> documentation-devel
||||||| 6893f63
<<<<<<< HEAD
   "id": "e1c07651",
||||||| 6a30bf1
   "id": "6001abba",
=======
   "id": "bfebd6ee",
>>>>>>> documentation-devel
=======
   "id": "49cadcfc",
>>>>>>> c74c98c2450c2a1ba922ed9442f136238d6bc88b
=======
   "id": "3b26990f",
>>>>>>> 035bb2637984ead2784fecff78c0c60cc4181202
=======
   "id": "eea57a4f",
>>>>>>> 619c01f26351d57ac14d974b7af136ac5756103f
   "metadata": {},
   "source": [
    "whose magnitudes seem more substantial for `nCounts` and `nGenes` if it's positive spatial autocorrelation. So there may be mild to moderate negative spatial autocorrelation."
   ]
  },
  {
   "cell_type": "code",
   "execution_count": null,
<<<<<<< HEAD
<<<<<<< HEAD
<<<<<<< HEAD
<<<<<<< HEAD
<<<<<<< HEAD
<<<<<<< HEAD
<<<<<<< HEAD
   "id": "a393f713",
||||||| 6a30bf1
   "id": "a05911b5",
=======
   "id": "315e5097",
>>>>>>> documentation-devel
||||||| d28b18c
   "id": "315e5097",
=======
   "id": "c0922651",
>>>>>>> documentation-devel
||||||| 6893f63
<<<<<<< HEAD
   "id": "a393f713",
||||||| 6a30bf1
   "id": "a05911b5",
=======
   "id": "315e5097",
>>>>>>> documentation-devel
=======
   "id": "9a0e3a04",
>>>>>>> c74c98c2450c2a1ba922ed9442f136238d6bc88b
||||||| 6d93b645
   "id": "c0922651",
=======
   "id": "9edaa059",
>>>>>>> documentation-devel
||||||| 804edffb
<<<<<<< HEAD
<<<<<<< HEAD
<<<<<<< HEAD
   "id": "a393f713",
||||||| 6a30bf1
   "id": "a05911b5",
=======
   "id": "315e5097",
>>>>>>> documentation-devel
||||||| d28b18c
   "id": "315e5097",
=======
   "id": "c0922651",
>>>>>>> documentation-devel
||||||| 6893f63
<<<<<<< HEAD
   "id": "a393f713",
||||||| 6a30bf1
   "id": "a05911b5",
=======
   "id": "315e5097",
>>>>>>> documentation-devel
=======
   "id": "9a0e3a04",
>>>>>>> c74c98c2450c2a1ba922ed9442f136238d6bc88b
=======
   "id": "5189414e",
>>>>>>> 035bb2637984ead2784fecff78c0c60cc4181202
||||||| 3effdfa5
   "id": "9edaa059",
=======
   "id": "d91bc9e3",
>>>>>>> documentation-devel
||||||| 96c826da
<<<<<<< HEAD
<<<<<<< HEAD
<<<<<<< HEAD
<<<<<<< HEAD
<<<<<<< HEAD
   "id": "a393f713",
||||||| 6a30bf1
   "id": "a05911b5",
=======
   "id": "315e5097",
>>>>>>> documentation-devel
||||||| d28b18c
   "id": "315e5097",
=======
   "id": "c0922651",
>>>>>>> documentation-devel
||||||| 6893f63
<<<<<<< HEAD
   "id": "a393f713",
||||||| 6a30bf1
   "id": "a05911b5",
=======
   "id": "315e5097",
>>>>>>> documentation-devel
=======
   "id": "9a0e3a04",
>>>>>>> c74c98c2450c2a1ba922ed9442f136238d6bc88b
||||||| 6d93b645
   "id": "c0922651",
=======
   "id": "9edaa059",
>>>>>>> documentation-devel
||||||| 804edffb
<<<<<<< HEAD
<<<<<<< HEAD
<<<<<<< HEAD
   "id": "a393f713",
||||||| 6a30bf1
   "id": "a05911b5",
=======
   "id": "315e5097",
>>>>>>> documentation-devel
||||||| d28b18c
   "id": "315e5097",
=======
   "id": "c0922651",
>>>>>>> documentation-devel
||||||| 6893f63
<<<<<<< HEAD
   "id": "a393f713",
||||||| 6a30bf1
   "id": "a05911b5",
=======
   "id": "315e5097",
>>>>>>> documentation-devel
=======
   "id": "9a0e3a04",
>>>>>>> c74c98c2450c2a1ba922ed9442f136238d6bc88b
=======
   "id": "5189414e",
>>>>>>> 035bb2637984ead2784fecff78c0c60cc4181202
=======
   "id": "8b9b6cae",
>>>>>>> 619c01f26351d57ac14d974b7af136ac5756103f
   "metadata": {},
   "outputs": [],
   "source": [
    "# Normalize data\n",
    "sfe <- logNormCounts(sfe)"
   ]
  },
  {
   "cell_type": "markdown",
<<<<<<< HEAD
<<<<<<< HEAD
<<<<<<< HEAD
<<<<<<< HEAD
<<<<<<< HEAD
<<<<<<< HEAD
<<<<<<< HEAD
   "id": "70010101",
||||||| 6a30bf1
   "id": "511523dd",
=======
   "id": "aa6cdc05",
>>>>>>> documentation-devel
||||||| d28b18c
   "id": "aa6cdc05",
=======
   "id": "fd2842e0",
>>>>>>> documentation-devel
||||||| 6893f63
<<<<<<< HEAD
   "id": "70010101",
||||||| 6a30bf1
   "id": "511523dd",
=======
   "id": "aa6cdc05",
>>>>>>> documentation-devel
=======
   "id": "d5b3108d",
>>>>>>> c74c98c2450c2a1ba922ed9442f136238d6bc88b
||||||| 6d93b645
   "id": "fd2842e0",
=======
   "id": "9e95ae20",
>>>>>>> documentation-devel
||||||| 804edffb
<<<<<<< HEAD
<<<<<<< HEAD
<<<<<<< HEAD
   "id": "70010101",
||||||| 6a30bf1
   "id": "511523dd",
=======
   "id": "aa6cdc05",
>>>>>>> documentation-devel
||||||| d28b18c
   "id": "aa6cdc05",
=======
   "id": "fd2842e0",
>>>>>>> documentation-devel
||||||| 6893f63
<<<<<<< HEAD
   "id": "70010101",
||||||| 6a30bf1
   "id": "511523dd",
=======
   "id": "aa6cdc05",
>>>>>>> documentation-devel
=======
   "id": "d5b3108d",
>>>>>>> c74c98c2450c2a1ba922ed9442f136238d6bc88b
=======
   "id": "c1fe25ef",
>>>>>>> 035bb2637984ead2784fecff78c0c60cc4181202
||||||| 3effdfa5
   "id": "9e95ae20",
=======
   "id": "442ffb58",
>>>>>>> documentation-devel
||||||| 96c826da
<<<<<<< HEAD
<<<<<<< HEAD
<<<<<<< HEAD
<<<<<<< HEAD
<<<<<<< HEAD
   "id": "70010101",
||||||| 6a30bf1
   "id": "511523dd",
=======
   "id": "aa6cdc05",
>>>>>>> documentation-devel
||||||| d28b18c
   "id": "aa6cdc05",
=======
   "id": "fd2842e0",
>>>>>>> documentation-devel
||||||| 6893f63
<<<<<<< HEAD
   "id": "70010101",
||||||| 6a30bf1
   "id": "511523dd",
=======
   "id": "aa6cdc05",
>>>>>>> documentation-devel
=======
   "id": "d5b3108d",
>>>>>>> c74c98c2450c2a1ba922ed9442f136238d6bc88b
||||||| 6d93b645
   "id": "fd2842e0",
=======
   "id": "9e95ae20",
>>>>>>> documentation-devel
||||||| 804edffb
<<<<<<< HEAD
<<<<<<< HEAD
<<<<<<< HEAD
   "id": "70010101",
||||||| 6a30bf1
   "id": "511523dd",
=======
   "id": "aa6cdc05",
>>>>>>> documentation-devel
||||||| d28b18c
   "id": "aa6cdc05",
=======
   "id": "fd2842e0",
>>>>>>> documentation-devel
||||||| 6893f63
<<<<<<< HEAD
   "id": "70010101",
||||||| 6a30bf1
   "id": "511523dd",
=======
   "id": "aa6cdc05",
>>>>>>> documentation-devel
=======
   "id": "d5b3108d",
>>>>>>> c74c98c2450c2a1ba922ed9442f136238d6bc88b
=======
   "id": "c1fe25ef",
>>>>>>> 035bb2637984ead2784fecff78c0c60cc4181202
=======
   "id": "d26a2fde",
>>>>>>> 619c01f26351d57ac14d974b7af136ac5756103f
   "metadata": {},
   "source": [
    "# Hepatic zonation\n",
    "\n",
    "This dataset comes from a relatively large piece of tissue and we need to zoom into a smaller region to better see the local structures. Here we specify a bounding box."
   ]
  },
  {
   "cell_type": "code",
   "execution_count": null,
<<<<<<< HEAD
<<<<<<< HEAD
<<<<<<< HEAD
<<<<<<< HEAD
<<<<<<< HEAD
<<<<<<< HEAD
<<<<<<< HEAD
   "id": "3f830e63",
||||||| 6a30bf1
   "id": "7ddb4998",
=======
   "id": "dbc6515c",
>>>>>>> documentation-devel
||||||| d28b18c
   "id": "dbc6515c",
=======
   "id": "3148a693",
>>>>>>> documentation-devel
||||||| 6893f63
<<<<<<< HEAD
   "id": "3f830e63",
||||||| 6a30bf1
   "id": "7ddb4998",
=======
   "id": "dbc6515c",
>>>>>>> documentation-devel
=======
   "id": "3320dc17",
>>>>>>> c74c98c2450c2a1ba922ed9442f136238d6bc88b
||||||| 6d93b645
   "id": "3148a693",
=======
   "id": "a5c89378",
>>>>>>> documentation-devel
||||||| 804edffb
<<<<<<< HEAD
<<<<<<< HEAD
<<<<<<< HEAD
   "id": "3f830e63",
||||||| 6a30bf1
   "id": "7ddb4998",
=======
   "id": "dbc6515c",
>>>>>>> documentation-devel
||||||| d28b18c
   "id": "dbc6515c",
=======
   "id": "3148a693",
>>>>>>> documentation-devel
||||||| 6893f63
<<<<<<< HEAD
   "id": "3f830e63",
||||||| 6a30bf1
   "id": "7ddb4998",
=======
   "id": "dbc6515c",
>>>>>>> documentation-devel
=======
   "id": "3320dc17",
>>>>>>> c74c98c2450c2a1ba922ed9442f136238d6bc88b
=======
   "id": "7e5c012b",
>>>>>>> 035bb2637984ead2784fecff78c0c60cc4181202
||||||| 3effdfa5
   "id": "a5c89378",
=======
   "id": "25919611",
>>>>>>> documentation-devel
||||||| 96c826da
<<<<<<< HEAD
<<<<<<< HEAD
<<<<<<< HEAD
<<<<<<< HEAD
<<<<<<< HEAD
   "id": "3f830e63",
||||||| 6a30bf1
   "id": "7ddb4998",
=======
   "id": "dbc6515c",
>>>>>>> documentation-devel
||||||| d28b18c
   "id": "dbc6515c",
=======
   "id": "3148a693",
>>>>>>> documentation-devel
||||||| 6893f63
<<<<<<< HEAD
   "id": "3f830e63",
||||||| 6a30bf1
   "id": "7ddb4998",
=======
   "id": "dbc6515c",
>>>>>>> documentation-devel
=======
   "id": "3320dc17",
>>>>>>> c74c98c2450c2a1ba922ed9442f136238d6bc88b
||||||| 6d93b645
   "id": "3148a693",
=======
   "id": "a5c89378",
>>>>>>> documentation-devel
||||||| 804edffb
<<<<<<< HEAD
<<<<<<< HEAD
<<<<<<< HEAD
   "id": "3f830e63",
||||||| 6a30bf1
   "id": "7ddb4998",
=======
   "id": "dbc6515c",
>>>>>>> documentation-devel
||||||| d28b18c
   "id": "dbc6515c",
=======
   "id": "3148a693",
>>>>>>> documentation-devel
||||||| 6893f63
<<<<<<< HEAD
   "id": "3f830e63",
||||||| 6a30bf1
   "id": "7ddb4998",
=======
   "id": "dbc6515c",
>>>>>>> documentation-devel
=======
   "id": "3320dc17",
>>>>>>> c74c98c2450c2a1ba922ed9442f136238d6bc88b
=======
   "id": "7e5c012b",
>>>>>>> 035bb2637984ead2784fecff78c0c60cc4181202
=======
   "id": "7a4b208c",
>>>>>>> 619c01f26351d57ac14d974b7af136ac5756103f
   "metadata": {},
   "outputs": [],
   "source": [
    "bbox_use <- c(xmin = 6100, xmax = 7100, ymin = 7500, ymax = 8500)"
   ]
  },
  {
   "cell_type": "markdown",
<<<<<<< HEAD
<<<<<<< HEAD
<<<<<<< HEAD
<<<<<<< HEAD
<<<<<<< HEAD
<<<<<<< HEAD
<<<<<<< HEAD
   "id": "1b1f2f38",
||||||| 6a30bf1
   "id": "281996ef",
=======
   "id": "468961dd",
>>>>>>> documentation-devel
||||||| d28b18c
   "id": "468961dd",
=======
   "id": "eacbf8c2",
>>>>>>> documentation-devel
||||||| 6893f63
<<<<<<< HEAD
   "id": "1b1f2f38",
||||||| 6a30bf1
   "id": "281996ef",
=======
   "id": "468961dd",
>>>>>>> documentation-devel
=======
   "id": "2cd43a28",
>>>>>>> c74c98c2450c2a1ba922ed9442f136238d6bc88b
||||||| 6d93b645
   "id": "eacbf8c2",
=======
   "id": "a7356120",
>>>>>>> documentation-devel
||||||| 804edffb
<<<<<<< HEAD
<<<<<<< HEAD
<<<<<<< HEAD
   "id": "1b1f2f38",
||||||| 6a30bf1
   "id": "281996ef",
=======
   "id": "468961dd",
>>>>>>> documentation-devel
||||||| d28b18c
   "id": "468961dd",
=======
   "id": "eacbf8c2",
>>>>>>> documentation-devel
||||||| 6893f63
<<<<<<< HEAD
   "id": "1b1f2f38",
||||||| 6a30bf1
   "id": "281996ef",
=======
   "id": "468961dd",
>>>>>>> documentation-devel
=======
   "id": "2cd43a28",
>>>>>>> c74c98c2450c2a1ba922ed9442f136238d6bc88b
=======
   "id": "ac4943ba",
>>>>>>> 035bb2637984ead2784fecff78c0c60cc4181202
||||||| 3effdfa5
   "id": "a7356120",
=======
   "id": "575c5f93",
>>>>>>> documentation-devel
||||||| 96c826da
<<<<<<< HEAD
<<<<<<< HEAD
<<<<<<< HEAD
<<<<<<< HEAD
<<<<<<< HEAD
   "id": "1b1f2f38",
||||||| 6a30bf1
   "id": "281996ef",
=======
   "id": "468961dd",
>>>>>>> documentation-devel
||||||| d28b18c
   "id": "468961dd",
=======
   "id": "eacbf8c2",
>>>>>>> documentation-devel
||||||| 6893f63
<<<<<<< HEAD
   "id": "1b1f2f38",
||||||| 6a30bf1
   "id": "281996ef",
=======
   "id": "468961dd",
>>>>>>> documentation-devel
=======
   "id": "2cd43a28",
>>>>>>> c74c98c2450c2a1ba922ed9442f136238d6bc88b
||||||| 6d93b645
   "id": "eacbf8c2",
=======
   "id": "a7356120",
>>>>>>> documentation-devel
||||||| 804edffb
<<<<<<< HEAD
<<<<<<< HEAD
<<<<<<< HEAD
   "id": "1b1f2f38",
||||||| 6a30bf1
   "id": "281996ef",
=======
   "id": "468961dd",
>>>>>>> documentation-devel
||||||| d28b18c
   "id": "468961dd",
=======
   "id": "eacbf8c2",
>>>>>>> documentation-devel
||||||| 6893f63
<<<<<<< HEAD
   "id": "1b1f2f38",
||||||| 6a30bf1
   "id": "281996ef",
=======
   "id": "468961dd",
>>>>>>> documentation-devel
=======
   "id": "2cd43a28",
>>>>>>> c74c98c2450c2a1ba922ed9442f136238d6bc88b
=======
   "id": "ac4943ba",
>>>>>>> 035bb2637984ead2784fecff78c0c60cc4181202
=======
   "id": "37690ebb",
>>>>>>> 619c01f26351d57ac14d974b7af136ac5756103f
   "metadata": {},
   "source": [
    "A portal triad is shown near the top right of this bounding box. The two large vessels on the left and bottom right are central veins. The portal triad consists of the hepatic artery, portal vein which brings blood from the intestine, and bile duct, so it's more oxygenated. The regions around the central vein is more deoxygenated. The different oxygen and nutrient contents mean that hepatocytes play different metabolic roles in the zones between the portal triad and the central vein. Here we plot some zonation marker genes from [@Halpern2017-lq]. "
   ]
  },
  {
   "cell_type": "code",
   "execution_count": null,
<<<<<<< HEAD
<<<<<<< HEAD
<<<<<<< HEAD
<<<<<<< HEAD
<<<<<<< HEAD
<<<<<<< HEAD
<<<<<<< HEAD
   "id": "8222e0d1",
||||||| 6a30bf1
   "id": "4c0c9e72",
=======
   "id": "0ffc830e",
>>>>>>> documentation-devel
||||||| d28b18c
   "id": "0ffc830e",
=======
   "id": "26c22c48",
>>>>>>> documentation-devel
||||||| 6893f63
<<<<<<< HEAD
   "id": "8222e0d1",
||||||| 6a30bf1
   "id": "4c0c9e72",
=======
   "id": "0ffc830e",
>>>>>>> documentation-devel
=======
   "id": "582b4581",
>>>>>>> c74c98c2450c2a1ba922ed9442f136238d6bc88b
||||||| 6d93b645
   "id": "26c22c48",
=======
   "id": "fe282534",
>>>>>>> documentation-devel
||||||| 804edffb
<<<<<<< HEAD
<<<<<<< HEAD
<<<<<<< HEAD
   "id": "8222e0d1",
||||||| 6a30bf1
   "id": "4c0c9e72",
=======
   "id": "0ffc830e",
>>>>>>> documentation-devel
||||||| d28b18c
   "id": "0ffc830e",
=======
   "id": "26c22c48",
>>>>>>> documentation-devel
||||||| 6893f63
<<<<<<< HEAD
   "id": "8222e0d1",
||||||| 6a30bf1
   "id": "4c0c9e72",
=======
   "id": "0ffc830e",
>>>>>>> documentation-devel
=======
   "id": "582b4581",
>>>>>>> c74c98c2450c2a1ba922ed9442f136238d6bc88b
=======
   "id": "00efcacf",
>>>>>>> 035bb2637984ead2784fecff78c0c60cc4181202
||||||| 3effdfa5
   "id": "fe282534",
=======
   "id": "ccf0ec28",
>>>>>>> documentation-devel
||||||| 96c826da
<<<<<<< HEAD
<<<<<<< HEAD
<<<<<<< HEAD
<<<<<<< HEAD
<<<<<<< HEAD
   "id": "8222e0d1",
||||||| 6a30bf1
   "id": "4c0c9e72",
=======
   "id": "0ffc830e",
>>>>>>> documentation-devel
||||||| d28b18c
   "id": "0ffc830e",
=======
   "id": "26c22c48",
>>>>>>> documentation-devel
||||||| 6893f63
<<<<<<< HEAD
   "id": "8222e0d1",
||||||| 6a30bf1
   "id": "4c0c9e72",
=======
   "id": "0ffc830e",
>>>>>>> documentation-devel
=======
   "id": "582b4581",
>>>>>>> c74c98c2450c2a1ba922ed9442f136238d6bc88b
||||||| 6d93b645
   "id": "26c22c48",
=======
   "id": "fe282534",
>>>>>>> documentation-devel
||||||| 804edffb
<<<<<<< HEAD
<<<<<<< HEAD
<<<<<<< HEAD
   "id": "8222e0d1",
||||||| 6a30bf1
   "id": "4c0c9e72",
=======
   "id": "0ffc830e",
>>>>>>> documentation-devel
||||||| d28b18c
   "id": "0ffc830e",
=======
   "id": "26c22c48",
>>>>>>> documentation-devel
||||||| 6893f63
<<<<<<< HEAD
   "id": "8222e0d1",
||||||| 6a30bf1
   "id": "4c0c9e72",
=======
   "id": "0ffc830e",
>>>>>>> documentation-devel
=======
   "id": "582b4581",
>>>>>>> c74c98c2450c2a1ba922ed9442f136238d6bc88b
=======
   "id": "00efcacf",
>>>>>>> 035bb2637984ead2784fecff78c0c60cc4181202
=======
   "id": "6f0fc403",
>>>>>>> 619c01f26351d57ac14d974b7af136ac5756103f
   "metadata": {},
   "outputs": [],
   "source": [
    "markers <- c(\"Axin2\", \"Cyp1a2\", \"Gstm3\", \"Psmd4\", # Pericentral\n",
    "             \"Cyp2e1\", \"Asl\", \"Alb\", \"Ass1\", # Monotonic but has intermediate\n",
    "             \"Hamp\", \"Igfbp2\", \"Cyp8b1\", \"Mup3\", # Non-monotonic\n",
    "             \"Arg1\", \"Pck1\", \"C2\", \"Sdhd\") # Periportal"
   ]
  },
  {
   "cell_type": "code",
   "execution_count": null,
<<<<<<< HEAD
<<<<<<< HEAD
<<<<<<< HEAD
<<<<<<< HEAD
<<<<<<< HEAD
<<<<<<< HEAD
<<<<<<< HEAD
   "id": "c0cfe61f",
||||||| 6a30bf1
   "id": "e5a60999",
=======
   "id": "294a4158",
>>>>>>> documentation-devel
||||||| d28b18c
   "id": "294a4158",
=======
   "id": "b7e34db4",
>>>>>>> documentation-devel
||||||| 6893f63
<<<<<<< HEAD
   "id": "c0cfe61f",
||||||| 6a30bf1
   "id": "e5a60999",
=======
   "id": "294a4158",
>>>>>>> documentation-devel
=======
   "id": "c7e3825d",
>>>>>>> c74c98c2450c2a1ba922ed9442f136238d6bc88b
||||||| 6d93b645
   "id": "b7e34db4",
=======
   "id": "ae18f55c",
>>>>>>> documentation-devel
||||||| 804edffb
<<<<<<< HEAD
<<<<<<< HEAD
<<<<<<< HEAD
   "id": "c0cfe61f",
||||||| 6a30bf1
   "id": "e5a60999",
=======
   "id": "294a4158",
>>>>>>> documentation-devel
||||||| d28b18c
   "id": "294a4158",
=======
   "id": "b7e34db4",
>>>>>>> documentation-devel
||||||| 6893f63
<<<<<<< HEAD
   "id": "c0cfe61f",
||||||| 6a30bf1
   "id": "e5a60999",
=======
   "id": "294a4158",
>>>>>>> documentation-devel
=======
   "id": "c7e3825d",
>>>>>>> c74c98c2450c2a1ba922ed9442f136238d6bc88b
=======
   "id": "19c0837b",
>>>>>>> 035bb2637984ead2784fecff78c0c60cc4181202
||||||| 3effdfa5
   "id": "ae18f55c",
=======
   "id": "a51a46bb",
>>>>>>> documentation-devel
||||||| 96c826da
<<<<<<< HEAD
<<<<<<< HEAD
<<<<<<< HEAD
<<<<<<< HEAD
<<<<<<< HEAD
   "id": "c0cfe61f",
||||||| 6a30bf1
   "id": "e5a60999",
=======
   "id": "294a4158",
>>>>>>> documentation-devel
||||||| d28b18c
   "id": "294a4158",
=======
   "id": "b7e34db4",
>>>>>>> documentation-devel
||||||| 6893f63
<<<<<<< HEAD
   "id": "c0cfe61f",
||||||| 6a30bf1
   "id": "e5a60999",
=======
   "id": "294a4158",
>>>>>>> documentation-devel
=======
   "id": "c7e3825d",
>>>>>>> c74c98c2450c2a1ba922ed9442f136238d6bc88b
||||||| 6d93b645
   "id": "b7e34db4",
=======
   "id": "ae18f55c",
>>>>>>> documentation-devel
||||||| 804edffb
<<<<<<< HEAD
<<<<<<< HEAD
<<<<<<< HEAD
   "id": "c0cfe61f",
||||||| 6a30bf1
   "id": "e5a60999",
=======
   "id": "294a4158",
>>>>>>> documentation-devel
||||||| d28b18c
   "id": "294a4158",
=======
   "id": "b7e34db4",
>>>>>>> documentation-devel
||||||| 6893f63
<<<<<<< HEAD
   "id": "c0cfe61f",
||||||| 6a30bf1
   "id": "e5a60999",
=======
   "id": "294a4158",
>>>>>>> documentation-devel
=======
   "id": "c7e3825d",
>>>>>>> c74c98c2450c2a1ba922ed9442f136238d6bc88b
=======
   "id": "19c0837b",
>>>>>>> 035bb2637984ead2784fecff78c0c60cc4181202
=======
   "id": "46cf16ea",
>>>>>>> 619c01f26351d57ac14d974b7af136ac5756103f
   "metadata": {},
   "outputs": [],
   "source": [
    "(inds <- which(markers %in% rownames(sfe)))"
   ]
  },
  {
   "cell_type": "markdown",
<<<<<<< HEAD
<<<<<<< HEAD
<<<<<<< HEAD
<<<<<<< HEAD
<<<<<<< HEAD
<<<<<<< HEAD
<<<<<<< HEAD
   "id": "43511dba",
||||||| 6a30bf1
   "id": "d449bf2f",
=======
   "id": "8740757a",
>>>>>>> documentation-devel
||||||| d28b18c
   "id": "8740757a",
=======
   "id": "8cf02fc8",
>>>>>>> documentation-devel
||||||| 6893f63
<<<<<<< HEAD
   "id": "43511dba",
||||||| 6a30bf1
   "id": "d449bf2f",
=======
   "id": "8740757a",
>>>>>>> documentation-devel
=======
   "id": "0f60fb99",
>>>>>>> c74c98c2450c2a1ba922ed9442f136238d6bc88b
||||||| 6d93b645
   "id": "8cf02fc8",
=======
   "id": "24fdb9ff",
>>>>>>> documentation-devel
||||||| 804edffb
<<<<<<< HEAD
<<<<<<< HEAD
<<<<<<< HEAD
   "id": "43511dba",
||||||| 6a30bf1
   "id": "d449bf2f",
=======
   "id": "8740757a",
>>>>>>> documentation-devel
||||||| d28b18c
   "id": "8740757a",
=======
   "id": "8cf02fc8",
>>>>>>> documentation-devel
||||||| 6893f63
<<<<<<< HEAD
   "id": "43511dba",
||||||| 6a30bf1
   "id": "d449bf2f",
=======
   "id": "8740757a",
>>>>>>> documentation-devel
=======
   "id": "0f60fb99",
>>>>>>> c74c98c2450c2a1ba922ed9442f136238d6bc88b
=======
   "id": "863cbea0",
>>>>>>> 035bb2637984ead2784fecff78c0c60cc4181202
||||||| 3effdfa5
   "id": "24fdb9ff",
=======
   "id": "1e4202d5",
>>>>>>> documentation-devel
||||||| 96c826da
<<<<<<< HEAD
<<<<<<< HEAD
<<<<<<< HEAD
<<<<<<< HEAD
<<<<<<< HEAD
   "id": "43511dba",
||||||| 6a30bf1
   "id": "d449bf2f",
=======
   "id": "8740757a",
>>>>>>> documentation-devel
||||||| d28b18c
   "id": "8740757a",
=======
   "id": "8cf02fc8",
>>>>>>> documentation-devel
||||||| 6893f63
<<<<<<< HEAD
   "id": "43511dba",
||||||| 6a30bf1
   "id": "d449bf2f",
=======
   "id": "8740757a",
>>>>>>> documentation-devel
=======
   "id": "0f60fb99",
>>>>>>> c74c98c2450c2a1ba922ed9442f136238d6bc88b
||||||| 6d93b645
   "id": "8cf02fc8",
=======
   "id": "24fdb9ff",
>>>>>>> documentation-devel
||||||| 804edffb
<<<<<<< HEAD
<<<<<<< HEAD
<<<<<<< HEAD
   "id": "43511dba",
||||||| 6a30bf1
   "id": "d449bf2f",
=======
   "id": "8740757a",
>>>>>>> documentation-devel
||||||| d28b18c
   "id": "8740757a",
=======
   "id": "8cf02fc8",
>>>>>>> documentation-devel
||||||| 6893f63
<<<<<<< HEAD
   "id": "43511dba",
||||||| 6a30bf1
   "id": "d449bf2f",
=======
   "id": "8740757a",
>>>>>>> documentation-devel
=======
   "id": "0f60fb99",
>>>>>>> c74c98c2450c2a1ba922ed9442f136238d6bc88b
=======
   "id": "863cbea0",
>>>>>>> 035bb2637984ead2784fecff78c0c60cc4181202
=======
   "id": "956b9cee",
>>>>>>> 619c01f26351d57ac14d974b7af136ac5756103f
   "metadata": {
    "lines_to_next_cell": 0
   },
   "source": [
    "Only 3 of these marker genes are present in this dataset. The first two are pericentral (near the central vein), and the last one is periportal (near the portal triad)."
   ]
  },
  {
   "cell_type": "code",
   "execution_count": null,
<<<<<<< HEAD
<<<<<<< HEAD
<<<<<<< HEAD
<<<<<<< HEAD
<<<<<<< HEAD
<<<<<<< HEAD
<<<<<<< HEAD
   "id": "0635d246",
||||||| 6a30bf1
   "id": "9990b072",
=======
   "id": "5ae80ef1",
>>>>>>> documentation-devel
||||||| d28b18c
   "id": "5ae80ef1",
=======
   "id": "b1de0770",
>>>>>>> documentation-devel
||||||| 6893f63
<<<<<<< HEAD
   "id": "0635d246",
||||||| 6a30bf1
   "id": "9990b072",
=======
   "id": "5ae80ef1",
>>>>>>> documentation-devel
=======
   "id": "f47c27d4",
>>>>>>> c74c98c2450c2a1ba922ed9442f136238d6bc88b
||||||| 6d93b645
   "id": "b1de0770",
=======
   "id": "f19bde0f",
>>>>>>> documentation-devel
||||||| 804edffb
<<<<<<< HEAD
<<<<<<< HEAD
<<<<<<< HEAD
   "id": "0635d246",
||||||| 6a30bf1
   "id": "9990b072",
=======
   "id": "5ae80ef1",
>>>>>>> documentation-devel
||||||| d28b18c
   "id": "5ae80ef1",
=======
   "id": "b1de0770",
>>>>>>> documentation-devel
||||||| 6893f63
<<<<<<< HEAD
   "id": "0635d246",
||||||| 6a30bf1
   "id": "9990b072",
=======
   "id": "5ae80ef1",
>>>>>>> documentation-devel
=======
   "id": "f47c27d4",
>>>>>>> c74c98c2450c2a1ba922ed9442f136238d6bc88b
=======
   "id": "120d506b",
>>>>>>> 035bb2637984ead2784fecff78c0c60cc4181202
||||||| 3effdfa5
   "id": "f19bde0f",
=======
   "id": "d97240e6",
>>>>>>> documentation-devel
||||||| 96c826da
<<<<<<< HEAD
<<<<<<< HEAD
<<<<<<< HEAD
<<<<<<< HEAD
<<<<<<< HEAD
   "id": "0635d246",
||||||| 6a30bf1
   "id": "9990b072",
=======
   "id": "5ae80ef1",
>>>>>>> documentation-devel
||||||| d28b18c
   "id": "5ae80ef1",
=======
   "id": "b1de0770",
>>>>>>> documentation-devel
||||||| 6893f63
<<<<<<< HEAD
   "id": "0635d246",
||||||| 6a30bf1
   "id": "9990b072",
=======
   "id": "5ae80ef1",
>>>>>>> documentation-devel
=======
   "id": "f47c27d4",
>>>>>>> c74c98c2450c2a1ba922ed9442f136238d6bc88b
||||||| 6d93b645
   "id": "b1de0770",
=======
   "id": "f19bde0f",
>>>>>>> documentation-devel
||||||| 804edffb
<<<<<<< HEAD
<<<<<<< HEAD
<<<<<<< HEAD
   "id": "0635d246",
||||||| 6a30bf1
   "id": "9990b072",
=======
   "id": "5ae80ef1",
>>>>>>> documentation-devel
||||||| d28b18c
   "id": "5ae80ef1",
=======
   "id": "b1de0770",
>>>>>>> documentation-devel
||||||| 6893f63
<<<<<<< HEAD
   "id": "0635d246",
||||||| 6a30bf1
   "id": "9990b072",
=======
   "id": "5ae80ef1",
>>>>>>> documentation-devel
=======
   "id": "f47c27d4",
>>>>>>> c74c98c2450c2a1ba922ed9442f136238d6bc88b
=======
   "id": "120d506b",
>>>>>>> 035bb2637984ead2784fecff78c0c60cc4181202
=======
   "id": "69097075",
>>>>>>> 619c01f26351d57ac14d974b7af136ac5756103f
   "metadata": {
    "fig.height": 3,
    "fig.width": 9
   },
   "outputs": [],
   "source": [
    "plotSpatialFeature(sfe, markers[inds], colGeometryName = \"cellSeg\",\n",
    "                   ncol = 3, bbox = bbox_use)"
   ]
  },
  {
   "cell_type": "markdown",
<<<<<<< HEAD
<<<<<<< HEAD
<<<<<<< HEAD
<<<<<<< HEAD
<<<<<<< HEAD
<<<<<<< HEAD
<<<<<<< HEAD
   "id": "4e29ee65",
||||||| 6a30bf1
   "id": "6dd30095",
=======
   "id": "b804f669",
>>>>>>> documentation-devel
||||||| d28b18c
   "id": "b804f669",
=======
   "id": "02fe08e0",
>>>>>>> documentation-devel
||||||| 6893f63
<<<<<<< HEAD
   "id": "4e29ee65",
||||||| 6a30bf1
   "id": "6dd30095",
=======
   "id": "b804f669",
>>>>>>> documentation-devel
=======
   "id": "8ed1262c",
>>>>>>> c74c98c2450c2a1ba922ed9442f136238d6bc88b
||||||| 6d93b645
   "id": "02fe08e0",
=======
   "id": "80b89b6d",
>>>>>>> documentation-devel
||||||| 804edffb
<<<<<<< HEAD
<<<<<<< HEAD
<<<<<<< HEAD
   "id": "4e29ee65",
||||||| 6a30bf1
   "id": "6dd30095",
=======
   "id": "b804f669",
>>>>>>> documentation-devel
||||||| d28b18c
   "id": "b804f669",
=======
   "id": "02fe08e0",
>>>>>>> documentation-devel
||||||| 6893f63
<<<<<<< HEAD
   "id": "4e29ee65",
||||||| 6a30bf1
   "id": "6dd30095",
=======
   "id": "b804f669",
>>>>>>> documentation-devel
=======
   "id": "8ed1262c",
>>>>>>> c74c98c2450c2a1ba922ed9442f136238d6bc88b
=======
   "id": "ec84bdee",
>>>>>>> 035bb2637984ead2784fecff78c0c60cc4181202
||||||| 3effdfa5
   "id": "80b89b6d",
=======
   "id": "17bd3202",
>>>>>>> documentation-devel
||||||| 96c826da
<<<<<<< HEAD
<<<<<<< HEAD
<<<<<<< HEAD
<<<<<<< HEAD
<<<<<<< HEAD
   "id": "4e29ee65",
||||||| 6a30bf1
   "id": "6dd30095",
=======
   "id": "b804f669",
>>>>>>> documentation-devel
||||||| d28b18c
   "id": "b804f669",
=======
   "id": "02fe08e0",
>>>>>>> documentation-devel
||||||| 6893f63
<<<<<<< HEAD
   "id": "4e29ee65",
||||||| 6a30bf1
   "id": "6dd30095",
=======
   "id": "b804f669",
>>>>>>> documentation-devel
=======
   "id": "8ed1262c",
>>>>>>> c74c98c2450c2a1ba922ed9442f136238d6bc88b
||||||| 6d93b645
   "id": "02fe08e0",
=======
   "id": "80b89b6d",
>>>>>>> documentation-devel
||||||| 804edffb
<<<<<<< HEAD
<<<<<<< HEAD
<<<<<<< HEAD
   "id": "4e29ee65",
||||||| 6a30bf1
   "id": "6dd30095",
=======
   "id": "b804f669",
>>>>>>> documentation-devel
||||||| d28b18c
   "id": "b804f669",
=======
   "id": "02fe08e0",
>>>>>>> documentation-devel
||||||| 6893f63
<<<<<<< HEAD
   "id": "4e29ee65",
||||||| 6a30bf1
   "id": "6dd30095",
=======
   "id": "b804f669",
>>>>>>> documentation-devel
=======
   "id": "8ed1262c",
>>>>>>> c74c98c2450c2a1ba922ed9442f136238d6bc88b
=======
   "id": "ec84bdee",
>>>>>>> 035bb2637984ead2784fecff78c0c60cc4181202
=======
   "id": "f54317c8",
>>>>>>> 619c01f26351d57ac14d974b7af136ac5756103f
   "metadata": {},
   "source": [
    "Besides hepatocytes, the liver also has many endothelial cells and Kupffer cells (macrophages). Marker genes of these cells from [@Bonnardel2019-le] are plotted to visualize these cell types in space:"
   ]
  },
  {
   "cell_type": "code",
   "execution_count": null,
<<<<<<< HEAD
<<<<<<< HEAD
<<<<<<< HEAD
<<<<<<< HEAD
<<<<<<< HEAD
<<<<<<< HEAD
<<<<<<< HEAD
   "id": "174ad692",
||||||| 6a30bf1
   "id": "0bd03904",
=======
   "id": "c4c9509f",
>>>>>>> documentation-devel
||||||| d28b18c
   "id": "c4c9509f",
=======
   "id": "be145c15",
>>>>>>> documentation-devel
||||||| 6893f63
<<<<<<< HEAD
   "id": "174ad692",
||||||| 6a30bf1
   "id": "0bd03904",
=======
   "id": "c4c9509f",
>>>>>>> documentation-devel
=======
   "id": "953c6bde",
>>>>>>> c74c98c2450c2a1ba922ed9442f136238d6bc88b
||||||| 6d93b645
   "id": "be145c15",
=======
   "id": "ed27971c",
>>>>>>> documentation-devel
||||||| 804edffb
<<<<<<< HEAD
<<<<<<< HEAD
<<<<<<< HEAD
   "id": "174ad692",
||||||| 6a30bf1
   "id": "0bd03904",
=======
   "id": "c4c9509f",
>>>>>>> documentation-devel
||||||| d28b18c
   "id": "c4c9509f",
=======
   "id": "be145c15",
>>>>>>> documentation-devel
||||||| 6893f63
<<<<<<< HEAD
   "id": "174ad692",
||||||| 6a30bf1
   "id": "0bd03904",
=======
   "id": "c4c9509f",
>>>>>>> documentation-devel
=======
   "id": "953c6bde",
>>>>>>> c74c98c2450c2a1ba922ed9442f136238d6bc88b
=======
   "id": "7f3e6e05",
>>>>>>> 035bb2637984ead2784fecff78c0c60cc4181202
||||||| 3effdfa5
   "id": "ed27971c",
=======
   "id": "6163a746",
>>>>>>> documentation-devel
||||||| 96c826da
<<<<<<< HEAD
<<<<<<< HEAD
<<<<<<< HEAD
<<<<<<< HEAD
<<<<<<< HEAD
   "id": "174ad692",
||||||| 6a30bf1
   "id": "0bd03904",
=======
   "id": "c4c9509f",
>>>>>>> documentation-devel
||||||| d28b18c
   "id": "c4c9509f",
=======
   "id": "be145c15",
>>>>>>> documentation-devel
||||||| 6893f63
<<<<<<< HEAD
   "id": "174ad692",
||||||| 6a30bf1
   "id": "0bd03904",
=======
   "id": "c4c9509f",
>>>>>>> documentation-devel
=======
   "id": "953c6bde",
>>>>>>> c74c98c2450c2a1ba922ed9442f136238d6bc88b
||||||| 6d93b645
   "id": "be145c15",
=======
   "id": "ed27971c",
>>>>>>> documentation-devel
||||||| 804edffb
<<<<<<< HEAD
<<<<<<< HEAD
<<<<<<< HEAD
   "id": "174ad692",
||||||| 6a30bf1
   "id": "0bd03904",
=======
   "id": "c4c9509f",
>>>>>>> documentation-devel
||||||| d28b18c
   "id": "c4c9509f",
=======
   "id": "be145c15",
>>>>>>> documentation-devel
||||||| 6893f63
<<<<<<< HEAD
   "id": "174ad692",
||||||| 6a30bf1
   "id": "0bd03904",
=======
   "id": "c4c9509f",
>>>>>>> documentation-devel
=======
   "id": "953c6bde",
>>>>>>> c74c98c2450c2a1ba922ed9442f136238d6bc88b
=======
   "id": "7f3e6e05",
>>>>>>> 035bb2637984ead2784fecff78c0c60cc4181202
=======
   "id": "8d14d581",
>>>>>>> 619c01f26351d57ac14d974b7af136ac5756103f
   "metadata": {},
   "outputs": [],
   "source": [
    "# Kuppfer cells\n",
    "kc_genes <- c(\"Timd4\", \"Vsig4\", \"Clec4f\", \"Clec1b\", \"Il18bp\", \"C6\", \"Irf7\",\n",
    "              \"Slc40a1\", \"Cdh5\", \"Nr1h3\", \"Dmpk\", \"Paqr9\", \"Pcolce2\", \"Kcna2\",\n",
    "              \"Gbp8\", \"Iigp1\", \"Helz2\", \"Cd207\", \"Icos\", \"Adcy4\", \"Slc1a2\",\n",
    "              \"Rsad2\", \"Slc16a9\", \"Cd209f\", \"Oasl1\", \"Fam167a\")\n",
    "which(kc_genes %in% rownames(sfe))"
   ]
  },
  {
   "cell_type": "markdown",
<<<<<<< HEAD
<<<<<<< HEAD
<<<<<<< HEAD
<<<<<<< HEAD
<<<<<<< HEAD
<<<<<<< HEAD
<<<<<<< HEAD
   "id": "a596f23a",
||||||| 6a30bf1
   "id": "9800be18",
=======
   "id": "c8059790",
>>>>>>> documentation-devel
||||||| d28b18c
   "id": "c8059790",
=======
   "id": "65c2f0c9",
>>>>>>> documentation-devel
||||||| 6893f63
<<<<<<< HEAD
   "id": "a596f23a",
||||||| 6a30bf1
   "id": "9800be18",
=======
   "id": "c8059790",
>>>>>>> documentation-devel
=======
   "id": "c669099a",
>>>>>>> c74c98c2450c2a1ba922ed9442f136238d6bc88b
||||||| 6d93b645
   "id": "65c2f0c9",
=======
   "id": "747e2c95",
>>>>>>> documentation-devel
||||||| 804edffb
<<<<<<< HEAD
<<<<<<< HEAD
<<<<<<< HEAD
   "id": "a596f23a",
||||||| 6a30bf1
   "id": "9800be18",
=======
   "id": "c8059790",
>>>>>>> documentation-devel
||||||| d28b18c
   "id": "c8059790",
=======
   "id": "65c2f0c9",
>>>>>>> documentation-devel
||||||| 6893f63
<<<<<<< HEAD
   "id": "a596f23a",
||||||| 6a30bf1
   "id": "9800be18",
=======
   "id": "c8059790",
>>>>>>> documentation-devel
=======
   "id": "c669099a",
>>>>>>> c74c98c2450c2a1ba922ed9442f136238d6bc88b
=======
   "id": "41da601d",
>>>>>>> 035bb2637984ead2784fecff78c0c60cc4181202
||||||| 3effdfa5
   "id": "747e2c95",
=======
   "id": "c03d6e62",
>>>>>>> documentation-devel
||||||| 96c826da
<<<<<<< HEAD
<<<<<<< HEAD
<<<<<<< HEAD
<<<<<<< HEAD
<<<<<<< HEAD
   "id": "a596f23a",
||||||| 6a30bf1
   "id": "9800be18",
=======
   "id": "c8059790",
>>>>>>> documentation-devel
||||||| d28b18c
   "id": "c8059790",
=======
   "id": "65c2f0c9",
>>>>>>> documentation-devel
||||||| 6893f63
<<<<<<< HEAD
   "id": "a596f23a",
||||||| 6a30bf1
   "id": "9800be18",
=======
   "id": "c8059790",
>>>>>>> documentation-devel
=======
   "id": "c669099a",
>>>>>>> c74c98c2450c2a1ba922ed9442f136238d6bc88b
||||||| 6d93b645
   "id": "65c2f0c9",
=======
   "id": "747e2c95",
>>>>>>> documentation-devel
||||||| 804edffb
<<<<<<< HEAD
<<<<<<< HEAD
<<<<<<< HEAD
   "id": "a596f23a",
||||||| 6a30bf1
   "id": "9800be18",
=======
   "id": "c8059790",
>>>>>>> documentation-devel
||||||| d28b18c
   "id": "c8059790",
=======
   "id": "65c2f0c9",
>>>>>>> documentation-devel
||||||| 6893f63
<<<<<<< HEAD
   "id": "a596f23a",
||||||| 6a30bf1
   "id": "9800be18",
=======
   "id": "c8059790",
>>>>>>> documentation-devel
=======
   "id": "c669099a",
>>>>>>> c74c98c2450c2a1ba922ed9442f136238d6bc88b
=======
   "id": "41da601d",
>>>>>>> 035bb2637984ead2784fecff78c0c60cc4181202
=======
   "id": "fcd267a8",
>>>>>>> 619c01f26351d57ac14d974b7af136ac5756103f
   "metadata": {
    "lines_to_next_cell": 0
   },
   "source": [
    "Only one of the Kupffer cell markers is available in this dataset."
   ]
  },
  {
   "cell_type": "code",
   "execution_count": null,
<<<<<<< HEAD
<<<<<<< HEAD
<<<<<<< HEAD
<<<<<<< HEAD
<<<<<<< HEAD
<<<<<<< HEAD
<<<<<<< HEAD
   "id": "21bd961e",
||||||| 6a30bf1
   "id": "2b3c5e49",
=======
   "id": "cbcf6ae4",
>>>>>>> documentation-devel
||||||| d28b18c
   "id": "cbcf6ae4",
=======
   "id": "0d618ee0",
>>>>>>> documentation-devel
||||||| 6893f63
<<<<<<< HEAD
   "id": "21bd961e",
||||||| 6a30bf1
   "id": "2b3c5e49",
=======
   "id": "cbcf6ae4",
>>>>>>> documentation-devel
=======
   "id": "8d2e436b",
>>>>>>> c74c98c2450c2a1ba922ed9442f136238d6bc88b
||||||| 6d93b645
   "id": "0d618ee0",
=======
   "id": "4739688f",
>>>>>>> documentation-devel
||||||| 804edffb
<<<<<<< HEAD
<<<<<<< HEAD
<<<<<<< HEAD
   "id": "21bd961e",
||||||| 6a30bf1
   "id": "2b3c5e49",
=======
   "id": "cbcf6ae4",
>>>>>>> documentation-devel
||||||| d28b18c
   "id": "cbcf6ae4",
=======
   "id": "0d618ee0",
>>>>>>> documentation-devel
||||||| 6893f63
<<<<<<< HEAD
   "id": "21bd961e",
||||||| 6a30bf1
   "id": "2b3c5e49",
=======
   "id": "cbcf6ae4",
>>>>>>> documentation-devel
=======
   "id": "8d2e436b",
>>>>>>> c74c98c2450c2a1ba922ed9442f136238d6bc88b
=======
   "id": "09c000f0",
>>>>>>> 035bb2637984ead2784fecff78c0c60cc4181202
||||||| 3effdfa5
   "id": "4739688f",
=======
   "id": "1df99303",
>>>>>>> documentation-devel
||||||| 96c826da
<<<<<<< HEAD
<<<<<<< HEAD
<<<<<<< HEAD
<<<<<<< HEAD
<<<<<<< HEAD
   "id": "21bd961e",
||||||| 6a30bf1
   "id": "2b3c5e49",
=======
   "id": "cbcf6ae4",
>>>>>>> documentation-devel
||||||| d28b18c
   "id": "cbcf6ae4",
=======
   "id": "0d618ee0",
>>>>>>> documentation-devel
||||||| 6893f63
<<<<<<< HEAD
   "id": "21bd961e",
||||||| 6a30bf1
   "id": "2b3c5e49",
=======
   "id": "cbcf6ae4",
>>>>>>> documentation-devel
=======
   "id": "8d2e436b",
>>>>>>> c74c98c2450c2a1ba922ed9442f136238d6bc88b
||||||| 6d93b645
   "id": "0d618ee0",
=======
   "id": "4739688f",
>>>>>>> documentation-devel
||||||| 804edffb
<<<<<<< HEAD
<<<<<<< HEAD
<<<<<<< HEAD
   "id": "21bd961e",
||||||| 6a30bf1
   "id": "2b3c5e49",
=======
   "id": "cbcf6ae4",
>>>>>>> documentation-devel
||||||| d28b18c
   "id": "cbcf6ae4",
=======
   "id": "0d618ee0",
>>>>>>> documentation-devel
||||||| 6893f63
<<<<<<< HEAD
   "id": "21bd961e",
||||||| 6a30bf1
   "id": "2b3c5e49",
=======
   "id": "cbcf6ae4",
>>>>>>> documentation-devel
=======
   "id": "8d2e436b",
>>>>>>> c74c98c2450c2a1ba922ed9442f136238d6bc88b
=======
   "id": "09c000f0",
>>>>>>> 035bb2637984ead2784fecff78c0c60cc4181202
=======
   "id": "db86c630",
>>>>>>> 619c01f26351d57ac14d974b7af136ac5756103f
   "metadata": {},
   "outputs": [],
   "source": [
    "plotSpatialFeature(sfe, kc_genes[9], colGeometryName = \"cellSeg\",\n",
    "                   bbox = bbox_use)"
   ]
  },
  {
   "cell_type": "markdown",
<<<<<<< HEAD
<<<<<<< HEAD
<<<<<<< HEAD
<<<<<<< HEAD
<<<<<<< HEAD
<<<<<<< HEAD
<<<<<<< HEAD
   "id": "3f6c4c01",
||||||| 6a30bf1
   "id": "03219663",
=======
   "id": "b4cc0ad5",
>>>>>>> documentation-devel
||||||| d28b18c
   "id": "b4cc0ad5",
=======
   "id": "b4ec7bbb",
>>>>>>> documentation-devel
||||||| 6893f63
<<<<<<< HEAD
   "id": "3f6c4c01",
||||||| 6a30bf1
   "id": "03219663",
=======
   "id": "b4cc0ad5",
>>>>>>> documentation-devel
=======
   "id": "30913880",
>>>>>>> c74c98c2450c2a1ba922ed9442f136238d6bc88b
||||||| 6d93b645
   "id": "b4ec7bbb",
=======
   "id": "882830c4",
>>>>>>> documentation-devel
||||||| 804edffb
<<<<<<< HEAD
<<<<<<< HEAD
<<<<<<< HEAD
   "id": "3f6c4c01",
||||||| 6a30bf1
   "id": "03219663",
=======
   "id": "b4cc0ad5",
>>>>>>> documentation-devel
||||||| d28b18c
   "id": "b4cc0ad5",
=======
   "id": "b4ec7bbb",
>>>>>>> documentation-devel
||||||| 6893f63
<<<<<<< HEAD
   "id": "3f6c4c01",
||||||| 6a30bf1
   "id": "03219663",
=======
   "id": "b4cc0ad5",
>>>>>>> documentation-devel
=======
   "id": "30913880",
>>>>>>> c74c98c2450c2a1ba922ed9442f136238d6bc88b
=======
   "id": "59ec16a2",
>>>>>>> 035bb2637984ead2784fecff78c0c60cc4181202
||||||| 3effdfa5
   "id": "882830c4",
=======
   "id": "fc5a13f9",
>>>>>>> documentation-devel
||||||| 96c826da
<<<<<<< HEAD
<<<<<<< HEAD
<<<<<<< HEAD
<<<<<<< HEAD
<<<<<<< HEAD
   "id": "3f6c4c01",
||||||| 6a30bf1
   "id": "03219663",
=======
   "id": "b4cc0ad5",
>>>>>>> documentation-devel
||||||| d28b18c
   "id": "b4cc0ad5",
=======
   "id": "b4ec7bbb",
>>>>>>> documentation-devel
||||||| 6893f63
<<<<<<< HEAD
   "id": "3f6c4c01",
||||||| 6a30bf1
   "id": "03219663",
=======
   "id": "b4cc0ad5",
>>>>>>> documentation-devel
=======
   "id": "30913880",
>>>>>>> c74c98c2450c2a1ba922ed9442f136238d6bc88b
||||||| 6d93b645
   "id": "b4ec7bbb",
=======
   "id": "882830c4",
>>>>>>> documentation-devel
||||||| 804edffb
<<<<<<< HEAD
<<<<<<< HEAD
<<<<<<< HEAD
   "id": "3f6c4c01",
||||||| 6a30bf1
   "id": "03219663",
=======
   "id": "b4cc0ad5",
>>>>>>> documentation-devel
||||||| d28b18c
   "id": "b4cc0ad5",
=======
   "id": "b4ec7bbb",
>>>>>>> documentation-devel
||||||| 6893f63
<<<<<<< HEAD
   "id": "3f6c4c01",
||||||| 6a30bf1
   "id": "03219663",
=======
   "id": "b4cc0ad5",
>>>>>>> documentation-devel
=======
   "id": "30913880",
>>>>>>> c74c98c2450c2a1ba922ed9442f136238d6bc88b
=======
   "id": "59ec16a2",
>>>>>>> 035bb2637984ead2784fecff78c0c60cc4181202
=======
   "id": "f0a3dc1e",
>>>>>>> 619c01f26351d57ac14d974b7af136ac5756103f
   "metadata": {},
   "source": [
    "Expression of this gene does not seem very spatially coherent."
   ]
  },
  {
   "cell_type": "code",
   "execution_count": null,
<<<<<<< HEAD
<<<<<<< HEAD
<<<<<<< HEAD
<<<<<<< HEAD
<<<<<<< HEAD
<<<<<<< HEAD
<<<<<<< HEAD
   "id": "6a562a1e",
||||||| 6a30bf1
   "id": "e5a25911",
=======
   "id": "e270bff6",
>>>>>>> documentation-devel
||||||| d28b18c
   "id": "e270bff6",
=======
   "id": "9ff893bd",
>>>>>>> documentation-devel
||||||| 6893f63
<<<<<<< HEAD
   "id": "6a562a1e",
||||||| 6a30bf1
   "id": "e5a25911",
=======
   "id": "e270bff6",
>>>>>>> documentation-devel
=======
   "id": "54e90c8e",
>>>>>>> c74c98c2450c2a1ba922ed9442f136238d6bc88b
||||||| 6d93b645
   "id": "9ff893bd",
=======
   "id": "606231d6",
>>>>>>> documentation-devel
||||||| 804edffb
<<<<<<< HEAD
<<<<<<< HEAD
<<<<<<< HEAD
   "id": "6a562a1e",
||||||| 6a30bf1
   "id": "e5a25911",
=======
   "id": "e270bff6",
>>>>>>> documentation-devel
||||||| d28b18c
   "id": "e270bff6",
=======
   "id": "9ff893bd",
>>>>>>> documentation-devel
||||||| 6893f63
<<<<<<< HEAD
   "id": "6a562a1e",
||||||| 6a30bf1
   "id": "e5a25911",
=======
   "id": "e270bff6",
>>>>>>> documentation-devel
=======
   "id": "54e90c8e",
>>>>>>> c74c98c2450c2a1ba922ed9442f136238d6bc88b
=======
   "id": "4b72d96e",
>>>>>>> 035bb2637984ead2784fecff78c0c60cc4181202
||||||| 3effdfa5
   "id": "606231d6",
=======
   "id": "cdc2a250",
>>>>>>> documentation-devel
||||||| 96c826da
<<<<<<< HEAD
<<<<<<< HEAD
<<<<<<< HEAD
<<<<<<< HEAD
<<<<<<< HEAD
   "id": "6a562a1e",
||||||| 6a30bf1
   "id": "e5a25911",
=======
   "id": "e270bff6",
>>>>>>> documentation-devel
||||||| d28b18c
   "id": "e270bff6",
=======
   "id": "9ff893bd",
>>>>>>> documentation-devel
||||||| 6893f63
<<<<<<< HEAD
   "id": "6a562a1e",
||||||| 6a30bf1
   "id": "e5a25911",
=======
   "id": "e270bff6",
>>>>>>> documentation-devel
=======
   "id": "54e90c8e",
>>>>>>> c74c98c2450c2a1ba922ed9442f136238d6bc88b
||||||| 6d93b645
   "id": "9ff893bd",
=======
   "id": "606231d6",
>>>>>>> documentation-devel
||||||| 804edffb
<<<<<<< HEAD
<<<<<<< HEAD
<<<<<<< HEAD
   "id": "6a562a1e",
||||||| 6a30bf1
   "id": "e5a25911",
=======
   "id": "e270bff6",
>>>>>>> documentation-devel
||||||| d28b18c
   "id": "e270bff6",
=======
   "id": "9ff893bd",
>>>>>>> documentation-devel
||||||| 6893f63
<<<<<<< HEAD
   "id": "6a562a1e",
||||||| 6a30bf1
   "id": "e5a25911",
=======
   "id": "e270bff6",
>>>>>>> documentation-devel
=======
   "id": "54e90c8e",
>>>>>>> c74c98c2450c2a1ba922ed9442f136238d6bc88b
=======
   "id": "4b72d96e",
>>>>>>> 035bb2637984ead2784fecff78c0c60cc4181202
=======
   "id": "a10c1c9f",
>>>>>>> 619c01f26351d57ac14d974b7af136ac5756103f
   "metadata": {},
   "outputs": [],
   "source": [
    "# Endothelial cells\n",
    "lec_genes <- c(\"Rspo3\", \"Wnt2\", \"Wnt9b\", \"Pcdhgc5\", \"Ecm1\", \"Ltbp4\", \"Efnb2\")\n",
    "(inds_lec <- which(lec_genes %in% rownames(sfe)))"
   ]
  },
  {
   "cell_type": "markdown",
<<<<<<< HEAD
<<<<<<< HEAD
<<<<<<< HEAD
<<<<<<< HEAD
<<<<<<< HEAD
<<<<<<< HEAD
<<<<<<< HEAD
   "id": "3631589a",
||||||| 6a30bf1
   "id": "683af664",
=======
   "id": "959421e4",
>>>>>>> documentation-devel
||||||| d28b18c
   "id": "959421e4",
=======
   "id": "e89c37bf",
>>>>>>> documentation-devel
||||||| 6893f63
<<<<<<< HEAD
   "id": "3631589a",
||||||| 6a30bf1
   "id": "683af664",
=======
   "id": "959421e4",
>>>>>>> documentation-devel
=======
   "id": "76f3b413",
>>>>>>> c74c98c2450c2a1ba922ed9442f136238d6bc88b
||||||| 6d93b645
   "id": "e89c37bf",
=======
   "id": "04895d06",
>>>>>>> documentation-devel
||||||| 804edffb
<<<<<<< HEAD
<<<<<<< HEAD
<<<<<<< HEAD
   "id": "3631589a",
||||||| 6a30bf1
   "id": "683af664",
=======
   "id": "959421e4",
>>>>>>> documentation-devel
||||||| d28b18c
   "id": "959421e4",
=======
   "id": "e89c37bf",
>>>>>>> documentation-devel
||||||| 6893f63
<<<<<<< HEAD
   "id": "3631589a",
||||||| 6a30bf1
   "id": "683af664",
=======
   "id": "959421e4",
>>>>>>> documentation-devel
=======
   "id": "76f3b413",
>>>>>>> c74c98c2450c2a1ba922ed9442f136238d6bc88b
=======
   "id": "e175bfcd",
>>>>>>> 035bb2637984ead2784fecff78c0c60cc4181202
||||||| 3effdfa5
   "id": "04895d06",
=======
   "id": "29339728",
>>>>>>> documentation-devel
||||||| 96c826da
<<<<<<< HEAD
<<<<<<< HEAD
<<<<<<< HEAD
<<<<<<< HEAD
<<<<<<< HEAD
   "id": "3631589a",
||||||| 6a30bf1
   "id": "683af664",
=======
   "id": "959421e4",
>>>>>>> documentation-devel
||||||| d28b18c
   "id": "959421e4",
=======
   "id": "e89c37bf",
>>>>>>> documentation-devel
||||||| 6893f63
<<<<<<< HEAD
   "id": "3631589a",
||||||| 6a30bf1
   "id": "683af664",
=======
   "id": "959421e4",
>>>>>>> documentation-devel
=======
   "id": "76f3b413",
>>>>>>> c74c98c2450c2a1ba922ed9442f136238d6bc88b
||||||| 6d93b645
   "id": "e89c37bf",
=======
   "id": "04895d06",
>>>>>>> documentation-devel
||||||| 804edffb
<<<<<<< HEAD
<<<<<<< HEAD
<<<<<<< HEAD
   "id": "3631589a",
||||||| 6a30bf1
   "id": "683af664",
=======
   "id": "959421e4",
>>>>>>> documentation-devel
||||||| d28b18c
   "id": "959421e4",
=======
   "id": "e89c37bf",
>>>>>>> documentation-devel
||||||| 6893f63
<<<<<<< HEAD
   "id": "3631589a",
||||||| 6a30bf1
   "id": "683af664",
=======
   "id": "959421e4",
>>>>>>> documentation-devel
=======
   "id": "76f3b413",
>>>>>>> c74c98c2450c2a1ba922ed9442f136238d6bc88b
=======
   "id": "e175bfcd",
>>>>>>> 035bb2637984ead2784fecff78c0c60cc4181202
=======
   "id": "aecbd1f2",
>>>>>>> 619c01f26351d57ac14d974b7af136ac5756103f
   "metadata": {
    "lines_to_next_cell": 0
   },
   "source": [
    "Only 3 of these endothelial cell marker genes are available in this dataset."
   ]
  },
  {
   "cell_type": "code",
   "execution_count": null,
<<<<<<< HEAD
<<<<<<< HEAD
<<<<<<< HEAD
<<<<<<< HEAD
<<<<<<< HEAD
<<<<<<< HEAD
<<<<<<< HEAD
   "id": "704c6c49",
||||||| 6a30bf1
   "id": "4c5c66ff",
=======
   "id": "d5700631",
>>>>>>> documentation-devel
||||||| d28b18c
   "id": "d5700631",
=======
   "id": "9f3b2233",
>>>>>>> documentation-devel
||||||| 6893f63
<<<<<<< HEAD
   "id": "704c6c49",
||||||| 6a30bf1
   "id": "4c5c66ff",
=======
   "id": "d5700631",
>>>>>>> documentation-devel
=======
   "id": "5af3a67b",
>>>>>>> c74c98c2450c2a1ba922ed9442f136238d6bc88b
||||||| 6d93b645
   "id": "9f3b2233",
=======
   "id": "7034959e",
>>>>>>> documentation-devel
||||||| 804edffb
<<<<<<< HEAD
<<<<<<< HEAD
<<<<<<< HEAD
   "id": "704c6c49",
||||||| 6a30bf1
   "id": "4c5c66ff",
=======
   "id": "d5700631",
>>>>>>> documentation-devel
||||||| d28b18c
   "id": "d5700631",
=======
   "id": "9f3b2233",
>>>>>>> documentation-devel
||||||| 6893f63
<<<<<<< HEAD
   "id": "704c6c49",
||||||| 6a30bf1
   "id": "4c5c66ff",
=======
   "id": "d5700631",
>>>>>>> documentation-devel
=======
   "id": "5af3a67b",
>>>>>>> c74c98c2450c2a1ba922ed9442f136238d6bc88b
=======
   "id": "0bbba7e2",
>>>>>>> 035bb2637984ead2784fecff78c0c60cc4181202
||||||| 3effdfa5
   "id": "7034959e",
=======
   "id": "a70bc8a5",
>>>>>>> documentation-devel
||||||| 96c826da
<<<<<<< HEAD
<<<<<<< HEAD
<<<<<<< HEAD
<<<<<<< HEAD
<<<<<<< HEAD
   "id": "704c6c49",
||||||| 6a30bf1
   "id": "4c5c66ff",
=======
   "id": "d5700631",
>>>>>>> documentation-devel
||||||| d28b18c
   "id": "d5700631",
=======
   "id": "9f3b2233",
>>>>>>> documentation-devel
||||||| 6893f63
<<<<<<< HEAD
   "id": "704c6c49",
||||||| 6a30bf1
   "id": "4c5c66ff",
=======
   "id": "d5700631",
>>>>>>> documentation-devel
=======
   "id": "5af3a67b",
>>>>>>> c74c98c2450c2a1ba922ed9442f136238d6bc88b
||||||| 6d93b645
   "id": "9f3b2233",
=======
   "id": "7034959e",
>>>>>>> documentation-devel
||||||| 804edffb
<<<<<<< HEAD
<<<<<<< HEAD
<<<<<<< HEAD
   "id": "704c6c49",
||||||| 6a30bf1
   "id": "4c5c66ff",
=======
   "id": "d5700631",
>>>>>>> documentation-devel
||||||| d28b18c
   "id": "d5700631",
=======
   "id": "9f3b2233",
>>>>>>> documentation-devel
||||||| 6893f63
<<<<<<< HEAD
   "id": "704c6c49",
||||||| 6a30bf1
   "id": "4c5c66ff",
=======
   "id": "d5700631",
>>>>>>> documentation-devel
=======
   "id": "5af3a67b",
>>>>>>> c74c98c2450c2a1ba922ed9442f136238d6bc88b
=======
   "id": "0bbba7e2",
>>>>>>> 035bb2637984ead2784fecff78c0c60cc4181202
=======
   "id": "05d0aa85",
>>>>>>> 619c01f26351d57ac14d974b7af136ac5756103f
   "metadata": {
    "fig.height": 3,
    "fig.width": 9
   },
   "outputs": [],
   "source": [
    "plotSpatialFeature(sfe, lec_genes[inds_lec], colGeometryName = \"cellSeg\",\n",
    "                   bbox = bbox_use, ncol = 3)"
   ]
  },
  {
   "cell_type": "markdown",
<<<<<<< HEAD
<<<<<<< HEAD
<<<<<<< HEAD
<<<<<<< HEAD
<<<<<<< HEAD
<<<<<<< HEAD
<<<<<<< HEAD
   "id": "5458d81a",
||||||| 6a30bf1
   "id": "1ba474f7",
=======
   "id": "d10e2db7",
>>>>>>> documentation-devel
||||||| d28b18c
   "id": "d10e2db7",
=======
   "id": "784f81da",
>>>>>>> documentation-devel
||||||| 6893f63
<<<<<<< HEAD
   "id": "5458d81a",
||||||| 6a30bf1
   "id": "1ba474f7",
=======
   "id": "d10e2db7",
>>>>>>> documentation-devel
=======
   "id": "8740c8c7",
>>>>>>> c74c98c2450c2a1ba922ed9442f136238d6bc88b
||||||| 6d93b645
   "id": "784f81da",
=======
   "id": "c15ea57e",
>>>>>>> documentation-devel
||||||| 804edffb
<<<<<<< HEAD
<<<<<<< HEAD
<<<<<<< HEAD
   "id": "5458d81a",
||||||| 6a30bf1
   "id": "1ba474f7",
=======
   "id": "d10e2db7",
>>>>>>> documentation-devel
||||||| d28b18c
   "id": "d10e2db7",
=======
   "id": "784f81da",
>>>>>>> documentation-devel
||||||| 6893f63
<<<<<<< HEAD
   "id": "5458d81a",
||||||| 6a30bf1
   "id": "1ba474f7",
=======
   "id": "d10e2db7",
>>>>>>> documentation-devel
=======
   "id": "8740c8c7",
>>>>>>> c74c98c2450c2a1ba922ed9442f136238d6bc88b
=======
   "id": "f396ade9",
>>>>>>> 035bb2637984ead2784fecff78c0c60cc4181202
||||||| 3effdfa5
   "id": "c15ea57e",
=======
   "id": "cef879cd",
>>>>>>> documentation-devel
||||||| 96c826da
<<<<<<< HEAD
<<<<<<< HEAD
<<<<<<< HEAD
<<<<<<< HEAD
<<<<<<< HEAD
   "id": "5458d81a",
||||||| 6a30bf1
   "id": "1ba474f7",
=======
   "id": "d10e2db7",
>>>>>>> documentation-devel
||||||| d28b18c
   "id": "d10e2db7",
=======
   "id": "784f81da",
>>>>>>> documentation-devel
||||||| 6893f63
<<<<<<< HEAD
   "id": "5458d81a",
||||||| 6a30bf1
   "id": "1ba474f7",
=======
   "id": "d10e2db7",
>>>>>>> documentation-devel
=======
   "id": "8740c8c7",
>>>>>>> c74c98c2450c2a1ba922ed9442f136238d6bc88b
||||||| 6d93b645
   "id": "784f81da",
=======
   "id": "c15ea57e",
>>>>>>> documentation-devel
||||||| 804edffb
<<<<<<< HEAD
<<<<<<< HEAD
<<<<<<< HEAD
   "id": "5458d81a",
||||||| 6a30bf1
   "id": "1ba474f7",
=======
   "id": "d10e2db7",
>>>>>>> documentation-devel
||||||| d28b18c
   "id": "d10e2db7",
=======
   "id": "784f81da",
>>>>>>> documentation-devel
||||||| 6893f63
<<<<<<< HEAD
   "id": "5458d81a",
||||||| 6a30bf1
   "id": "1ba474f7",
=======
   "id": "d10e2db7",
>>>>>>> documentation-devel
=======
   "id": "8740c8c7",
>>>>>>> c74c98c2450c2a1ba922ed9442f136238d6bc88b
=======
   "id": "f396ade9",
>>>>>>> 035bb2637984ead2784fecff78c0c60cc4181202
=======
   "id": "487b9474",
>>>>>>> 619c01f26351d57ac14d974b7af136ac5756103f
   "metadata": {},
   "source": [
    "Wnt2 seems to be more pericentral, while Ltbp4 and Efnb2 seem more periportal.\n",
    "\n",
    "Some of these marker genes will show up in the top PC loadings non-spatial and spatial PCA.\n",
    "\n",
    "# Non-spatial PCA\n",
    "First we run non-spatial PCA, to compare to MULTISPATI."
   ]
  },
  {
   "cell_type": "code",
   "execution_count": null,
<<<<<<< HEAD
<<<<<<< HEAD
<<<<<<< HEAD
<<<<<<< HEAD
<<<<<<< HEAD
<<<<<<< HEAD
<<<<<<< HEAD
   "id": "5f0a9a44",
||||||| 6a30bf1
   "id": "9c6c8621",
=======
   "id": "500821aa",
>>>>>>> documentation-devel
||||||| d28b18c
   "id": "500821aa",
=======
   "id": "681384aa",
>>>>>>> documentation-devel
||||||| 6893f63
<<<<<<< HEAD
   "id": "5f0a9a44",
||||||| 6a30bf1
   "id": "9c6c8621",
=======
   "id": "500821aa",
>>>>>>> documentation-devel
=======
   "id": "aacf124a",
>>>>>>> c74c98c2450c2a1ba922ed9442f136238d6bc88b
||||||| 6d93b645
   "id": "681384aa",
=======
   "id": "d6c68dc8",
>>>>>>> documentation-devel
||||||| 804edffb
<<<<<<< HEAD
<<<<<<< HEAD
<<<<<<< HEAD
   "id": "5f0a9a44",
||||||| 6a30bf1
   "id": "9c6c8621",
=======
   "id": "500821aa",
>>>>>>> documentation-devel
||||||| d28b18c
   "id": "500821aa",
=======
   "id": "681384aa",
>>>>>>> documentation-devel
||||||| 6893f63
<<<<<<< HEAD
   "id": "5f0a9a44",
||||||| 6a30bf1
   "id": "9c6c8621",
=======
   "id": "500821aa",
>>>>>>> documentation-devel
=======
   "id": "aacf124a",
>>>>>>> c74c98c2450c2a1ba922ed9442f136238d6bc88b
=======
   "id": "09b9f43d",
>>>>>>> 035bb2637984ead2784fecff78c0c60cc4181202
||||||| 3effdfa5
   "id": "d6c68dc8",
=======
   "id": "1b4ebff9",
>>>>>>> documentation-devel
||||||| 96c826da
<<<<<<< HEAD
<<<<<<< HEAD
<<<<<<< HEAD
<<<<<<< HEAD
<<<<<<< HEAD
   "id": "5f0a9a44",
||||||| 6a30bf1
   "id": "9c6c8621",
=======
   "id": "500821aa",
>>>>>>> documentation-devel
||||||| d28b18c
   "id": "500821aa",
=======
   "id": "681384aa",
>>>>>>> documentation-devel
||||||| 6893f63
<<<<<<< HEAD
   "id": "5f0a9a44",
||||||| 6a30bf1
   "id": "9c6c8621",
=======
   "id": "500821aa",
>>>>>>> documentation-devel
=======
   "id": "aacf124a",
>>>>>>> c74c98c2450c2a1ba922ed9442f136238d6bc88b
||||||| 6d93b645
   "id": "681384aa",
=======
   "id": "d6c68dc8",
>>>>>>> documentation-devel
||||||| 804edffb
<<<<<<< HEAD
<<<<<<< HEAD
<<<<<<< HEAD
   "id": "5f0a9a44",
||||||| 6a30bf1
   "id": "9c6c8621",
=======
   "id": "500821aa",
>>>>>>> documentation-devel
||||||| d28b18c
   "id": "500821aa",
=======
   "id": "681384aa",
>>>>>>> documentation-devel
||||||| 6893f63
<<<<<<< HEAD
   "id": "5f0a9a44",
||||||| 6a30bf1
   "id": "9c6c8621",
=======
   "id": "500821aa",
>>>>>>> documentation-devel
=======
   "id": "aacf124a",
>>>>>>> c74c98c2450c2a1ba922ed9442f136238d6bc88b
=======
   "id": "09b9f43d",
>>>>>>> 035bb2637984ead2784fecff78c0c60cc4181202
=======
   "id": "bb080e5a",
>>>>>>> 619c01f26351d57ac14d974b7af136ac5756103f
   "metadata": {},
   "outputs": [],
   "source": [
    "set.seed(29)\n",
    "system.time(\n",
    "    sfe <- runPCA(sfe, ncomponents = 20, subset_row = !is_blank,\n",
    "                  exprs_values = \"logcounts\",\n",
    "                  scale = TRUE, BSPARAM = IrlbaParam())\n",
    ")\n",
    "gc()"
   ]
  },
  {
   "cell_type": "markdown",
<<<<<<< HEAD
<<<<<<< HEAD
<<<<<<< HEAD
<<<<<<< HEAD
<<<<<<< HEAD
<<<<<<< HEAD
<<<<<<< HEAD
   "id": "438f561f",
||||||| 6a30bf1
   "id": "2e680697",
=======
   "id": "351cdc44",
>>>>>>> documentation-devel
||||||| d28b18c
   "id": "351cdc44",
=======
   "id": "8d536e5c",
>>>>>>> documentation-devel
||||||| 6893f63
<<<<<<< HEAD
   "id": "438f561f",
||||||| 6a30bf1
   "id": "2e680697",
=======
   "id": "351cdc44",
>>>>>>> documentation-devel
=======
   "id": "97ab89d5",
>>>>>>> c74c98c2450c2a1ba922ed9442f136238d6bc88b
||||||| 6d93b645
   "id": "8d536e5c",
=======
   "id": "ed4920f2",
>>>>>>> documentation-devel
||||||| 804edffb
<<<<<<< HEAD
<<<<<<< HEAD
<<<<<<< HEAD
   "id": "438f561f",
||||||| 6a30bf1
   "id": "2e680697",
=======
   "id": "351cdc44",
>>>>>>> documentation-devel
||||||| d28b18c
   "id": "351cdc44",
=======
   "id": "8d536e5c",
>>>>>>> documentation-devel
||||||| 6893f63
<<<<<<< HEAD
   "id": "438f561f",
||||||| 6a30bf1
   "id": "2e680697",
=======
   "id": "351cdc44",
>>>>>>> documentation-devel
=======
   "id": "97ab89d5",
>>>>>>> c74c98c2450c2a1ba922ed9442f136238d6bc88b
=======
   "id": "c9169549",
>>>>>>> 035bb2637984ead2784fecff78c0c60cc4181202
||||||| 3effdfa5
   "id": "ed4920f2",
=======
   "id": "36b1d5a8",
>>>>>>> documentation-devel
||||||| 96c826da
<<<<<<< HEAD
<<<<<<< HEAD
<<<<<<< HEAD
<<<<<<< HEAD
<<<<<<< HEAD
   "id": "438f561f",
||||||| 6a30bf1
   "id": "2e680697",
=======
   "id": "351cdc44",
>>>>>>> documentation-devel
||||||| d28b18c
   "id": "351cdc44",
=======
   "id": "8d536e5c",
>>>>>>> documentation-devel
||||||| 6893f63
<<<<<<< HEAD
   "id": "438f561f",
||||||| 6a30bf1
   "id": "2e680697",
=======
   "id": "351cdc44",
>>>>>>> documentation-devel
=======
   "id": "97ab89d5",
>>>>>>> c74c98c2450c2a1ba922ed9442f136238d6bc88b
||||||| 6d93b645
   "id": "8d536e5c",
=======
   "id": "ed4920f2",
>>>>>>> documentation-devel
||||||| 804edffb
<<<<<<< HEAD
<<<<<<< HEAD
<<<<<<< HEAD
   "id": "438f561f",
||||||| 6a30bf1
   "id": "2e680697",
=======
   "id": "351cdc44",
>>>>>>> documentation-devel
||||||| d28b18c
   "id": "351cdc44",
=======
   "id": "8d536e5c",
>>>>>>> documentation-devel
||||||| 6893f63
<<<<<<< HEAD
   "id": "438f561f",
||||||| 6a30bf1
   "id": "2e680697",
=======
   "id": "351cdc44",
>>>>>>> documentation-devel
=======
   "id": "97ab89d5",
>>>>>>> c74c98c2450c2a1ba922ed9442f136238d6bc88b
=======
   "id": "c9169549",
>>>>>>> 035bb2637984ead2784fecff78c0c60cc4181202
=======
   "id": "be82856e",
>>>>>>> 619c01f26351d57ac14d974b7af136ac5756103f
   "metadata": {},
   "source": [
    "That's pretty quick for almost 400,000 cells, but there aren't that many genes here. Use the elbow plot to see variance explained by each PC:"
   ]
  },
  {
   "cell_type": "code",
   "execution_count": null,
<<<<<<< HEAD
<<<<<<< HEAD
<<<<<<< HEAD
<<<<<<< HEAD
<<<<<<< HEAD
<<<<<<< HEAD
<<<<<<< HEAD
   "id": "000d8d19",
||||||| 6a30bf1
   "id": "75e91900",
=======
   "id": "94226d86",
>>>>>>> documentation-devel
||||||| d28b18c
   "id": "94226d86",
=======
   "id": "11ba6232",
>>>>>>> documentation-devel
||||||| 6893f63
<<<<<<< HEAD
   "id": "000d8d19",
||||||| 6a30bf1
   "id": "75e91900",
=======
   "id": "94226d86",
>>>>>>> documentation-devel
=======
   "id": "dbb3256b",
>>>>>>> c74c98c2450c2a1ba922ed9442f136238d6bc88b
||||||| 6d93b645
   "id": "11ba6232",
=======
   "id": "8669872c",
>>>>>>> documentation-devel
||||||| 804edffb
<<<<<<< HEAD
<<<<<<< HEAD
<<<<<<< HEAD
   "id": "000d8d19",
||||||| 6a30bf1
   "id": "75e91900",
=======
   "id": "94226d86",
>>>>>>> documentation-devel
||||||| d28b18c
   "id": "94226d86",
=======
   "id": "11ba6232",
>>>>>>> documentation-devel
||||||| 6893f63
<<<<<<< HEAD
   "id": "000d8d19",
||||||| 6a30bf1
   "id": "75e91900",
=======
   "id": "94226d86",
>>>>>>> documentation-devel
=======
   "id": "dbb3256b",
>>>>>>> c74c98c2450c2a1ba922ed9442f136238d6bc88b
=======
   "id": "24963687",
>>>>>>> 035bb2637984ead2784fecff78c0c60cc4181202
||||||| 3effdfa5
   "id": "8669872c",
=======
   "id": "26fb79e2",
>>>>>>> documentation-devel
||||||| 96c826da
<<<<<<< HEAD
<<<<<<< HEAD
<<<<<<< HEAD
<<<<<<< HEAD
<<<<<<< HEAD
   "id": "000d8d19",
||||||| 6a30bf1
   "id": "75e91900",
=======
   "id": "94226d86",
>>>>>>> documentation-devel
||||||| d28b18c
   "id": "94226d86",
=======
   "id": "11ba6232",
>>>>>>> documentation-devel
||||||| 6893f63
<<<<<<< HEAD
   "id": "000d8d19",
||||||| 6a30bf1
   "id": "75e91900",
=======
   "id": "94226d86",
>>>>>>> documentation-devel
=======
   "id": "dbb3256b",
>>>>>>> c74c98c2450c2a1ba922ed9442f136238d6bc88b
||||||| 6d93b645
   "id": "11ba6232",
=======
   "id": "8669872c",
>>>>>>> documentation-devel
||||||| 804edffb
<<<<<<< HEAD
<<<<<<< HEAD
<<<<<<< HEAD
   "id": "000d8d19",
||||||| 6a30bf1
   "id": "75e91900",
=======
   "id": "94226d86",
>>>>>>> documentation-devel
||||||| d28b18c
   "id": "94226d86",
=======
   "id": "11ba6232",
>>>>>>> documentation-devel
||||||| 6893f63
<<<<<<< HEAD
   "id": "000d8d19",
||||||| 6a30bf1
   "id": "75e91900",
=======
   "id": "94226d86",
>>>>>>> documentation-devel
=======
   "id": "dbb3256b",
>>>>>>> c74c98c2450c2a1ba922ed9442f136238d6bc88b
=======
   "id": "24963687",
>>>>>>> 035bb2637984ead2784fecff78c0c60cc4181202
=======
   "id": "f2b3e4d2",
>>>>>>> 619c01f26351d57ac14d974b7af136ac5756103f
   "metadata": {},
   "outputs": [],
   "source": [
    "ElbowPlot(sfe)"
   ]
  },
  {
   "cell_type": "markdown",
<<<<<<< HEAD
<<<<<<< HEAD
<<<<<<< HEAD
<<<<<<< HEAD
<<<<<<< HEAD
<<<<<<< HEAD
<<<<<<< HEAD
   "id": "57fd6d8d",
||||||| 6a30bf1
   "id": "15769db5",
=======
   "id": "4140d415",
>>>>>>> documentation-devel
||||||| d28b18c
   "id": "4140d415",
=======
   "id": "7aa9f23d",
>>>>>>> documentation-devel
||||||| 6893f63
<<<<<<< HEAD
   "id": "57fd6d8d",
||||||| 6a30bf1
   "id": "15769db5",
=======
   "id": "4140d415",
>>>>>>> documentation-devel
=======
   "id": "6e8354f9",
>>>>>>> c74c98c2450c2a1ba922ed9442f136238d6bc88b
||||||| 6d93b645
   "id": "7aa9f23d",
=======
   "id": "03ae6b19",
>>>>>>> documentation-devel
||||||| 804edffb
<<<<<<< HEAD
<<<<<<< HEAD
<<<<<<< HEAD
   "id": "57fd6d8d",
||||||| 6a30bf1
   "id": "15769db5",
=======
   "id": "4140d415",
>>>>>>> documentation-devel
||||||| d28b18c
   "id": "4140d415",
=======
   "id": "7aa9f23d",
>>>>>>> documentation-devel
||||||| 6893f63
<<<<<<< HEAD
   "id": "57fd6d8d",
||||||| 6a30bf1
   "id": "15769db5",
=======
   "id": "4140d415",
>>>>>>> documentation-devel
=======
   "id": "6e8354f9",
>>>>>>> c74c98c2450c2a1ba922ed9442f136238d6bc88b
=======
   "id": "01910f3b",
>>>>>>> 035bb2637984ead2784fecff78c0c60cc4181202
||||||| 3effdfa5
   "id": "03ae6b19",
=======
   "id": "676b148e",
>>>>>>> documentation-devel
||||||| 96c826da
<<<<<<< HEAD
<<<<<<< HEAD
<<<<<<< HEAD
<<<<<<< HEAD
<<<<<<< HEAD
   "id": "57fd6d8d",
||||||| 6a30bf1
   "id": "15769db5",
=======
   "id": "4140d415",
>>>>>>> documentation-devel
||||||| d28b18c
   "id": "4140d415",
=======
   "id": "7aa9f23d",
>>>>>>> documentation-devel
||||||| 6893f63
<<<<<<< HEAD
   "id": "57fd6d8d",
||||||| 6a30bf1
   "id": "15769db5",
=======
   "id": "4140d415",
>>>>>>> documentation-devel
=======
   "id": "6e8354f9",
>>>>>>> c74c98c2450c2a1ba922ed9442f136238d6bc88b
||||||| 6d93b645
   "id": "7aa9f23d",
=======
   "id": "03ae6b19",
>>>>>>> documentation-devel
||||||| 804edffb
<<<<<<< HEAD
<<<<<<< HEAD
<<<<<<< HEAD
   "id": "57fd6d8d",
||||||| 6a30bf1
   "id": "15769db5",
=======
   "id": "4140d415",
>>>>>>> documentation-devel
||||||| d28b18c
   "id": "4140d415",
=======
   "id": "7aa9f23d",
>>>>>>> documentation-devel
||||||| 6893f63
<<<<<<< HEAD
   "id": "57fd6d8d",
||||||| 6a30bf1
   "id": "15769db5",
=======
   "id": "4140d415",
>>>>>>> documentation-devel
=======
   "id": "6e8354f9",
>>>>>>> c74c98c2450c2a1ba922ed9442f136238d6bc88b
=======
   "id": "01910f3b",
>>>>>>> 035bb2637984ead2784fecff78c0c60cc4181202
=======
   "id": "aae071be",
>>>>>>> 619c01f26351d57ac14d974b7af136ac5756103f
   "metadata": {
    "lines_to_next_cell": 0
   },
   "source": [
    "Plot top gene loadings in each PC"
   ]
  },
  {
   "cell_type": "code",
   "execution_count": null,
<<<<<<< HEAD
<<<<<<< HEAD
<<<<<<< HEAD
<<<<<<< HEAD
<<<<<<< HEAD
<<<<<<< HEAD
<<<<<<< HEAD
   "id": "0f279572",
||||||| 6a30bf1
   "id": "5486b6c1",
=======
   "id": "29bc8b23",
>>>>>>> documentation-devel
||||||| d28b18c
   "id": "29bc8b23",
=======
   "id": "002172b8",
>>>>>>> documentation-devel
||||||| 6893f63
<<<<<<< HEAD
   "id": "0f279572",
||||||| 6a30bf1
   "id": "5486b6c1",
=======
   "id": "29bc8b23",
>>>>>>> documentation-devel
=======
   "id": "06169ea6",
>>>>>>> c74c98c2450c2a1ba922ed9442f136238d6bc88b
||||||| 6d93b645
   "id": "002172b8",
=======
   "id": "91daec6c",
>>>>>>> documentation-devel
||||||| 804edffb
<<<<<<< HEAD
<<<<<<< HEAD
<<<<<<< HEAD
   "id": "0f279572",
||||||| 6a30bf1
   "id": "5486b6c1",
=======
   "id": "29bc8b23",
>>>>>>> documentation-devel
||||||| d28b18c
   "id": "29bc8b23",
=======
   "id": "002172b8",
>>>>>>> documentation-devel
||||||| 6893f63
<<<<<<< HEAD
   "id": "0f279572",
||||||| 6a30bf1
   "id": "5486b6c1",
=======
   "id": "29bc8b23",
>>>>>>> documentation-devel
=======
   "id": "06169ea6",
>>>>>>> c74c98c2450c2a1ba922ed9442f136238d6bc88b
=======
   "id": "4fe1742a",
>>>>>>> 035bb2637984ead2784fecff78c0c60cc4181202
||||||| 3effdfa5
   "id": "91daec6c",
=======
   "id": "8107a58b",
>>>>>>> documentation-devel
||||||| 96c826da
<<<<<<< HEAD
<<<<<<< HEAD
<<<<<<< HEAD
<<<<<<< HEAD
<<<<<<< HEAD
   "id": "0f279572",
||||||| 6a30bf1
   "id": "5486b6c1",
=======
   "id": "29bc8b23",
>>>>>>> documentation-devel
||||||| d28b18c
   "id": "29bc8b23",
=======
   "id": "002172b8",
>>>>>>> documentation-devel
||||||| 6893f63
<<<<<<< HEAD
   "id": "0f279572",
||||||| 6a30bf1
   "id": "5486b6c1",
=======
   "id": "29bc8b23",
>>>>>>> documentation-devel
=======
   "id": "06169ea6",
>>>>>>> c74c98c2450c2a1ba922ed9442f136238d6bc88b
||||||| 6d93b645
   "id": "002172b8",
=======
   "id": "91daec6c",
>>>>>>> documentation-devel
||||||| 804edffb
<<<<<<< HEAD
<<<<<<< HEAD
<<<<<<< HEAD
   "id": "0f279572",
||||||| 6a30bf1
   "id": "5486b6c1",
=======
   "id": "29bc8b23",
>>>>>>> documentation-devel
||||||| d28b18c
   "id": "29bc8b23",
=======
   "id": "002172b8",
>>>>>>> documentation-devel
||||||| 6893f63
<<<<<<< HEAD
   "id": "0f279572",
||||||| 6a30bf1
   "id": "5486b6c1",
=======
   "id": "29bc8b23",
>>>>>>> documentation-devel
=======
   "id": "06169ea6",
>>>>>>> c74c98c2450c2a1ba922ed9442f136238d6bc88b
=======
   "id": "4fe1742a",
>>>>>>> 035bb2637984ead2784fecff78c0c60cc4181202
=======
   "id": "3db9017c",
>>>>>>> 619c01f26351d57ac14d974b7af136ac5756103f
   "metadata": {},
   "outputs": [],
   "source": [
    "plotDimLoadings(sfe)"
   ]
  },
  {
   "cell_type": "markdown",
<<<<<<< HEAD
<<<<<<< HEAD
<<<<<<< HEAD
<<<<<<< HEAD
<<<<<<< HEAD
<<<<<<< HEAD
<<<<<<< HEAD
   "id": "a0c615ad",
||||||| 6a30bf1
   "id": "e6529993",
=======
   "id": "c4d9ff3c",
>>>>>>> documentation-devel
||||||| d28b18c
   "id": "c4d9ff3c",
=======
   "id": "01cb7f76",
>>>>>>> documentation-devel
||||||| 6893f63
<<<<<<< HEAD
   "id": "a0c615ad",
||||||| 6a30bf1
   "id": "e6529993",
=======
   "id": "c4d9ff3c",
>>>>>>> documentation-devel
=======
   "id": "fe701864",
>>>>>>> c74c98c2450c2a1ba922ed9442f136238d6bc88b
||||||| 6d93b645
   "id": "01cb7f76",
=======
   "id": "16692398",
>>>>>>> documentation-devel
||||||| 804edffb
<<<<<<< HEAD
<<<<<<< HEAD
<<<<<<< HEAD
   "id": "a0c615ad",
||||||| 6a30bf1
   "id": "e6529993",
=======
   "id": "c4d9ff3c",
>>>>>>> documentation-devel
||||||| d28b18c
   "id": "c4d9ff3c",
=======
   "id": "01cb7f76",
>>>>>>> documentation-devel
||||||| 6893f63
<<<<<<< HEAD
   "id": "a0c615ad",
||||||| 6a30bf1
   "id": "e6529993",
=======
   "id": "c4d9ff3c",
>>>>>>> documentation-devel
=======
   "id": "fe701864",
>>>>>>> c74c98c2450c2a1ba922ed9442f136238d6bc88b
=======
   "id": "48f1cc3b",
>>>>>>> 035bb2637984ead2784fecff78c0c60cc4181202
||||||| 3effdfa5
   "id": "16692398",
=======
   "id": "56540911",
>>>>>>> documentation-devel
||||||| 96c826da
<<<<<<< HEAD
<<<<<<< HEAD
<<<<<<< HEAD
<<<<<<< HEAD
<<<<<<< HEAD
   "id": "a0c615ad",
||||||| 6a30bf1
   "id": "e6529993",
=======
   "id": "c4d9ff3c",
>>>>>>> documentation-devel
||||||| d28b18c
   "id": "c4d9ff3c",
=======
   "id": "01cb7f76",
>>>>>>> documentation-devel
||||||| 6893f63
<<<<<<< HEAD
   "id": "a0c615ad",
||||||| 6a30bf1
   "id": "e6529993",
=======
   "id": "c4d9ff3c",
>>>>>>> documentation-devel
=======
   "id": "fe701864",
>>>>>>> c74c98c2450c2a1ba922ed9442f136238d6bc88b
||||||| 6d93b645
   "id": "01cb7f76",
=======
   "id": "16692398",
>>>>>>> documentation-devel
||||||| 804edffb
<<<<<<< HEAD
<<<<<<< HEAD
<<<<<<< HEAD
   "id": "a0c615ad",
||||||| 6a30bf1
   "id": "e6529993",
=======
   "id": "c4d9ff3c",
>>>>>>> documentation-devel
||||||| d28b18c
   "id": "c4d9ff3c",
=======
   "id": "01cb7f76",
>>>>>>> documentation-devel
||||||| 6893f63
<<<<<<< HEAD
   "id": "a0c615ad",
||||||| 6a30bf1
   "id": "e6529993",
=======
   "id": "c4d9ff3c",
>>>>>>> documentation-devel
=======
   "id": "fe701864",
>>>>>>> c74c98c2450c2a1ba922ed9442f136238d6bc88b
=======
   "id": "48f1cc3b",
>>>>>>> 035bb2637984ead2784fecff78c0c60cc4181202
=======
   "id": "746a2bbc",
>>>>>>> 619c01f26351d57ac14d974b7af136ac5756103f
   "metadata": {
    "lines_to_next_cell": 0
   },
   "source": [
    "Many of these genes seem to be related to the endothelium. PC1 and PC4 concern the Kupffer cells as well, as the Kupffer cell marker gene Cdh5 has high loading.\n",
    "\n",
    "Plot the first 4 PCs in space"
   ]
  },
  {
   "cell_type": "code",
   "execution_count": null,
<<<<<<< HEAD
<<<<<<< HEAD
<<<<<<< HEAD
<<<<<<< HEAD
<<<<<<< HEAD
<<<<<<< HEAD
<<<<<<< HEAD
   "id": "ad795502",
||||||| 6a30bf1
   "id": "75685d37",
=======
   "id": "28f0e9af",
>>>>>>> documentation-devel
||||||| d28b18c
   "id": "28f0e9af",
=======
   "id": "6db04e2d",
>>>>>>> documentation-devel
||||||| 6893f63
<<<<<<< HEAD
   "id": "ad795502",
||||||| 6a30bf1
   "id": "75685d37",
=======
   "id": "28f0e9af",
>>>>>>> documentation-devel
=======
   "id": "fef227af",
>>>>>>> c74c98c2450c2a1ba922ed9442f136238d6bc88b
||||||| 6d93b645
   "id": "6db04e2d",
=======
   "id": "ab217b5d",
>>>>>>> documentation-devel
||||||| 804edffb
<<<<<<< HEAD
<<<<<<< HEAD
<<<<<<< HEAD
   "id": "ad795502",
||||||| 6a30bf1
   "id": "75685d37",
=======
   "id": "28f0e9af",
>>>>>>> documentation-devel
||||||| d28b18c
   "id": "28f0e9af",
=======
   "id": "6db04e2d",
>>>>>>> documentation-devel
||||||| 6893f63
<<<<<<< HEAD
   "id": "ad795502",
||||||| 6a30bf1
   "id": "75685d37",
=======
   "id": "28f0e9af",
>>>>>>> documentation-devel
=======
   "id": "fef227af",
>>>>>>> c74c98c2450c2a1ba922ed9442f136238d6bc88b
=======
   "id": "4c7b2b35",
>>>>>>> 035bb2637984ead2784fecff78c0c60cc4181202
||||||| 3effdfa5
   "id": "ab217b5d",
=======
   "id": "386bf139",
>>>>>>> documentation-devel
||||||| 96c826da
<<<<<<< HEAD
<<<<<<< HEAD
<<<<<<< HEAD
<<<<<<< HEAD
<<<<<<< HEAD
   "id": "ad795502",
||||||| 6a30bf1
   "id": "75685d37",
=======
   "id": "28f0e9af",
>>>>>>> documentation-devel
||||||| d28b18c
   "id": "28f0e9af",
=======
   "id": "6db04e2d",
>>>>>>> documentation-devel
||||||| 6893f63
<<<<<<< HEAD
   "id": "ad795502",
||||||| 6a30bf1
   "id": "75685d37",
=======
   "id": "28f0e9af",
>>>>>>> documentation-devel
=======
   "id": "fef227af",
>>>>>>> c74c98c2450c2a1ba922ed9442f136238d6bc88b
||||||| 6d93b645
   "id": "6db04e2d",
=======
   "id": "ab217b5d",
>>>>>>> documentation-devel
||||||| 804edffb
<<<<<<< HEAD
<<<<<<< HEAD
<<<<<<< HEAD
   "id": "ad795502",
||||||| 6a30bf1
   "id": "75685d37",
=======
   "id": "28f0e9af",
>>>>>>> documentation-devel
||||||| d28b18c
   "id": "28f0e9af",
=======
   "id": "6db04e2d",
>>>>>>> documentation-devel
||||||| 6893f63
<<<<<<< HEAD
   "id": "ad795502",
||||||| 6a30bf1
   "id": "75685d37",
=======
   "id": "28f0e9af",
>>>>>>> documentation-devel
=======
   "id": "fef227af",
>>>>>>> c74c98c2450c2a1ba922ed9442f136238d6bc88b
=======
   "id": "4c7b2b35",
>>>>>>> 035bb2637984ead2784fecff78c0c60cc4181202
=======
   "id": "d3836fc4",
>>>>>>> 619c01f26351d57ac14d974b7af136ac5756103f
   "metadata": {
    "fig.height": 7,
    "fig.width": 9
   },
   "outputs": [],
   "source": [
    "spatialReducedDim(sfe, \"PCA\", 4, colGeometryName = \"centroids\", scattermore = TRUE,\n",
    "                  divergent = TRUE, diverge_center = 0)"
   ]
  },
  {
   "cell_type": "markdown",
<<<<<<< HEAD
<<<<<<< HEAD
<<<<<<< HEAD
<<<<<<< HEAD
<<<<<<< HEAD
<<<<<<< HEAD
<<<<<<< HEAD
   "id": "85285e70",
||||||| 6a30bf1
   "id": "9d2ca470",
=======
   "id": "90c11c5a",
>>>>>>> documentation-devel
||||||| d28b18c
   "id": "90c11c5a",
=======
   "id": "dc128dc5",
>>>>>>> documentation-devel
||||||| 6893f63
<<<<<<< HEAD
   "id": "85285e70",
||||||| 6a30bf1
   "id": "9d2ca470",
=======
   "id": "90c11c5a",
>>>>>>> documentation-devel
=======
   "id": "3ef8e26c",
>>>>>>> c74c98c2450c2a1ba922ed9442f136238d6bc88b
||||||| 6d93b645
   "id": "dc128dc5",
=======
   "id": "ab79bc67",
>>>>>>> documentation-devel
||||||| 804edffb
<<<<<<< HEAD
<<<<<<< HEAD
<<<<<<< HEAD
   "id": "85285e70",
||||||| 6a30bf1
   "id": "9d2ca470",
=======
   "id": "90c11c5a",
>>>>>>> documentation-devel
||||||| d28b18c
   "id": "90c11c5a",
=======
   "id": "dc128dc5",
>>>>>>> documentation-devel
||||||| 6893f63
<<<<<<< HEAD
   "id": "85285e70",
||||||| 6a30bf1
   "id": "9d2ca470",
=======
   "id": "90c11c5a",
>>>>>>> documentation-devel
=======
   "id": "3ef8e26c",
>>>>>>> c74c98c2450c2a1ba922ed9442f136238d6bc88b
=======
   "id": "c0aab567",
>>>>>>> 035bb2637984ead2784fecff78c0c60cc4181202
||||||| 3effdfa5
   "id": "ab79bc67",
=======
   "id": "c9fdb56a",
>>>>>>> documentation-devel
||||||| 96c826da
<<<<<<< HEAD
<<<<<<< HEAD
<<<<<<< HEAD
<<<<<<< HEAD
<<<<<<< HEAD
   "id": "85285e70",
||||||| 6a30bf1
   "id": "9d2ca470",
=======
   "id": "90c11c5a",
>>>>>>> documentation-devel
||||||| d28b18c
   "id": "90c11c5a",
=======
   "id": "dc128dc5",
>>>>>>> documentation-devel
||||||| 6893f63
<<<<<<< HEAD
   "id": "85285e70",
||||||| 6a30bf1
   "id": "9d2ca470",
=======
   "id": "90c11c5a",
>>>>>>> documentation-devel
=======
   "id": "3ef8e26c",
>>>>>>> c74c98c2450c2a1ba922ed9442f136238d6bc88b
||||||| 6d93b645
   "id": "dc128dc5",
=======
   "id": "ab79bc67",
>>>>>>> documentation-devel
||||||| 804edffb
<<<<<<< HEAD
<<<<<<< HEAD
<<<<<<< HEAD
   "id": "85285e70",
||||||| 6a30bf1
   "id": "9d2ca470",
=======
   "id": "90c11c5a",
>>>>>>> documentation-devel
||||||| d28b18c
   "id": "90c11c5a",
=======
   "id": "dc128dc5",
>>>>>>> documentation-devel
||||||| 6893f63
<<<<<<< HEAD
   "id": "85285e70",
||||||| 6a30bf1
   "id": "9d2ca470",
=======
   "id": "90c11c5a",
>>>>>>> documentation-devel
=======
   "id": "3ef8e26c",
>>>>>>> c74c98c2450c2a1ba922ed9442f136238d6bc88b
=======
   "id": "c0aab567",
>>>>>>> 035bb2637984ead2784fecff78c0c60cc4181202
=======
   "id": "a2b868d1",
>>>>>>> 619c01f26351d57ac14d974b7af136ac5756103f
   "metadata": {},
   "source": [
    "PC1 and PC4 highlight the major blood vessels, while PC2 and PC3 have less spatial structure. While in the CosMX and Xenium datasets on this website, the top PCs have clear spatial structures despite the absence of spatial information in non-spatial PCA because of clear spatial compartments for some cell types, which does not seem to be the case in this dataset except for the blood vessels. We have seen above that some genes have strong spatial structures. \n",
    "\n",
    "While PC2 and PC3 don't seem to have large scale spatial structure, they may have more local spatial structure not obvious from plotting the entire section, so we zoom into a bounding box which shows hepatic zonation."
   ]
  },
  {
   "cell_type": "code",
   "execution_count": null,
<<<<<<< HEAD
<<<<<<< HEAD
<<<<<<< HEAD
<<<<<<< HEAD
<<<<<<< HEAD
<<<<<<< HEAD
<<<<<<< HEAD
   "id": "458cd062",
||||||| 6a30bf1
   "id": "a3f8f31b",
=======
   "id": "af493598",
>>>>>>> documentation-devel
||||||| d28b18c
   "id": "af493598",
=======
   "id": "6c92d9f0",
>>>>>>> documentation-devel
||||||| 6893f63
<<<<<<< HEAD
   "id": "458cd062",
||||||| 6a30bf1
   "id": "a3f8f31b",
=======
   "id": "af493598",
>>>>>>> documentation-devel
=======
   "id": "125ff317",
>>>>>>> c74c98c2450c2a1ba922ed9442f136238d6bc88b
||||||| 6d93b645
   "id": "6c92d9f0",
=======
   "id": "cd2ae4a9",
>>>>>>> documentation-devel
||||||| 804edffb
<<<<<<< HEAD
<<<<<<< HEAD
<<<<<<< HEAD
   "id": "458cd062",
||||||| 6a30bf1
   "id": "a3f8f31b",
=======
   "id": "af493598",
>>>>>>> documentation-devel
||||||| d28b18c
   "id": "af493598",
=======
   "id": "6c92d9f0",
>>>>>>> documentation-devel
||||||| 6893f63
<<<<<<< HEAD
   "id": "458cd062",
||||||| 6a30bf1
   "id": "a3f8f31b",
=======
   "id": "af493598",
>>>>>>> documentation-devel
=======
   "id": "125ff317",
>>>>>>> c74c98c2450c2a1ba922ed9442f136238d6bc88b
=======
   "id": "aaa816a4",
>>>>>>> 035bb2637984ead2784fecff78c0c60cc4181202
||||||| 3effdfa5
   "id": "cd2ae4a9",
=======
   "id": "a9f95264",
>>>>>>> documentation-devel
||||||| 96c826da
<<<<<<< HEAD
<<<<<<< HEAD
<<<<<<< HEAD
<<<<<<< HEAD
<<<<<<< HEAD
   "id": "458cd062",
||||||| 6a30bf1
   "id": "a3f8f31b",
=======
   "id": "af493598",
>>>>>>> documentation-devel
||||||| d28b18c
   "id": "af493598",
=======
   "id": "6c92d9f0",
>>>>>>> documentation-devel
||||||| 6893f63
<<<<<<< HEAD
   "id": "458cd062",
||||||| 6a30bf1
   "id": "a3f8f31b",
=======
   "id": "af493598",
>>>>>>> documentation-devel
=======
   "id": "125ff317",
>>>>>>> c74c98c2450c2a1ba922ed9442f136238d6bc88b
||||||| 6d93b645
   "id": "6c92d9f0",
=======
   "id": "cd2ae4a9",
>>>>>>> documentation-devel
||||||| 804edffb
<<<<<<< HEAD
<<<<<<< HEAD
<<<<<<< HEAD
   "id": "458cd062",
||||||| 6a30bf1
   "id": "a3f8f31b",
=======
   "id": "af493598",
>>>>>>> documentation-devel
||||||| d28b18c
   "id": "af493598",
=======
   "id": "6c92d9f0",
>>>>>>> documentation-devel
||||||| 6893f63
<<<<<<< HEAD
   "id": "458cd062",
||||||| 6a30bf1
   "id": "a3f8f31b",
=======
   "id": "af493598",
>>>>>>> documentation-devel
=======
   "id": "125ff317",
>>>>>>> c74c98c2450c2a1ba922ed9442f136238d6bc88b
=======
   "id": "aaa816a4",
>>>>>>> 035bb2637984ead2784fecff78c0c60cc4181202
=======
   "id": "d78f71a6",
>>>>>>> 619c01f26351d57ac14d974b7af136ac5756103f
   "metadata": {
    "fig.height": 7,
    "fig.width": 9
   },
   "outputs": [],
   "source": [
    "spatialReducedDim(sfe, \"PCA\", ncomponents = 4, colGeometryName = \"cellSeg\",\n",
    "                  bbox = bbox_use, divergent = TRUE, diverge_center = 0)"
   ]
  },
  {
   "cell_type": "markdown",
<<<<<<< HEAD
<<<<<<< HEAD
<<<<<<< HEAD
<<<<<<< HEAD
<<<<<<< HEAD
<<<<<<< HEAD
<<<<<<< HEAD
   "id": "80f43c62",
||||||| 6a30bf1
   "id": "97240f1f",
=======
   "id": "cf42a014",
>>>>>>> documentation-devel
||||||| d28b18c
   "id": "cf42a014",
=======
   "id": "3513a402",
>>>>>>> documentation-devel
||||||| 6893f63
<<<<<<< HEAD
   "id": "80f43c62",
||||||| 6a30bf1
   "id": "97240f1f",
=======
   "id": "cf42a014",
>>>>>>> documentation-devel
=======
   "id": "5a62ed90",
>>>>>>> c74c98c2450c2a1ba922ed9442f136238d6bc88b
||||||| 6d93b645
   "id": "3513a402",
=======
   "id": "fe4e9bf3",
>>>>>>> documentation-devel
||||||| 804edffb
<<<<<<< HEAD
<<<<<<< HEAD
<<<<<<< HEAD
   "id": "80f43c62",
||||||| 6a30bf1
   "id": "97240f1f",
=======
   "id": "cf42a014",
>>>>>>> documentation-devel
||||||| d28b18c
   "id": "cf42a014",
=======
   "id": "3513a402",
>>>>>>> documentation-devel
||||||| 6893f63
<<<<<<< HEAD
   "id": "80f43c62",
||||||| 6a30bf1
   "id": "97240f1f",
=======
   "id": "cf42a014",
>>>>>>> documentation-devel
=======
   "id": "5a62ed90",
>>>>>>> c74c98c2450c2a1ba922ed9442f136238d6bc88b
=======
   "id": "131c8e6a",
>>>>>>> 035bb2637984ead2784fecff78c0c60cc4181202
||||||| 3effdfa5
   "id": "fe4e9bf3",
=======
   "id": "efd9a2c1",
>>>>>>> documentation-devel
||||||| 96c826da
<<<<<<< HEAD
<<<<<<< HEAD
<<<<<<< HEAD
<<<<<<< HEAD
<<<<<<< HEAD
   "id": "80f43c62",
||||||| 6a30bf1
   "id": "97240f1f",
=======
   "id": "cf42a014",
>>>>>>> documentation-devel
||||||| d28b18c
   "id": "cf42a014",
=======
   "id": "3513a402",
>>>>>>> documentation-devel
||||||| 6893f63
<<<<<<< HEAD
   "id": "80f43c62",
||||||| 6a30bf1
   "id": "97240f1f",
=======
   "id": "cf42a014",
>>>>>>> documentation-devel
=======
   "id": "5a62ed90",
>>>>>>> c74c98c2450c2a1ba922ed9442f136238d6bc88b
||||||| 6d93b645
   "id": "3513a402",
=======
   "id": "fe4e9bf3",
>>>>>>> documentation-devel
||||||| 804edffb
<<<<<<< HEAD
<<<<<<< HEAD
<<<<<<< HEAD
   "id": "80f43c62",
||||||| 6a30bf1
   "id": "97240f1f",
=======
   "id": "cf42a014",
>>>>>>> documentation-devel
||||||| d28b18c
   "id": "cf42a014",
=======
   "id": "3513a402",
>>>>>>> documentation-devel
||||||| 6893f63
<<<<<<< HEAD
   "id": "80f43c62",
||||||| 6a30bf1
   "id": "97240f1f",
=======
   "id": "cf42a014",
>>>>>>> documentation-devel
=======
   "id": "5a62ed90",
>>>>>>> c74c98c2450c2a1ba922ed9442f136238d6bc88b
=======
   "id": "131c8e6a",
>>>>>>> 035bb2637984ead2784fecff78c0c60cc4181202
=======
   "id": "cbf5c59f",
>>>>>>> 619c01f26351d57ac14d974b7af136ac5756103f
   "metadata": {},
   "source": [
    "There's some spatial structure at a smaller scale, perhaps some negative spatial autocorrelation.\n",
    "\n",
    "# MULTISPATI PCA"
   ]
  },
  {
   "cell_type": "code",
   "execution_count": null,
<<<<<<< HEAD
<<<<<<< HEAD
<<<<<<< HEAD
<<<<<<< HEAD
<<<<<<< HEAD
<<<<<<< HEAD
<<<<<<< HEAD
   "id": "072eb07a",
||||||| 6a30bf1
   "id": "e7bcc376",
=======
   "id": "b4dfb589",
>>>>>>> documentation-devel
||||||| d28b18c
   "id": "b4dfb589",
=======
   "id": "83a8d0f9",
>>>>>>> documentation-devel
||||||| 6893f63
<<<<<<< HEAD
   "id": "072eb07a",
||||||| 6a30bf1
   "id": "e7bcc376",
=======
   "id": "b4dfb589",
>>>>>>> documentation-devel
=======
   "id": "1da2d863",
>>>>>>> c74c98c2450c2a1ba922ed9442f136238d6bc88b
||||||| 6d93b645
   "id": "83a8d0f9",
=======
   "id": "4e496215",
>>>>>>> documentation-devel
||||||| 804edffb
<<<<<<< HEAD
<<<<<<< HEAD
<<<<<<< HEAD
   "id": "072eb07a",
||||||| 6a30bf1
   "id": "e7bcc376",
=======
   "id": "b4dfb589",
>>>>>>> documentation-devel
||||||| d28b18c
   "id": "b4dfb589",
=======
   "id": "83a8d0f9",
>>>>>>> documentation-devel
||||||| 6893f63
<<<<<<< HEAD
   "id": "072eb07a",
||||||| 6a30bf1
   "id": "e7bcc376",
=======
   "id": "b4dfb589",
>>>>>>> documentation-devel
=======
   "id": "1da2d863",
>>>>>>> c74c98c2450c2a1ba922ed9442f136238d6bc88b
=======
   "id": "a0e10d24",
>>>>>>> 035bb2637984ead2784fecff78c0c60cc4181202
||||||| 3effdfa5
   "id": "4e496215",
=======
   "id": "92a89ffd",
>>>>>>> documentation-devel
||||||| 96c826da
<<<<<<< HEAD
<<<<<<< HEAD
<<<<<<< HEAD
<<<<<<< HEAD
<<<<<<< HEAD
   "id": "072eb07a",
||||||| 6a30bf1
   "id": "e7bcc376",
=======
   "id": "b4dfb589",
>>>>>>> documentation-devel
||||||| d28b18c
   "id": "b4dfb589",
=======
   "id": "83a8d0f9",
>>>>>>> documentation-devel
||||||| 6893f63
<<<<<<< HEAD
   "id": "072eb07a",
||||||| 6a30bf1
   "id": "e7bcc376",
=======
   "id": "b4dfb589",
>>>>>>> documentation-devel
=======
   "id": "1da2d863",
>>>>>>> c74c98c2450c2a1ba922ed9442f136238d6bc88b
||||||| 6d93b645
   "id": "83a8d0f9",
=======
   "id": "4e496215",
>>>>>>> documentation-devel
||||||| 804edffb
<<<<<<< HEAD
<<<<<<< HEAD
<<<<<<< HEAD
   "id": "072eb07a",
||||||| 6a30bf1
   "id": "e7bcc376",
=======
   "id": "b4dfb589",
>>>>>>> documentation-devel
||||||| d28b18c
   "id": "b4dfb589",
=======
   "id": "83a8d0f9",
>>>>>>> documentation-devel
||||||| 6893f63
<<<<<<< HEAD
   "id": "072eb07a",
||||||| 6a30bf1
   "id": "e7bcc376",
=======
   "id": "b4dfb589",
>>>>>>> documentation-devel
=======
   "id": "1da2d863",
>>>>>>> c74c98c2450c2a1ba922ed9442f136238d6bc88b
=======
   "id": "a0e10d24",
>>>>>>> 035bb2637984ead2784fecff78c0c60cc4181202
=======
   "id": "ed082eba",
>>>>>>> 619c01f26351d57ac14d974b7af136ac5756103f
   "metadata": {},
   "outputs": [],
   "source": [
    "system.time({\n",
    "    sfe <- runMultivariate(sfe, \"multispati\", colGraphName = \"knn5\", nfposi = 20,\n",
    "                       nfnega = 20)\n",
    "})"
   ]
  },
  {
   "cell_type": "markdown",
<<<<<<< HEAD
<<<<<<< HEAD
<<<<<<< HEAD
<<<<<<< HEAD
<<<<<<< HEAD
<<<<<<< HEAD
<<<<<<< HEAD
   "id": "d7e8265c",
||||||| 6a30bf1
   "id": "0d870996",
=======
   "id": "5d954da1",
>>>>>>> documentation-devel
||||||| d28b18c
   "id": "5d954da1",
=======
   "id": "6c12a20a",
>>>>>>> documentation-devel
||||||| 6893f63
<<<<<<< HEAD
   "id": "d7e8265c",
||||||| 6a30bf1
   "id": "0d870996",
=======
   "id": "5d954da1",
>>>>>>> documentation-devel
=======
   "id": "4eb2d8d0",
>>>>>>> c74c98c2450c2a1ba922ed9442f136238d6bc88b
||||||| 6d93b645
   "id": "6c12a20a",
=======
   "id": "1b1c21d5",
>>>>>>> documentation-devel
||||||| 804edffb
<<<<<<< HEAD
<<<<<<< HEAD
<<<<<<< HEAD
   "id": "d7e8265c",
||||||| 6a30bf1
   "id": "0d870996",
=======
   "id": "5d954da1",
>>>>>>> documentation-devel
||||||| d28b18c
   "id": "5d954da1",
=======
   "id": "6c12a20a",
>>>>>>> documentation-devel
||||||| 6893f63
<<<<<<< HEAD
   "id": "d7e8265c",
||||||| 6a30bf1
   "id": "0d870996",
=======
   "id": "5d954da1",
>>>>>>> documentation-devel
=======
   "id": "4eb2d8d0",
>>>>>>> c74c98c2450c2a1ba922ed9442f136238d6bc88b
=======
   "id": "7ac9bed1",
>>>>>>> 035bb2637984ead2784fecff78c0c60cc4181202
||||||| 3effdfa5
   "id": "1b1c21d5",
=======
   "id": "7a9fa0c5",
>>>>>>> documentation-devel
||||||| 96c826da
<<<<<<< HEAD
<<<<<<< HEAD
<<<<<<< HEAD
<<<<<<< HEAD
<<<<<<< HEAD
   "id": "d7e8265c",
||||||| 6a30bf1
   "id": "0d870996",
=======
   "id": "5d954da1",
>>>>>>> documentation-devel
||||||| d28b18c
   "id": "5d954da1",
=======
   "id": "6c12a20a",
>>>>>>> documentation-devel
||||||| 6893f63
<<<<<<< HEAD
   "id": "d7e8265c",
||||||| 6a30bf1
   "id": "0d870996",
=======
   "id": "5d954da1",
>>>>>>> documentation-devel
=======
   "id": "4eb2d8d0",
>>>>>>> c74c98c2450c2a1ba922ed9442f136238d6bc88b
||||||| 6d93b645
   "id": "6c12a20a",
=======
   "id": "1b1c21d5",
>>>>>>> documentation-devel
||||||| 804edffb
<<<<<<< HEAD
<<<<<<< HEAD
<<<<<<< HEAD
   "id": "d7e8265c",
||||||| 6a30bf1
   "id": "0d870996",
=======
   "id": "5d954da1",
>>>>>>> documentation-devel
||||||| d28b18c
   "id": "5d954da1",
=======
   "id": "6c12a20a",
>>>>>>> documentation-devel
||||||| 6893f63
<<<<<<< HEAD
   "id": "d7e8265c",
||||||| 6a30bf1
   "id": "0d870996",
=======
   "id": "5d954da1",
>>>>>>> documentation-devel
=======
   "id": "4eb2d8d0",
>>>>>>> c74c98c2450c2a1ba922ed9442f136238d6bc88b
=======
   "id": "7ac9bed1",
>>>>>>> 035bb2637984ead2784fecff78c0c60cc4181202
=======
   "id": "c6c26806",
>>>>>>> 619c01f26351d57ac14d974b7af136ac5756103f
   "metadata": {
    "lines_to_next_cell": 0
   },
   "source": [
    "Then plot the most positive and most negative eigenvalues. Note that the eigenvalues here are not variance explained. Instead, they are the product of variance explained and Moran's I. So the most positive eigenvalues correspond to eigenvectors that simultaneously explain more variance and have large positive Moran's I. The most negative eigenvalues correspond to eigenvectors that simultaneously explain more variance and have negative Moran's I."
   ]
  },
  {
   "cell_type": "code",
   "execution_count": null,
<<<<<<< HEAD
<<<<<<< HEAD
<<<<<<< HEAD
<<<<<<< HEAD
<<<<<<< HEAD
<<<<<<< HEAD
<<<<<<< HEAD
   "id": "ae160bde",
||||||| 6a30bf1
   "id": "b464d381",
=======
   "id": "8ee7b440",
>>>>>>> documentation-devel
||||||| d28b18c
   "id": "8ee7b440",
=======
   "id": "a2324bd4",
>>>>>>> documentation-devel
||||||| 6893f63
<<<<<<< HEAD
   "id": "ae160bde",
||||||| 6a30bf1
   "id": "b464d381",
=======
   "id": "8ee7b440",
>>>>>>> documentation-devel
=======
   "id": "d5e97a09",
>>>>>>> c74c98c2450c2a1ba922ed9442f136238d6bc88b
||||||| 6d93b645
   "id": "a2324bd4",
=======
   "id": "d263f5b6",
>>>>>>> documentation-devel
||||||| 804edffb
<<<<<<< HEAD
<<<<<<< HEAD
<<<<<<< HEAD
   "id": "ae160bde",
||||||| 6a30bf1
   "id": "b464d381",
=======
   "id": "8ee7b440",
>>>>>>> documentation-devel
||||||| d28b18c
   "id": "8ee7b440",
=======
   "id": "a2324bd4",
>>>>>>> documentation-devel
||||||| 6893f63
<<<<<<< HEAD
   "id": "ae160bde",
||||||| 6a30bf1
   "id": "b464d381",
=======
   "id": "8ee7b440",
>>>>>>> documentation-devel
=======
   "id": "d5e97a09",
>>>>>>> c74c98c2450c2a1ba922ed9442f136238d6bc88b
=======
   "id": "90138b50",
>>>>>>> 035bb2637984ead2784fecff78c0c60cc4181202
||||||| 3effdfa5
   "id": "d263f5b6",
=======
   "id": "d2ae8557",
>>>>>>> documentation-devel
||||||| 96c826da
<<<<<<< HEAD
<<<<<<< HEAD
<<<<<<< HEAD
<<<<<<< HEAD
<<<<<<< HEAD
   "id": "ae160bde",
||||||| 6a30bf1
   "id": "b464d381",
=======
   "id": "8ee7b440",
>>>>>>> documentation-devel
||||||| d28b18c
   "id": "8ee7b440",
=======
   "id": "a2324bd4",
>>>>>>> documentation-devel
||||||| 6893f63
<<<<<<< HEAD
   "id": "ae160bde",
||||||| 6a30bf1
   "id": "b464d381",
=======
   "id": "8ee7b440",
>>>>>>> documentation-devel
=======
   "id": "d5e97a09",
>>>>>>> c74c98c2450c2a1ba922ed9442f136238d6bc88b
||||||| 6d93b645
   "id": "a2324bd4",
=======
   "id": "d263f5b6",
>>>>>>> documentation-devel
||||||| 804edffb
<<<<<<< HEAD
<<<<<<< HEAD
<<<<<<< HEAD
   "id": "ae160bde",
||||||| 6a30bf1
   "id": "b464d381",
=======
   "id": "8ee7b440",
>>>>>>> documentation-devel
||||||| d28b18c
   "id": "8ee7b440",
=======
   "id": "a2324bd4",
>>>>>>> documentation-devel
||||||| 6893f63
<<<<<<< HEAD
   "id": "ae160bde",
||||||| 6a30bf1
   "id": "b464d381",
=======
   "id": "8ee7b440",
>>>>>>> documentation-devel
=======
   "id": "d5e97a09",
>>>>>>> c74c98c2450c2a1ba922ed9442f136238d6bc88b
=======
   "id": "90138b50",
>>>>>>> 035bb2637984ead2784fecff78c0c60cc4181202
=======
   "id": "425163c7",
>>>>>>> 619c01f26351d57ac14d974b7af136ac5756103f
   "metadata": {},
   "outputs": [],
   "source": [
    "ElbowPlot(sfe, nfnega = 20, reduction = \"multispati\")"
   ]
  },
  {
   "cell_type": "markdown",
<<<<<<< HEAD
<<<<<<< HEAD
<<<<<<< HEAD
<<<<<<< HEAD
<<<<<<< HEAD
<<<<<<< HEAD
<<<<<<< HEAD
   "id": "97446e53",
||||||| 6a30bf1
   "id": "0f5da776",
=======
   "id": "224e7488",
>>>>>>> documentation-devel
||||||| d28b18c
   "id": "224e7488",
=======
   "id": "3c4c69c1",
>>>>>>> documentation-devel
||||||| 6893f63
<<<<<<< HEAD
   "id": "97446e53",
||||||| 6a30bf1
   "id": "0f5da776",
=======
   "id": "224e7488",
>>>>>>> documentation-devel
=======
   "id": "4baa096a",
>>>>>>> c74c98c2450c2a1ba922ed9442f136238d6bc88b
||||||| 6d93b645
   "id": "3c4c69c1",
=======
   "id": "06ded738",
>>>>>>> documentation-devel
||||||| 804edffb
<<<<<<< HEAD
<<<<<<< HEAD
<<<<<<< HEAD
   "id": "97446e53",
||||||| 6a30bf1
   "id": "0f5da776",
=======
   "id": "224e7488",
>>>>>>> documentation-devel
||||||| d28b18c
   "id": "224e7488",
=======
   "id": "3c4c69c1",
>>>>>>> documentation-devel
||||||| 6893f63
<<<<<<< HEAD
   "id": "97446e53",
||||||| 6a30bf1
   "id": "0f5da776",
=======
   "id": "224e7488",
>>>>>>> documentation-devel
=======
   "id": "4baa096a",
>>>>>>> c74c98c2450c2a1ba922ed9442f136238d6bc88b
=======
   "id": "4d34104e",
>>>>>>> 035bb2637984ead2784fecff78c0c60cc4181202
||||||| 3effdfa5
   "id": "06ded738",
=======
   "id": "ded4b243",
>>>>>>> documentation-devel
||||||| 96c826da
<<<<<<< HEAD
<<<<<<< HEAD
<<<<<<< HEAD
<<<<<<< HEAD
<<<<<<< HEAD
   "id": "97446e53",
||||||| 6a30bf1
   "id": "0f5da776",
=======
   "id": "224e7488",
>>>>>>> documentation-devel
||||||| d28b18c
   "id": "224e7488",
=======
   "id": "3c4c69c1",
>>>>>>> documentation-devel
||||||| 6893f63
<<<<<<< HEAD
   "id": "97446e53",
||||||| 6a30bf1
   "id": "0f5da776",
=======
   "id": "224e7488",
>>>>>>> documentation-devel
=======
   "id": "4baa096a",
>>>>>>> c74c98c2450c2a1ba922ed9442f136238d6bc88b
||||||| 6d93b645
   "id": "3c4c69c1",
=======
   "id": "06ded738",
>>>>>>> documentation-devel
||||||| 804edffb
<<<<<<< HEAD
<<<<<<< HEAD
<<<<<<< HEAD
   "id": "97446e53",
||||||| 6a30bf1
   "id": "0f5da776",
=======
   "id": "224e7488",
>>>>>>> documentation-devel
||||||| d28b18c
   "id": "224e7488",
=======
   "id": "3c4c69c1",
>>>>>>> documentation-devel
||||||| 6893f63
<<<<<<< HEAD
   "id": "97446e53",
||||||| 6a30bf1
   "id": "0f5da776",
=======
   "id": "224e7488",
>>>>>>> documentation-devel
=======
   "id": "4baa096a",
>>>>>>> c74c98c2450c2a1ba922ed9442f136238d6bc88b
=======
   "id": "4d34104e",
>>>>>>> 035bb2637984ead2784fecff78c0c60cc4181202
=======
   "id": "e74c1fab",
>>>>>>> 619c01f26351d57ac14d974b7af136ac5756103f
   "metadata": {},
   "source": [
    "Here the positive eigenvalues drop sharply from PC1 to PC4, and there is only one very negative eigenvalue which might be interesting, which is unsurprising given the moderately negative Moran's I for `nCounts` and `nGenes`. However, from the [first MERFISH vignette](https://pachterlab.github.io/voyager/articles/vig6_merfish.html#morans-i), none of the genes have very negative Moran's I. Perhaps the negative eigenvalue comes from negative spatial autocorrelation in a gene program or \"eigengene\" and is not obvious from individual genes. This is the beauty of multivariate analysis.\n",
    "\n",
    "What do these components mean? Each component is a linear combination of genes to maximize the product of variance explained and Moran's I. The second component maximizes this product provided that it's orthogonal to the first component, and so on. As the loss in variance explained is usually not huge, these components can be considered axes along which _spatially coherent_ groups of spots are separated from each other as much as possible according to expression of the highly variable genes, so in theory, clustering with positive MULTISPATI components should give more spatially coherent clusters. Because of the spatial coherence, MULTISPATI might be more robust to outliers."
   ]
  },
  {
   "cell_type": "code",
   "execution_count": null,
<<<<<<< HEAD
<<<<<<< HEAD
<<<<<<< HEAD
<<<<<<< HEAD
<<<<<<< HEAD
<<<<<<< HEAD
<<<<<<< HEAD
   "id": "0f35eb9d",
||||||| 6a30bf1
   "id": "73ca0ae6",
=======
   "id": "6ab35efc",
>>>>>>> documentation-devel
||||||| d28b18c
   "id": "6ab35efc",
=======
   "id": "cd3949d5",
>>>>>>> documentation-devel
||||||| 6893f63
<<<<<<< HEAD
   "id": "0f35eb9d",
||||||| 6a30bf1
   "id": "73ca0ae6",
=======
   "id": "6ab35efc",
>>>>>>> documentation-devel
=======
   "id": "1b13ece0",
>>>>>>> c74c98c2450c2a1ba922ed9442f136238d6bc88b
||||||| 6d93b645
   "id": "cd3949d5",
=======
   "id": "a2162ee7",
>>>>>>> documentation-devel
||||||| 804edffb
<<<<<<< HEAD
<<<<<<< HEAD
<<<<<<< HEAD
   "id": "0f35eb9d",
||||||| 6a30bf1
   "id": "73ca0ae6",
=======
   "id": "6ab35efc",
>>>>>>> documentation-devel
||||||| d28b18c
   "id": "6ab35efc",
=======
   "id": "cd3949d5",
>>>>>>> documentation-devel
||||||| 6893f63
<<<<<<< HEAD
   "id": "0f35eb9d",
||||||| 6a30bf1
   "id": "73ca0ae6",
=======
   "id": "6ab35efc",
>>>>>>> documentation-devel
=======
   "id": "1b13ece0",
>>>>>>> c74c98c2450c2a1ba922ed9442f136238d6bc88b
=======
   "id": "6d59aec2",
>>>>>>> 035bb2637984ead2784fecff78c0c60cc4181202
||||||| 3effdfa5
   "id": "a2162ee7",
=======
   "id": "b027a9e0",
>>>>>>> documentation-devel
||||||| 96c826da
<<<<<<< HEAD
<<<<<<< HEAD
<<<<<<< HEAD
<<<<<<< HEAD
<<<<<<< HEAD
   "id": "0f35eb9d",
||||||| 6a30bf1
   "id": "73ca0ae6",
=======
   "id": "6ab35efc",
>>>>>>> documentation-devel
||||||| d28b18c
   "id": "6ab35efc",
=======
   "id": "cd3949d5",
>>>>>>> documentation-devel
||||||| 6893f63
<<<<<<< HEAD
   "id": "0f35eb9d",
||||||| 6a30bf1
   "id": "73ca0ae6",
=======
   "id": "6ab35efc",
>>>>>>> documentation-devel
=======
   "id": "1b13ece0",
>>>>>>> c74c98c2450c2a1ba922ed9442f136238d6bc88b
||||||| 6d93b645
   "id": "cd3949d5",
=======
   "id": "a2162ee7",
>>>>>>> documentation-devel
||||||| 804edffb
<<<<<<< HEAD
<<<<<<< HEAD
<<<<<<< HEAD
   "id": "0f35eb9d",
||||||| 6a30bf1
   "id": "73ca0ae6",
=======
   "id": "6ab35efc",
>>>>>>> documentation-devel
||||||| d28b18c
   "id": "6ab35efc",
=======
   "id": "cd3949d5",
>>>>>>> documentation-devel
||||||| 6893f63
<<<<<<< HEAD
   "id": "0f35eb9d",
||||||| 6a30bf1
   "id": "73ca0ae6",
=======
   "id": "6ab35efc",
>>>>>>> documentation-devel
=======
   "id": "1b13ece0",
>>>>>>> c74c98c2450c2a1ba922ed9442f136238d6bc88b
=======
   "id": "6d59aec2",
>>>>>>> 035bb2637984ead2784fecff78c0c60cc4181202
=======
   "id": "1edf3e0e",
>>>>>>> 619c01f26351d57ac14d974b7af136ac5756103f
   "metadata": {},
   "outputs": [],
   "source": [
    "plotDimLoadings(sfe, dims = c(1:3, 40), reduction = \"multispati\")"
   ]
  },
  {
   "cell_type": "markdown",
<<<<<<< HEAD
<<<<<<< HEAD
<<<<<<< HEAD
<<<<<<< HEAD
<<<<<<< HEAD
<<<<<<< HEAD
<<<<<<< HEAD
   "id": "f9bb3609",
||||||| 6a30bf1
   "id": "12a70a57",
=======
   "id": "dae2cee2",
>>>>>>> documentation-devel
||||||| d28b18c
   "id": "dae2cee2",
=======
   "id": "3f8d69f3",
>>>>>>> documentation-devel
||||||| 6893f63
<<<<<<< HEAD
   "id": "f9bb3609",
||||||| 6a30bf1
   "id": "12a70a57",
=======
   "id": "dae2cee2",
>>>>>>> documentation-devel
=======
   "id": "de6b492f",
>>>>>>> c74c98c2450c2a1ba922ed9442f136238d6bc88b
||||||| 6d93b645
   "id": "3f8d69f3",
=======
   "id": "fd8d356e",
>>>>>>> documentation-devel
||||||| 804edffb
<<<<<<< HEAD
<<<<<<< HEAD
<<<<<<< HEAD
   "id": "f9bb3609",
||||||| 6a30bf1
   "id": "12a70a57",
=======
   "id": "dae2cee2",
>>>>>>> documentation-devel
||||||| d28b18c
   "id": "dae2cee2",
=======
   "id": "3f8d69f3",
>>>>>>> documentation-devel
||||||| 6893f63
<<<<<<< HEAD
   "id": "f9bb3609",
||||||| 6a30bf1
   "id": "12a70a57",
=======
   "id": "dae2cee2",
>>>>>>> documentation-devel
=======
   "id": "de6b492f",
>>>>>>> c74c98c2450c2a1ba922ed9442f136238d6bc88b
=======
   "id": "eb313dd9",
>>>>>>> 035bb2637984ead2784fecff78c0c60cc4181202
||||||| 3effdfa5
   "id": "fd8d356e",
=======
   "id": "84a8dc43",
>>>>>>> documentation-devel
||||||| 96c826da
<<<<<<< HEAD
<<<<<<< HEAD
<<<<<<< HEAD
<<<<<<< HEAD
<<<<<<< HEAD
   "id": "f9bb3609",
||||||| 6a30bf1
   "id": "12a70a57",
=======
   "id": "dae2cee2",
>>>>>>> documentation-devel
||||||| d28b18c
   "id": "dae2cee2",
=======
   "id": "3f8d69f3",
>>>>>>> documentation-devel
||||||| 6893f63
<<<<<<< HEAD
   "id": "f9bb3609",
||||||| 6a30bf1
   "id": "12a70a57",
=======
   "id": "dae2cee2",
>>>>>>> documentation-devel
=======
   "id": "de6b492f",
>>>>>>> c74c98c2450c2a1ba922ed9442f136238d6bc88b
||||||| 6d93b645
   "id": "3f8d69f3",
=======
   "id": "fd8d356e",
>>>>>>> documentation-devel
||||||| 804edffb
<<<<<<< HEAD
<<<<<<< HEAD
<<<<<<< HEAD
   "id": "f9bb3609",
||||||| 6a30bf1
   "id": "12a70a57",
=======
   "id": "dae2cee2",
>>>>>>> documentation-devel
||||||| d28b18c
   "id": "dae2cee2",
=======
   "id": "3f8d69f3",
>>>>>>> documentation-devel
||||||| 6893f63
<<<<<<< HEAD
   "id": "f9bb3609",
||||||| 6a30bf1
   "id": "12a70a57",
=======
   "id": "dae2cee2",
>>>>>>> documentation-devel
=======
   "id": "de6b492f",
>>>>>>> c74c98c2450c2a1ba922ed9442f136238d6bc88b
=======
   "id": "eb313dd9",
>>>>>>> 035bb2637984ead2784fecff78c0c60cc4181202
=======
   "id": "1a0b381f",
>>>>>>> 619c01f26351d57ac14d974b7af136ac5756103f
   "metadata": {
    "lines_to_next_cell": 0
   },
   "source": [
    "From gene loadings, PC40 seems to separate endothelial cells and Kupffer cells from hepatocytes.\n",
    "\n",
    "Plot the these PCs:"
   ]
  },
  {
   "cell_type": "code",
   "execution_count": null,
<<<<<<< HEAD
<<<<<<< HEAD
<<<<<<< HEAD
<<<<<<< HEAD
<<<<<<< HEAD
<<<<<<< HEAD
<<<<<<< HEAD
   "id": "12a83f35",
||||||| 6a30bf1
   "id": "b9eebc12",
=======
   "id": "659eadc3",
>>>>>>> documentation-devel
||||||| d28b18c
   "id": "659eadc3",
=======
   "id": "f00f3353",
>>>>>>> documentation-devel
||||||| 6893f63
<<<<<<< HEAD
   "id": "12a83f35",
||||||| 6a30bf1
   "id": "b9eebc12",
=======
   "id": "659eadc3",
>>>>>>> documentation-devel
=======
   "id": "cdd13d7e",
>>>>>>> c74c98c2450c2a1ba922ed9442f136238d6bc88b
||||||| 6d93b645
   "id": "f00f3353",
=======
   "id": "f415f55e",
>>>>>>> documentation-devel
||||||| 804edffb
<<<<<<< HEAD
<<<<<<< HEAD
<<<<<<< HEAD
   "id": "12a83f35",
||||||| 6a30bf1
   "id": "b9eebc12",
=======
   "id": "659eadc3",
>>>>>>> documentation-devel
||||||| d28b18c
   "id": "659eadc3",
=======
   "id": "f00f3353",
>>>>>>> documentation-devel
||||||| 6893f63
<<<<<<< HEAD
   "id": "12a83f35",
||||||| 6a30bf1
   "id": "b9eebc12",
=======
   "id": "659eadc3",
>>>>>>> documentation-devel
=======
   "id": "cdd13d7e",
>>>>>>> c74c98c2450c2a1ba922ed9442f136238d6bc88b
=======
   "id": "e426b2ab",
>>>>>>> 035bb2637984ead2784fecff78c0c60cc4181202
||||||| 3effdfa5
   "id": "f415f55e",
=======
   "id": "cbc21a3d",
>>>>>>> documentation-devel
||||||| 96c826da
<<<<<<< HEAD
<<<<<<< HEAD
<<<<<<< HEAD
<<<<<<< HEAD
<<<<<<< HEAD
   "id": "12a83f35",
||||||| 6a30bf1
   "id": "b9eebc12",
=======
   "id": "659eadc3",
>>>>>>> documentation-devel
||||||| d28b18c
   "id": "659eadc3",
=======
   "id": "f00f3353",
>>>>>>> documentation-devel
||||||| 6893f63
<<<<<<< HEAD
   "id": "12a83f35",
||||||| 6a30bf1
   "id": "b9eebc12",
=======
   "id": "659eadc3",
>>>>>>> documentation-devel
=======
   "id": "cdd13d7e",
>>>>>>> c74c98c2450c2a1ba922ed9442f136238d6bc88b
||||||| 6d93b645
   "id": "f00f3353",
=======
   "id": "f415f55e",
>>>>>>> documentation-devel
||||||| 804edffb
<<<<<<< HEAD
<<<<<<< HEAD
<<<<<<< HEAD
   "id": "12a83f35",
||||||| 6a30bf1
   "id": "b9eebc12",
=======
   "id": "659eadc3",
>>>>>>> documentation-devel
||||||| d28b18c
   "id": "659eadc3",
=======
   "id": "f00f3353",
>>>>>>> documentation-devel
||||||| 6893f63
<<<<<<< HEAD
   "id": "12a83f35",
||||||| 6a30bf1
   "id": "b9eebc12",
=======
   "id": "659eadc3",
>>>>>>> documentation-devel
=======
   "id": "cdd13d7e",
>>>>>>> c74c98c2450c2a1ba922ed9442f136238d6bc88b
=======
   "id": "e426b2ab",
>>>>>>> 035bb2637984ead2784fecff78c0c60cc4181202
=======
   "id": "d76ef86c",
>>>>>>> 619c01f26351d57ac14d974b7af136ac5756103f
   "metadata": {
    "fig.height": 7,
    "fig.width": 9,
    "lines_to_next_cell": 2
   },
   "outputs": [],
   "source": [
    "spatialReducedDim(sfe, \"multispati\", components = c(1:3, 40), \n",
    "                  colGeometryName = \"cellSeg\", bbox = bbox_use,\n",
    "                  divergent = TRUE, diverge_center = 0)"
   ]
  },
  {
   "cell_type": "markdown",
<<<<<<< HEAD
<<<<<<< HEAD
<<<<<<< HEAD
<<<<<<< HEAD
<<<<<<< HEAD
<<<<<<< HEAD
<<<<<<< HEAD
   "id": "2098f5b5",
||||||| 6a30bf1
   "id": "e4b869b9",
=======
   "id": "ac6bd4e9",
>>>>>>> documentation-devel
||||||| d28b18c
   "id": "ac6bd4e9",
=======
   "id": "292f8a48",
>>>>>>> documentation-devel
||||||| 6893f63
<<<<<<< HEAD
   "id": "2098f5b5",
||||||| 6a30bf1
   "id": "e4b869b9",
=======
   "id": "ac6bd4e9",
>>>>>>> documentation-devel
=======
   "id": "befc4557",
>>>>>>> c74c98c2450c2a1ba922ed9442f136238d6bc88b
||||||| 6d93b645
   "id": "292f8a48",
=======
   "id": "b5074488",
>>>>>>> documentation-devel
||||||| 804edffb
<<<<<<< HEAD
<<<<<<< HEAD
<<<<<<< HEAD
   "id": "2098f5b5",
||||||| 6a30bf1
   "id": "e4b869b9",
=======
   "id": "ac6bd4e9",
>>>>>>> documentation-devel
||||||| d28b18c
   "id": "ac6bd4e9",
=======
   "id": "292f8a48",
>>>>>>> documentation-devel
||||||| 6893f63
<<<<<<< HEAD
   "id": "2098f5b5",
||||||| 6a30bf1
   "id": "e4b869b9",
=======
   "id": "ac6bd4e9",
>>>>>>> documentation-devel
=======
   "id": "befc4557",
>>>>>>> c74c98c2450c2a1ba922ed9442f136238d6bc88b
=======
   "id": "f634e227",
>>>>>>> 035bb2637984ead2784fecff78c0c60cc4181202
||||||| 3effdfa5
   "id": "b5074488",
=======
   "id": "159f6dac",
>>>>>>> documentation-devel
||||||| 96c826da
<<<<<<< HEAD
<<<<<<< HEAD
<<<<<<< HEAD
<<<<<<< HEAD
<<<<<<< HEAD
   "id": "2098f5b5",
||||||| 6a30bf1
   "id": "e4b869b9",
=======
   "id": "ac6bd4e9",
>>>>>>> documentation-devel
||||||| d28b18c
   "id": "ac6bd4e9",
=======
   "id": "292f8a48",
>>>>>>> documentation-devel
||||||| 6893f63
<<<<<<< HEAD
   "id": "2098f5b5",
||||||| 6a30bf1
   "id": "e4b869b9",
=======
   "id": "ac6bd4e9",
>>>>>>> documentation-devel
=======
   "id": "befc4557",
>>>>>>> c74c98c2450c2a1ba922ed9442f136238d6bc88b
||||||| 6d93b645
   "id": "292f8a48",
=======
   "id": "b5074488",
>>>>>>> documentation-devel
||||||| 804edffb
<<<<<<< HEAD
<<<<<<< HEAD
<<<<<<< HEAD
   "id": "2098f5b5",
||||||| 6a30bf1
   "id": "e4b869b9",
=======
   "id": "ac6bd4e9",
>>>>>>> documentation-devel
||||||| d28b18c
   "id": "ac6bd4e9",
=======
   "id": "292f8a48",
>>>>>>> documentation-devel
||||||| 6893f63
<<<<<<< HEAD
   "id": "2098f5b5",
||||||| 6a30bf1
   "id": "e4b869b9",
=======
   "id": "ac6bd4e9",
>>>>>>> documentation-devel
=======
   "id": "befc4557",
>>>>>>> c74c98c2450c2a1ba922ed9442f136238d6bc88b
=======
   "id": "f634e227",
>>>>>>> 035bb2637984ead2784fecff78c0c60cc4181202
=======
   "id": "e93cb952",
>>>>>>> 619c01f26351d57ac14d974b7af136ac5756103f
   "metadata": {},
   "source": [
    "The first two PCs pick up zoning. PC3 seems to have smaller scale spatial structure. PC\"40\" (should really be 300 something) is an example of negative spatial autocorrelation in biology. That Kupffer cells and endothelial cells are scattered among hepatocytes may play a functional role. This does not mean that non-spatial PCA is bad. While MULTISPATI tends not to lose too much variance explained in per PC with positive eigenvalues, it identifies co-expressed genes with spatially structured expression patterns. MULTISPATI tells a different story from non-spatial PCA. PCA cell embeddings are often used for downstream analysis. Whether to use MULTISPATI embeddings instead and which or how many PCs to use depend on the questions asked in the further downstream analyses.\n",
    "\n",
    "# Spatial autocorrelation of principal components\n",
    "## Moran's I\n",
    "Here we compare Moran's I for cell embeddings in each non-spatial and MULTISPATI PC:"
   ]
  },
  {
   "cell_type": "code",
   "execution_count": null,
<<<<<<< HEAD
<<<<<<< HEAD
<<<<<<< HEAD
<<<<<<< HEAD
<<<<<<< HEAD
<<<<<<< HEAD
<<<<<<< HEAD
   "id": "bd312b88",
||||||| 6a30bf1
   "id": "28d07eeb",
=======
   "id": "5305a9e2",
>>>>>>> documentation-devel
||||||| d28b18c
   "id": "5305a9e2",
=======
   "id": "d9306e83",
>>>>>>> documentation-devel
||||||| 6893f63
<<<<<<< HEAD
   "id": "bd312b88",
||||||| 6a30bf1
   "id": "28d07eeb",
=======
   "id": "5305a9e2",
>>>>>>> documentation-devel
=======
   "id": "d6381b12",
>>>>>>> c74c98c2450c2a1ba922ed9442f136238d6bc88b
||||||| 6d93b645
   "id": "d9306e83",
=======
   "id": "b2ce582a",
>>>>>>> documentation-devel
||||||| 804edffb
<<<<<<< HEAD
<<<<<<< HEAD
<<<<<<< HEAD
   "id": "bd312b88",
||||||| 6a30bf1
   "id": "28d07eeb",
=======
   "id": "5305a9e2",
>>>>>>> documentation-devel
||||||| d28b18c
   "id": "5305a9e2",
=======
   "id": "d9306e83",
>>>>>>> documentation-devel
||||||| 6893f63
<<<<<<< HEAD
   "id": "bd312b88",
||||||| 6a30bf1
   "id": "28d07eeb",
=======
   "id": "5305a9e2",
>>>>>>> documentation-devel
=======
   "id": "d6381b12",
>>>>>>> c74c98c2450c2a1ba922ed9442f136238d6bc88b
=======
   "id": "caaf48c8",
>>>>>>> 035bb2637984ead2784fecff78c0c60cc4181202
||||||| 3effdfa5
   "id": "b2ce582a",
=======
   "id": "402aa95c",
>>>>>>> documentation-devel
||||||| 96c826da
<<<<<<< HEAD
<<<<<<< HEAD
<<<<<<< HEAD
<<<<<<< HEAD
<<<<<<< HEAD
   "id": "bd312b88",
||||||| 6a30bf1
   "id": "28d07eeb",
=======
   "id": "5305a9e2",
>>>>>>> documentation-devel
||||||| d28b18c
   "id": "5305a9e2",
=======
   "id": "d9306e83",
>>>>>>> documentation-devel
||||||| 6893f63
<<<<<<< HEAD
   "id": "bd312b88",
||||||| 6a30bf1
   "id": "28d07eeb",
=======
   "id": "5305a9e2",
>>>>>>> documentation-devel
=======
   "id": "d6381b12",
>>>>>>> c74c98c2450c2a1ba922ed9442f136238d6bc88b
||||||| 6d93b645
   "id": "d9306e83",
=======
   "id": "b2ce582a",
>>>>>>> documentation-devel
||||||| 804edffb
<<<<<<< HEAD
<<<<<<< HEAD
<<<<<<< HEAD
   "id": "bd312b88",
||||||| 6a30bf1
   "id": "28d07eeb",
=======
   "id": "5305a9e2",
>>>>>>> documentation-devel
||||||| d28b18c
   "id": "5305a9e2",
=======
   "id": "d9306e83",
>>>>>>> documentation-devel
||||||| 6893f63
<<<<<<< HEAD
   "id": "bd312b88",
||||||| 6a30bf1
   "id": "28d07eeb",
=======
   "id": "5305a9e2",
>>>>>>> documentation-devel
=======
   "id": "d6381b12",
>>>>>>> c74c98c2450c2a1ba922ed9442f136238d6bc88b
=======
   "id": "caaf48c8",
>>>>>>> 035bb2637984ead2784fecff78c0c60cc4181202
=======
   "id": "1b7ad0c8",
>>>>>>> 619c01f26351d57ac14d974b7af136ac5756103f
   "metadata": {},
   "outputs": [],
   "source": [
    "# non-spatial\n",
    "sfe <- reducedDimMoransI(sfe, dimred = \"PCA\", components = 1:20,\n",
    "                         BPPARAM = MulticoreParam(2))\n",
    "# spatial\n",
    "sfe <- reducedDimMoransI(sfe, dimred = \"multispati\", components = 1:40,\n",
    "                         BPPARAM = MulticoreParam(2))"
   ]
  },
  {
   "cell_type": "code",
   "execution_count": null,
<<<<<<< HEAD
<<<<<<< HEAD
<<<<<<< HEAD
<<<<<<< HEAD
<<<<<<< HEAD
<<<<<<< HEAD
<<<<<<< HEAD
   "id": "83a882b1",
||||||| 6a30bf1
   "id": "9bf9e59b",
=======
   "id": "98fa9059",
>>>>>>> documentation-devel
||||||| d28b18c
   "id": "98fa9059",
=======
   "id": "60489476",
>>>>>>> documentation-devel
||||||| 6893f63
<<<<<<< HEAD
   "id": "83a882b1",
||||||| 6a30bf1
   "id": "9bf9e59b",
=======
   "id": "98fa9059",
>>>>>>> documentation-devel
=======
   "id": "78daebe0",
>>>>>>> c74c98c2450c2a1ba922ed9442f136238d6bc88b
||||||| 6d93b645
   "id": "60489476",
=======
   "id": "b77903f7",
>>>>>>> documentation-devel
||||||| 804edffb
<<<<<<< HEAD
<<<<<<< HEAD
<<<<<<< HEAD
   "id": "83a882b1",
||||||| 6a30bf1
   "id": "9bf9e59b",
=======
   "id": "98fa9059",
>>>>>>> documentation-devel
||||||| d28b18c
   "id": "98fa9059",
=======
   "id": "60489476",
>>>>>>> documentation-devel
||||||| 6893f63
<<<<<<< HEAD
   "id": "83a882b1",
||||||| 6a30bf1
   "id": "9bf9e59b",
=======
   "id": "98fa9059",
>>>>>>> documentation-devel
=======
   "id": "78daebe0",
>>>>>>> c74c98c2450c2a1ba922ed9442f136238d6bc88b
=======
   "id": "2eb2938f",
>>>>>>> 035bb2637984ead2784fecff78c0c60cc4181202
||||||| 3effdfa5
   "id": "b77903f7",
=======
   "id": "2de5fb97",
>>>>>>> documentation-devel
||||||| 96c826da
<<<<<<< HEAD
<<<<<<< HEAD
<<<<<<< HEAD
<<<<<<< HEAD
<<<<<<< HEAD
   "id": "83a882b1",
||||||| 6a30bf1
   "id": "9bf9e59b",
=======
   "id": "98fa9059",
>>>>>>> documentation-devel
||||||| d28b18c
   "id": "98fa9059",
=======
   "id": "60489476",
>>>>>>> documentation-devel
||||||| 6893f63
<<<<<<< HEAD
   "id": "83a882b1",
||||||| 6a30bf1
   "id": "9bf9e59b",
=======
   "id": "98fa9059",
>>>>>>> documentation-devel
=======
   "id": "78daebe0",
>>>>>>> c74c98c2450c2a1ba922ed9442f136238d6bc88b
||||||| 6d93b645
   "id": "60489476",
=======
   "id": "b77903f7",
>>>>>>> documentation-devel
||||||| 804edffb
<<<<<<< HEAD
<<<<<<< HEAD
<<<<<<< HEAD
   "id": "83a882b1",
||||||| 6a30bf1
   "id": "9bf9e59b",
=======
   "id": "98fa9059",
>>>>>>> documentation-devel
||||||| d28b18c
   "id": "98fa9059",
=======
   "id": "60489476",
>>>>>>> documentation-devel
||||||| 6893f63
<<<<<<< HEAD
   "id": "83a882b1",
||||||| 6a30bf1
   "id": "9bf9e59b",
=======
   "id": "98fa9059",
>>>>>>> documentation-devel
=======
   "id": "78daebe0",
>>>>>>> c74c98c2450c2a1ba922ed9442f136238d6bc88b
=======
   "id": "2eb2938f",
>>>>>>> 035bb2637984ead2784fecff78c0c60cc4181202
=======
   "id": "704c5af0",
>>>>>>> 619c01f26351d57ac14d974b7af136ac5756103f
   "metadata": {},
   "outputs": [],
   "source": [
    "df_moran <- tibble(PCA = reducedDimFeatureData(sfe, \"PCA\")$moran_sample01[1:20],\n",
    "                   MULTISPATI_pos = \n",
    "                       reducedDimFeatureData(sfe, \"multispati\")$moran_sample01[1:20],\n",
    "                   MULTISPATI_neg = \n",
    "                       reducedDimFeatureData(sfe,\"multispati\")$moran_sample01[21:40] |> \n",
    "                       rev(),\n",
    "                   index = 1:20)"
   ]
  },
  {
   "cell_type": "code",
   "execution_count": null,
<<<<<<< HEAD
<<<<<<< HEAD
<<<<<<< HEAD
<<<<<<< HEAD
<<<<<<< HEAD
<<<<<<< HEAD
<<<<<<< HEAD
   "id": "000ca49b",
||||||| 6a30bf1
   "id": "37332935",
=======
   "id": "d07e6402",
>>>>>>> documentation-devel
||||||| d28b18c
   "id": "d07e6402",
=======
   "id": "d3f2cb78",
>>>>>>> documentation-devel
||||||| 6893f63
<<<<<<< HEAD
   "id": "000ca49b",
||||||| 6a30bf1
   "id": "37332935",
=======
   "id": "d07e6402",
>>>>>>> documentation-devel
=======
   "id": "ef153b55",
>>>>>>> c74c98c2450c2a1ba922ed9442f136238d6bc88b
||||||| 6d93b645
   "id": "d3f2cb78",
=======
   "id": "51813130",
>>>>>>> documentation-devel
||||||| 804edffb
<<<<<<< HEAD
<<<<<<< HEAD
<<<<<<< HEAD
   "id": "000ca49b",
||||||| 6a30bf1
   "id": "37332935",
=======
   "id": "d07e6402",
>>>>>>> documentation-devel
||||||| d28b18c
   "id": "d07e6402",
=======
   "id": "d3f2cb78",
>>>>>>> documentation-devel
||||||| 6893f63
<<<<<<< HEAD
   "id": "000ca49b",
||||||| 6a30bf1
   "id": "37332935",
=======
   "id": "d07e6402",
>>>>>>> documentation-devel
=======
   "id": "ef153b55",
>>>>>>> c74c98c2450c2a1ba922ed9442f136238d6bc88b
=======
   "id": "60f78a99",
>>>>>>> 035bb2637984ead2784fecff78c0c60cc4181202
||||||| 3effdfa5
   "id": "51813130",
=======
   "id": "56edadf4",
>>>>>>> documentation-devel
||||||| 96c826da
<<<<<<< HEAD
<<<<<<< HEAD
<<<<<<< HEAD
<<<<<<< HEAD
<<<<<<< HEAD
   "id": "000ca49b",
||||||| 6a30bf1
   "id": "37332935",
=======
   "id": "d07e6402",
>>>>>>> documentation-devel
||||||| d28b18c
   "id": "d07e6402",
=======
   "id": "d3f2cb78",
>>>>>>> documentation-devel
||||||| 6893f63
<<<<<<< HEAD
   "id": "000ca49b",
||||||| 6a30bf1
   "id": "37332935",
=======
   "id": "d07e6402",
>>>>>>> documentation-devel
=======
   "id": "ef153b55",
>>>>>>> c74c98c2450c2a1ba922ed9442f136238d6bc88b
||||||| 6d93b645
   "id": "d3f2cb78",
=======
   "id": "51813130",
>>>>>>> documentation-devel
||||||| 804edffb
<<<<<<< HEAD
<<<<<<< HEAD
<<<<<<< HEAD
   "id": "000ca49b",
||||||| 6a30bf1
   "id": "37332935",
=======
   "id": "d07e6402",
>>>>>>> documentation-devel
||||||| d28b18c
   "id": "d07e6402",
=======
   "id": "d3f2cb78",
>>>>>>> documentation-devel
||||||| 6893f63
<<<<<<< HEAD
   "id": "000ca49b",
||||||| 6a30bf1
   "id": "37332935",
=======
   "id": "d07e6402",
>>>>>>> documentation-devel
=======
   "id": "ef153b55",
>>>>>>> c74c98c2450c2a1ba922ed9442f136238d6bc88b
=======
   "id": "60f78a99",
>>>>>>> 035bb2637984ead2784fecff78c0c60cc4181202
=======
   "id": "c56b20fb",
>>>>>>> 619c01f26351d57ac14d974b7af136ac5756103f
   "metadata": {},
   "outputs": [],
   "source": [
    "data(\"ditto_colors\")"
   ]
  },
  {
   "cell_type": "code",
   "execution_count": null,
<<<<<<< HEAD
<<<<<<< HEAD
<<<<<<< HEAD
<<<<<<< HEAD
<<<<<<< HEAD
<<<<<<< HEAD
<<<<<<< HEAD
   "id": "2701b01f",
||||||| 6a30bf1
   "id": "f6420f27",
=======
   "id": "fc723d15",
>>>>>>> documentation-devel
||||||| d28b18c
   "id": "fc723d15",
=======
   "id": "588d9e0e",
>>>>>>> documentation-devel
||||||| 6893f63
<<<<<<< HEAD
   "id": "2701b01f",
||||||| 6a30bf1
   "id": "f6420f27",
=======
   "id": "fc723d15",
>>>>>>> documentation-devel
=======
   "id": "f8ffc7be",
>>>>>>> c74c98c2450c2a1ba922ed9442f136238d6bc88b
||||||| 6d93b645
   "id": "588d9e0e",
=======
   "id": "44b113a2",
>>>>>>> documentation-devel
||||||| 804edffb
<<<<<<< HEAD
<<<<<<< HEAD
<<<<<<< HEAD
   "id": "2701b01f",
||||||| 6a30bf1
   "id": "f6420f27",
=======
   "id": "fc723d15",
>>>>>>> documentation-devel
||||||| d28b18c
   "id": "fc723d15",
=======
   "id": "588d9e0e",
>>>>>>> documentation-devel
||||||| 6893f63
<<<<<<< HEAD
   "id": "2701b01f",
||||||| 6a30bf1
   "id": "f6420f27",
=======
   "id": "fc723d15",
>>>>>>> documentation-devel
=======
   "id": "f8ffc7be",
>>>>>>> c74c98c2450c2a1ba922ed9442f136238d6bc88b
=======
   "id": "f44bbe58",
>>>>>>> 035bb2637984ead2784fecff78c0c60cc4181202
||||||| 3effdfa5
   "id": "44b113a2",
=======
   "id": "a4540ad3",
>>>>>>> documentation-devel
||||||| 96c826da
<<<<<<< HEAD
<<<<<<< HEAD
<<<<<<< HEAD
<<<<<<< HEAD
<<<<<<< HEAD
   "id": "2701b01f",
||||||| 6a30bf1
   "id": "f6420f27",
=======
   "id": "fc723d15",
>>>>>>> documentation-devel
||||||| d28b18c
   "id": "fc723d15",
=======
   "id": "588d9e0e",
>>>>>>> documentation-devel
||||||| 6893f63
<<<<<<< HEAD
   "id": "2701b01f",
||||||| 6a30bf1
   "id": "f6420f27",
=======
   "id": "fc723d15",
>>>>>>> documentation-devel
=======
   "id": "f8ffc7be",
>>>>>>> c74c98c2450c2a1ba922ed9442f136238d6bc88b
||||||| 6d93b645
   "id": "588d9e0e",
=======
   "id": "44b113a2",
>>>>>>> documentation-devel
||||||| 804edffb
<<<<<<< HEAD
<<<<<<< HEAD
<<<<<<< HEAD
   "id": "2701b01f",
||||||| 6a30bf1
   "id": "f6420f27",
=======
   "id": "fc723d15",
>>>>>>> documentation-devel
||||||| d28b18c
   "id": "fc723d15",
=======
   "id": "588d9e0e",
>>>>>>> documentation-devel
||||||| 6893f63
<<<<<<< HEAD
   "id": "2701b01f",
||||||| 6a30bf1
   "id": "f6420f27",
=======
   "id": "fc723d15",
>>>>>>> documentation-devel
=======
   "id": "f8ffc7be",
>>>>>>> c74c98c2450c2a1ba922ed9442f136238d6bc88b
=======
   "id": "f44bbe58",
>>>>>>> 035bb2637984ead2784fecff78c0c60cc4181202
=======
   "id": "15caa743",
>>>>>>> 619c01f26351d57ac14d974b7af136ac5756103f
   "metadata": {},
   "outputs": [],
   "source": [
    "df_moran |> \n",
    "    pivot_longer(cols = -index, values_to = \"value\", names_to = \"name\") |> \n",
    "    ggplot(aes(index, value, color = name)) +\n",
    "    geom_line() +\n",
    "    scale_color_manual(values = ditto_colors) +\n",
    "    geom_hline(yintercept = 0, color = \"gray\") +\n",
    "    geom_hline(yintercept = mb, linetype = 2, color = \"gray\") +\n",
    "    scale_y_continuous(breaks = scales::breaks_pretty()) +\n",
    "    scale_x_continuous(breaks = scales::breaks_width(5)) +\n",
    "    labs(y = \"Moran's I\", color = \"Type\", x = \"Component\")"
   ]
  },
  {
   "cell_type": "markdown",
<<<<<<< HEAD
<<<<<<< HEAD
<<<<<<< HEAD
<<<<<<< HEAD
<<<<<<< HEAD
<<<<<<< HEAD
<<<<<<< HEAD
   "id": "d479a5c4",
||||||| 6a30bf1
   "id": "ef4b58f8",
=======
   "id": "8b4d7d90",
>>>>>>> documentation-devel
||||||| d28b18c
   "id": "8b4d7d90",
=======
   "id": "cd261149",
>>>>>>> documentation-devel
||||||| 6893f63
<<<<<<< HEAD
   "id": "d479a5c4",
||||||| 6a30bf1
   "id": "ef4b58f8",
=======
   "id": "8b4d7d90",
>>>>>>> documentation-devel
=======
   "id": "7ad3d355",
>>>>>>> c74c98c2450c2a1ba922ed9442f136238d6bc88b
||||||| 6d93b645
   "id": "cd261149",
=======
   "id": "79fdcc18",
>>>>>>> documentation-devel
||||||| 804edffb
<<<<<<< HEAD
<<<<<<< HEAD
<<<<<<< HEAD
   "id": "d479a5c4",
||||||| 6a30bf1
   "id": "ef4b58f8",
=======
   "id": "8b4d7d90",
>>>>>>> documentation-devel
||||||| d28b18c
   "id": "8b4d7d90",
=======
   "id": "cd261149",
>>>>>>> documentation-devel
||||||| 6893f63
<<<<<<< HEAD
   "id": "d479a5c4",
||||||| 6a30bf1
   "id": "ef4b58f8",
=======
   "id": "8b4d7d90",
>>>>>>> documentation-devel
=======
   "id": "7ad3d355",
>>>>>>> c74c98c2450c2a1ba922ed9442f136238d6bc88b
=======
   "id": "2b133785",
>>>>>>> 035bb2637984ead2784fecff78c0c60cc4181202
||||||| 3effdfa5
   "id": "79fdcc18",
=======
   "id": "f97d55d7",
>>>>>>> documentation-devel
||||||| 96c826da
<<<<<<< HEAD
<<<<<<< HEAD
<<<<<<< HEAD
<<<<<<< HEAD
<<<<<<< HEAD
   "id": "d479a5c4",
||||||| 6a30bf1
   "id": "ef4b58f8",
=======
   "id": "8b4d7d90",
>>>>>>> documentation-devel
||||||| d28b18c
   "id": "8b4d7d90",
=======
   "id": "cd261149",
>>>>>>> documentation-devel
||||||| 6893f63
<<<<<<< HEAD
   "id": "d479a5c4",
||||||| 6a30bf1
   "id": "ef4b58f8",
=======
   "id": "8b4d7d90",
>>>>>>> documentation-devel
=======
   "id": "7ad3d355",
>>>>>>> c74c98c2450c2a1ba922ed9442f136238d6bc88b
||||||| 6d93b645
   "id": "cd261149",
=======
   "id": "79fdcc18",
>>>>>>> documentation-devel
||||||| 804edffb
<<<<<<< HEAD
<<<<<<< HEAD
<<<<<<< HEAD
   "id": "d479a5c4",
||||||| 6a30bf1
   "id": "ef4b58f8",
=======
   "id": "8b4d7d90",
>>>>>>> documentation-devel
||||||| d28b18c
   "id": "8b4d7d90",
=======
   "id": "cd261149",
>>>>>>> documentation-devel
||||||| 6893f63
<<<<<<< HEAD
   "id": "d479a5c4",
||||||| 6a30bf1
   "id": "ef4b58f8",
=======
   "id": "8b4d7d90",
>>>>>>> documentation-devel
=======
   "id": "7ad3d355",
>>>>>>> c74c98c2450c2a1ba922ed9442f136238d6bc88b
=======
   "id": "2b133785",
>>>>>>> 035bb2637984ead2784fecff78c0c60cc4181202
=======
   "id": "4baddfe1",
>>>>>>> 619c01f26351d57ac14d974b7af136ac5756103f
   "metadata": {},
   "source": [
    "In MULTISPATI, Moran's I is high in PC1 and PC2, but then sharply drops. Moran's I for the PC with the most negative eigenvalues is not very negative, which means the large magnitude of that eigenvalue comes from explaining more variance. However, considering the lower bound of Moran's I that is around -0.6 instead of -1, the magnitude of Moran's I for the PC with the most negative eigenvalue is not trivial."
   ]
  },
  {
   "cell_type": "code",
   "execution_count": null,
<<<<<<< HEAD
<<<<<<< HEAD
<<<<<<< HEAD
<<<<<<< HEAD
<<<<<<< HEAD
<<<<<<< HEAD
<<<<<<< HEAD
   "id": "981b1669",
||||||| 6a30bf1
   "id": "dfdb158d",
=======
   "id": "ea646975",
>>>>>>> documentation-devel
||||||| d28b18c
   "id": "ea646975",
=======
   "id": "ca535bc4",
>>>>>>> documentation-devel
||||||| 6893f63
<<<<<<< HEAD
   "id": "981b1669",
||||||| 6a30bf1
   "id": "dfdb158d",
=======
   "id": "ea646975",
>>>>>>> documentation-devel
=======
   "id": "0993056d",
>>>>>>> c74c98c2450c2a1ba922ed9442f136238d6bc88b
||||||| 6d93b645
   "id": "ca535bc4",
=======
   "id": "7f38f353",
>>>>>>> documentation-devel
||||||| 804edffb
<<<<<<< HEAD
<<<<<<< HEAD
<<<<<<< HEAD
   "id": "981b1669",
||||||| 6a30bf1
   "id": "dfdb158d",
=======
   "id": "ea646975",
>>>>>>> documentation-devel
||||||| d28b18c
   "id": "ea646975",
=======
   "id": "ca535bc4",
>>>>>>> documentation-devel
||||||| 6893f63
<<<<<<< HEAD
   "id": "981b1669",
||||||| 6a30bf1
   "id": "dfdb158d",
=======
   "id": "ea646975",
>>>>>>> documentation-devel
=======
   "id": "0993056d",
>>>>>>> c74c98c2450c2a1ba922ed9442f136238d6bc88b
=======
   "id": "0ad29411",
>>>>>>> 035bb2637984ead2784fecff78c0c60cc4181202
||||||| 3effdfa5
   "id": "7f38f353",
=======
   "id": "7c2bfe72",
>>>>>>> documentation-devel
||||||| 96c826da
<<<<<<< HEAD
<<<<<<< HEAD
<<<<<<< HEAD
<<<<<<< HEAD
<<<<<<< HEAD
   "id": "981b1669",
||||||| 6a30bf1
   "id": "dfdb158d",
=======
   "id": "ea646975",
>>>>>>> documentation-devel
||||||| d28b18c
   "id": "ea646975",
=======
   "id": "ca535bc4",
>>>>>>> documentation-devel
||||||| 6893f63
<<<<<<< HEAD
   "id": "981b1669",
||||||| 6a30bf1
   "id": "dfdb158d",
=======
   "id": "ea646975",
>>>>>>> documentation-devel
=======
   "id": "0993056d",
>>>>>>> c74c98c2450c2a1ba922ed9442f136238d6bc88b
||||||| 6d93b645
   "id": "ca535bc4",
=======
   "id": "7f38f353",
>>>>>>> documentation-devel
||||||| 804edffb
<<<<<<< HEAD
<<<<<<< HEAD
<<<<<<< HEAD
   "id": "981b1669",
||||||| 6a30bf1
   "id": "dfdb158d",
=======
   "id": "ea646975",
>>>>>>> documentation-devel
||||||| d28b18c
   "id": "ea646975",
=======
   "id": "ca535bc4",
>>>>>>> documentation-devel
||||||| 6893f63
<<<<<<< HEAD
   "id": "981b1669",
||||||| 6a30bf1
   "id": "dfdb158d",
=======
   "id": "ea646975",
>>>>>>> documentation-devel
=======
   "id": "0993056d",
>>>>>>> c74c98c2450c2a1ba922ed9442f136238d6bc88b
=======
   "id": "0ad29411",
>>>>>>> 035bb2637984ead2784fecff78c0c60cc4181202
=======
   "id": "d9d593ea",
>>>>>>> 619c01f26351d57ac14d974b7af136ac5756103f
   "metadata": {},
   "outputs": [],
   "source": [
    "min(df_moran$MULTISPATI_neg) / mb[1]"
   ]
  },
  {
   "cell_type": "markdown",
<<<<<<< HEAD
<<<<<<< HEAD
<<<<<<< HEAD
<<<<<<< HEAD
<<<<<<< HEAD
<<<<<<< HEAD
<<<<<<< HEAD
   "id": "898395dd",
||||||| 6a30bf1
   "id": "90bf44fc",
=======
   "id": "ec2321b7",
>>>>>>> documentation-devel
||||||| d28b18c
   "id": "ec2321b7",
=======
   "id": "4d30f7ca",
>>>>>>> documentation-devel
||||||| 6893f63
<<<<<<< HEAD
   "id": "898395dd",
||||||| 6a30bf1
   "id": "90bf44fc",
=======
   "id": "ec2321b7",
>>>>>>> documentation-devel
=======
   "id": "abc3f812",
>>>>>>> c74c98c2450c2a1ba922ed9442f136238d6bc88b
||||||| 6d93b645
   "id": "4d30f7ca",
=======
   "id": "50bc92f9",
>>>>>>> documentation-devel
||||||| 804edffb
<<<<<<< HEAD
<<<<<<< HEAD
<<<<<<< HEAD
   "id": "898395dd",
||||||| 6a30bf1
   "id": "90bf44fc",
=======
   "id": "ec2321b7",
>>>>>>> documentation-devel
||||||| d28b18c
   "id": "ec2321b7",
=======
   "id": "4d30f7ca",
>>>>>>> documentation-devel
||||||| 6893f63
<<<<<<< HEAD
   "id": "898395dd",
||||||| 6a30bf1
   "id": "90bf44fc",
=======
   "id": "ec2321b7",
>>>>>>> documentation-devel
=======
   "id": "abc3f812",
>>>>>>> c74c98c2450c2a1ba922ed9442f136238d6bc88b
=======
   "id": "f3ef965b",
>>>>>>> 035bb2637984ead2784fecff78c0c60cc4181202
||||||| 3effdfa5
   "id": "50bc92f9",
=======
   "id": "9c294f42",
>>>>>>> documentation-devel
||||||| 96c826da
<<<<<<< HEAD
<<<<<<< HEAD
<<<<<<< HEAD
<<<<<<< HEAD
<<<<<<< HEAD
   "id": "898395dd",
||||||| 6a30bf1
   "id": "90bf44fc",
=======
   "id": "ec2321b7",
>>>>>>> documentation-devel
||||||| d28b18c
   "id": "ec2321b7",
=======
   "id": "4d30f7ca",
>>>>>>> documentation-devel
||||||| 6893f63
<<<<<<< HEAD
   "id": "898395dd",
||||||| 6a30bf1
   "id": "90bf44fc",
=======
   "id": "ec2321b7",
>>>>>>> documentation-devel
=======
   "id": "abc3f812",
>>>>>>> c74c98c2450c2a1ba922ed9442f136238d6bc88b
||||||| 6d93b645
   "id": "4d30f7ca",
=======
   "id": "50bc92f9",
>>>>>>> documentation-devel
||||||| 804edffb
<<<<<<< HEAD
<<<<<<< HEAD
<<<<<<< HEAD
   "id": "898395dd",
||||||| 6a30bf1
   "id": "90bf44fc",
=======
   "id": "ec2321b7",
>>>>>>> documentation-devel
||||||| d28b18c
   "id": "ec2321b7",
=======
   "id": "4d30f7ca",
>>>>>>> documentation-devel
||||||| 6893f63
<<<<<<< HEAD
   "id": "898395dd",
||||||| 6a30bf1
   "id": "90bf44fc",
=======
   "id": "ec2321b7",
>>>>>>> documentation-devel
=======
   "id": "abc3f812",
>>>>>>> c74c98c2450c2a1ba922ed9442f136238d6bc88b
=======
   "id": "f3ef965b",
>>>>>>> 035bb2637984ead2784fecff78c0c60cc4181202
=======
   "id": "4223fdaf",
>>>>>>> 619c01f26351d57ac14d974b7af136ac5756103f
   "metadata": {},
   "source": [
    "Non-spatial PCs are not sorted by Moran's I; PC5 has surprising large Moran's I. "
   ]
  },
  {
   "cell_type": "code",
   "execution_count": null,
<<<<<<< HEAD
<<<<<<< HEAD
<<<<<<< HEAD
<<<<<<< HEAD
<<<<<<< HEAD
<<<<<<< HEAD
<<<<<<< HEAD
   "id": "e822edd7",
||||||| 6a30bf1
   "id": "691cc92c",
=======
   "id": "1bfada0e",
>>>>>>> documentation-devel
||||||| d28b18c
   "id": "1bfada0e",
=======
   "id": "dcbb49a6",
>>>>>>> documentation-devel
||||||| 6893f63
<<<<<<< HEAD
   "id": "e822edd7",
||||||| 6a30bf1
   "id": "691cc92c",
=======
   "id": "1bfada0e",
>>>>>>> documentation-devel
=======
   "id": "b263ca70",
>>>>>>> c74c98c2450c2a1ba922ed9442f136238d6bc88b
||||||| 6d93b645
   "id": "dcbb49a6",
=======
   "id": "a6f49311",
>>>>>>> documentation-devel
||||||| 804edffb
<<<<<<< HEAD
<<<<<<< HEAD
<<<<<<< HEAD
   "id": "e822edd7",
||||||| 6a30bf1
   "id": "691cc92c",
=======
   "id": "1bfada0e",
>>>>>>> documentation-devel
||||||| d28b18c
   "id": "1bfada0e",
=======
   "id": "dcbb49a6",
>>>>>>> documentation-devel
||||||| 6893f63
<<<<<<< HEAD
   "id": "e822edd7",
||||||| 6a30bf1
   "id": "691cc92c",
=======
   "id": "1bfada0e",
>>>>>>> documentation-devel
=======
   "id": "b263ca70",
>>>>>>> c74c98c2450c2a1ba922ed9442f136238d6bc88b
=======
   "id": "ce2d1692",
>>>>>>> 035bb2637984ead2784fecff78c0c60cc4181202
||||||| 3effdfa5
   "id": "a6f49311",
=======
   "id": "95146c99",
>>>>>>> documentation-devel
||||||| 96c826da
<<<<<<< HEAD
<<<<<<< HEAD
<<<<<<< HEAD
<<<<<<< HEAD
<<<<<<< HEAD
   "id": "e822edd7",
||||||| 6a30bf1
   "id": "691cc92c",
=======
   "id": "1bfada0e",
>>>>>>> documentation-devel
||||||| d28b18c
   "id": "1bfada0e",
=======
   "id": "dcbb49a6",
>>>>>>> documentation-devel
||||||| 6893f63
<<<<<<< HEAD
   "id": "e822edd7",
||||||| 6a30bf1
   "id": "691cc92c",
=======
   "id": "1bfada0e",
>>>>>>> documentation-devel
=======
   "id": "b263ca70",
>>>>>>> c74c98c2450c2a1ba922ed9442f136238d6bc88b
||||||| 6d93b645
   "id": "dcbb49a6",
=======
   "id": "a6f49311",
>>>>>>> documentation-devel
||||||| 804edffb
<<<<<<< HEAD
<<<<<<< HEAD
<<<<<<< HEAD
   "id": "e822edd7",
||||||| 6a30bf1
   "id": "691cc92c",
=======
   "id": "1bfada0e",
>>>>>>> documentation-devel
||||||| d28b18c
   "id": "1bfada0e",
=======
   "id": "dcbb49a6",
>>>>>>> documentation-devel
||||||| 6893f63
<<<<<<< HEAD
   "id": "e822edd7",
||||||| 6a30bf1
   "id": "691cc92c",
=======
   "id": "1bfada0e",
>>>>>>> documentation-devel
=======
   "id": "b263ca70",
>>>>>>> c74c98c2450c2a1ba922ed9442f136238d6bc88b
=======
   "id": "ce2d1692",
>>>>>>> 035bb2637984ead2784fecff78c0c60cc4181202
=======
   "id": "a7a83ebb",
>>>>>>> 619c01f26351d57ac14d974b7af136ac5756103f
   "metadata": {},
   "outputs": [],
   "source": [
    "spatialReducedDim(sfe, \"PCA\", component = 5, colGeometryName = \"cellSeg\", \n",
    "                  divergent = TRUE, diverge_center = 0, bbox = bbox_use)"
   ]
  },
  {
   "cell_type": "markdown",
<<<<<<< HEAD
<<<<<<< HEAD
<<<<<<< HEAD
<<<<<<< HEAD
<<<<<<< HEAD
<<<<<<< HEAD
<<<<<<< HEAD
   "id": "0ce8fb3b",
||||||| 6a30bf1
   "id": "031cede2",
=======
   "id": "7764fb4c",
>>>>>>> documentation-devel
||||||| d28b18c
   "id": "7764fb4c",
=======
   "id": "bb9069c8",
>>>>>>> documentation-devel
||||||| 6893f63
<<<<<<< HEAD
   "id": "0ce8fb3b",
||||||| 6a30bf1
   "id": "031cede2",
=======
   "id": "7764fb4c",
>>>>>>> documentation-devel
=======
   "id": "bade6cb3",
>>>>>>> c74c98c2450c2a1ba922ed9442f136238d6bc88b
||||||| 6d93b645
   "id": "bb9069c8",
=======
   "id": "82a9b053",
>>>>>>> documentation-devel
||||||| 804edffb
<<<<<<< HEAD
<<<<<<< HEAD
<<<<<<< HEAD
   "id": "0ce8fb3b",
||||||| 6a30bf1
   "id": "031cede2",
=======
   "id": "7764fb4c",
>>>>>>> documentation-devel
||||||| d28b18c
   "id": "7764fb4c",
=======
   "id": "bb9069c8",
>>>>>>> documentation-devel
||||||| 6893f63
<<<<<<< HEAD
   "id": "0ce8fb3b",
||||||| 6a30bf1
   "id": "031cede2",
=======
   "id": "7764fb4c",
>>>>>>> documentation-devel
=======
   "id": "bade6cb3",
>>>>>>> c74c98c2450c2a1ba922ed9442f136238d6bc88b
=======
   "id": "0dbe8e1d",
>>>>>>> 035bb2637984ead2784fecff78c0c60cc4181202
||||||| 3effdfa5
   "id": "82a9b053",
=======
   "id": "fdc71a6a",
>>>>>>> documentation-devel
||||||| 96c826da
<<<<<<< HEAD
<<<<<<< HEAD
<<<<<<< HEAD
<<<<<<< HEAD
<<<<<<< HEAD
   "id": "0ce8fb3b",
||||||| 6a30bf1
   "id": "031cede2",
=======
   "id": "7764fb4c",
>>>>>>> documentation-devel
||||||| d28b18c
   "id": "7764fb4c",
=======
   "id": "bb9069c8",
>>>>>>> documentation-devel
||||||| 6893f63
<<<<<<< HEAD
   "id": "0ce8fb3b",
||||||| 6a30bf1
   "id": "031cede2",
=======
   "id": "7764fb4c",
>>>>>>> documentation-devel
=======
   "id": "bade6cb3",
>>>>>>> c74c98c2450c2a1ba922ed9442f136238d6bc88b
||||||| 6d93b645
   "id": "bb9069c8",
=======
   "id": "82a9b053",
>>>>>>> documentation-devel
||||||| 804edffb
<<<<<<< HEAD
<<<<<<< HEAD
<<<<<<< HEAD
   "id": "0ce8fb3b",
||||||| 6a30bf1
   "id": "031cede2",
=======
   "id": "7764fb4c",
>>>>>>> documentation-devel
||||||| d28b18c
   "id": "7764fb4c",
=======
   "id": "bb9069c8",
>>>>>>> documentation-devel
||||||| 6893f63
<<<<<<< HEAD
   "id": "0ce8fb3b",
||||||| 6a30bf1
   "id": "031cede2",
=======
   "id": "7764fb4c",
>>>>>>> documentation-devel
=======
   "id": "bade6cb3",
>>>>>>> c74c98c2450c2a1ba922ed9442f136238d6bc88b
=======
   "id": "0dbe8e1d",
>>>>>>> 035bb2637984ead2784fecff78c0c60cc4181202
=======
   "id": "ce6ce711",
>>>>>>> 619c01f26351d57ac14d974b7af136ac5756103f
   "metadata": {},
   "source": [
    "PC5 must be about zonation. Also show a larger scale:"
   ]
  },
  {
   "cell_type": "code",
   "execution_count": null,
<<<<<<< HEAD
<<<<<<< HEAD
<<<<<<< HEAD
<<<<<<< HEAD
<<<<<<< HEAD
<<<<<<< HEAD
<<<<<<< HEAD
   "id": "32921eee",
||||||| 6a30bf1
   "id": "8d5216d9",
=======
   "id": "08003231",
>>>>>>> documentation-devel
||||||| d28b18c
   "id": "08003231",
=======
   "id": "4cb19a21",
>>>>>>> documentation-devel
||||||| 6893f63
<<<<<<< HEAD
   "id": "32921eee",
||||||| 6a30bf1
   "id": "8d5216d9",
=======
   "id": "08003231",
>>>>>>> documentation-devel
=======
   "id": "1a6d8104",
>>>>>>> c74c98c2450c2a1ba922ed9442f136238d6bc88b
||||||| 6d93b645
   "id": "4cb19a21",
=======
   "id": "17724451",
>>>>>>> documentation-devel
||||||| 804edffb
<<<<<<< HEAD
<<<<<<< HEAD
<<<<<<< HEAD
   "id": "32921eee",
||||||| 6a30bf1
   "id": "8d5216d9",
=======
   "id": "08003231",
>>>>>>> documentation-devel
||||||| d28b18c
   "id": "08003231",
=======
   "id": "4cb19a21",
>>>>>>> documentation-devel
||||||| 6893f63
<<<<<<< HEAD
   "id": "32921eee",
||||||| 6a30bf1
   "id": "8d5216d9",
=======
   "id": "08003231",
>>>>>>> documentation-devel
=======
   "id": "1a6d8104",
>>>>>>> c74c98c2450c2a1ba922ed9442f136238d6bc88b
=======
   "id": "e54dfe22",
>>>>>>> 035bb2637984ead2784fecff78c0c60cc4181202
||||||| 3effdfa5
   "id": "17724451",
=======
   "id": "0db575fc",
>>>>>>> documentation-devel
||||||| 96c826da
<<<<<<< HEAD
<<<<<<< HEAD
<<<<<<< HEAD
<<<<<<< HEAD
<<<<<<< HEAD
   "id": "32921eee",
||||||| 6a30bf1
   "id": "8d5216d9",
=======
   "id": "08003231",
>>>>>>> documentation-devel
||||||| d28b18c
   "id": "08003231",
=======
   "id": "4cb19a21",
>>>>>>> documentation-devel
||||||| 6893f63
<<<<<<< HEAD
   "id": "32921eee",
||||||| 6a30bf1
   "id": "8d5216d9",
=======
   "id": "08003231",
>>>>>>> documentation-devel
=======
   "id": "1a6d8104",
>>>>>>> c74c98c2450c2a1ba922ed9442f136238d6bc88b
||||||| 6d93b645
   "id": "4cb19a21",
=======
   "id": "17724451",
>>>>>>> documentation-devel
||||||| 804edffb
<<<<<<< HEAD
<<<<<<< HEAD
<<<<<<< HEAD
   "id": "32921eee",
||||||| 6a30bf1
   "id": "8d5216d9",
=======
   "id": "08003231",
>>>>>>> documentation-devel
||||||| d28b18c
   "id": "08003231",
=======
   "id": "4cb19a21",
>>>>>>> documentation-devel
||||||| 6893f63
<<<<<<< HEAD
   "id": "32921eee",
||||||| 6a30bf1
   "id": "8d5216d9",
=======
   "id": "08003231",
>>>>>>> documentation-devel
=======
   "id": "1a6d8104",
>>>>>>> c74c98c2450c2a1ba922ed9442f136238d6bc88b
=======
   "id": "e54dfe22",
>>>>>>> 035bb2637984ead2784fecff78c0c60cc4181202
=======
   "id": "ea2a9a22",
>>>>>>> 619c01f26351d57ac14d974b7af136ac5756103f
   "metadata": {},
   "outputs": [],
   "source": [
    "spatialReducedDim(sfe, \"PCA\", components = 5, colGeometryName = \"centroids\", \n",
    "                  divergent = TRUE, diverge_center = 0, scattermore = TRUE)"
   ]
  },
  {
   "cell_type": "markdown",
<<<<<<< HEAD
<<<<<<< HEAD
<<<<<<< HEAD
<<<<<<< HEAD
<<<<<<< HEAD
<<<<<<< HEAD
<<<<<<< HEAD
   "id": "d2c4156c",
||||||| 6a30bf1
   "id": "2fbf284a",
=======
   "id": "5637451f",
>>>>>>> documentation-devel
||||||| d28b18c
   "id": "5637451f",
=======
   "id": "bce5cba3",
>>>>>>> documentation-devel
||||||| 6893f63
<<<<<<< HEAD
   "id": "d2c4156c",
||||||| 6a30bf1
   "id": "2fbf284a",
=======
   "id": "5637451f",
>>>>>>> documentation-devel
=======
   "id": "a4ff8f87",
>>>>>>> c74c98c2450c2a1ba922ed9442f136238d6bc88b
||||||| 6d93b645
   "id": "bce5cba3",
=======
   "id": "9b5560bf",
>>>>>>> documentation-devel
||||||| 804edffb
<<<<<<< HEAD
<<<<<<< HEAD
<<<<<<< HEAD
   "id": "d2c4156c",
||||||| 6a30bf1
   "id": "2fbf284a",
=======
   "id": "5637451f",
>>>>>>> documentation-devel
||||||| d28b18c
   "id": "5637451f",
=======
   "id": "bce5cba3",
>>>>>>> documentation-devel
||||||| 6893f63
<<<<<<< HEAD
   "id": "d2c4156c",
||||||| 6a30bf1
   "id": "2fbf284a",
=======
   "id": "5637451f",
>>>>>>> documentation-devel
=======
   "id": "a4ff8f87",
>>>>>>> c74c98c2450c2a1ba922ed9442f136238d6bc88b
=======
   "id": "bb25787f",
>>>>>>> 035bb2637984ead2784fecff78c0c60cc4181202
||||||| 3effdfa5
   "id": "9b5560bf",
=======
   "id": "f91fb61b",
>>>>>>> documentation-devel
||||||| 96c826da
<<<<<<< HEAD
<<<<<<< HEAD
<<<<<<< HEAD
<<<<<<< HEAD
<<<<<<< HEAD
   "id": "d2c4156c",
||||||| 6a30bf1
   "id": "2fbf284a",
=======
   "id": "5637451f",
>>>>>>> documentation-devel
||||||| d28b18c
   "id": "5637451f",
=======
   "id": "bce5cba3",
>>>>>>> documentation-devel
||||||| 6893f63
<<<<<<< HEAD
   "id": "d2c4156c",
||||||| 6a30bf1
   "id": "2fbf284a",
=======
   "id": "5637451f",
>>>>>>> documentation-devel
=======
   "id": "a4ff8f87",
>>>>>>> c74c98c2450c2a1ba922ed9442f136238d6bc88b
||||||| 6d93b645
   "id": "bce5cba3",
=======
   "id": "9b5560bf",
>>>>>>> documentation-devel
||||||| 804edffb
<<<<<<< HEAD
<<<<<<< HEAD
<<<<<<< HEAD
   "id": "d2c4156c",
||||||| 6a30bf1
   "id": "2fbf284a",
=======
   "id": "5637451f",
>>>>>>> documentation-devel
||||||| d28b18c
   "id": "5637451f",
=======
   "id": "bce5cba3",
>>>>>>> documentation-devel
||||||| 6893f63
<<<<<<< HEAD
   "id": "d2c4156c",
||||||| 6a30bf1
   "id": "2fbf284a",
=======
   "id": "5637451f",
>>>>>>> documentation-devel
=======
   "id": "a4ff8f87",
>>>>>>> c74c98c2450c2a1ba922ed9442f136238d6bc88b
=======
   "id": "bb25787f",
>>>>>>> 035bb2637984ead2784fecff78c0c60cc4181202
=======
   "id": "5b54a055",
>>>>>>> 619c01f26351d57ac14d974b7af136ac5756103f
   "metadata": {
    "lines_to_next_cell": 0
   },
   "source": [
    "## Moran scatter plot\n",
    "Local positive and negative spatial autocorrelation can average out in global Moran's I. From the zoomed in plots and gene loadings above, some PCs are about endothelial cells. The Moran scatter plot can help discovering more local heterogeneity."
   ]
  },
  {
   "cell_type": "code",
   "execution_count": null,
<<<<<<< HEAD
<<<<<<< HEAD
<<<<<<< HEAD
<<<<<<< HEAD
<<<<<<< HEAD
<<<<<<< HEAD
<<<<<<< HEAD
   "id": "26f41bcd",
||||||| 6a30bf1
   "id": "cc84c6bd",
=======
   "id": "a44e64d8",
>>>>>>> documentation-devel
||||||| d28b18c
   "id": "a44e64d8",
=======
   "id": "7a044b85",
>>>>>>> documentation-devel
||||||| 6893f63
<<<<<<< HEAD
   "id": "26f41bcd",
||||||| 6a30bf1
   "id": "cc84c6bd",
=======
   "id": "a44e64d8",
>>>>>>> documentation-devel
=======
   "id": "50195f39",
>>>>>>> c74c98c2450c2a1ba922ed9442f136238d6bc88b
||||||| 6d93b645
   "id": "7a044b85",
=======
   "id": "3ea20d12",
>>>>>>> documentation-devel
||||||| 804edffb
<<<<<<< HEAD
<<<<<<< HEAD
<<<<<<< HEAD
   "id": "26f41bcd",
||||||| 6a30bf1
   "id": "cc84c6bd",
=======
   "id": "a44e64d8",
>>>>>>> documentation-devel
||||||| d28b18c
   "id": "a44e64d8",
=======
   "id": "7a044b85",
>>>>>>> documentation-devel
||||||| 6893f63
<<<<<<< HEAD
   "id": "26f41bcd",
||||||| 6a30bf1
   "id": "cc84c6bd",
=======
   "id": "a44e64d8",
>>>>>>> documentation-devel
=======
   "id": "50195f39",
>>>>>>> c74c98c2450c2a1ba922ed9442f136238d6bc88b
=======
   "id": "fef544b0",
>>>>>>> 035bb2637984ead2784fecff78c0c60cc4181202
||||||| 3effdfa5
   "id": "3ea20d12",
=======
   "id": "79a901c0",
>>>>>>> documentation-devel
||||||| 96c826da
<<<<<<< HEAD
<<<<<<< HEAD
<<<<<<< HEAD
<<<<<<< HEAD
<<<<<<< HEAD
   "id": "26f41bcd",
||||||| 6a30bf1
   "id": "cc84c6bd",
=======
   "id": "a44e64d8",
>>>>>>> documentation-devel
||||||| d28b18c
   "id": "a44e64d8",
=======
   "id": "7a044b85",
>>>>>>> documentation-devel
||||||| 6893f63
<<<<<<< HEAD
   "id": "26f41bcd",
||||||| 6a30bf1
   "id": "cc84c6bd",
=======
   "id": "a44e64d8",
>>>>>>> documentation-devel
=======
   "id": "50195f39",
>>>>>>> c74c98c2450c2a1ba922ed9442f136238d6bc88b
||||||| 6d93b645
   "id": "7a044b85",
=======
   "id": "3ea20d12",
>>>>>>> documentation-devel
||||||| 804edffb
<<<<<<< HEAD
<<<<<<< HEAD
<<<<<<< HEAD
   "id": "26f41bcd",
||||||| 6a30bf1
   "id": "cc84c6bd",
=======
   "id": "a44e64d8",
>>>>>>> documentation-devel
||||||| d28b18c
   "id": "a44e64d8",
=======
   "id": "7a044b85",
>>>>>>> documentation-devel
||||||| 6893f63
<<<<<<< HEAD
   "id": "26f41bcd",
||||||| 6a30bf1
   "id": "cc84c6bd",
=======
   "id": "a44e64d8",
>>>>>>> documentation-devel
=======
   "id": "50195f39",
>>>>>>> c74c98c2450c2a1ba922ed9442f136238d6bc88b
=======
   "id": "fef544b0",
>>>>>>> 035bb2637984ead2784fecff78c0c60cc4181202
=======
   "id": "074cc0c8",
>>>>>>> 619c01f26351d57ac14d974b7af136ac5756103f
   "metadata": {},
   "outputs": [],
   "source": [
    "sfe <- reducedDimUnivariate(sfe, \"moran.plot\", dimred = \"PCA\", components = 1:6)"
   ]
  },
  {
   "cell_type": "code",
   "execution_count": null,
<<<<<<< HEAD
<<<<<<< HEAD
<<<<<<< HEAD
<<<<<<< HEAD
<<<<<<< HEAD
<<<<<<< HEAD
<<<<<<< HEAD
   "id": "d683fd28",
||||||| 6a30bf1
   "id": "8f499798",
=======
   "id": "09662e15",
>>>>>>> documentation-devel
||||||| d28b18c
   "id": "09662e15",
=======
   "id": "2a52f1a7",
>>>>>>> documentation-devel
||||||| 6893f63
<<<<<<< HEAD
   "id": "d683fd28",
||||||| 6a30bf1
   "id": "8f499798",
=======
   "id": "09662e15",
>>>>>>> documentation-devel
=======
   "id": "131f97f4",
>>>>>>> c74c98c2450c2a1ba922ed9442f136238d6bc88b
||||||| 6d93b645
   "id": "2a52f1a7",
=======
   "id": "21fa2aca",
>>>>>>> documentation-devel
||||||| 804edffb
<<<<<<< HEAD
<<<<<<< HEAD
<<<<<<< HEAD
   "id": "d683fd28",
||||||| 6a30bf1
   "id": "8f499798",
=======
   "id": "09662e15",
>>>>>>> documentation-devel
||||||| d28b18c
   "id": "09662e15",
=======
   "id": "2a52f1a7",
>>>>>>> documentation-devel
||||||| 6893f63
<<<<<<< HEAD
   "id": "d683fd28",
||||||| 6a30bf1
   "id": "8f499798",
=======
   "id": "09662e15",
>>>>>>> documentation-devel
=======
   "id": "131f97f4",
>>>>>>> c74c98c2450c2a1ba922ed9442f136238d6bc88b
=======
   "id": "3daff139",
>>>>>>> 035bb2637984ead2784fecff78c0c60cc4181202
||||||| 3effdfa5
   "id": "21fa2aca",
=======
   "id": "ccce8972",
>>>>>>> documentation-devel
||||||| 96c826da
<<<<<<< HEAD
<<<<<<< HEAD
<<<<<<< HEAD
<<<<<<< HEAD
<<<<<<< HEAD
   "id": "d683fd28",
||||||| 6a30bf1
   "id": "8f499798",
=======
   "id": "09662e15",
>>>>>>> documentation-devel
||||||| d28b18c
   "id": "09662e15",
=======
   "id": "2a52f1a7",
>>>>>>> documentation-devel
||||||| 6893f63
<<<<<<< HEAD
   "id": "d683fd28",
||||||| 6a30bf1
   "id": "8f499798",
=======
   "id": "09662e15",
>>>>>>> documentation-devel
=======
   "id": "131f97f4",
>>>>>>> c74c98c2450c2a1ba922ed9442f136238d6bc88b
||||||| 6d93b645
   "id": "2a52f1a7",
=======
   "id": "21fa2aca",
>>>>>>> documentation-devel
||||||| 804edffb
<<<<<<< HEAD
<<<<<<< HEAD
<<<<<<< HEAD
   "id": "d683fd28",
||||||| 6a30bf1
   "id": "8f499798",
=======
   "id": "09662e15",
>>>>>>> documentation-devel
||||||| d28b18c
   "id": "09662e15",
=======
   "id": "2a52f1a7",
>>>>>>> documentation-devel
||||||| 6893f63
<<<<<<< HEAD
   "id": "d683fd28",
||||||| 6a30bf1
   "id": "8f499798",
=======
   "id": "09662e15",
>>>>>>> documentation-devel
=======
   "id": "131f97f4",
>>>>>>> c74c98c2450c2a1ba922ed9442f136238d6bc88b
=======
   "id": "3daff139",
>>>>>>> 035bb2637984ead2784fecff78c0c60cc4181202
=======
   "id": "b1f04536",
>>>>>>> 619c01f26351d57ac14d974b7af136ac5756103f
   "metadata": {},
   "outputs": [],
   "source": [
    "plts <- lapply(seq_len(6), function(i) {\n",
    "    moranPlot(sfe, paste0(\"PC\", i), binned = TRUE, hex = TRUE, plot_influential = FALSE)\n",
    "})"
   ]
  },
  {
   "cell_type": "code",
   "execution_count": null,
<<<<<<< HEAD
<<<<<<< HEAD
<<<<<<< HEAD
<<<<<<< HEAD
<<<<<<< HEAD
<<<<<<< HEAD
<<<<<<< HEAD
   "id": "fd7f21f0",
||||||| 6a30bf1
   "id": "03795658",
=======
   "id": "88dde1c5",
>>>>>>> documentation-devel
||||||| d28b18c
   "id": "88dde1c5",
=======
   "id": "6ba58ed1",
>>>>>>> documentation-devel
||||||| 6893f63
<<<<<<< HEAD
   "id": "fd7f21f0",
||||||| 6a30bf1
   "id": "03795658",
=======
   "id": "88dde1c5",
>>>>>>> documentation-devel
=======
   "id": "f39dc6d6",
>>>>>>> c74c98c2450c2a1ba922ed9442f136238d6bc88b
||||||| 6d93b645
   "id": "6ba58ed1",
=======
   "id": "44b7a1c4",
>>>>>>> documentation-devel
||||||| 804edffb
<<<<<<< HEAD
<<<<<<< HEAD
<<<<<<< HEAD
   "id": "fd7f21f0",
||||||| 6a30bf1
   "id": "03795658",
=======
   "id": "88dde1c5",
>>>>>>> documentation-devel
||||||| d28b18c
   "id": "88dde1c5",
=======
   "id": "6ba58ed1",
>>>>>>> documentation-devel
||||||| 6893f63
<<<<<<< HEAD
   "id": "fd7f21f0",
||||||| 6a30bf1
   "id": "03795658",
=======
   "id": "88dde1c5",
>>>>>>> documentation-devel
=======
   "id": "f39dc6d6",
>>>>>>> c74c98c2450c2a1ba922ed9442f136238d6bc88b
=======
   "id": "d1bd9476",
>>>>>>> 035bb2637984ead2784fecff78c0c60cc4181202
||||||| 3effdfa5
   "id": "44b7a1c4",
=======
   "id": "c427cf48",
>>>>>>> documentation-devel
||||||| 96c826da
<<<<<<< HEAD
<<<<<<< HEAD
<<<<<<< HEAD
<<<<<<< HEAD
<<<<<<< HEAD
   "id": "fd7f21f0",
||||||| 6a30bf1
   "id": "03795658",
=======
   "id": "88dde1c5",
>>>>>>> documentation-devel
||||||| d28b18c
   "id": "88dde1c5",
=======
   "id": "6ba58ed1",
>>>>>>> documentation-devel
||||||| 6893f63
<<<<<<< HEAD
   "id": "fd7f21f0",
||||||| 6a30bf1
   "id": "03795658",
=======
   "id": "88dde1c5",
>>>>>>> documentation-devel
=======
   "id": "f39dc6d6",
>>>>>>> c74c98c2450c2a1ba922ed9442f136238d6bc88b
||||||| 6d93b645
   "id": "6ba58ed1",
=======
   "id": "44b7a1c4",
>>>>>>> documentation-devel
||||||| 804edffb
<<<<<<< HEAD
<<<<<<< HEAD
<<<<<<< HEAD
   "id": "fd7f21f0",
||||||| 6a30bf1
   "id": "03795658",
=======
   "id": "88dde1c5",
>>>>>>> documentation-devel
||||||| d28b18c
   "id": "88dde1c5",
=======
   "id": "6ba58ed1",
>>>>>>> documentation-devel
||||||| 6893f63
<<<<<<< HEAD
   "id": "fd7f21f0",
||||||| 6a30bf1
   "id": "03795658",
=======
   "id": "88dde1c5",
>>>>>>> documentation-devel
=======
   "id": "f39dc6d6",
>>>>>>> c74c98c2450c2a1ba922ed9442f136238d6bc88b
=======
   "id": "d1bd9476",
>>>>>>> 035bb2637984ead2784fecff78c0c60cc4181202
=======
   "id": "8cb9962a",
>>>>>>> 619c01f26351d57ac14d974b7af136ac5756103f
   "metadata": {
    "fig.height": 6,
    "fig.width": 10
   },
   "outputs": [],
   "source": [
    "wrap_plots(plts, widths = 1, heights = 1) +\n",
    "    plot_layout(ncol = 3) +\n",
    "    plot_annotation(tag_levels = \"1\", \n",
    "                    title = \"Moran scatter plot for non-spatial PCs\") &\n",
    "    theme(legend.position = \"none\")"
   ]
  },
  {
   "cell_type": "markdown",
<<<<<<< HEAD
<<<<<<< HEAD
<<<<<<< HEAD
<<<<<<< HEAD
<<<<<<< HEAD
<<<<<<< HEAD
<<<<<<< HEAD
   "id": "13eeb2f1",
||||||| 6a30bf1
   "id": "8cda7189",
=======
   "id": "129b009e",
>>>>>>> documentation-devel
||||||| d28b18c
   "id": "129b009e",
=======
   "id": "a3d9b9c2",
>>>>>>> documentation-devel
||||||| 6893f63
<<<<<<< HEAD
   "id": "13eeb2f1",
||||||| 6a30bf1
   "id": "8cda7189",
=======
   "id": "129b009e",
>>>>>>> documentation-devel
=======
   "id": "1c920927",
>>>>>>> c74c98c2450c2a1ba922ed9442f136238d6bc88b
||||||| 6d93b645
   "id": "a3d9b9c2",
=======
   "id": "1554c37a",
>>>>>>> documentation-devel
||||||| 804edffb
<<<<<<< HEAD
<<<<<<< HEAD
<<<<<<< HEAD
   "id": "13eeb2f1",
||||||| 6a30bf1
   "id": "8cda7189",
=======
   "id": "129b009e",
>>>>>>> documentation-devel
||||||| d28b18c
   "id": "129b009e",
=======
   "id": "a3d9b9c2",
>>>>>>> documentation-devel
||||||| 6893f63
<<<<<<< HEAD
   "id": "13eeb2f1",
||||||| 6a30bf1
   "id": "8cda7189",
=======
   "id": "129b009e",
>>>>>>> documentation-devel
=======
   "id": "1c920927",
>>>>>>> c74c98c2450c2a1ba922ed9442f136238d6bc88b
=======
   "id": "8564bf68",
>>>>>>> 035bb2637984ead2784fecff78c0c60cc4181202
||||||| 3effdfa5
   "id": "1554c37a",
=======
   "id": "7b5ca62e",
>>>>>>> documentation-devel
||||||| 96c826da
<<<<<<< HEAD
<<<<<<< HEAD
<<<<<<< HEAD
<<<<<<< HEAD
<<<<<<< HEAD
   "id": "13eeb2f1",
||||||| 6a30bf1
   "id": "8cda7189",
=======
   "id": "129b009e",
>>>>>>> documentation-devel
||||||| d28b18c
   "id": "129b009e",
=======
   "id": "a3d9b9c2",
>>>>>>> documentation-devel
||||||| 6893f63
<<<<<<< HEAD
   "id": "13eeb2f1",
||||||| 6a30bf1
   "id": "8cda7189",
=======
   "id": "129b009e",
>>>>>>> documentation-devel
=======
   "id": "1c920927",
>>>>>>> c74c98c2450c2a1ba922ed9442f136238d6bc88b
||||||| 6d93b645
   "id": "a3d9b9c2",
=======
   "id": "1554c37a",
>>>>>>> documentation-devel
||||||| 804edffb
<<<<<<< HEAD
<<<<<<< HEAD
<<<<<<< HEAD
   "id": "13eeb2f1",
||||||| 6a30bf1
   "id": "8cda7189",
=======
   "id": "129b009e",
>>>>>>> documentation-devel
||||||| d28b18c
   "id": "129b009e",
=======
   "id": "a3d9b9c2",
>>>>>>> documentation-devel
||||||| 6893f63
<<<<<<< HEAD
   "id": "13eeb2f1",
||||||| 6a30bf1
   "id": "8cda7189",
=======
   "id": "129b009e",
>>>>>>> documentation-devel
=======
   "id": "1c920927",
>>>>>>> c74c98c2450c2a1ba922ed9442f136238d6bc88b
=======
   "id": "8564bf68",
>>>>>>> 035bb2637984ead2784fecff78c0c60cc4181202
=======
   "id": "2fb2d98f",
>>>>>>> 619c01f26351d57ac14d974b7af136ac5756103f
   "metadata": {},
   "source": [
    "PCs 1-3 have some fainter clusters outside the main cluster, indicating heterogeneous spatial autocorrelation. Also make Moran scatter plots for MULTISPATI"
   ]
  },
  {
   "cell_type": "code",
   "execution_count": null,
<<<<<<< HEAD
<<<<<<< HEAD
<<<<<<< HEAD
<<<<<<< HEAD
<<<<<<< HEAD
<<<<<<< HEAD
<<<<<<< HEAD
   "id": "18707a33",
||||||| 6a30bf1
   "id": "fcb71cc2",
=======
   "id": "ae8f7f3d",
>>>>>>> documentation-devel
||||||| d28b18c
   "id": "ae8f7f3d",
=======
   "id": "5518804d",
>>>>>>> documentation-devel
||||||| 6893f63
<<<<<<< HEAD
   "id": "18707a33",
||||||| 6a30bf1
   "id": "fcb71cc2",
=======
   "id": "ae8f7f3d",
>>>>>>> documentation-devel
=======
   "id": "77ebbf90",
>>>>>>> c74c98c2450c2a1ba922ed9442f136238d6bc88b
||||||| 6d93b645
   "id": "5518804d",
=======
   "id": "57754db9",
>>>>>>> documentation-devel
||||||| 804edffb
<<<<<<< HEAD
<<<<<<< HEAD
<<<<<<< HEAD
   "id": "18707a33",
||||||| 6a30bf1
   "id": "fcb71cc2",
=======
   "id": "ae8f7f3d",
>>>>>>> documentation-devel
||||||| d28b18c
   "id": "ae8f7f3d",
=======
   "id": "5518804d",
>>>>>>> documentation-devel
||||||| 6893f63
<<<<<<< HEAD
   "id": "18707a33",
||||||| 6a30bf1
   "id": "fcb71cc2",
=======
   "id": "ae8f7f3d",
>>>>>>> documentation-devel
=======
   "id": "77ebbf90",
>>>>>>> c74c98c2450c2a1ba922ed9442f136238d6bc88b
=======
   "id": "d6e711e2",
>>>>>>> 035bb2637984ead2784fecff78c0c60cc4181202
||||||| 3effdfa5
   "id": "57754db9",
=======
   "id": "d289e8d4",
>>>>>>> documentation-devel
||||||| 96c826da
<<<<<<< HEAD
<<<<<<< HEAD
<<<<<<< HEAD
<<<<<<< HEAD
<<<<<<< HEAD
   "id": "18707a33",
||||||| 6a30bf1
   "id": "fcb71cc2",
=======
   "id": "ae8f7f3d",
>>>>>>> documentation-devel
||||||| d28b18c
   "id": "ae8f7f3d",
=======
   "id": "5518804d",
>>>>>>> documentation-devel
||||||| 6893f63
<<<<<<< HEAD
   "id": "18707a33",
||||||| 6a30bf1
   "id": "fcb71cc2",
=======
   "id": "ae8f7f3d",
>>>>>>> documentation-devel
=======
   "id": "77ebbf90",
>>>>>>> c74c98c2450c2a1ba922ed9442f136238d6bc88b
||||||| 6d93b645
   "id": "5518804d",
=======
   "id": "57754db9",
>>>>>>> documentation-devel
||||||| 804edffb
<<<<<<< HEAD
<<<<<<< HEAD
<<<<<<< HEAD
   "id": "18707a33",
||||||| 6a30bf1
   "id": "fcb71cc2",
=======
   "id": "ae8f7f3d",
>>>>>>> documentation-devel
||||||| d28b18c
   "id": "ae8f7f3d",
=======
   "id": "5518804d",
>>>>>>> documentation-devel
||||||| 6893f63
<<<<<<< HEAD
   "id": "18707a33",
||||||| 6a30bf1
   "id": "fcb71cc2",
=======
   "id": "ae8f7f3d",
>>>>>>> documentation-devel
=======
   "id": "77ebbf90",
>>>>>>> c74c98c2450c2a1ba922ed9442f136238d6bc88b
=======
   "id": "d6e711e2",
>>>>>>> 035bb2637984ead2784fecff78c0c60cc4181202
=======
   "id": "2eef5f94",
>>>>>>> 619c01f26351d57ac14d974b7af136ac5756103f
   "metadata": {},
   "outputs": [],
   "source": [
    "sfe <- reducedDimUnivariate(sfe, \"moran.plot\", dimred = \"multispati\", \n",
    "                            components = c(1:5, 40), \n",
    "                            # Not to overwrite non-spatial PCA moran plots\n",
    "                            name = \"moran.plot2\") "
   ]
  },
  {
   "cell_type": "code",
   "execution_count": null,
<<<<<<< HEAD
<<<<<<< HEAD
<<<<<<< HEAD
<<<<<<< HEAD
<<<<<<< HEAD
<<<<<<< HEAD
<<<<<<< HEAD
   "id": "ef15b62d",
||||||| 6a30bf1
   "id": "2a8e03ff",
=======
   "id": "0e997f68",
>>>>>>> documentation-devel
||||||| d28b18c
   "id": "0e997f68",
=======
   "id": "5c714fef",
>>>>>>> documentation-devel
||||||| 6893f63
<<<<<<< HEAD
   "id": "ef15b62d",
||||||| 6a30bf1
   "id": "2a8e03ff",
=======
   "id": "0e997f68",
>>>>>>> documentation-devel
=======
   "id": "e305276a",
>>>>>>> c74c98c2450c2a1ba922ed9442f136238d6bc88b
||||||| 6d93b645
   "id": "5c714fef",
=======
   "id": "3ed95583",
>>>>>>> documentation-devel
||||||| 804edffb
<<<<<<< HEAD
<<<<<<< HEAD
<<<<<<< HEAD
   "id": "ef15b62d",
||||||| 6a30bf1
   "id": "2a8e03ff",
=======
   "id": "0e997f68",
>>>>>>> documentation-devel
||||||| d28b18c
   "id": "0e997f68",
=======
   "id": "5c714fef",
>>>>>>> documentation-devel
||||||| 6893f63
<<<<<<< HEAD
   "id": "ef15b62d",
||||||| 6a30bf1
   "id": "2a8e03ff",
=======
   "id": "0e997f68",
>>>>>>> documentation-devel
=======
   "id": "e305276a",
>>>>>>> c74c98c2450c2a1ba922ed9442f136238d6bc88b
=======
   "id": "cffc1d09",
>>>>>>> 035bb2637984ead2784fecff78c0c60cc4181202
||||||| 3effdfa5
   "id": "3ed95583",
=======
   "id": "7ac5a2c3",
>>>>>>> documentation-devel
||||||| 96c826da
<<<<<<< HEAD
<<<<<<< HEAD
<<<<<<< HEAD
<<<<<<< HEAD
<<<<<<< HEAD
   "id": "ef15b62d",
||||||| 6a30bf1
   "id": "2a8e03ff",
=======
   "id": "0e997f68",
>>>>>>> documentation-devel
||||||| d28b18c
   "id": "0e997f68",
=======
   "id": "5c714fef",
>>>>>>> documentation-devel
||||||| 6893f63
<<<<<<< HEAD
   "id": "ef15b62d",
||||||| 6a30bf1
   "id": "2a8e03ff",
=======
   "id": "0e997f68",
>>>>>>> documentation-devel
=======
   "id": "e305276a",
>>>>>>> c74c98c2450c2a1ba922ed9442f136238d6bc88b
||||||| 6d93b645
   "id": "5c714fef",
=======
   "id": "3ed95583",
>>>>>>> documentation-devel
||||||| 804edffb
<<<<<<< HEAD
<<<<<<< HEAD
<<<<<<< HEAD
   "id": "ef15b62d",
||||||| 6a30bf1
   "id": "2a8e03ff",
=======
   "id": "0e997f68",
>>>>>>> documentation-devel
||||||| d28b18c
   "id": "0e997f68",
=======
   "id": "5c714fef",
>>>>>>> documentation-devel
||||||| 6893f63
<<<<<<< HEAD
   "id": "ef15b62d",
||||||| 6a30bf1
   "id": "2a8e03ff",
=======
   "id": "0e997f68",
>>>>>>> documentation-devel
=======
   "id": "e305276a",
>>>>>>> c74c98c2450c2a1ba922ed9442f136238d6bc88b
=======
   "id": "cffc1d09",
>>>>>>> 035bb2637984ead2784fecff78c0c60cc4181202
=======
   "id": "57f0bbc1",
>>>>>>> 619c01f26351d57ac14d974b7af136ac5756103f
   "metadata": {},
   "outputs": [],
   "source": [
    "plts2 <- lapply(c(1:5, 40), function(i) {\n",
    "    moranPlot(sfe, paste0(\"PC\", i), binned = TRUE, hex = TRUE, \n",
    "              plot_influential = FALSE, name = \"moran.plot2\")\n",
    "})"
   ]
  },
  {
   "cell_type": "code",
   "execution_count": null,
<<<<<<< HEAD
<<<<<<< HEAD
<<<<<<< HEAD
<<<<<<< HEAD
<<<<<<< HEAD
<<<<<<< HEAD
<<<<<<< HEAD
   "id": "96df155a",
||||||| 6a30bf1
   "id": "20c2ae05",
=======
   "id": "468e3f44",
>>>>>>> documentation-devel
||||||| d28b18c
   "id": "468e3f44",
=======
   "id": "175574a4",
>>>>>>> documentation-devel
||||||| 6893f63
<<<<<<< HEAD
   "id": "96df155a",
||||||| 6a30bf1
   "id": "20c2ae05",
=======
   "id": "468e3f44",
>>>>>>> documentation-devel
=======
   "id": "ede2c88a",
>>>>>>> c74c98c2450c2a1ba922ed9442f136238d6bc88b
||||||| 6d93b645
   "id": "175574a4",
=======
   "id": "bb4dac92",
>>>>>>> documentation-devel
||||||| 804edffb
<<<<<<< HEAD
<<<<<<< HEAD
<<<<<<< HEAD
   "id": "96df155a",
||||||| 6a30bf1
   "id": "20c2ae05",
=======
   "id": "468e3f44",
>>>>>>> documentation-devel
||||||| d28b18c
   "id": "468e3f44",
=======
   "id": "175574a4",
>>>>>>> documentation-devel
||||||| 6893f63
<<<<<<< HEAD
   "id": "96df155a",
||||||| 6a30bf1
   "id": "20c2ae05",
=======
   "id": "468e3f44",
>>>>>>> documentation-devel
=======
   "id": "ede2c88a",
>>>>>>> c74c98c2450c2a1ba922ed9442f136238d6bc88b
=======
   "id": "96e6aa52",
>>>>>>> 035bb2637984ead2784fecff78c0c60cc4181202
||||||| 3effdfa5
   "id": "bb4dac92",
=======
   "id": "af0cf124",
>>>>>>> documentation-devel
||||||| 96c826da
<<<<<<< HEAD
<<<<<<< HEAD
<<<<<<< HEAD
<<<<<<< HEAD
<<<<<<< HEAD
   "id": "96df155a",
||||||| 6a30bf1
   "id": "20c2ae05",
=======
   "id": "468e3f44",
>>>>>>> documentation-devel
||||||| d28b18c
   "id": "468e3f44",
=======
   "id": "175574a4",
>>>>>>> documentation-devel
||||||| 6893f63
<<<<<<< HEAD
   "id": "96df155a",
||||||| 6a30bf1
   "id": "20c2ae05",
=======
   "id": "468e3f44",
>>>>>>> documentation-devel
=======
   "id": "ede2c88a",
>>>>>>> c74c98c2450c2a1ba922ed9442f136238d6bc88b
||||||| 6d93b645
   "id": "175574a4",
=======
   "id": "bb4dac92",
>>>>>>> documentation-devel
||||||| 804edffb
<<<<<<< HEAD
<<<<<<< HEAD
<<<<<<< HEAD
   "id": "96df155a",
||||||| 6a30bf1
   "id": "20c2ae05",
=======
   "id": "468e3f44",
>>>>>>> documentation-devel
||||||| d28b18c
   "id": "468e3f44",
=======
   "id": "175574a4",
>>>>>>> documentation-devel
||||||| 6893f63
<<<<<<< HEAD
   "id": "96df155a",
||||||| 6a30bf1
   "id": "20c2ae05",
=======
   "id": "468e3f44",
>>>>>>> documentation-devel
=======
   "id": "ede2c88a",
>>>>>>> c74c98c2450c2a1ba922ed9442f136238d6bc88b
=======
   "id": "96e6aa52",
>>>>>>> 035bb2637984ead2784fecff78c0c60cc4181202
=======
   "id": "afe4d337",
>>>>>>> 619c01f26351d57ac14d974b7af136ac5756103f
   "metadata": {
    "fig.height": 6,
    "fig.width": 10
   },
   "outputs": [],
   "source": [
    "wrap_plots(plts2, widths = 1, heights = 1) +\n",
    "    plot_layout(ncol = 3) +\n",
    "    plot_annotation(tag_levels = \"1\",\n",
    "                    title = \"Moran scatter plot for MULTISPATI PCs\") &\n",
    "    theme(legend.position = \"none\")"
   ]
  },
  {
   "cell_type": "markdown",
<<<<<<< HEAD
<<<<<<< HEAD
<<<<<<< HEAD
<<<<<<< HEAD
<<<<<<< HEAD
<<<<<<< HEAD
<<<<<<< HEAD
   "id": "f0b0d86f",
||||||| 6a30bf1
   "id": "86fd2726",
=======
   "id": "f70e4fc1",
>>>>>>> documentation-devel
||||||| d28b18c
   "id": "f70e4fc1",
=======
   "id": "f4e56ba9",
>>>>>>> documentation-devel
||||||| 6893f63
<<<<<<< HEAD
   "id": "f0b0d86f",
||||||| 6a30bf1
   "id": "86fd2726",
=======
   "id": "f70e4fc1",
>>>>>>> documentation-devel
=======
   "id": "8a2dee17",
>>>>>>> c74c98c2450c2a1ba922ed9442f136238d6bc88b
||||||| 6d93b645
   "id": "f4e56ba9",
=======
   "id": "16b7f994",
>>>>>>> documentation-devel
||||||| 804edffb
<<<<<<< HEAD
<<<<<<< HEAD
<<<<<<< HEAD
   "id": "f0b0d86f",
||||||| 6a30bf1
   "id": "86fd2726",
=======
   "id": "f70e4fc1",
>>>>>>> documentation-devel
||||||| d28b18c
   "id": "f70e4fc1",
=======
   "id": "f4e56ba9",
>>>>>>> documentation-devel
||||||| 6893f63
<<<<<<< HEAD
   "id": "f0b0d86f",
||||||| 6a30bf1
   "id": "86fd2726",
=======
   "id": "f70e4fc1",
>>>>>>> documentation-devel
=======
   "id": "8a2dee17",
>>>>>>> c74c98c2450c2a1ba922ed9442f136238d6bc88b
=======
   "id": "d87d783f",
>>>>>>> 035bb2637984ead2784fecff78c0c60cc4181202
||||||| 3effdfa5
   "id": "16b7f994",
=======
   "id": "d21d843f",
>>>>>>> documentation-devel
||||||| 96c826da
<<<<<<< HEAD
<<<<<<< HEAD
<<<<<<< HEAD
<<<<<<< HEAD
<<<<<<< HEAD
   "id": "f0b0d86f",
||||||| 6a30bf1
   "id": "86fd2726",
=======
   "id": "f70e4fc1",
>>>>>>> documentation-devel
||||||| d28b18c
   "id": "f70e4fc1",
=======
   "id": "f4e56ba9",
>>>>>>> documentation-devel
||||||| 6893f63
<<<<<<< HEAD
   "id": "f0b0d86f",
||||||| 6a30bf1
   "id": "86fd2726",
=======
   "id": "f70e4fc1",
>>>>>>> documentation-devel
=======
   "id": "8a2dee17",
>>>>>>> c74c98c2450c2a1ba922ed9442f136238d6bc88b
||||||| 6d93b645
   "id": "f4e56ba9",
=======
   "id": "16b7f994",
>>>>>>> documentation-devel
||||||| 804edffb
<<<<<<< HEAD
<<<<<<< HEAD
<<<<<<< HEAD
   "id": "f0b0d86f",
||||||| 6a30bf1
   "id": "86fd2726",
=======
   "id": "f70e4fc1",
>>>>>>> documentation-devel
||||||| d28b18c
   "id": "f70e4fc1",
=======
   "id": "f4e56ba9",
>>>>>>> documentation-devel
||||||| 6893f63
<<<<<<< HEAD
   "id": "f0b0d86f",
||||||| 6a30bf1
   "id": "86fd2726",
=======
   "id": "f70e4fc1",
>>>>>>> documentation-devel
=======
   "id": "8a2dee17",
>>>>>>> c74c98c2450c2a1ba922ed9442f136238d6bc88b
=======
   "id": "d87d783f",
>>>>>>> 035bb2637984ead2784fecff78c0c60cc4181202
=======
   "id": "f1781285",
>>>>>>> 619c01f26351d57ac14d974b7af136ac5756103f
   "metadata": {},
   "source": [
    "There are some interesting clusters.\n",
    "\n",
    "# Clustering with MULTISPATI PCA\n",
    "\n",
    "In the standard scRNA-seq data analysis workflow, a k nearest neighbor graph is found in the PCA space, which is then used for graph based clustering such as Louvain and Leiden, which is used to perform differential expression. Spatial dimension reductions can similarly be used to perform clustering, to identify spatial regions in the tissue, as done in [@Shang2022-qy; @Ren2022-qx; @Zhang2023-kf]. This type of studies often use a manual segmentation as ground truth to compare different methods that identify spatial regions. \n",
    "\n",
    "The problem with this is that spatial region methods are meant to help us to identify novel spatial regions based on new -omics data, which might reveal what's previously unknown from manual annotations. If the output from a method doesn't match manual annotations, it might simply be pointing out a previously unknown aspect of the tissue rather than wrong. Depending on the questions being asked, there can simultaneously be multiple spatial partitions. This happens in geographical space. For instance, there's land use and neighborhood boundaries, but equally valid are watershed boundaries and types of rock formation. Which one is relevant depends on the questions asked.\n",
    "\n",
    "Here we perform Leiden clustering with non-spatial and MULTISPATI PCA and compare the results. For the k nearest neighbor graph, I used the default k = 10."
   ]
  },
  {
   "cell_type": "code",
   "execution_count": null,
<<<<<<< HEAD
<<<<<<< HEAD
<<<<<<< HEAD
<<<<<<< HEAD
<<<<<<< HEAD
<<<<<<< HEAD
<<<<<<< HEAD
   "id": "86afadf2",
||||||| 6a30bf1
   "id": "85a3df04",
=======
   "id": "35f9a581",
>>>>>>> documentation-devel
||||||| d28b18c
   "id": "35f9a581",
=======
   "id": "6d409589",
>>>>>>> documentation-devel
||||||| 6893f63
<<<<<<< HEAD
   "id": "86afadf2",
||||||| 6a30bf1
   "id": "85a3df04",
=======
   "id": "35f9a581",
>>>>>>> documentation-devel
=======
   "id": "beda452b",
>>>>>>> c74c98c2450c2a1ba922ed9442f136238d6bc88b
||||||| 6d93b645
   "id": "6d409589",
=======
   "id": "d40942a2",
>>>>>>> documentation-devel
||||||| 804edffb
<<<<<<< HEAD
<<<<<<< HEAD
<<<<<<< HEAD
   "id": "86afadf2",
||||||| 6a30bf1
   "id": "85a3df04",
=======
   "id": "35f9a581",
>>>>>>> documentation-devel
||||||| d28b18c
   "id": "35f9a581",
=======
   "id": "6d409589",
>>>>>>> documentation-devel
||||||| 6893f63
<<<<<<< HEAD
   "id": "86afadf2",
||||||| 6a30bf1
   "id": "85a3df04",
=======
   "id": "35f9a581",
>>>>>>> documentation-devel
=======
   "id": "beda452b",
>>>>>>> c74c98c2450c2a1ba922ed9442f136238d6bc88b
=======
   "id": "cae33d74",
>>>>>>> 035bb2637984ead2784fecff78c0c60cc4181202
||||||| 3effdfa5
   "id": "d40942a2",
=======
   "id": "fd6104cd",
>>>>>>> documentation-devel
||||||| 96c826da
<<<<<<< HEAD
<<<<<<< HEAD
<<<<<<< HEAD
<<<<<<< HEAD
<<<<<<< HEAD
   "id": "86afadf2",
||||||| 6a30bf1
   "id": "85a3df04",
=======
   "id": "35f9a581",
>>>>>>> documentation-devel
||||||| d28b18c
   "id": "35f9a581",
=======
   "id": "6d409589",
>>>>>>> documentation-devel
||||||| 6893f63
<<<<<<< HEAD
   "id": "86afadf2",
||||||| 6a30bf1
   "id": "85a3df04",
=======
   "id": "35f9a581",
>>>>>>> documentation-devel
=======
   "id": "beda452b",
>>>>>>> c74c98c2450c2a1ba922ed9442f136238d6bc88b
||||||| 6d93b645
   "id": "6d409589",
=======
   "id": "d40942a2",
>>>>>>> documentation-devel
||||||| 804edffb
<<<<<<< HEAD
<<<<<<< HEAD
<<<<<<< HEAD
   "id": "86afadf2",
||||||| 6a30bf1
   "id": "85a3df04",
=======
   "id": "35f9a581",
>>>>>>> documentation-devel
||||||| d28b18c
   "id": "35f9a581",
=======
   "id": "6d409589",
>>>>>>> documentation-devel
||||||| 6893f63
<<<<<<< HEAD
   "id": "86afadf2",
||||||| 6a30bf1
   "id": "85a3df04",
=======
   "id": "35f9a581",
>>>>>>> documentation-devel
=======
   "id": "beda452b",
>>>>>>> c74c98c2450c2a1ba922ed9442f136238d6bc88b
=======
   "id": "cae33d74",
>>>>>>> 035bb2637984ead2784fecff78c0c60cc4181202
=======
   "id": "757f81f2",
>>>>>>> 619c01f26351d57ac14d974b7af136ac5756103f
   "metadata": {},
   "outputs": [],
   "source": [
    "system.time({\n",
    "    set.seed(29)\n",
    "    sfe$clusts_nonspatial <- clusterCells(sfe, use.dimred = \"PCA\", \n",
    "                                          BLUSPARAM = NNGraphParam(\n",
    "                                              cluster.fun = \"leiden\",\n",
    "                                              cluster.args = list(\n",
    "                                                  objective_function = \"modularity\",\n",
    "                                                  resolution_parameter = 1\n",
    "                                              )\n",
    "                                          ))\n",
    "})"
   ]
  },
  {
   "cell_type": "markdown",
<<<<<<< HEAD
<<<<<<< HEAD
<<<<<<< HEAD
<<<<<<< HEAD
<<<<<<< HEAD
<<<<<<< HEAD
<<<<<<< HEAD
   "id": "196f784e",
||||||| 6a30bf1
   "id": "da50be89",
=======
   "id": "161f9476",
>>>>>>> documentation-devel
||||||| d28b18c
   "id": "161f9476",
=======
   "id": "ff92ca00",
>>>>>>> documentation-devel
||||||| 6893f63
<<<<<<< HEAD
   "id": "196f784e",
||||||| 6a30bf1
   "id": "da50be89",
=======
   "id": "161f9476",
>>>>>>> documentation-devel
=======
   "id": "ec06a44e",
>>>>>>> c74c98c2450c2a1ba922ed9442f136238d6bc88b
||||||| 6d93b645
   "id": "ff92ca00",
=======
   "id": "3b313039",
>>>>>>> documentation-devel
||||||| 804edffb
<<<<<<< HEAD
<<<<<<< HEAD
<<<<<<< HEAD
   "id": "196f784e",
||||||| 6a30bf1
   "id": "da50be89",
=======
   "id": "161f9476",
>>>>>>> documentation-devel
||||||| d28b18c
   "id": "161f9476",
=======
   "id": "ff92ca00",
>>>>>>> documentation-devel
||||||| 6893f63
<<<<<<< HEAD
   "id": "196f784e",
||||||| 6a30bf1
   "id": "da50be89",
=======
   "id": "161f9476",
>>>>>>> documentation-devel
=======
   "id": "ec06a44e",
>>>>>>> c74c98c2450c2a1ba922ed9442f136238d6bc88b
=======
   "id": "2444a586",
>>>>>>> 035bb2637984ead2784fecff78c0c60cc4181202
||||||| 3effdfa5
   "id": "3b313039",
=======
   "id": "afca9eea",
>>>>>>> documentation-devel
||||||| 96c826da
<<<<<<< HEAD
<<<<<<< HEAD
<<<<<<< HEAD
<<<<<<< HEAD
<<<<<<< HEAD
   "id": "196f784e",
||||||| 6a30bf1
   "id": "da50be89",
=======
   "id": "161f9476",
>>>>>>> documentation-devel
||||||| d28b18c
   "id": "161f9476",
=======
   "id": "ff92ca00",
>>>>>>> documentation-devel
||||||| 6893f63
<<<<<<< HEAD
   "id": "196f784e",
||||||| 6a30bf1
   "id": "da50be89",
=======
   "id": "161f9476",
>>>>>>> documentation-devel
=======
   "id": "ec06a44e",
>>>>>>> c74c98c2450c2a1ba922ed9442f136238d6bc88b
||||||| 6d93b645
   "id": "ff92ca00",
=======
   "id": "3b313039",
>>>>>>> documentation-devel
||||||| 804edffb
<<<<<<< HEAD
<<<<<<< HEAD
<<<<<<< HEAD
   "id": "196f784e",
||||||| 6a30bf1
   "id": "da50be89",
=======
   "id": "161f9476",
>>>>>>> documentation-devel
||||||| d28b18c
   "id": "161f9476",
=======
   "id": "ff92ca00",
>>>>>>> documentation-devel
||||||| 6893f63
<<<<<<< HEAD
   "id": "196f784e",
||||||| 6a30bf1
   "id": "da50be89",
=======
   "id": "161f9476",
>>>>>>> documentation-devel
=======
   "id": "ec06a44e",
>>>>>>> c74c98c2450c2a1ba922ed9442f136238d6bc88b
=======
   "id": "2444a586",
>>>>>>> 035bb2637984ead2784fecff78c0c60cc4181202
=======
   "id": "706984f4",
>>>>>>> 619c01f26351d57ac14d974b7af136ac5756103f
   "metadata": {
    "lines_to_next_cell": 0
   },
   "source": [
    "See if clustering with the positive MULTISPATI PCs give more spatially coherent clusters"
   ]
  },
  {
   "cell_type": "code",
   "execution_count": null,
<<<<<<< HEAD
<<<<<<< HEAD
<<<<<<< HEAD
<<<<<<< HEAD
<<<<<<< HEAD
<<<<<<< HEAD
<<<<<<< HEAD
   "id": "a7f1b064",
||||||| 6a30bf1
   "id": "21585cc0",
=======
   "id": "fa1afb78",
>>>>>>> documentation-devel
||||||| d28b18c
   "id": "fa1afb78",
=======
   "id": "6ced5243",
>>>>>>> documentation-devel
||||||| 6893f63
<<<<<<< HEAD
   "id": "a7f1b064",
||||||| 6a30bf1
   "id": "21585cc0",
=======
   "id": "fa1afb78",
>>>>>>> documentation-devel
=======
   "id": "d9a1bc91",
>>>>>>> c74c98c2450c2a1ba922ed9442f136238d6bc88b
||||||| 6d93b645
   "id": "6ced5243",
=======
   "id": "a70fc210",
>>>>>>> documentation-devel
||||||| 804edffb
<<<<<<< HEAD
<<<<<<< HEAD
<<<<<<< HEAD
   "id": "a7f1b064",
||||||| 6a30bf1
   "id": "21585cc0",
=======
   "id": "fa1afb78",
>>>>>>> documentation-devel
||||||| d28b18c
   "id": "fa1afb78",
=======
   "id": "6ced5243",
>>>>>>> documentation-devel
||||||| 6893f63
<<<<<<< HEAD
   "id": "a7f1b064",
||||||| 6a30bf1
   "id": "21585cc0",
=======
   "id": "fa1afb78",
>>>>>>> documentation-devel
=======
   "id": "d9a1bc91",
>>>>>>> c74c98c2450c2a1ba922ed9442f136238d6bc88b
=======
   "id": "170d523d",
>>>>>>> 035bb2637984ead2784fecff78c0c60cc4181202
||||||| 3effdfa5
   "id": "a70fc210",
=======
   "id": "526b54b9",
>>>>>>> documentation-devel
||||||| 96c826da
<<<<<<< HEAD
<<<<<<< HEAD
<<<<<<< HEAD
<<<<<<< HEAD
<<<<<<< HEAD
   "id": "a7f1b064",
||||||| 6a30bf1
   "id": "21585cc0",
=======
   "id": "fa1afb78",
>>>>>>> documentation-devel
||||||| d28b18c
   "id": "fa1afb78",
=======
   "id": "6ced5243",
>>>>>>> documentation-devel
||||||| 6893f63
<<<<<<< HEAD
   "id": "a7f1b064",
||||||| 6a30bf1
   "id": "21585cc0",
=======
   "id": "fa1afb78",
>>>>>>> documentation-devel
=======
   "id": "d9a1bc91",
>>>>>>> c74c98c2450c2a1ba922ed9442f136238d6bc88b
||||||| 6d93b645
   "id": "6ced5243",
=======
   "id": "a70fc210",
>>>>>>> documentation-devel
||||||| 804edffb
<<<<<<< HEAD
<<<<<<< HEAD
<<<<<<< HEAD
   "id": "a7f1b064",
||||||| 6a30bf1
   "id": "21585cc0",
=======
   "id": "fa1afb78",
>>>>>>> documentation-devel
||||||| d28b18c
   "id": "fa1afb78",
=======
   "id": "6ced5243",
>>>>>>> documentation-devel
||||||| 6893f63
<<<<<<< HEAD
   "id": "a7f1b064",
||||||| 6a30bf1
   "id": "21585cc0",
=======
   "id": "fa1afb78",
>>>>>>> documentation-devel
=======
   "id": "d9a1bc91",
>>>>>>> c74c98c2450c2a1ba922ed9442f136238d6bc88b
=======
   "id": "170d523d",
>>>>>>> 035bb2637984ead2784fecff78c0c60cc4181202
=======
   "id": "3f9464ba",
>>>>>>> 619c01f26351d57ac14d974b7af136ac5756103f
   "metadata": {},
   "outputs": [],
   "source": [
    "system.time({\n",
    "    set.seed(29)\n",
    "    sfe$clusts_multispati <- clusterRows(reducedDim(sfe, \"multispati\")[,1:20], \n",
    "                                          BLUSPARAM = NNGraphParam(\n",
    "                                              cluster.fun = \"leiden\",\n",
    "                                              cluster.args = list(\n",
    "                                                  objective_function = \"modularity\",\n",
    "                                                  resolution_parameter = 1\n",
    "                                              )\n",
    "                                          ))\n",
    "})"
   ]
  },
  {
   "cell_type": "markdown",
<<<<<<< HEAD
<<<<<<< HEAD
<<<<<<< HEAD
<<<<<<< HEAD
<<<<<<< HEAD
<<<<<<< HEAD
<<<<<<< HEAD
   "id": "3d9c8b57",
||||||| 6a30bf1
   "id": "76ae4814",
=======
   "id": "f471face",
>>>>>>> documentation-devel
||||||| d28b18c
   "id": "f471face",
=======
   "id": "8c90992f",
>>>>>>> documentation-devel
||||||| 6893f63
<<<<<<< HEAD
   "id": "3d9c8b57",
||||||| 6a30bf1
   "id": "76ae4814",
=======
   "id": "f471face",
>>>>>>> documentation-devel
=======
   "id": "54d5274d",
>>>>>>> c74c98c2450c2a1ba922ed9442f136238d6bc88b
||||||| 6d93b645
   "id": "8c90992f",
=======
   "id": "78c1b3ac",
>>>>>>> documentation-devel
||||||| 804edffb
<<<<<<< HEAD
<<<<<<< HEAD
<<<<<<< HEAD
   "id": "3d9c8b57",
||||||| 6a30bf1
   "id": "76ae4814",
=======
   "id": "f471face",
>>>>>>> documentation-devel
||||||| d28b18c
   "id": "f471face",
=======
   "id": "8c90992f",
>>>>>>> documentation-devel
||||||| 6893f63
<<<<<<< HEAD
   "id": "3d9c8b57",
||||||| 6a30bf1
   "id": "76ae4814",
=======
   "id": "f471face",
>>>>>>> documentation-devel
=======
   "id": "54d5274d",
>>>>>>> c74c98c2450c2a1ba922ed9442f136238d6bc88b
=======
   "id": "8fc5cc0b",
>>>>>>> 035bb2637984ead2784fecff78c0c60cc4181202
||||||| 3effdfa5
   "id": "78c1b3ac",
=======
   "id": "7d5b1468",
>>>>>>> documentation-devel
||||||| 96c826da
<<<<<<< HEAD
<<<<<<< HEAD
<<<<<<< HEAD
<<<<<<< HEAD
<<<<<<< HEAD
   "id": "3d9c8b57",
||||||| 6a30bf1
   "id": "76ae4814",
=======
   "id": "f471face",
>>>>>>> documentation-devel
||||||| d28b18c
   "id": "f471face",
=======
   "id": "8c90992f",
>>>>>>> documentation-devel
||||||| 6893f63
<<<<<<< HEAD
   "id": "3d9c8b57",
||||||| 6a30bf1
   "id": "76ae4814",
=======
   "id": "f471face",
>>>>>>> documentation-devel
=======
   "id": "54d5274d",
>>>>>>> c74c98c2450c2a1ba922ed9442f136238d6bc88b
||||||| 6d93b645
   "id": "8c90992f",
=======
   "id": "78c1b3ac",
>>>>>>> documentation-devel
||||||| 804edffb
<<<<<<< HEAD
<<<<<<< HEAD
<<<<<<< HEAD
   "id": "3d9c8b57",
||||||| 6a30bf1
   "id": "76ae4814",
=======
   "id": "f471face",
>>>>>>> documentation-devel
||||||| d28b18c
   "id": "f471face",
=======
   "id": "8c90992f",
>>>>>>> documentation-devel
||||||| 6893f63
<<<<<<< HEAD
   "id": "3d9c8b57",
||||||| 6a30bf1
   "id": "76ae4814",
=======
   "id": "f471face",
>>>>>>> documentation-devel
=======
   "id": "54d5274d",
>>>>>>> c74c98c2450c2a1ba922ed9442f136238d6bc88b
=======
   "id": "8fc5cc0b",
>>>>>>> 035bb2637984ead2784fecff78c0c60cc4181202
=======
   "id": "4aa069dd",
>>>>>>> 619c01f26351d57ac14d974b7af136ac5756103f
   "metadata": {
    "lines_to_next_cell": 0
   },
   "source": [
    "Plot the clusters in space:"
   ]
  },
  {
   "cell_type": "code",
   "execution_count": null,
<<<<<<< HEAD
<<<<<<< HEAD
<<<<<<< HEAD
<<<<<<< HEAD
<<<<<<< HEAD
<<<<<<< HEAD
<<<<<<< HEAD
   "id": "acdb24b9",
||||||| 6a30bf1
   "id": "dfddc3c7",
=======
   "id": "a86886a4",
>>>>>>> documentation-devel
||||||| d28b18c
   "id": "a86886a4",
=======
   "id": "0a4b4cbc",
>>>>>>> documentation-devel
||||||| 6893f63
<<<<<<< HEAD
   "id": "acdb24b9",
||||||| 6a30bf1
   "id": "dfddc3c7",
=======
   "id": "a86886a4",
>>>>>>> documentation-devel
=======
   "id": "f2aece12",
>>>>>>> c74c98c2450c2a1ba922ed9442f136238d6bc88b
||||||| 6d93b645
   "id": "0a4b4cbc",
=======
   "id": "9fa55939",
>>>>>>> documentation-devel
||||||| 804edffb
<<<<<<< HEAD
<<<<<<< HEAD
<<<<<<< HEAD
   "id": "acdb24b9",
||||||| 6a30bf1
   "id": "dfddc3c7",
=======
   "id": "a86886a4",
>>>>>>> documentation-devel
||||||| d28b18c
   "id": "a86886a4",
=======
   "id": "0a4b4cbc",
>>>>>>> documentation-devel
||||||| 6893f63
<<<<<<< HEAD
   "id": "acdb24b9",
||||||| 6a30bf1
   "id": "dfddc3c7",
=======
   "id": "a86886a4",
>>>>>>> documentation-devel
=======
   "id": "f2aece12",
>>>>>>> c74c98c2450c2a1ba922ed9442f136238d6bc88b
=======
   "id": "d85b382d",
>>>>>>> 035bb2637984ead2784fecff78c0c60cc4181202
||||||| 3effdfa5
   "id": "9fa55939",
=======
   "id": "05fbcadf",
>>>>>>> documentation-devel
||||||| 96c826da
<<<<<<< HEAD
<<<<<<< HEAD
<<<<<<< HEAD
<<<<<<< HEAD
<<<<<<< HEAD
   "id": "acdb24b9",
||||||| 6a30bf1
   "id": "dfddc3c7",
=======
   "id": "a86886a4",
>>>>>>> documentation-devel
||||||| d28b18c
   "id": "a86886a4",
=======
   "id": "0a4b4cbc",
>>>>>>> documentation-devel
||||||| 6893f63
<<<<<<< HEAD
   "id": "acdb24b9",
||||||| 6a30bf1
   "id": "dfddc3c7",
=======
   "id": "a86886a4",
>>>>>>> documentation-devel
=======
   "id": "f2aece12",
>>>>>>> c74c98c2450c2a1ba922ed9442f136238d6bc88b
||||||| 6d93b645
   "id": "0a4b4cbc",
=======
   "id": "9fa55939",
>>>>>>> documentation-devel
||||||| 804edffb
<<<<<<< HEAD
<<<<<<< HEAD
<<<<<<< HEAD
   "id": "acdb24b9",
||||||| 6a30bf1
   "id": "dfddc3c7",
=======
   "id": "a86886a4",
>>>>>>> documentation-devel
||||||| d28b18c
   "id": "a86886a4",
=======
   "id": "0a4b4cbc",
>>>>>>> documentation-devel
||||||| 6893f63
<<<<<<< HEAD
   "id": "acdb24b9",
||||||| 6a30bf1
   "id": "dfddc3c7",
=======
   "id": "a86886a4",
>>>>>>> documentation-devel
=======
   "id": "f2aece12",
>>>>>>> c74c98c2450c2a1ba922ed9442f136238d6bc88b
=======
   "id": "d85b382d",
>>>>>>> 035bb2637984ead2784fecff78c0c60cc4181202
=======
   "id": "a64ff11f",
>>>>>>> 619c01f26351d57ac14d974b7af136ac5756103f
   "metadata": {
    "fig.height": 4,
    "fig.width": 11
   },
   "outputs": [],
   "source": [
    "plotSpatialFeature(sfe, c(\"clusts_nonspatial\", \"clusts_multispati\"), \n",
    "                   colGeometryName = \"centroids\",\n",
    "                   scattermore = TRUE) &\n",
    "     guides(colour = guide_legend(override.aes = list(size=2), ncol = 2))"
   ]
  },
  {
   "cell_type": "markdown",
<<<<<<< HEAD
<<<<<<< HEAD
<<<<<<< HEAD
<<<<<<< HEAD
<<<<<<< HEAD
<<<<<<< HEAD
<<<<<<< HEAD
   "id": "c1c4d743",
||||||| 6a30bf1
   "id": "ef89dc7e",
=======
   "id": "ea5daabd",
>>>>>>> documentation-devel
||||||| d28b18c
   "id": "ea5daabd",
=======
   "id": "65548e8f",
>>>>>>> documentation-devel
||||||| 6893f63
<<<<<<< HEAD
   "id": "c1c4d743",
||||||| 6a30bf1
   "id": "ef89dc7e",
=======
   "id": "ea5daabd",
>>>>>>> documentation-devel
=======
   "id": "8c0b8707",
>>>>>>> c74c98c2450c2a1ba922ed9442f136238d6bc88b
||||||| 6d93b645
   "id": "65548e8f",
=======
   "id": "be7eb3bc",
>>>>>>> documentation-devel
||||||| 804edffb
<<<<<<< HEAD
<<<<<<< HEAD
<<<<<<< HEAD
   "id": "c1c4d743",
||||||| 6a30bf1
   "id": "ef89dc7e",
=======
   "id": "ea5daabd",
>>>>>>> documentation-devel
||||||| d28b18c
   "id": "ea5daabd",
=======
   "id": "65548e8f",
>>>>>>> documentation-devel
||||||| 6893f63
<<<<<<< HEAD
   "id": "c1c4d743",
||||||| 6a30bf1
   "id": "ef89dc7e",
=======
   "id": "ea5daabd",
>>>>>>> documentation-devel
=======
   "id": "8c0b8707",
>>>>>>> c74c98c2450c2a1ba922ed9442f136238d6bc88b
=======
   "id": "0a79f4c2",
>>>>>>> 035bb2637984ead2784fecff78c0c60cc4181202
||||||| 3effdfa5
   "id": "be7eb3bc",
=======
   "id": "51aaa1de",
>>>>>>> documentation-devel
||||||| 96c826da
<<<<<<< HEAD
<<<<<<< HEAD
<<<<<<< HEAD
<<<<<<< HEAD
<<<<<<< HEAD
   "id": "c1c4d743",
||||||| 6a30bf1
   "id": "ef89dc7e",
=======
   "id": "ea5daabd",
>>>>>>> documentation-devel
||||||| d28b18c
   "id": "ea5daabd",
=======
   "id": "65548e8f",
>>>>>>> documentation-devel
||||||| 6893f63
<<<<<<< HEAD
   "id": "c1c4d743",
||||||| 6a30bf1
   "id": "ef89dc7e",
=======
   "id": "ea5daabd",
>>>>>>> documentation-devel
=======
   "id": "8c0b8707",
>>>>>>> c74c98c2450c2a1ba922ed9442f136238d6bc88b
||||||| 6d93b645
   "id": "65548e8f",
=======
   "id": "be7eb3bc",
>>>>>>> documentation-devel
||||||| 804edffb
<<<<<<< HEAD
<<<<<<< HEAD
<<<<<<< HEAD
   "id": "c1c4d743",
||||||| 6a30bf1
   "id": "ef89dc7e",
=======
   "id": "ea5daabd",
>>>>>>> documentation-devel
||||||| d28b18c
   "id": "ea5daabd",
=======
   "id": "65548e8f",
>>>>>>> documentation-devel
||||||| 6893f63
<<<<<<< HEAD
   "id": "c1c4d743",
||||||| 6a30bf1
   "id": "ef89dc7e",
=======
   "id": "ea5daabd",
>>>>>>> documentation-devel
=======
   "id": "8c0b8707",
>>>>>>> c74c98c2450c2a1ba922ed9442f136238d6bc88b
=======
   "id": "0a79f4c2",
>>>>>>> 035bb2637984ead2784fecff78c0c60cc4181202
=======
   "id": "1f43f0c0",
>>>>>>> 619c01f26351d57ac14d974b7af136ac5756103f
   "metadata": {
    "lines_to_next_cell": 0
   },
   "source": [
    "The MULTISPATI clusters do look somewhat more spatially structured than clusters from non-spatial PCA. Also zoom into a small area:"
   ]
  },
  {
   "cell_type": "code",
   "execution_count": null,
<<<<<<< HEAD
<<<<<<< HEAD
<<<<<<< HEAD
<<<<<<< HEAD
<<<<<<< HEAD
<<<<<<< HEAD
<<<<<<< HEAD
   "id": "464539ed",
||||||| 6a30bf1
   "id": "8623c9d7",
=======
   "id": "09b49061",
>>>>>>> documentation-devel
||||||| d28b18c
   "id": "09b49061",
=======
   "id": "c251740d",
>>>>>>> documentation-devel
||||||| 6893f63
<<<<<<< HEAD
   "id": "464539ed",
||||||| 6a30bf1
   "id": "8623c9d7",
=======
   "id": "09b49061",
>>>>>>> documentation-devel
=======
   "id": "02462d4c",
>>>>>>> c74c98c2450c2a1ba922ed9442f136238d6bc88b
||||||| 6d93b645
   "id": "c251740d",
=======
   "id": "ded56cfb",
>>>>>>> documentation-devel
||||||| 804edffb
<<<<<<< HEAD
<<<<<<< HEAD
<<<<<<< HEAD
   "id": "464539ed",
||||||| 6a30bf1
   "id": "8623c9d7",
=======
   "id": "09b49061",
>>>>>>> documentation-devel
||||||| d28b18c
   "id": "09b49061",
=======
   "id": "c251740d",
>>>>>>> documentation-devel
||||||| 6893f63
<<<<<<< HEAD
   "id": "464539ed",
||||||| 6a30bf1
   "id": "8623c9d7",
=======
   "id": "09b49061",
>>>>>>> documentation-devel
=======
   "id": "02462d4c",
>>>>>>> c74c98c2450c2a1ba922ed9442f136238d6bc88b
=======
   "id": "920861e9",
>>>>>>> 035bb2637984ead2784fecff78c0c60cc4181202
||||||| 3effdfa5
   "id": "ded56cfb",
=======
   "id": "6c77cd7c",
>>>>>>> documentation-devel
||||||| 96c826da
<<<<<<< HEAD
<<<<<<< HEAD
<<<<<<< HEAD
<<<<<<< HEAD
<<<<<<< HEAD
   "id": "464539ed",
||||||| 6a30bf1
   "id": "8623c9d7",
=======
   "id": "09b49061",
>>>>>>> documentation-devel
||||||| d28b18c
   "id": "09b49061",
=======
   "id": "c251740d",
>>>>>>> documentation-devel
||||||| 6893f63
<<<<<<< HEAD
   "id": "464539ed",
||||||| 6a30bf1
   "id": "8623c9d7",
=======
   "id": "09b49061",
>>>>>>> documentation-devel
=======
   "id": "02462d4c",
>>>>>>> c74c98c2450c2a1ba922ed9442f136238d6bc88b
||||||| 6d93b645
   "id": "c251740d",
=======
   "id": "ded56cfb",
>>>>>>> documentation-devel
||||||| 804edffb
<<<<<<< HEAD
<<<<<<< HEAD
<<<<<<< HEAD
   "id": "464539ed",
||||||| 6a30bf1
   "id": "8623c9d7",
=======
   "id": "09b49061",
>>>>>>> documentation-devel
||||||| d28b18c
   "id": "09b49061",
=======
   "id": "c251740d",
>>>>>>> documentation-devel
||||||| 6893f63
<<<<<<< HEAD
   "id": "464539ed",
||||||| 6a30bf1
   "id": "8623c9d7",
=======
   "id": "09b49061",
>>>>>>> documentation-devel
=======
   "id": "02462d4c",
>>>>>>> c74c98c2450c2a1ba922ed9442f136238d6bc88b
=======
   "id": "920861e9",
>>>>>>> 035bb2637984ead2784fecff78c0c60cc4181202
=======
   "id": "c284e153",
>>>>>>> 619c01f26351d57ac14d974b7af136ac5756103f
   "metadata": {
    "fig.height": 4,
    "fig.width": 11
   },
   "outputs": [],
   "source": [
    "plotSpatialFeature(sfe, c(\"clusts_nonspatial\", \"clusts_multispati\"), \n",
    "                   colGeometryName = \"cellSeg\",\n",
    "                   bbox = bbox_use) &\n",
    "     guides(fill = guide_legend(ncol = 2))"
   ]
  },
  {
   "cell_type": "markdown",
<<<<<<< HEAD
<<<<<<< HEAD
<<<<<<< HEAD
<<<<<<< HEAD
<<<<<<< HEAD
<<<<<<< HEAD
<<<<<<< HEAD
   "id": "65761326",
||||||| 6a30bf1
   "id": "475f7123",
=======
   "id": "042c0200",
>>>>>>> documentation-devel
||||||| d28b18c
   "id": "042c0200",
=======
   "id": "e385d181",
>>>>>>> documentation-devel
||||||| 6893f63
<<<<<<< HEAD
   "id": "65761326",
||||||| 6a30bf1
   "id": "475f7123",
=======
   "id": "042c0200",
>>>>>>> documentation-devel
=======
   "id": "ce1d7c8b",
>>>>>>> c74c98c2450c2a1ba922ed9442f136238d6bc88b
||||||| 6d93b645
   "id": "e385d181",
=======
   "id": "fcd63619",
>>>>>>> documentation-devel
||||||| 804edffb
<<<<<<< HEAD
<<<<<<< HEAD
<<<<<<< HEAD
   "id": "65761326",
||||||| 6a30bf1
   "id": "475f7123",
=======
   "id": "042c0200",
>>>>>>> documentation-devel
||||||| d28b18c
   "id": "042c0200",
=======
   "id": "e385d181",
>>>>>>> documentation-devel
||||||| 6893f63
<<<<<<< HEAD
   "id": "65761326",
||||||| 6a30bf1
   "id": "475f7123",
=======
   "id": "042c0200",
>>>>>>> documentation-devel
=======
   "id": "ce1d7c8b",
>>>>>>> c74c98c2450c2a1ba922ed9442f136238d6bc88b
=======
   "id": "d084e464",
>>>>>>> 035bb2637984ead2784fecff78c0c60cc4181202
||||||| 3effdfa5
   "id": "fcd63619",
=======
   "id": "3a23e0dd",
>>>>>>> documentation-devel
||||||| 96c826da
<<<<<<< HEAD
<<<<<<< HEAD
<<<<<<< HEAD
<<<<<<< HEAD
<<<<<<< HEAD
   "id": "65761326",
||||||| 6a30bf1
   "id": "475f7123",
=======
   "id": "042c0200",
>>>>>>> documentation-devel
||||||| d28b18c
   "id": "042c0200",
=======
   "id": "e385d181",
>>>>>>> documentation-devel
||||||| 6893f63
<<<<<<< HEAD
   "id": "65761326",
||||||| 6a30bf1
   "id": "475f7123",
=======
   "id": "042c0200",
>>>>>>> documentation-devel
=======
   "id": "ce1d7c8b",
>>>>>>> c74c98c2450c2a1ba922ed9442f136238d6bc88b
||||||| 6d93b645
   "id": "e385d181",
=======
   "id": "fcd63619",
>>>>>>> documentation-devel
||||||| 804edffb
<<<<<<< HEAD
<<<<<<< HEAD
<<<<<<< HEAD
   "id": "65761326",
||||||| 6a30bf1
   "id": "475f7123",
=======
   "id": "042c0200",
>>>>>>> documentation-devel
||||||| d28b18c
   "id": "042c0200",
=======
   "id": "e385d181",
>>>>>>> documentation-devel
||||||| 6893f63
<<<<<<< HEAD
   "id": "65761326",
||||||| 6a30bf1
   "id": "475f7123",
=======
   "id": "042c0200",
>>>>>>> documentation-devel
=======
   "id": "ce1d7c8b",
>>>>>>> c74c98c2450c2a1ba922ed9442f136238d6bc88b
=======
   "id": "d084e464",
>>>>>>> 035bb2637984ead2784fecff78c0c60cc4181202
=======
   "id": "0322090a",
>>>>>>> 619c01f26351d57ac14d974b7af136ac5756103f
   "metadata": {
    "lines_to_next_cell": 0
   },
   "source": [
    "What do these clusters mean? Clusters are supposed to be groups of different spots that are more similar within a group, sharing some characteristics. Non-spatial and MULTISPATI PCA use different characteristics for the clustering. Non-spatial PCA finds genes that are good for telling cell types apart, although those genes may happen to be very spatially structured. Non-spatial clustering aims to find these groups only from gene expression, and cells with similar gene expression can be surrounded by cells of other types in histological space. This is just like mapping Art Deco buildings, which are often near Spanish revival and Beaux Art buildings whose styles are quite different and perform different functions, thus not necessarily forming a coherent spatial region. \n",
    "\n",
    "In contrast, MULTISPATI's positive components find genes that must characterize spatial regions in addition to distinguishing between different cell types. Which genes are involved in each MULTISPATI component may be as interesting as the clusters. It would be interesting to perform gene set enrichment analysis, or to interpret this as some sort of spatial patterns of spatially variable genes. This is like mapping when the buildings were built, so Art Deco, Spanish revival, Beaux Art popular in the 1920s and 1930s will end up in the same cluster and form a more spatially coherent region, which can be found in DTLA Historical Core and Jewelry District, and Old Pasadena. Hence non-spatial clustering of spatial data isn't necessarily bad. Rather, it tells a different story and reveals different aspects of the data from spatial clustering. \n",
    "\n",
    "# Session Info"
   ]
  },
  {
   "cell_type": "code",
   "execution_count": null,
<<<<<<< HEAD
<<<<<<< HEAD
<<<<<<< HEAD
<<<<<<< HEAD
<<<<<<< HEAD
<<<<<<< HEAD
<<<<<<< HEAD
   "id": "e09fe110",
||||||| 6a30bf1
   "id": "5b66cfaf",
=======
   "id": "513ad36c",
>>>>>>> documentation-devel
||||||| d28b18c
   "id": "513ad36c",
=======
   "id": "e6b2dd93",
>>>>>>> documentation-devel
||||||| 6893f63
<<<<<<< HEAD
   "id": "e09fe110",
||||||| 6a30bf1
   "id": "5b66cfaf",
=======
   "id": "513ad36c",
>>>>>>> documentation-devel
=======
   "id": "cf98be88",
>>>>>>> c74c98c2450c2a1ba922ed9442f136238d6bc88b
||||||| 6d93b645
   "id": "e6b2dd93",
=======
   "id": "dda359f6",
>>>>>>> documentation-devel
||||||| 804edffb
<<<<<<< HEAD
<<<<<<< HEAD
<<<<<<< HEAD
   "id": "e09fe110",
||||||| 6a30bf1
   "id": "5b66cfaf",
=======
   "id": "513ad36c",
>>>>>>> documentation-devel
||||||| d28b18c
   "id": "513ad36c",
=======
   "id": "e6b2dd93",
>>>>>>> documentation-devel
||||||| 6893f63
<<<<<<< HEAD
   "id": "e09fe110",
||||||| 6a30bf1
   "id": "5b66cfaf",
=======
   "id": "513ad36c",
>>>>>>> documentation-devel
=======
   "id": "cf98be88",
>>>>>>> c74c98c2450c2a1ba922ed9442f136238d6bc88b
=======
   "id": "2cce1858",
>>>>>>> 035bb2637984ead2784fecff78c0c60cc4181202
||||||| 3effdfa5
   "id": "dda359f6",
=======
   "id": "d6f9bcdf",
>>>>>>> documentation-devel
||||||| 96c826da
<<<<<<< HEAD
<<<<<<< HEAD
<<<<<<< HEAD
<<<<<<< HEAD
<<<<<<< HEAD
   "id": "e09fe110",
||||||| 6a30bf1
   "id": "5b66cfaf",
=======
   "id": "513ad36c",
>>>>>>> documentation-devel
||||||| d28b18c
   "id": "513ad36c",
=======
   "id": "e6b2dd93",
>>>>>>> documentation-devel
||||||| 6893f63
<<<<<<< HEAD
   "id": "e09fe110",
||||||| 6a30bf1
   "id": "5b66cfaf",
=======
   "id": "513ad36c",
>>>>>>> documentation-devel
=======
   "id": "cf98be88",
>>>>>>> c74c98c2450c2a1ba922ed9442f136238d6bc88b
||||||| 6d93b645
   "id": "e6b2dd93",
=======
   "id": "dda359f6",
>>>>>>> documentation-devel
||||||| 804edffb
<<<<<<< HEAD
<<<<<<< HEAD
<<<<<<< HEAD
   "id": "e09fe110",
||||||| 6a30bf1
   "id": "5b66cfaf",
=======
   "id": "513ad36c",
>>>>>>> documentation-devel
||||||| d28b18c
   "id": "513ad36c",
=======
   "id": "e6b2dd93",
>>>>>>> documentation-devel
||||||| 6893f63
<<<<<<< HEAD
   "id": "e09fe110",
||||||| 6a30bf1
   "id": "5b66cfaf",
=======
   "id": "513ad36c",
>>>>>>> documentation-devel
=======
   "id": "cf98be88",
>>>>>>> c74c98c2450c2a1ba922ed9442f136238d6bc88b
=======
   "id": "2cce1858",
>>>>>>> 035bb2637984ead2784fecff78c0c60cc4181202
=======
   "id": "1aca44e5",
>>>>>>> 619c01f26351d57ac14d974b7af136ac5756103f
   "metadata": {},
   "outputs": [],
   "source": [
    "sessionInfo()"
   ]
  },
  {
   "cell_type": "markdown",
<<<<<<< HEAD
<<<<<<< HEAD
<<<<<<< HEAD
<<<<<<< HEAD
<<<<<<< HEAD
<<<<<<< HEAD
<<<<<<< HEAD
   "id": "b36f9bbb",
||||||| 6a30bf1
   "id": "ce0f65e8",
=======
   "id": "b1e64227",
>>>>>>> documentation-devel
||||||| d28b18c
   "id": "b1e64227",
=======
   "id": "143bde8a",
>>>>>>> documentation-devel
||||||| 6893f63
<<<<<<< HEAD
   "id": "b36f9bbb",
||||||| 6a30bf1
   "id": "ce0f65e8",
=======
   "id": "b1e64227",
>>>>>>> documentation-devel
=======
   "id": "7f46a538",
>>>>>>> c74c98c2450c2a1ba922ed9442f136238d6bc88b
||||||| 6d93b645
   "id": "143bde8a",
=======
   "id": "82c10072",
>>>>>>> documentation-devel
||||||| 804edffb
<<<<<<< HEAD
<<<<<<< HEAD
<<<<<<< HEAD
   "id": "b36f9bbb",
||||||| 6a30bf1
   "id": "ce0f65e8",
=======
   "id": "b1e64227",
>>>>>>> documentation-devel
||||||| d28b18c
   "id": "b1e64227",
=======
   "id": "143bde8a",
>>>>>>> documentation-devel
||||||| 6893f63
<<<<<<< HEAD
   "id": "b36f9bbb",
||||||| 6a30bf1
   "id": "ce0f65e8",
=======
   "id": "b1e64227",
>>>>>>> documentation-devel
=======
   "id": "7f46a538",
>>>>>>> c74c98c2450c2a1ba922ed9442f136238d6bc88b
=======
   "id": "8b684467",
>>>>>>> 035bb2637984ead2784fecff78c0c60cc4181202
||||||| 3effdfa5
   "id": "82c10072",
=======
   "id": "f2babed1",
>>>>>>> documentation-devel
||||||| 96c826da
<<<<<<< HEAD
<<<<<<< HEAD
<<<<<<< HEAD
<<<<<<< HEAD
<<<<<<< HEAD
   "id": "b36f9bbb",
||||||| 6a30bf1
   "id": "ce0f65e8",
=======
   "id": "b1e64227",
>>>>>>> documentation-devel
||||||| d28b18c
   "id": "b1e64227",
=======
   "id": "143bde8a",
>>>>>>> documentation-devel
||||||| 6893f63
<<<<<<< HEAD
   "id": "b36f9bbb",
||||||| 6a30bf1
   "id": "ce0f65e8",
=======
   "id": "b1e64227",
>>>>>>> documentation-devel
=======
   "id": "7f46a538",
>>>>>>> c74c98c2450c2a1ba922ed9442f136238d6bc88b
||||||| 6d93b645
   "id": "143bde8a",
=======
   "id": "82c10072",
>>>>>>> documentation-devel
||||||| 804edffb
<<<<<<< HEAD
<<<<<<< HEAD
<<<<<<< HEAD
   "id": "b36f9bbb",
||||||| 6a30bf1
   "id": "ce0f65e8",
=======
   "id": "b1e64227",
>>>>>>> documentation-devel
||||||| d28b18c
   "id": "b1e64227",
=======
   "id": "143bde8a",
>>>>>>> documentation-devel
||||||| 6893f63
<<<<<<< HEAD
   "id": "b36f9bbb",
||||||| 6a30bf1
   "id": "ce0f65e8",
=======
   "id": "b1e64227",
>>>>>>> documentation-devel
=======
   "id": "7f46a538",
>>>>>>> c74c98c2450c2a1ba922ed9442f136238d6bc88b
=======
   "id": "8b684467",
>>>>>>> 035bb2637984ead2784fecff78c0c60cc4181202
=======
   "id": "3862c320",
>>>>>>> 619c01f26351d57ac14d974b7af136ac5756103f
   "metadata": {},
   "source": [
    "# References"
   ]
  }
 ],
 "metadata": {
  "kernelspec": {
   "display_name": "R",
   "language": "R",
   "name": "ir"
  }
 },
 "nbformat": 4,
 "nbformat_minor": 5
}
