{
 "cells": [
  {
   "cell_type": "raw",
   "id": "367137ef",
   "metadata": {},
   "source": [
    "---\n",
    "title: \"MULTISPATI PCA and negative spatial autocorrelation\"\n",
    "author: \"Lambda Moses\"\n",
    "date: \"`r Sys.Date()`\"\n",
    "output: \n",
    "  html_document:\n",
    "  toc: true\n",
    "  toc_float:\n",
    "    collapsed: false\n",
    "  toc_depth: 3\n",
    "bibliography: ref.bib\n",
    "vignette: >\n",
    "  %\\VignetteIndexEntry{multispati}\n",
    "  %\\VignetteEngine{knitr::rmarkdown}\n",
    "  %\\VignetteEncoding{UTF-8}\n",
    "---"
   ]
  },
  {
   "cell_type": "code",
   "execution_count": null,
   "id": "70a836a9",
   "metadata": {
    "lines_to_next_cell": 2,
    "tags": [
     "remove_cell"
    ]
   },
   "outputs": [],
   "source": [
    "knitr::opts_chunk$set(\n",
    "  collapse = TRUE,\n",
    "  comment = \"#>\"\n",
    ")"
   ]
  },
  {
   "cell_type": "code",
   "execution_count": null,
   "id": "7080ec94",
   "metadata": {
    "eval": false,
    "tags": [
     "remove_cell"
    ]
   },
   "outputs": [],
   "source": [
    "# Install Google Colab dependencies\n",
    "# Note: this can take 30+ minutes (many of the dependencies include C++ code, which needs to be compiled)\n",
    "\n",
    "# First install `sf`, `ragg` and `textshaping` and their system dependencies:\n",
    "system(\"apt-get -y update && apt-get install -y  libudunits2-dev libgdal-dev libgeos-dev libproj-dev libharfbuzz-dev libfribidi-dev\")\n",
    "install.packages(\"sf\")\n",
    "install.packages(\"textshaping\")\n",
    "install.packages(\"ragg\")\n",
    "\n",
    "# Install system dependencies of some other R packages that Voyager either imports or suggests:\n",
    "system(\"apt-get install -y libfribidi-dev libcairo2-dev libmagick++-dev\")\n",
    "\n",
    "# Install Voyager from Bioconductor:\n",
    "install.packages(\"BiocManager\")\n",
    "BiocManager::install(version = \"3.17\", ask = FALSE, update = FALSE, Ncpus = 2)\n",
    "BiocManager::install(\"scater\")\n",
    "system.time(\n",
    "  BiocManager::install(\"Voyager\", dependencies = TRUE, Ncpus = 2, update = FALSE)\n",
    ")\n",
    "\n",
    "install.packages(c(\"tidyr\", \"tibble\", \"stringr\"))\n",
    "\n",
    "# Other packages used in this vignette\n",
    "packageVersion(\"Voyager\")"
   ]
  },
  {
   "cell_type": "markdown",
   "id": "4ede8042",
   "metadata": {},
   "source": [
    "# Introduction\n",
    "Due to the large number of genes quantified in single cell and spatial transcriptomics, dimension reduction is part of the standard workflow to analyze such data, to visualize, to help interpreting the data, to distill relevant information and reduce noise, to facilitate downstream analyses such as clustering and pseudotime, to project different samples into a shared latent space for data integration, and so on.\n",
    "\n",
    "The first dimension reduction methods we learn about, such as good old principal component analysis (PCA), tSNE, and UMAP, don't use spatial information. With the rise of spatial transcriptomics, some dimension reduction methods that take spatial dependence into account have been written. Some, such as `SpatialPCA` [@Shang2022-qy], `NSF` [@Townes2023-bi], and `MEFISTO` [@Velten2022-gv] use factor analysis or probabilistic PCA which is related to factor analysis, and model the factors as Gaussian processes, with a spatial kernel for the covariance matrix, so the factors have positive spatial autocorrelation and can be used for downstream clustering where the clusters can be more spatially coherent. Some use graph convolution networks on a spatial neighborhood graph to find spatially informed embeddings of the cells, such as `conST` [@Zong2022-tb] and `SpaceFlow` [@Ren2022-qx]. `SpaSRL` [@Zhang2023-kf] finds a low dimension projection of spatial neighborhood augmented data. \n",
    "\n",
    "Spatially informed dimension reduction is actually not new, and dates back to at least 1985, with Wartenberg's crossover of Moran's I and PCA [@Wartenberg1985-fk], which was generalized and further developed as MULTISPATI PCA [@Dray2008-en], implemented in the [`adespatial`](https://cran.r-project.org/web/packages/adespatial/index.html) package on CRAN. In short, while PCA tries to maximize the variance explained by each PC, MULTISPATI maximizes the product of Moran's I and variance explained. Also, while all the eigenvalues from PCA are non-negative, because the covariance matrix is positive semidefinite, MULTISPATI can give negative eigenvalues, which represent negative spatial autocorrelation, which can be present and interesting but is not as common as positive spatial autocorrelation and is often masked by the latter [@Griffith2019-bo]. \n",
    "\n",
    "In single cell -omics conventions, let $X$ denote a gene count matrix whose columns are cells or Visium spots and whose rows are genes, with $n$ columns. Let $W$ denote the row normalized $n\\times n$ adjacency matrix of the spatial neighborhood graph of the cells or Visium spots, which does not have to be symmetric. MULTISPATI diagonalizes a symmetric matrix\n",
    "\n",
    "$$\n",
    "H = \\frac 1 {2n} X(W^t+W)X^t\n",
    "$$\n",
    "\n",
    "However, the implementation in `adespatial` is more general and can be used for other multivariate analyses in the [duality diagram](https://www.ncbi.nlm.nih.gov/pmc/articles/PMC3265363/) paradigm, such as correspondence analysis; the equation above is simplified just for PCA, without having to introduce the duality diagram here.\n",
    "\n",
    "Voyager 1.2.0 (Bioconductor 3.17) has a much faster implementation of MULTISPATI PCA based on [`RSpectra`](https://cran.r-project.org/web/packages/RSpectra/index.html). See benchmark [here](https://lambdamoses.github.io/thevoyages/posts/2023-03-25-multispati-part-2/).\n",
    "\n",
    "In this vignette, we perform MULTISPATI PCA on the MERFISH mouse liver dataset. See the first vignette using this dataset [here](https://pachterlab.github.io/voyager/articles/vig6_merfish.html).\n",
    "\n",
    "Here we load the packages used:"
   ]
  },
  {
   "cell_type": "code",
   "execution_count": null,
   "id": "70c81c51",
   "metadata": {
    "message": false,
    "name": "setup"
   },
   "outputs": [],
   "source": [
    "library(Voyager)\n",
    "library(SFEData)\n",
    "library(SpatialFeatureExperiment)\n",
    "library(scater)\n",
    "library(scuttle)\n",
    "library(ggplot2)\n",
    "library(stringr)\n",
    "library(tidyr)\n",
    "library(tibble)\n",
    "library(BiocSingular)\n",
    "theme_set(theme_bw())"
   ]
  },
  {
   "cell_type": "code",
   "execution_count": null,
   "id": "3ca586f4",
   "metadata": {},
   "outputs": [],
   "source": [
    "(sfe <- VizgenLiverData())"
   ]
  },
  {
   "cell_type": "markdown",
   "id": "4729eae0",
   "metadata": {
    "lines_to_next_cell": 0
   },
   "source": [
    "# Quality control\n",
    "QC was already performed in the [first vignette](https://pachterlab.github.io/voyager/articles/vig6_merfish.html). We do the same QC here, but see the first vignette for more details."
   ]
  },
  {
   "cell_type": "code",
   "execution_count": null,
   "id": "e2bbcdd2",
   "metadata": {},
   "outputs": [],
   "source": [
    "is_blank <- str_detect(rownames(sfe), \"^Blank-\")\n",
    "sfe <- addPerCellQCMetrics(sfe, subset = list(blank = is_blank))"
   ]
  },
  {
   "cell_type": "code",
   "execution_count": null,
   "id": "6df5098f",
   "metadata": {},
   "outputs": [],
   "source": [
    "get_neg_ctrl_outliers <- function(col, sfe, nmads = 3, log = FALSE) {\n",
    "    inds <- colData(sfe)$nCounts > 0 & colData(sfe)[[col]] > 0\n",
    "    df <- colData(sfe)[inds,]\n",
    "    outlier_inds <- isOutlier(df[[col]], type = \"higher\", nmads = nmads, log = log)\n",
    "    outliers <- rownames(df)[outlier_inds]\n",
    "    col2 <- str_remove(col, \"^subsets_\")\n",
    "    col2 <- str_remove(col2, \"_percent$\")\n",
    "    new_colname <- paste(\"is\", col2, \"outlier\", sep = \"_\")\n",
    "    colData(sfe)[[new_colname]] <- colnames(sfe) %in% outliers\n",
    "    sfe\n",
    "}"
   ]
  },
  {
   "cell_type": "code",
   "execution_count": null,
   "id": "187f3b75",
   "metadata": {},
   "outputs": [],
   "source": [
    "sfe <- get_neg_ctrl_outliers(\"subsets_blank_percent\", sfe, log = TRUE)"
   ]
  },
  {
   "cell_type": "markdown",
   "id": "b8d447e7",
   "metadata": {
    "lines_to_next_cell": 0
   },
   "source": [
    "Remove the outliers and empty cells:"
   ]
  },
  {
   "cell_type": "code",
   "execution_count": null,
   "id": "b0d564fe",
   "metadata": {},
   "outputs": [],
   "source": [
    "(sfe <- sfe[, !sfe$is_blank_outlier & sfe$nCounts > 0])"
   ]
  },
  {
   "cell_type": "markdown",
   "id": "068380cf",
   "metadata": {},
   "source": [
    "There still are over 390,000 cells left after removing the outliers. Next we compute Moran's I for QC metrics, which requires a spatial neighborhood graph:"
   ]
  },
  {
   "cell_type": "code",
   "execution_count": null,
   "id": "96a25003",
   "metadata": {},
   "outputs": [],
   "source": [
    "system.time(\n",
    "    colGraph(sfe, \"knn5\") <- findSpatialNeighbors(sfe, method = \"knearneigh\", \n",
    "                                                  dist_type = \"idw\", k = 5, \n",
    "                                                  style = \"W\")\n",
    ")"
   ]
  },
  {
   "cell_type": "code",
   "execution_count": null,
   "id": "df24e9a3",
   "metadata": {},
   "outputs": [],
   "source": [
    "sfe <- colDataMoransI(sfe, c(\"nCounts\", \"nGenes\", \"volume\"), \n",
    "                      colGraphName = \"knn5\")"
   ]
  },
  {
   "cell_type": "code",
   "execution_count": null,
   "id": "5a5b66b3",
   "metadata": {},
   "outputs": [],
   "source": [
    "colFeatureData(sfe)[c(\"nCounts\", \"nGenes\", \"volume\"),]"
   ]
  },
  {
   "cell_type": "markdown",
   "id": "5eace4f9",
   "metadata": {},
   "source": [
    "Here Moran's I is a little negative, which may or may not be significant. The lower bound of Moran's I given the spatial neighborhood graph is usually greater than -1, while the upper bound is usually around 1. The bounds given this particular spatial neighborhood graph can be found here:"
   ]
  },
  {
   "cell_type": "code",
   "execution_count": null,
   "id": "6113eb62",
   "metadata": {},
   "outputs": [],
   "source": [
    "(mb <- moranBounds(colGraph(sfe, \"knn5\")))"
   ]
  },
  {
   "cell_type": "markdown",
   "id": "ad7832c4",
   "metadata": {
    "lines_to_next_cell": 0
   },
   "source": [
    "# Non-spatial PCA\n",
    "First we run non-spatial PCA, to compare to MULTISPATI."
   ]
  },
  {
   "cell_type": "code",
   "execution_count": null,
   "id": "52573605",
   "metadata": {},
   "outputs": [],
   "source": [
    "sfe <- logNormCounts(sfe)"
   ]
  },
  {
   "cell_type": "code",
   "execution_count": null,
   "id": "36d5e66c",
   "metadata": {},
   "outputs": [],
   "source": [
    "set.seed(29)\n",
    "system.time(\n",
    "    sfe <- runPCA(sfe, ncomponents = 20, subset_row = !is_blank,\n",
    "                  exprs_values = \"logcounts\",\n",
    "                  scale = TRUE, BSPARAM = IrlbaParam())\n",
    ")\n",
    "gc()"
   ]
  },
  {
   "cell_type": "markdown",
   "id": "b54d4c47",
   "metadata": {},
   "source": [
    "That's pretty quick for almost 400,000 cells, but there aren't that many genes here. Use the elbow plot to see variance explained by each PC:"
   ]
  },
  {
   "cell_type": "code",
   "execution_count": null,
   "id": "3f746942",
   "metadata": {},
   "outputs": [],
   "source": [
    "ElbowPlot(sfe)"
   ]
  },
  {
   "cell_type": "markdown",
   "id": "15b3f12f",
   "metadata": {
    "lines_to_next_cell": 0
   },
   "source": [
    "Plot top gene loadings in each PC"
   ]
  },
  {
   "cell_type": "code",
   "execution_count": null,
   "id": "ab905739",
   "metadata": {},
   "outputs": [],
   "source": [
    "plotDimLoadings(sfe)"
   ]
  },
  {
   "cell_type": "markdown",
   "id": "047fb24a",
   "metadata": {
    "lines_to_next_cell": 0
   },
   "source": [
    "Many of these genes seem to be related to the endothelium.\n",
    "\n",
    "Plot the first 4 PCs in space"
   ]
  },
  {
   "cell_type": "code",
   "execution_count": null,
   "id": "298d136a",
   "metadata": {
    "fig.height": 7,
    "fig.width": 9
   },
   "outputs": [],
   "source": [
    "spatialReducedDim(sfe, \"PCA\", 4, colGeometryName = \"centroids\", scattermore = TRUE,\n",
    "                  divergent = TRUE, diverge_center = 0)"
   ]
  },
  {
   "cell_type": "markdown",
   "id": "77349d21",
   "metadata": {},
   "source": [
    "PC1 and PC4 highlight the major blood vessels, while PC2 and PC3 have less spatial structure. While in the CosMX and Xenium datasets on this website, the top PCs have clear spatial structures despite the absence of spatial information in non-spatial PCA because of clear spatial compartments for some cell types, which does not seem to be the case in this dataset except for the blood vessels. We have seen above that some genes have strong spatial structures. \n",
    "\n",
    "While PC2 and PC3 don't seem to have large scale spatial structure, they may have more local spatial structure not obvious from plotting the entire section, so we zoom into a bounding box:"
   ]
  },
  {
   "cell_type": "code",
   "execution_count": null,
   "id": "efd3e403",
   "metadata": {},
   "outputs": [],
   "source": [
    "bbox_use <- c(xmin = 3000, xmax = 3500, ymin = 2500, ymax = 3000)"
   ]
  },
  {
   "cell_type": "code",
   "execution_count": null,
   "id": "1091a09d",
   "metadata": {
    "fig.height": 7,
    "fig.width": 9
   },
   "outputs": [],
   "source": [
    "spatialReducedDim(sfe, \"PCA\", ncomponents = 4, colGeometryName = \"cellSeg\",\n",
    "                  bbox = bbox_use, divergent = TRUE, diverge_center = 0)"
   ]
  },
  {
   "cell_type": "markdown",
   "id": "d4c14277",
   "metadata": {},
   "source": [
    "There's some spatial structure in PC2 and PC3 at a smaller scale, perhaps some negative spatial autocorrelation."
   ]
  },
  {
   "cell_type": "markdown",
   "id": "2d7c5273",
   "metadata": {},
   "source": [
    "# MULTISPATI PCA\n",
    "\n"
   ]
  }
 ],
 "metadata": {
  "kernelspec": {
   "display_name": "R",
   "language": "R",
   "name": "ir"
  }
 },
 "nbformat": 4,
 "nbformat_minor": 5
}
