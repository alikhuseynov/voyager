{
 "cells": [
  {
   "cell_type": "raw",
<<<<<<< HEAD
   "id": "1de0e597",
||||||| d29fab7
   "id": "2e9e0ad8",
=======
   "id": "9b7ddb43",
>>>>>>> documentation-devel
   "metadata": {},
   "source": [
    "---\n",
    "title: \"MULTISPATI PCA and negative spatial autocorrelation\"\n",
    "author: \"Lambda Moses\"\n",
    "date: \"`r Sys.Date()`\"\n",
    "output: \n",
    "  html_document:\n",
    "  toc: true\n",
    "  toc_float:\n",
    "    collapsed: false\n",
    "  toc_depth: 3\n",
    "bibliography: ref.bib\n",
    "vignette: >\n",
    "  %\\VignetteIndexEntry{multispati}\n",
    "  %\\VignetteEngine{knitr::rmarkdown}\n",
    "  %\\VignetteEncoding{UTF-8}\n",
    "---"
   ]
  },
  {
   "cell_type": "code",
   "execution_count": null,
<<<<<<< HEAD
   "id": "d957e1b1",
||||||| d29fab7
   "id": "23cfce46",
=======
   "id": "7bbb739b",
>>>>>>> documentation-devel
   "metadata": {
    "lines_to_next_cell": 2,
    "tags": [
     "remove_cell"
    ]
   },
   "outputs": [],
   "source": [
    "knitr::opts_chunk$set(\n",
    "  collapse = TRUE,\n",
    "  comment = \"#>\"\n",
    ")"
   ]
  },
  {
   "cell_type": "code",
   "execution_count": null,
<<<<<<< HEAD
   "id": "abe1fdf6",
||||||| d29fab7
   "id": "75440d8e",
=======
   "id": "203661bc",
>>>>>>> documentation-devel
   "metadata": {
    "eval": false,
    "tags": [
     "remove_cell"
    ]
   },
   "outputs": [],
   "source": [
    "# Install Google Colab dependencies\n",
    "# Note: this can take 30+ minutes (many of the dependencies include C++ code, which needs to be compiled)\n",
    "\n",
    "# First install `sf`, `ragg` and `textshaping` and their system dependencies:\n",
    "system(\"apt-get -y update && apt-get install -y  libudunits2-dev libgdal-dev libgeos-dev libproj-dev libharfbuzz-dev libfribidi-dev\")\n",
    "install.packages(\"sf\")\n",
    "install.packages(\"textshaping\")\n",
    "install.packages(\"ragg\")\n",
    "\n",
    "# Install system dependencies of some other R packages that Voyager either imports or suggests:\n",
    "system(\"apt-get install -y libfribidi-dev libcairo2-dev libmagick++-dev\")\n",
    "\n",
    "# Install Voyager from Bioconductor:\n",
    "install.packages(\"BiocManager\")\n",
    "BiocManager::install(version = \"3.17\", ask = FALSE, update = FALSE, Ncpus = 2)\n",
    "BiocManager::install(\"scater\")\n",
    "system.time(\n",
    "  BiocManager::install(\"Voyager\", dependencies = TRUE, Ncpus = 2, update = FALSE)\n",
    ")\n",
    "\n",
    "# Other packages used in this vignette\n",
    "packageVersion(\"Voyager\")"
   ]
  },
  {
   "cell_type": "markdown",
<<<<<<< HEAD
   "id": "ab831b77",
||||||| d29fab7
   "id": "1f21fd25",
=======
   "id": "24ca67c6",
>>>>>>> documentation-devel
   "metadata": {},
   "source": [
    "# Introduction\n",
    "Due to the large number of genes quantified in single cell and spatial transcriptomics, dimension reduction is part of the standard workflow to analyze such data, to visualize, to help interpreting the data, to distill relevant information and reduce noise, to facilitate downstream analyses such as clustering and pseudotime, to project different samples into a shared latent space for data integration, and so on.\n",
    "\n",
    "The first dimension reduction methods we learn about, such as good old principal component analysis (PCA), tSNE, and UMAP, don't use spatial information. With the rise of spatial transcriptomics, some dimension reduction methods that take spatial dependence into account have been written. Some, such as `SpatialPCA` [@Shang2022-qy], `NSF` [@Townes2023-bi], and `MEFISTO` [@Velten2022-gv] use factor analysis or probabilistic PCA which is related to factor analysis, and model the factors as Gaussian processes, with a spatial kernel for the covariance matrix, so the factors have positive spatial autocorrelation and can be used for downstream clustering where the clusters can be more spatially coherent. Some use graph convolution networks on a spatial neighborhood graph to find spatially informed embeddings of the cells, such as `conST` [@Zong2022-tb] and `SpaceFlow` [@Ren2022-qx]. `SpaSRL` [@Zhang2023-kf] finds a low dimension projection of spatial neighborhood augmented data. \n",
    "\n",
    "Spatially informed dimension reduction is actually not new, and dates back to at least 1985, with Wartenberg's crossover of Moran's I and PCA [@Wartenberg1985-fk], which was generalized and further developed as MULTISPATI PCA [@Dray2008-en], implemented in the [`adespatial`](https://cran.r-project.org/web/packages/adespatial/index.html) package on CRAN. In short, while PCA tries to maximize the variance explained by each PC, MULTISPATI maximizes the product of Moran's I and variance explained. Also, while all the eigenvalues from PCA are non-negative, because the covariance matrix is positive semidefinite, MULTISPATI can give negative eigenvalues, which represent negative spatial autocorrelation, which can be present and interesting but is not as common as positive spatial autocorrelation and is often masked by the latter [@Griffith2019-bo]. \n",
    "\n",
    "In single cell -omics conventions, let $X$ denote a gene count matrix whose columns are cells or Visium spots and whose rows are genes, with $n$ columns. Let $W$ denote the row normalized $n\\times n$ adjacency matrix of the spatial neighborhood graph of the cells or Visium spots, which does not have to be symmetric. MULTISPATI diagonalizes a symmetric matrix\n",
    "\n",
    "$$\n",
    "H = \\frac 1 {2n} X(W^t+W)X^t\n",
    "$$\n",
    "\n",
    "However, the implementation in `adespatial` is more general and can be used for other multivariate analyses in the [duality diagram](https://www.ncbi.nlm.nih.gov/pmc/articles/PMC3265363/) paradigm, such as correspondence analysis; the equation above is simplified just for PCA, without having to introduce the duality diagram here.\n",
    "\n",
    "Voyager 1.2.0 (Bioconductor 3.17) has a much faster implementation of MULTISPATI PCA based on [`RSpectra`](https://cran.r-project.org/web/packages/RSpectra/index.html). See benchmark [here](https://lambdamoses.github.io/thevoyages/posts/2023-03-25-multispati-part-2/).\n",
    "\n",
    "In this vignette, we perform MULTISPATI PCA on the MERFISH mouse liver dataset. See the first vignette using this dataset [here](https://pachterlab.github.io/voyager/articles/vig6_merfish.html).\n",
    "\n",
    "Here we load the packages used:"
   ]
  },
  {
   "cell_type": "code",
   "execution_count": null,
<<<<<<< HEAD
   "id": "065fbf88",
||||||| d29fab7
   "id": "07367b4c",
=======
   "id": "a6e4b928",
>>>>>>> documentation-devel
   "metadata": {
    "message": false,
    "name": "setup"
   },
   "outputs": [],
   "source": [
    "library(Voyager)\n",
    "library(SFEData)\n",
    "library(SpatialFeatureExperiment)\n",
    "library(scater)\n",
    "library(scran)\n",
    "library(scuttle)\n",
    "library(ggplot2)\n",
    "library(stringr)\n",
    "library(tidyr)\n",
    "library(tibble)\n",
    "library(bluster)\n",
    "library(BiocSingular)\n",
    "library(BiocParallel)\n",
    "library(sf)\n",
    "library(patchwork)\n",
    "theme_set(theme_bw())"
   ]
  },
  {
   "cell_type": "code",
   "execution_count": null,
<<<<<<< HEAD
   "id": "74152b75",
||||||| d29fab7
   "id": "db35babf",
=======
   "id": "061fc1cc",
>>>>>>> documentation-devel
   "metadata": {},
   "outputs": [],
   "source": [
    "(sfe <- VizgenLiverData())"
   ]
  },
  {
   "cell_type": "markdown",
<<<<<<< HEAD
   "id": "dd16f2c4",
||||||| d29fab7
   "id": "a80ad00b",
=======
   "id": "18303843",
>>>>>>> documentation-devel
   "metadata": {
    "lines_to_next_cell": 0
   },
   "source": [
    "MULTISPATI PCA is one of the multivariate methods introduced in `Voyager` 1.2.0. All multivariate methods in `Voyager` are listed here:"
   ]
  },
  {
   "cell_type": "code",
   "execution_count": null,
<<<<<<< HEAD
   "id": "9a1cbddd",
||||||| d29fab7
   "id": "20a00a7c",
=======
   "id": "ac39e496",
>>>>>>> documentation-devel
   "metadata": {},
   "outputs": [],
   "source": [
    "listSFEMethods(variate = \"multi\")"
   ]
  },
  {
   "cell_type": "markdown",
<<<<<<< HEAD
   "id": "137c87f9",
||||||| d29fab7
   "id": "19055c0d",
=======
   "id": "c44f62de",
>>>>>>> documentation-devel
   "metadata": {
    "lines_to_next_cell": 0
   },
   "source": [
    "When calling `calculate*variate()` or `run*variate()`, the `type` (2nd) argument takes either an `SFEMethod` object or a string that matches an entry in the `name` column in the data frame returned by `listSFEMethods()`.\n",
    "\n",
    "# Quality control\n",
    "QC was already performed in the [first vignette](https://pachterlab.github.io/voyager/articles/vig6_merfish.html). We do the same QC here, but see the first vignette for more details."
   ]
  },
  {
   "cell_type": "code",
   "execution_count": null,
<<<<<<< HEAD
   "id": "dbfba003",
||||||| d29fab7
   "id": "a5c0fcbc",
=======
   "id": "09cb55cd",
>>>>>>> documentation-devel
   "metadata": {},
   "outputs": [],
   "source": [
    "is_blank <- str_detect(rownames(sfe), \"^Blank-\")\n",
    "sfe <- addPerCellQCMetrics(sfe, subset = list(blank = is_blank))"
   ]
  },
  {
   "cell_type": "code",
   "execution_count": null,
<<<<<<< HEAD
   "id": "d79f44ad",
||||||| d29fab7
   "id": "b6449689",
=======
   "id": "620783fa",
>>>>>>> documentation-devel
   "metadata": {},
   "outputs": [],
   "source": [
    "get_neg_ctrl_outliers <- function(col, sfe, nmads = 3, log = FALSE) {\n",
    "    inds <- colData(sfe)$nCounts > 0 & colData(sfe)[[col]] > 0\n",
    "    df <- colData(sfe)[inds,]\n",
    "    outlier_inds <- isOutlier(df[[col]], type = \"higher\", nmads = nmads, log = log)\n",
    "    outliers <- rownames(df)[outlier_inds]\n",
    "    col2 <- str_remove(col, \"^subsets_\")\n",
    "    col2 <- str_remove(col2, \"_percent$\")\n",
    "    new_colname <- paste(\"is\", col2, \"outlier\", sep = \"_\")\n",
    "    colData(sfe)[[new_colname]] <- colnames(sfe) %in% outliers\n",
    "    sfe\n",
    "}"
   ]
  },
  {
   "cell_type": "code",
   "execution_count": null,
<<<<<<< HEAD
   "id": "21b653b2",
||||||| d29fab7
   "id": "cac2589c",
=======
   "id": "da9be682",
>>>>>>> documentation-devel
   "metadata": {},
   "outputs": [],
   "source": [
    "sfe <- get_neg_ctrl_outliers(\"subsets_blank_percent\", sfe, log = TRUE)"
   ]
  },
  {
   "cell_type": "markdown",
<<<<<<< HEAD
   "id": "8fa704be",
||||||| d29fab7
   "id": "f6f3f884",
=======
   "id": "4955bbd9",
>>>>>>> documentation-devel
   "metadata": {
    "lines_to_next_cell": 0
   },
   "source": [
    "Remove the outliers and empty cells:"
   ]
  },
  {
   "cell_type": "code",
   "execution_count": null,
<<<<<<< HEAD
   "id": "eb64f2e9",
||||||| d29fab7
   "id": "afc58bcf",
=======
   "id": "7f752069",
>>>>>>> documentation-devel
   "metadata": {},
   "outputs": [],
   "source": [
    "inds <- !sfe$is_blank_outlier & sfe$nCounts > 0\n",
    "(sfe <- sfe[, inds])"
   ]
  },
  {
   "cell_type": "markdown",
<<<<<<< HEAD
   "id": "4155226a",
||||||| d29fab7
   "id": "8910d973",
=======
   "id": "00e5fb36",
>>>>>>> documentation-devel
   "metadata": {},
   "source": [
    "There still are over 390,000 cells left after removing the outliers. \n",
    "\n",
    "Next we compute Moran's I for QC metrics, which requires a spatial neighborhood graph:"
   ]
  },
  {
   "cell_type": "code",
   "execution_count": null,
<<<<<<< HEAD
   "id": "c1a60624",
||||||| d29fab7
   "id": "8bf6ec86",
=======
   "id": "cfca543e",
>>>>>>> documentation-devel
   "metadata": {},
   "outputs": [],
   "source": [
    "system.time(\n",
    "    colGraph(sfe, \"knn5\") <- findSpatialNeighbors(sfe, method = \"knearneigh\", \n",
    "                                                  dist_type = \"idw\", k = 5, \n",
    "                                                  style = \"W\")\n",
    ")"
   ]
  },
  {
   "cell_type": "code",
   "execution_count": null,
<<<<<<< HEAD
   "id": "a9e9cdbf",
||||||| d29fab7
   "id": "d816c00a",
=======
   "id": "0191ff01",
>>>>>>> documentation-devel
   "metadata": {},
   "outputs": [],
   "source": [
    "features_use <- c(\"nCounts\", \"nGenes\", \"volume\")\n",
    "sfe <- colDataUnivariate(sfe, \"moran.mc\", features_use, \n",
    "                         colGraphName = \"knn5\", nsim = 49, \n",
    "                         BPPARAM = MulticoreParam(2))"
   ]
  },
  {
   "cell_type": "code",
   "execution_count": null,
<<<<<<< HEAD
   "id": "91b8ff0a",
||||||| d29fab7
   "id": "99c135e8",
=======
   "id": "e8874ab8",
>>>>>>> documentation-devel
   "metadata": {},
   "outputs": [],
   "source": [
    "plotMoranMC(sfe, features_use)"
   ]
  },
  {
   "cell_type": "markdown",
<<<<<<< HEAD
   "id": "35e46ebe",
||||||| d29fab7
   "id": "5ce10a1f",
=======
   "id": "90777066",
>>>>>>> documentation-devel
   "metadata": {},
   "source": [
    "Here Moran's I is a little negative, but from the permutation testing, it is significant, though that can also be the large number of cells. The lower bound of Moran's I given the spatial neighborhood graph is usually closer to -0.5 than -1, while the upper bound is usually around 1. The bounds given a specific spatial neighborhood graph can be found with `moranBounds()`, but because it double centers the adjacency matrix, hence making it dense, there isn't enough memory to use it for the entire dataset. But we can look at the Moran bounds of a small subset of data, which might be generalizable to the whole dataset given that this tissue appears quite homogeneous in space."
   ]
  },
  {
   "cell_type": "code",
   "execution_count": null,
<<<<<<< HEAD
   "id": "c172456f",
||||||| d29fab7
   "id": "2b72bc01",
=======
   "id": "c16d2f17",
>>>>>>> documentation-devel
   "metadata": {},
   "outputs": [],
   "source": [
    "bbox_use <- c(xmin = 6000, xmax = 7000, ymin = 4000, ymax = 5000)\n",
    "inds2 <- st_intersects(cellSeg(sfe), st_as_sfc(st_bbox(bbox_use)), \n",
    "                       sparse = FALSE)[,1]\n",
    "sfe_sub <- sfe[, inds2]"
   ]
  },
  {
   "cell_type": "code",
   "execution_count": null,
<<<<<<< HEAD
   "id": "6fd1b82a",
||||||| d29fab7
   "id": "26c609f1",
=======
   "id": "fbbae8d1",
>>>>>>> documentation-devel
   "metadata": {},
   "outputs": [],
   "source": [
    "(mb <- moranBounds(colGraph(sfe_sub, \"knn5\")))"
   ]
  },
  {
   "cell_type": "markdown",
<<<<<<< HEAD
   "id": "219ae95b",
||||||| d29fab7
   "id": "e592652c",
=======
   "id": "f9d97517",
>>>>>>> documentation-devel
   "metadata": {
    "lines_to_next_cell": 0
   },
   "source": [
    "So considering the bounds, the MOran's I values of the QC metrics are more like"
   ]
  },
  {
   "cell_type": "code",
   "execution_count": null,
<<<<<<< HEAD
   "id": "be57991a",
||||||| d29fab7
   "id": "fedbde94",
=======
   "id": "5d0c8ca3",
>>>>>>> documentation-devel
   "metadata": {},
   "outputs": [],
   "source": [
    "setNames(colFeatureData(sfe)[c(\"nCounts\", \"nGenes\", \"volume\"), \n",
    "                             \"moran.mc_statistic_sample01\"] / mb[\"Imin\"],\n",
    "         features_use)"
   ]
  },
  {
   "cell_type": "markdown",
<<<<<<< HEAD
   "id": "1b46b37c",
||||||| d29fab7
   "id": "6b61127c",
=======
   "id": "5a7c5ba9",
>>>>>>> documentation-devel
   "metadata": {},
   "source": [
    "whose magnitudes seem more substantial for `nCounts` and `nGenes` if it's positive spatial autocorrelation. So there may be mild to moderate negative spatial autocorrelation.\n",
    "\n",
    "# Non-spatial PCA\n",
    "First we run non-spatial PCA, to compare to MULTISPATI."
   ]
  },
  {
   "cell_type": "code",
   "execution_count": null,
<<<<<<< HEAD
   "id": "be73f259",
||||||| d29fab7
   "id": "f7a99645",
=======
   "id": "56f3ffe7",
>>>>>>> documentation-devel
   "metadata": {},
   "outputs": [],
   "source": [
    "sfe <- logNormCounts(sfe)"
   ]
  },
  {
   "cell_type": "code",
   "execution_count": null,
<<<<<<< HEAD
   "id": "9b20473f",
||||||| d29fab7
   "id": "1b9b56a4",
=======
   "id": "b6f8bc25",
>>>>>>> documentation-devel
   "metadata": {},
   "outputs": [],
   "source": [
    "set.seed(29)\n",
    "system.time(\n",
    "    sfe <- runPCA(sfe, ncomponents = 20, subset_row = !is_blank,\n",
    "                  exprs_values = \"logcounts\",\n",
    "                  scale = TRUE, BSPARAM = IrlbaParam())\n",
    ")\n",
    "gc()"
   ]
  },
  {
   "cell_type": "markdown",
<<<<<<< HEAD
   "id": "68b51950",
||||||| d29fab7
   "id": "cf2ff4b1",
=======
   "id": "b42d0071",
>>>>>>> documentation-devel
   "metadata": {},
   "source": [
    "That's pretty quick for almost 400,000 cells, but there aren't that many genes here. Use the elbow plot to see variance explained by each PC:"
   ]
  },
  {
   "cell_type": "code",
   "execution_count": null,
<<<<<<< HEAD
   "id": "15d4d873",
||||||| d29fab7
   "id": "eebc742c",
=======
   "id": "3f9f1953",
>>>>>>> documentation-devel
   "metadata": {},
   "outputs": [],
   "source": [
    "ElbowPlot(sfe)"
   ]
  },
  {
   "cell_type": "markdown",
<<<<<<< HEAD
   "id": "af6ca23c",
||||||| d29fab7
   "id": "bbb1b791",
=======
   "id": "dcbe9b78",
>>>>>>> documentation-devel
   "metadata": {
    "lines_to_next_cell": 0
   },
   "source": [
    "Plot top gene loadings in each PC"
   ]
  },
  {
   "cell_type": "code",
   "execution_count": null,
<<<<<<< HEAD
   "id": "689d1b0d",
||||||| d29fab7
   "id": "7ff14b73",
=======
   "id": "a2603144",
>>>>>>> documentation-devel
   "metadata": {},
   "outputs": [],
   "source": [
    "plotDimLoadings(sfe)"
   ]
  },
  {
   "cell_type": "markdown",
<<<<<<< HEAD
   "id": "7d847a64",
||||||| d29fab7
   "id": "9788158a",
=======
   "id": "375fcb39",
>>>>>>> documentation-devel
   "metadata": {
    "lines_to_next_cell": 0
   },
   "source": [
    "Many of these genes seem to be related to the endothelium.\n",
    "\n",
    "Plot the first 4 PCs in space"
   ]
  },
  {
   "cell_type": "code",
   "execution_count": null,
<<<<<<< HEAD
   "id": "215b584e",
||||||| d29fab7
   "id": "a53d3c75",
=======
   "id": "7c9320ee",
>>>>>>> documentation-devel
   "metadata": {
    "fig.height": 7,
    "fig.width": 9
   },
   "outputs": [],
   "source": [
    "spatialReducedDim(sfe, \"PCA\", 4, colGeometryName = \"centroids\", scattermore = TRUE,\n",
    "                  divergent = TRUE, diverge_center = 0)"
   ]
  },
  {
   "cell_type": "markdown",
<<<<<<< HEAD
   "id": "e9dd7dae",
||||||| d29fab7
   "id": "5659fadf",
=======
   "id": "a6e13fea",
>>>>>>> documentation-devel
   "metadata": {},
   "source": [
    "PC1 and PC4 highlight the major blood vessels, while PC2 and PC3 have less spatial structure. While in the CosMX and Xenium datasets on this website, the top PCs have clear spatial structures despite the absence of spatial information in non-spatial PCA because of clear spatial compartments for some cell types, which does not seem to be the case in this dataset except for the blood vessels. We have seen above that some genes have strong spatial structures. \n",
    "\n",
    "While PC2 and PC3 don't seem to have large scale spatial structure, they may have more local spatial structure not obvious from plotting the entire section, so we zoom into a bounding box:"
   ]
  },
  {
   "cell_type": "code",
   "execution_count": null,
<<<<<<< HEAD
   "id": "f7e6343f",
||||||| d29fab7
   "id": "59013e11",
=======
   "id": "67cee722",
>>>>>>> documentation-devel
   "metadata": {},
   "outputs": [],
   "source": [
    "bbox_use <- c(xmin = 3000, xmax = 3500, ymin = 2500, ymax = 3000)"
   ]
  },
  {
   "cell_type": "code",
   "execution_count": null,
<<<<<<< HEAD
   "id": "236ac681",
||||||| d29fab7
   "id": "49263701",
=======
   "id": "b05ddf7d",
>>>>>>> documentation-devel
   "metadata": {
    "fig.height": 7,
    "fig.width": 9
   },
   "outputs": [],
   "source": [
    "spatialReducedDim(sfe, \"PCA\", ncomponents = 4, colGeometryName = \"cellSeg\",\n",
    "                  bbox = bbox_use, divergent = TRUE, diverge_center = 0)"
   ]
  },
  {
   "cell_type": "markdown",
<<<<<<< HEAD
   "id": "a8c1f7c1",
||||||| d29fab7
   "id": "0c2688bd",
=======
   "id": "7d8f10d1",
>>>>>>> documentation-devel
   "metadata": {},
   "source": [
    "There's some spatial structure at a smaller scale, perhaps some negative spatial autocorrelation.\n",
    "\n",
    "# MULTISPATI PCA"
   ]
  },
  {
   "cell_type": "code",
   "execution_count": null,
<<<<<<< HEAD
   "id": "cceb4711",
||||||| d29fab7
   "id": "d29899fa",
=======
   "id": "850f09e8",
>>>>>>> documentation-devel
   "metadata": {},
   "outputs": [],
   "source": [
    "sfe <- runMultivariate(sfe, \"multispati\", colGraphName = \"knn5\", nfposi = 20,\n",
    "                       nfnega = 20)"
   ]
  },
  {
   "cell_type": "markdown",
<<<<<<< HEAD
   "id": "1d734e3f",
||||||| d29fab7
   "id": "ff978f8b",
=======
   "id": "86cf7f9c",
>>>>>>> documentation-devel
   "metadata": {
    "lines_to_next_cell": 0
   },
   "source": [
    "Then plot the most positive and most negative eigenvalues. Note that the eigenvalues here are not variance explained. Instead, they are the product of variance explained and Moran's I. So the most positive eigenvalues correspond to eigenvectors that simultaneously explain more variance and have large positive Moran's I. The most negative eigenvalues correspond to eigenvectors that simultaneously explain more variance and have large negative Moran's I."
   ]
  },
  {
   "cell_type": "code",
   "execution_count": null,
<<<<<<< HEAD
   "id": "b4fbff20",
||||||| d29fab7
   "id": "a2aa74e3",
=======
   "id": "fbd9614d",
>>>>>>> documentation-devel
   "metadata": {},
   "outputs": [],
   "source": [
    "ElbowPlot(sfe, nfnega = 20, reduction = \"multispati\")"
   ]
  },
  {
   "cell_type": "markdown",
<<<<<<< HEAD
   "id": "04fbf8b5",
||||||| d29fab7
   "id": "c16d776a",
=======
   "id": "a318cd7e",
>>>>>>> documentation-devel
   "metadata": {},
   "source": [
    "Here the positive eigenvalues drop sharply from PC1 to PC4, and there is only one very negative eigenvalue which might be interesting, which is unsurprising given the moderately negative Moran's I for `nCounts` and `nGenes`. However, from the [first MERFISH vignette](https://pachterlab.github.io/voyager/articles/vig6_merfish.html#morans-i), none of the genes have very negative Moran's I. Perhaps the negative eigenvalue comes from negative spatial autocorrelation in a gene program or \"eigengene\" and is not obvious from individual genes. This is the beauty of multivariate analysis.\n",
    "\n",
    "What do these components mean? Each component is a linear combination of genes to maximize the product of variance explained and Moran's I. The second component maximizes this product provided that it's orthogonal to the first component, and so on. As the loss in variance explained is usually not huge, these components can be considered axes along which _spatially coherent_ groups of spots are separated from each other as much as possible according to expression of the highly variable genes, so in theory, clustering with positive MULTISPATI components should give more spatially coherent clusters. Because of the spatial coherence, MULTISPATI might be more robust to outliers."
   ]
  },
  {
   "cell_type": "code",
   "execution_count": null,
<<<<<<< HEAD
   "id": "a9b37811",
||||||| d29fab7
   "id": "221fb36d",
=======
   "id": "b0a43cfa",
>>>>>>> documentation-devel
   "metadata": {},
   "outputs": [],
   "source": [
    "plotDimLoadings(sfe, dims = c(1:3, 40), reduction = \"multispati\")"
   ]
  },
  {
   "cell_type": "markdown",
<<<<<<< HEAD
   "id": "5182a005",
||||||| d29fab7
   "id": "b4cefbab",
=======
   "id": "cfd74663",
>>>>>>> documentation-devel
   "metadata": {
    "lines_to_next_cell": 0
   },
   "source": [
    "From gene loadings, PC40 seems to separate blood vessels from hepatocytes.\n",
    "\n",
    "Plot the first 4 MULTISPATI PCs"
   ]
  },
  {
   "cell_type": "code",
   "execution_count": null,
<<<<<<< HEAD
   "id": "12d07668",
||||||| d29fab7
   "id": "4ec58166",
=======
   "id": "b463fb7c",
>>>>>>> documentation-devel
   "metadata": {
    "fig.height": 7,
    "fig.width": 9,
    "lines_to_next_cell": 2
   },
   "outputs": [],
   "source": [
    "spatialReducedDim(sfe, \"multispati\", 4, colGeometryName = \"centroids\", scattermore = TRUE,\n",
    "                  divergent = TRUE, diverge_center = 0)"
   ]
  },
  {
   "cell_type": "markdown",
<<<<<<< HEAD
   "id": "c58b8b37",
||||||| d29fab7
   "id": "b177effe",
=======
   "id": "1848b529",
>>>>>>> documentation-devel
   "metadata": {},
   "source": [
    "The first two PCs pick up zoning. PC3 and PC4 seem to have smaller scale spatial structure, so we zoom in here:"
   ]
  },
  {
   "cell_type": "code",
   "execution_count": null,
<<<<<<< HEAD
   "id": "b3f4ab9f",
||||||| d29fab7
   "id": "ebf7055a",
=======
   "id": "67d1df16",
>>>>>>> documentation-devel
   "metadata": {
    "fig.height": 7,
    "fig.width": 9
   },
   "outputs": [],
   "source": [
    "spatialReducedDim(sfe, \"multispati\", ncomponents = 4, colGeometryName = \"cellSeg\",\n",
    "                  bbox = bbox_use, divergent = TRUE, diverge_center = 0)"
   ]
  },
  {
   "cell_type": "markdown",
<<<<<<< HEAD
   "id": "40fb6dd5",
||||||| d29fab7
   "id": "40cd77a9",
=======
   "id": "d2ae6f29",
>>>>>>> documentation-devel
   "metadata": {
    "lines_to_next_cell": 0
   },
   "source": [
    "What about the negative eigenvalue?"
   ]
  },
  {
   "cell_type": "code",
   "execution_count": null,
<<<<<<< HEAD
   "id": "5143ea9d",
||||||| d29fab7
   "id": "a6b652b3",
=======
   "id": "11eecbd2",
>>>>>>> documentation-devel
   "metadata": {},
   "outputs": [],
   "source": [
    "spatialReducedDim(sfe, \"multispati\", 39:40, colGeometryName = \"cellSeg\", \n",
    "                  divergent = TRUE, diverge_center = 0, bbox = bbox_use)"
   ]
  },
  {
   "cell_type": "markdown",
<<<<<<< HEAD
   "id": "5ac21c19",
||||||| d29fab7
   "id": "0e6dded7",
=======
   "id": "cb65f3f9",
>>>>>>> documentation-devel
   "metadata": {},
   "source": [
    "# Spatial autocorrelation of principal components\n",
    "## Moran's I\n",
    "Here we compare Moran's I for cell embeddings in each non-spatial and MULTISPATI PC:"
   ]
  },
  {
   "cell_type": "code",
   "execution_count": null,
<<<<<<< HEAD
   "id": "4e668ccb",
||||||| d29fab7
   "id": "0cad0f26",
=======
   "id": "4a88d1ea",
>>>>>>> documentation-devel
   "metadata": {},
   "outputs": [],
   "source": [
    "# non-spatial\n",
    "sfe <- reducedDimMoransI(sfe, dimred = \"PCA\", components = 1:20,\n",
    "                         BPPARAM = MulticoreParam(2))\n",
    "# spatial\n",
    "sfe <- reducedDimMoransI(sfe, dimred = \"multispati\", components = 1:40,\n",
    "                         BPPARAM = MulticoreParam(2))"
   ]
  },
  {
   "cell_type": "code",
   "execution_count": null,
<<<<<<< HEAD
   "id": "c09fe6ad",
||||||| d29fab7
   "id": "e4db4f81",
=======
   "id": "3521c798",
>>>>>>> documentation-devel
   "metadata": {},
   "outputs": [],
   "source": [
    "df_moran <- tibble(PCA = reducedDimFeatureData(sfe, \"PCA\")$moran_sample01[1:20],\n",
    "                   MULTISPATI_pos = \n",
    "                       reducedDimFeatureData(sfe, \"multispati\")$moran_sample01[1:20],\n",
    "                   MULTISPATI_neg = \n",
    "                       reducedDimFeatureData(sfe,\"multispati\")$moran_sample01[21:40] |> \n",
    "                       rev(),\n",
    "                   index = 1:20)"
   ]
  },
  {
   "cell_type": "code",
   "execution_count": null,
<<<<<<< HEAD
   "id": "553111c2",
||||||| d29fab7
   "id": "c3cd4eaf",
=======
   "id": "ecd4e7bc",
>>>>>>> documentation-devel
   "metadata": {},
   "outputs": [],
   "source": [
    "data(\"ditto_colors\")"
   ]
  },
  {
   "cell_type": "code",
   "execution_count": null,
<<<<<<< HEAD
   "id": "f26033e1",
||||||| d29fab7
   "id": "f24fd0d7",
=======
   "id": "c381887c",
>>>>>>> documentation-devel
   "metadata": {},
   "outputs": [],
   "source": [
    "df_moran |> \n",
    "    pivot_longer(cols = -index, values_to = \"value\", names_to = \"name\") |> \n",
    "    ggplot(aes(index, value, color = name)) +\n",
    "    geom_line() +\n",
    "    scale_color_manual(values = ditto_colors) +\n",
    "    geom_hline(yintercept = 0) +\n",
    "    geom_hline(yintercept = mb, linetype = 2) +\n",
    "    scale_y_continuous(breaks = scales::breaks_pretty()) +\n",
    "    scale_x_continuous(breaks = scales::breaks_width(5)) +\n",
    "    labs(y = \"Moran's I\", color = \"Type\", x = \"Component\")"
   ]
  },
  {
   "cell_type": "markdown",
<<<<<<< HEAD
   "id": "d69b4a06",
||||||| d29fab7
   "id": "2736f1e9",
=======
   "id": "1a7c2a8d",
>>>>>>> documentation-devel
   "metadata": {},
   "source": [
    "In MULTISPATI, Moran's I is high in PC1 and PC2, but then sharply drops. Moran's I for the PC with the most negative eigenvalues is not very negative, which means the large magnitude of that eigenvalue comes from explaining more variance. Non-spatial PCs are not sorted by Moran's I; PC5 has surprising large Moran's I. "
   ]
  },
  {
   "cell_type": "code",
   "execution_count": null,
<<<<<<< HEAD
   "id": "b518ce65",
||||||| d29fab7
   "id": "2b497b17",
=======
   "id": "42462edc",
>>>>>>> documentation-devel
   "metadata": {
    "fig.height": 4,
    "fig.width": 9
   },
   "outputs": [],
   "source": [
    "spatialReducedDim(sfe, \"PCA\", 5:6, colGeometryName = \"centroids\", scattermore = TRUE,\n",
    "                  divergent = TRUE, diverge_center = 0)"
   ]
  },
  {
   "cell_type": "markdown",
<<<<<<< HEAD
   "id": "025fd05d",
||||||| d29fab7
   "id": "4fb699c3",
=======
   "id": "f0dc43ea",
>>>>>>> documentation-devel
   "metadata": {},
   "source": [
    "PC5 must be about zonation. Also show a smaller scale:"
   ]
  },
  {
   "cell_type": "code",
   "execution_count": null,
<<<<<<< HEAD
   "id": "6a19daeb",
||||||| d29fab7
   "id": "9071bd1f",
=======
   "id": "20022ddd",
>>>>>>> documentation-devel
   "metadata": {
    "fig.height": 4,
    "fig.width": 9
   },
   "outputs": [],
   "source": [
    "spatialReducedDim(sfe, \"PCA\", 5:6, colGeometryName = \"cellSeg\", \n",
    "                  divergent = TRUE, diverge_center = 0, bbox = bbox_use)"
   ]
  },
  {
   "cell_type": "markdown",
<<<<<<< HEAD
   "id": "cf2aa34b",
||||||| d29fab7
   "id": "c4201e8e",
=======
   "id": "c8bd9c97",
>>>>>>> documentation-devel
   "metadata": {
    "lines_to_next_cell": 0
   },
   "source": [
    "## Moran scatter plot\n",
    "Local positive and negative spatial autocorrelation can average out in global Moran's I. From the zoomed in plots above, PCs 1, 3, 4, and 6 pick up something about the blood vessel. The Moran scatter plot can help discovering more local heterogeneity."
   ]
  },
  {
   "cell_type": "code",
   "execution_count": null,
<<<<<<< HEAD
   "id": "56b64165",
||||||| d29fab7
   "id": "7fd70375",
=======
   "id": "b301cd57",
>>>>>>> documentation-devel
   "metadata": {},
   "outputs": [],
   "source": [
    "sfe <- reducedDimUnivariate(sfe, \"moran.plot\", dimred = \"PCA\", components = 1:6)"
   ]
  },
  {
   "cell_type": "code",
   "execution_count": null,
<<<<<<< HEAD
   "id": "a8f135fc",
||||||| d29fab7
   "id": "55db28a9",
=======
   "id": "4a037dcc",
>>>>>>> documentation-devel
   "metadata": {},
   "outputs": [],
   "source": [
    "plts <- lapply(seq_len(6), function(i) {\n",
    "    moranPlot(sfe, paste0(\"PC\", i), binned = TRUE, hex = TRUE, plot_influential = FALSE)\n",
    "})"
   ]
  },
  {
   "cell_type": "code",
   "execution_count": null,
<<<<<<< HEAD
   "id": "b1513377",
||||||| d29fab7
   "id": "77f112c4",
=======
   "id": "84abd2bf",
>>>>>>> documentation-devel
   "metadata": {
    "fig.height": 6,
    "fig.width": 10
   },
   "outputs": [],
   "source": [
    "wrap_plots(plts, widths = 1, heights = 1) +\n",
    "    plot_layout(ncol = 3) +\n",
    "    plot_annotation(tag_levels = \"1\", \n",
    "                    title = \"Moran scatter plot for non-spatial PCs\") &\n",
    "    theme(legend.position = \"none\")"
   ]
  },
  {
   "cell_type": "markdown",
<<<<<<< HEAD
   "id": "fd52e862",
||||||| d29fab7
   "id": "cf8a6316",
=======
   "id": "f69902e1",
>>>>>>> documentation-devel
   "metadata": {},
   "source": [
    "PCs 1-3 have some fainter clusters outside the main cluster, indicating heterogeneous spatial autocorrelation. Also make Moran scatter plots for MULTISPATI"
   ]
  },
  {
   "cell_type": "code",
   "execution_count": null,
<<<<<<< HEAD
   "id": "c5740d83",
||||||| d29fab7
   "id": "5de881a1",
=======
   "id": "0efd99b3",
>>>>>>> documentation-devel
   "metadata": {},
   "outputs": [],
   "source": [
    "sfe <- reducedDimUnivariate(sfe, \"moran.plot\", dimred = \"multispati\", \n",
    "                            components = c(1:5, 40), \n",
    "                            # Not to overwrite non-spatial PCA moran plots\n",
    "                            name = \"moran.plot2\") "
   ]
  },
  {
   "cell_type": "code",
   "execution_count": null,
<<<<<<< HEAD
   "id": "1d13fa3e",
||||||| d29fab7
   "id": "4b2322a6",
=======
   "id": "6e50fe27",
>>>>>>> documentation-devel
   "metadata": {},
   "outputs": [],
   "source": [
    "plts2 <- lapply(c(1:5, 40), function(i) {\n",
    "    moranPlot(sfe, paste0(\"PC\", i), binned = TRUE, hex = TRUE, \n",
    "              plot_influential = FALSE, name = \"moran.plot2\")\n",
    "})"
   ]
  },
  {
   "cell_type": "code",
   "execution_count": null,
<<<<<<< HEAD
   "id": "03e590e7",
||||||| d29fab7
   "id": "ad35c85b",
=======
   "id": "feba9fbf",
>>>>>>> documentation-devel
   "metadata": {
    "fig.height": 6,
    "fig.width": 10
   },
   "outputs": [],
   "source": [
    "wrap_plots(plts2, widths = 1, heights = 1) +\n",
    "    plot_layout(ncol = 3) +\n",
    "    plot_annotation(tag_levels = \"1\",\n",
    "                    title = \"Moran scatter plot for MULTISPATI PCs\") &\n",
    "    theme(legend.position = \"none\")"
   ]
  },
  {
   "cell_type": "markdown",
<<<<<<< HEAD
   "id": "f46e73da",
||||||| d29fab7
   "id": "fa8bd5a3",
=======
   "id": "f13104de",
>>>>>>> documentation-devel
   "metadata": {},
   "source": [
    "There are some interesting clusters.\n",
    "\n",
    "# Clustering with MULTISPATI PCA\n",
    "\n",
    "In the standard scRNA-seq data analysis workflow, a k nearest neighbor graph is found in the PCA space, which is then used for graph based clustering such as Louvain and Leiden, which is used to perform differential expression. Spatial dimension reductions can similarly be used to perform clustering, to identify spatial regions in the tissue, as done in [@Shang2022-qy; @Ren2022-qx; @Zhang2023-kf]. This type of studies often use a manual segmentation as ground truth to compare different methods that identify spatial regions. \n",
    "\n",
    "The problem with this is that spatial region methods are meant to help us to identify novel spatial regions based on new -omics data, which might reveal what's previously unknown from manual annotations. If the output from a method doesn't match manual annotations, it might simply be pointing out a previously unknown aspect of the tissue rather than wrong. Depending on the questions being asked, there can simultaneously be multiple spatial partitions. This happens in geographical space. For instance, there's land use and neighborhood boundaries, but equally valid are watershed boundaries and types of rock formation. Which one is relevant depends on the questions asked.\n",
    "\n",
    "Here we perform Leiden clustering with non-spatial and MULTISPATI PCA and compare the results. For the k nearest neighbor graph, I used the default k = 10."
   ]
  },
  {
   "cell_type": "code",
   "execution_count": null,
<<<<<<< HEAD
   "id": "3288c30c",
||||||| d29fab7
   "id": "da13bc9e",
=======
   "id": "62b22a0e",
>>>>>>> documentation-devel
   "metadata": {},
   "outputs": [],
   "source": [
    "system.time({\n",
    "    set.seed(29)\n",
    "    sfe$clusts_nonspatial <- clusterCells(sfe, use.dimred = \"PCA\", \n",
    "                                          BLUSPARAM = NNGraphParam(\n",
    "                                              cluster.fun = \"leiden\",\n",
    "                                              cluster.args = list(\n",
    "                                                  objective_function = \"modularity\",\n",
    "                                                  resolution_parameter = 1\n",
    "                                              )\n",
    "                                          ))\n",
    "})"
   ]
  },
  {
   "cell_type": "markdown",
<<<<<<< HEAD
   "id": "a5d7926f",
||||||| d29fab7
   "id": "30178962",
=======
   "id": "07dfec9e",
>>>>>>> documentation-devel
   "metadata": {
    "lines_to_next_cell": 0
   },
   "source": [
    "See if clustering with the positive MULTISPATI PCs give more spatially coherent clusters"
   ]
  },
  {
   "cell_type": "code",
   "execution_count": null,
<<<<<<< HEAD
   "id": "94dc46ac",
||||||| d29fab7
   "id": "e73d50bd",
=======
   "id": "15e94e7a",
>>>>>>> documentation-devel
   "metadata": {},
   "outputs": [],
   "source": [
    "system.time({\n",
    "    set.seed(29)\n",
    "    sfe$clusts_multispati <- clusterRows(reducedDim(sfe, \"multispati\")[,1:20], \n",
    "                                          BLUSPARAM = NNGraphParam(\n",
    "                                              cluster.fun = \"leiden\",\n",
    "                                              cluster.args = list(\n",
    "                                                  objective_function = \"modularity\",\n",
    "                                                  resolution_parameter = 1\n",
    "                                              )\n",
    "                                          ))\n",
    "})"
   ]
  },
  {
   "cell_type": "markdown",
<<<<<<< HEAD
   "id": "3db42fa6",
||||||| d29fab7
   "id": "9e08fc7b",
=======
   "id": "8a5b5e0e",
>>>>>>> documentation-devel
   "metadata": {
    "lines_to_next_cell": 0
   },
   "source": [
    "Plot the clusters in space:"
   ]
  },
  {
   "cell_type": "code",
   "execution_count": null,
<<<<<<< HEAD
   "id": "cae3a59b",
||||||| d29fab7
   "id": "02a067bc",
=======
   "id": "1b22b051",
>>>>>>> documentation-devel
   "metadata": {
    "fig.height": 4,
    "fig.width": 11
   },
   "outputs": [],
   "source": [
    "plotSpatialFeature(sfe, c(\"clusts_nonspatial\", \"clusts_multispati\"), \n",
    "                   colGeometryName = \"centroids\",\n",
    "                   scattermore = TRUE) &\n",
    "     guides(colour = guide_legend(override.aes = list(size=2), ncol = 2))"
   ]
  },
  {
   "cell_type": "markdown",
<<<<<<< HEAD
   "id": "8002f821",
||||||| d29fab7
   "id": "baa98a00",
=======
   "id": "04230f18",
>>>>>>> documentation-devel
   "metadata": {
    "lines_to_next_cell": 0
   },
   "source": [
    "The MULTISPATI clusters do look somewhat more spatially structured than clusters from non-spatial PCA. Also zoom into a small area:"
   ]
  },
  {
   "cell_type": "code",
   "execution_count": null,
<<<<<<< HEAD
   "id": "a637709c",
||||||| d29fab7
   "id": "a37b2b2f",
=======
   "id": "d11de1fd",
>>>>>>> documentation-devel
   "metadata": {
    "fig.height": 4,
    "fig.width": 11
   },
   "outputs": [],
   "source": [
    "plotSpatialFeature(sfe, c(\"clusts_nonspatial\", \"clusts_multispati\"), \n",
    "                   colGeometryName = \"cellSeg\",\n",
    "                   bbox = bbox_use) &\n",
    "     guides(fill = guide_legend(ncol = 2))"
   ]
  },
  {
   "cell_type": "markdown",
<<<<<<< HEAD
   "id": "72a6e894",
||||||| d29fab7
   "id": "7ab67e00",
=======
   "id": "c61eae5d",
>>>>>>> documentation-devel
   "metadata": {
    "lines_to_next_cell": 0
   },
   "source": [
    "What do these clusters mean? Clusters are supposed to be groups of different spots that are more similar within a group, sharing some characteristics. Non-spatial and MULTISPATI PCA use different characteristics for the clustering. Non-spatial PCA finds genes that are good for telling cell types apart, although those genes may happen to be very spatially structured. Non-spatial clustering aims to find these groups only from gene expression, and cells with similar gene expression can be surrounded by cells of other types in histological space. This is just like mapping Art Deco buildings, which are often near Spanish revival and Beaux Art buildings whose styles are quite different and perform different functions, thus not necessarily forming a coherent spatial region. \n",
    "\n",
    "In contrast, MULTISPATI's positive components find genes that must characterize spatial regions in addition to distinguishing between different cell types. Which genes are involved in each MULTISPATI component may be as interesting as the clusters. It would be interesting to perform gene set enrichment analysis, or to interpret this as some sort of spatial patterns of spatially variable genes. This is like mapping when the buildings were built, so Art Deco, Spanish revival, Beaux Art popular in the 1920s and 1930s will end up in the same cluster and form a more spatially coherent region, which can be found in DTLA Historical Core and Jewelry District, and Old Pasadena. Hence non-spatial clustering of spatial data isn't necessarily bad. Rather, it tells a different story and reveals different aspects of the data from spatial clustering. \n",
    "\n",
    "# Session Info"
   ]
  },
  {
   "cell_type": "code",
   "execution_count": null,
<<<<<<< HEAD
   "id": "fc0489bc",
||||||| d29fab7
   "id": "07eea669",
=======
   "id": "6b075f8e",
>>>>>>> documentation-devel
   "metadata": {},
   "outputs": [],
   "source": [
    "sessionInfo()"
   ]
  },
  {
   "cell_type": "markdown",
<<<<<<< HEAD
   "id": "a690ba85",
||||||| d29fab7
   "id": "ad3b7a59",
=======
   "id": "949c64cd",
>>>>>>> documentation-devel
   "metadata": {},
   "source": [
    "# References"
   ]
  }
 ],
 "metadata": {
  "kernelspec": {
   "display_name": "R",
   "language": "R",
   "name": "ir"
  }
 },
 "nbformat": 4,
 "nbformat_minor": 5
}
