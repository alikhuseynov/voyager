{
 "cells": [
  {
   "cell_type": "raw",
<<<<<<< HEAD
<<<<<<< HEAD
   "id": "956945d4",
||||||| ff06ad40
   "id": "2e719bd5",
=======
   "id": "876af403",
>>>>>>> documentation-devel
||||||| 1158767b
   "id": "956945d4",
=======
   "id": "fa0562a6",
>>>>>>> 6e0f6d6ef35309dec3607d4371c747197b435328
   "metadata": {},
   "source": [
    "---\n",
    "title: \"MULTISPATI PCA and negative spatial autocorrelation\"\n",
    "author: \"Lambda Moses\"\n",
    "date: \"`r Sys.Date()`\"\n",
    "output: \n",
    "  html_document:\n",
    "  toc: true\n",
    "  toc_float:\n",
    "    collapsed: false\n",
    "  toc_depth: 3\n",
    "bibliography: ref.bib\n",
    "vignette: >\n",
    "  %\\VignetteIndexEntry{multispati}\n",
    "  %\\VignetteEngine{knitr::rmarkdown}\n",
    "  %\\VignetteEncoding{UTF-8}\n",
    "---"
   ]
  },
  {
   "cell_type": "code",
   "execution_count": null,
<<<<<<< HEAD
<<<<<<< HEAD
   "id": "d8c00644",
||||||| ff06ad40
   "id": "5f694685",
=======
   "id": "566c8c04",
>>>>>>> documentation-devel
||||||| 1158767b
   "id": "d8c00644",
=======
   "id": "4a033d42",
>>>>>>> 6e0f6d6ef35309dec3607d4371c747197b435328
   "metadata": {
    "lines_to_next_cell": 2,
    "tags": [
     "remove_cell"
    ]
   },
   "outputs": [],
   "source": [
    "knitr::opts_chunk$set(\n",
    "  collapse = TRUE,\n",
    "  comment = \"#>\"\n",
    ")"
   ]
  },
  {
   "cell_type": "code",
   "execution_count": null,
<<<<<<< HEAD
<<<<<<< HEAD
   "id": "5f6b016f",
||||||| ff06ad40
   "id": "e440576f",
=======
   "id": "8254898d",
>>>>>>> documentation-devel
||||||| 1158767b
   "id": "5f6b016f",
=======
   "id": "1946b48c",
>>>>>>> 6e0f6d6ef35309dec3607d4371c747197b435328
   "metadata": {
    "eval": false,
    "tags": [
     "remove_cell"
    ]
   },
   "outputs": [],
   "source": [
    "# Install Google Colab dependencies\n",
    "# Note: this can take 30+ minutes (many of the dependencies include C++ code, which needs to be compiled)\n",
    "\n",
    "# First install `sf`, `ragg` and `textshaping` and their system dependencies:\n",
    "system(\"apt-get -y update && apt-get install -y  libudunits2-dev libgdal-dev libgeos-dev libproj-dev libharfbuzz-dev libfribidi-dev\")\n",
    "install.packages(\"sf\")\n",
    "install.packages(\"textshaping\")\n",
    "install.packages(\"ragg\")\n",
    "\n",
    "# Install system dependencies of some other R packages that Voyager either imports or suggests:\n",
    "system(\"apt-get install -y libfribidi-dev libcairo2-dev libmagick++-dev\")\n",
    "\n",
    "# Install Voyager from Bioconductor:\n",
    "install.packages(\"BiocManager\")\n",
    "BiocManager::install(version = \"3.17\", ask = FALSE, update = FALSE, Ncpus = 2)\n",
    "BiocManager::install(\"scater\")\n",
    "system.time(\n",
    "  BiocManager::install(\"Voyager\", dependencies = TRUE, Ncpus = 2, update = FALSE)\n",
    ")\n",
    "\n",
    "# Other packages used in this vignette\n",
    "packageVersion(\"Voyager\")"
   ]
  },
  {
   "cell_type": "markdown",
<<<<<<< HEAD
<<<<<<< HEAD
   "id": "c3275bcd",
||||||| ff06ad40
   "id": "d0d9ecfe",
=======
   "id": "0dc485c5",
>>>>>>> documentation-devel
||||||| 1158767b
   "id": "c3275bcd",
=======
   "id": "ea8d3a38",
>>>>>>> 6e0f6d6ef35309dec3607d4371c747197b435328
   "metadata": {},
   "source": [
    "# Introduction\n",
    "Due to the large number of genes quantified in single cell and spatial transcriptomics, dimension reduction is part of the standard workflow to analyze such data, to visualize, to help interpreting the data, to distill relevant information and reduce noise, to facilitate downstream analyses such as clustering and pseudotime, to project different samples into a shared latent space for data integration, and so on.\n",
    "\n",
    "The first dimension reduction methods we learn about, such as good old principal component analysis (PCA), tSNE, and UMAP, don't use spatial information. With the rise of spatial transcriptomics, some dimension reduction methods that take spatial dependence into account have been written. Some, such as `SpatialPCA` [@Shang2022-qy], `NSF` [@Townes2023-bi], and `MEFISTO` [@Velten2022-gv] use factor analysis or probabilistic PCA which is related to factor analysis, and model the factors as Gaussian processes, with a spatial kernel for the covariance matrix, so the factors have positive spatial autocorrelation and can be used for downstream clustering where the clusters can be more spatially coherent. Some use graph convolution networks on a spatial neighborhood graph to find spatially informed embeddings of the cells, such as `conST` [@Zong2022-tb] and `SpaceFlow` [@Ren2022-qx]. `SpaSRL` [@Zhang2023-kf] finds a low dimension projection of spatial neighborhood augmented data. \n",
    "\n",
    "Spatially informed dimension reduction is actually not new, and dates back to at least 1985, with Wartenberg's crossover of Moran's I and PCA [@Wartenberg1985-fk], which was generalized and further developed as MULTISPATI PCA [@Dray2008-en], implemented in the [`adespatial`](https://cran.r-project.org/web/packages/adespatial/index.html) package on CRAN. In short, while PCA tries to maximize the variance explained by each PC, MULTISPATI maximizes the product of Moran's I and variance explained. Also, while all the eigenvalues from PCA are non-negative, because the covariance matrix is positive semidefinite, MULTISPATI can give negative eigenvalues, which represent negative spatial autocorrelation, which can be present and interesting but is not as common as positive spatial autocorrelation and is often masked by the latter [@Griffith2019-bo]. \n",
    "\n",
    "In single cell -omics conventions, let $X$ denote a gene count matrix whose columns are cells or Visium spots and whose rows are genes, with $n$ columns. Let $W$ denote the row normalized $n\\times n$ adjacency matrix of the spatial neighborhood graph of the cells or Visium spots, which does not have to be symmetric. MULTISPATI diagonalizes a symmetric matrix\n",
    "\n",
    "$$\n",
    "H = \\frac 1 {2n} X(W^t+W)X^t\n",
    "$$\n",
    "\n",
    "However, the implementation in `adespatial` is more general and can be used for other multivariate analyses in the [duality diagram](https://www.ncbi.nlm.nih.gov/pmc/articles/PMC3265363/) paradigm, such as correspondence analysis; the equation above is simplified just for PCA, without having to introduce the duality diagram here.\n",
    "\n",
    "Voyager 1.2.0 (Bioconductor 3.17) has a much faster implementation of MULTISPATI PCA based on [`RSpectra`](https://cran.r-project.org/web/packages/RSpectra/index.html). See benchmark [here](https://lambdamoses.github.io/thevoyages/posts/2023-03-25-multispati-part-2/).\n",
    "\n",
    "In this vignette, we perform MULTISPATI PCA on the MERFISH mouse liver dataset. See the first vignette using this dataset [here](https://pachterlab.github.io/voyager/articles/vig6_merfish.html).\n",
    "\n",
    "Here we load the packages used:"
   ]
  },
  {
   "cell_type": "code",
   "execution_count": null,
<<<<<<< HEAD
<<<<<<< HEAD
   "id": "fc72abba",
||||||| ff06ad40
   "id": "a7c3d461",
=======
   "id": "6eb41054",
>>>>>>> documentation-devel
||||||| 1158767b
   "id": "fc72abba",
=======
   "id": "f240c5c6",
>>>>>>> 6e0f6d6ef35309dec3607d4371c747197b435328
   "metadata": {
    "message": false,
    "name": "setup"
   },
   "outputs": [],
   "source": [
    "library(Voyager)\n",
    "library(SFEData)\n",
    "library(SpatialFeatureExperiment)\n",
    "library(scater)\n",
    "library(scran)\n",
    "library(scuttle)\n",
    "library(ggplot2)\n",
    "library(stringr)\n",
    "library(tidyr)\n",
    "library(tibble)\n",
    "library(bluster)\n",
    "library(BiocSingular)\n",
    "library(BiocParallel)\n",
    "library(sf)\n",
    "library(patchwork)\n",
    "theme_set(theme_bw())"
   ]
  },
  {
   "cell_type": "code",
   "execution_count": null,
<<<<<<< HEAD
<<<<<<< HEAD
   "id": "11d25552",
||||||| ff06ad40
   "id": "c573719c",
=======
   "id": "6a57b63c",
>>>>>>> documentation-devel
||||||| 1158767b
   "id": "11d25552",
=======
   "id": "84e863e6",
>>>>>>> 6e0f6d6ef35309dec3607d4371c747197b435328
   "metadata": {},
   "outputs": [],
   "source": [
    "(sfe <- VizgenLiverData())"
   ]
  },
  {
   "cell_type": "markdown",
<<<<<<< HEAD
<<<<<<< HEAD
   "id": "7d1d04fe",
||||||| ff06ad40
   "id": "829064fa",
=======
   "id": "0fe15431",
>>>>>>> documentation-devel
||||||| 1158767b
   "id": "7d1d04fe",
=======
   "id": "0a257626",
>>>>>>> 6e0f6d6ef35309dec3607d4371c747197b435328
   "metadata": {
    "lines_to_next_cell": 0
   },
   "source": [
    "MULTISPATI PCA is one of the multivariate methods introduced in `Voyager` 1.2.0. All multivariate methods in `Voyager` are listed here:"
   ]
  },
  {
   "cell_type": "code",
   "execution_count": null,
<<<<<<< HEAD
<<<<<<< HEAD
   "id": "a2b56c82",
||||||| ff06ad40
   "id": "dd75e2c6",
=======
   "id": "9f6bf5f5",
>>>>>>> documentation-devel
||||||| 1158767b
   "id": "a2b56c82",
=======
   "id": "da8a603c",
>>>>>>> 6e0f6d6ef35309dec3607d4371c747197b435328
   "metadata": {},
   "outputs": [],
   "source": [
    "listSFEMethods(variate = \"multi\")"
   ]
  },
  {
   "cell_type": "markdown",
<<<<<<< HEAD
<<<<<<< HEAD
   "id": "7b727cbd",
||||||| ff06ad40
   "id": "10ccbc76",
=======
   "id": "1acc64f5",
>>>>>>> documentation-devel
||||||| 1158767b
   "id": "7b727cbd",
=======
   "id": "67ea3763",
>>>>>>> 6e0f6d6ef35309dec3607d4371c747197b435328
   "metadata": {
    "lines_to_next_cell": 0
   },
   "source": [
    "When calling `calculate*variate()` or `run*variate()`, the `type` (2nd) argument takes either an `SFEMethod` object or a string that matches an entry in the `name` column in the data frame returned by `listSFEMethods()`.\n",
    "\n",
    "# Quality control\n",
    "QC was already performed in the [first vignette](https://pachterlab.github.io/voyager/articles/vig6_merfish.html). We do the same QC here, but see the first vignette for more details."
   ]
  },
  {
   "cell_type": "code",
   "execution_count": null,
<<<<<<< HEAD
<<<<<<< HEAD
   "id": "6ee70394",
||||||| ff06ad40
   "id": "5d0aa992",
=======
   "id": "0c0aa41d",
>>>>>>> documentation-devel
||||||| 1158767b
   "id": "6ee70394",
=======
   "id": "84589fd0",
>>>>>>> 6e0f6d6ef35309dec3607d4371c747197b435328
   "metadata": {},
   "outputs": [],
   "source": [
    "is_blank <- str_detect(rownames(sfe), \"^Blank-\")\n",
    "sfe <- addPerCellQCMetrics(sfe, subset = list(blank = is_blank))"
   ]
  },
  {
   "cell_type": "code",
   "execution_count": null,
<<<<<<< HEAD
<<<<<<< HEAD
   "id": "e949449b",
||||||| ff06ad40
   "id": "22c329a2",
=======
   "id": "71ec1453",
>>>>>>> documentation-devel
||||||| 1158767b
   "id": "e949449b",
=======
   "id": "cd52b34e",
>>>>>>> 6e0f6d6ef35309dec3607d4371c747197b435328
   "metadata": {},
   "outputs": [],
   "source": [
    "get_neg_ctrl_outliers <- function(col, sfe, nmads = 3, log = FALSE) {\n",
    "    inds <- colData(sfe)$nCounts > 0 & colData(sfe)[[col]] > 0\n",
    "    df <- colData(sfe)[inds,]\n",
    "    outlier_inds <- isOutlier(df[[col]], type = \"higher\", nmads = nmads, log = log)\n",
    "    outliers <- rownames(df)[outlier_inds]\n",
    "    col2 <- str_remove(col, \"^subsets_\")\n",
    "    col2 <- str_remove(col2, \"_percent$\")\n",
    "    new_colname <- paste(\"is\", col2, \"outlier\", sep = \"_\")\n",
    "    colData(sfe)[[new_colname]] <- colnames(sfe) %in% outliers\n",
    "    sfe\n",
    "}"
   ]
  },
  {
   "cell_type": "code",
   "execution_count": null,
<<<<<<< HEAD
<<<<<<< HEAD
   "id": "ec8625a1",
||||||| ff06ad40
   "id": "6d598add",
=======
   "id": "0ddd0257",
>>>>>>> documentation-devel
||||||| 1158767b
   "id": "ec8625a1",
=======
   "id": "05c3a0fb",
>>>>>>> 6e0f6d6ef35309dec3607d4371c747197b435328
   "metadata": {},
   "outputs": [],
   "source": [
    "sfe <- get_neg_ctrl_outliers(\"subsets_blank_percent\", sfe, log = TRUE)"
   ]
  },
  {
   "cell_type": "markdown",
<<<<<<< HEAD
<<<<<<< HEAD
   "id": "90c42286",
||||||| ff06ad40
   "id": "01ff7f69",
=======
   "id": "57473fdd",
>>>>>>> documentation-devel
||||||| 1158767b
   "id": "90c42286",
=======
   "id": "f81b355c",
>>>>>>> 6e0f6d6ef35309dec3607d4371c747197b435328
   "metadata": {
    "lines_to_next_cell": 0
   },
   "source": [
    "Remove the outliers and empty cells:"
   ]
  },
  {
   "cell_type": "code",
   "execution_count": null,
<<<<<<< HEAD
<<<<<<< HEAD
   "id": "88b828b5",
||||||| ff06ad40
   "id": "f257a97f",
=======
   "id": "2ae99676",
>>>>>>> documentation-devel
||||||| 1158767b
   "id": "88b828b5",
=======
   "id": "6bd20130",
>>>>>>> 6e0f6d6ef35309dec3607d4371c747197b435328
   "metadata": {},
   "outputs": [],
   "source": [
    "inds <- !sfe$is_blank_outlier & sfe$nCounts > 0\n",
    "(sfe <- sfe[, inds])"
   ]
  },
  {
   "cell_type": "markdown",
<<<<<<< HEAD
<<<<<<< HEAD
   "id": "f767e324",
||||||| ff06ad40
   "id": "ed7ca8a7",
=======
   "id": "2a113f08",
>>>>>>> documentation-devel
||||||| 1158767b
   "id": "f767e324",
=======
   "id": "aa70a48a",
>>>>>>> 6e0f6d6ef35309dec3607d4371c747197b435328
   "metadata": {},
   "source": [
    "There still are over 390,000 cells left after removing the outliers. \n",
    "\n",
    "Next we compute Moran's I for QC metrics, which requires a spatial neighborhood graph:"
   ]
  },
  {
   "cell_type": "code",
   "execution_count": null,
<<<<<<< HEAD
<<<<<<< HEAD
   "id": "07e598aa",
||||||| ff06ad40
   "id": "befc2e0a",
=======
   "id": "8dec72a7",
>>>>>>> documentation-devel
||||||| 1158767b
   "id": "07e598aa",
=======
   "id": "a406a2f4",
>>>>>>> 6e0f6d6ef35309dec3607d4371c747197b435328
   "metadata": {},
   "outputs": [],
   "source": [
    "system.time(\n",
    "    colGraph(sfe, \"knn5\") <- findSpatialNeighbors(sfe, method = \"knearneigh\", \n",
    "                                                  dist_type = \"idw\", k = 5, \n",
    "                                                  style = \"W\")\n",
    ")"
   ]
  },
  {
   "cell_type": "code",
   "execution_count": null,
<<<<<<< HEAD
<<<<<<< HEAD
   "id": "52273041",
||||||| ff06ad40
   "id": "84371e41",
=======
   "id": "4c6cf396",
>>>>>>> documentation-devel
||||||| 1158767b
   "id": "52273041",
=======
   "id": "fc3c103a",
>>>>>>> 6e0f6d6ef35309dec3607d4371c747197b435328
   "metadata": {},
   "outputs": [],
   "source": [
    "features_use <- c(\"nCounts\", \"nGenes\", \"volume\")\n",
    "sfe <- colDataUnivariate(sfe, \"moran.mc\", features_use, \n",
    "                         colGraphName = \"knn5\", nsim = 49, \n",
    "                         BPPARAM = MulticoreParam(2))"
   ]
  },
  {
   "cell_type": "code",
   "execution_count": null,
<<<<<<< HEAD
<<<<<<< HEAD
   "id": "9b1b0778",
||||||| ff06ad40
   "id": "30cfe400",
=======
   "id": "585eff72",
>>>>>>> documentation-devel
||||||| 1158767b
   "id": "9b1b0778",
=======
   "id": "a3f41d82",
>>>>>>> 6e0f6d6ef35309dec3607d4371c747197b435328
   "metadata": {},
   "outputs": [],
   "source": [
    "plotMoranMC(sfe, features_use)"
   ]
  },
  {
   "cell_type": "markdown",
<<<<<<< HEAD
<<<<<<< HEAD
   "id": "b0c14fbf",
||||||| ff06ad40
   "id": "edf471e6",
=======
   "id": "45ec95cb",
>>>>>>> documentation-devel
||||||| 1158767b
   "id": "b0c14fbf",
=======
   "id": "9b575bda",
>>>>>>> 6e0f6d6ef35309dec3607d4371c747197b435328
   "metadata": {},
   "source": [
    "Here Moran's I is a little negative, but from the permutation testing, it is significant, though that can also be the large number of cells. The lower bound of Moran's I given the spatial neighborhood graph is usually closer to -0.5 than -1, while the upper bound is usually around 1. The bounds given a specific spatial neighborhood graph can be found with `moranBounds()`, but because it double centers the adjacency matrix, hence making it dense, there isn't enough memory to use it for the entire dataset. But we can look at the Moran bounds of a small subset of data, which might be generalizable to the whole dataset given that this tissue appears quite homogeneous in space."
   ]
  },
  {
   "cell_type": "code",
   "execution_count": null,
<<<<<<< HEAD
<<<<<<< HEAD
   "id": "77a5b23b",
||||||| ff06ad40
   "id": "dbadfc97",
=======
   "id": "066dfc4a",
>>>>>>> documentation-devel
||||||| 1158767b
   "id": "77a5b23b",
=======
   "id": "607ecfba",
>>>>>>> 6e0f6d6ef35309dec3607d4371c747197b435328
   "metadata": {},
   "outputs": [],
   "source": [
    "bbox_use <- c(xmin = 6000, xmax = 7000, ymin = 4000, ymax = 5000)\n",
    "inds2 <- st_intersects(cellSeg(sfe), st_as_sfc(st_bbox(bbox_use)), \n",
    "                       sparse = FALSE)[,1]\n",
    "sfe_sub <- sfe[, inds2]"
   ]
  },
  {
   "cell_type": "code",
   "execution_count": null,
<<<<<<< HEAD
<<<<<<< HEAD
   "id": "5fe5a9c3",
||||||| ff06ad40
   "id": "886213b2",
=======
   "id": "5babde4f",
>>>>>>> documentation-devel
||||||| 1158767b
   "id": "5fe5a9c3",
=======
   "id": "5e31e226",
>>>>>>> 6e0f6d6ef35309dec3607d4371c747197b435328
   "metadata": {},
   "outputs": [],
   "source": [
    "(mb <- moranBounds(colGraph(sfe_sub, \"knn5\")))"
   ]
  },
  {
   "cell_type": "markdown",
<<<<<<< HEAD
<<<<<<< HEAD
   "id": "f6b28460",
||||||| ff06ad40
   "id": "78400de2",
=======
   "id": "017edaec",
>>>>>>> documentation-devel
||||||| 1158767b
   "id": "f6b28460",
=======
   "id": "4a75e876",
>>>>>>> 6e0f6d6ef35309dec3607d4371c747197b435328
   "metadata": {
    "lines_to_next_cell": 0
   },
   "source": [
    "So considering the bounds, the MOran's I values of the QC metrics are more like"
   ]
  },
  {
   "cell_type": "code",
   "execution_count": null,
<<<<<<< HEAD
<<<<<<< HEAD
   "id": "633c7f37",
||||||| ff06ad40
   "id": "70646098",
=======
   "id": "dbd3256e",
>>>>>>> documentation-devel
||||||| 1158767b
   "id": "633c7f37",
=======
   "id": "ac303682",
>>>>>>> 6e0f6d6ef35309dec3607d4371c747197b435328
   "metadata": {},
   "outputs": [],
   "source": [
    "setNames(colFeatureData(sfe)[c(\"nCounts\", \"nGenes\", \"volume\"), \n",
    "                             \"moran.mc_statistic_sample01\"] / mb[\"Imin\"],\n",
    "         features_use)"
   ]
  },
  {
   "cell_type": "markdown",
<<<<<<< HEAD
<<<<<<< HEAD
   "id": "e194f7d6",
||||||| ff06ad40
   "id": "3855e616",
=======
   "id": "12ef9329",
>>>>>>> documentation-devel
||||||| 1158767b
   "id": "e194f7d6",
=======
   "id": "e5239a74",
>>>>>>> 6e0f6d6ef35309dec3607d4371c747197b435328
   "metadata": {},
   "source": [
    "whose magnitudes seem more substantial for `nCounts` and `nGenes` if it's positive spatial autocorrelation. So there may be mild to moderate negative spatial autocorrelation."
   ]
  },
  {
   "cell_type": "code",
   "execution_count": null,
<<<<<<< HEAD
<<<<<<< HEAD
   "id": "beee08e8",
||||||| ff06ad40
   "id": "d91bc9e3",
=======
   "id": "594fe3ed",
>>>>>>> documentation-devel
||||||| 1158767b
   "id": "beee08e8",
=======
   "id": "d50d60b7",
>>>>>>> 6e0f6d6ef35309dec3607d4371c747197b435328
   "metadata": {},
   "outputs": [],
   "source": [
    "# Normalize data\n",
    "sfe <- logNormCounts(sfe)"
   ]
  },
  {
   "cell_type": "markdown",
<<<<<<< HEAD
<<<<<<< HEAD
   "id": "85b3c658",
||||||| ff06ad40
   "id": "442ffb58",
=======
   "id": "f7e5a7f2",
>>>>>>> documentation-devel
||||||| 1158767b
   "id": "85b3c658",
=======
   "id": "30966a4c",
>>>>>>> 6e0f6d6ef35309dec3607d4371c747197b435328
   "metadata": {},
   "source": [
    "# Hepatic zonation\n",
    "\n",
    "This dataset comes from a relatively large piece of tissue and we need to zoom into a smaller region to better see the local structures. Here we specify a bounding box."
   ]
  },
  {
   "cell_type": "code",
   "execution_count": null,
<<<<<<< HEAD
<<<<<<< HEAD
   "id": "4097cbc3",
||||||| ff06ad40
   "id": "25919611",
=======
   "id": "2a47d966",
>>>>>>> documentation-devel
||||||| 1158767b
   "id": "4097cbc3",
=======
   "id": "7e25e275",
>>>>>>> 6e0f6d6ef35309dec3607d4371c747197b435328
   "metadata": {},
   "outputs": [],
   "source": [
    "bbox_use <- c(xmin = 6100, xmax = 7100, ymin = 7500, ymax = 8500)"
   ]
  },
  {
   "cell_type": "markdown",
<<<<<<< HEAD
<<<<<<< HEAD
   "id": "c355b9b4",
||||||| ff06ad40
   "id": "575c5f93",
=======
   "id": "e3538a1d",
>>>>>>> documentation-devel
||||||| 1158767b
   "id": "c355b9b4",
=======
   "id": "0473bf90",
>>>>>>> 6e0f6d6ef35309dec3607d4371c747197b435328
   "metadata": {},
   "source": [
    "A portal triad is shown near the top right of this bounding box. The two large vessels on the left and bottom right are central veins. The portal triad consists of the hepatic artery, portal vein which brings blood from the intestine, and bile duct, so it's more oxygenated. The regions around the central vein is more deoxygenated. The different oxygen and nutrient contents mean that hepatocytes play different metabolic roles in the zones between the portal triad and the central vein. Here we plot some zonation marker genes from [@Halpern2017-lq]. "
   ]
  },
  {
   "cell_type": "code",
   "execution_count": null,
<<<<<<< HEAD
<<<<<<< HEAD
   "id": "1267fc13",
||||||| ff06ad40
   "id": "ccf0ec28",
=======
   "id": "db845c36",
>>>>>>> documentation-devel
||||||| 1158767b
   "id": "1267fc13",
=======
   "id": "cfac64f3",
>>>>>>> 6e0f6d6ef35309dec3607d4371c747197b435328
   "metadata": {},
   "outputs": [],
   "source": [
    "markers <- c(\"Axin2\", \"Cyp1a2\", \"Gstm3\", \"Psmd4\", # Pericentral\n",
    "             \"Cyp2e1\", \"Asl\", \"Alb\", \"Ass1\", # Monotonic but has intermediate\n",
    "             \"Hamp\", \"Igfbp2\", \"Cyp8b1\", \"Mup3\", # Non-monotonic\n",
    "             \"Arg1\", \"Pck1\", \"C2\", \"Sdhd\") # Periportal"
   ]
  },
  {
   "cell_type": "code",
   "execution_count": null,
<<<<<<< HEAD
<<<<<<< HEAD
   "id": "ad175027",
||||||| ff06ad40
   "id": "a51a46bb",
=======
   "id": "3a8f8b9b",
>>>>>>> documentation-devel
||||||| 1158767b
   "id": "ad175027",
=======
   "id": "6768b3b0",
>>>>>>> 6e0f6d6ef35309dec3607d4371c747197b435328
   "metadata": {},
   "outputs": [],
   "source": [
    "(inds <- which(markers %in% rownames(sfe)))"
   ]
  },
  {
   "cell_type": "markdown",
<<<<<<< HEAD
<<<<<<< HEAD
   "id": "4bbabd5c",
||||||| ff06ad40
   "id": "1e4202d5",
=======
   "id": "d879072e",
>>>>>>> documentation-devel
||||||| 1158767b
   "id": "4bbabd5c",
=======
   "id": "d3872b38",
>>>>>>> 6e0f6d6ef35309dec3607d4371c747197b435328
   "metadata": {
    "lines_to_next_cell": 0
   },
   "source": [
    "Only 3 of these marker genes are present in this dataset. The first two are pericentral (near the central vein), and the last one is periportal (near the portal triad)."
   ]
  },
  {
   "cell_type": "code",
   "execution_count": null,
<<<<<<< HEAD
<<<<<<< HEAD
   "id": "17863fba",
||||||| ff06ad40
   "id": "d97240e6",
=======
   "id": "51eb0383",
>>>>>>> documentation-devel
||||||| 1158767b
   "id": "17863fba",
=======
   "id": "2266e3bc",
>>>>>>> 6e0f6d6ef35309dec3607d4371c747197b435328
   "metadata": {
    "fig.height": 3,
    "fig.width": 9
   },
   "outputs": [],
   "source": [
    "plotSpatialFeature(sfe, markers[inds], colGeometryName = \"cellSeg\",\n",
    "                   ncol = 3, bbox = bbox_use)"
   ]
  },
  {
   "cell_type": "markdown",
<<<<<<< HEAD
<<<<<<< HEAD
   "id": "a488eedc",
||||||| ff06ad40
   "id": "17bd3202",
=======
   "id": "24480d99",
>>>>>>> documentation-devel
||||||| 1158767b
   "id": "a488eedc",
=======
   "id": "5542d9b0",
>>>>>>> 6e0f6d6ef35309dec3607d4371c747197b435328
   "metadata": {},
   "source": [
    "Besides hepatocytes, the liver also has many endothelial cells and Kupffer cells (macrophages). Marker genes of these cells from [@Bonnardel2019-le] are plotted to visualize these cell types in space:"
   ]
  },
  {
   "cell_type": "code",
   "execution_count": null,
<<<<<<< HEAD
<<<<<<< HEAD
   "id": "2c8d83fb",
||||||| ff06ad40
   "id": "6163a746",
=======
   "id": "8917973e",
>>>>>>> documentation-devel
||||||| 1158767b
   "id": "2c8d83fb",
=======
   "id": "4870e711",
>>>>>>> 6e0f6d6ef35309dec3607d4371c747197b435328
   "metadata": {},
   "outputs": [],
   "source": [
    "# Kuppfer cells\n",
    "kc_genes <- c(\"Timd4\", \"Vsig4\", \"Clec4f\", \"Clec1b\", \"Il18bp\", \"C6\", \"Irf7\",\n",
    "              \"Slc40a1\", \"Cdh5\", \"Nr1h3\", \"Dmpk\", \"Paqr9\", \"Pcolce2\", \"Kcna2\",\n",
    "              \"Gbp8\", \"Iigp1\", \"Helz2\", \"Cd207\", \"Icos\", \"Adcy4\", \"Slc1a2\",\n",
    "              \"Rsad2\", \"Slc16a9\", \"Cd209f\", \"Oasl1\", \"Fam167a\")\n",
    "which(kc_genes %in% rownames(sfe))"
   ]
  },
  {
   "cell_type": "markdown",
<<<<<<< HEAD
<<<<<<< HEAD
   "id": "869dd7ae",
||||||| ff06ad40
   "id": "c03d6e62",
=======
   "id": "42ab1823",
>>>>>>> documentation-devel
||||||| 1158767b
   "id": "869dd7ae",
=======
   "id": "a78f6ab4",
>>>>>>> 6e0f6d6ef35309dec3607d4371c747197b435328
   "metadata": {
    "lines_to_next_cell": 0
   },
   "source": [
    "Only one of the Kupffer cell markers is available in this dataset."
   ]
  },
  {
   "cell_type": "code",
   "execution_count": null,
<<<<<<< HEAD
<<<<<<< HEAD
   "id": "8b3934c8",
||||||| ff06ad40
   "id": "1df99303",
=======
   "id": "3bec4056",
>>>>>>> documentation-devel
||||||| 1158767b
   "id": "8b3934c8",
=======
   "id": "68b13eaf",
>>>>>>> 6e0f6d6ef35309dec3607d4371c747197b435328
   "metadata": {},
   "outputs": [],
   "source": [
    "plotSpatialFeature(sfe, kc_genes[9], colGeometryName = \"cellSeg\",\n",
    "                   bbox = bbox_use)"
   ]
  },
  {
   "cell_type": "markdown",
<<<<<<< HEAD
<<<<<<< HEAD
   "id": "40c2154e",
||||||| ff06ad40
   "id": "fc5a13f9",
=======
   "id": "d164a602",
>>>>>>> documentation-devel
||||||| 1158767b
   "id": "40c2154e",
=======
   "id": "f22aa7c3",
>>>>>>> 6e0f6d6ef35309dec3607d4371c747197b435328
   "metadata": {},
   "source": [
    "Expression of this gene does not seem very spatially coherent."
   ]
  },
  {
   "cell_type": "code",
   "execution_count": null,
<<<<<<< HEAD
<<<<<<< HEAD
   "id": "9499e4e0",
||||||| ff06ad40
   "id": "cdc2a250",
=======
   "id": "e8019640",
>>>>>>> documentation-devel
||||||| 1158767b
   "id": "9499e4e0",
=======
   "id": "78c62a7a",
>>>>>>> 6e0f6d6ef35309dec3607d4371c747197b435328
   "metadata": {},
   "outputs": [],
   "source": [
    "# Endothelial cells\n",
    "lec_genes <- c(\"Rspo3\", \"Wnt2\", \"Wnt9b\", \"Pcdhgc5\", \"Ecm1\", \"Ltbp4\", \"Efnb2\")\n",
    "(inds_lec <- which(lec_genes %in% rownames(sfe)))"
   ]
  },
  {
   "cell_type": "markdown",
<<<<<<< HEAD
<<<<<<< HEAD
   "id": "33fb1e46",
||||||| ff06ad40
   "id": "29339728",
=======
   "id": "6fd57f75",
>>>>>>> documentation-devel
||||||| 1158767b
   "id": "33fb1e46",
=======
   "id": "9c2d69a9",
>>>>>>> 6e0f6d6ef35309dec3607d4371c747197b435328
   "metadata": {
    "lines_to_next_cell": 0
   },
   "source": [
    "Only 3 of these endothelial cell marker genes are available in this dataset."
   ]
  },
  {
   "cell_type": "code",
   "execution_count": null,
<<<<<<< HEAD
<<<<<<< HEAD
   "id": "42a06880",
||||||| ff06ad40
   "id": "a70bc8a5",
=======
   "id": "05a52032",
>>>>>>> documentation-devel
||||||| 1158767b
   "id": "42a06880",
=======
   "id": "ac06b4d9",
>>>>>>> 6e0f6d6ef35309dec3607d4371c747197b435328
   "metadata": {
    "fig.height": 3,
    "fig.width": 9
   },
   "outputs": [],
   "source": [
    "plotSpatialFeature(sfe, lec_genes[inds_lec], colGeometryName = \"cellSeg\",\n",
    "                   bbox = bbox_use, ncol = 3)"
   ]
  },
  {
   "cell_type": "markdown",
<<<<<<< HEAD
<<<<<<< HEAD
   "id": "dd7bebd1",
||||||| ff06ad40
   "id": "cef879cd",
=======
   "id": "58ff42e6",
>>>>>>> documentation-devel
||||||| 1158767b
   "id": "dd7bebd1",
=======
   "id": "0d156fcc",
>>>>>>> 6e0f6d6ef35309dec3607d4371c747197b435328
   "metadata": {},
   "source": [
    "Wnt2 seems to be more pericentral, while Ltbp4 and Efnb2 seem more periportal.\n",
    "\n",
    "Some of these marker genes will show up in the top PC loadings non-spatial and spatial PCA.\n",
    "\n",
    "# Non-spatial PCA\n",
    "First we run non-spatial PCA, to compare to MULTISPATI."
   ]
  },
  {
   "cell_type": "code",
   "execution_count": null,
<<<<<<< HEAD
<<<<<<< HEAD
   "id": "0d54c01d",
||||||| ff06ad40
   "id": "1b4ebff9",
=======
   "id": "eeed3af8",
>>>>>>> documentation-devel
||||||| 1158767b
   "id": "0d54c01d",
=======
   "id": "520e0fcb",
>>>>>>> 6e0f6d6ef35309dec3607d4371c747197b435328
   "metadata": {},
   "outputs": [],
   "source": [
    "set.seed(29)\n",
    "system.time(\n",
    "    sfe <- runPCA(sfe, ncomponents = 20, subset_row = !is_blank,\n",
    "                  exprs_values = \"logcounts\",\n",
    "                  scale = TRUE, BSPARAM = IrlbaParam())\n",
    ")\n",
    "gc()"
   ]
  },
  {
   "cell_type": "markdown",
<<<<<<< HEAD
<<<<<<< HEAD
   "id": "d08a93f0",
||||||| ff06ad40
   "id": "36b1d5a8",
=======
   "id": "862687d5",
>>>>>>> documentation-devel
||||||| 1158767b
   "id": "d08a93f0",
=======
   "id": "8b0e4fe4",
>>>>>>> 6e0f6d6ef35309dec3607d4371c747197b435328
   "metadata": {},
   "source": [
    "That's pretty quick for almost 400,000 cells, but there aren't that many genes here. Use the elbow plot to see variance explained by each PC:"
   ]
  },
  {
   "cell_type": "code",
   "execution_count": null,
<<<<<<< HEAD
<<<<<<< HEAD
   "id": "b80c722b",
||||||| ff06ad40
   "id": "26fb79e2",
=======
   "id": "703bf8c9",
>>>>>>> documentation-devel
||||||| 1158767b
   "id": "b80c722b",
=======
   "id": "30d9823e",
>>>>>>> 6e0f6d6ef35309dec3607d4371c747197b435328
   "metadata": {},
   "outputs": [],
   "source": [
    "ElbowPlot(sfe)"
   ]
  },
  {
   "cell_type": "markdown",
<<<<<<< HEAD
<<<<<<< HEAD
   "id": "04e31a0b",
||||||| ff06ad40
   "id": "676b148e",
=======
   "id": "f7e32c6f",
>>>>>>> documentation-devel
||||||| 1158767b
   "id": "04e31a0b",
=======
   "id": "9a8293b0",
>>>>>>> 6e0f6d6ef35309dec3607d4371c747197b435328
   "metadata": {
    "lines_to_next_cell": 0
   },
   "source": [
    "Plot top gene loadings in each PC"
   ]
  },
  {
   "cell_type": "code",
   "execution_count": null,
<<<<<<< HEAD
<<<<<<< HEAD
   "id": "8b7a85fb",
||||||| ff06ad40
   "id": "8107a58b",
=======
   "id": "e7b1afe4",
>>>>>>> documentation-devel
||||||| 1158767b
   "id": "8b7a85fb",
=======
   "id": "fa909378",
>>>>>>> 6e0f6d6ef35309dec3607d4371c747197b435328
   "metadata": {},
   "outputs": [],
   "source": [
    "plotDimLoadings(sfe)"
   ]
  },
  {
   "cell_type": "markdown",
<<<<<<< HEAD
<<<<<<< HEAD
   "id": "81a7b0ab",
||||||| ff06ad40
   "id": "56540911",
=======
   "id": "04314e22",
>>>>>>> documentation-devel
||||||| 1158767b
   "id": "81a7b0ab",
=======
   "id": "9098ade6",
>>>>>>> 6e0f6d6ef35309dec3607d4371c747197b435328
   "metadata": {
    "lines_to_next_cell": 0
   },
   "source": [
    "Many of these genes seem to be related to the endothelium. PC1 and PC4 concern the Kupffer cells as well, as the Kupffer cell marker gene Cdh5 has high loading.\n",
    "\n",
    "Plot the first 4 PCs in space"
   ]
  },
  {
   "cell_type": "code",
   "execution_count": null,
<<<<<<< HEAD
<<<<<<< HEAD
   "id": "d61ed72a",
||||||| ff06ad40
   "id": "386bf139",
=======
   "id": "52741387",
>>>>>>> documentation-devel
||||||| 1158767b
   "id": "d61ed72a",
=======
   "id": "2766eea9",
>>>>>>> 6e0f6d6ef35309dec3607d4371c747197b435328
   "metadata": {
    "fig.height": 7,
    "fig.width": 9
   },
   "outputs": [],
   "source": [
    "spatialReducedDim(sfe, \"PCA\", 4, colGeometryName = \"centroids\", scattermore = TRUE,\n",
    "                  divergent = TRUE, diverge_center = 0)"
   ]
  },
  {
   "cell_type": "markdown",
<<<<<<< HEAD
<<<<<<< HEAD
   "id": "14d0a3d3",
||||||| ff06ad40
   "id": "c9fdb56a",
=======
   "id": "5cbcc53a",
>>>>>>> documentation-devel
||||||| 1158767b
   "id": "14d0a3d3",
=======
   "id": "e0906797",
>>>>>>> 6e0f6d6ef35309dec3607d4371c747197b435328
   "metadata": {},
   "source": [
    "PC1 and PC4 highlight the major blood vessels, while PC2 and PC3 have less spatial structure. While in the CosMX and Xenium datasets on this website, the top PCs have clear spatial structures despite the absence of spatial information in non-spatial PCA because of clear spatial compartments for some cell types, which does not seem to be the case in this dataset except for the blood vessels. We have seen above that some genes have strong spatial structures. \n",
    "\n",
    "While PC2 and PC3 don't seem to have large scale spatial structure, they may have more local spatial structure not obvious from plotting the entire section, so we zoom into a bounding box which shows hepatic zonation."
   ]
  },
  {
   "cell_type": "code",
   "execution_count": null,
<<<<<<< HEAD
<<<<<<< HEAD
   "id": "13d13609",
||||||| ff06ad40
   "id": "a9f95264",
=======
   "id": "e4981ee7",
>>>>>>> documentation-devel
||||||| 1158767b
   "id": "13d13609",
=======
   "id": "ca700c19",
>>>>>>> 6e0f6d6ef35309dec3607d4371c747197b435328
   "metadata": {
    "fig.height": 7,
    "fig.width": 9
   },
   "outputs": [],
   "source": [
    "spatialReducedDim(sfe, \"PCA\", ncomponents = 4, colGeometryName = \"cellSeg\",\n",
    "                  bbox = bbox_use, divergent = TRUE, diverge_center = 0)"
   ]
  },
  {
   "cell_type": "markdown",
<<<<<<< HEAD
<<<<<<< HEAD
   "id": "918fcca7",
||||||| ff06ad40
   "id": "efd9a2c1",
=======
   "id": "39d6a393",
>>>>>>> documentation-devel
||||||| 1158767b
   "id": "918fcca7",
=======
   "id": "2696d9fa",
>>>>>>> 6e0f6d6ef35309dec3607d4371c747197b435328
   "metadata": {},
   "source": [
    "There's some spatial structure at a smaller scale, perhaps some negative spatial autocorrelation.\n",
    "\n",
    "# MULTISPATI PCA"
   ]
  },
  {
   "cell_type": "code",
   "execution_count": null,
<<<<<<< HEAD
<<<<<<< HEAD
   "id": "847c7cfa",
||||||| ff06ad40
   "id": "92a89ffd",
=======
   "id": "0b2e36e0",
>>>>>>> documentation-devel
||||||| 1158767b
   "id": "847c7cfa",
=======
   "id": "4ab5f90a",
>>>>>>> 6e0f6d6ef35309dec3607d4371c747197b435328
   "metadata": {},
   "outputs": [],
   "source": [
    "system.time({\n",
    "    sfe <- runMultivariate(sfe, \"multispati\", colGraphName = \"knn5\", nfposi = 20,\n",
    "                       nfnega = 20)\n",
    "})"
   ]
  },
  {
   "cell_type": "markdown",
<<<<<<< HEAD
<<<<<<< HEAD
   "id": "d21a920b",
||||||| ff06ad40
   "id": "7a9fa0c5",
=======
   "id": "591d3f54",
>>>>>>> documentation-devel
||||||| 1158767b
   "id": "d21a920b",
=======
   "id": "b18292e0",
>>>>>>> 6e0f6d6ef35309dec3607d4371c747197b435328
   "metadata": {
    "lines_to_next_cell": 0
   },
   "source": [
    "Then plot the most positive and most negative eigenvalues. Note that the eigenvalues here are not variance explained. Instead, they are the product of variance explained and Moran's I. So the most positive eigenvalues correspond to eigenvectors that simultaneously explain more variance and have large positive Moran's I. The most negative eigenvalues correspond to eigenvectors that simultaneously explain more variance and have negative Moran's I."
   ]
  },
  {
   "cell_type": "code",
   "execution_count": null,
<<<<<<< HEAD
<<<<<<< HEAD
   "id": "b8338118",
||||||| ff06ad40
   "id": "d2ae8557",
=======
   "id": "1d93d3c0",
>>>>>>> documentation-devel
||||||| 1158767b
   "id": "b8338118",
=======
   "id": "991b4d76",
>>>>>>> 6e0f6d6ef35309dec3607d4371c747197b435328
   "metadata": {},
   "outputs": [],
   "source": [
    "ElbowPlot(sfe, nfnega = 20, reduction = \"multispati\")"
   ]
  },
  {
   "cell_type": "markdown",
<<<<<<< HEAD
<<<<<<< HEAD
   "id": "6ce09605",
||||||| ff06ad40
   "id": "ded4b243",
=======
   "id": "6e6ebc0b",
>>>>>>> documentation-devel
||||||| 1158767b
   "id": "6ce09605",
=======
   "id": "b39bb486",
>>>>>>> 6e0f6d6ef35309dec3607d4371c747197b435328
   "metadata": {},
   "source": [
    "Here the positive eigenvalues drop sharply from PC1 to PC4, and there is only one very negative eigenvalue which might be interesting, which is unsurprising given the moderately negative Moran's I for `nCounts` and `nGenes`. However, from the [first MERFISH vignette](https://pachterlab.github.io/voyager/articles/vig6_merfish.html#morans-i), none of the genes have very negative Moran's I. Perhaps the negative eigenvalue comes from negative spatial autocorrelation in a gene program or \"eigengene\" and is not obvious from individual genes. This is the beauty of multivariate analysis.\n",
    "\n",
    "What do these components mean? Each component is a linear combination of genes to maximize the product of variance explained and Moran's I. The second component maximizes this product provided that it's orthogonal to the first component, and so on. As the loss in variance explained is usually not huge, these components can be considered axes along which _spatially coherent_ groups of spots are separated from each other as much as possible according to expression of the highly variable genes, so in theory, clustering with positive MULTISPATI components should give more spatially coherent clusters. Because of the spatial coherence, MULTISPATI might be more robust to outliers."
   ]
  },
  {
   "cell_type": "code",
   "execution_count": null,
<<<<<<< HEAD
<<<<<<< HEAD
   "id": "d019ca18",
||||||| ff06ad40
   "id": "b027a9e0",
=======
   "id": "2eb00e9b",
>>>>>>> documentation-devel
||||||| 1158767b
   "id": "d019ca18",
=======
   "id": "468db7a4",
>>>>>>> 6e0f6d6ef35309dec3607d4371c747197b435328
   "metadata": {},
   "outputs": [],
   "source": [
    "plotDimLoadings(sfe, dims = c(1:3, 40), reduction = \"multispati\")"
   ]
  },
  {
   "cell_type": "markdown",
<<<<<<< HEAD
<<<<<<< HEAD
   "id": "01f09e8b",
||||||| ff06ad40
   "id": "84a8dc43",
=======
   "id": "492b8b30",
>>>>>>> documentation-devel
||||||| 1158767b
   "id": "01f09e8b",
=======
   "id": "de27fcc3",
>>>>>>> 6e0f6d6ef35309dec3607d4371c747197b435328
   "metadata": {
    "lines_to_next_cell": 0
   },
   "source": [
    "From gene loadings, PC40 seems to separate endothelial cells and Kupffer cells from hepatocytes.\n",
    "\n",
    "Plot the these PCs:"
   ]
  },
  {
   "cell_type": "code",
   "execution_count": null,
<<<<<<< HEAD
<<<<<<< HEAD
   "id": "7f43b10c",
||||||| ff06ad40
   "id": "cbc21a3d",
=======
   "id": "a8c42bf9",
>>>>>>> documentation-devel
||||||| 1158767b
   "id": "7f43b10c",
=======
   "id": "e2235a73",
>>>>>>> 6e0f6d6ef35309dec3607d4371c747197b435328
   "metadata": {
    "fig.height": 7,
    "fig.width": 9,
    "lines_to_next_cell": 2
   },
   "outputs": [],
   "source": [
    "spatialReducedDim(sfe, \"multispati\", components = c(1:3, 40), \n",
    "                  colGeometryName = \"cellSeg\", bbox = bbox_use,\n",
    "                  divergent = TRUE, diverge_center = 0)"
   ]
  },
  {
   "cell_type": "markdown",
<<<<<<< HEAD
<<<<<<< HEAD
   "id": "cbf19dac",
||||||| ff06ad40
   "id": "159f6dac",
=======
   "id": "338c8415",
>>>>>>> documentation-devel
||||||| 1158767b
   "id": "cbf19dac",
=======
   "id": "12b855bf",
>>>>>>> 6e0f6d6ef35309dec3607d4371c747197b435328
   "metadata": {},
   "source": [
    "The first two PCs pick up zoning. PC3 seems to have smaller scale spatial structure. PC\"40\" (should really be 300 something) is an example of negative spatial autocorrelation in biology. That Kupffer cells and endothelial cells are scattered among hepatocytes may play a functional role. This does not mean that non-spatial PCA is bad. While MULTISPATI tends not to lose too much variance explained in per PC with positive eigenvalues, it identifies co-expressed genes with spatially structured expression patterns. MULTISPATI tells a different story from non-spatial PCA. PCA cell embeddings are often used for downstream analysis. Whether to use MULTISPATI embeddings instead and which or how many PCs to use depend on the questions asked in the further downstream analyses.\n",
    "\n",
    "# Spatial autocorrelation of principal components\n",
    "## Moran's I\n",
    "Here we compare Moran's I for cell embeddings in each non-spatial and MULTISPATI PC:"
   ]
  },
  {
   "cell_type": "code",
   "execution_count": null,
<<<<<<< HEAD
<<<<<<< HEAD
   "id": "cecc36d1",
||||||| ff06ad40
   "id": "402aa95c",
=======
   "id": "6f12642c",
>>>>>>> documentation-devel
||||||| 1158767b
   "id": "cecc36d1",
=======
   "id": "2924ee23",
>>>>>>> 6e0f6d6ef35309dec3607d4371c747197b435328
   "metadata": {},
   "outputs": [],
   "source": [
    "# non-spatial\n",
    "sfe <- reducedDimMoransI(sfe, dimred = \"PCA\", components = 1:20,\n",
    "                         BPPARAM = MulticoreParam(2))\n",
    "# spatial\n",
    "sfe <- reducedDimMoransI(sfe, dimred = \"multispati\", components = 1:40,\n",
    "                         BPPARAM = MulticoreParam(2))"
   ]
  },
  {
   "cell_type": "code",
   "execution_count": null,
<<<<<<< HEAD
<<<<<<< HEAD
   "id": "825953e7",
||||||| ff06ad40
   "id": "2de5fb97",
=======
   "id": "96dffb90",
>>>>>>> documentation-devel
||||||| 1158767b
   "id": "825953e7",
=======
   "id": "16489ce2",
>>>>>>> 6e0f6d6ef35309dec3607d4371c747197b435328
   "metadata": {},
   "outputs": [],
   "source": [
    "df_moran <- tibble(PCA = reducedDimFeatureData(sfe, \"PCA\")$moran_sample01[1:20],\n",
    "                   MULTISPATI_pos = \n",
    "                       reducedDimFeatureData(sfe, \"multispati\")$moran_sample01[1:20],\n",
    "                   MULTISPATI_neg = \n",
    "                       reducedDimFeatureData(sfe,\"multispati\")$moran_sample01[21:40] |> \n",
    "                       rev(),\n",
    "                   index = 1:20)"
   ]
  },
  {
   "cell_type": "code",
   "execution_count": null,
<<<<<<< HEAD
<<<<<<< HEAD
   "id": "9b4b2e5c",
||||||| ff06ad40
   "id": "56edadf4",
=======
   "id": "36d0d85b",
>>>>>>> documentation-devel
||||||| 1158767b
   "id": "9b4b2e5c",
=======
   "id": "e044a0ea",
>>>>>>> 6e0f6d6ef35309dec3607d4371c747197b435328
   "metadata": {},
   "outputs": [],
   "source": [
    "data(\"ditto_colors\")"
   ]
  },
  {
   "cell_type": "code",
   "execution_count": null,
<<<<<<< HEAD
<<<<<<< HEAD
   "id": "36b68164",
||||||| ff06ad40
   "id": "a4540ad3",
=======
   "id": "208dd7b2",
>>>>>>> documentation-devel
||||||| 1158767b
   "id": "36b68164",
=======
   "id": "ab0fa8ed",
>>>>>>> 6e0f6d6ef35309dec3607d4371c747197b435328
   "metadata": {},
   "outputs": [],
   "source": [
    "df_moran |> \n",
    "    pivot_longer(cols = -index, values_to = \"value\", names_to = \"name\") |> \n",
    "    ggplot(aes(index, value, color = name)) +\n",
    "    geom_line() +\n",
    "    scale_color_manual(values = ditto_colors) +\n",
    "    geom_hline(yintercept = 0, color = \"gray\") +\n",
    "    geom_hline(yintercept = mb, linetype = 2, color = \"gray\") +\n",
    "    scale_y_continuous(breaks = scales::breaks_pretty()) +\n",
    "    scale_x_continuous(breaks = scales::breaks_width(5)) +\n",
    "    labs(y = \"Moran's I\", color = \"Type\", x = \"Component\")"
   ]
  },
  {
   "cell_type": "markdown",
<<<<<<< HEAD
<<<<<<< HEAD
   "id": "7217d8d9",
||||||| ff06ad40
   "id": "f97d55d7",
=======
   "id": "d5aa60e6",
>>>>>>> documentation-devel
||||||| 1158767b
   "id": "7217d8d9",
=======
   "id": "d9676b6b",
>>>>>>> 6e0f6d6ef35309dec3607d4371c747197b435328
   "metadata": {},
   "source": [
    "In MULTISPATI, Moran's I is high in PC1 and PC2, but then sharply drops. Moran's I for the PC with the most negative eigenvalues is not very negative, which means the large magnitude of that eigenvalue comes from explaining more variance. However, considering the lower bound of Moran's I that is around -0.6 instead of -1, the magnitude of Moran's I for the PC with the most negative eigenvalue is not trivial."
   ]
  },
  {
   "cell_type": "code",
   "execution_count": null,
<<<<<<< HEAD
<<<<<<< HEAD
   "id": "a81f3390",
||||||| ff06ad40
   "id": "7c2bfe72",
=======
   "id": "e291945a",
>>>>>>> documentation-devel
||||||| 1158767b
   "id": "a81f3390",
=======
   "id": "1cd300be",
>>>>>>> 6e0f6d6ef35309dec3607d4371c747197b435328
   "metadata": {},
   "outputs": [],
   "source": [
    "min(df_moran$MULTISPATI_neg) / mb[1]"
   ]
  },
  {
   "cell_type": "markdown",
<<<<<<< HEAD
<<<<<<< HEAD
   "id": "5a9d2d42",
||||||| ff06ad40
   "id": "9c294f42",
=======
   "id": "d031636d",
>>>>>>> documentation-devel
||||||| 1158767b
   "id": "5a9d2d42",
=======
   "id": "f2fb3dfc",
>>>>>>> 6e0f6d6ef35309dec3607d4371c747197b435328
   "metadata": {},
   "source": [
    "Non-spatial PCs are not sorted by Moran's I; PC5 has surprising large Moran's I. "
   ]
  },
  {
   "cell_type": "code",
   "execution_count": null,
<<<<<<< HEAD
<<<<<<< HEAD
   "id": "7c86b661",
||||||| ff06ad40
   "id": "95146c99",
=======
   "id": "c4e13c18",
>>>>>>> documentation-devel
||||||| 1158767b
   "id": "7c86b661",
=======
   "id": "bd0be665",
>>>>>>> 6e0f6d6ef35309dec3607d4371c747197b435328
   "metadata": {},
   "outputs": [],
   "source": [
    "spatialReducedDim(sfe, \"PCA\", component = 5, colGeometryName = \"cellSeg\", \n",
    "                  divergent = TRUE, diverge_center = 0, bbox = bbox_use)"
   ]
  },
  {
   "cell_type": "markdown",
<<<<<<< HEAD
<<<<<<< HEAD
   "id": "f3aa58eb",
||||||| ff06ad40
   "id": "fdc71a6a",
=======
   "id": "76884e27",
>>>>>>> documentation-devel
||||||| 1158767b
   "id": "f3aa58eb",
=======
   "id": "d1784f5f",
>>>>>>> 6e0f6d6ef35309dec3607d4371c747197b435328
   "metadata": {},
   "source": [
    "PC5 must be about zonation. Also show a larger scale:"
   ]
  },
  {
   "cell_type": "code",
   "execution_count": null,
<<<<<<< HEAD
<<<<<<< HEAD
   "id": "22c92d94",
||||||| ff06ad40
   "id": "0db575fc",
=======
   "id": "d184541f",
>>>>>>> documentation-devel
||||||| 1158767b
   "id": "22c92d94",
=======
   "id": "f99c9663",
>>>>>>> 6e0f6d6ef35309dec3607d4371c747197b435328
   "metadata": {},
   "outputs": [],
   "source": [
    "spatialReducedDim(sfe, \"PCA\", components = 5, colGeometryName = \"centroids\", \n",
    "                  divergent = TRUE, diverge_center = 0, scattermore = TRUE)"
   ]
  },
  {
   "cell_type": "markdown",
<<<<<<< HEAD
<<<<<<< HEAD
   "id": "74d30473",
||||||| ff06ad40
   "id": "f91fb61b",
=======
   "id": "0b1fdb12",
>>>>>>> documentation-devel
||||||| 1158767b
   "id": "74d30473",
=======
   "id": "929b6b68",
>>>>>>> 6e0f6d6ef35309dec3607d4371c747197b435328
   "metadata": {
    "lines_to_next_cell": 0
   },
   "source": [
    "## Moran scatter plot\n",
    "Local positive and negative spatial autocorrelation can average out in global Moran's I. From the zoomed in plots and gene loadings above, some PCs are about endothelial cells. The Moran scatter plot can help discovering more local heterogeneity."
   ]
  },
  {
   "cell_type": "code",
   "execution_count": null,
<<<<<<< HEAD
<<<<<<< HEAD
   "id": "47cab9f5",
||||||| ff06ad40
   "id": "79a901c0",
=======
   "id": "0b57c709",
>>>>>>> documentation-devel
||||||| 1158767b
   "id": "47cab9f5",
=======
   "id": "461a2d82",
>>>>>>> 6e0f6d6ef35309dec3607d4371c747197b435328
   "metadata": {},
   "outputs": [],
   "source": [
    "sfe <- reducedDimUnivariate(sfe, \"moran.plot\", dimred = \"PCA\", components = 1:6)"
   ]
  },
  {
   "cell_type": "code",
   "execution_count": null,
<<<<<<< HEAD
<<<<<<< HEAD
   "id": "02e5b05a",
||||||| ff06ad40
   "id": "ccce8972",
=======
   "id": "38cc88ba",
>>>>>>> documentation-devel
||||||| 1158767b
   "id": "02e5b05a",
=======
   "id": "6e5af62d",
>>>>>>> 6e0f6d6ef35309dec3607d4371c747197b435328
   "metadata": {},
   "outputs": [],
   "source": [
    "plts <- lapply(seq_len(6), function(i) {\n",
    "    moranPlot(sfe, paste0(\"PC\", i), binned = TRUE, hex = TRUE, plot_influential = FALSE)\n",
    "})"
   ]
  },
  {
   "cell_type": "code",
   "execution_count": null,
<<<<<<< HEAD
<<<<<<< HEAD
   "id": "cd45d1b2",
||||||| ff06ad40
   "id": "c427cf48",
=======
   "id": "600cd186",
>>>>>>> documentation-devel
||||||| 1158767b
   "id": "cd45d1b2",
=======
   "id": "b9101efd",
>>>>>>> 6e0f6d6ef35309dec3607d4371c747197b435328
   "metadata": {
    "fig.height": 6,
    "fig.width": 10
   },
   "outputs": [],
   "source": [
    "wrap_plots(plts, widths = 1, heights = 1) +\n",
    "    plot_layout(ncol = 3) +\n",
    "    plot_annotation(tag_levels = \"1\", \n",
    "                    title = \"Moran scatter plot for non-spatial PCs\") &\n",
    "    theme(legend.position = \"none\")"
   ]
  },
  {
   "cell_type": "markdown",
<<<<<<< HEAD
<<<<<<< HEAD
   "id": "f03d22b7",
||||||| ff06ad40
   "id": "7b5ca62e",
=======
   "id": "99594ac5",
>>>>>>> documentation-devel
||||||| 1158767b
   "id": "f03d22b7",
=======
   "id": "6831136a",
>>>>>>> 6e0f6d6ef35309dec3607d4371c747197b435328
   "metadata": {},
   "source": [
    "PCs 1-3 have some fainter clusters outside the main cluster, indicating heterogeneous spatial autocorrelation. Also make Moran scatter plots for MULTISPATI"
   ]
  },
  {
   "cell_type": "code",
   "execution_count": null,
<<<<<<< HEAD
<<<<<<< HEAD
   "id": "58b9823f",
||||||| ff06ad40
   "id": "d289e8d4",
=======
   "id": "a7003455",
>>>>>>> documentation-devel
||||||| 1158767b
   "id": "58b9823f",
=======
   "id": "d76c0948",
>>>>>>> 6e0f6d6ef35309dec3607d4371c747197b435328
   "metadata": {},
   "outputs": [],
   "source": [
    "sfe <- reducedDimUnivariate(sfe, \"moran.plot\", dimred = \"multispati\", \n",
    "                            components = c(1:5, 40), \n",
    "                            # Not to overwrite non-spatial PCA moran plots\n",
    "                            name = \"moran.plot2\") "
   ]
  },
  {
   "cell_type": "code",
   "execution_count": null,
<<<<<<< HEAD
<<<<<<< HEAD
   "id": "b6418488",
||||||| ff06ad40
   "id": "7ac5a2c3",
=======
   "id": "1f56f069",
>>>>>>> documentation-devel
||||||| 1158767b
   "id": "b6418488",
=======
   "id": "370e58e1",
>>>>>>> 6e0f6d6ef35309dec3607d4371c747197b435328
   "metadata": {},
   "outputs": [],
   "source": [
    "plts2 <- lapply(c(1:5, 40), function(i) {\n",
    "    moranPlot(sfe, paste0(\"PC\", i), binned = TRUE, hex = TRUE, \n",
    "              plot_influential = FALSE, name = \"moran.plot2\")\n",
    "})"
   ]
  },
  {
   "cell_type": "code",
   "execution_count": null,
<<<<<<< HEAD
<<<<<<< HEAD
   "id": "f9b802a2",
||||||| ff06ad40
   "id": "af0cf124",
=======
   "id": "48844585",
>>>>>>> documentation-devel
||||||| 1158767b
   "id": "f9b802a2",
=======
   "id": "c2f576a0",
>>>>>>> 6e0f6d6ef35309dec3607d4371c747197b435328
   "metadata": {
    "fig.height": 6,
    "fig.width": 10
   },
   "outputs": [],
   "source": [
    "wrap_plots(plts2, widths = 1, heights = 1) +\n",
    "    plot_layout(ncol = 3) +\n",
    "    plot_annotation(tag_levels = \"1\",\n",
    "                    title = \"Moran scatter plot for MULTISPATI PCs\") &\n",
    "    theme(legend.position = \"none\")"
   ]
  },
  {
   "cell_type": "markdown",
<<<<<<< HEAD
<<<<<<< HEAD
   "id": "87d46c68",
||||||| ff06ad40
   "id": "d21d843f",
=======
   "id": "efca2431",
>>>>>>> documentation-devel
||||||| 1158767b
   "id": "87d46c68",
=======
   "id": "c1536ef2",
>>>>>>> 6e0f6d6ef35309dec3607d4371c747197b435328
   "metadata": {},
   "source": [
    "There are some interesting clusters.\n",
    "\n",
    "# Clustering with MULTISPATI PCA\n",
    "\n",
    "In the standard scRNA-seq data analysis workflow, a k nearest neighbor graph is found in the PCA space, which is then used for graph based clustering such as Louvain and Leiden, which is used to perform differential expression. Spatial dimension reductions can similarly be used to perform clustering, to identify spatial regions in the tissue, as done in [@Shang2022-qy; @Ren2022-qx; @Zhang2023-kf]. This type of studies often use a manual segmentation as ground truth to compare different methods that identify spatial regions. \n",
    "\n",
    "The problem with this is that spatial region methods are meant to help us to identify novel spatial regions based on new -omics data, which might reveal what's previously unknown from manual annotations. If the output from a method doesn't match manual annotations, it might simply be pointing out a previously unknown aspect of the tissue rather than wrong. Depending on the questions being asked, there can simultaneously be multiple spatial partitions. This happens in geographical space. For instance, there's land use and neighborhood boundaries, but equally valid are watershed boundaries and types of rock formation. Which one is relevant depends on the questions asked.\n",
    "\n",
    "Here we perform Leiden clustering with non-spatial and MULTISPATI PCA and compare the results. For the k nearest neighbor graph, I used the default k = 10."
   ]
  },
  {
   "cell_type": "code",
   "execution_count": null,
<<<<<<< HEAD
<<<<<<< HEAD
   "id": "9dd91085",
||||||| ff06ad40
   "id": "fd6104cd",
=======
   "id": "c17cf646",
>>>>>>> documentation-devel
||||||| 1158767b
   "id": "9dd91085",
=======
   "id": "7e886bc6",
>>>>>>> 6e0f6d6ef35309dec3607d4371c747197b435328
   "metadata": {},
   "outputs": [],
   "source": [
    "system.time({\n",
    "    set.seed(29)\n",
    "    sfe$clusts_nonspatial <- clusterCells(sfe, use.dimred = \"PCA\", \n",
    "                                          BLUSPARAM = NNGraphParam(\n",
    "                                              cluster.fun = \"leiden\",\n",
    "                                              cluster.args = list(\n",
    "                                                  objective_function = \"modularity\",\n",
    "                                                  resolution_parameter = 1\n",
    "                                              )\n",
    "                                          ))\n",
    "})"
   ]
  },
  {
   "cell_type": "markdown",
<<<<<<< HEAD
<<<<<<< HEAD
   "id": "eece23e5",
||||||| ff06ad40
   "id": "afca9eea",
=======
   "id": "93688211",
>>>>>>> documentation-devel
||||||| 1158767b
   "id": "eece23e5",
=======
   "id": "f6986f8e",
>>>>>>> 6e0f6d6ef35309dec3607d4371c747197b435328
   "metadata": {
    "lines_to_next_cell": 0
   },
   "source": [
    "See if clustering with the positive MULTISPATI PCs give more spatially coherent clusters"
   ]
  },
  {
   "cell_type": "code",
   "execution_count": null,
<<<<<<< HEAD
<<<<<<< HEAD
   "id": "9b182723",
||||||| ff06ad40
   "id": "526b54b9",
=======
   "id": "23b8e2f5",
>>>>>>> documentation-devel
||||||| 1158767b
   "id": "9b182723",
=======
   "id": "994f4cd1",
>>>>>>> 6e0f6d6ef35309dec3607d4371c747197b435328
   "metadata": {},
   "outputs": [],
   "source": [
    "system.time({\n",
    "    set.seed(29)\n",
    "    sfe$clusts_multispati <- clusterRows(reducedDim(sfe, \"multispati\")[,1:20], \n",
    "                                          BLUSPARAM = NNGraphParam(\n",
    "                                              cluster.fun = \"leiden\",\n",
    "                                              cluster.args = list(\n",
    "                                                  objective_function = \"modularity\",\n",
    "                                                  resolution_parameter = 1\n",
    "                                              )\n",
    "                                          ))\n",
    "})"
   ]
  },
  {
   "cell_type": "markdown",
<<<<<<< HEAD
<<<<<<< HEAD
   "id": "33f888b9",
||||||| ff06ad40
   "id": "7d5b1468",
=======
   "id": "77bbbbc8",
>>>>>>> documentation-devel
||||||| 1158767b
   "id": "33f888b9",
=======
   "id": "cea73e10",
>>>>>>> 6e0f6d6ef35309dec3607d4371c747197b435328
   "metadata": {
    "lines_to_next_cell": 0
   },
   "source": [
    "Plot the clusters in space:"
   ]
  },
  {
   "cell_type": "code",
   "execution_count": null,
<<<<<<< HEAD
<<<<<<< HEAD
   "id": "bba22529",
||||||| ff06ad40
   "id": "05fbcadf",
=======
   "id": "336d0327",
>>>>>>> documentation-devel
||||||| 1158767b
   "id": "bba22529",
=======
   "id": "7b94d18c",
>>>>>>> 6e0f6d6ef35309dec3607d4371c747197b435328
   "metadata": {
    "fig.height": 4,
    "fig.width": 11
   },
   "outputs": [],
   "source": [
    "plotSpatialFeature(sfe, c(\"clusts_nonspatial\", \"clusts_multispati\"), \n",
    "                   colGeometryName = \"centroids\",\n",
    "                   scattermore = TRUE) &\n",
    "     guides(colour = guide_legend(override.aes = list(size=2), ncol = 2))"
   ]
  },
  {
   "cell_type": "markdown",
<<<<<<< HEAD
<<<<<<< HEAD
   "id": "653540c1",
||||||| ff06ad40
   "id": "51aaa1de",
=======
   "id": "b5245b85",
>>>>>>> documentation-devel
||||||| 1158767b
   "id": "653540c1",
=======
   "id": "95c5d610",
>>>>>>> 6e0f6d6ef35309dec3607d4371c747197b435328
   "metadata": {
    "lines_to_next_cell": 0
   },
   "source": [
    "The MULTISPATI clusters do look somewhat more spatially structured than clusters from non-spatial PCA. Also zoom into a small area:"
   ]
  },
  {
   "cell_type": "code",
   "execution_count": null,
<<<<<<< HEAD
<<<<<<< HEAD
   "id": "5bdda2f6",
||||||| ff06ad40
   "id": "6c77cd7c",
=======
   "id": "e1f2e595",
>>>>>>> documentation-devel
||||||| 1158767b
   "id": "5bdda2f6",
=======
   "id": "a8fdbffd",
>>>>>>> 6e0f6d6ef35309dec3607d4371c747197b435328
   "metadata": {
    "fig.height": 4,
    "fig.width": 11
   },
   "outputs": [],
   "source": [
    "plotSpatialFeature(sfe, c(\"clusts_nonspatial\", \"clusts_multispati\"), \n",
    "                   colGeometryName = \"cellSeg\",\n",
    "                   bbox = bbox_use) &\n",
    "     guides(fill = guide_legend(ncol = 2))"
   ]
  },
  {
   "cell_type": "markdown",
<<<<<<< HEAD
<<<<<<< HEAD
   "id": "12c642f8",
||||||| ff06ad40
   "id": "3a23e0dd",
=======
   "id": "80e52b0d",
>>>>>>> documentation-devel
||||||| 1158767b
   "id": "12c642f8",
=======
   "id": "ed760166",
>>>>>>> 6e0f6d6ef35309dec3607d4371c747197b435328
   "metadata": {
    "lines_to_next_cell": 0
   },
   "source": [
    "What do these clusters mean? Clusters are supposed to be groups of different spots that are more similar within a group, sharing some characteristics. Non-spatial and MULTISPATI PCA use different characteristics for the clustering. Non-spatial PCA finds genes that are good for telling cell types apart, although those genes may happen to be very spatially structured. Non-spatial clustering aims to find these groups only from gene expression, and cells with similar gene expression can be surrounded by cells of other types in histological space. This is just like mapping Art Deco buildings, which are often near Spanish revival and Beaux Art buildings whose styles are quite different and perform different functions, thus not necessarily forming a coherent spatial region. \n",
    "\n",
    "In contrast, MULTISPATI's positive components find genes that must characterize spatial regions in addition to distinguishing between different cell types. Which genes are involved in each MULTISPATI component may be as interesting as the clusters. It would be interesting to perform gene set enrichment analysis, or to interpret this as some sort of spatial patterns of spatially variable genes. This is like mapping when the buildings were built, so Art Deco, Spanish revival, Beaux Art popular in the 1920s and 1930s will end up in the same cluster and form a more spatially coherent region, which can be found in DTLA Historical Core and Jewelry District, and Old Pasadena. Hence non-spatial clustering of spatial data isn't necessarily bad. Rather, it tells a different story and reveals different aspects of the data from spatial clustering. \n",
    "\n",
    "# Session Info"
   ]
  },
  {
   "cell_type": "code",
   "execution_count": null,
<<<<<<< HEAD
<<<<<<< HEAD
   "id": "9c87f47a",
||||||| ff06ad40
   "id": "d6f9bcdf",
=======
   "id": "9374d506",
>>>>>>> documentation-devel
||||||| 1158767b
   "id": "9c87f47a",
=======
   "id": "e4f7da0f",
>>>>>>> 6e0f6d6ef35309dec3607d4371c747197b435328
   "metadata": {},
   "outputs": [],
   "source": [
    "sessionInfo()"
   ]
  },
  {
   "cell_type": "markdown",
<<<<<<< HEAD
<<<<<<< HEAD
   "id": "f627c73b",
||||||| ff06ad40
   "id": "f2babed1",
=======
   "id": "6e745ea8",
>>>>>>> documentation-devel
||||||| 1158767b
   "id": "f627c73b",
=======
   "id": "d2b1d6f7",
>>>>>>> 6e0f6d6ef35309dec3607d4371c747197b435328
   "metadata": {},
   "source": [
    "# References"
   ]
  }
 ],
 "metadata": {
  "kernelspec": {
   "display_name": "R",
   "language": "R",
   "name": "ir"
  }
 },
 "nbformat": 4,
 "nbformat_minor": 5
}
