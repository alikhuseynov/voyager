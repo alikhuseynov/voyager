{
 "cells": [
  {
   "cell_type": "raw",
<<<<<<< HEAD
<<<<<<< HEAD
<<<<<<< HEAD
   "id": "a5074c03",
||||||| b944554d
   "id": "3f07744b",
=======
   "id": "b60909a8",
>>>>>>> documentation-devel
||||||| 35cb6e7a
   "id": "b60909a8",
=======
   "id": "85c61edb",
>>>>>>> documentation-devel
||||||| 596bf878
<<<<<<< HEAD
   "id": "a5074c03",
||||||| b944554d
   "id": "3f07744b",
=======
   "id": "b60909a8",
>>>>>>> documentation-devel
=======
   "id": "1833925f",
>>>>>>> f8a184fea58c53eb88debec89cb7180bf225886f
   "metadata": {},
   "source": [
    "---\n",
    "title: \"MULTISPATI PCA and negative spatial autocorrelation\"\n",
    "author: \"Lambda Moses\"\n",
    "date: \"`r Sys.Date()`\"\n",
    "output: \n",
    "  html_document:\n",
    "  toc: true\n",
    "  toc_float:\n",
    "    collapsed: false\n",
    "  toc_depth: 3\n",
    "bibliography: ref.bib\n",
    "vignette: >\n",
    "  %\\VignetteIndexEntry{multispati}\n",
    "  %\\VignetteEngine{knitr::rmarkdown}\n",
    "  %\\VignetteEncoding{UTF-8}\n",
    "---"
   ]
  },
  {
   "cell_type": "code",
   "execution_count": null,
<<<<<<< HEAD
<<<<<<< HEAD
<<<<<<< HEAD
   "id": "8a98bb79",
||||||| b944554d
   "id": "5d272f7e",
=======
   "id": "ec7d1219",
>>>>>>> documentation-devel
||||||| 35cb6e7a
   "id": "ec7d1219",
=======
   "id": "acefb096",
>>>>>>> documentation-devel
||||||| 596bf878
<<<<<<< HEAD
   "id": "8a98bb79",
||||||| b944554d
   "id": "5d272f7e",
=======
   "id": "ec7d1219",
>>>>>>> documentation-devel
=======
   "id": "cfd7dac2",
>>>>>>> f8a184fea58c53eb88debec89cb7180bf225886f
   "metadata": {
    "lines_to_next_cell": 2,
    "tags": [
     "remove_cell"
    ]
   },
   "outputs": [],
   "source": [
    "knitr::opts_chunk$set(\n",
    "  collapse = TRUE,\n",
    "  comment = \"#>\"\n",
    ")"
   ]
  },
  {
   "cell_type": "code",
   "execution_count": null,
<<<<<<< HEAD
<<<<<<< HEAD
<<<<<<< HEAD
   "id": "dc75b966",
||||||| b944554d
   "id": "08b00dd3",
=======
   "id": "f5301e7b",
>>>>>>> documentation-devel
||||||| 35cb6e7a
   "id": "f5301e7b",
=======
   "id": "64aa3b3a",
>>>>>>> documentation-devel
||||||| 596bf878
<<<<<<< HEAD
   "id": "dc75b966",
||||||| b944554d
   "id": "08b00dd3",
=======
   "id": "f5301e7b",
>>>>>>> documentation-devel
=======
   "id": "3e7b3382",
>>>>>>> f8a184fea58c53eb88debec89cb7180bf225886f
   "metadata": {
    "eval": false,
    "tags": [
     "remove_cell"
    ]
   },
   "outputs": [],
   "source": [
    "# Install Google Colab dependencies\n",
    "# Note: this can take 30+ minutes (many of the dependencies include C++ code, which needs to be compiled)\n",
    "\n",
    "# First install `sf`, `ragg` and `textshaping` and their system dependencies:\n",
    "system(\"apt-get -y update && apt-get install -y  libudunits2-dev libgdal-dev libgeos-dev libproj-dev libharfbuzz-dev libfribidi-dev\")\n",
    "install.packages(\"sf\")\n",
    "install.packages(\"textshaping\")\n",
    "install.packages(\"ragg\")\n",
    "\n",
    "# Install system dependencies of some other R packages that Voyager either imports or suggests:\n",
    "system(\"apt-get install -y libfribidi-dev libcairo2-dev libmagick++-dev\")\n",
    "\n",
    "# Install Voyager from Bioconductor:\n",
    "install.packages(\"BiocManager\")\n",
    "BiocManager::install(version = \"3.17\", ask = FALSE, update = FALSE, Ncpus = 2)\n",
    "BiocManager::install(\"scater\")\n",
    "system.time(\n",
    "  BiocManager::install(\"Voyager\", dependencies = TRUE, Ncpus = 2, update = FALSE)\n",
    ")\n",
    "\n",
    "# Other packages used in this vignette\n",
    "packageVersion(\"Voyager\")"
   ]
  },
  {
   "cell_type": "markdown",
<<<<<<< HEAD
<<<<<<< HEAD
<<<<<<< HEAD
   "id": "1e28aa88",
||||||| b944554d
   "id": "48e325d1",
=======
   "id": "4f428456",
>>>>>>> documentation-devel
||||||| 35cb6e7a
   "id": "4f428456",
=======
   "id": "ab683651",
>>>>>>> documentation-devel
||||||| 596bf878
<<<<<<< HEAD
   "id": "1e28aa88",
||||||| b944554d
   "id": "48e325d1",
=======
   "id": "4f428456",
>>>>>>> documentation-devel
=======
   "id": "25cf77c1",
>>>>>>> f8a184fea58c53eb88debec89cb7180bf225886f
   "metadata": {},
   "source": [
    "# Introduction\n",
    "Due to the large number of genes quantified in single cell and spatial transcriptomics, dimension reduction is part of the standard workflow to analyze such data, to visualize, to help interpreting the data, to distill relevant information and reduce noise, to facilitate downstream analyses such as clustering and pseudotime, to project different samples into a shared latent space for data integration, and so on.\n",
    "\n",
    "The first dimension reduction methods we learn about, such as good old principal component analysis (PCA), tSNE, and UMAP, don't use spatial information. With the rise of spatial transcriptomics, some dimension reduction methods that take spatial dependence into account have been written. Some, such as `SpatialPCA` [@Shang2022-qy], `NSF` [@Townes2023-bi], and `MEFISTO` [@Velten2022-gv] use factor analysis or probabilistic PCA which is related to factor analysis, and model the factors as Gaussian processes, with a spatial kernel for the covariance matrix, so the factors have positive spatial autocorrelation and can be used for downstream clustering where the clusters can be more spatially coherent. Some use graph convolution networks on a spatial neighborhood graph to find spatially informed embeddings of the cells, such as `conST` [@Zong2022-tb] and `SpaceFlow` [@Ren2022-qx]. `SpaSRL` [@Zhang2023-kf] finds a low dimension projection of spatial neighborhood augmented data. \n",
    "\n",
    "Spatially informed dimension reduction is actually not new, and dates back to at least 1985, with Wartenberg's crossover of Moran's I and PCA [@Wartenberg1985-fk], which was generalized and further developed as MULTISPATI PCA [@Dray2008-en], implemented in the [`adespatial`](https://cran.r-project.org/web/packages/adespatial/index.html) package on CRAN. In short, while PCA tries to maximize the variance explained by each PC, MULTISPATI maximizes the product of Moran's I and variance explained. Also, while all the eigenvalues from PCA are non-negative, because the covariance matrix is positive semidefinite, MULTISPATI can give negative eigenvalues, which represent negative spatial autocorrelation, which can be present and interesting but is not as common as positive spatial autocorrelation and is often masked by the latter [@Griffith2019-bo]. \n",
    "\n",
    "In single cell -omics conventions, let $X$ denote a gene count matrix whose columns are cells or Visium spots and whose rows are genes, with $n$ columns. Let $W$ denote the row normalized $n\\times n$ adjacency matrix of the spatial neighborhood graph of the cells or Visium spots, which does not have to be symmetric. MULTISPATI diagonalizes a symmetric matrix\n",
    "\n",
    "$$\n",
    "H = \\frac 1 {2n} X(W^t+W)X^t\n",
    "$$\n",
    "\n",
    "However, the implementation in `adespatial` is more general and can be used for other multivariate analyses in the [duality diagram](https://www.ncbi.nlm.nih.gov/pmc/articles/PMC3265363/) paradigm, such as correspondence analysis; the equation above is simplified just for PCA, without having to introduce the duality diagram here.\n",
    "\n",
    "Voyager 1.2.0 (Bioconductor 3.17) has a much faster implementation of MULTISPATI PCA based on [`RSpectra`](https://cran.r-project.org/web/packages/RSpectra/index.html). See benchmark [here](https://lambdamoses.github.io/thevoyages/posts/2023-03-25-multispati-part-2/).\n",
    "\n",
    "In this vignette, we perform MULTISPATI PCA on the MERFISH mouse liver dataset. See the first vignette using this dataset [here](https://pachterlab.github.io/voyager/articles/vig6_merfish.html).\n",
    "\n",
    "Here we load the packages used:"
   ]
  },
  {
   "cell_type": "code",
   "execution_count": null,
<<<<<<< HEAD
<<<<<<< HEAD
<<<<<<< HEAD
   "id": "d9a31437",
||||||| b944554d
   "id": "d5f8e9ad",
=======
   "id": "528c09ee",
>>>>>>> documentation-devel
||||||| 35cb6e7a
   "id": "528c09ee",
=======
   "id": "0c988000",
>>>>>>> documentation-devel
||||||| 596bf878
<<<<<<< HEAD
   "id": "d9a31437",
||||||| b944554d
   "id": "d5f8e9ad",
=======
   "id": "528c09ee",
>>>>>>> documentation-devel
=======
   "id": "51b7cc14",
>>>>>>> f8a184fea58c53eb88debec89cb7180bf225886f
   "metadata": {
    "message": false,
    "name": "setup"
   },
   "outputs": [],
   "source": [
    "library(Voyager)\n",
    "library(SFEData)\n",
    "library(SpatialFeatureExperiment)\n",
    "library(scater)\n",
    "library(scran)\n",
    "library(scuttle)\n",
    "library(ggplot2)\n",
    "library(stringr)\n",
    "library(tidyr)\n",
    "library(tibble)\n",
    "library(bluster)\n",
    "library(BiocSingular)\n",
    "library(BiocParallel)\n",
    "library(sf)\n",
    "library(patchwork)\n",
    "theme_set(theme_bw())"
   ]
  },
  {
   "cell_type": "code",
   "execution_count": null,
<<<<<<< HEAD
<<<<<<< HEAD
<<<<<<< HEAD
   "id": "51bee75f",
||||||| b944554d
   "id": "9bac6a0e",
=======
   "id": "027721aa",
>>>>>>> documentation-devel
||||||| 35cb6e7a
   "id": "027721aa",
=======
   "id": "b09a9ce4",
>>>>>>> documentation-devel
||||||| 596bf878
<<<<<<< HEAD
   "id": "51bee75f",
||||||| b944554d
   "id": "9bac6a0e",
=======
   "id": "027721aa",
>>>>>>> documentation-devel
=======
   "id": "39fed308",
>>>>>>> f8a184fea58c53eb88debec89cb7180bf225886f
   "metadata": {},
   "outputs": [],
   "source": [
    "(sfe <- VizgenLiverData())"
   ]
  },
  {
   "cell_type": "markdown",
<<<<<<< HEAD
<<<<<<< HEAD
<<<<<<< HEAD
   "id": "50043c98",
||||||| b944554d
   "id": "fc1dc84d",
=======
   "id": "8aa6d12a",
>>>>>>> documentation-devel
||||||| 35cb6e7a
   "id": "8aa6d12a",
=======
   "id": "9470f90b",
>>>>>>> documentation-devel
||||||| 596bf878
<<<<<<< HEAD
   "id": "50043c98",
||||||| b944554d
   "id": "fc1dc84d",
=======
   "id": "8aa6d12a",
>>>>>>> documentation-devel
=======
   "id": "22d6c54f",
>>>>>>> f8a184fea58c53eb88debec89cb7180bf225886f
   "metadata": {
    "lines_to_next_cell": 0
   },
   "source": [
    "MULTISPATI PCA is one of the multivariate methods introduced in `Voyager` 1.2.0. All multivariate methods in `Voyager` are listed here:"
   ]
  },
  {
   "cell_type": "code",
   "execution_count": null,
<<<<<<< HEAD
<<<<<<< HEAD
<<<<<<< HEAD
   "id": "7eb4c13d",
||||||| b944554d
   "id": "9e131e09",
=======
   "id": "6c082c7e",
>>>>>>> documentation-devel
||||||| 35cb6e7a
   "id": "6c082c7e",
=======
   "id": "9a7eea2f",
>>>>>>> documentation-devel
||||||| 596bf878
<<<<<<< HEAD
   "id": "7eb4c13d",
||||||| b944554d
   "id": "9e131e09",
=======
   "id": "6c082c7e",
>>>>>>> documentation-devel
=======
   "id": "1a9bdba3",
>>>>>>> f8a184fea58c53eb88debec89cb7180bf225886f
   "metadata": {},
   "outputs": [],
   "source": [
    "listSFEMethods(variate = \"multi\")"
   ]
  },
  {
   "cell_type": "markdown",
<<<<<<< HEAD
<<<<<<< HEAD
<<<<<<< HEAD
   "id": "6cc42437",
||||||| b944554d
   "id": "1f02bc10",
=======
   "id": "331825aa",
>>>>>>> documentation-devel
||||||| 35cb6e7a
   "id": "331825aa",
=======
   "id": "c426eeb0",
>>>>>>> documentation-devel
||||||| 596bf878
<<<<<<< HEAD
   "id": "6cc42437",
||||||| b944554d
   "id": "1f02bc10",
=======
   "id": "331825aa",
>>>>>>> documentation-devel
=======
   "id": "2759fab9",
>>>>>>> f8a184fea58c53eb88debec89cb7180bf225886f
   "metadata": {
    "lines_to_next_cell": 0
   },
   "source": [
    "When calling `calculate*variate()` or `run*variate()`, the `type` (2nd) argument takes either an `SFEMethod` object or a string that matches an entry in the `name` column in the data frame returned by `listSFEMethods()`.\n",
    "\n",
    "# Quality control\n",
    "QC was already performed in the [first vignette](https://pachterlab.github.io/voyager/articles/vig6_merfish.html). We do the same QC here, but see the first vignette for more details."
   ]
  },
  {
   "cell_type": "code",
   "execution_count": null,
<<<<<<< HEAD
<<<<<<< HEAD
<<<<<<< HEAD
   "id": "26e4120c",
||||||| b944554d
   "id": "1b7db269",
=======
   "id": "373510af",
>>>>>>> documentation-devel
||||||| 35cb6e7a
   "id": "373510af",
=======
   "id": "7fa3e428",
>>>>>>> documentation-devel
||||||| 596bf878
<<<<<<< HEAD
   "id": "26e4120c",
||||||| b944554d
   "id": "1b7db269",
=======
   "id": "373510af",
>>>>>>> documentation-devel
=======
   "id": "545db47e",
>>>>>>> f8a184fea58c53eb88debec89cb7180bf225886f
   "metadata": {},
   "outputs": [],
   "source": [
    "is_blank <- str_detect(rownames(sfe), \"^Blank-\")\n",
    "sfe <- addPerCellQCMetrics(sfe, subset = list(blank = is_blank))"
   ]
  },
  {
   "cell_type": "code",
   "execution_count": null,
<<<<<<< HEAD
<<<<<<< HEAD
<<<<<<< HEAD
   "id": "fad5765d",
||||||| b944554d
   "id": "854fae2f",
=======
   "id": "887f31f7",
>>>>>>> documentation-devel
||||||| 35cb6e7a
   "id": "887f31f7",
=======
   "id": "22185a8e",
>>>>>>> documentation-devel
||||||| 596bf878
<<<<<<< HEAD
   "id": "fad5765d",
||||||| b944554d
   "id": "854fae2f",
=======
   "id": "887f31f7",
>>>>>>> documentation-devel
=======
   "id": "281e8f2a",
>>>>>>> f8a184fea58c53eb88debec89cb7180bf225886f
   "metadata": {},
   "outputs": [],
   "source": [
    "get_neg_ctrl_outliers <- function(col, sfe, nmads = 3, log = FALSE) {\n",
    "    inds <- colData(sfe)$nCounts > 0 & colData(sfe)[[col]] > 0\n",
    "    df <- colData(sfe)[inds,]\n",
    "    outlier_inds <- isOutlier(df[[col]], type = \"higher\", nmads = nmads, log = log)\n",
    "    outliers <- rownames(df)[outlier_inds]\n",
    "    col2 <- str_remove(col, \"^subsets_\")\n",
    "    col2 <- str_remove(col2, \"_percent$\")\n",
    "    new_colname <- paste(\"is\", col2, \"outlier\", sep = \"_\")\n",
    "    colData(sfe)[[new_colname]] <- colnames(sfe) %in% outliers\n",
    "    sfe\n",
    "}"
   ]
  },
  {
   "cell_type": "code",
   "execution_count": null,
<<<<<<< HEAD
<<<<<<< HEAD
<<<<<<< HEAD
   "id": "43e36efe",
||||||| b944554d
   "id": "988f7fc8",
=======
   "id": "82712f9e",
>>>>>>> documentation-devel
||||||| 35cb6e7a
   "id": "82712f9e",
=======
   "id": "c4652707",
>>>>>>> documentation-devel
||||||| 596bf878
<<<<<<< HEAD
   "id": "43e36efe",
||||||| b944554d
   "id": "988f7fc8",
=======
   "id": "82712f9e",
>>>>>>> documentation-devel
=======
   "id": "1cc7260c",
>>>>>>> f8a184fea58c53eb88debec89cb7180bf225886f
   "metadata": {},
   "outputs": [],
   "source": [
    "sfe <- get_neg_ctrl_outliers(\"subsets_blank_percent\", sfe, log = TRUE)"
   ]
  },
  {
   "cell_type": "markdown",
<<<<<<< HEAD
<<<<<<< HEAD
<<<<<<< HEAD
   "id": "20da177d",
||||||| b944554d
   "id": "a33fafd9",
=======
   "id": "92c598b7",
>>>>>>> documentation-devel
||||||| 35cb6e7a
   "id": "92c598b7",
=======
   "id": "dad7fc9e",
>>>>>>> documentation-devel
||||||| 596bf878
<<<<<<< HEAD
   "id": "20da177d",
||||||| b944554d
   "id": "a33fafd9",
=======
   "id": "92c598b7",
>>>>>>> documentation-devel
=======
   "id": "b08684c8",
>>>>>>> f8a184fea58c53eb88debec89cb7180bf225886f
   "metadata": {
    "lines_to_next_cell": 0
   },
   "source": [
    "Remove the outliers and empty cells:"
   ]
  },
  {
   "cell_type": "code",
   "execution_count": null,
<<<<<<< HEAD
<<<<<<< HEAD
<<<<<<< HEAD
   "id": "3890c1b9",
||||||| b944554d
   "id": "a83b975b",
=======
   "id": "be364c04",
>>>>>>> documentation-devel
||||||| 35cb6e7a
   "id": "be364c04",
=======
   "id": "958ba526",
>>>>>>> documentation-devel
||||||| 596bf878
<<<<<<< HEAD
   "id": "3890c1b9",
||||||| b944554d
   "id": "a83b975b",
=======
   "id": "be364c04",
>>>>>>> documentation-devel
=======
   "id": "7bcea7d2",
>>>>>>> f8a184fea58c53eb88debec89cb7180bf225886f
   "metadata": {},
   "outputs": [],
   "source": [
    "inds <- !sfe$is_blank_outlier & sfe$nCounts > 0\n",
    "(sfe <- sfe[, inds])"
   ]
  },
  {
   "cell_type": "markdown",
<<<<<<< HEAD
<<<<<<< HEAD
<<<<<<< HEAD
   "id": "f24487b4",
||||||| b944554d
   "id": "bae15ec0",
=======
   "id": "87c08435",
>>>>>>> documentation-devel
||||||| 35cb6e7a
   "id": "87c08435",
=======
   "id": "42c8da33",
>>>>>>> documentation-devel
||||||| 596bf878
<<<<<<< HEAD
   "id": "f24487b4",
||||||| b944554d
   "id": "bae15ec0",
=======
   "id": "87c08435",
>>>>>>> documentation-devel
=======
   "id": "7be62df4",
>>>>>>> f8a184fea58c53eb88debec89cb7180bf225886f
   "metadata": {},
   "source": [
    "There still are over 390,000 cells left after removing the outliers. \n",
    "\n",
    "Next we compute Moran's I for QC metrics, which requires a spatial neighborhood graph:"
   ]
  },
  {
   "cell_type": "code",
   "execution_count": null,
<<<<<<< HEAD
<<<<<<< HEAD
<<<<<<< HEAD
   "id": "0d70f2cb",
||||||| b944554d
   "id": "3c57d54b",
=======
   "id": "5a883ba6",
>>>>>>> documentation-devel
||||||| 35cb6e7a
   "id": "5a883ba6",
=======
   "id": "6266ac28",
>>>>>>> documentation-devel
||||||| 596bf878
<<<<<<< HEAD
   "id": "0d70f2cb",
||||||| b944554d
   "id": "3c57d54b",
=======
   "id": "5a883ba6",
>>>>>>> documentation-devel
=======
   "id": "b8e2d970",
>>>>>>> f8a184fea58c53eb88debec89cb7180bf225886f
   "metadata": {},
   "outputs": [],
   "source": [
    "system.time(\n",
    "    colGraph(sfe, \"knn5\") <- findSpatialNeighbors(sfe, method = \"knearneigh\", \n",
    "                                                  dist_type = \"idw\", k = 5, \n",
    "                                                  style = \"W\")\n",
    ")"
   ]
  },
  {
   "cell_type": "code",
   "execution_count": null,
<<<<<<< HEAD
<<<<<<< HEAD
<<<<<<< HEAD
   "id": "5496bf53",
||||||| b944554d
   "id": "d045deda",
=======
   "id": "fdb3ff5c",
>>>>>>> documentation-devel
||||||| 35cb6e7a
   "id": "fdb3ff5c",
=======
   "id": "89bc915a",
>>>>>>> documentation-devel
||||||| 596bf878
<<<<<<< HEAD
   "id": "5496bf53",
||||||| b944554d
   "id": "d045deda",
=======
   "id": "fdb3ff5c",
>>>>>>> documentation-devel
=======
   "id": "b39a2d8f",
>>>>>>> f8a184fea58c53eb88debec89cb7180bf225886f
   "metadata": {},
   "outputs": [],
   "source": [
    "features_use <- c(\"nCounts\", \"nGenes\", \"volume\")\n",
    "sfe <- colDataUnivariate(sfe, \"moran.mc\", features_use, \n",
    "                         colGraphName = \"knn5\", nsim = 49, \n",
    "                         BPPARAM = MulticoreParam(2))"
   ]
  },
  {
   "cell_type": "code",
   "execution_count": null,
<<<<<<< HEAD
<<<<<<< HEAD
<<<<<<< HEAD
   "id": "b7e30c30",
||||||| b944554d
   "id": "2122b147",
=======
   "id": "7bdbfde0",
>>>>>>> documentation-devel
||||||| 35cb6e7a
   "id": "7bdbfde0",
=======
   "id": "8e772fe7",
>>>>>>> documentation-devel
||||||| 596bf878
<<<<<<< HEAD
   "id": "b7e30c30",
||||||| b944554d
   "id": "2122b147",
=======
   "id": "7bdbfde0",
>>>>>>> documentation-devel
=======
   "id": "eba64ba8",
>>>>>>> f8a184fea58c53eb88debec89cb7180bf225886f
   "metadata": {},
   "outputs": [],
   "source": [
    "plotMoranMC(sfe, features_use)"
   ]
  },
  {
   "cell_type": "markdown",
<<<<<<< HEAD
<<<<<<< HEAD
<<<<<<< HEAD
   "id": "9eeee2c6",
||||||| b944554d
   "id": "42ce4492",
=======
   "id": "d652ec54",
>>>>>>> documentation-devel
||||||| 35cb6e7a
   "id": "d652ec54",
=======
   "id": "f665e476",
>>>>>>> documentation-devel
||||||| 596bf878
<<<<<<< HEAD
   "id": "9eeee2c6",
||||||| b944554d
   "id": "42ce4492",
=======
   "id": "d652ec54",
>>>>>>> documentation-devel
=======
   "id": "5a90d18e",
>>>>>>> f8a184fea58c53eb88debec89cb7180bf225886f
   "metadata": {},
   "source": [
    "Here Moran's I is a little negative, but from the permutation testing, it is significant, though that can also be the large number of cells. The lower bound of Moran's I given the spatial neighborhood graph is usually closer to -0.5 than -1, while the upper bound is usually around 1. The bounds given a specific spatial neighborhood graph can be found with `moranBounds()`, but because it double centers the adjacency matrix, hence making it dense, there isn't enough memory to use it for the entire dataset. But we can look at the Moran bounds of a small subset of data, which might be generalizable to the whole dataset given that this tissue appears quite homogeneous in space."
   ]
  },
  {
   "cell_type": "code",
   "execution_count": null,
<<<<<<< HEAD
<<<<<<< HEAD
<<<<<<< HEAD
   "id": "c53636e3",
||||||| b944554d
   "id": "393b6063",
=======
   "id": "577cc123",
>>>>>>> documentation-devel
||||||| 35cb6e7a
   "id": "577cc123",
=======
   "id": "fbb62c25",
>>>>>>> documentation-devel
||||||| 596bf878
<<<<<<< HEAD
   "id": "c53636e3",
||||||| b944554d
   "id": "393b6063",
=======
   "id": "577cc123",
>>>>>>> documentation-devel
=======
   "id": "3edd7d65",
>>>>>>> f8a184fea58c53eb88debec89cb7180bf225886f
   "metadata": {},
   "outputs": [],
   "source": [
    "bbox_use <- c(xmin = 6000, xmax = 7000, ymin = 4000, ymax = 5000)\n",
    "inds2 <- st_intersects(cellSeg(sfe), st_as_sfc(st_bbox(bbox_use)), \n",
    "                       sparse = FALSE)[,1]\n",
    "sfe_sub <- sfe[, inds2]"
   ]
  },
  {
   "cell_type": "code",
   "execution_count": null,
<<<<<<< HEAD
<<<<<<< HEAD
<<<<<<< HEAD
   "id": "c87e9323",
||||||| b944554d
   "id": "2ce099ae",
=======
   "id": "8f88517a",
>>>>>>> documentation-devel
||||||| 35cb6e7a
   "id": "8f88517a",
=======
   "id": "118ceba2",
>>>>>>> documentation-devel
||||||| 596bf878
<<<<<<< HEAD
   "id": "c87e9323",
||||||| b944554d
   "id": "2ce099ae",
=======
   "id": "8f88517a",
>>>>>>> documentation-devel
=======
   "id": "366665fb",
>>>>>>> f8a184fea58c53eb88debec89cb7180bf225886f
   "metadata": {},
   "outputs": [],
   "source": [
    "(mb <- moranBounds(colGraph(sfe_sub, \"knn5\")))"
   ]
  },
  {
   "cell_type": "markdown",
<<<<<<< HEAD
<<<<<<< HEAD
<<<<<<< HEAD
   "id": "2c375a0b",
||||||| b944554d
   "id": "d7f61f65",
=======
   "id": "c8eb8739",
>>>>>>> documentation-devel
||||||| 35cb6e7a
   "id": "c8eb8739",
=======
   "id": "a0b8d574",
>>>>>>> documentation-devel
||||||| 596bf878
<<<<<<< HEAD
   "id": "2c375a0b",
||||||| b944554d
   "id": "d7f61f65",
=======
   "id": "c8eb8739",
>>>>>>> documentation-devel
=======
   "id": "100e18d5",
>>>>>>> f8a184fea58c53eb88debec89cb7180bf225886f
   "metadata": {
    "lines_to_next_cell": 0
   },
   "source": [
    "So considering the bounds, the MOran's I values of the QC metrics are more like"
   ]
  },
  {
   "cell_type": "code",
   "execution_count": null,
<<<<<<< HEAD
<<<<<<< HEAD
<<<<<<< HEAD
   "id": "881d9913",
||||||| b944554d
   "id": "181815c5",
=======
   "id": "d1f892d5",
>>>>>>> documentation-devel
||||||| 35cb6e7a
   "id": "d1f892d5",
=======
   "id": "bb0d2f70",
>>>>>>> documentation-devel
||||||| 596bf878
<<<<<<< HEAD
   "id": "881d9913",
||||||| b944554d
   "id": "181815c5",
=======
   "id": "d1f892d5",
>>>>>>> documentation-devel
=======
   "id": "49119f4b",
>>>>>>> f8a184fea58c53eb88debec89cb7180bf225886f
   "metadata": {},
   "outputs": [],
   "source": [
    "setNames(colFeatureData(sfe)[c(\"nCounts\", \"nGenes\", \"volume\"), \n",
    "                             \"moran.mc_statistic_sample01\"] / mb[\"Imin\"],\n",
    "         features_use)"
   ]
  },
  {
   "cell_type": "markdown",
<<<<<<< HEAD
<<<<<<< HEAD
<<<<<<< HEAD
   "id": "92ced882",
||||||| b944554d
   "id": "4025bbde",
=======
   "id": "439ebb12",
>>>>>>> documentation-devel
||||||| 35cb6e7a
   "id": "439ebb12",
=======
   "id": "a1fc4463",
>>>>>>> documentation-devel
||||||| 596bf878
<<<<<<< HEAD
   "id": "92ced882",
||||||| b944554d
   "id": "4025bbde",
=======
   "id": "439ebb12",
>>>>>>> documentation-devel
=======
   "id": "4ecb0d87",
>>>>>>> f8a184fea58c53eb88debec89cb7180bf225886f
   "metadata": {},
   "source": [
    "whose magnitudes seem more substantial for `nCounts` and `nGenes` if it's positive spatial autocorrelation. So there may be mild to moderate negative spatial autocorrelation."
   ]
  },
  {
   "cell_type": "code",
   "execution_count": null,
<<<<<<< HEAD
<<<<<<< HEAD
<<<<<<< HEAD
   "id": "b8a6fcfc",
||||||| b944554d
   "id": "a23ed759",
=======
   "id": "a81a5a05",
>>>>>>> documentation-devel
||||||| 35cb6e7a
   "id": "a81a5a05",
=======
   "id": "1d164441",
>>>>>>> documentation-devel
||||||| 596bf878
<<<<<<< HEAD
   "id": "b8a6fcfc",
||||||| b944554d
   "id": "a23ed759",
=======
   "id": "a81a5a05",
>>>>>>> documentation-devel
=======
   "id": "2e5bf3d8",
>>>>>>> f8a184fea58c53eb88debec89cb7180bf225886f
   "metadata": {},
   "outputs": [],
   "source": [
    "# Normalize data\n",
    "sfe <- logNormCounts(sfe)"
   ]
  },
  {
   "cell_type": "markdown",
<<<<<<< HEAD
<<<<<<< HEAD
<<<<<<< HEAD
   "id": "d5f95feb",
||||||| b944554d
   "id": "2dc6a7c8",
=======
   "id": "7365ff50",
>>>>>>> documentation-devel
||||||| 35cb6e7a
   "id": "7365ff50",
=======
   "id": "244cfefd",
>>>>>>> documentation-devel
||||||| 596bf878
<<<<<<< HEAD
   "id": "d5f95feb",
||||||| b944554d
   "id": "2dc6a7c8",
=======
   "id": "7365ff50",
>>>>>>> documentation-devel
=======
   "id": "d7d8ba3a",
>>>>>>> f8a184fea58c53eb88debec89cb7180bf225886f
   "metadata": {},
   "source": [
    "# Hepatic zonation\n",
    "\n",
    "This dataset comes from a relatively large piece of tissue and we need to zoom into a smaller region to better see the local structures. Here we specify a bounding box."
   ]
  },
  {
   "cell_type": "code",
   "execution_count": null,
<<<<<<< HEAD
<<<<<<< HEAD
<<<<<<< HEAD
   "id": "76063cef",
||||||| b944554d
   "id": "573a4ad1",
=======
   "id": "43f3bc1a",
>>>>>>> documentation-devel
||||||| 35cb6e7a
   "id": "43f3bc1a",
=======
   "id": "0b8d84cd",
>>>>>>> documentation-devel
||||||| 596bf878
<<<<<<< HEAD
   "id": "76063cef",
||||||| b944554d
   "id": "573a4ad1",
=======
   "id": "43f3bc1a",
>>>>>>> documentation-devel
=======
   "id": "d2659564",
>>>>>>> f8a184fea58c53eb88debec89cb7180bf225886f
   "metadata": {},
   "outputs": [],
   "source": [
    "bbox_use <- c(xmin = 6100, xmax = 7100, ymin = 7500, ymax = 8500)"
   ]
  },
  {
   "cell_type": "markdown",
<<<<<<< HEAD
<<<<<<< HEAD
<<<<<<< HEAD
   "id": "ce154ad8",
||||||| b944554d
   "id": "5a78d00a",
=======
   "id": "2cbe7051",
>>>>>>> documentation-devel
||||||| 35cb6e7a
   "id": "2cbe7051",
=======
   "id": "610cb066",
>>>>>>> documentation-devel
||||||| 596bf878
<<<<<<< HEAD
   "id": "ce154ad8",
||||||| b944554d
   "id": "5a78d00a",
=======
   "id": "2cbe7051",
>>>>>>> documentation-devel
=======
   "id": "7340430a",
>>>>>>> f8a184fea58c53eb88debec89cb7180bf225886f
   "metadata": {},
   "source": [
    "A portal triad is shown near the top right of this bounding box. The two large vessels on the left and bottom right are central veins. The portal triad consists of the hepatic artery, portal vein which brings blood from the intestine, and bile duct, so it's more oxygenated. The regions around the central vein is more deoxygenated. The different oxygen and nutrient contents mean that hepatocytes play different metabolic roles in the zones between the portal triad and the central vein. Here we plot some zonation marker genes from [@Halpern2017-lq]. "
   ]
  },
  {
   "cell_type": "code",
   "execution_count": null,
<<<<<<< HEAD
<<<<<<< HEAD
<<<<<<< HEAD
   "id": "42afabfe",
||||||| b944554d
   "id": "e00fc548",
=======
   "id": "1b3b30d5",
>>>>>>> documentation-devel
||||||| 35cb6e7a
   "id": "1b3b30d5",
=======
   "id": "b77eafd6",
>>>>>>> documentation-devel
||||||| 596bf878
<<<<<<< HEAD
   "id": "42afabfe",
||||||| b944554d
   "id": "e00fc548",
=======
   "id": "1b3b30d5",
>>>>>>> documentation-devel
=======
   "id": "73ae9879",
>>>>>>> f8a184fea58c53eb88debec89cb7180bf225886f
   "metadata": {},
   "outputs": [],
   "source": [
    "markers <- c(\"Axin2\", \"Cyp1a2\", \"Gstm3\", \"Psmd4\", # Pericentral\n",
    "             \"Cyp2e1\", \"Asl\", \"Alb\", \"Ass1\", # Monotonic but has intermediate\n",
    "             \"Hamp\", \"Igfbp2\", \"Cyp8b1\", \"Mup3\", # Non-monotonic\n",
    "             \"Arg1\", \"Pck1\", \"C2\", \"Sdhd\") # Periportal"
   ]
  },
  {
   "cell_type": "code",
   "execution_count": null,
<<<<<<< HEAD
<<<<<<< HEAD
<<<<<<< HEAD
   "id": "255bbe9c",
||||||| b944554d
   "id": "a7df8d83",
=======
   "id": "8450e098",
>>>>>>> documentation-devel
||||||| 35cb6e7a
   "id": "8450e098",
=======
   "id": "487a0fe2",
>>>>>>> documentation-devel
||||||| 596bf878
<<<<<<< HEAD
   "id": "255bbe9c",
||||||| b944554d
   "id": "a7df8d83",
=======
   "id": "8450e098",
>>>>>>> documentation-devel
=======
   "id": "4839b407",
>>>>>>> f8a184fea58c53eb88debec89cb7180bf225886f
   "metadata": {},
   "outputs": [],
   "source": [
    "(inds <- which(markers %in% rownames(sfe)))"
   ]
  },
  {
   "cell_type": "markdown",
<<<<<<< HEAD
<<<<<<< HEAD
<<<<<<< HEAD
   "id": "a0e07f32",
||||||| b944554d
   "id": "eab4a8f2",
=======
   "id": "6eae41ce",
>>>>>>> documentation-devel
||||||| 35cb6e7a
   "id": "6eae41ce",
=======
   "id": "18bc20e4",
>>>>>>> documentation-devel
||||||| 596bf878
<<<<<<< HEAD
   "id": "a0e07f32",
||||||| b944554d
   "id": "eab4a8f2",
=======
   "id": "6eae41ce",
>>>>>>> documentation-devel
=======
   "id": "1f36a3fd",
>>>>>>> f8a184fea58c53eb88debec89cb7180bf225886f
   "metadata": {
    "lines_to_next_cell": 0
   },
   "source": [
    "Only 3 of these marker genes are present in this dataset. The first two are pericentral (near the central vein), and the last one is periportal (near the portal triad)."
   ]
  },
  {
   "cell_type": "code",
   "execution_count": null,
<<<<<<< HEAD
<<<<<<< HEAD
<<<<<<< HEAD
   "id": "a348073d",
||||||| b944554d
   "id": "726c80e0",
=======
   "id": "e7a5eb37",
>>>>>>> documentation-devel
||||||| 35cb6e7a
   "id": "e7a5eb37",
=======
   "id": "41f8ad7d",
>>>>>>> documentation-devel
||||||| 596bf878
<<<<<<< HEAD
   "id": "a348073d",
||||||| b944554d
   "id": "726c80e0",
=======
   "id": "e7a5eb37",
>>>>>>> documentation-devel
=======
   "id": "80b8cff3",
>>>>>>> f8a184fea58c53eb88debec89cb7180bf225886f
   "metadata": {
    "fig.height": 3,
    "fig.width": 9
   },
   "outputs": [],
   "source": [
    "plotSpatialFeature(sfe, markers[inds], colGeometryName = \"cellSeg\",\n",
    "                   ncol = 3, bbox = bbox_use)"
   ]
  },
  {
   "cell_type": "markdown",
<<<<<<< HEAD
<<<<<<< HEAD
<<<<<<< HEAD
   "id": "cdc406fb",
||||||| b944554d
   "id": "3c8ecb70",
=======
   "id": "2146091b",
>>>>>>> documentation-devel
||||||| 35cb6e7a
   "id": "2146091b",
=======
   "id": "aa0be010",
>>>>>>> documentation-devel
||||||| 596bf878
<<<<<<< HEAD
   "id": "cdc406fb",
||||||| b944554d
   "id": "3c8ecb70",
=======
   "id": "2146091b",
>>>>>>> documentation-devel
=======
   "id": "38529441",
>>>>>>> f8a184fea58c53eb88debec89cb7180bf225886f
   "metadata": {},
   "source": [
    "Besides hepatocytes, the liver also has many endothelial cells and Kupffer cells (macrophages). Marker genes of these cells from [@Bonnardel2019-le] are plotted to visualize these cell types in space:"
   ]
  },
  {
   "cell_type": "code",
   "execution_count": null,
<<<<<<< HEAD
<<<<<<< HEAD
<<<<<<< HEAD
   "id": "6fc91a81",
||||||| b944554d
   "id": "1545a46e",
=======
   "id": "b88df0dc",
>>>>>>> documentation-devel
||||||| 35cb6e7a
   "id": "b88df0dc",
=======
   "id": "95573ab7",
>>>>>>> documentation-devel
||||||| 596bf878
<<<<<<< HEAD
   "id": "6fc91a81",
||||||| b944554d
   "id": "1545a46e",
=======
   "id": "b88df0dc",
>>>>>>> documentation-devel
=======
   "id": "a9b708d3",
>>>>>>> f8a184fea58c53eb88debec89cb7180bf225886f
   "metadata": {},
   "outputs": [],
   "source": [
    "# Kuppfer cells\n",
    "kc_genes <- c(\"Timd4\", \"Vsig4\", \"Clec4f\", \"Clec1b\", \"Il18bp\", \"C6\", \"Irf7\",\n",
    "              \"Slc40a1\", \"Cdh5\", \"Nr1h3\", \"Dmpk\", \"Paqr9\", \"Pcolce2\", \"Kcna2\",\n",
    "              \"Gbp8\", \"Iigp1\", \"Helz2\", \"Cd207\", \"Icos\", \"Adcy4\", \"Slc1a2\",\n",
    "              \"Rsad2\", \"Slc16a9\", \"Cd209f\", \"Oasl1\", \"Fam167a\")\n",
    "which(kc_genes %in% rownames(sfe))"
   ]
  },
  {
   "cell_type": "markdown",
<<<<<<< HEAD
<<<<<<< HEAD
<<<<<<< HEAD
   "id": "e72e1672",
||||||| b944554d
   "id": "771b8284",
=======
   "id": "861ea26e",
>>>>>>> documentation-devel
||||||| 35cb6e7a
   "id": "861ea26e",
=======
   "id": "1204ed89",
>>>>>>> documentation-devel
||||||| 596bf878
<<<<<<< HEAD
   "id": "e72e1672",
||||||| b944554d
   "id": "771b8284",
=======
   "id": "861ea26e",
>>>>>>> documentation-devel
=======
   "id": "982f1fbd",
>>>>>>> f8a184fea58c53eb88debec89cb7180bf225886f
   "metadata": {
    "lines_to_next_cell": 0
   },
   "source": [
    "Only one of the Kupffer cell markers is available in this dataset."
   ]
  },
  {
   "cell_type": "code",
   "execution_count": null,
<<<<<<< HEAD
<<<<<<< HEAD
<<<<<<< HEAD
   "id": "3312c3b3",
||||||| b944554d
   "id": "a3627974",
=======
   "id": "18b8fd0d",
>>>>>>> documentation-devel
||||||| 35cb6e7a
   "id": "18b8fd0d",
=======
   "id": "47f45baf",
>>>>>>> documentation-devel
||||||| 596bf878
<<<<<<< HEAD
   "id": "3312c3b3",
||||||| b944554d
   "id": "a3627974",
=======
   "id": "18b8fd0d",
>>>>>>> documentation-devel
=======
   "id": "22c81454",
>>>>>>> f8a184fea58c53eb88debec89cb7180bf225886f
   "metadata": {},
   "outputs": [],
   "source": [
    "plotSpatialFeature(sfe, kc_genes[9], colGeometryName = \"cellSeg\",\n",
    "                   bbox = bbox_use)"
   ]
  },
  {
   "cell_type": "markdown",
<<<<<<< HEAD
<<<<<<< HEAD
<<<<<<< HEAD
   "id": "650b31e4",
||||||| b944554d
   "id": "30c207d7",
=======
   "id": "395d5d6d",
>>>>>>> documentation-devel
||||||| 35cb6e7a
   "id": "395d5d6d",
=======
   "id": "dc2c6baa",
>>>>>>> documentation-devel
||||||| 596bf878
<<<<<<< HEAD
   "id": "650b31e4",
||||||| b944554d
   "id": "30c207d7",
=======
   "id": "395d5d6d",
>>>>>>> documentation-devel
=======
   "id": "3eb5dc7c",
>>>>>>> f8a184fea58c53eb88debec89cb7180bf225886f
   "metadata": {},
   "source": [
    "Expression of this gene does not seem very spatially coherent."
   ]
  },
  {
   "cell_type": "code",
   "execution_count": null,
<<<<<<< HEAD
<<<<<<< HEAD
<<<<<<< HEAD
   "id": "05bd0f67",
||||||| b944554d
   "id": "7e2b5e3f",
=======
   "id": "53279e04",
>>>>>>> documentation-devel
||||||| 35cb6e7a
   "id": "53279e04",
=======
   "id": "83aa7e1a",
>>>>>>> documentation-devel
||||||| 596bf878
<<<<<<< HEAD
   "id": "05bd0f67",
||||||| b944554d
   "id": "7e2b5e3f",
=======
   "id": "53279e04",
>>>>>>> documentation-devel
=======
   "id": "d0b0ba1f",
>>>>>>> f8a184fea58c53eb88debec89cb7180bf225886f
   "metadata": {},
   "outputs": [],
   "source": [
    "# Endothelial cells\n",
    "lec_genes <- c(\"Rspo3\", \"Wnt2\", \"Wnt9b\", \"Pcdhgc5\", \"Ecm1\", \"Ltbp4\", \"Efnb2\")\n",
    "(inds_lec <- which(lec_genes %in% rownames(sfe)))"
   ]
  },
  {
   "cell_type": "markdown",
<<<<<<< HEAD
<<<<<<< HEAD
<<<<<<< HEAD
   "id": "16345e51",
||||||| b944554d
   "id": "fae69acb",
=======
   "id": "0baeb73f",
>>>>>>> documentation-devel
||||||| 35cb6e7a
   "id": "0baeb73f",
=======
   "id": "f64d8853",
>>>>>>> documentation-devel
||||||| 596bf878
<<<<<<< HEAD
   "id": "16345e51",
||||||| b944554d
   "id": "fae69acb",
=======
   "id": "0baeb73f",
>>>>>>> documentation-devel
=======
   "id": "c50d9278",
>>>>>>> f8a184fea58c53eb88debec89cb7180bf225886f
   "metadata": {
    "lines_to_next_cell": 0
   },
   "source": [
    "Only 3 of these endothelial cell marker genes are available in this dataset."
   ]
  },
  {
   "cell_type": "code",
   "execution_count": null,
<<<<<<< HEAD
<<<<<<< HEAD
<<<<<<< HEAD
   "id": "7fb84c33",
||||||| b944554d
   "id": "a8689dbe",
=======
   "id": "57dfc6c5",
>>>>>>> documentation-devel
||||||| 35cb6e7a
   "id": "57dfc6c5",
=======
   "id": "a5b131b5",
>>>>>>> documentation-devel
||||||| 596bf878
<<<<<<< HEAD
   "id": "7fb84c33",
||||||| b944554d
   "id": "a8689dbe",
=======
   "id": "57dfc6c5",
>>>>>>> documentation-devel
=======
   "id": "1962bea3",
>>>>>>> f8a184fea58c53eb88debec89cb7180bf225886f
   "metadata": {
    "fig.height": 3,
    "fig.width": 9
   },
   "outputs": [],
   "source": [
    "plotSpatialFeature(sfe, lec_genes[inds_lec], colGeometryName = \"cellSeg\",\n",
    "                   bbox = bbox_use, ncol = 3)"
   ]
  },
  {
   "cell_type": "markdown",
<<<<<<< HEAD
<<<<<<< HEAD
<<<<<<< HEAD
   "id": "950fc054",
||||||| b944554d
   "id": "9a1b8a97",
=======
   "id": "239cda4f",
>>>>>>> documentation-devel
||||||| 35cb6e7a
   "id": "239cda4f",
=======
   "id": "988ad4bc",
>>>>>>> documentation-devel
||||||| 596bf878
<<<<<<< HEAD
   "id": "950fc054",
||||||| b944554d
   "id": "9a1b8a97",
=======
   "id": "239cda4f",
>>>>>>> documentation-devel
=======
   "id": "b3bfff12",
>>>>>>> f8a184fea58c53eb88debec89cb7180bf225886f
   "metadata": {},
   "source": [
    "Wnt2 seems to be more pericentral, while Ltbp4 and Efnb2 seem more periportal.\n",
    "\n",
    "Some of these marker genes will show up in the top PC loadings non-spatial and spatial PCA.\n",
    "\n",
    "# Non-spatial PCA\n",
    "First we run non-spatial PCA, to compare to MULTISPATI."
   ]
  },
  {
   "cell_type": "code",
   "execution_count": null,
<<<<<<< HEAD
<<<<<<< HEAD
<<<<<<< HEAD
   "id": "2db8996c",
||||||| b944554d
   "id": "aa4347a8",
=======
   "id": "d9dc397e",
>>>>>>> documentation-devel
||||||| 35cb6e7a
   "id": "d9dc397e",
=======
   "id": "6b722038",
>>>>>>> documentation-devel
||||||| 596bf878
<<<<<<< HEAD
   "id": "2db8996c",
||||||| b944554d
   "id": "aa4347a8",
=======
   "id": "d9dc397e",
>>>>>>> documentation-devel
=======
   "id": "4691cd3a",
>>>>>>> f8a184fea58c53eb88debec89cb7180bf225886f
   "metadata": {},
   "outputs": [],
   "source": [
    "set.seed(29)\n",
    "system.time(\n",
    "    sfe <- runPCA(sfe, ncomponents = 20, subset_row = !is_blank,\n",
    "                  exprs_values = \"logcounts\",\n",
    "                  scale = TRUE, BSPARAM = IrlbaParam())\n",
    ")\n",
    "gc()"
   ]
  },
  {
   "cell_type": "markdown",
<<<<<<< HEAD
<<<<<<< HEAD
<<<<<<< HEAD
   "id": "59282490",
||||||| b944554d
   "id": "b98631ee",
=======
   "id": "6feb93b5",
>>>>>>> documentation-devel
||||||| 35cb6e7a
   "id": "6feb93b5",
=======
   "id": "c08a54f1",
>>>>>>> documentation-devel
||||||| 596bf878
<<<<<<< HEAD
   "id": "59282490",
||||||| b944554d
   "id": "b98631ee",
=======
   "id": "6feb93b5",
>>>>>>> documentation-devel
=======
   "id": "f28d0b37",
>>>>>>> f8a184fea58c53eb88debec89cb7180bf225886f
   "metadata": {},
   "source": [
    "That's pretty quick for almost 400,000 cells, but there aren't that many genes here. Use the elbow plot to see variance explained by each PC:"
   ]
  },
  {
   "cell_type": "code",
   "execution_count": null,
<<<<<<< HEAD
<<<<<<< HEAD
<<<<<<< HEAD
   "id": "7cc19b89",
||||||| b944554d
   "id": "4fe0f492",
=======
   "id": "659af9fb",
>>>>>>> documentation-devel
||||||| 35cb6e7a
   "id": "659af9fb",
=======
   "id": "6994e28b",
>>>>>>> documentation-devel
||||||| 596bf878
<<<<<<< HEAD
   "id": "7cc19b89",
||||||| b944554d
   "id": "4fe0f492",
=======
   "id": "659af9fb",
>>>>>>> documentation-devel
=======
   "id": "8fbcf730",
>>>>>>> f8a184fea58c53eb88debec89cb7180bf225886f
   "metadata": {},
   "outputs": [],
   "source": [
    "ElbowPlot(sfe)"
   ]
  },
  {
   "cell_type": "markdown",
<<<<<<< HEAD
<<<<<<< HEAD
<<<<<<< HEAD
   "id": "f8fc9d73",
||||||| b944554d
   "id": "0fdbf5f3",
=======
   "id": "735d9c07",
>>>>>>> documentation-devel
||||||| 35cb6e7a
   "id": "735d9c07",
=======
   "id": "741a55f8",
>>>>>>> documentation-devel
||||||| 596bf878
<<<<<<< HEAD
   "id": "f8fc9d73",
||||||| b944554d
   "id": "0fdbf5f3",
=======
   "id": "735d9c07",
>>>>>>> documentation-devel
=======
   "id": "7f75d5c6",
>>>>>>> f8a184fea58c53eb88debec89cb7180bf225886f
   "metadata": {
    "lines_to_next_cell": 0
   },
   "source": [
    "Plot top gene loadings in each PC"
   ]
  },
  {
   "cell_type": "code",
   "execution_count": null,
<<<<<<< HEAD
<<<<<<< HEAD
<<<<<<< HEAD
   "id": "0a1d4e6b",
||||||| b944554d
   "id": "d118c11a",
=======
   "id": "709b8243",
>>>>>>> documentation-devel
||||||| 35cb6e7a
   "id": "709b8243",
=======
   "id": "cc2b256b",
>>>>>>> documentation-devel
||||||| 596bf878
<<<<<<< HEAD
   "id": "0a1d4e6b",
||||||| b944554d
   "id": "d118c11a",
=======
   "id": "709b8243",
>>>>>>> documentation-devel
=======
   "id": "720b1f43",
>>>>>>> f8a184fea58c53eb88debec89cb7180bf225886f
   "metadata": {},
   "outputs": [],
   "source": [
    "plotDimLoadings(sfe)"
   ]
  },
  {
   "cell_type": "markdown",
<<<<<<< HEAD
<<<<<<< HEAD
<<<<<<< HEAD
   "id": "ca7429f9",
||||||| b944554d
   "id": "6ad8fe99",
=======
   "id": "631a3ee3",
>>>>>>> documentation-devel
||||||| 35cb6e7a
   "id": "631a3ee3",
=======
   "id": "a5185808",
>>>>>>> documentation-devel
||||||| 596bf878
<<<<<<< HEAD
   "id": "ca7429f9",
||||||| b944554d
   "id": "6ad8fe99",
=======
   "id": "631a3ee3",
>>>>>>> documentation-devel
=======
   "id": "86238d7f",
>>>>>>> f8a184fea58c53eb88debec89cb7180bf225886f
   "metadata": {
    "lines_to_next_cell": 0
   },
   "source": [
    "Many of these genes seem to be related to the endothelium. PC1 and PC4 concern the Kupffer cells as well, as the Kupffer cell marker gene Cdh5 has high loading.\n",
    "\n",
    "Plot the first 4 PCs in space"
   ]
  },
  {
   "cell_type": "code",
   "execution_count": null,
<<<<<<< HEAD
<<<<<<< HEAD
<<<<<<< HEAD
   "id": "fc1a49f8",
||||||| b944554d
   "id": "8d0a4082",
=======
   "id": "221b6378",
>>>>>>> documentation-devel
||||||| 35cb6e7a
   "id": "221b6378",
=======
   "id": "d9a129af",
>>>>>>> documentation-devel
||||||| 596bf878
<<<<<<< HEAD
   "id": "fc1a49f8",
||||||| b944554d
   "id": "8d0a4082",
=======
   "id": "221b6378",
>>>>>>> documentation-devel
=======
   "id": "5dc7e9c9",
>>>>>>> f8a184fea58c53eb88debec89cb7180bf225886f
   "metadata": {
    "fig.height": 7,
    "fig.width": 9
   },
   "outputs": [],
   "source": [
    "spatialReducedDim(sfe, \"PCA\", 4, colGeometryName = \"centroids\", scattermore = TRUE,\n",
    "                  divergent = TRUE, diverge_center = 0)"
   ]
  },
  {
   "cell_type": "markdown",
<<<<<<< HEAD
<<<<<<< HEAD
<<<<<<< HEAD
   "id": "b9ae4ecb",
||||||| b944554d
   "id": "6e0c4bf5",
=======
   "id": "17b07070",
>>>>>>> documentation-devel
||||||| 35cb6e7a
   "id": "17b07070",
=======
   "id": "2922bf4a",
>>>>>>> documentation-devel
||||||| 596bf878
<<<<<<< HEAD
   "id": "b9ae4ecb",
||||||| b944554d
   "id": "6e0c4bf5",
=======
   "id": "17b07070",
>>>>>>> documentation-devel
=======
   "id": "ce21e013",
>>>>>>> f8a184fea58c53eb88debec89cb7180bf225886f
   "metadata": {},
   "source": [
    "PC1 and PC4 highlight the major blood vessels, while PC2 and PC3 have less spatial structure. While in the CosMX and Xenium datasets on this website, the top PCs have clear spatial structures despite the absence of spatial information in non-spatial PCA because of clear spatial compartments for some cell types, which does not seem to be the case in this dataset except for the blood vessels. We have seen above that some genes have strong spatial structures. \n",
    "\n",
    "While PC2 and PC3 don't seem to have large scale spatial structure, they may have more local spatial structure not obvious from plotting the entire section, so we zoom into a bounding box which shows hepatic zonation."
   ]
  },
  {
   "cell_type": "code",
   "execution_count": null,
<<<<<<< HEAD
<<<<<<< HEAD
<<<<<<< HEAD
   "id": "c4c900f3",
||||||| b944554d
   "id": "08d34655",
=======
   "id": "144eadce",
>>>>>>> documentation-devel
||||||| 35cb6e7a
   "id": "144eadce",
=======
   "id": "e0e78fda",
>>>>>>> documentation-devel
||||||| 596bf878
<<<<<<< HEAD
   "id": "c4c900f3",
||||||| b944554d
   "id": "08d34655",
=======
   "id": "144eadce",
>>>>>>> documentation-devel
=======
   "id": "f1a48018",
>>>>>>> f8a184fea58c53eb88debec89cb7180bf225886f
   "metadata": {
    "fig.height": 7,
    "fig.width": 9
   },
   "outputs": [],
   "source": [
    "spatialReducedDim(sfe, \"PCA\", ncomponents = 4, colGeometryName = \"cellSeg\",\n",
    "                  bbox = bbox_use, divergent = TRUE, diverge_center = 0)"
   ]
  },
  {
   "cell_type": "markdown",
<<<<<<< HEAD
<<<<<<< HEAD
<<<<<<< HEAD
   "id": "e07839f7",
||||||| b944554d
   "id": "c7293032",
=======
   "id": "0286bf1e",
>>>>>>> documentation-devel
||||||| 35cb6e7a
   "id": "0286bf1e",
=======
   "id": "0d4c459d",
>>>>>>> documentation-devel
||||||| 596bf878
<<<<<<< HEAD
   "id": "e07839f7",
||||||| b944554d
   "id": "c7293032",
=======
   "id": "0286bf1e",
>>>>>>> documentation-devel
=======
   "id": "ceb8e07a",
>>>>>>> f8a184fea58c53eb88debec89cb7180bf225886f
   "metadata": {},
   "source": [
    "There's some spatial structure at a smaller scale, perhaps some negative spatial autocorrelation.\n",
    "\n",
    "# MULTISPATI PCA"
   ]
  },
  {
   "cell_type": "code",
   "execution_count": null,
<<<<<<< HEAD
<<<<<<< HEAD
<<<<<<< HEAD
   "id": "ca39110e",
||||||| b944554d
   "id": "79da9e63",
=======
   "id": "eb0f131f",
>>>>>>> documentation-devel
||||||| 35cb6e7a
   "id": "eb0f131f",
=======
   "id": "b71822a4",
>>>>>>> documentation-devel
||||||| 596bf878
<<<<<<< HEAD
   "id": "ca39110e",
||||||| b944554d
   "id": "79da9e63",
=======
   "id": "eb0f131f",
>>>>>>> documentation-devel
=======
   "id": "f607f88a",
>>>>>>> f8a184fea58c53eb88debec89cb7180bf225886f
   "metadata": {},
   "outputs": [],
   "source": [
    "system.time({\n",
    "    sfe <- runMultivariate(sfe, \"multispati\", colGraphName = \"knn5\", nfposi = 20,\n",
    "                       nfnega = 20)\n",
    "})"
   ]
  },
  {
   "cell_type": "markdown",
<<<<<<< HEAD
<<<<<<< HEAD
<<<<<<< HEAD
   "id": "709d7bbe",
||||||| b944554d
   "id": "bf578a21",
=======
   "id": "5517379d",
>>>>>>> documentation-devel
||||||| 35cb6e7a
   "id": "5517379d",
=======
   "id": "4e183f29",
>>>>>>> documentation-devel
||||||| 596bf878
<<<<<<< HEAD
   "id": "709d7bbe",
||||||| b944554d
   "id": "bf578a21",
=======
   "id": "5517379d",
>>>>>>> documentation-devel
=======
   "id": "bdd43e7c",
>>>>>>> f8a184fea58c53eb88debec89cb7180bf225886f
   "metadata": {
    "lines_to_next_cell": 0
   },
   "source": [
    "Then plot the most positive and most negative eigenvalues. Note that the eigenvalues here are not variance explained. Instead, they are the product of variance explained and Moran's I. So the most positive eigenvalues correspond to eigenvectors that simultaneously explain more variance and have large positive Moran's I. The most negative eigenvalues correspond to eigenvectors that simultaneously explain more variance and have negative Moran's I."
   ]
  },
  {
   "cell_type": "code",
   "execution_count": null,
<<<<<<< HEAD
<<<<<<< HEAD
<<<<<<< HEAD
   "id": "8c46c111",
||||||| b944554d
   "id": "85f58f1b",
=======
   "id": "1a93a540",
>>>>>>> documentation-devel
||||||| 35cb6e7a
   "id": "1a93a540",
=======
   "id": "eba3b259",
>>>>>>> documentation-devel
||||||| 596bf878
<<<<<<< HEAD
   "id": "8c46c111",
||||||| b944554d
   "id": "85f58f1b",
=======
   "id": "1a93a540",
>>>>>>> documentation-devel
=======
   "id": "f13a707e",
>>>>>>> f8a184fea58c53eb88debec89cb7180bf225886f
   "metadata": {},
   "outputs": [],
   "source": [
    "ElbowPlot(sfe, nfnega = 20, reduction = \"multispati\")"
   ]
  },
  {
   "cell_type": "markdown",
<<<<<<< HEAD
<<<<<<< HEAD
<<<<<<< HEAD
   "id": "e3e89bc3",
||||||| b944554d
   "id": "c88cef3b",
=======
   "id": "11960d96",
>>>>>>> documentation-devel
||||||| 35cb6e7a
   "id": "11960d96",
=======
   "id": "e6ee95d7",
>>>>>>> documentation-devel
||||||| 596bf878
<<<<<<< HEAD
   "id": "e3e89bc3",
||||||| b944554d
   "id": "c88cef3b",
=======
   "id": "11960d96",
>>>>>>> documentation-devel
=======
   "id": "e2b6decf",
>>>>>>> f8a184fea58c53eb88debec89cb7180bf225886f
   "metadata": {},
   "source": [
    "Here the positive eigenvalues drop sharply from PC1 to PC4, and there is only one very negative eigenvalue which might be interesting, which is unsurprising given the moderately negative Moran's I for `nCounts` and `nGenes`. However, from the [first MERFISH vignette](https://pachterlab.github.io/voyager/articles/vig6_merfish.html#morans-i), none of the genes have very negative Moran's I. Perhaps the negative eigenvalue comes from negative spatial autocorrelation in a gene program or \"eigengene\" and is not obvious from individual genes. This is the beauty of multivariate analysis.\n",
    "\n",
    "What do these components mean? Each component is a linear combination of genes to maximize the product of variance explained and Moran's I. The second component maximizes this product provided that it's orthogonal to the first component, and so on. As the loss in variance explained is usually not huge, these components can be considered axes along which _spatially coherent_ groups of spots are separated from each other as much as possible according to expression of the highly variable genes, so in theory, clustering with positive MULTISPATI components should give more spatially coherent clusters. Because of the spatial coherence, MULTISPATI might be more robust to outliers."
   ]
  },
  {
   "cell_type": "code",
   "execution_count": null,
<<<<<<< HEAD
<<<<<<< HEAD
<<<<<<< HEAD
   "id": "082f3175",
||||||| b944554d
   "id": "d6291b18",
=======
   "id": "0b1c4002",
>>>>>>> documentation-devel
||||||| 35cb6e7a
   "id": "0b1c4002",
=======
   "id": "f3fc190f",
>>>>>>> documentation-devel
||||||| 596bf878
<<<<<<< HEAD
   "id": "082f3175",
||||||| b944554d
   "id": "d6291b18",
=======
   "id": "0b1c4002",
>>>>>>> documentation-devel
=======
   "id": "64904d67",
>>>>>>> f8a184fea58c53eb88debec89cb7180bf225886f
   "metadata": {},
   "outputs": [],
   "source": [
    "plotDimLoadings(sfe, dims = c(1:3, 40), reduction = \"multispati\")"
   ]
  },
  {
   "cell_type": "markdown",
<<<<<<< HEAD
<<<<<<< HEAD
<<<<<<< HEAD
   "id": "2bc0ef26",
||||||| b944554d
   "id": "714cb64e",
=======
   "id": "91958c9d",
>>>>>>> documentation-devel
||||||| 35cb6e7a
   "id": "91958c9d",
=======
   "id": "dc58d60d",
>>>>>>> documentation-devel
||||||| 596bf878
<<<<<<< HEAD
   "id": "2bc0ef26",
||||||| b944554d
   "id": "714cb64e",
=======
   "id": "91958c9d",
>>>>>>> documentation-devel
=======
   "id": "2b7574ae",
>>>>>>> f8a184fea58c53eb88debec89cb7180bf225886f
   "metadata": {
    "lines_to_next_cell": 0
   },
   "source": [
    "From gene loadings, PC40 seems to separate endothelial cells and Kupffer cells from hepatocytes.\n",
    "\n",
    "Plot the these PCs:"
   ]
  },
  {
   "cell_type": "code",
   "execution_count": null,
<<<<<<< HEAD
<<<<<<< HEAD
<<<<<<< HEAD
   "id": "2bda0a53",
||||||| b944554d
   "id": "49edce9c",
=======
   "id": "a00d905d",
>>>>>>> documentation-devel
||||||| 35cb6e7a
   "id": "a00d905d",
=======
   "id": "f8c2af09",
>>>>>>> documentation-devel
||||||| 596bf878
<<<<<<< HEAD
   "id": "2bda0a53",
||||||| b944554d
   "id": "49edce9c",
=======
   "id": "a00d905d",
>>>>>>> documentation-devel
=======
   "id": "adaeed20",
>>>>>>> f8a184fea58c53eb88debec89cb7180bf225886f
   "metadata": {
    "fig.height": 7,
    "fig.width": 9,
    "lines_to_next_cell": 2
   },
   "outputs": [],
   "source": [
    "spatialReducedDim(sfe, \"multispati\", components = c(1:3, 40), \n",
    "                  colGeometryName = \"cellSeg\", bbox = bbox_use,\n",
    "                  divergent = TRUE, diverge_center = 0)"
   ]
  },
  {
   "cell_type": "markdown",
<<<<<<< HEAD
<<<<<<< HEAD
<<<<<<< HEAD
   "id": "76656e62",
||||||| b944554d
   "id": "465c5bc7",
=======
   "id": "71b9f5bb",
>>>>>>> documentation-devel
||||||| 35cb6e7a
   "id": "71b9f5bb",
=======
   "id": "6c5ca46f",
>>>>>>> documentation-devel
||||||| 596bf878
<<<<<<< HEAD
   "id": "76656e62",
||||||| b944554d
   "id": "465c5bc7",
=======
   "id": "71b9f5bb",
>>>>>>> documentation-devel
=======
   "id": "0ff4857e",
>>>>>>> f8a184fea58c53eb88debec89cb7180bf225886f
   "metadata": {},
   "source": [
    "The first two PCs pick up zoning. PC3 seems to have smaller scale spatial structure. PC\"40\" (should really be 300 something) is an example of negative spatial autocorrelation in biology. That Kupffer cells and endothelial cells are scattered among hepatocytes may play a functional role. This does not mean that non-spatial PCA is bad. While MULTISPATI tends not to lose too much variance explained in per PC with positive eigenvalues, it identifies co-expressed genes with spatially structured expression patterns. MULTISPATI tells a different story from non-spatial PCA. PCA cell embeddings are often used for downstream analysis. Whether to use MULTISPATI embeddings instead and which or how many PCs to use depend on the questions asked in the further downstream analyses.\n",
    "\n",
    "# Spatial autocorrelation of principal components\n",
    "## Moran's I\n",
    "Here we compare Moran's I for cell embeddings in each non-spatial and MULTISPATI PC:"
   ]
  },
  {
   "cell_type": "code",
   "execution_count": null,
<<<<<<< HEAD
<<<<<<< HEAD
<<<<<<< HEAD
   "id": "0128b456",
||||||| b944554d
   "id": "ac6bd4aa",
=======
   "id": "dfaadb68",
>>>>>>> documentation-devel
||||||| 35cb6e7a
   "id": "dfaadb68",
=======
   "id": "1c94046b",
>>>>>>> documentation-devel
||||||| 596bf878
<<<<<<< HEAD
   "id": "0128b456",
||||||| b944554d
   "id": "ac6bd4aa",
=======
   "id": "dfaadb68",
>>>>>>> documentation-devel
=======
   "id": "fb4dc221",
>>>>>>> f8a184fea58c53eb88debec89cb7180bf225886f
   "metadata": {},
   "outputs": [],
   "source": [
    "# non-spatial\n",
    "sfe <- reducedDimMoransI(sfe, dimred = \"PCA\", components = 1:20,\n",
    "                         BPPARAM = MulticoreParam(2))\n",
    "# spatial\n",
    "sfe <- reducedDimMoransI(sfe, dimred = \"multispati\", components = 1:40,\n",
    "                         BPPARAM = MulticoreParam(2))"
   ]
  },
  {
   "cell_type": "code",
   "execution_count": null,
<<<<<<< HEAD
<<<<<<< HEAD
<<<<<<< HEAD
   "id": "ae7457a4",
||||||| b944554d
   "id": "4d369bb7",
=======
   "id": "f2cc433b",
>>>>>>> documentation-devel
||||||| 35cb6e7a
   "id": "f2cc433b",
=======
   "id": "f91d20f0",
>>>>>>> documentation-devel
||||||| 596bf878
<<<<<<< HEAD
   "id": "ae7457a4",
||||||| b944554d
   "id": "4d369bb7",
=======
   "id": "f2cc433b",
>>>>>>> documentation-devel
=======
   "id": "b05e37fc",
>>>>>>> f8a184fea58c53eb88debec89cb7180bf225886f
   "metadata": {},
   "outputs": [],
   "source": [
    "df_moran <- tibble(PCA = reducedDimFeatureData(sfe, \"PCA\")$moran_sample01[1:20],\n",
    "                   MULTISPATI_pos = \n",
    "                       reducedDimFeatureData(sfe, \"multispati\")$moran_sample01[1:20],\n",
    "                   MULTISPATI_neg = \n",
    "                       reducedDimFeatureData(sfe,\"multispati\")$moran_sample01[21:40] |> \n",
    "                       rev(),\n",
    "                   index = 1:20)"
   ]
  },
  {
   "cell_type": "code",
   "execution_count": null,
<<<<<<< HEAD
<<<<<<< HEAD
<<<<<<< HEAD
   "id": "55e3ec94",
||||||| b944554d
   "id": "3efd0a75",
=======
   "id": "f47a017d",
>>>>>>> documentation-devel
||||||| 35cb6e7a
   "id": "f47a017d",
=======
   "id": "fb83b513",
>>>>>>> documentation-devel
||||||| 596bf878
<<<<<<< HEAD
   "id": "55e3ec94",
||||||| b944554d
   "id": "3efd0a75",
=======
   "id": "f47a017d",
>>>>>>> documentation-devel
=======
   "id": "5f7496af",
>>>>>>> f8a184fea58c53eb88debec89cb7180bf225886f
   "metadata": {},
   "outputs": [],
   "source": [
    "data(\"ditto_colors\")"
   ]
  },
  {
   "cell_type": "code",
   "execution_count": null,
<<<<<<< HEAD
<<<<<<< HEAD
<<<<<<< HEAD
   "id": "34f040ae",
||||||| b944554d
   "id": "9fb3d8b7",
=======
   "id": "02351cd9",
>>>>>>> documentation-devel
||||||| 35cb6e7a
   "id": "02351cd9",
=======
   "id": "6f215764",
>>>>>>> documentation-devel
||||||| 596bf878
<<<<<<< HEAD
   "id": "34f040ae",
||||||| b944554d
   "id": "9fb3d8b7",
=======
   "id": "02351cd9",
>>>>>>> documentation-devel
=======
   "id": "6314da97",
>>>>>>> f8a184fea58c53eb88debec89cb7180bf225886f
   "metadata": {},
   "outputs": [],
   "source": [
    "df_moran |> \n",
    "    pivot_longer(cols = -index, values_to = \"value\", names_to = \"name\") |> \n",
    "    ggplot(aes(index, value, color = name)) +\n",
    "    geom_line() +\n",
    "    scale_color_manual(values = ditto_colors) +\n",
    "    geom_hline(yintercept = 0, color = \"gray\") +\n",
    "    geom_hline(yintercept = mb, linetype = 2, color = \"gray\") +\n",
    "    scale_y_continuous(breaks = scales::breaks_pretty()) +\n",
    "    scale_x_continuous(breaks = scales::breaks_width(5)) +\n",
    "    labs(y = \"Moran's I\", color = \"Type\", x = \"Component\")"
   ]
  },
  {
   "cell_type": "markdown",
<<<<<<< HEAD
<<<<<<< HEAD
<<<<<<< HEAD
   "id": "2e7737c1",
||||||| b944554d
   "id": "6344cbc6",
=======
   "id": "de95894b",
>>>>>>> documentation-devel
||||||| 35cb6e7a
   "id": "de95894b",
=======
   "id": "bd416adf",
>>>>>>> documentation-devel
||||||| 596bf878
<<<<<<< HEAD
   "id": "2e7737c1",
||||||| b944554d
   "id": "6344cbc6",
=======
   "id": "de95894b",
>>>>>>> documentation-devel
=======
   "id": "faaec02b",
>>>>>>> f8a184fea58c53eb88debec89cb7180bf225886f
   "metadata": {},
   "source": [
    "In MULTISPATI, Moran's I is high in PC1 and PC2, but then sharply drops. Moran's I for the PC with the most negative eigenvalues is not very negative, which means the large magnitude of that eigenvalue comes from explaining more variance. However, considering the lower bound of Moran's I that is around -0.6 instead of -1, the magnitude of Moran's I for the PC with the most negative eigenvalue is not trivial."
   ]
  },
  {
   "cell_type": "code",
   "execution_count": null,
<<<<<<< HEAD
<<<<<<< HEAD
<<<<<<< HEAD
   "id": "b31019d0",
||||||| b944554d
   "id": "38ee56a2",
=======
   "id": "88a1b46d",
>>>>>>> documentation-devel
||||||| 35cb6e7a
   "id": "88a1b46d",
=======
   "id": "c22f3ad0",
>>>>>>> documentation-devel
||||||| 596bf878
<<<<<<< HEAD
   "id": "b31019d0",
||||||| b944554d
   "id": "38ee56a2",
=======
   "id": "88a1b46d",
>>>>>>> documentation-devel
=======
   "id": "68b93f89",
>>>>>>> f8a184fea58c53eb88debec89cb7180bf225886f
   "metadata": {},
   "outputs": [],
   "source": [
    "min(df_moran$MULTISPATI_neg) / mb[1]"
   ]
  },
  {
   "cell_type": "markdown",
<<<<<<< HEAD
<<<<<<< HEAD
<<<<<<< HEAD
   "id": "5b030bf6",
||||||| b944554d
   "id": "9fd4ff31",
=======
   "id": "5e00b477",
>>>>>>> documentation-devel
||||||| 35cb6e7a
   "id": "5e00b477",
=======
   "id": "bfa771cf",
>>>>>>> documentation-devel
||||||| 596bf878
<<<<<<< HEAD
   "id": "5b030bf6",
||||||| b944554d
   "id": "9fd4ff31",
=======
   "id": "5e00b477",
>>>>>>> documentation-devel
=======
   "id": "0213f056",
>>>>>>> f8a184fea58c53eb88debec89cb7180bf225886f
   "metadata": {},
   "source": [
    "Non-spatial PCs are not sorted by Moran's I; PC5 has surprising large Moran's I. "
   ]
  },
  {
   "cell_type": "code",
   "execution_count": null,
<<<<<<< HEAD
<<<<<<< HEAD
<<<<<<< HEAD
   "id": "2eaf73ac",
||||||| b944554d
   "id": "d330fdf7",
=======
   "id": "2eda47c4",
>>>>>>> documentation-devel
||||||| 35cb6e7a
   "id": "2eda47c4",
=======
   "id": "a44c298c",
>>>>>>> documentation-devel
||||||| 596bf878
<<<<<<< HEAD
   "id": "2eaf73ac",
||||||| b944554d
   "id": "d330fdf7",
=======
   "id": "2eda47c4",
>>>>>>> documentation-devel
=======
   "id": "d2ad1ec2",
>>>>>>> f8a184fea58c53eb88debec89cb7180bf225886f
   "metadata": {},
   "outputs": [],
   "source": [
    "spatialReducedDim(sfe, \"PCA\", component = 5, colGeometryName = \"cellSeg\", \n",
    "                  divergent = TRUE, diverge_center = 0, bbox = bbox_use)"
   ]
  },
  {
   "cell_type": "markdown",
<<<<<<< HEAD
<<<<<<< HEAD
<<<<<<< HEAD
   "id": "01eaec77",
||||||| b944554d
   "id": "7604281d",
=======
   "id": "25c02540",
>>>>>>> documentation-devel
||||||| 35cb6e7a
   "id": "25c02540",
=======
   "id": "9bed6e48",
>>>>>>> documentation-devel
||||||| 596bf878
<<<<<<< HEAD
   "id": "01eaec77",
||||||| b944554d
   "id": "7604281d",
=======
   "id": "25c02540",
>>>>>>> documentation-devel
=======
   "id": "fff0bde7",
>>>>>>> f8a184fea58c53eb88debec89cb7180bf225886f
   "metadata": {},
   "source": [
    "PC5 must be about zonation. Also show a larger scale:"
   ]
  },
  {
   "cell_type": "code",
   "execution_count": null,
<<<<<<< HEAD
<<<<<<< HEAD
<<<<<<< HEAD
   "id": "3495b3c4",
||||||| b944554d
   "id": "2814e6e7",
=======
   "id": "a2831aca",
>>>>>>> documentation-devel
||||||| 35cb6e7a
   "id": "a2831aca",
=======
   "id": "0308a793",
>>>>>>> documentation-devel
||||||| 596bf878
<<<<<<< HEAD
   "id": "3495b3c4",
||||||| b944554d
   "id": "2814e6e7",
=======
   "id": "a2831aca",
>>>>>>> documentation-devel
=======
   "id": "7f3000bd",
>>>>>>> f8a184fea58c53eb88debec89cb7180bf225886f
   "metadata": {},
   "outputs": [],
   "source": [
    "spatialReducedDim(sfe, \"PCA\", components = 5, colGeometryName = \"centroids\", \n",
    "                  divergent = TRUE, diverge_center = 0, scattermore = TRUE)"
   ]
  },
  {
   "cell_type": "markdown",
<<<<<<< HEAD
<<<<<<< HEAD
<<<<<<< HEAD
   "id": "c43c0396",
||||||| b944554d
   "id": "25692523",
=======
   "id": "7cf326b0",
>>>>>>> documentation-devel
||||||| 35cb6e7a
   "id": "7cf326b0",
=======
   "id": "3a12632b",
>>>>>>> documentation-devel
||||||| 596bf878
<<<<<<< HEAD
   "id": "c43c0396",
||||||| b944554d
   "id": "25692523",
=======
   "id": "7cf326b0",
>>>>>>> documentation-devel
=======
   "id": "1cb002a7",
>>>>>>> f8a184fea58c53eb88debec89cb7180bf225886f
   "metadata": {
    "lines_to_next_cell": 0
   },
   "source": [
    "## Moran scatter plot\n",
    "Local positive and negative spatial autocorrelation can average out in global Moran's I. From the zoomed in plots and gene loadings above, some PCs are about endothelial cells. The Moran scatter plot can help discovering more local heterogeneity."
   ]
  },
  {
   "cell_type": "code",
   "execution_count": null,
<<<<<<< HEAD
<<<<<<< HEAD
<<<<<<< HEAD
   "id": "2f411c5d",
||||||| b944554d
   "id": "7f3e58b8",
=======
   "id": "e09dea22",
>>>>>>> documentation-devel
||||||| 35cb6e7a
   "id": "e09dea22",
=======
   "id": "8d9b1faa",
>>>>>>> documentation-devel
||||||| 596bf878
<<<<<<< HEAD
   "id": "2f411c5d",
||||||| b944554d
   "id": "7f3e58b8",
=======
   "id": "e09dea22",
>>>>>>> documentation-devel
=======
   "id": "6741b0a7",
>>>>>>> f8a184fea58c53eb88debec89cb7180bf225886f
   "metadata": {},
   "outputs": [],
   "source": [
    "sfe <- reducedDimUnivariate(sfe, \"moran.plot\", dimred = \"PCA\", components = 1:6)"
   ]
  },
  {
   "cell_type": "code",
   "execution_count": null,
<<<<<<< HEAD
<<<<<<< HEAD
<<<<<<< HEAD
   "id": "1bc688f1",
||||||| b944554d
   "id": "5a917f26",
=======
   "id": "19d8a39c",
>>>>>>> documentation-devel
||||||| 35cb6e7a
   "id": "19d8a39c",
=======
   "id": "d3c1372c",
>>>>>>> documentation-devel
||||||| 596bf878
<<<<<<< HEAD
   "id": "1bc688f1",
||||||| b944554d
   "id": "5a917f26",
=======
   "id": "19d8a39c",
>>>>>>> documentation-devel
=======
   "id": "0961370f",
>>>>>>> f8a184fea58c53eb88debec89cb7180bf225886f
   "metadata": {},
   "outputs": [],
   "source": [
    "plts <- lapply(seq_len(6), function(i) {\n",
    "    moranPlot(sfe, paste0(\"PC\", i), binned = TRUE, hex = TRUE, plot_influential = FALSE)\n",
    "})"
   ]
  },
  {
   "cell_type": "code",
   "execution_count": null,
<<<<<<< HEAD
<<<<<<< HEAD
<<<<<<< HEAD
   "id": "a5521122",
||||||| b944554d
   "id": "1193ffaf",
=======
   "id": "5a26fca6",
>>>>>>> documentation-devel
||||||| 35cb6e7a
   "id": "5a26fca6",
=======
   "id": "f0aaf591",
>>>>>>> documentation-devel
||||||| 596bf878
<<<<<<< HEAD
   "id": "a5521122",
||||||| b944554d
   "id": "1193ffaf",
=======
   "id": "5a26fca6",
>>>>>>> documentation-devel
=======
   "id": "54f55512",
>>>>>>> f8a184fea58c53eb88debec89cb7180bf225886f
   "metadata": {
    "fig.height": 6,
    "fig.width": 10
   },
   "outputs": [],
   "source": [
    "wrap_plots(plts, widths = 1, heights = 1) +\n",
    "    plot_layout(ncol = 3) +\n",
    "    plot_annotation(tag_levels = \"1\", \n",
    "                    title = \"Moran scatter plot for non-spatial PCs\") &\n",
    "    theme(legend.position = \"none\")"
   ]
  },
  {
   "cell_type": "markdown",
<<<<<<< HEAD
<<<<<<< HEAD
<<<<<<< HEAD
   "id": "25b33642",
||||||| b944554d
   "id": "194b3506",
=======
   "id": "52ea23bc",
>>>>>>> documentation-devel
||||||| 35cb6e7a
   "id": "52ea23bc",
=======
   "id": "35fc65ea",
>>>>>>> documentation-devel
||||||| 596bf878
<<<<<<< HEAD
   "id": "25b33642",
||||||| b944554d
   "id": "194b3506",
=======
   "id": "52ea23bc",
>>>>>>> documentation-devel
=======
   "id": "6cd6802c",
>>>>>>> f8a184fea58c53eb88debec89cb7180bf225886f
   "metadata": {},
   "source": [
    "PCs 1-3 have some fainter clusters outside the main cluster, indicating heterogeneous spatial autocorrelation. Also make Moran scatter plots for MULTISPATI"
   ]
  },
  {
   "cell_type": "code",
   "execution_count": null,
<<<<<<< HEAD
<<<<<<< HEAD
<<<<<<< HEAD
   "id": "40ef45b5",
||||||| b944554d
   "id": "95c6bd49",
=======
   "id": "6b7e7881",
>>>>>>> documentation-devel
||||||| 35cb6e7a
   "id": "6b7e7881",
=======
   "id": "c3485680",
>>>>>>> documentation-devel
||||||| 596bf878
<<<<<<< HEAD
   "id": "40ef45b5",
||||||| b944554d
   "id": "95c6bd49",
=======
   "id": "6b7e7881",
>>>>>>> documentation-devel
=======
   "id": "5acca34d",
>>>>>>> f8a184fea58c53eb88debec89cb7180bf225886f
   "metadata": {},
   "outputs": [],
   "source": [
    "sfe <- reducedDimUnivariate(sfe, \"moran.plot\", dimred = \"multispati\", \n",
    "                            components = c(1:5, 40), \n",
    "                            # Not to overwrite non-spatial PCA moran plots\n",
    "                            name = \"moran.plot2\") "
   ]
  },
  {
   "cell_type": "code",
   "execution_count": null,
<<<<<<< HEAD
<<<<<<< HEAD
<<<<<<< HEAD
   "id": "ff56230d",
||||||| b944554d
   "id": "dd9bd97b",
=======
   "id": "24c73239",
>>>>>>> documentation-devel
||||||| 35cb6e7a
   "id": "24c73239",
=======
   "id": "f6274a42",
>>>>>>> documentation-devel
||||||| 596bf878
<<<<<<< HEAD
   "id": "ff56230d",
||||||| b944554d
   "id": "dd9bd97b",
=======
   "id": "24c73239",
>>>>>>> documentation-devel
=======
   "id": "c6be14ec",
>>>>>>> f8a184fea58c53eb88debec89cb7180bf225886f
   "metadata": {},
   "outputs": [],
   "source": [
    "plts2 <- lapply(c(1:5, 40), function(i) {\n",
    "    moranPlot(sfe, paste0(\"PC\", i), binned = TRUE, hex = TRUE, \n",
    "              plot_influential = FALSE, name = \"moran.plot2\")\n",
    "})"
   ]
  },
  {
   "cell_type": "code",
   "execution_count": null,
<<<<<<< HEAD
<<<<<<< HEAD
<<<<<<< HEAD
   "id": "105ab904",
||||||| b944554d
   "id": "6cf21b87",
=======
   "id": "a9ef9a03",
>>>>>>> documentation-devel
||||||| 35cb6e7a
   "id": "a9ef9a03",
=======
   "id": "683a5c97",
>>>>>>> documentation-devel
||||||| 596bf878
<<<<<<< HEAD
   "id": "105ab904",
||||||| b944554d
   "id": "6cf21b87",
=======
   "id": "a9ef9a03",
>>>>>>> documentation-devel
=======
   "id": "ff824451",
>>>>>>> f8a184fea58c53eb88debec89cb7180bf225886f
   "metadata": {
    "fig.height": 6,
    "fig.width": 10
   },
   "outputs": [],
   "source": [
    "wrap_plots(plts2, widths = 1, heights = 1) +\n",
    "    plot_layout(ncol = 3) +\n",
    "    plot_annotation(tag_levels = \"1\",\n",
    "                    title = \"Moran scatter plot for MULTISPATI PCs\") &\n",
    "    theme(legend.position = \"none\")"
   ]
  },
  {
   "cell_type": "markdown",
<<<<<<< HEAD
<<<<<<< HEAD
<<<<<<< HEAD
   "id": "e0664787",
||||||| b944554d
   "id": "604c23e5",
=======
   "id": "23f075de",
>>>>>>> documentation-devel
||||||| 35cb6e7a
   "id": "23f075de",
=======
   "id": "038e6fc7",
>>>>>>> documentation-devel
||||||| 596bf878
<<<<<<< HEAD
   "id": "e0664787",
||||||| b944554d
   "id": "604c23e5",
=======
   "id": "23f075de",
>>>>>>> documentation-devel
=======
   "id": "e694aeef",
>>>>>>> f8a184fea58c53eb88debec89cb7180bf225886f
   "metadata": {},
   "source": [
    "There are some interesting clusters.\n",
    "\n",
    "# Clustering with MULTISPATI PCA\n",
    "\n",
    "In the standard scRNA-seq data analysis workflow, a k nearest neighbor graph is found in the PCA space, which is then used for graph based clustering such as Louvain and Leiden, which is used to perform differential expression. Spatial dimension reductions can similarly be used to perform clustering, to identify spatial regions in the tissue, as done in [@Shang2022-qy; @Ren2022-qx; @Zhang2023-kf]. This type of studies often use a manual segmentation as ground truth to compare different methods that identify spatial regions. \n",
    "\n",
    "The problem with this is that spatial region methods are meant to help us to identify novel spatial regions based on new -omics data, which might reveal what's previously unknown from manual annotations. If the output from a method doesn't match manual annotations, it might simply be pointing out a previously unknown aspect of the tissue rather than wrong. Depending on the questions being asked, there can simultaneously be multiple spatial partitions. This happens in geographical space. For instance, there's land use and neighborhood boundaries, but equally valid are watershed boundaries and types of rock formation. Which one is relevant depends on the questions asked.\n",
    "\n",
    "Here we perform Leiden clustering with non-spatial and MULTISPATI PCA and compare the results. For the k nearest neighbor graph, I used the default k = 10."
   ]
  },
  {
   "cell_type": "code",
   "execution_count": null,
<<<<<<< HEAD
<<<<<<< HEAD
<<<<<<< HEAD
   "id": "7f270d6a",
||||||| b944554d
   "id": "4bec6098",
=======
   "id": "a2e848c1",
>>>>>>> documentation-devel
||||||| 35cb6e7a
   "id": "a2e848c1",
=======
   "id": "5fd6a0a5",
>>>>>>> documentation-devel
||||||| 596bf878
<<<<<<< HEAD
   "id": "7f270d6a",
||||||| b944554d
   "id": "4bec6098",
=======
   "id": "a2e848c1",
>>>>>>> documentation-devel
=======
   "id": "849627de",
>>>>>>> f8a184fea58c53eb88debec89cb7180bf225886f
   "metadata": {},
   "outputs": [],
   "source": [
    "system.time({\n",
    "    set.seed(29)\n",
    "    sfe$clusts_nonspatial <- clusterCells(sfe, use.dimred = \"PCA\", \n",
    "                                          BLUSPARAM = NNGraphParam(\n",
    "                                              cluster.fun = \"leiden\",\n",
    "                                              cluster.args = list(\n",
    "                                                  objective_function = \"modularity\",\n",
    "                                                  resolution_parameter = 1\n",
    "                                              )\n",
    "                                          ))\n",
    "})"
   ]
  },
  {
   "cell_type": "markdown",
<<<<<<< HEAD
<<<<<<< HEAD
<<<<<<< HEAD
   "id": "d58d96c0",
||||||| b944554d
   "id": "3b72fcfb",
=======
   "id": "5c03cb3e",
>>>>>>> documentation-devel
||||||| 35cb6e7a
   "id": "5c03cb3e",
=======
   "id": "75498888",
>>>>>>> documentation-devel
||||||| 596bf878
<<<<<<< HEAD
   "id": "d58d96c0",
||||||| b944554d
   "id": "3b72fcfb",
=======
   "id": "5c03cb3e",
>>>>>>> documentation-devel
=======
   "id": "b28e9977",
>>>>>>> f8a184fea58c53eb88debec89cb7180bf225886f
   "metadata": {
    "lines_to_next_cell": 0
   },
   "source": [
    "See if clustering with the positive MULTISPATI PCs give more spatially coherent clusters"
   ]
  },
  {
   "cell_type": "code",
   "execution_count": null,
<<<<<<< HEAD
<<<<<<< HEAD
<<<<<<< HEAD
   "id": "5f4b797c",
||||||| b944554d
   "id": "e73ebb27",
=======
   "id": "74b04f5b",
>>>>>>> documentation-devel
||||||| 35cb6e7a
   "id": "74b04f5b",
=======
   "id": "ee1e94bd",
>>>>>>> documentation-devel
||||||| 596bf878
<<<<<<< HEAD
   "id": "5f4b797c",
||||||| b944554d
   "id": "e73ebb27",
=======
   "id": "74b04f5b",
>>>>>>> documentation-devel
=======
   "id": "16ccd855",
>>>>>>> f8a184fea58c53eb88debec89cb7180bf225886f
   "metadata": {},
   "outputs": [],
   "source": [
    "system.time({\n",
    "    set.seed(29)\n",
    "    sfe$clusts_multispati <- clusterRows(reducedDim(sfe, \"multispati\")[,1:20], \n",
    "                                          BLUSPARAM = NNGraphParam(\n",
    "                                              cluster.fun = \"leiden\",\n",
    "                                              cluster.args = list(\n",
    "                                                  objective_function = \"modularity\",\n",
    "                                                  resolution_parameter = 1\n",
    "                                              )\n",
    "                                          ))\n",
    "})"
   ]
  },
  {
   "cell_type": "markdown",
<<<<<<< HEAD
<<<<<<< HEAD
<<<<<<< HEAD
   "id": "150663a2",
||||||| b944554d
   "id": "069a12ef",
=======
   "id": "ef14e810",
>>>>>>> documentation-devel
||||||| 35cb6e7a
   "id": "ef14e810",
=======
   "id": "1fa6969c",
>>>>>>> documentation-devel
||||||| 596bf878
<<<<<<< HEAD
   "id": "150663a2",
||||||| b944554d
   "id": "069a12ef",
=======
   "id": "ef14e810",
>>>>>>> documentation-devel
=======
   "id": "9876b05e",
>>>>>>> f8a184fea58c53eb88debec89cb7180bf225886f
   "metadata": {
    "lines_to_next_cell": 0
   },
   "source": [
    "Plot the clusters in space:"
   ]
  },
  {
   "cell_type": "code",
   "execution_count": null,
<<<<<<< HEAD
<<<<<<< HEAD
<<<<<<< HEAD
   "id": "63a4e269",
||||||| b944554d
   "id": "b3e36fcb",
=======
   "id": "55de13d7",
>>>>>>> documentation-devel
||||||| 35cb6e7a
   "id": "55de13d7",
=======
   "id": "2a312e57",
>>>>>>> documentation-devel
||||||| 596bf878
<<<<<<< HEAD
   "id": "63a4e269",
||||||| b944554d
   "id": "b3e36fcb",
=======
   "id": "55de13d7",
>>>>>>> documentation-devel
=======
   "id": "6358575a",
>>>>>>> f8a184fea58c53eb88debec89cb7180bf225886f
   "metadata": {
    "fig.height": 4,
    "fig.width": 11
   },
   "outputs": [],
   "source": [
    "plotSpatialFeature(sfe, c(\"clusts_nonspatial\", \"clusts_multispati\"), \n",
    "                   colGeometryName = \"centroids\",\n",
    "                   scattermore = TRUE) &\n",
    "     guides(colour = guide_legend(override.aes = list(size=2), ncol = 2))"
   ]
  },
  {
   "cell_type": "markdown",
<<<<<<< HEAD
<<<<<<< HEAD
<<<<<<< HEAD
   "id": "43c494cb",
||||||| b944554d
   "id": "2b130561",
=======
   "id": "82eee212",
>>>>>>> documentation-devel
||||||| 35cb6e7a
   "id": "82eee212",
=======
   "id": "0a16bc33",
>>>>>>> documentation-devel
||||||| 596bf878
<<<<<<< HEAD
   "id": "43c494cb",
||||||| b944554d
   "id": "2b130561",
=======
   "id": "82eee212",
>>>>>>> documentation-devel
=======
   "id": "620c518c",
>>>>>>> f8a184fea58c53eb88debec89cb7180bf225886f
   "metadata": {
    "lines_to_next_cell": 0
   },
   "source": [
    "The MULTISPATI clusters do look somewhat more spatially structured than clusters from non-spatial PCA. Also zoom into a small area:"
   ]
  },
  {
   "cell_type": "code",
   "execution_count": null,
<<<<<<< HEAD
<<<<<<< HEAD
<<<<<<< HEAD
   "id": "4e361fa5",
||||||| b944554d
   "id": "159d673d",
=======
   "id": "ddfed39e",
>>>>>>> documentation-devel
||||||| 35cb6e7a
   "id": "ddfed39e",
=======
   "id": "29d0e6c8",
>>>>>>> documentation-devel
||||||| 596bf878
<<<<<<< HEAD
   "id": "4e361fa5",
||||||| b944554d
   "id": "159d673d",
=======
   "id": "ddfed39e",
>>>>>>> documentation-devel
=======
   "id": "03db326b",
>>>>>>> f8a184fea58c53eb88debec89cb7180bf225886f
   "metadata": {
    "fig.height": 4,
    "fig.width": 11
   },
   "outputs": [],
   "source": [
    "plotSpatialFeature(sfe, c(\"clusts_nonspatial\", \"clusts_multispati\"), \n",
    "                   colGeometryName = \"cellSeg\",\n",
    "                   bbox = bbox_use) &\n",
    "     guides(fill = guide_legend(ncol = 2))"
   ]
  },
  {
   "cell_type": "markdown",
<<<<<<< HEAD
<<<<<<< HEAD
<<<<<<< HEAD
   "id": "b5a95838",
||||||| b944554d
   "id": "9600a434",
=======
   "id": "91ddb15d",
>>>>>>> documentation-devel
||||||| 35cb6e7a
   "id": "91ddb15d",
=======
   "id": "ba0e3acb",
>>>>>>> documentation-devel
||||||| 596bf878
<<<<<<< HEAD
   "id": "b5a95838",
||||||| b944554d
   "id": "9600a434",
=======
   "id": "91ddb15d",
>>>>>>> documentation-devel
=======
   "id": "1bd3f285",
>>>>>>> f8a184fea58c53eb88debec89cb7180bf225886f
   "metadata": {
    "lines_to_next_cell": 0
   },
   "source": [
    "What do these clusters mean? Clusters are supposed to be groups of different spots that are more similar within a group, sharing some characteristics. Non-spatial and MULTISPATI PCA use different characteristics for the clustering. Non-spatial PCA finds genes that are good for telling cell types apart, although those genes may happen to be very spatially structured. Non-spatial clustering aims to find these groups only from gene expression, and cells with similar gene expression can be surrounded by cells of other types in histological space. This is just like mapping Art Deco buildings, which are often near Spanish revival and Beaux Art buildings whose styles are quite different and perform different functions, thus not necessarily forming a coherent spatial region. \n",
    "\n",
    "In contrast, MULTISPATI's positive components find genes that must characterize spatial regions in addition to distinguishing between different cell types. Which genes are involved in each MULTISPATI component may be as interesting as the clusters. It would be interesting to perform gene set enrichment analysis, or to interpret this as some sort of spatial patterns of spatially variable genes. This is like mapping when the buildings were built, so Art Deco, Spanish revival, Beaux Art popular in the 1920s and 1930s will end up in the same cluster and form a more spatially coherent region, which can be found in DTLA Historical Core and Jewelry District, and Old Pasadena. Hence non-spatial clustering of spatial data isn't necessarily bad. Rather, it tells a different story and reveals different aspects of the data from spatial clustering. \n",
    "\n",
    "# Session Info"
   ]
  },
  {
   "cell_type": "code",
   "execution_count": null,
<<<<<<< HEAD
<<<<<<< HEAD
<<<<<<< HEAD
   "id": "e04ba5fb",
||||||| b944554d
   "id": "fe119b97",
=======
   "id": "a02de3fb",
>>>>>>> documentation-devel
||||||| 35cb6e7a
   "id": "a02de3fb",
=======
   "id": "36a5b4d3",
>>>>>>> documentation-devel
||||||| 596bf878
<<<<<<< HEAD
   "id": "e04ba5fb",
||||||| b944554d
   "id": "fe119b97",
=======
   "id": "a02de3fb",
>>>>>>> documentation-devel
=======
   "id": "40f1e384",
>>>>>>> f8a184fea58c53eb88debec89cb7180bf225886f
   "metadata": {},
   "outputs": [],
   "source": [
    "sessionInfo()"
   ]
  },
  {
   "cell_type": "markdown",
<<<<<<< HEAD
<<<<<<< HEAD
<<<<<<< HEAD
   "id": "35945ea9",
||||||| b944554d
   "id": "b040509b",
=======
   "id": "596cdb77",
>>>>>>> documentation-devel
||||||| 35cb6e7a
   "id": "596cdb77",
=======
   "id": "dae5cfef",
>>>>>>> documentation-devel
||||||| 596bf878
<<<<<<< HEAD
   "id": "35945ea9",
||||||| b944554d
   "id": "b040509b",
=======
   "id": "596cdb77",
>>>>>>> documentation-devel
=======
   "id": "54067974",
>>>>>>> f8a184fea58c53eb88debec89cb7180bf225886f
   "metadata": {},
   "source": [
    "# References"
   ]
  }
 ],
 "metadata": {
  "kernelspec": {
   "display_name": "R",
   "language": "R",
   "name": "ir"
  }
 },
 "nbformat": 4,
 "nbformat_minor": 5
}
