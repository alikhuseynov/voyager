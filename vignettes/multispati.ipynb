{
 "cells": [
  {
   "cell_type": "raw",
<<<<<<< HEAD
<<<<<<< HEAD
<<<<<<< HEAD
   "id": "683e37b7",
||||||| merged common ancestors
   "id": "5e46a2f8",
=======
   "id": "f50b771e",
>>>>>>> documentation-devel
||||||| f5a2d7c
   "id": "f50b771e",
=======
   "id": "671ae2f0",
>>>>>>> documentation-devel
||||||| de7e30d
   "id": "683e37b7",
=======
   "id": "f399392c",
>>>>>>> 03b044928c05aca10f627eea0665560c78e150c1
   "metadata": {},
   "source": [
    "---\n",
    "title: \"MULTISPATI PCA and negative spatial autocorrelation\"\n",
    "author: \"Lambda Moses\"\n",
    "date: \"`r Sys.Date()`\"\n",
    "output: \n",
    "  html_document:\n",
    "  toc: true\n",
    "  toc_float:\n",
    "    collapsed: false\n",
    "  toc_depth: 3\n",
    "bibliography: ref.bib\n",
    "vignette: >\n",
    "  %\\VignetteIndexEntry{multispati}\n",
    "  %\\VignetteEngine{knitr::rmarkdown}\n",
    "  %\\VignetteEncoding{UTF-8}\n",
    "---"
   ]
  },
  {
   "cell_type": "code",
   "execution_count": null,
<<<<<<< HEAD
<<<<<<< HEAD
<<<<<<< HEAD
   "id": "d89c8905",
||||||| merged common ancestors
   "id": "fab07f64",
=======
   "id": "96ecafe6",
>>>>>>> documentation-devel
||||||| f5a2d7c
   "id": "96ecafe6",
=======
   "id": "5f1fcdcc",
>>>>>>> documentation-devel
||||||| de7e30d
   "id": "d89c8905",
=======
   "id": "c07d9117",
>>>>>>> 03b044928c05aca10f627eea0665560c78e150c1
   "metadata": {
    "lines_to_next_cell": 2,
    "tags": [
     "remove_cell"
    ]
   },
   "outputs": [],
   "source": [
    "knitr::opts_chunk$set(\n",
    "  collapse = TRUE,\n",
    "  comment = \"#>\"\n",
    ")"
   ]
  },
  {
   "cell_type": "code",
   "execution_count": null,
<<<<<<< HEAD
<<<<<<< HEAD
<<<<<<< HEAD
   "id": "d06b420a",
||||||| merged common ancestors
   "id": "6bc69c41",
=======
   "id": "fffba793",
>>>>>>> documentation-devel
||||||| f5a2d7c
   "id": "fffba793",
=======
   "id": "db998bb3",
>>>>>>> documentation-devel
||||||| de7e30d
   "id": "d06b420a",
=======
   "id": "cfd6b1e5",
>>>>>>> 03b044928c05aca10f627eea0665560c78e150c1
   "metadata": {
    "eval": false,
    "tags": [
     "remove_cell"
    ]
   },
   "outputs": [],
   "source": [
    "# Install Google Colab dependencies\n",
    "# Note: this can take 30+ minutes (many of the dependencies include C++ code, which needs to be compiled)\n",
    "\n",
    "# First install `sf`, `ragg` and `textshaping` and their system dependencies:\n",
    "system(\"apt-get -y update && apt-get install -y  libudunits2-dev libgdal-dev libgeos-dev libproj-dev libharfbuzz-dev libfribidi-dev\")\n",
    "install.packages(\"sf\")\n",
    "install.packages(\"textshaping\")\n",
    "install.packages(\"ragg\")\n",
    "\n",
    "# Install system dependencies of some other R packages that Voyager either imports or suggests:\n",
    "system(\"apt-get install -y libfribidi-dev libcairo2-dev libmagick++-dev\")\n",
    "\n",
    "# Install Voyager from Bioconductor:\n",
    "install.packages(\"BiocManager\")\n",
    "BiocManager::install(version = \"3.17\", ask = FALSE, update = FALSE, Ncpus = 2)\n",
    "BiocManager::install(\"scater\")\n",
    "system.time(\n",
    "  BiocManager::install(\"Voyager\", dependencies = TRUE, Ncpus = 2, update = FALSE)\n",
    ")\n",
    "\n",
    "# Other packages used in this vignette\n",
    "packageVersion(\"Voyager\")"
   ]
  },
  {
   "cell_type": "markdown",
<<<<<<< HEAD
<<<<<<< HEAD
<<<<<<< HEAD
   "id": "dd4e9504",
||||||| merged common ancestors
   "id": "2462c749",
=======
   "id": "726b3680",
>>>>>>> documentation-devel
||||||| f5a2d7c
   "id": "726b3680",
=======
   "id": "9f365635",
>>>>>>> documentation-devel
||||||| de7e30d
   "id": "dd4e9504",
=======
   "id": "1585f0b2",
>>>>>>> 03b044928c05aca10f627eea0665560c78e150c1
   "metadata": {},
   "source": [
    "# Introduction\n",
    "Due to the large number of genes quantified in single cell and spatial transcriptomics, dimension reduction is part of the standard workflow to analyze such data, to visualize, to help interpreting the data, to distill relevant information and reduce noise, to facilitate downstream analyses such as clustering and pseudotime, to project different samples into a shared latent space for data integration, and so on.\n",
    "\n",
    "The first dimension reduction methods we learn about, such as good old principal component analysis (PCA), tSNE, and UMAP, don't use spatial information. With the rise of spatial transcriptomics, some dimension reduction methods that take spatial dependence into account have been written. Some, such as `SpatialPCA` [@Shang2022-qy], `NSF` [@Townes2023-bi], and `MEFISTO` [@Velten2022-gv] use factor analysis or probabilistic PCA which is related to factor analysis, and model the factors as Gaussian processes, with a spatial kernel for the covariance matrix, so the factors have positive spatial autocorrelation and can be used for downstream clustering where the clusters can be more spatially coherent. Some use graph convolution networks on a spatial neighborhood graph to find spatially informed embeddings of the cells, such as `conST` [@Zong2022-tb] and `SpaceFlow` [@Ren2022-qx]. `SpaSRL` [@Zhang2023-kf] finds a low dimension projection of spatial neighborhood augmented data. \n",
    "\n",
    "Spatially informed dimension reduction is actually not new, and dates back to at least 1985, with Wartenberg's crossover of Moran's I and PCA [@Wartenberg1985-fk], which was generalized and further developed as MULTISPATI PCA [@Dray2008-en], implemented in the [`adespatial`](https://cran.r-project.org/web/packages/adespatial/index.html) package on CRAN. In short, while PCA tries to maximize the variance explained by each PC, MULTISPATI maximizes the product of Moran's I and variance explained. Also, while all the eigenvalues from PCA are non-negative, because the covariance matrix is positive semidefinite, MULTISPATI can give negative eigenvalues, which represent negative spatial autocorrelation, which can be present and interesting but is not as common as positive spatial autocorrelation and is often masked by the latter [@Griffith2019-bo]. \n",
    "\n",
    "In single cell -omics conventions, let $X$ denote a gene count matrix whose columns are cells or Visium spots and whose rows are genes, with $n$ columns. Let $W$ denote the row normalized $n\\times n$ adjacency matrix of the spatial neighborhood graph of the cells or Visium spots, which does not have to be symmetric. MULTISPATI diagonalizes a symmetric matrix\n",
    "\n",
    "$$\n",
    "H = \\frac 1 {2n} X(W^t+W)X^t\n",
    "$$\n",
    "\n",
    "However, the implementation in `adespatial` is more general and can be used for other multivariate analyses in the [duality diagram](https://www.ncbi.nlm.nih.gov/pmc/articles/PMC3265363/) paradigm, such as correspondence analysis; the equation above is simplified just for PCA, without having to introduce the duality diagram here.\n",
    "\n",
    "Voyager 1.2.0 (Bioconductor 3.17) has a much faster implementation of MULTISPATI PCA based on [`RSpectra`](https://cran.r-project.org/web/packages/RSpectra/index.html). See benchmark [here](https://lambdamoses.github.io/thevoyages/posts/2023-03-25-multispati-part-2/).\n",
    "\n",
    "In this vignette, we perform MULTISPATI PCA on the MERFISH mouse liver dataset. See the first vignette using this dataset [here](https://pachterlab.github.io/voyager/articles/vig6_merfish.html).\n",
    "\n",
    "Here we load the packages used:"
   ]
  },
  {
   "cell_type": "code",
   "execution_count": null,
<<<<<<< HEAD
<<<<<<< HEAD
<<<<<<< HEAD
   "id": "ffe30676",
||||||| merged common ancestors
   "id": "96f5ceb3",
=======
   "id": "eb908e66",
>>>>>>> documentation-devel
||||||| f5a2d7c
   "id": "eb908e66",
=======
   "id": "fcba0cac",
>>>>>>> documentation-devel
||||||| de7e30d
   "id": "ffe30676",
=======
   "id": "d3a4f49c",
>>>>>>> 03b044928c05aca10f627eea0665560c78e150c1
   "metadata": {
    "message": false,
    "name": "setup"
   },
   "outputs": [],
   "source": [
    "library(Voyager)\n",
    "library(SFEData)\n",
    "library(SpatialFeatureExperiment)\n",
    "library(scater)\n",
    "library(scran)\n",
    "library(scuttle)\n",
    "library(ggplot2)\n",
    "library(stringr)\n",
    "library(tidyr)\n",
    "library(tibble)\n",
    "library(bluster)\n",
    "library(BiocSingular)\n",
    "library(BiocParallel)\n",
    "library(sf)\n",
    "library(patchwork)\n",
    "theme_set(theme_bw())"
   ]
  },
  {
   "cell_type": "code",
   "execution_count": null,
<<<<<<< HEAD
<<<<<<< HEAD
<<<<<<< HEAD
   "id": "d9426dcd",
||||||| merged common ancestors
   "id": "ac17c2df",
=======
   "id": "80ae0094",
>>>>>>> documentation-devel
||||||| f5a2d7c
   "id": "80ae0094",
=======
   "id": "b676900b",
>>>>>>> documentation-devel
||||||| de7e30d
   "id": "d9426dcd",
=======
   "id": "3edbbffa",
>>>>>>> 03b044928c05aca10f627eea0665560c78e150c1
   "metadata": {},
   "outputs": [],
   "source": [
    "(sfe <- VizgenLiverData())"
   ]
  },
  {
   "cell_type": "markdown",
<<<<<<< HEAD
<<<<<<< HEAD
<<<<<<< HEAD
   "id": "71df3f24",
||||||| merged common ancestors
   "id": "a9b4dd4e",
=======
   "id": "6aa53842",
>>>>>>> documentation-devel
||||||| f5a2d7c
   "id": "6aa53842",
=======
   "id": "41408b98",
>>>>>>> documentation-devel
||||||| de7e30d
   "id": "71df3f24",
=======
   "id": "8618fae7",
>>>>>>> 03b044928c05aca10f627eea0665560c78e150c1
   "metadata": {
    "lines_to_next_cell": 0
   },
   "source": [
    "MULTISPATI PCA is one of the multivariate methods introduced in `Voyager` 1.2.0. All multivariate methods in `Voyager` are listed here:"
   ]
  },
  {
   "cell_type": "code",
   "execution_count": null,
<<<<<<< HEAD
<<<<<<< HEAD
<<<<<<< HEAD
   "id": "c8192c95",
||||||| merged common ancestors
   "id": "67fd03c8",
=======
   "id": "9ff7b42c",
>>>>>>> documentation-devel
||||||| f5a2d7c
   "id": "9ff7b42c",
=======
   "id": "0e6685a2",
>>>>>>> documentation-devel
||||||| de7e30d
   "id": "c8192c95",
=======
   "id": "88b3af9a",
>>>>>>> 03b044928c05aca10f627eea0665560c78e150c1
   "metadata": {},
   "outputs": [],
   "source": [
    "listSFEMethods(variate = \"multi\")"
   ]
  },
  {
   "cell_type": "markdown",
<<<<<<< HEAD
<<<<<<< HEAD
<<<<<<< HEAD
   "id": "799c44d8",
||||||| merged common ancestors
   "id": "dc5f443d",
=======
   "id": "b5906c71",
>>>>>>> documentation-devel
||||||| f5a2d7c
   "id": "b5906c71",
=======
   "id": "cee9c619",
>>>>>>> documentation-devel
||||||| de7e30d
   "id": "799c44d8",
=======
   "id": "1d8cb285",
>>>>>>> 03b044928c05aca10f627eea0665560c78e150c1
   "metadata": {
    "lines_to_next_cell": 0
   },
   "source": [
    "When calling `calculate*variate()` or `run*variate()`, the `type` (2nd) argument takes either an `SFEMethod` object or a string that matches an entry in the `name` column in the data frame returned by `listSFEMethods()`.\n",
    "\n",
    "# Quality control\n",
    "QC was already performed in the [first vignette](https://pachterlab.github.io/voyager/articles/vig6_merfish.html). We do the same QC here, but see the first vignette for more details."
   ]
  },
  {
   "cell_type": "code",
   "execution_count": null,
<<<<<<< HEAD
<<<<<<< HEAD
<<<<<<< HEAD
   "id": "6bf95fb3",
||||||| merged common ancestors
   "id": "c033081c",
=======
   "id": "b182ca32",
>>>>>>> documentation-devel
||||||| f5a2d7c
   "id": "b182ca32",
=======
   "id": "9ca2b035",
>>>>>>> documentation-devel
||||||| de7e30d
   "id": "6bf95fb3",
=======
   "id": "2c07fa6c",
>>>>>>> 03b044928c05aca10f627eea0665560c78e150c1
   "metadata": {},
   "outputs": [],
   "source": [
    "is_blank <- str_detect(rownames(sfe), \"^Blank-\")\n",
    "sfe <- addPerCellQCMetrics(sfe, subset = list(blank = is_blank))"
   ]
  },
  {
   "cell_type": "code",
   "execution_count": null,
<<<<<<< HEAD
<<<<<<< HEAD
<<<<<<< HEAD
   "id": "fef9cd99",
||||||| merged common ancestors
   "id": "ad47fe81",
=======
   "id": "6a83d2d2",
>>>>>>> documentation-devel
||||||| f5a2d7c
   "id": "6a83d2d2",
=======
   "id": "5c7f968d",
>>>>>>> documentation-devel
||||||| de7e30d
   "id": "fef9cd99",
=======
   "id": "9f206224",
>>>>>>> 03b044928c05aca10f627eea0665560c78e150c1
   "metadata": {},
   "outputs": [],
   "source": [
    "get_neg_ctrl_outliers <- function(col, sfe, nmads = 3, log = FALSE) {\n",
    "    inds <- colData(sfe)$nCounts > 0 & colData(sfe)[[col]] > 0\n",
    "    df <- colData(sfe)[inds,]\n",
    "    outlier_inds <- isOutlier(df[[col]], type = \"higher\", nmads = nmads, log = log)\n",
    "    outliers <- rownames(df)[outlier_inds]\n",
    "    col2 <- str_remove(col, \"^subsets_\")\n",
    "    col2 <- str_remove(col2, \"_percent$\")\n",
    "    new_colname <- paste(\"is\", col2, \"outlier\", sep = \"_\")\n",
    "    colData(sfe)[[new_colname]] <- colnames(sfe) %in% outliers\n",
    "    sfe\n",
    "}"
   ]
  },
  {
   "cell_type": "code",
   "execution_count": null,
<<<<<<< HEAD
<<<<<<< HEAD
<<<<<<< HEAD
   "id": "7d29a507",
||||||| merged common ancestors
   "id": "3a5db793",
=======
   "id": "7969e9db",
>>>>>>> documentation-devel
||||||| f5a2d7c
   "id": "7969e9db",
=======
   "id": "638a1481",
>>>>>>> documentation-devel
||||||| de7e30d
   "id": "7d29a507",
=======
   "id": "69371704",
>>>>>>> 03b044928c05aca10f627eea0665560c78e150c1
   "metadata": {},
   "outputs": [],
   "source": [
    "sfe <- get_neg_ctrl_outliers(\"subsets_blank_percent\", sfe, log = TRUE)"
   ]
  },
  {
   "cell_type": "markdown",
<<<<<<< HEAD
<<<<<<< HEAD
<<<<<<< HEAD
   "id": "87b232a3",
||||||| merged common ancestors
   "id": "84ec53d9",
=======
   "id": "29ef2fbb",
>>>>>>> documentation-devel
||||||| f5a2d7c
   "id": "29ef2fbb",
=======
   "id": "ea4b3448",
>>>>>>> documentation-devel
||||||| de7e30d
   "id": "87b232a3",
=======
   "id": "ebc22df3",
>>>>>>> 03b044928c05aca10f627eea0665560c78e150c1
   "metadata": {
    "lines_to_next_cell": 0
   },
   "source": [
    "Remove the outliers and empty cells:"
   ]
  },
  {
   "cell_type": "code",
   "execution_count": null,
<<<<<<< HEAD
<<<<<<< HEAD
<<<<<<< HEAD
   "id": "1fd0ab27",
||||||| merged common ancestors
   "id": "7e5c8960",
=======
   "id": "bda38850",
>>>>>>> documentation-devel
||||||| f5a2d7c
   "id": "bda38850",
=======
   "id": "dae4c6b5",
>>>>>>> documentation-devel
||||||| de7e30d
   "id": "1fd0ab27",
=======
   "id": "a78c1860",
>>>>>>> 03b044928c05aca10f627eea0665560c78e150c1
   "metadata": {},
   "outputs": [],
   "source": [
    "inds <- !sfe$is_blank_outlier & sfe$nCounts > 0\n",
    "(sfe <- sfe[, inds])"
   ]
  },
  {
   "cell_type": "markdown",
<<<<<<< HEAD
<<<<<<< HEAD
<<<<<<< HEAD
   "id": "c9ffc01a",
||||||| merged common ancestors
   "id": "26cfd798",
=======
   "id": "a098698d",
>>>>>>> documentation-devel
||||||| f5a2d7c
   "id": "a098698d",
=======
   "id": "9ff3d95c",
>>>>>>> documentation-devel
||||||| de7e30d
   "id": "c9ffc01a",
=======
   "id": "4720e8e2",
>>>>>>> 03b044928c05aca10f627eea0665560c78e150c1
   "metadata": {},
   "source": [
    "There still are over 390,000 cells left after removing the outliers. \n",
    "\n",
    "Next we compute Moran's I for QC metrics, which requires a spatial neighborhood graph:"
   ]
  },
  {
   "cell_type": "code",
   "execution_count": null,
<<<<<<< HEAD
<<<<<<< HEAD
<<<<<<< HEAD
   "id": "9df21bd3",
||||||| merged common ancestors
   "id": "7cbcc105",
=======
   "id": "b6e8c16a",
>>>>>>> documentation-devel
||||||| f5a2d7c
   "id": "b6e8c16a",
=======
   "id": "69328175",
>>>>>>> documentation-devel
||||||| de7e30d
   "id": "9df21bd3",
=======
   "id": "f0be02c0",
>>>>>>> 03b044928c05aca10f627eea0665560c78e150c1
   "metadata": {},
   "outputs": [],
   "source": [
    "system.time(\n",
    "    colGraph(sfe, \"knn5\") <- findSpatialNeighbors(sfe, method = \"knearneigh\", \n",
    "                                                  dist_type = \"idw\", k = 5, \n",
    "                                                  style = \"W\")\n",
    ")"
   ]
  },
  {
   "cell_type": "code",
   "execution_count": null,
<<<<<<< HEAD
<<<<<<< HEAD
<<<<<<< HEAD
   "id": "61344aa3",
||||||| merged common ancestors
   "id": "a2b2c8ab",
=======
   "id": "1501d27a",
>>>>>>> documentation-devel
||||||| f5a2d7c
   "id": "1501d27a",
=======
   "id": "8bbc06b8",
>>>>>>> documentation-devel
||||||| de7e30d
   "id": "61344aa3",
=======
   "id": "c06bd301",
>>>>>>> 03b044928c05aca10f627eea0665560c78e150c1
   "metadata": {},
   "outputs": [],
   "source": [
    "features_use <- c(\"nCounts\", \"nGenes\", \"volume\")\n",
    "sfe <- colDataUnivariate(sfe, \"moran.mc\", features_use, \n",
    "                         colGraphName = \"knn5\", nsim = 49, \n",
    "                         BPPARAM = MulticoreParam(2))"
   ]
  },
  {
   "cell_type": "code",
   "execution_count": null,
<<<<<<< HEAD
<<<<<<< HEAD
<<<<<<< HEAD
   "id": "23d0e451",
||||||| merged common ancestors
   "id": "6710f7dd",
=======
   "id": "b5106c95",
>>>>>>> documentation-devel
||||||| f5a2d7c
   "id": "b5106c95",
=======
   "id": "ba953070",
>>>>>>> documentation-devel
||||||| de7e30d
   "id": "23d0e451",
=======
   "id": "918fb8ff",
>>>>>>> 03b044928c05aca10f627eea0665560c78e150c1
   "metadata": {},
   "outputs": [],
   "source": [
    "plotMoranMC(sfe, features_use)"
   ]
  },
  {
   "cell_type": "markdown",
<<<<<<< HEAD
<<<<<<< HEAD
<<<<<<< HEAD
   "id": "64ef8fe9",
||||||| merged common ancestors
   "id": "043b1c43",
=======
   "id": "759deeba",
>>>>>>> documentation-devel
||||||| f5a2d7c
   "id": "759deeba",
=======
   "id": "33ef4215",
>>>>>>> documentation-devel
||||||| de7e30d
   "id": "64ef8fe9",
=======
   "id": "87d10972",
>>>>>>> 03b044928c05aca10f627eea0665560c78e150c1
   "metadata": {},
   "source": [
    "Here Moran's I is a little negative, but from the permutation testing, it is significant, though that can also be the large number of cells. The lower bound of Moran's I given the spatial neighborhood graph is usually closer to -0.5 than -1, while the upper bound is usually around 1. The bounds given a specific spatial neighborhood graph can be found with `moranBounds()`, but because it double centers the adjacency matrix, hence making it dense, there isn't enough memory to use it for the entire dataset. But we can look at the Moran bounds of a small subset of data, which might be generalizable to the whole dataset given that this tissue appears quite homogeneous in space."
   ]
  },
  {
   "cell_type": "code",
   "execution_count": null,
<<<<<<< HEAD
<<<<<<< HEAD
<<<<<<< HEAD
   "id": "d6cc0a2d",
||||||| merged common ancestors
   "id": "35444f1e",
=======
   "id": "ac4f28cc",
>>>>>>> documentation-devel
||||||| f5a2d7c
   "id": "ac4f28cc",
=======
   "id": "9054b524",
>>>>>>> documentation-devel
||||||| de7e30d
   "id": "d6cc0a2d",
=======
   "id": "bd99bcdc",
>>>>>>> 03b044928c05aca10f627eea0665560c78e150c1
   "metadata": {},
   "outputs": [],
   "source": [
    "bbox_use <- c(xmin = 6000, xmax = 7000, ymin = 4000, ymax = 5000)\n",
    "inds2 <- st_intersects(cellSeg(sfe), st_as_sfc(st_bbox(bbox_use)), \n",
    "                       sparse = FALSE)[,1]\n",
    "sfe_sub <- sfe[, inds2]"
   ]
  },
  {
   "cell_type": "code",
   "execution_count": null,
<<<<<<< HEAD
<<<<<<< HEAD
<<<<<<< HEAD
   "id": "69f61956",
||||||| merged common ancestors
   "id": "80e873ea",
=======
   "id": "54a58c96",
>>>>>>> documentation-devel
||||||| f5a2d7c
   "id": "54a58c96",
=======
   "id": "6234f766",
>>>>>>> documentation-devel
||||||| de7e30d
   "id": "69f61956",
=======
   "id": "728c9e6c",
>>>>>>> 03b044928c05aca10f627eea0665560c78e150c1
   "metadata": {},
   "outputs": [],
   "source": [
    "(mb <- moranBounds(colGraph(sfe_sub, \"knn5\")))"
   ]
  },
  {
   "cell_type": "markdown",
<<<<<<< HEAD
<<<<<<< HEAD
<<<<<<< HEAD
   "id": "1fd1c0fa",
||||||| merged common ancestors
   "id": "23c3d813",
=======
   "id": "6f94b46b",
>>>>>>> documentation-devel
||||||| f5a2d7c
   "id": "6f94b46b",
=======
   "id": "0e4655d2",
>>>>>>> documentation-devel
||||||| de7e30d
   "id": "1fd1c0fa",
=======
   "id": "1fe8b49f",
>>>>>>> 03b044928c05aca10f627eea0665560c78e150c1
   "metadata": {
    "lines_to_next_cell": 0
   },
   "source": [
    "So considering the bounds, the MOran's I values of the QC metrics are more like"
   ]
  },
  {
   "cell_type": "code",
   "execution_count": null,
<<<<<<< HEAD
<<<<<<< HEAD
<<<<<<< HEAD
   "id": "132c2486",
||||||| merged common ancestors
   "id": "89d3cfbd",
=======
   "id": "44b20c54",
>>>>>>> documentation-devel
||||||| f5a2d7c
   "id": "44b20c54",
=======
   "id": "e00d44b4",
>>>>>>> documentation-devel
||||||| de7e30d
   "id": "132c2486",
=======
   "id": "411194aa",
>>>>>>> 03b044928c05aca10f627eea0665560c78e150c1
   "metadata": {},
   "outputs": [],
   "source": [
    "setNames(colFeatureData(sfe)[c(\"nCounts\", \"nGenes\", \"volume\"), \n",
    "                             \"moran.mc_statistic_sample01\"] / mb[\"Imin\"],\n",
    "         features_use)"
   ]
  },
  {
   "cell_type": "markdown",
<<<<<<< HEAD
<<<<<<< HEAD
<<<<<<< HEAD
   "id": "fceea8ea",
||||||| merged common ancestors
   "id": "f0c76d24",
=======
   "id": "4e7fc269",
>>>>>>> documentation-devel
||||||| f5a2d7c
   "id": "4e7fc269",
=======
   "id": "a51b1d53",
>>>>>>> documentation-devel
||||||| de7e30d
   "id": "fceea8ea",
=======
   "id": "ab342c3d",
>>>>>>> 03b044928c05aca10f627eea0665560c78e150c1
   "metadata": {},
   "source": [
    "whose magnitudes seem more substantial for `nCounts` and `nGenes` if it's positive spatial autocorrelation. So there may be mild to moderate negative spatial autocorrelation.\n",
    "\n",
    "# Non-spatial PCA\n",
    "First we run non-spatial PCA, to compare to MULTISPATI."
   ]
  },
  {
   "cell_type": "code",
   "execution_count": null,
<<<<<<< HEAD
<<<<<<< HEAD
<<<<<<< HEAD
   "id": "4b61db25",
||||||| merged common ancestors
   "id": "bc7be5db",
=======
   "id": "e828f88e",
>>>>>>> documentation-devel
||||||| f5a2d7c
   "id": "e828f88e",
=======
   "id": "083a1e77",
>>>>>>> documentation-devel
||||||| de7e30d
   "id": "4b61db25",
=======
   "id": "7b058ff4",
>>>>>>> 03b044928c05aca10f627eea0665560c78e150c1
   "metadata": {},
   "outputs": [],
   "source": [
    "sfe <- logNormCounts(sfe)"
   ]
  },
  {
   "cell_type": "code",
   "execution_count": null,
<<<<<<< HEAD
<<<<<<< HEAD
<<<<<<< HEAD
   "id": "b9e6130e",
||||||| merged common ancestors
   "id": "3342f8cb",
=======
   "id": "f3f6b559",
>>>>>>> documentation-devel
||||||| f5a2d7c
   "id": "f3f6b559",
=======
   "id": "99be3d06",
>>>>>>> documentation-devel
||||||| de7e30d
   "id": "b9e6130e",
=======
   "id": "130809d1",
>>>>>>> 03b044928c05aca10f627eea0665560c78e150c1
   "metadata": {},
   "outputs": [],
   "source": [
    "set.seed(29)\n",
    "system.time(\n",
    "    sfe <- runPCA(sfe, ncomponents = 20, subset_row = !is_blank,\n",
    "                  exprs_values = \"logcounts\",\n",
    "                  scale = TRUE, BSPARAM = IrlbaParam())\n",
    ")\n",
    "gc()"
   ]
  },
  {
   "cell_type": "markdown",
<<<<<<< HEAD
<<<<<<< HEAD
<<<<<<< HEAD
   "id": "c0008639",
||||||| merged common ancestors
   "id": "2a34ce99",
=======
   "id": "1ecb42dc",
>>>>>>> documentation-devel
||||||| f5a2d7c
   "id": "1ecb42dc",
=======
   "id": "96a77277",
>>>>>>> documentation-devel
||||||| de7e30d
   "id": "c0008639",
=======
   "id": "d5e898b9",
>>>>>>> 03b044928c05aca10f627eea0665560c78e150c1
   "metadata": {},
   "source": [
    "That's pretty quick for almost 400,000 cells, but there aren't that many genes here. Use the elbow plot to see variance explained by each PC:"
   ]
  },
  {
   "cell_type": "code",
   "execution_count": null,
<<<<<<< HEAD
<<<<<<< HEAD
<<<<<<< HEAD
   "id": "d1b9e4dc",
||||||| merged common ancestors
   "id": "57969668",
=======
   "id": "e7f5fc6b",
>>>>>>> documentation-devel
||||||| f5a2d7c
   "id": "e7f5fc6b",
=======
   "id": "921b7231",
>>>>>>> documentation-devel
||||||| de7e30d
   "id": "d1b9e4dc",
=======
   "id": "882fe4a8",
>>>>>>> 03b044928c05aca10f627eea0665560c78e150c1
   "metadata": {},
   "outputs": [],
   "source": [
    "ElbowPlot(sfe)"
   ]
  },
  {
   "cell_type": "markdown",
<<<<<<< HEAD
<<<<<<< HEAD
<<<<<<< HEAD
   "id": "b2c0cad6",
||||||| merged common ancestors
   "id": "66642a09",
=======
   "id": "8adf0ca4",
>>>>>>> documentation-devel
||||||| f5a2d7c
   "id": "8adf0ca4",
=======
   "id": "e0abf06c",
>>>>>>> documentation-devel
||||||| de7e30d
   "id": "b2c0cad6",
=======
   "id": "6bd1ba0e",
>>>>>>> 03b044928c05aca10f627eea0665560c78e150c1
   "metadata": {
    "lines_to_next_cell": 0
   },
   "source": [
    "Plot top gene loadings in each PC"
   ]
  },
  {
   "cell_type": "code",
   "execution_count": null,
<<<<<<< HEAD
<<<<<<< HEAD
<<<<<<< HEAD
   "id": "30b0acba",
||||||| merged common ancestors
   "id": "fe7f1b48",
=======
   "id": "cad188a5",
>>>>>>> documentation-devel
||||||| f5a2d7c
   "id": "cad188a5",
=======
   "id": "8ad90767",
>>>>>>> documentation-devel
||||||| de7e30d
   "id": "30b0acba",
=======
   "id": "c040b178",
>>>>>>> 03b044928c05aca10f627eea0665560c78e150c1
   "metadata": {},
   "outputs": [],
   "source": [
    "plotDimLoadings(sfe)"
   ]
  },
  {
   "cell_type": "markdown",
<<<<<<< HEAD
<<<<<<< HEAD
<<<<<<< HEAD
   "id": "118476d2",
||||||| merged common ancestors
   "id": "7a554e85",
=======
   "id": "9aafc109",
>>>>>>> documentation-devel
||||||| f5a2d7c
   "id": "9aafc109",
=======
   "id": "a7e56492",
>>>>>>> documentation-devel
||||||| de7e30d
   "id": "118476d2",
=======
   "id": "dc4ab099",
>>>>>>> 03b044928c05aca10f627eea0665560c78e150c1
   "metadata": {
    "lines_to_next_cell": 0
   },
   "source": [
    "Many of these genes seem to be related to the endothelium.\n",
    "\n",
    "Plot the first 4 PCs in space"
   ]
  },
  {
   "cell_type": "code",
   "execution_count": null,
<<<<<<< HEAD
<<<<<<< HEAD
<<<<<<< HEAD
   "id": "32ba3075",
||||||| merged common ancestors
   "id": "a1e215ae",
=======
   "id": "f3ae9b72",
>>>>>>> documentation-devel
||||||| f5a2d7c
   "id": "f3ae9b72",
=======
   "id": "1e16f93d",
>>>>>>> documentation-devel
||||||| de7e30d
   "id": "32ba3075",
=======
   "id": "35c553f9",
>>>>>>> 03b044928c05aca10f627eea0665560c78e150c1
   "metadata": {
    "fig.height": 7,
    "fig.width": 9
   },
   "outputs": [],
   "source": [
    "spatialReducedDim(sfe, \"PCA\", 4, colGeometryName = \"centroids\", scattermore = TRUE,\n",
    "                  divergent = TRUE, diverge_center = 0)"
   ]
  },
  {
   "cell_type": "markdown",
<<<<<<< HEAD
<<<<<<< HEAD
<<<<<<< HEAD
   "id": "fd3a9e23",
||||||| merged common ancestors
   "id": "4567bbdf",
=======
   "id": "ae6be409",
>>>>>>> documentation-devel
||||||| f5a2d7c
   "id": "ae6be409",
=======
   "id": "f2e7b707",
>>>>>>> documentation-devel
||||||| de7e30d
   "id": "fd3a9e23",
=======
   "id": "851f8eb8",
>>>>>>> 03b044928c05aca10f627eea0665560c78e150c1
   "metadata": {},
   "source": [
    "PC1 and PC4 highlight the major blood vessels, while PC2 and PC3 have less spatial structure. While in the CosMX and Xenium datasets on this website, the top PCs have clear spatial structures despite the absence of spatial information in non-spatial PCA because of clear spatial compartments for some cell types, which does not seem to be the case in this dataset except for the blood vessels. We have seen above that some genes have strong spatial structures. \n",
    "\n",
    "While PC2 and PC3 don't seem to have large scale spatial structure, they may have more local spatial structure not obvious from plotting the entire section, so we zoom into a bounding box:"
   ]
  },
  {
   "cell_type": "code",
   "execution_count": null,
<<<<<<< HEAD
<<<<<<< HEAD
<<<<<<< HEAD
   "id": "2aa698b3",
||||||| merged common ancestors
   "id": "ae005484",
=======
   "id": "93f208c1",
>>>>>>> documentation-devel
||||||| f5a2d7c
   "id": "93f208c1",
=======
   "id": "03d31f32",
>>>>>>> documentation-devel
||||||| de7e30d
   "id": "2aa698b3",
=======
   "id": "7796151e",
>>>>>>> 03b044928c05aca10f627eea0665560c78e150c1
   "metadata": {},
   "outputs": [],
   "source": [
    "bbox_use <- c(xmin = 3000, xmax = 3500, ymin = 2500, ymax = 3000)"
   ]
  },
  {
   "cell_type": "code",
   "execution_count": null,
<<<<<<< HEAD
<<<<<<< HEAD
<<<<<<< HEAD
   "id": "389fb954",
||||||| merged common ancestors
   "id": "80b02bd8",
=======
   "id": "cf5fd26a",
>>>>>>> documentation-devel
||||||| f5a2d7c
   "id": "cf5fd26a",
=======
   "id": "531ee90c",
>>>>>>> documentation-devel
||||||| de7e30d
   "id": "389fb954",
=======
   "id": "01821e7e",
>>>>>>> 03b044928c05aca10f627eea0665560c78e150c1
   "metadata": {
    "fig.height": 7,
    "fig.width": 9
   },
   "outputs": [],
   "source": [
    "spatialReducedDim(sfe, \"PCA\", ncomponents = 4, colGeometryName = \"cellSeg\",\n",
    "                  bbox = bbox_use, divergent = TRUE, diverge_center = 0)"
   ]
  },
  {
   "cell_type": "markdown",
<<<<<<< HEAD
<<<<<<< HEAD
<<<<<<< HEAD
   "id": "11b3e6ff",
||||||| merged common ancestors
   "id": "3d9f26d1",
=======
   "id": "540ee08b",
>>>>>>> documentation-devel
||||||| f5a2d7c
   "id": "540ee08b",
=======
   "id": "8c85f8e8",
>>>>>>> documentation-devel
||||||| de7e30d
   "id": "11b3e6ff",
=======
   "id": "7383c6a7",
>>>>>>> 03b044928c05aca10f627eea0665560c78e150c1
   "metadata": {},
   "source": [
    "There's some spatial structure at a smaller scale, perhaps some negative spatial autocorrelation.\n",
    "\n",
    "# MULTISPATI PCA"
   ]
  },
  {
   "cell_type": "code",
   "execution_count": null,
<<<<<<< HEAD
<<<<<<< HEAD
<<<<<<< HEAD
   "id": "602c5888",
||||||| merged common ancestors
   "id": "e6144d7a",
=======
   "id": "a1082174",
>>>>>>> documentation-devel
||||||| f5a2d7c
   "id": "a1082174",
=======
   "id": "22742375",
>>>>>>> documentation-devel
||||||| de7e30d
   "id": "602c5888",
=======
   "id": "2f60ac26",
>>>>>>> 03b044928c05aca10f627eea0665560c78e150c1
   "metadata": {},
   "outputs": [],
   "source": [
    "sfe <- runMultivariate(sfe, \"multispati\", colGraphName = \"knn5\", nfposi = 20,\n",
    "                       nfnega = 20)"
   ]
  },
  {
   "cell_type": "markdown",
<<<<<<< HEAD
<<<<<<< HEAD
<<<<<<< HEAD
   "id": "6b54145e",
||||||| merged common ancestors
   "id": "723daebc",
=======
   "id": "a644adbe",
>>>>>>> documentation-devel
||||||| f5a2d7c
   "id": "a644adbe",
=======
   "id": "7a5012b5",
>>>>>>> documentation-devel
||||||| de7e30d
   "id": "6b54145e",
=======
   "id": "8a5762dc",
>>>>>>> 03b044928c05aca10f627eea0665560c78e150c1
   "metadata": {
    "lines_to_next_cell": 0
   },
   "source": [
    "Then plot the most positive and most negative eigenvalues. Note that the eigenvalues here are not variance explained. Instead, they are the product of variance explained and Moran's I. So the most positive eigenvalues correspond to eigenvectors that simultaneously explain more variance and have large positive Moran's I. The most negative eigenvalues correspond to eigenvectors that simultaneously explain more variance and have large negative Moran's I."
   ]
  },
  {
   "cell_type": "code",
   "execution_count": null,
<<<<<<< HEAD
<<<<<<< HEAD
<<<<<<< HEAD
   "id": "af1ca32d",
||||||| merged common ancestors
   "id": "4f07a4b2",
=======
   "id": "5b63d386",
>>>>>>> documentation-devel
||||||| f5a2d7c
   "id": "5b63d386",
=======
   "id": "f0e02cd6",
>>>>>>> documentation-devel
||||||| de7e30d
   "id": "af1ca32d",
=======
   "id": "1890006c",
>>>>>>> 03b044928c05aca10f627eea0665560c78e150c1
   "metadata": {},
   "outputs": [],
   "source": [
    "ElbowPlot(sfe, nfnega = 20, reduction = \"multispati\")"
   ]
  },
  {
   "cell_type": "markdown",
<<<<<<< HEAD
<<<<<<< HEAD
<<<<<<< HEAD
   "id": "8a82502e",
||||||| merged common ancestors
   "id": "66005eb8",
=======
   "id": "59252cb6",
>>>>>>> documentation-devel
||||||| f5a2d7c
   "id": "59252cb6",
=======
   "id": "83c65a99",
>>>>>>> documentation-devel
||||||| de7e30d
   "id": "8a82502e",
=======
   "id": "2a89d926",
>>>>>>> 03b044928c05aca10f627eea0665560c78e150c1
   "metadata": {},
   "source": [
    "Here the positive eigenvalues drop sharply from PC1 to PC4, and there is only one very negative eigenvalue which might be interesting, which is unsurprising given the moderately negative Moran's I for `nCounts` and `nGenes`. However, from the [first MERFISH vignette](https://pachterlab.github.io/voyager/articles/vig6_merfish.html#morans-i), none of the genes have very negative Moran's I. Perhaps the negative eigenvalue comes from negative spatial autocorrelation in a gene program or \"eigengene\" and is not obvious from individual genes. This is the beauty of multivariate analysis.\n",
    "\n",
    "What do these components mean? Each component is a linear combination of genes to maximize the product of variance explained and Moran's I. The second component maximizes this product provided that it's orthogonal to the first component, and so on. As the loss in variance explained is usually not huge, these components can be considered axes along which _spatially coherent_ groups of spots are separated from each other as much as possible according to expression of the highly variable genes, so in theory, clustering with positive MULTISPATI components should give more spatially coherent clusters. Because of the spatial coherence, MULTISPATI might be more robust to outliers."
   ]
  },
  {
   "cell_type": "code",
   "execution_count": null,
<<<<<<< HEAD
<<<<<<< HEAD
<<<<<<< HEAD
   "id": "0687f958",
||||||| merged common ancestors
   "id": "53f19b0c",
=======
   "id": "073bba0f",
>>>>>>> documentation-devel
||||||| f5a2d7c
   "id": "073bba0f",
=======
   "id": "c448db56",
>>>>>>> documentation-devel
||||||| de7e30d
   "id": "0687f958",
=======
   "id": "735ee940",
>>>>>>> 03b044928c05aca10f627eea0665560c78e150c1
   "metadata": {},
   "outputs": [],
   "source": [
    "plotDimLoadings(sfe, dims = c(1:3, 40), reduction = \"multispati\")"
   ]
  },
  {
   "cell_type": "markdown",
<<<<<<< HEAD
<<<<<<< HEAD
<<<<<<< HEAD
   "id": "15d7b2d3",
||||||| merged common ancestors
   "id": "e4079046",
=======
   "id": "0b02f570",
>>>>>>> documentation-devel
||||||| f5a2d7c
   "id": "0b02f570",
=======
   "id": "015d7840",
>>>>>>> documentation-devel
||||||| de7e30d
   "id": "15d7b2d3",
=======
   "id": "47bcd91c",
>>>>>>> 03b044928c05aca10f627eea0665560c78e150c1
   "metadata": {
    "lines_to_next_cell": 0
   },
   "source": [
    "From gene loadings, PC40 seems to separate blood vessels from hepatocytes.\n",
    "\n",
    "Plot the first 4 MULTISPATI PCs"
   ]
  },
  {
   "cell_type": "code",
   "execution_count": null,
<<<<<<< HEAD
<<<<<<< HEAD
<<<<<<< HEAD
   "id": "69bcc52d",
||||||| merged common ancestors
   "id": "45c70baa",
=======
   "id": "52e916ab",
>>>>>>> documentation-devel
||||||| f5a2d7c
   "id": "52e916ab",
=======
   "id": "81dc53b2",
>>>>>>> documentation-devel
||||||| de7e30d
   "id": "69bcc52d",
=======
   "id": "63a1bfdb",
>>>>>>> 03b044928c05aca10f627eea0665560c78e150c1
   "metadata": {
    "fig.height": 7,
    "fig.width": 9,
    "lines_to_next_cell": 2
   },
   "outputs": [],
   "source": [
    "spatialReducedDim(sfe, \"multispati\", 4, colGeometryName = \"centroids\", scattermore = TRUE,\n",
    "                  divergent = TRUE, diverge_center = 0)"
   ]
  },
  {
   "cell_type": "markdown",
<<<<<<< HEAD
<<<<<<< HEAD
<<<<<<< HEAD
   "id": "1abec5c8",
||||||| merged common ancestors
   "id": "6b60bb91",
=======
   "id": "c5c64dfc",
>>>>>>> documentation-devel
||||||| f5a2d7c
   "id": "c5c64dfc",
=======
   "id": "ad30d120",
>>>>>>> documentation-devel
||||||| de7e30d
   "id": "1abec5c8",
=======
   "id": "cf655b2e",
>>>>>>> 03b044928c05aca10f627eea0665560c78e150c1
   "metadata": {},
   "source": [
    "The first two PCs pick up zoning. PC3 and PC4 seem to have smaller scale spatial structure, so we zoom in here:"
   ]
  },
  {
   "cell_type": "code",
   "execution_count": null,
<<<<<<< HEAD
<<<<<<< HEAD
<<<<<<< HEAD
   "id": "5c1e1e63",
||||||| merged common ancestors
   "id": "2b2a9a46",
=======
   "id": "347741b4",
>>>>>>> documentation-devel
||||||| f5a2d7c
   "id": "347741b4",
=======
   "id": "2bad45c8",
>>>>>>> documentation-devel
||||||| de7e30d
   "id": "5c1e1e63",
=======
   "id": "e3c172dc",
>>>>>>> 03b044928c05aca10f627eea0665560c78e150c1
   "metadata": {
    "fig.height": 7,
    "fig.width": 9
   },
   "outputs": [],
   "source": [
    "spatialReducedDim(sfe, \"multispati\", ncomponents = 4, colGeometryName = \"cellSeg\",\n",
    "                  bbox = bbox_use, divergent = TRUE, diverge_center = 0)"
   ]
  },
  {
   "cell_type": "markdown",
<<<<<<< HEAD
<<<<<<< HEAD
<<<<<<< HEAD
   "id": "45e224eb",
||||||| merged common ancestors
   "id": "c0a83c2e",
=======
   "id": "899621f6",
>>>>>>> documentation-devel
||||||| f5a2d7c
   "id": "899621f6",
=======
   "id": "65e0be34",
>>>>>>> documentation-devel
||||||| de7e30d
   "id": "45e224eb",
=======
   "id": "c925ae36",
>>>>>>> 03b044928c05aca10f627eea0665560c78e150c1
   "metadata": {
    "lines_to_next_cell": 0
   },
   "source": [
    "What about the negative eigenvalue?"
   ]
  },
  {
   "cell_type": "code",
   "execution_count": null,
<<<<<<< HEAD
<<<<<<< HEAD
<<<<<<< HEAD
   "id": "55d91a61",
||||||| merged common ancestors
   "id": "2defb067",
=======
   "id": "18a839cb",
>>>>>>> documentation-devel
||||||| f5a2d7c
   "id": "18a839cb",
=======
   "id": "022f9d82",
>>>>>>> documentation-devel
||||||| de7e30d
   "id": "55d91a61",
=======
   "id": "8d717ce7",
>>>>>>> 03b044928c05aca10f627eea0665560c78e150c1
   "metadata": {},
   "outputs": [],
   "source": [
    "spatialReducedDim(sfe, \"multispati\", 39:40, colGeometryName = \"cellSeg\", \n",
    "                  divergent = TRUE, diverge_center = 0, bbox = bbox_use)"
   ]
  },
  {
   "cell_type": "markdown",
<<<<<<< HEAD
<<<<<<< HEAD
<<<<<<< HEAD
   "id": "a118d216",
||||||| merged common ancestors
   "id": "1ce0f5aa",
=======
   "id": "691af82d",
>>>>>>> documentation-devel
||||||| f5a2d7c
   "id": "691af82d",
=======
   "id": "d9da7d89",
>>>>>>> documentation-devel
||||||| de7e30d
   "id": "a118d216",
=======
   "id": "ab556696",
>>>>>>> 03b044928c05aca10f627eea0665560c78e150c1
   "metadata": {},
   "source": [
    "# Spatial autocorrelation of principal components\n",
    "## Moran's I\n",
    "Here we compare Moran's I for cell embeddings in each non-spatial and MULTISPATI PC:"
   ]
  },
  {
   "cell_type": "code",
   "execution_count": null,
<<<<<<< HEAD
<<<<<<< HEAD
<<<<<<< HEAD
   "id": "f4b4bc02",
||||||| merged common ancestors
   "id": "cb05fb16",
=======
   "id": "5cd5d886",
>>>>>>> documentation-devel
||||||| f5a2d7c
   "id": "5cd5d886",
=======
   "id": "2675f52e",
>>>>>>> documentation-devel
||||||| de7e30d
   "id": "f4b4bc02",
=======
   "id": "28fa77fc",
>>>>>>> 03b044928c05aca10f627eea0665560c78e150c1
   "metadata": {},
   "outputs": [],
   "source": [
    "# non-spatial\n",
    "sfe <- reducedDimMoransI(sfe, dimred = \"PCA\", components = 1:20,\n",
    "                         BPPARAM = MulticoreParam(2))\n",
    "# spatial\n",
    "sfe <- reducedDimMoransI(sfe, dimred = \"multispati\", components = 1:40,\n",
    "                         BPPARAM = MulticoreParam(2))"
   ]
  },
  {
   "cell_type": "code",
   "execution_count": null,
<<<<<<< HEAD
<<<<<<< HEAD
<<<<<<< HEAD
   "id": "e9e66775",
||||||| merged common ancestors
   "id": "4c47389d",
=======
   "id": "da413353",
>>>>>>> documentation-devel
||||||| f5a2d7c
   "id": "da413353",
=======
   "id": "ec94d65d",
>>>>>>> documentation-devel
||||||| de7e30d
   "id": "e9e66775",
=======
   "id": "3f17493d",
>>>>>>> 03b044928c05aca10f627eea0665560c78e150c1
   "metadata": {},
   "outputs": [],
   "source": [
    "df_moran <- tibble(PCA = reducedDimFeatureData(sfe, \"PCA\")$moran_sample01[1:20],\n",
    "                   MULTISPATI_pos = \n",
    "                       reducedDimFeatureData(sfe, \"multispati\")$moran_sample01[1:20],\n",
    "                   MULTISPATI_neg = \n",
    "                       reducedDimFeatureData(sfe,\"multispati\")$moran_sample01[21:40] |> \n",
    "                       rev(),\n",
    "                   index = 1:20)"
   ]
  },
  {
   "cell_type": "code",
   "execution_count": null,
<<<<<<< HEAD
<<<<<<< HEAD
<<<<<<< HEAD
   "id": "56243e6f",
||||||| merged common ancestors
   "id": "0f6c76e8",
=======
   "id": "5e2e9d2a",
>>>>>>> documentation-devel
||||||| f5a2d7c
   "id": "5e2e9d2a",
=======
   "id": "9893bddb",
>>>>>>> documentation-devel
||||||| de7e30d
   "id": "56243e6f",
=======
   "id": "ac8fc2ec",
>>>>>>> 03b044928c05aca10f627eea0665560c78e150c1
   "metadata": {},
   "outputs": [],
   "source": [
    "data(\"ditto_colors\")"
   ]
  },
  {
   "cell_type": "code",
   "execution_count": null,
<<<<<<< HEAD
<<<<<<< HEAD
<<<<<<< HEAD
   "id": "ade05054",
||||||| merged common ancestors
   "id": "14e3eff3",
=======
   "id": "645e1567",
>>>>>>> documentation-devel
||||||| f5a2d7c
   "id": "645e1567",
=======
   "id": "480ff1c7",
>>>>>>> documentation-devel
||||||| de7e30d
   "id": "ade05054",
=======
   "id": "ce959bf4",
>>>>>>> 03b044928c05aca10f627eea0665560c78e150c1
   "metadata": {},
   "outputs": [],
   "source": [
    "df_moran |> \n",
    "    pivot_longer(cols = -index, values_to = \"value\", names_to = \"name\") |> \n",
    "    ggplot(aes(index, value, color = name)) +\n",
    "    geom_line() +\n",
    "    scale_color_manual(values = ditto_colors) +\n",
    "    geom_hline(yintercept = 0) +\n",
    "    geom_hline(yintercept = mb, linetype = 2) +\n",
    "    scale_y_continuous(breaks = scales::breaks_pretty()) +\n",
    "    scale_x_continuous(breaks = scales::breaks_width(5)) +\n",
    "    labs(y = \"Moran's I\", color = \"Type\", x = \"Component\")"
   ]
  },
  {
   "cell_type": "markdown",
<<<<<<< HEAD
<<<<<<< HEAD
<<<<<<< HEAD
   "id": "eecc7fcf",
||||||| merged common ancestors
   "id": "95d5b005",
=======
   "id": "42f31c35",
>>>>>>> documentation-devel
||||||| f5a2d7c
   "id": "42f31c35",
=======
   "id": "0d3283e6",
>>>>>>> documentation-devel
||||||| de7e30d
   "id": "eecc7fcf",
=======
   "id": "e7d21bd5",
>>>>>>> 03b044928c05aca10f627eea0665560c78e150c1
   "metadata": {},
   "source": [
    "In MULTISPATI, Moran's I is high in PC1 and PC2, but then sharply drops. Moran's I for the PC with the most negative eigenvalues is not very negative, which means the large magnitude of that eigenvalue comes from explaining more variance. Non-spatial PCs are not sorted by Moran's I; PC5 has surprising large Moran's I. "
   ]
  },
  {
   "cell_type": "code",
   "execution_count": null,
<<<<<<< HEAD
<<<<<<< HEAD
<<<<<<< HEAD
   "id": "500016fa",
||||||| merged common ancestors
   "id": "5f8170cf",
=======
   "id": "aaf648ec",
>>>>>>> documentation-devel
||||||| f5a2d7c
   "id": "aaf648ec",
=======
   "id": "9f609f61",
>>>>>>> documentation-devel
||||||| de7e30d
   "id": "500016fa",
=======
   "id": "661bb72e",
>>>>>>> 03b044928c05aca10f627eea0665560c78e150c1
   "metadata": {
    "fig.height": 4,
    "fig.width": 9
   },
   "outputs": [],
   "source": [
    "spatialReducedDim(sfe, \"PCA\", 5:6, colGeometryName = \"centroids\", scattermore = TRUE,\n",
    "                  divergent = TRUE, diverge_center = 0)"
   ]
  },
  {
   "cell_type": "markdown",
<<<<<<< HEAD
<<<<<<< HEAD
<<<<<<< HEAD
   "id": "00cb9d99",
||||||| merged common ancestors
   "id": "13fa8879",
=======
   "id": "6136320f",
>>>>>>> documentation-devel
||||||| f5a2d7c
   "id": "6136320f",
=======
   "id": "fe2c0c44",
>>>>>>> documentation-devel
||||||| de7e30d
   "id": "00cb9d99",
=======
   "id": "9f854344",
>>>>>>> 03b044928c05aca10f627eea0665560c78e150c1
   "metadata": {},
   "source": [
    "PC5 must be about zonation. Also show a smaller scale:"
   ]
  },
  {
   "cell_type": "code",
   "execution_count": null,
<<<<<<< HEAD
<<<<<<< HEAD
<<<<<<< HEAD
   "id": "18fd664d",
||||||| merged common ancestors
   "id": "af672d67",
=======
   "id": "7214c42d",
>>>>>>> documentation-devel
||||||| f5a2d7c
   "id": "7214c42d",
=======
   "id": "459cdc4c",
>>>>>>> documentation-devel
||||||| de7e30d
   "id": "18fd664d",
=======
   "id": "4030fa70",
>>>>>>> 03b044928c05aca10f627eea0665560c78e150c1
   "metadata": {
    "fig.height": 4,
    "fig.width": 9
   },
   "outputs": [],
   "source": [
    "spatialReducedDim(sfe, \"PCA\", 5:6, colGeometryName = \"cellSeg\", \n",
    "                  divergent = TRUE, diverge_center = 0, bbox = bbox_use)"
   ]
  },
  {
   "cell_type": "markdown",
<<<<<<< HEAD
<<<<<<< HEAD
<<<<<<< HEAD
   "id": "4d5c12f0",
||||||| merged common ancestors
   "id": "54343f43",
=======
   "id": "aadfb1ad",
>>>>>>> documentation-devel
||||||| f5a2d7c
   "id": "aadfb1ad",
=======
   "id": "113d2a4c",
>>>>>>> documentation-devel
||||||| de7e30d
   "id": "4d5c12f0",
=======
   "id": "1455ac49",
>>>>>>> 03b044928c05aca10f627eea0665560c78e150c1
   "metadata": {
    "lines_to_next_cell": 0
   },
   "source": [
    "## Moran scatter plot\n",
    "Local positive and negative spatial autocorrelation can average out in global Moran's I. From the zoomed in plots above, PCs 1, 3, 4, and 6 pick up something about the blood vessel. The Moran scatter plot can help discovering more local heterogeneity."
   ]
  },
  {
   "cell_type": "code",
   "execution_count": null,
<<<<<<< HEAD
<<<<<<< HEAD
<<<<<<< HEAD
   "id": "5ec3e649",
||||||| merged common ancestors
   "id": "3beaa30a",
=======
   "id": "4cd171df",
>>>>>>> documentation-devel
||||||| f5a2d7c
   "id": "4cd171df",
=======
   "id": "2a6cda49",
>>>>>>> documentation-devel
||||||| de7e30d
   "id": "5ec3e649",
=======
   "id": "e155a51a",
>>>>>>> 03b044928c05aca10f627eea0665560c78e150c1
   "metadata": {},
   "outputs": [],
   "source": [
    "sfe <- reducedDimUnivariate(sfe, \"moran.plot\", dimred = \"PCA\", components = 1:6)"
   ]
  },
  {
   "cell_type": "code",
   "execution_count": null,
<<<<<<< HEAD
<<<<<<< HEAD
<<<<<<< HEAD
   "id": "6fdc1da0",
||||||| merged common ancestors
   "id": "09770ef7",
=======
   "id": "0daccdfa",
>>>>>>> documentation-devel
||||||| f5a2d7c
   "id": "0daccdfa",
=======
   "id": "508d725e",
>>>>>>> documentation-devel
||||||| de7e30d
   "id": "6fdc1da0",
=======
   "id": "15e22790",
>>>>>>> 03b044928c05aca10f627eea0665560c78e150c1
   "metadata": {},
   "outputs": [],
   "source": [
    "plts <- lapply(seq_len(6), function(i) {\n",
    "    moranPlot(sfe, paste0(\"PC\", i), binned = TRUE, hex = TRUE, plot_influential = FALSE)\n",
    "})"
   ]
  },
  {
   "cell_type": "code",
   "execution_count": null,
<<<<<<< HEAD
<<<<<<< HEAD
<<<<<<< HEAD
   "id": "9dddc148",
||||||| merged common ancestors
   "id": "d2c3729c",
=======
   "id": "f616ff49",
>>>>>>> documentation-devel
||||||| f5a2d7c
   "id": "f616ff49",
=======
   "id": "6882d72c",
>>>>>>> documentation-devel
||||||| de7e30d
   "id": "9dddc148",
=======
   "id": "8a0ea5da",
>>>>>>> 03b044928c05aca10f627eea0665560c78e150c1
   "metadata": {
    "fig.height": 6,
    "fig.width": 10
   },
   "outputs": [],
   "source": [
    "wrap_plots(plts, widths = 1, heights = 1) +\n",
    "    plot_layout(ncol = 3) +\n",
    "    plot_annotation(tag_levels = \"1\", \n",
    "                    title = \"Moran scatter plot for non-spatial PCs\") &\n",
    "    theme(legend.position = \"none\")"
   ]
  },
  {
   "cell_type": "markdown",
<<<<<<< HEAD
<<<<<<< HEAD
<<<<<<< HEAD
   "id": "e444276a",
||||||| merged common ancestors
   "id": "02052c48",
=======
   "id": "5b86d3d6",
>>>>>>> documentation-devel
||||||| f5a2d7c
   "id": "5b86d3d6",
=======
   "id": "7507e8be",
>>>>>>> documentation-devel
||||||| de7e30d
   "id": "e444276a",
=======
   "id": "231b2e02",
>>>>>>> 03b044928c05aca10f627eea0665560c78e150c1
   "metadata": {},
   "source": [
    "PCs 1-3 have some fainter clusters outside the main cluster, indicating heterogeneous spatial autocorrelation. Also make Moran scatter plots for MULTISPATI"
   ]
  },
  {
   "cell_type": "code",
   "execution_count": null,
<<<<<<< HEAD
<<<<<<< HEAD
<<<<<<< HEAD
   "id": "0acd27f6",
||||||| merged common ancestors
   "id": "3e57b159",
=======
   "id": "880266d2",
>>>>>>> documentation-devel
||||||| f5a2d7c
   "id": "880266d2",
=======
   "id": "94aac875",
>>>>>>> documentation-devel
||||||| de7e30d
   "id": "0acd27f6",
=======
   "id": "c8371663",
>>>>>>> 03b044928c05aca10f627eea0665560c78e150c1
   "metadata": {},
   "outputs": [],
   "source": [
    "sfe <- reducedDimUnivariate(sfe, \"moran.plot\", dimred = \"multispati\", \n",
    "                            components = c(1:5, 40), \n",
    "                            # Not to overwrite non-spatial PCA moran plots\n",
    "                            name = \"moran.plot2\") "
   ]
  },
  {
   "cell_type": "code",
   "execution_count": null,
<<<<<<< HEAD
<<<<<<< HEAD
<<<<<<< HEAD
   "id": "6c8a2112",
||||||| merged common ancestors
   "id": "3a15acf9",
=======
   "id": "c67a3c42",
>>>>>>> documentation-devel
||||||| f5a2d7c
   "id": "c67a3c42",
=======
   "id": "4a88f43a",
>>>>>>> documentation-devel
||||||| de7e30d
   "id": "6c8a2112",
=======
   "id": "e2a7acab",
>>>>>>> 03b044928c05aca10f627eea0665560c78e150c1
   "metadata": {},
   "outputs": [],
   "source": [
    "plts2 <- lapply(c(1:5, 40), function(i) {\n",
    "    moranPlot(sfe, paste0(\"PC\", i), binned = TRUE, hex = TRUE, \n",
    "              plot_influential = FALSE, name = \"moran.plot2\")\n",
    "})"
   ]
  },
  {
   "cell_type": "code",
   "execution_count": null,
<<<<<<< HEAD
<<<<<<< HEAD
<<<<<<< HEAD
   "id": "15374259",
||||||| merged common ancestors
   "id": "ee4fd495",
=======
   "id": "59bf6350",
>>>>>>> documentation-devel
||||||| f5a2d7c
   "id": "59bf6350",
=======
   "id": "b380b9f1",
>>>>>>> documentation-devel
||||||| de7e30d
   "id": "15374259",
=======
   "id": "d61947bd",
>>>>>>> 03b044928c05aca10f627eea0665560c78e150c1
   "metadata": {
    "fig.height": 6,
    "fig.width": 10
   },
   "outputs": [],
   "source": [
    "wrap_plots(plts2, widths = 1, heights = 1) +\n",
    "    plot_layout(ncol = 3) +\n",
    "    plot_annotation(tag_levels = \"1\",\n",
    "                    title = \"Moran scatter plot for MULTISPATI PCs\") &\n",
    "    theme(legend.position = \"none\")"
   ]
  },
  {
   "cell_type": "markdown",
<<<<<<< HEAD
<<<<<<< HEAD
<<<<<<< HEAD
   "id": "72ecdaa2",
||||||| merged common ancestors
   "id": "66bbc0c5",
=======
   "id": "6935608f",
>>>>>>> documentation-devel
||||||| f5a2d7c
   "id": "6935608f",
=======
   "id": "5b7e3405",
>>>>>>> documentation-devel
||||||| de7e30d
   "id": "72ecdaa2",
=======
   "id": "2d734ca6",
>>>>>>> 03b044928c05aca10f627eea0665560c78e150c1
   "metadata": {},
   "source": [
    "There are some interesting clusters.\n",
    "\n",
    "# Clustering with MULTISPATI PCA\n",
    "\n",
    "In the standard scRNA-seq data analysis workflow, a k nearest neighbor graph is found in the PCA space, which is then used for graph based clustering such as Louvain and Leiden, which is used to perform differential expression. Spatial dimension reductions can similarly be used to perform clustering, to identify spatial regions in the tissue, as done in [@Shang2022-qy; @Ren2022-qx; @Zhang2023-kf]. This type of studies often use a manual segmentation as ground truth to compare different methods that identify spatial regions. \n",
    "\n",
    "The problem with this is that spatial region methods are meant to help us to identify novel spatial regions based on new -omics data, which might reveal what's previously unknown from manual annotations. If the output from a method doesn't match manual annotations, it might simply be pointing out a previously unknown aspect of the tissue rather than wrong. Depending on the questions being asked, there can simultaneously be multiple spatial partitions. This happens in geographical space. For instance, there's land use and neighborhood boundaries, but equally valid are watershed boundaries and types of rock formation. Which one is relevant depends on the questions asked.\n",
    "\n",
    "Here we perform Leiden clustering with non-spatial and MULTISPATI PCA and compare the results. For the k nearest neighbor graph, I used the default k = 10."
   ]
  },
  {
   "cell_type": "code",
   "execution_count": null,
<<<<<<< HEAD
<<<<<<< HEAD
<<<<<<< HEAD
   "id": "bb3efe2e",
||||||| merged common ancestors
   "id": "cb06871d",
=======
   "id": "b73a9b68",
>>>>>>> documentation-devel
||||||| f5a2d7c
   "id": "b73a9b68",
=======
   "id": "2a5da854",
>>>>>>> documentation-devel
||||||| de7e30d
   "id": "bb3efe2e",
=======
   "id": "29a19bb7",
>>>>>>> 03b044928c05aca10f627eea0665560c78e150c1
   "metadata": {},
   "outputs": [],
   "source": [
    "system.time({\n",
    "    set.seed(29)\n",
    "    sfe$clusts_nonspatial <- clusterCells(sfe, use.dimred = \"PCA\", \n",
    "                                          BLUSPARAM = NNGraphParam(\n",
    "                                              cluster.fun = \"leiden\",\n",
    "                                              cluster.args = list(\n",
    "                                                  objective_function = \"modularity\",\n",
    "                                                  resolution_parameter = 1\n",
    "                                              )\n",
    "                                          ))\n",
    "})"
   ]
  },
  {
   "cell_type": "markdown",
<<<<<<< HEAD
<<<<<<< HEAD
<<<<<<< HEAD
   "id": "33d250c3",
||||||| merged common ancestors
   "id": "3e47ed6e",
=======
   "id": "144e90b6",
>>>>>>> documentation-devel
||||||| f5a2d7c
   "id": "144e90b6",
=======
   "id": "b8667eec",
>>>>>>> documentation-devel
||||||| de7e30d
   "id": "33d250c3",
=======
   "id": "b4d0ed13",
>>>>>>> 03b044928c05aca10f627eea0665560c78e150c1
   "metadata": {
    "lines_to_next_cell": 0
   },
   "source": [
    "See if clustering with the positive MULTISPATI PCs give more spatially coherent clusters"
   ]
  },
  {
   "cell_type": "code",
   "execution_count": null,
<<<<<<< HEAD
<<<<<<< HEAD
<<<<<<< HEAD
   "id": "6baf8e95",
||||||| merged common ancestors
   "id": "88d0f727",
=======
   "id": "0fd78afc",
>>>>>>> documentation-devel
||||||| f5a2d7c
   "id": "0fd78afc",
=======
   "id": "977e1985",
>>>>>>> documentation-devel
||||||| de7e30d
   "id": "6baf8e95",
=======
   "id": "e8a8a10d",
>>>>>>> 03b044928c05aca10f627eea0665560c78e150c1
   "metadata": {},
   "outputs": [],
   "source": [
    "system.time({\n",
    "    set.seed(29)\n",
    "    sfe$clusts_multispati <- clusterRows(reducedDim(sfe, \"multispati\")[,1:20], \n",
    "                                          BLUSPARAM = NNGraphParam(\n",
    "                                              cluster.fun = \"leiden\",\n",
    "                                              cluster.args = list(\n",
    "                                                  objective_function = \"modularity\",\n",
    "                                                  resolution_parameter = 1\n",
    "                                              )\n",
    "                                          ))\n",
    "})"
   ]
  },
  {
   "cell_type": "markdown",
<<<<<<< HEAD
<<<<<<< HEAD
<<<<<<< HEAD
   "id": "4d5e61fe",
||||||| merged common ancestors
   "id": "b03654e8",
=======
   "id": "dd0575f3",
>>>>>>> documentation-devel
||||||| f5a2d7c
   "id": "dd0575f3",
=======
   "id": "36ebc461",
>>>>>>> documentation-devel
||||||| de7e30d
   "id": "4d5e61fe",
=======
   "id": "f7ad8740",
>>>>>>> 03b044928c05aca10f627eea0665560c78e150c1
   "metadata": {
    "lines_to_next_cell": 0
   },
   "source": [
    "Plot the clusters in space:"
   ]
  },
  {
   "cell_type": "code",
   "execution_count": null,
<<<<<<< HEAD
<<<<<<< HEAD
<<<<<<< HEAD
   "id": "e357827a",
||||||| merged common ancestors
   "id": "acb1cf7f",
=======
   "id": "acc9b6b5",
>>>>>>> documentation-devel
||||||| f5a2d7c
   "id": "acc9b6b5",
=======
   "id": "0d73eb48",
>>>>>>> documentation-devel
||||||| de7e30d
   "id": "e357827a",
=======
   "id": "c9b7e475",
>>>>>>> 03b044928c05aca10f627eea0665560c78e150c1
   "metadata": {
    "fig.height": 4,
    "fig.width": 11
   },
   "outputs": [],
   "source": [
    "plotSpatialFeature(sfe, c(\"clusts_nonspatial\", \"clusts_multispati\"), \n",
    "                   colGeometryName = \"centroids\",\n",
    "                   scattermore = TRUE) &\n",
    "     guides(colour = guide_legend(override.aes = list(size=2), ncol = 2))"
   ]
  },
  {
   "cell_type": "markdown",
<<<<<<< HEAD
<<<<<<< HEAD
<<<<<<< HEAD
   "id": "c19eab7b",
||||||| merged common ancestors
   "id": "914a33e7",
=======
   "id": "7294b276",
>>>>>>> documentation-devel
||||||| f5a2d7c
   "id": "7294b276",
=======
   "id": "66b6c0ea",
>>>>>>> documentation-devel
||||||| de7e30d
   "id": "c19eab7b",
=======
   "id": "3f5f1cdf",
>>>>>>> 03b044928c05aca10f627eea0665560c78e150c1
   "metadata": {
    "lines_to_next_cell": 0
   },
   "source": [
    "The MULTISPATI clusters do look somewhat more spatially structured than clusters from non-spatial PCA. Also zoom into a small area:"
   ]
  },
  {
   "cell_type": "code",
   "execution_count": null,
<<<<<<< HEAD
<<<<<<< HEAD
<<<<<<< HEAD
   "id": "3290f1b5",
||||||| merged common ancestors
   "id": "f17a8dc6",
=======
   "id": "a80fea6f",
>>>>>>> documentation-devel
||||||| f5a2d7c
   "id": "a80fea6f",
=======
   "id": "a22d029b",
>>>>>>> documentation-devel
||||||| de7e30d
   "id": "3290f1b5",
=======
   "id": "ffc86ace",
>>>>>>> 03b044928c05aca10f627eea0665560c78e150c1
   "metadata": {
    "fig.height": 4,
    "fig.width": 11
   },
   "outputs": [],
   "source": [
    "plotSpatialFeature(sfe, c(\"clusts_nonspatial\", \"clusts_multispati\"), \n",
    "                   colGeometryName = \"cellSeg\",\n",
    "                   bbox = bbox_use) &\n",
    "     guides(fill = guide_legend(ncol = 2))"
   ]
  },
  {
   "cell_type": "markdown",
<<<<<<< HEAD
<<<<<<< HEAD
<<<<<<< HEAD
   "id": "22f01177",
||||||| merged common ancestors
   "id": "a560cc76",
=======
   "id": "3770b5ba",
>>>>>>> documentation-devel
||||||| f5a2d7c
   "id": "3770b5ba",
=======
   "id": "96cc1e37",
>>>>>>> documentation-devel
||||||| de7e30d
   "id": "22f01177",
=======
   "id": "fa325935",
>>>>>>> 03b044928c05aca10f627eea0665560c78e150c1
   "metadata": {
    "lines_to_next_cell": 0
   },
   "source": [
    "What do these clusters mean? Clusters are supposed to be groups of different spots that are more similar within a group, sharing some characteristics. Non-spatial and MULTISPATI PCA use different characteristics for the clustering. Non-spatial PCA finds genes that are good for telling cell types apart, although those genes may happen to be very spatially structured. Non-spatial clustering aims to find these groups only from gene expression, and cells with similar gene expression can be surrounded by cells of other types in histological space. This is just like mapping Art Deco buildings, which are often near Spanish revival and Beaux Art buildings whose styles are quite different and perform different functions, thus not necessarily forming a coherent spatial region. \n",
    "\n",
    "In contrast, MULTISPATI's positive components find genes that must characterize spatial regions in addition to distinguishing between different cell types. Which genes are involved in each MULTISPATI component may be as interesting as the clusters. It would be interesting to perform gene set enrichment analysis, or to interpret this as some sort of spatial patterns of spatially variable genes. This is like mapping when the buildings were built, so Art Deco, Spanish revival, Beaux Art popular in the 1920s and 1930s will end up in the same cluster and form a more spatially coherent region, which can be found in DTLA Historical Core and Jewelry District, and Old Pasadena. Hence non-spatial clustering of spatial data isn't necessarily bad. Rather, it tells a different story and reveals different aspects of the data from spatial clustering. \n",
    "\n",
    "# Session Info"
   ]
  },
  {
   "cell_type": "code",
   "execution_count": null,
<<<<<<< HEAD
<<<<<<< HEAD
<<<<<<< HEAD
   "id": "b73060c3",
||||||| merged common ancestors
   "id": "59f60f6f",
=======
   "id": "2669e6c3",
>>>>>>> documentation-devel
||||||| f5a2d7c
   "id": "2669e6c3",
=======
   "id": "2fb6e46a",
>>>>>>> documentation-devel
||||||| de7e30d
   "id": "b73060c3",
=======
   "id": "8213807d",
>>>>>>> 03b044928c05aca10f627eea0665560c78e150c1
   "metadata": {},
   "outputs": [],
   "source": [
    "sessionInfo()"
   ]
  },
  {
   "cell_type": "markdown",
<<<<<<< HEAD
<<<<<<< HEAD
<<<<<<< HEAD
   "id": "5b75f9a9",
||||||| merged common ancestors
   "id": "be8ab754",
=======
   "id": "91a9d121",
>>>>>>> documentation-devel
||||||| f5a2d7c
   "id": "91a9d121",
=======
   "id": "b5f1b9cb",
>>>>>>> documentation-devel
||||||| de7e30d
   "id": "5b75f9a9",
=======
   "id": "77366134",
>>>>>>> 03b044928c05aca10f627eea0665560c78e150c1
   "metadata": {},
   "source": [
    "# References"
   ]
  }
 ],
 "metadata": {
  "kernelspec": {
   "display_name": "R",
   "language": "R",
   "name": "ir"
  }
 },
 "nbformat": 4,
 "nbformat_minor": 5
}
