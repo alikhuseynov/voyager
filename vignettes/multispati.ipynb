{
 "cells": [
  {
   "cell_type": "raw",
<<<<<<< HEAD
<<<<<<< HEAD
<<<<<<< HEAD
<<<<<<< HEAD
<<<<<<< HEAD
   "id": "f0b89ad5",
||||||| 11b9cb7
   "id": "9b7ddb43",
=======
   "id": "b9a3acb1",
>>>>>>> documentation-devel
||||||| 614e9b1
   "id": "b9a3acb1",
=======
   "id": "d4daec1b",
>>>>>>> documentation-devel
||||||| 856b4c0
<<<<<<< HEAD
   "id": "f0b89ad5",
||||||| 11b9cb7
   "id": "9b7ddb43",
=======
   "id": "b9a3acb1",
>>>>>>> documentation-devel
=======
   "id": "8090c0f7",
>>>>>>> 552590ea8fad969b67afdba27558a1e6cb21016e
||||||| 452c944
   "id": "d4daec1b",
=======
   "id": "c25e1a40",
>>>>>>> documentation-devel
||||||| 4da3324
<<<<<<< HEAD
<<<<<<< HEAD
<<<<<<< HEAD
   "id": "f0b89ad5",
||||||| 11b9cb7
   "id": "9b7ddb43",
=======
   "id": "b9a3acb1",
>>>>>>> documentation-devel
||||||| 614e9b1
   "id": "b9a3acb1",
=======
   "id": "d4daec1b",
>>>>>>> documentation-devel
||||||| 856b4c0
<<<<<<< HEAD
   "id": "f0b89ad5",
||||||| 11b9cb7
   "id": "9b7ddb43",
=======
   "id": "b9a3acb1",
>>>>>>> documentation-devel
=======
   "id": "8090c0f7",
>>>>>>> 552590ea8fad969b67afdba27558a1e6cb21016e
=======
   "id": "afefcba8",
>>>>>>> b6e07d13baac92b2c1c9b43f8e4113ffa87bf495
   "metadata": {},
   "source": [
    "---\n",
    "title: \"MULTISPATI PCA and negative spatial autocorrelation\"\n",
    "author: \"Lambda Moses\"\n",
    "date: \"`r Sys.Date()`\"\n",
    "output: \n",
    "  html_document:\n",
    "  toc: true\n",
    "  toc_float:\n",
    "    collapsed: false\n",
    "  toc_depth: 3\n",
    "bibliography: ref.bib\n",
    "vignette: >\n",
    "  %\\VignetteIndexEntry{multispati}\n",
    "  %\\VignetteEngine{knitr::rmarkdown}\n",
    "  %\\VignetteEncoding{UTF-8}\n",
    "---"
   ]
  },
  {
   "cell_type": "code",
   "execution_count": null,
<<<<<<< HEAD
<<<<<<< HEAD
<<<<<<< HEAD
<<<<<<< HEAD
<<<<<<< HEAD
   "id": "7e122563",
||||||| 11b9cb7
   "id": "7bbb739b",
=======
   "id": "a9cf7eaa",
>>>>>>> documentation-devel
||||||| 614e9b1
   "id": "a9cf7eaa",
=======
   "id": "edbd304a",
>>>>>>> documentation-devel
||||||| 856b4c0
<<<<<<< HEAD
   "id": "7e122563",
||||||| 11b9cb7
   "id": "7bbb739b",
=======
   "id": "a9cf7eaa",
>>>>>>> documentation-devel
=======
   "id": "c3e8badb",
>>>>>>> 552590ea8fad969b67afdba27558a1e6cb21016e
||||||| 452c944
   "id": "edbd304a",
=======
   "id": "7372703e",
>>>>>>> documentation-devel
||||||| 4da3324
<<<<<<< HEAD
<<<<<<< HEAD
<<<<<<< HEAD
   "id": "7e122563",
||||||| 11b9cb7
   "id": "7bbb739b",
=======
   "id": "a9cf7eaa",
>>>>>>> documentation-devel
||||||| 614e9b1
   "id": "a9cf7eaa",
=======
   "id": "edbd304a",
>>>>>>> documentation-devel
||||||| 856b4c0
<<<<<<< HEAD
   "id": "7e122563",
||||||| 11b9cb7
   "id": "7bbb739b",
=======
   "id": "a9cf7eaa",
>>>>>>> documentation-devel
=======
   "id": "c3e8badb",
>>>>>>> 552590ea8fad969b67afdba27558a1e6cb21016e
=======
   "id": "564759b3",
>>>>>>> b6e07d13baac92b2c1c9b43f8e4113ffa87bf495
   "metadata": {
    "lines_to_next_cell": 2,
    "tags": [
     "remove_cell"
    ]
   },
   "outputs": [],
   "source": [
    "knitr::opts_chunk$set(\n",
    "  collapse = TRUE,\n",
    "  comment = \"#>\"\n",
    ")"
   ]
  },
  {
   "cell_type": "code",
   "execution_count": null,
<<<<<<< HEAD
<<<<<<< HEAD
<<<<<<< HEAD
<<<<<<< HEAD
<<<<<<< HEAD
   "id": "6547049e",
||||||| 11b9cb7
   "id": "203661bc",
=======
   "id": "faf16656",
>>>>>>> documentation-devel
||||||| 614e9b1
   "id": "faf16656",
=======
   "id": "9ae1073d",
>>>>>>> documentation-devel
||||||| 856b4c0
<<<<<<< HEAD
   "id": "6547049e",
||||||| 11b9cb7
   "id": "203661bc",
=======
   "id": "faf16656",
>>>>>>> documentation-devel
=======
   "id": "912b3c59",
>>>>>>> 552590ea8fad969b67afdba27558a1e6cb21016e
||||||| 452c944
   "id": "9ae1073d",
=======
   "id": "4738cac9",
>>>>>>> documentation-devel
||||||| 4da3324
<<<<<<< HEAD
<<<<<<< HEAD
<<<<<<< HEAD
   "id": "6547049e",
||||||| 11b9cb7
   "id": "203661bc",
=======
   "id": "faf16656",
>>>>>>> documentation-devel
||||||| 614e9b1
   "id": "faf16656",
=======
   "id": "9ae1073d",
>>>>>>> documentation-devel
||||||| 856b4c0
<<<<<<< HEAD
   "id": "6547049e",
||||||| 11b9cb7
   "id": "203661bc",
=======
   "id": "faf16656",
>>>>>>> documentation-devel
=======
   "id": "912b3c59",
>>>>>>> 552590ea8fad969b67afdba27558a1e6cb21016e
=======
   "id": "1129c801",
>>>>>>> b6e07d13baac92b2c1c9b43f8e4113ffa87bf495
   "metadata": {
    "eval": false,
    "tags": [
     "remove_cell"
    ]
   },
   "outputs": [],
   "source": [
    "# Install Google Colab dependencies\n",
    "# Note: this can take 30+ minutes (many of the dependencies include C++ code, which needs to be compiled)\n",
    "\n",
    "# First install `sf`, `ragg` and `textshaping` and their system dependencies:\n",
    "system(\"apt-get -y update && apt-get install -y  libudunits2-dev libgdal-dev libgeos-dev libproj-dev libharfbuzz-dev libfribidi-dev\")\n",
    "install.packages(\"sf\")\n",
    "install.packages(\"textshaping\")\n",
    "install.packages(\"ragg\")\n",
    "\n",
    "# Install system dependencies of some other R packages that Voyager either imports or suggests:\n",
    "system(\"apt-get install -y libfribidi-dev libcairo2-dev libmagick++-dev\")\n",
    "\n",
    "# Install Voyager from Bioconductor:\n",
    "install.packages(\"BiocManager\")\n",
    "BiocManager::install(version = \"3.17\", ask = FALSE, update = FALSE, Ncpus = 2)\n",
    "BiocManager::install(\"scater\")\n",
    "system.time(\n",
    "  BiocManager::install(\"Voyager\", dependencies = TRUE, Ncpus = 2, update = FALSE)\n",
    ")\n",
    "\n",
    "# Other packages used in this vignette\n",
    "packageVersion(\"Voyager\")"
   ]
  },
  {
   "cell_type": "markdown",
<<<<<<< HEAD
<<<<<<< HEAD
<<<<<<< HEAD
<<<<<<< HEAD
<<<<<<< HEAD
   "id": "f1581143",
||||||| 11b9cb7
   "id": "24ca67c6",
=======
   "id": "4b30f559",
>>>>>>> documentation-devel
||||||| 614e9b1
   "id": "4b30f559",
=======
   "id": "5a21ce2e",
>>>>>>> documentation-devel
||||||| 856b4c0
<<<<<<< HEAD
   "id": "f1581143",
||||||| 11b9cb7
   "id": "24ca67c6",
=======
   "id": "4b30f559",
>>>>>>> documentation-devel
=======
   "id": "eb70a21c",
>>>>>>> 552590ea8fad969b67afdba27558a1e6cb21016e
||||||| 452c944
   "id": "5a21ce2e",
=======
   "id": "3f08faee",
>>>>>>> documentation-devel
||||||| 4da3324
<<<<<<< HEAD
<<<<<<< HEAD
<<<<<<< HEAD
   "id": "f1581143",
||||||| 11b9cb7
   "id": "24ca67c6",
=======
   "id": "4b30f559",
>>>>>>> documentation-devel
||||||| 614e9b1
   "id": "4b30f559",
=======
   "id": "5a21ce2e",
>>>>>>> documentation-devel
||||||| 856b4c0
<<<<<<< HEAD
   "id": "f1581143",
||||||| 11b9cb7
   "id": "24ca67c6",
=======
   "id": "4b30f559",
>>>>>>> documentation-devel
=======
   "id": "eb70a21c",
>>>>>>> 552590ea8fad969b67afdba27558a1e6cb21016e
=======
   "id": "16ca2ffc",
>>>>>>> b6e07d13baac92b2c1c9b43f8e4113ffa87bf495
   "metadata": {},
   "source": [
    "# Introduction\n",
    "Due to the large number of genes quantified in single cell and spatial transcriptomics, dimension reduction is part of the standard workflow to analyze such data, to visualize, to help interpreting the data, to distill relevant information and reduce noise, to facilitate downstream analyses such as clustering and pseudotime, to project different samples into a shared latent space for data integration, and so on.\n",
    "\n",
    "The first dimension reduction methods we learn about, such as good old principal component analysis (PCA), tSNE, and UMAP, don't use spatial information. With the rise of spatial transcriptomics, some dimension reduction methods that take spatial dependence into account have been written. Some, such as `SpatialPCA` [@Shang2022-qy], `NSF` [@Townes2023-bi], and `MEFISTO` [@Velten2022-gv] use factor analysis or probabilistic PCA which is related to factor analysis, and model the factors as Gaussian processes, with a spatial kernel for the covariance matrix, so the factors have positive spatial autocorrelation and can be used for downstream clustering where the clusters can be more spatially coherent. Some use graph convolution networks on a spatial neighborhood graph to find spatially informed embeddings of the cells, such as `conST` [@Zong2022-tb] and `SpaceFlow` [@Ren2022-qx]. `SpaSRL` [@Zhang2023-kf] finds a low dimension projection of spatial neighborhood augmented data. \n",
    "\n",
    "Spatially informed dimension reduction is actually not new, and dates back to at least 1985, with Wartenberg's crossover of Moran's I and PCA [@Wartenberg1985-fk], which was generalized and further developed as MULTISPATI PCA [@Dray2008-en], implemented in the [`adespatial`](https://cran.r-project.org/web/packages/adespatial/index.html) package on CRAN. In short, while PCA tries to maximize the variance explained by each PC, MULTISPATI maximizes the product of Moran's I and variance explained. Also, while all the eigenvalues from PCA are non-negative, because the covariance matrix is positive semidefinite, MULTISPATI can give negative eigenvalues, which represent negative spatial autocorrelation, which can be present and interesting but is not as common as positive spatial autocorrelation and is often masked by the latter [@Griffith2019-bo]. \n",
    "\n",
    "In single cell -omics conventions, let $X$ denote a gene count matrix whose columns are cells or Visium spots and whose rows are genes, with $n$ columns. Let $W$ denote the row normalized $n\\times n$ adjacency matrix of the spatial neighborhood graph of the cells or Visium spots, which does not have to be symmetric. MULTISPATI diagonalizes a symmetric matrix\n",
    "\n",
    "$$\n",
    "H = \\frac 1 {2n} X(W^t+W)X^t\n",
    "$$\n",
    "\n",
    "However, the implementation in `adespatial` is more general and can be used for other multivariate analyses in the [duality diagram](https://www.ncbi.nlm.nih.gov/pmc/articles/PMC3265363/) paradigm, such as correspondence analysis; the equation above is simplified just for PCA, without having to introduce the duality diagram here.\n",
    "\n",
    "Voyager 1.2.0 (Bioconductor 3.17) has a much faster implementation of MULTISPATI PCA based on [`RSpectra`](https://cran.r-project.org/web/packages/RSpectra/index.html). See benchmark [here](https://lambdamoses.github.io/thevoyages/posts/2023-03-25-multispati-part-2/).\n",
    "\n",
    "In this vignette, we perform MULTISPATI PCA on the MERFISH mouse liver dataset. See the first vignette using this dataset [here](https://pachterlab.github.io/voyager/articles/vig6_merfish.html).\n",
    "\n",
    "Here we load the packages used:"
   ]
  },
  {
   "cell_type": "code",
   "execution_count": null,
<<<<<<< HEAD
<<<<<<< HEAD
<<<<<<< HEAD
<<<<<<< HEAD
<<<<<<< HEAD
   "id": "8af457d7",
||||||| 11b9cb7
   "id": "a6e4b928",
=======
   "id": "3c911411",
>>>>>>> documentation-devel
||||||| 614e9b1
   "id": "3c911411",
=======
   "id": "cf7cb388",
>>>>>>> documentation-devel
||||||| 856b4c0
<<<<<<< HEAD
   "id": "8af457d7",
||||||| 11b9cb7
   "id": "a6e4b928",
=======
   "id": "3c911411",
>>>>>>> documentation-devel
=======
   "id": "f466fded",
>>>>>>> 552590ea8fad969b67afdba27558a1e6cb21016e
||||||| 452c944
   "id": "cf7cb388",
=======
   "id": "54c6bbb5",
>>>>>>> documentation-devel
||||||| 4da3324
<<<<<<< HEAD
<<<<<<< HEAD
<<<<<<< HEAD
   "id": "8af457d7",
||||||| 11b9cb7
   "id": "a6e4b928",
=======
   "id": "3c911411",
>>>>>>> documentation-devel
||||||| 614e9b1
   "id": "3c911411",
=======
   "id": "cf7cb388",
>>>>>>> documentation-devel
||||||| 856b4c0
<<<<<<< HEAD
   "id": "8af457d7",
||||||| 11b9cb7
   "id": "a6e4b928",
=======
   "id": "3c911411",
>>>>>>> documentation-devel
=======
   "id": "f466fded",
>>>>>>> 552590ea8fad969b67afdba27558a1e6cb21016e
=======
   "id": "e216b4cf",
>>>>>>> b6e07d13baac92b2c1c9b43f8e4113ffa87bf495
   "metadata": {
    "message": false,
    "name": "setup"
   },
   "outputs": [],
   "source": [
    "library(Voyager)\n",
    "library(SFEData)\n",
    "library(SpatialFeatureExperiment)\n",
    "library(scater)\n",
    "library(scran)\n",
    "library(scuttle)\n",
    "library(ggplot2)\n",
    "library(stringr)\n",
    "library(tidyr)\n",
    "library(tibble)\n",
    "library(bluster)\n",
    "library(BiocSingular)\n",
    "library(BiocParallel)\n",
    "library(sf)\n",
    "library(patchwork)\n",
    "theme_set(theme_bw())"
   ]
  },
  {
   "cell_type": "code",
   "execution_count": null,
<<<<<<< HEAD
<<<<<<< HEAD
<<<<<<< HEAD
<<<<<<< HEAD
<<<<<<< HEAD
   "id": "8a39e96b",
||||||| 11b9cb7
   "id": "061fc1cc",
=======
   "id": "cc9d74dc",
>>>>>>> documentation-devel
||||||| 614e9b1
   "id": "cc9d74dc",
=======
   "id": "7a5d89f7",
>>>>>>> documentation-devel
||||||| 856b4c0
<<<<<<< HEAD
   "id": "8a39e96b",
||||||| 11b9cb7
   "id": "061fc1cc",
=======
   "id": "cc9d74dc",
>>>>>>> documentation-devel
=======
   "id": "af919ca7",
>>>>>>> 552590ea8fad969b67afdba27558a1e6cb21016e
||||||| 452c944
   "id": "7a5d89f7",
=======
   "id": "517f5f36",
>>>>>>> documentation-devel
||||||| 4da3324
<<<<<<< HEAD
<<<<<<< HEAD
<<<<<<< HEAD
   "id": "8a39e96b",
||||||| 11b9cb7
   "id": "061fc1cc",
=======
   "id": "cc9d74dc",
>>>>>>> documentation-devel
||||||| 614e9b1
   "id": "cc9d74dc",
=======
   "id": "7a5d89f7",
>>>>>>> documentation-devel
||||||| 856b4c0
<<<<<<< HEAD
   "id": "8a39e96b",
||||||| 11b9cb7
   "id": "061fc1cc",
=======
   "id": "cc9d74dc",
>>>>>>> documentation-devel
=======
   "id": "af919ca7",
>>>>>>> 552590ea8fad969b67afdba27558a1e6cb21016e
=======
   "id": "5a017e02",
>>>>>>> b6e07d13baac92b2c1c9b43f8e4113ffa87bf495
   "metadata": {},
   "outputs": [],
   "source": [
    "(sfe <- VizgenLiverData())"
   ]
  },
  {
   "cell_type": "markdown",
<<<<<<< HEAD
<<<<<<< HEAD
<<<<<<< HEAD
<<<<<<< HEAD
<<<<<<< HEAD
   "id": "12a75e8a",
||||||| 11b9cb7
   "id": "18303843",
=======
   "id": "a4148c2f",
>>>>>>> documentation-devel
||||||| 614e9b1
   "id": "a4148c2f",
=======
   "id": "6082071a",
>>>>>>> documentation-devel
||||||| 856b4c0
<<<<<<< HEAD
   "id": "12a75e8a",
||||||| 11b9cb7
   "id": "18303843",
=======
   "id": "a4148c2f",
>>>>>>> documentation-devel
=======
   "id": "ce0697ac",
>>>>>>> 552590ea8fad969b67afdba27558a1e6cb21016e
||||||| 452c944
   "id": "6082071a",
=======
   "id": "bd38c4b9",
>>>>>>> documentation-devel
||||||| 4da3324
<<<<<<< HEAD
<<<<<<< HEAD
<<<<<<< HEAD
   "id": "12a75e8a",
||||||| 11b9cb7
   "id": "18303843",
=======
   "id": "a4148c2f",
>>>>>>> documentation-devel
||||||| 614e9b1
   "id": "a4148c2f",
=======
   "id": "6082071a",
>>>>>>> documentation-devel
||||||| 856b4c0
<<<<<<< HEAD
   "id": "12a75e8a",
||||||| 11b9cb7
   "id": "18303843",
=======
   "id": "a4148c2f",
>>>>>>> documentation-devel
=======
   "id": "ce0697ac",
>>>>>>> 552590ea8fad969b67afdba27558a1e6cb21016e
=======
   "id": "b67ad9fd",
>>>>>>> b6e07d13baac92b2c1c9b43f8e4113ffa87bf495
   "metadata": {
    "lines_to_next_cell": 0
   },
   "source": [
    "MULTISPATI PCA is one of the multivariate methods introduced in `Voyager` 1.2.0. All multivariate methods in `Voyager` are listed here:"
   ]
  },
  {
   "cell_type": "code",
   "execution_count": null,
<<<<<<< HEAD
<<<<<<< HEAD
<<<<<<< HEAD
<<<<<<< HEAD
<<<<<<< HEAD
   "id": "a1af4cd7",
||||||| 11b9cb7
   "id": "ac39e496",
=======
   "id": "bd602678",
>>>>>>> documentation-devel
||||||| 614e9b1
   "id": "bd602678",
=======
   "id": "2dba8b24",
>>>>>>> documentation-devel
||||||| 856b4c0
<<<<<<< HEAD
   "id": "a1af4cd7",
||||||| 11b9cb7
   "id": "ac39e496",
=======
   "id": "bd602678",
>>>>>>> documentation-devel
=======
   "id": "7e53d557",
>>>>>>> 552590ea8fad969b67afdba27558a1e6cb21016e
||||||| 452c944
   "id": "2dba8b24",
=======
   "id": "957be4b2",
>>>>>>> documentation-devel
||||||| 4da3324
<<<<<<< HEAD
<<<<<<< HEAD
<<<<<<< HEAD
   "id": "a1af4cd7",
||||||| 11b9cb7
   "id": "ac39e496",
=======
   "id": "bd602678",
>>>>>>> documentation-devel
||||||| 614e9b1
   "id": "bd602678",
=======
   "id": "2dba8b24",
>>>>>>> documentation-devel
||||||| 856b4c0
<<<<<<< HEAD
   "id": "a1af4cd7",
||||||| 11b9cb7
   "id": "ac39e496",
=======
   "id": "bd602678",
>>>>>>> documentation-devel
=======
   "id": "7e53d557",
>>>>>>> 552590ea8fad969b67afdba27558a1e6cb21016e
=======
   "id": "2ffc960f",
>>>>>>> b6e07d13baac92b2c1c9b43f8e4113ffa87bf495
   "metadata": {},
   "outputs": [],
   "source": [
    "listSFEMethods(variate = \"multi\")"
   ]
  },
  {
   "cell_type": "markdown",
<<<<<<< HEAD
<<<<<<< HEAD
<<<<<<< HEAD
<<<<<<< HEAD
<<<<<<< HEAD
   "id": "e44da4c6",
||||||| 11b9cb7
   "id": "c44f62de",
=======
   "id": "c5c801f9",
>>>>>>> documentation-devel
||||||| 614e9b1
   "id": "c5c801f9",
=======
   "id": "15e2c0e7",
>>>>>>> documentation-devel
||||||| 856b4c0
<<<<<<< HEAD
   "id": "e44da4c6",
||||||| 11b9cb7
   "id": "c44f62de",
=======
   "id": "c5c801f9",
>>>>>>> documentation-devel
=======
   "id": "88c070b3",
>>>>>>> 552590ea8fad969b67afdba27558a1e6cb21016e
||||||| 452c944
   "id": "15e2c0e7",
=======
   "id": "f0d6a239",
>>>>>>> documentation-devel
||||||| 4da3324
<<<<<<< HEAD
<<<<<<< HEAD
<<<<<<< HEAD
   "id": "e44da4c6",
||||||| 11b9cb7
   "id": "c44f62de",
=======
   "id": "c5c801f9",
>>>>>>> documentation-devel
||||||| 614e9b1
   "id": "c5c801f9",
=======
   "id": "15e2c0e7",
>>>>>>> documentation-devel
||||||| 856b4c0
<<<<<<< HEAD
   "id": "e44da4c6",
||||||| 11b9cb7
   "id": "c44f62de",
=======
   "id": "c5c801f9",
>>>>>>> documentation-devel
=======
   "id": "88c070b3",
>>>>>>> 552590ea8fad969b67afdba27558a1e6cb21016e
=======
   "id": "8bda028b",
>>>>>>> b6e07d13baac92b2c1c9b43f8e4113ffa87bf495
   "metadata": {
    "lines_to_next_cell": 0
   },
   "source": [
    "When calling `calculate*variate()` or `run*variate()`, the `type` (2nd) argument takes either an `SFEMethod` object or a string that matches an entry in the `name` column in the data frame returned by `listSFEMethods()`.\n",
    "\n",
    "# Quality control\n",
    "QC was already performed in the [first vignette](https://pachterlab.github.io/voyager/articles/vig6_merfish.html). We do the same QC here, but see the first vignette for more details."
   ]
  },
  {
   "cell_type": "code",
   "execution_count": null,
<<<<<<< HEAD
<<<<<<< HEAD
<<<<<<< HEAD
<<<<<<< HEAD
<<<<<<< HEAD
   "id": "9727aaf1",
||||||| 11b9cb7
   "id": "09cb55cd",
=======
   "id": "96917ef0",
>>>>>>> documentation-devel
||||||| 614e9b1
   "id": "96917ef0",
=======
   "id": "41bf5185",
>>>>>>> documentation-devel
||||||| 856b4c0
<<<<<<< HEAD
   "id": "9727aaf1",
||||||| 11b9cb7
   "id": "09cb55cd",
=======
   "id": "96917ef0",
>>>>>>> documentation-devel
=======
   "id": "ba166b69",
>>>>>>> 552590ea8fad969b67afdba27558a1e6cb21016e
||||||| 452c944
   "id": "41bf5185",
=======
   "id": "dcaf3828",
>>>>>>> documentation-devel
||||||| 4da3324
<<<<<<< HEAD
<<<<<<< HEAD
<<<<<<< HEAD
   "id": "9727aaf1",
||||||| 11b9cb7
   "id": "09cb55cd",
=======
   "id": "96917ef0",
>>>>>>> documentation-devel
||||||| 614e9b1
   "id": "96917ef0",
=======
   "id": "41bf5185",
>>>>>>> documentation-devel
||||||| 856b4c0
<<<<<<< HEAD
   "id": "9727aaf1",
||||||| 11b9cb7
   "id": "09cb55cd",
=======
   "id": "96917ef0",
>>>>>>> documentation-devel
=======
   "id": "ba166b69",
>>>>>>> 552590ea8fad969b67afdba27558a1e6cb21016e
=======
   "id": "c5d097c7",
>>>>>>> b6e07d13baac92b2c1c9b43f8e4113ffa87bf495
   "metadata": {},
   "outputs": [],
   "source": [
    "is_blank <- str_detect(rownames(sfe), \"^Blank-\")\n",
    "sfe <- addPerCellQCMetrics(sfe, subset = list(blank = is_blank))"
   ]
  },
  {
   "cell_type": "code",
   "execution_count": null,
<<<<<<< HEAD
<<<<<<< HEAD
<<<<<<< HEAD
<<<<<<< HEAD
<<<<<<< HEAD
   "id": "67900d1d",
||||||| 11b9cb7
   "id": "620783fa",
=======
   "id": "02b634ae",
>>>>>>> documentation-devel
||||||| 614e9b1
   "id": "02b634ae",
=======
   "id": "5c36a2d7",
>>>>>>> documentation-devel
||||||| 856b4c0
<<<<<<< HEAD
   "id": "67900d1d",
||||||| 11b9cb7
   "id": "620783fa",
=======
   "id": "02b634ae",
>>>>>>> documentation-devel
=======
   "id": "b1c1a964",
>>>>>>> 552590ea8fad969b67afdba27558a1e6cb21016e
||||||| 452c944
   "id": "5c36a2d7",
=======
   "id": "184c5a10",
>>>>>>> documentation-devel
||||||| 4da3324
<<<<<<< HEAD
<<<<<<< HEAD
<<<<<<< HEAD
   "id": "67900d1d",
||||||| 11b9cb7
   "id": "620783fa",
=======
   "id": "02b634ae",
>>>>>>> documentation-devel
||||||| 614e9b1
   "id": "02b634ae",
=======
   "id": "5c36a2d7",
>>>>>>> documentation-devel
||||||| 856b4c0
<<<<<<< HEAD
   "id": "67900d1d",
||||||| 11b9cb7
   "id": "620783fa",
=======
   "id": "02b634ae",
>>>>>>> documentation-devel
=======
   "id": "b1c1a964",
>>>>>>> 552590ea8fad969b67afdba27558a1e6cb21016e
=======
   "id": "daef7679",
>>>>>>> b6e07d13baac92b2c1c9b43f8e4113ffa87bf495
   "metadata": {},
   "outputs": [],
   "source": [
    "get_neg_ctrl_outliers <- function(col, sfe, nmads = 3, log = FALSE) {\n",
    "    inds <- colData(sfe)$nCounts > 0 & colData(sfe)[[col]] > 0\n",
    "    df <- colData(sfe)[inds,]\n",
    "    outlier_inds <- isOutlier(df[[col]], type = \"higher\", nmads = nmads, log = log)\n",
    "    outliers <- rownames(df)[outlier_inds]\n",
    "    col2 <- str_remove(col, \"^subsets_\")\n",
    "    col2 <- str_remove(col2, \"_percent$\")\n",
    "    new_colname <- paste(\"is\", col2, \"outlier\", sep = \"_\")\n",
    "    colData(sfe)[[new_colname]] <- colnames(sfe) %in% outliers\n",
    "    sfe\n",
    "}"
   ]
  },
  {
   "cell_type": "code",
   "execution_count": null,
<<<<<<< HEAD
<<<<<<< HEAD
<<<<<<< HEAD
<<<<<<< HEAD
<<<<<<< HEAD
   "id": "ec4b410f",
||||||| 11b9cb7
   "id": "da9be682",
=======
   "id": "b2eca9f9",
>>>>>>> documentation-devel
||||||| 614e9b1
   "id": "b2eca9f9",
=======
   "id": "31500b21",
>>>>>>> documentation-devel
||||||| 856b4c0
<<<<<<< HEAD
   "id": "ec4b410f",
||||||| 11b9cb7
   "id": "da9be682",
=======
   "id": "b2eca9f9",
>>>>>>> documentation-devel
=======
   "id": "c546f653",
>>>>>>> 552590ea8fad969b67afdba27558a1e6cb21016e
||||||| 452c944
   "id": "31500b21",
=======
   "id": "9a923082",
>>>>>>> documentation-devel
||||||| 4da3324
<<<<<<< HEAD
<<<<<<< HEAD
<<<<<<< HEAD
   "id": "ec4b410f",
||||||| 11b9cb7
   "id": "da9be682",
=======
   "id": "b2eca9f9",
>>>>>>> documentation-devel
||||||| 614e9b1
   "id": "b2eca9f9",
=======
   "id": "31500b21",
>>>>>>> documentation-devel
||||||| 856b4c0
<<<<<<< HEAD
   "id": "ec4b410f",
||||||| 11b9cb7
   "id": "da9be682",
=======
   "id": "b2eca9f9",
>>>>>>> documentation-devel
=======
   "id": "c546f653",
>>>>>>> 552590ea8fad969b67afdba27558a1e6cb21016e
=======
   "id": "c5ba760e",
>>>>>>> b6e07d13baac92b2c1c9b43f8e4113ffa87bf495
   "metadata": {},
   "outputs": [],
   "source": [
    "sfe <- get_neg_ctrl_outliers(\"subsets_blank_percent\", sfe, log = TRUE)"
   ]
  },
  {
   "cell_type": "markdown",
<<<<<<< HEAD
<<<<<<< HEAD
<<<<<<< HEAD
<<<<<<< HEAD
<<<<<<< HEAD
   "id": "dff30186",
||||||| 11b9cb7
   "id": "4955bbd9",
=======
   "id": "9a156cca",
>>>>>>> documentation-devel
||||||| 614e9b1
   "id": "9a156cca",
=======
   "id": "c8a71599",
>>>>>>> documentation-devel
||||||| 856b4c0
<<<<<<< HEAD
   "id": "dff30186",
||||||| 11b9cb7
   "id": "4955bbd9",
=======
   "id": "9a156cca",
>>>>>>> documentation-devel
=======
   "id": "7eb98f42",
>>>>>>> 552590ea8fad969b67afdba27558a1e6cb21016e
||||||| 452c944
   "id": "c8a71599",
=======
   "id": "22ebe9b2",
>>>>>>> documentation-devel
||||||| 4da3324
<<<<<<< HEAD
<<<<<<< HEAD
<<<<<<< HEAD
   "id": "dff30186",
||||||| 11b9cb7
   "id": "4955bbd9",
=======
   "id": "9a156cca",
>>>>>>> documentation-devel
||||||| 614e9b1
   "id": "9a156cca",
=======
   "id": "c8a71599",
>>>>>>> documentation-devel
||||||| 856b4c0
<<<<<<< HEAD
   "id": "dff30186",
||||||| 11b9cb7
   "id": "4955bbd9",
=======
   "id": "9a156cca",
>>>>>>> documentation-devel
=======
   "id": "7eb98f42",
>>>>>>> 552590ea8fad969b67afdba27558a1e6cb21016e
=======
   "id": "6e9fa1d0",
>>>>>>> b6e07d13baac92b2c1c9b43f8e4113ffa87bf495
   "metadata": {
    "lines_to_next_cell": 0
   },
   "source": [
    "Remove the outliers and empty cells:"
   ]
  },
  {
   "cell_type": "code",
   "execution_count": null,
<<<<<<< HEAD
<<<<<<< HEAD
<<<<<<< HEAD
<<<<<<< HEAD
<<<<<<< HEAD
   "id": "3932598b",
||||||| 11b9cb7
   "id": "7f752069",
=======
   "id": "faeb34a9",
>>>>>>> documentation-devel
||||||| 614e9b1
   "id": "faeb34a9",
=======
   "id": "32f236e4",
>>>>>>> documentation-devel
||||||| 856b4c0
<<<<<<< HEAD
   "id": "3932598b",
||||||| 11b9cb7
   "id": "7f752069",
=======
   "id": "faeb34a9",
>>>>>>> documentation-devel
=======
   "id": "bcb86912",
>>>>>>> 552590ea8fad969b67afdba27558a1e6cb21016e
||||||| 452c944
   "id": "32f236e4",
=======
   "id": "450d4348",
>>>>>>> documentation-devel
||||||| 4da3324
<<<<<<< HEAD
<<<<<<< HEAD
<<<<<<< HEAD
   "id": "3932598b",
||||||| 11b9cb7
   "id": "7f752069",
=======
   "id": "faeb34a9",
>>>>>>> documentation-devel
||||||| 614e9b1
   "id": "faeb34a9",
=======
   "id": "32f236e4",
>>>>>>> documentation-devel
||||||| 856b4c0
<<<<<<< HEAD
   "id": "3932598b",
||||||| 11b9cb7
   "id": "7f752069",
=======
   "id": "faeb34a9",
>>>>>>> documentation-devel
=======
   "id": "bcb86912",
>>>>>>> 552590ea8fad969b67afdba27558a1e6cb21016e
=======
   "id": "40867099",
>>>>>>> b6e07d13baac92b2c1c9b43f8e4113ffa87bf495
   "metadata": {},
   "outputs": [],
   "source": [
    "inds <- !sfe$is_blank_outlier & sfe$nCounts > 0\n",
    "(sfe <- sfe[, inds])"
   ]
  },
  {
   "cell_type": "markdown",
<<<<<<< HEAD
<<<<<<< HEAD
<<<<<<< HEAD
<<<<<<< HEAD
<<<<<<< HEAD
   "id": "3d112a01",
||||||| 11b9cb7
   "id": "00e5fb36",
=======
   "id": "839df972",
>>>>>>> documentation-devel
||||||| 614e9b1
   "id": "839df972",
=======
   "id": "817f3de6",
>>>>>>> documentation-devel
||||||| 856b4c0
<<<<<<< HEAD
   "id": "3d112a01",
||||||| 11b9cb7
   "id": "00e5fb36",
=======
   "id": "839df972",
>>>>>>> documentation-devel
=======
   "id": "3b26685b",
>>>>>>> 552590ea8fad969b67afdba27558a1e6cb21016e
||||||| 452c944
   "id": "817f3de6",
=======
   "id": "91f6895a",
>>>>>>> documentation-devel
||||||| 4da3324
<<<<<<< HEAD
<<<<<<< HEAD
<<<<<<< HEAD
   "id": "3d112a01",
||||||| 11b9cb7
   "id": "00e5fb36",
=======
   "id": "839df972",
>>>>>>> documentation-devel
||||||| 614e9b1
   "id": "839df972",
=======
   "id": "817f3de6",
>>>>>>> documentation-devel
||||||| 856b4c0
<<<<<<< HEAD
   "id": "3d112a01",
||||||| 11b9cb7
   "id": "00e5fb36",
=======
   "id": "839df972",
>>>>>>> documentation-devel
=======
   "id": "3b26685b",
>>>>>>> 552590ea8fad969b67afdba27558a1e6cb21016e
=======
   "id": "744ed506",
>>>>>>> b6e07d13baac92b2c1c9b43f8e4113ffa87bf495
   "metadata": {},
   "source": [
    "There still are over 390,000 cells left after removing the outliers. \n",
    "\n",
    "Next we compute Moran's I for QC metrics, which requires a spatial neighborhood graph:"
   ]
  },
  {
   "cell_type": "code",
   "execution_count": null,
<<<<<<< HEAD
<<<<<<< HEAD
<<<<<<< HEAD
<<<<<<< HEAD
<<<<<<< HEAD
   "id": "4228cd17",
||||||| 11b9cb7
   "id": "cfca543e",
=======
   "id": "81e4eb57",
>>>>>>> documentation-devel
||||||| 614e9b1
   "id": "81e4eb57",
=======
   "id": "dc33c84f",
>>>>>>> documentation-devel
||||||| 856b4c0
<<<<<<< HEAD
   "id": "4228cd17",
||||||| 11b9cb7
   "id": "cfca543e",
=======
   "id": "81e4eb57",
>>>>>>> documentation-devel
=======
   "id": "ce56a581",
>>>>>>> 552590ea8fad969b67afdba27558a1e6cb21016e
||||||| 452c944
   "id": "dc33c84f",
=======
   "id": "d5ed10a5",
>>>>>>> documentation-devel
||||||| 4da3324
<<<<<<< HEAD
<<<<<<< HEAD
<<<<<<< HEAD
   "id": "4228cd17",
||||||| 11b9cb7
   "id": "cfca543e",
=======
   "id": "81e4eb57",
>>>>>>> documentation-devel
||||||| 614e9b1
   "id": "81e4eb57",
=======
   "id": "dc33c84f",
>>>>>>> documentation-devel
||||||| 856b4c0
<<<<<<< HEAD
   "id": "4228cd17",
||||||| 11b9cb7
   "id": "cfca543e",
=======
   "id": "81e4eb57",
>>>>>>> documentation-devel
=======
   "id": "ce56a581",
>>>>>>> 552590ea8fad969b67afdba27558a1e6cb21016e
=======
   "id": "3f294060",
>>>>>>> b6e07d13baac92b2c1c9b43f8e4113ffa87bf495
   "metadata": {},
   "outputs": [],
   "source": [
    "system.time(\n",
    "    colGraph(sfe, \"knn5\") <- findSpatialNeighbors(sfe, method = \"knearneigh\", \n",
    "                                                  dist_type = \"idw\", k = 5, \n",
    "                                                  style = \"W\")\n",
    ")"
   ]
  },
  {
   "cell_type": "code",
   "execution_count": null,
<<<<<<< HEAD
<<<<<<< HEAD
<<<<<<< HEAD
<<<<<<< HEAD
<<<<<<< HEAD
   "id": "b96dc962",
||||||| 11b9cb7
   "id": "0191ff01",
=======
   "id": "ce130c2b",
>>>>>>> documentation-devel
||||||| 614e9b1
   "id": "ce130c2b",
=======
   "id": "2a60630c",
>>>>>>> documentation-devel
||||||| 856b4c0
<<<<<<< HEAD
   "id": "b96dc962",
||||||| 11b9cb7
   "id": "0191ff01",
=======
   "id": "ce130c2b",
>>>>>>> documentation-devel
=======
   "id": "ed0270b7",
>>>>>>> 552590ea8fad969b67afdba27558a1e6cb21016e
||||||| 452c944
   "id": "2a60630c",
=======
   "id": "782ec455",
>>>>>>> documentation-devel
||||||| 4da3324
<<<<<<< HEAD
<<<<<<< HEAD
<<<<<<< HEAD
   "id": "b96dc962",
||||||| 11b9cb7
   "id": "0191ff01",
=======
   "id": "ce130c2b",
>>>>>>> documentation-devel
||||||| 614e9b1
   "id": "ce130c2b",
=======
   "id": "2a60630c",
>>>>>>> documentation-devel
||||||| 856b4c0
<<<<<<< HEAD
   "id": "b96dc962",
||||||| 11b9cb7
   "id": "0191ff01",
=======
   "id": "ce130c2b",
>>>>>>> documentation-devel
=======
   "id": "ed0270b7",
>>>>>>> 552590ea8fad969b67afdba27558a1e6cb21016e
=======
   "id": "e0f15b66",
>>>>>>> b6e07d13baac92b2c1c9b43f8e4113ffa87bf495
   "metadata": {},
   "outputs": [],
   "source": [
    "features_use <- c(\"nCounts\", \"nGenes\", \"volume\")\n",
    "sfe <- colDataUnivariate(sfe, \"moran.mc\", features_use, \n",
    "                         colGraphName = \"knn5\", nsim = 49, \n",
    "                         BPPARAM = MulticoreParam(2))"
   ]
  },
  {
   "cell_type": "code",
   "execution_count": null,
<<<<<<< HEAD
<<<<<<< HEAD
<<<<<<< HEAD
<<<<<<< HEAD
<<<<<<< HEAD
   "id": "b91057fb",
||||||| 11b9cb7
   "id": "e8874ab8",
=======
   "id": "4f9dd759",
>>>>>>> documentation-devel
||||||| 614e9b1
   "id": "4f9dd759",
=======
   "id": "b7e98e5a",
>>>>>>> documentation-devel
||||||| 856b4c0
<<<<<<< HEAD
   "id": "b91057fb",
||||||| 11b9cb7
   "id": "e8874ab8",
=======
   "id": "4f9dd759",
>>>>>>> documentation-devel
=======
   "id": "e8fd3663",
>>>>>>> 552590ea8fad969b67afdba27558a1e6cb21016e
||||||| 452c944
   "id": "b7e98e5a",
=======
   "id": "0d9ba90c",
>>>>>>> documentation-devel
||||||| 4da3324
<<<<<<< HEAD
<<<<<<< HEAD
<<<<<<< HEAD
   "id": "b91057fb",
||||||| 11b9cb7
   "id": "e8874ab8",
=======
   "id": "4f9dd759",
>>>>>>> documentation-devel
||||||| 614e9b1
   "id": "4f9dd759",
=======
   "id": "b7e98e5a",
>>>>>>> documentation-devel
||||||| 856b4c0
<<<<<<< HEAD
   "id": "b91057fb",
||||||| 11b9cb7
   "id": "e8874ab8",
=======
   "id": "4f9dd759",
>>>>>>> documentation-devel
=======
   "id": "e8fd3663",
>>>>>>> 552590ea8fad969b67afdba27558a1e6cb21016e
=======
   "id": "b764e5e6",
>>>>>>> b6e07d13baac92b2c1c9b43f8e4113ffa87bf495
   "metadata": {},
   "outputs": [],
   "source": [
    "plotMoranMC(sfe, features_use)"
   ]
  },
  {
   "cell_type": "markdown",
<<<<<<< HEAD
<<<<<<< HEAD
<<<<<<< HEAD
<<<<<<< HEAD
<<<<<<< HEAD
   "id": "4c446544",
||||||| 11b9cb7
   "id": "90777066",
=======
   "id": "f36bb590",
>>>>>>> documentation-devel
||||||| 614e9b1
   "id": "f36bb590",
=======
   "id": "c85364b4",
>>>>>>> documentation-devel
||||||| 856b4c0
<<<<<<< HEAD
   "id": "4c446544",
||||||| 11b9cb7
   "id": "90777066",
=======
   "id": "f36bb590",
>>>>>>> documentation-devel
=======
   "id": "3d76e98a",
>>>>>>> 552590ea8fad969b67afdba27558a1e6cb21016e
||||||| 452c944
   "id": "c85364b4",
=======
   "id": "e04ff822",
>>>>>>> documentation-devel
||||||| 4da3324
<<<<<<< HEAD
<<<<<<< HEAD
<<<<<<< HEAD
   "id": "4c446544",
||||||| 11b9cb7
   "id": "90777066",
=======
   "id": "f36bb590",
>>>>>>> documentation-devel
||||||| 614e9b1
   "id": "f36bb590",
=======
   "id": "c85364b4",
>>>>>>> documentation-devel
||||||| 856b4c0
<<<<<<< HEAD
   "id": "4c446544",
||||||| 11b9cb7
   "id": "90777066",
=======
   "id": "f36bb590",
>>>>>>> documentation-devel
=======
   "id": "3d76e98a",
>>>>>>> 552590ea8fad969b67afdba27558a1e6cb21016e
=======
   "id": "bc456697",
>>>>>>> b6e07d13baac92b2c1c9b43f8e4113ffa87bf495
   "metadata": {},
   "source": [
    "Here Moran's I is a little negative, but from the permutation testing, it is significant, though that can also be the large number of cells. The lower bound of Moran's I given the spatial neighborhood graph is usually closer to -0.5 than -1, while the upper bound is usually around 1. The bounds given a specific spatial neighborhood graph can be found with `moranBounds()`, but because it double centers the adjacency matrix, hence making it dense, there isn't enough memory to use it for the entire dataset. But we can look at the Moran bounds of a small subset of data, which might be generalizable to the whole dataset given that this tissue appears quite homogeneous in space."
   ]
  },
  {
   "cell_type": "code",
   "execution_count": null,
<<<<<<< HEAD
<<<<<<< HEAD
<<<<<<< HEAD
<<<<<<< HEAD
<<<<<<< HEAD
   "id": "162fe2a5",
||||||| 11b9cb7
   "id": "c16d2f17",
=======
   "id": "daefeb84",
>>>>>>> documentation-devel
||||||| 614e9b1
   "id": "daefeb84",
=======
   "id": "14fce41a",
>>>>>>> documentation-devel
||||||| 856b4c0
<<<<<<< HEAD
   "id": "162fe2a5",
||||||| 11b9cb7
   "id": "c16d2f17",
=======
   "id": "daefeb84",
>>>>>>> documentation-devel
=======
   "id": "2a7b9ce3",
>>>>>>> 552590ea8fad969b67afdba27558a1e6cb21016e
||||||| 452c944
   "id": "14fce41a",
=======
   "id": "27277c76",
>>>>>>> documentation-devel
||||||| 4da3324
<<<<<<< HEAD
<<<<<<< HEAD
<<<<<<< HEAD
   "id": "162fe2a5",
||||||| 11b9cb7
   "id": "c16d2f17",
=======
   "id": "daefeb84",
>>>>>>> documentation-devel
||||||| 614e9b1
   "id": "daefeb84",
=======
   "id": "14fce41a",
>>>>>>> documentation-devel
||||||| 856b4c0
<<<<<<< HEAD
   "id": "162fe2a5",
||||||| 11b9cb7
   "id": "c16d2f17",
=======
   "id": "daefeb84",
>>>>>>> documentation-devel
=======
   "id": "2a7b9ce3",
>>>>>>> 552590ea8fad969b67afdba27558a1e6cb21016e
=======
   "id": "db091e62",
>>>>>>> b6e07d13baac92b2c1c9b43f8e4113ffa87bf495
   "metadata": {},
   "outputs": [],
   "source": [
    "bbox_use <- c(xmin = 6000, xmax = 7000, ymin = 4000, ymax = 5000)\n",
    "inds2 <- st_intersects(cellSeg(sfe), st_as_sfc(st_bbox(bbox_use)), \n",
    "                       sparse = FALSE)[,1]\n",
    "sfe_sub <- sfe[, inds2]"
   ]
  },
  {
   "cell_type": "code",
   "execution_count": null,
<<<<<<< HEAD
<<<<<<< HEAD
<<<<<<< HEAD
<<<<<<< HEAD
<<<<<<< HEAD
   "id": "e3ca1290",
||||||| 11b9cb7
   "id": "fbbae8d1",
=======
   "id": "199fec21",
>>>>>>> documentation-devel
||||||| 614e9b1
   "id": "199fec21",
=======
   "id": "5dff6191",
>>>>>>> documentation-devel
||||||| 856b4c0
<<<<<<< HEAD
   "id": "e3ca1290",
||||||| 11b9cb7
   "id": "fbbae8d1",
=======
   "id": "199fec21",
>>>>>>> documentation-devel
=======
   "id": "31e37b20",
>>>>>>> 552590ea8fad969b67afdba27558a1e6cb21016e
||||||| 452c944
   "id": "5dff6191",
=======
   "id": "90fed6ec",
>>>>>>> documentation-devel
||||||| 4da3324
<<<<<<< HEAD
<<<<<<< HEAD
<<<<<<< HEAD
   "id": "e3ca1290",
||||||| 11b9cb7
   "id": "fbbae8d1",
=======
   "id": "199fec21",
>>>>>>> documentation-devel
||||||| 614e9b1
   "id": "199fec21",
=======
   "id": "5dff6191",
>>>>>>> documentation-devel
||||||| 856b4c0
<<<<<<< HEAD
   "id": "e3ca1290",
||||||| 11b9cb7
   "id": "fbbae8d1",
=======
   "id": "199fec21",
>>>>>>> documentation-devel
=======
   "id": "31e37b20",
>>>>>>> 552590ea8fad969b67afdba27558a1e6cb21016e
=======
   "id": "0367b9b4",
>>>>>>> b6e07d13baac92b2c1c9b43f8e4113ffa87bf495
   "metadata": {},
   "outputs": [],
   "source": [
    "(mb <- moranBounds(colGraph(sfe_sub, \"knn5\")))"
   ]
  },
  {
   "cell_type": "markdown",
<<<<<<< HEAD
<<<<<<< HEAD
<<<<<<< HEAD
<<<<<<< HEAD
<<<<<<< HEAD
   "id": "3dbaf777",
||||||| 11b9cb7
   "id": "f9d97517",
=======
   "id": "2badc049",
>>>>>>> documentation-devel
||||||| 614e9b1
   "id": "2badc049",
=======
   "id": "2cbd51b5",
>>>>>>> documentation-devel
||||||| 856b4c0
<<<<<<< HEAD
   "id": "3dbaf777",
||||||| 11b9cb7
   "id": "f9d97517",
=======
   "id": "2badc049",
>>>>>>> documentation-devel
=======
   "id": "d316277e",
>>>>>>> 552590ea8fad969b67afdba27558a1e6cb21016e
||||||| 452c944
   "id": "2cbd51b5",
=======
   "id": "966dbee9",
>>>>>>> documentation-devel
||||||| 4da3324
<<<<<<< HEAD
<<<<<<< HEAD
<<<<<<< HEAD
   "id": "3dbaf777",
||||||| 11b9cb7
   "id": "f9d97517",
=======
   "id": "2badc049",
>>>>>>> documentation-devel
||||||| 614e9b1
   "id": "2badc049",
=======
   "id": "2cbd51b5",
>>>>>>> documentation-devel
||||||| 856b4c0
<<<<<<< HEAD
   "id": "3dbaf777",
||||||| 11b9cb7
   "id": "f9d97517",
=======
   "id": "2badc049",
>>>>>>> documentation-devel
=======
   "id": "d316277e",
>>>>>>> 552590ea8fad969b67afdba27558a1e6cb21016e
=======
   "id": "6a7c76be",
>>>>>>> b6e07d13baac92b2c1c9b43f8e4113ffa87bf495
   "metadata": {
    "lines_to_next_cell": 0
   },
   "source": [
    "So considering the bounds, the MOran's I values of the QC metrics are more like"
   ]
  },
  {
   "cell_type": "code",
   "execution_count": null,
<<<<<<< HEAD
<<<<<<< HEAD
<<<<<<< HEAD
<<<<<<< HEAD
<<<<<<< HEAD
   "id": "06995684",
||||||| 11b9cb7
   "id": "5d0c8ca3",
=======
   "id": "f928a7ba",
>>>>>>> documentation-devel
||||||| 614e9b1
   "id": "f928a7ba",
=======
   "id": "75bebae5",
>>>>>>> documentation-devel
||||||| 856b4c0
<<<<<<< HEAD
   "id": "06995684",
||||||| 11b9cb7
   "id": "5d0c8ca3",
=======
   "id": "f928a7ba",
>>>>>>> documentation-devel
=======
   "id": "f1973638",
>>>>>>> 552590ea8fad969b67afdba27558a1e6cb21016e
||||||| 452c944
   "id": "75bebae5",
=======
   "id": "e7ea2fa5",
>>>>>>> documentation-devel
||||||| 4da3324
<<<<<<< HEAD
<<<<<<< HEAD
<<<<<<< HEAD
   "id": "06995684",
||||||| 11b9cb7
   "id": "5d0c8ca3",
=======
   "id": "f928a7ba",
>>>>>>> documentation-devel
||||||| 614e9b1
   "id": "f928a7ba",
=======
   "id": "75bebae5",
>>>>>>> documentation-devel
||||||| 856b4c0
<<<<<<< HEAD
   "id": "06995684",
||||||| 11b9cb7
   "id": "5d0c8ca3",
=======
   "id": "f928a7ba",
>>>>>>> documentation-devel
=======
   "id": "f1973638",
>>>>>>> 552590ea8fad969b67afdba27558a1e6cb21016e
=======
   "id": "cba58065",
>>>>>>> b6e07d13baac92b2c1c9b43f8e4113ffa87bf495
   "metadata": {},
   "outputs": [],
   "source": [
    "setNames(colFeatureData(sfe)[c(\"nCounts\", \"nGenes\", \"volume\"), \n",
    "                             \"moran.mc_statistic_sample01\"] / mb[\"Imin\"],\n",
    "         features_use)"
   ]
  },
  {
   "cell_type": "markdown",
<<<<<<< HEAD
<<<<<<< HEAD
<<<<<<< HEAD
<<<<<<< HEAD
<<<<<<< HEAD
   "id": "5917280c",
||||||| 11b9cb7
   "id": "5a7c5ba9",
=======
   "id": "19ed782c",
>>>>>>> documentation-devel
||||||| 614e9b1
   "id": "19ed782c",
=======
   "id": "30af31bd",
>>>>>>> documentation-devel
||||||| 856b4c0
<<<<<<< HEAD
   "id": "5917280c",
||||||| 11b9cb7
   "id": "5a7c5ba9",
=======
   "id": "19ed782c",
>>>>>>> documentation-devel
=======
   "id": "b656dfce",
>>>>>>> 552590ea8fad969b67afdba27558a1e6cb21016e
||||||| 452c944
   "id": "30af31bd",
=======
   "id": "db89056e",
>>>>>>> documentation-devel
||||||| 4da3324
<<<<<<< HEAD
<<<<<<< HEAD
<<<<<<< HEAD
   "id": "5917280c",
||||||| 11b9cb7
   "id": "5a7c5ba9",
=======
   "id": "19ed782c",
>>>>>>> documentation-devel
||||||| 614e9b1
   "id": "19ed782c",
=======
   "id": "30af31bd",
>>>>>>> documentation-devel
||||||| 856b4c0
<<<<<<< HEAD
   "id": "5917280c",
||||||| 11b9cb7
   "id": "5a7c5ba9",
=======
   "id": "19ed782c",
>>>>>>> documentation-devel
=======
   "id": "b656dfce",
>>>>>>> 552590ea8fad969b67afdba27558a1e6cb21016e
=======
   "id": "b0b4118d",
>>>>>>> b6e07d13baac92b2c1c9b43f8e4113ffa87bf495
   "metadata": {},
   "source": [
    "whose magnitudes seem more substantial for `nCounts` and `nGenes` if it's positive spatial autocorrelation. So there may be mild to moderate negative spatial autocorrelation."
   ]
  },
  {
   "cell_type": "code",
   "execution_count": null,
<<<<<<< HEAD
<<<<<<< HEAD
   "id": "e6cc9c74",
||||||| 4da3324
   "id": "e6cc9c74",
=======
   "id": "3d6d7f8f",
>>>>>>> b6e07d13baac92b2c1c9b43f8e4113ffa87bf495
   "metadata": {},
   "outputs": [],
   "source": [
    "# Normalize data\n",
    "sfe <- logNormCounts(sfe)"
   ]
  },
  {
   "cell_type": "markdown",
   "id": "81d85aed",
   "metadata": {},
   "source": [
    "# Hepatic zonation\n",
    "\n",
    "This dataset comes from a relatively large piece of tissue and we need to zoom into a smaller region to better see the local structures. Here we specify a bounding box."
   ]
  },
  {
   "cell_type": "code",
   "execution_count": null,
   "id": "efdcb80b",
   "metadata": {},
   "outputs": [],
   "source": [
    "bbox_use <- c(xmin = 6100, xmax = 7100, ymin = 7500, ymax = 8500)"
   ]
  },
  {
   "cell_type": "markdown",
   "id": "62ed3c85",
   "metadata": {},
   "source": [
    "A portal triad is shown near the top right of this bounding box. The two large vessels on the left and bottom right are central veins. The portal triad consists of the hepatic artery, portal vein which brings blood from the intestine, and bile duct, so it's more oxygenated. The regions around the central vein is more deoxygenated. The different oxygen and nutrient contents mean that hepatocytes play different metabolic roles in the zones between the portal triad and the central vein. Here we plot some zonation marker genes from [@Halpern2017-lq]. "
   ]
  },
  {
   "cell_type": "code",
   "execution_count": null,
   "id": "ee17a1fd",
   "metadata": {},
   "outputs": [],
   "source": [
    "markers <- c(\"Axin2\", \"Cyp1a2\", \"Gstm3\", \"Psmd4\", # Pericentral\n",
    "             \"Cyp2e1\", \"Asl\", \"Alb\", \"Ass1\", # Monotonic but has intermediate\n",
    "             \"Hamp\", \"Igfbp2\", \"Cyp8b1\", \"Mup3\", # Non-monotonic\n",
    "             \"Arg1\", \"Pck1\", \"C2\", \"Sdhd\") # Periportal"
   ]
  },
  {
   "cell_type": "code",
   "execution_count": null,
   "id": "9e763c16",
   "metadata": {},
   "outputs": [],
   "source": [
    "(inds <- which(markers %in% rownames(sfe)))"
   ]
  },
  {
   "cell_type": "markdown",
   "id": "189658dc",
   "metadata": {
    "lines_to_next_cell": 0
   },
   "source": [
    "Only 3 of these marker genes are present in this dataset. The first two are pericentral (near the central vein), and the last one is periportal (near the portal triad)."
   ]
  },
  {
   "cell_type": "code",
   "execution_count": null,
   "id": "bed18d6a",
   "metadata": {
    "fig.height": 3,
    "fig.width": 9
   },
   "outputs": [],
   "source": [
    "plotSpatialFeature(sfe, markers[inds], colGeometryName = \"cellSeg\",\n",
    "                   ncol = 3, bbox = bbox_use)"
   ]
  },
  {
   "cell_type": "markdown",
   "id": "ca3b2a86",
   "metadata": {},
   "source": [
    "Besides hepatocytes, the liver also has many endothelial cells and Kupffer cells (macrophages). Marker genes of these cells from [@Bonnardel2019-le] are plotted to visualize these cell types in space:"
   ]
  },
  {
   "cell_type": "code",
   "execution_count": null,
   "id": "498e64b3",
   "metadata": {},
   "outputs": [],
   "source": [
    "# Kuppfer cells\n",
    "kc_genes <- c(\"Timd4\", \"Vsig4\", \"Clec4f\", \"Clec1b\", \"Il18bp\", \"C6\", \"Irf7\",\n",
    "              \"Slc40a1\", \"Cdh5\", \"Nr1h3\", \"Dmpk\", \"Paqr9\", \"Pcolce2\", \"Kcna2\",\n",
    "              \"Gbp8\", \"Iigp1\", \"Helz2\", \"Cd207\", \"Icos\", \"Adcy4\", \"Slc1a2\",\n",
    "              \"Rsad2\", \"Slc16a9\", \"Cd209f\", \"Oasl1\", \"Fam167a\")\n",
    "which(kc_genes %in% rownames(sfe))"
   ]
  },
  {
   "cell_type": "markdown",
   "id": "6d845350",
   "metadata": {
    "lines_to_next_cell": 0
   },
   "source": [
    "Only one of the Kupffer cell markers is available in this dataset."
   ]
  },
  {
   "cell_type": "code",
   "execution_count": null,
   "id": "441b04fe",
   "metadata": {},
   "outputs": [],
   "source": [
    "plotSpatialFeature(sfe, kc_genes[9], colGeometryName = \"cellSeg\",\n",
    "                   bbox = bbox_use)"
   ]
  },
  {
   "cell_type": "markdown",
   "id": "0aa417cb",
   "metadata": {},
   "source": [
    "Expression of this gene does not seem very spatially coherent."
   ]
  },
  {
   "cell_type": "code",
   "execution_count": null,
   "id": "1df4b92e",
   "metadata": {},
   "outputs": [],
   "source": [
    "# Endothelial cells\n",
    "lec_genes <- c(\"Rspo3\", \"Wnt2\", \"Wnt9b\", \"Pcdhgc5\", \"Ecm1\", \"Ltbp4\", \"Efnb2\")\n",
    "(inds_lec <- which(lec_genes %in% rownames(sfe)))"
   ]
  },
  {
   "cell_type": "markdown",
   "id": "be2072f5",
   "metadata": {
    "lines_to_next_cell": 0
   },
   "source": [
    "Only 3 of these endothelial cell marker genes are available in this dataset."
   ]
  },
  {
   "cell_type": "code",
   "execution_count": null,
   "id": "08038749",
   "metadata": {
    "fig.height": 3,
    "fig.width": 9
   },
   "outputs": [],
   "source": [
    "plotSpatialFeature(sfe, lec_genes[inds_lec], colGeometryName = \"cellSeg\",\n",
    "                   bbox = bbox_use, ncol = 3)"
   ]
  },
  {
   "cell_type": "markdown",
   "id": "9a121f12",
   "metadata": {},
   "source": [
    "Wnt2 seems to be more pericentral, while Ltbp4 and Efnb2 seem more periportal.\n",
    "\n",
    "Some of these marker genes will show up in the top PC loadings non-spatial and spatial PCA.\n",
<<<<<<< HEAD
<<<<<<< HEAD
||||||| 11b9cb7
    "whose magnitudes seem more substantial for `nCounts` and `nGenes` if it's positive spatial autocorrelation. So there may be mild to moderate negative spatial autocorrelation.\n",
=======
    "whose magnitudes seem more substantial for `nCounts` and `nGenes` if it's positive spatial autocorrelation. So there may be mild to moderate negative spatial autocorrelation."
   ]
  },
  {
   "cell_type": "code",
   "execution_count": null,
   "id": "a7edaa53",
||||||| 452c944
   "id": "a7edaa53",
=======
   "id": "fa99f9eb",
>>>>>>> documentation-devel
   "metadata": {},
   "outputs": [],
   "source": [
    "# Normalize data\n",
    "sfe <- logNormCounts(sfe)"
   ]
  },
  {
   "cell_type": "markdown",
   "id": "47675bc5",
   "metadata": {},
   "source": [
    "# Hepatic zonation\n",
    "\n",
    "This dataset comes from a relatively large piece of tissue and we need to zoom into a smaller region to better see the local structures. Here we specify a bounding box."
   ]
  },
  {
   "cell_type": "code",
   "execution_count": null,
   "id": "d1acd244",
   "metadata": {},
   "outputs": [],
   "source": [
    "bbox_use <- c(xmin = 6100, xmax = 7100, ymin = 7500, ymax = 8500)"
   ]
  },
  {
   "cell_type": "markdown",
   "id": "47ae8911",
   "metadata": {},
   "source": [
    "A portal triad is shown near the top right of this bounding box. The two large vessels on the left and bottom right are central veins. The portal triad consists of the hepatic artery, portal vein which brings blood from the intestine, and bile duct, so it's more oxygenated. The regions around the central vein is more deoxygenated. The different oxygen and nutrient contents mean that hepatocytes play different metabolic roles in the zones between the portal triad and the central vein. Here we plot some zonation marker genes from [@Halpern2017-lq]. "
   ]
  },
  {
   "cell_type": "code",
   "execution_count": null,
   "id": "640cefef",
   "metadata": {},
   "outputs": [],
   "source": [
    "markers <- c(\"Axin2\", \"Cyp1a2\", \"Gstm3\", \"Psmd4\", # Pericentral\n",
    "             \"Cyp2e1\", \"Asl\", \"Alb\", \"Ass1\", # Monotonic but has intermediate\n",
    "             \"Hamp\", \"Igfbp2\", \"Cyp8b1\", \"Mup3\", # Non-monotonic\n",
    "             \"Arg1\", \"Pck1\", \"C2\", \"Sdhd\") # Periportal"
   ]
  },
  {
   "cell_type": "code",
   "execution_count": null,
   "id": "0a487402",
   "metadata": {},
   "outputs": [],
   "source": [
    "(inds <- which(markers %in% rownames(sfe)))"
   ]
  },
  {
   "cell_type": "markdown",
   "id": "71574238",
   "metadata": {
    "lines_to_next_cell": 0
   },
   "source": [
    "Only 3 of these marker genes are present in this dataset. The first two are pericentral (near the central vein), and the last one is periportal (near the portal triad)."
   ]
  },
  {
   "cell_type": "code",
   "execution_count": null,
   "id": "c536f472",
   "metadata": {
    "fig.height": 3,
    "fig.width": 9
   },
   "outputs": [],
   "source": [
    "plotSpatialFeature(sfe, markers[inds], colGeometryName = \"cellSeg\",\n",
    "                   ncol = 3, bbox = bbox_use)"
   ]
  },
  {
   "cell_type": "markdown",
   "id": "430e11f6",
   "metadata": {},
   "source": [
    "Besides hepatocytes, the liver also has many endothelial cells and Kupffer cells (macrophages). Marker genes of these cells from [@Bonnardel2019-le] are plotted to visualize these cell types in space:"
   ]
  },
  {
   "cell_type": "code",
   "execution_count": null,
   "id": "9bc76cb5",
   "metadata": {},
   "outputs": [],
   "source": [
    "# Kuppfer cells\n",
    "kc_genes <- c(\"Timd4\", \"Vsig4\", \"Clec4f\", \"Clec1b\", \"Il18bp\", \"C6\", \"Irf7\",\n",
    "              \"Slc40a1\", \"Cdh5\", \"Nr1h3\", \"Dmpk\", \"Paqr9\", \"Pcolce2\", \"Kcna2\",\n",
    "              \"Gbp8\", \"Iigp1\", \"Helz2\", \"Cd207\", \"Icos\", \"Adcy4\", \"Slc1a2\",\n",
    "              \"Rsad2\", \"Slc16a9\", \"Cd209f\", \"Oasl1\", \"Fam167a\")\n",
    "which(kc_genes %in% rownames(sfe))"
   ]
  },
  {
   "cell_type": "markdown",
   "id": "0187527e",
   "metadata": {
    "lines_to_next_cell": 0
   },
   "source": [
    "Only one of the Kupffer cell markers is available in this dataset."
   ]
  },
  {
   "cell_type": "code",
   "execution_count": null,
   "id": "d7ecd779",
   "metadata": {},
   "outputs": [],
   "source": [
    "plotSpatialFeature(sfe, kc_genes[9], colGeometryName = \"cellSeg\",\n",
    "                   bbox = bbox_use)"
   ]
  },
  {
   "cell_type": "markdown",
   "id": "99d53a24",
   "metadata": {},
   "source": [
    "Expression of this gene does not seem very spatially coherent."
   ]
  },
  {
   "cell_type": "code",
   "execution_count": null,
   "id": "a2d01983",
   "metadata": {},
   "outputs": [],
   "source": [
    "# Endothelial cells\n",
    "lec_genes <- c(\"Rspo3\", \"Wnt2\", \"Wnt9b\", \"Pcdhgc5\", \"Ecm1\", \"Ltbp4\", \"Efnb2\")\n",
    "(inds_lec <- which(lec_genes %in% rownames(sfe)))"
   ]
  },
  {
   "cell_type": "markdown",
   "id": "68f42319",
   "metadata": {
    "lines_to_next_cell": 0
   },
   "source": [
    "Only 3 of these endothelial cell marker genes are available in this dataset."
   ]
  },
  {
   "cell_type": "code",
   "execution_count": null,
   "id": "7c8633a6",
   "metadata": {
    "fig.height": 3,
    "fig.width": 9
   },
   "outputs": [],
   "source": [
    "plotSpatialFeature(sfe, lec_genes[inds_lec], colGeometryName = \"cellSeg\",\n",
    "                   bbox = bbox_use, ncol = 3)"
   ]
  },
  {
   "cell_type": "markdown",
   "id": "e33ff21f",
   "metadata": {},
   "source": [
    "Wnt2 seems to be more pericentral, while Ltbp4 and Efnb2 seem more periportal.\n",
    "\n",
    "Some of these marker genes will show up in the top PC loadings non-spatial and spatial PCA.\n",
>>>>>>> documentation-devel
||||||| 856b4c0
||||||| 11b9cb7
    "whose magnitudes seem more substantial for `nCounts` and `nGenes` if it's positive spatial autocorrelation. So there may be mild to moderate negative spatial autocorrelation.\n",
=======
    "whose magnitudes seem more substantial for `nCounts` and `nGenes` if it's positive spatial autocorrelation. So there may be mild to moderate negative spatial autocorrelation."
   ]
  },
  {
   "cell_type": "code",
   "execution_count": null,
   "id": "9a25dd87",
   "metadata": {},
   "outputs": [],
   "source": [
    "# Normalize data\n",
    "sfe <- logNormCounts(sfe)"
   ]
  },
  {
   "cell_type": "markdown",
   "id": "b99f0463",
   "metadata": {},
   "source": [
    "# Hepatic zonation\n",
    "\n",
    "This dataset comes from a relatively large piece of tissue and we need to zoom into a smaller region to better see the local structures. Here we specify a bounding box."
   ]
  },
  {
   "cell_type": "code",
   "execution_count": null,
   "id": "b25f9ec4",
   "metadata": {},
   "outputs": [],
   "source": [
    "bbox_use <- c(xmin = 6100, xmax = 7100, ymin = 7500, ymax = 8500)"
   ]
  },
  {
   "cell_type": "markdown",
   "id": "233d0775",
   "metadata": {},
   "source": [
    "A portal triad is shown near the top right of this bounding box. The two large vessels on the left and bottom right are central veins. The portal triad consists of the hepatic artery, portal vein which brings blood from the intestine, and bile duct, so it's more oxygenated. The regions around the central vein is more deoxygenated. The different oxygen and nutrient contents mean that hepatocytes play different metabolic roles in the zones between the portal triad and the central vein. Here we plot some zonation marker genes from [@Halpern2017-lq]. "
   ]
  },
  {
   "cell_type": "code",
   "execution_count": null,
   "id": "0e12051f",
   "metadata": {},
   "outputs": [],
   "source": [
    "markers <- c(\"Axin2\", \"Cyp1a2\", \"Gstm3\", \"Psmd4\", # Pericentral\n",
    "             \"Cyp2e1\", \"Asl\", \"Alb\", \"Ass1\", # Monotonic but has intermediate\n",
    "             \"Hamp\", \"Igfbp2\", \"Cyp8b1\", \"Mup3\", # Non-monotonic\n",
    "             \"Arg1\", \"Pck1\", \"C2\", \"Sdhd\") # Periportal"
   ]
  },
  {
   "cell_type": "code",
   "execution_count": null,
   "id": "99926ed4",
   "metadata": {},
   "outputs": [],
   "source": [
    "(inds <- which(markers %in% rownames(sfe)))"
   ]
  },
  {
   "cell_type": "markdown",
   "id": "b8c7eea1",
   "metadata": {
    "lines_to_next_cell": 0
   },
   "source": [
    "Only 3 of these marker genes are present in this dataset. The first two are pericentral (near the central vein), and the last one is periportal (near the portal triad)."
   ]
  },
  {
   "cell_type": "code",
   "execution_count": null,
   "id": "f540014a",
   "metadata": {
    "fig.height": 3,
    "fig.width": 9
   },
   "outputs": [],
   "source": [
    "plotSpatialFeature(sfe, markers[inds], colGeometryName = \"cellSeg\",\n",
    "                   ncol = 3, bbox = bbox_use)"
   ]
  },
  {
   "cell_type": "markdown",
   "id": "ab20f039",
   "metadata": {},
   "source": [
    "Besides hepatocytes, the liver also has many endothelial cells and Kupffer cells (macrophages). Marker genes of these cells from [@Bonnardel2019-le] are plotted to visualize these cell types in space:"
   ]
  },
  {
   "cell_type": "code",
   "execution_count": null,
   "id": "401b938e",
   "metadata": {},
   "outputs": [],
   "source": [
    "# Kuppfer cells\n",
    "kc_genes <- c(\"Timd4\", \"Vsig4\", \"Clec4f\", \"Clec1b\", \"Il18bp\", \"C6\", \"Irf7\",\n",
    "              \"Slc40a1\", \"Cdh5\", \"Nr1h3\", \"Dmpk\", \"Paqr9\", \"Pcolce2\", \"Kcna2\",\n",
    "              \"Gbp8\", \"Iigp1\", \"Helz2\", \"Cd207\", \"Icos\", \"Adcy4\", \"Slc1a2\",\n",
    "              \"Rsad2\", \"Slc16a9\", \"Cd209f\", \"Oasl1\", \"Fam167a\")\n",
    "which(kc_genes %in% rownames(sfe))"
   ]
  },
  {
   "cell_type": "markdown",
   "id": "c4c0d645",
   "metadata": {
    "lines_to_next_cell": 0
   },
   "source": [
    "Only one of the Kupffer cell markers is available in this dataset."
   ]
  },
  {
   "cell_type": "code",
   "execution_count": null,
   "id": "14ba75b5",
   "metadata": {},
   "outputs": [],
   "source": [
    "plotSpatialFeature(sfe, kc_genes[9], colGeometryName = \"cellSeg\",\n",
    "                   bbox = bbox_use)"
   ]
  },
  {
   "cell_type": "markdown",
   "id": "815f9918",
   "metadata": {},
   "source": [
    "Expression of this gene does not seem very spatially coherent."
   ]
  },
  {
   "cell_type": "code",
   "execution_count": null,
   "id": "64fab846",
   "metadata": {},
   "outputs": [],
   "source": [
    "# Endothelial cells\n",
    "lec_genes <- c(\"Rspo3\", \"Wnt2\", \"Wnt9b\", \"Pcdhgc5\", \"Ecm1\", \"Ltbp4\", \"Efnb2\")\n",
    "(inds_lec <- which(lec_genes %in% rownames(sfe)))"
   ]
  },
  {
   "cell_type": "markdown",
   "id": "29b166a1",
   "metadata": {
    "lines_to_next_cell": 0
   },
   "source": [
    "Only 3 of these endothelial cell marker genes are available in this dataset."
   ]
  },
  {
   "cell_type": "code",
   "execution_count": null,
   "id": "a01b6d28",
   "metadata": {
    "fig.height": 3,
    "fig.width": 9
   },
   "outputs": [],
   "source": [
    "plotSpatialFeature(sfe, lec_genes[inds_lec], colGeometryName = \"cellSeg\",\n",
    "                   bbox = bbox_use, ncol = 3)"
   ]
  },
  {
   "cell_type": "markdown",
   "id": "f64101b7",
   "metadata": {},
   "source": [
    "Wnt2 seems to be more pericentral, while Ltbp4 and Efnb2 seem more periportal.\n",
    "\n",
    "Some of these marker genes will show up in the top PC loadings non-spatial and spatial PCA.\n",
>>>>>>> documentation-devel
=======
>>>>>>> 552590ea8fad969b67afdba27558a1e6cb21016e
||||||| 4da3324
<<<<<<< HEAD
||||||| 11b9cb7
    "whose magnitudes seem more substantial for `nCounts` and `nGenes` if it's positive spatial autocorrelation. So there may be mild to moderate negative spatial autocorrelation.\n",
=======
    "whose magnitudes seem more substantial for `nCounts` and `nGenes` if it's positive spatial autocorrelation. So there may be mild to moderate negative spatial autocorrelation."
   ]
  },
  {
   "cell_type": "code",
   "execution_count": null,
   "id": "a7edaa53",
   "metadata": {},
   "outputs": [],
   "source": [
    "# Normalize data\n",
    "sfe <- logNormCounts(sfe)"
   ]
  },
  {
   "cell_type": "markdown",
   "id": "b54913f5",
   "metadata": {},
   "source": [
    "# Hepatic zonation\n",
    "\n",
    "This dataset comes from a relatively large piece of tissue and we need to zoom into a smaller region to better see the local structures. Here we specify a bounding box."
   ]
  },
  {
   "cell_type": "code",
   "execution_count": null,
   "id": "cbff3caa",
   "metadata": {},
   "outputs": [],
   "source": [
    "bbox_use <- c(xmin = 6100, xmax = 7100, ymin = 7500, ymax = 8500)"
   ]
  },
  {
   "cell_type": "markdown",
   "id": "8d44329f",
   "metadata": {},
   "source": [
    "A portal triad is shown near the top right of this bounding box. The two large vessels on the left and bottom right are central veins. The portal triad consists of the hepatic artery, portal vein which brings blood from the intestine, and bile duct, so it's more oxygenated. The regions around the central vein is more deoxygenated. The different oxygen and nutrient contents mean that hepatocytes play different metabolic roles in the zones between the portal triad and the central vein. Here we plot some zonation marker genes from [@Halpern2017-lq]. "
   ]
  },
  {
   "cell_type": "code",
   "execution_count": null,
   "id": "43fdceec",
   "metadata": {},
   "outputs": [],
   "source": [
    "markers <- c(\"Axin2\", \"Cyp1a2\", \"Gstm3\", \"Psmd4\", # Pericentral\n",
    "             \"Cyp2e1\", \"Asl\", \"Alb\", \"Ass1\", # Monotonic but has intermediate\n",
    "             \"Hamp\", \"Igfbp2\", \"Cyp8b1\", \"Mup3\", # Non-monotonic\n",
    "             \"Arg1\", \"Pck1\", \"C2\", \"Sdhd\") # Periportal"
   ]
  },
  {
   "cell_type": "code",
   "execution_count": null,
   "id": "bfc9a788",
   "metadata": {},
   "outputs": [],
   "source": [
    "(inds <- which(markers %in% rownames(sfe)))"
   ]
  },
  {
   "cell_type": "markdown",
   "id": "6f458948",
   "metadata": {
    "lines_to_next_cell": 0
   },
   "source": [
    "Only 3 of these marker genes are present in this dataset. The first two are pericentral (near the central vein), and the last one is periportal (near the portal triad)."
   ]
  },
  {
   "cell_type": "code",
   "execution_count": null,
   "id": "548d4a36",
   "metadata": {
    "fig.height": 3,
    "fig.width": 9
   },
   "outputs": [],
   "source": [
    "plotSpatialFeature(sfe, markers[inds], colGeometryName = \"cellSeg\",\n",
    "                   ncol = 3, bbox = bbox_use)"
   ]
  },
  {
   "cell_type": "markdown",
   "id": "06e78e1b",
   "metadata": {},
   "source": [
    "Besides hepatocytes, the liver also has many endothelial cells and Kupffer cells (macrophages). Marker genes of these cells from [@Bonnardel2019-le] are plotted to visualize these cell types in space:"
   ]
  },
  {
   "cell_type": "code",
   "execution_count": null,
   "id": "a772b283",
   "metadata": {},
   "outputs": [],
   "source": [
    "# Kuppfer cells\n",
    "kc_genes <- c(\"Timd4\", \"Vsig4\", \"Clec4f\", \"Clec1b\", \"Il18bp\", \"C6\", \"Irf7\",\n",
    "              \"Slc40a1\", \"Cdh5\", \"Nr1h3\", \"Dmpk\", \"Paqr9\", \"Pcolce2\", \"Kcna2\",\n",
    "              \"Gbp8\", \"Iigp1\", \"Helz2\", \"Cd207\", \"Icos\", \"Adcy4\", \"Slc1a2\",\n",
    "              \"Rsad2\", \"Slc16a9\", \"Cd209f\", \"Oasl1\", \"Fam167a\")\n",
    "which(kc_genes %in% rownames(sfe))"
   ]
  },
  {
   "cell_type": "markdown",
   "id": "df44cc8a",
   "metadata": {
    "lines_to_next_cell": 0
   },
   "source": [
    "Only one of the Kupffer cell markers is available in this dataset."
   ]
  },
  {
   "cell_type": "code",
   "execution_count": null,
   "id": "3a527223",
   "metadata": {},
   "outputs": [],
   "source": [
    "plotSpatialFeature(sfe, kc_genes[9], colGeometryName = \"cellSeg\",\n",
    "                   bbox = bbox_use)"
   ]
  },
  {
   "cell_type": "markdown",
   "id": "b45f53ee",
   "metadata": {},
   "source": [
    "Expression of this gene does not seem very spatially coherent."
   ]
  },
  {
   "cell_type": "code",
   "execution_count": null,
   "id": "d6f0f009",
   "metadata": {},
   "outputs": [],
   "source": [
    "# Endothelial cells\n",
    "lec_genes <- c(\"Rspo3\", \"Wnt2\", \"Wnt9b\", \"Pcdhgc5\", \"Ecm1\", \"Ltbp4\", \"Efnb2\")\n",
    "(inds_lec <- which(lec_genes %in% rownames(sfe)))"
   ]
  },
  {
   "cell_type": "markdown",
   "id": "abebef14",
   "metadata": {
    "lines_to_next_cell": 0
   },
   "source": [
    "Only 3 of these endothelial cell marker genes are available in this dataset."
   ]
  },
  {
   "cell_type": "code",
   "execution_count": null,
   "id": "8bc652f3",
   "metadata": {
    "fig.height": 3,
    "fig.width": 9
   },
   "outputs": [],
   "source": [
    "plotSpatialFeature(sfe, lec_genes[inds_lec], colGeometryName = \"cellSeg\",\n",
    "                   bbox = bbox_use, ncol = 3)"
   ]
  },
  {
   "cell_type": "markdown",
   "id": "7a52ed9d",
   "metadata": {},
   "source": [
    "Wnt2 seems to be more pericentral, while Ltbp4 and Efnb2 seem more periportal.\n",
    "\n",
    "Some of these marker genes will show up in the top PC loadings non-spatial and spatial PCA.\n",
>>>>>>> documentation-devel
||||||| 856b4c0
||||||| 11b9cb7
    "whose magnitudes seem more substantial for `nCounts` and `nGenes` if it's positive spatial autocorrelation. So there may be mild to moderate negative spatial autocorrelation.\n",
=======
    "whose magnitudes seem more substantial for `nCounts` and `nGenes` if it's positive spatial autocorrelation. So there may be mild to moderate negative spatial autocorrelation."
   ]
  },
  {
   "cell_type": "code",
   "execution_count": null,
   "id": "9a25dd87",
   "metadata": {},
   "outputs": [],
   "source": [
    "# Normalize data\n",
    "sfe <- logNormCounts(sfe)"
   ]
  },
  {
   "cell_type": "markdown",
   "id": "b99f0463",
   "metadata": {},
   "source": [
    "# Hepatic zonation\n",
    "\n",
    "This dataset comes from a relatively large piece of tissue and we need to zoom into a smaller region to better see the local structures. Here we specify a bounding box."
   ]
  },
  {
   "cell_type": "code",
   "execution_count": null,
   "id": "b25f9ec4",
   "metadata": {},
   "outputs": [],
   "source": [
    "bbox_use <- c(xmin = 6100, xmax = 7100, ymin = 7500, ymax = 8500)"
   ]
  },
  {
   "cell_type": "markdown",
   "id": "233d0775",
   "metadata": {},
   "source": [
    "A portal triad is shown near the top right of this bounding box. The two large vessels on the left and bottom right are central veins. The portal triad consists of the hepatic artery, portal vein which brings blood from the intestine, and bile duct, so it's more oxygenated. The regions around the central vein is more deoxygenated. The different oxygen and nutrient contents mean that hepatocytes play different metabolic roles in the zones between the portal triad and the central vein. Here we plot some zonation marker genes from [@Halpern2017-lq]. "
   ]
  },
  {
   "cell_type": "code",
   "execution_count": null,
   "id": "0e12051f",
   "metadata": {},
   "outputs": [],
   "source": [
    "markers <- c(\"Axin2\", \"Cyp1a2\", \"Gstm3\", \"Psmd4\", # Pericentral\n",
    "             \"Cyp2e1\", \"Asl\", \"Alb\", \"Ass1\", # Monotonic but has intermediate\n",
    "             \"Hamp\", \"Igfbp2\", \"Cyp8b1\", \"Mup3\", # Non-monotonic\n",
    "             \"Arg1\", \"Pck1\", \"C2\", \"Sdhd\") # Periportal"
   ]
  },
  {
   "cell_type": "code",
   "execution_count": null,
   "id": "99926ed4",
   "metadata": {},
   "outputs": [],
   "source": [
    "(inds <- which(markers %in% rownames(sfe)))"
   ]
  },
  {
   "cell_type": "markdown",
   "id": "b8c7eea1",
   "metadata": {
    "lines_to_next_cell": 0
   },
   "source": [
    "Only 3 of these marker genes are present in this dataset. The first two are pericentral (near the central vein), and the last one is periportal (near the portal triad)."
   ]
  },
  {
   "cell_type": "code",
   "execution_count": null,
   "id": "f540014a",
   "metadata": {
    "fig.height": 3,
    "fig.width": 9
   },
   "outputs": [],
   "source": [
    "plotSpatialFeature(sfe, markers[inds], colGeometryName = \"cellSeg\",\n",
    "                   ncol = 3, bbox = bbox_use)"
   ]
  },
  {
   "cell_type": "markdown",
   "id": "ab20f039",
   "metadata": {},
   "source": [
    "Besides hepatocytes, the liver also has many endothelial cells and Kupffer cells (macrophages). Marker genes of these cells from [@Bonnardel2019-le] are plotted to visualize these cell types in space:"
   ]
  },
  {
   "cell_type": "code",
   "execution_count": null,
   "id": "401b938e",
   "metadata": {},
   "outputs": [],
   "source": [
    "# Kuppfer cells\n",
    "kc_genes <- c(\"Timd4\", \"Vsig4\", \"Clec4f\", \"Clec1b\", \"Il18bp\", \"C6\", \"Irf7\",\n",
    "              \"Slc40a1\", \"Cdh5\", \"Nr1h3\", \"Dmpk\", \"Paqr9\", \"Pcolce2\", \"Kcna2\",\n",
    "              \"Gbp8\", \"Iigp1\", \"Helz2\", \"Cd207\", \"Icos\", \"Adcy4\", \"Slc1a2\",\n",
    "              \"Rsad2\", \"Slc16a9\", \"Cd209f\", \"Oasl1\", \"Fam167a\")\n",
    "which(kc_genes %in% rownames(sfe))"
   ]
  },
  {
   "cell_type": "markdown",
   "id": "c4c0d645",
   "metadata": {
    "lines_to_next_cell": 0
   },
   "source": [
    "Only one of the Kupffer cell markers is available in this dataset."
   ]
  },
  {
   "cell_type": "code",
   "execution_count": null,
   "id": "14ba75b5",
   "metadata": {},
   "outputs": [],
   "source": [
    "plotSpatialFeature(sfe, kc_genes[9], colGeometryName = \"cellSeg\",\n",
    "                   bbox = bbox_use)"
   ]
  },
  {
   "cell_type": "markdown",
   "id": "815f9918",
   "metadata": {},
   "source": [
    "Expression of this gene does not seem very spatially coherent."
   ]
  },
  {
   "cell_type": "code",
   "execution_count": null,
   "id": "64fab846",
   "metadata": {},
   "outputs": [],
   "source": [
    "# Endothelial cells\n",
    "lec_genes <- c(\"Rspo3\", \"Wnt2\", \"Wnt9b\", \"Pcdhgc5\", \"Ecm1\", \"Ltbp4\", \"Efnb2\")\n",
    "(inds_lec <- which(lec_genes %in% rownames(sfe)))"
   ]
  },
  {
   "cell_type": "markdown",
   "id": "29b166a1",
   "metadata": {
    "lines_to_next_cell": 0
   },
   "source": [
    "Only 3 of these endothelial cell marker genes are available in this dataset."
   ]
  },
  {
   "cell_type": "code",
   "execution_count": null,
   "id": "a01b6d28",
   "metadata": {
    "fig.height": 3,
    "fig.width": 9
   },
   "outputs": [],
   "source": [
    "plotSpatialFeature(sfe, lec_genes[inds_lec], colGeometryName = \"cellSeg\",\n",
    "                   bbox = bbox_use, ncol = 3)"
   ]
  },
  {
   "cell_type": "markdown",
   "id": "f64101b7",
   "metadata": {},
   "source": [
    "Wnt2 seems to be more pericentral, while Ltbp4 and Efnb2 seem more periportal.\n",
    "\n",
    "Some of these marker genes will show up in the top PC loadings non-spatial and spatial PCA.\n",
>>>>>>> documentation-devel
=======
>>>>>>> 552590ea8fad969b67afdba27558a1e6cb21016e
=======
>>>>>>> b6e07d13baac92b2c1c9b43f8e4113ffa87bf495
    "\n",
    "# Non-spatial PCA\n",
    "First we run non-spatial PCA, to compare to MULTISPATI."
   ]
  },
  {
   "cell_type": "code",
   "execution_count": null,
<<<<<<< HEAD
<<<<<<< HEAD
<<<<<<< HEAD
<<<<<<< HEAD
<<<<<<< HEAD
   "id": "ce49d92c",
||||||| 11b9cb7
   "id": "56f3ffe7",
   "metadata": {},
   "outputs": [],
   "source": [
    "sfe <- logNormCounts(sfe)"
   ]
  },
  {
   "cell_type": "code",
   "execution_count": null,
   "id": "b6f8bc25",
=======
   "id": "a2097b33",
>>>>>>> documentation-devel
||||||| 614e9b1
   "id": "a2097b33",
=======
   "id": "d0974196",
>>>>>>> documentation-devel
||||||| 856b4c0
<<<<<<< HEAD
   "id": "ce49d92c",
||||||| 11b9cb7
   "id": "56f3ffe7",
   "metadata": {},
   "outputs": [],
   "source": [
    "sfe <- logNormCounts(sfe)"
   ]
  },
  {
   "cell_type": "code",
   "execution_count": null,
   "id": "b6f8bc25",
=======
   "id": "a2097b33",
>>>>>>> documentation-devel
=======
   "id": "184094bb",
>>>>>>> 552590ea8fad969b67afdba27558a1e6cb21016e
||||||| 452c944
   "id": "d0974196",
=======
   "id": "82cfeff7",
>>>>>>> documentation-devel
||||||| 4da3324
<<<<<<< HEAD
<<<<<<< HEAD
<<<<<<< HEAD
   "id": "ce49d92c",
||||||| 11b9cb7
   "id": "56f3ffe7",
   "metadata": {},
   "outputs": [],
   "source": [
    "sfe <- logNormCounts(sfe)"
   ]
  },
  {
   "cell_type": "code",
   "execution_count": null,
   "id": "b6f8bc25",
=======
   "id": "a2097b33",
>>>>>>> documentation-devel
||||||| 614e9b1
   "id": "a2097b33",
=======
   "id": "d0974196",
>>>>>>> documentation-devel
||||||| 856b4c0
<<<<<<< HEAD
   "id": "ce49d92c",
||||||| 11b9cb7
   "id": "56f3ffe7",
   "metadata": {},
   "outputs": [],
   "source": [
    "sfe <- logNormCounts(sfe)"
   ]
  },
  {
   "cell_type": "code",
   "execution_count": null,
   "id": "b6f8bc25",
=======
   "id": "a2097b33",
>>>>>>> documentation-devel
=======
   "id": "184094bb",
>>>>>>> 552590ea8fad969b67afdba27558a1e6cb21016e
=======
   "id": "01815a75",
>>>>>>> b6e07d13baac92b2c1c9b43f8e4113ffa87bf495
   "metadata": {},
   "outputs": [],
   "source": [
    "set.seed(29)\n",
    "system.time(\n",
    "    sfe <- runPCA(sfe, ncomponents = 20, subset_row = !is_blank,\n",
    "                  exprs_values = \"logcounts\",\n",
    "                  scale = TRUE, BSPARAM = IrlbaParam())\n",
    ")\n",
    "gc()"
   ]
  },
  {
   "cell_type": "markdown",
<<<<<<< HEAD
<<<<<<< HEAD
<<<<<<< HEAD
<<<<<<< HEAD
<<<<<<< HEAD
   "id": "580e9e51",
||||||| 11b9cb7
   "id": "b42d0071",
=======
   "id": "b011a000",
>>>>>>> documentation-devel
||||||| 614e9b1
   "id": "b011a000",
=======
   "id": "7bc03d7e",
>>>>>>> documentation-devel
||||||| 856b4c0
<<<<<<< HEAD
   "id": "580e9e51",
||||||| 11b9cb7
   "id": "b42d0071",
=======
   "id": "b011a000",
>>>>>>> documentation-devel
=======
   "id": "4fa9eb1d",
>>>>>>> 552590ea8fad969b67afdba27558a1e6cb21016e
||||||| 452c944
   "id": "7bc03d7e",
=======
   "id": "320fbcb6",
>>>>>>> documentation-devel
||||||| 4da3324
<<<<<<< HEAD
<<<<<<< HEAD
<<<<<<< HEAD
   "id": "580e9e51",
||||||| 11b9cb7
   "id": "b42d0071",
=======
   "id": "b011a000",
>>>>>>> documentation-devel
||||||| 614e9b1
   "id": "b011a000",
=======
   "id": "7bc03d7e",
>>>>>>> documentation-devel
||||||| 856b4c0
<<<<<<< HEAD
   "id": "580e9e51",
||||||| 11b9cb7
   "id": "b42d0071",
=======
   "id": "b011a000",
>>>>>>> documentation-devel
=======
   "id": "4fa9eb1d",
>>>>>>> 552590ea8fad969b67afdba27558a1e6cb21016e
=======
   "id": "ed83c5b9",
>>>>>>> b6e07d13baac92b2c1c9b43f8e4113ffa87bf495
   "metadata": {},
   "source": [
    "That's pretty quick for almost 400,000 cells, but there aren't that many genes here. Use the elbow plot to see variance explained by each PC:"
   ]
  },
  {
   "cell_type": "code",
   "execution_count": null,
<<<<<<< HEAD
<<<<<<< HEAD
<<<<<<< HEAD
<<<<<<< HEAD
<<<<<<< HEAD
   "id": "d6f56485",
||||||| 11b9cb7
   "id": "3f9f1953",
=======
   "id": "6f3b6253",
>>>>>>> documentation-devel
||||||| 614e9b1
   "id": "6f3b6253",
=======
   "id": "c2133aac",
>>>>>>> documentation-devel
||||||| 856b4c0
<<<<<<< HEAD
   "id": "d6f56485",
||||||| 11b9cb7
   "id": "3f9f1953",
=======
   "id": "6f3b6253",
>>>>>>> documentation-devel
=======
   "id": "2fc7a031",
>>>>>>> 552590ea8fad969b67afdba27558a1e6cb21016e
||||||| 452c944
   "id": "c2133aac",
=======
   "id": "4b80d8eb",
>>>>>>> documentation-devel
||||||| 4da3324
<<<<<<< HEAD
<<<<<<< HEAD
<<<<<<< HEAD
   "id": "d6f56485",
||||||| 11b9cb7
   "id": "3f9f1953",
=======
   "id": "6f3b6253",
>>>>>>> documentation-devel
||||||| 614e9b1
   "id": "6f3b6253",
=======
   "id": "c2133aac",
>>>>>>> documentation-devel
||||||| 856b4c0
<<<<<<< HEAD
   "id": "d6f56485",
||||||| 11b9cb7
   "id": "3f9f1953",
=======
   "id": "6f3b6253",
>>>>>>> documentation-devel
=======
   "id": "2fc7a031",
>>>>>>> 552590ea8fad969b67afdba27558a1e6cb21016e
=======
   "id": "2296167b",
>>>>>>> b6e07d13baac92b2c1c9b43f8e4113ffa87bf495
   "metadata": {},
   "outputs": [],
   "source": [
    "ElbowPlot(sfe)"
   ]
  },
  {
   "cell_type": "markdown",
<<<<<<< HEAD
<<<<<<< HEAD
<<<<<<< HEAD
<<<<<<< HEAD
<<<<<<< HEAD
   "id": "2bcc2f85",
||||||| 11b9cb7
   "id": "dcbe9b78",
=======
   "id": "8ed3c539",
>>>>>>> documentation-devel
||||||| 614e9b1
   "id": "8ed3c539",
=======
   "id": "8c93432c",
>>>>>>> documentation-devel
||||||| 856b4c0
<<<<<<< HEAD
   "id": "2bcc2f85",
||||||| 11b9cb7
   "id": "dcbe9b78",
=======
   "id": "8ed3c539",
>>>>>>> documentation-devel
=======
   "id": "e7358cef",
>>>>>>> 552590ea8fad969b67afdba27558a1e6cb21016e
||||||| 452c944
   "id": "8c93432c",
=======
   "id": "1145d30d",
>>>>>>> documentation-devel
||||||| 4da3324
<<<<<<< HEAD
<<<<<<< HEAD
<<<<<<< HEAD
   "id": "2bcc2f85",
||||||| 11b9cb7
   "id": "dcbe9b78",
=======
   "id": "8ed3c539",
>>>>>>> documentation-devel
||||||| 614e9b1
   "id": "8ed3c539",
=======
   "id": "8c93432c",
>>>>>>> documentation-devel
||||||| 856b4c0
<<<<<<< HEAD
   "id": "2bcc2f85",
||||||| 11b9cb7
   "id": "dcbe9b78",
=======
   "id": "8ed3c539",
>>>>>>> documentation-devel
=======
   "id": "e7358cef",
>>>>>>> 552590ea8fad969b67afdba27558a1e6cb21016e
=======
   "id": "5083f922",
>>>>>>> b6e07d13baac92b2c1c9b43f8e4113ffa87bf495
   "metadata": {
    "lines_to_next_cell": 0
   },
   "source": [
    "Plot top gene loadings in each PC"
   ]
  },
  {
   "cell_type": "code",
   "execution_count": null,
<<<<<<< HEAD
<<<<<<< HEAD
<<<<<<< HEAD
<<<<<<< HEAD
<<<<<<< HEAD
   "id": "9ad5e37f",
||||||| 11b9cb7
   "id": "a2603144",
=======
   "id": "06636f0b",
>>>>>>> documentation-devel
||||||| 614e9b1
   "id": "06636f0b",
=======
   "id": "5e91b447",
>>>>>>> documentation-devel
||||||| 856b4c0
<<<<<<< HEAD
   "id": "9ad5e37f",
||||||| 11b9cb7
   "id": "a2603144",
=======
   "id": "06636f0b",
>>>>>>> documentation-devel
=======
   "id": "ecfe8879",
>>>>>>> 552590ea8fad969b67afdba27558a1e6cb21016e
||||||| 452c944
   "id": "5e91b447",
=======
   "id": "fac44ab3",
>>>>>>> documentation-devel
||||||| 4da3324
<<<<<<< HEAD
<<<<<<< HEAD
<<<<<<< HEAD
   "id": "9ad5e37f",
||||||| 11b9cb7
   "id": "a2603144",
=======
   "id": "06636f0b",
>>>>>>> documentation-devel
||||||| 614e9b1
   "id": "06636f0b",
=======
   "id": "5e91b447",
>>>>>>> documentation-devel
||||||| 856b4c0
<<<<<<< HEAD
   "id": "9ad5e37f",
||||||| 11b9cb7
   "id": "a2603144",
=======
   "id": "06636f0b",
>>>>>>> documentation-devel
=======
   "id": "ecfe8879",
>>>>>>> 552590ea8fad969b67afdba27558a1e6cb21016e
=======
   "id": "8851d4ce",
>>>>>>> b6e07d13baac92b2c1c9b43f8e4113ffa87bf495
   "metadata": {},
   "outputs": [],
   "source": [
    "plotDimLoadings(sfe)"
   ]
  },
  {
   "cell_type": "markdown",
<<<<<<< HEAD
<<<<<<< HEAD
<<<<<<< HEAD
<<<<<<< HEAD
<<<<<<< HEAD
   "id": "61e7f939",
||||||| 11b9cb7
   "id": "375fcb39",
=======
   "id": "a0ffa965",
>>>>>>> documentation-devel
||||||| 614e9b1
   "id": "a0ffa965",
=======
   "id": "2d1aa90e",
>>>>>>> documentation-devel
||||||| 856b4c0
<<<<<<< HEAD
   "id": "61e7f939",
||||||| 11b9cb7
   "id": "375fcb39",
=======
   "id": "a0ffa965",
>>>>>>> documentation-devel
=======
   "id": "6d9e47e4",
>>>>>>> 552590ea8fad969b67afdba27558a1e6cb21016e
||||||| 452c944
   "id": "2d1aa90e",
=======
   "id": "2114a5ff",
>>>>>>> documentation-devel
||||||| 4da3324
<<<<<<< HEAD
<<<<<<< HEAD
<<<<<<< HEAD
   "id": "61e7f939",
||||||| 11b9cb7
   "id": "375fcb39",
=======
   "id": "a0ffa965",
>>>>>>> documentation-devel
||||||| 614e9b1
   "id": "a0ffa965",
=======
   "id": "2d1aa90e",
>>>>>>> documentation-devel
||||||| 856b4c0
<<<<<<< HEAD
   "id": "61e7f939",
||||||| 11b9cb7
   "id": "375fcb39",
=======
   "id": "a0ffa965",
>>>>>>> documentation-devel
=======
   "id": "6d9e47e4",
>>>>>>> 552590ea8fad969b67afdba27558a1e6cb21016e
=======
   "id": "35318939",
>>>>>>> b6e07d13baac92b2c1c9b43f8e4113ffa87bf495
   "metadata": {
    "lines_to_next_cell": 0
   },
   "source": [
    "Many of these genes seem to be related to the endothelium. PC1 and PC4 concern the Kupffer cells as well, as the Kupffer cell marker gene Cdh5 has high loading.\n",
    "\n",
    "Plot the first 4 PCs in space"
   ]
  },
  {
   "cell_type": "code",
   "execution_count": null,
<<<<<<< HEAD
<<<<<<< HEAD
<<<<<<< HEAD
<<<<<<< HEAD
<<<<<<< HEAD
   "id": "7624c093",
||||||| 11b9cb7
   "id": "7c9320ee",
=======
   "id": "be2b99a9",
>>>>>>> documentation-devel
||||||| 614e9b1
   "id": "be2b99a9",
=======
   "id": "654bb339",
>>>>>>> documentation-devel
||||||| 856b4c0
<<<<<<< HEAD
   "id": "7624c093",
||||||| 11b9cb7
   "id": "7c9320ee",
=======
   "id": "be2b99a9",
>>>>>>> documentation-devel
=======
   "id": "04584f78",
>>>>>>> 552590ea8fad969b67afdba27558a1e6cb21016e
||||||| 452c944
   "id": "654bb339",
=======
   "id": "6003cbf0",
>>>>>>> documentation-devel
||||||| 4da3324
<<<<<<< HEAD
<<<<<<< HEAD
<<<<<<< HEAD
   "id": "7624c093",
||||||| 11b9cb7
   "id": "7c9320ee",
=======
   "id": "be2b99a9",
>>>>>>> documentation-devel
||||||| 614e9b1
   "id": "be2b99a9",
=======
   "id": "654bb339",
>>>>>>> documentation-devel
||||||| 856b4c0
<<<<<<< HEAD
   "id": "7624c093",
||||||| 11b9cb7
   "id": "7c9320ee",
=======
   "id": "be2b99a9",
>>>>>>> documentation-devel
=======
   "id": "04584f78",
>>>>>>> 552590ea8fad969b67afdba27558a1e6cb21016e
=======
   "id": "9b179213",
>>>>>>> b6e07d13baac92b2c1c9b43f8e4113ffa87bf495
   "metadata": {
    "fig.height": 7,
    "fig.width": 9
   },
   "outputs": [],
   "source": [
    "spatialReducedDim(sfe, \"PCA\", 4, colGeometryName = \"centroids\", scattermore = TRUE,\n",
    "                  divergent = TRUE, diverge_center = 0)"
   ]
  },
  {
   "cell_type": "markdown",
<<<<<<< HEAD
<<<<<<< HEAD
<<<<<<< HEAD
<<<<<<< HEAD
<<<<<<< HEAD
   "id": "e0e2e05d",
||||||| 11b9cb7
   "id": "a6e13fea",
=======
   "id": "92528d51",
>>>>>>> documentation-devel
||||||| 614e9b1
   "id": "92528d51",
=======
   "id": "3e1745f7",
>>>>>>> documentation-devel
||||||| 856b4c0
<<<<<<< HEAD
   "id": "e0e2e05d",
||||||| 11b9cb7
   "id": "a6e13fea",
=======
   "id": "92528d51",
>>>>>>> documentation-devel
=======
   "id": "7c772ff1",
>>>>>>> 552590ea8fad969b67afdba27558a1e6cb21016e
||||||| 452c944
   "id": "3e1745f7",
=======
   "id": "b1526622",
>>>>>>> documentation-devel
||||||| 4da3324
<<<<<<< HEAD
<<<<<<< HEAD
<<<<<<< HEAD
   "id": "e0e2e05d",
||||||| 11b9cb7
   "id": "a6e13fea",
=======
   "id": "92528d51",
>>>>>>> documentation-devel
||||||| 614e9b1
   "id": "92528d51",
=======
   "id": "3e1745f7",
>>>>>>> documentation-devel
||||||| 856b4c0
<<<<<<< HEAD
   "id": "e0e2e05d",
||||||| 11b9cb7
   "id": "a6e13fea",
=======
   "id": "92528d51",
>>>>>>> documentation-devel
=======
   "id": "7c772ff1",
>>>>>>> 552590ea8fad969b67afdba27558a1e6cb21016e
=======
   "id": "7fde9d3a",
>>>>>>> b6e07d13baac92b2c1c9b43f8e4113ffa87bf495
   "metadata": {},
   "source": [
    "PC1 and PC4 highlight the major blood vessels, while PC2 and PC3 have less spatial structure. While in the CosMX and Xenium datasets on this website, the top PCs have clear spatial structures despite the absence of spatial information in non-spatial PCA because of clear spatial compartments for some cell types, which does not seem to be the case in this dataset except for the blood vessels. We have seen above that some genes have strong spatial structures. \n",
    "\n",
    "While PC2 and PC3 don't seem to have large scale spatial structure, they may have more local spatial structure not obvious from plotting the entire section, so we zoom into a bounding box which shows hepatic zonation."
   ]
  },
  {
   "cell_type": "code",
   "execution_count": null,
<<<<<<< HEAD
<<<<<<< HEAD
<<<<<<< HEAD
<<<<<<< HEAD
<<<<<<< HEAD
   "id": "296a0da8",
||||||| 11b9cb7
   "id": "67cee722",
   "metadata": {},
   "outputs": [],
   "source": [
    "bbox_use <- c(xmin = 3000, xmax = 3500, ymin = 2500, ymax = 3000)"
   ]
  },
  {
   "cell_type": "code",
   "execution_count": null,
   "id": "b05ddf7d",
=======
   "id": "b1b2317f",
>>>>>>> documentation-devel
||||||| 614e9b1
   "id": "b1b2317f",
=======
   "id": "360c7b5d",
>>>>>>> documentation-devel
||||||| 856b4c0
<<<<<<< HEAD
   "id": "296a0da8",
||||||| 11b9cb7
   "id": "67cee722",
   "metadata": {},
   "outputs": [],
   "source": [
    "bbox_use <- c(xmin = 3000, xmax = 3500, ymin = 2500, ymax = 3000)"
   ]
  },
  {
   "cell_type": "code",
   "execution_count": null,
   "id": "b05ddf7d",
=======
   "id": "b1b2317f",
>>>>>>> documentation-devel
=======
   "id": "7b0eb905",
>>>>>>> 552590ea8fad969b67afdba27558a1e6cb21016e
||||||| 452c944
   "id": "360c7b5d",
=======
   "id": "52bbc404",
>>>>>>> documentation-devel
||||||| 4da3324
<<<<<<< HEAD
<<<<<<< HEAD
<<<<<<< HEAD
   "id": "296a0da8",
||||||| 11b9cb7
   "id": "67cee722",
   "metadata": {},
   "outputs": [],
   "source": [
    "bbox_use <- c(xmin = 3000, xmax = 3500, ymin = 2500, ymax = 3000)"
   ]
  },
  {
   "cell_type": "code",
   "execution_count": null,
   "id": "b05ddf7d",
=======
   "id": "b1b2317f",
>>>>>>> documentation-devel
||||||| 614e9b1
   "id": "b1b2317f",
=======
   "id": "360c7b5d",
>>>>>>> documentation-devel
||||||| 856b4c0
<<<<<<< HEAD
   "id": "296a0da8",
||||||| 11b9cb7
   "id": "67cee722",
   "metadata": {},
   "outputs": [],
   "source": [
    "bbox_use <- c(xmin = 3000, xmax = 3500, ymin = 2500, ymax = 3000)"
   ]
  },
  {
   "cell_type": "code",
   "execution_count": null,
   "id": "b05ddf7d",
=======
   "id": "b1b2317f",
>>>>>>> documentation-devel
=======
   "id": "7b0eb905",
>>>>>>> 552590ea8fad969b67afdba27558a1e6cb21016e
=======
   "id": "08945b94",
>>>>>>> b6e07d13baac92b2c1c9b43f8e4113ffa87bf495
   "metadata": {
    "fig.height": 7,
    "fig.width": 9
   },
   "outputs": [],
   "source": [
    "spatialReducedDim(sfe, \"PCA\", ncomponents = 4, colGeometryName = \"cellSeg\",\n",
    "                  bbox = bbox_use, divergent = TRUE, diverge_center = 0)"
   ]
  },
  {
   "cell_type": "markdown",
<<<<<<< HEAD
<<<<<<< HEAD
<<<<<<< HEAD
<<<<<<< HEAD
<<<<<<< HEAD
   "id": "a890344a",
||||||| 11b9cb7
   "id": "7d8f10d1",
=======
   "id": "40088a7d",
>>>>>>> documentation-devel
||||||| 614e9b1
   "id": "40088a7d",
=======
   "id": "87776a43",
>>>>>>> documentation-devel
||||||| 856b4c0
<<<<<<< HEAD
   "id": "a890344a",
||||||| 11b9cb7
   "id": "7d8f10d1",
=======
   "id": "40088a7d",
>>>>>>> documentation-devel
=======
   "id": "57b93e0c",
>>>>>>> 552590ea8fad969b67afdba27558a1e6cb21016e
||||||| 452c944
   "id": "87776a43",
=======
   "id": "d573bbd7",
>>>>>>> documentation-devel
||||||| 4da3324
<<<<<<< HEAD
<<<<<<< HEAD
<<<<<<< HEAD
   "id": "a890344a",
||||||| 11b9cb7
   "id": "7d8f10d1",
=======
   "id": "40088a7d",
>>>>>>> documentation-devel
||||||| 614e9b1
   "id": "40088a7d",
=======
   "id": "87776a43",
>>>>>>> documentation-devel
||||||| 856b4c0
<<<<<<< HEAD
   "id": "a890344a",
||||||| 11b9cb7
   "id": "7d8f10d1",
=======
   "id": "40088a7d",
>>>>>>> documentation-devel
=======
   "id": "57b93e0c",
>>>>>>> 552590ea8fad969b67afdba27558a1e6cb21016e
=======
   "id": "ef377ef0",
>>>>>>> b6e07d13baac92b2c1c9b43f8e4113ffa87bf495
   "metadata": {},
   "source": [
    "There's some spatial structure at a smaller scale, perhaps some negative spatial autocorrelation.\n",
    "\n",
    "# MULTISPATI PCA"
   ]
  },
  {
   "cell_type": "code",
   "execution_count": null,
<<<<<<< HEAD
<<<<<<< HEAD
<<<<<<< HEAD
<<<<<<< HEAD
<<<<<<< HEAD
   "id": "755e3592",
||||||| 11b9cb7
   "id": "850f09e8",
=======
   "id": "f85ee4d3",
>>>>>>> documentation-devel
||||||| 614e9b1
   "id": "f85ee4d3",
=======
   "id": "456b6a5b",
>>>>>>> documentation-devel
||||||| 856b4c0
<<<<<<< HEAD
   "id": "755e3592",
||||||| 11b9cb7
   "id": "850f09e8",
=======
   "id": "f85ee4d3",
>>>>>>> documentation-devel
=======
   "id": "c5550782",
>>>>>>> 552590ea8fad969b67afdba27558a1e6cb21016e
||||||| 452c944
   "id": "456b6a5b",
=======
   "id": "a0080ed7",
>>>>>>> documentation-devel
||||||| 4da3324
<<<<<<< HEAD
<<<<<<< HEAD
<<<<<<< HEAD
   "id": "755e3592",
||||||| 11b9cb7
   "id": "850f09e8",
=======
   "id": "f85ee4d3",
>>>>>>> documentation-devel
||||||| 614e9b1
   "id": "f85ee4d3",
=======
   "id": "456b6a5b",
>>>>>>> documentation-devel
||||||| 856b4c0
<<<<<<< HEAD
   "id": "755e3592",
||||||| 11b9cb7
   "id": "850f09e8",
=======
   "id": "f85ee4d3",
>>>>>>> documentation-devel
=======
   "id": "c5550782",
>>>>>>> 552590ea8fad969b67afdba27558a1e6cb21016e
=======
   "id": "bedd0d14",
>>>>>>> b6e07d13baac92b2c1c9b43f8e4113ffa87bf495
   "metadata": {},
   "outputs": [],
   "source": [
    "system.time({\n",
    "    sfe <- runMultivariate(sfe, \"multispati\", colGraphName = \"knn5\", nfposi = 20,\n",
    "                       nfnega = 20)\n",
    "})"
   ]
  },
  {
   "cell_type": "markdown",
<<<<<<< HEAD
<<<<<<< HEAD
<<<<<<< HEAD
<<<<<<< HEAD
<<<<<<< HEAD
   "id": "3334f038",
||||||| 11b9cb7
   "id": "86cf7f9c",
=======
   "id": "57497653",
>>>>>>> documentation-devel
||||||| 614e9b1
   "id": "57497653",
=======
   "id": "86a6d247",
>>>>>>> documentation-devel
||||||| 856b4c0
<<<<<<< HEAD
   "id": "3334f038",
||||||| 11b9cb7
   "id": "86cf7f9c",
=======
   "id": "57497653",
>>>>>>> documentation-devel
=======
   "id": "501ece35",
>>>>>>> 552590ea8fad969b67afdba27558a1e6cb21016e
||||||| 452c944
   "id": "86a6d247",
=======
   "id": "98f942b6",
>>>>>>> documentation-devel
||||||| 4da3324
<<<<<<< HEAD
<<<<<<< HEAD
<<<<<<< HEAD
   "id": "3334f038",
||||||| 11b9cb7
   "id": "86cf7f9c",
=======
   "id": "57497653",
>>>>>>> documentation-devel
||||||| 614e9b1
   "id": "57497653",
=======
   "id": "86a6d247",
>>>>>>> documentation-devel
||||||| 856b4c0
<<<<<<< HEAD
   "id": "3334f038",
||||||| 11b9cb7
   "id": "86cf7f9c",
=======
   "id": "57497653",
>>>>>>> documentation-devel
=======
   "id": "501ece35",
>>>>>>> 552590ea8fad969b67afdba27558a1e6cb21016e
=======
   "id": "5eb1a634",
>>>>>>> b6e07d13baac92b2c1c9b43f8e4113ffa87bf495
   "metadata": {
    "lines_to_next_cell": 0
   },
   "source": [
    "Then plot the most positive and most negative eigenvalues. Note that the eigenvalues here are not variance explained. Instead, they are the product of variance explained and Moran's I. So the most positive eigenvalues correspond to eigenvectors that simultaneously explain more variance and have large positive Moran's I. The most negative eigenvalues correspond to eigenvectors that simultaneously explain more variance and have negative Moran's I."
   ]
  },
  {
   "cell_type": "code",
   "execution_count": null,
<<<<<<< HEAD
<<<<<<< HEAD
<<<<<<< HEAD
<<<<<<< HEAD
<<<<<<< HEAD
   "id": "cf91f198",
||||||| 11b9cb7
   "id": "fbd9614d",
=======
   "id": "fd893100",
>>>>>>> documentation-devel
||||||| 614e9b1
   "id": "fd893100",
=======
   "id": "c05c78b5",
>>>>>>> documentation-devel
||||||| 856b4c0
<<<<<<< HEAD
   "id": "cf91f198",
||||||| 11b9cb7
   "id": "fbd9614d",
=======
   "id": "fd893100",
>>>>>>> documentation-devel
=======
   "id": "9e357f9e",
>>>>>>> 552590ea8fad969b67afdba27558a1e6cb21016e
||||||| 452c944
   "id": "c05c78b5",
=======
   "id": "ebef5815",
>>>>>>> documentation-devel
||||||| 4da3324
<<<<<<< HEAD
<<<<<<< HEAD
<<<<<<< HEAD
   "id": "cf91f198",
||||||| 11b9cb7
   "id": "fbd9614d",
=======
   "id": "fd893100",
>>>>>>> documentation-devel
||||||| 614e9b1
   "id": "fd893100",
=======
   "id": "c05c78b5",
>>>>>>> documentation-devel
||||||| 856b4c0
<<<<<<< HEAD
   "id": "cf91f198",
||||||| 11b9cb7
   "id": "fbd9614d",
=======
   "id": "fd893100",
>>>>>>> documentation-devel
=======
   "id": "9e357f9e",
>>>>>>> 552590ea8fad969b67afdba27558a1e6cb21016e
=======
   "id": "0d9ac19b",
>>>>>>> b6e07d13baac92b2c1c9b43f8e4113ffa87bf495
   "metadata": {},
   "outputs": [],
   "source": [
    "ElbowPlot(sfe, nfnega = 20, reduction = \"multispati\")"
   ]
  },
  {
   "cell_type": "markdown",
<<<<<<< HEAD
<<<<<<< HEAD
<<<<<<< HEAD
<<<<<<< HEAD
<<<<<<< HEAD
   "id": "44a3c121",
||||||| 11b9cb7
   "id": "a318cd7e",
=======
   "id": "10e385d5",
>>>>>>> documentation-devel
||||||| 614e9b1
   "id": "10e385d5",
=======
   "id": "c8875669",
>>>>>>> documentation-devel
||||||| 856b4c0
<<<<<<< HEAD
   "id": "44a3c121",
||||||| 11b9cb7
   "id": "a318cd7e",
=======
   "id": "10e385d5",
>>>>>>> documentation-devel
=======
   "id": "e2fb9c05",
>>>>>>> 552590ea8fad969b67afdba27558a1e6cb21016e
||||||| 452c944
   "id": "c8875669",
=======
   "id": "6410ad94",
>>>>>>> documentation-devel
||||||| 4da3324
<<<<<<< HEAD
<<<<<<< HEAD
<<<<<<< HEAD
   "id": "44a3c121",
||||||| 11b9cb7
   "id": "a318cd7e",
=======
   "id": "10e385d5",
>>>>>>> documentation-devel
||||||| 614e9b1
   "id": "10e385d5",
=======
   "id": "c8875669",
>>>>>>> documentation-devel
||||||| 856b4c0
<<<<<<< HEAD
   "id": "44a3c121",
||||||| 11b9cb7
   "id": "a318cd7e",
=======
   "id": "10e385d5",
>>>>>>> documentation-devel
=======
   "id": "e2fb9c05",
>>>>>>> 552590ea8fad969b67afdba27558a1e6cb21016e
=======
   "id": "37ce4932",
>>>>>>> b6e07d13baac92b2c1c9b43f8e4113ffa87bf495
   "metadata": {},
   "source": [
    "Here the positive eigenvalues drop sharply from PC1 to PC4, and there is only one very negative eigenvalue which might be interesting, which is unsurprising given the moderately negative Moran's I for `nCounts` and `nGenes`. However, from the [first MERFISH vignette](https://pachterlab.github.io/voyager/articles/vig6_merfish.html#morans-i), none of the genes have very negative Moran's I. Perhaps the negative eigenvalue comes from negative spatial autocorrelation in a gene program or \"eigengene\" and is not obvious from individual genes. This is the beauty of multivariate analysis.\n",
    "\n",
    "What do these components mean? Each component is a linear combination of genes to maximize the product of variance explained and Moran's I. The second component maximizes this product provided that it's orthogonal to the first component, and so on. As the loss in variance explained is usually not huge, these components can be considered axes along which _spatially coherent_ groups of spots are separated from each other as much as possible according to expression of the highly variable genes, so in theory, clustering with positive MULTISPATI components should give more spatially coherent clusters. Because of the spatial coherence, MULTISPATI might be more robust to outliers."
   ]
  },
  {
   "cell_type": "code",
   "execution_count": null,
<<<<<<< HEAD
<<<<<<< HEAD
<<<<<<< HEAD
<<<<<<< HEAD
<<<<<<< HEAD
   "id": "597f806f",
||||||| 11b9cb7
   "id": "b0a43cfa",
=======
   "id": "37ca49f7",
>>>>>>> documentation-devel
||||||| 614e9b1
   "id": "37ca49f7",
=======
   "id": "bb0cd5a4",
>>>>>>> documentation-devel
||||||| 856b4c0
<<<<<<< HEAD
   "id": "597f806f",
||||||| 11b9cb7
   "id": "b0a43cfa",
=======
   "id": "37ca49f7",
>>>>>>> documentation-devel
=======
   "id": "cdad1bb4",
>>>>>>> 552590ea8fad969b67afdba27558a1e6cb21016e
||||||| 452c944
   "id": "bb0cd5a4",
=======
   "id": "bfc0eccd",
>>>>>>> documentation-devel
||||||| 4da3324
<<<<<<< HEAD
<<<<<<< HEAD
<<<<<<< HEAD
   "id": "597f806f",
||||||| 11b9cb7
   "id": "b0a43cfa",
=======
   "id": "37ca49f7",
>>>>>>> documentation-devel
||||||| 614e9b1
   "id": "37ca49f7",
=======
   "id": "bb0cd5a4",
>>>>>>> documentation-devel
||||||| 856b4c0
<<<<<<< HEAD
   "id": "597f806f",
||||||| 11b9cb7
   "id": "b0a43cfa",
=======
   "id": "37ca49f7",
>>>>>>> documentation-devel
=======
   "id": "cdad1bb4",
>>>>>>> 552590ea8fad969b67afdba27558a1e6cb21016e
=======
   "id": "2812735a",
>>>>>>> b6e07d13baac92b2c1c9b43f8e4113ffa87bf495
   "metadata": {},
   "outputs": [],
   "source": [
    "plotDimLoadings(sfe, dims = c(1:3, 40), reduction = \"multispati\")"
   ]
  },
  {
   "cell_type": "markdown",
<<<<<<< HEAD
<<<<<<< HEAD
<<<<<<< HEAD
<<<<<<< HEAD
<<<<<<< HEAD
   "id": "ec31080c",
||||||| 11b9cb7
   "id": "cfd74663",
=======
   "id": "e608aa79",
>>>>>>> documentation-devel
||||||| 614e9b1
   "id": "e608aa79",
=======
   "id": "ea1c976f",
>>>>>>> documentation-devel
||||||| 856b4c0
<<<<<<< HEAD
   "id": "ec31080c",
||||||| 11b9cb7
   "id": "cfd74663",
=======
   "id": "e608aa79",
>>>>>>> documentation-devel
=======
   "id": "66fbe405",
>>>>>>> 552590ea8fad969b67afdba27558a1e6cb21016e
||||||| 452c944
   "id": "ea1c976f",
=======
   "id": "b0cce345",
>>>>>>> documentation-devel
||||||| 4da3324
<<<<<<< HEAD
<<<<<<< HEAD
<<<<<<< HEAD
   "id": "ec31080c",
||||||| 11b9cb7
   "id": "cfd74663",
=======
   "id": "e608aa79",
>>>>>>> documentation-devel
||||||| 614e9b1
   "id": "e608aa79",
=======
   "id": "ea1c976f",
>>>>>>> documentation-devel
||||||| 856b4c0
<<<<<<< HEAD
   "id": "ec31080c",
||||||| 11b9cb7
   "id": "cfd74663",
=======
   "id": "e608aa79",
>>>>>>> documentation-devel
=======
   "id": "66fbe405",
>>>>>>> 552590ea8fad969b67afdba27558a1e6cb21016e
=======
   "id": "2ea81a47",
>>>>>>> b6e07d13baac92b2c1c9b43f8e4113ffa87bf495
   "metadata": {
    "lines_to_next_cell": 0
   },
   "source": [
    "From gene loadings, PC40 seems to separate endothelial cells and Kupffer cells from hepatocytes.\n",
    "\n",
    "Plot the these PCs:"
   ]
  },
  {
   "cell_type": "code",
   "execution_count": null,
<<<<<<< HEAD
<<<<<<< HEAD
<<<<<<< HEAD
<<<<<<< HEAD
<<<<<<< HEAD
   "id": "c4b9ab9b",
||||||| 11b9cb7
   "id": "b463fb7c",
=======
   "id": "fef74282",
>>>>>>> documentation-devel
||||||| 614e9b1
   "id": "fef74282",
=======
   "id": "7a826a6a",
>>>>>>> documentation-devel
||||||| 856b4c0
<<<<<<< HEAD
   "id": "c4b9ab9b",
||||||| 11b9cb7
   "id": "b463fb7c",
=======
   "id": "fef74282",
>>>>>>> documentation-devel
=======
   "id": "95bcc5df",
>>>>>>> 552590ea8fad969b67afdba27558a1e6cb21016e
||||||| 452c944
   "id": "7a826a6a",
=======
   "id": "e15e44b8",
>>>>>>> documentation-devel
||||||| 4da3324
<<<<<<< HEAD
<<<<<<< HEAD
<<<<<<< HEAD
   "id": "c4b9ab9b",
||||||| 11b9cb7
   "id": "b463fb7c",
=======
   "id": "fef74282",
>>>>>>> documentation-devel
||||||| 614e9b1
   "id": "fef74282",
=======
   "id": "7a826a6a",
>>>>>>> documentation-devel
||||||| 856b4c0
<<<<<<< HEAD
   "id": "c4b9ab9b",
||||||| 11b9cb7
   "id": "b463fb7c",
=======
   "id": "fef74282",
>>>>>>> documentation-devel
=======
   "id": "95bcc5df",
>>>>>>> 552590ea8fad969b67afdba27558a1e6cb21016e
=======
   "id": "f5540993",
>>>>>>> b6e07d13baac92b2c1c9b43f8e4113ffa87bf495
   "metadata": {
    "fig.height": 7,
    "fig.width": 9,
    "lines_to_next_cell": 2
   },
   "outputs": [],
   "source": [
    "spatialReducedDim(sfe, \"multispati\", components = c(1:3, 40), \n",
    "                  colGeometryName = \"cellSeg\", bbox = bbox_use,\n",
    "                  divergent = TRUE, diverge_center = 0)"
   ]
  },
  {
   "cell_type": "markdown",
<<<<<<< HEAD
<<<<<<< HEAD
<<<<<<< HEAD
<<<<<<< HEAD
<<<<<<< HEAD
   "id": "f74f2199",
||||||| 11b9cb7
   "id": "1848b529",
   "metadata": {},
   "source": [
    "The first two PCs pick up zoning. PC3 and PC4 seem to have smaller scale spatial structure, so we zoom in here:"
   ]
  },
  {
   "cell_type": "code",
   "execution_count": null,
   "id": "67d1df16",
   "metadata": {
    "fig.height": 7,
    "fig.width": 9
   },
   "outputs": [],
   "source": [
    "spatialReducedDim(sfe, \"multispati\", ncomponents = 4, colGeometryName = \"cellSeg\",\n",
    "                  bbox = bbox_use, divergent = TRUE, diverge_center = 0)"
   ]
  },
  {
   "cell_type": "markdown",
   "id": "d2ae6f29",
   "metadata": {
    "lines_to_next_cell": 0
   },
   "source": [
    "What about the negative eigenvalue?"
   ]
  },
  {
   "cell_type": "code",
   "execution_count": null,
   "id": "11eecbd2",
   "metadata": {},
   "outputs": [],
   "source": [
    "spatialReducedDim(sfe, \"multispati\", 39:40, colGeometryName = \"cellSeg\", \n",
    "                  divergent = TRUE, diverge_center = 0, bbox = bbox_use)"
   ]
  },
  {
   "cell_type": "markdown",
   "id": "cb65f3f9",
=======
   "id": "3f491702",
>>>>>>> documentation-devel
||||||| 614e9b1
   "id": "3f491702",
=======
   "id": "0bbcb540",
>>>>>>> documentation-devel
||||||| 856b4c0
<<<<<<< HEAD
   "id": "f74f2199",
||||||| 11b9cb7
   "id": "1848b529",
   "metadata": {},
   "source": [
    "The first two PCs pick up zoning. PC3 and PC4 seem to have smaller scale spatial structure, so we zoom in here:"
   ]
  },
  {
   "cell_type": "code",
   "execution_count": null,
   "id": "67d1df16",
   "metadata": {
    "fig.height": 7,
    "fig.width": 9
   },
   "outputs": [],
   "source": [
    "spatialReducedDim(sfe, \"multispati\", ncomponents = 4, colGeometryName = \"cellSeg\",\n",
    "                  bbox = bbox_use, divergent = TRUE, diverge_center = 0)"
   ]
  },
  {
   "cell_type": "markdown",
   "id": "d2ae6f29",
   "metadata": {
    "lines_to_next_cell": 0
   },
   "source": [
    "What about the negative eigenvalue?"
   ]
  },
  {
   "cell_type": "code",
   "execution_count": null,
   "id": "11eecbd2",
   "metadata": {},
   "outputs": [],
   "source": [
    "spatialReducedDim(sfe, \"multispati\", 39:40, colGeometryName = \"cellSeg\", \n",
    "                  divergent = TRUE, diverge_center = 0, bbox = bbox_use)"
   ]
  },
  {
   "cell_type": "markdown",
   "id": "cb65f3f9",
=======
   "id": "3f491702",
>>>>>>> documentation-devel
=======
   "id": "01a0c116",
>>>>>>> 552590ea8fad969b67afdba27558a1e6cb21016e
||||||| 452c944
   "id": "0bbcb540",
=======
   "id": "0087142f",
>>>>>>> documentation-devel
||||||| 4da3324
<<<<<<< HEAD
<<<<<<< HEAD
<<<<<<< HEAD
   "id": "f74f2199",
||||||| 11b9cb7
   "id": "1848b529",
   "metadata": {},
   "source": [
    "The first two PCs pick up zoning. PC3 and PC4 seem to have smaller scale spatial structure, so we zoom in here:"
   ]
  },
  {
   "cell_type": "code",
   "execution_count": null,
   "id": "67d1df16",
   "metadata": {
    "fig.height": 7,
    "fig.width": 9
   },
   "outputs": [],
   "source": [
    "spatialReducedDim(sfe, \"multispati\", ncomponents = 4, colGeometryName = \"cellSeg\",\n",
    "                  bbox = bbox_use, divergent = TRUE, diverge_center = 0)"
   ]
  },
  {
   "cell_type": "markdown",
   "id": "d2ae6f29",
   "metadata": {
    "lines_to_next_cell": 0
   },
   "source": [
    "What about the negative eigenvalue?"
   ]
  },
  {
   "cell_type": "code",
   "execution_count": null,
   "id": "11eecbd2",
   "metadata": {},
   "outputs": [],
   "source": [
    "spatialReducedDim(sfe, \"multispati\", 39:40, colGeometryName = \"cellSeg\", \n",
    "                  divergent = TRUE, diverge_center = 0, bbox = bbox_use)"
   ]
  },
  {
   "cell_type": "markdown",
   "id": "cb65f3f9",
=======
   "id": "3f491702",
>>>>>>> documentation-devel
||||||| 614e9b1
   "id": "3f491702",
=======
   "id": "0bbcb540",
>>>>>>> documentation-devel
||||||| 856b4c0
<<<<<<< HEAD
   "id": "f74f2199",
||||||| 11b9cb7
   "id": "1848b529",
   "metadata": {},
   "source": [
    "The first two PCs pick up zoning. PC3 and PC4 seem to have smaller scale spatial structure, so we zoom in here:"
   ]
  },
  {
   "cell_type": "code",
   "execution_count": null,
   "id": "67d1df16",
   "metadata": {
    "fig.height": 7,
    "fig.width": 9
   },
   "outputs": [],
   "source": [
    "spatialReducedDim(sfe, \"multispati\", ncomponents = 4, colGeometryName = \"cellSeg\",\n",
    "                  bbox = bbox_use, divergent = TRUE, diverge_center = 0)"
   ]
  },
  {
   "cell_type": "markdown",
   "id": "d2ae6f29",
   "metadata": {
    "lines_to_next_cell": 0
   },
   "source": [
    "What about the negative eigenvalue?"
   ]
  },
  {
   "cell_type": "code",
   "execution_count": null,
   "id": "11eecbd2",
   "metadata": {},
   "outputs": [],
   "source": [
    "spatialReducedDim(sfe, \"multispati\", 39:40, colGeometryName = \"cellSeg\", \n",
    "                  divergent = TRUE, diverge_center = 0, bbox = bbox_use)"
   ]
  },
  {
   "cell_type": "markdown",
   "id": "cb65f3f9",
=======
   "id": "3f491702",
>>>>>>> documentation-devel
=======
   "id": "01a0c116",
>>>>>>> 552590ea8fad969b67afdba27558a1e6cb21016e
=======
   "id": "aca3af69",
>>>>>>> b6e07d13baac92b2c1c9b43f8e4113ffa87bf495
   "metadata": {},
   "source": [
    "The first two PCs pick up zoning. PC3 seems to have smaller scale spatial structure. PC\"40\" (should really be 300 something) is an example of negative spatial autocorrelation in biology. That Kupffer cells and endothelial cells are scattered among hepatocytes may play a functional role. This does not mean that non-spatial PCA is bad. While MULTISPATI tends not to lose too much variance explained in per PC with positive eigenvalues, it identifies co-expressed genes with spatially structured expression patterns. MULTISPATI tells a different story from non-spatial PCA. PCA cell embeddings are often used for downstream analysis. Whether to use MULTISPATI embeddings instead and which or how many PCs to use depend on the questions asked in the further downstream analyses.\n",
    "\n",
    "# Spatial autocorrelation of principal components\n",
    "## Moran's I\n",
    "Here we compare Moran's I for cell embeddings in each non-spatial and MULTISPATI PC:"
   ]
  },
  {
   "cell_type": "code",
   "execution_count": null,
<<<<<<< HEAD
<<<<<<< HEAD
<<<<<<< HEAD
<<<<<<< HEAD
<<<<<<< HEAD
   "id": "fb9cc860",
||||||| 11b9cb7
   "id": "4a88d1ea",
=======
   "id": "adc873e6",
>>>>>>> documentation-devel
||||||| 614e9b1
   "id": "adc873e6",
=======
   "id": "a7fc0f72",
>>>>>>> documentation-devel
||||||| 856b4c0
<<<<<<< HEAD
   "id": "fb9cc860",
||||||| 11b9cb7
   "id": "4a88d1ea",
=======
   "id": "adc873e6",
>>>>>>> documentation-devel
=======
   "id": "503acc58",
>>>>>>> 552590ea8fad969b67afdba27558a1e6cb21016e
||||||| 452c944
   "id": "a7fc0f72",
=======
   "id": "fc8f310f",
>>>>>>> documentation-devel
||||||| 4da3324
<<<<<<< HEAD
<<<<<<< HEAD
<<<<<<< HEAD
   "id": "fb9cc860",
||||||| 11b9cb7
   "id": "4a88d1ea",
=======
   "id": "adc873e6",
>>>>>>> documentation-devel
||||||| 614e9b1
   "id": "adc873e6",
=======
   "id": "a7fc0f72",
>>>>>>> documentation-devel
||||||| 856b4c0
<<<<<<< HEAD
   "id": "fb9cc860",
||||||| 11b9cb7
   "id": "4a88d1ea",
=======
   "id": "adc873e6",
>>>>>>> documentation-devel
=======
   "id": "503acc58",
>>>>>>> 552590ea8fad969b67afdba27558a1e6cb21016e
=======
   "id": "89c645bd",
>>>>>>> b6e07d13baac92b2c1c9b43f8e4113ffa87bf495
   "metadata": {},
   "outputs": [],
   "source": [
    "# non-spatial\n",
    "sfe <- reducedDimMoransI(sfe, dimred = \"PCA\", components = 1:20,\n",
    "                         BPPARAM = MulticoreParam(2))\n",
    "# spatial\n",
    "sfe <- reducedDimMoransI(sfe, dimred = \"multispati\", components = 1:40,\n",
    "                         BPPARAM = MulticoreParam(2))"
   ]
  },
  {
   "cell_type": "code",
   "execution_count": null,
<<<<<<< HEAD
<<<<<<< HEAD
<<<<<<< HEAD
<<<<<<< HEAD
<<<<<<< HEAD
   "id": "8eb441cb",
||||||| 11b9cb7
   "id": "3521c798",
=======
   "id": "f6b03c86",
>>>>>>> documentation-devel
||||||| 614e9b1
   "id": "f6b03c86",
=======
   "id": "15289651",
>>>>>>> documentation-devel
||||||| 856b4c0
<<<<<<< HEAD
   "id": "8eb441cb",
||||||| 11b9cb7
   "id": "3521c798",
=======
   "id": "f6b03c86",
>>>>>>> documentation-devel
=======
   "id": "86671500",
>>>>>>> 552590ea8fad969b67afdba27558a1e6cb21016e
||||||| 452c944
   "id": "15289651",
=======
   "id": "e10c0177",
>>>>>>> documentation-devel
||||||| 4da3324
<<<<<<< HEAD
<<<<<<< HEAD
<<<<<<< HEAD
   "id": "8eb441cb",
||||||| 11b9cb7
   "id": "3521c798",
=======
   "id": "f6b03c86",
>>>>>>> documentation-devel
||||||| 614e9b1
   "id": "f6b03c86",
=======
   "id": "15289651",
>>>>>>> documentation-devel
||||||| 856b4c0
<<<<<<< HEAD
   "id": "8eb441cb",
||||||| 11b9cb7
   "id": "3521c798",
=======
   "id": "f6b03c86",
>>>>>>> documentation-devel
=======
   "id": "86671500",
>>>>>>> 552590ea8fad969b67afdba27558a1e6cb21016e
=======
   "id": "836c1b69",
>>>>>>> b6e07d13baac92b2c1c9b43f8e4113ffa87bf495
   "metadata": {},
   "outputs": [],
   "source": [
    "df_moran <- tibble(PCA = reducedDimFeatureData(sfe, \"PCA\")$moran_sample01[1:20],\n",
    "                   MULTISPATI_pos = \n",
    "                       reducedDimFeatureData(sfe, \"multispati\")$moran_sample01[1:20],\n",
    "                   MULTISPATI_neg = \n",
    "                       reducedDimFeatureData(sfe,\"multispati\")$moran_sample01[21:40] |> \n",
    "                       rev(),\n",
    "                   index = 1:20)"
   ]
  },
  {
   "cell_type": "code",
   "execution_count": null,
<<<<<<< HEAD
<<<<<<< HEAD
<<<<<<< HEAD
<<<<<<< HEAD
<<<<<<< HEAD
   "id": "1f62b4f6",
||||||| 11b9cb7
   "id": "ecd4e7bc",
=======
   "id": "d3f2b8a4",
>>>>>>> documentation-devel
||||||| 614e9b1
   "id": "d3f2b8a4",
=======
   "id": "f77a944d",
>>>>>>> documentation-devel
||||||| 856b4c0
<<<<<<< HEAD
   "id": "1f62b4f6",
||||||| 11b9cb7
   "id": "ecd4e7bc",
=======
   "id": "d3f2b8a4",
>>>>>>> documentation-devel
=======
   "id": "16ba9a40",
>>>>>>> 552590ea8fad969b67afdba27558a1e6cb21016e
||||||| 452c944
   "id": "f77a944d",
=======
   "id": "bca00011",
>>>>>>> documentation-devel
||||||| 4da3324
<<<<<<< HEAD
<<<<<<< HEAD
<<<<<<< HEAD
   "id": "1f62b4f6",
||||||| 11b9cb7
   "id": "ecd4e7bc",
=======
   "id": "d3f2b8a4",
>>>>>>> documentation-devel
||||||| 614e9b1
   "id": "d3f2b8a4",
=======
   "id": "f77a944d",
>>>>>>> documentation-devel
||||||| 856b4c0
<<<<<<< HEAD
   "id": "1f62b4f6",
||||||| 11b9cb7
   "id": "ecd4e7bc",
=======
   "id": "d3f2b8a4",
>>>>>>> documentation-devel
=======
   "id": "16ba9a40",
>>>>>>> 552590ea8fad969b67afdba27558a1e6cb21016e
=======
   "id": "77c9ef49",
>>>>>>> b6e07d13baac92b2c1c9b43f8e4113ffa87bf495
   "metadata": {},
   "outputs": [],
   "source": [
    "data(\"ditto_colors\")"
   ]
  },
  {
   "cell_type": "code",
   "execution_count": null,
<<<<<<< HEAD
<<<<<<< HEAD
<<<<<<< HEAD
<<<<<<< HEAD
<<<<<<< HEAD
   "id": "ea85c80c",
||||||| 11b9cb7
   "id": "c381887c",
=======
   "id": "e5efebf6",
>>>>>>> documentation-devel
||||||| 614e9b1
   "id": "e5efebf6",
=======
   "id": "cddd65f2",
>>>>>>> documentation-devel
||||||| 856b4c0
<<<<<<< HEAD
   "id": "ea85c80c",
||||||| 11b9cb7
   "id": "c381887c",
=======
   "id": "e5efebf6",
>>>>>>> documentation-devel
=======
   "id": "d5a1112b",
>>>>>>> 552590ea8fad969b67afdba27558a1e6cb21016e
||||||| 452c944
   "id": "cddd65f2",
=======
   "id": "b413d23d",
>>>>>>> documentation-devel
||||||| 4da3324
<<<<<<< HEAD
<<<<<<< HEAD
<<<<<<< HEAD
   "id": "ea85c80c",
||||||| 11b9cb7
   "id": "c381887c",
=======
   "id": "e5efebf6",
>>>>>>> documentation-devel
||||||| 614e9b1
   "id": "e5efebf6",
=======
   "id": "cddd65f2",
>>>>>>> documentation-devel
||||||| 856b4c0
<<<<<<< HEAD
   "id": "ea85c80c",
||||||| 11b9cb7
   "id": "c381887c",
=======
   "id": "e5efebf6",
>>>>>>> documentation-devel
=======
   "id": "d5a1112b",
>>>>>>> 552590ea8fad969b67afdba27558a1e6cb21016e
=======
   "id": "64bc0560",
>>>>>>> b6e07d13baac92b2c1c9b43f8e4113ffa87bf495
   "metadata": {},
   "outputs": [],
   "source": [
    "df_moran |> \n",
    "    pivot_longer(cols = -index, values_to = \"value\", names_to = \"name\") |> \n",
    "    ggplot(aes(index, value, color = name)) +\n",
    "    geom_line() +\n",
    "    scale_color_manual(values = ditto_colors) +\n",
    "    geom_hline(yintercept = 0, color = \"gray\") +\n",
    "    geom_hline(yintercept = mb, linetype = 2, color = \"gray\") +\n",
    "    scale_y_continuous(breaks = scales::breaks_pretty()) +\n",
    "    scale_x_continuous(breaks = scales::breaks_width(5)) +\n",
    "    labs(y = \"Moran's I\", color = \"Type\", x = \"Component\")"
   ]
  },
  {
   "cell_type": "markdown",
<<<<<<< HEAD
<<<<<<< HEAD
<<<<<<< HEAD
<<<<<<< HEAD
<<<<<<< HEAD
   "id": "eb483bc2",
||||||| 11b9cb7
   "id": "1a7c2a8d",
=======
   "id": "af91e932",
>>>>>>> documentation-devel
||||||| 614e9b1
   "id": "af91e932",
=======
   "id": "1b29c5a4",
>>>>>>> documentation-devel
||||||| 856b4c0
<<<<<<< HEAD
   "id": "eb483bc2",
||||||| 11b9cb7
   "id": "1a7c2a8d",
=======
   "id": "af91e932",
>>>>>>> documentation-devel
=======
   "id": "d0efb73a",
>>>>>>> 552590ea8fad969b67afdba27558a1e6cb21016e
||||||| 452c944
   "id": "1b29c5a4",
=======
   "id": "3d43513f",
>>>>>>> documentation-devel
||||||| 4da3324
<<<<<<< HEAD
<<<<<<< HEAD
<<<<<<< HEAD
   "id": "eb483bc2",
||||||| 11b9cb7
   "id": "1a7c2a8d",
=======
   "id": "af91e932",
>>>>>>> documentation-devel
||||||| 614e9b1
   "id": "af91e932",
=======
   "id": "1b29c5a4",
>>>>>>> documentation-devel
||||||| 856b4c0
<<<<<<< HEAD
   "id": "eb483bc2",
||||||| 11b9cb7
   "id": "1a7c2a8d",
=======
   "id": "af91e932",
>>>>>>> documentation-devel
=======
   "id": "d0efb73a",
>>>>>>> 552590ea8fad969b67afdba27558a1e6cb21016e
=======
   "id": "cc816a75",
>>>>>>> b6e07d13baac92b2c1c9b43f8e4113ffa87bf495
   "metadata": {},
   "source": [
    "In MULTISPATI, Moran's I is high in PC1 and PC2, but then sharply drops. Moran's I for the PC with the most negative eigenvalues is not very negative, which means the large magnitude of that eigenvalue comes from explaining more variance. However, considering the lower bound of Moran's I that is around -0.6 instead of -1, the magnitude of Moran's I for the PC with the most negative eigenvalue is not trivial."
   ]
  },
  {
   "cell_type": "code",
   "execution_count": null,
<<<<<<< HEAD
<<<<<<< HEAD
<<<<<<< HEAD
<<<<<<< HEAD
<<<<<<< HEAD
   "id": "19aad239",
||||||| 856b4c0
<<<<<<< HEAD
   "id": "19aad239",
=======
   "id": "19e7cbf2",
>>>>>>> 552590ea8fad969b67afdba27558a1e6cb21016e
||||||| 452c944
   "id": "612d0a56",
=======
   "id": "14efc80f",
>>>>>>> documentation-devel
||||||| 4da3324
<<<<<<< HEAD
<<<<<<< HEAD
<<<<<<< HEAD
   "id": "19aad239",
||||||| 856b4c0
<<<<<<< HEAD
   "id": "19aad239",
=======
   "id": "19e7cbf2",
>>>>>>> 552590ea8fad969b67afdba27558a1e6cb21016e
=======
   "id": "ba6449df",
>>>>>>> b6e07d13baac92b2c1c9b43f8e4113ffa87bf495
   "metadata": {},
   "outputs": [],
   "source": [
    "min(df_moran$MULTISPATI_neg) / mb[1]"
   ]
  },
  {
   "cell_type": "markdown",
<<<<<<< HEAD
<<<<<<< HEAD
<<<<<<< HEAD
<<<<<<< HEAD
<<<<<<< HEAD
   "id": "c23ae114",
||||||| 11b9cb7
   "id": "f0dc43ea",
=======
   "id": "1b5b8446",
>>>>>>> documentation-devel
||||||| 614e9b1
   "id": "1b5b8446",
=======
   "id": "76790e94",
>>>>>>> documentation-devel
||||||| 856b4c0
<<<<<<< HEAD
   "id": "c23ae114",
||||||| 11b9cb7
   "id": "f0dc43ea",
=======
   "id": "1b5b8446",
>>>>>>> documentation-devel
=======
   "id": "14e768a3",
>>>>>>> 552590ea8fad969b67afdba27558a1e6cb21016e
||||||| 452c944
   "id": "76790e94",
=======
   "id": "c665c2d5",
>>>>>>> documentation-devel
||||||| 4da3324
<<<<<<< HEAD
<<<<<<< HEAD
<<<<<<< HEAD
   "id": "c23ae114",
||||||| 11b9cb7
   "id": "f0dc43ea",
=======
   "id": "1b5b8446",
>>>>>>> documentation-devel
||||||| 614e9b1
   "id": "1b5b8446",
=======
   "id": "76790e94",
>>>>>>> documentation-devel
||||||| 856b4c0
<<<<<<< HEAD
   "id": "c23ae114",
||||||| 11b9cb7
   "id": "f0dc43ea",
=======
   "id": "1b5b8446",
>>>>>>> documentation-devel
=======
   "id": "14e768a3",
>>>>>>> 552590ea8fad969b67afdba27558a1e6cb21016e
=======
   "id": "9ebd7f6d",
>>>>>>> b6e07d13baac92b2c1c9b43f8e4113ffa87bf495
   "metadata": {},
   "source": [
    "Non-spatial PCs are not sorted by Moran's I; PC5 has surprising large Moran's I. "
   ]
  },
  {
   "cell_type": "code",
   "execution_count": null,
<<<<<<< HEAD
<<<<<<< HEAD
<<<<<<< HEAD
<<<<<<< HEAD
<<<<<<< HEAD
   "id": "3b60636a",
||||||| 856b4c0
<<<<<<< HEAD
   "id": "3b60636a",
=======
   "id": "161c2a19",
>>>>>>> 552590ea8fad969b67afdba27558a1e6cb21016e
||||||| 452c944
   "id": "826b917a",
=======
   "id": "2b0a60ad",
>>>>>>> documentation-devel
||||||| 4da3324
<<<<<<< HEAD
<<<<<<< HEAD
<<<<<<< HEAD
   "id": "3b60636a",
||||||| 856b4c0
<<<<<<< HEAD
   "id": "3b60636a",
=======
   "id": "161c2a19",
>>>>>>> 552590ea8fad969b67afdba27558a1e6cb21016e
=======
   "id": "30b55e0b",
>>>>>>> b6e07d13baac92b2c1c9b43f8e4113ffa87bf495
   "metadata": {},
   "outputs": [],
   "source": [
    "spatialReducedDim(sfe, \"PCA\", component = 5, colGeometryName = \"cellSeg\", \n",
    "                  divergent = TRUE, diverge_center = 0, bbox = bbox_use)"
   ]
  },
  {
   "cell_type": "markdown",
<<<<<<< HEAD
<<<<<<< HEAD
<<<<<<< HEAD
<<<<<<< HEAD
<<<<<<< HEAD
   "id": "e99863f8",
||||||| 856b4c0
<<<<<<< HEAD
   "id": "e99863f8",
=======
   "id": "5dd2e52d",
>>>>>>> 552590ea8fad969b67afdba27558a1e6cb21016e
||||||| 452c944
   "id": "fa5d1cf8",
=======
   "id": "52418f9d",
>>>>>>> documentation-devel
||||||| 4da3324
<<<<<<< HEAD
<<<<<<< HEAD
<<<<<<< HEAD
   "id": "e99863f8",
||||||| 856b4c0
<<<<<<< HEAD
   "id": "e99863f8",
=======
   "id": "5dd2e52d",
>>>>>>> 552590ea8fad969b67afdba27558a1e6cb21016e
=======
   "id": "0a80c84a",
>>>>>>> b6e07d13baac92b2c1c9b43f8e4113ffa87bf495
   "metadata": {},
   "source": [
    "PC5 must be about zonation. Also show a larger scale:"
   ]
  },
  {
   "cell_type": "code",
   "execution_count": null,
<<<<<<< HEAD
<<<<<<< HEAD
<<<<<<< HEAD
<<<<<<< HEAD
<<<<<<< HEAD
   "id": "eee31ff2",
||||||| 856b4c0
<<<<<<< HEAD
   "id": "eee31ff2",
=======
   "id": "b129e792",
>>>>>>> 552590ea8fad969b67afdba27558a1e6cb21016e
||||||| 4da3324
<<<<<<< HEAD
<<<<<<< HEAD
<<<<<<< HEAD
   "id": "eee31ff2",
||||||| 856b4c0
<<<<<<< HEAD
   "id": "eee31ff2",
=======
   "id": "b129e792",
>>>>>>> 552590ea8fad969b67afdba27558a1e6cb21016e
=======
   "id": "c71684ae",
>>>>>>> b6e07d13baac92b2c1c9b43f8e4113ffa87bf495
   "metadata": {},
   "outputs": [],
   "source": [
    "spatialReducedDim(sfe, \"PCA\", components = 5, colGeometryName = \"centroids\", \n",
    "                  divergent = TRUE, diverge_center = 0, scattermore = TRUE)"
   ]
  },
  {
   "cell_type": "markdown",
   "id": "99162ca7",
   "metadata": {
    "lines_to_next_cell": 0
   },
   "source": [
    "## Moran scatter plot\n",
    "Local positive and negative spatial autocorrelation can average out in global Moran's I. From the zoomed in plots and gene loadings above, some PCs are about endothelial cells. The Moran scatter plot can help discovering more local heterogeneity."
   ]
  },
  {
   "cell_type": "code",
   "execution_count": null,
<<<<<<< HEAD
<<<<<<< HEAD
   "id": "0e6f36aa",
||||||| 11b9cb7
   "id": "b301cd57",
=======
   "id": "ae1ce586",
||||||| 614e9b1
   "id": "ae1ce586",
=======
   "id": "ed3b0a19",
>>>>>>> documentation-devel
||||||| 452c944
   "id": "ed3b0a19",
=======
   "id": "37b6b9ab",
>>>>>>> documentation-devel
   "metadata": {},
   "outputs": [],
   "source": [
    "spatialReducedDim(sfe, \"PCA\", components = 5, colGeometryName = \"centroids\", \n",
    "                  divergent = TRUE, diverge_center = 0, scattermore = TRUE)"
   ]
  },
  {
   "cell_type": "markdown",
   "id": "6012b4e6",
   "metadata": {
    "lines_to_next_cell": 0
   },
   "source": [
    "## Moran scatter plot\n",
    "Local positive and negative spatial autocorrelation can average out in global Moran's I. From the zoomed in plots and gene loadings above, some PCs are about endothelial cells. The Moran scatter plot can help discovering more local heterogeneity."
   ]
  },
  {
   "cell_type": "code",
   "execution_count": null,
<<<<<<< HEAD
<<<<<<< HEAD
   "id": "1dc17208",
>>>>>>> documentation-devel
||||||| 614e9b1
   "id": "1dc17208",
=======
   "id": "b457e00d",
>>>>>>> documentation-devel
||||||| 856b4c0
   "id": "0e6f36aa",
||||||| 11b9cb7
   "id": "b301cd57",
=======
   "id": "ae1ce586",
   "metadata": {},
   "outputs": [],
   "source": [
    "spatialReducedDim(sfe, \"PCA\", components = 5, colGeometryName = \"centroids\", \n",
    "                  divergent = TRUE, diverge_center = 0, scattermore = TRUE)"
   ]
  },
  {
   "cell_type": "markdown",
   "id": "d66c9a4b",
   "metadata": {
    "lines_to_next_cell": 0
   },
   "source": [
    "## Moran scatter plot\n",
    "Local positive and negative spatial autocorrelation can average out in global Moran's I. From the zoomed in plots and gene loadings above, some PCs are about endothelial cells. The Moran scatter plot can help discovering more local heterogeneity."
   ]
  },
  {
   "cell_type": "code",
   "execution_count": null,
   "id": "1dc17208",
>>>>>>> documentation-devel
=======
   "id": "9912af70",
>>>>>>> 552590ea8fad969b67afdba27558a1e6cb21016e
||||||| 452c944
   "id": "b457e00d",
=======
   "id": "559c65aa",
>>>>>>> documentation-devel
||||||| 4da3324
<<<<<<< HEAD
   "id": "0e6f36aa",
||||||| 11b9cb7
   "id": "b301cd57",
=======
   "id": "ae1ce586",
||||||| 614e9b1
   "id": "ae1ce586",
=======
   "id": "ed3b0a19",
>>>>>>> documentation-devel
   "metadata": {},
   "outputs": [],
   "source": [
    "spatialReducedDim(sfe, \"PCA\", components = 5, colGeometryName = \"centroids\", \n",
    "                  divergent = TRUE, diverge_center = 0, scattermore = TRUE)"
   ]
  },
  {
   "cell_type": "markdown",
   "id": "59e64ec7",
   "metadata": {
    "lines_to_next_cell": 0
   },
   "source": [
    "## Moran scatter plot\n",
    "Local positive and negative spatial autocorrelation can average out in global Moran's I. From the zoomed in plots and gene loadings above, some PCs are about endothelial cells. The Moran scatter plot can help discovering more local heterogeneity."
   ]
  },
  {
   "cell_type": "code",
   "execution_count": null,
<<<<<<< HEAD
   "id": "1dc17208",
>>>>>>> documentation-devel
||||||| 614e9b1
   "id": "1dc17208",
=======
   "id": "b457e00d",
>>>>>>> documentation-devel
||||||| 856b4c0
   "id": "0e6f36aa",
||||||| 11b9cb7
   "id": "b301cd57",
=======
   "id": "ae1ce586",
   "metadata": {},
   "outputs": [],
   "source": [
    "spatialReducedDim(sfe, \"PCA\", components = 5, colGeometryName = \"centroids\", \n",
    "                  divergent = TRUE, diverge_center = 0, scattermore = TRUE)"
   ]
  },
  {
   "cell_type": "markdown",
   "id": "d66c9a4b",
   "metadata": {
    "lines_to_next_cell": 0
   },
   "source": [
    "## Moran scatter plot\n",
    "Local positive and negative spatial autocorrelation can average out in global Moran's I. From the zoomed in plots and gene loadings above, some PCs are about endothelial cells. The Moran scatter plot can help discovering more local heterogeneity."
   ]
  },
  {
   "cell_type": "code",
   "execution_count": null,
   "id": "1dc17208",
>>>>>>> documentation-devel
=======
   "id": "9912af70",
>>>>>>> 552590ea8fad969b67afdba27558a1e6cb21016e
=======
   "id": "44803880",
>>>>>>> b6e07d13baac92b2c1c9b43f8e4113ffa87bf495
   "metadata": {},
   "outputs": [],
   "source": [
    "sfe <- reducedDimUnivariate(sfe, \"moran.plot\", dimred = \"PCA\", components = 1:6)"
   ]
  },
  {
   "cell_type": "code",
   "execution_count": null,
<<<<<<< HEAD
<<<<<<< HEAD
<<<<<<< HEAD
<<<<<<< HEAD
<<<<<<< HEAD
   "id": "bca0eaa2",
||||||| 11b9cb7
   "id": "4a037dcc",
=======
   "id": "9c680fae",
>>>>>>> documentation-devel
||||||| 614e9b1
   "id": "9c680fae",
=======
   "id": "e78ebd92",
>>>>>>> documentation-devel
||||||| 856b4c0
<<<<<<< HEAD
   "id": "bca0eaa2",
||||||| 11b9cb7
   "id": "4a037dcc",
=======
   "id": "9c680fae",
>>>>>>> documentation-devel
=======
   "id": "13526143",
>>>>>>> 552590ea8fad969b67afdba27558a1e6cb21016e
||||||| 452c944
   "id": "e78ebd92",
=======
   "id": "cea67da1",
>>>>>>> documentation-devel
||||||| 4da3324
<<<<<<< HEAD
<<<<<<< HEAD
<<<<<<< HEAD
   "id": "bca0eaa2",
||||||| 11b9cb7
   "id": "4a037dcc",
=======
   "id": "9c680fae",
>>>>>>> documentation-devel
||||||| 614e9b1
   "id": "9c680fae",
=======
   "id": "e78ebd92",
>>>>>>> documentation-devel
||||||| 856b4c0
<<<<<<< HEAD
   "id": "bca0eaa2",
||||||| 11b9cb7
   "id": "4a037dcc",
=======
   "id": "9c680fae",
>>>>>>> documentation-devel
=======
   "id": "13526143",
>>>>>>> 552590ea8fad969b67afdba27558a1e6cb21016e
=======
   "id": "e1649e70",
>>>>>>> b6e07d13baac92b2c1c9b43f8e4113ffa87bf495
   "metadata": {},
   "outputs": [],
   "source": [
    "plts <- lapply(seq_len(6), function(i) {\n",
    "    moranPlot(sfe, paste0(\"PC\", i), binned = TRUE, hex = TRUE, plot_influential = FALSE)\n",
    "})"
   ]
  },
  {
   "cell_type": "code",
   "execution_count": null,
<<<<<<< HEAD
<<<<<<< HEAD
<<<<<<< HEAD
<<<<<<< HEAD
<<<<<<< HEAD
   "id": "439b7fbb",
||||||| 11b9cb7
   "id": "84abd2bf",
=======
   "id": "f021ab64",
>>>>>>> documentation-devel
||||||| 614e9b1
   "id": "f021ab64",
=======
   "id": "2dc4412f",
>>>>>>> documentation-devel
||||||| 856b4c0
<<<<<<< HEAD
   "id": "439b7fbb",
||||||| 11b9cb7
   "id": "84abd2bf",
=======
   "id": "f021ab64",
>>>>>>> documentation-devel
=======
   "id": "084f5b0e",
>>>>>>> 552590ea8fad969b67afdba27558a1e6cb21016e
||||||| 452c944
   "id": "2dc4412f",
=======
   "id": "3601b400",
>>>>>>> documentation-devel
||||||| 4da3324
<<<<<<< HEAD
<<<<<<< HEAD
<<<<<<< HEAD
   "id": "439b7fbb",
||||||| 11b9cb7
   "id": "84abd2bf",
=======
   "id": "f021ab64",
>>>>>>> documentation-devel
||||||| 614e9b1
   "id": "f021ab64",
=======
   "id": "2dc4412f",
>>>>>>> documentation-devel
||||||| 856b4c0
<<<<<<< HEAD
   "id": "439b7fbb",
||||||| 11b9cb7
   "id": "84abd2bf",
=======
   "id": "f021ab64",
>>>>>>> documentation-devel
=======
   "id": "084f5b0e",
>>>>>>> 552590ea8fad969b67afdba27558a1e6cb21016e
=======
   "id": "09e5e7ba",
>>>>>>> b6e07d13baac92b2c1c9b43f8e4113ffa87bf495
   "metadata": {
    "fig.height": 6,
    "fig.width": 10
   },
   "outputs": [],
   "source": [
    "wrap_plots(plts, widths = 1, heights = 1) +\n",
    "    plot_layout(ncol = 3) +\n",
    "    plot_annotation(tag_levels = \"1\", \n",
    "                    title = \"Moran scatter plot for non-spatial PCs\") &\n",
    "    theme(legend.position = \"none\")"
   ]
  },
  {
   "cell_type": "markdown",
<<<<<<< HEAD
<<<<<<< HEAD
<<<<<<< HEAD
<<<<<<< HEAD
<<<<<<< HEAD
   "id": "245bd444",
||||||| 11b9cb7
   "id": "f69902e1",
=======
   "id": "ba4d55f8",
>>>>>>> documentation-devel
||||||| 614e9b1
   "id": "ba4d55f8",
=======
   "id": "d9309bf1",
>>>>>>> documentation-devel
||||||| 856b4c0
<<<<<<< HEAD
   "id": "245bd444",
||||||| 11b9cb7
   "id": "f69902e1",
=======
   "id": "ba4d55f8",
>>>>>>> documentation-devel
=======
   "id": "51ffecd4",
>>>>>>> 552590ea8fad969b67afdba27558a1e6cb21016e
||||||| 452c944
   "id": "d9309bf1",
=======
   "id": "8c7d29eb",
>>>>>>> documentation-devel
||||||| 4da3324
<<<<<<< HEAD
<<<<<<< HEAD
<<<<<<< HEAD
   "id": "245bd444",
||||||| 11b9cb7
   "id": "f69902e1",
=======
   "id": "ba4d55f8",
>>>>>>> documentation-devel
||||||| 614e9b1
   "id": "ba4d55f8",
=======
   "id": "d9309bf1",
>>>>>>> documentation-devel
||||||| 856b4c0
<<<<<<< HEAD
   "id": "245bd444",
||||||| 11b9cb7
   "id": "f69902e1",
=======
   "id": "ba4d55f8",
>>>>>>> documentation-devel
=======
   "id": "51ffecd4",
>>>>>>> 552590ea8fad969b67afdba27558a1e6cb21016e
=======
   "id": "5f69bbce",
>>>>>>> b6e07d13baac92b2c1c9b43f8e4113ffa87bf495
   "metadata": {},
   "source": [
    "PCs 1-3 have some fainter clusters outside the main cluster, indicating heterogeneous spatial autocorrelation. Also make Moran scatter plots for MULTISPATI"
   ]
  },
  {
   "cell_type": "code",
   "execution_count": null,
<<<<<<< HEAD
<<<<<<< HEAD
<<<<<<< HEAD
<<<<<<< HEAD
<<<<<<< HEAD
   "id": "8c3ebf9d",
||||||| 11b9cb7
   "id": "0efd99b3",
=======
   "id": "a658d6b6",
>>>>>>> documentation-devel
||||||| 614e9b1
   "id": "a658d6b6",
=======
   "id": "a21230d5",
>>>>>>> documentation-devel
||||||| 856b4c0
<<<<<<< HEAD
   "id": "8c3ebf9d",
||||||| 11b9cb7
   "id": "0efd99b3",
=======
   "id": "a658d6b6",
>>>>>>> documentation-devel
=======
   "id": "bab38753",
>>>>>>> 552590ea8fad969b67afdba27558a1e6cb21016e
||||||| 452c944
   "id": "a21230d5",
=======
   "id": "9e71ce74",
>>>>>>> documentation-devel
||||||| 4da3324
<<<<<<< HEAD
<<<<<<< HEAD
<<<<<<< HEAD
   "id": "8c3ebf9d",
||||||| 11b9cb7
   "id": "0efd99b3",
=======
   "id": "a658d6b6",
>>>>>>> documentation-devel
||||||| 614e9b1
   "id": "a658d6b6",
=======
   "id": "a21230d5",
>>>>>>> documentation-devel
||||||| 856b4c0
<<<<<<< HEAD
   "id": "8c3ebf9d",
||||||| 11b9cb7
   "id": "0efd99b3",
=======
   "id": "a658d6b6",
>>>>>>> documentation-devel
=======
   "id": "bab38753",
>>>>>>> 552590ea8fad969b67afdba27558a1e6cb21016e
=======
   "id": "ef7e8b72",
>>>>>>> b6e07d13baac92b2c1c9b43f8e4113ffa87bf495
   "metadata": {},
   "outputs": [],
   "source": [
    "sfe <- reducedDimUnivariate(sfe, \"moran.plot\", dimred = \"multispati\", \n",
    "                            components = c(1:5, 40), \n",
    "                            # Not to overwrite non-spatial PCA moran plots\n",
    "                            name = \"moran.plot2\") "
   ]
  },
  {
   "cell_type": "code",
   "execution_count": null,
<<<<<<< HEAD
<<<<<<< HEAD
<<<<<<< HEAD
<<<<<<< HEAD
<<<<<<< HEAD
   "id": "7d7901c3",
||||||| 11b9cb7
   "id": "6e50fe27",
=======
   "id": "fcfa3c94",
>>>>>>> documentation-devel
||||||| 614e9b1
   "id": "fcfa3c94",
=======
   "id": "550ffba2",
>>>>>>> documentation-devel
||||||| 856b4c0
<<<<<<< HEAD
   "id": "7d7901c3",
||||||| 11b9cb7
   "id": "6e50fe27",
=======
   "id": "fcfa3c94",
>>>>>>> documentation-devel
=======
   "id": "651ceb4b",
>>>>>>> 552590ea8fad969b67afdba27558a1e6cb21016e
||||||| 452c944
   "id": "550ffba2",
=======
   "id": "59a155f5",
>>>>>>> documentation-devel
||||||| 4da3324
<<<<<<< HEAD
<<<<<<< HEAD
<<<<<<< HEAD
   "id": "7d7901c3",
||||||| 11b9cb7
   "id": "6e50fe27",
=======
   "id": "fcfa3c94",
>>>>>>> documentation-devel
||||||| 614e9b1
   "id": "fcfa3c94",
=======
   "id": "550ffba2",
>>>>>>> documentation-devel
||||||| 856b4c0
<<<<<<< HEAD
   "id": "7d7901c3",
||||||| 11b9cb7
   "id": "6e50fe27",
=======
   "id": "fcfa3c94",
>>>>>>> documentation-devel
=======
   "id": "651ceb4b",
>>>>>>> 552590ea8fad969b67afdba27558a1e6cb21016e
=======
   "id": "fe2c9431",
>>>>>>> b6e07d13baac92b2c1c9b43f8e4113ffa87bf495
   "metadata": {},
   "outputs": [],
   "source": [
    "plts2 <- lapply(c(1:5, 40), function(i) {\n",
    "    moranPlot(sfe, paste0(\"PC\", i), binned = TRUE, hex = TRUE, \n",
    "              plot_influential = FALSE, name = \"moran.plot2\")\n",
    "})"
   ]
  },
  {
   "cell_type": "code",
   "execution_count": null,
<<<<<<< HEAD
<<<<<<< HEAD
<<<<<<< HEAD
<<<<<<< HEAD
<<<<<<< HEAD
   "id": "647cc37c",
||||||| 11b9cb7
   "id": "feba9fbf",
=======
   "id": "08e089a0",
>>>>>>> documentation-devel
||||||| 614e9b1
   "id": "08e089a0",
=======
   "id": "026698b3",
>>>>>>> documentation-devel
||||||| 856b4c0
<<<<<<< HEAD
   "id": "647cc37c",
||||||| 11b9cb7
   "id": "feba9fbf",
=======
   "id": "08e089a0",
>>>>>>> documentation-devel
=======
   "id": "814fbbac",
>>>>>>> 552590ea8fad969b67afdba27558a1e6cb21016e
||||||| 452c944
   "id": "026698b3",
=======
   "id": "0ca86791",
>>>>>>> documentation-devel
||||||| 4da3324
<<<<<<< HEAD
<<<<<<< HEAD
<<<<<<< HEAD
   "id": "647cc37c",
||||||| 11b9cb7
   "id": "feba9fbf",
=======
   "id": "08e089a0",
>>>>>>> documentation-devel
||||||| 614e9b1
   "id": "08e089a0",
=======
   "id": "026698b3",
>>>>>>> documentation-devel
||||||| 856b4c0
<<<<<<< HEAD
   "id": "647cc37c",
||||||| 11b9cb7
   "id": "feba9fbf",
=======
   "id": "08e089a0",
>>>>>>> documentation-devel
=======
   "id": "814fbbac",
>>>>>>> 552590ea8fad969b67afdba27558a1e6cb21016e
=======
   "id": "c98194f1",
>>>>>>> b6e07d13baac92b2c1c9b43f8e4113ffa87bf495
   "metadata": {
    "fig.height": 6,
    "fig.width": 10
   },
   "outputs": [],
   "source": [
    "wrap_plots(plts2, widths = 1, heights = 1) +\n",
    "    plot_layout(ncol = 3) +\n",
    "    plot_annotation(tag_levels = \"1\",\n",
    "                    title = \"Moran scatter plot for MULTISPATI PCs\") &\n",
    "    theme(legend.position = \"none\")"
   ]
  },
  {
   "cell_type": "markdown",
<<<<<<< HEAD
<<<<<<< HEAD
<<<<<<< HEAD
<<<<<<< HEAD
<<<<<<< HEAD
   "id": "50877941",
||||||| 11b9cb7
   "id": "f13104de",
=======
   "id": "0562d657",
>>>>>>> documentation-devel
||||||| 614e9b1
   "id": "0562d657",
=======
   "id": "63894a44",
>>>>>>> documentation-devel
||||||| 856b4c0
<<<<<<< HEAD
   "id": "50877941",
||||||| 11b9cb7
   "id": "f13104de",
=======
   "id": "0562d657",
>>>>>>> documentation-devel
=======
   "id": "dc4500db",
>>>>>>> 552590ea8fad969b67afdba27558a1e6cb21016e
||||||| 452c944
   "id": "63894a44",
=======
   "id": "96453f50",
>>>>>>> documentation-devel
||||||| 4da3324
<<<<<<< HEAD
<<<<<<< HEAD
<<<<<<< HEAD
   "id": "50877941",
||||||| 11b9cb7
   "id": "f13104de",
=======
   "id": "0562d657",
>>>>>>> documentation-devel
||||||| 614e9b1
   "id": "0562d657",
=======
   "id": "63894a44",
>>>>>>> documentation-devel
||||||| 856b4c0
<<<<<<< HEAD
   "id": "50877941",
||||||| 11b9cb7
   "id": "f13104de",
=======
   "id": "0562d657",
>>>>>>> documentation-devel
=======
   "id": "dc4500db",
>>>>>>> 552590ea8fad969b67afdba27558a1e6cb21016e
=======
   "id": "1d3d3e03",
>>>>>>> b6e07d13baac92b2c1c9b43f8e4113ffa87bf495
   "metadata": {},
   "source": [
    "There are some interesting clusters.\n",
    "\n",
    "# Clustering with MULTISPATI PCA\n",
    "\n",
    "In the standard scRNA-seq data analysis workflow, a k nearest neighbor graph is found in the PCA space, which is then used for graph based clustering such as Louvain and Leiden, which is used to perform differential expression. Spatial dimension reductions can similarly be used to perform clustering, to identify spatial regions in the tissue, as done in [@Shang2022-qy; @Ren2022-qx; @Zhang2023-kf]. This type of studies often use a manual segmentation as ground truth to compare different methods that identify spatial regions. \n",
    "\n",
    "The problem with this is that spatial region methods are meant to help us to identify novel spatial regions based on new -omics data, which might reveal what's previously unknown from manual annotations. If the output from a method doesn't match manual annotations, it might simply be pointing out a previously unknown aspect of the tissue rather than wrong. Depending on the questions being asked, there can simultaneously be multiple spatial partitions. This happens in geographical space. For instance, there's land use and neighborhood boundaries, but equally valid are watershed boundaries and types of rock formation. Which one is relevant depends on the questions asked.\n",
    "\n",
    "Here we perform Leiden clustering with non-spatial and MULTISPATI PCA and compare the results. For the k nearest neighbor graph, I used the default k = 10."
   ]
  },
  {
   "cell_type": "code",
   "execution_count": null,
<<<<<<< HEAD
<<<<<<< HEAD
<<<<<<< HEAD
<<<<<<< HEAD
<<<<<<< HEAD
   "id": "be37c3d5",
||||||| 11b9cb7
   "id": "62b22a0e",
=======
   "id": "66a1dbf4",
>>>>>>> documentation-devel
||||||| 614e9b1
   "id": "66a1dbf4",
=======
   "id": "41026865",
>>>>>>> documentation-devel
||||||| 856b4c0
<<<<<<< HEAD
   "id": "be37c3d5",
||||||| 11b9cb7
   "id": "62b22a0e",
=======
   "id": "66a1dbf4",
>>>>>>> documentation-devel
=======
   "id": "3bffecec",
>>>>>>> 552590ea8fad969b67afdba27558a1e6cb21016e
||||||| 452c944
   "id": "41026865",
=======
   "id": "b5973cdf",
>>>>>>> documentation-devel
||||||| 4da3324
<<<<<<< HEAD
<<<<<<< HEAD
<<<<<<< HEAD
   "id": "be37c3d5",
||||||| 11b9cb7
   "id": "62b22a0e",
=======
   "id": "66a1dbf4",
>>>>>>> documentation-devel
||||||| 614e9b1
   "id": "66a1dbf4",
=======
   "id": "41026865",
>>>>>>> documentation-devel
||||||| 856b4c0
<<<<<<< HEAD
   "id": "be37c3d5",
||||||| 11b9cb7
   "id": "62b22a0e",
=======
   "id": "66a1dbf4",
>>>>>>> documentation-devel
=======
   "id": "3bffecec",
>>>>>>> 552590ea8fad969b67afdba27558a1e6cb21016e
=======
   "id": "d968b540",
>>>>>>> b6e07d13baac92b2c1c9b43f8e4113ffa87bf495
   "metadata": {},
   "outputs": [],
   "source": [
    "system.time({\n",
    "    set.seed(29)\n",
    "    sfe$clusts_nonspatial <- clusterCells(sfe, use.dimred = \"PCA\", \n",
    "                                          BLUSPARAM = NNGraphParam(\n",
    "                                              cluster.fun = \"leiden\",\n",
    "                                              cluster.args = list(\n",
    "                                                  objective_function = \"modularity\",\n",
    "                                                  resolution_parameter = 1\n",
    "                                              )\n",
    "                                          ))\n",
    "})"
   ]
  },
  {
   "cell_type": "markdown",
<<<<<<< HEAD
<<<<<<< HEAD
<<<<<<< HEAD
<<<<<<< HEAD
<<<<<<< HEAD
   "id": "24efc19d",
||||||| 11b9cb7
   "id": "07dfec9e",
=======
   "id": "2e76c911",
>>>>>>> documentation-devel
||||||| 614e9b1
   "id": "2e76c911",
=======
   "id": "510f8633",
>>>>>>> documentation-devel
||||||| 856b4c0
<<<<<<< HEAD
   "id": "24efc19d",
||||||| 11b9cb7
   "id": "07dfec9e",
=======
   "id": "2e76c911",
>>>>>>> documentation-devel
=======
   "id": "495002c4",
>>>>>>> 552590ea8fad969b67afdba27558a1e6cb21016e
||||||| 452c944
   "id": "510f8633",
=======
   "id": "7a5b6411",
>>>>>>> documentation-devel
||||||| 4da3324
<<<<<<< HEAD
<<<<<<< HEAD
<<<<<<< HEAD
   "id": "24efc19d",
||||||| 11b9cb7
   "id": "07dfec9e",
=======
   "id": "2e76c911",
>>>>>>> documentation-devel
||||||| 614e9b1
   "id": "2e76c911",
=======
   "id": "510f8633",
>>>>>>> documentation-devel
||||||| 856b4c0
<<<<<<< HEAD
   "id": "24efc19d",
||||||| 11b9cb7
   "id": "07dfec9e",
=======
   "id": "2e76c911",
>>>>>>> documentation-devel
=======
   "id": "495002c4",
>>>>>>> 552590ea8fad969b67afdba27558a1e6cb21016e
=======
   "id": "b5f99694",
>>>>>>> b6e07d13baac92b2c1c9b43f8e4113ffa87bf495
   "metadata": {
    "lines_to_next_cell": 0
   },
   "source": [
    "See if clustering with the positive MULTISPATI PCs give more spatially coherent clusters"
   ]
  },
  {
   "cell_type": "code",
   "execution_count": null,
<<<<<<< HEAD
<<<<<<< HEAD
<<<<<<< HEAD
<<<<<<< HEAD
<<<<<<< HEAD
   "id": "70dad61c",
||||||| 11b9cb7
   "id": "15e94e7a",
=======
   "id": "103d82c4",
>>>>>>> documentation-devel
||||||| 614e9b1
   "id": "103d82c4",
=======
   "id": "fb3382c1",
>>>>>>> documentation-devel
||||||| 856b4c0
<<<<<<< HEAD
   "id": "70dad61c",
||||||| 11b9cb7
   "id": "15e94e7a",
=======
   "id": "103d82c4",
>>>>>>> documentation-devel
=======
   "id": "401322ec",
>>>>>>> 552590ea8fad969b67afdba27558a1e6cb21016e
||||||| 452c944
   "id": "fb3382c1",
=======
   "id": "e28a2e6e",
>>>>>>> documentation-devel
||||||| 4da3324
<<<<<<< HEAD
<<<<<<< HEAD
<<<<<<< HEAD
   "id": "70dad61c",
||||||| 11b9cb7
   "id": "15e94e7a",
=======
   "id": "103d82c4",
>>>>>>> documentation-devel
||||||| 614e9b1
   "id": "103d82c4",
=======
   "id": "fb3382c1",
>>>>>>> documentation-devel
||||||| 856b4c0
<<<<<<< HEAD
   "id": "70dad61c",
||||||| 11b9cb7
   "id": "15e94e7a",
=======
   "id": "103d82c4",
>>>>>>> documentation-devel
=======
   "id": "401322ec",
>>>>>>> 552590ea8fad969b67afdba27558a1e6cb21016e
=======
   "id": "af8c6088",
>>>>>>> b6e07d13baac92b2c1c9b43f8e4113ffa87bf495
   "metadata": {},
   "outputs": [],
   "source": [
    "system.time({\n",
    "    set.seed(29)\n",
    "    sfe$clusts_multispati <- clusterRows(reducedDim(sfe, \"multispati\")[,1:20], \n",
    "                                          BLUSPARAM = NNGraphParam(\n",
    "                                              cluster.fun = \"leiden\",\n",
    "                                              cluster.args = list(\n",
    "                                                  objective_function = \"modularity\",\n",
    "                                                  resolution_parameter = 1\n",
    "                                              )\n",
    "                                          ))\n",
    "})"
   ]
  },
  {
   "cell_type": "markdown",
<<<<<<< HEAD
<<<<<<< HEAD
<<<<<<< HEAD
<<<<<<< HEAD
<<<<<<< HEAD
   "id": "d9879664",
||||||| 11b9cb7
   "id": "8a5b5e0e",
=======
   "id": "f6b0d008",
>>>>>>> documentation-devel
||||||| 614e9b1
   "id": "f6b0d008",
=======
   "id": "5c20c177",
>>>>>>> documentation-devel
||||||| 856b4c0
<<<<<<< HEAD
   "id": "d9879664",
||||||| 11b9cb7
   "id": "8a5b5e0e",
=======
   "id": "f6b0d008",
>>>>>>> documentation-devel
=======
   "id": "b64c5681",
>>>>>>> 552590ea8fad969b67afdba27558a1e6cb21016e
||||||| 452c944
   "id": "5c20c177",
=======
   "id": "75c00fae",
>>>>>>> documentation-devel
||||||| 4da3324
<<<<<<< HEAD
<<<<<<< HEAD
<<<<<<< HEAD
   "id": "d9879664",
||||||| 11b9cb7
   "id": "8a5b5e0e",
=======
   "id": "f6b0d008",
>>>>>>> documentation-devel
||||||| 614e9b1
   "id": "f6b0d008",
=======
   "id": "5c20c177",
>>>>>>> documentation-devel
||||||| 856b4c0
<<<<<<< HEAD
   "id": "d9879664",
||||||| 11b9cb7
   "id": "8a5b5e0e",
=======
   "id": "f6b0d008",
>>>>>>> documentation-devel
=======
   "id": "b64c5681",
>>>>>>> 552590ea8fad969b67afdba27558a1e6cb21016e
=======
   "id": "31a2446c",
>>>>>>> b6e07d13baac92b2c1c9b43f8e4113ffa87bf495
   "metadata": {
    "lines_to_next_cell": 0
   },
   "source": [
    "Plot the clusters in space:"
   ]
  },
  {
   "cell_type": "code",
   "execution_count": null,
<<<<<<< HEAD
<<<<<<< HEAD
<<<<<<< HEAD
<<<<<<< HEAD
<<<<<<< HEAD
   "id": "31e9e82b",
||||||| 11b9cb7
   "id": "1b22b051",
=======
   "id": "c5a5d66e",
>>>>>>> documentation-devel
||||||| 614e9b1
   "id": "c5a5d66e",
=======
   "id": "420d7374",
>>>>>>> documentation-devel
||||||| 856b4c0
<<<<<<< HEAD
   "id": "31e9e82b",
||||||| 11b9cb7
   "id": "1b22b051",
=======
   "id": "c5a5d66e",
>>>>>>> documentation-devel
=======
   "id": "44b0b223",
>>>>>>> 552590ea8fad969b67afdba27558a1e6cb21016e
||||||| 452c944
   "id": "420d7374",
=======
   "id": "d56f6e55",
>>>>>>> documentation-devel
||||||| 4da3324
<<<<<<< HEAD
<<<<<<< HEAD
<<<<<<< HEAD
   "id": "31e9e82b",
||||||| 11b9cb7
   "id": "1b22b051",
=======
   "id": "c5a5d66e",
>>>>>>> documentation-devel
||||||| 614e9b1
   "id": "c5a5d66e",
=======
   "id": "420d7374",
>>>>>>> documentation-devel
||||||| 856b4c0
<<<<<<< HEAD
   "id": "31e9e82b",
||||||| 11b9cb7
   "id": "1b22b051",
=======
   "id": "c5a5d66e",
>>>>>>> documentation-devel
=======
   "id": "44b0b223",
>>>>>>> 552590ea8fad969b67afdba27558a1e6cb21016e
=======
   "id": "f47c5c9d",
>>>>>>> b6e07d13baac92b2c1c9b43f8e4113ffa87bf495
   "metadata": {
    "fig.height": 4,
    "fig.width": 11
   },
   "outputs": [],
   "source": [
    "plotSpatialFeature(sfe, c(\"clusts_nonspatial\", \"clusts_multispati\"), \n",
    "                   colGeometryName = \"centroids\",\n",
    "                   scattermore = TRUE) &\n",
    "     guides(colour = guide_legend(override.aes = list(size=2), ncol = 2))"
   ]
  },
  {
   "cell_type": "markdown",
<<<<<<< HEAD
<<<<<<< HEAD
<<<<<<< HEAD
<<<<<<< HEAD
<<<<<<< HEAD
   "id": "c1a23098",
||||||| 11b9cb7
   "id": "04230f18",
=======
   "id": "71538115",
>>>>>>> documentation-devel
||||||| 614e9b1
   "id": "71538115",
=======
   "id": "9448732e",
>>>>>>> documentation-devel
||||||| 856b4c0
<<<<<<< HEAD
   "id": "c1a23098",
||||||| 11b9cb7
   "id": "04230f18",
=======
   "id": "71538115",
>>>>>>> documentation-devel
=======
   "id": "0542c732",
>>>>>>> 552590ea8fad969b67afdba27558a1e6cb21016e
||||||| 452c944
   "id": "9448732e",
=======
   "id": "69ef0fc7",
>>>>>>> documentation-devel
||||||| 4da3324
<<<<<<< HEAD
<<<<<<< HEAD
<<<<<<< HEAD
   "id": "c1a23098",
||||||| 11b9cb7
   "id": "04230f18",
=======
   "id": "71538115",
>>>>>>> documentation-devel
||||||| 614e9b1
   "id": "71538115",
=======
   "id": "9448732e",
>>>>>>> documentation-devel
||||||| 856b4c0
<<<<<<< HEAD
   "id": "c1a23098",
||||||| 11b9cb7
   "id": "04230f18",
=======
   "id": "71538115",
>>>>>>> documentation-devel
=======
   "id": "0542c732",
>>>>>>> 552590ea8fad969b67afdba27558a1e6cb21016e
=======
   "id": "8af82482",
>>>>>>> b6e07d13baac92b2c1c9b43f8e4113ffa87bf495
   "metadata": {
    "lines_to_next_cell": 0
   },
   "source": [
    "The MULTISPATI clusters do look somewhat more spatially structured than clusters from non-spatial PCA. Also zoom into a small area:"
   ]
  },
  {
   "cell_type": "code",
   "execution_count": null,
<<<<<<< HEAD
<<<<<<< HEAD
<<<<<<< HEAD
<<<<<<< HEAD
<<<<<<< HEAD
   "id": "1c4eb6b2",
||||||| 11b9cb7
   "id": "d11de1fd",
=======
   "id": "cbb2770c",
>>>>>>> documentation-devel
||||||| 614e9b1
   "id": "cbb2770c",
=======
   "id": "b472ff8d",
>>>>>>> documentation-devel
||||||| 856b4c0
<<<<<<< HEAD
   "id": "1c4eb6b2",
||||||| 11b9cb7
   "id": "d11de1fd",
=======
   "id": "cbb2770c",
>>>>>>> documentation-devel
=======
   "id": "178cdef8",
>>>>>>> 552590ea8fad969b67afdba27558a1e6cb21016e
||||||| 452c944
   "id": "b472ff8d",
=======
   "id": "ebf72902",
>>>>>>> documentation-devel
||||||| 4da3324
<<<<<<< HEAD
<<<<<<< HEAD
<<<<<<< HEAD
   "id": "1c4eb6b2",
||||||| 11b9cb7
   "id": "d11de1fd",
=======
   "id": "cbb2770c",
>>>>>>> documentation-devel
||||||| 614e9b1
   "id": "cbb2770c",
=======
   "id": "b472ff8d",
>>>>>>> documentation-devel
||||||| 856b4c0
<<<<<<< HEAD
   "id": "1c4eb6b2",
||||||| 11b9cb7
   "id": "d11de1fd",
=======
   "id": "cbb2770c",
>>>>>>> documentation-devel
=======
   "id": "178cdef8",
>>>>>>> 552590ea8fad969b67afdba27558a1e6cb21016e
=======
   "id": "770dba11",
>>>>>>> b6e07d13baac92b2c1c9b43f8e4113ffa87bf495
   "metadata": {
    "fig.height": 4,
    "fig.width": 11
   },
   "outputs": [],
   "source": [
    "plotSpatialFeature(sfe, c(\"clusts_nonspatial\", \"clusts_multispati\"), \n",
    "                   colGeometryName = \"cellSeg\",\n",
    "                   bbox = bbox_use) &\n",
    "     guides(fill = guide_legend(ncol = 2))"
   ]
  },
  {
   "cell_type": "markdown",
<<<<<<< HEAD
<<<<<<< HEAD
<<<<<<< HEAD
<<<<<<< HEAD
<<<<<<< HEAD
   "id": "6a86fe53",
||||||| 11b9cb7
   "id": "c61eae5d",
=======
   "id": "2616d54b",
>>>>>>> documentation-devel
||||||| 614e9b1
   "id": "2616d54b",
=======
   "id": "6ab2c8c0",
>>>>>>> documentation-devel
||||||| 856b4c0
<<<<<<< HEAD
   "id": "6a86fe53",
||||||| 11b9cb7
   "id": "c61eae5d",
=======
   "id": "2616d54b",
>>>>>>> documentation-devel
=======
   "id": "f6ae6434",
>>>>>>> 552590ea8fad969b67afdba27558a1e6cb21016e
||||||| 452c944
   "id": "6ab2c8c0",
=======
   "id": "c0698932",
>>>>>>> documentation-devel
||||||| 4da3324
<<<<<<< HEAD
<<<<<<< HEAD
<<<<<<< HEAD
   "id": "6a86fe53",
||||||| 11b9cb7
   "id": "c61eae5d",
=======
   "id": "2616d54b",
>>>>>>> documentation-devel
||||||| 614e9b1
   "id": "2616d54b",
=======
   "id": "6ab2c8c0",
>>>>>>> documentation-devel
||||||| 856b4c0
<<<<<<< HEAD
   "id": "6a86fe53",
||||||| 11b9cb7
   "id": "c61eae5d",
=======
   "id": "2616d54b",
>>>>>>> documentation-devel
=======
   "id": "f6ae6434",
>>>>>>> 552590ea8fad969b67afdba27558a1e6cb21016e
=======
   "id": "69eca256",
>>>>>>> b6e07d13baac92b2c1c9b43f8e4113ffa87bf495
   "metadata": {
    "lines_to_next_cell": 0
   },
   "source": [
    "What do these clusters mean? Clusters are supposed to be groups of different spots that are more similar within a group, sharing some characteristics. Non-spatial and MULTISPATI PCA use different characteristics for the clustering. Non-spatial PCA finds genes that are good for telling cell types apart, although those genes may happen to be very spatially structured. Non-spatial clustering aims to find these groups only from gene expression, and cells with similar gene expression can be surrounded by cells of other types in histological space. This is just like mapping Art Deco buildings, which are often near Spanish revival and Beaux Art buildings whose styles are quite different and perform different functions, thus not necessarily forming a coherent spatial region. \n",
    "\n",
    "In contrast, MULTISPATI's positive components find genes that must characterize spatial regions in addition to distinguishing between different cell types. Which genes are involved in each MULTISPATI component may be as interesting as the clusters. It would be interesting to perform gene set enrichment analysis, or to interpret this as some sort of spatial patterns of spatially variable genes. This is like mapping when the buildings were built, so Art Deco, Spanish revival, Beaux Art popular in the 1920s and 1930s will end up in the same cluster and form a more spatially coherent region, which can be found in DTLA Historical Core and Jewelry District, and Old Pasadena. Hence non-spatial clustering of spatial data isn't necessarily bad. Rather, it tells a different story and reveals different aspects of the data from spatial clustering. \n",
    "\n",
    "# Session Info"
   ]
  },
  {
   "cell_type": "code",
   "execution_count": null,
<<<<<<< HEAD
<<<<<<< HEAD
<<<<<<< HEAD
<<<<<<< HEAD
<<<<<<< HEAD
   "id": "455589fb",
||||||| 11b9cb7
   "id": "6b075f8e",
=======
   "id": "39082ac0",
>>>>>>> documentation-devel
||||||| 614e9b1
   "id": "39082ac0",
=======
   "id": "f5b80fdc",
>>>>>>> documentation-devel
||||||| 856b4c0
<<<<<<< HEAD
   "id": "455589fb",
||||||| 11b9cb7
   "id": "6b075f8e",
=======
   "id": "39082ac0",
>>>>>>> documentation-devel
=======
   "id": "0a8c250b",
>>>>>>> 552590ea8fad969b67afdba27558a1e6cb21016e
||||||| 452c944
   "id": "f5b80fdc",
=======
   "id": "739f1e5f",
>>>>>>> documentation-devel
||||||| 4da3324
<<<<<<< HEAD
<<<<<<< HEAD
<<<<<<< HEAD
   "id": "455589fb",
||||||| 11b9cb7
   "id": "6b075f8e",
=======
   "id": "39082ac0",
>>>>>>> documentation-devel
||||||| 614e9b1
   "id": "39082ac0",
=======
   "id": "f5b80fdc",
>>>>>>> documentation-devel
||||||| 856b4c0
<<<<<<< HEAD
   "id": "455589fb",
||||||| 11b9cb7
   "id": "6b075f8e",
=======
   "id": "39082ac0",
>>>>>>> documentation-devel
=======
   "id": "0a8c250b",
>>>>>>> 552590ea8fad969b67afdba27558a1e6cb21016e
=======
   "id": "f21220ef",
>>>>>>> b6e07d13baac92b2c1c9b43f8e4113ffa87bf495
   "metadata": {},
   "outputs": [],
   "source": [
    "sessionInfo()"
   ]
  },
  {
   "cell_type": "markdown",
<<<<<<< HEAD
<<<<<<< HEAD
<<<<<<< HEAD
<<<<<<< HEAD
<<<<<<< HEAD
   "id": "e76bc893",
||||||| 11b9cb7
   "id": "949c64cd",
=======
   "id": "76aba3a1",
>>>>>>> documentation-devel
||||||| 614e9b1
   "id": "76aba3a1",
=======
   "id": "608a18c0",
>>>>>>> documentation-devel
||||||| 856b4c0
<<<<<<< HEAD
   "id": "e76bc893",
||||||| 11b9cb7
   "id": "949c64cd",
=======
   "id": "76aba3a1",
>>>>>>> documentation-devel
=======
   "id": "9c2e4aa4",
>>>>>>> 552590ea8fad969b67afdba27558a1e6cb21016e
||||||| 452c944
   "id": "608a18c0",
=======
   "id": "3b9064f0",
>>>>>>> documentation-devel
||||||| 4da3324
<<<<<<< HEAD
<<<<<<< HEAD
<<<<<<< HEAD
   "id": "e76bc893",
||||||| 11b9cb7
   "id": "949c64cd",
=======
   "id": "76aba3a1",
>>>>>>> documentation-devel
||||||| 614e9b1
   "id": "76aba3a1",
=======
   "id": "608a18c0",
>>>>>>> documentation-devel
||||||| 856b4c0
<<<<<<< HEAD
   "id": "e76bc893",
||||||| 11b9cb7
   "id": "949c64cd",
=======
   "id": "76aba3a1",
>>>>>>> documentation-devel
=======
   "id": "9c2e4aa4",
>>>>>>> 552590ea8fad969b67afdba27558a1e6cb21016e
=======
   "id": "7fbda3a2",
>>>>>>> b6e07d13baac92b2c1c9b43f8e4113ffa87bf495
   "metadata": {},
   "source": [
    "# References"
   ]
  }
 ],
 "metadata": {
  "kernelspec": {
   "display_name": "R",
   "language": "R",
   "name": "ir"
  }
 },
 "nbformat": 4,
 "nbformat_minor": 5
}
