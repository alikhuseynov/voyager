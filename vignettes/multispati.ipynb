{
 "cells": [
  {
   "cell_type": "raw",
<<<<<<< HEAD
<<<<<<< HEAD
<<<<<<< HEAD
   "id": "b74ebd3e",
||||||| 3477967
   "id": "b35c92c6",
=======
   "id": "7f012468",
>>>>>>> 763a65aa00deab365d39bc26b2dcb2cc1410a666
||||||| eb63ff5
   "id": "b74ebd3e",
=======
   "id": "2e9e0ad8",
>>>>>>> documentation-devel
||||||| cd53b20
<<<<<<< HEAD
   "id": "b74ebd3e",
||||||| 3477967
   "id": "b35c92c6",
=======
   "id": "7f012468",
>>>>>>> 763a65aa00deab365d39bc26b2dcb2cc1410a666
=======
   "id": "3e439a86",
>>>>>>> 61c8f4bff1b7848db82b013fbfba194514b420ca
   "metadata": {},
   "source": [
    "---\n",
    "title: \"MULTISPATI PCA and negative spatial autocorrelation\"\n",
    "author: \"Lambda Moses\"\n",
    "date: \"`r Sys.Date()`\"\n",
    "output: \n",
    "  html_document:\n",
    "  toc: true\n",
    "  toc_float:\n",
    "    collapsed: false\n",
    "  toc_depth: 3\n",
    "bibliography: ref.bib\n",
    "vignette: >\n",
    "  %\\VignetteIndexEntry{multispati}\n",
    "  %\\VignetteEngine{knitr::rmarkdown}\n",
    "  %\\VignetteEncoding{UTF-8}\n",
    "---"
   ]
  },
  {
   "cell_type": "code",
   "execution_count": null,
<<<<<<< HEAD
<<<<<<< HEAD
<<<<<<< HEAD
   "id": "a1b138d4",
||||||| 3477967
   "id": "5e87c5e4",
=======
   "id": "00f39907",
>>>>>>> 763a65aa00deab365d39bc26b2dcb2cc1410a666
||||||| eb63ff5
   "id": "a1b138d4",
=======
   "id": "23cfce46",
>>>>>>> documentation-devel
||||||| cd53b20
<<<<<<< HEAD
   "id": "a1b138d4",
||||||| 3477967
   "id": "5e87c5e4",
=======
   "id": "00f39907",
>>>>>>> 763a65aa00deab365d39bc26b2dcb2cc1410a666
=======
   "id": "9ea2a3b6",
>>>>>>> 61c8f4bff1b7848db82b013fbfba194514b420ca
   "metadata": {
    "lines_to_next_cell": 2,
    "tags": [
     "remove_cell"
    ]
   },
   "outputs": [],
   "source": [
    "knitr::opts_chunk$set(\n",
    "  collapse = TRUE,\n",
    "  comment = \"#>\"\n",
    ")"
   ]
  },
  {
   "cell_type": "code",
   "execution_count": null,
<<<<<<< HEAD
<<<<<<< HEAD
<<<<<<< HEAD
   "id": "a3b61812",
||||||| 3477967
   "id": "44f54951",
=======
   "id": "7bdfe151",
>>>>>>> 763a65aa00deab365d39bc26b2dcb2cc1410a666
||||||| eb63ff5
   "id": "a3b61812",
=======
   "id": "75440d8e",
>>>>>>> documentation-devel
||||||| cd53b20
<<<<<<< HEAD
   "id": "a3b61812",
||||||| 3477967
   "id": "44f54951",
=======
   "id": "7bdfe151",
>>>>>>> 763a65aa00deab365d39bc26b2dcb2cc1410a666
=======
   "id": "6557a5c8",
>>>>>>> 61c8f4bff1b7848db82b013fbfba194514b420ca
   "metadata": {
    "eval": false,
    "tags": [
     "remove_cell"
    ]
   },
   "outputs": [],
   "source": [
    "# Install Google Colab dependencies\n",
    "# Note: this can take 30+ minutes (many of the dependencies include C++ code, which needs to be compiled)\n",
    "\n",
    "# First install `sf`, `ragg` and `textshaping` and their system dependencies:\n",
    "system(\"apt-get -y update && apt-get install -y  libudunits2-dev libgdal-dev libgeos-dev libproj-dev libharfbuzz-dev libfribidi-dev\")\n",
    "install.packages(\"sf\")\n",
    "install.packages(\"textshaping\")\n",
    "install.packages(\"ragg\")\n",
    "\n",
    "# Install system dependencies of some other R packages that Voyager either imports or suggests:\n",
    "system(\"apt-get install -y libfribidi-dev libcairo2-dev libmagick++-dev\")\n",
    "\n",
    "# Install Voyager from Bioconductor:\n",
    "install.packages(\"BiocManager\")\n",
    "BiocManager::install(version = \"3.17\", ask = FALSE, update = FALSE, Ncpus = 2)\n",
    "BiocManager::install(\"scater\")\n",
    "system.time(\n",
    "  BiocManager::install(\"Voyager\", dependencies = TRUE, Ncpus = 2, update = FALSE)\n",
    ")\n",
    "\n",
    "# Other packages used in this vignette\n",
    "packageVersion(\"Voyager\")"
   ]
  },
  {
   "cell_type": "markdown",
<<<<<<< HEAD
<<<<<<< HEAD
<<<<<<< HEAD
   "id": "dea7fc1c",
||||||| 3477967
   "id": "1a2f06e4",
=======
   "id": "8b7640da",
>>>>>>> 763a65aa00deab365d39bc26b2dcb2cc1410a666
||||||| eb63ff5
   "id": "dea7fc1c",
=======
   "id": "1f21fd25",
>>>>>>> documentation-devel
||||||| cd53b20
<<<<<<< HEAD
   "id": "dea7fc1c",
||||||| 3477967
   "id": "1a2f06e4",
=======
   "id": "8b7640da",
>>>>>>> 763a65aa00deab365d39bc26b2dcb2cc1410a666
=======
   "id": "063c3910",
>>>>>>> 61c8f4bff1b7848db82b013fbfba194514b420ca
   "metadata": {},
   "source": [
    "# Introduction\n",
    "Due to the large number of genes quantified in single cell and spatial transcriptomics, dimension reduction is part of the standard workflow to analyze such data, to visualize, to help interpreting the data, to distill relevant information and reduce noise, to facilitate downstream analyses such as clustering and pseudotime, to project different samples into a shared latent space for data integration, and so on.\n",
    "\n",
    "The first dimension reduction methods we learn about, such as good old principal component analysis (PCA), tSNE, and UMAP, don't use spatial information. With the rise of spatial transcriptomics, some dimension reduction methods that take spatial dependence into account have been written. Some, such as `SpatialPCA` [@Shang2022-qy], `NSF` [@Townes2023-bi], and `MEFISTO` [@Velten2022-gv] use factor analysis or probabilistic PCA which is related to factor analysis, and model the factors as Gaussian processes, with a spatial kernel for the covariance matrix, so the factors have positive spatial autocorrelation and can be used for downstream clustering where the clusters can be more spatially coherent. Some use graph convolution networks on a spatial neighborhood graph to find spatially informed embeddings of the cells, such as `conST` [@Zong2022-tb] and `SpaceFlow` [@Ren2022-qx]. `SpaSRL` [@Zhang2023-kf] finds a low dimension projection of spatial neighborhood augmented data. \n",
    "\n",
    "Spatially informed dimension reduction is actually not new, and dates back to at least 1985, with Wartenberg's crossover of Moran's I and PCA [@Wartenberg1985-fk], which was generalized and further developed as MULTISPATI PCA [@Dray2008-en], implemented in the [`adespatial`](https://cran.r-project.org/web/packages/adespatial/index.html) package on CRAN. In short, while PCA tries to maximize the variance explained by each PC, MULTISPATI maximizes the product of Moran's I and variance explained. Also, while all the eigenvalues from PCA are non-negative, because the covariance matrix is positive semidefinite, MULTISPATI can give negative eigenvalues, which represent negative spatial autocorrelation, which can be present and interesting but is not as common as positive spatial autocorrelation and is often masked by the latter [@Griffith2019-bo]. \n",
    "\n",
    "In single cell -omics conventions, let $X$ denote a gene count matrix whose columns are cells or Visium spots and whose rows are genes, with $n$ columns. Let $W$ denote the row normalized $n\\times n$ adjacency matrix of the spatial neighborhood graph of the cells or Visium spots, which does not have to be symmetric. MULTISPATI diagonalizes a symmetric matrix\n",
    "\n",
    "$$\n",
    "H = \\frac 1 {2n} X(W^t+W)X^t\n",
    "$$\n",
    "\n",
    "However, the implementation in `adespatial` is more general and can be used for other multivariate analyses in the [duality diagram](https://www.ncbi.nlm.nih.gov/pmc/articles/PMC3265363/) paradigm, such as correspondence analysis; the equation above is simplified just for PCA, without having to introduce the duality diagram here.\n",
    "\n",
    "Voyager 1.2.0 (Bioconductor 3.17) has a much faster implementation of MULTISPATI PCA based on [`RSpectra`](https://cran.r-project.org/web/packages/RSpectra/index.html). See benchmark [here](https://lambdamoses.github.io/thevoyages/posts/2023-03-25-multispati-part-2/).\n",
    "\n",
    "In this vignette, we perform MULTISPATI PCA on the MERFISH mouse liver dataset. See the first vignette using this dataset [here](https://pachterlab.github.io/voyager/articles/vig6_merfish.html).\n",
    "\n",
    "Here we load the packages used:"
   ]
  },
  {
   "cell_type": "code",
   "execution_count": null,
<<<<<<< HEAD
<<<<<<< HEAD
<<<<<<< HEAD
   "id": "cb7adc8c",
||||||| 3477967
   "id": "168ae3b3",
=======
   "id": "fbb72248",
>>>>>>> 763a65aa00deab365d39bc26b2dcb2cc1410a666
||||||| eb63ff5
   "id": "cb7adc8c",
=======
   "id": "07367b4c",
>>>>>>> documentation-devel
||||||| cd53b20
<<<<<<< HEAD
   "id": "cb7adc8c",
||||||| 3477967
   "id": "168ae3b3",
=======
   "id": "fbb72248",
>>>>>>> 763a65aa00deab365d39bc26b2dcb2cc1410a666
=======
   "id": "0f42f577",
>>>>>>> 61c8f4bff1b7848db82b013fbfba194514b420ca
   "metadata": {
    "message": false,
    "name": "setup"
   },
   "outputs": [],
   "source": [
    "library(Voyager)\n",
    "library(SFEData)\n",
    "library(SpatialFeatureExperiment)\n",
    "library(scater)\n",
    "library(scran)\n",
    "library(scuttle)\n",
    "library(ggplot2)\n",
    "library(stringr)\n",
    "library(tidyr)\n",
    "library(tibble)\n",
    "library(bluster)\n",
    "library(BiocSingular)\n",
    "library(BiocParallel)\n",
    "library(sf)\n",
    "library(patchwork)\n",
    "theme_set(theme_bw())"
   ]
  },
  {
   "cell_type": "code",
   "execution_count": null,
<<<<<<< HEAD
<<<<<<< HEAD
<<<<<<< HEAD
   "id": "3f1e1747",
||||||| 3477967
   "id": "e50ddf28",
=======
   "id": "c447ad54",
>>>>>>> 763a65aa00deab365d39bc26b2dcb2cc1410a666
||||||| eb63ff5
   "id": "3f1e1747",
=======
   "id": "db35babf",
>>>>>>> documentation-devel
||||||| cd53b20
<<<<<<< HEAD
   "id": "3f1e1747",
||||||| 3477967
   "id": "e50ddf28",
=======
   "id": "c447ad54",
>>>>>>> 763a65aa00deab365d39bc26b2dcb2cc1410a666
=======
   "id": "24641543",
>>>>>>> 61c8f4bff1b7848db82b013fbfba194514b420ca
   "metadata": {},
   "outputs": [],
   "source": [
    "(sfe <- VizgenLiverData())"
   ]
  },
  {
   "cell_type": "markdown",
<<<<<<< HEAD
<<<<<<< HEAD
<<<<<<< HEAD
   "id": "e0a33002",
||||||| 3477967
   "id": "9ee76cac",
=======
   "id": "41219f34",
>>>>>>> 763a65aa00deab365d39bc26b2dcb2cc1410a666
||||||| eb63ff5
   "id": "e0a33002",
=======
   "id": "a80ad00b",
>>>>>>> documentation-devel
||||||| cd53b20
<<<<<<< HEAD
   "id": "e0a33002",
||||||| 3477967
   "id": "9ee76cac",
=======
   "id": "41219f34",
>>>>>>> 763a65aa00deab365d39bc26b2dcb2cc1410a666
=======
   "id": "1bea2679",
>>>>>>> 61c8f4bff1b7848db82b013fbfba194514b420ca
   "metadata": {
    "lines_to_next_cell": 0
   },
   "source": [
    "MULTISPATI PCA is one of the multivariate methods introduced in `Voyager` 1.2.0. All multivariate methods in `Voyager` are listed here:"
   ]
  },
  {
   "cell_type": "code",
   "execution_count": null,
<<<<<<< HEAD
<<<<<<< HEAD
<<<<<<< HEAD
   "id": "b5a74a81",
||||||| 3477967
   "id": "bea537e1",
=======
   "id": "a6428453",
>>>>>>> 763a65aa00deab365d39bc26b2dcb2cc1410a666
||||||| eb63ff5
   "id": "b5a74a81",
=======
   "id": "20a00a7c",
>>>>>>> documentation-devel
||||||| cd53b20
<<<<<<< HEAD
   "id": "b5a74a81",
||||||| 3477967
   "id": "bea537e1",
=======
   "id": "a6428453",
>>>>>>> 763a65aa00deab365d39bc26b2dcb2cc1410a666
=======
   "id": "ae51333e",
>>>>>>> 61c8f4bff1b7848db82b013fbfba194514b420ca
   "metadata": {},
   "outputs": [],
   "source": [
    "listSFEMethods(variate = \"multi\")"
   ]
  },
  {
   "cell_type": "markdown",
<<<<<<< HEAD
<<<<<<< HEAD
<<<<<<< HEAD
   "id": "8bfad2e2",
||||||| 3477967
   "id": "0b03538f",
=======
   "id": "982417d6",
>>>>>>> 763a65aa00deab365d39bc26b2dcb2cc1410a666
||||||| eb63ff5
   "id": "8bfad2e2",
=======
   "id": "19055c0d",
>>>>>>> documentation-devel
||||||| cd53b20
<<<<<<< HEAD
   "id": "8bfad2e2",
||||||| 3477967
   "id": "0b03538f",
=======
   "id": "982417d6",
>>>>>>> 763a65aa00deab365d39bc26b2dcb2cc1410a666
=======
   "id": "db2e3f45",
>>>>>>> 61c8f4bff1b7848db82b013fbfba194514b420ca
   "metadata": {
    "lines_to_next_cell": 0
   },
   "source": [
    "When calling `calculate*variate()` or `run*variate()`, the `type` (2nd) argument takes either an `SFEMethod` object or a string that matches an entry in the `name` column in the data frame returned by `listSFEMethods()`.\n",
    "\n",
    "# Quality control\n",
    "QC was already performed in the [first vignette](https://pachterlab.github.io/voyager/articles/vig6_merfish.html). We do the same QC here, but see the first vignette for more details."
   ]
  },
  {
   "cell_type": "code",
   "execution_count": null,
<<<<<<< HEAD
<<<<<<< HEAD
<<<<<<< HEAD
   "id": "e97c6600",
||||||| 3477967
   "id": "05ab3010",
=======
   "id": "da2fb12d",
>>>>>>> 763a65aa00deab365d39bc26b2dcb2cc1410a666
||||||| eb63ff5
   "id": "e97c6600",
=======
   "id": "a5c0fcbc",
>>>>>>> documentation-devel
||||||| cd53b20
<<<<<<< HEAD
   "id": "e97c6600",
||||||| 3477967
   "id": "05ab3010",
=======
   "id": "da2fb12d",
>>>>>>> 763a65aa00deab365d39bc26b2dcb2cc1410a666
=======
   "id": "416b80aa",
>>>>>>> 61c8f4bff1b7848db82b013fbfba194514b420ca
   "metadata": {},
   "outputs": [],
   "source": [
    "is_blank <- str_detect(rownames(sfe), \"^Blank-\")\n",
    "sfe <- addPerCellQCMetrics(sfe, subset = list(blank = is_blank))"
   ]
  },
  {
   "cell_type": "code",
   "execution_count": null,
<<<<<<< HEAD
<<<<<<< HEAD
<<<<<<< HEAD
   "id": "c07ca5a5",
||||||| 3477967
   "id": "92fd9b0e",
=======
   "id": "2af915a2",
>>>>>>> 763a65aa00deab365d39bc26b2dcb2cc1410a666
||||||| eb63ff5
   "id": "c07ca5a5",
=======
   "id": "b6449689",
>>>>>>> documentation-devel
||||||| cd53b20
<<<<<<< HEAD
   "id": "c07ca5a5",
||||||| 3477967
   "id": "92fd9b0e",
=======
   "id": "2af915a2",
>>>>>>> 763a65aa00deab365d39bc26b2dcb2cc1410a666
=======
   "id": "d63e438a",
>>>>>>> 61c8f4bff1b7848db82b013fbfba194514b420ca
   "metadata": {},
   "outputs": [],
   "source": [
    "get_neg_ctrl_outliers <- function(col, sfe, nmads = 3, log = FALSE) {\n",
    "    inds <- colData(sfe)$nCounts > 0 & colData(sfe)[[col]] > 0\n",
    "    df <- colData(sfe)[inds,]\n",
    "    outlier_inds <- isOutlier(df[[col]], type = \"higher\", nmads = nmads, log = log)\n",
    "    outliers <- rownames(df)[outlier_inds]\n",
    "    col2 <- str_remove(col, \"^subsets_\")\n",
    "    col2 <- str_remove(col2, \"_percent$\")\n",
    "    new_colname <- paste(\"is\", col2, \"outlier\", sep = \"_\")\n",
    "    colData(sfe)[[new_colname]] <- colnames(sfe) %in% outliers\n",
    "    sfe\n",
    "}"
   ]
  },
  {
   "cell_type": "code",
   "execution_count": null,
<<<<<<< HEAD
<<<<<<< HEAD
<<<<<<< HEAD
   "id": "82fb60ed",
||||||| 3477967
   "id": "612e20b4",
=======
   "id": "1f86aed3",
>>>>>>> 763a65aa00deab365d39bc26b2dcb2cc1410a666
||||||| eb63ff5
   "id": "82fb60ed",
=======
   "id": "cac2589c",
>>>>>>> documentation-devel
||||||| cd53b20
<<<<<<< HEAD
   "id": "82fb60ed",
||||||| 3477967
   "id": "612e20b4",
=======
   "id": "1f86aed3",
>>>>>>> 763a65aa00deab365d39bc26b2dcb2cc1410a666
=======
   "id": "ff4a806c",
>>>>>>> 61c8f4bff1b7848db82b013fbfba194514b420ca
   "metadata": {},
   "outputs": [],
   "source": [
    "sfe <- get_neg_ctrl_outliers(\"subsets_blank_percent\", sfe, log = TRUE)"
   ]
  },
  {
   "cell_type": "markdown",
<<<<<<< HEAD
<<<<<<< HEAD
<<<<<<< HEAD
   "id": "be7ddab1",
||||||| 3477967
   "id": "e57a1f39",
=======
   "id": "5d3050bb",
>>>>>>> 763a65aa00deab365d39bc26b2dcb2cc1410a666
||||||| eb63ff5
   "id": "be7ddab1",
=======
   "id": "f6f3f884",
>>>>>>> documentation-devel
||||||| cd53b20
<<<<<<< HEAD
   "id": "be7ddab1",
||||||| 3477967
   "id": "e57a1f39",
=======
   "id": "5d3050bb",
>>>>>>> 763a65aa00deab365d39bc26b2dcb2cc1410a666
=======
   "id": "03eac509",
>>>>>>> 61c8f4bff1b7848db82b013fbfba194514b420ca
   "metadata": {
    "lines_to_next_cell": 0
   },
   "source": [
    "Remove the outliers and empty cells:"
   ]
  },
  {
   "cell_type": "code",
   "execution_count": null,
<<<<<<< HEAD
<<<<<<< HEAD
<<<<<<< HEAD
   "id": "ceb8aefb",
||||||| 3477967
   "id": "ad4e9360",
=======
   "id": "842a96a9",
>>>>>>> 763a65aa00deab365d39bc26b2dcb2cc1410a666
||||||| eb63ff5
   "id": "ceb8aefb",
=======
   "id": "afc58bcf",
>>>>>>> documentation-devel
||||||| cd53b20
<<<<<<< HEAD
   "id": "ceb8aefb",
||||||| 3477967
   "id": "ad4e9360",
=======
   "id": "842a96a9",
>>>>>>> 763a65aa00deab365d39bc26b2dcb2cc1410a666
=======
   "id": "09660499",
>>>>>>> 61c8f4bff1b7848db82b013fbfba194514b420ca
   "metadata": {},
   "outputs": [],
   "source": [
    "inds <- !sfe$is_blank_outlier & sfe$nCounts > 0\n",
    "(sfe <- sfe[, inds])"
   ]
  },
  {
   "cell_type": "markdown",
<<<<<<< HEAD
<<<<<<< HEAD
<<<<<<< HEAD
   "id": "1a36d098",
||||||| 3477967
   "id": "b6241538",
=======
   "id": "6b6103a1",
>>>>>>> 763a65aa00deab365d39bc26b2dcb2cc1410a666
||||||| eb63ff5
   "id": "1a36d098",
=======
   "id": "8910d973",
>>>>>>> documentation-devel
||||||| cd53b20
<<<<<<< HEAD
   "id": "1a36d098",
||||||| 3477967
   "id": "b6241538",
=======
   "id": "6b6103a1",
>>>>>>> 763a65aa00deab365d39bc26b2dcb2cc1410a666
=======
   "id": "550cf0f6",
>>>>>>> 61c8f4bff1b7848db82b013fbfba194514b420ca
   "metadata": {},
   "source": [
    "There still are over 390,000 cells left after removing the outliers. \n",
    "\n",
    "Next we compute Moran's I for QC metrics, which requires a spatial neighborhood graph:"
   ]
  },
  {
   "cell_type": "code",
   "execution_count": null,
<<<<<<< HEAD
<<<<<<< HEAD
<<<<<<< HEAD
   "id": "9fb894a1",
||||||| 3477967
   "id": "e447b03b",
=======
   "id": "cf545402",
>>>>>>> 763a65aa00deab365d39bc26b2dcb2cc1410a666
||||||| eb63ff5
   "id": "9fb894a1",
=======
   "id": "8bf6ec86",
>>>>>>> documentation-devel
||||||| cd53b20
<<<<<<< HEAD
   "id": "9fb894a1",
||||||| 3477967
   "id": "e447b03b",
=======
   "id": "cf545402",
>>>>>>> 763a65aa00deab365d39bc26b2dcb2cc1410a666
=======
   "id": "3bede054",
>>>>>>> 61c8f4bff1b7848db82b013fbfba194514b420ca
   "metadata": {},
   "outputs": [],
   "source": [
    "system.time(\n",
    "    colGraph(sfe, \"knn5\") <- findSpatialNeighbors(sfe, method = \"knearneigh\", \n",
    "                                                  dist_type = \"idw\", k = 5, \n",
    "                                                  style = \"W\")\n",
    ")"
   ]
  },
  {
   "cell_type": "code",
   "execution_count": null,
<<<<<<< HEAD
<<<<<<< HEAD
<<<<<<< HEAD
   "id": "c2190272",
||||||| 3477967
   "id": "b198866b",
=======
   "id": "2700ea7a",
>>>>>>> 763a65aa00deab365d39bc26b2dcb2cc1410a666
||||||| eb63ff5
   "id": "c2190272",
=======
   "id": "d816c00a",
>>>>>>> documentation-devel
||||||| cd53b20
<<<<<<< HEAD
   "id": "c2190272",
||||||| 3477967
   "id": "b198866b",
=======
   "id": "2700ea7a",
>>>>>>> 763a65aa00deab365d39bc26b2dcb2cc1410a666
=======
   "id": "ac3188ce",
>>>>>>> 61c8f4bff1b7848db82b013fbfba194514b420ca
   "metadata": {},
   "outputs": [],
   "source": [
    "features_use <- c(\"nCounts\", \"nGenes\", \"volume\")\n",
    "sfe <- colDataUnivariate(sfe, \"moran.mc\", features_use, \n",
    "                         colGraphName = \"knn5\", nsim = 49, \n",
    "                         BPPARAM = MulticoreParam(2))"
   ]
  },
  {
   "cell_type": "code",
   "execution_count": null,
<<<<<<< HEAD
<<<<<<< HEAD
<<<<<<< HEAD
   "id": "f8083598",
||||||| 3477967
   "id": "033e0070",
=======
   "id": "b3bbc36b",
>>>>>>> 763a65aa00deab365d39bc26b2dcb2cc1410a666
||||||| eb63ff5
   "id": "f8083598",
=======
   "id": "99c135e8",
>>>>>>> documentation-devel
||||||| cd53b20
<<<<<<< HEAD
   "id": "f8083598",
||||||| 3477967
   "id": "033e0070",
=======
   "id": "b3bbc36b",
>>>>>>> 763a65aa00deab365d39bc26b2dcb2cc1410a666
=======
   "id": "880f968b",
>>>>>>> 61c8f4bff1b7848db82b013fbfba194514b420ca
   "metadata": {},
   "outputs": [],
   "source": [
    "plotMoranMC(sfe, features_use)"
   ]
  },
  {
   "cell_type": "markdown",
<<<<<<< HEAD
<<<<<<< HEAD
<<<<<<< HEAD
   "id": "cef565a2",
||||||| 3477967
   "id": "8ad143b9",
=======
   "id": "d213600a",
>>>>>>> 763a65aa00deab365d39bc26b2dcb2cc1410a666
||||||| eb63ff5
   "id": "cef565a2",
=======
   "id": "5ce10a1f",
>>>>>>> documentation-devel
||||||| cd53b20
<<<<<<< HEAD
   "id": "cef565a2",
||||||| 3477967
   "id": "8ad143b9",
=======
   "id": "d213600a",
>>>>>>> 763a65aa00deab365d39bc26b2dcb2cc1410a666
=======
   "id": "15f2361f",
>>>>>>> 61c8f4bff1b7848db82b013fbfba194514b420ca
   "metadata": {},
   "source": [
    "Here Moran's I is a little negative, but from the permutation testing, it is significant, though that can also be the large number of cells. The lower bound of Moran's I given the spatial neighborhood graph is usually closer to -0.5 than -1, while the upper bound is usually around 1. The bounds given a specific spatial neighborhood graph can be found with `moranBounds()`, but because it double centers the adjacency matrix, hence making it dense, there isn't enough memory to use it for the entire dataset. But we can look at the Moran bounds of a small subset of data, which might be generalizable to the whole dataset given that this tissue appears quite homogeneous in space."
   ]
  },
  {
   "cell_type": "code",
   "execution_count": null,
<<<<<<< HEAD
<<<<<<< HEAD
<<<<<<< HEAD
   "id": "e6b7368b",
||||||| 3477967
   "id": "18dbcabc",
=======
   "id": "2d18efdc",
>>>>>>> 763a65aa00deab365d39bc26b2dcb2cc1410a666
||||||| eb63ff5
   "id": "e6b7368b",
=======
   "id": "2b72bc01",
>>>>>>> documentation-devel
||||||| cd53b20
<<<<<<< HEAD
   "id": "e6b7368b",
||||||| 3477967
   "id": "18dbcabc",
=======
   "id": "2d18efdc",
>>>>>>> 763a65aa00deab365d39bc26b2dcb2cc1410a666
=======
   "id": "de26bf3e",
>>>>>>> 61c8f4bff1b7848db82b013fbfba194514b420ca
   "metadata": {},
   "outputs": [],
   "source": [
    "bbox_use <- c(xmin = 6000, xmax = 7000, ymin = 4000, ymax = 5000)\n",
    "inds2 <- st_intersects(cellSeg(sfe), st_as_sfc(st_bbox(bbox_use)), \n",
    "                       sparse = FALSE)[,1]\n",
    "sfe_sub <- sfe[, inds2]"
   ]
  },
  {
   "cell_type": "code",
   "execution_count": null,
<<<<<<< HEAD
<<<<<<< HEAD
<<<<<<< HEAD
   "id": "2c5b4401",
||||||| 3477967
   "id": "524c9312",
=======
   "id": "09de2983",
>>>>>>> 763a65aa00deab365d39bc26b2dcb2cc1410a666
||||||| eb63ff5
   "id": "2c5b4401",
=======
   "id": "26c609f1",
>>>>>>> documentation-devel
||||||| cd53b20
<<<<<<< HEAD
   "id": "2c5b4401",
||||||| 3477967
   "id": "524c9312",
=======
   "id": "09de2983",
>>>>>>> 763a65aa00deab365d39bc26b2dcb2cc1410a666
=======
   "id": "ec3e7e1a",
>>>>>>> 61c8f4bff1b7848db82b013fbfba194514b420ca
   "metadata": {},
   "outputs": [],
   "source": [
    "(mb <- moranBounds(colGraph(sfe_sub, \"knn5\")))"
   ]
  },
  {
   "cell_type": "markdown",
<<<<<<< HEAD
<<<<<<< HEAD
<<<<<<< HEAD
   "id": "8075fe29",
||||||| 3477967
   "id": "00fdbafa",
=======
   "id": "50b34ed9",
>>>>>>> 763a65aa00deab365d39bc26b2dcb2cc1410a666
||||||| eb63ff5
   "id": "8075fe29",
=======
   "id": "e592652c",
>>>>>>> documentation-devel
||||||| cd53b20
<<<<<<< HEAD
   "id": "8075fe29",
||||||| 3477967
   "id": "00fdbafa",
=======
   "id": "50b34ed9",
>>>>>>> 763a65aa00deab365d39bc26b2dcb2cc1410a666
=======
   "id": "18355767",
>>>>>>> 61c8f4bff1b7848db82b013fbfba194514b420ca
   "metadata": {
    "lines_to_next_cell": 0
   },
   "source": [
    "So considering the bounds, the MOran's I values of the QC metrics are more like"
   ]
  },
  {
   "cell_type": "code",
   "execution_count": null,
<<<<<<< HEAD
<<<<<<< HEAD
<<<<<<< HEAD
   "id": "df1f4ccb",
||||||| 3477967
   "id": "43030c13",
=======
   "id": "c35980f3",
>>>>>>> 763a65aa00deab365d39bc26b2dcb2cc1410a666
||||||| eb63ff5
   "id": "df1f4ccb",
=======
   "id": "fedbde94",
>>>>>>> documentation-devel
||||||| cd53b20
<<<<<<< HEAD
   "id": "df1f4ccb",
||||||| 3477967
   "id": "43030c13",
=======
   "id": "c35980f3",
>>>>>>> 763a65aa00deab365d39bc26b2dcb2cc1410a666
=======
   "id": "87f72b55",
>>>>>>> 61c8f4bff1b7848db82b013fbfba194514b420ca
   "metadata": {},
   "outputs": [],
   "source": [
    "setNames(colFeatureData(sfe)[c(\"nCounts\", \"nGenes\", \"volume\"), \n",
    "                             \"moran.mc_statistic_sample01\"] / mb[\"Imin\"],\n",
    "         features_use)"
   ]
  },
  {
   "cell_type": "markdown",
<<<<<<< HEAD
<<<<<<< HEAD
<<<<<<< HEAD
   "id": "3a6ff910",
||||||| 3477967
   "id": "441dca41",
=======
   "id": "b6e36b24",
>>>>>>> 763a65aa00deab365d39bc26b2dcb2cc1410a666
||||||| eb63ff5
   "id": "3a6ff910",
=======
   "id": "6b61127c",
>>>>>>> documentation-devel
||||||| cd53b20
<<<<<<< HEAD
   "id": "3a6ff910",
||||||| 3477967
   "id": "441dca41",
=======
   "id": "b6e36b24",
>>>>>>> 763a65aa00deab365d39bc26b2dcb2cc1410a666
=======
   "id": "6b8e1d72",
>>>>>>> 61c8f4bff1b7848db82b013fbfba194514b420ca
   "metadata": {},
   "source": [
    "whose magnitudes seem more substantial for `nCounts` and `nGenes` if it's positive spatial autocorrelation. So there may be mild to moderate negative spatial autocorrelation.\n",
    "\n",
    "# Non-spatial PCA\n",
    "First we run non-spatial PCA, to compare to MULTISPATI."
   ]
  },
  {
   "cell_type": "code",
   "execution_count": null,
<<<<<<< HEAD
<<<<<<< HEAD
<<<<<<< HEAD
   "id": "a2baf801",
||||||| 3477967
   "id": "079f692d",
=======
   "id": "257ca321",
>>>>>>> 763a65aa00deab365d39bc26b2dcb2cc1410a666
||||||| eb63ff5
   "id": "a2baf801",
=======
   "id": "f7a99645",
>>>>>>> documentation-devel
||||||| cd53b20
<<<<<<< HEAD
   "id": "a2baf801",
||||||| 3477967
   "id": "079f692d",
=======
   "id": "257ca321",
>>>>>>> 763a65aa00deab365d39bc26b2dcb2cc1410a666
=======
   "id": "fabca360",
>>>>>>> 61c8f4bff1b7848db82b013fbfba194514b420ca
   "metadata": {},
   "outputs": [],
   "source": [
    "sfe <- logNormCounts(sfe)"
   ]
  },
  {
   "cell_type": "code",
   "execution_count": null,
<<<<<<< HEAD
<<<<<<< HEAD
<<<<<<< HEAD
   "id": "b00b182f",
||||||| 3477967
   "id": "c70eb466",
=======
   "id": "68dfe87f",
>>>>>>> 763a65aa00deab365d39bc26b2dcb2cc1410a666
||||||| eb63ff5
   "id": "b00b182f",
=======
   "id": "1b9b56a4",
>>>>>>> documentation-devel
||||||| cd53b20
<<<<<<< HEAD
   "id": "b00b182f",
||||||| 3477967
   "id": "c70eb466",
=======
   "id": "68dfe87f",
>>>>>>> 763a65aa00deab365d39bc26b2dcb2cc1410a666
=======
   "id": "f4542f46",
>>>>>>> 61c8f4bff1b7848db82b013fbfba194514b420ca
   "metadata": {},
   "outputs": [],
   "source": [
    "set.seed(29)\n",
    "system.time(\n",
    "    sfe <- runPCA(sfe, ncomponents = 20, subset_row = !is_blank,\n",
    "                  exprs_values = \"logcounts\",\n",
    "                  scale = TRUE, BSPARAM = IrlbaParam())\n",
    ")\n",
    "gc()"
   ]
  },
  {
   "cell_type": "markdown",
<<<<<<< HEAD
<<<<<<< HEAD
<<<<<<< HEAD
   "id": "9455f16f",
||||||| 3477967
   "id": "274b3a67",
=======
   "id": "4089a03a",
>>>>>>> 763a65aa00deab365d39bc26b2dcb2cc1410a666
||||||| eb63ff5
   "id": "9455f16f",
=======
   "id": "cf2ff4b1",
>>>>>>> documentation-devel
||||||| cd53b20
<<<<<<< HEAD
   "id": "9455f16f",
||||||| 3477967
   "id": "274b3a67",
=======
   "id": "4089a03a",
>>>>>>> 763a65aa00deab365d39bc26b2dcb2cc1410a666
=======
   "id": "5403f6ee",
>>>>>>> 61c8f4bff1b7848db82b013fbfba194514b420ca
   "metadata": {},
   "source": [
    "That's pretty quick for almost 400,000 cells, but there aren't that many genes here. Use the elbow plot to see variance explained by each PC:"
   ]
  },
  {
   "cell_type": "code",
   "execution_count": null,
<<<<<<< HEAD
<<<<<<< HEAD
<<<<<<< HEAD
   "id": "45d95690",
||||||| 3477967
   "id": "c9f8ac2c",
=======
   "id": "39e34b0f",
>>>>>>> 763a65aa00deab365d39bc26b2dcb2cc1410a666
||||||| eb63ff5
   "id": "45d95690",
=======
   "id": "eebc742c",
>>>>>>> documentation-devel
||||||| cd53b20
<<<<<<< HEAD
   "id": "45d95690",
||||||| 3477967
   "id": "c9f8ac2c",
=======
   "id": "39e34b0f",
>>>>>>> 763a65aa00deab365d39bc26b2dcb2cc1410a666
=======
   "id": "22543db2",
>>>>>>> 61c8f4bff1b7848db82b013fbfba194514b420ca
   "metadata": {},
   "outputs": [],
   "source": [
    "ElbowPlot(sfe)"
   ]
  },
  {
   "cell_type": "markdown",
<<<<<<< HEAD
<<<<<<< HEAD
<<<<<<< HEAD
   "id": "d32a93b6",
||||||| 3477967
   "id": "1761e4c1",
=======
   "id": "553f0cda",
>>>>>>> 763a65aa00deab365d39bc26b2dcb2cc1410a666
||||||| eb63ff5
   "id": "d32a93b6",
=======
   "id": "bbb1b791",
>>>>>>> documentation-devel
||||||| cd53b20
<<<<<<< HEAD
   "id": "d32a93b6",
||||||| 3477967
   "id": "1761e4c1",
=======
   "id": "553f0cda",
>>>>>>> 763a65aa00deab365d39bc26b2dcb2cc1410a666
=======
   "id": "b0480b7f",
>>>>>>> 61c8f4bff1b7848db82b013fbfba194514b420ca
   "metadata": {
    "lines_to_next_cell": 0
   },
   "source": [
    "Plot top gene loadings in each PC"
   ]
  },
  {
   "cell_type": "code",
   "execution_count": null,
<<<<<<< HEAD
<<<<<<< HEAD
<<<<<<< HEAD
   "id": "0d36de6c",
||||||| 3477967
   "id": "84f7210f",
=======
   "id": "39df89fe",
>>>>>>> 763a65aa00deab365d39bc26b2dcb2cc1410a666
||||||| eb63ff5
   "id": "0d36de6c",
=======
   "id": "7ff14b73",
>>>>>>> documentation-devel
||||||| cd53b20
<<<<<<< HEAD
   "id": "0d36de6c",
||||||| 3477967
   "id": "84f7210f",
=======
   "id": "39df89fe",
>>>>>>> 763a65aa00deab365d39bc26b2dcb2cc1410a666
=======
   "id": "57737870",
>>>>>>> 61c8f4bff1b7848db82b013fbfba194514b420ca
   "metadata": {},
   "outputs": [],
   "source": [
    "plotDimLoadings(sfe)"
   ]
  },
  {
   "cell_type": "markdown",
<<<<<<< HEAD
<<<<<<< HEAD
<<<<<<< HEAD
   "id": "b1b9fe2b",
||||||| 3477967
   "id": "1303b749",
=======
   "id": "42e25f0f",
>>>>>>> 763a65aa00deab365d39bc26b2dcb2cc1410a666
||||||| eb63ff5
   "id": "b1b9fe2b",
=======
   "id": "9788158a",
>>>>>>> documentation-devel
||||||| cd53b20
<<<<<<< HEAD
   "id": "b1b9fe2b",
||||||| 3477967
   "id": "1303b749",
=======
   "id": "42e25f0f",
>>>>>>> 763a65aa00deab365d39bc26b2dcb2cc1410a666
=======
   "id": "1584203f",
>>>>>>> 61c8f4bff1b7848db82b013fbfba194514b420ca
   "metadata": {
    "lines_to_next_cell": 0
   },
   "source": [
    "Many of these genes seem to be related to the endothelium.\n",
    "\n",
    "Plot the first 4 PCs in space"
   ]
  },
  {
   "cell_type": "code",
   "execution_count": null,
<<<<<<< HEAD
<<<<<<< HEAD
<<<<<<< HEAD
   "id": "eda2acbb",
||||||| 3477967
   "id": "547b3459",
=======
   "id": "f1118db2",
>>>>>>> 763a65aa00deab365d39bc26b2dcb2cc1410a666
||||||| eb63ff5
   "id": "eda2acbb",
=======
   "id": "a53d3c75",
>>>>>>> documentation-devel
||||||| cd53b20
<<<<<<< HEAD
   "id": "eda2acbb",
||||||| 3477967
   "id": "547b3459",
=======
   "id": "f1118db2",
>>>>>>> 763a65aa00deab365d39bc26b2dcb2cc1410a666
=======
   "id": "e10b1d6d",
>>>>>>> 61c8f4bff1b7848db82b013fbfba194514b420ca
   "metadata": {
    "fig.height": 7,
    "fig.width": 9
   },
   "outputs": [],
   "source": [
    "spatialReducedDim(sfe, \"PCA\", 4, colGeometryName = \"centroids\", scattermore = TRUE,\n",
    "                  divergent = TRUE, diverge_center = 0)"
   ]
  },
  {
   "cell_type": "markdown",
<<<<<<< HEAD
<<<<<<< HEAD
<<<<<<< HEAD
   "id": "79597b3f",
||||||| 3477967
   "id": "054c3054",
=======
   "id": "93f3c42e",
>>>>>>> 763a65aa00deab365d39bc26b2dcb2cc1410a666
||||||| eb63ff5
   "id": "79597b3f",
=======
   "id": "5659fadf",
>>>>>>> documentation-devel
||||||| cd53b20
<<<<<<< HEAD
   "id": "79597b3f",
||||||| 3477967
   "id": "054c3054",
=======
   "id": "93f3c42e",
>>>>>>> 763a65aa00deab365d39bc26b2dcb2cc1410a666
=======
   "id": "a5bc7514",
>>>>>>> 61c8f4bff1b7848db82b013fbfba194514b420ca
   "metadata": {},
   "source": [
    "PC1 and PC4 highlight the major blood vessels, while PC2 and PC3 have less spatial structure. While in the CosMX and Xenium datasets on this website, the top PCs have clear spatial structures despite the absence of spatial information in non-spatial PCA because of clear spatial compartments for some cell types, which does not seem to be the case in this dataset except for the blood vessels. We have seen above that some genes have strong spatial structures. \n",
    "\n",
    "While PC2 and PC3 don't seem to have large scale spatial structure, they may have more local spatial structure not obvious from plotting the entire section, so we zoom into a bounding box:"
   ]
  },
  {
   "cell_type": "code",
   "execution_count": null,
<<<<<<< HEAD
<<<<<<< HEAD
<<<<<<< HEAD
   "id": "288483f0",
||||||| 3477967
   "id": "59c74b0b",
=======
   "id": "9c1ac1cf",
>>>>>>> 763a65aa00deab365d39bc26b2dcb2cc1410a666
||||||| eb63ff5
   "id": "288483f0",
=======
   "id": "59013e11",
>>>>>>> documentation-devel
||||||| cd53b20
<<<<<<< HEAD
   "id": "288483f0",
||||||| 3477967
   "id": "59c74b0b",
=======
   "id": "9c1ac1cf",
>>>>>>> 763a65aa00deab365d39bc26b2dcb2cc1410a666
=======
   "id": "1e8ab67f",
>>>>>>> 61c8f4bff1b7848db82b013fbfba194514b420ca
   "metadata": {},
   "outputs": [],
   "source": [
    "bbox_use <- c(xmin = 3000, xmax = 3500, ymin = 2500, ymax = 3000)"
   ]
  },
  {
   "cell_type": "code",
   "execution_count": null,
<<<<<<< HEAD
<<<<<<< HEAD
<<<<<<< HEAD
   "id": "9f244345",
||||||| 3477967
   "id": "d6e50023",
=======
   "id": "d0234157",
>>>>>>> 763a65aa00deab365d39bc26b2dcb2cc1410a666
||||||| eb63ff5
   "id": "9f244345",
=======
   "id": "49263701",
>>>>>>> documentation-devel
||||||| cd53b20
<<<<<<< HEAD
   "id": "9f244345",
||||||| 3477967
   "id": "d6e50023",
=======
   "id": "d0234157",
>>>>>>> 763a65aa00deab365d39bc26b2dcb2cc1410a666
=======
   "id": "5b5fc579",
>>>>>>> 61c8f4bff1b7848db82b013fbfba194514b420ca
   "metadata": {
    "fig.height": 7,
    "fig.width": 9
   },
   "outputs": [],
   "source": [
    "spatialReducedDim(sfe, \"PCA\", ncomponents = 4, colGeometryName = \"cellSeg\",\n",
    "                  bbox = bbox_use, divergent = TRUE, diverge_center = 0)"
   ]
  },
  {
   "cell_type": "markdown",
<<<<<<< HEAD
<<<<<<< HEAD
<<<<<<< HEAD
   "id": "5b23e7cc",
||||||| 3477967
   "id": "bb90cbb5",
=======
   "id": "8239e9a1",
>>>>>>> 763a65aa00deab365d39bc26b2dcb2cc1410a666
||||||| eb63ff5
   "id": "5b23e7cc",
=======
   "id": "0c2688bd",
>>>>>>> documentation-devel
||||||| cd53b20
<<<<<<< HEAD
   "id": "5b23e7cc",
||||||| 3477967
   "id": "bb90cbb5",
=======
   "id": "8239e9a1",
>>>>>>> 763a65aa00deab365d39bc26b2dcb2cc1410a666
=======
   "id": "c6c7712f",
>>>>>>> 61c8f4bff1b7848db82b013fbfba194514b420ca
   "metadata": {},
   "source": [
    "There's some spatial structure at a smaller scale, perhaps some negative spatial autocorrelation.\n",
    "\n",
    "# MULTISPATI PCA"
   ]
  },
  {
   "cell_type": "code",
   "execution_count": null,
<<<<<<< HEAD
<<<<<<< HEAD
<<<<<<< HEAD
   "id": "4643c885",
||||||| 3477967
   "id": "8b6ba1a0",
=======
   "id": "1a913311",
>>>>>>> 763a65aa00deab365d39bc26b2dcb2cc1410a666
||||||| eb63ff5
   "id": "4643c885",
=======
   "id": "d29899fa",
>>>>>>> documentation-devel
||||||| cd53b20
<<<<<<< HEAD
   "id": "4643c885",
||||||| 3477967
   "id": "8b6ba1a0",
=======
   "id": "1a913311",
>>>>>>> 763a65aa00deab365d39bc26b2dcb2cc1410a666
=======
   "id": "bb5e3aa5",
>>>>>>> 61c8f4bff1b7848db82b013fbfba194514b420ca
   "metadata": {},
   "outputs": [],
   "source": [
    "sfe <- runMultivariate(sfe, \"multispati\", colGraphName = \"knn5\", nfposi = 20,\n",
    "                       nfnega = 20)"
   ]
  },
  {
   "cell_type": "markdown",
<<<<<<< HEAD
<<<<<<< HEAD
<<<<<<< HEAD
   "id": "766a469c",
||||||| 3477967
   "id": "212980d2",
=======
   "id": "595cebba",
>>>>>>> 763a65aa00deab365d39bc26b2dcb2cc1410a666
||||||| eb63ff5
   "id": "766a469c",
=======
   "id": "ff978f8b",
>>>>>>> documentation-devel
||||||| cd53b20
<<<<<<< HEAD
   "id": "766a469c",
||||||| 3477967
   "id": "212980d2",
=======
   "id": "595cebba",
>>>>>>> 763a65aa00deab365d39bc26b2dcb2cc1410a666
=======
   "id": "439e6f02",
>>>>>>> 61c8f4bff1b7848db82b013fbfba194514b420ca
   "metadata": {
    "lines_to_next_cell": 0
   },
   "source": [
    "Then plot the most positive and most negative eigenvalues. Note that the eigenvalues here are not variance explained. Instead, they are the product of variance explained and Moran's I. So the most positive eigenvalues correspond to eigenvectors that simultaneously explain more variance and have large positive Moran's I. The most negative eigenvalues correspond to eigenvectors that simultaneously explain more variance and have large negative Moran's I."
   ]
  },
  {
   "cell_type": "code",
   "execution_count": null,
<<<<<<< HEAD
<<<<<<< HEAD
<<<<<<< HEAD
   "id": "be371b03",
||||||| 3477967
   "id": "c4ed37a1",
=======
   "id": "ec676ee8",
>>>>>>> 763a65aa00deab365d39bc26b2dcb2cc1410a666
||||||| eb63ff5
   "id": "be371b03",
=======
   "id": "a2aa74e3",
>>>>>>> documentation-devel
||||||| cd53b20
<<<<<<< HEAD
   "id": "be371b03",
||||||| 3477967
   "id": "c4ed37a1",
=======
   "id": "ec676ee8",
>>>>>>> 763a65aa00deab365d39bc26b2dcb2cc1410a666
=======
   "id": "45619ce3",
>>>>>>> 61c8f4bff1b7848db82b013fbfba194514b420ca
   "metadata": {},
   "outputs": [],
   "source": [
    "ElbowPlot(sfe, nfnega = 20, reduction = \"multispati\")"
   ]
  },
  {
   "cell_type": "markdown",
<<<<<<< HEAD
<<<<<<< HEAD
<<<<<<< HEAD
   "id": "bfb48c0d",
||||||| 3477967
   "id": "832bb5b4",
=======
   "id": "ff2b2ddf",
>>>>>>> 763a65aa00deab365d39bc26b2dcb2cc1410a666
||||||| eb63ff5
   "id": "bfb48c0d",
=======
   "id": "c16d776a",
>>>>>>> documentation-devel
||||||| cd53b20
<<<<<<< HEAD
   "id": "bfb48c0d",
||||||| 3477967
   "id": "832bb5b4",
=======
   "id": "ff2b2ddf",
>>>>>>> 763a65aa00deab365d39bc26b2dcb2cc1410a666
=======
   "id": "4497a4c2",
>>>>>>> 61c8f4bff1b7848db82b013fbfba194514b420ca
   "metadata": {},
   "source": [
    "Here the positive eigenvalues drop sharply from PC1 to PC4, and there is only one very negative eigenvalue which might be interesting, which is unsurprising given the moderately negative Moran's I for `nCounts` and `nGenes`. However, from the [first MERFISH vignette](https://pachterlab.github.io/voyager/articles/vig6_merfish.html#morans-i), none of the genes have very negative Moran's I. Perhaps the negative eigenvalue comes from negative spatial autocorrelation in a gene program or \"eigengene\" and is not obvious from individual genes. This is the beauty of multivariate analysis.\n",
    "\n",
    "What do these components mean? Each component is a linear combination of genes to maximize the product of variance explained and Moran's I. The second component maximizes this product provided that it's orthogonal to the first component, and so on. As the loss in variance explained is usually not huge, these components can be considered axes along which _spatially coherent_ groups of spots are separated from each other as much as possible according to expression of the highly variable genes, so in theory, clustering with positive MULTISPATI components should give more spatially coherent clusters. Because of the spatial coherence, MULTISPATI might be more robust to outliers."
   ]
  },
  {
   "cell_type": "code",
   "execution_count": null,
<<<<<<< HEAD
<<<<<<< HEAD
<<<<<<< HEAD
   "id": "cac5d6cd",
||||||| 3477967
   "id": "378cbbbd",
=======
   "id": "31f8b7ff",
>>>>>>> 763a65aa00deab365d39bc26b2dcb2cc1410a666
||||||| eb63ff5
   "id": "cac5d6cd",
=======
   "id": "221fb36d",
>>>>>>> documentation-devel
||||||| cd53b20
<<<<<<< HEAD
   "id": "cac5d6cd",
||||||| 3477967
   "id": "378cbbbd",
=======
   "id": "31f8b7ff",
>>>>>>> 763a65aa00deab365d39bc26b2dcb2cc1410a666
=======
   "id": "38655a97",
>>>>>>> 61c8f4bff1b7848db82b013fbfba194514b420ca
   "metadata": {},
   "outputs": [],
   "source": [
    "plotDimLoadings(sfe, dims = c(1:3, 40), reduction = \"multispati\")"
   ]
  },
  {
   "cell_type": "markdown",
<<<<<<< HEAD
<<<<<<< HEAD
<<<<<<< HEAD
   "id": "5b3c1313",
||||||| 3477967
   "id": "02178ad1",
=======
   "id": "b7350d4c",
>>>>>>> 763a65aa00deab365d39bc26b2dcb2cc1410a666
||||||| eb63ff5
   "id": "5b3c1313",
=======
   "id": "b4cefbab",
>>>>>>> documentation-devel
||||||| cd53b20
<<<<<<< HEAD
   "id": "5b3c1313",
||||||| 3477967
   "id": "02178ad1",
=======
   "id": "b7350d4c",
>>>>>>> 763a65aa00deab365d39bc26b2dcb2cc1410a666
=======
   "id": "cab0f27c",
>>>>>>> 61c8f4bff1b7848db82b013fbfba194514b420ca
   "metadata": {
    "lines_to_next_cell": 0
   },
   "source": [
    "From gene loadings, PC40 seems to separate blood vessels from hepatocytes.\n",
    "\n",
    "Plot the first 4 MULTISPATI PCs"
   ]
  },
  {
   "cell_type": "code",
   "execution_count": null,
<<<<<<< HEAD
<<<<<<< HEAD
<<<<<<< HEAD
   "id": "1d96cd22",
||||||| 3477967
   "id": "f71e501e",
=======
   "id": "bc82312b",
>>>>>>> 763a65aa00deab365d39bc26b2dcb2cc1410a666
||||||| eb63ff5
   "id": "1d96cd22",
=======
   "id": "4ec58166",
>>>>>>> documentation-devel
||||||| cd53b20
<<<<<<< HEAD
   "id": "1d96cd22",
||||||| 3477967
   "id": "f71e501e",
=======
   "id": "bc82312b",
>>>>>>> 763a65aa00deab365d39bc26b2dcb2cc1410a666
=======
   "id": "bdc42917",
>>>>>>> 61c8f4bff1b7848db82b013fbfba194514b420ca
   "metadata": {
    "fig.height": 7,
    "fig.width": 9,
    "lines_to_next_cell": 2
   },
   "outputs": [],
   "source": [
    "spatialReducedDim(sfe, \"multispati\", 4, colGeometryName = \"centroids\", scattermore = TRUE,\n",
    "                  divergent = TRUE, diverge_center = 0)"
   ]
  },
  {
   "cell_type": "markdown",
<<<<<<< HEAD
<<<<<<< HEAD
<<<<<<< HEAD
   "id": "4a88a598",
||||||| 3477967
   "id": "28a52042",
=======
   "id": "dfd94b75",
>>>>>>> 763a65aa00deab365d39bc26b2dcb2cc1410a666
||||||| eb63ff5
   "id": "4a88a598",
=======
   "id": "b177effe",
>>>>>>> documentation-devel
||||||| cd53b20
<<<<<<< HEAD
   "id": "4a88a598",
||||||| 3477967
   "id": "28a52042",
=======
   "id": "dfd94b75",
>>>>>>> 763a65aa00deab365d39bc26b2dcb2cc1410a666
=======
   "id": "eb3f2e85",
>>>>>>> 61c8f4bff1b7848db82b013fbfba194514b420ca
   "metadata": {},
   "source": [
    "The first two PCs pick up zoning. PC3 and PC4 seem to have smaller scale spatial structure, so we zoom in here:"
   ]
  },
  {
   "cell_type": "code",
   "execution_count": null,
<<<<<<< HEAD
<<<<<<< HEAD
<<<<<<< HEAD
   "id": "1538064b",
||||||| 3477967
   "id": "af3f9c9e",
=======
   "id": "30d1131c",
>>>>>>> 763a65aa00deab365d39bc26b2dcb2cc1410a666
||||||| eb63ff5
   "id": "1538064b",
=======
   "id": "ebf7055a",
>>>>>>> documentation-devel
||||||| cd53b20
<<<<<<< HEAD
   "id": "1538064b",
||||||| 3477967
   "id": "af3f9c9e",
=======
   "id": "30d1131c",
>>>>>>> 763a65aa00deab365d39bc26b2dcb2cc1410a666
=======
   "id": "b92bceb7",
>>>>>>> 61c8f4bff1b7848db82b013fbfba194514b420ca
   "metadata": {
    "fig.height": 7,
    "fig.width": 9
   },
   "outputs": [],
   "source": [
    "spatialReducedDim(sfe, \"multispati\", ncomponents = 4, colGeometryName = \"cellSeg\",\n",
    "                  bbox = bbox_use, divergent = TRUE, diverge_center = 0)"
   ]
  },
  {
   "cell_type": "markdown",
<<<<<<< HEAD
<<<<<<< HEAD
<<<<<<< HEAD
   "id": "d82a0756",
||||||| 3477967
   "id": "b519da2b",
=======
   "id": "860b725c",
>>>>>>> 763a65aa00deab365d39bc26b2dcb2cc1410a666
||||||| eb63ff5
   "id": "d82a0756",
=======
   "id": "40cd77a9",
>>>>>>> documentation-devel
||||||| cd53b20
<<<<<<< HEAD
   "id": "d82a0756",
||||||| 3477967
   "id": "b519da2b",
=======
   "id": "860b725c",
>>>>>>> 763a65aa00deab365d39bc26b2dcb2cc1410a666
=======
   "id": "3fb1d0c6",
>>>>>>> 61c8f4bff1b7848db82b013fbfba194514b420ca
   "metadata": {
    "lines_to_next_cell": 0
   },
   "source": [
    "What about the negative eigenvalue?"
   ]
  },
  {
   "cell_type": "code",
   "execution_count": null,
<<<<<<< HEAD
<<<<<<< HEAD
<<<<<<< HEAD
   "id": "caba2e9f",
||||||| 3477967
   "id": "5af2d3b6",
=======
   "id": "fd565389",
>>>>>>> 763a65aa00deab365d39bc26b2dcb2cc1410a666
||||||| eb63ff5
   "id": "caba2e9f",
=======
   "id": "a6b652b3",
>>>>>>> documentation-devel
||||||| cd53b20
<<<<<<< HEAD
   "id": "caba2e9f",
||||||| 3477967
   "id": "5af2d3b6",
=======
   "id": "fd565389",
>>>>>>> 763a65aa00deab365d39bc26b2dcb2cc1410a666
=======
   "id": "44b2f874",
>>>>>>> 61c8f4bff1b7848db82b013fbfba194514b420ca
   "metadata": {},
   "outputs": [],
   "source": [
    "spatialReducedDim(sfe, \"multispati\", 39:40, colGeometryName = \"cellSeg\", \n",
    "                  divergent = TRUE, diverge_center = 0, bbox = bbox_use)"
   ]
  },
  {
   "cell_type": "markdown",
<<<<<<< HEAD
<<<<<<< HEAD
<<<<<<< HEAD
   "id": "4b2db118",
||||||| 3477967
   "id": "a4ccd1ca",
=======
   "id": "ac58cc19",
>>>>>>> 763a65aa00deab365d39bc26b2dcb2cc1410a666
||||||| eb63ff5
   "id": "4b2db118",
=======
   "id": "0e6dded7",
>>>>>>> documentation-devel
||||||| cd53b20
<<<<<<< HEAD
   "id": "4b2db118",
||||||| 3477967
   "id": "a4ccd1ca",
=======
   "id": "ac58cc19",
>>>>>>> 763a65aa00deab365d39bc26b2dcb2cc1410a666
=======
   "id": "323fb831",
>>>>>>> 61c8f4bff1b7848db82b013fbfba194514b420ca
   "metadata": {},
   "source": [
    "# Spatial autocorrelation of principal components\n",
    "## Moran's I\n",
    "Here we compare Moran's I for cell embeddings in each non-spatial and MULTISPATI PC:"
   ]
  },
  {
   "cell_type": "code",
   "execution_count": null,
<<<<<<< HEAD
<<<<<<< HEAD
<<<<<<< HEAD
   "id": "138dc1ef",
||||||| 3477967
   "id": "f8941858",
=======
   "id": "b0329c7a",
>>>>>>> 763a65aa00deab365d39bc26b2dcb2cc1410a666
||||||| eb63ff5
   "id": "138dc1ef",
=======
   "id": "0cad0f26",
>>>>>>> documentation-devel
||||||| cd53b20
<<<<<<< HEAD
   "id": "138dc1ef",
||||||| 3477967
   "id": "f8941858",
=======
   "id": "b0329c7a",
>>>>>>> 763a65aa00deab365d39bc26b2dcb2cc1410a666
=======
   "id": "3ba790b2",
>>>>>>> 61c8f4bff1b7848db82b013fbfba194514b420ca
   "metadata": {},
   "outputs": [],
   "source": [
    "# non-spatial\n",
    "sfe <- reducedDimMoransI(sfe, dimred = \"PCA\", components = 1:20,\n",
    "                         BPPARAM = MulticoreParam(2))\n",
    "# spatial\n",
    "sfe <- reducedDimMoransI(sfe, dimred = \"multispati\", components = 1:40,\n",
    "                         BPPARAM = MulticoreParam(2))"
   ]
  },
  {
   "cell_type": "code",
   "execution_count": null,
<<<<<<< HEAD
<<<<<<< HEAD
<<<<<<< HEAD
   "id": "d3da50c0",
||||||| 3477967
   "id": "1f9d8094",
=======
   "id": "98cfde83",
>>>>>>> 763a65aa00deab365d39bc26b2dcb2cc1410a666
||||||| eb63ff5
   "id": "d3da50c0",
=======
   "id": "e4db4f81",
>>>>>>> documentation-devel
||||||| cd53b20
<<<<<<< HEAD
   "id": "d3da50c0",
||||||| 3477967
   "id": "1f9d8094",
=======
   "id": "98cfde83",
>>>>>>> 763a65aa00deab365d39bc26b2dcb2cc1410a666
=======
   "id": "86cf9543",
>>>>>>> 61c8f4bff1b7848db82b013fbfba194514b420ca
   "metadata": {},
   "outputs": [],
   "source": [
    "df_moran <- tibble(PCA = reducedDimFeatureData(sfe, \"PCA\")$moran_sample01[1:20],\n",
    "                   MULTISPATI_pos = \n",
    "                       reducedDimFeatureData(sfe, \"multispati\")$moran_sample01[1:20],\n",
    "                   MULTISPATI_neg = \n",
    "                       reducedDimFeatureData(sfe,\"multispati\")$moran_sample01[21:40] |> \n",
    "                       rev(),\n",
    "                   index = 1:20)"
   ]
  },
  {
   "cell_type": "code",
   "execution_count": null,
<<<<<<< HEAD
<<<<<<< HEAD
<<<<<<< HEAD
   "id": "beb3a8c8",
||||||| 3477967
   "id": "8914d2a3",
=======
   "id": "1829c74f",
>>>>>>> 763a65aa00deab365d39bc26b2dcb2cc1410a666
||||||| eb63ff5
   "id": "beb3a8c8",
=======
   "id": "c3cd4eaf",
>>>>>>> documentation-devel
||||||| cd53b20
<<<<<<< HEAD
   "id": "beb3a8c8",
||||||| 3477967
   "id": "8914d2a3",
=======
   "id": "1829c74f",
>>>>>>> 763a65aa00deab365d39bc26b2dcb2cc1410a666
=======
   "id": "37bca06a",
>>>>>>> 61c8f4bff1b7848db82b013fbfba194514b420ca
   "metadata": {},
   "outputs": [],
   "source": [
    "data(\"ditto_colors\")"
   ]
  },
  {
   "cell_type": "code",
   "execution_count": null,
<<<<<<< HEAD
<<<<<<< HEAD
<<<<<<< HEAD
   "id": "8752d320",
||||||| 3477967
   "id": "bc07563d",
=======
   "id": "0581db74",
>>>>>>> 763a65aa00deab365d39bc26b2dcb2cc1410a666
||||||| eb63ff5
   "id": "8752d320",
=======
   "id": "f24fd0d7",
>>>>>>> documentation-devel
||||||| cd53b20
<<<<<<< HEAD
   "id": "8752d320",
||||||| 3477967
   "id": "bc07563d",
=======
   "id": "0581db74",
>>>>>>> 763a65aa00deab365d39bc26b2dcb2cc1410a666
=======
   "id": "b7b7c253",
>>>>>>> 61c8f4bff1b7848db82b013fbfba194514b420ca
   "metadata": {},
   "outputs": [],
   "source": [
    "df_moran |> \n",
    "    pivot_longer(cols = -index, values_to = \"value\", names_to = \"name\") |> \n",
    "    ggplot(aes(index, value, color = name)) +\n",
    "    geom_line() +\n",
    "    scale_color_manual(values = ditto_colors) +\n",
    "    geom_hline(yintercept = 0) +\n",
    "    geom_hline(yintercept = mb, linetype = 2) +\n",
    "    scale_y_continuous(breaks = scales::breaks_pretty()) +\n",
    "    scale_x_continuous(breaks = scales::breaks_width(5)) +\n",
    "    labs(y = \"Moran's I\", color = \"Type\", x = \"Component\")"
   ]
  },
  {
   "cell_type": "markdown",
<<<<<<< HEAD
<<<<<<< HEAD
<<<<<<< HEAD
   "id": "80d4b2ab",
||||||| 3477967
   "id": "4d147e17",
=======
   "id": "280db61d",
>>>>>>> 763a65aa00deab365d39bc26b2dcb2cc1410a666
||||||| eb63ff5
   "id": "80d4b2ab",
=======
   "id": "2736f1e9",
>>>>>>> documentation-devel
||||||| cd53b20
<<<<<<< HEAD
   "id": "80d4b2ab",
||||||| 3477967
   "id": "4d147e17",
=======
   "id": "280db61d",
>>>>>>> 763a65aa00deab365d39bc26b2dcb2cc1410a666
=======
   "id": "b2200bba",
>>>>>>> 61c8f4bff1b7848db82b013fbfba194514b420ca
   "metadata": {},
   "source": [
    "In MULTISPATI, Moran's I is high in PC1 and PC2, but then sharply drops. Moran's I for the PC with the most negative eigenvalues is not very negative, which means the large magnitude of that eigenvalue comes from explaining more variance. Non-spatial PCs are not sorted by Moran's I; PC5 has surprising large Moran's I. "
   ]
  },
  {
   "cell_type": "code",
   "execution_count": null,
<<<<<<< HEAD
<<<<<<< HEAD
<<<<<<< HEAD
   "id": "ef72f7f6",
||||||| 3477967
   "id": "0b3155fe",
=======
   "id": "6aa8478a",
>>>>>>> 763a65aa00deab365d39bc26b2dcb2cc1410a666
||||||| eb63ff5
   "id": "ef72f7f6",
=======
   "id": "2b497b17",
>>>>>>> documentation-devel
||||||| cd53b20
<<<<<<< HEAD
   "id": "ef72f7f6",
||||||| 3477967
   "id": "0b3155fe",
=======
   "id": "6aa8478a",
>>>>>>> 763a65aa00deab365d39bc26b2dcb2cc1410a666
=======
   "id": "baaf8481",
>>>>>>> 61c8f4bff1b7848db82b013fbfba194514b420ca
   "metadata": {
    "fig.height": 4,
    "fig.width": 9
   },
   "outputs": [],
   "source": [
    "spatialReducedDim(sfe, \"PCA\", 5:6, colGeometryName = \"centroids\", scattermore = TRUE,\n",
    "                  divergent = TRUE, diverge_center = 0)"
   ]
  },
  {
   "cell_type": "markdown",
<<<<<<< HEAD
<<<<<<< HEAD
<<<<<<< HEAD
   "id": "22717ff4",
||||||| 3477967
   "id": "41232551",
=======
   "id": "c10789fa",
>>>>>>> 763a65aa00deab365d39bc26b2dcb2cc1410a666
||||||| eb63ff5
   "id": "22717ff4",
=======
   "id": "4fb699c3",
>>>>>>> documentation-devel
||||||| cd53b20
<<<<<<< HEAD
   "id": "22717ff4",
||||||| 3477967
   "id": "41232551",
=======
   "id": "c10789fa",
>>>>>>> 763a65aa00deab365d39bc26b2dcb2cc1410a666
=======
   "id": "a375113c",
>>>>>>> 61c8f4bff1b7848db82b013fbfba194514b420ca
   "metadata": {},
   "source": [
    "PC5 must be about zonation. Also show a smaller scale:"
   ]
  },
  {
   "cell_type": "code",
   "execution_count": null,
<<<<<<< HEAD
<<<<<<< HEAD
<<<<<<< HEAD
   "id": "8e84fdd6",
||||||| 3477967
   "id": "234b6b3b",
=======
   "id": "3bdc1f79",
>>>>>>> 763a65aa00deab365d39bc26b2dcb2cc1410a666
||||||| eb63ff5
   "id": "8e84fdd6",
=======
   "id": "9071bd1f",
>>>>>>> documentation-devel
||||||| cd53b20
<<<<<<< HEAD
   "id": "8e84fdd6",
||||||| 3477967
   "id": "234b6b3b",
=======
   "id": "3bdc1f79",
>>>>>>> 763a65aa00deab365d39bc26b2dcb2cc1410a666
=======
   "id": "e971ef9c",
>>>>>>> 61c8f4bff1b7848db82b013fbfba194514b420ca
   "metadata": {
    "fig.height": 4,
    "fig.width": 9
   },
   "outputs": [],
   "source": [
    "spatialReducedDim(sfe, \"PCA\", 5:6, colGeometryName = \"cellSeg\", \n",
    "                  divergent = TRUE, diverge_center = 0, bbox = bbox_use)"
   ]
  },
  {
   "cell_type": "markdown",
<<<<<<< HEAD
<<<<<<< HEAD
<<<<<<< HEAD
   "id": "521ff7f8",
||||||| 3477967
   "id": "9a9a159e",
=======
   "id": "4f978e96",
>>>>>>> 763a65aa00deab365d39bc26b2dcb2cc1410a666
||||||| eb63ff5
   "id": "521ff7f8",
=======
   "id": "c4201e8e",
>>>>>>> documentation-devel
||||||| cd53b20
<<<<<<< HEAD
   "id": "521ff7f8",
||||||| 3477967
   "id": "9a9a159e",
=======
   "id": "4f978e96",
>>>>>>> 763a65aa00deab365d39bc26b2dcb2cc1410a666
=======
   "id": "d04d6a75",
>>>>>>> 61c8f4bff1b7848db82b013fbfba194514b420ca
   "metadata": {
    "lines_to_next_cell": 0
   },
   "source": [
    "## Moran scatter plot\n",
    "Local positive and negative spatial autocorrelation can average out in global Moran's I. From the zoomed in plots above, PCs 1, 3, 4, and 6 pick up something about the blood vessel. The Moran scatter plot can help discovering more local heterogeneity."
   ]
  },
  {
   "cell_type": "code",
   "execution_count": null,
<<<<<<< HEAD
<<<<<<< HEAD
<<<<<<< HEAD
   "id": "067c4714",
||||||| 3477967
   "id": "d503dd77",
=======
   "id": "9bc6013a",
>>>>>>> 763a65aa00deab365d39bc26b2dcb2cc1410a666
||||||| eb63ff5
   "id": "067c4714",
=======
   "id": "7fd70375",
>>>>>>> documentation-devel
||||||| cd53b20
<<<<<<< HEAD
   "id": "067c4714",
||||||| 3477967
   "id": "d503dd77",
=======
   "id": "9bc6013a",
>>>>>>> 763a65aa00deab365d39bc26b2dcb2cc1410a666
=======
   "id": "72cf5a32",
>>>>>>> 61c8f4bff1b7848db82b013fbfba194514b420ca
   "metadata": {},
   "outputs": [],
   "source": [
    "sfe <- reducedDimUnivariate(sfe, \"moran.plot\", dimred = \"PCA\", components = 1:6)"
   ]
  },
  {
   "cell_type": "code",
   "execution_count": null,
<<<<<<< HEAD
<<<<<<< HEAD
<<<<<<< HEAD
   "id": "14464437",
||||||| 3477967
   "id": "40e05dd9",
=======
   "id": "917eefaa",
>>>>>>> 763a65aa00deab365d39bc26b2dcb2cc1410a666
||||||| eb63ff5
   "id": "14464437",
=======
   "id": "55db28a9",
>>>>>>> documentation-devel
||||||| cd53b20
<<<<<<< HEAD
   "id": "14464437",
||||||| 3477967
   "id": "40e05dd9",
=======
   "id": "917eefaa",
>>>>>>> 763a65aa00deab365d39bc26b2dcb2cc1410a666
=======
   "id": "52712992",
>>>>>>> 61c8f4bff1b7848db82b013fbfba194514b420ca
   "metadata": {},
   "outputs": [],
   "source": [
    "plts <- lapply(seq_len(6), function(i) {\n",
    "    moranPlot(sfe, paste0(\"PC\", i), binned = TRUE, hex = TRUE, plot_influential = FALSE)\n",
    "})"
   ]
  },
  {
   "cell_type": "code",
   "execution_count": null,
<<<<<<< HEAD
<<<<<<< HEAD
<<<<<<< HEAD
   "id": "cfe7176a",
||||||| 3477967
   "id": "4449ca9d",
=======
   "id": "cd6d9445",
>>>>>>> 763a65aa00deab365d39bc26b2dcb2cc1410a666
||||||| eb63ff5
   "id": "cfe7176a",
=======
   "id": "77f112c4",
>>>>>>> documentation-devel
||||||| cd53b20
<<<<<<< HEAD
   "id": "cfe7176a",
||||||| 3477967
   "id": "4449ca9d",
=======
   "id": "cd6d9445",
>>>>>>> 763a65aa00deab365d39bc26b2dcb2cc1410a666
=======
   "id": "a471d2a2",
>>>>>>> 61c8f4bff1b7848db82b013fbfba194514b420ca
   "metadata": {
    "fig.height": 6,
    "fig.width": 10
   },
   "outputs": [],
   "source": [
    "wrap_plots(plts, widths = 1, heights = 1) +\n",
    "    plot_layout(ncol = 3) +\n",
    "    plot_annotation(tag_levels = \"1\", \n",
    "                    title = \"Moran scatter plot for non-spatial PCs\") &\n",
    "    theme(legend.position = \"none\")"
   ]
  },
  {
   "cell_type": "markdown",
<<<<<<< HEAD
<<<<<<< HEAD
<<<<<<< HEAD
   "id": "aee1ceb1",
||||||| 3477967
   "id": "8af8c628",
=======
   "id": "f718c00e",
>>>>>>> 763a65aa00deab365d39bc26b2dcb2cc1410a666
||||||| eb63ff5
   "id": "aee1ceb1",
=======
   "id": "cf8a6316",
>>>>>>> documentation-devel
||||||| cd53b20
<<<<<<< HEAD
   "id": "aee1ceb1",
||||||| 3477967
   "id": "8af8c628",
=======
   "id": "f718c00e",
>>>>>>> 763a65aa00deab365d39bc26b2dcb2cc1410a666
=======
   "id": "1ac84bb1",
>>>>>>> 61c8f4bff1b7848db82b013fbfba194514b420ca
   "metadata": {},
   "source": [
    "PCs 1-3 have some fainter clusters outside the main cluster, indicating heterogeneous spatial autocorrelation. Also make Moran scatter plots for MULTISPATI"
   ]
  },
  {
   "cell_type": "code",
   "execution_count": null,
<<<<<<< HEAD
<<<<<<< HEAD
<<<<<<< HEAD
   "id": "57b2c2a5",
||||||| 3477967
   "id": "e02cb868",
=======
   "id": "a432a290",
>>>>>>> 763a65aa00deab365d39bc26b2dcb2cc1410a666
||||||| eb63ff5
   "id": "57b2c2a5",
=======
   "id": "5de881a1",
>>>>>>> documentation-devel
||||||| cd53b20
<<<<<<< HEAD
   "id": "57b2c2a5",
||||||| 3477967
   "id": "e02cb868",
=======
   "id": "a432a290",
>>>>>>> 763a65aa00deab365d39bc26b2dcb2cc1410a666
=======
   "id": "a39d5694",
>>>>>>> 61c8f4bff1b7848db82b013fbfba194514b420ca
   "metadata": {},
   "outputs": [],
   "source": [
    "sfe <- reducedDimUnivariate(sfe, \"moran.plot\", dimred = \"multispati\", \n",
    "                            components = c(1:5, 40), \n",
    "                            # Not to overwrite non-spatial PCA moran plots\n",
    "                            name = \"moran.plot2\") "
   ]
  },
  {
   "cell_type": "code",
   "execution_count": null,
<<<<<<< HEAD
<<<<<<< HEAD
<<<<<<< HEAD
   "id": "1ea32cba",
||||||| 3477967
   "id": "140ad609",
=======
   "id": "7a3d6c6d",
>>>>>>> 763a65aa00deab365d39bc26b2dcb2cc1410a666
||||||| eb63ff5
   "id": "1ea32cba",
=======
   "id": "4b2322a6",
>>>>>>> documentation-devel
||||||| cd53b20
<<<<<<< HEAD
   "id": "1ea32cba",
||||||| 3477967
   "id": "140ad609",
=======
   "id": "7a3d6c6d",
>>>>>>> 763a65aa00deab365d39bc26b2dcb2cc1410a666
=======
   "id": "85952bb2",
>>>>>>> 61c8f4bff1b7848db82b013fbfba194514b420ca
   "metadata": {},
   "outputs": [],
   "source": [
    "plts2 <- lapply(c(1:5, 40), function(i) {\n",
    "    moranPlot(sfe, paste0(\"PC\", i), binned = TRUE, hex = TRUE, \n",
    "              plot_influential = FALSE, name = \"moran.plot2\")\n",
    "})"
   ]
  },
  {
   "cell_type": "code",
   "execution_count": null,
<<<<<<< HEAD
<<<<<<< HEAD
<<<<<<< HEAD
   "id": "e5bd5d52",
||||||| 3477967
   "id": "b9aa932a",
=======
   "id": "b5cb967b",
>>>>>>> 763a65aa00deab365d39bc26b2dcb2cc1410a666
||||||| eb63ff5
   "id": "e5bd5d52",
=======
   "id": "ad35c85b",
>>>>>>> documentation-devel
||||||| cd53b20
<<<<<<< HEAD
   "id": "e5bd5d52",
||||||| 3477967
   "id": "b9aa932a",
=======
   "id": "b5cb967b",
>>>>>>> 763a65aa00deab365d39bc26b2dcb2cc1410a666
=======
   "id": "3ac6721c",
>>>>>>> 61c8f4bff1b7848db82b013fbfba194514b420ca
   "metadata": {
    "fig.height": 6,
    "fig.width": 10
   },
   "outputs": [],
   "source": [
    "wrap_plots(plts2, widths = 1, heights = 1) +\n",
    "    plot_layout(ncol = 3) +\n",
    "    plot_annotation(tag_levels = \"1\",\n",
    "                    title = \"Moran scatter plot for MULTISPATI PCs\") &\n",
    "    theme(legend.position = \"none\")"
   ]
  },
  {
   "cell_type": "markdown",
<<<<<<< HEAD
<<<<<<< HEAD
<<<<<<< HEAD
   "id": "5eae92e4",
||||||| 3477967
   "id": "f782128e",
=======
   "id": "aadbb79c",
>>>>>>> 763a65aa00deab365d39bc26b2dcb2cc1410a666
||||||| eb63ff5
   "id": "5eae92e4",
=======
   "id": "fa8bd5a3",
>>>>>>> documentation-devel
||||||| cd53b20
<<<<<<< HEAD
   "id": "5eae92e4",
||||||| 3477967
   "id": "f782128e",
=======
   "id": "aadbb79c",
>>>>>>> 763a65aa00deab365d39bc26b2dcb2cc1410a666
=======
   "id": "f12dad1c",
>>>>>>> 61c8f4bff1b7848db82b013fbfba194514b420ca
   "metadata": {},
   "source": [
    "There are some interesting clusters.\n",
    "\n",
    "# Clustering with MULTISPATI PCA\n",
    "\n",
    "In the standard scRNA-seq data analysis workflow, a k nearest neighbor graph is found in the PCA space, which is then used for graph based clustering such as Louvain and Leiden, which is used to perform differential expression. Spatial dimension reductions can similarly be used to perform clustering, to identify spatial regions in the tissue, as done in [@Shang2022-qy; @Ren2022-qx; @Zhang2023-kf]. This type of studies often use a manual segmentation as ground truth to compare different methods that identify spatial regions. \n",
    "\n",
    "The problem with this is that spatial region methods are meant to help us to identify novel spatial regions based on new -omics data, which might reveal what's previously unknown from manual annotations. If the output from a method doesn't match manual annotations, it might simply be pointing out a previously unknown aspect of the tissue rather than wrong. Depending on the questions being asked, there can simultaneously be multiple spatial partitions. This happens in geographical space. For instance, there's land use and neighborhood boundaries, but equally valid are watershed boundaries and types of rock formation. Which one is relevant depends on the questions asked.\n",
    "\n",
    "Here we perform Leiden clustering with non-spatial and MULTISPATI PCA and compare the results. For the k nearest neighbor graph, I used the default k = 10."
   ]
  },
  {
   "cell_type": "code",
   "execution_count": null,
<<<<<<< HEAD
<<<<<<< HEAD
<<<<<<< HEAD
   "id": "64f81fe7",
||||||| 3477967
   "id": "9000ca88",
=======
   "id": "a56a8205",
>>>>>>> 763a65aa00deab365d39bc26b2dcb2cc1410a666
||||||| eb63ff5
   "id": "64f81fe7",
=======
   "id": "da13bc9e",
>>>>>>> documentation-devel
||||||| cd53b20
<<<<<<< HEAD
   "id": "64f81fe7",
||||||| 3477967
   "id": "9000ca88",
=======
   "id": "a56a8205",
>>>>>>> 763a65aa00deab365d39bc26b2dcb2cc1410a666
=======
   "id": "52e10985",
>>>>>>> 61c8f4bff1b7848db82b013fbfba194514b420ca
   "metadata": {},
   "outputs": [],
   "source": [
    "system.time({\n",
    "    set.seed(29)\n",
    "    sfe$clusts_nonspatial <- clusterCells(sfe, use.dimred = \"PCA\", \n",
    "                                          BLUSPARAM = NNGraphParam(\n",
    "                                              cluster.fun = \"leiden\",\n",
    "                                              cluster.args = list(\n",
    "                                                  objective_function = \"modularity\",\n",
    "                                                  resolution_parameter = 1\n",
    "                                              )\n",
    "                                          ))\n",
    "})"
   ]
  },
  {
   "cell_type": "markdown",
<<<<<<< HEAD
<<<<<<< HEAD
<<<<<<< HEAD
   "id": "c56a84c5",
||||||| 3477967
   "id": "6a7e9311",
=======
   "id": "1e4df2df",
>>>>>>> 763a65aa00deab365d39bc26b2dcb2cc1410a666
||||||| eb63ff5
   "id": "c56a84c5",
=======
   "id": "30178962",
>>>>>>> documentation-devel
||||||| cd53b20
<<<<<<< HEAD
   "id": "c56a84c5",
||||||| 3477967
   "id": "6a7e9311",
=======
   "id": "1e4df2df",
>>>>>>> 763a65aa00deab365d39bc26b2dcb2cc1410a666
=======
   "id": "e75a0952",
>>>>>>> 61c8f4bff1b7848db82b013fbfba194514b420ca
   "metadata": {
    "lines_to_next_cell": 0
   },
   "source": [
    "See if clustering with the positive MULTISPATI PCs give more spatially coherent clusters"
   ]
  },
  {
   "cell_type": "code",
   "execution_count": null,
<<<<<<< HEAD
<<<<<<< HEAD
<<<<<<< HEAD
   "id": "c2cc93b8",
||||||| 3477967
   "id": "b9ed6d3b",
=======
   "id": "1a92e2ee",
>>>>>>> 763a65aa00deab365d39bc26b2dcb2cc1410a666
||||||| eb63ff5
   "id": "c2cc93b8",
=======
   "id": "e73d50bd",
>>>>>>> documentation-devel
||||||| cd53b20
<<<<<<< HEAD
   "id": "c2cc93b8",
||||||| 3477967
   "id": "b9ed6d3b",
=======
   "id": "1a92e2ee",
>>>>>>> 763a65aa00deab365d39bc26b2dcb2cc1410a666
=======
   "id": "116bb11c",
>>>>>>> 61c8f4bff1b7848db82b013fbfba194514b420ca
   "metadata": {},
   "outputs": [],
   "source": [
    "system.time({\n",
    "    set.seed(29)\n",
    "    sfe$clusts_multispati <- clusterRows(reducedDim(sfe, \"multispati\")[,1:20], \n",
    "                                          BLUSPARAM = NNGraphParam(\n",
    "                                              cluster.fun = \"leiden\",\n",
    "                                              cluster.args = list(\n",
    "                                                  objective_function = \"modularity\",\n",
    "                                                  resolution_parameter = 1\n",
    "                                              )\n",
    "                                          ))\n",
    "})"
   ]
  },
  {
   "cell_type": "markdown",
<<<<<<< HEAD
<<<<<<< HEAD
<<<<<<< HEAD
   "id": "f3761667",
||||||| 3477967
   "id": "8723afd4",
=======
   "id": "93847f3e",
>>>>>>> 763a65aa00deab365d39bc26b2dcb2cc1410a666
||||||| eb63ff5
   "id": "f3761667",
=======
   "id": "9e08fc7b",
>>>>>>> documentation-devel
||||||| cd53b20
<<<<<<< HEAD
   "id": "f3761667",
||||||| 3477967
   "id": "8723afd4",
=======
   "id": "93847f3e",
>>>>>>> 763a65aa00deab365d39bc26b2dcb2cc1410a666
=======
   "id": "fe9ee2c7",
>>>>>>> 61c8f4bff1b7848db82b013fbfba194514b420ca
   "metadata": {
    "lines_to_next_cell": 0
   },
   "source": [
    "Plot the clusters in space:"
   ]
  },
  {
   "cell_type": "code",
   "execution_count": null,
<<<<<<< HEAD
<<<<<<< HEAD
<<<<<<< HEAD
   "id": "313138e9",
||||||| 3477967
   "id": "9fb84f93",
=======
   "id": "84fbabc8",
>>>>>>> 763a65aa00deab365d39bc26b2dcb2cc1410a666
||||||| eb63ff5
   "id": "313138e9",
=======
   "id": "02a067bc",
>>>>>>> documentation-devel
||||||| cd53b20
<<<<<<< HEAD
   "id": "313138e9",
||||||| 3477967
   "id": "9fb84f93",
=======
   "id": "84fbabc8",
>>>>>>> 763a65aa00deab365d39bc26b2dcb2cc1410a666
=======
   "id": "637f97f0",
>>>>>>> 61c8f4bff1b7848db82b013fbfba194514b420ca
   "metadata": {
    "fig.height": 4,
    "fig.width": 11
   },
   "outputs": [],
   "source": [
    "plotSpatialFeature(sfe, c(\"clusts_nonspatial\", \"clusts_multispati\"), \n",
    "                   colGeometryName = \"centroids\",\n",
    "                   scattermore = TRUE) &\n",
    "     guides(colour = guide_legend(override.aes = list(size=2), ncol = 2))"
   ]
  },
  {
   "cell_type": "markdown",
<<<<<<< HEAD
<<<<<<< HEAD
<<<<<<< HEAD
   "id": "559a0fec",
||||||| 3477967
   "id": "85d196a3",
=======
   "id": "539ec873",
>>>>>>> 763a65aa00deab365d39bc26b2dcb2cc1410a666
||||||| eb63ff5
   "id": "559a0fec",
=======
   "id": "baa98a00",
>>>>>>> documentation-devel
||||||| cd53b20
<<<<<<< HEAD
   "id": "559a0fec",
||||||| 3477967
   "id": "85d196a3",
=======
   "id": "539ec873",
>>>>>>> 763a65aa00deab365d39bc26b2dcb2cc1410a666
=======
   "id": "2d2b0a47",
>>>>>>> 61c8f4bff1b7848db82b013fbfba194514b420ca
   "metadata": {
    "lines_to_next_cell": 0
   },
   "source": [
    "The MULTISPATI clusters do look somewhat more spatially structured than clusters from non-spatial PCA. Also zoom into a small area:"
   ]
  },
  {
   "cell_type": "code",
   "execution_count": null,
<<<<<<< HEAD
<<<<<<< HEAD
<<<<<<< HEAD
   "id": "058ce513",
||||||| 3477967
   "id": "0eef4112",
=======
   "id": "616f72a0",
>>>>>>> 763a65aa00deab365d39bc26b2dcb2cc1410a666
||||||| eb63ff5
   "id": "058ce513",
=======
   "id": "a37b2b2f",
>>>>>>> documentation-devel
||||||| cd53b20
<<<<<<< HEAD
   "id": "058ce513",
||||||| 3477967
   "id": "0eef4112",
=======
   "id": "616f72a0",
>>>>>>> 763a65aa00deab365d39bc26b2dcb2cc1410a666
=======
   "id": "0a00bcd6",
>>>>>>> 61c8f4bff1b7848db82b013fbfba194514b420ca
   "metadata": {
    "fig.height": 4,
    "fig.width": 11
   },
   "outputs": [],
   "source": [
    "plotSpatialFeature(sfe, c(\"clusts_nonspatial\", \"clusts_multispati\"), \n",
    "                   colGeometryName = \"cellSeg\",\n",
    "                   bbox = bbox_use) &\n",
    "     guides(fill = guide_legend(ncol = 2))"
   ]
  },
  {
   "cell_type": "markdown",
<<<<<<< HEAD
<<<<<<< HEAD
<<<<<<< HEAD
   "id": "87c388d7",
||||||| 3477967
   "id": "cc2a9106",
=======
   "id": "b31afd78",
>>>>>>> 763a65aa00deab365d39bc26b2dcb2cc1410a666
||||||| eb63ff5
   "id": "87c388d7",
=======
   "id": "7ab67e00",
>>>>>>> documentation-devel
||||||| cd53b20
<<<<<<< HEAD
   "id": "87c388d7",
||||||| 3477967
   "id": "cc2a9106",
=======
   "id": "b31afd78",
>>>>>>> 763a65aa00deab365d39bc26b2dcb2cc1410a666
=======
   "id": "ff1814c3",
>>>>>>> 61c8f4bff1b7848db82b013fbfba194514b420ca
   "metadata": {
    "lines_to_next_cell": 0
   },
   "source": [
    "What do these clusters mean? Clusters are supposed to be groups of different spots that are more similar within a group, sharing some characteristics. Non-spatial and MULTISPATI PCA use different characteristics for the clustering. Non-spatial PCA finds genes that are good for telling cell types apart, although those genes may happen to be very spatially structured. Non-spatial clustering aims to find these groups only from gene expression, and cells with similar gene expression can be surrounded by cells of other types in histological space. This is just like mapping Art Deco buildings, which are often near Spanish revival and Beaux Art buildings whose styles are quite different and perform different functions, thus not necessarily forming a coherent spatial region. \n",
    "\n",
    "In contrast, MULTISPATI's positive components find genes that must characterize spatial regions in addition to distinguishing between different cell types. Which genes are involved in each MULTISPATI component may be as interesting as the clusters. It would be interesting to perform gene set enrichment analysis, or to interpret this as some sort of spatial patterns of spatially variable genes. This is like mapping when the buildings were built, so Art Deco, Spanish revival, Beaux Art popular in the 1920s and 1930s will end up in the same cluster and form a more spatially coherent region, which can be found in DTLA Historical Core and Jewelry District, and Old Pasadena. Hence non-spatial clustering of spatial data isn't necessarily bad. Rather, it tells a different story and reveals different aspects of the data from spatial clustering. \n",
    "\n",
    "# Session Info"
   ]
  },
  {
   "cell_type": "code",
   "execution_count": null,
<<<<<<< HEAD
<<<<<<< HEAD
<<<<<<< HEAD
   "id": "fba43564",
||||||| 3477967
   "id": "b805f886",
=======
   "id": "eb877a9e",
>>>>>>> 763a65aa00deab365d39bc26b2dcb2cc1410a666
||||||| eb63ff5
   "id": "fba43564",
=======
   "id": "07eea669",
>>>>>>> documentation-devel
||||||| cd53b20
<<<<<<< HEAD
   "id": "fba43564",
||||||| 3477967
   "id": "b805f886",
=======
   "id": "eb877a9e",
>>>>>>> 763a65aa00deab365d39bc26b2dcb2cc1410a666
=======
   "id": "6d827545",
>>>>>>> 61c8f4bff1b7848db82b013fbfba194514b420ca
   "metadata": {},
   "outputs": [],
   "source": [
    "sessionInfo()"
   ]
  },
  {
   "cell_type": "markdown",
<<<<<<< HEAD
<<<<<<< HEAD
<<<<<<< HEAD
   "id": "14ee2e04",
||||||| 3477967
   "id": "d59d2802",
=======
   "id": "6d6ad932",
>>>>>>> 763a65aa00deab365d39bc26b2dcb2cc1410a666
||||||| eb63ff5
   "id": "14ee2e04",
=======
   "id": "ad3b7a59",
>>>>>>> documentation-devel
||||||| cd53b20
<<<<<<< HEAD
   "id": "14ee2e04",
||||||| 3477967
   "id": "d59d2802",
=======
   "id": "6d6ad932",
>>>>>>> 763a65aa00deab365d39bc26b2dcb2cc1410a666
=======
   "id": "20a24da5",
>>>>>>> 61c8f4bff1b7848db82b013fbfba194514b420ca
   "metadata": {},
   "source": [
    "# References"
   ]
  }
 ],
 "metadata": {
  "kernelspec": {
   "display_name": "R",
   "language": "R",
   "name": "ir"
  }
 },
 "nbformat": 4,
 "nbformat_minor": 5
}
