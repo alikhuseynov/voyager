{
 "cells": [
  {
   "cell_type": "raw",
<<<<<<< HEAD
   "id": "2a0b1c51",
||||||| 4eaa9fa
   "id": "c25e1a40",
=======
   "id": "b2e3f5fd",
>>>>>>> documentation-devel
   "metadata": {},
   "source": [
    "---\n",
    "title: \"MULTISPATI PCA and negative spatial autocorrelation\"\n",
    "author: \"Lambda Moses\"\n",
    "date: \"`r Sys.Date()`\"\n",
    "output: \n",
    "  html_document:\n",
    "  toc: true\n",
    "  toc_float:\n",
    "    collapsed: false\n",
    "  toc_depth: 3\n",
    "bibliography: ref.bib\n",
    "vignette: >\n",
    "  %\\VignetteIndexEntry{multispati}\n",
    "  %\\VignetteEngine{knitr::rmarkdown}\n",
    "  %\\VignetteEncoding{UTF-8}\n",
    "---"
   ]
  },
  {
   "cell_type": "code",
   "execution_count": null,
<<<<<<< HEAD
   "id": "f57984d0",
||||||| 4eaa9fa
   "id": "7372703e",
=======
   "id": "b7e8c65b",
>>>>>>> documentation-devel
   "metadata": {
    "lines_to_next_cell": 2,
    "tags": [
     "remove_cell"
    ]
   },
   "outputs": [],
   "source": [
    "knitr::opts_chunk$set(\n",
    "  collapse = TRUE,\n",
    "  comment = \"#>\"\n",
    ")"
   ]
  },
  {
   "cell_type": "code",
   "execution_count": null,
<<<<<<< HEAD
   "id": "14145baf",
||||||| 4eaa9fa
   "id": "4738cac9",
=======
   "id": "fb158e5b",
>>>>>>> documentation-devel
   "metadata": {
    "eval": false,
    "tags": [
     "remove_cell"
    ]
   },
   "outputs": [],
   "source": [
    "# Install Google Colab dependencies\n",
    "# Note: this can take 30+ minutes (many of the dependencies include C++ code, which needs to be compiled)\n",
    "\n",
    "# First install `sf`, `ragg` and `textshaping` and their system dependencies:\n",
    "system(\"apt-get -y update && apt-get install -y  libudunits2-dev libgdal-dev libgeos-dev libproj-dev libharfbuzz-dev libfribidi-dev\")\n",
    "install.packages(\"sf\")\n",
    "install.packages(\"textshaping\")\n",
    "install.packages(\"ragg\")\n",
    "\n",
    "# Install system dependencies of some other R packages that Voyager either imports or suggests:\n",
    "system(\"apt-get install -y libfribidi-dev libcairo2-dev libmagick++-dev\")\n",
    "\n",
    "# Install Voyager from Bioconductor:\n",
    "install.packages(\"BiocManager\")\n",
    "BiocManager::install(version = \"3.17\", ask = FALSE, update = FALSE, Ncpus = 2)\n",
    "BiocManager::install(\"scater\")\n",
    "system.time(\n",
    "  BiocManager::install(\"Voyager\", dependencies = TRUE, Ncpus = 2, update = FALSE)\n",
    ")\n",
    "\n",
    "# Other packages used in this vignette\n",
    "packageVersion(\"Voyager\")"
   ]
  },
  {
   "cell_type": "markdown",
<<<<<<< HEAD
   "id": "181e5d72",
||||||| 4eaa9fa
   "id": "3f08faee",
=======
   "id": "e640eb32",
>>>>>>> documentation-devel
   "metadata": {},
   "source": [
    "# Introduction\n",
    "Due to the large number of genes quantified in single cell and spatial transcriptomics, dimension reduction is part of the standard workflow to analyze such data, to visualize, to help interpreting the data, to distill relevant information and reduce noise, to facilitate downstream analyses such as clustering and pseudotime, to project different samples into a shared latent space for data integration, and so on.\n",
    "\n",
    "The first dimension reduction methods we learn about, such as good old principal component analysis (PCA), tSNE, and UMAP, don't use spatial information. With the rise of spatial transcriptomics, some dimension reduction methods that take spatial dependence into account have been written. Some, such as `SpatialPCA` [@Shang2022-qy], `NSF` [@Townes2023-bi], and `MEFISTO` [@Velten2022-gv] use factor analysis or probabilistic PCA which is related to factor analysis, and model the factors as Gaussian processes, with a spatial kernel for the covariance matrix, so the factors have positive spatial autocorrelation and can be used for downstream clustering where the clusters can be more spatially coherent. Some use graph convolution networks on a spatial neighborhood graph to find spatially informed embeddings of the cells, such as `conST` [@Zong2022-tb] and `SpaceFlow` [@Ren2022-qx]. `SpaSRL` [@Zhang2023-kf] finds a low dimension projection of spatial neighborhood augmented data. \n",
    "\n",
    "Spatially informed dimension reduction is actually not new, and dates back to at least 1985, with Wartenberg's crossover of Moran's I and PCA [@Wartenberg1985-fk], which was generalized and further developed as MULTISPATI PCA [@Dray2008-en], implemented in the [`adespatial`](https://cran.r-project.org/web/packages/adespatial/index.html) package on CRAN. In short, while PCA tries to maximize the variance explained by each PC, MULTISPATI maximizes the product of Moran's I and variance explained. Also, while all the eigenvalues from PCA are non-negative, because the covariance matrix is positive semidefinite, MULTISPATI can give negative eigenvalues, which represent negative spatial autocorrelation, which can be present and interesting but is not as common as positive spatial autocorrelation and is often masked by the latter [@Griffith2019-bo]. \n",
    "\n",
    "In single cell -omics conventions, let $X$ denote a gene count matrix whose columns are cells or Visium spots and whose rows are genes, with $n$ columns. Let $W$ denote the row normalized $n\\times n$ adjacency matrix of the spatial neighborhood graph of the cells or Visium spots, which does not have to be symmetric. MULTISPATI diagonalizes a symmetric matrix\n",
    "\n",
    "$$\n",
    "H = \\frac 1 {2n} X(W^t+W)X^t\n",
    "$$\n",
    "\n",
    "However, the implementation in `adespatial` is more general and can be used for other multivariate analyses in the [duality diagram](https://www.ncbi.nlm.nih.gov/pmc/articles/PMC3265363/) paradigm, such as correspondence analysis; the equation above is simplified just for PCA, without having to introduce the duality diagram here.\n",
    "\n",
    "Voyager 1.2.0 (Bioconductor 3.17) has a much faster implementation of MULTISPATI PCA based on [`RSpectra`](https://cran.r-project.org/web/packages/RSpectra/index.html). See benchmark [here](https://lambdamoses.github.io/thevoyages/posts/2023-03-25-multispati-part-2/).\n",
    "\n",
    "In this vignette, we perform MULTISPATI PCA on the MERFISH mouse liver dataset. See the first vignette using this dataset [here](https://pachterlab.github.io/voyager/articles/vig6_merfish.html).\n",
    "\n",
    "Here we load the packages used:"
   ]
  },
  {
   "cell_type": "code",
   "execution_count": null,
<<<<<<< HEAD
   "id": "e4d9fee0",
||||||| 4eaa9fa
   "id": "54c6bbb5",
=======
   "id": "cb465fdd",
>>>>>>> documentation-devel
   "metadata": {
    "message": false,
    "name": "setup"
   },
   "outputs": [],
   "source": [
    "library(Voyager)\n",
    "library(SFEData)\n",
    "library(SpatialFeatureExperiment)\n",
    "library(scater)\n",
    "library(scran)\n",
    "library(scuttle)\n",
    "library(ggplot2)\n",
    "library(stringr)\n",
    "library(tidyr)\n",
    "library(tibble)\n",
    "library(bluster)\n",
    "library(BiocSingular)\n",
    "library(BiocParallel)\n",
    "library(sf)\n",
    "library(patchwork)\n",
    "theme_set(theme_bw())"
   ]
  },
  {
   "cell_type": "code",
   "execution_count": null,
<<<<<<< HEAD
   "id": "55fc6005",
||||||| 4eaa9fa
   "id": "517f5f36",
=======
   "id": "618e6ae9",
>>>>>>> documentation-devel
   "metadata": {},
   "outputs": [],
   "source": [
    "(sfe <- VizgenLiverData())"
   ]
  },
  {
   "cell_type": "markdown",
<<<<<<< HEAD
   "id": "1b233144",
||||||| 4eaa9fa
   "id": "bd38c4b9",
=======
   "id": "c89bf8f0",
>>>>>>> documentation-devel
   "metadata": {
    "lines_to_next_cell": 0
   },
   "source": [
    "MULTISPATI PCA is one of the multivariate methods introduced in `Voyager` 1.2.0. All multivariate methods in `Voyager` are listed here:"
   ]
  },
  {
   "cell_type": "code",
   "execution_count": null,
<<<<<<< HEAD
   "id": "57148bea",
||||||| 4eaa9fa
   "id": "957be4b2",
=======
   "id": "759f2e83",
>>>>>>> documentation-devel
   "metadata": {},
   "outputs": [],
   "source": [
    "listSFEMethods(variate = \"multi\")"
   ]
  },
  {
   "cell_type": "markdown",
<<<<<<< HEAD
   "id": "16a8b21a",
||||||| 4eaa9fa
   "id": "f0d6a239",
=======
   "id": "efda97dc",
>>>>>>> documentation-devel
   "metadata": {
    "lines_to_next_cell": 0
   },
   "source": [
    "When calling `calculate*variate()` or `run*variate()`, the `type` (2nd) argument takes either an `SFEMethod` object or a string that matches an entry in the `name` column in the data frame returned by `listSFEMethods()`.\n",
    "\n",
    "# Quality control\n",
    "QC was already performed in the [first vignette](https://pachterlab.github.io/voyager/articles/vig6_merfish.html). We do the same QC here, but see the first vignette for more details."
   ]
  },
  {
   "cell_type": "code",
   "execution_count": null,
<<<<<<< HEAD
   "id": "0b2899fc",
||||||| 4eaa9fa
   "id": "dcaf3828",
=======
   "id": "7e84e05b",
>>>>>>> documentation-devel
   "metadata": {},
   "outputs": [],
   "source": [
    "is_blank <- str_detect(rownames(sfe), \"^Blank-\")\n",
    "sfe <- addPerCellQCMetrics(sfe, subset = list(blank = is_blank))"
   ]
  },
  {
   "cell_type": "code",
   "execution_count": null,
<<<<<<< HEAD
   "id": "e7742aa0",
||||||| 4eaa9fa
   "id": "184c5a10",
=======
   "id": "3baea560",
>>>>>>> documentation-devel
   "metadata": {},
   "outputs": [],
   "source": [
    "get_neg_ctrl_outliers <- function(col, sfe, nmads = 3, log = FALSE) {\n",
    "    inds <- colData(sfe)$nCounts > 0 & colData(sfe)[[col]] > 0\n",
    "    df <- colData(sfe)[inds,]\n",
    "    outlier_inds <- isOutlier(df[[col]], type = \"higher\", nmads = nmads, log = log)\n",
    "    outliers <- rownames(df)[outlier_inds]\n",
    "    col2 <- str_remove(col, \"^subsets_\")\n",
    "    col2 <- str_remove(col2, \"_percent$\")\n",
    "    new_colname <- paste(\"is\", col2, \"outlier\", sep = \"_\")\n",
    "    colData(sfe)[[new_colname]] <- colnames(sfe) %in% outliers\n",
    "    sfe\n",
    "}"
   ]
  },
  {
   "cell_type": "code",
   "execution_count": null,
<<<<<<< HEAD
   "id": "7ff079ee",
||||||| 4eaa9fa
   "id": "9a923082",
=======
   "id": "5f6aaf46",
>>>>>>> documentation-devel
   "metadata": {},
   "outputs": [],
   "source": [
    "sfe <- get_neg_ctrl_outliers(\"subsets_blank_percent\", sfe, log = TRUE)"
   ]
  },
  {
   "cell_type": "markdown",
<<<<<<< HEAD
   "id": "e1fe3c65",
||||||| 4eaa9fa
   "id": "22ebe9b2",
=======
   "id": "8fde21e5",
>>>>>>> documentation-devel
   "metadata": {
    "lines_to_next_cell": 0
   },
   "source": [
    "Remove the outliers and empty cells:"
   ]
  },
  {
   "cell_type": "code",
   "execution_count": null,
<<<<<<< HEAD
   "id": "1319ac02",
||||||| 4eaa9fa
   "id": "450d4348",
=======
   "id": "eb84277d",
>>>>>>> documentation-devel
   "metadata": {},
   "outputs": [],
   "source": [
    "inds <- !sfe$is_blank_outlier & sfe$nCounts > 0\n",
    "(sfe <- sfe[, inds])"
   ]
  },
  {
   "cell_type": "markdown",
<<<<<<< HEAD
   "id": "a5f8945e",
||||||| 4eaa9fa
   "id": "91f6895a",
=======
   "id": "801b9343",
>>>>>>> documentation-devel
   "metadata": {},
   "source": [
    "There still are over 390,000 cells left after removing the outliers. \n",
    "\n",
    "Next we compute Moran's I for QC metrics, which requires a spatial neighborhood graph:"
   ]
  },
  {
   "cell_type": "code",
   "execution_count": null,
<<<<<<< HEAD
   "id": "cdfff451",
||||||| 4eaa9fa
   "id": "d5ed10a5",
=======
   "id": "90fe34ec",
>>>>>>> documentation-devel
   "metadata": {},
   "outputs": [],
   "source": [
    "system.time(\n",
    "    colGraph(sfe, \"knn5\") <- findSpatialNeighbors(sfe, method = \"knearneigh\", \n",
    "                                                  dist_type = \"idw\", k = 5, \n",
    "                                                  style = \"W\")\n",
    ")"
   ]
  },
  {
   "cell_type": "code",
   "execution_count": null,
<<<<<<< HEAD
   "id": "ee348231",
||||||| 4eaa9fa
   "id": "782ec455",
=======
   "id": "6c58197f",
>>>>>>> documentation-devel
   "metadata": {},
   "outputs": [],
   "source": [
    "features_use <- c(\"nCounts\", \"nGenes\", \"volume\")\n",
    "sfe <- colDataUnivariate(sfe, \"moran.mc\", features_use, \n",
    "                         colGraphName = \"knn5\", nsim = 49, \n",
    "                         BPPARAM = MulticoreParam(2))"
   ]
  },
  {
   "cell_type": "code",
   "execution_count": null,
<<<<<<< HEAD
   "id": "08c79312",
||||||| 4eaa9fa
   "id": "0d9ba90c",
=======
   "id": "bfabdc15",
>>>>>>> documentation-devel
   "metadata": {},
   "outputs": [],
   "source": [
    "plotMoranMC(sfe, features_use)"
   ]
  },
  {
   "cell_type": "markdown",
<<<<<<< HEAD
   "id": "3c5a5df8",
||||||| 4eaa9fa
   "id": "e04ff822",
=======
   "id": "0f412356",
>>>>>>> documentation-devel
   "metadata": {},
   "source": [
    "Here Moran's I is a little negative, but from the permutation testing, it is significant, though that can also be the large number of cells. The lower bound of Moran's I given the spatial neighborhood graph is usually closer to -0.5 than -1, while the upper bound is usually around 1. The bounds given a specific spatial neighborhood graph can be found with `moranBounds()`, but because it double centers the adjacency matrix, hence making it dense, there isn't enough memory to use it for the entire dataset. But we can look at the Moran bounds of a small subset of data, which might be generalizable to the whole dataset given that this tissue appears quite homogeneous in space."
   ]
  },
  {
   "cell_type": "code",
   "execution_count": null,
<<<<<<< HEAD
   "id": "118fa8b9",
||||||| 4eaa9fa
   "id": "27277c76",
=======
   "id": "b1ae9570",
>>>>>>> documentation-devel
   "metadata": {},
   "outputs": [],
   "source": [
    "bbox_use <- c(xmin = 6000, xmax = 7000, ymin = 4000, ymax = 5000)\n",
    "inds2 <- st_intersects(cellSeg(sfe), st_as_sfc(st_bbox(bbox_use)), \n",
    "                       sparse = FALSE)[,1]\n",
    "sfe_sub <- sfe[, inds2]"
   ]
  },
  {
   "cell_type": "code",
   "execution_count": null,
<<<<<<< HEAD
   "id": "4070d18a",
||||||| 4eaa9fa
   "id": "90fed6ec",
=======
   "id": "0107320d",
>>>>>>> documentation-devel
   "metadata": {},
   "outputs": [],
   "source": [
    "(mb <- moranBounds(colGraph(sfe_sub, \"knn5\")))"
   ]
  },
  {
   "cell_type": "markdown",
<<<<<<< HEAD
   "id": "ba06bea7",
||||||| 4eaa9fa
   "id": "966dbee9",
=======
   "id": "ca8ea711",
>>>>>>> documentation-devel
   "metadata": {
    "lines_to_next_cell": 0
   },
   "source": [
    "So considering the bounds, the MOran's I values of the QC metrics are more like"
   ]
  },
  {
   "cell_type": "code",
   "execution_count": null,
<<<<<<< HEAD
   "id": "f2a1ccc3",
||||||| 4eaa9fa
   "id": "e7ea2fa5",
=======
   "id": "1f01db6b",
>>>>>>> documentation-devel
   "metadata": {},
   "outputs": [],
   "source": [
    "setNames(colFeatureData(sfe)[c(\"nCounts\", \"nGenes\", \"volume\"), \n",
    "                             \"moran.mc_statistic_sample01\"] / mb[\"Imin\"],\n",
    "         features_use)"
   ]
  },
  {
   "cell_type": "markdown",
<<<<<<< HEAD
   "id": "2e40b33e",
||||||| 4eaa9fa
   "id": "db89056e",
=======
   "id": "6001abba",
>>>>>>> documentation-devel
   "metadata": {},
   "source": [
    "whose magnitudes seem more substantial for `nCounts` and `nGenes` if it's positive spatial autocorrelation. So there may be mild to moderate negative spatial autocorrelation."
   ]
  },
  {
   "cell_type": "code",
   "execution_count": null,
<<<<<<< HEAD
   "id": "9eaf9d58",
||||||| 4eaa9fa
   "id": "fa99f9eb",
=======
   "id": "a05911b5",
>>>>>>> documentation-devel
   "metadata": {},
   "outputs": [],
   "source": [
    "# Normalize data\n",
    "sfe <- logNormCounts(sfe)"
   ]
  },
  {
   "cell_type": "markdown",
<<<<<<< HEAD
   "id": "c9e8ef2a",
||||||| 4eaa9fa
   "id": "47675bc5",
=======
   "id": "511523dd",
>>>>>>> documentation-devel
   "metadata": {},
   "source": [
    "# Hepatic zonation\n",
    "\n",
    "This dataset comes from a relatively large piece of tissue and we need to zoom into a smaller region to better see the local structures. Here we specify a bounding box."
   ]
  },
  {
   "cell_type": "code",
   "execution_count": null,
<<<<<<< HEAD
   "id": "22c678bf",
||||||| 4eaa9fa
   "id": "d1acd244",
=======
   "id": "7ddb4998",
>>>>>>> documentation-devel
   "metadata": {},
   "outputs": [],
   "source": [
    "bbox_use <- c(xmin = 6100, xmax = 7100, ymin = 7500, ymax = 8500)"
   ]
  },
  {
   "cell_type": "markdown",
<<<<<<< HEAD
   "id": "2cb511b0",
||||||| 4eaa9fa
   "id": "47ae8911",
=======
   "id": "281996ef",
>>>>>>> documentation-devel
   "metadata": {},
   "source": [
    "A portal triad is shown near the top right of this bounding box. The two large vessels on the left and bottom right are central veins. The portal triad consists of the hepatic artery, portal vein which brings blood from the intestine, and bile duct, so it's more oxygenated. The regions around the central vein is more deoxygenated. The different oxygen and nutrient contents mean that hepatocytes play different metabolic roles in the zones between the portal triad and the central vein. Here we plot some zonation marker genes from [@Halpern2017-lq]. "
   ]
  },
  {
   "cell_type": "code",
   "execution_count": null,
<<<<<<< HEAD
   "id": "e945954b",
||||||| 4eaa9fa
   "id": "640cefef",
=======
   "id": "4c0c9e72",
>>>>>>> documentation-devel
   "metadata": {},
   "outputs": [],
   "source": [
    "markers <- c(\"Axin2\", \"Cyp1a2\", \"Gstm3\", \"Psmd4\", # Pericentral\n",
    "             \"Cyp2e1\", \"Asl\", \"Alb\", \"Ass1\", # Monotonic but has intermediate\n",
    "             \"Hamp\", \"Igfbp2\", \"Cyp8b1\", \"Mup3\", # Non-monotonic\n",
    "             \"Arg1\", \"Pck1\", \"C2\", \"Sdhd\") # Periportal"
   ]
  },
  {
   "cell_type": "code",
   "execution_count": null,
<<<<<<< HEAD
   "id": "4371ee83",
||||||| 4eaa9fa
   "id": "0a487402",
=======
   "id": "e5a60999",
>>>>>>> documentation-devel
   "metadata": {},
   "outputs": [],
   "source": [
    "(inds <- which(markers %in% rownames(sfe)))"
   ]
  },
  {
   "cell_type": "markdown",
<<<<<<< HEAD
   "id": "85a70281",
||||||| 4eaa9fa
   "id": "71574238",
=======
   "id": "d449bf2f",
>>>>>>> documentation-devel
   "metadata": {
    "lines_to_next_cell": 0
   },
   "source": [
    "Only 3 of these marker genes are present in this dataset. The first two are pericentral (near the central vein), and the last one is periportal (near the portal triad)."
   ]
  },
  {
   "cell_type": "code",
   "execution_count": null,
<<<<<<< HEAD
   "id": "627e27e9",
||||||| 4eaa9fa
   "id": "c536f472",
=======
   "id": "9990b072",
>>>>>>> documentation-devel
   "metadata": {
    "fig.height": 3,
    "fig.width": 9
   },
   "outputs": [],
   "source": [
    "plotSpatialFeature(sfe, markers[inds], colGeometryName = \"cellSeg\",\n",
    "                   ncol = 3, bbox = bbox_use)"
   ]
  },
  {
   "cell_type": "markdown",
<<<<<<< HEAD
   "id": "61f14853",
||||||| 4eaa9fa
   "id": "430e11f6",
=======
   "id": "6dd30095",
>>>>>>> documentation-devel
   "metadata": {},
   "source": [
    "Besides hepatocytes, the liver also has many endothelial cells and Kupffer cells (macrophages). Marker genes of these cells from [@Bonnardel2019-le] are plotted to visualize these cell types in space:"
   ]
  },
  {
   "cell_type": "code",
   "execution_count": null,
<<<<<<< HEAD
   "id": "bdedfbe1",
||||||| 4eaa9fa
   "id": "9bc76cb5",
=======
   "id": "0bd03904",
>>>>>>> documentation-devel
   "metadata": {},
   "outputs": [],
   "source": [
    "# Kuppfer cells\n",
    "kc_genes <- c(\"Timd4\", \"Vsig4\", \"Clec4f\", \"Clec1b\", \"Il18bp\", \"C6\", \"Irf7\",\n",
    "              \"Slc40a1\", \"Cdh5\", \"Nr1h3\", \"Dmpk\", \"Paqr9\", \"Pcolce2\", \"Kcna2\",\n",
    "              \"Gbp8\", \"Iigp1\", \"Helz2\", \"Cd207\", \"Icos\", \"Adcy4\", \"Slc1a2\",\n",
    "              \"Rsad2\", \"Slc16a9\", \"Cd209f\", \"Oasl1\", \"Fam167a\")\n",
    "which(kc_genes %in% rownames(sfe))"
   ]
  },
  {
   "cell_type": "markdown",
<<<<<<< HEAD
   "id": "e71372d8",
||||||| 4eaa9fa
   "id": "0187527e",
=======
   "id": "9800be18",
>>>>>>> documentation-devel
   "metadata": {
    "lines_to_next_cell": 0
   },
   "source": [
    "Only one of the Kupffer cell markers is available in this dataset."
   ]
  },
  {
   "cell_type": "code",
   "execution_count": null,
<<<<<<< HEAD
   "id": "ed79e5ca",
||||||| 4eaa9fa
   "id": "d7ecd779",
=======
   "id": "2b3c5e49",
>>>>>>> documentation-devel
   "metadata": {},
   "outputs": [],
   "source": [
    "plotSpatialFeature(sfe, kc_genes[9], colGeometryName = \"cellSeg\",\n",
    "                   bbox = bbox_use)"
   ]
  },
  {
   "cell_type": "markdown",
<<<<<<< HEAD
   "id": "b277c499",
||||||| 4eaa9fa
   "id": "99d53a24",
=======
   "id": "03219663",
>>>>>>> documentation-devel
   "metadata": {},
   "source": [
    "Expression of this gene does not seem very spatially coherent."
   ]
  },
  {
   "cell_type": "code",
   "execution_count": null,
<<<<<<< HEAD
   "id": "176721db",
||||||| 4eaa9fa
   "id": "a2d01983",
=======
   "id": "e5a25911",
>>>>>>> documentation-devel
   "metadata": {},
   "outputs": [],
   "source": [
    "# Endothelial cells\n",
    "lec_genes <- c(\"Rspo3\", \"Wnt2\", \"Wnt9b\", \"Pcdhgc5\", \"Ecm1\", \"Ltbp4\", \"Efnb2\")\n",
    "(inds_lec <- which(lec_genes %in% rownames(sfe)))"
   ]
  },
  {
   "cell_type": "markdown",
<<<<<<< HEAD
   "id": "7c776ed5",
||||||| 4eaa9fa
   "id": "68f42319",
=======
   "id": "683af664",
>>>>>>> documentation-devel
   "metadata": {
    "lines_to_next_cell": 0
   },
   "source": [
    "Only 3 of these endothelial cell marker genes are available in this dataset."
   ]
  },
  {
   "cell_type": "code",
   "execution_count": null,
<<<<<<< HEAD
   "id": "b33ea022",
||||||| 4eaa9fa
   "id": "7c8633a6",
=======
   "id": "4c5c66ff",
>>>>>>> documentation-devel
   "metadata": {
    "fig.height": 3,
    "fig.width": 9
   },
   "outputs": [],
   "source": [
    "plotSpatialFeature(sfe, lec_genes[inds_lec], colGeometryName = \"cellSeg\",\n",
    "                   bbox = bbox_use, ncol = 3)"
   ]
  },
  {
   "cell_type": "markdown",
<<<<<<< HEAD
   "id": "5023e17e",
||||||| 4eaa9fa
   "id": "e33ff21f",
=======
   "id": "1ba474f7",
>>>>>>> documentation-devel
   "metadata": {},
   "source": [
    "Wnt2 seems to be more pericentral, while Ltbp4 and Efnb2 seem more periportal.\n",
    "\n",
    "Some of these marker genes will show up in the top PC loadings non-spatial and spatial PCA.\n",
    "\n",
    "# Non-spatial PCA\n",
    "First we run non-spatial PCA, to compare to MULTISPATI."
   ]
  },
  {
   "cell_type": "code",
   "execution_count": null,
<<<<<<< HEAD
   "id": "f4a2cdf8",
||||||| 4eaa9fa
   "id": "82cfeff7",
=======
   "id": "9c6c8621",
>>>>>>> documentation-devel
   "metadata": {},
   "outputs": [],
   "source": [
    "set.seed(29)\n",
    "system.time(\n",
    "    sfe <- runPCA(sfe, ncomponents = 20, subset_row = !is_blank,\n",
    "                  exprs_values = \"logcounts\",\n",
    "                  scale = TRUE, BSPARAM = IrlbaParam())\n",
    ")\n",
    "gc()"
   ]
  },
  {
   "cell_type": "markdown",
<<<<<<< HEAD
   "id": "45e16281",
||||||| 4eaa9fa
   "id": "320fbcb6",
=======
   "id": "2e680697",
>>>>>>> documentation-devel
   "metadata": {},
   "source": [
    "That's pretty quick for almost 400,000 cells, but there aren't that many genes here. Use the elbow plot to see variance explained by each PC:"
   ]
  },
  {
   "cell_type": "code",
   "execution_count": null,
<<<<<<< HEAD
   "id": "b6319ecd",
||||||| 4eaa9fa
   "id": "4b80d8eb",
=======
   "id": "75e91900",
>>>>>>> documentation-devel
   "metadata": {},
   "outputs": [],
   "source": [
    "ElbowPlot(sfe)"
   ]
  },
  {
   "cell_type": "markdown",
<<<<<<< HEAD
   "id": "6883f66a",
||||||| 4eaa9fa
   "id": "1145d30d",
=======
   "id": "15769db5",
>>>>>>> documentation-devel
   "metadata": {
    "lines_to_next_cell": 0
   },
   "source": [
    "Plot top gene loadings in each PC"
   ]
  },
  {
   "cell_type": "code",
   "execution_count": null,
<<<<<<< HEAD
   "id": "b5b96374",
||||||| 4eaa9fa
   "id": "fac44ab3",
=======
   "id": "5486b6c1",
>>>>>>> documentation-devel
   "metadata": {},
   "outputs": [],
   "source": [
    "plotDimLoadings(sfe)"
   ]
  },
  {
   "cell_type": "markdown",
<<<<<<< HEAD
   "id": "c3b1d504",
||||||| 4eaa9fa
   "id": "2114a5ff",
=======
   "id": "e6529993",
>>>>>>> documentation-devel
   "metadata": {
    "lines_to_next_cell": 0
   },
   "source": [
    "Many of these genes seem to be related to the endothelium. PC1 and PC4 concern the Kupffer cells as well, as the Kupffer cell marker gene Cdh5 has high loading.\n",
    "\n",
    "Plot the first 4 PCs in space"
   ]
  },
  {
   "cell_type": "code",
   "execution_count": null,
<<<<<<< HEAD
   "id": "ae4548be",
||||||| 4eaa9fa
   "id": "6003cbf0",
=======
   "id": "75685d37",
>>>>>>> documentation-devel
   "metadata": {
    "fig.height": 7,
    "fig.width": 9
   },
   "outputs": [],
   "source": [
    "spatialReducedDim(sfe, \"PCA\", 4, colGeometryName = \"centroids\", scattermore = TRUE,\n",
    "                  divergent = TRUE, diverge_center = 0)"
   ]
  },
  {
   "cell_type": "markdown",
<<<<<<< HEAD
   "id": "8f310e42",
||||||| 4eaa9fa
   "id": "b1526622",
=======
   "id": "9d2ca470",
>>>>>>> documentation-devel
   "metadata": {},
   "source": [
    "PC1 and PC4 highlight the major blood vessels, while PC2 and PC3 have less spatial structure. While in the CosMX and Xenium datasets on this website, the top PCs have clear spatial structures despite the absence of spatial information in non-spatial PCA because of clear spatial compartments for some cell types, which does not seem to be the case in this dataset except for the blood vessels. We have seen above that some genes have strong spatial structures. \n",
    "\n",
    "While PC2 and PC3 don't seem to have large scale spatial structure, they may have more local spatial structure not obvious from plotting the entire section, so we zoom into a bounding box which shows hepatic zonation."
   ]
  },
  {
   "cell_type": "code",
   "execution_count": null,
<<<<<<< HEAD
   "id": "ea702c4d",
||||||| 4eaa9fa
   "id": "52bbc404",
=======
   "id": "a3f8f31b",
>>>>>>> documentation-devel
   "metadata": {
    "fig.height": 7,
    "fig.width": 9
   },
   "outputs": [],
   "source": [
    "spatialReducedDim(sfe, \"PCA\", ncomponents = 4, colGeometryName = \"cellSeg\",\n",
    "                  bbox = bbox_use, divergent = TRUE, diverge_center = 0)"
   ]
  },
  {
   "cell_type": "markdown",
<<<<<<< HEAD
   "id": "cae19567",
||||||| 4eaa9fa
   "id": "d573bbd7",
=======
   "id": "97240f1f",
>>>>>>> documentation-devel
   "metadata": {},
   "source": [
    "There's some spatial structure at a smaller scale, perhaps some negative spatial autocorrelation.\n",
    "\n",
    "# MULTISPATI PCA"
   ]
  },
  {
   "cell_type": "code",
   "execution_count": null,
<<<<<<< HEAD
   "id": "9856719f",
||||||| 4eaa9fa
   "id": "a0080ed7",
=======
   "id": "e7bcc376",
>>>>>>> documentation-devel
   "metadata": {},
   "outputs": [],
   "source": [
    "system.time({\n",
    "    sfe <- runMultivariate(sfe, \"multispati\", colGraphName = \"knn5\", nfposi = 20,\n",
    "                       nfnega = 20)\n",
    "})"
   ]
  },
  {
   "cell_type": "markdown",
<<<<<<< HEAD
   "id": "d2a74e7a",
||||||| 4eaa9fa
   "id": "98f942b6",
=======
   "id": "0d870996",
>>>>>>> documentation-devel
   "metadata": {
    "lines_to_next_cell": 0
   },
   "source": [
    "Then plot the most positive and most negative eigenvalues. Note that the eigenvalues here are not variance explained. Instead, they are the product of variance explained and Moran's I. So the most positive eigenvalues correspond to eigenvectors that simultaneously explain more variance and have large positive Moran's I. The most negative eigenvalues correspond to eigenvectors that simultaneously explain more variance and have negative Moran's I."
   ]
  },
  {
   "cell_type": "code",
   "execution_count": null,
<<<<<<< HEAD
   "id": "8ee66541",
||||||| 4eaa9fa
   "id": "ebef5815",
=======
   "id": "b464d381",
>>>>>>> documentation-devel
   "metadata": {},
   "outputs": [],
   "source": [
    "ElbowPlot(sfe, nfnega = 20, reduction = \"multispati\")"
   ]
  },
  {
   "cell_type": "markdown",
<<<<<<< HEAD
   "id": "cddd7339",
||||||| 4eaa9fa
   "id": "6410ad94",
=======
   "id": "0f5da776",
>>>>>>> documentation-devel
   "metadata": {},
   "source": [
    "Here the positive eigenvalues drop sharply from PC1 to PC4, and there is only one very negative eigenvalue which might be interesting, which is unsurprising given the moderately negative Moran's I for `nCounts` and `nGenes`. However, from the [first MERFISH vignette](https://pachterlab.github.io/voyager/articles/vig6_merfish.html#morans-i), none of the genes have very negative Moran's I. Perhaps the negative eigenvalue comes from negative spatial autocorrelation in a gene program or \"eigengene\" and is not obvious from individual genes. This is the beauty of multivariate analysis.\n",
    "\n",
    "What do these components mean? Each component is a linear combination of genes to maximize the product of variance explained and Moran's I. The second component maximizes this product provided that it's orthogonal to the first component, and so on. As the loss in variance explained is usually not huge, these components can be considered axes along which _spatially coherent_ groups of spots are separated from each other as much as possible according to expression of the highly variable genes, so in theory, clustering with positive MULTISPATI components should give more spatially coherent clusters. Because of the spatial coherence, MULTISPATI might be more robust to outliers."
   ]
  },
  {
   "cell_type": "code",
   "execution_count": null,
<<<<<<< HEAD
   "id": "b9775111",
||||||| 4eaa9fa
   "id": "bfc0eccd",
=======
   "id": "73ca0ae6",
>>>>>>> documentation-devel
   "metadata": {},
   "outputs": [],
   "source": [
    "plotDimLoadings(sfe, dims = c(1:3, 40), reduction = \"multispati\")"
   ]
  },
  {
   "cell_type": "markdown",
<<<<<<< HEAD
   "id": "d3247371",
||||||| 4eaa9fa
   "id": "b0cce345",
=======
   "id": "12a70a57",
>>>>>>> documentation-devel
   "metadata": {
    "lines_to_next_cell": 0
   },
   "source": [
    "From gene loadings, PC40 seems to separate endothelial cells and Kupffer cells from hepatocytes.\n",
    "\n",
    "Plot the these PCs:"
   ]
  },
  {
   "cell_type": "code",
   "execution_count": null,
<<<<<<< HEAD
   "id": "9c27f492",
||||||| 4eaa9fa
   "id": "e15e44b8",
=======
   "id": "b9eebc12",
>>>>>>> documentation-devel
   "metadata": {
    "fig.height": 7,
    "fig.width": 9,
    "lines_to_next_cell": 2
   },
   "outputs": [],
   "source": [
    "spatialReducedDim(sfe, \"multispati\", components = c(1:3, 40), \n",
    "                  colGeometryName = \"cellSeg\", bbox = bbox_use,\n",
    "                  divergent = TRUE, diverge_center = 0)"
   ]
  },
  {
   "cell_type": "markdown",
<<<<<<< HEAD
   "id": "37c994e5",
||||||| 4eaa9fa
   "id": "0087142f",
=======
   "id": "e4b869b9",
>>>>>>> documentation-devel
   "metadata": {},
   "source": [
    "The first two PCs pick up zoning. PC3 seems to have smaller scale spatial structure. PC\"40\" (should really be 300 something) is an example of negative spatial autocorrelation in biology. That Kupffer cells and endothelial cells are scattered among hepatocytes may play a functional role. This does not mean that non-spatial PCA is bad. While MULTISPATI tends not to lose too much variance explained in per PC with positive eigenvalues, it identifies co-expressed genes with spatially structured expression patterns. MULTISPATI tells a different story from non-spatial PCA. PCA cell embeddings are often used for downstream analysis. Whether to use MULTISPATI embeddings instead and which or how many PCs to use depend on the questions asked in the further downstream analyses.\n",
    "\n",
    "# Spatial autocorrelation of principal components\n",
    "## Moran's I\n",
    "Here we compare Moran's I for cell embeddings in each non-spatial and MULTISPATI PC:"
   ]
  },
  {
   "cell_type": "code",
   "execution_count": null,
<<<<<<< HEAD
   "id": "ddeb8a6c",
||||||| 4eaa9fa
   "id": "fc8f310f",
=======
   "id": "28d07eeb",
>>>>>>> documentation-devel
   "metadata": {},
   "outputs": [],
   "source": [
    "# non-spatial\n",
    "sfe <- reducedDimMoransI(sfe, dimred = \"PCA\", components = 1:20,\n",
    "                         BPPARAM = MulticoreParam(2))\n",
    "# spatial\n",
    "sfe <- reducedDimMoransI(sfe, dimred = \"multispati\", components = 1:40,\n",
    "                         BPPARAM = MulticoreParam(2))"
   ]
  },
  {
   "cell_type": "code",
   "execution_count": null,
<<<<<<< HEAD
   "id": "5836b5d2",
||||||| 4eaa9fa
   "id": "e10c0177",
=======
   "id": "9bf9e59b",
>>>>>>> documentation-devel
   "metadata": {},
   "outputs": [],
   "source": [
    "df_moran <- tibble(PCA = reducedDimFeatureData(sfe, \"PCA\")$moran_sample01[1:20],\n",
    "                   MULTISPATI_pos = \n",
    "                       reducedDimFeatureData(sfe, \"multispati\")$moran_sample01[1:20],\n",
    "                   MULTISPATI_neg = \n",
    "                       reducedDimFeatureData(sfe,\"multispati\")$moran_sample01[21:40] |> \n",
    "                       rev(),\n",
    "                   index = 1:20)"
   ]
  },
  {
   "cell_type": "code",
   "execution_count": null,
<<<<<<< HEAD
   "id": "e6c1c1f3",
||||||| 4eaa9fa
   "id": "bca00011",
=======
   "id": "37332935",
>>>>>>> documentation-devel
   "metadata": {},
   "outputs": [],
   "source": [
    "data(\"ditto_colors\")"
   ]
  },
  {
   "cell_type": "code",
   "execution_count": null,
<<<<<<< HEAD
   "id": "3019f737",
||||||| 4eaa9fa
   "id": "b413d23d",
=======
   "id": "f6420f27",
>>>>>>> documentation-devel
   "metadata": {},
   "outputs": [],
   "source": [
    "df_moran |> \n",
    "    pivot_longer(cols = -index, values_to = \"value\", names_to = \"name\") |> \n",
    "    ggplot(aes(index, value, color = name)) +\n",
    "    geom_line() +\n",
    "    scale_color_manual(values = ditto_colors) +\n",
    "    geom_hline(yintercept = 0, color = \"gray\") +\n",
    "    geom_hline(yintercept = mb, linetype = 2, color = \"gray\") +\n",
    "    scale_y_continuous(breaks = scales::breaks_pretty()) +\n",
    "    scale_x_continuous(breaks = scales::breaks_width(5)) +\n",
    "    labs(y = \"Moran's I\", color = \"Type\", x = \"Component\")"
   ]
  },
  {
   "cell_type": "markdown",
<<<<<<< HEAD
   "id": "22a2ffe7",
||||||| 4eaa9fa
   "id": "3d43513f",
=======
   "id": "ef4b58f8",
>>>>>>> documentation-devel
   "metadata": {},
   "source": [
    "In MULTISPATI, Moran's I is high in PC1 and PC2, but then sharply drops. Moran's I for the PC with the most negative eigenvalues is not very negative, which means the large magnitude of that eigenvalue comes from explaining more variance. However, considering the lower bound of Moran's I that is around -0.6 instead of -1, the magnitude of Moran's I for the PC with the most negative eigenvalue is not trivial."
   ]
  },
  {
   "cell_type": "code",
   "execution_count": null,
<<<<<<< HEAD
   "id": "db22414b",
||||||| 4eaa9fa
   "id": "14efc80f",
=======
   "id": "dfdb158d",
>>>>>>> documentation-devel
   "metadata": {},
   "outputs": [],
   "source": [
    "min(df_moran$MULTISPATI_neg) / mb[1]"
   ]
  },
  {
   "cell_type": "markdown",
<<<<<<< HEAD
   "id": "7d5ed49a",
||||||| 4eaa9fa
   "id": "c665c2d5",
=======
   "id": "90bf44fc",
>>>>>>> documentation-devel
   "metadata": {},
   "source": [
    "Non-spatial PCs are not sorted by Moran's I; PC5 has surprising large Moran's I. "
   ]
  },
  {
   "cell_type": "code",
   "execution_count": null,
<<<<<<< HEAD
   "id": "529efb08",
||||||| 4eaa9fa
   "id": "2b0a60ad",
=======
   "id": "691cc92c",
>>>>>>> documentation-devel
   "metadata": {},
   "outputs": [],
   "source": [
    "spatialReducedDim(sfe, \"PCA\", component = 5, colGeometryName = \"cellSeg\", \n",
    "                  divergent = TRUE, diverge_center = 0, bbox = bbox_use)"
   ]
  },
  {
   "cell_type": "markdown",
<<<<<<< HEAD
   "id": "b0e32e38",
||||||| 4eaa9fa
   "id": "52418f9d",
=======
   "id": "031cede2",
>>>>>>> documentation-devel
   "metadata": {},
   "source": [
    "PC5 must be about zonation. Also show a larger scale:"
   ]
  },
  {
   "cell_type": "code",
   "execution_count": null,
<<<<<<< HEAD
   "id": "c1953f44",
||||||| 4eaa9fa
   "id": "37b6b9ab",
=======
   "id": "8d5216d9",
>>>>>>> documentation-devel
   "metadata": {},
   "outputs": [],
   "source": [
    "spatialReducedDim(sfe, \"PCA\", components = 5, colGeometryName = \"centroids\", \n",
    "                  divergent = TRUE, diverge_center = 0, scattermore = TRUE)"
   ]
  },
  {
   "cell_type": "markdown",
<<<<<<< HEAD
   "id": "9111f848",
||||||| 4eaa9fa
   "id": "6012b4e6",
=======
   "id": "2fbf284a",
>>>>>>> documentation-devel
   "metadata": {
    "lines_to_next_cell": 0
   },
   "source": [
    "## Moran scatter plot\n",
    "Local positive and negative spatial autocorrelation can average out in global Moran's I. From the zoomed in plots and gene loadings above, some PCs are about endothelial cells. The Moran scatter plot can help discovering more local heterogeneity."
   ]
  },
  {
   "cell_type": "code",
   "execution_count": null,
<<<<<<< HEAD
   "id": "c24c4535",
||||||| 4eaa9fa
   "id": "559c65aa",
=======
   "id": "cc84c6bd",
>>>>>>> documentation-devel
   "metadata": {},
   "outputs": [],
   "source": [
    "sfe <- reducedDimUnivariate(sfe, \"moran.plot\", dimred = \"PCA\", components = 1:6)"
   ]
  },
  {
   "cell_type": "code",
   "execution_count": null,
<<<<<<< HEAD
   "id": "6f726d29",
||||||| 4eaa9fa
   "id": "cea67da1",
=======
   "id": "8f499798",
>>>>>>> documentation-devel
   "metadata": {},
   "outputs": [],
   "source": [
    "plts <- lapply(seq_len(6), function(i) {\n",
    "    moranPlot(sfe, paste0(\"PC\", i), binned = TRUE, hex = TRUE, plot_influential = FALSE)\n",
    "})"
   ]
  },
  {
   "cell_type": "code",
   "execution_count": null,
<<<<<<< HEAD
   "id": "3ed5f6e3",
||||||| 4eaa9fa
   "id": "3601b400",
=======
   "id": "03795658",
>>>>>>> documentation-devel
   "metadata": {
    "fig.height": 6,
    "fig.width": 10
   },
   "outputs": [],
   "source": [
    "wrap_plots(plts, widths = 1, heights = 1) +\n",
    "    plot_layout(ncol = 3) +\n",
    "    plot_annotation(tag_levels = \"1\", \n",
    "                    title = \"Moran scatter plot for non-spatial PCs\") &\n",
    "    theme(legend.position = \"none\")"
   ]
  },
  {
   "cell_type": "markdown",
<<<<<<< HEAD
   "id": "71cb464f",
||||||| 4eaa9fa
   "id": "8c7d29eb",
=======
   "id": "8cda7189",
>>>>>>> documentation-devel
   "metadata": {},
   "source": [
    "PCs 1-3 have some fainter clusters outside the main cluster, indicating heterogeneous spatial autocorrelation. Also make Moran scatter plots for MULTISPATI"
   ]
  },
  {
   "cell_type": "code",
   "execution_count": null,
<<<<<<< HEAD
   "id": "300817f8",
||||||| 4eaa9fa
   "id": "9e71ce74",
=======
   "id": "fcb71cc2",
>>>>>>> documentation-devel
   "metadata": {},
   "outputs": [],
   "source": [
    "sfe <- reducedDimUnivariate(sfe, \"moran.plot\", dimred = \"multispati\", \n",
    "                            components = c(1:5, 40), \n",
    "                            # Not to overwrite non-spatial PCA moran plots\n",
    "                            name = \"moran.plot2\") "
   ]
  },
  {
   "cell_type": "code",
   "execution_count": null,
<<<<<<< HEAD
   "id": "345bb4b5",
||||||| 4eaa9fa
   "id": "59a155f5",
=======
   "id": "2a8e03ff",
>>>>>>> documentation-devel
   "metadata": {},
   "outputs": [],
   "source": [
    "plts2 <- lapply(c(1:5, 40), function(i) {\n",
    "    moranPlot(sfe, paste0(\"PC\", i), binned = TRUE, hex = TRUE, \n",
    "              plot_influential = FALSE, name = \"moran.plot2\")\n",
    "})"
   ]
  },
  {
   "cell_type": "code",
   "execution_count": null,
<<<<<<< HEAD
   "id": "b7d8fb9a",
||||||| 4eaa9fa
   "id": "0ca86791",
=======
   "id": "20c2ae05",
>>>>>>> documentation-devel
   "metadata": {
    "fig.height": 6,
    "fig.width": 10
   },
   "outputs": [],
   "source": [
    "wrap_plots(plts2, widths = 1, heights = 1) +\n",
    "    plot_layout(ncol = 3) +\n",
    "    plot_annotation(tag_levels = \"1\",\n",
    "                    title = \"Moran scatter plot for MULTISPATI PCs\") &\n",
    "    theme(legend.position = \"none\")"
   ]
  },
  {
   "cell_type": "markdown",
<<<<<<< HEAD
   "id": "a49115b7",
||||||| 4eaa9fa
   "id": "96453f50",
=======
   "id": "86fd2726",
>>>>>>> documentation-devel
   "metadata": {},
   "source": [
    "There are some interesting clusters.\n",
    "\n",
    "# Clustering with MULTISPATI PCA\n",
    "\n",
    "In the standard scRNA-seq data analysis workflow, a k nearest neighbor graph is found in the PCA space, which is then used for graph based clustering such as Louvain and Leiden, which is used to perform differential expression. Spatial dimension reductions can similarly be used to perform clustering, to identify spatial regions in the tissue, as done in [@Shang2022-qy; @Ren2022-qx; @Zhang2023-kf]. This type of studies often use a manual segmentation as ground truth to compare different methods that identify spatial regions. \n",
    "\n",
    "The problem with this is that spatial region methods are meant to help us to identify novel spatial regions based on new -omics data, which might reveal what's previously unknown from manual annotations. If the output from a method doesn't match manual annotations, it might simply be pointing out a previously unknown aspect of the tissue rather than wrong. Depending on the questions being asked, there can simultaneously be multiple spatial partitions. This happens in geographical space. For instance, there's land use and neighborhood boundaries, but equally valid are watershed boundaries and types of rock formation. Which one is relevant depends on the questions asked.\n",
    "\n",
    "Here we perform Leiden clustering with non-spatial and MULTISPATI PCA and compare the results. For the k nearest neighbor graph, I used the default k = 10."
   ]
  },
  {
   "cell_type": "code",
   "execution_count": null,
<<<<<<< HEAD
   "id": "d37645d9",
||||||| 4eaa9fa
   "id": "b5973cdf",
=======
   "id": "85a3df04",
>>>>>>> documentation-devel
   "metadata": {},
   "outputs": [],
   "source": [
    "system.time({\n",
    "    set.seed(29)\n",
    "    sfe$clusts_nonspatial <- clusterCells(sfe, use.dimred = \"PCA\", \n",
    "                                          BLUSPARAM = NNGraphParam(\n",
    "                                              cluster.fun = \"leiden\",\n",
    "                                              cluster.args = list(\n",
    "                                                  objective_function = \"modularity\",\n",
    "                                                  resolution_parameter = 1\n",
    "                                              )\n",
    "                                          ))\n",
    "})"
   ]
  },
  {
   "cell_type": "markdown",
<<<<<<< HEAD
   "id": "eae24487",
||||||| 4eaa9fa
   "id": "7a5b6411",
=======
   "id": "da50be89",
>>>>>>> documentation-devel
   "metadata": {
    "lines_to_next_cell": 0
   },
   "source": [
    "See if clustering with the positive MULTISPATI PCs give more spatially coherent clusters"
   ]
  },
  {
   "cell_type": "code",
   "execution_count": null,
<<<<<<< HEAD
   "id": "fcac07f8",
||||||| 4eaa9fa
   "id": "e28a2e6e",
=======
   "id": "21585cc0",
>>>>>>> documentation-devel
   "metadata": {},
   "outputs": [],
   "source": [
    "system.time({\n",
    "    set.seed(29)\n",
    "    sfe$clusts_multispati <- clusterRows(reducedDim(sfe, \"multispati\")[,1:20], \n",
    "                                          BLUSPARAM = NNGraphParam(\n",
    "                                              cluster.fun = \"leiden\",\n",
    "                                              cluster.args = list(\n",
    "                                                  objective_function = \"modularity\",\n",
    "                                                  resolution_parameter = 1\n",
    "                                              )\n",
    "                                          ))\n",
    "})"
   ]
  },
  {
   "cell_type": "markdown",
<<<<<<< HEAD
   "id": "042265e4",
||||||| 4eaa9fa
   "id": "75c00fae",
=======
   "id": "76ae4814",
>>>>>>> documentation-devel
   "metadata": {
    "lines_to_next_cell": 0
   },
   "source": [
    "Plot the clusters in space:"
   ]
  },
  {
   "cell_type": "code",
   "execution_count": null,
<<<<<<< HEAD
   "id": "6ea3a255",
||||||| 4eaa9fa
   "id": "d56f6e55",
=======
   "id": "dfddc3c7",
>>>>>>> documentation-devel
   "metadata": {
    "fig.height": 4,
    "fig.width": 11
   },
   "outputs": [],
   "source": [
    "plotSpatialFeature(sfe, c(\"clusts_nonspatial\", \"clusts_multispati\"), \n",
    "                   colGeometryName = \"centroids\",\n",
    "                   scattermore = TRUE) &\n",
    "     guides(colour = guide_legend(override.aes = list(size=2), ncol = 2))"
   ]
  },
  {
   "cell_type": "markdown",
<<<<<<< HEAD
   "id": "6b14335b",
||||||| 4eaa9fa
   "id": "69ef0fc7",
=======
   "id": "ef89dc7e",
>>>>>>> documentation-devel
   "metadata": {
    "lines_to_next_cell": 0
   },
   "source": [
    "The MULTISPATI clusters do look somewhat more spatially structured than clusters from non-spatial PCA. Also zoom into a small area:"
   ]
  },
  {
   "cell_type": "code",
   "execution_count": null,
<<<<<<< HEAD
   "id": "0f6e1d8c",
||||||| 4eaa9fa
   "id": "ebf72902",
=======
   "id": "8623c9d7",
>>>>>>> documentation-devel
   "metadata": {
    "fig.height": 4,
    "fig.width": 11
   },
   "outputs": [],
   "source": [
    "plotSpatialFeature(sfe, c(\"clusts_nonspatial\", \"clusts_multispati\"), \n",
    "                   colGeometryName = \"cellSeg\",\n",
    "                   bbox = bbox_use) &\n",
    "     guides(fill = guide_legend(ncol = 2))"
   ]
  },
  {
   "cell_type": "markdown",
<<<<<<< HEAD
   "id": "3be0a1e6",
||||||| 4eaa9fa
   "id": "c0698932",
=======
   "id": "475f7123",
>>>>>>> documentation-devel
   "metadata": {
    "lines_to_next_cell": 0
   },
   "source": [
    "What do these clusters mean? Clusters are supposed to be groups of different spots that are more similar within a group, sharing some characteristics. Non-spatial and MULTISPATI PCA use different characteristics for the clustering. Non-spatial PCA finds genes that are good for telling cell types apart, although those genes may happen to be very spatially structured. Non-spatial clustering aims to find these groups only from gene expression, and cells with similar gene expression can be surrounded by cells of other types in histological space. This is just like mapping Art Deco buildings, which are often near Spanish revival and Beaux Art buildings whose styles are quite different and perform different functions, thus not necessarily forming a coherent spatial region. \n",
    "\n",
    "In contrast, MULTISPATI's positive components find genes that must characterize spatial regions in addition to distinguishing between different cell types. Which genes are involved in each MULTISPATI component may be as interesting as the clusters. It would be interesting to perform gene set enrichment analysis, or to interpret this as some sort of spatial patterns of spatially variable genes. This is like mapping when the buildings were built, so Art Deco, Spanish revival, Beaux Art popular in the 1920s and 1930s will end up in the same cluster and form a more spatially coherent region, which can be found in DTLA Historical Core and Jewelry District, and Old Pasadena. Hence non-spatial clustering of spatial data isn't necessarily bad. Rather, it tells a different story and reveals different aspects of the data from spatial clustering. \n",
    "\n",
    "# Session Info"
   ]
  },
  {
   "cell_type": "code",
   "execution_count": null,
<<<<<<< HEAD
   "id": "8255e7a2",
||||||| 4eaa9fa
   "id": "739f1e5f",
=======
   "id": "5b66cfaf",
>>>>>>> documentation-devel
   "metadata": {},
   "outputs": [],
   "source": [
    "sessionInfo()"
   ]
  },
  {
   "cell_type": "markdown",
<<<<<<< HEAD
   "id": "54ef0419",
||||||| 4eaa9fa
   "id": "3b9064f0",
=======
   "id": "ce0f65e8",
>>>>>>> documentation-devel
   "metadata": {},
   "source": [
    "# References"
   ]
  }
 ],
 "metadata": {
  "kernelspec": {
   "display_name": "R",
   "language": "R",
   "name": "ir"
  }
 },
 "nbformat": 4,
 "nbformat_minor": 5
}
