<<<<<<< HEAD
{
 "cells": [
  {
   "cell_type": "raw",
   "id": "b35c92c6",
   "metadata": {},
   "source": [
    "---\n",
    "title: \"MULTISPATI PCA and negative spatial autocorrelation\"\n",
    "author: \"Lambda Moses\"\n",
    "date: \"`r Sys.Date()`\"\n",
    "output: \n",
    "  html_document:\n",
    "  toc: true\n",
    "  toc_float:\n",
    "    collapsed: false\n",
    "  toc_depth: 3\n",
    "bibliography: ref.bib\n",
    "vignette: >\n",
    "  %\\VignetteIndexEntry{multispati}\n",
    "  %\\VignetteEngine{knitr::rmarkdown}\n",
    "  %\\VignetteEncoding{UTF-8}\n",
    "---"
   ]
  },
  {
   "cell_type": "code",
   "execution_count": null,
   "id": "5e87c5e4",
   "metadata": {
    "lines_to_next_cell": 2,
    "tags": [
     "remove_cell"
    ]
   },
   "outputs": [],
   "source": [
    "knitr::opts_chunk$set(\n",
    "  collapse = TRUE,\n",
    "  comment = \"#>\"\n",
    ")"
   ]
  },
  {
   "cell_type": "code",
   "execution_count": null,
   "id": "44f54951",
   "metadata": {
    "eval": false,
    "tags": [
     "remove_cell"
    ]
   },
   "outputs": [],
   "source": [
    "# Install Google Colab dependencies\n",
    "# Note: this can take 30+ minutes (many of the dependencies include C++ code, which needs to be compiled)\n",
    "\n",
    "# First install `sf`, `ragg` and `textshaping` and their system dependencies:\n",
    "system(\"apt-get -y update && apt-get install -y  libudunits2-dev libgdal-dev libgeos-dev libproj-dev libharfbuzz-dev libfribidi-dev\")\n",
    "install.packages(\"sf\")\n",
    "install.packages(\"textshaping\")\n",
    "install.packages(\"ragg\")\n",
    "\n",
    "# Install system dependencies of some other R packages that Voyager either imports or suggests:\n",
    "system(\"apt-get install -y libfribidi-dev libcairo2-dev libmagick++-dev\")\n",
    "\n",
    "# Install Voyager from Bioconductor:\n",
    "install.packages(\"BiocManager\")\n",
    "BiocManager::install(version = \"3.17\", ask = FALSE, update = FALSE, Ncpus = 2)\n",
    "BiocManager::install(\"scater\")\n",
    "system.time(\n",
    "  BiocManager::install(\"Voyager\", dependencies = TRUE, Ncpus = 2, update = FALSE)\n",
    ")\n",
    "\n",
    "# Other packages used in this vignette\n",
    "packageVersion(\"Voyager\")"
   ]
  },
  {
   "cell_type": "markdown",
   "id": "1a2f06e4",
   "metadata": {},
   "source": [
    "# Introduction\n",
    "Due to the large number of genes quantified in single cell and spatial transcriptomics, dimension reduction is part of the standard workflow to analyze such data, to visualize, to help interpreting the data, to distill relevant information and reduce noise, to facilitate downstream analyses such as clustering and pseudotime, to project different samples into a shared latent space for data integration, and so on.\n",
    "\n",
    "The first dimension reduction methods we learn about, such as good old principal component analysis (PCA), tSNE, and UMAP, don't use spatial information. With the rise of spatial transcriptomics, some dimension reduction methods that take spatial dependence into account have been written. Some, such as `SpatialPCA` [@Shang2022-qy], `NSF` [@Townes2023-bi], and `MEFISTO` [@Velten2022-gv] use factor analysis or probabilistic PCA which is related to factor analysis, and model the factors as Gaussian processes, with a spatial kernel for the covariance matrix, so the factors have positive spatial autocorrelation and can be used for downstream clustering where the clusters can be more spatially coherent. Some use graph convolution networks on a spatial neighborhood graph to find spatially informed embeddings of the cells, such as `conST` [@Zong2022-tb] and `SpaceFlow` [@Ren2022-qx]. `SpaSRL` [@Zhang2023-kf] finds a low dimension projection of spatial neighborhood augmented data. \n",
    "\n",
    "Spatially informed dimension reduction is actually not new, and dates back to at least 1985, with Wartenberg's crossover of Moran's I and PCA [@Wartenberg1985-fk], which was generalized and further developed as MULTISPATI PCA [@Dray2008-en], implemented in the [`adespatial`](https://cran.r-project.org/web/packages/adespatial/index.html) package on CRAN. In short, while PCA tries to maximize the variance explained by each PC, MULTISPATI maximizes the product of Moran's I and variance explained. Also, while all the eigenvalues from PCA are non-negative, because the covariance matrix is positive semidefinite, MULTISPATI can give negative eigenvalues, which represent negative spatial autocorrelation, which can be present and interesting but is not as common as positive spatial autocorrelation and is often masked by the latter [@Griffith2019-bo]. \n",
    "\n",
    "In single cell -omics conventions, let $X$ denote a gene count matrix whose columns are cells or Visium spots and whose rows are genes, with $n$ columns. Let $W$ denote the row normalized $n\\times n$ adjacency matrix of the spatial neighborhood graph of the cells or Visium spots, which does not have to be symmetric. MULTISPATI diagonalizes a symmetric matrix\n",
    "\n",
    "$$\n",
    "H = \\frac 1 {2n} X(W^t+W)X^t\n",
    "$$\n",
    "\n",
    "However, the implementation in `adespatial` is more general and can be used for other multivariate analyses in the [duality diagram](https://www.ncbi.nlm.nih.gov/pmc/articles/PMC3265363/) paradigm, such as correspondence analysis; the equation above is simplified just for PCA, without having to introduce the duality diagram here.\n",
    "\n",
    "Voyager 1.2.0 (Bioconductor 3.17) has a much faster implementation of MULTISPATI PCA based on [`RSpectra`](https://cran.r-project.org/web/packages/RSpectra/index.html). See benchmark [here](https://lambdamoses.github.io/thevoyages/posts/2023-03-25-multispati-part-2/).\n",
    "\n",
    "In this vignette, we perform MULTISPATI PCA on the MERFISH mouse liver dataset. See the first vignette using this dataset [here](https://pachterlab.github.io/voyager/articles/vig6_merfish.html).\n",
    "\n",
    "Here we load the packages used:"
   ]
  },
  {
   "cell_type": "code",
   "execution_count": null,
   "id": "168ae3b3",
   "metadata": {
    "message": false,
    "name": "setup"
   },
   "outputs": [],
   "source": [
    "library(Voyager)\n",
    "library(SFEData)\n",
    "library(SpatialFeatureExperiment)\n",
    "library(scater)\n",
    "library(scran)\n",
    "library(scuttle)\n",
    "library(ggplot2)\n",
    "library(stringr)\n",
    "library(tidyr)\n",
    "library(tibble)\n",
    "library(bluster)\n",
    "library(BiocSingular)\n",
    "library(BiocParallel)\n",
    "library(sf)\n",
    "library(patchwork)\n",
    "theme_set(theme_bw())"
   ]
  },
  {
   "cell_type": "code",
   "execution_count": null,
   "id": "e50ddf28",
   "metadata": {},
   "outputs": [],
   "source": [
    "(sfe <- VizgenLiverData())"
   ]
  },
  {
   "cell_type": "markdown",
   "id": "9ee76cac",
   "metadata": {
    "lines_to_next_cell": 0
   },
   "source": [
    "MULTISPATI PCA is one of the multivariate methods introduced in `Voyager` 1.2.0. All multivariate methods in `Voyager` are listed here:"
   ]
  },
  {
   "cell_type": "code",
   "execution_count": null,
   "id": "bea537e1",
   "metadata": {},
   "outputs": [],
   "source": [
    "listSFEMethods(variate = \"multi\")"
   ]
  },
  {
   "cell_type": "markdown",
   "id": "0b03538f",
   "metadata": {
    "lines_to_next_cell": 0
   },
   "source": [
    "When calling `calculate*variate()` or `run*variate()`, the `type` (2nd) argument takes either an `SFEMethod` object or a string that matches an entry in the `name` column in the data frame returned by `listSFEMethods()`.\n",
    "\n",
    "# Quality control\n",
    "QC was already performed in the [first vignette](https://pachterlab.github.io/voyager/articles/vig6_merfish.html). We do the same QC here, but see the first vignette for more details."
   ]
  },
  {
   "cell_type": "code",
   "execution_count": null,
   "id": "05ab3010",
   "metadata": {},
   "outputs": [],
   "source": [
    "is_blank <- str_detect(rownames(sfe), \"^Blank-\")\n",
    "sfe <- addPerCellQCMetrics(sfe, subset = list(blank = is_blank))"
   ]
  },
  {
   "cell_type": "code",
   "execution_count": null,
   "id": "92fd9b0e",
   "metadata": {},
   "outputs": [],
   "source": [
    "get_neg_ctrl_outliers <- function(col, sfe, nmads = 3, log = FALSE) {\n",
    "    inds <- colData(sfe)$nCounts > 0 & colData(sfe)[[col]] > 0\n",
    "    df <- colData(sfe)[inds,]\n",
    "    outlier_inds <- isOutlier(df[[col]], type = \"higher\", nmads = nmads, log = log)\n",
    "    outliers <- rownames(df)[outlier_inds]\n",
    "    col2 <- str_remove(col, \"^subsets_\")\n",
    "    col2 <- str_remove(col2, \"_percent$\")\n",
    "    new_colname <- paste(\"is\", col2, \"outlier\", sep = \"_\")\n",
    "    colData(sfe)[[new_colname]] <- colnames(sfe) %in% outliers\n",
    "    sfe\n",
    "}"
   ]
  },
  {
   "cell_type": "code",
   "execution_count": null,
   "id": "612e20b4",
   "metadata": {},
   "outputs": [],
   "source": [
    "sfe <- get_neg_ctrl_outliers(\"subsets_blank_percent\", sfe, log = TRUE)"
   ]
  },
  {
   "cell_type": "markdown",
   "id": "e57a1f39",
   "metadata": {
    "lines_to_next_cell": 0
   },
   "source": [
    "Remove the outliers and empty cells:"
   ]
  },
  {
   "cell_type": "code",
   "execution_count": null,
   "id": "ad4e9360",
   "metadata": {},
   "outputs": [],
   "source": [
    "inds <- !sfe$is_blank_outlier & sfe$nCounts > 0\n",
    "(sfe <- sfe[, inds])"
   ]
  },
  {
   "cell_type": "markdown",
   "id": "b6241538",
   "metadata": {},
   "source": [
    "There still are over 390,000 cells left after removing the outliers. \n",
    "\n",
    "Next we compute Moran's I for QC metrics, which requires a spatial neighborhood graph:"
   ]
  },
  {
   "cell_type": "code",
   "execution_count": null,
   "id": "e447b03b",
   "metadata": {},
   "outputs": [],
   "source": [
    "system.time(\n",
    "    colGraph(sfe, \"knn5\") <- findSpatialNeighbors(sfe, method = \"knearneigh\", \n",
    "                                                  dist_type = \"idw\", k = 5, \n",
    "                                                  style = \"W\")\n",
    ")"
   ]
  },
  {
   "cell_type": "code",
   "execution_count": null,
   "id": "b198866b",
   "metadata": {},
   "outputs": [],
   "source": [
    "features_use <- c(\"nCounts\", \"nGenes\", \"volume\")\n",
    "sfe <- colDataUnivariate(sfe, \"moran.mc\", features_use, \n",
    "                         colGraphName = \"knn5\", nsim = 49, \n",
    "                         BPPARAM = MulticoreParam(2))"
   ]
  },
  {
   "cell_type": "code",
   "execution_count": null,
   "id": "033e0070",
   "metadata": {},
   "outputs": [],
   "source": [
    "plotMoranMC(sfe, features_use)"
   ]
  },
  {
   "cell_type": "markdown",
   "id": "8ad143b9",
   "metadata": {},
   "source": [
    "Here Moran's I is a little negative, but from the permutation testing, it is significant, though that can also be the large number of cells. The lower bound of Moran's I given the spatial neighborhood graph is usually closer to -0.5 than -1, while the upper bound is usually around 1. The bounds given a specific spatial neighborhood graph can be found with `moranBounds()`, but because it double centers the adjacency matrix, hence making it dense, there isn't enough memory to use it for the entire dataset. But we can look at the Moran bounds of a small subset of data, which might be generalizable to the whole dataset given that this tissue appears quite homogeneous in space."
   ]
  },
  {
   "cell_type": "code",
   "execution_count": null,
   "id": "18dbcabc",
   "metadata": {},
   "outputs": [],
   "source": [
    "bbox_use <- c(xmin = 6000, xmax = 7000, ymin = 4000, ymax = 5000)\n",
    "inds2 <- st_intersects(cellSeg(sfe), st_as_sfc(st_bbox(bbox_use)), \n",
    "                       sparse = FALSE)[,1]\n",
    "sfe_sub <- sfe[, inds2]"
   ]
  },
  {
   "cell_type": "code",
   "execution_count": null,
   "id": "524c9312",
   "metadata": {},
   "outputs": [],
   "source": [
    "(mb <- moranBounds(colGraph(sfe_sub, \"knn5\")))"
   ]
  },
  {
   "cell_type": "markdown",
   "id": "00fdbafa",
   "metadata": {
    "lines_to_next_cell": 0
   },
   "source": [
    "So considering the bounds, the MOran's I values of the QC metrics are more like"
   ]
  },
  {
   "cell_type": "code",
   "execution_count": null,
   "id": "43030c13",
   "metadata": {},
   "outputs": [],
   "source": [
    "setNames(colFeatureData(sfe)[c(\"nCounts\", \"nGenes\", \"volume\"), \n",
    "                             \"moran.mc_statistic_sample01\"] / mb[\"Imin\"],\n",
    "         features_use)"
   ]
  },
  {
   "cell_type": "markdown",
   "id": "441dca41",
   "metadata": {},
   "source": [
    "whose magnitudes seem more substantial for `nCounts` and `nGenes` if it's positive spatial autocorrelation. So there may be mild to moderate negative spatial autocorrelation.\n",
    "\n",
    "# Non-spatial PCA\n",
    "First we run non-spatial PCA, to compare to MULTISPATI."
   ]
  },
  {
   "cell_type": "code",
   "execution_count": null,
   "id": "079f692d",
   "metadata": {},
   "outputs": [],
   "source": [
    "sfe <- logNormCounts(sfe)"
   ]
  },
  {
   "cell_type": "code",
   "execution_count": null,
   "id": "c70eb466",
   "metadata": {},
   "outputs": [],
   "source": [
    "set.seed(29)\n",
    "system.time(\n",
    "    sfe <- runPCA(sfe, ncomponents = 20, subset_row = !is_blank,\n",
    "                  exprs_values = \"logcounts\",\n",
    "                  scale = TRUE, BSPARAM = IrlbaParam())\n",
    ")\n",
    "gc()"
   ]
  },
  {
   "cell_type": "markdown",
   "id": "274b3a67",
   "metadata": {},
   "source": [
    "That's pretty quick for almost 400,000 cells, but there aren't that many genes here. Use the elbow plot to see variance explained by each PC:"
   ]
  },
  {
   "cell_type": "code",
   "execution_count": null,
   "id": "c9f8ac2c",
   "metadata": {},
   "outputs": [],
   "source": [
    "ElbowPlot(sfe)"
   ]
  },
  {
   "cell_type": "markdown",
   "id": "1761e4c1",
   "metadata": {
    "lines_to_next_cell": 0
   },
   "source": [
    "Plot top gene loadings in each PC"
   ]
  },
  {
   "cell_type": "code",
   "execution_count": null,
   "id": "84f7210f",
   "metadata": {},
   "outputs": [],
   "source": [
    "plotDimLoadings(sfe)"
   ]
  },
  {
   "cell_type": "markdown",
   "id": "1303b749",
   "metadata": {
    "lines_to_next_cell": 0
   },
   "source": [
    "Many of these genes seem to be related to the endothelium.\n",
    "\n",
    "Plot the first 4 PCs in space"
   ]
  },
  {
   "cell_type": "code",
   "execution_count": null,
   "id": "547b3459",
   "metadata": {
    "fig.height": 7,
    "fig.width": 9
   },
   "outputs": [],
   "source": [
    "spatialReducedDim(sfe, \"PCA\", 4, colGeometryName = \"centroids\", scattermore = TRUE,\n",
    "                  divergent = TRUE, diverge_center = 0)"
   ]
  },
  {
   "cell_type": "markdown",
   "id": "054c3054",
   "metadata": {},
   "source": [
    "PC1 and PC4 highlight the major blood vessels, while PC2 and PC3 have less spatial structure. While in the CosMX and Xenium datasets on this website, the top PCs have clear spatial structures despite the absence of spatial information in non-spatial PCA because of clear spatial compartments for some cell types, which does not seem to be the case in this dataset except for the blood vessels. We have seen above that some genes have strong spatial structures. \n",
    "\n",
    "While PC2 and PC3 don't seem to have large scale spatial structure, they may have more local spatial structure not obvious from plotting the entire section, so we zoom into a bounding box:"
   ]
  },
  {
   "cell_type": "code",
   "execution_count": null,
   "id": "59c74b0b",
   "metadata": {},
   "outputs": [],
   "source": [
    "bbox_use <- c(xmin = 3000, xmax = 3500, ymin = 2500, ymax = 3000)"
   ]
  },
  {
   "cell_type": "code",
   "execution_count": null,
   "id": "d6e50023",
   "metadata": {
    "fig.height": 7,
    "fig.width": 9
   },
   "outputs": [],
   "source": [
    "spatialReducedDim(sfe, \"PCA\", ncomponents = 4, colGeometryName = \"cellSeg\",\n",
    "                  bbox = bbox_use, divergent = TRUE, diverge_center = 0)"
   ]
  },
  {
   "cell_type": "markdown",
   "id": "bb90cbb5",
   "metadata": {},
   "source": [
    "There's some spatial structure at a smaller scale, perhaps some negative spatial autocorrelation.\n",
    "\n",
    "# MULTISPATI PCA"
   ]
  },
  {
   "cell_type": "code",
   "execution_count": null,
   "id": "8b6ba1a0",
   "metadata": {},
   "outputs": [],
   "source": [
    "sfe <- runMultivariate(sfe, \"multispati\", colGraphName = \"knn5\", nfposi = 20,\n",
    "                       nfnega = 20)"
   ]
  },
  {
   "cell_type": "markdown",
   "id": "212980d2",
   "metadata": {
    "lines_to_next_cell": 0
   },
   "source": [
    "Then plot the most positive and most negative eigenvalues. Note that the eigenvalues here are not variance explained. Instead, they are the product of variance explained and Moran's I. So the most positive eigenvalues correspond to eigenvectors that simultaneously explain more variance and have large positive Moran's I. The most negative eigenvalues correspond to eigenvectors that simultaneously explain more variance and have large negative Moran's I."
   ]
  },
  {
   "cell_type": "code",
   "execution_count": null,
   "id": "c4ed37a1",
   "metadata": {},
   "outputs": [],
   "source": [
    "ElbowPlot(sfe, nfnega = 20, reduction = \"multispati\")"
   ]
  },
  {
   "cell_type": "markdown",
   "id": "832bb5b4",
   "metadata": {},
   "source": [
    "Here the positive eigenvalues drop sharply from PC1 to PC4, and there is only one very negative eigenvalue which might be interesting, which is unsurprising given the moderately negative Moran's I for `nCounts` and `nGenes`. However, from the [first MERFISH vignette](https://pachterlab.github.io/voyager/articles/vig6_merfish.html#morans-i), none of the genes have very negative Moran's I. Perhaps the negative eigenvalue comes from negative spatial autocorrelation in a gene program or \"eigengene\" and is not obvious from individual genes. This is the beauty of multivariate analysis.\n",
    "\n",
    "What do these components mean? Each component is a linear combination of genes to maximize the product of variance explained and Moran's I. The second component maximizes this product provided that it's orthogonal to the first component, and so on. As the loss in variance explained is usually not huge, these components can be considered axes along which _spatially coherent_ groups of spots are separated from each other as much as possible according to expression of the highly variable genes, so in theory, clustering with positive MULTISPATI components should give more spatially coherent clusters. Because of the spatial coherence, MULTISPATI might be more robust to outliers."
   ]
  },
  {
   "cell_type": "code",
   "execution_count": null,
   "id": "378cbbbd",
   "metadata": {},
   "outputs": [],
   "source": [
    "plotDimLoadings(sfe, dims = c(1:3, 40), reduction = \"multispati\")"
   ]
  },
  {
   "cell_type": "markdown",
   "id": "02178ad1",
   "metadata": {
    "lines_to_next_cell": 0
   },
   "source": [
    "From gene loadings, PC40 seems to separate blood vessels from hepatocytes.\n",
    "\n",
    "Plot the first 4 MULTISPATI PCs"
   ]
  },
  {
   "cell_type": "code",
   "execution_count": null,
   "id": "f71e501e",
   "metadata": {
    "fig.height": 7,
    "fig.width": 9,
    "lines_to_next_cell": 2
   },
   "outputs": [],
   "source": [
    "spatialReducedDim(sfe, \"multispati\", 4, colGeometryName = \"centroids\", scattermore = TRUE,\n",
    "                  divergent = TRUE, diverge_center = 0)"
   ]
  },
  {
   "cell_type": "markdown",
   "id": "28a52042",
   "metadata": {},
   "source": [
    "The first two PCs pick up zoning. PC3 and PC4 seem to have smaller scale spatial structure, so we zoom in here:"
   ]
  },
  {
   "cell_type": "code",
   "execution_count": null,
   "id": "af3f9c9e",
   "metadata": {
    "fig.height": 7,
    "fig.width": 9
   },
   "outputs": [],
   "source": [
    "spatialReducedDim(sfe, \"multispati\", ncomponents = 4, colGeometryName = \"cellSeg\",\n",
    "                  bbox = bbox_use, divergent = TRUE, diverge_center = 0)"
   ]
  },
  {
   "cell_type": "markdown",
   "id": "b519da2b",
   "metadata": {
    "lines_to_next_cell": 0
   },
   "source": [
    "What about the negative eigenvalue?"
   ]
  },
  {
   "cell_type": "code",
   "execution_count": null,
   "id": "5af2d3b6",
   "metadata": {},
   "outputs": [],
   "source": [
    "spatialReducedDim(sfe, \"multispati\", 39:40, colGeometryName = \"cellSeg\", \n",
    "                  divergent = TRUE, diverge_center = 0, bbox = bbox_use)"
   ]
  },
  {
   "cell_type": "markdown",
   "id": "a4ccd1ca",
   "metadata": {},
   "source": [
    "# Spatial autocorrelation of principal components\n",
    "## Moran's I\n",
    "Here we compare Moran's I for cell embeddings in each non-spatial and MULTISPATI PC:"
   ]
  },
  {
   "cell_type": "code",
   "execution_count": null,
   "id": "f8941858",
   "metadata": {},
   "outputs": [],
   "source": [
    "# non-spatial\n",
    "sfe <- reducedDimMoransI(sfe, dimred = \"PCA\", components = 1:20,\n",
    "                         BPPARAM = MulticoreParam(2))\n",
    "# spatial\n",
    "sfe <- reducedDimMoransI(sfe, dimred = \"multispati\", components = 1:40,\n",
    "                         BPPARAM = MulticoreParam(2))"
   ]
  },
  {
   "cell_type": "code",
   "execution_count": null,
   "id": "1f9d8094",
   "metadata": {},
   "outputs": [],
   "source": [
    "df_moran <- tibble(PCA = reducedDimFeatureData(sfe, \"PCA\")$moran_sample01[1:20],\n",
    "                   MULTISPATI_pos = \n",
    "                       reducedDimFeatureData(sfe, \"multispati\")$moran_sample01[1:20],\n",
    "                   MULTISPATI_neg = \n",
    "                       reducedDimFeatureData(sfe,\"multispati\")$moran_sample01[21:40] |> \n",
    "                       rev(),\n",
    "                   index = 1:20)"
   ]
  },
  {
   "cell_type": "code",
   "execution_count": null,
   "id": "8914d2a3",
   "metadata": {},
   "outputs": [],
   "source": [
    "data(\"ditto_colors\")"
   ]
  },
  {
   "cell_type": "code",
   "execution_count": null,
   "id": "bc07563d",
   "metadata": {},
   "outputs": [],
   "source": [
    "df_moran |> \n",
    "    pivot_longer(cols = -index, values_to = \"value\", names_to = \"name\") |> \n",
    "    ggplot(aes(index, value, color = name)) +\n",
    "    geom_line() +\n",
    "    scale_color_manual(values = ditto_colors) +\n",
    "    geom_hline(yintercept = 0) +\n",
    "    geom_hline(yintercept = mb, linetype = 2) +\n",
    "    scale_y_continuous(breaks = scales::breaks_pretty()) +\n",
    "    scale_x_continuous(breaks = scales::breaks_width(5)) +\n",
    "    labs(y = \"Moran's I\", color = \"Type\", x = \"Component\")"
   ]
  },
  {
   "cell_type": "markdown",
   "id": "4d147e17",
   "metadata": {},
   "source": [
    "In MULTISPATI, Moran's I is high in PC1 and PC2, but then sharply drops. Moran's I for the PC with the most negative eigenvalues is not very negative, which means the large magnitude of that eigenvalue comes from explaining more variance. Non-spatial PCs are not sorted by Moran's I; PC5 has surprising large Moran's I. "
   ]
  },
  {
   "cell_type": "code",
   "execution_count": null,
   "id": "0b3155fe",
   "metadata": {
    "fig.height": 4,
    "fig.width": 9
   },
   "outputs": [],
   "source": [
    "spatialReducedDim(sfe, \"PCA\", 5:6, colGeometryName = \"centroids\", scattermore = TRUE,\n",
    "                  divergent = TRUE, diverge_center = 0)"
   ]
  },
  {
   "cell_type": "markdown",
   "id": "41232551",
   "metadata": {},
   "source": [
    "PC5 must be about zonation. Also show a smaller scale:"
   ]
  },
  {
   "cell_type": "code",
   "execution_count": null,
   "id": "234b6b3b",
   "metadata": {
    "fig.height": 4,
    "fig.width": 9
   },
   "outputs": [],
   "source": [
    "spatialReducedDim(sfe, \"PCA\", 5:6, colGeometryName = \"cellSeg\", \n",
    "                  divergent = TRUE, diverge_center = 0, bbox = bbox_use)"
   ]
  },
  {
   "cell_type": "markdown",
   "id": "9a9a159e",
   "metadata": {
    "lines_to_next_cell": 0
   },
   "source": [
    "## Moran scatter plot\n",
    "Local positive and negative spatial autocorrelation can average out in global Moran's I. From the zoomed in plots above, PCs 1, 3, 4, and 6 pick up something about the blood vessel. The Moran scatter plot can help discovering more local heterogeneity."
   ]
  },
  {
   "cell_type": "code",
   "execution_count": null,
   "id": "d503dd77",
   "metadata": {},
   "outputs": [],
   "source": [
    "sfe <- reducedDimUnivariate(sfe, \"moran.plot\", dimred = \"PCA\", components = 1:6)"
   ]
  },
  {
   "cell_type": "code",
   "execution_count": null,
   "id": "40e05dd9",
   "metadata": {},
   "outputs": [],
   "source": [
    "plts <- lapply(seq_len(6), function(i) {\n",
    "    moranPlot(sfe, paste0(\"PC\", i), binned = TRUE, hex = TRUE, plot_influential = FALSE)\n",
    "})"
   ]
  },
  {
   "cell_type": "code",
   "execution_count": null,
   "id": "4449ca9d",
   "metadata": {
    "fig.height": 6,
    "fig.width": 10
   },
   "outputs": [],
   "source": [
    "wrap_plots(plts, widths = 1, heights = 1) +\n",
    "    plot_layout(ncol = 3) +\n",
    "    plot_annotation(tag_levels = \"1\", \n",
    "                    title = \"Moran scatter plot for non-spatial PCs\") &\n",
    "    theme(legend.position = \"none\")"
   ]
  },
  {
   "cell_type": "markdown",
   "id": "8af8c628",
   "metadata": {},
   "source": [
    "PCs 1-3 have some fainter clusters outside the main cluster, indicating heterogeneous spatial autocorrelation. Also make Moran scatter plots for MULTISPATI"
   ]
  },
  {
   "cell_type": "code",
   "execution_count": null,
   "id": "e02cb868",
   "metadata": {},
   "outputs": [],
   "source": [
    "sfe <- reducedDimUnivariate(sfe, \"moran.plot\", dimred = \"multispati\", \n",
    "                            components = c(1:5, 40), \n",
    "                            # Not to overwrite non-spatial PCA moran plots\n",
    "                            name = \"moran.plot2\") "
   ]
  },
  {
   "cell_type": "code",
   "execution_count": null,
   "id": "140ad609",
   "metadata": {},
   "outputs": [],
   "source": [
    "plts2 <- lapply(c(1:5, 40), function(i) {\n",
    "    moranPlot(sfe, paste0(\"PC\", i), binned = TRUE, hex = TRUE, \n",
    "              plot_influential = FALSE, name = \"moran.plot2\")\n",
    "})"
   ]
  },
  {
   "cell_type": "code",
   "execution_count": null,
   "id": "b9aa932a",
   "metadata": {
    "fig.height": 6,
    "fig.width": 10
   },
   "outputs": [],
   "source": [
    "wrap_plots(plts2, widths = 1, heights = 1) +\n",
    "    plot_layout(ncol = 3) +\n",
    "    plot_annotation(tag_levels = \"1\",\n",
    "                    title = \"Moran scatter plot for MULTISPATI PCs\") &\n",
    "    theme(legend.position = \"none\")"
   ]
  },
  {
   "cell_type": "markdown",
   "id": "f782128e",
   "metadata": {},
   "source": [
    "There are some interesting clusters.\n",
    "\n",
    "# Clustering with MULTISPATI PCA\n",
    "\n",
    "In the standard scRNA-seq data analysis workflow, a k nearest neighbor graph is found in the PCA space, which is then used for graph based clustering such as Louvain and Leiden, which is used to perform differential expression. Spatial dimension reductions can similarly be used to perform clustering, to identify spatial regions in the tissue, as done in [@Shang2022-qy; @Ren2022-qx; @Zhang2023-kf]. This type of studies often use a manual segmentation as ground truth to compare different methods that identify spatial regions. \n",
    "\n",
    "The problem with this is that spatial region methods are meant to help us to identify novel spatial regions based on new -omics data, which might reveal what's previously unknown from manual annotations. If the output from a method doesn't match manual annotations, it might simply be pointing out a previously unknown aspect of the tissue rather than wrong. Depending on the questions being asked, there can simultaneously be multiple spatial partitions. This happens in geographical space. For instance, there's land use and neighborhood boundaries, but equally valid are watershed boundaries and types of rock formation. Which one is relevant depends on the questions asked.\n",
    "\n",
    "Here we perform Leiden clustering with non-spatial and MULTISPATI PCA and compare the results. For the k nearest neighbor graph, I used the default k = 10."
   ]
  },
  {
   "cell_type": "code",
   "execution_count": null,
   "id": "9000ca88",
   "metadata": {},
   "outputs": [],
   "source": [
    "system.time({\n",
    "    set.seed(29)\n",
    "    sfe$clusts_nonspatial <- clusterCells(sfe, use.dimred = \"PCA\", \n",
    "                                          BLUSPARAM = NNGraphParam(\n",
    "                                              cluster.fun = \"leiden\",\n",
    "                                              cluster.args = list(\n",
    "                                                  objective_function = \"modularity\",\n",
    "                                                  resolution_parameter = 1\n",
    "                                              )\n",
    "                                          ))\n",
    "})"
   ]
  },
  {
   "cell_type": "markdown",
   "id": "6a7e9311",
   "metadata": {
    "lines_to_next_cell": 0
   },
   "source": [
    "See if clustering with the positive MULTISPATI PCs give more spatially coherent clusters"
   ]
  },
  {
   "cell_type": "code",
   "execution_count": null,
   "id": "b9ed6d3b",
   "metadata": {},
   "outputs": [],
   "source": [
    "system.time({\n",
    "    set.seed(29)\n",
    "    sfe$clusts_multispati <- clusterRows(reducedDim(sfe, \"multispati\")[,1:20], \n",
    "                                          BLUSPARAM = NNGraphParam(\n",
    "                                              cluster.fun = \"leiden\",\n",
    "                                              cluster.args = list(\n",
    "                                                  objective_function = \"modularity\",\n",
    "                                                  resolution_parameter = 1\n",
    "                                              )\n",
    "                                          ))\n",
    "})"
   ]
  },
  {
   "cell_type": "markdown",
   "id": "8723afd4",
   "metadata": {
    "lines_to_next_cell": 0
   },
   "source": [
    "Plot the clusters in space:"
   ]
  },
  {
   "cell_type": "code",
   "execution_count": null,
   "id": "9fb84f93",
   "metadata": {
    "fig.height": 4,
    "fig.width": 11
   },
   "outputs": [],
   "source": [
    "plotSpatialFeature(sfe, c(\"clusts_nonspatial\", \"clusts_multispati\"), \n",
    "                   colGeometryName = \"centroids\",\n",
    "                   scattermore = TRUE) &\n",
    "     guides(colour = guide_legend(override.aes = list(size=2), ncol = 2))"
   ]
  },
  {
   "cell_type": "markdown",
   "id": "85d196a3",
   "metadata": {
    "lines_to_next_cell": 0
   },
   "source": [
    "The MULTISPATI clusters do look somewhat more spatially structured than clusters from non-spatial PCA. Also zoom into a small area:"
   ]
  },
  {
   "cell_type": "code",
   "execution_count": null,
   "id": "0eef4112",
   "metadata": {
    "fig.height": 4,
    "fig.width": 11
   },
   "outputs": [],
   "source": [
    "plotSpatialFeature(sfe, c(\"clusts_nonspatial\", \"clusts_multispati\"), \n",
    "                   colGeometryName = \"cellSeg\",\n",
    "                   bbox = bbox_use) &\n",
    "     guides(fill = guide_legend(ncol = 2))"
   ]
  },
  {
   "cell_type": "markdown",
   "id": "cc2a9106",
   "metadata": {
    "lines_to_next_cell": 0
   },
   "source": [
    "What do these clusters mean? Clusters are supposed to be groups of different spots that are more similar within a group, sharing some characteristics. Non-spatial and MULTISPATI PCA use different characteristics for the clustering. Non-spatial PCA finds genes that are good for telling cell types apart, although those genes may happen to be very spatially structured. Non-spatial clustering aims to find these groups only from gene expression, and cells with similar gene expression can be surrounded by cells of other types in histological space. This is just like mapping Art Deco buildings, which are often near Spanish revival and Beaux Art buildings whose styles are quite different and perform different functions, thus not necessarily forming a coherent spatial region. \n",
    "\n",
    "In contrast, MULTISPATI's positive components find genes that must characterize spatial regions in addition to distinguishing between different cell types. Which genes are involved in each MULTISPATI component may be as interesting as the clusters. It would be interesting to perform gene set enrichment analysis, or to interpret this as some sort of spatial patterns of spatially variable genes. This is like mapping when the buildings were built, so Art Deco, Spanish revival, Beaux Art popular in the 1920s and 1930s will end up in the same cluster and form a more spatially coherent region, which can be found in DTLA Historical Core and Jewelry District, and Old Pasadena. Hence non-spatial clustering of spatial data isn't necessarily bad. Rather, it tells a different story and reveals different aspects of the data from spatial clustering. \n",
    "\n",
    "# Session Info"
   ]
  },
  {
   "cell_type": "code",
   "execution_count": null,
   "id": "b805f886",
   "metadata": {},
   "outputs": [],
   "source": [
    "sessionInfo()"
   ]
  },
  {
   "cell_type": "markdown",
   "id": "d59d2802",
   "metadata": {},
   "source": [
    "# References"
   ]
  }
 ],
 "metadata": {
  "kernelspec": {
   "display_name": "R",
   "language": "R",
   "name": "ir"
  }
 },
 "nbformat": 4,
 "nbformat_minor": 5
}
||||||| 6b0d1f4
=======
{
 "cells": [
  {
   "cell_type": "raw",
   "id": "1a82cf02",
   "metadata": {},
   "source": [
    "---\n",
    "title: \"MULTISPATI PCA and negative spatial autocorrelation\"\n",
    "author: \"Lambda Moses\"\n",
    "date: \"`r Sys.Date()`\"\n",
    "output: \n",
    "  html_document:\n",
    "  toc: true\n",
    "  toc_float:\n",
    "    collapsed: false\n",
    "  toc_depth: 3\n",
    "bibliography: ref.bib\n",
    "vignette: >\n",
    "  %\\VignetteIndexEntry{multispati}\n",
    "  %\\VignetteEngine{knitr::rmarkdown}\n",
    "  %\\VignetteEncoding{UTF-8}\n",
    "---"
   ]
  },
  {
   "cell_type": "code",
   "execution_count": null,
   "id": "baf37700",
   "metadata": {
    "lines_to_next_cell": 2,
    "tags": [
     "remove_cell"
    ]
   },
   "outputs": [],
   "source": [
    "knitr::opts_chunk$set(\n",
    "  collapse = TRUE,\n",
    "  comment = \"#>\"\n",
    ")"
   ]
  },
  {
   "cell_type": "code",
   "execution_count": null,
   "id": "ea8f2bee",
   "metadata": {
    "eval": false,
    "tags": [
     "remove_cell"
    ]
   },
   "outputs": [],
   "source": [
    "# Install Google Colab dependencies\n",
    "# Note: this can take 30+ minutes (many of the dependencies include C++ code, which needs to be compiled)\n",
    "\n",
    "# First install `sf`, `ragg` and `textshaping` and their system dependencies:\n",
    "system(\"apt-get -y update && apt-get install -y  libudunits2-dev libgdal-dev libgeos-dev libproj-dev libharfbuzz-dev libfribidi-dev\")\n",
    "install.packages(\"sf\")\n",
    "install.packages(\"textshaping\")\n",
    "install.packages(\"ragg\")\n",
    "\n",
    "# Install system dependencies of some other R packages that Voyager either imports or suggests:\n",
    "system(\"apt-get install -y libfribidi-dev libcairo2-dev libmagick++-dev\")\n",
    "\n",
    "# Install Voyager from Bioconductor:\n",
    "install.packages(\"BiocManager\")\n",
    "BiocManager::install(version = \"3.17\", ask = FALSE, update = FALSE, Ncpus = 2)\n",
    "BiocManager::install(\"scater\")\n",
    "system.time(\n",
    "  BiocManager::install(\"Voyager\", dependencies = TRUE, Ncpus = 2, update = FALSE)\n",
    ")\n",
    "\n",
    "# Other packages used in this vignette\n",
    "packageVersion(\"Voyager\")"
   ]
  },
  {
   "cell_type": "markdown",
   "id": "08d41a75",
   "metadata": {},
   "source": [
    "# Introduction\n",
    "Due to the large number of genes quantified in single cell and spatial transcriptomics, dimension reduction is part of the standard workflow to analyze such data, to visualize, to help interpreting the data, to distill relevant information and reduce noise, to facilitate downstream analyses such as clustering and pseudotime, to project different samples into a shared latent space for data integration, and so on.\n",
    "\n",
    "The first dimension reduction methods we learn about, such as good old principal component analysis (PCA), tSNE, and UMAP, don't use spatial information. With the rise of spatial transcriptomics, some dimension reduction methods that take spatial dependence into account have been written. Some, such as `SpatialPCA` [@Shang2022-qy], `NSF` [@Townes2023-bi], and `MEFISTO` [@Velten2022-gv] use factor analysis or probabilistic PCA which is related to factor analysis, and model the factors as Gaussian processes, with a spatial kernel for the covariance matrix, so the factors have positive spatial autocorrelation and can be used for downstream clustering where the clusters can be more spatially coherent. Some use graph convolution networks on a spatial neighborhood graph to find spatially informed embeddings of the cells, such as `conST` [@Zong2022-tb] and `SpaceFlow` [@Ren2022-qx]. `SpaSRL` [@Zhang2023-kf] finds a low dimension projection of spatial neighborhood augmented data. \n",
    "\n",
    "Spatially informed dimension reduction is actually not new, and dates back to at least 1985, with Wartenberg's crossover of Moran's I and PCA [@Wartenberg1985-fk], which was generalized and further developed as MULTISPATI PCA [@Dray2008-en], implemented in the [`adespatial`](https://cran.r-project.org/web/packages/adespatial/index.html) package on CRAN. In short, while PCA tries to maximize the variance explained by each PC, MULTISPATI maximizes the product of Moran's I and variance explained. Also, while all the eigenvalues from PCA are non-negative, because the covariance matrix is positive semidefinite, MULTISPATI can give negative eigenvalues, which represent negative spatial autocorrelation, which can be present and interesting but is not as common as positive spatial autocorrelation and is often masked by the latter [@Griffith2019-bo]. \n",
    "\n",
    "In single cell -omics conventions, let $X$ denote a gene count matrix whose columns are cells or Visium spots and whose rows are genes, with $n$ columns. Let $W$ denote the row normalized $n\\times n$ adjacency matrix of the spatial neighborhood graph of the cells or Visium spots, which does not have to be symmetric. MULTISPATI diagonalizes a symmetric matrix\n",
    "\n",
    "$$\n",
    "H = \\frac 1 {2n} X(W^t+W)X^t\n",
    "$$\n",
    "\n",
    "However, the implementation in `adespatial` is more general and can be used for other multivariate analyses in the [duality diagram](https://www.ncbi.nlm.nih.gov/pmc/articles/PMC3265363/) paradigm, such as correspondence analysis; the equation above is simplified just for PCA, without having to introduce the duality diagram here.\n",
    "\n",
    "Voyager 1.2.0 (Bioconductor 3.17) has a much faster implementation of MULTISPATI PCA based on [`RSpectra`](https://cran.r-project.org/web/packages/RSpectra/index.html). See benchmark [here](https://lambdamoses.github.io/thevoyages/posts/2023-03-25-multispati-part-2/).\n",
    "\n",
    "In this vignette, we perform MULTISPATI PCA on the MERFISH mouse liver dataset. See the first vignette using this dataset [here](https://pachterlab.github.io/voyager/articles/vig6_merfish.html).\n",
    "\n",
    "Here we load the packages used:"
   ]
  },
  {
   "cell_type": "code",
   "execution_count": null,
   "id": "921c80e3",
   "metadata": {
    "message": false,
    "name": "setup"
   },
   "outputs": [],
   "source": [
    "library(Voyager)\n",
    "library(SFEData)\n",
    "library(SpatialFeatureExperiment)\n",
    "library(scater)\n",
    "library(scran)\n",
    "library(scuttle)\n",
    "library(ggplot2)\n",
    "library(stringr)\n",
    "library(tidyr)\n",
    "library(tibble)\n",
    "library(bluster)\n",
    "library(BiocSingular)\n",
    "library(BiocParallel)\n",
    "library(sf)\n",
    "library(patchwork)\n",
    "theme_set(theme_bw())"
   ]
  },
  {
   "cell_type": "code",
   "execution_count": null,
   "id": "4b8e0772",
   "metadata": {},
   "outputs": [],
   "source": [
    "(sfe <- VizgenLiverData())"
   ]
  },
  {
   "cell_type": "markdown",
   "id": "3171e930",
   "metadata": {
    "lines_to_next_cell": 0
   },
   "source": [
    "MULTISPATI PCA is one of the multivariate methods introduced in `Voyager` 1.2.0. All multivariate methods in `Voyager` are listed here:"
   ]
  },
  {
   "cell_type": "code",
   "execution_count": null,
   "id": "6c8c4390",
   "metadata": {},
   "outputs": [],
   "source": [
    "listSFEMethods(variate = \"multi\")"
   ]
  },
  {
   "cell_type": "markdown",
   "id": "db667159",
   "metadata": {
    "lines_to_next_cell": 0
   },
   "source": [
    "When calling `calculate*variate()` or `run*variate()`, the `type` (2nd) argument takes either an `SFEMethod` object or a string that matches an entry in the `name` column in the data frame returned by `listSFEMethods()`.\n",
    "\n",
    "# Quality control\n",
    "QC was already performed in the [first vignette](https://pachterlab.github.io/voyager/articles/vig6_merfish.html). We do the same QC here, but see the first vignette for more details."
   ]
  },
  {
   "cell_type": "code",
   "execution_count": null,
   "id": "c55c06cc",
   "metadata": {},
   "outputs": [],
   "source": [
    "is_blank <- str_detect(rownames(sfe), \"^Blank-\")\n",
    "sfe <- addPerCellQCMetrics(sfe, subset = list(blank = is_blank))"
   ]
  },
  {
   "cell_type": "code",
   "execution_count": null,
   "id": "d1ec16ea",
   "metadata": {},
   "outputs": [],
   "source": [
    "get_neg_ctrl_outliers <- function(col, sfe, nmads = 3, log = FALSE) {\n",
    "    inds <- colData(sfe)$nCounts > 0 & colData(sfe)[[col]] > 0\n",
    "    df <- colData(sfe)[inds,]\n",
    "    outlier_inds <- isOutlier(df[[col]], type = \"higher\", nmads = nmads, log = log)\n",
    "    outliers <- rownames(df)[outlier_inds]\n",
    "    col2 <- str_remove(col, \"^subsets_\")\n",
    "    col2 <- str_remove(col2, \"_percent$\")\n",
    "    new_colname <- paste(\"is\", col2, \"outlier\", sep = \"_\")\n",
    "    colData(sfe)[[new_colname]] <- colnames(sfe) %in% outliers\n",
    "    sfe\n",
    "}"
   ]
  },
  {
   "cell_type": "code",
   "execution_count": null,
   "id": "f27a4312",
   "metadata": {},
   "outputs": [],
   "source": [
    "sfe <- get_neg_ctrl_outliers(\"subsets_blank_percent\", sfe, log = TRUE)"
   ]
  },
  {
   "cell_type": "markdown",
   "id": "c3d31f3e",
   "metadata": {
    "lines_to_next_cell": 0
   },
   "source": [
    "Remove the outliers and empty cells:"
   ]
  },
  {
   "cell_type": "code",
   "execution_count": null,
   "id": "fc8e681f",
   "metadata": {},
   "outputs": [],
   "source": [
    "inds <- !sfe$is_blank_outlier & sfe$nCounts > 0\n",
    "(sfe <- sfe[, inds])"
   ]
  },
  {
   "cell_type": "markdown",
   "id": "08de378f",
   "metadata": {},
   "source": [
    "There still are over 390,000 cells left after removing the outliers. \n",
    "\n",
    "Next we compute Moran's I for QC metrics, which requires a spatial neighborhood graph:"
   ]
  },
  {
   "cell_type": "code",
   "execution_count": null,
   "id": "ac905034",
   "metadata": {},
   "outputs": [],
   "source": [
    "system.time(\n",
    "    colGraph(sfe, \"knn5\") <- findSpatialNeighbors(sfe, method = \"knearneigh\", \n",
    "                                                  dist_type = \"idw\", k = 5, \n",
    "                                                  style = \"W\")\n",
    ")"
   ]
  },
  {
   "cell_type": "code",
   "execution_count": null,
   "id": "97f71dc1",
   "metadata": {},
   "outputs": [],
   "source": [
    "features_use <- c(\"nCounts\", \"nGenes\", \"volume\")\n",
    "sfe <- colDataUnivariate(sfe, \"moran.mc\", features_use, \n",
    "                         colGraphName = \"knn5\", nsim = 49, \n",
    "                         BPPARAM = MulticoreParam(2))"
   ]
  },
  {
   "cell_type": "code",
   "execution_count": null,
   "id": "11ef578b",
   "metadata": {},
   "outputs": [],
   "source": [
    "plotMoranMC(sfe, features_use)"
   ]
  },
  {
   "cell_type": "markdown",
   "id": "261e2ddd",
   "metadata": {},
   "source": [
    "Here Moran's I is a little negative, but from the permutation testing, it is significant, though that can also be the large number of cells. The lower bound of Moran's I given the spatial neighborhood graph is usually closer to -0.5 than -1, while the upper bound is usually around 1. The bounds given a specific spatial neighborhood graph can be found with `moranBounds()`, but because it double centers the adjacency matrix, hence making it dense, there isn't enough memory to use it for the entire dataset. But we can look at the Moran bounds of a small subset of data, which might be generalizable to the whole dataset given that this tissue appears quite homogeneous in space."
   ]
  },
  {
   "cell_type": "code",
   "execution_count": null,
   "id": "a8164c89",
   "metadata": {},
   "outputs": [],
   "source": [
    "bbox_use <- c(xmin = 6000, xmax = 7000, ymin = 4000, ymax = 5000)\n",
    "inds2 <- st_intersects(cellSeg(sfe), st_as_sfc(st_bbox(bbox_use)), \n",
    "                       sparse = FALSE)[,1]\n",
    "sfe_sub <- sfe[, inds2]"
   ]
  },
  {
   "cell_type": "code",
   "execution_count": null,
   "id": "320c91a3",
   "metadata": {},
   "outputs": [],
   "source": [
    "(mb <- moranBounds(colGraph(sfe_sub, \"knn5\")))"
   ]
  },
  {
   "cell_type": "markdown",
   "id": "bb5dda9e",
   "metadata": {
    "lines_to_next_cell": 0
   },
   "source": [
    "So considering the bounds, the MOran's I values of the QC metrics are more like"
   ]
  },
  {
   "cell_type": "code",
   "execution_count": null,
   "id": "32be55a4",
   "metadata": {},
   "outputs": [],
   "source": [
    "setNames(colFeatureData(sfe)[c(\"nCounts\", \"nGenes\", \"volume\"), \n",
    "                             \"moran.mc_statistic_sample01\"] / mb[\"Imin\"],\n",
    "         features_use)"
   ]
  },
  {
   "cell_type": "markdown",
   "id": "97f1f02f",
   "metadata": {},
   "source": [
    "whose magnitudes seem more substantial for `nCounts` and `nGenes` if it's positive spatial autocorrelation. So there may be mild to moderate negative spatial autocorrelation.\n",
    "\n",
    "# Non-spatial PCA\n",
    "First we run non-spatial PCA, to compare to MULTISPATI."
   ]
  },
  {
   "cell_type": "code",
   "execution_count": null,
   "id": "cb459932",
   "metadata": {},
   "outputs": [],
   "source": [
    "sfe <- logNormCounts(sfe)"
   ]
  },
  {
   "cell_type": "code",
   "execution_count": null,
   "id": "bbb80d21",
   "metadata": {},
   "outputs": [],
   "source": [
    "set.seed(29)\n",
    "system.time(\n",
    "    sfe <- runPCA(sfe, ncomponents = 20, subset_row = !is_blank,\n",
    "                  exprs_values = \"logcounts\",\n",
    "                  scale = TRUE, BSPARAM = IrlbaParam())\n",
    ")\n",
    "gc()"
   ]
  },
  {
   "cell_type": "markdown",
   "id": "2a4d7152",
   "metadata": {},
   "source": [
    "That's pretty quick for almost 400,000 cells, but there aren't that many genes here. Use the elbow plot to see variance explained by each PC:"
   ]
  },
  {
   "cell_type": "code",
   "execution_count": null,
   "id": "74f50ca2",
   "metadata": {},
   "outputs": [],
   "source": [
    "ElbowPlot(sfe)"
   ]
  },
  {
   "cell_type": "markdown",
   "id": "378fcb08",
   "metadata": {
    "lines_to_next_cell": 0
   },
   "source": [
    "Plot top gene loadings in each PC"
   ]
  },
  {
   "cell_type": "code",
   "execution_count": null,
   "id": "503b651e",
   "metadata": {},
   "outputs": [],
   "source": [
    "plotDimLoadings(sfe)"
   ]
  },
  {
   "cell_type": "markdown",
   "id": "c4e7b4bd",
   "metadata": {
    "lines_to_next_cell": 0
   },
   "source": [
    "Many of these genes seem to be related to the endothelium.\n",
    "\n",
    "Plot the first 4 PCs in space"
   ]
  },
  {
   "cell_type": "code",
   "execution_count": null,
   "id": "d606d37e",
   "metadata": {
    "fig.height": 7,
    "fig.width": 9
   },
   "outputs": [],
   "source": [
    "spatialReducedDim(sfe, \"PCA\", 4, colGeometryName = \"centroids\", scattermore = TRUE,\n",
    "                  divergent = TRUE, diverge_center = 0)"
   ]
  },
  {
   "cell_type": "markdown",
   "id": "cf698df4",
   "metadata": {},
   "source": [
    "PC1 and PC4 highlight the major blood vessels, while PC2 and PC3 have less spatial structure. While in the CosMX and Xenium datasets on this website, the top PCs have clear spatial structures despite the absence of spatial information in non-spatial PCA because of clear spatial compartments for some cell types, which does not seem to be the case in this dataset except for the blood vessels. We have seen above that some genes have strong spatial structures. \n",
    "\n",
    "While PC2 and PC3 don't seem to have large scale spatial structure, they may have more local spatial structure not obvious from plotting the entire section, so we zoom into a bounding box:"
   ]
  },
  {
   "cell_type": "code",
   "execution_count": null,
   "id": "8f86bf33",
   "metadata": {},
   "outputs": [],
   "source": [
    "bbox_use <- c(xmin = 3000, xmax = 3500, ymin = 2500, ymax = 3000)"
   ]
  },
  {
   "cell_type": "code",
   "execution_count": null,
   "id": "0fe7fcf5",
   "metadata": {
    "fig.height": 7,
    "fig.width": 9
   },
   "outputs": [],
   "source": [
    "spatialReducedDim(sfe, \"PCA\", ncomponents = 4, colGeometryName = \"cellSeg\",\n",
    "                  bbox = bbox_use, divergent = TRUE, diverge_center = 0)"
   ]
  },
  {
   "cell_type": "markdown",
   "id": "401ae039",
   "metadata": {},
   "source": [
    "There's some spatial structure at a smaller scale, perhaps some negative spatial autocorrelation.\n",
    "\n",
    "# MULTISPATI PCA"
   ]
  },
  {
   "cell_type": "code",
   "execution_count": null,
   "id": "ccfb3478",
   "metadata": {},
   "outputs": [],
   "source": [
    "sfe <- runMultivariate(sfe, \"multispati\", colGraphName = \"knn5\", nfposi = 20,\n",
    "                       nfnega = 20)"
   ]
  },
  {
   "cell_type": "markdown",
   "id": "71e7eeda",
   "metadata": {
    "lines_to_next_cell": 0
   },
   "source": [
    "Then plot the most positive and most negative eigenvalues. Note that the eigenvalues here are not variance explained. Instead, they are the product of variance explained and Moran's I. So the most positive eigenvalues correspond to eigenvectors that simultaneously explain more variance and have large positive Moran's I. The most negative eigenvalues correspond to eigenvectors that simultaneously explain more variance and have large negative Moran's I."
   ]
  },
  {
   "cell_type": "code",
   "execution_count": null,
   "id": "fb2f2277",
   "metadata": {},
   "outputs": [],
   "source": [
    "ElbowPlot(sfe, nfnega = 20, reduction = \"multispati\")"
   ]
  },
  {
   "cell_type": "markdown",
   "id": "f993f878",
   "metadata": {},
   "source": [
    "Here the positive eigenvalues drop sharply from PC1 to PC4, and there is only one very negative eigenvalue which might be interesting, which is unsurprising given the moderately negative Moran's I for `nCounts` and `nGenes`. However, from the [first MERFISH vignette](https://pachterlab.github.io/voyager/articles/vig6_merfish.html#morans-i), none of the genes have very negative Moran's I. Perhaps the negative eigenvalue comes from negative spatial autocorrelation in a gene program or \"eigengene\" and is not obvious from individual genes. This is the beauty of multivariate analysis.\n",
    "\n",
    "What do these components mean? Each component is a linear combination of genes to maximize the product of variance explained and Moran's I. The second component maximizes this product provided that it's orthogonal to the first component, and so on. As the loss in variance explained is usually not huge, these components can be considered axes along which _spatially coherent_ groups of spots are separated from each other as much as possible according to expression of the highly variable genes, so in theory, clustering with positive MULTISPATI components should give more spatially coherent clusters. Because of the spatial coherence, MULTISPATI might be more robust to outliers."
   ]
  },
  {
   "cell_type": "code",
   "execution_count": null,
   "id": "b46111b9",
   "metadata": {},
   "outputs": [],
   "source": [
    "plotDimLoadings(sfe, dims = c(1:3, 40), reduction = \"multispati\")"
   ]
  },
  {
   "cell_type": "markdown",
   "id": "11f5ac75",
   "metadata": {
    "lines_to_next_cell": 0
   },
   "source": [
    "From gene loadings, PC40 seems to separate blood vessels from hepatocytes.\n",
    "\n",
    "Plot the first 4 MULTISPATI PCs"
   ]
  },
  {
   "cell_type": "code",
   "execution_count": null,
   "id": "3006e5d1",
   "metadata": {
    "fig.height": 7,
    "fig.width": 9,
    "lines_to_next_cell": 2
   },
   "outputs": [],
   "source": [
    "spatialReducedDim(sfe, \"multispati\", 4, colGeometryName = \"centroids\", scattermore = TRUE,\n",
    "                  divergent = TRUE, diverge_center = 0)"
   ]
  },
  {
   "cell_type": "markdown",
   "id": "693db63f",
   "metadata": {},
   "source": [
    "The first two PCs pick up zoning. PC3 and PC4 seem to have smaller scale spatial structure, so we zoom in here:"
   ]
  },
  {
   "cell_type": "code",
   "execution_count": null,
   "id": "4113e431",
   "metadata": {
    "fig.height": 7,
    "fig.width": 9
   },
   "outputs": [],
   "source": [
    "spatialReducedDim(sfe, \"multispati\", ncomponents = 4, colGeometryName = \"cellSeg\",\n",
    "                  bbox = bbox_use, divergent = TRUE, diverge_center = 0)"
   ]
  },
  {
   "cell_type": "markdown",
   "id": "07f16a89",
   "metadata": {
    "lines_to_next_cell": 0
   },
   "source": [
    "What about the negative eigenvalue?"
   ]
  },
  {
   "cell_type": "code",
   "execution_count": null,
   "id": "7203d41d",
   "metadata": {},
   "outputs": [],
   "source": [
    "spatialReducedDim(sfe, \"multispati\", 39:40, colGeometryName = \"cellSeg\", \n",
    "                  divergent = TRUE, diverge_center = 0, bbox = bbox_use)"
   ]
  },
  {
   "cell_type": "markdown",
   "id": "11175992",
   "metadata": {},
   "source": [
    "# Spatial autocorrelation of principal components\n",
    "## Moran's I\n",
    "Here we compare Moran's I for cell embeddings in each non-spatial and MULTISPATI PC:"
   ]
  },
  {
   "cell_type": "code",
   "execution_count": null,
   "id": "4d866058",
   "metadata": {},
   "outputs": [],
   "source": [
    "# non-spatial\n",
    "sfe <- reducedDimMoransI(sfe, dimred = \"PCA\", components = 1:20,\n",
    "                         BPPARAM = MulticoreParam(2))\n",
    "# spatial\n",
    "sfe <- reducedDimMoransI(sfe, dimred = \"multispati\", components = 1:40,\n",
    "                         BPPARAM = MulticoreParam(2))"
   ]
  },
  {
   "cell_type": "code",
   "execution_count": null,
   "id": "aa280dde",
   "metadata": {},
   "outputs": [],
   "source": [
    "df_moran <- tibble(PCA = reducedDimFeatureData(sfe, \"PCA\")$moran_sample01[1:20],\n",
    "                   MULTISPATI_pos = \n",
    "                       reducedDimFeatureData(sfe, \"multispati\")$moran_sample01[1:20],\n",
    "                   MULTISPATI_neg = \n",
    "                       reducedDimFeatureData(sfe,\"multispati\")$moran_sample01[21:40] |> \n",
    "                       rev(),\n",
    "                   index = 1:20)"
   ]
  },
  {
   "cell_type": "code",
   "execution_count": null,
   "id": "6c61b53d",
   "metadata": {},
   "outputs": [],
   "source": [
    "data(\"ditto_colors\")"
   ]
  },
  {
   "cell_type": "code",
   "execution_count": null,
   "id": "5434aaa0",
   "metadata": {},
   "outputs": [],
   "source": [
    "df_moran |> \n",
    "    pivot_longer(cols = -index, values_to = \"value\", names_to = \"name\") |> \n",
    "    ggplot(aes(index, value, color = name)) +\n",
    "    geom_line() +\n",
    "    scale_color_manual(values = ditto_colors) +\n",
    "    geom_hline(yintercept = 0) +\n",
    "    geom_hline(yintercept = mb, linetype = 2) +\n",
    "    scale_y_continuous(breaks = scales::breaks_pretty()) +\n",
    "    scale_x_continuous(breaks = scales::breaks_width(5)) +\n",
    "    labs(y = \"Moran's I\", color = \"Type\", x = \"Component\")"
   ]
  },
  {
   "cell_type": "markdown",
   "id": "403590b6",
   "metadata": {},
   "source": [
    "In MULTISPATI, Moran's I is high in PC1 and PC2, but then sharply drops. Moran's I for the PC with the most negative eigenvalues is not very negative, which means the large magnitude of that eigenvalue comes from explaining more variance. Non-spatial PCs are not sorted by Moran's I; PC5 has surprising large Moran's I. "
   ]
  },
  {
   "cell_type": "code",
   "execution_count": null,
   "id": "5824687a",
   "metadata": {
    "fig.height": 4,
    "fig.width": 9
   },
   "outputs": [],
   "source": [
    "spatialReducedDim(sfe, \"PCA\", 5:6, colGeometryName = \"centroids\", scattermore = TRUE,\n",
    "                  divergent = TRUE, diverge_center = 0)"
   ]
  },
  {
   "cell_type": "markdown",
   "id": "53e90408",
   "metadata": {},
   "source": [
    "PC5 must be about zonation. Also show a smaller scale:"
   ]
  },
  {
   "cell_type": "code",
   "execution_count": null,
   "id": "4ade6c68",
   "metadata": {
    "fig.height": 4,
    "fig.width": 9
   },
   "outputs": [],
   "source": [
    "spatialReducedDim(sfe, \"PCA\", 5:6, colGeometryName = \"cellSeg\", \n",
    "                  divergent = TRUE, diverge_center = 0, bbox = bbox_use)"
   ]
  },
  {
   "cell_type": "markdown",
   "id": "c6b8ff76",
   "metadata": {
    "lines_to_next_cell": 0
   },
   "source": [
    "## Moran scatter plot\n",
    "Local positive and negative spatial autocorrelation can average out in global Moran's I. From the zoomed in plots above, PCs 1, 3, 4, and 6 pick up something about the blood vessel. The Moran scatter plot can help discovering more local heterogeneity."
   ]
  },
  {
   "cell_type": "code",
   "execution_count": null,
   "id": "82d125fb",
   "metadata": {},
   "outputs": [],
   "source": [
    "sfe <- reducedDimUnivariate(sfe, \"moran.plot\", dimred = \"PCA\", components = 1:6)"
   ]
  },
  {
   "cell_type": "code",
   "execution_count": null,
   "id": "d79f5a9a",
   "metadata": {},
   "outputs": [],
   "source": [
    "plts <- lapply(seq_len(6), function(i) {\n",
    "    moranPlot(sfe, paste0(\"PC\", i), binned = TRUE, hex = TRUE, plot_influential = FALSE)\n",
    "})"
   ]
  },
  {
   "cell_type": "code",
   "execution_count": null,
   "id": "6aa7de16",
   "metadata": {
    "fig.height": 6,
    "fig.width": 10
   },
   "outputs": [],
   "source": [
    "wrap_plots(plts, widths = 1, heights = 1) +\n",
    "    plot_layout(ncol = 3) +\n",
    "    plot_annotation(tag_levels = \"1\", \n",
    "                    title = \"Moran scatter plot for non-spatial PCs\") &\n",
    "    theme(legend.position = \"none\")"
   ]
  },
  {
   "cell_type": "markdown",
   "id": "b6686efd",
   "metadata": {},
   "source": [
    "PCs 1-3 have some fainter clusters outside the main cluster, indicating heterogeneous spatial autocorrelation. Also make Moran scatter plots for MULTISPATI"
   ]
  },
  {
   "cell_type": "code",
   "execution_count": null,
   "id": "daab7f46",
   "metadata": {},
   "outputs": [],
   "source": [
    "sfe <- reducedDimUnivariate(sfe, \"moran.plot\", dimred = \"multispati\", \n",
    "                            components = c(1:5, 40), \n",
    "                            # Not to overwrite non-spatial PCA moran plots\n",
    "                            name = \"moran.plot2\") "
   ]
  },
  {
   "cell_type": "code",
   "execution_count": null,
   "id": "4f1b5dcc",
   "metadata": {},
   "outputs": [],
   "source": [
    "plts2 <- lapply(c(1:5, 40), function(i) {\n",
    "    moranPlot(sfe, paste0(\"PC\", i), binned = TRUE, hex = TRUE, \n",
    "              plot_influential = FALSE, name = \"moran.plot2\")\n",
    "})"
   ]
  },
  {
   "cell_type": "code",
   "execution_count": null,
   "id": "b78b02c4",
   "metadata": {
    "fig.height": 6,
    "fig.width": 10
   },
   "outputs": [],
   "source": [
    "wrap_plots(plts2, widths = 1, heights = 1) +\n",
    "    plot_layout(ncol = 3) +\n",
    "    plot_annotation(tag_levels = \"1\",\n",
    "                    title = \"Moran scatter plot for MULTISPATI PCs\") &\n",
    "    theme(legend.position = \"none\")"
   ]
  },
  {
   "cell_type": "markdown",
   "id": "cb603993",
   "metadata": {},
   "source": [
    "There are some interesting clusters.\n",
    "\n",
    "# Clustering with MULTISPATI PCA\n",
    "\n",
    "In the standard scRNA-seq data analysis workflow, a k nearest neighbor graph is found in the PCA space, which is then used for graph based clustering such as Louvain and Leiden, which is used to perform differential expression. Spatial dimension reductions can similarly be used to perform clustering, to identify spatial regions in the tissue, as done in [@Shang2022-qy; @Ren2022-qx; @Zhang2023-kf]. This type of studies often use a manual segmentation as ground truth to compare different methods that identify spatial regions. \n",
    "\n",
    "The problem with this is that spatial region methods are meant to help us to identify novel spatial regions based on new -omics data, which might reveal what's previously unknown from manual annotations. If the output from a method doesn't match manual annotations, it might simply be pointing out a previously unknown aspect of the tissue rather than wrong. Depending on the questions being asked, there can simultaneously be multiple spatial partitions. This happens in geographical space. For instance, there's land use and neighborhood boundaries, but equally valid are watershed boundaries and types of rock formation. Which one is relevant depends on the questions asked.\n",
    "\n",
    "Here we perform Leiden clustering with non-spatial and MULTISPATI PCA and compare the results. For the k nearest neighbor graph, I used the default k = 10."
   ]
  },
  {
   "cell_type": "code",
   "execution_count": null,
   "id": "99724d92",
   "metadata": {},
   "outputs": [],
   "source": [
    "system.time({\n",
    "    set.seed(29)\n",
    "    sfe$clusts_nonspatial <- clusterCells(sfe, use.dimred = \"PCA\", \n",
    "                                          BLUSPARAM = NNGraphParam(\n",
    "                                              cluster.fun = \"leiden\",\n",
    "                                              cluster.args = list(\n",
    "                                                  objective_function = \"modularity\",\n",
    "                                                  resolution_parameter = 1\n",
    "                                              )\n",
    "                                          ))\n",
    "})"
   ]
  },
  {
   "cell_type": "markdown",
   "id": "98869e85",
   "metadata": {
    "lines_to_next_cell": 0
   },
   "source": [
    "See if clustering with the positive MULTISPATI PCs give more spatially coherent clusters"
   ]
  },
  {
   "cell_type": "code",
   "execution_count": null,
   "id": "bc9aa40f",
   "metadata": {},
   "outputs": [],
   "source": [
    "system.time({\n",
    "    set.seed(29)\n",
    "    sfe$clusts_multispati <- clusterRows(reducedDim(sfe, \"multispati\")[,1:20], \n",
    "                                          BLUSPARAM = NNGraphParam(\n",
    "                                              cluster.fun = \"leiden\",\n",
    "                                              cluster.args = list(\n",
    "                                                  objective_function = \"modularity\",\n",
    "                                                  resolution_parameter = 1\n",
    "                                              )\n",
    "                                          ))\n",
    "})"
   ]
  },
  {
   "cell_type": "markdown",
   "id": "b3c11930",
   "metadata": {
    "lines_to_next_cell": 0
   },
   "source": [
    "Plot the clusters in space:"
   ]
  },
  {
   "cell_type": "code",
   "execution_count": null,
   "id": "780d30c0",
   "metadata": {
    "fig.height": 4,
    "fig.width": 11
   },
   "outputs": [],
   "source": [
    "plotSpatialFeature(sfe, c(\"clusts_nonspatial\", \"clusts_multispati\"), \n",
    "                   colGeometryName = \"centroids\",\n",
    "                   scattermore = TRUE) &\n",
    "     guides(colour = guide_legend(override.aes = list(size=2), ncol = 2))"
   ]
  },
  {
   "cell_type": "markdown",
   "id": "6ea926db",
   "metadata": {
    "lines_to_next_cell": 0
   },
   "source": [
    "The MULTISPATI clusters do look somewhat more spatially structured than clusters from non-spatial PCA. Also zoom into a small area:"
   ]
  },
  {
   "cell_type": "code",
   "execution_count": null,
   "id": "46a2bc0b",
   "metadata": {
    "fig.height": 4,
    "fig.width": 11
   },
   "outputs": [],
   "source": [
    "plotSpatialFeature(sfe, c(\"clusts_nonspatial\", \"clusts_multispati\"), \n",
    "                   colGeometryName = \"cellSeg\",\n",
    "                   bbox = bbox_use) &\n",
    "     guides(fill = guide_legend(ncol = 2))"
   ]
  },
  {
   "cell_type": "markdown",
   "id": "3f0198d9",
   "metadata": {
    "lines_to_next_cell": 0
   },
   "source": [
    "What do these clusters mean? Clusters are supposed to be groups of different spots that are more similar within a group, sharing some characteristics. Non-spatial and MULTISPATI PCA use different characteristics for the clustering. Non-spatial PCA finds genes that are good for telling cell types apart, although those genes may happen to be very spatially structured. Non-spatial clustering aims to find these groups only from gene expression, and cells with similar gene expression can be surrounded by cells of other types in histological space. This is just like mapping Art Deco buildings, which are often near Spanish revival and Beaux Art buildings whose styles are quite different and perform different functions, thus not necessarily forming a coherent spatial region. \n",
    "\n",
    "In contrast, MULTISPATI's positive components find genes that must characterize spatial regions in addition to distinguishing between different cell types. Which genes are involved in each MULTISPATI component may be as interesting as the clusters. It would be interesting to perform gene set enrichment analysis, or to interpret this as some sort of spatial patterns of spatially variable genes. This is like mapping when the buildings were built, so Art Deco, Spanish revival, Beaux Art popular in the 1920s and 1930s will end up in the same cluster and form a more spatially coherent region, which can be found in DTLA Historical Core and Jewelry District, and Old Pasadena. Hence non-spatial clustering of spatial data isn't necessarily bad. Rather, it tells a different story and reveals different aspects of the data from spatial clustering. \n",
    "\n",
    "# Session Info"
   ]
  },
  {
   "cell_type": "code",
   "execution_count": null,
   "id": "c519df62",
   "metadata": {},
   "outputs": [],
   "source": [
    "sessionInfo()"
   ]
  },
  {
   "cell_type": "markdown",
   "id": "92bb45a8",
   "metadata": {},
   "source": [
    "# References"
   ]
  }
 ],
 "metadata": {
  "kernelspec": {
   "display_name": "R",
   "language": "R",
   "name": "ir"
  }
 },
 "nbformat": 4,
 "nbformat_minor": 5
}
>>>>>>> b6ebb2cf5ab0f6403d66995e8f9c4c3db49a6956
