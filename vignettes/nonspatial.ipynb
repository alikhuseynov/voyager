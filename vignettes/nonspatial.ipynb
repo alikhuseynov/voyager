{
 "cells": [
  {
   "cell_type": "raw",
<<<<<<< HEAD
   "id": "f1beddaf",
||||||| 4eaa9fa
   "id": "e89d7c20",
=======
   "id": "f29453a2",
>>>>>>> documentation-devel
   "metadata": {},
   "source": [
    "---\n",
    "title: \"Apply spatial analyses to non-spatial scRNA-seq data\"\n",
    "author: \"Lambda Moses\"\n",
    "date: \"`r Sys.Date()`\"\n",
    "output: \n",
    "  html_document:\n",
    "  toc: true\n",
    "  toc_float:\n",
    "    collapsed: false\n",
    "  toc_depth: 3\n",
    "bibliography: ref.bib\n",
    "vignette: >\n",
    "  %\\VignetteIndexEntry{nonspatial}\n",
    "  %\\VignetteEngine{knitr::rmarkdown}\n",
    "  %\\VignetteEncoding{UTF-8}\n",
    "---"
   ]
  },
  {
   "cell_type": "code",
   "execution_count": null,
<<<<<<< HEAD
   "id": "a808d127",
||||||| 4eaa9fa
   "id": "db8c33f2",
=======
   "id": "0f8f25eb",
>>>>>>> documentation-devel
   "metadata": {
    "tags": [
     "remove_cell"
    ]
   },
   "outputs": [],
   "source": [
    "knitr::opts_chunk$set(\n",
    "  collapse = TRUE,\n",
    "  comment = \"#>\"\n",
    ")"
   ]
  },
  {
   "cell_type": "code",
   "execution_count": null,
<<<<<<< HEAD
   "id": "83a35645",
||||||| 4eaa9fa
   "id": "d8605e0a",
=======
   "id": "c8ea556f",
>>>>>>> documentation-devel
   "metadata": {
    "eval": false,
    "tags": [
     "remove_cell"
    ]
   },
   "outputs": [],
   "source": [
    "# Install Google Colab dependencies\n",
    "# Note: this can take 30+ minutes (many of the dependencies include C++ code, which needs to be compiled)\n",
    "\n",
    "# First install `sf`, `ragg` and `textshaping` and their system dependencies:\n",
    "system(\"apt-get -y update && apt-get install -y  libudunits2-dev libgdal-dev libgeos-dev libproj-dev libharfbuzz-dev libfribidi-dev\")\n",
    "install.packages(\"sf\")\n",
    "install.packages(\"textshaping\")\n",
    "install.packages(\"ragg\")\n",
    "\n",
    "# Install system dependencies of some other R packages that Voyager either imports or suggests:\n",
    "system(\"apt-get install -y libfribidi-dev libcairo2-dev libmagick++-dev\")\n",
    "\n",
    "# Install Voyager from Bioconductor:\n",
    "install.packages(\"BiocManager\")\n",
    "BiocManager::install(version = \"3.17\", ask = FALSE, update = FALSE, Ncpus = 2)\n",
    "BiocManager::install(\"scater\")\n",
    "system.time(\n",
    "  BiocManager::install(\"Voyager\", dependencies = TRUE, Ncpus = 2, update = FALSE)\n",
    ")\n",
    "\n",
    "# Additional dependencies for this notebook\n",
    "install.packages(\"reticulate\")\n",
    "system(\"pip3 install gget\")\n",
    "packageVersion(\"Voyager\")"
   ]
  },
  {
   "cell_type": "markdown",
<<<<<<< HEAD
   "id": "1460b05f",
||||||| 4eaa9fa
   "id": "07438ea5",
=======
   "id": "bc1e794d",
>>>>>>> documentation-devel
   "metadata": {
    "lines_to_next_cell": 0
   },
   "source": [
    "# Introduction\n",
    "\n",
    "For areal spatial data, the spatial neighborhood graph is used to indicate proximity, and is required for all spatial analysis methods in the package `spdep`. One of the methods to find the spatial neighborhood graph is k nearest neighbors, which is also commonly used in gene expression PCA space for graph-based clustering of cells in non-spatial scRNA-seq data. Then what if we use the k nearest neighbors graph in PCA space rather than histological space for \"spatial\" analyses for non-spatial scRNA-seq data?\n",
    "\n",
    "Here we try such an analysis on a human peripheral blood mononuclear cells (PBMC) scRNA-seq dataset, which doesn't originally have histological spatial organization. These are the packages loaded for the analysis:"
   ]
  },
  {
   "cell_type": "code",
   "execution_count": null,
<<<<<<< HEAD
   "id": "71a4f928",
||||||| 4eaa9fa
   "id": "fd94cfbb",
=======
   "id": "c24792c1",
>>>>>>> documentation-devel
   "metadata": {
    "name": "setup"
   },
   "outputs": [],
   "source": [
    "library(Voyager)\n",
    "library(SpatialFeatureExperiment)\n",
    "library(SpatialExperiment)\n",
    "library(DropletUtils)\n",
    "library(BiocNeighbors)\n",
    "library(scater)\n",
    "library(scran)\n",
    "library(bluster)\n",
    "library(BiocParallel)\n",
    "library(scuttle)\n",
    "library(stringr)\n",
    "library(BiocSingular)\n",
    "library(spdep)\n",
    "library(patchwork)\n",
    "library(dplyr)\n",
    "library(reticulate)\n",
    "theme_set(theme_bw())"
   ]
  },
  {
   "cell_type": "code",
   "execution_count": null,
<<<<<<< HEAD
   "id": "7a5f7e67",
||||||| 4eaa9fa
   "id": "8cebcb9b",
=======
   "id": "ffa5d15d",
>>>>>>> documentation-devel
   "metadata": {},
   "outputs": [],
   "source": [
    "# Specify Python version to use gget\n",
    "PY_PATH <- Sys.which(\"python\")\n",
    "use_python(PY_PATH)\n",
    "py_config()\n",
    "\n",
    "# Load gget\n",
    "gget <- import(\"gget\")"
   ]
  },
  {
   "cell_type": "markdown",
<<<<<<< HEAD
   "id": "17ea5f36",
||||||| 4eaa9fa
   "id": "cd818a9a",
=======
   "id": "1fb6133c",
>>>>>>> documentation-devel
   "metadata": {},
   "source": [
    "Here we download the filtered [Cell Ranger gene count matrix from the 10X website](https://support.10xgenomics.com/single-cell-gene-expression/datasets/3.0.2/5k_pbmc_v3_nextgem?). The empty droplets have already been removed."
   ]
  },
  {
   "cell_type": "code",
   "execution_count": null,
<<<<<<< HEAD
   "id": "6cd80bee",
||||||| 4eaa9fa
   "id": "d953a4db",
=======
   "id": "efbf45ed",
>>>>>>> documentation-devel
   "metadata": {},
   "outputs": [],
   "source": [
    "if (!dir.exists(\"filtered_feature_bc_matrix\")) {\n",
    "    download.file(\"https://cf.10xgenomics.com/samples/cell-exp/3.0.2/5k_pbmc_v3_nextgem/5k_pbmc_v3_nextgem_filtered_feature_bc_matrix.tar.gz\", destfile = \"5kpbmc.tar.gz\", quiet = TRUE)\n",
    "    system(\"tar -xzf 5kpbmc.tar.gz\")\n",
    "}"
   ]
  },
  {
   "cell_type": "markdown",
<<<<<<< HEAD
   "id": "53f26a3c",
||||||| 4eaa9fa
   "id": "c9b7950d",
=======
   "id": "b2e9c0c5",
>>>>>>> documentation-devel
   "metadata": {
    "lines_to_next_cell": 0
   },
   "source": [
    "This is loaded into R as a `SingleCellExperiment` (SCE) object."
   ]
  },
  {
   "cell_type": "code",
   "execution_count": null,
<<<<<<< HEAD
   "id": "38b2cb2f",
||||||| 4eaa9fa
   "id": "9c8dbea4",
=======
   "id": "f08b0f24",
>>>>>>> documentation-devel
   "metadata": {},
   "outputs": [],
   "source": [
    "(sce <- read10xCounts(\"filtered_feature_bc_matrix/\"))"
   ]
  },
  {
   "cell_type": "code",
   "execution_count": null,
<<<<<<< HEAD
   "id": "1b2a7b14",
||||||| 4eaa9fa
   "id": "e3bd03d0",
=======
   "id": "15c4ba8d",
>>>>>>> documentation-devel
   "metadata": {},
   "outputs": [],
   "source": [
    "colnames(sce) <- sce$Barcode"
   ]
  },
  {
   "cell_type": "markdown",
<<<<<<< HEAD
   "id": "ba1118de",
||||||| 4eaa9fa
   "id": "220b6df8",
=======
   "id": "4ef98dd3",
>>>>>>> documentation-devel
   "metadata": {
    "lines_to_next_cell": 0
   },
   "source": [
    "# Quality control (QC)\n",
    "Here we perform some basic QC, to remove low quality cells with high proportion of mitochondrially encoded counts. "
   ]
  },
  {
   "cell_type": "code",
   "execution_count": null,
<<<<<<< HEAD
   "id": "236ca91e",
||||||| 4eaa9fa
   "id": "c5ee685f",
=======
   "id": "993d63f1",
>>>>>>> documentation-devel
   "metadata": {},
   "outputs": [],
   "source": [
    "is_mito <- str_detect(rowData(sce)$Symbol, \"^MT-\")\n",
    "sum(is_mito)"
   ]
  },
  {
   "cell_type": "code",
   "execution_count": null,
<<<<<<< HEAD
   "id": "0ca0f0cb",
||||||| 4eaa9fa
   "id": "cd97afea",
=======
   "id": "6a0b53f4",
>>>>>>> documentation-devel
   "metadata": {},
   "outputs": [],
   "source": [
    "sce <- addPerCellQCMetrics(sce, subsets = list(mito = is_mito))\n",
    "names(colData(sce))"
   ]
  },
  {
   "cell_type": "markdown",
<<<<<<< HEAD
   "id": "e5d8e702",
||||||| 4eaa9fa
   "id": "fdcd149b",
=======
   "id": "5977daf6",
>>>>>>> documentation-devel
   "metadata": {},
   "source": [
    "The `addPerCellQCMetrics()` function computes the total UMI counts detected per cell (`sum`), number of genes detected per cell (`detected`), `sum` and `detected` for mitochondrial counts, and percentage of mitochondrial counts per cell."
   ]
  },
  {
   "cell_type": "code",
   "execution_count": null,
<<<<<<< HEAD
   "id": "71ab2571",
||||||| 4eaa9fa
   "id": "ff285ae6",
=======
   "id": "5fe401b4",
>>>>>>> documentation-devel
   "metadata": {},
   "outputs": [],
   "source": [
    "plotColData(sce, \"sum\") +\n",
    "    plotColData(sce, \"detected\") +\n",
    "    plotColData(sce, \"subsets_mito_percent\")"
   ]
  },
  {
   "cell_type": "markdown",
<<<<<<< HEAD
   "id": "d7111157",
||||||| 4eaa9fa
   "id": "99c4a541",
=======
   "id": "25629aaa",
>>>>>>> documentation-devel
   "metadata": {
    "lines_to_next_cell": 0
   },
   "source": [
    "Here a 2D histogram is plotted to better show point density on the plot."
   ]
  },
  {
   "cell_type": "code",
   "execution_count": null,
<<<<<<< HEAD
   "id": "9c9c0828",
||||||| 4eaa9fa
   "id": "518607ce",
=======
   "id": "95285441",
>>>>>>> documentation-devel
   "metadata": {},
   "outputs": [],
   "source": [
    "plotColDataBin2D(sce, x = \"sum\", y = \"detected\")"
   ]
  },
  {
   "cell_type": "code",
   "execution_count": null,
<<<<<<< HEAD
   "id": "9bf089eb",
||||||| 4eaa9fa
   "id": "461928ee",
=======
   "id": "3c960bb7",
>>>>>>> documentation-devel
   "metadata": {},
   "outputs": [],
   "source": [
    "plotColDataBin2D(sce, x = \"sum\", y = \"subsets_mito_percent\")"
   ]
  },
  {
   "cell_type": "markdown",
<<<<<<< HEAD
   "id": "f672a683",
||||||| 4eaa9fa
   "id": "bb6a0862",
=======
   "id": "3a6f21a8",
>>>>>>> documentation-devel
   "metadata": {
    "lines_to_next_cell": 0
   },
   "source": [
    "Remove cells with >20% mitochondrial counts"
   ]
  },
  {
   "cell_type": "code",
   "execution_count": null,
<<<<<<< HEAD
   "id": "f698afea",
||||||| 4eaa9fa
   "id": "178b67d4",
=======
   "id": "37716feb",
>>>>>>> documentation-devel
   "metadata": {},
   "outputs": [],
   "source": [
    "sce <- sce[, sce$subsets_mito_percent < 20]\n",
    "sce <- sce[rowSums(counts(sce)) > 0,]"
   ]
  },
  {
   "cell_type": "markdown",
<<<<<<< HEAD
   "id": "4ed8c801",
||||||| 4eaa9fa
   "id": "675c6ab4",
=======
   "id": "81bc5fb6",
>>>>>>> documentation-devel
   "metadata": {
    "lines_to_next_cell": 0
   },
   "source": [
    "# Basic non-spatial analyses\n",
    "Here we normalize the data, perform PCA, cluster the cells, and find marker genes for the clusters."
   ]
  },
  {
   "cell_type": "code",
   "execution_count": null,
<<<<<<< HEAD
   "id": "7faf0270",
||||||| 4eaa9fa
   "id": "239ccb65",
=======
   "id": "96c4c684",
>>>>>>> documentation-devel
   "metadata": {},
   "outputs": [],
   "source": [
    "#clusts <- quickCluster(sce)\n",
    "#sce <- computeSumFactors(sce, cluster = clusts)\n",
    "#sce <- sce[, sizeFactors(sce) > 0]\n",
    "sce <- logNormCounts(sce)"
   ]
  },
  {
   "cell_type": "markdown",
<<<<<<< HEAD
   "id": "fa948876",
||||||| 4eaa9fa
   "id": "09054f81",
=======
   "id": "dc3cc4a1",
>>>>>>> documentation-devel
   "metadata": {
    "lines_to_next_cell": 0
   },
   "source": [
    "Use the highly variable genes for PCA:"
   ]
  },
  {
   "cell_type": "code",
   "execution_count": null,
<<<<<<< HEAD
   "id": "73361b64",
||||||| 4eaa9fa
   "id": "9aae9049",
=======
   "id": "3ff66cf6",
>>>>>>> documentation-devel
   "metadata": {},
   "outputs": [],
   "source": [
    "dec <- modelGeneVar(sce, lowess = FALSE)\n",
    "hvgs <- getTopHVGs(dec, n = 2000)"
   ]
  },
  {
   "cell_type": "code",
   "execution_count": null,
<<<<<<< HEAD
   "id": "774b7cae",
||||||| 4eaa9fa
   "id": "61138ee6",
=======
   "id": "1d288b3c",
>>>>>>> documentation-devel
   "metadata": {},
   "outputs": [],
   "source": [
    "set.seed(29)\n",
    "sce <- runPCA(sce, ncomponents = 30, BSPARAM = IrlbaParam(),\n",
    "              subset_row = hvgs, scale = TRUE)"
   ]
  },
  {
   "cell_type": "markdown",
<<<<<<< HEAD
   "id": "e3b8c92e",
||||||| 4eaa9fa
   "id": "02c308aa",
=======
   "id": "1b9b9678",
>>>>>>> documentation-devel
   "metadata": {
    "lines_to_next_cell": 0
   },
   "source": [
    "How many PCs shall we use for further analyses?"
   ]
  },
  {
   "cell_type": "code",
   "execution_count": null,
<<<<<<< HEAD
   "id": "05d1652f",
||||||| 4eaa9fa
   "id": "2e4c8f80",
=======
   "id": "879b62f3",
>>>>>>> documentation-devel
   "metadata": {},
   "outputs": [],
   "source": [
    "ElbowPlot(sce, ndims = 30)"
   ]
  },
  {
   "cell_type": "markdown",
<<<<<<< HEAD
   "id": "0ae57fde",
||||||| 4eaa9fa
   "id": "01cf39c2",
=======
   "id": "570eb942",
>>>>>>> documentation-devel
   "metadata": {},
   "source": [
    "Variance explained drops sharply from PC1 and again from PC4 and then levels off. Plot genes with the largest loadings of the top 4 PCs:"
   ]
  },
  {
   "cell_type": "code",
   "execution_count": null,
<<<<<<< HEAD
   "id": "2835f7b4",
||||||| 4eaa9fa
   "id": "42c6a1df",
=======
   "id": "9d9d0b3e",
>>>>>>> documentation-devel
   "metadata": {
    "lines_to_next_cell": 2
   },
   "outputs": [],
   "source": [
    "plotDimLoadings(sce, swap_rownames = \"Symbol\")"
   ]
  },
  {
   "cell_type": "markdown",
<<<<<<< HEAD
   "id": "57fce97f",
||||||| 4eaa9fa
   "id": "19e6b644",
=======
   "id": "831c0ee0",
>>>>>>> documentation-devel
   "metadata": {},
   "source": [
    "To keep a little more information, we use 10 PCs, after which variance explained levels off even more."
   ]
  },
  {
   "cell_type": "code",
   "execution_count": null,
<<<<<<< HEAD
   "id": "66e6763b",
||||||| 4eaa9fa
   "id": "2c65bb6d",
=======
   "id": "0848da0c",
>>>>>>> documentation-devel
   "metadata": {},
   "outputs": [],
   "source": [
    "sce$cluster <- clusterRows(reducedDim(sce, \"PCA\")[,1:10],\n",
    "                           BLUSPARAM = SNNGraphParam(cluster.fun = \"leiden\",\n",
    "                                                     k = 10,\n",
    "                                                     cluster.args = list(\n",
    "                                                         resolution=0.5,\n",
    "                                                         objective_function = \"modularity\"\n",
    "                                                     )))"
   ]
  },
  {
   "cell_type": "markdown",
<<<<<<< HEAD
   "id": "184e79df",
||||||| 4eaa9fa
   "id": "746ffae4",
=======
   "id": "7cac4b25",
>>>>>>> documentation-devel
   "metadata": {},
   "source": [
    "Here we plot the cells in the first 4 PCs in a matrix plot. The diagonals are density plots of the number of cells as projected on each PC. The x axis should correspond to the columns of the matrix plot, and the y axis should correspond to the rows, so the plot in row 1 column 2 has PC2 in the x axis and PC1 in the y axis. The cells are colored by clusters found in the previous code chunk."
   ]
  },
  {
   "cell_type": "code",
   "execution_count": null,
<<<<<<< HEAD
   "id": "6c597604",
||||||| 4eaa9fa
   "id": "e734c7eb",
=======
   "id": "4b66c62b",
>>>>>>> documentation-devel
   "metadata": {
    "fig.height": 9,
    "fig.width": 9
   },
   "outputs": [],
   "source": [
    "plotPCA(sce, ncomponents = 4, color_by = \"cluster\")"
   ]
  },
  {
   "cell_type": "markdown",
<<<<<<< HEAD
   "id": "ab8b6053",
||||||| 4eaa9fa
   "id": "1000338a",
=======
   "id": "e7f71503",
>>>>>>> documentation-devel
   "metadata": {
    "lines_to_next_cell": 0
   },
   "source": [
    "How many cells are there in each cluster?"
   ]
  },
  {
   "cell_type": "code",
   "execution_count": null,
<<<<<<< HEAD
   "id": "cd1e28b9",
||||||| 4eaa9fa
   "id": "1f23dbea",
=======
   "id": "2306f026",
>>>>>>> documentation-devel
   "metadata": {},
   "outputs": [],
   "source": [
    "table(sce$cluster)"
   ]
  },
  {
   "cell_type": "markdown",
<<<<<<< HEAD
   "id": "a692c243",
||||||| 4eaa9fa
   "id": "8a53c187",
=======
   "id": "e8a5ce48",
>>>>>>> documentation-devel
   "metadata": {
    "lines_to_next_cell": 0
   },
   "source": [
    "Then we use the conventional Wilcoxon rank sum test to find marker genes for each cluster. The test compares each cluster to the rest of the cells, and only genes more highly expressed in the cluster compared to the other cells are considered. The result is a list of data frames, where each data frame corresponds to one cluster. Areas under the receiver operator curve (AUC), distinguishing each cluster vs. any other cluster, are also included. The closer to 1 the better, while 0.5 means no better than random guessing. The false discovery rate (FDR) column contains the Benjamini-Hochberg corrected p-values. Genes in these data frames are already sorted by p-values."
   ]
  },
  {
   "cell_type": "code",
   "execution_count": null,
<<<<<<< HEAD
   "id": "4a21d494",
||||||| 4eaa9fa
   "id": "de0026af",
=======
   "id": "63014a54",
>>>>>>> documentation-devel
   "metadata": {
    "lines_to_next_cell": 2
   },
   "outputs": [],
   "source": [
    "markers <- findMarkers(sce, groups = colData(sce)$cluster,\n",
    "                       test.type = \"wilcox\", pval.type = \"all\", direction = \"up\")\n",
    "markers[[4]]"
   ]
  },
  {
   "cell_type": "markdown",
<<<<<<< HEAD
   "id": "7147bb82",
||||||| 4eaa9fa
   "id": "65dee276",
=======
   "id": "faaf28ab",
>>>>>>> documentation-devel
   "metadata": {},
   "source": [
    "See how specific the top markers are to each cluster:"
   ]
  },
  {
   "cell_type": "code",
   "execution_count": null,
<<<<<<< HEAD
   "id": "d9988358",
||||||| 4eaa9fa
   "id": "608b0e16",
=======
   "id": "d5ec088b",
>>>>>>> documentation-devel
   "metadata": {},
   "outputs": [],
   "source": [
    "top_markers <- unlist(lapply(markers, function(x) head(rownames(x), 1)))\n",
    "top_markers_symbol <- rowData(sce)[top_markers, \"Symbol\"]"
   ]
  },
  {
   "cell_type": "code",
   "execution_count": null,
<<<<<<< HEAD
   "id": "dc928add",
||||||| 4eaa9fa
   "id": "e2f64d95",
=======
   "id": "8a89f373",
>>>>>>> documentation-devel
   "metadata": {},
   "outputs": [],
   "source": [
    "plotExpression(sce, top_markers_symbol, x = \"cluster\", swap_rownames = \"Symbol\",\n",
    "               point_fun = function(...) list())"
   ]
  },
  {
   "cell_type": "markdown",
<<<<<<< HEAD
   "id": "e9540b38",
||||||| 4eaa9fa
   "id": "7619c363",
=======
   "id": "2935fe5f",
>>>>>>> documentation-devel
   "metadata": {
    "lines_to_next_cell": 0
   },
   "source": [
    "We can use the [gget info](https://pachterlab.github.io/gget/info.html) module from the [gget](https://pachterlab.github.io/gget/) package to get additional information for these marker genes. For example, their [NCBI](https://www.ncbi.nlm.nih.gov/) description:"
   ]
  },
  {
   "cell_type": "code",
   "execution_count": null,
<<<<<<< HEAD
   "id": "545617f9",
||||||| 4eaa9fa
   "id": "56eb979f",
=======
   "id": "e228b661",
>>>>>>> documentation-devel
   "metadata": {},
   "outputs": [],
   "source": [
    "gget_info <- gget$info(top_markers)\n",
    "\n",
    "rownames(gget_info) <- gget_info$ensembl_gene_name\n",
    "select(gget_info, ncbi_description)"
   ]
  },
  {
   "cell_type": "markdown",
<<<<<<< HEAD
   "id": "f94f6add",
||||||| 4eaa9fa
   "id": "098c6c95",
=======
   "id": "0a6d65bd",
>>>>>>> documentation-devel
   "metadata": {
    "lines_to_next_cell": 0
   },
   "source": [
    "# \"Spatial\" analyses for QC metrics\n",
    "Find k nearest neighbor graph in PCA space for Moran's I: We are not using `spdep` here since its `nb2listwdist()` function for distance based edge weighting requires 2-3 dimensional spatial coordinates while the coordinates here have 10 dimensions. Here, inverse distance weighting is used for edge weights."
   ]
  },
  {
   "cell_type": "code",
   "execution_count": null,
<<<<<<< HEAD
   "id": "09961c93",
||||||| 4eaa9fa
   "id": "9a655e74",
=======
   "id": "b26d1a55",
>>>>>>> documentation-devel
   "metadata": {},
   "outputs": [],
   "source": [
    "foo <- findKNN(reducedDim(sce, \"PCA\")[,1:10], k=10, BNPARAM=AnnoyParam())\n",
    "# Split by row\n",
    "foo_nb <- asplit(foo$index, 1)\n",
    "dmat <- 1/foo$distance\n",
    "# Row normalize the weights\n",
    "dmat <- sweep(dmat, 1, rowSums(dmat), FUN = \"/\")\n",
    "glist <- asplit(dmat, 1)\n",
    "# Sort based on index\n",
    "ord <- lapply(foo_nb, order)\n",
    "foo_nb <- lapply(seq_along(foo_nb), function(i) foo_nb[[i]][ord[[i]]])\n",
    "class(foo_nb) <- \"nb\"\n",
    "glist <- lapply(seq_along(glist), function(i) glist[[i]][ord[[i]]])\n",
    "\n",
    "listw <- list(style = \"W\",\n",
    "              neighbours = foo_nb,\n",
    "              weights = glist)\n",
    "class(listw) <- \"listw\"\n",
    "attr(listw, \"region.id\") <- colnames(sce)"
   ]
  },
  {
   "cell_type": "markdown",
<<<<<<< HEAD
   "id": "61b247cf",
||||||| 4eaa9fa
   "id": "b123436a",
=======
   "id": "3b9e2a18",
>>>>>>> documentation-devel
   "metadata": {
    "lines_to_next_cell": 0
   },
   "source": [
    "Because there is no histological space, we convert the SCE object into `SpatialFeatureExperiment` (SFE) to use the spatial analysis and plotting functions from `Voyager`, and pretend that the first 2 PCs are the histological space."
   ]
  },
  {
   "cell_type": "code",
   "execution_count": null,
<<<<<<< HEAD
   "id": "15f745f5",
||||||| 4eaa9fa
   "id": "42417212",
=======
   "id": "919a55c6",
>>>>>>> documentation-devel
   "metadata": {},
   "outputs": [],
   "source": [
    "(sfe <- toSpatialFeatureExperiment(sce, spatialCoords = reducedDim(sce, \"PCA\")[,1:2],\n",
    "                                  spatialCoordsNames = NULL))"
   ]
  },
  {
   "cell_type": "markdown",
<<<<<<< HEAD
   "id": "0973f3da",
||||||| 4eaa9fa
   "id": "e9f91a85",
=======
   "id": "3f41b626",
>>>>>>> documentation-devel
   "metadata": {
    "lines_to_next_cell": 0
   },
   "source": [
    "Add the k nearest neighbor graph to the SFE object:"
   ]
  },
  {
   "cell_type": "code",
   "execution_count": null,
<<<<<<< HEAD
   "id": "cebedd6d",
||||||| 4eaa9fa
   "id": "0e2f79b0",
=======
   "id": "9f116a05",
>>>>>>> documentation-devel
   "metadata": {},
   "outputs": [],
   "source": [
    "colGraph(sfe, \"knn10\") <- listw"
   ]
  },
  {
   "cell_type": "markdown",
<<<<<<< HEAD
   "id": "24976bab",
||||||| 4eaa9fa
   "id": "276258f4",
=======
   "id": "3a3281aa",
>>>>>>> documentation-devel
   "metadata": {
    "lines_to_next_cell": 0
   },
   "source": [
    "## Moran's I"
   ]
  },
  {
   "cell_type": "code",
   "execution_count": null,
<<<<<<< HEAD
   "id": "0e9f9943",
||||||| 4eaa9fa
   "id": "7a7064be",
=======
   "id": "afb0bf07",
>>>>>>> documentation-devel
   "metadata": {},
   "outputs": [],
   "source": [
    "sfe <- colDataMoransI(sfe, c(\"sum\", \"detected\", \"subsets_mito_percent\"))\n",
    "colFeatureData(sfe)[c(\"sum\", \"detected\", \"subsets_mito_percent\"),]"
   ]
  },
  {
   "cell_type": "markdown",
<<<<<<< HEAD
   "id": "7f1c2650",
||||||| 4eaa9fa
   "id": "bb7776cf",
=======
   "id": "1944dd31",
>>>>>>> documentation-devel
   "metadata": {
    "lines_to_next_cell": 0
   },
   "source": [
    "For total UMI counts (sum) and genes detected (detected), Moran's I is quite strong, while it's positive but weaker for percentage of mitochondrial counts. The second column, K, is kurtosis of the feature of interest. \n",
    "\n",
    "## Moran plot\n",
    "\n",
    "How about the local variations on the k nearest neighbors graph? In the Moran plot, the x axis is the value for each cell, and the y axis is the average value among neighboring cells in the graph weighted by edge weights. The slope of the fitted line is Moran's I. Sometimes there are clusters in this plot, showing different kinds of neighborhoods."
   ]
  },
  {
   "cell_type": "code",
   "execution_count": null,
<<<<<<< HEAD
   "id": "80bdd117",
||||||| 4eaa9fa
   "id": "f9ab5d08",
=======
   "id": "75d070f6",
>>>>>>> documentation-devel
   "metadata": {},
   "outputs": [],
   "source": [
    "sfe <- colDataUnivariate(sfe, \"moran.plot\", c(\"sum\", \"detected\", \"subsets_mito_percent\"))"
   ]
  },
  {
   "cell_type": "markdown",
<<<<<<< HEAD
   "id": "718ad842",
||||||| 4eaa9fa
   "id": "08c8af78",
=======
   "id": "063ec664",
>>>>>>> documentation-devel
   "metadata": {
    "lines_to_next_cell": 0
   },
   "source": [
    "The dashed lines are the averages on the x and y axes."
   ]
  },
  {
   "cell_type": "code",
   "execution_count": null,
<<<<<<< HEAD
   "id": "1bee469f",
||||||| 4eaa9fa
   "id": "546f778e",
=======
   "id": "c23850f9",
>>>>>>> documentation-devel
   "metadata": {},
   "outputs": [],
   "source": [
    "moranPlot(sfe, \"sum\", color_by = \"cluster\")"
   ]
  },
  {
   "cell_type": "markdown",
<<<<<<< HEAD
   "id": "f302916f",
||||||| 4eaa9fa
   "id": "46e05c20",
=======
   "id": "ddd98bcd",
>>>>>>> documentation-devel
   "metadata": {
    "lines_to_next_cell": 0
   },
   "source": [
    "While most cells are in the cluster around the average, there is a cluster of cells with lower total counts whose neighbors also have lower total counts. There also is a cluster of cells with higher total counts whose neighbors also have higher total counts. These clusters seem to be somewhat related to some gene expression based clusters."
   ]
  },
  {
   "cell_type": "code",
   "execution_count": null,
<<<<<<< HEAD
   "id": "4ecc5175",
||||||| 4eaa9fa
   "id": "3f3e7738",
=======
   "id": "2bb869f5",
>>>>>>> documentation-devel
   "metadata": {},
   "outputs": [],
   "source": [
    "moranPlot(sfe, \"detected\", color_by = \"cluster\")"
   ]
  },
  {
   "cell_type": "code",
   "execution_count": null,
<<<<<<< HEAD
   "id": "dd6704a3",
||||||| 4eaa9fa
   "id": "16877463",
=======
   "id": "5c363433",
>>>>>>> documentation-devel
   "metadata": {},
   "outputs": [],
   "source": [
    "moranPlot(sfe, \"subsets_mito_percent\", color_by = \"cluster\")"
   ]
  },
  {
   "cell_type": "markdown",
<<<<<<< HEAD
   "id": "18826683",
||||||| 4eaa9fa
   "id": "c259bb27",
=======
   "id": "4567c297",
>>>>>>> documentation-devel
   "metadata": {},
   "source": [
    "There is one main cluster on this plot for the number of genes detected and for the percentage of mitochondrial counts. However, cells are somewhat separated by gene expression clusters. This is not surprising because the gene expression clusters are also based on the k nearest neighbor graph. Cluster 4 cells have a higher percentage of mitochondrial counts and so do their neighbors. \n",
    "\n",
    "## Local Moran's I\n",
    "Also see local Moran's I for these 3 QC metrics:"
   ]
  },
  {
   "cell_type": "code",
   "execution_count": null,
<<<<<<< HEAD
   "id": "53f78b73",
||||||| 4eaa9fa
   "id": "9c4a4d80",
=======
   "id": "190c1d24",
>>>>>>> documentation-devel
   "metadata": {},
   "outputs": [],
   "source": [
    "sfe <- colDataUnivariate(sfe, \"localmoran\", c(\"sum\", \"detected\", \"subsets_mito_percent\"))"
   ]
  },
  {
   "cell_type": "markdown",
<<<<<<< HEAD
   "id": "eb5e6359",
||||||| 4eaa9fa
   "id": "55e7255c",
=======
   "id": "9e157be0",
>>>>>>> documentation-devel
   "metadata": {
    "lines_to_next_cell": 0
   },
   "source": [
    "Here, we don't have a histological space. So how can we visualize the local \"spatial\" statistics? [UMAP is bad](https://www.biorxiv.org/content/10.1101/2021.08.25.457696v1), but in this case PCA can somewhat separate the clusters. We can use the first 2 PCs as if they are the histological space. As a reference, we plot the metrics themselves and the clusters in the first 2 PCs. "
   ]
  },
  {
   "cell_type": "code",
   "execution_count": null,
<<<<<<< HEAD
   "id": "9a6104e6",
||||||| 4eaa9fa
   "id": "d672c694",
=======
   "id": "b9868611",
>>>>>>> documentation-devel
   "metadata": {
    "fig.height": 6,
    "fig.width": 8
   },
   "outputs": [],
   "source": [
    "plotSpatialFeature(sfe, c(\"sum\", \"detected\", \"subsets_mito_percent\", \"cluster\"))"
   ]
  },
  {
   "cell_type": "markdown",
<<<<<<< HEAD
   "id": "f0f411be",
||||||| 4eaa9fa
   "id": "c568b7e6",
=======
   "id": "423b21b6",
>>>>>>> documentation-devel
   "metadata": {
    "lines_to_next_cell": 0
   },
   "source": [
    "Plot the local Moran's I for these metrics in the first 2 PCs:"
   ]
  },
  {
   "cell_type": "code",
   "execution_count": null,
<<<<<<< HEAD
   "id": "b14fa125",
||||||| 4eaa9fa
   "id": "4c4596d9",
=======
   "id": "d84cd4a5",
>>>>>>> documentation-devel
   "metadata": {
    "fig.height": 6,
    "fig.width": 8
   },
   "outputs": [],
   "source": [
    "plotLocalResult(sfe, \"localmoran\", c(\"sum\", \"detected\", \"subsets_mito_percent\"), \n",
    "                colGeometryName = \"centroids\",\n",
    "                divergent = TRUE, diverge_center = 0, ncol = 2)"
   ]
  },
  {
   "cell_type": "markdown",
<<<<<<< HEAD
   "id": "5c3e325b",
||||||| 4eaa9fa
   "id": "3c5cd12c",
=======
   "id": "d9e3cbdc",
>>>>>>> documentation-devel
   "metadata": {
    "lines_to_next_cell": 0
   },
   "source": [
    "However, what if there is no good 2D representation of the data for easy plotting? Remember that here the k nearest neighbor graph was computed on the first 10 PCs rather than the first 2 PCs. The graph is not tied to the 2D representation. We can still plot histograms to show the distribution and scatter plots to compare the same local metric for different variables, which can be colored by another variable such as cluster. This may be added to the next release of Voyager. For now, we add the results of interest to `colData(sfe)` and use the existing `colData` plotting functions from `scater` and `Voyager`."
   ]
  },
  {
   "cell_type": "code",
   "execution_count": null,
<<<<<<< HEAD
   "id": "a7c9fc41",
||||||| 4eaa9fa
   "id": "3a41c42e",
=======
   "id": "5ed08899",
>>>>>>> documentation-devel
   "metadata": {},
   "outputs": [],
   "source": [
    "localResultAttrs(sfe, \"localmoran\", \"sum\")"
   ]
  },
  {
   "cell_type": "code",
   "execution_count": null,
<<<<<<< HEAD
   "id": "e6af7335",
||||||| 4eaa9fa
   "id": "2c23f7ed",
=======
   "id": "d63cccb2",
>>>>>>> documentation-devel
   "metadata": {},
   "outputs": [],
   "source": [
    "sfe$sum_localmoran <- localResult(sfe, \"localmoran\", \"sum\")[,\"Ii\"]\n",
    "sfe$detected_localmoran <- localResult(sfe, \"localmoran\", \"detected\")[,\"Ii\"]\n",
    "sfe$pct_mito_localmoran <- localResult(sfe, \"localmoran\", \"subsets_mito_percent\")[,\"Ii\"]"
   ]
  },
  {
   "cell_type": "code",
   "execution_count": null,
<<<<<<< HEAD
   "id": "09b268a6",
||||||| 4eaa9fa
   "id": "788a32c5",
=======
   "id": "d4219e06",
>>>>>>> documentation-devel
   "metadata": {},
   "outputs": [],
   "source": [
    "# Colorblind friendly palette\n",
    "data(\"ditto_colors\")"
   ]
  },
  {
   "cell_type": "code",
   "execution_count": null,
<<<<<<< HEAD
   "id": "6b4f45c1",
||||||| 4eaa9fa
   "id": "ca03d1b2",
=======
   "id": "00657dfd",
>>>>>>> documentation-devel
   "metadata": {},
   "outputs": [],
   "source": [
    "plotColDataFreqpoly(sfe, c(\"sum_localmoran\", \"detected_localmoran\", \n",
    "                           \"pct_mito_localmoran\"), bins = 50, \n",
    "                    color_by = \"cluster\") +\n",
    "    scale_y_log10() +\n",
    "    annotation_logticks(sides = \"l\")"
   ]
  },
  {
   "cell_type": "markdown",
<<<<<<< HEAD
   "id": "1dfc0fb1",
||||||| 4eaa9fa
   "id": "d8c9966b",
=======
   "id": "fb498ea2",
>>>>>>> documentation-devel
   "metadata": {},
   "source": [
    "The y axis is log transformed (hence that warning when some bins have no cells), so the color of cells in the long tail can be seen because most cells don't have very strong local Moran's I. Cells in cluster 7 have high local Moran's I in total UMI counts and genes detected, which means that they tend to be more homogeneous in these QC metrics.\n",
    "\n",
    "How do local Moran's I for these QC metrics relate to each other?"
   ]
  },
  {
   "cell_type": "code",
   "execution_count": null,
<<<<<<< HEAD
   "id": "296ffa98",
||||||| 4eaa9fa
   "id": "bb292514",
=======
   "id": "9b696686",
>>>>>>> documentation-devel
   "metadata": {},
   "outputs": [],
   "source": [
    "plotColData(sfe, x = \"sum_localmoran\", y = \"detected_localmoran\", \n",
    "            color_by = \"cluster\") +\n",
    "    scale_color_manual(values = ditto_colors)"
   ]
  },
  {
   "cell_type": "markdown",
<<<<<<< HEAD
   "id": "5fbabdb6",
||||||| 4eaa9fa
   "id": "892e4067",
=======
   "id": "69e4d084",
>>>>>>> documentation-devel
   "metadata": {},
   "source": [
    "Cells more locally homogeneous in total UMI counts are also more homogeneous in number of genes detected, which is not surprising given the correlation between the two."
   ]
  },
  {
   "cell_type": "code",
   "execution_count": null,
<<<<<<< HEAD
   "id": "b28ee369",
||||||| 4eaa9fa
   "id": "94e117df",
=======
   "id": "c7f91511",
>>>>>>> documentation-devel
   "metadata": {},
   "outputs": [],
   "source": [
    "plotColData(sfe, x = \"sum_localmoran\", y = \"pct_mito_localmoran\", \n",
    "            color_by = \"cluster\") +\n",
    "    scale_color_manual(values = ditto_colors)"
   ]
  },
  {
   "cell_type": "markdown",
<<<<<<< HEAD
   "id": "1d2b81bd",
||||||| 4eaa9fa
   "id": "19fe268b",
=======
   "id": "ed9a6014",
>>>>>>> documentation-devel
   "metadata": {
    "lines_to_next_cell": 0
   },
   "source": [
    "For local Moran's I, `sum` vs percentage mitochondrial counts shows a more interesting pattern, highlighting clusters 4 and 7 as in the Moran plots.\n",
    "\n",
    "How does local Moran's I relate to the value itself?"
   ]
  },
  {
   "cell_type": "code",
   "execution_count": null,
<<<<<<< HEAD
   "id": "49da44c2",
||||||| 4eaa9fa
   "id": "7e1cd53f",
=======
   "id": "78668ffc",
>>>>>>> documentation-devel
   "metadata": {},
   "outputs": [],
   "source": [
    "plotColData(sfe, x = \"sum\", y = \"sum_localmoran\", color_by = \"cluster\") +\n",
    "    geom_density2d(data = as.data.frame(colData(sfe)),\n",
    "                   mapping = aes(x = sum, y = sum_localmoran), color = \"blue\", \n",
    "                   linewidth = 0.3) +\n",
    "    scale_color_manual(values = ditto_colors)"
   ]
  },
  {
   "cell_type": "markdown",
<<<<<<< HEAD
   "id": "8f02d4c9",
||||||| 4eaa9fa
   "id": "52fb20be",
=======
   "id": "9ce9eb5e",
>>>>>>> documentation-devel
   "metadata": {
    "lines_to_next_cell": 0
   },
   "source": [
    "In this case, generally cells with higher total counts also tend to have higher local Moran's I in total counts. However, there is another wing where cells with lower total counts have slightly higher local Moran's I in total counts and there's a central value of total counts with near 0 local Moran's I. The density contour shows that cells are concentrated at that central value.\n",
    "\n",
    "## Local spatial heteroscedasticity (LOSH)\n",
    "\n",
    "LOSH indicates heterogeneity around each cell in the k nearest neighbor graph."
   ]
  },
  {
   "cell_type": "code",
   "execution_count": null,
<<<<<<< HEAD
   "id": "bcc204a9",
||||||| 4eaa9fa
   "id": "8bc1f7cf",
=======
   "id": "98d43382",
>>>>>>> documentation-devel
   "metadata": {},
   "outputs": [],
   "source": [
    "sfe <- colDataUnivariate(sfe, \"LOSH\", c(\"sum\", \"detected\", \"subsets_mito_percent\"))"
   ]
  },
  {
   "cell_type": "code",
   "execution_count": null,
<<<<<<< HEAD
   "id": "e2835dee",
||||||| 4eaa9fa
   "id": "62f041c7",
=======
   "id": "deab601a",
>>>>>>> documentation-devel
   "metadata": {
    "fig.height": 6,
    "fig.width": 8
   },
   "outputs": [],
   "source": [
    "plotLocalResult(sfe, \"LOSH\", c(\"sum\", \"detected\", \"subsets_mito_percent\"), \n",
    "                colGeometryName = \"centroids\", ncol = 2)"
   ]
  },
  {
   "cell_type": "markdown",
<<<<<<< HEAD
   "id": "4b516f4f",
||||||| 4eaa9fa
   "id": "560e9b7d",
=======
   "id": "d933faad",
>>>>>>> documentation-devel
   "metadata": {},
   "source": [
    "Here we make the same non-spatial plots for LOSH as in local Moran's I."
   ]
  },
  {
   "cell_type": "code",
   "execution_count": null,
<<<<<<< HEAD
   "id": "cf4e29c0",
||||||| 4eaa9fa
   "id": "4ba8dd22",
=======
   "id": "5de84930",
>>>>>>> documentation-devel
   "metadata": {},
   "outputs": [],
   "source": [
    "localResultAttrs(sfe, \"LOSH\", \"sum\")"
   ]
  },
  {
   "cell_type": "code",
   "execution_count": null,
<<<<<<< HEAD
   "id": "d037327a",
||||||| 4eaa9fa
   "id": "847b8fdd",
=======
   "id": "48ba9cfc",
>>>>>>> documentation-devel
   "metadata": {},
   "outputs": [],
   "source": [
    "sfe$sum_losh <- localResult(sfe, \"LOSH\", \"sum\")[,\"Hi\"]\n",
    "sfe$detected_losh <- localResult(sfe, \"LOSH\", \"detected\")[,\"Hi\"]\n",
    "sfe$pct_mito_losh <- localResult(sfe, \"LOSH\", \"subsets_mito_percent\")[,\"Hi\"]"
   ]
  },
  {
   "cell_type": "code",
   "execution_count": null,
<<<<<<< HEAD
   "id": "30717ed8",
||||||| 4eaa9fa
   "id": "d96aa2b7",
=======
   "id": "3f12d373",
>>>>>>> documentation-devel
   "metadata": {},
   "outputs": [],
   "source": [
    "plotColDataFreqpoly(sfe, c(\"sum_losh\", \"detected_losh\", \n",
    "                           \"pct_mito_losh\"), bins = 50, \n",
    "                     color_by = \"cluster\") +\n",
    "    scale_y_log10() +\n",
    "    annotation_logticks(sides = \"l\")"
   ]
  },
  {
   "cell_type": "markdown",
<<<<<<< HEAD
   "id": "368a6006",
||||||| 4eaa9fa
   "id": "d9f1e781",
=======
   "id": "56f53154",
>>>>>>> documentation-devel
   "metadata": {},
   "source": [
    "Here, clusters 2 and 6 tend to be more locally heterogeneous. How do total counts and genes detected relate in LOSH?"
   ]
  },
  {
   "cell_type": "code",
   "execution_count": null,
<<<<<<< HEAD
   "id": "84ed2882",
||||||| 4eaa9fa
   "id": "91226b90",
=======
   "id": "c07dbb8c",
>>>>>>> documentation-devel
   "metadata": {},
   "outputs": [],
   "source": [
    "plotColData(sfe, x = \"sum_losh\", y = \"detected_losh\", color_by = \"cluster\") +\n",
    "    scale_color_manual(values = ditto_colors)"
   ]
  },
  {
   "cell_type": "markdown",
<<<<<<< HEAD
   "id": "4e81c886",
||||||| 4eaa9fa
   "id": "dad13559",
=======
   "id": "3ed5620f",
>>>>>>> documentation-devel
   "metadata": {},
   "source": [
    "While generally cells higher in LOSH in total counts are also higher in LOSH in genes detected, there are some outliers that are very high in both, with more heterogeneous neighborhoods. Absolute distance to the neighbors is not taken into account when the adjacency matrix is row normalized. It would be interesting to see if those outliers tend to be further away from their 10 nearest neighbors, or in a region in the PCA space where cells are further apart.\n",
    "\n",
    "How does total counts itself relate to its LOSH?"
   ]
  },
  {
   "cell_type": "code",
   "execution_count": null,
<<<<<<< HEAD
   "id": "69e75340",
||||||| 4eaa9fa
   "id": "833dc0a3",
=======
   "id": "278491ce",
>>>>>>> documentation-devel
   "metadata": {},
   "outputs": [],
   "source": [
    "plotColData(sfe, x = \"sum\", y = \"sum_losh\", color_by = \"cluster\") +\n",
    "    scale_color_manual(values = ditto_colors)"
   ]
  },
  {
   "cell_type": "markdown",
<<<<<<< HEAD
   "id": "bc343c0d",
||||||| 4eaa9fa
   "id": "d99679b0",
=======
   "id": "9f7809ee",
>>>>>>> documentation-devel
   "metadata": {
    "lines_to_next_cell": 0
   },
   "source": [
    "There does not seem to be a clear relationship in this case. \n",
    "\n",
    "# \"Spatial\" analyses for gene expression\n",
    "First, we need to reorganize the differential expression results:"
   ]
  },
  {
   "cell_type": "code",
   "execution_count": null,
<<<<<<< HEAD
   "id": "43ee486f",
||||||| 4eaa9fa
   "id": "d50fc8cb",
=======
   "id": "3f28036c",
>>>>>>> documentation-devel
   "metadata": {},
   "outputs": [],
   "source": [
    "top_markers_df <- lapply(seq_along(markers), function(i) {\n",
    "    out <- markers[[i]][markers[[i]]$FDR < 0.05, c(\"FDR\", \"summary.AUC\")]\n",
    "    if (nrow(out)) out$cluster <- i\n",
    "    out\n",
    "})\n",
    "top_markers_df <- do.call(rbind, top_markers_df)\n",
    "top_markers_df$symbol <- rowData(sce)[rownames(top_markers_df), \"Symbol\"]"
   ]
  },
  {
   "cell_type": "markdown",
<<<<<<< HEAD
   "id": "a1acc651",
||||||| 4eaa9fa
   "id": "7932b048",
=======
   "id": "6a3cee2f",
>>>>>>> documentation-devel
   "metadata": {
    "lines_to_next_cell": 0
   },
   "source": [
    "## Moran's I"
   ]
  },
  {
   "cell_type": "code",
   "execution_count": null,
<<<<<<< HEAD
   "id": "d811add0",
||||||| 4eaa9fa
   "id": "b8546057",
=======
   "id": "dd29101d",
>>>>>>> documentation-devel
   "metadata": {},
   "outputs": [],
   "source": [
    "sfe <- runMoransI(sfe, features = hvgs, BPPARAM = MulticoreParam(2))"
   ]
  },
  {
   "cell_type": "markdown",
<<<<<<< HEAD
   "id": "076cd4fd",
||||||| 4eaa9fa
   "id": "1d3d7147",
=======
   "id": "d19b31a2",
>>>>>>> documentation-devel
   "metadata": {
    "lines_to_next_cell": 0
   },
   "source": [
    "The results are added to `rowData(sfe)`. The NA's are for non-highly variable genes, as Moran's I was only computed for highly variable genes here."
   ]
  },
  {
   "cell_type": "code",
   "execution_count": null,
<<<<<<< HEAD
   "id": "e007d01d",
||||||| 4eaa9fa
   "id": "07a45ca4",
=======
   "id": "12f8f8bc",
>>>>>>> documentation-devel
   "metadata": {},
   "outputs": [],
   "source": [
    "rowData(sfe)"
   ]
  },
  {
   "cell_type": "markdown",
<<<<<<< HEAD
   "id": "f516a565",
||||||| 4eaa9fa
   "id": "35712cf4",
=======
   "id": "b6798444",
>>>>>>> documentation-devel
   "metadata": {
    "lines_to_next_cell": 0
   },
   "source": [
    "How are the Moran's I's for highly variable genes distributed? Also, where are the top cluster marker genes in this distribution?"
   ]
  },
  {
   "cell_type": "code",
   "execution_count": null,
<<<<<<< HEAD
   "id": "a4557836",
||||||| 4eaa9fa
   "id": "0b6a9836",
=======
   "id": "34eb4460",
>>>>>>> documentation-devel
   "metadata": {},
   "outputs": [],
   "source": [
    "plotRowDataHistogram(sfe, \"moran_sample01\", bins = 50) +\n",
    "    geom_vline(data = as.data.frame(rowData(sfe)[top_markers,]) |> \n",
    "                   mutate(index = seq_along(top_markers)),\n",
    "               aes(xintercept = moran_sample01, color = index)) +\n",
    "    scale_color_continuous(breaks = scales::breaks_width(2))"
   ]
  },
  {
   "cell_type": "markdown",
<<<<<<< HEAD
   "id": "84e76df4",
||||||| 4eaa9fa
   "id": "2c18cb53",
=======
   "id": "0c1a2e47",
>>>>>>> documentation-devel
   "metadata": {},
   "source": [
    "The top marker genes all have quite positive Moran's I on the k nearest neighbor graph. It would also be interesting to color this histogram by gene sets. Since the k nearest neighbor graph was found in PCA space, which is based on gene expression, as expected, Moran's I with this graph is mostly positive, although often not that strong. A small number of genes have slightly negative Moran's I. What do the top genes look like in PCA?"
   ]
  },
  {
   "cell_type": "code",
   "execution_count": null,
<<<<<<< HEAD
   "id": "94c1e8f5",
||||||| 4eaa9fa
   "id": "a91792b9",
=======
   "id": "0e1ae58e",
>>>>>>> documentation-devel
   "metadata": {
    "fig.height": 6,
    "fig.width": 8
   },
   "outputs": [],
   "source": [
    "top_moran <- head(rownames(sfe)[order(rowData(sfe)$moran_sample01, decreasing = TRUE)], 4)\n",
    "plotSpatialFeature(sfe, top_moran, ncol = 2)"
   ]
  },
  {
   "cell_type": "code",
   "execution_count": null,
<<<<<<< HEAD
   "id": "c483ece9",
||||||| 4eaa9fa
   "id": "95f5fbc1",
=======
   "id": "bb580861",
>>>>>>> documentation-devel
   "metadata": {},
   "outputs": [],
   "source": [
    "top_moran_symbol <- rowData(sfe)[top_moran, \"Symbol\"]\n",
    "plotExpression(sfe, top_moran_symbol, swap_rownames = \"Symbol\")"
   ]
  },
  {
   "cell_type": "markdown",
<<<<<<< HEAD
   "id": "cb58c4f9",
||||||| 4eaa9fa
   "id": "05700b6e",
=======
   "id": "882cb89b",
>>>>>>> documentation-devel
   "metadata": {},
   "source": [
    "They are all marker genes for the same cluster, cluster 9. Perhaps these genes have high Moran's I because they are specific to a cell type. Then how does the Moran's I relate to cluster AUC and cluster differential expression p-value?"
   ]
  },
  {
   "cell_type": "code",
   "execution_count": null,
<<<<<<< HEAD
   "id": "7f536cd2",
||||||| 4eaa9fa
   "id": "15a4eea0",
=======
   "id": "6634363a",
>>>>>>> documentation-devel
   "metadata": {},
   "outputs": [],
   "source": [
    "# See if markers are unique to clusters\n",
    "anyDuplicated(rownames(top_markers_df))"
   ]
  },
  {
   "cell_type": "code",
   "execution_count": null,
<<<<<<< HEAD
   "id": "7b055caa",
||||||| 4eaa9fa
   "id": "3b6b234d",
=======
   "id": "1b06eb6e",
>>>>>>> documentation-devel
   "metadata": {},
   "outputs": [],
   "source": [
    "top_markers_df$moran <- rowData(sfe)[rownames(top_markers_df), \"moran_sample01\"]\n",
    "top_markers_df$log_p_adj <- -log10(top_markers_df$FDR)\n",
    "top_markers_df$cluster <- factor(top_markers_df$cluster, \n",
    "                                 levels = seq_len(length(unique(top_markers_df$cluster))))"
   ]
  },
  {
   "cell_type": "markdown",
<<<<<<< HEAD
   "id": "7fcc6bcd",
||||||| 4eaa9fa
   "id": "a45c7ddb",
=======
   "id": "448fa102",
>>>>>>> documentation-devel
   "metadata": {
    "lines_to_next_cell": 0
   },
   "source": [
    "How does the differential expression p-value relate to Moran's I?"
   ]
  },
  {
   "cell_type": "code",
   "execution_count": null,
<<<<<<< HEAD
   "id": "2517b4f5",
||||||| 4eaa9fa
   "id": "5d5ed04f",
=======
   "id": "ccfd40db",
>>>>>>> documentation-devel
   "metadata": {},
   "outputs": [],
   "source": [
    "as.data.frame(top_markers_df) |> \n",
    "    ggplot(aes(log_p_adj, moran)) +\n",
    "    geom_point(aes(color = cluster)) +\n",
    "    geom_smooth(method = \"lm\") +\n",
    "    scale_color_manual(values = ditto_colors)"
   ]
  },
  {
   "cell_type": "markdown",
<<<<<<< HEAD
   "id": "7c4deb9c",
||||||| 4eaa9fa
   "id": "fcf25384",
=======
   "id": "05b34a78",
>>>>>>> documentation-devel
   "metadata": {},
   "source": [
    "Generally, more significant marker genes tend to have higher Moran's I. This is not surprising because the clusters and Moran's I here are both based on the k nearest neighbor graph."
   ]
  },
  {
   "cell_type": "code",
   "execution_count": null,
<<<<<<< HEAD
   "id": "c3f9349e",
||||||| 4eaa9fa
   "id": "34302747",
=======
   "id": "e576ecfa",
>>>>>>> documentation-devel
   "metadata": {},
   "outputs": [],
   "source": [
    "as.data.frame(top_markers_df) |> \n",
    "    ggplot(aes(summary.AUC, moran)) +\n",
    "    geom_point(aes(color = cluster)) +\n",
    "    geom_smooth(method = \"lm\") +\n",
    "    scale_color_manual(values = ditto_colors)"
   ]
  },
  {
   "cell_type": "markdown",
<<<<<<< HEAD
   "id": "9f81b6f9",
||||||| 4eaa9fa
   "id": "b4840bd9",
=======
   "id": "61b7205c",
>>>>>>> documentation-devel
   "metadata": {
    "lines_to_next_cell": 0
   },
   "source": [
    "Similarly, genes with higher AUC tend to have higher Moran's I. For other clusters, generally speaking, genes more specific to a cluster tend to have higher Moran's I.\n",
    "\n",
    "Let's use permutation testing to see if Moran's I is statistically significant:"
   ]
  },
  {
   "cell_type": "code",
   "execution_count": null,
<<<<<<< HEAD
   "id": "5e4363ae",
||||||| 4eaa9fa
   "id": "6fa5fc82",
=======
   "id": "d50f5f9e",
>>>>>>> documentation-devel
   "metadata": {},
   "outputs": [],
   "source": [
    "sfe <- runUnivariate(sfe, \"moran.mc\", features = top_markers, nsim = 200)"
   ]
  },
  {
   "cell_type": "code",
   "execution_count": null,
<<<<<<< HEAD
   "id": "2ace9fe2",
||||||| 4eaa9fa
   "id": "6496e157",
=======
   "id": "762a6e2e",
>>>>>>> documentation-devel
   "metadata": {},
   "outputs": [],
   "source": [
    "top_markers_symbol"
   ]
  },
  {
   "cell_type": "code",
   "execution_count": null,
<<<<<<< HEAD
   "id": "2f3e2b6a",
||||||| 4eaa9fa
   "id": "aa102b59",
=======
   "id": "7d45342d",
>>>>>>> documentation-devel
   "metadata": {},
   "outputs": [],
   "source": [
    "plotMoranMC(sfe, top_markers, swap_rownames = \"Symbol\")"
   ]
  },
  {
   "cell_type": "markdown",
<<<<<<< HEAD
   "id": "dff49166",
||||||| 4eaa9fa
   "id": "c4dfae73",
=======
   "id": "42a048e1",
>>>>>>> documentation-devel
   "metadata": {},
   "source": [
    "They all seem to be very significant. \n",
    "\n",
    "The correlogram finds Moran's I for a higher order of neighbors and can be a proxy for distance. "
   ]
  },
  {
   "cell_type": "code",
   "execution_count": null,
<<<<<<< HEAD
   "id": "cc1d9071",
||||||| 4eaa9fa
   "id": "4112c25c",
=======
   "id": "7af96006",
>>>>>>> documentation-devel
   "metadata": {},
   "outputs": [],
   "source": [
    "system.time({\n",
    "    sfe <- runUnivariate(sfe, \"sp.correlogram\", top_markers, order = 6, \n",
    "                     zero.policy = TRUE, BPPARAM = MulticoreParam(2))\n",
    "})"
   ]
  },
  {
   "cell_type": "code",
   "execution_count": null,
<<<<<<< HEAD
   "id": "f71a6487",
||||||| 4eaa9fa
   "id": "d20f8cee",
=======
   "id": "851e936f",
>>>>>>> documentation-devel
   "metadata": {},
   "outputs": [],
   "source": [
    "plotCorrelogram(sfe, top_markers, swap_rownames = \"Symbol\")"
   ]
  },
  {
   "cell_type": "markdown",
<<<<<<< HEAD
   "id": "8117c542",
||||||| 4eaa9fa
   "id": "ad6c9d39",
=======
   "id": "152fae5c",
>>>>>>> documentation-devel
   "metadata": {
    "lines_to_next_cell": 0
   },
   "source": [
    "We see different patterns of decay in spatial autocorrelation and different length scales of spatial autocorrelation. CLU is a marker gene very specific to the smallest cluster, so higher order neighbors are very likely to be from other clusters. Marker genes for the other larger clusters with hundreds of cells nevertheless display different patterns in the correlogram.\n",
    "\n",
    "## Local Moran's I"
   ]
  },
  {
   "cell_type": "code",
   "execution_count": null,
<<<<<<< HEAD
   "id": "feca7b6a",
||||||| 4eaa9fa
   "id": "382affbf",
=======
   "id": "f1973da4",
>>>>>>> documentation-devel
   "metadata": {},
   "outputs": [],
   "source": [
    "sfe <- runUnivariate(sfe, \"localmoran\", features = top_markers)"
   ]
  },
  {
   "cell_type": "code",
   "execution_count": null,
<<<<<<< HEAD
   "id": "a8b64f81",
||||||| 4eaa9fa
   "id": "90abae2a",
=======
   "id": "788eaa36",
>>>>>>> documentation-devel
   "metadata": {
    "fig.height": 9,
    "fig.width": 12
   },
   "outputs": [],
   "source": [
    "plotLocalResult(sfe, \"localmoran\", top_markers, colGeometryName = \"centroids\", \n",
    "                divergent = TRUE, diverge_center = 0, ncol = 3,\n",
    "                swap_rownames = \"Symbol\")"
   ]
  },
  {
   "cell_type": "markdown",
<<<<<<< HEAD
   "id": "0417c09c",
||||||| 4eaa9fa
   "id": "abc98f3c",
=======
   "id": "121c5da6",
>>>>>>> documentation-devel
   "metadata": {},
   "source": [
    "We will also plot the histograms, but for now the results need to be added to `colData` first."
   ]
  },
  {
   "cell_type": "code",
   "execution_count": null,
<<<<<<< HEAD
   "id": "cc8abefe",
||||||| 4eaa9fa
   "id": "97feb9ad",
=======
   "id": "ca7e2f07",
>>>>>>> documentation-devel
   "metadata": {},
   "outputs": [],
   "source": [
    "new_colname <- paste0(\"cluster\", seq_along(top_markers), \"_\", \n",
    "                      top_markers_symbol, \"_localmoran\")\n",
    "for (i in seq_along(top_markers)) {\n",
    "    g <- top_markers[i]\n",
    "    colData(sfe)[[new_colname[i]]] <- \n",
    "        localResult(sfe, \"localmoran\", g)[,\"Ii\"]\n",
    "}"
   ]
  },
  {
   "cell_type": "code",
   "execution_count": null,
<<<<<<< HEAD
   "id": "326bf5d3",
||||||| 4eaa9fa
   "id": "1a142ff4",
=======
   "id": "35a614b8",
>>>>>>> documentation-devel
   "metadata": {
    "fig.height": 12,
    "fig.width": 8
   },
   "outputs": [],
   "source": [
    "plotColDataFreqpoly(sfe, new_colname, color_by = \"cluster\") +\n",
    "    ggtitle(\"Local Moran's I\") +\n",
    "    theme(legend.position = \"top\") +\n",
    "    scale_y_log10() +\n",
    "    annotation_logticks(sides = \"l\")"
   ]
  },
  {
   "cell_type": "markdown",
<<<<<<< HEAD
   "id": "eeb1cb24",
||||||| 4eaa9fa
   "id": "596836d8",
=======
   "id": "f54fc19f",
>>>>>>> documentation-devel
   "metadata": {
    "lines_to_next_cell": 0
   },
   "source": [
    "Again, the y axis is log transformed to make the tail more visible. For some clusters, the top marker gene's local Moran's I forms its own peak for cells in the cluster with higher local Moran's I than other cells. However, sometimes cells within the cluster form a long tail shared with some cells from other clusters. Then the local Moran's I could be another method for differential expression. Or since both local Moran's I and Leiden clustering use the k nearest neighbor graph in PCA space, local Moran's I of marker genes or perhaps eigengenes signifying gene programs for each cell type on this k nearest neighbor graph can validate or criticize Leiden clusters. Furthermore, interestingly, for some genes, the tallest peak in the histogram is away from 0.\n",
    "\n",
    "The scatter plots as shown in the \"spatial\" analyses for the QC metrics section can be made to see how local Moran's I relates to the expression of the gene itself."
   ]
  },
  {
   "cell_type": "code",
   "execution_count": null,
<<<<<<< HEAD
   "id": "a872e6fb",
||||||| 4eaa9fa
   "id": "dd2bb3f0",
=======
   "id": "8587c032",
>>>>>>> documentation-devel
   "metadata": {},
   "outputs": [],
   "source": [
    "i <- 6 # Change if running this notebook\n",
    "plotExpression(sfe, top_markers_symbol[i], x = new_colname[i], color_by = \"cluster\",\n",
    "               swap_rownames = \"Symbol\") +\n",
    "    scale_color_manual(values = ditto_colors) +\n",
    "    coord_flip() +\n",
    "    # comment out in case of error after changing i\n",
    "    geom_density2d(data = as.data.frame(colData(sfe)) |> \n",
    "                       mutate(gene = logcounts(sfe)[top_markers[i],]),\n",
    "                   mapping = aes(x = .data[[new_colname[i]]], y = gene), \n",
    "                   color = \"blue\", linewidth = 0.3) "
   ]
  },
  {
   "cell_type": "markdown",
<<<<<<< HEAD
   "id": "31ad6efa",
||||||| 4eaa9fa
   "id": "db5224aa",
=======
   "id": "f636c7f3",
>>>>>>> documentation-devel
   "metadata": {},
   "source": [
    "For this gene, just like for total UMI counts, there are two wings and a central value where local Moran's I is around 0. Generally, cells with higher expression of this gene have higher local Moran's I for this gene as well. The density contours show that cells concentrate around 0 expression and some weaker positive local Moran. The streak of cells with 0 expression means that many cells don't express this gene, and their neighbors have low and slightly homogeneous expression of this gene. This pattern may be different for different genes. Also, the p-values for each cell for local Moran's I are available and corrected for multiple hypothesis testing, and can be plotted. The p-values are based on the z score of the local Moran statistic, although how the statistic is distributed for gene expression data warrants more investigation. This p-value can also be computed with permutation (see `localmoran_perm()`). "
   ]
  },
  {
   "cell_type": "code",
   "execution_count": null,
<<<<<<< HEAD
   "id": "238bb825",
||||||| 4eaa9fa
   "id": "95ec636f",
=======
   "id": "f710fd31",
>>>>>>> documentation-devel
   "metadata": {},
   "outputs": [],
   "source": [
    "localResultAttrs(sfe, \"localmoran\", top_markers[1])"
   ]
  },
  {
   "cell_type": "markdown",
<<<<<<< HEAD
   "id": "060e18a9",
||||||| 4eaa9fa
   "id": "357d0a93",
=======
   "id": "e07c26bd",
>>>>>>> documentation-devel
   "metadata": {},
   "source": [
    "## LOSH"
   ]
  },
  {
   "cell_type": "code",
   "execution_count": null,
<<<<<<< HEAD
   "id": "d8383e78",
||||||| 4eaa9fa
   "id": "43b34140",
=======
   "id": "0382a136",
>>>>>>> documentation-devel
   "metadata": {},
   "outputs": [],
   "source": [
    "sfe <- runUnivariate(sfe, \"LOSH\", top_markers)"
   ]
  },
  {
   "cell_type": "code",
   "execution_count": null,
<<<<<<< HEAD
   "id": "903e2c14",
||||||| 4eaa9fa
   "id": "4a815f08",
=======
   "id": "7a301b9c",
>>>>>>> documentation-devel
   "metadata": {
    "fig.height": 9,
    "fig.width": 12
   },
   "outputs": [],
   "source": [
    "plotLocalResult(sfe, \"LOSH\", top_markers, colGeometryName = \"centroids\", ncol = 3,\n",
    "                swap_rownames = \"Symbol\")"
   ]
  },
  {
   "cell_type": "markdown",
<<<<<<< HEAD
   "id": "bf1f9059",
||||||| 4eaa9fa
   "id": "6a248c75",
=======
   "id": "206a5172",
>>>>>>> documentation-devel
   "metadata": {
    "lines_to_next_cell": 0
   },
   "source": [
    "In the two genes on the right, it's interesting to see higher LOSH in the middle cluster. The two genes on the left have some outliers throwing off the dynamic range, but it seems that their high LOSH regions are different.\n",
    "\n",
    "Again, we plot the histograms:"
   ]
  },
  {
   "cell_type": "code",
   "execution_count": null,
<<<<<<< HEAD
   "id": "9ff5d8f8",
||||||| 4eaa9fa
   "id": "f064c53d",
=======
   "id": "a0a81e13",
>>>>>>> documentation-devel
   "metadata": {},
   "outputs": [],
   "source": [
    "new_colname2 <- paste0(\"cluster\", seq_along(top_markers), \"_\", \n",
    "                      top_markers_symbol, \"_losh\")\n",
    "for (i in seq_along(top_markers)) {\n",
    "    g <- top_markers[i]\n",
    "    colData(sfe)[[new_colname2[i]]] <- \n",
    "        localResult(sfe, \"LOSH\", g)[,\"Hi\"]\n",
    "}"
   ]
  },
  {
   "cell_type": "code",
   "execution_count": null,
<<<<<<< HEAD
   "id": "aecf6e25",
||||||| 4eaa9fa
   "id": "229669a4",
=======
   "id": "64a27133",
>>>>>>> documentation-devel
   "metadata": {
    "fig.height": 12,
    "fig.width": 8
   },
   "outputs": [],
   "source": [
    "plotColDataFreqpoly(sfe, new_colname2, color_by = \"cluster\") +\n",
    "    ggtitle(\"Local heteroscedasticity\") +\n",
    "    theme(legend.position = \"top\") +\n",
    "    scale_y_log10() +\n",
    "    annotation_logticks(sides = \"l\")"
   ]
  },
  {
   "cell_type": "markdown",
<<<<<<< HEAD
   "id": "f0802ac8",
||||||| 4eaa9fa
   "id": "9e583a82",
=======
   "id": "5a75ade6",
>>>>>>> documentation-devel
   "metadata": {},
   "source": [
    "The relationship between expression and LOSH is more complicated. For some genes, such as the top marker gene for cluster 1 LYAR, cells in the cluster with higher expression also have higher LOSH - much like how in Poisson and negative binomial distributions, higher mean also means higher variance. However, some genes, such as the top marker gene for cluster 2 CTSS, have lower LOSH among cells that have higher expression, which means expression of this gene is more homogeneous within the cluster, consistent with local Moran. "
   ]
  },
  {
   "cell_type": "code",
   "execution_count": null,
<<<<<<< HEAD
   "id": "2c9a1420",
||||||| 4eaa9fa
   "id": "38fe3a3d",
=======
   "id": "4c5b4db3",
>>>>>>> documentation-devel
   "metadata": {},
   "outputs": [],
   "source": [
    "i <- 6 # Change if running this notebook\n",
    "plotExpression(sfe, top_markers_symbol[i], x = new_colname2[i], \n",
    "               color_by = \"cluster\", swap_rownames = \"Symbol\") +\n",
    "    scale_color_manual(values = ditto_colors) +\n",
    "    coord_flip() +\n",
    "    # comment out in case of error after changing i\n",
    "    geom_density2d(data = as.data.frame(colData(sfe)) |> \n",
    "                       mutate(gene = logcounts(sfe)[top_markers[i],]),\n",
    "                   mapping = aes(x = .data[[new_colname2[i]]], y = gene), \n",
    "                   color = \"blue\", linewidth = 0.3) "
   ]
  },
  {
   "cell_type": "markdown",
<<<<<<< HEAD
   "id": "cc1f7605",
||||||| 4eaa9fa
   "id": "5c6ea601",
=======
   "id": "859e7487",
>>>>>>> documentation-devel
   "metadata": {
    "lines_to_next_cell": 0
   },
   "source": [
    "For this gene, the density contour indicates that many cells don't express this gene and have homogeneous neighborhoods also with low expression. That streak around 0 expression means that neighbors of cells that don't express this gene have different levels of heterogeneity in this gene.\n",
    "\n",
    "## Moran plot\n",
    "\n",
    "Here we make Moran plots for the top marker genes."
   ]
  },
  {
   "cell_type": "code",
   "execution_count": null,
<<<<<<< HEAD
   "id": "71184b1b",
||||||| 4eaa9fa
   "id": "5e750bf1",
=======
   "id": "dc1df437",
>>>>>>> documentation-devel
   "metadata": {},
   "outputs": [],
   "source": [
    "sfe <- runUnivariate(sfe, \"moran.plot\", features = top_markers, colGraphName = \"knn10\")"
   ]
  },
  {
   "cell_type": "markdown",
<<<<<<< HEAD
   "id": "c9919f4b",
||||||| 4eaa9fa
   "id": "ed0a905e",
=======
   "id": "684ecedc",
>>>>>>> documentation-devel
   "metadata": {
    "lines_to_next_cell": 0
   },
   "source": [
    "As a reference, we show Moran's I for the top marker genes, which is the slope of the line fitted to the Moran scatter plot."
   ]
  },
  {
   "cell_type": "code",
   "execution_count": null,
<<<<<<< HEAD
   "id": "21645708",
||||||| 4eaa9fa
   "id": "2b0ed366",
=======
   "id": "7c32c668",
>>>>>>> documentation-devel
   "metadata": {},
   "outputs": [],
   "source": [
    "top_markers_df[top_markers,]"
   ]
  },
  {
   "cell_type": "markdown",
<<<<<<< HEAD
   "id": "f4dbb125",
||||||| 4eaa9fa
   "id": "543d02e0",
=======
   "id": "f86837df",
>>>>>>> documentation-devel
   "metadata": {
    "lines_to_next_cell": 0
   },
   "source": [
    "There is no significant marker gene for cluster 7. These plots are shown in sequence"
   ]
  },
  {
   "cell_type": "code",
   "execution_count": null,
<<<<<<< HEAD
   "id": "617a0251",
||||||| 4eaa9fa
   "id": "3f6b18c7",
=======
   "id": "cb68b24f",
>>>>>>> documentation-devel
   "metadata": {},
   "outputs": [],
   "source": [
    "plts <- lapply(top_markers, moranPlot, sfe = sfe, color_by = \"cluster\", \n",
    "               swap_rownames = \"Symbol\")"
   ]
  },
  {
   "cell_type": "code",
   "execution_count": null,
<<<<<<< HEAD
   "id": "e0531ebb",
||||||| 4eaa9fa
   "id": "ac237a07",
=======
   "id": "70538e7c",
>>>>>>> documentation-devel
   "metadata": {
    "fig.height": 9,
    "fig.width": 9
   },
   "outputs": [],
   "source": [
    "wrap_plots(plts, widths = 1, heights = 1) +\n",
    "    plot_layout(ncol = 3, guides = \"collect\") +\n",
    "    plot_annotation(tag_levels = \"1\")"
   ]
  },
  {
   "cell_type": "markdown",
<<<<<<< HEAD
   "id": "9f342534",
||||||| 4eaa9fa
   "id": "8c39b045",
=======
   "id": "d5a2b534",
>>>>>>> documentation-devel
   "metadata": {
    "lines_to_next_cell": 0
   },
   "source": [
    "For some genes, the points are so concentrated around the origin that there aren't \"enough\" points elsewhere to plot the density contours. But for the cells that do express these genes, there are clusters on this plot. Some genes are not expressed in many cells, but those cells have neighbors that do express the gene, hence the vertical streak at x = 0. \n",
    "\n",
    "In this tutorial, we applied univariate spatial statistics to the k nearest neighbor graph in the gene expression PCA space rather than the histological space. Just like in histological space, it would be impractical to examine all these statistics gene by gene, so multivariate analyses that incorporate the k nearest neighbor graph may be interesting.\n",
    "\n",
    "# Session info"
   ]
  },
  {
   "cell_type": "code",
   "execution_count": null,
<<<<<<< HEAD
   "id": "80ba871e",
||||||| 4eaa9fa
   "id": "adcca114",
=======
   "id": "542257dc",
>>>>>>> documentation-devel
   "metadata": {
    "lines_to_next_cell": 0
   },
   "outputs": [],
   "source": [
    "sessionInfo()"
   ]
  },
  {
   "cell_type": "markdown",
<<<<<<< HEAD
   "id": "c42720a3",
||||||| 4eaa9fa
   "id": "24840e93",
=======
   "id": "2a79284b",
>>>>>>> documentation-devel
   "metadata": {},
   "source": []
  }
 ],
 "metadata": {
  "kernelspec": {
   "display_name": "R",
   "language": "R",
   "name": "ir"
  }
 },
 "nbformat": 4,
 "nbformat_minor": 5
}
