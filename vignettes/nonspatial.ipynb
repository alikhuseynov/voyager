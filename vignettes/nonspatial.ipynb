{
 "cells": [
  {
   "cell_type": "raw",
<<<<<<< HEAD
<<<<<<< HEAD
   "id": "55c05958",
||||||| 00f6fb22
   "id": "2eea019f",
=======
   "id": "a3264d56",
>>>>>>> documentation-devel
||||||| d828f8eb
   "id": "55c05958",
=======
   "id": "3afa24f2",
>>>>>>> 6c25d2f1afd31725c9595ab9d8922b9d3c838629
   "metadata": {},
   "source": [
    "---\n",
    "title: \"Apply spatial analyses to non-spatial scRNA-seq data\"\n",
    "author: \"Lambda Moses\"\n",
    "date: \"`r Sys.Date()`\"\n",
    "output: \n",
    "  html_document:\n",
    "  toc: true\n",
    "  toc_float:\n",
    "    collapsed: false\n",
    "  toc_depth: 3\n",
    "bibliography: ref.bib\n",
    "vignette: >\n",
    "  %\\VignetteIndexEntry{nonspatial}\n",
    "  %\\VignetteEngine{knitr::rmarkdown}\n",
    "  %\\VignetteEncoding{UTF-8}\n",
    "---"
   ]
  },
  {
   "cell_type": "code",
   "execution_count": null,
<<<<<<< HEAD
<<<<<<< HEAD
   "id": "267c51c0",
||||||| 00f6fb22
   "id": "141702cd",
=======
   "id": "e0bbbfb9",
>>>>>>> documentation-devel
||||||| d828f8eb
   "id": "267c51c0",
=======
   "id": "efb5859f",
>>>>>>> 6c25d2f1afd31725c9595ab9d8922b9d3c838629
   "metadata": {
    "tags": [
     "remove_cell"
    ]
   },
   "outputs": [],
   "source": [
    "knitr::opts_chunk$set(\n",
    "  collapse = TRUE,\n",
    "  comment = \"#>\"\n",
    ")"
   ]
  },
  {
   "cell_type": "code",
   "execution_count": null,
<<<<<<< HEAD
<<<<<<< HEAD
   "id": "3d1f3911",
||||||| 00f6fb22
   "id": "417b9ed7",
=======
   "id": "f0088851",
>>>>>>> documentation-devel
||||||| d828f8eb
   "id": "3d1f3911",
=======
   "id": "c1caa8ab",
>>>>>>> 6c25d2f1afd31725c9595ab9d8922b9d3c838629
   "metadata": {
    "eval": false,
    "tags": [
     "remove_cell"
    ]
   },
   "outputs": [],
   "source": [
    "# Install Google Colab dependencies\n",
    "# Note: this can take 30+ minutes (many of the dependencies include C++ code, which needs to be compiled)\n",
    "\n",
    "# First install `sf`, `ragg` and `textshaping` and their system dependencies:\n",
    "system(\"apt-get -y update && apt-get install -y  libudunits2-dev libgdal-dev libgeos-dev libproj-dev libharfbuzz-dev libfribidi-dev\")\n",
    "install.packages(\"sf\")\n",
    "install.packages(\"textshaping\")\n",
    "install.packages(\"ragg\")\n",
    "\n",
    "# Install system dependencies of some other R packages that Voyager either imports or suggests:\n",
    "system(\"apt-get install -y libfribidi-dev libcairo2-dev libmagick++-dev\")\n",
    "\n",
    "# Install Voyager from Bioconductor:\n",
    "install.packages(\"BiocManager\")\n",
    "BiocManager::install(version = \"3.17\", ask = FALSE, update = FALSE, Ncpus = 2)\n",
    "BiocManager::install(\"scater\")\n",
    "system.time(\n",
    "  BiocManager::install(\"Voyager\", dependencies = TRUE, Ncpus = 2, update = FALSE)\n",
    ")\n",
    "\n",
    "# Additional dependencies for this notebook\n",
    "install.packages(\"reticulate\")\n",
    "#system(\"pip3 install gget\")\n",
    "packageVersion(\"Voyager\")"
   ]
  },
  {
   "cell_type": "markdown",
<<<<<<< HEAD
<<<<<<< HEAD
   "id": "710ef0ed",
||||||| 00f6fb22
   "id": "4baed286",
=======
   "id": "3a882d02",
>>>>>>> documentation-devel
||||||| d828f8eb
   "id": "710ef0ed",
=======
   "id": "50435427",
>>>>>>> 6c25d2f1afd31725c9595ab9d8922b9d3c838629
   "metadata": {
    "lines_to_next_cell": 0
   },
   "source": [
    "# Introduction\n",
    "\n",
    "For areal spatial data, the spatial neighborhood graph is used to indicate proximity, and is required for all spatial analysis methods in the package `spdep`. One of the methods to find the spatial neighborhood graph is k nearest neighbors, which is also commonly used in gene expression PCA space for graph-based clustering of cells in non-spatial scRNA-seq data. Then what if we use the k nearest neighbors graph in PCA space rather than histological space for \"spatial\" analyses for non-spatial scRNA-seq data?\n",
    "\n",
    "Here we try such an analysis on a human peripheral blood mononuclear cells (PBMC) scRNA-seq dataset, which doesn't originally have histological spatial organization. These are the packages loaded for the analysis:"
   ]
  },
  {
   "cell_type": "code",
   "execution_count": null,
<<<<<<< HEAD
<<<<<<< HEAD
   "id": "9c003e6b",
||||||| 00f6fb22
   "id": "fb4d0960",
=======
   "id": "2878758e",
>>>>>>> documentation-devel
||||||| d828f8eb
   "id": "9c003e6b",
=======
   "id": "6e47e2c7",
>>>>>>> 6c25d2f1afd31725c9595ab9d8922b9d3c838629
   "metadata": {
    "message": false,
    "name": "setup"
   },
   "outputs": [],
   "source": [
    "library(Voyager)\n",
    "library(SpatialFeatureExperiment)\n",
    "library(SpatialExperiment)\n",
    "library(DropletUtils)\n",
    "library(BiocNeighbors)\n",
    "library(scater)\n",
    "library(scran)\n",
    "library(bluster)\n",
    "library(BiocParallel)\n",
    "library(scuttle)\n",
    "library(stringr)\n",
    "library(BiocSingular)\n",
    "library(spdep)\n",
    "library(patchwork)\n",
    "library(dplyr)\n",
    "library(reticulate)\n",
    "theme_set(theme_bw())"
   ]
  },
  {
   "cell_type": "code",
   "execution_count": null,
<<<<<<< HEAD
<<<<<<< HEAD
   "id": "6f9f65d3",
||||||| 00f6fb22
   "id": "7f4f01ff",
=======
   "id": "69c06f4d",
>>>>>>> documentation-devel
||||||| d828f8eb
   "id": "6f9f65d3",
=======
   "id": "acb30942",
>>>>>>> 6c25d2f1afd31725c9595ab9d8922b9d3c838629
   "metadata": {},
   "outputs": [],
   "source": [
    "# Specify Python version to use gget\n",
    "PY_PATH <- Sys.which(\"python\")\n",
    "use_python(PY_PATH)\n",
    "py_config()\n",
    "\n",
    "# Load gget\n",
    "gget <- import(\"gget\")"
   ]
  },
  {
   "cell_type": "markdown",
<<<<<<< HEAD
<<<<<<< HEAD
   "id": "01d61d00",
||||||| 00f6fb22
   "id": "fee48caa",
=======
   "id": "55ab7d46",
>>>>>>> documentation-devel
||||||| d828f8eb
   "id": "01d61d00",
=======
   "id": "a1fd3a71",
>>>>>>> 6c25d2f1afd31725c9595ab9d8922b9d3c838629
   "metadata": {},
   "source": [
    "Here we download the filtered [Cell Ranger gene count matrix from the 10X website](https://support.10xgenomics.com/single-cell-gene-expression/datasets/3.0.2/5k_pbmc_v3_nextgem?). The empty droplets have already been removed."
   ]
  },
  {
   "cell_type": "code",
   "execution_count": null,
<<<<<<< HEAD
<<<<<<< HEAD
   "id": "47fd9f57",
||||||| 00f6fb22
   "id": "755b75f9",
=======
   "id": "f4ea5e85",
>>>>>>> documentation-devel
||||||| d828f8eb
   "id": "47fd9f57",
=======
   "id": "2d4e7d6f",
>>>>>>> 6c25d2f1afd31725c9595ab9d8922b9d3c838629
   "metadata": {},
   "outputs": [],
   "source": [
    "if (!dir.exists(\"filtered_feature_bc_matrix\")) {\n",
    "    download.file(\"https://cf.10xgenomics.com/samples/cell-exp/3.0.2/5k_pbmc_v3_nextgem/5k_pbmc_v3_nextgem_filtered_feature_bc_matrix.tar.gz\", destfile = \"5kpbmc.tar.gz\", quiet = TRUE)\n",
    "    system(\"tar -xzf 5kpbmc.tar.gz\")\n",
    "}"
   ]
  },
  {
   "cell_type": "markdown",
<<<<<<< HEAD
<<<<<<< HEAD
   "id": "2792ff80",
||||||| 00f6fb22
   "id": "05d7ba7c",
=======
   "id": "6de30e87",
>>>>>>> documentation-devel
||||||| d828f8eb
   "id": "2792ff80",
=======
   "id": "8a55fe75",
>>>>>>> 6c25d2f1afd31725c9595ab9d8922b9d3c838629
   "metadata": {
    "lines_to_next_cell": 0
   },
   "source": [
    "This is loaded into R as a `SingleCellExperiment` (SCE) object."
   ]
  },
  {
   "cell_type": "code",
   "execution_count": null,
<<<<<<< HEAD
<<<<<<< HEAD
   "id": "c456bd57",
||||||| 00f6fb22
   "id": "d900e9cb",
=======
   "id": "d8b4004d",
>>>>>>> documentation-devel
||||||| d828f8eb
   "id": "c456bd57",
=======
   "id": "248ea019",
>>>>>>> 6c25d2f1afd31725c9595ab9d8922b9d3c838629
   "metadata": {},
   "outputs": [],
   "source": [
    "(sce <- read10xCounts(\"filtered_feature_bc_matrix/\"))"
   ]
  },
  {
   "cell_type": "code",
   "execution_count": null,
<<<<<<< HEAD
<<<<<<< HEAD
   "id": "56e6f0c0",
||||||| 00f6fb22
   "id": "68500ad8",
=======
   "id": "82c6b8be",
>>>>>>> documentation-devel
||||||| d828f8eb
   "id": "56e6f0c0",
=======
   "id": "c8603924",
>>>>>>> 6c25d2f1afd31725c9595ab9d8922b9d3c838629
   "metadata": {},
   "outputs": [],
   "source": [
    "colnames(sce) <- sce$Barcode"
   ]
  },
  {
   "cell_type": "markdown",
<<<<<<< HEAD
<<<<<<< HEAD
   "id": "a8c0a139",
||||||| 00f6fb22
   "id": "23b47500",
=======
   "id": "ffbe8de1",
>>>>>>> documentation-devel
||||||| d828f8eb
   "id": "a8c0a139",
=======
   "id": "a3ec8751",
>>>>>>> 6c25d2f1afd31725c9595ab9d8922b9d3c838629
   "metadata": {
    "lines_to_next_cell": 0
   },
   "source": [
    "# Quality control (QC)\n",
    "Here we perform some basic QC, to remove low quality cells with high proportion of mitochondrially encoded counts. "
   ]
  },
  {
   "cell_type": "code",
   "execution_count": null,
<<<<<<< HEAD
<<<<<<< HEAD
   "id": "493f408d",
||||||| 00f6fb22
   "id": "7ae8f6bd",
=======
   "id": "34628fce",
>>>>>>> documentation-devel
||||||| d828f8eb
   "id": "493f408d",
=======
   "id": "ed1d6293",
>>>>>>> 6c25d2f1afd31725c9595ab9d8922b9d3c838629
   "metadata": {},
   "outputs": [],
   "source": [
    "is_mito <- str_detect(rowData(sce)$Symbol, \"^MT-\")\n",
    "sum(is_mito)"
   ]
  },
  {
   "cell_type": "code",
   "execution_count": null,
<<<<<<< HEAD
<<<<<<< HEAD
   "id": "51567c75",
||||||| 00f6fb22
   "id": "89c46046",
=======
   "id": "9647b3ee",
>>>>>>> documentation-devel
||||||| d828f8eb
   "id": "51567c75",
=======
   "id": "ef56c0fb",
>>>>>>> 6c25d2f1afd31725c9595ab9d8922b9d3c838629
   "metadata": {},
   "outputs": [],
   "source": [
    "sce <- addPerCellQCMetrics(sce, subsets = list(mito = is_mito))\n",
    "names(colData(sce))"
   ]
  },
  {
   "cell_type": "markdown",
<<<<<<< HEAD
<<<<<<< HEAD
   "id": "105a6150",
||||||| 00f6fb22
   "id": "ee83d0dd",
=======
   "id": "4fbdff47",
>>>>>>> documentation-devel
||||||| d828f8eb
   "id": "105a6150",
=======
   "id": "8e3e06b1",
>>>>>>> 6c25d2f1afd31725c9595ab9d8922b9d3c838629
   "metadata": {},
   "source": [
    "The `addPerCellQCMetrics()` function computes the total UMI counts detected per cell (`sum`), number of genes detected per cell (`detected`), `sum` and `detected` for mitochondrial counts, and percentage of mitochondrial counts per cell."
   ]
  },
  {
   "cell_type": "code",
   "execution_count": null,
<<<<<<< HEAD
<<<<<<< HEAD
   "id": "3f35a891",
||||||| 00f6fb22
   "id": "b24af35f",
=======
   "id": "2a16ff13",
>>>>>>> documentation-devel
||||||| d828f8eb
   "id": "3f35a891",
=======
   "id": "2c392590",
>>>>>>> 6c25d2f1afd31725c9595ab9d8922b9d3c838629
   "metadata": {},
   "outputs": [],
   "source": [
    "plotColData(sce, \"sum\") +\n",
    "    plotColData(sce, \"detected\") +\n",
    "    plotColData(sce, \"subsets_mito_percent\")"
   ]
  },
  {
   "cell_type": "markdown",
<<<<<<< HEAD
<<<<<<< HEAD
   "id": "66920527",
||||||| 00f6fb22
   "id": "6aa2bb64",
=======
   "id": "8a5827b8",
>>>>>>> documentation-devel
||||||| d828f8eb
   "id": "66920527",
=======
   "id": "691e9837",
>>>>>>> 6c25d2f1afd31725c9595ab9d8922b9d3c838629
   "metadata": {
    "lines_to_next_cell": 0
   },
   "source": [
    "Here a 2D histogram is plotted to better show point density on the plot."
   ]
  },
  {
   "cell_type": "code",
   "execution_count": null,
<<<<<<< HEAD
<<<<<<< HEAD
   "id": "50fe8933",
||||||| 00f6fb22
   "id": "ff5edeae",
=======
   "id": "7a607f46",
>>>>>>> documentation-devel
||||||| d828f8eb
   "id": "50fe8933",
=======
   "id": "13390457",
>>>>>>> 6c25d2f1afd31725c9595ab9d8922b9d3c838629
   "metadata": {},
   "outputs": [],
   "source": [
    "plotColData(sce, x = \"sum\", y = \"detected\", bins = 100)"
   ]
  },
  {
   "cell_type": "code",
   "execution_count": null,
<<<<<<< HEAD
<<<<<<< HEAD
   "id": "250c11b9",
||||||| 00f6fb22
   "id": "97f6cc79",
=======
   "id": "bb1e0620",
>>>>>>> documentation-devel
||||||| d828f8eb
   "id": "250c11b9",
=======
   "id": "f918eeaa",
>>>>>>> 6c25d2f1afd31725c9595ab9d8922b9d3c838629
   "metadata": {},
   "outputs": [],
   "source": [
    "plotColData(sce, x = \"sum\", y = \"subsets_mito_percent\", bins = 100)"
   ]
  },
  {
   "cell_type": "markdown",
<<<<<<< HEAD
<<<<<<< HEAD
   "id": "ed89030f",
||||||| 00f6fb22
   "id": "e906e923",
=======
   "id": "584e12f7",
>>>>>>> documentation-devel
||||||| d828f8eb
   "id": "ed89030f",
=======
   "id": "bb95dd12",
>>>>>>> 6c25d2f1afd31725c9595ab9d8922b9d3c838629
   "metadata": {
    "lines_to_next_cell": 0
   },
   "source": [
    "Remove cells with >20% mitochondrial counts"
   ]
  },
  {
   "cell_type": "code",
   "execution_count": null,
<<<<<<< HEAD
<<<<<<< HEAD
   "id": "2ffec364",
||||||| 00f6fb22
   "id": "94b75dc8",
=======
   "id": "6c87460a",
>>>>>>> documentation-devel
||||||| d828f8eb
   "id": "2ffec364",
=======
   "id": "dd3f2299",
>>>>>>> 6c25d2f1afd31725c9595ab9d8922b9d3c838629
   "metadata": {},
   "outputs": [],
   "source": [
    "sce <- sce[, sce$subsets_mito_percent < 20]\n",
    "sce <- sce[rowSums(counts(sce)) > 0,]"
   ]
  },
  {
   "cell_type": "markdown",
<<<<<<< HEAD
<<<<<<< HEAD
   "id": "1e07fd92",
||||||| 00f6fb22
   "id": "ce57afe1",
=======
   "id": "f997d37f",
>>>>>>> documentation-devel
||||||| d828f8eb
   "id": "1e07fd92",
=======
   "id": "ad6a8338",
>>>>>>> 6c25d2f1afd31725c9595ab9d8922b9d3c838629
   "metadata": {
    "lines_to_next_cell": 0
   },
   "source": [
    "# Basic non-spatial analyses\n",
    "Here we normalize the data, perform PCA, cluster the cells, and find marker genes for the clusters."
   ]
  },
  {
   "cell_type": "code",
   "execution_count": null,
<<<<<<< HEAD
<<<<<<< HEAD
   "id": "f49167db",
||||||| 00f6fb22
   "id": "56afcdf5",
=======
   "id": "25fc4f8c",
>>>>>>> documentation-devel
||||||| d828f8eb
   "id": "f49167db",
=======
   "id": "d45f94e6",
>>>>>>> 6c25d2f1afd31725c9595ab9d8922b9d3c838629
   "metadata": {},
   "outputs": [],
   "source": [
    "#clusts <- quickCluster(sce)\n",
    "#sce <- computeSumFactors(sce, cluster = clusts)\n",
    "#sce <- sce[, sizeFactors(sce) > 0]\n",
    "sce <- logNormCounts(sce)"
   ]
  },
  {
   "cell_type": "markdown",
<<<<<<< HEAD
<<<<<<< HEAD
   "id": "9da1088c",
||||||| 00f6fb22
   "id": "806403ab",
=======
   "id": "f7f8ac6f",
>>>>>>> documentation-devel
||||||| d828f8eb
   "id": "9da1088c",
=======
   "id": "74e44a02",
>>>>>>> 6c25d2f1afd31725c9595ab9d8922b9d3c838629
   "metadata": {
    "lines_to_next_cell": 0
   },
   "source": [
    "Use the highly variable genes for PCA:"
   ]
  },
  {
   "cell_type": "code",
   "execution_count": null,
<<<<<<< HEAD
<<<<<<< HEAD
   "id": "e993d743",
||||||| 00f6fb22
   "id": "67b2d3b0",
=======
   "id": "ebf302d4",
>>>>>>> documentation-devel
||||||| d828f8eb
   "id": "e993d743",
=======
   "id": "354b34de",
>>>>>>> 6c25d2f1afd31725c9595ab9d8922b9d3c838629
   "metadata": {},
   "outputs": [],
   "source": [
    "dec <- modelGeneVar(sce, lowess = FALSE)\n",
    "hvgs <- getTopHVGs(dec, n = 2000)"
   ]
  },
  {
   "cell_type": "code",
   "execution_count": null,
<<<<<<< HEAD
<<<<<<< HEAD
   "id": "0e9b2783",
||||||| 00f6fb22
   "id": "2a0b7c08",
=======
   "id": "43b1ef18",
>>>>>>> documentation-devel
||||||| d828f8eb
   "id": "0e9b2783",
=======
   "id": "7bd56b91",
>>>>>>> 6c25d2f1afd31725c9595ab9d8922b9d3c838629
   "metadata": {},
   "outputs": [],
   "source": [
    "set.seed(29)\n",
    "sce <- runPCA(sce, ncomponents = 30, BSPARAM = IrlbaParam(),\n",
    "              subset_row = hvgs, scale = TRUE)"
   ]
  },
  {
   "cell_type": "markdown",
<<<<<<< HEAD
<<<<<<< HEAD
   "id": "6c0ae5d0",
||||||| 00f6fb22
   "id": "1084d47a",
=======
   "id": "43f86864",
>>>>>>> documentation-devel
||||||| d828f8eb
   "id": "6c0ae5d0",
=======
   "id": "36a1bc39",
>>>>>>> 6c25d2f1afd31725c9595ab9d8922b9d3c838629
   "metadata": {
    "lines_to_next_cell": 0
   },
   "source": [
    "How many PCs shall we use for further analyses?"
   ]
  },
  {
   "cell_type": "code",
   "execution_count": null,
<<<<<<< HEAD
<<<<<<< HEAD
   "id": "de965ae7",
||||||| 00f6fb22
   "id": "4637fc8a",
=======
   "id": "5c9a20ad",
>>>>>>> documentation-devel
||||||| d828f8eb
   "id": "de965ae7",
=======
   "id": "882d17d6",
>>>>>>> 6c25d2f1afd31725c9595ab9d8922b9d3c838629
   "metadata": {},
   "outputs": [],
   "source": [
    "ElbowPlot(sce, ndims = 30)"
   ]
  },
  {
   "cell_type": "markdown",
<<<<<<< HEAD
<<<<<<< HEAD
   "id": "99209db2",
||||||| 00f6fb22
   "id": "1e045d67",
=======
   "id": "f7ee07b7",
>>>>>>> documentation-devel
||||||| d828f8eb
   "id": "99209db2",
=======
   "id": "72b0fc91",
>>>>>>> 6c25d2f1afd31725c9595ab9d8922b9d3c838629
   "metadata": {},
   "source": [
    "Variance explained drops sharply from PC1 and again from PC4 and then levels off. Plot genes with the largest loadings of the top 4 PCs:"
   ]
  },
  {
   "cell_type": "code",
   "execution_count": null,
<<<<<<< HEAD
<<<<<<< HEAD
   "id": "27d9a0d9",
||||||| 00f6fb22
   "id": "dde94df8",
=======
   "id": "d889c5b8",
>>>>>>> documentation-devel
||||||| d828f8eb
   "id": "27d9a0d9",
=======
   "id": "3fc6151b",
>>>>>>> 6c25d2f1afd31725c9595ab9d8922b9d3c838629
   "metadata": {
    "lines_to_next_cell": 2
   },
   "outputs": [],
   "source": [
    "plotDimLoadings(sce, swap_rownames = \"Symbol\")"
   ]
  },
  {
   "cell_type": "markdown",
<<<<<<< HEAD
<<<<<<< HEAD
   "id": "e207f8ee",
||||||| 00f6fb22
   "id": "3d70aa62",
=======
   "id": "e49a9d24",
>>>>>>> documentation-devel
||||||| d828f8eb
   "id": "e207f8ee",
=======
   "id": "f57164d5",
>>>>>>> 6c25d2f1afd31725c9595ab9d8922b9d3c838629
   "metadata": {},
   "source": [
    "To keep a little more information, we use 10 PCs, after which variance explained levels off even more."
   ]
  },
  {
   "cell_type": "code",
   "execution_count": null,
<<<<<<< HEAD
<<<<<<< HEAD
   "id": "7843756e",
||||||| 00f6fb22
   "id": "e7656363",
=======
   "id": "0059148a",
>>>>>>> documentation-devel
||||||| d828f8eb
   "id": "7843756e",
=======
   "id": "39228cbf",
>>>>>>> 6c25d2f1afd31725c9595ab9d8922b9d3c838629
   "metadata": {},
   "outputs": [],
   "source": [
    "sce$cluster <- clusterRows(reducedDim(sce, \"PCA\")[,1:10],\n",
    "                           BLUSPARAM = SNNGraphParam(cluster.fun = \"leiden\",\n",
    "                                                     k = 10,\n",
    "                                                     cluster.args = list(\n",
    "                                                         resolution=0.5,\n",
    "                                                         objective_function = \"modularity\"\n",
    "                                                     )))"
   ]
  },
  {
   "cell_type": "markdown",
<<<<<<< HEAD
<<<<<<< HEAD
   "id": "25e4ebd7",
||||||| 00f6fb22
   "id": "b878adf8",
=======
   "id": "ed74e7ac",
>>>>>>> documentation-devel
||||||| d828f8eb
   "id": "25e4ebd7",
=======
   "id": "bf306279",
>>>>>>> 6c25d2f1afd31725c9595ab9d8922b9d3c838629
   "metadata": {},
   "source": [
    "Here we plot the cells in the first 4 PCs in a matrix plot. The diagonals are density plots of the number of cells as projected on each PC. The x axis should correspond to the columns of the matrix plot, and the y axis should correspond to the rows, so the plot in row 1 column 2 has PC2 in the x axis and PC1 in the y axis. The cells are colored by clusters found in the previous code chunk."
   ]
  },
  {
   "cell_type": "code",
   "execution_count": null,
<<<<<<< HEAD
<<<<<<< HEAD
   "id": "d72c5d9b",
||||||| 00f6fb22
   "id": "a9151b12",
=======
   "id": "af109c38",
>>>>>>> documentation-devel
||||||| d828f8eb
   "id": "d72c5d9b",
=======
   "id": "7dd6e795",
>>>>>>> 6c25d2f1afd31725c9595ab9d8922b9d3c838629
   "metadata": {
    "fig.height": 9,
    "fig.width": 9
   },
   "outputs": [],
   "source": [
    "plotPCA(sce, ncomponents = 4, color_by = \"cluster\")"
   ]
  },
  {
   "cell_type": "markdown",
<<<<<<< HEAD
<<<<<<< HEAD
   "id": "6a6fc0ee",
||||||| 00f6fb22
   "id": "c613aa90",
=======
   "id": "7bc2dbc5",
>>>>>>> documentation-devel
||||||| d828f8eb
   "id": "6a6fc0ee",
=======
   "id": "cc772e9f",
>>>>>>> 6c25d2f1afd31725c9595ab9d8922b9d3c838629
   "metadata": {
    "lines_to_next_cell": 0
   },
   "source": [
    "How many cells are there in each cluster?"
   ]
  },
  {
   "cell_type": "code",
   "execution_count": null,
<<<<<<< HEAD
<<<<<<< HEAD
   "id": "03ac0c65",
||||||| 00f6fb22
   "id": "ebdeb81f",
=======
   "id": "56208392",
>>>>>>> documentation-devel
||||||| d828f8eb
   "id": "03ac0c65",
=======
   "id": "5f70da60",
>>>>>>> 6c25d2f1afd31725c9595ab9d8922b9d3c838629
   "metadata": {},
   "outputs": [],
   "source": [
    "table(sce$cluster)"
   ]
  },
  {
   "cell_type": "markdown",
<<<<<<< HEAD
<<<<<<< HEAD
   "id": "680dc1f1",
||||||| 00f6fb22
   "id": "a747f20c",
=======
   "id": "5fe0e61d",
>>>>>>> documentation-devel
||||||| d828f8eb
   "id": "680dc1f1",
=======
   "id": "f65f686c",
>>>>>>> 6c25d2f1afd31725c9595ab9d8922b9d3c838629
   "metadata": {
    "lines_to_next_cell": 0
   },
   "source": [
    "Then we use the conventional Wilcoxon rank sum test to find marker genes for each cluster. The test compares each cluster to the rest of the cells, and only genes more highly expressed in the cluster compared to the other cells are considered. The result is a list of data frames, where each data frame corresponds to one cluster. Areas under the receiver operator curve (AUC), distinguishing each cluster vs. any other cluster, are also included. The closer to 1 the better, while 0.5 means no better than random guessing. The false discovery rate (FDR) column contains the Benjamini-Hochberg corrected p-values. Genes in these data frames are already sorted by p-values."
   ]
  },
  {
   "cell_type": "code",
   "execution_count": null,
<<<<<<< HEAD
<<<<<<< HEAD
   "id": "cd0ecd3b",
||||||| 00f6fb22
   "id": "4d5c804a",
=======
   "id": "055b71b4",
>>>>>>> documentation-devel
||||||| d828f8eb
   "id": "cd0ecd3b",
=======
   "id": "89f55970",
>>>>>>> 6c25d2f1afd31725c9595ab9d8922b9d3c838629
   "metadata": {
    "lines_to_next_cell": 2
   },
   "outputs": [],
   "source": [
    "markers <- findMarkers(sce, groups = colData(sce)$cluster,\n",
    "                       test.type = \"wilcox\", pval.type = \"all\", direction = \"up\")\n",
    "markers[[4]]"
   ]
  },
  {
   "cell_type": "markdown",
<<<<<<< HEAD
<<<<<<< HEAD
   "id": "1cebd6c7",
||||||| 00f6fb22
   "id": "7a8ffb79",
=======
   "id": "c7dc6f9c",
>>>>>>> documentation-devel
||||||| d828f8eb
   "id": "1cebd6c7",
=======
   "id": "4532619e",
>>>>>>> 6c25d2f1afd31725c9595ab9d8922b9d3c838629
   "metadata": {},
   "source": [
    "See how specific the top markers are to each cluster:"
   ]
  },
  {
   "cell_type": "code",
   "execution_count": null,
<<<<<<< HEAD
<<<<<<< HEAD
   "id": "ac80e77f",
||||||| 00f6fb22
   "id": "eddfa773",
=======
   "id": "65e272fe",
>>>>>>> documentation-devel
||||||| d828f8eb
   "id": "ac80e77f",
=======
   "id": "bab46c4e",
>>>>>>> 6c25d2f1afd31725c9595ab9d8922b9d3c838629
   "metadata": {},
   "outputs": [],
   "source": [
    "top_markers <- unlist(lapply(markers, function(x) head(rownames(x), 1)))\n",
    "top_markers_symbol <- rowData(sce)[top_markers, \"Symbol\"]"
   ]
  },
  {
   "cell_type": "code",
   "execution_count": null,
<<<<<<< HEAD
<<<<<<< HEAD
   "id": "9645e6ed",
||||||| 00f6fb22
   "id": "cae5f971",
=======
   "id": "d9d5dd05",
>>>>>>> documentation-devel
||||||| d828f8eb
   "id": "9645e6ed",
=======
   "id": "9fc169c0",
>>>>>>> 6c25d2f1afd31725c9595ab9d8922b9d3c838629
   "metadata": {},
   "outputs": [],
   "source": [
    "plotExpression(sce, top_markers_symbol, x = \"cluster\", swap_rownames = \"Symbol\",\n",
    "               point_fun = function(...) list())"
   ]
  },
  {
   "cell_type": "markdown",
<<<<<<< HEAD
<<<<<<< HEAD
   "id": "f9ee092c",
||||||| 00f6fb22
   "id": "d2afc4a3",
=======
   "id": "f9772c0b",
>>>>>>> documentation-devel
||||||| d828f8eb
   "id": "f9ee092c",
=======
   "id": "79945fdf",
>>>>>>> 6c25d2f1afd31725c9595ab9d8922b9d3c838629
   "metadata": {
    "lines_to_next_cell": 0
   },
   "source": [
    "We can use the [gget info](https://pachterlab.github.io/gget/info.html) module from the [gget](https://pachterlab.github.io/gget/) package to get additional information for these marker genes. For example, their [NCBI](https://www.ncbi.nlm.nih.gov/) description:"
   ]
  },
  {
   "cell_type": "code",
   "execution_count": null,
<<<<<<< HEAD
<<<<<<< HEAD
   "id": "ffe5e6c2",
||||||| 00f6fb22
   "id": "6f1b9fd0",
=======
   "id": "68fb0148",
>>>>>>> documentation-devel
||||||| d828f8eb
   "id": "ffe5e6c2",
=======
   "id": "e8131cd0",
>>>>>>> 6c25d2f1afd31725c9595ab9d8922b9d3c838629
   "metadata": {},
   "outputs": [],
   "source": [
    "gget_info <- gget$info(top_markers)\n",
    "\n",
    "rownames(gget_info) <- gget_info$ensembl_gene_name\n",
    "select(gget_info, ncbi_description)"
   ]
  },
  {
   "cell_type": "markdown",
<<<<<<< HEAD
<<<<<<< HEAD
   "id": "23d41f2d",
||||||| 00f6fb22
   "id": "f4d4aac3",
=======
   "id": "6fac0b10",
>>>>>>> documentation-devel
||||||| d828f8eb
   "id": "23d41f2d",
=======
   "id": "5664252c",
>>>>>>> 6c25d2f1afd31725c9595ab9d8922b9d3c838629
   "metadata": {
    "lines_to_next_cell": 0
   },
   "source": [
    "# \"Spatial\" analyses for QC metrics\n",
    "Find k nearest neighbor graph in PCA space for Moran's I: We are not using `spdep` here since its `nb2listwdist()` function for distance based edge weighting requires 2-3 dimensional spatial coordinates while the coordinates here have 10 dimensions. Here, inverse distance weighting is used for edge weights."
   ]
  },
  {
   "cell_type": "code",
   "execution_count": null,
<<<<<<< HEAD
<<<<<<< HEAD
   "id": "e880d818",
||||||| 00f6fb22
   "id": "fa617051",
=======
   "id": "8bc2b6a1",
>>>>>>> documentation-devel
||||||| d828f8eb
   "id": "e880d818",
=======
   "id": "b85dbca2",
>>>>>>> 6c25d2f1afd31725c9595ab9d8922b9d3c838629
   "metadata": {},
   "outputs": [],
   "source": [
    "foo <- findKNN(reducedDim(sce, \"PCA\")[,1:10], k=10, BNPARAM=AnnoyParam())\n",
    "# Split by row\n",
    "foo_nb <- asplit(foo$index, 1)\n",
    "dmat <- 1/foo$distance\n",
    "# Row normalize the weights\n",
    "dmat <- sweep(dmat, 1, rowSums(dmat), FUN = \"/\")\n",
    "glist <- asplit(dmat, 1)\n",
    "# Sort based on index\n",
    "ord <- lapply(foo_nb, order)\n",
    "foo_nb <- lapply(seq_along(foo_nb), function(i) foo_nb[[i]][ord[[i]]])\n",
    "class(foo_nb) <- \"nb\"\n",
    "glist <- lapply(seq_along(glist), function(i) glist[[i]][ord[[i]]])\n",
    "\n",
    "listw <- list(style = \"W\",\n",
    "              neighbours = foo_nb,\n",
    "              weights = glist)\n",
    "class(listw) <- \"listw\"\n",
    "attr(listw, \"region.id\") <- colnames(sce)"
   ]
  },
  {
   "cell_type": "markdown",
<<<<<<< HEAD
<<<<<<< HEAD
   "id": "c8350a73",
||||||| 00f6fb22
   "id": "021ec954",
=======
   "id": "7d4d94e1",
>>>>>>> documentation-devel
||||||| d828f8eb
   "id": "c8350a73",
=======
   "id": "15c82a97",
>>>>>>> 6c25d2f1afd31725c9595ab9d8922b9d3c838629
   "metadata": {
    "lines_to_next_cell": 0
   },
   "source": [
    "Because there is no histological space, we convert the SCE object into `SpatialFeatureExperiment` (SFE) to use the spatial analysis and plotting functions from `Voyager`, and pretend that the first 2 PCs are the histological space."
   ]
  },
  {
   "cell_type": "code",
   "execution_count": null,
<<<<<<< HEAD
<<<<<<< HEAD
   "id": "66d3a031",
||||||| 00f6fb22
   "id": "c7fa2d88",
=======
   "id": "671bb616",
>>>>>>> documentation-devel
||||||| d828f8eb
   "id": "66d3a031",
=======
   "id": "0d2e58de",
>>>>>>> 6c25d2f1afd31725c9595ab9d8922b9d3c838629
   "metadata": {},
   "outputs": [],
   "source": [
    "(sfe <- toSpatialFeatureExperiment(sce, spatialCoords = reducedDim(sce, \"PCA\")[,1:2],\n",
    "                                  spatialCoordsNames = NULL))"
   ]
  },
  {
   "cell_type": "markdown",
<<<<<<< HEAD
<<<<<<< HEAD
   "id": "04be9919",
||||||| 00f6fb22
   "id": "9379a6ab",
=======
   "id": "1c16cbe7",
>>>>>>> documentation-devel
||||||| d828f8eb
   "id": "04be9919",
=======
   "id": "0beeea3c",
>>>>>>> 6c25d2f1afd31725c9595ab9d8922b9d3c838629
   "metadata": {
    "lines_to_next_cell": 0
   },
   "source": [
    "Add the k nearest neighbor graph to the SFE object:"
   ]
  },
  {
   "cell_type": "code",
   "execution_count": null,
<<<<<<< HEAD
<<<<<<< HEAD
   "id": "819e58c3",
||||||| 00f6fb22
   "id": "c91d4e96",
=======
   "id": "fc1cb41b",
>>>>>>> documentation-devel
||||||| d828f8eb
   "id": "819e58c3",
=======
   "id": "a9592d3e",
>>>>>>> 6c25d2f1afd31725c9595ab9d8922b9d3c838629
   "metadata": {},
   "outputs": [],
   "source": [
    "colGraph(sfe, \"knn10\") <- listw"
   ]
  },
  {
   "cell_type": "markdown",
<<<<<<< HEAD
<<<<<<< HEAD
   "id": "4a030d11",
||||||| 00f6fb22
   "id": "751af8cc",
=======
   "id": "632721ff",
>>>>>>> documentation-devel
||||||| d828f8eb
   "id": "4a030d11",
=======
   "id": "c90c5fb9",
>>>>>>> 6c25d2f1afd31725c9595ab9d8922b9d3c838629
   "metadata": {
    "lines_to_next_cell": 0
   },
   "source": [
    "## Moran's I"
   ]
  },
  {
   "cell_type": "code",
   "execution_count": null,
<<<<<<< HEAD
<<<<<<< HEAD
   "id": "3ab6a6db",
||||||| 00f6fb22
   "id": "48803425",
=======
   "id": "243cac6f",
>>>>>>> documentation-devel
||||||| d828f8eb
   "id": "3ab6a6db",
=======
   "id": "b704ed9b",
>>>>>>> 6c25d2f1afd31725c9595ab9d8922b9d3c838629
   "metadata": {},
   "outputs": [],
   "source": [
    "sfe <- colDataMoransI(sfe, c(\"sum\", \"detected\", \"subsets_mito_percent\"))\n",
    "colFeatureData(sfe)[c(\"sum\", \"detected\", \"subsets_mito_percent\"),]"
   ]
  },
  {
   "cell_type": "markdown",
<<<<<<< HEAD
<<<<<<< HEAD
   "id": "494ed656",
||||||| 00f6fb22
   "id": "9fbb6a34",
=======
   "id": "77f55e20",
>>>>>>> documentation-devel
||||||| d828f8eb
   "id": "494ed656",
=======
   "id": "ccfd4d8e",
>>>>>>> 6c25d2f1afd31725c9595ab9d8922b9d3c838629
   "metadata": {
    "lines_to_next_cell": 0
   },
   "source": [
    "For total UMI counts (sum) and genes detected (detected), Moran's I is quite strong, while it's positive but weaker for percentage of mitochondrial counts. The second column, K, is kurtosis of the feature of interest. \n",
    "\n",
    "## Moran plot\n",
    "\n",
    "How about the local variations on the k nearest neighbors graph? In the Moran plot, the x axis is the value for each cell, and the y axis is the average value among neighboring cells in the graph weighted by edge weights. The slope of the fitted line is Moran's I. Sometimes there are clusters in this plot, showing different kinds of neighborhoods."
   ]
  },
  {
   "cell_type": "code",
   "execution_count": null,
<<<<<<< HEAD
<<<<<<< HEAD
   "id": "d8dbe67e",
||||||| 00f6fb22
   "id": "c633ef06",
=======
   "id": "90283681",
>>>>>>> documentation-devel
||||||| d828f8eb
   "id": "d8dbe67e",
=======
   "id": "70747a58",
>>>>>>> 6c25d2f1afd31725c9595ab9d8922b9d3c838629
   "metadata": {},
   "outputs": [],
   "source": [
    "sfe <- colDataUnivariate(sfe, \"moran.plot\", c(\"sum\", \"detected\", \"subsets_mito_percent\"))"
   ]
  },
  {
   "cell_type": "markdown",
<<<<<<< HEAD
<<<<<<< HEAD
   "id": "40a37cf2",
||||||| 00f6fb22
   "id": "ff728ab3",
=======
   "id": "fa7773f7",
>>>>>>> documentation-devel
||||||| d828f8eb
   "id": "40a37cf2",
=======
   "id": "58cc762a",
>>>>>>> 6c25d2f1afd31725c9595ab9d8922b9d3c838629
   "metadata": {
    "lines_to_next_cell": 0
   },
   "source": [
    "The dashed lines are the averages on the x and y axes."
   ]
  },
  {
   "cell_type": "code",
   "execution_count": null,
<<<<<<< HEAD
<<<<<<< HEAD
   "id": "0d66035c",
||||||| 00f6fb22
   "id": "5dc9d0da",
=======
   "id": "20dd43bc",
>>>>>>> documentation-devel
||||||| d828f8eb
   "id": "0d66035c",
=======
   "id": "3cc2ec94",
>>>>>>> 6c25d2f1afd31725c9595ab9d8922b9d3c838629
   "metadata": {},
   "outputs": [],
   "source": [
    "moranPlot(sfe, \"sum\", color_by = \"cluster\")"
   ]
  },
  {
   "cell_type": "markdown",
<<<<<<< HEAD
<<<<<<< HEAD
   "id": "492e35ce",
||||||| 00f6fb22
   "id": "065b1ada",
=======
   "id": "28d6cd82",
>>>>>>> documentation-devel
||||||| d828f8eb
   "id": "492e35ce",
=======
   "id": "7ecd91c3",
>>>>>>> 6c25d2f1afd31725c9595ab9d8922b9d3c838629
   "metadata": {
    "lines_to_next_cell": 0
   },
   "source": [
    "While most cells are in the cluster around the average, there is a cluster of cells with lower total counts whose neighbors also have lower total counts. There also is a cluster of cells with higher total counts whose neighbors also have higher total counts. These clusters seem to be somewhat related to some gene expression based clusters."
   ]
  },
  {
   "cell_type": "code",
   "execution_count": null,
<<<<<<< HEAD
<<<<<<< HEAD
   "id": "aff96249",
||||||| 00f6fb22
   "id": "e344cec0",
=======
   "id": "c2626af1",
>>>>>>> documentation-devel
||||||| d828f8eb
   "id": "aff96249",
=======
   "id": "6117d7af",
>>>>>>> 6c25d2f1afd31725c9595ab9d8922b9d3c838629
   "metadata": {},
   "outputs": [],
   "source": [
    "moranPlot(sfe, \"detected\", color_by = \"cluster\")"
   ]
  },
  {
   "cell_type": "code",
   "execution_count": null,
<<<<<<< HEAD
<<<<<<< HEAD
   "id": "2129757a",
||||||| 00f6fb22
   "id": "8281b925",
=======
   "id": "5af565d7",
>>>>>>> documentation-devel
||||||| d828f8eb
   "id": "2129757a",
=======
   "id": "657d3ac1",
>>>>>>> 6c25d2f1afd31725c9595ab9d8922b9d3c838629
   "metadata": {},
   "outputs": [],
   "source": [
    "moranPlot(sfe, \"subsets_mito_percent\", color_by = \"cluster\")"
   ]
  },
  {
   "cell_type": "markdown",
<<<<<<< HEAD
<<<<<<< HEAD
   "id": "7beb373f",
||||||| 00f6fb22
   "id": "745b07a9",
=======
   "id": "0690b9da",
>>>>>>> documentation-devel
||||||| d828f8eb
   "id": "7beb373f",
=======
   "id": "1e15eecc",
>>>>>>> 6c25d2f1afd31725c9595ab9d8922b9d3c838629
   "metadata": {},
   "source": [
    "There is one main cluster on this plot for the number of genes detected and for the percentage of mitochondrial counts. However, cells are somewhat separated by gene expression clusters. This is not surprising because the gene expression clusters are also based on the k nearest neighbor graph. Cluster 4 cells have a higher percentage of mitochondrial counts and so do their neighbors. \n",
    "\n",
    "## Local Moran's I\n",
    "Also see local Moran's I for these 3 QC metrics:"
   ]
  },
  {
   "cell_type": "code",
   "execution_count": null,
<<<<<<< HEAD
<<<<<<< HEAD
   "id": "4afca643",
||||||| 00f6fb22
   "id": "fb0ab5bc",
=======
   "id": "38c25f06",
>>>>>>> documentation-devel
||||||| d828f8eb
   "id": "4afca643",
=======
   "id": "73257452",
>>>>>>> 6c25d2f1afd31725c9595ab9d8922b9d3c838629
   "metadata": {},
   "outputs": [],
   "source": [
    "sfe <- colDataUnivariate(sfe, \"localmoran\", c(\"sum\", \"detected\", \"subsets_mito_percent\"))"
   ]
  },
  {
   "cell_type": "markdown",
<<<<<<< HEAD
<<<<<<< HEAD
   "id": "c6b3a2a7",
||||||| 00f6fb22
   "id": "51336a6f",
=======
   "id": "1b3da348",
>>>>>>> documentation-devel
||||||| d828f8eb
   "id": "c6b3a2a7",
=======
   "id": "e74039f3",
>>>>>>> 6c25d2f1afd31725c9595ab9d8922b9d3c838629
   "metadata": {
    "lines_to_next_cell": 0
   },
   "source": [
    "Here, we don't have a histological space. So how can we visualize the local \"spatial\" statistics? [UMAP is bad](https://www.biorxiv.org/content/10.1101/2021.08.25.457696v1), but in this case PCA can somewhat separate the clusters. We can use the first 2 PCs as if they are the histological space. As a reference, we plot the metrics themselves and the clusters in the first 2 PCs. "
   ]
  },
  {
   "cell_type": "code",
   "execution_count": null,
<<<<<<< HEAD
<<<<<<< HEAD
   "id": "987f1c9c",
||||||| 00f6fb22
   "id": "db085a0f",
=======
   "id": "cd0b64da",
>>>>>>> documentation-devel
||||||| d828f8eb
   "id": "987f1c9c",
=======
   "id": "7beb6f33",
>>>>>>> 6c25d2f1afd31725c9595ab9d8922b9d3c838629
   "metadata": {
    "fig.height": 6,
    "fig.width": 8
   },
   "outputs": [],
   "source": [
    "plotSpatialFeature(sfe, c(\"sum\", \"detected\", \"subsets_mito_percent\", \"cluster\"))"
   ]
  },
  {
   "cell_type": "markdown",
<<<<<<< HEAD
<<<<<<< HEAD
   "id": "e2311639",
||||||| 00f6fb22
   "id": "1be8f819",
=======
   "id": "2a75fc61",
>>>>>>> documentation-devel
||||||| d828f8eb
   "id": "e2311639",
=======
   "id": "ddf5d3b2",
>>>>>>> 6c25d2f1afd31725c9595ab9d8922b9d3c838629
   "metadata": {
    "lines_to_next_cell": 0
   },
   "source": [
    "Plot the local Moran's I for these metrics in the first 2 PCs:"
   ]
  },
  {
   "cell_type": "code",
   "execution_count": null,
<<<<<<< HEAD
<<<<<<< HEAD
   "id": "0bcf04c7",
||||||| 00f6fb22
   "id": "98cab89e",
=======
   "id": "56a2fb2e",
>>>>>>> documentation-devel
||||||| d828f8eb
   "id": "0bcf04c7",
=======
   "id": "e910c6f5",
>>>>>>> 6c25d2f1afd31725c9595ab9d8922b9d3c838629
   "metadata": {
    "fig.height": 6,
    "fig.width": 8
   },
   "outputs": [],
   "source": [
    "plotLocalResult(sfe, \"localmoran\", c(\"sum\", \"detected\", \"subsets_mito_percent\"), \n",
    "                colGeometryName = \"centroids\",\n",
    "                divergent = TRUE, diverge_center = 0, ncol = 2)"
   ]
  },
  {
   "cell_type": "markdown",
<<<<<<< HEAD
<<<<<<< HEAD
   "id": "d114a784",
||||||| 00f6fb22
   "id": "ddf2afd3",
=======
   "id": "4f28acc5",
>>>>>>> documentation-devel
||||||| d828f8eb
   "id": "d114a784",
=======
   "id": "9646c1a7",
>>>>>>> 6c25d2f1afd31725c9595ab9d8922b9d3c838629
   "metadata": {
    "lines_to_next_cell": 0
   },
   "source": [
    "However, what if there is no good 2D representation of the data for easy plotting? Remember that here the k nearest neighbor graph was computed on the first 10 PCs rather than the first 2 PCs. The graph is not tied to the 2D representation. We can still plot histograms to show the distribution and scatter plots to compare the same local metric for different variables, which can be colored by another variable such as cluster. This may be added to the next release of Voyager. For now, we add the results of interest to `colData(sfe)` and use the existing `colData` plotting functions from `scater` and `Voyager`."
   ]
  },
  {
   "cell_type": "code",
   "execution_count": null,
<<<<<<< HEAD
<<<<<<< HEAD
   "id": "3f8f533d",
||||||| 00f6fb22
   "id": "c77def9e",
=======
   "id": "3596f1ae",
>>>>>>> documentation-devel
||||||| d828f8eb
   "id": "3f8f533d",
=======
   "id": "5a9d78dd",
>>>>>>> 6c25d2f1afd31725c9595ab9d8922b9d3c838629
   "metadata": {},
   "outputs": [],
   "source": [
    "localResultAttrs(sfe, \"localmoran\", \"sum\")"
   ]
  },
  {
   "cell_type": "code",
   "execution_count": null,
<<<<<<< HEAD
<<<<<<< HEAD
   "id": "7f173018",
||||||| 00f6fb22
   "id": "741caf8e",
=======
   "id": "21221939",
>>>>>>> documentation-devel
||||||| d828f8eb
   "id": "7f173018",
=======
   "id": "ecce0580",
>>>>>>> 6c25d2f1afd31725c9595ab9d8922b9d3c838629
   "metadata": {},
   "outputs": [],
   "source": [
    "sfe$sum_localmoran <- localResult(sfe, \"localmoran\", \"sum\")[,\"Ii\"]\n",
    "sfe$detected_localmoran <- localResult(sfe, \"localmoran\", \"detected\")[,\"Ii\"]\n",
    "sfe$pct_mito_localmoran <- localResult(sfe, \"localmoran\", \"subsets_mito_percent\")[,\"Ii\"]"
   ]
  },
  {
   "cell_type": "code",
   "execution_count": null,
<<<<<<< HEAD
<<<<<<< HEAD
   "id": "e7b7b228",
||||||| 00f6fb22
   "id": "4faa7b2e",
=======
   "id": "70e1434c",
>>>>>>> documentation-devel
||||||| d828f8eb
   "id": "e7b7b228",
=======
   "id": "bc668e03",
>>>>>>> 6c25d2f1afd31725c9595ab9d8922b9d3c838629
   "metadata": {},
   "outputs": [],
   "source": [
    "# Colorblind friendly palette\n",
    "data(\"ditto_colors\")"
   ]
  },
  {
   "cell_type": "code",
   "execution_count": null,
<<<<<<< HEAD
<<<<<<< HEAD
   "id": "7fb6d49c",
||||||| 00f6fb22
   "id": "78dacaff",
=======
   "id": "ef680f4d",
>>>>>>> documentation-devel
||||||| d828f8eb
   "id": "7fb6d49c",
=======
   "id": "2541d9bb",
>>>>>>> 6c25d2f1afd31725c9595ab9d8922b9d3c838629
   "metadata": {},
   "outputs": [],
   "source": [
    "plotColDataFreqpoly(sfe, c(\"sum_localmoran\", \"detected_localmoran\", \n",
    "                           \"pct_mito_localmoran\"), bins = 50, \n",
    "                    color_by = \"cluster\") +\n",
    "    scale_y_log10() +\n",
    "    annotation_logticks(sides = \"l\")"
   ]
  },
  {
   "cell_type": "markdown",
<<<<<<< HEAD
<<<<<<< HEAD
   "id": "ef759362",
||||||| 00f6fb22
   "id": "d96aafeb",
=======
   "id": "856f4d1d",
>>>>>>> documentation-devel
||||||| d828f8eb
   "id": "ef759362",
=======
   "id": "d51ba093",
>>>>>>> 6c25d2f1afd31725c9595ab9d8922b9d3c838629
   "metadata": {},
   "source": [
    "The y axis is log transformed (hence that warning when some bins have no cells), so the color of cells in the long tail can be seen because most cells don't have very strong local Moran's I. Cells in cluster 7 have high local Moran's I in total UMI counts and genes detected, which means that they tend to be more homogeneous in these QC metrics.\n",
    "\n",
    "How do local Moran's I for these QC metrics relate to each other?"
   ]
  },
  {
   "cell_type": "code",
   "execution_count": null,
<<<<<<< HEAD
<<<<<<< HEAD
   "id": "08231a2d",
||||||| 00f6fb22
   "id": "33c5d97c",
=======
   "id": "ea3684a5",
>>>>>>> documentation-devel
||||||| d828f8eb
   "id": "08231a2d",
=======
   "id": "f81cb914",
>>>>>>> 6c25d2f1afd31725c9595ab9d8922b9d3c838629
   "metadata": {},
   "outputs": [],
   "source": [
    "plotColData(sfe, x = \"sum_localmoran\", y = \"detected_localmoran\", \n",
    "            color_by = \"cluster\") +\n",
    "    scale_color_manual(values = ditto_colors)"
   ]
  },
  {
   "cell_type": "markdown",
<<<<<<< HEAD
<<<<<<< HEAD
   "id": "f8f2d4bb",
||||||| 00f6fb22
   "id": "05cfecbc",
=======
   "id": "396c03df",
>>>>>>> documentation-devel
||||||| d828f8eb
   "id": "f8f2d4bb",
=======
   "id": "a7410d9e",
>>>>>>> 6c25d2f1afd31725c9595ab9d8922b9d3c838629
   "metadata": {},
   "source": [
    "Cells more locally homogeneous in total UMI counts are also more homogeneous in number of genes detected, which is not surprising given the correlation between the two."
   ]
  },
  {
   "cell_type": "code",
   "execution_count": null,
<<<<<<< HEAD
<<<<<<< HEAD
   "id": "8a87adf1",
||||||| 00f6fb22
   "id": "ea2fb928",
=======
   "id": "577a8ae3",
>>>>>>> documentation-devel
||||||| d828f8eb
   "id": "8a87adf1",
=======
   "id": "602b41a7",
>>>>>>> 6c25d2f1afd31725c9595ab9d8922b9d3c838629
   "metadata": {},
   "outputs": [],
   "source": [
    "plotColData(sfe, x = \"sum_localmoran\", y = \"pct_mito_localmoran\", \n",
    "            color_by = \"cluster\") +\n",
    "    scale_color_manual(values = ditto_colors)"
   ]
  },
  {
   "cell_type": "markdown",
<<<<<<< HEAD
<<<<<<< HEAD
   "id": "6ee07d93",
||||||| 00f6fb22
   "id": "635b15b9",
=======
   "id": "815d19b0",
>>>>>>> documentation-devel
||||||| d828f8eb
   "id": "6ee07d93",
=======
   "id": "fa7edf02",
>>>>>>> 6c25d2f1afd31725c9595ab9d8922b9d3c838629
   "metadata": {
    "lines_to_next_cell": 0
   },
   "source": [
    "For local Moran's I, `sum` vs percentage mitochondrial counts shows a more interesting pattern, highlighting clusters 4 and 7 as in the Moran plots.\n",
    "\n",
    "How does local Moran's I relate to the value itself?"
   ]
  },
  {
   "cell_type": "code",
   "execution_count": null,
<<<<<<< HEAD
<<<<<<< HEAD
   "id": "57a16c2f",
||||||| 00f6fb22
   "id": "56405bff",
=======
   "id": "a5f6b689",
>>>>>>> documentation-devel
||||||| d828f8eb
   "id": "57a16c2f",
=======
   "id": "60438345",
>>>>>>> 6c25d2f1afd31725c9595ab9d8922b9d3c838629
   "metadata": {},
   "outputs": [],
   "source": [
    "plotColData(sfe, x = \"sum\", y = \"sum_localmoran\", color_by = \"cluster\") +\n",
    "    geom_density2d(data = as.data.frame(colData(sfe)),\n",
    "                   mapping = aes(x = sum, y = sum_localmoran), color = \"blue\", \n",
    "                   linewidth = 0.3) +\n",
    "    scale_color_manual(values = ditto_colors)"
   ]
  },
  {
   "cell_type": "markdown",
<<<<<<< HEAD
<<<<<<< HEAD
   "id": "90bfcc1d",
||||||| 00f6fb22
   "id": "dccb790d",
=======
   "id": "dcf8160c",
>>>>>>> documentation-devel
||||||| d828f8eb
   "id": "90bfcc1d",
=======
   "id": "73363f36",
>>>>>>> 6c25d2f1afd31725c9595ab9d8922b9d3c838629
   "metadata": {
    "lines_to_next_cell": 0
   },
   "source": [
    "In this case, generally cells with higher total counts also tend to have higher local Moran's I in total counts. However, there is another wing where cells with lower total counts have slightly higher local Moran's I in total counts and there's a central value of total counts with near 0 local Moran's I. The density contour shows that cells are concentrated at that central value.\n",
    "\n",
    "## Local spatial heteroscedasticity (LOSH)\n",
    "\n",
    "LOSH indicates heterogeneity around each cell in the k nearest neighbor graph."
   ]
  },
  {
   "cell_type": "code",
   "execution_count": null,
<<<<<<< HEAD
<<<<<<< HEAD
   "id": "41b8380d",
||||||| 00f6fb22
   "id": "cce1a863",
=======
   "id": "317efbf6",
>>>>>>> documentation-devel
||||||| d828f8eb
   "id": "41b8380d",
=======
   "id": "166b0e87",
>>>>>>> 6c25d2f1afd31725c9595ab9d8922b9d3c838629
   "metadata": {},
   "outputs": [],
   "source": [
    "sfe <- colDataUnivariate(sfe, \"LOSH\", c(\"sum\", \"detected\", \"subsets_mito_percent\"))"
   ]
  },
  {
   "cell_type": "code",
   "execution_count": null,
<<<<<<< HEAD
<<<<<<< HEAD
   "id": "d59c3aaa",
||||||| 00f6fb22
   "id": "9cd7add9",
=======
   "id": "738794fc",
>>>>>>> documentation-devel
||||||| d828f8eb
   "id": "d59c3aaa",
=======
   "id": "dd3a01df",
>>>>>>> 6c25d2f1afd31725c9595ab9d8922b9d3c838629
   "metadata": {
    "fig.height": 6,
    "fig.width": 8
   },
   "outputs": [],
   "source": [
    "plotLocalResult(sfe, \"LOSH\", c(\"sum\", \"detected\", \"subsets_mito_percent\"), \n",
    "                colGeometryName = \"centroids\", ncol = 2)"
   ]
  },
  {
   "cell_type": "markdown",
<<<<<<< HEAD
<<<<<<< HEAD
   "id": "db4956e4",
||||||| 00f6fb22
   "id": "d490df5f",
=======
   "id": "77bd8a89",
>>>>>>> documentation-devel
||||||| d828f8eb
   "id": "db4956e4",
=======
   "id": "551f2cd7",
>>>>>>> 6c25d2f1afd31725c9595ab9d8922b9d3c838629
   "metadata": {},
   "source": [
    "Here we make the same non-spatial plots for LOSH as in local Moran's I."
   ]
  },
  {
   "cell_type": "code",
   "execution_count": null,
<<<<<<< HEAD
<<<<<<< HEAD
   "id": "1e665956",
||||||| 00f6fb22
   "id": "00d09674",
=======
   "id": "6cd96e0b",
>>>>>>> documentation-devel
||||||| d828f8eb
   "id": "1e665956",
=======
   "id": "55b0eb89",
>>>>>>> 6c25d2f1afd31725c9595ab9d8922b9d3c838629
   "metadata": {},
   "outputs": [],
   "source": [
    "localResultAttrs(sfe, \"LOSH\", \"sum\")"
   ]
  },
  {
   "cell_type": "code",
   "execution_count": null,
<<<<<<< HEAD
<<<<<<< HEAD
   "id": "71c554d6",
||||||| 00f6fb22
   "id": "67c1a845",
=======
   "id": "ffe0399e",
>>>>>>> documentation-devel
||||||| d828f8eb
   "id": "71c554d6",
=======
   "id": "67ee8357",
>>>>>>> 6c25d2f1afd31725c9595ab9d8922b9d3c838629
   "metadata": {},
   "outputs": [],
   "source": [
    "sfe$sum_losh <- localResult(sfe, \"LOSH\", \"sum\")[,\"Hi\"]\n",
    "sfe$detected_losh <- localResult(sfe, \"LOSH\", \"detected\")[,\"Hi\"]\n",
    "sfe$pct_mito_losh <- localResult(sfe, \"LOSH\", \"subsets_mito_percent\")[,\"Hi\"]"
   ]
  },
  {
   "cell_type": "code",
   "execution_count": null,
<<<<<<< HEAD
<<<<<<< HEAD
   "id": "4527f69b",
||||||| 00f6fb22
   "id": "69cecc2a",
=======
   "id": "bc2264c5",
>>>>>>> documentation-devel
||||||| d828f8eb
   "id": "4527f69b",
=======
   "id": "6ffd2add",
>>>>>>> 6c25d2f1afd31725c9595ab9d8922b9d3c838629
   "metadata": {},
   "outputs": [],
   "source": [
    "plotColDataFreqpoly(sfe, c(\"sum_losh\", \"detected_losh\", \n",
    "                           \"pct_mito_losh\"), bins = 50, \n",
    "                     color_by = \"cluster\") +\n",
    "    scale_y_log10() +\n",
    "    annotation_logticks(sides = \"l\")"
   ]
  },
  {
   "cell_type": "markdown",
<<<<<<< HEAD
<<<<<<< HEAD
   "id": "71aae98d",
||||||| 00f6fb22
   "id": "1b07df63",
=======
   "id": "ff52579c",
>>>>>>> documentation-devel
||||||| d828f8eb
   "id": "71aae98d",
=======
   "id": "25e8703b",
>>>>>>> 6c25d2f1afd31725c9595ab9d8922b9d3c838629
   "metadata": {},
   "source": [
    "Here, clusters 2 and 6 tend to be more locally heterogeneous. How do total counts and genes detected relate in LOSH?"
   ]
  },
  {
   "cell_type": "code",
   "execution_count": null,
<<<<<<< HEAD
<<<<<<< HEAD
   "id": "5472d4b8",
||||||| 00f6fb22
   "id": "2eb0e81d",
=======
   "id": "8622428e",
>>>>>>> documentation-devel
||||||| d828f8eb
   "id": "5472d4b8",
=======
   "id": "2891789a",
>>>>>>> 6c25d2f1afd31725c9595ab9d8922b9d3c838629
   "metadata": {},
   "outputs": [],
   "source": [
    "plotColData(sfe, x = \"sum_losh\", y = \"detected_losh\", color_by = \"cluster\") +\n",
    "    scale_color_manual(values = ditto_colors)"
   ]
  },
  {
   "cell_type": "markdown",
<<<<<<< HEAD
<<<<<<< HEAD
   "id": "84f9d034",
||||||| 00f6fb22
   "id": "09635a19",
=======
   "id": "e98e1fbb",
>>>>>>> documentation-devel
||||||| d828f8eb
   "id": "84f9d034",
=======
   "id": "987cb86d",
>>>>>>> 6c25d2f1afd31725c9595ab9d8922b9d3c838629
   "metadata": {},
   "source": [
    "While generally cells higher in LOSH in total counts are also higher in LOSH in genes detected, there are some outliers that are very high in both, with more heterogeneous neighborhoods. Absolute distance to the neighbors is not taken into account when the adjacency matrix is row normalized. It would be interesting to see if those outliers tend to be further away from their 10 nearest neighbors, or in a region in the PCA space where cells are further apart.\n",
    "\n",
    "How does total counts itself relate to its LOSH?"
   ]
  },
  {
   "cell_type": "code",
   "execution_count": null,
<<<<<<< HEAD
<<<<<<< HEAD
   "id": "56138bd4",
||||||| 00f6fb22
   "id": "6094ca1e",
=======
   "id": "809be8bb",
>>>>>>> documentation-devel
||||||| d828f8eb
   "id": "56138bd4",
=======
   "id": "f6e16014",
>>>>>>> 6c25d2f1afd31725c9595ab9d8922b9d3c838629
   "metadata": {},
   "outputs": [],
   "source": [
    "plotColData(sfe, x = \"sum\", y = \"sum_losh\", color_by = \"cluster\") +\n",
    "    scale_color_manual(values = ditto_colors)"
   ]
  },
  {
   "cell_type": "markdown",
<<<<<<< HEAD
<<<<<<< HEAD
   "id": "36de18b5",
||||||| 00f6fb22
   "id": "c9b53dc0",
=======
   "id": "61cca92c",
>>>>>>> documentation-devel
||||||| d828f8eb
   "id": "36de18b5",
=======
   "id": "1da655da",
>>>>>>> 6c25d2f1afd31725c9595ab9d8922b9d3c838629
   "metadata": {
    "lines_to_next_cell": 0
   },
   "source": [
    "There does not seem to be a clear relationship in this case. \n",
    "\n",
    "# \"Spatial\" analyses for gene expression\n",
    "First, we need to reorganize the differential expression results:"
   ]
  },
  {
   "cell_type": "code",
   "execution_count": null,
<<<<<<< HEAD
<<<<<<< HEAD
   "id": "a5fbce32",
||||||| 00f6fb22
   "id": "cf341f04",
=======
   "id": "c773612d",
>>>>>>> documentation-devel
||||||| d828f8eb
   "id": "a5fbce32",
=======
   "id": "823ed70c",
>>>>>>> 6c25d2f1afd31725c9595ab9d8922b9d3c838629
   "metadata": {},
   "outputs": [],
   "source": [
    "top_markers_df <- lapply(seq_along(markers), function(i) {\n",
    "    out <- markers[[i]][markers[[i]]$FDR < 0.05, c(\"FDR\", \"summary.AUC\")]\n",
    "    if (nrow(out)) out$cluster <- i\n",
    "    out\n",
    "})\n",
    "top_markers_df <- do.call(rbind, top_markers_df)\n",
    "top_markers_df$symbol <- rowData(sce)[rownames(top_markers_df), \"Symbol\"]"
   ]
  },
  {
   "cell_type": "markdown",
<<<<<<< HEAD
<<<<<<< HEAD
   "id": "a655d4a5",
||||||| 00f6fb22
   "id": "f84253b0",
=======
   "id": "031bbe9c",
>>>>>>> documentation-devel
||||||| d828f8eb
   "id": "a655d4a5",
=======
   "id": "ae5c6f31",
>>>>>>> 6c25d2f1afd31725c9595ab9d8922b9d3c838629
   "metadata": {
    "lines_to_next_cell": 0
   },
   "source": [
    "## Moran's I"
   ]
  },
  {
   "cell_type": "code",
   "execution_count": null,
<<<<<<< HEAD
<<<<<<< HEAD
   "id": "b56339ab",
||||||| 00f6fb22
   "id": "cc41b457",
=======
   "id": "d7a79bd9",
>>>>>>> documentation-devel
||||||| d828f8eb
   "id": "b56339ab",
=======
   "id": "d5da715a",
>>>>>>> 6c25d2f1afd31725c9595ab9d8922b9d3c838629
   "metadata": {},
   "outputs": [],
   "source": [
    "sfe <- runMoransI(sfe, features = hvgs, BPPARAM = MulticoreParam(2))"
   ]
  },
  {
   "cell_type": "markdown",
<<<<<<< HEAD
<<<<<<< HEAD
   "id": "9289e7b2",
||||||| 00f6fb22
   "id": "4dd60cbd",
=======
   "id": "a9082147",
>>>>>>> documentation-devel
||||||| d828f8eb
   "id": "9289e7b2",
=======
   "id": "8df84596",
>>>>>>> 6c25d2f1afd31725c9595ab9d8922b9d3c838629
   "metadata": {
    "lines_to_next_cell": 0
   },
   "source": [
    "The results are added to `rowData(sfe)`. The NA's are for non-highly variable genes, as Moran's I was only computed for highly variable genes here."
   ]
  },
  {
   "cell_type": "code",
   "execution_count": null,
<<<<<<< HEAD
<<<<<<< HEAD
   "id": "3baec931",
||||||| 00f6fb22
   "id": "70e920dd",
=======
   "id": "1135f4ae",
>>>>>>> documentation-devel
||||||| d828f8eb
   "id": "3baec931",
=======
   "id": "14b49a8d",
>>>>>>> 6c25d2f1afd31725c9595ab9d8922b9d3c838629
   "metadata": {},
   "outputs": [],
   "source": [
    "rowData(sfe)"
   ]
  },
  {
   "cell_type": "markdown",
<<<<<<< HEAD
<<<<<<< HEAD
   "id": "8b766aeb",
||||||| 00f6fb22
   "id": "6050d531",
=======
   "id": "bff127f0",
>>>>>>> documentation-devel
||||||| d828f8eb
   "id": "8b766aeb",
=======
   "id": "0565334b",
>>>>>>> 6c25d2f1afd31725c9595ab9d8922b9d3c838629
   "metadata": {
    "lines_to_next_cell": 0
   },
   "source": [
    "How are the Moran's I's for highly variable genes distributed? Also, where are the top cluster marker genes in this distribution?"
   ]
  },
  {
   "cell_type": "code",
   "execution_count": null,
<<<<<<< HEAD
<<<<<<< HEAD
   "id": "aa41b243",
||||||| 00f6fb22
   "id": "e8c47403",
=======
   "id": "aa89ecfb",
>>>>>>> documentation-devel
||||||| d828f8eb
   "id": "aa41b243",
=======
   "id": "765fcf46",
>>>>>>> 6c25d2f1afd31725c9595ab9d8922b9d3c838629
   "metadata": {},
   "outputs": [],
   "source": [
    "plotRowDataHistogram(sfe, \"moran_sample01\", bins = 50) +\n",
    "    geom_vline(data = as.data.frame(rowData(sfe)[top_markers,]) |> \n",
    "                   mutate(index = seq_along(top_markers)),\n",
    "               aes(xintercept = moran_sample01, color = index)) +\n",
    "    scale_color_continuous(breaks = scales::breaks_width(2))"
   ]
  },
  {
   "cell_type": "markdown",
<<<<<<< HEAD
<<<<<<< HEAD
   "id": "93bf7aa2",
||||||| 00f6fb22
   "id": "d23e0aae",
=======
   "id": "c6792866",
>>>>>>> documentation-devel
||||||| d828f8eb
   "id": "93bf7aa2",
=======
   "id": "f18da196",
>>>>>>> 6c25d2f1afd31725c9595ab9d8922b9d3c838629
   "metadata": {},
   "source": [
    "The top marker genes all have quite positive Moran's I on the k nearest neighbor graph. It would also be interesting to color this histogram by gene sets. Since the k nearest neighbor graph was found in PCA space, which is based on gene expression, as expected, Moran's I with this graph is mostly positive, although often not that strong. A small number of genes have slightly negative Moran's I. What do the top genes look like in PCA?"
   ]
  },
  {
   "cell_type": "code",
   "execution_count": null,
<<<<<<< HEAD
<<<<<<< HEAD
   "id": "7d3d5201",
||||||| 00f6fb22
   "id": "30563bbe",
=======
   "id": "b07dc17d",
>>>>>>> documentation-devel
||||||| d828f8eb
   "id": "7d3d5201",
=======
   "id": "159d49b5",
>>>>>>> 6c25d2f1afd31725c9595ab9d8922b9d3c838629
   "metadata": {
    "fig.height": 6,
    "fig.width": 8
   },
   "outputs": [],
   "source": [
    "top_moran <- head(rownames(sfe)[order(rowData(sfe)$moran_sample01, decreasing = TRUE)], 4)\n",
    "plotSpatialFeature(sfe, top_moran, ncol = 2)"
   ]
  },
  {
   "cell_type": "code",
   "execution_count": null,
<<<<<<< HEAD
<<<<<<< HEAD
   "id": "e3343acf",
||||||| 00f6fb22
   "id": "532a74df",
=======
   "id": "3384d553",
>>>>>>> documentation-devel
||||||| d828f8eb
   "id": "e3343acf",
=======
   "id": "eb3743b5",
>>>>>>> 6c25d2f1afd31725c9595ab9d8922b9d3c838629
   "metadata": {},
   "outputs": [],
   "source": [
    "top_moran_symbol <- rowData(sfe)[top_moran, \"Symbol\"]\n",
    "plotExpression(sfe, top_moran_symbol, swap_rownames = \"Symbol\")"
   ]
  },
  {
   "cell_type": "markdown",
<<<<<<< HEAD
<<<<<<< HEAD
   "id": "5d67b136",
||||||| 00f6fb22
   "id": "585d1e1f",
=======
   "id": "c143d038",
>>>>>>> documentation-devel
||||||| d828f8eb
   "id": "5d67b136",
=======
   "id": "68d08cfa",
>>>>>>> 6c25d2f1afd31725c9595ab9d8922b9d3c838629
   "metadata": {},
   "source": [
    "They are all marker genes for the same cluster, cluster 9. Perhaps these genes have high Moran's I because they are specific to a cell type. Then how does the Moran's I relate to cluster AUC and cluster differential expression p-value?"
   ]
  },
  {
   "cell_type": "code",
   "execution_count": null,
<<<<<<< HEAD
<<<<<<< HEAD
   "id": "df64a3f9",
||||||| 00f6fb22
   "id": "227a429b",
=======
   "id": "18c4efb4",
>>>>>>> documentation-devel
||||||| d828f8eb
   "id": "df64a3f9",
=======
   "id": "ffbe0a20",
>>>>>>> 6c25d2f1afd31725c9595ab9d8922b9d3c838629
   "metadata": {},
   "outputs": [],
   "source": [
    "# See if markers are unique to clusters\n",
    "anyDuplicated(rownames(top_markers_df))"
   ]
  },
  {
   "cell_type": "code",
   "execution_count": null,
<<<<<<< HEAD
<<<<<<< HEAD
   "id": "b2c1f75a",
||||||| 00f6fb22
   "id": "4ed033d1",
=======
   "id": "d410d00c",
>>>>>>> documentation-devel
||||||| d828f8eb
   "id": "b2c1f75a",
=======
   "id": "8ca0891d",
>>>>>>> 6c25d2f1afd31725c9595ab9d8922b9d3c838629
   "metadata": {},
   "outputs": [],
   "source": [
    "top_markers_df$moran <- rowData(sfe)[rownames(top_markers_df), \"moran_sample01\"]\n",
    "top_markers_df$log_p_adj <- -log10(top_markers_df$FDR)\n",
    "top_markers_df$cluster <- factor(top_markers_df$cluster, \n",
    "                                 levels = seq_len(length(unique(top_markers_df$cluster))))"
   ]
  },
  {
   "cell_type": "markdown",
<<<<<<< HEAD
<<<<<<< HEAD
   "id": "a979a427",
||||||| 00f6fb22
   "id": "81f5ff1b",
=======
   "id": "d3bf05c8",
>>>>>>> documentation-devel
||||||| d828f8eb
   "id": "a979a427",
=======
   "id": "dd2e1615",
>>>>>>> 6c25d2f1afd31725c9595ab9d8922b9d3c838629
   "metadata": {
    "lines_to_next_cell": 0
   },
   "source": [
    "How does the differential expression p-value relate to Moran's I?"
   ]
  },
  {
   "cell_type": "code",
   "execution_count": null,
<<<<<<< HEAD
<<<<<<< HEAD
   "id": "27eaa82f",
||||||| 00f6fb22
   "id": "8c27d18a",
=======
   "id": "f0a02620",
>>>>>>> documentation-devel
||||||| d828f8eb
   "id": "27eaa82f",
=======
   "id": "5987a75c",
>>>>>>> 6c25d2f1afd31725c9595ab9d8922b9d3c838629
   "metadata": {},
   "outputs": [],
   "source": [
    "as.data.frame(top_markers_df) |> \n",
    "    ggplot(aes(log_p_adj, moran)) +\n",
    "    geom_point(aes(color = cluster)) +\n",
    "    geom_smooth(method = \"lm\") +\n",
    "    scale_color_manual(values = ditto_colors)"
   ]
  },
  {
   "cell_type": "markdown",
<<<<<<< HEAD
<<<<<<< HEAD
   "id": "4d3899cd",
||||||| 00f6fb22
   "id": "19cfa601",
=======
   "id": "fb060edc",
>>>>>>> documentation-devel
||||||| d828f8eb
   "id": "4d3899cd",
=======
   "id": "5966c9e1",
>>>>>>> 6c25d2f1afd31725c9595ab9d8922b9d3c838629
   "metadata": {},
   "source": [
    "Generally, more significant marker genes tend to have higher Moran's I. This is not surprising because the clusters and Moran's I here are both based on the k nearest neighbor graph."
   ]
  },
  {
   "cell_type": "code",
   "execution_count": null,
<<<<<<< HEAD
<<<<<<< HEAD
   "id": "66e143b9",
||||||| 00f6fb22
   "id": "76b20d3f",
=======
   "id": "0957ff3a",
>>>>>>> documentation-devel
||||||| d828f8eb
   "id": "66e143b9",
=======
   "id": "d106fa74",
>>>>>>> 6c25d2f1afd31725c9595ab9d8922b9d3c838629
   "metadata": {},
   "outputs": [],
   "source": [
    "as.data.frame(top_markers_df) |> \n",
    "    ggplot(aes(summary.AUC, moran)) +\n",
    "    geom_point(aes(color = cluster)) +\n",
    "    geom_smooth(method = \"lm\") +\n",
    "    scale_color_manual(values = ditto_colors)"
   ]
  },
  {
   "cell_type": "markdown",
<<<<<<< HEAD
<<<<<<< HEAD
   "id": "250be285",
||||||| 00f6fb22
   "id": "ab65e5c4",
=======
   "id": "65d6a8fe",
>>>>>>> documentation-devel
||||||| d828f8eb
   "id": "250be285",
=======
   "id": "4119fcc6",
>>>>>>> 6c25d2f1afd31725c9595ab9d8922b9d3c838629
   "metadata": {
    "lines_to_next_cell": 0
   },
   "source": [
    "Similarly, genes with higher AUC tend to have higher Moran's I. For other clusters, generally speaking, genes more specific to a cluster tend to have higher Moran's I.\n",
    "\n",
    "Let's use permutation testing to see if Moran's I is statistically significant:"
   ]
  },
  {
   "cell_type": "code",
   "execution_count": null,
<<<<<<< HEAD
<<<<<<< HEAD
   "id": "e1c99c07",
||||||| 00f6fb22
   "id": "efc4ed0a",
=======
   "id": "e42f7440",
>>>>>>> documentation-devel
||||||| d828f8eb
   "id": "e1c99c07",
=======
   "id": "ecaf4cb1",
>>>>>>> 6c25d2f1afd31725c9595ab9d8922b9d3c838629
   "metadata": {},
   "outputs": [],
   "source": [
    "sfe <- runUnivariate(sfe, \"moran.mc\", features = top_markers, nsim = 200)"
   ]
  },
  {
   "cell_type": "code",
   "execution_count": null,
<<<<<<< HEAD
<<<<<<< HEAD
   "id": "0617ad7a",
||||||| 00f6fb22
   "id": "18e2f23b",
=======
   "id": "7f38270f",
>>>>>>> documentation-devel
||||||| d828f8eb
   "id": "0617ad7a",
=======
   "id": "dd0d7a19",
>>>>>>> 6c25d2f1afd31725c9595ab9d8922b9d3c838629
   "metadata": {},
   "outputs": [],
   "source": [
    "top_markers_symbol"
   ]
  },
  {
   "cell_type": "code",
   "execution_count": null,
<<<<<<< HEAD
<<<<<<< HEAD
   "id": "85621bba",
||||||| 00f6fb22
   "id": "f0c7446e",
=======
   "id": "a3d5544b",
>>>>>>> documentation-devel
||||||| d828f8eb
   "id": "85621bba",
=======
   "id": "bba84f1b",
>>>>>>> 6c25d2f1afd31725c9595ab9d8922b9d3c838629
   "metadata": {},
   "outputs": [],
   "source": [
    "plotMoranMC(sfe, top_markers, swap_rownames = \"Symbol\")"
   ]
  },
  {
   "cell_type": "markdown",
<<<<<<< HEAD
<<<<<<< HEAD
   "id": "eb55ebf4",
||||||| 00f6fb22
   "id": "78f39774",
=======
   "id": "e55182d0",
>>>>>>> documentation-devel
||||||| d828f8eb
   "id": "eb55ebf4",
=======
   "id": "3dcea1b9",
>>>>>>> 6c25d2f1afd31725c9595ab9d8922b9d3c838629
   "metadata": {},
   "source": [
    "They all seem to be very significant. \n",
    "\n",
    "The correlogram finds Moran's I for a higher order of neighbors and can be a proxy for distance. "
   ]
  },
  {
   "cell_type": "code",
   "execution_count": null,
<<<<<<< HEAD
<<<<<<< HEAD
   "id": "83f57168",
||||||| 00f6fb22
   "id": "f97a8494",
=======
   "id": "95edcb33",
>>>>>>> documentation-devel
||||||| d828f8eb
   "id": "83f57168",
=======
   "id": "ea3e8ae7",
>>>>>>> 6c25d2f1afd31725c9595ab9d8922b9d3c838629
   "metadata": {},
   "outputs": [],
   "source": [
    "system.time({\n",
    "    sfe <- runUnivariate(sfe, \"sp.correlogram\", top_markers, order = 6, \n",
    "                     zero.policy = TRUE, BPPARAM = MulticoreParam(2))\n",
    "})"
   ]
  },
  {
   "cell_type": "code",
   "execution_count": null,
<<<<<<< HEAD
<<<<<<< HEAD
   "id": "31015b04",
||||||| 00f6fb22
   "id": "8d24fd7c",
=======
   "id": "635feb50",
>>>>>>> documentation-devel
||||||| d828f8eb
   "id": "31015b04",
=======
   "id": "b1318034",
>>>>>>> 6c25d2f1afd31725c9595ab9d8922b9d3c838629
   "metadata": {},
   "outputs": [],
   "source": [
    "plotCorrelogram(sfe, top_markers, swap_rownames = \"Symbol\")"
   ]
  },
  {
   "cell_type": "markdown",
<<<<<<< HEAD
<<<<<<< HEAD
   "id": "aeefdd67",
||||||| 00f6fb22
   "id": "96a012f7",
=======
   "id": "d81e2bad",
>>>>>>> documentation-devel
||||||| d828f8eb
   "id": "aeefdd67",
=======
   "id": "09536927",
>>>>>>> 6c25d2f1afd31725c9595ab9d8922b9d3c838629
   "metadata": {
    "lines_to_next_cell": 0
   },
   "source": [
    "We see different patterns of decay in spatial autocorrelation and different length scales of spatial autocorrelation. CLU is a marker gene very specific to the smallest cluster, so higher order neighbors are very likely to be from other clusters. Marker genes for the other larger clusters with hundreds of cells nevertheless display different patterns in the correlogram.\n",
    "\n",
    "## Local Moran's I"
   ]
  },
  {
   "cell_type": "code",
   "execution_count": null,
<<<<<<< HEAD
<<<<<<< HEAD
   "id": "8eb6ab27",
||||||| 00f6fb22
   "id": "54429fbb",
=======
   "id": "c21443f3",
>>>>>>> documentation-devel
||||||| d828f8eb
   "id": "8eb6ab27",
=======
   "id": "ee9af9a7",
>>>>>>> 6c25d2f1afd31725c9595ab9d8922b9d3c838629
   "metadata": {},
   "outputs": [],
   "source": [
    "sfe <- runUnivariate(sfe, \"localmoran\", features = top_markers)"
   ]
  },
  {
   "cell_type": "code",
   "execution_count": null,
<<<<<<< HEAD
<<<<<<< HEAD
   "id": "f5d0a3d6",
||||||| 00f6fb22
   "id": "e83881c4",
=======
   "id": "16c0be99",
>>>>>>> documentation-devel
||||||| d828f8eb
   "id": "f5d0a3d6",
=======
   "id": "b9c261e7",
>>>>>>> 6c25d2f1afd31725c9595ab9d8922b9d3c838629
   "metadata": {
    "fig.height": 9,
    "fig.width": 12
   },
   "outputs": [],
   "source": [
    "plotLocalResult(sfe, \"localmoran\", top_markers, colGeometryName = \"centroids\", \n",
    "                divergent = TRUE, diverge_center = 0, ncol = 3,\n",
    "                swap_rownames = \"Symbol\")"
   ]
  },
  {
   "cell_type": "markdown",
<<<<<<< HEAD
<<<<<<< HEAD
   "id": "f89b54c9",
||||||| 00f6fb22
   "id": "157eab46",
=======
   "id": "b3be5cf6",
>>>>>>> documentation-devel
||||||| d828f8eb
   "id": "f89b54c9",
=======
   "id": "d7b6dc65",
>>>>>>> 6c25d2f1afd31725c9595ab9d8922b9d3c838629
   "metadata": {},
   "source": [
    "We will also plot the histograms, but for now the results need to be added to `colData` first."
   ]
  },
  {
   "cell_type": "code",
   "execution_count": null,
<<<<<<< HEAD
<<<<<<< HEAD
   "id": "cc3bf438",
||||||| 00f6fb22
   "id": "4733143e",
=======
   "id": "434398d3",
>>>>>>> documentation-devel
||||||| d828f8eb
   "id": "cc3bf438",
=======
   "id": "968c3f2d",
>>>>>>> 6c25d2f1afd31725c9595ab9d8922b9d3c838629
   "metadata": {},
   "outputs": [],
   "source": [
    "new_colname <- paste0(\"cluster\", seq_along(top_markers), \"_\", \n",
    "                      top_markers_symbol, \"_localmoran\")\n",
    "for (i in seq_along(top_markers)) {\n",
    "    g <- top_markers[i]\n",
    "    colData(sfe)[[new_colname[i]]] <- \n",
    "        localResult(sfe, \"localmoran\", g)[,\"Ii\"]\n",
    "}"
   ]
  },
  {
   "cell_type": "code",
   "execution_count": null,
<<<<<<< HEAD
<<<<<<< HEAD
   "id": "173ba96e",
||||||| 00f6fb22
   "id": "223d5b0e",
=======
   "id": "2708ccff",
>>>>>>> documentation-devel
||||||| d828f8eb
   "id": "173ba96e",
=======
   "id": "6fdf2619",
>>>>>>> 6c25d2f1afd31725c9595ab9d8922b9d3c838629
   "metadata": {
    "fig.height": 12,
    "fig.width": 8
   },
   "outputs": [],
   "source": [
    "plotColDataFreqpoly(sfe, new_colname, color_by = \"cluster\") +\n",
    "    ggtitle(\"Local Moran's I\") +\n",
    "    theme(legend.position = \"top\") +\n",
    "    scale_y_log10() +\n",
    "    annotation_logticks(sides = \"l\")"
   ]
  },
  {
   "cell_type": "markdown",
<<<<<<< HEAD
<<<<<<< HEAD
   "id": "41f725bb",
||||||| 00f6fb22
   "id": "b29b9b58",
=======
   "id": "e07ea78d",
>>>>>>> documentation-devel
||||||| d828f8eb
   "id": "41f725bb",
=======
   "id": "660489a2",
>>>>>>> 6c25d2f1afd31725c9595ab9d8922b9d3c838629
   "metadata": {
    "lines_to_next_cell": 0
   },
   "source": [
    "Again, the y axis is log transformed to make the tail more visible. For some clusters, the top marker gene's local Moran's I forms its own peak for cells in the cluster with higher local Moran's I than other cells. However, sometimes cells within the cluster form a long tail shared with some cells from other clusters. Then the local Moran's I could be another method for differential expression. Or since both local Moran's I and Leiden clustering use the k nearest neighbor graph in PCA space, local Moran's I of marker genes or perhaps eigengenes signifying gene programs for each cell type on this k nearest neighbor graph can validate or criticize Leiden clusters. Furthermore, interestingly, for some genes, the tallest peak in the histogram is away from 0.\n",
    "\n",
    "The scatter plots as shown in the \"spatial\" analyses for the QC metrics section can be made to see how local Moran's I relates to the expression of the gene itself."
   ]
  },
  {
   "cell_type": "code",
   "execution_count": null,
<<<<<<< HEAD
<<<<<<< HEAD
   "id": "89a07e2d",
||||||| 00f6fb22
   "id": "119f409a",
=======
   "id": "2567f798",
>>>>>>> documentation-devel
||||||| d828f8eb
   "id": "89a07e2d",
=======
   "id": "d3539a0f",
>>>>>>> 6c25d2f1afd31725c9595ab9d8922b9d3c838629
   "metadata": {},
   "outputs": [],
   "source": [
    "i <- 6 # Change if running this notebook\n",
    "plotExpression(sfe, top_markers_symbol[i], x = new_colname[i], color_by = \"cluster\",\n",
    "               swap_rownames = \"Symbol\") +\n",
    "    scale_color_manual(values = ditto_colors) +\n",
    "    coord_flip() +\n",
    "    # comment out in case of error after changing i\n",
    "    geom_density2d(data = as.data.frame(colData(sfe)) |> \n",
    "                       mutate(gene = logcounts(sfe)[top_markers[i],]),\n",
    "                   mapping = aes(x = .data[[new_colname[i]]], y = gene), \n",
    "                   color = \"blue\", linewidth = 0.3) "
   ]
  },
  {
   "cell_type": "markdown",
<<<<<<< HEAD
<<<<<<< HEAD
   "id": "81f123c2",
||||||| 00f6fb22
   "id": "e7cabf98",
=======
   "id": "6e166825",
>>>>>>> documentation-devel
||||||| d828f8eb
   "id": "81f123c2",
=======
   "id": "e90ec467",
>>>>>>> 6c25d2f1afd31725c9595ab9d8922b9d3c838629
   "metadata": {},
   "source": [
    "For this gene, just like for total UMI counts, there are two wings and a central value where local Moran's I is around 0. Generally, cells with higher expression of this gene have higher local Moran's I for this gene as well. The density contours show that cells concentrate around 0 expression and some weaker positive local Moran. The streak of cells with 0 expression means that many cells don't express this gene, and their neighbors have low and slightly homogeneous expression of this gene. This pattern may be different for different genes. Also, the p-values for each cell for local Moran's I are available and corrected for multiple hypothesis testing, and can be plotted. The p-values are based on the z score of the local Moran statistic, although how the statistic is distributed for gene expression data warrants more investigation. This p-value can also be computed with permutation (see `localmoran_perm()`). "
   ]
  },
  {
   "cell_type": "code",
   "execution_count": null,
<<<<<<< HEAD
<<<<<<< HEAD
   "id": "4bb480f7",
||||||| 00f6fb22
   "id": "6370c48b",
=======
   "id": "995290c7",
>>>>>>> documentation-devel
||||||| d828f8eb
   "id": "4bb480f7",
=======
   "id": "f8057b30",
>>>>>>> 6c25d2f1afd31725c9595ab9d8922b9d3c838629
   "metadata": {},
   "outputs": [],
   "source": [
    "localResultAttrs(sfe, \"localmoran\", top_markers[1])"
   ]
  },
  {
   "cell_type": "markdown",
<<<<<<< HEAD
<<<<<<< HEAD
   "id": "5867efed",
||||||| 00f6fb22
   "id": "9857dec2",
=======
   "id": "4824dfbb",
>>>>>>> documentation-devel
||||||| d828f8eb
   "id": "5867efed",
=======
   "id": "4b8c9de5",
>>>>>>> 6c25d2f1afd31725c9595ab9d8922b9d3c838629
   "metadata": {},
   "source": [
    "## LOSH"
   ]
  },
  {
   "cell_type": "code",
   "execution_count": null,
<<<<<<< HEAD
<<<<<<< HEAD
   "id": "7507984d",
||||||| 00f6fb22
   "id": "8a0bd0e9",
=======
   "id": "d1ac2bd2",
>>>>>>> documentation-devel
||||||| d828f8eb
   "id": "7507984d",
=======
   "id": "22faffc3",
>>>>>>> 6c25d2f1afd31725c9595ab9d8922b9d3c838629
   "metadata": {},
   "outputs": [],
   "source": [
    "sfe <- runUnivariate(sfe, \"LOSH\", top_markers)"
   ]
  },
  {
   "cell_type": "code",
   "execution_count": null,
<<<<<<< HEAD
<<<<<<< HEAD
   "id": "0fac103f",
||||||| 00f6fb22
   "id": "0c91352d",
=======
   "id": "38a19f38",
>>>>>>> documentation-devel
||||||| d828f8eb
   "id": "0fac103f",
=======
   "id": "6541b2d0",
>>>>>>> 6c25d2f1afd31725c9595ab9d8922b9d3c838629
   "metadata": {
    "fig.height": 9,
    "fig.width": 12
   },
   "outputs": [],
   "source": [
    "plotLocalResult(sfe, \"LOSH\", top_markers, colGeometryName = \"centroids\", ncol = 3,\n",
    "                swap_rownames = \"Symbol\")"
   ]
  },
  {
   "cell_type": "markdown",
<<<<<<< HEAD
<<<<<<< HEAD
   "id": "8342b684",
||||||| 00f6fb22
   "id": "b6fad4d1",
=======
   "id": "2a181630",
>>>>>>> documentation-devel
||||||| d828f8eb
   "id": "8342b684",
=======
   "id": "6f094c05",
>>>>>>> 6c25d2f1afd31725c9595ab9d8922b9d3c838629
   "metadata": {
    "lines_to_next_cell": 0
   },
   "source": [
    "In the two genes on the right, it's interesting to see higher LOSH in the middle cluster. The two genes on the left have some outliers throwing off the dynamic range, but it seems that their high LOSH regions are different.\n",
    "\n",
    "Again, we plot the histograms:"
   ]
  },
  {
   "cell_type": "code",
   "execution_count": null,
<<<<<<< HEAD
<<<<<<< HEAD
   "id": "f66730d7",
||||||| 00f6fb22
   "id": "687f3315",
=======
   "id": "f51b8866",
>>>>>>> documentation-devel
||||||| d828f8eb
   "id": "f66730d7",
=======
   "id": "69f68fe0",
>>>>>>> 6c25d2f1afd31725c9595ab9d8922b9d3c838629
   "metadata": {},
   "outputs": [],
   "source": [
    "new_colname2 <- paste0(\"cluster\", seq_along(top_markers), \"_\", \n",
    "                      top_markers_symbol, \"_losh\")\n",
    "for (i in seq_along(top_markers)) {\n",
    "    g <- top_markers[i]\n",
    "    colData(sfe)[[new_colname2[i]]] <- \n",
    "        localResult(sfe, \"LOSH\", g)[,\"Hi\"]\n",
    "}"
   ]
  },
  {
   "cell_type": "code",
   "execution_count": null,
<<<<<<< HEAD
<<<<<<< HEAD
   "id": "85edd7ae",
||||||| 00f6fb22
   "id": "154e8bb8",
=======
   "id": "1c2e404d",
>>>>>>> documentation-devel
||||||| d828f8eb
   "id": "85edd7ae",
=======
   "id": "786274f9",
>>>>>>> 6c25d2f1afd31725c9595ab9d8922b9d3c838629
   "metadata": {
    "fig.height": 12,
    "fig.width": 8
   },
   "outputs": [],
   "source": [
    "plotColDataFreqpoly(sfe, new_colname2, color_by = \"cluster\") +\n",
    "    ggtitle(\"Local heteroscedasticity\") +\n",
    "    theme(legend.position = \"top\") +\n",
    "    scale_y_log10() +\n",
    "    annotation_logticks(sides = \"l\")"
   ]
  },
  {
   "cell_type": "markdown",
<<<<<<< HEAD
<<<<<<< HEAD
   "id": "4de6a57c",
||||||| 00f6fb22
   "id": "05085efb",
=======
   "id": "ef8d1d3a",
>>>>>>> documentation-devel
||||||| d828f8eb
   "id": "4de6a57c",
=======
   "id": "e9b5dfee",
>>>>>>> 6c25d2f1afd31725c9595ab9d8922b9d3c838629
   "metadata": {},
   "source": [
    "The relationship between expression and LOSH is more complicated. For some genes, such as the top marker gene for cluster 1 LYAR, cells in the cluster with higher expression also have higher LOSH - much like how in Poisson and negative binomial distributions, higher mean also means higher variance. However, some genes, such as the top marker gene for cluster 2 CTSS, have lower LOSH among cells that have higher expression, which means expression of this gene is more homogeneous within the cluster, consistent with local Moran. "
   ]
  },
  {
   "cell_type": "code",
   "execution_count": null,
<<<<<<< HEAD
<<<<<<< HEAD
   "id": "422eaa74",
||||||| 00f6fb22
   "id": "ff2e221c",
=======
   "id": "39ffee82",
>>>>>>> documentation-devel
||||||| d828f8eb
   "id": "422eaa74",
=======
   "id": "5617b1ce",
>>>>>>> 6c25d2f1afd31725c9595ab9d8922b9d3c838629
   "metadata": {},
   "outputs": [],
   "source": [
    "i <- 6 # Change if running this notebook\n",
    "plotExpression(sfe, top_markers_symbol[i], x = new_colname2[i], \n",
    "               color_by = \"cluster\", swap_rownames = \"Symbol\") +\n",
    "    scale_color_manual(values = ditto_colors) +\n",
    "    coord_flip() +\n",
    "    # comment out in case of error after changing i\n",
    "    geom_density2d(data = as.data.frame(colData(sfe)) |> \n",
    "                       mutate(gene = logcounts(sfe)[top_markers[i],]),\n",
    "                   mapping = aes(x = .data[[new_colname2[i]]], y = gene), \n",
    "                   color = \"blue\", linewidth = 0.3) "
   ]
  },
  {
   "cell_type": "markdown",
<<<<<<< HEAD
<<<<<<< HEAD
   "id": "ac7ef660",
||||||| 00f6fb22
   "id": "905c0f5d",
=======
   "id": "de5da7db",
>>>>>>> documentation-devel
||||||| d828f8eb
   "id": "ac7ef660",
=======
   "id": "af122834",
>>>>>>> 6c25d2f1afd31725c9595ab9d8922b9d3c838629
   "metadata": {
    "lines_to_next_cell": 0
   },
   "source": [
    "For this gene, the density contour indicates that many cells don't express this gene and have homogeneous neighborhoods also with low expression. That streak around 0 expression means that neighbors of cells that don't express this gene have different levels of heterogeneity in this gene.\n",
    "\n",
    "## Moran plot\n",
    "\n",
    "Here we make Moran plots for the top marker genes."
   ]
  },
  {
   "cell_type": "code",
   "execution_count": null,
<<<<<<< HEAD
<<<<<<< HEAD
   "id": "d55b75f2",
||||||| 00f6fb22
   "id": "b12ea613",
=======
   "id": "11a7923e",
>>>>>>> documentation-devel
||||||| d828f8eb
   "id": "d55b75f2",
=======
   "id": "d674377b",
>>>>>>> 6c25d2f1afd31725c9595ab9d8922b9d3c838629
   "metadata": {},
   "outputs": [],
   "source": [
    "sfe <- runUnivariate(sfe, \"moran.plot\", features = top_markers, colGraphName = \"knn10\")"
   ]
  },
  {
   "cell_type": "markdown",
<<<<<<< HEAD
<<<<<<< HEAD
   "id": "dbb2bd45",
||||||| 00f6fb22
   "id": "215e5fe7",
=======
   "id": "626d2b7f",
>>>>>>> documentation-devel
||||||| d828f8eb
   "id": "dbb2bd45",
=======
   "id": "03a19db6",
>>>>>>> 6c25d2f1afd31725c9595ab9d8922b9d3c838629
   "metadata": {
    "lines_to_next_cell": 0
   },
   "source": [
    "As a reference, we show Moran's I for the top marker genes, which is the slope of the line fitted to the Moran scatter plot."
   ]
  },
  {
   "cell_type": "code",
   "execution_count": null,
<<<<<<< HEAD
<<<<<<< HEAD
   "id": "0e7c3c27",
||||||| 00f6fb22
   "id": "b42f3a87",
=======
   "id": "b594311e",
>>>>>>> documentation-devel
||||||| d828f8eb
   "id": "0e7c3c27",
=======
   "id": "523c9723",
>>>>>>> 6c25d2f1afd31725c9595ab9d8922b9d3c838629
   "metadata": {},
   "outputs": [],
   "source": [
    "top_markers_df[top_markers,]"
   ]
  },
  {
   "cell_type": "markdown",
<<<<<<< HEAD
<<<<<<< HEAD
   "id": "e24f77eb",
||||||| 00f6fb22
   "id": "b82fe3b5",
=======
   "id": "2b48fe01",
>>>>>>> documentation-devel
||||||| d828f8eb
   "id": "e24f77eb",
=======
   "id": "93d5c083",
>>>>>>> 6c25d2f1afd31725c9595ab9d8922b9d3c838629
   "metadata": {
    "lines_to_next_cell": 0
   },
   "source": [
    "There is no significant marker gene for cluster 7. These plots are shown in sequence"
   ]
  },
  {
   "cell_type": "code",
   "execution_count": null,
<<<<<<< HEAD
<<<<<<< HEAD
   "id": "c1a0a10b",
||||||| 00f6fb22
   "id": "1916dda6",
=======
   "id": "bfb1091c",
>>>>>>> documentation-devel
||||||| d828f8eb
   "id": "c1a0a10b",
=======
   "id": "5c6612c8",
>>>>>>> 6c25d2f1afd31725c9595ab9d8922b9d3c838629
   "metadata": {},
   "outputs": [],
   "source": [
    "plts <- lapply(top_markers, moranPlot, sfe = sfe, color_by = \"cluster\", \n",
    "               swap_rownames = \"Symbol\")"
   ]
  },
  {
   "cell_type": "code",
   "execution_count": null,
<<<<<<< HEAD
<<<<<<< HEAD
   "id": "f9d35550",
||||||| 00f6fb22
   "id": "3b0321cf",
=======
   "id": "07185cd9",
>>>>>>> documentation-devel
||||||| d828f8eb
   "id": "f9d35550",
=======
   "id": "a7af2a3e",
>>>>>>> 6c25d2f1afd31725c9595ab9d8922b9d3c838629
   "metadata": {
    "fig.height": 9,
    "fig.width": 9
   },
   "outputs": [],
   "source": [
    "wrap_plots(plts, widths = 1, heights = 1) +\n",
    "    plot_layout(ncol = 3, guides = \"collect\") +\n",
    "    plot_annotation(tag_levels = \"1\")"
   ]
  },
  {
   "cell_type": "markdown",
<<<<<<< HEAD
<<<<<<< HEAD
   "id": "03742f55",
||||||| 00f6fb22
   "id": "c1b6a283",
=======
   "id": "34aacff2",
>>>>>>> documentation-devel
||||||| d828f8eb
   "id": "03742f55",
=======
   "id": "736afb7d",
>>>>>>> 6c25d2f1afd31725c9595ab9d8922b9d3c838629
   "metadata": {
    "lines_to_next_cell": 0
   },
   "source": [
    "For some genes, the points are so concentrated around the origin that there aren't \"enough\" points elsewhere to plot the density contours. But for the cells that do express these genes, there are clusters on this plot. Some genes are not expressed in many cells, but those cells have neighbors that do express the gene, hence the vertical streak at x = 0. \n",
    "\n",
    "In this tutorial, we applied univariate spatial statistics to the k nearest neighbor graph in the gene expression PCA space rather than the histological space. Just like in histological space, it would be impractical to examine all these statistics gene by gene, so multivariate analyses that incorporate the k nearest neighbor graph may be interesting.\n",
    "\n",
    "# Session info"
   ]
  },
  {
   "cell_type": "code",
   "execution_count": null,
<<<<<<< HEAD
<<<<<<< HEAD
   "id": "da4d8145",
||||||| 00f6fb22
   "id": "8d254076",
=======
   "id": "1cd9deb7",
>>>>>>> documentation-devel
||||||| d828f8eb
   "id": "da4d8145",
=======
   "id": "1f918b10",
>>>>>>> 6c25d2f1afd31725c9595ab9d8922b9d3c838629
   "metadata": {
    "lines_to_next_cell": 0
   },
   "outputs": [],
   "source": [
    "sessionInfo()"
   ]
  },
  {
   "cell_type": "markdown",
<<<<<<< HEAD
<<<<<<< HEAD
   "id": "a3b6946a",
||||||| 00f6fb22
   "id": "e775080a",
=======
   "id": "8f1d17a3",
>>>>>>> documentation-devel
||||||| d828f8eb
   "id": "a3b6946a",
=======
   "id": "0356dcb9",
>>>>>>> 6c25d2f1afd31725c9595ab9d8922b9d3c838629
   "metadata": {},
   "source": []
  }
 ],
 "metadata": {
  "kernelspec": {
   "display_name": "R",
   "language": "R",
   "name": "ir"
  }
 },
 "nbformat": 4,
 "nbformat_minor": 5
}
