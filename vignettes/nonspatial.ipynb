{
 "cells": [
  {
   "cell_type": "raw",
   "id": "68dcbf30",
   "metadata": {},
   "source": [
    "---\n",
    "title: \"Apply spatial analyses to non-spatial scRNA-seq data\"\n",
    "author: \"Lambda Moses\"\n",
    "date: \"`r Sys.Date()`\"\n",
    "output: \n",
    "  html_document:\n",
    "  toc: true\n",
    "  toc_float:\n",
    "    collapsed: false\n",
    "  toc_depth: 3\n",
    "bibliography: ref.bib\n",
    "vignette: >\n",
    "  %\\VignetteIndexEntry{nonspatial}\n",
    "  %\\VignetteEngine{knitr::rmarkdown}\n",
    "  %\\VignetteEncoding{UTF-8}\n",
    "---"
   ]
  },
  {
   "cell_type": "code",
   "execution_count": null,
   "id": "142d5a5d",
   "metadata": {
    "tags": [
     "remove_cell"
    ]
   },
   "outputs": [],
   "source": [
    "knitr::opts_chunk$set(\n",
    "  collapse = TRUE,\n",
    "  comment = \"#>\"\n",
    ")"
   ]
  },
  {
   "cell_type": "code",
   "execution_count": null,
   "id": "b571a215",
   "metadata": {
    "eval": false,
    "tags": [
     "remove_cell"
    ]
   },
   "outputs": [],
   "source": [
    "# Install Google Colab dependencies\n",
    "# Note: this can take 30+ minutes (many of the dependencies include C++ code, which needs to be compiled)\n",
    "\n",
    "# First install `sf`, `ragg` and `textshaping` and their system dependencies:\n",
    "system(\"apt-get -y update && apt-get install -y  libudunits2-dev libgdal-dev libgeos-dev libproj-dev libharfbuzz-dev libfribidi-dev\")\n",
    "install.packages(\"sf\")\n",
    "install.packages(\"textshaping\")\n",
    "install.packages(\"ragg\")\n",
    "\n",
    "# Install system dependencies of some other R packages that Voyager either imports or suggests:\n",
    "system(\"apt-get install -y libfribidi-dev libcairo2-dev libmagick++-dev\")\n",
    "\n",
    "# Install Voyager from Bioconductor:\n",
    "install.packages(\"BiocManager\")\n",
    "BiocManager::install(version = \"3.17\", ask = FALSE, update = FALSE, Ncpus = 2)\n",
    "BiocManager::install(\"scater\")\n",
    "system.time(\n",
    "  BiocManager::install(\"Voyager\", dependencies = TRUE, Ncpus = 2, update = FALSE)\n",
    ")\n",
    "\n",
    "# Additional dependencies for this notebook\n",
    "install.packages(\"reticulate\")\n",
    "#system(\"pip3 install gget\")\n",
    "packageVersion(\"Voyager\")"
   ]
  },
  {
   "cell_type": "markdown",
   "id": "e2610bb7",
   "metadata": {
    "lines_to_next_cell": 0
   },
   "source": [
    "# Introduction\n",
    "\n",
    "For areal spatial data, the spatial neighborhood graph is used to indicate proximity, and is required for all spatial analysis methods in the package `spdep`. One of the methods to find the spatial neighborhood graph is k nearest neighbors, which is also commonly used in gene expression PCA space for graph-based clustering of cells in non-spatial scRNA-seq data. Then what if we use the k nearest neighbors graph in PCA space rather than histological space for \"spatial\" analyses for non-spatial scRNA-seq data?\n",
    "\n",
    "Here we try such an analysis on a human peripheral blood mononuclear cells (PBMC) scRNA-seq dataset, which doesn't originally have histological spatial organization. These are the packages loaded for the analysis:"
   ]
  },
  {
   "cell_type": "code",
   "execution_count": null,
   "id": "9d2a9909",
   "metadata": {
    "message": false,
    "name": "setup"
   },
   "outputs": [],
   "source": [
    "library(Voyager)\n",
    "library(SpatialFeatureExperiment)\n",
    "library(SpatialExperiment)\n",
    "library(DropletUtils)\n",
    "library(BiocNeighbors)\n",
    "library(scater)\n",
    "library(scran)\n",
    "library(bluster)\n",
    "library(BiocParallel)\n",
    "library(scuttle)\n",
    "library(stringr)\n",
    "library(BiocSingular)\n",
    "library(spdep)\n",
    "library(patchwork)\n",
    "library(dplyr)\n",
    "library(reticulate)\n",
    "theme_set(theme_bw())"
   ]
  },
  {
   "cell_type": "code",
   "execution_count": null,
   "id": "b8a4a77a",
   "metadata": {
    "eval": false
   },
   "outputs": [],
   "source": [
    "# Specify Python version to use gget\n",
    "PY_PATH <- Sys.which(\"python\")\n",
    "use_python(PY_PATH)\n",
    "py_config()\n",
    "\n",
    "# Load gget\n",
    "gget <- import(\"gget\")"
   ]
  },
  {
   "cell_type": "markdown",
   "id": "a29b67dc",
   "metadata": {},
   "source": [
    "Here we download the filtered [Cell Ranger gene count matrix from the 10X website](https://support.10xgenomics.com/single-cell-gene-expression/datasets/3.0.2/5k_pbmc_v3_nextgem?). The empty droplets have already been removed."
   ]
  },
  {
   "cell_type": "code",
   "execution_count": null,
   "id": "c94bdcfa",
   "metadata": {},
   "outputs": [],
   "source": [
    "if (!dir.exists(\"filtered_feature_bc_matrix\")) {\n",
    "    download.file(\"https://cf.10xgenomics.com/samples/cell-exp/3.0.2/5k_pbmc_v3_nextgem/5k_pbmc_v3_nextgem_filtered_feature_bc_matrix.tar.gz\", destfile = \"5kpbmc.tar.gz\", quiet = TRUE)\n",
    "    system(\"tar -xzf 5kpbmc.tar.gz\")\n",
    "}"
   ]
  },
  {
   "cell_type": "markdown",
   "id": "ff184a54",
   "metadata": {
    "lines_to_next_cell": 0
   },
   "source": [
    "This is loaded into R as a `SingleCellExperiment` (SCE) object."
   ]
  },
  {
   "cell_type": "code",
   "execution_count": null,
   "id": "7510f8fe",
   "metadata": {},
   "outputs": [],
   "source": [
    "(sce <- read10xCounts(\"filtered_feature_bc_matrix/\"))"
   ]
  },
  {
   "cell_type": "code",
   "execution_count": null,
   "id": "a3773fac",
   "metadata": {},
   "outputs": [],
   "source": [
    "colnames(sce) <- sce$Barcode"
   ]
  },
  {
   "cell_type": "markdown",
   "id": "12049822",
   "metadata": {
    "lines_to_next_cell": 0
   },
   "source": [
    "# Quality control (QC)\n",
    "Here we perform some basic QC, to remove low quality cells with high proportion of mitochondrially encoded counts. "
   ]
  },
  {
   "cell_type": "code",
   "execution_count": null,
   "id": "0f41c3d4",
   "metadata": {},
   "outputs": [],
   "source": [
    "is_mito <- str_detect(rowData(sce)$Symbol, \"^MT-\")\n",
    "sum(is_mito)"
   ]
  },
  {
   "cell_type": "code",
   "execution_count": null,
   "id": "11a70d7c",
   "metadata": {},
   "outputs": [],
   "source": [
    "sce <- addPerCellQCMetrics(sce, subsets = list(mito = is_mito))\n",
    "names(colData(sce))"
   ]
  },
  {
   "cell_type": "markdown",
   "id": "703b04b5",
   "metadata": {},
   "source": [
    "The `addPerCellQCMetrics()` function computes the total UMI counts detected per cell (`sum`), number of genes detected per cell (`detected`), `sum` and `detected` for mitochondrial counts, and percentage of mitochondrial counts per cell."
   ]
  },
  {
   "cell_type": "code",
   "execution_count": null,
   "id": "b82d2913",
   "metadata": {},
   "outputs": [],
   "source": [
    "plotColData(sce, \"sum\") +\n",
    "    plotColData(sce, \"detected\") +\n",
    "    plotColData(sce, \"subsets_mito_percent\")"
   ]
  },
  {
   "cell_type": "markdown",
   "id": "0f3bde21",
   "metadata": {
    "lines_to_next_cell": 0
   },
   "source": [
    "Here a 2D histogram is plotted to better show point density on the plot."
   ]
  },
  {
   "cell_type": "code",
   "execution_count": null,
   "id": "3326b545",
   "metadata": {},
   "outputs": [],
   "source": [
    "plotColData(sce, x = \"sum\", y = \"detected\", bins = 100)"
   ]
  },
  {
   "cell_type": "code",
   "execution_count": null,
   "id": "b5f78bc9",
   "metadata": {},
   "outputs": [],
   "source": [
    "plotColData(sce, x = \"sum\", y = \"subsets_mito_percent\", bins = 100)"
   ]
  },
  {
   "cell_type": "markdown",
   "id": "c82129b4",
   "metadata": {
    "lines_to_next_cell": 0
   },
   "source": [
    "Remove cells with >20% mitochondrial counts"
   ]
  },
  {
   "cell_type": "code",
   "execution_count": null,
   "id": "221b8cd7",
   "metadata": {},
   "outputs": [],
   "source": [
    "sce <- sce[, sce$subsets_mito_percent < 20]\n",
    "sce <- sce[rowSums(counts(sce)) > 0,]"
   ]
  },
  {
   "cell_type": "markdown",
   "id": "6b809f42",
   "metadata": {
    "lines_to_next_cell": 0
   },
   "source": [
    "# Basic non-spatial analyses\n",
    "Here we normalize the data, perform PCA, cluster the cells, and find marker genes for the clusters."
   ]
  },
  {
   "cell_type": "code",
   "execution_count": null,
   "id": "de34c542",
   "metadata": {},
   "outputs": [],
   "source": [
    "#clusts <- quickCluster(sce)\n",
    "#sce <- computeSumFactors(sce, cluster = clusts)\n",
    "#sce <- sce[, sizeFactors(sce) > 0]\n",
    "sce <- logNormCounts(sce)"
   ]
  },
  {
   "cell_type": "markdown",
   "id": "af70b0ae",
   "metadata": {
    "lines_to_next_cell": 0
   },
   "source": [
    "Use the highly variable genes for PCA:"
   ]
  },
  {
   "cell_type": "code",
   "execution_count": null,
   "id": "60049144",
   "metadata": {},
   "outputs": [],
   "source": [
    "dec <- modelGeneVar(sce, lowess = FALSE)\n",
    "hvgs <- getTopHVGs(dec, n = 2000)"
   ]
  },
  {
   "cell_type": "code",
   "execution_count": null,
   "id": "5f28e211",
   "metadata": {},
   "outputs": [],
   "source": [
    "set.seed(29)\n",
    "sce <- runPCA(sce, ncomponents = 30, BSPARAM = IrlbaParam(),\n",
    "              subset_row = hvgs, scale = TRUE)"
   ]
  },
  {
   "cell_type": "markdown",
   "id": "bda757a8",
   "metadata": {
    "lines_to_next_cell": 0
   },
   "source": [
    "How many PCs shall we use for further analyses?"
   ]
  },
  {
   "cell_type": "code",
   "execution_count": null,
   "id": "b9519e37",
   "metadata": {},
   "outputs": [],
   "source": [
    "ElbowPlot(sce, ndims = 30)"
   ]
  },
  {
   "cell_type": "markdown",
   "id": "8e095045",
   "metadata": {},
   "source": [
    "Variance explained drops sharply from PC1 and again from PC4 and then levels off. Plot genes with the largest loadings of the top 4 PCs:"
   ]
  },
  {
   "cell_type": "code",
   "execution_count": null,
   "id": "393095f6",
   "metadata": {
    "lines_to_next_cell": 2
   },
   "outputs": [],
   "source": [
    "plotDimLoadings(sce, swap_rownames = \"Symbol\")"
   ]
  },
  {
   "cell_type": "markdown",
   "id": "34db0170",
   "metadata": {},
   "source": [
    "To keep a little more information, we use 10 PCs, after which variance explained levels off even more."
   ]
  },
  {
   "cell_type": "code",
   "execution_count": null,
   "id": "ab9dfad6",
   "metadata": {},
   "outputs": [],
   "source": [
    "sce$cluster <- clusterRows(reducedDim(sce, \"PCA\")[,1:10],\n",
    "                           BLUSPARAM = SNNGraphParam(cluster.fun = \"leiden\",\n",
    "                                                     k = 10,\n",
    "                                                     cluster.args = list(\n",
    "                                                         resolution=0.5,\n",
    "                                                         objective_function = \"modularity\"\n",
    "                                                     )))"
   ]
  },
  {
   "cell_type": "markdown",
   "id": "2a25ee3e",
   "metadata": {},
   "source": [
    "Here we plot the cells in the first 4 PCs in a matrix plot. The diagonals are density plots of the number of cells as projected on each PC. The x axis should correspond to the columns of the matrix plot, and the y axis should correspond to the rows, so the plot in row 1 column 2 has PC2 in the x axis and PC1 in the y axis. The cells are colored by clusters found in the previous code chunk."
   ]
  },
  {
   "cell_type": "code",
   "execution_count": null,
   "id": "e2a3619b",
   "metadata": {
    "fig.height": 9,
    "fig.width": 9
   },
   "outputs": [],
   "source": [
    "plotPCA(sce, ncomponents = 4, color_by = \"cluster\")"
   ]
  },
  {
   "cell_type": "markdown",
   "id": "8080f4a2",
   "metadata": {
    "lines_to_next_cell": 0
   },
   "source": [
    "How many cells are there in each cluster?"
   ]
  },
  {
   "cell_type": "code",
   "execution_count": null,
   "id": "53f1d94f",
   "metadata": {},
   "outputs": [],
   "source": [
    "table(sce$cluster)"
   ]
  },
  {
   "cell_type": "markdown",
   "id": "f014c40b",
   "metadata": {
    "lines_to_next_cell": 0
   },
   "source": [
    "Then we use the conventional Wilcoxon rank sum test to find marker genes for each cluster. The test compares each cluster to the rest of the cells, and only genes more highly expressed in the cluster compared to the other cells are considered. The result is a list of data frames, where each data frame corresponds to one cluster. Areas under the receiver operator curve (AUC), distinguishing each cluster vs. any other cluster, are also included. The closer to 1 the better, while 0.5 means no better than random guessing. The false discovery rate (FDR) column contains the Benjamini-Hochberg corrected p-values. Genes in these data frames are already sorted by p-values."
   ]
  },
  {
   "cell_type": "code",
   "execution_count": null,
   "id": "c3d04615",
   "metadata": {
    "lines_to_next_cell": 2
   },
   "outputs": [],
   "source": [
    "markers <- findMarkers(sce, groups = colData(sce)$cluster,\n",
    "                       test.type = \"wilcox\", pval.type = \"all\", direction = \"up\")\n",
    "markers[[4]]"
   ]
  },
  {
   "cell_type": "markdown",
   "id": "42eb4696",
   "metadata": {},
   "source": [
    "See how specific the top markers are to each cluster:"
   ]
  },
  {
   "cell_type": "code",
   "execution_count": null,
   "id": "d9a91204",
   "metadata": {},
   "outputs": [],
   "source": [
    "top_markers <- unlist(lapply(markers, function(x) head(rownames(x), 1)))\n",
    "top_markers_symbol <- rowData(sce)[top_markers, \"Symbol\"]"
   ]
  },
  {
   "cell_type": "code",
   "execution_count": null,
   "id": "2eff8696",
   "metadata": {},
   "outputs": [],
   "source": [
    "plotExpression(sce, top_markers_symbol, x = \"cluster\", swap_rownames = \"Symbol\",\n",
    "               point_fun = function(...) list())"
   ]
  },
  {
   "cell_type": "markdown",
   "id": "622e1839",
   "metadata": {
    "lines_to_next_cell": 0
   },
   "source": [
    "We can use the [gget info](https://pachterlab.github.io/gget/info.html) module from the [gget](https://pachterlab.github.io/gget/) package to get additional information for these marker genes. For example, their [NCBI](https://www.ncbi.nlm.nih.gov/) description:"
   ]
  },
  {
   "cell_type": "code",
   "execution_count": null,
   "id": "cc219521",
   "metadata": {
    "eval": false
   },
   "outputs": [],
   "source": [
    "gget_info <- gget$info(top_markers)\n",
    "\n",
    "rownames(gget_info) <- gget_info$ensembl_gene_name\n",
    "select(gget_info, ncbi_description)"
   ]
  },
  {
   "cell_type": "markdown",
   "id": "6a12dfa7",
   "metadata": {
    "lines_to_next_cell": 0
   },
   "source": [
    "# \"Spatial\" analyses for QC metrics\n",
    "Find k nearest neighbor graph in PCA space for Moran's I: We are not using `spdep` here since its `nb2listwdist()` function for distance based edge weighting requires 2-3 dimensional spatial coordinates while the coordinates here have 10 dimensions. Here, inverse distance weighting is used for edge weights."
   ]
  },
  {
   "cell_type": "code",
   "execution_count": null,
   "id": "c98b8678",
   "metadata": {},
   "outputs": [],
   "source": [
    "foo <- findKNN(reducedDim(sce, \"PCA\")[,1:10], k=10, BNPARAM=AnnoyParam())\n",
    "# Split by row\n",
    "foo_nb <- asplit(foo$index, 1)\n",
    "dmat <- 1/foo$distance\n",
    "# Row normalize the weights\n",
    "dmat <- sweep(dmat, 1, rowSums(dmat), FUN = \"/\")\n",
    "glist <- asplit(dmat, 1)\n",
    "# Sort based on index\n",
    "ord <- lapply(foo_nb, order)\n",
    "foo_nb <- lapply(seq_along(foo_nb), function(i) foo_nb[[i]][ord[[i]]])\n",
    "class(foo_nb) <- \"nb\"\n",
    "glist <- lapply(seq_along(glist), function(i) glist[[i]][ord[[i]]])\n",
    "\n",
    "listw <- list(style = \"W\",\n",
    "              neighbours = foo_nb,\n",
    "              weights = glist)\n",
    "class(listw) <- \"listw\"\n",
    "attr(listw, \"region.id\") <- colnames(sce)"
   ]
  },
  {
   "cell_type": "markdown",
   "id": "27e9d927",
   "metadata": {
    "lines_to_next_cell": 0
   },
   "source": [
    "Because there is no histological space, we convert the SCE object into `SpatialFeatureExperiment` (SFE) to use the spatial analysis and plotting functions from `Voyager`, and pretend that the first 2 PCs are the histological space."
   ]
  },
  {
   "cell_type": "code",
   "execution_count": null,
   "id": "532610a7",
   "metadata": {},
   "outputs": [],
   "source": [
    "(sfe <- toSpatialFeatureExperiment(sce, spatialCoords = reducedDim(sce, \"PCA\")[,1:2],\n",
    "                                  spatialCoordsNames = NULL))"
   ]
  },
  {
   "cell_type": "markdown",
   "id": "33d8baa1",
   "metadata": {
    "lines_to_next_cell": 0
   },
   "source": [
    "Add the k nearest neighbor graph to the SFE object:"
   ]
  },
  {
   "cell_type": "code",
   "execution_count": null,
   "id": "0cb16ce6",
   "metadata": {},
   "outputs": [],
   "source": [
    "colGraph(sfe, \"knn10\") <- listw"
   ]
  },
  {
   "cell_type": "markdown",
   "id": "09272f1a",
   "metadata": {
    "lines_to_next_cell": 0
   },
   "source": [
    "## Moran's I"
   ]
  },
  {
   "cell_type": "code",
   "execution_count": null,
   "id": "24451b41",
   "metadata": {},
   "outputs": [],
   "source": [
    "sfe <- colDataMoransI(sfe, c(\"sum\", \"detected\", \"subsets_mito_percent\"))\n",
    "colFeatureData(sfe)[c(\"sum\", \"detected\", \"subsets_mito_percent\"),]"
   ]
  },
  {
   "cell_type": "markdown",
   "id": "e6187b05",
   "metadata": {
    "lines_to_next_cell": 0
   },
   "source": [
    "For total UMI counts (sum) and genes detected (detected), Moran's I is quite strong, while it's positive but weaker for percentage of mitochondrial counts. The second column, K, is kurtosis of the feature of interest. \n",
    "\n",
    "## Moran plot\n",
    "\n",
    "How about the local variations on the k nearest neighbors graph? In the Moran plot, the x axis is the value for each cell, and the y axis is the average value among neighboring cells in the graph weighted by edge weights. The slope of the fitted line is Moran's I. Sometimes there are clusters in this plot, showing different kinds of neighborhoods."
   ]
  },
  {
   "cell_type": "code",
   "execution_count": null,
   "id": "be21c6a2",
   "metadata": {},
   "outputs": [],
   "source": [
    "sfe <- colDataUnivariate(sfe, \"moran.plot\", c(\"sum\", \"detected\", \"subsets_mito_percent\"))"
   ]
  },
  {
   "cell_type": "markdown",
   "id": "3e360419",
   "metadata": {
    "lines_to_next_cell": 0
   },
   "source": [
    "The dashed lines are the averages on the x and y axes."
   ]
  },
  {
   "cell_type": "code",
   "execution_count": null,
   "id": "6b9efe0b",
   "metadata": {},
   "outputs": [],
   "source": [
    "moranPlot(sfe, \"sum\", color_by = \"cluster\")"
   ]
  },
  {
   "cell_type": "markdown",
   "id": "07d75694",
   "metadata": {
    "lines_to_next_cell": 0
   },
   "source": [
    "While most cells are in the cluster around the average, there is a cluster of cells with lower total counts whose neighbors also have lower total counts. There also is a cluster of cells with higher total counts whose neighbors also have higher total counts. These clusters seem to be somewhat related to some gene expression based clusters."
   ]
  },
  {
   "cell_type": "code",
   "execution_count": null,
   "id": "f2d40fef",
   "metadata": {},
   "outputs": [],
   "source": [
    "moranPlot(sfe, \"detected\", color_by = \"cluster\")"
   ]
  },
  {
   "cell_type": "code",
   "execution_count": null,
   "id": "58ef03ce",
   "metadata": {},
   "outputs": [],
   "source": [
    "moranPlot(sfe, \"subsets_mito_percent\", color_by = \"cluster\")"
   ]
  },
  {
   "cell_type": "markdown",
   "id": "c8013637",
   "metadata": {},
   "source": [
    "There is one main cluster on this plot for the number of genes detected and for the percentage of mitochondrial counts. However, cells are somewhat separated by gene expression clusters. This is not surprising because the gene expression clusters are also based on the k nearest neighbor graph. Cluster 4 cells have a higher percentage of mitochondrial counts and so do their neighbors. \n",
    "\n",
    "## Local Moran's I\n",
    "Also see local Moran's I for these 3 QC metrics:"
   ]
  },
  {
   "cell_type": "code",
   "execution_count": null,
   "id": "f32edde0",
   "metadata": {},
   "outputs": [],
   "source": [
    "sfe <- colDataUnivariate(sfe, \"localmoran\", c(\"sum\", \"detected\", \"subsets_mito_percent\"))"
   ]
  },
  {
   "cell_type": "markdown",
   "id": "2c9535ff",
   "metadata": {
    "lines_to_next_cell": 0
   },
   "source": [
    "Here, we don't have a histological space. So how can we visualize the local \"spatial\" statistics? [UMAP is bad](https://www.biorxiv.org/content/10.1101/2021.08.25.457696v1), but in this case PCA can somewhat separate the clusters. We can use the first 2 PCs as if they are the histological space. As a reference, we plot the metrics themselves and the clusters in the first 2 PCs. "
   ]
  },
  {
   "cell_type": "code",
   "execution_count": null,
   "id": "afb5bc41",
   "metadata": {
    "fig.height": 6,
    "fig.width": 8
   },
   "outputs": [],
   "source": [
    "plotSpatialFeature(sfe, c(\"sum\", \"detected\", \"subsets_mito_percent\", \"cluster\"))"
   ]
  },
  {
   "cell_type": "markdown",
   "id": "a80f31fc",
   "metadata": {
    "lines_to_next_cell": 0
   },
   "source": [
    "Plot the local Moran's I for these metrics in the first 2 PCs:"
   ]
  },
  {
   "cell_type": "code",
   "execution_count": null,
   "id": "b113409e",
   "metadata": {
    "fig.height": 6,
    "fig.width": 8
   },
   "outputs": [],
   "source": [
    "plotLocalResult(sfe, \"localmoran\", c(\"sum\", \"detected\", \"subsets_mito_percent\"), \n",
    "                colGeometryName = \"centroids\",\n",
    "                divergent = TRUE, diverge_center = 0, ncol = 2)"
   ]
  },
  {
   "cell_type": "markdown",
   "id": "717a77a7",
   "metadata": {
    "lines_to_next_cell": 0
   },
   "source": [
    "However, what if there is no good 2D representation of the data for easy plotting? Remember that here the k nearest neighbor graph was computed on the first 10 PCs rather than the first 2 PCs. The graph is not tied to the 2D representation. We can still plot histograms to show the distribution and scatter plots to compare the same local metric for different variables, which can be colored by another variable such as cluster. This may be added to the next release of Voyager. For now, we add the results of interest to `colData(sfe)` and use the existing `colData` plotting functions from `scater` and `Voyager`."
   ]
  },
  {
   "cell_type": "code",
   "execution_count": null,
   "id": "9e241a92",
   "metadata": {},
   "outputs": [],
   "source": [
    "localResultAttrs(sfe, \"localmoran\", \"sum\")"
   ]
  },
  {
   "cell_type": "code",
   "execution_count": null,
   "id": "2eebe920",
   "metadata": {},
   "outputs": [],
   "source": [
    "sfe$sum_localmoran <- localResult(sfe, \"localmoran\", \"sum\")[,\"Ii\"]\n",
    "sfe$detected_localmoran <- localResult(sfe, \"localmoran\", \"detected\")[,\"Ii\"]\n",
    "sfe$pct_mito_localmoran <- localResult(sfe, \"localmoran\", \"subsets_mito_percent\")[,\"Ii\"]"
   ]
  },
  {
   "cell_type": "code",
   "execution_count": null,
   "id": "dcf91465",
   "metadata": {},
   "outputs": [],
   "source": [
    "# Colorblind friendly palette\n",
    "data(\"ditto_colors\")"
   ]
  },
  {
   "cell_type": "code",
   "execution_count": null,
   "id": "93864ddb",
   "metadata": {},
   "outputs": [],
   "source": [
    "plotColDataFreqpoly(sfe, c(\"sum_localmoran\", \"detected_localmoran\", \n",
    "                           \"pct_mito_localmoran\"), bins = 50, \n",
    "                    color_by = \"cluster\") +\n",
    "    scale_y_log10() +\n",
    "    annotation_logticks(sides = \"l\")"
   ]
  },
  {
   "cell_type": "markdown",
   "id": "35965b4a",
   "metadata": {},
   "source": [
    "The y axis is log transformed (hence that warning when some bins have no cells), so the color of cells in the long tail can be seen because most cells don't have very strong local Moran's I. Cells in cluster 7 have high local Moran's I in total UMI counts and genes detected, which means that they tend to be more homogeneous in these QC metrics.\n",
    "\n",
    "How do local Moran's I for these QC metrics relate to each other?"
   ]
  },
  {
   "cell_type": "code",
   "execution_count": null,
   "id": "cc276656",
   "metadata": {},
   "outputs": [],
   "source": [
    "plotColData(sfe, x = \"sum_localmoran\", y = \"detected_localmoran\", \n",
    "            color_by = \"cluster\") +\n",
    "    scale_color_manual(values = ditto_colors)"
   ]
  },
  {
   "cell_type": "markdown",
   "id": "0668fc7a",
   "metadata": {},
   "source": [
    "Cells more locally homogeneous in total UMI counts are also more homogeneous in number of genes detected, which is not surprising given the correlation between the two."
   ]
  },
  {
   "cell_type": "code",
   "execution_count": null,
   "id": "a20e6572",
   "metadata": {},
   "outputs": [],
   "source": [
    "plotColData(sfe, x = \"sum_localmoran\", y = \"pct_mito_localmoran\", \n",
    "            color_by = \"cluster\") +\n",
    "    scale_color_manual(values = ditto_colors)"
   ]
  },
  {
   "cell_type": "markdown",
   "id": "937d4325",
   "metadata": {
    "lines_to_next_cell": 0
   },
   "source": [
    "For local Moran's I, `sum` vs percentage mitochondrial counts shows a more interesting pattern, highlighting clusters 4 and 7 as in the Moran plots.\n",
    "\n",
    "How does local Moran's I relate to the value itself?"
   ]
  },
  {
   "cell_type": "code",
   "execution_count": null,
   "id": "afb8bf8a",
   "metadata": {},
   "outputs": [],
   "source": [
    "plotColData(sfe, x = \"sum\", y = \"sum_localmoran\", color_by = \"cluster\") +\n",
    "    geom_density2d(data = as.data.frame(colData(sfe)),\n",
    "                   mapping = aes(x = sum, y = sum_localmoran), color = \"blue\", \n",
    "                   linewidth = 0.3) +\n",
    "    scale_color_manual(values = ditto_colors)"
   ]
  },
  {
   "cell_type": "markdown",
   "id": "73765ee5",
   "metadata": {
    "lines_to_next_cell": 0
   },
   "source": [
    "In this case, generally cells with higher total counts also tend to have higher local Moran's I in total counts. However, there is another wing where cells with lower total counts have slightly higher local Moran's I in total counts and there's a central value of total counts with near 0 local Moran's I. The density contour shows that cells are concentrated at that central value.\n",
    "\n",
    "## Local spatial heteroscedasticity (LOSH)\n",
    "\n",
    "LOSH indicates heterogeneity around each cell in the k nearest neighbor graph."
   ]
  },
  {
   "cell_type": "code",
   "execution_count": null,
   "id": "9d04684d",
   "metadata": {},
   "outputs": [],
   "source": [
    "sfe <- colDataUnivariate(sfe, \"LOSH\", c(\"sum\", \"detected\", \"subsets_mito_percent\"))"
   ]
  },
  {
   "cell_type": "code",
   "execution_count": null,
   "id": "70299b58",
   "metadata": {
    "fig.height": 6,
    "fig.width": 8
   },
   "outputs": [],
   "source": [
    "plotLocalResult(sfe, \"LOSH\", c(\"sum\", \"detected\", \"subsets_mito_percent\"), \n",
    "                colGeometryName = \"centroids\", ncol = 2)"
   ]
  },
  {
   "cell_type": "markdown",
   "id": "ecad190a",
   "metadata": {},
   "source": [
    "Here we make the same non-spatial plots for LOSH as in local Moran's I."
   ]
  },
  {
   "cell_type": "code",
   "execution_count": null,
   "id": "7854d66a",
   "metadata": {},
   "outputs": [],
   "source": [
    "localResultAttrs(sfe, \"LOSH\", \"sum\")"
   ]
  },
  {
   "cell_type": "code",
   "execution_count": null,
   "id": "303f037a",
   "metadata": {},
   "outputs": [],
   "source": [
    "sfe$sum_losh <- localResult(sfe, \"LOSH\", \"sum\")[,\"Hi\"]\n",
    "sfe$detected_losh <- localResult(sfe, \"LOSH\", \"detected\")[,\"Hi\"]\n",
    "sfe$pct_mito_losh <- localResult(sfe, \"LOSH\", \"subsets_mito_percent\")[,\"Hi\"]"
   ]
  },
  {
   "cell_type": "code",
   "execution_count": null,
   "id": "1d48832b",
   "metadata": {},
   "outputs": [],
   "source": [
    "plotColDataFreqpoly(sfe, c(\"sum_losh\", \"detected_losh\", \n",
    "                           \"pct_mito_losh\"), bins = 50, \n",
    "                     color_by = \"cluster\") +\n",
    "    scale_y_log10() +\n",
    "    annotation_logticks(sides = \"l\")"
   ]
  },
  {
   "cell_type": "markdown",
   "id": "c2bd387d",
   "metadata": {},
   "source": [
    "Here, clusters 2 and 6 tend to be more locally heterogeneous. How do total counts and genes detected relate in LOSH?"
   ]
  },
  {
   "cell_type": "code",
   "execution_count": null,
   "id": "baeedfb5",
   "metadata": {},
   "outputs": [],
   "source": [
    "plotColData(sfe, x = \"sum_losh\", y = \"detected_losh\", color_by = \"cluster\") +\n",
    "    scale_color_manual(values = ditto_colors)"
   ]
  },
  {
   "cell_type": "markdown",
   "id": "afdaa4cb",
   "metadata": {},
   "source": [
    "While generally cells higher in LOSH in total counts are also higher in LOSH in genes detected, there are some outliers that are very high in both, with more heterogeneous neighborhoods. Absolute distance to the neighbors is not taken into account when the adjacency matrix is row normalized. It would be interesting to see if those outliers tend to be further away from their 10 nearest neighbors, or in a region in the PCA space where cells are further apart.\n",
    "\n",
    "How does total counts itself relate to its LOSH?"
   ]
  },
  {
   "cell_type": "code",
   "execution_count": null,
   "id": "a2247494",
   "metadata": {},
   "outputs": [],
   "source": [
    "plotColData(sfe, x = \"sum\", y = \"sum_losh\", color_by = \"cluster\") +\n",
    "    scale_color_manual(values = ditto_colors)"
   ]
  },
  {
   "cell_type": "markdown",
   "id": "4ccda4de",
   "metadata": {
    "lines_to_next_cell": 0
   },
   "source": [
    "There does not seem to be a clear relationship in this case. \n",
    "\n",
    "# \"Spatial\" analyses for gene expression\n",
    "First, we need to reorganize the differential expression results:"
   ]
  },
  {
   "cell_type": "code",
   "execution_count": null,
   "id": "c1ffc9a6",
   "metadata": {},
   "outputs": [],
   "source": [
    "top_markers_df <- lapply(seq_along(markers), function(i) {\n",
    "    out <- markers[[i]][markers[[i]]$FDR < 0.05, c(\"FDR\", \"summary.AUC\")]\n",
    "    if (nrow(out)) out$cluster <- i\n",
    "    out\n",
    "})\n",
    "top_markers_df <- do.call(rbind, top_markers_df)\n",
    "top_markers_df$symbol <- rowData(sce)[rownames(top_markers_df), \"Symbol\"]"
   ]
  },
  {
   "cell_type": "markdown",
   "id": "4e18f8c8",
   "metadata": {
    "lines_to_next_cell": 0
   },
   "source": [
    "## Moran's I"
   ]
  },
  {
   "cell_type": "code",
   "execution_count": null,
   "id": "9b80d5b5",
   "metadata": {},
   "outputs": [],
   "source": [
    "sfe <- runMoransI(sfe, features = hvgs, BPPARAM = MulticoreParam(2))"
   ]
  },
  {
   "cell_type": "markdown",
   "id": "bd6b83da",
   "metadata": {
    "lines_to_next_cell": 0
   },
   "source": [
    "The results are added to `rowData(sfe)`. The NA's are for non-highly variable genes, as Moran's I was only computed for highly variable genes here."
   ]
  },
  {
   "cell_type": "code",
   "execution_count": null,
   "id": "430b5529",
   "metadata": {},
   "outputs": [],
   "source": [
    "rowData(sfe)"
   ]
  },
  {
   "cell_type": "markdown",
   "id": "b1841e13",
   "metadata": {
    "lines_to_next_cell": 0
   },
   "source": [
    "How are the Moran's I's for highly variable genes distributed? Also, where are the top cluster marker genes in this distribution?"
   ]
  },
  {
   "cell_type": "code",
   "execution_count": null,
   "id": "8e8acc58",
   "metadata": {},
   "outputs": [],
   "source": [
    "plotRowDataHistogram(sfe, \"moran_sample01\", bins = 50) +\n",
    "    geom_vline(data = as.data.frame(rowData(sfe)[top_markers,]) |> \n",
    "                   mutate(index = seq_along(top_markers)),\n",
    "               aes(xintercept = moran_sample01, color = index)) +\n",
    "    scale_color_continuous(breaks = scales::breaks_width(2))"
   ]
  },
  {
   "cell_type": "markdown",
   "id": "6bf43411",
   "metadata": {},
   "source": [
    "The top marker genes all have quite positive Moran's I on the k nearest neighbor graph. It would also be interesting to color this histogram by gene sets. Since the k nearest neighbor graph was found in PCA space, which is based on gene expression, as expected, Moran's I with this graph is mostly positive, although often not that strong. A small number of genes have slightly negative Moran's I. What do the top genes look like in PCA?"
   ]
  },
  {
   "cell_type": "code",
   "execution_count": null,
   "id": "1ec6ba47",
   "metadata": {
    "fig.height": 6,
    "fig.width": 8
   },
   "outputs": [],
   "source": [
    "top_moran <- head(rownames(sfe)[order(rowData(sfe)$moran_sample01, decreasing = TRUE)], 4)\n",
    "plotSpatialFeature(sfe, top_moran, ncol = 2)"
   ]
  },
  {
   "cell_type": "code",
   "execution_count": null,
   "id": "efe1363d",
   "metadata": {},
   "outputs": [],
   "source": [
    "top_moran_symbol <- rowData(sfe)[top_moran, \"Symbol\"]\n",
    "plotExpression(sfe, top_moran_symbol, swap_rownames = \"Symbol\")"
   ]
  },
  {
   "cell_type": "markdown",
   "id": "0fccde5c",
   "metadata": {},
   "source": [
    "They are all marker genes for the same cluster, cluster 9. Perhaps these genes have high Moran's I because they are specific to a cell type. Then how does the Moran's I relate to cluster AUC and cluster differential expression p-value?"
   ]
  },
  {
   "cell_type": "code",
   "execution_count": null,
   "id": "cba8596f",
   "metadata": {},
   "outputs": [],
   "source": [
    "# See if markers are unique to clusters\n",
    "anyDuplicated(rownames(top_markers_df))"
   ]
  },
  {
   "cell_type": "code",
   "execution_count": null,
   "id": "293da591",
   "metadata": {},
   "outputs": [],
   "source": [
    "top_markers_df$moran <- rowData(sfe)[rownames(top_markers_df), \"moran_sample01\"]\n",
    "top_markers_df$log_p_adj <- -log10(top_markers_df$FDR)\n",
    "top_markers_df$cluster <- factor(top_markers_df$cluster, \n",
    "                                 levels = seq_len(length(unique(top_markers_df$cluster))))"
   ]
  },
  {
   "cell_type": "markdown",
   "id": "267a4055",
   "metadata": {
    "lines_to_next_cell": 0
   },
   "source": [
    "How does the differential expression p-value relate to Moran's I?"
   ]
  },
  {
   "cell_type": "code",
   "execution_count": null,
   "id": "6ccf8064",
   "metadata": {},
   "outputs": [],
   "source": [
    "as.data.frame(top_markers_df) |> \n",
    "    ggplot(aes(log_p_adj, moran)) +\n",
    "    geom_point(aes(color = cluster)) +\n",
    "    geom_smooth(method = \"lm\") +\n",
    "    scale_color_manual(values = ditto_colors)"
   ]
  },
  {
   "cell_type": "markdown",
   "id": "b9208d5d",
   "metadata": {},
   "source": [
    "Generally, more significant marker genes tend to have higher Moran's I. This is not surprising because the clusters and Moran's I here are both based on the k nearest neighbor graph."
   ]
  },
  {
   "cell_type": "code",
   "execution_count": null,
   "id": "c02cb980",
   "metadata": {},
   "outputs": [],
   "source": [
    "as.data.frame(top_markers_df) |> \n",
    "    ggplot(aes(summary.AUC, moran)) +\n",
    "    geom_point(aes(color = cluster)) +\n",
    "    geom_smooth(method = \"lm\") +\n",
    "    scale_color_manual(values = ditto_colors)"
   ]
  },
  {
   "cell_type": "markdown",
   "id": "8ce772e9",
   "metadata": {
    "lines_to_next_cell": 0
   },
   "source": [
    "Similarly, genes with higher AUC tend to have higher Moran's I. For other clusters, generally speaking, genes more specific to a cluster tend to have higher Moran's I.\n",
    "\n",
    "Let's use permutation testing to see if Moran's I is statistically significant:"
   ]
  },
  {
   "cell_type": "code",
   "execution_count": null,
   "id": "71f15f31",
   "metadata": {},
   "outputs": [],
   "source": [
    "sfe <- runUnivariate(sfe, \"moran.mc\", features = top_markers, nsim = 200)"
   ]
  },
  {
   "cell_type": "code",
   "execution_count": null,
   "id": "54df1eaa",
   "metadata": {},
   "outputs": [],
   "source": [
    "top_markers_symbol"
   ]
  },
  {
   "cell_type": "code",
   "execution_count": null,
   "id": "745aedc7",
   "metadata": {},
   "outputs": [],
   "source": [
    "plotMoranMC(sfe, top_markers, swap_rownames = \"Symbol\")"
   ]
  },
  {
   "cell_type": "markdown",
   "id": "f173aa8f",
   "metadata": {},
   "source": [
    "They all seem to be very significant. \n",
    "\n",
    "The correlogram finds Moran's I for a higher order of neighbors and can be a proxy for distance. "
   ]
  },
  {
   "cell_type": "code",
   "execution_count": null,
   "id": "a9859811",
   "metadata": {},
   "outputs": [],
   "source": [
    "system.time({\n",
    "    sfe <- runUnivariate(sfe, \"sp.correlogram\", top_markers, order = 6, \n",
    "                     zero.policy = TRUE, BPPARAM = MulticoreParam(2))\n",
    "})"
   ]
  },
  {
   "cell_type": "code",
   "execution_count": null,
   "id": "b1009296",
   "metadata": {},
   "outputs": [],
   "source": [
    "plotCorrelogram(sfe, top_markers, swap_rownames = \"Symbol\")"
   ]
  },
  {
   "cell_type": "markdown",
   "id": "c2dc3ba5",
   "metadata": {
    "lines_to_next_cell": 0
   },
   "source": [
    "We see different patterns of decay in spatial autocorrelation and different length scales of spatial autocorrelation. CLU is a marker gene very specific to the smallest cluster, so higher order neighbors are very likely to be from other clusters. Marker genes for the other larger clusters with hundreds of cells nevertheless display different patterns in the correlogram.\n",
    "\n",
    "## Local Moran's I"
   ]
  },
  {
   "cell_type": "code",
   "execution_count": null,
   "id": "3b9c0393",
   "metadata": {},
   "outputs": [],
   "source": [
    "sfe <- runUnivariate(sfe, \"localmoran\", features = top_markers)"
   ]
  },
  {
   "cell_type": "code",
   "execution_count": null,
   "id": "6b8e50f0",
   "metadata": {
    "fig.height": 9,
    "fig.width": 12
   },
   "outputs": [],
   "source": [
    "plotLocalResult(sfe, \"localmoran\", top_markers, colGeometryName = \"centroids\", \n",
    "                divergent = TRUE, diverge_center = 0, ncol = 3,\n",
    "                swap_rownames = \"Symbol\")"
   ]
  },
  {
   "cell_type": "markdown",
   "id": "0df60bda",
   "metadata": {},
   "source": [
    "We will also plot the histograms, but for now the results need to be added to `colData` first."
   ]
  },
  {
   "cell_type": "code",
   "execution_count": null,
   "id": "f1089621",
   "metadata": {},
   "outputs": [],
   "source": [
    "new_colname <- paste0(\"cluster\", seq_along(top_markers), \"_\", \n",
    "                      top_markers_symbol, \"_localmoran\")\n",
    "for (i in seq_along(top_markers)) {\n",
    "    g <- top_markers[i]\n",
    "    colData(sfe)[[new_colname[i]]] <- \n",
    "        localResult(sfe, \"localmoran\", g)[,\"Ii\"]\n",
    "}"
   ]
  },
  {
   "cell_type": "code",
   "execution_count": null,
   "id": "0445f984",
   "metadata": {
    "fig.height": 12,
    "fig.width": 8
   },
   "outputs": [],
   "source": [
    "plotColDataFreqpoly(sfe, new_colname, color_by = \"cluster\") +\n",
    "    ggtitle(\"Local Moran's I\") +\n",
    "    theme(legend.position = \"top\") +\n",
    "    scale_y_log10() +\n",
    "    annotation_logticks(sides = \"l\")"
   ]
  },
  {
   "cell_type": "markdown",
   "id": "07215f79",
   "metadata": {
    "lines_to_next_cell": 0
   },
   "source": [
    "Again, the y axis is log transformed to make the tail more visible. For some clusters, the top marker gene's local Moran's I forms its own peak for cells in the cluster with higher local Moran's I than other cells. However, sometimes cells within the cluster form a long tail shared with some cells from other clusters. Then the local Moran's I could be another method for differential expression. Or since both local Moran's I and Leiden clustering use the k nearest neighbor graph in PCA space, local Moran's I of marker genes or perhaps eigengenes signifying gene programs for each cell type on this k nearest neighbor graph can validate or criticize Leiden clusters. Furthermore, interestingly, for some genes, the tallest peak in the histogram is away from 0.\n",
    "\n",
    "The scatter plots as shown in the \"spatial\" analyses for the QC metrics section can be made to see how local Moran's I relates to the expression of the gene itself."
   ]
  },
  {
   "cell_type": "code",
   "execution_count": null,
   "id": "9acd03a4",
   "metadata": {},
   "outputs": [],
   "source": [
    "i <- 6 # Change if running this notebook\n",
    "plotExpression(sfe, top_markers_symbol[i], x = new_colname[i], color_by = \"cluster\",\n",
    "               swap_rownames = \"Symbol\") +\n",
    "    scale_color_manual(values = ditto_colors) +\n",
    "    coord_flip() +\n",
    "    # comment out in case of error after changing i\n",
    "    geom_density2d(data = as.data.frame(colData(sfe)) |> \n",
    "                       mutate(gene = logcounts(sfe)[top_markers[i],]),\n",
    "                   mapping = aes(x = .data[[new_colname[i]]], y = gene), \n",
    "                   color = \"blue\", linewidth = 0.3) "
   ]
  },
  {
   "cell_type": "markdown",
   "id": "b6620583",
   "metadata": {},
   "source": [
    "For this gene, just like for total UMI counts, there are two wings and a central value where local Moran's I is around 0. Generally, cells with higher expression of this gene have higher local Moran's I for this gene as well. The density contours show that cells concentrate around 0 expression and some weaker positive local Moran. The streak of cells with 0 expression means that many cells don't express this gene, and their neighbors have low and slightly homogeneous expression of this gene. This pattern may be different for different genes. Also, the p-values for each cell for local Moran's I are available and corrected for multiple hypothesis testing, and can be plotted. The p-values are based on the z score of the local Moran statistic, although how the statistic is distributed for gene expression data warrants more investigation. This p-value can also be computed with permutation (see `localmoran_perm()`). "
   ]
  },
  {
   "cell_type": "code",
   "execution_count": null,
   "id": "81d8fe2a",
   "metadata": {},
   "outputs": [],
   "source": [
    "localResultAttrs(sfe, \"localmoran\", top_markers[1])"
   ]
  },
  {
   "cell_type": "markdown",
   "id": "ce742997",
   "metadata": {},
   "source": [
    "## LOSH"
   ]
  },
  {
   "cell_type": "code",
   "execution_count": null,
   "id": "f20b1fa6",
   "metadata": {},
   "outputs": [],
   "source": [
    "sfe <- runUnivariate(sfe, \"LOSH\", top_markers)"
   ]
  },
  {
   "cell_type": "code",
   "execution_count": null,
   "id": "10ed6280",
   "metadata": {
    "fig.height": 9,
    "fig.width": 12
   },
   "outputs": [],
   "source": [
    "plotLocalResult(sfe, \"LOSH\", top_markers, colGeometryName = \"centroids\", ncol = 3,\n",
    "                swap_rownames = \"Symbol\")"
   ]
  },
  {
   "cell_type": "markdown",
   "id": "fbe3ad4c",
   "metadata": {
    "lines_to_next_cell": 0
   },
   "source": [
    "In the two genes on the right, it's interesting to see higher LOSH in the middle cluster. The two genes on the left have some outliers throwing off the dynamic range, but it seems that their high LOSH regions are different.\n",
    "\n",
    "Again, we plot the histograms:"
   ]
  },
  {
   "cell_type": "code",
   "execution_count": null,
   "id": "1eb8361c",
   "metadata": {},
   "outputs": [],
   "source": [
    "new_colname2 <- paste0(\"cluster\", seq_along(top_markers), \"_\", \n",
    "                      top_markers_symbol, \"_losh\")\n",
    "for (i in seq_along(top_markers)) {\n",
    "    g <- top_markers[i]\n",
    "    colData(sfe)[[new_colname2[i]]] <- \n",
    "        localResult(sfe, \"LOSH\", g)[,\"Hi\"]\n",
    "}"
   ]
  },
  {
   "cell_type": "code",
   "execution_count": null,
   "id": "22229985",
   "metadata": {
    "fig.height": 12,
    "fig.width": 8
   },
   "outputs": [],
   "source": [
    "plotColDataFreqpoly(sfe, new_colname2, color_by = \"cluster\") +\n",
    "    ggtitle(\"Local heteroscedasticity\") +\n",
    "    theme(legend.position = \"top\") +\n",
    "    scale_y_log10() +\n",
    "    annotation_logticks(sides = \"l\")"
   ]
  },
  {
   "cell_type": "markdown",
   "id": "ae023dde",
   "metadata": {},
   "source": [
    "The relationship between expression and LOSH is more complicated. For some genes, such as the top marker gene for cluster 1 LYAR, cells in the cluster with higher expression also have higher LOSH - much like how in Poisson and negative binomial distributions, higher mean also means higher variance. However, some genes, such as the top marker gene for cluster 2 CTSS, have lower LOSH among cells that have higher expression, which means expression of this gene is more homogeneous within the cluster, consistent with local Moran. "
   ]
  },
  {
   "cell_type": "code",
   "execution_count": null,
   "id": "f978e29c",
   "metadata": {},
   "outputs": [],
   "source": [
    "i <- 6 # Change if running this notebook\n",
    "plotExpression(sfe, top_markers_symbol[i], x = new_colname2[i], \n",
    "               color_by = \"cluster\", swap_rownames = \"Symbol\") +\n",
    "    scale_color_manual(values = ditto_colors) +\n",
    "    coord_flip() +\n",
    "    # comment out in case of error after changing i\n",
    "    geom_density2d(data = as.data.frame(colData(sfe)) |> \n",
    "                       mutate(gene = logcounts(sfe)[top_markers[i],]),\n",
    "                   mapping = aes(x = .data[[new_colname2[i]]], y = gene), \n",
    "                   color = \"blue\", linewidth = 0.3) "
   ]
  },
  {
   "cell_type": "markdown",
   "id": "60f6480a",
   "metadata": {
    "lines_to_next_cell": 0
   },
   "source": [
    "For this gene, the density contour indicates that many cells don't express this gene and have homogeneous neighborhoods also with low expression. That streak around 0 expression means that neighbors of cells that don't express this gene have different levels of heterogeneity in this gene.\n",
    "\n",
    "## Moran plot\n",
    "\n",
    "Here we make Moran plots for the top marker genes."
   ]
  },
  {
   "cell_type": "code",
   "execution_count": null,
   "id": "e25b9db9",
   "metadata": {},
   "outputs": [],
   "source": [
    "sfe <- runUnivariate(sfe, \"moran.plot\", features = top_markers, colGraphName = \"knn10\")"
   ]
  },
  {
   "cell_type": "markdown",
   "id": "f3f264b2",
   "metadata": {
    "lines_to_next_cell": 0
   },
   "source": [
    "As a reference, we show Moran's I for the top marker genes, which is the slope of the line fitted to the Moran scatter plot."
   ]
  },
  {
   "cell_type": "code",
   "execution_count": null,
   "id": "bc785d1d",
   "metadata": {},
   "outputs": [],
   "source": [
    "top_markers_df[top_markers,]"
   ]
  },
  {
   "cell_type": "markdown",
   "id": "a7ed7f53",
   "metadata": {
    "lines_to_next_cell": 0
   },
   "source": [
    "There is no significant marker gene for cluster 7. These plots are shown in sequence"
   ]
  },
  {
   "cell_type": "code",
   "execution_count": null,
   "id": "4e44f8a4",
   "metadata": {},
   "outputs": [],
   "source": [
    "plts <- lapply(top_markers, moranPlot, sfe = sfe, color_by = \"cluster\", \n",
    "               swap_rownames = \"Symbol\")"
   ]
  },
  {
   "cell_type": "code",
   "execution_count": null,
   "id": "cf0be415",
   "metadata": {
    "fig.height": 9,
    "fig.width": 9
   },
   "outputs": [],
   "source": [
    "wrap_plots(plts, widths = 1, heights = 1) +\n",
    "    plot_layout(ncol = 3, guides = \"collect\") +\n",
    "    plot_annotation(tag_levels = \"1\")"
   ]
  },
  {
   "cell_type": "markdown",
   "id": "b424ae5f",
   "metadata": {
    "lines_to_next_cell": 0
   },
   "source": [
    "For some genes, the points are so concentrated around the origin that there aren't \"enough\" points elsewhere to plot the density contours. But for the cells that do express these genes, there are clusters on this plot. Some genes are not expressed in many cells, but those cells have neighbors that do express the gene, hence the vertical streak at x = 0. \n",
    "\n",
    "In this tutorial, we applied univariate spatial statistics to the k nearest neighbor graph in the gene expression PCA space rather than the histological space. Just like in histological space, it would be impractical to examine all these statistics gene by gene, so multivariate analyses that incorporate the k nearest neighbor graph may be interesting.\n",
    "\n",
    "# Session info"
   ]
  },
  {
   "cell_type": "code",
   "execution_count": null,
   "id": "fb6db1e5",
   "metadata": {
    "lines_to_next_cell": 0
   },
   "outputs": [],
   "source": [
    "sessionInfo()"
   ]
  },
  {
   "cell_type": "markdown",
   "id": "b3661bf2",
   "metadata": {},
   "source": []
  }
 ],
 "metadata": {
  "kernelspec": {
   "display_name": "R",
   "language": "R",
   "name": "ir"
  }
 },
 "nbformat": 4,
 "nbformat_minor": 5
}
