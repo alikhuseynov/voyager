{
 "cells": [
  {
   "cell_type": "raw",
<<<<<<< HEAD
   "id": "11ec96b3",
||||||| 3477967
   "id": "55bf7c4e",
=======
   "id": "c0185ed2",
>>>>>>> 763a65aa00deab365d39bc26b2dcb2cc1410a666
   "metadata": {},
   "source": [
    "---\n",
    "title: \"Apply spatial analyses to non-spatial scRNA-seq data\"\n",
    "author: \"Lambda Moses\"\n",
    "date: \"`r Sys.Date()`\"\n",
    "output: \n",
    "  html_document:\n",
    "  toc: true\n",
    "  toc_float:\n",
    "    collapsed: false\n",
    "  toc_depth: 3\n",
    "bibliography: ref.bib\n",
    "vignette: >\n",
    "  %\\VignetteIndexEntry{nonspatial}\n",
    "  %\\VignetteEngine{knitr::rmarkdown}\n",
    "  %\\VignetteEncoding{UTF-8}\n",
    "---"
   ]
  },
  {
   "cell_type": "code",
   "execution_count": null,
<<<<<<< HEAD
   "id": "692c2355",
||||||| 3477967
   "id": "31d5dd32",
=======
   "id": "8685f225",
>>>>>>> 763a65aa00deab365d39bc26b2dcb2cc1410a666
   "metadata": {
    "tags": [
     "remove_cell"
    ]
   },
   "outputs": [],
   "source": [
    "knitr::opts_chunk$set(\n",
    "  collapse = TRUE,\n",
    "  comment = \"#>\"\n",
    ")"
   ]
  },
  {
   "cell_type": "code",
   "execution_count": null,
<<<<<<< HEAD
   "id": "c1a954d1",
||||||| 3477967
   "id": "67338dfc",
=======
   "id": "26e7afc3",
>>>>>>> 763a65aa00deab365d39bc26b2dcb2cc1410a666
   "metadata": {
    "eval": false,
    "tags": [
     "remove_cell"
    ]
   },
   "outputs": [],
   "source": [
    "# Install Google Colab dependencies\n",
    "# Note: this can take 30+ minutes (many of the dependencies include C++ code, which needs to be compiled)\n",
    "\n",
    "# First install `sf`, `ragg` and `textshaping` and their system dependencies:\n",
    "system(\"apt-get -y update && apt-get install -y  libudunits2-dev libgdal-dev libgeos-dev libproj-dev libharfbuzz-dev libfribidi-dev\")\n",
    "install.packages(\"sf\")\n",
    "install.packages(\"textshaping\")\n",
    "install.packages(\"ragg\")\n",
    "\n",
    "# Install system dependencies of some other R packages that Voyager either imports or suggests:\n",
    "system(\"apt-get install -y libfribidi-dev libcairo2-dev libmagick++-dev\")\n",
    "\n",
    "# Install Voyager from Bioconductor:\n",
    "install.packages(\"BiocManager\")\n",
    "BiocManager::install(version = \"3.17\", ask = FALSE, update = FALSE, Ncpus = 2)\n",
    "BiocManager::install(\"scater\")\n",
    "system.time(\n",
    "  BiocManager::install(\"Voyager\", dependencies = TRUE, Ncpus = 2, update = FALSE)\n",
    ")\n",
    "\n",
    "# Additional dependencies for this notebook\n",
    "install.packages(\"reticulate\")\n",
    "system(\"pip3 install gget\")\n",
    "packageVersion(\"Voyager\")"
   ]
  },
  {
   "cell_type": "markdown",
<<<<<<< HEAD
   "id": "d67ace97",
||||||| 3477967
   "id": "281066de",
=======
   "id": "39ed53b7",
>>>>>>> 763a65aa00deab365d39bc26b2dcb2cc1410a666
   "metadata": {
    "lines_to_next_cell": 0
   },
   "source": [
    "# Introduction\n",
    "\n",
    "For areal spatial data, the spatial neighborhood graph is used to indicate proximity, and is required for all spatial analysis methods in the package `spdep`. One of the methods to find the spatial neighborhood graph is k nearest neighbors, which is also commonly used in gene expression PCA space for graph-based clustering of cells in non-spatial scRNA-seq data. Then what if we use the k nearest neighbors graph in PCA space rather than histological space for \"spatial\" analyses for non-spatial scRNA-seq data?\n",
    "\n",
    "Here we try such an analysis on a human peripheral blood mononuclear cells (PBMC) scRNA-seq dataset, which doesn't originally have histological spatial organization. These are the packages loaded for the analysis:"
   ]
  },
  {
   "cell_type": "code",
   "execution_count": null,
<<<<<<< HEAD
   "id": "edaefaac",
||||||| 3477967
   "id": "e510f597",
=======
   "id": "652a931e",
>>>>>>> 763a65aa00deab365d39bc26b2dcb2cc1410a666
   "metadata": {
    "name": "setup"
   },
   "outputs": [],
   "source": [
    "library(Voyager)\n",
    "library(SpatialFeatureExperiment)\n",
    "library(SpatialExperiment)\n",
    "library(DropletUtils)\n",
    "library(BiocNeighbors)\n",
    "library(scater)\n",
    "library(scran)\n",
    "library(bluster)\n",
    "library(BiocParallel)\n",
    "library(scuttle)\n",
    "library(stringr)\n",
    "library(BiocSingular)\n",
    "library(spdep)\n",
    "library(patchwork)\n",
    "library(dplyr)\n",
    "library(reticulate)\n",
    "theme_set(theme_bw())"
   ]
  },
  {
   "cell_type": "code",
   "execution_count": null,
<<<<<<< HEAD
   "id": "cc3fecae",
||||||| 3477967
   "id": "7606d7be",
=======
   "id": "2e02b832",
>>>>>>> 763a65aa00deab365d39bc26b2dcb2cc1410a666
   "metadata": {},
   "outputs": [],
   "source": [
    "# Specify Python version to use gget\n",
    "PY_PATH <- Sys.which(\"python\")\n",
    "use_python(PY_PATH)\n",
    "py_config()\n",
    "\n",
    "# Load gget\n",
    "gget <- import(\"gget\")"
   ]
  },
  {
   "cell_type": "markdown",
<<<<<<< HEAD
   "id": "67ff669f",
||||||| 3477967
   "id": "47565374",
=======
   "id": "6a16e925",
>>>>>>> 763a65aa00deab365d39bc26b2dcb2cc1410a666
   "metadata": {},
   "source": [
    "Here we download the filtered [Cell Ranger gene count matrix from the 10X website](https://support.10xgenomics.com/single-cell-gene-expression/datasets/3.0.2/5k_pbmc_v3_nextgem?). The empty droplets have already been removed."
   ]
  },
  {
   "cell_type": "code",
   "execution_count": null,
<<<<<<< HEAD
   "id": "e9ce62fd",
||||||| 3477967
   "id": "37264207",
=======
   "id": "0cc365b9",
>>>>>>> 763a65aa00deab365d39bc26b2dcb2cc1410a666
   "metadata": {},
   "outputs": [],
   "source": [
    "if (!dir.exists(\"filtered_feature_bc_matrix\")) {\n",
    "    download.file(\"https://cf.10xgenomics.com/samples/cell-exp/3.0.2/5k_pbmc_v3_nextgem/5k_pbmc_v3_nextgem_filtered_feature_bc_matrix.tar.gz\", destfile = \"5kpbmc.tar.gz\", quiet = TRUE)\n",
    "    system(\"tar -xzf 5kpbmc.tar.gz\")\n",
    "}"
   ]
  },
  {
   "cell_type": "markdown",
<<<<<<< HEAD
   "id": "d962b089",
||||||| 3477967
   "id": "4340130c",
=======
   "id": "f2372b72",
>>>>>>> 763a65aa00deab365d39bc26b2dcb2cc1410a666
   "metadata": {
    "lines_to_next_cell": 0
   },
   "source": [
    "This is loaded into R as a `SingleCellExperiment` (SCE) object."
   ]
  },
  {
   "cell_type": "code",
   "execution_count": null,
<<<<<<< HEAD
   "id": "61aa87bf",
||||||| 3477967
   "id": "cd316568",
=======
   "id": "9e5d783c",
>>>>>>> 763a65aa00deab365d39bc26b2dcb2cc1410a666
   "metadata": {},
   "outputs": [],
   "source": [
    "(sce <- read10xCounts(\"filtered_feature_bc_matrix/\"))"
   ]
  },
  {
   "cell_type": "code",
   "execution_count": null,
<<<<<<< HEAD
   "id": "c8d86910",
||||||| 3477967
   "id": "e3d3b02f",
=======
   "id": "aedc90bd",
>>>>>>> 763a65aa00deab365d39bc26b2dcb2cc1410a666
   "metadata": {},
   "outputs": [],
   "source": [
    "colnames(sce) <- sce$Barcode"
   ]
  },
  {
   "cell_type": "markdown",
<<<<<<< HEAD
   "id": "a0565e71",
||||||| 3477967
   "id": "8cc5bbb5",
=======
   "id": "41900ddf",
>>>>>>> 763a65aa00deab365d39bc26b2dcb2cc1410a666
   "metadata": {
    "lines_to_next_cell": 0
   },
   "source": [
    "# Quality control (QC)\n",
    "Here we perform some basic QC, to remove low quality cells with high proportion of mitochondrially encoded counts. "
   ]
  },
  {
   "cell_type": "code",
   "execution_count": null,
<<<<<<< HEAD
   "id": "3d9f9334",
||||||| 3477967
   "id": "658a0564",
=======
   "id": "68cc4aa3",
>>>>>>> 763a65aa00deab365d39bc26b2dcb2cc1410a666
   "metadata": {},
   "outputs": [],
   "source": [
    "is_mito <- str_detect(rowData(sce)$Symbol, \"^MT-\")\n",
    "sum(is_mito)"
   ]
  },
  {
   "cell_type": "code",
   "execution_count": null,
<<<<<<< HEAD
   "id": "36e47ee5",
||||||| 3477967
   "id": "bbc22443",
=======
   "id": "12c55d97",
>>>>>>> 763a65aa00deab365d39bc26b2dcb2cc1410a666
   "metadata": {},
   "outputs": [],
   "source": [
    "sce <- addPerCellQCMetrics(sce, subsets = list(mito = is_mito))\n",
    "names(colData(sce))"
   ]
  },
  {
   "cell_type": "markdown",
<<<<<<< HEAD
   "id": "062e3b2c",
||||||| 3477967
   "id": "a171bb00",
=======
   "id": "dd4bff2f",
>>>>>>> 763a65aa00deab365d39bc26b2dcb2cc1410a666
   "metadata": {},
   "source": [
    "The `addPerCellQCMetrics()` function computes the total UMI counts detected per cell (`sum`), number of genes detected per cell (`detected`), `sum` and `detected` for mitochondrial counts, and percentage of mitochondrial counts per cell."
   ]
  },
  {
   "cell_type": "code",
   "execution_count": null,
<<<<<<< HEAD
   "id": "d6b39818",
||||||| 3477967
   "id": "49459fcd",
=======
   "id": "f9267793",
>>>>>>> 763a65aa00deab365d39bc26b2dcb2cc1410a666
   "metadata": {},
   "outputs": [],
   "source": [
    "plotColData(sce, \"sum\") +\n",
    "    plotColData(sce, \"detected\") +\n",
    "    plotColData(sce, \"subsets_mito_percent\")"
   ]
  },
  {
   "cell_type": "markdown",
<<<<<<< HEAD
   "id": "3a429067",
||||||| 3477967
   "id": "df1a8700",
=======
   "id": "8a422a09",
>>>>>>> 763a65aa00deab365d39bc26b2dcb2cc1410a666
   "metadata": {
    "lines_to_next_cell": 0
   },
   "source": [
    "Here a 2D histogram is plotted to better show point density on the plot."
   ]
  },
  {
   "cell_type": "code",
   "execution_count": null,
<<<<<<< HEAD
   "id": "c8104c92",
||||||| 3477967
   "id": "b7f3296d",
=======
   "id": "b4f68eba",
>>>>>>> 763a65aa00deab365d39bc26b2dcb2cc1410a666
   "metadata": {},
   "outputs": [],
   "source": [
    "plotColDataBin2D(sce, x = \"sum\", y = \"detected\")"
   ]
  },
  {
   "cell_type": "code",
   "execution_count": null,
<<<<<<< HEAD
   "id": "71ed572a",
||||||| 3477967
   "id": "d0613326",
=======
   "id": "1f629e72",
>>>>>>> 763a65aa00deab365d39bc26b2dcb2cc1410a666
   "metadata": {},
   "outputs": [],
   "source": [
    "plotColDataBin2D(sce, x = \"sum\", y = \"subsets_mito_percent\")"
   ]
  },
  {
   "cell_type": "markdown",
<<<<<<< HEAD
   "id": "81f2209d",
||||||| 3477967
   "id": "89e67a05",
=======
   "id": "c85a4ee1",
>>>>>>> 763a65aa00deab365d39bc26b2dcb2cc1410a666
   "metadata": {
    "lines_to_next_cell": 0
   },
   "source": [
    "Remove cells with >20% mitochondrial counts"
   ]
  },
  {
   "cell_type": "code",
   "execution_count": null,
<<<<<<< HEAD
   "id": "db9cda12",
||||||| 3477967
   "id": "a60b7fab",
=======
   "id": "1d499315",
>>>>>>> 763a65aa00deab365d39bc26b2dcb2cc1410a666
   "metadata": {},
   "outputs": [],
   "source": [
    "sce <- sce[, sce$subsets_mito_percent < 20]\n",
    "sce <- sce[rowSums(counts(sce)) > 0,]"
   ]
  },
  {
   "cell_type": "markdown",
<<<<<<< HEAD
   "id": "2c7978ff",
||||||| 3477967
   "id": "6602a7b4",
=======
   "id": "d644ace1",
>>>>>>> 763a65aa00deab365d39bc26b2dcb2cc1410a666
   "metadata": {
    "lines_to_next_cell": 0
   },
   "source": [
    "# Basic non-spatial analyses\n",
    "Here we normalize the data, perform PCA, cluster the cells, and find marker genes for the clusters."
   ]
  },
  {
   "cell_type": "code",
   "execution_count": null,
<<<<<<< HEAD
   "id": "48a9b13b",
||||||| 3477967
   "id": "dc2d6f94",
=======
   "id": "a0d4e19f",
>>>>>>> 763a65aa00deab365d39bc26b2dcb2cc1410a666
   "metadata": {},
   "outputs": [],
   "source": [
    "#clusts <- quickCluster(sce)\n",
    "#sce <- computeSumFactors(sce, cluster = clusts)\n",
    "#sce <- sce[, sizeFactors(sce) > 0]\n",
    "sce <- logNormCounts(sce)"
   ]
  },
  {
   "cell_type": "markdown",
<<<<<<< HEAD
   "id": "8bcffd13",
||||||| 3477967
   "id": "b6a3c3d8",
=======
   "id": "27443d18",
>>>>>>> 763a65aa00deab365d39bc26b2dcb2cc1410a666
   "metadata": {
    "lines_to_next_cell": 0
   },
   "source": [
    "Use the highly variable genes for PCA:"
   ]
  },
  {
   "cell_type": "code",
   "execution_count": null,
<<<<<<< HEAD
   "id": "46878bc1",
||||||| 3477967
   "id": "9d2fbfcb",
=======
   "id": "89968380",
>>>>>>> 763a65aa00deab365d39bc26b2dcb2cc1410a666
   "metadata": {},
   "outputs": [],
   "source": [
    "dec <- modelGeneVar(sce, lowess = FALSE)\n",
    "hvgs <- getTopHVGs(dec, n = 2000)"
   ]
  },
  {
   "cell_type": "code",
   "execution_count": null,
<<<<<<< HEAD
   "id": "93aab105",
||||||| 3477967
   "id": "103bb7e5",
=======
   "id": "1a493d13",
>>>>>>> 763a65aa00deab365d39bc26b2dcb2cc1410a666
   "metadata": {},
   "outputs": [],
   "source": [
    "set.seed(29)\n",
    "sce <- runPCA(sce, ncomponents = 30, BSPARAM = IrlbaParam(),\n",
    "              subset_row = hvgs, scale = TRUE)"
   ]
  },
  {
   "cell_type": "markdown",
<<<<<<< HEAD
   "id": "0c7f37c9",
||||||| 3477967
   "id": "c382ae6a",
=======
   "id": "ef75975f",
>>>>>>> 763a65aa00deab365d39bc26b2dcb2cc1410a666
   "metadata": {
    "lines_to_next_cell": 0
   },
   "source": [
    "How many PCs shall we use for further analyses?"
   ]
  },
  {
   "cell_type": "code",
   "execution_count": null,
<<<<<<< HEAD
   "id": "bac0d7c3",
||||||| 3477967
   "id": "15471e5e",
=======
   "id": "ddebd488",
>>>>>>> 763a65aa00deab365d39bc26b2dcb2cc1410a666
   "metadata": {},
   "outputs": [],
   "source": [
    "ElbowPlot(sce, ndims = 30)"
   ]
  },
  {
   "cell_type": "markdown",
<<<<<<< HEAD
   "id": "641e7494",
||||||| 3477967
   "id": "315ba66a",
=======
   "id": "49d0af7b",
>>>>>>> 763a65aa00deab365d39bc26b2dcb2cc1410a666
   "metadata": {},
   "source": [
    "Variance explained drops sharply from PC1 and again from PC4 and then levels off. Plot genes with the largest loadings of the top 4 PCs:"
   ]
  },
  {
   "cell_type": "code",
   "execution_count": null,
<<<<<<< HEAD
   "id": "a0266074",
||||||| 3477967
   "id": "349701fc",
=======
   "id": "3af8b751",
>>>>>>> 763a65aa00deab365d39bc26b2dcb2cc1410a666
   "metadata": {
    "lines_to_next_cell": 2
   },
   "outputs": [],
   "source": [
    "plotDimLoadings(sce, swap_rownames = \"Symbol\")"
   ]
  },
  {
   "cell_type": "markdown",
<<<<<<< HEAD
   "id": "f0cdbac7",
||||||| 3477967
   "id": "9038a10c",
=======
   "id": "bdf17ca0",
>>>>>>> 763a65aa00deab365d39bc26b2dcb2cc1410a666
   "metadata": {},
   "source": [
    "To keep a little more information, we use 10 PCs, after which variance explained levels off even more."
   ]
  },
  {
   "cell_type": "code",
   "execution_count": null,
<<<<<<< HEAD
   "id": "6e6cdcb2",
||||||| 3477967
   "id": "b387c0f4",
=======
   "id": "e87aa2e2",
>>>>>>> 763a65aa00deab365d39bc26b2dcb2cc1410a666
   "metadata": {},
   "outputs": [],
   "source": [
    "sce$cluster <- clusterRows(reducedDim(sce, \"PCA\")[,1:10],\n",
    "                           BLUSPARAM = SNNGraphParam(cluster.fun = \"leiden\",\n",
    "                                                     k = 10,\n",
    "                                                     cluster.args = list(\n",
    "                                                         resolution=0.5,\n",
    "                                                         objective_function = \"modularity\"\n",
    "                                                     )))"
   ]
  },
  {
   "cell_type": "markdown",
<<<<<<< HEAD
   "id": "9a9b856d",
||||||| 3477967
   "id": "5c686b12",
=======
   "id": "05d32563",
>>>>>>> 763a65aa00deab365d39bc26b2dcb2cc1410a666
   "metadata": {},
   "source": [
    "Here we plot the cells in the first 4 PCs in a matrix plot. The diagonals are density plots of the number of cells as projected on each PC. The x axis should correspond to the columns of the matrix plot, and the y axis should correspond to the rows, so the plot in row 1 column 2 has PC2 in the x axis and PC1 in the y axis. The cells are colored by clusters found in the previous code chunk."
   ]
  },
  {
   "cell_type": "code",
   "execution_count": null,
<<<<<<< HEAD
   "id": "2f8662d4",
||||||| 3477967
   "id": "6c49e0ce",
=======
   "id": "1583183c",
>>>>>>> 763a65aa00deab365d39bc26b2dcb2cc1410a666
   "metadata": {
    "fig.height": 9,
    "fig.width": 9
   },
   "outputs": [],
   "source": [
    "plotPCA(sce, ncomponents = 4, color_by = \"cluster\")"
   ]
  },
  {
   "cell_type": "markdown",
<<<<<<< HEAD
   "id": "e9c61669",
||||||| 3477967
   "id": "47e38296",
=======
   "id": "895f60d8",
>>>>>>> 763a65aa00deab365d39bc26b2dcb2cc1410a666
   "metadata": {
    "lines_to_next_cell": 0
   },
   "source": [
    "How many cells are there in each cluster?"
   ]
  },
  {
   "cell_type": "code",
   "execution_count": null,
<<<<<<< HEAD
   "id": "e11f1685",
||||||| 3477967
   "id": "0fafa920",
=======
   "id": "26fe1ef5",
>>>>>>> 763a65aa00deab365d39bc26b2dcb2cc1410a666
   "metadata": {},
   "outputs": [],
   "source": [
    "table(sce$cluster)"
   ]
  },
  {
   "cell_type": "markdown",
<<<<<<< HEAD
   "id": "82a189f8",
||||||| 3477967
   "id": "12f88130",
=======
   "id": "4e6f031d",
>>>>>>> 763a65aa00deab365d39bc26b2dcb2cc1410a666
   "metadata": {
    "lines_to_next_cell": 0
   },
   "source": [
    "Then we use the conventional Wilcoxon rank sum test to find marker genes for each cluster. The test compares each cluster to the rest of the cells, and only genes more highly expressed in the cluster compared to the other cells are considered. The result is a list of data frames, where each data frame corresponds to one cluster. Areas under the receiver operator curve (AUC), distinguishing each cluster vs. any other cluster, are also included. The closer to 1 the better, while 0.5 means no better than random guessing. The false discovery rate (FDR) column contains the Benjamini-Hochberg corrected p-values. Genes in these data frames are already sorted by p-values."
   ]
  },
  {
   "cell_type": "code",
   "execution_count": null,
<<<<<<< HEAD
   "id": "7fa0ae8c",
||||||| 3477967
   "id": "3766c8db",
=======
   "id": "fc4deb0b",
>>>>>>> 763a65aa00deab365d39bc26b2dcb2cc1410a666
   "metadata": {
    "lines_to_next_cell": 2
   },
   "outputs": [],
   "source": [
    "markers <- findMarkers(sce, groups = colData(sce)$cluster,\n",
    "                       test.type = \"wilcox\", pval.type = \"all\", direction = \"up\")\n",
    "markers[[4]]"
   ]
  },
  {
   "cell_type": "markdown",
<<<<<<< HEAD
   "id": "bc6244df",
||||||| 3477967
   "id": "53a1452a",
=======
   "id": "e6189cbf",
>>>>>>> 763a65aa00deab365d39bc26b2dcb2cc1410a666
   "metadata": {},
   "source": [
    "See how specific the top markers are to each cluster:"
   ]
  },
  {
   "cell_type": "code",
   "execution_count": null,
<<<<<<< HEAD
   "id": "0751f43c",
||||||| 3477967
   "id": "3a7ad337",
=======
   "id": "6b2602eb",
>>>>>>> 763a65aa00deab365d39bc26b2dcb2cc1410a666
   "metadata": {},
   "outputs": [],
   "source": [
    "top_markers <- unlist(lapply(markers, function(x) head(rownames(x), 1)))\n",
    "top_markers_symbol <- rowData(sce)[top_markers, \"Symbol\"]"
   ]
  },
  {
   "cell_type": "code",
   "execution_count": null,
<<<<<<< HEAD
   "id": "df9c76c5",
||||||| 3477967
   "id": "4fe70fd8",
=======
   "id": "cf2febca",
>>>>>>> 763a65aa00deab365d39bc26b2dcb2cc1410a666
   "metadata": {},
   "outputs": [],
   "source": [
    "plotExpression(sce, top_markers_symbol, x = \"cluster\", swap_rownames = \"Symbol\",\n",
    "               point_fun = function(...) list())"
   ]
  },
  {
   "cell_type": "markdown",
<<<<<<< HEAD
   "id": "edd6b223",
||||||| 3477967
   "id": "3beb0475",
=======
   "id": "54086114",
>>>>>>> 763a65aa00deab365d39bc26b2dcb2cc1410a666
   "metadata": {
    "lines_to_next_cell": 0
   },
   "source": [
    "We can use the [gget info](https://pachterlab.github.io/gget/info.html) module from the [gget](https://pachterlab.github.io/gget/) package to get additional information for these marker genes. For example, their [NCBI](https://www.ncbi.nlm.nih.gov/) description:"
   ]
  },
  {
   "cell_type": "code",
   "execution_count": null,
<<<<<<< HEAD
   "id": "31434fae",
||||||| 3477967
   "id": "58838c8a",
=======
   "id": "d0f3cf73",
>>>>>>> 763a65aa00deab365d39bc26b2dcb2cc1410a666
   "metadata": {},
   "outputs": [],
   "source": [
    "gget_info <- gget$info(top_markers)\n",
    "\n",
    "rownames(gget_info) <- gget_info$ensembl_gene_name\n",
    "select(gget_info, ncbi_description)"
   ]
  },
  {
   "cell_type": "markdown",
<<<<<<< HEAD
   "id": "899d6e34",
||||||| 3477967
   "id": "cca75cca",
=======
   "id": "f6818b45",
>>>>>>> 763a65aa00deab365d39bc26b2dcb2cc1410a666
   "metadata": {
    "lines_to_next_cell": 0
   },
   "source": [
    "# \"Spatial\" analyses for QC metrics\n",
    "Find k nearest neighbor graph in PCA space for Moran's I: We are not using `spdep` here since its `nb2listwdist()` function for distance based edge weighting requires 2-3 dimensional spatial coordinates while the coordinates here have 10 dimensions. Here, inverse distance weighting is used for edge weights."
   ]
  },
  {
   "cell_type": "code",
   "execution_count": null,
<<<<<<< HEAD
   "id": "45c272d5",
||||||| 3477967
   "id": "e7f6d48e",
=======
   "id": "5a0082b1",
>>>>>>> 763a65aa00deab365d39bc26b2dcb2cc1410a666
   "metadata": {},
   "outputs": [],
   "source": [
    "foo <- findKNN(reducedDim(sce, \"PCA\")[,1:10], k=10, BNPARAM=AnnoyParam())\n",
    "# Split by row\n",
    "foo_nb <- asplit(foo$index, 1)\n",
    "dmat <- 1/foo$distance\n",
    "# Row normalize the weights\n",
    "dmat <- sweep(dmat, 1, rowSums(dmat), FUN = \"/\")\n",
    "glist <- asplit(dmat, 1)\n",
    "# Sort based on index\n",
    "ord <- lapply(foo_nb, order)\n",
    "foo_nb <- lapply(seq_along(foo_nb), function(i) foo_nb[[i]][ord[[i]]])\n",
    "class(foo_nb) <- \"nb\"\n",
    "glist <- lapply(seq_along(glist), function(i) glist[[i]][ord[[i]]])\n",
    "\n",
    "listw <- list(style = \"W\",\n",
    "              neighbours = foo_nb,\n",
    "              weights = glist)\n",
    "class(listw) <- \"listw\"\n",
    "attr(listw, \"region.id\") <- colnames(sce)"
   ]
  },
  {
   "cell_type": "markdown",
<<<<<<< HEAD
   "id": "6e3e0870",
||||||| 3477967
   "id": "eba57581",
=======
   "id": "c775bfa2",
>>>>>>> 763a65aa00deab365d39bc26b2dcb2cc1410a666
   "metadata": {
    "lines_to_next_cell": 0
   },
   "source": [
    "Because there is no histological space, we convert the SCE object into `SpatialFeatureExperiment` (SFE) to use the spatial analysis and plotting functions from `Voyager`, and pretend that the first 2 PCs are the histological space."
   ]
  },
  {
   "cell_type": "code",
   "execution_count": null,
<<<<<<< HEAD
   "id": "010a3ab1",
||||||| 3477967
   "id": "4411f588",
=======
   "id": "c977b387",
>>>>>>> 763a65aa00deab365d39bc26b2dcb2cc1410a666
   "metadata": {},
   "outputs": [],
   "source": [
    "(sfe <- toSpatialFeatureExperiment(sce, spatialCoords = reducedDim(sce, \"PCA\")[,1:2],\n",
    "                                  spatialCoordsNames = NULL))"
   ]
  },
  {
   "cell_type": "markdown",
<<<<<<< HEAD
   "id": "ee8c3b87",
||||||| 3477967
   "id": "01e6b0d5",
=======
   "id": "934b213a",
>>>>>>> 763a65aa00deab365d39bc26b2dcb2cc1410a666
   "metadata": {
    "lines_to_next_cell": 0
   },
   "source": [
    "Add the k nearest neighbor graph to the SFE object:"
   ]
  },
  {
   "cell_type": "code",
   "execution_count": null,
<<<<<<< HEAD
   "id": "c506f14f",
||||||| 3477967
   "id": "e7c3ccdb",
=======
   "id": "1589dd31",
>>>>>>> 763a65aa00deab365d39bc26b2dcb2cc1410a666
   "metadata": {},
   "outputs": [],
   "source": [
    "colGraph(sfe, \"knn10\") <- listw"
   ]
  },
  {
   "cell_type": "markdown",
<<<<<<< HEAD
   "id": "06e65061",
||||||| 3477967
   "id": "15086e35",
=======
   "id": "5a205892",
>>>>>>> 763a65aa00deab365d39bc26b2dcb2cc1410a666
   "metadata": {
    "lines_to_next_cell": 0
   },
   "source": [
    "## Moran's I"
   ]
  },
  {
   "cell_type": "code",
   "execution_count": null,
<<<<<<< HEAD
   "id": "6f0a56f1",
||||||| 3477967
   "id": "51f35928",
=======
   "id": "fc6ebade",
>>>>>>> 763a65aa00deab365d39bc26b2dcb2cc1410a666
   "metadata": {},
   "outputs": [],
   "source": [
    "sfe <- colDataMoransI(sfe, c(\"sum\", \"detected\", \"subsets_mito_percent\"))\n",
    "colFeatureData(sfe)[c(\"sum\", \"detected\", \"subsets_mito_percent\"),]"
   ]
  },
  {
   "cell_type": "markdown",
<<<<<<< HEAD
   "id": "3f0da2de",
||||||| 3477967
   "id": "d57e079f",
=======
   "id": "2a4d51fe",
>>>>>>> 763a65aa00deab365d39bc26b2dcb2cc1410a666
   "metadata": {
    "lines_to_next_cell": 0
   },
   "source": [
    "For total UMI counts (sum) and genes detected (detected), Moran's I is quite strong, while it's positive but weaker for percentage of mitochondrial counts. The second column, K, is kurtosis of the feature of interest. \n",
    "\n",
    "## Moran plot\n",
    "\n",
    "How about the local variations on the k nearest neighbors graph? In the Moran plot, the x axis is the value for each cell, and the y axis is the average value among neighboring cells in the graph weighted by edge weights. The slope of the fitted line is Moran's I. Sometimes there are clusters in this plot, showing different kinds of neighborhoods."
   ]
  },
  {
   "cell_type": "code",
   "execution_count": null,
<<<<<<< HEAD
   "id": "4ec9a5d6",
||||||| 3477967
   "id": "0686b463",
=======
   "id": "5835609c",
>>>>>>> 763a65aa00deab365d39bc26b2dcb2cc1410a666
   "metadata": {},
   "outputs": [],
   "source": [
    "sfe <- colDataUnivariate(sfe, \"moran.plot\", c(\"sum\", \"detected\", \"subsets_mito_percent\"))"
   ]
  },
  {
   "cell_type": "markdown",
<<<<<<< HEAD
   "id": "a45b4c95",
||||||| 3477967
   "id": "61825e77",
=======
   "id": "144460b9",
>>>>>>> 763a65aa00deab365d39bc26b2dcb2cc1410a666
   "metadata": {
    "lines_to_next_cell": 0
   },
   "source": [
    "The dashed lines are the averages on the x and y axes."
   ]
  },
  {
   "cell_type": "code",
   "execution_count": null,
<<<<<<< HEAD
   "id": "0aaad6e5",
||||||| 3477967
   "id": "c1577eea",
=======
   "id": "caed125c",
>>>>>>> 763a65aa00deab365d39bc26b2dcb2cc1410a666
   "metadata": {},
   "outputs": [],
   "source": [
    "moranPlot(sfe, \"sum\", color_by = \"cluster\")"
   ]
  },
  {
   "cell_type": "markdown",
<<<<<<< HEAD
   "id": "3cbb1854",
||||||| 3477967
   "id": "c84b6255",
=======
   "id": "8c3451a3",
>>>>>>> 763a65aa00deab365d39bc26b2dcb2cc1410a666
   "metadata": {
    "lines_to_next_cell": 0
   },
   "source": [
    "While most cells are in the cluster around the average, there is a cluster of cells with lower total counts whose neighbors also have lower total counts. There also is a cluster of cells with higher total counts whose neighbors also have higher total counts. These clusters seem to be somewhat related to some gene expression based clusters."
   ]
  },
  {
   "cell_type": "code",
   "execution_count": null,
<<<<<<< HEAD
   "id": "6ea5a970",
||||||| 3477967
   "id": "b4b38ad8",
=======
   "id": "cfb72153",
>>>>>>> 763a65aa00deab365d39bc26b2dcb2cc1410a666
   "metadata": {},
   "outputs": [],
   "source": [
    "moranPlot(sfe, \"detected\", color_by = \"cluster\")"
   ]
  },
  {
   "cell_type": "code",
   "execution_count": null,
<<<<<<< HEAD
   "id": "d2bc565f",
||||||| 3477967
   "id": "8546d4f7",
=======
   "id": "cdd21e87",
>>>>>>> 763a65aa00deab365d39bc26b2dcb2cc1410a666
   "metadata": {},
   "outputs": [],
   "source": [
    "moranPlot(sfe, \"subsets_mito_percent\", color_by = \"cluster\")"
   ]
  },
  {
   "cell_type": "markdown",
<<<<<<< HEAD
   "id": "03ead79f",
||||||| 3477967
   "id": "5e5a974f",
=======
   "id": "97010a74",
>>>>>>> 763a65aa00deab365d39bc26b2dcb2cc1410a666
   "metadata": {},
   "source": [
    "There is one main cluster on this plot for the number of genes detected and for the percentage of mitochondrial counts. However, cells are somewhat separated by gene expression clusters. This is not surprising because the gene expression clusters are also based on the k nearest neighbor graph. Cluster 4 cells have a higher percentage of mitochondrial counts and so do their neighbors. \n",
    "\n",
    "## Local Moran's I\n",
    "Also see local Moran's I for these 3 QC metrics:"
   ]
  },
  {
   "cell_type": "code",
   "execution_count": null,
<<<<<<< HEAD
   "id": "a126628c",
||||||| 3477967
   "id": "1aa656b1",
=======
   "id": "0ea4d051",
>>>>>>> 763a65aa00deab365d39bc26b2dcb2cc1410a666
   "metadata": {},
   "outputs": [],
   "source": [
    "sfe <- colDataUnivariate(sfe, \"localmoran\", c(\"sum\", \"detected\", \"subsets_mito_percent\"))"
   ]
  },
  {
   "cell_type": "markdown",
<<<<<<< HEAD
   "id": "f6474ddd",
||||||| 3477967
   "id": "a99c4950",
=======
   "id": "54065263",
>>>>>>> 763a65aa00deab365d39bc26b2dcb2cc1410a666
   "metadata": {
    "lines_to_next_cell": 0
   },
   "source": [
    "Here, we don't have a histological space. So how can we visualize the local \"spatial\" statistics? [UMAP is bad](https://www.biorxiv.org/content/10.1101/2021.08.25.457696v1), but in this case PCA can somewhat separate the clusters. We can use the first 2 PCs as if they are the histological space. As a reference, we plot the metrics themselves and the clusters in the first 2 PCs. "
   ]
  },
  {
   "cell_type": "code",
   "execution_count": null,
<<<<<<< HEAD
   "id": "63da03bc",
||||||| 3477967
   "id": "f519d286",
=======
   "id": "d37be41d",
>>>>>>> 763a65aa00deab365d39bc26b2dcb2cc1410a666
   "metadata": {
    "fig.height": 6,
    "fig.width": 8
   },
   "outputs": [],
   "source": [
    "plotSpatialFeature(sfe, c(\"sum\", \"detected\", \"subsets_mito_percent\", \"cluster\"))"
   ]
  },
  {
   "cell_type": "markdown",
<<<<<<< HEAD
   "id": "4c6c12ba",
||||||| 3477967
   "id": "c1e72c66",
=======
   "id": "6503277a",
>>>>>>> 763a65aa00deab365d39bc26b2dcb2cc1410a666
   "metadata": {
    "lines_to_next_cell": 0
   },
   "source": [
    "Plot the local Moran's I for these metrics in the first 2 PCs:"
   ]
  },
  {
   "cell_type": "code",
   "execution_count": null,
<<<<<<< HEAD
   "id": "a4ac8302",
||||||| 3477967
   "id": "1373e43a",
=======
   "id": "066dbfce",
>>>>>>> 763a65aa00deab365d39bc26b2dcb2cc1410a666
   "metadata": {
    "fig.height": 6,
    "fig.width": 8
   },
   "outputs": [],
   "source": [
    "plotLocalResult(sfe, \"localmoran\", c(\"sum\", \"detected\", \"subsets_mito_percent\"), \n",
    "                colGeometryName = \"centroids\",\n",
    "                divergent = TRUE, diverge_center = 0, ncol = 2)"
   ]
  },
  {
   "cell_type": "markdown",
<<<<<<< HEAD
   "id": "7d65c5e3",
||||||| 3477967
   "id": "5ca8410c",
=======
   "id": "e73b1327",
>>>>>>> 763a65aa00deab365d39bc26b2dcb2cc1410a666
   "metadata": {
    "lines_to_next_cell": 0
   },
   "source": [
    "However, what if there is no good 2D representation of the data for easy plotting? Remember that here the k nearest neighbor graph was computed on the first 10 PCs rather than the first 2 PCs. The graph is not tied to the 2D representation. We can still plot histograms to show the distribution and scatter plots to compare the same local metric for different variables, which can be colored by another variable such as cluster. This may be added to the next release of Voyager. For now, we add the results of interest to `colData(sfe)` and use the existing `colData` plotting functions from `scater` and `Voyager`."
   ]
  },
  {
   "cell_type": "code",
   "execution_count": null,
<<<<<<< HEAD
   "id": "102dd450",
||||||| 3477967
   "id": "8f40109f",
=======
   "id": "386be14f",
>>>>>>> 763a65aa00deab365d39bc26b2dcb2cc1410a666
   "metadata": {},
   "outputs": [],
   "source": [
    "localResultAttrs(sfe, \"localmoran\", \"sum\")"
   ]
  },
  {
   "cell_type": "code",
   "execution_count": null,
<<<<<<< HEAD
   "id": "0ae79e57",
||||||| 3477967
   "id": "d03091df",
=======
   "id": "6921f2a6",
>>>>>>> 763a65aa00deab365d39bc26b2dcb2cc1410a666
   "metadata": {},
   "outputs": [],
   "source": [
    "sfe$sum_localmoran <- localResult(sfe, \"localmoran\", \"sum\")[,\"Ii\"]\n",
    "sfe$detected_localmoran <- localResult(sfe, \"localmoran\", \"detected\")[,\"Ii\"]\n",
    "sfe$pct_mito_localmoran <- localResult(sfe, \"localmoran\", \"subsets_mito_percent\")[,\"Ii\"]"
   ]
  },
  {
   "cell_type": "code",
   "execution_count": null,
<<<<<<< HEAD
   "id": "e5c9305d",
||||||| 3477967
   "id": "a464462d",
=======
   "id": "8361de32",
>>>>>>> 763a65aa00deab365d39bc26b2dcb2cc1410a666
   "metadata": {},
   "outputs": [],
   "source": [
    "# Colorblind friendly palette\n",
    "data(\"ditto_colors\")"
   ]
  },
  {
   "cell_type": "code",
   "execution_count": null,
<<<<<<< HEAD
   "id": "5daf0c82",
||||||| 3477967
   "id": "f130b1b2",
=======
   "id": "23cc070b",
>>>>>>> 763a65aa00deab365d39bc26b2dcb2cc1410a666
   "metadata": {},
   "outputs": [],
   "source": [
    "plotColDataFreqpoly(sfe, c(\"sum_localmoran\", \"detected_localmoran\", \n",
    "                           \"pct_mito_localmoran\"), bins = 50, \n",
    "                    color_by = \"cluster\") +\n",
    "    scale_y_log10() +\n",
    "    annotation_logticks(sides = \"l\")"
   ]
  },
  {
   "cell_type": "markdown",
<<<<<<< HEAD
   "id": "7da1fe58",
||||||| 3477967
   "id": "01ed1c98",
=======
   "id": "c858893d",
>>>>>>> 763a65aa00deab365d39bc26b2dcb2cc1410a666
   "metadata": {},
   "source": [
    "The y axis is log transformed (hence that warning when some bins have no cells), so the color of cells in the long tail can be seen because most cells don't have very strong local Moran's I. Cells in cluster 7 have high local Moran's I in total UMI counts and genes detected, which means that they tend to be more homogeneous in these QC metrics.\n",
    "\n",
    "How do local Moran's I for these QC metrics relate to each other?"
   ]
  },
  {
   "cell_type": "code",
   "execution_count": null,
<<<<<<< HEAD
   "id": "669e7a1c",
||||||| 3477967
   "id": "a78fcca0",
=======
   "id": "9715fae5",
>>>>>>> 763a65aa00deab365d39bc26b2dcb2cc1410a666
   "metadata": {},
   "outputs": [],
   "source": [
    "plotColData(sfe, x = \"sum_localmoran\", y = \"detected_localmoran\", \n",
    "            color_by = \"cluster\") +\n",
    "    scale_color_manual(values = ditto_colors)"
   ]
  },
  {
   "cell_type": "markdown",
<<<<<<< HEAD
   "id": "ffea44c0",
||||||| 3477967
   "id": "06379933",
=======
   "id": "904429c8",
>>>>>>> 763a65aa00deab365d39bc26b2dcb2cc1410a666
   "metadata": {},
   "source": [
    "Cells more locally homogeneous in total UMI counts are also more homogeneous in number of genes detected, which is not surprising given the correlation between the two."
   ]
  },
  {
   "cell_type": "code",
   "execution_count": null,
<<<<<<< HEAD
   "id": "11c1eeda",
||||||| 3477967
   "id": "24709422",
=======
   "id": "ebb2c1f4",
>>>>>>> 763a65aa00deab365d39bc26b2dcb2cc1410a666
   "metadata": {},
   "outputs": [],
   "source": [
    "plotColData(sfe, x = \"sum_localmoran\", y = \"pct_mito_localmoran\", \n",
    "            color_by = \"cluster\") +\n",
    "    scale_color_manual(values = ditto_colors)"
   ]
  },
  {
   "cell_type": "markdown",
<<<<<<< HEAD
   "id": "d72a4440",
||||||| 3477967
   "id": "6359f835",
=======
   "id": "073a0043",
>>>>>>> 763a65aa00deab365d39bc26b2dcb2cc1410a666
   "metadata": {
    "lines_to_next_cell": 0
   },
   "source": [
    "For local Moran's I, `sum` vs percentage mitochondrial counts shows a more interesting pattern, highlighting clusters 4 and 7 as in the Moran plots.\n",
    "\n",
    "How does local Moran's I relate to the value itself?"
   ]
  },
  {
   "cell_type": "code",
   "execution_count": null,
<<<<<<< HEAD
   "id": "0c31605e",
||||||| 3477967
   "id": "becb1b00",
=======
   "id": "c07a1c36",
>>>>>>> 763a65aa00deab365d39bc26b2dcb2cc1410a666
   "metadata": {},
   "outputs": [],
   "source": [
    "plotColData(sfe, x = \"sum\", y = \"sum_localmoran\", color_by = \"cluster\") +\n",
    "    geom_density2d(data = as.data.frame(colData(sfe)),\n",
    "                   mapping = aes(x = sum, y = sum_localmoran), color = \"blue\", \n",
    "                   linewidth = 0.3) +\n",
    "    scale_color_manual(values = ditto_colors)"
   ]
  },
  {
   "cell_type": "markdown",
<<<<<<< HEAD
   "id": "f69546f6",
||||||| 3477967
   "id": "40ae2438",
=======
   "id": "e643dd48",
>>>>>>> 763a65aa00deab365d39bc26b2dcb2cc1410a666
   "metadata": {
    "lines_to_next_cell": 0
   },
   "source": [
    "In this case, generally cells with higher total counts also tend to have higher local Moran's I in total counts. However, there is another wing where cells with lower total counts have slightly higher local Moran's I in total counts and there's a central value of total counts with near 0 local Moran's I. The density contour shows that cells are concentrated at that central value.\n",
    "\n",
    "## Local spatial heteroscedasticity (LOSH)\n",
    "\n",
    "LOSH indicates heterogeneity around each cell in the k nearest neighbor graph."
   ]
  },
  {
   "cell_type": "code",
   "execution_count": null,
<<<<<<< HEAD
   "id": "571cc20e",
||||||| 3477967
   "id": "880d6f8b",
=======
   "id": "ff58fc7c",
>>>>>>> 763a65aa00deab365d39bc26b2dcb2cc1410a666
   "metadata": {},
   "outputs": [],
   "source": [
    "sfe <- colDataUnivariate(sfe, \"LOSH\", c(\"sum\", \"detected\", \"subsets_mito_percent\"))"
   ]
  },
  {
   "cell_type": "code",
   "execution_count": null,
<<<<<<< HEAD
   "id": "0bb4c2af",
||||||| 3477967
   "id": "8ba3ae74",
=======
   "id": "0ecacae1",
>>>>>>> 763a65aa00deab365d39bc26b2dcb2cc1410a666
   "metadata": {
    "fig.height": 6,
    "fig.width": 8
   },
   "outputs": [],
   "source": [
    "plotLocalResult(sfe, \"LOSH\", c(\"sum\", \"detected\", \"subsets_mito_percent\"), \n",
    "                colGeometryName = \"centroids\", ncol = 2)"
   ]
  },
  {
   "cell_type": "markdown",
<<<<<<< HEAD
   "id": "f2d8ca09",
||||||| 3477967
   "id": "3a16e385",
=======
   "id": "f4226d08",
>>>>>>> 763a65aa00deab365d39bc26b2dcb2cc1410a666
   "metadata": {},
   "source": [
    "Here we make the same non-spatial plots for LOSH as in local Moran's I."
   ]
  },
  {
   "cell_type": "code",
   "execution_count": null,
<<<<<<< HEAD
   "id": "c584cca3",
||||||| 3477967
   "id": "5a5aa5d0",
=======
   "id": "b918a9ad",
>>>>>>> 763a65aa00deab365d39bc26b2dcb2cc1410a666
   "metadata": {},
   "outputs": [],
   "source": [
    "localResultAttrs(sfe, \"LOSH\", \"sum\")"
   ]
  },
  {
   "cell_type": "code",
   "execution_count": null,
<<<<<<< HEAD
   "id": "18ace3df",
||||||| 3477967
   "id": "8562eff1",
=======
   "id": "b80b4172",
>>>>>>> 763a65aa00deab365d39bc26b2dcb2cc1410a666
   "metadata": {},
   "outputs": [],
   "source": [
    "sfe$sum_losh <- localResult(sfe, \"LOSH\", \"sum\")[,\"Hi\"]\n",
    "sfe$detected_losh <- localResult(sfe, \"LOSH\", \"detected\")[,\"Hi\"]\n",
    "sfe$pct_mito_losh <- localResult(sfe, \"LOSH\", \"subsets_mito_percent\")[,\"Hi\"]"
   ]
  },
  {
   "cell_type": "code",
   "execution_count": null,
<<<<<<< HEAD
   "id": "f79577b4",
||||||| 3477967
   "id": "a5216af0",
=======
   "id": "14d2a6ee",
>>>>>>> 763a65aa00deab365d39bc26b2dcb2cc1410a666
   "metadata": {},
   "outputs": [],
   "source": [
    "plotColDataFreqpoly(sfe, c(\"sum_losh\", \"detected_losh\", \n",
    "                           \"pct_mito_losh\"), bins = 50, \n",
    "                     color_by = \"cluster\") +\n",
    "    scale_y_log10() +\n",
    "    annotation_logticks(sides = \"l\")"
   ]
  },
  {
   "cell_type": "markdown",
<<<<<<< HEAD
   "id": "294f49c4",
||||||| 3477967
   "id": "b79d3c68",
=======
   "id": "594cdd4f",
>>>>>>> 763a65aa00deab365d39bc26b2dcb2cc1410a666
   "metadata": {},
   "source": [
    "Here, clusters 2 and 6 tend to be more locally heterogeneous. How do total counts and genes detected relate in LOSH?"
   ]
  },
  {
   "cell_type": "code",
   "execution_count": null,
<<<<<<< HEAD
   "id": "9488bbff",
||||||| 3477967
   "id": "c8ecd6e2",
=======
   "id": "70627efc",
>>>>>>> 763a65aa00deab365d39bc26b2dcb2cc1410a666
   "metadata": {},
   "outputs": [],
   "source": [
    "plotColData(sfe, x = \"sum_losh\", y = \"detected_losh\", color_by = \"cluster\") +\n",
    "    scale_color_manual(values = ditto_colors)"
   ]
  },
  {
   "cell_type": "markdown",
<<<<<<< HEAD
   "id": "5a4bc773",
||||||| 3477967
   "id": "64693c11",
=======
   "id": "97fd736c",
>>>>>>> 763a65aa00deab365d39bc26b2dcb2cc1410a666
   "metadata": {},
   "source": [
    "While generally cells higher in LOSH in total counts are also higher in LOSH in genes detected, there are some outliers that are very high in both, with more heterogeneous neighborhoods. Absolute distance to the neighbors is not taken into account when the adjacency matrix is row normalized. It would be interesting to see if those outliers tend to be further away from their 10 nearest neighbors, or in a region in the PCA space where cells are further apart.\n",
    "\n",
    "How does total counts itself relate to its LOSH?"
   ]
  },
  {
   "cell_type": "code",
   "execution_count": null,
<<<<<<< HEAD
   "id": "83aeb251",
||||||| 3477967
   "id": "0d81099d",
=======
   "id": "05e0431e",
>>>>>>> 763a65aa00deab365d39bc26b2dcb2cc1410a666
   "metadata": {},
   "outputs": [],
   "source": [
    "plotColData(sfe, x = \"sum\", y = \"sum_losh\", color_by = \"cluster\") +\n",
    "    scale_color_manual(values = ditto_colors)"
   ]
  },
  {
   "cell_type": "markdown",
<<<<<<< HEAD
   "id": "bccf2038",
||||||| 3477967
   "id": "d61ef5ce",
=======
   "id": "141a3fc0",
>>>>>>> 763a65aa00deab365d39bc26b2dcb2cc1410a666
   "metadata": {
    "lines_to_next_cell": 0
   },
   "source": [
    "There does not seem to be a clear relationship in this case. \n",
    "\n",
    "# \"Spatial\" analyses for gene expression\n",
    "First, we need to reorganize the differential expression results:"
   ]
  },
  {
   "cell_type": "code",
   "execution_count": null,
<<<<<<< HEAD
   "id": "a6e835df",
||||||| 3477967
   "id": "a8c45c3a",
=======
   "id": "62668d47",
>>>>>>> 763a65aa00deab365d39bc26b2dcb2cc1410a666
   "metadata": {},
   "outputs": [],
   "source": [
    "top_markers_df <- lapply(seq_along(markers), function(i) {\n",
    "    out <- markers[[i]][markers[[i]]$FDR < 0.05, c(\"FDR\", \"summary.AUC\")]\n",
    "    if (nrow(out)) out$cluster <- i\n",
    "    out\n",
    "})\n",
    "top_markers_df <- do.call(rbind, top_markers_df)\n",
    "top_markers_df$symbol <- rowData(sce)[rownames(top_markers_df), \"Symbol\"]"
   ]
  },
  {
   "cell_type": "markdown",
<<<<<<< HEAD
   "id": "3f685ae6",
||||||| 3477967
   "id": "9334ba37",
=======
   "id": "a3a1a291",
>>>>>>> 763a65aa00deab365d39bc26b2dcb2cc1410a666
   "metadata": {
    "lines_to_next_cell": 0
   },
   "source": [
    "## Moran's I"
   ]
  },
  {
   "cell_type": "code",
   "execution_count": null,
<<<<<<< HEAD
   "id": "f09bb618",
||||||| 3477967
   "id": "602e36d3",
=======
   "id": "73f11248",
>>>>>>> 763a65aa00deab365d39bc26b2dcb2cc1410a666
   "metadata": {},
   "outputs": [],
   "source": [
    "sfe <- runMoransI(sfe, features = hvgs, BPPARAM = MulticoreParam(2))"
   ]
  },
  {
   "cell_type": "markdown",
<<<<<<< HEAD
   "id": "ba56e9a4",
||||||| 3477967
   "id": "95efbce9",
=======
   "id": "78f6daff",
>>>>>>> 763a65aa00deab365d39bc26b2dcb2cc1410a666
   "metadata": {
    "lines_to_next_cell": 0
   },
   "source": [
    "The results are added to `rowData(sfe)`. The NA's are for non-highly variable genes, as Moran's I was only computed for highly variable genes here."
   ]
  },
  {
   "cell_type": "code",
   "execution_count": null,
<<<<<<< HEAD
   "id": "be45271e",
||||||| 3477967
   "id": "4a3e0e26",
=======
   "id": "a71190c0",
>>>>>>> 763a65aa00deab365d39bc26b2dcb2cc1410a666
   "metadata": {},
   "outputs": [],
   "source": [
    "rowData(sfe)"
   ]
  },
  {
   "cell_type": "markdown",
<<<<<<< HEAD
   "id": "c192f006",
||||||| 3477967
   "id": "d860ff09",
=======
   "id": "117d4e46",
>>>>>>> 763a65aa00deab365d39bc26b2dcb2cc1410a666
   "metadata": {
    "lines_to_next_cell": 0
   },
   "source": [
    "How are the Moran's I's for highly variable genes distributed? Also, where are the top cluster marker genes in this distribution?"
   ]
  },
  {
   "cell_type": "code",
   "execution_count": null,
<<<<<<< HEAD
   "id": "65bcef2f",
||||||| 3477967
   "id": "470cb593",
=======
   "id": "e297749a",
>>>>>>> 763a65aa00deab365d39bc26b2dcb2cc1410a666
   "metadata": {},
   "outputs": [],
   "source": [
    "plotRowDataHistogram(sfe, \"moran_sample01\", bins = 50) +\n",
    "    geom_vline(data = as.data.frame(rowData(sfe)[top_markers,]) |> \n",
    "                   mutate(index = seq_along(top_markers)),\n",
    "               aes(xintercept = moran_sample01, color = index)) +\n",
    "    scale_color_continuous(breaks = scales::breaks_width(2))"
   ]
  },
  {
   "cell_type": "markdown",
<<<<<<< HEAD
   "id": "bd7feb1c",
||||||| 3477967
   "id": "8803174d",
=======
   "id": "a82218e9",
>>>>>>> 763a65aa00deab365d39bc26b2dcb2cc1410a666
   "metadata": {},
   "source": [
    "The top marker genes all have quite positive Moran's I on the k nearest neighbor graph. It would also be interesting to color this histogram by gene sets. Since the k nearest neighbor graph was found in PCA space, which is based on gene expression, as expected, Moran's I with this graph is mostly positive, although often not that strong. A small number of genes have slightly negative Moran's I. What do the top genes look like in PCA?"
   ]
  },
  {
   "cell_type": "code",
   "execution_count": null,
<<<<<<< HEAD
   "id": "3d666d8d",
||||||| 3477967
   "id": "41248a6d",
=======
   "id": "694d7d55",
>>>>>>> 763a65aa00deab365d39bc26b2dcb2cc1410a666
   "metadata": {
    "fig.height": 6,
    "fig.width": 8
   },
   "outputs": [],
   "source": [
    "top_moran <- head(rownames(sfe)[order(rowData(sfe)$moran_sample01, decreasing = TRUE)], 4)\n",
    "plotSpatialFeature(sfe, top_moran, ncol = 2)"
   ]
  },
  {
   "cell_type": "code",
   "execution_count": null,
<<<<<<< HEAD
   "id": "66c2d8d3",
||||||| 3477967
   "id": "791f0561",
=======
   "id": "59e3b23f",
>>>>>>> 763a65aa00deab365d39bc26b2dcb2cc1410a666
   "metadata": {},
   "outputs": [],
   "source": [
    "top_moran_symbol <- rowData(sfe)[top_moran, \"Symbol\"]\n",
    "plotExpression(sfe, top_moran_symbol, swap_rownames = \"Symbol\")"
   ]
  },
  {
   "cell_type": "markdown",
<<<<<<< HEAD
   "id": "fe6e693c",
||||||| 3477967
   "id": "81364b1a",
=======
   "id": "ec87de2e",
>>>>>>> 763a65aa00deab365d39bc26b2dcb2cc1410a666
   "metadata": {},
   "source": [
    "They are all marker genes for the same cluster, cluster 9. Perhaps these genes have high Moran's I because they are specific to a cell type. Then how does the Moran's I relate to cluster AUC and cluster differential expression p-value?"
   ]
  },
  {
   "cell_type": "code",
   "execution_count": null,
<<<<<<< HEAD
   "id": "50006a1a",
||||||| 3477967
   "id": "765c3a07",
=======
   "id": "3ab2b96f",
>>>>>>> 763a65aa00deab365d39bc26b2dcb2cc1410a666
   "metadata": {},
   "outputs": [],
   "source": [
    "# See if markers are unique to clusters\n",
    "anyDuplicated(rownames(top_markers_df))"
   ]
  },
  {
   "cell_type": "code",
   "execution_count": null,
<<<<<<< HEAD
   "id": "1245cdf4",
||||||| 3477967
   "id": "23fd216d",
=======
   "id": "4437164b",
>>>>>>> 763a65aa00deab365d39bc26b2dcb2cc1410a666
   "metadata": {},
   "outputs": [],
   "source": [
    "top_markers_df$moran <- rowData(sfe)[rownames(top_markers_df), \"moran_sample01\"]\n",
    "top_markers_df$log_p_adj <- -log10(top_markers_df$FDR)\n",
    "top_markers_df$cluster <- factor(top_markers_df$cluster, \n",
    "                                 levels = seq_len(length(unique(top_markers_df$cluster))))"
   ]
  },
  {
   "cell_type": "markdown",
<<<<<<< HEAD
   "id": "0c8efba0",
||||||| 3477967
   "id": "2ab61fce",
=======
   "id": "a18e76b0",
>>>>>>> 763a65aa00deab365d39bc26b2dcb2cc1410a666
   "metadata": {
    "lines_to_next_cell": 0
   },
   "source": [
    "How does the differential expression p-value relate to Moran's I?"
   ]
  },
  {
   "cell_type": "code",
   "execution_count": null,
<<<<<<< HEAD
   "id": "85d43ebd",
||||||| 3477967
   "id": "e1b75905",
=======
   "id": "fb2c2f59",
>>>>>>> 763a65aa00deab365d39bc26b2dcb2cc1410a666
   "metadata": {},
   "outputs": [],
   "source": [
    "as.data.frame(top_markers_df) |> \n",
    "    ggplot(aes(log_p_adj, moran)) +\n",
    "    geom_point(aes(color = cluster)) +\n",
    "    geom_smooth(method = \"lm\") +\n",
    "    scale_color_manual(values = ditto_colors)"
   ]
  },
  {
   "cell_type": "markdown",
<<<<<<< HEAD
   "id": "14584118",
||||||| 3477967
   "id": "c14d4385",
=======
   "id": "173405d9",
>>>>>>> 763a65aa00deab365d39bc26b2dcb2cc1410a666
   "metadata": {},
   "source": [
    "Generally, more significant marker genes tend to have higher Moran's I. This is not surprising because the clusters and Moran's I here are both based on the k nearest neighbor graph."
   ]
  },
  {
   "cell_type": "code",
   "execution_count": null,
<<<<<<< HEAD
   "id": "13fbeba4",
||||||| 3477967
   "id": "b1ae4e96",
=======
   "id": "de4d754b",
>>>>>>> 763a65aa00deab365d39bc26b2dcb2cc1410a666
   "metadata": {},
   "outputs": [],
   "source": [
    "as.data.frame(top_markers_df) |> \n",
    "    ggplot(aes(summary.AUC, moran)) +\n",
    "    geom_point(aes(color = cluster)) +\n",
    "    geom_smooth(method = \"lm\") +\n",
    "    scale_color_manual(values = ditto_colors)"
   ]
  },
  {
   "cell_type": "markdown",
<<<<<<< HEAD
   "id": "ee4848bf",
||||||| 3477967
   "id": "03b1a906",
=======
   "id": "637ac90a",
>>>>>>> 763a65aa00deab365d39bc26b2dcb2cc1410a666
   "metadata": {
    "lines_to_next_cell": 0
   },
   "source": [
    "Similarly, genes with higher AUC tend to have higher Moran's I. For other clusters, generally speaking, genes more specific to a cluster tend to have higher Moran's I.\n",
    "\n",
    "Let's use permutation testing to see if Moran's I is statistically significant:"
   ]
  },
  {
   "cell_type": "code",
   "execution_count": null,
<<<<<<< HEAD
   "id": "b5936ca8",
||||||| 3477967
   "id": "0f2e94ed",
=======
   "id": "a982433b",
>>>>>>> 763a65aa00deab365d39bc26b2dcb2cc1410a666
   "metadata": {},
   "outputs": [],
   "source": [
    "sfe <- runUnivariate(sfe, \"moran.mc\", features = top_markers, nsim = 200)"
   ]
  },
  {
   "cell_type": "code",
   "execution_count": null,
<<<<<<< HEAD
   "id": "9ddde21c",
||||||| 3477967
   "id": "80af6f7e",
=======
   "id": "8b2f9c99",
>>>>>>> 763a65aa00deab365d39bc26b2dcb2cc1410a666
   "metadata": {},
   "outputs": [],
   "source": [
    "top_markers_symbol"
   ]
  },
  {
   "cell_type": "code",
   "execution_count": null,
<<<<<<< HEAD
   "id": "c266ccf6",
||||||| 3477967
   "id": "5c44e6b6",
=======
   "id": "6a1c8c88",
>>>>>>> 763a65aa00deab365d39bc26b2dcb2cc1410a666
   "metadata": {},
   "outputs": [],
   "source": [
    "plotMoranMC(sfe, top_markers, swap_rownames = \"Symbol\")"
   ]
  },
  {
   "cell_type": "markdown",
<<<<<<< HEAD
   "id": "61bb98e0",
||||||| 3477967
   "id": "f3af6997",
=======
   "id": "9628d685",
>>>>>>> 763a65aa00deab365d39bc26b2dcb2cc1410a666
   "metadata": {},
   "source": [
    "They all seem to be very significant. \n",
    "\n",
    "The correlogram finds Moran's I for a higher order of neighbors and can be a proxy for distance. "
   ]
  },
  {
   "cell_type": "code",
   "execution_count": null,
<<<<<<< HEAD
   "id": "b127d43b",
||||||| 3477967
   "id": "ec2ef5a6",
=======
   "id": "1e1f53de",
>>>>>>> 763a65aa00deab365d39bc26b2dcb2cc1410a666
   "metadata": {},
   "outputs": [],
   "source": [
    "system.time({\n",
    "    sfe <- runUnivariate(sfe, \"sp.correlogram\", top_markers, order = 6, \n",
    "                     zero.policy = TRUE, BPPARAM = MulticoreParam(2))\n",
    "})"
   ]
  },
  {
   "cell_type": "code",
   "execution_count": null,
<<<<<<< HEAD
   "id": "7cdc189c",
||||||| 3477967
   "id": "ae3d6886",
=======
   "id": "fa25ca96",
>>>>>>> 763a65aa00deab365d39bc26b2dcb2cc1410a666
   "metadata": {},
   "outputs": [],
   "source": [
    "plotCorrelogram(sfe, top_markers, swap_rownames = \"Symbol\")"
   ]
  },
  {
   "cell_type": "markdown",
<<<<<<< HEAD
   "id": "c5082e6c",
||||||| 3477967
   "id": "f33dbbdc",
=======
   "id": "b9565089",
>>>>>>> 763a65aa00deab365d39bc26b2dcb2cc1410a666
   "metadata": {
    "lines_to_next_cell": 0
   },
   "source": [
    "We see different patterns of decay in spatial autocorrelation and different length scales of spatial autocorrelation. CLU is a marker gene very specific to the smallest cluster, so higher order neighbors are very likely to be from other clusters. Marker genes for the other larger clusters with hundreds of cells nevertheless display different patterns in the correlogram.\n",
    "\n",
    "## Local Moran's I"
   ]
  },
  {
   "cell_type": "code",
   "execution_count": null,
<<<<<<< HEAD
   "id": "c1c49d3c",
||||||| 3477967
   "id": "1a14531b",
=======
   "id": "5ff32598",
>>>>>>> 763a65aa00deab365d39bc26b2dcb2cc1410a666
   "metadata": {},
   "outputs": [],
   "source": [
    "sfe <- runUnivariate(sfe, \"localmoran\", features = top_markers)"
   ]
  },
  {
   "cell_type": "code",
   "execution_count": null,
<<<<<<< HEAD
   "id": "dfbb45f1",
||||||| 3477967
   "id": "882467cb",
=======
   "id": "dfa25af2",
>>>>>>> 763a65aa00deab365d39bc26b2dcb2cc1410a666
   "metadata": {
    "fig.height": 9,
    "fig.width": 12
   },
   "outputs": [],
   "source": [
    "plotLocalResult(sfe, \"localmoran\", top_markers, colGeometryName = \"centroids\", \n",
    "                divergent = TRUE, diverge_center = 0, ncol = 3,\n",
    "                swap_rownames = \"Symbol\")"
   ]
  },
  {
   "cell_type": "markdown",
<<<<<<< HEAD
   "id": "25478bb6",
||||||| 3477967
   "id": "c522e36b",
=======
   "id": "da2cd67c",
>>>>>>> 763a65aa00deab365d39bc26b2dcb2cc1410a666
   "metadata": {},
   "source": [
    "We will also plot the histograms, but for now the results need to be added to `colData` first."
   ]
  },
  {
   "cell_type": "code",
   "execution_count": null,
<<<<<<< HEAD
   "id": "813732a1",
||||||| 3477967
   "id": "0c5777ce",
=======
   "id": "754939e0",
>>>>>>> 763a65aa00deab365d39bc26b2dcb2cc1410a666
   "metadata": {},
   "outputs": [],
   "source": [
    "new_colname <- paste0(\"cluster\", seq_along(top_markers), \"_\", \n",
    "                      top_markers_symbol, \"_localmoran\")\n",
    "for (i in seq_along(top_markers)) {\n",
    "    g <- top_markers[i]\n",
    "    colData(sfe)[[new_colname[i]]] <- \n",
    "        localResult(sfe, \"localmoran\", g)[,\"Ii\"]\n",
    "}"
   ]
  },
  {
   "cell_type": "code",
   "execution_count": null,
<<<<<<< HEAD
   "id": "cb8659fc",
||||||| 3477967
   "id": "eac380cc",
=======
   "id": "5ed35c68",
>>>>>>> 763a65aa00deab365d39bc26b2dcb2cc1410a666
   "metadata": {
    "fig.height": 12,
    "fig.width": 8
   },
   "outputs": [],
   "source": [
    "plotColDataFreqpoly(sfe, new_colname, color_by = \"cluster\") +\n",
    "    ggtitle(\"Local Moran's I\") +\n",
    "    theme(legend.position = \"top\") +\n",
    "    scale_y_log10() +\n",
    "    annotation_logticks(sides = \"l\")"
   ]
  },
  {
   "cell_type": "markdown",
<<<<<<< HEAD
   "id": "0541632c",
||||||| 3477967
   "id": "708f0e16",
=======
   "id": "50cbf599",
>>>>>>> 763a65aa00deab365d39bc26b2dcb2cc1410a666
   "metadata": {
    "lines_to_next_cell": 0
   },
   "source": [
    "Again, the y axis is log transformed to make the tail more visible. For some clusters, the top marker gene's local Moran's I forms its own peak for cells in the cluster with higher local Moran's I than other cells. However, sometimes cells within the cluster form a long tail shared with some cells from other clusters. Then the local Moran's I could be another method for differential expression. Or since both local Moran's I and Leiden clustering use the k nearest neighbor graph in PCA space, local Moran's I of marker genes or perhaps eigengenes signifying gene programs for each cell type on this k nearest neighbor graph can validate or criticize Leiden clusters. Furthermore, interestingly, for some genes, the tallest peak in the histogram is away from 0.\n",
    "\n",
    "The scatter plots as shown in the \"spatial\" analyses for the QC metrics section can be made to see how local Moran's I relates to the expression of the gene itself."
   ]
  },
  {
   "cell_type": "code",
   "execution_count": null,
<<<<<<< HEAD
   "id": "a5271413",
||||||| 3477967
   "id": "26851591",
=======
   "id": "f4e23215",
>>>>>>> 763a65aa00deab365d39bc26b2dcb2cc1410a666
   "metadata": {},
   "outputs": [],
   "source": [
    "i <- 6 # Change if running this notebook\n",
    "plotExpression(sfe, top_markers_symbol[i], x = new_colname[i], color_by = \"cluster\",\n",
    "               swap_rownames = \"Symbol\") +\n",
    "    scale_color_manual(values = ditto_colors) +\n",
    "    coord_flip() +\n",
    "    # comment out in case of error after changing i\n",
    "    geom_density2d(data = as.data.frame(colData(sfe)) |> \n",
    "                       mutate(gene = logcounts(sfe)[top_markers[i],]),\n",
    "                   mapping = aes(x = .data[[new_colname[i]]], y = gene), \n",
    "                   color = \"blue\", linewidth = 0.3) "
   ]
  },
  {
   "cell_type": "markdown",
<<<<<<< HEAD
   "id": "e22be946",
||||||| 3477967
   "id": "676ba6f3",
=======
   "id": "f41aa028",
>>>>>>> 763a65aa00deab365d39bc26b2dcb2cc1410a666
   "metadata": {},
   "source": [
    "For this gene, just like for total UMI counts, there are two wings and a central value where local Moran's I is around 0. Generally, cells with higher expression of this gene have higher local Moran's I for this gene as well. The density contours show that cells concentrate around 0 expression and some weaker positive local Moran. The streak of cells with 0 expression means that many cells don't express this gene, and their neighbors have low and slightly homogeneous expression of this gene. This pattern may be different for different genes. Also, the p-values for each cell for local Moran's I are available and corrected for multiple hypothesis testing, and can be plotted. The p-values are based on the z score of the local Moran statistic, although how the statistic is distributed for gene expression data warrants more investigation. This p-value can also be computed with permutation (see `localmoran_perm()`). "
   ]
  },
  {
   "cell_type": "code",
   "execution_count": null,
<<<<<<< HEAD
   "id": "637c61a2",
||||||| 3477967
   "id": "ee8afa70",
=======
   "id": "37954cd3",
>>>>>>> 763a65aa00deab365d39bc26b2dcb2cc1410a666
   "metadata": {},
   "outputs": [],
   "source": [
    "localResultAttrs(sfe, \"localmoran\", top_markers[1])"
   ]
  },
  {
   "cell_type": "markdown",
<<<<<<< HEAD
   "id": "b5141d8e",
||||||| 3477967
   "id": "ffb99dce",
=======
   "id": "e99cf30b",
>>>>>>> 763a65aa00deab365d39bc26b2dcb2cc1410a666
   "metadata": {},
   "source": [
    "## LOSH"
   ]
  },
  {
   "cell_type": "code",
   "execution_count": null,
<<<<<<< HEAD
   "id": "f5c89fa1",
||||||| 3477967
   "id": "a9099165",
=======
   "id": "8b60f5e1",
>>>>>>> 763a65aa00deab365d39bc26b2dcb2cc1410a666
   "metadata": {},
   "outputs": [],
   "source": [
    "sfe <- runUnivariate(sfe, \"LOSH\", top_markers)"
   ]
  },
  {
   "cell_type": "code",
   "execution_count": null,
<<<<<<< HEAD
   "id": "2760cbd7",
||||||| 3477967
   "id": "9166dc3d",
=======
   "id": "03e5bd91",
>>>>>>> 763a65aa00deab365d39bc26b2dcb2cc1410a666
   "metadata": {
    "fig.height": 9,
    "fig.width": 12
   },
   "outputs": [],
   "source": [
    "plotLocalResult(sfe, \"LOSH\", top_markers, colGeometryName = \"centroids\", ncol = 3,\n",
    "                swap_rownames = \"Symbol\")"
   ]
  },
  {
   "cell_type": "markdown",
<<<<<<< HEAD
   "id": "a88daf0c",
||||||| 3477967
   "id": "97894890",
=======
   "id": "4f2afbf1",
>>>>>>> 763a65aa00deab365d39bc26b2dcb2cc1410a666
   "metadata": {
    "lines_to_next_cell": 0
   },
   "source": [
    "In the two genes on the right, it's interesting to see higher LOSH in the middle cluster. The two genes on the left have some outliers throwing off the dynamic range, but it seems that their high LOSH regions are different.\n",
    "\n",
    "Again, we plot the histograms:"
   ]
  },
  {
   "cell_type": "code",
   "execution_count": null,
<<<<<<< HEAD
   "id": "e75b5659",
||||||| 3477967
   "id": "4ea04b34",
=======
   "id": "c1e7551c",
>>>>>>> 763a65aa00deab365d39bc26b2dcb2cc1410a666
   "metadata": {},
   "outputs": [],
   "source": [
    "new_colname2 <- paste0(\"cluster\", seq_along(top_markers), \"_\", \n",
    "                      top_markers_symbol, \"_losh\")\n",
    "for (i in seq_along(top_markers)) {\n",
    "    g <- top_markers[i]\n",
    "    colData(sfe)[[new_colname2[i]]] <- \n",
    "        localResult(sfe, \"LOSH\", g)[,\"Hi\"]\n",
    "}"
   ]
  },
  {
   "cell_type": "code",
   "execution_count": null,
<<<<<<< HEAD
   "id": "e9d856fa",
||||||| 3477967
   "id": "85543573",
=======
   "id": "dd602ff2",
>>>>>>> 763a65aa00deab365d39bc26b2dcb2cc1410a666
   "metadata": {
    "fig.height": 12,
    "fig.width": 8
   },
   "outputs": [],
   "source": [
    "plotColDataFreqpoly(sfe, new_colname2, color_by = \"cluster\") +\n",
    "    ggtitle(\"Local heteroscedasticity\") +\n",
    "    theme(legend.position = \"top\") +\n",
    "    scale_y_log10() +\n",
    "    annotation_logticks(sides = \"l\")"
   ]
  },
  {
   "cell_type": "markdown",
<<<<<<< HEAD
   "id": "3cad233e",
||||||| 3477967
   "id": "be9e6b41",
=======
   "id": "82e1eedb",
>>>>>>> 763a65aa00deab365d39bc26b2dcb2cc1410a666
   "metadata": {},
   "source": [
    "The relationship between expression and LOSH is more complicated. For some genes, such as the top marker gene for cluster 1 LYAR, cells in the cluster with higher expression also have higher LOSH - much like how in Poisson and negative binomial distributions, higher mean also means higher variance. However, some genes, such as the top marker gene for cluster 2 CTSS, have lower LOSH among cells that have higher expression, which means expression of this gene is more homogeneous within the cluster, consistent with local Moran. "
   ]
  },
  {
   "cell_type": "code",
   "execution_count": null,
<<<<<<< HEAD
   "id": "d4459928",
||||||| 3477967
   "id": "8b9b20ae",
=======
   "id": "363a5dc3",
>>>>>>> 763a65aa00deab365d39bc26b2dcb2cc1410a666
   "metadata": {},
   "outputs": [],
   "source": [
    "i <- 6 # Change if running this notebook\n",
    "plotExpression(sfe, top_markers_symbol[i], x = new_colname2[i], \n",
    "               color_by = \"cluster\", swap_rownames = \"Symbol\") +\n",
    "    scale_color_manual(values = ditto_colors) +\n",
    "    coord_flip() +\n",
    "    # comment out in case of error after changing i\n",
    "    geom_density2d(data = as.data.frame(colData(sfe)) |> \n",
    "                       mutate(gene = logcounts(sfe)[top_markers[i],]),\n",
    "                   mapping = aes(x = .data[[new_colname2[i]]], y = gene), \n",
    "                   color = \"blue\", linewidth = 0.3) "
   ]
  },
  {
   "cell_type": "markdown",
<<<<<<< HEAD
   "id": "2f8f7035",
||||||| 3477967
   "id": "c03a4c4e",
=======
   "id": "d4790a8e",
>>>>>>> 763a65aa00deab365d39bc26b2dcb2cc1410a666
   "metadata": {
    "lines_to_next_cell": 0
   },
   "source": [
    "For this gene, the density contour indicates that many cells don't express this gene and have homogeneous neighborhoods also with low expression. That streak around 0 expression means that neighbors of cells that don't express this gene have different levels of heterogeneity in this gene.\n",
    "\n",
    "## Moran plot\n",
    "\n",
    "Here we make Moran plots for the top marker genes."
   ]
  },
  {
   "cell_type": "code",
   "execution_count": null,
<<<<<<< HEAD
   "id": "bd4b58b5",
||||||| 3477967
   "id": "44fc4eef",
=======
   "id": "3355b7e8",
>>>>>>> 763a65aa00deab365d39bc26b2dcb2cc1410a666
   "metadata": {},
   "outputs": [],
   "source": [
    "sfe <- runUnivariate(sfe, \"moran.plot\", features = top_markers, colGraphName = \"knn10\")"
   ]
  },
  {
   "cell_type": "markdown",
<<<<<<< HEAD
   "id": "0567657e",
||||||| 3477967
   "id": "f5affaa2",
=======
   "id": "c09a4da2",
>>>>>>> 763a65aa00deab365d39bc26b2dcb2cc1410a666
   "metadata": {
    "lines_to_next_cell": 0
   },
   "source": [
    "As a reference, we show Moran's I for the top marker genes, which is the slope of the line fitted to the Moran scatter plot."
   ]
  },
  {
   "cell_type": "code",
   "execution_count": null,
<<<<<<< HEAD
   "id": "b0642b4d",
||||||| 3477967
   "id": "671e5714",
=======
   "id": "11aa2430",
>>>>>>> 763a65aa00deab365d39bc26b2dcb2cc1410a666
   "metadata": {},
   "outputs": [],
   "source": [
    "top_markers_df[top_markers,]"
   ]
  },
  {
   "cell_type": "markdown",
<<<<<<< HEAD
   "id": "8e377da3",
||||||| 3477967
   "id": "b3d628ab",
=======
   "id": "14c08aa5",
>>>>>>> 763a65aa00deab365d39bc26b2dcb2cc1410a666
   "metadata": {
    "lines_to_next_cell": 0
   },
   "source": [
    "There is no significant marker gene for cluster 7. These plots are shown in sequence"
   ]
  },
  {
   "cell_type": "code",
   "execution_count": null,
<<<<<<< HEAD
   "id": "1af2ab44",
||||||| 3477967
   "id": "212871c7",
=======
   "id": "eb1d093e",
>>>>>>> 763a65aa00deab365d39bc26b2dcb2cc1410a666
   "metadata": {},
   "outputs": [],
   "source": [
    "plts <- lapply(top_markers, moranPlot, sfe = sfe, color_by = \"cluster\", \n",
    "               swap_rownames = \"Symbol\")"
   ]
  },
  {
   "cell_type": "code",
   "execution_count": null,
<<<<<<< HEAD
   "id": "b467c36b",
||||||| 3477967
   "id": "59135aee",
=======
   "id": "3f9f61cf",
>>>>>>> 763a65aa00deab365d39bc26b2dcb2cc1410a666
   "metadata": {
    "fig.height": 9,
    "fig.width": 9
   },
   "outputs": [],
   "source": [
    "wrap_plots(plts, widths = 1, heights = 1) +\n",
    "    plot_layout(ncol = 3, guides = \"collect\") +\n",
    "    plot_annotation(tag_levels = \"1\")"
   ]
  },
  {
   "cell_type": "markdown",
<<<<<<< HEAD
   "id": "76afceca",
||||||| 3477967
   "id": "0b66855d",
=======
   "id": "eb478984",
>>>>>>> 763a65aa00deab365d39bc26b2dcb2cc1410a666
   "metadata": {
    "lines_to_next_cell": 0
   },
   "source": [
    "For some genes, the points are so concentrated around the origin that there aren't \"enough\" points elsewhere to plot the density contours. But for the cells that do express these genes, there are clusters on this plot. Some genes are not expressed in many cells, but those cells have neighbors that do express the gene, hence the vertical streak at x = 0. \n",
    "\n",
    "In this tutorial, we applied univariate spatial statistics to the k nearest neighbor graph in the gene expression PCA space rather than the histological space. Just like in histological space, it would be impractical to examine all these statistics gene by gene, so multivariate analyses that incorporate the k nearest neighbor graph may be interesting.\n",
    "\n",
    "# Session info"
   ]
  },
  {
   "cell_type": "code",
   "execution_count": null,
<<<<<<< HEAD
   "id": "af092623",
||||||| 3477967
   "id": "bab343c0",
=======
   "id": "be088dfe",
>>>>>>> 763a65aa00deab365d39bc26b2dcb2cc1410a666
   "metadata": {
    "lines_to_next_cell": 0
   },
   "outputs": [],
   "source": [
    "sessionInfo()"
   ]
  },
  {
   "cell_type": "markdown",
<<<<<<< HEAD
   "id": "fc0095c0",
||||||| 3477967
   "id": "93187637",
=======
   "id": "3e74a753",
>>>>>>> 763a65aa00deab365d39bc26b2dcb2cc1410a666
   "metadata": {},
   "source": []
  }
 ],
 "metadata": {
  "kernelspec": {
   "display_name": "R",
   "language": "R",
   "name": "ir"
  }
 },
 "nbformat": 4,
 "nbformat_minor": 5
}
