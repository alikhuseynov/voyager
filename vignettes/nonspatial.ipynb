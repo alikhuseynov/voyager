{
 "cells": [
  {
   "cell_type": "raw",
<<<<<<< HEAD
<<<<<<< HEAD
   "id": "75b621c0",
||||||| ff06ad40
   "id": "668daaa2",
=======
   "id": "dee4c641",
>>>>>>> documentation-devel
||||||| 1158767b
   "id": "75b621c0",
=======
   "id": "22d5c376",
>>>>>>> 6e0f6d6ef35309dec3607d4371c747197b435328
   "metadata": {},
   "source": [
    "---\n",
    "title: \"Apply spatial analyses to non-spatial scRNA-seq data\"\n",
    "author: \"Lambda Moses\"\n",
    "date: \"`r Sys.Date()`\"\n",
    "output: \n",
    "  html_document:\n",
    "  toc: true\n",
    "  toc_float:\n",
    "    collapsed: false\n",
    "  toc_depth: 3\n",
    "bibliography: ref.bib\n",
    "vignette: >\n",
    "  %\\VignetteIndexEntry{nonspatial}\n",
    "  %\\VignetteEngine{knitr::rmarkdown}\n",
    "  %\\VignetteEncoding{UTF-8}\n",
    "---"
   ]
  },
  {
   "cell_type": "code",
   "execution_count": null,
<<<<<<< HEAD
<<<<<<< HEAD
   "id": "fb40dbf1",
||||||| ff06ad40
   "id": "4e793571",
=======
   "id": "55e9a47a",
>>>>>>> documentation-devel
||||||| 1158767b
   "id": "fb40dbf1",
=======
   "id": "e35c36c5",
>>>>>>> 6e0f6d6ef35309dec3607d4371c747197b435328
   "metadata": {
    "tags": [
     "remove_cell"
    ]
   },
   "outputs": [],
   "source": [
    "knitr::opts_chunk$set(\n",
    "  collapse = TRUE,\n",
    "  comment = \"#>\"\n",
    ")"
   ]
  },
  {
   "cell_type": "code",
   "execution_count": null,
<<<<<<< HEAD
<<<<<<< HEAD
   "id": "04b125d4",
||||||| ff06ad40
   "id": "c7f56611",
=======
   "id": "5ef0f540",
>>>>>>> documentation-devel
||||||| 1158767b
   "id": "04b125d4",
=======
   "id": "04c65580",
>>>>>>> 6e0f6d6ef35309dec3607d4371c747197b435328
   "metadata": {
    "eval": false,
    "tags": [
     "remove_cell"
    ]
   },
   "outputs": [],
   "source": [
    "# Install Google Colab dependencies\n",
    "# Note: this can take 30+ minutes (many of the dependencies include C++ code, which needs to be compiled)\n",
    "\n",
    "# First install `sf`, `ragg` and `textshaping` and their system dependencies:\n",
    "system(\"apt-get -y update && apt-get install -y  libudunits2-dev libgdal-dev libgeos-dev libproj-dev libharfbuzz-dev libfribidi-dev\")\n",
    "install.packages(\"sf\")\n",
    "install.packages(\"textshaping\")\n",
    "install.packages(\"ragg\")\n",
    "\n",
    "# Install system dependencies of some other R packages that Voyager either imports or suggests:\n",
    "system(\"apt-get install -y libfribidi-dev libcairo2-dev libmagick++-dev\")\n",
    "\n",
    "# Install Voyager from Bioconductor:\n",
    "install.packages(\"BiocManager\")\n",
    "BiocManager::install(version = \"3.17\", ask = FALSE, update = FALSE, Ncpus = 2)\n",
    "BiocManager::install(\"scater\")\n",
    "system.time(\n",
    "  BiocManager::install(\"Voyager\", dependencies = TRUE, Ncpus = 2, update = FALSE)\n",
    ")\n",
    "\n",
    "# Additional dependencies for this notebook\n",
    "install.packages(\"reticulate\")\n",
    "system(\"pip3 install gget\")\n",
    "packageVersion(\"Voyager\")"
   ]
  },
  {
   "cell_type": "markdown",
<<<<<<< HEAD
<<<<<<< HEAD
   "id": "e8af295b",
||||||| ff06ad40
   "id": "04521dea",
=======
   "id": "ce5b16c1",
>>>>>>> documentation-devel
||||||| 1158767b
   "id": "e8af295b",
=======
   "id": "39bca2db",
>>>>>>> 6e0f6d6ef35309dec3607d4371c747197b435328
   "metadata": {
    "lines_to_next_cell": 0
   },
   "source": [
    "# Introduction\n",
    "\n",
    "For areal spatial data, the spatial neighborhood graph is used to indicate proximity, and is required for all spatial analysis methods in the package `spdep`. One of the methods to find the spatial neighborhood graph is k nearest neighbors, which is also commonly used in gene expression PCA space for graph-based clustering of cells in non-spatial scRNA-seq data. Then what if we use the k nearest neighbors graph in PCA space rather than histological space for \"spatial\" analyses for non-spatial scRNA-seq data?\n",
    "\n",
    "Here we try such an analysis on a human peripheral blood mononuclear cells (PBMC) scRNA-seq dataset, which doesn't originally have histological spatial organization. These are the packages loaded for the analysis:"
   ]
  },
  {
   "cell_type": "code",
   "execution_count": null,
<<<<<<< HEAD
<<<<<<< HEAD
   "id": "8795e314",
||||||| ff06ad40
   "id": "ee15724a",
=======
   "id": "c1ac6952",
>>>>>>> documentation-devel
||||||| 1158767b
   "id": "8795e314",
=======
   "id": "99f43d28",
>>>>>>> 6e0f6d6ef35309dec3607d4371c747197b435328
   "metadata": {
    "name": "setup"
   },
   "outputs": [],
   "source": [
    "library(Voyager)\n",
    "library(SpatialFeatureExperiment)\n",
    "library(SpatialExperiment)\n",
    "library(DropletUtils)\n",
    "library(BiocNeighbors)\n",
    "library(scater)\n",
    "library(scran)\n",
    "library(bluster)\n",
    "library(BiocParallel)\n",
    "library(scuttle)\n",
    "library(stringr)\n",
    "library(BiocSingular)\n",
    "library(spdep)\n",
    "library(patchwork)\n",
    "library(dplyr)\n",
    "library(reticulate)\n",
    "theme_set(theme_bw())"
   ]
  },
  {
   "cell_type": "code",
   "execution_count": null,
<<<<<<< HEAD
<<<<<<< HEAD
   "id": "1fc4cc38",
||||||| ff06ad40
   "id": "ce0af911",
=======
   "id": "473c3fdd",
>>>>>>> documentation-devel
||||||| 1158767b
   "id": "1fc4cc38",
=======
   "id": "55124c05",
>>>>>>> 6e0f6d6ef35309dec3607d4371c747197b435328
   "metadata": {},
   "outputs": [],
   "source": [
    "# Specify Python version to use gget\n",
    "PY_PATH <- Sys.which(\"python\")\n",
    "use_python(PY_PATH)\n",
    "py_config()\n",
    "\n",
    "# Load gget\n",
    "gget <- import(\"gget\")"
   ]
  },
  {
   "cell_type": "markdown",
<<<<<<< HEAD
<<<<<<< HEAD
   "id": "1f3ad865",
||||||| ff06ad40
   "id": "eea211f4",
=======
   "id": "fbaddd48",
>>>>>>> documentation-devel
||||||| 1158767b
   "id": "1f3ad865",
=======
   "id": "140d777a",
>>>>>>> 6e0f6d6ef35309dec3607d4371c747197b435328
   "metadata": {},
   "source": [
    "Here we download the filtered [Cell Ranger gene count matrix from the 10X website](https://support.10xgenomics.com/single-cell-gene-expression/datasets/3.0.2/5k_pbmc_v3_nextgem?). The empty droplets have already been removed."
   ]
  },
  {
   "cell_type": "code",
   "execution_count": null,
<<<<<<< HEAD
<<<<<<< HEAD
   "id": "5024be2c",
||||||| ff06ad40
   "id": "eac86367",
=======
   "id": "525f442c",
>>>>>>> documentation-devel
||||||| 1158767b
   "id": "5024be2c",
=======
   "id": "bfdf20f8",
>>>>>>> 6e0f6d6ef35309dec3607d4371c747197b435328
   "metadata": {},
   "outputs": [],
   "source": [
    "if (!dir.exists(\"filtered_feature_bc_matrix\")) {\n",
    "    download.file(\"https://cf.10xgenomics.com/samples/cell-exp/3.0.2/5k_pbmc_v3_nextgem/5k_pbmc_v3_nextgem_filtered_feature_bc_matrix.tar.gz\", destfile = \"5kpbmc.tar.gz\", quiet = TRUE)\n",
    "    system(\"tar -xzf 5kpbmc.tar.gz\")\n",
    "}"
   ]
  },
  {
   "cell_type": "markdown",
<<<<<<< HEAD
<<<<<<< HEAD
   "id": "2d674c1d",
||||||| ff06ad40
   "id": "04b977e0",
=======
   "id": "94bbfc01",
>>>>>>> documentation-devel
||||||| 1158767b
   "id": "2d674c1d",
=======
   "id": "d35a45e3",
>>>>>>> 6e0f6d6ef35309dec3607d4371c747197b435328
   "metadata": {
    "lines_to_next_cell": 0
   },
   "source": [
    "This is loaded into R as a `SingleCellExperiment` (SCE) object."
   ]
  },
  {
   "cell_type": "code",
   "execution_count": null,
<<<<<<< HEAD
<<<<<<< HEAD
   "id": "21a24184",
||||||| ff06ad40
   "id": "425f993a",
=======
   "id": "2df977d7",
>>>>>>> documentation-devel
||||||| 1158767b
   "id": "21a24184",
=======
   "id": "be651b1d",
>>>>>>> 6e0f6d6ef35309dec3607d4371c747197b435328
   "metadata": {},
   "outputs": [],
   "source": [
    "(sce <- read10xCounts(\"filtered_feature_bc_matrix/\"))"
   ]
  },
  {
   "cell_type": "code",
   "execution_count": null,
<<<<<<< HEAD
<<<<<<< HEAD
   "id": "55ea4eec",
||||||| ff06ad40
   "id": "b31acf1d",
=======
   "id": "d0ce4e50",
>>>>>>> documentation-devel
||||||| 1158767b
   "id": "55ea4eec",
=======
   "id": "89528dab",
>>>>>>> 6e0f6d6ef35309dec3607d4371c747197b435328
   "metadata": {},
   "outputs": [],
   "source": [
    "colnames(sce) <- sce$Barcode"
   ]
  },
  {
   "cell_type": "markdown",
<<<<<<< HEAD
<<<<<<< HEAD
   "id": "24d27d73",
||||||| ff06ad40
   "id": "bbc5d6a4",
=======
   "id": "f1c60ae3",
>>>>>>> documentation-devel
||||||| 1158767b
   "id": "24d27d73",
=======
   "id": "7290ab5f",
>>>>>>> 6e0f6d6ef35309dec3607d4371c747197b435328
   "metadata": {
    "lines_to_next_cell": 0
   },
   "source": [
    "# Quality control (QC)\n",
    "Here we perform some basic QC, to remove low quality cells with high proportion of mitochondrially encoded counts. "
   ]
  },
  {
   "cell_type": "code",
   "execution_count": null,
<<<<<<< HEAD
<<<<<<< HEAD
   "id": "93d09fa7",
||||||| ff06ad40
   "id": "50940ffa",
=======
   "id": "1b488883",
>>>>>>> documentation-devel
||||||| 1158767b
   "id": "93d09fa7",
=======
   "id": "21f73baf",
>>>>>>> 6e0f6d6ef35309dec3607d4371c747197b435328
   "metadata": {},
   "outputs": [],
   "source": [
    "is_mito <- str_detect(rowData(sce)$Symbol, \"^MT-\")\n",
    "sum(is_mito)"
   ]
  },
  {
   "cell_type": "code",
   "execution_count": null,
<<<<<<< HEAD
<<<<<<< HEAD
   "id": "77aa6e57",
||||||| ff06ad40
   "id": "563c7942",
=======
   "id": "0a96470d",
>>>>>>> documentation-devel
||||||| 1158767b
   "id": "77aa6e57",
=======
   "id": "f1495d0b",
>>>>>>> 6e0f6d6ef35309dec3607d4371c747197b435328
   "metadata": {},
   "outputs": [],
   "source": [
    "sce <- addPerCellQCMetrics(sce, subsets = list(mito = is_mito))\n",
    "names(colData(sce))"
   ]
  },
  {
   "cell_type": "markdown",
<<<<<<< HEAD
<<<<<<< HEAD
   "id": "a3da3b6b",
||||||| ff06ad40
   "id": "265cb172",
=======
   "id": "6c449297",
>>>>>>> documentation-devel
||||||| 1158767b
   "id": "a3da3b6b",
=======
   "id": "a68cdaba",
>>>>>>> 6e0f6d6ef35309dec3607d4371c747197b435328
   "metadata": {},
   "source": [
    "The `addPerCellQCMetrics()` function computes the total UMI counts detected per cell (`sum`), number of genes detected per cell (`detected`), `sum` and `detected` for mitochondrial counts, and percentage of mitochondrial counts per cell."
   ]
  },
  {
   "cell_type": "code",
   "execution_count": null,
<<<<<<< HEAD
<<<<<<< HEAD
   "id": "c92494d8",
||||||| ff06ad40
   "id": "cc93a898",
=======
   "id": "f8242e6e",
>>>>>>> documentation-devel
||||||| 1158767b
   "id": "c92494d8",
=======
   "id": "726f2236",
>>>>>>> 6e0f6d6ef35309dec3607d4371c747197b435328
   "metadata": {},
   "outputs": [],
   "source": [
    "plotColData(sce, \"sum\") +\n",
    "    plotColData(sce, \"detected\") +\n",
    "    plotColData(sce, \"subsets_mito_percent\")"
   ]
  },
  {
   "cell_type": "markdown",
<<<<<<< HEAD
<<<<<<< HEAD
   "id": "215078c1",
||||||| ff06ad40
   "id": "856a6191",
=======
   "id": "9e476f8f",
>>>>>>> documentation-devel
||||||| 1158767b
   "id": "215078c1",
=======
   "id": "8dc68b05",
>>>>>>> 6e0f6d6ef35309dec3607d4371c747197b435328
   "metadata": {
    "lines_to_next_cell": 0
   },
   "source": [
    "Here a 2D histogram is plotted to better show point density on the plot."
   ]
  },
  {
   "cell_type": "code",
   "execution_count": null,
<<<<<<< HEAD
<<<<<<< HEAD
   "id": "90cb07c7",
||||||| ff06ad40
   "id": "bc892025",
=======
   "id": "f31d97d9",
>>>>>>> documentation-devel
||||||| 1158767b
   "id": "90cb07c7",
=======
   "id": "36985948",
>>>>>>> 6e0f6d6ef35309dec3607d4371c747197b435328
   "metadata": {},
   "outputs": [],
   "source": [
    "plotColDataBin2D(sce, x = \"sum\", y = \"detected\")"
   ]
  },
  {
   "cell_type": "code",
   "execution_count": null,
<<<<<<< HEAD
<<<<<<< HEAD
   "id": "57512ac0",
||||||| ff06ad40
   "id": "382c0108",
=======
   "id": "2ae74a0a",
>>>>>>> documentation-devel
||||||| 1158767b
   "id": "57512ac0",
=======
   "id": "f7313bce",
>>>>>>> 6e0f6d6ef35309dec3607d4371c747197b435328
   "metadata": {},
   "outputs": [],
   "source": [
    "plotColDataBin2D(sce, x = \"sum\", y = \"subsets_mito_percent\")"
   ]
  },
  {
   "cell_type": "markdown",
<<<<<<< HEAD
<<<<<<< HEAD
   "id": "ddfa317d",
||||||| ff06ad40
   "id": "2b139d6d",
=======
   "id": "b09709e7",
>>>>>>> documentation-devel
||||||| 1158767b
   "id": "ddfa317d",
=======
   "id": "55d3010a",
>>>>>>> 6e0f6d6ef35309dec3607d4371c747197b435328
   "metadata": {
    "lines_to_next_cell": 0
   },
   "source": [
    "Remove cells with >20% mitochondrial counts"
   ]
  },
  {
   "cell_type": "code",
   "execution_count": null,
<<<<<<< HEAD
<<<<<<< HEAD
   "id": "ae742df2",
||||||| ff06ad40
   "id": "1a699d49",
=======
   "id": "9b46da6b",
>>>>>>> documentation-devel
||||||| 1158767b
   "id": "ae742df2",
=======
   "id": "180c2d51",
>>>>>>> 6e0f6d6ef35309dec3607d4371c747197b435328
   "metadata": {},
   "outputs": [],
   "source": [
    "sce <- sce[, sce$subsets_mito_percent < 20]\n",
    "sce <- sce[rowSums(counts(sce)) > 0,]"
   ]
  },
  {
   "cell_type": "markdown",
<<<<<<< HEAD
<<<<<<< HEAD
   "id": "ffaa1040",
||||||| ff06ad40
   "id": "a334a1a3",
=======
   "id": "dbca9bce",
>>>>>>> documentation-devel
||||||| 1158767b
   "id": "ffaa1040",
=======
   "id": "9592a661",
>>>>>>> 6e0f6d6ef35309dec3607d4371c747197b435328
   "metadata": {
    "lines_to_next_cell": 0
   },
   "source": [
    "# Basic non-spatial analyses\n",
    "Here we normalize the data, perform PCA, cluster the cells, and find marker genes for the clusters."
   ]
  },
  {
   "cell_type": "code",
   "execution_count": null,
<<<<<<< HEAD
<<<<<<< HEAD
   "id": "9e9e467e",
||||||| ff06ad40
   "id": "f0ba3101",
=======
   "id": "260aeda0",
>>>>>>> documentation-devel
||||||| 1158767b
   "id": "9e9e467e",
=======
   "id": "4fc5adb7",
>>>>>>> 6e0f6d6ef35309dec3607d4371c747197b435328
   "metadata": {},
   "outputs": [],
   "source": [
    "#clusts <- quickCluster(sce)\n",
    "#sce <- computeSumFactors(sce, cluster = clusts)\n",
    "#sce <- sce[, sizeFactors(sce) > 0]\n",
    "sce <- logNormCounts(sce)"
   ]
  },
  {
   "cell_type": "markdown",
<<<<<<< HEAD
<<<<<<< HEAD
   "id": "000596c9",
||||||| ff06ad40
   "id": "7e41a23d",
=======
   "id": "9b097b2e",
>>>>>>> documentation-devel
||||||| 1158767b
   "id": "000596c9",
=======
   "id": "b8c3e15c",
>>>>>>> 6e0f6d6ef35309dec3607d4371c747197b435328
   "metadata": {
    "lines_to_next_cell": 0
   },
   "source": [
    "Use the highly variable genes for PCA:"
   ]
  },
  {
   "cell_type": "code",
   "execution_count": null,
<<<<<<< HEAD
<<<<<<< HEAD
   "id": "b60cb2f4",
||||||| ff06ad40
   "id": "427c4243",
=======
   "id": "da550caf",
>>>>>>> documentation-devel
||||||| 1158767b
   "id": "b60cb2f4",
=======
   "id": "fab4a26f",
>>>>>>> 6e0f6d6ef35309dec3607d4371c747197b435328
   "metadata": {},
   "outputs": [],
   "source": [
    "dec <- modelGeneVar(sce, lowess = FALSE)\n",
    "hvgs <- getTopHVGs(dec, n = 2000)"
   ]
  },
  {
   "cell_type": "code",
   "execution_count": null,
<<<<<<< HEAD
<<<<<<< HEAD
   "id": "6b859024",
||||||| ff06ad40
   "id": "b7eff12c",
=======
   "id": "dc332744",
>>>>>>> documentation-devel
||||||| 1158767b
   "id": "6b859024",
=======
   "id": "c60bd276",
>>>>>>> 6e0f6d6ef35309dec3607d4371c747197b435328
   "metadata": {},
   "outputs": [],
   "source": [
    "set.seed(29)\n",
    "sce <- runPCA(sce, ncomponents = 30, BSPARAM = IrlbaParam(),\n",
    "              subset_row = hvgs, scale = TRUE)"
   ]
  },
  {
   "cell_type": "markdown",
<<<<<<< HEAD
<<<<<<< HEAD
   "id": "ef454e4d",
||||||| ff06ad40
   "id": "c88663ab",
=======
   "id": "d6cba2ac",
>>>>>>> documentation-devel
||||||| 1158767b
   "id": "ef454e4d",
=======
   "id": "49031a85",
>>>>>>> 6e0f6d6ef35309dec3607d4371c747197b435328
   "metadata": {
    "lines_to_next_cell": 0
   },
   "source": [
    "How many PCs shall we use for further analyses?"
   ]
  },
  {
   "cell_type": "code",
   "execution_count": null,
<<<<<<< HEAD
<<<<<<< HEAD
   "id": "47116cf0",
||||||| ff06ad40
   "id": "d448e2d7",
=======
   "id": "4a4ae5dd",
>>>>>>> documentation-devel
||||||| 1158767b
   "id": "47116cf0",
=======
   "id": "1ee981b5",
>>>>>>> 6e0f6d6ef35309dec3607d4371c747197b435328
   "metadata": {},
   "outputs": [],
   "source": [
    "ElbowPlot(sce, ndims = 30)"
   ]
  },
  {
   "cell_type": "markdown",
<<<<<<< HEAD
<<<<<<< HEAD
   "id": "251100d9",
||||||| ff06ad40
   "id": "cbe4bc8d",
=======
   "id": "1776164e",
>>>>>>> documentation-devel
||||||| 1158767b
   "id": "251100d9",
=======
   "id": "6a397326",
>>>>>>> 6e0f6d6ef35309dec3607d4371c747197b435328
   "metadata": {},
   "source": [
    "Variance explained drops sharply from PC1 and again from PC4 and then levels off. Plot genes with the largest loadings of the top 4 PCs:"
   ]
  },
  {
   "cell_type": "code",
   "execution_count": null,
<<<<<<< HEAD
<<<<<<< HEAD
   "id": "3359be58",
||||||| ff06ad40
   "id": "e1259c43",
=======
   "id": "d80ce8d9",
>>>>>>> documentation-devel
||||||| 1158767b
   "id": "3359be58",
=======
   "id": "f8f6cc5b",
>>>>>>> 6e0f6d6ef35309dec3607d4371c747197b435328
   "metadata": {
    "lines_to_next_cell": 2
   },
   "outputs": [],
   "source": [
    "plotDimLoadings(sce, swap_rownames = \"Symbol\")"
   ]
  },
  {
   "cell_type": "markdown",
<<<<<<< HEAD
<<<<<<< HEAD
   "id": "d6944f09",
||||||| ff06ad40
   "id": "5bc5a3a0",
=======
   "id": "b99c67a9",
>>>>>>> documentation-devel
||||||| 1158767b
   "id": "d6944f09",
=======
   "id": "74ddf6c4",
>>>>>>> 6e0f6d6ef35309dec3607d4371c747197b435328
   "metadata": {},
   "source": [
    "To keep a little more information, we use 10 PCs, after which variance explained levels off even more."
   ]
  },
  {
   "cell_type": "code",
   "execution_count": null,
<<<<<<< HEAD
<<<<<<< HEAD
   "id": "ad18852c",
||||||| ff06ad40
   "id": "67cb0e8e",
=======
   "id": "1e61b0fd",
>>>>>>> documentation-devel
||||||| 1158767b
   "id": "ad18852c",
=======
   "id": "d4a3e4e4",
>>>>>>> 6e0f6d6ef35309dec3607d4371c747197b435328
   "metadata": {},
   "outputs": [],
   "source": [
    "sce$cluster <- clusterRows(reducedDim(sce, \"PCA\")[,1:10],\n",
    "                           BLUSPARAM = SNNGraphParam(cluster.fun = \"leiden\",\n",
    "                                                     k = 10,\n",
    "                                                     cluster.args = list(\n",
    "                                                         resolution=0.5,\n",
    "                                                         objective_function = \"modularity\"\n",
    "                                                     )))"
   ]
  },
  {
   "cell_type": "markdown",
<<<<<<< HEAD
<<<<<<< HEAD
   "id": "08b8ff46",
||||||| ff06ad40
   "id": "f97c4a69",
=======
   "id": "53a98312",
>>>>>>> documentation-devel
||||||| 1158767b
   "id": "08b8ff46",
=======
   "id": "72ec7130",
>>>>>>> 6e0f6d6ef35309dec3607d4371c747197b435328
   "metadata": {},
   "source": [
    "Here we plot the cells in the first 4 PCs in a matrix plot. The diagonals are density plots of the number of cells as projected on each PC. The x axis should correspond to the columns of the matrix plot, and the y axis should correspond to the rows, so the plot in row 1 column 2 has PC2 in the x axis and PC1 in the y axis. The cells are colored by clusters found in the previous code chunk."
   ]
  },
  {
   "cell_type": "code",
   "execution_count": null,
<<<<<<< HEAD
<<<<<<< HEAD
   "id": "2b2969d7",
||||||| ff06ad40
   "id": "e1198ba5",
=======
   "id": "a83dc78c",
>>>>>>> documentation-devel
||||||| 1158767b
   "id": "2b2969d7",
=======
   "id": "865157b6",
>>>>>>> 6e0f6d6ef35309dec3607d4371c747197b435328
   "metadata": {
    "fig.height": 9,
    "fig.width": 9
   },
   "outputs": [],
   "source": [
    "plotPCA(sce, ncomponents = 4, color_by = \"cluster\")"
   ]
  },
  {
   "cell_type": "markdown",
<<<<<<< HEAD
<<<<<<< HEAD
   "id": "e8cea541",
||||||| ff06ad40
   "id": "83255dee",
=======
   "id": "822a770c",
>>>>>>> documentation-devel
||||||| 1158767b
   "id": "e8cea541",
=======
   "id": "f746c4f1",
>>>>>>> 6e0f6d6ef35309dec3607d4371c747197b435328
   "metadata": {
    "lines_to_next_cell": 0
   },
   "source": [
    "How many cells are there in each cluster?"
   ]
  },
  {
   "cell_type": "code",
   "execution_count": null,
<<<<<<< HEAD
<<<<<<< HEAD
   "id": "916d9bb4",
||||||| ff06ad40
   "id": "542e07cd",
=======
   "id": "152d536a",
>>>>>>> documentation-devel
||||||| 1158767b
   "id": "916d9bb4",
=======
   "id": "c2ac1816",
>>>>>>> 6e0f6d6ef35309dec3607d4371c747197b435328
   "metadata": {},
   "outputs": [],
   "source": [
    "table(sce$cluster)"
   ]
  },
  {
   "cell_type": "markdown",
<<<<<<< HEAD
<<<<<<< HEAD
   "id": "7d73ae6f",
||||||| ff06ad40
   "id": "b711b116",
=======
   "id": "68da68d2",
>>>>>>> documentation-devel
||||||| 1158767b
   "id": "7d73ae6f",
=======
   "id": "211185d6",
>>>>>>> 6e0f6d6ef35309dec3607d4371c747197b435328
   "metadata": {
    "lines_to_next_cell": 0
   },
   "source": [
    "Then we use the conventional Wilcoxon rank sum test to find marker genes for each cluster. The test compares each cluster to the rest of the cells, and only genes more highly expressed in the cluster compared to the other cells are considered. The result is a list of data frames, where each data frame corresponds to one cluster. Areas under the receiver operator curve (AUC), distinguishing each cluster vs. any other cluster, are also included. The closer to 1 the better, while 0.5 means no better than random guessing. The false discovery rate (FDR) column contains the Benjamini-Hochberg corrected p-values. Genes in these data frames are already sorted by p-values."
   ]
  },
  {
   "cell_type": "code",
   "execution_count": null,
<<<<<<< HEAD
<<<<<<< HEAD
   "id": "379c87f1",
||||||| ff06ad40
   "id": "e520081b",
=======
   "id": "8c6ba10c",
>>>>>>> documentation-devel
||||||| 1158767b
   "id": "379c87f1",
=======
   "id": "38c7aeaf",
>>>>>>> 6e0f6d6ef35309dec3607d4371c747197b435328
   "metadata": {
    "lines_to_next_cell": 2
   },
   "outputs": [],
   "source": [
    "markers <- findMarkers(sce, groups = colData(sce)$cluster,\n",
    "                       test.type = \"wilcox\", pval.type = \"all\", direction = \"up\")\n",
    "markers[[4]]"
   ]
  },
  {
   "cell_type": "markdown",
<<<<<<< HEAD
<<<<<<< HEAD
   "id": "4d9153f7",
||||||| ff06ad40
   "id": "921045fa",
=======
   "id": "34af0b37",
>>>>>>> documentation-devel
||||||| 1158767b
   "id": "4d9153f7",
=======
   "id": "207a7bc5",
>>>>>>> 6e0f6d6ef35309dec3607d4371c747197b435328
   "metadata": {},
   "source": [
    "See how specific the top markers are to each cluster:"
   ]
  },
  {
   "cell_type": "code",
   "execution_count": null,
<<<<<<< HEAD
<<<<<<< HEAD
   "id": "acd9e28c",
||||||| ff06ad40
   "id": "06e0472e",
=======
   "id": "b7e4cf96",
>>>>>>> documentation-devel
||||||| 1158767b
   "id": "acd9e28c",
=======
   "id": "2ada9fa2",
>>>>>>> 6e0f6d6ef35309dec3607d4371c747197b435328
   "metadata": {},
   "outputs": [],
   "source": [
    "top_markers <- unlist(lapply(markers, function(x) head(rownames(x), 1)))\n",
    "top_markers_symbol <- rowData(sce)[top_markers, \"Symbol\"]"
   ]
  },
  {
   "cell_type": "code",
   "execution_count": null,
<<<<<<< HEAD
<<<<<<< HEAD
   "id": "7b383ad1",
||||||| ff06ad40
   "id": "932eb92b",
=======
   "id": "915faa4c",
>>>>>>> documentation-devel
||||||| 1158767b
   "id": "7b383ad1",
=======
   "id": "f4d9cec7",
>>>>>>> 6e0f6d6ef35309dec3607d4371c747197b435328
   "metadata": {},
   "outputs": [],
   "source": [
    "plotExpression(sce, top_markers_symbol, x = \"cluster\", swap_rownames = \"Symbol\",\n",
    "               point_fun = function(...) list())"
   ]
  },
  {
   "cell_type": "markdown",
<<<<<<< HEAD
<<<<<<< HEAD
   "id": "2a79ca70",
||||||| ff06ad40
   "id": "a5995ab9",
=======
   "id": "ed41be66",
>>>>>>> documentation-devel
||||||| 1158767b
   "id": "2a79ca70",
=======
   "id": "febb5bc6",
>>>>>>> 6e0f6d6ef35309dec3607d4371c747197b435328
   "metadata": {
    "lines_to_next_cell": 0
   },
   "source": [
    "We can use the [gget info](https://pachterlab.github.io/gget/info.html) module from the [gget](https://pachterlab.github.io/gget/) package to get additional information for these marker genes. For example, their [NCBI](https://www.ncbi.nlm.nih.gov/) description:"
   ]
  },
  {
   "cell_type": "code",
   "execution_count": null,
<<<<<<< HEAD
<<<<<<< HEAD
   "id": "bf63e46d",
||||||| ff06ad40
   "id": "0126dfb5",
=======
   "id": "c9eca654",
>>>>>>> documentation-devel
||||||| 1158767b
   "id": "bf63e46d",
=======
   "id": "53ebc0dc",
>>>>>>> 6e0f6d6ef35309dec3607d4371c747197b435328
   "metadata": {},
   "outputs": [],
   "source": [
    "gget_info <- gget$info(top_markers)\n",
    "\n",
    "rownames(gget_info) <- gget_info$ensembl_gene_name\n",
    "select(gget_info, ncbi_description)"
   ]
  },
  {
   "cell_type": "markdown",
<<<<<<< HEAD
<<<<<<< HEAD
   "id": "f6603fde",
||||||| ff06ad40
   "id": "3779bf14",
=======
   "id": "49716091",
>>>>>>> documentation-devel
||||||| 1158767b
   "id": "f6603fde",
=======
   "id": "1e7c8619",
>>>>>>> 6e0f6d6ef35309dec3607d4371c747197b435328
   "metadata": {
    "lines_to_next_cell": 0
   },
   "source": [
    "# \"Spatial\" analyses for QC metrics\n",
    "Find k nearest neighbor graph in PCA space for Moran's I: We are not using `spdep` here since its `nb2listwdist()` function for distance based edge weighting requires 2-3 dimensional spatial coordinates while the coordinates here have 10 dimensions. Here, inverse distance weighting is used for edge weights."
   ]
  },
  {
   "cell_type": "code",
   "execution_count": null,
<<<<<<< HEAD
<<<<<<< HEAD
   "id": "28bd4e81",
||||||| ff06ad40
   "id": "950fe302",
=======
   "id": "95f89012",
>>>>>>> documentation-devel
||||||| 1158767b
   "id": "28bd4e81",
=======
   "id": "934242eb",
>>>>>>> 6e0f6d6ef35309dec3607d4371c747197b435328
   "metadata": {},
   "outputs": [],
   "source": [
    "foo <- findKNN(reducedDim(sce, \"PCA\")[,1:10], k=10, BNPARAM=AnnoyParam())\n",
    "# Split by row\n",
    "foo_nb <- asplit(foo$index, 1)\n",
    "dmat <- 1/foo$distance\n",
    "# Row normalize the weights\n",
    "dmat <- sweep(dmat, 1, rowSums(dmat), FUN = \"/\")\n",
    "glist <- asplit(dmat, 1)\n",
    "# Sort based on index\n",
    "ord <- lapply(foo_nb, order)\n",
    "foo_nb <- lapply(seq_along(foo_nb), function(i) foo_nb[[i]][ord[[i]]])\n",
    "class(foo_nb) <- \"nb\"\n",
    "glist <- lapply(seq_along(glist), function(i) glist[[i]][ord[[i]]])\n",
    "\n",
    "listw <- list(style = \"W\",\n",
    "              neighbours = foo_nb,\n",
    "              weights = glist)\n",
    "class(listw) <- \"listw\"\n",
    "attr(listw, \"region.id\") <- colnames(sce)"
   ]
  },
  {
   "cell_type": "markdown",
<<<<<<< HEAD
<<<<<<< HEAD
   "id": "0f3440bc",
||||||| ff06ad40
   "id": "f0283f70",
=======
   "id": "a82afb68",
>>>>>>> documentation-devel
||||||| 1158767b
   "id": "0f3440bc",
=======
   "id": "5f06c6b4",
>>>>>>> 6e0f6d6ef35309dec3607d4371c747197b435328
   "metadata": {
    "lines_to_next_cell": 0
   },
   "source": [
    "Because there is no histological space, we convert the SCE object into `SpatialFeatureExperiment` (SFE) to use the spatial analysis and plotting functions from `Voyager`, and pretend that the first 2 PCs are the histological space."
   ]
  },
  {
   "cell_type": "code",
   "execution_count": null,
<<<<<<< HEAD
<<<<<<< HEAD
   "id": "891dd979",
||||||| ff06ad40
   "id": "2f569c80",
=======
   "id": "626b03af",
>>>>>>> documentation-devel
||||||| 1158767b
   "id": "891dd979",
=======
   "id": "36fe7cd8",
>>>>>>> 6e0f6d6ef35309dec3607d4371c747197b435328
   "metadata": {},
   "outputs": [],
   "source": [
    "(sfe <- toSpatialFeatureExperiment(sce, spatialCoords = reducedDim(sce, \"PCA\")[,1:2],\n",
    "                                  spatialCoordsNames = NULL))"
   ]
  },
  {
   "cell_type": "markdown",
<<<<<<< HEAD
<<<<<<< HEAD
   "id": "4222abb9",
||||||| ff06ad40
   "id": "b18ac293",
=======
   "id": "92753d3d",
>>>>>>> documentation-devel
||||||| 1158767b
   "id": "4222abb9",
=======
   "id": "4b1748cf",
>>>>>>> 6e0f6d6ef35309dec3607d4371c747197b435328
   "metadata": {
    "lines_to_next_cell": 0
   },
   "source": [
    "Add the k nearest neighbor graph to the SFE object:"
   ]
  },
  {
   "cell_type": "code",
   "execution_count": null,
<<<<<<< HEAD
<<<<<<< HEAD
   "id": "e5cfcbf0",
||||||| ff06ad40
   "id": "b6d0d21d",
=======
   "id": "e17f4a21",
>>>>>>> documentation-devel
||||||| 1158767b
   "id": "e5cfcbf0",
=======
   "id": "af32ed24",
>>>>>>> 6e0f6d6ef35309dec3607d4371c747197b435328
   "metadata": {},
   "outputs": [],
   "source": [
    "colGraph(sfe, \"knn10\") <- listw"
   ]
  },
  {
   "cell_type": "markdown",
<<<<<<< HEAD
<<<<<<< HEAD
   "id": "9813e9cf",
||||||| ff06ad40
   "id": "4d5881b5",
=======
   "id": "d787e848",
>>>>>>> documentation-devel
||||||| 1158767b
   "id": "9813e9cf",
=======
   "id": "623b9337",
>>>>>>> 6e0f6d6ef35309dec3607d4371c747197b435328
   "metadata": {
    "lines_to_next_cell": 0
   },
   "source": [
    "## Moran's I"
   ]
  },
  {
   "cell_type": "code",
   "execution_count": null,
<<<<<<< HEAD
<<<<<<< HEAD
   "id": "fcb9d63d",
||||||| ff06ad40
   "id": "6559d25f",
=======
   "id": "2ac36974",
>>>>>>> documentation-devel
||||||| 1158767b
   "id": "fcb9d63d",
=======
   "id": "e4035d5f",
>>>>>>> 6e0f6d6ef35309dec3607d4371c747197b435328
   "metadata": {},
   "outputs": [],
   "source": [
    "sfe <- colDataMoransI(sfe, c(\"sum\", \"detected\", \"subsets_mito_percent\"))\n",
    "colFeatureData(sfe)[c(\"sum\", \"detected\", \"subsets_mito_percent\"),]"
   ]
  },
  {
   "cell_type": "markdown",
<<<<<<< HEAD
<<<<<<< HEAD
   "id": "7f47c91e",
||||||| ff06ad40
   "id": "51dc35d1",
=======
   "id": "376d980e",
>>>>>>> documentation-devel
||||||| 1158767b
   "id": "7f47c91e",
=======
   "id": "cf4b4fb2",
>>>>>>> 6e0f6d6ef35309dec3607d4371c747197b435328
   "metadata": {
    "lines_to_next_cell": 0
   },
   "source": [
    "For total UMI counts (sum) and genes detected (detected), Moran's I is quite strong, while it's positive but weaker for percentage of mitochondrial counts. The second column, K, is kurtosis of the feature of interest. \n",
    "\n",
    "## Moran plot\n",
    "\n",
    "How about the local variations on the k nearest neighbors graph? In the Moran plot, the x axis is the value for each cell, and the y axis is the average value among neighboring cells in the graph weighted by edge weights. The slope of the fitted line is Moran's I. Sometimes there are clusters in this plot, showing different kinds of neighborhoods."
   ]
  },
  {
   "cell_type": "code",
   "execution_count": null,
<<<<<<< HEAD
<<<<<<< HEAD
   "id": "7d220dd6",
||||||| ff06ad40
   "id": "096da053",
=======
   "id": "31812af7",
>>>>>>> documentation-devel
||||||| 1158767b
   "id": "7d220dd6",
=======
   "id": "807f7a16",
>>>>>>> 6e0f6d6ef35309dec3607d4371c747197b435328
   "metadata": {},
   "outputs": [],
   "source": [
    "sfe <- colDataUnivariate(sfe, \"moran.plot\", c(\"sum\", \"detected\", \"subsets_mito_percent\"))"
   ]
  },
  {
   "cell_type": "markdown",
<<<<<<< HEAD
<<<<<<< HEAD
   "id": "2433281b",
||||||| ff06ad40
   "id": "b942af68",
=======
   "id": "e36a39fc",
>>>>>>> documentation-devel
||||||| 1158767b
   "id": "2433281b",
=======
   "id": "f89fd9c4",
>>>>>>> 6e0f6d6ef35309dec3607d4371c747197b435328
   "metadata": {
    "lines_to_next_cell": 0
   },
   "source": [
    "The dashed lines are the averages on the x and y axes."
   ]
  },
  {
   "cell_type": "code",
   "execution_count": null,
<<<<<<< HEAD
<<<<<<< HEAD
   "id": "ad8c4049",
||||||| ff06ad40
   "id": "ccd879e8",
=======
   "id": "c4bc535a",
>>>>>>> documentation-devel
||||||| 1158767b
   "id": "ad8c4049",
=======
   "id": "7cc0bde3",
>>>>>>> 6e0f6d6ef35309dec3607d4371c747197b435328
   "metadata": {},
   "outputs": [],
   "source": [
    "moranPlot(sfe, \"sum\", color_by = \"cluster\")"
   ]
  },
  {
   "cell_type": "markdown",
<<<<<<< HEAD
<<<<<<< HEAD
   "id": "0f207a67",
||||||| ff06ad40
   "id": "360e19c7",
=======
   "id": "9f4cf474",
>>>>>>> documentation-devel
||||||| 1158767b
   "id": "0f207a67",
=======
   "id": "f6ab6412",
>>>>>>> 6e0f6d6ef35309dec3607d4371c747197b435328
   "metadata": {
    "lines_to_next_cell": 0
   },
   "source": [
    "While most cells are in the cluster around the average, there is a cluster of cells with lower total counts whose neighbors also have lower total counts. There also is a cluster of cells with higher total counts whose neighbors also have higher total counts. These clusters seem to be somewhat related to some gene expression based clusters."
   ]
  },
  {
   "cell_type": "code",
   "execution_count": null,
<<<<<<< HEAD
<<<<<<< HEAD
   "id": "926d7f45",
||||||| ff06ad40
   "id": "56d1d56a",
=======
   "id": "da581fa8",
>>>>>>> documentation-devel
||||||| 1158767b
   "id": "926d7f45",
=======
   "id": "a012be72",
>>>>>>> 6e0f6d6ef35309dec3607d4371c747197b435328
   "metadata": {},
   "outputs": [],
   "source": [
    "moranPlot(sfe, \"detected\", color_by = \"cluster\")"
   ]
  },
  {
   "cell_type": "code",
   "execution_count": null,
<<<<<<< HEAD
<<<<<<< HEAD
   "id": "b814ae25",
||||||| ff06ad40
   "id": "ec76fea8",
=======
   "id": "c3a5afc0",
>>>>>>> documentation-devel
||||||| 1158767b
   "id": "b814ae25",
=======
   "id": "9738a250",
>>>>>>> 6e0f6d6ef35309dec3607d4371c747197b435328
   "metadata": {},
   "outputs": [],
   "source": [
    "moranPlot(sfe, \"subsets_mito_percent\", color_by = \"cluster\")"
   ]
  },
  {
   "cell_type": "markdown",
<<<<<<< HEAD
<<<<<<< HEAD
   "id": "2b4e98a8",
||||||| ff06ad40
   "id": "d2887bdf",
=======
   "id": "5888e6f8",
>>>>>>> documentation-devel
||||||| 1158767b
   "id": "2b4e98a8",
=======
   "id": "2322e23a",
>>>>>>> 6e0f6d6ef35309dec3607d4371c747197b435328
   "metadata": {},
   "source": [
    "There is one main cluster on this plot for the number of genes detected and for the percentage of mitochondrial counts. However, cells are somewhat separated by gene expression clusters. This is not surprising because the gene expression clusters are also based on the k nearest neighbor graph. Cluster 4 cells have a higher percentage of mitochondrial counts and so do their neighbors. \n",
    "\n",
    "## Local Moran's I\n",
    "Also see local Moran's I for these 3 QC metrics:"
   ]
  },
  {
   "cell_type": "code",
   "execution_count": null,
<<<<<<< HEAD
<<<<<<< HEAD
   "id": "ad68a8e6",
||||||| ff06ad40
   "id": "8bbf0f3e",
=======
   "id": "b5fff24e",
>>>>>>> documentation-devel
||||||| 1158767b
   "id": "ad68a8e6",
=======
   "id": "77eed8ee",
>>>>>>> 6e0f6d6ef35309dec3607d4371c747197b435328
   "metadata": {},
   "outputs": [],
   "source": [
    "sfe <- colDataUnivariate(sfe, \"localmoran\", c(\"sum\", \"detected\", \"subsets_mito_percent\"))"
   ]
  },
  {
   "cell_type": "markdown",
<<<<<<< HEAD
<<<<<<< HEAD
   "id": "0ced5eeb",
||||||| ff06ad40
   "id": "d5a57512",
=======
   "id": "140337ae",
>>>>>>> documentation-devel
||||||| 1158767b
   "id": "0ced5eeb",
=======
   "id": "fe8e6a9b",
>>>>>>> 6e0f6d6ef35309dec3607d4371c747197b435328
   "metadata": {
    "lines_to_next_cell": 0
   },
   "source": [
    "Here, we don't have a histological space. So how can we visualize the local \"spatial\" statistics? [UMAP is bad](https://www.biorxiv.org/content/10.1101/2021.08.25.457696v1), but in this case PCA can somewhat separate the clusters. We can use the first 2 PCs as if they are the histological space. As a reference, we plot the metrics themselves and the clusters in the first 2 PCs. "
   ]
  },
  {
   "cell_type": "code",
   "execution_count": null,
<<<<<<< HEAD
<<<<<<< HEAD
   "id": "4882c0fb",
||||||| ff06ad40
   "id": "75cf9ad5",
=======
   "id": "4d9d24fb",
>>>>>>> documentation-devel
||||||| 1158767b
   "id": "4882c0fb",
=======
   "id": "2aa6e022",
>>>>>>> 6e0f6d6ef35309dec3607d4371c747197b435328
   "metadata": {
    "fig.height": 6,
    "fig.width": 8
   },
   "outputs": [],
   "source": [
    "plotSpatialFeature(sfe, c(\"sum\", \"detected\", \"subsets_mito_percent\", \"cluster\"))"
   ]
  },
  {
   "cell_type": "markdown",
<<<<<<< HEAD
<<<<<<< HEAD
   "id": "6cffb4a8",
||||||| ff06ad40
   "id": "799f7d37",
=======
   "id": "d39f912f",
>>>>>>> documentation-devel
||||||| 1158767b
   "id": "6cffb4a8",
=======
   "id": "d543b02c",
>>>>>>> 6e0f6d6ef35309dec3607d4371c747197b435328
   "metadata": {
    "lines_to_next_cell": 0
   },
   "source": [
    "Plot the local Moran's I for these metrics in the first 2 PCs:"
   ]
  },
  {
   "cell_type": "code",
   "execution_count": null,
<<<<<<< HEAD
<<<<<<< HEAD
   "id": "fa0f9c0e",
||||||| ff06ad40
   "id": "0a446b38",
=======
   "id": "377a5aba",
>>>>>>> documentation-devel
||||||| 1158767b
   "id": "fa0f9c0e",
=======
   "id": "a122d681",
>>>>>>> 6e0f6d6ef35309dec3607d4371c747197b435328
   "metadata": {
    "fig.height": 6,
    "fig.width": 8
   },
   "outputs": [],
   "source": [
    "plotLocalResult(sfe, \"localmoran\", c(\"sum\", \"detected\", \"subsets_mito_percent\"), \n",
    "                colGeometryName = \"centroids\",\n",
    "                divergent = TRUE, diverge_center = 0, ncol = 2)"
   ]
  },
  {
   "cell_type": "markdown",
<<<<<<< HEAD
<<<<<<< HEAD
   "id": "82db7e65",
||||||| ff06ad40
   "id": "cd90516c",
=======
   "id": "dc400187",
>>>>>>> documentation-devel
||||||| 1158767b
   "id": "82db7e65",
=======
   "id": "8ae7f097",
>>>>>>> 6e0f6d6ef35309dec3607d4371c747197b435328
   "metadata": {
    "lines_to_next_cell": 0
   },
   "source": [
    "However, what if there is no good 2D representation of the data for easy plotting? Remember that here the k nearest neighbor graph was computed on the first 10 PCs rather than the first 2 PCs. The graph is not tied to the 2D representation. We can still plot histograms to show the distribution and scatter plots to compare the same local metric for different variables, which can be colored by another variable such as cluster. This may be added to the next release of Voyager. For now, we add the results of interest to `colData(sfe)` and use the existing `colData` plotting functions from `scater` and `Voyager`."
   ]
  },
  {
   "cell_type": "code",
   "execution_count": null,
<<<<<<< HEAD
<<<<<<< HEAD
   "id": "8a0da220",
||||||| ff06ad40
   "id": "1cddd2ff",
=======
   "id": "e691a02c",
>>>>>>> documentation-devel
||||||| 1158767b
   "id": "8a0da220",
=======
   "id": "b6d9c05e",
>>>>>>> 6e0f6d6ef35309dec3607d4371c747197b435328
   "metadata": {},
   "outputs": [],
   "source": [
    "localResultAttrs(sfe, \"localmoran\", \"sum\")"
   ]
  },
  {
   "cell_type": "code",
   "execution_count": null,
<<<<<<< HEAD
<<<<<<< HEAD
   "id": "1bb1a94a",
||||||| ff06ad40
   "id": "8cf2692b",
=======
   "id": "be50bada",
>>>>>>> documentation-devel
||||||| 1158767b
   "id": "1bb1a94a",
=======
   "id": "7b4e1ae2",
>>>>>>> 6e0f6d6ef35309dec3607d4371c747197b435328
   "metadata": {},
   "outputs": [],
   "source": [
    "sfe$sum_localmoran <- localResult(sfe, \"localmoran\", \"sum\")[,\"Ii\"]\n",
    "sfe$detected_localmoran <- localResult(sfe, \"localmoran\", \"detected\")[,\"Ii\"]\n",
    "sfe$pct_mito_localmoran <- localResult(sfe, \"localmoran\", \"subsets_mito_percent\")[,\"Ii\"]"
   ]
  },
  {
   "cell_type": "code",
   "execution_count": null,
<<<<<<< HEAD
<<<<<<< HEAD
   "id": "455081a6",
||||||| ff06ad40
   "id": "b968ff37",
=======
   "id": "afd16d17",
>>>>>>> documentation-devel
||||||| 1158767b
   "id": "455081a6",
=======
   "id": "2d07ab82",
>>>>>>> 6e0f6d6ef35309dec3607d4371c747197b435328
   "metadata": {},
   "outputs": [],
   "source": [
    "# Colorblind friendly palette\n",
    "data(\"ditto_colors\")"
   ]
  },
  {
   "cell_type": "code",
   "execution_count": null,
<<<<<<< HEAD
<<<<<<< HEAD
   "id": "e68f9eb6",
||||||| ff06ad40
   "id": "b723a774",
=======
   "id": "4450ffa3",
>>>>>>> documentation-devel
||||||| 1158767b
   "id": "e68f9eb6",
=======
   "id": "25f353f0",
>>>>>>> 6e0f6d6ef35309dec3607d4371c747197b435328
   "metadata": {},
   "outputs": [],
   "source": [
    "plotColDataFreqpoly(sfe, c(\"sum_localmoran\", \"detected_localmoran\", \n",
    "                           \"pct_mito_localmoran\"), bins = 50, \n",
    "                    color_by = \"cluster\") +\n",
    "    scale_y_log10() +\n",
    "    annotation_logticks(sides = \"l\")"
   ]
  },
  {
   "cell_type": "markdown",
<<<<<<< HEAD
<<<<<<< HEAD
   "id": "7b274d27",
||||||| ff06ad40
   "id": "447e0797",
=======
   "id": "2f4d60e2",
>>>>>>> documentation-devel
||||||| 1158767b
   "id": "7b274d27",
=======
   "id": "71855cb0",
>>>>>>> 6e0f6d6ef35309dec3607d4371c747197b435328
   "metadata": {},
   "source": [
    "The y axis is log transformed (hence that warning when some bins have no cells), so the color of cells in the long tail can be seen because most cells don't have very strong local Moran's I. Cells in cluster 7 have high local Moran's I in total UMI counts and genes detected, which means that they tend to be more homogeneous in these QC metrics.\n",
    "\n",
    "How do local Moran's I for these QC metrics relate to each other?"
   ]
  },
  {
   "cell_type": "code",
   "execution_count": null,
<<<<<<< HEAD
<<<<<<< HEAD
   "id": "b503145f",
||||||| ff06ad40
   "id": "f84278ba",
=======
   "id": "86efaa41",
>>>>>>> documentation-devel
||||||| 1158767b
   "id": "b503145f",
=======
   "id": "9873107a",
>>>>>>> 6e0f6d6ef35309dec3607d4371c747197b435328
   "metadata": {},
   "outputs": [],
   "source": [
    "plotColData(sfe, x = \"sum_localmoran\", y = \"detected_localmoran\", \n",
    "            color_by = \"cluster\") +\n",
    "    scale_color_manual(values = ditto_colors)"
   ]
  },
  {
   "cell_type": "markdown",
<<<<<<< HEAD
<<<<<<< HEAD
   "id": "0d80dc48",
||||||| ff06ad40
   "id": "f2846ad5",
=======
   "id": "025863bc",
>>>>>>> documentation-devel
||||||| 1158767b
   "id": "0d80dc48",
=======
   "id": "ee04433c",
>>>>>>> 6e0f6d6ef35309dec3607d4371c747197b435328
   "metadata": {},
   "source": [
    "Cells more locally homogeneous in total UMI counts are also more homogeneous in number of genes detected, which is not surprising given the correlation between the two."
   ]
  },
  {
   "cell_type": "code",
   "execution_count": null,
<<<<<<< HEAD
<<<<<<< HEAD
   "id": "2567cfe7",
||||||| ff06ad40
   "id": "f00eb203",
=======
   "id": "0daaab3e",
>>>>>>> documentation-devel
||||||| 1158767b
   "id": "2567cfe7",
=======
   "id": "5b9772c6",
>>>>>>> 6e0f6d6ef35309dec3607d4371c747197b435328
   "metadata": {},
   "outputs": [],
   "source": [
    "plotColData(sfe, x = \"sum_localmoran\", y = \"pct_mito_localmoran\", \n",
    "            color_by = \"cluster\") +\n",
    "    scale_color_manual(values = ditto_colors)"
   ]
  },
  {
   "cell_type": "markdown",
<<<<<<< HEAD
<<<<<<< HEAD
   "id": "e8f3ee0e",
||||||| ff06ad40
   "id": "edda0941",
=======
   "id": "b6d79407",
>>>>>>> documentation-devel
||||||| 1158767b
   "id": "e8f3ee0e",
=======
   "id": "ca269d9a",
>>>>>>> 6e0f6d6ef35309dec3607d4371c747197b435328
   "metadata": {
    "lines_to_next_cell": 0
   },
   "source": [
    "For local Moran's I, `sum` vs percentage mitochondrial counts shows a more interesting pattern, highlighting clusters 4 and 7 as in the Moran plots.\n",
    "\n",
    "How does local Moran's I relate to the value itself?"
   ]
  },
  {
   "cell_type": "code",
   "execution_count": null,
<<<<<<< HEAD
<<<<<<< HEAD
   "id": "fb213905",
||||||| ff06ad40
   "id": "3734b2e0",
=======
   "id": "071124c2",
>>>>>>> documentation-devel
||||||| 1158767b
   "id": "fb213905",
=======
   "id": "7b6559fb",
>>>>>>> 6e0f6d6ef35309dec3607d4371c747197b435328
   "metadata": {},
   "outputs": [],
   "source": [
    "plotColData(sfe, x = \"sum\", y = \"sum_localmoran\", color_by = \"cluster\") +\n",
    "    geom_density2d(data = as.data.frame(colData(sfe)),\n",
    "                   mapping = aes(x = sum, y = sum_localmoran), color = \"blue\", \n",
    "                   linewidth = 0.3) +\n",
    "    scale_color_manual(values = ditto_colors)"
   ]
  },
  {
   "cell_type": "markdown",
<<<<<<< HEAD
<<<<<<< HEAD
   "id": "ae273cc2",
||||||| ff06ad40
   "id": "01bbc54c",
=======
   "id": "ae2575b2",
>>>>>>> documentation-devel
||||||| 1158767b
   "id": "ae273cc2",
=======
   "id": "4aeb5d03",
>>>>>>> 6e0f6d6ef35309dec3607d4371c747197b435328
   "metadata": {
    "lines_to_next_cell": 0
   },
   "source": [
    "In this case, generally cells with higher total counts also tend to have higher local Moran's I in total counts. However, there is another wing where cells with lower total counts have slightly higher local Moran's I in total counts and there's a central value of total counts with near 0 local Moran's I. The density contour shows that cells are concentrated at that central value.\n",
    "\n",
    "## Local spatial heteroscedasticity (LOSH)\n",
    "\n",
    "LOSH indicates heterogeneity around each cell in the k nearest neighbor graph."
   ]
  },
  {
   "cell_type": "code",
   "execution_count": null,
<<<<<<< HEAD
<<<<<<< HEAD
   "id": "3a8f3527",
||||||| ff06ad40
   "id": "53f17ac8",
=======
   "id": "826e8bdc",
>>>>>>> documentation-devel
||||||| 1158767b
   "id": "3a8f3527",
=======
   "id": "99289088",
>>>>>>> 6e0f6d6ef35309dec3607d4371c747197b435328
   "metadata": {},
   "outputs": [],
   "source": [
    "sfe <- colDataUnivariate(sfe, \"LOSH\", c(\"sum\", \"detected\", \"subsets_mito_percent\"))"
   ]
  },
  {
   "cell_type": "code",
   "execution_count": null,
<<<<<<< HEAD
<<<<<<< HEAD
   "id": "ece7f1b7",
||||||| ff06ad40
   "id": "818278c1",
=======
   "id": "7c470faa",
>>>>>>> documentation-devel
||||||| 1158767b
   "id": "ece7f1b7",
=======
   "id": "f7d135c4",
>>>>>>> 6e0f6d6ef35309dec3607d4371c747197b435328
   "metadata": {
    "fig.height": 6,
    "fig.width": 8
   },
   "outputs": [],
   "source": [
    "plotLocalResult(sfe, \"LOSH\", c(\"sum\", \"detected\", \"subsets_mito_percent\"), \n",
    "                colGeometryName = \"centroids\", ncol = 2)"
   ]
  },
  {
   "cell_type": "markdown",
<<<<<<< HEAD
<<<<<<< HEAD
   "id": "af31465b",
||||||| ff06ad40
   "id": "e160e1af",
=======
   "id": "4e2376b8",
>>>>>>> documentation-devel
||||||| 1158767b
   "id": "af31465b",
=======
   "id": "55c1abf2",
>>>>>>> 6e0f6d6ef35309dec3607d4371c747197b435328
   "metadata": {},
   "source": [
    "Here we make the same non-spatial plots for LOSH as in local Moran's I."
   ]
  },
  {
   "cell_type": "code",
   "execution_count": null,
<<<<<<< HEAD
<<<<<<< HEAD
   "id": "c0f4a816",
||||||| ff06ad40
   "id": "94d8a279",
=======
   "id": "73859bf9",
>>>>>>> documentation-devel
||||||| 1158767b
   "id": "c0f4a816",
=======
   "id": "b0c7cabe",
>>>>>>> 6e0f6d6ef35309dec3607d4371c747197b435328
   "metadata": {},
   "outputs": [],
   "source": [
    "localResultAttrs(sfe, \"LOSH\", \"sum\")"
   ]
  },
  {
   "cell_type": "code",
   "execution_count": null,
<<<<<<< HEAD
<<<<<<< HEAD
   "id": "b468c8fd",
||||||| ff06ad40
   "id": "8dca891d",
=======
   "id": "2b08b0fc",
>>>>>>> documentation-devel
||||||| 1158767b
   "id": "b468c8fd",
=======
   "id": "264ec167",
>>>>>>> 6e0f6d6ef35309dec3607d4371c747197b435328
   "metadata": {},
   "outputs": [],
   "source": [
    "sfe$sum_losh <- localResult(sfe, \"LOSH\", \"sum\")[,\"Hi\"]\n",
    "sfe$detected_losh <- localResult(sfe, \"LOSH\", \"detected\")[,\"Hi\"]\n",
    "sfe$pct_mito_losh <- localResult(sfe, \"LOSH\", \"subsets_mito_percent\")[,\"Hi\"]"
   ]
  },
  {
   "cell_type": "code",
   "execution_count": null,
<<<<<<< HEAD
<<<<<<< HEAD
   "id": "18cae812",
||||||| ff06ad40
   "id": "e9578814",
=======
   "id": "6faa5d35",
>>>>>>> documentation-devel
||||||| 1158767b
   "id": "18cae812",
=======
   "id": "5180fb82",
>>>>>>> 6e0f6d6ef35309dec3607d4371c747197b435328
   "metadata": {},
   "outputs": [],
   "source": [
    "plotColDataFreqpoly(sfe, c(\"sum_losh\", \"detected_losh\", \n",
    "                           \"pct_mito_losh\"), bins = 50, \n",
    "                     color_by = \"cluster\") +\n",
    "    scale_y_log10() +\n",
    "    annotation_logticks(sides = \"l\")"
   ]
  },
  {
   "cell_type": "markdown",
<<<<<<< HEAD
<<<<<<< HEAD
   "id": "9ee885d0",
||||||| ff06ad40
   "id": "69943a30",
=======
   "id": "81cb00a9",
>>>>>>> documentation-devel
||||||| 1158767b
   "id": "9ee885d0",
=======
   "id": "54d6669c",
>>>>>>> 6e0f6d6ef35309dec3607d4371c747197b435328
   "metadata": {},
   "source": [
    "Here, clusters 2 and 6 tend to be more locally heterogeneous. How do total counts and genes detected relate in LOSH?"
   ]
  },
  {
   "cell_type": "code",
   "execution_count": null,
<<<<<<< HEAD
<<<<<<< HEAD
   "id": "f421c9dc",
||||||| ff06ad40
   "id": "cf320ff1",
=======
   "id": "e5c42ee4",
>>>>>>> documentation-devel
||||||| 1158767b
   "id": "f421c9dc",
=======
   "id": "39367621",
>>>>>>> 6e0f6d6ef35309dec3607d4371c747197b435328
   "metadata": {},
   "outputs": [],
   "source": [
    "plotColData(sfe, x = \"sum_losh\", y = \"detected_losh\", color_by = \"cluster\") +\n",
    "    scale_color_manual(values = ditto_colors)"
   ]
  },
  {
   "cell_type": "markdown",
<<<<<<< HEAD
<<<<<<< HEAD
   "id": "b9dc7596",
||||||| ff06ad40
   "id": "277ff132",
=======
   "id": "24a3cb28",
>>>>>>> documentation-devel
||||||| 1158767b
   "id": "b9dc7596",
=======
   "id": "20f4b811",
>>>>>>> 6e0f6d6ef35309dec3607d4371c747197b435328
   "metadata": {},
   "source": [
    "While generally cells higher in LOSH in total counts are also higher in LOSH in genes detected, there are some outliers that are very high in both, with more heterogeneous neighborhoods. Absolute distance to the neighbors is not taken into account when the adjacency matrix is row normalized. It would be interesting to see if those outliers tend to be further away from their 10 nearest neighbors, or in a region in the PCA space where cells are further apart.\n",
    "\n",
    "How does total counts itself relate to its LOSH?"
   ]
  },
  {
   "cell_type": "code",
   "execution_count": null,
<<<<<<< HEAD
<<<<<<< HEAD
   "id": "62f01807",
||||||| ff06ad40
   "id": "2f87b7f2",
=======
   "id": "4fab63da",
>>>>>>> documentation-devel
||||||| 1158767b
   "id": "62f01807",
=======
   "id": "dc3cc2b3",
>>>>>>> 6e0f6d6ef35309dec3607d4371c747197b435328
   "metadata": {},
   "outputs": [],
   "source": [
    "plotColData(sfe, x = \"sum\", y = \"sum_losh\", color_by = \"cluster\") +\n",
    "    scale_color_manual(values = ditto_colors)"
   ]
  },
  {
   "cell_type": "markdown",
<<<<<<< HEAD
<<<<<<< HEAD
   "id": "2c78b237",
||||||| ff06ad40
   "id": "ba1d42ff",
=======
   "id": "c8829d98",
>>>>>>> documentation-devel
||||||| 1158767b
   "id": "2c78b237",
=======
   "id": "4b494a4d",
>>>>>>> 6e0f6d6ef35309dec3607d4371c747197b435328
   "metadata": {
    "lines_to_next_cell": 0
   },
   "source": [
    "There does not seem to be a clear relationship in this case. \n",
    "\n",
    "# \"Spatial\" analyses for gene expression\n",
    "First, we need to reorganize the differential expression results:"
   ]
  },
  {
   "cell_type": "code",
   "execution_count": null,
<<<<<<< HEAD
<<<<<<< HEAD
   "id": "99008697",
||||||| ff06ad40
   "id": "9e2b8783",
=======
   "id": "d65b3984",
>>>>>>> documentation-devel
||||||| 1158767b
   "id": "99008697",
=======
   "id": "d320ae0f",
>>>>>>> 6e0f6d6ef35309dec3607d4371c747197b435328
   "metadata": {},
   "outputs": [],
   "source": [
    "top_markers_df <- lapply(seq_along(markers), function(i) {\n",
    "    out <- markers[[i]][markers[[i]]$FDR < 0.05, c(\"FDR\", \"summary.AUC\")]\n",
    "    if (nrow(out)) out$cluster <- i\n",
    "    out\n",
    "})\n",
    "top_markers_df <- do.call(rbind, top_markers_df)\n",
    "top_markers_df$symbol <- rowData(sce)[rownames(top_markers_df), \"Symbol\"]"
   ]
  },
  {
   "cell_type": "markdown",
<<<<<<< HEAD
<<<<<<< HEAD
   "id": "98fbec7f",
||||||| ff06ad40
   "id": "16e476ea",
=======
   "id": "cfbd29bf",
>>>>>>> documentation-devel
||||||| 1158767b
   "id": "98fbec7f",
=======
   "id": "cbdf2134",
>>>>>>> 6e0f6d6ef35309dec3607d4371c747197b435328
   "metadata": {
    "lines_to_next_cell": 0
   },
   "source": [
    "## Moran's I"
   ]
  },
  {
   "cell_type": "code",
   "execution_count": null,
<<<<<<< HEAD
<<<<<<< HEAD
   "id": "d86eaf12",
||||||| ff06ad40
   "id": "75445576",
=======
   "id": "a0d6834c",
>>>>>>> documentation-devel
||||||| 1158767b
   "id": "d86eaf12",
=======
   "id": "eea02781",
>>>>>>> 6e0f6d6ef35309dec3607d4371c747197b435328
   "metadata": {},
   "outputs": [],
   "source": [
    "sfe <- runMoransI(sfe, features = hvgs, BPPARAM = MulticoreParam(2))"
   ]
  },
  {
   "cell_type": "markdown",
<<<<<<< HEAD
<<<<<<< HEAD
   "id": "018750db",
||||||| ff06ad40
   "id": "3aed0a4a",
=======
   "id": "2a275bb9",
>>>>>>> documentation-devel
||||||| 1158767b
   "id": "018750db",
=======
   "id": "ed1a7f0e",
>>>>>>> 6e0f6d6ef35309dec3607d4371c747197b435328
   "metadata": {
    "lines_to_next_cell": 0
   },
   "source": [
    "The results are added to `rowData(sfe)`. The NA's are for non-highly variable genes, as Moran's I was only computed for highly variable genes here."
   ]
  },
  {
   "cell_type": "code",
   "execution_count": null,
<<<<<<< HEAD
<<<<<<< HEAD
   "id": "facfc45c",
||||||| ff06ad40
   "id": "6e1d7263",
=======
   "id": "bd824724",
>>>>>>> documentation-devel
||||||| 1158767b
   "id": "facfc45c",
=======
   "id": "a13e18b4",
>>>>>>> 6e0f6d6ef35309dec3607d4371c747197b435328
   "metadata": {},
   "outputs": [],
   "source": [
    "rowData(sfe)"
   ]
  },
  {
   "cell_type": "markdown",
<<<<<<< HEAD
<<<<<<< HEAD
   "id": "2b0fe702",
||||||| ff06ad40
   "id": "20eb7e98",
=======
   "id": "8a39f793",
>>>>>>> documentation-devel
||||||| 1158767b
   "id": "2b0fe702",
=======
   "id": "85dd19c9",
>>>>>>> 6e0f6d6ef35309dec3607d4371c747197b435328
   "metadata": {
    "lines_to_next_cell": 0
   },
   "source": [
    "How are the Moran's I's for highly variable genes distributed? Also, where are the top cluster marker genes in this distribution?"
   ]
  },
  {
   "cell_type": "code",
   "execution_count": null,
<<<<<<< HEAD
<<<<<<< HEAD
   "id": "a6729ab2",
||||||| ff06ad40
   "id": "8fded079",
=======
   "id": "58908bda",
>>>>>>> documentation-devel
||||||| 1158767b
   "id": "a6729ab2",
=======
   "id": "dda3d7ee",
>>>>>>> 6e0f6d6ef35309dec3607d4371c747197b435328
   "metadata": {},
   "outputs": [],
   "source": [
    "plotRowDataHistogram(sfe, \"moran_sample01\", bins = 50) +\n",
    "    geom_vline(data = as.data.frame(rowData(sfe)[top_markers,]) |> \n",
    "                   mutate(index = seq_along(top_markers)),\n",
    "               aes(xintercept = moran_sample01, color = index)) +\n",
    "    scale_color_continuous(breaks = scales::breaks_width(2))"
   ]
  },
  {
   "cell_type": "markdown",
<<<<<<< HEAD
<<<<<<< HEAD
   "id": "5ba8c0b0",
||||||| ff06ad40
   "id": "c6498f8c",
=======
   "id": "8bb6de45",
>>>>>>> documentation-devel
||||||| 1158767b
   "id": "5ba8c0b0",
=======
   "id": "dfa1ee4f",
>>>>>>> 6e0f6d6ef35309dec3607d4371c747197b435328
   "metadata": {},
   "source": [
    "The top marker genes all have quite positive Moran's I on the k nearest neighbor graph. It would also be interesting to color this histogram by gene sets. Since the k nearest neighbor graph was found in PCA space, which is based on gene expression, as expected, Moran's I with this graph is mostly positive, although often not that strong. A small number of genes have slightly negative Moran's I. What do the top genes look like in PCA?"
   ]
  },
  {
   "cell_type": "code",
   "execution_count": null,
<<<<<<< HEAD
<<<<<<< HEAD
   "id": "a678838f",
||||||| ff06ad40
   "id": "ad72bda1",
=======
   "id": "ef7d0e9a",
>>>>>>> documentation-devel
||||||| 1158767b
   "id": "a678838f",
=======
   "id": "d2da282e",
>>>>>>> 6e0f6d6ef35309dec3607d4371c747197b435328
   "metadata": {
    "fig.height": 6,
    "fig.width": 8
   },
   "outputs": [],
   "source": [
    "top_moran <- head(rownames(sfe)[order(rowData(sfe)$moran_sample01, decreasing = TRUE)], 4)\n",
    "plotSpatialFeature(sfe, top_moran, ncol = 2)"
   ]
  },
  {
   "cell_type": "code",
   "execution_count": null,
<<<<<<< HEAD
<<<<<<< HEAD
   "id": "7363cbe7",
||||||| ff06ad40
   "id": "509ad652",
=======
   "id": "9a78598d",
>>>>>>> documentation-devel
||||||| 1158767b
   "id": "7363cbe7",
=======
   "id": "4fef38e3",
>>>>>>> 6e0f6d6ef35309dec3607d4371c747197b435328
   "metadata": {},
   "outputs": [],
   "source": [
    "top_moran_symbol <- rowData(sfe)[top_moran, \"Symbol\"]\n",
    "plotExpression(sfe, top_moran_symbol, swap_rownames = \"Symbol\")"
   ]
  },
  {
   "cell_type": "markdown",
<<<<<<< HEAD
<<<<<<< HEAD
   "id": "248b9b7d",
||||||| ff06ad40
   "id": "9a3c713f",
=======
   "id": "265bbd32",
>>>>>>> documentation-devel
||||||| 1158767b
   "id": "248b9b7d",
=======
   "id": "8e1cf6f0",
>>>>>>> 6e0f6d6ef35309dec3607d4371c747197b435328
   "metadata": {},
   "source": [
    "They are all marker genes for the same cluster, cluster 9. Perhaps these genes have high Moran's I because they are specific to a cell type. Then how does the Moran's I relate to cluster AUC and cluster differential expression p-value?"
   ]
  },
  {
   "cell_type": "code",
   "execution_count": null,
<<<<<<< HEAD
<<<<<<< HEAD
   "id": "253ce36c",
||||||| ff06ad40
   "id": "fe5aae76",
=======
   "id": "5a8b4345",
>>>>>>> documentation-devel
||||||| 1158767b
   "id": "253ce36c",
=======
   "id": "2ccc2129",
>>>>>>> 6e0f6d6ef35309dec3607d4371c747197b435328
   "metadata": {},
   "outputs": [],
   "source": [
    "# See if markers are unique to clusters\n",
    "anyDuplicated(rownames(top_markers_df))"
   ]
  },
  {
   "cell_type": "code",
   "execution_count": null,
<<<<<<< HEAD
<<<<<<< HEAD
   "id": "eba62cb2",
||||||| ff06ad40
   "id": "7306541f",
=======
   "id": "0fa29f26",
>>>>>>> documentation-devel
||||||| 1158767b
   "id": "eba62cb2",
=======
   "id": "352b5bdc",
>>>>>>> 6e0f6d6ef35309dec3607d4371c747197b435328
   "metadata": {},
   "outputs": [],
   "source": [
    "top_markers_df$moran <- rowData(sfe)[rownames(top_markers_df), \"moran_sample01\"]\n",
    "top_markers_df$log_p_adj <- -log10(top_markers_df$FDR)\n",
    "top_markers_df$cluster <- factor(top_markers_df$cluster, \n",
    "                                 levels = seq_len(length(unique(top_markers_df$cluster))))"
   ]
  },
  {
   "cell_type": "markdown",
<<<<<<< HEAD
<<<<<<< HEAD
   "id": "df6f157f",
||||||| ff06ad40
   "id": "d2eacbe5",
=======
   "id": "4f40556b",
>>>>>>> documentation-devel
||||||| 1158767b
   "id": "df6f157f",
=======
   "id": "13e1dfee",
>>>>>>> 6e0f6d6ef35309dec3607d4371c747197b435328
   "metadata": {
    "lines_to_next_cell": 0
   },
   "source": [
    "How does the differential expression p-value relate to Moran's I?"
   ]
  },
  {
   "cell_type": "code",
   "execution_count": null,
<<<<<<< HEAD
<<<<<<< HEAD
   "id": "5be95297",
||||||| ff06ad40
   "id": "03da8634",
=======
   "id": "5d9e0010",
>>>>>>> documentation-devel
||||||| 1158767b
   "id": "5be95297",
=======
   "id": "0a6d586e",
>>>>>>> 6e0f6d6ef35309dec3607d4371c747197b435328
   "metadata": {},
   "outputs": [],
   "source": [
    "as.data.frame(top_markers_df) |> \n",
    "    ggplot(aes(log_p_adj, moran)) +\n",
    "    geom_point(aes(color = cluster)) +\n",
    "    geom_smooth(method = \"lm\") +\n",
    "    scale_color_manual(values = ditto_colors)"
   ]
  },
  {
   "cell_type": "markdown",
<<<<<<< HEAD
<<<<<<< HEAD
   "id": "f41ead50",
||||||| ff06ad40
   "id": "424173c2",
=======
   "id": "cf8875a5",
>>>>>>> documentation-devel
||||||| 1158767b
   "id": "f41ead50",
=======
   "id": "683e2a69",
>>>>>>> 6e0f6d6ef35309dec3607d4371c747197b435328
   "metadata": {},
   "source": [
    "Generally, more significant marker genes tend to have higher Moran's I. This is not surprising because the clusters and Moran's I here are both based on the k nearest neighbor graph."
   ]
  },
  {
   "cell_type": "code",
   "execution_count": null,
<<<<<<< HEAD
<<<<<<< HEAD
   "id": "0a5bfb4b",
||||||| ff06ad40
   "id": "15d5b1da",
=======
   "id": "413dd2b3",
>>>>>>> documentation-devel
||||||| 1158767b
   "id": "0a5bfb4b",
=======
   "id": "65dacb59",
>>>>>>> 6e0f6d6ef35309dec3607d4371c747197b435328
   "metadata": {},
   "outputs": [],
   "source": [
    "as.data.frame(top_markers_df) |> \n",
    "    ggplot(aes(summary.AUC, moran)) +\n",
    "    geom_point(aes(color = cluster)) +\n",
    "    geom_smooth(method = \"lm\") +\n",
    "    scale_color_manual(values = ditto_colors)"
   ]
  },
  {
   "cell_type": "markdown",
<<<<<<< HEAD
<<<<<<< HEAD
   "id": "2a2f1d90",
||||||| ff06ad40
   "id": "fc87728a",
=======
   "id": "e6337292",
>>>>>>> documentation-devel
||||||| 1158767b
   "id": "2a2f1d90",
=======
   "id": "59643dfd",
>>>>>>> 6e0f6d6ef35309dec3607d4371c747197b435328
   "metadata": {
    "lines_to_next_cell": 0
   },
   "source": [
    "Similarly, genes with higher AUC tend to have higher Moran's I. For other clusters, generally speaking, genes more specific to a cluster tend to have higher Moran's I.\n",
    "\n",
    "Let's use permutation testing to see if Moran's I is statistically significant:"
   ]
  },
  {
   "cell_type": "code",
   "execution_count": null,
<<<<<<< HEAD
<<<<<<< HEAD
   "id": "ecd8b8c3",
||||||| ff06ad40
   "id": "8d00ba5b",
=======
   "id": "0a94b6e2",
>>>>>>> documentation-devel
||||||| 1158767b
   "id": "ecd8b8c3",
=======
   "id": "97785d6d",
>>>>>>> 6e0f6d6ef35309dec3607d4371c747197b435328
   "metadata": {},
   "outputs": [],
   "source": [
    "sfe <- runUnivariate(sfe, \"moran.mc\", features = top_markers, nsim = 200)"
   ]
  },
  {
   "cell_type": "code",
   "execution_count": null,
<<<<<<< HEAD
<<<<<<< HEAD
   "id": "86d28f53",
||||||| ff06ad40
   "id": "49ef36b0",
=======
   "id": "3efa4863",
>>>>>>> documentation-devel
||||||| 1158767b
   "id": "86d28f53",
=======
   "id": "96e2bf16",
>>>>>>> 6e0f6d6ef35309dec3607d4371c747197b435328
   "metadata": {},
   "outputs": [],
   "source": [
    "top_markers_symbol"
   ]
  },
  {
   "cell_type": "code",
   "execution_count": null,
<<<<<<< HEAD
<<<<<<< HEAD
   "id": "0f45b888",
||||||| ff06ad40
   "id": "9c6839ba",
=======
   "id": "15039fe4",
>>>>>>> documentation-devel
||||||| 1158767b
   "id": "0f45b888",
=======
   "id": "0c8ab651",
>>>>>>> 6e0f6d6ef35309dec3607d4371c747197b435328
   "metadata": {},
   "outputs": [],
   "source": [
    "plotMoranMC(sfe, top_markers, swap_rownames = \"Symbol\")"
   ]
  },
  {
   "cell_type": "markdown",
<<<<<<< HEAD
<<<<<<< HEAD
   "id": "2e78826f",
||||||| ff06ad40
   "id": "8b407f96",
=======
   "id": "590fc9cf",
>>>>>>> documentation-devel
||||||| 1158767b
   "id": "2e78826f",
=======
   "id": "78f23d57",
>>>>>>> 6e0f6d6ef35309dec3607d4371c747197b435328
   "metadata": {},
   "source": [
    "They all seem to be very significant. \n",
    "\n",
    "The correlogram finds Moran's I for a higher order of neighbors and can be a proxy for distance. "
   ]
  },
  {
   "cell_type": "code",
   "execution_count": null,
<<<<<<< HEAD
<<<<<<< HEAD
   "id": "2b3207b2",
||||||| ff06ad40
   "id": "712643f0",
=======
   "id": "c316f2f9",
>>>>>>> documentation-devel
||||||| 1158767b
   "id": "2b3207b2",
=======
   "id": "ae2103b5",
>>>>>>> 6e0f6d6ef35309dec3607d4371c747197b435328
   "metadata": {},
   "outputs": [],
   "source": [
    "system.time({\n",
    "    sfe <- runUnivariate(sfe, \"sp.correlogram\", top_markers, order = 6, \n",
    "                     zero.policy = TRUE, BPPARAM = MulticoreParam(2))\n",
    "})"
   ]
  },
  {
   "cell_type": "code",
   "execution_count": null,
<<<<<<< HEAD
<<<<<<< HEAD
   "id": "33b88826",
||||||| ff06ad40
   "id": "6828df93",
=======
   "id": "8f2e4313",
>>>>>>> documentation-devel
||||||| 1158767b
   "id": "33b88826",
=======
   "id": "17df40e9",
>>>>>>> 6e0f6d6ef35309dec3607d4371c747197b435328
   "metadata": {},
   "outputs": [],
   "source": [
    "plotCorrelogram(sfe, top_markers, swap_rownames = \"Symbol\")"
   ]
  },
  {
   "cell_type": "markdown",
<<<<<<< HEAD
<<<<<<< HEAD
   "id": "b9695112",
||||||| ff06ad40
   "id": "1e7b9d1b",
=======
   "id": "84b69903",
>>>>>>> documentation-devel
||||||| 1158767b
   "id": "b9695112",
=======
   "id": "ebc8499d",
>>>>>>> 6e0f6d6ef35309dec3607d4371c747197b435328
   "metadata": {
    "lines_to_next_cell": 0
   },
   "source": [
    "We see different patterns of decay in spatial autocorrelation and different length scales of spatial autocorrelation. CLU is a marker gene very specific to the smallest cluster, so higher order neighbors are very likely to be from other clusters. Marker genes for the other larger clusters with hundreds of cells nevertheless display different patterns in the correlogram.\n",
    "\n",
    "## Local Moran's I"
   ]
  },
  {
   "cell_type": "code",
   "execution_count": null,
<<<<<<< HEAD
<<<<<<< HEAD
   "id": "f1eb5585",
||||||| ff06ad40
   "id": "19557360",
=======
   "id": "33641a43",
>>>>>>> documentation-devel
||||||| 1158767b
   "id": "f1eb5585",
=======
   "id": "a4869956",
>>>>>>> 6e0f6d6ef35309dec3607d4371c747197b435328
   "metadata": {},
   "outputs": [],
   "source": [
    "sfe <- runUnivariate(sfe, \"localmoran\", features = top_markers)"
   ]
  },
  {
   "cell_type": "code",
   "execution_count": null,
<<<<<<< HEAD
<<<<<<< HEAD
   "id": "b0385eaf",
||||||| ff06ad40
   "id": "aa9ca92f",
=======
   "id": "1450098b",
>>>>>>> documentation-devel
||||||| 1158767b
   "id": "b0385eaf",
=======
   "id": "fdb9f1b6",
>>>>>>> 6e0f6d6ef35309dec3607d4371c747197b435328
   "metadata": {
    "fig.height": 9,
    "fig.width": 12
   },
   "outputs": [],
   "source": [
    "plotLocalResult(sfe, \"localmoran\", top_markers, colGeometryName = \"centroids\", \n",
    "                divergent = TRUE, diverge_center = 0, ncol = 3,\n",
    "                swap_rownames = \"Symbol\")"
   ]
  },
  {
   "cell_type": "markdown",
<<<<<<< HEAD
<<<<<<< HEAD
   "id": "ec1c05fb",
||||||| ff06ad40
   "id": "4092e1fa",
=======
   "id": "c7aa1731",
>>>>>>> documentation-devel
||||||| 1158767b
   "id": "ec1c05fb",
=======
   "id": "a6cdf359",
>>>>>>> 6e0f6d6ef35309dec3607d4371c747197b435328
   "metadata": {},
   "source": [
    "We will also plot the histograms, but for now the results need to be added to `colData` first."
   ]
  },
  {
   "cell_type": "code",
   "execution_count": null,
<<<<<<< HEAD
<<<<<<< HEAD
   "id": "84ec4c65",
||||||| ff06ad40
   "id": "d3ef5dc9",
=======
   "id": "4c2dde58",
>>>>>>> documentation-devel
||||||| 1158767b
   "id": "84ec4c65",
=======
   "id": "535ad783",
>>>>>>> 6e0f6d6ef35309dec3607d4371c747197b435328
   "metadata": {},
   "outputs": [],
   "source": [
    "new_colname <- paste0(\"cluster\", seq_along(top_markers), \"_\", \n",
    "                      top_markers_symbol, \"_localmoran\")\n",
    "for (i in seq_along(top_markers)) {\n",
    "    g <- top_markers[i]\n",
    "    colData(sfe)[[new_colname[i]]] <- \n",
    "        localResult(sfe, \"localmoran\", g)[,\"Ii\"]\n",
    "}"
   ]
  },
  {
   "cell_type": "code",
   "execution_count": null,
<<<<<<< HEAD
<<<<<<< HEAD
   "id": "d768d62d",
||||||| ff06ad40
   "id": "c2f3cc18",
=======
   "id": "10989530",
>>>>>>> documentation-devel
||||||| 1158767b
   "id": "d768d62d",
=======
   "id": "cb157709",
>>>>>>> 6e0f6d6ef35309dec3607d4371c747197b435328
   "metadata": {
    "fig.height": 12,
    "fig.width": 8
   },
   "outputs": [],
   "source": [
    "plotColDataFreqpoly(sfe, new_colname, color_by = \"cluster\") +\n",
    "    ggtitle(\"Local Moran's I\") +\n",
    "    theme(legend.position = \"top\") +\n",
    "    scale_y_log10() +\n",
    "    annotation_logticks(sides = \"l\")"
   ]
  },
  {
   "cell_type": "markdown",
<<<<<<< HEAD
<<<<<<< HEAD
   "id": "57e64264",
||||||| ff06ad40
   "id": "594f5a36",
=======
   "id": "2e237c7d",
>>>>>>> documentation-devel
||||||| 1158767b
   "id": "57e64264",
=======
   "id": "e915292b",
>>>>>>> 6e0f6d6ef35309dec3607d4371c747197b435328
   "metadata": {
    "lines_to_next_cell": 0
   },
   "source": [
    "Again, the y axis is log transformed to make the tail more visible. For some clusters, the top marker gene's local Moran's I forms its own peak for cells in the cluster with higher local Moran's I than other cells. However, sometimes cells within the cluster form a long tail shared with some cells from other clusters. Then the local Moran's I could be another method for differential expression. Or since both local Moran's I and Leiden clustering use the k nearest neighbor graph in PCA space, local Moran's I of marker genes or perhaps eigengenes signifying gene programs for each cell type on this k nearest neighbor graph can validate or criticize Leiden clusters. Furthermore, interestingly, for some genes, the tallest peak in the histogram is away from 0.\n",
    "\n",
    "The scatter plots as shown in the \"spatial\" analyses for the QC metrics section can be made to see how local Moran's I relates to the expression of the gene itself."
   ]
  },
  {
   "cell_type": "code",
   "execution_count": null,
<<<<<<< HEAD
<<<<<<< HEAD
   "id": "9f3efd22",
||||||| ff06ad40
   "id": "0fb63747",
=======
   "id": "e628a8a0",
>>>>>>> documentation-devel
||||||| 1158767b
   "id": "9f3efd22",
=======
   "id": "5c61884b",
>>>>>>> 6e0f6d6ef35309dec3607d4371c747197b435328
   "metadata": {},
   "outputs": [],
   "source": [
    "i <- 6 # Change if running this notebook\n",
    "plotExpression(sfe, top_markers_symbol[i], x = new_colname[i], color_by = \"cluster\",\n",
    "               swap_rownames = \"Symbol\") +\n",
    "    scale_color_manual(values = ditto_colors) +\n",
    "    coord_flip() +\n",
    "    # comment out in case of error after changing i\n",
    "    geom_density2d(data = as.data.frame(colData(sfe)) |> \n",
    "                       mutate(gene = logcounts(sfe)[top_markers[i],]),\n",
    "                   mapping = aes(x = .data[[new_colname[i]]], y = gene), \n",
    "                   color = \"blue\", linewidth = 0.3) "
   ]
  },
  {
   "cell_type": "markdown",
<<<<<<< HEAD
<<<<<<< HEAD
   "id": "c9490ca5",
||||||| ff06ad40
   "id": "b3ddf8d0",
=======
   "id": "b454c6d6",
>>>>>>> documentation-devel
||||||| 1158767b
   "id": "c9490ca5",
=======
   "id": "22d084e9",
>>>>>>> 6e0f6d6ef35309dec3607d4371c747197b435328
   "metadata": {},
   "source": [
    "For this gene, just like for total UMI counts, there are two wings and a central value where local Moran's I is around 0. Generally, cells with higher expression of this gene have higher local Moran's I for this gene as well. The density contours show that cells concentrate around 0 expression and some weaker positive local Moran. The streak of cells with 0 expression means that many cells don't express this gene, and their neighbors have low and slightly homogeneous expression of this gene. This pattern may be different for different genes. Also, the p-values for each cell for local Moran's I are available and corrected for multiple hypothesis testing, and can be plotted. The p-values are based on the z score of the local Moran statistic, although how the statistic is distributed for gene expression data warrants more investigation. This p-value can also be computed with permutation (see `localmoran_perm()`). "
   ]
  },
  {
   "cell_type": "code",
   "execution_count": null,
<<<<<<< HEAD
<<<<<<< HEAD
   "id": "7c4e9052",
||||||| ff06ad40
   "id": "f2899c5d",
=======
   "id": "cbf3efa3",
>>>>>>> documentation-devel
||||||| 1158767b
   "id": "7c4e9052",
=======
   "id": "f0a7e4e4",
>>>>>>> 6e0f6d6ef35309dec3607d4371c747197b435328
   "metadata": {},
   "outputs": [],
   "source": [
    "localResultAttrs(sfe, \"localmoran\", top_markers[1])"
   ]
  },
  {
   "cell_type": "markdown",
<<<<<<< HEAD
<<<<<<< HEAD
   "id": "091b45c0",
||||||| ff06ad40
   "id": "cf1c397a",
=======
   "id": "7ca2184c",
>>>>>>> documentation-devel
||||||| 1158767b
   "id": "091b45c0",
=======
   "id": "0d8848c1",
>>>>>>> 6e0f6d6ef35309dec3607d4371c747197b435328
   "metadata": {},
   "source": [
    "## LOSH"
   ]
  },
  {
   "cell_type": "code",
   "execution_count": null,
<<<<<<< HEAD
<<<<<<< HEAD
   "id": "a11d8ebd",
||||||| ff06ad40
   "id": "09fffadd",
=======
   "id": "f9227715",
>>>>>>> documentation-devel
||||||| 1158767b
   "id": "a11d8ebd",
=======
   "id": "df67b21d",
>>>>>>> 6e0f6d6ef35309dec3607d4371c747197b435328
   "metadata": {},
   "outputs": [],
   "source": [
    "sfe <- runUnivariate(sfe, \"LOSH\", top_markers)"
   ]
  },
  {
   "cell_type": "code",
   "execution_count": null,
<<<<<<< HEAD
<<<<<<< HEAD
   "id": "b599280e",
||||||| ff06ad40
   "id": "ddfdec91",
=======
   "id": "bf5c154a",
>>>>>>> documentation-devel
||||||| 1158767b
   "id": "b599280e",
=======
   "id": "c4804674",
>>>>>>> 6e0f6d6ef35309dec3607d4371c747197b435328
   "metadata": {
    "fig.height": 9,
    "fig.width": 12
   },
   "outputs": [],
   "source": [
    "plotLocalResult(sfe, \"LOSH\", top_markers, colGeometryName = \"centroids\", ncol = 3,\n",
    "                swap_rownames = \"Symbol\")"
   ]
  },
  {
   "cell_type": "markdown",
<<<<<<< HEAD
<<<<<<< HEAD
   "id": "a916a215",
||||||| ff06ad40
   "id": "656067d2",
=======
   "id": "a4e741c8",
>>>>>>> documentation-devel
||||||| 1158767b
   "id": "a916a215",
=======
   "id": "58bff349",
>>>>>>> 6e0f6d6ef35309dec3607d4371c747197b435328
   "metadata": {
    "lines_to_next_cell": 0
   },
   "source": [
    "In the two genes on the right, it's interesting to see higher LOSH in the middle cluster. The two genes on the left have some outliers throwing off the dynamic range, but it seems that their high LOSH regions are different.\n",
    "\n",
    "Again, we plot the histograms:"
   ]
  },
  {
   "cell_type": "code",
   "execution_count": null,
<<<<<<< HEAD
<<<<<<< HEAD
   "id": "4677f994",
||||||| ff06ad40
   "id": "efec3171",
=======
   "id": "be080910",
>>>>>>> documentation-devel
||||||| 1158767b
   "id": "4677f994",
=======
   "id": "8885b202",
>>>>>>> 6e0f6d6ef35309dec3607d4371c747197b435328
   "metadata": {},
   "outputs": [],
   "source": [
    "new_colname2 <- paste0(\"cluster\", seq_along(top_markers), \"_\", \n",
    "                      top_markers_symbol, \"_losh\")\n",
    "for (i in seq_along(top_markers)) {\n",
    "    g <- top_markers[i]\n",
    "    colData(sfe)[[new_colname2[i]]] <- \n",
    "        localResult(sfe, \"LOSH\", g)[,\"Hi\"]\n",
    "}"
   ]
  },
  {
   "cell_type": "code",
   "execution_count": null,
<<<<<<< HEAD
<<<<<<< HEAD
   "id": "d6ad8b2e",
||||||| ff06ad40
   "id": "345a6563",
=======
   "id": "14b6a9d1",
>>>>>>> documentation-devel
||||||| 1158767b
   "id": "d6ad8b2e",
=======
   "id": "9d7b4e9e",
>>>>>>> 6e0f6d6ef35309dec3607d4371c747197b435328
   "metadata": {
    "fig.height": 12,
    "fig.width": 8
   },
   "outputs": [],
   "source": [
    "plotColDataFreqpoly(sfe, new_colname2, color_by = \"cluster\") +\n",
    "    ggtitle(\"Local heteroscedasticity\") +\n",
    "    theme(legend.position = \"top\") +\n",
    "    scale_y_log10() +\n",
    "    annotation_logticks(sides = \"l\")"
   ]
  },
  {
   "cell_type": "markdown",
<<<<<<< HEAD
<<<<<<< HEAD
   "id": "9e0b4530",
||||||| ff06ad40
   "id": "e65e1002",
=======
   "id": "125b9de2",
>>>>>>> documentation-devel
||||||| 1158767b
   "id": "9e0b4530",
=======
   "id": "67d3b74a",
>>>>>>> 6e0f6d6ef35309dec3607d4371c747197b435328
   "metadata": {},
   "source": [
    "The relationship between expression and LOSH is more complicated. For some genes, such as the top marker gene for cluster 1 LYAR, cells in the cluster with higher expression also have higher LOSH - much like how in Poisson and negative binomial distributions, higher mean also means higher variance. However, some genes, such as the top marker gene for cluster 2 CTSS, have lower LOSH among cells that have higher expression, which means expression of this gene is more homogeneous within the cluster, consistent with local Moran. "
   ]
  },
  {
   "cell_type": "code",
   "execution_count": null,
<<<<<<< HEAD
<<<<<<< HEAD
   "id": "a4bd6ab3",
||||||| ff06ad40
   "id": "3bb4f3ed",
=======
   "id": "3ef6b52d",
>>>>>>> documentation-devel
||||||| 1158767b
   "id": "a4bd6ab3",
=======
   "id": "c98434e0",
>>>>>>> 6e0f6d6ef35309dec3607d4371c747197b435328
   "metadata": {},
   "outputs": [],
   "source": [
    "i <- 6 # Change if running this notebook\n",
    "plotExpression(sfe, top_markers_symbol[i], x = new_colname2[i], \n",
    "               color_by = \"cluster\", swap_rownames = \"Symbol\") +\n",
    "    scale_color_manual(values = ditto_colors) +\n",
    "    coord_flip() +\n",
    "    # comment out in case of error after changing i\n",
    "    geom_density2d(data = as.data.frame(colData(sfe)) |> \n",
    "                       mutate(gene = logcounts(sfe)[top_markers[i],]),\n",
    "                   mapping = aes(x = .data[[new_colname2[i]]], y = gene), \n",
    "                   color = \"blue\", linewidth = 0.3) "
   ]
  },
  {
   "cell_type": "markdown",
<<<<<<< HEAD
<<<<<<< HEAD
   "id": "7bf737c6",
||||||| ff06ad40
   "id": "979c7436",
=======
   "id": "28694d27",
>>>>>>> documentation-devel
||||||| 1158767b
   "id": "7bf737c6",
=======
   "id": "d2e7686d",
>>>>>>> 6e0f6d6ef35309dec3607d4371c747197b435328
   "metadata": {
    "lines_to_next_cell": 0
   },
   "source": [
    "For this gene, the density contour indicates that many cells don't express this gene and have homogeneous neighborhoods also with low expression. That streak around 0 expression means that neighbors of cells that don't express this gene have different levels of heterogeneity in this gene.\n",
    "\n",
    "## Moran plot\n",
    "\n",
    "Here we make Moran plots for the top marker genes."
   ]
  },
  {
   "cell_type": "code",
   "execution_count": null,
<<<<<<< HEAD
<<<<<<< HEAD
   "id": "3f793e44",
||||||| ff06ad40
   "id": "3a07fa78",
=======
   "id": "ed6e3be3",
>>>>>>> documentation-devel
||||||| 1158767b
   "id": "3f793e44",
=======
   "id": "981ce46c",
>>>>>>> 6e0f6d6ef35309dec3607d4371c747197b435328
   "metadata": {},
   "outputs": [],
   "source": [
    "sfe <- runUnivariate(sfe, \"moran.plot\", features = top_markers, colGraphName = \"knn10\")"
   ]
  },
  {
   "cell_type": "markdown",
<<<<<<< HEAD
<<<<<<< HEAD
   "id": "b2d7854f",
||||||| ff06ad40
   "id": "d4757ce6",
=======
   "id": "17d39244",
>>>>>>> documentation-devel
||||||| 1158767b
   "id": "b2d7854f",
=======
   "id": "c1082180",
>>>>>>> 6e0f6d6ef35309dec3607d4371c747197b435328
   "metadata": {
    "lines_to_next_cell": 0
   },
   "source": [
    "As a reference, we show Moran's I for the top marker genes, which is the slope of the line fitted to the Moran scatter plot."
   ]
  },
  {
   "cell_type": "code",
   "execution_count": null,
<<<<<<< HEAD
<<<<<<< HEAD
   "id": "adf0c1fb",
||||||| ff06ad40
   "id": "c33bb5bf",
=======
   "id": "c4dabff3",
>>>>>>> documentation-devel
||||||| 1158767b
   "id": "adf0c1fb",
=======
   "id": "34de6f58",
>>>>>>> 6e0f6d6ef35309dec3607d4371c747197b435328
   "metadata": {},
   "outputs": [],
   "source": [
    "top_markers_df[top_markers,]"
   ]
  },
  {
   "cell_type": "markdown",
<<<<<<< HEAD
<<<<<<< HEAD
   "id": "65bc6e1e",
||||||| ff06ad40
   "id": "039c2e97",
=======
   "id": "c4de743c",
>>>>>>> documentation-devel
||||||| 1158767b
   "id": "65bc6e1e",
=======
   "id": "662da17c",
>>>>>>> 6e0f6d6ef35309dec3607d4371c747197b435328
   "metadata": {
    "lines_to_next_cell": 0
   },
   "source": [
    "There is no significant marker gene for cluster 7. These plots are shown in sequence"
   ]
  },
  {
   "cell_type": "code",
   "execution_count": null,
<<<<<<< HEAD
<<<<<<< HEAD
   "id": "24e6aa8d",
||||||| ff06ad40
   "id": "b096b86d",
=======
   "id": "20265384",
>>>>>>> documentation-devel
||||||| 1158767b
   "id": "24e6aa8d",
=======
   "id": "7b22ea70",
>>>>>>> 6e0f6d6ef35309dec3607d4371c747197b435328
   "metadata": {},
   "outputs": [],
   "source": [
    "plts <- lapply(top_markers, moranPlot, sfe = sfe, color_by = \"cluster\", \n",
    "               swap_rownames = \"Symbol\")"
   ]
  },
  {
   "cell_type": "code",
   "execution_count": null,
<<<<<<< HEAD
<<<<<<< HEAD
   "id": "b3b22dc6",
||||||| ff06ad40
   "id": "f9c3e848",
=======
   "id": "dda00bae",
>>>>>>> documentation-devel
||||||| 1158767b
   "id": "b3b22dc6",
=======
   "id": "5461a062",
>>>>>>> 6e0f6d6ef35309dec3607d4371c747197b435328
   "metadata": {
    "fig.height": 9,
    "fig.width": 9
   },
   "outputs": [],
   "source": [
    "wrap_plots(plts, widths = 1, heights = 1) +\n",
    "    plot_layout(ncol = 3, guides = \"collect\") +\n",
    "    plot_annotation(tag_levels = \"1\")"
   ]
  },
  {
   "cell_type": "markdown",
<<<<<<< HEAD
<<<<<<< HEAD
   "id": "23161abf",
||||||| ff06ad40
   "id": "5e19d6ed",
=======
   "id": "b2629fe3",
>>>>>>> documentation-devel
||||||| 1158767b
   "id": "23161abf",
=======
   "id": "bea929f4",
>>>>>>> 6e0f6d6ef35309dec3607d4371c747197b435328
   "metadata": {
    "lines_to_next_cell": 0
   },
   "source": [
    "For some genes, the points are so concentrated around the origin that there aren't \"enough\" points elsewhere to plot the density contours. But for the cells that do express these genes, there are clusters on this plot. Some genes are not expressed in many cells, but those cells have neighbors that do express the gene, hence the vertical streak at x = 0. \n",
    "\n",
    "In this tutorial, we applied univariate spatial statistics to the k nearest neighbor graph in the gene expression PCA space rather than the histological space. Just like in histological space, it would be impractical to examine all these statistics gene by gene, so multivariate analyses that incorporate the k nearest neighbor graph may be interesting.\n",
    "\n",
    "# Session info"
   ]
  },
  {
   "cell_type": "code",
   "execution_count": null,
<<<<<<< HEAD
<<<<<<< HEAD
   "id": "ae92098d",
||||||| ff06ad40
   "id": "8a188aa0",
=======
   "id": "63f17b2f",
>>>>>>> documentation-devel
||||||| 1158767b
   "id": "ae92098d",
=======
   "id": "e10e535c",
>>>>>>> 6e0f6d6ef35309dec3607d4371c747197b435328
   "metadata": {
    "lines_to_next_cell": 0
   },
   "outputs": [],
   "source": [
    "sessionInfo()"
   ]
  },
  {
   "cell_type": "markdown",
<<<<<<< HEAD
<<<<<<< HEAD
   "id": "0efbdd92",
||||||| ff06ad40
   "id": "90ef51a7",
=======
   "id": "aa56fa32",
>>>>>>> documentation-devel
||||||| 1158767b
   "id": "0efbdd92",
=======
   "id": "c63f6414",
>>>>>>> 6e0f6d6ef35309dec3607d4371c747197b435328
   "metadata": {},
   "source": []
  }
 ],
 "metadata": {
  "kernelspec": {
   "display_name": "R",
   "language": "R",
   "name": "ir"
  }
 },
 "nbformat": 4,
 "nbformat_minor": 5
}
