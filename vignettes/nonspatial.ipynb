{
 "cells": [
  {
   "cell_type": "raw",
<<<<<<< HEAD
<<<<<<< HEAD
<<<<<<< HEAD
<<<<<<< HEAD
   "id": "f207bc92",
||||||| merged common ancestors
   "id": "9cc2254b",
=======
   "id": "1eec569e",
>>>>>>> documentation-devel
||||||| f5a2d7c
   "id": "1eec569e",
=======
   "id": "57c08ce4",
>>>>>>> documentation-devel
||||||| de7e30d
   "id": "f207bc92",
=======
   "id": "f4caa671",
>>>>>>> 03b044928c05aca10f627eea0665560c78e150c1
||||||| 1f675c8
   "id": "57c08ce4",
=======
   "id": "a4f1d676",
>>>>>>> documentation-devel
   "metadata": {},
   "source": [
    "---\n",
    "title: \"Apply spatial analyses to non-spatial scRNA-seq data\"\n",
    "author: \"Lambda Moses\"\n",
    "date: \"`r Sys.Date()`\"\n",
    "output: \n",
    "  html_document:\n",
    "  toc: true\n",
    "  toc_float:\n",
    "    collapsed: false\n",
    "  toc_depth: 3\n",
    "bibliography: ref.bib\n",
    "vignette: >\n",
    "  %\\VignetteIndexEntry{nonspatial}\n",
    "  %\\VignetteEngine{knitr::rmarkdown}\n",
    "  %\\VignetteEncoding{UTF-8}\n",
    "---"
   ]
  },
  {
   "cell_type": "code",
   "execution_count": null,
<<<<<<< HEAD
<<<<<<< HEAD
<<<<<<< HEAD
<<<<<<< HEAD
   "id": "38189ff8",
||||||| merged common ancestors
   "id": "8f215aac",
=======
   "id": "bd361916",
>>>>>>> documentation-devel
||||||| f5a2d7c
   "id": "bd361916",
=======
   "id": "766591f4",
>>>>>>> documentation-devel
||||||| de7e30d
   "id": "38189ff8",
=======
   "id": "ffa702b7",
>>>>>>> 03b044928c05aca10f627eea0665560c78e150c1
||||||| 1f675c8
   "id": "766591f4",
=======
   "id": "0e3ef4fb",
>>>>>>> documentation-devel
   "metadata": {
    "tags": [
     "remove_cell"
    ]
   },
   "outputs": [],
   "source": [
    "knitr::opts_chunk$set(\n",
    "  collapse = TRUE,\n",
    "  comment = \"#>\"\n",
    ")"
   ]
  },
  {
   "cell_type": "code",
   "execution_count": null,
<<<<<<< HEAD
<<<<<<< HEAD
<<<<<<< HEAD
<<<<<<< HEAD
   "id": "caa2f538",
||||||| merged common ancestors
   "id": "f6100d8e",
=======
   "id": "84e631f1",
>>>>>>> documentation-devel
||||||| f5a2d7c
   "id": "84e631f1",
=======
   "id": "44649daf",
>>>>>>> documentation-devel
||||||| de7e30d
   "id": "caa2f538",
=======
   "id": "2cef8b05",
>>>>>>> 03b044928c05aca10f627eea0665560c78e150c1
||||||| 1f675c8
   "id": "44649daf",
=======
   "id": "8a8b8486",
>>>>>>> documentation-devel
   "metadata": {
    "eval": false,
    "tags": [
     "remove_cell"
    ]
   },
   "outputs": [],
   "source": [
    "# Install Google Colab dependencies\n",
    "# Note: this can take 30+ minutes (many of the dependencies include C++ code, which needs to be compiled)\n",
    "\n",
    "# First install `sf`, `ragg` and `textshaping` and their system dependencies:\n",
    "system(\"apt-get -y update && apt-get install -y  libudunits2-dev libgdal-dev libgeos-dev libproj-dev libharfbuzz-dev libfribidi-dev\")\n",
    "install.packages(\"sf\")\n",
    "install.packages(\"textshaping\")\n",
    "install.packages(\"ragg\")\n",
    "\n",
    "# Install system dependencies of some other R packages that Voyager either imports or suggests:\n",
    "system(\"apt-get install -y libfribidi-dev libcairo2-dev libmagick++-dev\")\n",
    "\n",
    "# Install Voyager from Bioconductor:\n",
    "install.packages(\"BiocManager\")\n",
    "BiocManager::install(version = \"3.17\", ask = FALSE, update = FALSE, Ncpus = 2)\n",
    "BiocManager::install(\"scater\")\n",
    "system.time(\n",
    "  BiocManager::install(\"Voyager\", dependencies = TRUE, Ncpus = 2, update = FALSE)\n",
    ")\n",
    "\n",
    "# Additional dependencies for this notebook\n",
    "install.packages(\"reticulate\")\n",
    "\n",
    "packageVersion(\"Voyager\")"
   ]
  },
  {
   "cell_type": "markdown",
<<<<<<< HEAD
<<<<<<< HEAD
<<<<<<< HEAD
<<<<<<< HEAD
   "id": "dd45b51a",
||||||| merged common ancestors
   "id": "4ca127fa",
=======
   "id": "4c88b73f",
>>>>>>> documentation-devel
||||||| f5a2d7c
   "id": "4c88b73f",
=======
   "id": "3948f717",
>>>>>>> documentation-devel
||||||| de7e30d
   "id": "dd45b51a",
=======
   "id": "3daa0f68",
>>>>>>> 03b044928c05aca10f627eea0665560c78e150c1
||||||| 1f675c8
   "id": "3948f717",
=======
   "id": "dd9a67bd",
>>>>>>> documentation-devel
   "metadata": {
    "lines_to_next_cell": 0
   },
   "source": [
    "# Introduction\n",
    "\n",
    "For areal spatial data, the spatial neighborhood graph is used to indicate proximity, and is required for all spatial analysis methods in the package `spdep`. One of the methods to find the spatial neighborhood graph is k nearest neighbors, which is also commonly used in gene expression PCA space for graph-based clustering of cells in non-spatial scRNA-seq data. Then what if we use the k nearest neighbors graph in PCA space rather than histological space for \"spatial\" analyses for non-spatial scRNA-seq data?\n",
    "\n",
    "Here we try such an analysis on a human peripheral blood mononuclear cells (PBMC) scRNA-seq dataset, which doesn't originally have histological spatial organization. These are the packages loaded for the analysis:"
   ]
  },
  {
   "cell_type": "code",
   "execution_count": null,
<<<<<<< HEAD
<<<<<<< HEAD
<<<<<<< HEAD
<<<<<<< HEAD
   "id": "85ca0821",
||||||| merged common ancestors
   "id": "4d7f6f32",
=======
   "id": "e422dc47",
>>>>>>> documentation-devel
||||||| f5a2d7c
   "id": "e422dc47",
=======
   "id": "ac2997c1",
>>>>>>> documentation-devel
||||||| de7e30d
   "id": "85ca0821",
=======
   "id": "35c4002c",
>>>>>>> 03b044928c05aca10f627eea0665560c78e150c1
||||||| 1f675c8
   "id": "ac2997c1",
=======
   "id": "b6efdadd",
>>>>>>> documentation-devel
   "metadata": {
    "name": "setup"
   },
   "outputs": [],
   "source": [
    "library(Voyager)\n",
    "library(SpatialFeatureExperiment)\n",
    "library(SpatialExperiment)\n",
    "library(DropletUtils)\n",
    "library(BiocNeighbors)\n",
    "library(scater)\n",
    "library(scran)\n",
    "library(bluster)\n",
    "library(BiocParallel)\n",
    "library(scuttle)\n",
    "library(stringr)\n",
    "library(BiocSingular)\n",
    "library(spdep)\n",
    "library(patchwork)\n",
    "library(dplyr)\n",
    "library(reticulate)\n",
    "theme_set(theme_bw())"
   ]
  },
  {
   "cell_type": "code",
   "execution_count": null,
<<<<<<< HEAD
<<<<<<< HEAD
<<<<<<< HEAD
<<<<<<< HEAD
   "id": "6b1155e9",
||||||| merged common ancestors
   "id": "453c79a5",
=======
   "id": "3d4c990f",
>>>>>>> documentation-devel
||||||| f5a2d7c
   "id": "3d4c990f",
=======
   "id": "0aba727b",
>>>>>>> documentation-devel
||||||| de7e30d
   "id": "6b1155e9",
=======
   "id": "63e0b3dd",
>>>>>>> 03b044928c05aca10f627eea0665560c78e150c1
||||||| 1f675c8
   "id": "0aba727b",
=======
   "id": "1f1a0442",
>>>>>>> documentation-devel
   "metadata": {},
   "outputs": [],
   "source": [
    "# Specify Python version to use gget\n",
    "PY_PATH <- Sys.which(\"python\")\n",
    "use_python(PY_PATH)\n",
    "py_config()\n",
    "\n",
    "# Install and load gget\n",
    "system(\"pip3 install gget\")\n",
    "gget <- import(\"gget\")"
   ]
  },
  {
   "cell_type": "markdown",
<<<<<<< HEAD
<<<<<<< HEAD
<<<<<<< HEAD
<<<<<<< HEAD
   "id": "c7996ed2",
||||||| merged common ancestors
   "id": "30cc6337",
=======
   "id": "a20fbb40",
>>>>>>> documentation-devel
||||||| f5a2d7c
   "id": "a20fbb40",
=======
   "id": "9a4f8f38",
>>>>>>> documentation-devel
||||||| de7e30d
   "id": "c7996ed2",
=======
   "id": "dd285370",
>>>>>>> 03b044928c05aca10f627eea0665560c78e150c1
||||||| 1f675c8
   "id": "9a4f8f38",
=======
   "id": "43e90eda",
>>>>>>> documentation-devel
   "metadata": {},
   "source": [
    "Here we download the filtered [Cell Ranger gene count matrix from the 10X website](https://support.10xgenomics.com/single-cell-gene-expression/datasets/3.0.2/5k_pbmc_v3_nextgem?). The empty droplets have already been removed."
   ]
  },
  {
   "cell_type": "code",
   "execution_count": null,
<<<<<<< HEAD
<<<<<<< HEAD
<<<<<<< HEAD
<<<<<<< HEAD
   "id": "6be9b0d7",
||||||| merged common ancestors
   "id": "ca0cfd8a",
=======
   "id": "782c74f0",
>>>>>>> documentation-devel
||||||| f5a2d7c
   "id": "782c74f0",
=======
   "id": "4fb8975a",
>>>>>>> documentation-devel
||||||| de7e30d
   "id": "6be9b0d7",
=======
   "id": "3e68b9d6",
>>>>>>> 03b044928c05aca10f627eea0665560c78e150c1
||||||| 1f675c8
   "id": "4fb8975a",
=======
   "id": "9d34aeb0",
>>>>>>> documentation-devel
   "metadata": {},
   "outputs": [],
   "source": [
    "if (!dir.exists(\"filtered_feature_bc_matrix\")) {\n",
    "    download.file(\"https://cf.10xgenomics.com/samples/cell-exp/3.0.2/5k_pbmc_v3_nextgem/5k_pbmc_v3_nextgem_filtered_feature_bc_matrix.tar.gz\", destfile = \"5kpbmc.tar.gz\", quiet = TRUE)\n",
    "    system(\"tar -xzf 5kpbmc.tar.gz\")\n",
    "}"
   ]
  },
  {
   "cell_type": "markdown",
<<<<<<< HEAD
<<<<<<< HEAD
<<<<<<< HEAD
<<<<<<< HEAD
   "id": "b80316ed",
||||||| merged common ancestors
   "id": "7a7f8c00",
=======
   "id": "0f82896d",
>>>>>>> documentation-devel
||||||| f5a2d7c
   "id": "0f82896d",
=======
   "id": "c558d70a",
>>>>>>> documentation-devel
||||||| de7e30d
   "id": "b80316ed",
=======
   "id": "1932b370",
>>>>>>> 03b044928c05aca10f627eea0665560c78e150c1
||||||| 1f675c8
   "id": "c558d70a",
=======
   "id": "ada40869",
>>>>>>> documentation-devel
   "metadata": {
    "lines_to_next_cell": 0
   },
   "source": [
    "This is loaded into R as a `SingleCellExperiment` (SCE) object."
   ]
  },
  {
   "cell_type": "code",
   "execution_count": null,
<<<<<<< HEAD
<<<<<<< HEAD
<<<<<<< HEAD
<<<<<<< HEAD
   "id": "0ee81d87",
||||||| merged common ancestors
   "id": "213a24d2",
=======
   "id": "8e1b7f57",
>>>>>>> documentation-devel
||||||| f5a2d7c
   "id": "8e1b7f57",
=======
   "id": "2e51c89e",
>>>>>>> documentation-devel
||||||| de7e30d
   "id": "0ee81d87",
=======
   "id": "abb385c3",
>>>>>>> 03b044928c05aca10f627eea0665560c78e150c1
||||||| 1f675c8
   "id": "2e51c89e",
=======
   "id": "fedfc8f4",
>>>>>>> documentation-devel
   "metadata": {},
   "outputs": [],
   "source": [
    "(sce <- read10xCounts(\"filtered_feature_bc_matrix/\"))"
   ]
  },
  {
   "cell_type": "code",
   "execution_count": null,
<<<<<<< HEAD
<<<<<<< HEAD
<<<<<<< HEAD
<<<<<<< HEAD
   "id": "525efeca",
||||||| merged common ancestors
   "id": "2e1b9876",
=======
   "id": "79dc20b5",
>>>>>>> documentation-devel
||||||| f5a2d7c
   "id": "79dc20b5",
=======
   "id": "c525d5dd",
>>>>>>> documentation-devel
||||||| de7e30d
   "id": "525efeca",
=======
   "id": "9c8c485e",
>>>>>>> 03b044928c05aca10f627eea0665560c78e150c1
||||||| 1f675c8
   "id": "c525d5dd",
=======
   "id": "dcabac55",
>>>>>>> documentation-devel
   "metadata": {},
   "outputs": [],
   "source": [
    "colnames(sce) <- sce$Barcode"
   ]
  },
  {
   "cell_type": "markdown",
<<<<<<< HEAD
<<<<<<< HEAD
<<<<<<< HEAD
<<<<<<< HEAD
   "id": "01e990a8",
||||||| merged common ancestors
   "id": "9d6dde30",
=======
   "id": "c65309b4",
>>>>>>> documentation-devel
||||||| f5a2d7c
   "id": "c65309b4",
=======
   "id": "c15eaad8",
>>>>>>> documentation-devel
||||||| de7e30d
   "id": "01e990a8",
=======
   "id": "f8e1d981",
>>>>>>> 03b044928c05aca10f627eea0665560c78e150c1
||||||| 1f675c8
   "id": "c15eaad8",
=======
   "id": "99c9b90e",
>>>>>>> documentation-devel
   "metadata": {
    "lines_to_next_cell": 0
   },
   "source": [
    "# Quality control (QC)\n",
    "Here we perform some basic QC, to remove low quality cells with high proportion of mitochondrially encoded counts. "
   ]
  },
  {
   "cell_type": "code",
   "execution_count": null,
<<<<<<< HEAD
<<<<<<< HEAD
<<<<<<< HEAD
<<<<<<< HEAD
   "id": "b45d009f",
||||||| merged common ancestors
   "id": "156946fd",
=======
   "id": "2e0440db",
>>>>>>> documentation-devel
||||||| f5a2d7c
   "id": "2e0440db",
=======
   "id": "3244af24",
>>>>>>> documentation-devel
||||||| de7e30d
   "id": "b45d009f",
=======
   "id": "aceef1e8",
>>>>>>> 03b044928c05aca10f627eea0665560c78e150c1
||||||| 1f675c8
   "id": "3244af24",
=======
   "id": "0b383111",
>>>>>>> documentation-devel
   "metadata": {},
   "outputs": [],
   "source": [
    "is_mito <- str_detect(rowData(sce)$Symbol, \"^MT-\")\n",
    "sum(is_mito)"
   ]
  },
  {
   "cell_type": "code",
   "execution_count": null,
<<<<<<< HEAD
<<<<<<< HEAD
<<<<<<< HEAD
<<<<<<< HEAD
   "id": "2523a1c4",
||||||| merged common ancestors
   "id": "c469a850",
=======
   "id": "6b5b95f5",
>>>>>>> documentation-devel
||||||| f5a2d7c
   "id": "6b5b95f5",
=======
   "id": "ce79a061",
>>>>>>> documentation-devel
||||||| de7e30d
   "id": "2523a1c4",
=======
   "id": "a10d6070",
>>>>>>> 03b044928c05aca10f627eea0665560c78e150c1
||||||| 1f675c8
   "id": "ce79a061",
=======
   "id": "58a85be5",
>>>>>>> documentation-devel
   "metadata": {},
   "outputs": [],
   "source": [
    "sce <- addPerCellQCMetrics(sce, subsets = list(mito = is_mito))\n",
    "names(colData(sce))"
   ]
  },
  {
   "cell_type": "markdown",
<<<<<<< HEAD
<<<<<<< HEAD
<<<<<<< HEAD
<<<<<<< HEAD
   "id": "bbca655d",
||||||| merged common ancestors
   "id": "9f18b1c4",
=======
   "id": "2cacc781",
>>>>>>> documentation-devel
||||||| f5a2d7c
   "id": "2cacc781",
=======
   "id": "0f3a6e0f",
>>>>>>> documentation-devel
||||||| de7e30d
   "id": "bbca655d",
=======
   "id": "c55b7c73",
>>>>>>> 03b044928c05aca10f627eea0665560c78e150c1
||||||| 1f675c8
   "id": "0f3a6e0f",
=======
   "id": "a57402b1",
>>>>>>> documentation-devel
   "metadata": {},
   "source": [
    "The `addPerCellQCMetrics()` function computes the total UMI counts detected per cell (`sum`), number of genes detected per cell (`detected`), `sum` and `detected` for mitochondrial counts, and percentage of mitochondrial counts per cell."
   ]
  },
  {
   "cell_type": "code",
   "execution_count": null,
<<<<<<< HEAD
<<<<<<< HEAD
<<<<<<< HEAD
<<<<<<< HEAD
   "id": "0cb47527",
||||||| merged common ancestors
   "id": "1f1ff80c",
=======
   "id": "7fc6f27a",
>>>>>>> documentation-devel
||||||| f5a2d7c
   "id": "7fc6f27a",
=======
   "id": "323637d0",
>>>>>>> documentation-devel
||||||| de7e30d
   "id": "0cb47527",
=======
   "id": "a4021efb",
>>>>>>> 03b044928c05aca10f627eea0665560c78e150c1
||||||| 1f675c8
   "id": "323637d0",
=======
   "id": "c69458e7",
>>>>>>> documentation-devel
   "metadata": {},
   "outputs": [],
   "source": [
    "plotColData(sce, \"sum\") +\n",
    "    plotColData(sce, \"detected\") +\n",
    "    plotColData(sce, \"subsets_mito_percent\")"
   ]
  },
  {
   "cell_type": "markdown",
<<<<<<< HEAD
<<<<<<< HEAD
<<<<<<< HEAD
<<<<<<< HEAD
   "id": "2ba0037f",
||||||| merged common ancestors
   "id": "732725c2",
=======
   "id": "d7ecca13",
>>>>>>> documentation-devel
||||||| f5a2d7c
   "id": "d7ecca13",
=======
   "id": "697ac6d1",
>>>>>>> documentation-devel
||||||| de7e30d
   "id": "2ba0037f",
=======
   "id": "15a5ba50",
>>>>>>> 03b044928c05aca10f627eea0665560c78e150c1
||||||| 1f675c8
   "id": "697ac6d1",
=======
   "id": "b1b70adf",
>>>>>>> documentation-devel
   "metadata": {
    "lines_to_next_cell": 0
   },
   "source": [
    "Here a 2D histogram is plotted to better show point density on the plot."
   ]
  },
  {
   "cell_type": "code",
   "execution_count": null,
<<<<<<< HEAD
<<<<<<< HEAD
<<<<<<< HEAD
<<<<<<< HEAD
   "id": "24270c2e",
||||||| merged common ancestors
   "id": "ad33e787",
=======
   "id": "a5b2f1b8",
>>>>>>> documentation-devel
||||||| f5a2d7c
   "id": "a5b2f1b8",
=======
   "id": "2f9b891b",
>>>>>>> documentation-devel
||||||| de7e30d
   "id": "24270c2e",
=======
   "id": "62add65a",
>>>>>>> 03b044928c05aca10f627eea0665560c78e150c1
||||||| 1f675c8
   "id": "2f9b891b",
=======
   "id": "905b9602",
>>>>>>> documentation-devel
   "metadata": {},
   "outputs": [],
   "source": [
    "plotColDataBin2D(sce, x = \"sum\", y = \"detected\")"
   ]
  },
  {
   "cell_type": "code",
   "execution_count": null,
<<<<<<< HEAD
<<<<<<< HEAD
<<<<<<< HEAD
<<<<<<< HEAD
   "id": "b41cd02a",
||||||| merged common ancestors
   "id": "087f4c96",
=======
   "id": "cd9a001d",
>>>>>>> documentation-devel
||||||| f5a2d7c
   "id": "cd9a001d",
=======
   "id": "5141bdf0",
>>>>>>> documentation-devel
||||||| de7e30d
   "id": "b41cd02a",
=======
   "id": "076590bb",
>>>>>>> 03b044928c05aca10f627eea0665560c78e150c1
||||||| 1f675c8
   "id": "5141bdf0",
=======
   "id": "22f46341",
>>>>>>> documentation-devel
   "metadata": {},
   "outputs": [],
   "source": [
    "plotColDataBin2D(sce, x = \"sum\", y = \"subsets_mito_percent\")"
   ]
  },
  {
   "cell_type": "markdown",
<<<<<<< HEAD
<<<<<<< HEAD
<<<<<<< HEAD
<<<<<<< HEAD
   "id": "17727201",
||||||| merged common ancestors
   "id": "c1c875f6",
=======
   "id": "e72cc41d",
>>>>>>> documentation-devel
||||||| f5a2d7c
   "id": "e72cc41d",
=======
   "id": "e9c26e16",
>>>>>>> documentation-devel
||||||| de7e30d
   "id": "17727201",
=======
   "id": "bab4ba31",
>>>>>>> 03b044928c05aca10f627eea0665560c78e150c1
||||||| 1f675c8
   "id": "e9c26e16",
=======
   "id": "1b9298c6",
>>>>>>> documentation-devel
   "metadata": {
    "lines_to_next_cell": 0
   },
   "source": [
    "Remove cells with >20% mitochondrial counts"
   ]
  },
  {
   "cell_type": "code",
   "execution_count": null,
<<<<<<< HEAD
<<<<<<< HEAD
<<<<<<< HEAD
<<<<<<< HEAD
   "id": "cf34ea62",
||||||| merged common ancestors
   "id": "ae5b56de",
=======
   "id": "16b9fdd0",
>>>>>>> documentation-devel
||||||| f5a2d7c
   "id": "16b9fdd0",
=======
   "id": "67c3e4ac",
>>>>>>> documentation-devel
||||||| de7e30d
   "id": "cf34ea62",
=======
   "id": "f21badb3",
>>>>>>> 03b044928c05aca10f627eea0665560c78e150c1
||||||| 1f675c8
   "id": "67c3e4ac",
=======
   "id": "b3c0aa1b",
>>>>>>> documentation-devel
   "metadata": {},
   "outputs": [],
   "source": [
    "sce <- sce[, sce$subsets_mito_percent < 20]\n",
    "sce <- sce[rowSums(counts(sce)) > 0,]"
   ]
  },
  {
   "cell_type": "markdown",
<<<<<<< HEAD
<<<<<<< HEAD
<<<<<<< HEAD
<<<<<<< HEAD
   "id": "a402e8c1",
||||||| merged common ancestors
   "id": "d96cf76a",
=======
   "id": "a634e3c4",
>>>>>>> documentation-devel
||||||| f5a2d7c
   "id": "a634e3c4",
=======
   "id": "e32d98cc",
>>>>>>> documentation-devel
||||||| de7e30d
   "id": "a402e8c1",
=======
   "id": "7a70720b",
>>>>>>> 03b044928c05aca10f627eea0665560c78e150c1
||||||| 1f675c8
   "id": "e32d98cc",
=======
   "id": "a85b8227",
>>>>>>> documentation-devel
   "metadata": {
    "lines_to_next_cell": 0
   },
   "source": [
    "# Basic non-spatial analyses\n",
    "Here we normalize the data, perform PCA, cluster the cells, and find marker genes for the clusters."
   ]
  },
  {
   "cell_type": "code",
   "execution_count": null,
<<<<<<< HEAD
<<<<<<< HEAD
<<<<<<< HEAD
<<<<<<< HEAD
   "id": "6852e58b",
||||||| merged common ancestors
   "id": "5203f885",
=======
   "id": "5d3f9b2f",
>>>>>>> documentation-devel
||||||| f5a2d7c
   "id": "5d3f9b2f",
=======
   "id": "65794201",
>>>>>>> documentation-devel
||||||| de7e30d
   "id": "6852e58b",
=======
   "id": "8cc1e014",
>>>>>>> 03b044928c05aca10f627eea0665560c78e150c1
||||||| 1f675c8
   "id": "65794201",
=======
   "id": "f3dc9104",
>>>>>>> documentation-devel
   "metadata": {},
   "outputs": [],
   "source": [
    "#clusts <- quickCluster(sce)\n",
    "#sce <- computeSumFactors(sce, cluster = clusts)\n",
    "#sce <- sce[, sizeFactors(sce) > 0]\n",
    "sce <- logNormCounts(sce)"
   ]
  },
  {
   "cell_type": "markdown",
<<<<<<< HEAD
<<<<<<< HEAD
<<<<<<< HEAD
<<<<<<< HEAD
   "id": "4c14d830",
||||||| merged common ancestors
   "id": "c18f5ca3",
=======
   "id": "1d085015",
>>>>>>> documentation-devel
||||||| f5a2d7c
   "id": "1d085015",
=======
   "id": "59e0deb1",
>>>>>>> documentation-devel
||||||| de7e30d
   "id": "4c14d830",
=======
   "id": "771e000e",
>>>>>>> 03b044928c05aca10f627eea0665560c78e150c1
||||||| 1f675c8
   "id": "59e0deb1",
=======
   "id": "46cb7708",
>>>>>>> documentation-devel
   "metadata": {
    "lines_to_next_cell": 0
   },
   "source": [
    "Use the highly variable genes for PCA:"
   ]
  },
  {
   "cell_type": "code",
   "execution_count": null,
<<<<<<< HEAD
<<<<<<< HEAD
<<<<<<< HEAD
<<<<<<< HEAD
   "id": "4090aea0",
||||||| merged common ancestors
   "id": "8724a51d",
=======
   "id": "d985df48",
>>>>>>> documentation-devel
||||||| f5a2d7c
   "id": "d985df48",
=======
   "id": "17c6c31a",
>>>>>>> documentation-devel
||||||| de7e30d
   "id": "4090aea0",
=======
   "id": "edde2d23",
>>>>>>> 03b044928c05aca10f627eea0665560c78e150c1
||||||| 1f675c8
   "id": "17c6c31a",
=======
   "id": "7d77278b",
>>>>>>> documentation-devel
   "metadata": {},
   "outputs": [],
   "source": [
    "dec <- modelGeneVar(sce, lowess = FALSE)\n",
    "hvgs <- getTopHVGs(dec, n = 2000)"
   ]
  },
  {
   "cell_type": "code",
   "execution_count": null,
<<<<<<< HEAD
<<<<<<< HEAD
<<<<<<< HEAD
<<<<<<< HEAD
   "id": "45036a59",
||||||| merged common ancestors
   "id": "90689287",
=======
   "id": "32d86c36",
>>>>>>> documentation-devel
||||||| f5a2d7c
   "id": "32d86c36",
=======
   "id": "da35d9f4",
>>>>>>> documentation-devel
||||||| de7e30d
   "id": "45036a59",
=======
   "id": "778d680f",
>>>>>>> 03b044928c05aca10f627eea0665560c78e150c1
||||||| 1f675c8
   "id": "da35d9f4",
=======
   "id": "79d4bef6",
>>>>>>> documentation-devel
   "metadata": {},
   "outputs": [],
   "source": [
    "set.seed(29)\n",
    "sce <- runPCA(sce, ncomponents = 30, BSPARAM = IrlbaParam(),\n",
    "              subset_row = hvgs, scale = TRUE)"
   ]
  },
  {
   "cell_type": "markdown",
<<<<<<< HEAD
<<<<<<< HEAD
<<<<<<< HEAD
<<<<<<< HEAD
   "id": "da2ea351",
||||||| merged common ancestors
   "id": "f2f9d55d",
=======
   "id": "dd68740a",
>>>>>>> documentation-devel
||||||| f5a2d7c
   "id": "dd68740a",
=======
   "id": "c3266acf",
>>>>>>> documentation-devel
||||||| de7e30d
   "id": "da2ea351",
=======
   "id": "d5bd91cb",
>>>>>>> 03b044928c05aca10f627eea0665560c78e150c1
||||||| 1f675c8
   "id": "c3266acf",
=======
   "id": "8f084976",
>>>>>>> documentation-devel
   "metadata": {
    "lines_to_next_cell": 0
   },
   "source": [
    "How many PCs shall we use for further analyses?"
   ]
  },
  {
   "cell_type": "code",
   "execution_count": null,
<<<<<<< HEAD
<<<<<<< HEAD
<<<<<<< HEAD
<<<<<<< HEAD
   "id": "e690c723",
||||||| merged common ancestors
   "id": "fa31ba67",
=======
   "id": "c73061ea",
>>>>>>> documentation-devel
||||||| f5a2d7c
   "id": "c73061ea",
=======
   "id": "0c6de625",
>>>>>>> documentation-devel
||||||| de7e30d
   "id": "e690c723",
=======
   "id": "b412421e",
>>>>>>> 03b044928c05aca10f627eea0665560c78e150c1
||||||| 1f675c8
   "id": "0c6de625",
=======
   "id": "d7b5274d",
>>>>>>> documentation-devel
   "metadata": {},
   "outputs": [],
   "source": [
    "ElbowPlot(sce, ndims = 30)"
   ]
  },
  {
   "cell_type": "markdown",
<<<<<<< HEAD
<<<<<<< HEAD
<<<<<<< HEAD
<<<<<<< HEAD
   "id": "d8e72772",
||||||| merged common ancestors
   "id": "3af72581",
=======
   "id": "0610235e",
>>>>>>> documentation-devel
||||||| f5a2d7c
   "id": "0610235e",
=======
   "id": "1c9603c9",
>>>>>>> documentation-devel
||||||| de7e30d
   "id": "d8e72772",
=======
   "id": "2e76ba6c",
>>>>>>> 03b044928c05aca10f627eea0665560c78e150c1
||||||| 1f675c8
   "id": "1c9603c9",
=======
   "id": "c71ea783",
>>>>>>> documentation-devel
   "metadata": {},
   "source": [
    "Variance explained drops sharply from PC1 and again from PC4 and then levels off. Plot genes with the largest loadings of the top 4 PCs:"
   ]
  },
  {
   "cell_type": "code",
   "execution_count": null,
<<<<<<< HEAD
<<<<<<< HEAD
<<<<<<< HEAD
<<<<<<< HEAD
   "id": "6df012b6",
||||||| merged common ancestors
   "id": "d0214cee",
=======
   "id": "55692124",
>>>>>>> documentation-devel
||||||| f5a2d7c
   "id": "55692124",
=======
   "id": "94250572",
>>>>>>> documentation-devel
||||||| de7e30d
   "id": "6df012b6",
=======
   "id": "0ff0345d",
>>>>>>> 03b044928c05aca10f627eea0665560c78e150c1
||||||| 1f675c8
   "id": "94250572",
=======
   "id": "110de59f",
>>>>>>> documentation-devel
   "metadata": {
    "lines_to_next_cell": 2
   },
   "outputs": [],
   "source": [
    "plotDimLoadings(sce, swap_rownames = \"Symbol\")"
   ]
  },
  {
   "cell_type": "markdown",
<<<<<<< HEAD
<<<<<<< HEAD
<<<<<<< HEAD
<<<<<<< HEAD
   "id": "d61fba18",
||||||| merged common ancestors
   "id": "720042e2",
=======
   "id": "5f78db95",
>>>>>>> documentation-devel
||||||| f5a2d7c
   "id": "5f78db95",
=======
   "id": "3cf7d5cc",
>>>>>>> documentation-devel
||||||| de7e30d
   "id": "d61fba18",
=======
   "id": "6b315dcc",
>>>>>>> 03b044928c05aca10f627eea0665560c78e150c1
||||||| 1f675c8
   "id": "3cf7d5cc",
=======
   "id": "6d364c4c",
>>>>>>> documentation-devel
   "metadata": {},
   "source": [
    "To keep a little more information, we use 10 PCs, after which variance explained levels off even more."
   ]
  },
  {
   "cell_type": "code",
   "execution_count": null,
<<<<<<< HEAD
<<<<<<< HEAD
<<<<<<< HEAD
<<<<<<< HEAD
   "id": "c079b248",
||||||| merged common ancestors
   "id": "cd082995",
=======
   "id": "836ea122",
>>>>>>> documentation-devel
||||||| f5a2d7c
   "id": "836ea122",
=======
   "id": "b3b76d33",
>>>>>>> documentation-devel
||||||| de7e30d
   "id": "c079b248",
=======
   "id": "f7f3d5da",
>>>>>>> 03b044928c05aca10f627eea0665560c78e150c1
||||||| 1f675c8
   "id": "b3b76d33",
=======
   "id": "06e5aa4a",
>>>>>>> documentation-devel
   "metadata": {},
   "outputs": [],
   "source": [
    "sce$cluster <- clusterRows(reducedDim(sce, \"PCA\")[,1:10],\n",
    "                           BLUSPARAM = SNNGraphParam(cluster.fun = \"leiden\",\n",
    "                                                     k = 10,\n",
    "                                                     cluster.args = list(\n",
    "                                                         resolution=0.5,\n",
    "                                                         objective_function = \"modularity\"\n",
    "                                                     )))"
   ]
  },
  {
   "cell_type": "markdown",
<<<<<<< HEAD
<<<<<<< HEAD
<<<<<<< HEAD
<<<<<<< HEAD
   "id": "c851300b",
||||||| merged common ancestors
   "id": "56725f6b",
=======
   "id": "d73f1dc5",
>>>>>>> documentation-devel
||||||| f5a2d7c
   "id": "d73f1dc5",
=======
   "id": "e58ea490",
>>>>>>> documentation-devel
||||||| de7e30d
   "id": "c851300b",
=======
   "id": "2b91439a",
>>>>>>> 03b044928c05aca10f627eea0665560c78e150c1
||||||| 1f675c8
   "id": "e58ea490",
=======
   "id": "19ae7c2a",
>>>>>>> documentation-devel
   "metadata": {},
   "source": [
    "Here we plot the cells in the first 4 PCs in a matrix plot. The diagonals are density plots of the number of cells as projected on each PC. The x axis should correspond to the columns of the matrix plot, and the y axis should correspond to the rows, so the plot in row 1 column 2 has PC2 in the x axis and PC1 in the y axis. The cells are colored by clusters found in the previous code chunk."
   ]
  },
  {
   "cell_type": "code",
   "execution_count": null,
<<<<<<< HEAD
<<<<<<< HEAD
<<<<<<< HEAD
<<<<<<< HEAD
   "id": "91ff0bee",
||||||| merged common ancestors
   "id": "78b3daf9",
=======
   "id": "e54e35cf",
>>>>>>> documentation-devel
||||||| f5a2d7c
   "id": "e54e35cf",
=======
   "id": "c6ecf8f0",
>>>>>>> documentation-devel
||||||| de7e30d
   "id": "91ff0bee",
=======
   "id": "0411b633",
>>>>>>> 03b044928c05aca10f627eea0665560c78e150c1
||||||| 1f675c8
   "id": "c6ecf8f0",
=======
   "id": "7b2beb91",
>>>>>>> documentation-devel
   "metadata": {
    "fig.height": 9,
    "fig.width": 9
   },
   "outputs": [],
   "source": [
    "plotPCA(sce, ncomponents = 4, color_by = \"cluster\")"
   ]
  },
  {
   "cell_type": "markdown",
<<<<<<< HEAD
<<<<<<< HEAD
<<<<<<< HEAD
<<<<<<< HEAD
   "id": "8006e462",
||||||| merged common ancestors
   "id": "97bda66e",
=======
   "id": "4e1bddb2",
>>>>>>> documentation-devel
||||||| f5a2d7c
   "id": "4e1bddb2",
=======
   "id": "c0ed52df",
>>>>>>> documentation-devel
||||||| de7e30d
   "id": "8006e462",
=======
   "id": "29c61b5e",
>>>>>>> 03b044928c05aca10f627eea0665560c78e150c1
||||||| 1f675c8
   "id": "c0ed52df",
=======
   "id": "f4b9559f",
>>>>>>> documentation-devel
   "metadata": {
    "lines_to_next_cell": 0
   },
   "source": [
    "How many cells are there in each cluster?"
   ]
  },
  {
   "cell_type": "code",
   "execution_count": null,
<<<<<<< HEAD
<<<<<<< HEAD
<<<<<<< HEAD
<<<<<<< HEAD
   "id": "41cd9968",
||||||| merged common ancestors
   "id": "ab0c3821",
=======
   "id": "c2e36f7a",
>>>>>>> documentation-devel
||||||| f5a2d7c
   "id": "c2e36f7a",
=======
   "id": "3bfee0a4",
>>>>>>> documentation-devel
||||||| de7e30d
   "id": "41cd9968",
=======
   "id": "eec62281",
>>>>>>> 03b044928c05aca10f627eea0665560c78e150c1
||||||| 1f675c8
   "id": "3bfee0a4",
=======
   "id": "df306aaa",
>>>>>>> documentation-devel
   "metadata": {},
   "outputs": [],
   "source": [
    "table(sce$cluster)"
   ]
  },
  {
   "cell_type": "markdown",
<<<<<<< HEAD
<<<<<<< HEAD
<<<<<<< HEAD
<<<<<<< HEAD
   "id": "73b6cee3",
||||||| merged common ancestors
   "id": "044abdd4",
=======
   "id": "1dd253d6",
>>>>>>> documentation-devel
||||||| f5a2d7c
   "id": "1dd253d6",
=======
   "id": "99dfc235",
>>>>>>> documentation-devel
||||||| de7e30d
   "id": "73b6cee3",
=======
   "id": "ab108ba7",
>>>>>>> 03b044928c05aca10f627eea0665560c78e150c1
||||||| 1f675c8
   "id": "99dfc235",
=======
   "id": "89561b73",
>>>>>>> documentation-devel
   "metadata": {
    "lines_to_next_cell": 0
   },
   "source": [
    "Then we use the conventional Wilcoxon rank sum test to find marker genes for each cluster. The test compares each cluster to the rest of the cells, and only genes more highly expressed in the cluster compared to the other cells are considered. The result is a list of data frames, where each data frame corresponds to one cluster. Areas under the receiver operator curve (AUC), distinguishing each cluster vs. any other cluster, are also included. The closer to 1 the better, while 0.5 means no better than random guessing. The false discovery rate (FDR) column contains the Benjamini-Hochberg corrected p-values. Genes in these data frames are already sorted by p-values."
   ]
  },
  {
   "cell_type": "code",
   "execution_count": null,
<<<<<<< HEAD
<<<<<<< HEAD
<<<<<<< HEAD
<<<<<<< HEAD
   "id": "fac4ab6f",
||||||| merged common ancestors
   "id": "57214007",
=======
   "id": "5291f710",
>>>>>>> documentation-devel
||||||| f5a2d7c
   "id": "5291f710",
=======
   "id": "b275c68b",
>>>>>>> documentation-devel
||||||| de7e30d
   "id": "fac4ab6f",
=======
   "id": "01998580",
>>>>>>> 03b044928c05aca10f627eea0665560c78e150c1
||||||| 1f675c8
   "id": "b275c68b",
=======
   "id": "d9660aea",
>>>>>>> documentation-devel
   "metadata": {
    "lines_to_next_cell": 2
   },
   "outputs": [],
   "source": [
    "markers <- findMarkers(sce, groups = colData(sce)$cluster,\n",
    "                       test.type = \"wilcox\", pval.type = \"all\", direction = \"up\")\n",
    "markers[[4]]"
   ]
  },
  {
   "cell_type": "markdown",
<<<<<<< HEAD
<<<<<<< HEAD
<<<<<<< HEAD
<<<<<<< HEAD
   "id": "e1c5ceae",
||||||| merged common ancestors
   "id": "d4e68687",
=======
   "id": "dca6c174",
>>>>>>> documentation-devel
||||||| f5a2d7c
   "id": "dca6c174",
=======
   "id": "7828bc53",
>>>>>>> documentation-devel
||||||| de7e30d
   "id": "e1c5ceae",
=======
   "id": "d08288b2",
>>>>>>> 03b044928c05aca10f627eea0665560c78e150c1
||||||| 1f675c8
   "id": "7828bc53",
=======
   "id": "bd749269",
>>>>>>> documentation-devel
   "metadata": {},
   "source": [
    "See how specific the top markers are to each cluster:"
   ]
  },
  {
   "cell_type": "code",
   "execution_count": null,
<<<<<<< HEAD
<<<<<<< HEAD
<<<<<<< HEAD
<<<<<<< HEAD
   "id": "b457b4a2",
||||||| merged common ancestors
   "id": "a222af45",
=======
   "id": "127bfb88",
>>>>>>> documentation-devel
||||||| f5a2d7c
   "id": "127bfb88",
=======
   "id": "56e51300",
>>>>>>> documentation-devel
||||||| de7e30d
   "id": "b457b4a2",
=======
   "id": "49d9a41a",
>>>>>>> 03b044928c05aca10f627eea0665560c78e150c1
||||||| 1f675c8
   "id": "56e51300",
=======
   "id": "8094dcd8",
>>>>>>> documentation-devel
   "metadata": {},
   "outputs": [],
   "source": [
    "top_markers <- unlist(lapply(markers, function(x) head(rownames(x), 1)))\n",
    "top_markers_symbol <- rowData(sce)[top_markers, \"Symbol\"]"
   ]
  },
  {
   "cell_type": "code",
   "execution_count": null,
<<<<<<< HEAD
<<<<<<< HEAD
<<<<<<< HEAD
<<<<<<< HEAD
   "id": "56157cd1",
||||||| merged common ancestors
   "id": "6a1c28e9",
=======
   "id": "6e74d650",
>>>>>>> documentation-devel
||||||| f5a2d7c
   "id": "6e74d650",
=======
   "id": "1910596a",
>>>>>>> documentation-devel
||||||| de7e30d
   "id": "56157cd1",
=======
   "id": "79fbc037",
>>>>>>> 03b044928c05aca10f627eea0665560c78e150c1
||||||| 1f675c8
   "id": "1910596a",
=======
   "id": "d4dbd472",
>>>>>>> documentation-devel
   "metadata": {},
   "outputs": [],
   "source": [
    "plotExpression(sce, top_markers_symbol, x = \"cluster\", swap_rownames = \"Symbol\",\n",
    "               point_fun = function(...) list())"
   ]
  },
  {
   "cell_type": "markdown",
<<<<<<< HEAD
<<<<<<< HEAD
<<<<<<< HEAD
<<<<<<< HEAD
   "id": "a1a6060c",
||||||| merged common ancestors
   "id": "aef408ad",
=======
   "id": "8aaf35a4",
>>>>>>> documentation-devel
||||||| f5a2d7c
   "id": "8aaf35a4",
=======
   "id": "3a7949cf",
>>>>>>> documentation-devel
||||||| de7e30d
   "id": "a1a6060c",
=======
   "id": "81dcf0dc",
>>>>>>> 03b044928c05aca10f627eea0665560c78e150c1
||||||| 1f675c8
   "id": "3a7949cf",
=======
   "id": "38521062",
>>>>>>> documentation-devel
   "metadata": {
    "lines_to_next_cell": 0
   },
   "source": [
    "We can use the [gget info](https://pachterlab.github.io/gget/info.html) module from the [gget](https://pachterlab.github.io/gget/) package to get additional information for these marker genes. For example, their [NCBI](https://www.ncbi.nlm.nih.gov/) description:"
   ]
  },
  {
   "cell_type": "code",
   "execution_count": null,
<<<<<<< HEAD
<<<<<<< HEAD
<<<<<<< HEAD
<<<<<<< HEAD
   "id": "ab3c89c5",
||||||| merged common ancestors
   "id": "8b72175b",
=======
   "id": "081655c2",
>>>>>>> documentation-devel
||||||| f5a2d7c
   "id": "081655c2",
=======
   "id": "1e9a3361",
>>>>>>> documentation-devel
||||||| de7e30d
   "id": "ab3c89c5",
=======
   "id": "2ae57f0e",
>>>>>>> 03b044928c05aca10f627eea0665560c78e150c1
||||||| 1f675c8
   "id": "1e9a3361",
=======
   "id": "2c523ee0",
>>>>>>> documentation-devel
   "metadata": {},
   "outputs": [],
   "source": [
    "gget_info <- gget$info(top_markers)\n",
    "\n",
    "rownames(gget_info) <- gget_info$ensembl_gene_name\n",
    "select(gget_info, ncbi_description)"
   ]
  },
  {
   "cell_type": "markdown",
<<<<<<< HEAD
<<<<<<< HEAD
<<<<<<< HEAD
<<<<<<< HEAD
   "id": "69dd8b0b",
||||||| merged common ancestors
   "id": "21434400",
=======
   "id": "6bd63e78",
>>>>>>> documentation-devel
||||||| f5a2d7c
   "id": "6bd63e78",
=======
   "id": "2e3e85ac",
>>>>>>> documentation-devel
||||||| de7e30d
   "id": "69dd8b0b",
=======
   "id": "2402bb8f",
>>>>>>> 03b044928c05aca10f627eea0665560c78e150c1
||||||| 1f675c8
   "id": "2e3e85ac",
=======
   "id": "f53c7563",
>>>>>>> documentation-devel
   "metadata": {
    "lines_to_next_cell": 0
   },
   "source": [
    "# \"Spatial\" analyses for QC metrics\n",
    "Find k nearest neighbor graph in PCA space for Moran's I: We are not using `spdep` here since its `nb2listwdist()` function for distance based edge weighting requires 2-3 dimensional spatial coordinates while the coordinates here have 10 dimensions. Here, inverse distance weighting is used for edge weights."
   ]
  },
  {
   "cell_type": "code",
   "execution_count": null,
<<<<<<< HEAD
<<<<<<< HEAD
<<<<<<< HEAD
<<<<<<< HEAD
   "id": "672bdd7f",
||||||| merged common ancestors
   "id": "a2226178",
=======
   "id": "f513869d",
>>>>>>> documentation-devel
||||||| f5a2d7c
   "id": "f513869d",
=======
   "id": "1cb55fde",
>>>>>>> documentation-devel
||||||| de7e30d
   "id": "672bdd7f",
=======
   "id": "42d82013",
>>>>>>> 03b044928c05aca10f627eea0665560c78e150c1
||||||| 1f675c8
   "id": "1cb55fde",
=======
   "id": "a812da77",
>>>>>>> documentation-devel
   "metadata": {},
   "outputs": [],
   "source": [
    "foo <- findKNN(reducedDim(sce, \"PCA\")[,1:10], k=10, BNPARAM=AnnoyParam())\n",
    "# Split by row\n",
    "foo_nb <- asplit(foo$index, 1)\n",
    "dmat <- 1/foo$distance\n",
    "# Row normalize the weights\n",
    "dmat <- sweep(dmat, 1, rowSums(dmat), FUN = \"/\")\n",
    "glist <- asplit(dmat, 1)\n",
    "# Sort based on index\n",
    "ord <- lapply(foo_nb, order)\n",
    "foo_nb <- lapply(seq_along(foo_nb), function(i) foo_nb[[i]][ord[[i]]])\n",
    "class(foo_nb) <- \"nb\"\n",
    "glist <- lapply(seq_along(glist), function(i) glist[[i]][ord[[i]]])\n",
    "\n",
    "listw <- list(style = \"W\",\n",
    "              neighbours = foo_nb,\n",
    "              weights = glist)\n",
    "class(listw) <- \"listw\"\n",
    "attr(listw, \"region.id\") <- colnames(sce)"
   ]
  },
  {
   "cell_type": "markdown",
<<<<<<< HEAD
<<<<<<< HEAD
<<<<<<< HEAD
<<<<<<< HEAD
   "id": "cf7c13c8",
||||||| merged common ancestors
   "id": "4f0cf643",
=======
   "id": "d283a413",
>>>>>>> documentation-devel
||||||| f5a2d7c
   "id": "d283a413",
=======
   "id": "4b4001d5",
>>>>>>> documentation-devel
||||||| de7e30d
   "id": "cf7c13c8",
=======
   "id": "1d367525",
>>>>>>> 03b044928c05aca10f627eea0665560c78e150c1
||||||| 1f675c8
   "id": "4b4001d5",
=======
   "id": "f056ddea",
>>>>>>> documentation-devel
   "metadata": {
    "lines_to_next_cell": 0
   },
   "source": [
    "Because there is no histological space, we convert the SCE object into `SpatialFeatureExperiment` (SFE) to use the spatial analysis and plotting functions from `Voyager`, and pretend that the first 2 PCs are the histological space."
   ]
  },
  {
   "cell_type": "code",
   "execution_count": null,
<<<<<<< HEAD
<<<<<<< HEAD
<<<<<<< HEAD
<<<<<<< HEAD
   "id": "5a52ae0b",
||||||| merged common ancestors
   "id": "40f51bcc",
=======
   "id": "6035b828",
>>>>>>> documentation-devel
||||||| f5a2d7c
   "id": "6035b828",
=======
   "id": "07be13a5",
>>>>>>> documentation-devel
||||||| de7e30d
   "id": "5a52ae0b",
=======
   "id": "5c33135e",
>>>>>>> 03b044928c05aca10f627eea0665560c78e150c1
||||||| 1f675c8
   "id": "07be13a5",
=======
   "id": "aa60ba72",
>>>>>>> documentation-devel
   "metadata": {},
   "outputs": [],
   "source": [
    "(sfe <- toSpatialFeatureExperiment(sce, spatialCoords = reducedDim(sce, \"PCA\")[,1:2],\n",
    "                                  spatialCoordsNames = NULL))"
   ]
  },
  {
   "cell_type": "markdown",
<<<<<<< HEAD
<<<<<<< HEAD
<<<<<<< HEAD
<<<<<<< HEAD
   "id": "899b2ed7",
||||||| merged common ancestors
   "id": "6f5ded9c",
=======
   "id": "d04d99da",
>>>>>>> documentation-devel
||||||| f5a2d7c
   "id": "d04d99da",
=======
   "id": "55175ce4",
>>>>>>> documentation-devel
||||||| de7e30d
   "id": "899b2ed7",
=======
   "id": "5cfb85bf",
>>>>>>> 03b044928c05aca10f627eea0665560c78e150c1
||||||| 1f675c8
   "id": "55175ce4",
=======
   "id": "2e44844f",
>>>>>>> documentation-devel
   "metadata": {
    "lines_to_next_cell": 0
   },
   "source": [
    "Add the k nearest neighbor graph to the SFE object:"
   ]
  },
  {
   "cell_type": "code",
   "execution_count": null,
<<<<<<< HEAD
<<<<<<< HEAD
<<<<<<< HEAD
<<<<<<< HEAD
   "id": "f390c37d",
||||||| merged common ancestors
   "id": "c1678c5c",
=======
   "id": "d505189d",
>>>>>>> documentation-devel
||||||| f5a2d7c
   "id": "d505189d",
=======
   "id": "6fb5d32b",
>>>>>>> documentation-devel
||||||| de7e30d
   "id": "f390c37d",
=======
   "id": "2ed7012d",
>>>>>>> 03b044928c05aca10f627eea0665560c78e150c1
||||||| 1f675c8
   "id": "6fb5d32b",
=======
   "id": "014be2ce",
>>>>>>> documentation-devel
   "metadata": {},
   "outputs": [],
   "source": [
    "colGraph(sfe, \"knn10\") <- listw"
   ]
  },
  {
   "cell_type": "markdown",
<<<<<<< HEAD
<<<<<<< HEAD
<<<<<<< HEAD
<<<<<<< HEAD
   "id": "5474ebdc",
||||||| merged common ancestors
   "id": "856e6532",
=======
   "id": "a324c516",
>>>>>>> documentation-devel
||||||| f5a2d7c
   "id": "a324c516",
=======
   "id": "dd2ffc87",
>>>>>>> documentation-devel
||||||| de7e30d
   "id": "5474ebdc",
=======
   "id": "89fe7e46",
>>>>>>> 03b044928c05aca10f627eea0665560c78e150c1
||||||| 1f675c8
   "id": "dd2ffc87",
=======
   "id": "3bf74d2f",
>>>>>>> documentation-devel
   "metadata": {
    "lines_to_next_cell": 0
   },
   "source": [
    "## Moran's I"
   ]
  },
  {
   "cell_type": "code",
   "execution_count": null,
<<<<<<< HEAD
<<<<<<< HEAD
<<<<<<< HEAD
<<<<<<< HEAD
   "id": "cc77a1b9",
||||||| merged common ancestors
   "id": "dbb49962",
=======
   "id": "5c0fc17c",
>>>>>>> documentation-devel
||||||| f5a2d7c
   "id": "5c0fc17c",
=======
   "id": "8c7c0174",
>>>>>>> documentation-devel
||||||| de7e30d
   "id": "cc77a1b9",
=======
   "id": "ff0213d4",
>>>>>>> 03b044928c05aca10f627eea0665560c78e150c1
||||||| 1f675c8
   "id": "8c7c0174",
=======
   "id": "2edd47c4",
>>>>>>> documentation-devel
   "metadata": {},
   "outputs": [],
   "source": [
    "sfe <- colDataMoransI(sfe, c(\"sum\", \"detected\", \"subsets_mito_percent\"))\n",
    "colFeatureData(sfe)[c(\"sum\", \"detected\", \"subsets_mito_percent\"),]"
   ]
  },
  {
   "cell_type": "markdown",
<<<<<<< HEAD
<<<<<<< HEAD
<<<<<<< HEAD
<<<<<<< HEAD
   "id": "c79a3030",
||||||| merged common ancestors
   "id": "bf4e2e69",
=======
   "id": "7b2324ea",
>>>>>>> documentation-devel
||||||| f5a2d7c
   "id": "7b2324ea",
=======
   "id": "c0e6397b",
>>>>>>> documentation-devel
||||||| de7e30d
   "id": "c79a3030",
=======
   "id": "5248bd93",
>>>>>>> 03b044928c05aca10f627eea0665560c78e150c1
||||||| 1f675c8
   "id": "c0e6397b",
=======
   "id": "bc36ad33",
>>>>>>> documentation-devel
   "metadata": {
    "lines_to_next_cell": 0
   },
   "source": [
    "For total UMI counts (sum) and genes detected (detected), Moran's I is quite strong, while it's positive but weaker for percentage of mitochondrial counts. The second column, K, is kurtosis of the feature of interest. \n",
    "\n",
    "## Moran plot\n",
    "\n",
    "How about the local variations on the k nearest neighbors graph? In the Moran plot, the x axis is the value for each cell, and the y axis is the average value among neighboring cells in the graph weighted by edge weights. The slope of the fitted line is Moran's I. Sometimes there are clusters in this plot, showing different kinds of neighborhoods."
   ]
  },
  {
   "cell_type": "code",
   "execution_count": null,
<<<<<<< HEAD
<<<<<<< HEAD
<<<<<<< HEAD
<<<<<<< HEAD
   "id": "d25a33c2",
||||||| merged common ancestors
   "id": "fb85584d",
=======
   "id": "5802af95",
>>>>>>> documentation-devel
||||||| f5a2d7c
   "id": "5802af95",
=======
   "id": "595e65ca",
>>>>>>> documentation-devel
||||||| de7e30d
   "id": "d25a33c2",
=======
   "id": "836571a4",
>>>>>>> 03b044928c05aca10f627eea0665560c78e150c1
||||||| 1f675c8
   "id": "595e65ca",
=======
   "id": "cfc62124",
>>>>>>> documentation-devel
   "metadata": {},
   "outputs": [],
   "source": [
    "sfe <- colDataUnivariate(sfe, \"moran.plot\", c(\"sum\", \"detected\", \"subsets_mito_percent\"))"
   ]
  },
  {
   "cell_type": "markdown",
<<<<<<< HEAD
<<<<<<< HEAD
<<<<<<< HEAD
<<<<<<< HEAD
   "id": "440c1aee",
||||||| merged common ancestors
   "id": "c375917b",
=======
   "id": "442dc66b",
>>>>>>> documentation-devel
||||||| f5a2d7c
   "id": "442dc66b",
=======
   "id": "dd1f14b4",
>>>>>>> documentation-devel
||||||| de7e30d
   "id": "440c1aee",
=======
   "id": "2add601d",
>>>>>>> 03b044928c05aca10f627eea0665560c78e150c1
||||||| 1f675c8
   "id": "dd1f14b4",
=======
   "id": "562902f0",
>>>>>>> documentation-devel
   "metadata": {
    "lines_to_next_cell": 0
   },
   "source": [
    "The dashed lines are the averages on the x and y axes."
   ]
  },
  {
   "cell_type": "code",
   "execution_count": null,
<<<<<<< HEAD
<<<<<<< HEAD
<<<<<<< HEAD
<<<<<<< HEAD
   "id": "73ce22a9",
||||||| merged common ancestors
   "id": "941385ff",
=======
   "id": "6cef979c",
>>>>>>> documentation-devel
||||||| f5a2d7c
   "id": "6cef979c",
=======
   "id": "66af1866",
>>>>>>> documentation-devel
||||||| de7e30d
   "id": "73ce22a9",
=======
   "id": "b1a4d1d9",
>>>>>>> 03b044928c05aca10f627eea0665560c78e150c1
||||||| 1f675c8
   "id": "66af1866",
=======
   "id": "6255fc5b",
>>>>>>> documentation-devel
   "metadata": {},
   "outputs": [],
   "source": [
    "moranPlot(sfe, \"sum\", color_by = \"cluster\")"
   ]
  },
  {
   "cell_type": "markdown",
<<<<<<< HEAD
<<<<<<< HEAD
<<<<<<< HEAD
<<<<<<< HEAD
   "id": "553bb08d",
||||||| merged common ancestors
   "id": "1e186aa4",
=======
   "id": "0ee8aff4",
>>>>>>> documentation-devel
||||||| f5a2d7c
   "id": "0ee8aff4",
=======
   "id": "bf49dcdf",
>>>>>>> documentation-devel
||||||| de7e30d
   "id": "553bb08d",
=======
   "id": "99741cb2",
>>>>>>> 03b044928c05aca10f627eea0665560c78e150c1
||||||| 1f675c8
   "id": "bf49dcdf",
=======
   "id": "bfd05780",
>>>>>>> documentation-devel
   "metadata": {
    "lines_to_next_cell": 0
   },
   "source": [
    "While most cells are in the cluster around the average, there is a cluster of cells with lower total counts whose neighbors also have lower total counts. There also is a cluster of cells with higher total counts whose neighbors also have higher total counts. These clusters seem to be somewhat related to some gene expression based clusters."
   ]
  },
  {
   "cell_type": "code",
   "execution_count": null,
<<<<<<< HEAD
<<<<<<< HEAD
<<<<<<< HEAD
<<<<<<< HEAD
   "id": "e0c5e1c1",
||||||| merged common ancestors
   "id": "fa887685",
=======
   "id": "8b362c0e",
>>>>>>> documentation-devel
||||||| f5a2d7c
   "id": "8b362c0e",
=======
   "id": "4e442254",
>>>>>>> documentation-devel
||||||| de7e30d
   "id": "e0c5e1c1",
=======
   "id": "e71ddbd7",
>>>>>>> 03b044928c05aca10f627eea0665560c78e150c1
||||||| 1f675c8
   "id": "4e442254",
=======
   "id": "1e354b10",
>>>>>>> documentation-devel
   "metadata": {},
   "outputs": [],
   "source": [
    "moranPlot(sfe, \"detected\", color_by = \"cluster\")"
   ]
  },
  {
   "cell_type": "code",
   "execution_count": null,
<<<<<<< HEAD
<<<<<<< HEAD
<<<<<<< HEAD
<<<<<<< HEAD
   "id": "92316e63",
||||||| merged common ancestors
   "id": "ab40e785",
=======
   "id": "3ee6d31a",
>>>>>>> documentation-devel
||||||| f5a2d7c
   "id": "3ee6d31a",
=======
   "id": "a483828f",
>>>>>>> documentation-devel
||||||| de7e30d
   "id": "92316e63",
=======
   "id": "a168bf7d",
>>>>>>> 03b044928c05aca10f627eea0665560c78e150c1
||||||| 1f675c8
   "id": "a483828f",
=======
   "id": "6ebe66eb",
>>>>>>> documentation-devel
   "metadata": {},
   "outputs": [],
   "source": [
    "moranPlot(sfe, \"subsets_mito_percent\", color_by = \"cluster\")"
   ]
  },
  {
   "cell_type": "markdown",
<<<<<<< HEAD
<<<<<<< HEAD
<<<<<<< HEAD
<<<<<<< HEAD
   "id": "3f58a609",
||||||| merged common ancestors
   "id": "208c07ec",
=======
   "id": "60889488",
>>>>>>> documentation-devel
||||||| f5a2d7c
   "id": "60889488",
=======
   "id": "69b641d4",
>>>>>>> documentation-devel
||||||| de7e30d
   "id": "3f58a609",
=======
   "id": "98a3eed9",
>>>>>>> 03b044928c05aca10f627eea0665560c78e150c1
||||||| 1f675c8
   "id": "69b641d4",
=======
   "id": "573d6f64",
>>>>>>> documentation-devel
   "metadata": {},
   "source": [
    "There is one main cluster on this plot for the number of genes detected and for the percentage of mitochondrial counts. However, cells are somewhat separated by gene expression clusters. This is not surprising because the gene expression clusters are also based on the k nearest neighbor graph. Cluster 4 cells have a higher percentage of mitochondrial counts and so do their neighbors. \n",
    "\n",
    "## Local Moran's I\n",
    "Also see local Moran's I for these 3 QC metrics:"
   ]
  },
  {
   "cell_type": "code",
   "execution_count": null,
<<<<<<< HEAD
<<<<<<< HEAD
<<<<<<< HEAD
<<<<<<< HEAD
   "id": "792aa94d",
||||||| merged common ancestors
   "id": "5a9cd4f1",
=======
   "id": "14f8c75d",
>>>>>>> documentation-devel
||||||| f5a2d7c
   "id": "14f8c75d",
=======
   "id": "648dd5b6",
>>>>>>> documentation-devel
||||||| de7e30d
   "id": "792aa94d",
=======
   "id": "75d29259",
>>>>>>> 03b044928c05aca10f627eea0665560c78e150c1
||||||| 1f675c8
   "id": "648dd5b6",
=======
   "id": "755ee2b7",
>>>>>>> documentation-devel
   "metadata": {},
   "outputs": [],
   "source": [
    "sfe <- colDataUnivariate(sfe, \"localmoran\", c(\"sum\", \"detected\", \"subsets_mito_percent\"))"
   ]
  },
  {
   "cell_type": "markdown",
<<<<<<< HEAD
<<<<<<< HEAD
<<<<<<< HEAD
<<<<<<< HEAD
   "id": "a7a6b5cc",
||||||| merged common ancestors
   "id": "2a601a6c",
=======
   "id": "46e53ac9",
>>>>>>> documentation-devel
||||||| f5a2d7c
   "id": "46e53ac9",
=======
   "id": "35df7490",
>>>>>>> documentation-devel
||||||| de7e30d
   "id": "a7a6b5cc",
=======
   "id": "8544c181",
>>>>>>> 03b044928c05aca10f627eea0665560c78e150c1
||||||| 1f675c8
   "id": "35df7490",
=======
   "id": "d643c4d9",
>>>>>>> documentation-devel
   "metadata": {
    "lines_to_next_cell": 0
   },
   "source": [
    "Here, we don't have a histological space. So how can we visualize the local \"spatial\" statistics? [UMAP is bad](https://www.biorxiv.org/content/10.1101/2021.08.25.457696v1), but in this case PCA can somewhat separate the clusters. We can use the first 2 PCs as if they are the histological space. As a reference, we plot the metrics themselves and the clusters in the first 2 PCs. "
   ]
  },
  {
   "cell_type": "code",
   "execution_count": null,
<<<<<<< HEAD
<<<<<<< HEAD
<<<<<<< HEAD
<<<<<<< HEAD
   "id": "5c9457b4",
||||||| merged common ancestors
   "id": "961260e7",
=======
   "id": "cda9563e",
>>>>>>> documentation-devel
||||||| f5a2d7c
   "id": "cda9563e",
=======
   "id": "ea8e0d10",
>>>>>>> documentation-devel
||||||| de7e30d
   "id": "5c9457b4",
=======
   "id": "848d18fa",
>>>>>>> 03b044928c05aca10f627eea0665560c78e150c1
||||||| 1f675c8
   "id": "ea8e0d10",
=======
   "id": "57371d86",
>>>>>>> documentation-devel
   "metadata": {
    "fig.height": 6,
    "fig.width": 8
   },
   "outputs": [],
   "source": [
    "plotSpatialFeature(sfe, c(\"sum\", \"detected\", \"subsets_mito_percent\", \"cluster\"))"
   ]
  },
  {
   "cell_type": "markdown",
<<<<<<< HEAD
<<<<<<< HEAD
<<<<<<< HEAD
<<<<<<< HEAD
   "id": "daea9808",
||||||| merged common ancestors
   "id": "3851bbf5",
=======
   "id": "fab879ad",
>>>>>>> documentation-devel
||||||| f5a2d7c
   "id": "fab879ad",
=======
   "id": "7ddf183b",
>>>>>>> documentation-devel
||||||| de7e30d
   "id": "daea9808",
=======
   "id": "33338977",
>>>>>>> 03b044928c05aca10f627eea0665560c78e150c1
||||||| 1f675c8
   "id": "7ddf183b",
=======
   "id": "88789497",
>>>>>>> documentation-devel
   "metadata": {
    "lines_to_next_cell": 0
   },
   "source": [
    "Plot the local Moran's I for these metrics in the first 2 PCs:"
   ]
  },
  {
   "cell_type": "code",
   "execution_count": null,
<<<<<<< HEAD
<<<<<<< HEAD
<<<<<<< HEAD
<<<<<<< HEAD
   "id": "05665832",
||||||| merged common ancestors
   "id": "00a9ed63",
=======
   "id": "87c0e6be",
>>>>>>> documentation-devel
||||||| f5a2d7c
   "id": "87c0e6be",
=======
   "id": "37a316f8",
>>>>>>> documentation-devel
||||||| de7e30d
   "id": "05665832",
=======
   "id": "ad3e02e1",
>>>>>>> 03b044928c05aca10f627eea0665560c78e150c1
||||||| 1f675c8
   "id": "37a316f8",
=======
   "id": "2cb1f6a1",
>>>>>>> documentation-devel
   "metadata": {
    "fig.height": 6,
    "fig.width": 8
   },
   "outputs": [],
   "source": [
    "plotLocalResult(sfe, \"localmoran\", c(\"sum\", \"detected\", \"subsets_mito_percent\"), \n",
    "                colGeometryName = \"centroids\",\n",
    "                divergent = TRUE, diverge_center = 0, ncol = 2)"
   ]
  },
  {
   "cell_type": "markdown",
<<<<<<< HEAD
<<<<<<< HEAD
<<<<<<< HEAD
<<<<<<< HEAD
   "id": "338ed54a",
||||||| merged common ancestors
   "id": "4585d778",
=======
   "id": "1c4bb01f",
>>>>>>> documentation-devel
||||||| f5a2d7c
   "id": "1c4bb01f",
=======
   "id": "7d1ec12d",
>>>>>>> documentation-devel
||||||| de7e30d
   "id": "338ed54a",
=======
   "id": "839ca79e",
>>>>>>> 03b044928c05aca10f627eea0665560c78e150c1
||||||| 1f675c8
   "id": "7d1ec12d",
=======
   "id": "eb6e21c5",
>>>>>>> documentation-devel
   "metadata": {
    "lines_to_next_cell": 0
   },
   "source": [
    "However, what if there is no good 2D representation of the data for easy plotting? Remember that here the k nearest neighbor graph was computed on the first 10 PCs rather than the first 2 PCs. The graph is not tied to the 2D representation. We can still plot histograms to show the distribution and scatter plots to compare the same local metric for different variables, which can be colored by another variable such as cluster. This may be added to the next release of Voyager. For now, we add the results of interest to `colData(sfe)` and use the existing `colData` plotting functions from `scater` and `Voyager`."
   ]
  },
  {
   "cell_type": "code",
   "execution_count": null,
<<<<<<< HEAD
<<<<<<< HEAD
<<<<<<< HEAD
<<<<<<< HEAD
   "id": "43ee4447",
||||||| merged common ancestors
   "id": "eb856308",
=======
   "id": "bce4574e",
>>>>>>> documentation-devel
||||||| f5a2d7c
   "id": "bce4574e",
=======
   "id": "59051584",
>>>>>>> documentation-devel
||||||| de7e30d
   "id": "43ee4447",
=======
   "id": "ecbbfaf2",
>>>>>>> 03b044928c05aca10f627eea0665560c78e150c1
||||||| 1f675c8
   "id": "59051584",
=======
   "id": "92685df2",
>>>>>>> documentation-devel
   "metadata": {},
   "outputs": [],
   "source": [
    "localResultAttrs(sfe, \"localmoran\", \"sum\")"
   ]
  },
  {
   "cell_type": "code",
   "execution_count": null,
<<<<<<< HEAD
<<<<<<< HEAD
<<<<<<< HEAD
<<<<<<< HEAD
   "id": "9a20a2d6",
||||||| merged common ancestors
   "id": "f61019c6",
=======
   "id": "9650b0da",
>>>>>>> documentation-devel
||||||| f5a2d7c
   "id": "9650b0da",
=======
   "id": "61f511aa",
>>>>>>> documentation-devel
||||||| de7e30d
   "id": "9a20a2d6",
=======
   "id": "77c26f1a",
>>>>>>> 03b044928c05aca10f627eea0665560c78e150c1
||||||| 1f675c8
   "id": "61f511aa",
=======
   "id": "b1dd182a",
>>>>>>> documentation-devel
   "metadata": {},
   "outputs": [],
   "source": [
    "sfe$sum_localmoran <- localResult(sfe, \"localmoran\", \"sum\")[,\"Ii\"]\n",
    "sfe$detected_localmoran <- localResult(sfe, \"localmoran\", \"detected\")[,\"Ii\"]\n",
    "sfe$pct_mito_localmoran <- localResult(sfe, \"localmoran\", \"subsets_mito_percent\")[,\"Ii\"]"
   ]
  },
  {
   "cell_type": "code",
   "execution_count": null,
<<<<<<< HEAD
<<<<<<< HEAD
<<<<<<< HEAD
<<<<<<< HEAD
   "id": "9c61a399",
||||||| merged common ancestors
   "id": "0896a2f2",
=======
   "id": "308646df",
>>>>>>> documentation-devel
||||||| f5a2d7c
   "id": "308646df",
=======
   "id": "ff52cd48",
>>>>>>> documentation-devel
||||||| de7e30d
   "id": "9c61a399",
=======
   "id": "8bd24045",
>>>>>>> 03b044928c05aca10f627eea0665560c78e150c1
||||||| 1f675c8
   "id": "ff52cd48",
=======
   "id": "14e60a96",
>>>>>>> documentation-devel
   "metadata": {},
   "outputs": [],
   "source": [
    "# Colorblind friendly palette\n",
    "data(\"ditto_colors\")"
   ]
  },
  {
   "cell_type": "code",
   "execution_count": null,
<<<<<<< HEAD
<<<<<<< HEAD
<<<<<<< HEAD
<<<<<<< HEAD
   "id": "9cbbc66b",
||||||| merged common ancestors
   "id": "6472fe01",
=======
   "id": "87a3686a",
>>>>>>> documentation-devel
||||||| f5a2d7c
   "id": "87a3686a",
=======
   "id": "388a2b3b",
>>>>>>> documentation-devel
||||||| de7e30d
   "id": "9cbbc66b",
=======
   "id": "a257ce8e",
>>>>>>> 03b044928c05aca10f627eea0665560c78e150c1
||||||| 1f675c8
   "id": "388a2b3b",
=======
   "id": "b4540d3d",
>>>>>>> documentation-devel
   "metadata": {},
   "outputs": [],
   "source": [
    "plotColDataFreqpoly(sfe, c(\"sum_localmoran\", \"detected_localmoran\", \n",
    "                           \"pct_mito_localmoran\"), bins = 50, \n",
    "                    color_by = \"cluster\") +\n",
    "    scale_y_log10() +\n",
    "    annotation_logticks(sides = \"l\")"
   ]
  },
  {
   "cell_type": "markdown",
<<<<<<< HEAD
<<<<<<< HEAD
<<<<<<< HEAD
<<<<<<< HEAD
   "id": "0ec2bf7e",
||||||| merged common ancestors
   "id": "979c7a43",
=======
   "id": "ee636510",
>>>>>>> documentation-devel
||||||| f5a2d7c
   "id": "ee636510",
=======
   "id": "b91ba5fd",
>>>>>>> documentation-devel
||||||| de7e30d
   "id": "0ec2bf7e",
=======
   "id": "8b1efd96",
>>>>>>> 03b044928c05aca10f627eea0665560c78e150c1
||||||| 1f675c8
   "id": "b91ba5fd",
=======
   "id": "f66e9f7b",
>>>>>>> documentation-devel
   "metadata": {},
   "source": [
    "The y axis is log transformed (hence that warning when some bins have no cells), so the color of cells in the long tail can be seen because most cells don't have very strong local Moran's I. Cells in cluster 7 have high local Moran's I in total UMI counts and genes detected, which means that they tend to be more homogeneous in these QC metrics.\n",
    "\n",
    "How do local Moran's I for these QC metrics relate to each other?"
   ]
  },
  {
   "cell_type": "code",
   "execution_count": null,
<<<<<<< HEAD
<<<<<<< HEAD
<<<<<<< HEAD
<<<<<<< HEAD
   "id": "12a9232f",
||||||| merged common ancestors
   "id": "7a2cf415",
=======
   "id": "87bf6497",
>>>>>>> documentation-devel
||||||| f5a2d7c
   "id": "87bf6497",
=======
   "id": "7182872e",
>>>>>>> documentation-devel
||||||| de7e30d
   "id": "12a9232f",
=======
   "id": "38baea93",
>>>>>>> 03b044928c05aca10f627eea0665560c78e150c1
||||||| 1f675c8
   "id": "7182872e",
=======
   "id": "dc3371ba",
>>>>>>> documentation-devel
   "metadata": {},
   "outputs": [],
   "source": [
    "plotColData(sfe, x = \"sum_localmoran\", y = \"detected_localmoran\", \n",
    "            color_by = \"cluster\") +\n",
    "    scale_color_manual(values = ditto_colors)"
   ]
  },
  {
   "cell_type": "markdown",
<<<<<<< HEAD
<<<<<<< HEAD
<<<<<<< HEAD
<<<<<<< HEAD
   "id": "8c3e2335",
||||||| merged common ancestors
   "id": "5a2ea2bb",
=======
   "id": "1bafe67e",
>>>>>>> documentation-devel
||||||| f5a2d7c
   "id": "1bafe67e",
=======
   "id": "2b51909a",
>>>>>>> documentation-devel
||||||| de7e30d
   "id": "8c3e2335",
=======
   "id": "97d1a7bc",
>>>>>>> 03b044928c05aca10f627eea0665560c78e150c1
||||||| 1f675c8
   "id": "2b51909a",
=======
   "id": "351e3ce6",
>>>>>>> documentation-devel
   "metadata": {},
   "source": [
    "Cells more locally homogeneous in total UMI counts are also more homogeneous in number of genes detected, which is not surprising given the correlation between the two."
   ]
  },
  {
   "cell_type": "code",
   "execution_count": null,
<<<<<<< HEAD
<<<<<<< HEAD
<<<<<<< HEAD
<<<<<<< HEAD
   "id": "602c7fcd",
||||||| merged common ancestors
   "id": "57008814",
=======
   "id": "6576bce0",
>>>>>>> documentation-devel
||||||| f5a2d7c
   "id": "6576bce0",
=======
   "id": "e3e6df54",
>>>>>>> documentation-devel
||||||| de7e30d
   "id": "602c7fcd",
=======
   "id": "f9e69743",
>>>>>>> 03b044928c05aca10f627eea0665560c78e150c1
||||||| 1f675c8
   "id": "e3e6df54",
=======
   "id": "e63bcc8f",
>>>>>>> documentation-devel
   "metadata": {},
   "outputs": [],
   "source": [
    "plotColData(sfe, x = \"sum_localmoran\", y = \"pct_mito_localmoran\", \n",
    "            color_by = \"cluster\") +\n",
    "    scale_color_manual(values = ditto_colors)"
   ]
  },
  {
   "cell_type": "markdown",
<<<<<<< HEAD
<<<<<<< HEAD
<<<<<<< HEAD
<<<<<<< HEAD
   "id": "a1b6b535",
||||||| merged common ancestors
   "id": "cca3c216",
=======
   "id": "13a9c88f",
>>>>>>> documentation-devel
||||||| f5a2d7c
   "id": "13a9c88f",
=======
   "id": "1a3aea27",
>>>>>>> documentation-devel
||||||| de7e30d
   "id": "a1b6b535",
=======
   "id": "4fcd021c",
>>>>>>> 03b044928c05aca10f627eea0665560c78e150c1
||||||| 1f675c8
   "id": "1a3aea27",
=======
   "id": "c31ac0c2",
>>>>>>> documentation-devel
   "metadata": {
    "lines_to_next_cell": 0
   },
   "source": [
    "For local Moran's I, `sum` vs percentage mitochondrial counts shows a more interesting pattern, highlighting clusters 4 and 7 as in the Moran plots.\n",
    "\n",
    "How does local Moran's I relate to the value itself?"
   ]
  },
  {
   "cell_type": "code",
   "execution_count": null,
<<<<<<< HEAD
<<<<<<< HEAD
<<<<<<< HEAD
<<<<<<< HEAD
   "id": "945a24df",
||||||| merged common ancestors
   "id": "e8bcee0f",
=======
   "id": "fba80116",
>>>>>>> documentation-devel
||||||| f5a2d7c
   "id": "fba80116",
=======
   "id": "0a68ac55",
>>>>>>> documentation-devel
||||||| de7e30d
   "id": "945a24df",
=======
   "id": "113003d9",
>>>>>>> 03b044928c05aca10f627eea0665560c78e150c1
||||||| 1f675c8
   "id": "0a68ac55",
=======
   "id": "f1d1f597",
>>>>>>> documentation-devel
   "metadata": {},
   "outputs": [],
   "source": [
    "plotColData(sfe, x = \"sum\", y = \"sum_localmoran\", color_by = \"cluster\") +\n",
    "    geom_density2d(data = as.data.frame(colData(sfe)),\n",
    "                   mapping = aes(x = sum, y = sum_localmoran), color = \"blue\", \n",
    "                   linewidth = 0.3) +\n",
    "    scale_color_manual(values = ditto_colors)"
   ]
  },
  {
   "cell_type": "markdown",
<<<<<<< HEAD
<<<<<<< HEAD
<<<<<<< HEAD
<<<<<<< HEAD
   "id": "dea782d4",
||||||| merged common ancestors
   "id": "50c3215f",
=======
   "id": "506d7024",
>>>>>>> documentation-devel
||||||| f5a2d7c
   "id": "506d7024",
=======
   "id": "ec54d4be",
>>>>>>> documentation-devel
||||||| de7e30d
   "id": "dea782d4",
=======
   "id": "0929e427",
>>>>>>> 03b044928c05aca10f627eea0665560c78e150c1
||||||| 1f675c8
   "id": "ec54d4be",
=======
   "id": "3c4418dc",
>>>>>>> documentation-devel
   "metadata": {
    "lines_to_next_cell": 0
   },
   "source": [
    "In this case, generally cells with higher total counts also tend to have higher local Moran's I in total counts. However, there is another wing where cells with lower total counts have slightly higher local Moran's I in total counts and there's a central value of total counts with near 0 local Moran's I. The density contour shows that cells are concentrated at that central value.\n",
    "\n",
    "## Local spatial heteroscedasticity (LOSH)\n",
    "\n",
    "LOSH indicates heterogeneity around each cell in the k nearest neighbor graph."
   ]
  },
  {
   "cell_type": "code",
   "execution_count": null,
<<<<<<< HEAD
<<<<<<< HEAD
<<<<<<< HEAD
<<<<<<< HEAD
   "id": "80904f18",
||||||| merged common ancestors
   "id": "9c21463d",
=======
   "id": "30b2b5a0",
>>>>>>> documentation-devel
||||||| f5a2d7c
   "id": "30b2b5a0",
=======
   "id": "2776be50",
>>>>>>> documentation-devel
||||||| de7e30d
   "id": "80904f18",
=======
   "id": "604fae40",
>>>>>>> 03b044928c05aca10f627eea0665560c78e150c1
||||||| 1f675c8
   "id": "2776be50",
=======
   "id": "f1733d6a",
>>>>>>> documentation-devel
   "metadata": {},
   "outputs": [],
   "source": [
    "sfe <- colDataUnivariate(sfe, \"LOSH\", c(\"sum\", \"detected\", \"subsets_mito_percent\"))"
   ]
  },
  {
   "cell_type": "code",
   "execution_count": null,
<<<<<<< HEAD
<<<<<<< HEAD
<<<<<<< HEAD
<<<<<<< HEAD
   "id": "9f9e4387",
||||||| merged common ancestors
   "id": "19fb9b7b",
=======
   "id": "053c4a3f",
>>>>>>> documentation-devel
||||||| f5a2d7c
   "id": "053c4a3f",
=======
   "id": "f9065be9",
>>>>>>> documentation-devel
||||||| de7e30d
   "id": "9f9e4387",
=======
   "id": "ec1801f4",
>>>>>>> 03b044928c05aca10f627eea0665560c78e150c1
||||||| 1f675c8
   "id": "f9065be9",
=======
   "id": "cb4f4649",
>>>>>>> documentation-devel
   "metadata": {
    "fig.height": 6,
    "fig.width": 8
   },
   "outputs": [],
   "source": [
    "plotLocalResult(sfe, \"LOSH\", c(\"sum\", \"detected\", \"subsets_mito_percent\"), \n",
    "                colGeometryName = \"centroids\", ncol = 2)"
   ]
  },
  {
   "cell_type": "markdown",
<<<<<<< HEAD
<<<<<<< HEAD
<<<<<<< HEAD
<<<<<<< HEAD
   "id": "ad167a47",
||||||| merged common ancestors
   "id": "87439dfb",
=======
   "id": "500de839",
>>>>>>> documentation-devel
||||||| f5a2d7c
   "id": "500de839",
=======
   "id": "19d4bdaf",
>>>>>>> documentation-devel
||||||| de7e30d
   "id": "ad167a47",
=======
   "id": "5385cea2",
>>>>>>> 03b044928c05aca10f627eea0665560c78e150c1
||||||| 1f675c8
   "id": "19d4bdaf",
=======
   "id": "35abf4ad",
>>>>>>> documentation-devel
   "metadata": {},
   "source": [
    "Here we make the same non-spatial plots for LOSH as in local Moran's I."
   ]
  },
  {
   "cell_type": "code",
   "execution_count": null,
<<<<<<< HEAD
<<<<<<< HEAD
<<<<<<< HEAD
<<<<<<< HEAD
   "id": "d237633b",
||||||| merged common ancestors
   "id": "31b057f9",
=======
   "id": "80b7fd25",
>>>>>>> documentation-devel
||||||| f5a2d7c
   "id": "80b7fd25",
=======
   "id": "b6dd31fc",
>>>>>>> documentation-devel
||||||| de7e30d
   "id": "d237633b",
=======
   "id": "d92f2c84",
>>>>>>> 03b044928c05aca10f627eea0665560c78e150c1
||||||| 1f675c8
   "id": "b6dd31fc",
=======
   "id": "316aad14",
>>>>>>> documentation-devel
   "metadata": {},
   "outputs": [],
   "source": [
    "localResultAttrs(sfe, \"LOSH\", \"sum\")"
   ]
  },
  {
   "cell_type": "code",
   "execution_count": null,
<<<<<<< HEAD
<<<<<<< HEAD
<<<<<<< HEAD
<<<<<<< HEAD
   "id": "ea12c85f",
||||||| merged common ancestors
   "id": "107e509d",
=======
   "id": "8cf3c910",
>>>>>>> documentation-devel
||||||| f5a2d7c
   "id": "8cf3c910",
=======
   "id": "8a82e8cb",
>>>>>>> documentation-devel
||||||| de7e30d
   "id": "ea12c85f",
=======
   "id": "34d79475",
>>>>>>> 03b044928c05aca10f627eea0665560c78e150c1
||||||| 1f675c8
   "id": "8a82e8cb",
=======
   "id": "9dd76021",
>>>>>>> documentation-devel
   "metadata": {},
   "outputs": [],
   "source": [
    "sfe$sum_losh <- localResult(sfe, \"LOSH\", \"sum\")[,\"Hi\"]\n",
    "sfe$detected_losh <- localResult(sfe, \"LOSH\", \"detected\")[,\"Hi\"]\n",
    "sfe$pct_mito_losh <- localResult(sfe, \"LOSH\", \"subsets_mito_percent\")[,\"Hi\"]"
   ]
  },
  {
   "cell_type": "code",
   "execution_count": null,
<<<<<<< HEAD
<<<<<<< HEAD
<<<<<<< HEAD
<<<<<<< HEAD
   "id": "3a5b3a1b",
||||||| merged common ancestors
   "id": "46ef7afe",
=======
   "id": "75859384",
>>>>>>> documentation-devel
||||||| f5a2d7c
   "id": "75859384",
=======
   "id": "1f1724ae",
>>>>>>> documentation-devel
||||||| de7e30d
   "id": "3a5b3a1b",
=======
   "id": "5f3b892f",
>>>>>>> 03b044928c05aca10f627eea0665560c78e150c1
||||||| 1f675c8
   "id": "1f1724ae",
=======
   "id": "5ac4b87a",
>>>>>>> documentation-devel
   "metadata": {},
   "outputs": [],
   "source": [
    "plotColDataFreqpoly(sfe, c(\"sum_losh\", \"detected_losh\", \n",
    "                           \"pct_mito_losh\"), bins = 50, \n",
    "                     color_by = \"cluster\") +\n",
    "    scale_y_log10() +\n",
    "    annotation_logticks(sides = \"l\")"
   ]
  },
  {
   "cell_type": "markdown",
<<<<<<< HEAD
<<<<<<< HEAD
<<<<<<< HEAD
<<<<<<< HEAD
   "id": "30a4cca5",
||||||| merged common ancestors
   "id": "08fc008b",
=======
   "id": "13a31c04",
>>>>>>> documentation-devel
||||||| f5a2d7c
   "id": "13a31c04",
=======
   "id": "80962787",
>>>>>>> documentation-devel
||||||| de7e30d
   "id": "30a4cca5",
=======
   "id": "dd85cfcc",
>>>>>>> 03b044928c05aca10f627eea0665560c78e150c1
||||||| 1f675c8
   "id": "80962787",
=======
   "id": "4c5f5d77",
>>>>>>> documentation-devel
   "metadata": {},
   "source": [
    "Here, clusters 2 and 6 tend to be more locally heterogeneous. How do total counts and genes detected relate in LOSH?"
   ]
  },
  {
   "cell_type": "code",
   "execution_count": null,
<<<<<<< HEAD
<<<<<<< HEAD
<<<<<<< HEAD
<<<<<<< HEAD
   "id": "af679c8b",
||||||| merged common ancestors
   "id": "7855fcb5",
=======
   "id": "1c4f8889",
>>>>>>> documentation-devel
||||||| f5a2d7c
   "id": "1c4f8889",
=======
   "id": "8e585dcf",
>>>>>>> documentation-devel
||||||| de7e30d
   "id": "af679c8b",
=======
   "id": "554f1e42",
>>>>>>> 03b044928c05aca10f627eea0665560c78e150c1
||||||| 1f675c8
   "id": "8e585dcf",
=======
   "id": "609cd301",
>>>>>>> documentation-devel
   "metadata": {},
   "outputs": [],
   "source": [
    "plotColData(sfe, x = \"sum_losh\", y = \"detected_losh\", color_by = \"cluster\") +\n",
    "    scale_color_manual(values = ditto_colors)"
   ]
  },
  {
   "cell_type": "markdown",
<<<<<<< HEAD
<<<<<<< HEAD
<<<<<<< HEAD
<<<<<<< HEAD
   "id": "cff8ca66",
||||||| merged common ancestors
   "id": "7844f228",
=======
   "id": "e948f092",
>>>>>>> documentation-devel
||||||| f5a2d7c
   "id": "e948f092",
=======
   "id": "9f622298",
>>>>>>> documentation-devel
||||||| de7e30d
   "id": "cff8ca66",
=======
   "id": "fb1432d7",
>>>>>>> 03b044928c05aca10f627eea0665560c78e150c1
||||||| 1f675c8
   "id": "9f622298",
=======
   "id": "187e67e2",
>>>>>>> documentation-devel
   "metadata": {},
   "source": [
    "While generally cells higher in LOSH in total counts are also higher in LOSH in genes detected, there are some outliers that are very high in both, with more heterogeneous neighborhoods. Absolute distance to the neighbors is not taken into account when the adjacency matrix is row normalized. It would be interesting to see if those outliers tend to be further away from their 10 nearest neighbors, or in a region in the PCA space where cells are further apart.\n",
    "\n",
    "How does total counts itself relate to its LOSH?"
   ]
  },
  {
   "cell_type": "code",
   "execution_count": null,
<<<<<<< HEAD
<<<<<<< HEAD
<<<<<<< HEAD
<<<<<<< HEAD
   "id": "5b94dbd4",
||||||| merged common ancestors
   "id": "731dd076",
=======
   "id": "922e5a44",
>>>>>>> documentation-devel
||||||| f5a2d7c
   "id": "922e5a44",
=======
   "id": "8b160372",
>>>>>>> documentation-devel
||||||| de7e30d
   "id": "5b94dbd4",
=======
   "id": "ae25af56",
>>>>>>> 03b044928c05aca10f627eea0665560c78e150c1
||||||| 1f675c8
   "id": "8b160372",
=======
   "id": "4e7c05cd",
>>>>>>> documentation-devel
   "metadata": {},
   "outputs": [],
   "source": [
    "plotColData(sfe, x = \"sum\", y = \"sum_losh\", color_by = \"cluster\") +\n",
    "    scale_color_manual(values = ditto_colors)"
   ]
  },
  {
   "cell_type": "markdown",
<<<<<<< HEAD
<<<<<<< HEAD
<<<<<<< HEAD
<<<<<<< HEAD
   "id": "003e620b",
||||||| merged common ancestors
   "id": "5c76b641",
=======
   "id": "b0ce9a5d",
>>>>>>> documentation-devel
||||||| f5a2d7c
   "id": "b0ce9a5d",
=======
   "id": "4af35822",
>>>>>>> documentation-devel
||||||| de7e30d
   "id": "003e620b",
=======
   "id": "27b0a915",
>>>>>>> 03b044928c05aca10f627eea0665560c78e150c1
||||||| 1f675c8
   "id": "4af35822",
=======
   "id": "16afc55e",
>>>>>>> documentation-devel
   "metadata": {
    "lines_to_next_cell": 0
   },
   "source": [
    "There does not seem to be a clear relationship in this case. \n",
    "\n",
    "# \"Spatial\" analyses for gene expression\n",
    "First, we need to reorganize the differential expression results:"
   ]
  },
  {
   "cell_type": "code",
   "execution_count": null,
<<<<<<< HEAD
<<<<<<< HEAD
<<<<<<< HEAD
<<<<<<< HEAD
   "id": "1e7e1e41",
||||||| merged common ancestors
   "id": "190997cc",
=======
   "id": "a3027b6f",
>>>>>>> documentation-devel
||||||| f5a2d7c
   "id": "a3027b6f",
=======
   "id": "c4922246",
>>>>>>> documentation-devel
||||||| de7e30d
   "id": "1e7e1e41",
=======
   "id": "0a65e691",
>>>>>>> 03b044928c05aca10f627eea0665560c78e150c1
||||||| 1f675c8
   "id": "c4922246",
=======
   "id": "b6ece7fc",
>>>>>>> documentation-devel
   "metadata": {},
   "outputs": [],
   "source": [
    "top_markers_df <- lapply(seq_along(markers), function(i) {\n",
    "    out <- markers[[i]][markers[[i]]$FDR < 0.05, c(\"FDR\", \"summary.AUC\")]\n",
    "    if (nrow(out)) out$cluster <- i\n",
    "    out\n",
    "})\n",
    "top_markers_df <- do.call(rbind, top_markers_df)\n",
    "top_markers_df$symbol <- rowData(sce)[rownames(top_markers_df), \"Symbol\"]"
   ]
  },
  {
   "cell_type": "markdown",
<<<<<<< HEAD
<<<<<<< HEAD
<<<<<<< HEAD
<<<<<<< HEAD
   "id": "b4d6f3a2",
||||||| merged common ancestors
   "id": "8081a9bd",
=======
   "id": "8a45dc68",
>>>>>>> documentation-devel
||||||| f5a2d7c
   "id": "8a45dc68",
=======
   "id": "2a5ceed0",
>>>>>>> documentation-devel
||||||| de7e30d
   "id": "b4d6f3a2",
=======
   "id": "a8964718",
>>>>>>> 03b044928c05aca10f627eea0665560c78e150c1
||||||| 1f675c8
   "id": "2a5ceed0",
=======
   "id": "7e6ba5cd",
>>>>>>> documentation-devel
   "metadata": {
    "lines_to_next_cell": 0
   },
   "source": [
    "## Moran's I"
   ]
  },
  {
   "cell_type": "code",
   "execution_count": null,
<<<<<<< HEAD
<<<<<<< HEAD
<<<<<<< HEAD
<<<<<<< HEAD
   "id": "b7810ee6",
||||||| merged common ancestors
   "id": "b1761a82",
=======
   "id": "1377058d",
>>>>>>> documentation-devel
||||||| f5a2d7c
   "id": "1377058d",
=======
   "id": "983d1f95",
>>>>>>> documentation-devel
||||||| de7e30d
   "id": "b7810ee6",
=======
   "id": "9df36130",
>>>>>>> 03b044928c05aca10f627eea0665560c78e150c1
||||||| 1f675c8
   "id": "983d1f95",
=======
   "id": "f7f0572a",
>>>>>>> documentation-devel
   "metadata": {},
   "outputs": [],
   "source": [
    "sfe <- runMoransI(sfe, features = hvgs, BPPARAM = MulticoreParam(2))"
   ]
  },
  {
   "cell_type": "markdown",
<<<<<<< HEAD
<<<<<<< HEAD
<<<<<<< HEAD
<<<<<<< HEAD
   "id": "0efe766e",
||||||| merged common ancestors
   "id": "2770e1e8",
=======
   "id": "c3aa23e1",
>>>>>>> documentation-devel
||||||| f5a2d7c
   "id": "c3aa23e1",
=======
   "id": "2f01dbe6",
>>>>>>> documentation-devel
||||||| de7e30d
   "id": "0efe766e",
=======
   "id": "629a3d6c",
>>>>>>> 03b044928c05aca10f627eea0665560c78e150c1
||||||| 1f675c8
   "id": "2f01dbe6",
=======
   "id": "10e8e486",
>>>>>>> documentation-devel
   "metadata": {
    "lines_to_next_cell": 0
   },
   "source": [
    "The results are added to `rowData(sfe)`. The NA's are for non-highly variable genes, as Moran's I was only computed for highly variable genes here."
   ]
  },
  {
   "cell_type": "code",
   "execution_count": null,
<<<<<<< HEAD
<<<<<<< HEAD
<<<<<<< HEAD
<<<<<<< HEAD
   "id": "748d6598",
||||||| merged common ancestors
   "id": "601027e1",
=======
   "id": "d8084cf3",
>>>>>>> documentation-devel
||||||| f5a2d7c
   "id": "d8084cf3",
=======
   "id": "923bcc3f",
>>>>>>> documentation-devel
||||||| de7e30d
   "id": "748d6598",
=======
   "id": "10967ebb",
>>>>>>> 03b044928c05aca10f627eea0665560c78e150c1
||||||| 1f675c8
   "id": "923bcc3f",
=======
   "id": "c8c50bed",
>>>>>>> documentation-devel
   "metadata": {},
   "outputs": [],
   "source": [
    "rowData(sfe)"
   ]
  },
  {
   "cell_type": "markdown",
<<<<<<< HEAD
<<<<<<< HEAD
<<<<<<< HEAD
<<<<<<< HEAD
   "id": "653a0bc1",
||||||| merged common ancestors
   "id": "0194c8c4",
=======
   "id": "d708506e",
>>>>>>> documentation-devel
||||||| f5a2d7c
   "id": "d708506e",
=======
   "id": "4bdefba0",
>>>>>>> documentation-devel
||||||| de7e30d
   "id": "653a0bc1",
=======
   "id": "234a3f80",
>>>>>>> 03b044928c05aca10f627eea0665560c78e150c1
||||||| 1f675c8
   "id": "4bdefba0",
=======
   "id": "aa98d1a8",
>>>>>>> documentation-devel
   "metadata": {
    "lines_to_next_cell": 0
   },
   "source": [
    "How are the Moran's I's for highly variable genes distributed? Also, where are the top cluster marker genes in this distribution?"
   ]
  },
  {
   "cell_type": "code",
   "execution_count": null,
<<<<<<< HEAD
<<<<<<< HEAD
<<<<<<< HEAD
<<<<<<< HEAD
   "id": "1328f37c",
||||||| merged common ancestors
   "id": "c076dddd",
=======
   "id": "ba7afe40",
>>>>>>> documentation-devel
||||||| f5a2d7c
   "id": "ba7afe40",
=======
   "id": "44876247",
>>>>>>> documentation-devel
||||||| de7e30d
   "id": "1328f37c",
=======
   "id": "fcaf388e",
>>>>>>> 03b044928c05aca10f627eea0665560c78e150c1
||||||| 1f675c8
   "id": "44876247",
=======
   "id": "8aba8ad3",
>>>>>>> documentation-devel
   "metadata": {},
   "outputs": [],
   "source": [
    "plotRowDataHistogram(sfe, \"moran_sample01\", bins = 50) +\n",
    "    geom_vline(data = as.data.frame(rowData(sfe)[top_markers,]) |> \n",
    "                   mutate(index = seq_along(top_markers)),\n",
    "               aes(xintercept = moran_sample01, color = index)) +\n",
    "    scale_color_continuous(breaks = scales::breaks_width(2))"
   ]
  },
  {
   "cell_type": "markdown",
<<<<<<< HEAD
<<<<<<< HEAD
<<<<<<< HEAD
<<<<<<< HEAD
   "id": "7bc58021",
||||||| merged common ancestors
   "id": "a1c8ac4e",
=======
   "id": "510df3ea",
>>>>>>> documentation-devel
||||||| f5a2d7c
   "id": "510df3ea",
=======
   "id": "33bb4267",
>>>>>>> documentation-devel
||||||| de7e30d
   "id": "7bc58021",
=======
   "id": "1a874ffa",
>>>>>>> 03b044928c05aca10f627eea0665560c78e150c1
||||||| 1f675c8
   "id": "33bb4267",
=======
   "id": "0586fb6b",
>>>>>>> documentation-devel
   "metadata": {},
   "source": [
    "The top marker genes all have quite positive Moran's I on the k nearest neighbor graph. It would also be interesting to color this histogram by gene sets. Since the k nearest neighbor graph was found in PCA space, which is based on gene expression, as expected, Moran's I with this graph is mostly positive, although often not that strong. A small number of genes have slightly negative Moran's I. What do the top genes look like in PCA?"
   ]
  },
  {
   "cell_type": "code",
   "execution_count": null,
<<<<<<< HEAD
<<<<<<< HEAD
<<<<<<< HEAD
<<<<<<< HEAD
   "id": "4c573006",
||||||| merged common ancestors
   "id": "9908d66c",
=======
   "id": "9329fd04",
>>>>>>> documentation-devel
||||||| f5a2d7c
   "id": "9329fd04",
=======
   "id": "8f56e662",
>>>>>>> documentation-devel
||||||| de7e30d
   "id": "4c573006",
=======
   "id": "f4d8dd64",
>>>>>>> 03b044928c05aca10f627eea0665560c78e150c1
||||||| 1f675c8
   "id": "8f56e662",
=======
   "id": "82e61f1e",
>>>>>>> documentation-devel
   "metadata": {
    "fig.height": 6,
    "fig.width": 8
   },
   "outputs": [],
   "source": [
    "top_moran <- head(rownames(sfe)[order(rowData(sfe)$moran_sample01, decreasing = TRUE)], 4)\n",
    "plotSpatialFeature(sfe, top_moran, ncol = 2)"
   ]
  },
  {
   "cell_type": "code",
   "execution_count": null,
<<<<<<< HEAD
<<<<<<< HEAD
<<<<<<< HEAD
<<<<<<< HEAD
   "id": "b38d07db",
||||||| merged common ancestors
   "id": "04bde601",
=======
   "id": "bd2ba345",
>>>>>>> documentation-devel
||||||| f5a2d7c
   "id": "bd2ba345",
=======
   "id": "a13c2d3b",
>>>>>>> documentation-devel
||||||| de7e30d
   "id": "b38d07db",
=======
   "id": "208e5eb5",
>>>>>>> 03b044928c05aca10f627eea0665560c78e150c1
||||||| 1f675c8
   "id": "a13c2d3b",
=======
   "id": "da94035a",
>>>>>>> documentation-devel
   "metadata": {},
   "outputs": [],
   "source": [
    "top_moran_symbol <- rowData(sfe)[top_moran, \"Symbol\"]\n",
    "plotExpression(sfe, top_moran_symbol, swap_rownames = \"Symbol\")"
   ]
  },
  {
   "cell_type": "markdown",
<<<<<<< HEAD
<<<<<<< HEAD
<<<<<<< HEAD
<<<<<<< HEAD
   "id": "b33ae2c0",
||||||| merged common ancestors
   "id": "6f9b9451",
=======
   "id": "d78f1113",
>>>>>>> documentation-devel
||||||| f5a2d7c
   "id": "d78f1113",
=======
   "id": "5381e2cd",
>>>>>>> documentation-devel
||||||| de7e30d
   "id": "b33ae2c0",
=======
   "id": "b1d48c44",
>>>>>>> 03b044928c05aca10f627eea0665560c78e150c1
||||||| 1f675c8
   "id": "5381e2cd",
=======
   "id": "68d5611e",
>>>>>>> documentation-devel
   "metadata": {},
   "source": [
    "They are all marker genes for the same cluster, cluster 9. Perhaps these genes have high Moran's I because they are specific to a cell type. Then how does the Moran's I relate to cluster AUC and cluster differential expression p-value?"
   ]
  },
  {
   "cell_type": "code",
   "execution_count": null,
<<<<<<< HEAD
<<<<<<< HEAD
<<<<<<< HEAD
<<<<<<< HEAD
   "id": "c4d78684",
||||||| merged common ancestors
   "id": "a452203f",
=======
   "id": "4092bc97",
>>>>>>> documentation-devel
||||||| f5a2d7c
   "id": "4092bc97",
=======
   "id": "a590ada9",
>>>>>>> documentation-devel
||||||| de7e30d
   "id": "c4d78684",
=======
   "id": "48614f2b",
>>>>>>> 03b044928c05aca10f627eea0665560c78e150c1
||||||| 1f675c8
   "id": "a590ada9",
=======
   "id": "b660842e",
>>>>>>> documentation-devel
   "metadata": {},
   "outputs": [],
   "source": [
    "# See if markers are unique to clusters\n",
    "anyDuplicated(rownames(top_markers_df))"
   ]
  },
  {
   "cell_type": "code",
   "execution_count": null,
<<<<<<< HEAD
<<<<<<< HEAD
<<<<<<< HEAD
<<<<<<< HEAD
   "id": "e5116911",
||||||| merged common ancestors
   "id": "6b797aa0",
=======
   "id": "b1b80513",
>>>>>>> documentation-devel
||||||| f5a2d7c
   "id": "b1b80513",
=======
   "id": "a6e661ae",
>>>>>>> documentation-devel
||||||| de7e30d
   "id": "e5116911",
=======
   "id": "d0953a81",
>>>>>>> 03b044928c05aca10f627eea0665560c78e150c1
||||||| 1f675c8
   "id": "a6e661ae",
=======
   "id": "2030c021",
>>>>>>> documentation-devel
   "metadata": {},
   "outputs": [],
   "source": [
    "top_markers_df$moran <- rowData(sfe)[rownames(top_markers_df), \"moran_sample01\"]\n",
    "top_markers_df$log_p_adj <- -log10(top_markers_df$FDR)\n",
    "top_markers_df$cluster <- factor(top_markers_df$cluster, \n",
    "                                 levels = seq_len(length(unique(top_markers_df$cluster))))"
   ]
  },
  {
   "cell_type": "markdown",
<<<<<<< HEAD
<<<<<<< HEAD
<<<<<<< HEAD
<<<<<<< HEAD
   "id": "7ae7ca0f",
||||||| merged common ancestors
   "id": "190da7f1",
=======
   "id": "e3d5ce27",
>>>>>>> documentation-devel
||||||| f5a2d7c
   "id": "e3d5ce27",
=======
   "id": "f75b02ac",
>>>>>>> documentation-devel
||||||| de7e30d
   "id": "7ae7ca0f",
=======
   "id": "b7777758",
>>>>>>> 03b044928c05aca10f627eea0665560c78e150c1
||||||| 1f675c8
   "id": "f75b02ac",
=======
   "id": "977156a6",
>>>>>>> documentation-devel
   "metadata": {
    "lines_to_next_cell": 0
   },
   "source": [
    "How does the differential expression p-value relate to Moran's I?"
   ]
  },
  {
   "cell_type": "code",
   "execution_count": null,
<<<<<<< HEAD
<<<<<<< HEAD
<<<<<<< HEAD
<<<<<<< HEAD
   "id": "2ab764a5",
||||||| merged common ancestors
   "id": "43afd1f0",
=======
   "id": "212aca10",
>>>>>>> documentation-devel
||||||| f5a2d7c
   "id": "212aca10",
=======
   "id": "9fe8ede0",
>>>>>>> documentation-devel
||||||| de7e30d
   "id": "2ab764a5",
=======
   "id": "cf1fc654",
>>>>>>> 03b044928c05aca10f627eea0665560c78e150c1
||||||| 1f675c8
   "id": "9fe8ede0",
=======
   "id": "2592c9f2",
>>>>>>> documentation-devel
   "metadata": {},
   "outputs": [],
   "source": [
    "as.data.frame(top_markers_df) |> \n",
    "    ggplot(aes(log_p_adj, moran)) +\n",
    "    geom_point(aes(color = cluster)) +\n",
    "    geom_smooth(method = \"lm\") +\n",
    "    scale_color_manual(values = ditto_colors)"
   ]
  },
  {
   "cell_type": "markdown",
<<<<<<< HEAD
<<<<<<< HEAD
<<<<<<< HEAD
<<<<<<< HEAD
   "id": "45f7def3",
||||||| merged common ancestors
   "id": "c1cd02af",
=======
   "id": "49aeb999",
>>>>>>> documentation-devel
||||||| f5a2d7c
   "id": "49aeb999",
=======
   "id": "ede0bbf4",
>>>>>>> documentation-devel
||||||| de7e30d
   "id": "45f7def3",
=======
   "id": "195c0f2f",
>>>>>>> 03b044928c05aca10f627eea0665560c78e150c1
||||||| 1f675c8
   "id": "ede0bbf4",
=======
   "id": "169ebe44",
>>>>>>> documentation-devel
   "metadata": {},
   "source": [
    "Generally, more significant marker genes tend to have higher Moran's I. This is not surprising because the clusters and Moran's I here are both based on the k nearest neighbor graph."
   ]
  },
  {
   "cell_type": "code",
   "execution_count": null,
<<<<<<< HEAD
<<<<<<< HEAD
<<<<<<< HEAD
<<<<<<< HEAD
   "id": "20351f8d",
||||||| merged common ancestors
   "id": "0b12fb58",
=======
   "id": "5925de9f",
>>>>>>> documentation-devel
||||||| f5a2d7c
   "id": "5925de9f",
=======
   "id": "6e6b78d7",
>>>>>>> documentation-devel
||||||| de7e30d
   "id": "20351f8d",
=======
   "id": "965fd85d",
>>>>>>> 03b044928c05aca10f627eea0665560c78e150c1
||||||| 1f675c8
   "id": "6e6b78d7",
=======
   "id": "dce7c1e1",
>>>>>>> documentation-devel
   "metadata": {},
   "outputs": [],
   "source": [
    "as.data.frame(top_markers_df) |> \n",
    "    ggplot(aes(summary.AUC, moran)) +\n",
    "    geom_point(aes(color = cluster)) +\n",
    "    geom_smooth(method = \"lm\") +\n",
    "    scale_color_manual(values = ditto_colors)"
   ]
  },
  {
   "cell_type": "markdown",
<<<<<<< HEAD
<<<<<<< HEAD
<<<<<<< HEAD
<<<<<<< HEAD
   "id": "78d3d2af",
||||||| merged common ancestors
   "id": "f05491ac",
=======
   "id": "453022be",
>>>>>>> documentation-devel
||||||| f5a2d7c
   "id": "453022be",
=======
   "id": "f5ff4056",
>>>>>>> documentation-devel
||||||| de7e30d
   "id": "78d3d2af",
=======
   "id": "1774e11c",
>>>>>>> 03b044928c05aca10f627eea0665560c78e150c1
||||||| 1f675c8
   "id": "f5ff4056",
=======
   "id": "871906ed",
>>>>>>> documentation-devel
   "metadata": {
    "lines_to_next_cell": 0
   },
   "source": [
    "Similarly, genes with higher AUC tend to have higher Moran's I. For other clusters, generally speaking, genes more specific to a cluster tend to have higher Moran's I.\n",
    "\n",
    "Let's use permutation testing to see if Moran's I is statistically significant:"
   ]
  },
  {
   "cell_type": "code",
   "execution_count": null,
<<<<<<< HEAD
<<<<<<< HEAD
<<<<<<< HEAD
<<<<<<< HEAD
   "id": "2c23148c",
||||||| merged common ancestors
   "id": "b350ac31",
=======
   "id": "af62f7f8",
>>>>>>> documentation-devel
||||||| f5a2d7c
   "id": "af62f7f8",
=======
   "id": "4046153a",
>>>>>>> documentation-devel
||||||| de7e30d
   "id": "2c23148c",
=======
   "id": "057b0965",
>>>>>>> 03b044928c05aca10f627eea0665560c78e150c1
||||||| 1f675c8
   "id": "4046153a",
=======
   "id": "e9b905e4",
>>>>>>> documentation-devel
   "metadata": {},
   "outputs": [],
   "source": [
    "sfe <- runUnivariate(sfe, \"moran.mc\", features = top_markers, nsim = 200)"
   ]
  },
  {
   "cell_type": "code",
   "execution_count": null,
<<<<<<< HEAD
<<<<<<< HEAD
<<<<<<< HEAD
<<<<<<< HEAD
   "id": "4eb0520f",
||||||| merged common ancestors
   "id": "51908838",
=======
   "id": "2eb0bdef",
>>>>>>> documentation-devel
||||||| f5a2d7c
   "id": "2eb0bdef",
=======
   "id": "cbcfff5d",
>>>>>>> documentation-devel
||||||| de7e30d
   "id": "4eb0520f",
=======
   "id": "c81d1572",
>>>>>>> 03b044928c05aca10f627eea0665560c78e150c1
||||||| 1f675c8
   "id": "cbcfff5d",
=======
   "id": "b66eae0b",
>>>>>>> documentation-devel
   "metadata": {},
   "outputs": [],
   "source": [
    "top_markers_symbol"
   ]
  },
  {
   "cell_type": "code",
   "execution_count": null,
<<<<<<< HEAD
<<<<<<< HEAD
<<<<<<< HEAD
<<<<<<< HEAD
   "id": "81061eb2",
||||||| merged common ancestors
   "id": "40a25b1b",
=======
   "id": "11778f54",
>>>>>>> documentation-devel
||||||| f5a2d7c
   "id": "11778f54",
=======
   "id": "954714bd",
>>>>>>> documentation-devel
||||||| de7e30d
   "id": "81061eb2",
=======
   "id": "d934ac2c",
>>>>>>> 03b044928c05aca10f627eea0665560c78e150c1
||||||| 1f675c8
   "id": "954714bd",
=======
   "id": "43d919f5",
>>>>>>> documentation-devel
   "metadata": {},
   "outputs": [],
   "source": [
    "plotMoranMC(sfe, top_markers, swap_rownames = \"Symbol\")"
   ]
  },
  {
   "cell_type": "markdown",
<<<<<<< HEAD
<<<<<<< HEAD
<<<<<<< HEAD
<<<<<<< HEAD
   "id": "f528b697",
||||||| merged common ancestors
   "id": "e1d49d36",
=======
   "id": "d80ef402",
>>>>>>> documentation-devel
||||||| f5a2d7c
   "id": "d80ef402",
=======
   "id": "6b6e47cc",
>>>>>>> documentation-devel
||||||| de7e30d
   "id": "f528b697",
=======
   "id": "66c92ad5",
>>>>>>> 03b044928c05aca10f627eea0665560c78e150c1
||||||| 1f675c8
   "id": "6b6e47cc",
=======
   "id": "ae478b7c",
>>>>>>> documentation-devel
   "metadata": {},
   "source": [
    "They all seem to be very significant. \n",
    "\n",
    "The correlogram finds Moran's I for a higher order of neighbors and can be a proxy for distance. "
   ]
  },
  {
   "cell_type": "code",
   "execution_count": null,
<<<<<<< HEAD
<<<<<<< HEAD
<<<<<<< HEAD
<<<<<<< HEAD
   "id": "98cbbe77",
||||||| merged common ancestors
   "id": "9a501bb7",
=======
   "id": "335c9265",
>>>>>>> documentation-devel
||||||| f5a2d7c
   "id": "335c9265",
=======
   "id": "8d620ad5",
>>>>>>> documentation-devel
||||||| de7e30d
   "id": "98cbbe77",
=======
   "id": "a3d85669",
>>>>>>> 03b044928c05aca10f627eea0665560c78e150c1
||||||| 1f675c8
   "id": "8d620ad5",
=======
   "id": "ad40dec0",
>>>>>>> documentation-devel
   "metadata": {},
   "outputs": [],
   "source": [
    "system.time({\n",
    "    sfe <- runUnivariate(sfe, \"sp.correlogram\", top_markers, order = 6, \n",
    "                     zero.policy = TRUE, BPPARAM = MulticoreParam(2))\n",
    "})"
   ]
  },
  {
   "cell_type": "code",
   "execution_count": null,
<<<<<<< HEAD
<<<<<<< HEAD
<<<<<<< HEAD
<<<<<<< HEAD
   "id": "02b9dd65",
||||||| merged common ancestors
   "id": "d8fa5d92",
=======
   "id": "c028e0bf",
>>>>>>> documentation-devel
||||||| f5a2d7c
   "id": "c028e0bf",
=======
   "id": "74c78428",
>>>>>>> documentation-devel
||||||| de7e30d
   "id": "02b9dd65",
=======
   "id": "a32693d2",
>>>>>>> 03b044928c05aca10f627eea0665560c78e150c1
||||||| 1f675c8
   "id": "74c78428",
=======
   "id": "7c59f561",
>>>>>>> documentation-devel
   "metadata": {},
   "outputs": [],
   "source": [
    "plotCorrelogram(sfe, top_markers, swap_rownames = \"Symbol\")"
   ]
  },
  {
   "cell_type": "markdown",
<<<<<<< HEAD
<<<<<<< HEAD
<<<<<<< HEAD
<<<<<<< HEAD
   "id": "a78c57ba",
||||||| merged common ancestors
   "id": "5ed7d10c",
=======
   "id": "45091123",
>>>>>>> documentation-devel
||||||| f5a2d7c
   "id": "45091123",
=======
   "id": "aae041b2",
>>>>>>> documentation-devel
||||||| de7e30d
   "id": "a78c57ba",
=======
   "id": "1d34e602",
>>>>>>> 03b044928c05aca10f627eea0665560c78e150c1
||||||| 1f675c8
   "id": "aae041b2",
=======
   "id": "7e026f3a",
>>>>>>> documentation-devel
   "metadata": {
    "lines_to_next_cell": 0
   },
   "source": [
    "We see different patterns of decay in spatial autocorrelation and different length scales of spatial autocorrelation. CLU is a marker gene very specific to the smallest cluster, so higher order neighbors are very likely to be from other clusters. Marker genes for the other larger clusters with hundreds of cells nevertheless display different patterns in the correlogram.\n",
    "\n",
    "## Local Moran's I"
   ]
  },
  {
   "cell_type": "code",
   "execution_count": null,
<<<<<<< HEAD
<<<<<<< HEAD
<<<<<<< HEAD
<<<<<<< HEAD
   "id": "cbd43d48",
||||||| merged common ancestors
   "id": "8b82c2d4",
=======
   "id": "3ab40c2f",
>>>>>>> documentation-devel
||||||| f5a2d7c
   "id": "3ab40c2f",
=======
   "id": "4debdc8e",
>>>>>>> documentation-devel
||||||| de7e30d
   "id": "cbd43d48",
=======
   "id": "2646bddd",
>>>>>>> 03b044928c05aca10f627eea0665560c78e150c1
||||||| 1f675c8
   "id": "4debdc8e",
=======
   "id": "44e99cf9",
>>>>>>> documentation-devel
   "metadata": {},
   "outputs": [],
   "source": [
    "sfe <- runUnivariate(sfe, \"localmoran\", features = top_markers)"
   ]
  },
  {
   "cell_type": "code",
   "execution_count": null,
<<<<<<< HEAD
<<<<<<< HEAD
<<<<<<< HEAD
<<<<<<< HEAD
   "id": "9b460b63",
||||||| merged common ancestors
   "id": "f9cc4c76",
=======
   "id": "9a79cef7",
>>>>>>> documentation-devel
||||||| f5a2d7c
   "id": "9a79cef7",
=======
   "id": "bfb682a2",
>>>>>>> documentation-devel
||||||| de7e30d
   "id": "9b460b63",
=======
   "id": "d57b542f",
>>>>>>> 03b044928c05aca10f627eea0665560c78e150c1
||||||| 1f675c8
   "id": "bfb682a2",
=======
   "id": "14b18449",
>>>>>>> documentation-devel
   "metadata": {
    "fig.height": 9,
    "fig.width": 12
   },
   "outputs": [],
   "source": [
    "plotLocalResult(sfe, \"localmoran\", top_markers, colGeometryName = \"centroids\", \n",
    "                divergent = TRUE, diverge_center = 0, ncol = 3,\n",
    "                swap_rownames = \"Symbol\")"
   ]
  },
  {
   "cell_type": "markdown",
<<<<<<< HEAD
<<<<<<< HEAD
<<<<<<< HEAD
<<<<<<< HEAD
   "id": "13263d12",
||||||| merged common ancestors
   "id": "3322aea8",
=======
   "id": "26263b84",
>>>>>>> documentation-devel
||||||| f5a2d7c
   "id": "26263b84",
=======
   "id": "37b3a37c",
>>>>>>> documentation-devel
||||||| de7e30d
   "id": "13263d12",
=======
   "id": "19e74372",
>>>>>>> 03b044928c05aca10f627eea0665560c78e150c1
||||||| 1f675c8
   "id": "37b3a37c",
=======
   "id": "d44dacd8",
>>>>>>> documentation-devel
   "metadata": {},
   "source": [
    "We will also plot the histograms, but for now the results need to be added to `colData` first."
   ]
  },
  {
   "cell_type": "code",
   "execution_count": null,
<<<<<<< HEAD
<<<<<<< HEAD
<<<<<<< HEAD
<<<<<<< HEAD
   "id": "6a3d5b31",
||||||| merged common ancestors
   "id": "984c5b44",
=======
   "id": "ee72ef46",
>>>>>>> documentation-devel
||||||| f5a2d7c
   "id": "ee72ef46",
=======
   "id": "0927ab52",
>>>>>>> documentation-devel
||||||| de7e30d
   "id": "6a3d5b31",
=======
   "id": "95b67714",
>>>>>>> 03b044928c05aca10f627eea0665560c78e150c1
||||||| 1f675c8
   "id": "0927ab52",
=======
   "id": "c4a6cdea",
>>>>>>> documentation-devel
   "metadata": {},
   "outputs": [],
   "source": [
    "new_colname <- paste0(\"cluster\", seq_along(top_markers), \"_\", \n",
    "                      top_markers_symbol, \"_localmoran\")\n",
    "for (i in seq_along(top_markers)) {\n",
    "    g <- top_markers[i]\n",
    "    colData(sfe)[[new_colname[i]]] <- \n",
    "        localResult(sfe, \"localmoran\", g)[,\"Ii\"]\n",
    "}"
   ]
  },
  {
   "cell_type": "code",
   "execution_count": null,
<<<<<<< HEAD
<<<<<<< HEAD
<<<<<<< HEAD
<<<<<<< HEAD
   "id": "36ce332f",
||||||| merged common ancestors
   "id": "c2d63888",
=======
   "id": "85ae73a8",
>>>>>>> documentation-devel
||||||| f5a2d7c
   "id": "85ae73a8",
=======
   "id": "c5c544d5",
>>>>>>> documentation-devel
||||||| de7e30d
   "id": "36ce332f",
=======
   "id": "2f647d02",
>>>>>>> 03b044928c05aca10f627eea0665560c78e150c1
||||||| 1f675c8
   "id": "c5c544d5",
=======
   "id": "64b9e286",
>>>>>>> documentation-devel
   "metadata": {
    "fig.height": 12,
    "fig.width": 8
   },
   "outputs": [],
   "source": [
    "plotColDataFreqpoly(sfe, new_colname, color_by = \"cluster\") +\n",
    "    ggtitle(\"Local Moran's I\") +\n",
    "    theme(legend.position = \"top\") +\n",
    "    scale_y_log10() +\n",
    "    annotation_logticks(sides = \"l\")"
   ]
  },
  {
   "cell_type": "markdown",
<<<<<<< HEAD
<<<<<<< HEAD
<<<<<<< HEAD
<<<<<<< HEAD
   "id": "4fee1447",
||||||| merged common ancestors
   "id": "1273143f",
=======
   "id": "1f74a336",
>>>>>>> documentation-devel
||||||| f5a2d7c
   "id": "1f74a336",
=======
   "id": "b31d093c",
>>>>>>> documentation-devel
||||||| de7e30d
   "id": "4fee1447",
=======
   "id": "6651f7c2",
>>>>>>> 03b044928c05aca10f627eea0665560c78e150c1
||||||| 1f675c8
   "id": "b31d093c",
=======
   "id": "ea5adc41",
>>>>>>> documentation-devel
   "metadata": {
    "lines_to_next_cell": 0
   },
   "source": [
    "Again, the y axis is log transformed to make the tail more visible. For some clusters, the top marker gene's local Moran's I forms its own peak for cells in the cluster with higher local Moran's I than other cells. However, sometimes cells within the cluster form a long tail shared with some cells from other clusters. Then the local Moran's I could be another method for differential expression. Or since both local Moran's I and Leiden clustering use the k nearest neighbor graph in PCA space, local Moran's I of marker genes or perhaps eigengenes signifying gene programs for each cell type on this k nearest neighbor graph can validate or criticize Leiden clusters. Furthermore, interestingly, for some genes, the tallest peak in the histogram is away from 0.\n",
    "\n",
    "The scatter plots as shown in the \"spatial\" analyses for the QC metrics section can be made to see how local Moran's I relates to the expression of the gene itself."
   ]
  },
  {
   "cell_type": "code",
   "execution_count": null,
<<<<<<< HEAD
<<<<<<< HEAD
<<<<<<< HEAD
<<<<<<< HEAD
   "id": "5e41ad5c",
||||||| merged common ancestors
   "id": "81ab46cd",
=======
   "id": "fad9af3a",
>>>>>>> documentation-devel
||||||| f5a2d7c
   "id": "fad9af3a",
=======
   "id": "28518e19",
>>>>>>> documentation-devel
||||||| de7e30d
   "id": "5e41ad5c",
=======
   "id": "834ab7f2",
>>>>>>> 03b044928c05aca10f627eea0665560c78e150c1
||||||| 1f675c8
   "id": "28518e19",
=======
   "id": "bccb6955",
>>>>>>> documentation-devel
   "metadata": {},
   "outputs": [],
   "source": [
    "i <- 6 # Change if running this notebook\n",
    "plotExpression(sfe, top_markers_symbol[i], x = new_colname[i], color_by = \"cluster\",\n",
    "               swap_rownames = \"Symbol\") +\n",
    "    scale_color_manual(values = ditto_colors) +\n",
    "    coord_flip() +\n",
    "    # comment out in case of error after changing i\n",
    "    geom_density2d(data = as.data.frame(colData(sfe)) |> \n",
    "                       mutate(gene = logcounts(sfe)[top_markers[i],]),\n",
    "                   mapping = aes(x = .data[[new_colname[i]]], y = gene), \n",
    "                   color = \"blue\", linewidth = 0.3) "
   ]
  },
  {
   "cell_type": "markdown",
<<<<<<< HEAD
<<<<<<< HEAD
<<<<<<< HEAD
<<<<<<< HEAD
   "id": "e0133331",
||||||| merged common ancestors
   "id": "0adc0498",
=======
   "id": "94455dbf",
>>>>>>> documentation-devel
||||||| f5a2d7c
   "id": "94455dbf",
=======
   "id": "0a292c48",
>>>>>>> documentation-devel
||||||| de7e30d
   "id": "e0133331",
=======
   "id": "86e2ce83",
>>>>>>> 03b044928c05aca10f627eea0665560c78e150c1
||||||| 1f675c8
   "id": "0a292c48",
=======
   "id": "99377d8b",
>>>>>>> documentation-devel
   "metadata": {},
   "source": [
    "For this gene, just like for total UMI counts, there are two wings and a central value where local Moran's I is around 0. Generally, cells with higher expression of this gene have higher local Moran's I for this gene as well. The density contours show that cells concentrate around 0 expression and some weaker positive local Moran. The streak of cells with 0 expression means that many cells don't express this gene, and their neighbors have low and slightly homogeneous expression of this gene. This pattern may be different for different genes. Also, the p-values for each cell for local Moran's I are available and corrected for multiple hypothesis testing, and can be plotted. The p-values are based on the z score of the local Moran statistic, although how the statistic is distributed for gene expression data warrants more investigation. This p-value can also be computed with permutation (see `localmoran_perm()`). "
   ]
  },
  {
   "cell_type": "code",
   "execution_count": null,
<<<<<<< HEAD
<<<<<<< HEAD
<<<<<<< HEAD
<<<<<<< HEAD
   "id": "e5fdef49",
||||||| merged common ancestors
   "id": "5f0ef2dc",
=======
   "id": "2bbef4aa",
>>>>>>> documentation-devel
||||||| f5a2d7c
   "id": "2bbef4aa",
=======
   "id": "65068e95",
>>>>>>> documentation-devel
||||||| de7e30d
   "id": "e5fdef49",
=======
   "id": "63169aae",
>>>>>>> 03b044928c05aca10f627eea0665560c78e150c1
||||||| 1f675c8
   "id": "65068e95",
=======
   "id": "8ed0c512",
>>>>>>> documentation-devel
   "metadata": {},
   "outputs": [],
   "source": [
    "localResultAttrs(sfe, \"localmoran\", top_markers[1])"
   ]
  },
  {
   "cell_type": "markdown",
<<<<<<< HEAD
<<<<<<< HEAD
<<<<<<< HEAD
<<<<<<< HEAD
   "id": "44cbaffa",
||||||| merged common ancestors
   "id": "ccc3abc3",
=======
   "id": "21653e9c",
>>>>>>> documentation-devel
||||||| f5a2d7c
   "id": "21653e9c",
=======
   "id": "ddb13375",
>>>>>>> documentation-devel
||||||| de7e30d
   "id": "44cbaffa",
=======
   "id": "890e2521",
>>>>>>> 03b044928c05aca10f627eea0665560c78e150c1
||||||| 1f675c8
   "id": "ddb13375",
=======
   "id": "92b7300f",
>>>>>>> documentation-devel
   "metadata": {},
   "source": [
    "## LOSH"
   ]
  },
  {
   "cell_type": "code",
   "execution_count": null,
<<<<<<< HEAD
<<<<<<< HEAD
<<<<<<< HEAD
<<<<<<< HEAD
   "id": "09984755",
||||||| merged common ancestors
   "id": "06ef73d7",
=======
   "id": "f6318e1a",
>>>>>>> documentation-devel
||||||| f5a2d7c
   "id": "f6318e1a",
=======
   "id": "2746171c",
>>>>>>> documentation-devel
||||||| de7e30d
   "id": "09984755",
=======
   "id": "8c138f37",
>>>>>>> 03b044928c05aca10f627eea0665560c78e150c1
||||||| 1f675c8
   "id": "2746171c",
=======
   "id": "b097cf46",
>>>>>>> documentation-devel
   "metadata": {},
   "outputs": [],
   "source": [
    "sfe <- runUnivariate(sfe, \"LOSH\", top_markers)"
   ]
  },
  {
   "cell_type": "code",
   "execution_count": null,
<<<<<<< HEAD
<<<<<<< HEAD
<<<<<<< HEAD
<<<<<<< HEAD
   "id": "6e3ac6e3",
||||||| merged common ancestors
   "id": "f7af90e2",
=======
   "id": "b7607f41",
>>>>>>> documentation-devel
||||||| f5a2d7c
   "id": "b7607f41",
=======
   "id": "21eb4e54",
>>>>>>> documentation-devel
||||||| de7e30d
   "id": "6e3ac6e3",
=======
   "id": "c82d6ff5",
>>>>>>> 03b044928c05aca10f627eea0665560c78e150c1
||||||| 1f675c8
   "id": "21eb4e54",
=======
   "id": "dc8e0542",
>>>>>>> documentation-devel
   "metadata": {
    "fig.height": 9,
    "fig.width": 12
   },
   "outputs": [],
   "source": [
    "plotLocalResult(sfe, \"LOSH\", top_markers, colGeometryName = \"centroids\", ncol = 3,\n",
    "                swap_rownames = \"Symbol\")"
   ]
  },
  {
   "cell_type": "markdown",
<<<<<<< HEAD
<<<<<<< HEAD
<<<<<<< HEAD
<<<<<<< HEAD
   "id": "c3f48005",
||||||| merged common ancestors
   "id": "8bc68d6b",
=======
   "id": "05698337",
>>>>>>> documentation-devel
||||||| f5a2d7c
   "id": "05698337",
=======
   "id": "063b1cd6",
>>>>>>> documentation-devel
||||||| de7e30d
   "id": "c3f48005",
=======
   "id": "7a0bf8b8",
>>>>>>> 03b044928c05aca10f627eea0665560c78e150c1
||||||| 1f675c8
   "id": "063b1cd6",
=======
   "id": "b9a7fd51",
>>>>>>> documentation-devel
   "metadata": {
    "lines_to_next_cell": 0
   },
   "source": [
    "In the two genes on the right, it's interesting to see higher LOSH in the middle cluster. The two genes on the left have some outliers throwing off the dynamic range, but it seems that their high LOSH regions are different.\n",
    "\n",
    "Again, we plot the histograms:"
   ]
  },
  {
   "cell_type": "code",
   "execution_count": null,
<<<<<<< HEAD
<<<<<<< HEAD
<<<<<<< HEAD
<<<<<<< HEAD
   "id": "260f0bd1",
||||||| merged common ancestors
   "id": "27afe1d4",
=======
   "id": "573612b9",
>>>>>>> documentation-devel
||||||| f5a2d7c
   "id": "573612b9",
=======
   "id": "8b336784",
>>>>>>> documentation-devel
||||||| de7e30d
   "id": "260f0bd1",
=======
   "id": "aed85fb8",
>>>>>>> 03b044928c05aca10f627eea0665560c78e150c1
||||||| 1f675c8
   "id": "8b336784",
=======
   "id": "24fc7e90",
>>>>>>> documentation-devel
   "metadata": {},
   "outputs": [],
   "source": [
    "new_colname2 <- paste0(\"cluster\", seq_along(top_markers), \"_\", \n",
    "                      top_markers_symbol, \"_losh\")\n",
    "for (i in seq_along(top_markers)) {\n",
    "    g <- top_markers[i]\n",
    "    colData(sfe)[[new_colname2[i]]] <- \n",
    "        localResult(sfe, \"LOSH\", g)[,\"Hi\"]\n",
    "}"
   ]
  },
  {
   "cell_type": "code",
   "execution_count": null,
<<<<<<< HEAD
<<<<<<< HEAD
<<<<<<< HEAD
<<<<<<< HEAD
   "id": "0c5aab70",
||||||| merged common ancestors
   "id": "e8e69ae9",
=======
   "id": "8be8d072",
>>>>>>> documentation-devel
||||||| f5a2d7c
   "id": "8be8d072",
=======
   "id": "78c789d0",
>>>>>>> documentation-devel
||||||| de7e30d
   "id": "0c5aab70",
=======
   "id": "5ac97dbd",
>>>>>>> 03b044928c05aca10f627eea0665560c78e150c1
||||||| 1f675c8
   "id": "78c789d0",
=======
   "id": "0593392c",
>>>>>>> documentation-devel
   "metadata": {
    "fig.height": 12,
    "fig.width": 8
   },
   "outputs": [],
   "source": [
    "plotColDataFreqpoly(sfe, new_colname2, color_by = \"cluster\") +\n",
    "    ggtitle(\"Local heteroscedasticity\") +\n",
    "    theme(legend.position = \"top\") +\n",
    "    scale_y_log10() +\n",
    "    annotation_logticks(sides = \"l\")"
   ]
  },
  {
   "cell_type": "markdown",
<<<<<<< HEAD
<<<<<<< HEAD
<<<<<<< HEAD
<<<<<<< HEAD
   "id": "0615defe",
||||||| merged common ancestors
   "id": "95723b84",
=======
   "id": "6765d862",
>>>>>>> documentation-devel
||||||| f5a2d7c
   "id": "6765d862",
=======
   "id": "7f44d527",
>>>>>>> documentation-devel
||||||| de7e30d
   "id": "0615defe",
=======
   "id": "d9c90f6c",
>>>>>>> 03b044928c05aca10f627eea0665560c78e150c1
||||||| 1f675c8
   "id": "7f44d527",
=======
   "id": "e535e1ac",
>>>>>>> documentation-devel
   "metadata": {},
   "source": [
    "The relationship between expression and LOSH is more complicated. For some genes, such as the top marker gene for cluster 1 LYAR, cells in the cluster with higher expression also have higher LOSH - much like how in Poisson and negative binomial distributions, higher mean also means higher variance. However, some genes, such as the top marker gene for cluster 2 CTSS, have lower LOSH among cells that have higher expression, which means expression of this gene is more homogeneous within the cluster, consistent with local Moran. "
   ]
  },
  {
   "cell_type": "code",
   "execution_count": null,
<<<<<<< HEAD
<<<<<<< HEAD
<<<<<<< HEAD
<<<<<<< HEAD
   "id": "0a21e3c4",
||||||| merged common ancestors
   "id": "0107560c",
=======
   "id": "498a76c1",
>>>>>>> documentation-devel
||||||| f5a2d7c
   "id": "498a76c1",
=======
   "id": "1ac34da0",
>>>>>>> documentation-devel
||||||| de7e30d
   "id": "0a21e3c4",
=======
   "id": "c71b906e",
>>>>>>> 03b044928c05aca10f627eea0665560c78e150c1
||||||| 1f675c8
   "id": "1ac34da0",
=======
   "id": "3d746494",
>>>>>>> documentation-devel
   "metadata": {},
   "outputs": [],
   "source": [
    "i <- 6 # Change if running this notebook\n",
    "plotExpression(sfe, top_markers_symbol[i], x = new_colname2[i], \n",
    "               color_by = \"cluster\", swap_rownames = \"Symbol\") +\n",
    "    scale_color_manual(values = ditto_colors) +\n",
    "    coord_flip() +\n",
    "    # comment out in case of error after changing i\n",
    "    geom_density2d(data = as.data.frame(colData(sfe)) |> \n",
    "                       mutate(gene = logcounts(sfe)[top_markers[i],]),\n",
    "                   mapping = aes(x = .data[[new_colname2[i]]], y = gene), \n",
    "                   color = \"blue\", linewidth = 0.3) "
   ]
  },
  {
   "cell_type": "markdown",
<<<<<<< HEAD
<<<<<<< HEAD
<<<<<<< HEAD
<<<<<<< HEAD
   "id": "edda99c7",
||||||| merged common ancestors
   "id": "76d4a842",
=======
   "id": "990ffc7c",
>>>>>>> documentation-devel
||||||| f5a2d7c
   "id": "990ffc7c",
=======
   "id": "963b82e5",
>>>>>>> documentation-devel
||||||| de7e30d
   "id": "edda99c7",
=======
   "id": "8cc99607",
>>>>>>> 03b044928c05aca10f627eea0665560c78e150c1
||||||| 1f675c8
   "id": "963b82e5",
=======
   "id": "dbf79798",
>>>>>>> documentation-devel
   "metadata": {
    "lines_to_next_cell": 0
   },
   "source": [
    "For this gene, the density contour indicates that many cells don't express this gene and have homogeneous neighborhoods also with low expression. That streak around 0 expression means that neighbors of cells that don't express this gene have different levels of heterogeneity in this gene.\n",
    "\n",
    "## Moran plot\n",
    "\n",
    "Here we make Moran plots for the top marker genes."
   ]
  },
  {
   "cell_type": "code",
   "execution_count": null,
<<<<<<< HEAD
<<<<<<< HEAD
<<<<<<< HEAD
<<<<<<< HEAD
   "id": "95cda3cf",
||||||| merged common ancestors
   "id": "5e402bed",
=======
   "id": "1a24732e",
>>>>>>> documentation-devel
||||||| f5a2d7c
   "id": "1a24732e",
=======
   "id": "4323c8b4",
>>>>>>> documentation-devel
||||||| de7e30d
   "id": "95cda3cf",
=======
   "id": "a39b31ee",
>>>>>>> 03b044928c05aca10f627eea0665560c78e150c1
||||||| 1f675c8
   "id": "4323c8b4",
=======
   "id": "6b0cd869",
>>>>>>> documentation-devel
   "metadata": {},
   "outputs": [],
   "source": [
    "sfe <- runUnivariate(sfe, \"moran.plot\", features = top_markers, colGraphName = \"knn10\")"
   ]
  },
  {
   "cell_type": "markdown",
<<<<<<< HEAD
<<<<<<< HEAD
<<<<<<< HEAD
<<<<<<< HEAD
   "id": "c12d1a02",
||||||| merged common ancestors
   "id": "0c8fde64",
=======
   "id": "3c6e10e9",
>>>>>>> documentation-devel
||||||| f5a2d7c
   "id": "3c6e10e9",
=======
   "id": "5e37fb54",
>>>>>>> documentation-devel
||||||| de7e30d
   "id": "c12d1a02",
=======
   "id": "9f7498d1",
>>>>>>> 03b044928c05aca10f627eea0665560c78e150c1
||||||| 1f675c8
   "id": "5e37fb54",
=======
   "id": "e0badf6f",
>>>>>>> documentation-devel
   "metadata": {
    "lines_to_next_cell": 0
   },
   "source": [
    "As a reference, we show Moran's I for the top marker genes, which is the slope of the line fitted to the Moran scatter plot."
   ]
  },
  {
   "cell_type": "code",
   "execution_count": null,
<<<<<<< HEAD
<<<<<<< HEAD
<<<<<<< HEAD
<<<<<<< HEAD
   "id": "0186b921",
||||||| merged common ancestors
   "id": "f9e003c1",
=======
   "id": "7ef3eca4",
>>>>>>> documentation-devel
||||||| f5a2d7c
   "id": "7ef3eca4",
=======
   "id": "a8d83998",
>>>>>>> documentation-devel
||||||| de7e30d
   "id": "0186b921",
=======
   "id": "07a67a74",
>>>>>>> 03b044928c05aca10f627eea0665560c78e150c1
||||||| 1f675c8
   "id": "a8d83998",
=======
   "id": "724eba72",
>>>>>>> documentation-devel
   "metadata": {},
   "outputs": [],
   "source": [
    "top_markers_df[top_markers,]"
   ]
  },
  {
   "cell_type": "markdown",
<<<<<<< HEAD
<<<<<<< HEAD
<<<<<<< HEAD
<<<<<<< HEAD
   "id": "467e2892",
||||||| merged common ancestors
   "id": "c26d18e6",
=======
   "id": "a3742307",
>>>>>>> documentation-devel
||||||| f5a2d7c
   "id": "a3742307",
=======
   "id": "fd6fdc07",
>>>>>>> documentation-devel
||||||| de7e30d
   "id": "467e2892",
=======
   "id": "ae726d6e",
>>>>>>> 03b044928c05aca10f627eea0665560c78e150c1
||||||| 1f675c8
   "id": "fd6fdc07",
=======
   "id": "b4c78f62",
>>>>>>> documentation-devel
   "metadata": {
    "lines_to_next_cell": 0
   },
   "source": [
    "There is no significant marker gene for cluster 7. These plots are shown in sequence"
   ]
  },
  {
   "cell_type": "code",
   "execution_count": null,
<<<<<<< HEAD
<<<<<<< HEAD
<<<<<<< HEAD
<<<<<<< HEAD
   "id": "061540e3",
||||||| merged common ancestors
   "id": "b15bfae3",
=======
   "id": "04296fac",
>>>>>>> documentation-devel
||||||| f5a2d7c
   "id": "04296fac",
=======
   "id": "9675330c",
>>>>>>> documentation-devel
||||||| de7e30d
   "id": "061540e3",
=======
   "id": "9e9347fb",
>>>>>>> 03b044928c05aca10f627eea0665560c78e150c1
||||||| 1f675c8
   "id": "9675330c",
=======
   "id": "dc6c74f2",
>>>>>>> documentation-devel
   "metadata": {},
   "outputs": [],
   "source": [
    "plts <- lapply(top_markers, moranPlot, sfe = sfe, color_by = \"cluster\", \n",
    "               swap_rownames = \"Symbol\")"
   ]
  },
  {
   "cell_type": "code",
   "execution_count": null,
<<<<<<< HEAD
<<<<<<< HEAD
<<<<<<< HEAD
<<<<<<< HEAD
   "id": "2abdbe42",
||||||| merged common ancestors
   "id": "3e67d5b0",
=======
   "id": "fd90ba29",
>>>>>>> documentation-devel
||||||| f5a2d7c
   "id": "fd90ba29",
=======
   "id": "f276d7c1",
>>>>>>> documentation-devel
||||||| de7e30d
   "id": "2abdbe42",
=======
   "id": "0f157620",
>>>>>>> 03b044928c05aca10f627eea0665560c78e150c1
||||||| 1f675c8
   "id": "f276d7c1",
=======
   "id": "551b2bd1",
>>>>>>> documentation-devel
   "metadata": {
    "fig.height": 9,
    "fig.width": 9
   },
   "outputs": [],
   "source": [
    "wrap_plots(plts, widths = 1, heights = 1) +\n",
    "    plot_layout(ncol = 3, guides = \"collect\") +\n",
    "    plot_annotation(tag_levels = \"1\")"
   ]
  },
  {
   "cell_type": "markdown",
<<<<<<< HEAD
<<<<<<< HEAD
<<<<<<< HEAD
<<<<<<< HEAD
   "id": "aedb36c3",
||||||| merged common ancestors
   "id": "8bfbb38b",
=======
   "id": "9e114ac9",
>>>>>>> documentation-devel
||||||| f5a2d7c
   "id": "9e114ac9",
=======
   "id": "7a38238a",
>>>>>>> documentation-devel
||||||| de7e30d
   "id": "aedb36c3",
=======
   "id": "5d8e64da",
>>>>>>> 03b044928c05aca10f627eea0665560c78e150c1
||||||| 1f675c8
   "id": "7a38238a",
=======
   "id": "055d16ef",
>>>>>>> documentation-devel
   "metadata": {
    "lines_to_next_cell": 0
   },
   "source": [
    "For some genes, the points are so concentrated around the origin that there aren't \"enough\" points elsewhere to plot the density contours. But for the cells that do express these genes, there are clusters on this plot. Some genes are not expressed in many cells, but those cells have neighbors that do express the gene, hence the vertical streak at x = 0. \n",
    "\n",
    "In this tutorial, we applied univariate spatial statistics to the k nearest neighbor graph in the gene expression PCA space rather than the histological space. Just like in histological space, it would be impractical to examine all these statistics gene by gene, so multivariate analyses that incorporate the k nearest neighbor graph may be interesting.\n",
    "\n",
    "# Session info"
   ]
  },
  {
   "cell_type": "code",
   "execution_count": null,
<<<<<<< HEAD
<<<<<<< HEAD
<<<<<<< HEAD
<<<<<<< HEAD
   "id": "2bcb78db",
||||||| merged common ancestors
   "id": "4ee81491",
=======
   "id": "51390575",
>>>>>>> documentation-devel
||||||| f5a2d7c
   "id": "51390575",
=======
   "id": "47001034",
>>>>>>> documentation-devel
||||||| de7e30d
   "id": "2bcb78db",
=======
   "id": "f68a9605",
>>>>>>> 03b044928c05aca10f627eea0665560c78e150c1
||||||| 1f675c8
   "id": "47001034",
=======
   "id": "fe7e79f0",
>>>>>>> documentation-devel
   "metadata": {
    "lines_to_next_cell": 0
   },
   "outputs": [],
   "source": [
    "sessionInfo()"
   ]
  },
  {
   "cell_type": "markdown",
<<<<<<< HEAD
<<<<<<< HEAD
<<<<<<< HEAD
<<<<<<< HEAD
   "id": "1075e009",
||||||| merged common ancestors
   "id": "86791b04",
=======
   "id": "a9a6bbc5",
>>>>>>> documentation-devel
||||||| f5a2d7c
   "id": "a9a6bbc5",
=======
   "id": "888eab8a",
>>>>>>> documentation-devel
||||||| de7e30d
   "id": "1075e009",
=======
   "id": "9a64621b",
>>>>>>> 03b044928c05aca10f627eea0665560c78e150c1
||||||| 1f675c8
   "id": "888eab8a",
=======
   "id": "223783ca",
>>>>>>> documentation-devel
   "metadata": {},
   "source": []
  }
 ],
 "metadata": {
  "kernelspec": {
   "display_name": "R",
   "language": "R",
   "name": "ir"
  }
 },
 "nbformat": 4,
 "nbformat_minor": 5
}
