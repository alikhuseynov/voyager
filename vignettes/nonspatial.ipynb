{
 "cells": [
  {
   "cell_type": "raw",
<<<<<<< HEAD
<<<<<<< HEAD
   "id": "65f4376d",
||||||| d29fab7
   "id": "f6b90d5f",
=======
   "id": "5b34c7d3",
>>>>>>> documentation-devel
||||||| 565f7a7
   "id": "65f4376d",
=======
   "id": "1475e5af",
>>>>>>> e08844e1a91b8e98d8bdd4d0244954bda0b7215b
   "metadata": {},
   "source": [
    "---\n",
    "title: \"Apply spatial analyses to non-spatial scRNA-seq data\"\n",
    "author: \"Lambda Moses\"\n",
    "date: \"`r Sys.Date()`\"\n",
    "output: \n",
    "  html_document:\n",
    "  toc: true\n",
    "  toc_float:\n",
    "    collapsed: false\n",
    "  toc_depth: 3\n",
    "bibliography: ref.bib\n",
    "vignette: >\n",
    "  %\\VignetteIndexEntry{nonspatial}\n",
    "  %\\VignetteEngine{knitr::rmarkdown}\n",
    "  %\\VignetteEncoding{UTF-8}\n",
    "---"
   ]
  },
  {
   "cell_type": "code",
   "execution_count": null,
<<<<<<< HEAD
<<<<<<< HEAD
   "id": "ff59657f",
||||||| d29fab7
   "id": "0badd54b",
=======
   "id": "12ac1956",
>>>>>>> documentation-devel
||||||| 565f7a7
   "id": "ff59657f",
=======
   "id": "58aac653",
>>>>>>> e08844e1a91b8e98d8bdd4d0244954bda0b7215b
   "metadata": {
    "tags": [
     "remove_cell"
    ]
   },
   "outputs": [],
   "source": [
    "knitr::opts_chunk$set(\n",
    "  collapse = TRUE,\n",
    "  comment = \"#>\"\n",
    ")"
   ]
  },
  {
   "cell_type": "code",
   "execution_count": null,
<<<<<<< HEAD
<<<<<<< HEAD
   "id": "7aecd17a",
||||||| d29fab7
   "id": "e99866eb",
=======
   "id": "a74eb865",
>>>>>>> documentation-devel
||||||| 565f7a7
   "id": "7aecd17a",
=======
   "id": "314b403d",
>>>>>>> e08844e1a91b8e98d8bdd4d0244954bda0b7215b
   "metadata": {
    "eval": false,
    "tags": [
     "remove_cell"
    ]
   },
   "outputs": [],
   "source": [
    "# Install Google Colab dependencies\n",
    "# Note: this can take 30+ minutes (many of the dependencies include C++ code, which needs to be compiled)\n",
    "\n",
    "# First install `sf`, `ragg` and `textshaping` and their system dependencies:\n",
    "system(\"apt-get -y update && apt-get install -y  libudunits2-dev libgdal-dev libgeos-dev libproj-dev libharfbuzz-dev libfribidi-dev\")\n",
    "install.packages(\"sf\")\n",
    "install.packages(\"textshaping\")\n",
    "install.packages(\"ragg\")\n",
    "\n",
    "# Install system dependencies of some other R packages that Voyager either imports or suggests:\n",
    "system(\"apt-get install -y libfribidi-dev libcairo2-dev libmagick++-dev\")\n",
    "\n",
    "# Install Voyager from Bioconductor:\n",
    "install.packages(\"BiocManager\")\n",
    "BiocManager::install(version = \"3.17\", ask = FALSE, update = FALSE, Ncpus = 2)\n",
    "BiocManager::install(\"scater\")\n",
    "system.time(\n",
    "  BiocManager::install(\"Voyager\", dependencies = TRUE, Ncpus = 2, update = FALSE)\n",
    ")\n",
    "\n",
    "# Additional dependencies for this notebook\n",
    "install.packages(\"reticulate\")\n",
    "system(\"pip3 install gget\")\n",
    "packageVersion(\"Voyager\")"
   ]
  },
  {
   "cell_type": "markdown",
<<<<<<< HEAD
<<<<<<< HEAD
   "id": "f754a385",
||||||| d29fab7
   "id": "164bfe27",
=======
   "id": "1c680c97",
>>>>>>> documentation-devel
||||||| 565f7a7
   "id": "f754a385",
=======
   "id": "ac62d118",
>>>>>>> e08844e1a91b8e98d8bdd4d0244954bda0b7215b
   "metadata": {
    "lines_to_next_cell": 0
   },
   "source": [
    "# Introduction\n",
    "\n",
    "For areal spatial data, the spatial neighborhood graph is used to indicate proximity, and is required for all spatial analysis methods in the package `spdep`. One of the methods to find the spatial neighborhood graph is k nearest neighbors, which is also commonly used in gene expression PCA space for graph-based clustering of cells in non-spatial scRNA-seq data. Then what if we use the k nearest neighbors graph in PCA space rather than histological space for \"spatial\" analyses for non-spatial scRNA-seq data?\n",
    "\n",
    "Here we try such an analysis on a human peripheral blood mononuclear cells (PBMC) scRNA-seq dataset, which doesn't originally have histological spatial organization. These are the packages loaded for the analysis:"
   ]
  },
  {
   "cell_type": "code",
   "execution_count": null,
<<<<<<< HEAD
<<<<<<< HEAD
   "id": "674bc5e7",
||||||| d29fab7
   "id": "f0e07b3e",
=======
   "id": "412b1c16",
>>>>>>> documentation-devel
||||||| 565f7a7
   "id": "674bc5e7",
=======
   "id": "73f6593d",
>>>>>>> e08844e1a91b8e98d8bdd4d0244954bda0b7215b
   "metadata": {
    "name": "setup"
   },
   "outputs": [],
   "source": [
    "library(Voyager)\n",
    "library(SpatialFeatureExperiment)\n",
    "library(SpatialExperiment)\n",
    "library(DropletUtils)\n",
    "library(BiocNeighbors)\n",
    "library(scater)\n",
    "library(scran)\n",
    "library(bluster)\n",
    "library(BiocParallel)\n",
    "library(scuttle)\n",
    "library(stringr)\n",
    "library(BiocSingular)\n",
    "library(spdep)\n",
    "library(patchwork)\n",
    "library(dplyr)\n",
    "library(reticulate)\n",
    "theme_set(theme_bw())"
   ]
  },
  {
   "cell_type": "code",
   "execution_count": null,
<<<<<<< HEAD
<<<<<<< HEAD
   "id": "82179913",
||||||| d29fab7
   "id": "a8cac3a0",
=======
   "id": "9b11a8a0",
>>>>>>> documentation-devel
||||||| 565f7a7
   "id": "82179913",
=======
   "id": "271c5303",
>>>>>>> e08844e1a91b8e98d8bdd4d0244954bda0b7215b
   "metadata": {},
   "outputs": [],
   "source": [
    "# Specify Python version to use gget\n",
    "PY_PATH <- Sys.which(\"python\")\n",
    "use_python(PY_PATH)\n",
    "py_config()\n",
    "\n",
    "# Load gget\n",
    "gget <- import(\"gget\")"
   ]
  },
  {
   "cell_type": "markdown",
<<<<<<< HEAD
<<<<<<< HEAD
   "id": "d76a2410",
||||||| d29fab7
   "id": "2f935933",
=======
   "id": "68b66d20",
>>>>>>> documentation-devel
||||||| 565f7a7
   "id": "d76a2410",
=======
   "id": "93e22264",
>>>>>>> e08844e1a91b8e98d8bdd4d0244954bda0b7215b
   "metadata": {},
   "source": [
    "Here we download the filtered [Cell Ranger gene count matrix from the 10X website](https://support.10xgenomics.com/single-cell-gene-expression/datasets/3.0.2/5k_pbmc_v3_nextgem?). The empty droplets have already been removed."
   ]
  },
  {
   "cell_type": "code",
   "execution_count": null,
<<<<<<< HEAD
<<<<<<< HEAD
   "id": "4a405835",
||||||| d29fab7
   "id": "177d73cd",
=======
   "id": "0cc08049",
>>>>>>> documentation-devel
||||||| 565f7a7
   "id": "4a405835",
=======
   "id": "b337d9ae",
>>>>>>> e08844e1a91b8e98d8bdd4d0244954bda0b7215b
   "metadata": {},
   "outputs": [],
   "source": [
    "if (!dir.exists(\"filtered_feature_bc_matrix\")) {\n",
    "    download.file(\"https://cf.10xgenomics.com/samples/cell-exp/3.0.2/5k_pbmc_v3_nextgem/5k_pbmc_v3_nextgem_filtered_feature_bc_matrix.tar.gz\", destfile = \"5kpbmc.tar.gz\", quiet = TRUE)\n",
    "    system(\"tar -xzf 5kpbmc.tar.gz\")\n",
    "}"
   ]
  },
  {
   "cell_type": "markdown",
<<<<<<< HEAD
<<<<<<< HEAD
   "id": "f6bfc889",
||||||| d29fab7
   "id": "0dfe9286",
=======
   "id": "8cb16389",
>>>>>>> documentation-devel
||||||| 565f7a7
   "id": "f6bfc889",
=======
   "id": "ba170d24",
>>>>>>> e08844e1a91b8e98d8bdd4d0244954bda0b7215b
   "metadata": {
    "lines_to_next_cell": 0
   },
   "source": [
    "This is loaded into R as a `SingleCellExperiment` (SCE) object."
   ]
  },
  {
   "cell_type": "code",
   "execution_count": null,
<<<<<<< HEAD
<<<<<<< HEAD
   "id": "9d11e704",
||||||| d29fab7
   "id": "6f0f3488",
=======
   "id": "8b234ba5",
>>>>>>> documentation-devel
||||||| 565f7a7
   "id": "9d11e704",
=======
   "id": "1ba2d076",
>>>>>>> e08844e1a91b8e98d8bdd4d0244954bda0b7215b
   "metadata": {},
   "outputs": [],
   "source": [
    "(sce <- read10xCounts(\"filtered_feature_bc_matrix/\"))"
   ]
  },
  {
   "cell_type": "code",
   "execution_count": null,
<<<<<<< HEAD
<<<<<<< HEAD
   "id": "4ccc836f",
||||||| d29fab7
   "id": "e6fe8744",
=======
   "id": "b23b78e8",
>>>>>>> documentation-devel
||||||| 565f7a7
   "id": "4ccc836f",
=======
   "id": "e0ac08ab",
>>>>>>> e08844e1a91b8e98d8bdd4d0244954bda0b7215b
   "metadata": {},
   "outputs": [],
   "source": [
    "colnames(sce) <- sce$Barcode"
   ]
  },
  {
   "cell_type": "markdown",
<<<<<<< HEAD
<<<<<<< HEAD
   "id": "619a8f4b",
||||||| d29fab7
   "id": "f82d71dc",
=======
   "id": "24ca591b",
>>>>>>> documentation-devel
||||||| 565f7a7
   "id": "619a8f4b",
=======
   "id": "c3d8b202",
>>>>>>> e08844e1a91b8e98d8bdd4d0244954bda0b7215b
   "metadata": {
    "lines_to_next_cell": 0
   },
   "source": [
    "# Quality control (QC)\n",
    "Here we perform some basic QC, to remove low quality cells with high proportion of mitochondrially encoded counts. "
   ]
  },
  {
   "cell_type": "code",
   "execution_count": null,
<<<<<<< HEAD
<<<<<<< HEAD
   "id": "a2524779",
||||||| d29fab7
   "id": "b242d3ac",
=======
   "id": "e4a6dae5",
>>>>>>> documentation-devel
||||||| 565f7a7
   "id": "a2524779",
=======
   "id": "79cc59b2",
>>>>>>> e08844e1a91b8e98d8bdd4d0244954bda0b7215b
   "metadata": {},
   "outputs": [],
   "source": [
    "is_mito <- str_detect(rowData(sce)$Symbol, \"^MT-\")\n",
    "sum(is_mito)"
   ]
  },
  {
   "cell_type": "code",
   "execution_count": null,
<<<<<<< HEAD
<<<<<<< HEAD
   "id": "d275ebd8",
||||||| d29fab7
   "id": "a0c3e7ec",
=======
   "id": "e911255a",
>>>>>>> documentation-devel
||||||| 565f7a7
   "id": "d275ebd8",
=======
   "id": "7cf2d20c",
>>>>>>> e08844e1a91b8e98d8bdd4d0244954bda0b7215b
   "metadata": {},
   "outputs": [],
   "source": [
    "sce <- addPerCellQCMetrics(sce, subsets = list(mito = is_mito))\n",
    "names(colData(sce))"
   ]
  },
  {
   "cell_type": "markdown",
<<<<<<< HEAD
<<<<<<< HEAD
   "id": "1933b987",
||||||| d29fab7
   "id": "f55ccde5",
=======
   "id": "856079ae",
>>>>>>> documentation-devel
||||||| 565f7a7
   "id": "1933b987",
=======
   "id": "7d0e88a5",
>>>>>>> e08844e1a91b8e98d8bdd4d0244954bda0b7215b
   "metadata": {},
   "source": [
    "The `addPerCellQCMetrics()` function computes the total UMI counts detected per cell (`sum`), number of genes detected per cell (`detected`), `sum` and `detected` for mitochondrial counts, and percentage of mitochondrial counts per cell."
   ]
  },
  {
   "cell_type": "code",
   "execution_count": null,
<<<<<<< HEAD
<<<<<<< HEAD
   "id": "91eb0aa2",
||||||| d29fab7
   "id": "d5f6d284",
=======
   "id": "512ca539",
>>>>>>> documentation-devel
||||||| 565f7a7
   "id": "91eb0aa2",
=======
   "id": "05f1955b",
>>>>>>> e08844e1a91b8e98d8bdd4d0244954bda0b7215b
   "metadata": {},
   "outputs": [],
   "source": [
    "plotColData(sce, \"sum\") +\n",
    "    plotColData(sce, \"detected\") +\n",
    "    plotColData(sce, \"subsets_mito_percent\")"
   ]
  },
  {
   "cell_type": "markdown",
<<<<<<< HEAD
<<<<<<< HEAD
   "id": "6b5915dc",
||||||| d29fab7
   "id": "475d7681",
=======
   "id": "f28da816",
>>>>>>> documentation-devel
||||||| 565f7a7
   "id": "6b5915dc",
=======
   "id": "4fdbc4b0",
>>>>>>> e08844e1a91b8e98d8bdd4d0244954bda0b7215b
   "metadata": {
    "lines_to_next_cell": 0
   },
   "source": [
    "Here a 2D histogram is plotted to better show point density on the plot."
   ]
  },
  {
   "cell_type": "code",
   "execution_count": null,
<<<<<<< HEAD
<<<<<<< HEAD
   "id": "b3bc104a",
||||||| d29fab7
   "id": "e581f6a8",
=======
   "id": "e30bbbfe",
>>>>>>> documentation-devel
||||||| 565f7a7
   "id": "b3bc104a",
=======
   "id": "a3ca28ad",
>>>>>>> e08844e1a91b8e98d8bdd4d0244954bda0b7215b
   "metadata": {},
   "outputs": [],
   "source": [
    "plotColDataBin2D(sce, x = \"sum\", y = \"detected\")"
   ]
  },
  {
   "cell_type": "code",
   "execution_count": null,
<<<<<<< HEAD
<<<<<<< HEAD
   "id": "3f6c8f7e",
||||||| d29fab7
   "id": "417ea27d",
=======
   "id": "073f2680",
>>>>>>> documentation-devel
||||||| 565f7a7
   "id": "3f6c8f7e",
=======
   "id": "5b2c23c0",
>>>>>>> e08844e1a91b8e98d8bdd4d0244954bda0b7215b
   "metadata": {},
   "outputs": [],
   "source": [
    "plotColDataBin2D(sce, x = \"sum\", y = \"subsets_mito_percent\")"
   ]
  },
  {
   "cell_type": "markdown",
<<<<<<< HEAD
<<<<<<< HEAD
   "id": "a2e08fb5",
||||||| d29fab7
   "id": "72ed373e",
=======
   "id": "ba7b2b16",
>>>>>>> documentation-devel
||||||| 565f7a7
   "id": "a2e08fb5",
=======
   "id": "4ccc4272",
>>>>>>> e08844e1a91b8e98d8bdd4d0244954bda0b7215b
   "metadata": {
    "lines_to_next_cell": 0
   },
   "source": [
    "Remove cells with >20% mitochondrial counts"
   ]
  },
  {
   "cell_type": "code",
   "execution_count": null,
<<<<<<< HEAD
<<<<<<< HEAD
   "id": "6995f41f",
||||||| d29fab7
   "id": "09162034",
=======
   "id": "0ebf1997",
>>>>>>> documentation-devel
||||||| 565f7a7
   "id": "6995f41f",
=======
   "id": "12234b57",
>>>>>>> e08844e1a91b8e98d8bdd4d0244954bda0b7215b
   "metadata": {},
   "outputs": [],
   "source": [
    "sce <- sce[, sce$subsets_mito_percent < 20]\n",
    "sce <- sce[rowSums(counts(sce)) > 0,]"
   ]
  },
  {
   "cell_type": "markdown",
<<<<<<< HEAD
<<<<<<< HEAD
   "id": "6b4b1fe9",
||||||| d29fab7
   "id": "b1cf3a68",
=======
   "id": "ee41bb79",
>>>>>>> documentation-devel
||||||| 565f7a7
   "id": "6b4b1fe9",
=======
   "id": "f0cd7614",
>>>>>>> e08844e1a91b8e98d8bdd4d0244954bda0b7215b
   "metadata": {
    "lines_to_next_cell": 0
   },
   "source": [
    "# Basic non-spatial analyses\n",
    "Here we normalize the data, perform PCA, cluster the cells, and find marker genes for the clusters."
   ]
  },
  {
   "cell_type": "code",
   "execution_count": null,
<<<<<<< HEAD
<<<<<<< HEAD
   "id": "0e71581a",
||||||| d29fab7
   "id": "c7130950",
=======
   "id": "b42f69b7",
>>>>>>> documentation-devel
||||||| 565f7a7
   "id": "0e71581a",
=======
   "id": "53f86d1e",
>>>>>>> e08844e1a91b8e98d8bdd4d0244954bda0b7215b
   "metadata": {},
   "outputs": [],
   "source": [
    "#clusts <- quickCluster(sce)\n",
    "#sce <- computeSumFactors(sce, cluster = clusts)\n",
    "#sce <- sce[, sizeFactors(sce) > 0]\n",
    "sce <- logNormCounts(sce)"
   ]
  },
  {
   "cell_type": "markdown",
<<<<<<< HEAD
<<<<<<< HEAD
   "id": "7b7dd18d",
||||||| d29fab7
   "id": "0ed30667",
=======
   "id": "3ba9e64d",
>>>>>>> documentation-devel
||||||| 565f7a7
   "id": "7b7dd18d",
=======
   "id": "99654d10",
>>>>>>> e08844e1a91b8e98d8bdd4d0244954bda0b7215b
   "metadata": {
    "lines_to_next_cell": 0
   },
   "source": [
    "Use the highly variable genes for PCA:"
   ]
  },
  {
   "cell_type": "code",
   "execution_count": null,
<<<<<<< HEAD
<<<<<<< HEAD
   "id": "01ceae3d",
||||||| d29fab7
   "id": "90bee02e",
=======
   "id": "15086edc",
>>>>>>> documentation-devel
||||||| 565f7a7
   "id": "01ceae3d",
=======
   "id": "7af58731",
>>>>>>> e08844e1a91b8e98d8bdd4d0244954bda0b7215b
   "metadata": {},
   "outputs": [],
   "source": [
    "dec <- modelGeneVar(sce, lowess = FALSE)\n",
    "hvgs <- getTopHVGs(dec, n = 2000)"
   ]
  },
  {
   "cell_type": "code",
   "execution_count": null,
<<<<<<< HEAD
<<<<<<< HEAD
   "id": "cb6d3c62",
||||||| d29fab7
   "id": "eef351a4",
=======
   "id": "9aa6da4e",
>>>>>>> documentation-devel
||||||| 565f7a7
   "id": "cb6d3c62",
=======
   "id": "7a9b6878",
>>>>>>> e08844e1a91b8e98d8bdd4d0244954bda0b7215b
   "metadata": {},
   "outputs": [],
   "source": [
    "set.seed(29)\n",
    "sce <- runPCA(sce, ncomponents = 30, BSPARAM = IrlbaParam(),\n",
    "              subset_row = hvgs, scale = TRUE)"
   ]
  },
  {
   "cell_type": "markdown",
<<<<<<< HEAD
<<<<<<< HEAD
   "id": "eb447647",
||||||| d29fab7
   "id": "426c69bc",
=======
   "id": "d6614481",
>>>>>>> documentation-devel
||||||| 565f7a7
   "id": "eb447647",
=======
   "id": "06e1ed05",
>>>>>>> e08844e1a91b8e98d8bdd4d0244954bda0b7215b
   "metadata": {
    "lines_to_next_cell": 0
   },
   "source": [
    "How many PCs shall we use for further analyses?"
   ]
  },
  {
   "cell_type": "code",
   "execution_count": null,
<<<<<<< HEAD
<<<<<<< HEAD
   "id": "1bebb553",
||||||| d29fab7
   "id": "f9662853",
=======
   "id": "67e3f240",
>>>>>>> documentation-devel
||||||| 565f7a7
   "id": "1bebb553",
=======
   "id": "74e2f4e5",
>>>>>>> e08844e1a91b8e98d8bdd4d0244954bda0b7215b
   "metadata": {},
   "outputs": [],
   "source": [
    "ElbowPlot(sce, ndims = 30)"
   ]
  },
  {
   "cell_type": "markdown",
<<<<<<< HEAD
<<<<<<< HEAD
   "id": "c1f79ba1",
||||||| d29fab7
   "id": "0acf3f5b",
=======
   "id": "61d271a1",
>>>>>>> documentation-devel
||||||| 565f7a7
   "id": "c1f79ba1",
=======
   "id": "49d96c73",
>>>>>>> e08844e1a91b8e98d8bdd4d0244954bda0b7215b
   "metadata": {},
   "source": [
    "Variance explained drops sharply from PC1 and again from PC4 and then levels off. Plot genes with the largest loadings of the top 4 PCs:"
   ]
  },
  {
   "cell_type": "code",
   "execution_count": null,
<<<<<<< HEAD
<<<<<<< HEAD
   "id": "03b54935",
||||||| d29fab7
   "id": "a262fc72",
=======
   "id": "8be1fc90",
>>>>>>> documentation-devel
||||||| 565f7a7
   "id": "03b54935",
=======
   "id": "9dacb427",
>>>>>>> e08844e1a91b8e98d8bdd4d0244954bda0b7215b
   "metadata": {
    "lines_to_next_cell": 2
   },
   "outputs": [],
   "source": [
    "plotDimLoadings(sce, swap_rownames = \"Symbol\")"
   ]
  },
  {
   "cell_type": "markdown",
<<<<<<< HEAD
<<<<<<< HEAD
   "id": "197118f8",
||||||| d29fab7
   "id": "fcb03b31",
=======
   "id": "c30c2cdb",
>>>>>>> documentation-devel
||||||| 565f7a7
   "id": "197118f8",
=======
   "id": "f17694d7",
>>>>>>> e08844e1a91b8e98d8bdd4d0244954bda0b7215b
   "metadata": {},
   "source": [
    "To keep a little more information, we use 10 PCs, after which variance explained levels off even more."
   ]
  },
  {
   "cell_type": "code",
   "execution_count": null,
<<<<<<< HEAD
<<<<<<< HEAD
   "id": "b0ceefba",
||||||| d29fab7
   "id": "c3cee3b3",
=======
   "id": "4300893c",
>>>>>>> documentation-devel
||||||| 565f7a7
   "id": "b0ceefba",
=======
   "id": "b0add750",
>>>>>>> e08844e1a91b8e98d8bdd4d0244954bda0b7215b
   "metadata": {},
   "outputs": [],
   "source": [
    "sce$cluster <- clusterRows(reducedDim(sce, \"PCA\")[,1:10],\n",
    "                           BLUSPARAM = SNNGraphParam(cluster.fun = \"leiden\",\n",
    "                                                     k = 10,\n",
    "                                                     cluster.args = list(\n",
    "                                                         resolution=0.5,\n",
    "                                                         objective_function = \"modularity\"\n",
    "                                                     )))"
   ]
  },
  {
   "cell_type": "markdown",
<<<<<<< HEAD
<<<<<<< HEAD
   "id": "64deaf21",
||||||| d29fab7
   "id": "56536572",
=======
   "id": "b255e7e5",
>>>>>>> documentation-devel
||||||| 565f7a7
   "id": "64deaf21",
=======
   "id": "caa6719c",
>>>>>>> e08844e1a91b8e98d8bdd4d0244954bda0b7215b
   "metadata": {},
   "source": [
    "Here we plot the cells in the first 4 PCs in a matrix plot. The diagonals are density plots of the number of cells as projected on each PC. The x axis should correspond to the columns of the matrix plot, and the y axis should correspond to the rows, so the plot in row 1 column 2 has PC2 in the x axis and PC1 in the y axis. The cells are colored by clusters found in the previous code chunk."
   ]
  },
  {
   "cell_type": "code",
   "execution_count": null,
<<<<<<< HEAD
<<<<<<< HEAD
   "id": "4611728c",
||||||| d29fab7
   "id": "37cbc861",
=======
   "id": "d29d3d28",
>>>>>>> documentation-devel
||||||| 565f7a7
   "id": "4611728c",
=======
   "id": "df0e7b28",
>>>>>>> e08844e1a91b8e98d8bdd4d0244954bda0b7215b
   "metadata": {
    "fig.height": 9,
    "fig.width": 9
   },
   "outputs": [],
   "source": [
    "plotPCA(sce, ncomponents = 4, color_by = \"cluster\")"
   ]
  },
  {
   "cell_type": "markdown",
<<<<<<< HEAD
<<<<<<< HEAD
   "id": "ee93dae2",
||||||| d29fab7
   "id": "0c82a6f0",
=======
   "id": "259b85c4",
>>>>>>> documentation-devel
||||||| 565f7a7
   "id": "ee93dae2",
=======
   "id": "e6dfdecb",
>>>>>>> e08844e1a91b8e98d8bdd4d0244954bda0b7215b
   "metadata": {
    "lines_to_next_cell": 0
   },
   "source": [
    "How many cells are there in each cluster?"
   ]
  },
  {
   "cell_type": "code",
   "execution_count": null,
<<<<<<< HEAD
<<<<<<< HEAD
   "id": "8b167632",
||||||| d29fab7
   "id": "a9f9455f",
=======
   "id": "3fd61529",
>>>>>>> documentation-devel
||||||| 565f7a7
   "id": "8b167632",
=======
   "id": "0923de18",
>>>>>>> e08844e1a91b8e98d8bdd4d0244954bda0b7215b
   "metadata": {},
   "outputs": [],
   "source": [
    "table(sce$cluster)"
   ]
  },
  {
   "cell_type": "markdown",
<<<<<<< HEAD
<<<<<<< HEAD
   "id": "22105dd2",
||||||| d29fab7
   "id": "2ab1586b",
=======
   "id": "2b729128",
>>>>>>> documentation-devel
||||||| 565f7a7
   "id": "22105dd2",
=======
   "id": "dea386a4",
>>>>>>> e08844e1a91b8e98d8bdd4d0244954bda0b7215b
   "metadata": {
    "lines_to_next_cell": 0
   },
   "source": [
    "Then we use the conventional Wilcoxon rank sum test to find marker genes for each cluster. The test compares each cluster to the rest of the cells, and only genes more highly expressed in the cluster compared to the other cells are considered. The result is a list of data frames, where each data frame corresponds to one cluster. Areas under the receiver operator curve (AUC), distinguishing each cluster vs. any other cluster, are also included. The closer to 1 the better, while 0.5 means no better than random guessing. The false discovery rate (FDR) column contains the Benjamini-Hochberg corrected p-values. Genes in these data frames are already sorted by p-values."
   ]
  },
  {
   "cell_type": "code",
   "execution_count": null,
<<<<<<< HEAD
<<<<<<< HEAD
   "id": "0d03f4ac",
||||||| d29fab7
   "id": "cbf218a1",
=======
   "id": "a1b46666",
>>>>>>> documentation-devel
||||||| 565f7a7
   "id": "0d03f4ac",
=======
   "id": "16b405d4",
>>>>>>> e08844e1a91b8e98d8bdd4d0244954bda0b7215b
   "metadata": {
    "lines_to_next_cell": 2
   },
   "outputs": [],
   "source": [
    "markers <- findMarkers(sce, groups = colData(sce)$cluster,\n",
    "                       test.type = \"wilcox\", pval.type = \"all\", direction = \"up\")\n",
    "markers[[4]]"
   ]
  },
  {
   "cell_type": "markdown",
<<<<<<< HEAD
<<<<<<< HEAD
   "id": "87644a00",
||||||| d29fab7
   "id": "b17702e6",
=======
   "id": "a3b0f5a8",
>>>>>>> documentation-devel
||||||| 565f7a7
   "id": "87644a00",
=======
   "id": "4a939f25",
>>>>>>> e08844e1a91b8e98d8bdd4d0244954bda0b7215b
   "metadata": {},
   "source": [
    "See how specific the top markers are to each cluster:"
   ]
  },
  {
   "cell_type": "code",
   "execution_count": null,
<<<<<<< HEAD
<<<<<<< HEAD
   "id": "4a4d514a",
||||||| d29fab7
   "id": "cbb584f0",
=======
   "id": "61fdbe97",
>>>>>>> documentation-devel
||||||| 565f7a7
   "id": "4a4d514a",
=======
   "id": "1aab83a0",
>>>>>>> e08844e1a91b8e98d8bdd4d0244954bda0b7215b
   "metadata": {},
   "outputs": [],
   "source": [
    "top_markers <- unlist(lapply(markers, function(x) head(rownames(x), 1)))\n",
    "top_markers_symbol <- rowData(sce)[top_markers, \"Symbol\"]"
   ]
  },
  {
   "cell_type": "code",
   "execution_count": null,
<<<<<<< HEAD
<<<<<<< HEAD
   "id": "c9f7b224",
||||||| d29fab7
   "id": "3622febf",
=======
   "id": "7ef863c1",
>>>>>>> documentation-devel
||||||| 565f7a7
   "id": "c9f7b224",
=======
   "id": "53367f3f",
>>>>>>> e08844e1a91b8e98d8bdd4d0244954bda0b7215b
   "metadata": {},
   "outputs": [],
   "source": [
    "plotExpression(sce, top_markers_symbol, x = \"cluster\", swap_rownames = \"Symbol\",\n",
    "               point_fun = function(...) list())"
   ]
  },
  {
   "cell_type": "markdown",
<<<<<<< HEAD
<<<<<<< HEAD
   "id": "0e9aa7cf",
||||||| d29fab7
   "id": "54eb5622",
=======
   "id": "6a9ba427",
>>>>>>> documentation-devel
||||||| 565f7a7
   "id": "0e9aa7cf",
=======
   "id": "92eb4a18",
>>>>>>> e08844e1a91b8e98d8bdd4d0244954bda0b7215b
   "metadata": {
    "lines_to_next_cell": 0
   },
   "source": [
    "We can use the [gget info](https://pachterlab.github.io/gget/info.html) module from the [gget](https://pachterlab.github.io/gget/) package to get additional information for these marker genes. For example, their [NCBI](https://www.ncbi.nlm.nih.gov/) description:"
   ]
  },
  {
   "cell_type": "code",
   "execution_count": null,
<<<<<<< HEAD
<<<<<<< HEAD
   "id": "36b0f14b",
||||||| d29fab7
   "id": "3408124d",
=======
   "id": "4773f485",
>>>>>>> documentation-devel
||||||| 565f7a7
   "id": "36b0f14b",
=======
   "id": "a04935d0",
>>>>>>> e08844e1a91b8e98d8bdd4d0244954bda0b7215b
   "metadata": {},
   "outputs": [],
   "source": [
    "gget_info <- gget$info(top_markers)\n",
    "\n",
    "rownames(gget_info) <- gget_info$ensembl_gene_name\n",
    "select(gget_info, ncbi_description)"
   ]
  },
  {
   "cell_type": "markdown",
<<<<<<< HEAD
<<<<<<< HEAD
   "id": "80b59d17",
||||||| d29fab7
   "id": "e239980d",
=======
   "id": "5bc2d1de",
>>>>>>> documentation-devel
||||||| 565f7a7
   "id": "80b59d17",
=======
   "id": "80c35897",
>>>>>>> e08844e1a91b8e98d8bdd4d0244954bda0b7215b
   "metadata": {
    "lines_to_next_cell": 0
   },
   "source": [
    "# \"Spatial\" analyses for QC metrics\n",
    "Find k nearest neighbor graph in PCA space for Moran's I: We are not using `spdep` here since its `nb2listwdist()` function for distance based edge weighting requires 2-3 dimensional spatial coordinates while the coordinates here have 10 dimensions. Here, inverse distance weighting is used for edge weights."
   ]
  },
  {
   "cell_type": "code",
   "execution_count": null,
<<<<<<< HEAD
<<<<<<< HEAD
   "id": "bc39e885",
||||||| d29fab7
   "id": "2744cbac",
=======
   "id": "3244b484",
>>>>>>> documentation-devel
||||||| 565f7a7
   "id": "bc39e885",
=======
   "id": "84cddb37",
>>>>>>> e08844e1a91b8e98d8bdd4d0244954bda0b7215b
   "metadata": {},
   "outputs": [],
   "source": [
    "foo <- findKNN(reducedDim(sce, \"PCA\")[,1:10], k=10, BNPARAM=AnnoyParam())\n",
    "# Split by row\n",
    "foo_nb <- asplit(foo$index, 1)\n",
    "dmat <- 1/foo$distance\n",
    "# Row normalize the weights\n",
    "dmat <- sweep(dmat, 1, rowSums(dmat), FUN = \"/\")\n",
    "glist <- asplit(dmat, 1)\n",
    "# Sort based on index\n",
    "ord <- lapply(foo_nb, order)\n",
    "foo_nb <- lapply(seq_along(foo_nb), function(i) foo_nb[[i]][ord[[i]]])\n",
    "class(foo_nb) <- \"nb\"\n",
    "glist <- lapply(seq_along(glist), function(i) glist[[i]][ord[[i]]])\n",
    "\n",
    "listw <- list(style = \"W\",\n",
    "              neighbours = foo_nb,\n",
    "              weights = glist)\n",
    "class(listw) <- \"listw\"\n",
    "attr(listw, \"region.id\") <- colnames(sce)"
   ]
  },
  {
   "cell_type": "markdown",
<<<<<<< HEAD
<<<<<<< HEAD
   "id": "9c0d9041",
||||||| d29fab7
   "id": "4f9ce6c5",
=======
   "id": "8354ea91",
>>>>>>> documentation-devel
||||||| 565f7a7
   "id": "9c0d9041",
=======
   "id": "7200e4f8",
>>>>>>> e08844e1a91b8e98d8bdd4d0244954bda0b7215b
   "metadata": {
    "lines_to_next_cell": 0
   },
   "source": [
    "Because there is no histological space, we convert the SCE object into `SpatialFeatureExperiment` (SFE) to use the spatial analysis and plotting functions from `Voyager`, and pretend that the first 2 PCs are the histological space."
   ]
  },
  {
   "cell_type": "code",
   "execution_count": null,
<<<<<<< HEAD
<<<<<<< HEAD
   "id": "a301e10c",
||||||| d29fab7
   "id": "fc83cac5",
=======
   "id": "4b451f1c",
>>>>>>> documentation-devel
||||||| 565f7a7
   "id": "a301e10c",
=======
   "id": "5efc048e",
>>>>>>> e08844e1a91b8e98d8bdd4d0244954bda0b7215b
   "metadata": {},
   "outputs": [],
   "source": [
    "(sfe <- toSpatialFeatureExperiment(sce, spatialCoords = reducedDim(sce, \"PCA\")[,1:2],\n",
    "                                  spatialCoordsNames = NULL))"
   ]
  },
  {
   "cell_type": "markdown",
<<<<<<< HEAD
<<<<<<< HEAD
   "id": "b666f02f",
||||||| d29fab7
   "id": "9a6498ca",
=======
   "id": "529eb9f3",
>>>>>>> documentation-devel
||||||| 565f7a7
   "id": "b666f02f",
=======
   "id": "c1b33993",
>>>>>>> e08844e1a91b8e98d8bdd4d0244954bda0b7215b
   "metadata": {
    "lines_to_next_cell": 0
   },
   "source": [
    "Add the k nearest neighbor graph to the SFE object:"
   ]
  },
  {
   "cell_type": "code",
   "execution_count": null,
<<<<<<< HEAD
<<<<<<< HEAD
   "id": "dd59ffd3",
||||||| d29fab7
   "id": "300fdd7f",
=======
   "id": "2844ef99",
>>>>>>> documentation-devel
||||||| 565f7a7
   "id": "dd59ffd3",
=======
   "id": "76e87dd7",
>>>>>>> e08844e1a91b8e98d8bdd4d0244954bda0b7215b
   "metadata": {},
   "outputs": [],
   "source": [
    "colGraph(sfe, \"knn10\") <- listw"
   ]
  },
  {
   "cell_type": "markdown",
<<<<<<< HEAD
<<<<<<< HEAD
   "id": "c7ad391b",
||||||| d29fab7
   "id": "e9a11ded",
=======
   "id": "dd3afe9e",
>>>>>>> documentation-devel
||||||| 565f7a7
   "id": "c7ad391b",
=======
   "id": "6b77d61c",
>>>>>>> e08844e1a91b8e98d8bdd4d0244954bda0b7215b
   "metadata": {
    "lines_to_next_cell": 0
   },
   "source": [
    "## Moran's I"
   ]
  },
  {
   "cell_type": "code",
   "execution_count": null,
<<<<<<< HEAD
<<<<<<< HEAD
   "id": "17d5517b",
||||||| d29fab7
   "id": "b29f8730",
=======
   "id": "609c826e",
>>>>>>> documentation-devel
||||||| 565f7a7
   "id": "17d5517b",
=======
   "id": "7a66a3e5",
>>>>>>> e08844e1a91b8e98d8bdd4d0244954bda0b7215b
   "metadata": {},
   "outputs": [],
   "source": [
    "sfe <- colDataMoransI(sfe, c(\"sum\", \"detected\", \"subsets_mito_percent\"))\n",
    "colFeatureData(sfe)[c(\"sum\", \"detected\", \"subsets_mito_percent\"),]"
   ]
  },
  {
   "cell_type": "markdown",
<<<<<<< HEAD
<<<<<<< HEAD
   "id": "84b29592",
||||||| d29fab7
   "id": "3a364352",
=======
   "id": "59c946d8",
>>>>>>> documentation-devel
||||||| 565f7a7
   "id": "84b29592",
=======
   "id": "13b989df",
>>>>>>> e08844e1a91b8e98d8bdd4d0244954bda0b7215b
   "metadata": {
    "lines_to_next_cell": 0
   },
   "source": [
    "For total UMI counts (sum) and genes detected (detected), Moran's I is quite strong, while it's positive but weaker for percentage of mitochondrial counts. The second column, K, is kurtosis of the feature of interest. \n",
    "\n",
    "## Moran plot\n",
    "\n",
    "How about the local variations on the k nearest neighbors graph? In the Moran plot, the x axis is the value for each cell, and the y axis is the average value among neighboring cells in the graph weighted by edge weights. The slope of the fitted line is Moran's I. Sometimes there are clusters in this plot, showing different kinds of neighborhoods."
   ]
  },
  {
   "cell_type": "code",
   "execution_count": null,
<<<<<<< HEAD
<<<<<<< HEAD
   "id": "660f7fda",
||||||| d29fab7
   "id": "5651d748",
=======
   "id": "bc6bee55",
>>>>>>> documentation-devel
||||||| 565f7a7
   "id": "660f7fda",
=======
   "id": "41102857",
>>>>>>> e08844e1a91b8e98d8bdd4d0244954bda0b7215b
   "metadata": {},
   "outputs": [],
   "source": [
    "sfe <- colDataUnivariate(sfe, \"moran.plot\", c(\"sum\", \"detected\", \"subsets_mito_percent\"))"
   ]
  },
  {
   "cell_type": "markdown",
<<<<<<< HEAD
<<<<<<< HEAD
   "id": "95547782",
||||||| d29fab7
   "id": "110ff22e",
=======
   "id": "39c6b195",
>>>>>>> documentation-devel
||||||| 565f7a7
   "id": "95547782",
=======
   "id": "a94b3ae4",
>>>>>>> e08844e1a91b8e98d8bdd4d0244954bda0b7215b
   "metadata": {
    "lines_to_next_cell": 0
   },
   "source": [
    "The dashed lines are the averages on the x and y axes."
   ]
  },
  {
   "cell_type": "code",
   "execution_count": null,
<<<<<<< HEAD
<<<<<<< HEAD
   "id": "9fadb905",
||||||| d29fab7
   "id": "11156475",
=======
   "id": "d672949f",
>>>>>>> documentation-devel
||||||| 565f7a7
   "id": "9fadb905",
=======
   "id": "5a17eedf",
>>>>>>> e08844e1a91b8e98d8bdd4d0244954bda0b7215b
   "metadata": {},
   "outputs": [],
   "source": [
    "moranPlot(sfe, \"sum\", color_by = \"cluster\")"
   ]
  },
  {
   "cell_type": "markdown",
<<<<<<< HEAD
<<<<<<< HEAD
   "id": "38b17fb2",
||||||| d29fab7
   "id": "b6397c01",
=======
   "id": "16de0485",
>>>>>>> documentation-devel
||||||| 565f7a7
   "id": "38b17fb2",
=======
   "id": "b86b4493",
>>>>>>> e08844e1a91b8e98d8bdd4d0244954bda0b7215b
   "metadata": {
    "lines_to_next_cell": 0
   },
   "source": [
    "While most cells are in the cluster around the average, there is a cluster of cells with lower total counts whose neighbors also have lower total counts. There also is a cluster of cells with higher total counts whose neighbors also have higher total counts. These clusters seem to be somewhat related to some gene expression based clusters."
   ]
  },
  {
   "cell_type": "code",
   "execution_count": null,
<<<<<<< HEAD
<<<<<<< HEAD
   "id": "898ee643",
||||||| d29fab7
   "id": "b3380444",
=======
   "id": "a7619de5",
>>>>>>> documentation-devel
||||||| 565f7a7
   "id": "898ee643",
=======
   "id": "f3ef8847",
>>>>>>> e08844e1a91b8e98d8bdd4d0244954bda0b7215b
   "metadata": {},
   "outputs": [],
   "source": [
    "moranPlot(sfe, \"detected\", color_by = \"cluster\")"
   ]
  },
  {
   "cell_type": "code",
   "execution_count": null,
<<<<<<< HEAD
<<<<<<< HEAD
   "id": "a4a46575",
||||||| d29fab7
   "id": "f7e788dc",
=======
   "id": "979cef66",
>>>>>>> documentation-devel
||||||| 565f7a7
   "id": "a4a46575",
=======
   "id": "7f08a8d3",
>>>>>>> e08844e1a91b8e98d8bdd4d0244954bda0b7215b
   "metadata": {},
   "outputs": [],
   "source": [
    "moranPlot(sfe, \"subsets_mito_percent\", color_by = \"cluster\")"
   ]
  },
  {
   "cell_type": "markdown",
<<<<<<< HEAD
<<<<<<< HEAD
   "id": "b3023344",
||||||| d29fab7
   "id": "46e93015",
=======
   "id": "750f71bf",
>>>>>>> documentation-devel
||||||| 565f7a7
   "id": "b3023344",
=======
   "id": "79b2adc9",
>>>>>>> e08844e1a91b8e98d8bdd4d0244954bda0b7215b
   "metadata": {},
   "source": [
    "There is one main cluster on this plot for the number of genes detected and for the percentage of mitochondrial counts. However, cells are somewhat separated by gene expression clusters. This is not surprising because the gene expression clusters are also based on the k nearest neighbor graph. Cluster 4 cells have a higher percentage of mitochondrial counts and so do their neighbors. \n",
    "\n",
    "## Local Moran's I\n",
    "Also see local Moran's I for these 3 QC metrics:"
   ]
  },
  {
   "cell_type": "code",
   "execution_count": null,
<<<<<<< HEAD
<<<<<<< HEAD
   "id": "cf7d0592",
||||||| d29fab7
   "id": "098f1abf",
=======
   "id": "6bba52dd",
>>>>>>> documentation-devel
||||||| 565f7a7
   "id": "cf7d0592",
=======
   "id": "511606f1",
>>>>>>> e08844e1a91b8e98d8bdd4d0244954bda0b7215b
   "metadata": {},
   "outputs": [],
   "source": [
    "sfe <- colDataUnivariate(sfe, \"localmoran\", c(\"sum\", \"detected\", \"subsets_mito_percent\"))"
   ]
  },
  {
   "cell_type": "markdown",
<<<<<<< HEAD
<<<<<<< HEAD
   "id": "41774b1b",
||||||| d29fab7
   "id": "46413a72",
=======
   "id": "22c2b061",
>>>>>>> documentation-devel
||||||| 565f7a7
   "id": "41774b1b",
=======
   "id": "50f6e0d8",
>>>>>>> e08844e1a91b8e98d8bdd4d0244954bda0b7215b
   "metadata": {
    "lines_to_next_cell": 0
   },
   "source": [
    "Here, we don't have a histological space. So how can we visualize the local \"spatial\" statistics? [UMAP is bad](https://www.biorxiv.org/content/10.1101/2021.08.25.457696v1), but in this case PCA can somewhat separate the clusters. We can use the first 2 PCs as if they are the histological space. As a reference, we plot the metrics themselves and the clusters in the first 2 PCs. "
   ]
  },
  {
   "cell_type": "code",
   "execution_count": null,
<<<<<<< HEAD
<<<<<<< HEAD
   "id": "72292fe9",
||||||| d29fab7
   "id": "a8ac8583",
=======
   "id": "dcba213a",
>>>>>>> documentation-devel
||||||| 565f7a7
   "id": "72292fe9",
=======
   "id": "90b444c0",
>>>>>>> e08844e1a91b8e98d8bdd4d0244954bda0b7215b
   "metadata": {
    "fig.height": 6,
    "fig.width": 8
   },
   "outputs": [],
   "source": [
    "plotSpatialFeature(sfe, c(\"sum\", \"detected\", \"subsets_mito_percent\", \"cluster\"))"
   ]
  },
  {
   "cell_type": "markdown",
<<<<<<< HEAD
<<<<<<< HEAD
   "id": "c8ce47c7",
||||||| d29fab7
   "id": "9cda6443",
=======
   "id": "3e6c4cc3",
>>>>>>> documentation-devel
||||||| 565f7a7
   "id": "c8ce47c7",
=======
   "id": "0dee9986",
>>>>>>> e08844e1a91b8e98d8bdd4d0244954bda0b7215b
   "metadata": {
    "lines_to_next_cell": 0
   },
   "source": [
    "Plot the local Moran's I for these metrics in the first 2 PCs:"
   ]
  },
  {
   "cell_type": "code",
   "execution_count": null,
<<<<<<< HEAD
<<<<<<< HEAD
   "id": "5c94fb35",
||||||| d29fab7
   "id": "c1fa0b9d",
=======
   "id": "2c74010a",
>>>>>>> documentation-devel
||||||| 565f7a7
   "id": "5c94fb35",
=======
   "id": "de0bd41d",
>>>>>>> e08844e1a91b8e98d8bdd4d0244954bda0b7215b
   "metadata": {
    "fig.height": 6,
    "fig.width": 8
   },
   "outputs": [],
   "source": [
    "plotLocalResult(sfe, \"localmoran\", c(\"sum\", \"detected\", \"subsets_mito_percent\"), \n",
    "                colGeometryName = \"centroids\",\n",
    "                divergent = TRUE, diverge_center = 0, ncol = 2)"
   ]
  },
  {
   "cell_type": "markdown",
<<<<<<< HEAD
<<<<<<< HEAD
   "id": "f0a483d5",
||||||| d29fab7
   "id": "5f6f7e49",
=======
   "id": "a690be99",
>>>>>>> documentation-devel
||||||| 565f7a7
   "id": "f0a483d5",
=======
   "id": "5c40b31b",
>>>>>>> e08844e1a91b8e98d8bdd4d0244954bda0b7215b
   "metadata": {
    "lines_to_next_cell": 0
   },
   "source": [
    "However, what if there is no good 2D representation of the data for easy plotting? Remember that here the k nearest neighbor graph was computed on the first 10 PCs rather than the first 2 PCs. The graph is not tied to the 2D representation. We can still plot histograms to show the distribution and scatter plots to compare the same local metric for different variables, which can be colored by another variable such as cluster. This may be added to the next release of Voyager. For now, we add the results of interest to `colData(sfe)` and use the existing `colData` plotting functions from `scater` and `Voyager`."
   ]
  },
  {
   "cell_type": "code",
   "execution_count": null,
<<<<<<< HEAD
<<<<<<< HEAD
   "id": "69d6278b",
||||||| d29fab7
   "id": "d5fa9492",
=======
   "id": "7239f41f",
>>>>>>> documentation-devel
||||||| 565f7a7
   "id": "69d6278b",
=======
   "id": "e8a6abc1",
>>>>>>> e08844e1a91b8e98d8bdd4d0244954bda0b7215b
   "metadata": {},
   "outputs": [],
   "source": [
    "localResultAttrs(sfe, \"localmoran\", \"sum\")"
   ]
  },
  {
   "cell_type": "code",
   "execution_count": null,
<<<<<<< HEAD
<<<<<<< HEAD
   "id": "b5e44ea0",
||||||| d29fab7
   "id": "71167875",
=======
   "id": "7e2247c5",
>>>>>>> documentation-devel
||||||| 565f7a7
   "id": "b5e44ea0",
=======
   "id": "336e8e53",
>>>>>>> e08844e1a91b8e98d8bdd4d0244954bda0b7215b
   "metadata": {},
   "outputs": [],
   "source": [
    "sfe$sum_localmoran <- localResult(sfe, \"localmoran\", \"sum\")[,\"Ii\"]\n",
    "sfe$detected_localmoran <- localResult(sfe, \"localmoran\", \"detected\")[,\"Ii\"]\n",
    "sfe$pct_mito_localmoran <- localResult(sfe, \"localmoran\", \"subsets_mito_percent\")[,\"Ii\"]"
   ]
  },
  {
   "cell_type": "code",
   "execution_count": null,
<<<<<<< HEAD
<<<<<<< HEAD
   "id": "67e236e6",
||||||| d29fab7
   "id": "6f17e0a3",
=======
   "id": "66263d52",
>>>>>>> documentation-devel
||||||| 565f7a7
   "id": "67e236e6",
=======
   "id": "73930696",
>>>>>>> e08844e1a91b8e98d8bdd4d0244954bda0b7215b
   "metadata": {},
   "outputs": [],
   "source": [
    "# Colorblind friendly palette\n",
    "data(\"ditto_colors\")"
   ]
  },
  {
   "cell_type": "code",
   "execution_count": null,
<<<<<<< HEAD
<<<<<<< HEAD
   "id": "0b1eacc0",
||||||| d29fab7
   "id": "33b6dba2",
=======
   "id": "f3da5319",
>>>>>>> documentation-devel
||||||| 565f7a7
   "id": "0b1eacc0",
=======
   "id": "f91f5571",
>>>>>>> e08844e1a91b8e98d8bdd4d0244954bda0b7215b
   "metadata": {},
   "outputs": [],
   "source": [
    "plotColDataFreqpoly(sfe, c(\"sum_localmoran\", \"detected_localmoran\", \n",
    "                           \"pct_mito_localmoran\"), bins = 50, \n",
    "                    color_by = \"cluster\") +\n",
    "    scale_y_log10() +\n",
    "    annotation_logticks(sides = \"l\")"
   ]
  },
  {
   "cell_type": "markdown",
<<<<<<< HEAD
<<<<<<< HEAD
   "id": "4a3160c8",
||||||| d29fab7
   "id": "2b3d3b8c",
=======
   "id": "8d1235d4",
>>>>>>> documentation-devel
||||||| 565f7a7
   "id": "4a3160c8",
=======
   "id": "6bddf258",
>>>>>>> e08844e1a91b8e98d8bdd4d0244954bda0b7215b
   "metadata": {},
   "source": [
    "The y axis is log transformed (hence that warning when some bins have no cells), so the color of cells in the long tail can be seen because most cells don't have very strong local Moran's I. Cells in cluster 7 have high local Moran's I in total UMI counts and genes detected, which means that they tend to be more homogeneous in these QC metrics.\n",
    "\n",
    "How do local Moran's I for these QC metrics relate to each other?"
   ]
  },
  {
   "cell_type": "code",
   "execution_count": null,
<<<<<<< HEAD
<<<<<<< HEAD
   "id": "6623991c",
||||||| d29fab7
   "id": "a2ab8ffd",
=======
   "id": "1635b328",
>>>>>>> documentation-devel
||||||| 565f7a7
   "id": "6623991c",
=======
   "id": "b5597543",
>>>>>>> e08844e1a91b8e98d8bdd4d0244954bda0b7215b
   "metadata": {},
   "outputs": [],
   "source": [
    "plotColData(sfe, x = \"sum_localmoran\", y = \"detected_localmoran\", \n",
    "            color_by = \"cluster\") +\n",
    "    scale_color_manual(values = ditto_colors)"
   ]
  },
  {
   "cell_type": "markdown",
<<<<<<< HEAD
<<<<<<< HEAD
   "id": "fa8ec969",
||||||| d29fab7
   "id": "00a29319",
=======
   "id": "2de0605e",
>>>>>>> documentation-devel
||||||| 565f7a7
   "id": "fa8ec969",
=======
   "id": "2ce9ac16",
>>>>>>> e08844e1a91b8e98d8bdd4d0244954bda0b7215b
   "metadata": {},
   "source": [
    "Cells more locally homogeneous in total UMI counts are also more homogeneous in number of genes detected, which is not surprising given the correlation between the two."
   ]
  },
  {
   "cell_type": "code",
   "execution_count": null,
<<<<<<< HEAD
<<<<<<< HEAD
   "id": "84d652ae",
||||||| d29fab7
   "id": "c181eac3",
=======
   "id": "5de57abf",
>>>>>>> documentation-devel
||||||| 565f7a7
   "id": "84d652ae",
=======
   "id": "276aa7af",
>>>>>>> e08844e1a91b8e98d8bdd4d0244954bda0b7215b
   "metadata": {},
   "outputs": [],
   "source": [
    "plotColData(sfe, x = \"sum_localmoran\", y = \"pct_mito_localmoran\", \n",
    "            color_by = \"cluster\") +\n",
    "    scale_color_manual(values = ditto_colors)"
   ]
  },
  {
   "cell_type": "markdown",
<<<<<<< HEAD
<<<<<<< HEAD
   "id": "753db442",
||||||| d29fab7
   "id": "bec291ba",
=======
   "id": "1747017f",
>>>>>>> documentation-devel
||||||| 565f7a7
   "id": "753db442",
=======
   "id": "b406594a",
>>>>>>> e08844e1a91b8e98d8bdd4d0244954bda0b7215b
   "metadata": {
    "lines_to_next_cell": 0
   },
   "source": [
    "For local Moran's I, `sum` vs percentage mitochondrial counts shows a more interesting pattern, highlighting clusters 4 and 7 as in the Moran plots.\n",
    "\n",
    "How does local Moran's I relate to the value itself?"
   ]
  },
  {
   "cell_type": "code",
   "execution_count": null,
<<<<<<< HEAD
<<<<<<< HEAD
   "id": "e35b0ece",
||||||| d29fab7
   "id": "89b4f08d",
=======
   "id": "5bc1c483",
>>>>>>> documentation-devel
||||||| 565f7a7
   "id": "e35b0ece",
=======
   "id": "0af26b00",
>>>>>>> e08844e1a91b8e98d8bdd4d0244954bda0b7215b
   "metadata": {},
   "outputs": [],
   "source": [
    "plotColData(sfe, x = \"sum\", y = \"sum_localmoran\", color_by = \"cluster\") +\n",
    "    geom_density2d(data = as.data.frame(colData(sfe)),\n",
    "                   mapping = aes(x = sum, y = sum_localmoran), color = \"blue\", \n",
    "                   linewidth = 0.3) +\n",
    "    scale_color_manual(values = ditto_colors)"
   ]
  },
  {
   "cell_type": "markdown",
<<<<<<< HEAD
<<<<<<< HEAD
   "id": "946b0f92",
||||||| d29fab7
   "id": "926fccc2",
=======
   "id": "88de147c",
>>>>>>> documentation-devel
||||||| 565f7a7
   "id": "946b0f92",
=======
   "id": "cd18c51e",
>>>>>>> e08844e1a91b8e98d8bdd4d0244954bda0b7215b
   "metadata": {
    "lines_to_next_cell": 0
   },
   "source": [
    "In this case, generally cells with higher total counts also tend to have higher local Moran's I in total counts. However, there is another wing where cells with lower total counts have slightly higher local Moran's I in total counts and there's a central value of total counts with near 0 local Moran's I. The density contour shows that cells are concentrated at that central value.\n",
    "\n",
    "## Local spatial heteroscedasticity (LOSH)\n",
    "\n",
    "LOSH indicates heterogeneity around each cell in the k nearest neighbor graph."
   ]
  },
  {
   "cell_type": "code",
   "execution_count": null,
<<<<<<< HEAD
<<<<<<< HEAD
   "id": "2499aee2",
||||||| d29fab7
   "id": "e5b87bd1",
=======
   "id": "40b03fd8",
>>>>>>> documentation-devel
||||||| 565f7a7
   "id": "2499aee2",
=======
   "id": "dd7bf8cc",
>>>>>>> e08844e1a91b8e98d8bdd4d0244954bda0b7215b
   "metadata": {},
   "outputs": [],
   "source": [
    "sfe <- colDataUnivariate(sfe, \"LOSH\", c(\"sum\", \"detected\", \"subsets_mito_percent\"))"
   ]
  },
  {
   "cell_type": "code",
   "execution_count": null,
<<<<<<< HEAD
<<<<<<< HEAD
   "id": "a6f56476",
||||||| d29fab7
   "id": "a013b958",
=======
   "id": "2bc1b501",
>>>>>>> documentation-devel
||||||| 565f7a7
   "id": "a6f56476",
=======
   "id": "0a62786e",
>>>>>>> e08844e1a91b8e98d8bdd4d0244954bda0b7215b
   "metadata": {
    "fig.height": 6,
    "fig.width": 8
   },
   "outputs": [],
   "source": [
    "plotLocalResult(sfe, \"LOSH\", c(\"sum\", \"detected\", \"subsets_mito_percent\"), \n",
    "                colGeometryName = \"centroids\", ncol = 2)"
   ]
  },
  {
   "cell_type": "markdown",
<<<<<<< HEAD
<<<<<<< HEAD
   "id": "a2ecb73a",
||||||| d29fab7
   "id": "9c3e5dac",
=======
   "id": "d82384f3",
>>>>>>> documentation-devel
||||||| 565f7a7
   "id": "a2ecb73a",
=======
   "id": "7706bab5",
>>>>>>> e08844e1a91b8e98d8bdd4d0244954bda0b7215b
   "metadata": {},
   "source": [
    "Here we make the same non-spatial plots for LOSH as in local Moran's I."
   ]
  },
  {
   "cell_type": "code",
   "execution_count": null,
<<<<<<< HEAD
<<<<<<< HEAD
   "id": "2a573930",
||||||| d29fab7
   "id": "9c53a6bc",
=======
   "id": "4a36a3ce",
>>>>>>> documentation-devel
||||||| 565f7a7
   "id": "2a573930",
=======
   "id": "8f5215b8",
>>>>>>> e08844e1a91b8e98d8bdd4d0244954bda0b7215b
   "metadata": {},
   "outputs": [],
   "source": [
    "localResultAttrs(sfe, \"LOSH\", \"sum\")"
   ]
  },
  {
   "cell_type": "code",
   "execution_count": null,
<<<<<<< HEAD
<<<<<<< HEAD
   "id": "86a01a81",
||||||| d29fab7
   "id": "88c7375a",
=======
   "id": "aca301f7",
>>>>>>> documentation-devel
||||||| 565f7a7
   "id": "86a01a81",
=======
   "id": "1b92f774",
>>>>>>> e08844e1a91b8e98d8bdd4d0244954bda0b7215b
   "metadata": {},
   "outputs": [],
   "source": [
    "sfe$sum_losh <- localResult(sfe, \"LOSH\", \"sum\")[,\"Hi\"]\n",
    "sfe$detected_losh <- localResult(sfe, \"LOSH\", \"detected\")[,\"Hi\"]\n",
    "sfe$pct_mito_losh <- localResult(sfe, \"LOSH\", \"subsets_mito_percent\")[,\"Hi\"]"
   ]
  },
  {
   "cell_type": "code",
   "execution_count": null,
<<<<<<< HEAD
<<<<<<< HEAD
   "id": "ac6dd4db",
||||||| d29fab7
   "id": "05b726ce",
=======
   "id": "ab4281b6",
>>>>>>> documentation-devel
||||||| 565f7a7
   "id": "ac6dd4db",
=======
   "id": "87436d2e",
>>>>>>> e08844e1a91b8e98d8bdd4d0244954bda0b7215b
   "metadata": {},
   "outputs": [],
   "source": [
    "plotColDataFreqpoly(sfe, c(\"sum_losh\", \"detected_losh\", \n",
    "                           \"pct_mito_losh\"), bins = 50, \n",
    "                     color_by = \"cluster\") +\n",
    "    scale_y_log10() +\n",
    "    annotation_logticks(sides = \"l\")"
   ]
  },
  {
   "cell_type": "markdown",
<<<<<<< HEAD
<<<<<<< HEAD
   "id": "1783d7e7",
||||||| d29fab7
   "id": "6f496ff9",
=======
   "id": "ce2a5c7b",
>>>>>>> documentation-devel
||||||| 565f7a7
   "id": "1783d7e7",
=======
   "id": "625f867f",
>>>>>>> e08844e1a91b8e98d8bdd4d0244954bda0b7215b
   "metadata": {},
   "source": [
    "Here, clusters 2 and 6 tend to be more locally heterogeneous. How do total counts and genes detected relate in LOSH?"
   ]
  },
  {
   "cell_type": "code",
   "execution_count": null,
<<<<<<< HEAD
<<<<<<< HEAD
   "id": "95290a16",
||||||| d29fab7
   "id": "9b214584",
=======
   "id": "04a75ab9",
>>>>>>> documentation-devel
||||||| 565f7a7
   "id": "95290a16",
=======
   "id": "1d9184d1",
>>>>>>> e08844e1a91b8e98d8bdd4d0244954bda0b7215b
   "metadata": {},
   "outputs": [],
   "source": [
    "plotColData(sfe, x = \"sum_losh\", y = \"detected_losh\", color_by = \"cluster\") +\n",
    "    scale_color_manual(values = ditto_colors)"
   ]
  },
  {
   "cell_type": "markdown",
<<<<<<< HEAD
<<<<<<< HEAD
   "id": "0ccae6df",
||||||| d29fab7
   "id": "0a554a18",
=======
   "id": "ade446d4",
>>>>>>> documentation-devel
||||||| 565f7a7
   "id": "0ccae6df",
=======
   "id": "00021554",
>>>>>>> e08844e1a91b8e98d8bdd4d0244954bda0b7215b
   "metadata": {},
   "source": [
    "While generally cells higher in LOSH in total counts are also higher in LOSH in genes detected, there are some outliers that are very high in both, with more heterogeneous neighborhoods. Absolute distance to the neighbors is not taken into account when the adjacency matrix is row normalized. It would be interesting to see if those outliers tend to be further away from their 10 nearest neighbors, or in a region in the PCA space where cells are further apart.\n",
    "\n",
    "How does total counts itself relate to its LOSH?"
   ]
  },
  {
   "cell_type": "code",
   "execution_count": null,
<<<<<<< HEAD
<<<<<<< HEAD
   "id": "47b5617a",
||||||| d29fab7
   "id": "62750287",
=======
   "id": "e4618990",
>>>>>>> documentation-devel
||||||| 565f7a7
   "id": "47b5617a",
=======
   "id": "b602a732",
>>>>>>> e08844e1a91b8e98d8bdd4d0244954bda0b7215b
   "metadata": {},
   "outputs": [],
   "source": [
    "plotColData(sfe, x = \"sum\", y = \"sum_losh\", color_by = \"cluster\") +\n",
    "    scale_color_manual(values = ditto_colors)"
   ]
  },
  {
   "cell_type": "markdown",
<<<<<<< HEAD
<<<<<<< HEAD
   "id": "1311f537",
||||||| d29fab7
   "id": "a8c2186a",
=======
   "id": "feaea450",
>>>>>>> documentation-devel
||||||| 565f7a7
   "id": "1311f537",
=======
   "id": "4315d45f",
>>>>>>> e08844e1a91b8e98d8bdd4d0244954bda0b7215b
   "metadata": {
    "lines_to_next_cell": 0
   },
   "source": [
    "There does not seem to be a clear relationship in this case. \n",
    "\n",
    "# \"Spatial\" analyses for gene expression\n",
    "First, we need to reorganize the differential expression results:"
   ]
  },
  {
   "cell_type": "code",
   "execution_count": null,
<<<<<<< HEAD
<<<<<<< HEAD
   "id": "b1e47844",
||||||| d29fab7
   "id": "047d733e",
=======
   "id": "0fcc359b",
>>>>>>> documentation-devel
||||||| 565f7a7
   "id": "b1e47844",
=======
   "id": "50f17c4f",
>>>>>>> e08844e1a91b8e98d8bdd4d0244954bda0b7215b
   "metadata": {},
   "outputs": [],
   "source": [
    "top_markers_df <- lapply(seq_along(markers), function(i) {\n",
    "    out <- markers[[i]][markers[[i]]$FDR < 0.05, c(\"FDR\", \"summary.AUC\")]\n",
    "    if (nrow(out)) out$cluster <- i\n",
    "    out\n",
    "})\n",
    "top_markers_df <- do.call(rbind, top_markers_df)\n",
    "top_markers_df$symbol <- rowData(sce)[rownames(top_markers_df), \"Symbol\"]"
   ]
  },
  {
   "cell_type": "markdown",
<<<<<<< HEAD
<<<<<<< HEAD
   "id": "f6e2e02c",
||||||| d29fab7
   "id": "c404a926",
=======
   "id": "444d9baa",
>>>>>>> documentation-devel
||||||| 565f7a7
   "id": "f6e2e02c",
=======
   "id": "809439da",
>>>>>>> e08844e1a91b8e98d8bdd4d0244954bda0b7215b
   "metadata": {
    "lines_to_next_cell": 0
   },
   "source": [
    "## Moran's I"
   ]
  },
  {
   "cell_type": "code",
   "execution_count": null,
<<<<<<< HEAD
<<<<<<< HEAD
   "id": "4d0ac3da",
||||||| d29fab7
   "id": "acaaa3b4",
=======
   "id": "7cbc88d4",
>>>>>>> documentation-devel
||||||| 565f7a7
   "id": "4d0ac3da",
=======
   "id": "42c3fd35",
>>>>>>> e08844e1a91b8e98d8bdd4d0244954bda0b7215b
   "metadata": {},
   "outputs": [],
   "source": [
    "sfe <- runMoransI(sfe, features = hvgs, BPPARAM = MulticoreParam(2))"
   ]
  },
  {
   "cell_type": "markdown",
<<<<<<< HEAD
<<<<<<< HEAD
   "id": "211da291",
||||||| d29fab7
   "id": "69434f55",
=======
   "id": "47e1e190",
>>>>>>> documentation-devel
||||||| 565f7a7
   "id": "211da291",
=======
   "id": "dd952b92",
>>>>>>> e08844e1a91b8e98d8bdd4d0244954bda0b7215b
   "metadata": {
    "lines_to_next_cell": 0
   },
   "source": [
    "The results are added to `rowData(sfe)`. The NA's are for non-highly variable genes, as Moran's I was only computed for highly variable genes here."
   ]
  },
  {
   "cell_type": "code",
   "execution_count": null,
<<<<<<< HEAD
<<<<<<< HEAD
   "id": "2456a161",
||||||| d29fab7
   "id": "b0d4b8a5",
=======
   "id": "5f91aaf8",
>>>>>>> documentation-devel
||||||| 565f7a7
   "id": "2456a161",
=======
   "id": "7ae4fe79",
>>>>>>> e08844e1a91b8e98d8bdd4d0244954bda0b7215b
   "metadata": {},
   "outputs": [],
   "source": [
    "rowData(sfe)"
   ]
  },
  {
   "cell_type": "markdown",
<<<<<<< HEAD
<<<<<<< HEAD
   "id": "8a02dde7",
||||||| d29fab7
   "id": "0ac081b7",
=======
   "id": "58989ae0",
>>>>>>> documentation-devel
||||||| 565f7a7
   "id": "8a02dde7",
=======
   "id": "b8ddcd43",
>>>>>>> e08844e1a91b8e98d8bdd4d0244954bda0b7215b
   "metadata": {
    "lines_to_next_cell": 0
   },
   "source": [
    "How are the Moran's I's for highly variable genes distributed? Also, where are the top cluster marker genes in this distribution?"
   ]
  },
  {
   "cell_type": "code",
   "execution_count": null,
<<<<<<< HEAD
<<<<<<< HEAD
   "id": "d8a3a850",
||||||| d29fab7
   "id": "55cabd89",
=======
   "id": "5ffdaa71",
>>>>>>> documentation-devel
||||||| 565f7a7
   "id": "d8a3a850",
=======
   "id": "3a3e201f",
>>>>>>> e08844e1a91b8e98d8bdd4d0244954bda0b7215b
   "metadata": {},
   "outputs": [],
   "source": [
    "plotRowDataHistogram(sfe, \"moran_sample01\", bins = 50) +\n",
    "    geom_vline(data = as.data.frame(rowData(sfe)[top_markers,]) |> \n",
    "                   mutate(index = seq_along(top_markers)),\n",
    "               aes(xintercept = moran_sample01, color = index)) +\n",
    "    scale_color_continuous(breaks = scales::breaks_width(2))"
   ]
  },
  {
   "cell_type": "markdown",
<<<<<<< HEAD
<<<<<<< HEAD
   "id": "ef47a811",
||||||| d29fab7
   "id": "b4119a11",
=======
   "id": "57696052",
>>>>>>> documentation-devel
||||||| 565f7a7
   "id": "ef47a811",
=======
   "id": "3dd0e7a5",
>>>>>>> e08844e1a91b8e98d8bdd4d0244954bda0b7215b
   "metadata": {},
   "source": [
    "The top marker genes all have quite positive Moran's I on the k nearest neighbor graph. It would also be interesting to color this histogram by gene sets. Since the k nearest neighbor graph was found in PCA space, which is based on gene expression, as expected, Moran's I with this graph is mostly positive, although often not that strong. A small number of genes have slightly negative Moran's I. What do the top genes look like in PCA?"
   ]
  },
  {
   "cell_type": "code",
   "execution_count": null,
<<<<<<< HEAD
<<<<<<< HEAD
   "id": "eb14ef98",
||||||| d29fab7
   "id": "7016073e",
=======
   "id": "68440a71",
>>>>>>> documentation-devel
||||||| 565f7a7
   "id": "eb14ef98",
=======
   "id": "63333dc5",
>>>>>>> e08844e1a91b8e98d8bdd4d0244954bda0b7215b
   "metadata": {
    "fig.height": 6,
    "fig.width": 8
   },
   "outputs": [],
   "source": [
    "top_moran <- head(rownames(sfe)[order(rowData(sfe)$moran_sample01, decreasing = TRUE)], 4)\n",
    "plotSpatialFeature(sfe, top_moran, ncol = 2)"
   ]
  },
  {
   "cell_type": "code",
   "execution_count": null,
<<<<<<< HEAD
<<<<<<< HEAD
   "id": "d720e4a1",
||||||| d29fab7
   "id": "b26c60e0",
=======
   "id": "cb4e8046",
>>>>>>> documentation-devel
||||||| 565f7a7
   "id": "d720e4a1",
=======
   "id": "bdd7be79",
>>>>>>> e08844e1a91b8e98d8bdd4d0244954bda0b7215b
   "metadata": {},
   "outputs": [],
   "source": [
    "top_moran_symbol <- rowData(sfe)[top_moran, \"Symbol\"]\n",
    "plotExpression(sfe, top_moran_symbol, swap_rownames = \"Symbol\")"
   ]
  },
  {
   "cell_type": "markdown",
<<<<<<< HEAD
<<<<<<< HEAD
   "id": "203bd96d",
||||||| d29fab7
   "id": "ef8d489a",
=======
   "id": "82ce11d7",
>>>>>>> documentation-devel
||||||| 565f7a7
   "id": "203bd96d",
=======
   "id": "b6f66e9c",
>>>>>>> e08844e1a91b8e98d8bdd4d0244954bda0b7215b
   "metadata": {},
   "source": [
    "They are all marker genes for the same cluster, cluster 9. Perhaps these genes have high Moran's I because they are specific to a cell type. Then how does the Moran's I relate to cluster AUC and cluster differential expression p-value?"
   ]
  },
  {
   "cell_type": "code",
   "execution_count": null,
<<<<<<< HEAD
<<<<<<< HEAD
   "id": "d87c19d9",
||||||| d29fab7
   "id": "25d71e9a",
=======
   "id": "7c466318",
>>>>>>> documentation-devel
||||||| 565f7a7
   "id": "d87c19d9",
=======
   "id": "0e79cb91",
>>>>>>> e08844e1a91b8e98d8bdd4d0244954bda0b7215b
   "metadata": {},
   "outputs": [],
   "source": [
    "# See if markers are unique to clusters\n",
    "anyDuplicated(rownames(top_markers_df))"
   ]
  },
  {
   "cell_type": "code",
   "execution_count": null,
<<<<<<< HEAD
<<<<<<< HEAD
   "id": "82cd6048",
||||||| d29fab7
   "id": "565321b9",
=======
   "id": "610f5419",
>>>>>>> documentation-devel
||||||| 565f7a7
   "id": "82cd6048",
=======
   "id": "95400e2d",
>>>>>>> e08844e1a91b8e98d8bdd4d0244954bda0b7215b
   "metadata": {},
   "outputs": [],
   "source": [
    "top_markers_df$moran <- rowData(sfe)[rownames(top_markers_df), \"moran_sample01\"]\n",
    "top_markers_df$log_p_adj <- -log10(top_markers_df$FDR)\n",
    "top_markers_df$cluster <- factor(top_markers_df$cluster, \n",
    "                                 levels = seq_len(length(unique(top_markers_df$cluster))))"
   ]
  },
  {
   "cell_type": "markdown",
<<<<<<< HEAD
<<<<<<< HEAD
   "id": "0025c0a3",
||||||| d29fab7
   "id": "72381e05",
=======
   "id": "dabcc292",
>>>>>>> documentation-devel
||||||| 565f7a7
   "id": "0025c0a3",
=======
   "id": "cda90c92",
>>>>>>> e08844e1a91b8e98d8bdd4d0244954bda0b7215b
   "metadata": {
    "lines_to_next_cell": 0
   },
   "source": [
    "How does the differential expression p-value relate to Moran's I?"
   ]
  },
  {
   "cell_type": "code",
   "execution_count": null,
<<<<<<< HEAD
<<<<<<< HEAD
   "id": "c3d873b7",
||||||| d29fab7
   "id": "d75bce08",
=======
   "id": "8e03c957",
>>>>>>> documentation-devel
||||||| 565f7a7
   "id": "c3d873b7",
=======
   "id": "43ff1899",
>>>>>>> e08844e1a91b8e98d8bdd4d0244954bda0b7215b
   "metadata": {},
   "outputs": [],
   "source": [
    "as.data.frame(top_markers_df) |> \n",
    "    ggplot(aes(log_p_adj, moran)) +\n",
    "    geom_point(aes(color = cluster)) +\n",
    "    geom_smooth(method = \"lm\") +\n",
    "    scale_color_manual(values = ditto_colors)"
   ]
  },
  {
   "cell_type": "markdown",
<<<<<<< HEAD
<<<<<<< HEAD
   "id": "46cb1091",
||||||| d29fab7
   "id": "37da34b5",
=======
   "id": "3abd1b1a",
>>>>>>> documentation-devel
||||||| 565f7a7
   "id": "46cb1091",
=======
   "id": "8b376b03",
>>>>>>> e08844e1a91b8e98d8bdd4d0244954bda0b7215b
   "metadata": {},
   "source": [
    "Generally, more significant marker genes tend to have higher Moran's I. This is not surprising because the clusters and Moran's I here are both based on the k nearest neighbor graph."
   ]
  },
  {
   "cell_type": "code",
   "execution_count": null,
<<<<<<< HEAD
<<<<<<< HEAD
   "id": "7199b1a9",
||||||| d29fab7
   "id": "df8e11a9",
=======
   "id": "e993fab3",
>>>>>>> documentation-devel
||||||| 565f7a7
   "id": "7199b1a9",
=======
   "id": "44675da6",
>>>>>>> e08844e1a91b8e98d8bdd4d0244954bda0b7215b
   "metadata": {},
   "outputs": [],
   "source": [
    "as.data.frame(top_markers_df) |> \n",
    "    ggplot(aes(summary.AUC, moran)) +\n",
    "    geom_point(aes(color = cluster)) +\n",
    "    geom_smooth(method = \"lm\") +\n",
    "    scale_color_manual(values = ditto_colors)"
   ]
  },
  {
   "cell_type": "markdown",
<<<<<<< HEAD
<<<<<<< HEAD
   "id": "33cc7ab2",
||||||| d29fab7
   "id": "04e08c56",
=======
   "id": "10663e25",
>>>>>>> documentation-devel
||||||| 565f7a7
   "id": "33cc7ab2",
=======
   "id": "f4249bd4",
>>>>>>> e08844e1a91b8e98d8bdd4d0244954bda0b7215b
   "metadata": {
    "lines_to_next_cell": 0
   },
   "source": [
    "Similarly, genes with higher AUC tend to have higher Moran's I. For other clusters, generally speaking, genes more specific to a cluster tend to have higher Moran's I.\n",
    "\n",
    "Let's use permutation testing to see if Moran's I is statistically significant:"
   ]
  },
  {
   "cell_type": "code",
   "execution_count": null,
<<<<<<< HEAD
<<<<<<< HEAD
   "id": "dc91cf6c",
||||||| d29fab7
   "id": "2844c240",
=======
   "id": "d6fa0c24",
>>>>>>> documentation-devel
||||||| 565f7a7
   "id": "dc91cf6c",
=======
   "id": "63e30aba",
>>>>>>> e08844e1a91b8e98d8bdd4d0244954bda0b7215b
   "metadata": {},
   "outputs": [],
   "source": [
    "sfe <- runUnivariate(sfe, \"moran.mc\", features = top_markers, nsim = 200)"
   ]
  },
  {
   "cell_type": "code",
   "execution_count": null,
<<<<<<< HEAD
<<<<<<< HEAD
   "id": "7ae7eb9d",
||||||| d29fab7
   "id": "44ff9ede",
=======
   "id": "a8836687",
>>>>>>> documentation-devel
||||||| 565f7a7
   "id": "7ae7eb9d",
=======
   "id": "b6e0728d",
>>>>>>> e08844e1a91b8e98d8bdd4d0244954bda0b7215b
   "metadata": {},
   "outputs": [],
   "source": [
    "top_markers_symbol"
   ]
  },
  {
   "cell_type": "code",
   "execution_count": null,
<<<<<<< HEAD
<<<<<<< HEAD
   "id": "375044bd",
||||||| d29fab7
   "id": "b6d6cb0e",
=======
   "id": "1e2f92ba",
>>>>>>> documentation-devel
||||||| 565f7a7
   "id": "375044bd",
=======
   "id": "b065c192",
>>>>>>> e08844e1a91b8e98d8bdd4d0244954bda0b7215b
   "metadata": {},
   "outputs": [],
   "source": [
    "plotMoranMC(sfe, top_markers, swap_rownames = \"Symbol\")"
   ]
  },
  {
   "cell_type": "markdown",
<<<<<<< HEAD
<<<<<<< HEAD
   "id": "bfbb59ed",
||||||| d29fab7
   "id": "96ae06b5",
=======
   "id": "bb2a8a43",
>>>>>>> documentation-devel
||||||| 565f7a7
   "id": "bfbb59ed",
=======
   "id": "8490317f",
>>>>>>> e08844e1a91b8e98d8bdd4d0244954bda0b7215b
   "metadata": {},
   "source": [
    "They all seem to be very significant. \n",
    "\n",
    "The correlogram finds Moran's I for a higher order of neighbors and can be a proxy for distance. "
   ]
  },
  {
   "cell_type": "code",
   "execution_count": null,
<<<<<<< HEAD
<<<<<<< HEAD
   "id": "8e0c7606",
||||||| d29fab7
   "id": "6fbc362a",
=======
   "id": "82c05a13",
>>>>>>> documentation-devel
||||||| 565f7a7
   "id": "8e0c7606",
=======
   "id": "4dfd138f",
>>>>>>> e08844e1a91b8e98d8bdd4d0244954bda0b7215b
   "metadata": {},
   "outputs": [],
   "source": [
    "system.time({\n",
    "    sfe <- runUnivariate(sfe, \"sp.correlogram\", top_markers, order = 6, \n",
    "                     zero.policy = TRUE, BPPARAM = MulticoreParam(2))\n",
    "})"
   ]
  },
  {
   "cell_type": "code",
   "execution_count": null,
<<<<<<< HEAD
<<<<<<< HEAD
   "id": "7f2f283c",
||||||| d29fab7
   "id": "f31d2a54",
=======
   "id": "af103402",
>>>>>>> documentation-devel
||||||| 565f7a7
   "id": "7f2f283c",
=======
   "id": "fc01c86d",
>>>>>>> e08844e1a91b8e98d8bdd4d0244954bda0b7215b
   "metadata": {},
   "outputs": [],
   "source": [
    "plotCorrelogram(sfe, top_markers, swap_rownames = \"Symbol\")"
   ]
  },
  {
   "cell_type": "markdown",
<<<<<<< HEAD
<<<<<<< HEAD
   "id": "f9fba21f",
||||||| d29fab7
   "id": "ad05ab3a",
=======
   "id": "c0625c0d",
>>>>>>> documentation-devel
||||||| 565f7a7
   "id": "f9fba21f",
=======
   "id": "b3366f92",
>>>>>>> e08844e1a91b8e98d8bdd4d0244954bda0b7215b
   "metadata": {
    "lines_to_next_cell": 0
   },
   "source": [
    "We see different patterns of decay in spatial autocorrelation and different length scales of spatial autocorrelation. CLU is a marker gene very specific to the smallest cluster, so higher order neighbors are very likely to be from other clusters. Marker genes for the other larger clusters with hundreds of cells nevertheless display different patterns in the correlogram.\n",
    "\n",
    "## Local Moran's I"
   ]
  },
  {
   "cell_type": "code",
   "execution_count": null,
<<<<<<< HEAD
<<<<<<< HEAD
   "id": "61d48fa1",
||||||| d29fab7
   "id": "6b252ea5",
=======
   "id": "8541e995",
>>>>>>> documentation-devel
||||||| 565f7a7
   "id": "61d48fa1",
=======
   "id": "3ae2a438",
>>>>>>> e08844e1a91b8e98d8bdd4d0244954bda0b7215b
   "metadata": {},
   "outputs": [],
   "source": [
    "sfe <- runUnivariate(sfe, \"localmoran\", features = top_markers)"
   ]
  },
  {
   "cell_type": "code",
   "execution_count": null,
<<<<<<< HEAD
<<<<<<< HEAD
   "id": "9efee026",
||||||| d29fab7
   "id": "9ffd6ca6",
=======
   "id": "d844e782",
>>>>>>> documentation-devel
||||||| 565f7a7
   "id": "9efee026",
=======
   "id": "eeeff826",
>>>>>>> e08844e1a91b8e98d8bdd4d0244954bda0b7215b
   "metadata": {
    "fig.height": 9,
    "fig.width": 12
   },
   "outputs": [],
   "source": [
    "plotLocalResult(sfe, \"localmoran\", top_markers, colGeometryName = \"centroids\", \n",
    "                divergent = TRUE, diverge_center = 0, ncol = 3,\n",
    "                swap_rownames = \"Symbol\")"
   ]
  },
  {
   "cell_type": "markdown",
<<<<<<< HEAD
<<<<<<< HEAD
   "id": "c8de0448",
||||||| d29fab7
   "id": "6f8b879b",
=======
   "id": "0ede385b",
>>>>>>> documentation-devel
||||||| 565f7a7
   "id": "c8de0448",
=======
   "id": "7debce87",
>>>>>>> e08844e1a91b8e98d8bdd4d0244954bda0b7215b
   "metadata": {},
   "source": [
    "We will also plot the histograms, but for now the results need to be added to `colData` first."
   ]
  },
  {
   "cell_type": "code",
   "execution_count": null,
<<<<<<< HEAD
<<<<<<< HEAD
   "id": "55cd2c7b",
||||||| d29fab7
   "id": "3be97f43",
=======
   "id": "46687125",
>>>>>>> documentation-devel
||||||| 565f7a7
   "id": "55cd2c7b",
=======
   "id": "0338af9c",
>>>>>>> e08844e1a91b8e98d8bdd4d0244954bda0b7215b
   "metadata": {},
   "outputs": [],
   "source": [
    "new_colname <- paste0(\"cluster\", seq_along(top_markers), \"_\", \n",
    "                      top_markers_symbol, \"_localmoran\")\n",
    "for (i in seq_along(top_markers)) {\n",
    "    g <- top_markers[i]\n",
    "    colData(sfe)[[new_colname[i]]] <- \n",
    "        localResult(sfe, \"localmoran\", g)[,\"Ii\"]\n",
    "}"
   ]
  },
  {
   "cell_type": "code",
   "execution_count": null,
<<<<<<< HEAD
<<<<<<< HEAD
   "id": "7388242f",
||||||| d29fab7
   "id": "951544fe",
=======
   "id": "74c63e9c",
>>>>>>> documentation-devel
||||||| 565f7a7
   "id": "7388242f",
=======
   "id": "d78a5455",
>>>>>>> e08844e1a91b8e98d8bdd4d0244954bda0b7215b
   "metadata": {
    "fig.height": 12,
    "fig.width": 8
   },
   "outputs": [],
   "source": [
    "plotColDataFreqpoly(sfe, new_colname, color_by = \"cluster\") +\n",
    "    ggtitle(\"Local Moran's I\") +\n",
    "    theme(legend.position = \"top\") +\n",
    "    scale_y_log10() +\n",
    "    annotation_logticks(sides = \"l\")"
   ]
  },
  {
   "cell_type": "markdown",
<<<<<<< HEAD
<<<<<<< HEAD
   "id": "8a425cd3",
||||||| d29fab7
   "id": "920dc457",
=======
   "id": "11fe3e75",
>>>>>>> documentation-devel
||||||| 565f7a7
   "id": "8a425cd3",
=======
   "id": "f12e5390",
>>>>>>> e08844e1a91b8e98d8bdd4d0244954bda0b7215b
   "metadata": {
    "lines_to_next_cell": 0
   },
   "source": [
    "Again, the y axis is log transformed to make the tail more visible. For some clusters, the top marker gene's local Moran's I forms its own peak for cells in the cluster with higher local Moran's I than other cells. However, sometimes cells within the cluster form a long tail shared with some cells from other clusters. Then the local Moran's I could be another method for differential expression. Or since both local Moran's I and Leiden clustering use the k nearest neighbor graph in PCA space, local Moran's I of marker genes or perhaps eigengenes signifying gene programs for each cell type on this k nearest neighbor graph can validate or criticize Leiden clusters. Furthermore, interestingly, for some genes, the tallest peak in the histogram is away from 0.\n",
    "\n",
    "The scatter plots as shown in the \"spatial\" analyses for the QC metrics section can be made to see how local Moran's I relates to the expression of the gene itself."
   ]
  },
  {
   "cell_type": "code",
   "execution_count": null,
<<<<<<< HEAD
<<<<<<< HEAD
   "id": "d619754a",
||||||| d29fab7
   "id": "1324f3a1",
=======
   "id": "fa51ce6a",
>>>>>>> documentation-devel
||||||| 565f7a7
   "id": "d619754a",
=======
   "id": "7a778f1f",
>>>>>>> e08844e1a91b8e98d8bdd4d0244954bda0b7215b
   "metadata": {},
   "outputs": [],
   "source": [
    "i <- 6 # Change if running this notebook\n",
    "plotExpression(sfe, top_markers_symbol[i], x = new_colname[i], color_by = \"cluster\",\n",
    "               swap_rownames = \"Symbol\") +\n",
    "    scale_color_manual(values = ditto_colors) +\n",
    "    coord_flip() +\n",
    "    # comment out in case of error after changing i\n",
    "    geom_density2d(data = as.data.frame(colData(sfe)) |> \n",
    "                       mutate(gene = logcounts(sfe)[top_markers[i],]),\n",
    "                   mapping = aes(x = .data[[new_colname[i]]], y = gene), \n",
    "                   color = \"blue\", linewidth = 0.3) "
   ]
  },
  {
   "cell_type": "markdown",
<<<<<<< HEAD
<<<<<<< HEAD
   "id": "c4c1366b",
||||||| d29fab7
   "id": "31985cfc",
=======
   "id": "153d35f8",
>>>>>>> documentation-devel
||||||| 565f7a7
   "id": "c4c1366b",
=======
   "id": "1de036ab",
>>>>>>> e08844e1a91b8e98d8bdd4d0244954bda0b7215b
   "metadata": {},
   "source": [
    "For this gene, just like for total UMI counts, there are two wings and a central value where local Moran's I is around 0. Generally, cells with higher expression of this gene have higher local Moran's I for this gene as well. The density contours show that cells concentrate around 0 expression and some weaker positive local Moran. The streak of cells with 0 expression means that many cells don't express this gene, and their neighbors have low and slightly homogeneous expression of this gene. This pattern may be different for different genes. Also, the p-values for each cell for local Moran's I are available and corrected for multiple hypothesis testing, and can be plotted. The p-values are based on the z score of the local Moran statistic, although how the statistic is distributed for gene expression data warrants more investigation. This p-value can also be computed with permutation (see `localmoran_perm()`). "
   ]
  },
  {
   "cell_type": "code",
   "execution_count": null,
<<<<<<< HEAD
<<<<<<< HEAD
   "id": "b9c6308c",
||||||| d29fab7
   "id": "967cc29f",
=======
   "id": "2ae13043",
>>>>>>> documentation-devel
||||||| 565f7a7
   "id": "b9c6308c",
=======
   "id": "f1789616",
>>>>>>> e08844e1a91b8e98d8bdd4d0244954bda0b7215b
   "metadata": {},
   "outputs": [],
   "source": [
    "localResultAttrs(sfe, \"localmoran\", top_markers[1])"
   ]
  },
  {
   "cell_type": "markdown",
<<<<<<< HEAD
<<<<<<< HEAD
   "id": "1ee1319b",
||||||| d29fab7
   "id": "651385b4",
=======
   "id": "cc9e505c",
>>>>>>> documentation-devel
||||||| 565f7a7
   "id": "1ee1319b",
=======
   "id": "35072efd",
>>>>>>> e08844e1a91b8e98d8bdd4d0244954bda0b7215b
   "metadata": {},
   "source": [
    "## LOSH"
   ]
  },
  {
   "cell_type": "code",
   "execution_count": null,
<<<<<<< HEAD
<<<<<<< HEAD
   "id": "0007ac29",
||||||| d29fab7
   "id": "94cb1e94",
=======
   "id": "a0b6c537",
>>>>>>> documentation-devel
||||||| 565f7a7
   "id": "0007ac29",
=======
   "id": "f46f3d5f",
>>>>>>> e08844e1a91b8e98d8bdd4d0244954bda0b7215b
   "metadata": {},
   "outputs": [],
   "source": [
    "sfe <- runUnivariate(sfe, \"LOSH\", top_markers)"
   ]
  },
  {
   "cell_type": "code",
   "execution_count": null,
<<<<<<< HEAD
<<<<<<< HEAD
   "id": "8e5aa95b",
||||||| d29fab7
   "id": "a9c15c20",
=======
   "id": "83cef1e2",
>>>>>>> documentation-devel
||||||| 565f7a7
   "id": "8e5aa95b",
=======
   "id": "e06f5298",
>>>>>>> e08844e1a91b8e98d8bdd4d0244954bda0b7215b
   "metadata": {
    "fig.height": 9,
    "fig.width": 12
   },
   "outputs": [],
   "source": [
    "plotLocalResult(sfe, \"LOSH\", top_markers, colGeometryName = \"centroids\", ncol = 3,\n",
    "                swap_rownames = \"Symbol\")"
   ]
  },
  {
   "cell_type": "markdown",
<<<<<<< HEAD
<<<<<<< HEAD
   "id": "8c060d1f",
||||||| d29fab7
   "id": "6ca089f4",
=======
   "id": "d968ed4a",
>>>>>>> documentation-devel
||||||| 565f7a7
   "id": "8c060d1f",
=======
   "id": "70aa945a",
>>>>>>> e08844e1a91b8e98d8bdd4d0244954bda0b7215b
   "metadata": {
    "lines_to_next_cell": 0
   },
   "source": [
    "In the two genes on the right, it's interesting to see higher LOSH in the middle cluster. The two genes on the left have some outliers throwing off the dynamic range, but it seems that their high LOSH regions are different.\n",
    "\n",
    "Again, we plot the histograms:"
   ]
  },
  {
   "cell_type": "code",
   "execution_count": null,
<<<<<<< HEAD
<<<<<<< HEAD
   "id": "6bcac51f",
||||||| d29fab7
   "id": "37421430",
=======
   "id": "5b2ca38f",
>>>>>>> documentation-devel
||||||| 565f7a7
   "id": "6bcac51f",
=======
   "id": "70d13c9f",
>>>>>>> e08844e1a91b8e98d8bdd4d0244954bda0b7215b
   "metadata": {},
   "outputs": [],
   "source": [
    "new_colname2 <- paste0(\"cluster\", seq_along(top_markers), \"_\", \n",
    "                      top_markers_symbol, \"_losh\")\n",
    "for (i in seq_along(top_markers)) {\n",
    "    g <- top_markers[i]\n",
    "    colData(sfe)[[new_colname2[i]]] <- \n",
    "        localResult(sfe, \"LOSH\", g)[,\"Hi\"]\n",
    "}"
   ]
  },
  {
   "cell_type": "code",
   "execution_count": null,
<<<<<<< HEAD
<<<<<<< HEAD
   "id": "96b0d84f",
||||||| d29fab7
   "id": "a70cd898",
=======
   "id": "7469af3e",
>>>>>>> documentation-devel
||||||| 565f7a7
   "id": "96b0d84f",
=======
   "id": "5d8dd097",
>>>>>>> e08844e1a91b8e98d8bdd4d0244954bda0b7215b
   "metadata": {
    "fig.height": 12,
    "fig.width": 8
   },
   "outputs": [],
   "source": [
    "plotColDataFreqpoly(sfe, new_colname2, color_by = \"cluster\") +\n",
    "    ggtitle(\"Local heteroscedasticity\") +\n",
    "    theme(legend.position = \"top\") +\n",
    "    scale_y_log10() +\n",
    "    annotation_logticks(sides = \"l\")"
   ]
  },
  {
   "cell_type": "markdown",
<<<<<<< HEAD
<<<<<<< HEAD
   "id": "8b4fb0d5",
||||||| d29fab7
   "id": "ee4e3a34",
=======
   "id": "e7fb0fdb",
>>>>>>> documentation-devel
||||||| 565f7a7
   "id": "8b4fb0d5",
=======
   "id": "c9ddab3a",
>>>>>>> e08844e1a91b8e98d8bdd4d0244954bda0b7215b
   "metadata": {},
   "source": [
    "The relationship between expression and LOSH is more complicated. For some genes, such as the top marker gene for cluster 1 LYAR, cells in the cluster with higher expression also have higher LOSH - much like how in Poisson and negative binomial distributions, higher mean also means higher variance. However, some genes, such as the top marker gene for cluster 2 CTSS, have lower LOSH among cells that have higher expression, which means expression of this gene is more homogeneous within the cluster, consistent with local Moran. "
   ]
  },
  {
   "cell_type": "code",
   "execution_count": null,
<<<<<<< HEAD
<<<<<<< HEAD
   "id": "3756aee3",
||||||| d29fab7
   "id": "ba63b54b",
=======
   "id": "8721055a",
>>>>>>> documentation-devel
||||||| 565f7a7
   "id": "3756aee3",
=======
   "id": "c39aab50",
>>>>>>> e08844e1a91b8e98d8bdd4d0244954bda0b7215b
   "metadata": {},
   "outputs": [],
   "source": [
    "i <- 6 # Change if running this notebook\n",
    "plotExpression(sfe, top_markers_symbol[i], x = new_colname2[i], \n",
    "               color_by = \"cluster\", swap_rownames = \"Symbol\") +\n",
    "    scale_color_manual(values = ditto_colors) +\n",
    "    coord_flip() +\n",
    "    # comment out in case of error after changing i\n",
    "    geom_density2d(data = as.data.frame(colData(sfe)) |> \n",
    "                       mutate(gene = logcounts(sfe)[top_markers[i],]),\n",
    "                   mapping = aes(x = .data[[new_colname2[i]]], y = gene), \n",
    "                   color = \"blue\", linewidth = 0.3) "
   ]
  },
  {
   "cell_type": "markdown",
<<<<<<< HEAD
<<<<<<< HEAD
   "id": "aab3c03f",
||||||| d29fab7
   "id": "8860ef5e",
=======
   "id": "7c472e6c",
>>>>>>> documentation-devel
||||||| 565f7a7
   "id": "aab3c03f",
=======
   "id": "f3aa95c5",
>>>>>>> e08844e1a91b8e98d8bdd4d0244954bda0b7215b
   "metadata": {
    "lines_to_next_cell": 0
   },
   "source": [
    "For this gene, the density contour indicates that many cells don't express this gene and have homogeneous neighborhoods also with low expression. That streak around 0 expression means that neighbors of cells that don't express this gene have different levels of heterogeneity in this gene.\n",
    "\n",
    "## Moran plot\n",
    "\n",
    "Here we make Moran plots for the top marker genes."
   ]
  },
  {
   "cell_type": "code",
   "execution_count": null,
<<<<<<< HEAD
<<<<<<< HEAD
   "id": "f0f31648",
||||||| d29fab7
   "id": "a0e05c43",
=======
   "id": "7870975a",
>>>>>>> documentation-devel
||||||| 565f7a7
   "id": "f0f31648",
=======
   "id": "0662a8f2",
>>>>>>> e08844e1a91b8e98d8bdd4d0244954bda0b7215b
   "metadata": {},
   "outputs": [],
   "source": [
    "sfe <- runUnivariate(sfe, \"moran.plot\", features = top_markers, colGraphName = \"knn10\")"
   ]
  },
  {
   "cell_type": "markdown",
<<<<<<< HEAD
<<<<<<< HEAD
   "id": "f50471cd",
||||||| d29fab7
   "id": "c2f05c22",
=======
   "id": "eb4d89f7",
>>>>>>> documentation-devel
||||||| 565f7a7
   "id": "f50471cd",
=======
   "id": "8c902a74",
>>>>>>> e08844e1a91b8e98d8bdd4d0244954bda0b7215b
   "metadata": {
    "lines_to_next_cell": 0
   },
   "source": [
    "As a reference, we show Moran's I for the top marker genes, which is the slope of the line fitted to the Moran scatter plot."
   ]
  },
  {
   "cell_type": "code",
   "execution_count": null,
<<<<<<< HEAD
<<<<<<< HEAD
   "id": "e5737e30",
||||||| d29fab7
   "id": "07708d45",
=======
   "id": "e425c4f2",
>>>>>>> documentation-devel
||||||| 565f7a7
   "id": "e5737e30",
=======
   "id": "d1fe8c90",
>>>>>>> e08844e1a91b8e98d8bdd4d0244954bda0b7215b
   "metadata": {},
   "outputs": [],
   "source": [
    "top_markers_df[top_markers,]"
   ]
  },
  {
   "cell_type": "markdown",
<<<<<<< HEAD
<<<<<<< HEAD
   "id": "f75341ab",
||||||| d29fab7
   "id": "72223774",
=======
   "id": "d796efb1",
>>>>>>> documentation-devel
||||||| 565f7a7
   "id": "f75341ab",
=======
   "id": "243efe78",
>>>>>>> e08844e1a91b8e98d8bdd4d0244954bda0b7215b
   "metadata": {
    "lines_to_next_cell": 0
   },
   "source": [
    "There is no significant marker gene for cluster 7. These plots are shown in sequence"
   ]
  },
  {
   "cell_type": "code",
   "execution_count": null,
<<<<<<< HEAD
<<<<<<< HEAD
   "id": "df7e61e4",
||||||| d29fab7
   "id": "760410bd",
=======
   "id": "65e35782",
>>>>>>> documentation-devel
||||||| 565f7a7
   "id": "df7e61e4",
=======
   "id": "100df1cf",
>>>>>>> e08844e1a91b8e98d8bdd4d0244954bda0b7215b
   "metadata": {},
   "outputs": [],
   "source": [
    "plts <- lapply(top_markers, moranPlot, sfe = sfe, color_by = \"cluster\", \n",
    "               swap_rownames = \"Symbol\")"
   ]
  },
  {
   "cell_type": "code",
   "execution_count": null,
<<<<<<< HEAD
<<<<<<< HEAD
   "id": "c706e348",
||||||| d29fab7
   "id": "8eb41dab",
=======
   "id": "f3a8de84",
>>>>>>> documentation-devel
||||||| 565f7a7
   "id": "c706e348",
=======
   "id": "271fbdc4",
>>>>>>> e08844e1a91b8e98d8bdd4d0244954bda0b7215b
   "metadata": {
    "fig.height": 9,
    "fig.width": 9
   },
   "outputs": [],
   "source": [
    "wrap_plots(plts, widths = 1, heights = 1) +\n",
    "    plot_layout(ncol = 3, guides = \"collect\") +\n",
    "    plot_annotation(tag_levels = \"1\")"
   ]
  },
  {
   "cell_type": "markdown",
<<<<<<< HEAD
<<<<<<< HEAD
   "id": "48f3a82f",
||||||| d29fab7
   "id": "42716cba",
=======
   "id": "3bdb1ca0",
>>>>>>> documentation-devel
||||||| 565f7a7
   "id": "48f3a82f",
=======
   "id": "63ffb132",
>>>>>>> e08844e1a91b8e98d8bdd4d0244954bda0b7215b
   "metadata": {
    "lines_to_next_cell": 0
   },
   "source": [
    "For some genes, the points are so concentrated around the origin that there aren't \"enough\" points elsewhere to plot the density contours. But for the cells that do express these genes, there are clusters on this plot. Some genes are not expressed in many cells, but those cells have neighbors that do express the gene, hence the vertical streak at x = 0. \n",
    "\n",
    "In this tutorial, we applied univariate spatial statistics to the k nearest neighbor graph in the gene expression PCA space rather than the histological space. Just like in histological space, it would be impractical to examine all these statistics gene by gene, so multivariate analyses that incorporate the k nearest neighbor graph may be interesting.\n",
    "\n",
    "# Session info"
   ]
  },
  {
   "cell_type": "code",
   "execution_count": null,
<<<<<<< HEAD
<<<<<<< HEAD
   "id": "5535499c",
||||||| d29fab7
   "id": "16d31c5c",
=======
   "id": "835c3c49",
>>>>>>> documentation-devel
||||||| 565f7a7
   "id": "5535499c",
=======
   "id": "f7b857ba",
>>>>>>> e08844e1a91b8e98d8bdd4d0244954bda0b7215b
   "metadata": {
    "lines_to_next_cell": 0
   },
   "outputs": [],
   "source": [
    "sessionInfo()"
   ]
  },
  {
   "cell_type": "markdown",
<<<<<<< HEAD
<<<<<<< HEAD
   "id": "b2e6f86e",
||||||| d29fab7
   "id": "d4cc89ca",
=======
   "id": "5ade48ec",
>>>>>>> documentation-devel
||||||| 565f7a7
   "id": "b2e6f86e",
=======
   "id": "f11d4f7d",
>>>>>>> e08844e1a91b8e98d8bdd4d0244954bda0b7215b
   "metadata": {},
   "source": []
  }
 ],
 "metadata": {
  "kernelspec": {
   "display_name": "R",
   "language": "R",
   "name": "ir"
  }
 },
 "nbformat": 4,
 "nbformat_minor": 5
}
