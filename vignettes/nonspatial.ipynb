{
 "cells": [
  {
   "cell_type": "raw",
<<<<<<< HEAD
<<<<<<< HEAD
<<<<<<< HEAD
<<<<<<< HEAD
<<<<<<< HEAD
   "id": "7d71c0d3",
||||||| 11b9cb7
   "id": "5b34c7d3",
=======
   "id": "1b59e3bc",
>>>>>>> documentation-devel
||||||| 614e9b1
   "id": "1b59e3bc",
=======
   "id": "e050063e",
>>>>>>> documentation-devel
||||||| 856b4c0
<<<<<<< HEAD
   "id": "7d71c0d3",
||||||| 11b9cb7
   "id": "5b34c7d3",
=======
   "id": "1b59e3bc",
>>>>>>> documentation-devel
=======
   "id": "463f3b3e",
>>>>>>> 552590ea8fad969b67afdba27558a1e6cb21016e
||||||| 452c944
   "id": "e050063e",
=======
   "id": "e89d7c20",
>>>>>>> documentation-devel
||||||| 4da3324
<<<<<<< HEAD
<<<<<<< HEAD
<<<<<<< HEAD
   "id": "7d71c0d3",
||||||| 11b9cb7
   "id": "5b34c7d3",
=======
   "id": "1b59e3bc",
>>>>>>> documentation-devel
||||||| 614e9b1
   "id": "1b59e3bc",
=======
   "id": "e050063e",
>>>>>>> documentation-devel
||||||| 856b4c0
<<<<<<< HEAD
   "id": "7d71c0d3",
||||||| 11b9cb7
   "id": "5b34c7d3",
=======
   "id": "1b59e3bc",
>>>>>>> documentation-devel
=======
   "id": "463f3b3e",
>>>>>>> 552590ea8fad969b67afdba27558a1e6cb21016e
=======
   "id": "da212c9e",
>>>>>>> b6e07d13baac92b2c1c9b43f8e4113ffa87bf495
   "metadata": {},
   "source": [
    "---\n",
    "title: \"Apply spatial analyses to non-spatial scRNA-seq data\"\n",
    "author: \"Lambda Moses\"\n",
    "date: \"`r Sys.Date()`\"\n",
    "output: \n",
    "  html_document:\n",
    "  toc: true\n",
    "  toc_float:\n",
    "    collapsed: false\n",
    "  toc_depth: 3\n",
    "bibliography: ref.bib\n",
    "vignette: >\n",
    "  %\\VignetteIndexEntry{nonspatial}\n",
    "  %\\VignetteEngine{knitr::rmarkdown}\n",
    "  %\\VignetteEncoding{UTF-8}\n",
    "---"
   ]
  },
  {
   "cell_type": "code",
   "execution_count": null,
<<<<<<< HEAD
<<<<<<< HEAD
<<<<<<< HEAD
<<<<<<< HEAD
<<<<<<< HEAD
   "id": "0c88d3f4",
||||||| 11b9cb7
   "id": "12ac1956",
=======
   "id": "6d2da2f3",
>>>>>>> documentation-devel
||||||| 614e9b1
   "id": "6d2da2f3",
=======
   "id": "cd064ffa",
>>>>>>> documentation-devel
||||||| 856b4c0
<<<<<<< HEAD
   "id": "0c88d3f4",
||||||| 11b9cb7
   "id": "12ac1956",
=======
   "id": "6d2da2f3",
>>>>>>> documentation-devel
=======
   "id": "84acd79c",
>>>>>>> 552590ea8fad969b67afdba27558a1e6cb21016e
||||||| 452c944
   "id": "cd064ffa",
=======
   "id": "db8c33f2",
>>>>>>> documentation-devel
||||||| 4da3324
<<<<<<< HEAD
<<<<<<< HEAD
<<<<<<< HEAD
   "id": "0c88d3f4",
||||||| 11b9cb7
   "id": "12ac1956",
=======
   "id": "6d2da2f3",
>>>>>>> documentation-devel
||||||| 614e9b1
   "id": "6d2da2f3",
=======
   "id": "cd064ffa",
>>>>>>> documentation-devel
||||||| 856b4c0
<<<<<<< HEAD
   "id": "0c88d3f4",
||||||| 11b9cb7
   "id": "12ac1956",
=======
   "id": "6d2da2f3",
>>>>>>> documentation-devel
=======
   "id": "84acd79c",
>>>>>>> 552590ea8fad969b67afdba27558a1e6cb21016e
=======
   "id": "9b65803a",
>>>>>>> b6e07d13baac92b2c1c9b43f8e4113ffa87bf495
   "metadata": {
    "tags": [
     "remove_cell"
    ]
   },
   "outputs": [],
   "source": [
    "knitr::opts_chunk$set(\n",
    "  collapse = TRUE,\n",
    "  comment = \"#>\"\n",
    ")"
   ]
  },
  {
   "cell_type": "code",
   "execution_count": null,
<<<<<<< HEAD
<<<<<<< HEAD
<<<<<<< HEAD
<<<<<<< HEAD
<<<<<<< HEAD
   "id": "7550e671",
||||||| 11b9cb7
   "id": "a74eb865",
=======
   "id": "a5e0ca36",
>>>>>>> documentation-devel
||||||| 614e9b1
   "id": "a5e0ca36",
=======
   "id": "711c0b39",
>>>>>>> documentation-devel
||||||| 856b4c0
<<<<<<< HEAD
   "id": "7550e671",
||||||| 11b9cb7
   "id": "a74eb865",
=======
   "id": "a5e0ca36",
>>>>>>> documentation-devel
=======
   "id": "e736167e",
>>>>>>> 552590ea8fad969b67afdba27558a1e6cb21016e
||||||| 452c944
   "id": "711c0b39",
=======
   "id": "d8605e0a",
>>>>>>> documentation-devel
||||||| 4da3324
<<<<<<< HEAD
<<<<<<< HEAD
<<<<<<< HEAD
   "id": "7550e671",
||||||| 11b9cb7
   "id": "a74eb865",
=======
   "id": "a5e0ca36",
>>>>>>> documentation-devel
||||||| 614e9b1
   "id": "a5e0ca36",
=======
   "id": "711c0b39",
>>>>>>> documentation-devel
||||||| 856b4c0
<<<<<<< HEAD
   "id": "7550e671",
||||||| 11b9cb7
   "id": "a74eb865",
=======
   "id": "a5e0ca36",
>>>>>>> documentation-devel
=======
   "id": "e736167e",
>>>>>>> 552590ea8fad969b67afdba27558a1e6cb21016e
=======
   "id": "eef02b53",
>>>>>>> b6e07d13baac92b2c1c9b43f8e4113ffa87bf495
   "metadata": {
    "eval": false,
    "tags": [
     "remove_cell"
    ]
   },
   "outputs": [],
   "source": [
    "# Install Google Colab dependencies\n",
    "# Note: this can take 30+ minutes (many of the dependencies include C++ code, which needs to be compiled)\n",
    "\n",
    "# First install `sf`, `ragg` and `textshaping` and their system dependencies:\n",
    "system(\"apt-get -y update && apt-get install -y  libudunits2-dev libgdal-dev libgeos-dev libproj-dev libharfbuzz-dev libfribidi-dev\")\n",
    "install.packages(\"sf\")\n",
    "install.packages(\"textshaping\")\n",
    "install.packages(\"ragg\")\n",
    "\n",
    "# Install system dependencies of some other R packages that Voyager either imports or suggests:\n",
    "system(\"apt-get install -y libfribidi-dev libcairo2-dev libmagick++-dev\")\n",
    "\n",
    "# Install Voyager from Bioconductor:\n",
    "install.packages(\"BiocManager\")\n",
    "BiocManager::install(version = \"3.17\", ask = FALSE, update = FALSE, Ncpus = 2)\n",
    "BiocManager::install(\"scater\")\n",
    "system.time(\n",
    "  BiocManager::install(\"Voyager\", dependencies = TRUE, Ncpus = 2, update = FALSE)\n",
    ")\n",
    "\n",
    "# Additional dependencies for this notebook\n",
    "install.packages(\"reticulate\")\n",
    "system(\"pip3 install gget\")\n",
    "packageVersion(\"Voyager\")"
   ]
  },
  {
   "cell_type": "markdown",
<<<<<<< HEAD
<<<<<<< HEAD
<<<<<<< HEAD
<<<<<<< HEAD
<<<<<<< HEAD
   "id": "8da1d542",
||||||| 11b9cb7
   "id": "1c680c97",
=======
   "id": "59ad2513",
>>>>>>> documentation-devel
||||||| 614e9b1
   "id": "59ad2513",
=======
   "id": "43e81c4c",
>>>>>>> documentation-devel
||||||| 856b4c0
<<<<<<< HEAD
   "id": "8da1d542",
||||||| 11b9cb7
   "id": "1c680c97",
=======
   "id": "59ad2513",
>>>>>>> documentation-devel
=======
   "id": "f3e3be03",
>>>>>>> 552590ea8fad969b67afdba27558a1e6cb21016e
||||||| 452c944
   "id": "43e81c4c",
=======
   "id": "07438ea5",
>>>>>>> documentation-devel
||||||| 4da3324
<<<<<<< HEAD
<<<<<<< HEAD
<<<<<<< HEAD
   "id": "8da1d542",
||||||| 11b9cb7
   "id": "1c680c97",
=======
   "id": "59ad2513",
>>>>>>> documentation-devel
||||||| 614e9b1
   "id": "59ad2513",
=======
   "id": "43e81c4c",
>>>>>>> documentation-devel
||||||| 856b4c0
<<<<<<< HEAD
   "id": "8da1d542",
||||||| 11b9cb7
   "id": "1c680c97",
=======
   "id": "59ad2513",
>>>>>>> documentation-devel
=======
   "id": "f3e3be03",
>>>>>>> 552590ea8fad969b67afdba27558a1e6cb21016e
=======
   "id": "99923488",
>>>>>>> b6e07d13baac92b2c1c9b43f8e4113ffa87bf495
   "metadata": {
    "lines_to_next_cell": 0
   },
   "source": [
    "# Introduction\n",
    "\n",
    "For areal spatial data, the spatial neighborhood graph is used to indicate proximity, and is required for all spatial analysis methods in the package `spdep`. One of the methods to find the spatial neighborhood graph is k nearest neighbors, which is also commonly used in gene expression PCA space for graph-based clustering of cells in non-spatial scRNA-seq data. Then what if we use the k nearest neighbors graph in PCA space rather than histological space for \"spatial\" analyses for non-spatial scRNA-seq data?\n",
    "\n",
    "Here we try such an analysis on a human peripheral blood mononuclear cells (PBMC) scRNA-seq dataset, which doesn't originally have histological spatial organization. These are the packages loaded for the analysis:"
   ]
  },
  {
   "cell_type": "code",
   "execution_count": null,
<<<<<<< HEAD
<<<<<<< HEAD
<<<<<<< HEAD
<<<<<<< HEAD
<<<<<<< HEAD
   "id": "c2fd524b",
||||||| 11b9cb7
   "id": "412b1c16",
=======
   "id": "0a2584f0",
>>>>>>> documentation-devel
||||||| 614e9b1
   "id": "0a2584f0",
=======
   "id": "45b77f4a",
>>>>>>> documentation-devel
||||||| 856b4c0
<<<<<<< HEAD
   "id": "c2fd524b",
||||||| 11b9cb7
   "id": "412b1c16",
=======
   "id": "0a2584f0",
>>>>>>> documentation-devel
=======
   "id": "d72ef303",
>>>>>>> 552590ea8fad969b67afdba27558a1e6cb21016e
||||||| 452c944
   "id": "45b77f4a",
=======
   "id": "fd94cfbb",
>>>>>>> documentation-devel
||||||| 4da3324
<<<<<<< HEAD
<<<<<<< HEAD
<<<<<<< HEAD
   "id": "c2fd524b",
||||||| 11b9cb7
   "id": "412b1c16",
=======
   "id": "0a2584f0",
>>>>>>> documentation-devel
||||||| 614e9b1
   "id": "0a2584f0",
=======
   "id": "45b77f4a",
>>>>>>> documentation-devel
||||||| 856b4c0
<<<<<<< HEAD
   "id": "c2fd524b",
||||||| 11b9cb7
   "id": "412b1c16",
=======
   "id": "0a2584f0",
>>>>>>> documentation-devel
=======
   "id": "d72ef303",
>>>>>>> 552590ea8fad969b67afdba27558a1e6cb21016e
=======
   "id": "31cda856",
>>>>>>> b6e07d13baac92b2c1c9b43f8e4113ffa87bf495
   "metadata": {
    "name": "setup"
   },
   "outputs": [],
   "source": [
    "library(Voyager)\n",
    "library(SpatialFeatureExperiment)\n",
    "library(SpatialExperiment)\n",
    "library(DropletUtils)\n",
    "library(BiocNeighbors)\n",
    "library(scater)\n",
    "library(scran)\n",
    "library(bluster)\n",
    "library(BiocParallel)\n",
    "library(scuttle)\n",
    "library(stringr)\n",
    "library(BiocSingular)\n",
    "library(spdep)\n",
    "library(patchwork)\n",
    "library(dplyr)\n",
    "library(reticulate)\n",
    "theme_set(theme_bw())"
   ]
  },
  {
   "cell_type": "code",
   "execution_count": null,
<<<<<<< HEAD
<<<<<<< HEAD
<<<<<<< HEAD
<<<<<<< HEAD
<<<<<<< HEAD
   "id": "c046fdee",
||||||| 11b9cb7
   "id": "9b11a8a0",
=======
   "id": "e5d1363f",
>>>>>>> documentation-devel
||||||| 614e9b1
   "id": "e5d1363f",
=======
   "id": "119fab7e",
>>>>>>> documentation-devel
||||||| 856b4c0
<<<<<<< HEAD
   "id": "c046fdee",
||||||| 11b9cb7
   "id": "9b11a8a0",
=======
   "id": "e5d1363f",
>>>>>>> documentation-devel
=======
   "id": "659b4217",
>>>>>>> 552590ea8fad969b67afdba27558a1e6cb21016e
||||||| 452c944
   "id": "119fab7e",
=======
   "id": "8cebcb9b",
>>>>>>> documentation-devel
||||||| 4da3324
<<<<<<< HEAD
<<<<<<< HEAD
<<<<<<< HEAD
   "id": "c046fdee",
||||||| 11b9cb7
   "id": "9b11a8a0",
=======
   "id": "e5d1363f",
>>>>>>> documentation-devel
||||||| 614e9b1
   "id": "e5d1363f",
=======
   "id": "119fab7e",
>>>>>>> documentation-devel
||||||| 856b4c0
<<<<<<< HEAD
   "id": "c046fdee",
||||||| 11b9cb7
   "id": "9b11a8a0",
=======
   "id": "e5d1363f",
>>>>>>> documentation-devel
=======
   "id": "659b4217",
>>>>>>> 552590ea8fad969b67afdba27558a1e6cb21016e
=======
   "id": "2618be6a",
>>>>>>> b6e07d13baac92b2c1c9b43f8e4113ffa87bf495
   "metadata": {},
   "outputs": [],
   "source": [
    "# Specify Python version to use gget\n",
    "PY_PATH <- Sys.which(\"python\")\n",
    "use_python(PY_PATH)\n",
    "py_config()\n",
    "\n",
    "# Load gget\n",
    "gget <- import(\"gget\")"
   ]
  },
  {
   "cell_type": "markdown",
<<<<<<< HEAD
<<<<<<< HEAD
<<<<<<< HEAD
<<<<<<< HEAD
<<<<<<< HEAD
   "id": "3d12bb4f",
||||||| 11b9cb7
   "id": "68b66d20",
=======
   "id": "82be70fd",
>>>>>>> documentation-devel
||||||| 614e9b1
   "id": "82be70fd",
=======
   "id": "f9c7938d",
>>>>>>> documentation-devel
||||||| 856b4c0
<<<<<<< HEAD
   "id": "3d12bb4f",
||||||| 11b9cb7
   "id": "68b66d20",
=======
   "id": "82be70fd",
>>>>>>> documentation-devel
=======
   "id": "3178fa10",
>>>>>>> 552590ea8fad969b67afdba27558a1e6cb21016e
||||||| 452c944
   "id": "f9c7938d",
=======
   "id": "cd818a9a",
>>>>>>> documentation-devel
||||||| 4da3324
<<<<<<< HEAD
<<<<<<< HEAD
<<<<<<< HEAD
   "id": "3d12bb4f",
||||||| 11b9cb7
   "id": "68b66d20",
=======
   "id": "82be70fd",
>>>>>>> documentation-devel
||||||| 614e9b1
   "id": "82be70fd",
=======
   "id": "f9c7938d",
>>>>>>> documentation-devel
||||||| 856b4c0
<<<<<<< HEAD
   "id": "3d12bb4f",
||||||| 11b9cb7
   "id": "68b66d20",
=======
   "id": "82be70fd",
>>>>>>> documentation-devel
=======
   "id": "3178fa10",
>>>>>>> 552590ea8fad969b67afdba27558a1e6cb21016e
=======
   "id": "49f53f01",
>>>>>>> b6e07d13baac92b2c1c9b43f8e4113ffa87bf495
   "metadata": {},
   "source": [
    "Here we download the filtered [Cell Ranger gene count matrix from the 10X website](https://support.10xgenomics.com/single-cell-gene-expression/datasets/3.0.2/5k_pbmc_v3_nextgem?). The empty droplets have already been removed."
   ]
  },
  {
   "cell_type": "code",
   "execution_count": null,
<<<<<<< HEAD
<<<<<<< HEAD
<<<<<<< HEAD
<<<<<<< HEAD
<<<<<<< HEAD
   "id": "7f85691d",
||||||| 11b9cb7
   "id": "0cc08049",
=======
   "id": "c388bf7e",
>>>>>>> documentation-devel
||||||| 614e9b1
   "id": "c388bf7e",
=======
   "id": "17fd6f2d",
>>>>>>> documentation-devel
||||||| 856b4c0
<<<<<<< HEAD
   "id": "7f85691d",
||||||| 11b9cb7
   "id": "0cc08049",
=======
   "id": "c388bf7e",
>>>>>>> documentation-devel
=======
   "id": "ebb3e2fd",
>>>>>>> 552590ea8fad969b67afdba27558a1e6cb21016e
||||||| 452c944
   "id": "17fd6f2d",
=======
   "id": "d953a4db",
>>>>>>> documentation-devel
||||||| 4da3324
<<<<<<< HEAD
<<<<<<< HEAD
<<<<<<< HEAD
   "id": "7f85691d",
||||||| 11b9cb7
   "id": "0cc08049",
=======
   "id": "c388bf7e",
>>>>>>> documentation-devel
||||||| 614e9b1
   "id": "c388bf7e",
=======
   "id": "17fd6f2d",
>>>>>>> documentation-devel
||||||| 856b4c0
<<<<<<< HEAD
   "id": "7f85691d",
||||||| 11b9cb7
   "id": "0cc08049",
=======
   "id": "c388bf7e",
>>>>>>> documentation-devel
=======
   "id": "ebb3e2fd",
>>>>>>> 552590ea8fad969b67afdba27558a1e6cb21016e
=======
   "id": "10463d1c",
>>>>>>> b6e07d13baac92b2c1c9b43f8e4113ffa87bf495
   "metadata": {},
   "outputs": [],
   "source": [
    "if (!dir.exists(\"filtered_feature_bc_matrix\")) {\n",
    "    download.file(\"https://cf.10xgenomics.com/samples/cell-exp/3.0.2/5k_pbmc_v3_nextgem/5k_pbmc_v3_nextgem_filtered_feature_bc_matrix.tar.gz\", destfile = \"5kpbmc.tar.gz\", quiet = TRUE)\n",
    "    system(\"tar -xzf 5kpbmc.tar.gz\")\n",
    "}"
   ]
  },
  {
   "cell_type": "markdown",
<<<<<<< HEAD
<<<<<<< HEAD
<<<<<<< HEAD
<<<<<<< HEAD
<<<<<<< HEAD
   "id": "11a216c6",
||||||| 11b9cb7
   "id": "8cb16389",
=======
   "id": "467293bf",
>>>>>>> documentation-devel
||||||| 614e9b1
   "id": "467293bf",
=======
   "id": "af0757a9",
>>>>>>> documentation-devel
||||||| 856b4c0
<<<<<<< HEAD
   "id": "11a216c6",
||||||| 11b9cb7
   "id": "8cb16389",
=======
   "id": "467293bf",
>>>>>>> documentation-devel
=======
   "id": "3fe4be09",
>>>>>>> 552590ea8fad969b67afdba27558a1e6cb21016e
||||||| 452c944
   "id": "af0757a9",
=======
   "id": "c9b7950d",
>>>>>>> documentation-devel
||||||| 4da3324
<<<<<<< HEAD
<<<<<<< HEAD
<<<<<<< HEAD
   "id": "11a216c6",
||||||| 11b9cb7
   "id": "8cb16389",
=======
   "id": "467293bf",
>>>>>>> documentation-devel
||||||| 614e9b1
   "id": "467293bf",
=======
   "id": "af0757a9",
>>>>>>> documentation-devel
||||||| 856b4c0
<<<<<<< HEAD
   "id": "11a216c6",
||||||| 11b9cb7
   "id": "8cb16389",
=======
   "id": "467293bf",
>>>>>>> documentation-devel
=======
   "id": "3fe4be09",
>>>>>>> 552590ea8fad969b67afdba27558a1e6cb21016e
=======
   "id": "d63fc1fb",
>>>>>>> b6e07d13baac92b2c1c9b43f8e4113ffa87bf495
   "metadata": {
    "lines_to_next_cell": 0
   },
   "source": [
    "This is loaded into R as a `SingleCellExperiment` (SCE) object."
   ]
  },
  {
   "cell_type": "code",
   "execution_count": null,
<<<<<<< HEAD
<<<<<<< HEAD
<<<<<<< HEAD
<<<<<<< HEAD
<<<<<<< HEAD
   "id": "929c94e9",
||||||| 11b9cb7
   "id": "8b234ba5",
=======
   "id": "e6f5800c",
>>>>>>> documentation-devel
||||||| 614e9b1
   "id": "e6f5800c",
=======
   "id": "7ef82dfe",
>>>>>>> documentation-devel
||||||| 856b4c0
<<<<<<< HEAD
   "id": "929c94e9",
||||||| 11b9cb7
   "id": "8b234ba5",
=======
   "id": "e6f5800c",
>>>>>>> documentation-devel
=======
   "id": "5216a827",
>>>>>>> 552590ea8fad969b67afdba27558a1e6cb21016e
||||||| 452c944
   "id": "7ef82dfe",
=======
   "id": "9c8dbea4",
>>>>>>> documentation-devel
||||||| 4da3324
<<<<<<< HEAD
<<<<<<< HEAD
<<<<<<< HEAD
   "id": "929c94e9",
||||||| 11b9cb7
   "id": "8b234ba5",
=======
   "id": "e6f5800c",
>>>>>>> documentation-devel
||||||| 614e9b1
   "id": "e6f5800c",
=======
   "id": "7ef82dfe",
>>>>>>> documentation-devel
||||||| 856b4c0
<<<<<<< HEAD
   "id": "929c94e9",
||||||| 11b9cb7
   "id": "8b234ba5",
=======
   "id": "e6f5800c",
>>>>>>> documentation-devel
=======
   "id": "5216a827",
>>>>>>> 552590ea8fad969b67afdba27558a1e6cb21016e
=======
   "id": "47fcfe08",
>>>>>>> b6e07d13baac92b2c1c9b43f8e4113ffa87bf495
   "metadata": {},
   "outputs": [],
   "source": [
    "(sce <- read10xCounts(\"filtered_feature_bc_matrix/\"))"
   ]
  },
  {
   "cell_type": "code",
   "execution_count": null,
<<<<<<< HEAD
<<<<<<< HEAD
<<<<<<< HEAD
<<<<<<< HEAD
<<<<<<< HEAD
   "id": "4b86aa17",
||||||| 11b9cb7
   "id": "b23b78e8",
=======
   "id": "ba9c011d",
>>>>>>> documentation-devel
||||||| 614e9b1
   "id": "ba9c011d",
=======
   "id": "f80c5f39",
>>>>>>> documentation-devel
||||||| 856b4c0
<<<<<<< HEAD
   "id": "4b86aa17",
||||||| 11b9cb7
   "id": "b23b78e8",
=======
   "id": "ba9c011d",
>>>>>>> documentation-devel
=======
   "id": "3adac7b4",
>>>>>>> 552590ea8fad969b67afdba27558a1e6cb21016e
||||||| 452c944
   "id": "f80c5f39",
=======
   "id": "e3bd03d0",
>>>>>>> documentation-devel
||||||| 4da3324
<<<<<<< HEAD
<<<<<<< HEAD
<<<<<<< HEAD
   "id": "4b86aa17",
||||||| 11b9cb7
   "id": "b23b78e8",
=======
   "id": "ba9c011d",
>>>>>>> documentation-devel
||||||| 614e9b1
   "id": "ba9c011d",
=======
   "id": "f80c5f39",
>>>>>>> documentation-devel
||||||| 856b4c0
<<<<<<< HEAD
   "id": "4b86aa17",
||||||| 11b9cb7
   "id": "b23b78e8",
=======
   "id": "ba9c011d",
>>>>>>> documentation-devel
=======
   "id": "3adac7b4",
>>>>>>> 552590ea8fad969b67afdba27558a1e6cb21016e
=======
   "id": "0eb0ff8c",
>>>>>>> b6e07d13baac92b2c1c9b43f8e4113ffa87bf495
   "metadata": {},
   "outputs": [],
   "source": [
    "colnames(sce) <- sce$Barcode"
   ]
  },
  {
   "cell_type": "markdown",
<<<<<<< HEAD
<<<<<<< HEAD
<<<<<<< HEAD
<<<<<<< HEAD
<<<<<<< HEAD
   "id": "da35a345",
||||||| 11b9cb7
   "id": "24ca591b",
=======
   "id": "7a1fdf44",
>>>>>>> documentation-devel
||||||| 614e9b1
   "id": "7a1fdf44",
=======
   "id": "39e6ac3b",
>>>>>>> documentation-devel
||||||| 856b4c0
<<<<<<< HEAD
   "id": "da35a345",
||||||| 11b9cb7
   "id": "24ca591b",
=======
   "id": "7a1fdf44",
>>>>>>> documentation-devel
=======
   "id": "5755497f",
>>>>>>> 552590ea8fad969b67afdba27558a1e6cb21016e
||||||| 452c944
   "id": "39e6ac3b",
=======
   "id": "220b6df8",
>>>>>>> documentation-devel
||||||| 4da3324
<<<<<<< HEAD
<<<<<<< HEAD
<<<<<<< HEAD
   "id": "da35a345",
||||||| 11b9cb7
   "id": "24ca591b",
=======
   "id": "7a1fdf44",
>>>>>>> documentation-devel
||||||| 614e9b1
   "id": "7a1fdf44",
=======
   "id": "39e6ac3b",
>>>>>>> documentation-devel
||||||| 856b4c0
<<<<<<< HEAD
   "id": "da35a345",
||||||| 11b9cb7
   "id": "24ca591b",
=======
   "id": "7a1fdf44",
>>>>>>> documentation-devel
=======
   "id": "5755497f",
>>>>>>> 552590ea8fad969b67afdba27558a1e6cb21016e
=======
   "id": "64d9d584",
>>>>>>> b6e07d13baac92b2c1c9b43f8e4113ffa87bf495
   "metadata": {
    "lines_to_next_cell": 0
   },
   "source": [
    "# Quality control (QC)\n",
    "Here we perform some basic QC, to remove low quality cells with high proportion of mitochondrially encoded counts. "
   ]
  },
  {
   "cell_type": "code",
   "execution_count": null,
<<<<<<< HEAD
<<<<<<< HEAD
<<<<<<< HEAD
<<<<<<< HEAD
<<<<<<< HEAD
   "id": "a9348e65",
||||||| 11b9cb7
   "id": "e4a6dae5",
=======
   "id": "e8766753",
>>>>>>> documentation-devel
||||||| 614e9b1
   "id": "e8766753",
=======
   "id": "a22d7070",
>>>>>>> documentation-devel
||||||| 856b4c0
<<<<<<< HEAD
   "id": "a9348e65",
||||||| 11b9cb7
   "id": "e4a6dae5",
=======
   "id": "e8766753",
>>>>>>> documentation-devel
=======
   "id": "d75cd750",
>>>>>>> 552590ea8fad969b67afdba27558a1e6cb21016e
||||||| 452c944
   "id": "a22d7070",
=======
   "id": "c5ee685f",
>>>>>>> documentation-devel
||||||| 4da3324
<<<<<<< HEAD
<<<<<<< HEAD
<<<<<<< HEAD
   "id": "a9348e65",
||||||| 11b9cb7
   "id": "e4a6dae5",
=======
   "id": "e8766753",
>>>>>>> documentation-devel
||||||| 614e9b1
   "id": "e8766753",
=======
   "id": "a22d7070",
>>>>>>> documentation-devel
||||||| 856b4c0
<<<<<<< HEAD
   "id": "a9348e65",
||||||| 11b9cb7
   "id": "e4a6dae5",
=======
   "id": "e8766753",
>>>>>>> documentation-devel
=======
   "id": "d75cd750",
>>>>>>> 552590ea8fad969b67afdba27558a1e6cb21016e
=======
   "id": "ad7bf217",
>>>>>>> b6e07d13baac92b2c1c9b43f8e4113ffa87bf495
   "metadata": {},
   "outputs": [],
   "source": [
    "is_mito <- str_detect(rowData(sce)$Symbol, \"^MT-\")\n",
    "sum(is_mito)"
   ]
  },
  {
   "cell_type": "code",
   "execution_count": null,
<<<<<<< HEAD
<<<<<<< HEAD
<<<<<<< HEAD
<<<<<<< HEAD
<<<<<<< HEAD
   "id": "72c03971",
||||||| 11b9cb7
   "id": "e911255a",
=======
   "id": "07d5507c",
>>>>>>> documentation-devel
||||||| 614e9b1
   "id": "07d5507c",
=======
   "id": "e432791a",
>>>>>>> documentation-devel
||||||| 856b4c0
<<<<<<< HEAD
   "id": "72c03971",
||||||| 11b9cb7
   "id": "e911255a",
=======
   "id": "07d5507c",
>>>>>>> documentation-devel
=======
   "id": "5b71a3b0",
>>>>>>> 552590ea8fad969b67afdba27558a1e6cb21016e
||||||| 452c944
   "id": "e432791a",
=======
   "id": "cd97afea",
>>>>>>> documentation-devel
||||||| 4da3324
<<<<<<< HEAD
<<<<<<< HEAD
<<<<<<< HEAD
   "id": "72c03971",
||||||| 11b9cb7
   "id": "e911255a",
=======
   "id": "07d5507c",
>>>>>>> documentation-devel
||||||| 614e9b1
   "id": "07d5507c",
=======
   "id": "e432791a",
>>>>>>> documentation-devel
||||||| 856b4c0
<<<<<<< HEAD
   "id": "72c03971",
||||||| 11b9cb7
   "id": "e911255a",
=======
   "id": "07d5507c",
>>>>>>> documentation-devel
=======
   "id": "5b71a3b0",
>>>>>>> 552590ea8fad969b67afdba27558a1e6cb21016e
=======
   "id": "f89dfd87",
>>>>>>> b6e07d13baac92b2c1c9b43f8e4113ffa87bf495
   "metadata": {},
   "outputs": [],
   "source": [
    "sce <- addPerCellQCMetrics(sce, subsets = list(mito = is_mito))\n",
    "names(colData(sce))"
   ]
  },
  {
   "cell_type": "markdown",
<<<<<<< HEAD
<<<<<<< HEAD
<<<<<<< HEAD
<<<<<<< HEAD
<<<<<<< HEAD
   "id": "0dea7cb6",
||||||| 11b9cb7
   "id": "856079ae",
=======
   "id": "332ab318",
>>>>>>> documentation-devel
||||||| 614e9b1
   "id": "332ab318",
=======
   "id": "01822f00",
>>>>>>> documentation-devel
||||||| 856b4c0
<<<<<<< HEAD
   "id": "0dea7cb6",
||||||| 11b9cb7
   "id": "856079ae",
=======
   "id": "332ab318",
>>>>>>> documentation-devel
=======
   "id": "e2070101",
>>>>>>> 552590ea8fad969b67afdba27558a1e6cb21016e
||||||| 452c944
   "id": "01822f00",
=======
   "id": "fdcd149b",
>>>>>>> documentation-devel
||||||| 4da3324
<<<<<<< HEAD
<<<<<<< HEAD
<<<<<<< HEAD
   "id": "0dea7cb6",
||||||| 11b9cb7
   "id": "856079ae",
=======
   "id": "332ab318",
>>>>>>> documentation-devel
||||||| 614e9b1
   "id": "332ab318",
=======
   "id": "01822f00",
>>>>>>> documentation-devel
||||||| 856b4c0
<<<<<<< HEAD
   "id": "0dea7cb6",
||||||| 11b9cb7
   "id": "856079ae",
=======
   "id": "332ab318",
>>>>>>> documentation-devel
=======
   "id": "e2070101",
>>>>>>> 552590ea8fad969b67afdba27558a1e6cb21016e
=======
   "id": "b7858764",
>>>>>>> b6e07d13baac92b2c1c9b43f8e4113ffa87bf495
   "metadata": {},
   "source": [
    "The `addPerCellQCMetrics()` function computes the total UMI counts detected per cell (`sum`), number of genes detected per cell (`detected`), `sum` and `detected` for mitochondrial counts, and percentage of mitochondrial counts per cell."
   ]
  },
  {
   "cell_type": "code",
   "execution_count": null,
<<<<<<< HEAD
<<<<<<< HEAD
<<<<<<< HEAD
<<<<<<< HEAD
<<<<<<< HEAD
   "id": "9864152b",
||||||| 11b9cb7
   "id": "512ca539",
=======
   "id": "32880b74",
>>>>>>> documentation-devel
||||||| 614e9b1
   "id": "32880b74",
=======
   "id": "c3757571",
>>>>>>> documentation-devel
||||||| 856b4c0
<<<<<<< HEAD
   "id": "9864152b",
||||||| 11b9cb7
   "id": "512ca539",
=======
   "id": "32880b74",
>>>>>>> documentation-devel
=======
   "id": "c2c43a91",
>>>>>>> 552590ea8fad969b67afdba27558a1e6cb21016e
||||||| 452c944
   "id": "c3757571",
=======
   "id": "ff285ae6",
>>>>>>> documentation-devel
||||||| 4da3324
<<<<<<< HEAD
<<<<<<< HEAD
<<<<<<< HEAD
   "id": "9864152b",
||||||| 11b9cb7
   "id": "512ca539",
=======
   "id": "32880b74",
>>>>>>> documentation-devel
||||||| 614e9b1
   "id": "32880b74",
=======
   "id": "c3757571",
>>>>>>> documentation-devel
||||||| 856b4c0
<<<<<<< HEAD
   "id": "9864152b",
||||||| 11b9cb7
   "id": "512ca539",
=======
   "id": "32880b74",
>>>>>>> documentation-devel
=======
   "id": "c2c43a91",
>>>>>>> 552590ea8fad969b67afdba27558a1e6cb21016e
=======
   "id": "11be49f1",
>>>>>>> b6e07d13baac92b2c1c9b43f8e4113ffa87bf495
   "metadata": {},
   "outputs": [],
   "source": [
    "plotColData(sce, \"sum\") +\n",
    "    plotColData(sce, \"detected\") +\n",
    "    plotColData(sce, \"subsets_mito_percent\")"
   ]
  },
  {
   "cell_type": "markdown",
<<<<<<< HEAD
<<<<<<< HEAD
<<<<<<< HEAD
<<<<<<< HEAD
<<<<<<< HEAD
   "id": "4324097c",
||||||| 11b9cb7
   "id": "f28da816",
=======
   "id": "fc17c395",
>>>>>>> documentation-devel
||||||| 614e9b1
   "id": "fc17c395",
=======
   "id": "5b9fbac2",
>>>>>>> documentation-devel
||||||| 856b4c0
<<<<<<< HEAD
   "id": "4324097c",
||||||| 11b9cb7
   "id": "f28da816",
=======
   "id": "fc17c395",
>>>>>>> documentation-devel
=======
   "id": "d366b641",
>>>>>>> 552590ea8fad969b67afdba27558a1e6cb21016e
||||||| 452c944
   "id": "5b9fbac2",
=======
   "id": "99c4a541",
>>>>>>> documentation-devel
||||||| 4da3324
<<<<<<< HEAD
<<<<<<< HEAD
<<<<<<< HEAD
   "id": "4324097c",
||||||| 11b9cb7
   "id": "f28da816",
=======
   "id": "fc17c395",
>>>>>>> documentation-devel
||||||| 614e9b1
   "id": "fc17c395",
=======
   "id": "5b9fbac2",
>>>>>>> documentation-devel
||||||| 856b4c0
<<<<<<< HEAD
   "id": "4324097c",
||||||| 11b9cb7
   "id": "f28da816",
=======
   "id": "fc17c395",
>>>>>>> documentation-devel
=======
   "id": "d366b641",
>>>>>>> 552590ea8fad969b67afdba27558a1e6cb21016e
=======
   "id": "29a9dc9f",
>>>>>>> b6e07d13baac92b2c1c9b43f8e4113ffa87bf495
   "metadata": {
    "lines_to_next_cell": 0
   },
   "source": [
    "Here a 2D histogram is plotted to better show point density on the plot."
   ]
  },
  {
   "cell_type": "code",
   "execution_count": null,
<<<<<<< HEAD
<<<<<<< HEAD
<<<<<<< HEAD
<<<<<<< HEAD
<<<<<<< HEAD
   "id": "3547fd26",
||||||| 11b9cb7
   "id": "e30bbbfe",
=======
   "id": "1830ff4b",
>>>>>>> documentation-devel
||||||| 614e9b1
   "id": "1830ff4b",
=======
   "id": "61fdf937",
>>>>>>> documentation-devel
||||||| 856b4c0
<<<<<<< HEAD
   "id": "3547fd26",
||||||| 11b9cb7
   "id": "e30bbbfe",
=======
   "id": "1830ff4b",
>>>>>>> documentation-devel
=======
   "id": "3fa6b679",
>>>>>>> 552590ea8fad969b67afdba27558a1e6cb21016e
||||||| 452c944
   "id": "61fdf937",
=======
   "id": "518607ce",
>>>>>>> documentation-devel
||||||| 4da3324
<<<<<<< HEAD
<<<<<<< HEAD
<<<<<<< HEAD
   "id": "3547fd26",
||||||| 11b9cb7
   "id": "e30bbbfe",
=======
   "id": "1830ff4b",
>>>>>>> documentation-devel
||||||| 614e9b1
   "id": "1830ff4b",
=======
   "id": "61fdf937",
>>>>>>> documentation-devel
||||||| 856b4c0
<<<<<<< HEAD
   "id": "3547fd26",
||||||| 11b9cb7
   "id": "e30bbbfe",
=======
   "id": "1830ff4b",
>>>>>>> documentation-devel
=======
   "id": "3fa6b679",
>>>>>>> 552590ea8fad969b67afdba27558a1e6cb21016e
=======
   "id": "0b6c2cd6",
>>>>>>> b6e07d13baac92b2c1c9b43f8e4113ffa87bf495
   "metadata": {},
   "outputs": [],
   "source": [
    "plotColDataBin2D(sce, x = \"sum\", y = \"detected\")"
   ]
  },
  {
   "cell_type": "code",
   "execution_count": null,
<<<<<<< HEAD
<<<<<<< HEAD
<<<<<<< HEAD
<<<<<<< HEAD
<<<<<<< HEAD
   "id": "d0c0f987",
||||||| 11b9cb7
   "id": "073f2680",
=======
   "id": "8cd4b2c6",
>>>>>>> documentation-devel
||||||| 614e9b1
   "id": "8cd4b2c6",
=======
   "id": "c37d3e8e",
>>>>>>> documentation-devel
||||||| 856b4c0
<<<<<<< HEAD
   "id": "d0c0f987",
||||||| 11b9cb7
   "id": "073f2680",
=======
   "id": "8cd4b2c6",
>>>>>>> documentation-devel
=======
   "id": "d23b50a6",
>>>>>>> 552590ea8fad969b67afdba27558a1e6cb21016e
||||||| 452c944
   "id": "c37d3e8e",
=======
   "id": "461928ee",
>>>>>>> documentation-devel
||||||| 4da3324
<<<<<<< HEAD
<<<<<<< HEAD
<<<<<<< HEAD
   "id": "d0c0f987",
||||||| 11b9cb7
   "id": "073f2680",
=======
   "id": "8cd4b2c6",
>>>>>>> documentation-devel
||||||| 614e9b1
   "id": "8cd4b2c6",
=======
   "id": "c37d3e8e",
>>>>>>> documentation-devel
||||||| 856b4c0
<<<<<<< HEAD
   "id": "d0c0f987",
||||||| 11b9cb7
   "id": "073f2680",
=======
   "id": "8cd4b2c6",
>>>>>>> documentation-devel
=======
   "id": "d23b50a6",
>>>>>>> 552590ea8fad969b67afdba27558a1e6cb21016e
=======
   "id": "ba216454",
>>>>>>> b6e07d13baac92b2c1c9b43f8e4113ffa87bf495
   "metadata": {},
   "outputs": [],
   "source": [
    "plotColDataBin2D(sce, x = \"sum\", y = \"subsets_mito_percent\")"
   ]
  },
  {
   "cell_type": "markdown",
<<<<<<< HEAD
<<<<<<< HEAD
<<<<<<< HEAD
<<<<<<< HEAD
<<<<<<< HEAD
   "id": "36b50999",
||||||| 11b9cb7
   "id": "ba7b2b16",
=======
   "id": "9dacbab6",
>>>>>>> documentation-devel
||||||| 614e9b1
   "id": "9dacbab6",
=======
   "id": "ec662d17",
>>>>>>> documentation-devel
||||||| 856b4c0
<<<<<<< HEAD
   "id": "36b50999",
||||||| 11b9cb7
   "id": "ba7b2b16",
=======
   "id": "9dacbab6",
>>>>>>> documentation-devel
=======
   "id": "4fa27fad",
>>>>>>> 552590ea8fad969b67afdba27558a1e6cb21016e
||||||| 452c944
   "id": "ec662d17",
=======
   "id": "bb6a0862",
>>>>>>> documentation-devel
||||||| 4da3324
<<<<<<< HEAD
<<<<<<< HEAD
<<<<<<< HEAD
   "id": "36b50999",
||||||| 11b9cb7
   "id": "ba7b2b16",
=======
   "id": "9dacbab6",
>>>>>>> documentation-devel
||||||| 614e9b1
   "id": "9dacbab6",
=======
   "id": "ec662d17",
>>>>>>> documentation-devel
||||||| 856b4c0
<<<<<<< HEAD
   "id": "36b50999",
||||||| 11b9cb7
   "id": "ba7b2b16",
=======
   "id": "9dacbab6",
>>>>>>> documentation-devel
=======
   "id": "4fa27fad",
>>>>>>> 552590ea8fad969b67afdba27558a1e6cb21016e
=======
   "id": "d24a6651",
>>>>>>> b6e07d13baac92b2c1c9b43f8e4113ffa87bf495
   "metadata": {
    "lines_to_next_cell": 0
   },
   "source": [
    "Remove cells with >20% mitochondrial counts"
   ]
  },
  {
   "cell_type": "code",
   "execution_count": null,
<<<<<<< HEAD
<<<<<<< HEAD
<<<<<<< HEAD
<<<<<<< HEAD
<<<<<<< HEAD
   "id": "381a0dfe",
||||||| 11b9cb7
   "id": "0ebf1997",
=======
   "id": "7f9bd418",
>>>>>>> documentation-devel
||||||| 614e9b1
   "id": "7f9bd418",
=======
   "id": "6e2da094",
>>>>>>> documentation-devel
||||||| 856b4c0
<<<<<<< HEAD
   "id": "381a0dfe",
||||||| 11b9cb7
   "id": "0ebf1997",
=======
   "id": "7f9bd418",
>>>>>>> documentation-devel
=======
   "id": "4456bc38",
>>>>>>> 552590ea8fad969b67afdba27558a1e6cb21016e
||||||| 452c944
   "id": "6e2da094",
=======
   "id": "178b67d4",
>>>>>>> documentation-devel
||||||| 4da3324
<<<<<<< HEAD
<<<<<<< HEAD
<<<<<<< HEAD
   "id": "381a0dfe",
||||||| 11b9cb7
   "id": "0ebf1997",
=======
   "id": "7f9bd418",
>>>>>>> documentation-devel
||||||| 614e9b1
   "id": "7f9bd418",
=======
   "id": "6e2da094",
>>>>>>> documentation-devel
||||||| 856b4c0
<<<<<<< HEAD
   "id": "381a0dfe",
||||||| 11b9cb7
   "id": "0ebf1997",
=======
   "id": "7f9bd418",
>>>>>>> documentation-devel
=======
   "id": "4456bc38",
>>>>>>> 552590ea8fad969b67afdba27558a1e6cb21016e
=======
   "id": "c61a8cdc",
>>>>>>> b6e07d13baac92b2c1c9b43f8e4113ffa87bf495
   "metadata": {},
   "outputs": [],
   "source": [
    "sce <- sce[, sce$subsets_mito_percent < 20]\n",
    "sce <- sce[rowSums(counts(sce)) > 0,]"
   ]
  },
  {
   "cell_type": "markdown",
<<<<<<< HEAD
<<<<<<< HEAD
<<<<<<< HEAD
<<<<<<< HEAD
<<<<<<< HEAD
   "id": "4a839307",
||||||| 11b9cb7
   "id": "ee41bb79",
=======
   "id": "33b441cc",
>>>>>>> documentation-devel
||||||| 614e9b1
   "id": "33b441cc",
=======
   "id": "fadf2a05",
>>>>>>> documentation-devel
||||||| 856b4c0
<<<<<<< HEAD
   "id": "4a839307",
||||||| 11b9cb7
   "id": "ee41bb79",
=======
   "id": "33b441cc",
>>>>>>> documentation-devel
=======
   "id": "0db8f108",
>>>>>>> 552590ea8fad969b67afdba27558a1e6cb21016e
||||||| 452c944
   "id": "fadf2a05",
=======
   "id": "675c6ab4",
>>>>>>> documentation-devel
||||||| 4da3324
<<<<<<< HEAD
<<<<<<< HEAD
<<<<<<< HEAD
   "id": "4a839307",
||||||| 11b9cb7
   "id": "ee41bb79",
=======
   "id": "33b441cc",
>>>>>>> documentation-devel
||||||| 614e9b1
   "id": "33b441cc",
=======
   "id": "fadf2a05",
>>>>>>> documentation-devel
||||||| 856b4c0
<<<<<<< HEAD
   "id": "4a839307",
||||||| 11b9cb7
   "id": "ee41bb79",
=======
   "id": "33b441cc",
>>>>>>> documentation-devel
=======
   "id": "0db8f108",
>>>>>>> 552590ea8fad969b67afdba27558a1e6cb21016e
=======
   "id": "d6913589",
>>>>>>> b6e07d13baac92b2c1c9b43f8e4113ffa87bf495
   "metadata": {
    "lines_to_next_cell": 0
   },
   "source": [
    "# Basic non-spatial analyses\n",
    "Here we normalize the data, perform PCA, cluster the cells, and find marker genes for the clusters."
   ]
  },
  {
   "cell_type": "code",
   "execution_count": null,
<<<<<<< HEAD
<<<<<<< HEAD
<<<<<<< HEAD
<<<<<<< HEAD
<<<<<<< HEAD
   "id": "bb56b820",
||||||| 11b9cb7
   "id": "b42f69b7",
=======
   "id": "aadfd444",
>>>>>>> documentation-devel
||||||| 614e9b1
   "id": "aadfd444",
=======
   "id": "0715b6fa",
>>>>>>> documentation-devel
||||||| 856b4c0
<<<<<<< HEAD
   "id": "bb56b820",
||||||| 11b9cb7
   "id": "b42f69b7",
=======
   "id": "aadfd444",
>>>>>>> documentation-devel
=======
   "id": "773e4455",
>>>>>>> 552590ea8fad969b67afdba27558a1e6cb21016e
||||||| 452c944
   "id": "0715b6fa",
=======
   "id": "239ccb65",
>>>>>>> documentation-devel
||||||| 4da3324
<<<<<<< HEAD
<<<<<<< HEAD
<<<<<<< HEAD
   "id": "bb56b820",
||||||| 11b9cb7
   "id": "b42f69b7",
=======
   "id": "aadfd444",
>>>>>>> documentation-devel
||||||| 614e9b1
   "id": "aadfd444",
=======
   "id": "0715b6fa",
>>>>>>> documentation-devel
||||||| 856b4c0
<<<<<<< HEAD
   "id": "bb56b820",
||||||| 11b9cb7
   "id": "b42f69b7",
=======
   "id": "aadfd444",
>>>>>>> documentation-devel
=======
   "id": "773e4455",
>>>>>>> 552590ea8fad969b67afdba27558a1e6cb21016e
=======
   "id": "71723841",
>>>>>>> b6e07d13baac92b2c1c9b43f8e4113ffa87bf495
   "metadata": {},
   "outputs": [],
   "source": [
    "#clusts <- quickCluster(sce)\n",
    "#sce <- computeSumFactors(sce, cluster = clusts)\n",
    "#sce <- sce[, sizeFactors(sce) > 0]\n",
    "sce <- logNormCounts(sce)"
   ]
  },
  {
   "cell_type": "markdown",
<<<<<<< HEAD
<<<<<<< HEAD
<<<<<<< HEAD
<<<<<<< HEAD
<<<<<<< HEAD
   "id": "ea298429",
||||||| 11b9cb7
   "id": "3ba9e64d",
=======
   "id": "29a4452e",
>>>>>>> documentation-devel
||||||| 614e9b1
   "id": "29a4452e",
=======
   "id": "c2314021",
>>>>>>> documentation-devel
||||||| 856b4c0
<<<<<<< HEAD
   "id": "ea298429",
||||||| 11b9cb7
   "id": "3ba9e64d",
=======
   "id": "29a4452e",
>>>>>>> documentation-devel
=======
   "id": "1534d45e",
>>>>>>> 552590ea8fad969b67afdba27558a1e6cb21016e
||||||| 452c944
   "id": "c2314021",
=======
   "id": "09054f81",
>>>>>>> documentation-devel
||||||| 4da3324
<<<<<<< HEAD
<<<<<<< HEAD
<<<<<<< HEAD
   "id": "ea298429",
||||||| 11b9cb7
   "id": "3ba9e64d",
=======
   "id": "29a4452e",
>>>>>>> documentation-devel
||||||| 614e9b1
   "id": "29a4452e",
=======
   "id": "c2314021",
>>>>>>> documentation-devel
||||||| 856b4c0
<<<<<<< HEAD
   "id": "ea298429",
||||||| 11b9cb7
   "id": "3ba9e64d",
=======
   "id": "29a4452e",
>>>>>>> documentation-devel
=======
   "id": "1534d45e",
>>>>>>> 552590ea8fad969b67afdba27558a1e6cb21016e
=======
   "id": "37ae24bd",
>>>>>>> b6e07d13baac92b2c1c9b43f8e4113ffa87bf495
   "metadata": {
    "lines_to_next_cell": 0
   },
   "source": [
    "Use the highly variable genes for PCA:"
   ]
  },
  {
   "cell_type": "code",
   "execution_count": null,
<<<<<<< HEAD
<<<<<<< HEAD
<<<<<<< HEAD
<<<<<<< HEAD
<<<<<<< HEAD
   "id": "021abcfe",
||||||| 11b9cb7
   "id": "15086edc",
=======
   "id": "b8403bce",
>>>>>>> documentation-devel
||||||| 614e9b1
   "id": "b8403bce",
=======
   "id": "da54ecfb",
>>>>>>> documentation-devel
||||||| 856b4c0
<<<<<<< HEAD
   "id": "021abcfe",
||||||| 11b9cb7
   "id": "15086edc",
=======
   "id": "b8403bce",
>>>>>>> documentation-devel
=======
   "id": "f342e42f",
>>>>>>> 552590ea8fad969b67afdba27558a1e6cb21016e
||||||| 452c944
   "id": "da54ecfb",
=======
   "id": "9aae9049",
>>>>>>> documentation-devel
||||||| 4da3324
<<<<<<< HEAD
<<<<<<< HEAD
<<<<<<< HEAD
   "id": "021abcfe",
||||||| 11b9cb7
   "id": "15086edc",
=======
   "id": "b8403bce",
>>>>>>> documentation-devel
||||||| 614e9b1
   "id": "b8403bce",
=======
   "id": "da54ecfb",
>>>>>>> documentation-devel
||||||| 856b4c0
<<<<<<< HEAD
   "id": "021abcfe",
||||||| 11b9cb7
   "id": "15086edc",
=======
   "id": "b8403bce",
>>>>>>> documentation-devel
=======
   "id": "f342e42f",
>>>>>>> 552590ea8fad969b67afdba27558a1e6cb21016e
=======
   "id": "a424e2a0",
>>>>>>> b6e07d13baac92b2c1c9b43f8e4113ffa87bf495
   "metadata": {},
   "outputs": [],
   "source": [
    "dec <- modelGeneVar(sce, lowess = FALSE)\n",
    "hvgs <- getTopHVGs(dec, n = 2000)"
   ]
  },
  {
   "cell_type": "code",
   "execution_count": null,
<<<<<<< HEAD
<<<<<<< HEAD
<<<<<<< HEAD
<<<<<<< HEAD
<<<<<<< HEAD
   "id": "ddf3dde8",
||||||| 11b9cb7
   "id": "9aa6da4e",
=======
   "id": "ab05d199",
>>>>>>> documentation-devel
||||||| 614e9b1
   "id": "ab05d199",
=======
   "id": "9457c6e7",
>>>>>>> documentation-devel
||||||| 856b4c0
<<<<<<< HEAD
   "id": "ddf3dde8",
||||||| 11b9cb7
   "id": "9aa6da4e",
=======
   "id": "ab05d199",
>>>>>>> documentation-devel
=======
   "id": "8fd34a77",
>>>>>>> 552590ea8fad969b67afdba27558a1e6cb21016e
||||||| 452c944
   "id": "9457c6e7",
=======
   "id": "61138ee6",
>>>>>>> documentation-devel
||||||| 4da3324
<<<<<<< HEAD
<<<<<<< HEAD
<<<<<<< HEAD
   "id": "ddf3dde8",
||||||| 11b9cb7
   "id": "9aa6da4e",
=======
   "id": "ab05d199",
>>>>>>> documentation-devel
||||||| 614e9b1
   "id": "ab05d199",
=======
   "id": "9457c6e7",
>>>>>>> documentation-devel
||||||| 856b4c0
<<<<<<< HEAD
   "id": "ddf3dde8",
||||||| 11b9cb7
   "id": "9aa6da4e",
=======
   "id": "ab05d199",
>>>>>>> documentation-devel
=======
   "id": "8fd34a77",
>>>>>>> 552590ea8fad969b67afdba27558a1e6cb21016e
=======
   "id": "f689a223",
>>>>>>> b6e07d13baac92b2c1c9b43f8e4113ffa87bf495
   "metadata": {},
   "outputs": [],
   "source": [
    "set.seed(29)\n",
    "sce <- runPCA(sce, ncomponents = 30, BSPARAM = IrlbaParam(),\n",
    "              subset_row = hvgs, scale = TRUE)"
   ]
  },
  {
   "cell_type": "markdown",
<<<<<<< HEAD
<<<<<<< HEAD
<<<<<<< HEAD
<<<<<<< HEAD
<<<<<<< HEAD
   "id": "0b71c1a1",
||||||| 11b9cb7
   "id": "d6614481",
=======
   "id": "7eab5a23",
>>>>>>> documentation-devel
||||||| 614e9b1
   "id": "7eab5a23",
=======
   "id": "8e0b1f32",
>>>>>>> documentation-devel
||||||| 856b4c0
<<<<<<< HEAD
   "id": "0b71c1a1",
||||||| 11b9cb7
   "id": "d6614481",
=======
   "id": "7eab5a23",
>>>>>>> documentation-devel
=======
   "id": "e2b6d506",
>>>>>>> 552590ea8fad969b67afdba27558a1e6cb21016e
||||||| 452c944
   "id": "8e0b1f32",
=======
   "id": "02c308aa",
>>>>>>> documentation-devel
||||||| 4da3324
<<<<<<< HEAD
<<<<<<< HEAD
<<<<<<< HEAD
   "id": "0b71c1a1",
||||||| 11b9cb7
   "id": "d6614481",
=======
   "id": "7eab5a23",
>>>>>>> documentation-devel
||||||| 614e9b1
   "id": "7eab5a23",
=======
   "id": "8e0b1f32",
>>>>>>> documentation-devel
||||||| 856b4c0
<<<<<<< HEAD
   "id": "0b71c1a1",
||||||| 11b9cb7
   "id": "d6614481",
=======
   "id": "7eab5a23",
>>>>>>> documentation-devel
=======
   "id": "e2b6d506",
>>>>>>> 552590ea8fad969b67afdba27558a1e6cb21016e
=======
   "id": "f81cd862",
>>>>>>> b6e07d13baac92b2c1c9b43f8e4113ffa87bf495
   "metadata": {
    "lines_to_next_cell": 0
   },
   "source": [
    "How many PCs shall we use for further analyses?"
   ]
  },
  {
   "cell_type": "code",
   "execution_count": null,
<<<<<<< HEAD
<<<<<<< HEAD
<<<<<<< HEAD
<<<<<<< HEAD
<<<<<<< HEAD
   "id": "2b1dd9b8",
||||||| 11b9cb7
   "id": "67e3f240",
=======
   "id": "a7304989",
>>>>>>> documentation-devel
||||||| 614e9b1
   "id": "a7304989",
=======
   "id": "cee3620e",
>>>>>>> documentation-devel
||||||| 856b4c0
<<<<<<< HEAD
   "id": "2b1dd9b8",
||||||| 11b9cb7
   "id": "67e3f240",
=======
   "id": "a7304989",
>>>>>>> documentation-devel
=======
   "id": "0c840108",
>>>>>>> 552590ea8fad969b67afdba27558a1e6cb21016e
||||||| 452c944
   "id": "cee3620e",
=======
   "id": "2e4c8f80",
>>>>>>> documentation-devel
||||||| 4da3324
<<<<<<< HEAD
<<<<<<< HEAD
<<<<<<< HEAD
   "id": "2b1dd9b8",
||||||| 11b9cb7
   "id": "67e3f240",
=======
   "id": "a7304989",
>>>>>>> documentation-devel
||||||| 614e9b1
   "id": "a7304989",
=======
   "id": "cee3620e",
>>>>>>> documentation-devel
||||||| 856b4c0
<<<<<<< HEAD
   "id": "2b1dd9b8",
||||||| 11b9cb7
   "id": "67e3f240",
=======
   "id": "a7304989",
>>>>>>> documentation-devel
=======
   "id": "0c840108",
>>>>>>> 552590ea8fad969b67afdba27558a1e6cb21016e
=======
   "id": "d0691865",
>>>>>>> b6e07d13baac92b2c1c9b43f8e4113ffa87bf495
   "metadata": {},
   "outputs": [],
   "source": [
    "ElbowPlot(sce, ndims = 30)"
   ]
  },
  {
   "cell_type": "markdown",
<<<<<<< HEAD
<<<<<<< HEAD
<<<<<<< HEAD
<<<<<<< HEAD
<<<<<<< HEAD
   "id": "f7f86eb5",
||||||| 11b9cb7
   "id": "61d271a1",
=======
   "id": "ae6855c6",
>>>>>>> documentation-devel
||||||| 614e9b1
   "id": "ae6855c6",
=======
   "id": "634dc133",
>>>>>>> documentation-devel
||||||| 856b4c0
<<<<<<< HEAD
   "id": "f7f86eb5",
||||||| 11b9cb7
   "id": "61d271a1",
=======
   "id": "ae6855c6",
>>>>>>> documentation-devel
=======
   "id": "02affb12",
>>>>>>> 552590ea8fad969b67afdba27558a1e6cb21016e
||||||| 452c944
   "id": "634dc133",
=======
   "id": "01cf39c2",
>>>>>>> documentation-devel
||||||| 4da3324
<<<<<<< HEAD
<<<<<<< HEAD
<<<<<<< HEAD
   "id": "f7f86eb5",
||||||| 11b9cb7
   "id": "61d271a1",
=======
   "id": "ae6855c6",
>>>>>>> documentation-devel
||||||| 614e9b1
   "id": "ae6855c6",
=======
   "id": "634dc133",
>>>>>>> documentation-devel
||||||| 856b4c0
<<<<<<< HEAD
   "id": "f7f86eb5",
||||||| 11b9cb7
   "id": "61d271a1",
=======
   "id": "ae6855c6",
>>>>>>> documentation-devel
=======
   "id": "02affb12",
>>>>>>> 552590ea8fad969b67afdba27558a1e6cb21016e
=======
   "id": "07467f48",
>>>>>>> b6e07d13baac92b2c1c9b43f8e4113ffa87bf495
   "metadata": {},
   "source": [
    "Variance explained drops sharply from PC1 and again from PC4 and then levels off. Plot genes with the largest loadings of the top 4 PCs:"
   ]
  },
  {
   "cell_type": "code",
   "execution_count": null,
<<<<<<< HEAD
<<<<<<< HEAD
<<<<<<< HEAD
<<<<<<< HEAD
<<<<<<< HEAD
   "id": "7f8ca52f",
||||||| 11b9cb7
   "id": "8be1fc90",
=======
   "id": "783faa3c",
>>>>>>> documentation-devel
||||||| 614e9b1
   "id": "783faa3c",
=======
   "id": "f08e87ad",
>>>>>>> documentation-devel
||||||| 856b4c0
<<<<<<< HEAD
   "id": "7f8ca52f",
||||||| 11b9cb7
   "id": "8be1fc90",
=======
   "id": "783faa3c",
>>>>>>> documentation-devel
=======
   "id": "99440107",
>>>>>>> 552590ea8fad969b67afdba27558a1e6cb21016e
||||||| 452c944
   "id": "f08e87ad",
=======
   "id": "42c6a1df",
>>>>>>> documentation-devel
||||||| 4da3324
<<<<<<< HEAD
<<<<<<< HEAD
<<<<<<< HEAD
   "id": "7f8ca52f",
||||||| 11b9cb7
   "id": "8be1fc90",
=======
   "id": "783faa3c",
>>>>>>> documentation-devel
||||||| 614e9b1
   "id": "783faa3c",
=======
   "id": "f08e87ad",
>>>>>>> documentation-devel
||||||| 856b4c0
<<<<<<< HEAD
   "id": "7f8ca52f",
||||||| 11b9cb7
   "id": "8be1fc90",
=======
   "id": "783faa3c",
>>>>>>> documentation-devel
=======
   "id": "99440107",
>>>>>>> 552590ea8fad969b67afdba27558a1e6cb21016e
=======
   "id": "ba3a4b80",
>>>>>>> b6e07d13baac92b2c1c9b43f8e4113ffa87bf495
   "metadata": {
    "lines_to_next_cell": 2
   },
   "outputs": [],
   "source": [
    "plotDimLoadings(sce, swap_rownames = \"Symbol\")"
   ]
  },
  {
   "cell_type": "markdown",
<<<<<<< HEAD
<<<<<<< HEAD
<<<<<<< HEAD
<<<<<<< HEAD
<<<<<<< HEAD
   "id": "211ad93c",
||||||| 11b9cb7
   "id": "c30c2cdb",
=======
   "id": "f786edf2",
>>>>>>> documentation-devel
||||||| 614e9b1
   "id": "f786edf2",
=======
   "id": "523c3a51",
>>>>>>> documentation-devel
||||||| 856b4c0
<<<<<<< HEAD
   "id": "211ad93c",
||||||| 11b9cb7
   "id": "c30c2cdb",
=======
   "id": "f786edf2",
>>>>>>> documentation-devel
=======
   "id": "625df52f",
>>>>>>> 552590ea8fad969b67afdba27558a1e6cb21016e
||||||| 452c944
   "id": "523c3a51",
=======
   "id": "19e6b644",
>>>>>>> documentation-devel
||||||| 4da3324
<<<<<<< HEAD
<<<<<<< HEAD
<<<<<<< HEAD
   "id": "211ad93c",
||||||| 11b9cb7
   "id": "c30c2cdb",
=======
   "id": "f786edf2",
>>>>>>> documentation-devel
||||||| 614e9b1
   "id": "f786edf2",
=======
   "id": "523c3a51",
>>>>>>> documentation-devel
||||||| 856b4c0
<<<<<<< HEAD
   "id": "211ad93c",
||||||| 11b9cb7
   "id": "c30c2cdb",
=======
   "id": "f786edf2",
>>>>>>> documentation-devel
=======
   "id": "625df52f",
>>>>>>> 552590ea8fad969b67afdba27558a1e6cb21016e
=======
   "id": "ce7ffacb",
>>>>>>> b6e07d13baac92b2c1c9b43f8e4113ffa87bf495
   "metadata": {},
   "source": [
    "To keep a little more information, we use 10 PCs, after which variance explained levels off even more."
   ]
  },
  {
   "cell_type": "code",
   "execution_count": null,
<<<<<<< HEAD
<<<<<<< HEAD
<<<<<<< HEAD
<<<<<<< HEAD
<<<<<<< HEAD
   "id": "ff60c159",
||||||| 11b9cb7
   "id": "4300893c",
=======
   "id": "feb88b6f",
>>>>>>> documentation-devel
||||||| 614e9b1
   "id": "feb88b6f",
=======
   "id": "f0f62d69",
>>>>>>> documentation-devel
||||||| 856b4c0
<<<<<<< HEAD
   "id": "ff60c159",
||||||| 11b9cb7
   "id": "4300893c",
=======
   "id": "feb88b6f",
>>>>>>> documentation-devel
=======
   "id": "2d9c33cd",
>>>>>>> 552590ea8fad969b67afdba27558a1e6cb21016e
||||||| 452c944
   "id": "f0f62d69",
=======
   "id": "2c65bb6d",
>>>>>>> documentation-devel
||||||| 4da3324
<<<<<<< HEAD
<<<<<<< HEAD
<<<<<<< HEAD
   "id": "ff60c159",
||||||| 11b9cb7
   "id": "4300893c",
=======
   "id": "feb88b6f",
>>>>>>> documentation-devel
||||||| 614e9b1
   "id": "feb88b6f",
=======
   "id": "f0f62d69",
>>>>>>> documentation-devel
||||||| 856b4c0
<<<<<<< HEAD
   "id": "ff60c159",
||||||| 11b9cb7
   "id": "4300893c",
=======
   "id": "feb88b6f",
>>>>>>> documentation-devel
=======
   "id": "2d9c33cd",
>>>>>>> 552590ea8fad969b67afdba27558a1e6cb21016e
=======
   "id": "f110d6ba",
>>>>>>> b6e07d13baac92b2c1c9b43f8e4113ffa87bf495
   "metadata": {},
   "outputs": [],
   "source": [
    "sce$cluster <- clusterRows(reducedDim(sce, \"PCA\")[,1:10],\n",
    "                           BLUSPARAM = SNNGraphParam(cluster.fun = \"leiden\",\n",
    "                                                     k = 10,\n",
    "                                                     cluster.args = list(\n",
    "                                                         resolution=0.5,\n",
    "                                                         objective_function = \"modularity\"\n",
    "                                                     )))"
   ]
  },
  {
   "cell_type": "markdown",
<<<<<<< HEAD
<<<<<<< HEAD
<<<<<<< HEAD
<<<<<<< HEAD
<<<<<<< HEAD
   "id": "00edbb8b",
||||||| 11b9cb7
   "id": "b255e7e5",
=======
   "id": "6fddb05b",
>>>>>>> documentation-devel
||||||| 614e9b1
   "id": "6fddb05b",
=======
   "id": "2b51f809",
>>>>>>> documentation-devel
||||||| 856b4c0
<<<<<<< HEAD
   "id": "00edbb8b",
||||||| 11b9cb7
   "id": "b255e7e5",
=======
   "id": "6fddb05b",
>>>>>>> documentation-devel
=======
   "id": "f7cdbb7b",
>>>>>>> 552590ea8fad969b67afdba27558a1e6cb21016e
||||||| 452c944
   "id": "2b51f809",
=======
   "id": "746ffae4",
>>>>>>> documentation-devel
||||||| 4da3324
<<<<<<< HEAD
<<<<<<< HEAD
<<<<<<< HEAD
   "id": "00edbb8b",
||||||| 11b9cb7
   "id": "b255e7e5",
=======
   "id": "6fddb05b",
>>>>>>> documentation-devel
||||||| 614e9b1
   "id": "6fddb05b",
=======
   "id": "2b51f809",
>>>>>>> documentation-devel
||||||| 856b4c0
<<<<<<< HEAD
   "id": "00edbb8b",
||||||| 11b9cb7
   "id": "b255e7e5",
=======
   "id": "6fddb05b",
>>>>>>> documentation-devel
=======
   "id": "f7cdbb7b",
>>>>>>> 552590ea8fad969b67afdba27558a1e6cb21016e
=======
   "id": "d6e08c08",
>>>>>>> b6e07d13baac92b2c1c9b43f8e4113ffa87bf495
   "metadata": {},
   "source": [
    "Here we plot the cells in the first 4 PCs in a matrix plot. The diagonals are density plots of the number of cells as projected on each PC. The x axis should correspond to the columns of the matrix plot, and the y axis should correspond to the rows, so the plot in row 1 column 2 has PC2 in the x axis and PC1 in the y axis. The cells are colored by clusters found in the previous code chunk."
   ]
  },
  {
   "cell_type": "code",
   "execution_count": null,
<<<<<<< HEAD
<<<<<<< HEAD
<<<<<<< HEAD
<<<<<<< HEAD
<<<<<<< HEAD
   "id": "02ddff9e",
||||||| 11b9cb7
   "id": "d29d3d28",
=======
   "id": "170c9c3f",
>>>>>>> documentation-devel
||||||| 614e9b1
   "id": "170c9c3f",
=======
   "id": "f01d44f9",
>>>>>>> documentation-devel
||||||| 856b4c0
<<<<<<< HEAD
   "id": "02ddff9e",
||||||| 11b9cb7
   "id": "d29d3d28",
=======
   "id": "170c9c3f",
>>>>>>> documentation-devel
=======
   "id": "3ac00301",
>>>>>>> 552590ea8fad969b67afdba27558a1e6cb21016e
||||||| 452c944
   "id": "f01d44f9",
=======
   "id": "e734c7eb",
>>>>>>> documentation-devel
||||||| 4da3324
<<<<<<< HEAD
<<<<<<< HEAD
<<<<<<< HEAD
   "id": "02ddff9e",
||||||| 11b9cb7
   "id": "d29d3d28",
=======
   "id": "170c9c3f",
>>>>>>> documentation-devel
||||||| 614e9b1
   "id": "170c9c3f",
=======
   "id": "f01d44f9",
>>>>>>> documentation-devel
||||||| 856b4c0
<<<<<<< HEAD
   "id": "02ddff9e",
||||||| 11b9cb7
   "id": "d29d3d28",
=======
   "id": "170c9c3f",
>>>>>>> documentation-devel
=======
   "id": "3ac00301",
>>>>>>> 552590ea8fad969b67afdba27558a1e6cb21016e
=======
   "id": "5b8382d6",
>>>>>>> b6e07d13baac92b2c1c9b43f8e4113ffa87bf495
   "metadata": {
    "fig.height": 9,
    "fig.width": 9
   },
   "outputs": [],
   "source": [
    "plotPCA(sce, ncomponents = 4, color_by = \"cluster\")"
   ]
  },
  {
   "cell_type": "markdown",
<<<<<<< HEAD
<<<<<<< HEAD
<<<<<<< HEAD
<<<<<<< HEAD
<<<<<<< HEAD
   "id": "666194f6",
||||||| 11b9cb7
   "id": "259b85c4",
=======
   "id": "af06e730",
>>>>>>> documentation-devel
||||||| 614e9b1
   "id": "af06e730",
=======
   "id": "7670ce71",
>>>>>>> documentation-devel
||||||| 856b4c0
<<<<<<< HEAD
   "id": "666194f6",
||||||| 11b9cb7
   "id": "259b85c4",
=======
   "id": "af06e730",
>>>>>>> documentation-devel
=======
   "id": "8b2585a7",
>>>>>>> 552590ea8fad969b67afdba27558a1e6cb21016e
||||||| 452c944
   "id": "7670ce71",
=======
   "id": "1000338a",
>>>>>>> documentation-devel
||||||| 4da3324
<<<<<<< HEAD
<<<<<<< HEAD
<<<<<<< HEAD
   "id": "666194f6",
||||||| 11b9cb7
   "id": "259b85c4",
=======
   "id": "af06e730",
>>>>>>> documentation-devel
||||||| 614e9b1
   "id": "af06e730",
=======
   "id": "7670ce71",
>>>>>>> documentation-devel
||||||| 856b4c0
<<<<<<< HEAD
   "id": "666194f6",
||||||| 11b9cb7
   "id": "259b85c4",
=======
   "id": "af06e730",
>>>>>>> documentation-devel
=======
   "id": "8b2585a7",
>>>>>>> 552590ea8fad969b67afdba27558a1e6cb21016e
=======
   "id": "04fd32b7",
>>>>>>> b6e07d13baac92b2c1c9b43f8e4113ffa87bf495
   "metadata": {
    "lines_to_next_cell": 0
   },
   "source": [
    "How many cells are there in each cluster?"
   ]
  },
  {
   "cell_type": "code",
   "execution_count": null,
<<<<<<< HEAD
<<<<<<< HEAD
<<<<<<< HEAD
<<<<<<< HEAD
<<<<<<< HEAD
   "id": "d45b7381",
||||||| 11b9cb7
   "id": "3fd61529",
=======
   "id": "d2def9fa",
>>>>>>> documentation-devel
||||||| 614e9b1
   "id": "d2def9fa",
=======
   "id": "cf38bb70",
>>>>>>> documentation-devel
||||||| 856b4c0
<<<<<<< HEAD
   "id": "d45b7381",
||||||| 11b9cb7
   "id": "3fd61529",
=======
   "id": "d2def9fa",
>>>>>>> documentation-devel
=======
   "id": "218ad229",
>>>>>>> 552590ea8fad969b67afdba27558a1e6cb21016e
||||||| 452c944
   "id": "cf38bb70",
=======
   "id": "1f23dbea",
>>>>>>> documentation-devel
||||||| 4da3324
<<<<<<< HEAD
<<<<<<< HEAD
<<<<<<< HEAD
   "id": "d45b7381",
||||||| 11b9cb7
   "id": "3fd61529",
=======
   "id": "d2def9fa",
>>>>>>> documentation-devel
||||||| 614e9b1
   "id": "d2def9fa",
=======
   "id": "cf38bb70",
>>>>>>> documentation-devel
||||||| 856b4c0
<<<<<<< HEAD
   "id": "d45b7381",
||||||| 11b9cb7
   "id": "3fd61529",
=======
   "id": "d2def9fa",
>>>>>>> documentation-devel
=======
   "id": "218ad229",
>>>>>>> 552590ea8fad969b67afdba27558a1e6cb21016e
=======
   "id": "3ad4caa2",
>>>>>>> b6e07d13baac92b2c1c9b43f8e4113ffa87bf495
   "metadata": {},
   "outputs": [],
   "source": [
    "table(sce$cluster)"
   ]
  },
  {
   "cell_type": "markdown",
<<<<<<< HEAD
<<<<<<< HEAD
<<<<<<< HEAD
<<<<<<< HEAD
<<<<<<< HEAD
   "id": "b5647925",
||||||| 11b9cb7
   "id": "2b729128",
=======
   "id": "84d9e8cd",
>>>>>>> documentation-devel
||||||| 614e9b1
   "id": "84d9e8cd",
=======
   "id": "388b4fff",
>>>>>>> documentation-devel
||||||| 856b4c0
<<<<<<< HEAD
   "id": "b5647925",
||||||| 11b9cb7
   "id": "2b729128",
=======
   "id": "84d9e8cd",
>>>>>>> documentation-devel
=======
   "id": "2b805958",
>>>>>>> 552590ea8fad969b67afdba27558a1e6cb21016e
||||||| 452c944
   "id": "388b4fff",
=======
   "id": "8a53c187",
>>>>>>> documentation-devel
||||||| 4da3324
<<<<<<< HEAD
<<<<<<< HEAD
<<<<<<< HEAD
   "id": "b5647925",
||||||| 11b9cb7
   "id": "2b729128",
=======
   "id": "84d9e8cd",
>>>>>>> documentation-devel
||||||| 614e9b1
   "id": "84d9e8cd",
=======
   "id": "388b4fff",
>>>>>>> documentation-devel
||||||| 856b4c0
<<<<<<< HEAD
   "id": "b5647925",
||||||| 11b9cb7
   "id": "2b729128",
=======
   "id": "84d9e8cd",
>>>>>>> documentation-devel
=======
   "id": "2b805958",
>>>>>>> 552590ea8fad969b67afdba27558a1e6cb21016e
=======
   "id": "08f9798a",
>>>>>>> b6e07d13baac92b2c1c9b43f8e4113ffa87bf495
   "metadata": {
    "lines_to_next_cell": 0
   },
   "source": [
    "Then we use the conventional Wilcoxon rank sum test to find marker genes for each cluster. The test compares each cluster to the rest of the cells, and only genes more highly expressed in the cluster compared to the other cells are considered. The result is a list of data frames, where each data frame corresponds to one cluster. Areas under the receiver operator curve (AUC), distinguishing each cluster vs. any other cluster, are also included. The closer to 1 the better, while 0.5 means no better than random guessing. The false discovery rate (FDR) column contains the Benjamini-Hochberg corrected p-values. Genes in these data frames are already sorted by p-values."
   ]
  },
  {
   "cell_type": "code",
   "execution_count": null,
<<<<<<< HEAD
<<<<<<< HEAD
<<<<<<< HEAD
<<<<<<< HEAD
<<<<<<< HEAD
   "id": "8d0178b3",
||||||| 11b9cb7
   "id": "a1b46666",
=======
   "id": "aaafe475",
>>>>>>> documentation-devel
||||||| 614e9b1
   "id": "aaafe475",
=======
   "id": "36199bb6",
>>>>>>> documentation-devel
||||||| 856b4c0
<<<<<<< HEAD
   "id": "8d0178b3",
||||||| 11b9cb7
   "id": "a1b46666",
=======
   "id": "aaafe475",
>>>>>>> documentation-devel
=======
   "id": "7500652e",
>>>>>>> 552590ea8fad969b67afdba27558a1e6cb21016e
||||||| 452c944
   "id": "36199bb6",
=======
   "id": "de0026af",
>>>>>>> documentation-devel
||||||| 4da3324
<<<<<<< HEAD
<<<<<<< HEAD
<<<<<<< HEAD
   "id": "8d0178b3",
||||||| 11b9cb7
   "id": "a1b46666",
=======
   "id": "aaafe475",
>>>>>>> documentation-devel
||||||| 614e9b1
   "id": "aaafe475",
=======
   "id": "36199bb6",
>>>>>>> documentation-devel
||||||| 856b4c0
<<<<<<< HEAD
   "id": "8d0178b3",
||||||| 11b9cb7
   "id": "a1b46666",
=======
   "id": "aaafe475",
>>>>>>> documentation-devel
=======
   "id": "7500652e",
>>>>>>> 552590ea8fad969b67afdba27558a1e6cb21016e
=======
   "id": "ff6286a9",
>>>>>>> b6e07d13baac92b2c1c9b43f8e4113ffa87bf495
   "metadata": {
    "lines_to_next_cell": 2
   },
   "outputs": [],
   "source": [
    "markers <- findMarkers(sce, groups = colData(sce)$cluster,\n",
    "                       test.type = \"wilcox\", pval.type = \"all\", direction = \"up\")\n",
    "markers[[4]]"
   ]
  },
  {
   "cell_type": "markdown",
<<<<<<< HEAD
<<<<<<< HEAD
<<<<<<< HEAD
<<<<<<< HEAD
<<<<<<< HEAD
   "id": "76bc71ba",
||||||| 11b9cb7
   "id": "a3b0f5a8",
=======
   "id": "4803cd2c",
>>>>>>> documentation-devel
||||||| 614e9b1
   "id": "4803cd2c",
=======
   "id": "487008e3",
>>>>>>> documentation-devel
||||||| 856b4c0
<<<<<<< HEAD
   "id": "76bc71ba",
||||||| 11b9cb7
   "id": "a3b0f5a8",
=======
   "id": "4803cd2c",
>>>>>>> documentation-devel
=======
   "id": "ebc2d3b7",
>>>>>>> 552590ea8fad969b67afdba27558a1e6cb21016e
||||||| 452c944
   "id": "487008e3",
=======
   "id": "65dee276",
>>>>>>> documentation-devel
||||||| 4da3324
<<<<<<< HEAD
<<<<<<< HEAD
<<<<<<< HEAD
   "id": "76bc71ba",
||||||| 11b9cb7
   "id": "a3b0f5a8",
=======
   "id": "4803cd2c",
>>>>>>> documentation-devel
||||||| 614e9b1
   "id": "4803cd2c",
=======
   "id": "487008e3",
>>>>>>> documentation-devel
||||||| 856b4c0
<<<<<<< HEAD
   "id": "76bc71ba",
||||||| 11b9cb7
   "id": "a3b0f5a8",
=======
   "id": "4803cd2c",
>>>>>>> documentation-devel
=======
   "id": "ebc2d3b7",
>>>>>>> 552590ea8fad969b67afdba27558a1e6cb21016e
=======
   "id": "061f1ce5",
>>>>>>> b6e07d13baac92b2c1c9b43f8e4113ffa87bf495
   "metadata": {},
   "source": [
    "See how specific the top markers are to each cluster:"
   ]
  },
  {
   "cell_type": "code",
   "execution_count": null,
<<<<<<< HEAD
<<<<<<< HEAD
<<<<<<< HEAD
<<<<<<< HEAD
<<<<<<< HEAD
   "id": "031182d3",
||||||| 11b9cb7
   "id": "61fdbe97",
=======
   "id": "2d6f9009",
>>>>>>> documentation-devel
||||||| 614e9b1
   "id": "2d6f9009",
=======
   "id": "ae59399c",
>>>>>>> documentation-devel
||||||| 856b4c0
<<<<<<< HEAD
   "id": "031182d3",
||||||| 11b9cb7
   "id": "61fdbe97",
=======
   "id": "2d6f9009",
>>>>>>> documentation-devel
=======
   "id": "11265b1d",
>>>>>>> 552590ea8fad969b67afdba27558a1e6cb21016e
||||||| 452c944
   "id": "ae59399c",
=======
   "id": "608b0e16",
>>>>>>> documentation-devel
||||||| 4da3324
<<<<<<< HEAD
<<<<<<< HEAD
<<<<<<< HEAD
   "id": "031182d3",
||||||| 11b9cb7
   "id": "61fdbe97",
=======
   "id": "2d6f9009",
>>>>>>> documentation-devel
||||||| 614e9b1
   "id": "2d6f9009",
=======
   "id": "ae59399c",
>>>>>>> documentation-devel
||||||| 856b4c0
<<<<<<< HEAD
   "id": "031182d3",
||||||| 11b9cb7
   "id": "61fdbe97",
=======
   "id": "2d6f9009",
>>>>>>> documentation-devel
=======
   "id": "11265b1d",
>>>>>>> 552590ea8fad969b67afdba27558a1e6cb21016e
=======
   "id": "3cb9b5a1",
>>>>>>> b6e07d13baac92b2c1c9b43f8e4113ffa87bf495
   "metadata": {},
   "outputs": [],
   "source": [
    "top_markers <- unlist(lapply(markers, function(x) head(rownames(x), 1)))\n",
    "top_markers_symbol <- rowData(sce)[top_markers, \"Symbol\"]"
   ]
  },
  {
   "cell_type": "code",
   "execution_count": null,
<<<<<<< HEAD
<<<<<<< HEAD
<<<<<<< HEAD
<<<<<<< HEAD
<<<<<<< HEAD
   "id": "8a506679",
||||||| 11b9cb7
   "id": "7ef863c1",
=======
   "id": "739ad988",
>>>>>>> documentation-devel
||||||| 614e9b1
   "id": "739ad988",
=======
   "id": "0ceccfd1",
>>>>>>> documentation-devel
||||||| 856b4c0
<<<<<<< HEAD
   "id": "8a506679",
||||||| 11b9cb7
   "id": "7ef863c1",
=======
   "id": "739ad988",
>>>>>>> documentation-devel
=======
   "id": "9e281432",
>>>>>>> 552590ea8fad969b67afdba27558a1e6cb21016e
||||||| 452c944
   "id": "0ceccfd1",
=======
   "id": "e2f64d95",
>>>>>>> documentation-devel
||||||| 4da3324
<<<<<<< HEAD
<<<<<<< HEAD
<<<<<<< HEAD
   "id": "8a506679",
||||||| 11b9cb7
   "id": "7ef863c1",
=======
   "id": "739ad988",
>>>>>>> documentation-devel
||||||| 614e9b1
   "id": "739ad988",
=======
   "id": "0ceccfd1",
>>>>>>> documentation-devel
||||||| 856b4c0
<<<<<<< HEAD
   "id": "8a506679",
||||||| 11b9cb7
   "id": "7ef863c1",
=======
   "id": "739ad988",
>>>>>>> documentation-devel
=======
   "id": "9e281432",
>>>>>>> 552590ea8fad969b67afdba27558a1e6cb21016e
=======
   "id": "f011b7be",
>>>>>>> b6e07d13baac92b2c1c9b43f8e4113ffa87bf495
   "metadata": {},
   "outputs": [],
   "source": [
    "plotExpression(sce, top_markers_symbol, x = \"cluster\", swap_rownames = \"Symbol\",\n",
    "               point_fun = function(...) list())"
   ]
  },
  {
   "cell_type": "markdown",
<<<<<<< HEAD
<<<<<<< HEAD
<<<<<<< HEAD
<<<<<<< HEAD
<<<<<<< HEAD
   "id": "d3f582f0",
||||||| 11b9cb7
   "id": "6a9ba427",
=======
   "id": "832706ac",
>>>>>>> documentation-devel
||||||| 614e9b1
   "id": "832706ac",
=======
   "id": "b6ef7ce2",
>>>>>>> documentation-devel
||||||| 856b4c0
<<<<<<< HEAD
   "id": "d3f582f0",
||||||| 11b9cb7
   "id": "6a9ba427",
=======
   "id": "832706ac",
>>>>>>> documentation-devel
=======
   "id": "37780d16",
>>>>>>> 552590ea8fad969b67afdba27558a1e6cb21016e
||||||| 452c944
   "id": "b6ef7ce2",
=======
   "id": "7619c363",
>>>>>>> documentation-devel
||||||| 4da3324
<<<<<<< HEAD
<<<<<<< HEAD
<<<<<<< HEAD
   "id": "d3f582f0",
||||||| 11b9cb7
   "id": "6a9ba427",
=======
   "id": "832706ac",
>>>>>>> documentation-devel
||||||| 614e9b1
   "id": "832706ac",
=======
   "id": "b6ef7ce2",
>>>>>>> documentation-devel
||||||| 856b4c0
<<<<<<< HEAD
   "id": "d3f582f0",
||||||| 11b9cb7
   "id": "6a9ba427",
=======
   "id": "832706ac",
>>>>>>> documentation-devel
=======
   "id": "37780d16",
>>>>>>> 552590ea8fad969b67afdba27558a1e6cb21016e
=======
   "id": "83e17bc5",
>>>>>>> b6e07d13baac92b2c1c9b43f8e4113ffa87bf495
   "metadata": {
    "lines_to_next_cell": 0
   },
   "source": [
    "We can use the [gget info](https://pachterlab.github.io/gget/info.html) module from the [gget](https://pachterlab.github.io/gget/) package to get additional information for these marker genes. For example, their [NCBI](https://www.ncbi.nlm.nih.gov/) description:"
   ]
  },
  {
   "cell_type": "code",
   "execution_count": null,
<<<<<<< HEAD
<<<<<<< HEAD
<<<<<<< HEAD
<<<<<<< HEAD
<<<<<<< HEAD
   "id": "e087e626",
||||||| 11b9cb7
   "id": "4773f485",
=======
   "id": "8743f152",
>>>>>>> documentation-devel
||||||| 614e9b1
   "id": "8743f152",
=======
   "id": "47e2ae59",
>>>>>>> documentation-devel
||||||| 856b4c0
<<<<<<< HEAD
   "id": "e087e626",
||||||| 11b9cb7
   "id": "4773f485",
=======
   "id": "8743f152",
>>>>>>> documentation-devel
=======
   "id": "76848af7",
>>>>>>> 552590ea8fad969b67afdba27558a1e6cb21016e
||||||| 452c944
   "id": "47e2ae59",
=======
   "id": "56eb979f",
>>>>>>> documentation-devel
||||||| 4da3324
<<<<<<< HEAD
<<<<<<< HEAD
<<<<<<< HEAD
   "id": "e087e626",
||||||| 11b9cb7
   "id": "4773f485",
=======
   "id": "8743f152",
>>>>>>> documentation-devel
||||||| 614e9b1
   "id": "8743f152",
=======
   "id": "47e2ae59",
>>>>>>> documentation-devel
||||||| 856b4c0
<<<<<<< HEAD
   "id": "e087e626",
||||||| 11b9cb7
   "id": "4773f485",
=======
   "id": "8743f152",
>>>>>>> documentation-devel
=======
   "id": "76848af7",
>>>>>>> 552590ea8fad969b67afdba27558a1e6cb21016e
=======
   "id": "2ae06a48",
>>>>>>> b6e07d13baac92b2c1c9b43f8e4113ffa87bf495
   "metadata": {},
   "outputs": [],
   "source": [
    "gget_info <- gget$info(top_markers)\n",
    "\n",
    "rownames(gget_info) <- gget_info$ensembl_gene_name\n",
    "select(gget_info, ncbi_description)"
   ]
  },
  {
   "cell_type": "markdown",
<<<<<<< HEAD
<<<<<<< HEAD
<<<<<<< HEAD
<<<<<<< HEAD
<<<<<<< HEAD
   "id": "2e83f2ef",
||||||| 11b9cb7
   "id": "5bc2d1de",
=======
   "id": "efe16144",
>>>>>>> documentation-devel
||||||| 614e9b1
   "id": "efe16144",
=======
   "id": "a639bf24",
>>>>>>> documentation-devel
||||||| 856b4c0
<<<<<<< HEAD
   "id": "2e83f2ef",
||||||| 11b9cb7
   "id": "5bc2d1de",
=======
   "id": "efe16144",
>>>>>>> documentation-devel
=======
   "id": "ff2f54a1",
>>>>>>> 552590ea8fad969b67afdba27558a1e6cb21016e
||||||| 452c944
   "id": "a639bf24",
=======
   "id": "098c6c95",
>>>>>>> documentation-devel
||||||| 4da3324
<<<<<<< HEAD
<<<<<<< HEAD
<<<<<<< HEAD
   "id": "2e83f2ef",
||||||| 11b9cb7
   "id": "5bc2d1de",
=======
   "id": "efe16144",
>>>>>>> documentation-devel
||||||| 614e9b1
   "id": "efe16144",
=======
   "id": "a639bf24",
>>>>>>> documentation-devel
||||||| 856b4c0
<<<<<<< HEAD
   "id": "2e83f2ef",
||||||| 11b9cb7
   "id": "5bc2d1de",
=======
   "id": "efe16144",
>>>>>>> documentation-devel
=======
   "id": "ff2f54a1",
>>>>>>> 552590ea8fad969b67afdba27558a1e6cb21016e
=======
   "id": "aa9273e6",
>>>>>>> b6e07d13baac92b2c1c9b43f8e4113ffa87bf495
   "metadata": {
    "lines_to_next_cell": 0
   },
   "source": [
    "# \"Spatial\" analyses for QC metrics\n",
    "Find k nearest neighbor graph in PCA space for Moran's I: We are not using `spdep` here since its `nb2listwdist()` function for distance based edge weighting requires 2-3 dimensional spatial coordinates while the coordinates here have 10 dimensions. Here, inverse distance weighting is used for edge weights."
   ]
  },
  {
   "cell_type": "code",
   "execution_count": null,
<<<<<<< HEAD
<<<<<<< HEAD
<<<<<<< HEAD
<<<<<<< HEAD
<<<<<<< HEAD
   "id": "9b5eeb88",
||||||| 11b9cb7
   "id": "3244b484",
=======
   "id": "51aef1c1",
>>>>>>> documentation-devel
||||||| 614e9b1
   "id": "51aef1c1",
=======
   "id": "7fe7e179",
>>>>>>> documentation-devel
||||||| 856b4c0
<<<<<<< HEAD
   "id": "9b5eeb88",
||||||| 11b9cb7
   "id": "3244b484",
=======
   "id": "51aef1c1",
>>>>>>> documentation-devel
=======
   "id": "55da2d41",
>>>>>>> 552590ea8fad969b67afdba27558a1e6cb21016e
||||||| 452c944
   "id": "7fe7e179",
=======
   "id": "9a655e74",
>>>>>>> documentation-devel
||||||| 4da3324
<<<<<<< HEAD
<<<<<<< HEAD
<<<<<<< HEAD
   "id": "9b5eeb88",
||||||| 11b9cb7
   "id": "3244b484",
=======
   "id": "51aef1c1",
>>>>>>> documentation-devel
||||||| 614e9b1
   "id": "51aef1c1",
=======
   "id": "7fe7e179",
>>>>>>> documentation-devel
||||||| 856b4c0
<<<<<<< HEAD
   "id": "9b5eeb88",
||||||| 11b9cb7
   "id": "3244b484",
=======
   "id": "51aef1c1",
>>>>>>> documentation-devel
=======
   "id": "55da2d41",
>>>>>>> 552590ea8fad969b67afdba27558a1e6cb21016e
=======
   "id": "39598c4e",
>>>>>>> b6e07d13baac92b2c1c9b43f8e4113ffa87bf495
   "metadata": {},
   "outputs": [],
   "source": [
    "foo <- findKNN(reducedDim(sce, \"PCA\")[,1:10], k=10, BNPARAM=AnnoyParam())\n",
    "# Split by row\n",
    "foo_nb <- asplit(foo$index, 1)\n",
    "dmat <- 1/foo$distance\n",
    "# Row normalize the weights\n",
    "dmat <- sweep(dmat, 1, rowSums(dmat), FUN = \"/\")\n",
    "glist <- asplit(dmat, 1)\n",
    "# Sort based on index\n",
    "ord <- lapply(foo_nb, order)\n",
    "foo_nb <- lapply(seq_along(foo_nb), function(i) foo_nb[[i]][ord[[i]]])\n",
    "class(foo_nb) <- \"nb\"\n",
    "glist <- lapply(seq_along(glist), function(i) glist[[i]][ord[[i]]])\n",
    "\n",
    "listw <- list(style = \"W\",\n",
    "              neighbours = foo_nb,\n",
    "              weights = glist)\n",
    "class(listw) <- \"listw\"\n",
    "attr(listw, \"region.id\") <- colnames(sce)"
   ]
  },
  {
   "cell_type": "markdown",
<<<<<<< HEAD
<<<<<<< HEAD
<<<<<<< HEAD
<<<<<<< HEAD
<<<<<<< HEAD
   "id": "570f57e6",
||||||| 11b9cb7
   "id": "8354ea91",
=======
   "id": "c9867a98",
>>>>>>> documentation-devel
||||||| 614e9b1
   "id": "c9867a98",
=======
   "id": "848dc89a",
>>>>>>> documentation-devel
||||||| 856b4c0
<<<<<<< HEAD
   "id": "570f57e6",
||||||| 11b9cb7
   "id": "8354ea91",
=======
   "id": "c9867a98",
>>>>>>> documentation-devel
=======
   "id": "b1716cfd",
>>>>>>> 552590ea8fad969b67afdba27558a1e6cb21016e
||||||| 452c944
   "id": "848dc89a",
=======
   "id": "b123436a",
>>>>>>> documentation-devel
||||||| 4da3324
<<<<<<< HEAD
<<<<<<< HEAD
<<<<<<< HEAD
   "id": "570f57e6",
||||||| 11b9cb7
   "id": "8354ea91",
=======
   "id": "c9867a98",
>>>>>>> documentation-devel
||||||| 614e9b1
   "id": "c9867a98",
=======
   "id": "848dc89a",
>>>>>>> documentation-devel
||||||| 856b4c0
<<<<<<< HEAD
   "id": "570f57e6",
||||||| 11b9cb7
   "id": "8354ea91",
=======
   "id": "c9867a98",
>>>>>>> documentation-devel
=======
   "id": "b1716cfd",
>>>>>>> 552590ea8fad969b67afdba27558a1e6cb21016e
=======
   "id": "750e4dfc",
>>>>>>> b6e07d13baac92b2c1c9b43f8e4113ffa87bf495
   "metadata": {
    "lines_to_next_cell": 0
   },
   "source": [
    "Because there is no histological space, we convert the SCE object into `SpatialFeatureExperiment` (SFE) to use the spatial analysis and plotting functions from `Voyager`, and pretend that the first 2 PCs are the histological space."
   ]
  },
  {
   "cell_type": "code",
   "execution_count": null,
<<<<<<< HEAD
<<<<<<< HEAD
<<<<<<< HEAD
<<<<<<< HEAD
<<<<<<< HEAD
   "id": "7795935e",
||||||| 11b9cb7
   "id": "4b451f1c",
=======
   "id": "8a73e0e6",
>>>>>>> documentation-devel
||||||| 614e9b1
   "id": "8a73e0e6",
=======
   "id": "cac9baa6",
>>>>>>> documentation-devel
||||||| 856b4c0
<<<<<<< HEAD
   "id": "7795935e",
||||||| 11b9cb7
   "id": "4b451f1c",
=======
   "id": "8a73e0e6",
>>>>>>> documentation-devel
=======
   "id": "a3b3a573",
>>>>>>> 552590ea8fad969b67afdba27558a1e6cb21016e
||||||| 452c944
   "id": "cac9baa6",
=======
   "id": "42417212",
>>>>>>> documentation-devel
||||||| 4da3324
<<<<<<< HEAD
<<<<<<< HEAD
<<<<<<< HEAD
   "id": "7795935e",
||||||| 11b9cb7
   "id": "4b451f1c",
=======
   "id": "8a73e0e6",
>>>>>>> documentation-devel
||||||| 614e9b1
   "id": "8a73e0e6",
=======
   "id": "cac9baa6",
>>>>>>> documentation-devel
||||||| 856b4c0
<<<<<<< HEAD
   "id": "7795935e",
||||||| 11b9cb7
   "id": "4b451f1c",
=======
   "id": "8a73e0e6",
>>>>>>> documentation-devel
=======
   "id": "a3b3a573",
>>>>>>> 552590ea8fad969b67afdba27558a1e6cb21016e
=======
   "id": "aff74416",
>>>>>>> b6e07d13baac92b2c1c9b43f8e4113ffa87bf495
   "metadata": {},
   "outputs": [],
   "source": [
    "(sfe <- toSpatialFeatureExperiment(sce, spatialCoords = reducedDim(sce, \"PCA\")[,1:2],\n",
    "                                  spatialCoordsNames = NULL))"
   ]
  },
  {
   "cell_type": "markdown",
<<<<<<< HEAD
<<<<<<< HEAD
<<<<<<< HEAD
<<<<<<< HEAD
<<<<<<< HEAD
   "id": "45ecd417",
||||||| 11b9cb7
   "id": "529eb9f3",
=======
   "id": "c4b972ba",
>>>>>>> documentation-devel
||||||| 614e9b1
   "id": "c4b972ba",
=======
   "id": "13158724",
>>>>>>> documentation-devel
||||||| 856b4c0
<<<<<<< HEAD
   "id": "45ecd417",
||||||| 11b9cb7
   "id": "529eb9f3",
=======
   "id": "c4b972ba",
>>>>>>> documentation-devel
=======
   "id": "d16610fb",
>>>>>>> 552590ea8fad969b67afdba27558a1e6cb21016e
||||||| 452c944
   "id": "13158724",
=======
   "id": "e9f91a85",
>>>>>>> documentation-devel
||||||| 4da3324
<<<<<<< HEAD
<<<<<<< HEAD
<<<<<<< HEAD
   "id": "45ecd417",
||||||| 11b9cb7
   "id": "529eb9f3",
=======
   "id": "c4b972ba",
>>>>>>> documentation-devel
||||||| 614e9b1
   "id": "c4b972ba",
=======
   "id": "13158724",
>>>>>>> documentation-devel
||||||| 856b4c0
<<<<<<< HEAD
   "id": "45ecd417",
||||||| 11b9cb7
   "id": "529eb9f3",
=======
   "id": "c4b972ba",
>>>>>>> documentation-devel
=======
   "id": "d16610fb",
>>>>>>> 552590ea8fad969b67afdba27558a1e6cb21016e
=======
   "id": "1a9ea2a0",
>>>>>>> b6e07d13baac92b2c1c9b43f8e4113ffa87bf495
   "metadata": {
    "lines_to_next_cell": 0
   },
   "source": [
    "Add the k nearest neighbor graph to the SFE object:"
   ]
  },
  {
   "cell_type": "code",
   "execution_count": null,
<<<<<<< HEAD
<<<<<<< HEAD
<<<<<<< HEAD
<<<<<<< HEAD
<<<<<<< HEAD
   "id": "83fca975",
||||||| 11b9cb7
   "id": "2844ef99",
=======
   "id": "7812e9a2",
>>>>>>> documentation-devel
||||||| 614e9b1
   "id": "7812e9a2",
=======
   "id": "830c089b",
>>>>>>> documentation-devel
||||||| 856b4c0
<<<<<<< HEAD
   "id": "83fca975",
||||||| 11b9cb7
   "id": "2844ef99",
=======
   "id": "7812e9a2",
>>>>>>> documentation-devel
=======
   "id": "9f5aa7ef",
>>>>>>> 552590ea8fad969b67afdba27558a1e6cb21016e
||||||| 452c944
   "id": "830c089b",
=======
   "id": "0e2f79b0",
>>>>>>> documentation-devel
||||||| 4da3324
<<<<<<< HEAD
<<<<<<< HEAD
<<<<<<< HEAD
   "id": "83fca975",
||||||| 11b9cb7
   "id": "2844ef99",
=======
   "id": "7812e9a2",
>>>>>>> documentation-devel
||||||| 614e9b1
   "id": "7812e9a2",
=======
   "id": "830c089b",
>>>>>>> documentation-devel
||||||| 856b4c0
<<<<<<< HEAD
   "id": "83fca975",
||||||| 11b9cb7
   "id": "2844ef99",
=======
   "id": "7812e9a2",
>>>>>>> documentation-devel
=======
   "id": "9f5aa7ef",
>>>>>>> 552590ea8fad969b67afdba27558a1e6cb21016e
=======
   "id": "431aba05",
>>>>>>> b6e07d13baac92b2c1c9b43f8e4113ffa87bf495
   "metadata": {},
   "outputs": [],
   "source": [
    "colGraph(sfe, \"knn10\") <- listw"
   ]
  },
  {
   "cell_type": "markdown",
<<<<<<< HEAD
<<<<<<< HEAD
<<<<<<< HEAD
<<<<<<< HEAD
<<<<<<< HEAD
   "id": "d5237524",
||||||| 11b9cb7
   "id": "dd3afe9e",
=======
   "id": "57eb6247",
>>>>>>> documentation-devel
||||||| 614e9b1
   "id": "57eb6247",
=======
   "id": "b39ac9cc",
>>>>>>> documentation-devel
||||||| 856b4c0
<<<<<<< HEAD
   "id": "d5237524",
||||||| 11b9cb7
   "id": "dd3afe9e",
=======
   "id": "57eb6247",
>>>>>>> documentation-devel
=======
   "id": "a8cb1835",
>>>>>>> 552590ea8fad969b67afdba27558a1e6cb21016e
||||||| 452c944
   "id": "b39ac9cc",
=======
   "id": "276258f4",
>>>>>>> documentation-devel
||||||| 4da3324
<<<<<<< HEAD
<<<<<<< HEAD
<<<<<<< HEAD
   "id": "d5237524",
||||||| 11b9cb7
   "id": "dd3afe9e",
=======
   "id": "57eb6247",
>>>>>>> documentation-devel
||||||| 614e9b1
   "id": "57eb6247",
=======
   "id": "b39ac9cc",
>>>>>>> documentation-devel
||||||| 856b4c0
<<<<<<< HEAD
   "id": "d5237524",
||||||| 11b9cb7
   "id": "dd3afe9e",
=======
   "id": "57eb6247",
>>>>>>> documentation-devel
=======
   "id": "a8cb1835",
>>>>>>> 552590ea8fad969b67afdba27558a1e6cb21016e
=======
   "id": "c5a2b60b",
>>>>>>> b6e07d13baac92b2c1c9b43f8e4113ffa87bf495
   "metadata": {
    "lines_to_next_cell": 0
   },
   "source": [
    "## Moran's I"
   ]
  },
  {
   "cell_type": "code",
   "execution_count": null,
<<<<<<< HEAD
<<<<<<< HEAD
<<<<<<< HEAD
<<<<<<< HEAD
<<<<<<< HEAD
   "id": "45869447",
||||||| 11b9cb7
   "id": "609c826e",
=======
   "id": "1456e896",
>>>>>>> documentation-devel
||||||| 614e9b1
   "id": "1456e896",
=======
   "id": "0ee2ef86",
>>>>>>> documentation-devel
||||||| 856b4c0
<<<<<<< HEAD
   "id": "45869447",
||||||| 11b9cb7
   "id": "609c826e",
=======
   "id": "1456e896",
>>>>>>> documentation-devel
=======
   "id": "1384f4b2",
>>>>>>> 552590ea8fad969b67afdba27558a1e6cb21016e
||||||| 452c944
   "id": "0ee2ef86",
=======
   "id": "7a7064be",
>>>>>>> documentation-devel
||||||| 4da3324
<<<<<<< HEAD
<<<<<<< HEAD
<<<<<<< HEAD
   "id": "45869447",
||||||| 11b9cb7
   "id": "609c826e",
=======
   "id": "1456e896",
>>>>>>> documentation-devel
||||||| 614e9b1
   "id": "1456e896",
=======
   "id": "0ee2ef86",
>>>>>>> documentation-devel
||||||| 856b4c0
<<<<<<< HEAD
   "id": "45869447",
||||||| 11b9cb7
   "id": "609c826e",
=======
   "id": "1456e896",
>>>>>>> documentation-devel
=======
   "id": "1384f4b2",
>>>>>>> 552590ea8fad969b67afdba27558a1e6cb21016e
=======
   "id": "ecb65f24",
>>>>>>> b6e07d13baac92b2c1c9b43f8e4113ffa87bf495
   "metadata": {},
   "outputs": [],
   "source": [
    "sfe <- colDataMoransI(sfe, c(\"sum\", \"detected\", \"subsets_mito_percent\"))\n",
    "colFeatureData(sfe)[c(\"sum\", \"detected\", \"subsets_mito_percent\"),]"
   ]
  },
  {
   "cell_type": "markdown",
<<<<<<< HEAD
<<<<<<< HEAD
<<<<<<< HEAD
<<<<<<< HEAD
<<<<<<< HEAD
   "id": "eaf758c9",
||||||| 11b9cb7
   "id": "59c946d8",
=======
   "id": "952756e3",
>>>>>>> documentation-devel
||||||| 614e9b1
   "id": "952756e3",
=======
   "id": "dbde67dd",
>>>>>>> documentation-devel
||||||| 856b4c0
<<<<<<< HEAD
   "id": "eaf758c9",
||||||| 11b9cb7
   "id": "59c946d8",
=======
   "id": "952756e3",
>>>>>>> documentation-devel
=======
   "id": "8202ea1b",
>>>>>>> 552590ea8fad969b67afdba27558a1e6cb21016e
||||||| 452c944
   "id": "dbde67dd",
=======
   "id": "bb7776cf",
>>>>>>> documentation-devel
||||||| 4da3324
<<<<<<< HEAD
<<<<<<< HEAD
<<<<<<< HEAD
   "id": "eaf758c9",
||||||| 11b9cb7
   "id": "59c946d8",
=======
   "id": "952756e3",
>>>>>>> documentation-devel
||||||| 614e9b1
   "id": "952756e3",
=======
   "id": "dbde67dd",
>>>>>>> documentation-devel
||||||| 856b4c0
<<<<<<< HEAD
   "id": "eaf758c9",
||||||| 11b9cb7
   "id": "59c946d8",
=======
   "id": "952756e3",
>>>>>>> documentation-devel
=======
   "id": "8202ea1b",
>>>>>>> 552590ea8fad969b67afdba27558a1e6cb21016e
=======
   "id": "bffd2545",
>>>>>>> b6e07d13baac92b2c1c9b43f8e4113ffa87bf495
   "metadata": {
    "lines_to_next_cell": 0
   },
   "source": [
    "For total UMI counts (sum) and genes detected (detected), Moran's I is quite strong, while it's positive but weaker for percentage of mitochondrial counts. The second column, K, is kurtosis of the feature of interest. \n",
    "\n",
    "## Moran plot\n",
    "\n",
    "How about the local variations on the k nearest neighbors graph? In the Moran plot, the x axis is the value for each cell, and the y axis is the average value among neighboring cells in the graph weighted by edge weights. The slope of the fitted line is Moran's I. Sometimes there are clusters in this plot, showing different kinds of neighborhoods."
   ]
  },
  {
   "cell_type": "code",
   "execution_count": null,
<<<<<<< HEAD
<<<<<<< HEAD
<<<<<<< HEAD
<<<<<<< HEAD
<<<<<<< HEAD
   "id": "0d929afc",
||||||| 11b9cb7
   "id": "bc6bee55",
=======
   "id": "80fbb454",
>>>>>>> documentation-devel
||||||| 614e9b1
   "id": "80fbb454",
=======
   "id": "8fb107da",
>>>>>>> documentation-devel
||||||| 856b4c0
<<<<<<< HEAD
   "id": "0d929afc",
||||||| 11b9cb7
   "id": "bc6bee55",
=======
   "id": "80fbb454",
>>>>>>> documentation-devel
=======
   "id": "1d037439",
>>>>>>> 552590ea8fad969b67afdba27558a1e6cb21016e
||||||| 452c944
   "id": "8fb107da",
=======
   "id": "f9ab5d08",
>>>>>>> documentation-devel
||||||| 4da3324
<<<<<<< HEAD
<<<<<<< HEAD
<<<<<<< HEAD
   "id": "0d929afc",
||||||| 11b9cb7
   "id": "bc6bee55",
=======
   "id": "80fbb454",
>>>>>>> documentation-devel
||||||| 614e9b1
   "id": "80fbb454",
=======
   "id": "8fb107da",
>>>>>>> documentation-devel
||||||| 856b4c0
<<<<<<< HEAD
   "id": "0d929afc",
||||||| 11b9cb7
   "id": "bc6bee55",
=======
   "id": "80fbb454",
>>>>>>> documentation-devel
=======
   "id": "1d037439",
>>>>>>> 552590ea8fad969b67afdba27558a1e6cb21016e
=======
   "id": "56bd7368",
>>>>>>> b6e07d13baac92b2c1c9b43f8e4113ffa87bf495
   "metadata": {},
   "outputs": [],
   "source": [
    "sfe <- colDataUnivariate(sfe, \"moran.plot\", c(\"sum\", \"detected\", \"subsets_mito_percent\"))"
   ]
  },
  {
   "cell_type": "markdown",
<<<<<<< HEAD
<<<<<<< HEAD
<<<<<<< HEAD
<<<<<<< HEAD
<<<<<<< HEAD
   "id": "b180fa42",
||||||| 11b9cb7
   "id": "39c6b195",
=======
   "id": "7b1915f8",
>>>>>>> documentation-devel
||||||| 614e9b1
   "id": "7b1915f8",
=======
   "id": "9d4b3fb7",
>>>>>>> documentation-devel
||||||| 856b4c0
<<<<<<< HEAD
   "id": "b180fa42",
||||||| 11b9cb7
   "id": "39c6b195",
=======
   "id": "7b1915f8",
>>>>>>> documentation-devel
=======
   "id": "5854d4af",
>>>>>>> 552590ea8fad969b67afdba27558a1e6cb21016e
||||||| 452c944
   "id": "9d4b3fb7",
=======
   "id": "08c8af78",
>>>>>>> documentation-devel
||||||| 4da3324
<<<<<<< HEAD
<<<<<<< HEAD
<<<<<<< HEAD
   "id": "b180fa42",
||||||| 11b9cb7
   "id": "39c6b195",
=======
   "id": "7b1915f8",
>>>>>>> documentation-devel
||||||| 614e9b1
   "id": "7b1915f8",
=======
   "id": "9d4b3fb7",
>>>>>>> documentation-devel
||||||| 856b4c0
<<<<<<< HEAD
   "id": "b180fa42",
||||||| 11b9cb7
   "id": "39c6b195",
=======
   "id": "7b1915f8",
>>>>>>> documentation-devel
=======
   "id": "5854d4af",
>>>>>>> 552590ea8fad969b67afdba27558a1e6cb21016e
=======
   "id": "9106ffa0",
>>>>>>> b6e07d13baac92b2c1c9b43f8e4113ffa87bf495
   "metadata": {
    "lines_to_next_cell": 0
   },
   "source": [
    "The dashed lines are the averages on the x and y axes."
   ]
  },
  {
   "cell_type": "code",
   "execution_count": null,
<<<<<<< HEAD
<<<<<<< HEAD
<<<<<<< HEAD
<<<<<<< HEAD
<<<<<<< HEAD
   "id": "20d16fd2",
||||||| 11b9cb7
   "id": "d672949f",
=======
   "id": "00d02d79",
>>>>>>> documentation-devel
||||||| 614e9b1
   "id": "00d02d79",
=======
   "id": "97417ff7",
>>>>>>> documentation-devel
||||||| 856b4c0
<<<<<<< HEAD
   "id": "20d16fd2",
||||||| 11b9cb7
   "id": "d672949f",
=======
   "id": "00d02d79",
>>>>>>> documentation-devel
=======
   "id": "9562e8c7",
>>>>>>> 552590ea8fad969b67afdba27558a1e6cb21016e
||||||| 452c944
   "id": "97417ff7",
=======
   "id": "546f778e",
>>>>>>> documentation-devel
||||||| 4da3324
<<<<<<< HEAD
<<<<<<< HEAD
<<<<<<< HEAD
   "id": "20d16fd2",
||||||| 11b9cb7
   "id": "d672949f",
=======
   "id": "00d02d79",
>>>>>>> documentation-devel
||||||| 614e9b1
   "id": "00d02d79",
=======
   "id": "97417ff7",
>>>>>>> documentation-devel
||||||| 856b4c0
<<<<<<< HEAD
   "id": "20d16fd2",
||||||| 11b9cb7
   "id": "d672949f",
=======
   "id": "00d02d79",
>>>>>>> documentation-devel
=======
   "id": "9562e8c7",
>>>>>>> 552590ea8fad969b67afdba27558a1e6cb21016e
=======
   "id": "1bfee2c0",
>>>>>>> b6e07d13baac92b2c1c9b43f8e4113ffa87bf495
   "metadata": {},
   "outputs": [],
   "source": [
    "moranPlot(sfe, \"sum\", color_by = \"cluster\")"
   ]
  },
  {
   "cell_type": "markdown",
<<<<<<< HEAD
<<<<<<< HEAD
<<<<<<< HEAD
<<<<<<< HEAD
<<<<<<< HEAD
   "id": "374ccd15",
||||||| 11b9cb7
   "id": "16de0485",
=======
   "id": "3c0f1f3e",
>>>>>>> documentation-devel
||||||| 614e9b1
   "id": "3c0f1f3e",
=======
   "id": "5dc94868",
>>>>>>> documentation-devel
||||||| 856b4c0
<<<<<<< HEAD
   "id": "374ccd15",
||||||| 11b9cb7
   "id": "16de0485",
=======
   "id": "3c0f1f3e",
>>>>>>> documentation-devel
=======
   "id": "e55911d2",
>>>>>>> 552590ea8fad969b67afdba27558a1e6cb21016e
||||||| 452c944
   "id": "5dc94868",
=======
   "id": "46e05c20",
>>>>>>> documentation-devel
||||||| 4da3324
<<<<<<< HEAD
<<<<<<< HEAD
<<<<<<< HEAD
   "id": "374ccd15",
||||||| 11b9cb7
   "id": "16de0485",
=======
   "id": "3c0f1f3e",
>>>>>>> documentation-devel
||||||| 614e9b1
   "id": "3c0f1f3e",
=======
   "id": "5dc94868",
>>>>>>> documentation-devel
||||||| 856b4c0
<<<<<<< HEAD
   "id": "374ccd15",
||||||| 11b9cb7
   "id": "16de0485",
=======
   "id": "3c0f1f3e",
>>>>>>> documentation-devel
=======
   "id": "e55911d2",
>>>>>>> 552590ea8fad969b67afdba27558a1e6cb21016e
=======
   "id": "b6972772",
>>>>>>> b6e07d13baac92b2c1c9b43f8e4113ffa87bf495
   "metadata": {
    "lines_to_next_cell": 0
   },
   "source": [
    "While most cells are in the cluster around the average, there is a cluster of cells with lower total counts whose neighbors also have lower total counts. There also is a cluster of cells with higher total counts whose neighbors also have higher total counts. These clusters seem to be somewhat related to some gene expression based clusters."
   ]
  },
  {
   "cell_type": "code",
   "execution_count": null,
<<<<<<< HEAD
<<<<<<< HEAD
<<<<<<< HEAD
<<<<<<< HEAD
<<<<<<< HEAD
   "id": "240a9791",
||||||| 11b9cb7
   "id": "a7619de5",
=======
   "id": "cdcc39e5",
>>>>>>> documentation-devel
||||||| 614e9b1
   "id": "cdcc39e5",
=======
   "id": "06a587ea",
>>>>>>> documentation-devel
||||||| 856b4c0
<<<<<<< HEAD
   "id": "240a9791",
||||||| 11b9cb7
   "id": "a7619de5",
=======
   "id": "cdcc39e5",
>>>>>>> documentation-devel
=======
   "id": "d60e9af4",
>>>>>>> 552590ea8fad969b67afdba27558a1e6cb21016e
||||||| 452c944
   "id": "06a587ea",
=======
   "id": "3f3e7738",
>>>>>>> documentation-devel
||||||| 4da3324
<<<<<<< HEAD
<<<<<<< HEAD
<<<<<<< HEAD
   "id": "240a9791",
||||||| 11b9cb7
   "id": "a7619de5",
=======
   "id": "cdcc39e5",
>>>>>>> documentation-devel
||||||| 614e9b1
   "id": "cdcc39e5",
=======
   "id": "06a587ea",
>>>>>>> documentation-devel
||||||| 856b4c0
<<<<<<< HEAD
   "id": "240a9791",
||||||| 11b9cb7
   "id": "a7619de5",
=======
   "id": "cdcc39e5",
>>>>>>> documentation-devel
=======
   "id": "d60e9af4",
>>>>>>> 552590ea8fad969b67afdba27558a1e6cb21016e
=======
   "id": "e56cc162",
>>>>>>> b6e07d13baac92b2c1c9b43f8e4113ffa87bf495
   "metadata": {},
   "outputs": [],
   "source": [
    "moranPlot(sfe, \"detected\", color_by = \"cluster\")"
   ]
  },
  {
   "cell_type": "code",
   "execution_count": null,
<<<<<<< HEAD
<<<<<<< HEAD
<<<<<<< HEAD
<<<<<<< HEAD
<<<<<<< HEAD
   "id": "4edb2988",
||||||| 11b9cb7
   "id": "979cef66",
=======
   "id": "fee24bcb",
>>>>>>> documentation-devel
||||||| 614e9b1
   "id": "fee24bcb",
=======
   "id": "34afceb5",
>>>>>>> documentation-devel
||||||| 856b4c0
<<<<<<< HEAD
   "id": "4edb2988",
||||||| 11b9cb7
   "id": "979cef66",
=======
   "id": "fee24bcb",
>>>>>>> documentation-devel
=======
   "id": "06aa428c",
>>>>>>> 552590ea8fad969b67afdba27558a1e6cb21016e
||||||| 452c944
   "id": "34afceb5",
=======
   "id": "16877463",
>>>>>>> documentation-devel
||||||| 4da3324
<<<<<<< HEAD
<<<<<<< HEAD
<<<<<<< HEAD
   "id": "4edb2988",
||||||| 11b9cb7
   "id": "979cef66",
=======
   "id": "fee24bcb",
>>>>>>> documentation-devel
||||||| 614e9b1
   "id": "fee24bcb",
=======
   "id": "34afceb5",
>>>>>>> documentation-devel
||||||| 856b4c0
<<<<<<< HEAD
   "id": "4edb2988",
||||||| 11b9cb7
   "id": "979cef66",
=======
   "id": "fee24bcb",
>>>>>>> documentation-devel
=======
   "id": "06aa428c",
>>>>>>> 552590ea8fad969b67afdba27558a1e6cb21016e
=======
   "id": "b2abe102",
>>>>>>> b6e07d13baac92b2c1c9b43f8e4113ffa87bf495
   "metadata": {},
   "outputs": [],
   "source": [
    "moranPlot(sfe, \"subsets_mito_percent\", color_by = \"cluster\")"
   ]
  },
  {
   "cell_type": "markdown",
<<<<<<< HEAD
<<<<<<< HEAD
<<<<<<< HEAD
<<<<<<< HEAD
<<<<<<< HEAD
   "id": "fb0f09da",
||||||| 11b9cb7
   "id": "750f71bf",
=======
   "id": "8b95f76c",
>>>>>>> documentation-devel
||||||| 614e9b1
   "id": "8b95f76c",
=======
   "id": "ba208125",
>>>>>>> documentation-devel
||||||| 856b4c0
<<<<<<< HEAD
   "id": "fb0f09da",
||||||| 11b9cb7
   "id": "750f71bf",
=======
   "id": "8b95f76c",
>>>>>>> documentation-devel
=======
   "id": "83a8baeb",
>>>>>>> 552590ea8fad969b67afdba27558a1e6cb21016e
||||||| 452c944
   "id": "ba208125",
=======
   "id": "c259bb27",
>>>>>>> documentation-devel
||||||| 4da3324
<<<<<<< HEAD
<<<<<<< HEAD
<<<<<<< HEAD
   "id": "fb0f09da",
||||||| 11b9cb7
   "id": "750f71bf",
=======
   "id": "8b95f76c",
>>>>>>> documentation-devel
||||||| 614e9b1
   "id": "8b95f76c",
=======
   "id": "ba208125",
>>>>>>> documentation-devel
||||||| 856b4c0
<<<<<<< HEAD
   "id": "fb0f09da",
||||||| 11b9cb7
   "id": "750f71bf",
=======
   "id": "8b95f76c",
>>>>>>> documentation-devel
=======
   "id": "83a8baeb",
>>>>>>> 552590ea8fad969b67afdba27558a1e6cb21016e
=======
   "id": "7816370b",
>>>>>>> b6e07d13baac92b2c1c9b43f8e4113ffa87bf495
   "metadata": {},
   "source": [
    "There is one main cluster on this plot for the number of genes detected and for the percentage of mitochondrial counts. However, cells are somewhat separated by gene expression clusters. This is not surprising because the gene expression clusters are also based on the k nearest neighbor graph. Cluster 4 cells have a higher percentage of mitochondrial counts and so do their neighbors. \n",
    "\n",
    "## Local Moran's I\n",
    "Also see local Moran's I for these 3 QC metrics:"
   ]
  },
  {
   "cell_type": "code",
   "execution_count": null,
<<<<<<< HEAD
<<<<<<< HEAD
<<<<<<< HEAD
<<<<<<< HEAD
<<<<<<< HEAD
   "id": "7df5a319",
||||||| 11b9cb7
   "id": "6bba52dd",
=======
   "id": "68ee09e2",
>>>>>>> documentation-devel
||||||| 614e9b1
   "id": "68ee09e2",
=======
   "id": "34d14165",
>>>>>>> documentation-devel
||||||| 856b4c0
<<<<<<< HEAD
   "id": "7df5a319",
||||||| 11b9cb7
   "id": "6bba52dd",
=======
   "id": "68ee09e2",
>>>>>>> documentation-devel
=======
   "id": "f801ebee",
>>>>>>> 552590ea8fad969b67afdba27558a1e6cb21016e
||||||| 452c944
   "id": "34d14165",
=======
   "id": "9c4a4d80",
>>>>>>> documentation-devel
||||||| 4da3324
<<<<<<< HEAD
<<<<<<< HEAD
<<<<<<< HEAD
   "id": "7df5a319",
||||||| 11b9cb7
   "id": "6bba52dd",
=======
   "id": "68ee09e2",
>>>>>>> documentation-devel
||||||| 614e9b1
   "id": "68ee09e2",
=======
   "id": "34d14165",
>>>>>>> documentation-devel
||||||| 856b4c0
<<<<<<< HEAD
   "id": "7df5a319",
||||||| 11b9cb7
   "id": "6bba52dd",
=======
   "id": "68ee09e2",
>>>>>>> documentation-devel
=======
   "id": "f801ebee",
>>>>>>> 552590ea8fad969b67afdba27558a1e6cb21016e
=======
   "id": "5a9a6513",
>>>>>>> b6e07d13baac92b2c1c9b43f8e4113ffa87bf495
   "metadata": {},
   "outputs": [],
   "source": [
    "sfe <- colDataUnivariate(sfe, \"localmoran\", c(\"sum\", \"detected\", \"subsets_mito_percent\"))"
   ]
  },
  {
   "cell_type": "markdown",
<<<<<<< HEAD
<<<<<<< HEAD
<<<<<<< HEAD
<<<<<<< HEAD
<<<<<<< HEAD
   "id": "b753c178",
||||||| 11b9cb7
   "id": "22c2b061",
=======
   "id": "a0ad313f",
>>>>>>> documentation-devel
||||||| 614e9b1
   "id": "a0ad313f",
=======
   "id": "c80add61",
>>>>>>> documentation-devel
||||||| 856b4c0
<<<<<<< HEAD
   "id": "b753c178",
||||||| 11b9cb7
   "id": "22c2b061",
=======
   "id": "a0ad313f",
>>>>>>> documentation-devel
=======
   "id": "cb2411f9",
>>>>>>> 552590ea8fad969b67afdba27558a1e6cb21016e
||||||| 452c944
   "id": "c80add61",
=======
   "id": "55e7255c",
>>>>>>> documentation-devel
||||||| 4da3324
<<<<<<< HEAD
<<<<<<< HEAD
<<<<<<< HEAD
   "id": "b753c178",
||||||| 11b9cb7
   "id": "22c2b061",
=======
   "id": "a0ad313f",
>>>>>>> documentation-devel
||||||| 614e9b1
   "id": "a0ad313f",
=======
   "id": "c80add61",
>>>>>>> documentation-devel
||||||| 856b4c0
<<<<<<< HEAD
   "id": "b753c178",
||||||| 11b9cb7
   "id": "22c2b061",
=======
   "id": "a0ad313f",
>>>>>>> documentation-devel
=======
   "id": "cb2411f9",
>>>>>>> 552590ea8fad969b67afdba27558a1e6cb21016e
=======
   "id": "d32e1b3f",
>>>>>>> b6e07d13baac92b2c1c9b43f8e4113ffa87bf495
   "metadata": {
    "lines_to_next_cell": 0
   },
   "source": [
    "Here, we don't have a histological space. So how can we visualize the local \"spatial\" statistics? [UMAP is bad](https://www.biorxiv.org/content/10.1101/2021.08.25.457696v1), but in this case PCA can somewhat separate the clusters. We can use the first 2 PCs as if they are the histological space. As a reference, we plot the metrics themselves and the clusters in the first 2 PCs. "
   ]
  },
  {
   "cell_type": "code",
   "execution_count": null,
<<<<<<< HEAD
<<<<<<< HEAD
<<<<<<< HEAD
<<<<<<< HEAD
<<<<<<< HEAD
   "id": "0362faaf",
||||||| 11b9cb7
   "id": "dcba213a",
=======
   "id": "9037e6a2",
>>>>>>> documentation-devel
||||||| 614e9b1
   "id": "9037e6a2",
=======
   "id": "505fa1d0",
>>>>>>> documentation-devel
||||||| 856b4c0
<<<<<<< HEAD
   "id": "0362faaf",
||||||| 11b9cb7
   "id": "dcba213a",
=======
   "id": "9037e6a2",
>>>>>>> documentation-devel
=======
   "id": "e9af55eb",
>>>>>>> 552590ea8fad969b67afdba27558a1e6cb21016e
||||||| 452c944
   "id": "505fa1d0",
=======
   "id": "d672c694",
>>>>>>> documentation-devel
||||||| 4da3324
<<<<<<< HEAD
<<<<<<< HEAD
<<<<<<< HEAD
   "id": "0362faaf",
||||||| 11b9cb7
   "id": "dcba213a",
=======
   "id": "9037e6a2",
>>>>>>> documentation-devel
||||||| 614e9b1
   "id": "9037e6a2",
=======
   "id": "505fa1d0",
>>>>>>> documentation-devel
||||||| 856b4c0
<<<<<<< HEAD
   "id": "0362faaf",
||||||| 11b9cb7
   "id": "dcba213a",
=======
   "id": "9037e6a2",
>>>>>>> documentation-devel
=======
   "id": "e9af55eb",
>>>>>>> 552590ea8fad969b67afdba27558a1e6cb21016e
=======
   "id": "2b5ebc92",
>>>>>>> b6e07d13baac92b2c1c9b43f8e4113ffa87bf495
   "metadata": {
    "fig.height": 6,
    "fig.width": 8
   },
   "outputs": [],
   "source": [
    "plotSpatialFeature(sfe, c(\"sum\", \"detected\", \"subsets_mito_percent\", \"cluster\"))"
   ]
  },
  {
   "cell_type": "markdown",
<<<<<<< HEAD
<<<<<<< HEAD
<<<<<<< HEAD
<<<<<<< HEAD
<<<<<<< HEAD
   "id": "a6a6a570",
||||||| 11b9cb7
   "id": "3e6c4cc3",
=======
   "id": "e393495f",
>>>>>>> documentation-devel
||||||| 614e9b1
   "id": "e393495f",
=======
   "id": "09e456a6",
>>>>>>> documentation-devel
||||||| 856b4c0
<<<<<<< HEAD
   "id": "a6a6a570",
||||||| 11b9cb7
   "id": "3e6c4cc3",
=======
   "id": "e393495f",
>>>>>>> documentation-devel
=======
   "id": "ae992670",
>>>>>>> 552590ea8fad969b67afdba27558a1e6cb21016e
||||||| 452c944
   "id": "09e456a6",
=======
   "id": "c568b7e6",
>>>>>>> documentation-devel
||||||| 4da3324
<<<<<<< HEAD
<<<<<<< HEAD
<<<<<<< HEAD
   "id": "a6a6a570",
||||||| 11b9cb7
   "id": "3e6c4cc3",
=======
   "id": "e393495f",
>>>>>>> documentation-devel
||||||| 614e9b1
   "id": "e393495f",
=======
   "id": "09e456a6",
>>>>>>> documentation-devel
||||||| 856b4c0
<<<<<<< HEAD
   "id": "a6a6a570",
||||||| 11b9cb7
   "id": "3e6c4cc3",
=======
   "id": "e393495f",
>>>>>>> documentation-devel
=======
   "id": "ae992670",
>>>>>>> 552590ea8fad969b67afdba27558a1e6cb21016e
=======
   "id": "ba406a1e",
>>>>>>> b6e07d13baac92b2c1c9b43f8e4113ffa87bf495
   "metadata": {
    "lines_to_next_cell": 0
   },
   "source": [
    "Plot the local Moran's I for these metrics in the first 2 PCs:"
   ]
  },
  {
   "cell_type": "code",
   "execution_count": null,
<<<<<<< HEAD
<<<<<<< HEAD
<<<<<<< HEAD
<<<<<<< HEAD
<<<<<<< HEAD
   "id": "52ba1021",
||||||| 11b9cb7
   "id": "2c74010a",
=======
   "id": "e2c6fd13",
>>>>>>> documentation-devel
||||||| 614e9b1
   "id": "e2c6fd13",
=======
   "id": "d2dd9d4c",
>>>>>>> documentation-devel
||||||| 856b4c0
<<<<<<< HEAD
   "id": "52ba1021",
||||||| 11b9cb7
   "id": "2c74010a",
=======
   "id": "e2c6fd13",
>>>>>>> documentation-devel
=======
   "id": "c78c202f",
>>>>>>> 552590ea8fad969b67afdba27558a1e6cb21016e
||||||| 452c944
   "id": "d2dd9d4c",
=======
   "id": "4c4596d9",
>>>>>>> documentation-devel
||||||| 4da3324
<<<<<<< HEAD
<<<<<<< HEAD
<<<<<<< HEAD
   "id": "52ba1021",
||||||| 11b9cb7
   "id": "2c74010a",
=======
   "id": "e2c6fd13",
>>>>>>> documentation-devel
||||||| 614e9b1
   "id": "e2c6fd13",
=======
   "id": "d2dd9d4c",
>>>>>>> documentation-devel
||||||| 856b4c0
<<<<<<< HEAD
   "id": "52ba1021",
||||||| 11b9cb7
   "id": "2c74010a",
=======
   "id": "e2c6fd13",
>>>>>>> documentation-devel
=======
   "id": "c78c202f",
>>>>>>> 552590ea8fad969b67afdba27558a1e6cb21016e
=======
   "id": "4ee80586",
>>>>>>> b6e07d13baac92b2c1c9b43f8e4113ffa87bf495
   "metadata": {
    "fig.height": 6,
    "fig.width": 8
   },
   "outputs": [],
   "source": [
    "plotLocalResult(sfe, \"localmoran\", c(\"sum\", \"detected\", \"subsets_mito_percent\"), \n",
    "                colGeometryName = \"centroids\",\n",
    "                divergent = TRUE, diverge_center = 0, ncol = 2)"
   ]
  },
  {
   "cell_type": "markdown",
<<<<<<< HEAD
<<<<<<< HEAD
<<<<<<< HEAD
<<<<<<< HEAD
<<<<<<< HEAD
   "id": "e4a9f46d",
||||||| 11b9cb7
   "id": "a690be99",
=======
   "id": "59e11d13",
>>>>>>> documentation-devel
||||||| 614e9b1
   "id": "59e11d13",
=======
   "id": "6dd05b08",
>>>>>>> documentation-devel
||||||| 856b4c0
<<<<<<< HEAD
   "id": "e4a9f46d",
||||||| 11b9cb7
   "id": "a690be99",
=======
   "id": "59e11d13",
>>>>>>> documentation-devel
=======
   "id": "9442a490",
>>>>>>> 552590ea8fad969b67afdba27558a1e6cb21016e
||||||| 452c944
   "id": "6dd05b08",
=======
   "id": "3c5cd12c",
>>>>>>> documentation-devel
||||||| 4da3324
<<<<<<< HEAD
<<<<<<< HEAD
<<<<<<< HEAD
   "id": "e4a9f46d",
||||||| 11b9cb7
   "id": "a690be99",
=======
   "id": "59e11d13",
>>>>>>> documentation-devel
||||||| 614e9b1
   "id": "59e11d13",
=======
   "id": "6dd05b08",
>>>>>>> documentation-devel
||||||| 856b4c0
<<<<<<< HEAD
   "id": "e4a9f46d",
||||||| 11b9cb7
   "id": "a690be99",
=======
   "id": "59e11d13",
>>>>>>> documentation-devel
=======
   "id": "9442a490",
>>>>>>> 552590ea8fad969b67afdba27558a1e6cb21016e
=======
   "id": "f0ad86a5",
>>>>>>> b6e07d13baac92b2c1c9b43f8e4113ffa87bf495
   "metadata": {
    "lines_to_next_cell": 0
   },
   "source": [
    "However, what if there is no good 2D representation of the data for easy plotting? Remember that here the k nearest neighbor graph was computed on the first 10 PCs rather than the first 2 PCs. The graph is not tied to the 2D representation. We can still plot histograms to show the distribution and scatter plots to compare the same local metric for different variables, which can be colored by another variable such as cluster. This may be added to the next release of Voyager. For now, we add the results of interest to `colData(sfe)` and use the existing `colData` plotting functions from `scater` and `Voyager`."
   ]
  },
  {
   "cell_type": "code",
   "execution_count": null,
<<<<<<< HEAD
<<<<<<< HEAD
<<<<<<< HEAD
<<<<<<< HEAD
<<<<<<< HEAD
   "id": "9942bce2",
||||||| 11b9cb7
   "id": "7239f41f",
=======
   "id": "7451e1bb",
>>>>>>> documentation-devel
||||||| 614e9b1
   "id": "7451e1bb",
=======
   "id": "50f62e10",
>>>>>>> documentation-devel
||||||| 856b4c0
<<<<<<< HEAD
   "id": "9942bce2",
||||||| 11b9cb7
   "id": "7239f41f",
=======
   "id": "7451e1bb",
>>>>>>> documentation-devel
=======
   "id": "f064e646",
>>>>>>> 552590ea8fad969b67afdba27558a1e6cb21016e
||||||| 452c944
   "id": "50f62e10",
=======
   "id": "3a41c42e",
>>>>>>> documentation-devel
||||||| 4da3324
<<<<<<< HEAD
<<<<<<< HEAD
<<<<<<< HEAD
   "id": "9942bce2",
||||||| 11b9cb7
   "id": "7239f41f",
=======
   "id": "7451e1bb",
>>>>>>> documentation-devel
||||||| 614e9b1
   "id": "7451e1bb",
=======
   "id": "50f62e10",
>>>>>>> documentation-devel
||||||| 856b4c0
<<<<<<< HEAD
   "id": "9942bce2",
||||||| 11b9cb7
   "id": "7239f41f",
=======
   "id": "7451e1bb",
>>>>>>> documentation-devel
=======
   "id": "f064e646",
>>>>>>> 552590ea8fad969b67afdba27558a1e6cb21016e
=======
   "id": "b8a1704a",
>>>>>>> b6e07d13baac92b2c1c9b43f8e4113ffa87bf495
   "metadata": {},
   "outputs": [],
   "source": [
    "localResultAttrs(sfe, \"localmoran\", \"sum\")"
   ]
  },
  {
   "cell_type": "code",
   "execution_count": null,
<<<<<<< HEAD
<<<<<<< HEAD
<<<<<<< HEAD
<<<<<<< HEAD
<<<<<<< HEAD
   "id": "9f9b6d4d",
||||||| 11b9cb7
   "id": "7e2247c5",
=======
   "id": "f6f5044c",
>>>>>>> documentation-devel
||||||| 614e9b1
   "id": "f6f5044c",
=======
   "id": "48fa9dcb",
>>>>>>> documentation-devel
||||||| 856b4c0
<<<<<<< HEAD
   "id": "9f9b6d4d",
||||||| 11b9cb7
   "id": "7e2247c5",
=======
   "id": "f6f5044c",
>>>>>>> documentation-devel
=======
   "id": "7d229081",
>>>>>>> 552590ea8fad969b67afdba27558a1e6cb21016e
||||||| 452c944
   "id": "48fa9dcb",
=======
   "id": "2c23f7ed",
>>>>>>> documentation-devel
||||||| 4da3324
<<<<<<< HEAD
<<<<<<< HEAD
<<<<<<< HEAD
   "id": "9f9b6d4d",
||||||| 11b9cb7
   "id": "7e2247c5",
=======
   "id": "f6f5044c",
>>>>>>> documentation-devel
||||||| 614e9b1
   "id": "f6f5044c",
=======
   "id": "48fa9dcb",
>>>>>>> documentation-devel
||||||| 856b4c0
<<<<<<< HEAD
   "id": "9f9b6d4d",
||||||| 11b9cb7
   "id": "7e2247c5",
=======
   "id": "f6f5044c",
>>>>>>> documentation-devel
=======
   "id": "7d229081",
>>>>>>> 552590ea8fad969b67afdba27558a1e6cb21016e
=======
   "id": "46459f9c",
>>>>>>> b6e07d13baac92b2c1c9b43f8e4113ffa87bf495
   "metadata": {},
   "outputs": [],
   "source": [
    "sfe$sum_localmoran <- localResult(sfe, \"localmoran\", \"sum\")[,\"Ii\"]\n",
    "sfe$detected_localmoran <- localResult(sfe, \"localmoran\", \"detected\")[,\"Ii\"]\n",
    "sfe$pct_mito_localmoran <- localResult(sfe, \"localmoran\", \"subsets_mito_percent\")[,\"Ii\"]"
   ]
  },
  {
   "cell_type": "code",
   "execution_count": null,
<<<<<<< HEAD
<<<<<<< HEAD
<<<<<<< HEAD
<<<<<<< HEAD
<<<<<<< HEAD
   "id": "ddc45f3c",
||||||| 11b9cb7
   "id": "66263d52",
=======
   "id": "bdc0504d",
>>>>>>> documentation-devel
||||||| 614e9b1
   "id": "bdc0504d",
=======
   "id": "b783a482",
>>>>>>> documentation-devel
||||||| 856b4c0
<<<<<<< HEAD
   "id": "ddc45f3c",
||||||| 11b9cb7
   "id": "66263d52",
=======
   "id": "bdc0504d",
>>>>>>> documentation-devel
=======
   "id": "50dda5d0",
>>>>>>> 552590ea8fad969b67afdba27558a1e6cb21016e
||||||| 452c944
   "id": "b783a482",
=======
   "id": "788a32c5",
>>>>>>> documentation-devel
||||||| 4da3324
<<<<<<< HEAD
<<<<<<< HEAD
<<<<<<< HEAD
   "id": "ddc45f3c",
||||||| 11b9cb7
   "id": "66263d52",
=======
   "id": "bdc0504d",
>>>>>>> documentation-devel
||||||| 614e9b1
   "id": "bdc0504d",
=======
   "id": "b783a482",
>>>>>>> documentation-devel
||||||| 856b4c0
<<<<<<< HEAD
   "id": "ddc45f3c",
||||||| 11b9cb7
   "id": "66263d52",
=======
   "id": "bdc0504d",
>>>>>>> documentation-devel
=======
   "id": "50dda5d0",
>>>>>>> 552590ea8fad969b67afdba27558a1e6cb21016e
=======
   "id": "a0754b25",
>>>>>>> b6e07d13baac92b2c1c9b43f8e4113ffa87bf495
   "metadata": {},
   "outputs": [],
   "source": [
    "# Colorblind friendly palette\n",
    "data(\"ditto_colors\")"
   ]
  },
  {
   "cell_type": "code",
   "execution_count": null,
<<<<<<< HEAD
<<<<<<< HEAD
<<<<<<< HEAD
<<<<<<< HEAD
<<<<<<< HEAD
   "id": "cf2e385b",
||||||| 11b9cb7
   "id": "f3da5319",
=======
   "id": "272e3b2d",
>>>>>>> documentation-devel
||||||| 614e9b1
   "id": "272e3b2d",
=======
   "id": "0469b980",
>>>>>>> documentation-devel
||||||| 856b4c0
<<<<<<< HEAD
   "id": "cf2e385b",
||||||| 11b9cb7
   "id": "f3da5319",
=======
   "id": "272e3b2d",
>>>>>>> documentation-devel
=======
   "id": "86077b55",
>>>>>>> 552590ea8fad969b67afdba27558a1e6cb21016e
||||||| 452c944
   "id": "0469b980",
=======
   "id": "ca03d1b2",
>>>>>>> documentation-devel
||||||| 4da3324
<<<<<<< HEAD
<<<<<<< HEAD
<<<<<<< HEAD
   "id": "cf2e385b",
||||||| 11b9cb7
   "id": "f3da5319",
=======
   "id": "272e3b2d",
>>>>>>> documentation-devel
||||||| 614e9b1
   "id": "272e3b2d",
=======
   "id": "0469b980",
>>>>>>> documentation-devel
||||||| 856b4c0
<<<<<<< HEAD
   "id": "cf2e385b",
||||||| 11b9cb7
   "id": "f3da5319",
=======
   "id": "272e3b2d",
>>>>>>> documentation-devel
=======
   "id": "86077b55",
>>>>>>> 552590ea8fad969b67afdba27558a1e6cb21016e
=======
   "id": "2a624620",
>>>>>>> b6e07d13baac92b2c1c9b43f8e4113ffa87bf495
   "metadata": {},
   "outputs": [],
   "source": [
    "plotColDataFreqpoly(sfe, c(\"sum_localmoran\", \"detected_localmoran\", \n",
    "                           \"pct_mito_localmoran\"), bins = 50, \n",
    "                    color_by = \"cluster\") +\n",
    "    scale_y_log10() +\n",
    "    annotation_logticks(sides = \"l\")"
   ]
  },
  {
   "cell_type": "markdown",
<<<<<<< HEAD
<<<<<<< HEAD
<<<<<<< HEAD
<<<<<<< HEAD
<<<<<<< HEAD
   "id": "bf989a04",
||||||| 11b9cb7
   "id": "8d1235d4",
=======
   "id": "f4b1e92f",
>>>>>>> documentation-devel
||||||| 614e9b1
   "id": "f4b1e92f",
=======
   "id": "90eefaf0",
>>>>>>> documentation-devel
||||||| 856b4c0
<<<<<<< HEAD
   "id": "bf989a04",
||||||| 11b9cb7
   "id": "8d1235d4",
=======
   "id": "f4b1e92f",
>>>>>>> documentation-devel
=======
   "id": "972240a2",
>>>>>>> 552590ea8fad969b67afdba27558a1e6cb21016e
||||||| 452c944
   "id": "90eefaf0",
=======
   "id": "d8c9966b",
>>>>>>> documentation-devel
||||||| 4da3324
<<<<<<< HEAD
<<<<<<< HEAD
<<<<<<< HEAD
   "id": "bf989a04",
||||||| 11b9cb7
   "id": "8d1235d4",
=======
   "id": "f4b1e92f",
>>>>>>> documentation-devel
||||||| 614e9b1
   "id": "f4b1e92f",
=======
   "id": "90eefaf0",
>>>>>>> documentation-devel
||||||| 856b4c0
<<<<<<< HEAD
   "id": "bf989a04",
||||||| 11b9cb7
   "id": "8d1235d4",
=======
   "id": "f4b1e92f",
>>>>>>> documentation-devel
=======
   "id": "972240a2",
>>>>>>> 552590ea8fad969b67afdba27558a1e6cb21016e
=======
   "id": "4b19f29a",
>>>>>>> b6e07d13baac92b2c1c9b43f8e4113ffa87bf495
   "metadata": {},
   "source": [
    "The y axis is log transformed (hence that warning when some bins have no cells), so the color of cells in the long tail can be seen because most cells don't have very strong local Moran's I. Cells in cluster 7 have high local Moran's I in total UMI counts and genes detected, which means that they tend to be more homogeneous in these QC metrics.\n",
    "\n",
    "How do local Moran's I for these QC metrics relate to each other?"
   ]
  },
  {
   "cell_type": "code",
   "execution_count": null,
<<<<<<< HEAD
<<<<<<< HEAD
<<<<<<< HEAD
<<<<<<< HEAD
<<<<<<< HEAD
   "id": "971816fa",
||||||| 11b9cb7
   "id": "1635b328",
=======
   "id": "10c9a824",
>>>>>>> documentation-devel
||||||| 614e9b1
   "id": "10c9a824",
=======
   "id": "d993073e",
>>>>>>> documentation-devel
||||||| 856b4c0
<<<<<<< HEAD
   "id": "971816fa",
||||||| 11b9cb7
   "id": "1635b328",
=======
   "id": "10c9a824",
>>>>>>> documentation-devel
=======
   "id": "c3a05e99",
>>>>>>> 552590ea8fad969b67afdba27558a1e6cb21016e
||||||| 452c944
   "id": "d993073e",
=======
   "id": "bb292514",
>>>>>>> documentation-devel
||||||| 4da3324
<<<<<<< HEAD
<<<<<<< HEAD
<<<<<<< HEAD
   "id": "971816fa",
||||||| 11b9cb7
   "id": "1635b328",
=======
   "id": "10c9a824",
>>>>>>> documentation-devel
||||||| 614e9b1
   "id": "10c9a824",
=======
   "id": "d993073e",
>>>>>>> documentation-devel
||||||| 856b4c0
<<<<<<< HEAD
   "id": "971816fa",
||||||| 11b9cb7
   "id": "1635b328",
=======
   "id": "10c9a824",
>>>>>>> documentation-devel
=======
   "id": "c3a05e99",
>>>>>>> 552590ea8fad969b67afdba27558a1e6cb21016e
=======
   "id": "66c9acc4",
>>>>>>> b6e07d13baac92b2c1c9b43f8e4113ffa87bf495
   "metadata": {},
   "outputs": [],
   "source": [
    "plotColData(sfe, x = \"sum_localmoran\", y = \"detected_localmoran\", \n",
    "            color_by = \"cluster\") +\n",
    "    scale_color_manual(values = ditto_colors)"
   ]
  },
  {
   "cell_type": "markdown",
<<<<<<< HEAD
<<<<<<< HEAD
<<<<<<< HEAD
<<<<<<< HEAD
<<<<<<< HEAD
   "id": "ad7486cf",
||||||| 11b9cb7
   "id": "2de0605e",
=======
   "id": "2eed57ad",
>>>>>>> documentation-devel
||||||| 614e9b1
   "id": "2eed57ad",
=======
   "id": "c1cb693b",
>>>>>>> documentation-devel
||||||| 856b4c0
<<<<<<< HEAD
   "id": "ad7486cf",
||||||| 11b9cb7
   "id": "2de0605e",
=======
   "id": "2eed57ad",
>>>>>>> documentation-devel
=======
   "id": "14f8db8e",
>>>>>>> 552590ea8fad969b67afdba27558a1e6cb21016e
||||||| 452c944
   "id": "c1cb693b",
=======
   "id": "892e4067",
>>>>>>> documentation-devel
||||||| 4da3324
<<<<<<< HEAD
<<<<<<< HEAD
<<<<<<< HEAD
   "id": "ad7486cf",
||||||| 11b9cb7
   "id": "2de0605e",
=======
   "id": "2eed57ad",
>>>>>>> documentation-devel
||||||| 614e9b1
   "id": "2eed57ad",
=======
   "id": "c1cb693b",
>>>>>>> documentation-devel
||||||| 856b4c0
<<<<<<< HEAD
   "id": "ad7486cf",
||||||| 11b9cb7
   "id": "2de0605e",
=======
   "id": "2eed57ad",
>>>>>>> documentation-devel
=======
   "id": "14f8db8e",
>>>>>>> 552590ea8fad969b67afdba27558a1e6cb21016e
=======
   "id": "72d9a021",
>>>>>>> b6e07d13baac92b2c1c9b43f8e4113ffa87bf495
   "metadata": {},
   "source": [
    "Cells more locally homogeneous in total UMI counts are also more homogeneous in number of genes detected, which is not surprising given the correlation between the two."
   ]
  },
  {
   "cell_type": "code",
   "execution_count": null,
<<<<<<< HEAD
<<<<<<< HEAD
<<<<<<< HEAD
<<<<<<< HEAD
<<<<<<< HEAD
   "id": "a69c9621",
||||||| 11b9cb7
   "id": "5de57abf",
=======
   "id": "b304ba73",
>>>>>>> documentation-devel
||||||| 614e9b1
   "id": "b304ba73",
=======
   "id": "35a1b707",
>>>>>>> documentation-devel
||||||| 856b4c0
<<<<<<< HEAD
   "id": "a69c9621",
||||||| 11b9cb7
   "id": "5de57abf",
=======
   "id": "b304ba73",
>>>>>>> documentation-devel
=======
   "id": "f5980e3e",
>>>>>>> 552590ea8fad969b67afdba27558a1e6cb21016e
||||||| 452c944
   "id": "35a1b707",
=======
   "id": "94e117df",
>>>>>>> documentation-devel
||||||| 4da3324
<<<<<<< HEAD
<<<<<<< HEAD
<<<<<<< HEAD
   "id": "a69c9621",
||||||| 11b9cb7
   "id": "5de57abf",
=======
   "id": "b304ba73",
>>>>>>> documentation-devel
||||||| 614e9b1
   "id": "b304ba73",
=======
   "id": "35a1b707",
>>>>>>> documentation-devel
||||||| 856b4c0
<<<<<<< HEAD
   "id": "a69c9621",
||||||| 11b9cb7
   "id": "5de57abf",
=======
   "id": "b304ba73",
>>>>>>> documentation-devel
=======
   "id": "f5980e3e",
>>>>>>> 552590ea8fad969b67afdba27558a1e6cb21016e
=======
   "id": "f2369f9e",
>>>>>>> b6e07d13baac92b2c1c9b43f8e4113ffa87bf495
   "metadata": {},
   "outputs": [],
   "source": [
    "plotColData(sfe, x = \"sum_localmoran\", y = \"pct_mito_localmoran\", \n",
    "            color_by = \"cluster\") +\n",
    "    scale_color_manual(values = ditto_colors)"
   ]
  },
  {
   "cell_type": "markdown",
<<<<<<< HEAD
<<<<<<< HEAD
<<<<<<< HEAD
<<<<<<< HEAD
<<<<<<< HEAD
   "id": "3b3f4296",
||||||| 11b9cb7
   "id": "1747017f",
=======
   "id": "ae43ec56",
>>>>>>> documentation-devel
||||||| 614e9b1
   "id": "ae43ec56",
=======
   "id": "dc78ae44",
>>>>>>> documentation-devel
||||||| 856b4c0
<<<<<<< HEAD
   "id": "3b3f4296",
||||||| 11b9cb7
   "id": "1747017f",
=======
   "id": "ae43ec56",
>>>>>>> documentation-devel
=======
   "id": "d9560aed",
>>>>>>> 552590ea8fad969b67afdba27558a1e6cb21016e
||||||| 452c944
   "id": "dc78ae44",
=======
   "id": "19fe268b",
>>>>>>> documentation-devel
||||||| 4da3324
<<<<<<< HEAD
<<<<<<< HEAD
<<<<<<< HEAD
   "id": "3b3f4296",
||||||| 11b9cb7
   "id": "1747017f",
=======
   "id": "ae43ec56",
>>>>>>> documentation-devel
||||||| 614e9b1
   "id": "ae43ec56",
=======
   "id": "dc78ae44",
>>>>>>> documentation-devel
||||||| 856b4c0
<<<<<<< HEAD
   "id": "3b3f4296",
||||||| 11b9cb7
   "id": "1747017f",
=======
   "id": "ae43ec56",
>>>>>>> documentation-devel
=======
   "id": "d9560aed",
>>>>>>> 552590ea8fad969b67afdba27558a1e6cb21016e
=======
   "id": "f22a3b2b",
>>>>>>> b6e07d13baac92b2c1c9b43f8e4113ffa87bf495
   "metadata": {
    "lines_to_next_cell": 0
   },
   "source": [
    "For local Moran's I, `sum` vs percentage mitochondrial counts shows a more interesting pattern, highlighting clusters 4 and 7 as in the Moran plots.\n",
    "\n",
    "How does local Moran's I relate to the value itself?"
   ]
  },
  {
   "cell_type": "code",
   "execution_count": null,
<<<<<<< HEAD
<<<<<<< HEAD
<<<<<<< HEAD
<<<<<<< HEAD
<<<<<<< HEAD
   "id": "896e873c",
||||||| 11b9cb7
   "id": "5bc1c483",
=======
   "id": "032abe3a",
>>>>>>> documentation-devel
||||||| 614e9b1
   "id": "032abe3a",
=======
   "id": "03280cdd",
>>>>>>> documentation-devel
||||||| 856b4c0
<<<<<<< HEAD
   "id": "896e873c",
||||||| 11b9cb7
   "id": "5bc1c483",
=======
   "id": "032abe3a",
>>>>>>> documentation-devel
=======
   "id": "01e943b0",
>>>>>>> 552590ea8fad969b67afdba27558a1e6cb21016e
||||||| 452c944
   "id": "03280cdd",
=======
   "id": "7e1cd53f",
>>>>>>> documentation-devel
||||||| 4da3324
<<<<<<< HEAD
<<<<<<< HEAD
<<<<<<< HEAD
   "id": "896e873c",
||||||| 11b9cb7
   "id": "5bc1c483",
=======
   "id": "032abe3a",
>>>>>>> documentation-devel
||||||| 614e9b1
   "id": "032abe3a",
=======
   "id": "03280cdd",
>>>>>>> documentation-devel
||||||| 856b4c0
<<<<<<< HEAD
   "id": "896e873c",
||||||| 11b9cb7
   "id": "5bc1c483",
=======
   "id": "032abe3a",
>>>>>>> documentation-devel
=======
   "id": "01e943b0",
>>>>>>> 552590ea8fad969b67afdba27558a1e6cb21016e
=======
   "id": "697d9f8e",
>>>>>>> b6e07d13baac92b2c1c9b43f8e4113ffa87bf495
   "metadata": {},
   "outputs": [],
   "source": [
    "plotColData(sfe, x = \"sum\", y = \"sum_localmoran\", color_by = \"cluster\") +\n",
    "    geom_density2d(data = as.data.frame(colData(sfe)),\n",
    "                   mapping = aes(x = sum, y = sum_localmoran), color = \"blue\", \n",
    "                   linewidth = 0.3) +\n",
    "    scale_color_manual(values = ditto_colors)"
   ]
  },
  {
   "cell_type": "markdown",
<<<<<<< HEAD
<<<<<<< HEAD
<<<<<<< HEAD
<<<<<<< HEAD
<<<<<<< HEAD
   "id": "63d7d5c9",
||||||| 11b9cb7
   "id": "88de147c",
=======
   "id": "fcc77a5f",
>>>>>>> documentation-devel
||||||| 614e9b1
   "id": "fcc77a5f",
=======
   "id": "bae8b71d",
>>>>>>> documentation-devel
||||||| 856b4c0
<<<<<<< HEAD
   "id": "63d7d5c9",
||||||| 11b9cb7
   "id": "88de147c",
=======
   "id": "fcc77a5f",
>>>>>>> documentation-devel
=======
   "id": "6803c07e",
>>>>>>> 552590ea8fad969b67afdba27558a1e6cb21016e
||||||| 452c944
   "id": "bae8b71d",
=======
   "id": "52fb20be",
>>>>>>> documentation-devel
||||||| 4da3324
<<<<<<< HEAD
<<<<<<< HEAD
<<<<<<< HEAD
   "id": "63d7d5c9",
||||||| 11b9cb7
   "id": "88de147c",
=======
   "id": "fcc77a5f",
>>>>>>> documentation-devel
||||||| 614e9b1
   "id": "fcc77a5f",
=======
   "id": "bae8b71d",
>>>>>>> documentation-devel
||||||| 856b4c0
<<<<<<< HEAD
   "id": "63d7d5c9",
||||||| 11b9cb7
   "id": "88de147c",
=======
   "id": "fcc77a5f",
>>>>>>> documentation-devel
=======
   "id": "6803c07e",
>>>>>>> 552590ea8fad969b67afdba27558a1e6cb21016e
=======
   "id": "6c44a28f",
>>>>>>> b6e07d13baac92b2c1c9b43f8e4113ffa87bf495
   "metadata": {
    "lines_to_next_cell": 0
   },
   "source": [
    "In this case, generally cells with higher total counts also tend to have higher local Moran's I in total counts. However, there is another wing where cells with lower total counts have slightly higher local Moran's I in total counts and there's a central value of total counts with near 0 local Moran's I. The density contour shows that cells are concentrated at that central value.\n",
    "\n",
    "## Local spatial heteroscedasticity (LOSH)\n",
    "\n",
    "LOSH indicates heterogeneity around each cell in the k nearest neighbor graph."
   ]
  },
  {
   "cell_type": "code",
   "execution_count": null,
<<<<<<< HEAD
<<<<<<< HEAD
<<<<<<< HEAD
<<<<<<< HEAD
<<<<<<< HEAD
   "id": "577313ba",
||||||| 11b9cb7
   "id": "40b03fd8",
=======
   "id": "ee5b358d",
>>>>>>> documentation-devel
||||||| 614e9b1
   "id": "ee5b358d",
=======
   "id": "a2235dd4",
>>>>>>> documentation-devel
||||||| 856b4c0
<<<<<<< HEAD
   "id": "577313ba",
||||||| 11b9cb7
   "id": "40b03fd8",
=======
   "id": "ee5b358d",
>>>>>>> documentation-devel
=======
   "id": "b7ee1e1d",
>>>>>>> 552590ea8fad969b67afdba27558a1e6cb21016e
||||||| 452c944
   "id": "a2235dd4",
=======
   "id": "8bc1f7cf",
>>>>>>> documentation-devel
||||||| 4da3324
<<<<<<< HEAD
<<<<<<< HEAD
<<<<<<< HEAD
   "id": "577313ba",
||||||| 11b9cb7
   "id": "40b03fd8",
=======
   "id": "ee5b358d",
>>>>>>> documentation-devel
||||||| 614e9b1
   "id": "ee5b358d",
=======
   "id": "a2235dd4",
>>>>>>> documentation-devel
||||||| 856b4c0
<<<<<<< HEAD
   "id": "577313ba",
||||||| 11b9cb7
   "id": "40b03fd8",
=======
   "id": "ee5b358d",
>>>>>>> documentation-devel
=======
   "id": "b7ee1e1d",
>>>>>>> 552590ea8fad969b67afdba27558a1e6cb21016e
=======
   "id": "9f30cd26",
>>>>>>> b6e07d13baac92b2c1c9b43f8e4113ffa87bf495
   "metadata": {},
   "outputs": [],
   "source": [
    "sfe <- colDataUnivariate(sfe, \"LOSH\", c(\"sum\", \"detected\", \"subsets_mito_percent\"))"
   ]
  },
  {
   "cell_type": "code",
   "execution_count": null,
<<<<<<< HEAD
<<<<<<< HEAD
<<<<<<< HEAD
<<<<<<< HEAD
<<<<<<< HEAD
   "id": "03fbf9e4",
||||||| 11b9cb7
   "id": "2bc1b501",
=======
   "id": "203c73e5",
>>>>>>> documentation-devel
||||||| 614e9b1
   "id": "203c73e5",
=======
   "id": "d4a646da",
>>>>>>> documentation-devel
||||||| 856b4c0
<<<<<<< HEAD
   "id": "03fbf9e4",
||||||| 11b9cb7
   "id": "2bc1b501",
=======
   "id": "203c73e5",
>>>>>>> documentation-devel
=======
   "id": "164cfb37",
>>>>>>> 552590ea8fad969b67afdba27558a1e6cb21016e
||||||| 452c944
   "id": "d4a646da",
=======
   "id": "62f041c7",
>>>>>>> documentation-devel
||||||| 4da3324
<<<<<<< HEAD
<<<<<<< HEAD
<<<<<<< HEAD
   "id": "03fbf9e4",
||||||| 11b9cb7
   "id": "2bc1b501",
=======
   "id": "203c73e5",
>>>>>>> documentation-devel
||||||| 614e9b1
   "id": "203c73e5",
=======
   "id": "d4a646da",
>>>>>>> documentation-devel
||||||| 856b4c0
<<<<<<< HEAD
   "id": "03fbf9e4",
||||||| 11b9cb7
   "id": "2bc1b501",
=======
   "id": "203c73e5",
>>>>>>> documentation-devel
=======
   "id": "164cfb37",
>>>>>>> 552590ea8fad969b67afdba27558a1e6cb21016e
=======
   "id": "9c7e4dc1",
>>>>>>> b6e07d13baac92b2c1c9b43f8e4113ffa87bf495
   "metadata": {
    "fig.height": 6,
    "fig.width": 8
   },
   "outputs": [],
   "source": [
    "plotLocalResult(sfe, \"LOSH\", c(\"sum\", \"detected\", \"subsets_mito_percent\"), \n",
    "                colGeometryName = \"centroids\", ncol = 2)"
   ]
  },
  {
   "cell_type": "markdown",
<<<<<<< HEAD
<<<<<<< HEAD
<<<<<<< HEAD
<<<<<<< HEAD
<<<<<<< HEAD
   "id": "deb39aae",
||||||| 11b9cb7
   "id": "d82384f3",
=======
   "id": "9ec2f686",
>>>>>>> documentation-devel
||||||| 614e9b1
   "id": "9ec2f686",
=======
   "id": "cfe2fa89",
>>>>>>> documentation-devel
||||||| 856b4c0
<<<<<<< HEAD
   "id": "deb39aae",
||||||| 11b9cb7
   "id": "d82384f3",
=======
   "id": "9ec2f686",
>>>>>>> documentation-devel
=======
   "id": "ee850189",
>>>>>>> 552590ea8fad969b67afdba27558a1e6cb21016e
||||||| 452c944
   "id": "cfe2fa89",
=======
   "id": "560e9b7d",
>>>>>>> documentation-devel
||||||| 4da3324
<<<<<<< HEAD
<<<<<<< HEAD
<<<<<<< HEAD
   "id": "deb39aae",
||||||| 11b9cb7
   "id": "d82384f3",
=======
   "id": "9ec2f686",
>>>>>>> documentation-devel
||||||| 614e9b1
   "id": "9ec2f686",
=======
   "id": "cfe2fa89",
>>>>>>> documentation-devel
||||||| 856b4c0
<<<<<<< HEAD
   "id": "deb39aae",
||||||| 11b9cb7
   "id": "d82384f3",
=======
   "id": "9ec2f686",
>>>>>>> documentation-devel
=======
   "id": "ee850189",
>>>>>>> 552590ea8fad969b67afdba27558a1e6cb21016e
=======
   "id": "18022dc0",
>>>>>>> b6e07d13baac92b2c1c9b43f8e4113ffa87bf495
   "metadata": {},
   "source": [
    "Here we make the same non-spatial plots for LOSH as in local Moran's I."
   ]
  },
  {
   "cell_type": "code",
   "execution_count": null,
<<<<<<< HEAD
<<<<<<< HEAD
<<<<<<< HEAD
<<<<<<< HEAD
<<<<<<< HEAD
   "id": "21c65c3e",
||||||| 11b9cb7
   "id": "4a36a3ce",
=======
   "id": "a2132da3",
>>>>>>> documentation-devel
||||||| 614e9b1
   "id": "a2132da3",
=======
   "id": "c3119e69",
>>>>>>> documentation-devel
||||||| 856b4c0
<<<<<<< HEAD
   "id": "21c65c3e",
||||||| 11b9cb7
   "id": "4a36a3ce",
=======
   "id": "a2132da3",
>>>>>>> documentation-devel
=======
   "id": "6fb7e73f",
>>>>>>> 552590ea8fad969b67afdba27558a1e6cb21016e
||||||| 452c944
   "id": "c3119e69",
=======
   "id": "4ba8dd22",
>>>>>>> documentation-devel
||||||| 4da3324
<<<<<<< HEAD
<<<<<<< HEAD
<<<<<<< HEAD
   "id": "21c65c3e",
||||||| 11b9cb7
   "id": "4a36a3ce",
=======
   "id": "a2132da3",
>>>>>>> documentation-devel
||||||| 614e9b1
   "id": "a2132da3",
=======
   "id": "c3119e69",
>>>>>>> documentation-devel
||||||| 856b4c0
<<<<<<< HEAD
   "id": "21c65c3e",
||||||| 11b9cb7
   "id": "4a36a3ce",
=======
   "id": "a2132da3",
>>>>>>> documentation-devel
=======
   "id": "6fb7e73f",
>>>>>>> 552590ea8fad969b67afdba27558a1e6cb21016e
=======
   "id": "d7f54248",
>>>>>>> b6e07d13baac92b2c1c9b43f8e4113ffa87bf495
   "metadata": {},
   "outputs": [],
   "source": [
    "localResultAttrs(sfe, \"LOSH\", \"sum\")"
   ]
  },
  {
   "cell_type": "code",
   "execution_count": null,
<<<<<<< HEAD
<<<<<<< HEAD
<<<<<<< HEAD
<<<<<<< HEAD
<<<<<<< HEAD
   "id": "d4f3e014",
||||||| 11b9cb7
   "id": "aca301f7",
=======
   "id": "409a019d",
>>>>>>> documentation-devel
||||||| 614e9b1
   "id": "409a019d",
=======
   "id": "0808181f",
>>>>>>> documentation-devel
||||||| 856b4c0
<<<<<<< HEAD
   "id": "d4f3e014",
||||||| 11b9cb7
   "id": "aca301f7",
=======
   "id": "409a019d",
>>>>>>> documentation-devel
=======
   "id": "b00225bd",
>>>>>>> 552590ea8fad969b67afdba27558a1e6cb21016e
||||||| 452c944
   "id": "0808181f",
=======
   "id": "847b8fdd",
>>>>>>> documentation-devel
||||||| 4da3324
<<<<<<< HEAD
<<<<<<< HEAD
<<<<<<< HEAD
   "id": "d4f3e014",
||||||| 11b9cb7
   "id": "aca301f7",
=======
   "id": "409a019d",
>>>>>>> documentation-devel
||||||| 614e9b1
   "id": "409a019d",
=======
   "id": "0808181f",
>>>>>>> documentation-devel
||||||| 856b4c0
<<<<<<< HEAD
   "id": "d4f3e014",
||||||| 11b9cb7
   "id": "aca301f7",
=======
   "id": "409a019d",
>>>>>>> documentation-devel
=======
   "id": "b00225bd",
>>>>>>> 552590ea8fad969b67afdba27558a1e6cb21016e
=======
   "id": "36da26bc",
>>>>>>> b6e07d13baac92b2c1c9b43f8e4113ffa87bf495
   "metadata": {},
   "outputs": [],
   "source": [
    "sfe$sum_losh <- localResult(sfe, \"LOSH\", \"sum\")[,\"Hi\"]\n",
    "sfe$detected_losh <- localResult(sfe, \"LOSH\", \"detected\")[,\"Hi\"]\n",
    "sfe$pct_mito_losh <- localResult(sfe, \"LOSH\", \"subsets_mito_percent\")[,\"Hi\"]"
   ]
  },
  {
   "cell_type": "code",
   "execution_count": null,
<<<<<<< HEAD
<<<<<<< HEAD
<<<<<<< HEAD
<<<<<<< HEAD
<<<<<<< HEAD
   "id": "0767b0e9",
||||||| 11b9cb7
   "id": "ab4281b6",
=======
   "id": "c79ffc94",
>>>>>>> documentation-devel
||||||| 614e9b1
   "id": "c79ffc94",
=======
   "id": "f850ae38",
>>>>>>> documentation-devel
||||||| 856b4c0
<<<<<<< HEAD
   "id": "0767b0e9",
||||||| 11b9cb7
   "id": "ab4281b6",
=======
   "id": "c79ffc94",
>>>>>>> documentation-devel
=======
   "id": "e6e31f30",
>>>>>>> 552590ea8fad969b67afdba27558a1e6cb21016e
||||||| 452c944
   "id": "f850ae38",
=======
   "id": "d96aa2b7",
>>>>>>> documentation-devel
||||||| 4da3324
<<<<<<< HEAD
<<<<<<< HEAD
<<<<<<< HEAD
   "id": "0767b0e9",
||||||| 11b9cb7
   "id": "ab4281b6",
=======
   "id": "c79ffc94",
>>>>>>> documentation-devel
||||||| 614e9b1
   "id": "c79ffc94",
=======
   "id": "f850ae38",
>>>>>>> documentation-devel
||||||| 856b4c0
<<<<<<< HEAD
   "id": "0767b0e9",
||||||| 11b9cb7
   "id": "ab4281b6",
=======
   "id": "c79ffc94",
>>>>>>> documentation-devel
=======
   "id": "e6e31f30",
>>>>>>> 552590ea8fad969b67afdba27558a1e6cb21016e
=======
   "id": "7b445bc2",
>>>>>>> b6e07d13baac92b2c1c9b43f8e4113ffa87bf495
   "metadata": {},
   "outputs": [],
   "source": [
    "plotColDataFreqpoly(sfe, c(\"sum_losh\", \"detected_losh\", \n",
    "                           \"pct_mito_losh\"), bins = 50, \n",
    "                     color_by = \"cluster\") +\n",
    "    scale_y_log10() +\n",
    "    annotation_logticks(sides = \"l\")"
   ]
  },
  {
   "cell_type": "markdown",
<<<<<<< HEAD
<<<<<<< HEAD
<<<<<<< HEAD
<<<<<<< HEAD
<<<<<<< HEAD
   "id": "eaecfb17",
||||||| 11b9cb7
   "id": "ce2a5c7b",
=======
   "id": "fcf09ce6",
>>>>>>> documentation-devel
||||||| 614e9b1
   "id": "fcf09ce6",
=======
   "id": "43d50151",
>>>>>>> documentation-devel
||||||| 856b4c0
<<<<<<< HEAD
   "id": "eaecfb17",
||||||| 11b9cb7
   "id": "ce2a5c7b",
=======
   "id": "fcf09ce6",
>>>>>>> documentation-devel
=======
   "id": "1cb38596",
>>>>>>> 552590ea8fad969b67afdba27558a1e6cb21016e
||||||| 452c944
   "id": "43d50151",
=======
   "id": "d9f1e781",
>>>>>>> documentation-devel
||||||| 4da3324
<<<<<<< HEAD
<<<<<<< HEAD
<<<<<<< HEAD
   "id": "eaecfb17",
||||||| 11b9cb7
   "id": "ce2a5c7b",
=======
   "id": "fcf09ce6",
>>>>>>> documentation-devel
||||||| 614e9b1
   "id": "fcf09ce6",
=======
   "id": "43d50151",
>>>>>>> documentation-devel
||||||| 856b4c0
<<<<<<< HEAD
   "id": "eaecfb17",
||||||| 11b9cb7
   "id": "ce2a5c7b",
=======
   "id": "fcf09ce6",
>>>>>>> documentation-devel
=======
   "id": "1cb38596",
>>>>>>> 552590ea8fad969b67afdba27558a1e6cb21016e
=======
   "id": "78ec0808",
>>>>>>> b6e07d13baac92b2c1c9b43f8e4113ffa87bf495
   "metadata": {},
   "source": [
    "Here, clusters 2 and 6 tend to be more locally heterogeneous. How do total counts and genes detected relate in LOSH?"
   ]
  },
  {
   "cell_type": "code",
   "execution_count": null,
<<<<<<< HEAD
<<<<<<< HEAD
<<<<<<< HEAD
<<<<<<< HEAD
<<<<<<< HEAD
   "id": "fb9fb2f0",
||||||| 11b9cb7
   "id": "04a75ab9",
=======
   "id": "a2b5ffae",
>>>>>>> documentation-devel
||||||| 614e9b1
   "id": "a2b5ffae",
=======
   "id": "451d5593",
>>>>>>> documentation-devel
||||||| 856b4c0
<<<<<<< HEAD
   "id": "fb9fb2f0",
||||||| 11b9cb7
   "id": "04a75ab9",
=======
   "id": "a2b5ffae",
>>>>>>> documentation-devel
=======
   "id": "0d821d5f",
>>>>>>> 552590ea8fad969b67afdba27558a1e6cb21016e
||||||| 452c944
   "id": "451d5593",
=======
   "id": "91226b90",
>>>>>>> documentation-devel
||||||| 4da3324
<<<<<<< HEAD
<<<<<<< HEAD
<<<<<<< HEAD
   "id": "fb9fb2f0",
||||||| 11b9cb7
   "id": "04a75ab9",
=======
   "id": "a2b5ffae",
>>>>>>> documentation-devel
||||||| 614e9b1
   "id": "a2b5ffae",
=======
   "id": "451d5593",
>>>>>>> documentation-devel
||||||| 856b4c0
<<<<<<< HEAD
   "id": "fb9fb2f0",
||||||| 11b9cb7
   "id": "04a75ab9",
=======
   "id": "a2b5ffae",
>>>>>>> documentation-devel
=======
   "id": "0d821d5f",
>>>>>>> 552590ea8fad969b67afdba27558a1e6cb21016e
=======
   "id": "89ef01b0",
>>>>>>> b6e07d13baac92b2c1c9b43f8e4113ffa87bf495
   "metadata": {},
   "outputs": [],
   "source": [
    "plotColData(sfe, x = \"sum_losh\", y = \"detected_losh\", color_by = \"cluster\") +\n",
    "    scale_color_manual(values = ditto_colors)"
   ]
  },
  {
   "cell_type": "markdown",
<<<<<<< HEAD
<<<<<<< HEAD
<<<<<<< HEAD
<<<<<<< HEAD
<<<<<<< HEAD
   "id": "92971834",
||||||| 11b9cb7
   "id": "ade446d4",
=======
   "id": "b0c4ac8e",
>>>>>>> documentation-devel
||||||| 614e9b1
   "id": "b0c4ac8e",
=======
   "id": "b8db7b83",
>>>>>>> documentation-devel
||||||| 856b4c0
<<<<<<< HEAD
   "id": "92971834",
||||||| 11b9cb7
   "id": "ade446d4",
=======
   "id": "b0c4ac8e",
>>>>>>> documentation-devel
=======
   "id": "c7e46f8c",
>>>>>>> 552590ea8fad969b67afdba27558a1e6cb21016e
||||||| 452c944
   "id": "b8db7b83",
=======
   "id": "dad13559",
>>>>>>> documentation-devel
||||||| 4da3324
<<<<<<< HEAD
<<<<<<< HEAD
<<<<<<< HEAD
   "id": "92971834",
||||||| 11b9cb7
   "id": "ade446d4",
=======
   "id": "b0c4ac8e",
>>>>>>> documentation-devel
||||||| 614e9b1
   "id": "b0c4ac8e",
=======
   "id": "b8db7b83",
>>>>>>> documentation-devel
||||||| 856b4c0
<<<<<<< HEAD
   "id": "92971834",
||||||| 11b9cb7
   "id": "ade446d4",
=======
   "id": "b0c4ac8e",
>>>>>>> documentation-devel
=======
   "id": "c7e46f8c",
>>>>>>> 552590ea8fad969b67afdba27558a1e6cb21016e
=======
   "id": "06974583",
>>>>>>> b6e07d13baac92b2c1c9b43f8e4113ffa87bf495
   "metadata": {},
   "source": [
    "While generally cells higher in LOSH in total counts are also higher in LOSH in genes detected, there are some outliers that are very high in both, with more heterogeneous neighborhoods. Absolute distance to the neighbors is not taken into account when the adjacency matrix is row normalized. It would be interesting to see if those outliers tend to be further away from their 10 nearest neighbors, or in a region in the PCA space where cells are further apart.\n",
    "\n",
    "How does total counts itself relate to its LOSH?"
   ]
  },
  {
   "cell_type": "code",
   "execution_count": null,
<<<<<<< HEAD
<<<<<<< HEAD
<<<<<<< HEAD
<<<<<<< HEAD
<<<<<<< HEAD
   "id": "2c28993c",
||||||| 11b9cb7
   "id": "e4618990",
=======
   "id": "df53e47e",
>>>>>>> documentation-devel
||||||| 614e9b1
   "id": "df53e47e",
=======
   "id": "b41d7f74",
>>>>>>> documentation-devel
||||||| 856b4c0
<<<<<<< HEAD
   "id": "2c28993c",
||||||| 11b9cb7
   "id": "e4618990",
=======
   "id": "df53e47e",
>>>>>>> documentation-devel
=======
   "id": "12115ca3",
>>>>>>> 552590ea8fad969b67afdba27558a1e6cb21016e
||||||| 452c944
   "id": "b41d7f74",
=======
   "id": "833dc0a3",
>>>>>>> documentation-devel
||||||| 4da3324
<<<<<<< HEAD
<<<<<<< HEAD
<<<<<<< HEAD
   "id": "2c28993c",
||||||| 11b9cb7
   "id": "e4618990",
=======
   "id": "df53e47e",
>>>>>>> documentation-devel
||||||| 614e9b1
   "id": "df53e47e",
=======
   "id": "b41d7f74",
>>>>>>> documentation-devel
||||||| 856b4c0
<<<<<<< HEAD
   "id": "2c28993c",
||||||| 11b9cb7
   "id": "e4618990",
=======
   "id": "df53e47e",
>>>>>>> documentation-devel
=======
   "id": "12115ca3",
>>>>>>> 552590ea8fad969b67afdba27558a1e6cb21016e
=======
   "id": "4c596b99",
>>>>>>> b6e07d13baac92b2c1c9b43f8e4113ffa87bf495
   "metadata": {},
   "outputs": [],
   "source": [
    "plotColData(sfe, x = \"sum\", y = \"sum_losh\", color_by = \"cluster\") +\n",
    "    scale_color_manual(values = ditto_colors)"
   ]
  },
  {
   "cell_type": "markdown",
<<<<<<< HEAD
<<<<<<< HEAD
<<<<<<< HEAD
<<<<<<< HEAD
<<<<<<< HEAD
   "id": "2df46a8c",
||||||| 11b9cb7
   "id": "feaea450",
=======
   "id": "55f327dc",
>>>>>>> documentation-devel
||||||| 614e9b1
   "id": "55f327dc",
=======
   "id": "5a7cf2d1",
>>>>>>> documentation-devel
||||||| 856b4c0
<<<<<<< HEAD
   "id": "2df46a8c",
||||||| 11b9cb7
   "id": "feaea450",
=======
   "id": "55f327dc",
>>>>>>> documentation-devel
=======
   "id": "1f136d13",
>>>>>>> 552590ea8fad969b67afdba27558a1e6cb21016e
||||||| 452c944
   "id": "5a7cf2d1",
=======
   "id": "d99679b0",
>>>>>>> documentation-devel
||||||| 4da3324
<<<<<<< HEAD
<<<<<<< HEAD
<<<<<<< HEAD
   "id": "2df46a8c",
||||||| 11b9cb7
   "id": "feaea450",
=======
   "id": "55f327dc",
>>>>>>> documentation-devel
||||||| 614e9b1
   "id": "55f327dc",
=======
   "id": "5a7cf2d1",
>>>>>>> documentation-devel
||||||| 856b4c0
<<<<<<< HEAD
   "id": "2df46a8c",
||||||| 11b9cb7
   "id": "feaea450",
=======
   "id": "55f327dc",
>>>>>>> documentation-devel
=======
   "id": "1f136d13",
>>>>>>> 552590ea8fad969b67afdba27558a1e6cb21016e
=======
   "id": "56e9edb8",
>>>>>>> b6e07d13baac92b2c1c9b43f8e4113ffa87bf495
   "metadata": {
    "lines_to_next_cell": 0
   },
   "source": [
    "There does not seem to be a clear relationship in this case. \n",
    "\n",
    "# \"Spatial\" analyses for gene expression\n",
    "First, we need to reorganize the differential expression results:"
   ]
  },
  {
   "cell_type": "code",
   "execution_count": null,
<<<<<<< HEAD
<<<<<<< HEAD
<<<<<<< HEAD
<<<<<<< HEAD
<<<<<<< HEAD
   "id": "c1c5ffbb",
||||||| 11b9cb7
   "id": "0fcc359b",
=======
   "id": "d8bc82c1",
>>>>>>> documentation-devel
||||||| 614e9b1
   "id": "d8bc82c1",
=======
   "id": "2efda431",
>>>>>>> documentation-devel
||||||| 856b4c0
<<<<<<< HEAD
   "id": "c1c5ffbb",
||||||| 11b9cb7
   "id": "0fcc359b",
=======
   "id": "d8bc82c1",
>>>>>>> documentation-devel
=======
   "id": "09276ac7",
>>>>>>> 552590ea8fad969b67afdba27558a1e6cb21016e
||||||| 452c944
   "id": "2efda431",
=======
   "id": "d50fc8cb",
>>>>>>> documentation-devel
||||||| 4da3324
<<<<<<< HEAD
<<<<<<< HEAD
<<<<<<< HEAD
   "id": "c1c5ffbb",
||||||| 11b9cb7
   "id": "0fcc359b",
=======
   "id": "d8bc82c1",
>>>>>>> documentation-devel
||||||| 614e9b1
   "id": "d8bc82c1",
=======
   "id": "2efda431",
>>>>>>> documentation-devel
||||||| 856b4c0
<<<<<<< HEAD
   "id": "c1c5ffbb",
||||||| 11b9cb7
   "id": "0fcc359b",
=======
   "id": "d8bc82c1",
>>>>>>> documentation-devel
=======
   "id": "09276ac7",
>>>>>>> 552590ea8fad969b67afdba27558a1e6cb21016e
=======
   "id": "42e74277",
>>>>>>> b6e07d13baac92b2c1c9b43f8e4113ffa87bf495
   "metadata": {},
   "outputs": [],
   "source": [
    "top_markers_df <- lapply(seq_along(markers), function(i) {\n",
    "    out <- markers[[i]][markers[[i]]$FDR < 0.05, c(\"FDR\", \"summary.AUC\")]\n",
    "    if (nrow(out)) out$cluster <- i\n",
    "    out\n",
    "})\n",
    "top_markers_df <- do.call(rbind, top_markers_df)\n",
    "top_markers_df$symbol <- rowData(sce)[rownames(top_markers_df), \"Symbol\"]"
   ]
  },
  {
   "cell_type": "markdown",
<<<<<<< HEAD
<<<<<<< HEAD
<<<<<<< HEAD
<<<<<<< HEAD
<<<<<<< HEAD
   "id": "3e3ffebd",
||||||| 11b9cb7
   "id": "444d9baa",
=======
   "id": "584b3cb4",
>>>>>>> documentation-devel
||||||| 614e9b1
   "id": "584b3cb4",
=======
   "id": "273fb584",
>>>>>>> documentation-devel
||||||| 856b4c0
<<<<<<< HEAD
   "id": "3e3ffebd",
||||||| 11b9cb7
   "id": "444d9baa",
=======
   "id": "584b3cb4",
>>>>>>> documentation-devel
=======
   "id": "227216ef",
>>>>>>> 552590ea8fad969b67afdba27558a1e6cb21016e
||||||| 452c944
   "id": "273fb584",
=======
   "id": "7932b048",
>>>>>>> documentation-devel
||||||| 4da3324
<<<<<<< HEAD
<<<<<<< HEAD
<<<<<<< HEAD
   "id": "3e3ffebd",
||||||| 11b9cb7
   "id": "444d9baa",
=======
   "id": "584b3cb4",
>>>>>>> documentation-devel
||||||| 614e9b1
   "id": "584b3cb4",
=======
   "id": "273fb584",
>>>>>>> documentation-devel
||||||| 856b4c0
<<<<<<< HEAD
   "id": "3e3ffebd",
||||||| 11b9cb7
   "id": "444d9baa",
=======
   "id": "584b3cb4",
>>>>>>> documentation-devel
=======
   "id": "227216ef",
>>>>>>> 552590ea8fad969b67afdba27558a1e6cb21016e
=======
   "id": "a4f8bfbd",
>>>>>>> b6e07d13baac92b2c1c9b43f8e4113ffa87bf495
   "metadata": {
    "lines_to_next_cell": 0
   },
   "source": [
    "## Moran's I"
   ]
  },
  {
   "cell_type": "code",
   "execution_count": null,
<<<<<<< HEAD
<<<<<<< HEAD
<<<<<<< HEAD
<<<<<<< HEAD
<<<<<<< HEAD
   "id": "b6b5c553",
||||||| 11b9cb7
   "id": "7cbc88d4",
=======
   "id": "a9f9aff5",
>>>>>>> documentation-devel
||||||| 614e9b1
   "id": "a9f9aff5",
=======
   "id": "0926011a",
>>>>>>> documentation-devel
||||||| 856b4c0
<<<<<<< HEAD
   "id": "b6b5c553",
||||||| 11b9cb7
   "id": "7cbc88d4",
=======
   "id": "a9f9aff5",
>>>>>>> documentation-devel
=======
   "id": "d1b54fbf",
>>>>>>> 552590ea8fad969b67afdba27558a1e6cb21016e
||||||| 452c944
   "id": "0926011a",
=======
   "id": "b8546057",
>>>>>>> documentation-devel
||||||| 4da3324
<<<<<<< HEAD
<<<<<<< HEAD
<<<<<<< HEAD
   "id": "b6b5c553",
||||||| 11b9cb7
   "id": "7cbc88d4",
=======
   "id": "a9f9aff5",
>>>>>>> documentation-devel
||||||| 614e9b1
   "id": "a9f9aff5",
=======
   "id": "0926011a",
>>>>>>> documentation-devel
||||||| 856b4c0
<<<<<<< HEAD
   "id": "b6b5c553",
||||||| 11b9cb7
   "id": "7cbc88d4",
=======
   "id": "a9f9aff5",
>>>>>>> documentation-devel
=======
   "id": "d1b54fbf",
>>>>>>> 552590ea8fad969b67afdba27558a1e6cb21016e
=======
   "id": "1e330dcd",
>>>>>>> b6e07d13baac92b2c1c9b43f8e4113ffa87bf495
   "metadata": {},
   "outputs": [],
   "source": [
    "sfe <- runMoransI(sfe, features = hvgs, BPPARAM = MulticoreParam(2))"
   ]
  },
  {
   "cell_type": "markdown",
<<<<<<< HEAD
<<<<<<< HEAD
<<<<<<< HEAD
<<<<<<< HEAD
<<<<<<< HEAD
   "id": "03199d67",
||||||| 11b9cb7
   "id": "47e1e190",
=======
   "id": "9e9b2e71",
>>>>>>> documentation-devel
||||||| 614e9b1
   "id": "9e9b2e71",
=======
   "id": "7a25d111",
>>>>>>> documentation-devel
||||||| 856b4c0
<<<<<<< HEAD
   "id": "03199d67",
||||||| 11b9cb7
   "id": "47e1e190",
=======
   "id": "9e9b2e71",
>>>>>>> documentation-devel
=======
   "id": "18b434cf",
>>>>>>> 552590ea8fad969b67afdba27558a1e6cb21016e
||||||| 452c944
   "id": "7a25d111",
=======
   "id": "1d3d7147",
>>>>>>> documentation-devel
||||||| 4da3324
<<<<<<< HEAD
<<<<<<< HEAD
<<<<<<< HEAD
   "id": "03199d67",
||||||| 11b9cb7
   "id": "47e1e190",
=======
   "id": "9e9b2e71",
>>>>>>> documentation-devel
||||||| 614e9b1
   "id": "9e9b2e71",
=======
   "id": "7a25d111",
>>>>>>> documentation-devel
||||||| 856b4c0
<<<<<<< HEAD
   "id": "03199d67",
||||||| 11b9cb7
   "id": "47e1e190",
=======
   "id": "9e9b2e71",
>>>>>>> documentation-devel
=======
   "id": "18b434cf",
>>>>>>> 552590ea8fad969b67afdba27558a1e6cb21016e
=======
   "id": "44986f65",
>>>>>>> b6e07d13baac92b2c1c9b43f8e4113ffa87bf495
   "metadata": {
    "lines_to_next_cell": 0
   },
   "source": [
    "The results are added to `rowData(sfe)`. The NA's are for non-highly variable genes, as Moran's I was only computed for highly variable genes here."
   ]
  },
  {
   "cell_type": "code",
   "execution_count": null,
<<<<<<< HEAD
<<<<<<< HEAD
<<<<<<< HEAD
<<<<<<< HEAD
<<<<<<< HEAD
   "id": "bb798e00",
||||||| 11b9cb7
   "id": "5f91aaf8",
=======
   "id": "b08a70b6",
>>>>>>> documentation-devel
||||||| 614e9b1
   "id": "b08a70b6",
=======
   "id": "cd1055f7",
>>>>>>> documentation-devel
||||||| 856b4c0
<<<<<<< HEAD
   "id": "bb798e00",
||||||| 11b9cb7
   "id": "5f91aaf8",
=======
   "id": "b08a70b6",
>>>>>>> documentation-devel
=======
   "id": "71284dab",
>>>>>>> 552590ea8fad969b67afdba27558a1e6cb21016e
||||||| 452c944
   "id": "cd1055f7",
=======
   "id": "07a45ca4",
>>>>>>> documentation-devel
||||||| 4da3324
<<<<<<< HEAD
<<<<<<< HEAD
<<<<<<< HEAD
   "id": "bb798e00",
||||||| 11b9cb7
   "id": "5f91aaf8",
=======
   "id": "b08a70b6",
>>>>>>> documentation-devel
||||||| 614e9b1
   "id": "b08a70b6",
=======
   "id": "cd1055f7",
>>>>>>> documentation-devel
||||||| 856b4c0
<<<<<<< HEAD
   "id": "bb798e00",
||||||| 11b9cb7
   "id": "5f91aaf8",
=======
   "id": "b08a70b6",
>>>>>>> documentation-devel
=======
   "id": "71284dab",
>>>>>>> 552590ea8fad969b67afdba27558a1e6cb21016e
=======
   "id": "ae2c61f0",
>>>>>>> b6e07d13baac92b2c1c9b43f8e4113ffa87bf495
   "metadata": {},
   "outputs": [],
   "source": [
    "rowData(sfe)"
   ]
  },
  {
   "cell_type": "markdown",
<<<<<<< HEAD
<<<<<<< HEAD
<<<<<<< HEAD
<<<<<<< HEAD
<<<<<<< HEAD
   "id": "7b994aac",
||||||| 11b9cb7
   "id": "58989ae0",
=======
   "id": "d7074a56",
>>>>>>> documentation-devel
||||||| 614e9b1
   "id": "d7074a56",
=======
   "id": "1705ad12",
>>>>>>> documentation-devel
||||||| 856b4c0
<<<<<<< HEAD
   "id": "7b994aac",
||||||| 11b9cb7
   "id": "58989ae0",
=======
   "id": "d7074a56",
>>>>>>> documentation-devel
=======
   "id": "1c035674",
>>>>>>> 552590ea8fad969b67afdba27558a1e6cb21016e
||||||| 452c944
   "id": "1705ad12",
=======
   "id": "35712cf4",
>>>>>>> documentation-devel
||||||| 4da3324
<<<<<<< HEAD
<<<<<<< HEAD
<<<<<<< HEAD
   "id": "7b994aac",
||||||| 11b9cb7
   "id": "58989ae0",
=======
   "id": "d7074a56",
>>>>>>> documentation-devel
||||||| 614e9b1
   "id": "d7074a56",
=======
   "id": "1705ad12",
>>>>>>> documentation-devel
||||||| 856b4c0
<<<<<<< HEAD
   "id": "7b994aac",
||||||| 11b9cb7
   "id": "58989ae0",
=======
   "id": "d7074a56",
>>>>>>> documentation-devel
=======
   "id": "1c035674",
>>>>>>> 552590ea8fad969b67afdba27558a1e6cb21016e
=======
   "id": "559a5191",
>>>>>>> b6e07d13baac92b2c1c9b43f8e4113ffa87bf495
   "metadata": {
    "lines_to_next_cell": 0
   },
   "source": [
    "How are the Moran's I's for highly variable genes distributed? Also, where are the top cluster marker genes in this distribution?"
   ]
  },
  {
   "cell_type": "code",
   "execution_count": null,
<<<<<<< HEAD
<<<<<<< HEAD
<<<<<<< HEAD
<<<<<<< HEAD
<<<<<<< HEAD
   "id": "f9478084",
||||||| 11b9cb7
   "id": "5ffdaa71",
=======
   "id": "156e90e5",
>>>>>>> documentation-devel
||||||| 614e9b1
   "id": "156e90e5",
=======
   "id": "c5da5489",
>>>>>>> documentation-devel
||||||| 856b4c0
<<<<<<< HEAD
   "id": "f9478084",
||||||| 11b9cb7
   "id": "5ffdaa71",
=======
   "id": "156e90e5",
>>>>>>> documentation-devel
=======
   "id": "44e3833f",
>>>>>>> 552590ea8fad969b67afdba27558a1e6cb21016e
||||||| 452c944
   "id": "c5da5489",
=======
   "id": "0b6a9836",
>>>>>>> documentation-devel
||||||| 4da3324
<<<<<<< HEAD
<<<<<<< HEAD
<<<<<<< HEAD
   "id": "f9478084",
||||||| 11b9cb7
   "id": "5ffdaa71",
=======
   "id": "156e90e5",
>>>>>>> documentation-devel
||||||| 614e9b1
   "id": "156e90e5",
=======
   "id": "c5da5489",
>>>>>>> documentation-devel
||||||| 856b4c0
<<<<<<< HEAD
   "id": "f9478084",
||||||| 11b9cb7
   "id": "5ffdaa71",
=======
   "id": "156e90e5",
>>>>>>> documentation-devel
=======
   "id": "44e3833f",
>>>>>>> 552590ea8fad969b67afdba27558a1e6cb21016e
=======
   "id": "59cc976e",
>>>>>>> b6e07d13baac92b2c1c9b43f8e4113ffa87bf495
   "metadata": {},
   "outputs": [],
   "source": [
    "plotRowDataHistogram(sfe, \"moran_sample01\", bins = 50) +\n",
    "    geom_vline(data = as.data.frame(rowData(sfe)[top_markers,]) |> \n",
    "                   mutate(index = seq_along(top_markers)),\n",
    "               aes(xintercept = moran_sample01, color = index)) +\n",
    "    scale_color_continuous(breaks = scales::breaks_width(2))"
   ]
  },
  {
   "cell_type": "markdown",
<<<<<<< HEAD
<<<<<<< HEAD
<<<<<<< HEAD
<<<<<<< HEAD
<<<<<<< HEAD
   "id": "bb7fdcb2",
||||||| 11b9cb7
   "id": "57696052",
=======
   "id": "e15e8ff2",
>>>>>>> documentation-devel
||||||| 614e9b1
   "id": "e15e8ff2",
=======
   "id": "e673626e",
>>>>>>> documentation-devel
||||||| 856b4c0
<<<<<<< HEAD
   "id": "bb7fdcb2",
||||||| 11b9cb7
   "id": "57696052",
=======
   "id": "e15e8ff2",
>>>>>>> documentation-devel
=======
   "id": "5efe4b1f",
>>>>>>> 552590ea8fad969b67afdba27558a1e6cb21016e
||||||| 452c944
   "id": "e673626e",
=======
   "id": "2c18cb53",
>>>>>>> documentation-devel
||||||| 4da3324
<<<<<<< HEAD
<<<<<<< HEAD
<<<<<<< HEAD
   "id": "bb7fdcb2",
||||||| 11b9cb7
   "id": "57696052",
=======
   "id": "e15e8ff2",
>>>>>>> documentation-devel
||||||| 614e9b1
   "id": "e15e8ff2",
=======
   "id": "e673626e",
>>>>>>> documentation-devel
||||||| 856b4c0
<<<<<<< HEAD
   "id": "bb7fdcb2",
||||||| 11b9cb7
   "id": "57696052",
=======
   "id": "e15e8ff2",
>>>>>>> documentation-devel
=======
   "id": "5efe4b1f",
>>>>>>> 552590ea8fad969b67afdba27558a1e6cb21016e
=======
   "id": "4dd8b973",
>>>>>>> b6e07d13baac92b2c1c9b43f8e4113ffa87bf495
   "metadata": {},
   "source": [
    "The top marker genes all have quite positive Moran's I on the k nearest neighbor graph. It would also be interesting to color this histogram by gene sets. Since the k nearest neighbor graph was found in PCA space, which is based on gene expression, as expected, Moran's I with this graph is mostly positive, although often not that strong. A small number of genes have slightly negative Moran's I. What do the top genes look like in PCA?"
   ]
  },
  {
   "cell_type": "code",
   "execution_count": null,
<<<<<<< HEAD
<<<<<<< HEAD
<<<<<<< HEAD
<<<<<<< HEAD
<<<<<<< HEAD
   "id": "3edaf8a5",
||||||| 11b9cb7
   "id": "68440a71",
=======
   "id": "5efd8639",
>>>>>>> documentation-devel
||||||| 614e9b1
   "id": "5efd8639",
=======
   "id": "d7107b1b",
>>>>>>> documentation-devel
||||||| 856b4c0
<<<<<<< HEAD
   "id": "3edaf8a5",
||||||| 11b9cb7
   "id": "68440a71",
=======
   "id": "5efd8639",
>>>>>>> documentation-devel
=======
   "id": "0a5a0aa0",
>>>>>>> 552590ea8fad969b67afdba27558a1e6cb21016e
||||||| 452c944
   "id": "d7107b1b",
=======
   "id": "a91792b9",
>>>>>>> documentation-devel
||||||| 4da3324
<<<<<<< HEAD
<<<<<<< HEAD
<<<<<<< HEAD
   "id": "3edaf8a5",
||||||| 11b9cb7
   "id": "68440a71",
=======
   "id": "5efd8639",
>>>>>>> documentation-devel
||||||| 614e9b1
   "id": "5efd8639",
=======
   "id": "d7107b1b",
>>>>>>> documentation-devel
||||||| 856b4c0
<<<<<<< HEAD
   "id": "3edaf8a5",
||||||| 11b9cb7
   "id": "68440a71",
=======
   "id": "5efd8639",
>>>>>>> documentation-devel
=======
   "id": "0a5a0aa0",
>>>>>>> 552590ea8fad969b67afdba27558a1e6cb21016e
=======
   "id": "17e1fe78",
>>>>>>> b6e07d13baac92b2c1c9b43f8e4113ffa87bf495
   "metadata": {
    "fig.height": 6,
    "fig.width": 8
   },
   "outputs": [],
   "source": [
    "top_moran <- head(rownames(sfe)[order(rowData(sfe)$moran_sample01, decreasing = TRUE)], 4)\n",
    "plotSpatialFeature(sfe, top_moran, ncol = 2)"
   ]
  },
  {
   "cell_type": "code",
   "execution_count": null,
<<<<<<< HEAD
<<<<<<< HEAD
<<<<<<< HEAD
<<<<<<< HEAD
<<<<<<< HEAD
   "id": "0be2e272",
||||||| 11b9cb7
   "id": "cb4e8046",
=======
   "id": "4634161f",
>>>>>>> documentation-devel
||||||| 614e9b1
   "id": "4634161f",
=======
   "id": "8f656e8a",
>>>>>>> documentation-devel
||||||| 856b4c0
<<<<<<< HEAD
   "id": "0be2e272",
||||||| 11b9cb7
   "id": "cb4e8046",
=======
   "id": "4634161f",
>>>>>>> documentation-devel
=======
   "id": "8e510982",
>>>>>>> 552590ea8fad969b67afdba27558a1e6cb21016e
||||||| 452c944
   "id": "8f656e8a",
=======
   "id": "95f5fbc1",
>>>>>>> documentation-devel
||||||| 4da3324
<<<<<<< HEAD
<<<<<<< HEAD
<<<<<<< HEAD
   "id": "0be2e272",
||||||| 11b9cb7
   "id": "cb4e8046",
=======
   "id": "4634161f",
>>>>>>> documentation-devel
||||||| 614e9b1
   "id": "4634161f",
=======
   "id": "8f656e8a",
>>>>>>> documentation-devel
||||||| 856b4c0
<<<<<<< HEAD
   "id": "0be2e272",
||||||| 11b9cb7
   "id": "cb4e8046",
=======
   "id": "4634161f",
>>>>>>> documentation-devel
=======
   "id": "8e510982",
>>>>>>> 552590ea8fad969b67afdba27558a1e6cb21016e
=======
   "id": "e2959972",
>>>>>>> b6e07d13baac92b2c1c9b43f8e4113ffa87bf495
   "metadata": {},
   "outputs": [],
   "source": [
    "top_moran_symbol <- rowData(sfe)[top_moran, \"Symbol\"]\n",
    "plotExpression(sfe, top_moran_symbol, swap_rownames = \"Symbol\")"
   ]
  },
  {
   "cell_type": "markdown",
<<<<<<< HEAD
<<<<<<< HEAD
<<<<<<< HEAD
<<<<<<< HEAD
<<<<<<< HEAD
   "id": "ab08b472",
||||||| 11b9cb7
   "id": "82ce11d7",
=======
   "id": "74193fc7",
>>>>>>> documentation-devel
||||||| 614e9b1
   "id": "74193fc7",
=======
   "id": "42fb5538",
>>>>>>> documentation-devel
||||||| 856b4c0
<<<<<<< HEAD
   "id": "ab08b472",
||||||| 11b9cb7
   "id": "82ce11d7",
=======
   "id": "74193fc7",
>>>>>>> documentation-devel
=======
   "id": "52f5ee42",
>>>>>>> 552590ea8fad969b67afdba27558a1e6cb21016e
||||||| 452c944
   "id": "42fb5538",
=======
   "id": "05700b6e",
>>>>>>> documentation-devel
||||||| 4da3324
<<<<<<< HEAD
<<<<<<< HEAD
<<<<<<< HEAD
   "id": "ab08b472",
||||||| 11b9cb7
   "id": "82ce11d7",
=======
   "id": "74193fc7",
>>>>>>> documentation-devel
||||||| 614e9b1
   "id": "74193fc7",
=======
   "id": "42fb5538",
>>>>>>> documentation-devel
||||||| 856b4c0
<<<<<<< HEAD
   "id": "ab08b472",
||||||| 11b9cb7
   "id": "82ce11d7",
=======
   "id": "74193fc7",
>>>>>>> documentation-devel
=======
   "id": "52f5ee42",
>>>>>>> 552590ea8fad969b67afdba27558a1e6cb21016e
=======
   "id": "01d53d9f",
>>>>>>> b6e07d13baac92b2c1c9b43f8e4113ffa87bf495
   "metadata": {},
   "source": [
    "They are all marker genes for the same cluster, cluster 9. Perhaps these genes have high Moran's I because they are specific to a cell type. Then how does the Moran's I relate to cluster AUC and cluster differential expression p-value?"
   ]
  },
  {
   "cell_type": "code",
   "execution_count": null,
<<<<<<< HEAD
<<<<<<< HEAD
<<<<<<< HEAD
<<<<<<< HEAD
<<<<<<< HEAD
   "id": "d106716e",
||||||| 11b9cb7
   "id": "7c466318",
=======
   "id": "afb54c4a",
>>>>>>> documentation-devel
||||||| 614e9b1
   "id": "afb54c4a",
=======
   "id": "faa9da59",
>>>>>>> documentation-devel
||||||| 856b4c0
<<<<<<< HEAD
   "id": "d106716e",
||||||| 11b9cb7
   "id": "7c466318",
=======
   "id": "afb54c4a",
>>>>>>> documentation-devel
=======
   "id": "76220529",
>>>>>>> 552590ea8fad969b67afdba27558a1e6cb21016e
||||||| 452c944
   "id": "faa9da59",
=======
   "id": "15a4eea0",
>>>>>>> documentation-devel
||||||| 4da3324
<<<<<<< HEAD
<<<<<<< HEAD
<<<<<<< HEAD
   "id": "d106716e",
||||||| 11b9cb7
   "id": "7c466318",
=======
   "id": "afb54c4a",
>>>>>>> documentation-devel
||||||| 614e9b1
   "id": "afb54c4a",
=======
   "id": "faa9da59",
>>>>>>> documentation-devel
||||||| 856b4c0
<<<<<<< HEAD
   "id": "d106716e",
||||||| 11b9cb7
   "id": "7c466318",
=======
   "id": "afb54c4a",
>>>>>>> documentation-devel
=======
   "id": "76220529",
>>>>>>> 552590ea8fad969b67afdba27558a1e6cb21016e
=======
   "id": "77994968",
>>>>>>> b6e07d13baac92b2c1c9b43f8e4113ffa87bf495
   "metadata": {},
   "outputs": [],
   "source": [
    "# See if markers are unique to clusters\n",
    "anyDuplicated(rownames(top_markers_df))"
   ]
  },
  {
   "cell_type": "code",
   "execution_count": null,
<<<<<<< HEAD
<<<<<<< HEAD
<<<<<<< HEAD
<<<<<<< HEAD
<<<<<<< HEAD
   "id": "a6e2d326",
||||||| 11b9cb7
   "id": "610f5419",
=======
   "id": "9a4aad5c",
>>>>>>> documentation-devel
||||||| 614e9b1
   "id": "9a4aad5c",
=======
   "id": "7b29b565",
>>>>>>> documentation-devel
||||||| 856b4c0
<<<<<<< HEAD
   "id": "a6e2d326",
||||||| 11b9cb7
   "id": "610f5419",
=======
   "id": "9a4aad5c",
>>>>>>> documentation-devel
=======
   "id": "b17414d5",
>>>>>>> 552590ea8fad969b67afdba27558a1e6cb21016e
||||||| 452c944
   "id": "7b29b565",
=======
   "id": "3b6b234d",
>>>>>>> documentation-devel
||||||| 4da3324
<<<<<<< HEAD
<<<<<<< HEAD
<<<<<<< HEAD
   "id": "a6e2d326",
||||||| 11b9cb7
   "id": "610f5419",
=======
   "id": "9a4aad5c",
>>>>>>> documentation-devel
||||||| 614e9b1
   "id": "9a4aad5c",
=======
   "id": "7b29b565",
>>>>>>> documentation-devel
||||||| 856b4c0
<<<<<<< HEAD
   "id": "a6e2d326",
||||||| 11b9cb7
   "id": "610f5419",
=======
   "id": "9a4aad5c",
>>>>>>> documentation-devel
=======
   "id": "b17414d5",
>>>>>>> 552590ea8fad969b67afdba27558a1e6cb21016e
=======
   "id": "2c0c8ac7",
>>>>>>> b6e07d13baac92b2c1c9b43f8e4113ffa87bf495
   "metadata": {},
   "outputs": [],
   "source": [
    "top_markers_df$moran <- rowData(sfe)[rownames(top_markers_df), \"moran_sample01\"]\n",
    "top_markers_df$log_p_adj <- -log10(top_markers_df$FDR)\n",
    "top_markers_df$cluster <- factor(top_markers_df$cluster, \n",
    "                                 levels = seq_len(length(unique(top_markers_df$cluster))))"
   ]
  },
  {
   "cell_type": "markdown",
<<<<<<< HEAD
<<<<<<< HEAD
<<<<<<< HEAD
<<<<<<< HEAD
<<<<<<< HEAD
   "id": "08dd4252",
||||||| 11b9cb7
   "id": "dabcc292",
=======
   "id": "303911ce",
>>>>>>> documentation-devel
||||||| 614e9b1
   "id": "303911ce",
=======
   "id": "826e3cbe",
>>>>>>> documentation-devel
||||||| 856b4c0
<<<<<<< HEAD
   "id": "08dd4252",
||||||| 11b9cb7
   "id": "dabcc292",
=======
   "id": "303911ce",
>>>>>>> documentation-devel
=======
   "id": "0240ef28",
>>>>>>> 552590ea8fad969b67afdba27558a1e6cb21016e
||||||| 452c944
   "id": "826e3cbe",
=======
   "id": "a45c7ddb",
>>>>>>> documentation-devel
||||||| 4da3324
<<<<<<< HEAD
<<<<<<< HEAD
<<<<<<< HEAD
   "id": "08dd4252",
||||||| 11b9cb7
   "id": "dabcc292",
=======
   "id": "303911ce",
>>>>>>> documentation-devel
||||||| 614e9b1
   "id": "303911ce",
=======
   "id": "826e3cbe",
>>>>>>> documentation-devel
||||||| 856b4c0
<<<<<<< HEAD
   "id": "08dd4252",
||||||| 11b9cb7
   "id": "dabcc292",
=======
   "id": "303911ce",
>>>>>>> documentation-devel
=======
   "id": "0240ef28",
>>>>>>> 552590ea8fad969b67afdba27558a1e6cb21016e
=======
   "id": "5f7e9baf",
>>>>>>> b6e07d13baac92b2c1c9b43f8e4113ffa87bf495
   "metadata": {
    "lines_to_next_cell": 0
   },
   "source": [
    "How does the differential expression p-value relate to Moran's I?"
   ]
  },
  {
   "cell_type": "code",
   "execution_count": null,
<<<<<<< HEAD
<<<<<<< HEAD
<<<<<<< HEAD
<<<<<<< HEAD
<<<<<<< HEAD
   "id": "5712db10",
||||||| 11b9cb7
   "id": "8e03c957",
=======
   "id": "d3faf226",
>>>>>>> documentation-devel
||||||| 614e9b1
   "id": "d3faf226",
=======
   "id": "bd553285",
>>>>>>> documentation-devel
||||||| 856b4c0
<<<<<<< HEAD
   "id": "5712db10",
||||||| 11b9cb7
   "id": "8e03c957",
=======
   "id": "d3faf226",
>>>>>>> documentation-devel
=======
   "id": "11b47691",
>>>>>>> 552590ea8fad969b67afdba27558a1e6cb21016e
||||||| 452c944
   "id": "bd553285",
=======
   "id": "5d5ed04f",
>>>>>>> documentation-devel
||||||| 4da3324
<<<<<<< HEAD
<<<<<<< HEAD
<<<<<<< HEAD
   "id": "5712db10",
||||||| 11b9cb7
   "id": "8e03c957",
=======
   "id": "d3faf226",
>>>>>>> documentation-devel
||||||| 614e9b1
   "id": "d3faf226",
=======
   "id": "bd553285",
>>>>>>> documentation-devel
||||||| 856b4c0
<<<<<<< HEAD
   "id": "5712db10",
||||||| 11b9cb7
   "id": "8e03c957",
=======
   "id": "d3faf226",
>>>>>>> documentation-devel
=======
   "id": "11b47691",
>>>>>>> 552590ea8fad969b67afdba27558a1e6cb21016e
=======
   "id": "f325bc9c",
>>>>>>> b6e07d13baac92b2c1c9b43f8e4113ffa87bf495
   "metadata": {},
   "outputs": [],
   "source": [
    "as.data.frame(top_markers_df) |> \n",
    "    ggplot(aes(log_p_adj, moran)) +\n",
    "    geom_point(aes(color = cluster)) +\n",
    "    geom_smooth(method = \"lm\") +\n",
    "    scale_color_manual(values = ditto_colors)"
   ]
  },
  {
   "cell_type": "markdown",
<<<<<<< HEAD
<<<<<<< HEAD
<<<<<<< HEAD
<<<<<<< HEAD
<<<<<<< HEAD
   "id": "96b026f2",
||||||| 11b9cb7
   "id": "3abd1b1a",
=======
   "id": "39a52f89",
>>>>>>> documentation-devel
||||||| 614e9b1
   "id": "39a52f89",
=======
   "id": "297d380b",
>>>>>>> documentation-devel
||||||| 856b4c0
<<<<<<< HEAD
   "id": "96b026f2",
||||||| 11b9cb7
   "id": "3abd1b1a",
=======
   "id": "39a52f89",
>>>>>>> documentation-devel
=======
   "id": "a588aab9",
>>>>>>> 552590ea8fad969b67afdba27558a1e6cb21016e
||||||| 452c944
   "id": "297d380b",
=======
   "id": "fcf25384",
>>>>>>> documentation-devel
||||||| 4da3324
<<<<<<< HEAD
<<<<<<< HEAD
<<<<<<< HEAD
   "id": "96b026f2",
||||||| 11b9cb7
   "id": "3abd1b1a",
=======
   "id": "39a52f89",
>>>>>>> documentation-devel
||||||| 614e9b1
   "id": "39a52f89",
=======
   "id": "297d380b",
>>>>>>> documentation-devel
||||||| 856b4c0
<<<<<<< HEAD
   "id": "96b026f2",
||||||| 11b9cb7
   "id": "3abd1b1a",
=======
   "id": "39a52f89",
>>>>>>> documentation-devel
=======
   "id": "a588aab9",
>>>>>>> 552590ea8fad969b67afdba27558a1e6cb21016e
=======
   "id": "28f080dc",
>>>>>>> b6e07d13baac92b2c1c9b43f8e4113ffa87bf495
   "metadata": {},
   "source": [
    "Generally, more significant marker genes tend to have higher Moran's I. This is not surprising because the clusters and Moran's I here are both based on the k nearest neighbor graph."
   ]
  },
  {
   "cell_type": "code",
   "execution_count": null,
<<<<<<< HEAD
<<<<<<< HEAD
<<<<<<< HEAD
<<<<<<< HEAD
<<<<<<< HEAD
   "id": "e622314a",
||||||| 11b9cb7
   "id": "e993fab3",
=======
   "id": "1034181e",
>>>>>>> documentation-devel
||||||| 614e9b1
   "id": "1034181e",
=======
   "id": "99db2872",
>>>>>>> documentation-devel
||||||| 856b4c0
<<<<<<< HEAD
   "id": "e622314a",
||||||| 11b9cb7
   "id": "e993fab3",
=======
   "id": "1034181e",
>>>>>>> documentation-devel
=======
   "id": "d777294c",
>>>>>>> 552590ea8fad969b67afdba27558a1e6cb21016e
||||||| 452c944
   "id": "99db2872",
=======
   "id": "34302747",
>>>>>>> documentation-devel
||||||| 4da3324
<<<<<<< HEAD
<<<<<<< HEAD
<<<<<<< HEAD
   "id": "e622314a",
||||||| 11b9cb7
   "id": "e993fab3",
=======
   "id": "1034181e",
>>>>>>> documentation-devel
||||||| 614e9b1
   "id": "1034181e",
=======
   "id": "99db2872",
>>>>>>> documentation-devel
||||||| 856b4c0
<<<<<<< HEAD
   "id": "e622314a",
||||||| 11b9cb7
   "id": "e993fab3",
=======
   "id": "1034181e",
>>>>>>> documentation-devel
=======
   "id": "d777294c",
>>>>>>> 552590ea8fad969b67afdba27558a1e6cb21016e
=======
   "id": "4b858eaf",
>>>>>>> b6e07d13baac92b2c1c9b43f8e4113ffa87bf495
   "metadata": {},
   "outputs": [],
   "source": [
    "as.data.frame(top_markers_df) |> \n",
    "    ggplot(aes(summary.AUC, moran)) +\n",
    "    geom_point(aes(color = cluster)) +\n",
    "    geom_smooth(method = \"lm\") +\n",
    "    scale_color_manual(values = ditto_colors)"
   ]
  },
  {
   "cell_type": "markdown",
<<<<<<< HEAD
<<<<<<< HEAD
<<<<<<< HEAD
<<<<<<< HEAD
<<<<<<< HEAD
   "id": "866db8f8",
||||||| 11b9cb7
   "id": "10663e25",
=======
   "id": "11359c45",
>>>>>>> documentation-devel
||||||| 614e9b1
   "id": "11359c45",
=======
   "id": "3f3014da",
>>>>>>> documentation-devel
||||||| 856b4c0
<<<<<<< HEAD
   "id": "866db8f8",
||||||| 11b9cb7
   "id": "10663e25",
=======
   "id": "11359c45",
>>>>>>> documentation-devel
=======
   "id": "4863ea02",
>>>>>>> 552590ea8fad969b67afdba27558a1e6cb21016e
||||||| 452c944
   "id": "3f3014da",
=======
   "id": "b4840bd9",
>>>>>>> documentation-devel
||||||| 4da3324
<<<<<<< HEAD
<<<<<<< HEAD
<<<<<<< HEAD
   "id": "866db8f8",
||||||| 11b9cb7
   "id": "10663e25",
=======
   "id": "11359c45",
>>>>>>> documentation-devel
||||||| 614e9b1
   "id": "11359c45",
=======
   "id": "3f3014da",
>>>>>>> documentation-devel
||||||| 856b4c0
<<<<<<< HEAD
   "id": "866db8f8",
||||||| 11b9cb7
   "id": "10663e25",
=======
   "id": "11359c45",
>>>>>>> documentation-devel
=======
   "id": "4863ea02",
>>>>>>> 552590ea8fad969b67afdba27558a1e6cb21016e
=======
   "id": "06c831d8",
>>>>>>> b6e07d13baac92b2c1c9b43f8e4113ffa87bf495
   "metadata": {
    "lines_to_next_cell": 0
   },
   "source": [
    "Similarly, genes with higher AUC tend to have higher Moran's I. For other clusters, generally speaking, genes more specific to a cluster tend to have higher Moran's I.\n",
    "\n",
    "Let's use permutation testing to see if Moran's I is statistically significant:"
   ]
  },
  {
   "cell_type": "code",
   "execution_count": null,
<<<<<<< HEAD
<<<<<<< HEAD
<<<<<<< HEAD
<<<<<<< HEAD
<<<<<<< HEAD
   "id": "48a0bf3e",
||||||| 11b9cb7
   "id": "d6fa0c24",
=======
   "id": "bbd2f602",
>>>>>>> documentation-devel
||||||| 614e9b1
   "id": "bbd2f602",
=======
   "id": "e7dcb8ca",
>>>>>>> documentation-devel
||||||| 856b4c0
<<<<<<< HEAD
   "id": "48a0bf3e",
||||||| 11b9cb7
   "id": "d6fa0c24",
=======
   "id": "bbd2f602",
>>>>>>> documentation-devel
=======
   "id": "46d32ced",
>>>>>>> 552590ea8fad969b67afdba27558a1e6cb21016e
||||||| 452c944
   "id": "e7dcb8ca",
=======
   "id": "6fa5fc82",
>>>>>>> documentation-devel
||||||| 4da3324
<<<<<<< HEAD
<<<<<<< HEAD
<<<<<<< HEAD
   "id": "48a0bf3e",
||||||| 11b9cb7
   "id": "d6fa0c24",
=======
   "id": "bbd2f602",
>>>>>>> documentation-devel
||||||| 614e9b1
   "id": "bbd2f602",
=======
   "id": "e7dcb8ca",
>>>>>>> documentation-devel
||||||| 856b4c0
<<<<<<< HEAD
   "id": "48a0bf3e",
||||||| 11b9cb7
   "id": "d6fa0c24",
=======
   "id": "bbd2f602",
>>>>>>> documentation-devel
=======
   "id": "46d32ced",
>>>>>>> 552590ea8fad969b67afdba27558a1e6cb21016e
=======
   "id": "c1d4ec15",
>>>>>>> b6e07d13baac92b2c1c9b43f8e4113ffa87bf495
   "metadata": {},
   "outputs": [],
   "source": [
    "sfe <- runUnivariate(sfe, \"moran.mc\", features = top_markers, nsim = 200)"
   ]
  },
  {
   "cell_type": "code",
   "execution_count": null,
<<<<<<< HEAD
<<<<<<< HEAD
<<<<<<< HEAD
<<<<<<< HEAD
<<<<<<< HEAD
   "id": "f3873857",
||||||| 11b9cb7
   "id": "a8836687",
=======
   "id": "78b0effd",
>>>>>>> documentation-devel
||||||| 614e9b1
   "id": "78b0effd",
=======
   "id": "547fd209",
>>>>>>> documentation-devel
||||||| 856b4c0
<<<<<<< HEAD
   "id": "f3873857",
||||||| 11b9cb7
   "id": "a8836687",
=======
   "id": "78b0effd",
>>>>>>> documentation-devel
=======
   "id": "e11ebab5",
>>>>>>> 552590ea8fad969b67afdba27558a1e6cb21016e
||||||| 452c944
   "id": "547fd209",
=======
   "id": "6496e157",
>>>>>>> documentation-devel
||||||| 4da3324
<<<<<<< HEAD
<<<<<<< HEAD
<<<<<<< HEAD
   "id": "f3873857",
||||||| 11b9cb7
   "id": "a8836687",
=======
   "id": "78b0effd",
>>>>>>> documentation-devel
||||||| 614e9b1
   "id": "78b0effd",
=======
   "id": "547fd209",
>>>>>>> documentation-devel
||||||| 856b4c0
<<<<<<< HEAD
   "id": "f3873857",
||||||| 11b9cb7
   "id": "a8836687",
=======
   "id": "78b0effd",
>>>>>>> documentation-devel
=======
   "id": "e11ebab5",
>>>>>>> 552590ea8fad969b67afdba27558a1e6cb21016e
=======
   "id": "e459f018",
>>>>>>> b6e07d13baac92b2c1c9b43f8e4113ffa87bf495
   "metadata": {},
   "outputs": [],
   "source": [
    "top_markers_symbol"
   ]
  },
  {
   "cell_type": "code",
   "execution_count": null,
<<<<<<< HEAD
<<<<<<< HEAD
<<<<<<< HEAD
<<<<<<< HEAD
<<<<<<< HEAD
   "id": "a0d90c47",
||||||| 11b9cb7
   "id": "1e2f92ba",
=======
   "id": "d6fd1afd",
>>>>>>> documentation-devel
||||||| 614e9b1
   "id": "d6fd1afd",
=======
   "id": "5c8a19c4",
>>>>>>> documentation-devel
||||||| 856b4c0
<<<<<<< HEAD
   "id": "a0d90c47",
||||||| 11b9cb7
   "id": "1e2f92ba",
=======
   "id": "d6fd1afd",
>>>>>>> documentation-devel
=======
   "id": "44014ae8",
>>>>>>> 552590ea8fad969b67afdba27558a1e6cb21016e
||||||| 452c944
   "id": "5c8a19c4",
=======
   "id": "aa102b59",
>>>>>>> documentation-devel
||||||| 4da3324
<<<<<<< HEAD
<<<<<<< HEAD
<<<<<<< HEAD
   "id": "a0d90c47",
||||||| 11b9cb7
   "id": "1e2f92ba",
=======
   "id": "d6fd1afd",
>>>>>>> documentation-devel
||||||| 614e9b1
   "id": "d6fd1afd",
=======
   "id": "5c8a19c4",
>>>>>>> documentation-devel
||||||| 856b4c0
<<<<<<< HEAD
   "id": "a0d90c47",
||||||| 11b9cb7
   "id": "1e2f92ba",
=======
   "id": "d6fd1afd",
>>>>>>> documentation-devel
=======
   "id": "44014ae8",
>>>>>>> 552590ea8fad969b67afdba27558a1e6cb21016e
=======
   "id": "04cf671b",
>>>>>>> b6e07d13baac92b2c1c9b43f8e4113ffa87bf495
   "metadata": {},
   "outputs": [],
   "source": [
    "plotMoranMC(sfe, top_markers, swap_rownames = \"Symbol\")"
   ]
  },
  {
   "cell_type": "markdown",
<<<<<<< HEAD
<<<<<<< HEAD
<<<<<<< HEAD
<<<<<<< HEAD
<<<<<<< HEAD
   "id": "6d5217f8",
||||||| 11b9cb7
   "id": "bb2a8a43",
=======
   "id": "7cc75035",
>>>>>>> documentation-devel
||||||| 614e9b1
   "id": "7cc75035",
=======
   "id": "be88a205",
>>>>>>> documentation-devel
||||||| 856b4c0
<<<<<<< HEAD
   "id": "6d5217f8",
||||||| 11b9cb7
   "id": "bb2a8a43",
=======
   "id": "7cc75035",
>>>>>>> documentation-devel
=======
   "id": "914ee019",
>>>>>>> 552590ea8fad969b67afdba27558a1e6cb21016e
||||||| 452c944
   "id": "be88a205",
=======
   "id": "c4dfae73",
>>>>>>> documentation-devel
||||||| 4da3324
<<<<<<< HEAD
<<<<<<< HEAD
<<<<<<< HEAD
   "id": "6d5217f8",
||||||| 11b9cb7
   "id": "bb2a8a43",
=======
   "id": "7cc75035",
>>>>>>> documentation-devel
||||||| 614e9b1
   "id": "7cc75035",
=======
   "id": "be88a205",
>>>>>>> documentation-devel
||||||| 856b4c0
<<<<<<< HEAD
   "id": "6d5217f8",
||||||| 11b9cb7
   "id": "bb2a8a43",
=======
   "id": "7cc75035",
>>>>>>> documentation-devel
=======
   "id": "914ee019",
>>>>>>> 552590ea8fad969b67afdba27558a1e6cb21016e
=======
   "id": "9bea1969",
>>>>>>> b6e07d13baac92b2c1c9b43f8e4113ffa87bf495
   "metadata": {},
   "source": [
    "They all seem to be very significant. \n",
    "\n",
    "The correlogram finds Moran's I for a higher order of neighbors and can be a proxy for distance. "
   ]
  },
  {
   "cell_type": "code",
   "execution_count": null,
<<<<<<< HEAD
<<<<<<< HEAD
<<<<<<< HEAD
<<<<<<< HEAD
<<<<<<< HEAD
   "id": "a996a53d",
||||||| 11b9cb7
   "id": "82c05a13",
=======
   "id": "5aa96935",
>>>>>>> documentation-devel
||||||| 614e9b1
   "id": "5aa96935",
=======
   "id": "e19d1b68",
>>>>>>> documentation-devel
||||||| 856b4c0
<<<<<<< HEAD
   "id": "a996a53d",
||||||| 11b9cb7
   "id": "82c05a13",
=======
   "id": "5aa96935",
>>>>>>> documentation-devel
=======
   "id": "7b925879",
>>>>>>> 552590ea8fad969b67afdba27558a1e6cb21016e
||||||| 452c944
   "id": "e19d1b68",
=======
   "id": "4112c25c",
>>>>>>> documentation-devel
||||||| 4da3324
<<<<<<< HEAD
<<<<<<< HEAD
<<<<<<< HEAD
   "id": "a996a53d",
||||||| 11b9cb7
   "id": "82c05a13",
=======
   "id": "5aa96935",
>>>>>>> documentation-devel
||||||| 614e9b1
   "id": "5aa96935",
=======
   "id": "e19d1b68",
>>>>>>> documentation-devel
||||||| 856b4c0
<<<<<<< HEAD
   "id": "a996a53d",
||||||| 11b9cb7
   "id": "82c05a13",
=======
   "id": "5aa96935",
>>>>>>> documentation-devel
=======
   "id": "7b925879",
>>>>>>> 552590ea8fad969b67afdba27558a1e6cb21016e
=======
   "id": "8efa43ab",
>>>>>>> b6e07d13baac92b2c1c9b43f8e4113ffa87bf495
   "metadata": {},
   "outputs": [],
   "source": [
    "system.time({\n",
    "    sfe <- runUnivariate(sfe, \"sp.correlogram\", top_markers, order = 6, \n",
    "                     zero.policy = TRUE, BPPARAM = MulticoreParam(2))\n",
    "})"
   ]
  },
  {
   "cell_type": "code",
   "execution_count": null,
<<<<<<< HEAD
<<<<<<< HEAD
<<<<<<< HEAD
<<<<<<< HEAD
<<<<<<< HEAD
   "id": "5ab3efed",
||||||| 11b9cb7
   "id": "af103402",
=======
   "id": "a16bf459",
>>>>>>> documentation-devel
||||||| 614e9b1
   "id": "a16bf459",
=======
   "id": "1d651428",
>>>>>>> documentation-devel
||||||| 856b4c0
<<<<<<< HEAD
   "id": "5ab3efed",
||||||| 11b9cb7
   "id": "af103402",
=======
   "id": "a16bf459",
>>>>>>> documentation-devel
=======
   "id": "5998df3a",
>>>>>>> 552590ea8fad969b67afdba27558a1e6cb21016e
||||||| 452c944
   "id": "1d651428",
=======
   "id": "d20f8cee",
>>>>>>> documentation-devel
||||||| 4da3324
<<<<<<< HEAD
<<<<<<< HEAD
<<<<<<< HEAD
   "id": "5ab3efed",
||||||| 11b9cb7
   "id": "af103402",
=======
   "id": "a16bf459",
>>>>>>> documentation-devel
||||||| 614e9b1
   "id": "a16bf459",
=======
   "id": "1d651428",
>>>>>>> documentation-devel
||||||| 856b4c0
<<<<<<< HEAD
   "id": "5ab3efed",
||||||| 11b9cb7
   "id": "af103402",
=======
   "id": "a16bf459",
>>>>>>> documentation-devel
=======
   "id": "5998df3a",
>>>>>>> 552590ea8fad969b67afdba27558a1e6cb21016e
=======
   "id": "6424770d",
>>>>>>> b6e07d13baac92b2c1c9b43f8e4113ffa87bf495
   "metadata": {},
   "outputs": [],
   "source": [
    "plotCorrelogram(sfe, top_markers, swap_rownames = \"Symbol\")"
   ]
  },
  {
   "cell_type": "markdown",
<<<<<<< HEAD
<<<<<<< HEAD
<<<<<<< HEAD
<<<<<<< HEAD
<<<<<<< HEAD
   "id": "14fc2ee6",
||||||| 11b9cb7
   "id": "c0625c0d",
=======
   "id": "0ae645e6",
>>>>>>> documentation-devel
||||||| 614e9b1
   "id": "0ae645e6",
=======
   "id": "21a015a1",
>>>>>>> documentation-devel
||||||| 856b4c0
<<<<<<< HEAD
   "id": "14fc2ee6",
||||||| 11b9cb7
   "id": "c0625c0d",
=======
   "id": "0ae645e6",
>>>>>>> documentation-devel
=======
   "id": "aaea8bfd",
>>>>>>> 552590ea8fad969b67afdba27558a1e6cb21016e
||||||| 452c944
   "id": "21a015a1",
=======
   "id": "ad6c9d39",
>>>>>>> documentation-devel
||||||| 4da3324
<<<<<<< HEAD
<<<<<<< HEAD
<<<<<<< HEAD
   "id": "14fc2ee6",
||||||| 11b9cb7
   "id": "c0625c0d",
=======
   "id": "0ae645e6",
>>>>>>> documentation-devel
||||||| 614e9b1
   "id": "0ae645e6",
=======
   "id": "21a015a1",
>>>>>>> documentation-devel
||||||| 856b4c0
<<<<<<< HEAD
   "id": "14fc2ee6",
||||||| 11b9cb7
   "id": "c0625c0d",
=======
   "id": "0ae645e6",
>>>>>>> documentation-devel
=======
   "id": "aaea8bfd",
>>>>>>> 552590ea8fad969b67afdba27558a1e6cb21016e
=======
   "id": "d38cfbbe",
>>>>>>> b6e07d13baac92b2c1c9b43f8e4113ffa87bf495
   "metadata": {
    "lines_to_next_cell": 0
   },
   "source": [
    "We see different patterns of decay in spatial autocorrelation and different length scales of spatial autocorrelation. CLU is a marker gene very specific to the smallest cluster, so higher order neighbors are very likely to be from other clusters. Marker genes for the other larger clusters with hundreds of cells nevertheless display different patterns in the correlogram.\n",
    "\n",
    "## Local Moran's I"
   ]
  },
  {
   "cell_type": "code",
   "execution_count": null,
<<<<<<< HEAD
<<<<<<< HEAD
<<<<<<< HEAD
<<<<<<< HEAD
<<<<<<< HEAD
   "id": "1e19f18b",
||||||| 11b9cb7
   "id": "8541e995",
=======
   "id": "4681f4f4",
>>>>>>> documentation-devel
||||||| 614e9b1
   "id": "4681f4f4",
=======
   "id": "9767ff01",
>>>>>>> documentation-devel
||||||| 856b4c0
<<<<<<< HEAD
   "id": "1e19f18b",
||||||| 11b9cb7
   "id": "8541e995",
=======
   "id": "4681f4f4",
>>>>>>> documentation-devel
=======
   "id": "65103674",
>>>>>>> 552590ea8fad969b67afdba27558a1e6cb21016e
||||||| 452c944
   "id": "9767ff01",
=======
   "id": "382affbf",
>>>>>>> documentation-devel
||||||| 4da3324
<<<<<<< HEAD
<<<<<<< HEAD
<<<<<<< HEAD
   "id": "1e19f18b",
||||||| 11b9cb7
   "id": "8541e995",
=======
   "id": "4681f4f4",
>>>>>>> documentation-devel
||||||| 614e9b1
   "id": "4681f4f4",
=======
   "id": "9767ff01",
>>>>>>> documentation-devel
||||||| 856b4c0
<<<<<<< HEAD
   "id": "1e19f18b",
||||||| 11b9cb7
   "id": "8541e995",
=======
   "id": "4681f4f4",
>>>>>>> documentation-devel
=======
   "id": "65103674",
>>>>>>> 552590ea8fad969b67afdba27558a1e6cb21016e
=======
   "id": "21269140",
>>>>>>> b6e07d13baac92b2c1c9b43f8e4113ffa87bf495
   "metadata": {},
   "outputs": [],
   "source": [
    "sfe <- runUnivariate(sfe, \"localmoran\", features = top_markers)"
   ]
  },
  {
   "cell_type": "code",
   "execution_count": null,
<<<<<<< HEAD
<<<<<<< HEAD
<<<<<<< HEAD
<<<<<<< HEAD
<<<<<<< HEAD
   "id": "1b6ffda9",
||||||| 11b9cb7
   "id": "d844e782",
=======
   "id": "2f8e0869",
>>>>>>> documentation-devel
||||||| 614e9b1
   "id": "2f8e0869",
=======
   "id": "4761c302",
>>>>>>> documentation-devel
||||||| 856b4c0
<<<<<<< HEAD
   "id": "1b6ffda9",
||||||| 11b9cb7
   "id": "d844e782",
=======
   "id": "2f8e0869",
>>>>>>> documentation-devel
=======
   "id": "54c9ef52",
>>>>>>> 552590ea8fad969b67afdba27558a1e6cb21016e
||||||| 452c944
   "id": "4761c302",
=======
   "id": "90abae2a",
>>>>>>> documentation-devel
||||||| 4da3324
<<<<<<< HEAD
<<<<<<< HEAD
<<<<<<< HEAD
   "id": "1b6ffda9",
||||||| 11b9cb7
   "id": "d844e782",
=======
   "id": "2f8e0869",
>>>>>>> documentation-devel
||||||| 614e9b1
   "id": "2f8e0869",
=======
   "id": "4761c302",
>>>>>>> documentation-devel
||||||| 856b4c0
<<<<<<< HEAD
   "id": "1b6ffda9",
||||||| 11b9cb7
   "id": "d844e782",
=======
   "id": "2f8e0869",
>>>>>>> documentation-devel
=======
   "id": "54c9ef52",
>>>>>>> 552590ea8fad969b67afdba27558a1e6cb21016e
=======
   "id": "69ffb931",
>>>>>>> b6e07d13baac92b2c1c9b43f8e4113ffa87bf495
   "metadata": {
    "fig.height": 9,
    "fig.width": 12
   },
   "outputs": [],
   "source": [
    "plotLocalResult(sfe, \"localmoran\", top_markers, colGeometryName = \"centroids\", \n",
    "                divergent = TRUE, diverge_center = 0, ncol = 3,\n",
    "                swap_rownames = \"Symbol\")"
   ]
  },
  {
   "cell_type": "markdown",
<<<<<<< HEAD
<<<<<<< HEAD
<<<<<<< HEAD
<<<<<<< HEAD
<<<<<<< HEAD
   "id": "20826d79",
||||||| 11b9cb7
   "id": "0ede385b",
=======
   "id": "16f29379",
>>>>>>> documentation-devel
||||||| 614e9b1
   "id": "16f29379",
=======
   "id": "c1893e7b",
>>>>>>> documentation-devel
||||||| 856b4c0
<<<<<<< HEAD
   "id": "20826d79",
||||||| 11b9cb7
   "id": "0ede385b",
=======
   "id": "16f29379",
>>>>>>> documentation-devel
=======
   "id": "afc01faa",
>>>>>>> 552590ea8fad969b67afdba27558a1e6cb21016e
||||||| 452c944
   "id": "c1893e7b",
=======
   "id": "abc98f3c",
>>>>>>> documentation-devel
||||||| 4da3324
<<<<<<< HEAD
<<<<<<< HEAD
<<<<<<< HEAD
   "id": "20826d79",
||||||| 11b9cb7
   "id": "0ede385b",
=======
   "id": "16f29379",
>>>>>>> documentation-devel
||||||| 614e9b1
   "id": "16f29379",
=======
   "id": "c1893e7b",
>>>>>>> documentation-devel
||||||| 856b4c0
<<<<<<< HEAD
   "id": "20826d79",
||||||| 11b9cb7
   "id": "0ede385b",
=======
   "id": "16f29379",
>>>>>>> documentation-devel
=======
   "id": "afc01faa",
>>>>>>> 552590ea8fad969b67afdba27558a1e6cb21016e
=======
   "id": "34dbe7c9",
>>>>>>> b6e07d13baac92b2c1c9b43f8e4113ffa87bf495
   "metadata": {},
   "source": [
    "We will also plot the histograms, but for now the results need to be added to `colData` first."
   ]
  },
  {
   "cell_type": "code",
   "execution_count": null,
<<<<<<< HEAD
<<<<<<< HEAD
<<<<<<< HEAD
<<<<<<< HEAD
<<<<<<< HEAD
   "id": "b200c501",
||||||| 11b9cb7
   "id": "46687125",
=======
   "id": "37066f38",
>>>>>>> documentation-devel
||||||| 614e9b1
   "id": "37066f38",
=======
   "id": "86d4d58a",
>>>>>>> documentation-devel
||||||| 856b4c0
<<<<<<< HEAD
   "id": "b200c501",
||||||| 11b9cb7
   "id": "46687125",
=======
   "id": "37066f38",
>>>>>>> documentation-devel
=======
   "id": "83b1829c",
>>>>>>> 552590ea8fad969b67afdba27558a1e6cb21016e
||||||| 452c944
   "id": "86d4d58a",
=======
   "id": "97feb9ad",
>>>>>>> documentation-devel
||||||| 4da3324
<<<<<<< HEAD
<<<<<<< HEAD
<<<<<<< HEAD
   "id": "b200c501",
||||||| 11b9cb7
   "id": "46687125",
=======
   "id": "37066f38",
>>>>>>> documentation-devel
||||||| 614e9b1
   "id": "37066f38",
=======
   "id": "86d4d58a",
>>>>>>> documentation-devel
||||||| 856b4c0
<<<<<<< HEAD
   "id": "b200c501",
||||||| 11b9cb7
   "id": "46687125",
=======
   "id": "37066f38",
>>>>>>> documentation-devel
=======
   "id": "83b1829c",
>>>>>>> 552590ea8fad969b67afdba27558a1e6cb21016e
=======
   "id": "466bbebb",
>>>>>>> b6e07d13baac92b2c1c9b43f8e4113ffa87bf495
   "metadata": {},
   "outputs": [],
   "source": [
    "new_colname <- paste0(\"cluster\", seq_along(top_markers), \"_\", \n",
    "                      top_markers_symbol, \"_localmoran\")\n",
    "for (i in seq_along(top_markers)) {\n",
    "    g <- top_markers[i]\n",
    "    colData(sfe)[[new_colname[i]]] <- \n",
    "        localResult(sfe, \"localmoran\", g)[,\"Ii\"]\n",
    "}"
   ]
  },
  {
   "cell_type": "code",
   "execution_count": null,
<<<<<<< HEAD
<<<<<<< HEAD
<<<<<<< HEAD
<<<<<<< HEAD
<<<<<<< HEAD
   "id": "65fe23f6",
||||||| 11b9cb7
   "id": "74c63e9c",
=======
   "id": "5a1ef4a9",
>>>>>>> documentation-devel
||||||| 614e9b1
   "id": "5a1ef4a9",
=======
   "id": "faf3f5be",
>>>>>>> documentation-devel
||||||| 856b4c0
<<<<<<< HEAD
   "id": "65fe23f6",
||||||| 11b9cb7
   "id": "74c63e9c",
=======
   "id": "5a1ef4a9",
>>>>>>> documentation-devel
=======
   "id": "debd27ff",
>>>>>>> 552590ea8fad969b67afdba27558a1e6cb21016e
||||||| 452c944
   "id": "faf3f5be",
=======
   "id": "1a142ff4",
>>>>>>> documentation-devel
||||||| 4da3324
<<<<<<< HEAD
<<<<<<< HEAD
<<<<<<< HEAD
   "id": "65fe23f6",
||||||| 11b9cb7
   "id": "74c63e9c",
=======
   "id": "5a1ef4a9",
>>>>>>> documentation-devel
||||||| 614e9b1
   "id": "5a1ef4a9",
=======
   "id": "faf3f5be",
>>>>>>> documentation-devel
||||||| 856b4c0
<<<<<<< HEAD
   "id": "65fe23f6",
||||||| 11b9cb7
   "id": "74c63e9c",
=======
   "id": "5a1ef4a9",
>>>>>>> documentation-devel
=======
   "id": "debd27ff",
>>>>>>> 552590ea8fad969b67afdba27558a1e6cb21016e
=======
   "id": "8b652210",
>>>>>>> b6e07d13baac92b2c1c9b43f8e4113ffa87bf495
   "metadata": {
    "fig.height": 12,
    "fig.width": 8
   },
   "outputs": [],
   "source": [
    "plotColDataFreqpoly(sfe, new_colname, color_by = \"cluster\") +\n",
    "    ggtitle(\"Local Moran's I\") +\n",
    "    theme(legend.position = \"top\") +\n",
    "    scale_y_log10() +\n",
    "    annotation_logticks(sides = \"l\")"
   ]
  },
  {
   "cell_type": "markdown",
<<<<<<< HEAD
<<<<<<< HEAD
<<<<<<< HEAD
<<<<<<< HEAD
<<<<<<< HEAD
   "id": "e3a899bd",
||||||| 11b9cb7
   "id": "11fe3e75",
=======
   "id": "161adcf1",
>>>>>>> documentation-devel
||||||| 614e9b1
   "id": "161adcf1",
=======
   "id": "2ec917c3",
>>>>>>> documentation-devel
||||||| 856b4c0
<<<<<<< HEAD
   "id": "e3a899bd",
||||||| 11b9cb7
   "id": "11fe3e75",
=======
   "id": "161adcf1",
>>>>>>> documentation-devel
=======
   "id": "5573d180",
>>>>>>> 552590ea8fad969b67afdba27558a1e6cb21016e
||||||| 452c944
   "id": "2ec917c3",
=======
   "id": "596836d8",
>>>>>>> documentation-devel
||||||| 4da3324
<<<<<<< HEAD
<<<<<<< HEAD
<<<<<<< HEAD
   "id": "e3a899bd",
||||||| 11b9cb7
   "id": "11fe3e75",
=======
   "id": "161adcf1",
>>>>>>> documentation-devel
||||||| 614e9b1
   "id": "161adcf1",
=======
   "id": "2ec917c3",
>>>>>>> documentation-devel
||||||| 856b4c0
<<<<<<< HEAD
   "id": "e3a899bd",
||||||| 11b9cb7
   "id": "11fe3e75",
=======
   "id": "161adcf1",
>>>>>>> documentation-devel
=======
   "id": "5573d180",
>>>>>>> 552590ea8fad969b67afdba27558a1e6cb21016e
=======
   "id": "21e2e66b",
>>>>>>> b6e07d13baac92b2c1c9b43f8e4113ffa87bf495
   "metadata": {
    "lines_to_next_cell": 0
   },
   "source": [
    "Again, the y axis is log transformed to make the tail more visible. For some clusters, the top marker gene's local Moran's I forms its own peak for cells in the cluster with higher local Moran's I than other cells. However, sometimes cells within the cluster form a long tail shared with some cells from other clusters. Then the local Moran's I could be another method for differential expression. Or since both local Moran's I and Leiden clustering use the k nearest neighbor graph in PCA space, local Moran's I of marker genes or perhaps eigengenes signifying gene programs for each cell type on this k nearest neighbor graph can validate or criticize Leiden clusters. Furthermore, interestingly, for some genes, the tallest peak in the histogram is away from 0.\n",
    "\n",
    "The scatter plots as shown in the \"spatial\" analyses for the QC metrics section can be made to see how local Moran's I relates to the expression of the gene itself."
   ]
  },
  {
   "cell_type": "code",
   "execution_count": null,
<<<<<<< HEAD
<<<<<<< HEAD
<<<<<<< HEAD
<<<<<<< HEAD
<<<<<<< HEAD
   "id": "dd31e87e",
||||||| 11b9cb7
   "id": "fa51ce6a",
=======
   "id": "08bc6363",
>>>>>>> documentation-devel
||||||| 614e9b1
   "id": "08bc6363",
=======
   "id": "ebcddc9c",
>>>>>>> documentation-devel
||||||| 856b4c0
<<<<<<< HEAD
   "id": "dd31e87e",
||||||| 11b9cb7
   "id": "fa51ce6a",
=======
   "id": "08bc6363",
>>>>>>> documentation-devel
=======
   "id": "e60fb987",
>>>>>>> 552590ea8fad969b67afdba27558a1e6cb21016e
||||||| 452c944
   "id": "ebcddc9c",
=======
   "id": "dd2bb3f0",
>>>>>>> documentation-devel
||||||| 4da3324
<<<<<<< HEAD
<<<<<<< HEAD
<<<<<<< HEAD
   "id": "dd31e87e",
||||||| 11b9cb7
   "id": "fa51ce6a",
=======
   "id": "08bc6363",
>>>>>>> documentation-devel
||||||| 614e9b1
   "id": "08bc6363",
=======
   "id": "ebcddc9c",
>>>>>>> documentation-devel
||||||| 856b4c0
<<<<<<< HEAD
   "id": "dd31e87e",
||||||| 11b9cb7
   "id": "fa51ce6a",
=======
   "id": "08bc6363",
>>>>>>> documentation-devel
=======
   "id": "e60fb987",
>>>>>>> 552590ea8fad969b67afdba27558a1e6cb21016e
=======
   "id": "b281978f",
>>>>>>> b6e07d13baac92b2c1c9b43f8e4113ffa87bf495
   "metadata": {},
   "outputs": [],
   "source": [
    "i <- 6 # Change if running this notebook\n",
    "plotExpression(sfe, top_markers_symbol[i], x = new_colname[i], color_by = \"cluster\",\n",
    "               swap_rownames = \"Symbol\") +\n",
    "    scale_color_manual(values = ditto_colors) +\n",
    "    coord_flip() +\n",
    "    # comment out in case of error after changing i\n",
    "    geom_density2d(data = as.data.frame(colData(sfe)) |> \n",
    "                       mutate(gene = logcounts(sfe)[top_markers[i],]),\n",
    "                   mapping = aes(x = .data[[new_colname[i]]], y = gene), \n",
    "                   color = \"blue\", linewidth = 0.3) "
   ]
  },
  {
   "cell_type": "markdown",
<<<<<<< HEAD
<<<<<<< HEAD
<<<<<<< HEAD
<<<<<<< HEAD
<<<<<<< HEAD
   "id": "b6422bb4",
||||||| 11b9cb7
   "id": "153d35f8",
=======
   "id": "6a69b265",
>>>>>>> documentation-devel
||||||| 614e9b1
   "id": "6a69b265",
=======
   "id": "5e9ededf",
>>>>>>> documentation-devel
||||||| 856b4c0
<<<<<<< HEAD
   "id": "b6422bb4",
||||||| 11b9cb7
   "id": "153d35f8",
=======
   "id": "6a69b265",
>>>>>>> documentation-devel
=======
   "id": "3d02bb76",
>>>>>>> 552590ea8fad969b67afdba27558a1e6cb21016e
||||||| 452c944
   "id": "5e9ededf",
=======
   "id": "db5224aa",
>>>>>>> documentation-devel
||||||| 4da3324
<<<<<<< HEAD
<<<<<<< HEAD
<<<<<<< HEAD
   "id": "b6422bb4",
||||||| 11b9cb7
   "id": "153d35f8",
=======
   "id": "6a69b265",
>>>>>>> documentation-devel
||||||| 614e9b1
   "id": "6a69b265",
=======
   "id": "5e9ededf",
>>>>>>> documentation-devel
||||||| 856b4c0
<<<<<<< HEAD
   "id": "b6422bb4",
||||||| 11b9cb7
   "id": "153d35f8",
=======
   "id": "6a69b265",
>>>>>>> documentation-devel
=======
   "id": "3d02bb76",
>>>>>>> 552590ea8fad969b67afdba27558a1e6cb21016e
=======
   "id": "63642c22",
>>>>>>> b6e07d13baac92b2c1c9b43f8e4113ffa87bf495
   "metadata": {},
   "source": [
    "For this gene, just like for total UMI counts, there are two wings and a central value where local Moran's I is around 0. Generally, cells with higher expression of this gene have higher local Moran's I for this gene as well. The density contours show that cells concentrate around 0 expression and some weaker positive local Moran. The streak of cells with 0 expression means that many cells don't express this gene, and their neighbors have low and slightly homogeneous expression of this gene. This pattern may be different for different genes. Also, the p-values for each cell for local Moran's I are available and corrected for multiple hypothesis testing, and can be plotted. The p-values are based on the z score of the local Moran statistic, although how the statistic is distributed for gene expression data warrants more investigation. This p-value can also be computed with permutation (see `localmoran_perm()`). "
   ]
  },
  {
   "cell_type": "code",
   "execution_count": null,
<<<<<<< HEAD
<<<<<<< HEAD
<<<<<<< HEAD
<<<<<<< HEAD
<<<<<<< HEAD
   "id": "71af02d3",
||||||| 11b9cb7
   "id": "2ae13043",
=======
   "id": "19da1f1d",
>>>>>>> documentation-devel
||||||| 614e9b1
   "id": "19da1f1d",
=======
   "id": "75971d81",
>>>>>>> documentation-devel
||||||| 856b4c0
<<<<<<< HEAD
   "id": "71af02d3",
||||||| 11b9cb7
   "id": "2ae13043",
=======
   "id": "19da1f1d",
>>>>>>> documentation-devel
=======
   "id": "517009a6",
>>>>>>> 552590ea8fad969b67afdba27558a1e6cb21016e
||||||| 452c944
   "id": "75971d81",
=======
   "id": "95ec636f",
>>>>>>> documentation-devel
||||||| 4da3324
<<<<<<< HEAD
<<<<<<< HEAD
<<<<<<< HEAD
   "id": "71af02d3",
||||||| 11b9cb7
   "id": "2ae13043",
=======
   "id": "19da1f1d",
>>>>>>> documentation-devel
||||||| 614e9b1
   "id": "19da1f1d",
=======
   "id": "75971d81",
>>>>>>> documentation-devel
||||||| 856b4c0
<<<<<<< HEAD
   "id": "71af02d3",
||||||| 11b9cb7
   "id": "2ae13043",
=======
   "id": "19da1f1d",
>>>>>>> documentation-devel
=======
   "id": "517009a6",
>>>>>>> 552590ea8fad969b67afdba27558a1e6cb21016e
=======
   "id": "1f77e669",
>>>>>>> b6e07d13baac92b2c1c9b43f8e4113ffa87bf495
   "metadata": {},
   "outputs": [],
   "source": [
    "localResultAttrs(sfe, \"localmoran\", top_markers[1])"
   ]
  },
  {
   "cell_type": "markdown",
<<<<<<< HEAD
<<<<<<< HEAD
<<<<<<< HEAD
<<<<<<< HEAD
<<<<<<< HEAD
   "id": "426d839c",
||||||| 11b9cb7
   "id": "cc9e505c",
=======
   "id": "df71163d",
>>>>>>> documentation-devel
||||||| 614e9b1
   "id": "df71163d",
=======
   "id": "9005fa06",
>>>>>>> documentation-devel
||||||| 856b4c0
<<<<<<< HEAD
   "id": "426d839c",
||||||| 11b9cb7
   "id": "cc9e505c",
=======
   "id": "df71163d",
>>>>>>> documentation-devel
=======
   "id": "dcb35e6a",
>>>>>>> 552590ea8fad969b67afdba27558a1e6cb21016e
||||||| 452c944
   "id": "9005fa06",
=======
   "id": "357d0a93",
>>>>>>> documentation-devel
||||||| 4da3324
<<<<<<< HEAD
<<<<<<< HEAD
<<<<<<< HEAD
   "id": "426d839c",
||||||| 11b9cb7
   "id": "cc9e505c",
=======
   "id": "df71163d",
>>>>>>> documentation-devel
||||||| 614e9b1
   "id": "df71163d",
=======
   "id": "9005fa06",
>>>>>>> documentation-devel
||||||| 856b4c0
<<<<<<< HEAD
   "id": "426d839c",
||||||| 11b9cb7
   "id": "cc9e505c",
=======
   "id": "df71163d",
>>>>>>> documentation-devel
=======
   "id": "dcb35e6a",
>>>>>>> 552590ea8fad969b67afdba27558a1e6cb21016e
=======
   "id": "539db883",
>>>>>>> b6e07d13baac92b2c1c9b43f8e4113ffa87bf495
   "metadata": {},
   "source": [
    "## LOSH"
   ]
  },
  {
   "cell_type": "code",
   "execution_count": null,
<<<<<<< HEAD
<<<<<<< HEAD
<<<<<<< HEAD
<<<<<<< HEAD
<<<<<<< HEAD
   "id": "7ddd34e7",
||||||| 11b9cb7
   "id": "a0b6c537",
=======
   "id": "8ecc07c7",
>>>>>>> documentation-devel
||||||| 614e9b1
   "id": "8ecc07c7",
=======
   "id": "3d602713",
>>>>>>> documentation-devel
||||||| 856b4c0
<<<<<<< HEAD
   "id": "7ddd34e7",
||||||| 11b9cb7
   "id": "a0b6c537",
=======
   "id": "8ecc07c7",
>>>>>>> documentation-devel
=======
   "id": "e5df5d43",
>>>>>>> 552590ea8fad969b67afdba27558a1e6cb21016e
||||||| 452c944
   "id": "3d602713",
=======
   "id": "43b34140",
>>>>>>> documentation-devel
||||||| 4da3324
<<<<<<< HEAD
<<<<<<< HEAD
<<<<<<< HEAD
   "id": "7ddd34e7",
||||||| 11b9cb7
   "id": "a0b6c537",
=======
   "id": "8ecc07c7",
>>>>>>> documentation-devel
||||||| 614e9b1
   "id": "8ecc07c7",
=======
   "id": "3d602713",
>>>>>>> documentation-devel
||||||| 856b4c0
<<<<<<< HEAD
   "id": "7ddd34e7",
||||||| 11b9cb7
   "id": "a0b6c537",
=======
   "id": "8ecc07c7",
>>>>>>> documentation-devel
=======
   "id": "e5df5d43",
>>>>>>> 552590ea8fad969b67afdba27558a1e6cb21016e
=======
   "id": "cae589bf",
>>>>>>> b6e07d13baac92b2c1c9b43f8e4113ffa87bf495
   "metadata": {},
   "outputs": [],
   "source": [
    "sfe <- runUnivariate(sfe, \"LOSH\", top_markers)"
   ]
  },
  {
   "cell_type": "code",
   "execution_count": null,
<<<<<<< HEAD
<<<<<<< HEAD
<<<<<<< HEAD
<<<<<<< HEAD
<<<<<<< HEAD
   "id": "e75ab917",
||||||| 11b9cb7
   "id": "83cef1e2",
=======
   "id": "a290c8c1",
>>>>>>> documentation-devel
||||||| 614e9b1
   "id": "a290c8c1",
=======
   "id": "34920dce",
>>>>>>> documentation-devel
||||||| 856b4c0
<<<<<<< HEAD
   "id": "e75ab917",
||||||| 11b9cb7
   "id": "83cef1e2",
=======
   "id": "a290c8c1",
>>>>>>> documentation-devel
=======
   "id": "dff70ffd",
>>>>>>> 552590ea8fad969b67afdba27558a1e6cb21016e
||||||| 452c944
   "id": "34920dce",
=======
   "id": "4a815f08",
>>>>>>> documentation-devel
||||||| 4da3324
<<<<<<< HEAD
<<<<<<< HEAD
<<<<<<< HEAD
   "id": "e75ab917",
||||||| 11b9cb7
   "id": "83cef1e2",
=======
   "id": "a290c8c1",
>>>>>>> documentation-devel
||||||| 614e9b1
   "id": "a290c8c1",
=======
   "id": "34920dce",
>>>>>>> documentation-devel
||||||| 856b4c0
<<<<<<< HEAD
   "id": "e75ab917",
||||||| 11b9cb7
   "id": "83cef1e2",
=======
   "id": "a290c8c1",
>>>>>>> documentation-devel
=======
   "id": "dff70ffd",
>>>>>>> 552590ea8fad969b67afdba27558a1e6cb21016e
=======
   "id": "c3102e6f",
>>>>>>> b6e07d13baac92b2c1c9b43f8e4113ffa87bf495
   "metadata": {
    "fig.height": 9,
    "fig.width": 12
   },
   "outputs": [],
   "source": [
    "plotLocalResult(sfe, \"LOSH\", top_markers, colGeometryName = \"centroids\", ncol = 3,\n",
    "                swap_rownames = \"Symbol\")"
   ]
  },
  {
   "cell_type": "markdown",
<<<<<<< HEAD
<<<<<<< HEAD
<<<<<<< HEAD
<<<<<<< HEAD
<<<<<<< HEAD
   "id": "b6e79c80",
||||||| 11b9cb7
   "id": "d968ed4a",
=======
   "id": "0aab09a2",
>>>>>>> documentation-devel
||||||| 614e9b1
   "id": "0aab09a2",
=======
   "id": "b5296200",
>>>>>>> documentation-devel
||||||| 856b4c0
<<<<<<< HEAD
   "id": "b6e79c80",
||||||| 11b9cb7
   "id": "d968ed4a",
=======
   "id": "0aab09a2",
>>>>>>> documentation-devel
=======
   "id": "ac071188",
>>>>>>> 552590ea8fad969b67afdba27558a1e6cb21016e
||||||| 452c944
   "id": "b5296200",
=======
   "id": "6a248c75",
>>>>>>> documentation-devel
||||||| 4da3324
<<<<<<< HEAD
<<<<<<< HEAD
<<<<<<< HEAD
   "id": "b6e79c80",
||||||| 11b9cb7
   "id": "d968ed4a",
=======
   "id": "0aab09a2",
>>>>>>> documentation-devel
||||||| 614e9b1
   "id": "0aab09a2",
=======
   "id": "b5296200",
>>>>>>> documentation-devel
||||||| 856b4c0
<<<<<<< HEAD
   "id": "b6e79c80",
||||||| 11b9cb7
   "id": "d968ed4a",
=======
   "id": "0aab09a2",
>>>>>>> documentation-devel
=======
   "id": "ac071188",
>>>>>>> 552590ea8fad969b67afdba27558a1e6cb21016e
=======
   "id": "eb8ed9e7",
>>>>>>> b6e07d13baac92b2c1c9b43f8e4113ffa87bf495
   "metadata": {
    "lines_to_next_cell": 0
   },
   "source": [
    "In the two genes on the right, it's interesting to see higher LOSH in the middle cluster. The two genes on the left have some outliers throwing off the dynamic range, but it seems that their high LOSH regions are different.\n",
    "\n",
    "Again, we plot the histograms:"
   ]
  },
  {
   "cell_type": "code",
   "execution_count": null,
<<<<<<< HEAD
<<<<<<< HEAD
<<<<<<< HEAD
<<<<<<< HEAD
<<<<<<< HEAD
   "id": "473b4763",
||||||| 11b9cb7
   "id": "5b2ca38f",
=======
   "id": "726434e2",
>>>>>>> documentation-devel
||||||| 614e9b1
   "id": "726434e2",
=======
   "id": "58a7d43d",
>>>>>>> documentation-devel
||||||| 856b4c0
<<<<<<< HEAD
   "id": "473b4763",
||||||| 11b9cb7
   "id": "5b2ca38f",
=======
   "id": "726434e2",
>>>>>>> documentation-devel
=======
   "id": "ab5ee6e7",
>>>>>>> 552590ea8fad969b67afdba27558a1e6cb21016e
||||||| 452c944
   "id": "58a7d43d",
=======
   "id": "f064c53d",
>>>>>>> documentation-devel
||||||| 4da3324
<<<<<<< HEAD
<<<<<<< HEAD
<<<<<<< HEAD
   "id": "473b4763",
||||||| 11b9cb7
   "id": "5b2ca38f",
=======
   "id": "726434e2",
>>>>>>> documentation-devel
||||||| 614e9b1
   "id": "726434e2",
=======
   "id": "58a7d43d",
>>>>>>> documentation-devel
||||||| 856b4c0
<<<<<<< HEAD
   "id": "473b4763",
||||||| 11b9cb7
   "id": "5b2ca38f",
=======
   "id": "726434e2",
>>>>>>> documentation-devel
=======
   "id": "ab5ee6e7",
>>>>>>> 552590ea8fad969b67afdba27558a1e6cb21016e
=======
   "id": "6b10832f",
>>>>>>> b6e07d13baac92b2c1c9b43f8e4113ffa87bf495
   "metadata": {},
   "outputs": [],
   "source": [
    "new_colname2 <- paste0(\"cluster\", seq_along(top_markers), \"_\", \n",
    "                      top_markers_symbol, \"_losh\")\n",
    "for (i in seq_along(top_markers)) {\n",
    "    g <- top_markers[i]\n",
    "    colData(sfe)[[new_colname2[i]]] <- \n",
    "        localResult(sfe, \"LOSH\", g)[,\"Hi\"]\n",
    "}"
   ]
  },
  {
   "cell_type": "code",
   "execution_count": null,
<<<<<<< HEAD
<<<<<<< HEAD
<<<<<<< HEAD
<<<<<<< HEAD
<<<<<<< HEAD
   "id": "15aa6347",
||||||| 11b9cb7
   "id": "7469af3e",
=======
   "id": "cf927527",
>>>>>>> documentation-devel
||||||| 614e9b1
   "id": "cf927527",
=======
   "id": "83348072",
>>>>>>> documentation-devel
||||||| 856b4c0
<<<<<<< HEAD
   "id": "15aa6347",
||||||| 11b9cb7
   "id": "7469af3e",
=======
   "id": "cf927527",
>>>>>>> documentation-devel
=======
   "id": "9a50f5bf",
>>>>>>> 552590ea8fad969b67afdba27558a1e6cb21016e
||||||| 452c944
   "id": "83348072",
=======
   "id": "229669a4",
>>>>>>> documentation-devel
||||||| 4da3324
<<<<<<< HEAD
<<<<<<< HEAD
<<<<<<< HEAD
   "id": "15aa6347",
||||||| 11b9cb7
   "id": "7469af3e",
=======
   "id": "cf927527",
>>>>>>> documentation-devel
||||||| 614e9b1
   "id": "cf927527",
=======
   "id": "83348072",
>>>>>>> documentation-devel
||||||| 856b4c0
<<<<<<< HEAD
   "id": "15aa6347",
||||||| 11b9cb7
   "id": "7469af3e",
=======
   "id": "cf927527",
>>>>>>> documentation-devel
=======
   "id": "9a50f5bf",
>>>>>>> 552590ea8fad969b67afdba27558a1e6cb21016e
=======
   "id": "0ab56e8d",
>>>>>>> b6e07d13baac92b2c1c9b43f8e4113ffa87bf495
   "metadata": {
    "fig.height": 12,
    "fig.width": 8
   },
   "outputs": [],
   "source": [
    "plotColDataFreqpoly(sfe, new_colname2, color_by = \"cluster\") +\n",
    "    ggtitle(\"Local heteroscedasticity\") +\n",
    "    theme(legend.position = \"top\") +\n",
    "    scale_y_log10() +\n",
    "    annotation_logticks(sides = \"l\")"
   ]
  },
  {
   "cell_type": "markdown",
<<<<<<< HEAD
<<<<<<< HEAD
<<<<<<< HEAD
<<<<<<< HEAD
<<<<<<< HEAD
   "id": "fee8bc5f",
||||||| 11b9cb7
   "id": "e7fb0fdb",
=======
   "id": "92ecd53e",
>>>>>>> documentation-devel
||||||| 614e9b1
   "id": "92ecd53e",
=======
   "id": "b25932e4",
>>>>>>> documentation-devel
||||||| 856b4c0
<<<<<<< HEAD
   "id": "fee8bc5f",
||||||| 11b9cb7
   "id": "e7fb0fdb",
=======
   "id": "92ecd53e",
>>>>>>> documentation-devel
=======
   "id": "bbb3bd6a",
>>>>>>> 552590ea8fad969b67afdba27558a1e6cb21016e
||||||| 452c944
   "id": "b25932e4",
=======
   "id": "9e583a82",
>>>>>>> documentation-devel
||||||| 4da3324
<<<<<<< HEAD
<<<<<<< HEAD
<<<<<<< HEAD
   "id": "fee8bc5f",
||||||| 11b9cb7
   "id": "e7fb0fdb",
=======
   "id": "92ecd53e",
>>>>>>> documentation-devel
||||||| 614e9b1
   "id": "92ecd53e",
=======
   "id": "b25932e4",
>>>>>>> documentation-devel
||||||| 856b4c0
<<<<<<< HEAD
   "id": "fee8bc5f",
||||||| 11b9cb7
   "id": "e7fb0fdb",
=======
   "id": "92ecd53e",
>>>>>>> documentation-devel
=======
   "id": "bbb3bd6a",
>>>>>>> 552590ea8fad969b67afdba27558a1e6cb21016e
=======
   "id": "3ca46eba",
>>>>>>> b6e07d13baac92b2c1c9b43f8e4113ffa87bf495
   "metadata": {},
   "source": [
    "The relationship between expression and LOSH is more complicated. For some genes, such as the top marker gene for cluster 1 LYAR, cells in the cluster with higher expression also have higher LOSH - much like how in Poisson and negative binomial distributions, higher mean also means higher variance. However, some genes, such as the top marker gene for cluster 2 CTSS, have lower LOSH among cells that have higher expression, which means expression of this gene is more homogeneous within the cluster, consistent with local Moran. "
   ]
  },
  {
   "cell_type": "code",
   "execution_count": null,
<<<<<<< HEAD
<<<<<<< HEAD
<<<<<<< HEAD
<<<<<<< HEAD
<<<<<<< HEAD
   "id": "262cea8d",
||||||| 11b9cb7
   "id": "8721055a",
=======
   "id": "7be8a3a5",
>>>>>>> documentation-devel
||||||| 614e9b1
   "id": "7be8a3a5",
=======
   "id": "f251fd79",
>>>>>>> documentation-devel
||||||| 856b4c0
<<<<<<< HEAD
   "id": "262cea8d",
||||||| 11b9cb7
   "id": "8721055a",
=======
   "id": "7be8a3a5",
>>>>>>> documentation-devel
=======
   "id": "76334c0e",
>>>>>>> 552590ea8fad969b67afdba27558a1e6cb21016e
||||||| 452c944
   "id": "f251fd79",
=======
   "id": "38fe3a3d",
>>>>>>> documentation-devel
||||||| 4da3324
<<<<<<< HEAD
<<<<<<< HEAD
<<<<<<< HEAD
   "id": "262cea8d",
||||||| 11b9cb7
   "id": "8721055a",
=======
   "id": "7be8a3a5",
>>>>>>> documentation-devel
||||||| 614e9b1
   "id": "7be8a3a5",
=======
   "id": "f251fd79",
>>>>>>> documentation-devel
||||||| 856b4c0
<<<<<<< HEAD
   "id": "262cea8d",
||||||| 11b9cb7
   "id": "8721055a",
=======
   "id": "7be8a3a5",
>>>>>>> documentation-devel
=======
   "id": "76334c0e",
>>>>>>> 552590ea8fad969b67afdba27558a1e6cb21016e
=======
   "id": "bc7af260",
>>>>>>> b6e07d13baac92b2c1c9b43f8e4113ffa87bf495
   "metadata": {},
   "outputs": [],
   "source": [
    "i <- 6 # Change if running this notebook\n",
    "plotExpression(sfe, top_markers_symbol[i], x = new_colname2[i], \n",
    "               color_by = \"cluster\", swap_rownames = \"Symbol\") +\n",
    "    scale_color_manual(values = ditto_colors) +\n",
    "    coord_flip() +\n",
    "    # comment out in case of error after changing i\n",
    "    geom_density2d(data = as.data.frame(colData(sfe)) |> \n",
    "                       mutate(gene = logcounts(sfe)[top_markers[i],]),\n",
    "                   mapping = aes(x = .data[[new_colname2[i]]], y = gene), \n",
    "                   color = \"blue\", linewidth = 0.3) "
   ]
  },
  {
   "cell_type": "markdown",
<<<<<<< HEAD
<<<<<<< HEAD
<<<<<<< HEAD
<<<<<<< HEAD
<<<<<<< HEAD
   "id": "2064e608",
||||||| 11b9cb7
   "id": "7c472e6c",
=======
   "id": "86e63510",
>>>>>>> documentation-devel
||||||| 614e9b1
   "id": "86e63510",
=======
   "id": "d56dc8b9",
>>>>>>> documentation-devel
||||||| 856b4c0
<<<<<<< HEAD
   "id": "2064e608",
||||||| 11b9cb7
   "id": "7c472e6c",
=======
   "id": "86e63510",
>>>>>>> documentation-devel
=======
   "id": "9b3a74cf",
>>>>>>> 552590ea8fad969b67afdba27558a1e6cb21016e
||||||| 452c944
   "id": "d56dc8b9",
=======
   "id": "5c6ea601",
>>>>>>> documentation-devel
||||||| 4da3324
<<<<<<< HEAD
<<<<<<< HEAD
<<<<<<< HEAD
   "id": "2064e608",
||||||| 11b9cb7
   "id": "7c472e6c",
=======
   "id": "86e63510",
>>>>>>> documentation-devel
||||||| 614e9b1
   "id": "86e63510",
=======
   "id": "d56dc8b9",
>>>>>>> documentation-devel
||||||| 856b4c0
<<<<<<< HEAD
   "id": "2064e608",
||||||| 11b9cb7
   "id": "7c472e6c",
=======
   "id": "86e63510",
>>>>>>> documentation-devel
=======
   "id": "9b3a74cf",
>>>>>>> 552590ea8fad969b67afdba27558a1e6cb21016e
=======
   "id": "6f9783a4",
>>>>>>> b6e07d13baac92b2c1c9b43f8e4113ffa87bf495
   "metadata": {
    "lines_to_next_cell": 0
   },
   "source": [
    "For this gene, the density contour indicates that many cells don't express this gene and have homogeneous neighborhoods also with low expression. That streak around 0 expression means that neighbors of cells that don't express this gene have different levels of heterogeneity in this gene.\n",
    "\n",
    "## Moran plot\n",
    "\n",
    "Here we make Moran plots for the top marker genes."
   ]
  },
  {
   "cell_type": "code",
   "execution_count": null,
<<<<<<< HEAD
<<<<<<< HEAD
<<<<<<< HEAD
<<<<<<< HEAD
<<<<<<< HEAD
   "id": "95a8ea49",
||||||| 11b9cb7
   "id": "7870975a",
=======
   "id": "65fa85f2",
>>>>>>> documentation-devel
||||||| 614e9b1
   "id": "65fa85f2",
=======
   "id": "ee9a7b59",
>>>>>>> documentation-devel
||||||| 856b4c0
<<<<<<< HEAD
   "id": "95a8ea49",
||||||| 11b9cb7
   "id": "7870975a",
=======
   "id": "65fa85f2",
>>>>>>> documentation-devel
=======
   "id": "e93ce4e0",
>>>>>>> 552590ea8fad969b67afdba27558a1e6cb21016e
||||||| 452c944
   "id": "ee9a7b59",
=======
   "id": "5e750bf1",
>>>>>>> documentation-devel
||||||| 4da3324
<<<<<<< HEAD
<<<<<<< HEAD
<<<<<<< HEAD
   "id": "95a8ea49",
||||||| 11b9cb7
   "id": "7870975a",
=======
   "id": "65fa85f2",
>>>>>>> documentation-devel
||||||| 614e9b1
   "id": "65fa85f2",
=======
   "id": "ee9a7b59",
>>>>>>> documentation-devel
||||||| 856b4c0
<<<<<<< HEAD
   "id": "95a8ea49",
||||||| 11b9cb7
   "id": "7870975a",
=======
   "id": "65fa85f2",
>>>>>>> documentation-devel
=======
   "id": "e93ce4e0",
>>>>>>> 552590ea8fad969b67afdba27558a1e6cb21016e
=======
   "id": "19ea156f",
>>>>>>> b6e07d13baac92b2c1c9b43f8e4113ffa87bf495
   "metadata": {},
   "outputs": [],
   "source": [
    "sfe <- runUnivariate(sfe, \"moran.plot\", features = top_markers, colGraphName = \"knn10\")"
   ]
  },
  {
   "cell_type": "markdown",
<<<<<<< HEAD
<<<<<<< HEAD
<<<<<<< HEAD
<<<<<<< HEAD
<<<<<<< HEAD
   "id": "3ba022ff",
||||||| 11b9cb7
   "id": "eb4d89f7",
=======
   "id": "5356f8ca",
>>>>>>> documentation-devel
||||||| 614e9b1
   "id": "5356f8ca",
=======
   "id": "4a4e3517",
>>>>>>> documentation-devel
||||||| 856b4c0
<<<<<<< HEAD
   "id": "3ba022ff",
||||||| 11b9cb7
   "id": "eb4d89f7",
=======
   "id": "5356f8ca",
>>>>>>> documentation-devel
=======
   "id": "294e820e",
>>>>>>> 552590ea8fad969b67afdba27558a1e6cb21016e
||||||| 452c944
   "id": "4a4e3517",
=======
   "id": "ed0a905e",
>>>>>>> documentation-devel
||||||| 4da3324
<<<<<<< HEAD
<<<<<<< HEAD
<<<<<<< HEAD
   "id": "3ba022ff",
||||||| 11b9cb7
   "id": "eb4d89f7",
=======
   "id": "5356f8ca",
>>>>>>> documentation-devel
||||||| 614e9b1
   "id": "5356f8ca",
=======
   "id": "4a4e3517",
>>>>>>> documentation-devel
||||||| 856b4c0
<<<<<<< HEAD
   "id": "3ba022ff",
||||||| 11b9cb7
   "id": "eb4d89f7",
=======
   "id": "5356f8ca",
>>>>>>> documentation-devel
=======
   "id": "294e820e",
>>>>>>> 552590ea8fad969b67afdba27558a1e6cb21016e
=======
   "id": "36dda17d",
>>>>>>> b6e07d13baac92b2c1c9b43f8e4113ffa87bf495
   "metadata": {
    "lines_to_next_cell": 0
   },
   "source": [
    "As a reference, we show Moran's I for the top marker genes, which is the slope of the line fitted to the Moran scatter plot."
   ]
  },
  {
   "cell_type": "code",
   "execution_count": null,
<<<<<<< HEAD
<<<<<<< HEAD
<<<<<<< HEAD
<<<<<<< HEAD
<<<<<<< HEAD
   "id": "24593f50",
||||||| 11b9cb7
   "id": "e425c4f2",
=======
   "id": "20aa372a",
>>>>>>> documentation-devel
||||||| 614e9b1
   "id": "20aa372a",
=======
   "id": "42f8111f",
>>>>>>> documentation-devel
||||||| 856b4c0
<<<<<<< HEAD
   "id": "24593f50",
||||||| 11b9cb7
   "id": "e425c4f2",
=======
   "id": "20aa372a",
>>>>>>> documentation-devel
=======
   "id": "d605f45b",
>>>>>>> 552590ea8fad969b67afdba27558a1e6cb21016e
||||||| 452c944
   "id": "42f8111f",
=======
   "id": "2b0ed366",
>>>>>>> documentation-devel
||||||| 4da3324
<<<<<<< HEAD
<<<<<<< HEAD
<<<<<<< HEAD
   "id": "24593f50",
||||||| 11b9cb7
   "id": "e425c4f2",
=======
   "id": "20aa372a",
>>>>>>> documentation-devel
||||||| 614e9b1
   "id": "20aa372a",
=======
   "id": "42f8111f",
>>>>>>> documentation-devel
||||||| 856b4c0
<<<<<<< HEAD
   "id": "24593f50",
||||||| 11b9cb7
   "id": "e425c4f2",
=======
   "id": "20aa372a",
>>>>>>> documentation-devel
=======
   "id": "d605f45b",
>>>>>>> 552590ea8fad969b67afdba27558a1e6cb21016e
=======
   "id": "22a7f591",
>>>>>>> b6e07d13baac92b2c1c9b43f8e4113ffa87bf495
   "metadata": {},
   "outputs": [],
   "source": [
    "top_markers_df[top_markers,]"
   ]
  },
  {
   "cell_type": "markdown",
<<<<<<< HEAD
<<<<<<< HEAD
<<<<<<< HEAD
<<<<<<< HEAD
<<<<<<< HEAD
   "id": "b45b909e",
||||||| 11b9cb7
   "id": "d796efb1",
=======
   "id": "4f0de621",
>>>>>>> documentation-devel
||||||| 614e9b1
   "id": "4f0de621",
=======
   "id": "bf618f59",
>>>>>>> documentation-devel
||||||| 856b4c0
<<<<<<< HEAD
   "id": "b45b909e",
||||||| 11b9cb7
   "id": "d796efb1",
=======
   "id": "4f0de621",
>>>>>>> documentation-devel
=======
   "id": "141790d1",
>>>>>>> 552590ea8fad969b67afdba27558a1e6cb21016e
||||||| 452c944
   "id": "bf618f59",
=======
   "id": "543d02e0",
>>>>>>> documentation-devel
||||||| 4da3324
<<<<<<< HEAD
<<<<<<< HEAD
<<<<<<< HEAD
   "id": "b45b909e",
||||||| 11b9cb7
   "id": "d796efb1",
=======
   "id": "4f0de621",
>>>>>>> documentation-devel
||||||| 614e9b1
   "id": "4f0de621",
=======
   "id": "bf618f59",
>>>>>>> documentation-devel
||||||| 856b4c0
<<<<<<< HEAD
   "id": "b45b909e",
||||||| 11b9cb7
   "id": "d796efb1",
=======
   "id": "4f0de621",
>>>>>>> documentation-devel
=======
   "id": "141790d1",
>>>>>>> 552590ea8fad969b67afdba27558a1e6cb21016e
=======
   "id": "fa9018ea",
>>>>>>> b6e07d13baac92b2c1c9b43f8e4113ffa87bf495
   "metadata": {
    "lines_to_next_cell": 0
   },
   "source": [
    "There is no significant marker gene for cluster 7. These plots are shown in sequence"
   ]
  },
  {
   "cell_type": "code",
   "execution_count": null,
<<<<<<< HEAD
<<<<<<< HEAD
<<<<<<< HEAD
<<<<<<< HEAD
<<<<<<< HEAD
   "id": "56193e23",
||||||| 11b9cb7
   "id": "65e35782",
=======
   "id": "f57b450e",
>>>>>>> documentation-devel
||||||| 614e9b1
   "id": "f57b450e",
=======
   "id": "0547bb8c",
>>>>>>> documentation-devel
||||||| 856b4c0
<<<<<<< HEAD
   "id": "56193e23",
||||||| 11b9cb7
   "id": "65e35782",
=======
   "id": "f57b450e",
>>>>>>> documentation-devel
=======
   "id": "d5c0b917",
>>>>>>> 552590ea8fad969b67afdba27558a1e6cb21016e
||||||| 452c944
   "id": "0547bb8c",
=======
   "id": "3f6b18c7",
>>>>>>> documentation-devel
||||||| 4da3324
<<<<<<< HEAD
<<<<<<< HEAD
<<<<<<< HEAD
   "id": "56193e23",
||||||| 11b9cb7
   "id": "65e35782",
=======
   "id": "f57b450e",
>>>>>>> documentation-devel
||||||| 614e9b1
   "id": "f57b450e",
=======
   "id": "0547bb8c",
>>>>>>> documentation-devel
||||||| 856b4c0
<<<<<<< HEAD
   "id": "56193e23",
||||||| 11b9cb7
   "id": "65e35782",
=======
   "id": "f57b450e",
>>>>>>> documentation-devel
=======
   "id": "d5c0b917",
>>>>>>> 552590ea8fad969b67afdba27558a1e6cb21016e
=======
   "id": "9f8b4739",
>>>>>>> b6e07d13baac92b2c1c9b43f8e4113ffa87bf495
   "metadata": {},
   "outputs": [],
   "source": [
    "plts <- lapply(top_markers, moranPlot, sfe = sfe, color_by = \"cluster\", \n",
    "               swap_rownames = \"Symbol\")"
   ]
  },
  {
   "cell_type": "code",
   "execution_count": null,
<<<<<<< HEAD
<<<<<<< HEAD
<<<<<<< HEAD
<<<<<<< HEAD
<<<<<<< HEAD
   "id": "96fc03c8",
||||||| 11b9cb7
   "id": "f3a8de84",
=======
   "id": "7b6d7755",
>>>>>>> documentation-devel
||||||| 614e9b1
   "id": "7b6d7755",
=======
   "id": "72f35204",
>>>>>>> documentation-devel
||||||| 856b4c0
<<<<<<< HEAD
   "id": "96fc03c8",
||||||| 11b9cb7
   "id": "f3a8de84",
=======
   "id": "7b6d7755",
>>>>>>> documentation-devel
=======
   "id": "4ec594e3",
>>>>>>> 552590ea8fad969b67afdba27558a1e6cb21016e
||||||| 452c944
   "id": "72f35204",
=======
   "id": "ac237a07",
>>>>>>> documentation-devel
||||||| 4da3324
<<<<<<< HEAD
<<<<<<< HEAD
<<<<<<< HEAD
   "id": "96fc03c8",
||||||| 11b9cb7
   "id": "f3a8de84",
=======
   "id": "7b6d7755",
>>>>>>> documentation-devel
||||||| 614e9b1
   "id": "7b6d7755",
=======
   "id": "72f35204",
>>>>>>> documentation-devel
||||||| 856b4c0
<<<<<<< HEAD
   "id": "96fc03c8",
||||||| 11b9cb7
   "id": "f3a8de84",
=======
   "id": "7b6d7755",
>>>>>>> documentation-devel
=======
   "id": "4ec594e3",
>>>>>>> 552590ea8fad969b67afdba27558a1e6cb21016e
=======
   "id": "2676d801",
>>>>>>> b6e07d13baac92b2c1c9b43f8e4113ffa87bf495
   "metadata": {
    "fig.height": 9,
    "fig.width": 9
   },
   "outputs": [],
   "source": [
    "wrap_plots(plts, widths = 1, heights = 1) +\n",
    "    plot_layout(ncol = 3, guides = \"collect\") +\n",
    "    plot_annotation(tag_levels = \"1\")"
   ]
  },
  {
   "cell_type": "markdown",
<<<<<<< HEAD
<<<<<<< HEAD
<<<<<<< HEAD
<<<<<<< HEAD
<<<<<<< HEAD
   "id": "ff4eaa6c",
||||||| 11b9cb7
   "id": "3bdb1ca0",
=======
   "id": "fdfec320",
>>>>>>> documentation-devel
||||||| 614e9b1
   "id": "fdfec320",
=======
   "id": "bcaa0b42",
>>>>>>> documentation-devel
||||||| 856b4c0
<<<<<<< HEAD
   "id": "ff4eaa6c",
||||||| 11b9cb7
   "id": "3bdb1ca0",
=======
   "id": "fdfec320",
>>>>>>> documentation-devel
=======
   "id": "a6c64fdd",
>>>>>>> 552590ea8fad969b67afdba27558a1e6cb21016e
||||||| 452c944
   "id": "bcaa0b42",
=======
   "id": "8c39b045",
>>>>>>> documentation-devel
||||||| 4da3324
<<<<<<< HEAD
<<<<<<< HEAD
<<<<<<< HEAD
   "id": "ff4eaa6c",
||||||| 11b9cb7
   "id": "3bdb1ca0",
=======
   "id": "fdfec320",
>>>>>>> documentation-devel
||||||| 614e9b1
   "id": "fdfec320",
=======
   "id": "bcaa0b42",
>>>>>>> documentation-devel
||||||| 856b4c0
<<<<<<< HEAD
   "id": "ff4eaa6c",
||||||| 11b9cb7
   "id": "3bdb1ca0",
=======
   "id": "fdfec320",
>>>>>>> documentation-devel
=======
   "id": "a6c64fdd",
>>>>>>> 552590ea8fad969b67afdba27558a1e6cb21016e
=======
   "id": "6a8d5e5e",
>>>>>>> b6e07d13baac92b2c1c9b43f8e4113ffa87bf495
   "metadata": {
    "lines_to_next_cell": 0
   },
   "source": [
    "For some genes, the points are so concentrated around the origin that there aren't \"enough\" points elsewhere to plot the density contours. But for the cells that do express these genes, there are clusters on this plot. Some genes are not expressed in many cells, but those cells have neighbors that do express the gene, hence the vertical streak at x = 0. \n",
    "\n",
    "In this tutorial, we applied univariate spatial statistics to the k nearest neighbor graph in the gene expression PCA space rather than the histological space. Just like in histological space, it would be impractical to examine all these statistics gene by gene, so multivariate analyses that incorporate the k nearest neighbor graph may be interesting.\n",
    "\n",
    "# Session info"
   ]
  },
  {
   "cell_type": "code",
   "execution_count": null,
<<<<<<< HEAD
<<<<<<< HEAD
<<<<<<< HEAD
<<<<<<< HEAD
<<<<<<< HEAD
   "id": "2bc6d443",
||||||| 11b9cb7
   "id": "835c3c49",
=======
   "id": "61696923",
>>>>>>> documentation-devel
||||||| 614e9b1
   "id": "61696923",
=======
   "id": "0c31463e",
>>>>>>> documentation-devel
||||||| 856b4c0
<<<<<<< HEAD
   "id": "2bc6d443",
||||||| 11b9cb7
   "id": "835c3c49",
=======
   "id": "61696923",
>>>>>>> documentation-devel
=======
   "id": "72b1dd7b",
>>>>>>> 552590ea8fad969b67afdba27558a1e6cb21016e
||||||| 452c944
   "id": "0c31463e",
=======
   "id": "adcca114",
>>>>>>> documentation-devel
||||||| 4da3324
<<<<<<< HEAD
<<<<<<< HEAD
<<<<<<< HEAD
   "id": "2bc6d443",
||||||| 11b9cb7
   "id": "835c3c49",
=======
   "id": "61696923",
>>>>>>> documentation-devel
||||||| 614e9b1
   "id": "61696923",
=======
   "id": "0c31463e",
>>>>>>> documentation-devel
||||||| 856b4c0
<<<<<<< HEAD
   "id": "2bc6d443",
||||||| 11b9cb7
   "id": "835c3c49",
=======
   "id": "61696923",
>>>>>>> documentation-devel
=======
   "id": "72b1dd7b",
>>>>>>> 552590ea8fad969b67afdba27558a1e6cb21016e
=======
   "id": "b62d248f",
>>>>>>> b6e07d13baac92b2c1c9b43f8e4113ffa87bf495
   "metadata": {
    "lines_to_next_cell": 0
   },
   "outputs": [],
   "source": [
    "sessionInfo()"
   ]
  },
  {
   "cell_type": "markdown",
<<<<<<< HEAD
<<<<<<< HEAD
<<<<<<< HEAD
<<<<<<< HEAD
<<<<<<< HEAD
   "id": "bc2e1098",
||||||| 11b9cb7
   "id": "5ade48ec",
=======
   "id": "1e0da80e",
>>>>>>> documentation-devel
||||||| 614e9b1
   "id": "1e0da80e",
=======
   "id": "424f2297",
>>>>>>> documentation-devel
||||||| 856b4c0
<<<<<<< HEAD
   "id": "bc2e1098",
||||||| 11b9cb7
   "id": "5ade48ec",
=======
   "id": "1e0da80e",
>>>>>>> documentation-devel
=======
   "id": "ef3bae09",
>>>>>>> 552590ea8fad969b67afdba27558a1e6cb21016e
||||||| 452c944
   "id": "424f2297",
=======
   "id": "24840e93",
>>>>>>> documentation-devel
||||||| 4da3324
<<<<<<< HEAD
<<<<<<< HEAD
<<<<<<< HEAD
   "id": "bc2e1098",
||||||| 11b9cb7
   "id": "5ade48ec",
=======
   "id": "1e0da80e",
>>>>>>> documentation-devel
||||||| 614e9b1
   "id": "1e0da80e",
=======
   "id": "424f2297",
>>>>>>> documentation-devel
||||||| 856b4c0
<<<<<<< HEAD
   "id": "bc2e1098",
||||||| 11b9cb7
   "id": "5ade48ec",
=======
   "id": "1e0da80e",
>>>>>>> documentation-devel
=======
   "id": "ef3bae09",
>>>>>>> 552590ea8fad969b67afdba27558a1e6cb21016e
=======
   "id": "107691bf",
>>>>>>> b6e07d13baac92b2c1c9b43f8e4113ffa87bf495
   "metadata": {},
   "source": []
  }
 ],
 "metadata": {
  "kernelspec": {
   "display_name": "R",
   "language": "R",
   "name": "ir"
  }
 },
 "nbformat": 4,
 "nbformat_minor": 5
}
