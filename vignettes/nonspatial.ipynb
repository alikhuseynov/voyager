{
 "cells": [
  {
   "cell_type": "raw",
<<<<<<< HEAD
<<<<<<< HEAD
<<<<<<< HEAD
   "id": "ca644f50",
||||||| b944554d
   "id": "a3264d56",
=======
   "id": "560451dc",
>>>>>>> documentation-devel
||||||| 35cb6e7a
   "id": "560451dc",
=======
   "id": "68ac7f0c",
>>>>>>> documentation-devel
||||||| 596bf878
<<<<<<< HEAD
   "id": "ca644f50",
||||||| b944554d
   "id": "a3264d56",
=======
   "id": "560451dc",
>>>>>>> documentation-devel
=======
   "id": "7723d1b0",
>>>>>>> f8a184fea58c53eb88debec89cb7180bf225886f
   "metadata": {},
   "source": [
    "---\n",
    "title: \"Apply spatial analyses to non-spatial scRNA-seq data\"\n",
    "author: \"Lambda Moses\"\n",
    "date: \"`r Sys.Date()`\"\n",
    "output: \n",
    "  html_document:\n",
    "  toc: true\n",
    "  toc_float:\n",
    "    collapsed: false\n",
    "  toc_depth: 3\n",
    "bibliography: ref.bib\n",
    "vignette: >\n",
    "  %\\VignetteIndexEntry{nonspatial}\n",
    "  %\\VignetteEngine{knitr::rmarkdown}\n",
    "  %\\VignetteEncoding{UTF-8}\n",
    "---"
   ]
  },
  {
   "cell_type": "code",
   "execution_count": null,
<<<<<<< HEAD
<<<<<<< HEAD
<<<<<<< HEAD
   "id": "2b716806",
||||||| b944554d
   "id": "e0bbbfb9",
=======
   "id": "2bf7b83a",
>>>>>>> documentation-devel
||||||| 35cb6e7a
   "id": "2bf7b83a",
=======
   "id": "622255a5",
>>>>>>> documentation-devel
||||||| 596bf878
<<<<<<< HEAD
   "id": "2b716806",
||||||| b944554d
   "id": "e0bbbfb9",
=======
   "id": "2bf7b83a",
>>>>>>> documentation-devel
=======
   "id": "ed919f35",
>>>>>>> f8a184fea58c53eb88debec89cb7180bf225886f
   "metadata": {
    "tags": [
     "remove_cell"
    ]
   },
   "outputs": [],
   "source": [
    "knitr::opts_chunk$set(\n",
    "  collapse = TRUE,\n",
    "  comment = \"#>\"\n",
    ")"
   ]
  },
  {
   "cell_type": "code",
   "execution_count": null,
<<<<<<< HEAD
<<<<<<< HEAD
<<<<<<< HEAD
   "id": "c6147ac3",
||||||| b944554d
   "id": "f0088851",
=======
   "id": "6263bec4",
>>>>>>> documentation-devel
||||||| 35cb6e7a
   "id": "6263bec4",
=======
   "id": "570c768c",
>>>>>>> documentation-devel
||||||| 596bf878
<<<<<<< HEAD
   "id": "c6147ac3",
||||||| b944554d
   "id": "f0088851",
=======
   "id": "6263bec4",
>>>>>>> documentation-devel
=======
   "id": "3c8d31bb",
>>>>>>> f8a184fea58c53eb88debec89cb7180bf225886f
   "metadata": {
    "eval": false,
    "tags": [
     "remove_cell"
    ]
   },
   "outputs": [],
   "source": [
    "# Install Google Colab dependencies\n",
    "# Note: this can take 30+ minutes (many of the dependencies include C++ code, which needs to be compiled)\n",
    "\n",
    "# First install `sf`, `ragg` and `textshaping` and their system dependencies:\n",
    "system(\"apt-get -y update && apt-get install -y  libudunits2-dev libgdal-dev libgeos-dev libproj-dev libharfbuzz-dev libfribidi-dev\")\n",
    "install.packages(\"sf\")\n",
    "install.packages(\"textshaping\")\n",
    "install.packages(\"ragg\")\n",
    "\n",
    "# Install system dependencies of some other R packages that Voyager either imports or suggests:\n",
    "system(\"apt-get install -y libfribidi-dev libcairo2-dev libmagick++-dev\")\n",
    "\n",
    "# Install Voyager from Bioconductor:\n",
    "install.packages(\"BiocManager\")\n",
    "BiocManager::install(version = \"3.17\", ask = FALSE, update = FALSE, Ncpus = 2)\n",
    "BiocManager::install(\"scater\")\n",
    "system.time(\n",
    "  BiocManager::install(\"Voyager\", dependencies = TRUE, Ncpus = 2, update = FALSE)\n",
    ")\n",
    "\n",
    "# Additional dependencies for this notebook\n",
    "install.packages(\"reticulate\")\n",
    "#system(\"pip3 install gget\")\n",
    "packageVersion(\"Voyager\")"
   ]
  },
  {
   "cell_type": "markdown",
<<<<<<< HEAD
<<<<<<< HEAD
<<<<<<< HEAD
   "id": "232b82c8",
||||||| b944554d
   "id": "3a882d02",
=======
   "id": "435875ef",
>>>>>>> documentation-devel
||||||| 35cb6e7a
   "id": "435875ef",
=======
   "id": "4b9d27cb",
>>>>>>> documentation-devel
||||||| 596bf878
<<<<<<< HEAD
   "id": "232b82c8",
||||||| b944554d
   "id": "3a882d02",
=======
   "id": "435875ef",
>>>>>>> documentation-devel
=======
   "id": "bf2ad118",
>>>>>>> f8a184fea58c53eb88debec89cb7180bf225886f
   "metadata": {
    "lines_to_next_cell": 0
   },
   "source": [
    "# Introduction\n",
    "\n",
    "For areal spatial data, the spatial neighborhood graph is used to indicate proximity, and is required for all spatial analysis methods in the package `spdep`. One of the methods to find the spatial neighborhood graph is k nearest neighbors, which is also commonly used in gene expression PCA space for graph-based clustering of cells in non-spatial scRNA-seq data. Then what if we use the k nearest neighbors graph in PCA space rather than histological space for \"spatial\" analyses for non-spatial scRNA-seq data?\n",
    "\n",
    "Here we try such an analysis on a human peripheral blood mononuclear cells (PBMC) scRNA-seq dataset, which doesn't originally have histological spatial organization. These are the packages loaded for the analysis:"
   ]
  },
  {
   "cell_type": "code",
   "execution_count": null,
<<<<<<< HEAD
<<<<<<< HEAD
<<<<<<< HEAD
   "id": "a6bdaaa9",
||||||| b944554d
   "id": "2878758e",
=======
   "id": "cc438652",
>>>>>>> documentation-devel
||||||| 35cb6e7a
   "id": "cc438652",
=======
   "id": "e600f7b6",
>>>>>>> documentation-devel
||||||| 596bf878
<<<<<<< HEAD
   "id": "a6bdaaa9",
||||||| b944554d
   "id": "2878758e",
=======
   "id": "cc438652",
>>>>>>> documentation-devel
=======
   "id": "51f39917",
>>>>>>> f8a184fea58c53eb88debec89cb7180bf225886f
   "metadata": {
    "message": false,
    "name": "setup"
   },
   "outputs": [],
   "source": [
    "library(Voyager)\n",
    "library(SpatialFeatureExperiment)\n",
    "library(SpatialExperiment)\n",
    "library(DropletUtils)\n",
    "library(BiocNeighbors)\n",
    "library(scater)\n",
    "library(scran)\n",
    "library(bluster)\n",
    "library(BiocParallel)\n",
    "library(scuttle)\n",
    "library(stringr)\n",
    "library(BiocSingular)\n",
    "library(spdep)\n",
    "library(patchwork)\n",
    "library(dplyr)\n",
    "library(reticulate)\n",
    "theme_set(theme_bw())"
   ]
  },
  {
   "cell_type": "code",
   "execution_count": null,
<<<<<<< HEAD
<<<<<<< HEAD
<<<<<<< HEAD
   "id": "a85dcaed",
||||||| b944554d
   "id": "69c06f4d",
=======
   "id": "f44fe2da",
>>>>>>> documentation-devel
||||||| 35cb6e7a
   "id": "f44fe2da",
=======
   "id": "0ab6cdb1",
>>>>>>> documentation-devel
||||||| 596bf878
<<<<<<< HEAD
   "id": "a85dcaed",
||||||| b944554d
   "id": "69c06f4d",
=======
   "id": "f44fe2da",
>>>>>>> documentation-devel
=======
   "id": "48c9867b",
>>>>>>> f8a184fea58c53eb88debec89cb7180bf225886f
   "metadata": {},
   "outputs": [],
   "source": [
    "# Specify Python version to use gget\n",
    "PY_PATH <- Sys.which(\"python\")\n",
    "use_python(PY_PATH)\n",
    "py_config()\n",
    "\n",
    "# Load gget\n",
    "gget <- import(\"gget\")"
   ]
  },
  {
   "cell_type": "markdown",
<<<<<<< HEAD
<<<<<<< HEAD
<<<<<<< HEAD
   "id": "4a43f951",
||||||| b944554d
   "id": "55ab7d46",
=======
   "id": "5b16972b",
>>>>>>> documentation-devel
||||||| 35cb6e7a
   "id": "5b16972b",
=======
   "id": "a534daba",
>>>>>>> documentation-devel
||||||| 596bf878
<<<<<<< HEAD
   "id": "4a43f951",
||||||| b944554d
   "id": "55ab7d46",
=======
   "id": "5b16972b",
>>>>>>> documentation-devel
=======
   "id": "1942cb9e",
>>>>>>> f8a184fea58c53eb88debec89cb7180bf225886f
   "metadata": {},
   "source": [
    "Here we download the filtered [Cell Ranger gene count matrix from the 10X website](https://support.10xgenomics.com/single-cell-gene-expression/datasets/3.0.2/5k_pbmc_v3_nextgem?). The empty droplets have already been removed."
   ]
  },
  {
   "cell_type": "code",
   "execution_count": null,
<<<<<<< HEAD
<<<<<<< HEAD
<<<<<<< HEAD
   "id": "ced7d92d",
||||||| b944554d
   "id": "f4ea5e85",
=======
   "id": "251eeefa",
>>>>>>> documentation-devel
||||||| 35cb6e7a
   "id": "251eeefa",
=======
   "id": "03522498",
>>>>>>> documentation-devel
||||||| 596bf878
<<<<<<< HEAD
   "id": "ced7d92d",
||||||| b944554d
   "id": "f4ea5e85",
=======
   "id": "251eeefa",
>>>>>>> documentation-devel
=======
   "id": "9626feb7",
>>>>>>> f8a184fea58c53eb88debec89cb7180bf225886f
   "metadata": {},
   "outputs": [],
   "source": [
    "if (!dir.exists(\"filtered_feature_bc_matrix\")) {\n",
    "    download.file(\"https://cf.10xgenomics.com/samples/cell-exp/3.0.2/5k_pbmc_v3_nextgem/5k_pbmc_v3_nextgem_filtered_feature_bc_matrix.tar.gz\", destfile = \"5kpbmc.tar.gz\", quiet = TRUE)\n",
    "    system(\"tar -xzf 5kpbmc.tar.gz\")\n",
    "}"
   ]
  },
  {
   "cell_type": "markdown",
<<<<<<< HEAD
<<<<<<< HEAD
<<<<<<< HEAD
   "id": "77e4748e",
||||||| b944554d
   "id": "6de30e87",
=======
   "id": "98056016",
>>>>>>> documentation-devel
||||||| 35cb6e7a
   "id": "98056016",
=======
   "id": "e9013a3c",
>>>>>>> documentation-devel
||||||| 596bf878
<<<<<<< HEAD
   "id": "77e4748e",
||||||| b944554d
   "id": "6de30e87",
=======
   "id": "98056016",
>>>>>>> documentation-devel
=======
   "id": "4bb2b6dd",
>>>>>>> f8a184fea58c53eb88debec89cb7180bf225886f
   "metadata": {
    "lines_to_next_cell": 0
   },
   "source": [
    "This is loaded into R as a `SingleCellExperiment` (SCE) object."
   ]
  },
  {
   "cell_type": "code",
   "execution_count": null,
<<<<<<< HEAD
<<<<<<< HEAD
<<<<<<< HEAD
   "id": "b952e9a2",
||||||| b944554d
   "id": "d8b4004d",
=======
   "id": "71603eda",
>>>>>>> documentation-devel
||||||| 35cb6e7a
   "id": "71603eda",
=======
   "id": "7679073c",
>>>>>>> documentation-devel
||||||| 596bf878
<<<<<<< HEAD
   "id": "b952e9a2",
||||||| b944554d
   "id": "d8b4004d",
=======
   "id": "71603eda",
>>>>>>> documentation-devel
=======
   "id": "d308959e",
>>>>>>> f8a184fea58c53eb88debec89cb7180bf225886f
   "metadata": {},
   "outputs": [],
   "source": [
    "(sce <- read10xCounts(\"filtered_feature_bc_matrix/\"))"
   ]
  },
  {
   "cell_type": "code",
   "execution_count": null,
<<<<<<< HEAD
<<<<<<< HEAD
<<<<<<< HEAD
   "id": "8f3884c8",
||||||| b944554d
   "id": "82c6b8be",
=======
   "id": "a78446aa",
>>>>>>> documentation-devel
||||||| 35cb6e7a
   "id": "a78446aa",
=======
   "id": "ccefe36d",
>>>>>>> documentation-devel
||||||| 596bf878
<<<<<<< HEAD
   "id": "8f3884c8",
||||||| b944554d
   "id": "82c6b8be",
=======
   "id": "a78446aa",
>>>>>>> documentation-devel
=======
   "id": "0dd68fa6",
>>>>>>> f8a184fea58c53eb88debec89cb7180bf225886f
   "metadata": {},
   "outputs": [],
   "source": [
    "colnames(sce) <- sce$Barcode"
   ]
  },
  {
   "cell_type": "markdown",
<<<<<<< HEAD
<<<<<<< HEAD
<<<<<<< HEAD
   "id": "92b45f8c",
||||||| b944554d
   "id": "ffbe8de1",
=======
   "id": "8d64b0fc",
>>>>>>> documentation-devel
||||||| 35cb6e7a
   "id": "8d64b0fc",
=======
   "id": "b333f4f2",
>>>>>>> documentation-devel
||||||| 596bf878
<<<<<<< HEAD
   "id": "92b45f8c",
||||||| b944554d
   "id": "ffbe8de1",
=======
   "id": "8d64b0fc",
>>>>>>> documentation-devel
=======
   "id": "5c287870",
>>>>>>> f8a184fea58c53eb88debec89cb7180bf225886f
   "metadata": {
    "lines_to_next_cell": 0
   },
   "source": [
    "# Quality control (QC)\n",
    "Here we perform some basic QC, to remove low quality cells with high proportion of mitochondrially encoded counts. "
   ]
  },
  {
   "cell_type": "code",
   "execution_count": null,
<<<<<<< HEAD
<<<<<<< HEAD
<<<<<<< HEAD
   "id": "7f9ab262",
||||||| b944554d
   "id": "34628fce",
=======
   "id": "3173e3c1",
>>>>>>> documentation-devel
||||||| 35cb6e7a
   "id": "3173e3c1",
=======
   "id": "e40f430e",
>>>>>>> documentation-devel
||||||| 596bf878
<<<<<<< HEAD
   "id": "7f9ab262",
||||||| b944554d
   "id": "34628fce",
=======
   "id": "3173e3c1",
>>>>>>> documentation-devel
=======
   "id": "931856bf",
>>>>>>> f8a184fea58c53eb88debec89cb7180bf225886f
   "metadata": {},
   "outputs": [],
   "source": [
    "is_mito <- str_detect(rowData(sce)$Symbol, \"^MT-\")\n",
    "sum(is_mito)"
   ]
  },
  {
   "cell_type": "code",
   "execution_count": null,
<<<<<<< HEAD
<<<<<<< HEAD
<<<<<<< HEAD
   "id": "2f9886ca",
||||||| b944554d
   "id": "9647b3ee",
=======
   "id": "3e3a638c",
>>>>>>> documentation-devel
||||||| 35cb6e7a
   "id": "3e3a638c",
=======
   "id": "015d64d1",
>>>>>>> documentation-devel
||||||| 596bf878
<<<<<<< HEAD
   "id": "2f9886ca",
||||||| b944554d
   "id": "9647b3ee",
=======
   "id": "3e3a638c",
>>>>>>> documentation-devel
=======
   "id": "45118b61",
>>>>>>> f8a184fea58c53eb88debec89cb7180bf225886f
   "metadata": {},
   "outputs": [],
   "source": [
    "sce <- addPerCellQCMetrics(sce, subsets = list(mito = is_mito))\n",
    "names(colData(sce))"
   ]
  },
  {
   "cell_type": "markdown",
<<<<<<< HEAD
<<<<<<< HEAD
<<<<<<< HEAD
   "id": "16f4a9f5",
||||||| b944554d
   "id": "4fbdff47",
=======
   "id": "e0a1edec",
>>>>>>> documentation-devel
||||||| 35cb6e7a
   "id": "e0a1edec",
=======
   "id": "083c8e71",
>>>>>>> documentation-devel
||||||| 596bf878
<<<<<<< HEAD
   "id": "16f4a9f5",
||||||| b944554d
   "id": "4fbdff47",
=======
   "id": "e0a1edec",
>>>>>>> documentation-devel
=======
   "id": "266be3f7",
>>>>>>> f8a184fea58c53eb88debec89cb7180bf225886f
   "metadata": {},
   "source": [
    "The `addPerCellQCMetrics()` function computes the total UMI counts detected per cell (`sum`), number of genes detected per cell (`detected`), `sum` and `detected` for mitochondrial counts, and percentage of mitochondrial counts per cell."
   ]
  },
  {
   "cell_type": "code",
   "execution_count": null,
<<<<<<< HEAD
<<<<<<< HEAD
<<<<<<< HEAD
   "id": "ea7a753a",
||||||| b944554d
   "id": "2a16ff13",
=======
   "id": "77a7a33e",
>>>>>>> documentation-devel
||||||| 35cb6e7a
   "id": "77a7a33e",
=======
   "id": "8163d791",
>>>>>>> documentation-devel
||||||| 596bf878
<<<<<<< HEAD
   "id": "ea7a753a",
||||||| b944554d
   "id": "2a16ff13",
=======
   "id": "77a7a33e",
>>>>>>> documentation-devel
=======
   "id": "64cd3a41",
>>>>>>> f8a184fea58c53eb88debec89cb7180bf225886f
   "metadata": {},
   "outputs": [],
   "source": [
    "plotColData(sce, \"sum\") +\n",
    "    plotColData(sce, \"detected\") +\n",
    "    plotColData(sce, \"subsets_mito_percent\")"
   ]
  },
  {
   "cell_type": "markdown",
<<<<<<< HEAD
<<<<<<< HEAD
<<<<<<< HEAD
   "id": "cf7c0033",
||||||| b944554d
   "id": "8a5827b8",
=======
   "id": "fa10bd05",
>>>>>>> documentation-devel
||||||| 35cb6e7a
   "id": "fa10bd05",
=======
   "id": "bb21b19a",
>>>>>>> documentation-devel
||||||| 596bf878
<<<<<<< HEAD
   "id": "cf7c0033",
||||||| b944554d
   "id": "8a5827b8",
=======
   "id": "fa10bd05",
>>>>>>> documentation-devel
=======
   "id": "38278b6f",
>>>>>>> f8a184fea58c53eb88debec89cb7180bf225886f
   "metadata": {
    "lines_to_next_cell": 0
   },
   "source": [
    "Here a 2D histogram is plotted to better show point density on the plot."
   ]
  },
  {
   "cell_type": "code",
   "execution_count": null,
<<<<<<< HEAD
<<<<<<< HEAD
<<<<<<< HEAD
   "id": "d83f1ca3",
||||||| b944554d
   "id": "7a607f46",
=======
   "id": "9656d91f",
>>>>>>> documentation-devel
||||||| 35cb6e7a
   "id": "9656d91f",
=======
   "id": "71a62187",
>>>>>>> documentation-devel
||||||| 596bf878
<<<<<<< HEAD
   "id": "d83f1ca3",
||||||| b944554d
   "id": "7a607f46",
=======
   "id": "9656d91f",
>>>>>>> documentation-devel
=======
   "id": "39031030",
>>>>>>> f8a184fea58c53eb88debec89cb7180bf225886f
   "metadata": {},
   "outputs": [],
   "source": [
    "plotColData(sce, x = \"sum\", y = \"detected\", bins = 100)"
   ]
  },
  {
   "cell_type": "code",
   "execution_count": null,
<<<<<<< HEAD
<<<<<<< HEAD
<<<<<<< HEAD
   "id": "66eeb8db",
||||||| b944554d
   "id": "bb1e0620",
=======
   "id": "22bd0683",
>>>>>>> documentation-devel
||||||| 35cb6e7a
   "id": "22bd0683",
=======
   "id": "66d510b1",
>>>>>>> documentation-devel
||||||| 596bf878
<<<<<<< HEAD
   "id": "66eeb8db",
||||||| b944554d
   "id": "bb1e0620",
=======
   "id": "22bd0683",
>>>>>>> documentation-devel
=======
   "id": "291a4977",
>>>>>>> f8a184fea58c53eb88debec89cb7180bf225886f
   "metadata": {},
   "outputs": [],
   "source": [
    "plotColData(sce, x = \"sum\", y = \"subsets_mito_percent\", bins = 100)"
   ]
  },
  {
   "cell_type": "markdown",
<<<<<<< HEAD
<<<<<<< HEAD
<<<<<<< HEAD
   "id": "ac225f8f",
||||||| b944554d
   "id": "584e12f7",
=======
   "id": "694787c3",
>>>>>>> documentation-devel
||||||| 35cb6e7a
   "id": "694787c3",
=======
   "id": "722d9c0e",
>>>>>>> documentation-devel
||||||| 596bf878
<<<<<<< HEAD
   "id": "ac225f8f",
||||||| b944554d
   "id": "584e12f7",
=======
   "id": "694787c3",
>>>>>>> documentation-devel
=======
   "id": "54fc9447",
>>>>>>> f8a184fea58c53eb88debec89cb7180bf225886f
   "metadata": {
    "lines_to_next_cell": 0
   },
   "source": [
    "Remove cells with >20% mitochondrial counts"
   ]
  },
  {
   "cell_type": "code",
   "execution_count": null,
<<<<<<< HEAD
<<<<<<< HEAD
<<<<<<< HEAD
   "id": "fa3a97f2",
||||||| b944554d
   "id": "6c87460a",
=======
   "id": "ac0fd306",
>>>>>>> documentation-devel
||||||| 35cb6e7a
   "id": "ac0fd306",
=======
   "id": "a7ad3514",
>>>>>>> documentation-devel
||||||| 596bf878
<<<<<<< HEAD
   "id": "fa3a97f2",
||||||| b944554d
   "id": "6c87460a",
=======
   "id": "ac0fd306",
>>>>>>> documentation-devel
=======
   "id": "d0072ccf",
>>>>>>> f8a184fea58c53eb88debec89cb7180bf225886f
   "metadata": {},
   "outputs": [],
   "source": [
    "sce <- sce[, sce$subsets_mito_percent < 20]\n",
    "sce <- sce[rowSums(counts(sce)) > 0,]"
   ]
  },
  {
   "cell_type": "markdown",
<<<<<<< HEAD
<<<<<<< HEAD
<<<<<<< HEAD
   "id": "8cb0f7ee",
||||||| b944554d
   "id": "f997d37f",
=======
   "id": "e08639b0",
>>>>>>> documentation-devel
||||||| 35cb6e7a
   "id": "e08639b0",
=======
   "id": "6b2a04ec",
>>>>>>> documentation-devel
||||||| 596bf878
<<<<<<< HEAD
   "id": "8cb0f7ee",
||||||| b944554d
   "id": "f997d37f",
=======
   "id": "e08639b0",
>>>>>>> documentation-devel
=======
   "id": "2cb1a7fe",
>>>>>>> f8a184fea58c53eb88debec89cb7180bf225886f
   "metadata": {
    "lines_to_next_cell": 0
   },
   "source": [
    "# Basic non-spatial analyses\n",
    "Here we normalize the data, perform PCA, cluster the cells, and find marker genes for the clusters."
   ]
  },
  {
   "cell_type": "code",
   "execution_count": null,
<<<<<<< HEAD
<<<<<<< HEAD
<<<<<<< HEAD
   "id": "b0bb93e6",
||||||| b944554d
   "id": "25fc4f8c",
=======
   "id": "da3bcb5b",
>>>>>>> documentation-devel
||||||| 35cb6e7a
   "id": "da3bcb5b",
=======
   "id": "8d7e7987",
>>>>>>> documentation-devel
||||||| 596bf878
<<<<<<< HEAD
   "id": "b0bb93e6",
||||||| b944554d
   "id": "25fc4f8c",
=======
   "id": "da3bcb5b",
>>>>>>> documentation-devel
=======
   "id": "e28d4e2b",
>>>>>>> f8a184fea58c53eb88debec89cb7180bf225886f
   "metadata": {},
   "outputs": [],
   "source": [
    "#clusts <- quickCluster(sce)\n",
    "#sce <- computeSumFactors(sce, cluster = clusts)\n",
    "#sce <- sce[, sizeFactors(sce) > 0]\n",
    "sce <- logNormCounts(sce)"
   ]
  },
  {
   "cell_type": "markdown",
<<<<<<< HEAD
<<<<<<< HEAD
<<<<<<< HEAD
   "id": "3df3acc1",
||||||| b944554d
   "id": "f7f8ac6f",
=======
   "id": "18bcc32c",
>>>>>>> documentation-devel
||||||| 35cb6e7a
   "id": "18bcc32c",
=======
   "id": "8f39f443",
>>>>>>> documentation-devel
||||||| 596bf878
<<<<<<< HEAD
   "id": "3df3acc1",
||||||| b944554d
   "id": "f7f8ac6f",
=======
   "id": "18bcc32c",
>>>>>>> documentation-devel
=======
   "id": "fd219f40",
>>>>>>> f8a184fea58c53eb88debec89cb7180bf225886f
   "metadata": {
    "lines_to_next_cell": 0
   },
   "source": [
    "Use the highly variable genes for PCA:"
   ]
  },
  {
   "cell_type": "code",
   "execution_count": null,
<<<<<<< HEAD
<<<<<<< HEAD
<<<<<<< HEAD
   "id": "df003da6",
||||||| b944554d
   "id": "ebf302d4",
=======
   "id": "ca02efe5",
>>>>>>> documentation-devel
||||||| 35cb6e7a
   "id": "ca02efe5",
=======
   "id": "2743d5a4",
>>>>>>> documentation-devel
||||||| 596bf878
<<<<<<< HEAD
   "id": "df003da6",
||||||| b944554d
   "id": "ebf302d4",
=======
   "id": "ca02efe5",
>>>>>>> documentation-devel
=======
   "id": "7d61c5a0",
>>>>>>> f8a184fea58c53eb88debec89cb7180bf225886f
   "metadata": {},
   "outputs": [],
   "source": [
    "dec <- modelGeneVar(sce, lowess = FALSE)\n",
    "hvgs <- getTopHVGs(dec, n = 2000)"
   ]
  },
  {
   "cell_type": "code",
   "execution_count": null,
<<<<<<< HEAD
<<<<<<< HEAD
<<<<<<< HEAD
   "id": "8076563f",
||||||| b944554d
   "id": "43b1ef18",
=======
   "id": "5281a1d1",
>>>>>>> documentation-devel
||||||| 35cb6e7a
   "id": "5281a1d1",
=======
   "id": "0e13c489",
>>>>>>> documentation-devel
||||||| 596bf878
<<<<<<< HEAD
   "id": "8076563f",
||||||| b944554d
   "id": "43b1ef18",
=======
   "id": "5281a1d1",
>>>>>>> documentation-devel
=======
   "id": "ae7ad882",
>>>>>>> f8a184fea58c53eb88debec89cb7180bf225886f
   "metadata": {},
   "outputs": [],
   "source": [
    "set.seed(29)\n",
    "sce <- runPCA(sce, ncomponents = 30, BSPARAM = IrlbaParam(),\n",
    "              subset_row = hvgs, scale = TRUE)"
   ]
  },
  {
   "cell_type": "markdown",
<<<<<<< HEAD
<<<<<<< HEAD
<<<<<<< HEAD
   "id": "6ce0afb5",
||||||| b944554d
   "id": "43f86864",
=======
   "id": "67b8158e",
>>>>>>> documentation-devel
||||||| 35cb6e7a
   "id": "67b8158e",
=======
   "id": "fd641410",
>>>>>>> documentation-devel
||||||| 596bf878
<<<<<<< HEAD
   "id": "6ce0afb5",
||||||| b944554d
   "id": "43f86864",
=======
   "id": "67b8158e",
>>>>>>> documentation-devel
=======
   "id": "50a64344",
>>>>>>> f8a184fea58c53eb88debec89cb7180bf225886f
   "metadata": {
    "lines_to_next_cell": 0
   },
   "source": [
    "How many PCs shall we use for further analyses?"
   ]
  },
  {
   "cell_type": "code",
   "execution_count": null,
<<<<<<< HEAD
<<<<<<< HEAD
<<<<<<< HEAD
   "id": "83d39a8d",
||||||| b944554d
   "id": "5c9a20ad",
=======
   "id": "6c814cf5",
>>>>>>> documentation-devel
||||||| 35cb6e7a
   "id": "6c814cf5",
=======
   "id": "9927a198",
>>>>>>> documentation-devel
||||||| 596bf878
<<<<<<< HEAD
   "id": "83d39a8d",
||||||| b944554d
   "id": "5c9a20ad",
=======
   "id": "6c814cf5",
>>>>>>> documentation-devel
=======
   "id": "87a22eb8",
>>>>>>> f8a184fea58c53eb88debec89cb7180bf225886f
   "metadata": {},
   "outputs": [],
   "source": [
    "ElbowPlot(sce, ndims = 30)"
   ]
  },
  {
   "cell_type": "markdown",
<<<<<<< HEAD
<<<<<<< HEAD
<<<<<<< HEAD
   "id": "1bddb696",
||||||| b944554d
   "id": "f7ee07b7",
=======
   "id": "4e5b2146",
>>>>>>> documentation-devel
||||||| 35cb6e7a
   "id": "4e5b2146",
=======
   "id": "c8dccb16",
>>>>>>> documentation-devel
||||||| 596bf878
<<<<<<< HEAD
   "id": "1bddb696",
||||||| b944554d
   "id": "f7ee07b7",
=======
   "id": "4e5b2146",
>>>>>>> documentation-devel
=======
   "id": "a6e158ec",
>>>>>>> f8a184fea58c53eb88debec89cb7180bf225886f
   "metadata": {},
   "source": [
    "Variance explained drops sharply from PC1 and again from PC4 and then levels off. Plot genes with the largest loadings of the top 4 PCs:"
   ]
  },
  {
   "cell_type": "code",
   "execution_count": null,
<<<<<<< HEAD
<<<<<<< HEAD
<<<<<<< HEAD
   "id": "6a41e501",
||||||| b944554d
   "id": "d889c5b8",
=======
   "id": "e7005725",
>>>>>>> documentation-devel
||||||| 35cb6e7a
   "id": "e7005725",
=======
   "id": "a751905d",
>>>>>>> documentation-devel
||||||| 596bf878
<<<<<<< HEAD
   "id": "6a41e501",
||||||| b944554d
   "id": "d889c5b8",
=======
   "id": "e7005725",
>>>>>>> documentation-devel
=======
   "id": "443154ce",
>>>>>>> f8a184fea58c53eb88debec89cb7180bf225886f
   "metadata": {
    "lines_to_next_cell": 2
   },
   "outputs": [],
   "source": [
    "plotDimLoadings(sce, swap_rownames = \"Symbol\")"
   ]
  },
  {
   "cell_type": "markdown",
<<<<<<< HEAD
<<<<<<< HEAD
<<<<<<< HEAD
   "id": "5c00813b",
||||||| b944554d
   "id": "e49a9d24",
=======
   "id": "0ca13ab1",
>>>>>>> documentation-devel
||||||| 35cb6e7a
   "id": "0ca13ab1",
=======
   "id": "f070ff35",
>>>>>>> documentation-devel
||||||| 596bf878
<<<<<<< HEAD
   "id": "5c00813b",
||||||| b944554d
   "id": "e49a9d24",
=======
   "id": "0ca13ab1",
>>>>>>> documentation-devel
=======
   "id": "62cc9303",
>>>>>>> f8a184fea58c53eb88debec89cb7180bf225886f
   "metadata": {},
   "source": [
    "To keep a little more information, we use 10 PCs, after which variance explained levels off even more."
   ]
  },
  {
   "cell_type": "code",
   "execution_count": null,
<<<<<<< HEAD
<<<<<<< HEAD
<<<<<<< HEAD
   "id": "daae5a9e",
||||||| b944554d
   "id": "0059148a",
=======
   "id": "d1c4acf2",
>>>>>>> documentation-devel
||||||| 35cb6e7a
   "id": "d1c4acf2",
=======
   "id": "e4ba3227",
>>>>>>> documentation-devel
||||||| 596bf878
<<<<<<< HEAD
   "id": "daae5a9e",
||||||| b944554d
   "id": "0059148a",
=======
   "id": "d1c4acf2",
>>>>>>> documentation-devel
=======
   "id": "8a7d7ce1",
>>>>>>> f8a184fea58c53eb88debec89cb7180bf225886f
   "metadata": {},
   "outputs": [],
   "source": [
    "sce$cluster <- clusterRows(reducedDim(sce, \"PCA\")[,1:10],\n",
    "                           BLUSPARAM = SNNGraphParam(cluster.fun = \"leiden\",\n",
    "                                                     k = 10,\n",
    "                                                     cluster.args = list(\n",
    "                                                         resolution=0.5,\n",
    "                                                         objective_function = \"modularity\"\n",
    "                                                     )))"
   ]
  },
  {
   "cell_type": "markdown",
<<<<<<< HEAD
<<<<<<< HEAD
<<<<<<< HEAD
   "id": "22bed1ae",
||||||| b944554d
   "id": "ed74e7ac",
=======
   "id": "82e81ebf",
>>>>>>> documentation-devel
||||||| 35cb6e7a
   "id": "82e81ebf",
=======
   "id": "682893cd",
>>>>>>> documentation-devel
||||||| 596bf878
<<<<<<< HEAD
   "id": "22bed1ae",
||||||| b944554d
   "id": "ed74e7ac",
=======
   "id": "82e81ebf",
>>>>>>> documentation-devel
=======
   "id": "a42c993c",
>>>>>>> f8a184fea58c53eb88debec89cb7180bf225886f
   "metadata": {},
   "source": [
    "Here we plot the cells in the first 4 PCs in a matrix plot. The diagonals are density plots of the number of cells as projected on each PC. The x axis should correspond to the columns of the matrix plot, and the y axis should correspond to the rows, so the plot in row 1 column 2 has PC2 in the x axis and PC1 in the y axis. The cells are colored by clusters found in the previous code chunk."
   ]
  },
  {
   "cell_type": "code",
   "execution_count": null,
<<<<<<< HEAD
<<<<<<< HEAD
<<<<<<< HEAD
   "id": "a529db54",
||||||| b944554d
   "id": "af109c38",
=======
   "id": "b516270e",
>>>>>>> documentation-devel
||||||| 35cb6e7a
   "id": "b516270e",
=======
   "id": "f17a48b4",
>>>>>>> documentation-devel
||||||| 596bf878
<<<<<<< HEAD
   "id": "a529db54",
||||||| b944554d
   "id": "af109c38",
=======
   "id": "b516270e",
>>>>>>> documentation-devel
=======
   "id": "528d1d5b",
>>>>>>> f8a184fea58c53eb88debec89cb7180bf225886f
   "metadata": {
    "fig.height": 9,
    "fig.width": 9
   },
   "outputs": [],
   "source": [
    "plotPCA(sce, ncomponents = 4, color_by = \"cluster\")"
   ]
  },
  {
   "cell_type": "markdown",
<<<<<<< HEAD
<<<<<<< HEAD
<<<<<<< HEAD
   "id": "d8ce8cc8",
||||||| b944554d
   "id": "7bc2dbc5",
=======
   "id": "300c3198",
>>>>>>> documentation-devel
||||||| 35cb6e7a
   "id": "300c3198",
=======
   "id": "dbde092a",
>>>>>>> documentation-devel
||||||| 596bf878
<<<<<<< HEAD
   "id": "d8ce8cc8",
||||||| b944554d
   "id": "7bc2dbc5",
=======
   "id": "300c3198",
>>>>>>> documentation-devel
=======
   "id": "6f37e3f9",
>>>>>>> f8a184fea58c53eb88debec89cb7180bf225886f
   "metadata": {
    "lines_to_next_cell": 0
   },
   "source": [
    "How many cells are there in each cluster?"
   ]
  },
  {
   "cell_type": "code",
   "execution_count": null,
<<<<<<< HEAD
<<<<<<< HEAD
<<<<<<< HEAD
   "id": "0fe4daa4",
||||||| b944554d
   "id": "56208392",
=======
   "id": "127d4f3e",
>>>>>>> documentation-devel
||||||| 35cb6e7a
   "id": "127d4f3e",
=======
   "id": "e29d7902",
>>>>>>> documentation-devel
||||||| 596bf878
<<<<<<< HEAD
   "id": "0fe4daa4",
||||||| b944554d
   "id": "56208392",
=======
   "id": "127d4f3e",
>>>>>>> documentation-devel
=======
   "id": "6b1b289c",
>>>>>>> f8a184fea58c53eb88debec89cb7180bf225886f
   "metadata": {},
   "outputs": [],
   "source": [
    "table(sce$cluster)"
   ]
  },
  {
   "cell_type": "markdown",
<<<<<<< HEAD
<<<<<<< HEAD
<<<<<<< HEAD
   "id": "9f9cd203",
||||||| b944554d
   "id": "5fe0e61d",
=======
   "id": "15ea6f46",
>>>>>>> documentation-devel
||||||| 35cb6e7a
   "id": "15ea6f46",
=======
   "id": "8cf5326f",
>>>>>>> documentation-devel
||||||| 596bf878
<<<<<<< HEAD
   "id": "9f9cd203",
||||||| b944554d
   "id": "5fe0e61d",
=======
   "id": "15ea6f46",
>>>>>>> documentation-devel
=======
   "id": "170a87a2",
>>>>>>> f8a184fea58c53eb88debec89cb7180bf225886f
   "metadata": {
    "lines_to_next_cell": 0
   },
   "source": [
    "Then we use the conventional Wilcoxon rank sum test to find marker genes for each cluster. The test compares each cluster to the rest of the cells, and only genes more highly expressed in the cluster compared to the other cells are considered. The result is a list of data frames, where each data frame corresponds to one cluster. Areas under the receiver operator curve (AUC), distinguishing each cluster vs. any other cluster, are also included. The closer to 1 the better, while 0.5 means no better than random guessing. The false discovery rate (FDR) column contains the Benjamini-Hochberg corrected p-values. Genes in these data frames are already sorted by p-values."
   ]
  },
  {
   "cell_type": "code",
   "execution_count": null,
<<<<<<< HEAD
<<<<<<< HEAD
<<<<<<< HEAD
   "id": "79e4f8ee",
||||||| b944554d
   "id": "055b71b4",
=======
   "id": "5bd8fe45",
>>>>>>> documentation-devel
||||||| 35cb6e7a
   "id": "5bd8fe45",
=======
   "id": "bd40ee2b",
>>>>>>> documentation-devel
||||||| 596bf878
<<<<<<< HEAD
   "id": "79e4f8ee",
||||||| b944554d
   "id": "055b71b4",
=======
   "id": "5bd8fe45",
>>>>>>> documentation-devel
=======
   "id": "aa443ac6",
>>>>>>> f8a184fea58c53eb88debec89cb7180bf225886f
   "metadata": {
    "lines_to_next_cell": 2
   },
   "outputs": [],
   "source": [
    "markers <- findMarkers(sce, groups = colData(sce)$cluster,\n",
    "                       test.type = \"wilcox\", pval.type = \"all\", direction = \"up\")\n",
    "markers[[4]]"
   ]
  },
  {
   "cell_type": "markdown",
<<<<<<< HEAD
<<<<<<< HEAD
<<<<<<< HEAD
   "id": "afa7f849",
||||||| b944554d
   "id": "c7dc6f9c",
=======
   "id": "973ef83b",
>>>>>>> documentation-devel
||||||| 35cb6e7a
   "id": "973ef83b",
=======
   "id": "c73ac74d",
>>>>>>> documentation-devel
||||||| 596bf878
<<<<<<< HEAD
   "id": "afa7f849",
||||||| b944554d
   "id": "c7dc6f9c",
=======
   "id": "973ef83b",
>>>>>>> documentation-devel
=======
   "id": "54a5c121",
>>>>>>> f8a184fea58c53eb88debec89cb7180bf225886f
   "metadata": {},
   "source": [
    "See how specific the top markers are to each cluster:"
   ]
  },
  {
   "cell_type": "code",
   "execution_count": null,
<<<<<<< HEAD
<<<<<<< HEAD
<<<<<<< HEAD
   "id": "999cf621",
||||||| b944554d
   "id": "65e272fe",
=======
   "id": "c75900c8",
>>>>>>> documentation-devel
||||||| 35cb6e7a
   "id": "c75900c8",
=======
   "id": "5f23b509",
>>>>>>> documentation-devel
||||||| 596bf878
<<<<<<< HEAD
   "id": "999cf621",
||||||| b944554d
   "id": "65e272fe",
=======
   "id": "c75900c8",
>>>>>>> documentation-devel
=======
   "id": "eccab911",
>>>>>>> f8a184fea58c53eb88debec89cb7180bf225886f
   "metadata": {},
   "outputs": [],
   "source": [
    "top_markers <- unlist(lapply(markers, function(x) head(rownames(x), 1)))\n",
    "top_markers_symbol <- rowData(sce)[top_markers, \"Symbol\"]"
   ]
  },
  {
   "cell_type": "code",
   "execution_count": null,
<<<<<<< HEAD
<<<<<<< HEAD
<<<<<<< HEAD
   "id": "29c11957",
||||||| b944554d
   "id": "d9d5dd05",
=======
   "id": "a98626d3",
>>>>>>> documentation-devel
||||||| 35cb6e7a
   "id": "a98626d3",
=======
   "id": "b430a006",
>>>>>>> documentation-devel
||||||| 596bf878
<<<<<<< HEAD
   "id": "29c11957",
||||||| b944554d
   "id": "d9d5dd05",
=======
   "id": "a98626d3",
>>>>>>> documentation-devel
=======
   "id": "989c591e",
>>>>>>> f8a184fea58c53eb88debec89cb7180bf225886f
   "metadata": {},
   "outputs": [],
   "source": [
    "plotExpression(sce, top_markers_symbol, x = \"cluster\", swap_rownames = \"Symbol\",\n",
    "               point_fun = function(...) list())"
   ]
  },
  {
   "cell_type": "markdown",
<<<<<<< HEAD
<<<<<<< HEAD
<<<<<<< HEAD
   "id": "ebb68737",
||||||| b944554d
   "id": "f9772c0b",
=======
   "id": "77799088",
>>>>>>> documentation-devel
||||||| 35cb6e7a
   "id": "77799088",
=======
   "id": "03ab4e60",
>>>>>>> documentation-devel
||||||| 596bf878
<<<<<<< HEAD
   "id": "ebb68737",
||||||| b944554d
   "id": "f9772c0b",
=======
   "id": "77799088",
>>>>>>> documentation-devel
=======
   "id": "0d0461f1",
>>>>>>> f8a184fea58c53eb88debec89cb7180bf225886f
   "metadata": {
    "lines_to_next_cell": 0
   },
   "source": [
    "We can use the [gget info](https://pachterlab.github.io/gget/info.html) module from the [gget](https://pachterlab.github.io/gget/) package to get additional information for these marker genes. For example, their [NCBI](https://www.ncbi.nlm.nih.gov/) description:"
   ]
  },
  {
   "cell_type": "code",
   "execution_count": null,
<<<<<<< HEAD
<<<<<<< HEAD
<<<<<<< HEAD
   "id": "62b5fe3a",
||||||| b944554d
   "id": "68fb0148",
=======
   "id": "30b3feab",
>>>>>>> documentation-devel
||||||| 35cb6e7a
   "id": "30b3feab",
=======
   "id": "d8c3b756",
>>>>>>> documentation-devel
||||||| 596bf878
<<<<<<< HEAD
   "id": "62b5fe3a",
||||||| b944554d
   "id": "68fb0148",
=======
   "id": "30b3feab",
>>>>>>> documentation-devel
=======
   "id": "78234ace",
>>>>>>> f8a184fea58c53eb88debec89cb7180bf225886f
   "metadata": {},
   "outputs": [],
   "source": [
    "gget_info <- gget$info(top_markers)\n",
    "\n",
    "rownames(gget_info) <- gget_info$ensembl_gene_name\n",
    "select(gget_info, ncbi_description)"
   ]
  },
  {
   "cell_type": "markdown",
<<<<<<< HEAD
<<<<<<< HEAD
<<<<<<< HEAD
   "id": "c8a1a8e3",
||||||| b944554d
   "id": "6fac0b10",
=======
   "id": "dd81744d",
>>>>>>> documentation-devel
||||||| 35cb6e7a
   "id": "dd81744d",
=======
   "id": "3883196a",
>>>>>>> documentation-devel
||||||| 596bf878
<<<<<<< HEAD
   "id": "c8a1a8e3",
||||||| b944554d
   "id": "6fac0b10",
=======
   "id": "dd81744d",
>>>>>>> documentation-devel
=======
   "id": "d979a39a",
>>>>>>> f8a184fea58c53eb88debec89cb7180bf225886f
   "metadata": {
    "lines_to_next_cell": 0
   },
   "source": [
    "# \"Spatial\" analyses for QC metrics\n",
    "Find k nearest neighbor graph in PCA space for Moran's I: We are not using `spdep` here since its `nb2listwdist()` function for distance based edge weighting requires 2-3 dimensional spatial coordinates while the coordinates here have 10 dimensions. Here, inverse distance weighting is used for edge weights."
   ]
  },
  {
   "cell_type": "code",
   "execution_count": null,
<<<<<<< HEAD
<<<<<<< HEAD
<<<<<<< HEAD
   "id": "9227a60a",
||||||| b944554d
   "id": "8bc2b6a1",
=======
   "id": "2628e0dd",
>>>>>>> documentation-devel
||||||| 35cb6e7a
   "id": "2628e0dd",
=======
   "id": "e26bf908",
>>>>>>> documentation-devel
||||||| 596bf878
<<<<<<< HEAD
   "id": "9227a60a",
||||||| b944554d
   "id": "8bc2b6a1",
=======
   "id": "2628e0dd",
>>>>>>> documentation-devel
=======
   "id": "422881fb",
>>>>>>> f8a184fea58c53eb88debec89cb7180bf225886f
   "metadata": {},
   "outputs": [],
   "source": [
    "foo <- findKNN(reducedDim(sce, \"PCA\")[,1:10], k=10, BNPARAM=AnnoyParam())\n",
    "# Split by row\n",
    "foo_nb <- asplit(foo$index, 1)\n",
    "dmat <- 1/foo$distance\n",
    "# Row normalize the weights\n",
    "dmat <- sweep(dmat, 1, rowSums(dmat), FUN = \"/\")\n",
    "glist <- asplit(dmat, 1)\n",
    "# Sort based on index\n",
    "ord <- lapply(foo_nb, order)\n",
    "foo_nb <- lapply(seq_along(foo_nb), function(i) foo_nb[[i]][ord[[i]]])\n",
    "class(foo_nb) <- \"nb\"\n",
    "glist <- lapply(seq_along(glist), function(i) glist[[i]][ord[[i]]])\n",
    "\n",
    "listw <- list(style = \"W\",\n",
    "              neighbours = foo_nb,\n",
    "              weights = glist)\n",
    "class(listw) <- \"listw\"\n",
    "attr(listw, \"region.id\") <- colnames(sce)"
   ]
  },
  {
   "cell_type": "markdown",
<<<<<<< HEAD
<<<<<<< HEAD
<<<<<<< HEAD
   "id": "050dc3b6",
||||||| b944554d
   "id": "7d4d94e1",
=======
   "id": "169a821e",
>>>>>>> documentation-devel
||||||| 35cb6e7a
   "id": "169a821e",
=======
   "id": "f0aedbdb",
>>>>>>> documentation-devel
||||||| 596bf878
<<<<<<< HEAD
   "id": "050dc3b6",
||||||| b944554d
   "id": "7d4d94e1",
=======
   "id": "169a821e",
>>>>>>> documentation-devel
=======
   "id": "5a88a2a7",
>>>>>>> f8a184fea58c53eb88debec89cb7180bf225886f
   "metadata": {
    "lines_to_next_cell": 0
   },
   "source": [
    "Because there is no histological space, we convert the SCE object into `SpatialFeatureExperiment` (SFE) to use the spatial analysis and plotting functions from `Voyager`, and pretend that the first 2 PCs are the histological space."
   ]
  },
  {
   "cell_type": "code",
   "execution_count": null,
<<<<<<< HEAD
<<<<<<< HEAD
<<<<<<< HEAD
   "id": "73babe1b",
||||||| b944554d
   "id": "671bb616",
=======
   "id": "105c946b",
>>>>>>> documentation-devel
||||||| 35cb6e7a
   "id": "105c946b",
=======
   "id": "d8901c28",
>>>>>>> documentation-devel
||||||| 596bf878
<<<<<<< HEAD
   "id": "73babe1b",
||||||| b944554d
   "id": "671bb616",
=======
   "id": "105c946b",
>>>>>>> documentation-devel
=======
   "id": "53f0dba1",
>>>>>>> f8a184fea58c53eb88debec89cb7180bf225886f
   "metadata": {},
   "outputs": [],
   "source": [
    "(sfe <- toSpatialFeatureExperiment(sce, spatialCoords = reducedDim(sce, \"PCA\")[,1:2],\n",
    "                                  spatialCoordsNames = NULL))"
   ]
  },
  {
   "cell_type": "markdown",
<<<<<<< HEAD
<<<<<<< HEAD
<<<<<<< HEAD
   "id": "7d912d73",
||||||| b944554d
   "id": "1c16cbe7",
=======
   "id": "e8b1ba3d",
>>>>>>> documentation-devel
||||||| 35cb6e7a
   "id": "e8b1ba3d",
=======
   "id": "095507c5",
>>>>>>> documentation-devel
||||||| 596bf878
<<<<<<< HEAD
   "id": "7d912d73",
||||||| b944554d
   "id": "1c16cbe7",
=======
   "id": "e8b1ba3d",
>>>>>>> documentation-devel
=======
   "id": "89a154ad",
>>>>>>> f8a184fea58c53eb88debec89cb7180bf225886f
   "metadata": {
    "lines_to_next_cell": 0
   },
   "source": [
    "Add the k nearest neighbor graph to the SFE object:"
   ]
  },
  {
   "cell_type": "code",
   "execution_count": null,
<<<<<<< HEAD
<<<<<<< HEAD
<<<<<<< HEAD
   "id": "faf6f58e",
||||||| b944554d
   "id": "fc1cb41b",
=======
   "id": "9aca4cf9",
>>>>>>> documentation-devel
||||||| 35cb6e7a
   "id": "9aca4cf9",
=======
   "id": "e04b1a89",
>>>>>>> documentation-devel
||||||| 596bf878
<<<<<<< HEAD
   "id": "faf6f58e",
||||||| b944554d
   "id": "fc1cb41b",
=======
   "id": "9aca4cf9",
>>>>>>> documentation-devel
=======
   "id": "cfd38d25",
>>>>>>> f8a184fea58c53eb88debec89cb7180bf225886f
   "metadata": {},
   "outputs": [],
   "source": [
    "colGraph(sfe, \"knn10\") <- listw"
   ]
  },
  {
   "cell_type": "markdown",
<<<<<<< HEAD
<<<<<<< HEAD
<<<<<<< HEAD
   "id": "da1e2c1e",
||||||| b944554d
   "id": "632721ff",
=======
   "id": "db1ad34e",
>>>>>>> documentation-devel
||||||| 35cb6e7a
   "id": "db1ad34e",
=======
   "id": "8e6da82c",
>>>>>>> documentation-devel
||||||| 596bf878
<<<<<<< HEAD
   "id": "da1e2c1e",
||||||| b944554d
   "id": "632721ff",
=======
   "id": "db1ad34e",
>>>>>>> documentation-devel
=======
   "id": "48ab7749",
>>>>>>> f8a184fea58c53eb88debec89cb7180bf225886f
   "metadata": {
    "lines_to_next_cell": 0
   },
   "source": [
    "## Moran's I"
   ]
  },
  {
   "cell_type": "code",
   "execution_count": null,
<<<<<<< HEAD
<<<<<<< HEAD
<<<<<<< HEAD
   "id": "48b3b76b",
||||||| b944554d
   "id": "243cac6f",
=======
   "id": "5e2f7df5",
>>>>>>> documentation-devel
||||||| 35cb6e7a
   "id": "5e2f7df5",
=======
   "id": "3e08842d",
>>>>>>> documentation-devel
||||||| 596bf878
<<<<<<< HEAD
   "id": "48b3b76b",
||||||| b944554d
   "id": "243cac6f",
=======
   "id": "5e2f7df5",
>>>>>>> documentation-devel
=======
   "id": "416cdebe",
>>>>>>> f8a184fea58c53eb88debec89cb7180bf225886f
   "metadata": {},
   "outputs": [],
   "source": [
    "sfe <- colDataMoransI(sfe, c(\"sum\", \"detected\", \"subsets_mito_percent\"))\n",
    "colFeatureData(sfe)[c(\"sum\", \"detected\", \"subsets_mito_percent\"),]"
   ]
  },
  {
   "cell_type": "markdown",
<<<<<<< HEAD
<<<<<<< HEAD
<<<<<<< HEAD
   "id": "229cddf9",
||||||| b944554d
   "id": "77f55e20",
=======
   "id": "a0038a8a",
>>>>>>> documentation-devel
||||||| 35cb6e7a
   "id": "a0038a8a",
=======
   "id": "d002952d",
>>>>>>> documentation-devel
||||||| 596bf878
<<<<<<< HEAD
   "id": "229cddf9",
||||||| b944554d
   "id": "77f55e20",
=======
   "id": "a0038a8a",
>>>>>>> documentation-devel
=======
   "id": "fe078a81",
>>>>>>> f8a184fea58c53eb88debec89cb7180bf225886f
   "metadata": {
    "lines_to_next_cell": 0
   },
   "source": [
    "For total UMI counts (sum) and genes detected (detected), Moran's I is quite strong, while it's positive but weaker for percentage of mitochondrial counts. The second column, K, is kurtosis of the feature of interest. \n",
    "\n",
    "## Moran plot\n",
    "\n",
    "How about the local variations on the k nearest neighbors graph? In the Moran plot, the x axis is the value for each cell, and the y axis is the average value among neighboring cells in the graph weighted by edge weights. The slope of the fitted line is Moran's I. Sometimes there are clusters in this plot, showing different kinds of neighborhoods."
   ]
  },
  {
   "cell_type": "code",
   "execution_count": null,
<<<<<<< HEAD
<<<<<<< HEAD
<<<<<<< HEAD
   "id": "88eba3d7",
||||||| b944554d
   "id": "90283681",
=======
   "id": "2cedfcd1",
>>>>>>> documentation-devel
||||||| 35cb6e7a
   "id": "2cedfcd1",
=======
   "id": "7816da4a",
>>>>>>> documentation-devel
||||||| 596bf878
<<<<<<< HEAD
   "id": "88eba3d7",
||||||| b944554d
   "id": "90283681",
=======
   "id": "2cedfcd1",
>>>>>>> documentation-devel
=======
   "id": "57d49afc",
>>>>>>> f8a184fea58c53eb88debec89cb7180bf225886f
   "metadata": {},
   "outputs": [],
   "source": [
    "sfe <- colDataUnivariate(sfe, \"moran.plot\", c(\"sum\", \"detected\", \"subsets_mito_percent\"))"
   ]
  },
  {
   "cell_type": "markdown",
<<<<<<< HEAD
<<<<<<< HEAD
<<<<<<< HEAD
   "id": "b62343a8",
||||||| b944554d
   "id": "fa7773f7",
=======
   "id": "08b65ad5",
>>>>>>> documentation-devel
||||||| 35cb6e7a
   "id": "08b65ad5",
=======
   "id": "f10bee87",
>>>>>>> documentation-devel
||||||| 596bf878
<<<<<<< HEAD
   "id": "b62343a8",
||||||| b944554d
   "id": "fa7773f7",
=======
   "id": "08b65ad5",
>>>>>>> documentation-devel
=======
   "id": "a0be3a5a",
>>>>>>> f8a184fea58c53eb88debec89cb7180bf225886f
   "metadata": {
    "lines_to_next_cell": 0
   },
   "source": [
    "The dashed lines are the averages on the x and y axes."
   ]
  },
  {
   "cell_type": "code",
   "execution_count": null,
<<<<<<< HEAD
<<<<<<< HEAD
<<<<<<< HEAD
   "id": "d13709ca",
||||||| b944554d
   "id": "20dd43bc",
=======
   "id": "a8efcab4",
>>>>>>> documentation-devel
||||||| 35cb6e7a
   "id": "a8efcab4",
=======
   "id": "6ec3e776",
>>>>>>> documentation-devel
||||||| 596bf878
<<<<<<< HEAD
   "id": "d13709ca",
||||||| b944554d
   "id": "20dd43bc",
=======
   "id": "a8efcab4",
>>>>>>> documentation-devel
=======
   "id": "cd8cf424",
>>>>>>> f8a184fea58c53eb88debec89cb7180bf225886f
   "metadata": {},
   "outputs": [],
   "source": [
    "moranPlot(sfe, \"sum\", color_by = \"cluster\")"
   ]
  },
  {
   "cell_type": "markdown",
<<<<<<< HEAD
<<<<<<< HEAD
<<<<<<< HEAD
   "id": "529c41a6",
||||||| b944554d
   "id": "28d6cd82",
=======
   "id": "a9e98151",
>>>>>>> documentation-devel
||||||| 35cb6e7a
   "id": "a9e98151",
=======
   "id": "977d72e6",
>>>>>>> documentation-devel
||||||| 596bf878
<<<<<<< HEAD
   "id": "529c41a6",
||||||| b944554d
   "id": "28d6cd82",
=======
   "id": "a9e98151",
>>>>>>> documentation-devel
=======
   "id": "9ab1b574",
>>>>>>> f8a184fea58c53eb88debec89cb7180bf225886f
   "metadata": {
    "lines_to_next_cell": 0
   },
   "source": [
    "While most cells are in the cluster around the average, there is a cluster of cells with lower total counts whose neighbors also have lower total counts. There also is a cluster of cells with higher total counts whose neighbors also have higher total counts. These clusters seem to be somewhat related to some gene expression based clusters."
   ]
  },
  {
   "cell_type": "code",
   "execution_count": null,
<<<<<<< HEAD
<<<<<<< HEAD
<<<<<<< HEAD
   "id": "1c92c8c8",
||||||| b944554d
   "id": "c2626af1",
=======
   "id": "3675426f",
>>>>>>> documentation-devel
||||||| 35cb6e7a
   "id": "3675426f",
=======
   "id": "bf10c362",
>>>>>>> documentation-devel
||||||| 596bf878
<<<<<<< HEAD
   "id": "1c92c8c8",
||||||| b944554d
   "id": "c2626af1",
=======
   "id": "3675426f",
>>>>>>> documentation-devel
=======
   "id": "1f4cd282",
>>>>>>> f8a184fea58c53eb88debec89cb7180bf225886f
   "metadata": {},
   "outputs": [],
   "source": [
    "moranPlot(sfe, \"detected\", color_by = \"cluster\")"
   ]
  },
  {
   "cell_type": "code",
   "execution_count": null,
<<<<<<< HEAD
<<<<<<< HEAD
<<<<<<< HEAD
   "id": "b09e42ca",
||||||| b944554d
   "id": "5af565d7",
=======
   "id": "b32fe29b",
>>>>>>> documentation-devel
||||||| 35cb6e7a
   "id": "b32fe29b",
=======
   "id": "3fd8cebd",
>>>>>>> documentation-devel
||||||| 596bf878
<<<<<<< HEAD
   "id": "b09e42ca",
||||||| b944554d
   "id": "5af565d7",
=======
   "id": "b32fe29b",
>>>>>>> documentation-devel
=======
   "id": "27962c37",
>>>>>>> f8a184fea58c53eb88debec89cb7180bf225886f
   "metadata": {},
   "outputs": [],
   "source": [
    "moranPlot(sfe, \"subsets_mito_percent\", color_by = \"cluster\")"
   ]
  },
  {
   "cell_type": "markdown",
<<<<<<< HEAD
<<<<<<< HEAD
<<<<<<< HEAD
   "id": "5afdfd20",
||||||| b944554d
   "id": "0690b9da",
=======
   "id": "83d9fa5c",
>>>>>>> documentation-devel
||||||| 35cb6e7a
   "id": "83d9fa5c",
=======
   "id": "a06fb09e",
>>>>>>> documentation-devel
||||||| 596bf878
<<<<<<< HEAD
   "id": "5afdfd20",
||||||| b944554d
   "id": "0690b9da",
=======
   "id": "83d9fa5c",
>>>>>>> documentation-devel
=======
   "id": "5ff450bc",
>>>>>>> f8a184fea58c53eb88debec89cb7180bf225886f
   "metadata": {},
   "source": [
    "There is one main cluster on this plot for the number of genes detected and for the percentage of mitochondrial counts. However, cells are somewhat separated by gene expression clusters. This is not surprising because the gene expression clusters are also based on the k nearest neighbor graph. Cluster 4 cells have a higher percentage of mitochondrial counts and so do their neighbors. \n",
    "\n",
    "## Local Moran's I\n",
    "Also see local Moran's I for these 3 QC metrics:"
   ]
  },
  {
   "cell_type": "code",
   "execution_count": null,
<<<<<<< HEAD
<<<<<<< HEAD
<<<<<<< HEAD
   "id": "4ce12880",
||||||| b944554d
   "id": "38c25f06",
=======
   "id": "19c550eb",
>>>>>>> documentation-devel
||||||| 35cb6e7a
   "id": "19c550eb",
=======
   "id": "a5eca21a",
>>>>>>> documentation-devel
||||||| 596bf878
<<<<<<< HEAD
   "id": "4ce12880",
||||||| b944554d
   "id": "38c25f06",
=======
   "id": "19c550eb",
>>>>>>> documentation-devel
=======
   "id": "34c499db",
>>>>>>> f8a184fea58c53eb88debec89cb7180bf225886f
   "metadata": {},
   "outputs": [],
   "source": [
    "sfe <- colDataUnivariate(sfe, \"localmoran\", c(\"sum\", \"detected\", \"subsets_mito_percent\"))"
   ]
  },
  {
   "cell_type": "markdown",
<<<<<<< HEAD
<<<<<<< HEAD
<<<<<<< HEAD
   "id": "437237d3",
||||||| b944554d
   "id": "1b3da348",
=======
   "id": "eb400455",
>>>>>>> documentation-devel
||||||| 35cb6e7a
   "id": "eb400455",
=======
   "id": "edf0c1d0",
>>>>>>> documentation-devel
||||||| 596bf878
<<<<<<< HEAD
   "id": "437237d3",
||||||| b944554d
   "id": "1b3da348",
=======
   "id": "eb400455",
>>>>>>> documentation-devel
=======
   "id": "85ccc9de",
>>>>>>> f8a184fea58c53eb88debec89cb7180bf225886f
   "metadata": {
    "lines_to_next_cell": 0
   },
   "source": [
    "Here, we don't have a histological space. So how can we visualize the local \"spatial\" statistics? [UMAP is bad](https://www.biorxiv.org/content/10.1101/2021.08.25.457696v1), but in this case PCA can somewhat separate the clusters. We can use the first 2 PCs as if they are the histological space. As a reference, we plot the metrics themselves and the clusters in the first 2 PCs. "
   ]
  },
  {
   "cell_type": "code",
   "execution_count": null,
<<<<<<< HEAD
<<<<<<< HEAD
<<<<<<< HEAD
   "id": "a9ac9821",
||||||| b944554d
   "id": "cd0b64da",
=======
   "id": "dcd701ec",
>>>>>>> documentation-devel
||||||| 35cb6e7a
   "id": "dcd701ec",
=======
   "id": "c533330c",
>>>>>>> documentation-devel
||||||| 596bf878
<<<<<<< HEAD
   "id": "a9ac9821",
||||||| b944554d
   "id": "cd0b64da",
=======
   "id": "dcd701ec",
>>>>>>> documentation-devel
=======
   "id": "c8db2a60",
>>>>>>> f8a184fea58c53eb88debec89cb7180bf225886f
   "metadata": {
    "fig.height": 6,
    "fig.width": 8
   },
   "outputs": [],
   "source": [
    "plotSpatialFeature(sfe, c(\"sum\", \"detected\", \"subsets_mito_percent\", \"cluster\"))"
   ]
  },
  {
   "cell_type": "markdown",
<<<<<<< HEAD
<<<<<<< HEAD
<<<<<<< HEAD
   "id": "9f7f6fe2",
||||||| b944554d
   "id": "2a75fc61",
=======
   "id": "c9f5cbb2",
>>>>>>> documentation-devel
||||||| 35cb6e7a
   "id": "c9f5cbb2",
=======
   "id": "7394b341",
>>>>>>> documentation-devel
||||||| 596bf878
<<<<<<< HEAD
   "id": "9f7f6fe2",
||||||| b944554d
   "id": "2a75fc61",
=======
   "id": "c9f5cbb2",
>>>>>>> documentation-devel
=======
   "id": "e1f78e6d",
>>>>>>> f8a184fea58c53eb88debec89cb7180bf225886f
   "metadata": {
    "lines_to_next_cell": 0
   },
   "source": [
    "Plot the local Moran's I for these metrics in the first 2 PCs:"
   ]
  },
  {
   "cell_type": "code",
   "execution_count": null,
<<<<<<< HEAD
<<<<<<< HEAD
<<<<<<< HEAD
   "id": "1eebfa43",
||||||| b944554d
   "id": "56a2fb2e",
=======
   "id": "550485e7",
>>>>>>> documentation-devel
||||||| 35cb6e7a
   "id": "550485e7",
=======
   "id": "e3b3f6dc",
>>>>>>> documentation-devel
||||||| 596bf878
<<<<<<< HEAD
   "id": "1eebfa43",
||||||| b944554d
   "id": "56a2fb2e",
=======
   "id": "550485e7",
>>>>>>> documentation-devel
=======
   "id": "78102c38",
>>>>>>> f8a184fea58c53eb88debec89cb7180bf225886f
   "metadata": {
    "fig.height": 6,
    "fig.width": 8
   },
   "outputs": [],
   "source": [
    "plotLocalResult(sfe, \"localmoran\", c(\"sum\", \"detected\", \"subsets_mito_percent\"), \n",
    "                colGeometryName = \"centroids\",\n",
    "                divergent = TRUE, diverge_center = 0, ncol = 2)"
   ]
  },
  {
   "cell_type": "markdown",
<<<<<<< HEAD
<<<<<<< HEAD
<<<<<<< HEAD
   "id": "5308f815",
||||||| b944554d
   "id": "4f28acc5",
=======
   "id": "5ffb5d94",
>>>>>>> documentation-devel
||||||| 35cb6e7a
   "id": "5ffb5d94",
=======
   "id": "558a63dd",
>>>>>>> documentation-devel
||||||| 596bf878
<<<<<<< HEAD
   "id": "5308f815",
||||||| b944554d
   "id": "4f28acc5",
=======
   "id": "5ffb5d94",
>>>>>>> documentation-devel
=======
   "id": "53c956cb",
>>>>>>> f8a184fea58c53eb88debec89cb7180bf225886f
   "metadata": {
    "lines_to_next_cell": 0
   },
   "source": [
    "However, what if there is no good 2D representation of the data for easy plotting? Remember that here the k nearest neighbor graph was computed on the first 10 PCs rather than the first 2 PCs. The graph is not tied to the 2D representation. We can still plot histograms to show the distribution and scatter plots to compare the same local metric for different variables, which can be colored by another variable such as cluster. This may be added to the next release of Voyager. For now, we add the results of interest to `colData(sfe)` and use the existing `colData` plotting functions from `scater` and `Voyager`."
   ]
  },
  {
   "cell_type": "code",
   "execution_count": null,
<<<<<<< HEAD
<<<<<<< HEAD
<<<<<<< HEAD
   "id": "a7e86461",
||||||| b944554d
   "id": "3596f1ae",
=======
   "id": "973bace1",
>>>>>>> documentation-devel
||||||| 35cb6e7a
   "id": "973bace1",
=======
   "id": "f6ad6c34",
>>>>>>> documentation-devel
||||||| 596bf878
<<<<<<< HEAD
   "id": "a7e86461",
||||||| b944554d
   "id": "3596f1ae",
=======
   "id": "973bace1",
>>>>>>> documentation-devel
=======
   "id": "49acfe32",
>>>>>>> f8a184fea58c53eb88debec89cb7180bf225886f
   "metadata": {},
   "outputs": [],
   "source": [
    "localResultAttrs(sfe, \"localmoran\", \"sum\")"
   ]
  },
  {
   "cell_type": "code",
   "execution_count": null,
<<<<<<< HEAD
<<<<<<< HEAD
<<<<<<< HEAD
   "id": "36ffed03",
||||||| b944554d
   "id": "21221939",
=======
   "id": "8efa66f5",
>>>>>>> documentation-devel
||||||| 35cb6e7a
   "id": "8efa66f5",
=======
   "id": "97d42c3d",
>>>>>>> documentation-devel
||||||| 596bf878
<<<<<<< HEAD
   "id": "36ffed03",
||||||| b944554d
   "id": "21221939",
=======
   "id": "8efa66f5",
>>>>>>> documentation-devel
=======
   "id": "c53764d9",
>>>>>>> f8a184fea58c53eb88debec89cb7180bf225886f
   "metadata": {},
   "outputs": [],
   "source": [
    "sfe$sum_localmoran <- localResult(sfe, \"localmoran\", \"sum\")[,\"Ii\"]\n",
    "sfe$detected_localmoran <- localResult(sfe, \"localmoran\", \"detected\")[,\"Ii\"]\n",
    "sfe$pct_mito_localmoran <- localResult(sfe, \"localmoran\", \"subsets_mito_percent\")[,\"Ii\"]"
   ]
  },
  {
   "cell_type": "code",
   "execution_count": null,
<<<<<<< HEAD
<<<<<<< HEAD
<<<<<<< HEAD
   "id": "e03e7797",
||||||| b944554d
   "id": "70e1434c",
=======
   "id": "495bb82a",
>>>>>>> documentation-devel
||||||| 35cb6e7a
   "id": "495bb82a",
=======
   "id": "61bb1c8e",
>>>>>>> documentation-devel
||||||| 596bf878
<<<<<<< HEAD
   "id": "e03e7797",
||||||| b944554d
   "id": "70e1434c",
=======
   "id": "495bb82a",
>>>>>>> documentation-devel
=======
   "id": "425852a7",
>>>>>>> f8a184fea58c53eb88debec89cb7180bf225886f
   "metadata": {},
   "outputs": [],
   "source": [
    "# Colorblind friendly palette\n",
    "data(\"ditto_colors\")"
   ]
  },
  {
   "cell_type": "code",
   "execution_count": null,
<<<<<<< HEAD
<<<<<<< HEAD
<<<<<<< HEAD
   "id": "943489c0",
||||||| b944554d
   "id": "ef680f4d",
=======
   "id": "0a2a4e62",
>>>>>>> documentation-devel
||||||| 35cb6e7a
   "id": "0a2a4e62",
=======
   "id": "d3c30452",
>>>>>>> documentation-devel
||||||| 596bf878
<<<<<<< HEAD
   "id": "943489c0",
||||||| b944554d
   "id": "ef680f4d",
=======
   "id": "0a2a4e62",
>>>>>>> documentation-devel
=======
   "id": "3474d9af",
>>>>>>> f8a184fea58c53eb88debec89cb7180bf225886f
   "metadata": {},
   "outputs": [],
   "source": [
    "plotColDataFreqpoly(sfe, c(\"sum_localmoran\", \"detected_localmoran\", \n",
    "                           \"pct_mito_localmoran\"), bins = 50, \n",
    "                    color_by = \"cluster\") +\n",
    "    scale_y_log10() +\n",
    "    annotation_logticks(sides = \"l\")"
   ]
  },
  {
   "cell_type": "markdown",
<<<<<<< HEAD
<<<<<<< HEAD
<<<<<<< HEAD
   "id": "43f65f97",
||||||| b944554d
   "id": "856f4d1d",
=======
   "id": "28c5f980",
>>>>>>> documentation-devel
||||||| 35cb6e7a
   "id": "28c5f980",
=======
   "id": "fdc558d9",
>>>>>>> documentation-devel
||||||| 596bf878
<<<<<<< HEAD
   "id": "43f65f97",
||||||| b944554d
   "id": "856f4d1d",
=======
   "id": "28c5f980",
>>>>>>> documentation-devel
=======
   "id": "5f1d1d1f",
>>>>>>> f8a184fea58c53eb88debec89cb7180bf225886f
   "metadata": {},
   "source": [
    "The y axis is log transformed (hence that warning when some bins have no cells), so the color of cells in the long tail can be seen because most cells don't have very strong local Moran's I. Cells in cluster 7 have high local Moran's I in total UMI counts and genes detected, which means that they tend to be more homogeneous in these QC metrics.\n",
    "\n",
    "How do local Moran's I for these QC metrics relate to each other?"
   ]
  },
  {
   "cell_type": "code",
   "execution_count": null,
<<<<<<< HEAD
<<<<<<< HEAD
<<<<<<< HEAD
   "id": "c6b2a48c",
||||||| b944554d
   "id": "ea3684a5",
=======
   "id": "3413e3a5",
>>>>>>> documentation-devel
||||||| 35cb6e7a
   "id": "3413e3a5",
=======
   "id": "2ce61840",
>>>>>>> documentation-devel
||||||| 596bf878
<<<<<<< HEAD
   "id": "c6b2a48c",
||||||| b944554d
   "id": "ea3684a5",
=======
   "id": "3413e3a5",
>>>>>>> documentation-devel
=======
   "id": "d70549b4",
>>>>>>> f8a184fea58c53eb88debec89cb7180bf225886f
   "metadata": {},
   "outputs": [],
   "source": [
    "plotColData(sfe, x = \"sum_localmoran\", y = \"detected_localmoran\", \n",
    "            color_by = \"cluster\") +\n",
    "    scale_color_manual(values = ditto_colors)"
   ]
  },
  {
   "cell_type": "markdown",
<<<<<<< HEAD
<<<<<<< HEAD
<<<<<<< HEAD
   "id": "e8e05a3e",
||||||| b944554d
   "id": "396c03df",
=======
   "id": "f86efb67",
>>>>>>> documentation-devel
||||||| 35cb6e7a
   "id": "f86efb67",
=======
   "id": "2e7babd0",
>>>>>>> documentation-devel
||||||| 596bf878
<<<<<<< HEAD
   "id": "e8e05a3e",
||||||| b944554d
   "id": "396c03df",
=======
   "id": "f86efb67",
>>>>>>> documentation-devel
=======
   "id": "056ac523",
>>>>>>> f8a184fea58c53eb88debec89cb7180bf225886f
   "metadata": {},
   "source": [
    "Cells more locally homogeneous in total UMI counts are also more homogeneous in number of genes detected, which is not surprising given the correlation between the two."
   ]
  },
  {
   "cell_type": "code",
   "execution_count": null,
<<<<<<< HEAD
<<<<<<< HEAD
<<<<<<< HEAD
   "id": "7c52882d",
||||||| b944554d
   "id": "577a8ae3",
=======
   "id": "6dc94a4f",
>>>>>>> documentation-devel
||||||| 35cb6e7a
   "id": "6dc94a4f",
=======
   "id": "6d946f37",
>>>>>>> documentation-devel
||||||| 596bf878
<<<<<<< HEAD
   "id": "7c52882d",
||||||| b944554d
   "id": "577a8ae3",
=======
   "id": "6dc94a4f",
>>>>>>> documentation-devel
=======
   "id": "457e9c16",
>>>>>>> f8a184fea58c53eb88debec89cb7180bf225886f
   "metadata": {},
   "outputs": [],
   "source": [
    "plotColData(sfe, x = \"sum_localmoran\", y = \"pct_mito_localmoran\", \n",
    "            color_by = \"cluster\") +\n",
    "    scale_color_manual(values = ditto_colors)"
   ]
  },
  {
   "cell_type": "markdown",
<<<<<<< HEAD
<<<<<<< HEAD
<<<<<<< HEAD
   "id": "fd942061",
||||||| b944554d
   "id": "815d19b0",
=======
   "id": "986d0092",
>>>>>>> documentation-devel
||||||| 35cb6e7a
   "id": "986d0092",
=======
   "id": "5a2b275b",
>>>>>>> documentation-devel
||||||| 596bf878
<<<<<<< HEAD
   "id": "fd942061",
||||||| b944554d
   "id": "815d19b0",
=======
   "id": "986d0092",
>>>>>>> documentation-devel
=======
   "id": "1a3bcab8",
>>>>>>> f8a184fea58c53eb88debec89cb7180bf225886f
   "metadata": {
    "lines_to_next_cell": 0
   },
   "source": [
    "For local Moran's I, `sum` vs percentage mitochondrial counts shows a more interesting pattern, highlighting clusters 4 and 7 as in the Moran plots.\n",
    "\n",
    "How does local Moran's I relate to the value itself?"
   ]
  },
  {
   "cell_type": "code",
   "execution_count": null,
<<<<<<< HEAD
<<<<<<< HEAD
<<<<<<< HEAD
   "id": "d0c33f42",
||||||| b944554d
   "id": "a5f6b689",
=======
   "id": "e363be40",
>>>>>>> documentation-devel
||||||| 35cb6e7a
   "id": "e363be40",
=======
   "id": "9d94537f",
>>>>>>> documentation-devel
||||||| 596bf878
<<<<<<< HEAD
   "id": "d0c33f42",
||||||| b944554d
   "id": "a5f6b689",
=======
   "id": "e363be40",
>>>>>>> documentation-devel
=======
   "id": "9e260f66",
>>>>>>> f8a184fea58c53eb88debec89cb7180bf225886f
   "metadata": {},
   "outputs": [],
   "source": [
    "plotColData(sfe, x = \"sum\", y = \"sum_localmoran\", color_by = \"cluster\") +\n",
    "    geom_density2d(data = as.data.frame(colData(sfe)),\n",
    "                   mapping = aes(x = sum, y = sum_localmoran), color = \"blue\", \n",
    "                   linewidth = 0.3) +\n",
    "    scale_color_manual(values = ditto_colors)"
   ]
  },
  {
   "cell_type": "markdown",
<<<<<<< HEAD
<<<<<<< HEAD
<<<<<<< HEAD
   "id": "9a6cfd75",
||||||| b944554d
   "id": "dcf8160c",
=======
   "id": "f2b464d0",
>>>>>>> documentation-devel
||||||| 35cb6e7a
   "id": "f2b464d0",
=======
   "id": "27cddebf",
>>>>>>> documentation-devel
||||||| 596bf878
<<<<<<< HEAD
   "id": "9a6cfd75",
||||||| b944554d
   "id": "dcf8160c",
=======
   "id": "f2b464d0",
>>>>>>> documentation-devel
=======
   "id": "ab730e4f",
>>>>>>> f8a184fea58c53eb88debec89cb7180bf225886f
   "metadata": {
    "lines_to_next_cell": 0
   },
   "source": [
    "In this case, generally cells with higher total counts also tend to have higher local Moran's I in total counts. However, there is another wing where cells with lower total counts have slightly higher local Moran's I in total counts and there's a central value of total counts with near 0 local Moran's I. The density contour shows that cells are concentrated at that central value.\n",
    "\n",
    "## Local spatial heteroscedasticity (LOSH)\n",
    "\n",
    "LOSH indicates heterogeneity around each cell in the k nearest neighbor graph."
   ]
  },
  {
   "cell_type": "code",
   "execution_count": null,
<<<<<<< HEAD
<<<<<<< HEAD
<<<<<<< HEAD
   "id": "22ff2625",
||||||| b944554d
   "id": "317efbf6",
=======
   "id": "7b59f2b3",
>>>>>>> documentation-devel
||||||| 35cb6e7a
   "id": "7b59f2b3",
=======
   "id": "670663f7",
>>>>>>> documentation-devel
||||||| 596bf878
<<<<<<< HEAD
   "id": "22ff2625",
||||||| b944554d
   "id": "317efbf6",
=======
   "id": "7b59f2b3",
>>>>>>> documentation-devel
=======
   "id": "6ff11ac6",
>>>>>>> f8a184fea58c53eb88debec89cb7180bf225886f
   "metadata": {},
   "outputs": [],
   "source": [
    "sfe <- colDataUnivariate(sfe, \"LOSH\", c(\"sum\", \"detected\", \"subsets_mito_percent\"))"
   ]
  },
  {
   "cell_type": "code",
   "execution_count": null,
<<<<<<< HEAD
<<<<<<< HEAD
<<<<<<< HEAD
   "id": "c5574c73",
||||||| b944554d
   "id": "738794fc",
=======
   "id": "7f0255d7",
>>>>>>> documentation-devel
||||||| 35cb6e7a
   "id": "7f0255d7",
=======
   "id": "6ac7fa43",
>>>>>>> documentation-devel
||||||| 596bf878
<<<<<<< HEAD
   "id": "c5574c73",
||||||| b944554d
   "id": "738794fc",
=======
   "id": "7f0255d7",
>>>>>>> documentation-devel
=======
   "id": "2701a670",
>>>>>>> f8a184fea58c53eb88debec89cb7180bf225886f
   "metadata": {
    "fig.height": 6,
    "fig.width": 8
   },
   "outputs": [],
   "source": [
    "plotLocalResult(sfe, \"LOSH\", c(\"sum\", \"detected\", \"subsets_mito_percent\"), \n",
    "                colGeometryName = \"centroids\", ncol = 2)"
   ]
  },
  {
   "cell_type": "markdown",
<<<<<<< HEAD
<<<<<<< HEAD
<<<<<<< HEAD
   "id": "e2fff15f",
||||||| b944554d
   "id": "77bd8a89",
=======
   "id": "ef21aaed",
>>>>>>> documentation-devel
||||||| 35cb6e7a
   "id": "ef21aaed",
=======
   "id": "76defe2e",
>>>>>>> documentation-devel
||||||| 596bf878
<<<<<<< HEAD
   "id": "e2fff15f",
||||||| b944554d
   "id": "77bd8a89",
=======
   "id": "ef21aaed",
>>>>>>> documentation-devel
=======
   "id": "53b3f08b",
>>>>>>> f8a184fea58c53eb88debec89cb7180bf225886f
   "metadata": {},
   "source": [
    "Here we make the same non-spatial plots for LOSH as in local Moran's I."
   ]
  },
  {
   "cell_type": "code",
   "execution_count": null,
<<<<<<< HEAD
<<<<<<< HEAD
<<<<<<< HEAD
   "id": "caa78db8",
||||||| b944554d
   "id": "6cd96e0b",
=======
   "id": "82e69e3d",
>>>>>>> documentation-devel
||||||| 35cb6e7a
   "id": "82e69e3d",
=======
   "id": "d9fbec6f",
>>>>>>> documentation-devel
||||||| 596bf878
<<<<<<< HEAD
   "id": "caa78db8",
||||||| b944554d
   "id": "6cd96e0b",
=======
   "id": "82e69e3d",
>>>>>>> documentation-devel
=======
   "id": "d0d37446",
>>>>>>> f8a184fea58c53eb88debec89cb7180bf225886f
   "metadata": {},
   "outputs": [],
   "source": [
    "localResultAttrs(sfe, \"LOSH\", \"sum\")"
   ]
  },
  {
   "cell_type": "code",
   "execution_count": null,
<<<<<<< HEAD
<<<<<<< HEAD
<<<<<<< HEAD
   "id": "080d1ede",
||||||| b944554d
   "id": "ffe0399e",
=======
   "id": "41e79e2d",
>>>>>>> documentation-devel
||||||| 35cb6e7a
   "id": "41e79e2d",
=======
   "id": "9339e332",
>>>>>>> documentation-devel
||||||| 596bf878
<<<<<<< HEAD
   "id": "080d1ede",
||||||| b944554d
   "id": "ffe0399e",
=======
   "id": "41e79e2d",
>>>>>>> documentation-devel
=======
   "id": "914c2b45",
>>>>>>> f8a184fea58c53eb88debec89cb7180bf225886f
   "metadata": {},
   "outputs": [],
   "source": [
    "sfe$sum_losh <- localResult(sfe, \"LOSH\", \"sum\")[,\"Hi\"]\n",
    "sfe$detected_losh <- localResult(sfe, \"LOSH\", \"detected\")[,\"Hi\"]\n",
    "sfe$pct_mito_losh <- localResult(sfe, \"LOSH\", \"subsets_mito_percent\")[,\"Hi\"]"
   ]
  },
  {
   "cell_type": "code",
   "execution_count": null,
<<<<<<< HEAD
<<<<<<< HEAD
<<<<<<< HEAD
   "id": "86b3999b",
||||||| b944554d
   "id": "bc2264c5",
=======
   "id": "356c0cfa",
>>>>>>> documentation-devel
||||||| 35cb6e7a
   "id": "356c0cfa",
=======
   "id": "011380c2",
>>>>>>> documentation-devel
||||||| 596bf878
<<<<<<< HEAD
   "id": "86b3999b",
||||||| b944554d
   "id": "bc2264c5",
=======
   "id": "356c0cfa",
>>>>>>> documentation-devel
=======
   "id": "7fc1a62a",
>>>>>>> f8a184fea58c53eb88debec89cb7180bf225886f
   "metadata": {},
   "outputs": [],
   "source": [
    "plotColDataFreqpoly(sfe, c(\"sum_losh\", \"detected_losh\", \n",
    "                           \"pct_mito_losh\"), bins = 50, \n",
    "                     color_by = \"cluster\") +\n",
    "    scale_y_log10() +\n",
    "    annotation_logticks(sides = \"l\")"
   ]
  },
  {
   "cell_type": "markdown",
<<<<<<< HEAD
<<<<<<< HEAD
<<<<<<< HEAD
   "id": "e1dd98fd",
||||||| b944554d
   "id": "ff52579c",
=======
   "id": "04042e37",
>>>>>>> documentation-devel
||||||| 35cb6e7a
   "id": "04042e37",
=======
   "id": "b27384c9",
>>>>>>> documentation-devel
||||||| 596bf878
<<<<<<< HEAD
   "id": "e1dd98fd",
||||||| b944554d
   "id": "ff52579c",
=======
   "id": "04042e37",
>>>>>>> documentation-devel
=======
   "id": "113804c7",
>>>>>>> f8a184fea58c53eb88debec89cb7180bf225886f
   "metadata": {},
   "source": [
    "Here, clusters 2 and 6 tend to be more locally heterogeneous. How do total counts and genes detected relate in LOSH?"
   ]
  },
  {
   "cell_type": "code",
   "execution_count": null,
<<<<<<< HEAD
<<<<<<< HEAD
<<<<<<< HEAD
   "id": "a5e5e511",
||||||| b944554d
   "id": "8622428e",
=======
   "id": "a81efb98",
>>>>>>> documentation-devel
||||||| 35cb6e7a
   "id": "a81efb98",
=======
   "id": "d5b344ae",
>>>>>>> documentation-devel
||||||| 596bf878
<<<<<<< HEAD
   "id": "a5e5e511",
||||||| b944554d
   "id": "8622428e",
=======
   "id": "a81efb98",
>>>>>>> documentation-devel
=======
   "id": "1530041b",
>>>>>>> f8a184fea58c53eb88debec89cb7180bf225886f
   "metadata": {},
   "outputs": [],
   "source": [
    "plotColData(sfe, x = \"sum_losh\", y = \"detected_losh\", color_by = \"cluster\") +\n",
    "    scale_color_manual(values = ditto_colors)"
   ]
  },
  {
   "cell_type": "markdown",
<<<<<<< HEAD
<<<<<<< HEAD
<<<<<<< HEAD
   "id": "c7d5b198",
||||||| b944554d
   "id": "e98e1fbb",
=======
   "id": "654e8ad0",
>>>>>>> documentation-devel
||||||| 35cb6e7a
   "id": "654e8ad0",
=======
   "id": "6a4843eb",
>>>>>>> documentation-devel
||||||| 596bf878
<<<<<<< HEAD
   "id": "c7d5b198",
||||||| b944554d
   "id": "e98e1fbb",
=======
   "id": "654e8ad0",
>>>>>>> documentation-devel
=======
   "id": "4cd11726",
>>>>>>> f8a184fea58c53eb88debec89cb7180bf225886f
   "metadata": {},
   "source": [
    "While generally cells higher in LOSH in total counts are also higher in LOSH in genes detected, there are some outliers that are very high in both, with more heterogeneous neighborhoods. Absolute distance to the neighbors is not taken into account when the adjacency matrix is row normalized. It would be interesting to see if those outliers tend to be further away from their 10 nearest neighbors, or in a region in the PCA space where cells are further apart.\n",
    "\n",
    "How does total counts itself relate to its LOSH?"
   ]
  },
  {
   "cell_type": "code",
   "execution_count": null,
<<<<<<< HEAD
<<<<<<< HEAD
<<<<<<< HEAD
   "id": "7ac76054",
||||||| b944554d
   "id": "809be8bb",
=======
   "id": "9164b5e8",
>>>>>>> documentation-devel
||||||| 35cb6e7a
   "id": "9164b5e8",
=======
   "id": "1cee36ee",
>>>>>>> documentation-devel
||||||| 596bf878
<<<<<<< HEAD
   "id": "7ac76054",
||||||| b944554d
   "id": "809be8bb",
=======
   "id": "9164b5e8",
>>>>>>> documentation-devel
=======
   "id": "f272448a",
>>>>>>> f8a184fea58c53eb88debec89cb7180bf225886f
   "metadata": {},
   "outputs": [],
   "source": [
    "plotColData(sfe, x = \"sum\", y = \"sum_losh\", color_by = \"cluster\") +\n",
    "    scale_color_manual(values = ditto_colors)"
   ]
  },
  {
   "cell_type": "markdown",
<<<<<<< HEAD
<<<<<<< HEAD
<<<<<<< HEAD
   "id": "4230c902",
||||||| b944554d
   "id": "61cca92c",
=======
   "id": "1bbd9beb",
>>>>>>> documentation-devel
||||||| 35cb6e7a
   "id": "1bbd9beb",
=======
   "id": "916a0d50",
>>>>>>> documentation-devel
||||||| 596bf878
<<<<<<< HEAD
   "id": "4230c902",
||||||| b944554d
   "id": "61cca92c",
=======
   "id": "1bbd9beb",
>>>>>>> documentation-devel
=======
   "id": "d39e90b0",
>>>>>>> f8a184fea58c53eb88debec89cb7180bf225886f
   "metadata": {
    "lines_to_next_cell": 0
   },
   "source": [
    "There does not seem to be a clear relationship in this case. \n",
    "\n",
    "# \"Spatial\" analyses for gene expression\n",
    "First, we need to reorganize the differential expression results:"
   ]
  },
  {
   "cell_type": "code",
   "execution_count": null,
<<<<<<< HEAD
<<<<<<< HEAD
<<<<<<< HEAD
   "id": "12c273ac",
||||||| b944554d
   "id": "c773612d",
=======
   "id": "a1f67d7b",
>>>>>>> documentation-devel
||||||| 35cb6e7a
   "id": "a1f67d7b",
=======
   "id": "2d3ce6f3",
>>>>>>> documentation-devel
||||||| 596bf878
<<<<<<< HEAD
   "id": "12c273ac",
||||||| b944554d
   "id": "c773612d",
=======
   "id": "a1f67d7b",
>>>>>>> documentation-devel
=======
   "id": "bdb8f75d",
>>>>>>> f8a184fea58c53eb88debec89cb7180bf225886f
   "metadata": {},
   "outputs": [],
   "source": [
    "top_markers_df <- lapply(seq_along(markers), function(i) {\n",
    "    out <- markers[[i]][markers[[i]]$FDR < 0.05, c(\"FDR\", \"summary.AUC\")]\n",
    "    if (nrow(out)) out$cluster <- i\n",
    "    out\n",
    "})\n",
    "top_markers_df <- do.call(rbind, top_markers_df)\n",
    "top_markers_df$symbol <- rowData(sce)[rownames(top_markers_df), \"Symbol\"]"
   ]
  },
  {
   "cell_type": "markdown",
<<<<<<< HEAD
<<<<<<< HEAD
<<<<<<< HEAD
   "id": "ba1ddcbc",
||||||| b944554d
   "id": "031bbe9c",
=======
   "id": "032dbfff",
>>>>>>> documentation-devel
||||||| 35cb6e7a
   "id": "032dbfff",
=======
   "id": "853206ac",
>>>>>>> documentation-devel
||||||| 596bf878
<<<<<<< HEAD
   "id": "ba1ddcbc",
||||||| b944554d
   "id": "031bbe9c",
=======
   "id": "032dbfff",
>>>>>>> documentation-devel
=======
   "id": "c1eb1b90",
>>>>>>> f8a184fea58c53eb88debec89cb7180bf225886f
   "metadata": {
    "lines_to_next_cell": 0
   },
   "source": [
    "## Moran's I"
   ]
  },
  {
   "cell_type": "code",
   "execution_count": null,
<<<<<<< HEAD
<<<<<<< HEAD
<<<<<<< HEAD
   "id": "3c42be49",
||||||| b944554d
   "id": "d7a79bd9",
=======
   "id": "ab408e51",
>>>>>>> documentation-devel
||||||| 35cb6e7a
   "id": "ab408e51",
=======
   "id": "ac6738b1",
>>>>>>> documentation-devel
||||||| 596bf878
<<<<<<< HEAD
   "id": "3c42be49",
||||||| b944554d
   "id": "d7a79bd9",
=======
   "id": "ab408e51",
>>>>>>> documentation-devel
=======
   "id": "ad05a6f9",
>>>>>>> f8a184fea58c53eb88debec89cb7180bf225886f
   "metadata": {},
   "outputs": [],
   "source": [
    "sfe <- runMoransI(sfe, features = hvgs, BPPARAM = MulticoreParam(2))"
   ]
  },
  {
   "cell_type": "markdown",
<<<<<<< HEAD
<<<<<<< HEAD
<<<<<<< HEAD
   "id": "151e298a",
||||||| b944554d
   "id": "a9082147",
=======
   "id": "663fe895",
>>>>>>> documentation-devel
||||||| 35cb6e7a
   "id": "663fe895",
=======
   "id": "3f949c63",
>>>>>>> documentation-devel
||||||| 596bf878
<<<<<<< HEAD
   "id": "151e298a",
||||||| b944554d
   "id": "a9082147",
=======
   "id": "663fe895",
>>>>>>> documentation-devel
=======
   "id": "64a9c286",
>>>>>>> f8a184fea58c53eb88debec89cb7180bf225886f
   "metadata": {
    "lines_to_next_cell": 0
   },
   "source": [
    "The results are added to `rowData(sfe)`. The NA's are for non-highly variable genes, as Moran's I was only computed for highly variable genes here."
   ]
  },
  {
   "cell_type": "code",
   "execution_count": null,
<<<<<<< HEAD
<<<<<<< HEAD
<<<<<<< HEAD
   "id": "90d651f1",
||||||| b944554d
   "id": "1135f4ae",
=======
   "id": "5a35e140",
>>>>>>> documentation-devel
||||||| 35cb6e7a
   "id": "5a35e140",
=======
   "id": "8fc49093",
>>>>>>> documentation-devel
||||||| 596bf878
<<<<<<< HEAD
   "id": "90d651f1",
||||||| b944554d
   "id": "1135f4ae",
=======
   "id": "5a35e140",
>>>>>>> documentation-devel
=======
   "id": "09dbef02",
>>>>>>> f8a184fea58c53eb88debec89cb7180bf225886f
   "metadata": {},
   "outputs": [],
   "source": [
    "rowData(sfe)"
   ]
  },
  {
   "cell_type": "markdown",
<<<<<<< HEAD
<<<<<<< HEAD
<<<<<<< HEAD
   "id": "d323307b",
||||||| b944554d
   "id": "bff127f0",
=======
   "id": "0e4aac0b",
>>>>>>> documentation-devel
||||||| 35cb6e7a
   "id": "0e4aac0b",
=======
   "id": "d82608bc",
>>>>>>> documentation-devel
||||||| 596bf878
<<<<<<< HEAD
   "id": "d323307b",
||||||| b944554d
   "id": "bff127f0",
=======
   "id": "0e4aac0b",
>>>>>>> documentation-devel
=======
   "id": "e4ad78b9",
>>>>>>> f8a184fea58c53eb88debec89cb7180bf225886f
   "metadata": {
    "lines_to_next_cell": 0
   },
   "source": [
    "How are the Moran's I's for highly variable genes distributed? Also, where are the top cluster marker genes in this distribution?"
   ]
  },
  {
   "cell_type": "code",
   "execution_count": null,
<<<<<<< HEAD
<<<<<<< HEAD
<<<<<<< HEAD
   "id": "81496df7",
||||||| b944554d
   "id": "aa89ecfb",
=======
   "id": "c0aee93d",
>>>>>>> documentation-devel
||||||| 35cb6e7a
   "id": "c0aee93d",
=======
   "id": "09611a67",
>>>>>>> documentation-devel
||||||| 596bf878
<<<<<<< HEAD
   "id": "81496df7",
||||||| b944554d
   "id": "aa89ecfb",
=======
   "id": "c0aee93d",
>>>>>>> documentation-devel
=======
   "id": "9b96d6aa",
>>>>>>> f8a184fea58c53eb88debec89cb7180bf225886f
   "metadata": {},
   "outputs": [],
   "source": [
    "plotRowDataHistogram(sfe, \"moran_sample01\", bins = 50) +\n",
    "    geom_vline(data = as.data.frame(rowData(sfe)[top_markers,]) |> \n",
    "                   mutate(index = seq_along(top_markers)),\n",
    "               aes(xintercept = moran_sample01, color = index)) +\n",
    "    scale_color_continuous(breaks = scales::breaks_width(2))"
   ]
  },
  {
   "cell_type": "markdown",
<<<<<<< HEAD
<<<<<<< HEAD
<<<<<<< HEAD
   "id": "6533a819",
||||||| b944554d
   "id": "c6792866",
=======
   "id": "a0b3017f",
>>>>>>> documentation-devel
||||||| 35cb6e7a
   "id": "a0b3017f",
=======
   "id": "fc1b1689",
>>>>>>> documentation-devel
||||||| 596bf878
<<<<<<< HEAD
   "id": "6533a819",
||||||| b944554d
   "id": "c6792866",
=======
   "id": "a0b3017f",
>>>>>>> documentation-devel
=======
   "id": "c8969db8",
>>>>>>> f8a184fea58c53eb88debec89cb7180bf225886f
   "metadata": {},
   "source": [
    "The top marker genes all have quite positive Moran's I on the k nearest neighbor graph. It would also be interesting to color this histogram by gene sets. Since the k nearest neighbor graph was found in PCA space, which is based on gene expression, as expected, Moran's I with this graph is mostly positive, although often not that strong. A small number of genes have slightly negative Moran's I. What do the top genes look like in PCA?"
   ]
  },
  {
   "cell_type": "code",
   "execution_count": null,
<<<<<<< HEAD
<<<<<<< HEAD
<<<<<<< HEAD
   "id": "1bc3de1f",
||||||| b944554d
   "id": "b07dc17d",
=======
   "id": "fc22a4b1",
>>>>>>> documentation-devel
||||||| 35cb6e7a
   "id": "fc22a4b1",
=======
   "id": "8204a2df",
>>>>>>> documentation-devel
||||||| 596bf878
<<<<<<< HEAD
   "id": "1bc3de1f",
||||||| b944554d
   "id": "b07dc17d",
=======
   "id": "fc22a4b1",
>>>>>>> documentation-devel
=======
   "id": "9492e0dc",
>>>>>>> f8a184fea58c53eb88debec89cb7180bf225886f
   "metadata": {
    "fig.height": 6,
    "fig.width": 8
   },
   "outputs": [],
   "source": [
    "top_moran <- head(rownames(sfe)[order(rowData(sfe)$moran_sample01, decreasing = TRUE)], 4)\n",
    "plotSpatialFeature(sfe, top_moran, ncol = 2)"
   ]
  },
  {
   "cell_type": "code",
   "execution_count": null,
<<<<<<< HEAD
<<<<<<< HEAD
<<<<<<< HEAD
   "id": "02e71583",
||||||| b944554d
   "id": "3384d553",
=======
   "id": "f9c08134",
>>>>>>> documentation-devel
||||||| 35cb6e7a
   "id": "f9c08134",
=======
   "id": "7fb4b90a",
>>>>>>> documentation-devel
||||||| 596bf878
<<<<<<< HEAD
   "id": "02e71583",
||||||| b944554d
   "id": "3384d553",
=======
   "id": "f9c08134",
>>>>>>> documentation-devel
=======
   "id": "0e45c94c",
>>>>>>> f8a184fea58c53eb88debec89cb7180bf225886f
   "metadata": {},
   "outputs": [],
   "source": [
    "top_moran_symbol <- rowData(sfe)[top_moran, \"Symbol\"]\n",
    "plotExpression(sfe, top_moran_symbol, swap_rownames = \"Symbol\")"
   ]
  },
  {
   "cell_type": "markdown",
<<<<<<< HEAD
<<<<<<< HEAD
<<<<<<< HEAD
   "id": "2b8548b3",
||||||| b944554d
   "id": "c143d038",
=======
   "id": "8b1eb028",
>>>>>>> documentation-devel
||||||| 35cb6e7a
   "id": "8b1eb028",
=======
   "id": "31453314",
>>>>>>> documentation-devel
||||||| 596bf878
<<<<<<< HEAD
   "id": "2b8548b3",
||||||| b944554d
   "id": "c143d038",
=======
   "id": "8b1eb028",
>>>>>>> documentation-devel
=======
   "id": "e0ba8a39",
>>>>>>> f8a184fea58c53eb88debec89cb7180bf225886f
   "metadata": {},
   "source": [
    "They are all marker genes for the same cluster, cluster 9. Perhaps these genes have high Moran's I because they are specific to a cell type. Then how does the Moran's I relate to cluster AUC and cluster differential expression p-value?"
   ]
  },
  {
   "cell_type": "code",
   "execution_count": null,
<<<<<<< HEAD
<<<<<<< HEAD
<<<<<<< HEAD
   "id": "f6fd6cac",
||||||| b944554d
   "id": "18c4efb4",
=======
   "id": "81c78f97",
>>>>>>> documentation-devel
||||||| 35cb6e7a
   "id": "81c78f97",
=======
   "id": "ce34d41d",
>>>>>>> documentation-devel
||||||| 596bf878
<<<<<<< HEAD
   "id": "f6fd6cac",
||||||| b944554d
   "id": "18c4efb4",
=======
   "id": "81c78f97",
>>>>>>> documentation-devel
=======
   "id": "02fe6dda",
>>>>>>> f8a184fea58c53eb88debec89cb7180bf225886f
   "metadata": {},
   "outputs": [],
   "source": [
    "# See if markers are unique to clusters\n",
    "anyDuplicated(rownames(top_markers_df))"
   ]
  },
  {
   "cell_type": "code",
   "execution_count": null,
<<<<<<< HEAD
<<<<<<< HEAD
<<<<<<< HEAD
   "id": "569b67b1",
||||||| b944554d
   "id": "d410d00c",
=======
   "id": "e83c117e",
>>>>>>> documentation-devel
||||||| 35cb6e7a
   "id": "e83c117e",
=======
   "id": "b64bbc55",
>>>>>>> documentation-devel
||||||| 596bf878
<<<<<<< HEAD
   "id": "569b67b1",
||||||| b944554d
   "id": "d410d00c",
=======
   "id": "e83c117e",
>>>>>>> documentation-devel
=======
   "id": "56b14b02",
>>>>>>> f8a184fea58c53eb88debec89cb7180bf225886f
   "metadata": {},
   "outputs": [],
   "source": [
    "top_markers_df$moran <- rowData(sfe)[rownames(top_markers_df), \"moran_sample01\"]\n",
    "top_markers_df$log_p_adj <- -log10(top_markers_df$FDR)\n",
    "top_markers_df$cluster <- factor(top_markers_df$cluster, \n",
    "                                 levels = seq_len(length(unique(top_markers_df$cluster))))"
   ]
  },
  {
   "cell_type": "markdown",
<<<<<<< HEAD
<<<<<<< HEAD
<<<<<<< HEAD
   "id": "7bd15093",
||||||| b944554d
   "id": "d3bf05c8",
=======
   "id": "4bad6aab",
>>>>>>> documentation-devel
||||||| 35cb6e7a
   "id": "4bad6aab",
=======
   "id": "b5d23448",
>>>>>>> documentation-devel
||||||| 596bf878
<<<<<<< HEAD
   "id": "7bd15093",
||||||| b944554d
   "id": "d3bf05c8",
=======
   "id": "4bad6aab",
>>>>>>> documentation-devel
=======
   "id": "0be3790e",
>>>>>>> f8a184fea58c53eb88debec89cb7180bf225886f
   "metadata": {
    "lines_to_next_cell": 0
   },
   "source": [
    "How does the differential expression p-value relate to Moran's I?"
   ]
  },
  {
   "cell_type": "code",
   "execution_count": null,
<<<<<<< HEAD
<<<<<<< HEAD
<<<<<<< HEAD
   "id": "b7cf2ff4",
||||||| b944554d
   "id": "f0a02620",
=======
   "id": "e32625e1",
>>>>>>> documentation-devel
||||||| 35cb6e7a
   "id": "e32625e1",
=======
   "id": "6e337655",
>>>>>>> documentation-devel
||||||| 596bf878
<<<<<<< HEAD
   "id": "b7cf2ff4",
||||||| b944554d
   "id": "f0a02620",
=======
   "id": "e32625e1",
>>>>>>> documentation-devel
=======
   "id": "8f95fae0",
>>>>>>> f8a184fea58c53eb88debec89cb7180bf225886f
   "metadata": {},
   "outputs": [],
   "source": [
    "as.data.frame(top_markers_df) |> \n",
    "    ggplot(aes(log_p_adj, moran)) +\n",
    "    geom_point(aes(color = cluster)) +\n",
    "    geom_smooth(method = \"lm\") +\n",
    "    scale_color_manual(values = ditto_colors)"
   ]
  },
  {
   "cell_type": "markdown",
<<<<<<< HEAD
<<<<<<< HEAD
<<<<<<< HEAD
   "id": "5fd05b26",
||||||| b944554d
   "id": "fb060edc",
=======
   "id": "f6467ae5",
>>>>>>> documentation-devel
||||||| 35cb6e7a
   "id": "f6467ae5",
=======
   "id": "b02204b0",
>>>>>>> documentation-devel
||||||| 596bf878
<<<<<<< HEAD
   "id": "5fd05b26",
||||||| b944554d
   "id": "fb060edc",
=======
   "id": "f6467ae5",
>>>>>>> documentation-devel
=======
   "id": "de3a77f6",
>>>>>>> f8a184fea58c53eb88debec89cb7180bf225886f
   "metadata": {},
   "source": [
    "Generally, more significant marker genes tend to have higher Moran's I. This is not surprising because the clusters and Moran's I here are both based on the k nearest neighbor graph."
   ]
  },
  {
   "cell_type": "code",
   "execution_count": null,
<<<<<<< HEAD
<<<<<<< HEAD
<<<<<<< HEAD
   "id": "72d57689",
||||||| b944554d
   "id": "0957ff3a",
=======
   "id": "afb5892e",
>>>>>>> documentation-devel
||||||| 35cb6e7a
   "id": "afb5892e",
=======
   "id": "3ae01a26",
>>>>>>> documentation-devel
||||||| 596bf878
<<<<<<< HEAD
   "id": "72d57689",
||||||| b944554d
   "id": "0957ff3a",
=======
   "id": "afb5892e",
>>>>>>> documentation-devel
=======
   "id": "e30003f4",
>>>>>>> f8a184fea58c53eb88debec89cb7180bf225886f
   "metadata": {},
   "outputs": [],
   "source": [
    "as.data.frame(top_markers_df) |> \n",
    "    ggplot(aes(summary.AUC, moran)) +\n",
    "    geom_point(aes(color = cluster)) +\n",
    "    geom_smooth(method = \"lm\") +\n",
    "    scale_color_manual(values = ditto_colors)"
   ]
  },
  {
   "cell_type": "markdown",
<<<<<<< HEAD
<<<<<<< HEAD
<<<<<<< HEAD
   "id": "b6963202",
||||||| b944554d
   "id": "65d6a8fe",
=======
   "id": "b826edd8",
>>>>>>> documentation-devel
||||||| 35cb6e7a
   "id": "b826edd8",
=======
   "id": "99620674",
>>>>>>> documentation-devel
||||||| 596bf878
<<<<<<< HEAD
   "id": "b6963202",
||||||| b944554d
   "id": "65d6a8fe",
=======
   "id": "b826edd8",
>>>>>>> documentation-devel
=======
   "id": "7e0fea9a",
>>>>>>> f8a184fea58c53eb88debec89cb7180bf225886f
   "metadata": {
    "lines_to_next_cell": 0
   },
   "source": [
    "Similarly, genes with higher AUC tend to have higher Moran's I. For other clusters, generally speaking, genes more specific to a cluster tend to have higher Moran's I.\n",
    "\n",
    "Let's use permutation testing to see if Moran's I is statistically significant:"
   ]
  },
  {
   "cell_type": "code",
   "execution_count": null,
<<<<<<< HEAD
<<<<<<< HEAD
<<<<<<< HEAD
   "id": "0bc0b024",
||||||| b944554d
   "id": "e42f7440",
=======
   "id": "ac2a7d83",
>>>>>>> documentation-devel
||||||| 35cb6e7a
   "id": "ac2a7d83",
=======
   "id": "542b7254",
>>>>>>> documentation-devel
||||||| 596bf878
<<<<<<< HEAD
   "id": "0bc0b024",
||||||| b944554d
   "id": "e42f7440",
=======
   "id": "ac2a7d83",
>>>>>>> documentation-devel
=======
   "id": "4714d307",
>>>>>>> f8a184fea58c53eb88debec89cb7180bf225886f
   "metadata": {},
   "outputs": [],
   "source": [
    "sfe <- runUnivariate(sfe, \"moran.mc\", features = top_markers, nsim = 200)"
   ]
  },
  {
   "cell_type": "code",
   "execution_count": null,
<<<<<<< HEAD
<<<<<<< HEAD
<<<<<<< HEAD
   "id": "1f11fde8",
||||||| b944554d
   "id": "7f38270f",
=======
   "id": "12a3fba0",
>>>>>>> documentation-devel
||||||| 35cb6e7a
   "id": "12a3fba0",
=======
   "id": "e24c09a6",
>>>>>>> documentation-devel
||||||| 596bf878
<<<<<<< HEAD
   "id": "1f11fde8",
||||||| b944554d
   "id": "7f38270f",
=======
   "id": "12a3fba0",
>>>>>>> documentation-devel
=======
   "id": "5cad8950",
>>>>>>> f8a184fea58c53eb88debec89cb7180bf225886f
   "metadata": {},
   "outputs": [],
   "source": [
    "top_markers_symbol"
   ]
  },
  {
   "cell_type": "code",
   "execution_count": null,
<<<<<<< HEAD
<<<<<<< HEAD
<<<<<<< HEAD
   "id": "ffc8ebab",
||||||| b944554d
   "id": "a3d5544b",
=======
   "id": "0672e391",
>>>>>>> documentation-devel
||||||| 35cb6e7a
   "id": "0672e391",
=======
   "id": "8fb5d21d",
>>>>>>> documentation-devel
||||||| 596bf878
<<<<<<< HEAD
   "id": "ffc8ebab",
||||||| b944554d
   "id": "a3d5544b",
=======
   "id": "0672e391",
>>>>>>> documentation-devel
=======
   "id": "bba894e2",
>>>>>>> f8a184fea58c53eb88debec89cb7180bf225886f
   "metadata": {},
   "outputs": [],
   "source": [
    "plotMoranMC(sfe, top_markers, swap_rownames = \"Symbol\")"
   ]
  },
  {
   "cell_type": "markdown",
<<<<<<< HEAD
<<<<<<< HEAD
<<<<<<< HEAD
   "id": "95b4c8fc",
||||||| b944554d
   "id": "e55182d0",
=======
   "id": "1e8cec0c",
>>>>>>> documentation-devel
||||||| 35cb6e7a
   "id": "1e8cec0c",
=======
   "id": "a2be2e76",
>>>>>>> documentation-devel
||||||| 596bf878
<<<<<<< HEAD
   "id": "95b4c8fc",
||||||| b944554d
   "id": "e55182d0",
=======
   "id": "1e8cec0c",
>>>>>>> documentation-devel
=======
   "id": "02c1b69e",
>>>>>>> f8a184fea58c53eb88debec89cb7180bf225886f
   "metadata": {},
   "source": [
    "They all seem to be very significant. \n",
    "\n",
    "The correlogram finds Moran's I for a higher order of neighbors and can be a proxy for distance. "
   ]
  },
  {
   "cell_type": "code",
   "execution_count": null,
<<<<<<< HEAD
<<<<<<< HEAD
<<<<<<< HEAD
   "id": "21356761",
||||||| b944554d
   "id": "95edcb33",
=======
   "id": "b1e2a114",
>>>>>>> documentation-devel
||||||| 35cb6e7a
   "id": "b1e2a114",
=======
   "id": "0d976f08",
>>>>>>> documentation-devel
||||||| 596bf878
<<<<<<< HEAD
   "id": "21356761",
||||||| b944554d
   "id": "95edcb33",
=======
   "id": "b1e2a114",
>>>>>>> documentation-devel
=======
   "id": "e82367aa",
>>>>>>> f8a184fea58c53eb88debec89cb7180bf225886f
   "metadata": {},
   "outputs": [],
   "source": [
    "system.time({\n",
    "    sfe <- runUnivariate(sfe, \"sp.correlogram\", top_markers, order = 6, \n",
    "                     zero.policy = TRUE, BPPARAM = MulticoreParam(2))\n",
    "})"
   ]
  },
  {
   "cell_type": "code",
   "execution_count": null,
<<<<<<< HEAD
<<<<<<< HEAD
<<<<<<< HEAD
   "id": "494d03b7",
||||||| b944554d
   "id": "635feb50",
=======
   "id": "0813622c",
>>>>>>> documentation-devel
||||||| 35cb6e7a
   "id": "0813622c",
=======
   "id": "5ffdb1af",
>>>>>>> documentation-devel
||||||| 596bf878
<<<<<<< HEAD
   "id": "494d03b7",
||||||| b944554d
   "id": "635feb50",
=======
   "id": "0813622c",
>>>>>>> documentation-devel
=======
   "id": "0a43cad2",
>>>>>>> f8a184fea58c53eb88debec89cb7180bf225886f
   "metadata": {},
   "outputs": [],
   "source": [
    "plotCorrelogram(sfe, top_markers, swap_rownames = \"Symbol\")"
   ]
  },
  {
   "cell_type": "markdown",
<<<<<<< HEAD
<<<<<<< HEAD
<<<<<<< HEAD
   "id": "47e02ba6",
||||||| b944554d
   "id": "d81e2bad",
=======
   "id": "0889cde1",
>>>>>>> documentation-devel
||||||| 35cb6e7a
   "id": "0889cde1",
=======
   "id": "96847b9b",
>>>>>>> documentation-devel
||||||| 596bf878
<<<<<<< HEAD
   "id": "47e02ba6",
||||||| b944554d
   "id": "d81e2bad",
=======
   "id": "0889cde1",
>>>>>>> documentation-devel
=======
   "id": "df719273",
>>>>>>> f8a184fea58c53eb88debec89cb7180bf225886f
   "metadata": {
    "lines_to_next_cell": 0
   },
   "source": [
    "We see different patterns of decay in spatial autocorrelation and different length scales of spatial autocorrelation. CLU is a marker gene very specific to the smallest cluster, so higher order neighbors are very likely to be from other clusters. Marker genes for the other larger clusters with hundreds of cells nevertheless display different patterns in the correlogram.\n",
    "\n",
    "## Local Moran's I"
   ]
  },
  {
   "cell_type": "code",
   "execution_count": null,
<<<<<<< HEAD
<<<<<<< HEAD
<<<<<<< HEAD
   "id": "96901bd5",
||||||| b944554d
   "id": "c21443f3",
=======
   "id": "b6f0bdfa",
>>>>>>> documentation-devel
||||||| 35cb6e7a
   "id": "b6f0bdfa",
=======
   "id": "77a3ea99",
>>>>>>> documentation-devel
||||||| 596bf878
<<<<<<< HEAD
   "id": "96901bd5",
||||||| b944554d
   "id": "c21443f3",
=======
   "id": "b6f0bdfa",
>>>>>>> documentation-devel
=======
   "id": "ecd66ab9",
>>>>>>> f8a184fea58c53eb88debec89cb7180bf225886f
   "metadata": {},
   "outputs": [],
   "source": [
    "sfe <- runUnivariate(sfe, \"localmoran\", features = top_markers)"
   ]
  },
  {
   "cell_type": "code",
   "execution_count": null,
<<<<<<< HEAD
<<<<<<< HEAD
<<<<<<< HEAD
   "id": "f7db037c",
||||||| b944554d
   "id": "16c0be99",
=======
   "id": "781967dd",
>>>>>>> documentation-devel
||||||| 35cb6e7a
   "id": "781967dd",
=======
   "id": "3f40ed4e",
>>>>>>> documentation-devel
||||||| 596bf878
<<<<<<< HEAD
   "id": "f7db037c",
||||||| b944554d
   "id": "16c0be99",
=======
   "id": "781967dd",
>>>>>>> documentation-devel
=======
   "id": "4c9a50df",
>>>>>>> f8a184fea58c53eb88debec89cb7180bf225886f
   "metadata": {
    "fig.height": 9,
    "fig.width": 12
   },
   "outputs": [],
   "source": [
    "plotLocalResult(sfe, \"localmoran\", top_markers, colGeometryName = \"centroids\", \n",
    "                divergent = TRUE, diverge_center = 0, ncol = 3,\n",
    "                swap_rownames = \"Symbol\")"
   ]
  },
  {
   "cell_type": "markdown",
<<<<<<< HEAD
<<<<<<< HEAD
<<<<<<< HEAD
   "id": "e7da5491",
||||||| b944554d
   "id": "b3be5cf6",
=======
   "id": "d37259ad",
>>>>>>> documentation-devel
||||||| 35cb6e7a
   "id": "d37259ad",
=======
   "id": "cc316b25",
>>>>>>> documentation-devel
||||||| 596bf878
<<<<<<< HEAD
   "id": "e7da5491",
||||||| b944554d
   "id": "b3be5cf6",
=======
   "id": "d37259ad",
>>>>>>> documentation-devel
=======
   "id": "a9e39f0a",
>>>>>>> f8a184fea58c53eb88debec89cb7180bf225886f
   "metadata": {},
   "source": [
    "We will also plot the histograms, but for now the results need to be added to `colData` first."
   ]
  },
  {
   "cell_type": "code",
   "execution_count": null,
<<<<<<< HEAD
<<<<<<< HEAD
<<<<<<< HEAD
   "id": "dc1184a8",
||||||| b944554d
   "id": "434398d3",
=======
   "id": "445421e2",
>>>>>>> documentation-devel
||||||| 35cb6e7a
   "id": "445421e2",
=======
   "id": "024d9316",
>>>>>>> documentation-devel
||||||| 596bf878
<<<<<<< HEAD
   "id": "dc1184a8",
||||||| b944554d
   "id": "434398d3",
=======
   "id": "445421e2",
>>>>>>> documentation-devel
=======
   "id": "10231eb3",
>>>>>>> f8a184fea58c53eb88debec89cb7180bf225886f
   "metadata": {},
   "outputs": [],
   "source": [
    "new_colname <- paste0(\"cluster\", seq_along(top_markers), \"_\", \n",
    "                      top_markers_symbol, \"_localmoran\")\n",
    "for (i in seq_along(top_markers)) {\n",
    "    g <- top_markers[i]\n",
    "    colData(sfe)[[new_colname[i]]] <- \n",
    "        localResult(sfe, \"localmoran\", g)[,\"Ii\"]\n",
    "}"
   ]
  },
  {
   "cell_type": "code",
   "execution_count": null,
<<<<<<< HEAD
<<<<<<< HEAD
<<<<<<< HEAD
   "id": "4e44f53c",
||||||| b944554d
   "id": "2708ccff",
=======
   "id": "5dc64f0b",
>>>>>>> documentation-devel
||||||| 35cb6e7a
   "id": "5dc64f0b",
=======
   "id": "a4d5a533",
>>>>>>> documentation-devel
||||||| 596bf878
<<<<<<< HEAD
   "id": "4e44f53c",
||||||| b944554d
   "id": "2708ccff",
=======
   "id": "5dc64f0b",
>>>>>>> documentation-devel
=======
   "id": "262a0c89",
>>>>>>> f8a184fea58c53eb88debec89cb7180bf225886f
   "metadata": {
    "fig.height": 12,
    "fig.width": 8
   },
   "outputs": [],
   "source": [
    "plotColDataFreqpoly(sfe, new_colname, color_by = \"cluster\") +\n",
    "    ggtitle(\"Local Moran's I\") +\n",
    "    theme(legend.position = \"top\") +\n",
    "    scale_y_log10() +\n",
    "    annotation_logticks(sides = \"l\")"
   ]
  },
  {
   "cell_type": "markdown",
<<<<<<< HEAD
<<<<<<< HEAD
<<<<<<< HEAD
   "id": "851b1640",
||||||| b944554d
   "id": "e07ea78d",
=======
   "id": "d26dda63",
>>>>>>> documentation-devel
||||||| 35cb6e7a
   "id": "d26dda63",
=======
   "id": "e09d633c",
>>>>>>> documentation-devel
||||||| 596bf878
<<<<<<< HEAD
   "id": "851b1640",
||||||| b944554d
   "id": "e07ea78d",
=======
   "id": "d26dda63",
>>>>>>> documentation-devel
=======
   "id": "16e17564",
>>>>>>> f8a184fea58c53eb88debec89cb7180bf225886f
   "metadata": {
    "lines_to_next_cell": 0
   },
   "source": [
    "Again, the y axis is log transformed to make the tail more visible. For some clusters, the top marker gene's local Moran's I forms its own peak for cells in the cluster with higher local Moran's I than other cells. However, sometimes cells within the cluster form a long tail shared with some cells from other clusters. Then the local Moran's I could be another method for differential expression. Or since both local Moran's I and Leiden clustering use the k nearest neighbor graph in PCA space, local Moran's I of marker genes or perhaps eigengenes signifying gene programs for each cell type on this k nearest neighbor graph can validate or criticize Leiden clusters. Furthermore, interestingly, for some genes, the tallest peak in the histogram is away from 0.\n",
    "\n",
    "The scatter plots as shown in the \"spatial\" analyses for the QC metrics section can be made to see how local Moran's I relates to the expression of the gene itself."
   ]
  },
  {
   "cell_type": "code",
   "execution_count": null,
<<<<<<< HEAD
<<<<<<< HEAD
<<<<<<< HEAD
   "id": "8a25cafd",
||||||| b944554d
   "id": "2567f798",
=======
   "id": "d77e6056",
>>>>>>> documentation-devel
||||||| 35cb6e7a
   "id": "d77e6056",
=======
   "id": "5b9f9ee3",
>>>>>>> documentation-devel
||||||| 596bf878
<<<<<<< HEAD
   "id": "8a25cafd",
||||||| b944554d
   "id": "2567f798",
=======
   "id": "d77e6056",
>>>>>>> documentation-devel
=======
   "id": "f3ecf83f",
>>>>>>> f8a184fea58c53eb88debec89cb7180bf225886f
   "metadata": {},
   "outputs": [],
   "source": [
    "i <- 6 # Change if running this notebook\n",
    "plotExpression(sfe, top_markers_symbol[i], x = new_colname[i], color_by = \"cluster\",\n",
    "               swap_rownames = \"Symbol\") +\n",
    "    scale_color_manual(values = ditto_colors) +\n",
    "    coord_flip() +\n",
    "    # comment out in case of error after changing i\n",
    "    geom_density2d(data = as.data.frame(colData(sfe)) |> \n",
    "                       mutate(gene = logcounts(sfe)[top_markers[i],]),\n",
    "                   mapping = aes(x = .data[[new_colname[i]]], y = gene), \n",
    "                   color = \"blue\", linewidth = 0.3) "
   ]
  },
  {
   "cell_type": "markdown",
<<<<<<< HEAD
<<<<<<< HEAD
<<<<<<< HEAD
   "id": "aac68734",
||||||| b944554d
   "id": "6e166825",
=======
   "id": "ce116374",
>>>>>>> documentation-devel
||||||| 35cb6e7a
   "id": "ce116374",
=======
   "id": "c230535c",
>>>>>>> documentation-devel
||||||| 596bf878
<<<<<<< HEAD
   "id": "aac68734",
||||||| b944554d
   "id": "6e166825",
=======
   "id": "ce116374",
>>>>>>> documentation-devel
=======
   "id": "2b5e3f7f",
>>>>>>> f8a184fea58c53eb88debec89cb7180bf225886f
   "metadata": {},
   "source": [
    "For this gene, just like for total UMI counts, there are two wings and a central value where local Moran's I is around 0. Generally, cells with higher expression of this gene have higher local Moran's I for this gene as well. The density contours show that cells concentrate around 0 expression and some weaker positive local Moran. The streak of cells with 0 expression means that many cells don't express this gene, and their neighbors have low and slightly homogeneous expression of this gene. This pattern may be different for different genes. Also, the p-values for each cell for local Moran's I are available and corrected for multiple hypothesis testing, and can be plotted. The p-values are based on the z score of the local Moran statistic, although how the statistic is distributed for gene expression data warrants more investigation. This p-value can also be computed with permutation (see `localmoran_perm()`). "
   ]
  },
  {
   "cell_type": "code",
   "execution_count": null,
<<<<<<< HEAD
<<<<<<< HEAD
<<<<<<< HEAD
   "id": "6757940c",
||||||| b944554d
   "id": "995290c7",
=======
   "id": "9b6cf88a",
>>>>>>> documentation-devel
||||||| 35cb6e7a
   "id": "9b6cf88a",
=======
   "id": "a4bac3fb",
>>>>>>> documentation-devel
||||||| 596bf878
<<<<<<< HEAD
   "id": "6757940c",
||||||| b944554d
   "id": "995290c7",
=======
   "id": "9b6cf88a",
>>>>>>> documentation-devel
=======
   "id": "ed2028ab",
>>>>>>> f8a184fea58c53eb88debec89cb7180bf225886f
   "metadata": {},
   "outputs": [],
   "source": [
    "localResultAttrs(sfe, \"localmoran\", top_markers[1])"
   ]
  },
  {
   "cell_type": "markdown",
<<<<<<< HEAD
<<<<<<< HEAD
<<<<<<< HEAD
   "id": "995e5981",
||||||| b944554d
   "id": "4824dfbb",
=======
   "id": "2ad34a77",
>>>>>>> documentation-devel
||||||| 35cb6e7a
   "id": "2ad34a77",
=======
   "id": "34dac44d",
>>>>>>> documentation-devel
||||||| 596bf878
<<<<<<< HEAD
   "id": "995e5981",
||||||| b944554d
   "id": "4824dfbb",
=======
   "id": "2ad34a77",
>>>>>>> documentation-devel
=======
   "id": "e22d111c",
>>>>>>> f8a184fea58c53eb88debec89cb7180bf225886f
   "metadata": {},
   "source": [
    "## LOSH"
   ]
  },
  {
   "cell_type": "code",
   "execution_count": null,
<<<<<<< HEAD
<<<<<<< HEAD
<<<<<<< HEAD
   "id": "f64cf6bd",
||||||| b944554d
   "id": "d1ac2bd2",
=======
   "id": "b59899f3",
>>>>>>> documentation-devel
||||||| 35cb6e7a
   "id": "b59899f3",
=======
   "id": "3f833999",
>>>>>>> documentation-devel
||||||| 596bf878
<<<<<<< HEAD
   "id": "f64cf6bd",
||||||| b944554d
   "id": "d1ac2bd2",
=======
   "id": "b59899f3",
>>>>>>> documentation-devel
=======
   "id": "60a27a48",
>>>>>>> f8a184fea58c53eb88debec89cb7180bf225886f
   "metadata": {},
   "outputs": [],
   "source": [
    "sfe <- runUnivariate(sfe, \"LOSH\", top_markers)"
   ]
  },
  {
   "cell_type": "code",
   "execution_count": null,
<<<<<<< HEAD
<<<<<<< HEAD
<<<<<<< HEAD
   "id": "e36b9e26",
||||||| b944554d
   "id": "38a19f38",
=======
   "id": "af3fb1de",
>>>>>>> documentation-devel
||||||| 35cb6e7a
   "id": "af3fb1de",
=======
   "id": "06caa0a3",
>>>>>>> documentation-devel
||||||| 596bf878
<<<<<<< HEAD
   "id": "e36b9e26",
||||||| b944554d
   "id": "38a19f38",
=======
   "id": "af3fb1de",
>>>>>>> documentation-devel
=======
   "id": "8cf922d3",
>>>>>>> f8a184fea58c53eb88debec89cb7180bf225886f
   "metadata": {
    "fig.height": 9,
    "fig.width": 12
   },
   "outputs": [],
   "source": [
    "plotLocalResult(sfe, \"LOSH\", top_markers, colGeometryName = \"centroids\", ncol = 3,\n",
    "                swap_rownames = \"Symbol\")"
   ]
  },
  {
   "cell_type": "markdown",
<<<<<<< HEAD
<<<<<<< HEAD
<<<<<<< HEAD
   "id": "3061a92c",
||||||| b944554d
   "id": "2a181630",
=======
   "id": "a5a80f80",
>>>>>>> documentation-devel
||||||| 35cb6e7a
   "id": "a5a80f80",
=======
   "id": "03f4208a",
>>>>>>> documentation-devel
||||||| 596bf878
<<<<<<< HEAD
   "id": "3061a92c",
||||||| b944554d
   "id": "2a181630",
=======
   "id": "a5a80f80",
>>>>>>> documentation-devel
=======
   "id": "3b222a97",
>>>>>>> f8a184fea58c53eb88debec89cb7180bf225886f
   "metadata": {
    "lines_to_next_cell": 0
   },
   "source": [
    "In the two genes on the right, it's interesting to see higher LOSH in the middle cluster. The two genes on the left have some outliers throwing off the dynamic range, but it seems that their high LOSH regions are different.\n",
    "\n",
    "Again, we plot the histograms:"
   ]
  },
  {
   "cell_type": "code",
   "execution_count": null,
<<<<<<< HEAD
<<<<<<< HEAD
<<<<<<< HEAD
   "id": "8aabfd9c",
||||||| b944554d
   "id": "f51b8866",
=======
   "id": "fd39a379",
>>>>>>> documentation-devel
||||||| 35cb6e7a
   "id": "fd39a379",
=======
   "id": "ade08965",
>>>>>>> documentation-devel
||||||| 596bf878
<<<<<<< HEAD
   "id": "8aabfd9c",
||||||| b944554d
   "id": "f51b8866",
=======
   "id": "fd39a379",
>>>>>>> documentation-devel
=======
   "id": "c6ed21c9",
>>>>>>> f8a184fea58c53eb88debec89cb7180bf225886f
   "metadata": {},
   "outputs": [],
   "source": [
    "new_colname2 <- paste0(\"cluster\", seq_along(top_markers), \"_\", \n",
    "                      top_markers_symbol, \"_losh\")\n",
    "for (i in seq_along(top_markers)) {\n",
    "    g <- top_markers[i]\n",
    "    colData(sfe)[[new_colname2[i]]] <- \n",
    "        localResult(sfe, \"LOSH\", g)[,\"Hi\"]\n",
    "}"
   ]
  },
  {
   "cell_type": "code",
   "execution_count": null,
<<<<<<< HEAD
<<<<<<< HEAD
<<<<<<< HEAD
   "id": "9931b04b",
||||||| b944554d
   "id": "1c2e404d",
=======
   "id": "2a23f8a1",
>>>>>>> documentation-devel
||||||| 35cb6e7a
   "id": "2a23f8a1",
=======
   "id": "377b0d98",
>>>>>>> documentation-devel
||||||| 596bf878
<<<<<<< HEAD
   "id": "9931b04b",
||||||| b944554d
   "id": "1c2e404d",
=======
   "id": "2a23f8a1",
>>>>>>> documentation-devel
=======
   "id": "38367562",
>>>>>>> f8a184fea58c53eb88debec89cb7180bf225886f
   "metadata": {
    "fig.height": 12,
    "fig.width": 8
   },
   "outputs": [],
   "source": [
    "plotColDataFreqpoly(sfe, new_colname2, color_by = \"cluster\") +\n",
    "    ggtitle(\"Local heteroscedasticity\") +\n",
    "    theme(legend.position = \"top\") +\n",
    "    scale_y_log10() +\n",
    "    annotation_logticks(sides = \"l\")"
   ]
  },
  {
   "cell_type": "markdown",
<<<<<<< HEAD
<<<<<<< HEAD
<<<<<<< HEAD
   "id": "16477fde",
||||||| b944554d
   "id": "ef8d1d3a",
=======
   "id": "7cf39866",
>>>>>>> documentation-devel
||||||| 35cb6e7a
   "id": "7cf39866",
=======
   "id": "d958f190",
>>>>>>> documentation-devel
||||||| 596bf878
<<<<<<< HEAD
   "id": "16477fde",
||||||| b944554d
   "id": "ef8d1d3a",
=======
   "id": "7cf39866",
>>>>>>> documentation-devel
=======
   "id": "6f7c263f",
>>>>>>> f8a184fea58c53eb88debec89cb7180bf225886f
   "metadata": {},
   "source": [
    "The relationship between expression and LOSH is more complicated. For some genes, such as the top marker gene for cluster 1 LYAR, cells in the cluster with higher expression also have higher LOSH - much like how in Poisson and negative binomial distributions, higher mean also means higher variance. However, some genes, such as the top marker gene for cluster 2 CTSS, have lower LOSH among cells that have higher expression, which means expression of this gene is more homogeneous within the cluster, consistent with local Moran. "
   ]
  },
  {
   "cell_type": "code",
   "execution_count": null,
<<<<<<< HEAD
<<<<<<< HEAD
<<<<<<< HEAD
   "id": "90978b8b",
||||||| b944554d
   "id": "39ffee82",
=======
   "id": "6c160d58",
>>>>>>> documentation-devel
||||||| 35cb6e7a
   "id": "6c160d58",
=======
   "id": "495b619a",
>>>>>>> documentation-devel
||||||| 596bf878
<<<<<<< HEAD
   "id": "90978b8b",
||||||| b944554d
   "id": "39ffee82",
=======
   "id": "6c160d58",
>>>>>>> documentation-devel
=======
   "id": "47693466",
>>>>>>> f8a184fea58c53eb88debec89cb7180bf225886f
   "metadata": {},
   "outputs": [],
   "source": [
    "i <- 6 # Change if running this notebook\n",
    "plotExpression(sfe, top_markers_symbol[i], x = new_colname2[i], \n",
    "               color_by = \"cluster\", swap_rownames = \"Symbol\") +\n",
    "    scale_color_manual(values = ditto_colors) +\n",
    "    coord_flip() +\n",
    "    # comment out in case of error after changing i\n",
    "    geom_density2d(data = as.data.frame(colData(sfe)) |> \n",
    "                       mutate(gene = logcounts(sfe)[top_markers[i],]),\n",
    "                   mapping = aes(x = .data[[new_colname2[i]]], y = gene), \n",
    "                   color = \"blue\", linewidth = 0.3) "
   ]
  },
  {
   "cell_type": "markdown",
<<<<<<< HEAD
<<<<<<< HEAD
<<<<<<< HEAD
   "id": "a603a484",
||||||| b944554d
   "id": "de5da7db",
=======
   "id": "d5fa6527",
>>>>>>> documentation-devel
||||||| 35cb6e7a
   "id": "d5fa6527",
=======
   "id": "be714a13",
>>>>>>> documentation-devel
||||||| 596bf878
<<<<<<< HEAD
   "id": "a603a484",
||||||| b944554d
   "id": "de5da7db",
=======
   "id": "d5fa6527",
>>>>>>> documentation-devel
=======
   "id": "80b0abb0",
>>>>>>> f8a184fea58c53eb88debec89cb7180bf225886f
   "metadata": {
    "lines_to_next_cell": 0
   },
   "source": [
    "For this gene, the density contour indicates that many cells don't express this gene and have homogeneous neighborhoods also with low expression. That streak around 0 expression means that neighbors of cells that don't express this gene have different levels of heterogeneity in this gene.\n",
    "\n",
    "## Moran plot\n",
    "\n",
    "Here we make Moran plots for the top marker genes."
   ]
  },
  {
   "cell_type": "code",
   "execution_count": null,
<<<<<<< HEAD
<<<<<<< HEAD
<<<<<<< HEAD
   "id": "4bba07ec",
||||||| b944554d
   "id": "11a7923e",
=======
   "id": "f4201280",
>>>>>>> documentation-devel
||||||| 35cb6e7a
   "id": "f4201280",
=======
   "id": "91665c6a",
>>>>>>> documentation-devel
||||||| 596bf878
<<<<<<< HEAD
   "id": "4bba07ec",
||||||| b944554d
   "id": "11a7923e",
=======
   "id": "f4201280",
>>>>>>> documentation-devel
=======
   "id": "c39bf68a",
>>>>>>> f8a184fea58c53eb88debec89cb7180bf225886f
   "metadata": {},
   "outputs": [],
   "source": [
    "sfe <- runUnivariate(sfe, \"moran.plot\", features = top_markers, colGraphName = \"knn10\")"
   ]
  },
  {
   "cell_type": "markdown",
<<<<<<< HEAD
<<<<<<< HEAD
<<<<<<< HEAD
   "id": "7330f147",
||||||| b944554d
   "id": "626d2b7f",
=======
   "id": "aa50e314",
>>>>>>> documentation-devel
||||||| 35cb6e7a
   "id": "aa50e314",
=======
   "id": "5eebbbb1",
>>>>>>> documentation-devel
||||||| 596bf878
<<<<<<< HEAD
   "id": "7330f147",
||||||| b944554d
   "id": "626d2b7f",
=======
   "id": "aa50e314",
>>>>>>> documentation-devel
=======
   "id": "b0606095",
>>>>>>> f8a184fea58c53eb88debec89cb7180bf225886f
   "metadata": {
    "lines_to_next_cell": 0
   },
   "source": [
    "As a reference, we show Moran's I for the top marker genes, which is the slope of the line fitted to the Moran scatter plot."
   ]
  },
  {
   "cell_type": "code",
   "execution_count": null,
<<<<<<< HEAD
<<<<<<< HEAD
<<<<<<< HEAD
   "id": "e5fd3acc",
||||||| b944554d
   "id": "b594311e",
=======
   "id": "bd08ac49",
>>>>>>> documentation-devel
||||||| 35cb6e7a
   "id": "bd08ac49",
=======
   "id": "b1e2aad3",
>>>>>>> documentation-devel
||||||| 596bf878
<<<<<<< HEAD
   "id": "e5fd3acc",
||||||| b944554d
   "id": "b594311e",
=======
   "id": "bd08ac49",
>>>>>>> documentation-devel
=======
   "id": "dde69ee3",
>>>>>>> f8a184fea58c53eb88debec89cb7180bf225886f
   "metadata": {},
   "outputs": [],
   "source": [
    "top_markers_df[top_markers,]"
   ]
  },
  {
   "cell_type": "markdown",
<<<<<<< HEAD
<<<<<<< HEAD
<<<<<<< HEAD
   "id": "6802de7f",
||||||| b944554d
   "id": "2b48fe01",
=======
   "id": "c41efb48",
>>>>>>> documentation-devel
||||||| 35cb6e7a
   "id": "c41efb48",
=======
   "id": "a2de72fd",
>>>>>>> documentation-devel
||||||| 596bf878
<<<<<<< HEAD
   "id": "6802de7f",
||||||| b944554d
   "id": "2b48fe01",
=======
   "id": "c41efb48",
>>>>>>> documentation-devel
=======
   "id": "35857c45",
>>>>>>> f8a184fea58c53eb88debec89cb7180bf225886f
   "metadata": {
    "lines_to_next_cell": 0
   },
   "source": [
    "There is no significant marker gene for cluster 7. These plots are shown in sequence"
   ]
  },
  {
   "cell_type": "code",
   "execution_count": null,
<<<<<<< HEAD
<<<<<<< HEAD
<<<<<<< HEAD
   "id": "ba291aab",
||||||| b944554d
   "id": "bfb1091c",
=======
   "id": "a40ba381",
>>>>>>> documentation-devel
||||||| 35cb6e7a
   "id": "a40ba381",
=======
   "id": "0036f4d6",
>>>>>>> documentation-devel
||||||| 596bf878
<<<<<<< HEAD
   "id": "ba291aab",
||||||| b944554d
   "id": "bfb1091c",
=======
   "id": "a40ba381",
>>>>>>> documentation-devel
=======
   "id": "a06d6f5a",
>>>>>>> f8a184fea58c53eb88debec89cb7180bf225886f
   "metadata": {},
   "outputs": [],
   "source": [
    "plts <- lapply(top_markers, moranPlot, sfe = sfe, color_by = \"cluster\", \n",
    "               swap_rownames = \"Symbol\")"
   ]
  },
  {
   "cell_type": "code",
   "execution_count": null,
<<<<<<< HEAD
<<<<<<< HEAD
<<<<<<< HEAD
   "id": "64b5a1d3",
||||||| b944554d
   "id": "07185cd9",
=======
   "id": "442a5509",
>>>>>>> documentation-devel
||||||| 35cb6e7a
   "id": "442a5509",
=======
   "id": "c34d56a2",
>>>>>>> documentation-devel
||||||| 596bf878
<<<<<<< HEAD
   "id": "64b5a1d3",
||||||| b944554d
   "id": "07185cd9",
=======
   "id": "442a5509",
>>>>>>> documentation-devel
=======
   "id": "59a77d4a",
>>>>>>> f8a184fea58c53eb88debec89cb7180bf225886f
   "metadata": {
    "fig.height": 9,
    "fig.width": 9
   },
   "outputs": [],
   "source": [
    "wrap_plots(plts, widths = 1, heights = 1) +\n",
    "    plot_layout(ncol = 3, guides = \"collect\") +\n",
    "    plot_annotation(tag_levels = \"1\")"
   ]
  },
  {
   "cell_type": "markdown",
<<<<<<< HEAD
<<<<<<< HEAD
<<<<<<< HEAD
   "id": "4f26b821",
||||||| b944554d
   "id": "34aacff2",
=======
   "id": "182f6483",
>>>>>>> documentation-devel
||||||| 35cb6e7a
   "id": "182f6483",
=======
   "id": "bd6f66a3",
>>>>>>> documentation-devel
||||||| 596bf878
<<<<<<< HEAD
   "id": "4f26b821",
||||||| b944554d
   "id": "34aacff2",
=======
   "id": "182f6483",
>>>>>>> documentation-devel
=======
   "id": "995c42de",
>>>>>>> f8a184fea58c53eb88debec89cb7180bf225886f
   "metadata": {
    "lines_to_next_cell": 0
   },
   "source": [
    "For some genes, the points are so concentrated around the origin that there aren't \"enough\" points elsewhere to plot the density contours. But for the cells that do express these genes, there are clusters on this plot. Some genes are not expressed in many cells, but those cells have neighbors that do express the gene, hence the vertical streak at x = 0. \n",
    "\n",
    "In this tutorial, we applied univariate spatial statistics to the k nearest neighbor graph in the gene expression PCA space rather than the histological space. Just like in histological space, it would be impractical to examine all these statistics gene by gene, so multivariate analyses that incorporate the k nearest neighbor graph may be interesting.\n",
    "\n",
    "# Session info"
   ]
  },
  {
   "cell_type": "code",
   "execution_count": null,
<<<<<<< HEAD
<<<<<<< HEAD
<<<<<<< HEAD
   "id": "79975e50",
||||||| b944554d
   "id": "1cd9deb7",
=======
   "id": "d6e6e596",
>>>>>>> documentation-devel
||||||| 35cb6e7a
   "id": "d6e6e596",
=======
   "id": "04df19c6",
>>>>>>> documentation-devel
||||||| 596bf878
<<<<<<< HEAD
   "id": "79975e50",
||||||| b944554d
   "id": "1cd9deb7",
=======
   "id": "d6e6e596",
>>>>>>> documentation-devel
=======
   "id": "9e20af64",
>>>>>>> f8a184fea58c53eb88debec89cb7180bf225886f
   "metadata": {
    "lines_to_next_cell": 0
   },
   "outputs": [],
   "source": [
    "sessionInfo()"
   ]
  },
  {
   "cell_type": "markdown",
<<<<<<< HEAD
<<<<<<< HEAD
<<<<<<< HEAD
   "id": "c430d6e1",
||||||| b944554d
   "id": "8f1d17a3",
=======
   "id": "7724b138",
>>>>>>> documentation-devel
||||||| 35cb6e7a
   "id": "7724b138",
=======
   "id": "1a5ae35b",
>>>>>>> documentation-devel
||||||| 596bf878
<<<<<<< HEAD
   "id": "c430d6e1",
||||||| b944554d
   "id": "8f1d17a3",
=======
   "id": "7724b138",
>>>>>>> documentation-devel
=======
   "id": "7e5a8374",
>>>>>>> f8a184fea58c53eb88debec89cb7180bf225886f
   "metadata": {},
   "source": []
  }
 ],
 "metadata": {
  "kernelspec": {
   "display_name": "R",
   "language": "R",
   "name": "ir"
  }
 },
 "nbformat": 4,
 "nbformat_minor": 5
}
