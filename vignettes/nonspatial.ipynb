{
 "cells": [
  {
   "cell_type": "raw",
<<<<<<< HEAD
<<<<<<< HEAD
   "id": "61eac5e0",
||||||| 6a30bf1
   "id": "f29453a2",
=======
   "id": "3dd04cea",
>>>>>>> documentation-devel
||||||| d28b18c
   "id": "3dd04cea",
=======
   "id": "8859b137",
>>>>>>> documentation-devel
   "metadata": {},
   "source": [
    "---\n",
    "title: \"Apply spatial analyses to non-spatial scRNA-seq data\"\n",
    "author: \"Lambda Moses\"\n",
    "date: \"`r Sys.Date()`\"\n",
    "output: \n",
    "  html_document:\n",
    "  toc: true\n",
    "  toc_float:\n",
    "    collapsed: false\n",
    "  toc_depth: 3\n",
    "bibliography: ref.bib\n",
    "vignette: >\n",
    "  %\\VignetteIndexEntry{nonspatial}\n",
    "  %\\VignetteEngine{knitr::rmarkdown}\n",
    "  %\\VignetteEncoding{UTF-8}\n",
    "---"
   ]
  },
  {
   "cell_type": "code",
   "execution_count": null,
<<<<<<< HEAD
<<<<<<< HEAD
   "id": "80c57aae",
||||||| 6a30bf1
   "id": "0f8f25eb",
=======
   "id": "0defdc15",
>>>>>>> documentation-devel
||||||| d28b18c
   "id": "0defdc15",
=======
   "id": "13582468",
>>>>>>> documentation-devel
   "metadata": {
    "tags": [
     "remove_cell"
    ]
   },
   "outputs": [],
   "source": [
    "knitr::opts_chunk$set(\n",
    "  collapse = TRUE,\n",
    "  comment = \"#>\"\n",
    ")"
   ]
  },
  {
   "cell_type": "code",
   "execution_count": null,
<<<<<<< HEAD
<<<<<<< HEAD
   "id": "bda04a2c",
||||||| 6a30bf1
   "id": "c8ea556f",
=======
   "id": "be58bb9c",
>>>>>>> documentation-devel
||||||| d28b18c
   "id": "be58bb9c",
=======
   "id": "e0c8af4e",
>>>>>>> documentation-devel
   "metadata": {
    "eval": false,
    "tags": [
     "remove_cell"
    ]
   },
   "outputs": [],
   "source": [
    "# Install Google Colab dependencies\n",
    "# Note: this can take 30+ minutes (many of the dependencies include C++ code, which needs to be compiled)\n",
    "\n",
    "# First install `sf`, `ragg` and `textshaping` and their system dependencies:\n",
    "system(\"apt-get -y update && apt-get install -y  libudunits2-dev libgdal-dev libgeos-dev libproj-dev libharfbuzz-dev libfribidi-dev\")\n",
    "install.packages(\"sf\")\n",
    "install.packages(\"textshaping\")\n",
    "install.packages(\"ragg\")\n",
    "\n",
    "# Install system dependencies of some other R packages that Voyager either imports or suggests:\n",
    "system(\"apt-get install -y libfribidi-dev libcairo2-dev libmagick++-dev\")\n",
    "\n",
    "# Install Voyager from Bioconductor:\n",
    "install.packages(\"BiocManager\")\n",
    "BiocManager::install(version = \"3.17\", ask = FALSE, update = FALSE, Ncpus = 2)\n",
    "BiocManager::install(\"scater\")\n",
    "system.time(\n",
    "  BiocManager::install(\"Voyager\", dependencies = TRUE, Ncpus = 2, update = FALSE)\n",
    ")\n",
    "\n",
    "# Additional dependencies for this notebook\n",
    "install.packages(\"reticulate\")\n",
    "system(\"pip3 install gget\")\n",
    "packageVersion(\"Voyager\")"
   ]
  },
  {
   "cell_type": "markdown",
<<<<<<< HEAD
<<<<<<< HEAD
   "id": "24f00575",
||||||| 6a30bf1
   "id": "bc1e794d",
=======
   "id": "beb0dffb",
>>>>>>> documentation-devel
||||||| d28b18c
   "id": "beb0dffb",
=======
   "id": "aec185b7",
>>>>>>> documentation-devel
   "metadata": {
    "lines_to_next_cell": 0
   },
   "source": [
    "# Introduction\n",
    "\n",
    "For areal spatial data, the spatial neighborhood graph is used to indicate proximity, and is required for all spatial analysis methods in the package `spdep`. One of the methods to find the spatial neighborhood graph is k nearest neighbors, which is also commonly used in gene expression PCA space for graph-based clustering of cells in non-spatial scRNA-seq data. Then what if we use the k nearest neighbors graph in PCA space rather than histological space for \"spatial\" analyses for non-spatial scRNA-seq data?\n",
    "\n",
    "Here we try such an analysis on a human peripheral blood mononuclear cells (PBMC) scRNA-seq dataset, which doesn't originally have histological spatial organization. These are the packages loaded for the analysis:"
   ]
  },
  {
   "cell_type": "code",
   "execution_count": null,
<<<<<<< HEAD
<<<<<<< HEAD
   "id": "3c9a7ce1",
||||||| 6a30bf1
   "id": "c24792c1",
=======
   "id": "ecd14713",
>>>>>>> documentation-devel
||||||| d28b18c
   "id": "ecd14713",
=======
   "id": "d672e430",
>>>>>>> documentation-devel
   "metadata": {
    "name": "setup"
   },
   "outputs": [],
   "source": [
    "library(Voyager)\n",
    "library(SpatialFeatureExperiment)\n",
    "library(SpatialExperiment)\n",
    "library(DropletUtils)\n",
    "library(BiocNeighbors)\n",
    "library(scater)\n",
    "library(scran)\n",
    "library(bluster)\n",
    "library(BiocParallel)\n",
    "library(scuttle)\n",
    "library(stringr)\n",
    "library(BiocSingular)\n",
    "library(spdep)\n",
    "library(patchwork)\n",
    "library(dplyr)\n",
    "library(reticulate)\n",
    "theme_set(theme_bw())"
   ]
  },
  {
   "cell_type": "code",
   "execution_count": null,
<<<<<<< HEAD
<<<<<<< HEAD
   "id": "1859b2d4",
||||||| 6a30bf1
   "id": "ffa5d15d",
=======
   "id": "4cba4a56",
>>>>>>> documentation-devel
||||||| d28b18c
   "id": "4cba4a56",
=======
   "id": "d698dea1",
>>>>>>> documentation-devel
   "metadata": {},
   "outputs": [],
   "source": [
    "# Specify Python version to use gget\n",
    "PY_PATH <- Sys.which(\"python\")\n",
    "use_python(PY_PATH)\n",
    "py_config()\n",
    "\n",
    "# Load gget\n",
    "gget <- import(\"gget\")"
   ]
  },
  {
   "cell_type": "markdown",
<<<<<<< HEAD
<<<<<<< HEAD
   "id": "c371618e",
||||||| 6a30bf1
   "id": "1fb6133c",
=======
   "id": "cb754163",
>>>>>>> documentation-devel
||||||| d28b18c
   "id": "cb754163",
=======
   "id": "65a79c8d",
>>>>>>> documentation-devel
   "metadata": {},
   "source": [
    "Here we download the filtered [Cell Ranger gene count matrix from the 10X website](https://support.10xgenomics.com/single-cell-gene-expression/datasets/3.0.2/5k_pbmc_v3_nextgem?). The empty droplets have already been removed."
   ]
  },
  {
   "cell_type": "code",
   "execution_count": null,
<<<<<<< HEAD
<<<<<<< HEAD
   "id": "eb236b36",
||||||| 6a30bf1
   "id": "efbf45ed",
=======
   "id": "721c738d",
>>>>>>> documentation-devel
||||||| d28b18c
   "id": "721c738d",
=======
   "id": "169bd838",
>>>>>>> documentation-devel
   "metadata": {},
   "outputs": [],
   "source": [
    "if (!dir.exists(\"filtered_feature_bc_matrix\")) {\n",
    "    download.file(\"https://cf.10xgenomics.com/samples/cell-exp/3.0.2/5k_pbmc_v3_nextgem/5k_pbmc_v3_nextgem_filtered_feature_bc_matrix.tar.gz\", destfile = \"5kpbmc.tar.gz\", quiet = TRUE)\n",
    "    system(\"tar -xzf 5kpbmc.tar.gz\")\n",
    "}"
   ]
  },
  {
   "cell_type": "markdown",
<<<<<<< HEAD
<<<<<<< HEAD
   "id": "2d77a778",
||||||| 6a30bf1
   "id": "b2e9c0c5",
=======
   "id": "45a6ec76",
>>>>>>> documentation-devel
||||||| d28b18c
   "id": "45a6ec76",
=======
   "id": "ec038fc9",
>>>>>>> documentation-devel
   "metadata": {
    "lines_to_next_cell": 0
   },
   "source": [
    "This is loaded into R as a `SingleCellExperiment` (SCE) object."
   ]
  },
  {
   "cell_type": "code",
   "execution_count": null,
<<<<<<< HEAD
<<<<<<< HEAD
   "id": "fca05430",
||||||| 6a30bf1
   "id": "f08b0f24",
=======
   "id": "c3d4a47d",
>>>>>>> documentation-devel
||||||| d28b18c
   "id": "c3d4a47d",
=======
   "id": "7e5dd0d9",
>>>>>>> documentation-devel
   "metadata": {},
   "outputs": [],
   "source": [
    "(sce <- read10xCounts(\"filtered_feature_bc_matrix/\"))"
   ]
  },
  {
   "cell_type": "code",
   "execution_count": null,
<<<<<<< HEAD
<<<<<<< HEAD
   "id": "7464c5ea",
||||||| 6a30bf1
   "id": "15c4ba8d",
=======
   "id": "b0922201",
>>>>>>> documentation-devel
||||||| d28b18c
   "id": "b0922201",
=======
   "id": "33368720",
>>>>>>> documentation-devel
   "metadata": {},
   "outputs": [],
   "source": [
    "colnames(sce) <- sce$Barcode"
   ]
  },
  {
   "cell_type": "markdown",
<<<<<<< HEAD
<<<<<<< HEAD
   "id": "17b5d4ff",
||||||| 6a30bf1
   "id": "4ef98dd3",
=======
   "id": "9ffc4459",
>>>>>>> documentation-devel
||||||| d28b18c
   "id": "9ffc4459",
=======
   "id": "40e0950f",
>>>>>>> documentation-devel
   "metadata": {
    "lines_to_next_cell": 0
   },
   "source": [
    "# Quality control (QC)\n",
    "Here we perform some basic QC, to remove low quality cells with high proportion of mitochondrially encoded counts. "
   ]
  },
  {
   "cell_type": "code",
   "execution_count": null,
<<<<<<< HEAD
<<<<<<< HEAD
   "id": "d49c64ce",
||||||| 6a30bf1
   "id": "993d63f1",
=======
   "id": "ae12507b",
>>>>>>> documentation-devel
||||||| d28b18c
   "id": "ae12507b",
=======
   "id": "46de893b",
>>>>>>> documentation-devel
   "metadata": {},
   "outputs": [],
   "source": [
    "is_mito <- str_detect(rowData(sce)$Symbol, \"^MT-\")\n",
    "sum(is_mito)"
   ]
  },
  {
   "cell_type": "code",
   "execution_count": null,
<<<<<<< HEAD
<<<<<<< HEAD
   "id": "f4187b96",
||||||| 6a30bf1
   "id": "6a0b53f4",
=======
   "id": "630818fa",
>>>>>>> documentation-devel
||||||| d28b18c
   "id": "630818fa",
=======
   "id": "ec14e7a6",
>>>>>>> documentation-devel
   "metadata": {},
   "outputs": [],
   "source": [
    "sce <- addPerCellQCMetrics(sce, subsets = list(mito = is_mito))\n",
    "names(colData(sce))"
   ]
  },
  {
   "cell_type": "markdown",
<<<<<<< HEAD
<<<<<<< HEAD
   "id": "8494582f",
||||||| 6a30bf1
   "id": "5977daf6",
=======
   "id": "24825acc",
>>>>>>> documentation-devel
||||||| d28b18c
   "id": "24825acc",
=======
   "id": "122ade7d",
>>>>>>> documentation-devel
   "metadata": {},
   "source": [
    "The `addPerCellQCMetrics()` function computes the total UMI counts detected per cell (`sum`), number of genes detected per cell (`detected`), `sum` and `detected` for mitochondrial counts, and percentage of mitochondrial counts per cell."
   ]
  },
  {
   "cell_type": "code",
   "execution_count": null,
<<<<<<< HEAD
<<<<<<< HEAD
   "id": "36cdb37f",
||||||| 6a30bf1
   "id": "5fe401b4",
=======
   "id": "367459bd",
>>>>>>> documentation-devel
||||||| d28b18c
   "id": "367459bd",
=======
   "id": "f4b797ee",
>>>>>>> documentation-devel
   "metadata": {},
   "outputs": [],
   "source": [
    "plotColData(sce, \"sum\") +\n",
    "    plotColData(sce, \"detected\") +\n",
    "    plotColData(sce, \"subsets_mito_percent\")"
   ]
  },
  {
   "cell_type": "markdown",
<<<<<<< HEAD
<<<<<<< HEAD
   "id": "e5fc4252",
||||||| 6a30bf1
   "id": "25629aaa",
=======
   "id": "f0c2b09a",
>>>>>>> documentation-devel
||||||| d28b18c
   "id": "f0c2b09a",
=======
   "id": "8e53f593",
>>>>>>> documentation-devel
   "metadata": {
    "lines_to_next_cell": 0
   },
   "source": [
    "Here a 2D histogram is plotted to better show point density on the plot."
   ]
  },
  {
   "cell_type": "code",
   "execution_count": null,
<<<<<<< HEAD
<<<<<<< HEAD
   "id": "ede0282c",
||||||| 6a30bf1
   "id": "95285441",
=======
   "id": "ddc8d8e1",
>>>>>>> documentation-devel
||||||| d28b18c
   "id": "ddc8d8e1",
=======
   "id": "fd507030",
>>>>>>> documentation-devel
   "metadata": {},
   "outputs": [],
   "source": [
    "plotColDataBin2D(sce, x = \"sum\", y = \"detected\")"
   ]
  },
  {
   "cell_type": "code",
   "execution_count": null,
<<<<<<< HEAD
<<<<<<< HEAD
   "id": "b42d65d2",
||||||| 6a30bf1
   "id": "3c960bb7",
=======
   "id": "98d715b5",
>>>>>>> documentation-devel
||||||| d28b18c
   "id": "98d715b5",
=======
   "id": "ebba24a7",
>>>>>>> documentation-devel
   "metadata": {},
   "outputs": [],
   "source": [
    "plotColDataBin2D(sce, x = \"sum\", y = \"subsets_mito_percent\")"
   ]
  },
  {
   "cell_type": "markdown",
<<<<<<< HEAD
<<<<<<< HEAD
   "id": "8505d274",
||||||| 6a30bf1
   "id": "3a6f21a8",
=======
   "id": "3b313c52",
>>>>>>> documentation-devel
||||||| d28b18c
   "id": "3b313c52",
=======
   "id": "33951e22",
>>>>>>> documentation-devel
   "metadata": {
    "lines_to_next_cell": 0
   },
   "source": [
    "Remove cells with >20% mitochondrial counts"
   ]
  },
  {
   "cell_type": "code",
   "execution_count": null,
<<<<<<< HEAD
<<<<<<< HEAD
   "id": "09c5fb35",
||||||| 6a30bf1
   "id": "37716feb",
=======
   "id": "c83215fe",
>>>>>>> documentation-devel
||||||| d28b18c
   "id": "c83215fe",
=======
   "id": "c6c0a4d1",
>>>>>>> documentation-devel
   "metadata": {},
   "outputs": [],
   "source": [
    "sce <- sce[, sce$subsets_mito_percent < 20]\n",
    "sce <- sce[rowSums(counts(sce)) > 0,]"
   ]
  },
  {
   "cell_type": "markdown",
<<<<<<< HEAD
<<<<<<< HEAD
   "id": "7095b301",
||||||| 6a30bf1
   "id": "81bc5fb6",
=======
   "id": "d160fa67",
>>>>>>> documentation-devel
||||||| d28b18c
   "id": "d160fa67",
=======
   "id": "59173960",
>>>>>>> documentation-devel
   "metadata": {
    "lines_to_next_cell": 0
   },
   "source": [
    "# Basic non-spatial analyses\n",
    "Here we normalize the data, perform PCA, cluster the cells, and find marker genes for the clusters."
   ]
  },
  {
   "cell_type": "code",
   "execution_count": null,
<<<<<<< HEAD
<<<<<<< HEAD
   "id": "c3fb9601",
||||||| 6a30bf1
   "id": "96c4c684",
=======
   "id": "1fd4b7f4",
>>>>>>> documentation-devel
||||||| d28b18c
   "id": "1fd4b7f4",
=======
   "id": "279765a1",
>>>>>>> documentation-devel
   "metadata": {},
   "outputs": [],
   "source": [
    "#clusts <- quickCluster(sce)\n",
    "#sce <- computeSumFactors(sce, cluster = clusts)\n",
    "#sce <- sce[, sizeFactors(sce) > 0]\n",
    "sce <- logNormCounts(sce)"
   ]
  },
  {
   "cell_type": "markdown",
<<<<<<< HEAD
<<<<<<< HEAD
   "id": "b9e55f5a",
||||||| 6a30bf1
   "id": "dc3cc4a1",
=======
   "id": "3f3295b7",
>>>>>>> documentation-devel
||||||| d28b18c
   "id": "3f3295b7",
=======
   "id": "b7f66db3",
>>>>>>> documentation-devel
   "metadata": {
    "lines_to_next_cell": 0
   },
   "source": [
    "Use the highly variable genes for PCA:"
   ]
  },
  {
   "cell_type": "code",
   "execution_count": null,
<<<<<<< HEAD
<<<<<<< HEAD
   "id": "828d4295",
||||||| 6a30bf1
   "id": "3ff66cf6",
=======
   "id": "0f20f202",
>>>>>>> documentation-devel
||||||| d28b18c
   "id": "0f20f202",
=======
   "id": "18ea6b55",
>>>>>>> documentation-devel
   "metadata": {},
   "outputs": [],
   "source": [
    "dec <- modelGeneVar(sce, lowess = FALSE)\n",
    "hvgs <- getTopHVGs(dec, n = 2000)"
   ]
  },
  {
   "cell_type": "code",
   "execution_count": null,
<<<<<<< HEAD
<<<<<<< HEAD
   "id": "d6791952",
||||||| 6a30bf1
   "id": "1d288b3c",
=======
   "id": "f4057144",
>>>>>>> documentation-devel
||||||| d28b18c
   "id": "f4057144",
=======
   "id": "ce1a5cb4",
>>>>>>> documentation-devel
   "metadata": {},
   "outputs": [],
   "source": [
    "set.seed(29)\n",
    "sce <- runPCA(sce, ncomponents = 30, BSPARAM = IrlbaParam(),\n",
    "              subset_row = hvgs, scale = TRUE)"
   ]
  },
  {
   "cell_type": "markdown",
<<<<<<< HEAD
<<<<<<< HEAD
   "id": "e5d490b0",
||||||| 6a30bf1
   "id": "1b9b9678",
=======
   "id": "eb41fe42",
>>>>>>> documentation-devel
||||||| d28b18c
   "id": "eb41fe42",
=======
   "id": "dd79d4f6",
>>>>>>> documentation-devel
   "metadata": {
    "lines_to_next_cell": 0
   },
   "source": [
    "How many PCs shall we use for further analyses?"
   ]
  },
  {
   "cell_type": "code",
   "execution_count": null,
<<<<<<< HEAD
<<<<<<< HEAD
   "id": "fb0909f2",
||||||| 6a30bf1
   "id": "879b62f3",
=======
   "id": "4891b518",
>>>>>>> documentation-devel
||||||| d28b18c
   "id": "4891b518",
=======
   "id": "15d5028c",
>>>>>>> documentation-devel
   "metadata": {},
   "outputs": [],
   "source": [
    "ElbowPlot(sce, ndims = 30)"
   ]
  },
  {
   "cell_type": "markdown",
<<<<<<< HEAD
<<<<<<< HEAD
   "id": "9014092b",
||||||| 6a30bf1
   "id": "570eb942",
=======
   "id": "42622d88",
>>>>>>> documentation-devel
||||||| d28b18c
   "id": "42622d88",
=======
   "id": "4ec6b0f1",
>>>>>>> documentation-devel
   "metadata": {},
   "source": [
    "Variance explained drops sharply from PC1 and again from PC4 and then levels off. Plot genes with the largest loadings of the top 4 PCs:"
   ]
  },
  {
   "cell_type": "code",
   "execution_count": null,
<<<<<<< HEAD
<<<<<<< HEAD
   "id": "6d38fe70",
||||||| 6a30bf1
   "id": "9d9d0b3e",
=======
   "id": "435df38f",
>>>>>>> documentation-devel
||||||| d28b18c
   "id": "435df38f",
=======
   "id": "e9394ac4",
>>>>>>> documentation-devel
   "metadata": {
    "lines_to_next_cell": 2
   },
   "outputs": [],
   "source": [
    "plotDimLoadings(sce, swap_rownames = \"Symbol\")"
   ]
  },
  {
   "cell_type": "markdown",
<<<<<<< HEAD
<<<<<<< HEAD
   "id": "157b7335",
||||||| 6a30bf1
   "id": "831c0ee0",
=======
   "id": "7394ac98",
>>>>>>> documentation-devel
||||||| d28b18c
   "id": "7394ac98",
=======
   "id": "b55b9009",
>>>>>>> documentation-devel
   "metadata": {},
   "source": [
    "To keep a little more information, we use 10 PCs, after which variance explained levels off even more."
   ]
  },
  {
   "cell_type": "code",
   "execution_count": null,
<<<<<<< HEAD
<<<<<<< HEAD
   "id": "e8334176",
||||||| 6a30bf1
   "id": "0848da0c",
=======
   "id": "db2f4ead",
>>>>>>> documentation-devel
||||||| d28b18c
   "id": "db2f4ead",
=======
   "id": "0d98f16d",
>>>>>>> documentation-devel
   "metadata": {},
   "outputs": [],
   "source": [
    "sce$cluster <- clusterRows(reducedDim(sce, \"PCA\")[,1:10],\n",
    "                           BLUSPARAM = SNNGraphParam(cluster.fun = \"leiden\",\n",
    "                                                     k = 10,\n",
    "                                                     cluster.args = list(\n",
    "                                                         resolution=0.5,\n",
    "                                                         objective_function = \"modularity\"\n",
    "                                                     )))"
   ]
  },
  {
   "cell_type": "markdown",
<<<<<<< HEAD
<<<<<<< HEAD
   "id": "67ad8075",
||||||| 6a30bf1
   "id": "7cac4b25",
=======
   "id": "aae78dc3",
>>>>>>> documentation-devel
||||||| d28b18c
   "id": "aae78dc3",
=======
   "id": "0b828274",
>>>>>>> documentation-devel
   "metadata": {},
   "source": [
    "Here we plot the cells in the first 4 PCs in a matrix plot. The diagonals are density plots of the number of cells as projected on each PC. The x axis should correspond to the columns of the matrix plot, and the y axis should correspond to the rows, so the plot in row 1 column 2 has PC2 in the x axis and PC1 in the y axis. The cells are colored by clusters found in the previous code chunk."
   ]
  },
  {
   "cell_type": "code",
   "execution_count": null,
<<<<<<< HEAD
<<<<<<< HEAD
   "id": "b4c00ef5",
||||||| 6a30bf1
   "id": "4b66c62b",
=======
   "id": "d7dc864b",
>>>>>>> documentation-devel
||||||| d28b18c
   "id": "d7dc864b",
=======
   "id": "c184deaa",
>>>>>>> documentation-devel
   "metadata": {
    "fig.height": 9,
    "fig.width": 9
   },
   "outputs": [],
   "source": [
    "plotPCA(sce, ncomponents = 4, color_by = \"cluster\")"
   ]
  },
  {
   "cell_type": "markdown",
<<<<<<< HEAD
<<<<<<< HEAD
   "id": "629ad3e1",
||||||| 6a30bf1
   "id": "e7f71503",
=======
   "id": "cd76539e",
>>>>>>> documentation-devel
||||||| d28b18c
   "id": "cd76539e",
=======
   "id": "a52e9e4e",
>>>>>>> documentation-devel
   "metadata": {
    "lines_to_next_cell": 0
   },
   "source": [
    "How many cells are there in each cluster?"
   ]
  },
  {
   "cell_type": "code",
   "execution_count": null,
<<<<<<< HEAD
<<<<<<< HEAD
   "id": "3e02e7f6",
||||||| 6a30bf1
   "id": "2306f026",
=======
   "id": "1379878d",
>>>>>>> documentation-devel
||||||| d28b18c
   "id": "1379878d",
=======
   "id": "e198036d",
>>>>>>> documentation-devel
   "metadata": {},
   "outputs": [],
   "source": [
    "table(sce$cluster)"
   ]
  },
  {
   "cell_type": "markdown",
<<<<<<< HEAD
<<<<<<< HEAD
   "id": "b306b22d",
||||||| 6a30bf1
   "id": "e8a5ce48",
=======
   "id": "d53d9221",
>>>>>>> documentation-devel
||||||| d28b18c
   "id": "d53d9221",
=======
   "id": "9f911707",
>>>>>>> documentation-devel
   "metadata": {
    "lines_to_next_cell": 0
   },
   "source": [
    "Then we use the conventional Wilcoxon rank sum test to find marker genes for each cluster. The test compares each cluster to the rest of the cells, and only genes more highly expressed in the cluster compared to the other cells are considered. The result is a list of data frames, where each data frame corresponds to one cluster. Areas under the receiver operator curve (AUC), distinguishing each cluster vs. any other cluster, are also included. The closer to 1 the better, while 0.5 means no better than random guessing. The false discovery rate (FDR) column contains the Benjamini-Hochberg corrected p-values. Genes in these data frames are already sorted by p-values."
   ]
  },
  {
   "cell_type": "code",
   "execution_count": null,
<<<<<<< HEAD
<<<<<<< HEAD
   "id": "340ea38a",
||||||| 6a30bf1
   "id": "63014a54",
=======
   "id": "e9e1cac4",
>>>>>>> documentation-devel
||||||| d28b18c
   "id": "e9e1cac4",
=======
   "id": "80db6261",
>>>>>>> documentation-devel
   "metadata": {
    "lines_to_next_cell": 2
   },
   "outputs": [],
   "source": [
    "markers <- findMarkers(sce, groups = colData(sce)$cluster,\n",
    "                       test.type = \"wilcox\", pval.type = \"all\", direction = \"up\")\n",
    "markers[[4]]"
   ]
  },
  {
   "cell_type": "markdown",
<<<<<<< HEAD
<<<<<<< HEAD
   "id": "74d15e43",
||||||| 6a30bf1
   "id": "faaf28ab",
=======
   "id": "ba0a4e6a",
>>>>>>> documentation-devel
||||||| d28b18c
   "id": "ba0a4e6a",
=======
   "id": "bbd6bc8d",
>>>>>>> documentation-devel
   "metadata": {},
   "source": [
    "See how specific the top markers are to each cluster:"
   ]
  },
  {
   "cell_type": "code",
   "execution_count": null,
<<<<<<< HEAD
<<<<<<< HEAD
   "id": "6b1be9c3",
||||||| 6a30bf1
   "id": "d5ec088b",
=======
   "id": "748f3de9",
>>>>>>> documentation-devel
||||||| d28b18c
   "id": "748f3de9",
=======
   "id": "d9a94bc2",
>>>>>>> documentation-devel
   "metadata": {},
   "outputs": [],
   "source": [
    "top_markers <- unlist(lapply(markers, function(x) head(rownames(x), 1)))\n",
    "top_markers_symbol <- rowData(sce)[top_markers, \"Symbol\"]"
   ]
  },
  {
   "cell_type": "code",
   "execution_count": null,
<<<<<<< HEAD
<<<<<<< HEAD
   "id": "7de283fc",
||||||| 6a30bf1
   "id": "8a89f373",
=======
   "id": "9f01319f",
>>>>>>> documentation-devel
||||||| d28b18c
   "id": "9f01319f",
=======
   "id": "fc2025cc",
>>>>>>> documentation-devel
   "metadata": {},
   "outputs": [],
   "source": [
    "plotExpression(sce, top_markers_symbol, x = \"cluster\", swap_rownames = \"Symbol\",\n",
    "               point_fun = function(...) list())"
   ]
  },
  {
   "cell_type": "markdown",
<<<<<<< HEAD
<<<<<<< HEAD
   "id": "6d0ffc00",
||||||| 6a30bf1
   "id": "2935fe5f",
=======
   "id": "3a5baa4a",
>>>>>>> documentation-devel
||||||| d28b18c
   "id": "3a5baa4a",
=======
   "id": "60a7e4cb",
>>>>>>> documentation-devel
   "metadata": {
    "lines_to_next_cell": 0
   },
   "source": [
    "We can use the [gget info](https://pachterlab.github.io/gget/info.html) module from the [gget](https://pachterlab.github.io/gget/) package to get additional information for these marker genes. For example, their [NCBI](https://www.ncbi.nlm.nih.gov/) description:"
   ]
  },
  {
   "cell_type": "code",
   "execution_count": null,
<<<<<<< HEAD
<<<<<<< HEAD
   "id": "979074dc",
||||||| 6a30bf1
   "id": "e228b661",
=======
   "id": "ea56e67c",
>>>>>>> documentation-devel
||||||| d28b18c
   "id": "ea56e67c",
=======
   "id": "64f426a8",
>>>>>>> documentation-devel
   "metadata": {},
   "outputs": [],
   "source": [
    "gget_info <- gget$info(top_markers)\n",
    "\n",
    "rownames(gget_info) <- gget_info$ensembl_gene_name\n",
    "select(gget_info, ncbi_description)"
   ]
  },
  {
   "cell_type": "markdown",
<<<<<<< HEAD
<<<<<<< HEAD
   "id": "4a9f12d8",
||||||| 6a30bf1
   "id": "0a6d65bd",
=======
   "id": "6db47c67",
>>>>>>> documentation-devel
||||||| d28b18c
   "id": "6db47c67",
=======
   "id": "16d57d9a",
>>>>>>> documentation-devel
   "metadata": {
    "lines_to_next_cell": 0
   },
   "source": [
    "# \"Spatial\" analyses for QC metrics\n",
    "Find k nearest neighbor graph in PCA space for Moran's I: We are not using `spdep` here since its `nb2listwdist()` function for distance based edge weighting requires 2-3 dimensional spatial coordinates while the coordinates here have 10 dimensions. Here, inverse distance weighting is used for edge weights."
   ]
  },
  {
   "cell_type": "code",
   "execution_count": null,
<<<<<<< HEAD
<<<<<<< HEAD
   "id": "1782b256",
||||||| 6a30bf1
   "id": "b26d1a55",
=======
   "id": "935c7b29",
>>>>>>> documentation-devel
||||||| d28b18c
   "id": "935c7b29",
=======
   "id": "5c6eb605",
>>>>>>> documentation-devel
   "metadata": {},
   "outputs": [],
   "source": [
    "foo <- findKNN(reducedDim(sce, \"PCA\")[,1:10], k=10, BNPARAM=AnnoyParam())\n",
    "# Split by row\n",
    "foo_nb <- asplit(foo$index, 1)\n",
    "dmat <- 1/foo$distance\n",
    "# Row normalize the weights\n",
    "dmat <- sweep(dmat, 1, rowSums(dmat), FUN = \"/\")\n",
    "glist <- asplit(dmat, 1)\n",
    "# Sort based on index\n",
    "ord <- lapply(foo_nb, order)\n",
    "foo_nb <- lapply(seq_along(foo_nb), function(i) foo_nb[[i]][ord[[i]]])\n",
    "class(foo_nb) <- \"nb\"\n",
    "glist <- lapply(seq_along(glist), function(i) glist[[i]][ord[[i]]])\n",
    "\n",
    "listw <- list(style = \"W\",\n",
    "              neighbours = foo_nb,\n",
    "              weights = glist)\n",
    "class(listw) <- \"listw\"\n",
    "attr(listw, \"region.id\") <- colnames(sce)"
   ]
  },
  {
   "cell_type": "markdown",
<<<<<<< HEAD
<<<<<<< HEAD
   "id": "14ae8a29",
||||||| 6a30bf1
   "id": "3b9e2a18",
=======
   "id": "56210421",
>>>>>>> documentation-devel
||||||| d28b18c
   "id": "56210421",
=======
   "id": "de7114cb",
>>>>>>> documentation-devel
   "metadata": {
    "lines_to_next_cell": 0
   },
   "source": [
    "Because there is no histological space, we convert the SCE object into `SpatialFeatureExperiment` (SFE) to use the spatial analysis and plotting functions from `Voyager`, and pretend that the first 2 PCs are the histological space."
   ]
  },
  {
   "cell_type": "code",
   "execution_count": null,
<<<<<<< HEAD
<<<<<<< HEAD
   "id": "a14b928a",
||||||| 6a30bf1
   "id": "919a55c6",
=======
   "id": "d76adee3",
>>>>>>> documentation-devel
||||||| d28b18c
   "id": "d76adee3",
=======
   "id": "d055f314",
>>>>>>> documentation-devel
   "metadata": {},
   "outputs": [],
   "source": [
    "(sfe <- toSpatialFeatureExperiment(sce, spatialCoords = reducedDim(sce, \"PCA\")[,1:2],\n",
    "                                  spatialCoordsNames = NULL))"
   ]
  },
  {
   "cell_type": "markdown",
<<<<<<< HEAD
<<<<<<< HEAD
   "id": "cf4b7700",
||||||| 6a30bf1
   "id": "3f41b626",
=======
   "id": "5d91d3cf",
>>>>>>> documentation-devel
||||||| d28b18c
   "id": "5d91d3cf",
=======
   "id": "7290bf8e",
>>>>>>> documentation-devel
   "metadata": {
    "lines_to_next_cell": 0
   },
   "source": [
    "Add the k nearest neighbor graph to the SFE object:"
   ]
  },
  {
   "cell_type": "code",
   "execution_count": null,
<<<<<<< HEAD
<<<<<<< HEAD
   "id": "78441983",
||||||| 6a30bf1
   "id": "9f116a05",
=======
   "id": "8eedbc65",
>>>>>>> documentation-devel
||||||| d28b18c
   "id": "8eedbc65",
=======
   "id": "275dab5f",
>>>>>>> documentation-devel
   "metadata": {},
   "outputs": [],
   "source": [
    "colGraph(sfe, \"knn10\") <- listw"
   ]
  },
  {
   "cell_type": "markdown",
<<<<<<< HEAD
<<<<<<< HEAD
   "id": "27979c39",
||||||| 6a30bf1
   "id": "3a3281aa",
=======
   "id": "eb2f2ce9",
>>>>>>> documentation-devel
||||||| d28b18c
   "id": "eb2f2ce9",
=======
   "id": "c0a2177d",
>>>>>>> documentation-devel
   "metadata": {
    "lines_to_next_cell": 0
   },
   "source": [
    "## Moran's I"
   ]
  },
  {
   "cell_type": "code",
   "execution_count": null,
<<<<<<< HEAD
<<<<<<< HEAD
   "id": "b2ed8df0",
||||||| 6a30bf1
   "id": "afb0bf07",
=======
   "id": "634cb301",
>>>>>>> documentation-devel
||||||| d28b18c
   "id": "634cb301",
=======
   "id": "e4015eac",
>>>>>>> documentation-devel
   "metadata": {},
   "outputs": [],
   "source": [
    "sfe <- colDataMoransI(sfe, c(\"sum\", \"detected\", \"subsets_mito_percent\"))\n",
    "colFeatureData(sfe)[c(\"sum\", \"detected\", \"subsets_mito_percent\"),]"
   ]
  },
  {
   "cell_type": "markdown",
<<<<<<< HEAD
<<<<<<< HEAD
   "id": "79f6aea3",
||||||| 6a30bf1
   "id": "1944dd31",
=======
   "id": "906d4c9a",
>>>>>>> documentation-devel
||||||| d28b18c
   "id": "906d4c9a",
=======
   "id": "114f1e16",
>>>>>>> documentation-devel
   "metadata": {
    "lines_to_next_cell": 0
   },
   "source": [
    "For total UMI counts (sum) and genes detected (detected), Moran's I is quite strong, while it's positive but weaker for percentage of mitochondrial counts. The second column, K, is kurtosis of the feature of interest. \n",
    "\n",
    "## Moran plot\n",
    "\n",
    "How about the local variations on the k nearest neighbors graph? In the Moran plot, the x axis is the value for each cell, and the y axis is the average value among neighboring cells in the graph weighted by edge weights. The slope of the fitted line is Moran's I. Sometimes there are clusters in this plot, showing different kinds of neighborhoods."
   ]
  },
  {
   "cell_type": "code",
   "execution_count": null,
<<<<<<< HEAD
<<<<<<< HEAD
   "id": "bef12807",
||||||| 6a30bf1
   "id": "75d070f6",
=======
   "id": "a224d9cc",
>>>>>>> documentation-devel
||||||| d28b18c
   "id": "a224d9cc",
=======
   "id": "07d70440",
>>>>>>> documentation-devel
   "metadata": {},
   "outputs": [],
   "source": [
    "sfe <- colDataUnivariate(sfe, \"moran.plot\", c(\"sum\", \"detected\", \"subsets_mito_percent\"))"
   ]
  },
  {
   "cell_type": "markdown",
<<<<<<< HEAD
<<<<<<< HEAD
   "id": "6d07c1ba",
||||||| 6a30bf1
   "id": "063ec664",
=======
   "id": "b35a225e",
>>>>>>> documentation-devel
||||||| d28b18c
   "id": "b35a225e",
=======
   "id": "a7d1b86e",
>>>>>>> documentation-devel
   "metadata": {
    "lines_to_next_cell": 0
   },
   "source": [
    "The dashed lines are the averages on the x and y axes."
   ]
  },
  {
   "cell_type": "code",
   "execution_count": null,
<<<<<<< HEAD
<<<<<<< HEAD
   "id": "3b86d617",
||||||| 6a30bf1
   "id": "c23850f9",
=======
   "id": "2bdedc9e",
>>>>>>> documentation-devel
||||||| d28b18c
   "id": "2bdedc9e",
=======
   "id": "d7c5f904",
>>>>>>> documentation-devel
   "metadata": {},
   "outputs": [],
   "source": [
    "moranPlot(sfe, \"sum\", color_by = \"cluster\")"
   ]
  },
  {
   "cell_type": "markdown",
<<<<<<< HEAD
<<<<<<< HEAD
   "id": "58d0d3e7",
||||||| 6a30bf1
   "id": "ddd98bcd",
=======
   "id": "6a9f03d3",
>>>>>>> documentation-devel
||||||| d28b18c
   "id": "6a9f03d3",
=======
   "id": "223c0579",
>>>>>>> documentation-devel
   "metadata": {
    "lines_to_next_cell": 0
   },
   "source": [
    "While most cells are in the cluster around the average, there is a cluster of cells with lower total counts whose neighbors also have lower total counts. There also is a cluster of cells with higher total counts whose neighbors also have higher total counts. These clusters seem to be somewhat related to some gene expression based clusters."
   ]
  },
  {
   "cell_type": "code",
   "execution_count": null,
<<<<<<< HEAD
<<<<<<< HEAD
   "id": "0996b6c0",
||||||| 6a30bf1
   "id": "2bb869f5",
=======
   "id": "69d68f5a",
>>>>>>> documentation-devel
||||||| d28b18c
   "id": "69d68f5a",
=======
   "id": "ba0e6dd6",
>>>>>>> documentation-devel
   "metadata": {},
   "outputs": [],
   "source": [
    "moranPlot(sfe, \"detected\", color_by = \"cluster\")"
   ]
  },
  {
   "cell_type": "code",
   "execution_count": null,
<<<<<<< HEAD
<<<<<<< HEAD
   "id": "08321a5b",
||||||| 6a30bf1
   "id": "5c363433",
=======
   "id": "4e26b82b",
>>>>>>> documentation-devel
||||||| d28b18c
   "id": "4e26b82b",
=======
   "id": "a14c3789",
>>>>>>> documentation-devel
   "metadata": {},
   "outputs": [],
   "source": [
    "moranPlot(sfe, \"subsets_mito_percent\", color_by = \"cluster\")"
   ]
  },
  {
   "cell_type": "markdown",
<<<<<<< HEAD
<<<<<<< HEAD
   "id": "13f7c5db",
||||||| 6a30bf1
   "id": "4567c297",
=======
   "id": "f85cae15",
>>>>>>> documentation-devel
||||||| d28b18c
   "id": "f85cae15",
=======
   "id": "f8d72583",
>>>>>>> documentation-devel
   "metadata": {},
   "source": [
    "There is one main cluster on this plot for the number of genes detected and for the percentage of mitochondrial counts. However, cells are somewhat separated by gene expression clusters. This is not surprising because the gene expression clusters are also based on the k nearest neighbor graph. Cluster 4 cells have a higher percentage of mitochondrial counts and so do their neighbors. \n",
    "\n",
    "## Local Moran's I\n",
    "Also see local Moran's I for these 3 QC metrics:"
   ]
  },
  {
   "cell_type": "code",
   "execution_count": null,
<<<<<<< HEAD
<<<<<<< HEAD
   "id": "7e60c3e0",
||||||| 6a30bf1
   "id": "190c1d24",
=======
   "id": "1caaf013",
>>>>>>> documentation-devel
||||||| d28b18c
   "id": "1caaf013",
=======
   "id": "baa900b3",
>>>>>>> documentation-devel
   "metadata": {},
   "outputs": [],
   "source": [
    "sfe <- colDataUnivariate(sfe, \"localmoran\", c(\"sum\", \"detected\", \"subsets_mito_percent\"))"
   ]
  },
  {
   "cell_type": "markdown",
<<<<<<< HEAD
<<<<<<< HEAD
   "id": "6f21d98d",
||||||| 6a30bf1
   "id": "9e157be0",
=======
   "id": "daf64bd9",
>>>>>>> documentation-devel
||||||| d28b18c
   "id": "daf64bd9",
=======
   "id": "f958f265",
>>>>>>> documentation-devel
   "metadata": {
    "lines_to_next_cell": 0
   },
   "source": [
    "Here, we don't have a histological space. So how can we visualize the local \"spatial\" statistics? [UMAP is bad](https://www.biorxiv.org/content/10.1101/2021.08.25.457696v1), but in this case PCA can somewhat separate the clusters. We can use the first 2 PCs as if they are the histological space. As a reference, we plot the metrics themselves and the clusters in the first 2 PCs. "
   ]
  },
  {
   "cell_type": "code",
   "execution_count": null,
<<<<<<< HEAD
<<<<<<< HEAD
   "id": "5d8946e9",
||||||| 6a30bf1
   "id": "b9868611",
=======
   "id": "18ce6074",
>>>>>>> documentation-devel
||||||| d28b18c
   "id": "18ce6074",
=======
   "id": "8984dbe3",
>>>>>>> documentation-devel
   "metadata": {
    "fig.height": 6,
    "fig.width": 8
   },
   "outputs": [],
   "source": [
    "plotSpatialFeature(sfe, c(\"sum\", \"detected\", \"subsets_mito_percent\", \"cluster\"))"
   ]
  },
  {
   "cell_type": "markdown",
<<<<<<< HEAD
<<<<<<< HEAD
   "id": "2c4a3393",
||||||| 6a30bf1
   "id": "423b21b6",
=======
   "id": "1f95518b",
>>>>>>> documentation-devel
||||||| d28b18c
   "id": "1f95518b",
=======
   "id": "0914162b",
>>>>>>> documentation-devel
   "metadata": {
    "lines_to_next_cell": 0
   },
   "source": [
    "Plot the local Moran's I for these metrics in the first 2 PCs:"
   ]
  },
  {
   "cell_type": "code",
   "execution_count": null,
<<<<<<< HEAD
<<<<<<< HEAD
   "id": "df5a9b39",
||||||| 6a30bf1
   "id": "d84cd4a5",
=======
   "id": "d6070492",
>>>>>>> documentation-devel
||||||| d28b18c
   "id": "d6070492",
=======
   "id": "9de9f6c7",
>>>>>>> documentation-devel
   "metadata": {
    "fig.height": 6,
    "fig.width": 8
   },
   "outputs": [],
   "source": [
    "plotLocalResult(sfe, \"localmoran\", c(\"sum\", \"detected\", \"subsets_mito_percent\"), \n",
    "                colGeometryName = \"centroids\",\n",
    "                divergent = TRUE, diverge_center = 0, ncol = 2)"
   ]
  },
  {
   "cell_type": "markdown",
<<<<<<< HEAD
<<<<<<< HEAD
   "id": "08d953b2",
||||||| 6a30bf1
   "id": "d9e3cbdc",
=======
   "id": "b2877d9a",
>>>>>>> documentation-devel
||||||| d28b18c
   "id": "b2877d9a",
=======
   "id": "f8a4d8c6",
>>>>>>> documentation-devel
   "metadata": {
    "lines_to_next_cell": 0
   },
   "source": [
    "However, what if there is no good 2D representation of the data for easy plotting? Remember that here the k nearest neighbor graph was computed on the first 10 PCs rather than the first 2 PCs. The graph is not tied to the 2D representation. We can still plot histograms to show the distribution and scatter plots to compare the same local metric for different variables, which can be colored by another variable such as cluster. This may be added to the next release of Voyager. For now, we add the results of interest to `colData(sfe)` and use the existing `colData` plotting functions from `scater` and `Voyager`."
   ]
  },
  {
   "cell_type": "code",
   "execution_count": null,
<<<<<<< HEAD
<<<<<<< HEAD
   "id": "ca1d070b",
||||||| 6a30bf1
   "id": "5ed08899",
=======
   "id": "abe42aa5",
>>>>>>> documentation-devel
||||||| d28b18c
   "id": "abe42aa5",
=======
   "id": "384c4691",
>>>>>>> documentation-devel
   "metadata": {},
   "outputs": [],
   "source": [
    "localResultAttrs(sfe, \"localmoran\", \"sum\")"
   ]
  },
  {
   "cell_type": "code",
   "execution_count": null,
<<<<<<< HEAD
<<<<<<< HEAD
   "id": "07b9d352",
||||||| 6a30bf1
   "id": "d63cccb2",
=======
   "id": "ee54f08a",
>>>>>>> documentation-devel
||||||| d28b18c
   "id": "ee54f08a",
=======
   "id": "13a5cf0d",
>>>>>>> documentation-devel
   "metadata": {},
   "outputs": [],
   "source": [
    "sfe$sum_localmoran <- localResult(sfe, \"localmoran\", \"sum\")[,\"Ii\"]\n",
    "sfe$detected_localmoran <- localResult(sfe, \"localmoran\", \"detected\")[,\"Ii\"]\n",
    "sfe$pct_mito_localmoran <- localResult(sfe, \"localmoran\", \"subsets_mito_percent\")[,\"Ii\"]"
   ]
  },
  {
   "cell_type": "code",
   "execution_count": null,
<<<<<<< HEAD
<<<<<<< HEAD
   "id": "fac5f31a",
||||||| 6a30bf1
   "id": "d4219e06",
=======
   "id": "3171586b",
>>>>>>> documentation-devel
||||||| d28b18c
   "id": "3171586b",
=======
   "id": "1278d297",
>>>>>>> documentation-devel
   "metadata": {},
   "outputs": [],
   "source": [
    "# Colorblind friendly palette\n",
    "data(\"ditto_colors\")"
   ]
  },
  {
   "cell_type": "code",
   "execution_count": null,
<<<<<<< HEAD
<<<<<<< HEAD
   "id": "94313b12",
||||||| 6a30bf1
   "id": "00657dfd",
=======
   "id": "d49f0cc5",
>>>>>>> documentation-devel
||||||| d28b18c
   "id": "d49f0cc5",
=======
   "id": "1ce927cd",
>>>>>>> documentation-devel
   "metadata": {},
   "outputs": [],
   "source": [
    "plotColDataFreqpoly(sfe, c(\"sum_localmoran\", \"detected_localmoran\", \n",
    "                           \"pct_mito_localmoran\"), bins = 50, \n",
    "                    color_by = \"cluster\") +\n",
    "    scale_y_log10() +\n",
    "    annotation_logticks(sides = \"l\")"
   ]
  },
  {
   "cell_type": "markdown",
<<<<<<< HEAD
<<<<<<< HEAD
   "id": "8dff0dd1",
||||||| 6a30bf1
   "id": "fb498ea2",
=======
   "id": "848dd576",
>>>>>>> documentation-devel
||||||| d28b18c
   "id": "848dd576",
=======
   "id": "83963f44",
>>>>>>> documentation-devel
   "metadata": {},
   "source": [
    "The y axis is log transformed (hence that warning when some bins have no cells), so the color of cells in the long tail can be seen because most cells don't have very strong local Moran's I. Cells in cluster 7 have high local Moran's I in total UMI counts and genes detected, which means that they tend to be more homogeneous in these QC metrics.\n",
    "\n",
    "How do local Moran's I for these QC metrics relate to each other?"
   ]
  },
  {
   "cell_type": "code",
   "execution_count": null,
<<<<<<< HEAD
<<<<<<< HEAD
   "id": "93f45331",
||||||| 6a30bf1
   "id": "9b696686",
=======
   "id": "4854bed4",
>>>>>>> documentation-devel
||||||| d28b18c
   "id": "4854bed4",
=======
   "id": "82bd239c",
>>>>>>> documentation-devel
   "metadata": {},
   "outputs": [],
   "source": [
    "plotColData(sfe, x = \"sum_localmoran\", y = \"detected_localmoran\", \n",
    "            color_by = \"cluster\") +\n",
    "    scale_color_manual(values = ditto_colors)"
   ]
  },
  {
   "cell_type": "markdown",
<<<<<<< HEAD
<<<<<<< HEAD
   "id": "0cc9a8ed",
||||||| 6a30bf1
   "id": "69e4d084",
=======
   "id": "469a5887",
>>>>>>> documentation-devel
||||||| d28b18c
   "id": "469a5887",
=======
   "id": "65220f49",
>>>>>>> documentation-devel
   "metadata": {},
   "source": [
    "Cells more locally homogeneous in total UMI counts are also more homogeneous in number of genes detected, which is not surprising given the correlation between the two."
   ]
  },
  {
   "cell_type": "code",
   "execution_count": null,
<<<<<<< HEAD
<<<<<<< HEAD
   "id": "ee8ed055",
||||||| 6a30bf1
   "id": "c7f91511",
=======
   "id": "b9251caa",
>>>>>>> documentation-devel
||||||| d28b18c
   "id": "b9251caa",
=======
   "id": "b4afba0f",
>>>>>>> documentation-devel
   "metadata": {},
   "outputs": [],
   "source": [
    "plotColData(sfe, x = \"sum_localmoran\", y = \"pct_mito_localmoran\", \n",
    "            color_by = \"cluster\") +\n",
    "    scale_color_manual(values = ditto_colors)"
   ]
  },
  {
   "cell_type": "markdown",
<<<<<<< HEAD
<<<<<<< HEAD
   "id": "ace2194d",
||||||| 6a30bf1
   "id": "ed9a6014",
=======
   "id": "d01a92ea",
>>>>>>> documentation-devel
||||||| d28b18c
   "id": "d01a92ea",
=======
   "id": "b651c153",
>>>>>>> documentation-devel
   "metadata": {
    "lines_to_next_cell": 0
   },
   "source": [
    "For local Moran's I, `sum` vs percentage mitochondrial counts shows a more interesting pattern, highlighting clusters 4 and 7 as in the Moran plots.\n",
    "\n",
    "How does local Moran's I relate to the value itself?"
   ]
  },
  {
   "cell_type": "code",
   "execution_count": null,
<<<<<<< HEAD
<<<<<<< HEAD
   "id": "51903974",
||||||| 6a30bf1
   "id": "78668ffc",
=======
   "id": "cf06fc7a",
>>>>>>> documentation-devel
||||||| d28b18c
   "id": "cf06fc7a",
=======
   "id": "8de391ed",
>>>>>>> documentation-devel
   "metadata": {},
   "outputs": [],
   "source": [
    "plotColData(sfe, x = \"sum\", y = \"sum_localmoran\", color_by = \"cluster\") +\n",
    "    geom_density2d(data = as.data.frame(colData(sfe)),\n",
    "                   mapping = aes(x = sum, y = sum_localmoran), color = \"blue\", \n",
    "                   linewidth = 0.3) +\n",
    "    scale_color_manual(values = ditto_colors)"
   ]
  },
  {
   "cell_type": "markdown",
<<<<<<< HEAD
<<<<<<< HEAD
   "id": "d9baa9c8",
||||||| 6a30bf1
   "id": "9ce9eb5e",
=======
   "id": "952e47cb",
>>>>>>> documentation-devel
||||||| d28b18c
   "id": "952e47cb",
=======
   "id": "11f9faec",
>>>>>>> documentation-devel
   "metadata": {
    "lines_to_next_cell": 0
   },
   "source": [
    "In this case, generally cells with higher total counts also tend to have higher local Moran's I in total counts. However, there is another wing where cells with lower total counts have slightly higher local Moran's I in total counts and there's a central value of total counts with near 0 local Moran's I. The density contour shows that cells are concentrated at that central value.\n",
    "\n",
    "## Local spatial heteroscedasticity (LOSH)\n",
    "\n",
    "LOSH indicates heterogeneity around each cell in the k nearest neighbor graph."
   ]
  },
  {
   "cell_type": "code",
   "execution_count": null,
<<<<<<< HEAD
<<<<<<< HEAD
   "id": "5aa023a4",
||||||| 6a30bf1
   "id": "98d43382",
=======
   "id": "05131119",
>>>>>>> documentation-devel
||||||| d28b18c
   "id": "05131119",
=======
   "id": "e6342d7b",
>>>>>>> documentation-devel
   "metadata": {},
   "outputs": [],
   "source": [
    "sfe <- colDataUnivariate(sfe, \"LOSH\", c(\"sum\", \"detected\", \"subsets_mito_percent\"))"
   ]
  },
  {
   "cell_type": "code",
   "execution_count": null,
<<<<<<< HEAD
<<<<<<< HEAD
   "id": "f06d4198",
||||||| 6a30bf1
   "id": "deab601a",
=======
   "id": "cbe3e3d2",
>>>>>>> documentation-devel
||||||| d28b18c
   "id": "cbe3e3d2",
=======
   "id": "16e6ffa3",
>>>>>>> documentation-devel
   "metadata": {
    "fig.height": 6,
    "fig.width": 8
   },
   "outputs": [],
   "source": [
    "plotLocalResult(sfe, \"LOSH\", c(\"sum\", \"detected\", \"subsets_mito_percent\"), \n",
    "                colGeometryName = \"centroids\", ncol = 2)"
   ]
  },
  {
   "cell_type": "markdown",
<<<<<<< HEAD
<<<<<<< HEAD
   "id": "cdbf55af",
||||||| 6a30bf1
   "id": "d933faad",
=======
   "id": "e5002979",
>>>>>>> documentation-devel
||||||| d28b18c
   "id": "e5002979",
=======
   "id": "e9c033ed",
>>>>>>> documentation-devel
   "metadata": {},
   "source": [
    "Here we make the same non-spatial plots for LOSH as in local Moran's I."
   ]
  },
  {
   "cell_type": "code",
   "execution_count": null,
<<<<<<< HEAD
<<<<<<< HEAD
   "id": "87bba34d",
||||||| 6a30bf1
   "id": "5de84930",
=======
   "id": "c14fc7c4",
>>>>>>> documentation-devel
||||||| d28b18c
   "id": "c14fc7c4",
=======
   "id": "8c7764a1",
>>>>>>> documentation-devel
   "metadata": {},
   "outputs": [],
   "source": [
    "localResultAttrs(sfe, \"LOSH\", \"sum\")"
   ]
  },
  {
   "cell_type": "code",
   "execution_count": null,
<<<<<<< HEAD
<<<<<<< HEAD
   "id": "f7396423",
||||||| 6a30bf1
   "id": "48ba9cfc",
=======
   "id": "74435029",
>>>>>>> documentation-devel
||||||| d28b18c
   "id": "74435029",
=======
   "id": "3691dd4f",
>>>>>>> documentation-devel
   "metadata": {},
   "outputs": [],
   "source": [
    "sfe$sum_losh <- localResult(sfe, \"LOSH\", \"sum\")[,\"Hi\"]\n",
    "sfe$detected_losh <- localResult(sfe, \"LOSH\", \"detected\")[,\"Hi\"]\n",
    "sfe$pct_mito_losh <- localResult(sfe, \"LOSH\", \"subsets_mito_percent\")[,\"Hi\"]"
   ]
  },
  {
   "cell_type": "code",
   "execution_count": null,
<<<<<<< HEAD
<<<<<<< HEAD
   "id": "e890c892",
||||||| 6a30bf1
   "id": "3f12d373",
=======
   "id": "6bc7419e",
>>>>>>> documentation-devel
||||||| d28b18c
   "id": "6bc7419e",
=======
   "id": "38aafe7a",
>>>>>>> documentation-devel
   "metadata": {},
   "outputs": [],
   "source": [
    "plotColDataFreqpoly(sfe, c(\"sum_losh\", \"detected_losh\", \n",
    "                           \"pct_mito_losh\"), bins = 50, \n",
    "                     color_by = \"cluster\") +\n",
    "    scale_y_log10() +\n",
    "    annotation_logticks(sides = \"l\")"
   ]
  },
  {
   "cell_type": "markdown",
<<<<<<< HEAD
<<<<<<< HEAD
   "id": "7da89957",
||||||| 6a30bf1
   "id": "56f53154",
=======
   "id": "19959f91",
>>>>>>> documentation-devel
||||||| d28b18c
   "id": "19959f91",
=======
   "id": "c7a57e15",
>>>>>>> documentation-devel
   "metadata": {},
   "source": [
    "Here, clusters 2 and 6 tend to be more locally heterogeneous. How do total counts and genes detected relate in LOSH?"
   ]
  },
  {
   "cell_type": "code",
   "execution_count": null,
<<<<<<< HEAD
<<<<<<< HEAD
   "id": "24c7555e",
||||||| 6a30bf1
   "id": "c07dbb8c",
=======
   "id": "0c02cebd",
>>>>>>> documentation-devel
||||||| d28b18c
   "id": "0c02cebd",
=======
   "id": "0da95927",
>>>>>>> documentation-devel
   "metadata": {},
   "outputs": [],
   "source": [
    "plotColData(sfe, x = \"sum_losh\", y = \"detected_losh\", color_by = \"cluster\") +\n",
    "    scale_color_manual(values = ditto_colors)"
   ]
  },
  {
   "cell_type": "markdown",
<<<<<<< HEAD
<<<<<<< HEAD
   "id": "fb2aa13f",
||||||| 6a30bf1
   "id": "3ed5620f",
=======
   "id": "fb57db57",
>>>>>>> documentation-devel
||||||| d28b18c
   "id": "fb57db57",
=======
   "id": "a50358d8",
>>>>>>> documentation-devel
   "metadata": {},
   "source": [
    "While generally cells higher in LOSH in total counts are also higher in LOSH in genes detected, there are some outliers that are very high in both, with more heterogeneous neighborhoods. Absolute distance to the neighbors is not taken into account when the adjacency matrix is row normalized. It would be interesting to see if those outliers tend to be further away from their 10 nearest neighbors, or in a region in the PCA space where cells are further apart.\n",
    "\n",
    "How does total counts itself relate to its LOSH?"
   ]
  },
  {
   "cell_type": "code",
   "execution_count": null,
<<<<<<< HEAD
<<<<<<< HEAD
   "id": "90a432b4",
||||||| 6a30bf1
   "id": "278491ce",
=======
   "id": "ec837fc7",
>>>>>>> documentation-devel
||||||| d28b18c
   "id": "ec837fc7",
=======
   "id": "f4e8b61e",
>>>>>>> documentation-devel
   "metadata": {},
   "outputs": [],
   "source": [
    "plotColData(sfe, x = \"sum\", y = \"sum_losh\", color_by = \"cluster\") +\n",
    "    scale_color_manual(values = ditto_colors)"
   ]
  },
  {
   "cell_type": "markdown",
<<<<<<< HEAD
<<<<<<< HEAD
   "id": "d4f2970f",
||||||| 6a30bf1
   "id": "9f7809ee",
=======
   "id": "19507abb",
>>>>>>> documentation-devel
||||||| d28b18c
   "id": "19507abb",
=======
   "id": "4ea24181",
>>>>>>> documentation-devel
   "metadata": {
    "lines_to_next_cell": 0
   },
   "source": [
    "There does not seem to be a clear relationship in this case. \n",
    "\n",
    "# \"Spatial\" analyses for gene expression\n",
    "First, we need to reorganize the differential expression results:"
   ]
  },
  {
   "cell_type": "code",
   "execution_count": null,
<<<<<<< HEAD
<<<<<<< HEAD
   "id": "2bd9d051",
||||||| 6a30bf1
   "id": "3f28036c",
=======
   "id": "a0f06b7a",
>>>>>>> documentation-devel
||||||| d28b18c
   "id": "a0f06b7a",
=======
   "id": "7684899f",
>>>>>>> documentation-devel
   "metadata": {},
   "outputs": [],
   "source": [
    "top_markers_df <- lapply(seq_along(markers), function(i) {\n",
    "    out <- markers[[i]][markers[[i]]$FDR < 0.05, c(\"FDR\", \"summary.AUC\")]\n",
    "    if (nrow(out)) out$cluster <- i\n",
    "    out\n",
    "})\n",
    "top_markers_df <- do.call(rbind, top_markers_df)\n",
    "top_markers_df$symbol <- rowData(sce)[rownames(top_markers_df), \"Symbol\"]"
   ]
  },
  {
   "cell_type": "markdown",
<<<<<<< HEAD
<<<<<<< HEAD
   "id": "641a67de",
||||||| 6a30bf1
   "id": "6a3cee2f",
=======
   "id": "af4150a6",
>>>>>>> documentation-devel
||||||| d28b18c
   "id": "af4150a6",
=======
   "id": "e7c6cedb",
>>>>>>> documentation-devel
   "metadata": {
    "lines_to_next_cell": 0
   },
   "source": [
    "## Moran's I"
   ]
  },
  {
   "cell_type": "code",
   "execution_count": null,
<<<<<<< HEAD
<<<<<<< HEAD
   "id": "d5180adb",
||||||| 6a30bf1
   "id": "dd29101d",
=======
   "id": "00835daa",
>>>>>>> documentation-devel
||||||| d28b18c
   "id": "00835daa",
=======
   "id": "117e8bc3",
>>>>>>> documentation-devel
   "metadata": {},
   "outputs": [],
   "source": [
    "sfe <- runMoransI(sfe, features = hvgs, BPPARAM = MulticoreParam(2))"
   ]
  },
  {
   "cell_type": "markdown",
<<<<<<< HEAD
<<<<<<< HEAD
   "id": "a7382475",
||||||| 6a30bf1
   "id": "d19b31a2",
=======
   "id": "fe18d2bd",
>>>>>>> documentation-devel
||||||| d28b18c
   "id": "fe18d2bd",
=======
   "id": "d038b401",
>>>>>>> documentation-devel
   "metadata": {
    "lines_to_next_cell": 0
   },
   "source": [
    "The results are added to `rowData(sfe)`. The NA's are for non-highly variable genes, as Moran's I was only computed for highly variable genes here."
   ]
  },
  {
   "cell_type": "code",
   "execution_count": null,
<<<<<<< HEAD
<<<<<<< HEAD
   "id": "91fb82ec",
||||||| 6a30bf1
   "id": "12f8f8bc",
=======
   "id": "60218634",
>>>>>>> documentation-devel
||||||| d28b18c
   "id": "60218634",
=======
   "id": "dc97850e",
>>>>>>> documentation-devel
   "metadata": {},
   "outputs": [],
   "source": [
    "rowData(sfe)"
   ]
  },
  {
   "cell_type": "markdown",
<<<<<<< HEAD
<<<<<<< HEAD
   "id": "4335b381",
||||||| 6a30bf1
   "id": "b6798444",
=======
   "id": "3a8a7882",
>>>>>>> documentation-devel
||||||| d28b18c
   "id": "3a8a7882",
=======
   "id": "3b6ed6e1",
>>>>>>> documentation-devel
   "metadata": {
    "lines_to_next_cell": 0
   },
   "source": [
    "How are the Moran's I's for highly variable genes distributed? Also, where are the top cluster marker genes in this distribution?"
   ]
  },
  {
   "cell_type": "code",
   "execution_count": null,
<<<<<<< HEAD
<<<<<<< HEAD
   "id": "2cf41544",
||||||| 6a30bf1
   "id": "34eb4460",
=======
   "id": "5e55968a",
>>>>>>> documentation-devel
||||||| d28b18c
   "id": "5e55968a",
=======
   "id": "8d0c3155",
>>>>>>> documentation-devel
   "metadata": {},
   "outputs": [],
   "source": [
    "plotRowDataHistogram(sfe, \"moran_sample01\", bins = 50) +\n",
    "    geom_vline(data = as.data.frame(rowData(sfe)[top_markers,]) |> \n",
    "                   mutate(index = seq_along(top_markers)),\n",
    "               aes(xintercept = moran_sample01, color = index)) +\n",
    "    scale_color_continuous(breaks = scales::breaks_width(2))"
   ]
  },
  {
   "cell_type": "markdown",
<<<<<<< HEAD
<<<<<<< HEAD
   "id": "1fb4c19f",
||||||| 6a30bf1
   "id": "0c1a2e47",
=======
   "id": "63443d66",
>>>>>>> documentation-devel
||||||| d28b18c
   "id": "63443d66",
=======
   "id": "3230607a",
>>>>>>> documentation-devel
   "metadata": {},
   "source": [
    "The top marker genes all have quite positive Moran's I on the k nearest neighbor graph. It would also be interesting to color this histogram by gene sets. Since the k nearest neighbor graph was found in PCA space, which is based on gene expression, as expected, Moran's I with this graph is mostly positive, although often not that strong. A small number of genes have slightly negative Moran's I. What do the top genes look like in PCA?"
   ]
  },
  {
   "cell_type": "code",
   "execution_count": null,
<<<<<<< HEAD
<<<<<<< HEAD
   "id": "0412c4cc",
||||||| 6a30bf1
   "id": "0e1ae58e",
=======
   "id": "581aa5c1",
>>>>>>> documentation-devel
||||||| d28b18c
   "id": "581aa5c1",
=======
   "id": "4a53c667",
>>>>>>> documentation-devel
   "metadata": {
    "fig.height": 6,
    "fig.width": 8
   },
   "outputs": [],
   "source": [
    "top_moran <- head(rownames(sfe)[order(rowData(sfe)$moran_sample01, decreasing = TRUE)], 4)\n",
    "plotSpatialFeature(sfe, top_moran, ncol = 2)"
   ]
  },
  {
   "cell_type": "code",
   "execution_count": null,
<<<<<<< HEAD
<<<<<<< HEAD
   "id": "a7d6cb9f",
||||||| 6a30bf1
   "id": "bb580861",
=======
   "id": "5278c9d1",
>>>>>>> documentation-devel
||||||| d28b18c
   "id": "5278c9d1",
=======
   "id": "281abf6b",
>>>>>>> documentation-devel
   "metadata": {},
   "outputs": [],
   "source": [
    "top_moran_symbol <- rowData(sfe)[top_moran, \"Symbol\"]\n",
    "plotExpression(sfe, top_moran_symbol, swap_rownames = \"Symbol\")"
   ]
  },
  {
   "cell_type": "markdown",
<<<<<<< HEAD
<<<<<<< HEAD
   "id": "08d711a9",
||||||| 6a30bf1
   "id": "882cb89b",
=======
   "id": "6e105942",
>>>>>>> documentation-devel
||||||| d28b18c
   "id": "6e105942",
=======
   "id": "8f988acd",
>>>>>>> documentation-devel
   "metadata": {},
   "source": [
    "They are all marker genes for the same cluster, cluster 9. Perhaps these genes have high Moran's I because they are specific to a cell type. Then how does the Moran's I relate to cluster AUC and cluster differential expression p-value?"
   ]
  },
  {
   "cell_type": "code",
   "execution_count": null,
<<<<<<< HEAD
<<<<<<< HEAD
   "id": "2d277609",
||||||| 6a30bf1
   "id": "6634363a",
=======
   "id": "df97cefd",
>>>>>>> documentation-devel
||||||| d28b18c
   "id": "df97cefd",
=======
   "id": "734d779a",
>>>>>>> documentation-devel
   "metadata": {},
   "outputs": [],
   "source": [
    "# See if markers are unique to clusters\n",
    "anyDuplicated(rownames(top_markers_df))"
   ]
  },
  {
   "cell_type": "code",
   "execution_count": null,
<<<<<<< HEAD
<<<<<<< HEAD
   "id": "787e7b61",
||||||| 6a30bf1
   "id": "1b06eb6e",
=======
   "id": "71a6fd68",
>>>>>>> documentation-devel
||||||| d28b18c
   "id": "71a6fd68",
=======
   "id": "d62af3af",
>>>>>>> documentation-devel
   "metadata": {},
   "outputs": [],
   "source": [
    "top_markers_df$moran <- rowData(sfe)[rownames(top_markers_df), \"moran_sample01\"]\n",
    "top_markers_df$log_p_adj <- -log10(top_markers_df$FDR)\n",
    "top_markers_df$cluster <- factor(top_markers_df$cluster, \n",
    "                                 levels = seq_len(length(unique(top_markers_df$cluster))))"
   ]
  },
  {
   "cell_type": "markdown",
<<<<<<< HEAD
<<<<<<< HEAD
   "id": "4ff9ad15",
||||||| 6a30bf1
   "id": "448fa102",
=======
   "id": "eff2fc37",
>>>>>>> documentation-devel
||||||| d28b18c
   "id": "eff2fc37",
=======
   "id": "9cc54133",
>>>>>>> documentation-devel
   "metadata": {
    "lines_to_next_cell": 0
   },
   "source": [
    "How does the differential expression p-value relate to Moran's I?"
   ]
  },
  {
   "cell_type": "code",
   "execution_count": null,
<<<<<<< HEAD
<<<<<<< HEAD
   "id": "c1a685ec",
||||||| 6a30bf1
   "id": "ccfd40db",
=======
   "id": "47f9d758",
>>>>>>> documentation-devel
||||||| d28b18c
   "id": "47f9d758",
=======
   "id": "26fe3fd5",
>>>>>>> documentation-devel
   "metadata": {},
   "outputs": [],
   "source": [
    "as.data.frame(top_markers_df) |> \n",
    "    ggplot(aes(log_p_adj, moran)) +\n",
    "    geom_point(aes(color = cluster)) +\n",
    "    geom_smooth(method = \"lm\") +\n",
    "    scale_color_manual(values = ditto_colors)"
   ]
  },
  {
   "cell_type": "markdown",
<<<<<<< HEAD
<<<<<<< HEAD
   "id": "7adea662",
||||||| 6a30bf1
   "id": "05b34a78",
=======
   "id": "2e62f9a3",
>>>>>>> documentation-devel
||||||| d28b18c
   "id": "2e62f9a3",
=======
   "id": "d681e6e0",
>>>>>>> documentation-devel
   "metadata": {},
   "source": [
    "Generally, more significant marker genes tend to have higher Moran's I. This is not surprising because the clusters and Moran's I here are both based on the k nearest neighbor graph."
   ]
  },
  {
   "cell_type": "code",
   "execution_count": null,
<<<<<<< HEAD
<<<<<<< HEAD
   "id": "4f951a32",
||||||| 6a30bf1
   "id": "e576ecfa",
=======
   "id": "390aa1bf",
>>>>>>> documentation-devel
||||||| d28b18c
   "id": "390aa1bf",
=======
   "id": "672d4d1a",
>>>>>>> documentation-devel
   "metadata": {},
   "outputs": [],
   "source": [
    "as.data.frame(top_markers_df) |> \n",
    "    ggplot(aes(summary.AUC, moran)) +\n",
    "    geom_point(aes(color = cluster)) +\n",
    "    geom_smooth(method = \"lm\") +\n",
    "    scale_color_manual(values = ditto_colors)"
   ]
  },
  {
   "cell_type": "markdown",
<<<<<<< HEAD
<<<<<<< HEAD
   "id": "d1fef136",
||||||| 6a30bf1
   "id": "61b7205c",
=======
   "id": "cfbce356",
>>>>>>> documentation-devel
||||||| d28b18c
   "id": "cfbce356",
=======
   "id": "39ce9451",
>>>>>>> documentation-devel
   "metadata": {
    "lines_to_next_cell": 0
   },
   "source": [
    "Similarly, genes with higher AUC tend to have higher Moran's I. For other clusters, generally speaking, genes more specific to a cluster tend to have higher Moran's I.\n",
    "\n",
    "Let's use permutation testing to see if Moran's I is statistically significant:"
   ]
  },
  {
   "cell_type": "code",
   "execution_count": null,
<<<<<<< HEAD
<<<<<<< HEAD
   "id": "5cbde443",
||||||| 6a30bf1
   "id": "d50f5f9e",
=======
   "id": "b417c9e1",
>>>>>>> documentation-devel
||||||| d28b18c
   "id": "b417c9e1",
=======
   "id": "6a317c23",
>>>>>>> documentation-devel
   "metadata": {},
   "outputs": [],
   "source": [
    "sfe <- runUnivariate(sfe, \"moran.mc\", features = top_markers, nsim = 200)"
   ]
  },
  {
   "cell_type": "code",
   "execution_count": null,
<<<<<<< HEAD
<<<<<<< HEAD
   "id": "82b08de7",
||||||| 6a30bf1
   "id": "762a6e2e",
=======
   "id": "f11b231f",
>>>>>>> documentation-devel
||||||| d28b18c
   "id": "f11b231f",
=======
   "id": "21b35da1",
>>>>>>> documentation-devel
   "metadata": {},
   "outputs": [],
   "source": [
    "top_markers_symbol"
   ]
  },
  {
   "cell_type": "code",
   "execution_count": null,
<<<<<<< HEAD
<<<<<<< HEAD
   "id": "10f91540",
||||||| 6a30bf1
   "id": "7d45342d",
=======
   "id": "51d101fa",
>>>>>>> documentation-devel
||||||| d28b18c
   "id": "51d101fa",
=======
   "id": "c6de4bcf",
>>>>>>> documentation-devel
   "metadata": {},
   "outputs": [],
   "source": [
    "plotMoranMC(sfe, top_markers, swap_rownames = \"Symbol\")"
   ]
  },
  {
   "cell_type": "markdown",
<<<<<<< HEAD
<<<<<<< HEAD
   "id": "9f3644d6",
||||||| 6a30bf1
   "id": "42a048e1",
=======
   "id": "46b7bae0",
>>>>>>> documentation-devel
||||||| d28b18c
   "id": "46b7bae0",
=======
   "id": "a53d8afb",
>>>>>>> documentation-devel
   "metadata": {},
   "source": [
    "They all seem to be very significant. \n",
    "\n",
    "The correlogram finds Moran's I for a higher order of neighbors and can be a proxy for distance. "
   ]
  },
  {
   "cell_type": "code",
   "execution_count": null,
<<<<<<< HEAD
<<<<<<< HEAD
   "id": "fdb4402a",
||||||| 6a30bf1
   "id": "7af96006",
=======
   "id": "8359d5e4",
>>>>>>> documentation-devel
||||||| d28b18c
   "id": "8359d5e4",
=======
   "id": "b644026c",
>>>>>>> documentation-devel
   "metadata": {},
   "outputs": [],
   "source": [
    "system.time({\n",
    "    sfe <- runUnivariate(sfe, \"sp.correlogram\", top_markers, order = 6, \n",
    "                     zero.policy = TRUE, BPPARAM = MulticoreParam(2))\n",
    "})"
   ]
  },
  {
   "cell_type": "code",
   "execution_count": null,
<<<<<<< HEAD
<<<<<<< HEAD
   "id": "9435f138",
||||||| 6a30bf1
   "id": "851e936f",
=======
   "id": "74105924",
>>>>>>> documentation-devel
||||||| d28b18c
   "id": "74105924",
=======
   "id": "20c498cd",
>>>>>>> documentation-devel
   "metadata": {},
   "outputs": [],
   "source": [
    "plotCorrelogram(sfe, top_markers, swap_rownames = \"Symbol\")"
   ]
  },
  {
   "cell_type": "markdown",
<<<<<<< HEAD
<<<<<<< HEAD
   "id": "3280c95b",
||||||| 6a30bf1
   "id": "152fae5c",
=======
   "id": "47371f87",
>>>>>>> documentation-devel
||||||| d28b18c
   "id": "47371f87",
=======
   "id": "58ddbcb5",
>>>>>>> documentation-devel
   "metadata": {
    "lines_to_next_cell": 0
   },
   "source": [
    "We see different patterns of decay in spatial autocorrelation and different length scales of spatial autocorrelation. CLU is a marker gene very specific to the smallest cluster, so higher order neighbors are very likely to be from other clusters. Marker genes for the other larger clusters with hundreds of cells nevertheless display different patterns in the correlogram.\n",
    "\n",
    "## Local Moran's I"
   ]
  },
  {
   "cell_type": "code",
   "execution_count": null,
<<<<<<< HEAD
<<<<<<< HEAD
   "id": "de026d85",
||||||| 6a30bf1
   "id": "f1973da4",
=======
   "id": "679da1ce",
>>>>>>> documentation-devel
||||||| d28b18c
   "id": "679da1ce",
=======
   "id": "8fbb8b98",
>>>>>>> documentation-devel
   "metadata": {},
   "outputs": [],
   "source": [
    "sfe <- runUnivariate(sfe, \"localmoran\", features = top_markers)"
   ]
  },
  {
   "cell_type": "code",
   "execution_count": null,
<<<<<<< HEAD
<<<<<<< HEAD
   "id": "75d0ac24",
||||||| 6a30bf1
   "id": "788eaa36",
=======
   "id": "08c0397a",
>>>>>>> documentation-devel
||||||| d28b18c
   "id": "08c0397a",
=======
   "id": "41fe2f1d",
>>>>>>> documentation-devel
   "metadata": {
    "fig.height": 9,
    "fig.width": 12
   },
   "outputs": [],
   "source": [
    "plotLocalResult(sfe, \"localmoran\", top_markers, colGeometryName = \"centroids\", \n",
    "                divergent = TRUE, diverge_center = 0, ncol = 3,\n",
    "                swap_rownames = \"Symbol\")"
   ]
  },
  {
   "cell_type": "markdown",
<<<<<<< HEAD
<<<<<<< HEAD
   "id": "1ae9cc45",
||||||| 6a30bf1
   "id": "121c5da6",
=======
   "id": "6d2bea9e",
>>>>>>> documentation-devel
||||||| d28b18c
   "id": "6d2bea9e",
=======
   "id": "8a8c4b6e",
>>>>>>> documentation-devel
   "metadata": {},
   "source": [
    "We will also plot the histograms, but for now the results need to be added to `colData` first."
   ]
  },
  {
   "cell_type": "code",
   "execution_count": null,
<<<<<<< HEAD
<<<<<<< HEAD
   "id": "536d52a1",
||||||| 6a30bf1
   "id": "ca7e2f07",
=======
   "id": "3a571686",
>>>>>>> documentation-devel
||||||| d28b18c
   "id": "3a571686",
=======
   "id": "fe0a4dfb",
>>>>>>> documentation-devel
   "metadata": {},
   "outputs": [],
   "source": [
    "new_colname <- paste0(\"cluster\", seq_along(top_markers), \"_\", \n",
    "                      top_markers_symbol, \"_localmoran\")\n",
    "for (i in seq_along(top_markers)) {\n",
    "    g <- top_markers[i]\n",
    "    colData(sfe)[[new_colname[i]]] <- \n",
    "        localResult(sfe, \"localmoran\", g)[,\"Ii\"]\n",
    "}"
   ]
  },
  {
   "cell_type": "code",
   "execution_count": null,
<<<<<<< HEAD
<<<<<<< HEAD
   "id": "b643d7da",
||||||| 6a30bf1
   "id": "35a614b8",
=======
   "id": "b22f9dcf",
>>>>>>> documentation-devel
||||||| d28b18c
   "id": "b22f9dcf",
=======
   "id": "878b94e6",
>>>>>>> documentation-devel
   "metadata": {
    "fig.height": 12,
    "fig.width": 8
   },
   "outputs": [],
   "source": [
    "plotColDataFreqpoly(sfe, new_colname, color_by = \"cluster\") +\n",
    "    ggtitle(\"Local Moran's I\") +\n",
    "    theme(legend.position = \"top\") +\n",
    "    scale_y_log10() +\n",
    "    annotation_logticks(sides = \"l\")"
   ]
  },
  {
   "cell_type": "markdown",
<<<<<<< HEAD
<<<<<<< HEAD
   "id": "e4827af3",
||||||| 6a30bf1
   "id": "f54fc19f",
=======
   "id": "faa342b2",
>>>>>>> documentation-devel
||||||| d28b18c
   "id": "faa342b2",
=======
   "id": "fbfd0b16",
>>>>>>> documentation-devel
   "metadata": {
    "lines_to_next_cell": 0
   },
   "source": [
    "Again, the y axis is log transformed to make the tail more visible. For some clusters, the top marker gene's local Moran's I forms its own peak for cells in the cluster with higher local Moran's I than other cells. However, sometimes cells within the cluster form a long tail shared with some cells from other clusters. Then the local Moran's I could be another method for differential expression. Or since both local Moran's I and Leiden clustering use the k nearest neighbor graph in PCA space, local Moran's I of marker genes or perhaps eigengenes signifying gene programs for each cell type on this k nearest neighbor graph can validate or criticize Leiden clusters. Furthermore, interestingly, for some genes, the tallest peak in the histogram is away from 0.\n",
    "\n",
    "The scatter plots as shown in the \"spatial\" analyses for the QC metrics section can be made to see how local Moran's I relates to the expression of the gene itself."
   ]
  },
  {
   "cell_type": "code",
   "execution_count": null,
<<<<<<< HEAD
<<<<<<< HEAD
   "id": "40804eaf",
||||||| 6a30bf1
   "id": "8587c032",
=======
   "id": "263efe59",
>>>>>>> documentation-devel
||||||| d28b18c
   "id": "263efe59",
=======
   "id": "3c249bf2",
>>>>>>> documentation-devel
   "metadata": {},
   "outputs": [],
   "source": [
    "i <- 6 # Change if running this notebook\n",
    "plotExpression(sfe, top_markers_symbol[i], x = new_colname[i], color_by = \"cluster\",\n",
    "               swap_rownames = \"Symbol\") +\n",
    "    scale_color_manual(values = ditto_colors) +\n",
    "    coord_flip() +\n",
    "    # comment out in case of error after changing i\n",
    "    geom_density2d(data = as.data.frame(colData(sfe)) |> \n",
    "                       mutate(gene = logcounts(sfe)[top_markers[i],]),\n",
    "                   mapping = aes(x = .data[[new_colname[i]]], y = gene), \n",
    "                   color = \"blue\", linewidth = 0.3) "
   ]
  },
  {
   "cell_type": "markdown",
<<<<<<< HEAD
<<<<<<< HEAD
   "id": "d622d576",
||||||| 6a30bf1
   "id": "f636c7f3",
=======
   "id": "0658c0e4",
>>>>>>> documentation-devel
||||||| d28b18c
   "id": "0658c0e4",
=======
   "id": "86359648",
>>>>>>> documentation-devel
   "metadata": {},
   "source": [
    "For this gene, just like for total UMI counts, there are two wings and a central value where local Moran's I is around 0. Generally, cells with higher expression of this gene have higher local Moran's I for this gene as well. The density contours show that cells concentrate around 0 expression and some weaker positive local Moran. The streak of cells with 0 expression means that many cells don't express this gene, and their neighbors have low and slightly homogeneous expression of this gene. This pattern may be different for different genes. Also, the p-values for each cell for local Moran's I are available and corrected for multiple hypothesis testing, and can be plotted. The p-values are based on the z score of the local Moran statistic, although how the statistic is distributed for gene expression data warrants more investigation. This p-value can also be computed with permutation (see `localmoran_perm()`). "
   ]
  },
  {
   "cell_type": "code",
   "execution_count": null,
<<<<<<< HEAD
<<<<<<< HEAD
   "id": "90ba3a88",
||||||| 6a30bf1
   "id": "f710fd31",
=======
   "id": "e0bf2b7e",
>>>>>>> documentation-devel
||||||| d28b18c
   "id": "e0bf2b7e",
=======
   "id": "af8560ac",
>>>>>>> documentation-devel
   "metadata": {},
   "outputs": [],
   "source": [
    "localResultAttrs(sfe, \"localmoran\", top_markers[1])"
   ]
  },
  {
   "cell_type": "markdown",
<<<<<<< HEAD
<<<<<<< HEAD
   "id": "26790160",
||||||| 6a30bf1
   "id": "e07c26bd",
=======
   "id": "bd627eb5",
>>>>>>> documentation-devel
||||||| d28b18c
   "id": "bd627eb5",
=======
   "id": "e073883d",
>>>>>>> documentation-devel
   "metadata": {},
   "source": [
    "## LOSH"
   ]
  },
  {
   "cell_type": "code",
   "execution_count": null,
<<<<<<< HEAD
<<<<<<< HEAD
   "id": "39aeae08",
||||||| 6a30bf1
   "id": "0382a136",
=======
   "id": "a361ab8d",
>>>>>>> documentation-devel
||||||| d28b18c
   "id": "a361ab8d",
=======
   "id": "1c181e13",
>>>>>>> documentation-devel
   "metadata": {},
   "outputs": [],
   "source": [
    "sfe <- runUnivariate(sfe, \"LOSH\", top_markers)"
   ]
  },
  {
   "cell_type": "code",
   "execution_count": null,
<<<<<<< HEAD
<<<<<<< HEAD
   "id": "e9219ddb",
||||||| 6a30bf1
   "id": "7a301b9c",
=======
   "id": "099bb784",
>>>>>>> documentation-devel
||||||| d28b18c
   "id": "099bb784",
=======
   "id": "a9237e59",
>>>>>>> documentation-devel
   "metadata": {
    "fig.height": 9,
    "fig.width": 12
   },
   "outputs": [],
   "source": [
    "plotLocalResult(sfe, \"LOSH\", top_markers, colGeometryName = \"centroids\", ncol = 3,\n",
    "                swap_rownames = \"Symbol\")"
   ]
  },
  {
   "cell_type": "markdown",
<<<<<<< HEAD
<<<<<<< HEAD
   "id": "697177cd",
||||||| 6a30bf1
   "id": "206a5172",
=======
   "id": "1ef91f9d",
>>>>>>> documentation-devel
||||||| d28b18c
   "id": "1ef91f9d",
=======
   "id": "716f58ff",
>>>>>>> documentation-devel
   "metadata": {
    "lines_to_next_cell": 0
   },
   "source": [
    "In the two genes on the right, it's interesting to see higher LOSH in the middle cluster. The two genes on the left have some outliers throwing off the dynamic range, but it seems that their high LOSH regions are different.\n",
    "\n",
    "Again, we plot the histograms:"
   ]
  },
  {
   "cell_type": "code",
   "execution_count": null,
<<<<<<< HEAD
<<<<<<< HEAD
   "id": "52b51848",
||||||| 6a30bf1
   "id": "a0a81e13",
=======
   "id": "b285fd6d",
>>>>>>> documentation-devel
||||||| d28b18c
   "id": "b285fd6d",
=======
   "id": "54f30f94",
>>>>>>> documentation-devel
   "metadata": {},
   "outputs": [],
   "source": [
    "new_colname2 <- paste0(\"cluster\", seq_along(top_markers), \"_\", \n",
    "                      top_markers_symbol, \"_losh\")\n",
    "for (i in seq_along(top_markers)) {\n",
    "    g <- top_markers[i]\n",
    "    colData(sfe)[[new_colname2[i]]] <- \n",
    "        localResult(sfe, \"LOSH\", g)[,\"Hi\"]\n",
    "}"
   ]
  },
  {
   "cell_type": "code",
   "execution_count": null,
<<<<<<< HEAD
<<<<<<< HEAD
   "id": "41eb9cb4",
||||||| 6a30bf1
   "id": "64a27133",
=======
   "id": "12cdff6c",
>>>>>>> documentation-devel
||||||| d28b18c
   "id": "12cdff6c",
=======
   "id": "d7d2a96d",
>>>>>>> documentation-devel
   "metadata": {
    "fig.height": 12,
    "fig.width": 8
   },
   "outputs": [],
   "source": [
    "plotColDataFreqpoly(sfe, new_colname2, color_by = \"cluster\") +\n",
    "    ggtitle(\"Local heteroscedasticity\") +\n",
    "    theme(legend.position = \"top\") +\n",
    "    scale_y_log10() +\n",
    "    annotation_logticks(sides = \"l\")"
   ]
  },
  {
   "cell_type": "markdown",
<<<<<<< HEAD
<<<<<<< HEAD
   "id": "075cad61",
||||||| 6a30bf1
   "id": "5a75ade6",
=======
   "id": "04b2d856",
>>>>>>> documentation-devel
||||||| d28b18c
   "id": "04b2d856",
=======
   "id": "1d4aa8a7",
>>>>>>> documentation-devel
   "metadata": {},
   "source": [
    "The relationship between expression and LOSH is more complicated. For some genes, such as the top marker gene for cluster 1 LYAR, cells in the cluster with higher expression also have higher LOSH - much like how in Poisson and negative binomial distributions, higher mean also means higher variance. However, some genes, such as the top marker gene for cluster 2 CTSS, have lower LOSH among cells that have higher expression, which means expression of this gene is more homogeneous within the cluster, consistent with local Moran. "
   ]
  },
  {
   "cell_type": "code",
   "execution_count": null,
<<<<<<< HEAD
<<<<<<< HEAD
   "id": "5a33af67",
||||||| 6a30bf1
   "id": "4c5b4db3",
=======
   "id": "d21e616b",
>>>>>>> documentation-devel
||||||| d28b18c
   "id": "d21e616b",
=======
   "id": "f21ae1f1",
>>>>>>> documentation-devel
   "metadata": {},
   "outputs": [],
   "source": [
    "i <- 6 # Change if running this notebook\n",
    "plotExpression(sfe, top_markers_symbol[i], x = new_colname2[i], \n",
    "               color_by = \"cluster\", swap_rownames = \"Symbol\") +\n",
    "    scale_color_manual(values = ditto_colors) +\n",
    "    coord_flip() +\n",
    "    # comment out in case of error after changing i\n",
    "    geom_density2d(data = as.data.frame(colData(sfe)) |> \n",
    "                       mutate(gene = logcounts(sfe)[top_markers[i],]),\n",
    "                   mapping = aes(x = .data[[new_colname2[i]]], y = gene), \n",
    "                   color = \"blue\", linewidth = 0.3) "
   ]
  },
  {
   "cell_type": "markdown",
<<<<<<< HEAD
<<<<<<< HEAD
   "id": "02fe4b95",
||||||| 6a30bf1
   "id": "859e7487",
=======
   "id": "8a20a3fe",
>>>>>>> documentation-devel
||||||| d28b18c
   "id": "8a20a3fe",
=======
   "id": "e3506b7a",
>>>>>>> documentation-devel
   "metadata": {
    "lines_to_next_cell": 0
   },
   "source": [
    "For this gene, the density contour indicates that many cells don't express this gene and have homogeneous neighborhoods also with low expression. That streak around 0 expression means that neighbors of cells that don't express this gene have different levels of heterogeneity in this gene.\n",
    "\n",
    "## Moran plot\n",
    "\n",
    "Here we make Moran plots for the top marker genes."
   ]
  },
  {
   "cell_type": "code",
   "execution_count": null,
<<<<<<< HEAD
<<<<<<< HEAD
   "id": "692246f7",
||||||| 6a30bf1
   "id": "dc1df437",
=======
   "id": "feb38626",
>>>>>>> documentation-devel
||||||| d28b18c
   "id": "feb38626",
=======
   "id": "ef6140e7",
>>>>>>> documentation-devel
   "metadata": {},
   "outputs": [],
   "source": [
    "sfe <- runUnivariate(sfe, \"moran.plot\", features = top_markers, colGraphName = \"knn10\")"
   ]
  },
  {
   "cell_type": "markdown",
<<<<<<< HEAD
<<<<<<< HEAD
   "id": "ff6b833a",
||||||| 6a30bf1
   "id": "684ecedc",
=======
   "id": "c8d3b18c",
>>>>>>> documentation-devel
||||||| d28b18c
   "id": "c8d3b18c",
=======
   "id": "ee00c986",
>>>>>>> documentation-devel
   "metadata": {
    "lines_to_next_cell": 0
   },
   "source": [
    "As a reference, we show Moran's I for the top marker genes, which is the slope of the line fitted to the Moran scatter plot."
   ]
  },
  {
   "cell_type": "code",
   "execution_count": null,
<<<<<<< HEAD
<<<<<<< HEAD
   "id": "146093a5",
||||||| 6a30bf1
   "id": "7c32c668",
=======
   "id": "4a877d8b",
>>>>>>> documentation-devel
||||||| d28b18c
   "id": "4a877d8b",
=======
   "id": "edab5702",
>>>>>>> documentation-devel
   "metadata": {},
   "outputs": [],
   "source": [
    "top_markers_df[top_markers,]"
   ]
  },
  {
   "cell_type": "markdown",
<<<<<<< HEAD
<<<<<<< HEAD
   "id": "80fb8d84",
||||||| 6a30bf1
   "id": "f86837df",
=======
   "id": "3768f626",
>>>>>>> documentation-devel
||||||| d28b18c
   "id": "3768f626",
=======
   "id": "de473c63",
>>>>>>> documentation-devel
   "metadata": {
    "lines_to_next_cell": 0
   },
   "source": [
    "There is no significant marker gene for cluster 7. These plots are shown in sequence"
   ]
  },
  {
   "cell_type": "code",
   "execution_count": null,
<<<<<<< HEAD
<<<<<<< HEAD
   "id": "216b674f",
||||||| 6a30bf1
   "id": "cb68b24f",
=======
   "id": "52d2a53b",
>>>>>>> documentation-devel
||||||| d28b18c
   "id": "52d2a53b",
=======
   "id": "167d6998",
>>>>>>> documentation-devel
   "metadata": {},
   "outputs": [],
   "source": [
    "plts <- lapply(top_markers, moranPlot, sfe = sfe, color_by = \"cluster\", \n",
    "               swap_rownames = \"Symbol\")"
   ]
  },
  {
   "cell_type": "code",
   "execution_count": null,
<<<<<<< HEAD
<<<<<<< HEAD
   "id": "0ea93769",
||||||| 6a30bf1
   "id": "70538e7c",
=======
   "id": "c5d72760",
>>>>>>> documentation-devel
||||||| d28b18c
   "id": "c5d72760",
=======
   "id": "58dd8598",
>>>>>>> documentation-devel
   "metadata": {
    "fig.height": 9,
    "fig.width": 9
   },
   "outputs": [],
   "source": [
    "wrap_plots(plts, widths = 1, heights = 1) +\n",
    "    plot_layout(ncol = 3, guides = \"collect\") +\n",
    "    plot_annotation(tag_levels = \"1\")"
   ]
  },
  {
   "cell_type": "markdown",
<<<<<<< HEAD
<<<<<<< HEAD
   "id": "b808739e",
||||||| 6a30bf1
   "id": "d5a2b534",
=======
   "id": "e552a33b",
>>>>>>> documentation-devel
||||||| d28b18c
   "id": "e552a33b",
=======
   "id": "985beea6",
>>>>>>> documentation-devel
   "metadata": {
    "lines_to_next_cell": 0
   },
   "source": [
    "For some genes, the points are so concentrated around the origin that there aren't \"enough\" points elsewhere to plot the density contours. But for the cells that do express these genes, there are clusters on this plot. Some genes are not expressed in many cells, but those cells have neighbors that do express the gene, hence the vertical streak at x = 0. \n",
    "\n",
    "In this tutorial, we applied univariate spatial statistics to the k nearest neighbor graph in the gene expression PCA space rather than the histological space. Just like in histological space, it would be impractical to examine all these statistics gene by gene, so multivariate analyses that incorporate the k nearest neighbor graph may be interesting.\n",
    "\n",
    "# Session info"
   ]
  },
  {
   "cell_type": "code",
   "execution_count": null,
<<<<<<< HEAD
<<<<<<< HEAD
   "id": "c002a559",
||||||| 6a30bf1
   "id": "542257dc",
=======
   "id": "f7c984d1",
>>>>>>> documentation-devel
||||||| d28b18c
   "id": "f7c984d1",
=======
   "id": "25044f7f",
>>>>>>> documentation-devel
   "metadata": {
    "lines_to_next_cell": 0
   },
   "outputs": [],
   "source": [
    "sessionInfo()"
   ]
  },
  {
   "cell_type": "markdown",
<<<<<<< HEAD
<<<<<<< HEAD
   "id": "f0b33023",
||||||| 6a30bf1
   "id": "2a79284b",
=======
   "id": "20b8713d",
>>>>>>> documentation-devel
||||||| d28b18c
   "id": "20b8713d",
=======
   "id": "aec8db82",
>>>>>>> documentation-devel
   "metadata": {},
   "source": []
  }
 ],
 "metadata": {
  "kernelspec": {
   "display_name": "R",
   "language": "R",
   "name": "ir"
  }
 },
 "nbformat": 4,
 "nbformat_minor": 5
}
