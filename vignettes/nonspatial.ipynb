{
 "cells": [
  {
   "cell_type": "raw",
<<<<<<< HEAD
<<<<<<< HEAD
   "id": "a638a4bc",
||||||| fa5abb84
   "id": "68ac7f0c",
=======
   "id": "c32aea6f",
>>>>>>> documentation-devel
||||||| 7e3277eb
   "id": "c32aea6f",
=======
   "id": "535bbd75",
>>>>>>> documentation-devel
   "metadata": {},
   "source": [
    "---\n",
    "title: \"Apply spatial analyses to non-spatial scRNA-seq data\"\n",
    "author: \"Lambda Moses\"\n",
    "date: \"`r Sys.Date()`\"\n",
    "output: \n",
    "  html_document:\n",
    "  toc: true\n",
    "  toc_float:\n",
    "    collapsed: false\n",
    "  toc_depth: 3\n",
    "bibliography: ref.bib\n",
    "vignette: >\n",
    "  %\\VignetteIndexEntry{nonspatial}\n",
    "  %\\VignetteEngine{knitr::rmarkdown}\n",
    "  %\\VignetteEncoding{UTF-8}\n",
    "---"
   ]
  },
  {
   "cell_type": "code",
   "execution_count": null,
<<<<<<< HEAD
<<<<<<< HEAD
   "id": "7aa85951",
||||||| fa5abb84
   "id": "622255a5",
=======
   "id": "61f46e81",
>>>>>>> documentation-devel
||||||| 7e3277eb
   "id": "61f46e81",
=======
   "id": "77fda9ba",
>>>>>>> documentation-devel
   "metadata": {
    "tags": [
     "remove_cell"
    ]
   },
   "outputs": [],
   "source": [
    "knitr::opts_chunk$set(\n",
    "  collapse = TRUE,\n",
    "  comment = \"#>\"\n",
    ")"
   ]
  },
  {
   "cell_type": "code",
   "execution_count": null,
<<<<<<< HEAD
<<<<<<< HEAD
   "id": "71599b24",
||||||| fa5abb84
   "id": "570c768c",
=======
   "id": "452ec547",
>>>>>>> documentation-devel
||||||| 7e3277eb
   "id": "452ec547",
=======
   "id": "ca04a452",
>>>>>>> documentation-devel
   "metadata": {
    "eval": false,
    "tags": [
     "remove_cell"
    ]
   },
   "outputs": [],
   "source": [
    "# Install Google Colab dependencies\n",
    "# Note: this can take 30+ minutes (many of the dependencies include C++ code, which needs to be compiled)\n",
    "\n",
    "# First install `sf`, `ragg` and `textshaping` and their system dependencies:\n",
    "system(\"apt-get -y update && apt-get install -y  libudunits2-dev libgdal-dev libgeos-dev libproj-dev libharfbuzz-dev libfribidi-dev\")\n",
    "install.packages(\"sf\")\n",
    "install.packages(\"textshaping\")\n",
    "install.packages(\"ragg\")\n",
    "\n",
    "# Install system dependencies of some other R packages that Voyager either imports or suggests:\n",
    "system(\"apt-get install -y libfribidi-dev libcairo2-dev libmagick++-dev\")\n",
    "\n",
    "# Install Voyager from Bioconductor:\n",
    "install.packages(\"BiocManager\")\n",
    "BiocManager::install(version = \"3.17\", ask = FALSE, update = FALSE, Ncpus = 2)\n",
    "BiocManager::install(\"scater\")\n",
    "system.time(\n",
    "  BiocManager::install(\"Voyager\", dependencies = TRUE, Ncpus = 2, update = FALSE)\n",
    ")\n",
    "\n",
    "# Additional dependencies for this notebook\n",
    "install.packages(\"reticulate\")\n",
    "#system(\"pip3 install gget\")\n",
    "packageVersion(\"Voyager\")"
   ]
  },
  {
   "cell_type": "markdown",
<<<<<<< HEAD
<<<<<<< HEAD
   "id": "3c21ce1a",
||||||| fa5abb84
   "id": "4b9d27cb",
=======
   "id": "4513f69a",
>>>>>>> documentation-devel
||||||| 7e3277eb
   "id": "4513f69a",
=======
   "id": "b62fc1ff",
>>>>>>> documentation-devel
   "metadata": {
    "lines_to_next_cell": 0
   },
   "source": [
    "# Introduction\n",
    "\n",
    "For areal spatial data, the spatial neighborhood graph is used to indicate proximity, and is required for all spatial analysis methods in the package `spdep`. One of the methods to find the spatial neighborhood graph is k nearest neighbors, which is also commonly used in gene expression PCA space for graph-based clustering of cells in non-spatial scRNA-seq data. Then what if we use the k nearest neighbors graph in PCA space rather than histological space for \"spatial\" analyses for non-spatial scRNA-seq data?\n",
    "\n",
    "Here we try such an analysis on a human peripheral blood mononuclear cells (PBMC) scRNA-seq dataset, which doesn't originally have histological spatial organization. These are the packages loaded for the analysis:"
   ]
  },
  {
   "cell_type": "code",
   "execution_count": null,
<<<<<<< HEAD
<<<<<<< HEAD
   "id": "a24bdc34",
||||||| fa5abb84
   "id": "e600f7b6",
=======
   "id": "e49701fa",
>>>>>>> documentation-devel
||||||| 7e3277eb
   "id": "e49701fa",
=======
   "id": "039030bf",
>>>>>>> documentation-devel
   "metadata": {
    "message": false,
    "name": "setup"
   },
   "outputs": [],
   "source": [
    "library(Voyager)\n",
    "library(SpatialFeatureExperiment)\n",
    "library(SpatialExperiment)\n",
    "library(DropletUtils)\n",
    "library(BiocNeighbors)\n",
    "library(scater)\n",
    "library(scran)\n",
    "library(bluster)\n",
    "library(BiocParallel)\n",
    "library(scuttle)\n",
    "library(stringr)\n",
    "library(BiocSingular)\n",
    "library(spdep)\n",
    "library(patchwork)\n",
    "library(dplyr)\n",
    "library(reticulate)\n",
    "theme_set(theme_bw())"
   ]
  },
  {
   "cell_type": "code",
   "execution_count": null,
<<<<<<< HEAD
<<<<<<< HEAD
   "id": "b1870d7a",
||||||| fa5abb84
   "id": "0ab6cdb1",
=======
   "id": "aa113b0f",
>>>>>>> documentation-devel
||||||| 7e3277eb
   "id": "aa113b0f",
=======
   "id": "7be88403",
>>>>>>> documentation-devel
   "metadata": {},
   "outputs": [],
   "source": [
    "# Specify Python version to use gget\n",
    "PY_PATH <- Sys.which(\"python\")\n",
    "use_python(PY_PATH)\n",
    "py_config()\n",
    "\n",
    "# Load gget\n",
    "gget <- import(\"gget\")"
   ]
  },
  {
   "cell_type": "markdown",
<<<<<<< HEAD
<<<<<<< HEAD
   "id": "521e29ab",
||||||| fa5abb84
   "id": "a534daba",
=======
   "id": "4e021cc3",
>>>>>>> documentation-devel
||||||| 7e3277eb
   "id": "4e021cc3",
=======
   "id": "6d0f958d",
>>>>>>> documentation-devel
   "metadata": {},
   "source": [
    "Here we download the filtered [Cell Ranger gene count matrix from the 10X website](https://support.10xgenomics.com/single-cell-gene-expression/datasets/3.0.2/5k_pbmc_v3_nextgem?). The empty droplets have already been removed."
   ]
  },
  {
   "cell_type": "code",
   "execution_count": null,
<<<<<<< HEAD
<<<<<<< HEAD
   "id": "9441f6e7",
||||||| fa5abb84
   "id": "03522498",
=======
   "id": "f229ae9d",
>>>>>>> documentation-devel
||||||| 7e3277eb
   "id": "f229ae9d",
=======
   "id": "082c0dc7",
>>>>>>> documentation-devel
   "metadata": {},
   "outputs": [],
   "source": [
    "if (!dir.exists(\"filtered_feature_bc_matrix\")) {\n",
    "    download.file(\"https://cf.10xgenomics.com/samples/cell-exp/3.0.2/5k_pbmc_v3_nextgem/5k_pbmc_v3_nextgem_filtered_feature_bc_matrix.tar.gz\", destfile = \"5kpbmc.tar.gz\", quiet = TRUE)\n",
    "    system(\"tar -xzf 5kpbmc.tar.gz\")\n",
    "}"
   ]
  },
  {
   "cell_type": "markdown",
<<<<<<< HEAD
<<<<<<< HEAD
   "id": "dd61f659",
||||||| fa5abb84
   "id": "e9013a3c",
=======
   "id": "d8be9b71",
>>>>>>> documentation-devel
||||||| 7e3277eb
   "id": "d8be9b71",
=======
   "id": "66f5840a",
>>>>>>> documentation-devel
   "metadata": {
    "lines_to_next_cell": 0
   },
   "source": [
    "This is loaded into R as a `SingleCellExperiment` (SCE) object."
   ]
  },
  {
   "cell_type": "code",
   "execution_count": null,
<<<<<<< HEAD
<<<<<<< HEAD
   "id": "6f45ffba",
||||||| fa5abb84
   "id": "7679073c",
=======
   "id": "67e0321a",
>>>>>>> documentation-devel
||||||| 7e3277eb
   "id": "67e0321a",
=======
   "id": "f5a59136",
>>>>>>> documentation-devel
   "metadata": {},
   "outputs": [],
   "source": [
    "(sce <- read10xCounts(\"filtered_feature_bc_matrix/\"))"
   ]
  },
  {
   "cell_type": "code",
   "execution_count": null,
<<<<<<< HEAD
<<<<<<< HEAD
   "id": "36fcd7dd",
||||||| fa5abb84
   "id": "ccefe36d",
=======
   "id": "64d1fbab",
>>>>>>> documentation-devel
||||||| 7e3277eb
   "id": "64d1fbab",
=======
   "id": "8442c7ae",
>>>>>>> documentation-devel
   "metadata": {},
   "outputs": [],
   "source": [
    "colnames(sce) <- sce$Barcode"
   ]
  },
  {
   "cell_type": "markdown",
<<<<<<< HEAD
<<<<<<< HEAD
   "id": "c4761ca5",
||||||| fa5abb84
   "id": "b333f4f2",
=======
   "id": "a3666bfa",
>>>>>>> documentation-devel
||||||| 7e3277eb
   "id": "a3666bfa",
=======
   "id": "542af4b3",
>>>>>>> documentation-devel
   "metadata": {
    "lines_to_next_cell": 0
   },
   "source": [
    "# Quality control (QC)\n",
    "Here we perform some basic QC, to remove low quality cells with high proportion of mitochondrially encoded counts. "
   ]
  },
  {
   "cell_type": "code",
   "execution_count": null,
<<<<<<< HEAD
<<<<<<< HEAD
   "id": "b98e1bd1",
||||||| fa5abb84
   "id": "e40f430e",
=======
   "id": "99b45fc8",
>>>>>>> documentation-devel
||||||| 7e3277eb
   "id": "99b45fc8",
=======
   "id": "89dede1d",
>>>>>>> documentation-devel
   "metadata": {},
   "outputs": [],
   "source": [
    "is_mito <- str_detect(rowData(sce)$Symbol, \"^MT-\")\n",
    "sum(is_mito)"
   ]
  },
  {
   "cell_type": "code",
   "execution_count": null,
<<<<<<< HEAD
<<<<<<< HEAD
   "id": "98c88a3a",
||||||| fa5abb84
   "id": "015d64d1",
=======
   "id": "8a3a042f",
>>>>>>> documentation-devel
||||||| 7e3277eb
   "id": "8a3a042f",
=======
   "id": "6fa33ab8",
>>>>>>> documentation-devel
   "metadata": {},
   "outputs": [],
   "source": [
    "sce <- addPerCellQCMetrics(sce, subsets = list(mito = is_mito))\n",
    "names(colData(sce))"
   ]
  },
  {
   "cell_type": "markdown",
<<<<<<< HEAD
<<<<<<< HEAD
   "id": "2b4f4bfa",
||||||| fa5abb84
   "id": "083c8e71",
=======
   "id": "1ccee92e",
>>>>>>> documentation-devel
||||||| 7e3277eb
   "id": "1ccee92e",
=======
   "id": "acca7b14",
>>>>>>> documentation-devel
   "metadata": {},
   "source": [
    "The `addPerCellQCMetrics()` function computes the total UMI counts detected per cell (`sum`), number of genes detected per cell (`detected`), `sum` and `detected` for mitochondrial counts, and percentage of mitochondrial counts per cell."
   ]
  },
  {
   "cell_type": "code",
   "execution_count": null,
<<<<<<< HEAD
<<<<<<< HEAD
   "id": "7fac220c",
||||||| fa5abb84
   "id": "8163d791",
=======
   "id": "ebbb18c3",
>>>>>>> documentation-devel
||||||| 7e3277eb
   "id": "ebbb18c3",
=======
   "id": "595ae2aa",
>>>>>>> documentation-devel
   "metadata": {},
   "outputs": [],
   "source": [
    "plotColData(sce, \"sum\") +\n",
    "    plotColData(sce, \"detected\") +\n",
    "    plotColData(sce, \"subsets_mito_percent\")"
   ]
  },
  {
   "cell_type": "markdown",
<<<<<<< HEAD
<<<<<<< HEAD
   "id": "1e408a8e",
||||||| fa5abb84
   "id": "bb21b19a",
=======
   "id": "7f177114",
>>>>>>> documentation-devel
||||||| 7e3277eb
   "id": "7f177114",
=======
   "id": "9bff9b47",
>>>>>>> documentation-devel
   "metadata": {
    "lines_to_next_cell": 0
   },
   "source": [
    "Here a 2D histogram is plotted to better show point density on the plot."
   ]
  },
  {
   "cell_type": "code",
   "execution_count": null,
<<<<<<< HEAD
<<<<<<< HEAD
   "id": "3a71387f",
||||||| fa5abb84
   "id": "71a62187",
=======
   "id": "8b1019a4",
>>>>>>> documentation-devel
||||||| 7e3277eb
   "id": "8b1019a4",
=======
   "id": "0418f59f",
>>>>>>> documentation-devel
   "metadata": {},
   "outputs": [],
   "source": [
    "plotColData(sce, x = \"sum\", y = \"detected\", bins = 100)"
   ]
  },
  {
   "cell_type": "code",
   "execution_count": null,
<<<<<<< HEAD
<<<<<<< HEAD
   "id": "9bc0e37d",
||||||| fa5abb84
   "id": "66d510b1",
=======
   "id": "01a2335f",
>>>>>>> documentation-devel
||||||| 7e3277eb
   "id": "01a2335f",
=======
   "id": "02a5745a",
>>>>>>> documentation-devel
   "metadata": {},
   "outputs": [],
   "source": [
    "plotColData(sce, x = \"sum\", y = \"subsets_mito_percent\", bins = 100)"
   ]
  },
  {
   "cell_type": "markdown",
<<<<<<< HEAD
<<<<<<< HEAD
   "id": "21e83301",
||||||| fa5abb84
   "id": "722d9c0e",
=======
   "id": "ab2d0404",
>>>>>>> documentation-devel
||||||| 7e3277eb
   "id": "ab2d0404",
=======
   "id": "1de3bbd6",
>>>>>>> documentation-devel
   "metadata": {
    "lines_to_next_cell": 0
   },
   "source": [
    "Remove cells with >20% mitochondrial counts"
   ]
  },
  {
   "cell_type": "code",
   "execution_count": null,
<<<<<<< HEAD
<<<<<<< HEAD
   "id": "7bd2fe0b",
||||||| fa5abb84
   "id": "a7ad3514",
=======
   "id": "f75c4985",
>>>>>>> documentation-devel
||||||| 7e3277eb
   "id": "f75c4985",
=======
   "id": "5b23cfa0",
>>>>>>> documentation-devel
   "metadata": {},
   "outputs": [],
   "source": [
    "sce <- sce[, sce$subsets_mito_percent < 20]\n",
    "sce <- sce[rowSums(counts(sce)) > 0,]"
   ]
  },
  {
   "cell_type": "markdown",
<<<<<<< HEAD
<<<<<<< HEAD
   "id": "6863957f",
||||||| fa5abb84
   "id": "6b2a04ec",
=======
   "id": "bb121c12",
>>>>>>> documentation-devel
||||||| 7e3277eb
   "id": "bb121c12",
=======
   "id": "15a299f3",
>>>>>>> documentation-devel
   "metadata": {
    "lines_to_next_cell": 0
   },
   "source": [
    "# Basic non-spatial analyses\n",
    "Here we normalize the data, perform PCA, cluster the cells, and find marker genes for the clusters."
   ]
  },
  {
   "cell_type": "code",
   "execution_count": null,
<<<<<<< HEAD
<<<<<<< HEAD
   "id": "422bedc4",
||||||| fa5abb84
   "id": "8d7e7987",
=======
   "id": "271b08f3",
>>>>>>> documentation-devel
||||||| 7e3277eb
   "id": "271b08f3",
=======
   "id": "02781e01",
>>>>>>> documentation-devel
   "metadata": {},
   "outputs": [],
   "source": [
    "#clusts <- quickCluster(sce)\n",
    "#sce <- computeSumFactors(sce, cluster = clusts)\n",
    "#sce <- sce[, sizeFactors(sce) > 0]\n",
    "sce <- logNormCounts(sce)"
   ]
  },
  {
   "cell_type": "markdown",
<<<<<<< HEAD
<<<<<<< HEAD
   "id": "cc7244f6",
||||||| fa5abb84
   "id": "8f39f443",
=======
   "id": "17306960",
>>>>>>> documentation-devel
||||||| 7e3277eb
   "id": "17306960",
=======
   "id": "2b73a36b",
>>>>>>> documentation-devel
   "metadata": {
    "lines_to_next_cell": 0
   },
   "source": [
    "Use the highly variable genes for PCA:"
   ]
  },
  {
   "cell_type": "code",
   "execution_count": null,
<<<<<<< HEAD
<<<<<<< HEAD
   "id": "7a291b92",
||||||| fa5abb84
   "id": "2743d5a4",
=======
   "id": "b35f80b1",
>>>>>>> documentation-devel
||||||| 7e3277eb
   "id": "b35f80b1",
=======
   "id": "69554850",
>>>>>>> documentation-devel
   "metadata": {},
   "outputs": [],
   "source": [
    "dec <- modelGeneVar(sce, lowess = FALSE)\n",
    "hvgs <- getTopHVGs(dec, n = 2000)"
   ]
  },
  {
   "cell_type": "code",
   "execution_count": null,
<<<<<<< HEAD
<<<<<<< HEAD
   "id": "9418048d",
||||||| fa5abb84
   "id": "0e13c489",
=======
   "id": "99408489",
>>>>>>> documentation-devel
||||||| 7e3277eb
   "id": "99408489",
=======
   "id": "020ae325",
>>>>>>> documentation-devel
   "metadata": {},
   "outputs": [],
   "source": [
    "set.seed(29)\n",
    "sce <- runPCA(sce, ncomponents = 30, BSPARAM = IrlbaParam(),\n",
    "              subset_row = hvgs, scale = TRUE)"
   ]
  },
  {
   "cell_type": "markdown",
<<<<<<< HEAD
<<<<<<< HEAD
   "id": "ea3dc6ef",
||||||| fa5abb84
   "id": "fd641410",
=======
   "id": "cfd5211a",
>>>>>>> documentation-devel
||||||| 7e3277eb
   "id": "cfd5211a",
=======
   "id": "2d585cc7",
>>>>>>> documentation-devel
   "metadata": {
    "lines_to_next_cell": 0
   },
   "source": [
    "How many PCs shall we use for further analyses?"
   ]
  },
  {
   "cell_type": "code",
   "execution_count": null,
<<<<<<< HEAD
<<<<<<< HEAD
   "id": "ffe74999",
||||||| fa5abb84
   "id": "9927a198",
=======
   "id": "5ff8fa4c",
>>>>>>> documentation-devel
||||||| 7e3277eb
   "id": "5ff8fa4c",
=======
   "id": "7feb985d",
>>>>>>> documentation-devel
   "metadata": {},
   "outputs": [],
   "source": [
    "ElbowPlot(sce, ndims = 30)"
   ]
  },
  {
   "cell_type": "markdown",
<<<<<<< HEAD
<<<<<<< HEAD
   "id": "5c9af9e1",
||||||| fa5abb84
   "id": "c8dccb16",
=======
   "id": "7691897e",
>>>>>>> documentation-devel
||||||| 7e3277eb
   "id": "7691897e",
=======
   "id": "98bb08e5",
>>>>>>> documentation-devel
   "metadata": {},
   "source": [
    "Variance explained drops sharply from PC1 and again from PC4 and then levels off. Plot genes with the largest loadings of the top 4 PCs:"
   ]
  },
  {
   "cell_type": "code",
   "execution_count": null,
<<<<<<< HEAD
<<<<<<< HEAD
   "id": "5a7ba03d",
||||||| fa5abb84
   "id": "a751905d",
=======
   "id": "174488a0",
>>>>>>> documentation-devel
||||||| 7e3277eb
   "id": "174488a0",
=======
   "id": "3d0521ba",
>>>>>>> documentation-devel
   "metadata": {
    "lines_to_next_cell": 2
   },
   "outputs": [],
   "source": [
    "plotDimLoadings(sce, swap_rownames = \"Symbol\")"
   ]
  },
  {
   "cell_type": "markdown",
<<<<<<< HEAD
<<<<<<< HEAD
   "id": "63c6c2cf",
||||||| fa5abb84
   "id": "f070ff35",
=======
   "id": "26be6310",
>>>>>>> documentation-devel
||||||| 7e3277eb
   "id": "26be6310",
=======
   "id": "ac89ec36",
>>>>>>> documentation-devel
   "metadata": {},
   "source": [
    "To keep a little more information, we use 10 PCs, after which variance explained levels off even more."
   ]
  },
  {
   "cell_type": "code",
   "execution_count": null,
<<<<<<< HEAD
<<<<<<< HEAD
   "id": "b7b724c4",
||||||| fa5abb84
   "id": "e4ba3227",
=======
   "id": "7616d9d7",
>>>>>>> documentation-devel
||||||| 7e3277eb
   "id": "7616d9d7",
=======
   "id": "9cfce5d9",
>>>>>>> documentation-devel
   "metadata": {},
   "outputs": [],
   "source": [
    "sce$cluster <- clusterRows(reducedDim(sce, \"PCA\")[,1:10],\n",
    "                           BLUSPARAM = SNNGraphParam(cluster.fun = \"leiden\",\n",
    "                                                     k = 10,\n",
    "                                                     cluster.args = list(\n",
    "                                                         resolution=0.5,\n",
    "                                                         objective_function = \"modularity\"\n",
    "                                                     )))"
   ]
  },
  {
   "cell_type": "markdown",
<<<<<<< HEAD
<<<<<<< HEAD
   "id": "dcca4073",
||||||| fa5abb84
   "id": "682893cd",
=======
   "id": "bf33138f",
>>>>>>> documentation-devel
||||||| 7e3277eb
   "id": "bf33138f",
=======
   "id": "63d77fbb",
>>>>>>> documentation-devel
   "metadata": {},
   "source": [
    "Here we plot the cells in the first 4 PCs in a matrix plot. The diagonals are density plots of the number of cells as projected on each PC. The x axis should correspond to the columns of the matrix plot, and the y axis should correspond to the rows, so the plot in row 1 column 2 has PC2 in the x axis and PC1 in the y axis. The cells are colored by clusters found in the previous code chunk."
   ]
  },
  {
   "cell_type": "code",
   "execution_count": null,
<<<<<<< HEAD
<<<<<<< HEAD
   "id": "f10793df",
||||||| fa5abb84
   "id": "f17a48b4",
=======
   "id": "7d399b12",
>>>>>>> documentation-devel
||||||| 7e3277eb
   "id": "7d399b12",
=======
   "id": "55239e2a",
>>>>>>> documentation-devel
   "metadata": {
    "fig.height": 9,
    "fig.width": 9
   },
   "outputs": [],
   "source": [
    "plotPCA(sce, ncomponents = 4, color_by = \"cluster\")"
   ]
  },
  {
   "cell_type": "markdown",
<<<<<<< HEAD
<<<<<<< HEAD
   "id": "9858366a",
||||||| fa5abb84
   "id": "dbde092a",
=======
   "id": "a5229a5c",
>>>>>>> documentation-devel
||||||| 7e3277eb
   "id": "a5229a5c",
=======
   "id": "7d24c4b8",
>>>>>>> documentation-devel
   "metadata": {
    "lines_to_next_cell": 0
   },
   "source": [
    "How many cells are there in each cluster?"
   ]
  },
  {
   "cell_type": "code",
   "execution_count": null,
<<<<<<< HEAD
<<<<<<< HEAD
   "id": "6b2fbc96",
||||||| fa5abb84
   "id": "e29d7902",
=======
   "id": "52f572c2",
>>>>>>> documentation-devel
||||||| 7e3277eb
   "id": "52f572c2",
=======
   "id": "d12c32a8",
>>>>>>> documentation-devel
   "metadata": {},
   "outputs": [],
   "source": [
    "table(sce$cluster)"
   ]
  },
  {
   "cell_type": "markdown",
<<<<<<< HEAD
<<<<<<< HEAD
   "id": "63468343",
||||||| fa5abb84
   "id": "8cf5326f",
=======
   "id": "576baa55",
>>>>>>> documentation-devel
||||||| 7e3277eb
   "id": "576baa55",
=======
   "id": "dae1a3b8",
>>>>>>> documentation-devel
   "metadata": {
    "lines_to_next_cell": 0
   },
   "source": [
    "Then we use the conventional Wilcoxon rank sum test to find marker genes for each cluster. The test compares each cluster to the rest of the cells, and only genes more highly expressed in the cluster compared to the other cells are considered. The result is a list of data frames, where each data frame corresponds to one cluster. Areas under the receiver operator curve (AUC), distinguishing each cluster vs. any other cluster, are also included. The closer to 1 the better, while 0.5 means no better than random guessing. The false discovery rate (FDR) column contains the Benjamini-Hochberg corrected p-values. Genes in these data frames are already sorted by p-values."
   ]
  },
  {
   "cell_type": "code",
   "execution_count": null,
<<<<<<< HEAD
<<<<<<< HEAD
   "id": "2cef33e4",
||||||| fa5abb84
   "id": "bd40ee2b",
=======
   "id": "79a6bd28",
>>>>>>> documentation-devel
||||||| 7e3277eb
   "id": "79a6bd28",
=======
   "id": "ec468a3b",
>>>>>>> documentation-devel
   "metadata": {
    "lines_to_next_cell": 2
   },
   "outputs": [],
   "source": [
    "markers <- findMarkers(sce, groups = colData(sce)$cluster,\n",
    "                       test.type = \"wilcox\", pval.type = \"all\", direction = \"up\")\n",
    "markers[[4]]"
   ]
  },
  {
   "cell_type": "markdown",
<<<<<<< HEAD
<<<<<<< HEAD
   "id": "acc733c7",
||||||| fa5abb84
   "id": "c73ac74d",
=======
   "id": "f44980ef",
>>>>>>> documentation-devel
||||||| 7e3277eb
   "id": "f44980ef",
=======
   "id": "c66dc136",
>>>>>>> documentation-devel
   "metadata": {},
   "source": [
    "See how specific the top markers are to each cluster:"
   ]
  },
  {
   "cell_type": "code",
   "execution_count": null,
<<<<<<< HEAD
<<<<<<< HEAD
   "id": "5c1b65dc",
||||||| fa5abb84
   "id": "5f23b509",
=======
   "id": "cefa2c3f",
>>>>>>> documentation-devel
||||||| 7e3277eb
   "id": "cefa2c3f",
=======
   "id": "803ce990",
>>>>>>> documentation-devel
   "metadata": {},
   "outputs": [],
   "source": [
    "top_markers <- unlist(lapply(markers, function(x) head(rownames(x), 1)))\n",
    "top_markers_symbol <- rowData(sce)[top_markers, \"Symbol\"]"
   ]
  },
  {
   "cell_type": "code",
   "execution_count": null,
<<<<<<< HEAD
<<<<<<< HEAD
   "id": "c679e552",
||||||| fa5abb84
   "id": "b430a006",
=======
   "id": "8a716861",
>>>>>>> documentation-devel
||||||| 7e3277eb
   "id": "8a716861",
=======
   "id": "27915bff",
>>>>>>> documentation-devel
   "metadata": {},
   "outputs": [],
   "source": [
    "plotExpression(sce, top_markers_symbol, x = \"cluster\", swap_rownames = \"Symbol\",\n",
    "               point_fun = function(...) list())"
   ]
  },
  {
   "cell_type": "markdown",
<<<<<<< HEAD
<<<<<<< HEAD
   "id": "30468483",
||||||| fa5abb84
   "id": "03ab4e60",
=======
   "id": "e8c3dcf4",
>>>>>>> documentation-devel
||||||| 7e3277eb
   "id": "e8c3dcf4",
=======
   "id": "198ba585",
>>>>>>> documentation-devel
   "metadata": {
    "lines_to_next_cell": 0
   },
   "source": [
    "We can use the [gget info](https://pachterlab.github.io/gget/info.html) module from the [gget](https://pachterlab.github.io/gget/) package to get additional information for these marker genes. For example, their [NCBI](https://www.ncbi.nlm.nih.gov/) description:"
   ]
  },
  {
   "cell_type": "code",
   "execution_count": null,
<<<<<<< HEAD
<<<<<<< HEAD
   "id": "c434dd8b",
||||||| fa5abb84
   "id": "d8c3b756",
=======
   "id": "bb76fb13",
>>>>>>> documentation-devel
||||||| 7e3277eb
   "id": "bb76fb13",
=======
   "id": "13d9c645",
>>>>>>> documentation-devel
   "metadata": {},
   "outputs": [],
   "source": [
    "gget_info <- gget$info(top_markers)\n",
    "\n",
    "rownames(gget_info) <- gget_info$ensembl_gene_name\n",
    "select(gget_info, ncbi_description)"
   ]
  },
  {
   "cell_type": "markdown",
<<<<<<< HEAD
<<<<<<< HEAD
   "id": "827ed947",
||||||| fa5abb84
   "id": "3883196a",
=======
   "id": "d42f79bf",
>>>>>>> documentation-devel
||||||| 7e3277eb
   "id": "d42f79bf",
=======
   "id": "130b35a7",
>>>>>>> documentation-devel
   "metadata": {
    "lines_to_next_cell": 0
   },
   "source": [
    "# \"Spatial\" analyses for QC metrics\n",
    "Find k nearest neighbor graph in PCA space for Moran's I: We are not using `spdep` here since its `nb2listwdist()` function for distance based edge weighting requires 2-3 dimensional spatial coordinates while the coordinates here have 10 dimensions. Here, inverse distance weighting is used for edge weights."
   ]
  },
  {
   "cell_type": "code",
   "execution_count": null,
<<<<<<< HEAD
<<<<<<< HEAD
   "id": "6a607df2",
||||||| fa5abb84
   "id": "e26bf908",
=======
   "id": "a26504e5",
>>>>>>> documentation-devel
||||||| 7e3277eb
   "id": "a26504e5",
=======
   "id": "20527075",
>>>>>>> documentation-devel
   "metadata": {},
   "outputs": [],
   "source": [
    "foo <- findKNN(reducedDim(sce, \"PCA\")[,1:10], k=10, BNPARAM=AnnoyParam())\n",
    "# Split by row\n",
    "foo_nb <- asplit(foo$index, 1)\n",
    "dmat <- 1/foo$distance\n",
    "# Row normalize the weights\n",
    "dmat <- sweep(dmat, 1, rowSums(dmat), FUN = \"/\")\n",
    "glist <- asplit(dmat, 1)\n",
    "# Sort based on index\n",
    "ord <- lapply(foo_nb, order)\n",
    "foo_nb <- lapply(seq_along(foo_nb), function(i) foo_nb[[i]][ord[[i]]])\n",
    "class(foo_nb) <- \"nb\"\n",
    "glist <- lapply(seq_along(glist), function(i) glist[[i]][ord[[i]]])\n",
    "\n",
    "listw <- list(style = \"W\",\n",
    "              neighbours = foo_nb,\n",
    "              weights = glist)\n",
    "class(listw) <- \"listw\"\n",
    "attr(listw, \"region.id\") <- colnames(sce)"
   ]
  },
  {
   "cell_type": "markdown",
<<<<<<< HEAD
<<<<<<< HEAD
   "id": "e51ed2ec",
||||||| fa5abb84
   "id": "f0aedbdb",
=======
   "id": "9e81ce56",
>>>>>>> documentation-devel
||||||| 7e3277eb
   "id": "9e81ce56",
=======
   "id": "2469b91d",
>>>>>>> documentation-devel
   "metadata": {
    "lines_to_next_cell": 0
   },
   "source": [
    "Because there is no histological space, we convert the SCE object into `SpatialFeatureExperiment` (SFE) to use the spatial analysis and plotting functions from `Voyager`, and pretend that the first 2 PCs are the histological space."
   ]
  },
  {
   "cell_type": "code",
   "execution_count": null,
<<<<<<< HEAD
<<<<<<< HEAD
   "id": "1196c2b5",
||||||| fa5abb84
   "id": "d8901c28",
=======
   "id": "ae451052",
>>>>>>> documentation-devel
||||||| 7e3277eb
   "id": "ae451052",
=======
   "id": "7b473337",
>>>>>>> documentation-devel
   "metadata": {},
   "outputs": [],
   "source": [
    "(sfe <- toSpatialFeatureExperiment(sce, spatialCoords = reducedDim(sce, \"PCA\")[,1:2],\n",
    "                                  spatialCoordsNames = NULL))"
   ]
  },
  {
   "cell_type": "markdown",
<<<<<<< HEAD
<<<<<<< HEAD
   "id": "9f41d605",
||||||| fa5abb84
   "id": "095507c5",
=======
   "id": "11fc8dd3",
>>>>>>> documentation-devel
||||||| 7e3277eb
   "id": "11fc8dd3",
=======
   "id": "e16725e5",
>>>>>>> documentation-devel
   "metadata": {
    "lines_to_next_cell": 0
   },
   "source": [
    "Add the k nearest neighbor graph to the SFE object:"
   ]
  },
  {
   "cell_type": "code",
   "execution_count": null,
<<<<<<< HEAD
<<<<<<< HEAD
   "id": "617f52dc",
||||||| fa5abb84
   "id": "e04b1a89",
=======
   "id": "5feb3f9a",
>>>>>>> documentation-devel
||||||| 7e3277eb
   "id": "5feb3f9a",
=======
   "id": "a496b746",
>>>>>>> documentation-devel
   "metadata": {},
   "outputs": [],
   "source": [
    "colGraph(sfe, \"knn10\") <- listw"
   ]
  },
  {
   "cell_type": "markdown",
<<<<<<< HEAD
<<<<<<< HEAD
   "id": "7e165b6c",
||||||| fa5abb84
   "id": "8e6da82c",
=======
   "id": "78418968",
>>>>>>> documentation-devel
||||||| 7e3277eb
   "id": "78418968",
=======
   "id": "c7a9131d",
>>>>>>> documentation-devel
   "metadata": {
    "lines_to_next_cell": 0
   },
   "source": [
    "## Moran's I"
   ]
  },
  {
   "cell_type": "code",
   "execution_count": null,
<<<<<<< HEAD
<<<<<<< HEAD
   "id": "ca8ceaa9",
||||||| fa5abb84
   "id": "3e08842d",
=======
   "id": "a6dffd92",
>>>>>>> documentation-devel
||||||| 7e3277eb
   "id": "a6dffd92",
=======
   "id": "607faed7",
>>>>>>> documentation-devel
   "metadata": {},
   "outputs": [],
   "source": [
    "sfe <- colDataMoransI(sfe, c(\"sum\", \"detected\", \"subsets_mito_percent\"))\n",
    "colFeatureData(sfe)[c(\"sum\", \"detected\", \"subsets_mito_percent\"),]"
   ]
  },
  {
   "cell_type": "markdown",
<<<<<<< HEAD
<<<<<<< HEAD
   "id": "1136833a",
||||||| fa5abb84
   "id": "d002952d",
=======
   "id": "55720a49",
>>>>>>> documentation-devel
||||||| 7e3277eb
   "id": "55720a49",
=======
   "id": "75eb2815",
>>>>>>> documentation-devel
   "metadata": {
    "lines_to_next_cell": 0
   },
   "source": [
    "For total UMI counts (sum) and genes detected (detected), Moran's I is quite strong, while it's positive but weaker for percentage of mitochondrial counts. The second column, K, is kurtosis of the feature of interest. \n",
    "\n",
    "## Moran plot\n",
    "\n",
    "How about the local variations on the k nearest neighbors graph? In the Moran plot, the x axis is the value for each cell, and the y axis is the average value among neighboring cells in the graph weighted by edge weights. The slope of the fitted line is Moran's I. Sometimes there are clusters in this plot, showing different kinds of neighborhoods."
   ]
  },
  {
   "cell_type": "code",
   "execution_count": null,
<<<<<<< HEAD
<<<<<<< HEAD
   "id": "152b9c9a",
||||||| fa5abb84
   "id": "7816da4a",
=======
   "id": "0ca38764",
>>>>>>> documentation-devel
||||||| 7e3277eb
   "id": "0ca38764",
=======
   "id": "1bf91139",
>>>>>>> documentation-devel
   "metadata": {},
   "outputs": [],
   "source": [
    "sfe <- colDataUnivariate(sfe, \"moran.plot\", c(\"sum\", \"detected\", \"subsets_mito_percent\"))"
   ]
  },
  {
   "cell_type": "markdown",
<<<<<<< HEAD
<<<<<<< HEAD
   "id": "4f3fb957",
||||||| fa5abb84
   "id": "f10bee87",
=======
   "id": "589a4ef9",
>>>>>>> documentation-devel
||||||| 7e3277eb
   "id": "589a4ef9",
=======
   "id": "e32907f5",
>>>>>>> documentation-devel
   "metadata": {
    "lines_to_next_cell": 0
   },
   "source": [
    "The dashed lines are the averages on the x and y axes."
   ]
  },
  {
   "cell_type": "code",
   "execution_count": null,
<<<<<<< HEAD
<<<<<<< HEAD
   "id": "f223ef38",
||||||| fa5abb84
   "id": "6ec3e776",
=======
   "id": "c439e549",
>>>>>>> documentation-devel
||||||| 7e3277eb
   "id": "c439e549",
=======
   "id": "715750a7",
>>>>>>> documentation-devel
   "metadata": {},
   "outputs": [],
   "source": [
    "moranPlot(sfe, \"sum\", color_by = \"cluster\")"
   ]
  },
  {
   "cell_type": "markdown",
<<<<<<< HEAD
<<<<<<< HEAD
   "id": "1db49eed",
||||||| fa5abb84
   "id": "977d72e6",
=======
   "id": "0ac10e35",
>>>>>>> documentation-devel
||||||| 7e3277eb
   "id": "0ac10e35",
=======
   "id": "9236a62f",
>>>>>>> documentation-devel
   "metadata": {
    "lines_to_next_cell": 0
   },
   "source": [
    "While most cells are in the cluster around the average, there is a cluster of cells with lower total counts whose neighbors also have lower total counts. There also is a cluster of cells with higher total counts whose neighbors also have higher total counts. These clusters seem to be somewhat related to some gene expression based clusters."
   ]
  },
  {
   "cell_type": "code",
   "execution_count": null,
<<<<<<< HEAD
<<<<<<< HEAD
   "id": "ffb98c59",
||||||| fa5abb84
   "id": "bf10c362",
=======
   "id": "ebb9da6c",
>>>>>>> documentation-devel
||||||| 7e3277eb
   "id": "ebb9da6c",
=======
   "id": "abe6b13c",
>>>>>>> documentation-devel
   "metadata": {},
   "outputs": [],
   "source": [
    "moranPlot(sfe, \"detected\", color_by = \"cluster\")"
   ]
  },
  {
   "cell_type": "code",
   "execution_count": null,
<<<<<<< HEAD
<<<<<<< HEAD
   "id": "b066398e",
||||||| fa5abb84
   "id": "3fd8cebd",
=======
   "id": "7bdfbba7",
>>>>>>> documentation-devel
||||||| 7e3277eb
   "id": "7bdfbba7",
=======
   "id": "52df4f46",
>>>>>>> documentation-devel
   "metadata": {},
   "outputs": [],
   "source": [
    "moranPlot(sfe, \"subsets_mito_percent\", color_by = \"cluster\")"
   ]
  },
  {
   "cell_type": "markdown",
<<<<<<< HEAD
<<<<<<< HEAD
   "id": "d5ba93e6",
||||||| fa5abb84
   "id": "a06fb09e",
=======
   "id": "2e6c7ed0",
>>>>>>> documentation-devel
||||||| 7e3277eb
   "id": "2e6c7ed0",
=======
   "id": "68bf51a0",
>>>>>>> documentation-devel
   "metadata": {},
   "source": [
    "There is one main cluster on this plot for the number of genes detected and for the percentage of mitochondrial counts. However, cells are somewhat separated by gene expression clusters. This is not surprising because the gene expression clusters are also based on the k nearest neighbor graph. Cluster 4 cells have a higher percentage of mitochondrial counts and so do their neighbors. \n",
    "\n",
    "## Local Moran's I\n",
    "Also see local Moran's I for these 3 QC metrics:"
   ]
  },
  {
   "cell_type": "code",
   "execution_count": null,
<<<<<<< HEAD
<<<<<<< HEAD
   "id": "b4285793",
||||||| fa5abb84
   "id": "a5eca21a",
=======
   "id": "f1aa14be",
>>>>>>> documentation-devel
||||||| 7e3277eb
   "id": "f1aa14be",
=======
   "id": "59272916",
>>>>>>> documentation-devel
   "metadata": {},
   "outputs": [],
   "source": [
    "sfe <- colDataUnivariate(sfe, \"localmoran\", c(\"sum\", \"detected\", \"subsets_mito_percent\"))"
   ]
  },
  {
   "cell_type": "markdown",
<<<<<<< HEAD
<<<<<<< HEAD
   "id": "79c83e81",
||||||| fa5abb84
   "id": "edf0c1d0",
=======
   "id": "7587f18b",
>>>>>>> documentation-devel
||||||| 7e3277eb
   "id": "7587f18b",
=======
   "id": "a14e777b",
>>>>>>> documentation-devel
   "metadata": {
    "lines_to_next_cell": 0
   },
   "source": [
    "Here, we don't have a histological space. So how can we visualize the local \"spatial\" statistics? [UMAP is bad](https://www.biorxiv.org/content/10.1101/2021.08.25.457696v1), but in this case PCA can somewhat separate the clusters. We can use the first 2 PCs as if they are the histological space. As a reference, we plot the metrics themselves and the clusters in the first 2 PCs. "
   ]
  },
  {
   "cell_type": "code",
   "execution_count": null,
<<<<<<< HEAD
<<<<<<< HEAD
   "id": "07db4255",
||||||| fa5abb84
   "id": "c533330c",
=======
   "id": "a9d466aa",
>>>>>>> documentation-devel
||||||| 7e3277eb
   "id": "a9d466aa",
=======
   "id": "c188953d",
>>>>>>> documentation-devel
   "metadata": {
    "fig.height": 6,
    "fig.width": 8
   },
   "outputs": [],
   "source": [
    "plotSpatialFeature(sfe, c(\"sum\", \"detected\", \"subsets_mito_percent\", \"cluster\"))"
   ]
  },
  {
   "cell_type": "markdown",
<<<<<<< HEAD
<<<<<<< HEAD
   "id": "d1be022b",
||||||| fa5abb84
   "id": "7394b341",
=======
   "id": "1ac3c10d",
>>>>>>> documentation-devel
||||||| 7e3277eb
   "id": "1ac3c10d",
=======
   "id": "8a1dbacb",
>>>>>>> documentation-devel
   "metadata": {
    "lines_to_next_cell": 0
   },
   "source": [
    "Plot the local Moran's I for these metrics in the first 2 PCs:"
   ]
  },
  {
   "cell_type": "code",
   "execution_count": null,
<<<<<<< HEAD
<<<<<<< HEAD
   "id": "4616632f",
||||||| fa5abb84
   "id": "e3b3f6dc",
=======
   "id": "727efba0",
>>>>>>> documentation-devel
||||||| 7e3277eb
   "id": "727efba0",
=======
   "id": "357854b3",
>>>>>>> documentation-devel
   "metadata": {
    "fig.height": 6,
    "fig.width": 8
   },
   "outputs": [],
   "source": [
    "plotLocalResult(sfe, \"localmoran\", c(\"sum\", \"detected\", \"subsets_mito_percent\"), \n",
    "                colGeometryName = \"centroids\",\n",
    "                divergent = TRUE, diverge_center = 0, ncol = 2)"
   ]
  },
  {
   "cell_type": "markdown",
<<<<<<< HEAD
<<<<<<< HEAD
   "id": "cb1f2ebc",
||||||| fa5abb84
   "id": "558a63dd",
=======
   "id": "e22964f4",
>>>>>>> documentation-devel
||||||| 7e3277eb
   "id": "e22964f4",
=======
   "id": "af08f2d1",
>>>>>>> documentation-devel
   "metadata": {
    "lines_to_next_cell": 0
   },
   "source": [
    "However, what if there is no good 2D representation of the data for easy plotting? Remember that here the k nearest neighbor graph was computed on the first 10 PCs rather than the first 2 PCs. The graph is not tied to the 2D representation. We can still plot histograms to show the distribution and scatter plots to compare the same local metric for different variables, which can be colored by another variable such as cluster. This may be added to the next release of Voyager. For now, we add the results of interest to `colData(sfe)` and use the existing `colData` plotting functions from `scater` and `Voyager`."
   ]
  },
  {
   "cell_type": "code",
   "execution_count": null,
<<<<<<< HEAD
<<<<<<< HEAD
   "id": "d6b48088",
||||||| fa5abb84
   "id": "f6ad6c34",
=======
   "id": "99cbff1d",
>>>>>>> documentation-devel
||||||| 7e3277eb
   "id": "99cbff1d",
=======
   "id": "450e5810",
>>>>>>> documentation-devel
   "metadata": {},
   "outputs": [],
   "source": [
    "localResultAttrs(sfe, \"localmoran\", \"sum\")"
   ]
  },
  {
   "cell_type": "code",
   "execution_count": null,
<<<<<<< HEAD
<<<<<<< HEAD
   "id": "696a6566",
||||||| fa5abb84
   "id": "97d42c3d",
=======
   "id": "ac04c3c4",
>>>>>>> documentation-devel
||||||| 7e3277eb
   "id": "ac04c3c4",
=======
   "id": "9b647f19",
>>>>>>> documentation-devel
   "metadata": {},
   "outputs": [],
   "source": [
    "sfe$sum_localmoran <- localResult(sfe, \"localmoran\", \"sum\")[,\"Ii\"]\n",
    "sfe$detected_localmoran <- localResult(sfe, \"localmoran\", \"detected\")[,\"Ii\"]\n",
    "sfe$pct_mito_localmoran <- localResult(sfe, \"localmoran\", \"subsets_mito_percent\")[,\"Ii\"]"
   ]
  },
  {
   "cell_type": "code",
   "execution_count": null,
<<<<<<< HEAD
<<<<<<< HEAD
   "id": "115fbf9c",
||||||| fa5abb84
   "id": "61bb1c8e",
=======
   "id": "50dc7ccc",
>>>>>>> documentation-devel
||||||| 7e3277eb
   "id": "50dc7ccc",
=======
   "id": "885adec4",
>>>>>>> documentation-devel
   "metadata": {},
   "outputs": [],
   "source": [
    "# Colorblind friendly palette\n",
    "data(\"ditto_colors\")"
   ]
  },
  {
   "cell_type": "code",
   "execution_count": null,
<<<<<<< HEAD
<<<<<<< HEAD
   "id": "2531ccb1",
||||||| fa5abb84
   "id": "d3c30452",
=======
   "id": "e645829f",
>>>>>>> documentation-devel
||||||| 7e3277eb
   "id": "e645829f",
=======
   "id": "1beedf52",
>>>>>>> documentation-devel
   "metadata": {},
   "outputs": [],
   "source": [
    "plotColDataFreqpoly(sfe, c(\"sum_localmoran\", \"detected_localmoran\", \n",
    "                           \"pct_mito_localmoran\"), bins = 50, \n",
    "                    color_by = \"cluster\") +\n",
    "    scale_y_log10() +\n",
    "    annotation_logticks(sides = \"l\")"
   ]
  },
  {
   "cell_type": "markdown",
<<<<<<< HEAD
<<<<<<< HEAD
   "id": "9d4ec78c",
||||||| fa5abb84
   "id": "fdc558d9",
=======
   "id": "f13f708e",
>>>>>>> documentation-devel
||||||| 7e3277eb
   "id": "f13f708e",
=======
   "id": "a17b92fc",
>>>>>>> documentation-devel
   "metadata": {},
   "source": [
    "The y axis is log transformed (hence that warning when some bins have no cells), so the color of cells in the long tail can be seen because most cells don't have very strong local Moran's I. Cells in cluster 7 have high local Moran's I in total UMI counts and genes detected, which means that they tend to be more homogeneous in these QC metrics.\n",
    "\n",
    "How do local Moran's I for these QC metrics relate to each other?"
   ]
  },
  {
   "cell_type": "code",
   "execution_count": null,
<<<<<<< HEAD
<<<<<<< HEAD
   "id": "fab8b8d0",
||||||| fa5abb84
   "id": "2ce61840",
=======
   "id": "6e4fa2b5",
>>>>>>> documentation-devel
||||||| 7e3277eb
   "id": "6e4fa2b5",
=======
   "id": "ce8f0b21",
>>>>>>> documentation-devel
   "metadata": {},
   "outputs": [],
   "source": [
    "plotColData(sfe, x = \"sum_localmoran\", y = \"detected_localmoran\", \n",
    "            color_by = \"cluster\") +\n",
    "    scale_color_manual(values = ditto_colors)"
   ]
  },
  {
   "cell_type": "markdown",
<<<<<<< HEAD
<<<<<<< HEAD
   "id": "b209e0ed",
||||||| fa5abb84
   "id": "2e7babd0",
=======
   "id": "ac35b3e9",
>>>>>>> documentation-devel
||||||| 7e3277eb
   "id": "ac35b3e9",
=======
   "id": "8eac9356",
>>>>>>> documentation-devel
   "metadata": {},
   "source": [
    "Cells more locally homogeneous in total UMI counts are also more homogeneous in number of genes detected, which is not surprising given the correlation between the two."
   ]
  },
  {
   "cell_type": "code",
   "execution_count": null,
<<<<<<< HEAD
<<<<<<< HEAD
   "id": "02c1daeb",
||||||| fa5abb84
   "id": "6d946f37",
=======
   "id": "c5924507",
>>>>>>> documentation-devel
||||||| 7e3277eb
   "id": "c5924507",
=======
   "id": "af8e0d4b",
>>>>>>> documentation-devel
   "metadata": {},
   "outputs": [],
   "source": [
    "plotColData(sfe, x = \"sum_localmoran\", y = \"pct_mito_localmoran\", \n",
    "            color_by = \"cluster\") +\n",
    "    scale_color_manual(values = ditto_colors)"
   ]
  },
  {
   "cell_type": "markdown",
<<<<<<< HEAD
<<<<<<< HEAD
   "id": "215deedb",
||||||| fa5abb84
   "id": "5a2b275b",
=======
   "id": "5d524b85",
>>>>>>> documentation-devel
||||||| 7e3277eb
   "id": "5d524b85",
=======
   "id": "5e7f1592",
>>>>>>> documentation-devel
   "metadata": {
    "lines_to_next_cell": 0
   },
   "source": [
    "For local Moran's I, `sum` vs percentage mitochondrial counts shows a more interesting pattern, highlighting clusters 4 and 7 as in the Moran plots.\n",
    "\n",
    "How does local Moran's I relate to the value itself?"
   ]
  },
  {
   "cell_type": "code",
   "execution_count": null,
<<<<<<< HEAD
<<<<<<< HEAD
   "id": "7c54980f",
||||||| fa5abb84
   "id": "9d94537f",
=======
   "id": "35d50dc9",
>>>>>>> documentation-devel
||||||| 7e3277eb
   "id": "35d50dc9",
=======
   "id": "72010e12",
>>>>>>> documentation-devel
   "metadata": {},
   "outputs": [],
   "source": [
    "plotColData(sfe, x = \"sum\", y = \"sum_localmoran\", color_by = \"cluster\") +\n",
    "    geom_density2d(data = as.data.frame(colData(sfe)),\n",
    "                   mapping = aes(x = sum, y = sum_localmoran), color = \"blue\", \n",
    "                   linewidth = 0.3) +\n",
    "    scale_color_manual(values = ditto_colors)"
   ]
  },
  {
   "cell_type": "markdown",
<<<<<<< HEAD
<<<<<<< HEAD
   "id": "3a20eb82",
||||||| fa5abb84
   "id": "27cddebf",
=======
   "id": "6363eaf6",
>>>>>>> documentation-devel
||||||| 7e3277eb
   "id": "6363eaf6",
=======
   "id": "46b6bf98",
>>>>>>> documentation-devel
   "metadata": {
    "lines_to_next_cell": 0
   },
   "source": [
    "In this case, generally cells with higher total counts also tend to have higher local Moran's I in total counts. However, there is another wing where cells with lower total counts have slightly higher local Moran's I in total counts and there's a central value of total counts with near 0 local Moran's I. The density contour shows that cells are concentrated at that central value.\n",
    "\n",
    "## Local spatial heteroscedasticity (LOSH)\n",
    "\n",
    "LOSH indicates heterogeneity around each cell in the k nearest neighbor graph."
   ]
  },
  {
   "cell_type": "code",
   "execution_count": null,
<<<<<<< HEAD
<<<<<<< HEAD
   "id": "530fa7b9",
||||||| fa5abb84
   "id": "670663f7",
=======
   "id": "a621dcb6",
>>>>>>> documentation-devel
||||||| 7e3277eb
   "id": "a621dcb6",
=======
   "id": "6cd0fdfd",
>>>>>>> documentation-devel
   "metadata": {},
   "outputs": [],
   "source": [
    "sfe <- colDataUnivariate(sfe, \"LOSH\", c(\"sum\", \"detected\", \"subsets_mito_percent\"))"
   ]
  },
  {
   "cell_type": "code",
   "execution_count": null,
<<<<<<< HEAD
<<<<<<< HEAD
   "id": "1a0af361",
||||||| fa5abb84
   "id": "6ac7fa43",
=======
   "id": "59bf69a2",
>>>>>>> documentation-devel
||||||| 7e3277eb
   "id": "59bf69a2",
=======
   "id": "d637676a",
>>>>>>> documentation-devel
   "metadata": {
    "fig.height": 6,
    "fig.width": 8
   },
   "outputs": [],
   "source": [
    "plotLocalResult(sfe, \"LOSH\", c(\"sum\", \"detected\", \"subsets_mito_percent\"), \n",
    "                colGeometryName = \"centroids\", ncol = 2)"
   ]
  },
  {
   "cell_type": "markdown",
<<<<<<< HEAD
<<<<<<< HEAD
   "id": "5de0b717",
||||||| fa5abb84
   "id": "76defe2e",
=======
   "id": "522d3876",
>>>>>>> documentation-devel
||||||| 7e3277eb
   "id": "522d3876",
=======
   "id": "0aec2061",
>>>>>>> documentation-devel
   "metadata": {},
   "source": [
    "Here we make the same non-spatial plots for LOSH as in local Moran's I."
   ]
  },
  {
   "cell_type": "code",
   "execution_count": null,
<<<<<<< HEAD
<<<<<<< HEAD
   "id": "7a97864c",
||||||| fa5abb84
   "id": "d9fbec6f",
=======
   "id": "e120af8c",
>>>>>>> documentation-devel
||||||| 7e3277eb
   "id": "e120af8c",
=======
   "id": "03d9cd03",
>>>>>>> documentation-devel
   "metadata": {},
   "outputs": [],
   "source": [
    "localResultAttrs(sfe, \"LOSH\", \"sum\")"
   ]
  },
  {
   "cell_type": "code",
   "execution_count": null,
<<<<<<< HEAD
<<<<<<< HEAD
   "id": "5d310336",
||||||| fa5abb84
   "id": "9339e332",
=======
   "id": "30b5c616",
>>>>>>> documentation-devel
||||||| 7e3277eb
   "id": "30b5c616",
=======
   "id": "601708e9",
>>>>>>> documentation-devel
   "metadata": {},
   "outputs": [],
   "source": [
    "sfe$sum_losh <- localResult(sfe, \"LOSH\", \"sum\")[,\"Hi\"]\n",
    "sfe$detected_losh <- localResult(sfe, \"LOSH\", \"detected\")[,\"Hi\"]\n",
    "sfe$pct_mito_losh <- localResult(sfe, \"LOSH\", \"subsets_mito_percent\")[,\"Hi\"]"
   ]
  },
  {
   "cell_type": "code",
   "execution_count": null,
<<<<<<< HEAD
<<<<<<< HEAD
   "id": "625cc98c",
||||||| fa5abb84
   "id": "011380c2",
=======
   "id": "bcbceca2",
>>>>>>> documentation-devel
||||||| 7e3277eb
   "id": "bcbceca2",
=======
   "id": "f933f6c2",
>>>>>>> documentation-devel
   "metadata": {},
   "outputs": [],
   "source": [
    "plotColDataFreqpoly(sfe, c(\"sum_losh\", \"detected_losh\", \n",
    "                           \"pct_mito_losh\"), bins = 50, \n",
    "                     color_by = \"cluster\") +\n",
    "    scale_y_log10() +\n",
    "    annotation_logticks(sides = \"l\")"
   ]
  },
  {
   "cell_type": "markdown",
<<<<<<< HEAD
<<<<<<< HEAD
   "id": "b01b0b5b",
||||||| fa5abb84
   "id": "b27384c9",
=======
   "id": "806880f9",
>>>>>>> documentation-devel
||||||| 7e3277eb
   "id": "806880f9",
=======
   "id": "a2e41f59",
>>>>>>> documentation-devel
   "metadata": {},
   "source": [
    "Here, clusters 2 and 6 tend to be more locally heterogeneous. How do total counts and genes detected relate in LOSH?"
   ]
  },
  {
   "cell_type": "code",
   "execution_count": null,
<<<<<<< HEAD
<<<<<<< HEAD
   "id": "6678fea9",
||||||| fa5abb84
   "id": "d5b344ae",
=======
   "id": "403237d1",
>>>>>>> documentation-devel
||||||| 7e3277eb
   "id": "403237d1",
=======
   "id": "bfca7e93",
>>>>>>> documentation-devel
   "metadata": {},
   "outputs": [],
   "source": [
    "plotColData(sfe, x = \"sum_losh\", y = \"detected_losh\", color_by = \"cluster\") +\n",
    "    scale_color_manual(values = ditto_colors)"
   ]
  },
  {
   "cell_type": "markdown",
<<<<<<< HEAD
<<<<<<< HEAD
   "id": "ab8fc300",
||||||| fa5abb84
   "id": "6a4843eb",
=======
   "id": "04f47562",
>>>>>>> documentation-devel
||||||| 7e3277eb
   "id": "04f47562",
=======
   "id": "e7f99a7e",
>>>>>>> documentation-devel
   "metadata": {},
   "source": [
    "While generally cells higher in LOSH in total counts are also higher in LOSH in genes detected, there are some outliers that are very high in both, with more heterogeneous neighborhoods. Absolute distance to the neighbors is not taken into account when the adjacency matrix is row normalized. It would be interesting to see if those outliers tend to be further away from their 10 nearest neighbors, or in a region in the PCA space where cells are further apart.\n",
    "\n",
    "How does total counts itself relate to its LOSH?"
   ]
  },
  {
   "cell_type": "code",
   "execution_count": null,
<<<<<<< HEAD
<<<<<<< HEAD
   "id": "4c710183",
||||||| fa5abb84
   "id": "1cee36ee",
=======
   "id": "5cd1ffd3",
>>>>>>> documentation-devel
||||||| 7e3277eb
   "id": "5cd1ffd3",
=======
   "id": "e8e8fd12",
>>>>>>> documentation-devel
   "metadata": {},
   "outputs": [],
   "source": [
    "plotColData(sfe, x = \"sum\", y = \"sum_losh\", color_by = \"cluster\") +\n",
    "    scale_color_manual(values = ditto_colors)"
   ]
  },
  {
   "cell_type": "markdown",
<<<<<<< HEAD
<<<<<<< HEAD
   "id": "63f69911",
||||||| fa5abb84
   "id": "916a0d50",
=======
   "id": "5e776d03",
>>>>>>> documentation-devel
||||||| 7e3277eb
   "id": "5e776d03",
=======
   "id": "71cb85e7",
>>>>>>> documentation-devel
   "metadata": {
    "lines_to_next_cell": 0
   },
   "source": [
    "There does not seem to be a clear relationship in this case. \n",
    "\n",
    "# \"Spatial\" analyses for gene expression\n",
    "First, we need to reorganize the differential expression results:"
   ]
  },
  {
   "cell_type": "code",
   "execution_count": null,
<<<<<<< HEAD
<<<<<<< HEAD
   "id": "f0e78432",
||||||| fa5abb84
   "id": "2d3ce6f3",
=======
   "id": "34451818",
>>>>>>> documentation-devel
||||||| 7e3277eb
   "id": "34451818",
=======
   "id": "95604707",
>>>>>>> documentation-devel
   "metadata": {},
   "outputs": [],
   "source": [
    "top_markers_df <- lapply(seq_along(markers), function(i) {\n",
    "    out <- markers[[i]][markers[[i]]$FDR < 0.05, c(\"FDR\", \"summary.AUC\")]\n",
    "    if (nrow(out)) out$cluster <- i\n",
    "    out\n",
    "})\n",
    "top_markers_df <- do.call(rbind, top_markers_df)\n",
    "top_markers_df$symbol <- rowData(sce)[rownames(top_markers_df), \"Symbol\"]"
   ]
  },
  {
   "cell_type": "markdown",
<<<<<<< HEAD
<<<<<<< HEAD
   "id": "6d61033b",
||||||| fa5abb84
   "id": "853206ac",
=======
   "id": "1ca6ebde",
>>>>>>> documentation-devel
||||||| 7e3277eb
   "id": "1ca6ebde",
=======
   "id": "1a446f8e",
>>>>>>> documentation-devel
   "metadata": {
    "lines_to_next_cell": 0
   },
   "source": [
    "## Moran's I"
   ]
  },
  {
   "cell_type": "code",
   "execution_count": null,
<<<<<<< HEAD
<<<<<<< HEAD
   "id": "b4452851",
||||||| fa5abb84
   "id": "ac6738b1",
=======
   "id": "187ce56d",
>>>>>>> documentation-devel
||||||| 7e3277eb
   "id": "187ce56d",
=======
   "id": "110ab5ec",
>>>>>>> documentation-devel
   "metadata": {},
   "outputs": [],
   "source": [
    "sfe <- runMoransI(sfe, features = hvgs, BPPARAM = MulticoreParam(2))"
   ]
  },
  {
   "cell_type": "markdown",
<<<<<<< HEAD
<<<<<<< HEAD
   "id": "df4faf97",
||||||| fa5abb84
   "id": "3f949c63",
=======
   "id": "bd10c102",
>>>>>>> documentation-devel
||||||| 7e3277eb
   "id": "bd10c102",
=======
   "id": "9836a5a3",
>>>>>>> documentation-devel
   "metadata": {
    "lines_to_next_cell": 0
   },
   "source": [
    "The results are added to `rowData(sfe)`. The NA's are for non-highly variable genes, as Moran's I was only computed for highly variable genes here."
   ]
  },
  {
   "cell_type": "code",
   "execution_count": null,
<<<<<<< HEAD
<<<<<<< HEAD
   "id": "c41f7e3d",
||||||| fa5abb84
   "id": "8fc49093",
=======
   "id": "e56dbe58",
>>>>>>> documentation-devel
||||||| 7e3277eb
   "id": "e56dbe58",
=======
   "id": "d93503c9",
>>>>>>> documentation-devel
   "metadata": {},
   "outputs": [],
   "source": [
    "rowData(sfe)"
   ]
  },
  {
   "cell_type": "markdown",
<<<<<<< HEAD
<<<<<<< HEAD
   "id": "86e94d63",
||||||| fa5abb84
   "id": "d82608bc",
=======
   "id": "2313f506",
>>>>>>> documentation-devel
||||||| 7e3277eb
   "id": "2313f506",
=======
   "id": "76a0c8bd",
>>>>>>> documentation-devel
   "metadata": {
    "lines_to_next_cell": 0
   },
   "source": [
    "How are the Moran's I's for highly variable genes distributed? Also, where are the top cluster marker genes in this distribution?"
   ]
  },
  {
   "cell_type": "code",
   "execution_count": null,
<<<<<<< HEAD
<<<<<<< HEAD
   "id": "c77aeeee",
||||||| fa5abb84
   "id": "09611a67",
=======
   "id": "1c7a7620",
>>>>>>> documentation-devel
||||||| 7e3277eb
   "id": "1c7a7620",
=======
   "id": "5cefd4af",
>>>>>>> documentation-devel
   "metadata": {},
   "outputs": [],
   "source": [
    "plotRowDataHistogram(sfe, \"moran_sample01\", bins = 50) +\n",
    "    geom_vline(data = as.data.frame(rowData(sfe)[top_markers,]) |> \n",
    "                   mutate(index = seq_along(top_markers)),\n",
    "               aes(xintercept = moran_sample01, color = index)) +\n",
    "    scale_color_continuous(breaks = scales::breaks_width(2))"
   ]
  },
  {
   "cell_type": "markdown",
<<<<<<< HEAD
<<<<<<< HEAD
   "id": "1d17b370",
||||||| fa5abb84
   "id": "fc1b1689",
=======
   "id": "b08b51af",
>>>>>>> documentation-devel
||||||| 7e3277eb
   "id": "b08b51af",
=======
   "id": "e5d7f996",
>>>>>>> documentation-devel
   "metadata": {},
   "source": [
    "The top marker genes all have quite positive Moran's I on the k nearest neighbor graph. It would also be interesting to color this histogram by gene sets. Since the k nearest neighbor graph was found in PCA space, which is based on gene expression, as expected, Moran's I with this graph is mostly positive, although often not that strong. A small number of genes have slightly negative Moran's I. What do the top genes look like in PCA?"
   ]
  },
  {
   "cell_type": "code",
   "execution_count": null,
<<<<<<< HEAD
<<<<<<< HEAD
   "id": "c253de05",
||||||| fa5abb84
   "id": "8204a2df",
=======
   "id": "1ae5a276",
>>>>>>> documentation-devel
||||||| 7e3277eb
   "id": "1ae5a276",
=======
   "id": "f28e1a01",
>>>>>>> documentation-devel
   "metadata": {
    "fig.height": 6,
    "fig.width": 8
   },
   "outputs": [],
   "source": [
    "top_moran <- head(rownames(sfe)[order(rowData(sfe)$moran_sample01, decreasing = TRUE)], 4)\n",
    "plotSpatialFeature(sfe, top_moran, ncol = 2)"
   ]
  },
  {
   "cell_type": "code",
   "execution_count": null,
<<<<<<< HEAD
<<<<<<< HEAD
   "id": "b44b39c9",
||||||| fa5abb84
   "id": "7fb4b90a",
=======
   "id": "accbf38c",
>>>>>>> documentation-devel
||||||| 7e3277eb
   "id": "accbf38c",
=======
   "id": "be47a6e0",
>>>>>>> documentation-devel
   "metadata": {},
   "outputs": [],
   "source": [
    "top_moran_symbol <- rowData(sfe)[top_moran, \"Symbol\"]\n",
    "plotExpression(sfe, top_moran_symbol, swap_rownames = \"Symbol\")"
   ]
  },
  {
   "cell_type": "markdown",
<<<<<<< HEAD
<<<<<<< HEAD
   "id": "17122167",
||||||| fa5abb84
   "id": "31453314",
=======
   "id": "a563b4d9",
>>>>>>> documentation-devel
||||||| 7e3277eb
   "id": "a563b4d9",
=======
   "id": "3f8b5851",
>>>>>>> documentation-devel
   "metadata": {},
   "source": [
    "They are all marker genes for the same cluster, cluster 9. Perhaps these genes have high Moran's I because they are specific to a cell type. Then how does the Moran's I relate to cluster AUC and cluster differential expression p-value?"
   ]
  },
  {
   "cell_type": "code",
   "execution_count": null,
<<<<<<< HEAD
<<<<<<< HEAD
   "id": "865fa79f",
||||||| fa5abb84
   "id": "ce34d41d",
=======
   "id": "c7d345f4",
>>>>>>> documentation-devel
||||||| 7e3277eb
   "id": "c7d345f4",
=======
   "id": "1e27e95b",
>>>>>>> documentation-devel
   "metadata": {},
   "outputs": [],
   "source": [
    "# See if markers are unique to clusters\n",
    "anyDuplicated(rownames(top_markers_df))"
   ]
  },
  {
   "cell_type": "code",
   "execution_count": null,
<<<<<<< HEAD
<<<<<<< HEAD
   "id": "2b88c958",
||||||| fa5abb84
   "id": "b64bbc55",
=======
   "id": "ac931421",
>>>>>>> documentation-devel
||||||| 7e3277eb
   "id": "ac931421",
=======
   "id": "09a8d4ec",
>>>>>>> documentation-devel
   "metadata": {},
   "outputs": [],
   "source": [
    "top_markers_df$moran <- rowData(sfe)[rownames(top_markers_df), \"moran_sample01\"]\n",
    "top_markers_df$log_p_adj <- -log10(top_markers_df$FDR)\n",
    "top_markers_df$cluster <- factor(top_markers_df$cluster, \n",
    "                                 levels = seq_len(length(unique(top_markers_df$cluster))))"
   ]
  },
  {
   "cell_type": "markdown",
<<<<<<< HEAD
<<<<<<< HEAD
   "id": "d95866bc",
||||||| fa5abb84
   "id": "b5d23448",
=======
   "id": "bf0303a4",
>>>>>>> documentation-devel
||||||| 7e3277eb
   "id": "bf0303a4",
=======
   "id": "0194e88d",
>>>>>>> documentation-devel
   "metadata": {
    "lines_to_next_cell": 0
   },
   "source": [
    "How does the differential expression p-value relate to Moran's I?"
   ]
  },
  {
   "cell_type": "code",
   "execution_count": null,
<<<<<<< HEAD
<<<<<<< HEAD
   "id": "6d0d1d36",
||||||| fa5abb84
   "id": "6e337655",
=======
   "id": "29942b1c",
>>>>>>> documentation-devel
||||||| 7e3277eb
   "id": "29942b1c",
=======
   "id": "bad02276",
>>>>>>> documentation-devel
   "metadata": {},
   "outputs": [],
   "source": [
    "as.data.frame(top_markers_df) |> \n",
    "    ggplot(aes(log_p_adj, moran)) +\n",
    "    geom_point(aes(color = cluster)) +\n",
    "    geom_smooth(method = \"lm\") +\n",
    "    scale_color_manual(values = ditto_colors)"
   ]
  },
  {
   "cell_type": "markdown",
<<<<<<< HEAD
<<<<<<< HEAD
   "id": "6a08f34a",
||||||| fa5abb84
   "id": "b02204b0",
=======
   "id": "a96c5815",
>>>>>>> documentation-devel
||||||| 7e3277eb
   "id": "a96c5815",
=======
   "id": "1d553c2b",
>>>>>>> documentation-devel
   "metadata": {},
   "source": [
    "Generally, more significant marker genes tend to have higher Moran's I. This is not surprising because the clusters and Moran's I here are both based on the k nearest neighbor graph."
   ]
  },
  {
   "cell_type": "code",
   "execution_count": null,
<<<<<<< HEAD
<<<<<<< HEAD
   "id": "1fec63c7",
||||||| fa5abb84
   "id": "3ae01a26",
=======
   "id": "34b32fcf",
>>>>>>> documentation-devel
||||||| 7e3277eb
   "id": "34b32fcf",
=======
   "id": "bd9ad497",
>>>>>>> documentation-devel
   "metadata": {},
   "outputs": [],
   "source": [
    "as.data.frame(top_markers_df) |> \n",
    "    ggplot(aes(summary.AUC, moran)) +\n",
    "    geom_point(aes(color = cluster)) +\n",
    "    geom_smooth(method = \"lm\") +\n",
    "    scale_color_manual(values = ditto_colors)"
   ]
  },
  {
   "cell_type": "markdown",
<<<<<<< HEAD
<<<<<<< HEAD
   "id": "64cf1926",
||||||| fa5abb84
   "id": "99620674",
=======
   "id": "524c04ce",
>>>>>>> documentation-devel
||||||| 7e3277eb
   "id": "524c04ce",
=======
   "id": "72848c86",
>>>>>>> documentation-devel
   "metadata": {
    "lines_to_next_cell": 0
   },
   "source": [
    "Similarly, genes with higher AUC tend to have higher Moran's I. For other clusters, generally speaking, genes more specific to a cluster tend to have higher Moran's I.\n",
    "\n",
    "Let's use permutation testing to see if Moran's I is statistically significant:"
   ]
  },
  {
   "cell_type": "code",
   "execution_count": null,
<<<<<<< HEAD
<<<<<<< HEAD
   "id": "e30a2561",
||||||| fa5abb84
   "id": "542b7254",
=======
   "id": "4abc9b0b",
>>>>>>> documentation-devel
||||||| 7e3277eb
   "id": "4abc9b0b",
=======
   "id": "2ce1ee07",
>>>>>>> documentation-devel
   "metadata": {},
   "outputs": [],
   "source": [
    "sfe <- runUnivariate(sfe, \"moran.mc\", features = top_markers, nsim = 200)"
   ]
  },
  {
   "cell_type": "code",
   "execution_count": null,
<<<<<<< HEAD
<<<<<<< HEAD
   "id": "8bf12051",
||||||| fa5abb84
   "id": "e24c09a6",
=======
   "id": "62006969",
>>>>>>> documentation-devel
||||||| 7e3277eb
   "id": "62006969",
=======
   "id": "6398961a",
>>>>>>> documentation-devel
   "metadata": {},
   "outputs": [],
   "source": [
    "top_markers_symbol"
   ]
  },
  {
   "cell_type": "code",
   "execution_count": null,
<<<<<<< HEAD
<<<<<<< HEAD
   "id": "fde22d0f",
||||||| fa5abb84
   "id": "8fb5d21d",
=======
   "id": "16f2afef",
>>>>>>> documentation-devel
||||||| 7e3277eb
   "id": "16f2afef",
=======
   "id": "afe0b4f7",
>>>>>>> documentation-devel
   "metadata": {},
   "outputs": [],
   "source": [
    "plotMoranMC(sfe, top_markers, swap_rownames = \"Symbol\")"
   ]
  },
  {
   "cell_type": "markdown",
<<<<<<< HEAD
<<<<<<< HEAD
   "id": "8fef40cd",
||||||| fa5abb84
   "id": "a2be2e76",
=======
   "id": "352e2bc1",
>>>>>>> documentation-devel
||||||| 7e3277eb
   "id": "352e2bc1",
=======
   "id": "86ea2283",
>>>>>>> documentation-devel
   "metadata": {},
   "source": [
    "They all seem to be very significant. \n",
    "\n",
    "The correlogram finds Moran's I for a higher order of neighbors and can be a proxy for distance. "
   ]
  },
  {
   "cell_type": "code",
   "execution_count": null,
<<<<<<< HEAD
<<<<<<< HEAD
   "id": "687786e4",
||||||| fa5abb84
   "id": "0d976f08",
=======
   "id": "f937b535",
>>>>>>> documentation-devel
||||||| 7e3277eb
   "id": "f937b535",
=======
   "id": "3705a16c",
>>>>>>> documentation-devel
   "metadata": {},
   "outputs": [],
   "source": [
    "system.time({\n",
    "    sfe <- runUnivariate(sfe, \"sp.correlogram\", top_markers, order = 6, \n",
    "                     zero.policy = TRUE, BPPARAM = MulticoreParam(2))\n",
    "})"
   ]
  },
  {
   "cell_type": "code",
   "execution_count": null,
<<<<<<< HEAD
<<<<<<< HEAD
   "id": "4ab28fe6",
||||||| fa5abb84
   "id": "5ffdb1af",
=======
   "id": "edc8771e",
>>>>>>> documentation-devel
||||||| 7e3277eb
   "id": "edc8771e",
=======
   "id": "7662c6d4",
>>>>>>> documentation-devel
   "metadata": {},
   "outputs": [],
   "source": [
    "plotCorrelogram(sfe, top_markers, swap_rownames = \"Symbol\")"
   ]
  },
  {
   "cell_type": "markdown",
<<<<<<< HEAD
<<<<<<< HEAD
   "id": "c4c9eb8e",
||||||| fa5abb84
   "id": "96847b9b",
=======
   "id": "512fde37",
>>>>>>> documentation-devel
||||||| 7e3277eb
   "id": "512fde37",
=======
   "id": "73e6856a",
>>>>>>> documentation-devel
   "metadata": {
    "lines_to_next_cell": 0
   },
   "source": [
    "We see different patterns of decay in spatial autocorrelation and different length scales of spatial autocorrelation. CLU is a marker gene very specific to the smallest cluster, so higher order neighbors are very likely to be from other clusters. Marker genes for the other larger clusters with hundreds of cells nevertheless display different patterns in the correlogram.\n",
    "\n",
    "## Local Moran's I"
   ]
  },
  {
   "cell_type": "code",
   "execution_count": null,
<<<<<<< HEAD
<<<<<<< HEAD
   "id": "78bd9382",
||||||| fa5abb84
   "id": "77a3ea99",
=======
   "id": "444d44b2",
>>>>>>> documentation-devel
||||||| 7e3277eb
   "id": "444d44b2",
=======
   "id": "bbbd43af",
>>>>>>> documentation-devel
   "metadata": {},
   "outputs": [],
   "source": [
    "sfe <- runUnivariate(sfe, \"localmoran\", features = top_markers)"
   ]
  },
  {
   "cell_type": "code",
   "execution_count": null,
<<<<<<< HEAD
<<<<<<< HEAD
   "id": "3962cf65",
||||||| fa5abb84
   "id": "3f40ed4e",
=======
   "id": "00e450ea",
>>>>>>> documentation-devel
||||||| 7e3277eb
   "id": "00e450ea",
=======
   "id": "f5acbfe8",
>>>>>>> documentation-devel
   "metadata": {
    "fig.height": 9,
    "fig.width": 12
   },
   "outputs": [],
   "source": [
    "plotLocalResult(sfe, \"localmoran\", top_markers, colGeometryName = \"centroids\", \n",
    "                divergent = TRUE, diverge_center = 0, ncol = 3,\n",
    "                swap_rownames = \"Symbol\")"
   ]
  },
  {
   "cell_type": "markdown",
<<<<<<< HEAD
<<<<<<< HEAD
   "id": "929ff13a",
||||||| fa5abb84
   "id": "cc316b25",
=======
   "id": "01487ac2",
>>>>>>> documentation-devel
||||||| 7e3277eb
   "id": "01487ac2",
=======
   "id": "43302adc",
>>>>>>> documentation-devel
   "metadata": {},
   "source": [
    "We will also plot the histograms, but for now the results need to be added to `colData` first."
   ]
  },
  {
   "cell_type": "code",
   "execution_count": null,
<<<<<<< HEAD
<<<<<<< HEAD
   "id": "623df023",
||||||| fa5abb84
   "id": "024d9316",
=======
   "id": "4430c3be",
>>>>>>> documentation-devel
||||||| 7e3277eb
   "id": "4430c3be",
=======
   "id": "91ccab2e",
>>>>>>> documentation-devel
   "metadata": {},
   "outputs": [],
   "source": [
    "new_colname <- paste0(\"cluster\", seq_along(top_markers), \"_\", \n",
    "                      top_markers_symbol, \"_localmoran\")\n",
    "for (i in seq_along(top_markers)) {\n",
    "    g <- top_markers[i]\n",
    "    colData(sfe)[[new_colname[i]]] <- \n",
    "        localResult(sfe, \"localmoran\", g)[,\"Ii\"]\n",
    "}"
   ]
  },
  {
   "cell_type": "code",
   "execution_count": null,
<<<<<<< HEAD
<<<<<<< HEAD
   "id": "9c2b1fd8",
||||||| fa5abb84
   "id": "a4d5a533",
=======
   "id": "9aa84ec8",
>>>>>>> documentation-devel
||||||| 7e3277eb
   "id": "9aa84ec8",
=======
   "id": "a0268509",
>>>>>>> documentation-devel
   "metadata": {
    "fig.height": 12,
    "fig.width": 8
   },
   "outputs": [],
   "source": [
    "plotColDataFreqpoly(sfe, new_colname, color_by = \"cluster\") +\n",
    "    ggtitle(\"Local Moran's I\") +\n",
    "    theme(legend.position = \"top\") +\n",
    "    scale_y_log10() +\n",
    "    annotation_logticks(sides = \"l\")"
   ]
  },
  {
   "cell_type": "markdown",
<<<<<<< HEAD
<<<<<<< HEAD
   "id": "b4462fe7",
||||||| fa5abb84
   "id": "e09d633c",
=======
   "id": "706c1576",
>>>>>>> documentation-devel
||||||| 7e3277eb
   "id": "706c1576",
=======
   "id": "665e95a6",
>>>>>>> documentation-devel
   "metadata": {
    "lines_to_next_cell": 0
   },
   "source": [
    "Again, the y axis is log transformed to make the tail more visible. For some clusters, the top marker gene's local Moran's I forms its own peak for cells in the cluster with higher local Moran's I than other cells. However, sometimes cells within the cluster form a long tail shared with some cells from other clusters. Then the local Moran's I could be another method for differential expression. Or since both local Moran's I and Leiden clustering use the k nearest neighbor graph in PCA space, local Moran's I of marker genes or perhaps eigengenes signifying gene programs for each cell type on this k nearest neighbor graph can validate or criticize Leiden clusters. Furthermore, interestingly, for some genes, the tallest peak in the histogram is away from 0.\n",
    "\n",
    "The scatter plots as shown in the \"spatial\" analyses for the QC metrics section can be made to see how local Moran's I relates to the expression of the gene itself."
   ]
  },
  {
   "cell_type": "code",
   "execution_count": null,
<<<<<<< HEAD
<<<<<<< HEAD
   "id": "ae2ff78f",
||||||| fa5abb84
   "id": "5b9f9ee3",
=======
   "id": "4a099c18",
>>>>>>> documentation-devel
||||||| 7e3277eb
   "id": "4a099c18",
=======
   "id": "7c190d6c",
>>>>>>> documentation-devel
   "metadata": {},
   "outputs": [],
   "source": [
    "i <- 6 # Change if running this notebook\n",
    "plotExpression(sfe, top_markers_symbol[i], x = new_colname[i], color_by = \"cluster\",\n",
    "               swap_rownames = \"Symbol\") +\n",
    "    scale_color_manual(values = ditto_colors) +\n",
    "    coord_flip() +\n",
    "    # comment out in case of error after changing i\n",
    "    geom_density2d(data = as.data.frame(colData(sfe)) |> \n",
    "                       mutate(gene = logcounts(sfe)[top_markers[i],]),\n",
    "                   mapping = aes(x = .data[[new_colname[i]]], y = gene), \n",
    "                   color = \"blue\", linewidth = 0.3) "
   ]
  },
  {
   "cell_type": "markdown",
<<<<<<< HEAD
<<<<<<< HEAD
   "id": "cde1cafb",
||||||| fa5abb84
   "id": "c230535c",
=======
   "id": "1983f657",
>>>>>>> documentation-devel
||||||| 7e3277eb
   "id": "1983f657",
=======
   "id": "2412bd71",
>>>>>>> documentation-devel
   "metadata": {},
   "source": [
    "For this gene, just like for total UMI counts, there are two wings and a central value where local Moran's I is around 0. Generally, cells with higher expression of this gene have higher local Moran's I for this gene as well. The density contours show that cells concentrate around 0 expression and some weaker positive local Moran. The streak of cells with 0 expression means that many cells don't express this gene, and their neighbors have low and slightly homogeneous expression of this gene. This pattern may be different for different genes. Also, the p-values for each cell for local Moran's I are available and corrected for multiple hypothesis testing, and can be plotted. The p-values are based on the z score of the local Moran statistic, although how the statistic is distributed for gene expression data warrants more investigation. This p-value can also be computed with permutation (see `localmoran_perm()`). "
   ]
  },
  {
   "cell_type": "code",
   "execution_count": null,
<<<<<<< HEAD
<<<<<<< HEAD
   "id": "92a315fb",
||||||| fa5abb84
   "id": "a4bac3fb",
=======
   "id": "5648a311",
>>>>>>> documentation-devel
||||||| 7e3277eb
   "id": "5648a311",
=======
   "id": "62f16c23",
>>>>>>> documentation-devel
   "metadata": {},
   "outputs": [],
   "source": [
    "localResultAttrs(sfe, \"localmoran\", top_markers[1])"
   ]
  },
  {
   "cell_type": "markdown",
<<<<<<< HEAD
<<<<<<< HEAD
   "id": "ead8b217",
||||||| fa5abb84
   "id": "34dac44d",
=======
   "id": "17b3d825",
>>>>>>> documentation-devel
||||||| 7e3277eb
   "id": "17b3d825",
=======
   "id": "3fc84053",
>>>>>>> documentation-devel
   "metadata": {},
   "source": [
    "## LOSH"
   ]
  },
  {
   "cell_type": "code",
   "execution_count": null,
<<<<<<< HEAD
<<<<<<< HEAD
   "id": "b8721246",
||||||| fa5abb84
   "id": "3f833999",
=======
   "id": "53980dc0",
>>>>>>> documentation-devel
||||||| 7e3277eb
   "id": "53980dc0",
=======
   "id": "077cd3d6",
>>>>>>> documentation-devel
   "metadata": {},
   "outputs": [],
   "source": [
    "sfe <- runUnivariate(sfe, \"LOSH\", top_markers)"
   ]
  },
  {
   "cell_type": "code",
   "execution_count": null,
<<<<<<< HEAD
<<<<<<< HEAD
   "id": "0a05aaaa",
||||||| fa5abb84
   "id": "06caa0a3",
=======
   "id": "d7671711",
>>>>>>> documentation-devel
||||||| 7e3277eb
   "id": "d7671711",
=======
   "id": "b923004f",
>>>>>>> documentation-devel
   "metadata": {
    "fig.height": 9,
    "fig.width": 12
   },
   "outputs": [],
   "source": [
    "plotLocalResult(sfe, \"LOSH\", top_markers, colGeometryName = \"centroids\", ncol = 3,\n",
    "                swap_rownames = \"Symbol\")"
   ]
  },
  {
   "cell_type": "markdown",
<<<<<<< HEAD
<<<<<<< HEAD
   "id": "66593f27",
||||||| fa5abb84
   "id": "03f4208a",
=======
   "id": "9796d494",
>>>>>>> documentation-devel
||||||| 7e3277eb
   "id": "9796d494",
=======
   "id": "4b7d1207",
>>>>>>> documentation-devel
   "metadata": {
    "lines_to_next_cell": 0
   },
   "source": [
    "In the two genes on the right, it's interesting to see higher LOSH in the middle cluster. The two genes on the left have some outliers throwing off the dynamic range, but it seems that their high LOSH regions are different.\n",
    "\n",
    "Again, we plot the histograms:"
   ]
  },
  {
   "cell_type": "code",
   "execution_count": null,
<<<<<<< HEAD
<<<<<<< HEAD
   "id": "22bcc6f3",
||||||| fa5abb84
   "id": "ade08965",
=======
   "id": "b891928a",
>>>>>>> documentation-devel
||||||| 7e3277eb
   "id": "b891928a",
=======
   "id": "2a789eaa",
>>>>>>> documentation-devel
   "metadata": {},
   "outputs": [],
   "source": [
    "new_colname2 <- paste0(\"cluster\", seq_along(top_markers), \"_\", \n",
    "                      top_markers_symbol, \"_losh\")\n",
    "for (i in seq_along(top_markers)) {\n",
    "    g <- top_markers[i]\n",
    "    colData(sfe)[[new_colname2[i]]] <- \n",
    "        localResult(sfe, \"LOSH\", g)[,\"Hi\"]\n",
    "}"
   ]
  },
  {
   "cell_type": "code",
   "execution_count": null,
<<<<<<< HEAD
<<<<<<< HEAD
   "id": "06ae9e56",
||||||| fa5abb84
   "id": "377b0d98",
=======
   "id": "6365adaf",
>>>>>>> documentation-devel
||||||| 7e3277eb
   "id": "6365adaf",
=======
   "id": "a4817eb9",
>>>>>>> documentation-devel
   "metadata": {
    "fig.height": 12,
    "fig.width": 8
   },
   "outputs": [],
   "source": [
    "plotColDataFreqpoly(sfe, new_colname2, color_by = \"cluster\") +\n",
    "    ggtitle(\"Local heteroscedasticity\") +\n",
    "    theme(legend.position = \"top\") +\n",
    "    scale_y_log10() +\n",
    "    annotation_logticks(sides = \"l\")"
   ]
  },
  {
   "cell_type": "markdown",
<<<<<<< HEAD
<<<<<<< HEAD
   "id": "1c0dd1b2",
||||||| fa5abb84
   "id": "d958f190",
=======
   "id": "9ef10fa3",
>>>>>>> documentation-devel
||||||| 7e3277eb
   "id": "9ef10fa3",
=======
   "id": "f74bccb3",
>>>>>>> documentation-devel
   "metadata": {},
   "source": [
    "The relationship between expression and LOSH is more complicated. For some genes, such as the top marker gene for cluster 1 LYAR, cells in the cluster with higher expression also have higher LOSH - much like how in Poisson and negative binomial distributions, higher mean also means higher variance. However, some genes, such as the top marker gene for cluster 2 CTSS, have lower LOSH among cells that have higher expression, which means expression of this gene is more homogeneous within the cluster, consistent with local Moran. "
   ]
  },
  {
   "cell_type": "code",
   "execution_count": null,
<<<<<<< HEAD
<<<<<<< HEAD
   "id": "2f1673e4",
||||||| fa5abb84
   "id": "495b619a",
=======
   "id": "f39d1962",
>>>>>>> documentation-devel
||||||| 7e3277eb
   "id": "f39d1962",
=======
   "id": "29144d18",
>>>>>>> documentation-devel
   "metadata": {},
   "outputs": [],
   "source": [
    "i <- 6 # Change if running this notebook\n",
    "plotExpression(sfe, top_markers_symbol[i], x = new_colname2[i], \n",
    "               color_by = \"cluster\", swap_rownames = \"Symbol\") +\n",
    "    scale_color_manual(values = ditto_colors) +\n",
    "    coord_flip() +\n",
    "    # comment out in case of error after changing i\n",
    "    geom_density2d(data = as.data.frame(colData(sfe)) |> \n",
    "                       mutate(gene = logcounts(sfe)[top_markers[i],]),\n",
    "                   mapping = aes(x = .data[[new_colname2[i]]], y = gene), \n",
    "                   color = \"blue\", linewidth = 0.3) "
   ]
  },
  {
   "cell_type": "markdown",
<<<<<<< HEAD
<<<<<<< HEAD
   "id": "9814a9cb",
||||||| fa5abb84
   "id": "be714a13",
=======
   "id": "6eaffbea",
>>>>>>> documentation-devel
||||||| 7e3277eb
   "id": "6eaffbea",
=======
   "id": "f80987eb",
>>>>>>> documentation-devel
   "metadata": {
    "lines_to_next_cell": 0
   },
   "source": [
    "For this gene, the density contour indicates that many cells don't express this gene and have homogeneous neighborhoods also with low expression. That streak around 0 expression means that neighbors of cells that don't express this gene have different levels of heterogeneity in this gene.\n",
    "\n",
    "## Moran plot\n",
    "\n",
    "Here we make Moran plots for the top marker genes."
   ]
  },
  {
   "cell_type": "code",
   "execution_count": null,
<<<<<<< HEAD
<<<<<<< HEAD
   "id": "da18ab85",
||||||| fa5abb84
   "id": "91665c6a",
=======
   "id": "84a9affb",
>>>>>>> documentation-devel
||||||| 7e3277eb
   "id": "84a9affb",
=======
   "id": "ac5f583d",
>>>>>>> documentation-devel
   "metadata": {},
   "outputs": [],
   "source": [
    "sfe <- runUnivariate(sfe, \"moran.plot\", features = top_markers, colGraphName = \"knn10\")"
   ]
  },
  {
   "cell_type": "markdown",
<<<<<<< HEAD
<<<<<<< HEAD
   "id": "6bf4c141",
||||||| fa5abb84
   "id": "5eebbbb1",
=======
   "id": "b9187422",
>>>>>>> documentation-devel
||||||| 7e3277eb
   "id": "b9187422",
=======
   "id": "ad8d9df1",
>>>>>>> documentation-devel
   "metadata": {
    "lines_to_next_cell": 0
   },
   "source": [
    "As a reference, we show Moran's I for the top marker genes, which is the slope of the line fitted to the Moran scatter plot."
   ]
  },
  {
   "cell_type": "code",
   "execution_count": null,
<<<<<<< HEAD
<<<<<<< HEAD
   "id": "eb16ab16",
||||||| fa5abb84
   "id": "b1e2aad3",
=======
   "id": "c152c09f",
>>>>>>> documentation-devel
||||||| 7e3277eb
   "id": "c152c09f",
=======
   "id": "25c4e886",
>>>>>>> documentation-devel
   "metadata": {},
   "outputs": [],
   "source": [
    "top_markers_df[top_markers,]"
   ]
  },
  {
   "cell_type": "markdown",
<<<<<<< HEAD
<<<<<<< HEAD
   "id": "5413cfa3",
||||||| fa5abb84
   "id": "a2de72fd",
=======
   "id": "1e82c210",
>>>>>>> documentation-devel
||||||| 7e3277eb
   "id": "1e82c210",
=======
   "id": "90ba1bdf",
>>>>>>> documentation-devel
   "metadata": {
    "lines_to_next_cell": 0
   },
   "source": [
    "There is no significant marker gene for cluster 7. These plots are shown in sequence"
   ]
  },
  {
   "cell_type": "code",
   "execution_count": null,
<<<<<<< HEAD
<<<<<<< HEAD
   "id": "2d315985",
||||||| fa5abb84
   "id": "0036f4d6",
=======
   "id": "5d59a404",
>>>>>>> documentation-devel
||||||| 7e3277eb
   "id": "5d59a404",
=======
   "id": "f1f1ff67",
>>>>>>> documentation-devel
   "metadata": {},
   "outputs": [],
   "source": [
    "plts <- lapply(top_markers, moranPlot, sfe = sfe, color_by = \"cluster\", \n",
    "               swap_rownames = \"Symbol\")"
   ]
  },
  {
   "cell_type": "code",
   "execution_count": null,
<<<<<<< HEAD
<<<<<<< HEAD
   "id": "c6cd6b01",
||||||| fa5abb84
   "id": "c34d56a2",
=======
   "id": "3fe2e1fc",
>>>>>>> documentation-devel
||||||| 7e3277eb
   "id": "3fe2e1fc",
=======
   "id": "ac92f635",
>>>>>>> documentation-devel
   "metadata": {
    "fig.height": 9,
    "fig.width": 9
   },
   "outputs": [],
   "source": [
    "wrap_plots(plts, widths = 1, heights = 1) +\n",
    "    plot_layout(ncol = 3, guides = \"collect\") +\n",
    "    plot_annotation(tag_levels = \"1\")"
   ]
  },
  {
   "cell_type": "markdown",
<<<<<<< HEAD
<<<<<<< HEAD
   "id": "ad3c0373",
||||||| fa5abb84
   "id": "bd6f66a3",
=======
   "id": "0453c83e",
>>>>>>> documentation-devel
||||||| 7e3277eb
   "id": "0453c83e",
=======
   "id": "407afdbf",
>>>>>>> documentation-devel
   "metadata": {
    "lines_to_next_cell": 0
   },
   "source": [
    "For some genes, the points are so concentrated around the origin that there aren't \"enough\" points elsewhere to plot the density contours. But for the cells that do express these genes, there are clusters on this plot. Some genes are not expressed in many cells, but those cells have neighbors that do express the gene, hence the vertical streak at x = 0. \n",
    "\n",
    "In this tutorial, we applied univariate spatial statistics to the k nearest neighbor graph in the gene expression PCA space rather than the histological space. Just like in histological space, it would be impractical to examine all these statistics gene by gene, so multivariate analyses that incorporate the k nearest neighbor graph may be interesting.\n",
    "\n",
    "# Session info"
   ]
  },
  {
   "cell_type": "code",
   "execution_count": null,
<<<<<<< HEAD
<<<<<<< HEAD
   "id": "26022235",
||||||| fa5abb84
   "id": "04df19c6",
=======
   "id": "7b76bff5",
>>>>>>> documentation-devel
||||||| 7e3277eb
   "id": "7b76bff5",
=======
   "id": "4a8cfd06",
>>>>>>> documentation-devel
   "metadata": {
    "lines_to_next_cell": 0
   },
   "outputs": [],
   "source": [
    "sessionInfo()"
   ]
  },
  {
   "cell_type": "markdown",
<<<<<<< HEAD
<<<<<<< HEAD
   "id": "ebe085ee",
||||||| fa5abb84
   "id": "1a5ae35b",
=======
   "id": "b6535c17",
>>>>>>> documentation-devel
||||||| 7e3277eb
   "id": "b6535c17",
=======
   "id": "d4e6e125",
>>>>>>> documentation-devel
   "metadata": {},
   "source": []
  }
 ],
 "metadata": {
  "kernelspec": {
   "display_name": "R",
   "language": "R",
   "name": "ir"
  }
 },
 "nbformat": 4,
 "nbformat_minor": 5
}
