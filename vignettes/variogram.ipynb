{
 "cells": [
  {
   "cell_type": "raw",
<<<<<<< HEAD
<<<<<<< HEAD
<<<<<<< HEAD
   "id": "0c914a5e",
||||||| fa5abb84
   "id": "15a30290",
=======
   "id": "120a1c35",
>>>>>>> documentation-devel
||||||| 7e3277eb
   "id": "120a1c35",
=======
   "id": "bb2a60af",
>>>>>>> documentation-devel
||||||| 971bf77c
<<<<<<< HEAD
   "id": "0c914a5e",
||||||| fa5abb84
   "id": "15a30290",
=======
   "id": "120a1c35",
>>>>>>> documentation-devel
=======
   "id": "238a18ba",
>>>>>>> e1d793125c0aeb7e34aca09298b9c5b44973e4b3
   "metadata": {},
   "source": [
    "---\n",
    "title: \"Variogram\"\n",
    "author: \"Lambda Moses\"\n",
    "date: \"`r Sys.Date()`\"\n",
    "output: \n",
    "  html_document:\n",
    "  toc: true\n",
    "  toc_float:\n",
    "    collapsed: false\n",
    "  toc_depth: 3\n",
    "bibliography: ref.bib\n",
    "vignette: >\n",
    "  %\\VignetteIndexEntry{variogram}\n",
    "  %\\VignetteEngine{knitr::rmarkdown}\n",
    "  %\\VignetteEncoding{UTF-8}\n",
    "---"
   ]
  },
  {
   "cell_type": "code",
   "execution_count": null,
<<<<<<< HEAD
<<<<<<< HEAD
<<<<<<< HEAD
   "id": "a262ea57",
||||||| fa5abb84
   "id": "555385b1",
=======
   "id": "3ec417ec",
>>>>>>> documentation-devel
||||||| 7e3277eb
   "id": "3ec417ec",
=======
   "id": "69b69e26",
>>>>>>> documentation-devel
||||||| 971bf77c
<<<<<<< HEAD
   "id": "a262ea57",
||||||| fa5abb84
   "id": "555385b1",
=======
   "id": "3ec417ec",
>>>>>>> documentation-devel
=======
   "id": "bdea9b23",
>>>>>>> e1d793125c0aeb7e34aca09298b9c5b44973e4b3
   "metadata": {
    "tags": [
     "remove_cell"
    ]
   },
   "outputs": [],
   "source": [
    "knitr::opts_chunk$set(\n",
    "  collapse = TRUE,\n",
    "  comment = \"#>\"\n",
    ")"
   ]
  },
  {
   "cell_type": "code",
   "execution_count": null,
<<<<<<< HEAD
<<<<<<< HEAD
<<<<<<< HEAD
   "id": "ac70d63e",
||||||| fa5abb84
   "id": "cfd32bf1",
=======
   "id": "76816832",
>>>>>>> documentation-devel
||||||| 7e3277eb
   "id": "76816832",
=======
   "id": "f402e812",
>>>>>>> documentation-devel
||||||| 971bf77c
<<<<<<< HEAD
   "id": "ac70d63e",
||||||| fa5abb84
   "id": "cfd32bf1",
=======
   "id": "76816832",
>>>>>>> documentation-devel
=======
   "id": "1abaf998",
>>>>>>> e1d793125c0aeb7e34aca09298b9c5b44973e4b3
   "metadata": {
    "eval": false,
    "tags": [
     "remove_cell"
    ]
   },
   "outputs": [],
   "source": [
    "# Install Google Colab dependencies\n",
    "# Note: this can take 30+ minutes (many of the dependencies include C++ code, which needs to be compiled)\n",
    "\n",
    "# First install `sf`, `ragg` and `textshaping` and their system dependencies:\n",
    "system(\"apt-get -y update && apt-get install -y  libudunits2-dev libgdal-dev libgeos-dev libproj-dev libharfbuzz-dev libfribidi-dev\")\n",
    "install.packages(\"sf\")\n",
    "install.packages(\"textshaping\")\n",
    "install.packages(\"ragg\")\n",
    "\n",
    "# Install system dependencies of some other R packages that Voyager either imports or suggests:\n",
    "system(\"apt-get install -y libfribidi-dev libcairo2-dev libmagick++-dev\")\n",
    "\n",
    "# Install Voyager from Bioconductor:\n",
    "install.packages(\"BiocManager\")\n",
    "BiocManager::install(version = \"3.17\", ask = FALSE, update = FALSE, Ncpus = 2)\n",
    "BiocManager::install(\"scater\")\n",
    "system.time(\n",
    "  BiocManager::install(\"Voyager\", dependencies = TRUE, Ncpus = 2, update = FALSE)\n",
    ")\n",
    "\n",
    "# Other packages used in this vignette\n",
    "packageVersion(\"Voyager\")"
   ]
  },
  {
   "cell_type": "markdown",
<<<<<<< HEAD
<<<<<<< HEAD
<<<<<<< HEAD
   "id": "810724b7",
||||||| fa5abb84
   "id": "8cb6aa29",
=======
   "id": "aed3fd71",
>>>>>>> documentation-devel
||||||| 7e3277eb
   "id": "aed3fd71",
=======
   "id": "b20b4728",
>>>>>>> documentation-devel
||||||| 971bf77c
<<<<<<< HEAD
   "id": "810724b7",
||||||| fa5abb84
   "id": "8cb6aa29",
=======
   "id": "aed3fd71",
>>>>>>> documentation-devel
=======
   "id": "701fc404",
>>>>>>> e1d793125c0aeb7e34aca09298b9c5b44973e4b3
   "metadata": {
    "lines_to_next_cell": 0
   },
   "source": [
    "# Introduction\n",
    "In geostatistical data, an underlying spatial process is sampled at known locations. Kriging uses a Gaussian process model to interpolate the values between the sample locations, and the semivariogram is used to model the spatial dependency between the locations as the covariance of the Gaussian process. When not kriging, the semivariogram can be used as an exploratory data analysis tool to find the length scale and anisotropy of spatial autocorrelation. The semivariogram is defined as\n",
    "\n",
    "$$\n",
    "\\gamma(t) = \\frac 1 2 \\mathrm{Var}(X_t - X_0),\n",
    "$$\n",
    "\n",
    "where $X$ is the value such as gene expression, and $t$ is a spatial vector. $X_0$ is the value at a location of interest, and $X_t$ is the value lagged by $t$. With positive spatial autocorrelation, the variance would be smaller among nearby values, so the variogram would increase with distance, eventually leveling off when the distance is beyond the length scale of spatial autocorrelation. The \"semi\" comes from the 1/2, which comes from the assumption that the Gaussian process is weakly stationary, i.e. the covariance between two locations only depends on the spatial lag between them:\n",
    "\n",
    "$$\\begin{align}\n",
    "\\mathrm{Var}(X_{t_2} - X_{t_1}) &= \\mathrm{Var}(X_{t_2}) + \\mathrm{Var}(X_{t_1}) - 2\\mathrm{Cov}(X_{t_2}, X_{t_1}) \\\\\n",
    "&= 2\\rho(0) - 2\\rho(t_2 - t_1),\n",
    "\\end{align}$$\n",
    "\n",
    "where $\\rho$ is a covariance function and $t_1$ and $t_2$ are spatial locations. A model can be fitted to the empirical semivariogram, to model this $\\rho$. That the variance of differences between the value across locations only depends on the spatial lag means intrinsically stationary, which is even weaker and more generalizable than weakly stationary. The weaker assumption is used in kriging.\n",
    "\n",
    "This vignette demonstrates the variogram as an ESDA tool, including interpretation of the univariate variogram, anisotropic variograms (variograms in different directions), variogram maps, and bivariate cross variograms.\n",
    "\n",
    "Here we load the packages:"
   ]
  },
  {
   "cell_type": "code",
   "execution_count": null,
<<<<<<< HEAD
<<<<<<< HEAD
<<<<<<< HEAD
   "id": "ac2f9607",
||||||| fa5abb84
   "id": "600d2343",
=======
   "id": "6d16be57",
>>>>>>> documentation-devel
||||||| 7e3277eb
   "id": "6d16be57",
=======
   "id": "a31c1172",
>>>>>>> documentation-devel
||||||| 971bf77c
<<<<<<< HEAD
   "id": "ac2f9607",
||||||| fa5abb84
   "id": "600d2343",
=======
   "id": "6d16be57",
>>>>>>> documentation-devel
=======
   "id": "79f50063",
>>>>>>> e1d793125c0aeb7e34aca09298b9c5b44973e4b3
   "metadata": {
    "message": false
   },
   "outputs": [],
   "source": [
    "library(Voyager)\n",
    "library(SFEData)\n",
    "library(SpatialFeatureExperiment)\n",
    "library(scater)\n",
    "library(scran)\n",
    "library(ggplot2)\n",
    "library(BiocParallel)\n",
    "library(bluster)\n",
    "library(dplyr)\n",
    "theme_set(theme_bw())"
   ]
  },
  {
   "cell_type": "markdown",
<<<<<<< HEAD
<<<<<<< HEAD
<<<<<<< HEAD
   "id": "b649a37d",
||||||| fa5abb84
   "id": "79b1ee9c",
=======
   "id": "760cd5a1",
>>>>>>> documentation-devel
||||||| 7e3277eb
   "id": "760cd5a1",
=======
   "id": "e4ef1dc3",
>>>>>>> documentation-devel
||||||| 971bf77c
<<<<<<< HEAD
   "id": "b649a37d",
||||||| fa5abb84
   "id": "79b1ee9c",
=======
   "id": "760cd5a1",
>>>>>>> documentation-devel
=======
   "id": "3579359e",
>>>>>>> e1d793125c0aeb7e34aca09298b9c5b44973e4b3
   "metadata": {
    "lines_to_next_cell": 0
   },
   "source": [
    "The Slide-seq melanoma metastasis data [@Biermann2022-cu] is used for demonstration. QC is performed in [another vignette](https://pachterlab.github.io/voyager/articles/vig3_slideseq_v2.html)."
   ]
  },
  {
   "cell_type": "code",
   "execution_count": null,
<<<<<<< HEAD
<<<<<<< HEAD
<<<<<<< HEAD
   "id": "fd7edf94",
||||||| fa5abb84
   "id": "61ab0b8d",
=======
   "id": "5c71951f",
>>>>>>> documentation-devel
||||||| 7e3277eb
   "id": "5c71951f",
=======
   "id": "4a22fa6a",
>>>>>>> documentation-devel
||||||| 971bf77c
<<<<<<< HEAD
   "id": "fd7edf94",
||||||| fa5abb84
   "id": "61ab0b8d",
=======
   "id": "5c71951f",
>>>>>>> documentation-devel
=======
   "id": "9016b2d9",
>>>>>>> e1d793125c0aeb7e34aca09298b9c5b44973e4b3
   "metadata": {},
   "outputs": [],
   "source": [
    "(sfe <- BiermannMelaMetasData(dataset = \"MBM05_rep1\"))"
   ]
  },
  {
   "cell_type": "code",
   "execution_count": null,
<<<<<<< HEAD
<<<<<<< HEAD
<<<<<<< HEAD
   "id": "b7d933ab",
||||||| fa5abb84
   "id": "57ef6b00",
=======
   "id": "03a53dc6",
>>>>>>> documentation-devel
||||||| 7e3277eb
   "id": "03a53dc6",
=======
   "id": "d372617a",
>>>>>>> documentation-devel
||||||| 971bf77c
<<<<<<< HEAD
   "id": "b7d933ab",
||||||| fa5abb84
   "id": "57ef6b00",
=======
   "id": "03a53dc6",
>>>>>>> documentation-devel
=======
   "id": "b0549631",
>>>>>>> e1d793125c0aeb7e34aca09298b9c5b44973e4b3
   "metadata": {},
   "outputs": [],
   "source": [
    "sfe <- sfe[, colData(sfe)$prop_mito < 0.1]\n",
    "sfe <- sfe[rowSums(counts(sfe)) > 0,]"
   ]
  },
  {
   "cell_type": "code",
   "execution_count": null,
<<<<<<< HEAD
<<<<<<< HEAD
<<<<<<< HEAD
   "id": "31a15a02",
||||||| fa5abb84
   "id": "662fe312",
=======
   "id": "f101498a",
>>>>>>> documentation-devel
||||||| 7e3277eb
   "id": "f101498a",
=======
   "id": "c1d05fec",
>>>>>>> documentation-devel
||||||| 971bf77c
<<<<<<< HEAD
   "id": "31a15a02",
||||||| fa5abb84
   "id": "662fe312",
=======
   "id": "f101498a",
>>>>>>> documentation-devel
=======
   "id": "0cb961e6",
>>>>>>> e1d793125c0aeb7e34aca09298b9c5b44973e4b3
   "metadata": {},
   "outputs": [],
   "source": [
    "sfe <- logNormCounts(sfe)"
   ]
  },
  {
   "cell_type": "markdown",
<<<<<<< HEAD
<<<<<<< HEAD
<<<<<<< HEAD
   "id": "3270ab0c",
||||||| fa5abb84
   "id": "8be2cabb",
=======
   "id": "7f454ad3",
>>>>>>> documentation-devel
||||||| 7e3277eb
   "id": "7f454ad3",
=======
   "id": "7f1f8123",
>>>>>>> documentation-devel
||||||| 971bf77c
<<<<<<< HEAD
   "id": "3270ab0c",
||||||| fa5abb84
   "id": "8be2cabb",
=======
   "id": "7f454ad3",
>>>>>>> documentation-devel
=======
   "id": "c1f33faa",
>>>>>>> e1d793125c0aeb7e34aca09298b9c5b44973e4b3
   "metadata": {
    "lines_to_next_cell": 0
   },
   "source": [
    "Variograms will be demonstrated on some of the top highly variable genes (HVGs)"
   ]
  },
  {
   "cell_type": "code",
   "execution_count": null,
<<<<<<< HEAD
<<<<<<< HEAD
<<<<<<< HEAD
   "id": "601131c9",
||||||| fa5abb84
   "id": "10fad7de",
=======
   "id": "b7e07714",
>>>>>>> documentation-devel
||||||| 7e3277eb
   "id": "b7e07714",
=======
   "id": "3354d842",
>>>>>>> documentation-devel
||||||| 971bf77c
<<<<<<< HEAD
   "id": "601131c9",
||||||| fa5abb84
   "id": "10fad7de",
=======
   "id": "b7e07714",
>>>>>>> documentation-devel
=======
   "id": "b0dcffb0",
>>>>>>> e1d793125c0aeb7e34aca09298b9c5b44973e4b3
   "metadata": {},
   "outputs": [],
   "source": [
    "dec <- modelGeneVar(sfe)\n",
    "hvgs <- getTopHVGs(dec, n = 50)"
   ]
  },
  {
   "cell_type": "markdown",
<<<<<<< HEAD
<<<<<<< HEAD
<<<<<<< HEAD
   "id": "bad27e62",
||||||| fa5abb84
   "id": "469dc49e",
=======
   "id": "b15625f4",
>>>>>>> documentation-devel
||||||| 7e3277eb
   "id": "b15625f4",
=======
   "id": "13e27293",
>>>>>>> documentation-devel
||||||| 971bf77c
<<<<<<< HEAD
   "id": "bad27e62",
||||||| fa5abb84
   "id": "469dc49e",
=======
   "id": "b15625f4",
>>>>>>> documentation-devel
=======
   "id": "28ff543c",
>>>>>>> e1d793125c0aeb7e34aca09298b9c5b44973e4b3
   "metadata": {},
   "source": [
    "# Variogram\n",
    "The same user interface used to run Moran's I can be used to compute variograms. However, since the variogram uses spatial distances instead of spatial neighborhood graph, the `colGraph` does not need to be specified. Instead, a `colGeometry` can be specified, and if the geometry is not `POINT`, then `spatialCoords(sfe)` will be used to compute the distances. Behind the scene, the [`automap`](https://github.com/cran/automap/tree/master) package is used, which fits a number of different variogram models to the empirical variogram and chooses one that fits the best. The `automap` package is a user friendly wrapper of `gstat`, a time honored package for geostatistics."
   ]
  },
  {
   "cell_type": "code",
   "execution_count": null,
<<<<<<< HEAD
<<<<<<< HEAD
<<<<<<< HEAD
   "id": "305cd0a6",
||||||| fa5abb84
   "id": "b350c4a4",
=======
   "id": "2bd71d44",
>>>>>>> documentation-devel
||||||| 7e3277eb
   "id": "2bd71d44",
=======
   "id": "f088990e",
>>>>>>> documentation-devel
||||||| 971bf77c
<<<<<<< HEAD
   "id": "305cd0a6",
||||||| fa5abb84
   "id": "b350c4a4",
=======
   "id": "2bd71d44",
>>>>>>> documentation-devel
=======
   "id": "4d772ea0",
>>>>>>> e1d793125c0aeb7e34aca09298b9c5b44973e4b3
   "metadata": {},
   "outputs": [],
   "source": [
    "sfe <- runUnivariate(sfe, \"variogram\", hvgs, BPPARAM = SnowParam(2),\n",
    "                     model = \"Ste\")"
   ]
  },
  {
   "cell_type": "code",
   "execution_count": null,
<<<<<<< HEAD
<<<<<<< HEAD
<<<<<<< HEAD
   "id": "573168bd",
||||||| fa5abb84
   "id": "482c24e7",
=======
   "id": "6bec24fb",
>>>>>>> documentation-devel
||||||| 7e3277eb
   "id": "6bec24fb",
=======
   "id": "82162536",
>>>>>>> documentation-devel
||||||| 971bf77c
<<<<<<< HEAD
   "id": "573168bd",
||||||| fa5abb84
   "id": "482c24e7",
=======
   "id": "6bec24fb",
>>>>>>> documentation-devel
=======
   "id": "9d01f9b5",
>>>>>>> e1d793125c0aeb7e34aca09298b9c5b44973e4b3
   "metadata": {},
   "outputs": [],
   "source": [
    "plotVariogram(sfe, hvgs[1:4], name = \"variogram\")"
   ]
  },
  {
   "cell_type": "markdown",
<<<<<<< HEAD
<<<<<<< HEAD
<<<<<<< HEAD
   "id": "502a450d",
||||||| fa5abb84
   "id": "9b53f1eb",
=======
   "id": "e95dfa2d",
>>>>>>> documentation-devel
||||||| 7e3277eb
   "id": "e95dfa2d",
=======
   "id": "7a1d9f7d",
>>>>>>> documentation-devel
||||||| 971bf77c
<<<<<<< HEAD
   "id": "502a450d",
||||||| fa5abb84
   "id": "9b53f1eb",
=======
   "id": "e95dfa2d",
>>>>>>> documentation-devel
=======
   "id": "4c64310b",
>>>>>>> e1d793125c0aeb7e34aca09298b9c5b44973e4b3
   "metadata": {},
   "source": [
    "The data is binned by distance between spots and the variance is computed for each bin. While `gstat`'s plotting functions say \"semivariance\", because the data is scaled so the variance is 1, I do think the variance rather than semivariance is plotted. The numbers by the points in the plot indicate the number of pairs of spots in each bin. \"Ste\" means the Matern model with M. Stein's parameterization was fitted to the points. \n",
    "\n",
    "Nugget is the variance at distance 0, or variance within the first distance bin. The data is scaled by default prior to variogram computation to make the variograms for multiple genes comparable. \n",
    "\n",
    "Spatial autocorrelation makes the variance smaller at shorter distances. When the variogram levels off, it means that spatial autocorrelation no longer has an effect at this distance. Sill is the variance where the variogram levels off. Range is the distance where the variogram levels off. \n",
    "\n",
    "In the first 4 genes, IGHG3 and IGKC seem to have stronger spatial autocorrelation that dissipate in 100 to 200 units (whether it's microns or pixels is unclear from the publication), whereas spatial autocorrelation of B2M and MT-RNR1 is much weaker and has longer length scale. \n",
    "\n",
    "Here the genes are plotted in space:"
   ]
  },
  {
   "cell_type": "code",
   "execution_count": null,
<<<<<<< HEAD
<<<<<<< HEAD
<<<<<<< HEAD
   "id": "3d08c7ff",
||||||| fa5abb84
   "id": "3ab7764c",
=======
   "id": "0e7388c0",
>>>>>>> documentation-devel
||||||| 7e3277eb
   "id": "0e7388c0",
=======
   "id": "08fd2896",
>>>>>>> documentation-devel
||||||| 971bf77c
<<<<<<< HEAD
   "id": "3d08c7ff",
||||||| fa5abb84
   "id": "3ab7764c",
=======
   "id": "0e7388c0",
>>>>>>> documentation-devel
=======
   "id": "120edcb7",
>>>>>>> e1d793125c0aeb7e34aca09298b9c5b44973e4b3
   "metadata": {
    "fig.height": 6,
    "fig.width": 9
   },
   "outputs": [],
   "source": [
    "plotSpatialFeature(sfe, hvgs[1:4], size = 0.3) & \n",
    "    theme_bw() # To show the length units"
   ]
  },
  {
   "cell_type": "markdown",
<<<<<<< HEAD
<<<<<<< HEAD
<<<<<<< HEAD
   "id": "c7710d73",
||||||| fa5abb84
   "id": "d6734c76",
=======
   "id": "9d2d217a",
>>>>>>> documentation-devel
||||||| 7e3277eb
   "id": "9d2d217a",
=======
   "id": "e7f1d923",
>>>>>>> documentation-devel
||||||| 971bf77c
<<<<<<< HEAD
   "id": "c7710d73",
||||||| fa5abb84
   "id": "d6734c76",
=======
   "id": "9d2d217a",
>>>>>>> documentation-devel
=======
   "id": "41f3c128",
>>>>>>> e1d793125c0aeb7e34aca09298b9c5b44973e4b3
   "metadata": {
    "lines_to_next_cell": 0
   },
   "source": [
    "The length scales of spatial autocorrelation for these genes are quite obvious from just plotting the genes. Then what's the point of plotting variograms for ESDA? We can also compute variograms for a larger number of genes and cluster the variograms for patterns in spatial autocorrelation length scales, or compare variograms of the same genes across different samples. Here we cluster the variograms for top highly variable genes (HVGs):\n",
    "\n",
    "The `BLUSPARAM` argument is used to specify methods of clustering, as implemented in the `bluster` package. Here we use hierarchical clustering."
   ]
  },
  {
   "cell_type": "code",
   "execution_count": null,
<<<<<<< HEAD
<<<<<<< HEAD
<<<<<<< HEAD
   "id": "7ca51c0f",
||||||| fa5abb84
   "id": "af73b7b3",
=======
   "id": "4ee5e113",
>>>>>>> documentation-devel
||||||| 7e3277eb
   "id": "4ee5e113",
=======
   "id": "38b3d946",
>>>>>>> documentation-devel
||||||| 971bf77c
<<<<<<< HEAD
   "id": "7ca51c0f",
||||||| fa5abb84
   "id": "af73b7b3",
=======
   "id": "4ee5e113",
>>>>>>> documentation-devel
=======
   "id": "3101b06d",
>>>>>>> e1d793125c0aeb7e34aca09298b9c5b44973e4b3
   "metadata": {},
   "outputs": [],
   "source": [
    "clusts <- clusterVariograms(sfe, hvgs, BLUSPARAM = HclustParam())"
   ]
  },
  {
   "cell_type": "markdown",
<<<<<<< HEAD
<<<<<<< HEAD
<<<<<<< HEAD
   "id": "23f39f45",
||||||| fa5abb84
   "id": "b7ae4f36",
=======
   "id": "8934cada",
>>>>>>> documentation-devel
||||||| 7e3277eb
   "id": "8934cada",
=======
   "id": "6ebd3454",
>>>>>>> documentation-devel
||||||| 971bf77c
<<<<<<< HEAD
   "id": "23f39f45",
||||||| fa5abb84
   "id": "b7ae4f36",
=======
   "id": "8934cada",
>>>>>>> documentation-devel
=======
   "id": "75ccbf97",
>>>>>>> e1d793125c0aeb7e34aca09298b9c5b44973e4b3
   "metadata": {
    "lines_to_next_cell": 0
   },
   "source": [
    "Then plot the clusters:"
   ]
  },
  {
   "cell_type": "code",
   "execution_count": null,
<<<<<<< HEAD
<<<<<<< HEAD
<<<<<<< HEAD
   "id": "580b1f81",
||||||| fa5abb84
   "id": "63aaaa91",
=======
   "id": "37b6713e",
>>>>>>> documentation-devel
||||||| 7e3277eb
   "id": "37b6713e",
=======
   "id": "434639f9",
>>>>>>> documentation-devel
||||||| 971bf77c
<<<<<<< HEAD
   "id": "580b1f81",
||||||| fa5abb84
   "id": "63aaaa91",
=======
   "id": "37b6713e",
>>>>>>> documentation-devel
=======
   "id": "be4ec84a",
>>>>>>> e1d793125c0aeb7e34aca09298b9c5b44973e4b3
   "metadata": {},
   "outputs": [],
   "source": [
    "plotVariogram(sfe, hvgs, color_by = clusts, group = \"feature\", use_lty = FALSE,\n",
    "              show_np = FALSE)"
   ]
  },
  {
   "cell_type": "markdown",
<<<<<<< HEAD
<<<<<<< HEAD
<<<<<<< HEAD
   "id": "08bbf3a3",
||||||| fa5abb84
   "id": "c616ec94",
=======
   "id": "f133424d",
>>>>>>> documentation-devel
||||||| 7e3277eb
   "id": "f133424d",
=======
   "id": "02e6f852",
>>>>>>> documentation-devel
||||||| 971bf77c
<<<<<<< HEAD
   "id": "08bbf3a3",
||||||| fa5abb84
   "id": "c616ec94",
=======
   "id": "f133424d",
>>>>>>> documentation-devel
=======
   "id": "95f53f78",
>>>>>>> e1d793125c0aeb7e34aca09298b9c5b44973e4b3
   "metadata": {
    "lines_to_next_cell": 0
   },
   "source": [
    "It seems that there are many genes, like MT-RNR1, with weak spatial autocorrelation over longer length scales, genes with stronger and shorter range spatial autocorrelation (around 150 to 200 units) like IGKC, and genes with somewhat longer length scale of spatial autocorrelation (around 400 units).\n",
    "\n",
    "Plot one gene from each cluster in space:"
   ]
  },
  {
   "cell_type": "code",
   "execution_count": null,
<<<<<<< HEAD
<<<<<<< HEAD
<<<<<<< HEAD
   "id": "c1e88f1f",
||||||| fa5abb84
   "id": "f3a54d9d",
=======
   "id": "202c7def",
>>>>>>> documentation-devel
||||||| 7e3277eb
   "id": "202c7def",
=======
   "id": "3cb13945",
>>>>>>> documentation-devel
||||||| 971bf77c
<<<<<<< HEAD
   "id": "c1e88f1f",
||||||| fa5abb84
   "id": "f3a54d9d",
=======
   "id": "202c7def",
>>>>>>> documentation-devel
=======
   "id": "ae2a600c",
>>>>>>> e1d793125c0aeb7e34aca09298b9c5b44973e4b3
   "metadata": {},
   "outputs": [],
   "source": [
    "genes_clusts <- clusts |> \n",
    "    group_by(cluster) |> \n",
    "    slice_head(n = 1) |> \n",
    "    pull(feature)"
   ]
  },
  {
   "cell_type": "code",
   "execution_count": null,
<<<<<<< HEAD
<<<<<<< HEAD
<<<<<<< HEAD
   "id": "9a03ae65",
||||||| fa5abb84
   "id": "788e18a0",
=======
   "id": "a13041c7",
>>>>>>> documentation-devel
||||||| 7e3277eb
   "id": "a13041c7",
=======
   "id": "e4b3262c",
>>>>>>> documentation-devel
||||||| 971bf77c
<<<<<<< HEAD
   "id": "9a03ae65",
||||||| fa5abb84
   "id": "788e18a0",
=======
   "id": "a13041c7",
>>>>>>> documentation-devel
=======
   "id": "da50577b",
>>>>>>> e1d793125c0aeb7e34aca09298b9c5b44973e4b3
   "metadata": {
    "fig.height": 6,
    "fig.width": 10
   },
   "outputs": [],
   "source": [
    "plotSpatialFeature(sfe, genes_clusts, size = 0.3)"
   ]
  },
  {
   "cell_type": "markdown",
<<<<<<< HEAD
<<<<<<< HEAD
<<<<<<< HEAD
   "id": "39176142",
||||||| fa5abb84
   "id": "9df436b4",
=======
   "id": "25031b8d",
>>>>>>> documentation-devel
||||||| 7e3277eb
   "id": "25031b8d",
=======
   "id": "f5240e49",
>>>>>>> documentation-devel
||||||| 971bf77c
<<<<<<< HEAD
   "id": "39176142",
||||||| fa5abb84
   "id": "9df436b4",
=======
   "id": "25031b8d",
>>>>>>> documentation-devel
=======
   "id": "38a0ba33",
>>>>>>> e1d793125c0aeb7e34aca09298b9c5b44973e4b3
   "metadata": {},
   "source": [
    "MT-RNR1 is more widely expressed. IGKC and ICHC3 are restricted to smaller areas, and IGHM is restricted to even smaller areas. Note that genes with variograms in the same cluster don't have to be co-expressed; they only need to have similar length scales and strengths of spatial autocorrelation.\n",
    "\n",
    "# Anisotropy\n",
    "Anisotropy means different in different directions. An example is the cerebral cortex, which has a layered structure. The variogram can be computed in different directions.\n",
    "\n",
    "## Anisotropic variogram\n",
    "The directions on which to compute variograms can be explicitly specified, in the `alpha` argument. However, since `gstat` does not fit anisotropic variograms, the model is fitted to all directions and the empirical variograms at each angle are plotted separately. Here we compute anisotropic variograms for the 4 genes above:"
   ]
  },
  {
   "cell_type": "code",
   "execution_count": null,
<<<<<<< HEAD
<<<<<<< HEAD
<<<<<<< HEAD
   "id": "0abf3bb2",
||||||| fa5abb84
   "id": "ccfaf1f1",
=======
   "id": "3fd9528c",
>>>>>>> documentation-devel
||||||| 7e3277eb
   "id": "3fd9528c",
=======
   "id": "3d7b3ecf",
>>>>>>> documentation-devel
||||||| 971bf77c
<<<<<<< HEAD
   "id": "0abf3bb2",
||||||| fa5abb84
   "id": "ccfaf1f1",
=======
   "id": "3fd9528c",
>>>>>>> documentation-devel
=======
   "id": "dca348a6",
>>>>>>> e1d793125c0aeb7e34aca09298b9c5b44973e4b3
   "metadata": {},
   "outputs": [],
   "source": [
    "sfe <- runUnivariate(sfe, \"variogram\", genes_clusts, alpha = c(0, 45, 90, 135),\n",
    "                     # To not to overwrite omnidirectional variogram results\n",
    "                     name = \"variogram_anis\", model = \"Ste\", \n",
    "                     BPPARAM = SnowParam(2))"
   ]
  },
  {
   "cell_type": "code",
   "execution_count": null,
<<<<<<< HEAD
<<<<<<< HEAD
<<<<<<< HEAD
   "id": "61af3b57",
||||||| fa5abb84
   "id": "6e629166",
=======
   "id": "32f172d8",
>>>>>>> documentation-devel
||||||| 7e3277eb
   "id": "32f172d8",
=======
   "id": "78c98712",
>>>>>>> documentation-devel
||||||| 971bf77c
<<<<<<< HEAD
   "id": "61af3b57",
||||||| fa5abb84
   "id": "6e629166",
=======
   "id": "32f172d8",
>>>>>>> documentation-devel
=======
   "id": "9f9212e7",
>>>>>>> e1d793125c0aeb7e34aca09298b9c5b44973e4b3
   "metadata": {},
   "outputs": [],
   "source": [
    "plotVariogram(sfe, genes_clusts, group = \"angle\", name = \"variogram_anis\",\n",
    "              show_np = FALSE)"
   ]
  },
  {
   "cell_type": "markdown",
<<<<<<< HEAD
<<<<<<< HEAD
<<<<<<< HEAD
   "id": "6a8296a2",
||||||| fa5abb84
   "id": "3f12200d",
=======
   "id": "7e4216fa",
>>>>>>> documentation-devel
||||||| 7e3277eb
   "id": "7e4216fa",
=======
   "id": "6c9c66ca",
>>>>>>> documentation-devel
||||||| 971bf77c
<<<<<<< HEAD
   "id": "6a8296a2",
||||||| fa5abb84
   "id": "3f12200d",
=======
   "id": "7e4216fa",
>>>>>>> documentation-devel
=======
   "id": "9642fa0d",
>>>>>>> e1d793125c0aeb7e34aca09298b9c5b44973e4b3
   "metadata": {},
   "source": [
    "Here the line is the variogram model fitted to all directions and the text describes this model. The points show the angles in different colors. Zero degree points north (up), and the angles go clockwise.\n",
    "\n",
    "## Variogram map\n",
    "\n",
    "The variogram map is another way to visualize spatial autocorrelation in different directions. It bins distances in x and distances in y, so we have a grid of distances where the variance is computed. Just like the variograms above, the origin usually has a low value, because spatial autocorrelation reduces the variance in a short distance, and the values increase with increasing distance from the origin, but it can increase more quickly in some directions than others. Here to compute variogram maps for the 4 genes above:"
   ]
  },
  {
   "cell_type": "code",
   "execution_count": null,
<<<<<<< HEAD
<<<<<<< HEAD
<<<<<<< HEAD
   "id": "34e59795",
||||||| fa5abb84
   "id": "c67840c2",
=======
   "id": "93515787",
>>>>>>> documentation-devel
||||||| 7e3277eb
   "id": "93515787",
=======
   "id": "720822de",
>>>>>>> documentation-devel
||||||| 971bf77c
<<<<<<< HEAD
   "id": "34e59795",
||||||| fa5abb84
   "id": "c67840c2",
=======
   "id": "93515787",
>>>>>>> documentation-devel
=======
   "id": "559934ff",
>>>>>>> e1d793125c0aeb7e34aca09298b9c5b44973e4b3
   "metadata": {},
   "outputs": [],
   "source": [
    "sfe <- runUnivariate(sfe, \"variogram_map\", genes_clusts, width = 100, \n",
    "                     cutoff = 800, BPPARAM = SnowParam(2), name = \"variogram_map2\")"
   ]
  },
  {
   "cell_type": "markdown",
<<<<<<< HEAD
<<<<<<< HEAD
<<<<<<< HEAD
   "id": "4da90009",
||||||| fa5abb84
   "id": "02654f0a",
=======
   "id": "78d48082",
>>>>>>> documentation-devel
||||||| 7e3277eb
   "id": "78d48082",
=======
   "id": "d2d51680",
>>>>>>> documentation-devel
||||||| 971bf77c
<<<<<<< HEAD
   "id": "4da90009",
||||||| fa5abb84
   "id": "02654f0a",
=======
   "id": "78d48082",
>>>>>>> documentation-devel
=======
   "id": "b7b1d65a",
>>>>>>> e1d793125c0aeb7e34aca09298b9c5b44973e4b3
   "metadata": {},
   "source": [
    "The `width` argument is the width of the bins, and `cutoff` is the maximum distance."
   ]
  },
  {
   "cell_type": "code",
   "execution_count": null,
<<<<<<< HEAD
<<<<<<< HEAD
<<<<<<< HEAD
   "id": "11c57c77",
||||||| fa5abb84
   "id": "cb98a399",
=======
   "id": "9ef1d3a3",
>>>>>>> documentation-devel
||||||| 7e3277eb
   "id": "9ef1d3a3",
=======
   "id": "72a94999",
>>>>>>> documentation-devel
||||||| 971bf77c
<<<<<<< HEAD
   "id": "11c57c77",
||||||| fa5abb84
   "id": "cb98a399",
=======
   "id": "9ef1d3a3",
>>>>>>> documentation-devel
=======
   "id": "b50f4a51",
>>>>>>> e1d793125c0aeb7e34aca09298b9c5b44973e4b3
   "metadata": {},
   "outputs": [],
   "source": [
    "plotVariogramMap(sfe, genes_clusts, name = \"variogram_map2\")"
   ]
  },
  {
   "cell_type": "markdown",
<<<<<<< HEAD
<<<<<<< HEAD
<<<<<<< HEAD
   "id": "e6f236b8",
||||||| fa5abb84
   "id": "9ea33e37",
=======
   "id": "90d0b5fe",
>>>>>>> documentation-devel
||||||| 7e3277eb
   "id": "90d0b5fe",
=======
   "id": "4ad5e273",
>>>>>>> documentation-devel
||||||| 971bf77c
<<<<<<< HEAD
   "id": "e6f236b8",
||||||| fa5abb84
   "id": "9ea33e37",
=======
   "id": "90d0b5fe",
>>>>>>> documentation-devel
=======
   "id": "0beb55ec",
>>>>>>> e1d793125c0aeb7e34aca09298b9c5b44973e4b3
   "metadata": {},
   "source": [
    "# Cross variogram\n",
    "The cross variogram is used in cokriging, which uses multiple variables in the spatial interpolation model. The cross variogram is defined as\n",
    "\n",
    "$$\n",
    "\\gamma(t) = \\frac 1 2 \\mathrm{Cov}(X_t - X_0, Y_t - Y_0),\n",
    "$$\n",
    "\n",
    "where $Y$ is another variable. The cross variogram also has nugget, sill, and range. It shows how the covariance between two variables changes with distance. `Voyager` supports multiple bivariate spatial methods, and the cross variogram is one of them. Just like for univariate spatial methods, `Voyager` provides a uniform user interface for bivariate methods. However, bivariate local methods can't be stored in the SFE object at present because they tend to have very different formats in outputs (e.g. a correlation matrix for Lee's L and a list for most other methods) some of which may not be straightforward to store in the SFE object."
   ]
  },
  {
   "cell_type": "code",
   "execution_count": null,
<<<<<<< HEAD
<<<<<<< HEAD
<<<<<<< HEAD
   "id": "d1e20c75",
||||||| fa5abb84
   "id": "145304db",
=======
   "id": "cc5b95d2",
>>>>>>> documentation-devel
||||||| 7e3277eb
   "id": "cc5b95d2",
=======
   "id": "541a6408",
>>>>>>> documentation-devel
||||||| 971bf77c
<<<<<<< HEAD
   "id": "d1e20c75",
||||||| fa5abb84
   "id": "145304db",
=======
   "id": "cc5b95d2",
>>>>>>> documentation-devel
=======
   "id": "0bc1d793",
>>>>>>> e1d793125c0aeb7e34aca09298b9c5b44973e4b3
   "metadata": {},
   "outputs": [],
   "source": [
    "cross_v <- calculateBivariate(sfe, \"cross_variogram\", \n",
    "                              feature1 = \"IGKC\", feature2 = \"IGHG3\")"
   ]
  },
  {
   "cell_type": "code",
   "execution_count": null,
<<<<<<< HEAD
<<<<<<< HEAD
<<<<<<< HEAD
   "id": "54f7464d",
||||||| fa5abb84
   "id": "89ab933e",
=======
   "id": "e1611074",
>>>>>>> documentation-devel
||||||| 7e3277eb
   "id": "e1611074",
=======
   "id": "57806224",
>>>>>>> documentation-devel
||||||| 971bf77c
<<<<<<< HEAD
   "id": "54f7464d",
||||||| fa5abb84
   "id": "89ab933e",
=======
   "id": "e1611074",
>>>>>>> documentation-devel
=======
   "id": "75721deb",
>>>>>>> e1d793125c0aeb7e34aca09298b9c5b44973e4b3
   "metadata": {},
   "outputs": [],
   "source": [
    "plotCrossVariogram(cross_v, show_np = FALSE)"
   ]
  },
  {
   "cell_type": "markdown",
<<<<<<< HEAD
<<<<<<< HEAD
<<<<<<< HEAD
   "id": "a6c40efc",
||||||| fa5abb84
   "id": "b1758e82",
=======
   "id": "4f34210d",
>>>>>>> documentation-devel
||||||| 7e3277eb
   "id": "4f34210d",
=======
   "id": "3b011483",
>>>>>>> documentation-devel
||||||| 971bf77c
<<<<<<< HEAD
   "id": "a6c40efc",
||||||| fa5abb84
   "id": "b1758e82",
=======
   "id": "4f34210d",
>>>>>>> documentation-devel
=======
   "id": "b7773217",
>>>>>>> e1d793125c0aeb7e34aca09298b9c5b44973e4b3
   "metadata": {
    "lines_to_next_cell": 0
   },
   "source": [
    "The facets are shown in a matrix, whose diagonal is the variogram for each gene, and off diagonal entries are cross variograms. Here for IGKC and IGHG3, the length scale of the covariance is similar to that of spatial autocorrelation. \n",
    "\n",
    "There is also a cross variogram map to show the cross variogram in different directions:"
   ]
  },
  {
   "cell_type": "code",
   "execution_count": null,
<<<<<<< HEAD
<<<<<<< HEAD
<<<<<<< HEAD
   "id": "e44a19a6",
||||||| fa5abb84
   "id": "1c17830f",
=======
   "id": "386870fd",
>>>>>>> documentation-devel
||||||| 7e3277eb
   "id": "386870fd",
=======
   "id": "338de29d",
>>>>>>> documentation-devel
||||||| 971bf77c
<<<<<<< HEAD
   "id": "e44a19a6",
||||||| fa5abb84
   "id": "1c17830f",
=======
   "id": "386870fd",
>>>>>>> documentation-devel
=======
   "id": "03eeaa67",
>>>>>>> e1d793125c0aeb7e34aca09298b9c5b44973e4b3
   "metadata": {},
   "outputs": [],
   "source": [
    "cross_v_map <- calculateBivariate(sfe, \"cross_variogram_map\",\n",
    "                                  feature1 = \"IGKC\", feature2 = \"IGHG3\",\n",
    "                                  width = 100, cutoff = 800)"
   ]
  },
  {
   "cell_type": "code",
   "execution_count": null,
<<<<<<< HEAD
<<<<<<< HEAD
<<<<<<< HEAD
   "id": "eb296db4",
||||||| fa5abb84
   "id": "f5c36dca",
=======
   "id": "1000d6e2",
>>>>>>> documentation-devel
||||||| 7e3277eb
   "id": "1000d6e2",
=======
   "id": "48ff98f0",
>>>>>>> documentation-devel
||||||| 971bf77c
<<<<<<< HEAD
   "id": "eb296db4",
||||||| fa5abb84
   "id": "f5c36dca",
=======
   "id": "1000d6e2",
>>>>>>> documentation-devel
=======
   "id": "751ee10c",
>>>>>>> e1d793125c0aeb7e34aca09298b9c5b44973e4b3
   "metadata": {},
   "outputs": [],
   "source": [
    "plotCrossVariogramMap(cross_v_map)"
   ]
  },
  {
   "cell_type": "markdown",
<<<<<<< HEAD
<<<<<<< HEAD
<<<<<<< HEAD
   "id": "b2d0b815",
||||||| fa5abb84
   "id": "1f619aa4",
=======
   "id": "4866ef92",
>>>>>>> documentation-devel
||||||| 7e3277eb
   "id": "4866ef92",
=======
   "id": "29c88a11",
>>>>>>> documentation-devel
||||||| 971bf77c
<<<<<<< HEAD
   "id": "b2d0b815",
||||||| fa5abb84
   "id": "1f619aa4",
=======
   "id": "4866ef92",
>>>>>>> documentation-devel
=======
   "id": "24dbf500",
>>>>>>> e1d793125c0aeb7e34aca09298b9c5b44973e4b3
   "metadata": {
    "lines_to_next_cell": 0
   },
   "source": [
    "# Session Info"
   ]
  },
  {
   "cell_type": "code",
   "execution_count": null,
<<<<<<< HEAD
<<<<<<< HEAD
<<<<<<< HEAD
   "id": "84e2d202",
||||||| fa5abb84
   "id": "8e9984b6",
=======
   "id": "ed2127b9",
>>>>>>> documentation-devel
||||||| 7e3277eb
   "id": "ed2127b9",
=======
   "id": "d2e3e296",
>>>>>>> documentation-devel
||||||| 971bf77c
<<<<<<< HEAD
   "id": "84e2d202",
||||||| fa5abb84
   "id": "8e9984b6",
=======
   "id": "ed2127b9",
>>>>>>> documentation-devel
=======
   "id": "7b38a178",
>>>>>>> e1d793125c0aeb7e34aca09298b9c5b44973e4b3
   "metadata": {
    "lines_to_next_cell": 2
   },
   "outputs": [],
   "source": [
    "sessionInfo()"
   ]
  },
  {
   "cell_type": "markdown",
<<<<<<< HEAD
<<<<<<< HEAD
<<<<<<< HEAD
   "id": "6d39854e",
||||||| fa5abb84
   "id": "63d8af58",
=======
   "id": "35384932",
>>>>>>> documentation-devel
||||||| 7e3277eb
   "id": "35384932",
=======
   "id": "0e20619e",
>>>>>>> documentation-devel
||||||| 971bf77c
<<<<<<< HEAD
   "id": "6d39854e",
||||||| fa5abb84
   "id": "63d8af58",
=======
   "id": "35384932",
>>>>>>> documentation-devel
=======
   "id": "0d752291",
>>>>>>> e1d793125c0aeb7e34aca09298b9c5b44973e4b3
   "metadata": {},
   "source": [
    "# References"
   ]
  }
 ],
 "metadata": {
  "kernelspec": {
   "display_name": "R",
   "language": "R",
   "name": "ir"
  }
 },
 "nbformat": 4,
 "nbformat_minor": 5
}
