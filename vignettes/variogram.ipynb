{
 "cells": [
  {
   "cell_type": "raw",
<<<<<<< HEAD
<<<<<<< HEAD
<<<<<<< HEAD
<<<<<<< HEAD
   "id": "0d856295",
||||||| merged common ancestors
   "id": "efcebd40",
=======
   "id": "1059614f",
>>>>>>> documentation-devel
||||||| f5a2d7c
   "id": "1059614f",
=======
   "id": "4a8aa3a0",
>>>>>>> documentation-devel
||||||| de7e30d
   "id": "0d856295",
=======
   "id": "b6b3a64a",
>>>>>>> 03b044928c05aca10f627eea0665560c78e150c1
||||||| 1f675c8
   "id": "4a8aa3a0",
=======
   "id": "4065f6f3",
>>>>>>> documentation-devel
   "metadata": {},
   "source": [
    "---\n",
    "title: \"Variogram\"\n",
    "author: \"Lambda Moses\"\n",
    "date: \"`r Sys.Date()`\"\n",
    "output: \n",
    "  html_document:\n",
    "  toc: true\n",
    "  toc_float:\n",
    "    collapsed: false\n",
    "  toc_depth: 3\n",
    "bibliography: ref.bib\n",
    "vignette: >\n",
    "  %\\VignetteIndexEntry{variogram}\n",
    "  %\\VignetteEngine{knitr::rmarkdown}\n",
    "  %\\VignetteEncoding{UTF-8}\n",
    "---"
   ]
  },
  {
   "cell_type": "code",
   "execution_count": null,
<<<<<<< HEAD
<<<<<<< HEAD
<<<<<<< HEAD
<<<<<<< HEAD
   "id": "eeff1d4e",
||||||| merged common ancestors
   "id": "9eccd38b",
=======
   "id": "0c6254cf",
>>>>>>> documentation-devel
||||||| f5a2d7c
   "id": "0c6254cf",
=======
   "id": "216111e8",
>>>>>>> documentation-devel
||||||| de7e30d
   "id": "eeff1d4e",
=======
   "id": "9c2437d2",
>>>>>>> 03b044928c05aca10f627eea0665560c78e150c1
||||||| 1f675c8
   "id": "216111e8",
=======
   "id": "dfa1f257",
>>>>>>> documentation-devel
   "metadata": {
    "tags": [
     "remove_cell"
    ]
   },
   "outputs": [],
   "source": [
    "knitr::opts_chunk$set(\n",
    "  collapse = TRUE,\n",
    "  comment = \"#>\"\n",
    ")"
   ]
  },
  {
   "cell_type": "code",
   "execution_count": null,
<<<<<<< HEAD
<<<<<<< HEAD
<<<<<<< HEAD
<<<<<<< HEAD
   "id": "f1603e25",
||||||| merged common ancestors
   "id": "f6d177a5",
=======
   "id": "0f8b9707",
>>>>>>> documentation-devel
||||||| f5a2d7c
   "id": "0f8b9707",
=======
   "id": "c6755765",
>>>>>>> documentation-devel
||||||| de7e30d
   "id": "f1603e25",
=======
   "id": "e144ac31",
>>>>>>> 03b044928c05aca10f627eea0665560c78e150c1
||||||| 1f675c8
   "id": "c6755765",
=======
   "id": "32a924b4",
>>>>>>> documentation-devel
   "metadata": {
    "eval": false,
    "tags": [
     "remove_cell"
    ]
   },
   "outputs": [],
   "source": [
    "# Install Google Colab dependencies\n",
    "# Note: this can take 30+ minutes (many of the dependencies include C++ code, which needs to be compiled)\n",
    "\n",
    "# First install `sf`, `ragg` and `textshaping` and their system dependencies:\n",
    "system(\"apt-get -y update && apt-get install -y  libudunits2-dev libgdal-dev libgeos-dev libproj-dev libharfbuzz-dev libfribidi-dev\")\n",
    "install.packages(\"sf\")\n",
    "install.packages(\"textshaping\")\n",
    "install.packages(\"ragg\")\n",
    "\n",
    "# Install system dependencies of some other R packages that Voyager either imports or suggests:\n",
    "system(\"apt-get install -y libfribidi-dev libcairo2-dev libmagick++-dev\")\n",
    "\n",
    "# Install Voyager from Bioconductor:\n",
    "install.packages(\"BiocManager\")\n",
    "BiocManager::install(version = \"3.17\", ask = FALSE, update = FALSE, Ncpus = 2)\n",
    "BiocManager::install(\"scater\")\n",
    "system.time(\n",
    "  BiocManager::install(\"Voyager\", dependencies = TRUE, Ncpus = 2, update = FALSE)\n",
    ")\n",
    "\n",
    "# Other packages used in this vignette\n",
    "packageVersion(\"Voyager\")"
   ]
  },
  {
   "cell_type": "markdown",
<<<<<<< HEAD
<<<<<<< HEAD
<<<<<<< HEAD
<<<<<<< HEAD
   "id": "8e9b23be",
||||||| merged common ancestors
   "id": "ae349987",
=======
   "id": "502b4dae",
>>>>>>> documentation-devel
||||||| f5a2d7c
   "id": "502b4dae",
=======
   "id": "2622c5f8",
>>>>>>> documentation-devel
||||||| de7e30d
   "id": "8e9b23be",
=======
   "id": "6b7b7957",
>>>>>>> 03b044928c05aca10f627eea0665560c78e150c1
||||||| 1f675c8
   "id": "2622c5f8",
=======
   "id": "8b3e06a7",
>>>>>>> documentation-devel
   "metadata": {
    "lines_to_next_cell": 0
   },
   "source": [
    "# Introduction\n",
    "In geostatistical data, an underlying spatial process is sampled at known locations. Kriging uses a Gaussian process model to interpolate the values between the sample locations, and the semivariogram is used to model the spatial dependency between the locations as the covariance of the Gaussian process. When not kriging, the semivariogram can be used as an exploratory data analysis tool to find the length scale and anisotropy of spatial autocorrelation. The semivariogram is defined as\n",
    "\n",
    "$$\n",
    "\\gamma(t) = \\frac 1 2 \\mathrm{Var}(X_t - X_0),\n",
    "$$\n",
    "\n",
    "where $X$ is the value such as gene expression, and $t$ is a spatial vector. $X_0$ is the value at a location of interest, and $X_t$ is the value lagged by $t$. With positive spatial autocorrelation, the variance would be smaller among nearby values, so the variogram would increase with distance, eventually leveling off when the distance is beyond the length scale of spatial autocorrelation. The \"semi\" comes from the 1/2, which comes from the assumption that the Gaussian process is intrinsically stationary, i.e. the covariance between two locations only depends on the spatial lag between them:\n",
    "\n",
    "$$\\begin{align}\n",
    "\\mathrm{Var}(X_{t_2} - X_{t_1}) &= \\mathrm{Var}(X_{t_2}) + \\mathrm{Var}(X_{t_1}) - 2\\mathrm{Cov}(X_{t_2}, X_{t_1}) \\\\\n",
    "&= 2\\rho(0) - 2\\rho(t_2 - t_1),\n",
    "\\end{align}$$\n",
    "\n",
    "where $\\rho$ is a covariance function and $t_1$ and $t_2$ are spatial locations. A model can be fitted to the empirical semivariogram, to model this $\\rho$.\n",
    "\n",
    "This vignette demonstrates the variogram as an ESDA tool, including interpretation of the univariate variogram, anisotropic variograms (variograms in different directions), variogram maps, and bivariate cross variograms.\n",
    "\n",
    "Here we load the packages:"
   ]
  },
  {
   "cell_type": "code",
   "execution_count": null,
<<<<<<< HEAD
<<<<<<< HEAD
<<<<<<< HEAD
<<<<<<< HEAD
   "id": "60641ba2",
||||||| merged common ancestors
   "id": "339f4807",
=======
   "id": "e5ac0846",
>>>>>>> documentation-devel
||||||| f5a2d7c
   "id": "e5ac0846",
=======
   "id": "98a20b9b",
>>>>>>> documentation-devel
||||||| de7e30d
   "id": "60641ba2",
=======
   "id": "c712da6c",
>>>>>>> 03b044928c05aca10f627eea0665560c78e150c1
||||||| 1f675c8
   "id": "98a20b9b",
=======
   "id": "5f9e1298",
>>>>>>> documentation-devel
   "metadata": {
    "message": false
   },
   "outputs": [],
   "source": [
    "library(Voyager)\n",
    "library(SFEData)\n",
    "library(SpatialFeatureExperiment)\n",
    "library(scater)\n",
    "library(scran)\n",
    "library(ggplot2)\n",
    "library(BiocParallel)\n",
    "library(bluster)\n",
    "library(dplyr)\n",
    "theme_set(theme_bw())"
   ]
  },
  {
   "cell_type": "markdown",
<<<<<<< HEAD
<<<<<<< HEAD
<<<<<<< HEAD
<<<<<<< HEAD
   "id": "6de34b99",
||||||| merged common ancestors
   "id": "fa9cf370",
=======
   "id": "403c7d83",
>>>>>>> documentation-devel
||||||| f5a2d7c
   "id": "403c7d83",
=======
   "id": "07fadb80",
>>>>>>> documentation-devel
||||||| de7e30d
   "id": "6de34b99",
=======
   "id": "e295890b",
>>>>>>> 03b044928c05aca10f627eea0665560c78e150c1
||||||| 1f675c8
   "id": "07fadb80",
=======
   "id": "75d236f2",
>>>>>>> documentation-devel
   "metadata": {
    "lines_to_next_cell": 0
   },
   "source": [
    "The Slide-seq melanoma metastasis data [@Biermann2022-cu] is used for demonstration. QC is performed in [another vignette](https://pachterlab.github.io/voyager/articles/vig3_slideseq_v2.html)."
   ]
  },
  {
   "cell_type": "code",
   "execution_count": null,
<<<<<<< HEAD
<<<<<<< HEAD
<<<<<<< HEAD
<<<<<<< HEAD
   "id": "0c9db405",
||||||| merged common ancestors
   "id": "650a2a58",
=======
   "id": "900feff6",
>>>>>>> documentation-devel
||||||| f5a2d7c
   "id": "900feff6",
=======
   "id": "57918cc9",
>>>>>>> documentation-devel
||||||| de7e30d
   "id": "0c9db405",
=======
   "id": "031a24de",
>>>>>>> 03b044928c05aca10f627eea0665560c78e150c1
||||||| 1f675c8
   "id": "57918cc9",
=======
   "id": "a709ec41",
>>>>>>> documentation-devel
   "metadata": {},
   "outputs": [],
   "source": [
    "(sfe <- BiermannMelaMetasData(dataset = \"MBM05_rep1\"))"
   ]
  },
  {
   "cell_type": "code",
   "execution_count": null,
<<<<<<< HEAD
<<<<<<< HEAD
<<<<<<< HEAD
<<<<<<< HEAD
   "id": "0027b607",
||||||| merged common ancestors
   "id": "0f1595bc",
=======
   "id": "48a141e4",
>>>>>>> documentation-devel
||||||| f5a2d7c
   "id": "48a141e4",
=======
   "id": "16abe2e1",
>>>>>>> documentation-devel
||||||| de7e30d
   "id": "0027b607",
=======
   "id": "54cac343",
>>>>>>> 03b044928c05aca10f627eea0665560c78e150c1
||||||| 1f675c8
   "id": "16abe2e1",
=======
   "id": "4b3ab7ee",
>>>>>>> documentation-devel
   "metadata": {},
   "outputs": [],
   "source": [
    "sfe <- sfe[, colData(sfe)$prop_mito < 0.1]\n",
    "sfe <- sfe[rowSums(counts(sfe)) > 0,]"
   ]
  },
  {
   "cell_type": "code",
   "execution_count": null,
<<<<<<< HEAD
<<<<<<< HEAD
<<<<<<< HEAD
<<<<<<< HEAD
   "id": "1a32385e",
||||||| merged common ancestors
   "id": "8d454d30",
=======
   "id": "a4b753f6",
>>>>>>> documentation-devel
||||||| f5a2d7c
   "id": "a4b753f6",
=======
   "id": "4b4e2afd",
>>>>>>> documentation-devel
||||||| de7e30d
   "id": "1a32385e",
=======
   "id": "6634f321",
>>>>>>> 03b044928c05aca10f627eea0665560c78e150c1
||||||| 1f675c8
   "id": "4b4e2afd",
=======
   "id": "8c4e10ea",
>>>>>>> documentation-devel
   "metadata": {},
   "outputs": [],
   "source": [
    "sfe <- logNormCounts(sfe)"
   ]
  },
  {
   "cell_type": "markdown",
<<<<<<< HEAD
<<<<<<< HEAD
<<<<<<< HEAD
<<<<<<< HEAD
   "id": "2045fd43",
||||||| merged common ancestors
   "id": "043a5f5e",
=======
   "id": "b83bbb73",
>>>>>>> documentation-devel
||||||| f5a2d7c
   "id": "b83bbb73",
=======
   "id": "5565a7a7",
>>>>>>> documentation-devel
||||||| de7e30d
   "id": "2045fd43",
=======
   "id": "ea2d4b8f",
>>>>>>> 03b044928c05aca10f627eea0665560c78e150c1
||||||| 1f675c8
   "id": "5565a7a7",
=======
   "id": "f7c81900",
>>>>>>> documentation-devel
   "metadata": {
    "lines_to_next_cell": 0
   },
   "source": [
    "Variograms will be demonstrated on some of the top highly variable genes (HVGs)"
   ]
  },
  {
   "cell_type": "code",
   "execution_count": null,
<<<<<<< HEAD
<<<<<<< HEAD
<<<<<<< HEAD
<<<<<<< HEAD
   "id": "3b67b371",
||||||| merged common ancestors
   "id": "139fb443",
=======
   "id": "3363a76e",
>>>>>>> documentation-devel
||||||| f5a2d7c
   "id": "3363a76e",
=======
   "id": "3bcff0a8",
>>>>>>> documentation-devel
||||||| de7e30d
   "id": "3b67b371",
=======
   "id": "83c61b9c",
>>>>>>> 03b044928c05aca10f627eea0665560c78e150c1
||||||| 1f675c8
   "id": "3bcff0a8",
=======
   "id": "39a6df68",
>>>>>>> documentation-devel
   "metadata": {},
   "outputs": [],
   "source": [
    "dec <- modelGeneVar(sfe)\n",
    "hvgs <- getTopHVGs(dec, n = 50)"
   ]
  },
  {
   "cell_type": "markdown",
<<<<<<< HEAD
<<<<<<< HEAD
<<<<<<< HEAD
<<<<<<< HEAD
   "id": "e07958aa",
||||||| merged common ancestors
   "id": "a19f66eb",
=======
   "id": "0b6a332e",
>>>>>>> documentation-devel
||||||| f5a2d7c
   "id": "0b6a332e",
=======
   "id": "7f109120",
>>>>>>> documentation-devel
||||||| de7e30d
   "id": "e07958aa",
=======
   "id": "eba688b9",
>>>>>>> 03b044928c05aca10f627eea0665560c78e150c1
||||||| 1f675c8
   "id": "7f109120",
=======
   "id": "0a9c0367",
>>>>>>> documentation-devel
   "metadata": {},
   "source": [
    "# Variogram\n",
    "The same user interface used to run Moran's I can be used to compute variograms. However, since the variogram uses spatial distances instead of spatial neighborhood graph, the `colGraph` does not need to be specified. Instead, a `colGeometry` can be specified, and if the geometry is not `POINT`, then `spatialCoords(sfe)` will be used to compute the distances. Behind the scene, the [`automap`](https://github.com/cran/automap/tree/master) package is used, which fits a number of different variogram models to the empirical variogram and chooses one that fits the best. The `automap` package is a user friendly wrapper of `gstat`, a time honored package for geostatistics."
   ]
  },
  {
   "cell_type": "code",
   "execution_count": null,
<<<<<<< HEAD
<<<<<<< HEAD
<<<<<<< HEAD
<<<<<<< HEAD
   "id": "fa9616ed",
||||||| merged common ancestors
   "id": "00e01bfc",
=======
   "id": "254bdd46",
>>>>>>> documentation-devel
||||||| f5a2d7c
   "id": "254bdd46",
=======
   "id": "7d1d96ff",
>>>>>>> documentation-devel
||||||| de7e30d
   "id": "fa9616ed",
=======
   "id": "7700e047",
>>>>>>> 03b044928c05aca10f627eea0665560c78e150c1
||||||| 1f675c8
   "id": "7d1d96ff",
=======
   "id": "ea1bf7d8",
>>>>>>> documentation-devel
   "metadata": {},
   "outputs": [],
   "source": [
    "sfe <- runUnivariate(sfe, \"variogram\", hvgs, BPPARAM = SnowParam(2),\n",
    "                     model = \"Ste\")"
   ]
  },
  {
   "cell_type": "code",
   "execution_count": null,
<<<<<<< HEAD
<<<<<<< HEAD
<<<<<<< HEAD
<<<<<<< HEAD
   "id": "5d2265e0",
||||||| merged common ancestors
   "id": "583f60e5",
=======
   "id": "c665563a",
>>>>>>> documentation-devel
||||||| f5a2d7c
   "id": "c665563a",
=======
   "id": "4dd43811",
>>>>>>> documentation-devel
||||||| de7e30d
   "id": "5d2265e0",
=======
   "id": "c15c1657",
>>>>>>> 03b044928c05aca10f627eea0665560c78e150c1
||||||| 1f675c8
   "id": "4dd43811",
=======
   "id": "55675b41",
>>>>>>> documentation-devel
   "metadata": {},
   "outputs": [],
   "source": [
    "plotVariogram(sfe, hvgs[1:4], name = \"variogram\")"
   ]
  },
  {
   "cell_type": "markdown",
<<<<<<< HEAD
<<<<<<< HEAD
<<<<<<< HEAD
<<<<<<< HEAD
   "id": "807a1f91",
||||||| merged common ancestors
   "id": "00640dee",
=======
   "id": "164ace5f",
>>>>>>> documentation-devel
||||||| f5a2d7c
   "id": "164ace5f",
=======
   "id": "3648476b",
>>>>>>> documentation-devel
||||||| de7e30d
   "id": "807a1f91",
=======
   "id": "157a121f",
>>>>>>> 03b044928c05aca10f627eea0665560c78e150c1
||||||| 1f675c8
   "id": "3648476b",
=======
   "id": "ba5b354a",
>>>>>>> documentation-devel
   "metadata": {},
   "source": [
    "The data is binned by distance between spots and the variance is computed for each bin. While `gstat`'s plotting functions say \"semivariance\", because the data is scaled so the variance is 1, I do think the variance rather than semivariance is plotted. The numbers by the points in the plot indicate the number of pairs of spots in each bin. \"Ste\" means the Matern model with M. Stein's parameterization was fitted to the points. \n",
    "\n",
    "Nugget is the variance at distance 0, or variance within the first distance bin. The data is scaled by default prior to variogram computation to make the variograms for multiple genes comparable. \n",
    "\n",
    "Spatial autocorrelation makes the variance smaller at shorter distances. When the variogram levels off, it means that spatial autocorrelation no longer has an effect at this distance. Sill is the variance where the variogram levels off. Range is the distance where the variogram levels off. \n",
    "\n",
    "In the first 4 genes, IGHG3 and IGKC seem to have stronger spatial autocorrelation that dissipate in 100 to 200 units (whether it's microns or pixels is unclear from the publication), whereas spatial autocorrelation of B2M and MT-RNR1 is much weaker and has longer length scale. \n",
    "\n",
    "Here the genes are plotted in space:"
   ]
  },
  {
   "cell_type": "code",
   "execution_count": null,
<<<<<<< HEAD
<<<<<<< HEAD
<<<<<<< HEAD
<<<<<<< HEAD
   "id": "c583e924",
||||||| merged common ancestors
   "id": "d5896bc8",
=======
   "id": "3d103213",
>>>>>>> documentation-devel
||||||| f5a2d7c
   "id": "3d103213",
=======
   "id": "6b37a700",
>>>>>>> documentation-devel
||||||| de7e30d
   "id": "c583e924",
=======
   "id": "81e69d0a",
>>>>>>> 03b044928c05aca10f627eea0665560c78e150c1
||||||| 1f675c8
   "id": "6b37a700",
=======
   "id": "fb9aebd5",
>>>>>>> documentation-devel
   "metadata": {
    "fig.height": 6,
    "fig.width": 9
   },
   "outputs": [],
   "source": [
    "plotSpatialFeature(sfe, hvgs[1:4], size = 0.3) & \n",
    "    theme_bw() # To show the length units"
   ]
  },
  {
   "cell_type": "markdown",
<<<<<<< HEAD
<<<<<<< HEAD
<<<<<<< HEAD
<<<<<<< HEAD
   "id": "ae3c539c",
||||||| merged common ancestors
   "id": "3f233fa2",
=======
   "id": "3f6157c5",
>>>>>>> documentation-devel
||||||| f5a2d7c
   "id": "3f6157c5",
=======
   "id": "11df4472",
>>>>>>> documentation-devel
||||||| de7e30d
   "id": "ae3c539c",
=======
   "id": "8f2e2e10",
>>>>>>> 03b044928c05aca10f627eea0665560c78e150c1
||||||| 1f675c8
   "id": "11df4472",
=======
   "id": "ef841d38",
>>>>>>> documentation-devel
   "metadata": {
    "lines_to_next_cell": 0
   },
   "source": [
    "The length scales of spatial autocorrelation for these genes are quite obvious from just plotting the genes. Then what's the point of plotting variograms for ESDA? We can also compute variograms for a larger number of genes and cluster the variograms for patterns in spatial autocorrelation length scales, or compare variograms of the same genes across different samples. Here we cluster the variograms for top highly variable genes (HVGs):\n",
    "\n",
    "The `BLUSPARAM` argument is used to specify methods of clustering, as implemented in the `bluster` package. Here we use hierarchical clustering."
   ]
  },
  {
   "cell_type": "code",
   "execution_count": null,
<<<<<<< HEAD
<<<<<<< HEAD
<<<<<<< HEAD
<<<<<<< HEAD
   "id": "22df2d22",
||||||| merged common ancestors
   "id": "f9d6bbba",
=======
   "id": "29dd0788",
>>>>>>> documentation-devel
||||||| f5a2d7c
   "id": "29dd0788",
=======
   "id": "fc813248",
>>>>>>> documentation-devel
||||||| de7e30d
   "id": "22df2d22",
=======
   "id": "b0f5f086",
>>>>>>> 03b044928c05aca10f627eea0665560c78e150c1
||||||| 1f675c8
   "id": "fc813248",
=======
   "id": "2dc104c0",
>>>>>>> documentation-devel
   "metadata": {},
   "outputs": [],
   "source": [
    "clusts <- clusterVariograms(sfe, hvgs, BLUSPARAM = HclustParam())"
   ]
  },
  {
   "cell_type": "markdown",
<<<<<<< HEAD
<<<<<<< HEAD
<<<<<<< HEAD
<<<<<<< HEAD
   "id": "43b251f0",
||||||| merged common ancestors
   "id": "7dae3aa7",
=======
   "id": "6a89c15d",
>>>>>>> documentation-devel
||||||| f5a2d7c
   "id": "6a89c15d",
=======
   "id": "ea067d85",
>>>>>>> documentation-devel
||||||| de7e30d
   "id": "43b251f0",
=======
   "id": "172f3718",
>>>>>>> 03b044928c05aca10f627eea0665560c78e150c1
||||||| 1f675c8
   "id": "ea067d85",
=======
   "id": "7932d1ac",
>>>>>>> documentation-devel
   "metadata": {
    "lines_to_next_cell": 0
   },
   "source": [
    "Then plot the clusters:"
   ]
  },
  {
   "cell_type": "code",
   "execution_count": null,
<<<<<<< HEAD
<<<<<<< HEAD
<<<<<<< HEAD
<<<<<<< HEAD
   "id": "ea975a07",
||||||| merged common ancestors
   "id": "bb92bcac",
=======
   "id": "fbbc9b2b",
>>>>>>> documentation-devel
||||||| f5a2d7c
   "id": "fbbc9b2b",
=======
   "id": "bd29ece8",
>>>>>>> documentation-devel
||||||| de7e30d
   "id": "ea975a07",
=======
   "id": "ac5b53bd",
>>>>>>> 03b044928c05aca10f627eea0665560c78e150c1
||||||| 1f675c8
   "id": "bd29ece8",
=======
   "id": "2358552a",
>>>>>>> documentation-devel
   "metadata": {},
   "outputs": [],
   "source": [
    "plotVariogram(sfe, hvgs, color_by = clusts, group = \"feature\", use_lty = FALSE,\n",
    "              show_np = FALSE)"
   ]
  },
  {
   "cell_type": "markdown",
<<<<<<< HEAD
<<<<<<< HEAD
<<<<<<< HEAD
<<<<<<< HEAD
   "id": "5f6e2d0c",
||||||| merged common ancestors
   "id": "b60656a5",
=======
   "id": "7cdcacea",
>>>>>>> documentation-devel
||||||| f5a2d7c
   "id": "7cdcacea",
=======
   "id": "78280909",
>>>>>>> documentation-devel
||||||| de7e30d
   "id": "5f6e2d0c",
=======
   "id": "de69afd4",
>>>>>>> 03b044928c05aca10f627eea0665560c78e150c1
||||||| 1f675c8
   "id": "78280909",
=======
   "id": "f4fa634d",
>>>>>>> documentation-devel
   "metadata": {
    "lines_to_next_cell": 0
   },
   "source": [
    "It seems that there are many genes, like MT-RNR1, with weak spatial autocorrelation over longer length scales, genes with stronger and shorter range spatial autocorrelation (around 150 to 200 units) like IGKC, and genes with somewhat longer length scale of spatial autocorrelation (around 400 units).\n",
    "\n",
    "Plot one gene from each cluster in space:"
   ]
  },
  {
   "cell_type": "code",
   "execution_count": null,
<<<<<<< HEAD
<<<<<<< HEAD
<<<<<<< HEAD
<<<<<<< HEAD
   "id": "24ca558c",
||||||| merged common ancestors
   "id": "76265fc9",
=======
   "id": "2f56026b",
>>>>>>> documentation-devel
||||||| f5a2d7c
   "id": "2f56026b",
=======
   "id": "c0a1299f",
>>>>>>> documentation-devel
||||||| de7e30d
   "id": "24ca558c",
=======
   "id": "7a78adf6",
>>>>>>> 03b044928c05aca10f627eea0665560c78e150c1
||||||| 1f675c8
   "id": "c0a1299f",
=======
   "id": "25a72f6f",
>>>>>>> documentation-devel
   "metadata": {},
   "outputs": [],
   "source": [
    "genes_clusts <- clusts |> \n",
    "    group_by(cluster) |> \n",
    "    slice_head(n = 1) |> \n",
    "    pull(feature)"
   ]
  },
  {
   "cell_type": "code",
   "execution_count": null,
<<<<<<< HEAD
<<<<<<< HEAD
<<<<<<< HEAD
<<<<<<< HEAD
   "id": "4008e05d",
||||||| merged common ancestors
   "id": "9297deff",
=======
   "id": "1524f3da",
>>>>>>> documentation-devel
||||||| f5a2d7c
   "id": "1524f3da",
=======
   "id": "40c3b922",
>>>>>>> documentation-devel
||||||| de7e30d
   "id": "4008e05d",
=======
   "id": "bf361d83",
>>>>>>> 03b044928c05aca10f627eea0665560c78e150c1
||||||| 1f675c8
   "id": "40c3b922",
=======
   "id": "90302d4b",
>>>>>>> documentation-devel
   "metadata": {
    "fig.height": 6,
    "fig.width": 10
   },
   "outputs": [],
   "source": [
    "plotSpatialFeature(sfe, genes_clusts, size = 0.3)"
   ]
  },
  {
   "cell_type": "markdown",
<<<<<<< HEAD
<<<<<<< HEAD
<<<<<<< HEAD
<<<<<<< HEAD
   "id": "77d8ceab",
||||||| merged common ancestors
   "id": "a6a722e1",
=======
   "id": "cfffbafb",
>>>>>>> documentation-devel
||||||| f5a2d7c
   "id": "cfffbafb",
=======
   "id": "b17af075",
>>>>>>> documentation-devel
||||||| de7e30d
   "id": "77d8ceab",
=======
   "id": "ab8829b4",
>>>>>>> 03b044928c05aca10f627eea0665560c78e150c1
||||||| 1f675c8
   "id": "b17af075",
=======
   "id": "0a03d1b1",
>>>>>>> documentation-devel
   "metadata": {},
   "source": [
    "MT-RNR1 is more widely expressed. IGKC and ICHC3 are restricted to smaller areas, and IGHM is restricted to even smaller areas. Note that genes with variograms in the same cluster don't have to be co-expressed; they only need to have similar length scales and strengths of spatial autocorrelation.\n",
    "\n",
    "# Anisotropy\n",
    "Anisotropy means different in different directions. An example is the cerebral cortex, which has a layered structure. The variogram can be computed in different directions.\n",
    "\n",
    "## Anisotropic variogram\n",
    "The directions on which to compute variograms can be explicitly specified, in the `alpha` argument. However, since `gstat` does not fit anisotropic variograms, the model is fitted to all directions and the empirical variograms at each angle are plotted separately. Here we compute anisotropic variograms for the 4 genes above:"
   ]
  },
  {
   "cell_type": "code",
   "execution_count": null,
<<<<<<< HEAD
<<<<<<< HEAD
<<<<<<< HEAD
<<<<<<< HEAD
   "id": "872f2b54",
||||||| merged common ancestors
   "id": "fa079d1c",
=======
   "id": "5009c72d",
>>>>>>> documentation-devel
||||||| f5a2d7c
   "id": "5009c72d",
=======
   "id": "838d1d81",
>>>>>>> documentation-devel
||||||| de7e30d
   "id": "872f2b54",
=======
   "id": "8d799c4d",
>>>>>>> 03b044928c05aca10f627eea0665560c78e150c1
||||||| 1f675c8
   "id": "838d1d81",
=======
   "id": "2c16bd1c",
>>>>>>> documentation-devel
   "metadata": {},
   "outputs": [],
   "source": [
    "sfe <- runUnivariate(sfe, \"variogram\", genes_clusts, alpha = c(0, 45, 90, 135),\n",
    "                     # To not to overwrite omnidirectional variogram results\n",
    "                     name = \"variogram_anis\", model = \"Ste\", \n",
    "                     BPPARAM = SnowParam(2))"
   ]
  },
  {
   "cell_type": "code",
   "execution_count": null,
<<<<<<< HEAD
<<<<<<< HEAD
<<<<<<< HEAD
<<<<<<< HEAD
   "id": "57b419d0",
||||||| merged common ancestors
   "id": "6ec8a8c2",
=======
   "id": "4d49fa5e",
>>>>>>> documentation-devel
||||||| f5a2d7c
   "id": "4d49fa5e",
=======
   "id": "f5f871c4",
>>>>>>> documentation-devel
||||||| de7e30d
   "id": "57b419d0",
=======
   "id": "b697eb54",
>>>>>>> 03b044928c05aca10f627eea0665560c78e150c1
||||||| 1f675c8
   "id": "f5f871c4",
=======
   "id": "6d05cd7c",
>>>>>>> documentation-devel
   "metadata": {},
   "outputs": [],
   "source": [
    "plotVariogram(sfe, genes_clusts, group = \"angle\", name = \"variogram_anis\",\n",
    "              show_np = FALSE)"
   ]
  },
  {
   "cell_type": "markdown",
<<<<<<< HEAD
<<<<<<< HEAD
<<<<<<< HEAD
<<<<<<< HEAD
   "id": "63bc11fb",
||||||| merged common ancestors
   "id": "8511c4e5",
=======
   "id": "0897ca84",
>>>>>>> documentation-devel
||||||| f5a2d7c
   "id": "0897ca84",
=======
   "id": "1ef40359",
>>>>>>> documentation-devel
||||||| de7e30d
   "id": "63bc11fb",
=======
   "id": "923df61d",
>>>>>>> 03b044928c05aca10f627eea0665560c78e150c1
||||||| 1f675c8
   "id": "1ef40359",
=======
   "id": "e8e21a02",
>>>>>>> documentation-devel
   "metadata": {},
   "source": [
    "Here the line is the variogram model fitted to all directions and the text describes this model. The points show the angles in different colors. Zero degree points north (up), and the angles go clockwise.\n",
    "\n",
    "## Variogram map\n",
    "\n",
    "The variogram map is another way to visualize spatial autocorrelation in different directions. It bins distances in x and distances in y, so we have a grid of distances where the variance is computed. Just like the variograms above, the origin usually has a low value, because spatial autocorrelation reduces the variance in a short distance, and the values increase with increasing distance from the origin, but it can increase more quickly in some directions than others. Here to compute variogram maps for the 4 genes above:"
   ]
  },
  {
   "cell_type": "code",
   "execution_count": null,
<<<<<<< HEAD
<<<<<<< HEAD
<<<<<<< HEAD
<<<<<<< HEAD
   "id": "a45c123a",
||||||| merged common ancestors
   "id": "b4d5430d",
=======
   "id": "837d8e25",
>>>>>>> documentation-devel
||||||| f5a2d7c
   "id": "837d8e25",
=======
   "id": "50ad458d",
>>>>>>> documentation-devel
||||||| de7e30d
   "id": "a45c123a",
=======
   "id": "fd48f3db",
>>>>>>> 03b044928c05aca10f627eea0665560c78e150c1
||||||| 1f675c8
   "id": "50ad458d",
=======
   "id": "f23154ad",
>>>>>>> documentation-devel
   "metadata": {},
   "outputs": [],
   "source": [
    "sfe <- runUnivariate(sfe, \"variogram_map\", genes_clusts, width = 100, \n",
    "                     cutoff = 800, BPPARAM = SnowParam(2), name = \"variogram_map2\")"
   ]
  },
  {
   "cell_type": "markdown",
<<<<<<< HEAD
<<<<<<< HEAD
<<<<<<< HEAD
<<<<<<< HEAD
   "id": "7cca84fc",
||||||| merged common ancestors
   "id": "53491d62",
=======
   "id": "830e7c49",
>>>>>>> documentation-devel
||||||| f5a2d7c
   "id": "830e7c49",
=======
   "id": "26d3ba2f",
>>>>>>> documentation-devel
||||||| de7e30d
   "id": "7cca84fc",
=======
   "id": "fb6d9408",
>>>>>>> 03b044928c05aca10f627eea0665560c78e150c1
||||||| 1f675c8
   "id": "26d3ba2f",
=======
   "id": "ff6f1bc3",
>>>>>>> documentation-devel
   "metadata": {},
   "source": [
    "The `width` argument is the width of the bins, and `cutoff` is the maximum distance."
   ]
  },
  {
   "cell_type": "code",
   "execution_count": null,
<<<<<<< HEAD
<<<<<<< HEAD
<<<<<<< HEAD
<<<<<<< HEAD
   "id": "f982746c",
||||||| merged common ancestors
   "id": "cebd2ead",
=======
   "id": "bdd05ba3",
>>>>>>> documentation-devel
||||||| f5a2d7c
   "id": "bdd05ba3",
=======
   "id": "aa523f8f",
>>>>>>> documentation-devel
||||||| de7e30d
   "id": "f982746c",
=======
   "id": "c37026c8",
>>>>>>> 03b044928c05aca10f627eea0665560c78e150c1
||||||| 1f675c8
   "id": "aa523f8f",
=======
   "id": "69dffc35",
>>>>>>> documentation-devel
   "metadata": {},
   "outputs": [],
   "source": [
    "plotVariogramMap(sfe, genes_clusts, name = \"variogram_map2\")"
   ]
  },
  {
   "cell_type": "markdown",
<<<<<<< HEAD
<<<<<<< HEAD
<<<<<<< HEAD
<<<<<<< HEAD
   "id": "33ff62d6",
||||||| merged common ancestors
   "id": "0d1d8350",
=======
   "id": "c7848fb1",
>>>>>>> documentation-devel
||||||| f5a2d7c
   "id": "c7848fb1",
=======
   "id": "41e6b4d6",
>>>>>>> documentation-devel
||||||| de7e30d
   "id": "33ff62d6",
=======
   "id": "53881fe8",
>>>>>>> 03b044928c05aca10f627eea0665560c78e150c1
||||||| 1f675c8
   "id": "41e6b4d6",
=======
   "id": "64f21010",
>>>>>>> documentation-devel
   "metadata": {},
   "source": [
    "# Cross variogram\n",
    "The cross variogram is used in cokriging, which uses multiple variables in the spatial interpolation model. The cross variogram is defined as\n",
    "\n",
    "$$\n",
    "\\gamma(t) = \\frac 1 2 \\mathrm{Cov}(X_t - X_0, Y_t - Y_0),\n",
    "$$\n",
    "\n",
    "where $Y$ is another variable. The cross variogram also has nugget, sill, and range. It shows how the covariance between two variables changes with distance. `Voyager` supports multiple bivariate spatial methods, and the cross variogram is one of them. Just like for univariate spatial methods, `Voyager` provides a uniform user interface for bivariate methods. However, bivariate local methods can't be stored in the SFE object at present because they tend to have very different formats in outputs (e.g. a correlation matrix for Lee's L and a list for most other methods) some of which may not be straightforward to store in the SFE object."
   ]
  },
  {
   "cell_type": "code",
   "execution_count": null,
<<<<<<< HEAD
<<<<<<< HEAD
<<<<<<< HEAD
<<<<<<< HEAD
   "id": "f18be075",
||||||| merged common ancestors
   "id": "46aa4cc0",
=======
   "id": "a247dd2c",
>>>>>>> documentation-devel
||||||| f5a2d7c
   "id": "a247dd2c",
=======
   "id": "238c1be6",
>>>>>>> documentation-devel
||||||| de7e30d
   "id": "f18be075",
=======
   "id": "386a66b8",
>>>>>>> 03b044928c05aca10f627eea0665560c78e150c1
||||||| 1f675c8
   "id": "238c1be6",
=======
   "id": "0fdf6bfa",
>>>>>>> documentation-devel
   "metadata": {},
   "outputs": [],
   "source": [
    "cross_v <- calculateBivariate(sfe, \"cross_variogram\", \n",
    "                              feature1 = \"IGKC\", feature2 = \"IGHG3\")"
   ]
  },
  {
   "cell_type": "code",
   "execution_count": null,
<<<<<<< HEAD
<<<<<<< HEAD
<<<<<<< HEAD
<<<<<<< HEAD
   "id": "8193d7a4",
||||||| merged common ancestors
   "id": "1da81253",
=======
   "id": "0c109ac7",
>>>>>>> documentation-devel
||||||| f5a2d7c
   "id": "0c109ac7",
=======
   "id": "a0ee6e89",
>>>>>>> documentation-devel
||||||| de7e30d
   "id": "8193d7a4",
=======
   "id": "60d95812",
>>>>>>> 03b044928c05aca10f627eea0665560c78e150c1
||||||| 1f675c8
   "id": "a0ee6e89",
=======
   "id": "108634aa",
>>>>>>> documentation-devel
   "metadata": {},
   "outputs": [],
   "source": [
    "plotCrossVariogram(cross_v, show_np = FALSE)"
   ]
  },
  {
   "cell_type": "markdown",
<<<<<<< HEAD
<<<<<<< HEAD
<<<<<<< HEAD
<<<<<<< HEAD
   "id": "b3517858",
||||||| merged common ancestors
   "id": "61a4d8c6",
=======
   "id": "706f0d38",
>>>>>>> documentation-devel
||||||| f5a2d7c
   "id": "706f0d38",
=======
   "id": "81b26eae",
>>>>>>> documentation-devel
||||||| de7e30d
   "id": "b3517858",
=======
   "id": "ed9e8be6",
>>>>>>> 03b044928c05aca10f627eea0665560c78e150c1
||||||| 1f675c8
   "id": "81b26eae",
=======
   "id": "0f8ae645",
>>>>>>> documentation-devel
   "metadata": {
    "lines_to_next_cell": 0
   },
   "source": [
    "The facets are shown in a matrix, whose diagonal is the variogram for each gene, and off diagonal entries are cross variograms. Here for IGKC and IGHG3, the length scale of the covariance is similar to that of spatial autocorrelation. \n",
    "\n",
    "There is also a cross variogram map to show the cross variogram in different directions:"
   ]
  },
  {
   "cell_type": "code",
   "execution_count": null,
<<<<<<< HEAD
<<<<<<< HEAD
<<<<<<< HEAD
<<<<<<< HEAD
   "id": "62a24c01",
||||||| merged common ancestors
   "id": "7145b31c",
=======
   "id": "142c0d16",
>>>>>>> documentation-devel
||||||| f5a2d7c
   "id": "142c0d16",
=======
   "id": "a74f6829",
>>>>>>> documentation-devel
||||||| de7e30d
   "id": "62a24c01",
=======
   "id": "c35b3600",
>>>>>>> 03b044928c05aca10f627eea0665560c78e150c1
||||||| 1f675c8
   "id": "a74f6829",
=======
   "id": "9f4f7bf8",
>>>>>>> documentation-devel
   "metadata": {},
   "outputs": [],
   "source": [
    "cross_v_map <- calculateBivariate(sfe, \"cross_variogram_map\",\n",
    "                                  feature1 = \"IGKC\", feature2 = \"IGHG3\",\n",
    "                                  width = 100, cutoff = 800)"
   ]
  },
  {
   "cell_type": "code",
   "execution_count": null,
<<<<<<< HEAD
<<<<<<< HEAD
<<<<<<< HEAD
<<<<<<< HEAD
   "id": "aecee0a4",
||||||| merged common ancestors
   "id": "1023cb1f",
=======
   "id": "7d143a5b",
>>>>>>> documentation-devel
||||||| f5a2d7c
   "id": "7d143a5b",
=======
   "id": "7d158c81",
>>>>>>> documentation-devel
||||||| de7e30d
   "id": "aecee0a4",
=======
   "id": "c354e16e",
>>>>>>> 03b044928c05aca10f627eea0665560c78e150c1
||||||| 1f675c8
   "id": "7d158c81",
=======
   "id": "de46651a",
>>>>>>> documentation-devel
   "metadata": {},
   "outputs": [],
   "source": [
    "plotCrossVariogramMap(cross_v_map)"
   ]
  },
  {
   "cell_type": "markdown",
<<<<<<< HEAD
<<<<<<< HEAD
<<<<<<< HEAD
<<<<<<< HEAD
   "id": "f4b9068b",
||||||| merged common ancestors
   "id": "7bbaf642",
=======
   "id": "1b0ddab2",
>>>>>>> documentation-devel
||||||| f5a2d7c
   "id": "1b0ddab2",
=======
   "id": "26cfffc3",
>>>>>>> documentation-devel
||||||| de7e30d
   "id": "f4b9068b",
=======
   "id": "6353bd14",
>>>>>>> 03b044928c05aca10f627eea0665560c78e150c1
||||||| 1f675c8
   "id": "26cfffc3",
=======
   "id": "9f4f129b",
>>>>>>> documentation-devel
   "metadata": {
    "lines_to_next_cell": 0
   },
   "source": [
    "# Session Info"
   ]
  },
  {
   "cell_type": "code",
   "execution_count": null,
<<<<<<< HEAD
<<<<<<< HEAD
<<<<<<< HEAD
<<<<<<< HEAD
   "id": "26d3983f",
||||||| merged common ancestors
   "id": "6f7b6633",
=======
   "id": "1c8ce561",
>>>>>>> documentation-devel
||||||| f5a2d7c
   "id": "1c8ce561",
=======
   "id": "041a71aa",
>>>>>>> documentation-devel
||||||| de7e30d
   "id": "26d3983f",
=======
   "id": "12a6e0be",
>>>>>>> 03b044928c05aca10f627eea0665560c78e150c1
||||||| 1f675c8
   "id": "041a71aa",
=======
   "id": "89f86de7",
>>>>>>> documentation-devel
   "metadata": {
    "lines_to_next_cell": 2
   },
   "outputs": [],
   "source": [
    "sessionInfo()"
   ]
  },
  {
   "cell_type": "markdown",
<<<<<<< HEAD
<<<<<<< HEAD
<<<<<<< HEAD
<<<<<<< HEAD
   "id": "4ad0295e",
||||||| merged common ancestors
   "id": "23d367f2",
=======
   "id": "d812ce77",
>>>>>>> documentation-devel
||||||| f5a2d7c
   "id": "d812ce77",
=======
   "id": "2a9aa407",
>>>>>>> documentation-devel
||||||| de7e30d
   "id": "4ad0295e",
=======
   "id": "c740e9ee",
>>>>>>> 03b044928c05aca10f627eea0665560c78e150c1
||||||| 1f675c8
   "id": "2a9aa407",
=======
   "id": "0f1a988b",
>>>>>>> documentation-devel
   "metadata": {},
   "source": [
    "# References"
   ]
  }
 ],
 "metadata": {
  "kernelspec": {
   "display_name": "R",
   "language": "R",
   "name": "ir"
  }
 },
 "nbformat": 4,
 "nbformat_minor": 5
}
