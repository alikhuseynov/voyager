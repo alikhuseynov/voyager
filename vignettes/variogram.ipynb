{
 "cells": [
  {
   "cell_type": "raw",
<<<<<<< HEAD
<<<<<<< HEAD
<<<<<<< HEAD
<<<<<<< HEAD
   "id": "1bb7cfb6",
||||||| 6a30bf1
   "id": "7e30d0c6",
=======
   "id": "c25ff341",
>>>>>>> documentation-devel
||||||| d28b18c
   "id": "c25ff341",
=======
   "id": "dab4c45e",
>>>>>>> documentation-devel
||||||| 6893f63
<<<<<<< HEAD
   "id": "1bb7cfb6",
||||||| 6a30bf1
   "id": "7e30d0c6",
=======
   "id": "c25ff341",
>>>>>>> documentation-devel
=======
   "id": "abf02c36",
>>>>>>> c74c98c2450c2a1ba922ed9442f136238d6bc88b
||||||| 6d93b645
   "id": "dab4c45e",
=======
   "id": "63fd32c5",
>>>>>>> documentation-devel
   "metadata": {},
   "source": [
    "---\n",
    "title: \"Variogram\"\n",
    "author: \"Lambda Moses\"\n",
    "date: \"`r Sys.Date()`\"\n",
    "output: \n",
    "  html_document:\n",
    "  toc: true\n",
    "  toc_float:\n",
    "    collapsed: false\n",
    "  toc_depth: 3\n",
    "bibliography: ref.bib\n",
    "vignette: >\n",
    "  %\\VignetteIndexEntry{variogram}\n",
    "  %\\VignetteEngine{knitr::rmarkdown}\n",
    "  %\\VignetteEncoding{UTF-8}\n",
    "---"
   ]
  },
  {
   "cell_type": "code",
   "execution_count": null,
<<<<<<< HEAD
<<<<<<< HEAD
<<<<<<< HEAD
<<<<<<< HEAD
   "id": "464d9be2",
||||||| 6a30bf1
   "id": "c3670203",
=======
   "id": "f4cd65df",
>>>>>>> documentation-devel
||||||| d28b18c
   "id": "f4cd65df",
=======
   "id": "8d0b898e",
>>>>>>> documentation-devel
||||||| 6893f63
<<<<<<< HEAD
   "id": "464d9be2",
||||||| 6a30bf1
   "id": "c3670203",
=======
   "id": "f4cd65df",
>>>>>>> documentation-devel
=======
   "id": "e7fd4724",
>>>>>>> c74c98c2450c2a1ba922ed9442f136238d6bc88b
||||||| 6d93b645
   "id": "8d0b898e",
=======
   "id": "a7af895f",
>>>>>>> documentation-devel
   "metadata": {
    "tags": [
     "remove_cell"
    ]
   },
   "outputs": [],
   "source": [
    "knitr::opts_chunk$set(\n",
    "  collapse = TRUE,\n",
    "  comment = \"#>\"\n",
    ")"
   ]
  },
  {
   "cell_type": "code",
   "execution_count": null,
<<<<<<< HEAD
<<<<<<< HEAD
<<<<<<< HEAD
<<<<<<< HEAD
   "id": "67ad2650",
||||||| 6a30bf1
   "id": "93c71659",
=======
   "id": "519bcfc6",
>>>>>>> documentation-devel
||||||| d28b18c
   "id": "519bcfc6",
=======
   "id": "d5d6c34a",
>>>>>>> documentation-devel
||||||| 6893f63
<<<<<<< HEAD
   "id": "67ad2650",
||||||| 6a30bf1
   "id": "93c71659",
=======
   "id": "519bcfc6",
>>>>>>> documentation-devel
=======
   "id": "22938a8e",
>>>>>>> c74c98c2450c2a1ba922ed9442f136238d6bc88b
||||||| 6d93b645
   "id": "d5d6c34a",
=======
   "id": "9fc958ab",
>>>>>>> documentation-devel
   "metadata": {
    "eval": false,
    "tags": [
     "remove_cell"
    ]
   },
   "outputs": [],
   "source": [
    "# Install Google Colab dependencies\n",
    "# Note: this can take 30+ minutes (many of the dependencies include C++ code, which needs to be compiled)\n",
    "\n",
    "# First install `sf`, `ragg` and `textshaping` and their system dependencies:\n",
    "system(\"apt-get -y update && apt-get install -y  libudunits2-dev libgdal-dev libgeos-dev libproj-dev libharfbuzz-dev libfribidi-dev\")\n",
    "install.packages(\"sf\")\n",
    "install.packages(\"textshaping\")\n",
    "install.packages(\"ragg\")\n",
    "\n",
    "# Install system dependencies of some other R packages that Voyager either imports or suggests:\n",
    "system(\"apt-get install -y libfribidi-dev libcairo2-dev libmagick++-dev\")\n",
    "\n",
    "# Install Voyager from Bioconductor:\n",
    "install.packages(\"BiocManager\")\n",
    "BiocManager::install(version = \"3.17\", ask = FALSE, update = FALSE, Ncpus = 2)\n",
    "BiocManager::install(\"scater\")\n",
    "system.time(\n",
    "  BiocManager::install(\"Voyager\", dependencies = TRUE, Ncpus = 2, update = FALSE)\n",
    ")\n",
    "\n",
    "# Other packages used in this vignette\n",
    "packageVersion(\"Voyager\")"
   ]
  },
  {
   "cell_type": "markdown",
<<<<<<< HEAD
<<<<<<< HEAD
<<<<<<< HEAD
<<<<<<< HEAD
   "id": "cdc87d57",
||||||| 6a30bf1
   "id": "831705fa",
=======
   "id": "8282bf03",
>>>>>>> documentation-devel
||||||| d28b18c
   "id": "8282bf03",
=======
   "id": "790d7f89",
>>>>>>> documentation-devel
||||||| 6893f63
<<<<<<< HEAD
   "id": "cdc87d57",
||||||| 6a30bf1
   "id": "831705fa",
=======
   "id": "8282bf03",
>>>>>>> documentation-devel
=======
   "id": "2713fc51",
>>>>>>> c74c98c2450c2a1ba922ed9442f136238d6bc88b
||||||| 6d93b645
   "id": "790d7f89",
=======
   "id": "7f6937ca",
>>>>>>> documentation-devel
   "metadata": {
    "lines_to_next_cell": 0
   },
   "source": [
    "# Introduction\n",
    "In geostatistical data, an underlying spatial process is sampled at known locations. Kriging uses a Gaussian process model to interpolate the values between the sample locations, and the semivariogram is used to model the spatial dependency between the locations as the covariance of the Gaussian process. When not kriging, the semivariogram can be used as an exploratory data analysis tool to find the length scale and anisotropy of spatial autocorrelation. The semivariogram is defined as\n",
    "\n",
    "$$\n",
    "\\gamma(t) = \\frac 1 2 \\mathrm{Var}(X_t - X_0),\n",
    "$$\n",
    "\n",
    "where $X$ is the value such as gene expression, and $t$ is a spatial vector. $X_0$ is the value at a location of interest, and $X_t$ is the value lagged by $t$. With positive spatial autocorrelation, the variance would be smaller among nearby values, so the variogram would increase with distance, eventually leveling off when the distance is beyond the length scale of spatial autocorrelation. The \"semi\" comes from the 1/2, which comes from the assumption that the Gaussian process is weakly stationary, i.e. the covariance between two locations only depends on the spatial lag between them:\n",
    "\n",
    "$$\\begin{align}\n",
    "\\mathrm{Var}(X_{t_2} - X_{t_1}) &= \\mathrm{Var}(X_{t_2}) + \\mathrm{Var}(X_{t_1}) - 2\\mathrm{Cov}(X_{t_2}, X_{t_1}) \\\\\n",
    "&= 2\\rho(0) - 2\\rho(t_2 - t_1),\n",
    "\\end{align}$$\n",
    "\n",
    "where $\\rho$ is a covariance function and $t_1$ and $t_2$ are spatial locations. A model can be fitted to the empirical semivariogram, to model this $\\rho$. That the variance of differences between the value across locations only depends on the spatial lag means intrinsically stationary, which is even weaker and more generalizable than weakly stationary. The weaker assumption is used in kriging.\n",
    "\n",
    "This vignette demonstrates the variogram as an ESDA tool, including interpretation of the univariate variogram, anisotropic variograms (variograms in different directions), variogram maps, and bivariate cross variograms.\n",
    "\n",
    "Here we load the packages:"
   ]
  },
  {
   "cell_type": "code",
   "execution_count": null,
<<<<<<< HEAD
<<<<<<< HEAD
<<<<<<< HEAD
<<<<<<< HEAD
   "id": "0da67bf6",
||||||| 6a30bf1
   "id": "3e0e9788",
=======
   "id": "c21dcaef",
>>>>>>> documentation-devel
||||||| d28b18c
   "id": "c21dcaef",
=======
   "id": "26503c5b",
>>>>>>> documentation-devel
||||||| 6893f63
<<<<<<< HEAD
   "id": "0da67bf6",
||||||| 6a30bf1
   "id": "3e0e9788",
=======
   "id": "c21dcaef",
>>>>>>> documentation-devel
=======
   "id": "a2aadc24",
>>>>>>> c74c98c2450c2a1ba922ed9442f136238d6bc88b
||||||| 6d93b645
   "id": "26503c5b",
=======
   "id": "fee6431a",
>>>>>>> documentation-devel
   "metadata": {
    "message": false
   },
   "outputs": [],
   "source": [
    "library(Voyager)\n",
    "library(SFEData)\n",
    "library(SpatialFeatureExperiment)\n",
    "library(scater)\n",
    "library(scran)\n",
    "library(ggplot2)\n",
    "library(BiocParallel)\n",
    "library(bluster)\n",
    "library(dplyr)\n",
    "theme_set(theme_bw())"
   ]
  },
  {
   "cell_type": "markdown",
<<<<<<< HEAD
<<<<<<< HEAD
<<<<<<< HEAD
<<<<<<< HEAD
   "id": "1f99613a",
||||||| 6a30bf1
   "id": "d870cf56",
=======
   "id": "93999da6",
>>>>>>> documentation-devel
||||||| d28b18c
   "id": "93999da6",
=======
   "id": "57b9e15c",
>>>>>>> documentation-devel
||||||| 6893f63
<<<<<<< HEAD
   "id": "1f99613a",
||||||| 6a30bf1
   "id": "d870cf56",
=======
   "id": "93999da6",
>>>>>>> documentation-devel
=======
   "id": "c757a627",
>>>>>>> c74c98c2450c2a1ba922ed9442f136238d6bc88b
||||||| 6d93b645
   "id": "57b9e15c",
=======
   "id": "61dc7890",
>>>>>>> documentation-devel
   "metadata": {
    "lines_to_next_cell": 0
   },
   "source": [
    "The Slide-seq melanoma metastasis data [@Biermann2022-cu] is used for demonstration. QC is performed in [another vignette](https://pachterlab.github.io/voyager/articles/vig3_slideseq_v2.html)."
   ]
  },
  {
   "cell_type": "code",
   "execution_count": null,
<<<<<<< HEAD
<<<<<<< HEAD
<<<<<<< HEAD
<<<<<<< HEAD
   "id": "28fd0bf1",
||||||| 6a30bf1
   "id": "1ac91e00",
=======
   "id": "f195ce65",
>>>>>>> documentation-devel
||||||| d28b18c
   "id": "f195ce65",
=======
   "id": "87692f46",
>>>>>>> documentation-devel
||||||| 6893f63
<<<<<<< HEAD
   "id": "28fd0bf1",
||||||| 6a30bf1
   "id": "1ac91e00",
=======
   "id": "f195ce65",
>>>>>>> documentation-devel
=======
   "id": "12f9fa44",
>>>>>>> c74c98c2450c2a1ba922ed9442f136238d6bc88b
||||||| 6d93b645
   "id": "87692f46",
=======
   "id": "a61e11f7",
>>>>>>> documentation-devel
   "metadata": {},
   "outputs": [],
   "source": [
    "(sfe <- BiermannMelaMetasData(dataset = \"MBM05_rep1\"))"
   ]
  },
  {
   "cell_type": "code",
   "execution_count": null,
<<<<<<< HEAD
<<<<<<< HEAD
<<<<<<< HEAD
<<<<<<< HEAD
   "id": "01d64cdd",
||||||| 6a30bf1
   "id": "86f6ed64",
=======
   "id": "f18cfffb",
>>>>>>> documentation-devel
||||||| d28b18c
   "id": "f18cfffb",
=======
   "id": "26baba88",
>>>>>>> documentation-devel
||||||| 6893f63
<<<<<<< HEAD
   "id": "01d64cdd",
||||||| 6a30bf1
   "id": "86f6ed64",
=======
   "id": "f18cfffb",
>>>>>>> documentation-devel
=======
   "id": "13ac7ca7",
>>>>>>> c74c98c2450c2a1ba922ed9442f136238d6bc88b
||||||| 6d93b645
   "id": "26baba88",
=======
   "id": "a0dfd502",
>>>>>>> documentation-devel
   "metadata": {},
   "outputs": [],
   "source": [
    "sfe <- sfe[, colData(sfe)$prop_mito < 0.1]\n",
    "sfe <- sfe[rowSums(counts(sfe)) > 0,]"
   ]
  },
  {
   "cell_type": "code",
   "execution_count": null,
<<<<<<< HEAD
<<<<<<< HEAD
<<<<<<< HEAD
<<<<<<< HEAD
   "id": "edaf6d48",
||||||| 6a30bf1
   "id": "0a35a0a0",
=======
   "id": "229155b3",
>>>>>>> documentation-devel
||||||| d28b18c
   "id": "229155b3",
=======
   "id": "f43114b2",
>>>>>>> documentation-devel
||||||| 6893f63
<<<<<<< HEAD
   "id": "edaf6d48",
||||||| 6a30bf1
   "id": "0a35a0a0",
=======
   "id": "229155b3",
>>>>>>> documentation-devel
=======
   "id": "772520ef",
>>>>>>> c74c98c2450c2a1ba922ed9442f136238d6bc88b
||||||| 6d93b645
   "id": "f43114b2",
=======
   "id": "de3914a6",
>>>>>>> documentation-devel
   "metadata": {},
   "outputs": [],
   "source": [
    "sfe <- logNormCounts(sfe)"
   ]
  },
  {
   "cell_type": "markdown",
<<<<<<< HEAD
<<<<<<< HEAD
<<<<<<< HEAD
<<<<<<< HEAD
   "id": "43adb9d0",
||||||| 6a30bf1
   "id": "b353afd0",
=======
   "id": "5557363c",
>>>>>>> documentation-devel
||||||| d28b18c
   "id": "5557363c",
=======
   "id": "30c5c081",
>>>>>>> documentation-devel
||||||| 6893f63
<<<<<<< HEAD
   "id": "43adb9d0",
||||||| 6a30bf1
   "id": "b353afd0",
=======
   "id": "5557363c",
>>>>>>> documentation-devel
=======
   "id": "7297f2eb",
>>>>>>> c74c98c2450c2a1ba922ed9442f136238d6bc88b
||||||| 6d93b645
   "id": "30c5c081",
=======
   "id": "dd721e04",
>>>>>>> documentation-devel
   "metadata": {
    "lines_to_next_cell": 0
   },
   "source": [
    "Variograms will be demonstrated on some of the top highly variable genes (HVGs)"
   ]
  },
  {
   "cell_type": "code",
   "execution_count": null,
<<<<<<< HEAD
<<<<<<< HEAD
<<<<<<< HEAD
<<<<<<< HEAD
   "id": "cbb49ec3",
||||||| 6a30bf1
   "id": "87a98ad2",
=======
   "id": "c37c6843",
>>>>>>> documentation-devel
||||||| d28b18c
   "id": "c37c6843",
=======
   "id": "74e26056",
>>>>>>> documentation-devel
||||||| 6893f63
<<<<<<< HEAD
   "id": "cbb49ec3",
||||||| 6a30bf1
   "id": "87a98ad2",
=======
   "id": "c37c6843",
>>>>>>> documentation-devel
=======
   "id": "237b9693",
>>>>>>> c74c98c2450c2a1ba922ed9442f136238d6bc88b
||||||| 6d93b645
   "id": "74e26056",
=======
   "id": "1b9ea778",
>>>>>>> documentation-devel
   "metadata": {},
   "outputs": [],
   "source": [
    "dec <- modelGeneVar(sfe)\n",
    "hvgs <- getTopHVGs(dec, n = 50)"
   ]
  },
  {
   "cell_type": "markdown",
<<<<<<< HEAD
<<<<<<< HEAD
<<<<<<< HEAD
<<<<<<< HEAD
   "id": "64807acd",
||||||| 6a30bf1
   "id": "cd0f2cf4",
=======
   "id": "5b22ece1",
>>>>>>> documentation-devel
||||||| d28b18c
   "id": "5b22ece1",
=======
   "id": "2dfb3949",
>>>>>>> documentation-devel
||||||| 6893f63
<<<<<<< HEAD
   "id": "64807acd",
||||||| 6a30bf1
   "id": "cd0f2cf4",
=======
   "id": "5b22ece1",
>>>>>>> documentation-devel
=======
   "id": "1f15e824",
>>>>>>> c74c98c2450c2a1ba922ed9442f136238d6bc88b
||||||| 6d93b645
   "id": "2dfb3949",
=======
   "id": "81ff4115",
>>>>>>> documentation-devel
   "metadata": {},
   "source": [
    "# Variogram\n",
    "The same user interface used to run Moran's I can be used to compute variograms. However, since the variogram uses spatial distances instead of spatial neighborhood graph, the `colGraph` does not need to be specified. Instead, a `colGeometry` can be specified, and if the geometry is not `POINT`, then `spatialCoords(sfe)` will be used to compute the distances. Behind the scene, the [`automap`](https://github.com/cran/automap/tree/master) package is used, which fits a number of different variogram models to the empirical variogram and chooses one that fits the best. The `automap` package is a user friendly wrapper of `gstat`, a time honored package for geostatistics."
   ]
  },
  {
   "cell_type": "code",
   "execution_count": null,
<<<<<<< HEAD
<<<<<<< HEAD
<<<<<<< HEAD
<<<<<<< HEAD
   "id": "d78d902c",
||||||| 6a30bf1
   "id": "269a4e6f",
=======
   "id": "4a09cb4a",
>>>>>>> documentation-devel
||||||| d28b18c
   "id": "4a09cb4a",
=======
   "id": "7d86e82f",
>>>>>>> documentation-devel
||||||| 6893f63
<<<<<<< HEAD
   "id": "d78d902c",
||||||| 6a30bf1
   "id": "269a4e6f",
=======
   "id": "4a09cb4a",
>>>>>>> documentation-devel
=======
   "id": "a5ff7790",
>>>>>>> c74c98c2450c2a1ba922ed9442f136238d6bc88b
||||||| 6d93b645
   "id": "7d86e82f",
=======
   "id": "4e861aaa",
>>>>>>> documentation-devel
   "metadata": {},
   "outputs": [],
   "source": [
    "sfe <- runUnivariate(sfe, \"variogram\", hvgs, BPPARAM = SnowParam(2),\n",
    "                     model = \"Ste\")"
   ]
  },
  {
   "cell_type": "code",
   "execution_count": null,
<<<<<<< HEAD
<<<<<<< HEAD
<<<<<<< HEAD
<<<<<<< HEAD
   "id": "9cb869f3",
||||||| 6a30bf1
   "id": "3d6fed19",
=======
   "id": "30b0e631",
>>>>>>> documentation-devel
||||||| d28b18c
   "id": "30b0e631",
=======
   "id": "7237e253",
>>>>>>> documentation-devel
||||||| 6893f63
<<<<<<< HEAD
   "id": "9cb869f3",
||||||| 6a30bf1
   "id": "3d6fed19",
=======
   "id": "30b0e631",
>>>>>>> documentation-devel
=======
   "id": "6e1505d7",
>>>>>>> c74c98c2450c2a1ba922ed9442f136238d6bc88b
||||||| 6d93b645
   "id": "7237e253",
=======
   "id": "7711ef9d",
>>>>>>> documentation-devel
   "metadata": {},
   "outputs": [],
   "source": [
    "plotVariogram(sfe, hvgs[1:4], name = \"variogram\")"
   ]
  },
  {
   "cell_type": "markdown",
<<<<<<< HEAD
<<<<<<< HEAD
<<<<<<< HEAD
<<<<<<< HEAD
   "id": "33ef6a71",
||||||| 6a30bf1
   "id": "4839e0ec",
=======
   "id": "6fde3c4d",
>>>>>>> documentation-devel
||||||| d28b18c
   "id": "6fde3c4d",
=======
   "id": "44442f41",
>>>>>>> documentation-devel
||||||| 6893f63
<<<<<<< HEAD
   "id": "33ef6a71",
||||||| 6a30bf1
   "id": "4839e0ec",
=======
   "id": "6fde3c4d",
>>>>>>> documentation-devel
=======
   "id": "b13005f3",
>>>>>>> c74c98c2450c2a1ba922ed9442f136238d6bc88b
||||||| 6d93b645
   "id": "44442f41",
=======
   "id": "9f82084d",
>>>>>>> documentation-devel
   "metadata": {},
   "source": [
    "The data is binned by distance between spots and the variance is computed for each bin. While `gstat`'s plotting functions say \"semivariance\", because the data is scaled so the variance is 1, I do think the variance rather than semivariance is plotted. The numbers by the points in the plot indicate the number of pairs of spots in each bin. \"Ste\" means the Matern model with M. Stein's parameterization was fitted to the points. \n",
    "\n",
    "Nugget is the variance at distance 0, or variance within the first distance bin. The data is scaled by default prior to variogram computation to make the variograms for multiple genes comparable. \n",
    "\n",
    "Spatial autocorrelation makes the variance smaller at shorter distances. When the variogram levels off, it means that spatial autocorrelation no longer has an effect at this distance. Sill is the variance where the variogram levels off. Range is the distance where the variogram levels off. \n",
    "\n",
    "In the first 4 genes, IGHG3 and IGKC seem to have stronger spatial autocorrelation that dissipate in 100 to 200 units (whether it's microns or pixels is unclear from the publication), whereas spatial autocorrelation of B2M and MT-RNR1 is much weaker and has longer length scale. \n",
    "\n",
    "Here the genes are plotted in space:"
   ]
  },
  {
   "cell_type": "code",
   "execution_count": null,
<<<<<<< HEAD
<<<<<<< HEAD
<<<<<<< HEAD
<<<<<<< HEAD
   "id": "68fe5cc3",
||||||| 6a30bf1
   "id": "c7ce3c07",
=======
   "id": "38c12fc5",
>>>>>>> documentation-devel
||||||| d28b18c
   "id": "38c12fc5",
=======
   "id": "8230de13",
>>>>>>> documentation-devel
||||||| 6893f63
<<<<<<< HEAD
   "id": "68fe5cc3",
||||||| 6a30bf1
   "id": "c7ce3c07",
=======
   "id": "38c12fc5",
>>>>>>> documentation-devel
=======
   "id": "3ffbf5a6",
>>>>>>> c74c98c2450c2a1ba922ed9442f136238d6bc88b
||||||| 6d93b645
   "id": "8230de13",
=======
   "id": "5ca5f04c",
>>>>>>> documentation-devel
   "metadata": {
    "fig.height": 6,
    "fig.width": 9
   },
   "outputs": [],
   "source": [
    "plotSpatialFeature(sfe, hvgs[1:4], size = 0.3) & \n",
    "    theme_bw() # To show the length units"
   ]
  },
  {
   "cell_type": "markdown",
<<<<<<< HEAD
<<<<<<< HEAD
<<<<<<< HEAD
<<<<<<< HEAD
   "id": "12c7f3b0",
||||||| 6a30bf1
   "id": "a2bda231",
=======
   "id": "984dbe32",
>>>>>>> documentation-devel
||||||| d28b18c
   "id": "984dbe32",
=======
   "id": "4465a367",
>>>>>>> documentation-devel
||||||| 6893f63
<<<<<<< HEAD
   "id": "12c7f3b0",
||||||| 6a30bf1
   "id": "a2bda231",
=======
   "id": "984dbe32",
>>>>>>> documentation-devel
=======
   "id": "522253c6",
>>>>>>> c74c98c2450c2a1ba922ed9442f136238d6bc88b
||||||| 6d93b645
   "id": "4465a367",
=======
   "id": "b53faa9b",
>>>>>>> documentation-devel
   "metadata": {
    "lines_to_next_cell": 0
   },
   "source": [
    "The length scales of spatial autocorrelation for these genes are quite obvious from just plotting the genes. Then what's the point of plotting variograms for ESDA? We can also compute variograms for a larger number of genes and cluster the variograms for patterns in spatial autocorrelation length scales, or compare variograms of the same genes across different samples. Here we cluster the variograms for top highly variable genes (HVGs):\n",
    "\n",
    "The `BLUSPARAM` argument is used to specify methods of clustering, as implemented in the `bluster` package. Here we use hierarchical clustering."
   ]
  },
  {
   "cell_type": "code",
   "execution_count": null,
<<<<<<< HEAD
<<<<<<< HEAD
<<<<<<< HEAD
<<<<<<< HEAD
   "id": "ed691db0",
||||||| 6a30bf1
   "id": "cf5e3408",
=======
   "id": "e9762101",
>>>>>>> documentation-devel
||||||| d28b18c
   "id": "e9762101",
=======
   "id": "dba7e639",
>>>>>>> documentation-devel
||||||| 6893f63
<<<<<<< HEAD
   "id": "ed691db0",
||||||| 6a30bf1
   "id": "cf5e3408",
=======
   "id": "e9762101",
>>>>>>> documentation-devel
=======
   "id": "34fb3949",
>>>>>>> c74c98c2450c2a1ba922ed9442f136238d6bc88b
||||||| 6d93b645
   "id": "dba7e639",
=======
   "id": "24247739",
>>>>>>> documentation-devel
   "metadata": {},
   "outputs": [],
   "source": [
    "clusts <- clusterVariograms(sfe, hvgs, BLUSPARAM = HclustParam())"
   ]
  },
  {
   "cell_type": "markdown",
<<<<<<< HEAD
<<<<<<< HEAD
<<<<<<< HEAD
<<<<<<< HEAD
   "id": "c745b107",
||||||| 6a30bf1
   "id": "3bc388fe",
=======
   "id": "b0f0ac3f",
>>>>>>> documentation-devel
||||||| d28b18c
   "id": "b0f0ac3f",
=======
   "id": "961092bd",
>>>>>>> documentation-devel
||||||| 6893f63
<<<<<<< HEAD
   "id": "c745b107",
||||||| 6a30bf1
   "id": "3bc388fe",
=======
   "id": "b0f0ac3f",
>>>>>>> documentation-devel
=======
   "id": "a78a38e6",
>>>>>>> c74c98c2450c2a1ba922ed9442f136238d6bc88b
||||||| 6d93b645
   "id": "961092bd",
=======
   "id": "209c52ca",
>>>>>>> documentation-devel
   "metadata": {
    "lines_to_next_cell": 0
   },
   "source": [
    "Then plot the clusters:"
   ]
  },
  {
   "cell_type": "code",
   "execution_count": null,
<<<<<<< HEAD
<<<<<<< HEAD
<<<<<<< HEAD
<<<<<<< HEAD
   "id": "c3b70a11",
||||||| 6a30bf1
   "id": "072c6b49",
=======
   "id": "d68c1da6",
>>>>>>> documentation-devel
||||||| d28b18c
   "id": "d68c1da6",
=======
   "id": "01e89f4b",
>>>>>>> documentation-devel
||||||| 6893f63
<<<<<<< HEAD
   "id": "c3b70a11",
||||||| 6a30bf1
   "id": "072c6b49",
=======
   "id": "d68c1da6",
>>>>>>> documentation-devel
=======
   "id": "c438f677",
>>>>>>> c74c98c2450c2a1ba922ed9442f136238d6bc88b
||||||| 6d93b645
   "id": "01e89f4b",
=======
   "id": "cf412a3e",
>>>>>>> documentation-devel
   "metadata": {},
   "outputs": [],
   "source": [
    "plotVariogram(sfe, hvgs, color_by = clusts, group = \"feature\", use_lty = FALSE,\n",
    "              show_np = FALSE)"
   ]
  },
  {
   "cell_type": "markdown",
<<<<<<< HEAD
<<<<<<< HEAD
<<<<<<< HEAD
<<<<<<< HEAD
   "id": "c6f23d31",
||||||| 6a30bf1
   "id": "55f98f12",
=======
   "id": "29da1a11",
>>>>>>> documentation-devel
||||||| d28b18c
   "id": "29da1a11",
=======
   "id": "5a31ee08",
>>>>>>> documentation-devel
||||||| 6893f63
<<<<<<< HEAD
   "id": "c6f23d31",
||||||| 6a30bf1
   "id": "55f98f12",
=======
   "id": "29da1a11",
>>>>>>> documentation-devel
=======
   "id": "bd2650a6",
>>>>>>> c74c98c2450c2a1ba922ed9442f136238d6bc88b
||||||| 6d93b645
   "id": "5a31ee08",
=======
   "id": "de0b08a6",
>>>>>>> documentation-devel
   "metadata": {
    "lines_to_next_cell": 0
   },
   "source": [
    "It seems that there are many genes, like MT-RNR1, with weak spatial autocorrelation over longer length scales, genes with stronger and shorter range spatial autocorrelation (around 150 to 200 units) like IGKC, and genes with somewhat longer length scale of spatial autocorrelation (around 400 units).\n",
    "\n",
    "Plot one gene from each cluster in space:"
   ]
  },
  {
   "cell_type": "code",
   "execution_count": null,
<<<<<<< HEAD
<<<<<<< HEAD
<<<<<<< HEAD
<<<<<<< HEAD
   "id": "f2e6ba8e",
||||||| 6a30bf1
   "id": "fc46213d",
=======
   "id": "e2753690",
>>>>>>> documentation-devel
||||||| d28b18c
   "id": "e2753690",
=======
   "id": "cc679563",
>>>>>>> documentation-devel
||||||| 6893f63
<<<<<<< HEAD
   "id": "f2e6ba8e",
||||||| 6a30bf1
   "id": "fc46213d",
=======
   "id": "e2753690",
>>>>>>> documentation-devel
=======
   "id": "04f7da11",
>>>>>>> c74c98c2450c2a1ba922ed9442f136238d6bc88b
||||||| 6d93b645
   "id": "cc679563",
=======
   "id": "f4af7128",
>>>>>>> documentation-devel
   "metadata": {},
   "outputs": [],
   "source": [
    "genes_clusts <- clusts |> \n",
    "    group_by(cluster) |> \n",
    "    slice_head(n = 1) |> \n",
    "    pull(feature)"
   ]
  },
  {
   "cell_type": "code",
   "execution_count": null,
<<<<<<< HEAD
<<<<<<< HEAD
<<<<<<< HEAD
<<<<<<< HEAD
   "id": "12d44721",
||||||| 6a30bf1
   "id": "50727cff",
=======
   "id": "70c114dd",
>>>>>>> documentation-devel
||||||| d28b18c
   "id": "70c114dd",
=======
   "id": "19e23e77",
>>>>>>> documentation-devel
||||||| 6893f63
<<<<<<< HEAD
   "id": "12d44721",
||||||| 6a30bf1
   "id": "50727cff",
=======
   "id": "70c114dd",
>>>>>>> documentation-devel
=======
   "id": "6ca19ff6",
>>>>>>> c74c98c2450c2a1ba922ed9442f136238d6bc88b
||||||| 6d93b645
   "id": "19e23e77",
=======
   "id": "41495b72",
>>>>>>> documentation-devel
   "metadata": {
    "fig.height": 6,
    "fig.width": 10
   },
   "outputs": [],
   "source": [
    "plotSpatialFeature(sfe, genes_clusts, size = 0.3)"
   ]
  },
  {
   "cell_type": "markdown",
<<<<<<< HEAD
<<<<<<< HEAD
<<<<<<< HEAD
<<<<<<< HEAD
   "id": "7a421a8f",
||||||| 6a30bf1
   "id": "c4235a2e",
=======
   "id": "63fcf570",
>>>>>>> documentation-devel
||||||| d28b18c
   "id": "63fcf570",
=======
   "id": "408dc45c",
>>>>>>> documentation-devel
||||||| 6893f63
<<<<<<< HEAD
   "id": "7a421a8f",
||||||| 6a30bf1
   "id": "c4235a2e",
=======
   "id": "63fcf570",
>>>>>>> documentation-devel
=======
   "id": "e28f48fd",
>>>>>>> c74c98c2450c2a1ba922ed9442f136238d6bc88b
||||||| 6d93b645
   "id": "408dc45c",
=======
   "id": "14c89fab",
>>>>>>> documentation-devel
   "metadata": {},
   "source": [
    "MT-RNR1 is more widely expressed. IGKC and ICHC3 are restricted to smaller areas, and IGHM is restricted to even smaller areas. Note that genes with variograms in the same cluster don't have to be co-expressed; they only need to have similar length scales and strengths of spatial autocorrelation.\n",
    "\n",
    "# Anisotropy\n",
    "Anisotropy means different in different directions. An example is the cerebral cortex, which has a layered structure. The variogram can be computed in different directions.\n",
    "\n",
    "## Anisotropic variogram\n",
    "The directions on which to compute variograms can be explicitly specified, in the `alpha` argument. However, since `gstat` does not fit anisotropic variograms, the model is fitted to all directions and the empirical variograms at each angle are plotted separately. Here we compute anisotropic variograms for the 4 genes above:"
   ]
  },
  {
   "cell_type": "code",
   "execution_count": null,
<<<<<<< HEAD
<<<<<<< HEAD
<<<<<<< HEAD
<<<<<<< HEAD
   "id": "f8eb7fc1",
||||||| 6a30bf1
   "id": "eddf58c3",
=======
   "id": "b476db7a",
>>>>>>> documentation-devel
||||||| d28b18c
   "id": "b476db7a",
=======
   "id": "d047d953",
>>>>>>> documentation-devel
||||||| 6893f63
<<<<<<< HEAD
   "id": "f8eb7fc1",
||||||| 6a30bf1
   "id": "eddf58c3",
=======
   "id": "b476db7a",
>>>>>>> documentation-devel
=======
   "id": "8033091d",
>>>>>>> c74c98c2450c2a1ba922ed9442f136238d6bc88b
||||||| 6d93b645
   "id": "d047d953",
=======
   "id": "3d7fa810",
>>>>>>> documentation-devel
   "metadata": {},
   "outputs": [],
   "source": [
    "sfe <- runUnivariate(sfe, \"variogram\", genes_clusts, alpha = c(0, 45, 90, 135),\n",
    "                     # To not to overwrite omnidirectional variogram results\n",
    "                     name = \"variogram_anis\", model = \"Ste\", \n",
    "                     BPPARAM = SnowParam(2))"
   ]
  },
  {
   "cell_type": "code",
   "execution_count": null,
<<<<<<< HEAD
<<<<<<< HEAD
<<<<<<< HEAD
<<<<<<< HEAD
   "id": "8eec44b3",
||||||| 6a30bf1
   "id": "c46ce0b7",
=======
   "id": "2e99a375",
>>>>>>> documentation-devel
||||||| d28b18c
   "id": "2e99a375",
=======
   "id": "ccc7604a",
>>>>>>> documentation-devel
||||||| 6893f63
<<<<<<< HEAD
   "id": "8eec44b3",
||||||| 6a30bf1
   "id": "c46ce0b7",
=======
   "id": "2e99a375",
>>>>>>> documentation-devel
=======
   "id": "ac630669",
>>>>>>> c74c98c2450c2a1ba922ed9442f136238d6bc88b
||||||| 6d93b645
   "id": "ccc7604a",
=======
   "id": "7df213ad",
>>>>>>> documentation-devel
   "metadata": {},
   "outputs": [],
   "source": [
    "plotVariogram(sfe, genes_clusts, group = \"angle\", name = \"variogram_anis\",\n",
    "              show_np = FALSE)"
   ]
  },
  {
   "cell_type": "markdown",
<<<<<<< HEAD
<<<<<<< HEAD
<<<<<<< HEAD
<<<<<<< HEAD
   "id": "89569357",
||||||| 6a30bf1
   "id": "8964de7c",
=======
   "id": "da9799a9",
>>>>>>> documentation-devel
||||||| d28b18c
   "id": "da9799a9",
=======
   "id": "6a3e57b7",
>>>>>>> documentation-devel
||||||| 6893f63
<<<<<<< HEAD
   "id": "89569357",
||||||| 6a30bf1
   "id": "8964de7c",
=======
   "id": "da9799a9",
>>>>>>> documentation-devel
=======
   "id": "4e5ea0fa",
>>>>>>> c74c98c2450c2a1ba922ed9442f136238d6bc88b
||||||| 6d93b645
   "id": "6a3e57b7",
=======
   "id": "482b7a29",
>>>>>>> documentation-devel
   "metadata": {},
   "source": [
    "Here the line is the variogram model fitted to all directions and the text describes this model. The points show the angles in different colors. Zero degree points north (up), and the angles go clockwise.\n",
    "\n",
    "## Variogram map\n",
    "\n",
    "The variogram map is another way to visualize spatial autocorrelation in different directions. It bins distances in x and distances in y, so we have a grid of distances where the variance is computed. Just like the variograms above, the origin usually has a low value, because spatial autocorrelation reduces the variance in a short distance, and the values increase with increasing distance from the origin, but it can increase more quickly in some directions than others. Here to compute variogram maps for the 4 genes above:"
   ]
  },
  {
   "cell_type": "code",
   "execution_count": null,
<<<<<<< HEAD
<<<<<<< HEAD
<<<<<<< HEAD
<<<<<<< HEAD
   "id": "36f6a4cb",
||||||| 6a30bf1
   "id": "d2ca5c80",
=======
   "id": "36eeedc9",
>>>>>>> documentation-devel
||||||| d28b18c
   "id": "36eeedc9",
=======
   "id": "973a9176",
>>>>>>> documentation-devel
||||||| 6893f63
<<<<<<< HEAD
   "id": "36f6a4cb",
||||||| 6a30bf1
   "id": "d2ca5c80",
=======
   "id": "36eeedc9",
>>>>>>> documentation-devel
=======
   "id": "e5a0dbfe",
>>>>>>> c74c98c2450c2a1ba922ed9442f136238d6bc88b
||||||| 6d93b645
   "id": "973a9176",
=======
   "id": "3581dd16",
>>>>>>> documentation-devel
   "metadata": {},
   "outputs": [],
   "source": [
    "sfe <- runUnivariate(sfe, \"variogram_map\", genes_clusts, width = 100, \n",
    "                     cutoff = 800, BPPARAM = SnowParam(2), name = \"variogram_map2\")"
   ]
  },
  {
   "cell_type": "markdown",
<<<<<<< HEAD
<<<<<<< HEAD
<<<<<<< HEAD
<<<<<<< HEAD
   "id": "449afabc",
||||||| 6a30bf1
   "id": "e5afee83",
=======
   "id": "ce3f260d",
>>>>>>> documentation-devel
||||||| d28b18c
   "id": "ce3f260d",
=======
   "id": "1cd24bf1",
>>>>>>> documentation-devel
||||||| 6893f63
<<<<<<< HEAD
   "id": "449afabc",
||||||| 6a30bf1
   "id": "e5afee83",
=======
   "id": "ce3f260d",
>>>>>>> documentation-devel
=======
   "id": "a4793d04",
>>>>>>> c74c98c2450c2a1ba922ed9442f136238d6bc88b
||||||| 6d93b645
   "id": "1cd24bf1",
=======
   "id": "a1739732",
>>>>>>> documentation-devel
   "metadata": {},
   "source": [
    "The `width` argument is the width of the bins, and `cutoff` is the maximum distance."
   ]
  },
  {
   "cell_type": "code",
   "execution_count": null,
<<<<<<< HEAD
<<<<<<< HEAD
<<<<<<< HEAD
<<<<<<< HEAD
   "id": "a425722f",
||||||| 6a30bf1
   "id": "3e56f33f",
=======
   "id": "a9203539",
>>>>>>> documentation-devel
||||||| d28b18c
   "id": "a9203539",
=======
   "id": "90eac1c7",
>>>>>>> documentation-devel
||||||| 6893f63
<<<<<<< HEAD
   "id": "a425722f",
||||||| 6a30bf1
   "id": "3e56f33f",
=======
   "id": "a9203539",
>>>>>>> documentation-devel
=======
   "id": "23d86e97",
>>>>>>> c74c98c2450c2a1ba922ed9442f136238d6bc88b
||||||| 6d93b645
   "id": "90eac1c7",
=======
   "id": "9cd1d2ee",
>>>>>>> documentation-devel
   "metadata": {},
   "outputs": [],
   "source": [
    "plotVariogramMap(sfe, genes_clusts, name = \"variogram_map2\")"
   ]
  },
  {
   "cell_type": "markdown",
<<<<<<< HEAD
<<<<<<< HEAD
<<<<<<< HEAD
<<<<<<< HEAD
   "id": "e0127b23",
||||||| 6a30bf1
   "id": "ed32f86f",
=======
   "id": "51fc0a2c",
>>>>>>> documentation-devel
||||||| d28b18c
   "id": "51fc0a2c",
=======
   "id": "19b8bef4",
>>>>>>> documentation-devel
||||||| 6893f63
<<<<<<< HEAD
   "id": "e0127b23",
||||||| 6a30bf1
   "id": "ed32f86f",
=======
   "id": "51fc0a2c",
>>>>>>> documentation-devel
=======
   "id": "3d04952a",
>>>>>>> c74c98c2450c2a1ba922ed9442f136238d6bc88b
||||||| 6d93b645
   "id": "19b8bef4",
=======
   "id": "0e688543",
>>>>>>> documentation-devel
   "metadata": {},
   "source": [
    "# Cross variogram\n",
    "The cross variogram is used in cokriging, which uses multiple variables in the spatial interpolation model. The cross variogram is defined as\n",
    "\n",
    "$$\n",
    "\\gamma(t) = \\frac 1 2 \\mathrm{Cov}(X_t - X_0, Y_t - Y_0),\n",
    "$$\n",
    "\n",
    "where $Y$ is another variable. The cross variogram also has nugget, sill, and range. It shows how the covariance between two variables changes with distance. `Voyager` supports multiple bivariate spatial methods, and the cross variogram is one of them. Just like for univariate spatial methods, `Voyager` provides a uniform user interface for bivariate methods. However, bivariate local methods can't be stored in the SFE object at present because they tend to have very different formats in outputs (e.g. a correlation matrix for Lee's L and a list for most other methods) some of which may not be straightforward to store in the SFE object."
   ]
  },
  {
   "cell_type": "code",
   "execution_count": null,
<<<<<<< HEAD
<<<<<<< HEAD
<<<<<<< HEAD
<<<<<<< HEAD
   "id": "9d7c3b06",
||||||| 6a30bf1
   "id": "f3e0134a",
=======
   "id": "52c9b512",
>>>>>>> documentation-devel
||||||| d28b18c
   "id": "52c9b512",
=======
   "id": "6a13327c",
>>>>>>> documentation-devel
||||||| 6893f63
<<<<<<< HEAD
   "id": "9d7c3b06",
||||||| 6a30bf1
   "id": "f3e0134a",
=======
   "id": "52c9b512",
>>>>>>> documentation-devel
=======
   "id": "f8746ff9",
>>>>>>> c74c98c2450c2a1ba922ed9442f136238d6bc88b
||||||| 6d93b645
   "id": "6a13327c",
=======
   "id": "e2ff74a3",
>>>>>>> documentation-devel
   "metadata": {},
   "outputs": [],
   "source": [
    "cross_v <- calculateBivariate(sfe, \"cross_variogram\", \n",
    "                              feature1 = \"IGKC\", feature2 = \"IGHG3\")"
   ]
  },
  {
   "cell_type": "code",
   "execution_count": null,
<<<<<<< HEAD
<<<<<<< HEAD
<<<<<<< HEAD
<<<<<<< HEAD
   "id": "a1cea25c",
||||||| 6a30bf1
   "id": "1326a2b7",
=======
   "id": "fb62423f",
>>>>>>> documentation-devel
||||||| d28b18c
   "id": "fb62423f",
=======
   "id": "0faf6590",
>>>>>>> documentation-devel
||||||| 6893f63
<<<<<<< HEAD
   "id": "a1cea25c",
||||||| 6a30bf1
   "id": "1326a2b7",
=======
   "id": "fb62423f",
>>>>>>> documentation-devel
=======
   "id": "b18cb52e",
>>>>>>> c74c98c2450c2a1ba922ed9442f136238d6bc88b
||||||| 6d93b645
   "id": "0faf6590",
=======
   "id": "83c66c03",
>>>>>>> documentation-devel
   "metadata": {},
   "outputs": [],
   "source": [
    "plotCrossVariogram(cross_v, show_np = FALSE)"
   ]
  },
  {
   "cell_type": "markdown",
<<<<<<< HEAD
<<<<<<< HEAD
<<<<<<< HEAD
<<<<<<< HEAD
   "id": "4a822363",
||||||| 6a30bf1
   "id": "dabf85ad",
=======
   "id": "c2ad43fe",
>>>>>>> documentation-devel
||||||| d28b18c
   "id": "c2ad43fe",
=======
   "id": "1bbfffcd",
>>>>>>> documentation-devel
||||||| 6893f63
<<<<<<< HEAD
   "id": "4a822363",
||||||| 6a30bf1
   "id": "dabf85ad",
=======
   "id": "c2ad43fe",
>>>>>>> documentation-devel
=======
   "id": "085df64f",
>>>>>>> c74c98c2450c2a1ba922ed9442f136238d6bc88b
||||||| 6d93b645
   "id": "1bbfffcd",
=======
   "id": "3dbb72ac",
>>>>>>> documentation-devel
   "metadata": {
    "lines_to_next_cell": 0
   },
   "source": [
    "The facets are shown in a matrix, whose diagonal is the variogram for each gene, and off diagonal entries are cross variograms. Here for IGKC and IGHG3, the length scale of the covariance is similar to that of spatial autocorrelation. \n",
    "\n",
    "There is also a cross variogram map to show the cross variogram in different directions:"
   ]
  },
  {
   "cell_type": "code",
   "execution_count": null,
<<<<<<< HEAD
<<<<<<< HEAD
<<<<<<< HEAD
<<<<<<< HEAD
   "id": "80f8723a",
||||||| 6a30bf1
   "id": "8446ebe2",
=======
   "id": "bd15a9f5",
>>>>>>> documentation-devel
||||||| d28b18c
   "id": "bd15a9f5",
=======
   "id": "c79665d5",
>>>>>>> documentation-devel
||||||| 6893f63
<<<<<<< HEAD
   "id": "80f8723a",
||||||| 6a30bf1
   "id": "8446ebe2",
=======
   "id": "bd15a9f5",
>>>>>>> documentation-devel
=======
   "id": "e55b5c02",
>>>>>>> c74c98c2450c2a1ba922ed9442f136238d6bc88b
||||||| 6d93b645
   "id": "c79665d5",
=======
   "id": "49002314",
>>>>>>> documentation-devel
   "metadata": {},
   "outputs": [],
   "source": [
    "cross_v_map <- calculateBivariate(sfe, \"cross_variogram_map\",\n",
    "                                  feature1 = \"IGKC\", feature2 = \"IGHG3\",\n",
    "                                  width = 100, cutoff = 800)"
   ]
  },
  {
   "cell_type": "code",
   "execution_count": null,
<<<<<<< HEAD
<<<<<<< HEAD
<<<<<<< HEAD
<<<<<<< HEAD
   "id": "af42a45c",
||||||| 6a30bf1
   "id": "d83e691f",
=======
   "id": "c18d5638",
>>>>>>> documentation-devel
||||||| d28b18c
   "id": "c18d5638",
=======
   "id": "3d0ba10d",
>>>>>>> documentation-devel
||||||| 6893f63
<<<<<<< HEAD
   "id": "af42a45c",
||||||| 6a30bf1
   "id": "d83e691f",
=======
   "id": "c18d5638",
>>>>>>> documentation-devel
=======
   "id": "830e68a4",
>>>>>>> c74c98c2450c2a1ba922ed9442f136238d6bc88b
||||||| 6d93b645
   "id": "3d0ba10d",
=======
   "id": "2d806752",
>>>>>>> documentation-devel
   "metadata": {},
   "outputs": [],
   "source": [
    "plotCrossVariogramMap(cross_v_map)"
   ]
  },
  {
   "cell_type": "markdown",
<<<<<<< HEAD
<<<<<<< HEAD
<<<<<<< HEAD
<<<<<<< HEAD
   "id": "1312d9ce",
||||||| 6a30bf1
   "id": "e652b008",
=======
   "id": "c9fb6ad9",
>>>>>>> documentation-devel
||||||| d28b18c
   "id": "c9fb6ad9",
=======
   "id": "d6eed009",
>>>>>>> documentation-devel
||||||| 6893f63
<<<<<<< HEAD
   "id": "1312d9ce",
||||||| 6a30bf1
   "id": "e652b008",
=======
   "id": "c9fb6ad9",
>>>>>>> documentation-devel
=======
   "id": "8685b572",
>>>>>>> c74c98c2450c2a1ba922ed9442f136238d6bc88b
||||||| 6d93b645
   "id": "d6eed009",
=======
   "id": "cab14b84",
>>>>>>> documentation-devel
   "metadata": {
    "lines_to_next_cell": 0
   },
   "source": [
    "# Session Info"
   ]
  },
  {
   "cell_type": "code",
   "execution_count": null,
<<<<<<< HEAD
<<<<<<< HEAD
<<<<<<< HEAD
<<<<<<< HEAD
   "id": "6be4daea",
||||||| 6a30bf1
   "id": "b78b46e0",
=======
   "id": "e0dbea3b",
>>>>>>> documentation-devel
||||||| d28b18c
   "id": "e0dbea3b",
=======
   "id": "83adfdb2",
>>>>>>> documentation-devel
||||||| 6893f63
<<<<<<< HEAD
   "id": "6be4daea",
||||||| 6a30bf1
   "id": "b78b46e0",
=======
   "id": "e0dbea3b",
>>>>>>> documentation-devel
=======
   "id": "4848a8ae",
>>>>>>> c74c98c2450c2a1ba922ed9442f136238d6bc88b
||||||| 6d93b645
   "id": "83adfdb2",
=======
   "id": "72d791cd",
>>>>>>> documentation-devel
   "metadata": {
    "lines_to_next_cell": 2
   },
   "outputs": [],
   "source": [
    "sessionInfo()"
   ]
  },
  {
   "cell_type": "markdown",
<<<<<<< HEAD
<<<<<<< HEAD
<<<<<<< HEAD
<<<<<<< HEAD
   "id": "3cb18b18",
||||||| 6a30bf1
   "id": "38ef06bf",
=======
   "id": "0714b54e",
>>>>>>> documentation-devel
||||||| d28b18c
   "id": "0714b54e",
=======
   "id": "59eb0f51",
>>>>>>> documentation-devel
||||||| 6893f63
<<<<<<< HEAD
   "id": "3cb18b18",
||||||| 6a30bf1
   "id": "38ef06bf",
=======
   "id": "0714b54e",
>>>>>>> documentation-devel
=======
   "id": "58219fb8",
>>>>>>> c74c98c2450c2a1ba922ed9442f136238d6bc88b
||||||| 6d93b645
   "id": "59eb0f51",
=======
   "id": "ddebf2fb",
>>>>>>> documentation-devel
   "metadata": {},
   "source": [
    "# References"
   ]
  }
 ],
 "metadata": {
  "kernelspec": {
   "display_name": "R",
   "language": "R",
   "name": "ir"
  }
 },
 "nbformat": 4,
 "nbformat_minor": 5
}
