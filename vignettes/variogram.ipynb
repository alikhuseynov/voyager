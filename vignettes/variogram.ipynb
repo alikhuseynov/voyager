{
 "cells": [
  {
   "cell_type": "raw",
<<<<<<< HEAD
<<<<<<< HEAD
<<<<<<< HEAD
<<<<<<< HEAD
<<<<<<< HEAD
   "id": "9346d73e",
||||||| 11b9cb7
   "id": "e39a50c2",
=======
   "id": "4868c220",
>>>>>>> documentation-devel
||||||| 614e9b1
   "id": "4868c220",
=======
   "id": "1a2ecbc5",
>>>>>>> documentation-devel
||||||| 856b4c0
<<<<<<< HEAD
   "id": "9346d73e",
||||||| 11b9cb7
   "id": "e39a50c2",
=======
   "id": "4868c220",
>>>>>>> documentation-devel
=======
   "id": "ae441e1d",
>>>>>>> 552590ea8fad969b67afdba27558a1e6cb21016e
||||||| 452c944
   "id": "1a2ecbc5",
=======
   "id": "e1df0ad0",
>>>>>>> documentation-devel
||||||| 4da3324
<<<<<<< HEAD
<<<<<<< HEAD
<<<<<<< HEAD
   "id": "9346d73e",
||||||| 11b9cb7
   "id": "e39a50c2",
=======
   "id": "4868c220",
>>>>>>> documentation-devel
||||||| 614e9b1
   "id": "4868c220",
=======
   "id": "1a2ecbc5",
>>>>>>> documentation-devel
||||||| 856b4c0
<<<<<<< HEAD
   "id": "9346d73e",
||||||| 11b9cb7
   "id": "e39a50c2",
=======
   "id": "4868c220",
>>>>>>> documentation-devel
=======
   "id": "ae441e1d",
>>>>>>> 552590ea8fad969b67afdba27558a1e6cb21016e
=======
   "id": "f34003e8",
>>>>>>> b6e07d13baac92b2c1c9b43f8e4113ffa87bf495
   "metadata": {},
   "source": [
    "---\n",
    "title: \"Variogram\"\n",
    "author: \"Lambda Moses\"\n",
    "date: \"`r Sys.Date()`\"\n",
    "output: \n",
    "  html_document:\n",
    "  toc: true\n",
    "  toc_float:\n",
    "    collapsed: false\n",
    "  toc_depth: 3\n",
    "bibliography: ref.bib\n",
    "vignette: >\n",
    "  %\\VignetteIndexEntry{variogram}\n",
    "  %\\VignetteEngine{knitr::rmarkdown}\n",
    "  %\\VignetteEncoding{UTF-8}\n",
    "---"
   ]
  },
  {
   "cell_type": "code",
   "execution_count": null,
<<<<<<< HEAD
<<<<<<< HEAD
<<<<<<< HEAD
<<<<<<< HEAD
<<<<<<< HEAD
   "id": "cd2c9cbc",
||||||| 11b9cb7
   "id": "24b4c6db",
=======
   "id": "0fe38588",
>>>>>>> documentation-devel
||||||| 614e9b1
   "id": "0fe38588",
=======
   "id": "309dcf68",
>>>>>>> documentation-devel
||||||| 856b4c0
<<<<<<< HEAD
   "id": "cd2c9cbc",
||||||| 11b9cb7
   "id": "24b4c6db",
=======
   "id": "0fe38588",
>>>>>>> documentation-devel
=======
   "id": "d53ba1a9",
>>>>>>> 552590ea8fad969b67afdba27558a1e6cb21016e
||||||| 452c944
   "id": "309dcf68",
=======
   "id": "f2641764",
>>>>>>> documentation-devel
||||||| 4da3324
<<<<<<< HEAD
<<<<<<< HEAD
<<<<<<< HEAD
   "id": "cd2c9cbc",
||||||| 11b9cb7
   "id": "24b4c6db",
=======
   "id": "0fe38588",
>>>>>>> documentation-devel
||||||| 614e9b1
   "id": "0fe38588",
=======
   "id": "309dcf68",
>>>>>>> documentation-devel
||||||| 856b4c0
<<<<<<< HEAD
   "id": "cd2c9cbc",
||||||| 11b9cb7
   "id": "24b4c6db",
=======
   "id": "0fe38588",
>>>>>>> documentation-devel
=======
   "id": "d53ba1a9",
>>>>>>> 552590ea8fad969b67afdba27558a1e6cb21016e
=======
   "id": "1a577a89",
>>>>>>> b6e07d13baac92b2c1c9b43f8e4113ffa87bf495
   "metadata": {
    "tags": [
     "remove_cell"
    ]
   },
   "outputs": [],
   "source": [
    "knitr::opts_chunk$set(\n",
    "  collapse = TRUE,\n",
    "  comment = \"#>\"\n",
    ")"
   ]
  },
  {
   "cell_type": "code",
   "execution_count": null,
<<<<<<< HEAD
<<<<<<< HEAD
<<<<<<< HEAD
<<<<<<< HEAD
<<<<<<< HEAD
   "id": "dae7b4a6",
||||||| 11b9cb7
   "id": "2980f926",
=======
   "id": "e8f99dc3",
>>>>>>> documentation-devel
||||||| 614e9b1
   "id": "e8f99dc3",
=======
   "id": "a2368e4c",
>>>>>>> documentation-devel
||||||| 856b4c0
<<<<<<< HEAD
   "id": "dae7b4a6",
||||||| 11b9cb7
   "id": "2980f926",
=======
   "id": "e8f99dc3",
>>>>>>> documentation-devel
=======
   "id": "89d86631",
>>>>>>> 552590ea8fad969b67afdba27558a1e6cb21016e
||||||| 452c944
   "id": "a2368e4c",
=======
   "id": "af0a803c",
>>>>>>> documentation-devel
||||||| 4da3324
<<<<<<< HEAD
<<<<<<< HEAD
<<<<<<< HEAD
   "id": "dae7b4a6",
||||||| 11b9cb7
   "id": "2980f926",
=======
   "id": "e8f99dc3",
>>>>>>> documentation-devel
||||||| 614e9b1
   "id": "e8f99dc3",
=======
   "id": "a2368e4c",
>>>>>>> documentation-devel
||||||| 856b4c0
<<<<<<< HEAD
   "id": "dae7b4a6",
||||||| 11b9cb7
   "id": "2980f926",
=======
   "id": "e8f99dc3",
>>>>>>> documentation-devel
=======
   "id": "89d86631",
>>>>>>> 552590ea8fad969b67afdba27558a1e6cb21016e
=======
   "id": "ba81e985",
>>>>>>> b6e07d13baac92b2c1c9b43f8e4113ffa87bf495
   "metadata": {
    "eval": false,
    "tags": [
     "remove_cell"
    ]
   },
   "outputs": [],
   "source": [
    "# Install Google Colab dependencies\n",
    "# Note: this can take 30+ minutes (many of the dependencies include C++ code, which needs to be compiled)\n",
    "\n",
    "# First install `sf`, `ragg` and `textshaping` and their system dependencies:\n",
    "system(\"apt-get -y update && apt-get install -y  libudunits2-dev libgdal-dev libgeos-dev libproj-dev libharfbuzz-dev libfribidi-dev\")\n",
    "install.packages(\"sf\")\n",
    "install.packages(\"textshaping\")\n",
    "install.packages(\"ragg\")\n",
    "\n",
    "# Install system dependencies of some other R packages that Voyager either imports or suggests:\n",
    "system(\"apt-get install -y libfribidi-dev libcairo2-dev libmagick++-dev\")\n",
    "\n",
    "# Install Voyager from Bioconductor:\n",
    "install.packages(\"BiocManager\")\n",
    "BiocManager::install(version = \"3.17\", ask = FALSE, update = FALSE, Ncpus = 2)\n",
    "BiocManager::install(\"scater\")\n",
    "system.time(\n",
    "  BiocManager::install(\"Voyager\", dependencies = TRUE, Ncpus = 2, update = FALSE)\n",
    ")\n",
    "\n",
    "# Other packages used in this vignette\n",
    "packageVersion(\"Voyager\")"
   ]
  },
  {
   "cell_type": "markdown",
<<<<<<< HEAD
<<<<<<< HEAD
<<<<<<< HEAD
<<<<<<< HEAD
<<<<<<< HEAD
   "id": "b20dedc0",
||||||| 11b9cb7
   "id": "3cbee9c0",
=======
   "id": "63cdadac",
>>>>>>> documentation-devel
||||||| 614e9b1
   "id": "63cdadac",
=======
   "id": "092a0b9f",
>>>>>>> documentation-devel
||||||| 856b4c0
<<<<<<< HEAD
   "id": "b20dedc0",
||||||| 11b9cb7
   "id": "3cbee9c0",
=======
   "id": "63cdadac",
>>>>>>> documentation-devel
=======
   "id": "cda8d4ff",
>>>>>>> 552590ea8fad969b67afdba27558a1e6cb21016e
||||||| 452c944
   "id": "092a0b9f",
=======
   "id": "023a9cca",
>>>>>>> documentation-devel
||||||| 4da3324
<<<<<<< HEAD
<<<<<<< HEAD
<<<<<<< HEAD
   "id": "b20dedc0",
||||||| 11b9cb7
   "id": "3cbee9c0",
=======
   "id": "63cdadac",
>>>>>>> documentation-devel
||||||| 614e9b1
   "id": "63cdadac",
=======
   "id": "092a0b9f",
>>>>>>> documentation-devel
||||||| 856b4c0
<<<<<<< HEAD
   "id": "b20dedc0",
||||||| 11b9cb7
   "id": "3cbee9c0",
=======
   "id": "63cdadac",
>>>>>>> documentation-devel
=======
   "id": "cda8d4ff",
>>>>>>> 552590ea8fad969b67afdba27558a1e6cb21016e
=======
   "id": "5a5e7430",
>>>>>>> b6e07d13baac92b2c1c9b43f8e4113ffa87bf495
   "metadata": {
    "lines_to_next_cell": 0
   },
   "source": [
    "# Introduction\n",
    "In geostatistical data, an underlying spatial process is sampled at known locations. Kriging uses a Gaussian process model to interpolate the values between the sample locations, and the semivariogram is used to model the spatial dependency between the locations as the covariance of the Gaussian process. When not kriging, the semivariogram can be used as an exploratory data analysis tool to find the length scale and anisotropy of spatial autocorrelation. The semivariogram is defined as\n",
    "\n",
    "$$\n",
    "\\gamma(t) = \\frac 1 2 \\mathrm{Var}(X_t - X_0),\n",
    "$$\n",
    "\n",
    "where $X$ is the value such as gene expression, and $t$ is a spatial vector. $X_0$ is the value at a location of interest, and $X_t$ is the value lagged by $t$. With positive spatial autocorrelation, the variance would be smaller among nearby values, so the variogram would increase with distance, eventually leveling off when the distance is beyond the length scale of spatial autocorrelation. The \"semi\" comes from the 1/2, which comes from the assumption that the Gaussian process is weakly stationary, i.e. the covariance between two locations only depends on the spatial lag between them:\n",
    "\n",
    "$$\\begin{align}\n",
    "\\mathrm{Var}(X_{t_2} - X_{t_1}) &= \\mathrm{Var}(X_{t_2}) + \\mathrm{Var}(X_{t_1}) - 2\\mathrm{Cov}(X_{t_2}, X_{t_1}) \\\\\n",
    "&= 2\\rho(0) - 2\\rho(t_2 - t_1),\n",
    "\\end{align}$$\n",
    "\n",
    "where $\\rho$ is a covariance function and $t_1$ and $t_2$ are spatial locations. A model can be fitted to the empirical semivariogram, to model this $\\rho$. That the variance of differences between the value across locations only depends on the spatial lag means intrinsically stationary, which is even weaker and more generalizable than weakly stationary. The weaker assumption is used in kriging.\n",
    "\n",
    "This vignette demonstrates the variogram as an ESDA tool, including interpretation of the univariate variogram, anisotropic variograms (variograms in different directions), variogram maps, and bivariate cross variograms.\n",
    "\n",
    "Here we load the packages:"
   ]
  },
  {
   "cell_type": "code",
   "execution_count": null,
<<<<<<< HEAD
<<<<<<< HEAD
<<<<<<< HEAD
<<<<<<< HEAD
<<<<<<< HEAD
   "id": "715bc33e",
||||||| 11b9cb7
   "id": "94af359f",
=======
   "id": "1f6373df",
>>>>>>> documentation-devel
||||||| 614e9b1
   "id": "1f6373df",
=======
   "id": "4228d30c",
>>>>>>> documentation-devel
||||||| 856b4c0
<<<<<<< HEAD
   "id": "715bc33e",
||||||| 11b9cb7
   "id": "94af359f",
=======
   "id": "1f6373df",
>>>>>>> documentation-devel
=======
   "id": "e6928899",
>>>>>>> 552590ea8fad969b67afdba27558a1e6cb21016e
||||||| 452c944
   "id": "4228d30c",
=======
   "id": "73448c72",
>>>>>>> documentation-devel
||||||| 4da3324
<<<<<<< HEAD
<<<<<<< HEAD
<<<<<<< HEAD
   "id": "715bc33e",
||||||| 11b9cb7
   "id": "94af359f",
=======
   "id": "1f6373df",
>>>>>>> documentation-devel
||||||| 614e9b1
   "id": "1f6373df",
=======
   "id": "4228d30c",
>>>>>>> documentation-devel
||||||| 856b4c0
<<<<<<< HEAD
   "id": "715bc33e",
||||||| 11b9cb7
   "id": "94af359f",
=======
   "id": "1f6373df",
>>>>>>> documentation-devel
=======
   "id": "e6928899",
>>>>>>> 552590ea8fad969b67afdba27558a1e6cb21016e
=======
   "id": "08c7000c",
>>>>>>> b6e07d13baac92b2c1c9b43f8e4113ffa87bf495
   "metadata": {
    "message": false
   },
   "outputs": [],
   "source": [
    "library(Voyager)\n",
    "library(SFEData)\n",
    "library(SpatialFeatureExperiment)\n",
    "library(scater)\n",
    "library(scran)\n",
    "library(ggplot2)\n",
    "library(BiocParallel)\n",
    "library(bluster)\n",
    "library(dplyr)\n",
    "theme_set(theme_bw())"
   ]
  },
  {
   "cell_type": "markdown",
<<<<<<< HEAD
<<<<<<< HEAD
<<<<<<< HEAD
<<<<<<< HEAD
<<<<<<< HEAD
   "id": "421ab940",
||||||| 11b9cb7
   "id": "6b731d7c",
=======
   "id": "7db4fdfe",
>>>>>>> documentation-devel
||||||| 614e9b1
   "id": "7db4fdfe",
=======
   "id": "99163e77",
>>>>>>> documentation-devel
||||||| 856b4c0
<<<<<<< HEAD
   "id": "421ab940",
||||||| 11b9cb7
   "id": "6b731d7c",
=======
   "id": "7db4fdfe",
>>>>>>> documentation-devel
=======
   "id": "dc59b453",
>>>>>>> 552590ea8fad969b67afdba27558a1e6cb21016e
||||||| 452c944
   "id": "99163e77",
=======
   "id": "2de741e7",
>>>>>>> documentation-devel
||||||| 4da3324
<<<<<<< HEAD
<<<<<<< HEAD
<<<<<<< HEAD
   "id": "421ab940",
||||||| 11b9cb7
   "id": "6b731d7c",
=======
   "id": "7db4fdfe",
>>>>>>> documentation-devel
||||||| 614e9b1
   "id": "7db4fdfe",
=======
   "id": "99163e77",
>>>>>>> documentation-devel
||||||| 856b4c0
<<<<<<< HEAD
   "id": "421ab940",
||||||| 11b9cb7
   "id": "6b731d7c",
=======
   "id": "7db4fdfe",
>>>>>>> documentation-devel
=======
   "id": "dc59b453",
>>>>>>> 552590ea8fad969b67afdba27558a1e6cb21016e
=======
   "id": "44b8dd4f",
>>>>>>> b6e07d13baac92b2c1c9b43f8e4113ffa87bf495
   "metadata": {
    "lines_to_next_cell": 0
   },
   "source": [
    "The Slide-seq melanoma metastasis data [@Biermann2022-cu] is used for demonstration. QC is performed in [another vignette](https://pachterlab.github.io/voyager/articles/vig3_slideseq_v2.html)."
   ]
  },
  {
   "cell_type": "code",
   "execution_count": null,
<<<<<<< HEAD
<<<<<<< HEAD
<<<<<<< HEAD
<<<<<<< HEAD
<<<<<<< HEAD
   "id": "36038091",
||||||| 11b9cb7
   "id": "0008fd49",
=======
   "id": "2bb2fe8f",
>>>>>>> documentation-devel
||||||| 614e9b1
   "id": "2bb2fe8f",
=======
   "id": "4384815e",
>>>>>>> documentation-devel
||||||| 856b4c0
<<<<<<< HEAD
   "id": "36038091",
||||||| 11b9cb7
   "id": "0008fd49",
=======
   "id": "2bb2fe8f",
>>>>>>> documentation-devel
=======
   "id": "d818ba6f",
>>>>>>> 552590ea8fad969b67afdba27558a1e6cb21016e
||||||| 452c944
   "id": "4384815e",
=======
   "id": "16874474",
>>>>>>> documentation-devel
||||||| 4da3324
<<<<<<< HEAD
<<<<<<< HEAD
<<<<<<< HEAD
   "id": "36038091",
||||||| 11b9cb7
   "id": "0008fd49",
=======
   "id": "2bb2fe8f",
>>>>>>> documentation-devel
||||||| 614e9b1
   "id": "2bb2fe8f",
=======
   "id": "4384815e",
>>>>>>> documentation-devel
||||||| 856b4c0
<<<<<<< HEAD
   "id": "36038091",
||||||| 11b9cb7
   "id": "0008fd49",
=======
   "id": "2bb2fe8f",
>>>>>>> documentation-devel
=======
   "id": "d818ba6f",
>>>>>>> 552590ea8fad969b67afdba27558a1e6cb21016e
=======
   "id": "c31bd25f",
>>>>>>> b6e07d13baac92b2c1c9b43f8e4113ffa87bf495
   "metadata": {},
   "outputs": [],
   "source": [
    "(sfe <- BiermannMelaMetasData(dataset = \"MBM05_rep1\"))"
   ]
  },
  {
   "cell_type": "code",
   "execution_count": null,
<<<<<<< HEAD
<<<<<<< HEAD
<<<<<<< HEAD
<<<<<<< HEAD
<<<<<<< HEAD
   "id": "41ce5330",
||||||| 11b9cb7
   "id": "7f93a348",
=======
   "id": "5bf86f9f",
>>>>>>> documentation-devel
||||||| 614e9b1
   "id": "5bf86f9f",
=======
   "id": "0b4ef595",
>>>>>>> documentation-devel
||||||| 856b4c0
<<<<<<< HEAD
   "id": "41ce5330",
||||||| 11b9cb7
   "id": "7f93a348",
=======
   "id": "5bf86f9f",
>>>>>>> documentation-devel
=======
   "id": "ec720a5b",
>>>>>>> 552590ea8fad969b67afdba27558a1e6cb21016e
||||||| 452c944
   "id": "0b4ef595",
=======
   "id": "9c05c1f7",
>>>>>>> documentation-devel
||||||| 4da3324
<<<<<<< HEAD
<<<<<<< HEAD
<<<<<<< HEAD
   "id": "41ce5330",
||||||| 11b9cb7
   "id": "7f93a348",
=======
   "id": "5bf86f9f",
>>>>>>> documentation-devel
||||||| 614e9b1
   "id": "5bf86f9f",
=======
   "id": "0b4ef595",
>>>>>>> documentation-devel
||||||| 856b4c0
<<<<<<< HEAD
   "id": "41ce5330",
||||||| 11b9cb7
   "id": "7f93a348",
=======
   "id": "5bf86f9f",
>>>>>>> documentation-devel
=======
   "id": "ec720a5b",
>>>>>>> 552590ea8fad969b67afdba27558a1e6cb21016e
=======
   "id": "1ea3ce1a",
>>>>>>> b6e07d13baac92b2c1c9b43f8e4113ffa87bf495
   "metadata": {},
   "outputs": [],
   "source": [
    "sfe <- sfe[, colData(sfe)$prop_mito < 0.1]\n",
    "sfe <- sfe[rowSums(counts(sfe)) > 0,]"
   ]
  },
  {
   "cell_type": "code",
   "execution_count": null,
<<<<<<< HEAD
<<<<<<< HEAD
<<<<<<< HEAD
<<<<<<< HEAD
<<<<<<< HEAD
   "id": "8b3f366a",
||||||| 11b9cb7
   "id": "30a2392d",
=======
   "id": "697ef815",
>>>>>>> documentation-devel
||||||| 614e9b1
   "id": "697ef815",
=======
   "id": "b304cd34",
>>>>>>> documentation-devel
||||||| 856b4c0
<<<<<<< HEAD
   "id": "8b3f366a",
||||||| 11b9cb7
   "id": "30a2392d",
=======
   "id": "697ef815",
>>>>>>> documentation-devel
=======
   "id": "f2bedb48",
>>>>>>> 552590ea8fad969b67afdba27558a1e6cb21016e
||||||| 452c944
   "id": "b304cd34",
=======
   "id": "d5178cae",
>>>>>>> documentation-devel
||||||| 4da3324
<<<<<<< HEAD
<<<<<<< HEAD
<<<<<<< HEAD
   "id": "8b3f366a",
||||||| 11b9cb7
   "id": "30a2392d",
=======
   "id": "697ef815",
>>>>>>> documentation-devel
||||||| 614e9b1
   "id": "697ef815",
=======
   "id": "b304cd34",
>>>>>>> documentation-devel
||||||| 856b4c0
<<<<<<< HEAD
   "id": "8b3f366a",
||||||| 11b9cb7
   "id": "30a2392d",
=======
   "id": "697ef815",
>>>>>>> documentation-devel
=======
   "id": "f2bedb48",
>>>>>>> 552590ea8fad969b67afdba27558a1e6cb21016e
=======
   "id": "20d8ff08",
>>>>>>> b6e07d13baac92b2c1c9b43f8e4113ffa87bf495
   "metadata": {},
   "outputs": [],
   "source": [
    "sfe <- logNormCounts(sfe)"
   ]
  },
  {
   "cell_type": "markdown",
<<<<<<< HEAD
<<<<<<< HEAD
<<<<<<< HEAD
<<<<<<< HEAD
<<<<<<< HEAD
   "id": "8309556f",
||||||| 11b9cb7
   "id": "0d129e7c",
=======
   "id": "f1554c8e",
>>>>>>> documentation-devel
||||||| 614e9b1
   "id": "f1554c8e",
=======
   "id": "a1e12209",
>>>>>>> documentation-devel
||||||| 856b4c0
<<<<<<< HEAD
   "id": "8309556f",
||||||| 11b9cb7
   "id": "0d129e7c",
=======
   "id": "f1554c8e",
>>>>>>> documentation-devel
=======
   "id": "b26d487e",
>>>>>>> 552590ea8fad969b67afdba27558a1e6cb21016e
||||||| 452c944
   "id": "a1e12209",
=======
   "id": "22920bf1",
>>>>>>> documentation-devel
||||||| 4da3324
<<<<<<< HEAD
<<<<<<< HEAD
<<<<<<< HEAD
   "id": "8309556f",
||||||| 11b9cb7
   "id": "0d129e7c",
=======
   "id": "f1554c8e",
>>>>>>> documentation-devel
||||||| 614e9b1
   "id": "f1554c8e",
=======
   "id": "a1e12209",
>>>>>>> documentation-devel
||||||| 856b4c0
<<<<<<< HEAD
   "id": "8309556f",
||||||| 11b9cb7
   "id": "0d129e7c",
=======
   "id": "f1554c8e",
>>>>>>> documentation-devel
=======
   "id": "b26d487e",
>>>>>>> 552590ea8fad969b67afdba27558a1e6cb21016e
=======
   "id": "c78edcf5",
>>>>>>> b6e07d13baac92b2c1c9b43f8e4113ffa87bf495
   "metadata": {
    "lines_to_next_cell": 0
   },
   "source": [
    "Variograms will be demonstrated on some of the top highly variable genes (HVGs)"
   ]
  },
  {
   "cell_type": "code",
   "execution_count": null,
<<<<<<< HEAD
<<<<<<< HEAD
<<<<<<< HEAD
<<<<<<< HEAD
<<<<<<< HEAD
   "id": "2d7b43f5",
||||||| 11b9cb7
   "id": "66753af0",
=======
   "id": "2045c2eb",
>>>>>>> documentation-devel
||||||| 614e9b1
   "id": "2045c2eb",
=======
   "id": "067f98a3",
>>>>>>> documentation-devel
||||||| 856b4c0
<<<<<<< HEAD
   "id": "2d7b43f5",
||||||| 11b9cb7
   "id": "66753af0",
=======
   "id": "2045c2eb",
>>>>>>> documentation-devel
=======
   "id": "ae38049d",
>>>>>>> 552590ea8fad969b67afdba27558a1e6cb21016e
||||||| 452c944
   "id": "067f98a3",
=======
   "id": "31bb104f",
>>>>>>> documentation-devel
||||||| 4da3324
<<<<<<< HEAD
<<<<<<< HEAD
<<<<<<< HEAD
   "id": "2d7b43f5",
||||||| 11b9cb7
   "id": "66753af0",
=======
   "id": "2045c2eb",
>>>>>>> documentation-devel
||||||| 614e9b1
   "id": "2045c2eb",
=======
   "id": "067f98a3",
>>>>>>> documentation-devel
||||||| 856b4c0
<<<<<<< HEAD
   "id": "2d7b43f5",
||||||| 11b9cb7
   "id": "66753af0",
=======
   "id": "2045c2eb",
>>>>>>> documentation-devel
=======
   "id": "ae38049d",
>>>>>>> 552590ea8fad969b67afdba27558a1e6cb21016e
=======
   "id": "63d430c6",
>>>>>>> b6e07d13baac92b2c1c9b43f8e4113ffa87bf495
   "metadata": {},
   "outputs": [],
   "source": [
    "dec <- modelGeneVar(sfe)\n",
    "hvgs <- getTopHVGs(dec, n = 50)"
   ]
  },
  {
   "cell_type": "markdown",
<<<<<<< HEAD
<<<<<<< HEAD
<<<<<<< HEAD
<<<<<<< HEAD
<<<<<<< HEAD
   "id": "64626560",
||||||| 11b9cb7
   "id": "3528f58d",
=======
   "id": "779d83f5",
>>>>>>> documentation-devel
||||||| 614e9b1
   "id": "779d83f5",
=======
   "id": "cf1a2aed",
>>>>>>> documentation-devel
||||||| 856b4c0
<<<<<<< HEAD
   "id": "64626560",
||||||| 11b9cb7
   "id": "3528f58d",
=======
   "id": "779d83f5",
>>>>>>> documentation-devel
=======
   "id": "930960ec",
>>>>>>> 552590ea8fad969b67afdba27558a1e6cb21016e
||||||| 452c944
   "id": "cf1a2aed",
=======
   "id": "21db5742",
>>>>>>> documentation-devel
||||||| 4da3324
<<<<<<< HEAD
<<<<<<< HEAD
<<<<<<< HEAD
   "id": "64626560",
||||||| 11b9cb7
   "id": "3528f58d",
=======
   "id": "779d83f5",
>>>>>>> documentation-devel
||||||| 614e9b1
   "id": "779d83f5",
=======
   "id": "cf1a2aed",
>>>>>>> documentation-devel
||||||| 856b4c0
<<<<<<< HEAD
   "id": "64626560",
||||||| 11b9cb7
   "id": "3528f58d",
=======
   "id": "779d83f5",
>>>>>>> documentation-devel
=======
   "id": "930960ec",
>>>>>>> 552590ea8fad969b67afdba27558a1e6cb21016e
=======
   "id": "1e8a4866",
>>>>>>> b6e07d13baac92b2c1c9b43f8e4113ffa87bf495
   "metadata": {},
   "source": [
    "# Variogram\n",
    "The same user interface used to run Moran's I can be used to compute variograms. However, since the variogram uses spatial distances instead of spatial neighborhood graph, the `colGraph` does not need to be specified. Instead, a `colGeometry` can be specified, and if the geometry is not `POINT`, then `spatialCoords(sfe)` will be used to compute the distances. Behind the scene, the [`automap`](https://github.com/cran/automap/tree/master) package is used, which fits a number of different variogram models to the empirical variogram and chooses one that fits the best. The `automap` package is a user friendly wrapper of `gstat`, a time honored package for geostatistics."
   ]
  },
  {
   "cell_type": "code",
   "execution_count": null,
<<<<<<< HEAD
<<<<<<< HEAD
<<<<<<< HEAD
<<<<<<< HEAD
<<<<<<< HEAD
   "id": "cd411b51",
||||||| 11b9cb7
   "id": "0c211bf1",
=======
   "id": "2e80b0f8",
>>>>>>> documentation-devel
||||||| 614e9b1
   "id": "2e80b0f8",
=======
   "id": "241f5da8",
>>>>>>> documentation-devel
||||||| 856b4c0
<<<<<<< HEAD
   "id": "cd411b51",
||||||| 11b9cb7
   "id": "0c211bf1",
=======
   "id": "2e80b0f8",
>>>>>>> documentation-devel
=======
   "id": "5c4c187e",
>>>>>>> 552590ea8fad969b67afdba27558a1e6cb21016e
||||||| 452c944
   "id": "241f5da8",
=======
   "id": "8026731c",
>>>>>>> documentation-devel
||||||| 4da3324
<<<<<<< HEAD
<<<<<<< HEAD
<<<<<<< HEAD
   "id": "cd411b51",
||||||| 11b9cb7
   "id": "0c211bf1",
=======
   "id": "2e80b0f8",
>>>>>>> documentation-devel
||||||| 614e9b1
   "id": "2e80b0f8",
=======
   "id": "241f5da8",
>>>>>>> documentation-devel
||||||| 856b4c0
<<<<<<< HEAD
   "id": "cd411b51",
||||||| 11b9cb7
   "id": "0c211bf1",
=======
   "id": "2e80b0f8",
>>>>>>> documentation-devel
=======
   "id": "5c4c187e",
>>>>>>> 552590ea8fad969b67afdba27558a1e6cb21016e
=======
   "id": "fd0d85ee",
>>>>>>> b6e07d13baac92b2c1c9b43f8e4113ffa87bf495
   "metadata": {},
   "outputs": [],
   "source": [
    "sfe <- runUnivariate(sfe, \"variogram\", hvgs, BPPARAM = SnowParam(2),\n",
    "                     model = \"Ste\")"
   ]
  },
  {
   "cell_type": "code",
   "execution_count": null,
<<<<<<< HEAD
<<<<<<< HEAD
<<<<<<< HEAD
<<<<<<< HEAD
<<<<<<< HEAD
   "id": "dc37fc67",
||||||| 11b9cb7
   "id": "84d86c15",
=======
   "id": "9c084a73",
>>>>>>> documentation-devel
||||||| 614e9b1
   "id": "9c084a73",
=======
   "id": "382ad7db",
>>>>>>> documentation-devel
||||||| 856b4c0
<<<<<<< HEAD
   "id": "dc37fc67",
||||||| 11b9cb7
   "id": "84d86c15",
=======
   "id": "9c084a73",
>>>>>>> documentation-devel
=======
   "id": "d2e36d96",
>>>>>>> 552590ea8fad969b67afdba27558a1e6cb21016e
||||||| 452c944
   "id": "382ad7db",
=======
   "id": "502c19cd",
>>>>>>> documentation-devel
||||||| 4da3324
<<<<<<< HEAD
<<<<<<< HEAD
<<<<<<< HEAD
   "id": "dc37fc67",
||||||| 11b9cb7
   "id": "84d86c15",
=======
   "id": "9c084a73",
>>>>>>> documentation-devel
||||||| 614e9b1
   "id": "9c084a73",
=======
   "id": "382ad7db",
>>>>>>> documentation-devel
||||||| 856b4c0
<<<<<<< HEAD
   "id": "dc37fc67",
||||||| 11b9cb7
   "id": "84d86c15",
=======
   "id": "9c084a73",
>>>>>>> documentation-devel
=======
   "id": "d2e36d96",
>>>>>>> 552590ea8fad969b67afdba27558a1e6cb21016e
=======
   "id": "159ee929",
>>>>>>> b6e07d13baac92b2c1c9b43f8e4113ffa87bf495
   "metadata": {},
   "outputs": [],
   "source": [
    "plotVariogram(sfe, hvgs[1:4], name = \"variogram\")"
   ]
  },
  {
   "cell_type": "markdown",
<<<<<<< HEAD
<<<<<<< HEAD
<<<<<<< HEAD
<<<<<<< HEAD
<<<<<<< HEAD
   "id": "e603f80f",
||||||| 11b9cb7
   "id": "625a77c3",
=======
   "id": "7362e01f",
>>>>>>> documentation-devel
||||||| 614e9b1
   "id": "7362e01f",
=======
   "id": "0ddc0597",
>>>>>>> documentation-devel
||||||| 856b4c0
<<<<<<< HEAD
   "id": "e603f80f",
||||||| 11b9cb7
   "id": "625a77c3",
=======
   "id": "7362e01f",
>>>>>>> documentation-devel
=======
   "id": "c700d68e",
>>>>>>> 552590ea8fad969b67afdba27558a1e6cb21016e
||||||| 452c944
   "id": "0ddc0597",
=======
   "id": "6d74bfbf",
>>>>>>> documentation-devel
||||||| 4da3324
<<<<<<< HEAD
<<<<<<< HEAD
<<<<<<< HEAD
   "id": "e603f80f",
||||||| 11b9cb7
   "id": "625a77c3",
=======
   "id": "7362e01f",
>>>>>>> documentation-devel
||||||| 614e9b1
   "id": "7362e01f",
=======
   "id": "0ddc0597",
>>>>>>> documentation-devel
||||||| 856b4c0
<<<<<<< HEAD
   "id": "e603f80f",
||||||| 11b9cb7
   "id": "625a77c3",
=======
   "id": "7362e01f",
>>>>>>> documentation-devel
=======
   "id": "c700d68e",
>>>>>>> 552590ea8fad969b67afdba27558a1e6cb21016e
=======
   "id": "daf9a921",
>>>>>>> b6e07d13baac92b2c1c9b43f8e4113ffa87bf495
   "metadata": {},
   "source": [
    "The data is binned by distance between spots and the variance is computed for each bin. While `gstat`'s plotting functions say \"semivariance\", because the data is scaled so the variance is 1, I do think the variance rather than semivariance is plotted. The numbers by the points in the plot indicate the number of pairs of spots in each bin. \"Ste\" means the Matern model with M. Stein's parameterization was fitted to the points. \n",
    "\n",
    "Nugget is the variance at distance 0, or variance within the first distance bin. The data is scaled by default prior to variogram computation to make the variograms for multiple genes comparable. \n",
    "\n",
    "Spatial autocorrelation makes the variance smaller at shorter distances. When the variogram levels off, it means that spatial autocorrelation no longer has an effect at this distance. Sill is the variance where the variogram levels off. Range is the distance where the variogram levels off. \n",
    "\n",
    "In the first 4 genes, IGHG3 and IGKC seem to have stronger spatial autocorrelation that dissipate in 100 to 200 units (whether it's microns or pixels is unclear from the publication), whereas spatial autocorrelation of B2M and MT-RNR1 is much weaker and has longer length scale. \n",
    "\n",
    "Here the genes are plotted in space:"
   ]
  },
  {
   "cell_type": "code",
   "execution_count": null,
<<<<<<< HEAD
<<<<<<< HEAD
<<<<<<< HEAD
<<<<<<< HEAD
<<<<<<< HEAD
   "id": "737dc515",
||||||| 11b9cb7
   "id": "d29b402b",
=======
   "id": "6416a398",
>>>>>>> documentation-devel
||||||| 614e9b1
   "id": "6416a398",
=======
   "id": "bbd44438",
>>>>>>> documentation-devel
||||||| 856b4c0
<<<<<<< HEAD
   "id": "737dc515",
||||||| 11b9cb7
   "id": "d29b402b",
=======
   "id": "6416a398",
>>>>>>> documentation-devel
=======
   "id": "3e5c09e9",
>>>>>>> 552590ea8fad969b67afdba27558a1e6cb21016e
||||||| 452c944
   "id": "bbd44438",
=======
   "id": "7cc99eb0",
>>>>>>> documentation-devel
||||||| 4da3324
<<<<<<< HEAD
<<<<<<< HEAD
<<<<<<< HEAD
   "id": "737dc515",
||||||| 11b9cb7
   "id": "d29b402b",
=======
   "id": "6416a398",
>>>>>>> documentation-devel
||||||| 614e9b1
   "id": "6416a398",
=======
   "id": "bbd44438",
>>>>>>> documentation-devel
||||||| 856b4c0
<<<<<<< HEAD
   "id": "737dc515",
||||||| 11b9cb7
   "id": "d29b402b",
=======
   "id": "6416a398",
>>>>>>> documentation-devel
=======
   "id": "3e5c09e9",
>>>>>>> 552590ea8fad969b67afdba27558a1e6cb21016e
=======
   "id": "bcd46ab7",
>>>>>>> b6e07d13baac92b2c1c9b43f8e4113ffa87bf495
   "metadata": {
    "fig.height": 6,
    "fig.width": 9
   },
   "outputs": [],
   "source": [
    "plotSpatialFeature(sfe, hvgs[1:4], size = 0.3) & \n",
    "    theme_bw() # To show the length units"
   ]
  },
  {
   "cell_type": "markdown",
<<<<<<< HEAD
<<<<<<< HEAD
<<<<<<< HEAD
<<<<<<< HEAD
<<<<<<< HEAD
   "id": "c12b871a",
||||||| 11b9cb7
   "id": "345bd742",
=======
   "id": "43639539",
>>>>>>> documentation-devel
||||||| 614e9b1
   "id": "43639539",
=======
   "id": "e4008f6f",
>>>>>>> documentation-devel
||||||| 856b4c0
<<<<<<< HEAD
   "id": "c12b871a",
||||||| 11b9cb7
   "id": "345bd742",
=======
   "id": "43639539",
>>>>>>> documentation-devel
=======
   "id": "48fa14b5",
>>>>>>> 552590ea8fad969b67afdba27558a1e6cb21016e
||||||| 452c944
   "id": "e4008f6f",
=======
   "id": "a55967af",
>>>>>>> documentation-devel
||||||| 4da3324
<<<<<<< HEAD
<<<<<<< HEAD
<<<<<<< HEAD
   "id": "c12b871a",
||||||| 11b9cb7
   "id": "345bd742",
=======
   "id": "43639539",
>>>>>>> documentation-devel
||||||| 614e9b1
   "id": "43639539",
=======
   "id": "e4008f6f",
>>>>>>> documentation-devel
||||||| 856b4c0
<<<<<<< HEAD
   "id": "c12b871a",
||||||| 11b9cb7
   "id": "345bd742",
=======
   "id": "43639539",
>>>>>>> documentation-devel
=======
   "id": "48fa14b5",
>>>>>>> 552590ea8fad969b67afdba27558a1e6cb21016e
=======
   "id": "8f0f6c70",
>>>>>>> b6e07d13baac92b2c1c9b43f8e4113ffa87bf495
   "metadata": {
    "lines_to_next_cell": 0
   },
   "source": [
    "The length scales of spatial autocorrelation for these genes are quite obvious from just plotting the genes. Then what's the point of plotting variograms for ESDA? We can also compute variograms for a larger number of genes and cluster the variograms for patterns in spatial autocorrelation length scales, or compare variograms of the same genes across different samples. Here we cluster the variograms for top highly variable genes (HVGs):\n",
    "\n",
    "The `BLUSPARAM` argument is used to specify methods of clustering, as implemented in the `bluster` package. Here we use hierarchical clustering."
   ]
  },
  {
   "cell_type": "code",
   "execution_count": null,
<<<<<<< HEAD
<<<<<<< HEAD
<<<<<<< HEAD
<<<<<<< HEAD
<<<<<<< HEAD
   "id": "0728c42c",
||||||| 11b9cb7
   "id": "fbba061e",
=======
   "id": "e178ebab",
>>>>>>> documentation-devel
||||||| 614e9b1
   "id": "e178ebab",
=======
   "id": "1f0b9776",
>>>>>>> documentation-devel
||||||| 856b4c0
<<<<<<< HEAD
   "id": "0728c42c",
||||||| 11b9cb7
   "id": "fbba061e",
=======
   "id": "e178ebab",
>>>>>>> documentation-devel
=======
   "id": "3eac9cbc",
>>>>>>> 552590ea8fad969b67afdba27558a1e6cb21016e
||||||| 452c944
   "id": "1f0b9776",
=======
   "id": "aeaea85f",
>>>>>>> documentation-devel
||||||| 4da3324
<<<<<<< HEAD
<<<<<<< HEAD
<<<<<<< HEAD
   "id": "0728c42c",
||||||| 11b9cb7
   "id": "fbba061e",
=======
   "id": "e178ebab",
>>>>>>> documentation-devel
||||||| 614e9b1
   "id": "e178ebab",
=======
   "id": "1f0b9776",
>>>>>>> documentation-devel
||||||| 856b4c0
<<<<<<< HEAD
   "id": "0728c42c",
||||||| 11b9cb7
   "id": "fbba061e",
=======
   "id": "e178ebab",
>>>>>>> documentation-devel
=======
   "id": "3eac9cbc",
>>>>>>> 552590ea8fad969b67afdba27558a1e6cb21016e
=======
   "id": "6175ba7f",
>>>>>>> b6e07d13baac92b2c1c9b43f8e4113ffa87bf495
   "metadata": {},
   "outputs": [],
   "source": [
    "clusts <- clusterVariograms(sfe, hvgs, BLUSPARAM = HclustParam())"
   ]
  },
  {
   "cell_type": "markdown",
<<<<<<< HEAD
<<<<<<< HEAD
<<<<<<< HEAD
<<<<<<< HEAD
<<<<<<< HEAD
   "id": "26004e88",
||||||| 11b9cb7
   "id": "d95f5035",
=======
   "id": "f8790fc9",
>>>>>>> documentation-devel
||||||| 614e9b1
   "id": "f8790fc9",
=======
   "id": "91724f38",
>>>>>>> documentation-devel
||||||| 856b4c0
<<<<<<< HEAD
   "id": "26004e88",
||||||| 11b9cb7
   "id": "d95f5035",
=======
   "id": "f8790fc9",
>>>>>>> documentation-devel
=======
   "id": "a118aa8c",
>>>>>>> 552590ea8fad969b67afdba27558a1e6cb21016e
||||||| 452c944
   "id": "91724f38",
=======
   "id": "70b3d738",
>>>>>>> documentation-devel
||||||| 4da3324
<<<<<<< HEAD
<<<<<<< HEAD
<<<<<<< HEAD
   "id": "26004e88",
||||||| 11b9cb7
   "id": "d95f5035",
=======
   "id": "f8790fc9",
>>>>>>> documentation-devel
||||||| 614e9b1
   "id": "f8790fc9",
=======
   "id": "91724f38",
>>>>>>> documentation-devel
||||||| 856b4c0
<<<<<<< HEAD
   "id": "26004e88",
||||||| 11b9cb7
   "id": "d95f5035",
=======
   "id": "f8790fc9",
>>>>>>> documentation-devel
=======
   "id": "a118aa8c",
>>>>>>> 552590ea8fad969b67afdba27558a1e6cb21016e
=======
   "id": "887467c1",
>>>>>>> b6e07d13baac92b2c1c9b43f8e4113ffa87bf495
   "metadata": {
    "lines_to_next_cell": 0
   },
   "source": [
    "Then plot the clusters:"
   ]
  },
  {
   "cell_type": "code",
   "execution_count": null,
<<<<<<< HEAD
<<<<<<< HEAD
<<<<<<< HEAD
<<<<<<< HEAD
<<<<<<< HEAD
   "id": "fc473030",
||||||| 11b9cb7
   "id": "0a966549",
=======
   "id": "e17c40dd",
>>>>>>> documentation-devel
||||||| 614e9b1
   "id": "e17c40dd",
=======
   "id": "0e1833b3",
>>>>>>> documentation-devel
||||||| 856b4c0
<<<<<<< HEAD
   "id": "fc473030",
||||||| 11b9cb7
   "id": "0a966549",
=======
   "id": "e17c40dd",
>>>>>>> documentation-devel
=======
   "id": "af2709a6",
>>>>>>> 552590ea8fad969b67afdba27558a1e6cb21016e
||||||| 452c944
   "id": "0e1833b3",
=======
   "id": "d7bbead0",
>>>>>>> documentation-devel
||||||| 4da3324
<<<<<<< HEAD
<<<<<<< HEAD
<<<<<<< HEAD
   "id": "fc473030",
||||||| 11b9cb7
   "id": "0a966549",
=======
   "id": "e17c40dd",
>>>>>>> documentation-devel
||||||| 614e9b1
   "id": "e17c40dd",
=======
   "id": "0e1833b3",
>>>>>>> documentation-devel
||||||| 856b4c0
<<<<<<< HEAD
   "id": "fc473030",
||||||| 11b9cb7
   "id": "0a966549",
=======
   "id": "e17c40dd",
>>>>>>> documentation-devel
=======
   "id": "af2709a6",
>>>>>>> 552590ea8fad969b67afdba27558a1e6cb21016e
=======
   "id": "2d396046",
>>>>>>> b6e07d13baac92b2c1c9b43f8e4113ffa87bf495
   "metadata": {},
   "outputs": [],
   "source": [
    "plotVariogram(sfe, hvgs, color_by = clusts, group = \"feature\", use_lty = FALSE,\n",
    "              show_np = FALSE)"
   ]
  },
  {
   "cell_type": "markdown",
<<<<<<< HEAD
<<<<<<< HEAD
<<<<<<< HEAD
<<<<<<< HEAD
<<<<<<< HEAD
   "id": "6f7619ef",
||||||| 11b9cb7
   "id": "4304aece",
=======
   "id": "f23db25f",
>>>>>>> documentation-devel
||||||| 614e9b1
   "id": "f23db25f",
=======
   "id": "4ce8e23f",
>>>>>>> documentation-devel
||||||| 856b4c0
<<<<<<< HEAD
   "id": "6f7619ef",
||||||| 11b9cb7
   "id": "4304aece",
=======
   "id": "f23db25f",
>>>>>>> documentation-devel
=======
   "id": "0ef0022f",
>>>>>>> 552590ea8fad969b67afdba27558a1e6cb21016e
||||||| 452c944
   "id": "4ce8e23f",
=======
   "id": "7f351a1b",
>>>>>>> documentation-devel
||||||| 4da3324
<<<<<<< HEAD
<<<<<<< HEAD
<<<<<<< HEAD
   "id": "6f7619ef",
||||||| 11b9cb7
   "id": "4304aece",
=======
   "id": "f23db25f",
>>>>>>> documentation-devel
||||||| 614e9b1
   "id": "f23db25f",
=======
   "id": "4ce8e23f",
>>>>>>> documentation-devel
||||||| 856b4c0
<<<<<<< HEAD
   "id": "6f7619ef",
||||||| 11b9cb7
   "id": "4304aece",
=======
   "id": "f23db25f",
>>>>>>> documentation-devel
=======
   "id": "0ef0022f",
>>>>>>> 552590ea8fad969b67afdba27558a1e6cb21016e
=======
   "id": "7b65cdd6",
>>>>>>> b6e07d13baac92b2c1c9b43f8e4113ffa87bf495
   "metadata": {
    "lines_to_next_cell": 0
   },
   "source": [
    "It seems that there are many genes, like MT-RNR1, with weak spatial autocorrelation over longer length scales, genes with stronger and shorter range spatial autocorrelation (around 150 to 200 units) like IGKC, and genes with somewhat longer length scale of spatial autocorrelation (around 400 units).\n",
    "\n",
    "Plot one gene from each cluster in space:"
   ]
  },
  {
   "cell_type": "code",
   "execution_count": null,
<<<<<<< HEAD
<<<<<<< HEAD
<<<<<<< HEAD
<<<<<<< HEAD
<<<<<<< HEAD
   "id": "21a2c71b",
||||||| 11b9cb7
   "id": "a5c811e3",
=======
   "id": "cd4d0b9d",
>>>>>>> documentation-devel
||||||| 614e9b1
   "id": "cd4d0b9d",
=======
   "id": "50f2fd08",
>>>>>>> documentation-devel
||||||| 856b4c0
<<<<<<< HEAD
   "id": "21a2c71b",
||||||| 11b9cb7
   "id": "a5c811e3",
=======
   "id": "cd4d0b9d",
>>>>>>> documentation-devel
=======
   "id": "2fa55fb6",
>>>>>>> 552590ea8fad969b67afdba27558a1e6cb21016e
||||||| 452c944
   "id": "50f2fd08",
=======
   "id": "f0d7dd44",
>>>>>>> documentation-devel
||||||| 4da3324
<<<<<<< HEAD
<<<<<<< HEAD
<<<<<<< HEAD
   "id": "21a2c71b",
||||||| 11b9cb7
   "id": "a5c811e3",
=======
   "id": "cd4d0b9d",
>>>>>>> documentation-devel
||||||| 614e9b1
   "id": "cd4d0b9d",
=======
   "id": "50f2fd08",
>>>>>>> documentation-devel
||||||| 856b4c0
<<<<<<< HEAD
   "id": "21a2c71b",
||||||| 11b9cb7
   "id": "a5c811e3",
=======
   "id": "cd4d0b9d",
>>>>>>> documentation-devel
=======
   "id": "2fa55fb6",
>>>>>>> 552590ea8fad969b67afdba27558a1e6cb21016e
=======
   "id": "a98c2962",
>>>>>>> b6e07d13baac92b2c1c9b43f8e4113ffa87bf495
   "metadata": {},
   "outputs": [],
   "source": [
    "genes_clusts <- clusts |> \n",
    "    group_by(cluster) |> \n",
    "    slice_head(n = 1) |> \n",
    "    pull(feature)"
   ]
  },
  {
   "cell_type": "code",
   "execution_count": null,
<<<<<<< HEAD
<<<<<<< HEAD
<<<<<<< HEAD
<<<<<<< HEAD
<<<<<<< HEAD
   "id": "af92f055",
||||||| 11b9cb7
   "id": "06218d8d",
=======
   "id": "1dcda740",
>>>>>>> documentation-devel
||||||| 614e9b1
   "id": "1dcda740",
=======
   "id": "7046bf5e",
>>>>>>> documentation-devel
||||||| 856b4c0
<<<<<<< HEAD
   "id": "af92f055",
||||||| 11b9cb7
   "id": "06218d8d",
=======
   "id": "1dcda740",
>>>>>>> documentation-devel
=======
   "id": "c7ff9141",
>>>>>>> 552590ea8fad969b67afdba27558a1e6cb21016e
||||||| 452c944
   "id": "7046bf5e",
=======
   "id": "5db4e1d0",
>>>>>>> documentation-devel
||||||| 4da3324
<<<<<<< HEAD
<<<<<<< HEAD
<<<<<<< HEAD
   "id": "af92f055",
||||||| 11b9cb7
   "id": "06218d8d",
=======
   "id": "1dcda740",
>>>>>>> documentation-devel
||||||| 614e9b1
   "id": "1dcda740",
=======
   "id": "7046bf5e",
>>>>>>> documentation-devel
||||||| 856b4c0
<<<<<<< HEAD
   "id": "af92f055",
||||||| 11b9cb7
   "id": "06218d8d",
=======
   "id": "1dcda740",
>>>>>>> documentation-devel
=======
   "id": "c7ff9141",
>>>>>>> 552590ea8fad969b67afdba27558a1e6cb21016e
=======
   "id": "f83dc13e",
>>>>>>> b6e07d13baac92b2c1c9b43f8e4113ffa87bf495
   "metadata": {
    "fig.height": 6,
    "fig.width": 10
   },
   "outputs": [],
   "source": [
    "plotSpatialFeature(sfe, genes_clusts, size = 0.3)"
   ]
  },
  {
   "cell_type": "markdown",
<<<<<<< HEAD
<<<<<<< HEAD
<<<<<<< HEAD
<<<<<<< HEAD
<<<<<<< HEAD
   "id": "38de5299",
||||||| 11b9cb7
   "id": "cc979dcd",
=======
   "id": "c2854f49",
>>>>>>> documentation-devel
||||||| 614e9b1
   "id": "c2854f49",
=======
   "id": "e74abe67",
>>>>>>> documentation-devel
||||||| 856b4c0
<<<<<<< HEAD
   "id": "38de5299",
||||||| 11b9cb7
   "id": "cc979dcd",
=======
   "id": "c2854f49",
>>>>>>> documentation-devel
=======
   "id": "11f3cbd9",
>>>>>>> 552590ea8fad969b67afdba27558a1e6cb21016e
||||||| 452c944
   "id": "e74abe67",
=======
   "id": "871f030f",
>>>>>>> documentation-devel
||||||| 4da3324
<<<<<<< HEAD
<<<<<<< HEAD
<<<<<<< HEAD
   "id": "38de5299",
||||||| 11b9cb7
   "id": "cc979dcd",
=======
   "id": "c2854f49",
>>>>>>> documentation-devel
||||||| 614e9b1
   "id": "c2854f49",
=======
   "id": "e74abe67",
>>>>>>> documentation-devel
||||||| 856b4c0
<<<<<<< HEAD
   "id": "38de5299",
||||||| 11b9cb7
   "id": "cc979dcd",
=======
   "id": "c2854f49",
>>>>>>> documentation-devel
=======
   "id": "11f3cbd9",
>>>>>>> 552590ea8fad969b67afdba27558a1e6cb21016e
=======
   "id": "a4d939dc",
>>>>>>> b6e07d13baac92b2c1c9b43f8e4113ffa87bf495
   "metadata": {},
   "source": [
    "MT-RNR1 is more widely expressed. IGKC and ICHC3 are restricted to smaller areas, and IGHM is restricted to even smaller areas. Note that genes with variograms in the same cluster don't have to be co-expressed; they only need to have similar length scales and strengths of spatial autocorrelation.\n",
    "\n",
    "# Anisotropy\n",
    "Anisotropy means different in different directions. An example is the cerebral cortex, which has a layered structure. The variogram can be computed in different directions.\n",
    "\n",
    "## Anisotropic variogram\n",
    "The directions on which to compute variograms can be explicitly specified, in the `alpha` argument. However, since `gstat` does not fit anisotropic variograms, the model is fitted to all directions and the empirical variograms at each angle are plotted separately. Here we compute anisotropic variograms for the 4 genes above:"
   ]
  },
  {
   "cell_type": "code",
   "execution_count": null,
<<<<<<< HEAD
<<<<<<< HEAD
<<<<<<< HEAD
<<<<<<< HEAD
<<<<<<< HEAD
   "id": "9be288d8",
||||||| 11b9cb7
   "id": "1bf3f4e1",
=======
   "id": "c4c8567a",
>>>>>>> documentation-devel
||||||| 614e9b1
   "id": "c4c8567a",
=======
   "id": "fade845e",
>>>>>>> documentation-devel
||||||| 856b4c0
<<<<<<< HEAD
   "id": "9be288d8",
||||||| 11b9cb7
   "id": "1bf3f4e1",
=======
   "id": "c4c8567a",
>>>>>>> documentation-devel
=======
   "id": "f39a7a26",
>>>>>>> 552590ea8fad969b67afdba27558a1e6cb21016e
||||||| 452c944
   "id": "fade845e",
=======
   "id": "f0852393",
>>>>>>> documentation-devel
||||||| 4da3324
<<<<<<< HEAD
<<<<<<< HEAD
<<<<<<< HEAD
   "id": "9be288d8",
||||||| 11b9cb7
   "id": "1bf3f4e1",
=======
   "id": "c4c8567a",
>>>>>>> documentation-devel
||||||| 614e9b1
   "id": "c4c8567a",
=======
   "id": "fade845e",
>>>>>>> documentation-devel
||||||| 856b4c0
<<<<<<< HEAD
   "id": "9be288d8",
||||||| 11b9cb7
   "id": "1bf3f4e1",
=======
   "id": "c4c8567a",
>>>>>>> documentation-devel
=======
   "id": "f39a7a26",
>>>>>>> 552590ea8fad969b67afdba27558a1e6cb21016e
=======
   "id": "636c6e4a",
>>>>>>> b6e07d13baac92b2c1c9b43f8e4113ffa87bf495
   "metadata": {},
   "outputs": [],
   "source": [
    "sfe <- runUnivariate(sfe, \"variogram\", genes_clusts, alpha = c(0, 45, 90, 135),\n",
    "                     # To not to overwrite omnidirectional variogram results\n",
    "                     name = \"variogram_anis\", model = \"Ste\", \n",
    "                     BPPARAM = SnowParam(2))"
   ]
  },
  {
   "cell_type": "code",
   "execution_count": null,
<<<<<<< HEAD
<<<<<<< HEAD
<<<<<<< HEAD
<<<<<<< HEAD
<<<<<<< HEAD
   "id": "d55d09d4",
||||||| 11b9cb7
   "id": "7e19352b",
=======
   "id": "91937ade",
>>>>>>> documentation-devel
||||||| 614e9b1
   "id": "91937ade",
=======
   "id": "583313c5",
>>>>>>> documentation-devel
||||||| 856b4c0
<<<<<<< HEAD
   "id": "d55d09d4",
||||||| 11b9cb7
   "id": "7e19352b",
=======
   "id": "91937ade",
>>>>>>> documentation-devel
=======
   "id": "a3baebb3",
>>>>>>> 552590ea8fad969b67afdba27558a1e6cb21016e
||||||| 452c944
   "id": "583313c5",
=======
   "id": "2968dfd0",
>>>>>>> documentation-devel
||||||| 4da3324
<<<<<<< HEAD
<<<<<<< HEAD
<<<<<<< HEAD
   "id": "d55d09d4",
||||||| 11b9cb7
   "id": "7e19352b",
=======
   "id": "91937ade",
>>>>>>> documentation-devel
||||||| 614e9b1
   "id": "91937ade",
=======
   "id": "583313c5",
>>>>>>> documentation-devel
||||||| 856b4c0
<<<<<<< HEAD
   "id": "d55d09d4",
||||||| 11b9cb7
   "id": "7e19352b",
=======
   "id": "91937ade",
>>>>>>> documentation-devel
=======
   "id": "a3baebb3",
>>>>>>> 552590ea8fad969b67afdba27558a1e6cb21016e
=======
   "id": "e9bd5e4e",
>>>>>>> b6e07d13baac92b2c1c9b43f8e4113ffa87bf495
   "metadata": {},
   "outputs": [],
   "source": [
    "plotVariogram(sfe, genes_clusts, group = \"angle\", name = \"variogram_anis\",\n",
    "              show_np = FALSE)"
   ]
  },
  {
   "cell_type": "markdown",
<<<<<<< HEAD
<<<<<<< HEAD
<<<<<<< HEAD
<<<<<<< HEAD
<<<<<<< HEAD
   "id": "e61de6f8",
||||||| 11b9cb7
   "id": "3fbb18e1",
=======
   "id": "c652d783",
>>>>>>> documentation-devel
||||||| 614e9b1
   "id": "c652d783",
=======
   "id": "cc273b18",
>>>>>>> documentation-devel
||||||| 856b4c0
<<<<<<< HEAD
   "id": "e61de6f8",
||||||| 11b9cb7
   "id": "3fbb18e1",
=======
   "id": "c652d783",
>>>>>>> documentation-devel
=======
   "id": "02686001",
>>>>>>> 552590ea8fad969b67afdba27558a1e6cb21016e
||||||| 452c944
   "id": "cc273b18",
=======
   "id": "6ee588c2",
>>>>>>> documentation-devel
||||||| 4da3324
<<<<<<< HEAD
<<<<<<< HEAD
<<<<<<< HEAD
   "id": "e61de6f8",
||||||| 11b9cb7
   "id": "3fbb18e1",
=======
   "id": "c652d783",
>>>>>>> documentation-devel
||||||| 614e9b1
   "id": "c652d783",
=======
   "id": "cc273b18",
>>>>>>> documentation-devel
||||||| 856b4c0
<<<<<<< HEAD
   "id": "e61de6f8",
||||||| 11b9cb7
   "id": "3fbb18e1",
=======
   "id": "c652d783",
>>>>>>> documentation-devel
=======
   "id": "02686001",
>>>>>>> 552590ea8fad969b67afdba27558a1e6cb21016e
=======
   "id": "99fd5bae",
>>>>>>> b6e07d13baac92b2c1c9b43f8e4113ffa87bf495
   "metadata": {},
   "source": [
    "Here the line is the variogram model fitted to all directions and the text describes this model. The points show the angles in different colors. Zero degree points north (up), and the angles go clockwise.\n",
    "\n",
    "## Variogram map\n",
    "\n",
    "The variogram map is another way to visualize spatial autocorrelation in different directions. It bins distances in x and distances in y, so we have a grid of distances where the variance is computed. Just like the variograms above, the origin usually has a low value, because spatial autocorrelation reduces the variance in a short distance, and the values increase with increasing distance from the origin, but it can increase more quickly in some directions than others. Here to compute variogram maps for the 4 genes above:"
   ]
  },
  {
   "cell_type": "code",
   "execution_count": null,
<<<<<<< HEAD
<<<<<<< HEAD
<<<<<<< HEAD
<<<<<<< HEAD
<<<<<<< HEAD
   "id": "7e638ef4",
||||||| 11b9cb7
   "id": "67dde606",
=======
   "id": "ed7632f8",
>>>>>>> documentation-devel
||||||| 614e9b1
   "id": "ed7632f8",
=======
   "id": "3912eda0",
>>>>>>> documentation-devel
||||||| 856b4c0
<<<<<<< HEAD
   "id": "7e638ef4",
||||||| 11b9cb7
   "id": "67dde606",
=======
   "id": "ed7632f8",
>>>>>>> documentation-devel
=======
   "id": "9279b211",
>>>>>>> 552590ea8fad969b67afdba27558a1e6cb21016e
||||||| 452c944
   "id": "3912eda0",
=======
   "id": "3c8d7f87",
>>>>>>> documentation-devel
||||||| 4da3324
<<<<<<< HEAD
<<<<<<< HEAD
<<<<<<< HEAD
   "id": "7e638ef4",
||||||| 11b9cb7
   "id": "67dde606",
=======
   "id": "ed7632f8",
>>>>>>> documentation-devel
||||||| 614e9b1
   "id": "ed7632f8",
=======
   "id": "3912eda0",
>>>>>>> documentation-devel
||||||| 856b4c0
<<<<<<< HEAD
   "id": "7e638ef4",
||||||| 11b9cb7
   "id": "67dde606",
=======
   "id": "ed7632f8",
>>>>>>> documentation-devel
=======
   "id": "9279b211",
>>>>>>> 552590ea8fad969b67afdba27558a1e6cb21016e
=======
   "id": "2b9601cc",
>>>>>>> b6e07d13baac92b2c1c9b43f8e4113ffa87bf495
   "metadata": {},
   "outputs": [],
   "source": [
    "sfe <- runUnivariate(sfe, \"variogram_map\", genes_clusts, width = 100, \n",
    "                     cutoff = 800, BPPARAM = SnowParam(2), name = \"variogram_map2\")"
   ]
  },
  {
   "cell_type": "markdown",
<<<<<<< HEAD
<<<<<<< HEAD
<<<<<<< HEAD
<<<<<<< HEAD
<<<<<<< HEAD
   "id": "63e80877",
||||||| 11b9cb7
   "id": "3bc00a8f",
=======
   "id": "934a064f",
>>>>>>> documentation-devel
||||||| 614e9b1
   "id": "934a064f",
=======
   "id": "59602a54",
>>>>>>> documentation-devel
||||||| 856b4c0
<<<<<<< HEAD
   "id": "63e80877",
||||||| 11b9cb7
   "id": "3bc00a8f",
=======
   "id": "934a064f",
>>>>>>> documentation-devel
=======
   "id": "ad2f1c03",
>>>>>>> 552590ea8fad969b67afdba27558a1e6cb21016e
||||||| 452c944
   "id": "59602a54",
=======
   "id": "9836397a",
>>>>>>> documentation-devel
||||||| 4da3324
<<<<<<< HEAD
<<<<<<< HEAD
<<<<<<< HEAD
   "id": "63e80877",
||||||| 11b9cb7
   "id": "3bc00a8f",
=======
   "id": "934a064f",
>>>>>>> documentation-devel
||||||| 614e9b1
   "id": "934a064f",
=======
   "id": "59602a54",
>>>>>>> documentation-devel
||||||| 856b4c0
<<<<<<< HEAD
   "id": "63e80877",
||||||| 11b9cb7
   "id": "3bc00a8f",
=======
   "id": "934a064f",
>>>>>>> documentation-devel
=======
   "id": "ad2f1c03",
>>>>>>> 552590ea8fad969b67afdba27558a1e6cb21016e
=======
   "id": "168617bf",
>>>>>>> b6e07d13baac92b2c1c9b43f8e4113ffa87bf495
   "metadata": {},
   "source": [
    "The `width` argument is the width of the bins, and `cutoff` is the maximum distance."
   ]
  },
  {
   "cell_type": "code",
   "execution_count": null,
<<<<<<< HEAD
<<<<<<< HEAD
<<<<<<< HEAD
<<<<<<< HEAD
<<<<<<< HEAD
   "id": "7b8c187e",
||||||| 11b9cb7
   "id": "0c77049e",
=======
   "id": "f050e890",
>>>>>>> documentation-devel
||||||| 614e9b1
   "id": "f050e890",
=======
   "id": "b7d51ec3",
>>>>>>> documentation-devel
||||||| 856b4c0
<<<<<<< HEAD
   "id": "7b8c187e",
||||||| 11b9cb7
   "id": "0c77049e",
=======
   "id": "f050e890",
>>>>>>> documentation-devel
=======
   "id": "f39e4e27",
>>>>>>> 552590ea8fad969b67afdba27558a1e6cb21016e
||||||| 452c944
   "id": "b7d51ec3",
=======
   "id": "ec292037",
>>>>>>> documentation-devel
||||||| 4da3324
<<<<<<< HEAD
<<<<<<< HEAD
<<<<<<< HEAD
   "id": "7b8c187e",
||||||| 11b9cb7
   "id": "0c77049e",
=======
   "id": "f050e890",
>>>>>>> documentation-devel
||||||| 614e9b1
   "id": "f050e890",
=======
   "id": "b7d51ec3",
>>>>>>> documentation-devel
||||||| 856b4c0
<<<<<<< HEAD
   "id": "7b8c187e",
||||||| 11b9cb7
   "id": "0c77049e",
=======
   "id": "f050e890",
>>>>>>> documentation-devel
=======
   "id": "f39e4e27",
>>>>>>> 552590ea8fad969b67afdba27558a1e6cb21016e
=======
   "id": "1c5785ef",
>>>>>>> b6e07d13baac92b2c1c9b43f8e4113ffa87bf495
   "metadata": {},
   "outputs": [],
   "source": [
    "plotVariogramMap(sfe, genes_clusts, name = \"variogram_map2\")"
   ]
  },
  {
   "cell_type": "markdown",
<<<<<<< HEAD
<<<<<<< HEAD
<<<<<<< HEAD
<<<<<<< HEAD
<<<<<<< HEAD
   "id": "284e711e",
||||||| 11b9cb7
   "id": "5ddea4d8",
=======
   "id": "b76eb9c0",
>>>>>>> documentation-devel
||||||| 614e9b1
   "id": "b76eb9c0",
=======
   "id": "c47f0bd6",
>>>>>>> documentation-devel
||||||| 856b4c0
<<<<<<< HEAD
   "id": "284e711e",
||||||| 11b9cb7
   "id": "5ddea4d8",
=======
   "id": "b76eb9c0",
>>>>>>> documentation-devel
=======
   "id": "81126551",
>>>>>>> 552590ea8fad969b67afdba27558a1e6cb21016e
||||||| 452c944
   "id": "c47f0bd6",
=======
   "id": "f4f46e17",
>>>>>>> documentation-devel
||||||| 4da3324
<<<<<<< HEAD
<<<<<<< HEAD
<<<<<<< HEAD
   "id": "284e711e",
||||||| 11b9cb7
   "id": "5ddea4d8",
=======
   "id": "b76eb9c0",
>>>>>>> documentation-devel
||||||| 614e9b1
   "id": "b76eb9c0",
=======
   "id": "c47f0bd6",
>>>>>>> documentation-devel
||||||| 856b4c0
<<<<<<< HEAD
   "id": "284e711e",
||||||| 11b9cb7
   "id": "5ddea4d8",
=======
   "id": "b76eb9c0",
>>>>>>> documentation-devel
=======
   "id": "81126551",
>>>>>>> 552590ea8fad969b67afdba27558a1e6cb21016e
=======
   "id": "94a81869",
>>>>>>> b6e07d13baac92b2c1c9b43f8e4113ffa87bf495
   "metadata": {},
   "source": [
    "# Cross variogram\n",
    "The cross variogram is used in cokriging, which uses multiple variables in the spatial interpolation model. The cross variogram is defined as\n",
    "\n",
    "$$\n",
    "\\gamma(t) = \\frac 1 2 \\mathrm{Cov}(X_t - X_0, Y_t - Y_0),\n",
    "$$\n",
    "\n",
    "where $Y$ is another variable. The cross variogram also has nugget, sill, and range. It shows how the covariance between two variables changes with distance. `Voyager` supports multiple bivariate spatial methods, and the cross variogram is one of them. Just like for univariate spatial methods, `Voyager` provides a uniform user interface for bivariate methods. However, bivariate local methods can't be stored in the SFE object at present because they tend to have very different formats in outputs (e.g. a correlation matrix for Lee's L and a list for most other methods) some of which may not be straightforward to store in the SFE object."
   ]
  },
  {
   "cell_type": "code",
   "execution_count": null,
<<<<<<< HEAD
<<<<<<< HEAD
<<<<<<< HEAD
<<<<<<< HEAD
<<<<<<< HEAD
   "id": "1b8bbd2f",
||||||| 11b9cb7
   "id": "0cec476a",
=======
   "id": "b4c05031",
>>>>>>> documentation-devel
||||||| 614e9b1
   "id": "b4c05031",
=======
   "id": "91f32b6d",
>>>>>>> documentation-devel
||||||| 856b4c0
<<<<<<< HEAD
   "id": "1b8bbd2f",
||||||| 11b9cb7
   "id": "0cec476a",
=======
   "id": "b4c05031",
>>>>>>> documentation-devel
=======
   "id": "8ca47914",
>>>>>>> 552590ea8fad969b67afdba27558a1e6cb21016e
||||||| 452c944
   "id": "91f32b6d",
=======
   "id": "aa5604c3",
>>>>>>> documentation-devel
||||||| 4da3324
<<<<<<< HEAD
<<<<<<< HEAD
<<<<<<< HEAD
   "id": "1b8bbd2f",
||||||| 11b9cb7
   "id": "0cec476a",
=======
   "id": "b4c05031",
>>>>>>> documentation-devel
||||||| 614e9b1
   "id": "b4c05031",
=======
   "id": "91f32b6d",
>>>>>>> documentation-devel
||||||| 856b4c0
<<<<<<< HEAD
   "id": "1b8bbd2f",
||||||| 11b9cb7
   "id": "0cec476a",
=======
   "id": "b4c05031",
>>>>>>> documentation-devel
=======
   "id": "8ca47914",
>>>>>>> 552590ea8fad969b67afdba27558a1e6cb21016e
=======
   "id": "85bf30b7",
>>>>>>> b6e07d13baac92b2c1c9b43f8e4113ffa87bf495
   "metadata": {},
   "outputs": [],
   "source": [
    "cross_v <- calculateBivariate(sfe, \"cross_variogram\", \n",
    "                              feature1 = \"IGKC\", feature2 = \"IGHG3\")"
   ]
  },
  {
   "cell_type": "code",
   "execution_count": null,
<<<<<<< HEAD
<<<<<<< HEAD
<<<<<<< HEAD
<<<<<<< HEAD
<<<<<<< HEAD
   "id": "a9a46e57",
||||||| 11b9cb7
   "id": "77ff7ce6",
=======
   "id": "3440c961",
>>>>>>> documentation-devel
||||||| 614e9b1
   "id": "3440c961",
=======
   "id": "7a7c8909",
>>>>>>> documentation-devel
||||||| 856b4c0
<<<<<<< HEAD
   "id": "a9a46e57",
||||||| 11b9cb7
   "id": "77ff7ce6",
=======
   "id": "3440c961",
>>>>>>> documentation-devel
=======
   "id": "021cd885",
>>>>>>> 552590ea8fad969b67afdba27558a1e6cb21016e
||||||| 452c944
   "id": "7a7c8909",
=======
   "id": "e1762a7b",
>>>>>>> documentation-devel
||||||| 4da3324
<<<<<<< HEAD
<<<<<<< HEAD
<<<<<<< HEAD
   "id": "a9a46e57",
||||||| 11b9cb7
   "id": "77ff7ce6",
=======
   "id": "3440c961",
>>>>>>> documentation-devel
||||||| 614e9b1
   "id": "3440c961",
=======
   "id": "7a7c8909",
>>>>>>> documentation-devel
||||||| 856b4c0
<<<<<<< HEAD
   "id": "a9a46e57",
||||||| 11b9cb7
   "id": "77ff7ce6",
=======
   "id": "3440c961",
>>>>>>> documentation-devel
=======
   "id": "021cd885",
>>>>>>> 552590ea8fad969b67afdba27558a1e6cb21016e
=======
   "id": "522f6ad7",
>>>>>>> b6e07d13baac92b2c1c9b43f8e4113ffa87bf495
   "metadata": {},
   "outputs": [],
   "source": [
    "plotCrossVariogram(cross_v, show_np = FALSE)"
   ]
  },
  {
   "cell_type": "markdown",
<<<<<<< HEAD
<<<<<<< HEAD
<<<<<<< HEAD
<<<<<<< HEAD
<<<<<<< HEAD
   "id": "7d0f6066",
||||||| 11b9cb7
   "id": "c01a515e",
=======
   "id": "1acdc2a6",
>>>>>>> documentation-devel
||||||| 614e9b1
   "id": "1acdc2a6",
=======
   "id": "24c4cda7",
>>>>>>> documentation-devel
||||||| 856b4c0
<<<<<<< HEAD
   "id": "7d0f6066",
||||||| 11b9cb7
   "id": "c01a515e",
=======
   "id": "1acdc2a6",
>>>>>>> documentation-devel
=======
   "id": "44df3f3f",
>>>>>>> 552590ea8fad969b67afdba27558a1e6cb21016e
||||||| 452c944
   "id": "24c4cda7",
=======
   "id": "08c9f965",
>>>>>>> documentation-devel
||||||| 4da3324
<<<<<<< HEAD
<<<<<<< HEAD
<<<<<<< HEAD
   "id": "7d0f6066",
||||||| 11b9cb7
   "id": "c01a515e",
=======
   "id": "1acdc2a6",
>>>>>>> documentation-devel
||||||| 614e9b1
   "id": "1acdc2a6",
=======
   "id": "24c4cda7",
>>>>>>> documentation-devel
||||||| 856b4c0
<<<<<<< HEAD
   "id": "7d0f6066",
||||||| 11b9cb7
   "id": "c01a515e",
=======
   "id": "1acdc2a6",
>>>>>>> documentation-devel
=======
   "id": "44df3f3f",
>>>>>>> 552590ea8fad969b67afdba27558a1e6cb21016e
=======
   "id": "e1050a94",
>>>>>>> b6e07d13baac92b2c1c9b43f8e4113ffa87bf495
   "metadata": {
    "lines_to_next_cell": 0
   },
   "source": [
    "The facets are shown in a matrix, whose diagonal is the variogram for each gene, and off diagonal entries are cross variograms. Here for IGKC and IGHG3, the length scale of the covariance is similar to that of spatial autocorrelation. \n",
    "\n",
    "There is also a cross variogram map to show the cross variogram in different directions:"
   ]
  },
  {
   "cell_type": "code",
   "execution_count": null,
<<<<<<< HEAD
<<<<<<< HEAD
<<<<<<< HEAD
<<<<<<< HEAD
<<<<<<< HEAD
   "id": "d8793046",
||||||| 11b9cb7
   "id": "ff0f956c",
=======
   "id": "82dc3a45",
>>>>>>> documentation-devel
||||||| 614e9b1
   "id": "82dc3a45",
=======
   "id": "27a6f7a2",
>>>>>>> documentation-devel
||||||| 856b4c0
<<<<<<< HEAD
   "id": "d8793046",
||||||| 11b9cb7
   "id": "ff0f956c",
=======
   "id": "82dc3a45",
>>>>>>> documentation-devel
=======
   "id": "625c8cca",
>>>>>>> 552590ea8fad969b67afdba27558a1e6cb21016e
||||||| 452c944
   "id": "27a6f7a2",
=======
   "id": "18e52681",
>>>>>>> documentation-devel
||||||| 4da3324
<<<<<<< HEAD
<<<<<<< HEAD
<<<<<<< HEAD
   "id": "d8793046",
||||||| 11b9cb7
   "id": "ff0f956c",
=======
   "id": "82dc3a45",
>>>>>>> documentation-devel
||||||| 614e9b1
   "id": "82dc3a45",
=======
   "id": "27a6f7a2",
>>>>>>> documentation-devel
||||||| 856b4c0
<<<<<<< HEAD
   "id": "d8793046",
||||||| 11b9cb7
   "id": "ff0f956c",
=======
   "id": "82dc3a45",
>>>>>>> documentation-devel
=======
   "id": "625c8cca",
>>>>>>> 552590ea8fad969b67afdba27558a1e6cb21016e
=======
   "id": "3b3c0169",
>>>>>>> b6e07d13baac92b2c1c9b43f8e4113ffa87bf495
   "metadata": {},
   "outputs": [],
   "source": [
    "cross_v_map <- calculateBivariate(sfe, \"cross_variogram_map\",\n",
    "                                  feature1 = \"IGKC\", feature2 = \"IGHG3\",\n",
    "                                  width = 100, cutoff = 800)"
   ]
  },
  {
   "cell_type": "code",
   "execution_count": null,
<<<<<<< HEAD
<<<<<<< HEAD
<<<<<<< HEAD
<<<<<<< HEAD
<<<<<<< HEAD
   "id": "3c8ea0f2",
||||||| 11b9cb7
   "id": "b1ba18bf",
=======
   "id": "4687e029",
>>>>>>> documentation-devel
||||||| 614e9b1
   "id": "4687e029",
=======
   "id": "aec969f8",
>>>>>>> documentation-devel
||||||| 856b4c0
<<<<<<< HEAD
   "id": "3c8ea0f2",
||||||| 11b9cb7
   "id": "b1ba18bf",
=======
   "id": "4687e029",
>>>>>>> documentation-devel
=======
   "id": "4104a8e7",
>>>>>>> 552590ea8fad969b67afdba27558a1e6cb21016e
||||||| 452c944
   "id": "aec969f8",
=======
   "id": "fcbcd4ab",
>>>>>>> documentation-devel
||||||| 4da3324
<<<<<<< HEAD
<<<<<<< HEAD
<<<<<<< HEAD
   "id": "3c8ea0f2",
||||||| 11b9cb7
   "id": "b1ba18bf",
=======
   "id": "4687e029",
>>>>>>> documentation-devel
||||||| 614e9b1
   "id": "4687e029",
=======
   "id": "aec969f8",
>>>>>>> documentation-devel
||||||| 856b4c0
<<<<<<< HEAD
   "id": "3c8ea0f2",
||||||| 11b9cb7
   "id": "b1ba18bf",
=======
   "id": "4687e029",
>>>>>>> documentation-devel
=======
   "id": "4104a8e7",
>>>>>>> 552590ea8fad969b67afdba27558a1e6cb21016e
=======
   "id": "5a8eb66c",
>>>>>>> b6e07d13baac92b2c1c9b43f8e4113ffa87bf495
   "metadata": {},
   "outputs": [],
   "source": [
    "plotCrossVariogramMap(cross_v_map)"
   ]
  },
  {
   "cell_type": "markdown",
<<<<<<< HEAD
<<<<<<< HEAD
<<<<<<< HEAD
<<<<<<< HEAD
<<<<<<< HEAD
   "id": "260b6e0c",
||||||| 11b9cb7
   "id": "94e64dbe",
=======
   "id": "7a25ae8a",
>>>>>>> documentation-devel
||||||| 614e9b1
   "id": "7a25ae8a",
=======
   "id": "46b7280d",
>>>>>>> documentation-devel
||||||| 856b4c0
<<<<<<< HEAD
   "id": "260b6e0c",
||||||| 11b9cb7
   "id": "94e64dbe",
=======
   "id": "7a25ae8a",
>>>>>>> documentation-devel
=======
   "id": "59f55fc4",
>>>>>>> 552590ea8fad969b67afdba27558a1e6cb21016e
||||||| 452c944
   "id": "46b7280d",
=======
   "id": "bdd41c0f",
>>>>>>> documentation-devel
||||||| 4da3324
<<<<<<< HEAD
<<<<<<< HEAD
<<<<<<< HEAD
   "id": "260b6e0c",
||||||| 11b9cb7
   "id": "94e64dbe",
=======
   "id": "7a25ae8a",
>>>>>>> documentation-devel
||||||| 614e9b1
   "id": "7a25ae8a",
=======
   "id": "46b7280d",
>>>>>>> documentation-devel
||||||| 856b4c0
<<<<<<< HEAD
   "id": "260b6e0c",
||||||| 11b9cb7
   "id": "94e64dbe",
=======
   "id": "7a25ae8a",
>>>>>>> documentation-devel
=======
   "id": "59f55fc4",
>>>>>>> 552590ea8fad969b67afdba27558a1e6cb21016e
=======
   "id": "95787f86",
>>>>>>> b6e07d13baac92b2c1c9b43f8e4113ffa87bf495
   "metadata": {
    "lines_to_next_cell": 0
   },
   "source": [
    "# Session Info"
   ]
  },
  {
   "cell_type": "code",
   "execution_count": null,
<<<<<<< HEAD
<<<<<<< HEAD
<<<<<<< HEAD
<<<<<<< HEAD
<<<<<<< HEAD
   "id": "f375e53e",
||||||| 11b9cb7
   "id": "a5fdac69",
=======
   "id": "6cead58d",
>>>>>>> documentation-devel
||||||| 614e9b1
   "id": "6cead58d",
=======
   "id": "b53231df",
>>>>>>> documentation-devel
||||||| 856b4c0
<<<<<<< HEAD
   "id": "f375e53e",
||||||| 11b9cb7
   "id": "a5fdac69",
=======
   "id": "6cead58d",
>>>>>>> documentation-devel
=======
   "id": "ba353110",
>>>>>>> 552590ea8fad969b67afdba27558a1e6cb21016e
||||||| 452c944
   "id": "b53231df",
=======
   "id": "deb0fe1a",
>>>>>>> documentation-devel
||||||| 4da3324
<<<<<<< HEAD
<<<<<<< HEAD
<<<<<<< HEAD
   "id": "f375e53e",
||||||| 11b9cb7
   "id": "a5fdac69",
=======
   "id": "6cead58d",
>>>>>>> documentation-devel
||||||| 614e9b1
   "id": "6cead58d",
=======
   "id": "b53231df",
>>>>>>> documentation-devel
||||||| 856b4c0
<<<<<<< HEAD
   "id": "f375e53e",
||||||| 11b9cb7
   "id": "a5fdac69",
=======
   "id": "6cead58d",
>>>>>>> documentation-devel
=======
   "id": "ba353110",
>>>>>>> 552590ea8fad969b67afdba27558a1e6cb21016e
=======
   "id": "cf437f31",
>>>>>>> b6e07d13baac92b2c1c9b43f8e4113ffa87bf495
   "metadata": {
    "lines_to_next_cell": 2
   },
   "outputs": [],
   "source": [
    "sessionInfo()"
   ]
  },
  {
   "cell_type": "markdown",
<<<<<<< HEAD
<<<<<<< HEAD
<<<<<<< HEAD
<<<<<<< HEAD
<<<<<<< HEAD
   "id": "2d9fb1b8",
||||||| 11b9cb7
   "id": "52f797a0",
=======
   "id": "ca03b6fc",
>>>>>>> documentation-devel
||||||| 614e9b1
   "id": "ca03b6fc",
=======
   "id": "4c465536",
>>>>>>> documentation-devel
||||||| 856b4c0
<<<<<<< HEAD
   "id": "2d9fb1b8",
||||||| 11b9cb7
   "id": "52f797a0",
=======
   "id": "ca03b6fc",
>>>>>>> documentation-devel
=======
   "id": "acfb0f95",
>>>>>>> 552590ea8fad969b67afdba27558a1e6cb21016e
||||||| 452c944
   "id": "4c465536",
=======
   "id": "f2e94813",
>>>>>>> documentation-devel
||||||| 4da3324
<<<<<<< HEAD
<<<<<<< HEAD
<<<<<<< HEAD
   "id": "2d9fb1b8",
||||||| 11b9cb7
   "id": "52f797a0",
=======
   "id": "ca03b6fc",
>>>>>>> documentation-devel
||||||| 614e9b1
   "id": "ca03b6fc",
=======
   "id": "4c465536",
>>>>>>> documentation-devel
||||||| 856b4c0
<<<<<<< HEAD
   "id": "2d9fb1b8",
||||||| 11b9cb7
   "id": "52f797a0",
=======
   "id": "ca03b6fc",
>>>>>>> documentation-devel
=======
   "id": "acfb0f95",
>>>>>>> 552590ea8fad969b67afdba27558a1e6cb21016e
=======
   "id": "a2389781",
>>>>>>> b6e07d13baac92b2c1c9b43f8e4113ffa87bf495
   "metadata": {},
   "source": [
    "# References"
   ]
  }
 ],
 "metadata": {
  "kernelspec": {
   "display_name": "R",
   "language": "R",
   "name": "ir"
  }
 },
 "nbformat": 4,
 "nbformat_minor": 5
}
