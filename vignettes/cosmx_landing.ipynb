{
 "cells": [
  {
   "cell_type": "raw",
   "id": "7ee97f5c",
   "metadata": {},
   "source": [
    "---\n",
    "title: \"CosMX Processing Workflows with Voyager\"\n",
    "output: html_document\n",
    "vignette: >\n",
    "  %\\VignetteIndexEntry{cosmx_landing}\n",
    "  %\\VignetteEngine{knitr::rmarkdown}\n",
    "  %\\VignetteEncoding{UTF-8}\n",
    "---"
   ]
  },
  {
   "cell_type": "code",
   "execution_count": null,
   "id": "acbb1e1d",
   "metadata": {
    "tags": [
     "remove_cell"
    ]
   },
   "outputs": [],
   "source": [
    "knitr::opts_chunk$set(\n",
    "  collapse = TRUE,\n",
    "  comment = \"#>\",\n",
    "  eval = FALSE\n",
    ")"
   ]
  },
  {
   "cell_type": "markdown",
   "id": "34af0b36",
   "metadata": {},
   "source": [
    "The Nanostring CosMX Spatial Molecular Imager (SMI) enables spatial profiling of RNA and proteins at cellular or subcellular resolution with formalin-fixed paraffin embedded (FFPE) or fresh frozen tissue samples. The CosMX technology extends single molecule fluorescent in-situ hybridization (smFISH) by coupling detection probes to a 60-80 nucleotide DNA readout domain. The readout domain contains 4 consecutive regions that hybridize to unique reporters that are read out over sequential imaging rounds. CosMX increases detection efficiency by targeting different regions of the RNA target with up to 5 detection probes, each coupled to the same readout domain. The photocleavable sites in the reporters enable fast fluorescent signal quenching and greatly increase the signal-to-noise ratio. "
   ]
  },
  {
   "cell_type": "markdown",
   "id": "cd96e9c4",
   "metadata": {},
   "source": [
    "## Getting Started\n",
    "\n",
    "Nanostring has released a CosMX FFPE dataset on their [website](https://nanostring.com/products/cosmx-spatial-molecular-imager/ffpe-dataset/). A tutorial for processing the output of various spatial transcriptomics technologies, including CosMX, into a [`SpatialFeatureExperiment`](https://bioconductor.org/packages/devel/bioc/html/SpatialFeatureExperiment.html)(SFE) object for use with `Voyager` is available on the [Getting Started]() page. \n",
    "\n",
    "The vignette linked below provides technology specific notes for data downloaded from Nanostring. Nanostring provides cell segmentation data as images, while cell centroid coordinates are provided as metadata. \n",
    "\n",
    "| Vignette | Colab Notebook | Description |\n",
    "|--------------------|:---------------:|---------------------------------|\n",
    "| [Create a `SFE` object](https://pachterlab.github.io/voyager/articles/create_sfe.html) |                | Download data, create `SFE` object, CosMX specific notes |"
   ]
  },
  {
   "cell_type": "markdown",
   "id": "eb354e14",
   "metadata": {},
   "source": [
    "## Analysis Workflows\n",
    "\n",
    "The vignettes below demonstrate workflows that can be implemented with `Voyager` using data generated with the CosMX SMI. The publicly available CosMX dataset profiles 960 genes across 8 non-small-cell lung cancer (NSCLC) samples. \n",
    "\n",
    "| Vignette | Colab Notebook | Description |\n",
    "|--------------------|:---------------:|---------------------------------|\n",
    "| [CosMX NSCLC analysis](https://pachterlab.github.io/voyager/articles/vig4_cosmx.html) | | Perform basic QC, data normalization, dimension reduction, spatial autocorrelation metrics, local spatial statistics, non-spatial clustering, differential expression |"
   ]
  }
 ],
 "metadata": {
  "jupytext": {
   "cell_metadata_filter": "tags,-all",
   "main_language": "R",
   "notebook_metadata_filter": "-all"
  }
 },
 "nbformat": 4,
 "nbformat_minor": 5
}
