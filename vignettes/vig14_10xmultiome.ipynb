{
 "cells": [
  {
   "cell_type": "raw",
<<<<<<< HEAD
   "id": "b406a4ff",
||||||| ff06ad40
   "id": "6bdcd967",
=======
   "id": "60ae10d3",
>>>>>>> documentation-devel
   "metadata": {},
   "source": [
    "---\n",
    "title: \"10X Multiome ATAC-seq basic quality control \"\n",
    "author: \"Kayla Jackson and A. Sina Booeshaghi\"\n",
    "date: \"`r Sys.Date()`\"\n",
    "output: \n",
    "  html_document:\n",
    "  toc: true\n",
    "  toc_float:\n",
    "    collapsed: false\n",
    "  toc_depth: 3\n",
    "bibliography: ref.bib\n",
    "vignette: >\n",
    "  %\\VignetteIndexEntry{10xmultiome_qc}\n",
    "  %\\VignetteEngine{knitr::rmarkdown}\n",
    "  %\\VignetteEncoding{UTF-8}\n",
    "---"
   ]
  },
  {
   "cell_type": "code",
   "execution_count": null,
<<<<<<< HEAD
   "id": "60e2d539",
||||||| ff06ad40
   "id": "260291e3",
=======
   "id": "e06cf041",
>>>>>>> documentation-devel
   "metadata": {
    "tags": [
     "remove_cell"
    ]
   },
   "outputs": [],
   "source": [
    "knitr::opts_chunk$set(\n",
    "  collapse = TRUE,\n",
    "  comment = \"#>\", fig.align = \"center\"\n",
    ")"
   ]
  },
  {
   "cell_type": "code",
   "execution_count": null,
<<<<<<< HEAD
   "id": "66c9477a",
||||||| ff06ad40
   "id": "77097065",
=======
   "id": "eaa23ddf",
>>>>>>> documentation-devel
   "metadata": {
    "eval": false,
    "tags": [
     "remove_cell"
    ]
   },
   "outputs": [],
   "source": [
    "# Install Google Colab dependencies\n",
    "# Note: this can take 30+ minutes (many of the dependencies include C++ code, which needs to be compiled)\n",
    "\n",
    "# First install `sf`, `ragg` and `textshaping` and their system dependencies:\n",
    "system(\"apt-get -y update && apt-get install -y  libudunits2-dev libgdal-dev libgeos-dev libproj-dev libharfbuzz-dev libfribidi-dev\")\n",
    "install.packages(\"sf\")\n",
    "install.packages(\"textshaping\")\n",
    "install.packages(\"ragg\")\n",
    "\n",
    "# Install system dependencies of some other R packages that Voyager either imports or suggests:\n",
    "system(\"apt-get install -y libfribidi-dev libcairo2-dev libmagick++-dev\")\n",
    "\n",
    "# Install Voyager from Bioconductor:\n",
    "install.packages(\"BiocManager\")\n",
    "BiocManager::install(version = \"3.17\", ask = FALSE, update = FALSE, Ncpus = 2)\n",
    "BiocManager::install(\"scater\")\n",
    "system.time(\n",
    "  BiocManager::install(\"Voyager\", dependencies = TRUE, Ncpus = 2, update = FALSE)\n",
    ")\n",
    "\n",
    "\n",
    "packageVersion(\"Voyager\")"
   ]
  },
  {
   "cell_type": "markdown",
<<<<<<< HEAD
   "id": "cb275eab",
||||||| ff06ad40
   "id": "807559e9",
=======
   "id": "218ddbae",
>>>>>>> documentation-devel
   "metadata": {},
   "source": [
    "# Introduction\n",
    "The data in this vignette is shipped with the `cellatlas` repository. The count matrix and metadata are provided in the `cellatlas/examples` folder as an [`AnnData`](https://anndata-tutorials.readthedocs.io/en/latest/getting-started.html) object. We will begin by loading the object and converting it to a `SingleCellExperiment` object. \n"
   ]
  },
  {
   "cell_type": "code",
   "execution_count": null,
<<<<<<< HEAD
   "id": "d1cda16f",
||||||| ff06ad40
   "id": "0d9f1b1c",
=======
   "id": "3696cb82",
>>>>>>> documentation-devel
   "metadata": {
    "message": false
   },
   "outputs": [],
   "source": [
    "library(stringr)\n",
    "library(DropletUtils)\n",
    "library(Matrix)\n",
    "library(SpatialExperiment)\n",
    "library(SpatialFeatureExperiment)\n",
    "library(scater)\n",
    "library(scuttle)\n",
    "library(Voyager)\n",
    "library(zellkonverter)\n",
    "library(ggplot2)\n",
    "theme_set(theme_bw())"
   ]
  },
  {
   "cell_type": "code",
   "execution_count": null,
<<<<<<< HEAD
   "id": "b8a6bbc4",
||||||| ff06ad40
   "id": "4b367b39",
=======
   "id": "b8c76a32",
>>>>>>> documentation-devel
   "metadata": {
    "message": false,
    "name": "dwnld",
    "tags": [
     "remove_output"
    ]
   },
   "outputs": [],
   "source": [
    "download.file(\"https://github.com/cellatlas/cellatlas/raw/main/examples/atac-10xmultiome/cellatlas_out/adata.h5ad.gz\", \n",
    "                  \"adata.h5ad.gz\", quiet = TRUE)\n",
    "system(\"gunzip -f adata.h5ad.gz\")\n",
    "sce <- readH5AD(\"adata.h5ad\")\n",
    "assayNames(sce) <- \"counts\""
   ]
  },
  {
   "cell_type": "code",
   "execution_count": null,
<<<<<<< HEAD
   "id": "69c16c4f",
||||||| ff06ad40
   "id": "9da0ba5f",
=======
   "id": "24f5a34e",
>>>>>>> documentation-devel
   "metadata": {},
   "outputs": [],
   "source": [
    "sce <- addPerCellQCMetrics(sce)\n",
    "names(colData(sce))"
   ]
  },
  {
   "cell_type": "code",
   "execution_count": null,
<<<<<<< HEAD
   "id": "5277b995",
||||||| ff06ad40
   "id": "1748639a",
=======
   "id": "a35ca15c",
>>>>>>> documentation-devel
   "metadata": {},
   "outputs": [],
   "source": [
    "plotColData(sce, \"sum\") +\n",
    "    plotColData(sce, \"detected\") "
   ]
  },
  {
   "cell_type": "code",
   "execution_count": null,
<<<<<<< HEAD
   "id": "5f237931",
||||||| ff06ad40
   "id": "dd6fd1c7",
=======
   "id": "1f334bf1",
>>>>>>> documentation-devel
   "metadata": {
    "lines_to_next_cell": 2
   },
   "outputs": [],
   "source": [
    "plotColData(sce, x = \"sum\", y = \"detected\", bins = 100) +\n",
    "    scale_fill_distiller(palette = \"Blues\", direction = 1)"
   ]
  },
  {
   "cell_type": "code",
   "execution_count": null,
<<<<<<< HEAD
   "id": "90845091",
||||||| ff06ad40
   "id": "b4e5147a",
=======
   "id": "202d396f",
>>>>>>> documentation-devel
   "metadata": {
    "name": "subset-qc"
   },
   "outputs": [],
   "source": [
    "sce <- sce[, which(sce$total > 0)]\n",
    "sce <- sce[rowSums(counts(sce)) > 0,]\n",
    "\n",
    "sce"
   ]
  },
  {
   "cell_type": "code",
   "execution_count": null,
<<<<<<< HEAD
   "id": "cf689199",
||||||| ff06ad40
   "id": "ca8ae683",
=======
   "id": "a6974f18",
>>>>>>> documentation-devel
   "metadata": {},
   "outputs": [],
   "source": [
    "sessionInfo()"
   ]
  }
 ],
 "metadata": {
  "kernelspec": {
   "display_name": "R",
   "language": "R",
   "name": "ir"
  }
 },
 "nbformat": 4,
 "nbformat_minor": 5
}
