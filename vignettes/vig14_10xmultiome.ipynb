{
 "cells": [
  {
   "cell_type": "raw",
<<<<<<< HEAD
<<<<<<< HEAD
<<<<<<< HEAD
   "id": "85b568c9",
||||||| 6a30bf1
   "id": "80f028e4",
=======
   "id": "944ea9f3",
>>>>>>> documentation-devel
||||||| d28b18c
   "id": "944ea9f3",
=======
   "id": "518ae3da",
>>>>>>> documentation-devel
||||||| 6893f63
<<<<<<< HEAD
   "id": "85b568c9",
||||||| 6a30bf1
   "id": "80f028e4",
=======
   "id": "944ea9f3",
>>>>>>> documentation-devel
=======
   "id": "3eb3929f",
>>>>>>> c74c98c2450c2a1ba922ed9442f136238d6bc88b
   "metadata": {},
   "source": [
    "---\n",
    "title: \"10X Multiome ATAC-seq basic quality control \"\n",
    "author: \"Kayla Jackson and A. Sina Booeshaghi\"\n",
    "date: \"`r Sys.Date()`\"\n",
    "output: \n",
    "  html_document:\n",
    "  toc: true\n",
    "  toc_float:\n",
    "    collapsed: false\n",
    "  toc_depth: 3\n",
    "bibliography: ref.bib\n",
    "vignette: >\n",
    "  %\\VignetteIndexEntry{10xmultiome_qc}\n",
    "  %\\VignetteEngine{knitr::rmarkdown}\n",
    "  %\\VignetteEncoding{UTF-8}\n",
    "---"
   ]
  },
  {
   "cell_type": "code",
   "execution_count": null,
<<<<<<< HEAD
<<<<<<< HEAD
<<<<<<< HEAD
   "id": "7c51de13",
||||||| 6a30bf1
   "id": "d68510c2",
=======
   "id": "8659d118",
>>>>>>> documentation-devel
||||||| d28b18c
   "id": "8659d118",
=======
   "id": "48cc5628",
>>>>>>> documentation-devel
||||||| 6893f63
<<<<<<< HEAD
   "id": "7c51de13",
||||||| 6a30bf1
   "id": "d68510c2",
=======
   "id": "8659d118",
>>>>>>> documentation-devel
=======
   "id": "11f9bef6",
>>>>>>> c74c98c2450c2a1ba922ed9442f136238d6bc88b
   "metadata": {
    "tags": [
     "remove_cell"
    ]
   },
   "outputs": [],
   "source": [
    "knitr::opts_chunk$set(\n",
    "  collapse = TRUE,\n",
    "  comment = \"#>\", fig.align = \"center\"\n",
    ")"
   ]
  },
  {
   "cell_type": "code",
   "execution_count": null,
<<<<<<< HEAD
<<<<<<< HEAD
<<<<<<< HEAD
   "id": "d0777a91",
||||||| 6a30bf1
   "id": "72619ccf",
=======
   "id": "9198a638",
>>>>>>> documentation-devel
||||||| d28b18c
   "id": "9198a638",
=======
   "id": "d2b52648",
>>>>>>> documentation-devel
||||||| 6893f63
<<<<<<< HEAD
   "id": "d0777a91",
||||||| 6a30bf1
   "id": "72619ccf",
=======
   "id": "9198a638",
>>>>>>> documentation-devel
=======
   "id": "6cc7001b",
>>>>>>> c74c98c2450c2a1ba922ed9442f136238d6bc88b
   "metadata": {
    "eval": false,
    "tags": [
     "remove_cell"
    ]
   },
   "outputs": [],
   "source": [
    "# Install Google Colab dependencies\n",
    "# Note: this can take 30+ minutes (many of the dependencies include C++ code, which needs to be compiled)\n",
    "\n",
    "# First install `sf`, `ragg` and `textshaping` and their system dependencies:\n",
    "system(\"apt-get -y update && apt-get install -y  libudunits2-dev libgdal-dev libgeos-dev libproj-dev libharfbuzz-dev libfribidi-dev\")\n",
    "install.packages(\"sf\")\n",
    "install.packages(\"textshaping\")\n",
    "install.packages(\"ragg\")\n",
    "\n",
    "# Install system dependencies of some other R packages that Voyager either imports or suggests:\n",
    "system(\"apt-get install -y libfribidi-dev libcairo2-dev libmagick++-dev\")\n",
    "\n",
    "# Install Voyager from Bioconductor:\n",
    "install.packages(\"BiocManager\")\n",
    "BiocManager::install(version = \"3.17\", ask = FALSE, update = FALSE, Ncpus = 2)\n",
    "BiocManager::install(\"scater\")\n",
    "system.time(\n",
    "  BiocManager::install(\"Voyager\", dependencies = TRUE, Ncpus = 2, update = FALSE)\n",
    ")\n",
    "\n",
    "\n",
    "packageVersion(\"Voyager\")"
   ]
  },
  {
   "cell_type": "markdown",
<<<<<<< HEAD
<<<<<<< HEAD
<<<<<<< HEAD
   "id": "b52f2d33",
||||||| 6a30bf1
   "id": "ebd202c6",
=======
   "id": "85adb882",
>>>>>>> documentation-devel
||||||| d28b18c
   "id": "85adb882",
=======
   "id": "e2b3b8e1",
>>>>>>> documentation-devel
||||||| 6893f63
<<<<<<< HEAD
   "id": "b52f2d33",
||||||| 6a30bf1
   "id": "ebd202c6",
=======
   "id": "85adb882",
>>>>>>> documentation-devel
=======
   "id": "b6bf9549",
>>>>>>> c74c98c2450c2a1ba922ed9442f136238d6bc88b
   "metadata": {},
   "source": [
    "# Introduction\n",
    "The data in this vignette is shipped with the `cellatlas` repository. The count matrix and metadata are provided in the `cellatlas/examples` folder as an [`AnnData`](https://anndata-tutorials.readthedocs.io/en/latest/getting-started.html) object. We will begin by loading the object and converting it to a `SingleCellExperiment` object. \n"
   ]
  },
  {
   "cell_type": "code",
   "execution_count": null,
<<<<<<< HEAD
<<<<<<< HEAD
<<<<<<< HEAD
   "id": "fff083a9",
||||||| 6a30bf1
   "id": "8e0f0626",
=======
   "id": "a9dd3070",
>>>>>>> documentation-devel
||||||| d28b18c
   "id": "a9dd3070",
=======
   "id": "fd8c79d6",
>>>>>>> documentation-devel
||||||| 6893f63
<<<<<<< HEAD
   "id": "fff083a9",
||||||| 6a30bf1
   "id": "8e0f0626",
=======
   "id": "a9dd3070",
>>>>>>> documentation-devel
=======
   "id": "b840968e",
>>>>>>> c74c98c2450c2a1ba922ed9442f136238d6bc88b
   "metadata": {
    "message": false
   },
   "outputs": [],
   "source": [
    "library(stringr)\n",
    "library(DropletUtils)\n",
    "library(Matrix)\n",
    "library(SpatialExperiment)\n",
    "library(SpatialFeatureExperiment)\n",
    "library(scater)\n",
    "library(scuttle)\n",
    "library(Voyager)\n",
    "library(zellkonverter)\n",
    "library(ggplot2)\n",
    "theme_set(theme_bw())"
   ]
  },
  {
   "cell_type": "code",
   "execution_count": null,
<<<<<<< HEAD
<<<<<<< HEAD
<<<<<<< HEAD
   "id": "17a75d06",
||||||| 6a30bf1
   "id": "6430d330",
=======
   "id": "87208fb9",
>>>>>>> documentation-devel
||||||| d28b18c
   "id": "87208fb9",
=======
   "id": "58e07b74",
>>>>>>> documentation-devel
||||||| 6893f63
<<<<<<< HEAD
   "id": "17a75d06",
||||||| 6a30bf1
   "id": "6430d330",
=======
   "id": "87208fb9",
>>>>>>> documentation-devel
=======
   "id": "cb41b745",
>>>>>>> c74c98c2450c2a1ba922ed9442f136238d6bc88b
   "metadata": {
    "message": false,
    "name": "dwnld",
    "tags": [
     "remove_output"
    ]
   },
   "outputs": [],
   "source": [
    "download.file(\"https://github.com/cellatlas/cellatlas/raw/main/examples/atac-10xmultiome/cellatlas_out/adata.h5ad.gz\", \n",
    "                  \"adata.h5ad.gz\", quiet = TRUE)\n",
    "system(\"gunzip -f adata.h5ad.gz\")\n",
    "sce <- readH5AD(\"adata.h5ad\")\n",
    "assayNames(sce) <- \"counts\""
   ]
  },
  {
   "cell_type": "code",
   "execution_count": null,
<<<<<<< HEAD
<<<<<<< HEAD
<<<<<<< HEAD
   "id": "a0f010c4",
||||||| 6a30bf1
   "id": "893f343c",
=======
   "id": "72e74118",
>>>>>>> documentation-devel
||||||| d28b18c
   "id": "72e74118",
=======
   "id": "cfa5e626",
>>>>>>> documentation-devel
||||||| 6893f63
<<<<<<< HEAD
   "id": "a0f010c4",
||||||| 6a30bf1
   "id": "893f343c",
=======
   "id": "72e74118",
>>>>>>> documentation-devel
=======
   "id": "a1af1d4c",
>>>>>>> c74c98c2450c2a1ba922ed9442f136238d6bc88b
   "metadata": {},
   "outputs": [],
   "source": [
    "sce <- addPerCellQCMetrics(sce)\n",
    "names(colData(sce))"
   ]
  },
  {
   "cell_type": "code",
   "execution_count": null,
<<<<<<< HEAD
<<<<<<< HEAD
<<<<<<< HEAD
   "id": "4a7573ac",
||||||| 6a30bf1
   "id": "6ccb033b",
=======
   "id": "067f05f9",
>>>>>>> documentation-devel
||||||| d28b18c
   "id": "067f05f9",
=======
   "id": "44b8f1fa",
>>>>>>> documentation-devel
||||||| 6893f63
<<<<<<< HEAD
   "id": "4a7573ac",
||||||| 6a30bf1
   "id": "6ccb033b",
=======
   "id": "067f05f9",
>>>>>>> documentation-devel
=======
   "id": "745272a0",
>>>>>>> c74c98c2450c2a1ba922ed9442f136238d6bc88b
   "metadata": {},
   "outputs": [],
   "source": [
    "plotColData(sce, \"sum\") +\n",
    "    plotColData(sce, \"detected\") "
   ]
  },
  {
   "cell_type": "code",
   "execution_count": null,
<<<<<<< HEAD
<<<<<<< HEAD
<<<<<<< HEAD
   "id": "e6624319",
||||||| 6a30bf1
   "id": "d01656b4",
=======
   "id": "0488f196",
>>>>>>> documentation-devel
||||||| d28b18c
   "id": "0488f196",
=======
   "id": "6b2e2e1f",
>>>>>>> documentation-devel
||||||| 6893f63
<<<<<<< HEAD
   "id": "e6624319",
||||||| 6a30bf1
   "id": "d01656b4",
=======
   "id": "0488f196",
>>>>>>> documentation-devel
=======
   "id": "f1ab848c",
>>>>>>> c74c98c2450c2a1ba922ed9442f136238d6bc88b
   "metadata": {
    "lines_to_next_cell": 2
   },
   "outputs": [],
   "source": [
    "plotColData(sce, x = \"sum\", y = \"detected\", bins = 100) +\n",
    "    scale_fill_distiller(palette = \"Blues\", direction = 1)"
   ]
  },
  {
   "cell_type": "code",
   "execution_count": null,
<<<<<<< HEAD
<<<<<<< HEAD
<<<<<<< HEAD
   "id": "d7290f77",
||||||| 6a30bf1
   "id": "e22f1998",
=======
   "id": "af2ad5d5",
>>>>>>> documentation-devel
||||||| d28b18c
   "id": "af2ad5d5",
=======
   "id": "9cdd0ddf",
>>>>>>> documentation-devel
||||||| 6893f63
<<<<<<< HEAD
   "id": "d7290f77",
||||||| 6a30bf1
   "id": "e22f1998",
=======
   "id": "af2ad5d5",
>>>>>>> documentation-devel
=======
   "id": "daceec3a",
>>>>>>> c74c98c2450c2a1ba922ed9442f136238d6bc88b
   "metadata": {
    "name": "subset-qc"
   },
   "outputs": [],
   "source": [
    "sce <- sce[, which(sce$total > 0)]\n",
    "sce <- sce[rowSums(counts(sce)) > 0,]\n",
    "\n",
    "sce"
   ]
  },
  {
   "cell_type": "code",
   "execution_count": null,
<<<<<<< HEAD
<<<<<<< HEAD
<<<<<<< HEAD
   "id": "9a5bc023",
||||||| 6a30bf1
   "id": "c3e50765",
=======
   "id": "f84d53ad",
>>>>>>> documentation-devel
||||||| d28b18c
   "id": "f84d53ad",
=======
   "id": "a8fdb2a7",
>>>>>>> documentation-devel
||||||| 6893f63
<<<<<<< HEAD
   "id": "9a5bc023",
||||||| 6a30bf1
   "id": "c3e50765",
=======
   "id": "f84d53ad",
>>>>>>> documentation-devel
=======
   "id": "19583e9d",
>>>>>>> c74c98c2450c2a1ba922ed9442f136238d6bc88b
   "metadata": {},
   "outputs": [],
   "source": [
    "sessionInfo()"
   ]
  }
 ],
 "metadata": {
  "kernelspec": {
   "display_name": "R",
   "language": "R",
   "name": "ir"
  }
 },
 "nbformat": 4,
 "nbformat_minor": 5
}
