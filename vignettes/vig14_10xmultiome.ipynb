{
 "cells": [
  {
   "cell_type": "raw",
<<<<<<< HEAD
<<<<<<< HEAD
<<<<<<< HEAD
   "id": "f006e545",
||||||| fa5abb84
   "id": "e6bbf34e",
=======
   "id": "864f44c4",
>>>>>>> documentation-devel
||||||| 7e3277eb
   "id": "864f44c4",
=======
   "id": "6546001b",
>>>>>>> documentation-devel
||||||| 971bf77c
<<<<<<< HEAD
   "id": "f006e545",
||||||| fa5abb84
   "id": "e6bbf34e",
=======
   "id": "864f44c4",
>>>>>>> documentation-devel
=======
   "id": "6be7311b",
>>>>>>> e1d793125c0aeb7e34aca09298b9c5b44973e4b3
   "metadata": {},
   "source": [
    "---\n",
    "title: \"10X Multiome ATAC-seq basic quality control \"\n",
    "author: \"Kayla Jackson and A. Sina Booeshaghi\"\n",
    "date: \"`r Sys.Date()`\"\n",
    "output: \n",
    "  html_document:\n",
    "  toc: true\n",
    "  toc_float:\n",
    "    collapsed: false\n",
    "  toc_depth: 3\n",
    "bibliography: ref.bib\n",
    "vignette: >\n",
    "  %\\VignetteIndexEntry{10xmultiome_qc}\n",
    "  %\\VignetteEngine{knitr::rmarkdown}\n",
    "  %\\VignetteEncoding{UTF-8}\n",
    "---"
   ]
  },
  {
   "cell_type": "code",
   "execution_count": null,
<<<<<<< HEAD
<<<<<<< HEAD
<<<<<<< HEAD
   "id": "e70c2531",
||||||| fa5abb84
   "id": "66518af5",
=======
   "id": "1aca13bf",
>>>>>>> documentation-devel
||||||| 7e3277eb
   "id": "1aca13bf",
=======
   "id": "b3695347",
>>>>>>> documentation-devel
||||||| 971bf77c
<<<<<<< HEAD
   "id": "e70c2531",
||||||| fa5abb84
   "id": "66518af5",
=======
   "id": "1aca13bf",
>>>>>>> documentation-devel
=======
   "id": "ba36de0b",
>>>>>>> e1d793125c0aeb7e34aca09298b9c5b44973e4b3
   "metadata": {
    "tags": [
     "remove_cell"
    ]
   },
   "outputs": [],
   "source": [
    "knitr::opts_chunk$set(\n",
    "  collapse = TRUE,\n",
    "  comment = \"#>\", fig.align = \"center\"\n",
    ")"
   ]
  },
  {
   "cell_type": "code",
   "execution_count": null,
<<<<<<< HEAD
<<<<<<< HEAD
<<<<<<< HEAD
   "id": "f5c2f69e",
||||||| fa5abb84
   "id": "94681001",
=======
   "id": "4c21f5af",
>>>>>>> documentation-devel
||||||| 7e3277eb
   "id": "4c21f5af",
=======
   "id": "076a65cb",
>>>>>>> documentation-devel
||||||| 971bf77c
<<<<<<< HEAD
   "id": "f5c2f69e",
||||||| fa5abb84
   "id": "94681001",
=======
   "id": "4c21f5af",
>>>>>>> documentation-devel
=======
   "id": "de4ec846",
>>>>>>> e1d793125c0aeb7e34aca09298b9c5b44973e4b3
   "metadata": {
    "eval": false,
    "tags": [
     "remove_cell"
    ]
   },
   "outputs": [],
   "source": [
    "# Install Google Colab dependencies\n",
    "# Note: this can take 30+ minutes (many of the dependencies include C++ code, which needs to be compiled)\n",
    "\n",
    "# First install `sf`, `ragg` and `textshaping` and their system dependencies:\n",
    "system(\"apt-get -y update && apt-get install -y  libudunits2-dev libgdal-dev libgeos-dev libproj-dev libharfbuzz-dev libfribidi-dev\")\n",
    "install.packages(\"sf\")\n",
    "install.packages(\"textshaping\")\n",
    "install.packages(\"ragg\")\n",
    "\n",
    "# Install system dependencies of some other R packages that Voyager either imports or suggests:\n",
    "system(\"apt-get install -y libfribidi-dev libcairo2-dev libmagick++-dev\")\n",
    "\n",
    "# Install Voyager from Bioconductor:\n",
    "install.packages(\"BiocManager\")\n",
    "BiocManager::install(version = \"3.17\", ask = FALSE, update = FALSE, Ncpus = 2)\n",
    "BiocManager::install(\"scater\")\n",
    "system.time(\n",
    "  BiocManager::install(\"Voyager\", dependencies = TRUE, Ncpus = 2, update = FALSE)\n",
    ")\n",
    "\n",
    "\n",
    "packageVersion(\"Voyager\")"
   ]
  },
  {
   "cell_type": "markdown",
<<<<<<< HEAD
<<<<<<< HEAD
<<<<<<< HEAD
   "id": "ec5d60c2",
||||||| fa5abb84
   "id": "d4721015",
=======
   "id": "89b42584",
>>>>>>> documentation-devel
||||||| 7e3277eb
   "id": "89b42584",
=======
   "id": "9da8107a",
>>>>>>> documentation-devel
||||||| 971bf77c
<<<<<<< HEAD
   "id": "ec5d60c2",
||||||| fa5abb84
   "id": "d4721015",
=======
   "id": "89b42584",
>>>>>>> documentation-devel
=======
   "id": "b4ee0276",
>>>>>>> e1d793125c0aeb7e34aca09298b9c5b44973e4b3
   "metadata": {},
   "source": [
    "# Introduction\n",
    "The data in this vignette is shipped with the `cellatlas` repository. The count matrix and metadata are provided in the `cellatlas/examples` folder as an [`AnnData`](https://anndata-tutorials.readthedocs.io/en/latest/getting-started.html) object. We will begin by loading the object and converting it to a `SingleCellExperiment` object. \n"
   ]
  },
  {
   "cell_type": "code",
   "execution_count": null,
<<<<<<< HEAD
<<<<<<< HEAD
<<<<<<< HEAD
   "id": "2b928b28",
||||||| fa5abb84
   "id": "0bec3fb4",
=======
   "id": "5c0339d7",
>>>>>>> documentation-devel
||||||| 7e3277eb
   "id": "5c0339d7",
=======
   "id": "1273c8ec",
>>>>>>> documentation-devel
||||||| 971bf77c
<<<<<<< HEAD
   "id": "2b928b28",
||||||| fa5abb84
   "id": "0bec3fb4",
=======
   "id": "5c0339d7",
>>>>>>> documentation-devel
=======
   "id": "4c88c45e",
>>>>>>> e1d793125c0aeb7e34aca09298b9c5b44973e4b3
   "metadata": {
    "message": false
   },
   "outputs": [],
   "source": [
    "library(stringr)\n",
    "library(DropletUtils)\n",
    "library(Matrix)\n",
    "library(SpatialExperiment)\n",
    "library(SpatialFeatureExperiment)\n",
    "library(scater)\n",
    "library(scuttle)\n",
    "library(Voyager)\n",
    "library(ggplot2)\n",
    "theme_set(theme_bw())"
   ]
  },
  {
   "cell_type": "code",
   "execution_count": null,
<<<<<<< HEAD
<<<<<<< HEAD
<<<<<<< HEAD
   "id": "ae16756e",
||||||| 971bf77c
<<<<<<< HEAD
   "id": "ae16756e",
=======
   "id": "f4a7f755",
>>>>>>> e1d793125c0aeb7e34aca09298b9c5b44973e4b3
   "metadata": {
    "message": true,
    "tags": [
     "remove_output"
    ]
   },
<<<<<<< HEAD
||||||| fa5abb84
   "id": "d2e01ce6",
   "metadata": {
    "message": false,
    "name": "dwnld",
    "tags": [
     "remove_output"
    ]
   },
=======
   "id": "4a2c0c3b",
   "metadata": {},
>>>>>>> documentation-devel
||||||| 7e3277eb
   "id": "4a2c0c3b",
   "metadata": {},
=======
   "id": "cf5c559a",
   "metadata": {
    "message": true,
    "tags": [
     "remove_output"
    ]
   },
>>>>>>> documentation-devel
||||||| 971bf77c
||||||| fa5abb84
   "id": "d2e01ce6",
   "metadata": {
    "message": false,
    "name": "dwnld",
    "tags": [
     "remove_output"
    ]
   },
=======
   "id": "4a2c0c3b",
   "metadata": {},
>>>>>>> documentation-devel
=======
>>>>>>> e1d793125c0aeb7e34aca09298b9c5b44973e4b3
   "outputs": [],
   "source": [
    "if (!file.exists(\"10xmultiome.rds\"))\n",
    "    download.file(\"https://github.com/pachterlab/voyager/raw/documentation-devel/vignettes/10xmultiome.rds\", destfile = \"10xmultiome.rds\")\n",
    "sce <- readRDS(\"10xmultiome.rds\")"
   ]
  },
  {
   "cell_type": "code",
   "execution_count": null,
<<<<<<< HEAD
<<<<<<< HEAD
<<<<<<< HEAD
   "id": "eb5d81c5",
||||||| fa5abb84
   "id": "98f90b44",
=======
   "id": "ebfc8b4f",
>>>>>>> documentation-devel
||||||| 7e3277eb
   "id": "ebfc8b4f",
=======
   "id": "d1261640",
>>>>>>> documentation-devel
||||||| 971bf77c
<<<<<<< HEAD
   "id": "eb5d81c5",
||||||| fa5abb84
   "id": "98f90b44",
=======
   "id": "ebfc8b4f",
>>>>>>> documentation-devel
=======
   "id": "6332817a",
>>>>>>> e1d793125c0aeb7e34aca09298b9c5b44973e4b3
   "metadata": {},
   "outputs": [],
   "source": [
    "sce <- addPerCellQCMetrics(sce)\n",
    "names(colData(sce))"
   ]
  },
  {
   "cell_type": "code",
   "execution_count": null,
<<<<<<< HEAD
<<<<<<< HEAD
<<<<<<< HEAD
   "id": "c9a95ea4",
||||||| fa5abb84
   "id": "0074bdde",
=======
   "id": "21b6b843",
>>>>>>> documentation-devel
||||||| 7e3277eb
   "id": "21b6b843",
=======
   "id": "be9eeb24",
>>>>>>> documentation-devel
||||||| 971bf77c
<<<<<<< HEAD
   "id": "c9a95ea4",
||||||| fa5abb84
   "id": "0074bdde",
=======
   "id": "21b6b843",
>>>>>>> documentation-devel
=======
   "id": "1db5dc43",
>>>>>>> e1d793125c0aeb7e34aca09298b9c5b44973e4b3
   "metadata": {},
   "outputs": [],
   "source": [
    "plotColData(sce, \"sum\") +\n",
    "    plotColData(sce, \"detected\") "
   ]
  },
  {
   "cell_type": "code",
   "execution_count": null,
<<<<<<< HEAD
<<<<<<< HEAD
<<<<<<< HEAD
   "id": "536f194f",
||||||| fa5abb84
   "id": "5fd36275",
=======
   "id": "bb8cc294",
>>>>>>> documentation-devel
||||||| 7e3277eb
   "id": "bb8cc294",
=======
   "id": "29892afc",
>>>>>>> documentation-devel
||||||| 971bf77c
<<<<<<< HEAD
   "id": "536f194f",
||||||| fa5abb84
   "id": "5fd36275",
=======
   "id": "bb8cc294",
>>>>>>> documentation-devel
=======
   "id": "fb88e4b9",
>>>>>>> e1d793125c0aeb7e34aca09298b9c5b44973e4b3
   "metadata": {
    "lines_to_next_cell": 2
   },
   "outputs": [],
   "source": [
    "plotColData(sce, x = \"sum\", y = \"detected\", bins = 100) +\n",
    "    scale_fill_distiller(palette = \"Blues\", direction = 1)"
   ]
  },
  {
   "cell_type": "code",
   "execution_count": null,
<<<<<<< HEAD
<<<<<<< HEAD
<<<<<<< HEAD
   "id": "695252a6",
||||||| fa5abb84
   "id": "66b7a070",
=======
   "id": "e0990953",
>>>>>>> documentation-devel
||||||| 7e3277eb
   "id": "e0990953",
=======
   "id": "5f244294",
>>>>>>> documentation-devel
||||||| 971bf77c
<<<<<<< HEAD
   "id": "695252a6",
||||||| fa5abb84
   "id": "66b7a070",
=======
   "id": "e0990953",
>>>>>>> documentation-devel
=======
   "id": "7e466683",
>>>>>>> e1d793125c0aeb7e34aca09298b9c5b44973e4b3
   "metadata": {
    "name": "subset-qc"
   },
   "outputs": [],
   "source": [
    "sce <- sce[, which(sce$total > 0)]\n",
    "sce <- sce[rowSums(counts(sce)) > 0,]\n",
    "\n",
    "sce"
   ]
  },
  {
   "cell_type": "code",
   "execution_count": null,
<<<<<<< HEAD
<<<<<<< HEAD
<<<<<<< HEAD
   "id": "adb45e67",
||||||| fa5abb84
   "id": "84881ec0",
=======
   "id": "3b277146",
>>>>>>> documentation-devel
||||||| 7e3277eb
   "id": "3b277146",
=======
   "id": "b1cf2ca5",
>>>>>>> documentation-devel
||||||| 971bf77c
<<<<<<< HEAD
   "id": "adb45e67",
||||||| fa5abb84
   "id": "84881ec0",
=======
   "id": "3b277146",
>>>>>>> documentation-devel
=======
   "id": "596e8584",
>>>>>>> e1d793125c0aeb7e34aca09298b9c5b44973e4b3
   "metadata": {},
   "outputs": [],
   "source": [
    "sessionInfo()"
   ]
  }
 ],
 "metadata": {
  "kernelspec": {
   "display_name": "R",
   "language": "R",
   "name": "ir"
  }
 },
 "nbformat": 4,
 "nbformat_minor": 5
}
