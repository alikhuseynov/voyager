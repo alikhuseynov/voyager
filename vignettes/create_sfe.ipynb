{
 "cells": [
  {
   "cell_type": "raw",
<<<<<<< HEAD
<<<<<<< HEAD
<<<<<<< HEAD
<<<<<<< HEAD
   "id": "5765edfd",
||||||| merged common ancestors
   "id": "fe45f26f",
=======
   "id": "befe3abb",
>>>>>>> documentation-devel
||||||| f5a2d7c
   "id": "befe3abb",
=======
   "id": "16030146",
>>>>>>> documentation-devel
||||||| de7e30d
   "id": "5765edfd",
=======
   "id": "30c44393",
>>>>>>> 03b044928c05aca10f627eea0665560c78e150c1
||||||| 1f675c8
   "id": "16030146",
=======
   "id": "32a09fdc",
>>>>>>> documentation-devel
   "metadata": {},
   "source": [
    "---\n",
    "title: \"Create a SpatialFeatureExperiment object\"\n",
    "author: \"Lambda Moses\"\n",
    "date: \"`r Sys.Date()`\"\n",
    "output: \n",
    "  html_document:\n",
    "  toc: true\n",
    "  toc_float:\n",
    "    collapsed: false\n",
    "  toc_depth: 3\n",
    "vignette: >\n",
    "  %\\VignetteIndexEntry{create_sfe}\n",
    "  %\\VignetteEngine{knitr::rmarkdown}\n",
    "  %\\VignetteEncoding{UTF-8}\n",
    "---"
   ]
  },
  {
   "cell_type": "code",
   "execution_count": null,
<<<<<<< HEAD
<<<<<<< HEAD
<<<<<<< HEAD
<<<<<<< HEAD
   "id": "9e731ac2",
||||||| merged common ancestors
   "id": "07ac19ab",
=======
   "id": "65c34d00",
>>>>>>> documentation-devel
||||||| f5a2d7c
   "id": "65c34d00",
=======
   "id": "e82dbf51",
>>>>>>> documentation-devel
||||||| de7e30d
   "id": "9e731ac2",
=======
   "id": "de9c7cff",
>>>>>>> 03b044928c05aca10f627eea0665560c78e150c1
||||||| 1f675c8
   "id": "e82dbf51",
=======
   "id": "4ada1356",
>>>>>>> documentation-devel
   "metadata": {
    "tags": [
     "remove_cell"
    ]
   },
   "outputs": [],
   "source": [
    "knitr::opts_chunk$set(\n",
    "  collapse = TRUE,\n",
    "  comment = \"#>\"\n",
    ")"
   ]
  },
  {
   "cell_type": "code",
   "execution_count": null,
<<<<<<< HEAD
<<<<<<< HEAD
<<<<<<< HEAD
<<<<<<< HEAD
   "id": "ed4a42a6",
||||||| merged common ancestors
   "id": "524ad3df",
=======
   "id": "be6d8b95",
>>>>>>> documentation-devel
||||||| f5a2d7c
   "id": "be6d8b95",
=======
   "id": "d7dc2bee",
>>>>>>> documentation-devel
||||||| de7e30d
   "id": "ed4a42a6",
=======
   "id": "be33c55c",
>>>>>>> 03b044928c05aca10f627eea0665560c78e150c1
||||||| 1f675c8
   "id": "d7dc2bee",
=======
   "id": "e995db22",
>>>>>>> documentation-devel
   "metadata": {
    "eval": false,
    "tags": [
     "remove_cell"
    ]
   },
   "outputs": [],
   "source": [
    "# Install Google Colab dependencies\n",
    "# Note: this can take 30+ minutes (many of the dependencies include C++ code, which needs to be compiled)\n",
    "\n",
    "# First install `sf`, `ragg` and `textshaping` and their system dependencies:\n",
    "system(\"apt-get -y update && apt-get install -y  libudunits2-dev libgdal-dev libgeos-dev libproj-dev libharfbuzz-dev libfribidi-dev\")\n",
    "install.packages(\"sf\")\n",
    "install.packages(\"textshaping\")\n",
    "install.packages(\"ragg\")\n",
    "\n",
    "# Install system dependencies of some other R packages that Voyager either imports or suggests:\n",
    "system(\"apt-get install -y libfribidi-dev libcairo2-dev libmagick++-dev\")\n",
    "\n",
    "# Install Voyager from Bioconductor:\n",
    "install.packages(\"BiocManager\")\n",
    "BiocManager::install(version = \"3.17\", ask = FALSE, update = FALSE, Ncpus = 2)\n",
    "BiocManager::install(\"scater\")\n",
    "system.time(\n",
    "  BiocManager::install(\"Voyager\", dependencies = TRUE, Ncpus = 2, update = FALSE)\n",
    ")\n",
    "\n",
    "# Additional dependencies for this notebook\n",
    "install.packages(\"arrow\")\n",
    "\n",
    "packageVersion(\"Voyager\")"
   ]
  },
  {
   "cell_type": "code",
   "execution_count": null,
<<<<<<< HEAD
<<<<<<< HEAD
<<<<<<< HEAD
<<<<<<< HEAD
   "id": "23038de7",
||||||| merged common ancestors
   "id": "456e080e",
=======
   "id": "32b020df",
>>>>>>> documentation-devel
||||||| f5a2d7c
   "id": "32b020df",
=======
   "id": "8445ff68",
>>>>>>> documentation-devel
||||||| de7e30d
   "id": "23038de7",
=======
   "id": "e79823ab",
>>>>>>> 03b044928c05aca10f627eea0665560c78e150c1
||||||| 1f675c8
   "id": "8445ff68",
=======
   "id": "7c7ab258",
>>>>>>> documentation-devel
   "metadata": {
    "name": "setup"
   },
   "outputs": [],
   "source": [
    "library(Voyager)\n",
    "library(SpatialFeatureExperiment)\n",
    "library(rjson)\n",
    "library(Matrix)"
   ]
  },
  {
   "cell_type": "markdown",
<<<<<<< HEAD
<<<<<<< HEAD
<<<<<<< HEAD
<<<<<<< HEAD
   "id": "27725bb6",
||||||| merged common ancestors
   "id": "19d156fa",
=======
   "id": "110f90d5",
>>>>>>> documentation-devel
||||||| f5a2d7c
   "id": "110f90d5",
=======
   "id": "2414764a",
>>>>>>> documentation-devel
||||||| de7e30d
   "id": "27725bb6",
=======
   "id": "ee50907d",
>>>>>>> 03b044928c05aca10f627eea0665560c78e150c1
||||||| 1f675c8
   "id": "2414764a",
=======
   "id": "31859830",
>>>>>>> documentation-devel
   "metadata": {},
   "source": [
    "# Visium Space Ranger output\n",
    "\n",
    "10x Genomics Space Ranger output from a Visium experiment can be read in a similar manner as in `SpatialExperiment`; the `SpatialFeatureExperiment` SFE object has the `spotPoly` column geometry for the spot polygons. If the filtered matrix (i.e. only spots in the tissue) is read in, then a column graph called `visium` will also be present for the spatial neighborhood graph of the Visium spots on the tissue. The graph is not computed if all spots are read in regardless of whether they are on tissue."
   ]
  },
  {
   "cell_type": "code",
   "execution_count": null,
<<<<<<< HEAD
<<<<<<< HEAD
<<<<<<< HEAD
<<<<<<< HEAD
   "id": "4ac44e13",
||||||| merged common ancestors
   "id": "3a056ecf",
=======
   "id": "18453a81",
>>>>>>> documentation-devel
||||||| f5a2d7c
   "id": "18453a81",
=======
   "id": "2a1f741f",
>>>>>>> documentation-devel
||||||| de7e30d
   "id": "4ac44e13",
=======
   "id": "abfd7cdd",
>>>>>>> 03b044928c05aca10f627eea0665560c78e150c1
||||||| 1f675c8
   "id": "2a1f741f",
=======
   "id": "e99f51b2",
>>>>>>> documentation-devel
   "metadata": {},
   "outputs": [],
   "source": [
    "# Example from SpatialExperiment\n",
    "dir <- system.file(\n",
    "  file.path(\"extdata\", \"10xVisium\"), \n",
    "  package = \"SpatialExperiment\")\n",
    "  \n",
    "sample_ids <- c(\"section1\", \"section2\")\n",
    "(samples <- file.path(dir, sample_ids, \"outs\"))"
   ]
  },
  {
   "cell_type": "markdown",
<<<<<<< HEAD
<<<<<<< HEAD
<<<<<<< HEAD
<<<<<<< HEAD
   "id": "da471098",
||||||| merged common ancestors
   "id": "a763580d",
=======
   "id": "da7a1381",
>>>>>>> documentation-devel
||||||| f5a2d7c
   "id": "da7a1381",
=======
   "id": "555738ef",
>>>>>>> documentation-devel
||||||| de7e30d
   "id": "da471098",
=======
   "id": "833d625d",
>>>>>>> 03b044928c05aca10f627eea0665560c78e150c1
||||||| 1f675c8
   "id": "555738ef",
=======
   "id": "729ac42b",
>>>>>>> documentation-devel
   "metadata": {},
   "source": [
    "The results for each tissue capture should be in the `outs` directory. Inside the `outs` directory there are two directories: `raw_reature_bc_matrix` has the unfiltered gene count matrix, and `spatial` has the spatial information. "
   ]
  },
  {
   "cell_type": "code",
   "execution_count": null,
<<<<<<< HEAD
<<<<<<< HEAD
<<<<<<< HEAD
<<<<<<< HEAD
   "id": "458c437a",
||||||| merged common ancestors
   "id": "7012e59b",
=======
   "id": "95ddd5c1",
>>>>>>> documentation-devel
||||||| f5a2d7c
   "id": "95ddd5c1",
=======
   "id": "7c876f91",
>>>>>>> documentation-devel
||||||| de7e30d
   "id": "458c437a",
=======
   "id": "347407b2",
>>>>>>> 03b044928c05aca10f627eea0665560c78e150c1
||||||| 1f675c8
   "id": "7c876f91",
=======
   "id": "b6465a62",
>>>>>>> documentation-devel
   "metadata": {},
   "outputs": [],
   "source": [
    "list.files(samples[1])"
   ]
  },
  {
   "cell_type": "markdown",
<<<<<<< HEAD
<<<<<<< HEAD
<<<<<<< HEAD
<<<<<<< HEAD
   "id": "d3b223b8",
||||||| merged common ancestors
   "id": "56ef8e2f",
=======
   "id": "03b3c483",
>>>>>>> documentation-devel
||||||| f5a2d7c
   "id": "03b3c483",
=======
   "id": "928ae84d",
>>>>>>> documentation-devel
||||||| de7e30d
   "id": "d3b223b8",
=======
   "id": "26e8ab8f",
>>>>>>> 03b044928c05aca10f627eea0665560c78e150c1
||||||| 1f675c8
   "id": "928ae84d",
=======
   "id": "1d45dc99",
>>>>>>> documentation-devel
   "metadata": {},
   "source": [
    "The [`DropletUtils`](https://bioconductor.org/packages/release/bioc/html/DropletUtils.html) package has a function `read10xCounts()` which reads the gene count matrix. SPE reads in the spatial information, and SFE uses the spatial information to construct Visium spot polygons and spatial neighborhood graphs. Inside the `spatial` directory:"
   ]
  },
  {
   "cell_type": "code",
   "execution_count": null,
<<<<<<< HEAD
<<<<<<< HEAD
<<<<<<< HEAD
<<<<<<< HEAD
   "id": "bf268595",
||||||| merged common ancestors
   "id": "1463b6d9",
=======
   "id": "c25ed86f",
>>>>>>> documentation-devel
||||||| f5a2d7c
   "id": "c25ed86f",
=======
   "id": "b5b4e5df",
>>>>>>> documentation-devel
||||||| de7e30d
   "id": "bf268595",
=======
   "id": "066da700",
>>>>>>> 03b044928c05aca10f627eea0665560c78e150c1
||||||| 1f675c8
   "id": "b5b4e5df",
=======
   "id": "b9b7f797",
>>>>>>> documentation-devel
   "metadata": {},
   "outputs": [],
   "source": [
    "list.files(file.path(samples[1], \"spatial\"))"
   ]
  },
  {
   "cell_type": "markdown",
<<<<<<< HEAD
<<<<<<< HEAD
<<<<<<< HEAD
<<<<<<< HEAD
   "id": "b6e06736",
||||||| merged common ancestors
   "id": "3d39ccb3",
=======
   "id": "c8df1054",
>>>>>>> documentation-devel
||||||| f5a2d7c
   "id": "c8df1054",
=======
   "id": "22e40255",
>>>>>>> documentation-devel
||||||| de7e30d
   "id": "b6e06736",
=======
   "id": "39518333",
>>>>>>> 03b044928c05aca10f627eea0665560c78e150c1
||||||| 1f675c8
   "id": "22e40255",
=======
   "id": "5e995082",
>>>>>>> documentation-devel
   "metadata": {},
   "source": [
    "`tissue_lowres_image.png` is a low resolution image of the tissue.\n",
    "\n",
    "Inside the `scalefactors_json.json` file:"
   ]
  },
  {
   "cell_type": "code",
   "execution_count": null,
<<<<<<< HEAD
<<<<<<< HEAD
<<<<<<< HEAD
<<<<<<< HEAD
   "id": "80d90f34",
||||||| merged common ancestors
   "id": "555d9858",
=======
   "id": "aca2b457",
>>>>>>> documentation-devel
||||||| f5a2d7c
   "id": "aca2b457",
=======
   "id": "0ff2fd1c",
>>>>>>> documentation-devel
||||||| de7e30d
   "id": "80d90f34",
=======
   "id": "a63fd0eb",
>>>>>>> 03b044928c05aca10f627eea0665560c78e150c1
||||||| 1f675c8
   "id": "0ff2fd1c",
=======
   "id": "e57b1438",
>>>>>>> documentation-devel
   "metadata": {},
   "outputs": [],
   "source": [
    "fromJSON(file = file.path(samples[1], \"spatial\", \"scalefactors_json.json\"))"
   ]
  },
  {
   "cell_type": "markdown",
<<<<<<< HEAD
<<<<<<< HEAD
<<<<<<< HEAD
<<<<<<< HEAD
   "id": "7143d99d",
||||||| merged common ancestors
   "id": "781372d0",
=======
   "id": "4244b40b",
>>>>>>> documentation-devel
||||||| f5a2d7c
   "id": "4244b40b",
=======
   "id": "3d9db7e9",
>>>>>>> documentation-devel
||||||| de7e30d
   "id": "7143d99d",
=======
   "id": "0d59dca1",
>>>>>>> 03b044928c05aca10f627eea0665560c78e150c1
||||||| 1f675c8
   "id": "3d9db7e9",
=======
   "id": "6a8ee30a",
>>>>>>> documentation-devel
   "metadata": {},
   "source": [
    "`spot_diameter_fullres` is the diameter of each Visium spot in the full resolution H&E image in pixels. `tissue_hires_scalef` and `tissue_lowres_scalef` are the ratio of the size of the high resolution (but not full resolution) and low resolution H&E image to the full resolution image. `fiducial_diameter_fullres` is the diameter of each fiducial spot used to align the spots to the H&E image in pixels in the full resolution image.\n",
    "\n",
    "The `tissue_positions_list.csv` file contains information for the spatial coordinates of the spots and whether each spot is in tissue as automatically detected by Space Ranger or manually annotated in the Loupe browser. If the polygon of the tissue boundary is available, whether from image processing or manual annotation, geometric operations as supported by the SFE package, which is based on the `sf` package, can be used to find which spots intersect with the tissue and which spots are contained in the tissue. Geometric operations can also find the polygons of the intersections between spots and the tissue, but the results can get messy since the intersections can have not only polygons but also points and lines. \n",
    "\n",
    "Now we read in the toy data that is in the Space Ranger output format. Since Bioconductor version 3.17 (Voyager version 1.2.0), the image is read as a `SpatRaster` object with the [`terra`](https://rspatial.github.io/terra/index.html) package, so it is not loaded into memory unless necessary. When plotting a large image, it will be downsampled and thus not fully loaded into memory. The unit can be set with the `unit` argument, and can be either pixels in full resolution image or microns. The latter is calculated from the former based on spacing between spots, which is known to be 100 microns."
   ]
  },
  {
   "cell_type": "code",
   "execution_count": null,
<<<<<<< HEAD
<<<<<<< HEAD
<<<<<<< HEAD
<<<<<<< HEAD
   "id": "a37a8a56",
||||||| merged common ancestors
   "id": "46d65abe",
=======
   "id": "d357dd4f",
>>>>>>> documentation-devel
||||||| f5a2d7c
   "id": "d357dd4f",
=======
   "id": "248e079c",
>>>>>>> documentation-devel
||||||| de7e30d
   "id": "a37a8a56",
=======
   "id": "b07380e5",
>>>>>>> 03b044928c05aca10f627eea0665560c78e150c1
||||||| 1f675c8
   "id": "248e079c",
=======
   "id": "52d152d3",
>>>>>>> documentation-devel
   "metadata": {},
   "outputs": [],
   "source": [
    "(sfe3 <- read10xVisiumSFE(samples, dirs = samples, sample_id = sample_ids, \n",
    "                          type = \"sparse\", data = \"raw\", images = \"lowres\", \n",
    "                          unit = \"full_res_image_pixel\"))"
   ]
  },
  {
   "cell_type": "markdown",
<<<<<<< HEAD
<<<<<<< HEAD
<<<<<<< HEAD
<<<<<<< HEAD
   "id": "e80d2608",
||||||| merged common ancestors
   "id": "a6cbcc85",
=======
   "id": "150c71cc",
>>>>>>> documentation-devel
||||||| f5a2d7c
   "id": "150c71cc",
=======
   "id": "4a23db3b",
>>>>>>> documentation-devel
||||||| de7e30d
   "id": "e80d2608",
=======
   "id": "2bea233a",
>>>>>>> 03b044928c05aca10f627eea0665560c78e150c1
||||||| 1f675c8
   "id": "4a23db3b",
=======
   "id": "a503fcdc",
>>>>>>> documentation-devel
   "metadata": {},
   "source": [
    "Space Ranger output includes the gene count matrix, spot coordinates, and spot diameter. The Space Ranger output does NOT include nuclei segmentation or pathologist annotation of histological regions. Extra image processing, such as with ImageJ and QuPath, are required for those geometries.\n",
    "\n",
    "## Vizgen MERFISH output\n",
    "The commercialized MERFISH from Vizgen has a standard output format, that can be read into SFE with `readVizgen()`. Because the cell segmentation from each field of view (FOV) has a separate HDF5 file and a MERFISH dataset can have hundreds of FOVs, we strongly recommend reading the MERFISH output on a server with a large number of CPU cores. Alternatively, some but not all MERFISH datasets store cell segmentation in a `parquet` file, which can be more easily read into R. Here we read a toy dataset which is the first FOV from a real dataset:"
   ]
  },
  {
   "cell_type": "code",
   "execution_count": null,
<<<<<<< HEAD
<<<<<<< HEAD
<<<<<<< HEAD
<<<<<<< HEAD
   "id": "0df5c890",
||||||| merged common ancestors
   "id": "76763330",
=======
   "id": "f2b07be8",
>>>>>>> documentation-devel
||||||| f5a2d7c
   "id": "f2b07be8",
=======
   "id": "1fd83ec9",
>>>>>>> documentation-devel
||||||| de7e30d
   "id": "0df5c890",
=======
   "id": "99db121c",
>>>>>>> 03b044928c05aca10f627eea0665560c78e150c1
||||||| 1f675c8
   "id": "1fd83ec9",
=======
   "id": "70c2a2d9",
>>>>>>> documentation-devel
   "metadata": {},
   "outputs": [],
   "source": [
    "dir_use <- system.file(file.path(\"extdata\", \"vizgen\"), \n",
    "                       package = \"SpatialFeatureExperiment\")"
   ]
  },
  {
   "cell_type": "code",
   "execution_count": null,
<<<<<<< HEAD
<<<<<<< HEAD
<<<<<<< HEAD
<<<<<<< HEAD
   "id": "3b824ad9",
||||||| merged common ancestors
   "id": "27c867a9",
=======
   "id": "b3cf89fe",
>>>>>>> documentation-devel
||||||| f5a2d7c
   "id": "b3cf89fe",
=======
   "id": "c0c712c7",
>>>>>>> documentation-devel
||||||| de7e30d
   "id": "3b824ad9",
=======
   "id": "134b152f",
>>>>>>> 03b044928c05aca10f627eea0665560c78e150c1
||||||| 1f675c8
   "id": "c0c712c7",
=======
   "id": "ac86d0e7",
>>>>>>> documentation-devel
   "metadata": {},
   "outputs": [],
   "source": [
    "(sfe_mer <- readVizgen(dir_use, z = 0L, image = \"PolyT\"))"
   ]
  },
  {
   "cell_type": "markdown",
<<<<<<< HEAD
<<<<<<< HEAD
<<<<<<< HEAD
<<<<<<< HEAD
   "id": "6c321ced",
||||||| merged common ancestors
   "id": "30946b66",
=======
   "id": "9691ab83",
>>>>>>> documentation-devel
||||||| f5a2d7c
   "id": "9691ab83",
=======
   "id": "065d0125",
>>>>>>> documentation-devel
||||||| de7e30d
   "id": "6c321ced",
=======
   "id": "e698c038",
>>>>>>> 03b044928c05aca10f627eea0665560c78e150c1
||||||| 1f675c8
   "id": "065d0125",
=======
   "id": "69c91058",
>>>>>>> documentation-devel
   "metadata": {
    "lines_to_next_cell": 0
   },
   "source": [
    "The unit is always in microns.\n",
    "\n",
    "# Create SFE object from scratch\n",
    "An SFE object can be constructed from scratch with the assay matrices and metadata. In this toy example, `dgCMatrix` is used, but since SFE inherits from SingleCellExperiment (SCE), other types of arrays supported by SCE such as delayed arrays should also work."
   ]
  },
  {
   "cell_type": "code",
   "execution_count": null,
<<<<<<< HEAD
<<<<<<< HEAD
<<<<<<< HEAD
<<<<<<< HEAD
   "id": "89470d9f",
||||||| merged common ancestors
   "id": "850e59c2",
=======
   "id": "4e38b8ba",
>>>>>>> documentation-devel
||||||| f5a2d7c
   "id": "4e38b8ba",
=======
   "id": "5f9baa4a",
>>>>>>> documentation-devel
||||||| de7e30d
   "id": "89470d9f",
=======
   "id": "fe32d7e4",
>>>>>>> 03b044928c05aca10f627eea0665560c78e150c1
||||||| 1f675c8
   "id": "5f9baa4a",
=======
   "id": "4199a567",
>>>>>>> documentation-devel
   "metadata": {},
   "outputs": [],
   "source": [
    "# Visium barcode location from Space Ranger\n",
    "data(\"visium_row_col\")\n",
    "coords1 <- visium_row_col[visium_row_col$col < 6 & visium_row_col$row < 6,]\n",
    "coords1$row <- coords1$row * sqrt(3)\n",
    "\n",
    "# Random toy sparse matrix\n",
    "set.seed(29)\n",
    "col_inds <- sample(1:13, 13)\n",
    "row_inds <- sample(1:5, 13, replace = TRUE)\n",
    "values <- sample(1:5, 13, replace = TRUE)\n",
    "mat <- sparseMatrix(i = row_inds, j = col_inds, x = values)\n",
    "colnames(mat) <- coords1$barcode\n",
    "rownames(mat) <- sample(LETTERS, 5)"
   ]
  },
  {
   "cell_type": "markdown",
<<<<<<< HEAD
<<<<<<< HEAD
<<<<<<< HEAD
<<<<<<< HEAD
   "id": "4835db4d",
||||||| merged common ancestors
   "id": "9a6285d5",
=======
   "id": "37b2ac17",
>>>>>>> documentation-devel
||||||| f5a2d7c
   "id": "37b2ac17",
=======
   "id": "718663cb",
>>>>>>> documentation-devel
||||||| de7e30d
   "id": "4835db4d",
=======
   "id": "f33e9d24",
>>>>>>> 03b044928c05aca10f627eea0665560c78e150c1
||||||| 1f675c8
   "id": "718663cb",
=======
   "id": "c0301615",
>>>>>>> documentation-devel
   "metadata": {
    "lines_to_next_cell": 0
   },
   "source": [
    "This should be sufficient to create an SPE object, and an SFE object, even though no `sf` data frame was constructed for the geometries. The constructor behaves similarly to the SPE constructor. The centroid coordinates of the Visium spots in the example can be converted into spot polygons with the `spotDiameter` argument, which can also be relevant to other technologies with round spots or beads, such as Slide-seq. Spot diameter in pixels in full resolution images can be found in the `scalefactors_json.json` file in Space Ranger output."
   ]
  },
  {
   "cell_type": "code",
   "execution_count": null,
<<<<<<< HEAD
<<<<<<< HEAD
<<<<<<< HEAD
<<<<<<< HEAD
   "id": "16cac261",
||||||| merged common ancestors
   "id": "9d0fd21a",
=======
   "id": "5196c18d",
>>>>>>> documentation-devel
||||||| f5a2d7c
   "id": "5196c18d",
=======
   "id": "82024dfc",
>>>>>>> documentation-devel
||||||| de7e30d
   "id": "16cac261",
=======
   "id": "0f43bcbf",
>>>>>>> 03b044928c05aca10f627eea0665560c78e150c1
||||||| 1f675c8
   "id": "82024dfc",
=======
   "id": "08010e2f",
>>>>>>> documentation-devel
   "metadata": {},
   "outputs": [],
   "source": [
    "sfe3 <- SpatialFeatureExperiment(list(counts = mat), colData = coords1,\n",
    "                                spatialCoordsNames = c(\"col\", \"row\"),\n",
    "                                spotDiameter = 0.7)"
   ]
  },
  {
   "cell_type": "markdown",
<<<<<<< HEAD
<<<<<<< HEAD
<<<<<<< HEAD
<<<<<<< HEAD
   "id": "fb8c39b8",
||||||| merged common ancestors
   "id": "18cacf70",
=======
   "id": "31b19d0b",
>>>>>>> documentation-devel
||||||| f5a2d7c
   "id": "31b19d0b",
=======
   "id": "ae752735",
>>>>>>> documentation-devel
||||||| de7e30d
   "id": "fb8c39b8",
=======
   "id": "0e278f52",
>>>>>>> 03b044928c05aca10f627eea0665560c78e150c1
||||||| 1f675c8
   "id": "ae752735",
=======
   "id": "22bd4587",
>>>>>>> documentation-devel
   "metadata": {
    "lines_to_next_cell": 0
   },
   "source": [
    "More geometries and spatial graphs can be added after calling the constructor.\n",
    "\n",
    "Geometries can also be supplied in the constructor. "
   ]
  },
  {
   "cell_type": "code",
   "execution_count": null,
<<<<<<< HEAD
<<<<<<< HEAD
<<<<<<< HEAD
<<<<<<< HEAD
   "id": "009e0f53",
||||||| merged common ancestors
   "id": "80bf3899",
=======
   "id": "10d9317f",
>>>>>>> documentation-devel
||||||| f5a2d7c
   "id": "10d9317f",
=======
   "id": "81e185a0",
>>>>>>> documentation-devel
||||||| de7e30d
   "id": "009e0f53",
=======
   "id": "005180d7",
>>>>>>> 03b044928c05aca10f627eea0665560c78e150c1
||||||| 1f675c8
   "id": "81e185a0",
=======
   "id": "3f38f590",
>>>>>>> documentation-devel
   "metadata": {},
   "outputs": [],
   "source": [
    "# Convert regular data frame with coordinates to sf data frame\n",
    "cg <- df2sf(coords1[,c(\"col\", \"row\")], c(\"col\", \"row\"), spotDiameter = 0.7)\n",
    "rownames(cg) <- colnames(mat)\n",
    "sfe3 <- SpatialFeatureExperiment(list(counts = mat), colGeometries = list(foo = cg))"
   ]
  },
  {
   "cell_type": "markdown",
<<<<<<< HEAD
<<<<<<< HEAD
<<<<<<< HEAD
<<<<<<< HEAD
   "id": "362f2276",
||||||| merged common ancestors
   "id": "d272e8d2",
=======
   "id": "5709a131",
>>>>>>> documentation-devel
||||||| f5a2d7c
   "id": "5709a131",
=======
   "id": "c7b93fca",
>>>>>>> documentation-devel
||||||| de7e30d
   "id": "362f2276",
=======
   "id": "1f5a1224",
>>>>>>> 03b044928c05aca10f627eea0665560c78e150c1
||||||| 1f675c8
   "id": "c7b93fca",
=======
   "id": "9d20a323",
>>>>>>> documentation-devel
   "metadata": {
    "lines_to_next_cell": 0
   },
   "source": [
    "## Technology specific notes\n",
    "Not all commercial technologies have a function to directly read the outputs. We may implement more such functions in the next version of `SpatialFeatureExperiment`. For now we show example code to read output from CosMX and Xenium.\n",
    "\n",
    "### Gene count matrix and cell metadata\n",
    "The gene count matrix and cell metadata (including cell centroid coordinates) from example datasets for technologies such as CosMX and Vizgen are CSV files. We recommend the [`vroom`](https://vroom.r-lib.org/) package to quickly read in large CSV files. The CSV files are read in as data frames. For the gene count matrix, this can be converted to a matrix and then a sparse `dgCMatrix`. The matrix may need to be transposed so the genes are in rows and cells are in columns. While smFISH based data tend to be less sparse than scRNA-seq data, using sparse matrix is worthwhile since the matrix is still about 50% zero.\n",
    "\n",
    "For 10x Genomics' new single cell resolution technology Xenium, the gene count matrix is an `h5` file, which can be read into R as an SCE object with `DropletUtils::read10xCounts()`. This can then be converted to `SpatialExperiment`, and then `SpatialFeatureExperiment`. The gene count matrix is a `DelayedArray`, so the data is not all loaded into memory and operations on this matrix are performed in chunks. The `DelayedArray` has been converted into a `dgCMatrix` in memory. While the cell metadata is available in the CSV format, there's also the `parquet` format which is more compact on disk, which can be read into R as a data frame with `arrow::read_parquet()`. Example code:"
   ]
  },
  {
   "cell_type": "code",
   "execution_count": null,
<<<<<<< HEAD
<<<<<<< HEAD
<<<<<<< HEAD
<<<<<<< HEAD
   "id": "9ff24aa1",
||||||| merged common ancestors
   "id": "a32f4659",
=======
   "id": "aea0d53b",
>>>>>>> documentation-devel
||||||| f5a2d7c
   "id": "aea0d53b",
=======
   "id": "27f8ccd8",
>>>>>>> documentation-devel
||||||| de7e30d
   "id": "9ff24aa1",
=======
   "id": "d4981e02",
>>>>>>> 03b044928c05aca10f627eea0665560c78e150c1
||||||| 1f675c8
   "id": "27f8ccd8",
=======
   "id": "954bac58",
>>>>>>> documentation-devel
   "metadata": {
    "eval": false
   },
   "outputs": [],
   "source": [
    "# Download data from https://www.10xgenomics.com/products/xenium-in-situ/preview-dataset-human-breast\n",
    "\n",
    "system(\"curl -O https://cf.10xgenomics.com/samples/xenium/1.0.1/Xenium_FFPE_Human_Breast_Cancer_Rep1/Xenium_FFPE_Human_Breast_Cancer_Rep1_outs.zip\")\n",
    "system(\"unzip Xenium_FFPE_Human_Breast_Cancer_Rep1_outs.zip\")\n",
    "system(\"mv outs outs_R1\")\n",
    "\n",
    "system(\"curl -O https://cf.10xgenomics.com/samples/xenium/1.0.1/Xenium_FFPE_Human_Breast_Cancer_Rep2/Xenium_FFPE_Human_Breast_Cancer_Rep2_outs.zip\")\n",
    "system(\"unzip Xenium_FFPE_Human_Breast_Cancer_Rep2_outs.zip\")\n",
    "system(\"mv outs outs_R2\")"
   ]
  },
  {
   "cell_type": "code",
   "execution_count": null,
<<<<<<< HEAD
<<<<<<< HEAD
<<<<<<< HEAD
<<<<<<< HEAD
   "id": "340bf8ce",
||||||| merged common ancestors
   "id": "a252d566",
=======
   "id": "b8cfd366",
>>>>>>> documentation-devel
||||||| f5a2d7c
   "id": "b8cfd366",
=======
   "id": "64ca0cb8",
>>>>>>> documentation-devel
||||||| de7e30d
   "id": "340bf8ce",
=======
   "id": "8489956c",
>>>>>>> 03b044928c05aca10f627eea0665560c78e150c1
||||||| 1f675c8
   "id": "64ca0cb8",
=======
   "id": "736ce6d8",
>>>>>>> documentation-devel
   "metadata": {
    "eval": false
   },
   "outputs": [],
   "source": [
    "library(SpatialExperiment)\n",
    "library(DropletUtils)\n",
    "library(arrow)\n",
    "sce <- read10xCounts(\"outs_R1/cell_feature_matrix.h5\")\n",
    "cell_info <- read_parquet(\"outs_R1/cells.parquet\")\n",
    "# Add the centroid coordinates to colData\n",
    "colData(sce) <- cbind(colData(sce), cell_info[,-1])\n",
    "spe <- toSpatialExperiment(sce, spatialCoordsNames = c(\"x_centroid\", \"y_centroid\"))\n",
    "sfe <- toSpatialFeatureExperiment(spe)"
   ]
  },
  {
   "cell_type": "markdown",
<<<<<<< HEAD
<<<<<<< HEAD
<<<<<<< HEAD
<<<<<<< HEAD
   "id": "a3fa0e1b",
||||||| merged common ancestors
   "id": "21e70440",
=======
   "id": "a708a854",
>>>>>>> documentation-devel
||||||| f5a2d7c
   "id": "a708a854",
=======
   "id": "6c1083c3",
>>>>>>> documentation-devel
||||||| de7e30d
   "id": "a3fa0e1b",
=======
   "id": "239afb21",
>>>>>>> 03b044928c05aca10f627eea0665560c78e150c1
||||||| 1f675c8
   "id": "6c1083c3",
=======
   "id": "f9a340ec",
>>>>>>> documentation-devel
   "metadata": {},
   "source": [
    "### Cell polygons\n",
    "File format of cell polygons (if available) is in different formats in different technology. The cell polygons should be [`sf`](https://r-spatial.github.io/sf/) data frames to put into `colGeometries()` of the SFE object. This section explains how to do that for a number of smFISH-based technologies.\n",
    "\n",
    "In Xenium, the cell polygons come in CSV or parquet files that can be directly read into R as a data frame, with 2 columns for x and y coordinates, and one indicating which cell the coordinates belong to. Change the name of the cell ID column into \"ID\", and use `SpatialFeatureExperiment::df2sf()` to convert the data frame into an `sf` data frame with `POLYGON` geometry. Example code:"
   ]
  },
  {
   "cell_type": "code",
   "execution_count": null,
<<<<<<< HEAD
<<<<<<< HEAD
<<<<<<< HEAD
<<<<<<< HEAD
   "id": "064924e5",
||||||| merged common ancestors
   "id": "72753df1",
=======
   "id": "37b57af8",
>>>>>>> documentation-devel
||||||| f5a2d7c
   "id": "37b57af8",
=======
   "id": "da5dd70a",
>>>>>>> documentation-devel
||||||| de7e30d
   "id": "064924e5",
=======
   "id": "4353348c",
>>>>>>> 03b044928c05aca10f627eea0665560c78e150c1
||||||| 1f675c8
   "id": "da5dd70a",
=======
   "id": "bf7191c8",
>>>>>>> documentation-devel
   "metadata": {
    "eval": false
   },
   "outputs": [],
   "source": [
    "library(arrow)\n",
    "cell_poly <- read_parquet(\"outs_R2/cell_boundaries.parquet\")\n",
    "# Here the first column is cell ID\n",
    "names(cell_poly)[1] <- \"ID\"\n",
    "# \"vertex_x\" and \"vertex_y\" are the column names for coordinates here\n",
    "cell_sf <- df2sf(cell_poly, c(\"vertex_x\", \"vertex_y\"), geometryType = \"POLYGON\")"
   ]
  },
  {
   "cell_type": "markdown",
<<<<<<< HEAD
<<<<<<< HEAD
<<<<<<< HEAD
<<<<<<< HEAD
   "id": "59647e7c",
||||||| merged common ancestors
   "id": "3d70c972",
=======
   "id": "d0e8c4db",
>>>>>>> documentation-devel
||||||| f5a2d7c
   "id": "d0e8c4db",
=======
   "id": "42c9e3bf",
>>>>>>> documentation-devel
||||||| de7e30d
   "id": "59647e7c",
=======
   "id": "468ad346",
>>>>>>> 03b044928c05aca10f627eea0665560c78e150c1
||||||| 1f675c8
   "id": "42c9e3bf",
=======
   "id": "cfe02578",
>>>>>>> documentation-devel
   "metadata": {
    "lines_to_next_cell": 0
   },
   "source": [
    "In CoxMX, cell polygons are in CSV files. Besides the two coordinates columns, there's a column for field of view (FOV) and another for cell ID. However, unlike in Xenium, the cell IDs are only unique in each FOV, so they should be concatenated to FOV to make them unique. Then `df2sf()` can also be used to convert the regular data frame into `sf`. Example code:"
   ]
  },
  {
   "cell_type": "code",
   "execution_count": null,
<<<<<<< HEAD
<<<<<<< HEAD
<<<<<<< HEAD
<<<<<<< HEAD
   "id": "7013514d",
||||||| merged common ancestors
   "id": "87471383",
=======
   "id": "2da52fa5",
>>>>>>> documentation-devel
||||||| f5a2d7c
   "id": "2da52fa5",
=======
   "id": "06580558",
>>>>>>> documentation-devel
||||||| de7e30d
   "id": "7013514d",
=======
   "id": "0e944ff1",
>>>>>>> 03b044928c05aca10f627eea0665560c78e150c1
||||||| 1f675c8
   "id": "06580558",
=======
   "id": "3e1933ea",
>>>>>>> documentation-devel
   "metadata": {
    "eval": false
   },
   "outputs": [],
   "source": [
    "# Download data from https://nanostring.com/products/cosmx-spatial-molecular-imager/ffpe-dataset/\n",
    "# stored here: https://www.dropbox.com/s/hl3peavrx92bluy/Lung5_Rep1-polygons.csv?dl=0\n",
    "\n",
    "system(\"wget https://www.dropbox.com/s/hl3peavrx92bluy/Lung5_Rep1-polygons.csv?dl=1\")\n",
    "system(\"mv Lung5_Rep1-polygons.csv?dl=1 Lung5_Rep1-polygons.csv\")"
   ]
  },
  {
   "cell_type": "code",
   "execution_count": null,
<<<<<<< HEAD
<<<<<<< HEAD
<<<<<<< HEAD
<<<<<<< HEAD
   "id": "b5806227",
||||||| merged common ancestors
   "id": "dd52ef9d",
=======
   "id": "24ccd25e",
>>>>>>> documentation-devel
||||||| f5a2d7c
   "id": "24ccd25e",
=======
   "id": "f7e38e80",
>>>>>>> documentation-devel
||||||| de7e30d
   "id": "b5806227",
=======
   "id": "c7b3532e",
>>>>>>> 03b044928c05aca10f627eea0665560c78e150c1
||||||| 1f675c8
   "id": "f7e38e80",
=======
   "id": "c1d83466",
>>>>>>> documentation-devel
   "metadata": {
    "eval": false
   },
   "outputs": [],
   "source": [
    "library(vroom)\n",
    "library(tidyr)\n",
    "cell_poly <- vroom(\"Lung5_Rep1-polygons.csv\")\n",
    "cell_poly <- cell_poly |> \n",
    "    unite(\"ID\", fov:cellID)\n",
    "cell_sf <- df2sf(cell_poly, spatialCoordsNames = c(\"x_global_px\", \"y_global_px\"),\n",
    "                 geometryType = \"POLYGON\")"
   ]
  },
  {
   "cell_type": "markdown",
<<<<<<< HEAD
<<<<<<< HEAD
<<<<<<< HEAD
<<<<<<< HEAD
   "id": "d84369c8",
||||||| merged common ancestors
   "id": "a4513530",
=======
   "id": "6f881af5",
>>>>>>> documentation-devel
||||||| f5a2d7c
   "id": "6f881af5",
=======
   "id": "fe8ceda8",
>>>>>>> documentation-devel
||||||| de7e30d
   "id": "d84369c8",
=======
   "id": "c99fb4d1",
>>>>>>> 03b044928c05aca10f627eea0665560c78e150c1
||||||| 1f675c8
   "id": "fe8ceda8",
=======
   "id": "75737a95",
>>>>>>> documentation-devel
   "metadata": {
    "lines_to_next_cell": 0
   },
   "source": [
    "See [the code used to construct the example datasets in `SFEData`](https://github.com/pachterlab/SFEData/blob/main/inst/scripts/make-data.R) for more examples. \n",
    "\n",
    "Use `sf::st_is_valid()` to check if the polygons are valid. Polygons with self-intersection are not valid, and will throw an error in geometric operations. A common reason why polygons are invalid is a protruding line, which can be eliminated with `sf::st_buffer(cell_sf, dist = 0)`. Use `sf::st_is_valid(cell_sf, reason = TRUE)`, and plot the invalid polygons, to find why some polygons are not valid. \n",
    "\n",
    "# Session info"
   ]
  },
  {
   "cell_type": "code",
   "execution_count": null,
<<<<<<< HEAD
<<<<<<< HEAD
<<<<<<< HEAD
<<<<<<< HEAD
   "id": "e9f4f292",
||||||| merged common ancestors
   "id": "1fef7499",
=======
   "id": "02997afc",
>>>>>>> documentation-devel
||||||| f5a2d7c
   "id": "02997afc",
=======
   "id": "a70d82ae",
>>>>>>> documentation-devel
||||||| de7e30d
   "id": "e9f4f292",
=======
   "id": "7e7c18a3",
>>>>>>> 03b044928c05aca10f627eea0665560c78e150c1
||||||| 1f675c8
   "id": "a70d82ae",
=======
   "id": "f43891e8",
>>>>>>> documentation-devel
   "metadata": {},
   "outputs": [],
   "source": [
    "sessionInfo()"
   ]
  }
 ],
 "metadata": {
  "kernelspec": {
   "display_name": "R",
   "language": "R",
   "name": "ir"
  }
 },
 "nbformat": 4,
 "nbformat_minor": 5
}
