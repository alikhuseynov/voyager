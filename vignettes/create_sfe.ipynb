{
 "cells": [
  {
   "cell_type": "raw",
<<<<<<< HEAD
<<<<<<< HEAD
<<<<<<< HEAD
<<<<<<< HEAD
<<<<<<< HEAD
   "id": "ca5d9eab",
||||||| 6a30bf1
   "id": "24728b3b",
=======
   "id": "c5ed80c8",
>>>>>>> documentation-devel
||||||| d28b18c
   "id": "c5ed80c8",
=======
   "id": "1306e626",
>>>>>>> documentation-devel
||||||| 6893f63
<<<<<<< HEAD
   "id": "ca5d9eab",
||||||| 6a30bf1
   "id": "24728b3b",
=======
   "id": "c5ed80c8",
>>>>>>> documentation-devel
=======
   "id": "2ec9e0e2",
>>>>>>> c74c98c2450c2a1ba922ed9442f136238d6bc88b
||||||| 6d93b645
   "id": "1306e626",
=======
   "id": "e341c212",
>>>>>>> documentation-devel
||||||| 804edffb
<<<<<<< HEAD
<<<<<<< HEAD
<<<<<<< HEAD
   "id": "ca5d9eab",
||||||| 6a30bf1
   "id": "24728b3b",
=======
   "id": "c5ed80c8",
>>>>>>> documentation-devel
||||||| d28b18c
   "id": "c5ed80c8",
=======
   "id": "1306e626",
>>>>>>> documentation-devel
||||||| 6893f63
<<<<<<< HEAD
   "id": "ca5d9eab",
||||||| 6a30bf1
   "id": "24728b3b",
=======
   "id": "c5ed80c8",
>>>>>>> documentation-devel
=======
   "id": "2ec9e0e2",
>>>>>>> c74c98c2450c2a1ba922ed9442f136238d6bc88b
=======
   "id": "c6bd3396",
>>>>>>> 035bb2637984ead2784fecff78c0c60cc4181202
   "metadata": {},
   "source": [
    "---\n",
    "title: \"Create a SpatialFeatureExperiment object\"\n",
    "author: \"Lambda Moses\"\n",
    "date: \"`r Sys.Date()`\"\n",
    "output: \n",
    "  html_document:\n",
    "  toc: true\n",
    "  toc_float:\n",
    "    collapsed: false\n",
    "  toc_depth: 3\n",
    "vignette: >\n",
    "  %\\VignetteIndexEntry{create_sfe}\n",
    "  %\\VignetteEngine{knitr::rmarkdown}\n",
    "  %\\VignetteEncoding{UTF-8}\n",
    "---"
   ]
  },
  {
   "cell_type": "code",
   "execution_count": null,
<<<<<<< HEAD
<<<<<<< HEAD
<<<<<<< HEAD
<<<<<<< HEAD
<<<<<<< HEAD
   "id": "2797da0a",
||||||| 6a30bf1
   "id": "60469de7",
=======
   "id": "25a17a85",
>>>>>>> documentation-devel
||||||| d28b18c
   "id": "25a17a85",
=======
   "id": "a64ec37b",
>>>>>>> documentation-devel
||||||| 6893f63
<<<<<<< HEAD
   "id": "2797da0a",
||||||| 6a30bf1
   "id": "60469de7",
=======
   "id": "25a17a85",
>>>>>>> documentation-devel
=======
   "id": "64ab9faa",
>>>>>>> c74c98c2450c2a1ba922ed9442f136238d6bc88b
||||||| 6d93b645
   "id": "a64ec37b",
=======
   "id": "69e9ad3d",
>>>>>>> documentation-devel
||||||| 804edffb
<<<<<<< HEAD
<<<<<<< HEAD
<<<<<<< HEAD
   "id": "2797da0a",
||||||| 6a30bf1
   "id": "60469de7",
=======
   "id": "25a17a85",
>>>>>>> documentation-devel
||||||| d28b18c
   "id": "25a17a85",
=======
   "id": "a64ec37b",
>>>>>>> documentation-devel
||||||| 6893f63
<<<<<<< HEAD
   "id": "2797da0a",
||||||| 6a30bf1
   "id": "60469de7",
=======
   "id": "25a17a85",
>>>>>>> documentation-devel
=======
   "id": "64ab9faa",
>>>>>>> c74c98c2450c2a1ba922ed9442f136238d6bc88b
=======
   "id": "6c75449a",
>>>>>>> 035bb2637984ead2784fecff78c0c60cc4181202
   "metadata": {
    "tags": [
     "remove_cell"
    ]
   },
   "outputs": [],
   "source": [
    "knitr::opts_chunk$set(\n",
    "  collapse = TRUE,\n",
    "  comment = \"#>\"\n",
    ")"
   ]
  },
  {
   "cell_type": "code",
   "execution_count": null,
<<<<<<< HEAD
<<<<<<< HEAD
<<<<<<< HEAD
<<<<<<< HEAD
<<<<<<< HEAD
   "id": "15845220",
||||||| 6a30bf1
   "id": "1691d72c",
=======
   "id": "db0bcc0d",
>>>>>>> documentation-devel
||||||| d28b18c
   "id": "db0bcc0d",
=======
   "id": "d2256cb6",
>>>>>>> documentation-devel
||||||| 6893f63
<<<<<<< HEAD
   "id": "15845220",
||||||| 6a30bf1
   "id": "1691d72c",
=======
   "id": "db0bcc0d",
>>>>>>> documentation-devel
=======
   "id": "8ec6609a",
>>>>>>> c74c98c2450c2a1ba922ed9442f136238d6bc88b
||||||| 6d93b645
   "id": "d2256cb6",
=======
   "id": "30af8c92",
>>>>>>> documentation-devel
||||||| 804edffb
<<<<<<< HEAD
<<<<<<< HEAD
<<<<<<< HEAD
   "id": "15845220",
||||||| 6a30bf1
   "id": "1691d72c",
=======
   "id": "db0bcc0d",
>>>>>>> documentation-devel
||||||| d28b18c
   "id": "db0bcc0d",
=======
   "id": "d2256cb6",
>>>>>>> documentation-devel
||||||| 6893f63
<<<<<<< HEAD
   "id": "15845220",
||||||| 6a30bf1
   "id": "1691d72c",
=======
   "id": "db0bcc0d",
>>>>>>> documentation-devel
=======
   "id": "8ec6609a",
>>>>>>> c74c98c2450c2a1ba922ed9442f136238d6bc88b
=======
   "id": "a8cb7c3c",
>>>>>>> 035bb2637984ead2784fecff78c0c60cc4181202
   "metadata": {
    "eval": false,
    "tags": [
     "remove_cell"
    ]
   },
   "outputs": [],
   "source": [
    "# Install Google Colab dependencies\n",
    "# Note: this can take 30+ minutes (many of the dependencies include C++ code, which needs to be compiled)\n",
    "\n",
    "# First install `sf`, `ragg` and `textshaping` and their system dependencies:\n",
    "system(\"apt-get -y update && apt-get install -y  libudunits2-dev libgdal-dev libgeos-dev libproj-dev libharfbuzz-dev libfribidi-dev\")\n",
    "install.packages(\"sf\")\n",
    "install.packages(\"textshaping\")\n",
    "install.packages(\"ragg\")\n",
    "\n",
    "# Install system dependencies of some other R packages that Voyager either imports or suggests:\n",
    "system(\"apt-get install -y libfribidi-dev libcairo2-dev libmagick++-dev\")\n",
    "\n",
    "# Install Voyager from Bioconductor:\n",
    "install.packages(\"BiocManager\")\n",
    "BiocManager::install(version = \"3.17\", ask = FALSE, update = FALSE, Ncpus = 2)\n",
    "BiocManager::install(\"scater\")\n",
    "system.time(\n",
    "  BiocManager::install(\"Voyager\", dependencies = TRUE, Ncpus = 2, update = FALSE)\n",
    ")\n",
    "\n",
    "# Additional dependencies for this notebook\n",
    "install.packages(\"arrow\")\n",
    "\n",
    "packageVersion(\"Voyager\")"
   ]
  },
  {
   "cell_type": "code",
   "execution_count": null,
<<<<<<< HEAD
<<<<<<< HEAD
<<<<<<< HEAD
<<<<<<< HEAD
<<<<<<< HEAD
   "id": "199842ee",
||||||| 6a30bf1
   "id": "5b7daee4",
=======
   "id": "80adb893",
>>>>>>> documentation-devel
||||||| d28b18c
   "id": "80adb893",
=======
   "id": "48d5fc4f",
>>>>>>> documentation-devel
||||||| 6893f63
<<<<<<< HEAD
   "id": "199842ee",
||||||| 6a30bf1
   "id": "5b7daee4",
=======
   "id": "80adb893",
>>>>>>> documentation-devel
=======
   "id": "3117d61b",
>>>>>>> c74c98c2450c2a1ba922ed9442f136238d6bc88b
||||||| 6d93b645
   "id": "48d5fc4f",
=======
   "id": "3ae6be53",
>>>>>>> documentation-devel
||||||| 804edffb
<<<<<<< HEAD
<<<<<<< HEAD
<<<<<<< HEAD
   "id": "199842ee",
||||||| 6a30bf1
   "id": "5b7daee4",
=======
   "id": "80adb893",
>>>>>>> documentation-devel
||||||| d28b18c
   "id": "80adb893",
=======
   "id": "48d5fc4f",
>>>>>>> documentation-devel
||||||| 6893f63
<<<<<<< HEAD
   "id": "199842ee",
||||||| 6a30bf1
   "id": "5b7daee4",
=======
   "id": "80adb893",
>>>>>>> documentation-devel
=======
   "id": "3117d61b",
>>>>>>> c74c98c2450c2a1ba922ed9442f136238d6bc88b
=======
   "id": "058e7718",
>>>>>>> 035bb2637984ead2784fecff78c0c60cc4181202
   "metadata": {
    "name": "setup"
   },
   "outputs": [],
   "source": [
    "library(Voyager)\n",
    "library(SpatialFeatureExperiment)\n",
    "library(rjson)\n",
    "library(Matrix)"
   ]
  },
  {
   "cell_type": "markdown",
<<<<<<< HEAD
<<<<<<< HEAD
<<<<<<< HEAD
<<<<<<< HEAD
<<<<<<< HEAD
   "id": "450828e8",
||||||| 6a30bf1
   "id": "87e8b86c",
=======
   "id": "6ba56550",
>>>>>>> documentation-devel
||||||| d28b18c
   "id": "6ba56550",
=======
   "id": "f58eaaf1",
>>>>>>> documentation-devel
||||||| 6893f63
<<<<<<< HEAD
   "id": "450828e8",
||||||| 6a30bf1
   "id": "87e8b86c",
=======
   "id": "6ba56550",
>>>>>>> documentation-devel
=======
   "id": "24cece53",
>>>>>>> c74c98c2450c2a1ba922ed9442f136238d6bc88b
||||||| 6d93b645
   "id": "f58eaaf1",
=======
   "id": "babb1a77",
>>>>>>> documentation-devel
||||||| 804edffb
<<<<<<< HEAD
<<<<<<< HEAD
<<<<<<< HEAD
   "id": "450828e8",
||||||| 6a30bf1
   "id": "87e8b86c",
=======
   "id": "6ba56550",
>>>>>>> documentation-devel
||||||| d28b18c
   "id": "6ba56550",
=======
   "id": "f58eaaf1",
>>>>>>> documentation-devel
||||||| 6893f63
<<<<<<< HEAD
   "id": "450828e8",
||||||| 6a30bf1
   "id": "87e8b86c",
=======
   "id": "6ba56550",
>>>>>>> documentation-devel
=======
   "id": "24cece53",
>>>>>>> c74c98c2450c2a1ba922ed9442f136238d6bc88b
=======
   "id": "da0b7634",
>>>>>>> 035bb2637984ead2784fecff78c0c60cc4181202
   "metadata": {},
   "source": [
    "# Visium Space Ranger output\n",
    "\n",
    "10x Genomics Space Ranger output from a Visium experiment can be read in a similar manner as in `SpatialExperiment`; the `SpatialFeatureExperiment` SFE object has the `spotPoly` column geometry for the spot polygons. If the filtered matrix (i.e. only spots in the tissue) is read in, then a column graph called `visium` will also be present for the spatial neighborhood graph of the Visium spots on the tissue. The graph is not computed if all spots are read in regardless of whether they are on tissue."
   ]
  },
  {
   "cell_type": "code",
   "execution_count": null,
<<<<<<< HEAD
<<<<<<< HEAD
<<<<<<< HEAD
<<<<<<< HEAD
<<<<<<< HEAD
   "id": "4e10d5af",
||||||| 6a30bf1
   "id": "c243164f",
=======
   "id": "fc708cd7",
>>>>>>> documentation-devel
||||||| d28b18c
   "id": "fc708cd7",
=======
   "id": "ad82c584",
>>>>>>> documentation-devel
||||||| 6893f63
<<<<<<< HEAD
   "id": "4e10d5af",
||||||| 6a30bf1
   "id": "c243164f",
=======
   "id": "fc708cd7",
>>>>>>> documentation-devel
=======
   "id": "a961ed1e",
>>>>>>> c74c98c2450c2a1ba922ed9442f136238d6bc88b
||||||| 6d93b645
   "id": "ad82c584",
=======
   "id": "37727101",
>>>>>>> documentation-devel
||||||| 804edffb
<<<<<<< HEAD
<<<<<<< HEAD
<<<<<<< HEAD
   "id": "4e10d5af",
||||||| 6a30bf1
   "id": "c243164f",
=======
   "id": "fc708cd7",
>>>>>>> documentation-devel
||||||| d28b18c
   "id": "fc708cd7",
=======
   "id": "ad82c584",
>>>>>>> documentation-devel
||||||| 6893f63
<<<<<<< HEAD
   "id": "4e10d5af",
||||||| 6a30bf1
   "id": "c243164f",
=======
   "id": "fc708cd7",
>>>>>>> documentation-devel
=======
   "id": "a961ed1e",
>>>>>>> c74c98c2450c2a1ba922ed9442f136238d6bc88b
=======
   "id": "9325e3dd",
>>>>>>> 035bb2637984ead2784fecff78c0c60cc4181202
   "metadata": {},
   "outputs": [],
   "source": [
    "# Example from SpatialExperiment\n",
    "dir <- system.file(\n",
    "  file.path(\"extdata\", \"10xVisium\"), \n",
    "  package = \"SpatialExperiment\")\n",
    "  \n",
    "sample_ids <- c(\"section1\", \"section2\")\n",
    "(samples <- file.path(dir, sample_ids, \"outs\"))"
   ]
  },
  {
   "cell_type": "markdown",
<<<<<<< HEAD
<<<<<<< HEAD
<<<<<<< HEAD
<<<<<<< HEAD
<<<<<<< HEAD
   "id": "47e2897e",
||||||| 6a30bf1
   "id": "16fb189b",
=======
   "id": "93e07c8b",
>>>>>>> documentation-devel
||||||| d28b18c
   "id": "93e07c8b",
=======
   "id": "97ddba1e",
>>>>>>> documentation-devel
||||||| 6893f63
<<<<<<< HEAD
   "id": "47e2897e",
||||||| 6a30bf1
   "id": "16fb189b",
=======
   "id": "93e07c8b",
>>>>>>> documentation-devel
=======
   "id": "c3270669",
>>>>>>> c74c98c2450c2a1ba922ed9442f136238d6bc88b
||||||| 6d93b645
   "id": "97ddba1e",
=======
   "id": "868dab64",
>>>>>>> documentation-devel
||||||| 804edffb
<<<<<<< HEAD
<<<<<<< HEAD
<<<<<<< HEAD
   "id": "47e2897e",
||||||| 6a30bf1
   "id": "16fb189b",
=======
   "id": "93e07c8b",
>>>>>>> documentation-devel
||||||| d28b18c
   "id": "93e07c8b",
=======
   "id": "97ddba1e",
>>>>>>> documentation-devel
||||||| 6893f63
<<<<<<< HEAD
   "id": "47e2897e",
||||||| 6a30bf1
   "id": "16fb189b",
=======
   "id": "93e07c8b",
>>>>>>> documentation-devel
=======
   "id": "c3270669",
>>>>>>> c74c98c2450c2a1ba922ed9442f136238d6bc88b
=======
   "id": "478b301f",
>>>>>>> 035bb2637984ead2784fecff78c0c60cc4181202
   "metadata": {},
   "source": [
    "The results for each tissue capture should be in the `outs` directory. Inside the `outs` directory there are two directories: `raw_reature_bc_matrix` has the unfiltered gene count matrix, and `spatial` has the spatial information. "
   ]
  },
  {
   "cell_type": "code",
   "execution_count": null,
<<<<<<< HEAD
<<<<<<< HEAD
<<<<<<< HEAD
<<<<<<< HEAD
<<<<<<< HEAD
   "id": "69e61fc6",
||||||| 6a30bf1
   "id": "23ff6bce",
=======
   "id": "effee051",
>>>>>>> documentation-devel
||||||| d28b18c
   "id": "effee051",
=======
   "id": "5ea4940c",
>>>>>>> documentation-devel
||||||| 6893f63
<<<<<<< HEAD
   "id": "69e61fc6",
||||||| 6a30bf1
   "id": "23ff6bce",
=======
   "id": "effee051",
>>>>>>> documentation-devel
=======
   "id": "560ba7be",
>>>>>>> c74c98c2450c2a1ba922ed9442f136238d6bc88b
||||||| 6d93b645
   "id": "5ea4940c",
=======
   "id": "89e13246",
>>>>>>> documentation-devel
||||||| 804edffb
<<<<<<< HEAD
<<<<<<< HEAD
<<<<<<< HEAD
   "id": "69e61fc6",
||||||| 6a30bf1
   "id": "23ff6bce",
=======
   "id": "effee051",
>>>>>>> documentation-devel
||||||| d28b18c
   "id": "effee051",
=======
   "id": "5ea4940c",
>>>>>>> documentation-devel
||||||| 6893f63
<<<<<<< HEAD
   "id": "69e61fc6",
||||||| 6a30bf1
   "id": "23ff6bce",
=======
   "id": "effee051",
>>>>>>> documentation-devel
=======
   "id": "560ba7be",
>>>>>>> c74c98c2450c2a1ba922ed9442f136238d6bc88b
=======
   "id": "fe4edef9",
>>>>>>> 035bb2637984ead2784fecff78c0c60cc4181202
   "metadata": {},
   "outputs": [],
   "source": [
    "list.files(samples[1])"
   ]
  },
  {
   "cell_type": "markdown",
<<<<<<< HEAD
<<<<<<< HEAD
<<<<<<< HEAD
<<<<<<< HEAD
<<<<<<< HEAD
   "id": "643cb24a",
||||||| 6a30bf1
   "id": "d2bdfcfd",
=======
   "id": "17c826af",
>>>>>>> documentation-devel
||||||| d28b18c
   "id": "17c826af",
=======
   "id": "588dd069",
>>>>>>> documentation-devel
||||||| 6893f63
<<<<<<< HEAD
   "id": "643cb24a",
||||||| 6a30bf1
   "id": "d2bdfcfd",
=======
   "id": "17c826af",
>>>>>>> documentation-devel
=======
   "id": "c20f0948",
>>>>>>> c74c98c2450c2a1ba922ed9442f136238d6bc88b
||||||| 6d93b645
   "id": "588dd069",
=======
   "id": "091a4c60",
>>>>>>> documentation-devel
||||||| 804edffb
<<<<<<< HEAD
<<<<<<< HEAD
<<<<<<< HEAD
   "id": "643cb24a",
||||||| 6a30bf1
   "id": "d2bdfcfd",
=======
   "id": "17c826af",
>>>>>>> documentation-devel
||||||| d28b18c
   "id": "17c826af",
=======
   "id": "588dd069",
>>>>>>> documentation-devel
||||||| 6893f63
<<<<<<< HEAD
   "id": "643cb24a",
||||||| 6a30bf1
   "id": "d2bdfcfd",
=======
   "id": "17c826af",
>>>>>>> documentation-devel
=======
   "id": "c20f0948",
>>>>>>> c74c98c2450c2a1ba922ed9442f136238d6bc88b
=======
   "id": "028c7965",
>>>>>>> 035bb2637984ead2784fecff78c0c60cc4181202
   "metadata": {},
   "source": [
    "The [`DropletUtils`](https://bioconductor.org/packages/release/bioc/html/DropletUtils.html) package has a function `read10xCounts()` which reads the gene count matrix. SPE reads in the spatial information, and SFE uses the spatial information to construct Visium spot polygons and spatial neighborhood graphs. Inside the `spatial` directory:"
   ]
  },
  {
   "cell_type": "code",
   "execution_count": null,
<<<<<<< HEAD
<<<<<<< HEAD
<<<<<<< HEAD
<<<<<<< HEAD
<<<<<<< HEAD
   "id": "dcb203d3",
||||||| 6a30bf1
   "id": "b9a7db0b",
=======
   "id": "2be24429",
>>>>>>> documentation-devel
||||||| d28b18c
   "id": "2be24429",
=======
   "id": "f104b828",
>>>>>>> documentation-devel
||||||| 6893f63
<<<<<<< HEAD
   "id": "dcb203d3",
||||||| 6a30bf1
   "id": "b9a7db0b",
=======
   "id": "2be24429",
>>>>>>> documentation-devel
=======
   "id": "9e6e7430",
>>>>>>> c74c98c2450c2a1ba922ed9442f136238d6bc88b
||||||| 6d93b645
   "id": "f104b828",
=======
   "id": "b6f32fa2",
>>>>>>> documentation-devel
||||||| 804edffb
<<<<<<< HEAD
<<<<<<< HEAD
<<<<<<< HEAD
   "id": "dcb203d3",
||||||| 6a30bf1
   "id": "b9a7db0b",
=======
   "id": "2be24429",
>>>>>>> documentation-devel
||||||| d28b18c
   "id": "2be24429",
=======
   "id": "f104b828",
>>>>>>> documentation-devel
||||||| 6893f63
<<<<<<< HEAD
   "id": "dcb203d3",
||||||| 6a30bf1
   "id": "b9a7db0b",
=======
   "id": "2be24429",
>>>>>>> documentation-devel
=======
   "id": "9e6e7430",
>>>>>>> c74c98c2450c2a1ba922ed9442f136238d6bc88b
=======
   "id": "1b393217",
>>>>>>> 035bb2637984ead2784fecff78c0c60cc4181202
   "metadata": {},
   "outputs": [],
   "source": [
    "list.files(file.path(samples[1], \"spatial\"))"
   ]
  },
  {
   "cell_type": "markdown",
<<<<<<< HEAD
<<<<<<< HEAD
<<<<<<< HEAD
<<<<<<< HEAD
<<<<<<< HEAD
   "id": "f14d0d54",
||||||| 6a30bf1
   "id": "c491198d",
=======
   "id": "bd40ff15",
>>>>>>> documentation-devel
||||||| d28b18c
   "id": "bd40ff15",
=======
   "id": "4384d3b3",
>>>>>>> documentation-devel
||||||| 6893f63
<<<<<<< HEAD
   "id": "f14d0d54",
||||||| 6a30bf1
   "id": "c491198d",
=======
   "id": "bd40ff15",
>>>>>>> documentation-devel
=======
   "id": "2b19d704",
>>>>>>> c74c98c2450c2a1ba922ed9442f136238d6bc88b
||||||| 6d93b645
   "id": "4384d3b3",
=======
   "id": "c549fe67",
>>>>>>> documentation-devel
||||||| 804edffb
<<<<<<< HEAD
<<<<<<< HEAD
<<<<<<< HEAD
   "id": "f14d0d54",
||||||| 6a30bf1
   "id": "c491198d",
=======
   "id": "bd40ff15",
>>>>>>> documentation-devel
||||||| d28b18c
   "id": "bd40ff15",
=======
   "id": "4384d3b3",
>>>>>>> documentation-devel
||||||| 6893f63
<<<<<<< HEAD
   "id": "f14d0d54",
||||||| 6a30bf1
   "id": "c491198d",
=======
   "id": "bd40ff15",
>>>>>>> documentation-devel
=======
   "id": "2b19d704",
>>>>>>> c74c98c2450c2a1ba922ed9442f136238d6bc88b
=======
   "id": "9d55b9a8",
>>>>>>> 035bb2637984ead2784fecff78c0c60cc4181202
   "metadata": {},
   "source": [
    "`tissue_lowres_image.png` is a low resolution image of the tissue.\n",
    "\n",
    "Inside the `scalefactors_json.json` file:"
   ]
  },
  {
   "cell_type": "code",
   "execution_count": null,
<<<<<<< HEAD
<<<<<<< HEAD
<<<<<<< HEAD
<<<<<<< HEAD
<<<<<<< HEAD
   "id": "faa9bb8a",
||||||| 6a30bf1
   "id": "4a351655",
=======
   "id": "b47ec40a",
>>>>>>> documentation-devel
||||||| d28b18c
   "id": "b47ec40a",
=======
   "id": "f5d54041",
>>>>>>> documentation-devel
||||||| 6893f63
<<<<<<< HEAD
   "id": "faa9bb8a",
||||||| 6a30bf1
   "id": "4a351655",
=======
   "id": "b47ec40a",
>>>>>>> documentation-devel
=======
   "id": "b6f25fee",
>>>>>>> c74c98c2450c2a1ba922ed9442f136238d6bc88b
||||||| 6d93b645
   "id": "f5d54041",
=======
   "id": "740706a6",
>>>>>>> documentation-devel
||||||| 804edffb
<<<<<<< HEAD
<<<<<<< HEAD
<<<<<<< HEAD
   "id": "faa9bb8a",
||||||| 6a30bf1
   "id": "4a351655",
=======
   "id": "b47ec40a",
>>>>>>> documentation-devel
||||||| d28b18c
   "id": "b47ec40a",
=======
   "id": "f5d54041",
>>>>>>> documentation-devel
||||||| 6893f63
<<<<<<< HEAD
   "id": "faa9bb8a",
||||||| 6a30bf1
   "id": "4a351655",
=======
   "id": "b47ec40a",
>>>>>>> documentation-devel
=======
   "id": "b6f25fee",
>>>>>>> c74c98c2450c2a1ba922ed9442f136238d6bc88b
=======
   "id": "90003dfb",
>>>>>>> 035bb2637984ead2784fecff78c0c60cc4181202
   "metadata": {},
   "outputs": [],
   "source": [
    "fromJSON(file = file.path(samples[1], \"spatial\", \"scalefactors_json.json\"))"
   ]
  },
  {
   "cell_type": "markdown",
<<<<<<< HEAD
<<<<<<< HEAD
<<<<<<< HEAD
<<<<<<< HEAD
<<<<<<< HEAD
   "id": "5e33d7e0",
||||||| 6a30bf1
   "id": "8a4e5a7d",
=======
   "id": "62135007",
>>>>>>> documentation-devel
||||||| d28b18c
   "id": "62135007",
=======
   "id": "afbfa9aa",
>>>>>>> documentation-devel
||||||| 6893f63
<<<<<<< HEAD
   "id": "5e33d7e0",
||||||| 6a30bf1
   "id": "8a4e5a7d",
=======
   "id": "62135007",
>>>>>>> documentation-devel
=======
   "id": "09175298",
>>>>>>> c74c98c2450c2a1ba922ed9442f136238d6bc88b
||||||| 6d93b645
   "id": "afbfa9aa",
=======
   "id": "731e1f7e",
>>>>>>> documentation-devel
||||||| 804edffb
<<<<<<< HEAD
<<<<<<< HEAD
<<<<<<< HEAD
   "id": "5e33d7e0",
||||||| 6a30bf1
   "id": "8a4e5a7d",
=======
   "id": "62135007",
>>>>>>> documentation-devel
||||||| d28b18c
   "id": "62135007",
=======
   "id": "afbfa9aa",
>>>>>>> documentation-devel
||||||| 6893f63
<<<<<<< HEAD
   "id": "5e33d7e0",
||||||| 6a30bf1
   "id": "8a4e5a7d",
=======
   "id": "62135007",
>>>>>>> documentation-devel
=======
   "id": "09175298",
>>>>>>> c74c98c2450c2a1ba922ed9442f136238d6bc88b
=======
   "id": "f3d23cbe",
>>>>>>> 035bb2637984ead2784fecff78c0c60cc4181202
   "metadata": {},
   "source": [
    "`spot_diameter_fullres` is the diameter of each Visium spot in the full resolution H&E image in pixels. `tissue_hires_scalef` and `tissue_lowres_scalef` are the ratio of the size of the high resolution (but not full resolution) and low resolution H&E image to the full resolution image. `fiducial_diameter_fullres` is the diameter of each fiducial spot used to align the spots to the H&E image in pixels in the full resolution image.\n",
    "\n",
    "The `tissue_positions_list.csv` file contains information for the spatial coordinates of the spots and whether each spot is in tissue as automatically detected by Space Ranger or manually annotated in the Loupe browser. If the polygon of the tissue boundary is available, whether from image processing or manual annotation, geometric operations as supported by the SFE package, which is based on the `sf` package, can be used to find which spots intersect with the tissue and which spots are contained in the tissue. Geometric operations can also find the polygons of the intersections between spots and the tissue, but the results can get messy since the intersections can have not only polygons but also points and lines. \n",
    "\n",
    "Now we read in the toy data that is in the Space Ranger output format. Since Bioconductor version 3.17 (Voyager version 1.2.0), the image is read as a `SpatRaster` object with the [`terra`](https://rspatial.github.io/terra/index.html) package, so it is not loaded into memory unless necessary. When plotting a large image, it will be downsampled and thus not fully loaded into memory. The unit can be set with the `unit` argument, and can be either pixels in full resolution image or microns. The latter is calculated from the former based on spacing between spots, which is known to be 100 microns."
   ]
  },
  {
   "cell_type": "code",
   "execution_count": null,
<<<<<<< HEAD
<<<<<<< HEAD
<<<<<<< HEAD
<<<<<<< HEAD
<<<<<<< HEAD
   "id": "447105ce",
||||||| 6a30bf1
   "id": "17760bc8",
=======
   "id": "11541301",
>>>>>>> documentation-devel
||||||| d28b18c
   "id": "11541301",
=======
   "id": "b7757956",
>>>>>>> documentation-devel
||||||| 6893f63
<<<<<<< HEAD
   "id": "447105ce",
||||||| 6a30bf1
   "id": "17760bc8",
=======
   "id": "11541301",
>>>>>>> documentation-devel
=======
   "id": "1580cd99",
>>>>>>> c74c98c2450c2a1ba922ed9442f136238d6bc88b
||||||| 6d93b645
   "id": "b7757956",
=======
   "id": "3bbcadef",
>>>>>>> documentation-devel
||||||| 804edffb
<<<<<<< HEAD
<<<<<<< HEAD
<<<<<<< HEAD
   "id": "447105ce",
||||||| 6a30bf1
   "id": "17760bc8",
=======
   "id": "11541301",
>>>>>>> documentation-devel
||||||| d28b18c
   "id": "11541301",
=======
   "id": "b7757956",
>>>>>>> documentation-devel
||||||| 6893f63
<<<<<<< HEAD
   "id": "447105ce",
||||||| 6a30bf1
   "id": "17760bc8",
=======
   "id": "11541301",
>>>>>>> documentation-devel
=======
   "id": "1580cd99",
>>>>>>> c74c98c2450c2a1ba922ed9442f136238d6bc88b
=======
   "id": "b920f452",
>>>>>>> 035bb2637984ead2784fecff78c0c60cc4181202
   "metadata": {},
   "outputs": [],
   "source": [
    "(sfe3 <- read10xVisiumSFE(samples, dirs = samples, sample_id = sample_ids, \n",
    "                          type = \"sparse\", data = \"raw\", images = \"lowres\", \n",
    "                          unit = \"full_res_image_pixel\"))"
   ]
  },
  {
   "cell_type": "markdown",
<<<<<<< HEAD
<<<<<<< HEAD
<<<<<<< HEAD
<<<<<<< HEAD
<<<<<<< HEAD
   "id": "3f413dbd",
||||||| 6a30bf1
   "id": "c1a8ac79",
=======
   "id": "a5f4743d",
>>>>>>> documentation-devel
||||||| d28b18c
   "id": "a5f4743d",
=======
   "id": "2f468ed1",
>>>>>>> documentation-devel
||||||| 6893f63
<<<<<<< HEAD
   "id": "3f413dbd",
||||||| 6a30bf1
   "id": "c1a8ac79",
=======
   "id": "a5f4743d",
>>>>>>> documentation-devel
=======
   "id": "d51ab292",
>>>>>>> c74c98c2450c2a1ba922ed9442f136238d6bc88b
||||||| 6d93b645
   "id": "2f468ed1",
=======
   "id": "bd3a8dba",
>>>>>>> documentation-devel
||||||| 804edffb
<<<<<<< HEAD
<<<<<<< HEAD
<<<<<<< HEAD
   "id": "3f413dbd",
||||||| 6a30bf1
   "id": "c1a8ac79",
=======
   "id": "a5f4743d",
>>>>>>> documentation-devel
||||||| d28b18c
   "id": "a5f4743d",
=======
   "id": "2f468ed1",
>>>>>>> documentation-devel
||||||| 6893f63
<<<<<<< HEAD
   "id": "3f413dbd",
||||||| 6a30bf1
   "id": "c1a8ac79",
=======
   "id": "a5f4743d",
>>>>>>> documentation-devel
=======
   "id": "d51ab292",
>>>>>>> c74c98c2450c2a1ba922ed9442f136238d6bc88b
=======
   "id": "ecfd3423",
>>>>>>> 035bb2637984ead2784fecff78c0c60cc4181202
   "metadata": {},
   "source": [
    "Space Ranger output includes the gene count matrix, spot coordinates, and spot diameter. The Space Ranger output does NOT include nuclei segmentation or pathologist annotation of histological regions. Extra image processing, such as with ImageJ and QuPath, are required for those geometries.\n",
    "\n",
    "## Vizgen MERFISH output\n",
    "The commercialized MERFISH from Vizgen has a standard output format, that can be read into SFE with `readVizgen()`. Because the cell segmentation from each field of view (FOV) has a separate HDF5 file and a MERFISH dataset can have hundreds of FOVs, we strongly recommend reading the MERFISH output on a server with a large number of CPU cores. Alternatively, some but not all MERFISH datasets store cell segmentation in a `parquet` file, which can be more easily read into R. Here we read a toy dataset which is the first FOV from a real dataset:"
   ]
  },
  {
   "cell_type": "code",
   "execution_count": null,
<<<<<<< HEAD
<<<<<<< HEAD
<<<<<<< HEAD
<<<<<<< HEAD
<<<<<<< HEAD
   "id": "4391fbbf",
||||||| 6a30bf1
   "id": "87c0ece0",
=======
   "id": "9d00243c",
>>>>>>> documentation-devel
||||||| d28b18c
   "id": "9d00243c",
=======
   "id": "a1436959",
>>>>>>> documentation-devel
||||||| 6893f63
<<<<<<< HEAD
   "id": "4391fbbf",
||||||| 6a30bf1
   "id": "87c0ece0",
=======
   "id": "9d00243c",
>>>>>>> documentation-devel
=======
   "id": "beb246cd",
>>>>>>> c74c98c2450c2a1ba922ed9442f136238d6bc88b
||||||| 6d93b645
   "id": "a1436959",
=======
   "id": "8202893c",
>>>>>>> documentation-devel
||||||| 804edffb
<<<<<<< HEAD
<<<<<<< HEAD
<<<<<<< HEAD
   "id": "4391fbbf",
||||||| 6a30bf1
   "id": "87c0ece0",
=======
   "id": "9d00243c",
>>>>>>> documentation-devel
||||||| d28b18c
   "id": "9d00243c",
=======
   "id": "a1436959",
>>>>>>> documentation-devel
||||||| 6893f63
<<<<<<< HEAD
   "id": "4391fbbf",
||||||| 6a30bf1
   "id": "87c0ece0",
=======
   "id": "9d00243c",
>>>>>>> documentation-devel
=======
   "id": "beb246cd",
>>>>>>> c74c98c2450c2a1ba922ed9442f136238d6bc88b
=======
   "id": "2c89e6bd",
>>>>>>> 035bb2637984ead2784fecff78c0c60cc4181202
   "metadata": {},
   "outputs": [],
   "source": [
    "dir_use <- system.file(file.path(\"extdata\", \"vizgen\"), \n",
    "                       package = \"SpatialFeatureExperiment\")"
   ]
  },
  {
   "cell_type": "code",
   "execution_count": null,
<<<<<<< HEAD
<<<<<<< HEAD
<<<<<<< HEAD
<<<<<<< HEAD
<<<<<<< HEAD
   "id": "1efaccec",
||||||| 6a30bf1
   "id": "6526645d",
=======
   "id": "2276bf8e",
>>>>>>> documentation-devel
||||||| d28b18c
   "id": "2276bf8e",
=======
   "id": "b41e4f57",
>>>>>>> documentation-devel
||||||| 6893f63
<<<<<<< HEAD
   "id": "1efaccec",
||||||| 6a30bf1
   "id": "6526645d",
=======
   "id": "2276bf8e",
>>>>>>> documentation-devel
=======
   "id": "fd347ac3",
>>>>>>> c74c98c2450c2a1ba922ed9442f136238d6bc88b
||||||| 6d93b645
   "id": "b41e4f57",
=======
   "id": "9d7822d7",
>>>>>>> documentation-devel
||||||| 804edffb
<<<<<<< HEAD
<<<<<<< HEAD
<<<<<<< HEAD
   "id": "1efaccec",
||||||| 6a30bf1
   "id": "6526645d",
=======
   "id": "2276bf8e",
>>>>>>> documentation-devel
||||||| d28b18c
   "id": "2276bf8e",
=======
   "id": "b41e4f57",
>>>>>>> documentation-devel
||||||| 6893f63
<<<<<<< HEAD
   "id": "1efaccec",
||||||| 6a30bf1
   "id": "6526645d",
=======
   "id": "2276bf8e",
>>>>>>> documentation-devel
=======
   "id": "fd347ac3",
>>>>>>> c74c98c2450c2a1ba922ed9442f136238d6bc88b
=======
   "id": "34ccfcfb",
>>>>>>> 035bb2637984ead2784fecff78c0c60cc4181202
   "metadata": {},
   "outputs": [],
   "source": [
    "(sfe_mer <- readVizgen(dir_use, z = 0L, image = \"PolyT\"))"
   ]
  },
  {
   "cell_type": "markdown",
<<<<<<< HEAD
<<<<<<< HEAD
<<<<<<< HEAD
<<<<<<< HEAD
<<<<<<< HEAD
   "id": "e8a6e71b",
||||||| 6a30bf1
   "id": "e2328d3f",
=======
   "id": "ae6824af",
>>>>>>> documentation-devel
||||||| d28b18c
   "id": "ae6824af",
=======
   "id": "5c10ca68",
>>>>>>> documentation-devel
||||||| 6893f63
<<<<<<< HEAD
   "id": "e8a6e71b",
||||||| 6a30bf1
   "id": "e2328d3f",
=======
   "id": "ae6824af",
>>>>>>> documentation-devel
=======
   "id": "017971c4",
>>>>>>> c74c98c2450c2a1ba922ed9442f136238d6bc88b
||||||| 6d93b645
   "id": "5c10ca68",
=======
   "id": "9c5230c6",
>>>>>>> documentation-devel
||||||| 804edffb
<<<<<<< HEAD
<<<<<<< HEAD
<<<<<<< HEAD
   "id": "e8a6e71b",
||||||| 6a30bf1
   "id": "e2328d3f",
=======
   "id": "ae6824af",
>>>>>>> documentation-devel
||||||| d28b18c
   "id": "ae6824af",
=======
   "id": "5c10ca68",
>>>>>>> documentation-devel
||||||| 6893f63
<<<<<<< HEAD
   "id": "e8a6e71b",
||||||| 6a30bf1
   "id": "e2328d3f",
=======
   "id": "ae6824af",
>>>>>>> documentation-devel
=======
   "id": "017971c4",
>>>>>>> c74c98c2450c2a1ba922ed9442f136238d6bc88b
=======
   "id": "ff3c4de1",
>>>>>>> 035bb2637984ead2784fecff78c0c60cc4181202
   "metadata": {
    "lines_to_next_cell": 0
   },
   "source": [
    "The unit is always in microns.\n",
    "\n",
    "# Create SFE object from scratch\n",
    "An SFE object can be constructed from scratch with the assay matrices and metadata. In this toy example, `dgCMatrix` is used, but since SFE inherits from SingleCellExperiment (SCE), other types of arrays supported by SCE such as delayed arrays should also work."
   ]
  },
  {
   "cell_type": "code",
   "execution_count": null,
<<<<<<< HEAD
<<<<<<< HEAD
<<<<<<< HEAD
<<<<<<< HEAD
<<<<<<< HEAD
   "id": "09c01f97",
||||||| 6a30bf1
   "id": "b665f38b",
=======
   "id": "87736db3",
>>>>>>> documentation-devel
||||||| d28b18c
   "id": "87736db3",
=======
   "id": "72c35a72",
>>>>>>> documentation-devel
||||||| 6893f63
<<<<<<< HEAD
   "id": "09c01f97",
||||||| 6a30bf1
   "id": "b665f38b",
=======
   "id": "87736db3",
>>>>>>> documentation-devel
=======
   "id": "d8c37239",
>>>>>>> c74c98c2450c2a1ba922ed9442f136238d6bc88b
||||||| 6d93b645
   "id": "72c35a72",
=======
   "id": "4cc68d5d",
>>>>>>> documentation-devel
||||||| 804edffb
<<<<<<< HEAD
<<<<<<< HEAD
<<<<<<< HEAD
   "id": "09c01f97",
||||||| 6a30bf1
   "id": "b665f38b",
=======
   "id": "87736db3",
>>>>>>> documentation-devel
||||||| d28b18c
   "id": "87736db3",
=======
   "id": "72c35a72",
>>>>>>> documentation-devel
||||||| 6893f63
<<<<<<< HEAD
   "id": "09c01f97",
||||||| 6a30bf1
   "id": "b665f38b",
=======
   "id": "87736db3",
>>>>>>> documentation-devel
=======
   "id": "d8c37239",
>>>>>>> c74c98c2450c2a1ba922ed9442f136238d6bc88b
=======
   "id": "c51b2ac4",
>>>>>>> 035bb2637984ead2784fecff78c0c60cc4181202
   "metadata": {},
   "outputs": [],
   "source": [
    "# Visium barcode location from Space Ranger\n",
    "data(\"visium_row_col\")\n",
    "coords1 <- visium_row_col[visium_row_col$col < 6 & visium_row_col$row < 6,]\n",
    "coords1$row <- coords1$row * sqrt(3)\n",
    "\n",
    "# Random toy sparse matrix\n",
    "set.seed(29)\n",
    "col_inds <- sample(1:13, 13)\n",
    "row_inds <- sample(1:5, 13, replace = TRUE)\n",
    "values <- sample(1:5, 13, replace = TRUE)\n",
    "mat <- sparseMatrix(i = row_inds, j = col_inds, x = values)\n",
    "colnames(mat) <- coords1$barcode\n",
    "rownames(mat) <- sample(LETTERS, 5)"
   ]
  },
  {
   "cell_type": "markdown",
<<<<<<< HEAD
<<<<<<< HEAD
<<<<<<< HEAD
<<<<<<< HEAD
<<<<<<< HEAD
   "id": "f769b8d9",
||||||| 6a30bf1
   "id": "a20c997c",
=======
   "id": "97fcb696",
>>>>>>> documentation-devel
||||||| d28b18c
   "id": "97fcb696",
=======
   "id": "712cd755",
>>>>>>> documentation-devel
||||||| 6893f63
<<<<<<< HEAD
   "id": "f769b8d9",
||||||| 6a30bf1
   "id": "a20c997c",
=======
   "id": "97fcb696",
>>>>>>> documentation-devel
=======
   "id": "16ee6305",
>>>>>>> c74c98c2450c2a1ba922ed9442f136238d6bc88b
||||||| 6d93b645
   "id": "712cd755",
=======
   "id": "b7e3fea5",
>>>>>>> documentation-devel
||||||| 804edffb
<<<<<<< HEAD
<<<<<<< HEAD
<<<<<<< HEAD
   "id": "f769b8d9",
||||||| 6a30bf1
   "id": "a20c997c",
=======
   "id": "97fcb696",
>>>>>>> documentation-devel
||||||| d28b18c
   "id": "97fcb696",
=======
   "id": "712cd755",
>>>>>>> documentation-devel
||||||| 6893f63
<<<<<<< HEAD
   "id": "f769b8d9",
||||||| 6a30bf1
   "id": "a20c997c",
=======
   "id": "97fcb696",
>>>>>>> documentation-devel
=======
   "id": "16ee6305",
>>>>>>> c74c98c2450c2a1ba922ed9442f136238d6bc88b
=======
   "id": "346a2c66",
>>>>>>> 035bb2637984ead2784fecff78c0c60cc4181202
   "metadata": {
    "lines_to_next_cell": 0
   },
   "source": [
    "This should be sufficient to create an SPE object, and an SFE object, even though no `sf` data frame was constructed for the geometries. The constructor behaves similarly to the SPE constructor. The centroid coordinates of the Visium spots in the example can be converted into spot polygons with the `spotDiameter` argument, which can also be relevant to other technologies with round spots or beads, such as Slide-seq. Spot diameter in pixels in full resolution images can be found in the `scalefactors_json.json` file in Space Ranger output."
   ]
  },
  {
   "cell_type": "code",
   "execution_count": null,
<<<<<<< HEAD
<<<<<<< HEAD
<<<<<<< HEAD
<<<<<<< HEAD
<<<<<<< HEAD
   "id": "e4720abd",
||||||| 6a30bf1
   "id": "a066b221",
=======
   "id": "99cd2784",
>>>>>>> documentation-devel
||||||| d28b18c
   "id": "99cd2784",
=======
   "id": "5e0b2558",
>>>>>>> documentation-devel
||||||| 6893f63
<<<<<<< HEAD
   "id": "e4720abd",
||||||| 6a30bf1
   "id": "a066b221",
=======
   "id": "99cd2784",
>>>>>>> documentation-devel
=======
   "id": "73c2ed7a",
>>>>>>> c74c98c2450c2a1ba922ed9442f136238d6bc88b
||||||| 6d93b645
   "id": "5e0b2558",
=======
   "id": "5af22071",
>>>>>>> documentation-devel
||||||| 804edffb
<<<<<<< HEAD
<<<<<<< HEAD
<<<<<<< HEAD
   "id": "e4720abd",
||||||| 6a30bf1
   "id": "a066b221",
=======
   "id": "99cd2784",
>>>>>>> documentation-devel
||||||| d28b18c
   "id": "99cd2784",
=======
   "id": "5e0b2558",
>>>>>>> documentation-devel
||||||| 6893f63
<<<<<<< HEAD
   "id": "e4720abd",
||||||| 6a30bf1
   "id": "a066b221",
=======
   "id": "99cd2784",
>>>>>>> documentation-devel
=======
   "id": "73c2ed7a",
>>>>>>> c74c98c2450c2a1ba922ed9442f136238d6bc88b
=======
   "id": "b10978a9",
>>>>>>> 035bb2637984ead2784fecff78c0c60cc4181202
   "metadata": {},
   "outputs": [],
   "source": [
    "sfe3 <- SpatialFeatureExperiment(list(counts = mat), colData = coords1,\n",
    "                                spatialCoordsNames = c(\"col\", \"row\"),\n",
    "                                spotDiameter = 0.7)"
   ]
  },
  {
   "cell_type": "markdown",
<<<<<<< HEAD
<<<<<<< HEAD
<<<<<<< HEAD
<<<<<<< HEAD
<<<<<<< HEAD
   "id": "b08187ea",
||||||| 6a30bf1
   "id": "4bad8160",
=======
   "id": "f87882ee",
>>>>>>> documentation-devel
||||||| d28b18c
   "id": "f87882ee",
=======
   "id": "640a346a",
>>>>>>> documentation-devel
||||||| 6893f63
<<<<<<< HEAD
   "id": "b08187ea",
||||||| 6a30bf1
   "id": "4bad8160",
=======
   "id": "f87882ee",
>>>>>>> documentation-devel
=======
   "id": "8b8d5366",
>>>>>>> c74c98c2450c2a1ba922ed9442f136238d6bc88b
||||||| 6d93b645
   "id": "640a346a",
=======
   "id": "73a12d66",
>>>>>>> documentation-devel
||||||| 804edffb
<<<<<<< HEAD
<<<<<<< HEAD
<<<<<<< HEAD
   "id": "b08187ea",
||||||| 6a30bf1
   "id": "4bad8160",
=======
   "id": "f87882ee",
>>>>>>> documentation-devel
||||||| d28b18c
   "id": "f87882ee",
=======
   "id": "640a346a",
>>>>>>> documentation-devel
||||||| 6893f63
<<<<<<< HEAD
   "id": "b08187ea",
||||||| 6a30bf1
   "id": "4bad8160",
=======
   "id": "f87882ee",
>>>>>>> documentation-devel
=======
   "id": "8b8d5366",
>>>>>>> c74c98c2450c2a1ba922ed9442f136238d6bc88b
=======
   "id": "b8ac56e9",
>>>>>>> 035bb2637984ead2784fecff78c0c60cc4181202
   "metadata": {
    "lines_to_next_cell": 0
   },
   "source": [
    "More geometries and spatial graphs can be added after calling the constructor.\n",
    "\n",
    "Geometries can also be supplied in the constructor. "
   ]
  },
  {
   "cell_type": "code",
   "execution_count": null,
<<<<<<< HEAD
<<<<<<< HEAD
<<<<<<< HEAD
<<<<<<< HEAD
<<<<<<< HEAD
   "id": "089a1759",
||||||| 6a30bf1
   "id": "fabe5fb2",
=======
   "id": "9b84344e",
>>>>>>> documentation-devel
||||||| d28b18c
   "id": "9b84344e",
=======
   "id": "7b40f2a1",
>>>>>>> documentation-devel
||||||| 6893f63
<<<<<<< HEAD
   "id": "089a1759",
||||||| 6a30bf1
   "id": "fabe5fb2",
=======
   "id": "9b84344e",
>>>>>>> documentation-devel
=======
   "id": "b3f6f034",
>>>>>>> c74c98c2450c2a1ba922ed9442f136238d6bc88b
||||||| 6d93b645
   "id": "7b40f2a1",
=======
   "id": "00c78e47",
>>>>>>> documentation-devel
||||||| 804edffb
<<<<<<< HEAD
<<<<<<< HEAD
<<<<<<< HEAD
   "id": "089a1759",
||||||| 6a30bf1
   "id": "fabe5fb2",
=======
   "id": "9b84344e",
>>>>>>> documentation-devel
||||||| d28b18c
   "id": "9b84344e",
=======
   "id": "7b40f2a1",
>>>>>>> documentation-devel
||||||| 6893f63
<<<<<<< HEAD
   "id": "089a1759",
||||||| 6a30bf1
   "id": "fabe5fb2",
=======
   "id": "9b84344e",
>>>>>>> documentation-devel
=======
   "id": "b3f6f034",
>>>>>>> c74c98c2450c2a1ba922ed9442f136238d6bc88b
=======
   "id": "36c2a026",
>>>>>>> 035bb2637984ead2784fecff78c0c60cc4181202
   "metadata": {},
   "outputs": [],
   "source": [
    "# Convert regular data frame with coordinates to sf data frame\n",
    "cg <- df2sf(coords1[,c(\"col\", \"row\")], c(\"col\", \"row\"), spotDiameter = 0.7)\n",
    "rownames(cg) <- colnames(mat)\n",
    "sfe3 <- SpatialFeatureExperiment(list(counts = mat), colGeometries = list(foo = cg))"
   ]
  },
  {
   "cell_type": "markdown",
<<<<<<< HEAD
<<<<<<< HEAD
<<<<<<< HEAD
<<<<<<< HEAD
<<<<<<< HEAD
   "id": "c29a774b",
||||||| 6a30bf1
   "id": "78b49c5a",
=======
   "id": "e6a06627",
>>>>>>> documentation-devel
||||||| d28b18c
   "id": "e6a06627",
=======
   "id": "e7334b2f",
>>>>>>> documentation-devel
||||||| 6893f63
<<<<<<< HEAD
   "id": "c29a774b",
||||||| 6a30bf1
   "id": "78b49c5a",
=======
   "id": "e6a06627",
>>>>>>> documentation-devel
=======
   "id": "dc7c1733",
>>>>>>> c74c98c2450c2a1ba922ed9442f136238d6bc88b
||||||| 6d93b645
   "id": "e7334b2f",
=======
   "id": "487904b0",
>>>>>>> documentation-devel
||||||| 804edffb
<<<<<<< HEAD
<<<<<<< HEAD
<<<<<<< HEAD
   "id": "c29a774b",
||||||| 6a30bf1
   "id": "78b49c5a",
=======
   "id": "e6a06627",
>>>>>>> documentation-devel
||||||| d28b18c
   "id": "e6a06627",
=======
   "id": "e7334b2f",
>>>>>>> documentation-devel
||||||| 6893f63
<<<<<<< HEAD
   "id": "c29a774b",
||||||| 6a30bf1
   "id": "78b49c5a",
=======
   "id": "e6a06627",
>>>>>>> documentation-devel
=======
   "id": "dc7c1733",
>>>>>>> c74c98c2450c2a1ba922ed9442f136238d6bc88b
=======
   "id": "f1d9bfd2",
>>>>>>> 035bb2637984ead2784fecff78c0c60cc4181202
   "metadata": {
    "lines_to_next_cell": 0
   },
   "source": [
    "## Technology specific notes\n",
    "Not all commercial technologies have a function to directly read the outputs. We may implement more such functions in the next version of `SpatialFeatureExperiment`. For now we show example code to read output from CosMX and Xenium.\n",
    "\n",
    "### Gene count matrix and cell metadata\n",
    "The gene count matrix and cell metadata (including cell centroid coordinates) from example datasets for technologies such as CosMX and Vizgen are CSV files. We recommend the [`vroom`](https://vroom.r-lib.org/) package to quickly read in large CSV files. The CSV files are read in as data frames. For the gene count matrix, this can be converted to a matrix and then a sparse `dgCMatrix`. The matrix may need to be transposed so the genes are in rows and cells are in columns. While smFISH based data tend to be less sparse than scRNA-seq data, using sparse matrix is worthwhile since the matrix is still about 50% zero.\n",
    "\n",
    "For 10x Genomics' new single cell resolution technology Xenium, the gene count matrix is an `h5` file, which can be read into R as an SCE object with `DropletUtils::read10xCounts()`. This can then be converted to `SpatialExperiment`, and then `SpatialFeatureExperiment`. The gene count matrix is a `DelayedArray`, so the data is not all loaded into memory and operations on this matrix are performed in chunks. The `DelayedArray` has been converted into a `dgCMatrix` in memory. While the cell metadata is available in the CSV format, there's also the `parquet` format which is more compact on disk, which can be read into R as a data frame with `arrow::read_parquet()`. Example code:"
   ]
  },
  {
   "cell_type": "code",
   "execution_count": null,
<<<<<<< HEAD
<<<<<<< HEAD
<<<<<<< HEAD
<<<<<<< HEAD
<<<<<<< HEAD
   "id": "c0018996",
||||||| 6a30bf1
   "id": "10be4b29",
=======
   "id": "042b0b87",
>>>>>>> documentation-devel
||||||| d28b18c
   "id": "042b0b87",
=======
   "id": "e2ba2676",
>>>>>>> documentation-devel
||||||| 6893f63
<<<<<<< HEAD
   "id": "c0018996",
||||||| 6a30bf1
   "id": "10be4b29",
=======
   "id": "042b0b87",
>>>>>>> documentation-devel
=======
   "id": "b1a87c6a",
>>>>>>> c74c98c2450c2a1ba922ed9442f136238d6bc88b
||||||| 6d93b645
   "id": "e2ba2676",
=======
   "id": "7cafb5f0",
>>>>>>> documentation-devel
||||||| 804edffb
<<<<<<< HEAD
<<<<<<< HEAD
<<<<<<< HEAD
   "id": "c0018996",
||||||| 6a30bf1
   "id": "10be4b29",
=======
   "id": "042b0b87",
>>>>>>> documentation-devel
||||||| d28b18c
   "id": "042b0b87",
=======
   "id": "e2ba2676",
>>>>>>> documentation-devel
||||||| 6893f63
<<<<<<< HEAD
   "id": "c0018996",
||||||| 6a30bf1
   "id": "10be4b29",
=======
   "id": "042b0b87",
>>>>>>> documentation-devel
=======
   "id": "b1a87c6a",
>>>>>>> c74c98c2450c2a1ba922ed9442f136238d6bc88b
=======
   "id": "cf71de3a",
>>>>>>> 035bb2637984ead2784fecff78c0c60cc4181202
   "metadata": {
    "eval": false
   },
   "outputs": [],
   "source": [
    "# Download data from https://www.10xgenomics.com/products/xenium-in-situ/preview-dataset-human-breast\n",
    "\n",
    "system(\"curl -O https://cf.10xgenomics.com/samples/xenium/1.0.1/Xenium_FFPE_Human_Breast_Cancer_Rep1/Xenium_FFPE_Human_Breast_Cancer_Rep1_outs.zip\")\n",
    "system(\"unzip Xenium_FFPE_Human_Breast_Cancer_Rep1_outs.zip\")\n",
    "system(\"mv outs outs_R1\")\n",
    "\n",
    "system(\"curl -O https://cf.10xgenomics.com/samples/xenium/1.0.1/Xenium_FFPE_Human_Breast_Cancer_Rep2/Xenium_FFPE_Human_Breast_Cancer_Rep2_outs.zip\")\n",
    "system(\"unzip Xenium_FFPE_Human_Breast_Cancer_Rep2_outs.zip\")\n",
    "system(\"mv outs outs_R2\")"
   ]
  },
  {
   "cell_type": "code",
   "execution_count": null,
<<<<<<< HEAD
<<<<<<< HEAD
<<<<<<< HEAD
<<<<<<< HEAD
<<<<<<< HEAD
   "id": "f7c574fa",
||||||| 6a30bf1
   "id": "911abdfe",
=======
   "id": "04126ac8",
>>>>>>> documentation-devel
||||||| d28b18c
   "id": "04126ac8",
=======
   "id": "a8068041",
>>>>>>> documentation-devel
||||||| 6893f63
<<<<<<< HEAD
   "id": "f7c574fa",
||||||| 6a30bf1
   "id": "911abdfe",
=======
   "id": "04126ac8",
>>>>>>> documentation-devel
=======
   "id": "297bf586",
>>>>>>> c74c98c2450c2a1ba922ed9442f136238d6bc88b
||||||| 6d93b645
   "id": "a8068041",
=======
   "id": "9de09bff",
>>>>>>> documentation-devel
||||||| 804edffb
<<<<<<< HEAD
<<<<<<< HEAD
<<<<<<< HEAD
   "id": "f7c574fa",
||||||| 6a30bf1
   "id": "911abdfe",
=======
   "id": "04126ac8",
>>>>>>> documentation-devel
||||||| d28b18c
   "id": "04126ac8",
=======
   "id": "a8068041",
>>>>>>> documentation-devel
||||||| 6893f63
<<<<<<< HEAD
   "id": "f7c574fa",
||||||| 6a30bf1
   "id": "911abdfe",
=======
   "id": "04126ac8",
>>>>>>> documentation-devel
=======
   "id": "297bf586",
>>>>>>> c74c98c2450c2a1ba922ed9442f136238d6bc88b
=======
   "id": "0685c6cf",
>>>>>>> 035bb2637984ead2784fecff78c0c60cc4181202
   "metadata": {
    "eval": false
   },
   "outputs": [],
   "source": [
    "library(SpatialExperiment)\n",
    "library(DropletUtils)\n",
    "library(arrow)\n",
    "sce <- read10xCounts(\"outs_R1/cell_feature_matrix.h5\")\n",
    "cell_info <- read_parquet(\"outs_R1/cells.parquet\")\n",
    "# Add the centroid coordinates to colData\n",
    "colData(sce) <- cbind(colData(sce), cell_info[,-1])\n",
    "spe <- toSpatialExperiment(sce, spatialCoordsNames = c(\"x_centroid\", \"y_centroid\"))\n",
    "sfe <- toSpatialFeatureExperiment(spe)"
   ]
  },
  {
   "cell_type": "markdown",
<<<<<<< HEAD
<<<<<<< HEAD
<<<<<<< HEAD
<<<<<<< HEAD
<<<<<<< HEAD
   "id": "b285d563",
||||||| 6a30bf1
   "id": "7c1ddb07",
=======
   "id": "cd9deefc",
>>>>>>> documentation-devel
||||||| d28b18c
   "id": "cd9deefc",
=======
   "id": "4ed8bd2b",
>>>>>>> documentation-devel
||||||| 6893f63
<<<<<<< HEAD
   "id": "b285d563",
||||||| 6a30bf1
   "id": "7c1ddb07",
=======
   "id": "cd9deefc",
>>>>>>> documentation-devel
=======
   "id": "a3f6494a",
>>>>>>> c74c98c2450c2a1ba922ed9442f136238d6bc88b
||||||| 6d93b645
   "id": "4ed8bd2b",
=======
   "id": "9b2a7469",
>>>>>>> documentation-devel
||||||| 804edffb
<<<<<<< HEAD
<<<<<<< HEAD
<<<<<<< HEAD
   "id": "b285d563",
||||||| 6a30bf1
   "id": "7c1ddb07",
=======
   "id": "cd9deefc",
>>>>>>> documentation-devel
||||||| d28b18c
   "id": "cd9deefc",
=======
   "id": "4ed8bd2b",
>>>>>>> documentation-devel
||||||| 6893f63
<<<<<<< HEAD
   "id": "b285d563",
||||||| 6a30bf1
   "id": "7c1ddb07",
=======
   "id": "cd9deefc",
>>>>>>> documentation-devel
=======
   "id": "a3f6494a",
>>>>>>> c74c98c2450c2a1ba922ed9442f136238d6bc88b
=======
   "id": "a9f564ea",
>>>>>>> 035bb2637984ead2784fecff78c0c60cc4181202
   "metadata": {},
   "source": [
    "### Cell polygons\n",
    "File format of cell polygons (if available) is in different formats in different technology. The cell polygons should be [`sf`](https://r-spatial.github.io/sf/) data frames to put into `colGeometries()` of the SFE object. This section explains how to do that for a number of smFISH-based technologies.\n",
    "\n",
    "In Xenium, the cell polygons come in CSV or parquet files that can be directly read into R as a data frame, with 2 columns for x and y coordinates, and one indicating which cell the coordinates belong to. Change the name of the cell ID column into \"ID\", and use `SpatialFeatureExperiment::df2sf()` to convert the data frame into an `sf` data frame with `POLYGON` geometry. Example code:"
   ]
  },
  {
   "cell_type": "code",
   "execution_count": null,
<<<<<<< HEAD
<<<<<<< HEAD
<<<<<<< HEAD
<<<<<<< HEAD
<<<<<<< HEAD
   "id": "03c3246e",
||||||| 6a30bf1
   "id": "894c8aff",
=======
   "id": "06f52a66",
>>>>>>> documentation-devel
||||||| d28b18c
   "id": "06f52a66",
=======
   "id": "b1de98df",
>>>>>>> documentation-devel
||||||| 6893f63
<<<<<<< HEAD
   "id": "03c3246e",
||||||| 6a30bf1
   "id": "894c8aff",
=======
   "id": "06f52a66",
>>>>>>> documentation-devel
=======
   "id": "170c8218",
>>>>>>> c74c98c2450c2a1ba922ed9442f136238d6bc88b
||||||| 6d93b645
   "id": "b1de98df",
=======
   "id": "8d7187b6",
>>>>>>> documentation-devel
||||||| 804edffb
<<<<<<< HEAD
<<<<<<< HEAD
<<<<<<< HEAD
   "id": "03c3246e",
||||||| 6a30bf1
   "id": "894c8aff",
=======
   "id": "06f52a66",
>>>>>>> documentation-devel
||||||| d28b18c
   "id": "06f52a66",
=======
   "id": "b1de98df",
>>>>>>> documentation-devel
||||||| 6893f63
<<<<<<< HEAD
   "id": "03c3246e",
||||||| 6a30bf1
   "id": "894c8aff",
=======
   "id": "06f52a66",
>>>>>>> documentation-devel
=======
   "id": "170c8218",
>>>>>>> c74c98c2450c2a1ba922ed9442f136238d6bc88b
=======
   "id": "4264e50e",
>>>>>>> 035bb2637984ead2784fecff78c0c60cc4181202
   "metadata": {
    "eval": false
   },
   "outputs": [],
   "source": [
    "library(arrow)\n",
    "cell_poly <- read_parquet(\"outs_R2/cell_boundaries.parquet\")\n",
    "# Here the first column is cell ID\n",
    "names(cell_poly)[1] <- \"ID\"\n",
    "# \"vertex_x\" and \"vertex_y\" are the column names for coordinates here\n",
    "cell_sf <- df2sf(cell_poly, c(\"vertex_x\", \"vertex_y\"), geometryType = \"POLYGON\")"
   ]
  },
  {
   "cell_type": "markdown",
<<<<<<< HEAD
<<<<<<< HEAD
<<<<<<< HEAD
<<<<<<< HEAD
<<<<<<< HEAD
   "id": "a34c2fe4",
||||||| 6a30bf1
   "id": "1e9afa55",
=======
   "id": "7fa511ec",
>>>>>>> documentation-devel
||||||| d28b18c
   "id": "7fa511ec",
=======
   "id": "2a8683ab",
>>>>>>> documentation-devel
||||||| 6893f63
<<<<<<< HEAD
   "id": "a34c2fe4",
||||||| 6a30bf1
   "id": "1e9afa55",
=======
   "id": "7fa511ec",
>>>>>>> documentation-devel
=======
   "id": "0dc50fdc",
>>>>>>> c74c98c2450c2a1ba922ed9442f136238d6bc88b
||||||| 6d93b645
   "id": "2a8683ab",
=======
   "id": "94baf4ad",
>>>>>>> documentation-devel
||||||| 804edffb
<<<<<<< HEAD
<<<<<<< HEAD
<<<<<<< HEAD
   "id": "a34c2fe4",
||||||| 6a30bf1
   "id": "1e9afa55",
=======
   "id": "7fa511ec",
>>>>>>> documentation-devel
||||||| d28b18c
   "id": "7fa511ec",
=======
   "id": "2a8683ab",
>>>>>>> documentation-devel
||||||| 6893f63
<<<<<<< HEAD
   "id": "a34c2fe4",
||||||| 6a30bf1
   "id": "1e9afa55",
=======
   "id": "7fa511ec",
>>>>>>> documentation-devel
=======
   "id": "0dc50fdc",
>>>>>>> c74c98c2450c2a1ba922ed9442f136238d6bc88b
=======
   "id": "d0bef8f8",
>>>>>>> 035bb2637984ead2784fecff78c0c60cc4181202
   "metadata": {
    "lines_to_next_cell": 0
   },
   "source": [
    "In CoxMX, cell polygons are in CSV files. Besides the two coordinates columns, there's a column for field of view (FOV) and another for cell ID. However, unlike in Xenium, the cell IDs are only unique in each FOV, so they should be concatenated to FOV to make them unique. Then `df2sf()` can also be used to convert the regular data frame into `sf`. Example code:"
   ]
  },
  {
   "cell_type": "code",
   "execution_count": null,
<<<<<<< HEAD
<<<<<<< HEAD
<<<<<<< HEAD
<<<<<<< HEAD
<<<<<<< HEAD
   "id": "b30e19c5",
||||||| 6a30bf1
   "id": "7e516daa",
=======
   "id": "1d15e45f",
>>>>>>> documentation-devel
||||||| d28b18c
   "id": "1d15e45f",
=======
   "id": "e659ab39",
>>>>>>> documentation-devel
||||||| 6893f63
<<<<<<< HEAD
   "id": "b30e19c5",
||||||| 6a30bf1
   "id": "7e516daa",
=======
   "id": "1d15e45f",
>>>>>>> documentation-devel
=======
   "id": "1501b660",
>>>>>>> c74c98c2450c2a1ba922ed9442f136238d6bc88b
||||||| 6d93b645
   "id": "e659ab39",
=======
   "id": "74e0b544",
>>>>>>> documentation-devel
||||||| 804edffb
<<<<<<< HEAD
<<<<<<< HEAD
<<<<<<< HEAD
   "id": "b30e19c5",
||||||| 6a30bf1
   "id": "7e516daa",
=======
   "id": "1d15e45f",
>>>>>>> documentation-devel
||||||| d28b18c
   "id": "1d15e45f",
=======
   "id": "e659ab39",
>>>>>>> documentation-devel
||||||| 6893f63
<<<<<<< HEAD
   "id": "b30e19c5",
||||||| 6a30bf1
   "id": "7e516daa",
=======
   "id": "1d15e45f",
>>>>>>> documentation-devel
=======
   "id": "1501b660",
>>>>>>> c74c98c2450c2a1ba922ed9442f136238d6bc88b
=======
   "id": "0118869e",
>>>>>>> 035bb2637984ead2784fecff78c0c60cc4181202
   "metadata": {
    "eval": false
   },
   "outputs": [],
   "source": [
    "# Download data from https://nanostring.com/products/cosmx-spatial-molecular-imager/ffpe-dataset/\n",
    "# stored here: https://www.dropbox.com/s/hl3peavrx92bluy/Lung5_Rep1-polygons.csv?dl=0\n",
    "\n",
    "system(\"wget https://www.dropbox.com/s/hl3peavrx92bluy/Lung5_Rep1-polygons.csv?dl=1\")\n",
    "system(\"mv Lung5_Rep1-polygons.csv?dl=1 Lung5_Rep1-polygons.csv\")"
   ]
  },
  {
   "cell_type": "code",
   "execution_count": null,
<<<<<<< HEAD
<<<<<<< HEAD
<<<<<<< HEAD
<<<<<<< HEAD
<<<<<<< HEAD
   "id": "31bbf0dd",
||||||| 6a30bf1
   "id": "96ce842d",
=======
   "id": "d669af72",
>>>>>>> documentation-devel
||||||| d28b18c
   "id": "d669af72",
=======
   "id": "649f2301",
>>>>>>> documentation-devel
||||||| 6893f63
<<<<<<< HEAD
   "id": "31bbf0dd",
||||||| 6a30bf1
   "id": "96ce842d",
=======
   "id": "d669af72",
>>>>>>> documentation-devel
=======
   "id": "aea81cb5",
>>>>>>> c74c98c2450c2a1ba922ed9442f136238d6bc88b
||||||| 6d93b645
   "id": "649f2301",
=======
   "id": "3fa5171e",
>>>>>>> documentation-devel
||||||| 804edffb
<<<<<<< HEAD
<<<<<<< HEAD
<<<<<<< HEAD
   "id": "31bbf0dd",
||||||| 6a30bf1
   "id": "96ce842d",
=======
   "id": "d669af72",
>>>>>>> documentation-devel
||||||| d28b18c
   "id": "d669af72",
=======
   "id": "649f2301",
>>>>>>> documentation-devel
||||||| 6893f63
<<<<<<< HEAD
   "id": "31bbf0dd",
||||||| 6a30bf1
   "id": "96ce842d",
=======
   "id": "d669af72",
>>>>>>> documentation-devel
=======
   "id": "aea81cb5",
>>>>>>> c74c98c2450c2a1ba922ed9442f136238d6bc88b
=======
   "id": "1eeecc99",
>>>>>>> 035bb2637984ead2784fecff78c0c60cc4181202
   "metadata": {
    "eval": false
   },
   "outputs": [],
   "source": [
    "library(vroom)\n",
    "library(tidyr)\n",
    "cell_poly <- vroom(\"Lung5_Rep1-polygons.csv\")\n",
    "cell_poly <- cell_poly |> \n",
    "    unite(\"ID\", fov:cellID)\n",
    "cell_sf <- df2sf(cell_poly, spatialCoordsNames = c(\"x_global_px\", \"y_global_px\"),\n",
    "                 geometryType = \"POLYGON\")"
   ]
  },
  {
   "cell_type": "markdown",
<<<<<<< HEAD
<<<<<<< HEAD
<<<<<<< HEAD
<<<<<<< HEAD
<<<<<<< HEAD
   "id": "33728a3a",
||||||| 6a30bf1
   "id": "947958e8",
=======
   "id": "0d5ce322",
>>>>>>> documentation-devel
||||||| d28b18c
   "id": "0d5ce322",
=======
   "id": "25434353",
>>>>>>> documentation-devel
||||||| 6893f63
<<<<<<< HEAD
   "id": "33728a3a",
||||||| 6a30bf1
   "id": "947958e8",
=======
   "id": "0d5ce322",
>>>>>>> documentation-devel
=======
   "id": "157eebe6",
>>>>>>> c74c98c2450c2a1ba922ed9442f136238d6bc88b
||||||| 6d93b645
   "id": "25434353",
=======
   "id": "43610360",
>>>>>>> documentation-devel
||||||| 804edffb
<<<<<<< HEAD
<<<<<<< HEAD
<<<<<<< HEAD
   "id": "33728a3a",
||||||| 6a30bf1
   "id": "947958e8",
=======
   "id": "0d5ce322",
>>>>>>> documentation-devel
||||||| d28b18c
   "id": "0d5ce322",
=======
   "id": "25434353",
>>>>>>> documentation-devel
||||||| 6893f63
<<<<<<< HEAD
   "id": "33728a3a",
||||||| 6a30bf1
   "id": "947958e8",
=======
   "id": "0d5ce322",
>>>>>>> documentation-devel
=======
   "id": "157eebe6",
>>>>>>> c74c98c2450c2a1ba922ed9442f136238d6bc88b
=======
   "id": "171e61a1",
>>>>>>> 035bb2637984ead2784fecff78c0c60cc4181202
   "metadata": {
    "lines_to_next_cell": 0
   },
   "source": [
    "See [the code used to construct the example datasets in `SFEData`](https://github.com/pachterlab/SFEData/blob/main/inst/scripts/make-data.R) for more examples. \n",
    "\n",
    "Use `sf::st_is_valid()` to check if the polygons are valid. Polygons with self-intersection are not valid, and will throw an error in geometric operations. A common reason why polygons are invalid is a protruding line, which can be eliminated with `sf::st_buffer(cell_sf, dist = 0)`. Use `sf::st_is_valid(cell_sf, reason = TRUE)`, and plot the invalid polygons, to find why some polygons are not valid. \n",
    "\n",
    "# Session info"
   ]
  },
  {
   "cell_type": "code",
   "execution_count": null,
<<<<<<< HEAD
<<<<<<< HEAD
<<<<<<< HEAD
<<<<<<< HEAD
<<<<<<< HEAD
   "id": "aba2f2fc",
||||||| 6a30bf1
   "id": "a31d12e7",
=======
   "id": "31e51ca1",
>>>>>>> documentation-devel
||||||| d28b18c
   "id": "31e51ca1",
=======
   "id": "aefd6f39",
>>>>>>> documentation-devel
||||||| 6893f63
<<<<<<< HEAD
   "id": "aba2f2fc",
||||||| 6a30bf1
   "id": "a31d12e7",
=======
   "id": "31e51ca1",
>>>>>>> documentation-devel
=======
   "id": "9ec65ec8",
>>>>>>> c74c98c2450c2a1ba922ed9442f136238d6bc88b
||||||| 6d93b645
   "id": "aefd6f39",
=======
   "id": "b5e36a4c",
>>>>>>> documentation-devel
||||||| 804edffb
<<<<<<< HEAD
<<<<<<< HEAD
<<<<<<< HEAD
   "id": "aba2f2fc",
||||||| 6a30bf1
   "id": "a31d12e7",
=======
   "id": "31e51ca1",
>>>>>>> documentation-devel
||||||| d28b18c
   "id": "31e51ca1",
=======
   "id": "aefd6f39",
>>>>>>> documentation-devel
||||||| 6893f63
<<<<<<< HEAD
   "id": "aba2f2fc",
||||||| 6a30bf1
   "id": "a31d12e7",
=======
   "id": "31e51ca1",
>>>>>>> documentation-devel
=======
   "id": "9ec65ec8",
>>>>>>> c74c98c2450c2a1ba922ed9442f136238d6bc88b
=======
   "id": "fcce4abf",
>>>>>>> 035bb2637984ead2784fecff78c0c60cc4181202
   "metadata": {},
   "outputs": [],
   "source": [
    "sessionInfo()"
   ]
  }
 ],
 "metadata": {
  "kernelspec": {
   "display_name": "R",
   "language": "R",
   "name": "ir"
  }
 },
 "nbformat": 4,
 "nbformat_minor": 5
}
