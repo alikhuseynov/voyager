{
 "cells": [
  {
   "cell_type": "raw",
<<<<<<< HEAD
<<<<<<< HEAD
<<<<<<< HEAD
<<<<<<< HEAD
   "id": "149389e5",
||||||| 11b9cb7
   "id": "38f2a589",
=======
   "id": "b26bacaa",
>>>>>>> documentation-devel
||||||| 614e9b1
   "id": "b26bacaa",
=======
   "id": "549a48dd",
>>>>>>> documentation-devel
||||||| 856b4c0
<<<<<<< HEAD
   "id": "149389e5",
||||||| 11b9cb7
   "id": "38f2a589",
=======
   "id": "b26bacaa",
>>>>>>> documentation-devel
=======
   "id": "76462b37",
>>>>>>> 552590ea8fad969b67afdba27558a1e6cb21016e
||||||| 452c944
   "id": "549a48dd",
=======
   "id": "2bbb5ffc",
>>>>>>> documentation-devel
   "metadata": {},
   "source": [
    "---\n",
    "title: \"Create a SpatialFeatureExperiment object\"\n",
    "author: \"Lambda Moses\"\n",
    "date: \"`r Sys.Date()`\"\n",
    "output: \n",
    "  html_document:\n",
    "  toc: true\n",
    "  toc_float:\n",
    "    collapsed: false\n",
    "  toc_depth: 3\n",
    "vignette: >\n",
    "  %\\VignetteIndexEntry{create_sfe}\n",
    "  %\\VignetteEngine{knitr::rmarkdown}\n",
    "  %\\VignetteEncoding{UTF-8}\n",
    "---"
   ]
  },
  {
   "cell_type": "code",
   "execution_count": null,
<<<<<<< HEAD
<<<<<<< HEAD
<<<<<<< HEAD
<<<<<<< HEAD
   "id": "0a8f57b9",
||||||| 11b9cb7
   "id": "4cdc436b",
=======
   "id": "e3abf53a",
>>>>>>> documentation-devel
||||||| 614e9b1
   "id": "e3abf53a",
=======
   "id": "e10ad284",
>>>>>>> documentation-devel
||||||| 856b4c0
<<<<<<< HEAD
   "id": "0a8f57b9",
||||||| 11b9cb7
   "id": "4cdc436b",
=======
   "id": "e3abf53a",
>>>>>>> documentation-devel
=======
   "id": "62659225",
>>>>>>> 552590ea8fad969b67afdba27558a1e6cb21016e
||||||| 452c944
   "id": "e10ad284",
=======
   "id": "b8a8b0e8",
>>>>>>> documentation-devel
   "metadata": {
    "tags": [
     "remove_cell"
    ]
   },
   "outputs": [],
   "source": [
    "knitr::opts_chunk$set(\n",
    "  collapse = TRUE,\n",
    "  comment = \"#>\"\n",
    ")"
   ]
  },
  {
   "cell_type": "code",
   "execution_count": null,
<<<<<<< HEAD
<<<<<<< HEAD
<<<<<<< HEAD
<<<<<<< HEAD
   "id": "573dc8fe",
||||||| 11b9cb7
   "id": "5e222567",
=======
   "id": "2bd99492",
>>>>>>> documentation-devel
||||||| 614e9b1
   "id": "2bd99492",
=======
   "id": "0d6ff221",
>>>>>>> documentation-devel
||||||| 856b4c0
<<<<<<< HEAD
   "id": "573dc8fe",
||||||| 11b9cb7
   "id": "5e222567",
=======
   "id": "2bd99492",
>>>>>>> documentation-devel
=======
   "id": "c60286c6",
>>>>>>> 552590ea8fad969b67afdba27558a1e6cb21016e
||||||| 452c944
   "id": "0d6ff221",
=======
   "id": "830b52b2",
>>>>>>> documentation-devel
   "metadata": {
    "eval": false,
    "tags": [
     "remove_cell"
    ]
   },
   "outputs": [],
   "source": [
    "# Install Google Colab dependencies\n",
    "# Note: this can take 30+ minutes (many of the dependencies include C++ code, which needs to be compiled)\n",
    "\n",
    "# First install `sf`, `ragg` and `textshaping` and their system dependencies:\n",
    "system(\"apt-get -y update && apt-get install -y  libudunits2-dev libgdal-dev libgeos-dev libproj-dev libharfbuzz-dev libfribidi-dev\")\n",
    "install.packages(\"sf\")\n",
    "install.packages(\"textshaping\")\n",
    "install.packages(\"ragg\")\n",
    "\n",
    "# Install system dependencies of some other R packages that Voyager either imports or suggests:\n",
    "system(\"apt-get install -y libfribidi-dev libcairo2-dev libmagick++-dev\")\n",
    "\n",
    "# Install Voyager from Bioconductor:\n",
    "install.packages(\"BiocManager\")\n",
    "BiocManager::install(version = \"3.17\", ask = FALSE, update = FALSE, Ncpus = 2)\n",
    "BiocManager::install(\"scater\")\n",
    "system.time(\n",
    "  BiocManager::install(\"Voyager\", dependencies = TRUE, Ncpus = 2, update = FALSE)\n",
    ")\n",
    "\n",
    "# Additional dependencies for this notebook\n",
    "install.packages(\"arrow\")\n",
    "\n",
    "packageVersion(\"Voyager\")"
   ]
  },
  {
   "cell_type": "code",
   "execution_count": null,
<<<<<<< HEAD
<<<<<<< HEAD
<<<<<<< HEAD
<<<<<<< HEAD
   "id": "80f18cc5",
||||||| 11b9cb7
   "id": "c25bace3",
=======
   "id": "215144dd",
>>>>>>> documentation-devel
||||||| 614e9b1
   "id": "215144dd",
=======
   "id": "c7fb234c",
>>>>>>> documentation-devel
||||||| 856b4c0
<<<<<<< HEAD
   "id": "80f18cc5",
||||||| 11b9cb7
   "id": "c25bace3",
=======
   "id": "215144dd",
>>>>>>> documentation-devel
=======
   "id": "9c73e380",
>>>>>>> 552590ea8fad969b67afdba27558a1e6cb21016e
||||||| 452c944
   "id": "c7fb234c",
=======
   "id": "e4e042e1",
>>>>>>> documentation-devel
   "metadata": {
    "name": "setup"
   },
   "outputs": [],
   "source": [
    "library(Voyager)\n",
    "library(SpatialFeatureExperiment)\n",
    "library(rjson)\n",
    "library(Matrix)"
   ]
  },
  {
   "cell_type": "markdown",
<<<<<<< HEAD
<<<<<<< HEAD
<<<<<<< HEAD
<<<<<<< HEAD
   "id": "299dcaf4",
||||||| 11b9cb7
   "id": "63f0185b",
=======
   "id": "764c5705",
>>>>>>> documentation-devel
||||||| 614e9b1
   "id": "764c5705",
=======
   "id": "153af585",
>>>>>>> documentation-devel
||||||| 856b4c0
<<<<<<< HEAD
   "id": "299dcaf4",
||||||| 11b9cb7
   "id": "63f0185b",
=======
   "id": "764c5705",
>>>>>>> documentation-devel
=======
   "id": "582102f3",
>>>>>>> 552590ea8fad969b67afdba27558a1e6cb21016e
||||||| 452c944
   "id": "153af585",
=======
   "id": "a1689029",
>>>>>>> documentation-devel
   "metadata": {},
   "source": [
    "# Visium Space Ranger output\n",
    "\n",
    "10x Genomics Space Ranger output from a Visium experiment can be read in a similar manner as in `SpatialExperiment`; the `SpatialFeatureExperiment` SFE object has the `spotPoly` column geometry for the spot polygons. If the filtered matrix (i.e. only spots in the tissue) is read in, then a column graph called `visium` will also be present for the spatial neighborhood graph of the Visium spots on the tissue. The graph is not computed if all spots are read in regardless of whether they are on tissue."
   ]
  },
  {
   "cell_type": "code",
   "execution_count": null,
<<<<<<< HEAD
<<<<<<< HEAD
<<<<<<< HEAD
<<<<<<< HEAD
   "id": "55cef51d",
||||||| 11b9cb7
   "id": "df3cde6c",
=======
   "id": "83c29d61",
>>>>>>> documentation-devel
||||||| 614e9b1
   "id": "83c29d61",
=======
   "id": "faac4831",
>>>>>>> documentation-devel
||||||| 856b4c0
<<<<<<< HEAD
   "id": "55cef51d",
||||||| 11b9cb7
   "id": "df3cde6c",
=======
   "id": "83c29d61",
>>>>>>> documentation-devel
=======
   "id": "33e582fd",
>>>>>>> 552590ea8fad969b67afdba27558a1e6cb21016e
||||||| 452c944
   "id": "faac4831",
=======
   "id": "3f4dc4be",
>>>>>>> documentation-devel
   "metadata": {},
   "outputs": [],
   "source": [
    "# Example from SpatialExperiment\n",
    "dir <- system.file(\n",
    "  file.path(\"extdata\", \"10xVisium\"), \n",
    "  package = \"SpatialExperiment\")\n",
    "  \n",
    "sample_ids <- c(\"section1\", \"section2\")\n",
    "(samples <- file.path(dir, sample_ids, \"outs\"))"
   ]
  },
  {
   "cell_type": "markdown",
<<<<<<< HEAD
<<<<<<< HEAD
<<<<<<< HEAD
<<<<<<< HEAD
   "id": "b3d2730a",
||||||| 11b9cb7
   "id": "06d98c5e",
=======
   "id": "1dbbbf69",
>>>>>>> documentation-devel
||||||| 614e9b1
   "id": "1dbbbf69",
=======
   "id": "6dc6dc57",
>>>>>>> documentation-devel
||||||| 856b4c0
<<<<<<< HEAD
   "id": "b3d2730a",
||||||| 11b9cb7
   "id": "06d98c5e",
=======
   "id": "1dbbbf69",
>>>>>>> documentation-devel
=======
   "id": "87dc5a4d",
>>>>>>> 552590ea8fad969b67afdba27558a1e6cb21016e
||||||| 452c944
   "id": "6dc6dc57",
=======
   "id": "01eb0b71",
>>>>>>> documentation-devel
   "metadata": {},
   "source": [
    "The results for each tissue capture should be in the `outs` directory. Inside the `outs` directory there are two directories: `raw_reature_bc_matrix` has the unfiltered gene count matrix, and `spatial` has the spatial information. "
   ]
  },
  {
   "cell_type": "code",
   "execution_count": null,
<<<<<<< HEAD
<<<<<<< HEAD
<<<<<<< HEAD
<<<<<<< HEAD
   "id": "b9b41a1b",
||||||| 11b9cb7
   "id": "6b86cd08",
=======
   "id": "e5bd8d42",
>>>>>>> documentation-devel
||||||| 614e9b1
   "id": "e5bd8d42",
=======
   "id": "bcfc6dc6",
>>>>>>> documentation-devel
||||||| 856b4c0
<<<<<<< HEAD
   "id": "b9b41a1b",
||||||| 11b9cb7
   "id": "6b86cd08",
=======
   "id": "e5bd8d42",
>>>>>>> documentation-devel
=======
   "id": "60b05e45",
>>>>>>> 552590ea8fad969b67afdba27558a1e6cb21016e
||||||| 452c944
   "id": "bcfc6dc6",
=======
   "id": "bc0b4368",
>>>>>>> documentation-devel
   "metadata": {},
   "outputs": [],
   "source": [
    "list.files(samples[1])"
   ]
  },
  {
   "cell_type": "markdown",
<<<<<<< HEAD
<<<<<<< HEAD
<<<<<<< HEAD
<<<<<<< HEAD
   "id": "081fd467",
||||||| 11b9cb7
   "id": "a25be8db",
=======
   "id": "7b2407ce",
>>>>>>> documentation-devel
||||||| 614e9b1
   "id": "7b2407ce",
=======
   "id": "fe56e459",
>>>>>>> documentation-devel
||||||| 856b4c0
<<<<<<< HEAD
   "id": "081fd467",
||||||| 11b9cb7
   "id": "a25be8db",
=======
   "id": "7b2407ce",
>>>>>>> documentation-devel
=======
   "id": "64215b5d",
>>>>>>> 552590ea8fad969b67afdba27558a1e6cb21016e
||||||| 452c944
   "id": "fe56e459",
=======
   "id": "9f27f987",
>>>>>>> documentation-devel
   "metadata": {},
   "source": [
    "The [`DropletUtils`](https://bioconductor.org/packages/release/bioc/html/DropletUtils.html) package has a function `read10xCounts()` which reads the gene count matrix. SPE reads in the spatial information, and SFE uses the spatial information to construct Visium spot polygons and spatial neighborhood graphs. Inside the `spatial` directory:"
   ]
  },
  {
   "cell_type": "code",
   "execution_count": null,
<<<<<<< HEAD
<<<<<<< HEAD
<<<<<<< HEAD
<<<<<<< HEAD
   "id": "80a640cb",
||||||| 11b9cb7
   "id": "f9d7a19c",
=======
   "id": "4b55a077",
>>>>>>> documentation-devel
||||||| 614e9b1
   "id": "4b55a077",
=======
   "id": "a48c2b09",
>>>>>>> documentation-devel
||||||| 856b4c0
<<<<<<< HEAD
   "id": "80a640cb",
||||||| 11b9cb7
   "id": "f9d7a19c",
=======
   "id": "4b55a077",
>>>>>>> documentation-devel
=======
   "id": "30accc5f",
>>>>>>> 552590ea8fad969b67afdba27558a1e6cb21016e
||||||| 452c944
   "id": "a48c2b09",
=======
   "id": "7bfe94a0",
>>>>>>> documentation-devel
   "metadata": {},
   "outputs": [],
   "source": [
    "list.files(file.path(samples[1], \"spatial\"))"
   ]
  },
  {
   "cell_type": "markdown",
<<<<<<< HEAD
<<<<<<< HEAD
<<<<<<< HEAD
<<<<<<< HEAD
   "id": "0fca1125",
||||||| 11b9cb7
   "id": "e4504bc3",
=======
   "id": "d98ab3a9",
>>>>>>> documentation-devel
||||||| 614e9b1
   "id": "d98ab3a9",
=======
   "id": "e2707126",
>>>>>>> documentation-devel
||||||| 856b4c0
<<<<<<< HEAD
   "id": "0fca1125",
||||||| 11b9cb7
   "id": "e4504bc3",
=======
   "id": "d98ab3a9",
>>>>>>> documentation-devel
=======
   "id": "9712a9de",
>>>>>>> 552590ea8fad969b67afdba27558a1e6cb21016e
||||||| 452c944
   "id": "e2707126",
=======
   "id": "b1929890",
>>>>>>> documentation-devel
   "metadata": {},
   "source": [
    "`tissue_lowres_image.png` is a low resolution image of the tissue.\n",
    "\n",
    "Inside the `scalefactors_json.json` file:"
   ]
  },
  {
   "cell_type": "code",
   "execution_count": null,
<<<<<<< HEAD
<<<<<<< HEAD
<<<<<<< HEAD
<<<<<<< HEAD
   "id": "016a1d20",
||||||| 11b9cb7
   "id": "677503c7",
=======
   "id": "75646b63",
>>>>>>> documentation-devel
||||||| 614e9b1
   "id": "75646b63",
=======
   "id": "69f8b256",
>>>>>>> documentation-devel
||||||| 856b4c0
<<<<<<< HEAD
   "id": "016a1d20",
||||||| 11b9cb7
   "id": "677503c7",
=======
   "id": "75646b63",
>>>>>>> documentation-devel
=======
   "id": "2f0ae8a4",
>>>>>>> 552590ea8fad969b67afdba27558a1e6cb21016e
||||||| 452c944
   "id": "69f8b256",
=======
   "id": "59b5ba55",
>>>>>>> documentation-devel
   "metadata": {},
   "outputs": [],
   "source": [
    "fromJSON(file = file.path(samples[1], \"spatial\", \"scalefactors_json.json\"))"
   ]
  },
  {
   "cell_type": "markdown",
<<<<<<< HEAD
<<<<<<< HEAD
<<<<<<< HEAD
<<<<<<< HEAD
   "id": "8b9eb500",
||||||| 11b9cb7
   "id": "79d9a1dc",
=======
   "id": "6148a396",
>>>>>>> documentation-devel
||||||| 614e9b1
   "id": "6148a396",
=======
   "id": "86a5e5cc",
>>>>>>> documentation-devel
||||||| 856b4c0
<<<<<<< HEAD
   "id": "8b9eb500",
||||||| 11b9cb7
   "id": "79d9a1dc",
=======
   "id": "6148a396",
>>>>>>> documentation-devel
=======
   "id": "34f54d4d",
>>>>>>> 552590ea8fad969b67afdba27558a1e6cb21016e
||||||| 452c944
   "id": "86a5e5cc",
=======
   "id": "f5cac988",
>>>>>>> documentation-devel
   "metadata": {},
   "source": [
    "`spot_diameter_fullres` is the diameter of each Visium spot in the full resolution H&E image in pixels. `tissue_hires_scalef` and `tissue_lowres_scalef` are the ratio of the size of the high resolution (but not full resolution) and low resolution H&E image to the full resolution image. `fiducial_diameter_fullres` is the diameter of each fiducial spot used to align the spots to the H&E image in pixels in the full resolution image.\n",
    "\n",
    "The `tissue_positions_list.csv` file contains information for the spatial coordinates of the spots and whether each spot is in tissue as automatically detected by Space Ranger or manually annotated in the Loupe browser. If the polygon of the tissue boundary is available, whether from image processing or manual annotation, geometric operations as supported by the SFE package, which is based on the `sf` package, can be used to find which spots intersect with the tissue and which spots are contained in the tissue. Geometric operations can also find the polygons of the intersections between spots and the tissue, but the results can get messy since the intersections can have not only polygons but also points and lines. \n",
    "\n",
    "Now we read in the toy data that is in the Space Ranger output format. Since Bioconductor version 3.17 (Voyager version 1.2.0), the image is read as a `SpatRaster` object with the [`terra`](https://rspatial.github.io/terra/index.html) package, so it is not loaded into memory unless necessary. When plotting a large image, it will be downsampled and thus not fully loaded into memory. The unit can be set with the `unit` argument, and can be either pixels in full resolution image or microns. The latter is calculated from the former based on spacing between spots, which is known to be 100 microns."
   ]
  },
  {
   "cell_type": "code",
   "execution_count": null,
<<<<<<< HEAD
<<<<<<< HEAD
<<<<<<< HEAD
<<<<<<< HEAD
   "id": "ec8164d1",
||||||| 11b9cb7
   "id": "d9ffecb5",
=======
   "id": "bc8fee75",
>>>>>>> documentation-devel
||||||| 614e9b1
   "id": "bc8fee75",
=======
   "id": "a3835c93",
>>>>>>> documentation-devel
||||||| 856b4c0
<<<<<<< HEAD
   "id": "ec8164d1",
||||||| 11b9cb7
   "id": "d9ffecb5",
=======
   "id": "bc8fee75",
>>>>>>> documentation-devel
=======
   "id": "39df66ee",
>>>>>>> 552590ea8fad969b67afdba27558a1e6cb21016e
||||||| 452c944
   "id": "a3835c93",
=======
   "id": "3fda3fb0",
>>>>>>> documentation-devel
   "metadata": {},
   "outputs": [],
   "source": [
    "(sfe3 <- read10xVisiumSFE(samples, dirs = samples, sample_id = sample_ids, \n",
    "                          type = \"sparse\", data = \"raw\", images = \"lowres\", \n",
    "                          unit = \"full_res_image_pixel\"))"
   ]
  },
  {
   "cell_type": "markdown",
<<<<<<< HEAD
<<<<<<< HEAD
<<<<<<< HEAD
<<<<<<< HEAD
   "id": "4ff83b1f",
||||||| 11b9cb7
   "id": "9d9bd05c",
=======
   "id": "6fe0194f",
>>>>>>> documentation-devel
||||||| 614e9b1
   "id": "6fe0194f",
=======
   "id": "6073e682",
>>>>>>> documentation-devel
||||||| 856b4c0
<<<<<<< HEAD
   "id": "4ff83b1f",
||||||| 11b9cb7
   "id": "9d9bd05c",
=======
   "id": "6fe0194f",
>>>>>>> documentation-devel
=======
   "id": "3d0e5c34",
>>>>>>> 552590ea8fad969b67afdba27558a1e6cb21016e
||||||| 452c944
   "id": "6073e682",
=======
   "id": "a1c49f9a",
>>>>>>> documentation-devel
   "metadata": {},
   "source": [
    "Space Ranger output includes the gene count matrix, spot coordinates, and spot diameter. The Space Ranger output does NOT include nuclei segmentation or pathologist annotation of histological regions. Extra image processing, such as with ImageJ and QuPath, are required for those geometries.\n",
    "\n",
    "## Vizgen MERFISH output\n",
    "The commercialized MERFISH from Vizgen has a standard output format, that can be read into SFE with `readVizgen()`. Because the cell segmentation from each field of view (FOV) has a separate HDF5 file and a MERFISH dataset can have hundreds of FOVs, we strongly recommend reading the MERFISH output on a server with a large number of CPU cores. Alternatively, some but not all MERFISH datasets store cell segmentation in a `parquet` file, which can be more easily read into R. Here we read a toy dataset which is the first FOV from a real dataset:"
   ]
  },
  {
   "cell_type": "code",
   "execution_count": null,
<<<<<<< HEAD
<<<<<<< HEAD
<<<<<<< HEAD
<<<<<<< HEAD
   "id": "75126858",
||||||| 11b9cb7
   "id": "28a20c7a",
=======
   "id": "2ca76e77",
>>>>>>> documentation-devel
||||||| 614e9b1
   "id": "2ca76e77",
=======
   "id": "47bf8def",
>>>>>>> documentation-devel
||||||| 856b4c0
<<<<<<< HEAD
   "id": "75126858",
||||||| 11b9cb7
   "id": "28a20c7a",
=======
   "id": "2ca76e77",
>>>>>>> documentation-devel
=======
   "id": "89907e1c",
>>>>>>> 552590ea8fad969b67afdba27558a1e6cb21016e
||||||| 452c944
   "id": "47bf8def",
=======
   "id": "a72b6e3a",
>>>>>>> documentation-devel
   "metadata": {},
   "outputs": [],
   "source": [
    "dir_use <- system.file(file.path(\"extdata\", \"vizgen\"), \n",
    "                       package = \"SpatialFeatureExperiment\")"
   ]
  },
  {
   "cell_type": "code",
   "execution_count": null,
<<<<<<< HEAD
<<<<<<< HEAD
<<<<<<< HEAD
<<<<<<< HEAD
   "id": "1b7eac90",
||||||| 11b9cb7
   "id": "523cc4ef",
=======
   "id": "021f70ea",
>>>>>>> documentation-devel
||||||| 614e9b1
   "id": "021f70ea",
=======
   "id": "3941460b",
>>>>>>> documentation-devel
||||||| 856b4c0
<<<<<<< HEAD
   "id": "1b7eac90",
||||||| 11b9cb7
   "id": "523cc4ef",
=======
   "id": "021f70ea",
>>>>>>> documentation-devel
=======
   "id": "6fc9e34b",
>>>>>>> 552590ea8fad969b67afdba27558a1e6cb21016e
||||||| 452c944
   "id": "3941460b",
=======
   "id": "99385ebd",
>>>>>>> documentation-devel
   "metadata": {},
   "outputs": [],
   "source": [
    "(sfe_mer <- readVizgen(dir_use, z = 0L, image = \"PolyT\"))"
   ]
  },
  {
   "cell_type": "markdown",
<<<<<<< HEAD
<<<<<<< HEAD
<<<<<<< HEAD
<<<<<<< HEAD
   "id": "c762d005",
||||||| 11b9cb7
   "id": "8e9e76ef",
=======
   "id": "2ca72d17",
>>>>>>> documentation-devel
||||||| 614e9b1
   "id": "2ca72d17",
=======
   "id": "5b40c71e",
>>>>>>> documentation-devel
||||||| 856b4c0
<<<<<<< HEAD
   "id": "c762d005",
||||||| 11b9cb7
   "id": "8e9e76ef",
=======
   "id": "2ca72d17",
>>>>>>> documentation-devel
=======
   "id": "2221b55d",
>>>>>>> 552590ea8fad969b67afdba27558a1e6cb21016e
||||||| 452c944
   "id": "5b40c71e",
=======
   "id": "59c2984d",
>>>>>>> documentation-devel
   "metadata": {
    "lines_to_next_cell": 0
   },
   "source": [
    "The unit is always in microns.\n",
    "\n",
    "# Create SFE object from scratch\n",
    "An SFE object can be constructed from scratch with the assay matrices and metadata. In this toy example, `dgCMatrix` is used, but since SFE inherits from SingleCellExperiment (SCE), other types of arrays supported by SCE such as delayed arrays should also work."
   ]
  },
  {
   "cell_type": "code",
   "execution_count": null,
<<<<<<< HEAD
<<<<<<< HEAD
<<<<<<< HEAD
<<<<<<< HEAD
   "id": "0e69d7c4",
||||||| 11b9cb7
   "id": "0ebe73a6",
=======
   "id": "94809141",
>>>>>>> documentation-devel
||||||| 614e9b1
   "id": "94809141",
=======
   "id": "6d9992cf",
>>>>>>> documentation-devel
||||||| 856b4c0
<<<<<<< HEAD
   "id": "0e69d7c4",
||||||| 11b9cb7
   "id": "0ebe73a6",
=======
   "id": "94809141",
>>>>>>> documentation-devel
=======
   "id": "afdf0410",
>>>>>>> 552590ea8fad969b67afdba27558a1e6cb21016e
||||||| 452c944
   "id": "6d9992cf",
=======
   "id": "6568275b",
>>>>>>> documentation-devel
   "metadata": {},
   "outputs": [],
   "source": [
    "# Visium barcode location from Space Ranger\n",
    "data(\"visium_row_col\")\n",
    "coords1 <- visium_row_col[visium_row_col$col < 6 & visium_row_col$row < 6,]\n",
    "coords1$row <- coords1$row * sqrt(3)\n",
    "\n",
    "# Random toy sparse matrix\n",
    "set.seed(29)\n",
    "col_inds <- sample(1:13, 13)\n",
    "row_inds <- sample(1:5, 13, replace = TRUE)\n",
    "values <- sample(1:5, 13, replace = TRUE)\n",
    "mat <- sparseMatrix(i = row_inds, j = col_inds, x = values)\n",
    "colnames(mat) <- coords1$barcode\n",
    "rownames(mat) <- sample(LETTERS, 5)"
   ]
  },
  {
   "cell_type": "markdown",
<<<<<<< HEAD
<<<<<<< HEAD
<<<<<<< HEAD
<<<<<<< HEAD
   "id": "c2918db2",
||||||| 11b9cb7
   "id": "24b42587",
=======
   "id": "df595333",
>>>>>>> documentation-devel
||||||| 614e9b1
   "id": "df595333",
=======
   "id": "dde639c8",
>>>>>>> documentation-devel
||||||| 856b4c0
<<<<<<< HEAD
   "id": "c2918db2",
||||||| 11b9cb7
   "id": "24b42587",
=======
   "id": "df595333",
>>>>>>> documentation-devel
=======
   "id": "4607389a",
>>>>>>> 552590ea8fad969b67afdba27558a1e6cb21016e
||||||| 452c944
   "id": "dde639c8",
=======
   "id": "4a962723",
>>>>>>> documentation-devel
   "metadata": {
    "lines_to_next_cell": 0
   },
   "source": [
    "This should be sufficient to create an SPE object, and an SFE object, even though no `sf` data frame was constructed for the geometries. The constructor behaves similarly to the SPE constructor. The centroid coordinates of the Visium spots in the example can be converted into spot polygons with the `spotDiameter` argument, which can also be relevant to other technologies with round spots or beads, such as Slide-seq. Spot diameter in pixels in full resolution images can be found in the `scalefactors_json.json` file in Space Ranger output."
   ]
  },
  {
   "cell_type": "code",
   "execution_count": null,
<<<<<<< HEAD
<<<<<<< HEAD
<<<<<<< HEAD
<<<<<<< HEAD
   "id": "23dcc320",
||||||| 11b9cb7
   "id": "0f262ce2",
=======
   "id": "07d34396",
>>>>>>> documentation-devel
||||||| 614e9b1
   "id": "07d34396",
=======
   "id": "4108a237",
>>>>>>> documentation-devel
||||||| 856b4c0
<<<<<<< HEAD
   "id": "23dcc320",
||||||| 11b9cb7
   "id": "0f262ce2",
=======
   "id": "07d34396",
>>>>>>> documentation-devel
=======
   "id": "e227e10a",
>>>>>>> 552590ea8fad969b67afdba27558a1e6cb21016e
||||||| 452c944
   "id": "4108a237",
=======
   "id": "51c94fb2",
>>>>>>> documentation-devel
   "metadata": {},
   "outputs": [],
   "source": [
    "sfe3 <- SpatialFeatureExperiment(list(counts = mat), colData = coords1,\n",
    "                                spatialCoordsNames = c(\"col\", \"row\"),\n",
    "                                spotDiameter = 0.7)"
   ]
  },
  {
   "cell_type": "markdown",
<<<<<<< HEAD
<<<<<<< HEAD
<<<<<<< HEAD
<<<<<<< HEAD
   "id": "2542d959",
||||||| 11b9cb7
   "id": "af4b4dc5",
=======
   "id": "3485d8fb",
>>>>>>> documentation-devel
||||||| 614e9b1
   "id": "3485d8fb",
=======
   "id": "3485b7c7",
>>>>>>> documentation-devel
||||||| 856b4c0
<<<<<<< HEAD
   "id": "2542d959",
||||||| 11b9cb7
   "id": "af4b4dc5",
=======
   "id": "3485d8fb",
>>>>>>> documentation-devel
=======
   "id": "42215006",
>>>>>>> 552590ea8fad969b67afdba27558a1e6cb21016e
||||||| 452c944
   "id": "3485b7c7",
=======
   "id": "d2ee4690",
>>>>>>> documentation-devel
   "metadata": {
    "lines_to_next_cell": 0
   },
   "source": [
    "More geometries and spatial graphs can be added after calling the constructor.\n",
    "\n",
    "Geometries can also be supplied in the constructor. "
   ]
  },
  {
   "cell_type": "code",
   "execution_count": null,
<<<<<<< HEAD
<<<<<<< HEAD
<<<<<<< HEAD
<<<<<<< HEAD
   "id": "037c65a1",
||||||| 11b9cb7
   "id": "5dc7ac32",
=======
   "id": "2d57b74c",
>>>>>>> documentation-devel
||||||| 614e9b1
   "id": "2d57b74c",
=======
   "id": "ab5acf31",
>>>>>>> documentation-devel
||||||| 856b4c0
<<<<<<< HEAD
   "id": "037c65a1",
||||||| 11b9cb7
   "id": "5dc7ac32",
=======
   "id": "2d57b74c",
>>>>>>> documentation-devel
=======
   "id": "d832a6b1",
>>>>>>> 552590ea8fad969b67afdba27558a1e6cb21016e
||||||| 452c944
   "id": "ab5acf31",
=======
   "id": "701d3e97",
>>>>>>> documentation-devel
   "metadata": {},
   "outputs": [],
   "source": [
    "# Convert regular data frame with coordinates to sf data frame\n",
    "cg <- df2sf(coords1[,c(\"col\", \"row\")], c(\"col\", \"row\"), spotDiameter = 0.7)\n",
    "rownames(cg) <- colnames(mat)\n",
    "sfe3 <- SpatialFeatureExperiment(list(counts = mat), colGeometries = list(foo = cg))"
   ]
  },
  {
   "cell_type": "markdown",
<<<<<<< HEAD
<<<<<<< HEAD
<<<<<<< HEAD
<<<<<<< HEAD
   "id": "0b5c5a8d",
||||||| 11b9cb7
   "id": "6fc8a99f",
=======
   "id": "1129ea50",
>>>>>>> documentation-devel
||||||| 614e9b1
   "id": "1129ea50",
=======
   "id": "a4e3b65a",
>>>>>>> documentation-devel
||||||| 856b4c0
<<<<<<< HEAD
   "id": "0b5c5a8d",
||||||| 11b9cb7
   "id": "6fc8a99f",
=======
   "id": "1129ea50",
>>>>>>> documentation-devel
=======
   "id": "723424cd",
>>>>>>> 552590ea8fad969b67afdba27558a1e6cb21016e
||||||| 452c944
   "id": "a4e3b65a",
=======
   "id": "9b8c7d77",
>>>>>>> documentation-devel
   "metadata": {
    "lines_to_next_cell": 0
   },
   "source": [
    "## Technology specific notes\n",
    "Not all commercial technologies have a function to directly read the outputs. We may implement more such functions in the next version of `SpatialFeatureExperiment`. For now we show example code to read output from CosMX and Xenium.\n",
    "\n",
    "### Gene count matrix and cell metadata\n",
    "The gene count matrix and cell metadata (including cell centroid coordinates) from example datasets for technologies such as CosMX and Vizgen are CSV files. We recommend the [`vroom`](https://vroom.r-lib.org/) package to quickly read in large CSV files. The CSV files are read in as data frames. For the gene count matrix, this can be converted to a matrix and then a sparse `dgCMatrix`. The matrix may need to be transposed so the genes are in rows and cells are in columns. While smFISH based data tend to be less sparse than scRNA-seq data, using sparse matrix is worthwhile since the matrix is still about 50% zero.\n",
    "\n",
    "For 10x Genomics' new single cell resolution technology Xenium, the gene count matrix is an `h5` file, which can be read into R as an SCE object with `DropletUtils::read10xCounts()`. This can then be converted to `SpatialExperiment`, and then `SpatialFeatureExperiment`. The gene count matrix is a `DelayedArray`, so the data is not all loaded into memory and operations on this matrix are performed in chunks. The `DelayedArray` has been converted into a `dgCMatrix` in memory. While the cell metadata is available in the CSV format, there's also the `parquet` format which is more compact on disk, which can be read into R as a data frame with `arrow::read_parquet()`. Example code:"
   ]
  },
  {
   "cell_type": "code",
   "execution_count": null,
<<<<<<< HEAD
<<<<<<< HEAD
<<<<<<< HEAD
<<<<<<< HEAD
   "id": "8556b58b",
||||||| 11b9cb7
   "id": "d553ff57",
=======
   "id": "4469090a",
>>>>>>> documentation-devel
||||||| 614e9b1
   "id": "4469090a",
=======
   "id": "35789db6",
>>>>>>> documentation-devel
||||||| 856b4c0
<<<<<<< HEAD
   "id": "8556b58b",
||||||| 11b9cb7
   "id": "d553ff57",
=======
   "id": "4469090a",
>>>>>>> documentation-devel
=======
   "id": "fea8f70a",
>>>>>>> 552590ea8fad969b67afdba27558a1e6cb21016e
||||||| 452c944
   "id": "35789db6",
=======
   "id": "14bd45ad",
>>>>>>> documentation-devel
   "metadata": {
    "eval": false
   },
   "outputs": [],
   "source": [
    "# Download data from https://www.10xgenomics.com/products/xenium-in-situ/preview-dataset-human-breast\n",
    "\n",
    "system(\"curl -O https://cf.10xgenomics.com/samples/xenium/1.0.1/Xenium_FFPE_Human_Breast_Cancer_Rep1/Xenium_FFPE_Human_Breast_Cancer_Rep1_outs.zip\")\n",
    "system(\"unzip Xenium_FFPE_Human_Breast_Cancer_Rep1_outs.zip\")\n",
    "system(\"mv outs outs_R1\")\n",
    "\n",
    "system(\"curl -O https://cf.10xgenomics.com/samples/xenium/1.0.1/Xenium_FFPE_Human_Breast_Cancer_Rep2/Xenium_FFPE_Human_Breast_Cancer_Rep2_outs.zip\")\n",
    "system(\"unzip Xenium_FFPE_Human_Breast_Cancer_Rep2_outs.zip\")\n",
    "system(\"mv outs outs_R2\")"
   ]
  },
  {
   "cell_type": "code",
   "execution_count": null,
<<<<<<< HEAD
<<<<<<< HEAD
<<<<<<< HEAD
<<<<<<< HEAD
   "id": "2496d3f3",
||||||| 11b9cb7
   "id": "de5f846f",
=======
   "id": "ed75b52a",
>>>>>>> documentation-devel
||||||| 614e9b1
   "id": "ed75b52a",
=======
   "id": "70137286",
>>>>>>> documentation-devel
||||||| 856b4c0
<<<<<<< HEAD
   "id": "2496d3f3",
||||||| 11b9cb7
   "id": "de5f846f",
=======
   "id": "ed75b52a",
>>>>>>> documentation-devel
=======
   "id": "aa0fd5a6",
>>>>>>> 552590ea8fad969b67afdba27558a1e6cb21016e
||||||| 452c944
   "id": "70137286",
=======
   "id": "10750375",
>>>>>>> documentation-devel
   "metadata": {
    "eval": false
   },
   "outputs": [],
   "source": [
    "library(SpatialExperiment)\n",
    "library(DropletUtils)\n",
    "library(arrow)\n",
    "sce <- read10xCounts(\"outs_R1/cell_feature_matrix.h5\")\n",
    "cell_info <- read_parquet(\"outs_R1/cells.parquet\")\n",
    "# Add the centroid coordinates to colData\n",
    "colData(sce) <- cbind(colData(sce), cell_info[,-1])\n",
    "spe <- toSpatialExperiment(sce, spatialCoordsNames = c(\"x_centroid\", \"y_centroid\"))\n",
    "sfe <- toSpatialFeatureExperiment(spe)"
   ]
  },
  {
   "cell_type": "markdown",
<<<<<<< HEAD
<<<<<<< HEAD
<<<<<<< HEAD
<<<<<<< HEAD
   "id": "8bcdb1c5",
||||||| 11b9cb7
   "id": "74d5a4e1",
=======
   "id": "bf31b82d",
>>>>>>> documentation-devel
||||||| 614e9b1
   "id": "bf31b82d",
=======
   "id": "2e99da32",
>>>>>>> documentation-devel
||||||| 856b4c0
<<<<<<< HEAD
   "id": "8bcdb1c5",
||||||| 11b9cb7
   "id": "74d5a4e1",
=======
   "id": "bf31b82d",
>>>>>>> documentation-devel
=======
   "id": "23a80192",
>>>>>>> 552590ea8fad969b67afdba27558a1e6cb21016e
||||||| 452c944
   "id": "2e99da32",
=======
   "id": "a0e5913e",
>>>>>>> documentation-devel
   "metadata": {},
   "source": [
    "### Cell polygons\n",
    "File format of cell polygons (if available) is in different formats in different technology. The cell polygons should be [`sf`](https://r-spatial.github.io/sf/) data frames to put into `colGeometries()` of the SFE object. This section explains how to do that for a number of smFISH-based technologies.\n",
    "\n",
    "In Xenium, the cell polygons come in CSV or parquet files that can be directly read into R as a data frame, with 2 columns for x and y coordinates, and one indicating which cell the coordinates belong to. Change the name of the cell ID column into \"ID\", and use `SpatialFeatureExperiment::df2sf()` to convert the data frame into an `sf` data frame with `POLYGON` geometry. Example code:"
   ]
  },
  {
   "cell_type": "code",
   "execution_count": null,
<<<<<<< HEAD
<<<<<<< HEAD
<<<<<<< HEAD
<<<<<<< HEAD
   "id": "11727a95",
||||||| 11b9cb7
   "id": "c75c6858",
=======
   "id": "f25532a5",
>>>>>>> documentation-devel
||||||| 614e9b1
   "id": "f25532a5",
=======
   "id": "eef18833",
>>>>>>> documentation-devel
||||||| 856b4c0
<<<<<<< HEAD
   "id": "11727a95",
||||||| 11b9cb7
   "id": "c75c6858",
=======
   "id": "f25532a5",
>>>>>>> documentation-devel
=======
   "id": "34c99f9b",
>>>>>>> 552590ea8fad969b67afdba27558a1e6cb21016e
||||||| 452c944
   "id": "eef18833",
=======
   "id": "b32d920a",
>>>>>>> documentation-devel
   "metadata": {
    "eval": false
   },
   "outputs": [],
   "source": [
    "library(arrow)\n",
    "cell_poly <- read_parquet(\"outs_R2/cell_boundaries.parquet\")\n",
    "# Here the first column is cell ID\n",
    "names(cell_poly)[1] <- \"ID\"\n",
    "# \"vertex_x\" and \"vertex_y\" are the column names for coordinates here\n",
    "cell_sf <- df2sf(cell_poly, c(\"vertex_x\", \"vertex_y\"), geometryType = \"POLYGON\")"
   ]
  },
  {
   "cell_type": "markdown",
<<<<<<< HEAD
<<<<<<< HEAD
<<<<<<< HEAD
<<<<<<< HEAD
   "id": "05ebdd3b",
||||||| 11b9cb7
   "id": "5f0ab61d",
=======
   "id": "99cd5118",
>>>>>>> documentation-devel
||||||| 614e9b1
   "id": "99cd5118",
=======
   "id": "2e476bda",
>>>>>>> documentation-devel
||||||| 856b4c0
<<<<<<< HEAD
   "id": "05ebdd3b",
||||||| 11b9cb7
   "id": "5f0ab61d",
=======
   "id": "99cd5118",
>>>>>>> documentation-devel
=======
   "id": "33959a04",
>>>>>>> 552590ea8fad969b67afdba27558a1e6cb21016e
||||||| 452c944
   "id": "2e476bda",
=======
   "id": "eda7ddc3",
>>>>>>> documentation-devel
   "metadata": {
    "lines_to_next_cell": 0
   },
   "source": [
    "In CoxMX, cell polygons are in CSV files. Besides the two coordinates columns, there's a column for field of view (FOV) and another for cell ID. However, unlike in Xenium, the cell IDs are only unique in each FOV, so they should be concatenated to FOV to make them unique. Then `df2sf()` can also be used to convert the regular data frame into `sf`. Example code:"
   ]
  },
  {
   "cell_type": "code",
   "execution_count": null,
<<<<<<< HEAD
<<<<<<< HEAD
<<<<<<< HEAD
<<<<<<< HEAD
   "id": "13226407",
||||||| 11b9cb7
   "id": "038d450b",
=======
   "id": "6db5f729",
>>>>>>> documentation-devel
||||||| 614e9b1
   "id": "6db5f729",
=======
   "id": "6a70b06c",
>>>>>>> documentation-devel
||||||| 856b4c0
<<<<<<< HEAD
   "id": "13226407",
||||||| 11b9cb7
   "id": "038d450b",
=======
   "id": "6db5f729",
>>>>>>> documentation-devel
=======
   "id": "b01c8ae8",
>>>>>>> 552590ea8fad969b67afdba27558a1e6cb21016e
||||||| 452c944
   "id": "6a70b06c",
=======
   "id": "015a4f0d",
>>>>>>> documentation-devel
   "metadata": {
    "eval": false
   },
   "outputs": [],
   "source": [
    "# Download data from https://nanostring.com/products/cosmx-spatial-molecular-imager/ffpe-dataset/\n",
    "# stored here: https://www.dropbox.com/s/hl3peavrx92bluy/Lung5_Rep1-polygons.csv?dl=0\n",
    "\n",
    "system(\"wget https://www.dropbox.com/s/hl3peavrx92bluy/Lung5_Rep1-polygons.csv?dl=1\")\n",
    "system(\"mv Lung5_Rep1-polygons.csv?dl=1 Lung5_Rep1-polygons.csv\")"
   ]
  },
  {
   "cell_type": "code",
   "execution_count": null,
<<<<<<< HEAD
<<<<<<< HEAD
<<<<<<< HEAD
<<<<<<< HEAD
   "id": "02f5fd60",
||||||| 11b9cb7
   "id": "064b3ff1",
=======
   "id": "0dd4f07f",
>>>>>>> documentation-devel
||||||| 614e9b1
   "id": "0dd4f07f",
=======
   "id": "64907859",
>>>>>>> documentation-devel
||||||| 856b4c0
<<<<<<< HEAD
   "id": "02f5fd60",
||||||| 11b9cb7
   "id": "064b3ff1",
=======
   "id": "0dd4f07f",
>>>>>>> documentation-devel
=======
   "id": "28724ee7",
>>>>>>> 552590ea8fad969b67afdba27558a1e6cb21016e
||||||| 452c944
   "id": "64907859",
=======
   "id": "6f47ed48",
>>>>>>> documentation-devel
   "metadata": {
    "eval": false
   },
   "outputs": [],
   "source": [
    "library(vroom)\n",
    "library(tidyr)\n",
    "cell_poly <- vroom(\"Lung5_Rep1-polygons.csv\")\n",
    "cell_poly <- cell_poly |> \n",
    "    unite(\"ID\", fov:cellID)\n",
    "cell_sf <- df2sf(cell_poly, spatialCoordsNames = c(\"x_global_px\", \"y_global_px\"),\n",
    "                 geometryType = \"POLYGON\")"
   ]
  },
  {
   "cell_type": "markdown",
<<<<<<< HEAD
<<<<<<< HEAD
<<<<<<< HEAD
<<<<<<< HEAD
   "id": "f223fe61",
||||||| 11b9cb7
   "id": "47c7a041",
=======
   "id": "1cde38a1",
>>>>>>> documentation-devel
||||||| 614e9b1
   "id": "1cde38a1",
=======
   "id": "fc01e4d4",
>>>>>>> documentation-devel
||||||| 856b4c0
<<<<<<< HEAD
   "id": "f223fe61",
||||||| 11b9cb7
   "id": "47c7a041",
=======
   "id": "1cde38a1",
>>>>>>> documentation-devel
=======
   "id": "19109d2e",
>>>>>>> 552590ea8fad969b67afdba27558a1e6cb21016e
||||||| 452c944
   "id": "fc01e4d4",
=======
   "id": "5b8f1541",
>>>>>>> documentation-devel
   "metadata": {
    "lines_to_next_cell": 0
   },
   "source": [
    "See [the code used to construct the example datasets in `SFEData`](https://github.com/pachterlab/SFEData/blob/main/inst/scripts/make-data.R) for more examples. \n",
    "\n",
    "Use `sf::st_is_valid()` to check if the polygons are valid. Polygons with self-intersection are not valid, and will throw an error in geometric operations. A common reason why polygons are invalid is a protruding line, which can be eliminated with `sf::st_buffer(cell_sf, dist = 0)`. Use `sf::st_is_valid(cell_sf, reason = TRUE)`, and plot the invalid polygons, to find why some polygons are not valid. \n",
    "\n",
    "# Session info"
   ]
  },
  {
   "cell_type": "code",
   "execution_count": null,
<<<<<<< HEAD
<<<<<<< HEAD
<<<<<<< HEAD
<<<<<<< HEAD
   "id": "bb0a92ef",
||||||| 11b9cb7
   "id": "d460ebf6",
=======
   "id": "60b8aa26",
>>>>>>> documentation-devel
||||||| 614e9b1
   "id": "60b8aa26",
=======
   "id": "df3cebf4",
>>>>>>> documentation-devel
||||||| 856b4c0
<<<<<<< HEAD
   "id": "bb0a92ef",
||||||| 11b9cb7
   "id": "d460ebf6",
=======
   "id": "60b8aa26",
>>>>>>> documentation-devel
=======
   "id": "3580e689",
>>>>>>> 552590ea8fad969b67afdba27558a1e6cb21016e
||||||| 452c944
   "id": "df3cebf4",
=======
   "id": "75ae6679",
>>>>>>> documentation-devel
   "metadata": {},
   "outputs": [],
   "source": [
    "sessionInfo()"
   ]
  }
 ],
 "metadata": {
  "kernelspec": {
   "display_name": "R",
   "language": "R",
   "name": "ir"
  }
 },
 "nbformat": 4,
 "nbformat_minor": 5
}
