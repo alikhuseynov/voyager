{
 "cells": [
  {
   "cell_type": "raw",
   "id": "8f80e2a4",
   "metadata": {},
   "source": [
    "---\n",
    "title: \"Create a SpatialFeatureExperiment object\"\n",
    "author: \"Lambda Moses\"\n",
    "date: \"`r Sys.Date()`\"\n",
    "output: \n",
    "  html_document:\n",
    "  toc: true\n",
    "  toc_float:\n",
    "    collapsed: false\n",
    "  toc_depth: 3\n",
    "vignette: >\n",
    "  %\\VignetteIndexEntry{create_sfe}\n",
    "  %\\VignetteEngine{knitr::rmarkdown}\n",
    "  %\\VignetteEncoding{UTF-8}\n",
    "---"
   ]
  },
  {
   "cell_type": "code",
   "execution_count": null,
   "id": "19b88f21",
   "metadata": {
    "tags": [
     "remove_cell"
    ]
   },
   "outputs": [],
   "source": [
    "knitr::opts_chunk$set(\n",
    "  collapse = TRUE,\n",
    "  comment = \"#>\"\n",
    ")"
   ]
  },
  {
   "cell_type": "code",
   "execution_count": null,
   "id": "7c13c542",
   "metadata": {
    "eval": false,
    "tags": [
     "remove_cell"
    ]
   },
   "outputs": [],
   "source": [
    "# Install Google Colab dependencies\n",
    "# Note: this can take 30+ minutes (many of the dependencies include C++ code, which needs to be compiled)\n",
    "\n",
    "# First install `sf`, `ragg` and `textshaping` and their system dependencies:\n",
    "system(\"apt-get -y update && apt-get install -y  libudunits2-dev libgdal-dev libgeos-dev libproj-dev libharfbuzz-dev libfribidi-dev\")\n",
    "install.packages(\"sf\")\n",
    "install.packages(\"textshaping\")\n",
    "install.packages(\"ragg\")\n",
    "\n",
    "# Install system dependencies of some other R packages that Voyager either imports or suggests:\n",
    "system(\"apt-get install -y libfribidi-dev libcairo2-dev libmagick++-dev\")\n",
    "\n",
    "# Install Voyager from Bioconductor:\n",
    "install.packages(\"BiocManager\")\n",
    "BiocManager::install(version = \"3.16\", ask = FALSE, update = FALSE, Ncpus = 2)\n",
    "BiocManager::install(\"scater\")\n",
    "system.time(\n",
    "  BiocManager::install(\"Voyager\", dependencies = TRUE, Ncpus = 2, update = FALSE)\n",
    ")\n",
    "\n",
    "# Additional dependencies for this notebook\n",
    "install.packages(\"arrow\")\n",
    "\n",
    "packageVersion(\"Voyager\")"
   ]
  },
  {
   "cell_type": "code",
   "execution_count": null,
   "id": "51b525e3",
   "metadata": {
    "name": "setup"
   },
   "outputs": [],
   "source": [
    "library(Voyager)\n",
    "library(SpatialFeatureExperiment)\n",
    "library(rjson)\n",
    "library(Matrix)"
   ]
  },
  {
   "cell_type": "markdown",
   "id": "659a695e",
   "metadata": {},
   "source": [
    "# Visium Space Ranger output\n",
    "\n",
    "10x Genomics Space Ranger output from a Visium experiment can be read in a similar manner as in `SpatialExperiment`; the `SpatialFeatureExperiment` SFE object has the `spotPoly` column geometry for the spot polygons. If the filtered matrix (i.e. only spots in the tissue) is read in, then a column graph called `visium` will also be present for the spatial neighborhood graph of the Visium spots on the tissue. The graph is not computed if all spots are read in regardless of whether they are on tissue."
   ]
  },
  {
   "cell_type": "code",
   "execution_count": null,
   "id": "a8431835",
   "metadata": {},
   "outputs": [],
   "source": [
    "# Example from SpatialExperiment\n",
    "dir <- system.file(\n",
    "  file.path(\"extdata\", \"10xVisium\"), \n",
    "  package = \"SpatialExperiment\")\n",
    "  \n",
    "sample_ids <- c(\"section1\", \"section2\")\n",
    "(samples <- file.path(dir, sample_ids, \"outs\"))"
   ]
  },
  {
   "cell_type": "markdown",
   "id": "5aa3390a",
   "metadata": {},
   "source": [
    "The results for each tissue capture should be in the `outs` directory. Inside the `outs` directory there are two directories: `raw_reature_bc_matrix` has the unfiltered gene count matrix, and `spatial` has the spatial information. "
   ]
  },
  {
   "cell_type": "code",
   "execution_count": null,
   "id": "d2face14",
   "metadata": {},
   "outputs": [],
   "source": [
    "list.files(samples[1])"
   ]
  },
  {
   "cell_type": "markdown",
   "id": "2d09eb20",
   "metadata": {},
   "source": [
    "The [`DropletUtils`](https://bioconductor.org/packages/release/bioc/html/DropletUtils.html) package has a function `read10xCounts()` which reads the gene count matrix. SPE reads in the spatial information, and SFE uses the spatial information to construct Visium spot polygons and spatial neighborhood graphs. Inside the `spatial` directory:"
   ]
  },
  {
   "cell_type": "code",
   "execution_count": null,
   "id": "655855ed",
   "metadata": {},
   "outputs": [],
   "source": [
    "list.files(file.path(samples[1], \"spatial\"))"
   ]
  },
  {
   "cell_type": "markdown",
   "id": "424ac8a8",
   "metadata": {},
   "source": [
    "`tissue_lowres_image.png` is a low resolution image of the tissue.\n",
    "\n",
    "Inside the `scalefactors_json.json` file:"
   ]
  },
  {
   "cell_type": "code",
   "execution_count": null,
   "id": "58e8e5bd",
   "metadata": {},
   "outputs": [],
   "source": [
    "fromJSON(file = file.path(samples[1], \"spatial\", \"scalefactors_json.json\"))"
   ]
  },
  {
   "cell_type": "markdown",
   "id": "0b2039dc",
   "metadata": {},
   "source": [
    "`spot_diameter_fullres` is the diameter of each Visium spot in the full resolution H&E image in pixels. `tissue_hires_scalef` and `tissue_lowres_scalef` are the ratio of the size of the high resolution (but not full resolution) and low resolution H&E image to the full resolution image. `fiducial_diameter_fullres` is the diameter of each fiducial spot used to align the spots to the H&E image in pixels in the full resolution image.\n",
    "\n",
    "The `tissue_positions_list.csv` file contains information for the spatial coordinates of the spots and whether each spot is in tissue as automatically detected by Space Ranger or manually annotated in the Loupe browser. If the polygon of the tissue boundary is available, whether from image processing or manual annotation, geometric operations as supported by the SFE package, which is based on the `sf` package, can be used to find which spots intersect with the tissue and which spots are contained in the tissue. Geometric operations can also find the polygons of the intersections between spots and the tissue, but the results can get messy since the intersections can have not only polygons but also points and lines. \n",
    "\n",
    "Now we read in the toy data that is in the Space Ranger output format. The `load` argument indicates whether the images should be loaded into memory. The SFE package does not work with the image at present, so `load = FALSE`."
   ]
  },
  {
   "cell_type": "code",
   "execution_count": null,
   "id": "74d1ff3b",
   "metadata": {},
   "outputs": [],
   "source": [
    "(sfe3 <- read10xVisiumSFE(samples, sample_ids, type = \"sparse\", data = \"raw\",\n",
    "                         load = FALSE))"
   ]
  },
  {
   "cell_type": "markdown",
   "id": "67e54d95",
   "metadata": {
    "lines_to_next_cell": 0
   },
   "source": [
    "Space Ranger output includes the gene count matrix, spot coordinates, and spot diameter. The Space Ranger output does NOT include nuclei segmentation or pathologist annotation of histological regions. Extra image processing, such as with ImageJ and QuPath, are required for those geometries.\n",
    "\n",
    "# Create SFE object from scratch\n",
    "An SFE object can be constructed from scratch with the assay matrices and metadata. In this toy example, `dgCMatrix` is used, but since SFE inherits from SingleCellExperiment (SCE), other types of arrays supported by SCE such as delayed arrays should also work."
   ]
  },
  {
   "cell_type": "code",
   "execution_count": null,
   "id": "81c48d61",
   "metadata": {},
   "outputs": [],
   "source": [
    "# Visium barcode location from Space Ranger\n",
    "data(\"visium_row_col\")\n",
    "coords1 <- visium_row_col[visium_row_col$col < 6 & visium_row_col$row < 6,]\n",
    "coords1$row <- coords1$row * sqrt(3)\n",
    "\n",
    "# Random toy sparse matrix\n",
    "set.seed(29)\n",
    "col_inds <- sample(1:13, 13)\n",
    "row_inds <- sample(1:5, 13, replace = TRUE)\n",
    "values <- sample(1:5, 13, replace = TRUE)\n",
    "mat <- sparseMatrix(i = row_inds, j = col_inds, x = values)\n",
    "colnames(mat) <- coords1$barcode\n",
    "rownames(mat) <- sample(LETTERS, 5)"
   ]
  },
  {
   "cell_type": "markdown",
   "id": "6d450ce6",
   "metadata": {
    "lines_to_next_cell": 0
   },
   "source": [
    "This should be sufficient to create an SPE object, and an SFE object, even though no `sf` data frame was constructed for the geometries. The constructor behaves similarly to the SPE constructor. The centroid coordinates of the Visium spots in the example can be converted into spot polygons with the `spotDiameter` argument, which can also be relevant to other technologies with round spots or beads, such as Slide-seq. Spot diameter in pixels in full resolution images can be found in the `scalefactors_json.json` file in Space Ranger output."
   ]
  },
  {
   "cell_type": "code",
   "execution_count": null,
   "id": "99cb73e3",
   "metadata": {},
   "outputs": [],
   "source": [
    "sfe3 <- SpatialFeatureExperiment(list(counts = mat), colData = coords1,\n",
    "                                spatialCoordsNames = c(\"col\", \"row\"),\n",
    "                                spotDiameter = 0.7)"
   ]
  },
  {
   "cell_type": "markdown",
   "id": "b6d25e68",
   "metadata": {
    "lines_to_next_cell": 0
   },
   "source": [
    "More geometries and spatial graphs can be added after calling the constructor.\n",
    "\n",
    "Geometries can also be supplied in the constructor. "
   ]
  },
  {
   "cell_type": "code",
   "execution_count": null,
   "id": "da76e26a",
   "metadata": {},
   "outputs": [],
   "source": [
    "# Convert regular data frame with coordinates to sf data frame\n",
    "cg <- df2sf(coords1[,c(\"col\", \"row\")], c(\"col\", \"row\"), spotDiameter = 0.7)\n",
    "rownames(cg) <- colnames(mat)\n",
    "sfe3 <- SpatialFeatureExperiment(list(counts = mat), colGeometries = list(foo = cg))"
   ]
  },
  {
   "cell_type": "markdown",
   "id": "edd3edd5",
   "metadata": {
    "lines_to_next_cell": 0
   },
   "source": [
    "## Technology specific notes\n",
    "### Gene count matrix and cell metadata\n",
    "The gene count matrix and cell metadata (including cell centroid coordinates) from example datasets for technologies such as CosMX and Vizgen are CSV files. We recommend the [`vroom`](https://vroom.r-lib.org/) package to quickly read in large CSV files. The CSV files are read in as data frames. For the gene count matrix, this can be converted to a matrix and then a sparse `dgCMatrix`. The matrix may need to be transposed so the genes are in rows and cells are in columns. While smFISH based data tend to be less sparse than scRNA-seq data, using sparse matrix is worthwhile since the matrix is still about 50% zero.\n",
    "\n",
    "For Vizgen MERFISH, the first column is cell ID but doesn't have have a column name. The cell IDs are numbers over 30 digits long. If it's read as numbers, its values will change as R doesn't support long integers, so it should instead be read as character. An example to do so: `mat <- vroom(\"Liver1Slice1_cell_by_gene.csv\", col_types = cols(...1 = \"c\"))`, as `...1` is the name `vroom` gives to the first column that doesn't have a column name, and \"c\" specifies type character.\n",
    "\n",
    "**Note that Xenium is in Beta and this might soon change**\n",
    "\n",
    "For 10x Genomics' new single cell resolution technology Xenium, the gene count matrix is an `h5` file, which can be read into R as an SCE object with `DropletUtils::read10xCounts()`. This can then be converted to `SpatialExperiment`, and then `SpatialFeatureExperiment`. The gene count matrix is a `DelayedArray`, so the data is not all loaded into memory and operations on this matrix are performed in chunks. The `DelayedArray` has been converted into a `dgCMatrix` in memory. While the cell metadata is available in the CSV format, there's also the `parquet` format which is more compact on disk, which can be read into R as a data frame with `arrow::read_parquet()`. Example code:"
   ]
  },
  {
   "cell_type": "code",
   "execution_count": null,
   "id": "ca3dbbee",
   "metadata": {
    "eval": false
   },
   "outputs": [],
   "source": [
    "# Download data from https://www.10xgenomics.com/products/xenium-in-situ/preview-dataset-human-breast\n",
    "\n",
    "system(\"curl -O https://cf.10xgenomics.com/samples/xenium/1.0.1/Xenium_FFPE_Human_Breast_Cancer_Rep1/Xenium_FFPE_Human_Breast_Cancer_Rep1_outs.zip\")\n",
    "system(\"unzip Xenium_FFPE_Human_Breast_Cancer_Rep1_outs.zip\")\n",
    "system(\"mv outs outs_R1\")\n",
    "\n",
    "system(\"curl -O https://cf.10xgenomics.com/samples/xenium/1.0.1/Xenium_FFPE_Human_Breast_Cancer_Rep2/Xenium_FFPE_Human_Breast_Cancer_Rep2_outs.zip\")\n",
    "system(\"unzip Xenium_FFPE_Human_Breast_Cancer_Rep2_outs.zip\")\n",
    "system(\"mv outs outs_R2\")"
   ]
  },
  {
   "cell_type": "code",
   "execution_count": null,
   "id": "c83850b9",
   "metadata": {
    "eval": false
   },
   "outputs": [],
   "source": [
    "library(SpatialExperiment)\n",
    "library(DropletUtils)\n",
    "library(arrow)\n",
    "sce <- read10xCounts(\"outs_R1/cell_feature_matrix.h5\")\n",
    "cell_info <- read_parquet(\"outs_R1/cells.parquet\")\n",
    "# Add the centroid coordinates to colData\n",
    "colData(sce) <- cbind(colData(sce), cell_info[,-1])\n",
    "spe <- toSpatialExperiment(sce, spatialCoordsNames = c(\"x_centroid\", \"y_centroid\"))\n",
    "sfe <- toSpatialFeatureExperiment(spe)"
   ]
  },
  {
   "cell_type": "markdown",
   "id": "c6b453b0",
   "metadata": {},
   "source": [
    "### Cell polygons\n",
    "File format of cell polygons (if available) is in different formats in different technology. The cell polygons should be [`sf`](https://r-spatial.github.io/sf/) data frames to put into `colGeometries()` of the SFE object. This section explains how to do that for a number of smFISH-based technologies.\n",
    "\n",
    "**Note that Xenium is in Beta and this might soon change**\n",
    "\n",
    "In Xenium, the cell polygons come in CSV or parquet files that can be directly read into R as a data frame, with 2 columns for x and y coordinates, and one indicating which cell the coordinates belong to. Change the name of the cell ID column into \"ID\", and use `SpatialFeatureExperiment::df2sf()` to convert the data frame into an `sf` data frame with `POLYGON` geometry. Example code:"
   ]
  },
  {
   "cell_type": "code",
   "execution_count": null,
   "id": "5c45c37f",
   "metadata": {
    "eval": false
   },
   "outputs": [],
   "source": [
    "library(arrow)\n",
    "cell_poly <- read_parquet(\"outs_R2/cell_boundaries.parquet\")\n",
    "# Here the first column is cell ID\n",
    "names(cell_poly)[1] <- \"ID\"\n",
    "# \"vertex_x\" and \"vertex_y\" are the column names for coordinates here\n",
    "cell_sf <- df2sf(cell_poly, c(\"vertex_x\", \"vertex_y\"), geometryType = \"POLYGON\")"
   ]
  },
  {
   "cell_type": "markdown",
   "id": "5e81aab6",
   "metadata": {
    "lines_to_next_cell": 0
   },
   "source": [
    "In CoxMX, cell polygons are in CSV files. Besides the two coordinates columns, there's a column for field of view (FOV) and another for cell ID. However, unlike in Xenium, the cell IDs are only unique in each FOV, so they should be concatenated to FOV to make them unique. Then `df2sf()` can also be used to convert the regular data frame into `sf`. Example code:"
   ]
  },
  {
   "cell_type": "code",
   "execution_count": null,
   "id": "27616106",
   "metadata": {
    "eval": false
   },
   "outputs": [],
   "source": [
    "# Download data from https://nanostring.com/products/cosmx-spatial-molecular-imager/ffpe-dataset/\n",
    "# stored here: https://www.dropbox.com/s/hl3peavrx92bluy/Lung5_Rep1-polygons.csv?dl=0\n",
    "\n",
    "system(\"wget https://www.dropbox.com/s/hl3peavrx92bluy/Lung5_Rep1-polygons.csv?dl=1\")\n",
    "system(\"mv Lung5_Rep1-polygons.csv?dl=1 Lung5_Rep1-polygons.csv\")"
   ]
  },
  {
   "cell_type": "code",
   "execution_count": null,
   "id": "6ab0157e",
   "metadata": {
    "eval": false
   },
   "outputs": [],
   "source": [
    "library(vroom)\n",
    "library(tidyr)\n",
    "cell_poly <- vroom(\"Lung5_Rep1-polygons.csv\")\n",
    "cell_poly <- cell_poly |> \n",
    "    unite(\"ID\", fov:cellID)\n",
    "cell_sf <- df2sf(cell_poly, spatialCoordsNames = c(\"x_global_px\", \"y_global_px\"),\n",
    "                 geometryType = \"POLYGON\")"
   ]
  },
  {
   "cell_type": "markdown",
   "id": "fdba9c43",
   "metadata": {
    "lines_to_next_cell": 0
   },
   "source": [
    "In Vizgen MERFISH, cell polygons are in HDF5 files, with one HDF5 file per FOV. The HDF5 file seems to contain 7 z-planes, but at least for the mouse liver MERFISH dataset in `SFEData`, all 7 z-planes have the same polygons so in effect the cell segmentation is only available in one z-plane. Example code to convert this into `sf`:"
   ]
  },
  {
   "cell_type": "code",
   "execution_count": null,
   "id": "99b9fd66",
   "metadata": {
    "eval": false
   },
   "outputs": [],
   "source": [
    "# Example code only (data download not shown)\n",
    "# Example data may be found here: https://console.cloud.google.com/storage/browser/vz-liver-showcase/Liver1Slice1;tab=objects?pageState=(%22StorageObjectListTable%22:(%22f%22:%22%255B%255D%22))&prefix=&forceOnObjectsSortingFiltering=false&pli=1\n",
    "\n",
    "library(rhdf5)\n",
    "library(dplyr)\n",
    "library(BiocParallel)\n",
    "h52poly_fov <- function(fn, i) {\n",
    "    l <- rhdf5::h5dump(fn)[[1]]\n",
    "    cell_ids <- names(l)\n",
    "    geometries <- lapply(l, function(m)\n",
    "        sf::st_polygon(list(t(m[[\"zIndex_0\"]]$p_0$coordinates[,,1]))))\n",
    "    df <- data.frame(geometry = sf::st_sfc(geometries),\n",
    "                     ID = cell_ids,\n",
    "                     fov = i)\n",
    "    sf::st_sf(df)\n",
    "}\n",
    "# Those hdf5 files are in the directory cell_boundaries\n",
    "fns <- list.files(\"cell_boundaries\", \"*.hdf5\", full.names = TRUE)\n",
    "# Multicore as there are over 1000 FOVs in this dataset\n",
    "# I ran this on a server. \n",
    "# Use parallel::detectCores() to find how many CPU cores you have.\n",
    "cell_sfs <- bpmapply(h52poly_fov, fn = fns, i = seq_along(fns), SIMPLIFY = FALSE, \n",
    "                     BPPARAM = SnowParam(20, progressbar = TRUE))\n",
    "# dplyr::bind_rows is much faster than base R's rbind\n",
    "cell_sf <- do.call(bind_rows, cell_sfs)"
   ]
  },
  {
   "cell_type": "markdown",
   "id": "b176559d",
   "metadata": {
    "lines_to_next_cell": 0
   },
   "source": [
    "See [the code used to construct the example datasets in `SFEData`](https://github.com/pachterlab/SFEData/blob/main/inst/scripts/make-data.R) for more examples. \n",
    "\n",
    "Use `sf::st_is_valid()` to check if the polygons are valid. Polygons with self-intersection are not valid, and will throw an error in geometric operations. A common reason why polygons are invalid is a protruding line, which can be eliminated with `sf::st_buffer(cell_sf, dist = 0)`. Use `sf::st_is_valid(cell_sf, reason = TRUE)`, and plot the invalid polygons, to find why some polygons are not valid. \n",
    "\n",
    "# Session info"
   ]
  },
  {
   "cell_type": "code",
   "execution_count": null,
   "id": "a0176504",
   "metadata": {},
   "outputs": [],
   "source": [
    "sessionInfo()"
   ]
  }
 ],
 "metadata": {
  "kernelspec": {
   "display_name": "R",
   "language": "R",
   "name": "ir"
  }
 },
 "nbformat": 4,
 "nbformat_minor": 5
}
