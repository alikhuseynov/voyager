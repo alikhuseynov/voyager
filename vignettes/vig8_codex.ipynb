{
 "cells": [
  {
   "cell_type": "raw",
<<<<<<< HEAD
<<<<<<< HEAD
<<<<<<< HEAD
   "id": "f065ff8d",
||||||| b944554d
   "id": "f35a704e",
=======
   "id": "4433fb3e",
>>>>>>> documentation-devel
||||||| 35cb6e7a
   "id": "4433fb3e",
=======
   "id": "a9051bac",
>>>>>>> documentation-devel
||||||| 596bf878
<<<<<<< HEAD
   "id": "f065ff8d",
||||||| b944554d
   "id": "f35a704e",
=======
   "id": "4433fb3e",
>>>>>>> documentation-devel
=======
   "id": "baf6f4f5",
>>>>>>> f8a184fea58c53eb88debec89cb7180bf225886f
   "metadata": {},
   "source": [
    "---\n",
    "title: \"CODEX exploratory data analysis\"\n",
    "author: \"Kayla Jackson\"\n",
    "date: \"`r Sys.Date()`\"\n",
    "output: \n",
    "  html_document:\n",
    "  toc: true\n",
    "  toc_float:\n",
    "    collapsed: false\n",
    "  toc_depth: 3\n",
    "bibliography: ref.bib\n",
    "vignette: >\n",
    "  %\\VignetteIndexEntry{codex_basic}\n",
    "  %\\VignetteEngine{knitr::rmarkdown}\n",
    "  %\\VignetteEncoding{UTF-8}\n",
    "---"
   ]
  },
  {
   "cell_type": "code",
   "execution_count": null,
<<<<<<< HEAD
<<<<<<< HEAD
<<<<<<< HEAD
   "id": "56e711b6",
||||||| b944554d
   "id": "f37562c7",
=======
   "id": "d90f21d6",
>>>>>>> documentation-devel
||||||| 35cb6e7a
   "id": "d90f21d6",
=======
   "id": "f14b2e34",
>>>>>>> documentation-devel
||||||| 596bf878
<<<<<<< HEAD
   "id": "56e711b6",
||||||| b944554d
   "id": "f37562c7",
=======
   "id": "d90f21d6",
>>>>>>> documentation-devel
=======
   "id": "5dc37aaf",
>>>>>>> f8a184fea58c53eb88debec89cb7180bf225886f
   "metadata": {
    "tags": [
     "remove_cell"
    ]
   },
   "outputs": [],
   "source": [
    "knitr::opts_chunk$set(\n",
    "  collapse = TRUE,\n",
    "  comment = \"#>\", fig.align = \"center\",\n",
    "  eval=TRUE\n",
    ")"
   ]
  },
  {
   "cell_type": "code",
   "execution_count": null,
<<<<<<< HEAD
<<<<<<< HEAD
<<<<<<< HEAD
   "id": "0345370a",
||||||| b944554d
   "id": "7e101131",
=======
   "id": "983d02ef",
>>>>>>> documentation-devel
||||||| 35cb6e7a
   "id": "983d02ef",
=======
   "id": "1a095fd6",
>>>>>>> documentation-devel
||||||| 596bf878
<<<<<<< HEAD
   "id": "0345370a",
||||||| b944554d
   "id": "7e101131",
=======
   "id": "983d02ef",
>>>>>>> documentation-devel
=======
   "id": "65eabb4e",
>>>>>>> f8a184fea58c53eb88debec89cb7180bf225886f
   "metadata": {
    "eval": false,
    "tags": [
     "remove_cell"
    ]
   },
   "outputs": [],
   "source": [
    "# Install Google Colab dependencies\n",
    "# Note: this can take 30+ minutes (many of the dependencies include C++ code, which needs to be compiled)\n",
    "\n",
    "# First install `sf`, `ragg` and `textshaping` and their system dependencies:\n",
    "system(\"apt-get -y update && apt-get install -y  libudunits2-dev libgdal-dev libgeos-dev libproj-dev libharfbuzz-dev libfribidi-dev\")\n",
    "install.packages(\"sf\")\n",
    "install.packages(\"textshaping\")\n",
    "install.packages(\"ragg\")\n",
    "\n",
    "# Install system dependencies of some other R packages that Voyager either imports or suggests:\n",
    "system(\"apt-get install -y libfribidi-dev libcairo2-dev libmagick++-dev\")\n",
    "\n",
    "# Install Voyager from Bioconductor:\n",
    "install.packages(\"BiocManager\")\n",
    "BiocManager::install(version = \"3.17\", ask = FALSE, update = FALSE, Ncpus = 2)\n",
    "BiocManager::install(\"scater\")\n",
    "system.time(\n",
    "  BiocManager::install(\"Voyager\", dependencies = TRUE, Ncpus = 2, update = FALSE)\n",
    ")\n",
    "\n",
    "# Install additional dependencies for this vignette\n",
    "BiocManager::install(\"gghighlight\")\n",
    "BiocManager::install(\"batchelor\")\n",
    "BiocManager::install(\"spatialDE\")\n",
    "\n",
    "packageVersion(\"Voyager\")"
   ]
  },
  {
   "cell_type": "markdown",
<<<<<<< HEAD
<<<<<<< HEAD
<<<<<<< HEAD
   "id": "5e7cc199",
||||||| b944554d
   "id": "5bbbfe89",
=======
   "id": "a431d10c",
>>>>>>> documentation-devel
||||||| 35cb6e7a
   "id": "a431d10c",
=======
   "id": "40172fc8",
>>>>>>> documentation-devel
||||||| 596bf878
<<<<<<< HEAD
   "id": "5e7cc199",
||||||| b944554d
   "id": "5bbbfe89",
=======
   "id": "a431d10c",
>>>>>>> documentation-devel
=======
   "id": "51009341",
>>>>>>> f8a184fea58c53eb88debec89cb7180bf225886f
   "metadata": {},
   "source": [
    "# Introduction"
   ]
  },
  {
   "cell_type": "code",
   "execution_count": null,
<<<<<<< HEAD
<<<<<<< HEAD
<<<<<<< HEAD
   "id": "9ccc26ea",
||||||| b944554d
   "id": "07b904ef",
=======
   "id": "6f1627a0",
>>>>>>> documentation-devel
||||||| 35cb6e7a
   "id": "6f1627a0",
=======
   "id": "cac5beef",
>>>>>>> documentation-devel
||||||| 596bf878
<<<<<<< HEAD
   "id": "9ccc26ea",
||||||| b944554d
   "id": "07b904ef",
=======
   "id": "6f1627a0",
>>>>>>> documentation-devel
=======
   "id": "5bad8ad3",
>>>>>>> f8a184fea58c53eb88debec89cb7180bf225886f
   "metadata": {
    "lines_to_next_cell": 0,
    "message": false,
    "name": "setup"
   },
   "outputs": [],
   "source": [
    "library(Voyager)\n",
    "library(SingleCellExperiment)\n",
    "library(SpatialExperiment)\n",
    "library(SpatialFeatureExperiment)\n",
    "library(batchelor)\n",
    "library(scater)\n",
    "library(scran)\n",
    "library(bluster)\n",
    "library(glue)\n",
    "library(purrr)\n",
    "library(tidyr)\n",
    "library(dplyr)\n",
    "library(ggplot2)\n",
    "library(gghighlight)\n",
    "library(patchwork)\n",
    "library(spdep)\n",
    "library(spatialDE)\n",
    "library(BiocParallel)\n",
    "\n",
    "theme_set(theme_bw())"
   ]
  },
  {
   "cell_type": "markdown",
<<<<<<< HEAD
<<<<<<< HEAD
<<<<<<< HEAD
   "id": "802da034",
||||||| b944554d
   "id": "74a3f904",
=======
   "id": "f7dcbdf1",
>>>>>>> documentation-devel
||||||| 35cb6e7a
   "id": "f7dcbdf1",
=======
   "id": "477643cd",
>>>>>>> documentation-devel
||||||| 596bf878
<<<<<<< HEAD
   "id": "802da034",
||||||| b944554d
   "id": "74a3f904",
=======
   "id": "f7dcbdf1",
>>>>>>> documentation-devel
=======
   "id": "700be4c2",
>>>>>>> f8a184fea58c53eb88debec89cb7180bf225886f
   "metadata": {
    "lines_to_next_cell": 0
   },
   "source": [
    "# Dataset\n",
    "\n",
    "The dataset used in this vignette is from the paper [Strategies for Accurate Cell Type Identification in CODEX Multiplexed Imaging Data](doi.org/10.3389/fimmu.2021.727626)(Hickey, et.al 2021). The data were collected as part of the HuBMap consortium which seeks to characterize healthy human tissues and make data  broadly available. More specifically, this dataset characterizes 4 regions of the large intestine (colon) from a single donor. This vignette will focus on data from the sigmoid colon. \n",
    "\n",
    "The intestinal sections were interrogated using the multiplexed imaging method CO-Detection by indEXing (CODEX). CODEX involves cyclical staining of a tissue with DNA-barcoded antibodies. At each round of experimentation, fluoresently labeled probes hybridize to the tissue bound DNA-conjugated antibodies are subsequently imaged and the stripped from the tissue. At present, the technology quantifies up to 60 markers in a single experiment. Raw images generated from this process are subjected to image stitching, drift compensation, deconvolution, and cycle concatenation using publicly avaialable [software](https://github.com/nolanlab/CODEX). The result of this pre-processing is a matrix that contains the location of individual cells and the quantified markers for each cell. Cell types were assigned as described in the manuscript linked above. Briefly, the authors used a hand-gating strategy to define cell types and create a standard to compare the effect of normalization methods on clustering and cell annotation. \n",
    "\n",
    "The raw intensity data are available for download from HuBMAP with identifier [HBM575.THQMM.284](https://portal.hubmapconsortium.org/browse/dataset/e6fd525b837f4cf736c8af830f4f750f) and the cell type annotations are provided as supplementary data in the manuscript. The data relevant to this vignette have been converted to a `SFE` object and are available to download [here](https://caltech.box.com/public/static/zfr8l20450n2z28lnp0ugdj471ph9eyx) from Box.  \n",
    "\n",
    "These data will be submitted to the `SFEData` package on Bioconductor and will be available there in a future release. \n",
    "\n",
    "We will begin by downloading the data and loading it in to R. "
   ]
  },
  {
   "cell_type": "code",
   "execution_count": null,
<<<<<<< HEAD
<<<<<<< HEAD
<<<<<<< HEAD
   "id": "585285ca",
||||||| b944554d
   "id": "be8a0ac0",
=======
   "id": "30396a8d",
>>>>>>> documentation-devel
||||||| 35cb6e7a
   "id": "30396a8d",
=======
   "id": "e37a3bd9",
>>>>>>> documentation-devel
||||||| 596bf878
<<<<<<< HEAD
   "id": "585285ca",
||||||| b944554d
   "id": "be8a0ac0",
=======
   "id": "30396a8d",
>>>>>>> documentation-devel
=======
   "id": "ec8ff7f4",
>>>>>>> f8a184fea58c53eb88debec89cb7180bf225886f
   "metadata": {
    "lines_to_next_cell": 0
   },
   "outputs": [],
   "source": [
    "download.file(\"https://caltech.box.com/public/static/zfr8l20450n2z28lnp0ugdj471ph9eyx\",'./codex.Rds', mode='wb', method = 'wget', quiet = TRUE)\n",
    "\n",
    "sfe <- readRDS(\"./codex.Rds\")\n",
    "sfe"
   ]
  },
  {
   "cell_type": "markdown",
<<<<<<< HEAD
<<<<<<< HEAD
<<<<<<< HEAD
   "id": "88f0364b",
||||||| b944554d
   "id": "e72b3a16",
=======
   "id": "c0dee643",
>>>>>>> documentation-devel
||||||| 35cb6e7a
   "id": "c0dee643",
=======
   "id": "9f59f475",
>>>>>>> documentation-devel
||||||| 596bf878
<<<<<<< HEAD
   "id": "88f0364b",
||||||| b944554d
   "id": "e72b3a16",
=======
   "id": "c0dee643",
>>>>>>> documentation-devel
=======
   "id": "c1bc4b7c",
>>>>>>> f8a184fea58c53eb88debec89cb7180bf225886f
   "metadata": {
    "lines_to_next_cell": 0
   },
   "source": [
    "The rows in the count matrix correspond to the 47 barcoded genes measured by CODEX. Additionally, the authors provide some metadata for the cells, including the cell type. \n",
    "\n",
    "It turns out the column names are not unique which will cause errors in downstream analysis. We will update the column names below"
   ]
  },
  {
   "cell_type": "code",
   "execution_count": null,
<<<<<<< HEAD
<<<<<<< HEAD
<<<<<<< HEAD
   "id": "92a4b3b2",
||||||| b944554d
   "id": "942b5484",
=======
   "id": "26764d33",
>>>>>>> documentation-devel
||||||| 35cb6e7a
   "id": "26764d33",
=======
   "id": "43a05226",
>>>>>>> documentation-devel
||||||| 596bf878
<<<<<<< HEAD
   "id": "92a4b3b2",
||||||| b944554d
   "id": "942b5484",
=======
   "id": "26764d33",
>>>>>>> documentation-devel
=======
   "id": "5743e17d",
>>>>>>> f8a184fea58c53eb88debec89cb7180bf225886f
   "metadata": {
    "lines_to_next_cell": 0
   },
   "outputs": [],
   "source": [
    "cellids <- glue(\"{colData(sfe)$fn}_{colData(sfe)$cell_id}\")\n",
    "colnames(sfe) <- cellids"
   ]
  },
  {
   "cell_type": "markdown",
<<<<<<< HEAD
<<<<<<< HEAD
<<<<<<< HEAD
   "id": "004624ce",
||||||| b944554d
   "id": "fa603c9b",
=======
   "id": "ec11de00",
>>>>>>> documentation-devel
||||||| 35cb6e7a
   "id": "ec11de00",
=======
   "id": "6868f231",
>>>>>>> documentation-devel
||||||| 596bf878
<<<<<<< HEAD
   "id": "004624ce",
||||||| b944554d
   "id": "fa603c9b",
=======
   "id": "ec11de00",
>>>>>>> documentation-devel
=======
   "id": "fa1f9b6a",
>>>>>>> f8a184fea58c53eb88debec89cb7180bf225886f
   "metadata": {},
   "source": [
    "## Exploratory Data Analysis"
   ]
  },
  {
   "cell_type": "code",
   "execution_count": null,
<<<<<<< HEAD
<<<<<<< HEAD
<<<<<<< HEAD
   "id": "bc5893db",
||||||| b944554d
   "id": "b8fdd22c",
=======
   "id": "5e332403",
>>>>>>> documentation-devel
||||||| 35cb6e7a
   "id": "5e332403",
=======
   "id": "5f455a4e",
>>>>>>> documentation-devel
||||||| 596bf878
<<<<<<< HEAD
   "id": "bc5893db",
||||||| b944554d
   "id": "b8fdd22c",
=======
   "id": "5e332403",
>>>>>>> documentation-devel
=======
   "id": "55da4382",
>>>>>>> f8a184fea58c53eb88debec89cb7180bf225886f
   "metadata": {
    "lines_to_next_cell": 0
   },
   "outputs": [],
   "source": [
    "celldensity <- plotCellBin2D(sfe)\n",
    "\n",
    "celldensity"
   ]
  },
  {
   "cell_type": "markdown",
<<<<<<< HEAD
<<<<<<< HEAD
<<<<<<< HEAD
   "id": "99fb37e7",
||||||| b944554d
   "id": "d1441296",
=======
   "id": "6b7508fa",
>>>>>>> documentation-devel
||||||| 35cb6e7a
   "id": "6b7508fa",
=======
   "id": "54bc69a5",
>>>>>>> documentation-devel
||||||| 596bf878
<<<<<<< HEAD
   "id": "99fb37e7",
||||||| b944554d
   "id": "d1441296",
=======
   "id": "6b7508fa",
>>>>>>> documentation-devel
=======
   "id": "ec584324",
>>>>>>> f8a184fea58c53eb88debec89cb7180bf225886f
   "metadata": {
    "lines_to_next_cell": 0
   },
   "source": [
    "We can see from the figure above that the colonic epithelium is enriched with cells while the loose connective tissue and muscle layers beneath the epithelial layer are more sparsely populated. This is in line with known colon histology. The epithelium is enriched with goblet cells and has invaginations that project inwards towards the connective tissue. Smooth muscle cells are also prominent in the colon, where bands of muscle contract to move colonic contents towards the rectum.  \n",
    "\n",
    "We can visualize these cell types in space using the `plotSpatialFeature()` function. We will highlight Goblet and smooth muscle cells to display their relative distribution in the tissue. Since CODEX image processing relies on segmentation, each dot in the plot represents a single cell. Here, each cell is represented by its centroid, but can also be visualized as cell polygons in cases where the segmentation mask is available.  "
   ]
  },
  {
   "cell_type": "code",
   "execution_count": null,
<<<<<<< HEAD
<<<<<<< HEAD
<<<<<<< HEAD
   "id": "e75926e8",
||||||| b944554d
   "id": "28cf55a5",
=======
   "id": "7975fe6a",
>>>>>>> documentation-devel
||||||| 35cb6e7a
   "id": "7975fe6a",
=======
   "id": "62023af3",
>>>>>>> documentation-devel
||||||| 596bf878
<<<<<<< HEAD
   "id": "e75926e8",
||||||| b944554d
   "id": "28cf55a5",
=======
   "id": "7975fe6a",
>>>>>>> documentation-devel
=======
   "id": "19c7e309",
>>>>>>> f8a184fea58c53eb88debec89cb7180bf225886f
   "metadata": {
    "lines_to_next_cell": 0
   },
   "outputs": [],
   "source": [
    "spatial <- plotSpatialFeature(sfe, features='cell_type', colGeometryName = \"centroids\") +\n",
    "    gghighlight(cell_type %in% c(\"Goblet\", \"SmoothMuscleME\"))\n",
    "\n",
    "spatial"
   ]
  },
  {
   "cell_type": "markdown",
<<<<<<< HEAD
<<<<<<< HEAD
<<<<<<< HEAD
   "id": "a0e88222",
||||||| b944554d
   "id": "074cc05d",
=======
   "id": "8e08d444",
>>>>>>> documentation-devel
||||||| 35cb6e7a
   "id": "8e08d444",
=======
   "id": "3a39ee37",
>>>>>>> documentation-devel
||||||| 596bf878
<<<<<<< HEAD
   "id": "a0e88222",
||||||| b944554d
   "id": "074cc05d",
=======
   "id": "8e08d444",
>>>>>>> documentation-devel
=======
   "id": "71f90ff8",
>>>>>>> f8a184fea58c53eb88debec89cb7180bf225886f
   "metadata": {
    "lines_to_next_cell": 0
   },
   "source": [
    "The goblet cells clearly define the epithelial border of the tissue and the thick bands of smooth muscle cells are prominent below the mucosa. \n",
    "\n",
    "Next, we will compute some gene level metrics for each of the 47 barcoded genes. In contrast to RNA-based methods, the fields in the matrix represent intensities rather than counts.  "
   ]
  },
  {
   "cell_type": "code",
   "execution_count": null,
<<<<<<< HEAD
<<<<<<< HEAD
<<<<<<< HEAD
   "id": "d577f369",
||||||| b944554d
   "id": "316edf78",
=======
   "id": "231e5995",
>>>>>>> documentation-devel
||||||| 35cb6e7a
   "id": "231e5995",
=======
   "id": "e52e8247",
>>>>>>> documentation-devel
||||||| 596bf878
<<<<<<< HEAD
   "id": "d577f369",
||||||| b944554d
   "id": "316edf78",
=======
   "id": "231e5995",
>>>>>>> documentation-devel
=======
   "id": "458b57ea",
>>>>>>> f8a184fea58c53eb88debec89cb7180bf225886f
   "metadata": {
    "lines_to_next_cell": 0
   },
   "outputs": [],
   "source": [
    "rowData(sfe)$mean <- rowMeans(assay(sfe))\n",
    "rowData(sfe)$var <- rowVars(assay(sfe))\n",
    "\n",
    "data.frame(rowData(sfe)) |>\n",
    "    ggplot(aes(mean, var)) + \n",
    "    geom_point()"
   ]
  },
  {
   "cell_type": "markdown",
<<<<<<< HEAD
<<<<<<< HEAD
<<<<<<< HEAD
   "id": "d945b107",
||||||| b944554d
   "id": "bce6ecd5",
=======
   "id": "73be54a4",
>>>>>>> documentation-devel
||||||| 35cb6e7a
   "id": "73be54a4",
=======
   "id": "7bc03c42",
>>>>>>> documentation-devel
||||||| 596bf878
<<<<<<< HEAD
   "id": "d945b107",
||||||| b944554d
   "id": "bce6ecd5",
=======
   "id": "73be54a4",
>>>>>>> documentation-devel
=======
   "id": "db8292e9",
>>>>>>> f8a184fea58c53eb88debec89cb7180bf225886f
   "metadata": {},
   "source": [
    "There appears to be a sigmoid relationship between the mean and variance of the protein expression. The pattern is reminiscent of what might be expected if the intensity values were derived from a Gamma distribution, the continuous analog of the Negative Binomial distribution that is typically used to describe count data from scRNA-seq experiments. This may have implications for how CODEX data is variance stabilized in the future. \n",
    "\n",
    "CODEX data is subject to noise from several sources including segmentation artifacts, nonspecific staining, and imperfect tissue processing. These are factors that can limit accurate quantification of signal intensity and impede accurate cell annotation. The authors of the dataset tested the effects of several normalization methods on cell type annotation and clustering and found that Z-score normalization of each marker resulted in accurate identification of both rare and common cell types. In the cell below, we demonstrate how to accomplish this using standard matrix operations. The normalized count matrix is typically stored in the `logcounts` slot for scRNA-seq data, but we will instead store the normalized matrix in a slot called `normalizedIntensity`. "
   ]
  },
  {
   "cell_type": "code",
   "execution_count": null,
<<<<<<< HEAD
<<<<<<< HEAD
<<<<<<< HEAD
   "id": "5b363622",
||||||| b944554d
   "id": "0ffe02e4",
=======
   "id": "4414fb33",
>>>>>>> documentation-devel
||||||| 35cb6e7a
   "id": "4414fb33",
=======
   "id": "2541ccd2",
>>>>>>> documentation-devel
||||||| 596bf878
<<<<<<< HEAD
   "id": "5b363622",
||||||| b944554d
   "id": "0ffe02e4",
=======
   "id": "4414fb33",
>>>>>>> documentation-devel
=======
   "id": "be73a8b8",
>>>>>>> f8a184fea58c53eb88debec89cb7180bf225886f
   "metadata": {},
   "outputs": [],
   "source": [
    "mtx <- assay(sfe, 'protein')\n",
    "assay(sfe, 'normalizedIntensity') <- (mtx - rowMeans(mtx))/rowSds(mtx)\n",
    "\n",
    "assays(sfe)"
   ]
  },
  {
   "cell_type": "markdown",
<<<<<<< HEAD
<<<<<<< HEAD
<<<<<<< HEAD
   "id": "4aa6230d",
||||||| b944554d
   "id": "f3f48529",
=======
   "id": "5b71e13c",
>>>>>>> documentation-devel
||||||| 35cb6e7a
   "id": "5b71e13c",
=======
   "id": "fadb0f5f",
>>>>>>> documentation-devel
||||||| 596bf878
<<<<<<< HEAD
   "id": "4aa6230d",
||||||| b944554d
   "id": "f3f48529",
=======
   "id": "5b71e13c",
>>>>>>> documentation-devel
=======
   "id": "fa76d2d0",
>>>>>>> f8a184fea58c53eb88debec89cb7180bf225886f
   "metadata": {
    "lines_to_next_cell": 0
   },
   "source": [
    "# Spatial EDA\n",
    "\n",
    "Neighbor definition is a critical step in computation of metrics of spatial dependency like Moran's I and Geary's C. The definition of neighbors is complex, even when cell polygons are available. In the latter case, the `poly2nb` method might be appropriate to assign two cells as neighbors if they physically touch each other or share a border. This may not be tenable in cases where cells are sparse or cells are represented by their centroids, as in this dataset. \n",
    "\n",
    "We will compute the spatial neighborhood graph using the `knearestneigh` function as it is implemented in `spdep`. In brief, Euclidean distances are computed between each pair of cells and the `k` nearest cells are considered neighbors. In the following code cell, we will consdier `k=10` for speed purposes, but this may not be ideal in general. \n",
    "\n",
    "The weights of the neighborhood matrix are inverse-distance weighted, such that the the weight of regions listed as neighbors increases as the distance between pairs of points decreases. Setting `style = \"W\"` ensures that the weights are row standardized. "
   ]
  },
  {
   "cell_type": "code",
   "execution_count": null,
<<<<<<< HEAD
<<<<<<< HEAD
<<<<<<< HEAD
   "id": "ec0f17be",
||||||| b944554d
   "id": "7d797e2b",
=======
   "id": "77b3e88f",
>>>>>>> documentation-devel
||||||| 35cb6e7a
   "id": "77b3e88f",
=======
   "id": "ea152675",
>>>>>>> documentation-devel
||||||| 596bf878
<<<<<<< HEAD
   "id": "ec0f17be",
||||||| b944554d
   "id": "7d797e2b",
=======
   "id": "77b3e88f",
>>>>>>> documentation-devel
=======
   "id": "e14caabe",
>>>>>>> f8a184fea58c53eb88debec89cb7180bf225886f
   "metadata": {},
   "outputs": [],
   "source": [
    "colGraph(sfe, \"knn10\") <- findSpatialNeighbors(\n",
    "    sfe, method = \"knearneigh\", dist_type = \"idw\", \n",
    "    k = 10, style = \"W\")"
   ]
  },
  {
   "cell_type": "markdown",
<<<<<<< HEAD
<<<<<<< HEAD
<<<<<<< HEAD
   "id": "78529f61",
||||||| b944554d
   "id": "335b864d",
=======
   "id": "75796dc9",
>>>>>>> documentation-devel
||||||| 35cb6e7a
   "id": "75796dc9",
=======
   "id": "d55bf8da",
>>>>>>> documentation-devel
||||||| 596bf878
<<<<<<< HEAD
   "id": "78529f61",
||||||| b944554d
   "id": "335b864d",
=======
   "id": "75796dc9",
>>>>>>> documentation-devel
=======
   "id": "31a284c7",
>>>>>>> f8a184fea58c53eb88debec89cb7180bf225886f
   "metadata": {
    "lines_to_next_cell": 0
   },
   "source": [
    "The `plotColGraph()` function plots the graph in space along with its corresponding `colGeometry`, but since there are so many cells in this dataset, plotting the neighborhood graph may not be as useful as many connections will be obscure by overlapping lines. In any case, we will demonstrate use of the function below. "
   ]
  },
  {
   "cell_type": "code",
   "execution_count": null,
<<<<<<< HEAD
<<<<<<< HEAD
<<<<<<< HEAD
   "id": "c241851c",
||||||| b944554d
   "id": "eea41ba8",
=======
   "id": "4f6ed4bf",
>>>>>>> documentation-devel
||||||| 35cb6e7a
   "id": "4f6ed4bf",
=======
   "id": "3442976f",
>>>>>>> documentation-devel
||||||| 596bf878
<<<<<<< HEAD
   "id": "c241851c",
||||||| b944554d
   "id": "eea41ba8",
=======
   "id": "4f6ed4bf",
>>>>>>> documentation-devel
=======
   "id": "6c94685e",
>>>>>>> f8a184fea58c53eb88debec89cb7180bf225886f
   "metadata": {
    "lines_to_next_cell": 0
   },
   "outputs": [],
   "source": [
    "plotColGraph(sfe, colGraphName = \"knn10\", colGeometryName = 'centroids')"
   ]
  },
  {
   "cell_type": "markdown",
<<<<<<< HEAD
<<<<<<< HEAD
<<<<<<< HEAD
   "id": "d0cc5629",
||||||| b944554d
   "id": "5a74ae19",
=======
   "id": "0434c809",
>>>>>>> documentation-devel
||||||| 35cb6e7a
   "id": "0434c809",
=======
   "id": "8ac7b6a6",
>>>>>>> documentation-devel
||||||| 596bf878
<<<<<<< HEAD
   "id": "d0cc5629",
||||||| b944554d
   "id": "5a74ae19",
=======
   "id": "0434c809",
>>>>>>> documentation-devel
=======
   "id": "f6af3169",
>>>>>>> f8a184fea58c53eb88debec89cb7180bf225886f
   "metadata": {
    "lines_to_next_cell": 0
   },
   "source": [
    "Next, we will explore univariate metrics for global spatial autocorrelation. Since few genes are quantified in this study, we will compute the metrics for all genes. For larger datasets, it may be useful to restrict analysis to the most variable genes. \n",
    "\n",
    "We use the `runUnivariate()` function to compute the spatial autocorrelation metrics and save the results in the SFE object. "
   ]
  },
  {
   "cell_type": "code",
   "execution_count": null,
<<<<<<< HEAD
<<<<<<< HEAD
<<<<<<< HEAD
   "id": "90d1eb62",
||||||| b944554d
   "id": "f48614a5",
=======
   "id": "dd7105fd",
>>>>>>> documentation-devel
||||||| 35cb6e7a
   "id": "dd7105fd",
=======
   "id": "ee20480c",
>>>>>>> documentation-devel
||||||| 596bf878
<<<<<<< HEAD
   "id": "90d1eb62",
||||||| b944554d
   "id": "f48614a5",
=======
   "id": "dd7105fd",
>>>>>>> documentation-devel
=======
   "id": "869bab5f",
>>>>>>> f8a184fea58c53eb88debec89cb7180bf225886f
   "metadata": {},
   "outputs": [],
   "source": [
    "sfe <- runUnivariate(\n",
    "    sfe, type = \"moran.mc\", features = rownames(sfe),\n",
    "    exprs_values = \"normalizedIntensity\", colGraphName = \"knn10\", nsim = 100,\n",
    "    BPPARAM = MulticoreParam(2))\n",
    "\n",
    "sfe <- runUnivariate(\n",
    "    sfe, type = \"moran.plot\", features = rownames(sfe),\n",
    "    exprs_values = \"normalizedIntensity\", colGraphName = \"knn10\")"
   ]
  },
  {
   "cell_type": "markdown",
<<<<<<< HEAD
<<<<<<< HEAD
<<<<<<< HEAD
   "id": "a9f481b7",
||||||| b944554d
   "id": "48a5aa5a",
=======
   "id": "62d69200",
>>>>>>> documentation-devel
||||||| 35cb6e7a
   "id": "62d69200",
=======
   "id": "c337c1b9",
>>>>>>> documentation-devel
||||||| 596bf878
<<<<<<< HEAD
   "id": "a9f481b7",
||||||| b944554d
   "id": "48a5aa5a",
=======
   "id": "62d69200",
>>>>>>> documentation-devel
=======
   "id": "95d779c4",
>>>>>>> f8a184fea58c53eb88debec89cb7180bf225886f
   "metadata": {
    "lines_to_next_cell": 0
   },
   "source": [
    "The results of these computations are accessible in the `rowData` attribute of the SFE object. "
   ]
  },
  {
   "cell_type": "code",
   "execution_count": null,
<<<<<<< HEAD
<<<<<<< HEAD
<<<<<<< HEAD
   "id": "e5fa4af2",
||||||| b944554d
   "id": "fbd237f1",
=======
   "id": "32531545",
>>>>>>> documentation-devel
||||||| 35cb6e7a
   "id": "32531545",
=======
   "id": "dc7f0fbe",
>>>>>>> documentation-devel
||||||| 596bf878
<<<<<<< HEAD
   "id": "e5fa4af2",
||||||| b944554d
   "id": "fbd237f1",
=======
   "id": "32531545",
>>>>>>> documentation-devel
=======
   "id": "900bc75b",
>>>>>>> f8a184fea58c53eb88debec89cb7180bf225886f
   "metadata": {
    "lines_to_next_cell": 0
   },
   "outputs": [],
   "source": [
    "colnames(rowData(sfe))"
   ]
  },
  {
   "cell_type": "markdown",
<<<<<<< HEAD
<<<<<<< HEAD
<<<<<<< HEAD
   "id": "51f565e0",
||||||| b944554d
   "id": "6c95b1d4",
=======
   "id": "a7cf88d7",
>>>>>>> documentation-devel
||||||| 35cb6e7a
   "id": "a7cf88d7",
=======
   "id": "dcd42187",
>>>>>>> documentation-devel
||||||| 596bf878
<<<<<<< HEAD
   "id": "51f565e0",
||||||| b944554d
   "id": "6c95b1d4",
=======
   "id": "a7cf88d7",
>>>>>>> documentation-devel
=======
   "id": "720d3912",
>>>>>>> f8a184fea58c53eb88debec89cb7180bf225886f
   "metadata": {
    "lines_to_next_cell": 0
   },
   "source": [
    "Next, we plot the results of the genes with the highest Moran's I statistic. "
   ]
  },
  {
   "cell_type": "code",
   "execution_count": null,
<<<<<<< HEAD
<<<<<<< HEAD
<<<<<<< HEAD
   "id": "8684b2a8",
||||||| b944554d
   "id": "f47abb0e",
=======
   "id": "ed8b61ae",
>>>>>>> documentation-devel
||||||| 35cb6e7a
   "id": "ed8b61ae",
=======
   "id": "4b10f600",
>>>>>>> documentation-devel
||||||| 596bf878
<<<<<<< HEAD
   "id": "8684b2a8",
||||||| b944554d
   "id": "f47abb0e",
=======
   "id": "ed8b61ae",
>>>>>>> documentation-devel
=======
   "id": "f8c1f071",
>>>>>>> f8a184fea58c53eb88debec89cb7180bf225886f
   "metadata": {
    "lines_to_next_cell": 0
   },
   "outputs": [],
   "source": [
    "top_moran <- data.frame(rowData(sfe)) |>\n",
    "    arrange(desc(moran.mc_statistic_sample01)) |>\n",
    "    head(6) |> \n",
    "    rownames()\n",
    "\n",
    "moran <- plotMoranMC(sfe, features = top_moran, facet_by = 'features')\n",
    "moran"
   ]
  },
  {
   "cell_type": "markdown",
<<<<<<< HEAD
<<<<<<< HEAD
<<<<<<< HEAD
   "id": "e6fac782",
||||||| b944554d
   "id": "e4b72d0c",
=======
   "id": "1fa71a6b",
>>>>>>> documentation-devel
||||||| 35cb6e7a
   "id": "1fa71a6b",
=======
   "id": "87562d34",
>>>>>>> documentation-devel
||||||| 596bf878
<<<<<<< HEAD
   "id": "e6fac782",
||||||| b944554d
   "id": "e4b72d0c",
=======
   "id": "1fa71a6b",
>>>>>>> documentation-devel
=======
   "id": "d9c3e160",
>>>>>>> f8a184fea58c53eb88debec89cb7180bf225886f
   "metadata": {},
   "source": [
    "The vertical line in each plot represents the observed Moran's I while the density represents the Moran's I statistic for each of the random permutations of the data. Each of these plots suggests that the Moran's I statistic is significant. We can  plot the normalized intensity for these genes in space. "
   ]
  },
  {
   "cell_type": "code",
   "execution_count": null,
<<<<<<< HEAD
<<<<<<< HEAD
<<<<<<< HEAD
   "id": "28b3a856",
||||||| b944554d
   "id": "0fa54ca1",
=======
   "id": "273c33ca",
>>>>>>> documentation-devel
||||||| 35cb6e7a
   "id": "273c33ca",
=======
   "id": "efd4dccf",
>>>>>>> documentation-devel
||||||| 596bf878
<<<<<<< HEAD
   "id": "28b3a856",
||||||| b944554d
   "id": "0fa54ca1",
=======
   "id": "273c33ca",
>>>>>>> documentation-devel
=======
   "id": "4567f19b",
>>>>>>> f8a184fea58c53eb88debec89cb7180bf225886f
   "metadata": {
    "fig.height": 7,
    "fig.width": 12,
    "lines_to_next_cell": 0
   },
   "outputs": [],
   "source": [
    "plotSpatialFeature(\n",
    "    sfe, features=top_moran, colGeometryName = \"centroids\",\n",
    "    exprs_values = \"normalizedIntensity\", scattermore = TRUE, pointsize = 1)"
   ]
  },
  {
   "cell_type": "markdown",
<<<<<<< HEAD
<<<<<<< HEAD
<<<<<<< HEAD
   "id": "b96bf00e",
||||||| b944554d
   "id": "4f8568c1",
=======
   "id": "f8531e9d",
>>>>>>> documentation-devel
||||||| 35cb6e7a
   "id": "f8531e9d",
=======
   "id": "dd576bd6",
>>>>>>> documentation-devel
||||||| 596bf878
<<<<<<< HEAD
   "id": "b96bf00e",
||||||| b944554d
   "id": "4f8568c1",
=======
   "id": "f8531e9d",
>>>>>>> documentation-devel
=======
   "id": "8d4a2380",
>>>>>>> f8a184fea58c53eb88debec89cb7180bf225886f
   "metadata": {},
   "source": [
    "While most of these genes appear to have some spatial distribution, it also seems that it may overlap with cell type. The cells that appear to express the genes of interest seem to be spatially restricted to known boundaries in the tissue. \n",
    "\n",
    "The `moranPlot()` function plots spatial data against its spatially lagged values and enables users to assess how similar observed values are to its neighbors. When the variable is centered, the plot is divided into four quadrants defined by the horizontal line y = 0 and the vertical line x = 0. Points in the upper right (or high-high) and lower left (or low-low) quadrants indicate positive spatial association, and points in the lower right (or high-low) and upper left (or low-high) quadrants include observations that exhibit negative spatial association."
   ]
  },
  {
   "cell_type": "code",
   "execution_count": null,
<<<<<<< HEAD
<<<<<<< HEAD
<<<<<<< HEAD
   "id": "560c0992",
||||||| b944554d
   "id": "879b67db",
=======
   "id": "e9bcd275",
>>>>>>> documentation-devel
||||||| 35cb6e7a
   "id": "e9bcd275",
=======
   "id": "6054044c",
>>>>>>> documentation-devel
||||||| 596bf878
<<<<<<< HEAD
   "id": "560c0992",
||||||| b944554d
   "id": "879b67db",
=======
   "id": "e9bcd275",
>>>>>>> documentation-devel
=======
   "id": "8480fc5e",
>>>>>>> f8a184fea58c53eb88debec89cb7180bf225886f
   "metadata": {},
   "outputs": [],
   "source": [
    "moranPlot(sfe, top_moran[1])"
   ]
  },
  {
   "cell_type": "markdown",
<<<<<<< HEAD
<<<<<<< HEAD
<<<<<<< HEAD
   "id": "4fade002",
||||||| b944554d
   "id": "95eb9781",
=======
   "id": "5e6db14f",
>>>>>>> documentation-devel
||||||| 35cb6e7a
   "id": "5e6db14f",
=======
   "id": "3fc96935",
>>>>>>> documentation-devel
||||||| 596bf878
<<<<<<< HEAD
   "id": "4fade002",
||||||| b944554d
   "id": "95eb9781",
=======
   "id": "5e6db14f",
>>>>>>> documentation-devel
=======
   "id": "c5d7c8a5",
>>>>>>> f8a184fea58c53eb88debec89cb7180bf225886f
   "metadata": {},
   "source": [
    "# Differential Expression\n",
    "\n",
    "While Moran's I and other global spatial autocorrelation metrics provide insight to the spatial patterns of gene expression, it is necessarily limited by the structure imposed by the spatial weights matrix. A complimentary task might be to identify spatially variable (SV) genes. One such method to do this is described in [SpatialDE: identification of spatially variable genes](). The method described in the manuscript relies on Gaussian process regression and decomposes variability in expression into spatial and non-spatial components. In contrast to Moran's I, the covariance between each pair of cells is modeled as a function of the distance between them. Notably, it does not require an explicit specification of hte neighborhood graph, but rather the a parameter controls the decay in covariance as distance increases. \n",
    "\n",
    "The `spatialDE` package is implemented in R and requires a normalized matrix as input. The `spatialDE()` function from the package performs normalization steps before running the algorithm. Because the data has already been normalized, we will use the `run()` function directly to run spatialDE. We will first have to convert the centroid coordinates to a data frame as required by the function."
   ]
  },
  {
   "cell_type": "code",
   "execution_count": null,
<<<<<<< HEAD
<<<<<<< HEAD
<<<<<<< HEAD
   "id": "50b3276b",
||||||| b944554d
   "id": "69b80281",
=======
   "id": "e9adbad9",
>>>>>>> documentation-devel
||||||| 35cb6e7a
   "id": "e9adbad9",
=======
   "id": "333843fe",
>>>>>>> documentation-devel
||||||| 596bf878
<<<<<<< HEAD
   "id": "50b3276b",
||||||| b944554d
   "id": "69b80281",
=======
   "id": "e9adbad9",
>>>>>>> documentation-devel
=======
   "id": "fba0203d",
>>>>>>> f8a184fea58c53eb88debec89cb7180bf225886f
   "metadata": {},
   "outputs": [],
   "source": [
    "# Store coordinates in a data frame object\n",
    "coords <- centroids(sfe)$geometry |>\n",
    "    purrr::map_dfr(\\(x) c(x = x[1], y = x[2]))\n",
    "\n",
    "# de_res <- spatialDE::run(assay(sfe,\"normalizedIntensity\"), coords, verbose=TRUE)"
   ]
  },
  {
   "cell_type": "markdown",
<<<<<<< HEAD
<<<<<<< HEAD
<<<<<<< HEAD
   "id": "f3b864e6",
||||||| b944554d
   "id": "02c0817b",
=======
   "id": "134ec471",
>>>>>>> documentation-devel
||||||| 35cb6e7a
   "id": "134ec471",
=======
   "id": "46de9b03",
>>>>>>> documentation-devel
||||||| 596bf878
<<<<<<< HEAD
   "id": "f3b864e6",
||||||| b944554d
   "id": "02c0817b",
=======
   "id": "134ec471",
>>>>>>> documentation-devel
=======
   "id": "b9e01862",
>>>>>>> f8a184fea58c53eb88debec89cb7180bf225886f
   "metadata": {
    "lines_to_next_cell": 0
   },
   "source": [
    "We can plot the normalized expression of the top 5 genes in space."
   ]
  },
  {
   "cell_type": "code",
   "execution_count": null,
<<<<<<< HEAD
<<<<<<< HEAD
<<<<<<< HEAD
   "id": "f96c0b0a",
||||||| b944554d
   "id": "1999bda0",
=======
   "id": "2eaa01a3",
>>>>>>> documentation-devel
||||||| 35cb6e7a
   "id": "2eaa01a3",
=======
   "id": "11db67d0",
>>>>>>> documentation-devel
||||||| 596bf878
<<<<<<< HEAD
   "id": "f96c0b0a",
||||||| b944554d
   "id": "1999bda0",
=======
   "id": "2eaa01a3",
>>>>>>> documentation-devel
=======
   "id": "b5a24a16",
>>>>>>> f8a184fea58c53eb88debec89cb7180bf225886f
   "metadata": {},
   "outputs": [],
   "source": [
    "# top_genes <- de_res |>\n",
    "#   arrange(pval) |>\n",
    "#   slice_head(n=6) |>\n",
    "#   pull(g)\n",
    "# \n",
    "# plotSpatialFeature(sfe, top_genes, colGeometryName=\"centroids\",\n",
    "#                    exprs_values = \"normalizedIntensity\")"
   ]
  },
  {
   "cell_type": "markdown",
<<<<<<< HEAD
<<<<<<< HEAD
<<<<<<< HEAD
   "id": "e3505a51",
||||||| b944554d
   "id": "6f7a5c3e",
=======
   "id": "35381873",
>>>>>>> documentation-devel
||||||| 35cb6e7a
   "id": "35381873",
=======
   "id": "979807d3",
>>>>>>> documentation-devel
||||||| 596bf878
<<<<<<< HEAD
   "id": "e3505a51",
||||||| b944554d
   "id": "6f7a5c3e",
=======
   "id": "35381873",
>>>>>>> documentation-devel
=======
   "id": "67e80fe9",
>>>>>>> f8a184fea58c53eb88debec89cb7180bf225886f
   "metadata": {
    "lines_to_next_cell": 0
   },
   "source": [
    "Perhaps unsurprisingly, the expression of the top DE genes seems to highlight the spatial distribution of known cell types in the tissue rather than identify spatially restricted gene expression. This is related to the experimental design where the targeted genes were chosen to differentiate cell types. Perhaps in genome-wide technologies, the potential for discovery of neew gene expression patterns is more plausible. There is an open question as to whether these results offer new information compared to what is inferred by typical DE expression methods.  \n",
    "\n",
    "These analyses represent a minority of the types of inferences that can be made from protein expression data. It would be interested to investigate how the protein expression results compare or inform data from spatail scRNA-sequencing experiments. Already, there is work being done to obtain multimodal spatial measurements on the same sample. Importantly however, considerations should be made on the types of biases each individual technology adds to the measurements. These are active areas of research that are ripe for future exploration. \n",
    "\n",
    "# Session Info"
   ]
  },
  {
   "cell_type": "code",
   "execution_count": null,
<<<<<<< HEAD
<<<<<<< HEAD
<<<<<<< HEAD
   "id": "062305d4",
||||||| b944554d
   "id": "93a0bf8b",
=======
   "id": "acc557f7",
>>>>>>> documentation-devel
||||||| 35cb6e7a
   "id": "acc557f7",
=======
   "id": "930c0b39",
>>>>>>> documentation-devel
||||||| 596bf878
<<<<<<< HEAD
   "id": "062305d4",
||||||| b944554d
   "id": "93a0bf8b",
=======
   "id": "acc557f7",
>>>>>>> documentation-devel
=======
   "id": "4bee69d3",
>>>>>>> f8a184fea58c53eb88debec89cb7180bf225886f
   "metadata": {},
   "outputs": [],
   "source": [
    "sessionInfo()"
   ]
  },
  {
   "cell_type": "markdown",
<<<<<<< HEAD
<<<<<<< HEAD
<<<<<<< HEAD
   "id": "0e3a9bea",
||||||| b944554d
   "id": "d67e892e",
=======
   "id": "f5b5cfaf",
>>>>>>> documentation-devel
||||||| 35cb6e7a
   "id": "f5b5cfaf",
=======
   "id": "def894f4",
>>>>>>> documentation-devel
||||||| 596bf878
<<<<<<< HEAD
   "id": "0e3a9bea",
||||||| b944554d
   "id": "d67e892e",
=======
   "id": "f5b5cfaf",
>>>>>>> documentation-devel
=======
   "id": "a5bb2b79",
>>>>>>> f8a184fea58c53eb88debec89cb7180bf225886f
   "metadata": {},
   "source": [
    "# References"
   ]
  }
 ],
 "metadata": {
  "kernelspec": {
   "display_name": "R",
   "language": "R",
   "name": "ir"
  }
 },
 "nbformat": 4,
 "nbformat_minor": 5
}
