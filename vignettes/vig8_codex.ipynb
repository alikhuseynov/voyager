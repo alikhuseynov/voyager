{
 "cells": [
  {
   "cell_type": "raw",
<<<<<<< HEAD
<<<<<<< HEAD
   "id": "00c519dc",
||||||| 00f6fb22
   "id": "8feae4df",
=======
   "id": "f35a704e",
>>>>>>> documentation-devel
||||||| d828f8eb
   "id": "00c519dc",
=======
   "id": "6473f36f",
>>>>>>> 6c25d2f1afd31725c9595ab9d8922b9d3c838629
   "metadata": {},
   "source": [
    "---\n",
    "title: \"CODEX exploratory data analysis\"\n",
    "author: \"Kayla Jackson\"\n",
    "date: \"`r Sys.Date()`\"\n",
    "output: \n",
    "  html_document:\n",
    "  toc: true\n",
    "  toc_float:\n",
    "    collapsed: false\n",
    "  toc_depth: 3\n",
    "bibliography: ref.bib\n",
    "vignette: >\n",
    "  %\\VignetteIndexEntry{codex_basic}\n",
    "  %\\VignetteEngine{knitr::rmarkdown}\n",
    "  %\\VignetteEncoding{UTF-8}\n",
    "---"
   ]
  },
  {
   "cell_type": "code",
   "execution_count": null,
<<<<<<< HEAD
<<<<<<< HEAD
   "id": "c6e8cd79",
||||||| 00f6fb22
   "id": "54fd569e",
=======
   "id": "f37562c7",
>>>>>>> documentation-devel
||||||| d828f8eb
   "id": "c6e8cd79",
=======
   "id": "9780f012",
>>>>>>> 6c25d2f1afd31725c9595ab9d8922b9d3c838629
   "metadata": {
    "tags": [
     "remove_cell"
    ]
   },
   "outputs": [],
   "source": [
    "knitr::opts_chunk$set(\n",
    "  collapse = TRUE,\n",
    "  comment = \"#>\", fig.align = \"center\",\n",
    "  eval=TRUE\n",
    ")"
   ]
  },
  {
   "cell_type": "code",
   "execution_count": null,
<<<<<<< HEAD
<<<<<<< HEAD
   "id": "29280b40",
||||||| 00f6fb22
   "id": "fcabfa50",
=======
   "id": "7e101131",
>>>>>>> documentation-devel
||||||| d828f8eb
   "id": "29280b40",
=======
   "id": "6f94855e",
>>>>>>> 6c25d2f1afd31725c9595ab9d8922b9d3c838629
   "metadata": {
    "eval": false,
    "tags": [
     "remove_cell"
    ]
   },
   "outputs": [],
   "source": [
    "# Install Google Colab dependencies\n",
    "# Note: this can take 30+ minutes (many of the dependencies include C++ code, which needs to be compiled)\n",
    "\n",
    "# First install `sf`, `ragg` and `textshaping` and their system dependencies:\n",
    "system(\"apt-get -y update && apt-get install -y  libudunits2-dev libgdal-dev libgeos-dev libproj-dev libharfbuzz-dev libfribidi-dev\")\n",
    "install.packages(\"sf\")\n",
    "install.packages(\"textshaping\")\n",
    "install.packages(\"ragg\")\n",
    "\n",
    "# Install system dependencies of some other R packages that Voyager either imports or suggests:\n",
    "system(\"apt-get install -y libfribidi-dev libcairo2-dev libmagick++-dev\")\n",
    "\n",
    "# Install Voyager from Bioconductor:\n",
    "install.packages(\"BiocManager\")\n",
    "BiocManager::install(version = \"3.17\", ask = FALSE, update = FALSE, Ncpus = 2)\n",
    "BiocManager::install(\"scater\")\n",
    "system.time(\n",
    "  BiocManager::install(\"Voyager\", dependencies = TRUE, Ncpus = 2, update = FALSE)\n",
    ")\n",
    "\n",
    "# Install additional dependencies for this vignette\n",
    "BiocManager::install(\"gghighlight\")\n",
    "BiocManager::install(\"batchelor\")\n",
    "BiocManager::install(\"spatialDE\")\n",
    "\n",
    "packageVersion(\"Voyager\")"
   ]
  },
  {
   "cell_type": "markdown",
<<<<<<< HEAD
<<<<<<< HEAD
   "id": "671695ab",
||||||| 00f6fb22
   "id": "8e35f529",
=======
   "id": "5bbbfe89",
>>>>>>> documentation-devel
||||||| d828f8eb
   "id": "671695ab",
=======
   "id": "499c4868",
>>>>>>> 6c25d2f1afd31725c9595ab9d8922b9d3c838629
   "metadata": {},
   "source": [
    "# Introduction"
   ]
  },
  {
   "cell_type": "code",
   "execution_count": null,
<<<<<<< HEAD
<<<<<<< HEAD
   "id": "be7307d6",
||||||| 00f6fb22
   "id": "897b0b86",
=======
   "id": "07b904ef",
>>>>>>> documentation-devel
||||||| d828f8eb
   "id": "be7307d6",
=======
   "id": "674b3193",
>>>>>>> 6c25d2f1afd31725c9595ab9d8922b9d3c838629
   "metadata": {
    "lines_to_next_cell": 0,
    "message": false,
    "name": "setup"
   },
   "outputs": [],
   "source": [
    "library(Voyager)\n",
    "library(SingleCellExperiment)\n",
    "library(SpatialExperiment)\n",
    "library(SpatialFeatureExperiment)\n",
    "library(batchelor)\n",
    "library(scater)\n",
    "library(scran)\n",
    "library(bluster)\n",
    "library(glue)\n",
    "library(purrr)\n",
    "library(tidyr)\n",
    "library(dplyr)\n",
    "library(ggplot2)\n",
    "library(gghighlight)\n",
    "library(patchwork)\n",
    "library(spdep)\n",
    "library(spatialDE)\n",
    "library(BiocParallel)\n",
    "\n",
    "theme_set(theme_bw())"
   ]
  },
  {
   "cell_type": "markdown",
<<<<<<< HEAD
<<<<<<< HEAD
   "id": "9fc9076b",
||||||| 00f6fb22
   "id": "c5bd8331",
=======
   "id": "74a3f904",
>>>>>>> documentation-devel
||||||| d828f8eb
   "id": "9fc9076b",
=======
   "id": "6a0f7457",
>>>>>>> 6c25d2f1afd31725c9595ab9d8922b9d3c838629
   "metadata": {
    "lines_to_next_cell": 0
   },
   "source": [
    "# Dataset\n",
    "\n",
    "The dataset used in this vignette is from the paper [Strategies for Accurate Cell Type Identification in CODEX Multiplexed Imaging Data](doi.org/10.3389/fimmu.2021.727626)(Hickey, et.al 2021). The data were collected as part of the HuBMap consortium which seeks to characterize healthy human tissues and make data  broadly available. More specifically, this dataset characterizes 4 regions of the large intestine (colon) from a single donor. This vignette will focus on data from the sigmoid colon. \n",
    "\n",
    "The intestinal sections were interrogated using the multiplexed imaging method CO-Detection by indEXing (CODEX). CODEX involves cyclical staining of a tissue with DNA-barcoded antibodies. At each round of experimentation, fluoresently labeled probes hybridize to the tissue bound DNA-conjugated antibodies are subsequently imaged and the stripped from the tissue. At present, the technology quantifies up to 60 markers in a single experiment. Raw images generated from this process are subjected to image stitching, drift compensation, deconvolution, and cycle concatenation using publicly avaialable [software](https://github.com/nolanlab/CODEX). The result of this pre-processing is a matrix that contains the location of individual cells and the quantified markers for each cell. Cell types were assigned as described in the manuscript linked above. Briefly, the authors used a hand-gating strategy to define cell types and create a standard to compare the effect of normalization methods on clustering and cell annotation. \n",
    "\n",
    "The raw intensity data are available for download from HuBMAP with identifier [HBM575.THQMM.284](https://portal.hubmapconsortium.org/browse/dataset/e6fd525b837f4cf736c8af830f4f750f) and the cell type annotations are provided as supplementary data in the manuscript. The data relevant to this vignette have been converted to a `SFE` object and are available to download [here](https://caltech.box.com/public/static/zfr8l20450n2z28lnp0ugdj471ph9eyx) from Box.  \n",
    "\n",
    "These data will be submitted to the `SFEData` package on Bioconductor and will be available there in a future release. \n",
    "\n",
    "We will begin by downloading the data and loading it in to R. "
   ]
  },
  {
   "cell_type": "code",
   "execution_count": null,
<<<<<<< HEAD
<<<<<<< HEAD
   "id": "dec6f3d7",
||||||| 00f6fb22
   "id": "2b81a709",
=======
   "id": "be8a0ac0",
>>>>>>> documentation-devel
||||||| d828f8eb
   "id": "dec6f3d7",
=======
   "id": "d8fe195a",
>>>>>>> 6c25d2f1afd31725c9595ab9d8922b9d3c838629
   "metadata": {
    "lines_to_next_cell": 0
   },
   "outputs": [],
   "source": [
    "download.file(\"https://caltech.box.com/public/static/zfr8l20450n2z28lnp0ugdj471ph9eyx\",'./codex.Rds', mode='wb', method = 'wget', quiet = TRUE)\n",
    "\n",
    "sfe <- readRDS(\"./codex.Rds\")\n",
    "sfe"
   ]
  },
  {
   "cell_type": "markdown",
<<<<<<< HEAD
<<<<<<< HEAD
   "id": "ebd0f79e",
||||||| 00f6fb22
   "id": "d280b628",
=======
   "id": "e72b3a16",
>>>>>>> documentation-devel
||||||| d828f8eb
   "id": "ebd0f79e",
=======
   "id": "c0172814",
>>>>>>> 6c25d2f1afd31725c9595ab9d8922b9d3c838629
   "metadata": {
    "lines_to_next_cell": 0
   },
   "source": [
    "The rows in the count matrix correspond to the 47 barcoded genes measured by CODEX. Additionally, the authors provide some metadata for the cells, including the cell type. \n",
    "\n",
    "It turns out the column names are not unique which will cause errors in downstream analysis. We will update the column names below"
   ]
  },
  {
   "cell_type": "code",
   "execution_count": null,
<<<<<<< HEAD
<<<<<<< HEAD
   "id": "035346a4",
||||||| 00f6fb22
   "id": "0ce59f5d",
=======
   "id": "942b5484",
>>>>>>> documentation-devel
||||||| d828f8eb
   "id": "035346a4",
=======
   "id": "5c26670a",
>>>>>>> 6c25d2f1afd31725c9595ab9d8922b9d3c838629
   "metadata": {
    "lines_to_next_cell": 0
   },
   "outputs": [],
   "source": [
    "cellids <- glue(\"{colData(sfe)$fn}_{colData(sfe)$cell_id}\")\n",
    "colnames(sfe) <- cellids"
   ]
  },
  {
   "cell_type": "markdown",
<<<<<<< HEAD
<<<<<<< HEAD
   "id": "af32b218",
||||||| 00f6fb22
   "id": "889eb6c7",
=======
   "id": "fa603c9b",
>>>>>>> documentation-devel
||||||| d828f8eb
   "id": "af32b218",
=======
   "id": "b4b46579",
>>>>>>> 6c25d2f1afd31725c9595ab9d8922b9d3c838629
   "metadata": {},
   "source": [
    "## Exploratory Data Analysis"
   ]
  },
  {
   "cell_type": "code",
   "execution_count": null,
<<<<<<< HEAD
<<<<<<< HEAD
   "id": "10ef4cff",
||||||| 00f6fb22
   "id": "b7bc98c3",
=======
   "id": "b8fdd22c",
>>>>>>> documentation-devel
||||||| d828f8eb
   "id": "10ef4cff",
=======
   "id": "2db0087a",
>>>>>>> 6c25d2f1afd31725c9595ab9d8922b9d3c838629
   "metadata": {
    "lines_to_next_cell": 0
   },
   "outputs": [],
   "source": [
    "celldensity <- plotCellBin2D(sfe)\n",
    "\n",
    "celldensity"
   ]
  },
  {
   "cell_type": "markdown",
<<<<<<< HEAD
<<<<<<< HEAD
   "id": "82add310",
||||||| 00f6fb22
   "id": "beeb1d27",
=======
   "id": "d1441296",
>>>>>>> documentation-devel
||||||| d828f8eb
   "id": "82add310",
=======
   "id": "28f80425",
>>>>>>> 6c25d2f1afd31725c9595ab9d8922b9d3c838629
   "metadata": {
    "lines_to_next_cell": 0
   },
   "source": [
    "We can see from the figure above that the colonic epithelium is enriched with cells while the loose connective tissue and muscle layers beneath the epithelial layer are more sparsely populated. This is in line with known colon histology. The epithelium is enriched with goblet cells and has invaginations that project inwards towards the connective tissue. Smooth muscle cells are also prominent in the colon, where bands of muscle contract to move colonic contents towards the rectum.  \n",
    "\n",
    "We can visualize these cell types in space using the `plotSpatialFeature()` function. We will highlight Goblet and smooth muscle cells to display their relative distribution in the tissue. Since CODEX image processing relies on segmentation, each dot in the plot represents a single cell. Here, each cell is represented by its centroid, but can also be visualized as cell polygons in cases where the segmentation mask is available.  "
   ]
  },
  {
   "cell_type": "code",
   "execution_count": null,
<<<<<<< HEAD
<<<<<<< HEAD
   "id": "f6da016f",
||||||| 00f6fb22
   "id": "564a5f0d",
=======
   "id": "28cf55a5",
>>>>>>> documentation-devel
||||||| d828f8eb
   "id": "f6da016f",
=======
   "id": "378ca0b5",
>>>>>>> 6c25d2f1afd31725c9595ab9d8922b9d3c838629
   "metadata": {
    "lines_to_next_cell": 0
   },
   "outputs": [],
   "source": [
    "spatial <- plotSpatialFeature(sfe, features='cell_type', colGeometryName = \"centroids\") +\n",
    "    gghighlight(cell_type %in% c(\"Goblet\", \"SmoothMuscleME\"))\n",
    "\n",
    "spatial"
   ]
  },
  {
   "cell_type": "markdown",
<<<<<<< HEAD
<<<<<<< HEAD
   "id": "0def5c38",
||||||| 00f6fb22
   "id": "5f23af72",
=======
   "id": "074cc05d",
>>>>>>> documentation-devel
||||||| d828f8eb
   "id": "0def5c38",
=======
   "id": "f50dece4",
>>>>>>> 6c25d2f1afd31725c9595ab9d8922b9d3c838629
   "metadata": {
    "lines_to_next_cell": 0
   },
   "source": [
    "The goblet cells clearly define the epithelial border of the tissue and the thick bands of smooth muscle cells are prominent below the mucosa. \n",
    "\n",
    "Next, we will compute some gene level metrics for each of the 47 barcoded genes. In contrast to RNA-based methods, the fields in the matrix represent intensities rather than counts.  "
   ]
  },
  {
   "cell_type": "code",
   "execution_count": null,
<<<<<<< HEAD
<<<<<<< HEAD
   "id": "57577670",
||||||| 00f6fb22
   "id": "8cf8e18b",
=======
   "id": "316edf78",
>>>>>>> documentation-devel
||||||| d828f8eb
   "id": "57577670",
=======
   "id": "7b4d73e8",
>>>>>>> 6c25d2f1afd31725c9595ab9d8922b9d3c838629
   "metadata": {
    "lines_to_next_cell": 0
   },
   "outputs": [],
   "source": [
    "rowData(sfe)$mean <- rowMeans(assay(sfe))\n",
    "rowData(sfe)$var <- rowVars(assay(sfe))\n",
    "\n",
    "data.frame(rowData(sfe)) |>\n",
    "    ggplot(aes(mean, var)) + \n",
    "    geom_point()"
   ]
  },
  {
   "cell_type": "markdown",
<<<<<<< HEAD
<<<<<<< HEAD
   "id": "4ee89ccc",
||||||| 00f6fb22
   "id": "3ae17b96",
=======
   "id": "bce6ecd5",
>>>>>>> documentation-devel
||||||| d828f8eb
   "id": "4ee89ccc",
=======
   "id": "f1067f48",
>>>>>>> 6c25d2f1afd31725c9595ab9d8922b9d3c838629
   "metadata": {},
   "source": [
    "There appears to be a sigmoid relationship between the mean and variance of the protein expression. The pattern is reminiscent of what might be expected if the intensity values were derived from a Gamma distribution, the continuous analog of the Negative Binomial distribution that is typically used to describe count data from scRNA-seq experiments. This may have implications for how CODEX data is variance stabilized in the future. \n",
    "\n",
    "CODEX data is subject to noise from several sources including segmentation artifacts, nonspecific staining, and imperfect tissue processing. These are factors that can limit accurate quantification of signal intensity and impede accurate cell annotation. The authors of the dataset tested the effects of several normalization methods on cell type annotation and clustering and found that Z-score normalization of each marker resulted in accurate identification of both rare and common cell types. In the cell below, we demonstrate how to accomplish this using standard matrix operations. The normalized count matrix is typically stored in the `logcounts` slot for scRNA-seq data, but we will instead store the normalized matrix in a slot called `normalizedIntensity`. "
   ]
  },
  {
   "cell_type": "code",
   "execution_count": null,
<<<<<<< HEAD
<<<<<<< HEAD
   "id": "6e96c2fb",
||||||| 00f6fb22
   "id": "6bd4aac5",
=======
   "id": "0ffe02e4",
>>>>>>> documentation-devel
||||||| d828f8eb
   "id": "6e96c2fb",
=======
   "id": "343ae964",
>>>>>>> 6c25d2f1afd31725c9595ab9d8922b9d3c838629
   "metadata": {},
   "outputs": [],
   "source": [
    "mtx <- assay(sfe, 'protein')\n",
    "assay(sfe, 'normalizedIntensity') <- (mtx - rowMeans(mtx))/rowSds(mtx)\n",
    "\n",
    "assays(sfe)"
   ]
  },
  {
   "cell_type": "markdown",
<<<<<<< HEAD
<<<<<<< HEAD
   "id": "716d3377",
||||||| 00f6fb22
   "id": "767bb79d",
=======
   "id": "f3f48529",
>>>>>>> documentation-devel
||||||| d828f8eb
   "id": "716d3377",
=======
   "id": "2a776361",
>>>>>>> 6c25d2f1afd31725c9595ab9d8922b9d3c838629
   "metadata": {
    "lines_to_next_cell": 0
   },
   "source": [
    "# Spatial EDA\n",
    "\n",
    "Neighbor definition is a critical step in computation of metrics of spatial dependency like Moran's I and Geary's C. The definition of neighbors is complex, even when cell polygons are available. In the latter case, the `poly2nb` method might be appropriate to assign two cells as neighbors if they physically touch each other or share a border. This may not be tenable in cases where cells are sparse or cells are represented by their centroids, as in this dataset. \n",
    "\n",
    "We will compute the spatial neighborhood graph using the `knearestneigh` function as it is implemented in `spdep`. In brief, Euclidean distances are computed between each pair of cells and the `k` nearest cells are considered neighbors. In the following code cell, we will consdier `k=10` for speed purposes, but this may not be ideal in general. \n",
    "\n",
    "The weights of the neighborhood matrix are inverse-distance weighted, such that the the weight of regions listed as neighbors increases as the distance between pairs of points decreases. Setting `style = \"W\"` ensures that the weights are row standardized. "
   ]
  },
  {
   "cell_type": "code",
   "execution_count": null,
<<<<<<< HEAD
<<<<<<< HEAD
   "id": "cbe920aa",
||||||| 00f6fb22
   "id": "b0291b32",
=======
   "id": "7d797e2b",
>>>>>>> documentation-devel
||||||| d828f8eb
   "id": "cbe920aa",
=======
   "id": "daa7497a",
>>>>>>> 6c25d2f1afd31725c9595ab9d8922b9d3c838629
   "metadata": {},
   "outputs": [],
   "source": [
    "colGraph(sfe, \"knn10\") <- findSpatialNeighbors(\n",
    "    sfe, method = \"knearneigh\", dist_type = \"idw\", \n",
    "    k = 10, style = \"W\")"
   ]
  },
  {
   "cell_type": "markdown",
<<<<<<< HEAD
<<<<<<< HEAD
   "id": "d35534f6",
||||||| 00f6fb22
   "id": "bbdfae6e",
=======
   "id": "335b864d",
>>>>>>> documentation-devel
||||||| d828f8eb
   "id": "d35534f6",
=======
   "id": "ea97eb87",
>>>>>>> 6c25d2f1afd31725c9595ab9d8922b9d3c838629
   "metadata": {
    "lines_to_next_cell": 0
   },
   "source": [
    "The `plotColGraph()` function plots the graph in space along with its corresponding `colGeometry`, but since there are so many cells in this dataset, plotting the neighborhood graph may not be as useful as many connections will be obscure by overlapping lines. In any case, we will demonstrate use of the function below. "
   ]
  },
  {
   "cell_type": "code",
   "execution_count": null,
<<<<<<< HEAD
<<<<<<< HEAD
   "id": "c0e226ad",
||||||| 00f6fb22
   "id": "8b099566",
=======
   "id": "eea41ba8",
>>>>>>> documentation-devel
||||||| d828f8eb
   "id": "c0e226ad",
=======
   "id": "e3ac3897",
>>>>>>> 6c25d2f1afd31725c9595ab9d8922b9d3c838629
   "metadata": {
    "lines_to_next_cell": 0
   },
   "outputs": [],
   "source": [
    "plotColGraph(sfe, colGraphName = \"knn10\", colGeometryName = 'centroids')"
   ]
  },
  {
   "cell_type": "markdown",
<<<<<<< HEAD
<<<<<<< HEAD
   "id": "c9f98b3b",
||||||| 00f6fb22
   "id": "a73c5550",
=======
   "id": "5a74ae19",
>>>>>>> documentation-devel
||||||| d828f8eb
   "id": "c9f98b3b",
=======
   "id": "e6bfca91",
>>>>>>> 6c25d2f1afd31725c9595ab9d8922b9d3c838629
   "metadata": {
    "lines_to_next_cell": 0
   },
   "source": [
    "Next, we will explore univariate metrics for global spatial autocorrelation. Since few genes are quantified in this study, we will compute the metrics for all genes. For larger datasets, it may be useful to restrict analysis to the most variable genes. \n",
    "\n",
    "We use the `runUnivariate()` function to compute the spatial autocorrelation metrics and save the results in the SFE object. "
   ]
  },
  {
   "cell_type": "code",
   "execution_count": null,
<<<<<<< HEAD
<<<<<<< HEAD
   "id": "288e0e36",
||||||| 00f6fb22
   "id": "54038ba5",
=======
   "id": "f48614a5",
>>>>>>> documentation-devel
||||||| d828f8eb
   "id": "288e0e36",
=======
   "id": "22280fe3",
>>>>>>> 6c25d2f1afd31725c9595ab9d8922b9d3c838629
   "metadata": {},
   "outputs": [],
   "source": [
    "sfe <- runUnivariate(\n",
    "    sfe, type = \"moran.mc\", features = rownames(sfe),\n",
    "    exprs_values = \"normalizedIntensity\", colGraphName = \"knn10\", nsim = 100,\n",
    "    BPPARAM = MulticoreParam(2))\n",
    "\n",
    "sfe <- runUnivariate(\n",
    "    sfe, type = \"moran.plot\", features = rownames(sfe),\n",
    "    exprs_values = \"normalizedIntensity\", colGraphName = \"knn10\")"
   ]
  },
  {
   "cell_type": "markdown",
<<<<<<< HEAD
<<<<<<< HEAD
   "id": "f592bcd0",
||||||| 00f6fb22
   "id": "d8f998c9",
=======
   "id": "48a5aa5a",
>>>>>>> documentation-devel
||||||| d828f8eb
   "id": "f592bcd0",
=======
   "id": "afeb370b",
>>>>>>> 6c25d2f1afd31725c9595ab9d8922b9d3c838629
   "metadata": {
    "lines_to_next_cell": 0
   },
   "source": [
    "The results of these computations are accessible in the `rowData` attribute of the SFE object. "
   ]
  },
  {
   "cell_type": "code",
   "execution_count": null,
<<<<<<< HEAD
<<<<<<< HEAD
   "id": "7912511f",
||||||| 00f6fb22
   "id": "f449f9ae",
=======
   "id": "fbd237f1",
>>>>>>> documentation-devel
||||||| d828f8eb
   "id": "7912511f",
=======
   "id": "89583242",
>>>>>>> 6c25d2f1afd31725c9595ab9d8922b9d3c838629
   "metadata": {
    "lines_to_next_cell": 0
   },
   "outputs": [],
   "source": [
    "colnames(rowData(sfe))"
   ]
  },
  {
   "cell_type": "markdown",
<<<<<<< HEAD
<<<<<<< HEAD
   "id": "775a9901",
||||||| 00f6fb22
   "id": "62339e1f",
=======
   "id": "6c95b1d4",
>>>>>>> documentation-devel
||||||| d828f8eb
   "id": "775a9901",
=======
   "id": "fffc9b54",
>>>>>>> 6c25d2f1afd31725c9595ab9d8922b9d3c838629
   "metadata": {
    "lines_to_next_cell": 0
   },
   "source": [
    "Next, we plot the results of the genes with the highest Moran's I statistic. "
   ]
  },
  {
   "cell_type": "code",
   "execution_count": null,
<<<<<<< HEAD
<<<<<<< HEAD
   "id": "1fdbc061",
||||||| 00f6fb22
   "id": "a015823e",
=======
   "id": "f47abb0e",
>>>>>>> documentation-devel
||||||| d828f8eb
   "id": "1fdbc061",
=======
   "id": "8abe8612",
>>>>>>> 6c25d2f1afd31725c9595ab9d8922b9d3c838629
   "metadata": {
    "lines_to_next_cell": 0
   },
   "outputs": [],
   "source": [
    "top_moran <- data.frame(rowData(sfe)) |>\n",
    "    arrange(desc(moran.mc_statistic_sample01)) |>\n",
    "    head(6) |> \n",
    "    rownames()\n",
    "\n",
    "moran <- plotMoranMC(sfe, features = top_moran, facet_by = 'features')\n",
    "moran"
   ]
  },
  {
   "cell_type": "markdown",
<<<<<<< HEAD
<<<<<<< HEAD
   "id": "ce1a7607",
||||||| 00f6fb22
   "id": "81d66f1d",
=======
   "id": "e4b72d0c",
>>>>>>> documentation-devel
||||||| d828f8eb
   "id": "ce1a7607",
=======
   "id": "bee5cc94",
>>>>>>> 6c25d2f1afd31725c9595ab9d8922b9d3c838629
   "metadata": {},
   "source": [
    "The vertical line in each plot represents the observed Moran's I while the density represents the Moran's I statistic for each of the random permutations of the data. Each of these plots suggests that the Moran's I statistic is significant. We can  plot the normalized intensity for these genes in space. "
   ]
  },
  {
   "cell_type": "code",
   "execution_count": null,
<<<<<<< HEAD
<<<<<<< HEAD
   "id": "209f95a7",
||||||| 00f6fb22
   "id": "3e925a2e",
=======
   "id": "0fa54ca1",
>>>>>>> documentation-devel
||||||| d828f8eb
   "id": "209f95a7",
=======
   "id": "4da47347",
>>>>>>> 6c25d2f1afd31725c9595ab9d8922b9d3c838629
   "metadata": {
    "fig.height": 7,
    "fig.width": 12,
    "lines_to_next_cell": 0
   },
   "outputs": [],
   "source": [
    "plotSpatialFeature(\n",
    "    sfe, features=top_moran, colGeometryName = \"centroids\",\n",
    "    exprs_values = \"normalizedIntensity\", scattermore = TRUE, pointsize = 1)"
   ]
  },
  {
   "cell_type": "markdown",
<<<<<<< HEAD
<<<<<<< HEAD
   "id": "7e3ea11b",
||||||| 00f6fb22
   "id": "a97b5205",
=======
   "id": "4f8568c1",
>>>>>>> documentation-devel
||||||| d828f8eb
   "id": "7e3ea11b",
=======
   "id": "394ab2a9",
>>>>>>> 6c25d2f1afd31725c9595ab9d8922b9d3c838629
   "metadata": {},
   "source": [
    "While most of these genes appear to have some spatial distribution, it also seems that it may overlap with cell type. The cells that appear to express the genes of interest seem to be spatially restricted to known boundaries in the tissue. \n",
    "\n",
    "The `moranPlot()` function plots spatial data against its spatially lagged values and enables users to assess how similar observed values are to its neighbors. When the variable is centered, the plot is divided into four quadrants defined by the horizontal line y = 0 and the vertical line x = 0. Points in the upper right (or high-high) and lower left (or low-low) quadrants indicate positive spatial association, and points in the lower right (or high-low) and upper left (or low-high) quadrants include observations that exhibit negative spatial association."
   ]
  },
  {
   "cell_type": "code",
   "execution_count": null,
<<<<<<< HEAD
<<<<<<< HEAD
   "id": "03d531fc",
||||||| 00f6fb22
   "id": "e55a1362",
=======
   "id": "879b67db",
>>>>>>> documentation-devel
||||||| d828f8eb
   "id": "03d531fc",
=======
   "id": "35d676b5",
>>>>>>> 6c25d2f1afd31725c9595ab9d8922b9d3c838629
   "metadata": {},
   "outputs": [],
   "source": [
    "moranPlot(sfe, top_moran[1])"
   ]
  },
  {
   "cell_type": "markdown",
<<<<<<< HEAD
<<<<<<< HEAD
   "id": "99101966",
||||||| 00f6fb22
   "id": "baf5c0bc",
=======
   "id": "95eb9781",
>>>>>>> documentation-devel
||||||| d828f8eb
   "id": "99101966",
=======
   "id": "c9a09706",
>>>>>>> 6c25d2f1afd31725c9595ab9d8922b9d3c838629
   "metadata": {},
   "source": [
    "# Differential Expression\n",
    "\n",
    "While Moran's I and other global spatial autocorrelation metrics provide insight to the spatial patterns of gene expression, it is necessarily limited by the structure imposed by the spatial weights matrix. A complimentary task might be to identify spatially variable (SV) genes. One such method to do this is described in [SpatialDE: identification of spatially variable genes](). The method described in the manuscript relies on Gaussian process regression and decomposes variability in expression into spatial and non-spatial components. In contrast to Moran's I, the covariance between each pair of cells is modeled as a function of the distance between them. Notably, it does not require an explicit specification of hte neighborhood graph, but rather the a parameter controls the decay in covariance as distance increases. \n",
    "\n",
    "The `spatialDE` package is implemented in R and requires a normalized matrix as input. The `spatialDE()` function from the package performs normalization steps before running the algorithm. Because the data has already been normalized, we will use the `run()` function directly to run spatialDE. We will first have to convert the centroid coordinates to a data frame as required by the function."
   ]
  },
  {
   "cell_type": "code",
   "execution_count": null,
<<<<<<< HEAD
<<<<<<< HEAD
   "id": "9c0363ec",
||||||| 00f6fb22
   "id": "c90b346f",
=======
   "id": "69b80281",
>>>>>>> documentation-devel
||||||| d828f8eb
   "id": "9c0363ec",
=======
   "id": "1ded4c32",
>>>>>>> 6c25d2f1afd31725c9595ab9d8922b9d3c838629
   "metadata": {},
   "outputs": [],
   "source": [
    "# Store coordinates in a data frame object\n",
    "coords <- centroids(sfe)$geometry |>\n",
    "    purrr::map_dfr(\\(x) c(x = x[1], y = x[2]))\n",
    "\n",
    "# de_res <- spatialDE::run(assay(sfe,\"normalizedIntensity\"), coords, verbose=TRUE)"
   ]
  },
  {
   "cell_type": "markdown",
<<<<<<< HEAD
<<<<<<< HEAD
   "id": "2eabb121",
||||||| 00f6fb22
   "id": "ca8cb9c6",
=======
   "id": "02c0817b",
>>>>>>> documentation-devel
||||||| d828f8eb
   "id": "2eabb121",
=======
   "id": "e871a319",
>>>>>>> 6c25d2f1afd31725c9595ab9d8922b9d3c838629
   "metadata": {
    "lines_to_next_cell": 0
   },
   "source": [
    "We can plot the normalized expression of the top 5 genes in space."
   ]
  },
  {
   "cell_type": "code",
   "execution_count": null,
<<<<<<< HEAD
<<<<<<< HEAD
   "id": "42dc924e",
||||||| 00f6fb22
   "id": "c3142085",
=======
   "id": "1999bda0",
>>>>>>> documentation-devel
||||||| d828f8eb
   "id": "42dc924e",
=======
   "id": "4cd70e08",
>>>>>>> 6c25d2f1afd31725c9595ab9d8922b9d3c838629
   "metadata": {},
   "outputs": [],
   "source": [
    "# top_genes <- de_res |>\n",
    "#   arrange(pval) |>\n",
    "#   slice_head(n=6) |>\n",
    "#   pull(g)\n",
    "# \n",
    "# plotSpatialFeature(sfe, top_genes, colGeometryName=\"centroids\",\n",
    "#                    exprs_values = \"normalizedIntensity\")"
   ]
  },
  {
   "cell_type": "markdown",
<<<<<<< HEAD
<<<<<<< HEAD
   "id": "31dfcd6a",
||||||| 00f6fb22
   "id": "6afa82f7",
=======
   "id": "6f7a5c3e",
>>>>>>> documentation-devel
||||||| d828f8eb
   "id": "31dfcd6a",
=======
   "id": "a7f35d70",
>>>>>>> 6c25d2f1afd31725c9595ab9d8922b9d3c838629
   "metadata": {
    "lines_to_next_cell": 0
   },
   "source": [
    "Perhaps unsurprisingly, the expression of the top DE genes seems to highlight the spatial distribution of known cell types in the tissue rather than identify spatially restricted gene expression. This is related to the experimental design where the targeted genes were chosen to differentiate cell types. Perhaps in genome-wide technologies, the potential for discovery of neew gene expression patterns is more plausible. There is an open question as to whether these results offer new information compared to what is inferred by typical DE expression methods.  \n",
    "\n",
    "These analyses represent a minority of the types of inferences that can be made from protein expression data. It would be interested to investigate how the protein expression results compare or inform data from spatail scRNA-sequencing experiments. Already, there is work being done to obtain multimodal spatial measurements on the same sample. Importantly however, considerations should be made on the types of biases each individual technology adds to the measurements. These are active areas of research that are ripe for future exploration. \n",
    "\n",
    "# Session Info"
   ]
  },
  {
   "cell_type": "code",
   "execution_count": null,
<<<<<<< HEAD
<<<<<<< HEAD
   "id": "ee08694d",
||||||| 00f6fb22
   "id": "3d6f1726",
=======
   "id": "93a0bf8b",
>>>>>>> documentation-devel
||||||| d828f8eb
   "id": "ee08694d",
=======
   "id": "d46d58b5",
>>>>>>> 6c25d2f1afd31725c9595ab9d8922b9d3c838629
   "metadata": {},
   "outputs": [],
   "source": [
    "sessionInfo()"
   ]
  },
  {
   "cell_type": "markdown",
<<<<<<< HEAD
<<<<<<< HEAD
   "id": "18849fff",
||||||| 00f6fb22
   "id": "e2cbfe74",
=======
   "id": "d67e892e",
>>>>>>> documentation-devel
||||||| d828f8eb
   "id": "18849fff",
=======
   "id": "8d1f04da",
>>>>>>> 6c25d2f1afd31725c9595ab9d8922b9d3c838629
   "metadata": {},
   "source": [
    "# References"
   ]
  }
 ],
 "metadata": {
  "kernelspec": {
   "display_name": "R",
   "language": "R",
   "name": "ir"
  }
 },
 "nbformat": 4,
 "nbformat_minor": 5
}
