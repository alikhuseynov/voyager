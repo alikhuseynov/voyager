{
 "cells": [
  {
   "cell_type": "raw",
<<<<<<< HEAD
<<<<<<< HEAD
   "id": "5311c3be",
||||||| merged common ancestors
   "id": "7595ebac",
=======
   "id": "c02e69ac",
>>>>>>> documentation-devel
||||||| f5a2d7c
   "id": "c02e69ac",
=======
   "id": "0d11367a",
>>>>>>> documentation-devel
   "metadata": {},
   "source": [
    "---\n",
    "title: \"CODEX exploratory data analysis\"\n",
    "author: \"Kayla Jackson\"\n",
    "date: \"`r Sys.Date()`\"\n",
    "output: \n",
    "  html_document:\n",
    "  toc: true\n",
    "  toc_float:\n",
    "    collapsed: false\n",
    "  toc_depth: 3\n",
    "bibliography: ref.bib\n",
    "vignette: >\n",
    "  %\\VignetteIndexEntry{codex_basic}\n",
    "  %\\VignetteEngine{knitr::rmarkdown}\n",
    "  %\\VignetteEncoding{UTF-8}\n",
    "---"
   ]
  },
  {
   "cell_type": "code",
   "execution_count": null,
<<<<<<< HEAD
<<<<<<< HEAD
   "id": "c1d36485",
||||||| merged common ancestors
   "id": "fef6d5fe",
=======
   "id": "577da009",
>>>>>>> documentation-devel
||||||| f5a2d7c
   "id": "577da009",
=======
   "id": "9d978cbe",
>>>>>>> documentation-devel
   "metadata": {
    "tags": [
     "remove_cell"
    ]
   },
   "outputs": [],
   "source": [
    "knitr::opts_chunk$set(\n",
    "  collapse = TRUE,\n",
    "  comment = \"#>\", fig.align = \"center\",\n",
    "  eval=TRUE\n",
    ")"
   ]
  },
  {
   "cell_type": "code",
   "execution_count": null,
<<<<<<< HEAD
<<<<<<< HEAD
   "id": "9e0e1401",
||||||| merged common ancestors
   "id": "61f48255",
=======
   "id": "1fab8370",
>>>>>>> documentation-devel
||||||| f5a2d7c
   "id": "1fab8370",
=======
   "id": "ea0673af",
>>>>>>> documentation-devel
   "metadata": {
    "eval": false,
    "tags": [
     "remove_cell"
    ]
   },
   "outputs": [],
   "source": [
    "# Install Google Colab dependencies\n",
    "# Note: this can take 30+ minutes (many of the dependencies include C++ code, which needs to be compiled)\n",
    "\n",
    "# First install `sf`, `ragg` and `textshaping` and their system dependencies:\n",
    "system(\"apt-get -y update && apt-get install -y  libudunits2-dev libgdal-dev libgeos-dev libproj-dev libharfbuzz-dev libfribidi-dev\")\n",
    "install.packages(\"sf\")\n",
    "install.packages(\"textshaping\")\n",
    "install.packages(\"ragg\")\n",
    "\n",
    "# Install system dependencies of some other R packages that Voyager either imports or suggests:\n",
    "system(\"apt-get install -y libfribidi-dev libcairo2-dev libmagick++-dev\")\n",
    "\n",
    "# Install Voyager from Bioconductor:\n",
    "install.packages(\"BiocManager\")\n",
    "BiocManager::install(version = \"3.17\", ask = FALSE, update = FALSE, Ncpus = 2)\n",
    "BiocManager::install(\"scater\")\n",
    "system.time(\n",
    "  BiocManager::install(\"Voyager\", dependencies = TRUE, Ncpus = 2, update = FALSE)\n",
    ")\n",
    "\n",
    "# Install additional dependencies for this vignette\n",
    "BiocManager::install(\"gghighlight\")\n",
    "BiocManager::install(\"batchelor\")\n",
    "BiocManager::install(\"spatialDE\")\n",
    "\n",
    "packageVersion(\"Voyager\")"
   ]
  },
  {
   "cell_type": "markdown",
<<<<<<< HEAD
<<<<<<< HEAD
   "id": "e0ca030d",
||||||| merged common ancestors
   "id": "798b317f",
=======
   "id": "b4571e17",
>>>>>>> documentation-devel
||||||| f5a2d7c
   "id": "b4571e17",
=======
   "id": "4ee04d6b",
>>>>>>> documentation-devel
   "metadata": {},
   "source": [
    "# Introduction"
   ]
  },
  {
   "cell_type": "code",
   "execution_count": null,
<<<<<<< HEAD
<<<<<<< HEAD
   "id": "55bf8073",
||||||| merged common ancestors
   "id": "2b4a7573",
=======
   "id": "fc6f6c9f",
>>>>>>> documentation-devel
||||||| f5a2d7c
   "id": "fc6f6c9f",
=======
   "id": "868dd517",
>>>>>>> documentation-devel
   "metadata": {
    "lines_to_next_cell": 0,
    "name": "setup"
   },
   "outputs": [],
   "source": [
    "library(Voyager)\n",
    "library(SingleCellExperiment)\n",
    "library(SpatialExperiment)\n",
    "library(SpatialFeatureExperiment)\n",
    "library(batchelor)\n",
    "library(scater)\n",
    "library(scran)\n",
    "library(bluster)\n",
    "library(glue)\n",
    "library(purrr)\n",
    "library(tidyr)\n",
    "library(dplyr)\n",
    "library(ggplot2)\n",
    "library(gghighlight)\n",
    "library(patchwork)\n",
    "library(spdep)\n",
    "library(spatialDE)\n",
    "library(BiocParallel)\n",
    "\n",
    "theme_set(theme_bw())"
   ]
  },
  {
   "cell_type": "markdown",
<<<<<<< HEAD
<<<<<<< HEAD
   "id": "96776331",
||||||| merged common ancestors
   "id": "c79ce066",
=======
   "id": "35dfa569",
>>>>>>> documentation-devel
||||||| f5a2d7c
   "id": "35dfa569",
=======
   "id": "1502c2d4",
>>>>>>> documentation-devel
   "metadata": {
    "lines_to_next_cell": 0
   },
   "source": [
    "# Dataset\n",
    "\n",
    "The dataset used in this vignette is from the paper [Strategies for Accurate Cell Type Identification in CODEX Multiplexed Imaging Data](doi.org/10.3389/fimmu.2021.727626)(Hickey, et.al 2021). The data were collected as part of the HuBMap consortium which seeks to characterize healthy human tissues and make data  broadly available. More specifically, this dataset characterizes 4 regions of the large intestine (colon) from a single donor. This vignette will focus on data from the sigmoid colon. \n",
    "\n",
    "The intestinal sections were interrogated using the multiplexed imaging method CO-Detection by indEXing (CODEX). CODEX involves cyclical staining of a tissue with DNA-barcoded antibodies. At each round of experimentation, fluoresently labeled probes hybridize to the tissue bound DNA-conjugated antibodies are subsequently imaged and the stripped from the tissue. At present, the technology quantifies up to 60 markers in a single experiment. Raw images generated from this process are subjected to image stitching, drift compensation, deconvolution, and cycle concatenation using publicly avaialable [software](https://github.com/nolanlab/CODEX). The result of this pre-processing is a matrix that contains the location of individual cells and the quantified markers for each cell. Cell types were assigned as described in the manuscript linked above. Briefly, the authors used a hand-gating strategy to define cell types and create a standard to compare the effect of normalization methods on clustering and cell annotation. \n",
    "\n",
    "The raw intensity data are available for download from HuBMAP with identifier [HBM575.THQMM.284](https://portal.hubmapconsortium.org/browse/dataset/e6fd525b837f4cf736c8af830f4f750f) and the cell type annotations are provided as supplementary data in the manuscript. The data relevant to this vignette have been converted to a `SFE` object and are available to download [here](https://caltech.box.com/public/static/zfr8l20450n2z28lnp0ugdj471ph9eyx) from Box.  \n",
    "\n",
    "These data will be submitted to the `SFEData` package on Bioconductor and will be available there in a future release. \n",
    "\n",
    "We will begin by downloading the data and loading it in to R. "
   ]
  },
  {
   "cell_type": "code",
   "execution_count": null,
<<<<<<< HEAD
<<<<<<< HEAD
   "id": "bce99fcb",
||||||| merged common ancestors
   "id": "67be146d",
=======
   "id": "a7b796e5",
>>>>>>> documentation-devel
||||||| f5a2d7c
   "id": "a7b796e5",
=======
   "id": "c13ec927",
>>>>>>> documentation-devel
   "metadata": {
    "lines_to_next_cell": 0
   },
   "outputs": [],
   "source": [
    "download.file(\"https://caltech.box.com/public/static/zfr8l20450n2z28lnp0ugdj471ph9eyx\",'./codex.Rds', mode='wb', method = 'wget', quiet = TRUE)\n",
    "\n",
    "sfe <- readRDS(\"./codex.Rds\")\n",
    "sfe"
   ]
  },
  {
   "cell_type": "markdown",
<<<<<<< HEAD
<<<<<<< HEAD
   "id": "304afc36",
||||||| merged common ancestors
   "id": "96fa45c7",
=======
   "id": "469213cb",
>>>>>>> documentation-devel
||||||| f5a2d7c
   "id": "469213cb",
=======
   "id": "ab0931ce",
>>>>>>> documentation-devel
   "metadata": {
    "lines_to_next_cell": 0
   },
   "source": [
    "The rows in the count matrix correspond to the 47 barcoded genes measured by CODEX. Additionally, the authors provide some metadata for the cells, including the cell type. \n",
    "\n",
    "It turns out the column names are not unique which will cause errors in downstream analysis. We will update the column names below"
   ]
  },
  {
   "cell_type": "code",
   "execution_count": null,
<<<<<<< HEAD
<<<<<<< HEAD
   "id": "6e976819",
||||||| merged common ancestors
   "id": "35a9219e",
=======
   "id": "b5b83c27",
>>>>>>> documentation-devel
||||||| f5a2d7c
   "id": "b5b83c27",
=======
   "id": "2a6003f6",
>>>>>>> documentation-devel
   "metadata": {
    "lines_to_next_cell": 0
   },
   "outputs": [],
   "source": [
    "cellids <- glue(\"{colData(sfe)$fn}_{colData(sfe)$cell_id}\")\n",
    "colnames(sfe) <- cellids"
   ]
  },
  {
   "cell_type": "markdown",
<<<<<<< HEAD
<<<<<<< HEAD
   "id": "f66240fc",
||||||| merged common ancestors
   "id": "ffdae4e4",
=======
   "id": "2beb7a54",
>>>>>>> documentation-devel
||||||| f5a2d7c
   "id": "2beb7a54",
=======
   "id": "b28071da",
>>>>>>> documentation-devel
   "metadata": {},
   "source": [
    "## Exploratory Data Analysis"
   ]
  },
  {
   "cell_type": "code",
   "execution_count": null,
<<<<<<< HEAD
<<<<<<< HEAD
   "id": "5194fef4",
||||||| merged common ancestors
   "id": "01c73b27",
=======
   "id": "91a23244",
>>>>>>> documentation-devel
||||||| f5a2d7c
   "id": "91a23244",
=======
   "id": "412ee7c2",
>>>>>>> documentation-devel
   "metadata": {
    "lines_to_next_cell": 0
   },
   "outputs": [],
   "source": [
    "celldensity <- plotCellBin2D(sfe)\n",
    "\n",
    "celldensity"
   ]
  },
  {
   "cell_type": "markdown",
<<<<<<< HEAD
<<<<<<< HEAD
   "id": "ca7d037b",
||||||| merged common ancestors
   "id": "962d74cd",
=======
   "id": "fbde2c5f",
>>>>>>> documentation-devel
||||||| f5a2d7c
   "id": "fbde2c5f",
=======
   "id": "404ec2fe",
>>>>>>> documentation-devel
   "metadata": {
    "lines_to_next_cell": 0
   },
   "source": [
    "We can see from the figure above that the colonic epithelium is enriched with cells while the loose connective tissue and muscle layers beneath the epithelial layer are more sparsely populated. This is in line with known colon histology. The epithelium is enriched with goblet cells and has invaginations that project inwards towards the connective tissue. Smooth muscle cells are also prominent in the colon, where bands of muscle contract to move colonic contents towards the rectum.  \n",
    "\n",
    "We can visualize these cell types in space using the `plotSpatialFeature()` function. We will highlight Goblet and smooth muscle cells to display their relative distribution in the tissue. Since CODEX image processing relies on segmentation, each dot in the plot represents a single cell. Here, each cell is represented by its centroid, but can also be visualized as cell polygons in cases where the segmentation mask is available.  "
   ]
  },
  {
   "cell_type": "code",
   "execution_count": null,
<<<<<<< HEAD
<<<<<<< HEAD
   "id": "0407d2de",
||||||| merged common ancestors
   "id": "c00db01c",
=======
   "id": "17b7535c",
>>>>>>> documentation-devel
||||||| f5a2d7c
   "id": "17b7535c",
=======
   "id": "a5c89025",
>>>>>>> documentation-devel
   "metadata": {
    "lines_to_next_cell": 0
   },
   "outputs": [],
   "source": [
    "spatial <- plotSpatialFeature(sfe, features='cell_type', colGeometryName = \"centroids\") +\n",
    "    gghighlight(cell_type %in% c(\"Goblet\", \"SmoothMuscleME\"))\n",
    "\n",
    "spatial"
   ]
  },
  {
   "cell_type": "markdown",
<<<<<<< HEAD
<<<<<<< HEAD
   "id": "e9baf0b4",
||||||| merged common ancestors
   "id": "93aeac71",
=======
   "id": "fdee7a7d",
>>>>>>> documentation-devel
||||||| f5a2d7c
   "id": "fdee7a7d",
=======
   "id": "feb0113e",
>>>>>>> documentation-devel
   "metadata": {
    "lines_to_next_cell": 0
   },
   "source": [
    "The goblet cells clearly define the epithelial border of the tissue and the thick bands of smooth muscle cells are prominent below the mucosa. \n",
    "\n",
    "Next, we will compute some gene level metrics for each of the 47 barcoded genes. In contrast to RNA-based methods, the fields in the matrix represent intensities rather than counts.  "
   ]
  },
  {
   "cell_type": "code",
   "execution_count": null,
<<<<<<< HEAD
<<<<<<< HEAD
   "id": "74caee19",
||||||| merged common ancestors
   "id": "f1323e6d",
=======
   "id": "7ea53060",
>>>>>>> documentation-devel
||||||| f5a2d7c
   "id": "7ea53060",
=======
   "id": "44cb25c6",
>>>>>>> documentation-devel
   "metadata": {
    "lines_to_next_cell": 0
   },
   "outputs": [],
   "source": [
    "rowData(sfe)$mean <- rowMeans(assay(sfe))\n",
    "rowData(sfe)$var <- rowVars(assay(sfe))\n",
    "\n",
    "data.frame(rowData(sfe)) |>\n",
    "    ggplot(aes(mean, var)) + \n",
    "    geom_point()"
   ]
  },
  {
   "cell_type": "markdown",
<<<<<<< HEAD
<<<<<<< HEAD
   "id": "d524557e",
||||||| merged common ancestors
   "id": "3f2a0ebc",
=======
   "id": "b2e99805",
>>>>>>> documentation-devel
||||||| f5a2d7c
   "id": "b2e99805",
=======
   "id": "8e7d1327",
>>>>>>> documentation-devel
   "metadata": {},
   "source": [
    "There appears to be a sigmoid relationship between the mean and variance of the protein expression. The pattern is reminiscent of what might be expected if the intensity values were derived from a Gamma distribution, the continuous analog of the Negative Binomial distribution that is typically used to describe count data from scRNA-seq experiments. This may have implications for how CODEX data is variance stabilized in the future. \n",
    "\n",
    "CODEX data is subject to noise from several sources including segmentation artifacts, nonspecific staining, and imperfect tissue processing. These are factors that can limit accurate quantification of signal intensity and impede accurate cell annotation. The authors of the dataset tested the effects of several normalization methods on cell type annotation and clustering and found that Z-score normalization of each marker resulted in accurate identification of both rare and common cell types. In the cell below, we demonstrate how to accomplish this using standard matrix operations. The normalized count matrix is typically stored in the `logcounts` slot for scRNA-seq data, but we will instead store the normalized matrix in a slot called `normalizedIntensity`. "
   ]
  },
  {
   "cell_type": "code",
   "execution_count": null,
<<<<<<< HEAD
<<<<<<< HEAD
   "id": "73343aa4",
||||||| merged common ancestors
   "id": "a2dea6ad",
=======
   "id": "780d041b",
>>>>>>> documentation-devel
||||||| f5a2d7c
   "id": "780d041b",
=======
   "id": "dea702ca",
>>>>>>> documentation-devel
   "metadata": {},
   "outputs": [],
   "source": [
    "mtx <- assay(sfe, 'protein')\n",
    "assay(sfe, 'normalizedIntensity') <- (mtx - rowMeans(mtx))/rowSds(mtx)\n",
    "\n",
    "assays(sfe)"
   ]
  },
  {
   "cell_type": "markdown",
<<<<<<< HEAD
<<<<<<< HEAD
   "id": "e6a091f9",
||||||| merged common ancestors
   "id": "709fe73b",
=======
   "id": "7add12dc",
>>>>>>> documentation-devel
||||||| f5a2d7c
   "id": "7add12dc",
=======
   "id": "5b36d49b",
>>>>>>> documentation-devel
   "metadata": {
    "lines_to_next_cell": 0
   },
   "source": [
    "# Spatial EDA\n",
    "\n",
    "Neighbor definition is a critical step in computation of metrics of spatial dependency like Moran's I and Geary's C. The definition of neighbors is complex, even when cell polygons are available. In the latter case, the `poly2nb` method might be appropriate to assign two cells as neighbors if they physically touch each other or share a border. This may not be tenable in cases where cells are sparse or cells are represented by their centroids, as in this dataset. \n",
    "\n",
    "We will compute the spatial neighborhood graph using the `knearestneigh` function as it is implemented in `spdep`. In brief, Euclidean distances are computed between each pair of cells and the `k` nearest cells are considered neighbors. In the following code cell, we will consdier `k=10` for speed purposes, but this may not be ideal in general. \n",
    "\n",
    "The weights of the neighborhood matrix are inverse-distance weighted, such that the the weight of regions listed as neighbors increases as the distance between pairs of points decreases. Setting `style = \"W\"` ensures that the weights are row standardized. "
   ]
  },
  {
   "cell_type": "code",
   "execution_count": null,
<<<<<<< HEAD
<<<<<<< HEAD
   "id": "49d6fe5c",
||||||| merged common ancestors
   "id": "d81bcf9f",
=======
   "id": "7b8fd635",
>>>>>>> documentation-devel
||||||| f5a2d7c
   "id": "7b8fd635",
=======
   "id": "a076ce05",
>>>>>>> documentation-devel
   "metadata": {},
   "outputs": [],
   "source": [
    "colGraph(sfe, \"knn10\") <- findSpatialNeighbors(\n",
    "    sfe, method = \"knearneigh\", dist_type = \"idw\", \n",
    "    k = 10, style = \"W\")"
   ]
  },
  {
   "cell_type": "markdown",
<<<<<<< HEAD
<<<<<<< HEAD
   "id": "fa13d937",
||||||| merged common ancestors
   "id": "ba8c4aca",
=======
   "id": "53e666ba",
>>>>>>> documentation-devel
||||||| f5a2d7c
   "id": "53e666ba",
=======
   "id": "ede0de1a",
>>>>>>> documentation-devel
   "metadata": {
    "lines_to_next_cell": 0
   },
   "source": [
    "The `plotColGraph()` function plots the graph in space along with its corresponding `colGeometry`, but since there are so many cells in this dataset, plotting the neighborhood graph may not be as useful as many connections will be obscure by overlapping lines. In any case, we will demonstrate use of the function below. "
   ]
  },
  {
   "cell_type": "code",
   "execution_count": null,
<<<<<<< HEAD
<<<<<<< HEAD
   "id": "10984129",
||||||| merged common ancestors
   "id": "83b7413a",
=======
   "id": "4f30fc74",
>>>>>>> documentation-devel
||||||| f5a2d7c
   "id": "4f30fc74",
=======
   "id": "33e576d6",
>>>>>>> documentation-devel
   "metadata": {
    "lines_to_next_cell": 0
   },
   "outputs": [],
   "source": [
    "plotColGraph(sfe, colGraphName = \"knn10\", colGeometryName = 'centroids')"
   ]
  },
  {
   "cell_type": "markdown",
<<<<<<< HEAD
<<<<<<< HEAD
   "id": "8e78c577",
||||||| merged common ancestors
   "id": "260a7113",
=======
   "id": "a0ce35ec",
>>>>>>> documentation-devel
||||||| f5a2d7c
   "id": "a0ce35ec",
=======
   "id": "efe09e6e",
>>>>>>> documentation-devel
   "metadata": {
    "lines_to_next_cell": 0
   },
   "source": [
    "Next, we will explore univariate metrics for global spatial autocorrelation. Since few genes are quantified in this study, we will compute the metrics for all genes. For larger datasets, it may be useful to restrict analysis to the most variable genes. \n",
    "\n",
    "We use the `runUnivariate()` function to compute the spatial autocorrelation metrics and save the results in the SFE object. "
   ]
  },
  {
   "cell_type": "code",
   "execution_count": null,
<<<<<<< HEAD
<<<<<<< HEAD
   "id": "67147b85",
||||||| merged common ancestors
   "id": "6298e77c",
=======
   "id": "8e51b0c8",
>>>>>>> documentation-devel
||||||| f5a2d7c
   "id": "8e51b0c8",
=======
   "id": "a45c8864",
>>>>>>> documentation-devel
   "metadata": {},
   "outputs": [],
   "source": [
    "sfe <- runUnivariate(\n",
    "    sfe, type = \"moran.mc\", features = rownames(sfe),\n",
    "    exprs_values = \"normalizedIntensity\", colGraphName = \"knn10\", nsim = 100,\n",
    "    BPPARAM = MulticoreParam(2))\n",
    "\n",
    "sfe <- runUnivariate(\n",
    "    sfe, type = \"moran.plot\", features = rownames(sfe),\n",
    "    exprs_values = \"normalizedIntensity\", colGraphName = \"knn10\")"
   ]
  },
  {
   "cell_type": "markdown",
<<<<<<< HEAD
<<<<<<< HEAD
   "id": "f655bb79",
||||||| merged common ancestors
   "id": "2dc460b4",
=======
   "id": "610711f5",
>>>>>>> documentation-devel
||||||| f5a2d7c
   "id": "610711f5",
=======
   "id": "d9b80b9b",
>>>>>>> documentation-devel
   "metadata": {
    "lines_to_next_cell": 0
   },
   "source": [
    "The results of these computations are accessible in the `rowData` attribute of the SFE object. "
   ]
  },
  {
   "cell_type": "code",
   "execution_count": null,
<<<<<<< HEAD
<<<<<<< HEAD
   "id": "13d8e142",
||||||| merged common ancestors
   "id": "f75a92a4",
=======
   "id": "dc6c9407",
>>>>>>> documentation-devel
||||||| f5a2d7c
   "id": "dc6c9407",
=======
   "id": "4b3de4d2",
>>>>>>> documentation-devel
   "metadata": {
    "lines_to_next_cell": 0
   },
   "outputs": [],
   "source": [
    "colnames(rowData(sfe))"
   ]
  },
  {
   "cell_type": "markdown",
<<<<<<< HEAD
<<<<<<< HEAD
   "id": "fdfcec67",
||||||| merged common ancestors
   "id": "8b3479d9",
=======
   "id": "21ad3c39",
>>>>>>> documentation-devel
||||||| f5a2d7c
   "id": "21ad3c39",
=======
   "id": "932e3384",
>>>>>>> documentation-devel
   "metadata": {
    "lines_to_next_cell": 0
   },
   "source": [
    "Next, we plot the results of the genes with the highest Moran's I statistic. "
   ]
  },
  {
   "cell_type": "code",
   "execution_count": null,
<<<<<<< HEAD
<<<<<<< HEAD
   "id": "4541b12b",
||||||| merged common ancestors
   "id": "5c10f1d2",
=======
   "id": "f515bd12",
>>>>>>> documentation-devel
||||||| f5a2d7c
   "id": "f515bd12",
=======
   "id": "12222c78",
>>>>>>> documentation-devel
   "metadata": {
    "lines_to_next_cell": 0
   },
   "outputs": [],
   "source": [
    "top_moran <- data.frame(rowData(sfe)) |>\n",
    "    arrange(desc(moran.mc_statistic_sample01)) |>\n",
    "    head(6) |> \n",
    "    rownames()\n",
    "\n",
    "moran <- plotMoranMC(sfe, features = top_moran, facet_by = 'features')\n",
    "moran"
   ]
  },
  {
   "cell_type": "markdown",
<<<<<<< HEAD
<<<<<<< HEAD
   "id": "97017107",
||||||| merged common ancestors
   "id": "2aadde11",
=======
   "id": "6c7e0271",
>>>>>>> documentation-devel
||||||| f5a2d7c
   "id": "6c7e0271",
=======
   "id": "dfcccb22",
>>>>>>> documentation-devel
   "metadata": {},
   "source": [
    "The vertical line in each plot represents the observed Moran's I while the density represents the Moran's I statistic for each of the random permutations of the data. Each of these plots suggests that the Moran's I statistic is significant. We can  plot the normalized intensity for these genes in space. "
   ]
  },
  {
   "cell_type": "code",
   "execution_count": null,
<<<<<<< HEAD
<<<<<<< HEAD
   "id": "0f9a3fd8",
||||||| merged common ancestors
   "id": "d0f06be6",
=======
   "id": "dbe47aba",
>>>>>>> documentation-devel
||||||| f5a2d7c
   "id": "dbe47aba",
=======
   "id": "6dea157f",
>>>>>>> documentation-devel
   "metadata": {
    "fig.height": 7,
    "fig.width": 12,
    "lines_to_next_cell": 0
   },
   "outputs": [],
   "source": [
    "plotSpatialFeature(\n",
    "    sfe, features=top_moran, colGeometryName = \"centroids\",\n",
    "    exprs_values = \"normalizedIntensity\", scattermore = TRUE, pointsize = 1)"
   ]
  },
  {
   "cell_type": "markdown",
<<<<<<< HEAD
<<<<<<< HEAD
   "id": "51eabac2",
||||||| merged common ancestors
   "id": "79375c38",
=======
   "id": "b1c3b97f",
>>>>>>> documentation-devel
||||||| f5a2d7c
   "id": "b1c3b97f",
=======
   "id": "ccf27438",
>>>>>>> documentation-devel
   "metadata": {},
   "source": [
    "While most of these genes appear to have some spatial distribution, it also seems that it may overlap with cell type. The cells that appear to express the genes of interest seem to be spatially restricted to known boundaries in the tissue. \n",
    "\n",
    "The `moranPlot()` function plots spatial data against its spatially lagged values and enables users to assess how similar observed values are to its neighbors. When the variable is centered, the plot is divided into four quadrants defined by the horizontal line y = 0 and the vertical line x = 0. Points in the upper right (or high-high) and lower left (or low-low) quadrants indicate positive spatial association, and points in the lower right (or high-low) and upper left (or low-high) quadrants include observations that exhibit negative spatial association."
   ]
  },
  {
   "cell_type": "code",
   "execution_count": null,
<<<<<<< HEAD
<<<<<<< HEAD
   "id": "17a43137",
||||||| merged common ancestors
   "id": "ae3e2108",
=======
   "id": "2e2fcf37",
>>>>>>> documentation-devel
||||||| f5a2d7c
   "id": "2e2fcf37",
=======
   "id": "f7196f6d",
>>>>>>> documentation-devel
   "metadata": {},
   "outputs": [],
   "source": [
    "moranPlot(sfe, top_moran[1])"
   ]
  },
  {
   "cell_type": "markdown",
<<<<<<< HEAD
<<<<<<< HEAD
   "id": "2f43d367",
||||||| merged common ancestors
   "id": "d2fb294a",
=======
   "id": "5917ed55",
>>>>>>> documentation-devel
||||||| f5a2d7c
   "id": "5917ed55",
=======
   "id": "fa13aa16",
>>>>>>> documentation-devel
   "metadata": {},
   "source": [
    "# Differential Expression\n",
    "\n",
    "While Moran's I and other global spatial autocorrelation metrics provide insight to the spatial patterns of gene expression, it is necessarily limited by the structure imposed by the spatial weights matrix. A complimentary task might be to identify spatially variable (SV) genes. One such method to do this is described in [SpatialDE: identification of spatially variable genes](). The method described in the manuscript relies on Gaussian process regression and decomposes variability in expression into spatial and non-spatial components. In contrast to Moran's I, the covariance between each pair of cells is modeled as a function of the distance between them. Notably, it does not require an explicit specification of hte neighborhood graph, but rather the a parameter controls the decay in covariance as distance increases. \n",
    "\n",
    "The `spatialDE` package is implemented in R and requires a normalized matrix as input. The `spatialDE()` function from the package performs normalization steps before running the algorithm. Because the data has already been normalized, we will use the `run()` function directly to run spatialDE. We will first have to convert the centroid coordinates to a data frame as required by the function."
   ]
  },
  {
   "cell_type": "code",
   "execution_count": null,
<<<<<<< HEAD
<<<<<<< HEAD
   "id": "ce431944",
||||||| merged common ancestors
   "id": "06d4605f",
=======
   "id": "e0882ca6",
>>>>>>> documentation-devel
||||||| f5a2d7c
   "id": "e0882ca6",
=======
   "id": "07a403d7",
>>>>>>> documentation-devel
   "metadata": {},
   "outputs": [],
   "source": [
    "# Store coordinates in a data frame object\n",
    "coords <- centroids(sfe)$geometry |>\n",
    "    purrr::map_dfr(\\(x) c(x = x[1], y = x[2]))\n",
    "\n",
    "# de_res <- spatialDE::run(assay(sfe,\"normalizedIntensity\"), coords, verbose=TRUE)"
   ]
  },
  {
   "cell_type": "markdown",
<<<<<<< HEAD
<<<<<<< HEAD
   "id": "7a3a37e3",
||||||| merged common ancestors
   "id": "bf054388",
=======
   "id": "abff0140",
>>>>>>> documentation-devel
||||||| f5a2d7c
   "id": "abff0140",
=======
   "id": "d79809c3",
>>>>>>> documentation-devel
   "metadata": {
    "lines_to_next_cell": 0
   },
   "source": [
    "We can plot the normalized expression of the top 5 genes in space."
   ]
  },
  {
   "cell_type": "code",
   "execution_count": null,
<<<<<<< HEAD
<<<<<<< HEAD
   "id": "239bef19",
||||||| merged common ancestors
   "id": "921ae92f",
=======
   "id": "71843d45",
>>>>>>> documentation-devel
||||||| f5a2d7c
   "id": "71843d45",
=======
   "id": "20d2fc8f",
>>>>>>> documentation-devel
   "metadata": {},
   "outputs": [],
   "source": [
    "# top_genes <- de_res |>\n",
    "#   arrange(pval) |>\n",
    "#   slice_head(n=6) |>\n",
    "#   pull(g)\n",
    "# \n",
    "# plotSpatialFeature(sfe, top_genes, colGeometryName=\"centroids\",\n",
    "#                    exprs_values = \"normalizedIntensity\")"
   ]
  },
  {
   "cell_type": "markdown",
<<<<<<< HEAD
<<<<<<< HEAD
   "id": "69e46f68",
||||||| merged common ancestors
   "id": "1d5fd2cb",
=======
   "id": "813c6c46",
>>>>>>> documentation-devel
||||||| f5a2d7c
   "id": "813c6c46",
=======
   "id": "03a7a5c8",
>>>>>>> documentation-devel
   "metadata": {
    "lines_to_next_cell": 0
   },
   "source": [
    "Perhaps unsurprisingly, the expression of the top DE genes seems to highlight the spatial distribution of known cell types in the tissue rather than identify spatially restricted gene expression. This is related to the experimental design where the targeted genes were chosen to differentiate cell types. Perhaps in genome-wide technologies, the potential for discovery of neew gene expression patterns is more plausible. There is an open question as to whether these results offer new information compared to what is inferred by typical DE expression methods.  \n",
    "\n",
    "These analyses represent a minority of the types of inferences that can be made from protein expression data. It would be interested to investigate how the protein expression results compare or inform data from spatail scRNA-sequencing experiments. Already, there is work being done to obtain multimodal spatial measurements on the same sample. Importantly however, considerations should be made on the types of biases each individual technology adds to the measurements. These are active areas of research that are ripe for future exploration. \n",
    "\n",
    "# Session Info"
   ]
  },
  {
   "cell_type": "code",
   "execution_count": null,
<<<<<<< HEAD
<<<<<<< HEAD
   "id": "32650e8d",
||||||| merged common ancestors
   "id": "8aa6b4af",
=======
   "id": "c78c4e08",
>>>>>>> documentation-devel
||||||| f5a2d7c
   "id": "c78c4e08",
=======
   "id": "d19be864",
>>>>>>> documentation-devel
   "metadata": {},
   "outputs": [],
   "source": [
    "sessionInfo()"
   ]
  },
  {
   "cell_type": "markdown",
<<<<<<< HEAD
<<<<<<< HEAD
   "id": "a802265f",
||||||| merged common ancestors
   "id": "03183fdb",
=======
   "id": "6a8215c5",
>>>>>>> documentation-devel
||||||| f5a2d7c
   "id": "6a8215c5",
=======
   "id": "32b96aa4",
>>>>>>> documentation-devel
   "metadata": {},
   "source": [
    "# References"
   ]
  }
 ],
 "metadata": {
  "kernelspec": {
   "display_name": "R",
   "language": "R",
   "name": "ir"
  }
 },
 "nbformat": 4,
 "nbformat_minor": 5
}
