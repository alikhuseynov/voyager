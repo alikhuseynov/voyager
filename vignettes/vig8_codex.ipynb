{
 "cells": [
  {
   "cell_type": "raw",
<<<<<<< HEAD
<<<<<<< HEAD
<<<<<<< HEAD
<<<<<<< HEAD
   "id": "95dabc23",
||||||| 6a30bf1
   "id": "c1bf8086",
=======
   "id": "5bb09c36",
>>>>>>> documentation-devel
||||||| d28b18c
   "id": "5bb09c36",
=======
   "id": "f17555b2",
>>>>>>> documentation-devel
||||||| 6893f63
<<<<<<< HEAD
   "id": "95dabc23",
||||||| 6a30bf1
   "id": "c1bf8086",
=======
   "id": "5bb09c36",
>>>>>>> documentation-devel
=======
   "id": "5e93ff97",
>>>>>>> c74c98c2450c2a1ba922ed9442f136238d6bc88b
||||||| 6d93b645
   "id": "f17555b2",
=======
   "id": "0ac19df4",
>>>>>>> documentation-devel
   "metadata": {},
   "source": [
    "---\n",
    "title: \"CODEX exploratory data analysis\"\n",
    "author: \"Kayla Jackson\"\n",
    "date: \"`r Sys.Date()`\"\n",
    "output: \n",
    "  html_document:\n",
    "  toc: true\n",
    "  toc_float:\n",
    "    collapsed: false\n",
    "  toc_depth: 3\n",
    "bibliography: ref.bib\n",
    "vignette: >\n",
    "  %\\VignetteIndexEntry{codex_basic}\n",
    "  %\\VignetteEngine{knitr::rmarkdown}\n",
    "  %\\VignetteEncoding{UTF-8}\n",
    "---"
   ]
  },
  {
   "cell_type": "code",
   "execution_count": null,
<<<<<<< HEAD
<<<<<<< HEAD
<<<<<<< HEAD
<<<<<<< HEAD
   "id": "1325bda5",
||||||| 6a30bf1
   "id": "cbbb210d",
=======
   "id": "3f2e347e",
>>>>>>> documentation-devel
||||||| d28b18c
   "id": "3f2e347e",
=======
   "id": "c5944fe8",
>>>>>>> documentation-devel
||||||| 6893f63
<<<<<<< HEAD
   "id": "1325bda5",
||||||| 6a30bf1
   "id": "cbbb210d",
=======
   "id": "3f2e347e",
>>>>>>> documentation-devel
=======
   "id": "4dbc419f",
>>>>>>> c74c98c2450c2a1ba922ed9442f136238d6bc88b
||||||| 6d93b645
   "id": "c5944fe8",
=======
   "id": "eca1252c",
>>>>>>> documentation-devel
   "metadata": {
    "tags": [
     "remove_cell"
    ]
   },
   "outputs": [],
   "source": [
    "knitr::opts_chunk$set(\n",
    "  collapse = TRUE,\n",
    "  comment = \"#>\", fig.align = \"center\",\n",
    "  eval=TRUE\n",
    ")"
   ]
  },
  {
   "cell_type": "code",
   "execution_count": null,
<<<<<<< HEAD
<<<<<<< HEAD
<<<<<<< HEAD
<<<<<<< HEAD
   "id": "0504cfea",
||||||| 6a30bf1
   "id": "15439e69",
=======
   "id": "e751927c",
>>>>>>> documentation-devel
||||||| d28b18c
   "id": "e751927c",
=======
   "id": "62458cbf",
>>>>>>> documentation-devel
||||||| 6893f63
<<<<<<< HEAD
   "id": "0504cfea",
||||||| 6a30bf1
   "id": "15439e69",
=======
   "id": "e751927c",
>>>>>>> documentation-devel
=======
   "id": "095d2015",
>>>>>>> c74c98c2450c2a1ba922ed9442f136238d6bc88b
||||||| 6d93b645
   "id": "62458cbf",
=======
   "id": "be860aea",
>>>>>>> documentation-devel
   "metadata": {
    "eval": false,
    "tags": [
     "remove_cell"
    ]
   },
   "outputs": [],
   "source": [
    "# Install Google Colab dependencies\n",
    "# Note: this can take 30+ minutes (many of the dependencies include C++ code, which needs to be compiled)\n",
    "\n",
    "# First install `sf`, `ragg` and `textshaping` and their system dependencies:\n",
    "system(\"apt-get -y update && apt-get install -y  libudunits2-dev libgdal-dev libgeos-dev libproj-dev libharfbuzz-dev libfribidi-dev\")\n",
    "install.packages(\"sf\")\n",
    "install.packages(\"textshaping\")\n",
    "install.packages(\"ragg\")\n",
    "\n",
    "# Install system dependencies of some other R packages that Voyager either imports or suggests:\n",
    "system(\"apt-get install -y libfribidi-dev libcairo2-dev libmagick++-dev\")\n",
    "\n",
    "# Install Voyager from Bioconductor:\n",
    "install.packages(\"BiocManager\")\n",
    "BiocManager::install(version = \"3.17\", ask = FALSE, update = FALSE, Ncpus = 2)\n",
    "BiocManager::install(\"scater\")\n",
    "system.time(\n",
    "  BiocManager::install(\"Voyager\", dependencies = TRUE, Ncpus = 2, update = FALSE)\n",
    ")\n",
    "\n",
    "# Install additional dependencies for this vignette\n",
    "BiocManager::install(\"gghighlight\")\n",
    "BiocManager::install(\"batchelor\")\n",
    "BiocManager::install(\"spatialDE\")\n",
    "\n",
    "packageVersion(\"Voyager\")"
   ]
  },
  {
   "cell_type": "markdown",
<<<<<<< HEAD
<<<<<<< HEAD
<<<<<<< HEAD
<<<<<<< HEAD
   "id": "226bf695",
||||||| 6a30bf1
   "id": "9e778d22",
=======
   "id": "2d6d0ace",
>>>>>>> documentation-devel
||||||| d28b18c
   "id": "2d6d0ace",
=======
   "id": "f71601a2",
>>>>>>> documentation-devel
||||||| 6893f63
<<<<<<< HEAD
   "id": "226bf695",
||||||| 6a30bf1
   "id": "9e778d22",
=======
   "id": "2d6d0ace",
>>>>>>> documentation-devel
=======
   "id": "ac89fd2f",
>>>>>>> c74c98c2450c2a1ba922ed9442f136238d6bc88b
||||||| 6d93b645
   "id": "f71601a2",
=======
   "id": "6fdaeab0",
>>>>>>> documentation-devel
   "metadata": {},
   "source": [
    "# Introduction"
   ]
  },
  {
   "cell_type": "code",
   "execution_count": null,
<<<<<<< HEAD
<<<<<<< HEAD
<<<<<<< HEAD
<<<<<<< HEAD
   "id": "3f0cd9c1",
||||||| 6a30bf1
   "id": "0d57698b",
=======
   "id": "b2f1b013",
>>>>>>> documentation-devel
||||||| d28b18c
   "id": "b2f1b013",
=======
   "id": "4082e9c5",
>>>>>>> documentation-devel
||||||| 6893f63
<<<<<<< HEAD
   "id": "3f0cd9c1",
||||||| 6a30bf1
   "id": "0d57698b",
=======
   "id": "b2f1b013",
>>>>>>> documentation-devel
=======
   "id": "b5a17ffd",
>>>>>>> c74c98c2450c2a1ba922ed9442f136238d6bc88b
||||||| 6d93b645
   "id": "4082e9c5",
=======
   "id": "bc4924aa",
>>>>>>> documentation-devel
   "metadata": {
    "lines_to_next_cell": 0,
    "name": "setup"
   },
   "outputs": [],
   "source": [
    "library(Voyager)\n",
    "library(SingleCellExperiment)\n",
    "library(SpatialExperiment)\n",
    "library(SpatialFeatureExperiment)\n",
    "library(batchelor)\n",
    "library(scater)\n",
    "library(scran)\n",
    "library(bluster)\n",
    "library(glue)\n",
    "library(purrr)\n",
    "library(tidyr)\n",
    "library(dplyr)\n",
    "library(ggplot2)\n",
    "library(gghighlight)\n",
    "library(patchwork)\n",
    "library(spdep)\n",
    "library(spatialDE)\n",
    "library(BiocParallel)\n",
    "\n",
    "theme_set(theme_bw())"
   ]
  },
  {
   "cell_type": "markdown",
<<<<<<< HEAD
<<<<<<< HEAD
<<<<<<< HEAD
<<<<<<< HEAD
   "id": "95b9de92",
||||||| 6a30bf1
   "id": "9436f19b",
=======
   "id": "1bb9c994",
>>>>>>> documentation-devel
||||||| d28b18c
   "id": "1bb9c994",
=======
   "id": "e6064ede",
>>>>>>> documentation-devel
||||||| 6893f63
<<<<<<< HEAD
   "id": "95b9de92",
||||||| 6a30bf1
   "id": "9436f19b",
=======
   "id": "1bb9c994",
>>>>>>> documentation-devel
=======
   "id": "42b4c52a",
>>>>>>> c74c98c2450c2a1ba922ed9442f136238d6bc88b
||||||| 6d93b645
   "id": "e6064ede",
=======
   "id": "da488a43",
>>>>>>> documentation-devel
   "metadata": {
    "lines_to_next_cell": 0
   },
   "source": [
    "# Dataset\n",
    "\n",
    "The dataset used in this vignette is from the paper [Strategies for Accurate Cell Type Identification in CODEX Multiplexed Imaging Data](doi.org/10.3389/fimmu.2021.727626)(Hickey, et.al 2021). The data were collected as part of the HuBMap consortium which seeks to characterize healthy human tissues and make data  broadly available. More specifically, this dataset characterizes 4 regions of the large intestine (colon) from a single donor. This vignette will focus on data from the sigmoid colon. \n",
    "\n",
    "The intestinal sections were interrogated using the multiplexed imaging method CO-Detection by indEXing (CODEX). CODEX involves cyclical staining of a tissue with DNA-barcoded antibodies. At each round of experimentation, fluoresently labeled probes hybridize to the tissue bound DNA-conjugated antibodies are subsequently imaged and the stripped from the tissue. At present, the technology quantifies up to 60 markers in a single experiment. Raw images generated from this process are subjected to image stitching, drift compensation, deconvolution, and cycle concatenation using publicly avaialable [software](https://github.com/nolanlab/CODEX). The result of this pre-processing is a matrix that contains the location of individual cells and the quantified markers for each cell. Cell types were assigned as described in the manuscript linked above. Briefly, the authors used a hand-gating strategy to define cell types and create a standard to compare the effect of normalization methods on clustering and cell annotation. \n",
    "\n",
    "The raw intensity data are available for download from HuBMAP with identifier [HBM575.THQMM.284](https://portal.hubmapconsortium.org/browse/dataset/e6fd525b837f4cf736c8af830f4f750f) and the cell type annotations are provided as supplementary data in the manuscript. The data relevant to this vignette have been converted to a `SFE` object and are available to download [here](https://caltech.box.com/public/static/zfr8l20450n2z28lnp0ugdj471ph9eyx) from Box.  \n",
    "\n",
    "These data will be submitted to the `SFEData` package on Bioconductor and will be available there in a future release. \n",
    "\n",
    "We will begin by downloading the data and loading it in to R. "
   ]
  },
  {
   "cell_type": "code",
   "execution_count": null,
<<<<<<< HEAD
<<<<<<< HEAD
<<<<<<< HEAD
<<<<<<< HEAD
   "id": "b1ba7953",
||||||| 6a30bf1
   "id": "0bb4b892",
=======
   "id": "26fde99e",
>>>>>>> documentation-devel
||||||| d28b18c
   "id": "26fde99e",
=======
   "id": "1dd2f102",
>>>>>>> documentation-devel
||||||| 6893f63
<<<<<<< HEAD
   "id": "b1ba7953",
||||||| 6a30bf1
   "id": "0bb4b892",
=======
   "id": "26fde99e",
>>>>>>> documentation-devel
=======
   "id": "76c02c94",
>>>>>>> c74c98c2450c2a1ba922ed9442f136238d6bc88b
||||||| 6d93b645
   "id": "1dd2f102",
=======
   "id": "d2cc3174",
>>>>>>> documentation-devel
   "metadata": {
    "lines_to_next_cell": 0
   },
   "outputs": [],
   "source": [
    "download.file(\"https://caltech.box.com/public/static/zfr8l20450n2z28lnp0ugdj471ph9eyx\",'./codex.Rds', mode='wb', method = 'wget', quiet = TRUE)\n",
    "\n",
    "sfe <- readRDS(\"./codex.Rds\")\n",
    "sfe"
   ]
  },
  {
   "cell_type": "markdown",
<<<<<<< HEAD
<<<<<<< HEAD
<<<<<<< HEAD
<<<<<<< HEAD
   "id": "70b78ab5",
||||||| 6a30bf1
   "id": "84c4d5e5",
=======
   "id": "afcc09b3",
>>>>>>> documentation-devel
||||||| d28b18c
   "id": "afcc09b3",
=======
   "id": "bd6fec88",
>>>>>>> documentation-devel
||||||| 6893f63
<<<<<<< HEAD
   "id": "70b78ab5",
||||||| 6a30bf1
   "id": "84c4d5e5",
=======
   "id": "afcc09b3",
>>>>>>> documentation-devel
=======
   "id": "f66a4894",
>>>>>>> c74c98c2450c2a1ba922ed9442f136238d6bc88b
||||||| 6d93b645
   "id": "bd6fec88",
=======
   "id": "3e9af237",
>>>>>>> documentation-devel
   "metadata": {
    "lines_to_next_cell": 0
   },
   "source": [
    "The rows in the count matrix correspond to the 47 barcoded genes measured by CODEX. Additionally, the authors provide some metadata for the cells, including the cell type. \n",
    "\n",
    "It turns out the column names are not unique which will cause errors in downstream analysis. We will update the column names below"
   ]
  },
  {
   "cell_type": "code",
   "execution_count": null,
<<<<<<< HEAD
<<<<<<< HEAD
<<<<<<< HEAD
<<<<<<< HEAD
   "id": "1d1f4a39",
||||||| 6a30bf1
   "id": "925aef81",
=======
   "id": "327c0642",
>>>>>>> documentation-devel
||||||| d28b18c
   "id": "327c0642",
=======
   "id": "34278ce2",
>>>>>>> documentation-devel
||||||| 6893f63
<<<<<<< HEAD
   "id": "1d1f4a39",
||||||| 6a30bf1
   "id": "925aef81",
=======
   "id": "327c0642",
>>>>>>> documentation-devel
=======
   "id": "6d4a87a7",
>>>>>>> c74c98c2450c2a1ba922ed9442f136238d6bc88b
||||||| 6d93b645
   "id": "34278ce2",
=======
   "id": "596dfc1a",
>>>>>>> documentation-devel
   "metadata": {
    "lines_to_next_cell": 0
   },
   "outputs": [],
   "source": [
    "cellids <- glue(\"{colData(sfe)$fn}_{colData(sfe)$cell_id}\")\n",
    "colnames(sfe) <- cellids"
   ]
  },
  {
   "cell_type": "markdown",
<<<<<<< HEAD
<<<<<<< HEAD
<<<<<<< HEAD
<<<<<<< HEAD
   "id": "4300cfe3",
||||||| 6a30bf1
   "id": "6e75bfd1",
=======
   "id": "1cb43a32",
>>>>>>> documentation-devel
||||||| d28b18c
   "id": "1cb43a32",
=======
   "id": "9a54d307",
>>>>>>> documentation-devel
||||||| 6893f63
<<<<<<< HEAD
   "id": "4300cfe3",
||||||| 6a30bf1
   "id": "6e75bfd1",
=======
   "id": "1cb43a32",
>>>>>>> documentation-devel
=======
   "id": "a915f6c5",
>>>>>>> c74c98c2450c2a1ba922ed9442f136238d6bc88b
||||||| 6d93b645
   "id": "9a54d307",
=======
   "id": "1f11148f",
>>>>>>> documentation-devel
   "metadata": {},
   "source": [
    "## Exploratory Data Analysis"
   ]
  },
  {
   "cell_type": "code",
   "execution_count": null,
<<<<<<< HEAD
<<<<<<< HEAD
<<<<<<< HEAD
<<<<<<< HEAD
   "id": "43fd0c4a",
||||||| 6a30bf1
   "id": "59fd30cf",
=======
   "id": "7e349834",
>>>>>>> documentation-devel
||||||| d28b18c
   "id": "7e349834",
=======
   "id": "593689c6",
>>>>>>> documentation-devel
||||||| 6893f63
<<<<<<< HEAD
   "id": "43fd0c4a",
||||||| 6a30bf1
   "id": "59fd30cf",
=======
   "id": "7e349834",
>>>>>>> documentation-devel
=======
   "id": "979c251f",
>>>>>>> c74c98c2450c2a1ba922ed9442f136238d6bc88b
||||||| 6d93b645
   "id": "593689c6",
=======
   "id": "ffd04d10",
>>>>>>> documentation-devel
   "metadata": {
    "lines_to_next_cell": 0
   },
   "outputs": [],
   "source": [
    "celldensity <- plotCellBin2D(sfe)\n",
    "\n",
    "celldensity"
   ]
  },
  {
   "cell_type": "markdown",
<<<<<<< HEAD
<<<<<<< HEAD
<<<<<<< HEAD
<<<<<<< HEAD
   "id": "fa2ec90e",
||||||| 6a30bf1
   "id": "b7adee1f",
=======
   "id": "49e50d34",
>>>>>>> documentation-devel
||||||| d28b18c
   "id": "49e50d34",
=======
   "id": "17ea969c",
>>>>>>> documentation-devel
||||||| 6893f63
<<<<<<< HEAD
   "id": "fa2ec90e",
||||||| 6a30bf1
   "id": "b7adee1f",
=======
   "id": "49e50d34",
>>>>>>> documentation-devel
=======
   "id": "e6283261",
>>>>>>> c74c98c2450c2a1ba922ed9442f136238d6bc88b
||||||| 6d93b645
   "id": "17ea969c",
=======
   "id": "837fcb35",
>>>>>>> documentation-devel
   "metadata": {
    "lines_to_next_cell": 0
   },
   "source": [
    "We can see from the figure above that the colonic epithelium is enriched with cells while the loose connective tissue and muscle layers beneath the epithelial layer are more sparsely populated. This is in line with known colon histology. The epithelium is enriched with goblet cells and has invaginations that project inwards towards the connective tissue. Smooth muscle cells are also prominent in the colon, where bands of muscle contract to move colonic contents towards the rectum.  \n",
    "\n",
    "We can visualize these cell types in space using the `plotSpatialFeature()` function. We will highlight Goblet and smooth muscle cells to display their relative distribution in the tissue. Since CODEX image processing relies on segmentation, each dot in the plot represents a single cell. Here, each cell is represented by its centroid, but can also be visualized as cell polygons in cases where the segmentation mask is available.  "
   ]
  },
  {
   "cell_type": "code",
   "execution_count": null,
<<<<<<< HEAD
<<<<<<< HEAD
<<<<<<< HEAD
<<<<<<< HEAD
   "id": "97a4c7e2",
||||||| 6a30bf1
   "id": "440a7be0",
=======
   "id": "f3236398",
>>>>>>> documentation-devel
||||||| d28b18c
   "id": "f3236398",
=======
   "id": "5a0cec0f",
>>>>>>> documentation-devel
||||||| 6893f63
<<<<<<< HEAD
   "id": "97a4c7e2",
||||||| 6a30bf1
   "id": "440a7be0",
=======
   "id": "f3236398",
>>>>>>> documentation-devel
=======
   "id": "10d5ee5e",
>>>>>>> c74c98c2450c2a1ba922ed9442f136238d6bc88b
||||||| 6d93b645
   "id": "5a0cec0f",
=======
   "id": "d6b33896",
>>>>>>> documentation-devel
   "metadata": {
    "lines_to_next_cell": 0
   },
   "outputs": [],
   "source": [
    "spatial <- plotSpatialFeature(sfe, features='cell_type', colGeometryName = \"centroids\") +\n",
    "    gghighlight(cell_type %in% c(\"Goblet\", \"SmoothMuscleME\"))\n",
    "\n",
    "spatial"
   ]
  },
  {
   "cell_type": "markdown",
<<<<<<< HEAD
<<<<<<< HEAD
<<<<<<< HEAD
<<<<<<< HEAD
   "id": "d3374fcc",
||||||| 6a30bf1
   "id": "fc7c6738",
=======
   "id": "2e596234",
>>>>>>> documentation-devel
||||||| d28b18c
   "id": "2e596234",
=======
   "id": "5392a33a",
>>>>>>> documentation-devel
||||||| 6893f63
<<<<<<< HEAD
   "id": "d3374fcc",
||||||| 6a30bf1
   "id": "fc7c6738",
=======
   "id": "2e596234",
>>>>>>> documentation-devel
=======
   "id": "7c208ecc",
>>>>>>> c74c98c2450c2a1ba922ed9442f136238d6bc88b
||||||| 6d93b645
   "id": "5392a33a",
=======
   "id": "f70ff45c",
>>>>>>> documentation-devel
   "metadata": {
    "lines_to_next_cell": 0
   },
   "source": [
    "The goblet cells clearly define the epithelial border of the tissue and the thick bands of smooth muscle cells are prominent below the mucosa. \n",
    "\n",
    "Next, we will compute some gene level metrics for each of the 47 barcoded genes. In contrast to RNA-based methods, the fields in the matrix represent intensities rather than counts.  "
   ]
  },
  {
   "cell_type": "code",
   "execution_count": null,
<<<<<<< HEAD
<<<<<<< HEAD
<<<<<<< HEAD
<<<<<<< HEAD
   "id": "68d3fba4",
||||||| 6a30bf1
   "id": "d3017d07",
=======
   "id": "c44b29f5",
>>>>>>> documentation-devel
||||||| d28b18c
   "id": "c44b29f5",
=======
   "id": "6f334090",
>>>>>>> documentation-devel
||||||| 6893f63
<<<<<<< HEAD
   "id": "68d3fba4",
||||||| 6a30bf1
   "id": "d3017d07",
=======
   "id": "c44b29f5",
>>>>>>> documentation-devel
=======
   "id": "0c9538c7",
>>>>>>> c74c98c2450c2a1ba922ed9442f136238d6bc88b
||||||| 6d93b645
   "id": "6f334090",
=======
   "id": "b317df6b",
>>>>>>> documentation-devel
   "metadata": {
    "lines_to_next_cell": 0
   },
   "outputs": [],
   "source": [
    "rowData(sfe)$mean <- rowMeans(assay(sfe))\n",
    "rowData(sfe)$var <- rowVars(assay(sfe))\n",
    "\n",
    "data.frame(rowData(sfe)) |>\n",
    "    ggplot(aes(mean, var)) + \n",
    "    geom_point()"
   ]
  },
  {
   "cell_type": "markdown",
<<<<<<< HEAD
<<<<<<< HEAD
<<<<<<< HEAD
<<<<<<< HEAD
   "id": "199e55f1",
||||||| 6a30bf1
   "id": "54999b7e",
=======
   "id": "f89a1230",
>>>>>>> documentation-devel
||||||| d28b18c
   "id": "f89a1230",
=======
   "id": "961d6f6c",
>>>>>>> documentation-devel
||||||| 6893f63
<<<<<<< HEAD
   "id": "199e55f1",
||||||| 6a30bf1
   "id": "54999b7e",
=======
   "id": "f89a1230",
>>>>>>> documentation-devel
=======
   "id": "49209fe2",
>>>>>>> c74c98c2450c2a1ba922ed9442f136238d6bc88b
||||||| 6d93b645
   "id": "961d6f6c",
=======
   "id": "16ccf89f",
>>>>>>> documentation-devel
   "metadata": {},
   "source": [
    "There appears to be a sigmoid relationship between the mean and variance of the protein expression. The pattern is reminiscent of what might be expected if the intensity values were derived from a Gamma distribution, the continuous analog of the Negative Binomial distribution that is typically used to describe count data from scRNA-seq experiments. This may have implications for how CODEX data is variance stabilized in the future. \n",
    "\n",
    "CODEX data is subject to noise from several sources including segmentation artifacts, nonspecific staining, and imperfect tissue processing. These are factors that can limit accurate quantification of signal intensity and impede accurate cell annotation. The authors of the dataset tested the effects of several normalization methods on cell type annotation and clustering and found that Z-score normalization of each marker resulted in accurate identification of both rare and common cell types. In the cell below, we demonstrate how to accomplish this using standard matrix operations. The normalized count matrix is typically stored in the `logcounts` slot for scRNA-seq data, but we will instead store the normalized matrix in a slot called `normalizedIntensity`. "
   ]
  },
  {
   "cell_type": "code",
   "execution_count": null,
<<<<<<< HEAD
<<<<<<< HEAD
<<<<<<< HEAD
<<<<<<< HEAD
   "id": "0852d53c",
||||||| 6a30bf1
   "id": "3a3b56aa",
=======
   "id": "186d0ba3",
>>>>>>> documentation-devel
||||||| d28b18c
   "id": "186d0ba3",
=======
   "id": "c67fe47a",
>>>>>>> documentation-devel
||||||| 6893f63
<<<<<<< HEAD
   "id": "0852d53c",
||||||| 6a30bf1
   "id": "3a3b56aa",
=======
   "id": "186d0ba3",
>>>>>>> documentation-devel
=======
   "id": "623d4ca7",
>>>>>>> c74c98c2450c2a1ba922ed9442f136238d6bc88b
||||||| 6d93b645
   "id": "c67fe47a",
=======
   "id": "804443fc",
>>>>>>> documentation-devel
   "metadata": {},
   "outputs": [],
   "source": [
    "mtx <- assay(sfe, 'protein')\n",
    "assay(sfe, 'normalizedIntensity') <- (mtx - rowMeans(mtx))/rowSds(mtx)\n",
    "\n",
    "assays(sfe)"
   ]
  },
  {
   "cell_type": "markdown",
<<<<<<< HEAD
<<<<<<< HEAD
<<<<<<< HEAD
<<<<<<< HEAD
   "id": "19a943b4",
||||||| 6a30bf1
   "id": "e30f168f",
=======
   "id": "6ace6373",
>>>>>>> documentation-devel
||||||| d28b18c
   "id": "6ace6373",
=======
   "id": "937dfda2",
>>>>>>> documentation-devel
||||||| 6893f63
<<<<<<< HEAD
   "id": "19a943b4",
||||||| 6a30bf1
   "id": "e30f168f",
=======
   "id": "6ace6373",
>>>>>>> documentation-devel
=======
   "id": "ccd4dc18",
>>>>>>> c74c98c2450c2a1ba922ed9442f136238d6bc88b
||||||| 6d93b645
   "id": "937dfda2",
=======
   "id": "1deb8e64",
>>>>>>> documentation-devel
   "metadata": {
    "lines_to_next_cell": 0
   },
   "source": [
    "# Spatial EDA\n",
    "\n",
    "Neighbor definition is a critical step in computation of metrics of spatial dependency like Moran's I and Geary's C. The definition of neighbors is complex, even when cell polygons are available. In the latter case, the `poly2nb` method might be appropriate to assign two cells as neighbors if they physically touch each other or share a border. This may not be tenable in cases where cells are sparse or cells are represented by their centroids, as in this dataset. \n",
    "\n",
    "We will compute the spatial neighborhood graph using the `knearestneigh` function as it is implemented in `spdep`. In brief, Euclidean distances are computed between each pair of cells and the `k` nearest cells are considered neighbors. In the following code cell, we will consdier `k=10` for speed purposes, but this may not be ideal in general. \n",
    "\n",
    "The weights of the neighborhood matrix are inverse-distance weighted, such that the the weight of regions listed as neighbors increases as the distance between pairs of points decreases. Setting `style = \"W\"` ensures that the weights are row standardized. "
   ]
  },
  {
   "cell_type": "code",
   "execution_count": null,
<<<<<<< HEAD
<<<<<<< HEAD
<<<<<<< HEAD
<<<<<<< HEAD
   "id": "85122efc",
||||||| 6a30bf1
   "id": "40a41aba",
=======
   "id": "245d4aa3",
>>>>>>> documentation-devel
||||||| d28b18c
   "id": "245d4aa3",
=======
   "id": "7539263a",
>>>>>>> documentation-devel
||||||| 6893f63
<<<<<<< HEAD
   "id": "85122efc",
||||||| 6a30bf1
   "id": "40a41aba",
=======
   "id": "245d4aa3",
>>>>>>> documentation-devel
=======
   "id": "684f26b1",
>>>>>>> c74c98c2450c2a1ba922ed9442f136238d6bc88b
||||||| 6d93b645
   "id": "7539263a",
=======
   "id": "e0569f8b",
>>>>>>> documentation-devel
   "metadata": {},
   "outputs": [],
   "source": [
    "colGraph(sfe, \"knn10\") <- findSpatialNeighbors(\n",
    "    sfe, method = \"knearneigh\", dist_type = \"idw\", \n",
    "    k = 10, style = \"W\")"
   ]
  },
  {
   "cell_type": "markdown",
<<<<<<< HEAD
<<<<<<< HEAD
<<<<<<< HEAD
<<<<<<< HEAD
   "id": "9138bf95",
||||||| 6a30bf1
   "id": "1f3aa608",
=======
   "id": "7a0fe5c5",
>>>>>>> documentation-devel
||||||| d28b18c
   "id": "7a0fe5c5",
=======
   "id": "a50d29a8",
>>>>>>> documentation-devel
||||||| 6893f63
<<<<<<< HEAD
   "id": "9138bf95",
||||||| 6a30bf1
   "id": "1f3aa608",
=======
   "id": "7a0fe5c5",
>>>>>>> documentation-devel
=======
   "id": "dc91d4cd",
>>>>>>> c74c98c2450c2a1ba922ed9442f136238d6bc88b
||||||| 6d93b645
   "id": "a50d29a8",
=======
   "id": "051e4938",
>>>>>>> documentation-devel
   "metadata": {
    "lines_to_next_cell": 0
   },
   "source": [
    "The `plotColGraph()` function plots the graph in space along with its corresponding `colGeometry`, but since there are so many cells in this dataset, plotting the neighborhood graph may not be as useful as many connections will be obscure by overlapping lines. In any case, we will demonstrate use of the function below. "
   ]
  },
  {
   "cell_type": "code",
   "execution_count": null,
<<<<<<< HEAD
<<<<<<< HEAD
<<<<<<< HEAD
<<<<<<< HEAD
   "id": "6009a1ce",
||||||| 6a30bf1
   "id": "13dac313",
=======
   "id": "ffe86f22",
>>>>>>> documentation-devel
||||||| d28b18c
   "id": "ffe86f22",
=======
   "id": "bca2fcb1",
>>>>>>> documentation-devel
||||||| 6893f63
<<<<<<< HEAD
   "id": "6009a1ce",
||||||| 6a30bf1
   "id": "13dac313",
=======
   "id": "ffe86f22",
>>>>>>> documentation-devel
=======
   "id": "260d807f",
>>>>>>> c74c98c2450c2a1ba922ed9442f136238d6bc88b
||||||| 6d93b645
   "id": "bca2fcb1",
=======
   "id": "7b2ca2b6",
>>>>>>> documentation-devel
   "metadata": {
    "lines_to_next_cell": 0
   },
   "outputs": [],
   "source": [
    "plotColGraph(sfe, colGraphName = \"knn10\", colGeometryName = 'centroids')"
   ]
  },
  {
   "cell_type": "markdown",
<<<<<<< HEAD
<<<<<<< HEAD
<<<<<<< HEAD
<<<<<<< HEAD
   "id": "81c0c396",
||||||| 6a30bf1
   "id": "624a69cb",
=======
   "id": "dc866caa",
>>>>>>> documentation-devel
||||||| d28b18c
   "id": "dc866caa",
=======
   "id": "254408a4",
>>>>>>> documentation-devel
||||||| 6893f63
<<<<<<< HEAD
   "id": "81c0c396",
||||||| 6a30bf1
   "id": "624a69cb",
=======
   "id": "dc866caa",
>>>>>>> documentation-devel
=======
   "id": "c6bc5218",
>>>>>>> c74c98c2450c2a1ba922ed9442f136238d6bc88b
||||||| 6d93b645
   "id": "254408a4",
=======
   "id": "1bcdc77d",
>>>>>>> documentation-devel
   "metadata": {
    "lines_to_next_cell": 0
   },
   "source": [
    "Next, we will explore univariate metrics for global spatial autocorrelation. Since few genes are quantified in this study, we will compute the metrics for all genes. For larger datasets, it may be useful to restrict analysis to the most variable genes. \n",
    "\n",
    "We use the `runUnivariate()` function to compute the spatial autocorrelation metrics and save the results in the SFE object. "
   ]
  },
  {
   "cell_type": "code",
   "execution_count": null,
<<<<<<< HEAD
<<<<<<< HEAD
<<<<<<< HEAD
<<<<<<< HEAD
   "id": "2f663b48",
||||||| 6a30bf1
   "id": "12d9fc18",
=======
   "id": "6f82bf80",
>>>>>>> documentation-devel
||||||| d28b18c
   "id": "6f82bf80",
=======
   "id": "fc7342f0",
>>>>>>> documentation-devel
||||||| 6893f63
<<<<<<< HEAD
   "id": "2f663b48",
||||||| 6a30bf1
   "id": "12d9fc18",
=======
   "id": "6f82bf80",
>>>>>>> documentation-devel
=======
   "id": "e62ba026",
>>>>>>> c74c98c2450c2a1ba922ed9442f136238d6bc88b
||||||| 6d93b645
   "id": "fc7342f0",
=======
   "id": "045822d9",
>>>>>>> documentation-devel
   "metadata": {},
   "outputs": [],
   "source": [
    "sfe <- runUnivariate(\n",
    "    sfe, type = \"moran.mc\", features = rownames(sfe),\n",
    "    exprs_values = \"normalizedIntensity\", colGraphName = \"knn10\", nsim = 100,\n",
    "    BPPARAM = MulticoreParam(2))\n",
    "\n",
    "sfe <- runUnivariate(\n",
    "    sfe, type = \"moran.plot\", features = rownames(sfe),\n",
    "    exprs_values = \"normalizedIntensity\", colGraphName = \"knn10\")"
   ]
  },
  {
   "cell_type": "markdown",
<<<<<<< HEAD
<<<<<<< HEAD
<<<<<<< HEAD
<<<<<<< HEAD
   "id": "783b292d",
||||||| 6a30bf1
   "id": "96decc7b",
=======
   "id": "70e942a0",
>>>>>>> documentation-devel
||||||| d28b18c
   "id": "70e942a0",
=======
   "id": "c605c477",
>>>>>>> documentation-devel
||||||| 6893f63
<<<<<<< HEAD
   "id": "783b292d",
||||||| 6a30bf1
   "id": "96decc7b",
=======
   "id": "70e942a0",
>>>>>>> documentation-devel
=======
   "id": "b7dc31ef",
>>>>>>> c74c98c2450c2a1ba922ed9442f136238d6bc88b
||||||| 6d93b645
   "id": "c605c477",
=======
   "id": "d76f902a",
>>>>>>> documentation-devel
   "metadata": {
    "lines_to_next_cell": 0
   },
   "source": [
    "The results of these computations are accessible in the `rowData` attribute of the SFE object. "
   ]
  },
  {
   "cell_type": "code",
   "execution_count": null,
<<<<<<< HEAD
<<<<<<< HEAD
<<<<<<< HEAD
<<<<<<< HEAD
   "id": "2780dc20",
||||||| 6a30bf1
   "id": "0bfa1f70",
=======
   "id": "61894142",
>>>>>>> documentation-devel
||||||| d28b18c
   "id": "61894142",
=======
   "id": "c3a45b9c",
>>>>>>> documentation-devel
||||||| 6893f63
<<<<<<< HEAD
   "id": "2780dc20",
||||||| 6a30bf1
   "id": "0bfa1f70",
=======
   "id": "61894142",
>>>>>>> documentation-devel
=======
   "id": "cb69be72",
>>>>>>> c74c98c2450c2a1ba922ed9442f136238d6bc88b
||||||| 6d93b645
   "id": "c3a45b9c",
=======
   "id": "3648fe84",
>>>>>>> documentation-devel
   "metadata": {
    "lines_to_next_cell": 0
   },
   "outputs": [],
   "source": [
    "colnames(rowData(sfe))"
   ]
  },
  {
   "cell_type": "markdown",
<<<<<<< HEAD
<<<<<<< HEAD
<<<<<<< HEAD
<<<<<<< HEAD
   "id": "ed9382b9",
||||||| 6a30bf1
   "id": "34901eed",
=======
   "id": "6f9ab504",
>>>>>>> documentation-devel
||||||| d28b18c
   "id": "6f9ab504",
=======
   "id": "e0aad9a3",
>>>>>>> documentation-devel
||||||| 6893f63
<<<<<<< HEAD
   "id": "ed9382b9",
||||||| 6a30bf1
   "id": "34901eed",
=======
   "id": "6f9ab504",
>>>>>>> documentation-devel
=======
   "id": "1c57e094",
>>>>>>> c74c98c2450c2a1ba922ed9442f136238d6bc88b
||||||| 6d93b645
   "id": "e0aad9a3",
=======
   "id": "4958edfc",
>>>>>>> documentation-devel
   "metadata": {
    "lines_to_next_cell": 0
   },
   "source": [
    "Next, we plot the results of the genes with the highest Moran's I statistic. "
   ]
  },
  {
   "cell_type": "code",
   "execution_count": null,
<<<<<<< HEAD
<<<<<<< HEAD
<<<<<<< HEAD
<<<<<<< HEAD
   "id": "19a5ef9a",
||||||| 6a30bf1
   "id": "b9a38654",
=======
   "id": "cd1d1f3a",
>>>>>>> documentation-devel
||||||| d28b18c
   "id": "cd1d1f3a",
=======
   "id": "8f833ec6",
>>>>>>> documentation-devel
||||||| 6893f63
<<<<<<< HEAD
   "id": "19a5ef9a",
||||||| 6a30bf1
   "id": "b9a38654",
=======
   "id": "cd1d1f3a",
>>>>>>> documentation-devel
=======
   "id": "21216b5f",
>>>>>>> c74c98c2450c2a1ba922ed9442f136238d6bc88b
||||||| 6d93b645
   "id": "8f833ec6",
=======
   "id": "214558f9",
>>>>>>> documentation-devel
   "metadata": {
    "lines_to_next_cell": 0
   },
   "outputs": [],
   "source": [
    "top_moran <- data.frame(rowData(sfe)) |>\n",
    "    arrange(desc(moran.mc_statistic_sample01)) |>\n",
    "    head(6) |> \n",
    "    rownames()\n",
    "\n",
    "moran <- plotMoranMC(sfe, features = top_moran, facet_by = 'features')\n",
    "moran"
   ]
  },
  {
   "cell_type": "markdown",
<<<<<<< HEAD
<<<<<<< HEAD
<<<<<<< HEAD
<<<<<<< HEAD
   "id": "2ac6ccf4",
||||||| 6a30bf1
   "id": "3487becf",
=======
   "id": "093a2c72",
>>>>>>> documentation-devel
||||||| d28b18c
   "id": "093a2c72",
=======
   "id": "807c2f02",
>>>>>>> documentation-devel
||||||| 6893f63
<<<<<<< HEAD
   "id": "2ac6ccf4",
||||||| 6a30bf1
   "id": "3487becf",
=======
   "id": "093a2c72",
>>>>>>> documentation-devel
=======
   "id": "114455a0",
>>>>>>> c74c98c2450c2a1ba922ed9442f136238d6bc88b
||||||| 6d93b645
   "id": "807c2f02",
=======
   "id": "ad3fbd08",
>>>>>>> documentation-devel
   "metadata": {},
   "source": [
    "The vertical line in each plot represents the observed Moran's I while the density represents the Moran's I statistic for each of the random permutations of the data. Each of these plots suggests that the Moran's I statistic is significant. We can  plot the normalized intensity for these genes in space. "
   ]
  },
  {
   "cell_type": "code",
   "execution_count": null,
<<<<<<< HEAD
<<<<<<< HEAD
<<<<<<< HEAD
<<<<<<< HEAD
   "id": "6256e8f1",
||||||| 6a30bf1
   "id": "7657d852",
=======
   "id": "013e2662",
>>>>>>> documentation-devel
||||||| d28b18c
   "id": "013e2662",
=======
   "id": "8446093e",
>>>>>>> documentation-devel
||||||| 6893f63
<<<<<<< HEAD
   "id": "6256e8f1",
||||||| 6a30bf1
   "id": "7657d852",
=======
   "id": "013e2662",
>>>>>>> documentation-devel
=======
   "id": "e3e46618",
>>>>>>> c74c98c2450c2a1ba922ed9442f136238d6bc88b
||||||| 6d93b645
   "id": "8446093e",
=======
   "id": "906cbea8",
>>>>>>> documentation-devel
   "metadata": {
    "fig.height": 7,
    "fig.width": 12,
    "lines_to_next_cell": 0
   },
   "outputs": [],
   "source": [
    "plotSpatialFeature(\n",
    "    sfe, features=top_moran, colGeometryName = \"centroids\",\n",
    "    exprs_values = \"normalizedIntensity\", scattermore = TRUE, pointsize = 1)"
   ]
  },
  {
   "cell_type": "markdown",
<<<<<<< HEAD
<<<<<<< HEAD
<<<<<<< HEAD
<<<<<<< HEAD
   "id": "a8a3a160",
||||||| 6a30bf1
   "id": "13e27189",
=======
   "id": "dc1e21da",
>>>>>>> documentation-devel
||||||| d28b18c
   "id": "dc1e21da",
=======
   "id": "9aa47126",
>>>>>>> documentation-devel
||||||| 6893f63
<<<<<<< HEAD
   "id": "a8a3a160",
||||||| 6a30bf1
   "id": "13e27189",
=======
   "id": "dc1e21da",
>>>>>>> documentation-devel
=======
   "id": "3bfd5aaf",
>>>>>>> c74c98c2450c2a1ba922ed9442f136238d6bc88b
||||||| 6d93b645
   "id": "9aa47126",
=======
   "id": "816dcf8a",
>>>>>>> documentation-devel
   "metadata": {},
   "source": [
    "While most of these genes appear to have some spatial distribution, it also seems that it may overlap with cell type. The cells that appear to express the genes of interest seem to be spatially restricted to known boundaries in the tissue. \n",
    "\n",
    "The `moranPlot()` function plots spatial data against its spatially lagged values and enables users to assess how similar observed values are to its neighbors. When the variable is centered, the plot is divided into four quadrants defined by the horizontal line y = 0 and the vertical line x = 0. Points in the upper right (or high-high) and lower left (or low-low) quadrants indicate positive spatial association, and points in the lower right (or high-low) and upper left (or low-high) quadrants include observations that exhibit negative spatial association."
   ]
  },
  {
   "cell_type": "code",
   "execution_count": null,
<<<<<<< HEAD
<<<<<<< HEAD
<<<<<<< HEAD
<<<<<<< HEAD
   "id": "88162ee6",
||||||| 6a30bf1
   "id": "8dd78bcd",
=======
   "id": "9dfcc1d6",
>>>>>>> documentation-devel
||||||| d28b18c
   "id": "9dfcc1d6",
=======
   "id": "8af3a665",
>>>>>>> documentation-devel
||||||| 6893f63
<<<<<<< HEAD
   "id": "88162ee6",
||||||| 6a30bf1
   "id": "8dd78bcd",
=======
   "id": "9dfcc1d6",
>>>>>>> documentation-devel
=======
   "id": "1be92959",
>>>>>>> c74c98c2450c2a1ba922ed9442f136238d6bc88b
||||||| 6d93b645
   "id": "8af3a665",
=======
   "id": "fe95b812",
>>>>>>> documentation-devel
   "metadata": {},
   "outputs": [],
   "source": [
    "moranPlot(sfe, top_moran[1])"
   ]
  },
  {
   "cell_type": "markdown",
<<<<<<< HEAD
<<<<<<< HEAD
<<<<<<< HEAD
<<<<<<< HEAD
   "id": "d8228f10",
||||||| 6a30bf1
   "id": "7c40dfe5",
=======
   "id": "69d5623a",
>>>>>>> documentation-devel
||||||| d28b18c
   "id": "69d5623a",
=======
   "id": "292359ca",
>>>>>>> documentation-devel
||||||| 6893f63
<<<<<<< HEAD
   "id": "d8228f10",
||||||| 6a30bf1
   "id": "7c40dfe5",
=======
   "id": "69d5623a",
>>>>>>> documentation-devel
=======
   "id": "591a1c72",
>>>>>>> c74c98c2450c2a1ba922ed9442f136238d6bc88b
||||||| 6d93b645
   "id": "292359ca",
=======
   "id": "ac40800f",
>>>>>>> documentation-devel
   "metadata": {},
   "source": [
    "# Differential Expression\n",
    "\n",
    "While Moran's I and other global spatial autocorrelation metrics provide insight to the spatial patterns of gene expression, it is necessarily limited by the structure imposed by the spatial weights matrix. A complimentary task might be to identify spatially variable (SV) genes. One such method to do this is described in [SpatialDE: identification of spatially variable genes](). The method described in the manuscript relies on Gaussian process regression and decomposes variability in expression into spatial and non-spatial components. In contrast to Moran's I, the covariance between each pair of cells is modeled as a function of the distance between them. Notably, it does not require an explicit specification of hte neighborhood graph, but rather the a parameter controls the decay in covariance as distance increases. \n",
    "\n",
    "The `spatialDE` package is implemented in R and requires a normalized matrix as input. The `spatialDE()` function from the package performs normalization steps before running the algorithm. Because the data has already been normalized, we will use the `run()` function directly to run spatialDE. We will first have to convert the centroid coordinates to a data frame as required by the function."
   ]
  },
  {
   "cell_type": "code",
   "execution_count": null,
<<<<<<< HEAD
<<<<<<< HEAD
<<<<<<< HEAD
<<<<<<< HEAD
   "id": "8065a864",
||||||| 6a30bf1
   "id": "708bac77",
=======
   "id": "785ed422",
>>>>>>> documentation-devel
||||||| d28b18c
   "id": "785ed422",
=======
   "id": "db1592fb",
>>>>>>> documentation-devel
||||||| 6893f63
<<<<<<< HEAD
   "id": "8065a864",
||||||| 6a30bf1
   "id": "708bac77",
=======
   "id": "785ed422",
>>>>>>> documentation-devel
=======
   "id": "7fe3c1a5",
>>>>>>> c74c98c2450c2a1ba922ed9442f136238d6bc88b
||||||| 6d93b645
   "id": "db1592fb",
=======
   "id": "f0cace8c",
>>>>>>> documentation-devel
   "metadata": {},
   "outputs": [],
   "source": [
    "# Store coordinates in a data frame object\n",
    "coords <- centroids(sfe)$geometry |>\n",
    "    purrr::map_dfr(\\(x) c(x = x[1], y = x[2]))\n",
    "\n",
    "# de_res <- spatialDE::run(assay(sfe,\"normalizedIntensity\"), coords, verbose=TRUE)"
   ]
  },
  {
   "cell_type": "markdown",
<<<<<<< HEAD
<<<<<<< HEAD
<<<<<<< HEAD
<<<<<<< HEAD
   "id": "58de789a",
||||||| 6a30bf1
   "id": "654d026c",
=======
   "id": "f3d0a32b",
>>>>>>> documentation-devel
||||||| d28b18c
   "id": "f3d0a32b",
=======
   "id": "7ec87df4",
>>>>>>> documentation-devel
||||||| 6893f63
<<<<<<< HEAD
   "id": "58de789a",
||||||| 6a30bf1
   "id": "654d026c",
=======
   "id": "f3d0a32b",
>>>>>>> documentation-devel
=======
   "id": "249d5e4e",
>>>>>>> c74c98c2450c2a1ba922ed9442f136238d6bc88b
||||||| 6d93b645
   "id": "7ec87df4",
=======
   "id": "7234e624",
>>>>>>> documentation-devel
   "metadata": {
    "lines_to_next_cell": 0
   },
   "source": [
    "We can plot the normalized expression of the top 5 genes in space."
   ]
  },
  {
   "cell_type": "code",
   "execution_count": null,
<<<<<<< HEAD
<<<<<<< HEAD
<<<<<<< HEAD
<<<<<<< HEAD
   "id": "9afcd993",
||||||| 6a30bf1
   "id": "495bd2ad",
=======
   "id": "4d1acffa",
>>>>>>> documentation-devel
||||||| d28b18c
   "id": "4d1acffa",
=======
   "id": "9bdb9cfb",
>>>>>>> documentation-devel
||||||| 6893f63
<<<<<<< HEAD
   "id": "9afcd993",
||||||| 6a30bf1
   "id": "495bd2ad",
=======
   "id": "4d1acffa",
>>>>>>> documentation-devel
=======
   "id": "058686bb",
>>>>>>> c74c98c2450c2a1ba922ed9442f136238d6bc88b
||||||| 6d93b645
   "id": "9bdb9cfb",
=======
   "id": "ae0269a2",
>>>>>>> documentation-devel
   "metadata": {},
   "outputs": [],
   "source": [
    "# top_genes <- de_res |>\n",
    "#   arrange(pval) |>\n",
    "#   slice_head(n=6) |>\n",
    "#   pull(g)\n",
    "# \n",
    "# plotSpatialFeature(sfe, top_genes, colGeometryName=\"centroids\",\n",
    "#                    exprs_values = \"normalizedIntensity\")"
   ]
  },
  {
   "cell_type": "markdown",
<<<<<<< HEAD
<<<<<<< HEAD
<<<<<<< HEAD
<<<<<<< HEAD
   "id": "cefe2711",
||||||| 6a30bf1
   "id": "dabc7d74",
=======
   "id": "3e01342e",
>>>>>>> documentation-devel
||||||| d28b18c
   "id": "3e01342e",
=======
   "id": "22f63172",
>>>>>>> documentation-devel
||||||| 6893f63
<<<<<<< HEAD
   "id": "cefe2711",
||||||| 6a30bf1
   "id": "dabc7d74",
=======
   "id": "3e01342e",
>>>>>>> documentation-devel
=======
   "id": "fbdbf919",
>>>>>>> c74c98c2450c2a1ba922ed9442f136238d6bc88b
||||||| 6d93b645
   "id": "22f63172",
=======
   "id": "e96f148e",
>>>>>>> documentation-devel
   "metadata": {
    "lines_to_next_cell": 0
   },
   "source": [
    "Perhaps unsurprisingly, the expression of the top DE genes seems to highlight the spatial distribution of known cell types in the tissue rather than identify spatially restricted gene expression. This is related to the experimental design where the targeted genes were chosen to differentiate cell types. Perhaps in genome-wide technologies, the potential for discovery of neew gene expression patterns is more plausible. There is an open question as to whether these results offer new information compared to what is inferred by typical DE expression methods.  \n",
    "\n",
    "These analyses represent a minority of the types of inferences that can be made from protein expression data. It would be interested to investigate how the protein expression results compare or inform data from spatail scRNA-sequencing experiments. Already, there is work being done to obtain multimodal spatial measurements on the same sample. Importantly however, considerations should be made on the types of biases each individual technology adds to the measurements. These are active areas of research that are ripe for future exploration. \n",
    "\n",
    "# Session Info"
   ]
  },
  {
   "cell_type": "code",
   "execution_count": null,
<<<<<<< HEAD
<<<<<<< HEAD
<<<<<<< HEAD
<<<<<<< HEAD
   "id": "bda080b5",
||||||| 6a30bf1
   "id": "eb1c6db8",
=======
   "id": "4ca6e1ac",
>>>>>>> documentation-devel
||||||| d28b18c
   "id": "4ca6e1ac",
=======
   "id": "b3db9a8f",
>>>>>>> documentation-devel
||||||| 6893f63
<<<<<<< HEAD
   "id": "bda080b5",
||||||| 6a30bf1
   "id": "eb1c6db8",
=======
   "id": "4ca6e1ac",
>>>>>>> documentation-devel
=======
   "id": "56c8b915",
>>>>>>> c74c98c2450c2a1ba922ed9442f136238d6bc88b
||||||| 6d93b645
   "id": "b3db9a8f",
=======
   "id": "459b9819",
>>>>>>> documentation-devel
   "metadata": {},
   "outputs": [],
   "source": [
    "sessionInfo()"
   ]
  },
  {
   "cell_type": "markdown",
<<<<<<< HEAD
<<<<<<< HEAD
<<<<<<< HEAD
<<<<<<< HEAD
   "id": "5228d6ce",
||||||| 6a30bf1
   "id": "33545d33",
=======
   "id": "fcf13458",
>>>>>>> documentation-devel
||||||| d28b18c
   "id": "fcf13458",
=======
   "id": "0f650733",
>>>>>>> documentation-devel
||||||| 6893f63
<<<<<<< HEAD
   "id": "5228d6ce",
||||||| 6a30bf1
   "id": "33545d33",
=======
   "id": "fcf13458",
>>>>>>> documentation-devel
=======
   "id": "f68d6506",
>>>>>>> c74c98c2450c2a1ba922ed9442f136238d6bc88b
||||||| 6d93b645
   "id": "0f650733",
=======
   "id": "34da6feb",
>>>>>>> documentation-devel
   "metadata": {},
   "source": [
    "# References"
   ]
  }
 ],
 "metadata": {
  "kernelspec": {
   "display_name": "R",
   "language": "R",
   "name": "ir"
  }
 },
 "nbformat": 4,
 "nbformat_minor": 5
}
