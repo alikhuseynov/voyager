{
 "cells": [
  {
   "cell_type": "raw",
<<<<<<< HEAD
<<<<<<< HEAD
<<<<<<< HEAD
   "id": "28397a9e",
||||||| b944554d
   "id": "643a93f4",
=======
   "id": "682cad3f",
>>>>>>> documentation-devel
||||||| 35cb6e7a
   "id": "682cad3f",
=======
   "id": "b0a7963d",
>>>>>>> documentation-devel
||||||| 596bf878
<<<<<<< HEAD
   "id": "28397a9e",
||||||| b944554d
   "id": "643a93f4",
=======
   "id": "682cad3f",
>>>>>>> documentation-devel
=======
   "id": "fe10ae7a",
>>>>>>> f8a184fea58c53eb88debec89cb7180bf225886f
   "metadata": {},
   "source": [
    "---\n",
    "title: \"10X ATAC-seq basic quality control \"\n",
    "author: \"Kayla Jackson and A. Sina Booeshaghi\"\n",
    "date: \"`r Sys.Date()`\"\n",
    "output: \n",
    "  html_document:\n",
    "  toc: true\n",
    "  toc_float:\n",
    "    collapsed: false\n",
    "  toc_depth: 3\n",
    "bibliography: ref.bib\n",
    "vignette: >\n",
    "  %\\VignetteIndexEntry{10xatac_qc}\n",
    "  %\\VignetteEngine{knitr::rmarkdown}\n",
    "  %\\VignetteEncoding{UTF-8}\n",
    "---"
   ]
  },
  {
   "cell_type": "code",
   "execution_count": null,
<<<<<<< HEAD
<<<<<<< HEAD
<<<<<<< HEAD
   "id": "47a54dfc",
||||||| b944554d
   "id": "961defc2",
=======
   "id": "0bcbfa64",
>>>>>>> documentation-devel
||||||| 35cb6e7a
   "id": "0bcbfa64",
=======
   "id": "09d8e82c",
>>>>>>> documentation-devel
||||||| 596bf878
<<<<<<< HEAD
   "id": "47a54dfc",
||||||| b944554d
   "id": "961defc2",
=======
   "id": "0bcbfa64",
>>>>>>> documentation-devel
=======
   "id": "41787485",
>>>>>>> f8a184fea58c53eb88debec89cb7180bf225886f
   "metadata": {
    "tags": [
     "remove_cell"
    ]
   },
   "outputs": [],
   "source": [
    "knitr::opts_chunk$set(\n",
    "  collapse = TRUE,\n",
    "  comment = \"#>\", fig.align = \"center\"\n",
    ")"
   ]
  },
  {
   "cell_type": "code",
   "execution_count": null,
<<<<<<< HEAD
<<<<<<< HEAD
<<<<<<< HEAD
   "id": "e60fc631",
||||||| b944554d
   "id": "e255787b",
=======
   "id": "cf2c2766",
>>>>>>> documentation-devel
||||||| 35cb6e7a
   "id": "cf2c2766",
=======
   "id": "564cf943",
>>>>>>> documentation-devel
||||||| 596bf878
<<<<<<< HEAD
   "id": "e60fc631",
||||||| b944554d
   "id": "e255787b",
=======
   "id": "cf2c2766",
>>>>>>> documentation-devel
=======
   "id": "5a4cc234",
>>>>>>> f8a184fea58c53eb88debec89cb7180bf225886f
   "metadata": {
    "eval": false,
    "tags": [
     "remove_cell"
    ]
   },
   "outputs": [],
   "source": [
    "# Install Google Colab dependencies\n",
    "# Note: this can take 30+ minutes (many of the dependencies include C++ code, which needs to be compiled)\n",
    "\n",
    "# First install `sf`, `ragg` and `textshaping` and their system dependencies:\n",
    "system(\"apt-get -y update && apt-get install -y  libudunits2-dev libgdal-dev libgeos-dev libproj-dev libharfbuzz-dev libfribidi-dev\")\n",
    "install.packages(\"sf\")\n",
    "install.packages(\"textshaping\")\n",
    "install.packages(\"ragg\")\n",
    "\n",
    "# Install system dependencies of some other R packages that Voyager either imports or suggests:\n",
    "system(\"apt-get install -y libfribidi-dev libcairo2-dev libmagick++-dev\")\n",
    "\n",
    "# Install Voyager from Bioconductor:\n",
    "install.packages(\"BiocManager\")\n",
    "BiocManager::install(version = \"3.17\", ask = FALSE, update = FALSE, Ncpus = 2)\n",
    "BiocManager::install(\"scater\")\n",
    "system.time(\n",
    "  BiocManager::install(\"Voyager\", dependencies = TRUE, Ncpus = 2, update = FALSE)\n",
    ")\n",
    "\n",
    "\n",
    "packageVersion(\"Voyager\")"
   ]
  },
  {
   "cell_type": "markdown",
<<<<<<< HEAD
<<<<<<< HEAD
<<<<<<< HEAD
   "id": "b2c352b1",
||||||| b944554d
   "id": "8535f18b",
=======
   "id": "eac774ad",
>>>>>>> documentation-devel
||||||| 35cb6e7a
   "id": "eac774ad",
=======
   "id": "7e1441f8",
>>>>>>> documentation-devel
||||||| 596bf878
<<<<<<< HEAD
   "id": "b2c352b1",
||||||| b944554d
   "id": "8535f18b",
=======
   "id": "eac774ad",
>>>>>>> documentation-devel
=======
   "id": "210e1855",
>>>>>>> f8a184fea58c53eb88debec89cb7180bf225886f
   "metadata": {},
   "source": [
    "# Introduction\n",
    "The data in this vignette is shipped with the `cellatlas` repository. The count matrix and metadata are provided in the `cellatlas/examples` folder as an [`AnnData`](https://anndata-tutorials.readthedocs.io/en/latest/getting-started.html) object. We will begin by loading the object and converting it to a `SingleCellExperiment` object. \n"
   ]
  },
  {
   "cell_type": "code",
   "execution_count": null,
<<<<<<< HEAD
<<<<<<< HEAD
<<<<<<< HEAD
   "id": "09743a3e",
||||||| b944554d
   "id": "c53872c9",
=======
   "id": "d345009f",
>>>>>>> documentation-devel
||||||| 35cb6e7a
   "id": "d345009f",
=======
   "id": "b997d83b",
>>>>>>> documentation-devel
||||||| 596bf878
<<<<<<< HEAD
   "id": "09743a3e",
||||||| b944554d
   "id": "c53872c9",
=======
   "id": "d345009f",
>>>>>>> documentation-devel
=======
   "id": "14c539a9",
>>>>>>> f8a184fea58c53eb88debec89cb7180bf225886f
   "metadata": {
    "message": false
   },
   "outputs": [],
   "source": [
    "library(stringr)\n",
    "library(DropletUtils)\n",
    "library(Matrix)\n",
    "library(SpatialExperiment)\n",
    "library(SpatialFeatureExperiment)\n",
    "library(scater)\n",
    "library(scuttle)\n",
    "library(Voyager)\n",
    "library(zellkonverter)\n",
    "library(ggplot2)\n",
    "theme_set(theme_bw())"
   ]
  },
  {
   "cell_type": "code",
   "execution_count": null,
<<<<<<< HEAD
<<<<<<< HEAD
<<<<<<< HEAD
   "id": "c1f2f7b1",
||||||| b944554d
   "id": "5f70e791",
=======
   "id": "3e5f04ae",
>>>>>>> documentation-devel
||||||| 35cb6e7a
   "id": "3e5f04ae",
=======
   "id": "ab78761d",
>>>>>>> documentation-devel
||||||| 596bf878
<<<<<<< HEAD
   "id": "c1f2f7b1",
||||||| b944554d
   "id": "5f70e791",
=======
   "id": "3e5f04ae",
>>>>>>> documentation-devel
=======
   "id": "3902054d",
>>>>>>> f8a184fea58c53eb88debec89cb7180bf225886f
   "metadata": {
    "message": false,
    "name": "dwnld",
    "tags": [
     "remove_output"
    ]
   },
   "outputs": [],
   "source": [
    "download.file(\"https://github.com/cellatlas/cellatlas/raw/main/examples/atac-10xatac/cellatlas_out/adata.h5ad.gz\", \n",
    "                  \"adata.h5ad.gz\", quiet = TRUE)\n",
    "system(\"gunzip -f adata.h5ad.gz\")\n",
    "sce <- readH5AD(\"adata.h5ad\")\n",
    "assayNames(sce) <- \"counts\""
   ]
  },
  {
   "cell_type": "code",
   "execution_count": null,
<<<<<<< HEAD
<<<<<<< HEAD
<<<<<<< HEAD
   "id": "a2f13645",
||||||| b944554d
   "id": "f50fd8de",
=======
   "id": "bfc34ed3",
>>>>>>> documentation-devel
||||||| 35cb6e7a
   "id": "bfc34ed3",
=======
   "id": "8cf35f1e",
>>>>>>> documentation-devel
||||||| 596bf878
<<<<<<< HEAD
   "id": "a2f13645",
||||||| b944554d
   "id": "f50fd8de",
=======
   "id": "bfc34ed3",
>>>>>>> documentation-devel
=======
   "id": "59bf78bf",
>>>>>>> f8a184fea58c53eb88debec89cb7180bf225886f
   "metadata": {},
   "outputs": [],
   "source": [
    "sce <- addPerCellQCMetrics(sce)\n",
    "names(colData(sce))"
   ]
  },
  {
   "cell_type": "code",
   "execution_count": null,
<<<<<<< HEAD
<<<<<<< HEAD
<<<<<<< HEAD
   "id": "34807f4b",
||||||| b944554d
   "id": "8232a19f",
=======
   "id": "91f9a244",
>>>>>>> documentation-devel
||||||| 35cb6e7a
   "id": "91f9a244",
=======
   "id": "34e4126e",
>>>>>>> documentation-devel
||||||| 596bf878
<<<<<<< HEAD
   "id": "34807f4b",
||||||| b944554d
   "id": "8232a19f",
=======
   "id": "91f9a244",
>>>>>>> documentation-devel
=======
   "id": "4170f5c7",
>>>>>>> f8a184fea58c53eb88debec89cb7180bf225886f
   "metadata": {},
   "outputs": [],
   "source": [
    "plotColData(sce, \"sum\") +\n",
    "    plotColData(sce, \"detected\") "
   ]
  },
  {
   "cell_type": "code",
   "execution_count": null,
<<<<<<< HEAD
<<<<<<< HEAD
<<<<<<< HEAD
   "id": "e13571ed",
||||||| b944554d
   "id": "b97fcd61",
=======
   "id": "fc5bff1d",
>>>>>>> documentation-devel
||||||| 35cb6e7a
   "id": "fc5bff1d",
=======
   "id": "6f2463b6",
>>>>>>> documentation-devel
||||||| 596bf878
<<<<<<< HEAD
   "id": "e13571ed",
||||||| b944554d
   "id": "b97fcd61",
=======
   "id": "fc5bff1d",
>>>>>>> documentation-devel
=======
   "id": "2c1fc075",
>>>>>>> f8a184fea58c53eb88debec89cb7180bf225886f
   "metadata": {},
   "outputs": [],
   "source": [
    "plotColData(sce, x = \"sum\", y = \"detected\", bins = 100) +\n",
    "    scale_fill_distiller(palette = \"Blues\", direction = 1)"
   ]
  },
  {
   "cell_type": "code",
   "execution_count": null,
<<<<<<< HEAD
<<<<<<< HEAD
<<<<<<< HEAD
   "id": "bc098e6d",
||||||| b944554d
   "id": "e46c96b3",
=======
   "id": "1bf18848",
>>>>>>> documentation-devel
||||||| 35cb6e7a
   "id": "1bf18848",
=======
   "id": "28c399c5",
>>>>>>> documentation-devel
||||||| 596bf878
<<<<<<< HEAD
   "id": "bc098e6d",
||||||| b944554d
   "id": "e46c96b3",
=======
   "id": "1bf18848",
>>>>>>> documentation-devel
=======
   "id": "de3e85bc",
>>>>>>> f8a184fea58c53eb88debec89cb7180bf225886f
   "metadata": {
    "name": "subset-qc"
   },
   "outputs": [],
   "source": [
    "sce <- sce[, which(sce$total > 0)]\n",
    "sce <- sce[rowSums(counts(sce)) > 0,]\n",
    "\n",
    "sce"
   ]
  },
  {
   "cell_type": "code",
   "execution_count": null,
<<<<<<< HEAD
<<<<<<< HEAD
<<<<<<< HEAD
   "id": "aca86e95",
||||||| b944554d
   "id": "26f5d41d",
=======
   "id": "48884171",
>>>>>>> documentation-devel
||||||| 35cb6e7a
   "id": "48884171",
=======
   "id": "bd3414eb",
>>>>>>> documentation-devel
||||||| 596bf878
<<<<<<< HEAD
   "id": "aca86e95",
||||||| b944554d
   "id": "26f5d41d",
=======
   "id": "48884171",
>>>>>>> documentation-devel
=======
   "id": "22dc3273",
>>>>>>> f8a184fea58c53eb88debec89cb7180bf225886f
   "metadata": {},
   "outputs": [],
   "source": [
    "sessionInfo()"
   ]
  }
 ],
 "metadata": {
  "kernelspec": {
   "display_name": "R",
   "language": "R",
   "name": "ir"
  }
 },
 "nbformat": 4,
 "nbformat_minor": 5
}
