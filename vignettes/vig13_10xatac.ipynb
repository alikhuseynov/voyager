{
 "cells": [
  {
   "cell_type": "raw",
<<<<<<< HEAD
<<<<<<< HEAD
<<<<<<< HEAD
   "id": "dd4f2f31",
||||||| fa5abb84
   "id": "b0a7963d",
=======
   "id": "e91e6957",
>>>>>>> documentation-devel
||||||| 7e3277eb
   "id": "e91e6957",
=======
   "id": "7529388d",
>>>>>>> documentation-devel
||||||| 971bf77c
<<<<<<< HEAD
   "id": "dd4f2f31",
||||||| fa5abb84
   "id": "b0a7963d",
=======
   "id": "e91e6957",
>>>>>>> documentation-devel
=======
   "id": "c44ea834",
>>>>>>> e1d793125c0aeb7e34aca09298b9c5b44973e4b3
   "metadata": {},
   "source": [
    "---\n",
    "title: \"10X ATAC-seq basic quality control \"\n",
    "author: \"Kayla Jackson and A. Sina Booeshaghi\"\n",
    "date: \"`r Sys.Date()`\"\n",
    "output: \n",
    "  html_document:\n",
    "  toc: true\n",
    "  toc_float:\n",
    "    collapsed: false\n",
    "  toc_depth: 3\n",
    "bibliography: ref.bib\n",
    "vignette: >\n",
    "  %\\VignetteIndexEntry{10xatac_qc}\n",
    "  %\\VignetteEngine{knitr::rmarkdown}\n",
    "  %\\VignetteEncoding{UTF-8}\n",
    "---"
   ]
  },
  {
   "cell_type": "code",
   "execution_count": null,
<<<<<<< HEAD
<<<<<<< HEAD
<<<<<<< HEAD
   "id": "85ec514d",
||||||| fa5abb84
   "id": "09d8e82c",
=======
   "id": "ed19ee41",
>>>>>>> documentation-devel
||||||| 7e3277eb
   "id": "ed19ee41",
=======
   "id": "3f954c85",
>>>>>>> documentation-devel
||||||| 971bf77c
<<<<<<< HEAD
   "id": "85ec514d",
||||||| fa5abb84
   "id": "09d8e82c",
=======
   "id": "ed19ee41",
>>>>>>> documentation-devel
=======
   "id": "9889af05",
>>>>>>> e1d793125c0aeb7e34aca09298b9c5b44973e4b3
   "metadata": {
    "tags": [
     "remove_cell"
    ]
   },
   "outputs": [],
   "source": [
    "knitr::opts_chunk$set(\n",
    "  collapse = TRUE,\n",
    "  comment = \"#>\", fig.align = \"center\"\n",
    ")"
   ]
  },
  {
   "cell_type": "code",
   "execution_count": null,
<<<<<<< HEAD
<<<<<<< HEAD
<<<<<<< HEAD
   "id": "058c3c38",
||||||| fa5abb84
   "id": "564cf943",
=======
   "id": "3bb4834c",
>>>>>>> documentation-devel
||||||| 7e3277eb
   "id": "3bb4834c",
=======
   "id": "cc15d387",
>>>>>>> documentation-devel
||||||| 971bf77c
<<<<<<< HEAD
   "id": "058c3c38",
||||||| fa5abb84
   "id": "564cf943",
=======
   "id": "3bb4834c",
>>>>>>> documentation-devel
=======
   "id": "3b18557d",
>>>>>>> e1d793125c0aeb7e34aca09298b9c5b44973e4b3
   "metadata": {
    "eval": false,
    "tags": [
     "remove_cell"
    ]
   },
   "outputs": [],
   "source": [
    "# Install Google Colab dependencies\n",
    "# Note: this can take 30+ minutes (many of the dependencies include C++ code, which needs to be compiled)\n",
    "\n",
    "# First install `sf`, `ragg` and `textshaping` and their system dependencies:\n",
    "system(\"apt-get -y update && apt-get install -y  libudunits2-dev libgdal-dev libgeos-dev libproj-dev libharfbuzz-dev libfribidi-dev\")\n",
    "install.packages(\"sf\")\n",
    "install.packages(\"textshaping\")\n",
    "install.packages(\"ragg\")\n",
    "\n",
    "# Install system dependencies of some other R packages that Voyager either imports or suggests:\n",
    "system(\"apt-get install -y libfribidi-dev libcairo2-dev libmagick++-dev\")\n",
    "\n",
    "# Install Voyager from Bioconductor:\n",
    "install.packages(\"BiocManager\")\n",
    "BiocManager::install(version = \"3.17\", ask = FALSE, update = FALSE, Ncpus = 2)\n",
    "BiocManager::install(\"scater\")\n",
    "system.time(\n",
    "  BiocManager::install(\"Voyager\", dependencies = TRUE, Ncpus = 2, update = FALSE)\n",
    ")\n",
    "\n",
    "\n",
    "packageVersion(\"Voyager\")"
   ]
  },
  {
   "cell_type": "markdown",
<<<<<<< HEAD
<<<<<<< HEAD
<<<<<<< HEAD
   "id": "e3feb65c",
||||||| fa5abb84
   "id": "7e1441f8",
=======
   "id": "95fc9b16",
>>>>>>> documentation-devel
||||||| 7e3277eb
   "id": "95fc9b16",
=======
   "id": "5478e541",
>>>>>>> documentation-devel
||||||| 971bf77c
<<<<<<< HEAD
   "id": "e3feb65c",
||||||| fa5abb84
   "id": "7e1441f8",
=======
   "id": "95fc9b16",
>>>>>>> documentation-devel
=======
   "id": "b76b0e18",
>>>>>>> e1d793125c0aeb7e34aca09298b9c5b44973e4b3
   "metadata": {},
   "source": [
    "# Introduction\n",
    "The data in this vignette is shipped with the `cellatlas` repository. The count matrix and metadata are provided in the `cellatlas/examples` folder as an [`AnnData`](https://anndata-tutorials.readthedocs.io/en/latest/getting-started.html) object. We will begin by loading the object and converting it to a `SingleCellExperiment` object. \n"
   ]
  },
  {
   "cell_type": "code",
   "execution_count": null,
<<<<<<< HEAD
<<<<<<< HEAD
<<<<<<< HEAD
   "id": "0ebbaf1c",
||||||| fa5abb84
   "id": "b997d83b",
=======
   "id": "6877f6c5",
>>>>>>> documentation-devel
||||||| 7e3277eb
   "id": "6877f6c5",
=======
   "id": "2b37174a",
>>>>>>> documentation-devel
||||||| 971bf77c
<<<<<<< HEAD
   "id": "0ebbaf1c",
||||||| fa5abb84
   "id": "b997d83b",
=======
   "id": "6877f6c5",
>>>>>>> documentation-devel
=======
   "id": "4b62ca22",
>>>>>>> e1d793125c0aeb7e34aca09298b9c5b44973e4b3
   "metadata": {
    "message": false
   },
   "outputs": [],
   "source": [
    "library(stringr)\n",
    "library(DropletUtils)\n",
    "library(Matrix)\n",
    "library(SpatialExperiment)\n",
    "library(SpatialFeatureExperiment)\n",
    "library(scater)\n",
    "library(scuttle)\n",
    "library(Voyager)\n",
    "library(ggplot2)\n",
    "theme_set(theme_bw())"
   ]
  },
  {
   "cell_type": "code",
   "execution_count": null,
<<<<<<< HEAD
<<<<<<< HEAD
<<<<<<< HEAD
   "id": "e25d0c5d",
||||||| 971bf77c
<<<<<<< HEAD
   "id": "e25d0c5d",
=======
   "id": "9c979425",
>>>>>>> e1d793125c0aeb7e34aca09298b9c5b44973e4b3
   "metadata": {
    "message": true,
    "tags": [
     "remove_output"
    ]
   },
<<<<<<< HEAD
||||||| fa5abb84
   "id": "ab78761d",
   "metadata": {
    "message": false,
    "name": "dwnld",
    "tags": [
     "remove_output"
    ]
   },
=======
   "id": "3d614589",
   "metadata": {},
>>>>>>> documentation-devel
||||||| 7e3277eb
   "id": "3d614589",
   "metadata": {},
=======
   "id": "a70cbd72",
   "metadata": {
    "message": true,
    "tags": [
     "remove_output"
    ]
   },
>>>>>>> documentation-devel
||||||| 971bf77c
||||||| fa5abb84
   "id": "ab78761d",
   "metadata": {
    "message": false,
    "name": "dwnld",
    "tags": [
     "remove_output"
    ]
   },
=======
   "id": "3d614589",
   "metadata": {},
>>>>>>> documentation-devel
=======
>>>>>>> e1d793125c0aeb7e34aca09298b9c5b44973e4b3
   "outputs": [],
   "source": [
    "if (!file.exists(\"10xatac.rds\"))\n",
    "    download.file(\"https://github.com/pachterlab/voyager/raw/documentation-devel/vignettes/10xatac.rds\", destfile = \"10xatac.rds\")\n",
    "sce <- readRDS(\"10xatac.rds\")"
   ]
  },
  {
   "cell_type": "code",
   "execution_count": null,
<<<<<<< HEAD
<<<<<<< HEAD
<<<<<<< HEAD
   "id": "14826478",
||||||| fa5abb84
   "id": "8cf35f1e",
=======
   "id": "5d9e7977",
>>>>>>> documentation-devel
||||||| 7e3277eb
   "id": "5d9e7977",
=======
   "id": "2dcbb348",
>>>>>>> documentation-devel
||||||| 971bf77c
<<<<<<< HEAD
   "id": "14826478",
||||||| fa5abb84
   "id": "8cf35f1e",
=======
   "id": "5d9e7977",
>>>>>>> documentation-devel
=======
   "id": "268566ca",
>>>>>>> e1d793125c0aeb7e34aca09298b9c5b44973e4b3
   "metadata": {},
   "outputs": [],
   "source": [
    "sce <- addPerCellQCMetrics(sce)\n",
    "names(colData(sce))"
   ]
  },
  {
   "cell_type": "code",
   "execution_count": null,
<<<<<<< HEAD
<<<<<<< HEAD
<<<<<<< HEAD
   "id": "63f68344",
||||||| fa5abb84
   "id": "34e4126e",
=======
   "id": "c7bcfbb0",
>>>>>>> documentation-devel
||||||| 7e3277eb
   "id": "c7bcfbb0",
=======
   "id": "c8b7d785",
>>>>>>> documentation-devel
||||||| 971bf77c
<<<<<<< HEAD
   "id": "63f68344",
||||||| fa5abb84
   "id": "34e4126e",
=======
   "id": "c7bcfbb0",
>>>>>>> documentation-devel
=======
   "id": "185b6235",
>>>>>>> e1d793125c0aeb7e34aca09298b9c5b44973e4b3
   "metadata": {},
   "outputs": [],
   "source": [
    "plotColData(sce, \"sum\") +\n",
    "    plotColData(sce, \"detected\") "
   ]
  },
  {
   "cell_type": "code",
   "execution_count": null,
<<<<<<< HEAD
<<<<<<< HEAD
<<<<<<< HEAD
   "id": "c2bf812d",
||||||| fa5abb84
   "id": "6f2463b6",
=======
   "id": "194c5b71",
>>>>>>> documentation-devel
||||||| 7e3277eb
   "id": "194c5b71",
=======
   "id": "0b4076c9",
>>>>>>> documentation-devel
||||||| 971bf77c
<<<<<<< HEAD
   "id": "c2bf812d",
||||||| fa5abb84
   "id": "6f2463b6",
=======
   "id": "194c5b71",
>>>>>>> documentation-devel
=======
   "id": "7970b3dc",
>>>>>>> e1d793125c0aeb7e34aca09298b9c5b44973e4b3
   "metadata": {},
   "outputs": [],
   "source": [
    "plotColData(sce, x = \"sum\", y = \"detected\", bins = 100) +\n",
    "    scale_fill_distiller(palette = \"Blues\", direction = 1)"
   ]
  },
  {
   "cell_type": "code",
   "execution_count": null,
<<<<<<< HEAD
<<<<<<< HEAD
<<<<<<< HEAD
   "id": "16476da3",
||||||| fa5abb84
   "id": "28c399c5",
=======
   "id": "96d83612",
>>>>>>> documentation-devel
||||||| 7e3277eb
   "id": "96d83612",
=======
   "id": "44154bb4",
>>>>>>> documentation-devel
||||||| 971bf77c
<<<<<<< HEAD
   "id": "16476da3",
||||||| fa5abb84
   "id": "28c399c5",
=======
   "id": "96d83612",
>>>>>>> documentation-devel
=======
   "id": "5a798106",
>>>>>>> e1d793125c0aeb7e34aca09298b9c5b44973e4b3
   "metadata": {
    "name": "subset-qc"
   },
   "outputs": [],
   "source": [
    "sce <- sce[, which(sce$total > 0)]\n",
    "sce <- sce[rowSums(counts(sce)) > 0,]\n",
    "\n",
    "sce"
   ]
  },
  {
   "cell_type": "code",
   "execution_count": null,
<<<<<<< HEAD
<<<<<<< HEAD
<<<<<<< HEAD
   "id": "9b1bc190",
||||||| fa5abb84
   "id": "bd3414eb",
=======
   "id": "9f9ef222",
>>>>>>> documentation-devel
||||||| 7e3277eb
   "id": "9f9ef222",
=======
   "id": "fadf33b7",
>>>>>>> documentation-devel
||||||| 971bf77c
<<<<<<< HEAD
   "id": "9b1bc190",
||||||| fa5abb84
   "id": "bd3414eb",
=======
   "id": "9f9ef222",
>>>>>>> documentation-devel
=======
   "id": "88274144",
>>>>>>> e1d793125c0aeb7e34aca09298b9c5b44973e4b3
   "metadata": {},
   "outputs": [],
   "source": [
    "sessionInfo()"
   ]
  }
 ],
 "metadata": {
  "kernelspec": {
   "display_name": "R",
   "language": "R",
   "name": "ir"
  }
 },
 "nbformat": 4,
 "nbformat_minor": 5
}
