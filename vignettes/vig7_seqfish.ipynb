{
 "cells": [
  {
   "cell_type": "raw",
<<<<<<< HEAD
<<<<<<< HEAD
<<<<<<< HEAD
<<<<<<< HEAD
<<<<<<< HEAD
<<<<<<< HEAD
   "id": "48bef4bc",
||||||| 6a30bf1
   "id": "1c9b0df6",
=======
   "id": "3fe0ba51",
>>>>>>> documentation-devel
||||||| d28b18c
   "id": "3fe0ba51",
=======
   "id": "fa5d4ed7",
>>>>>>> documentation-devel
||||||| 6893f63
<<<<<<< HEAD
   "id": "48bef4bc",
||||||| 6a30bf1
   "id": "1c9b0df6",
=======
   "id": "3fe0ba51",
>>>>>>> documentation-devel
=======
   "id": "63f741cd",
>>>>>>> c74c98c2450c2a1ba922ed9442f136238d6bc88b
||||||| 6d93b645
   "id": "fa5d4ed7",
=======
   "id": "c998d94c",
>>>>>>> documentation-devel
||||||| 804edffb
<<<<<<< HEAD
<<<<<<< HEAD
<<<<<<< HEAD
   "id": "48bef4bc",
||||||| 6a30bf1
   "id": "1c9b0df6",
=======
   "id": "3fe0ba51",
>>>>>>> documentation-devel
||||||| d28b18c
   "id": "3fe0ba51",
=======
   "id": "fa5d4ed7",
>>>>>>> documentation-devel
||||||| 6893f63
<<<<<<< HEAD
   "id": "48bef4bc",
||||||| 6a30bf1
   "id": "1c9b0df6",
=======
   "id": "3fe0ba51",
>>>>>>> documentation-devel
=======
   "id": "63f741cd",
>>>>>>> c74c98c2450c2a1ba922ed9442f136238d6bc88b
=======
   "id": "cddf0cf1",
>>>>>>> 035bb2637984ead2784fecff78c0c60cc4181202
||||||| 3effdfa5
   "id": "c998d94c",
=======
   "id": "3c66ad8c",
>>>>>>> documentation-devel
   "metadata": {},
   "source": [
    "---\n",
    "title: \"seqFISH exploratory data analysis\"\n",
    "author: \"Kayla Jackson\"\n",
    "date: \"`r Sys.Date()`\"\n",
    "output: \n",
    "  html_document:\n",
    "  toc: true\n",
    "  toc_float:\n",
    "    collapsed: false\n",
    "  toc_depth: 3\n",
    "bibliography: ref.bib\n",
    "vignette: >\n",
    "  %\\VignetteIndexEntry{seqfish_basic}\n",
    "  %\\VignetteEngine{knitr::rmarkdown}\n",
    "  %\\VignetteEncoding{UTF-8}\n",
    "---"
   ]
  },
  {
   "cell_type": "code",
   "execution_count": null,
<<<<<<< HEAD
<<<<<<< HEAD
<<<<<<< HEAD
<<<<<<< HEAD
<<<<<<< HEAD
<<<<<<< HEAD
   "id": "2f0c5316",
||||||| 6a30bf1
   "id": "aa7c8837",
=======
   "id": "571979fd",
>>>>>>> documentation-devel
||||||| d28b18c
   "id": "571979fd",
=======
   "id": "44186f92",
>>>>>>> documentation-devel
||||||| 6893f63
<<<<<<< HEAD
   "id": "2f0c5316",
||||||| 6a30bf1
   "id": "aa7c8837",
=======
   "id": "571979fd",
>>>>>>> documentation-devel
=======
   "id": "3a9cf19a",
>>>>>>> c74c98c2450c2a1ba922ed9442f136238d6bc88b
||||||| 6d93b645
   "id": "44186f92",
=======
   "id": "c394164e",
>>>>>>> documentation-devel
||||||| 804edffb
<<<<<<< HEAD
<<<<<<< HEAD
<<<<<<< HEAD
   "id": "2f0c5316",
||||||| 6a30bf1
   "id": "aa7c8837",
=======
   "id": "571979fd",
>>>>>>> documentation-devel
||||||| d28b18c
   "id": "571979fd",
=======
   "id": "44186f92",
>>>>>>> documentation-devel
||||||| 6893f63
<<<<<<< HEAD
   "id": "2f0c5316",
||||||| 6a30bf1
   "id": "aa7c8837",
=======
   "id": "571979fd",
>>>>>>> documentation-devel
=======
   "id": "3a9cf19a",
>>>>>>> c74c98c2450c2a1ba922ed9442f136238d6bc88b
=======
   "id": "a6d89bf0",
>>>>>>> 035bb2637984ead2784fecff78c0c60cc4181202
||||||| 3effdfa5
   "id": "c394164e",
=======
   "id": "741b7d96",
>>>>>>> documentation-devel
   "metadata": {
    "tags": [
     "remove_cell"
    ]
   },
   "outputs": [],
   "source": [
    "knitr::opts_chunk$set(\n",
    "  collapse = TRUE,\n",
    "  comment = \"#>\", fig.align = \"center\"\n",
    ")"
   ]
  },
  {
   "cell_type": "code",
   "execution_count": null,
<<<<<<< HEAD
<<<<<<< HEAD
<<<<<<< HEAD
<<<<<<< HEAD
<<<<<<< HEAD
<<<<<<< HEAD
   "id": "7f5f1368",
||||||| 6a30bf1
   "id": "2a10c208",
=======
   "id": "f4a6a0c8",
>>>>>>> documentation-devel
||||||| d28b18c
   "id": "f4a6a0c8",
=======
   "id": "ec12f033",
>>>>>>> documentation-devel
||||||| 6893f63
<<<<<<< HEAD
   "id": "7f5f1368",
||||||| 6a30bf1
   "id": "2a10c208",
=======
   "id": "f4a6a0c8",
>>>>>>> documentation-devel
=======
   "id": "bfc6b0c1",
>>>>>>> c74c98c2450c2a1ba922ed9442f136238d6bc88b
||||||| 6d93b645
   "id": "ec12f033",
=======
   "id": "183e6d8d",
>>>>>>> documentation-devel
||||||| 804edffb
<<<<<<< HEAD
<<<<<<< HEAD
<<<<<<< HEAD
   "id": "7f5f1368",
||||||| 6a30bf1
   "id": "2a10c208",
=======
   "id": "f4a6a0c8",
>>>>>>> documentation-devel
||||||| d28b18c
   "id": "f4a6a0c8",
=======
   "id": "ec12f033",
>>>>>>> documentation-devel
||||||| 6893f63
<<<<<<< HEAD
   "id": "7f5f1368",
||||||| 6a30bf1
   "id": "2a10c208",
=======
   "id": "f4a6a0c8",
>>>>>>> documentation-devel
=======
   "id": "bfc6b0c1",
>>>>>>> c74c98c2450c2a1ba922ed9442f136238d6bc88b
=======
   "id": "796181a4",
>>>>>>> 035bb2637984ead2784fecff78c0c60cc4181202
||||||| 3effdfa5
   "id": "183e6d8d",
=======
   "id": "d4509e5e",
>>>>>>> documentation-devel
   "metadata": {
    "eval": false,
    "tags": [
     "remove_cell"
    ]
   },
   "outputs": [],
   "source": [
    "# Install Google Colab dependencies\n",
    "# Note: this can take 30+ minutes (many of the dependencies include C++ code, which needs to be compiled)\n",
    "\n",
    "# First install `sf`, `ragg` and `textshaping` and their system dependencies:\n",
    "system(\"apt-get -y update && apt-get install -y  libudunits2-dev libgdal-dev libgeos-dev libproj-dev libharfbuzz-dev libfribidi-dev\")\n",
    "install.packages(\"sf\")\n",
    "install.packages(\"textshaping\")\n",
    "install.packages(\"ragg\")\n",
    "\n",
    "# Install system dependencies of some other R packages that Voyager either imports or suggests:\n",
    "system(\"apt-get install -y libfribidi-dev libcairo2-dev libmagick++-dev\")\n",
    "\n",
    "# Install Voyager from Bioconductor:\n",
    "install.packages(\"BiocManager\")\n",
    "BiocManager::install(version = \"3.17\", ask = FALSE, update = FALSE, Ncpus = 2)\n",
    "BiocManager::install(\"scater\")\n",
    "system.time(\n",
    "  BiocManager::install(\"Voyager\", dependencies = TRUE, Ncpus = 2, update = FALSE)\n",
    ")\n",
    "\n",
    "# Install additional dependencies for this vignette\n",
    "BiocManager::install(\"batchelor\")\n",
    "BiocManager::install(\"fossil\")\n",
    "\n",
    "packageVersion(\"Voyager\")"
   ]
  },
  {
   "cell_type": "markdown",
<<<<<<< HEAD
<<<<<<< HEAD
<<<<<<< HEAD
<<<<<<< HEAD
<<<<<<< HEAD
<<<<<<< HEAD
   "id": "8e87a7c4",
||||||| 6a30bf1
   "id": "0455caf3",
=======
   "id": "c50fde79",
>>>>>>> documentation-devel
||||||| d28b18c
   "id": "c50fde79",
=======
   "id": "8bfb7fdf",
>>>>>>> documentation-devel
||||||| 6893f63
<<<<<<< HEAD
   "id": "8e87a7c4",
||||||| 6a30bf1
   "id": "0455caf3",
=======
   "id": "c50fde79",
>>>>>>> documentation-devel
=======
   "id": "bbbecc95",
>>>>>>> c74c98c2450c2a1ba922ed9442f136238d6bc88b
||||||| 6d93b645
   "id": "8bfb7fdf",
=======
   "id": "7efb659b",
>>>>>>> documentation-devel
||||||| 804edffb
<<<<<<< HEAD
<<<<<<< HEAD
<<<<<<< HEAD
   "id": "8e87a7c4",
||||||| 6a30bf1
   "id": "0455caf3",
=======
   "id": "c50fde79",
>>>>>>> documentation-devel
||||||| d28b18c
   "id": "c50fde79",
=======
   "id": "8bfb7fdf",
>>>>>>> documentation-devel
||||||| 6893f63
<<<<<<< HEAD
   "id": "8e87a7c4",
||||||| 6a30bf1
   "id": "0455caf3",
=======
   "id": "c50fde79",
>>>>>>> documentation-devel
=======
   "id": "bbbecc95",
>>>>>>> c74c98c2450c2a1ba922ed9442f136238d6bc88b
=======
   "id": "0ae5b188",
>>>>>>> 035bb2637984ead2784fecff78c0c60cc4181202
||||||| 3effdfa5
   "id": "7efb659b",
=======
   "id": "623dde53",
>>>>>>> documentation-devel
   "metadata": {
    "lines_to_next_cell": 0
   },
   "source": [
    "# Introduction\n",
    "\n",
    "# Dataset\n",
    "The data used in this vignette are described in [Integration of spatial and single-cell transcriptomic data elucidates mouse organogenesis](https://doi.org/10.1038/s41587-021-01006-2). Briefly, seqFISH was use to profile 351 genes in several mouse embryos at the 8-12 somite stage (ss). We will focus on a single biological replicate, embryo 3. The raw and processed counts and corresponding metadata are available to download from the [Marioni lab](https://content.cruk.cam.ac.uk/jmlab/SpatialMouseAtlas2020/). Expression matrices, segmentation data, and segmented cell vertices are provided as R objects that can be readily imported into an R environment. The data relevant to this vignette have been converted to a `SFE` object and are available to download [here](https://caltech.box.com/public/static/ulrqr1gk7oh21h9ejgua1xajs6dsbvrj) from Box.  \n",
    "\n",
    "The data have been added to the `SFEData` package on Bioconductor and will be available in the 3.17 release. \n",
    "\n",
    "We will begin by downloading the data and loading it in to R. "
   ]
  },
  {
   "cell_type": "code",
   "execution_count": null,
<<<<<<< HEAD
<<<<<<< HEAD
<<<<<<< HEAD
<<<<<<< HEAD
<<<<<<< HEAD
<<<<<<< HEAD
   "id": "0b049097",
||||||| 6a30bf1
   "id": "e1a52217",
=======
   "id": "a1b903c6",
>>>>>>> documentation-devel
||||||| d28b18c
   "id": "a1b903c6",
=======
   "id": "78f51b9b",
>>>>>>> documentation-devel
||||||| 6893f63
<<<<<<< HEAD
   "id": "0b049097",
||||||| 6a30bf1
   "id": "e1a52217",
=======
   "id": "a1b903c6",
>>>>>>> documentation-devel
=======
   "id": "91b00506",
>>>>>>> c74c98c2450c2a1ba922ed9442f136238d6bc88b
||||||| 6d93b645
   "id": "78f51b9b",
=======
   "id": "bec5b5ae",
>>>>>>> documentation-devel
||||||| 804edffb
<<<<<<< HEAD
<<<<<<< HEAD
<<<<<<< HEAD
   "id": "0b049097",
||||||| 6a30bf1
   "id": "e1a52217",
=======
   "id": "a1b903c6",
>>>>>>> documentation-devel
||||||| d28b18c
   "id": "a1b903c6",
=======
   "id": "78f51b9b",
>>>>>>> documentation-devel
||||||| 6893f63
<<<<<<< HEAD
   "id": "0b049097",
||||||| 6a30bf1
   "id": "e1a52217",
=======
   "id": "a1b903c6",
>>>>>>> documentation-devel
=======
   "id": "91b00506",
>>>>>>> c74c98c2450c2a1ba922ed9442f136238d6bc88b
=======
   "id": "414bd6ce",
>>>>>>> 035bb2637984ead2784fecff78c0c60cc4181202
||||||| 3effdfa5
   "id": "bec5b5ae",
=======
   "id": "f9962d9a",
>>>>>>> documentation-devel
   "metadata": {
    "message": false,
    "name": "setup"
   },
   "outputs": [],
   "source": [
    "library(Voyager)\n",
    "library(SFEData)\n",
    "library(SingleCellExperiment)\n",
    "library(SpatialExperiment)\n",
    "library(SpatialFeatureExperiment)\n",
    "library(batchelor)\n",
    "library(scater)\n",
    "library(scran)\n",
    "library(bluster)\n",
    "library(purrr)\n",
    "library(tidyr)\n",
    "library(dplyr)\n",
    "library(fossil)\n",
    "library(ggplot2)\n",
    "library(patchwork)\n",
    "library(spdep)\n",
    "library(BiocParallel)\n",
    "\n",
    "theme_set(theme_bw())"
   ]
  },
  {
   "cell_type": "code",
   "execution_count": null,
<<<<<<< HEAD
<<<<<<< HEAD
<<<<<<< HEAD
<<<<<<< HEAD
<<<<<<< HEAD
<<<<<<< HEAD
   "id": "7d1d274f",
||||||| 6a30bf1
   "id": "fd22ad5a",
=======
   "id": "20137c8c",
>>>>>>> documentation-devel
||||||| d28b18c
   "id": "20137c8c",
=======
   "id": "25dedb21",
>>>>>>> documentation-devel
||||||| 6893f63
<<<<<<< HEAD
   "id": "7d1d274f",
||||||| 6a30bf1
   "id": "fd22ad5a",
=======
   "id": "20137c8c",
>>>>>>> documentation-devel
=======
   "id": "2957558a",
>>>>>>> c74c98c2450c2a1ba922ed9442f136238d6bc88b
||||||| 6d93b645
   "id": "25dedb21",
=======
   "id": "ad93d17e",
>>>>>>> documentation-devel
||||||| 804edffb
<<<<<<< HEAD
<<<<<<< HEAD
<<<<<<< HEAD
   "id": "7d1d274f",
||||||| 6a30bf1
   "id": "fd22ad5a",
=======
   "id": "20137c8c",
>>>>>>> documentation-devel
||||||| d28b18c
   "id": "20137c8c",
=======
   "id": "25dedb21",
>>>>>>> documentation-devel
||||||| 6893f63
<<<<<<< HEAD
   "id": "7d1d274f",
||||||| 6a30bf1
   "id": "fd22ad5a",
=======
   "id": "20137c8c",
>>>>>>> documentation-devel
=======
   "id": "2957558a",
>>>>>>> c74c98c2450c2a1ba922ed9442f136238d6bc88b
=======
   "id": "f4a70d03",
>>>>>>> 035bb2637984ead2784fecff78c0c60cc4181202
||||||| 3effdfa5
   "id": "ad93d17e",
=======
   "id": "7912d5a1",
>>>>>>> documentation-devel
   "metadata": {},
   "outputs": [],
   "source": [
    "# Only Bioc 3.17 and above\n",
    "sfe <- LohoffGastrulationData()"
   ]
  },
  {
   "cell_type": "markdown",
<<<<<<< HEAD
<<<<<<< HEAD
<<<<<<< HEAD
<<<<<<< HEAD
<<<<<<< HEAD
<<<<<<< HEAD
   "id": "9e0f35c5",
||||||| 6a30bf1
   "id": "dede6a82",
=======
   "id": "63263c60",
>>>>>>> documentation-devel
||||||| d28b18c
   "id": "63263c60",
=======
   "id": "5da3c1f2",
>>>>>>> documentation-devel
||||||| 6893f63
<<<<<<< HEAD
   "id": "9e0f35c5",
||||||| 6a30bf1
   "id": "dede6a82",
=======
   "id": "63263c60",
>>>>>>> documentation-devel
=======
   "id": "999c8fdf",
>>>>>>> c74c98c2450c2a1ba922ed9442f136238d6bc88b
||||||| 6d93b645
   "id": "5da3c1f2",
=======
   "id": "6b36a91b",
>>>>>>> documentation-devel
||||||| 804edffb
<<<<<<< HEAD
<<<<<<< HEAD
<<<<<<< HEAD
   "id": "9e0f35c5",
||||||| 6a30bf1
   "id": "dede6a82",
=======
   "id": "63263c60",
>>>>>>> documentation-devel
||||||| d28b18c
   "id": "63263c60",
=======
   "id": "5da3c1f2",
>>>>>>> documentation-devel
||||||| 6893f63
<<<<<<< HEAD
   "id": "9e0f35c5",
||||||| 6a30bf1
   "id": "dede6a82",
=======
   "id": "63263c60",
>>>>>>> documentation-devel
=======
   "id": "999c8fdf",
>>>>>>> c74c98c2450c2a1ba922ed9442f136238d6bc88b
=======
   "id": "3820ca26",
>>>>>>> 035bb2637984ead2784fecff78c0c60cc4181202
||||||| 3effdfa5
   "id": "6b36a91b",
=======
   "id": "e2872981",
>>>>>>> documentation-devel
   "metadata": {
    "lines_to_next_cell": 0
   },
   "source": [
    "The rows in the count matrix correspond to the 351 barcoded genes measured by seqFISH. Additionally, the authors provide some metadata, including the field of view and z-slice for each cell. We will filter the count matrix and metadata to include only  cells from a single z-slice. "
   ]
  },
  {
   "cell_type": "code",
   "execution_count": null,
<<<<<<< HEAD
<<<<<<< HEAD
<<<<<<< HEAD
<<<<<<< HEAD
<<<<<<< HEAD
<<<<<<< HEAD
   "id": "0357fd26",
||||||| 6a30bf1
   "id": "b94d54df",
=======
   "id": "88e5937f",
>>>>>>> documentation-devel
||||||| d28b18c
   "id": "88e5937f",
=======
   "id": "2bbbc02c",
>>>>>>> documentation-devel
||||||| 6893f63
<<<<<<< HEAD
   "id": "0357fd26",
||||||| 6a30bf1
   "id": "b94d54df",
=======
   "id": "88e5937f",
>>>>>>> documentation-devel
=======
   "id": "a2a8edd7",
>>>>>>> c74c98c2450c2a1ba922ed9442f136238d6bc88b
||||||| 6d93b645
   "id": "2bbbc02c",
=======
   "id": "7bd62409",
>>>>>>> documentation-devel
||||||| 804edffb
<<<<<<< HEAD
<<<<<<< HEAD
<<<<<<< HEAD
   "id": "0357fd26",
||||||| 6a30bf1
   "id": "b94d54df",
=======
   "id": "88e5937f",
>>>>>>> documentation-devel
||||||| d28b18c
   "id": "88e5937f",
=======
   "id": "2bbbc02c",
>>>>>>> documentation-devel
||||||| 6893f63
<<<<<<< HEAD
   "id": "0357fd26",
||||||| 6a30bf1
   "id": "b94d54df",
=======
   "id": "88e5937f",
>>>>>>> documentation-devel
=======
   "id": "a2a8edd7",
>>>>>>> c74c98c2450c2a1ba922ed9442f136238d6bc88b
=======
   "id": "9e09acdd",
>>>>>>> 035bb2637984ead2784fecff78c0c60cc4181202
||||||| 3effdfa5
   "id": "7bd62409",
=======
   "id": "3490b182",
>>>>>>> documentation-devel
   "metadata": {},
   "outputs": [],
   "source": [
    "names(colData(sfe))"
   ]
  },
  {
   "cell_type": "code",
   "execution_count": null,
<<<<<<< HEAD
<<<<<<< HEAD
<<<<<<< HEAD
<<<<<<< HEAD
<<<<<<< HEAD
<<<<<<< HEAD
   "id": "89500b41",
||||||| 6a30bf1
   "id": "88d7cb7d",
=======
   "id": "7f572fba",
>>>>>>> documentation-devel
||||||| d28b18c
   "id": "7f572fba",
=======
   "id": "68499fc9",
>>>>>>> documentation-devel
||||||| 6893f63
<<<<<<< HEAD
   "id": "89500b41",
||||||| 6a30bf1
   "id": "88d7cb7d",
=======
   "id": "7f572fba",
>>>>>>> documentation-devel
=======
   "id": "f2b6c183",
>>>>>>> c74c98c2450c2a1ba922ed9442f136238d6bc88b
||||||| 6d93b645
   "id": "68499fc9",
=======
   "id": "86c6f298",
>>>>>>> documentation-devel
||||||| 804edffb
<<<<<<< HEAD
<<<<<<< HEAD
<<<<<<< HEAD
   "id": "89500b41",
||||||| 6a30bf1
   "id": "88d7cb7d",
=======
   "id": "7f572fba",
>>>>>>> documentation-devel
||||||| d28b18c
   "id": "7f572fba",
=======
   "id": "68499fc9",
>>>>>>> documentation-devel
||||||| 6893f63
<<<<<<< HEAD
   "id": "89500b41",
||||||| 6a30bf1
   "id": "88d7cb7d",
=======
   "id": "7f572fba",
>>>>>>> documentation-devel
=======
   "id": "f2b6c183",
>>>>>>> c74c98c2450c2a1ba922ed9442f136238d6bc88b
=======
   "id": "8a3db300",
>>>>>>> 035bb2637984ead2784fecff78c0c60cc4181202
||||||| 3effdfa5
   "id": "86c6f298",
=======
   "id": "597c971c",
>>>>>>> documentation-devel
   "metadata": {},
   "outputs": [],
   "source": [
    "mask <- colData(sfe)$z == 2\n",
    "sfe <- sfe[,mask]"
   ]
  },
  {
   "cell_type": "markdown",
<<<<<<< HEAD
<<<<<<< HEAD
<<<<<<< HEAD
<<<<<<< HEAD
<<<<<<< HEAD
<<<<<<< HEAD
   "id": "5a5f3a1d",
||||||| 6a30bf1
   "id": "5b0f09eb",
=======
   "id": "763bc64d",
>>>>>>> documentation-devel
||||||| d28b18c
   "id": "763bc64d",
=======
   "id": "a56e82b2",
>>>>>>> documentation-devel
||||||| 6893f63
<<<<<<< HEAD
   "id": "5a5f3a1d",
||||||| 6a30bf1
   "id": "5b0f09eb",
=======
   "id": "763bc64d",
>>>>>>> documentation-devel
=======
   "id": "445f116a",
>>>>>>> c74c98c2450c2a1ba922ed9442f136238d6bc88b
||||||| 6d93b645
   "id": "a56e82b2",
=======
   "id": "7776e415",
>>>>>>> documentation-devel
||||||| 804edffb
<<<<<<< HEAD
<<<<<<< HEAD
<<<<<<< HEAD
   "id": "5a5f3a1d",
||||||| 6a30bf1
   "id": "5b0f09eb",
=======
   "id": "763bc64d",
>>>>>>> documentation-devel
||||||| d28b18c
   "id": "763bc64d",
=======
   "id": "a56e82b2",
>>>>>>> documentation-devel
||||||| 6893f63
<<<<<<< HEAD
   "id": "5a5f3a1d",
||||||| 6a30bf1
   "id": "5b0f09eb",
=======
   "id": "763bc64d",
>>>>>>> documentation-devel
=======
   "id": "445f116a",
>>>>>>> c74c98c2450c2a1ba922ed9442f136238d6bc88b
=======
   "id": "25144f33",
>>>>>>> 035bb2637984ead2784fecff78c0c60cc4181202
||||||| 3effdfa5
   "id": "7776e415",
=======
   "id": "75b77471",
>>>>>>> documentation-devel
   "metadata": {
    "lines_to_next_cell": 0
   },
   "source": [
    "# Quality control \n",
    "\n",
    "We will begin quality control (QC) of the cells by computing metrics that are common in single-cell analysis and store them in the `colData` field of the SFE object. Below, we compute the number of counts per cell. We will also compute the average and display it on the violin plot. "
   ]
  },
  {
   "cell_type": "code",
   "execution_count": null,
<<<<<<< HEAD
<<<<<<< HEAD
<<<<<<< HEAD
<<<<<<< HEAD
<<<<<<< HEAD
<<<<<<< HEAD
   "id": "4a8eb0da",
||||||| 6a30bf1
   "id": "77602f9b",
=======
   "id": "06cf2afa",
>>>>>>> documentation-devel
||||||| d28b18c
   "id": "06cf2afa",
=======
   "id": "c18742fe",
>>>>>>> documentation-devel
||||||| 6893f63
<<<<<<< HEAD
   "id": "4a8eb0da",
||||||| 6a30bf1
   "id": "77602f9b",
=======
   "id": "06cf2afa",
>>>>>>> documentation-devel
=======
   "id": "010db8c1",
>>>>>>> c74c98c2450c2a1ba922ed9442f136238d6bc88b
||||||| 6d93b645
   "id": "c18742fe",
=======
   "id": "452ac712",
>>>>>>> documentation-devel
||||||| 804edffb
<<<<<<< HEAD
<<<<<<< HEAD
<<<<<<< HEAD
   "id": "4a8eb0da",
||||||| 6a30bf1
   "id": "77602f9b",
=======
   "id": "06cf2afa",
>>>>>>> documentation-devel
||||||| d28b18c
   "id": "06cf2afa",
=======
   "id": "c18742fe",
>>>>>>> documentation-devel
||||||| 6893f63
<<<<<<< HEAD
   "id": "4a8eb0da",
||||||| 6a30bf1
   "id": "77602f9b",
=======
   "id": "06cf2afa",
>>>>>>> documentation-devel
=======
   "id": "010db8c1",
>>>>>>> c74c98c2450c2a1ba922ed9442f136238d6bc88b
=======
   "id": "660deef4",
>>>>>>> 035bb2637984ead2784fecff78c0c60cc4181202
||||||| 3effdfa5
   "id": "452ac712",
=======
   "id": "4031a877",
>>>>>>> documentation-devel
   "metadata": {},
   "outputs": [],
   "source": [
    "colData(sfe)$nCounts <- colSums(counts(sfe))\n",
    "avg <- mean(colData(sfe)$nCounts)\n",
    "\n",
    "violin <- plotColData(sfe, \"nCounts\") +\n",
    "    geom_hline(yintercept = avg, color='red') +\n",
    "    theme(legend.position = \"top\") \n",
    "\n",
    "spatial <- plotSpatialFeature(sfe, \"nCounts\", colGeometryName = \"seg_coords\")\n",
    "\n",
    "violin + spatial"
   ]
  },
  {
   "cell_type": "markdown",
<<<<<<< HEAD
<<<<<<< HEAD
<<<<<<< HEAD
<<<<<<< HEAD
<<<<<<< HEAD
<<<<<<< HEAD
   "id": "f559d778",
||||||| 6a30bf1
   "id": "891ef9fd",
=======
   "id": "e72e363e",
>>>>>>> documentation-devel
||||||| d28b18c
   "id": "e72e363e",
=======
   "id": "7f54de2a",
>>>>>>> documentation-devel
||||||| 6893f63
<<<<<<< HEAD
   "id": "f559d778",
||||||| 6a30bf1
   "id": "891ef9fd",
=======
   "id": "e72e363e",
>>>>>>> documentation-devel
=======
   "id": "04d2e02b",
>>>>>>> c74c98c2450c2a1ba922ed9442f136238d6bc88b
||||||| 6d93b645
   "id": "7f54de2a",
=======
   "id": "7cbf52f3",
>>>>>>> documentation-devel
||||||| 804edffb
<<<<<<< HEAD
<<<<<<< HEAD
<<<<<<< HEAD
   "id": "f559d778",
||||||| 6a30bf1
   "id": "891ef9fd",
=======
   "id": "e72e363e",
>>>>>>> documentation-devel
||||||| d28b18c
   "id": "e72e363e",
=======
   "id": "7f54de2a",
>>>>>>> documentation-devel
||||||| 6893f63
<<<<<<< HEAD
   "id": "f559d778",
||||||| 6a30bf1
   "id": "891ef9fd",
=======
   "id": "e72e363e",
>>>>>>> documentation-devel
=======
   "id": "04d2e02b",
>>>>>>> c74c98c2450c2a1ba922ed9442f136238d6bc88b
=======
   "id": "86f2ea05",
>>>>>>> 035bb2637984ead2784fecff78c0c60cc4181202
||||||| 3effdfa5
   "id": "7cbf52f3",
=======
   "id": "55cacb2e",
>>>>>>> documentation-devel
   "metadata": {
    "lines_to_next_cell": 0
   },
   "source": [
    "Notably, the cells in this dataset have fewer counts that would be expected in a single-cell sequencing experiment and the cells with higher counts seem to be dispersed throughout the tissue. Fewer counts are expected in seqFISH experiments where probing for highly expressed genes may lead to optical crowding over multiple imaging rounds.  \n",
    "\n",
    "Since the counts are collected from several fields of view, we will visualize the number of cells and total counts for each field separately. "
   ]
  },
  {
   "cell_type": "code",
   "execution_count": null,
<<<<<<< HEAD
<<<<<<< HEAD
<<<<<<< HEAD
<<<<<<< HEAD
<<<<<<< HEAD
<<<<<<< HEAD
   "id": "0e573c2f",
||||||| 6a30bf1
   "id": "653c259c",
=======
   "id": "fcc15874",
>>>>>>> documentation-devel
||||||| d28b18c
   "id": "fcc15874",
=======
   "id": "4fb486ad",
>>>>>>> documentation-devel
||||||| 6893f63
<<<<<<< HEAD
   "id": "0e573c2f",
||||||| 6a30bf1
   "id": "653c259c",
=======
   "id": "fcc15874",
>>>>>>> documentation-devel
=======
   "id": "40f99b82",
>>>>>>> c74c98c2450c2a1ba922ed9442f136238d6bc88b
||||||| 6d93b645
   "id": "4fb486ad",
=======
   "id": "faa43ea2",
>>>>>>> documentation-devel
||||||| 804edffb
<<<<<<< HEAD
<<<<<<< HEAD
<<<<<<< HEAD
   "id": "0e573c2f",
||||||| 6a30bf1
   "id": "653c259c",
=======
   "id": "fcc15874",
>>>>>>> documentation-devel
||||||| d28b18c
   "id": "fcc15874",
=======
   "id": "4fb486ad",
>>>>>>> documentation-devel
||||||| 6893f63
<<<<<<< HEAD
   "id": "0e573c2f",
||||||| 6a30bf1
   "id": "653c259c",
=======
   "id": "fcc15874",
>>>>>>> documentation-devel
=======
   "id": "40f99b82",
>>>>>>> c74c98c2450c2a1ba922ed9442f136238d6bc88b
=======
   "id": "528c9c9b",
>>>>>>> 035bb2637984ead2784fecff78c0c60cc4181202
||||||| 3effdfa5
   "id": "faa43ea2",
=======
   "id": "b7b7c317",
>>>>>>> documentation-devel
   "metadata": {},
   "outputs": [],
   "source": [
    "pos <- colData(sfe)$pos\n",
    "counts_spl <- split.data.frame(t(counts(sfe)), pos)\n",
    "\n",
    "# nCounts per FOV\n",
    "df <- map_dfr(counts_spl, rowSums, .id='pos') |>\n",
    "    pivot_longer(cols=contains('embryo'), values_to = 'nCounts') |>\n",
    "    mutate(pos = factor(pos, levels = paste0(\"Pos\", seq_len(length(unique(pos)))-1))) |> \n",
    "    dplyr::filter(!is.na(nCounts))\n",
    "\n",
    "cells_fov <- colData(sfe) |> \n",
    "    as.data.frame() |> \n",
    "    mutate(pos = factor(pos, levels = paste0(\"Pos\", seq_len(length(unique(pos)))-1))) |> \n",
    "    ggplot(aes(pos,)) +\n",
    "    geom_bar() + \n",
    "    theme_minimal() + \n",
    "    labs(\n",
    "        x = \"\",\n",
    "        y = \"Number of cells\") + \n",
    "    theme(axis.text.x = element_text(angle = 90))\n",
    "\n",
    "counts_fov <- ggplot(df, aes(pos, nCounts)) +\n",
    "    geom_boxplot(outlier.size = 0.5) + \n",
    "    theme_minimal() + \n",
    "    labs(x = \"\", y = 'nCounts') + \n",
    "    theme(axis.text.x = element_text(angle = 90))\n",
    "\n",
    "cells_fov / counts_fov"
   ]
  },
  {
   "cell_type": "markdown",
<<<<<<< HEAD
<<<<<<< HEAD
<<<<<<< HEAD
<<<<<<< HEAD
<<<<<<< HEAD
<<<<<<< HEAD
   "id": "337aa400",
||||||| 6a30bf1
   "id": "405a96bc",
=======
   "id": "757db5d4",
>>>>>>> documentation-devel
||||||| d28b18c
   "id": "757db5d4",
=======
   "id": "1fc48431",
>>>>>>> documentation-devel
||||||| 6893f63
<<<<<<< HEAD
   "id": "337aa400",
||||||| 6a30bf1
   "id": "405a96bc",
=======
   "id": "757db5d4",
>>>>>>> documentation-devel
=======
   "id": "7e21d153",
>>>>>>> c74c98c2450c2a1ba922ed9442f136238d6bc88b
||||||| 6d93b645
   "id": "1fc48431",
=======
   "id": "34e24446",
>>>>>>> documentation-devel
||||||| 804edffb
<<<<<<< HEAD
<<<<<<< HEAD
<<<<<<< HEAD
   "id": "337aa400",
||||||| 6a30bf1
   "id": "405a96bc",
=======
   "id": "757db5d4",
>>>>>>> documentation-devel
||||||| d28b18c
   "id": "757db5d4",
=======
   "id": "1fc48431",
>>>>>>> documentation-devel
||||||| 6893f63
<<<<<<< HEAD
   "id": "337aa400",
||||||| 6a30bf1
   "id": "405a96bc",
=======
   "id": "757db5d4",
>>>>>>> documentation-devel
=======
   "id": "7e21d153",
>>>>>>> c74c98c2450c2a1ba922ed9442f136238d6bc88b
=======
   "id": "879cddbb",
>>>>>>> 035bb2637984ead2784fecff78c0c60cc4181202
||||||| 3effdfa5
   "id": "34e24446",
=======
   "id": "72401504",
>>>>>>> documentation-devel
   "metadata": {},
   "source": [
    "There is some variability in the total number of counts in each field of view. It is not completely apparent what accounts for the low number of counts in some FOVs. For example, FOV 22 has the fewest number of cells, but comparably more counts are detected there than in regions with more cells (e.g. FOV 18). \n",
    "\n",
    "Next, will will compute the number of genes detected per cell, defined here as the number of genes with non-zero counts. We will again plot this metric for each FOV as is done above."
   ]
  },
  {
   "cell_type": "code",
   "execution_count": null,
<<<<<<< HEAD
<<<<<<< HEAD
<<<<<<< HEAD
<<<<<<< HEAD
<<<<<<< HEAD
<<<<<<< HEAD
   "id": "fed82355",
||||||| 6a30bf1
   "id": "3ce28db6",
=======
   "id": "fdf3f283",
>>>>>>> documentation-devel
||||||| d28b18c
   "id": "fdf3f283",
=======
   "id": "92b130de",
>>>>>>> documentation-devel
||||||| 6893f63
<<<<<<< HEAD
   "id": "fed82355",
||||||| 6a30bf1
   "id": "3ce28db6",
=======
   "id": "fdf3f283",
>>>>>>> documentation-devel
=======
   "id": "be56a2b4",
>>>>>>> c74c98c2450c2a1ba922ed9442f136238d6bc88b
||||||| 6d93b645
   "id": "92b130de",
=======
   "id": "4ee98271",
>>>>>>> documentation-devel
||||||| 804edffb
<<<<<<< HEAD
<<<<<<< HEAD
<<<<<<< HEAD
   "id": "fed82355",
||||||| 6a30bf1
   "id": "3ce28db6",
=======
   "id": "fdf3f283",
>>>>>>> documentation-devel
||||||| d28b18c
   "id": "fdf3f283",
=======
   "id": "92b130de",
>>>>>>> documentation-devel
||||||| 6893f63
<<<<<<< HEAD
   "id": "fed82355",
||||||| 6a30bf1
   "id": "3ce28db6",
=======
   "id": "fdf3f283",
>>>>>>> documentation-devel
=======
   "id": "be56a2b4",
>>>>>>> c74c98c2450c2a1ba922ed9442f136238d6bc88b
=======
   "id": "3e54a987",
>>>>>>> 035bb2637984ead2784fecff78c0c60cc4181202
||||||| 3effdfa5
   "id": "4ee98271",
=======
   "id": "fed48497",
>>>>>>> documentation-devel
   "metadata": {},
   "outputs": [],
   "source": [
    "colData(sfe)$nGenes <- colSums(counts(sfe) > 0)\n",
    "\n",
    "avg <- mean(colData(sfe)$nGenes)\n",
    "\n",
    "violin <- plotColData(sfe, \"nGenes\") +\n",
    "    geom_hline(yintercept = avg, color='red') +\n",
    "    theme(legend.position = \"top\") \n",
    "\n",
    "spatial <- plotSpatialFeature(sfe, \"nGenes\", colGeometryName = \"seg_coords\")\n",
    "\n",
    "violin + spatial"
   ]
  },
  {
   "cell_type": "markdown",
<<<<<<< HEAD
<<<<<<< HEAD
<<<<<<< HEAD
<<<<<<< HEAD
<<<<<<< HEAD
<<<<<<< HEAD
   "id": "02bbe0df",
||||||| 6a30bf1
   "id": "2f9dfdf6",
=======
   "id": "8a405c59",
>>>>>>> documentation-devel
||||||| d28b18c
   "id": "8a405c59",
=======
   "id": "f26f7fec",
>>>>>>> documentation-devel
||||||| 6893f63
<<<<<<< HEAD
   "id": "02bbe0df",
||||||| 6a30bf1
   "id": "2f9dfdf6",
=======
   "id": "8a405c59",
>>>>>>> documentation-devel
=======
   "id": "5a001c46",
>>>>>>> c74c98c2450c2a1ba922ed9442f136238d6bc88b
||||||| 6d93b645
   "id": "f26f7fec",
=======
   "id": "39016e65",
>>>>>>> documentation-devel
||||||| 804edffb
<<<<<<< HEAD
<<<<<<< HEAD
<<<<<<< HEAD
   "id": "02bbe0df",
||||||| 6a30bf1
   "id": "2f9dfdf6",
=======
   "id": "8a405c59",
>>>>>>> documentation-devel
||||||| d28b18c
   "id": "8a405c59",
=======
   "id": "f26f7fec",
>>>>>>> documentation-devel
||||||| 6893f63
<<<<<<< HEAD
   "id": "02bbe0df",
||||||| 6a30bf1
   "id": "2f9dfdf6",
=======
   "id": "8a405c59",
>>>>>>> documentation-devel
=======
   "id": "5a001c46",
>>>>>>> c74c98c2450c2a1ba922ed9442f136238d6bc88b
=======
   "id": "cde1d52f",
>>>>>>> 035bb2637984ead2784fecff78c0c60cc4181202
||||||| 3effdfa5
   "id": "39016e65",
=======
   "id": "c0b27913",
>>>>>>> documentation-devel
   "metadata": {
    "lines_to_next_cell": 0
   },
   "source": [
    "Many cells have fewer than 100 detected genes. This in part reflects that the panel of 351 probed genes was chosen to distinguish cell types at these developmental stages and that distinct cell types will likely express a small subset of the 351 genes. The authors also note that the gene panel consists of lowly expressed to moderately expressed genes. Taken together, these technical details can explain the relatively low number of counts and genes per cell. \n",
    "\n",
    "Here, we plot the number of genes detected per cell in each FOV. "
   ]
  },
  {
   "cell_type": "code",
   "execution_count": null,
<<<<<<< HEAD
<<<<<<< HEAD
<<<<<<< HEAD
<<<<<<< HEAD
<<<<<<< HEAD
<<<<<<< HEAD
   "id": "9bb74dc0",
||||||| 6a30bf1
   "id": "9cbb8a39",
=======
   "id": "d20b93b3",
>>>>>>> documentation-devel
||||||| d28b18c
   "id": "d20b93b3",
=======
   "id": "8c13ee49",
>>>>>>> documentation-devel
||||||| 6893f63
<<<<<<< HEAD
   "id": "9bb74dc0",
||||||| 6a30bf1
   "id": "9cbb8a39",
=======
   "id": "d20b93b3",
>>>>>>> documentation-devel
=======
   "id": "76315f6a",
>>>>>>> c74c98c2450c2a1ba922ed9442f136238d6bc88b
||||||| 6d93b645
   "id": "8c13ee49",
=======
   "id": "477cef5f",
>>>>>>> documentation-devel
||||||| 804edffb
<<<<<<< HEAD
<<<<<<< HEAD
<<<<<<< HEAD
   "id": "9bb74dc0",
||||||| 6a30bf1
   "id": "9cbb8a39",
=======
   "id": "d20b93b3",
>>>>>>> documentation-devel
||||||| d28b18c
   "id": "d20b93b3",
=======
   "id": "8c13ee49",
>>>>>>> documentation-devel
||||||| 6893f63
<<<<<<< HEAD
   "id": "9bb74dc0",
||||||| 6a30bf1
   "id": "9cbb8a39",
=======
   "id": "d20b93b3",
>>>>>>> documentation-devel
=======
   "id": "76315f6a",
>>>>>>> c74c98c2450c2a1ba922ed9442f136238d6bc88b
=======
   "id": "a263d502",
>>>>>>> 035bb2637984ead2784fecff78c0c60cc4181202
||||||| 3effdfa5
   "id": "477cef5f",
=======
   "id": "856fe87c",
>>>>>>> documentation-devel
   "metadata": {},
   "outputs": [],
   "source": [
    "df <- map_dfr(counts_spl, ~ rowSums(.x > 0), .id='pos') |>\n",
    "    pivot_longer(cols = contains('embryo'), values_to = 'nGenes') |>\n",
    "    mutate(pos = factor(pos, levels = paste0(\"Pos\", seq_len(length(unique(pos)))-1))) |> \n",
    "    filter(!is.na(nGenes)) |>\n",
    "    merge(df)\n",
    "\n",
    "genes_fov <- ggplot(df, aes(pos, nGenes)) +\n",
    "    geom_boxplot(outlier.size = 0.5) + \n",
    "    theme_bw() + \n",
    "    labs(x = \"\") + \n",
    "    theme(axis.text.x = element_text(angle = 90))\n",
    "\n",
    "genes_fov"
   ]
  },
  {
   "cell_type": "markdown",
<<<<<<< HEAD
<<<<<<< HEAD
<<<<<<< HEAD
<<<<<<< HEAD
<<<<<<< HEAD
<<<<<<< HEAD
   "id": "ccfa567a",
||||||| 6a30bf1
   "id": "253db564",
=======
   "id": "2b3061d1",
>>>>>>> documentation-devel
||||||| d28b18c
   "id": "2b3061d1",
=======
   "id": "bad54b6e",
>>>>>>> documentation-devel
||||||| 6893f63
<<<<<<< HEAD
   "id": "ccfa567a",
||||||| 6a30bf1
   "id": "253db564",
=======
   "id": "2b3061d1",
>>>>>>> documentation-devel
=======
   "id": "f2d04cf3",
>>>>>>> c74c98c2450c2a1ba922ed9442f136238d6bc88b
||||||| 6d93b645
   "id": "bad54b6e",
=======
   "id": "4879c649",
>>>>>>> documentation-devel
||||||| 804edffb
<<<<<<< HEAD
<<<<<<< HEAD
<<<<<<< HEAD
   "id": "ccfa567a",
||||||| 6a30bf1
   "id": "253db564",
=======
   "id": "2b3061d1",
>>>>>>> documentation-devel
||||||| d28b18c
   "id": "2b3061d1",
=======
   "id": "bad54b6e",
>>>>>>> documentation-devel
||||||| 6893f63
<<<<<<< HEAD
   "id": "ccfa567a",
||||||| 6a30bf1
   "id": "253db564",
=======
   "id": "2b3061d1",
>>>>>>> documentation-devel
=======
   "id": "f2d04cf3",
>>>>>>> c74c98c2450c2a1ba922ed9442f136238d6bc88b
=======
   "id": "f3c213d2",
>>>>>>> 035bb2637984ead2784fecff78c0c60cc4181202
||||||| 3effdfa5
   "id": "4879c649",
=======
   "id": "202bd5e4",
>>>>>>> documentation-devel
   "metadata": {},
   "source": [
    "This plot mirrors the plot above for total counts. No single FOV stands out as an obvious outlier. \n",
    "\n",
    "The authors have provided cell type assignments as metadata. We can assess whether the low quality cells tend to be located in a particular FOV. "
   ]
  },
  {
   "cell_type": "code",
   "execution_count": null,
<<<<<<< HEAD
<<<<<<< HEAD
<<<<<<< HEAD
<<<<<<< HEAD
<<<<<<< HEAD
<<<<<<< HEAD
   "id": "321fbead",
||||||| 6a30bf1
   "id": "47a09261",
=======
   "id": "cb75529f",
>>>>>>> documentation-devel
||||||| d28b18c
   "id": "cb75529f",
=======
   "id": "544a895e",
>>>>>>> documentation-devel
||||||| 6893f63
<<<<<<< HEAD
   "id": "321fbead",
||||||| 6a30bf1
   "id": "47a09261",
=======
   "id": "cb75529f",
>>>>>>> documentation-devel
=======
   "id": "746366db",
>>>>>>> c74c98c2450c2a1ba922ed9442f136238d6bc88b
||||||| 6d93b645
   "id": "544a895e",
=======
   "id": "86b4720a",
>>>>>>> documentation-devel
||||||| 804edffb
<<<<<<< HEAD
<<<<<<< HEAD
<<<<<<< HEAD
   "id": "321fbead",
||||||| 6a30bf1
   "id": "47a09261",
=======
   "id": "cb75529f",
>>>>>>> documentation-devel
||||||| d28b18c
   "id": "cb75529f",
=======
   "id": "544a895e",
>>>>>>> documentation-devel
||||||| 6893f63
<<<<<<< HEAD
   "id": "321fbead",
||||||| 6a30bf1
   "id": "47a09261",
=======
   "id": "cb75529f",
>>>>>>> documentation-devel
=======
   "id": "746366db",
>>>>>>> c74c98c2450c2a1ba922ed9442f136238d6bc88b
=======
   "id": "7851e0bf",
>>>>>>> 035bb2637984ead2784fecff78c0c60cc4181202
||||||| 3effdfa5
   "id": "86b4720a",
=======
   "id": "c4ba044c",
>>>>>>> documentation-devel
   "metadata": {
    "lines_to_next_cell": 0
   },
   "outputs": [],
   "source": [
    "meta <- data.frame(colData(sfe)) \n",
    "\n",
    "meta <- meta |> \n",
    "    group_by(pos) |> \n",
    "    add_tally(name = \"nCells_FOV\") |> \n",
    "    filter(celltype_mapped_refined %in% \"Low quality\") |> \n",
    "    add_tally(name = \"nLQ_FOV\") |> \n",
    "    mutate(prop_lq = nLQ_FOV/nCells_FOV) |>\n",
    "    distinct(pos, prop_lq) |> \n",
    "    ungroup() |> \n",
    "    mutate(pos = factor(pos, levels = paste0(\"Pos\", seq_len(length(unique(pos)))-1)))\n",
    "\n",
    "prop_lq <- ggplot(meta, aes(pos, prop_lq)) + \n",
    "    geom_bar(stat = 'identity' ) + \n",
    "    theme(axis.text.x = element_text(angle = 90)) \n",
    "\n",
    "prop_lq"
   ]
  },
  {
   "cell_type": "markdown",
<<<<<<< HEAD
<<<<<<< HEAD
<<<<<<< HEAD
<<<<<<< HEAD
<<<<<<< HEAD
<<<<<<< HEAD
   "id": "48ba8265",
||||||| 6a30bf1
   "id": "e3e3a10a",
=======
   "id": "0ca6ed34",
>>>>>>> documentation-devel
||||||| d28b18c
   "id": "0ca6ed34",
=======
   "id": "3af18035",
>>>>>>> documentation-devel
||||||| 6893f63
<<<<<<< HEAD
   "id": "48ba8265",
||||||| 6a30bf1
   "id": "e3e3a10a",
=======
   "id": "0ca6ed34",
>>>>>>> documentation-devel
=======
   "id": "c25a438b",
>>>>>>> c74c98c2450c2a1ba922ed9442f136238d6bc88b
||||||| 6d93b645
   "id": "3af18035",
=======
   "id": "7a648fa0",
>>>>>>> documentation-devel
||||||| 804edffb
<<<<<<< HEAD
<<<<<<< HEAD
<<<<<<< HEAD
   "id": "48ba8265",
||||||| 6a30bf1
   "id": "e3e3a10a",
=======
   "id": "0ca6ed34",
>>>>>>> documentation-devel
||||||| d28b18c
   "id": "0ca6ed34",
=======
   "id": "3af18035",
>>>>>>> documentation-devel
||||||| 6893f63
<<<<<<< HEAD
   "id": "48ba8265",
||||||| 6a30bf1
   "id": "e3e3a10a",
=======
   "id": "0ca6ed34",
>>>>>>> documentation-devel
=======
   "id": "c25a438b",
>>>>>>> c74c98c2450c2a1ba922ed9442f136238d6bc88b
=======
   "id": "558a11f4",
>>>>>>> 035bb2637984ead2784fecff78c0c60cc4181202
||||||| 3effdfa5
   "id": "7a648fa0",
=======
   "id": "04190f6e",
>>>>>>> documentation-devel
   "metadata": {
    "lines_to_next_cell": 0
   },
   "source": [
    "It appears that FOV 26 and 31 have the largest fraction of low quality cells. Interestingly, these do not correspond to the FOVs with the largest number of cells overall. \n",
    "\n",
    "Here we plot nCounts vs. nGenes for each FOV. "
   ]
  },
  {
   "cell_type": "code",
   "execution_count": null,
<<<<<<< HEAD
<<<<<<< HEAD
<<<<<<< HEAD
<<<<<<< HEAD
<<<<<<< HEAD
<<<<<<< HEAD
   "id": "028d9f50",
||||||| 6a30bf1
   "id": "3f188665",
=======
   "id": "ac386d6f",
>>>>>>> documentation-devel
||||||| d28b18c
   "id": "ac386d6f",
=======
   "id": "42cb277f",
>>>>>>> documentation-devel
||||||| 6893f63
<<<<<<< HEAD
   "id": "028d9f50",
||||||| 6a30bf1
   "id": "3f188665",
=======
   "id": "ac386d6f",
>>>>>>> documentation-devel
=======
   "id": "ee990911",
>>>>>>> c74c98c2450c2a1ba922ed9442f136238d6bc88b
||||||| 6d93b645
   "id": "42cb277f",
=======
   "id": "1c7fbd67",
>>>>>>> documentation-devel
||||||| 804edffb
<<<<<<< HEAD
<<<<<<< HEAD
<<<<<<< HEAD
   "id": "028d9f50",
||||||| 6a30bf1
   "id": "3f188665",
=======
   "id": "ac386d6f",
>>>>>>> documentation-devel
||||||| d28b18c
   "id": "ac386d6f",
=======
   "id": "42cb277f",
>>>>>>> documentation-devel
||||||| 6893f63
<<<<<<< HEAD
   "id": "028d9f50",
||||||| 6a30bf1
   "id": "3f188665",
=======
   "id": "ac386d6f",
>>>>>>> documentation-devel
=======
   "id": "ee990911",
>>>>>>> c74c98c2450c2a1ba922ed9442f136238d6bc88b
=======
   "id": "191c6236",
>>>>>>> 035bb2637984ead2784fecff78c0c60cc4181202
||||||| 3effdfa5
   "id": "1c7fbd67",
=======
   "id": "e2485133",
>>>>>>> documentation-devel
   "metadata": {
    "fig.height": 6,
    "fig.width": 9
   },
   "outputs": [],
   "source": [
    "count_vs_genes_p <- ggplot(df, aes(nCounts, nGenes)) + \n",
    "  geom_point(\n",
    "    alpha = 0.5,\n",
    "    size = 1,\n",
    "    fill = \"white\"\n",
    "  ) +\n",
    "  facet_wrap(~ pos)\n",
    "\n",
    "count_vs_genes_p "
   ]
  },
  {
   "cell_type": "markdown",
<<<<<<< HEAD
<<<<<<< HEAD
<<<<<<< HEAD
<<<<<<< HEAD
<<<<<<< HEAD
<<<<<<< HEAD
   "id": "847ce935",
||||||| 6a30bf1
   "id": "462a1c28",
=======
   "id": "4017a457",
>>>>>>> documentation-devel
||||||| d28b18c
   "id": "4017a457",
=======
   "id": "2fc3c01d",
>>>>>>> documentation-devel
||||||| 6893f63
<<<<<<< HEAD
   "id": "847ce935",
||||||| 6a30bf1
   "id": "462a1c28",
=======
   "id": "4017a457",
>>>>>>> documentation-devel
=======
   "id": "6201afdc",
>>>>>>> c74c98c2450c2a1ba922ed9442f136238d6bc88b
||||||| 6d93b645
   "id": "2fc3c01d",
=======
   "id": "05294a04",
>>>>>>> documentation-devel
||||||| 804edffb
<<<<<<< HEAD
<<<<<<< HEAD
<<<<<<< HEAD
   "id": "847ce935",
||||||| 6a30bf1
   "id": "462a1c28",
=======
   "id": "4017a457",
>>>>>>> documentation-devel
||||||| d28b18c
   "id": "4017a457",
=======
   "id": "2fc3c01d",
>>>>>>> documentation-devel
||||||| 6893f63
<<<<<<< HEAD
   "id": "847ce935",
||||||| 6a30bf1
   "id": "462a1c28",
=======
   "id": "4017a457",
>>>>>>> documentation-devel
=======
   "id": "6201afdc",
>>>>>>> c74c98c2450c2a1ba922ed9442f136238d6bc88b
=======
   "id": "bfa367f5",
>>>>>>> 035bb2637984ead2784fecff78c0c60cc4181202
||||||| 3effdfa5
   "id": "05294a04",
=======
   "id": "5667e342",
>>>>>>> documentation-devel
   "metadata": {
    "lines_to_next_cell": 0
   },
   "source": [
    "As in scRNA-seq, gene expression variance in seqFISH measurements is overdispersed compared to variance of counts that are Poisson distributed."
   ]
  },
  {
   "cell_type": "code",
   "execution_count": null,
<<<<<<< HEAD
<<<<<<< HEAD
<<<<<<< HEAD
<<<<<<< HEAD
<<<<<<< HEAD
<<<<<<< HEAD
   "id": "677d0365",
||||||| 6a30bf1
   "id": "dde1235b",
=======
   "id": "ad3af2cd",
>>>>>>> documentation-devel
||||||| d28b18c
   "id": "ad3af2cd",
=======
   "id": "caef18a1",
>>>>>>> documentation-devel
||||||| 6893f63
<<<<<<< HEAD
   "id": "677d0365",
||||||| 6a30bf1
   "id": "dde1235b",
=======
   "id": "ad3af2cd",
>>>>>>> documentation-devel
=======
   "id": "176bdb91",
>>>>>>> c74c98c2450c2a1ba922ed9442f136238d6bc88b
||||||| 6d93b645
   "id": "caef18a1",
=======
   "id": "f32bc6cc",
>>>>>>> documentation-devel
||||||| 804edffb
<<<<<<< HEAD
<<<<<<< HEAD
<<<<<<< HEAD
   "id": "677d0365",
||||||| 6a30bf1
   "id": "dde1235b",
=======
   "id": "ad3af2cd",
>>>>>>> documentation-devel
||||||| d28b18c
   "id": "ad3af2cd",
=======
   "id": "caef18a1",
>>>>>>> documentation-devel
||||||| 6893f63
<<<<<<< HEAD
   "id": "677d0365",
||||||| 6a30bf1
   "id": "dde1235b",
=======
   "id": "ad3af2cd",
>>>>>>> documentation-devel
=======
   "id": "176bdb91",
>>>>>>> c74c98c2450c2a1ba922ed9442f136238d6bc88b
=======
   "id": "b800e3b7",
>>>>>>> 035bb2637984ead2784fecff78c0c60cc4181202
||||||| 3effdfa5
   "id": "f32bc6cc",
=======
   "id": "c402a0f9",
>>>>>>> documentation-devel
   "metadata": {
    "lines_to_next_cell": 0
   },
   "outputs": [],
   "source": [
    "gene_meta <- map_dfr(counts_spl, colMeans, .id = 'pos') |> \n",
    "  pivot_longer(cols = -pos, names_to = 'gene', values_to = 'mean')\n",
    "\n",
    "gene_meta <- map_dfr(counts_spl, ~colVars(.x, useNames = TRUE), .id = 'pos') |> \n",
    "  pivot_longer(-pos, names_to = 'gene', values_to='variance') |> \n",
    "  full_join(gene_meta)"
   ]
  },
  {
   "cell_type": "markdown",
<<<<<<< HEAD
<<<<<<< HEAD
<<<<<<< HEAD
<<<<<<< HEAD
<<<<<<< HEAD
<<<<<<< HEAD
   "id": "401df4dc",
||||||| 6a30bf1
   "id": "b32ab68d",
=======
   "id": "57adb0cc",
>>>>>>> documentation-devel
||||||| d28b18c
   "id": "57adb0cc",
=======
   "id": "55c6350e",
>>>>>>> documentation-devel
||||||| 6893f63
<<<<<<< HEAD
   "id": "401df4dc",
||||||| 6a30bf1
   "id": "b32ab68d",
=======
   "id": "57adb0cc",
>>>>>>> documentation-devel
=======
   "id": "9de08955",
>>>>>>> c74c98c2450c2a1ba922ed9442f136238d6bc88b
||||||| 6d93b645
   "id": "55c6350e",
=======
   "id": "0a31ee82",
>>>>>>> documentation-devel
||||||| 804edffb
<<<<<<< HEAD
<<<<<<< HEAD
<<<<<<< HEAD
   "id": "401df4dc",
||||||| 6a30bf1
   "id": "b32ab68d",
=======
   "id": "57adb0cc",
>>>>>>> documentation-devel
||||||| d28b18c
   "id": "57adb0cc",
=======
   "id": "55c6350e",
>>>>>>> documentation-devel
||||||| 6893f63
<<<<<<< HEAD
   "id": "401df4dc",
||||||| 6a30bf1
   "id": "b32ab68d",
=======
   "id": "57adb0cc",
>>>>>>> documentation-devel
=======
   "id": "9de08955",
>>>>>>> c74c98c2450c2a1ba922ed9442f136238d6bc88b
=======
   "id": "07906de5",
>>>>>>> 035bb2637984ead2784fecff78c0c60cc4181202
||||||| 3effdfa5
   "id": "0a31ee82",
=======
   "id": "2983bb30",
>>>>>>> documentation-devel
   "metadata": {
    "lines_to_next_cell": 0
   },
   "source": [
    "To understand the mean-variance relationship, we compute the mean and variance for each gene among cells in tissue. As above, we will perform this calculation separately for each FOV"
   ]
  },
  {
   "cell_type": "code",
   "execution_count": null,
<<<<<<< HEAD
<<<<<<< HEAD
<<<<<<< HEAD
<<<<<<< HEAD
<<<<<<< HEAD
<<<<<<< HEAD
   "id": "aeae2236",
||||||| 6a30bf1
   "id": "959ab46f",
=======
   "id": "6e5198cc",
>>>>>>> documentation-devel
||||||| d28b18c
   "id": "6e5198cc",
=======
   "id": "ed0159fd",
>>>>>>> documentation-devel
||||||| 6893f63
<<<<<<< HEAD
   "id": "aeae2236",
||||||| 6a30bf1
   "id": "959ab46f",
=======
   "id": "6e5198cc",
>>>>>>> documentation-devel
=======
   "id": "3e880973",
>>>>>>> c74c98c2450c2a1ba922ed9442f136238d6bc88b
||||||| 6d93b645
   "id": "ed0159fd",
=======
   "id": "6771d909",
>>>>>>> documentation-devel
||||||| 804edffb
<<<<<<< HEAD
<<<<<<< HEAD
<<<<<<< HEAD
   "id": "aeae2236",
||||||| 6a30bf1
   "id": "959ab46f",
=======
   "id": "6e5198cc",
>>>>>>> documentation-devel
||||||| d28b18c
   "id": "6e5198cc",
=======
   "id": "ed0159fd",
>>>>>>> documentation-devel
||||||| 6893f63
<<<<<<< HEAD
   "id": "aeae2236",
||||||| 6a30bf1
   "id": "959ab46f",
=======
   "id": "6e5198cc",
>>>>>>> documentation-devel
=======
   "id": "3e880973",
>>>>>>> c74c98c2450c2a1ba922ed9442f136238d6bc88b
=======
   "id": "995e80bb",
>>>>>>> 035bb2637984ead2784fecff78c0c60cc4181202
||||||| 3effdfa5
   "id": "6771d909",
=======
   "id": "382f1333",
>>>>>>> documentation-devel
   "metadata": {
    "fig.height": 6,
    "fig.width": 9
   },
   "outputs": [],
   "source": [
    "ggplot(gene_meta, aes(mean, variance)) + \n",
    "  geom_point(\n",
    "    alpha = 0.5,\n",
    "    size = 1,\n",
    "    fill = \"white\"\n",
    "  ) +\n",
    "  facet_wrap(~ pos) +\n",
    "  geom_abline(slope = 1, intercept = 0, color = \"red\") +\n",
    "  scale_x_log10() + scale_y_log10() +\n",
    "  annotation_logticks()"
   ]
  },
  {
   "cell_type": "markdown",
<<<<<<< HEAD
<<<<<<< HEAD
<<<<<<< HEAD
<<<<<<< HEAD
<<<<<<< HEAD
<<<<<<< HEAD
   "id": "5df0df59",
||||||| 6a30bf1
   "id": "d0004934",
=======
   "id": "94ad3541",
>>>>>>> documentation-devel
||||||| d28b18c
   "id": "94ad3541",
=======
   "id": "c0826a09",
>>>>>>> documentation-devel
||||||| 6893f63
<<<<<<< HEAD
   "id": "5df0df59",
||||||| 6a30bf1
   "id": "d0004934",
=======
   "id": "94ad3541",
>>>>>>> documentation-devel
=======
   "id": "802445dd",
>>>>>>> c74c98c2450c2a1ba922ed9442f136238d6bc88b
||||||| 6d93b645
   "id": "c0826a09",
=======
   "id": "1e61c307",
>>>>>>> documentation-devel
||||||| 804edffb
<<<<<<< HEAD
<<<<<<< HEAD
<<<<<<< HEAD
   "id": "5df0df59",
||||||| 6a30bf1
   "id": "d0004934",
=======
   "id": "94ad3541",
>>>>>>> documentation-devel
||||||| d28b18c
   "id": "94ad3541",
=======
   "id": "c0826a09",
>>>>>>> documentation-devel
||||||| 6893f63
<<<<<<< HEAD
   "id": "5df0df59",
||||||| 6a30bf1
   "id": "d0004934",
=======
   "id": "94ad3541",
>>>>>>> documentation-devel
=======
   "id": "802445dd",
>>>>>>> c74c98c2450c2a1ba922ed9442f136238d6bc88b
=======
   "id": "01b0138b",
>>>>>>> 035bb2637984ead2784fecff78c0c60cc4181202
||||||| 3effdfa5
   "id": "1e61c307",
=======
   "id": "f01de8b6",
>>>>>>> documentation-devel
   "metadata": {
    "lines_to_next_cell": 0
   },
   "source": [
    "The red line represents the line $y = x$, which is the mean-variance relationship that would be expected for Poisson distributed data. The data deviate from this expectation in each FOV. In each case, the variance is greater than what would be expected. \n",
    "\n",
    "# Data normalization and dimension reduction\n",
    "The exploratory analysis above indicates the presence of batch effects corresponding to FOV. We will use a normalization scheme that is batch aware. As the SFE object inherits from the `SpatialExperiment`and `SingleCellExperiment`, classes, we can take advantage of normalization methods implemented in the `scran` and `batchelor` R packages.\n",
    "\n",
    "We will first use the `multiBatchNorm()` function to scale the data within each batch. As noted in the documentation, the function uses median-based normalization on the ratio of the average counts between batches. \n",
    "\n",
    "Batch correction and dimension reduction is accomplished using `fastMNN()` which performs multi-sample PCA across multiple gene expression matrices to project all cells to a common low-dimensional space."
   ]
  },
  {
   "cell_type": "code",
   "execution_count": null,
<<<<<<< HEAD
<<<<<<< HEAD
<<<<<<< HEAD
<<<<<<< HEAD
<<<<<<< HEAD
<<<<<<< HEAD
   "id": "c336ef81",
||||||| 6a30bf1
   "id": "0cb7ddf6",
=======
   "id": "668bfed0",
>>>>>>> documentation-devel
||||||| d28b18c
   "id": "668bfed0",
=======
   "id": "794363f6",
>>>>>>> documentation-devel
||||||| 6893f63
<<<<<<< HEAD
   "id": "c336ef81",
||||||| 6a30bf1
   "id": "0cb7ddf6",
=======
   "id": "668bfed0",
>>>>>>> documentation-devel
=======
   "id": "aea8f035",
>>>>>>> c74c98c2450c2a1ba922ed9442f136238d6bc88b
||||||| 6d93b645
   "id": "794363f6",
=======
   "id": "1bb94e6a",
>>>>>>> documentation-devel
||||||| 804edffb
<<<<<<< HEAD
<<<<<<< HEAD
<<<<<<< HEAD
   "id": "c336ef81",
||||||| 6a30bf1
   "id": "0cb7ddf6",
=======
   "id": "668bfed0",
>>>>>>> documentation-devel
||||||| d28b18c
   "id": "668bfed0",
=======
   "id": "794363f6",
>>>>>>> documentation-devel
||||||| 6893f63
<<<<<<< HEAD
   "id": "c336ef81",
||||||| 6a30bf1
   "id": "0cb7ddf6",
=======
   "id": "668bfed0",
>>>>>>> documentation-devel
=======
   "id": "aea8f035",
>>>>>>> c74c98c2450c2a1ba922ed9442f136238d6bc88b
=======
   "id": "9cef2b9c",
>>>>>>> 035bb2637984ead2784fecff78c0c60cc4181202
||||||| 3effdfa5
   "id": "1bb94e6a",
=======
   "id": "c625bb19",
>>>>>>> documentation-devel
   "metadata": {},
   "outputs": [],
   "source": [
    "sfe <- multiBatchNorm(sfe, batch = pos)\n",
    "sfe_red <- fastMNN(sfe, batch = pos, cos.norm = FALSE, d = 20)"
   ]
  },
  {
   "cell_type": "markdown",
<<<<<<< HEAD
<<<<<<< HEAD
<<<<<<< HEAD
<<<<<<< HEAD
<<<<<<< HEAD
<<<<<<< HEAD
   "id": "63deddf9",
||||||| 6a30bf1
   "id": "299ff7e9",
=======
   "id": "102f7cc1",
>>>>>>> documentation-devel
||||||| d28b18c
   "id": "102f7cc1",
=======
   "id": "5bbbc02b",
>>>>>>> documentation-devel
||||||| 6893f63
<<<<<<< HEAD
   "id": "63deddf9",
||||||| 6a30bf1
   "id": "299ff7e9",
=======
   "id": "102f7cc1",
>>>>>>> documentation-devel
=======
   "id": "455c09b9",
>>>>>>> c74c98c2450c2a1ba922ed9442f136238d6bc88b
||||||| 6d93b645
   "id": "5bbbc02b",
=======
   "id": "1d3f8a0c",
>>>>>>> documentation-devel
||||||| 804edffb
<<<<<<< HEAD
<<<<<<< HEAD
<<<<<<< HEAD
   "id": "63deddf9",
||||||| 6a30bf1
   "id": "299ff7e9",
=======
   "id": "102f7cc1",
>>>>>>> documentation-devel
||||||| d28b18c
   "id": "102f7cc1",
=======
   "id": "5bbbc02b",
>>>>>>> documentation-devel
||||||| 6893f63
<<<<<<< HEAD
   "id": "63deddf9",
||||||| 6a30bf1
   "id": "299ff7e9",
=======
   "id": "102f7cc1",
>>>>>>> documentation-devel
=======
   "id": "455c09b9",
>>>>>>> c74c98c2450c2a1ba922ed9442f136238d6bc88b
=======
   "id": "73c3d3f2",
>>>>>>> 035bb2637984ead2784fecff78c0c60cc4181202
||||||| 3effdfa5
   "id": "1d3f8a0c",
=======
   "id": "ef05e550",
>>>>>>> documentation-devel
   "metadata": {
    "lines_to_next_cell": 0
   },
   "source": [
    "The function `fastMNN` returns a batch-corrected matrix in the `reducedDims` slot of a `SingleCellExperiment` object. We will extract the relevant data and store them in the SFE ojbject. "
   ]
  },
  {
   "cell_type": "code",
   "execution_count": null,
<<<<<<< HEAD
<<<<<<< HEAD
<<<<<<< HEAD
<<<<<<< HEAD
<<<<<<< HEAD
<<<<<<< HEAD
   "id": "9d7a3a89",
||||||| 6a30bf1
   "id": "64d951fe",
=======
   "id": "a0e33d55",
>>>>>>> documentation-devel
||||||| d28b18c
   "id": "a0e33d55",
=======
   "id": "b96442c3",
>>>>>>> documentation-devel
||||||| 6893f63
<<<<<<< HEAD
   "id": "9d7a3a89",
||||||| 6a30bf1
   "id": "64d951fe",
=======
   "id": "a0e33d55",
>>>>>>> documentation-devel
=======
   "id": "b2fee70d",
>>>>>>> c74c98c2450c2a1ba922ed9442f136238d6bc88b
||||||| 6d93b645
   "id": "b96442c3",
=======
   "id": "46a4102e",
>>>>>>> documentation-devel
||||||| 804edffb
<<<<<<< HEAD
<<<<<<< HEAD
<<<<<<< HEAD
   "id": "9d7a3a89",
||||||| 6a30bf1
   "id": "64d951fe",
=======
   "id": "a0e33d55",
>>>>>>> documentation-devel
||||||| d28b18c
   "id": "a0e33d55",
=======
   "id": "b96442c3",
>>>>>>> documentation-devel
||||||| 6893f63
<<<<<<< HEAD
   "id": "9d7a3a89",
||||||| 6a30bf1
   "id": "64d951fe",
=======
   "id": "a0e33d55",
>>>>>>> documentation-devel
=======
   "id": "b2fee70d",
>>>>>>> c74c98c2450c2a1ba922ed9442f136238d6bc88b
=======
   "id": "1ab71464",
>>>>>>> 035bb2637984ead2784fecff78c0c60cc4181202
||||||| 3effdfa5
   "id": "46a4102e",
=======
   "id": "bfdf43bc",
>>>>>>> documentation-devel
   "metadata": {},
   "outputs": [],
   "source": [
    "reducedDim(sfe, \"PCA\") <- reducedDim(sfe_red, \"corrected\")\n",
    "assay(sfe, \"reconstructed\") <- assay(sfe_red, \"reconstructed\") "
   ]
  },
  {
   "cell_type": "markdown",
<<<<<<< HEAD
<<<<<<< HEAD
<<<<<<< HEAD
<<<<<<< HEAD
<<<<<<< HEAD
<<<<<<< HEAD
   "id": "382af6b4",
||||||| 6a30bf1
   "id": "b85ea7ae",
=======
   "id": "16acff1c",
>>>>>>> documentation-devel
||||||| d28b18c
   "id": "16acff1c",
=======
   "id": "5fb87172",
>>>>>>> documentation-devel
||||||| 6893f63
<<<<<<< HEAD
   "id": "382af6b4",
||||||| 6a30bf1
   "id": "b85ea7ae",
=======
   "id": "16acff1c",
>>>>>>> documentation-devel
=======
   "id": "4fd58458",
>>>>>>> c74c98c2450c2a1ba922ed9442f136238d6bc88b
||||||| 6d93b645
   "id": "5fb87172",
=======
   "id": "89aabceb",
>>>>>>> documentation-devel
||||||| 804edffb
<<<<<<< HEAD
<<<<<<< HEAD
<<<<<<< HEAD
   "id": "382af6b4",
||||||| 6a30bf1
   "id": "b85ea7ae",
=======
   "id": "16acff1c",
>>>>>>> documentation-devel
||||||| d28b18c
   "id": "16acff1c",
=======
   "id": "5fb87172",
>>>>>>> documentation-devel
||||||| 6893f63
<<<<<<< HEAD
   "id": "382af6b4",
||||||| 6a30bf1
   "id": "b85ea7ae",
=======
   "id": "16acff1c",
>>>>>>> documentation-devel
=======
   "id": "4fd58458",
>>>>>>> c74c98c2450c2a1ba922ed9442f136238d6bc88b
=======
   "id": "07707d73",
>>>>>>> 035bb2637984ead2784fecff78c0c60cc4181202
||||||| 3effdfa5
   "id": "89aabceb",
=======
   "id": "1cf671dd",
>>>>>>> documentation-devel
   "metadata": {
    "lines_to_next_cell": 0
   },
   "source": [
    "Now we will visualize the first two PCs in space. Here we notice that the PCs may show some spatial structure that correlates to biological niches of cells. "
   ]
  },
  {
   "cell_type": "code",
   "execution_count": null,
<<<<<<< HEAD
<<<<<<< HEAD
<<<<<<< HEAD
<<<<<<< HEAD
<<<<<<< HEAD
<<<<<<< HEAD
   "id": "74b46d76",
||||||| 6a30bf1
   "id": "9aa33683",
=======
   "id": "d7104ff5",
>>>>>>> documentation-devel
||||||| d28b18c
   "id": "d7104ff5",
=======
   "id": "79f27203",
>>>>>>> documentation-devel
||||||| 6893f63
<<<<<<< HEAD
   "id": "74b46d76",
||||||| 6a30bf1
   "id": "9aa33683",
=======
   "id": "d7104ff5",
>>>>>>> documentation-devel
=======
   "id": "50daf16f",
>>>>>>> c74c98c2450c2a1ba922ed9442f136238d6bc88b
||||||| 6d93b645
   "id": "79f27203",
=======
   "id": "e02e9289",
>>>>>>> documentation-devel
||||||| 804edffb
<<<<<<< HEAD
<<<<<<< HEAD
<<<<<<< HEAD
   "id": "74b46d76",
||||||| 6a30bf1
   "id": "9aa33683",
=======
   "id": "d7104ff5",
>>>>>>> documentation-devel
||||||| d28b18c
   "id": "d7104ff5",
=======
   "id": "79f27203",
>>>>>>> documentation-devel
||||||| 6893f63
<<<<<<< HEAD
   "id": "74b46d76",
||||||| 6a30bf1
   "id": "9aa33683",
=======
   "id": "d7104ff5",
>>>>>>> documentation-devel
=======
   "id": "50daf16f",
>>>>>>> c74c98c2450c2a1ba922ed9442f136238d6bc88b
=======
   "id": "58921a40",
>>>>>>> 035bb2637984ead2784fecff78c0c60cc4181202
||||||| 3effdfa5
   "id": "e02e9289",
=======
   "id": "0bb17863",
>>>>>>> documentation-devel
   "metadata": {},
   "outputs": [],
   "source": [
    "spatialReducedDim(sfe, \"PCA\", ncomponents = 2, divergent = TRUE, diverge_center = 0)"
   ]
  },
  {
   "cell_type": "markdown",
<<<<<<< HEAD
<<<<<<< HEAD
<<<<<<< HEAD
<<<<<<< HEAD
<<<<<<< HEAD
<<<<<<< HEAD
   "id": "af2bfa5d",
||||||| 6a30bf1
   "id": "138cbd16",
=======
   "id": "0d3e742f",
>>>>>>> documentation-devel
||||||| d28b18c
   "id": "0d3e742f",
=======
   "id": "b51d057e",
>>>>>>> documentation-devel
||||||| 6893f63
<<<<<<< HEAD
   "id": "af2bfa5d",
||||||| 6a30bf1
   "id": "138cbd16",
=======
   "id": "0d3e742f",
>>>>>>> documentation-devel
=======
   "id": "a0777069",
>>>>>>> c74c98c2450c2a1ba922ed9442f136238d6bc88b
||||||| 6d93b645
   "id": "b51d057e",
=======
   "id": "cf62c298",
>>>>>>> documentation-devel
||||||| 804edffb
<<<<<<< HEAD
<<<<<<< HEAD
<<<<<<< HEAD
   "id": "af2bfa5d",
||||||| 6a30bf1
   "id": "138cbd16",
=======
   "id": "0d3e742f",
>>>>>>> documentation-devel
||||||| d28b18c
   "id": "0d3e742f",
=======
   "id": "b51d057e",
>>>>>>> documentation-devel
||||||| 6893f63
<<<<<<< HEAD
   "id": "af2bfa5d",
||||||| 6a30bf1
   "id": "138cbd16",
=======
   "id": "0d3e742f",
>>>>>>> documentation-devel
=======
   "id": "a0777069",
>>>>>>> c74c98c2450c2a1ba922ed9442f136238d6bc88b
=======
   "id": "d8949da6",
>>>>>>> 035bb2637984ead2784fecff78c0c60cc4181202
||||||| 3effdfa5
   "id": "cf62c298",
=======
   "id": "f69c4d25",
>>>>>>> documentation-devel
   "metadata": {
    "lines_to_next_cell": 0
   },
   "source": [
    "Unfortunately, FOV artifacts can still be seen.\n",
    "\n",
    "# Clustering\n",
    "Much like in single cell analysis, we can use the batch-corrected data to cluster the cells. We will implement a graph-based clustering algorithm and plot the resulting clusters in space. "
   ]
  },
  {
   "cell_type": "code",
   "execution_count": null,
<<<<<<< HEAD
<<<<<<< HEAD
<<<<<<< HEAD
<<<<<<< HEAD
<<<<<<< HEAD
<<<<<<< HEAD
   "id": "3886e0a4",
||||||| 6a30bf1
   "id": "f2fbf2bd",
=======
   "id": "51e8a2d4",
>>>>>>> documentation-devel
||||||| d28b18c
   "id": "51e8a2d4",
=======
   "id": "2ccf144e",
>>>>>>> documentation-devel
||||||| 6893f63
<<<<<<< HEAD
   "id": "3886e0a4",
||||||| 6a30bf1
   "id": "f2fbf2bd",
=======
   "id": "51e8a2d4",
>>>>>>> documentation-devel
=======
   "id": "1b6b79ba",
>>>>>>> c74c98c2450c2a1ba922ed9442f136238d6bc88b
||||||| 6d93b645
   "id": "2ccf144e",
=======
   "id": "37bdd148",
>>>>>>> documentation-devel
||||||| 804edffb
<<<<<<< HEAD
<<<<<<< HEAD
<<<<<<< HEAD
   "id": "3886e0a4",
||||||| 6a30bf1
   "id": "f2fbf2bd",
=======
   "id": "51e8a2d4",
>>>>>>> documentation-devel
||||||| d28b18c
   "id": "51e8a2d4",
=======
   "id": "2ccf144e",
>>>>>>> documentation-devel
||||||| 6893f63
<<<<<<< HEAD
   "id": "3886e0a4",
||||||| 6a30bf1
   "id": "f2fbf2bd",
=======
   "id": "51e8a2d4",
>>>>>>> documentation-devel
=======
   "id": "1b6b79ba",
>>>>>>> c74c98c2450c2a1ba922ed9442f136238d6bc88b
=======
   "id": "4d736f5e",
>>>>>>> 035bb2637984ead2784fecff78c0c60cc4181202
||||||| 3effdfa5
   "id": "37bdd148",
=======
   "id": "672474b7",
>>>>>>> documentation-devel
   "metadata": {},
   "outputs": [],
   "source": [
    "colData(sfe)$cluster <- \n",
    "  clusterRows(reducedDim(sfe, \"PCA\"),\n",
    "                      BLUSPARAM = SNNGraphParam(\n",
    "                        cluster.fun = \"leiden\",\n",
    "                        cluster.args = list(\n",
    "                        resolution_parameter = 0.5,\n",
    "                        objective_function = \"modularity\")\n",
    "                        )\n",
    "              )"
   ]
  },
  {
   "cell_type": "markdown",
<<<<<<< HEAD
<<<<<<< HEAD
<<<<<<< HEAD
<<<<<<< HEAD
<<<<<<< HEAD
<<<<<<< HEAD
   "id": "3e4b8b8b",
||||||| 6a30bf1
   "id": "c7bee652",
=======
   "id": "2f2a18d1",
>>>>>>> documentation-devel
||||||| d28b18c
   "id": "2f2a18d1",
=======
   "id": "59e93aa8",
>>>>>>> documentation-devel
||||||| 6893f63
<<<<<<< HEAD
   "id": "3e4b8b8b",
||||||| 6a30bf1
   "id": "c7bee652",
=======
   "id": "2f2a18d1",
>>>>>>> documentation-devel
=======
   "id": "7036ea2e",
>>>>>>> c74c98c2450c2a1ba922ed9442f136238d6bc88b
||||||| 6d93b645
   "id": "59e93aa8",
=======
   "id": "fe802abc",
>>>>>>> documentation-devel
||||||| 804edffb
<<<<<<< HEAD
<<<<<<< HEAD
<<<<<<< HEAD
   "id": "3e4b8b8b",
||||||| 6a30bf1
   "id": "c7bee652",
=======
   "id": "2f2a18d1",
>>>>>>> documentation-devel
||||||| d28b18c
   "id": "2f2a18d1",
=======
   "id": "59e93aa8",
>>>>>>> documentation-devel
||||||| 6893f63
<<<<<<< HEAD
   "id": "3e4b8b8b",
||||||| 6a30bf1
   "id": "c7bee652",
=======
   "id": "2f2a18d1",
>>>>>>> documentation-devel
=======
   "id": "7036ea2e",
>>>>>>> c74c98c2450c2a1ba922ed9442f136238d6bc88b
=======
   "id": "f9ec92f8",
>>>>>>> 035bb2637984ead2784fecff78c0c60cc4181202
||||||| 3effdfa5
   "id": "fe802abc",
=======
   "id": "17b93bca",
>>>>>>> documentation-devel
   "metadata": {
    "lines_to_next_cell": 0
   },
   "source": [
    "The plot below is colored by cluster ID and by the cell types provided by the author. "
   ]
  },
  {
   "cell_type": "code",
   "execution_count": null,
<<<<<<< HEAD
<<<<<<< HEAD
<<<<<<< HEAD
<<<<<<< HEAD
<<<<<<< HEAD
<<<<<<< HEAD
   "id": "43966f43",
||||||| 6a30bf1
   "id": "e6cd9557",
=======
   "id": "91e8bd1d",
>>>>>>> documentation-devel
||||||| d28b18c
   "id": "91e8bd1d",
=======
   "id": "803187ec",
>>>>>>> documentation-devel
||||||| 6893f63
<<<<<<< HEAD
   "id": "43966f43",
||||||| 6a30bf1
   "id": "e6cd9557",
=======
   "id": "91e8bd1d",
>>>>>>> documentation-devel
=======
   "id": "279d448d",
>>>>>>> c74c98c2450c2a1ba922ed9442f136238d6bc88b
||||||| 6d93b645
   "id": "803187ec",
=======
   "id": "6e8b1eea",
>>>>>>> documentation-devel
||||||| 804edffb
<<<<<<< HEAD
<<<<<<< HEAD
<<<<<<< HEAD
   "id": "43966f43",
||||||| 6a30bf1
   "id": "e6cd9557",
=======
   "id": "91e8bd1d",
>>>>>>> documentation-devel
||||||| d28b18c
   "id": "91e8bd1d",
=======
   "id": "803187ec",
>>>>>>> documentation-devel
||||||| 6893f63
<<<<<<< HEAD
   "id": "43966f43",
||||||| 6a30bf1
   "id": "e6cd9557",
=======
   "id": "91e8bd1d",
>>>>>>> documentation-devel
=======
   "id": "279d448d",
>>>>>>> c74c98c2450c2a1ba922ed9442f136238d6bc88b
=======
   "id": "fa7bb210",
>>>>>>> 035bb2637984ead2784fecff78c0c60cc4181202
||||||| 3effdfa5
   "id": "6e8b1eea",
=======
   "id": "90227268",
>>>>>>> documentation-devel
   "metadata": {
    "fig.height": 5,
    "fig.width": 10
   },
   "outputs": [],
   "source": [
    "plotSpatialFeature(sfe, c(\"cluster\", \"celltype_mapped_refined\"), \n",
    "                   colGeometryName = \"seg_coords\")"
   ]
  },
  {
   "cell_type": "markdown",
<<<<<<< HEAD
<<<<<<< HEAD
<<<<<<< HEAD
<<<<<<< HEAD
<<<<<<< HEAD
<<<<<<< HEAD
   "id": "d040da53",
||||||| 6a30bf1
   "id": "f74583eb",
=======
   "id": "054a589a",
>>>>>>> documentation-devel
||||||| d28b18c
   "id": "054a589a",
=======
   "id": "3697a52e",
>>>>>>> documentation-devel
||||||| 6893f63
<<<<<<< HEAD
   "id": "d040da53",
||||||| 6a30bf1
   "id": "f74583eb",
=======
   "id": "054a589a",
>>>>>>> documentation-devel
=======
   "id": "76d4c3bd",
>>>>>>> c74c98c2450c2a1ba922ed9442f136238d6bc88b
||||||| 6d93b645
   "id": "3697a52e",
=======
   "id": "9813f443",
>>>>>>> documentation-devel
||||||| 804edffb
<<<<<<< HEAD
<<<<<<< HEAD
<<<<<<< HEAD
   "id": "d040da53",
||||||| 6a30bf1
   "id": "f74583eb",
=======
   "id": "054a589a",
>>>>>>> documentation-devel
||||||| d28b18c
   "id": "054a589a",
=======
   "id": "3697a52e",
>>>>>>> documentation-devel
||||||| 6893f63
<<<<<<< HEAD
   "id": "d040da53",
||||||| 6a30bf1
   "id": "f74583eb",
=======
   "id": "054a589a",
>>>>>>> documentation-devel
=======
   "id": "76d4c3bd",
>>>>>>> c74c98c2450c2a1ba922ed9442f136238d6bc88b
=======
   "id": "6f1c2b24",
>>>>>>> 035bb2637984ead2784fecff78c0c60cc4181202
||||||| 3effdfa5
   "id": "9813f443",
=======
   "id": "4c3c1645",
>>>>>>> documentation-devel
   "metadata": {},
   "source": [
    "The authors have assigned cells to more types than are identified in the clustering step. In any case, the clustering results seem to recapitulate the major cell niches from the previous annotations. We can compute the [Rand index](https://en.wikipedia.org/wiki/Rand_index) using a function from the `fossil` package to assess the similarity between the two clustering results. A value of 1 would suggest the clustering results are identical, while a value of 0 would suggest that the results do not agree at all. "
   ]
  },
  {
   "cell_type": "code",
   "execution_count": null,
<<<<<<< HEAD
<<<<<<< HEAD
<<<<<<< HEAD
<<<<<<< HEAD
<<<<<<< HEAD
<<<<<<< HEAD
   "id": "9012b68c",
||||||| 6a30bf1
   "id": "cef9b448",
=======
   "id": "fef0f1e6",
>>>>>>> documentation-devel
||||||| d28b18c
   "id": "fef0f1e6",
=======
   "id": "1f4dd678",
>>>>>>> documentation-devel
||||||| 6893f63
<<<<<<< HEAD
   "id": "9012b68c",
||||||| 6a30bf1
   "id": "cef9b448",
=======
   "id": "fef0f1e6",
>>>>>>> documentation-devel
=======
   "id": "6dbc2c40",
>>>>>>> c74c98c2450c2a1ba922ed9442f136238d6bc88b
||||||| 6d93b645
   "id": "1f4dd678",
=======
   "id": "d7cf674e",
>>>>>>> documentation-devel
||||||| 804edffb
<<<<<<< HEAD
<<<<<<< HEAD
<<<<<<< HEAD
   "id": "9012b68c",
||||||| 6a30bf1
   "id": "cef9b448",
=======
   "id": "fef0f1e6",
>>>>>>> documentation-devel
||||||| d28b18c
   "id": "fef0f1e6",
=======
   "id": "1f4dd678",
>>>>>>> documentation-devel
||||||| 6893f63
<<<<<<< HEAD
   "id": "9012b68c",
||||||| 6a30bf1
   "id": "cef9b448",
=======
   "id": "fef0f1e6",
>>>>>>> documentation-devel
=======
   "id": "6dbc2c40",
>>>>>>> c74c98c2450c2a1ba922ed9442f136238d6bc88b
=======
   "id": "c3ee2f46",
>>>>>>> 035bb2637984ead2784fecff78c0c60cc4181202
||||||| 3effdfa5
   "id": "d7cf674e",
=======
   "id": "d9f5ca87",
>>>>>>> documentation-devel
   "metadata": {},
   "outputs": [],
   "source": [
    "g1 <- as.numeric(colData(sfe)$cluster)\n",
    "g2 <- as.numeric(colData(sfe)$celltype_mapped_refined)\n",
    "\n",
    "rand.index(g1, g2)"
   ]
  },
  {
   "cell_type": "markdown",
<<<<<<< HEAD
<<<<<<< HEAD
<<<<<<< HEAD
<<<<<<< HEAD
<<<<<<< HEAD
<<<<<<< HEAD
   "id": "3cb7cf72",
||||||| 6a30bf1
   "id": "92a5e610",
=======
   "id": "9c1ded28",
>>>>>>> documentation-devel
||||||| d28b18c
   "id": "9c1ded28",
=======
   "id": "f603020d",
>>>>>>> documentation-devel
||||||| 6893f63
<<<<<<< HEAD
   "id": "3cb7cf72",
||||||| 6a30bf1
   "id": "92a5e610",
=======
   "id": "9c1ded28",
>>>>>>> documentation-devel
=======
   "id": "a212de49",
>>>>>>> c74c98c2450c2a1ba922ed9442f136238d6bc88b
||||||| 6d93b645
   "id": "f603020d",
=======
   "id": "de7d5a89",
>>>>>>> documentation-devel
||||||| 804edffb
<<<<<<< HEAD
<<<<<<< HEAD
<<<<<<< HEAD
   "id": "3cb7cf72",
||||||| 6a30bf1
   "id": "92a5e610",
=======
   "id": "9c1ded28",
>>>>>>> documentation-devel
||||||| d28b18c
   "id": "9c1ded28",
=======
   "id": "f603020d",
>>>>>>> documentation-devel
||||||| 6893f63
<<<<<<< HEAD
   "id": "3cb7cf72",
||||||| 6a30bf1
   "id": "92a5e610",
=======
   "id": "9c1ded28",
>>>>>>> documentation-devel
=======
   "id": "a212de49",
>>>>>>> c74c98c2450c2a1ba922ed9442f136238d6bc88b
=======
   "id": "04af1665",
>>>>>>> 035bb2637984ead2784fecff78c0c60cc4181202
||||||| 3effdfa5
   "id": "de7d5a89",
=======
   "id": "9bf510d0",
>>>>>>> documentation-devel
   "metadata": {},
   "source": [
    "The relatively large Rand index suggests that cells are often found in the same cluster in both cases. \n",
    "\n",
    "# Univariate Spatial Statistics\n",
    "At this point, we may be interested in identifying genes that exhibit spatial variability, or whose expression depends on spatial location within the tissue. Measures of spatial autocorrelation can be useful in identifyign genes that display spatial variablity. Among the most common measures are Moran's I and Geary's C. In the latter case, a less than 1 indicates positive spatial autocorrelation, while a value larger than 1 points to negative spatial autocorrelation. In the former case, positive and negative values of Moran's I indicate positive and negative spatial autocorrelation, respectively.\n",
    "\n",
    "These tests require a spatial neighborhood graph for computation of the statistic. There are several ways to define spatial neighbors and the `findSpatialNeighbors()` function wraps all of the methods implemented in the `spdep` package. Below, we compute a k-nearest neighborhood graph. The `dist_type = \"idw\"` weights the edges of the graph by the inverse distance between neighbors."
   ]
  },
  {
   "cell_type": "code",
   "execution_count": null,
<<<<<<< HEAD
<<<<<<< HEAD
<<<<<<< HEAD
<<<<<<< HEAD
<<<<<<< HEAD
<<<<<<< HEAD
   "id": "1de37a92",
||||||| 6a30bf1
   "id": "ddb4ed7d",
=======
   "id": "8dded21a",
>>>>>>> documentation-devel
||||||| d28b18c
   "id": "8dded21a",
=======
   "id": "ae45fcac",
>>>>>>> documentation-devel
||||||| 6893f63
<<<<<<< HEAD
   "id": "1de37a92",
||||||| 6a30bf1
   "id": "ddb4ed7d",
=======
   "id": "8dded21a",
>>>>>>> documentation-devel
=======
   "id": "17239366",
>>>>>>> c74c98c2450c2a1ba922ed9442f136238d6bc88b
||||||| 6d93b645
   "id": "ae45fcac",
=======
   "id": "f9baa627",
>>>>>>> documentation-devel
||||||| 804edffb
<<<<<<< HEAD
<<<<<<< HEAD
<<<<<<< HEAD
   "id": "1de37a92",
||||||| 6a30bf1
   "id": "ddb4ed7d",
=======
   "id": "8dded21a",
>>>>>>> documentation-devel
||||||| d28b18c
   "id": "8dded21a",
=======
   "id": "ae45fcac",
>>>>>>> documentation-devel
||||||| 6893f63
<<<<<<< HEAD
   "id": "1de37a92",
||||||| 6a30bf1
   "id": "ddb4ed7d",
=======
   "id": "8dded21a",
>>>>>>> documentation-devel
=======
   "id": "17239366",
>>>>>>> c74c98c2450c2a1ba922ed9442f136238d6bc88b
=======
   "id": "abeff90d",
>>>>>>> 035bb2637984ead2784fecff78c0c60cc4181202
||||||| 3effdfa5
   "id": "f9baa627",
=======
   "id": "2472955b",
>>>>>>> documentation-devel
   "metadata": {},
   "outputs": [],
   "source": [
    "colGraph(sfe, \"knn5\") <- findSpatialNeighbors(\n",
    "  sfe, method = \"knearneigh\", dist_type = \"idw\", \n",
    "  k = 5, style = \"W\")"
   ]
  },
  {
   "cell_type": "markdown",
<<<<<<< HEAD
<<<<<<< HEAD
<<<<<<< HEAD
<<<<<<< HEAD
<<<<<<< HEAD
<<<<<<< HEAD
   "id": "77119990",
||||||| 6a30bf1
   "id": "41c20491",
=======
   "id": "3c1eb182",
>>>>>>> documentation-devel
||||||| d28b18c
   "id": "3c1eb182",
=======
   "id": "f0c0db3a",
>>>>>>> documentation-devel
||||||| 6893f63
<<<<<<< HEAD
   "id": "77119990",
||||||| 6a30bf1
   "id": "41c20491",
=======
   "id": "3c1eb182",
>>>>>>> documentation-devel
=======
   "id": "33be5cb1",
>>>>>>> c74c98c2450c2a1ba922ed9442f136238d6bc88b
||||||| 6d93b645
   "id": "f0c0db3a",
=======
   "id": "4be27109",
>>>>>>> documentation-devel
||||||| 804edffb
<<<<<<< HEAD
<<<<<<< HEAD
<<<<<<< HEAD
   "id": "77119990",
||||||| 6a30bf1
   "id": "41c20491",
=======
   "id": "3c1eb182",
>>>>>>> documentation-devel
||||||| d28b18c
   "id": "3c1eb182",
=======
   "id": "f0c0db3a",
>>>>>>> documentation-devel
||||||| 6893f63
<<<<<<< HEAD
   "id": "77119990",
||||||| 6a30bf1
   "id": "41c20491",
=======
   "id": "3c1eb182",
>>>>>>> documentation-devel
=======
   "id": "33be5cb1",
>>>>>>> c74c98c2450c2a1ba922ed9442f136238d6bc88b
=======
   "id": "decfbfae",
>>>>>>> 035bb2637984ead2784fecff78c0c60cc4181202
||||||| 3effdfa5
   "id": "4be27109",
=======
   "id": "b99113df",
>>>>>>> documentation-devel
   "metadata": {
    "lines_to_next_cell": 0
   },
   "source": [
    "We will also save the most variable genes for use in the computations below. "
   ]
  },
  {
   "cell_type": "code",
   "execution_count": null,
<<<<<<< HEAD
<<<<<<< HEAD
<<<<<<< HEAD
<<<<<<< HEAD
<<<<<<< HEAD
<<<<<<< HEAD
   "id": "ee2cca7b",
||||||| 6a30bf1
   "id": "f550bb83",
=======
   "id": "540a3279",
>>>>>>> documentation-devel
||||||| d28b18c
   "id": "540a3279",
=======
   "id": "6ef76992",
>>>>>>> documentation-devel
||||||| 6893f63
<<<<<<< HEAD
   "id": "ee2cca7b",
||||||| 6a30bf1
   "id": "f550bb83",
=======
   "id": "540a3279",
>>>>>>> documentation-devel
=======
   "id": "9f4c9ce5",
>>>>>>> c74c98c2450c2a1ba922ed9442f136238d6bc88b
||||||| 6d93b645
   "id": "6ef76992",
=======
   "id": "3837ba02",
>>>>>>> documentation-devel
||||||| 804edffb
<<<<<<< HEAD
<<<<<<< HEAD
<<<<<<< HEAD
   "id": "ee2cca7b",
||||||| 6a30bf1
   "id": "f550bb83",
=======
   "id": "540a3279",
>>>>>>> documentation-devel
||||||| d28b18c
   "id": "540a3279",
=======
   "id": "6ef76992",
>>>>>>> documentation-devel
||||||| 6893f63
<<<<<<< HEAD
   "id": "ee2cca7b",
||||||| 6a30bf1
   "id": "f550bb83",
=======
   "id": "540a3279",
>>>>>>> documentation-devel
=======
   "id": "9f4c9ce5",
>>>>>>> c74c98c2450c2a1ba922ed9442f136238d6bc88b
=======
   "id": "60b331be",
>>>>>>> 035bb2637984ead2784fecff78c0c60cc4181202
||||||| 3effdfa5
   "id": "3837ba02",
=======
   "id": "9328e434",
>>>>>>> documentation-devel
   "metadata": {},
   "outputs": [],
   "source": [
    "dec <- modelGeneVar(sfe)\n",
    "hvgs <- getTopHVGs(dec, n = 100)"
   ]
  },
  {
   "cell_type": "markdown",
<<<<<<< HEAD
<<<<<<< HEAD
<<<<<<< HEAD
<<<<<<< HEAD
<<<<<<< HEAD
<<<<<<< HEAD
   "id": "8c49e6e9",
||||||| 6a30bf1
   "id": "022bcd4e",
=======
   "id": "9289f027",
>>>>>>> documentation-devel
||||||| d28b18c
   "id": "9289f027",
=======
   "id": "6613314b",
>>>>>>> documentation-devel
||||||| 6893f63
<<<<<<< HEAD
   "id": "8c49e6e9",
||||||| 6a30bf1
   "id": "022bcd4e",
=======
   "id": "9289f027",
>>>>>>> documentation-devel
=======
   "id": "a586949a",
>>>>>>> c74c98c2450c2a1ba922ed9442f136238d6bc88b
||||||| 6d93b645
   "id": "6613314b",
=======
   "id": "5fa75f88",
>>>>>>> documentation-devel
||||||| 804edffb
<<<<<<< HEAD
<<<<<<< HEAD
<<<<<<< HEAD
   "id": "8c49e6e9",
||||||| 6a30bf1
   "id": "022bcd4e",
=======
   "id": "9289f027",
>>>>>>> documentation-devel
||||||| d28b18c
   "id": "9289f027",
=======
   "id": "6613314b",
>>>>>>> documentation-devel
||||||| 6893f63
<<<<<<< HEAD
   "id": "8c49e6e9",
||||||| 6a30bf1
   "id": "022bcd4e",
=======
   "id": "9289f027",
>>>>>>> documentation-devel
=======
   "id": "a586949a",
>>>>>>> c74c98c2450c2a1ba922ed9442f136238d6bc88b
=======
   "id": "81e55480",
>>>>>>> 035bb2637984ead2784fecff78c0c60cc4181202
||||||| 3effdfa5
   "id": "5fa75f88",
=======
   "id": "aa17e6d1",
>>>>>>> documentation-devel
   "metadata": {
    "lines_to_next_cell": 0
   },
   "source": [
    "We use the `runUnivariate()` function to compute the spatial autocorrelation metrics and save the results and save them in the SFE object. The `mc` type for each test implements a permutation test for each statistic and relies on the `nsim` argument for computing a p-value for the statistic. "
   ]
  },
  {
   "cell_type": "code",
   "execution_count": null,
<<<<<<< HEAD
<<<<<<< HEAD
<<<<<<< HEAD
<<<<<<< HEAD
<<<<<<< HEAD
<<<<<<< HEAD
   "id": "a0eb71b0",
||||||| 6a30bf1
   "id": "837aaeb5",
=======
   "id": "fb381d11",
>>>>>>> documentation-devel
||||||| d28b18c
   "id": "fb381d11",
=======
   "id": "2cc40476",
>>>>>>> documentation-devel
||||||| 6893f63
<<<<<<< HEAD
   "id": "a0eb71b0",
||||||| 6a30bf1
   "id": "837aaeb5",
=======
   "id": "fb381d11",
>>>>>>> documentation-devel
=======
   "id": "817f2f66",
>>>>>>> c74c98c2450c2a1ba922ed9442f136238d6bc88b
||||||| 6d93b645
   "id": "2cc40476",
=======
   "id": "aaf3e978",
>>>>>>> documentation-devel
||||||| 804edffb
<<<<<<< HEAD
<<<<<<< HEAD
<<<<<<< HEAD
   "id": "a0eb71b0",
||||||| 6a30bf1
   "id": "837aaeb5",
=======
   "id": "fb381d11",
>>>>>>> documentation-devel
||||||| d28b18c
   "id": "fb381d11",
=======
   "id": "2cc40476",
>>>>>>> documentation-devel
||||||| 6893f63
<<<<<<< HEAD
   "id": "a0eb71b0",
||||||| 6a30bf1
   "id": "837aaeb5",
=======
   "id": "fb381d11",
>>>>>>> documentation-devel
=======
   "id": "817f2f66",
>>>>>>> c74c98c2450c2a1ba922ed9442f136238d6bc88b
=======
   "id": "d531c87c",
>>>>>>> 035bb2637984ead2784fecff78c0c60cc4181202
||||||| 3effdfa5
   "id": "aaf3e978",
=======
   "id": "a0b43308",
>>>>>>> documentation-devel
   "metadata": {},
   "outputs": [],
   "source": [
    "sfe <- runUnivariate(\n",
    "  sfe, type = \"geary.mc\", features = hvgs, \n",
    "  colGraphName = \"knn5\", nsim = 100, BPPARAM = MulticoreParam(2))"
   ]
  },
  {
   "cell_type": "code",
   "execution_count": null,
<<<<<<< HEAD
<<<<<<< HEAD
<<<<<<< HEAD
<<<<<<< HEAD
<<<<<<< HEAD
<<<<<<< HEAD
   "id": "1109d8b8",
||||||| 6a30bf1
   "id": "62fd8635",
=======
   "id": "eaca70e7",
>>>>>>> documentation-devel
||||||| d28b18c
   "id": "eaca70e7",
=======
   "id": "ad9b95f8",
>>>>>>> documentation-devel
||||||| 6893f63
<<<<<<< HEAD
   "id": "1109d8b8",
||||||| 6a30bf1
   "id": "62fd8635",
=======
   "id": "eaca70e7",
>>>>>>> documentation-devel
=======
   "id": "99be5edd",
>>>>>>> c74c98c2450c2a1ba922ed9442f136238d6bc88b
||||||| 6d93b645
   "id": "ad9b95f8",
=======
   "id": "bd0de2de",
>>>>>>> documentation-devel
||||||| 804edffb
<<<<<<< HEAD
<<<<<<< HEAD
<<<<<<< HEAD
   "id": "1109d8b8",
||||||| 6a30bf1
   "id": "62fd8635",
=======
   "id": "eaca70e7",
>>>>>>> documentation-devel
||||||| d28b18c
   "id": "eaca70e7",
=======
   "id": "ad9b95f8",
>>>>>>> documentation-devel
||||||| 6893f63
<<<<<<< HEAD
   "id": "1109d8b8",
||||||| 6a30bf1
   "id": "62fd8635",
=======
   "id": "eaca70e7",
>>>>>>> documentation-devel
=======
   "id": "99be5edd",
>>>>>>> c74c98c2450c2a1ba922ed9442f136238d6bc88b
=======
   "id": "41f0960c",
>>>>>>> 035bb2637984ead2784fecff78c0c60cc4181202
||||||| 3effdfa5
   "id": "bd0de2de",
=======
   "id": "2148a21e",
>>>>>>> documentation-devel
   "metadata": {},
   "outputs": [],
   "source": [
    "sfe <- runUnivariate(\n",
    "  sfe, type = \"moran.mc\", features = hvgs,\n",
    "  colGraphName = \"knn5\", nsim = 100, BPPARAM = MulticoreParam(2))\n",
    "\n",
    "sfe <- colDataUnivariate(\n",
    "  sfe, type = \"moran.mc\", features = c(\"nCounts\", \"nGenes\"), \n",
    "  colGraphName = \"knn5\", nsim = 100)"
   ]
  },
  {
   "cell_type": "markdown",
<<<<<<< HEAD
<<<<<<< HEAD
<<<<<<< HEAD
<<<<<<< HEAD
<<<<<<< HEAD
<<<<<<< HEAD
   "id": "cde73c26",
||||||| 6a30bf1
   "id": "f8f2923b",
=======
   "id": "c5da804d",
>>>>>>> documentation-devel
||||||| d28b18c
   "id": "c5da804d",
=======
   "id": "eb6599c2",
>>>>>>> documentation-devel
||||||| 6893f63
<<<<<<< HEAD
   "id": "cde73c26",
||||||| 6a30bf1
   "id": "f8f2923b",
=======
   "id": "c5da804d",
>>>>>>> documentation-devel
=======
   "id": "9004af9b",
>>>>>>> c74c98c2450c2a1ba922ed9442f136238d6bc88b
||||||| 6d93b645
   "id": "eb6599c2",
=======
   "id": "14a7624f",
>>>>>>> documentation-devel
||||||| 804edffb
<<<<<<< HEAD
<<<<<<< HEAD
<<<<<<< HEAD
   "id": "cde73c26",
||||||| 6a30bf1
   "id": "f8f2923b",
=======
   "id": "c5da804d",
>>>>>>> documentation-devel
||||||| d28b18c
   "id": "c5da804d",
=======
   "id": "eb6599c2",
>>>>>>> documentation-devel
||||||| 6893f63
<<<<<<< HEAD
   "id": "cde73c26",
||||||| 6a30bf1
   "id": "f8f2923b",
=======
   "id": "c5da804d",
>>>>>>> documentation-devel
=======
   "id": "9004af9b",
>>>>>>> c74c98c2450c2a1ba922ed9442f136238d6bc88b
=======
   "id": "562b1204",
>>>>>>> 035bb2637984ead2784fecff78c0c60cc4181202
||||||| 3effdfa5
   "id": "14a7624f",
=======
   "id": "50996ce0",
>>>>>>> documentation-devel
   "metadata": {
    "lines_to_next_cell": 0
   },
   "source": [
    "We can plot the results of the Monte Carlo simulations: "
   ]
  },
  {
   "cell_type": "code",
   "execution_count": null,
<<<<<<< HEAD
<<<<<<< HEAD
<<<<<<< HEAD
<<<<<<< HEAD
<<<<<<< HEAD
<<<<<<< HEAD
   "id": "dbb1486e",
||||||| 6a30bf1
   "id": "24da2a0a",
=======
   "id": "ce4f197e",
>>>>>>> documentation-devel
||||||| d28b18c
   "id": "ce4f197e",
=======
   "id": "108c6141",
>>>>>>> documentation-devel
||||||| 6893f63
<<<<<<< HEAD
   "id": "dbb1486e",
||||||| 6a30bf1
   "id": "24da2a0a",
=======
   "id": "ce4f197e",
>>>>>>> documentation-devel
=======
   "id": "49332bc9",
>>>>>>> c74c98c2450c2a1ba922ed9442f136238d6bc88b
||||||| 6d93b645
   "id": "108c6141",
=======
   "id": "3fbe3e76",
>>>>>>> documentation-devel
||||||| 804edffb
<<<<<<< HEAD
<<<<<<< HEAD
<<<<<<< HEAD
   "id": "dbb1486e",
||||||| 6a30bf1
   "id": "24da2a0a",
=======
   "id": "ce4f197e",
>>>>>>> documentation-devel
||||||| d28b18c
   "id": "ce4f197e",
=======
   "id": "108c6141",
>>>>>>> documentation-devel
||||||| 6893f63
<<<<<<< HEAD
   "id": "dbb1486e",
||||||| 6a30bf1
   "id": "24da2a0a",
=======
   "id": "ce4f197e",
>>>>>>> documentation-devel
=======
   "id": "49332bc9",
>>>>>>> c74c98c2450c2a1ba922ed9442f136238d6bc88b
=======
   "id": "97254a4e",
>>>>>>> 035bb2637984ead2784fecff78c0c60cc4181202
||||||| 3effdfa5
   "id": "3fbe3e76",
=======
   "id": "ee8e3f23",
>>>>>>> documentation-devel
   "metadata": {},
   "outputs": [],
   "source": [
    "plotMoranMC(sfe, \"Meox1\")"
   ]
  },
  {
   "cell_type": "markdown",
<<<<<<< HEAD
<<<<<<< HEAD
<<<<<<< HEAD
<<<<<<< HEAD
<<<<<<< HEAD
<<<<<<< HEAD
   "id": "ad416386",
||||||| 6a30bf1
   "id": "33d6d8f2",
=======
   "id": "71e6d512",
>>>>>>> documentation-devel
||||||| d28b18c
   "id": "71e6d512",
=======
   "id": "ffb11aec",
>>>>>>> documentation-devel
||||||| 6893f63
<<<<<<< HEAD
   "id": "ad416386",
||||||| 6a30bf1
   "id": "33d6d8f2",
=======
   "id": "71e6d512",
>>>>>>> documentation-devel
=======
   "id": "21b21770",
>>>>>>> c74c98c2450c2a1ba922ed9442f136238d6bc88b
||||||| 6d93b645
   "id": "ffb11aec",
=======
   "id": "0255af44",
>>>>>>> documentation-devel
||||||| 804edffb
<<<<<<< HEAD
<<<<<<< HEAD
<<<<<<< HEAD
   "id": "ad416386",
||||||| 6a30bf1
   "id": "33d6d8f2",
=======
   "id": "71e6d512",
>>>>>>> documentation-devel
||||||| d28b18c
   "id": "71e6d512",
=======
   "id": "ffb11aec",
>>>>>>> documentation-devel
||||||| 6893f63
<<<<<<< HEAD
   "id": "ad416386",
||||||| 6a30bf1
   "id": "33d6d8f2",
=======
   "id": "71e6d512",
>>>>>>> documentation-devel
=======
   "id": "21b21770",
>>>>>>> c74c98c2450c2a1ba922ed9442f136238d6bc88b
=======
   "id": "d7da3084",
>>>>>>> 035bb2637984ead2784fecff78c0c60cc4181202
||||||| 3effdfa5
   "id": "0255af44",
=======
   "id": "bf87e66d",
>>>>>>> documentation-devel
   "metadata": {
    "lines_to_next_cell": 0
   },
   "source": [
    "The vertical line represents the observed value of Moran's I and the density represents Moran's I computed from the permuted data. These simulations suggest that the spatial autocorrelation for this feature is significant. \n",
    "\n",
    "The function can also be used to plot the `geary.mc` results. \n",
    "\n",
    "Now, we might ask: which genes display the most spatial autocorrelation? "
   ]
  },
  {
   "cell_type": "code",
   "execution_count": null,
<<<<<<< HEAD
<<<<<<< HEAD
<<<<<<< HEAD
<<<<<<< HEAD
<<<<<<< HEAD
<<<<<<< HEAD
   "id": "f7bed317",
||||||| 6a30bf1
   "id": "f74deafe",
=======
   "id": "b18a83b3",
>>>>>>> documentation-devel
||||||| d28b18c
   "id": "b18a83b3",
=======
   "id": "6599b3d3",
>>>>>>> documentation-devel
||||||| 6893f63
<<<<<<< HEAD
   "id": "f7bed317",
||||||| 6a30bf1
   "id": "f74deafe",
=======
   "id": "b18a83b3",
>>>>>>> documentation-devel
=======
   "id": "54714c92",
>>>>>>> c74c98c2450c2a1ba922ed9442f136238d6bc88b
||||||| 6d93b645
   "id": "6599b3d3",
=======
   "id": "0565f0c7",
>>>>>>> documentation-devel
||||||| 804edffb
<<<<<<< HEAD
<<<<<<< HEAD
<<<<<<< HEAD
   "id": "f7bed317",
||||||| 6a30bf1
   "id": "f74deafe",
=======
   "id": "b18a83b3",
>>>>>>> documentation-devel
||||||| d28b18c
   "id": "b18a83b3",
=======
   "id": "6599b3d3",
>>>>>>> documentation-devel
||||||| 6893f63
<<<<<<< HEAD
   "id": "f7bed317",
||||||| 6a30bf1
   "id": "f74deafe",
=======
   "id": "b18a83b3",
>>>>>>> documentation-devel
=======
   "id": "54714c92",
>>>>>>> c74c98c2450c2a1ba922ed9442f136238d6bc88b
=======
   "id": "797ce592",
>>>>>>> 035bb2637984ead2784fecff78c0c60cc4181202
||||||| 3effdfa5
   "id": "0565f0c7",
=======
   "id": "7e72055d",
>>>>>>> documentation-devel
   "metadata": {
    "fig.height": 8,
    "fig.width": 8
   },
   "outputs": [],
   "source": [
    "top_moran <- rownames(sfe)[order(-rowData(sfe)$moran.mc_statistic_sample01)[1:4]]\n",
    "\n",
    "plotSpatialFeature(sfe, top_moran, colGeometryName = \"seg_coords\")"
   ]
  },
  {
   "cell_type": "markdown",
<<<<<<< HEAD
<<<<<<< HEAD
<<<<<<< HEAD
<<<<<<< HEAD
<<<<<<< HEAD
<<<<<<< HEAD
   "id": "c0a0305b",
||||||| 6a30bf1
   "id": "0cf5fb2e",
=======
   "id": "570c73e3",
>>>>>>> documentation-devel
||||||| d28b18c
   "id": "570c73e3",
=======
   "id": "8e738ac9",
>>>>>>> documentation-devel
||||||| 6893f63
<<<<<<< HEAD
   "id": "c0a0305b",
||||||| 6a30bf1
   "id": "0cf5fb2e",
=======
   "id": "570c73e3",
>>>>>>> documentation-devel
=======
   "id": "d67a97c6",
>>>>>>> c74c98c2450c2a1ba922ed9442f136238d6bc88b
||||||| 6d93b645
   "id": "8e738ac9",
=======
   "id": "fe0ff6ae",
>>>>>>> documentation-devel
||||||| 804edffb
<<<<<<< HEAD
<<<<<<< HEAD
<<<<<<< HEAD
   "id": "c0a0305b",
||||||| 6a30bf1
   "id": "0cf5fb2e",
=======
   "id": "570c73e3",
>>>>>>> documentation-devel
||||||| d28b18c
   "id": "570c73e3",
=======
   "id": "8e738ac9",
>>>>>>> documentation-devel
||||||| 6893f63
<<<<<<< HEAD
   "id": "c0a0305b",
||||||| 6a30bf1
   "id": "0cf5fb2e",
=======
   "id": "570c73e3",
>>>>>>> documentation-devel
=======
   "id": "d67a97c6",
>>>>>>> c74c98c2450c2a1ba922ed9442f136238d6bc88b
=======
   "id": "3ff340bd",
>>>>>>> 035bb2637984ead2784fecff78c0c60cc4181202
||||||| 3effdfa5
   "id": "fe0ff6ae",
=======
   "id": "b44f6e30",
>>>>>>> documentation-devel
   "metadata": {
    "lines_to_next_cell": 0
   },
   "source": [
    "It appears that the genes with the highest spatial autocorrelation seem to have obvious expression patterns in the tissue. \n",
    "\n",
    "It would be interesting to see if these genes are also differentially expressed in the clusters above. Non-spatial differential gene expression can be interrogated using the `findMarkers()` function implemented in the `scran` package and more complex methods for identifying spatially variable genes are actively being developed. \n",
    "\n",
    "These analyses bring up interesting considerations. For one, it is unclear whether normalization scheme employed here effectively removes FOV batch effects. That said, there may be times where FOV differences are expected and represent biological differences, for example in the context of a tumor sample. It remains to be seen what normalization methods will perform best in these cases, and this is represents an area for research.\n",
    "\n",
    "# Session Info"
   ]
  },
  {
   "cell_type": "code",
   "execution_count": null,
<<<<<<< HEAD
<<<<<<< HEAD
<<<<<<< HEAD
<<<<<<< HEAD
<<<<<<< HEAD
<<<<<<< HEAD
   "id": "85ca8332",
||||||| 6a30bf1
   "id": "3cc6813e",
=======
   "id": "c941c45f",
>>>>>>> documentation-devel
||||||| d28b18c
   "id": "c941c45f",
=======
   "id": "d65763a4",
>>>>>>> documentation-devel
||||||| 6893f63
<<<<<<< HEAD
   "id": "85ca8332",
||||||| 6a30bf1
   "id": "3cc6813e",
=======
   "id": "c941c45f",
>>>>>>> documentation-devel
=======
   "id": "f424585a",
>>>>>>> c74c98c2450c2a1ba922ed9442f136238d6bc88b
||||||| 6d93b645
   "id": "d65763a4",
=======
   "id": "96bcd379",
>>>>>>> documentation-devel
||||||| 804edffb
<<<<<<< HEAD
<<<<<<< HEAD
<<<<<<< HEAD
   "id": "85ca8332",
||||||| 6a30bf1
   "id": "3cc6813e",
=======
   "id": "c941c45f",
>>>>>>> documentation-devel
||||||| d28b18c
   "id": "c941c45f",
=======
   "id": "d65763a4",
>>>>>>> documentation-devel
||||||| 6893f63
<<<<<<< HEAD
   "id": "85ca8332",
||||||| 6a30bf1
   "id": "3cc6813e",
=======
   "id": "c941c45f",
>>>>>>> documentation-devel
=======
   "id": "f424585a",
>>>>>>> c74c98c2450c2a1ba922ed9442f136238d6bc88b
=======
   "id": "8b1ac4d2",
>>>>>>> 035bb2637984ead2784fecff78c0c60cc4181202
||||||| 3effdfa5
   "id": "96bcd379",
=======
   "id": "bf6fe347",
>>>>>>> documentation-devel
   "metadata": {},
   "outputs": [],
   "source": [
    "sessionInfo()"
   ]
  },
  {
   "cell_type": "markdown",
<<<<<<< HEAD
<<<<<<< HEAD
<<<<<<< HEAD
<<<<<<< HEAD
<<<<<<< HEAD
<<<<<<< HEAD
   "id": "e98b4555",
||||||| 6a30bf1
   "id": "c31e156f",
=======
   "id": "209ccbeb",
>>>>>>> documentation-devel
||||||| d28b18c
   "id": "209ccbeb",
=======
   "id": "147e6ffb",
>>>>>>> documentation-devel
||||||| 6893f63
<<<<<<< HEAD
   "id": "e98b4555",
||||||| 6a30bf1
   "id": "c31e156f",
=======
   "id": "209ccbeb",
>>>>>>> documentation-devel
=======
   "id": "b278b99d",
>>>>>>> c74c98c2450c2a1ba922ed9442f136238d6bc88b
||||||| 6d93b645
   "id": "147e6ffb",
=======
   "id": "d066bb8d",
>>>>>>> documentation-devel
||||||| 804edffb
<<<<<<< HEAD
<<<<<<< HEAD
<<<<<<< HEAD
   "id": "e98b4555",
||||||| 6a30bf1
   "id": "c31e156f",
=======
   "id": "209ccbeb",
>>>>>>> documentation-devel
||||||| d28b18c
   "id": "209ccbeb",
=======
   "id": "147e6ffb",
>>>>>>> documentation-devel
||||||| 6893f63
<<<<<<< HEAD
   "id": "e98b4555",
||||||| 6a30bf1
   "id": "c31e156f",
=======
   "id": "209ccbeb",
>>>>>>> documentation-devel
=======
   "id": "b278b99d",
>>>>>>> c74c98c2450c2a1ba922ed9442f136238d6bc88b
=======
   "id": "fc1ed00b",
>>>>>>> 035bb2637984ead2784fecff78c0c60cc4181202
||||||| 3effdfa5
   "id": "d066bb8d",
=======
   "id": "dde95b2e",
>>>>>>> documentation-devel
   "metadata": {},
   "source": [
    "# References"
   ]
  }
 ],
 "metadata": {
  "kernelspec": {
   "display_name": "R",
   "language": "R",
   "name": "ir"
  }
 },
 "nbformat": 4,
 "nbformat_minor": 5
}
