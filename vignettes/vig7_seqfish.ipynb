{
 "cells": [
  {
   "cell_type": "raw",
<<<<<<< HEAD
<<<<<<< HEAD
   "id": "4a8b21f7",
||||||| d29fab7
   "id": "72c86d9c",
=======
   "id": "2c73b61d",
>>>>>>> documentation-devel
||||||| 565f7a7
   "id": "4a8b21f7",
=======
   "id": "2f17a2bd",
>>>>>>> e08844e1a91b8e98d8bdd4d0244954bda0b7215b
   "metadata": {},
   "source": [
    "---\n",
    "title: \"seqFISH exploratory data analysis\"\n",
    "author: \"Kayla Jackson\"\n",
    "date: \"`r Sys.Date()`\"\n",
    "output: \n",
    "  html_document:\n",
    "  toc: true\n",
    "  toc_float:\n",
    "    collapsed: false\n",
    "  toc_depth: 3\n",
    "bibliography: ref.bib\n",
    "vignette: >\n",
    "  %\\VignetteIndexEntry{seqfish_basic}\n",
    "  %\\VignetteEngine{knitr::rmarkdown}\n",
    "  %\\VignetteEncoding{UTF-8}\n",
    "---"
   ]
  },
  {
   "cell_type": "code",
   "execution_count": null,
<<<<<<< HEAD
<<<<<<< HEAD
   "id": "6fe81332",
||||||| d29fab7
   "id": "a18eb6f7",
=======
   "id": "49a4d136",
>>>>>>> documentation-devel
||||||| 565f7a7
   "id": "6fe81332",
=======
   "id": "37dba6a2",
>>>>>>> e08844e1a91b8e98d8bdd4d0244954bda0b7215b
   "metadata": {
    "tags": [
     "remove_cell"
    ]
   },
   "outputs": [],
   "source": [
    "knitr::opts_chunk$set(\n",
    "  collapse = TRUE,\n",
    "  comment = \"#>\", fig.align = \"center\"\n",
    ")"
   ]
  },
  {
   "cell_type": "code",
   "execution_count": null,
<<<<<<< HEAD
<<<<<<< HEAD
   "id": "00ca86e5",
||||||| d29fab7
   "id": "3c367e3b",
=======
   "id": "d29e5aaa",
>>>>>>> documentation-devel
||||||| 565f7a7
   "id": "00ca86e5",
=======
   "id": "4617cbbc",
>>>>>>> e08844e1a91b8e98d8bdd4d0244954bda0b7215b
   "metadata": {
    "eval": false,
    "tags": [
     "remove_cell"
    ]
   },
   "outputs": [],
   "source": [
    "# Install Google Colab dependencies\n",
    "# Note: this can take 30+ minutes (many of the dependencies include C++ code, which needs to be compiled)\n",
    "\n",
    "# First install `sf`, `ragg` and `textshaping` and their system dependencies:\n",
    "system(\"apt-get -y update && apt-get install -y  libudunits2-dev libgdal-dev libgeos-dev libproj-dev libharfbuzz-dev libfribidi-dev\")\n",
    "install.packages(\"sf\")\n",
    "install.packages(\"textshaping\")\n",
    "install.packages(\"ragg\")\n",
    "\n",
    "# Install system dependencies of some other R packages that Voyager either imports or suggests:\n",
    "system(\"apt-get install -y libfribidi-dev libcairo2-dev libmagick++-dev\")\n",
    "\n",
    "# Install Voyager from Bioconductor:\n",
    "install.packages(\"BiocManager\")\n",
    "BiocManager::install(version = \"3.17\", ask = FALSE, update = FALSE, Ncpus = 2)\n",
    "BiocManager::install(\"scater\")\n",
    "system.time(\n",
    "  BiocManager::install(\"Voyager\", dependencies = TRUE, Ncpus = 2, update = FALSE)\n",
    ")\n",
    "\n",
    "# Install additional dependencies for this vignette\n",
    "BiocManager::install(\"batchelor\")\n",
    "BiocManager::install(\"fossil\")\n",
    "\n",
    "packageVersion(\"Voyager\")"
   ]
  },
  {
   "cell_type": "markdown",
<<<<<<< HEAD
<<<<<<< HEAD
   "id": "cccf5951",
||||||| d29fab7
   "id": "e570cd15",
=======
   "id": "1165d5ea",
>>>>>>> documentation-devel
||||||| 565f7a7
   "id": "cccf5951",
=======
   "id": "04923b1b",
>>>>>>> e08844e1a91b8e98d8bdd4d0244954bda0b7215b
   "metadata": {
    "lines_to_next_cell": 0
   },
   "source": [
    "# Introduction\n",
    "\n",
    "# Dataset\n",
    "The data used in this vignette are described in [Integration of spatial and single-cell transcriptomic data elucidates mouse organogenesis](https://doi.org/10.1038/s41587-021-01006-2). Briefly, seqFISH was use to profile 351 genes in several mouse embryos at the 8-12 somite stage (ss). We will focus on a single biological replicate, embryo 3. The raw and processed counts and corresponding metadata are available to download from the [Marioni lab](https://content.cruk.cam.ac.uk/jmlab/SpatialMouseAtlas2020/). Expression matrices, segmentation data, and segmented cell vertices are provided as R objects that can be readily imported into an R environment. The data relevant to this vignette have been converted to a `SFE` object and are available to download [here](https://caltech.box.com/public/static/ulrqr1gk7oh21h9ejgua1xajs6dsbvrj) from Box.  \n",
    "\n",
    "The data have been added to the `SFEData` package on Bioconductor and will be available in the 3.17 release. \n",
    "\n",
    "We will begin by downloading the data and loading it in to R. "
   ]
  },
  {
   "cell_type": "code",
   "execution_count": null,
<<<<<<< HEAD
<<<<<<< HEAD
   "id": "b28ccb5b",
||||||| d29fab7
   "id": "26bb006b",
=======
   "id": "9ae6a487",
>>>>>>> documentation-devel
||||||| 565f7a7
   "id": "b28ccb5b",
=======
   "id": "9a04c60e",
>>>>>>> e08844e1a91b8e98d8bdd4d0244954bda0b7215b
   "metadata": {
    "message": false,
    "name": "setup"
   },
   "outputs": [],
   "source": [
    "library(Voyager)\n",
    "library(SFEData)\n",
    "library(SingleCellExperiment)\n",
    "library(SpatialExperiment)\n",
    "library(SpatialFeatureExperiment)\n",
    "library(batchelor)\n",
    "library(scater)\n",
    "library(scran)\n",
    "library(bluster)\n",
    "library(purrr)\n",
    "library(tidyr)\n",
    "library(dplyr)\n",
    "library(fossil)\n",
    "library(ggplot2)\n",
    "library(patchwork)\n",
    "library(spdep)\n",
    "library(BiocParallel)\n",
    "\n",
    "theme_set(theme_bw())"
   ]
  },
  {
   "cell_type": "code",
   "execution_count": null,
<<<<<<< HEAD
<<<<<<< HEAD
   "id": "9a238f43",
||||||| d29fab7
   "id": "463b4dbf",
=======
   "id": "e215e945",
>>>>>>> documentation-devel
||||||| 565f7a7
   "id": "9a238f43",
=======
   "id": "16197400",
>>>>>>> e08844e1a91b8e98d8bdd4d0244954bda0b7215b
   "metadata": {},
   "outputs": [],
   "source": [
    "# Only Bioc 3.17 and above\n",
    "sfe <- LohoffGastrulationData()"
   ]
  },
  {
   "cell_type": "markdown",
<<<<<<< HEAD
<<<<<<< HEAD
   "id": "5c0fba87",
||||||| d29fab7
   "id": "79a6963b",
=======
   "id": "a32ca96b",
>>>>>>> documentation-devel
||||||| 565f7a7
   "id": "5c0fba87",
=======
   "id": "6bb602a3",
>>>>>>> e08844e1a91b8e98d8bdd4d0244954bda0b7215b
   "metadata": {
    "lines_to_next_cell": 0
   },
   "source": [
    "The rows in the count matrix correspond to the 351 barcoded genes measured by seqFISH. Additionally, the authors provide some metadata, including the field of view and z-slice for each cell. We will filter the count matrix and metadata to include only  cells from a single z-slice. "
   ]
  },
  {
   "cell_type": "code",
   "execution_count": null,
<<<<<<< HEAD
<<<<<<< HEAD
   "id": "6cc000c2",
||||||| d29fab7
   "id": "1378be62",
=======
   "id": "48cae8f2",
>>>>>>> documentation-devel
||||||| 565f7a7
   "id": "6cc000c2",
=======
   "id": "29c92818",
>>>>>>> e08844e1a91b8e98d8bdd4d0244954bda0b7215b
   "metadata": {},
   "outputs": [],
   "source": [
    "names(colData(sfe))"
   ]
  },
  {
   "cell_type": "code",
   "execution_count": null,
<<<<<<< HEAD
<<<<<<< HEAD
   "id": "e4564c1e",
||||||| d29fab7
   "id": "027aee80",
=======
   "id": "16e1065c",
>>>>>>> documentation-devel
||||||| 565f7a7
   "id": "e4564c1e",
=======
   "id": "1457a6af",
>>>>>>> e08844e1a91b8e98d8bdd4d0244954bda0b7215b
   "metadata": {},
   "outputs": [],
   "source": [
    "mask <- colData(sfe)$z == 2\n",
    "sfe <- sfe[,mask]"
   ]
  },
  {
   "cell_type": "markdown",
<<<<<<< HEAD
<<<<<<< HEAD
   "id": "d45190bf",
||||||| d29fab7
   "id": "2ba97729",
=======
   "id": "56238e3b",
>>>>>>> documentation-devel
||||||| 565f7a7
   "id": "d45190bf",
=======
   "id": "65fdd719",
>>>>>>> e08844e1a91b8e98d8bdd4d0244954bda0b7215b
   "metadata": {
    "lines_to_next_cell": 0
   },
   "source": [
    "# Quality control \n",
    "\n",
    "We will begin quality control (QC) of the cells by computing metrics that are common in single-cell analysis and store them in the `colData` field of the SFE object. Below, we compute the number of counts per cell. We will also compute the average and display it on the violin plot. "
   ]
  },
  {
   "cell_type": "code",
   "execution_count": null,
<<<<<<< HEAD
<<<<<<< HEAD
   "id": "52cd7942",
||||||| d29fab7
   "id": "933c020b",
=======
   "id": "188669e2",
>>>>>>> documentation-devel
||||||| 565f7a7
   "id": "52cd7942",
=======
   "id": "ac929ee0",
>>>>>>> e08844e1a91b8e98d8bdd4d0244954bda0b7215b
   "metadata": {},
   "outputs": [],
   "source": [
    "colData(sfe)$nCounts <- colSums(counts(sfe))\n",
    "avg <- mean(colData(sfe)$nCounts)\n",
    "\n",
    "violin <- plotColData(sfe, \"nCounts\") +\n",
    "    geom_hline(yintercept = avg, color='red') +\n",
    "    theme(legend.position = \"top\") \n",
    "\n",
    "spatial <- plotSpatialFeature(sfe, \"nCounts\", colGeometryName = \"seg_coords\")\n",
    "\n",
    "violin + spatial"
   ]
  },
  {
   "cell_type": "markdown",
<<<<<<< HEAD
<<<<<<< HEAD
   "id": "14127baa",
||||||| d29fab7
   "id": "098304f8",
=======
   "id": "7873b6fe",
>>>>>>> documentation-devel
||||||| 565f7a7
   "id": "14127baa",
=======
   "id": "e1f99c26",
>>>>>>> e08844e1a91b8e98d8bdd4d0244954bda0b7215b
   "metadata": {
    "lines_to_next_cell": 0
   },
   "source": [
    "Notably, the cells in this dataset have fewer counts that would be expected in a single-cell sequencing experiment and the cells with higher counts seem to be dispersed throughout the tissue. Fewer counts are expected in seqFISH experiments where probing for highly expressed genes may lead to optical crowding over multiple imaging rounds.  \n",
    "\n",
    "Since the counts are collected from several fields of view, we will visualize the number of cells and total counts for each field separately. "
   ]
  },
  {
   "cell_type": "code",
   "execution_count": null,
<<<<<<< HEAD
<<<<<<< HEAD
   "id": "6c287e76",
||||||| d29fab7
   "id": "2687bc13",
=======
   "id": "8ca93b11",
>>>>>>> documentation-devel
||||||| 565f7a7
   "id": "6c287e76",
=======
   "id": "00614112",
>>>>>>> e08844e1a91b8e98d8bdd4d0244954bda0b7215b
   "metadata": {},
   "outputs": [],
   "source": [
    "pos <- colData(sfe)$pos\n",
    "counts_spl <- split.data.frame(t(counts(sfe)), pos)\n",
    "\n",
    "# nCounts per FOV\n",
    "df <- map_dfr(counts_spl, rowSums, .id='pos') |>\n",
    "    pivot_longer(cols=contains('embryo'), values_to = 'nCounts') |>\n",
    "    mutate(pos = factor(pos, levels = paste0(\"Pos\", seq_len(length(unique(pos)))-1))) |> \n",
    "    dplyr::filter(!is.na(nCounts))\n",
    "\n",
    "cells_fov <- colData(sfe) |> \n",
    "    as.data.frame() |> \n",
    "    mutate(pos = factor(pos, levels = paste0(\"Pos\", seq_len(length(unique(pos)))-1))) |> \n",
    "    ggplot(aes(pos,)) +\n",
    "    geom_bar() + \n",
    "    theme_minimal() + \n",
    "    labs(\n",
    "        x = \"\",\n",
    "        y = \"Number of cells\") + \n",
    "    theme(axis.text.x = element_text(angle = 90))\n",
    "\n",
    "counts_fov <- ggplot(df, aes(pos, nCounts)) +\n",
    "    geom_boxplot(outlier.size = 0.5) + \n",
    "    theme_minimal() + \n",
    "    labs(x = \"\", y = 'nCounts') + \n",
    "    theme(axis.text.x = element_text(angle = 90))\n",
    "\n",
    "cells_fov / counts_fov"
   ]
  },
  {
   "cell_type": "markdown",
<<<<<<< HEAD
<<<<<<< HEAD
   "id": "a0d501af",
||||||| d29fab7
   "id": "9ed1b7a8",
=======
   "id": "62977921",
>>>>>>> documentation-devel
||||||| 565f7a7
   "id": "a0d501af",
=======
   "id": "9bb449b8",
>>>>>>> e08844e1a91b8e98d8bdd4d0244954bda0b7215b
   "metadata": {},
   "source": [
    "There is some variability in the total number of counts in each field of view. It is not completely apparent what accounts for the low number of counts in some FOVs. For example, FOV 22 has the fewest number of cells, but comparably more counts are detected there than in regions with more cells (e.g. FOV 18). \n",
    "\n",
    "Next, will will compute the number of genes detected per cell, defined here as the number of genes with non-zero counts. We will again plot this metric for each FOV as is done above."
   ]
  },
  {
   "cell_type": "code",
   "execution_count": null,
<<<<<<< HEAD
<<<<<<< HEAD
   "id": "ffe7af25",
||||||| d29fab7
   "id": "0d016426",
=======
   "id": "5bc4cf00",
>>>>>>> documentation-devel
||||||| 565f7a7
   "id": "ffe7af25",
=======
   "id": "c289a274",
>>>>>>> e08844e1a91b8e98d8bdd4d0244954bda0b7215b
   "metadata": {},
   "outputs": [],
   "source": [
    "colData(sfe)$nGenes <- colSums(counts(sfe) > 0)\n",
    "\n",
    "avg <- mean(colData(sfe)$nGenes)\n",
    "\n",
    "violin <- plotColData(sfe, \"nGenes\") +\n",
    "    geom_hline(yintercept = avg, color='red') +\n",
    "    theme(legend.position = \"top\") \n",
    "\n",
    "spatial <- plotSpatialFeature(sfe, \"nGenes\", colGeometryName = \"seg_coords\")\n",
    "\n",
    "violin + spatial"
   ]
  },
  {
   "cell_type": "markdown",
<<<<<<< HEAD
<<<<<<< HEAD
   "id": "bd9be649",
||||||| d29fab7
   "id": "f92f4bb3",
=======
   "id": "0a1ddb3e",
>>>>>>> documentation-devel
||||||| 565f7a7
   "id": "bd9be649",
=======
   "id": "0ceabf57",
>>>>>>> e08844e1a91b8e98d8bdd4d0244954bda0b7215b
   "metadata": {
    "lines_to_next_cell": 0
   },
   "source": [
    "Many cells have fewer than 100 detected genes. This in part reflects that the panel of 351 probed genes was chosen to distinguish cell types at these developmental stages and that distinct cell types will likely express a small subset of the 351 genes. The authors also note that the gene panel consists of lowly expressed to moderately expressed genes. Taken together, these technical details can explain the relatively low number of counts and genes per cell. \n",
    "\n",
    "Here, we plot the number of genes detected per cell in each FOV. "
   ]
  },
  {
   "cell_type": "code",
   "execution_count": null,
<<<<<<< HEAD
<<<<<<< HEAD
   "id": "89a78b39",
||||||| d29fab7
   "id": "b9375050",
=======
   "id": "0624dea8",
>>>>>>> documentation-devel
||||||| 565f7a7
   "id": "89a78b39",
=======
   "id": "c0bd9bed",
>>>>>>> e08844e1a91b8e98d8bdd4d0244954bda0b7215b
   "metadata": {},
   "outputs": [],
   "source": [
    "df <- map_dfr(counts_spl, ~ rowSums(.x > 0), .id='pos') |>\n",
    "    pivot_longer(cols = contains('embryo'), values_to = 'nGenes') |>\n",
    "    mutate(pos = factor(pos, levels = paste0(\"Pos\", seq_len(length(unique(pos)))-1))) |> \n",
    "    filter(!is.na(nGenes)) |>\n",
    "    merge(df)\n",
    "\n",
    "genes_fov <- ggplot(df, aes(pos, nGenes)) +\n",
    "    geom_boxplot(outlier.size = 0.5) + \n",
    "    theme_bw() + \n",
    "    labs(x = \"\") + \n",
    "    theme(axis.text.x = element_text(angle = 90))\n",
    "\n",
    "genes_fov"
   ]
  },
  {
   "cell_type": "markdown",
<<<<<<< HEAD
<<<<<<< HEAD
   "id": "4fa9550b",
||||||| d29fab7
   "id": "41404c85",
=======
   "id": "107d7d3d",
>>>>>>> documentation-devel
||||||| 565f7a7
   "id": "4fa9550b",
=======
   "id": "bddbdf51",
>>>>>>> e08844e1a91b8e98d8bdd4d0244954bda0b7215b
   "metadata": {},
   "source": [
    "This plot mirrors the plot above for total counts. No single FOV stands out as an obvious outlier. \n",
    "\n",
    "The authors have provided cell type assignments as metadata. We can assess whether the low quality cells tend to be located in a particular FOV. "
   ]
  },
  {
   "cell_type": "code",
   "execution_count": null,
<<<<<<< HEAD
<<<<<<< HEAD
   "id": "8a539a90",
||||||| d29fab7
   "id": "9fb75fb9",
=======
   "id": "eb4a6e07",
>>>>>>> documentation-devel
||||||| 565f7a7
   "id": "8a539a90",
=======
   "id": "0d16b3ce",
>>>>>>> e08844e1a91b8e98d8bdd4d0244954bda0b7215b
   "metadata": {
    "lines_to_next_cell": 0
   },
   "outputs": [],
   "source": [
    "meta <- data.frame(colData(sfe)) \n",
    "\n",
    "meta <- meta |> \n",
    "    group_by(pos) |> \n",
    "    add_tally(name = \"nCells_FOV\") |> \n",
    "    filter(celltype_mapped_refined %in% \"Low quality\") |> \n",
    "    add_tally(name = \"nLQ_FOV\") |> \n",
    "    mutate(prop_lq = nLQ_FOV/nCells_FOV) |>\n",
    "    distinct(pos, prop_lq) |> \n",
    "    ungroup() |> \n",
    "    mutate(pos = factor(pos, levels = paste0(\"Pos\", seq_len(length(unique(pos)))-1)))\n",
    "\n",
    "prop_lq <- ggplot(meta, aes(pos, prop_lq)) + \n",
    "    geom_bar(stat = 'identity' ) + \n",
    "    theme(axis.text.x = element_text(angle = 90)) \n",
    "\n",
    "prop_lq"
   ]
  },
  {
   "cell_type": "markdown",
<<<<<<< HEAD
<<<<<<< HEAD
   "id": "d746a178",
||||||| d29fab7
   "id": "76d44b79",
=======
   "id": "89a310aa",
>>>>>>> documentation-devel
||||||| 565f7a7
   "id": "d746a178",
=======
   "id": "81deb4d7",
>>>>>>> e08844e1a91b8e98d8bdd4d0244954bda0b7215b
   "metadata": {
    "lines_to_next_cell": 0
   },
   "source": [
    "It appears that FOV 26 and 31 have the largest fraction of low quality cells. Interestingly, these do not correspond to the FOVs with the largest number of cells overall. \n",
    "\n",
    "Here we plot nCounts vs. nGenes for each FOV. "
   ]
  },
  {
   "cell_type": "code",
   "execution_count": null,
<<<<<<< HEAD
<<<<<<< HEAD
   "id": "e53241ee",
||||||| d29fab7
   "id": "d08f1269",
=======
   "id": "09af8961",
>>>>>>> documentation-devel
||||||| 565f7a7
   "id": "e53241ee",
=======
   "id": "837d49ad",
>>>>>>> e08844e1a91b8e98d8bdd4d0244954bda0b7215b
   "metadata": {
    "fig.height": 6,
    "fig.width": 9
   },
   "outputs": [],
   "source": [
    "count_vs_genes_p <- ggplot(df, aes(nCounts, nGenes)) + \n",
    "  geom_point(\n",
    "    alpha = 0.5,\n",
    "    size = 1,\n",
    "    fill = \"white\"\n",
    "  ) +\n",
    "  facet_wrap(~ pos)\n",
    "\n",
    "count_vs_genes_p "
   ]
  },
  {
   "cell_type": "markdown",
<<<<<<< HEAD
<<<<<<< HEAD
   "id": "a24caee6",
||||||| d29fab7
   "id": "8165bbc8",
=======
   "id": "571c460c",
>>>>>>> documentation-devel
||||||| 565f7a7
   "id": "a24caee6",
=======
   "id": "1f6a8375",
>>>>>>> e08844e1a91b8e98d8bdd4d0244954bda0b7215b
   "metadata": {
    "lines_to_next_cell": 0
   },
   "source": [
    "As in scRNA-seq, gene expression variance in seqFISH measurements is overdispersed compared to variance of counts that are Poisson distributed."
   ]
  },
  {
   "cell_type": "code",
   "execution_count": null,
<<<<<<< HEAD
<<<<<<< HEAD
   "id": "64dcda42",
||||||| d29fab7
   "id": "95f7a060",
=======
   "id": "0b43b683",
>>>>>>> documentation-devel
||||||| 565f7a7
   "id": "64dcda42",
=======
   "id": "ee659835",
>>>>>>> e08844e1a91b8e98d8bdd4d0244954bda0b7215b
   "metadata": {
    "lines_to_next_cell": 0
   },
   "outputs": [],
   "source": [
    "gene_meta <- map_dfr(counts_spl, colMeans, .id = 'pos') |> \n",
    "  pivot_longer(cols = -pos, names_to = 'gene', values_to = 'mean')\n",
    "\n",
    "gene_meta <- map_dfr(counts_spl, ~colVars(.x, useNames = TRUE), .id = 'pos') |> \n",
    "  pivot_longer(-pos, names_to = 'gene', values_to='variance') |> \n",
    "  full_join(gene_meta)"
   ]
  },
  {
   "cell_type": "markdown",
<<<<<<< HEAD
<<<<<<< HEAD
   "id": "47a6f1d9",
||||||| d29fab7
   "id": "8cf6886b",
=======
   "id": "379b2e56",
>>>>>>> documentation-devel
||||||| 565f7a7
   "id": "47a6f1d9",
=======
   "id": "f0aaa1e8",
>>>>>>> e08844e1a91b8e98d8bdd4d0244954bda0b7215b
   "metadata": {
    "lines_to_next_cell": 0
   },
   "source": [
    "To understand the mean-variance relationship, we compute the mean and variance for each gene among cells in tissue. As above, we will perform this calculation separately for each FOV"
   ]
  },
  {
   "cell_type": "code",
   "execution_count": null,
<<<<<<< HEAD
<<<<<<< HEAD
   "id": "1abe443e",
||||||| d29fab7
   "id": "e397fee3",
=======
   "id": "11e76c6a",
>>>>>>> documentation-devel
||||||| 565f7a7
   "id": "1abe443e",
=======
   "id": "c7fec96a",
>>>>>>> e08844e1a91b8e98d8bdd4d0244954bda0b7215b
   "metadata": {
    "fig.height": 6,
    "fig.width": 9
   },
   "outputs": [],
   "source": [
    "ggplot(gene_meta, aes(mean, variance)) + \n",
    "  geom_point(\n",
    "    alpha = 0.5,\n",
    "    size = 1,\n",
    "    fill = \"white\"\n",
    "  ) +\n",
    "  facet_wrap(~ pos) +\n",
    "  geom_abline(slope = 1, intercept = 0, color = \"red\") +\n",
    "  scale_x_log10() + scale_y_log10() +\n",
    "  annotation_logticks()"
   ]
  },
  {
   "cell_type": "markdown",
<<<<<<< HEAD
<<<<<<< HEAD
   "id": "14cc826a",
||||||| d29fab7
   "id": "9f048b93",
=======
   "id": "bb9a8147",
>>>>>>> documentation-devel
||||||| 565f7a7
   "id": "14cc826a",
=======
   "id": "fb3c2406",
>>>>>>> e08844e1a91b8e98d8bdd4d0244954bda0b7215b
   "metadata": {
    "lines_to_next_cell": 0
   },
   "source": [
    "The red line represents the line $y = x$, which is the mean-variance relationship that would be expected for Poisson distributed data. The data deviate from this expectation in each FOV. In each case, the variance is greater than what would be expected. \n",
    "\n",
    "# Data normalization and dimension reduction\n",
    "The exploratory analysis above indicates the presence of batch effects corresponding to FOV. We will use a normalization scheme that is batch aware. As the SFE object inherits from the `SpatialExperiment`and `SingleCellExperiment`, classes, we can take advantage of normalization methods implemented in the `scran` and `batchelor` R packages.\n",
    "\n",
    "We will first use the `multiBatchNorm()` function to scale the data within each batch. As noted in the documentation, the function uses median-based normalization on the ratio of the average counts between batches. \n",
    "\n",
    "Batch correction and dimension reduction is accomplished using `fastMNN()` which performs multi-sample PCA across multiple gene expression matrices to project all cells to a common low-dimensional space."
   ]
  },
  {
   "cell_type": "code",
   "execution_count": null,
<<<<<<< HEAD
<<<<<<< HEAD
   "id": "1c6f7534",
||||||| d29fab7
   "id": "7747bed4",
=======
   "id": "1a931d06",
>>>>>>> documentation-devel
||||||| 565f7a7
   "id": "1c6f7534",
=======
   "id": "2cbeabec",
>>>>>>> e08844e1a91b8e98d8bdd4d0244954bda0b7215b
   "metadata": {},
   "outputs": [],
   "source": [
    "sfe <- multiBatchNorm(sfe, batch = pos)\n",
    "sfe_red <- fastMNN(sfe, batch = pos, cos.norm = FALSE, d = 20)"
   ]
  },
  {
   "cell_type": "markdown",
<<<<<<< HEAD
<<<<<<< HEAD
   "id": "e734de27",
||||||| d29fab7
   "id": "12bc3576",
=======
   "id": "88c838cf",
>>>>>>> documentation-devel
||||||| 565f7a7
   "id": "e734de27",
=======
   "id": "accd7a95",
>>>>>>> e08844e1a91b8e98d8bdd4d0244954bda0b7215b
   "metadata": {
    "lines_to_next_cell": 0
   },
   "source": [
    "The function `fastMNN` returns a batch-corrected matrix in the `reducedDims` slot of a `SingleCellExperiment` object. We will extract the relevant data and store them in the SFE ojbject. "
   ]
  },
  {
   "cell_type": "code",
   "execution_count": null,
<<<<<<< HEAD
<<<<<<< HEAD
   "id": "c80d0a20",
||||||| d29fab7
   "id": "3c466e13",
=======
   "id": "fa1d0c53",
>>>>>>> documentation-devel
||||||| 565f7a7
   "id": "c80d0a20",
=======
   "id": "e269aaa3",
>>>>>>> e08844e1a91b8e98d8bdd4d0244954bda0b7215b
   "metadata": {},
   "outputs": [],
   "source": [
    "reducedDim(sfe, \"PCA\") <- reducedDim(sfe_red, \"corrected\")\n",
    "assay(sfe, \"reconstructed\") <- assay(sfe_red, \"reconstructed\") "
   ]
  },
  {
   "cell_type": "markdown",
<<<<<<< HEAD
<<<<<<< HEAD
   "id": "be90bc60",
||||||| d29fab7
   "id": "7b9b278e",
=======
   "id": "e33217da",
>>>>>>> documentation-devel
||||||| 565f7a7
   "id": "be90bc60",
=======
   "id": "f9a9632a",
>>>>>>> e08844e1a91b8e98d8bdd4d0244954bda0b7215b
   "metadata": {
    "lines_to_next_cell": 0
   },
   "source": [
    "Now we will visualize the first two PCs in space. Here we notice that the PCs may show some spatial structure that correlates to biological niches of cells. "
   ]
  },
  {
   "cell_type": "code",
   "execution_count": null,
<<<<<<< HEAD
<<<<<<< HEAD
   "id": "933158f6",
||||||| d29fab7
   "id": "87089a4e",
=======
   "id": "2dcb1c84",
>>>>>>> documentation-devel
||||||| 565f7a7
   "id": "933158f6",
=======
   "id": "188c9073",
>>>>>>> e08844e1a91b8e98d8bdd4d0244954bda0b7215b
   "metadata": {},
   "outputs": [],
   "source": [
    "spatialReducedDim(sfe, \"PCA\", ncomponents = 2, divergent = TRUE, diverge_center = 0)"
   ]
  },
  {
   "cell_type": "markdown",
<<<<<<< HEAD
<<<<<<< HEAD
   "id": "977fce17",
||||||| d29fab7
   "id": "a0b9a077",
=======
   "id": "6fb869ee",
>>>>>>> documentation-devel
||||||| 565f7a7
   "id": "977fce17",
=======
   "id": "68492d1c",
>>>>>>> e08844e1a91b8e98d8bdd4d0244954bda0b7215b
   "metadata": {
    "lines_to_next_cell": 0
   },
   "source": [
    "Unfortunately, FOV artifacts can still be seen.\n",
    "\n",
    "# Clustering\n",
    "Much like in single cell analysis, we can use the batch-corrected data to cluster the cells. We will implement a graph-based clustering algorithm and plot the resulting clusters in space. "
   ]
  },
  {
   "cell_type": "code",
   "execution_count": null,
<<<<<<< HEAD
<<<<<<< HEAD
   "id": "3db1173a",
||||||| d29fab7
   "id": "34b2b0ff",
=======
   "id": "329636e9",
>>>>>>> documentation-devel
||||||| 565f7a7
   "id": "3db1173a",
=======
   "id": "e6688833",
>>>>>>> e08844e1a91b8e98d8bdd4d0244954bda0b7215b
   "metadata": {},
   "outputs": [],
   "source": [
    "colData(sfe)$cluster <- \n",
    "  clusterRows(reducedDim(sfe, \"PCA\"),\n",
    "                      BLUSPARAM = SNNGraphParam(\n",
    "                        cluster.fun = \"leiden\",\n",
    "                        cluster.args = list(\n",
    "                        resolution_parameter = 0.5,\n",
    "                        objective_function = \"modularity\")\n",
    "                        )\n",
    "              )"
   ]
  },
  {
   "cell_type": "markdown",
<<<<<<< HEAD
<<<<<<< HEAD
   "id": "4364ec37",
||||||| d29fab7
   "id": "3215731e",
=======
   "id": "a15e9f3f",
>>>>>>> documentation-devel
||||||| 565f7a7
   "id": "4364ec37",
=======
   "id": "0ab48157",
>>>>>>> e08844e1a91b8e98d8bdd4d0244954bda0b7215b
   "metadata": {
    "lines_to_next_cell": 0
   },
   "source": [
    "The plot below is colored by cluster ID and by the cell types provided by the author. "
   ]
  },
  {
   "cell_type": "code",
   "execution_count": null,
<<<<<<< HEAD
<<<<<<< HEAD
   "id": "56af83f3",
||||||| d29fab7
   "id": "9670b43d",
=======
   "id": "ca7ed26e",
>>>>>>> documentation-devel
||||||| 565f7a7
   "id": "56af83f3",
=======
   "id": "4aa71f27",
>>>>>>> e08844e1a91b8e98d8bdd4d0244954bda0b7215b
   "metadata": {
    "fig.height": 5,
    "fig.width": 10
   },
   "outputs": [],
   "source": [
    "plotSpatialFeature(sfe, c(\"cluster\", \"celltype_mapped_refined\"), \n",
    "                   colGeometryName = \"seg_coords\")"
   ]
  },
  {
   "cell_type": "markdown",
<<<<<<< HEAD
<<<<<<< HEAD
   "id": "cc0b0589",
||||||| d29fab7
   "id": "a20ab28a",
=======
   "id": "6ad2f6eb",
>>>>>>> documentation-devel
||||||| 565f7a7
   "id": "cc0b0589",
=======
   "id": "e3448e86",
>>>>>>> e08844e1a91b8e98d8bdd4d0244954bda0b7215b
   "metadata": {},
   "source": [
    "The authors have assigned cells to more types than are identified in the clustering step. In any case, the clustering results seem to recapitulate the major cell niches from the previous annotations. We can compute the [Rand index](https://en.wikipedia.org/wiki/Rand_index) using a function from the `fossil` package to assess the similarity between the two clustering results. A value of 1 would suggest the clustering results are identical, while a value of 0 would suggest that the results do not agree at all. "
   ]
  },
  {
   "cell_type": "code",
   "execution_count": null,
<<<<<<< HEAD
<<<<<<< HEAD
   "id": "bba441df",
||||||| d29fab7
   "id": "c5c6af4e",
=======
   "id": "9429be9c",
>>>>>>> documentation-devel
||||||| 565f7a7
   "id": "bba441df",
=======
   "id": "0ed5d3a3",
>>>>>>> e08844e1a91b8e98d8bdd4d0244954bda0b7215b
   "metadata": {},
   "outputs": [],
   "source": [
    "g1 <- as.numeric(colData(sfe)$cluster)\n",
    "g2 <- as.numeric(colData(sfe)$celltype_mapped_refined)\n",
    "\n",
    "rand.index(g1, g2)"
   ]
  },
  {
   "cell_type": "markdown",
<<<<<<< HEAD
<<<<<<< HEAD
   "id": "93abe56a",
||||||| d29fab7
   "id": "ca2af6b4",
=======
   "id": "7783f5c1",
>>>>>>> documentation-devel
||||||| 565f7a7
   "id": "93abe56a",
=======
   "id": "30ae5343",
>>>>>>> e08844e1a91b8e98d8bdd4d0244954bda0b7215b
   "metadata": {},
   "source": [
    "The relatively large Rand index suggests that cells are often found in the same cluster in both cases. \n",
    "\n",
    "# Univariate Spatial Statistics\n",
    "At this point, we may be interested in identifying genes that exhibit spatial variability, or whose expression depends on spatial location within the tissue. Measures of spatial autocorrelation can be useful in identifyign genes that display spatial variablity. Among the most common measures are Moran's I and Geary's C. In the latter case, a less than 1 indicates positive spatial autocorrelation, while a value larger than 1 points to negative spatial autocorrelation. In the former case, positive and negative values of Moran's I indicate positive and negative spatial autocorrelation, respectively.\n",
    "\n",
    "These tests require a spatial neighborhood graph for computation of the statistic. There are several ways to define spatial neighbors and the `findSpatialNeighbors()` function wraps all of the methods implemented in the `spdep` package. Below, we compute a k-nearest neighborhood graph. The `dist_type = \"idw\"` weights the edges of the graph by the inverse distance between neighbors."
   ]
  },
  {
   "cell_type": "code",
   "execution_count": null,
<<<<<<< HEAD
<<<<<<< HEAD
   "id": "297dce48",
||||||| d29fab7
   "id": "674e71ee",
=======
   "id": "91691143",
>>>>>>> documentation-devel
||||||| 565f7a7
   "id": "297dce48",
=======
   "id": "612bee4d",
>>>>>>> e08844e1a91b8e98d8bdd4d0244954bda0b7215b
   "metadata": {},
   "outputs": [],
   "source": [
    "colGraph(sfe, \"knn5\") <- findSpatialNeighbors(\n",
    "  sfe, method = \"knearneigh\", dist_type = \"idw\", \n",
    "  k = 5, style = \"W\")"
   ]
  },
  {
   "cell_type": "markdown",
<<<<<<< HEAD
<<<<<<< HEAD
   "id": "1c8c3ba1",
||||||| d29fab7
   "id": "473fa030",
=======
   "id": "7beb1c0f",
>>>>>>> documentation-devel
||||||| 565f7a7
   "id": "1c8c3ba1",
=======
   "id": "c0226142",
>>>>>>> e08844e1a91b8e98d8bdd4d0244954bda0b7215b
   "metadata": {
    "lines_to_next_cell": 0
   },
   "source": [
    "We will also save the most variable genes for use in the computations below. "
   ]
  },
  {
   "cell_type": "code",
   "execution_count": null,
<<<<<<< HEAD
<<<<<<< HEAD
   "id": "17e3a5db",
||||||| d29fab7
   "id": "d528704d",
=======
   "id": "348c1d39",
>>>>>>> documentation-devel
||||||| 565f7a7
   "id": "17e3a5db",
=======
   "id": "33ed5452",
>>>>>>> e08844e1a91b8e98d8bdd4d0244954bda0b7215b
   "metadata": {},
   "outputs": [],
   "source": [
    "dec <- modelGeneVar(sfe)\n",
    "hvgs <- getTopHVGs(dec, n = 100)"
   ]
  },
  {
   "cell_type": "markdown",
<<<<<<< HEAD
<<<<<<< HEAD
   "id": "0a981331",
||||||| d29fab7
   "id": "62cf239f",
=======
   "id": "3128d1dc",
>>>>>>> documentation-devel
||||||| 565f7a7
   "id": "0a981331",
=======
   "id": "73c58681",
>>>>>>> e08844e1a91b8e98d8bdd4d0244954bda0b7215b
   "metadata": {
    "lines_to_next_cell": 0
   },
   "source": [
    "We use the `runUnivariate()` function to compute the spatial autocorrelation metrics and save the results and save them in the SFE object. The `mc` type for each test implements a permutation test for each statistic and relies on the `nsim` argument for computing a p-value for the statistic. "
   ]
  },
  {
   "cell_type": "code",
   "execution_count": null,
<<<<<<< HEAD
<<<<<<< HEAD
   "id": "1f612ba8",
||||||| d29fab7
   "id": "08f44d8b",
=======
   "id": "da4394eb",
>>>>>>> documentation-devel
||||||| 565f7a7
   "id": "1f612ba8",
=======
   "id": "e893471f",
>>>>>>> e08844e1a91b8e98d8bdd4d0244954bda0b7215b
   "metadata": {},
   "outputs": [],
   "source": [
    "sfe <- runUnivariate(\n",
    "  sfe, type = \"geary.mc\", features = hvgs, \n",
    "  colGraphName = \"knn5\", nsim = 100, BPPARAM = MulticoreParam(2))"
   ]
  },
  {
   "cell_type": "code",
   "execution_count": null,
<<<<<<< HEAD
<<<<<<< HEAD
   "id": "50942cd0",
||||||| d29fab7
   "id": "9d3a2388",
=======
   "id": "5ff682c2",
>>>>>>> documentation-devel
||||||| 565f7a7
   "id": "50942cd0",
=======
   "id": "2354f6bc",
>>>>>>> e08844e1a91b8e98d8bdd4d0244954bda0b7215b
   "metadata": {},
   "outputs": [],
   "source": [
    "sfe <- runUnivariate(\n",
    "  sfe, type = \"moran.mc\", features = hvgs,\n",
    "  colGraphName = \"knn5\", nsim = 100, BPPARAM = MulticoreParam(2))\n",
    "\n",
    "sfe <- colDataUnivariate(\n",
    "  sfe, type = \"moran.mc\", features = c(\"nCounts\", \"nGenes\"), \n",
    "  colGraphName = \"knn5\", nsim = 100)"
   ]
  },
  {
   "cell_type": "markdown",
<<<<<<< HEAD
<<<<<<< HEAD
   "id": "8612b62a",
||||||| d29fab7
   "id": "dc5bd206",
=======
   "id": "df3e3339",
>>>>>>> documentation-devel
||||||| 565f7a7
   "id": "8612b62a",
=======
   "id": "1154ed1c",
>>>>>>> e08844e1a91b8e98d8bdd4d0244954bda0b7215b
   "metadata": {
    "lines_to_next_cell": 0
   },
   "source": [
    "We can plot the results of the Monte Carlo simulations: "
   ]
  },
  {
   "cell_type": "code",
   "execution_count": null,
<<<<<<< HEAD
<<<<<<< HEAD
   "id": "ead63ca9",
||||||| d29fab7
   "id": "fc322ea4",
=======
   "id": "88d9c64a",
>>>>>>> documentation-devel
||||||| 565f7a7
   "id": "ead63ca9",
=======
   "id": "28343bc3",
>>>>>>> e08844e1a91b8e98d8bdd4d0244954bda0b7215b
   "metadata": {},
   "outputs": [],
   "source": [
    "plotMoranMC(sfe, \"Meox1\")"
   ]
  },
  {
   "cell_type": "markdown",
<<<<<<< HEAD
<<<<<<< HEAD
   "id": "27dee5e7",
||||||| d29fab7
   "id": "082c9e36",
=======
   "id": "5c0cbc9f",
>>>>>>> documentation-devel
||||||| 565f7a7
   "id": "27dee5e7",
=======
   "id": "960cb28f",
>>>>>>> e08844e1a91b8e98d8bdd4d0244954bda0b7215b
   "metadata": {
    "lines_to_next_cell": 0
   },
   "source": [
    "The vertical line represents the observed value of Moran's I and the density represents Moran's I computed from the permuted data. These simulations suggest that the spatial autocorrelation for this feature is significant. \n",
    "\n",
    "The function can also be used to plot the `geary.mc` results. \n",
    "\n",
    "Now, we might ask: which genes display the most spatial autocorrelation? "
   ]
  },
  {
   "cell_type": "code",
   "execution_count": null,
<<<<<<< HEAD
<<<<<<< HEAD
   "id": "9472f5fd",
||||||| d29fab7
   "id": "662ba8c2",
=======
   "id": "00ac47f1",
>>>>>>> documentation-devel
||||||| 565f7a7
   "id": "9472f5fd",
=======
   "id": "38427c46",
>>>>>>> e08844e1a91b8e98d8bdd4d0244954bda0b7215b
   "metadata": {
    "fig.height": 8,
    "fig.width": 8
   },
   "outputs": [],
   "source": [
    "top_moran <- rownames(sfe)[order(-rowData(sfe)$moran.mc_statistic_sample01)[1:4]]\n",
    "\n",
    "plotSpatialFeature(sfe, top_moran, colGeometryName = \"seg_coords\")"
   ]
  },
  {
   "cell_type": "markdown",
<<<<<<< HEAD
<<<<<<< HEAD
   "id": "8d55fbd6",
||||||| d29fab7
   "id": "df14d331",
=======
   "id": "f7d72bf3",
>>>>>>> documentation-devel
||||||| 565f7a7
   "id": "8d55fbd6",
=======
   "id": "c61814cc",
>>>>>>> e08844e1a91b8e98d8bdd4d0244954bda0b7215b
   "metadata": {
    "lines_to_next_cell": 0
   },
   "source": [
    "It appears that the genes with the highest spatial autocorrelation seem to have obvious expression patterns in the tissue. \n",
    "\n",
    "It would be interesting to see if these genes are also differentially expressed in the clusters above. Non-spatial differential gene expression can be interrogated using the `findMarkers()` function implemented in the `scran` package and more complex methods for identifying spatially variable genes are actively being developed. \n",
    "\n",
    "These analyses bring up interesting considerations. For one, it is unclear whether normalization scheme employed here effectively removes FOV batch effects. That said, there may be times where FOV differences are expected and represent biological differences, for example in the context of a tumor sample. It remains to be seen what normalization methods will perform best in these cases, and this is represents an area for research.\n",
    "\n",
    "# Session Info"
   ]
  },
  {
   "cell_type": "code",
   "execution_count": null,
<<<<<<< HEAD
<<<<<<< HEAD
   "id": "dcee9c2e",
||||||| d29fab7
   "id": "6dd3ebc8",
=======
   "id": "6d2fafed",
>>>>>>> documentation-devel
||||||| 565f7a7
   "id": "dcee9c2e",
=======
   "id": "a721e12b",
>>>>>>> e08844e1a91b8e98d8bdd4d0244954bda0b7215b
   "metadata": {},
   "outputs": [],
   "source": [
    "sessionInfo()"
   ]
  },
  {
   "cell_type": "markdown",
<<<<<<< HEAD
<<<<<<< HEAD
   "id": "0a85437e",
||||||| d29fab7
   "id": "c95ba33b",
=======
   "id": "4ef9f41d",
>>>>>>> documentation-devel
||||||| 565f7a7
   "id": "0a85437e",
=======
   "id": "e744c24e",
>>>>>>> e08844e1a91b8e98d8bdd4d0244954bda0b7215b
   "metadata": {},
   "source": [
    "# References"
   ]
  }
 ],
 "metadata": {
  "kernelspec": {
   "display_name": "R",
   "language": "R",
   "name": "ir"
  }
 },
 "nbformat": 4,
 "nbformat_minor": 5
}
