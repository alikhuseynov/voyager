{
 "cells": [
  {
   "cell_type": "raw",
<<<<<<< HEAD
<<<<<<< HEAD
<<<<<<< HEAD
<<<<<<< HEAD
<<<<<<< HEAD
   "id": "4a9dea0a",
||||||| 11b9cb7
   "id": "2c73b61d",
=======
   "id": "3ad917ef",
>>>>>>> documentation-devel
||||||| 614e9b1
   "id": "3ad917ef",
=======
   "id": "48e7fa75",
>>>>>>> documentation-devel
||||||| 856b4c0
<<<<<<< HEAD
   "id": "4a9dea0a",
||||||| 11b9cb7
   "id": "2c73b61d",
=======
   "id": "3ad917ef",
>>>>>>> documentation-devel
=======
   "id": "d5eac829",
>>>>>>> 552590ea8fad969b67afdba27558a1e6cb21016e
||||||| 452c944
   "id": "48e7fa75",
=======
   "id": "2829ea5d",
>>>>>>> documentation-devel
||||||| 4da3324
<<<<<<< HEAD
<<<<<<< HEAD
<<<<<<< HEAD
   "id": "4a9dea0a",
||||||| 11b9cb7
   "id": "2c73b61d",
=======
   "id": "3ad917ef",
>>>>>>> documentation-devel
||||||| 614e9b1
   "id": "3ad917ef",
=======
   "id": "48e7fa75",
>>>>>>> documentation-devel
||||||| 856b4c0
<<<<<<< HEAD
   "id": "4a9dea0a",
||||||| 11b9cb7
   "id": "2c73b61d",
=======
   "id": "3ad917ef",
>>>>>>> documentation-devel
=======
   "id": "d5eac829",
>>>>>>> 552590ea8fad969b67afdba27558a1e6cb21016e
=======
   "id": "44b22943",
>>>>>>> b6e07d13baac92b2c1c9b43f8e4113ffa87bf495
   "metadata": {},
   "source": [
    "---\n",
    "title: \"seqFISH exploratory data analysis\"\n",
    "author: \"Kayla Jackson\"\n",
    "date: \"`r Sys.Date()`\"\n",
    "output: \n",
    "  html_document:\n",
    "  toc: true\n",
    "  toc_float:\n",
    "    collapsed: false\n",
    "  toc_depth: 3\n",
    "bibliography: ref.bib\n",
    "vignette: >\n",
    "  %\\VignetteIndexEntry{seqfish_basic}\n",
    "  %\\VignetteEngine{knitr::rmarkdown}\n",
    "  %\\VignetteEncoding{UTF-8}\n",
    "---"
   ]
  },
  {
   "cell_type": "code",
   "execution_count": null,
<<<<<<< HEAD
<<<<<<< HEAD
<<<<<<< HEAD
<<<<<<< HEAD
<<<<<<< HEAD
   "id": "edf01b0b",
||||||| 11b9cb7
   "id": "49a4d136",
=======
   "id": "e8771bda",
>>>>>>> documentation-devel
||||||| 614e9b1
   "id": "e8771bda",
=======
   "id": "c540a7a8",
>>>>>>> documentation-devel
||||||| 856b4c0
<<<<<<< HEAD
   "id": "edf01b0b",
||||||| 11b9cb7
   "id": "49a4d136",
=======
   "id": "e8771bda",
>>>>>>> documentation-devel
=======
   "id": "1803d291",
>>>>>>> 552590ea8fad969b67afdba27558a1e6cb21016e
||||||| 452c944
   "id": "c540a7a8",
=======
   "id": "b80ffa1e",
>>>>>>> documentation-devel
||||||| 4da3324
<<<<<<< HEAD
<<<<<<< HEAD
<<<<<<< HEAD
   "id": "edf01b0b",
||||||| 11b9cb7
   "id": "49a4d136",
=======
   "id": "e8771bda",
>>>>>>> documentation-devel
||||||| 614e9b1
   "id": "e8771bda",
=======
   "id": "c540a7a8",
>>>>>>> documentation-devel
||||||| 856b4c0
<<<<<<< HEAD
   "id": "edf01b0b",
||||||| 11b9cb7
   "id": "49a4d136",
=======
   "id": "e8771bda",
>>>>>>> documentation-devel
=======
   "id": "1803d291",
>>>>>>> 552590ea8fad969b67afdba27558a1e6cb21016e
=======
   "id": "f54b87c5",
>>>>>>> b6e07d13baac92b2c1c9b43f8e4113ffa87bf495
   "metadata": {
    "tags": [
     "remove_cell"
    ]
   },
   "outputs": [],
   "source": [
    "knitr::opts_chunk$set(\n",
    "  collapse = TRUE,\n",
    "  comment = \"#>\", fig.align = \"center\"\n",
    ")"
   ]
  },
  {
   "cell_type": "code",
   "execution_count": null,
<<<<<<< HEAD
<<<<<<< HEAD
<<<<<<< HEAD
<<<<<<< HEAD
<<<<<<< HEAD
   "id": "f89ae461",
||||||| 11b9cb7
   "id": "d29e5aaa",
=======
   "id": "44365b04",
>>>>>>> documentation-devel
||||||| 614e9b1
   "id": "44365b04",
=======
   "id": "abee00dc",
>>>>>>> documentation-devel
||||||| 856b4c0
<<<<<<< HEAD
   "id": "f89ae461",
||||||| 11b9cb7
   "id": "d29e5aaa",
=======
   "id": "44365b04",
>>>>>>> documentation-devel
=======
   "id": "40dc5069",
>>>>>>> 552590ea8fad969b67afdba27558a1e6cb21016e
||||||| 452c944
   "id": "abee00dc",
=======
   "id": "345f9905",
>>>>>>> documentation-devel
||||||| 4da3324
<<<<<<< HEAD
<<<<<<< HEAD
<<<<<<< HEAD
   "id": "f89ae461",
||||||| 11b9cb7
   "id": "d29e5aaa",
=======
   "id": "44365b04",
>>>>>>> documentation-devel
||||||| 614e9b1
   "id": "44365b04",
=======
   "id": "abee00dc",
>>>>>>> documentation-devel
||||||| 856b4c0
<<<<<<< HEAD
   "id": "f89ae461",
||||||| 11b9cb7
   "id": "d29e5aaa",
=======
   "id": "44365b04",
>>>>>>> documentation-devel
=======
   "id": "40dc5069",
>>>>>>> 552590ea8fad969b67afdba27558a1e6cb21016e
=======
   "id": "0a5725f3",
>>>>>>> b6e07d13baac92b2c1c9b43f8e4113ffa87bf495
   "metadata": {
    "eval": false,
    "tags": [
     "remove_cell"
    ]
   },
   "outputs": [],
   "source": [
    "# Install Google Colab dependencies\n",
    "# Note: this can take 30+ minutes (many of the dependencies include C++ code, which needs to be compiled)\n",
    "\n",
    "# First install `sf`, `ragg` and `textshaping` and their system dependencies:\n",
    "system(\"apt-get -y update && apt-get install -y  libudunits2-dev libgdal-dev libgeos-dev libproj-dev libharfbuzz-dev libfribidi-dev\")\n",
    "install.packages(\"sf\")\n",
    "install.packages(\"textshaping\")\n",
    "install.packages(\"ragg\")\n",
    "\n",
    "# Install system dependencies of some other R packages that Voyager either imports or suggests:\n",
    "system(\"apt-get install -y libfribidi-dev libcairo2-dev libmagick++-dev\")\n",
    "\n",
    "# Install Voyager from Bioconductor:\n",
    "install.packages(\"BiocManager\")\n",
    "BiocManager::install(version = \"3.17\", ask = FALSE, update = FALSE, Ncpus = 2)\n",
    "BiocManager::install(\"scater\")\n",
    "system.time(\n",
    "  BiocManager::install(\"Voyager\", dependencies = TRUE, Ncpus = 2, update = FALSE)\n",
    ")\n",
    "\n",
    "# Install additional dependencies for this vignette\n",
    "BiocManager::install(\"batchelor\")\n",
    "BiocManager::install(\"fossil\")\n",
    "\n",
    "packageVersion(\"Voyager\")"
   ]
  },
  {
   "cell_type": "markdown",
<<<<<<< HEAD
<<<<<<< HEAD
<<<<<<< HEAD
<<<<<<< HEAD
<<<<<<< HEAD
   "id": "c266bb2d",
||||||| 11b9cb7
   "id": "1165d5ea",
=======
   "id": "a7e5a053",
>>>>>>> documentation-devel
||||||| 614e9b1
   "id": "a7e5a053",
=======
   "id": "16bee1df",
>>>>>>> documentation-devel
||||||| 856b4c0
<<<<<<< HEAD
   "id": "c266bb2d",
||||||| 11b9cb7
   "id": "1165d5ea",
=======
   "id": "a7e5a053",
>>>>>>> documentation-devel
=======
   "id": "1dab8ca0",
>>>>>>> 552590ea8fad969b67afdba27558a1e6cb21016e
||||||| 452c944
   "id": "16bee1df",
=======
   "id": "b6b3837d",
>>>>>>> documentation-devel
||||||| 4da3324
<<<<<<< HEAD
<<<<<<< HEAD
<<<<<<< HEAD
   "id": "c266bb2d",
||||||| 11b9cb7
   "id": "1165d5ea",
=======
   "id": "a7e5a053",
>>>>>>> documentation-devel
||||||| 614e9b1
   "id": "a7e5a053",
=======
   "id": "16bee1df",
>>>>>>> documentation-devel
||||||| 856b4c0
<<<<<<< HEAD
   "id": "c266bb2d",
||||||| 11b9cb7
   "id": "1165d5ea",
=======
   "id": "a7e5a053",
>>>>>>> documentation-devel
=======
   "id": "1dab8ca0",
>>>>>>> 552590ea8fad969b67afdba27558a1e6cb21016e
=======
   "id": "e925662b",
>>>>>>> b6e07d13baac92b2c1c9b43f8e4113ffa87bf495
   "metadata": {
    "lines_to_next_cell": 0
   },
   "source": [
    "# Introduction\n",
    "\n",
    "# Dataset\n",
    "The data used in this vignette are described in [Integration of spatial and single-cell transcriptomic data elucidates mouse organogenesis](https://doi.org/10.1038/s41587-021-01006-2). Briefly, seqFISH was use to profile 351 genes in several mouse embryos at the 8-12 somite stage (ss). We will focus on a single biological replicate, embryo 3. The raw and processed counts and corresponding metadata are available to download from the [Marioni lab](https://content.cruk.cam.ac.uk/jmlab/SpatialMouseAtlas2020/). Expression matrices, segmentation data, and segmented cell vertices are provided as R objects that can be readily imported into an R environment. The data relevant to this vignette have been converted to a `SFE` object and are available to download [here](https://caltech.box.com/public/static/ulrqr1gk7oh21h9ejgua1xajs6dsbvrj) from Box.  \n",
    "\n",
    "The data have been added to the `SFEData` package on Bioconductor and will be available in the 3.17 release. \n",
    "\n",
    "We will begin by downloading the data and loading it in to R. "
   ]
  },
  {
   "cell_type": "code",
   "execution_count": null,
<<<<<<< HEAD
<<<<<<< HEAD
<<<<<<< HEAD
<<<<<<< HEAD
<<<<<<< HEAD
   "id": "ee1b9ece",
||||||| 11b9cb7
   "id": "9ae6a487",
=======
   "id": "de543ad2",
>>>>>>> documentation-devel
||||||| 614e9b1
   "id": "de543ad2",
=======
   "id": "c86ccaeb",
>>>>>>> documentation-devel
||||||| 856b4c0
<<<<<<< HEAD
   "id": "ee1b9ece",
||||||| 11b9cb7
   "id": "9ae6a487",
=======
   "id": "de543ad2",
>>>>>>> documentation-devel
=======
   "id": "ae799363",
>>>>>>> 552590ea8fad969b67afdba27558a1e6cb21016e
||||||| 452c944
   "id": "c86ccaeb",
=======
   "id": "a3390f33",
>>>>>>> documentation-devel
||||||| 4da3324
<<<<<<< HEAD
<<<<<<< HEAD
<<<<<<< HEAD
   "id": "ee1b9ece",
||||||| 11b9cb7
   "id": "9ae6a487",
=======
   "id": "de543ad2",
>>>>>>> documentation-devel
||||||| 614e9b1
   "id": "de543ad2",
=======
   "id": "c86ccaeb",
>>>>>>> documentation-devel
||||||| 856b4c0
<<<<<<< HEAD
   "id": "ee1b9ece",
||||||| 11b9cb7
   "id": "9ae6a487",
=======
   "id": "de543ad2",
>>>>>>> documentation-devel
=======
   "id": "ae799363",
>>>>>>> 552590ea8fad969b67afdba27558a1e6cb21016e
=======
   "id": "dcb4f650",
>>>>>>> b6e07d13baac92b2c1c9b43f8e4113ffa87bf495
   "metadata": {
    "message": false,
    "name": "setup"
   },
   "outputs": [],
   "source": [
    "library(Voyager)\n",
    "library(SFEData)\n",
    "library(SingleCellExperiment)\n",
    "library(SpatialExperiment)\n",
    "library(SpatialFeatureExperiment)\n",
    "library(batchelor)\n",
    "library(scater)\n",
    "library(scran)\n",
    "library(bluster)\n",
    "library(purrr)\n",
    "library(tidyr)\n",
    "library(dplyr)\n",
    "library(fossil)\n",
    "library(ggplot2)\n",
    "library(patchwork)\n",
    "library(spdep)\n",
    "library(BiocParallel)\n",
    "\n",
    "theme_set(theme_bw())"
   ]
  },
  {
   "cell_type": "code",
   "execution_count": null,
<<<<<<< HEAD
<<<<<<< HEAD
<<<<<<< HEAD
<<<<<<< HEAD
<<<<<<< HEAD
   "id": "c3fc73a2",
||||||| 11b9cb7
   "id": "e215e945",
=======
   "id": "42cb8771",
>>>>>>> documentation-devel
||||||| 614e9b1
   "id": "42cb8771",
=======
   "id": "0197a43f",
>>>>>>> documentation-devel
||||||| 856b4c0
<<<<<<< HEAD
   "id": "c3fc73a2",
||||||| 11b9cb7
   "id": "e215e945",
=======
   "id": "42cb8771",
>>>>>>> documentation-devel
=======
   "id": "21e68cf1",
>>>>>>> 552590ea8fad969b67afdba27558a1e6cb21016e
||||||| 452c944
   "id": "0197a43f",
=======
   "id": "c537bc30",
>>>>>>> documentation-devel
||||||| 4da3324
<<<<<<< HEAD
<<<<<<< HEAD
<<<<<<< HEAD
   "id": "c3fc73a2",
||||||| 11b9cb7
   "id": "e215e945",
=======
   "id": "42cb8771",
>>>>>>> documentation-devel
||||||| 614e9b1
   "id": "42cb8771",
=======
   "id": "0197a43f",
>>>>>>> documentation-devel
||||||| 856b4c0
<<<<<<< HEAD
   "id": "c3fc73a2",
||||||| 11b9cb7
   "id": "e215e945",
=======
   "id": "42cb8771",
>>>>>>> documentation-devel
=======
   "id": "21e68cf1",
>>>>>>> 552590ea8fad969b67afdba27558a1e6cb21016e
=======
   "id": "671747ed",
>>>>>>> b6e07d13baac92b2c1c9b43f8e4113ffa87bf495
   "metadata": {},
   "outputs": [],
   "source": [
    "# Only Bioc 3.17 and above\n",
    "sfe <- LohoffGastrulationData()"
   ]
  },
  {
   "cell_type": "markdown",
<<<<<<< HEAD
<<<<<<< HEAD
<<<<<<< HEAD
<<<<<<< HEAD
<<<<<<< HEAD
   "id": "94bf29aa",
||||||| 11b9cb7
   "id": "a32ca96b",
=======
   "id": "3a1eafad",
>>>>>>> documentation-devel
||||||| 614e9b1
   "id": "3a1eafad",
=======
   "id": "f2e03020",
>>>>>>> documentation-devel
||||||| 856b4c0
<<<<<<< HEAD
   "id": "94bf29aa",
||||||| 11b9cb7
   "id": "a32ca96b",
=======
   "id": "3a1eafad",
>>>>>>> documentation-devel
=======
   "id": "df6088a6",
>>>>>>> 552590ea8fad969b67afdba27558a1e6cb21016e
||||||| 452c944
   "id": "f2e03020",
=======
   "id": "f1e91c54",
>>>>>>> documentation-devel
||||||| 4da3324
<<<<<<< HEAD
<<<<<<< HEAD
<<<<<<< HEAD
   "id": "94bf29aa",
||||||| 11b9cb7
   "id": "a32ca96b",
=======
   "id": "3a1eafad",
>>>>>>> documentation-devel
||||||| 614e9b1
   "id": "3a1eafad",
=======
   "id": "f2e03020",
>>>>>>> documentation-devel
||||||| 856b4c0
<<<<<<< HEAD
   "id": "94bf29aa",
||||||| 11b9cb7
   "id": "a32ca96b",
=======
   "id": "3a1eafad",
>>>>>>> documentation-devel
=======
   "id": "df6088a6",
>>>>>>> 552590ea8fad969b67afdba27558a1e6cb21016e
=======
   "id": "75974dd2",
>>>>>>> b6e07d13baac92b2c1c9b43f8e4113ffa87bf495
   "metadata": {
    "lines_to_next_cell": 0
   },
   "source": [
    "The rows in the count matrix correspond to the 351 barcoded genes measured by seqFISH. Additionally, the authors provide some metadata, including the field of view and z-slice for each cell. We will filter the count matrix and metadata to include only  cells from a single z-slice. "
   ]
  },
  {
   "cell_type": "code",
   "execution_count": null,
<<<<<<< HEAD
<<<<<<< HEAD
<<<<<<< HEAD
<<<<<<< HEAD
<<<<<<< HEAD
   "id": "01733c1c",
||||||| 11b9cb7
   "id": "48cae8f2",
=======
   "id": "8f3a03dc",
>>>>>>> documentation-devel
||||||| 614e9b1
   "id": "8f3a03dc",
=======
   "id": "1e704518",
>>>>>>> documentation-devel
||||||| 856b4c0
<<<<<<< HEAD
   "id": "01733c1c",
||||||| 11b9cb7
   "id": "48cae8f2",
=======
   "id": "8f3a03dc",
>>>>>>> documentation-devel
=======
   "id": "20df28b6",
>>>>>>> 552590ea8fad969b67afdba27558a1e6cb21016e
||||||| 452c944
   "id": "1e704518",
=======
   "id": "bb6bcac6",
>>>>>>> documentation-devel
||||||| 4da3324
<<<<<<< HEAD
<<<<<<< HEAD
<<<<<<< HEAD
   "id": "01733c1c",
||||||| 11b9cb7
   "id": "48cae8f2",
=======
   "id": "8f3a03dc",
>>>>>>> documentation-devel
||||||| 614e9b1
   "id": "8f3a03dc",
=======
   "id": "1e704518",
>>>>>>> documentation-devel
||||||| 856b4c0
<<<<<<< HEAD
   "id": "01733c1c",
||||||| 11b9cb7
   "id": "48cae8f2",
=======
   "id": "8f3a03dc",
>>>>>>> documentation-devel
=======
   "id": "20df28b6",
>>>>>>> 552590ea8fad969b67afdba27558a1e6cb21016e
=======
   "id": "b83a941e",
>>>>>>> b6e07d13baac92b2c1c9b43f8e4113ffa87bf495
   "metadata": {},
   "outputs": [],
   "source": [
    "names(colData(sfe))"
   ]
  },
  {
   "cell_type": "code",
   "execution_count": null,
<<<<<<< HEAD
<<<<<<< HEAD
<<<<<<< HEAD
<<<<<<< HEAD
<<<<<<< HEAD
   "id": "333f24e4",
||||||| 11b9cb7
   "id": "16e1065c",
=======
   "id": "377dfbbe",
>>>>>>> documentation-devel
||||||| 614e9b1
   "id": "377dfbbe",
=======
   "id": "85063bce",
>>>>>>> documentation-devel
||||||| 856b4c0
<<<<<<< HEAD
   "id": "333f24e4",
||||||| 11b9cb7
   "id": "16e1065c",
=======
   "id": "377dfbbe",
>>>>>>> documentation-devel
=======
   "id": "2d3de2de",
>>>>>>> 552590ea8fad969b67afdba27558a1e6cb21016e
||||||| 452c944
   "id": "85063bce",
=======
   "id": "be3af98b",
>>>>>>> documentation-devel
||||||| 4da3324
<<<<<<< HEAD
<<<<<<< HEAD
<<<<<<< HEAD
   "id": "333f24e4",
||||||| 11b9cb7
   "id": "16e1065c",
=======
   "id": "377dfbbe",
>>>>>>> documentation-devel
||||||| 614e9b1
   "id": "377dfbbe",
=======
   "id": "85063bce",
>>>>>>> documentation-devel
||||||| 856b4c0
<<<<<<< HEAD
   "id": "333f24e4",
||||||| 11b9cb7
   "id": "16e1065c",
=======
   "id": "377dfbbe",
>>>>>>> documentation-devel
=======
   "id": "2d3de2de",
>>>>>>> 552590ea8fad969b67afdba27558a1e6cb21016e
=======
   "id": "ac84b37f",
>>>>>>> b6e07d13baac92b2c1c9b43f8e4113ffa87bf495
   "metadata": {},
   "outputs": [],
   "source": [
    "mask <- colData(sfe)$z == 2\n",
    "sfe <- sfe[,mask]"
   ]
  },
  {
   "cell_type": "markdown",
<<<<<<< HEAD
<<<<<<< HEAD
<<<<<<< HEAD
<<<<<<< HEAD
<<<<<<< HEAD
   "id": "5e043be3",
||||||| 11b9cb7
   "id": "56238e3b",
=======
   "id": "9b1bc50c",
>>>>>>> documentation-devel
||||||| 614e9b1
   "id": "9b1bc50c",
=======
   "id": "86abc05c",
>>>>>>> documentation-devel
||||||| 856b4c0
<<<<<<< HEAD
   "id": "5e043be3",
||||||| 11b9cb7
   "id": "56238e3b",
=======
   "id": "9b1bc50c",
>>>>>>> documentation-devel
=======
   "id": "4ef0528f",
>>>>>>> 552590ea8fad969b67afdba27558a1e6cb21016e
||||||| 452c944
   "id": "86abc05c",
=======
   "id": "fc8f880b",
>>>>>>> documentation-devel
||||||| 4da3324
<<<<<<< HEAD
<<<<<<< HEAD
<<<<<<< HEAD
   "id": "5e043be3",
||||||| 11b9cb7
   "id": "56238e3b",
=======
   "id": "9b1bc50c",
>>>>>>> documentation-devel
||||||| 614e9b1
   "id": "9b1bc50c",
=======
   "id": "86abc05c",
>>>>>>> documentation-devel
||||||| 856b4c0
<<<<<<< HEAD
   "id": "5e043be3",
||||||| 11b9cb7
   "id": "56238e3b",
=======
   "id": "9b1bc50c",
>>>>>>> documentation-devel
=======
   "id": "4ef0528f",
>>>>>>> 552590ea8fad969b67afdba27558a1e6cb21016e
=======
   "id": "59987e31",
>>>>>>> b6e07d13baac92b2c1c9b43f8e4113ffa87bf495
   "metadata": {
    "lines_to_next_cell": 0
   },
   "source": [
    "# Quality control \n",
    "\n",
    "We will begin quality control (QC) of the cells by computing metrics that are common in single-cell analysis and store them in the `colData` field of the SFE object. Below, we compute the number of counts per cell. We will also compute the average and display it on the violin plot. "
   ]
  },
  {
   "cell_type": "code",
   "execution_count": null,
<<<<<<< HEAD
<<<<<<< HEAD
<<<<<<< HEAD
<<<<<<< HEAD
<<<<<<< HEAD
   "id": "507b6aea",
||||||| 11b9cb7
   "id": "188669e2",
=======
   "id": "24f623f4",
>>>>>>> documentation-devel
||||||| 614e9b1
   "id": "24f623f4",
=======
   "id": "00b4d7e9",
>>>>>>> documentation-devel
||||||| 856b4c0
<<<<<<< HEAD
   "id": "507b6aea",
||||||| 11b9cb7
   "id": "188669e2",
=======
   "id": "24f623f4",
>>>>>>> documentation-devel
=======
   "id": "42178aba",
>>>>>>> 552590ea8fad969b67afdba27558a1e6cb21016e
||||||| 452c944
   "id": "00b4d7e9",
=======
   "id": "314f47cc",
>>>>>>> documentation-devel
||||||| 4da3324
<<<<<<< HEAD
<<<<<<< HEAD
<<<<<<< HEAD
   "id": "507b6aea",
||||||| 11b9cb7
   "id": "188669e2",
=======
   "id": "24f623f4",
>>>>>>> documentation-devel
||||||| 614e9b1
   "id": "24f623f4",
=======
   "id": "00b4d7e9",
>>>>>>> documentation-devel
||||||| 856b4c0
<<<<<<< HEAD
   "id": "507b6aea",
||||||| 11b9cb7
   "id": "188669e2",
=======
   "id": "24f623f4",
>>>>>>> documentation-devel
=======
   "id": "42178aba",
>>>>>>> 552590ea8fad969b67afdba27558a1e6cb21016e
=======
   "id": "71a3b408",
>>>>>>> b6e07d13baac92b2c1c9b43f8e4113ffa87bf495
   "metadata": {},
   "outputs": [],
   "source": [
    "colData(sfe)$nCounts <- colSums(counts(sfe))\n",
    "avg <- mean(colData(sfe)$nCounts)\n",
    "\n",
    "violin <- plotColData(sfe, \"nCounts\") +\n",
    "    geom_hline(yintercept = avg, color='red') +\n",
    "    theme(legend.position = \"top\") \n",
    "\n",
    "spatial <- plotSpatialFeature(sfe, \"nCounts\", colGeometryName = \"seg_coords\")\n",
    "\n",
    "violin + spatial"
   ]
  },
  {
   "cell_type": "markdown",
<<<<<<< HEAD
<<<<<<< HEAD
<<<<<<< HEAD
<<<<<<< HEAD
<<<<<<< HEAD
   "id": "aaf39146",
||||||| 11b9cb7
   "id": "7873b6fe",
=======
   "id": "18f7dfa6",
>>>>>>> documentation-devel
||||||| 614e9b1
   "id": "18f7dfa6",
=======
   "id": "4228e86c",
>>>>>>> documentation-devel
||||||| 856b4c0
<<<<<<< HEAD
   "id": "aaf39146",
||||||| 11b9cb7
   "id": "7873b6fe",
=======
   "id": "18f7dfa6",
>>>>>>> documentation-devel
=======
   "id": "1935a2de",
>>>>>>> 552590ea8fad969b67afdba27558a1e6cb21016e
||||||| 452c944
   "id": "4228e86c",
=======
   "id": "3366b093",
>>>>>>> documentation-devel
||||||| 4da3324
<<<<<<< HEAD
<<<<<<< HEAD
<<<<<<< HEAD
   "id": "aaf39146",
||||||| 11b9cb7
   "id": "7873b6fe",
=======
   "id": "18f7dfa6",
>>>>>>> documentation-devel
||||||| 614e9b1
   "id": "18f7dfa6",
=======
   "id": "4228e86c",
>>>>>>> documentation-devel
||||||| 856b4c0
<<<<<<< HEAD
   "id": "aaf39146",
||||||| 11b9cb7
   "id": "7873b6fe",
=======
   "id": "18f7dfa6",
>>>>>>> documentation-devel
=======
   "id": "1935a2de",
>>>>>>> 552590ea8fad969b67afdba27558a1e6cb21016e
=======
   "id": "8d64c1dc",
>>>>>>> b6e07d13baac92b2c1c9b43f8e4113ffa87bf495
   "metadata": {
    "lines_to_next_cell": 0
   },
   "source": [
    "Notably, the cells in this dataset have fewer counts that would be expected in a single-cell sequencing experiment and the cells with higher counts seem to be dispersed throughout the tissue. Fewer counts are expected in seqFISH experiments where probing for highly expressed genes may lead to optical crowding over multiple imaging rounds.  \n",
    "\n",
    "Since the counts are collected from several fields of view, we will visualize the number of cells and total counts for each field separately. "
   ]
  },
  {
   "cell_type": "code",
   "execution_count": null,
<<<<<<< HEAD
<<<<<<< HEAD
<<<<<<< HEAD
<<<<<<< HEAD
<<<<<<< HEAD
   "id": "f0f2e639",
||||||| 11b9cb7
   "id": "8ca93b11",
=======
   "id": "1151eb0e",
>>>>>>> documentation-devel
||||||| 614e9b1
   "id": "1151eb0e",
=======
   "id": "13c03501",
>>>>>>> documentation-devel
||||||| 856b4c0
<<<<<<< HEAD
   "id": "f0f2e639",
||||||| 11b9cb7
   "id": "8ca93b11",
=======
   "id": "1151eb0e",
>>>>>>> documentation-devel
=======
   "id": "4719b78d",
>>>>>>> 552590ea8fad969b67afdba27558a1e6cb21016e
||||||| 452c944
   "id": "13c03501",
=======
   "id": "efe8d5cd",
>>>>>>> documentation-devel
||||||| 4da3324
<<<<<<< HEAD
<<<<<<< HEAD
<<<<<<< HEAD
   "id": "f0f2e639",
||||||| 11b9cb7
   "id": "8ca93b11",
=======
   "id": "1151eb0e",
>>>>>>> documentation-devel
||||||| 614e9b1
   "id": "1151eb0e",
=======
   "id": "13c03501",
>>>>>>> documentation-devel
||||||| 856b4c0
<<<<<<< HEAD
   "id": "f0f2e639",
||||||| 11b9cb7
   "id": "8ca93b11",
=======
   "id": "1151eb0e",
>>>>>>> documentation-devel
=======
   "id": "4719b78d",
>>>>>>> 552590ea8fad969b67afdba27558a1e6cb21016e
=======
   "id": "2663c335",
>>>>>>> b6e07d13baac92b2c1c9b43f8e4113ffa87bf495
   "metadata": {},
   "outputs": [],
   "source": [
    "pos <- colData(sfe)$pos\n",
    "counts_spl <- split.data.frame(t(counts(sfe)), pos)\n",
    "\n",
    "# nCounts per FOV\n",
    "df <- map_dfr(counts_spl, rowSums, .id='pos') |>\n",
    "    pivot_longer(cols=contains('embryo'), values_to = 'nCounts') |>\n",
    "    mutate(pos = factor(pos, levels = paste0(\"Pos\", seq_len(length(unique(pos)))-1))) |> \n",
    "    dplyr::filter(!is.na(nCounts))\n",
    "\n",
    "cells_fov <- colData(sfe) |> \n",
    "    as.data.frame() |> \n",
    "    mutate(pos = factor(pos, levels = paste0(\"Pos\", seq_len(length(unique(pos)))-1))) |> \n",
    "    ggplot(aes(pos,)) +\n",
    "    geom_bar() + \n",
    "    theme_minimal() + \n",
    "    labs(\n",
    "        x = \"\",\n",
    "        y = \"Number of cells\") + \n",
    "    theme(axis.text.x = element_text(angle = 90))\n",
    "\n",
    "counts_fov <- ggplot(df, aes(pos, nCounts)) +\n",
    "    geom_boxplot(outlier.size = 0.5) + \n",
    "    theme_minimal() + \n",
    "    labs(x = \"\", y = 'nCounts') + \n",
    "    theme(axis.text.x = element_text(angle = 90))\n",
    "\n",
    "cells_fov / counts_fov"
   ]
  },
  {
   "cell_type": "markdown",
<<<<<<< HEAD
<<<<<<< HEAD
<<<<<<< HEAD
<<<<<<< HEAD
<<<<<<< HEAD
   "id": "9b1b98db",
||||||| 11b9cb7
   "id": "62977921",
=======
   "id": "75c311cd",
>>>>>>> documentation-devel
||||||| 614e9b1
   "id": "75c311cd",
=======
   "id": "31fce50f",
>>>>>>> documentation-devel
||||||| 856b4c0
<<<<<<< HEAD
   "id": "9b1b98db",
||||||| 11b9cb7
   "id": "62977921",
=======
   "id": "75c311cd",
>>>>>>> documentation-devel
=======
   "id": "9f2b5458",
>>>>>>> 552590ea8fad969b67afdba27558a1e6cb21016e
||||||| 452c944
   "id": "31fce50f",
=======
   "id": "47c258dc",
>>>>>>> documentation-devel
||||||| 4da3324
<<<<<<< HEAD
<<<<<<< HEAD
<<<<<<< HEAD
   "id": "9b1b98db",
||||||| 11b9cb7
   "id": "62977921",
=======
   "id": "75c311cd",
>>>>>>> documentation-devel
||||||| 614e9b1
   "id": "75c311cd",
=======
   "id": "31fce50f",
>>>>>>> documentation-devel
||||||| 856b4c0
<<<<<<< HEAD
   "id": "9b1b98db",
||||||| 11b9cb7
   "id": "62977921",
=======
   "id": "75c311cd",
>>>>>>> documentation-devel
=======
   "id": "9f2b5458",
>>>>>>> 552590ea8fad969b67afdba27558a1e6cb21016e
=======
   "id": "3c6e2376",
>>>>>>> b6e07d13baac92b2c1c9b43f8e4113ffa87bf495
   "metadata": {},
   "source": [
    "There is some variability in the total number of counts in each field of view. It is not completely apparent what accounts for the low number of counts in some FOVs. For example, FOV 22 has the fewest number of cells, but comparably more counts are detected there than in regions with more cells (e.g. FOV 18). \n",
    "\n",
    "Next, will will compute the number of genes detected per cell, defined here as the number of genes with non-zero counts. We will again plot this metric for each FOV as is done above."
   ]
  },
  {
   "cell_type": "code",
   "execution_count": null,
<<<<<<< HEAD
<<<<<<< HEAD
<<<<<<< HEAD
<<<<<<< HEAD
<<<<<<< HEAD
   "id": "dba8b3a2",
||||||| 11b9cb7
   "id": "5bc4cf00",
=======
   "id": "981ffd69",
>>>>>>> documentation-devel
||||||| 614e9b1
   "id": "981ffd69",
=======
   "id": "ab29c4a0",
>>>>>>> documentation-devel
||||||| 856b4c0
<<<<<<< HEAD
   "id": "dba8b3a2",
||||||| 11b9cb7
   "id": "5bc4cf00",
=======
   "id": "981ffd69",
>>>>>>> documentation-devel
=======
   "id": "cd690576",
>>>>>>> 552590ea8fad969b67afdba27558a1e6cb21016e
||||||| 452c944
   "id": "ab29c4a0",
=======
   "id": "7829a457",
>>>>>>> documentation-devel
||||||| 4da3324
<<<<<<< HEAD
<<<<<<< HEAD
<<<<<<< HEAD
   "id": "dba8b3a2",
||||||| 11b9cb7
   "id": "5bc4cf00",
=======
   "id": "981ffd69",
>>>>>>> documentation-devel
||||||| 614e9b1
   "id": "981ffd69",
=======
   "id": "ab29c4a0",
>>>>>>> documentation-devel
||||||| 856b4c0
<<<<<<< HEAD
   "id": "dba8b3a2",
||||||| 11b9cb7
   "id": "5bc4cf00",
=======
   "id": "981ffd69",
>>>>>>> documentation-devel
=======
   "id": "cd690576",
>>>>>>> 552590ea8fad969b67afdba27558a1e6cb21016e
=======
   "id": "aaa11d3f",
>>>>>>> b6e07d13baac92b2c1c9b43f8e4113ffa87bf495
   "metadata": {},
   "outputs": [],
   "source": [
    "colData(sfe)$nGenes <- colSums(counts(sfe) > 0)\n",
    "\n",
    "avg <- mean(colData(sfe)$nGenes)\n",
    "\n",
    "violin <- plotColData(sfe, \"nGenes\") +\n",
    "    geom_hline(yintercept = avg, color='red') +\n",
    "    theme(legend.position = \"top\") \n",
    "\n",
    "spatial <- plotSpatialFeature(sfe, \"nGenes\", colGeometryName = \"seg_coords\")\n",
    "\n",
    "violin + spatial"
   ]
  },
  {
   "cell_type": "markdown",
<<<<<<< HEAD
<<<<<<< HEAD
<<<<<<< HEAD
<<<<<<< HEAD
<<<<<<< HEAD
   "id": "8ca33b8c",
||||||| 11b9cb7
   "id": "0a1ddb3e",
=======
   "id": "619e7a04",
>>>>>>> documentation-devel
||||||| 614e9b1
   "id": "619e7a04",
=======
   "id": "f1bedfa0",
>>>>>>> documentation-devel
||||||| 856b4c0
<<<<<<< HEAD
   "id": "8ca33b8c",
||||||| 11b9cb7
   "id": "0a1ddb3e",
=======
   "id": "619e7a04",
>>>>>>> documentation-devel
=======
   "id": "b12bc7cf",
>>>>>>> 552590ea8fad969b67afdba27558a1e6cb21016e
||||||| 452c944
   "id": "f1bedfa0",
=======
   "id": "c12ae619",
>>>>>>> documentation-devel
||||||| 4da3324
<<<<<<< HEAD
<<<<<<< HEAD
<<<<<<< HEAD
   "id": "8ca33b8c",
||||||| 11b9cb7
   "id": "0a1ddb3e",
=======
   "id": "619e7a04",
>>>>>>> documentation-devel
||||||| 614e9b1
   "id": "619e7a04",
=======
   "id": "f1bedfa0",
>>>>>>> documentation-devel
||||||| 856b4c0
<<<<<<< HEAD
   "id": "8ca33b8c",
||||||| 11b9cb7
   "id": "0a1ddb3e",
=======
   "id": "619e7a04",
>>>>>>> documentation-devel
=======
   "id": "b12bc7cf",
>>>>>>> 552590ea8fad969b67afdba27558a1e6cb21016e
=======
   "id": "be33b190",
>>>>>>> b6e07d13baac92b2c1c9b43f8e4113ffa87bf495
   "metadata": {
    "lines_to_next_cell": 0
   },
   "source": [
    "Many cells have fewer than 100 detected genes. This in part reflects that the panel of 351 probed genes was chosen to distinguish cell types at these developmental stages and that distinct cell types will likely express a small subset of the 351 genes. The authors also note that the gene panel consists of lowly expressed to moderately expressed genes. Taken together, these technical details can explain the relatively low number of counts and genes per cell. \n",
    "\n",
    "Here, we plot the number of genes detected per cell in each FOV. "
   ]
  },
  {
   "cell_type": "code",
   "execution_count": null,
<<<<<<< HEAD
<<<<<<< HEAD
<<<<<<< HEAD
<<<<<<< HEAD
<<<<<<< HEAD
   "id": "290033ab",
||||||| 11b9cb7
   "id": "0624dea8",
=======
   "id": "ea7ff669",
>>>>>>> documentation-devel
||||||| 614e9b1
   "id": "ea7ff669",
=======
   "id": "a6324273",
>>>>>>> documentation-devel
||||||| 856b4c0
<<<<<<< HEAD
   "id": "290033ab",
||||||| 11b9cb7
   "id": "0624dea8",
=======
   "id": "ea7ff669",
>>>>>>> documentation-devel
=======
   "id": "9e5a423f",
>>>>>>> 552590ea8fad969b67afdba27558a1e6cb21016e
||||||| 452c944
   "id": "a6324273",
=======
   "id": "f71d9ee7",
>>>>>>> documentation-devel
||||||| 4da3324
<<<<<<< HEAD
<<<<<<< HEAD
<<<<<<< HEAD
   "id": "290033ab",
||||||| 11b9cb7
   "id": "0624dea8",
=======
   "id": "ea7ff669",
>>>>>>> documentation-devel
||||||| 614e9b1
   "id": "ea7ff669",
=======
   "id": "a6324273",
>>>>>>> documentation-devel
||||||| 856b4c0
<<<<<<< HEAD
   "id": "290033ab",
||||||| 11b9cb7
   "id": "0624dea8",
=======
   "id": "ea7ff669",
>>>>>>> documentation-devel
=======
   "id": "9e5a423f",
>>>>>>> 552590ea8fad969b67afdba27558a1e6cb21016e
=======
   "id": "696c728e",
>>>>>>> b6e07d13baac92b2c1c9b43f8e4113ffa87bf495
   "metadata": {},
   "outputs": [],
   "source": [
    "df <- map_dfr(counts_spl, ~ rowSums(.x > 0), .id='pos') |>\n",
    "    pivot_longer(cols = contains('embryo'), values_to = 'nGenes') |>\n",
    "    mutate(pos = factor(pos, levels = paste0(\"Pos\", seq_len(length(unique(pos)))-1))) |> \n",
    "    filter(!is.na(nGenes)) |>\n",
    "    merge(df)\n",
    "\n",
    "genes_fov <- ggplot(df, aes(pos, nGenes)) +\n",
    "    geom_boxplot(outlier.size = 0.5) + \n",
    "    theme_bw() + \n",
    "    labs(x = \"\") + \n",
    "    theme(axis.text.x = element_text(angle = 90))\n",
    "\n",
    "genes_fov"
   ]
  },
  {
   "cell_type": "markdown",
<<<<<<< HEAD
<<<<<<< HEAD
<<<<<<< HEAD
<<<<<<< HEAD
<<<<<<< HEAD
   "id": "f5985a3f",
||||||| 11b9cb7
   "id": "107d7d3d",
=======
   "id": "8ed6f1e9",
>>>>>>> documentation-devel
||||||| 614e9b1
   "id": "8ed6f1e9",
=======
   "id": "b68e0fb9",
>>>>>>> documentation-devel
||||||| 856b4c0
<<<<<<< HEAD
   "id": "f5985a3f",
||||||| 11b9cb7
   "id": "107d7d3d",
=======
   "id": "8ed6f1e9",
>>>>>>> documentation-devel
=======
   "id": "643cf297",
>>>>>>> 552590ea8fad969b67afdba27558a1e6cb21016e
||||||| 452c944
   "id": "b68e0fb9",
=======
   "id": "3b41f1d6",
>>>>>>> documentation-devel
||||||| 4da3324
<<<<<<< HEAD
<<<<<<< HEAD
<<<<<<< HEAD
   "id": "f5985a3f",
||||||| 11b9cb7
   "id": "107d7d3d",
=======
   "id": "8ed6f1e9",
>>>>>>> documentation-devel
||||||| 614e9b1
   "id": "8ed6f1e9",
=======
   "id": "b68e0fb9",
>>>>>>> documentation-devel
||||||| 856b4c0
<<<<<<< HEAD
   "id": "f5985a3f",
||||||| 11b9cb7
   "id": "107d7d3d",
=======
   "id": "8ed6f1e9",
>>>>>>> documentation-devel
=======
   "id": "643cf297",
>>>>>>> 552590ea8fad969b67afdba27558a1e6cb21016e
=======
   "id": "e8029545",
>>>>>>> b6e07d13baac92b2c1c9b43f8e4113ffa87bf495
   "metadata": {},
   "source": [
    "This plot mirrors the plot above for total counts. No single FOV stands out as an obvious outlier. \n",
    "\n",
    "The authors have provided cell type assignments as metadata. We can assess whether the low quality cells tend to be located in a particular FOV. "
   ]
  },
  {
   "cell_type": "code",
   "execution_count": null,
<<<<<<< HEAD
<<<<<<< HEAD
<<<<<<< HEAD
<<<<<<< HEAD
<<<<<<< HEAD
   "id": "170d0d7e",
||||||| 11b9cb7
   "id": "eb4a6e07",
=======
   "id": "109b9799",
>>>>>>> documentation-devel
||||||| 614e9b1
   "id": "109b9799",
=======
   "id": "524a49d3",
>>>>>>> documentation-devel
||||||| 856b4c0
<<<<<<< HEAD
   "id": "170d0d7e",
||||||| 11b9cb7
   "id": "eb4a6e07",
=======
   "id": "109b9799",
>>>>>>> documentation-devel
=======
   "id": "5c8f631e",
>>>>>>> 552590ea8fad969b67afdba27558a1e6cb21016e
||||||| 452c944
   "id": "524a49d3",
=======
   "id": "82ba1a5f",
>>>>>>> documentation-devel
||||||| 4da3324
<<<<<<< HEAD
<<<<<<< HEAD
<<<<<<< HEAD
   "id": "170d0d7e",
||||||| 11b9cb7
   "id": "eb4a6e07",
=======
   "id": "109b9799",
>>>>>>> documentation-devel
||||||| 614e9b1
   "id": "109b9799",
=======
   "id": "524a49d3",
>>>>>>> documentation-devel
||||||| 856b4c0
<<<<<<< HEAD
   "id": "170d0d7e",
||||||| 11b9cb7
   "id": "eb4a6e07",
=======
   "id": "109b9799",
>>>>>>> documentation-devel
=======
   "id": "5c8f631e",
>>>>>>> 552590ea8fad969b67afdba27558a1e6cb21016e
=======
   "id": "dd41d271",
>>>>>>> b6e07d13baac92b2c1c9b43f8e4113ffa87bf495
   "metadata": {
    "lines_to_next_cell": 0
   },
   "outputs": [],
   "source": [
    "meta <- data.frame(colData(sfe)) \n",
    "\n",
    "meta <- meta |> \n",
    "    group_by(pos) |> \n",
    "    add_tally(name = \"nCells_FOV\") |> \n",
    "    filter(celltype_mapped_refined %in% \"Low quality\") |> \n",
    "    add_tally(name = \"nLQ_FOV\") |> \n",
    "    mutate(prop_lq = nLQ_FOV/nCells_FOV) |>\n",
    "    distinct(pos, prop_lq) |> \n",
    "    ungroup() |> \n",
    "    mutate(pos = factor(pos, levels = paste0(\"Pos\", seq_len(length(unique(pos)))-1)))\n",
    "\n",
    "prop_lq <- ggplot(meta, aes(pos, prop_lq)) + \n",
    "    geom_bar(stat = 'identity' ) + \n",
    "    theme(axis.text.x = element_text(angle = 90)) \n",
    "\n",
    "prop_lq"
   ]
  },
  {
   "cell_type": "markdown",
<<<<<<< HEAD
<<<<<<< HEAD
<<<<<<< HEAD
<<<<<<< HEAD
<<<<<<< HEAD
   "id": "d322a42f",
||||||| 11b9cb7
   "id": "89a310aa",
=======
   "id": "8eec00cf",
>>>>>>> documentation-devel
||||||| 614e9b1
   "id": "8eec00cf",
=======
   "id": "e9021a3d",
>>>>>>> documentation-devel
||||||| 856b4c0
<<<<<<< HEAD
   "id": "d322a42f",
||||||| 11b9cb7
   "id": "89a310aa",
=======
   "id": "8eec00cf",
>>>>>>> documentation-devel
=======
   "id": "02a7c73d",
>>>>>>> 552590ea8fad969b67afdba27558a1e6cb21016e
||||||| 452c944
   "id": "e9021a3d",
=======
   "id": "190c2cfb",
>>>>>>> documentation-devel
||||||| 4da3324
<<<<<<< HEAD
<<<<<<< HEAD
<<<<<<< HEAD
   "id": "d322a42f",
||||||| 11b9cb7
   "id": "89a310aa",
=======
   "id": "8eec00cf",
>>>>>>> documentation-devel
||||||| 614e9b1
   "id": "8eec00cf",
=======
   "id": "e9021a3d",
>>>>>>> documentation-devel
||||||| 856b4c0
<<<<<<< HEAD
   "id": "d322a42f",
||||||| 11b9cb7
   "id": "89a310aa",
=======
   "id": "8eec00cf",
>>>>>>> documentation-devel
=======
   "id": "02a7c73d",
>>>>>>> 552590ea8fad969b67afdba27558a1e6cb21016e
=======
   "id": "7284a9ec",
>>>>>>> b6e07d13baac92b2c1c9b43f8e4113ffa87bf495
   "metadata": {
    "lines_to_next_cell": 0
   },
   "source": [
    "It appears that FOV 26 and 31 have the largest fraction of low quality cells. Interestingly, these do not correspond to the FOVs with the largest number of cells overall. \n",
    "\n",
    "Here we plot nCounts vs. nGenes for each FOV. "
   ]
  },
  {
   "cell_type": "code",
   "execution_count": null,
<<<<<<< HEAD
<<<<<<< HEAD
<<<<<<< HEAD
<<<<<<< HEAD
<<<<<<< HEAD
   "id": "edf509e0",
||||||| 11b9cb7
   "id": "09af8961",
=======
   "id": "5817c735",
>>>>>>> documentation-devel
||||||| 614e9b1
   "id": "5817c735",
=======
   "id": "55ed3cfb",
>>>>>>> documentation-devel
||||||| 856b4c0
<<<<<<< HEAD
   "id": "edf509e0",
||||||| 11b9cb7
   "id": "09af8961",
=======
   "id": "5817c735",
>>>>>>> documentation-devel
=======
   "id": "7efe583c",
>>>>>>> 552590ea8fad969b67afdba27558a1e6cb21016e
||||||| 452c944
   "id": "55ed3cfb",
=======
   "id": "8ecf2c88",
>>>>>>> documentation-devel
||||||| 4da3324
<<<<<<< HEAD
<<<<<<< HEAD
<<<<<<< HEAD
   "id": "edf509e0",
||||||| 11b9cb7
   "id": "09af8961",
=======
   "id": "5817c735",
>>>>>>> documentation-devel
||||||| 614e9b1
   "id": "5817c735",
=======
   "id": "55ed3cfb",
>>>>>>> documentation-devel
||||||| 856b4c0
<<<<<<< HEAD
   "id": "edf509e0",
||||||| 11b9cb7
   "id": "09af8961",
=======
   "id": "5817c735",
>>>>>>> documentation-devel
=======
   "id": "7efe583c",
>>>>>>> 552590ea8fad969b67afdba27558a1e6cb21016e
=======
   "id": "51ee0ea5",
>>>>>>> b6e07d13baac92b2c1c9b43f8e4113ffa87bf495
   "metadata": {
    "fig.height": 6,
    "fig.width": 9
   },
   "outputs": [],
   "source": [
    "count_vs_genes_p <- ggplot(df, aes(nCounts, nGenes)) + \n",
    "  geom_point(\n",
    "    alpha = 0.5,\n",
    "    size = 1,\n",
    "    fill = \"white\"\n",
    "  ) +\n",
    "  facet_wrap(~ pos)\n",
    "\n",
    "count_vs_genes_p "
   ]
  },
  {
   "cell_type": "markdown",
<<<<<<< HEAD
<<<<<<< HEAD
<<<<<<< HEAD
<<<<<<< HEAD
<<<<<<< HEAD
   "id": "515b148e",
||||||| 11b9cb7
   "id": "571c460c",
=======
   "id": "5ae3a819",
>>>>>>> documentation-devel
||||||| 614e9b1
   "id": "5ae3a819",
=======
   "id": "3f376677",
>>>>>>> documentation-devel
||||||| 856b4c0
<<<<<<< HEAD
   "id": "515b148e",
||||||| 11b9cb7
   "id": "571c460c",
=======
   "id": "5ae3a819",
>>>>>>> documentation-devel
=======
   "id": "415dad15",
>>>>>>> 552590ea8fad969b67afdba27558a1e6cb21016e
||||||| 452c944
   "id": "3f376677",
=======
   "id": "b76bc90d",
>>>>>>> documentation-devel
||||||| 4da3324
<<<<<<< HEAD
<<<<<<< HEAD
<<<<<<< HEAD
   "id": "515b148e",
||||||| 11b9cb7
   "id": "571c460c",
=======
   "id": "5ae3a819",
>>>>>>> documentation-devel
||||||| 614e9b1
   "id": "5ae3a819",
=======
   "id": "3f376677",
>>>>>>> documentation-devel
||||||| 856b4c0
<<<<<<< HEAD
   "id": "515b148e",
||||||| 11b9cb7
   "id": "571c460c",
=======
   "id": "5ae3a819",
>>>>>>> documentation-devel
=======
   "id": "415dad15",
>>>>>>> 552590ea8fad969b67afdba27558a1e6cb21016e
=======
   "id": "064001c6",
>>>>>>> b6e07d13baac92b2c1c9b43f8e4113ffa87bf495
   "metadata": {
    "lines_to_next_cell": 0
   },
   "source": [
    "As in scRNA-seq, gene expression variance in seqFISH measurements is overdispersed compared to variance of counts that are Poisson distributed."
   ]
  },
  {
   "cell_type": "code",
   "execution_count": null,
<<<<<<< HEAD
<<<<<<< HEAD
<<<<<<< HEAD
<<<<<<< HEAD
<<<<<<< HEAD
   "id": "7f59b9f1",
||||||| 11b9cb7
   "id": "0b43b683",
=======
   "id": "a58c21bf",
>>>>>>> documentation-devel
||||||| 614e9b1
   "id": "a58c21bf",
=======
   "id": "94e0d08c",
>>>>>>> documentation-devel
||||||| 856b4c0
<<<<<<< HEAD
   "id": "7f59b9f1",
||||||| 11b9cb7
   "id": "0b43b683",
=======
   "id": "a58c21bf",
>>>>>>> documentation-devel
=======
   "id": "62fb02dd",
>>>>>>> 552590ea8fad969b67afdba27558a1e6cb21016e
||||||| 452c944
   "id": "94e0d08c",
=======
   "id": "8b069581",
>>>>>>> documentation-devel
||||||| 4da3324
<<<<<<< HEAD
<<<<<<< HEAD
<<<<<<< HEAD
   "id": "7f59b9f1",
||||||| 11b9cb7
   "id": "0b43b683",
=======
   "id": "a58c21bf",
>>>>>>> documentation-devel
||||||| 614e9b1
   "id": "a58c21bf",
=======
   "id": "94e0d08c",
>>>>>>> documentation-devel
||||||| 856b4c0
<<<<<<< HEAD
   "id": "7f59b9f1",
||||||| 11b9cb7
   "id": "0b43b683",
=======
   "id": "a58c21bf",
>>>>>>> documentation-devel
=======
   "id": "62fb02dd",
>>>>>>> 552590ea8fad969b67afdba27558a1e6cb21016e
=======
   "id": "5e66f2ec",
>>>>>>> b6e07d13baac92b2c1c9b43f8e4113ffa87bf495
   "metadata": {
    "lines_to_next_cell": 0
   },
   "outputs": [],
   "source": [
    "gene_meta <- map_dfr(counts_spl, colMeans, .id = 'pos') |> \n",
    "  pivot_longer(cols = -pos, names_to = 'gene', values_to = 'mean')\n",
    "\n",
    "gene_meta <- map_dfr(counts_spl, ~colVars(.x, useNames = TRUE), .id = 'pos') |> \n",
    "  pivot_longer(-pos, names_to = 'gene', values_to='variance') |> \n",
    "  full_join(gene_meta)"
   ]
  },
  {
   "cell_type": "markdown",
<<<<<<< HEAD
<<<<<<< HEAD
<<<<<<< HEAD
<<<<<<< HEAD
<<<<<<< HEAD
   "id": "d072e50f",
||||||| 11b9cb7
   "id": "379b2e56",
=======
   "id": "ed3df726",
>>>>>>> documentation-devel
||||||| 614e9b1
   "id": "ed3df726",
=======
   "id": "38b97984",
>>>>>>> documentation-devel
||||||| 856b4c0
<<<<<<< HEAD
   "id": "d072e50f",
||||||| 11b9cb7
   "id": "379b2e56",
=======
   "id": "ed3df726",
>>>>>>> documentation-devel
=======
   "id": "24c47fbb",
>>>>>>> 552590ea8fad969b67afdba27558a1e6cb21016e
||||||| 452c944
   "id": "38b97984",
=======
   "id": "e5f63a7c",
>>>>>>> documentation-devel
||||||| 4da3324
<<<<<<< HEAD
<<<<<<< HEAD
<<<<<<< HEAD
   "id": "d072e50f",
||||||| 11b9cb7
   "id": "379b2e56",
=======
   "id": "ed3df726",
>>>>>>> documentation-devel
||||||| 614e9b1
   "id": "ed3df726",
=======
   "id": "38b97984",
>>>>>>> documentation-devel
||||||| 856b4c0
<<<<<<< HEAD
   "id": "d072e50f",
||||||| 11b9cb7
   "id": "379b2e56",
=======
   "id": "ed3df726",
>>>>>>> documentation-devel
=======
   "id": "24c47fbb",
>>>>>>> 552590ea8fad969b67afdba27558a1e6cb21016e
=======
   "id": "fde527fb",
>>>>>>> b6e07d13baac92b2c1c9b43f8e4113ffa87bf495
   "metadata": {
    "lines_to_next_cell": 0
   },
   "source": [
    "To understand the mean-variance relationship, we compute the mean and variance for each gene among cells in tissue. As above, we will perform this calculation separately for each FOV"
   ]
  },
  {
   "cell_type": "code",
   "execution_count": null,
<<<<<<< HEAD
<<<<<<< HEAD
<<<<<<< HEAD
<<<<<<< HEAD
<<<<<<< HEAD
   "id": "cd710cf4",
||||||| 11b9cb7
   "id": "11e76c6a",
=======
   "id": "e07639a8",
>>>>>>> documentation-devel
||||||| 614e9b1
   "id": "e07639a8",
=======
   "id": "8c51286a",
>>>>>>> documentation-devel
||||||| 856b4c0
<<<<<<< HEAD
   "id": "cd710cf4",
||||||| 11b9cb7
   "id": "11e76c6a",
=======
   "id": "e07639a8",
>>>>>>> documentation-devel
=======
   "id": "ed08e9ad",
>>>>>>> 552590ea8fad969b67afdba27558a1e6cb21016e
||||||| 452c944
   "id": "8c51286a",
=======
   "id": "5b896d55",
>>>>>>> documentation-devel
||||||| 4da3324
<<<<<<< HEAD
<<<<<<< HEAD
<<<<<<< HEAD
   "id": "cd710cf4",
||||||| 11b9cb7
   "id": "11e76c6a",
=======
   "id": "e07639a8",
>>>>>>> documentation-devel
||||||| 614e9b1
   "id": "e07639a8",
=======
   "id": "8c51286a",
>>>>>>> documentation-devel
||||||| 856b4c0
<<<<<<< HEAD
   "id": "cd710cf4",
||||||| 11b9cb7
   "id": "11e76c6a",
=======
   "id": "e07639a8",
>>>>>>> documentation-devel
=======
   "id": "ed08e9ad",
>>>>>>> 552590ea8fad969b67afdba27558a1e6cb21016e
=======
   "id": "82f7a19c",
>>>>>>> b6e07d13baac92b2c1c9b43f8e4113ffa87bf495
   "metadata": {
    "fig.height": 6,
    "fig.width": 9
   },
   "outputs": [],
   "source": [
    "ggplot(gene_meta, aes(mean, variance)) + \n",
    "  geom_point(\n",
    "    alpha = 0.5,\n",
    "    size = 1,\n",
    "    fill = \"white\"\n",
    "  ) +\n",
    "  facet_wrap(~ pos) +\n",
    "  geom_abline(slope = 1, intercept = 0, color = \"red\") +\n",
    "  scale_x_log10() + scale_y_log10() +\n",
    "  annotation_logticks()"
   ]
  },
  {
   "cell_type": "markdown",
<<<<<<< HEAD
<<<<<<< HEAD
<<<<<<< HEAD
<<<<<<< HEAD
<<<<<<< HEAD
   "id": "25070859",
||||||| 11b9cb7
   "id": "bb9a8147",
=======
   "id": "a74b0031",
>>>>>>> documentation-devel
||||||| 614e9b1
   "id": "a74b0031",
=======
   "id": "c167b8ea",
>>>>>>> documentation-devel
||||||| 856b4c0
<<<<<<< HEAD
   "id": "25070859",
||||||| 11b9cb7
   "id": "bb9a8147",
=======
   "id": "a74b0031",
>>>>>>> documentation-devel
=======
   "id": "ab480bd4",
>>>>>>> 552590ea8fad969b67afdba27558a1e6cb21016e
||||||| 452c944
   "id": "c167b8ea",
=======
   "id": "2d3c2220",
>>>>>>> documentation-devel
||||||| 4da3324
<<<<<<< HEAD
<<<<<<< HEAD
<<<<<<< HEAD
   "id": "25070859",
||||||| 11b9cb7
   "id": "bb9a8147",
=======
   "id": "a74b0031",
>>>>>>> documentation-devel
||||||| 614e9b1
   "id": "a74b0031",
=======
   "id": "c167b8ea",
>>>>>>> documentation-devel
||||||| 856b4c0
<<<<<<< HEAD
   "id": "25070859",
||||||| 11b9cb7
   "id": "bb9a8147",
=======
   "id": "a74b0031",
>>>>>>> documentation-devel
=======
   "id": "ab480bd4",
>>>>>>> 552590ea8fad969b67afdba27558a1e6cb21016e
=======
   "id": "a0ca3fc5",
>>>>>>> b6e07d13baac92b2c1c9b43f8e4113ffa87bf495
   "metadata": {
    "lines_to_next_cell": 0
   },
   "source": [
    "The red line represents the line $y = x$, which is the mean-variance relationship that would be expected for Poisson distributed data. The data deviate from this expectation in each FOV. In each case, the variance is greater than what would be expected. \n",
    "\n",
    "# Data normalization and dimension reduction\n",
    "The exploratory analysis above indicates the presence of batch effects corresponding to FOV. We will use a normalization scheme that is batch aware. As the SFE object inherits from the `SpatialExperiment`and `SingleCellExperiment`, classes, we can take advantage of normalization methods implemented in the `scran` and `batchelor` R packages.\n",
    "\n",
    "We will first use the `multiBatchNorm()` function to scale the data within each batch. As noted in the documentation, the function uses median-based normalization on the ratio of the average counts between batches. \n",
    "\n",
    "Batch correction and dimension reduction is accomplished using `fastMNN()` which performs multi-sample PCA across multiple gene expression matrices to project all cells to a common low-dimensional space."
   ]
  },
  {
   "cell_type": "code",
   "execution_count": null,
<<<<<<< HEAD
<<<<<<< HEAD
<<<<<<< HEAD
<<<<<<< HEAD
<<<<<<< HEAD
   "id": "ef36d261",
||||||| 11b9cb7
   "id": "1a931d06",
=======
   "id": "b12853ad",
>>>>>>> documentation-devel
||||||| 614e9b1
   "id": "b12853ad",
=======
   "id": "5bbd1963",
>>>>>>> documentation-devel
||||||| 856b4c0
<<<<<<< HEAD
   "id": "ef36d261",
||||||| 11b9cb7
   "id": "1a931d06",
=======
   "id": "b12853ad",
>>>>>>> documentation-devel
=======
   "id": "f36e970c",
>>>>>>> 552590ea8fad969b67afdba27558a1e6cb21016e
||||||| 452c944
   "id": "5bbd1963",
=======
   "id": "22c84cc6",
>>>>>>> documentation-devel
||||||| 4da3324
<<<<<<< HEAD
<<<<<<< HEAD
<<<<<<< HEAD
   "id": "ef36d261",
||||||| 11b9cb7
   "id": "1a931d06",
=======
   "id": "b12853ad",
>>>>>>> documentation-devel
||||||| 614e9b1
   "id": "b12853ad",
=======
   "id": "5bbd1963",
>>>>>>> documentation-devel
||||||| 856b4c0
<<<<<<< HEAD
   "id": "ef36d261",
||||||| 11b9cb7
   "id": "1a931d06",
=======
   "id": "b12853ad",
>>>>>>> documentation-devel
=======
   "id": "f36e970c",
>>>>>>> 552590ea8fad969b67afdba27558a1e6cb21016e
=======
   "id": "da4a931d",
>>>>>>> b6e07d13baac92b2c1c9b43f8e4113ffa87bf495
   "metadata": {},
   "outputs": [],
   "source": [
    "sfe <- multiBatchNorm(sfe, batch = pos)\n",
    "sfe_red <- fastMNN(sfe, batch = pos, cos.norm = FALSE, d = 20)"
   ]
  },
  {
   "cell_type": "markdown",
<<<<<<< HEAD
<<<<<<< HEAD
<<<<<<< HEAD
<<<<<<< HEAD
<<<<<<< HEAD
   "id": "5342707d",
||||||| 11b9cb7
   "id": "88c838cf",
=======
   "id": "b1521884",
>>>>>>> documentation-devel
||||||| 614e9b1
   "id": "b1521884",
=======
   "id": "f825fb06",
>>>>>>> documentation-devel
||||||| 856b4c0
<<<<<<< HEAD
   "id": "5342707d",
||||||| 11b9cb7
   "id": "88c838cf",
=======
   "id": "b1521884",
>>>>>>> documentation-devel
=======
   "id": "a3e193aa",
>>>>>>> 552590ea8fad969b67afdba27558a1e6cb21016e
||||||| 452c944
   "id": "f825fb06",
=======
   "id": "a92d155a",
>>>>>>> documentation-devel
||||||| 4da3324
<<<<<<< HEAD
<<<<<<< HEAD
<<<<<<< HEAD
   "id": "5342707d",
||||||| 11b9cb7
   "id": "88c838cf",
=======
   "id": "b1521884",
>>>>>>> documentation-devel
||||||| 614e9b1
   "id": "b1521884",
=======
   "id": "f825fb06",
>>>>>>> documentation-devel
||||||| 856b4c0
<<<<<<< HEAD
   "id": "5342707d",
||||||| 11b9cb7
   "id": "88c838cf",
=======
   "id": "b1521884",
>>>>>>> documentation-devel
=======
   "id": "a3e193aa",
>>>>>>> 552590ea8fad969b67afdba27558a1e6cb21016e
=======
   "id": "e45c08a3",
>>>>>>> b6e07d13baac92b2c1c9b43f8e4113ffa87bf495
   "metadata": {
    "lines_to_next_cell": 0
   },
   "source": [
    "The function `fastMNN` returns a batch-corrected matrix in the `reducedDims` slot of a `SingleCellExperiment` object. We will extract the relevant data and store them in the SFE ojbject. "
   ]
  },
  {
   "cell_type": "code",
   "execution_count": null,
<<<<<<< HEAD
<<<<<<< HEAD
<<<<<<< HEAD
<<<<<<< HEAD
<<<<<<< HEAD
   "id": "e8723007",
||||||| 11b9cb7
   "id": "fa1d0c53",
=======
   "id": "df85311f",
>>>>>>> documentation-devel
||||||| 614e9b1
   "id": "df85311f",
=======
   "id": "65478d7a",
>>>>>>> documentation-devel
||||||| 856b4c0
<<<<<<< HEAD
   "id": "e8723007",
||||||| 11b9cb7
   "id": "fa1d0c53",
=======
   "id": "df85311f",
>>>>>>> documentation-devel
=======
   "id": "7e93a491",
>>>>>>> 552590ea8fad969b67afdba27558a1e6cb21016e
||||||| 452c944
   "id": "65478d7a",
=======
   "id": "df453798",
>>>>>>> documentation-devel
||||||| 4da3324
<<<<<<< HEAD
<<<<<<< HEAD
<<<<<<< HEAD
   "id": "e8723007",
||||||| 11b9cb7
   "id": "fa1d0c53",
=======
   "id": "df85311f",
>>>>>>> documentation-devel
||||||| 614e9b1
   "id": "df85311f",
=======
   "id": "65478d7a",
>>>>>>> documentation-devel
||||||| 856b4c0
<<<<<<< HEAD
   "id": "e8723007",
||||||| 11b9cb7
   "id": "fa1d0c53",
=======
   "id": "df85311f",
>>>>>>> documentation-devel
=======
   "id": "7e93a491",
>>>>>>> 552590ea8fad969b67afdba27558a1e6cb21016e
=======
   "id": "36f8dfe3",
>>>>>>> b6e07d13baac92b2c1c9b43f8e4113ffa87bf495
   "metadata": {},
   "outputs": [],
   "source": [
    "reducedDim(sfe, \"PCA\") <- reducedDim(sfe_red, \"corrected\")\n",
    "assay(sfe, \"reconstructed\") <- assay(sfe_red, \"reconstructed\") "
   ]
  },
  {
   "cell_type": "markdown",
<<<<<<< HEAD
<<<<<<< HEAD
<<<<<<< HEAD
<<<<<<< HEAD
<<<<<<< HEAD
   "id": "ebd450e0",
||||||| 11b9cb7
   "id": "e33217da",
=======
   "id": "5e58331c",
>>>>>>> documentation-devel
||||||| 614e9b1
   "id": "5e58331c",
=======
   "id": "870c37d1",
>>>>>>> documentation-devel
||||||| 856b4c0
<<<<<<< HEAD
   "id": "ebd450e0",
||||||| 11b9cb7
   "id": "e33217da",
=======
   "id": "5e58331c",
>>>>>>> documentation-devel
=======
   "id": "03206712",
>>>>>>> 552590ea8fad969b67afdba27558a1e6cb21016e
||||||| 452c944
   "id": "870c37d1",
=======
   "id": "5f64f7de",
>>>>>>> documentation-devel
||||||| 4da3324
<<<<<<< HEAD
<<<<<<< HEAD
<<<<<<< HEAD
   "id": "ebd450e0",
||||||| 11b9cb7
   "id": "e33217da",
=======
   "id": "5e58331c",
>>>>>>> documentation-devel
||||||| 614e9b1
   "id": "5e58331c",
=======
   "id": "870c37d1",
>>>>>>> documentation-devel
||||||| 856b4c0
<<<<<<< HEAD
   "id": "ebd450e0",
||||||| 11b9cb7
   "id": "e33217da",
=======
   "id": "5e58331c",
>>>>>>> documentation-devel
=======
   "id": "03206712",
>>>>>>> 552590ea8fad969b67afdba27558a1e6cb21016e
=======
   "id": "77d63ea0",
>>>>>>> b6e07d13baac92b2c1c9b43f8e4113ffa87bf495
   "metadata": {
    "lines_to_next_cell": 0
   },
   "source": [
    "Now we will visualize the first two PCs in space. Here we notice that the PCs may show some spatial structure that correlates to biological niches of cells. "
   ]
  },
  {
   "cell_type": "code",
   "execution_count": null,
<<<<<<< HEAD
<<<<<<< HEAD
<<<<<<< HEAD
<<<<<<< HEAD
<<<<<<< HEAD
   "id": "86906600",
||||||| 11b9cb7
   "id": "2dcb1c84",
=======
   "id": "aaff652a",
>>>>>>> documentation-devel
||||||| 614e9b1
   "id": "aaff652a",
=======
   "id": "442a9bd8",
>>>>>>> documentation-devel
||||||| 856b4c0
<<<<<<< HEAD
   "id": "86906600",
||||||| 11b9cb7
   "id": "2dcb1c84",
=======
   "id": "aaff652a",
>>>>>>> documentation-devel
=======
   "id": "db847473",
>>>>>>> 552590ea8fad969b67afdba27558a1e6cb21016e
||||||| 452c944
   "id": "442a9bd8",
=======
   "id": "62fb6fa4",
>>>>>>> documentation-devel
||||||| 4da3324
<<<<<<< HEAD
<<<<<<< HEAD
<<<<<<< HEAD
   "id": "86906600",
||||||| 11b9cb7
   "id": "2dcb1c84",
=======
   "id": "aaff652a",
>>>>>>> documentation-devel
||||||| 614e9b1
   "id": "aaff652a",
=======
   "id": "442a9bd8",
>>>>>>> documentation-devel
||||||| 856b4c0
<<<<<<< HEAD
   "id": "86906600",
||||||| 11b9cb7
   "id": "2dcb1c84",
=======
   "id": "aaff652a",
>>>>>>> documentation-devel
=======
   "id": "db847473",
>>>>>>> 552590ea8fad969b67afdba27558a1e6cb21016e
=======
   "id": "556b9400",
>>>>>>> b6e07d13baac92b2c1c9b43f8e4113ffa87bf495
   "metadata": {},
   "outputs": [],
   "source": [
    "spatialReducedDim(sfe, \"PCA\", ncomponents = 2, divergent = TRUE, diverge_center = 0)"
   ]
  },
  {
   "cell_type": "markdown",
<<<<<<< HEAD
<<<<<<< HEAD
<<<<<<< HEAD
<<<<<<< HEAD
<<<<<<< HEAD
   "id": "564f0182",
||||||| 11b9cb7
   "id": "6fb869ee",
=======
   "id": "88a49f3f",
>>>>>>> documentation-devel
||||||| 614e9b1
   "id": "88a49f3f",
=======
   "id": "3ea7c400",
>>>>>>> documentation-devel
||||||| 856b4c0
<<<<<<< HEAD
   "id": "564f0182",
||||||| 11b9cb7
   "id": "6fb869ee",
=======
   "id": "88a49f3f",
>>>>>>> documentation-devel
=======
   "id": "817fc21a",
>>>>>>> 552590ea8fad969b67afdba27558a1e6cb21016e
||||||| 452c944
   "id": "3ea7c400",
=======
   "id": "c2e86659",
>>>>>>> documentation-devel
||||||| 4da3324
<<<<<<< HEAD
<<<<<<< HEAD
<<<<<<< HEAD
   "id": "564f0182",
||||||| 11b9cb7
   "id": "6fb869ee",
=======
   "id": "88a49f3f",
>>>>>>> documentation-devel
||||||| 614e9b1
   "id": "88a49f3f",
=======
   "id": "3ea7c400",
>>>>>>> documentation-devel
||||||| 856b4c0
<<<<<<< HEAD
   "id": "564f0182",
||||||| 11b9cb7
   "id": "6fb869ee",
=======
   "id": "88a49f3f",
>>>>>>> documentation-devel
=======
   "id": "817fc21a",
>>>>>>> 552590ea8fad969b67afdba27558a1e6cb21016e
=======
   "id": "a6bf777d",
>>>>>>> b6e07d13baac92b2c1c9b43f8e4113ffa87bf495
   "metadata": {
    "lines_to_next_cell": 0
   },
   "source": [
    "Unfortunately, FOV artifacts can still be seen.\n",
    "\n",
    "# Clustering\n",
    "Much like in single cell analysis, we can use the batch-corrected data to cluster the cells. We will implement a graph-based clustering algorithm and plot the resulting clusters in space. "
   ]
  },
  {
   "cell_type": "code",
   "execution_count": null,
<<<<<<< HEAD
<<<<<<< HEAD
<<<<<<< HEAD
<<<<<<< HEAD
<<<<<<< HEAD
   "id": "e66c0df5",
||||||| 11b9cb7
   "id": "329636e9",
=======
   "id": "11c0c1aa",
>>>>>>> documentation-devel
||||||| 614e9b1
   "id": "11c0c1aa",
=======
   "id": "197b3105",
>>>>>>> documentation-devel
||||||| 856b4c0
<<<<<<< HEAD
   "id": "e66c0df5",
||||||| 11b9cb7
   "id": "329636e9",
=======
   "id": "11c0c1aa",
>>>>>>> documentation-devel
=======
   "id": "12f9affc",
>>>>>>> 552590ea8fad969b67afdba27558a1e6cb21016e
||||||| 452c944
   "id": "197b3105",
=======
   "id": "6a73d8d7",
>>>>>>> documentation-devel
||||||| 4da3324
<<<<<<< HEAD
<<<<<<< HEAD
<<<<<<< HEAD
   "id": "e66c0df5",
||||||| 11b9cb7
   "id": "329636e9",
=======
   "id": "11c0c1aa",
>>>>>>> documentation-devel
||||||| 614e9b1
   "id": "11c0c1aa",
=======
   "id": "197b3105",
>>>>>>> documentation-devel
||||||| 856b4c0
<<<<<<< HEAD
   "id": "e66c0df5",
||||||| 11b9cb7
   "id": "329636e9",
=======
   "id": "11c0c1aa",
>>>>>>> documentation-devel
=======
   "id": "12f9affc",
>>>>>>> 552590ea8fad969b67afdba27558a1e6cb21016e
=======
   "id": "615ad8c0",
>>>>>>> b6e07d13baac92b2c1c9b43f8e4113ffa87bf495
   "metadata": {},
   "outputs": [],
   "source": [
    "colData(sfe)$cluster <- \n",
    "  clusterRows(reducedDim(sfe, \"PCA\"),\n",
    "                      BLUSPARAM = SNNGraphParam(\n",
    "                        cluster.fun = \"leiden\",\n",
    "                        cluster.args = list(\n",
    "                        resolution_parameter = 0.5,\n",
    "                        objective_function = \"modularity\")\n",
    "                        )\n",
    "              )"
   ]
  },
  {
   "cell_type": "markdown",
<<<<<<< HEAD
<<<<<<< HEAD
<<<<<<< HEAD
<<<<<<< HEAD
<<<<<<< HEAD
   "id": "7b8cb2d6",
||||||| 11b9cb7
   "id": "a15e9f3f",
=======
   "id": "79e76179",
>>>>>>> documentation-devel
||||||| 614e9b1
   "id": "79e76179",
=======
   "id": "7b6db4c5",
>>>>>>> documentation-devel
||||||| 856b4c0
<<<<<<< HEAD
   "id": "7b8cb2d6",
||||||| 11b9cb7
   "id": "a15e9f3f",
=======
   "id": "79e76179",
>>>>>>> documentation-devel
=======
   "id": "744d7fdf",
>>>>>>> 552590ea8fad969b67afdba27558a1e6cb21016e
||||||| 452c944
   "id": "7b6db4c5",
=======
   "id": "fa67d180",
>>>>>>> documentation-devel
||||||| 4da3324
<<<<<<< HEAD
<<<<<<< HEAD
<<<<<<< HEAD
   "id": "7b8cb2d6",
||||||| 11b9cb7
   "id": "a15e9f3f",
=======
   "id": "79e76179",
>>>>>>> documentation-devel
||||||| 614e9b1
   "id": "79e76179",
=======
   "id": "7b6db4c5",
>>>>>>> documentation-devel
||||||| 856b4c0
<<<<<<< HEAD
   "id": "7b8cb2d6",
||||||| 11b9cb7
   "id": "a15e9f3f",
=======
   "id": "79e76179",
>>>>>>> documentation-devel
=======
   "id": "744d7fdf",
>>>>>>> 552590ea8fad969b67afdba27558a1e6cb21016e
=======
   "id": "e7dab3e4",
>>>>>>> b6e07d13baac92b2c1c9b43f8e4113ffa87bf495
   "metadata": {
    "lines_to_next_cell": 0
   },
   "source": [
    "The plot below is colored by cluster ID and by the cell types provided by the author. "
   ]
  },
  {
   "cell_type": "code",
   "execution_count": null,
<<<<<<< HEAD
<<<<<<< HEAD
<<<<<<< HEAD
<<<<<<< HEAD
<<<<<<< HEAD
   "id": "959ecb1d",
||||||| 11b9cb7
   "id": "ca7ed26e",
=======
   "id": "52851649",
>>>>>>> documentation-devel
||||||| 614e9b1
   "id": "52851649",
=======
   "id": "e9416079",
>>>>>>> documentation-devel
||||||| 856b4c0
<<<<<<< HEAD
   "id": "959ecb1d",
||||||| 11b9cb7
   "id": "ca7ed26e",
=======
   "id": "52851649",
>>>>>>> documentation-devel
=======
   "id": "4cd91485",
>>>>>>> 552590ea8fad969b67afdba27558a1e6cb21016e
||||||| 452c944
   "id": "e9416079",
=======
   "id": "1e7238b5",
>>>>>>> documentation-devel
||||||| 4da3324
<<<<<<< HEAD
<<<<<<< HEAD
<<<<<<< HEAD
   "id": "959ecb1d",
||||||| 11b9cb7
   "id": "ca7ed26e",
=======
   "id": "52851649",
>>>>>>> documentation-devel
||||||| 614e9b1
   "id": "52851649",
=======
   "id": "e9416079",
>>>>>>> documentation-devel
||||||| 856b4c0
<<<<<<< HEAD
   "id": "959ecb1d",
||||||| 11b9cb7
   "id": "ca7ed26e",
=======
   "id": "52851649",
>>>>>>> documentation-devel
=======
   "id": "4cd91485",
>>>>>>> 552590ea8fad969b67afdba27558a1e6cb21016e
=======
   "id": "8d4ae16d",
>>>>>>> b6e07d13baac92b2c1c9b43f8e4113ffa87bf495
   "metadata": {
    "fig.height": 5,
    "fig.width": 10
   },
   "outputs": [],
   "source": [
    "plotSpatialFeature(sfe, c(\"cluster\", \"celltype_mapped_refined\"), \n",
    "                   colGeometryName = \"seg_coords\")"
   ]
  },
  {
   "cell_type": "markdown",
<<<<<<< HEAD
<<<<<<< HEAD
<<<<<<< HEAD
<<<<<<< HEAD
<<<<<<< HEAD
   "id": "7cd80923",
||||||| 11b9cb7
   "id": "6ad2f6eb",
=======
   "id": "c7b407ba",
>>>>>>> documentation-devel
||||||| 614e9b1
   "id": "c7b407ba",
=======
   "id": "26d8ecf2",
>>>>>>> documentation-devel
||||||| 856b4c0
<<<<<<< HEAD
   "id": "7cd80923",
||||||| 11b9cb7
   "id": "6ad2f6eb",
=======
   "id": "c7b407ba",
>>>>>>> documentation-devel
=======
   "id": "349fb3ac",
>>>>>>> 552590ea8fad969b67afdba27558a1e6cb21016e
||||||| 452c944
   "id": "26d8ecf2",
=======
   "id": "e713135b",
>>>>>>> documentation-devel
||||||| 4da3324
<<<<<<< HEAD
<<<<<<< HEAD
<<<<<<< HEAD
   "id": "7cd80923",
||||||| 11b9cb7
   "id": "6ad2f6eb",
=======
   "id": "c7b407ba",
>>>>>>> documentation-devel
||||||| 614e9b1
   "id": "c7b407ba",
=======
   "id": "26d8ecf2",
>>>>>>> documentation-devel
||||||| 856b4c0
<<<<<<< HEAD
   "id": "7cd80923",
||||||| 11b9cb7
   "id": "6ad2f6eb",
=======
   "id": "c7b407ba",
>>>>>>> documentation-devel
=======
   "id": "349fb3ac",
>>>>>>> 552590ea8fad969b67afdba27558a1e6cb21016e
=======
   "id": "acbad8a8",
>>>>>>> b6e07d13baac92b2c1c9b43f8e4113ffa87bf495
   "metadata": {},
   "source": [
    "The authors have assigned cells to more types than are identified in the clustering step. In any case, the clustering results seem to recapitulate the major cell niches from the previous annotations. We can compute the [Rand index](https://en.wikipedia.org/wiki/Rand_index) using a function from the `fossil` package to assess the similarity between the two clustering results. A value of 1 would suggest the clustering results are identical, while a value of 0 would suggest that the results do not agree at all. "
   ]
  },
  {
   "cell_type": "code",
   "execution_count": null,
<<<<<<< HEAD
<<<<<<< HEAD
<<<<<<< HEAD
<<<<<<< HEAD
<<<<<<< HEAD
   "id": "adc37339",
||||||| 11b9cb7
   "id": "9429be9c",
=======
   "id": "168d4e6f",
>>>>>>> documentation-devel
||||||| 614e9b1
   "id": "168d4e6f",
=======
   "id": "6325ac76",
>>>>>>> documentation-devel
||||||| 856b4c0
<<<<<<< HEAD
   "id": "adc37339",
||||||| 11b9cb7
   "id": "9429be9c",
=======
   "id": "168d4e6f",
>>>>>>> documentation-devel
=======
   "id": "0b34112f",
>>>>>>> 552590ea8fad969b67afdba27558a1e6cb21016e
||||||| 452c944
   "id": "6325ac76",
=======
   "id": "314fb3e0",
>>>>>>> documentation-devel
||||||| 4da3324
<<<<<<< HEAD
<<<<<<< HEAD
<<<<<<< HEAD
   "id": "adc37339",
||||||| 11b9cb7
   "id": "9429be9c",
=======
   "id": "168d4e6f",
>>>>>>> documentation-devel
||||||| 614e9b1
   "id": "168d4e6f",
=======
   "id": "6325ac76",
>>>>>>> documentation-devel
||||||| 856b4c0
<<<<<<< HEAD
   "id": "adc37339",
||||||| 11b9cb7
   "id": "9429be9c",
=======
   "id": "168d4e6f",
>>>>>>> documentation-devel
=======
   "id": "0b34112f",
>>>>>>> 552590ea8fad969b67afdba27558a1e6cb21016e
=======
   "id": "e67d1cc2",
>>>>>>> b6e07d13baac92b2c1c9b43f8e4113ffa87bf495
   "metadata": {},
   "outputs": [],
   "source": [
    "g1 <- as.numeric(colData(sfe)$cluster)\n",
    "g2 <- as.numeric(colData(sfe)$celltype_mapped_refined)\n",
    "\n",
    "rand.index(g1, g2)"
   ]
  },
  {
   "cell_type": "markdown",
<<<<<<< HEAD
<<<<<<< HEAD
<<<<<<< HEAD
<<<<<<< HEAD
<<<<<<< HEAD
   "id": "5a614170",
||||||| 11b9cb7
   "id": "7783f5c1",
=======
   "id": "64f0e2c9",
>>>>>>> documentation-devel
||||||| 614e9b1
   "id": "64f0e2c9",
=======
   "id": "c2f9e2e5",
>>>>>>> documentation-devel
||||||| 856b4c0
<<<<<<< HEAD
   "id": "5a614170",
||||||| 11b9cb7
   "id": "7783f5c1",
=======
   "id": "64f0e2c9",
>>>>>>> documentation-devel
=======
   "id": "d36a3183",
>>>>>>> 552590ea8fad969b67afdba27558a1e6cb21016e
||||||| 452c944
   "id": "c2f9e2e5",
=======
   "id": "7420ab49",
>>>>>>> documentation-devel
||||||| 4da3324
<<<<<<< HEAD
<<<<<<< HEAD
<<<<<<< HEAD
   "id": "5a614170",
||||||| 11b9cb7
   "id": "7783f5c1",
=======
   "id": "64f0e2c9",
>>>>>>> documentation-devel
||||||| 614e9b1
   "id": "64f0e2c9",
=======
   "id": "c2f9e2e5",
>>>>>>> documentation-devel
||||||| 856b4c0
<<<<<<< HEAD
   "id": "5a614170",
||||||| 11b9cb7
   "id": "7783f5c1",
=======
   "id": "64f0e2c9",
>>>>>>> documentation-devel
=======
   "id": "d36a3183",
>>>>>>> 552590ea8fad969b67afdba27558a1e6cb21016e
=======
   "id": "25b7df2d",
>>>>>>> b6e07d13baac92b2c1c9b43f8e4113ffa87bf495
   "metadata": {},
   "source": [
    "The relatively large Rand index suggests that cells are often found in the same cluster in both cases. \n",
    "\n",
    "# Univariate Spatial Statistics\n",
    "At this point, we may be interested in identifying genes that exhibit spatial variability, or whose expression depends on spatial location within the tissue. Measures of spatial autocorrelation can be useful in identifyign genes that display spatial variablity. Among the most common measures are Moran's I and Geary's C. In the latter case, a less than 1 indicates positive spatial autocorrelation, while a value larger than 1 points to negative spatial autocorrelation. In the former case, positive and negative values of Moran's I indicate positive and negative spatial autocorrelation, respectively.\n",
    "\n",
    "These tests require a spatial neighborhood graph for computation of the statistic. There are several ways to define spatial neighbors and the `findSpatialNeighbors()` function wraps all of the methods implemented in the `spdep` package. Below, we compute a k-nearest neighborhood graph. The `dist_type = \"idw\"` weights the edges of the graph by the inverse distance between neighbors."
   ]
  },
  {
   "cell_type": "code",
   "execution_count": null,
<<<<<<< HEAD
<<<<<<< HEAD
<<<<<<< HEAD
<<<<<<< HEAD
<<<<<<< HEAD
   "id": "796ec28d",
||||||| 11b9cb7
   "id": "91691143",
=======
   "id": "b7c2db27",
>>>>>>> documentation-devel
||||||| 614e9b1
   "id": "b7c2db27",
=======
   "id": "b1fc0ce5",
>>>>>>> documentation-devel
||||||| 856b4c0
<<<<<<< HEAD
   "id": "796ec28d",
||||||| 11b9cb7
   "id": "91691143",
=======
   "id": "b7c2db27",
>>>>>>> documentation-devel
=======
   "id": "14a9d53e",
>>>>>>> 552590ea8fad969b67afdba27558a1e6cb21016e
||||||| 452c944
   "id": "b1fc0ce5",
=======
   "id": "aaab59e2",
>>>>>>> documentation-devel
||||||| 4da3324
<<<<<<< HEAD
<<<<<<< HEAD
<<<<<<< HEAD
   "id": "796ec28d",
||||||| 11b9cb7
   "id": "91691143",
=======
   "id": "b7c2db27",
>>>>>>> documentation-devel
||||||| 614e9b1
   "id": "b7c2db27",
=======
   "id": "b1fc0ce5",
>>>>>>> documentation-devel
||||||| 856b4c0
<<<<<<< HEAD
   "id": "796ec28d",
||||||| 11b9cb7
   "id": "91691143",
=======
   "id": "b7c2db27",
>>>>>>> documentation-devel
=======
   "id": "14a9d53e",
>>>>>>> 552590ea8fad969b67afdba27558a1e6cb21016e
=======
   "id": "527d34e6",
>>>>>>> b6e07d13baac92b2c1c9b43f8e4113ffa87bf495
   "metadata": {},
   "outputs": [],
   "source": [
    "colGraph(sfe, \"knn5\") <- findSpatialNeighbors(\n",
    "  sfe, method = \"knearneigh\", dist_type = \"idw\", \n",
    "  k = 5, style = \"W\")"
   ]
  },
  {
   "cell_type": "markdown",
<<<<<<< HEAD
<<<<<<< HEAD
<<<<<<< HEAD
<<<<<<< HEAD
<<<<<<< HEAD
   "id": "07bcc790",
||||||| 11b9cb7
   "id": "7beb1c0f",
=======
   "id": "527aba0e",
>>>>>>> documentation-devel
||||||| 614e9b1
   "id": "527aba0e",
=======
   "id": "838900b2",
>>>>>>> documentation-devel
||||||| 856b4c0
<<<<<<< HEAD
   "id": "07bcc790",
||||||| 11b9cb7
   "id": "7beb1c0f",
=======
   "id": "527aba0e",
>>>>>>> documentation-devel
=======
   "id": "80fd71fc",
>>>>>>> 552590ea8fad969b67afdba27558a1e6cb21016e
||||||| 452c944
   "id": "838900b2",
=======
   "id": "81977edd",
>>>>>>> documentation-devel
||||||| 4da3324
<<<<<<< HEAD
<<<<<<< HEAD
<<<<<<< HEAD
   "id": "07bcc790",
||||||| 11b9cb7
   "id": "7beb1c0f",
=======
   "id": "527aba0e",
>>>>>>> documentation-devel
||||||| 614e9b1
   "id": "527aba0e",
=======
   "id": "838900b2",
>>>>>>> documentation-devel
||||||| 856b4c0
<<<<<<< HEAD
   "id": "07bcc790",
||||||| 11b9cb7
   "id": "7beb1c0f",
=======
   "id": "527aba0e",
>>>>>>> documentation-devel
=======
   "id": "80fd71fc",
>>>>>>> 552590ea8fad969b67afdba27558a1e6cb21016e
=======
   "id": "1a7cbd66",
>>>>>>> b6e07d13baac92b2c1c9b43f8e4113ffa87bf495
   "metadata": {
    "lines_to_next_cell": 0
   },
   "source": [
    "We will also save the most variable genes for use in the computations below. "
   ]
  },
  {
   "cell_type": "code",
   "execution_count": null,
<<<<<<< HEAD
<<<<<<< HEAD
<<<<<<< HEAD
<<<<<<< HEAD
<<<<<<< HEAD
   "id": "e26ea8a2",
||||||| 11b9cb7
   "id": "348c1d39",
=======
   "id": "fb4e1974",
>>>>>>> documentation-devel
||||||| 614e9b1
   "id": "fb4e1974",
=======
   "id": "e943ea80",
>>>>>>> documentation-devel
||||||| 856b4c0
<<<<<<< HEAD
   "id": "e26ea8a2",
||||||| 11b9cb7
   "id": "348c1d39",
=======
   "id": "fb4e1974",
>>>>>>> documentation-devel
=======
   "id": "95a9c2b8",
>>>>>>> 552590ea8fad969b67afdba27558a1e6cb21016e
||||||| 452c944
   "id": "e943ea80",
=======
   "id": "2bae910e",
>>>>>>> documentation-devel
||||||| 4da3324
<<<<<<< HEAD
<<<<<<< HEAD
<<<<<<< HEAD
   "id": "e26ea8a2",
||||||| 11b9cb7
   "id": "348c1d39",
=======
   "id": "fb4e1974",
>>>>>>> documentation-devel
||||||| 614e9b1
   "id": "fb4e1974",
=======
   "id": "e943ea80",
>>>>>>> documentation-devel
||||||| 856b4c0
<<<<<<< HEAD
   "id": "e26ea8a2",
||||||| 11b9cb7
   "id": "348c1d39",
=======
   "id": "fb4e1974",
>>>>>>> documentation-devel
=======
   "id": "95a9c2b8",
>>>>>>> 552590ea8fad969b67afdba27558a1e6cb21016e
=======
   "id": "896b3818",
>>>>>>> b6e07d13baac92b2c1c9b43f8e4113ffa87bf495
   "metadata": {},
   "outputs": [],
   "source": [
    "dec <- modelGeneVar(sfe)\n",
    "hvgs <- getTopHVGs(dec, n = 100)"
   ]
  },
  {
   "cell_type": "markdown",
<<<<<<< HEAD
<<<<<<< HEAD
<<<<<<< HEAD
<<<<<<< HEAD
<<<<<<< HEAD
   "id": "552a2c09",
||||||| 11b9cb7
   "id": "3128d1dc",
=======
   "id": "93fa5f20",
>>>>>>> documentation-devel
||||||| 614e9b1
   "id": "93fa5f20",
=======
   "id": "8bdd544f",
>>>>>>> documentation-devel
||||||| 856b4c0
<<<<<<< HEAD
   "id": "552a2c09",
||||||| 11b9cb7
   "id": "3128d1dc",
=======
   "id": "93fa5f20",
>>>>>>> documentation-devel
=======
   "id": "5742f001",
>>>>>>> 552590ea8fad969b67afdba27558a1e6cb21016e
||||||| 452c944
   "id": "8bdd544f",
=======
   "id": "a22ff8ed",
>>>>>>> documentation-devel
||||||| 4da3324
<<<<<<< HEAD
<<<<<<< HEAD
<<<<<<< HEAD
   "id": "552a2c09",
||||||| 11b9cb7
   "id": "3128d1dc",
=======
   "id": "93fa5f20",
>>>>>>> documentation-devel
||||||| 614e9b1
   "id": "93fa5f20",
=======
   "id": "8bdd544f",
>>>>>>> documentation-devel
||||||| 856b4c0
<<<<<<< HEAD
   "id": "552a2c09",
||||||| 11b9cb7
   "id": "3128d1dc",
=======
   "id": "93fa5f20",
>>>>>>> documentation-devel
=======
   "id": "5742f001",
>>>>>>> 552590ea8fad969b67afdba27558a1e6cb21016e
=======
   "id": "944d864d",
>>>>>>> b6e07d13baac92b2c1c9b43f8e4113ffa87bf495
   "metadata": {
    "lines_to_next_cell": 0
   },
   "source": [
    "We use the `runUnivariate()` function to compute the spatial autocorrelation metrics and save the results and save them in the SFE object. The `mc` type for each test implements a permutation test for each statistic and relies on the `nsim` argument for computing a p-value for the statistic. "
   ]
  },
  {
   "cell_type": "code",
   "execution_count": null,
<<<<<<< HEAD
<<<<<<< HEAD
<<<<<<< HEAD
<<<<<<< HEAD
<<<<<<< HEAD
   "id": "236e27c8",
||||||| 11b9cb7
   "id": "da4394eb",
=======
   "id": "14db7c81",
>>>>>>> documentation-devel
||||||| 614e9b1
   "id": "14db7c81",
=======
   "id": "186ddd19",
>>>>>>> documentation-devel
||||||| 856b4c0
<<<<<<< HEAD
   "id": "236e27c8",
||||||| 11b9cb7
   "id": "da4394eb",
=======
   "id": "14db7c81",
>>>>>>> documentation-devel
=======
   "id": "ed114825",
>>>>>>> 552590ea8fad969b67afdba27558a1e6cb21016e
||||||| 452c944
   "id": "186ddd19",
=======
   "id": "99cfa1c9",
>>>>>>> documentation-devel
||||||| 4da3324
<<<<<<< HEAD
<<<<<<< HEAD
<<<<<<< HEAD
   "id": "236e27c8",
||||||| 11b9cb7
   "id": "da4394eb",
=======
   "id": "14db7c81",
>>>>>>> documentation-devel
||||||| 614e9b1
   "id": "14db7c81",
=======
   "id": "186ddd19",
>>>>>>> documentation-devel
||||||| 856b4c0
<<<<<<< HEAD
   "id": "236e27c8",
||||||| 11b9cb7
   "id": "da4394eb",
=======
   "id": "14db7c81",
>>>>>>> documentation-devel
=======
   "id": "ed114825",
>>>>>>> 552590ea8fad969b67afdba27558a1e6cb21016e
=======
   "id": "7593b1d0",
>>>>>>> b6e07d13baac92b2c1c9b43f8e4113ffa87bf495
   "metadata": {},
   "outputs": [],
   "source": [
    "sfe <- runUnivariate(\n",
    "  sfe, type = \"geary.mc\", features = hvgs, \n",
    "  colGraphName = \"knn5\", nsim = 100, BPPARAM = MulticoreParam(2))"
   ]
  },
  {
   "cell_type": "code",
   "execution_count": null,
<<<<<<< HEAD
<<<<<<< HEAD
<<<<<<< HEAD
<<<<<<< HEAD
<<<<<<< HEAD
   "id": "d8ba3d7f",
||||||| 11b9cb7
   "id": "5ff682c2",
=======
   "id": "08a8cc88",
>>>>>>> documentation-devel
||||||| 614e9b1
   "id": "08a8cc88",
=======
   "id": "048712e5",
>>>>>>> documentation-devel
||||||| 856b4c0
<<<<<<< HEAD
   "id": "d8ba3d7f",
||||||| 11b9cb7
   "id": "5ff682c2",
=======
   "id": "08a8cc88",
>>>>>>> documentation-devel
=======
   "id": "725029f4",
>>>>>>> 552590ea8fad969b67afdba27558a1e6cb21016e
||||||| 452c944
   "id": "048712e5",
=======
   "id": "26e16fcc",
>>>>>>> documentation-devel
||||||| 4da3324
<<<<<<< HEAD
<<<<<<< HEAD
<<<<<<< HEAD
   "id": "d8ba3d7f",
||||||| 11b9cb7
   "id": "5ff682c2",
=======
   "id": "08a8cc88",
>>>>>>> documentation-devel
||||||| 614e9b1
   "id": "08a8cc88",
=======
   "id": "048712e5",
>>>>>>> documentation-devel
||||||| 856b4c0
<<<<<<< HEAD
   "id": "d8ba3d7f",
||||||| 11b9cb7
   "id": "5ff682c2",
=======
   "id": "08a8cc88",
>>>>>>> documentation-devel
=======
   "id": "725029f4",
>>>>>>> 552590ea8fad969b67afdba27558a1e6cb21016e
=======
   "id": "d6aa9543",
>>>>>>> b6e07d13baac92b2c1c9b43f8e4113ffa87bf495
   "metadata": {},
   "outputs": [],
   "source": [
    "sfe <- runUnivariate(\n",
    "  sfe, type = \"moran.mc\", features = hvgs,\n",
    "  colGraphName = \"knn5\", nsim = 100, BPPARAM = MulticoreParam(2))\n",
    "\n",
    "sfe <- colDataUnivariate(\n",
    "  sfe, type = \"moran.mc\", features = c(\"nCounts\", \"nGenes\"), \n",
    "  colGraphName = \"knn5\", nsim = 100)"
   ]
  },
  {
   "cell_type": "markdown",
<<<<<<< HEAD
<<<<<<< HEAD
<<<<<<< HEAD
<<<<<<< HEAD
<<<<<<< HEAD
   "id": "4840686d",
||||||| 11b9cb7
   "id": "df3e3339",
=======
   "id": "06f34a91",
>>>>>>> documentation-devel
||||||| 614e9b1
   "id": "06f34a91",
=======
   "id": "39382bf1",
>>>>>>> documentation-devel
||||||| 856b4c0
<<<<<<< HEAD
   "id": "4840686d",
||||||| 11b9cb7
   "id": "df3e3339",
=======
   "id": "06f34a91",
>>>>>>> documentation-devel
=======
   "id": "aceb32e4",
>>>>>>> 552590ea8fad969b67afdba27558a1e6cb21016e
||||||| 452c944
   "id": "39382bf1",
=======
   "id": "15f10052",
>>>>>>> documentation-devel
||||||| 4da3324
<<<<<<< HEAD
<<<<<<< HEAD
<<<<<<< HEAD
   "id": "4840686d",
||||||| 11b9cb7
   "id": "df3e3339",
=======
   "id": "06f34a91",
>>>>>>> documentation-devel
||||||| 614e9b1
   "id": "06f34a91",
=======
   "id": "39382bf1",
>>>>>>> documentation-devel
||||||| 856b4c0
<<<<<<< HEAD
   "id": "4840686d",
||||||| 11b9cb7
   "id": "df3e3339",
=======
   "id": "06f34a91",
>>>>>>> documentation-devel
=======
   "id": "aceb32e4",
>>>>>>> 552590ea8fad969b67afdba27558a1e6cb21016e
=======
   "id": "75684004",
>>>>>>> b6e07d13baac92b2c1c9b43f8e4113ffa87bf495
   "metadata": {
    "lines_to_next_cell": 0
   },
   "source": [
    "We can plot the results of the Monte Carlo simulations: "
   ]
  },
  {
   "cell_type": "code",
   "execution_count": null,
<<<<<<< HEAD
<<<<<<< HEAD
<<<<<<< HEAD
<<<<<<< HEAD
<<<<<<< HEAD
   "id": "fad0476e",
||||||| 11b9cb7
   "id": "88d9c64a",
=======
   "id": "37276131",
>>>>>>> documentation-devel
||||||| 614e9b1
   "id": "37276131",
=======
   "id": "5b42654b",
>>>>>>> documentation-devel
||||||| 856b4c0
<<<<<<< HEAD
   "id": "fad0476e",
||||||| 11b9cb7
   "id": "88d9c64a",
=======
   "id": "37276131",
>>>>>>> documentation-devel
=======
   "id": "474d472f",
>>>>>>> 552590ea8fad969b67afdba27558a1e6cb21016e
||||||| 452c944
   "id": "5b42654b",
=======
   "id": "af874587",
>>>>>>> documentation-devel
||||||| 4da3324
<<<<<<< HEAD
<<<<<<< HEAD
<<<<<<< HEAD
   "id": "fad0476e",
||||||| 11b9cb7
   "id": "88d9c64a",
=======
   "id": "37276131",
>>>>>>> documentation-devel
||||||| 614e9b1
   "id": "37276131",
=======
   "id": "5b42654b",
>>>>>>> documentation-devel
||||||| 856b4c0
<<<<<<< HEAD
   "id": "fad0476e",
||||||| 11b9cb7
   "id": "88d9c64a",
=======
   "id": "37276131",
>>>>>>> documentation-devel
=======
   "id": "474d472f",
>>>>>>> 552590ea8fad969b67afdba27558a1e6cb21016e
=======
   "id": "0ecc961d",
>>>>>>> b6e07d13baac92b2c1c9b43f8e4113ffa87bf495
   "metadata": {},
   "outputs": [],
   "source": [
    "plotMoranMC(sfe, \"Meox1\")"
   ]
  },
  {
   "cell_type": "markdown",
<<<<<<< HEAD
<<<<<<< HEAD
<<<<<<< HEAD
<<<<<<< HEAD
<<<<<<< HEAD
   "id": "afa239b3",
||||||| 11b9cb7
   "id": "5c0cbc9f",
=======
   "id": "9a08d3e8",
>>>>>>> documentation-devel
||||||| 614e9b1
   "id": "9a08d3e8",
=======
   "id": "5cad3461",
>>>>>>> documentation-devel
||||||| 856b4c0
<<<<<<< HEAD
   "id": "afa239b3",
||||||| 11b9cb7
   "id": "5c0cbc9f",
=======
   "id": "9a08d3e8",
>>>>>>> documentation-devel
=======
   "id": "50a328c1",
>>>>>>> 552590ea8fad969b67afdba27558a1e6cb21016e
||||||| 452c944
   "id": "5cad3461",
=======
   "id": "22558d3c",
>>>>>>> documentation-devel
||||||| 4da3324
<<<<<<< HEAD
<<<<<<< HEAD
<<<<<<< HEAD
   "id": "afa239b3",
||||||| 11b9cb7
   "id": "5c0cbc9f",
=======
   "id": "9a08d3e8",
>>>>>>> documentation-devel
||||||| 614e9b1
   "id": "9a08d3e8",
=======
   "id": "5cad3461",
>>>>>>> documentation-devel
||||||| 856b4c0
<<<<<<< HEAD
   "id": "afa239b3",
||||||| 11b9cb7
   "id": "5c0cbc9f",
=======
   "id": "9a08d3e8",
>>>>>>> documentation-devel
=======
   "id": "50a328c1",
>>>>>>> 552590ea8fad969b67afdba27558a1e6cb21016e
=======
   "id": "6fdb87cf",
>>>>>>> b6e07d13baac92b2c1c9b43f8e4113ffa87bf495
   "metadata": {
    "lines_to_next_cell": 0
   },
   "source": [
    "The vertical line represents the observed value of Moran's I and the density represents Moran's I computed from the permuted data. These simulations suggest that the spatial autocorrelation for this feature is significant. \n",
    "\n",
    "The function can also be used to plot the `geary.mc` results. \n",
    "\n",
    "Now, we might ask: which genes display the most spatial autocorrelation? "
   ]
  },
  {
   "cell_type": "code",
   "execution_count": null,
<<<<<<< HEAD
<<<<<<< HEAD
<<<<<<< HEAD
<<<<<<< HEAD
<<<<<<< HEAD
   "id": "3cf325c2",
||||||| 11b9cb7
   "id": "00ac47f1",
=======
   "id": "431f8e1c",
>>>>>>> documentation-devel
||||||| 614e9b1
   "id": "431f8e1c",
=======
   "id": "a717e632",
>>>>>>> documentation-devel
||||||| 856b4c0
<<<<<<< HEAD
   "id": "3cf325c2",
||||||| 11b9cb7
   "id": "00ac47f1",
=======
   "id": "431f8e1c",
>>>>>>> documentation-devel
=======
   "id": "6741287c",
>>>>>>> 552590ea8fad969b67afdba27558a1e6cb21016e
||||||| 452c944
   "id": "a717e632",
=======
   "id": "b0996d05",
>>>>>>> documentation-devel
||||||| 4da3324
<<<<<<< HEAD
<<<<<<< HEAD
<<<<<<< HEAD
   "id": "3cf325c2",
||||||| 11b9cb7
   "id": "00ac47f1",
=======
   "id": "431f8e1c",
>>>>>>> documentation-devel
||||||| 614e9b1
   "id": "431f8e1c",
=======
   "id": "a717e632",
>>>>>>> documentation-devel
||||||| 856b4c0
<<<<<<< HEAD
   "id": "3cf325c2",
||||||| 11b9cb7
   "id": "00ac47f1",
=======
   "id": "431f8e1c",
>>>>>>> documentation-devel
=======
   "id": "6741287c",
>>>>>>> 552590ea8fad969b67afdba27558a1e6cb21016e
=======
   "id": "66ecc2e7",
>>>>>>> b6e07d13baac92b2c1c9b43f8e4113ffa87bf495
   "metadata": {
    "fig.height": 8,
    "fig.width": 8
   },
   "outputs": [],
   "source": [
    "top_moran <- rownames(sfe)[order(-rowData(sfe)$moran.mc_statistic_sample01)[1:4]]\n",
    "\n",
    "plotSpatialFeature(sfe, top_moran, colGeometryName = \"seg_coords\")"
   ]
  },
  {
   "cell_type": "markdown",
<<<<<<< HEAD
<<<<<<< HEAD
<<<<<<< HEAD
<<<<<<< HEAD
<<<<<<< HEAD
   "id": "f75b4adb",
||||||| 11b9cb7
   "id": "f7d72bf3",
=======
   "id": "5295eaba",
>>>>>>> documentation-devel
||||||| 614e9b1
   "id": "5295eaba",
=======
   "id": "af391bc0",
>>>>>>> documentation-devel
||||||| 856b4c0
<<<<<<< HEAD
   "id": "f75b4adb",
||||||| 11b9cb7
   "id": "f7d72bf3",
=======
   "id": "5295eaba",
>>>>>>> documentation-devel
=======
   "id": "953fe6d2",
>>>>>>> 552590ea8fad969b67afdba27558a1e6cb21016e
||||||| 452c944
   "id": "af391bc0",
=======
   "id": "d0df836e",
>>>>>>> documentation-devel
||||||| 4da3324
<<<<<<< HEAD
<<<<<<< HEAD
<<<<<<< HEAD
   "id": "f75b4adb",
||||||| 11b9cb7
   "id": "f7d72bf3",
=======
   "id": "5295eaba",
>>>>>>> documentation-devel
||||||| 614e9b1
   "id": "5295eaba",
=======
   "id": "af391bc0",
>>>>>>> documentation-devel
||||||| 856b4c0
<<<<<<< HEAD
   "id": "f75b4adb",
||||||| 11b9cb7
   "id": "f7d72bf3",
=======
   "id": "5295eaba",
>>>>>>> documentation-devel
=======
   "id": "953fe6d2",
>>>>>>> 552590ea8fad969b67afdba27558a1e6cb21016e
=======
   "id": "8bc1b975",
>>>>>>> b6e07d13baac92b2c1c9b43f8e4113ffa87bf495
   "metadata": {
    "lines_to_next_cell": 0
   },
   "source": [
    "It appears that the genes with the highest spatial autocorrelation seem to have obvious expression patterns in the tissue. \n",
    "\n",
    "It would be interesting to see if these genes are also differentially expressed in the clusters above. Non-spatial differential gene expression can be interrogated using the `findMarkers()` function implemented in the `scran` package and more complex methods for identifying spatially variable genes are actively being developed. \n",
    "\n",
    "These analyses bring up interesting considerations. For one, it is unclear whether normalization scheme employed here effectively removes FOV batch effects. That said, there may be times where FOV differences are expected and represent biological differences, for example in the context of a tumor sample. It remains to be seen what normalization methods will perform best in these cases, and this is represents an area for research.\n",
    "\n",
    "# Session Info"
   ]
  },
  {
   "cell_type": "code",
   "execution_count": null,
<<<<<<< HEAD
<<<<<<< HEAD
<<<<<<< HEAD
<<<<<<< HEAD
<<<<<<< HEAD
   "id": "cecd6b02",
||||||| 11b9cb7
   "id": "6d2fafed",
=======
   "id": "b080fbd2",
>>>>>>> documentation-devel
||||||| 614e9b1
   "id": "b080fbd2",
=======
   "id": "b94a1efa",
>>>>>>> documentation-devel
||||||| 856b4c0
<<<<<<< HEAD
   "id": "cecd6b02",
||||||| 11b9cb7
   "id": "6d2fafed",
=======
   "id": "b080fbd2",
>>>>>>> documentation-devel
=======
   "id": "5993e103",
>>>>>>> 552590ea8fad969b67afdba27558a1e6cb21016e
||||||| 452c944
   "id": "b94a1efa",
=======
   "id": "25456ae0",
>>>>>>> documentation-devel
||||||| 4da3324
<<<<<<< HEAD
<<<<<<< HEAD
<<<<<<< HEAD
   "id": "cecd6b02",
||||||| 11b9cb7
   "id": "6d2fafed",
=======
   "id": "b080fbd2",
>>>>>>> documentation-devel
||||||| 614e9b1
   "id": "b080fbd2",
=======
   "id": "b94a1efa",
>>>>>>> documentation-devel
||||||| 856b4c0
<<<<<<< HEAD
   "id": "cecd6b02",
||||||| 11b9cb7
   "id": "6d2fafed",
=======
   "id": "b080fbd2",
>>>>>>> documentation-devel
=======
   "id": "5993e103",
>>>>>>> 552590ea8fad969b67afdba27558a1e6cb21016e
=======
   "id": "b824ca3c",
>>>>>>> b6e07d13baac92b2c1c9b43f8e4113ffa87bf495
   "metadata": {},
   "outputs": [],
   "source": [
    "sessionInfo()"
   ]
  },
  {
   "cell_type": "markdown",
<<<<<<< HEAD
<<<<<<< HEAD
<<<<<<< HEAD
<<<<<<< HEAD
<<<<<<< HEAD
   "id": "d01e5411",
||||||| 11b9cb7
   "id": "4ef9f41d",
=======
   "id": "8fcb24a4",
>>>>>>> documentation-devel
||||||| 614e9b1
   "id": "8fcb24a4",
=======
   "id": "3538dac4",
>>>>>>> documentation-devel
||||||| 856b4c0
<<<<<<< HEAD
   "id": "d01e5411",
||||||| 11b9cb7
   "id": "4ef9f41d",
=======
   "id": "8fcb24a4",
>>>>>>> documentation-devel
=======
   "id": "a4ef090c",
>>>>>>> 552590ea8fad969b67afdba27558a1e6cb21016e
||||||| 452c944
   "id": "3538dac4",
=======
   "id": "aa93a71a",
>>>>>>> documentation-devel
||||||| 4da3324
<<<<<<< HEAD
<<<<<<< HEAD
<<<<<<< HEAD
   "id": "d01e5411",
||||||| 11b9cb7
   "id": "4ef9f41d",
=======
   "id": "8fcb24a4",
>>>>>>> documentation-devel
||||||| 614e9b1
   "id": "8fcb24a4",
=======
   "id": "3538dac4",
>>>>>>> documentation-devel
||||||| 856b4c0
<<<<<<< HEAD
   "id": "d01e5411",
||||||| 11b9cb7
   "id": "4ef9f41d",
=======
   "id": "8fcb24a4",
>>>>>>> documentation-devel
=======
   "id": "a4ef090c",
>>>>>>> 552590ea8fad969b67afdba27558a1e6cb21016e
=======
   "id": "e3ff1f92",
>>>>>>> b6e07d13baac92b2c1c9b43f8e4113ffa87bf495
   "metadata": {},
   "source": [
    "# References"
   ]
  }
 ],
 "metadata": {
  "kernelspec": {
   "display_name": "R",
   "language": "R",
   "name": "ir"
  }
 },
 "nbformat": 4,
 "nbformat_minor": 5
}
