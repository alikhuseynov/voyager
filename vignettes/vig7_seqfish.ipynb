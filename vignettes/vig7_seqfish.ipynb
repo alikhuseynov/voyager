{
 "cells": [
  {
   "cell_type": "raw",
<<<<<<< HEAD
<<<<<<< HEAD
   "id": "895309e1",
||||||| merged common ancestors
   "id": "ac230c71",
=======
   "id": "bf660155",
>>>>>>> documentation-devel
||||||| f5a2d7c
   "id": "bf660155",
=======
   "id": "1ac2f5c2",
>>>>>>> documentation-devel
   "metadata": {},
   "source": [
    "---\n",
    "title: \"seqFISH exploratory data analysis\"\n",
    "author: \"Kayla Jackson\"\n",
    "date: \"`r Sys.Date()`\"\n",
    "output: \n",
    "  html_document:\n",
    "  toc: true\n",
    "  toc_float:\n",
    "    collapsed: false\n",
    "  toc_depth: 3\n",
    "bibliography: ref.bib\n",
    "vignette: >\n",
    "  %\\VignetteIndexEntry{seqfish_basic}\n",
    "  %\\VignetteEngine{knitr::rmarkdown}\n",
    "  %\\VignetteEncoding{UTF-8}\n",
    "---"
   ]
  },
  {
   "cell_type": "code",
   "execution_count": null,
<<<<<<< HEAD
<<<<<<< HEAD
   "id": "71e5dfbe",
||||||| merged common ancestors
   "id": "5e55ac7c",
=======
   "id": "f95ca39e",
>>>>>>> documentation-devel
||||||| f5a2d7c
   "id": "f95ca39e",
=======
   "id": "a65df364",
>>>>>>> documentation-devel
   "metadata": {
    "tags": [
     "remove_cell"
    ]
   },
   "outputs": [],
   "source": [
    "knitr::opts_chunk$set(\n",
    "  collapse = TRUE,\n",
    "  comment = \"#>\", fig.align = \"center\"\n",
    ")"
   ]
  },
  {
   "cell_type": "code",
   "execution_count": null,
<<<<<<< HEAD
<<<<<<< HEAD
   "id": "743488c0",
||||||| merged common ancestors
   "id": "413bdfbc",
=======
   "id": "3dec1c7b",
>>>>>>> documentation-devel
||||||| f5a2d7c
   "id": "3dec1c7b",
=======
   "id": "c2e3b53d",
>>>>>>> documentation-devel
   "metadata": {
    "eval": false,
    "tags": [
     "remove_cell"
    ]
   },
   "outputs": [],
   "source": [
    "# Install Google Colab dependencies\n",
    "# Note: this can take 30+ minutes (many of the dependencies include C++ code, which needs to be compiled)\n",
    "\n",
    "# First install `sf`, `ragg` and `textshaping` and their system dependencies:\n",
    "system(\"apt-get -y update && apt-get install -y  libudunits2-dev libgdal-dev libgeos-dev libproj-dev libharfbuzz-dev libfribidi-dev\")\n",
    "install.packages(\"sf\")\n",
    "install.packages(\"textshaping\")\n",
    "install.packages(\"ragg\")\n",
    "\n",
    "# Install system dependencies of some other R packages that Voyager either imports or suggests:\n",
    "system(\"apt-get install -y libfribidi-dev libcairo2-dev libmagick++-dev\")\n",
    "\n",
    "# Install Voyager from Bioconductor:\n",
    "install.packages(\"BiocManager\")\n",
    "BiocManager::install(version = \"3.17\", ask = FALSE, update = FALSE, Ncpus = 2)\n",
    "BiocManager::install(\"scater\")\n",
    "system.time(\n",
    "  BiocManager::install(\"Voyager\", dependencies = TRUE, Ncpus = 2, update = FALSE)\n",
    ")\n",
    "\n",
    "# Install additional dependencies for this vignette\n",
    "BiocManager::install(\"batchelor\")\n",
    "BiocManager::install(\"fossil\")\n",
    "\n",
    "packageVersion(\"Voyager\")"
   ]
  },
  {
   "cell_type": "markdown",
<<<<<<< HEAD
<<<<<<< HEAD
   "id": "2fb5c9e9",
||||||| merged common ancestors
   "id": "c98c88cf",
=======
   "id": "75937f39",
>>>>>>> documentation-devel
||||||| f5a2d7c
   "id": "75937f39",
=======
   "id": "d7c51221",
>>>>>>> documentation-devel
   "metadata": {
    "lines_to_next_cell": 0
   },
   "source": [
    "# Introduction\n",
    "\n",
    "# Dataset\n",
    "The data used in this vignette are described in [Integration of spatial and single-cell transcriptomic data elucidates mouse organogenesis](https://doi.org/10.1038/s41587-021-01006-2). Briefly, seqFISH was use to profile 351 genes in several mouse embryos at the 8-12 somite stage (ss). We will focus on a single biological replicate, embryo 3. The raw and processed counts and corresponding metadata are available to download from the [Marioni lab](https://content.cruk.cam.ac.uk/jmlab/SpatialMouseAtlas2020/). Expression matrices, segmentation data, and segmented cell vertices are provided as R objects that can be readily imported into an R environment. The data relevant to this vignette have been converted to a `SFE` object and are available to download [here](https://caltech.box.com/public/static/ulrqr1gk7oh21h9ejgua1xajs6dsbvrj) from Box.  \n",
    "\n",
    "The data have been added to the `SFEData` package on Bioconductor and will be available in the 3.17 release. \n",
    "\n",
    "We will begin by downloading the data and loading it in to R. "
   ]
  },
  {
   "cell_type": "code",
   "execution_count": null,
<<<<<<< HEAD
<<<<<<< HEAD
   "id": "e0941def",
||||||| merged common ancestors
   "id": "fd86d5a2",
=======
   "id": "7fe4243a",
>>>>>>> documentation-devel
||||||| f5a2d7c
   "id": "7fe4243a",
=======
   "id": "0d4f29f9",
>>>>>>> documentation-devel
   "metadata": {
    "message": false,
    "name": "setup"
   },
   "outputs": [],
   "source": [
    "library(Voyager)\n",
    "library(SFEData)\n",
    "library(SingleCellExperiment)\n",
    "library(SpatialExperiment)\n",
    "library(SpatialFeatureExperiment)\n",
    "library(batchelor)\n",
    "library(scater)\n",
    "library(scran)\n",
    "library(bluster)\n",
    "library(purrr)\n",
    "library(tidyr)\n",
    "library(dplyr)\n",
    "library(fossil)\n",
    "library(ggplot2)\n",
    "library(patchwork)\n",
    "library(spdep)\n",
    "library(BiocParallel)\n",
    "\n",
    "theme_set(theme_bw())"
   ]
  },
  {
   "cell_type": "code",
   "execution_count": null,
<<<<<<< HEAD
<<<<<<< HEAD
   "id": "64f71e7a",
||||||| merged common ancestors
   "id": "29e3fb4c",
=======
   "id": "a04bddf3",
>>>>>>> documentation-devel
||||||| f5a2d7c
   "id": "a04bddf3",
=======
   "id": "18301cc3",
>>>>>>> documentation-devel
   "metadata": {},
   "outputs": [],
   "source": [
    "# Only Bioc 3.17 and above\n",
    "sfe <- LohoffGastrulationData()"
   ]
  },
  {
   "cell_type": "markdown",
<<<<<<< HEAD
<<<<<<< HEAD
   "id": "9d8a7bf4",
||||||| merged common ancestors
   "id": "77f98964",
=======
   "id": "d2616623",
>>>>>>> documentation-devel
||||||| f5a2d7c
   "id": "d2616623",
=======
   "id": "9f07198c",
>>>>>>> documentation-devel
   "metadata": {
    "lines_to_next_cell": 0
   },
   "source": [
    "The rows in the count matrix correspond to the 351 barcoded genes measured by seqFISH. Additionally, the authors provide some metadata, including the field of view and z-slice for each cell. We will filter the count matrix and metadata to include only  cells from a single z-slice. "
   ]
  },
  {
   "cell_type": "code",
   "execution_count": null,
<<<<<<< HEAD
<<<<<<< HEAD
   "id": "11826185",
||||||| merged common ancestors
   "id": "3a761f8f",
=======
   "id": "9f6a625b",
>>>>>>> documentation-devel
||||||| f5a2d7c
   "id": "9f6a625b",
=======
   "id": "a96878f7",
>>>>>>> documentation-devel
   "metadata": {},
   "outputs": [],
   "source": [
    "names(colData(sfe))"
   ]
  },
  {
   "cell_type": "code",
   "execution_count": null,
<<<<<<< HEAD
<<<<<<< HEAD
   "id": "a47c21fb",
||||||| merged common ancestors
   "id": "6d589a99",
=======
   "id": "e98b2681",
>>>>>>> documentation-devel
||||||| f5a2d7c
   "id": "e98b2681",
=======
   "id": "5d7542c4",
>>>>>>> documentation-devel
   "metadata": {},
   "outputs": [],
   "source": [
    "mask <- colData(sfe)$z == 2\n",
    "sfe <- sfe[,mask]"
   ]
  },
  {
   "cell_type": "markdown",
<<<<<<< HEAD
<<<<<<< HEAD
   "id": "4ec62122",
||||||| merged common ancestors
   "id": "b78bdb02",
=======
   "id": "c4ac9cac",
>>>>>>> documentation-devel
||||||| f5a2d7c
   "id": "c4ac9cac",
=======
   "id": "d7a972ef",
>>>>>>> documentation-devel
   "metadata": {
    "lines_to_next_cell": 0
   },
   "source": [
    "# Quality control \n",
    "\n",
    "We will begin quality control (QC) of the cells by computing metrics that are common in single-cell analysis and store them in the `colData` field of the SFE object. Below, we compute the number of counts per cell. We will also compute the average and display it on the violin plot. "
   ]
  },
  {
   "cell_type": "code",
   "execution_count": null,
<<<<<<< HEAD
<<<<<<< HEAD
   "id": "765ad391",
||||||| merged common ancestors
   "id": "edc6fc59",
=======
   "id": "f8f8865a",
>>>>>>> documentation-devel
||||||| f5a2d7c
   "id": "f8f8865a",
=======
   "id": "5b4b828f",
>>>>>>> documentation-devel
   "metadata": {},
   "outputs": [],
   "source": [
    "colData(sfe)$nCounts <- colSums(counts(sfe))\n",
    "avg <- mean(colData(sfe)$nCounts)\n",
    "\n",
    "violin <- plotColData(sfe, \"nCounts\") +\n",
    "    geom_hline(yintercept = avg, color='red') +\n",
    "    theme(legend.position = \"top\") \n",
    "\n",
    "spatial <- plotSpatialFeature(sfe, \"nCounts\", colGeometryName = \"seg_coords\")\n",
    "\n",
    "violin + spatial"
   ]
  },
  {
   "cell_type": "markdown",
<<<<<<< HEAD
<<<<<<< HEAD
   "id": "2c81cbdc",
||||||| merged common ancestors
   "id": "d7b64442",
=======
   "id": "20fa33e4",
>>>>>>> documentation-devel
||||||| f5a2d7c
   "id": "20fa33e4",
=======
   "id": "7158f4c5",
>>>>>>> documentation-devel
   "metadata": {
    "lines_to_next_cell": 0
   },
   "source": [
    "Notably, the cells in this dataset have fewer counts that would be expected in a single-cell sequencing experiment and the cells with higher counts seem to be dispersed throughout the tissue. Fewer counts are expected in seqFISH experiments where probing for highly expressed genes may lead to optical crowding over multiple imaging rounds.  \n",
    "\n",
    "Since the counts are collected from several fields of view, we will visualize the number of cells and total counts for each field separately. "
   ]
  },
  {
   "cell_type": "code",
   "execution_count": null,
<<<<<<< HEAD
<<<<<<< HEAD
   "id": "abfa9e13",
||||||| merged common ancestors
   "id": "298e1339",
=======
   "id": "f9595918",
>>>>>>> documentation-devel
||||||| f5a2d7c
   "id": "f9595918",
=======
   "id": "2cab3827",
>>>>>>> documentation-devel
   "metadata": {},
   "outputs": [],
   "source": [
    "pos <- colData(sfe)$pos\n",
    "counts_spl <- split.data.frame(t(counts(sfe)), pos)\n",
    "\n",
    "# nCounts per FOV\n",
    "df <- map_dfr(counts_spl, rowSums, .id='pos') |>\n",
    "    pivot_longer(cols=contains('embryo'), values_to = 'nCounts') |>\n",
    "    mutate(pos = factor(pos, levels = paste0(\"Pos\", seq_len(length(unique(pos)))-1))) |> \n",
    "    dplyr::filter(!is.na(nCounts))\n",
    "\n",
    "cells_fov <- colData(sfe) |> \n",
    "    as.data.frame() |> \n",
    "    mutate(pos = factor(pos, levels = paste0(\"Pos\", seq_len(length(unique(pos)))-1))) |> \n",
    "    ggplot(aes(pos,)) +\n",
    "    geom_bar() + \n",
    "    theme_minimal() + \n",
    "    labs(\n",
    "        x = \"\",\n",
    "        y = \"Number of cells\") + \n",
    "    theme(axis.text.x = element_text(angle = 90))\n",
    "\n",
    "counts_fov <- ggplot(df, aes(pos, nCounts)) +\n",
    "    geom_boxplot(outlier.size = 0.5) + \n",
    "    theme_minimal() + \n",
    "    labs(x = \"\", y = 'nCounts') + \n",
    "    theme(axis.text.x = element_text(angle = 90))\n",
    "\n",
    "cells_fov / counts_fov"
   ]
  },
  {
   "cell_type": "markdown",
<<<<<<< HEAD
<<<<<<< HEAD
   "id": "aa058808",
||||||| merged common ancestors
   "id": "bb7058f1",
=======
   "id": "043ce0c3",
>>>>>>> documentation-devel
||||||| f5a2d7c
   "id": "043ce0c3",
=======
   "id": "63e62556",
>>>>>>> documentation-devel
   "metadata": {},
   "source": [
    "There is some variability in the total number of counts in each field of view. It is not completely apparent what accounts for the low number of counts in some FOVs. For example, FOV 22 has the fewest number of cells, but comparably more counts are detected there than in regions with more cells (e.g. FOV 18). \n",
    "\n",
    "Next, will will compute the number of genes detected per cell, defined here as the number of genes with non-zero counts. We will again plot this metric for each FOV as is done above."
   ]
  },
  {
   "cell_type": "code",
   "execution_count": null,
<<<<<<< HEAD
<<<<<<< HEAD
   "id": "4c15f23d",
||||||| merged common ancestors
   "id": "3fd176d3",
=======
   "id": "d6787958",
>>>>>>> documentation-devel
||||||| f5a2d7c
   "id": "d6787958",
=======
   "id": "264bb3d3",
>>>>>>> documentation-devel
   "metadata": {},
   "outputs": [],
   "source": [
    "colData(sfe)$nGenes <- colSums(counts(sfe) > 0)\n",
    "\n",
    "avg <- mean(colData(sfe)$nGenes)\n",
    "\n",
    "violin <- plotColData(sfe, \"nGenes\") +\n",
    "    geom_hline(yintercept = avg, color='red') +\n",
    "    theme(legend.position = \"top\") \n",
    "\n",
    "spatial <- plotSpatialFeature(sfe, \"nGenes\", colGeometryName = \"seg_coords\")\n",
    "\n",
    "violin + spatial"
   ]
  },
  {
   "cell_type": "markdown",
<<<<<<< HEAD
<<<<<<< HEAD
   "id": "46c76e06",
||||||| merged common ancestors
   "id": "cf5b240b",
=======
   "id": "7bc512e9",
>>>>>>> documentation-devel
||||||| f5a2d7c
   "id": "7bc512e9",
=======
   "id": "1598fd26",
>>>>>>> documentation-devel
   "metadata": {
    "lines_to_next_cell": 0
   },
   "source": [
    "Many cells have fewer than 100 detected genes. This in part reflects that the panel of 351 probed genes was chosen to distinguish cell types at these developmental stages and that distinct cell types will likely express a small subset of the 351 genes. The authors also note that the gene panel consists of lowly expressed to moderately expressed genes. Taken together, these technical details can explain the relatively low number of counts and genes per cell. \n",
    "\n",
    "Here, we plot the number of genes detected per cell in each FOV. "
   ]
  },
  {
   "cell_type": "code",
   "execution_count": null,
<<<<<<< HEAD
<<<<<<< HEAD
   "id": "c20ba984",
||||||| merged common ancestors
   "id": "ec1fbc85",
=======
   "id": "adeae775",
>>>>>>> documentation-devel
||||||| f5a2d7c
   "id": "adeae775",
=======
   "id": "da2abcfb",
>>>>>>> documentation-devel
   "metadata": {},
   "outputs": [],
   "source": [
    "df <- map_dfr(counts_spl, ~ rowSums(.x > 0), .id='pos') |>\n",
    "    pivot_longer(cols = contains('embryo'), values_to = 'nGenes') |>\n",
    "    mutate(pos = factor(pos, levels = paste0(\"Pos\", seq_len(length(unique(pos)))-1))) |> \n",
    "    filter(!is.na(nGenes)) |>\n",
    "    merge(df)\n",
    "\n",
    "genes_fov <- ggplot(df, aes(pos, nGenes)) +\n",
    "    geom_boxplot(outlier.size = 0.5) + \n",
    "    theme_bw() + \n",
    "    labs(x = \"\") + \n",
    "    theme(axis.text.x = element_text(angle = 90))\n",
    "\n",
    "genes_fov"
   ]
  },
  {
   "cell_type": "markdown",
<<<<<<< HEAD
<<<<<<< HEAD
   "id": "dcc4fd24",
||||||| merged common ancestors
   "id": "6eba017f",
=======
   "id": "5ff7d77c",
>>>>>>> documentation-devel
||||||| f5a2d7c
   "id": "5ff7d77c",
=======
   "id": "1ebb655c",
>>>>>>> documentation-devel
   "metadata": {},
   "source": [
    "This plot mirrors the plot above for total counts. No single FOV stands out as an obvious outlier. \n",
    "\n",
    "The authors have provided cell type assignments as metadata. We can assess whether the low quality cells tend to be located in a particular FOV. "
   ]
  },
  {
   "cell_type": "code",
   "execution_count": null,
<<<<<<< HEAD
<<<<<<< HEAD
   "id": "3f601935",
||||||| merged common ancestors
   "id": "1d6a5331",
=======
   "id": "6efa4624",
>>>>>>> documentation-devel
||||||| f5a2d7c
   "id": "6efa4624",
=======
   "id": "2403f7fd",
>>>>>>> documentation-devel
   "metadata": {
    "lines_to_next_cell": 0
   },
   "outputs": [],
   "source": [
    "meta <- data.frame(colData(sfe)) \n",
    "\n",
    "meta <- meta |> \n",
    "    group_by(pos) |> \n",
    "    add_tally(name = \"nCells_FOV\") |> \n",
    "    filter(celltype_mapped_refined %in% \"Low quality\") |> \n",
    "    add_tally(name = \"nLQ_FOV\") |> \n",
    "    mutate(prop_lq = nLQ_FOV/nCells_FOV) |>\n",
    "    distinct(pos, prop_lq) |> \n",
    "    ungroup() |> \n",
    "    mutate(pos = factor(pos, levels = paste0(\"Pos\", seq_len(length(unique(pos)))-1)))\n",
    "\n",
    "prop_lq <- ggplot(meta, aes(pos, prop_lq)) + \n",
    "    geom_bar(stat = 'identity' ) + \n",
    "    theme(axis.text.x = element_text(angle = 90)) \n",
    "\n",
    "prop_lq"
   ]
  },
  {
   "cell_type": "markdown",
<<<<<<< HEAD
<<<<<<< HEAD
   "id": "3f8c86bd",
||||||| merged common ancestors
   "id": "d3e0cd41",
=======
   "id": "515ae3f5",
>>>>>>> documentation-devel
||||||| f5a2d7c
   "id": "515ae3f5",
=======
   "id": "653d4a0f",
>>>>>>> documentation-devel
   "metadata": {
    "lines_to_next_cell": 0
   },
   "source": [
    "It appears that FOV 26 and 31 have the largest fraction of low quality cells. Interestingly, these do not correspond to the FOVs with the largest number of cells overall. \n",
    "\n",
    "Here we plot nCounts vs. nGenes for each FOV. "
   ]
  },
  {
   "cell_type": "code",
   "execution_count": null,
<<<<<<< HEAD
<<<<<<< HEAD
   "id": "d6383ecb",
||||||| merged common ancestors
   "id": "881cbf62",
=======
   "id": "9233b3ed",
>>>>>>> documentation-devel
||||||| f5a2d7c
   "id": "9233b3ed",
=======
   "id": "ad4c3a6d",
>>>>>>> documentation-devel
   "metadata": {
    "fig.height": 6,
    "fig.width": 9
   },
   "outputs": [],
   "source": [
    "count_vs_genes_p <- ggplot(df, aes(nCounts, nGenes)) + \n",
    "  geom_point(\n",
    "    alpha = 0.5,\n",
    "    size = 1,\n",
    "    fill = \"white\"\n",
    "  ) +\n",
    "  facet_wrap(~ pos)\n",
    "\n",
    "count_vs_genes_p "
   ]
  },
  {
   "cell_type": "markdown",
<<<<<<< HEAD
<<<<<<< HEAD
   "id": "1cd59536",
||||||| merged common ancestors
   "id": "440d095e",
=======
   "id": "d362340b",
>>>>>>> documentation-devel
||||||| f5a2d7c
   "id": "d362340b",
=======
   "id": "211a0666",
>>>>>>> documentation-devel
   "metadata": {
    "lines_to_next_cell": 0
   },
   "source": [
    "As in scRNA-seq, gene expression variance in seqFISH measurements is overdispersed compared to variance of counts that are Poisson distributed."
   ]
  },
  {
   "cell_type": "code",
   "execution_count": null,
<<<<<<< HEAD
<<<<<<< HEAD
   "id": "c0619ea6",
||||||| merged common ancestors
   "id": "1d23f22d",
=======
   "id": "63a778f1",
>>>>>>> documentation-devel
||||||| f5a2d7c
   "id": "63a778f1",
=======
   "id": "caf99c9c",
>>>>>>> documentation-devel
   "metadata": {
    "lines_to_next_cell": 0
   },
   "outputs": [],
   "source": [
    "gene_meta <- map_dfr(counts_spl, colMeans, .id = 'pos') |> \n",
    "  pivot_longer(cols = -pos, names_to = 'gene', values_to = 'mean')\n",
    "\n",
    "gene_meta <- map_dfr(counts_spl, ~colVars(.x, useNames = TRUE), .id = 'pos') |> \n",
    "  pivot_longer(-pos, names_to = 'gene', values_to='variance') |> \n",
    "  full_join(gene_meta)"
   ]
  },
  {
   "cell_type": "markdown",
<<<<<<< HEAD
<<<<<<< HEAD
   "id": "2e2c41c1",
||||||| merged common ancestors
   "id": "10d052aa",
=======
   "id": "332acc79",
>>>>>>> documentation-devel
||||||| f5a2d7c
   "id": "332acc79",
=======
   "id": "118492de",
>>>>>>> documentation-devel
   "metadata": {
    "lines_to_next_cell": 0
   },
   "source": [
    "To understand the mean-variance relationship, we compute the mean and variance for each gene among cells in tissue. As above, we will perform this calculation separately for each FOV"
   ]
  },
  {
   "cell_type": "code",
   "execution_count": null,
<<<<<<< HEAD
<<<<<<< HEAD
   "id": "4976bad9",
||||||| merged common ancestors
   "id": "2abdde81",
=======
   "id": "38ce88d8",
>>>>>>> documentation-devel
||||||| f5a2d7c
   "id": "38ce88d8",
=======
   "id": "d9e2efab",
>>>>>>> documentation-devel
   "metadata": {
    "fig.height": 6,
    "fig.width": 9
   },
   "outputs": [],
   "source": [
    "ggplot(gene_meta, aes(mean, variance)) + \n",
    "  geom_point(\n",
    "    alpha = 0.5,\n",
    "    size = 1,\n",
    "    fill = \"white\"\n",
    "  ) +\n",
    "  facet_wrap(~ pos) +\n",
    "  geom_abline(slope = 1, intercept = 0, color = \"red\") +\n",
    "  scale_x_log10() + scale_y_log10() +\n",
    "  annotation_logticks()"
   ]
  },
  {
   "cell_type": "markdown",
<<<<<<< HEAD
<<<<<<< HEAD
   "id": "59b14181",
||||||| merged common ancestors
   "id": "469c01a2",
=======
   "id": "fb3f2f4a",
>>>>>>> documentation-devel
||||||| f5a2d7c
   "id": "fb3f2f4a",
=======
   "id": "58a58813",
>>>>>>> documentation-devel
   "metadata": {
    "lines_to_next_cell": 0
   },
   "source": [
    "The red line represents the line $y = x$, which is the mean-variance relationship that would be expected for Poisson distributed data. The data deviate from this expectation in each FOV. In each case, the variance is greater than what would be expected. \n",
    "\n",
    "# Data normalization and dimension reduction\n",
    "The exploratory analysis above indicates the presence of batch effects corresponding to FOV. We will use a normalization scheme that is batch aware. As the SFE object inherits from the `SpatialExperiment`and `SingleCellExperiment`, classes, we can take advantage of normalization methods implemented in the `scran` and `batchelor` R packages.\n",
    "\n",
    "We will first use the `multiBatchNorm()` function to scale the data within each batch. As noted in the documentation, the function uses median-based normalization on the ratio of the average counts between batches. \n",
    "\n",
    "Batch correction and dimension reduction is accomplished using `fastMNN()` which performs multi-sample PCA across multiple gene expression matrices to project all cells to a common low-dimensional space."
   ]
  },
  {
   "cell_type": "code",
   "execution_count": null,
<<<<<<< HEAD
<<<<<<< HEAD
   "id": "37217e00",
||||||| merged common ancestors
   "id": "df185782",
=======
   "id": "ea1a2f26",
>>>>>>> documentation-devel
||||||| f5a2d7c
   "id": "ea1a2f26",
=======
   "id": "b3ad9253",
>>>>>>> documentation-devel
   "metadata": {},
   "outputs": [],
   "source": [
    "sfe <- multiBatchNorm(sfe, batch = pos)\n",
    "sfe_red <- fastMNN(sfe, batch = pos, cos.norm = FALSE, d = 20)"
   ]
  },
  {
   "cell_type": "markdown",
<<<<<<< HEAD
<<<<<<< HEAD
   "id": "b36a90f0",
||||||| merged common ancestors
   "id": "6e66adee",
=======
   "id": "f5e6f8b9",
>>>>>>> documentation-devel
||||||| f5a2d7c
   "id": "f5e6f8b9",
=======
   "id": "6a012e88",
>>>>>>> documentation-devel
   "metadata": {
    "lines_to_next_cell": 0
   },
   "source": [
    "The function `fastMNN` returns a batch-corrected matrix in the `reducedDims` slot of a `SingleCellExperiment` object. We will extract the relevant data and store them in the SFE ojbject. "
   ]
  },
  {
   "cell_type": "code",
   "execution_count": null,
<<<<<<< HEAD
<<<<<<< HEAD
   "id": "ff54660e",
||||||| merged common ancestors
   "id": "e806eb9c",
=======
   "id": "983e352f",
>>>>>>> documentation-devel
||||||| f5a2d7c
   "id": "983e352f",
=======
   "id": "ff713948",
>>>>>>> documentation-devel
   "metadata": {},
   "outputs": [],
   "source": [
    "reducedDim(sfe, \"PCA\") <- reducedDim(sfe_red, \"corrected\")\n",
    "assay(sfe, \"reconstructed\") <- assay(sfe_red, \"reconstructed\") "
   ]
  },
  {
   "cell_type": "markdown",
<<<<<<< HEAD
<<<<<<< HEAD
   "id": "7b13ed68",
||||||| merged common ancestors
   "id": "3a423594",
=======
   "id": "1d311d23",
>>>>>>> documentation-devel
||||||| f5a2d7c
   "id": "1d311d23",
=======
   "id": "91993816",
>>>>>>> documentation-devel
   "metadata": {
    "lines_to_next_cell": 0
   },
   "source": [
    "Now we will visualize the first two PCs in space. Here we notice that the PCs may show some spatial structure that correlates to biological niches of cells. "
   ]
  },
  {
   "cell_type": "code",
   "execution_count": null,
<<<<<<< HEAD
<<<<<<< HEAD
   "id": "f5ee4b1d",
||||||| merged common ancestors
   "id": "ff9ea9aa",
=======
   "id": "42e82571",
>>>>>>> documentation-devel
||||||| f5a2d7c
   "id": "42e82571",
=======
   "id": "6eaa2935",
>>>>>>> documentation-devel
   "metadata": {},
   "outputs": [],
   "source": [
    "spatialReducedDim(sfe, \"PCA\", ncomponents = 2, divergent = TRUE, diverge_center = 0)"
   ]
  },
  {
   "cell_type": "markdown",
<<<<<<< HEAD
<<<<<<< HEAD
   "id": "6e47cd7a",
||||||| merged common ancestors
   "id": "3d1ac06e",
=======
   "id": "29ce02ca",
>>>>>>> documentation-devel
||||||| f5a2d7c
   "id": "29ce02ca",
=======
   "id": "eeca5faf",
>>>>>>> documentation-devel
   "metadata": {
    "lines_to_next_cell": 0
   },
   "source": [
    "Unfortunately, FOV artifacts can still be seen.\n",
    "\n",
    "# Clustering\n",
    "Much like in single cell analysis, we can use the batch-corrected data to cluster the cells. We will implement a graph-based clustering algorithm and plot the resulting clusters in space. "
   ]
  },
  {
   "cell_type": "code",
   "execution_count": null,
<<<<<<< HEAD
<<<<<<< HEAD
   "id": "0033be57",
||||||| merged common ancestors
   "id": "a1b262f0",
=======
   "id": "5279f77c",
>>>>>>> documentation-devel
||||||| f5a2d7c
   "id": "5279f77c",
=======
   "id": "4535b2c0",
>>>>>>> documentation-devel
   "metadata": {},
   "outputs": [],
   "source": [
    "colData(sfe)$cluster <- \n",
    "  clusterRows(reducedDim(sfe, \"PCA\"),\n",
    "                      BLUSPARAM = SNNGraphParam(\n",
    "                        cluster.fun = \"leiden\",\n",
    "                        cluster.args = list(\n",
    "                        resolution_parameter = 0.5,\n",
    "                        objective_function = \"modularity\")\n",
    "                        )\n",
    "              )"
   ]
  },
  {
   "cell_type": "markdown",
<<<<<<< HEAD
<<<<<<< HEAD
   "id": "17873866",
||||||| merged common ancestors
   "id": "1b24de91",
=======
   "id": "82391458",
>>>>>>> documentation-devel
||||||| f5a2d7c
   "id": "82391458",
=======
   "id": "bc2140d1",
>>>>>>> documentation-devel
   "metadata": {
    "lines_to_next_cell": 0
   },
   "source": [
    "The plot below is colored by cluster ID and by the cell types provided by the author. "
   ]
  },
  {
   "cell_type": "code",
   "execution_count": null,
<<<<<<< HEAD
<<<<<<< HEAD
   "id": "da3d91b3",
||||||| merged common ancestors
   "id": "fd904498",
=======
   "id": "49f73e90",
>>>>>>> documentation-devel
||||||| f5a2d7c
   "id": "49f73e90",
=======
   "id": "e194af72",
>>>>>>> documentation-devel
   "metadata": {
    "fig.height": 5,
    "fig.width": 10
   },
   "outputs": [],
   "source": [
    "plotSpatialFeature(sfe, c(\"cluster\", \"celltype_mapped_refined\"), \n",
    "                   colGeometryName = \"seg_coords\")"
   ]
  },
  {
   "cell_type": "markdown",
<<<<<<< HEAD
<<<<<<< HEAD
   "id": "65950d08",
||||||| merged common ancestors
   "id": "aaf46677",
=======
   "id": "b102c89b",
>>>>>>> documentation-devel
||||||| f5a2d7c
   "id": "b102c89b",
=======
   "id": "0e123100",
>>>>>>> documentation-devel
   "metadata": {},
   "source": [
    "The authors have assigned cells to more types than are identified in the clustering step. In any case, the clustering results seem to recapitulate the major cell niches from the previous annotations. We can compute the [Rand index](https://en.wikipedia.org/wiki/Rand_index) using a function from the `fossil` package to assess the similarity between the two clustering results. A value of 1 would suggest the clustering results are identical, while a value of 0 would suggest that the results do not agree at all. "
   ]
  },
  {
   "cell_type": "code",
   "execution_count": null,
<<<<<<< HEAD
<<<<<<< HEAD
   "id": "a159cc71",
||||||| merged common ancestors
   "id": "463eb7c3",
=======
   "id": "039bdd96",
>>>>>>> documentation-devel
||||||| f5a2d7c
   "id": "039bdd96",
=======
   "id": "13ed5b27",
>>>>>>> documentation-devel
   "metadata": {},
   "outputs": [],
   "source": [
    "g1 <- as.numeric(colData(sfe)$cluster)\n",
    "g2 <- as.numeric(colData(sfe)$celltype_mapped_refined)\n",
    "\n",
    "rand.index(g1, g2)"
   ]
  },
  {
   "cell_type": "markdown",
<<<<<<< HEAD
<<<<<<< HEAD
   "id": "64984fb6",
||||||| merged common ancestors
   "id": "badba2f9",
=======
   "id": "84557ea8",
>>>>>>> documentation-devel
||||||| f5a2d7c
   "id": "84557ea8",
=======
   "id": "2eb425e7",
>>>>>>> documentation-devel
   "metadata": {},
   "source": [
    "The relatively large Rand index suggests that cells are often found in the same cluster in both cases. \n",
    "\n",
    "# Univariate Spatial Statistics\n",
    "At this point, we may be interested in identifying genes that exhibit spatial variability, or whose expression depends on spatial location within the tissue. Measures of spatial autocorrelation can be useful in identifyign genes that display spatial variablity. Among the most common measures are Moran's I and Geary's C. In the latter case, a less than 1 indicates positive spatial autocorrelation, while a value larger than 1 points to negative spatial autocorrelation. In the former case, positive and negative values of Moran's I indicate positive and negative spatial autocorrelation, respectively.\n",
    "\n",
    "These tests require a spatial neighborhood graph for computation of the statistic. There are several ways to define spatial neighbors and the `findSpatialNeighbors()` function wraps all of the methods implemented in the `spdep` package. Below, we compute a k-nearest neighborhood graph. The `dist_type = \"idw\"` weights the edges of the graph by the inverse distance between neighbors."
   ]
  },
  {
   "cell_type": "code",
   "execution_count": null,
<<<<<<< HEAD
<<<<<<< HEAD
   "id": "bb75a2f4",
||||||| merged common ancestors
   "id": "65155f05",
=======
   "id": "b0e592a1",
>>>>>>> documentation-devel
||||||| f5a2d7c
   "id": "b0e592a1",
=======
   "id": "8a65e95a",
>>>>>>> documentation-devel
   "metadata": {},
   "outputs": [],
   "source": [
    "colGraph(sfe, \"knn5\") <- findSpatialNeighbors(\n",
    "  sfe, method = \"knearneigh\", dist_type = \"idw\", \n",
    "  k = 5, style = \"W\")"
   ]
  },
  {
   "cell_type": "markdown",
<<<<<<< HEAD
<<<<<<< HEAD
   "id": "4707b826",
||||||| merged common ancestors
   "id": "26048c7f",
=======
   "id": "f3935cc2",
>>>>>>> documentation-devel
||||||| f5a2d7c
   "id": "f3935cc2",
=======
   "id": "addb6122",
>>>>>>> documentation-devel
   "metadata": {
    "lines_to_next_cell": 0
   },
   "source": [
    "We will also save the most variable genes for use in the computations below. "
   ]
  },
  {
   "cell_type": "code",
   "execution_count": null,
<<<<<<< HEAD
<<<<<<< HEAD
   "id": "22956cb9",
||||||| merged common ancestors
   "id": "a1de44ce",
=======
   "id": "c026f64a",
>>>>>>> documentation-devel
||||||| f5a2d7c
   "id": "c026f64a",
=======
   "id": "0247ee9e",
>>>>>>> documentation-devel
   "metadata": {},
   "outputs": [],
   "source": [
    "dec <- modelGeneVar(sfe)\n",
    "hvgs <- getTopHVGs(dec, n = 100)"
   ]
  },
  {
   "cell_type": "markdown",
<<<<<<< HEAD
<<<<<<< HEAD
   "id": "53dc2ef7",
||||||| merged common ancestors
   "id": "ebbf97e3",
=======
   "id": "1e2af37c",
>>>>>>> documentation-devel
||||||| f5a2d7c
   "id": "1e2af37c",
=======
   "id": "a7feb29a",
>>>>>>> documentation-devel
   "metadata": {
    "lines_to_next_cell": 0
   },
   "source": [
    "We use the `runUnivariate()` function to compute the spatial autocorrelation metrics and save the results and save them in the SFE object. The `mc` type for each test implements a permutation test for each statistic and relies on the `nsim` argument for computing a p-value for the statistic. "
   ]
  },
  {
   "cell_type": "code",
   "execution_count": null,
<<<<<<< HEAD
<<<<<<< HEAD
   "id": "74572e3c",
||||||| merged common ancestors
   "id": "72f4a5be",
=======
   "id": "68f507ca",
>>>>>>> documentation-devel
||||||| f5a2d7c
   "id": "68f507ca",
=======
   "id": "add7456d",
>>>>>>> documentation-devel
   "metadata": {},
   "outputs": [],
   "source": [
    "sfe <- runUnivariate(\n",
    "  sfe, type = \"geary.mc\", features = hvgs, \n",
    "  colGraphName = \"knn5\", nsim = 100, BPPARAM = MulticoreParam(2))"
   ]
  },
  {
   "cell_type": "code",
   "execution_count": null,
<<<<<<< HEAD
<<<<<<< HEAD
   "id": "b48a9da0",
||||||| merged common ancestors
   "id": "e7da7d18",
=======
   "id": "082e40f6",
>>>>>>> documentation-devel
||||||| f5a2d7c
   "id": "082e40f6",
=======
   "id": "978ff1fc",
>>>>>>> documentation-devel
   "metadata": {},
   "outputs": [],
   "source": [
    "sfe <- runUnivariate(\n",
    "  sfe, type = \"moran.mc\", features = hvgs,\n",
    "  colGraphName = \"knn5\", nsim = 100, BPPARAM = MulticoreParam(2))\n",
    "\n",
    "sfe <- colDataUnivariate(\n",
    "  sfe, type = \"moran.mc\", features = c(\"nCounts\", \"nGenes\"), \n",
    "  colGraphName = \"knn5\", nsim = 100)"
   ]
  },
  {
   "cell_type": "markdown",
<<<<<<< HEAD
<<<<<<< HEAD
   "id": "c84f13ca",
||||||| merged common ancestors
   "id": "a6161ef8",
=======
   "id": "9204b005",
>>>>>>> documentation-devel
||||||| f5a2d7c
   "id": "9204b005",
=======
   "id": "2267b87f",
>>>>>>> documentation-devel
   "metadata": {
    "lines_to_next_cell": 0
   },
   "source": [
    "We can plot the results of the Monte Carlo simulations: "
   ]
  },
  {
   "cell_type": "code",
   "execution_count": null,
<<<<<<< HEAD
<<<<<<< HEAD
   "id": "d255f86d",
||||||| merged common ancestors
   "id": "06df5a90",
=======
   "id": "949909a8",
>>>>>>> documentation-devel
||||||| f5a2d7c
   "id": "949909a8",
=======
   "id": "fa287509",
>>>>>>> documentation-devel
   "metadata": {},
   "outputs": [],
   "source": [
    "plotMoranMC(sfe, \"Meox1\")"
   ]
  },
  {
   "cell_type": "markdown",
<<<<<<< HEAD
<<<<<<< HEAD
   "id": "ab296ec0",
||||||| merged common ancestors
   "id": "0837be28",
=======
   "id": "34c53044",
>>>>>>> documentation-devel
||||||| f5a2d7c
   "id": "34c53044",
=======
   "id": "a1e4c7d6",
>>>>>>> documentation-devel
   "metadata": {
    "lines_to_next_cell": 0
   },
   "source": [
    "The vertical line represents the observed value of Moran's I and the density represents Moran's I computed from the permuted data. These simulations suggest that the spatial autocorrelation for this feature is significant. \n",
    "\n",
    "The function can also be used to plot the `geary.mc` results. \n",
    "\n",
    "Now, we might ask: which genes display the most spatial autocorrelation? "
   ]
  },
  {
   "cell_type": "code",
   "execution_count": null,
<<<<<<< HEAD
<<<<<<< HEAD
   "id": "320ba05d",
||||||| merged common ancestors
   "id": "1162a699",
=======
   "id": "a92a634f",
>>>>>>> documentation-devel
||||||| f5a2d7c
   "id": "a92a634f",
=======
   "id": "5346f238",
>>>>>>> documentation-devel
   "metadata": {
    "fig.height": 8,
    "fig.width": 8
   },
   "outputs": [],
   "source": [
    "top_moran <- rownames(sfe)[order(-rowData(sfe)$moran.mc_statistic_sample01)[1:4]]\n",
    "\n",
    "plotSpatialFeature(sfe, top_moran, colGeometryName = \"seg_coords\")"
   ]
  },
  {
   "cell_type": "markdown",
<<<<<<< HEAD
<<<<<<< HEAD
   "id": "d7724a59",
||||||| merged common ancestors
   "id": "8db7e128",
=======
   "id": "fb3ddd84",
>>>>>>> documentation-devel
||||||| f5a2d7c
   "id": "fb3ddd84",
=======
   "id": "3af6462b",
>>>>>>> documentation-devel
   "metadata": {
    "lines_to_next_cell": 0
   },
   "source": [
    "It appears that the genes with the highest spatial autocorrelation seem to have obvious expression patterns in the tissue. \n",
    "\n",
    "It would be interesting to see if these genes are also differentially expressed in the clusters above. Non-spatial differential gene expression can be interrogated using the `findMarkers()` function implemented in the `scran` package and more complex methods for identifying spatially variable genes are actively being developed. \n",
    "\n",
    "These analyses bring up interesting considerations. For one, it is unclear whether normalization scheme employed here effectively removes FOV batch effects. That said, there may be times where FOV differences are expected and represent biological differences, for example in the context of a tumor sample. It remains to be seen what normalization methods will perform best in these cases, and this is represents an area for research.\n",
    "\n",
    "# Session Info"
   ]
  },
  {
   "cell_type": "code",
   "execution_count": null,
<<<<<<< HEAD
<<<<<<< HEAD
   "id": "3c374b02",
||||||| merged common ancestors
   "id": "0b420013",
=======
   "id": "8ae45f57",
>>>>>>> documentation-devel
||||||| f5a2d7c
   "id": "8ae45f57",
=======
   "id": "d370726e",
>>>>>>> documentation-devel
   "metadata": {},
   "outputs": [],
   "source": [
    "sessionInfo()"
   ]
  },
  {
   "cell_type": "markdown",
<<<<<<< HEAD
<<<<<<< HEAD
   "id": "7da1d825",
||||||| merged common ancestors
   "id": "b4a97eb0",
=======
   "id": "d5f5d534",
>>>>>>> documentation-devel
||||||| f5a2d7c
   "id": "d5f5d534",
=======
   "id": "475866fb",
>>>>>>> documentation-devel
   "metadata": {},
   "source": [
    "# References"
   ]
  }
 ],
 "metadata": {
  "kernelspec": {
   "display_name": "R",
   "language": "R",
   "name": "ir"
  }
 },
 "nbformat": 4,
 "nbformat_minor": 5
}
