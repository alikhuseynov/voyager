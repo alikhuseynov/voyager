{
 "cells": [
  {
   "cell_type": "raw",
<<<<<<< HEAD
   "id": "b34ef68a",
||||||| ff06ad40
   "id": "3c66ad8c",
=======
   "id": "6590a047",
>>>>>>> documentation-devel
   "metadata": {},
   "source": [
    "---\n",
    "title: \"seqFISH exploratory data analysis\"\n",
    "author: \"Kayla Jackson\"\n",
    "date: \"`r Sys.Date()`\"\n",
    "output: \n",
    "  html_document:\n",
    "  toc: true\n",
    "  toc_float:\n",
    "    collapsed: false\n",
    "  toc_depth: 3\n",
    "bibliography: ref.bib\n",
    "vignette: >\n",
    "  %\\VignetteIndexEntry{seqfish_basic}\n",
    "  %\\VignetteEngine{knitr::rmarkdown}\n",
    "  %\\VignetteEncoding{UTF-8}\n",
    "---"
   ]
  },
  {
   "cell_type": "code",
   "execution_count": null,
<<<<<<< HEAD
   "id": "58c3b4bc",
||||||| ff06ad40
   "id": "741b7d96",
=======
   "id": "53c8f339",
>>>>>>> documentation-devel
   "metadata": {
    "tags": [
     "remove_cell"
    ]
   },
   "outputs": [],
   "source": [
    "knitr::opts_chunk$set(\n",
    "  collapse = TRUE,\n",
    "  comment = \"#>\", fig.align = \"center\"\n",
    ")"
   ]
  },
  {
   "cell_type": "code",
   "execution_count": null,
<<<<<<< HEAD
   "id": "0bccd2db",
||||||| ff06ad40
   "id": "d4509e5e",
=======
   "id": "58bcf566",
>>>>>>> documentation-devel
   "metadata": {
    "eval": false,
    "tags": [
     "remove_cell"
    ]
   },
   "outputs": [],
   "source": [
    "# Install Google Colab dependencies\n",
    "# Note: this can take 30+ minutes (many of the dependencies include C++ code, which needs to be compiled)\n",
    "\n",
    "# First install `sf`, `ragg` and `textshaping` and their system dependencies:\n",
    "system(\"apt-get -y update && apt-get install -y  libudunits2-dev libgdal-dev libgeos-dev libproj-dev libharfbuzz-dev libfribidi-dev\")\n",
    "install.packages(\"sf\")\n",
    "install.packages(\"textshaping\")\n",
    "install.packages(\"ragg\")\n",
    "\n",
    "# Install system dependencies of some other R packages that Voyager either imports or suggests:\n",
    "system(\"apt-get install -y libfribidi-dev libcairo2-dev libmagick++-dev\")\n",
    "\n",
    "# Install Voyager from Bioconductor:\n",
    "install.packages(\"BiocManager\")\n",
    "BiocManager::install(version = \"3.17\", ask = FALSE, update = FALSE, Ncpus = 2)\n",
    "BiocManager::install(\"scater\")\n",
    "system.time(\n",
    "  BiocManager::install(\"Voyager\", dependencies = TRUE, Ncpus = 2, update = FALSE)\n",
    ")\n",
    "\n",
    "# Install additional dependencies for this vignette\n",
    "BiocManager::install(\"batchelor\")\n",
    "BiocManager::install(\"fossil\")\n",
    "\n",
    "packageVersion(\"Voyager\")"
   ]
  },
  {
   "cell_type": "markdown",
<<<<<<< HEAD
   "id": "9f1cb549",
||||||| ff06ad40
   "id": "623dde53",
=======
   "id": "9063ed07",
>>>>>>> documentation-devel
   "metadata": {
    "lines_to_next_cell": 0
   },
   "source": [
    "# Introduction\n",
    "\n",
    "# Dataset\n",
    "The data used in this vignette are described in [Integration of spatial and single-cell transcriptomic data elucidates mouse organogenesis](https://doi.org/10.1038/s41587-021-01006-2). Briefly, seqFISH was use to profile 351 genes in several mouse embryos at the 8-12 somite stage (ss). We will focus on a single biological replicate, embryo 3. The raw and processed counts and corresponding metadata are available to download from the [Marioni lab](https://content.cruk.cam.ac.uk/jmlab/SpatialMouseAtlas2020/). Expression matrices, segmentation data, and segmented cell vertices are provided as R objects that can be readily imported into an R environment. The data relevant to this vignette have been converted to a `SFE` object and are available to download [here](https://caltech.box.com/public/static/ulrqr1gk7oh21h9ejgua1xajs6dsbvrj) from Box.  \n",
    "\n",
    "The data have been added to the `SFEData` package on Bioconductor and will be available in the 3.17 release. \n",
    "\n",
    "We will begin by downloading the data and loading it in to R. "
   ]
  },
  {
   "cell_type": "code",
   "execution_count": null,
<<<<<<< HEAD
   "id": "108abc38",
||||||| ff06ad40
   "id": "f9962d9a",
=======
   "id": "cec0d226",
>>>>>>> documentation-devel
   "metadata": {
    "message": false,
    "name": "setup"
   },
   "outputs": [],
   "source": [
    "library(Voyager)\n",
    "library(SFEData)\n",
    "library(SingleCellExperiment)\n",
    "library(SpatialExperiment)\n",
    "library(SpatialFeatureExperiment)\n",
    "library(batchelor)\n",
    "library(scater)\n",
    "library(scran)\n",
    "library(bluster)\n",
    "library(purrr)\n",
    "library(tidyr)\n",
    "library(dplyr)\n",
    "library(fossil)\n",
    "library(ggplot2)\n",
    "library(patchwork)\n",
    "library(spdep)\n",
    "library(BiocParallel)\n",
    "\n",
    "theme_set(theme_bw())"
   ]
  },
  {
   "cell_type": "code",
   "execution_count": null,
<<<<<<< HEAD
   "id": "8416bff1",
||||||| ff06ad40
   "id": "7912d5a1",
=======
   "id": "3e5ebabf",
>>>>>>> documentation-devel
   "metadata": {},
   "outputs": [],
   "source": [
    "# Only Bioc 3.17 and above\n",
    "sfe <- LohoffGastrulationData()"
   ]
  },
  {
   "cell_type": "markdown",
<<<<<<< HEAD
   "id": "8b9aaf1a",
||||||| ff06ad40
   "id": "e2872981",
=======
   "id": "00103374",
>>>>>>> documentation-devel
   "metadata": {
    "lines_to_next_cell": 0
   },
   "source": [
    "The rows in the count matrix correspond to the 351 barcoded genes measured by seqFISH. Additionally, the authors provide some metadata, including the field of view and z-slice for each cell. We will filter the count matrix and metadata to include only  cells from a single z-slice. "
   ]
  },
  {
   "cell_type": "code",
   "execution_count": null,
<<<<<<< HEAD
   "id": "0abec618",
||||||| ff06ad40
   "id": "3490b182",
=======
   "id": "ddc4eaf7",
>>>>>>> documentation-devel
   "metadata": {},
   "outputs": [],
   "source": [
    "names(colData(sfe))"
   ]
  },
  {
   "cell_type": "code",
   "execution_count": null,
<<<<<<< HEAD
   "id": "6515863a",
||||||| ff06ad40
   "id": "597c971c",
=======
   "id": "3bd31dd6",
>>>>>>> documentation-devel
   "metadata": {},
   "outputs": [],
   "source": [
    "mask <- colData(sfe)$z == 2\n",
    "sfe <- sfe[,mask]"
   ]
  },
  {
   "cell_type": "markdown",
<<<<<<< HEAD
   "id": "73888ab8",
||||||| ff06ad40
   "id": "75b77471",
=======
   "id": "b1346b96",
>>>>>>> documentation-devel
   "metadata": {
    "lines_to_next_cell": 0
   },
   "source": [
    "# Quality control \n",
    "\n",
    "We will begin quality control (QC) of the cells by computing metrics that are common in single-cell analysis and store them in the `colData` field of the SFE object. Below, we compute the number of counts per cell. We will also compute the average and display it on the violin plot. "
   ]
  },
  {
   "cell_type": "code",
   "execution_count": null,
<<<<<<< HEAD
   "id": "a6b3ba5f",
||||||| ff06ad40
   "id": "4031a877",
=======
   "id": "87642ff6",
>>>>>>> documentation-devel
   "metadata": {},
   "outputs": [],
   "source": [
    "colData(sfe)$nCounts <- colSums(counts(sfe))\n",
    "avg <- mean(colData(sfe)$nCounts)\n",
    "\n",
    "violin <- plotColData(sfe, \"nCounts\") +\n",
    "    geom_hline(yintercept = avg, color='red') +\n",
    "    theme(legend.position = \"top\") \n",
    "\n",
    "spatial <- plotSpatialFeature(sfe, \"nCounts\", colGeometryName = \"seg_coords\")\n",
    "\n",
    "violin + spatial"
   ]
  },
  {
   "cell_type": "markdown",
<<<<<<< HEAD
   "id": "aefed349",
||||||| ff06ad40
   "id": "55cacb2e",
=======
   "id": "da77f1d7",
>>>>>>> documentation-devel
   "metadata": {
    "lines_to_next_cell": 0
   },
   "source": [
    "Notably, the cells in this dataset have fewer counts that would be expected in a single-cell sequencing experiment and the cells with higher counts seem to be dispersed throughout the tissue. Fewer counts are expected in seqFISH experiments where probing for highly expressed genes may lead to optical crowding over multiple imaging rounds.  \n",
    "\n",
    "Since the counts are collected from several fields of view, we will visualize the number of cells and total counts for each field separately. "
   ]
  },
  {
   "cell_type": "code",
   "execution_count": null,
<<<<<<< HEAD
   "id": "d8be6f05",
||||||| ff06ad40
   "id": "b7b7c317",
=======
   "id": "3da718a0",
>>>>>>> documentation-devel
   "metadata": {},
   "outputs": [],
   "source": [
    "pos <- colData(sfe)$pos\n",
    "counts_spl <- split.data.frame(t(counts(sfe)), pos)\n",
    "\n",
    "# nCounts per FOV\n",
    "df <- map_dfr(counts_spl, rowSums, .id='pos') |>\n",
    "    pivot_longer(cols=contains('embryo'), values_to = 'nCounts') |>\n",
    "    mutate(pos = factor(pos, levels = paste0(\"Pos\", seq_len(length(unique(pos)))-1))) |> \n",
    "    dplyr::filter(!is.na(nCounts))\n",
    "\n",
    "cells_fov <- colData(sfe) |> \n",
    "    as.data.frame() |> \n",
    "    mutate(pos = factor(pos, levels = paste0(\"Pos\", seq_len(length(unique(pos)))-1))) |> \n",
    "    ggplot(aes(pos,)) +\n",
    "    geom_bar() + \n",
    "    theme_minimal() + \n",
    "    labs(\n",
    "        x = \"\",\n",
    "        y = \"Number of cells\") + \n",
    "    theme(axis.text.x = element_text(angle = 90))\n",
    "\n",
    "counts_fov <- ggplot(df, aes(pos, nCounts)) +\n",
    "    geom_boxplot(outlier.size = 0.5) + \n",
    "    theme_minimal() + \n",
    "    labs(x = \"\", y = 'nCounts') + \n",
    "    theme(axis.text.x = element_text(angle = 90))\n",
    "\n",
    "cells_fov / counts_fov"
   ]
  },
  {
   "cell_type": "markdown",
<<<<<<< HEAD
   "id": "0b45b588",
||||||| ff06ad40
   "id": "72401504",
=======
   "id": "09c85f15",
>>>>>>> documentation-devel
   "metadata": {},
   "source": [
    "There is some variability in the total number of counts in each field of view. It is not completely apparent what accounts for the low number of counts in some FOVs. For example, FOV 22 has the fewest number of cells, but comparably more counts are detected there than in regions with more cells (e.g. FOV 18). \n",
    "\n",
    "Next, will will compute the number of genes detected per cell, defined here as the number of genes with non-zero counts. We will again plot this metric for each FOV as is done above."
   ]
  },
  {
   "cell_type": "code",
   "execution_count": null,
<<<<<<< HEAD
   "id": "5d723d8b",
||||||| ff06ad40
   "id": "fed48497",
=======
   "id": "2c8dbbd6",
>>>>>>> documentation-devel
   "metadata": {},
   "outputs": [],
   "source": [
    "colData(sfe)$nGenes <- colSums(counts(sfe) > 0)\n",
    "\n",
    "avg <- mean(colData(sfe)$nGenes)\n",
    "\n",
    "violin <- plotColData(sfe, \"nGenes\") +\n",
    "    geom_hline(yintercept = avg, color='red') +\n",
    "    theme(legend.position = \"top\") \n",
    "\n",
    "spatial <- plotSpatialFeature(sfe, \"nGenes\", colGeometryName = \"seg_coords\")\n",
    "\n",
    "violin + spatial"
   ]
  },
  {
   "cell_type": "markdown",
<<<<<<< HEAD
   "id": "d59a0efb",
||||||| ff06ad40
   "id": "c0b27913",
=======
   "id": "8dc1a0a3",
>>>>>>> documentation-devel
   "metadata": {
    "lines_to_next_cell": 0
   },
   "source": [
    "Many cells have fewer than 100 detected genes. This in part reflects that the panel of 351 probed genes was chosen to distinguish cell types at these developmental stages and that distinct cell types will likely express a small subset of the 351 genes. The authors also note that the gene panel consists of lowly expressed to moderately expressed genes. Taken together, these technical details can explain the relatively low number of counts and genes per cell. \n",
    "\n",
    "Here, we plot the number of genes detected per cell in each FOV. "
   ]
  },
  {
   "cell_type": "code",
   "execution_count": null,
<<<<<<< HEAD
   "id": "1b309e9b",
||||||| ff06ad40
   "id": "856fe87c",
=======
   "id": "486ab2e0",
>>>>>>> documentation-devel
   "metadata": {},
   "outputs": [],
   "source": [
    "df <- map_dfr(counts_spl, ~ rowSums(.x > 0), .id='pos') |>\n",
    "    pivot_longer(cols = contains('embryo'), values_to = 'nGenes') |>\n",
    "    mutate(pos = factor(pos, levels = paste0(\"Pos\", seq_len(length(unique(pos)))-1))) |> \n",
    "    filter(!is.na(nGenes)) |>\n",
    "    merge(df)\n",
    "\n",
    "genes_fov <- ggplot(df, aes(pos, nGenes)) +\n",
    "    geom_boxplot(outlier.size = 0.5) + \n",
    "    theme_bw() + \n",
    "    labs(x = \"\") + \n",
    "    theme(axis.text.x = element_text(angle = 90))\n",
    "\n",
    "genes_fov"
   ]
  },
  {
   "cell_type": "markdown",
<<<<<<< HEAD
   "id": "9b08c3a1",
||||||| ff06ad40
   "id": "202bd5e4",
=======
   "id": "a6046144",
>>>>>>> documentation-devel
   "metadata": {},
   "source": [
    "This plot mirrors the plot above for total counts. No single FOV stands out as an obvious outlier. \n",
    "\n",
    "The authors have provided cell type assignments as metadata. We can assess whether the low quality cells tend to be located in a particular FOV. "
   ]
  },
  {
   "cell_type": "code",
   "execution_count": null,
<<<<<<< HEAD
   "id": "be64b7f9",
||||||| ff06ad40
   "id": "c4ba044c",
=======
   "id": "3e79b1e9",
>>>>>>> documentation-devel
   "metadata": {
    "lines_to_next_cell": 0
   },
   "outputs": [],
   "source": [
    "meta <- data.frame(colData(sfe)) \n",
    "\n",
    "meta <- meta |> \n",
    "    group_by(pos) |> \n",
    "    add_tally(name = \"nCells_FOV\") |> \n",
    "    filter(celltype_mapped_refined %in% \"Low quality\") |> \n",
    "    add_tally(name = \"nLQ_FOV\") |> \n",
    "    mutate(prop_lq = nLQ_FOV/nCells_FOV) |>\n",
    "    distinct(pos, prop_lq) |> \n",
    "    ungroup() |> \n",
    "    mutate(pos = factor(pos, levels = paste0(\"Pos\", seq_len(length(unique(pos)))-1)))\n",
    "\n",
    "prop_lq <- ggplot(meta, aes(pos, prop_lq)) + \n",
    "    geom_bar(stat = 'identity' ) + \n",
    "    theme(axis.text.x = element_text(angle = 90)) \n",
    "\n",
    "prop_lq"
   ]
  },
  {
   "cell_type": "markdown",
<<<<<<< HEAD
   "id": "60d7f3cb",
||||||| ff06ad40
   "id": "04190f6e",
=======
   "id": "f74e1c96",
>>>>>>> documentation-devel
   "metadata": {
    "lines_to_next_cell": 0
   },
   "source": [
    "It appears that FOV 26 and 31 have the largest fraction of low quality cells. Interestingly, these do not correspond to the FOVs with the largest number of cells overall. \n",
    "\n",
    "Here we plot nCounts vs. nGenes for each FOV. "
   ]
  },
  {
   "cell_type": "code",
   "execution_count": null,
<<<<<<< HEAD
   "id": "cf2d8c2a",
||||||| ff06ad40
   "id": "e2485133",
=======
   "id": "73ff2511",
>>>>>>> documentation-devel
   "metadata": {
    "fig.height": 6,
    "fig.width": 9
   },
   "outputs": [],
   "source": [
    "count_vs_genes_p <- ggplot(df, aes(nCounts, nGenes)) + \n",
    "  geom_point(\n",
    "    alpha = 0.5,\n",
    "    size = 1,\n",
    "    fill = \"white\"\n",
    "  ) +\n",
    "  facet_wrap(~ pos)\n",
    "\n",
    "count_vs_genes_p "
   ]
  },
  {
   "cell_type": "markdown",
<<<<<<< HEAD
   "id": "af92d7cf",
||||||| ff06ad40
   "id": "5667e342",
=======
   "id": "aeba34a4",
>>>>>>> documentation-devel
   "metadata": {
    "lines_to_next_cell": 0
   },
   "source": [
    "As in scRNA-seq, gene expression variance in seqFISH measurements is overdispersed compared to variance of counts that are Poisson distributed."
   ]
  },
  {
   "cell_type": "code",
   "execution_count": null,
<<<<<<< HEAD
   "id": "35d315a8",
||||||| ff06ad40
   "id": "c402a0f9",
=======
   "id": "4f739003",
>>>>>>> documentation-devel
   "metadata": {
    "lines_to_next_cell": 0
   },
   "outputs": [],
   "source": [
    "gene_meta <- map_dfr(counts_spl, colMeans, .id = 'pos') |> \n",
    "  pivot_longer(cols = -pos, names_to = 'gene', values_to = 'mean')\n",
    "\n",
    "gene_meta <- map_dfr(counts_spl, ~colVars(.x, useNames = TRUE), .id = 'pos') |> \n",
    "  pivot_longer(-pos, names_to = 'gene', values_to='variance') |> \n",
    "  full_join(gene_meta)"
   ]
  },
  {
   "cell_type": "markdown",
<<<<<<< HEAD
   "id": "b3efa706",
||||||| ff06ad40
   "id": "2983bb30",
=======
   "id": "f1d2c2e6",
>>>>>>> documentation-devel
   "metadata": {
    "lines_to_next_cell": 0
   },
   "source": [
    "To understand the mean-variance relationship, we compute the mean and variance for each gene among cells in tissue. As above, we will perform this calculation separately for each FOV"
   ]
  },
  {
   "cell_type": "code",
   "execution_count": null,
<<<<<<< HEAD
   "id": "50f1c68e",
||||||| ff06ad40
   "id": "382f1333",
=======
   "id": "00883912",
>>>>>>> documentation-devel
   "metadata": {
    "fig.height": 6,
    "fig.width": 9
   },
   "outputs": [],
   "source": [
    "ggplot(gene_meta, aes(mean, variance)) + \n",
    "  geom_point(\n",
    "    alpha = 0.5,\n",
    "    size = 1,\n",
    "    fill = \"white\"\n",
    "  ) +\n",
    "  facet_wrap(~ pos) +\n",
    "  geom_abline(slope = 1, intercept = 0, color = \"red\") +\n",
    "  scale_x_log10() + scale_y_log10() +\n",
    "  annotation_logticks()"
   ]
  },
  {
   "cell_type": "markdown",
<<<<<<< HEAD
   "id": "ef9ef137",
||||||| ff06ad40
   "id": "f01de8b6",
=======
   "id": "aa7b4f59",
>>>>>>> documentation-devel
   "metadata": {
    "lines_to_next_cell": 0
   },
   "source": [
    "The red line represents the line $y = x$, which is the mean-variance relationship that would be expected for Poisson distributed data. The data deviate from this expectation in each FOV. In each case, the variance is greater than what would be expected. \n",
    "\n",
    "# Data normalization and dimension reduction\n",
    "The exploratory analysis above indicates the presence of batch effects corresponding to FOV. We will use a normalization scheme that is batch aware. As the SFE object inherits from the `SpatialExperiment`and `SingleCellExperiment`, classes, we can take advantage of normalization methods implemented in the `scran` and `batchelor` R packages.\n",
    "\n",
    "We will first use the `multiBatchNorm()` function to scale the data within each batch. As noted in the documentation, the function uses median-based normalization on the ratio of the average counts between batches. \n",
    "\n",
    "Batch correction and dimension reduction is accomplished using `fastMNN()` which performs multi-sample PCA across multiple gene expression matrices to project all cells to a common low-dimensional space."
   ]
  },
  {
   "cell_type": "code",
   "execution_count": null,
<<<<<<< HEAD
   "id": "3f60d756",
||||||| ff06ad40
   "id": "c625bb19",
=======
   "id": "f0391903",
>>>>>>> documentation-devel
   "metadata": {},
   "outputs": [],
   "source": [
    "sfe <- multiBatchNorm(sfe, batch = pos)\n",
    "sfe_red <- fastMNN(sfe, batch = pos, cos.norm = FALSE, d = 20)"
   ]
  },
  {
   "cell_type": "markdown",
<<<<<<< HEAD
   "id": "42e9d86d",
||||||| ff06ad40
   "id": "ef05e550",
=======
   "id": "901237e4",
>>>>>>> documentation-devel
   "metadata": {
    "lines_to_next_cell": 0
   },
   "source": [
    "The function `fastMNN` returns a batch-corrected matrix in the `reducedDims` slot of a `SingleCellExperiment` object. We will extract the relevant data and store them in the SFE ojbject. "
   ]
  },
  {
   "cell_type": "code",
   "execution_count": null,
<<<<<<< HEAD
   "id": "aaad4563",
||||||| ff06ad40
   "id": "bfdf43bc",
=======
   "id": "f6efb8d3",
>>>>>>> documentation-devel
   "metadata": {},
   "outputs": [],
   "source": [
    "reducedDim(sfe, \"PCA\") <- reducedDim(sfe_red, \"corrected\")\n",
    "assay(sfe, \"reconstructed\") <- assay(sfe_red, \"reconstructed\") "
   ]
  },
  {
   "cell_type": "markdown",
<<<<<<< HEAD
   "id": "76485afc",
||||||| ff06ad40
   "id": "1cf671dd",
=======
   "id": "dd3dc921",
>>>>>>> documentation-devel
   "metadata": {
    "lines_to_next_cell": 0
   },
   "source": [
    "Now we will visualize the first two PCs in space. Here we notice that the PCs may show some spatial structure that correlates to biological niches of cells. "
   ]
  },
  {
   "cell_type": "code",
   "execution_count": null,
<<<<<<< HEAD
   "id": "e9e87c88",
||||||| ff06ad40
   "id": "0bb17863",
=======
   "id": "6d422651",
>>>>>>> documentation-devel
   "metadata": {},
   "outputs": [],
   "source": [
    "spatialReducedDim(sfe, \"PCA\", ncomponents = 2, divergent = TRUE, diverge_center = 0)"
   ]
  },
  {
   "cell_type": "markdown",
<<<<<<< HEAD
   "id": "c0c3b029",
||||||| ff06ad40
   "id": "f69c4d25",
=======
   "id": "5523252a",
>>>>>>> documentation-devel
   "metadata": {
    "lines_to_next_cell": 0
   },
   "source": [
    "Unfortunately, FOV artifacts can still be seen.\n",
    "\n",
    "# Clustering\n",
    "Much like in single cell analysis, we can use the batch-corrected data to cluster the cells. We will implement a graph-based clustering algorithm and plot the resulting clusters in space. "
   ]
  },
  {
   "cell_type": "code",
   "execution_count": null,
<<<<<<< HEAD
   "id": "c932b08a",
||||||| ff06ad40
   "id": "672474b7",
=======
   "id": "86c349fd",
>>>>>>> documentation-devel
   "metadata": {},
   "outputs": [],
   "source": [
    "colData(sfe)$cluster <- \n",
    "  clusterRows(reducedDim(sfe, \"PCA\"),\n",
    "                      BLUSPARAM = SNNGraphParam(\n",
    "                        cluster.fun = \"leiden\",\n",
    "                        cluster.args = list(\n",
    "                        resolution_parameter = 0.5,\n",
    "                        objective_function = \"modularity\")\n",
    "                        )\n",
    "              )"
   ]
  },
  {
   "cell_type": "markdown",
<<<<<<< HEAD
   "id": "f62999cd",
||||||| ff06ad40
   "id": "17b93bca",
=======
   "id": "1f6819f5",
>>>>>>> documentation-devel
   "metadata": {
    "lines_to_next_cell": 0
   },
   "source": [
    "The plot below is colored by cluster ID and by the cell types provided by the author. "
   ]
  },
  {
   "cell_type": "code",
   "execution_count": null,
<<<<<<< HEAD
   "id": "6a967410",
||||||| ff06ad40
   "id": "90227268",
=======
   "id": "ef19b003",
>>>>>>> documentation-devel
   "metadata": {
    "fig.height": 5,
    "fig.width": 10
   },
   "outputs": [],
   "source": [
    "plotSpatialFeature(sfe, c(\"cluster\", \"celltype_mapped_refined\"), \n",
    "                   colGeometryName = \"seg_coords\")"
   ]
  },
  {
   "cell_type": "markdown",
<<<<<<< HEAD
   "id": "c9133c50",
||||||| ff06ad40
   "id": "4c3c1645",
=======
   "id": "03831a60",
>>>>>>> documentation-devel
   "metadata": {},
   "source": [
    "The authors have assigned cells to more types than are identified in the clustering step. In any case, the clustering results seem to recapitulate the major cell niches from the previous annotations. We can compute the [Rand index](https://en.wikipedia.org/wiki/Rand_index) using a function from the `fossil` package to assess the similarity between the two clustering results. A value of 1 would suggest the clustering results are identical, while a value of 0 would suggest that the results do not agree at all. "
   ]
  },
  {
   "cell_type": "code",
   "execution_count": null,
<<<<<<< HEAD
   "id": "22bbc7a8",
||||||| ff06ad40
   "id": "d9f5ca87",
=======
   "id": "5745da87",
>>>>>>> documentation-devel
   "metadata": {},
   "outputs": [],
   "source": [
    "g1 <- as.numeric(colData(sfe)$cluster)\n",
    "g2 <- as.numeric(colData(sfe)$celltype_mapped_refined)\n",
    "\n",
    "rand.index(g1, g2)"
   ]
  },
  {
   "cell_type": "markdown",
<<<<<<< HEAD
   "id": "ccb43ed4",
||||||| ff06ad40
   "id": "9bf510d0",
=======
   "id": "5eb9fccd",
>>>>>>> documentation-devel
   "metadata": {},
   "source": [
    "The relatively large Rand index suggests that cells are often found in the same cluster in both cases. \n",
    "\n",
    "# Univariate Spatial Statistics\n",
    "At this point, we may be interested in identifying genes that exhibit spatial variability, or whose expression depends on spatial location within the tissue. Measures of spatial autocorrelation can be useful in identifyign genes that display spatial variablity. Among the most common measures are Moran's I and Geary's C. In the latter case, a less than 1 indicates positive spatial autocorrelation, while a value larger than 1 points to negative spatial autocorrelation. In the former case, positive and negative values of Moran's I indicate positive and negative spatial autocorrelation, respectively.\n",
    "\n",
    "These tests require a spatial neighborhood graph for computation of the statistic. There are several ways to define spatial neighbors and the `findSpatialNeighbors()` function wraps all of the methods implemented in the `spdep` package. Below, we compute a k-nearest neighborhood graph. The `dist_type = \"idw\"` weights the edges of the graph by the inverse distance between neighbors."
   ]
  },
  {
   "cell_type": "code",
   "execution_count": null,
<<<<<<< HEAD
   "id": "2de315c1",
||||||| ff06ad40
   "id": "2472955b",
=======
   "id": "bc0727d2",
>>>>>>> documentation-devel
   "metadata": {},
   "outputs": [],
   "source": [
    "colGraph(sfe, \"knn5\") <- findSpatialNeighbors(\n",
    "  sfe, method = \"knearneigh\", dist_type = \"idw\", \n",
    "  k = 5, style = \"W\")"
   ]
  },
  {
   "cell_type": "markdown",
<<<<<<< HEAD
   "id": "611a993d",
||||||| ff06ad40
   "id": "b99113df",
=======
   "id": "acbdb4b7",
>>>>>>> documentation-devel
   "metadata": {
    "lines_to_next_cell": 0
   },
   "source": [
    "We will also save the most variable genes for use in the computations below. "
   ]
  },
  {
   "cell_type": "code",
   "execution_count": null,
<<<<<<< HEAD
   "id": "e8218e23",
||||||| ff06ad40
   "id": "9328e434",
=======
   "id": "08427ac0",
>>>>>>> documentation-devel
   "metadata": {},
   "outputs": [],
   "source": [
    "dec <- modelGeneVar(sfe)\n",
    "hvgs <- getTopHVGs(dec, n = 100)"
   ]
  },
  {
   "cell_type": "markdown",
<<<<<<< HEAD
   "id": "a0f44bca",
||||||| ff06ad40
   "id": "aa17e6d1",
=======
   "id": "6270c3ac",
>>>>>>> documentation-devel
   "metadata": {
    "lines_to_next_cell": 0
   },
   "source": [
    "We use the `runUnivariate()` function to compute the spatial autocorrelation metrics and save the results and save them in the SFE object. The `mc` type for each test implements a permutation test for each statistic and relies on the `nsim` argument for computing a p-value for the statistic. "
   ]
  },
  {
   "cell_type": "code",
   "execution_count": null,
<<<<<<< HEAD
   "id": "9e81360e",
||||||| ff06ad40
   "id": "a0b43308",
=======
   "id": "4e029127",
>>>>>>> documentation-devel
   "metadata": {},
   "outputs": [],
   "source": [
    "sfe <- runUnivariate(\n",
    "  sfe, type = \"geary.mc\", features = hvgs, \n",
    "  colGraphName = \"knn5\", nsim = 100, BPPARAM = MulticoreParam(2))"
   ]
  },
  {
   "cell_type": "code",
   "execution_count": null,
<<<<<<< HEAD
   "id": "35305b61",
||||||| ff06ad40
   "id": "2148a21e",
=======
   "id": "f867c385",
>>>>>>> documentation-devel
   "metadata": {},
   "outputs": [],
   "source": [
    "sfe <- runUnivariate(\n",
    "  sfe, type = \"moran.mc\", features = hvgs,\n",
    "  colGraphName = \"knn5\", nsim = 100, BPPARAM = MulticoreParam(2))\n",
    "\n",
    "sfe <- colDataUnivariate(\n",
    "  sfe, type = \"moran.mc\", features = c(\"nCounts\", \"nGenes\"), \n",
    "  colGraphName = \"knn5\", nsim = 100)"
   ]
  },
  {
   "cell_type": "markdown",
<<<<<<< HEAD
   "id": "f293d327",
||||||| ff06ad40
   "id": "50996ce0",
=======
   "id": "0d17498f",
>>>>>>> documentation-devel
   "metadata": {
    "lines_to_next_cell": 0
   },
   "source": [
    "We can plot the results of the Monte Carlo simulations: "
   ]
  },
  {
   "cell_type": "code",
   "execution_count": null,
<<<<<<< HEAD
   "id": "b97c0a9c",
||||||| ff06ad40
   "id": "ee8e3f23",
=======
   "id": "6bf4b5a4",
>>>>>>> documentation-devel
   "metadata": {},
   "outputs": [],
   "source": [
    "plotMoranMC(sfe, \"Meox1\")"
   ]
  },
  {
   "cell_type": "markdown",
<<<<<<< HEAD
   "id": "49a606ba",
||||||| ff06ad40
   "id": "bf87e66d",
=======
   "id": "b8168018",
>>>>>>> documentation-devel
   "metadata": {
    "lines_to_next_cell": 0
   },
   "source": [
    "The vertical line represents the observed value of Moran's I and the density represents Moran's I computed from the permuted data. These simulations suggest that the spatial autocorrelation for this feature is significant. \n",
    "\n",
    "The function can also be used to plot the `geary.mc` results. \n",
    "\n",
    "Now, we might ask: which genes display the most spatial autocorrelation? "
   ]
  },
  {
   "cell_type": "code",
   "execution_count": null,
<<<<<<< HEAD
   "id": "bc13548b",
||||||| ff06ad40
   "id": "7e72055d",
=======
   "id": "a31c13c3",
>>>>>>> documentation-devel
   "metadata": {
    "fig.height": 8,
    "fig.width": 8
   },
   "outputs": [],
   "source": [
    "top_moran <- rownames(sfe)[order(-rowData(sfe)$moran.mc_statistic_sample01)[1:4]]\n",
    "\n",
    "plotSpatialFeature(sfe, top_moran, colGeometryName = \"seg_coords\")"
   ]
  },
  {
   "cell_type": "markdown",
<<<<<<< HEAD
   "id": "87f48404",
||||||| ff06ad40
   "id": "b44f6e30",
=======
   "id": "6006b20e",
>>>>>>> documentation-devel
   "metadata": {
    "lines_to_next_cell": 0
   },
   "source": [
    "It appears that the genes with the highest spatial autocorrelation seem to have obvious expression patterns in the tissue. \n",
    "\n",
    "It would be interesting to see if these genes are also differentially expressed in the clusters above. Non-spatial differential gene expression can be interrogated using the `findMarkers()` function implemented in the `scran` package and more complex methods for identifying spatially variable genes are actively being developed. \n",
    "\n",
    "These analyses bring up interesting considerations. For one, it is unclear whether normalization scheme employed here effectively removes FOV batch effects. That said, there may be times where FOV differences are expected and represent biological differences, for example in the context of a tumor sample. It remains to be seen what normalization methods will perform best in these cases, and this is represents an area for research.\n",
    "\n",
    "# Session Info"
   ]
  },
  {
   "cell_type": "code",
   "execution_count": null,
<<<<<<< HEAD
   "id": "5a4b5981",
||||||| ff06ad40
   "id": "bf6fe347",
=======
   "id": "1f1c12d1",
>>>>>>> documentation-devel
   "metadata": {},
   "outputs": [],
   "source": [
    "sessionInfo()"
   ]
  },
  {
   "cell_type": "markdown",
<<<<<<< HEAD
   "id": "cb9ac793",
||||||| ff06ad40
   "id": "dde95b2e",
=======
   "id": "5276483c",
>>>>>>> documentation-devel
   "metadata": {},
   "source": [
    "# References"
   ]
  }
 ],
 "metadata": {
  "kernelspec": {
   "display_name": "R",
   "language": "R",
   "name": "ir"
  }
 },
 "nbformat": 4,
 "nbformat_minor": 5
}
