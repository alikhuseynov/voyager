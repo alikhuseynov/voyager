{
 "cells": [
  {
   "cell_type": "raw",
<<<<<<< HEAD
<<<<<<< HEAD
   "id": "3154d830",
||||||| b944554d
   "id": "03c9b4f7",
=======
   "id": "0a1e3238",
>>>>>>> documentation-devel
||||||| 35cb6e7a
   "id": "0a1e3238",
=======
   "id": "0b8499d9",
>>>>>>> documentation-devel
   "metadata": {},
   "source": [
    "---\n",
    "title: \"seqFISH exploratory data analysis\"\n",
    "author: \"Kayla Jackson\"\n",
    "date: \"`r Sys.Date()`\"\n",
    "output: \n",
    "  html_document:\n",
    "  toc: true\n",
    "  toc_float:\n",
    "    collapsed: false\n",
    "  toc_depth: 3\n",
    "bibliography: ref.bib\n",
    "vignette: >\n",
    "  %\\VignetteIndexEntry{seqfish_basic}\n",
    "  %\\VignetteEngine{knitr::rmarkdown}\n",
    "  %\\VignetteEncoding{UTF-8}\n",
    "---"
   ]
  },
  {
   "cell_type": "code",
   "execution_count": null,
<<<<<<< HEAD
<<<<<<< HEAD
   "id": "628c7fca",
||||||| b944554d
   "id": "58e81b4b",
=======
   "id": "596a244e",
>>>>>>> documentation-devel
||||||| 35cb6e7a
   "id": "596a244e",
=======
   "id": "0c63d6f7",
>>>>>>> documentation-devel
   "metadata": {
    "tags": [
     "remove_cell"
    ]
   },
   "outputs": [],
   "source": [
    "knitr::opts_chunk$set(\n",
    "  collapse = TRUE,\n",
    "  comment = \"#>\", fig.align = \"center\"\n",
    ")"
   ]
  },
  {
   "cell_type": "code",
   "execution_count": null,
<<<<<<< HEAD
<<<<<<< HEAD
   "id": "d87faa25",
||||||| b944554d
   "id": "08635f11",
=======
   "id": "9a89d456",
>>>>>>> documentation-devel
||||||| 35cb6e7a
   "id": "9a89d456",
=======
   "id": "2e4783ff",
>>>>>>> documentation-devel
   "metadata": {
    "eval": false,
    "tags": [
     "remove_cell"
    ]
   },
   "outputs": [],
   "source": [
    "# Install Google Colab dependencies\n",
    "# Note: this can take 30+ minutes (many of the dependencies include C++ code, which needs to be compiled)\n",
    "\n",
    "# First install `sf`, `ragg` and `textshaping` and their system dependencies:\n",
    "system(\"apt-get -y update && apt-get install -y  libudunits2-dev libgdal-dev libgeos-dev libproj-dev libharfbuzz-dev libfribidi-dev\")\n",
    "install.packages(\"sf\")\n",
    "install.packages(\"textshaping\")\n",
    "install.packages(\"ragg\")\n",
    "\n",
    "# Install system dependencies of some other R packages that Voyager either imports or suggests:\n",
    "system(\"apt-get install -y libfribidi-dev libcairo2-dev libmagick++-dev\")\n",
    "\n",
    "# Install Voyager from Bioconductor:\n",
    "install.packages(\"BiocManager\")\n",
    "BiocManager::install(version = \"3.17\", ask = FALSE, update = FALSE, Ncpus = 2)\n",
    "BiocManager::install(\"scater\")\n",
    "system.time(\n",
    "  BiocManager::install(\"Voyager\", dependencies = TRUE, Ncpus = 2, update = FALSE)\n",
    ")\n",
    "\n",
    "# Install additional dependencies for this vignette\n",
    "BiocManager::install(\"batchelor\")\n",
    "BiocManager::install(\"fossil\")\n",
    "\n",
    "packageVersion(\"Voyager\")"
   ]
  },
  {
   "cell_type": "markdown",
<<<<<<< HEAD
<<<<<<< HEAD
   "id": "9b053ff4",
||||||| b944554d
   "id": "d3f7f7b9",
=======
   "id": "8d429b95",
>>>>>>> documentation-devel
||||||| 35cb6e7a
   "id": "8d429b95",
=======
   "id": "aa6e0bf6",
>>>>>>> documentation-devel
   "metadata": {
    "lines_to_next_cell": 0
   },
   "source": [
    "# Introduction\n",
    "\n",
    "# Dataset\n",
    "The data used in this vignette are described in [Integration of spatial and single-cell transcriptomic data elucidates mouse organogenesis](https://doi.org/10.1038/s41587-021-01006-2). Briefly, seqFISH was use to profile 351 genes in several mouse embryos at the 8-12 somite stage (ss). We will focus on a single biological replicate, embryo 3. The raw and processed counts and corresponding metadata are available to download from the [Marioni lab](https://content.cruk.cam.ac.uk/jmlab/SpatialMouseAtlas2020/). Expression matrices, segmentation data, and segmented cell vertices are provided as R objects that can be readily imported into an R environment. The data relevant to this vignette have been converted to a `SFE` object and are available to download [here](https://caltech.box.com/public/static/ulrqr1gk7oh21h9ejgua1xajs6dsbvrj) from Box.  \n",
    "\n",
    "The data have been added to the `SFEData` package on Bioconductor and will be available in the 3.17 release. \n",
    "\n",
    "We will begin by downloading the data and loading it in to R. "
   ]
  },
  {
   "cell_type": "code",
   "execution_count": null,
<<<<<<< HEAD
<<<<<<< HEAD
   "id": "715f15e8",
||||||| b944554d
   "id": "55459fb0",
=======
   "id": "6be8313b",
>>>>>>> documentation-devel
||||||| 35cb6e7a
   "id": "6be8313b",
=======
   "id": "1462214b",
>>>>>>> documentation-devel
   "metadata": {
    "message": false,
    "name": "setup"
   },
   "outputs": [],
   "source": [
    "library(Voyager)\n",
    "library(SFEData)\n",
    "library(SingleCellExperiment)\n",
    "library(SpatialExperiment)\n",
    "library(SpatialFeatureExperiment)\n",
    "library(batchelor)\n",
    "library(scater)\n",
    "library(scran)\n",
    "library(bluster)\n",
    "library(purrr)\n",
    "library(tidyr)\n",
    "library(dplyr)\n",
    "library(fossil)\n",
    "library(ggplot2)\n",
    "library(patchwork)\n",
    "library(spdep)\n",
    "library(BiocParallel)\n",
    "\n",
    "theme_set(theme_bw())"
   ]
  },
  {
   "cell_type": "code",
   "execution_count": null,
<<<<<<< HEAD
<<<<<<< HEAD
   "id": "885e1012",
||||||| b944554d
   "id": "ce161a6f",
=======
   "id": "e81dc467",
>>>>>>> documentation-devel
||||||| 35cb6e7a
   "id": "e81dc467",
=======
   "id": "dbbea455",
>>>>>>> documentation-devel
   "metadata": {},
   "outputs": [],
   "source": [
    "# Only Bioc 3.17 and above\n",
    "sfe <- LohoffGastrulationData()"
   ]
  },
  {
   "cell_type": "markdown",
<<<<<<< HEAD
<<<<<<< HEAD
   "id": "0ad1d4cb",
||||||| b944554d
   "id": "4da3eff0",
=======
   "id": "97a2eaff",
>>>>>>> documentation-devel
||||||| 35cb6e7a
   "id": "97a2eaff",
=======
   "id": "84e8dffc",
>>>>>>> documentation-devel
   "metadata": {
    "lines_to_next_cell": 0
   },
   "source": [
    "The rows in the count matrix correspond to the 351 barcoded genes measured by seqFISH. Additionally, the authors provide some metadata, including the field of view and z-slice for each cell. We will filter the count matrix and metadata to include only  cells from a single z-slice. "
   ]
  },
  {
   "cell_type": "code",
   "execution_count": null,
<<<<<<< HEAD
<<<<<<< HEAD
   "id": "f2719766",
||||||| b944554d
   "id": "ec9103e4",
=======
   "id": "441dcf6f",
>>>>>>> documentation-devel
||||||| 35cb6e7a
   "id": "441dcf6f",
=======
   "id": "1bd3bcbe",
>>>>>>> documentation-devel
   "metadata": {},
   "outputs": [],
   "source": [
    "names(colData(sfe))"
   ]
  },
  {
   "cell_type": "code",
   "execution_count": null,
<<<<<<< HEAD
<<<<<<< HEAD
   "id": "62691f78",
||||||| b944554d
   "id": "7f9cd98f",
=======
   "id": "c1049963",
>>>>>>> documentation-devel
||||||| 35cb6e7a
   "id": "c1049963",
=======
   "id": "355ffa7e",
>>>>>>> documentation-devel
   "metadata": {},
   "outputs": [],
   "source": [
    "mask <- colData(sfe)$z == 2\n",
    "sfe <- sfe[,mask]"
   ]
  },
  {
   "cell_type": "markdown",
<<<<<<< HEAD
<<<<<<< HEAD
   "id": "7243e547",
||||||| b944554d
   "id": "78b02367",
=======
   "id": "2331dd11",
>>>>>>> documentation-devel
||||||| 35cb6e7a
   "id": "2331dd11",
=======
   "id": "ceb97afb",
>>>>>>> documentation-devel
   "metadata": {
    "lines_to_next_cell": 0
   },
   "source": [
    "# Quality control \n",
    "\n",
    "We will begin quality control (QC) of the cells by computing metrics that are common in single-cell analysis and store them in the `colData` field of the SFE object. Below, we compute the number of counts per cell. We will also compute the average and display it on the violin plot. "
   ]
  },
  {
   "cell_type": "code",
   "execution_count": null,
<<<<<<< HEAD
<<<<<<< HEAD
   "id": "09a63a72",
||||||| b944554d
   "id": "ce146f0e",
=======
   "id": "c376a4d6",
>>>>>>> documentation-devel
||||||| 35cb6e7a
   "id": "c376a4d6",
=======
   "id": "a583fbf4",
>>>>>>> documentation-devel
   "metadata": {},
   "outputs": [],
   "source": [
    "colData(sfe)$nCounts <- colSums(counts(sfe))\n",
    "avg <- mean(colData(sfe)$nCounts)\n",
    "\n",
    "violin <- plotColData(sfe, \"nCounts\") +\n",
    "    geom_hline(yintercept = avg, color='red') +\n",
    "    theme(legend.position = \"top\") \n",
    "\n",
    "spatial <- plotSpatialFeature(sfe, \"nCounts\", colGeometryName = \"seg_coords\")\n",
    "\n",
    "violin + spatial"
   ]
  },
  {
   "cell_type": "markdown",
<<<<<<< HEAD
<<<<<<< HEAD
   "id": "48d30031",
||||||| b944554d
   "id": "9a3942b6",
=======
   "id": "919c7d6b",
>>>>>>> documentation-devel
||||||| 35cb6e7a
   "id": "919c7d6b",
=======
   "id": "a297eac5",
>>>>>>> documentation-devel
   "metadata": {
    "lines_to_next_cell": 0
   },
   "source": [
    "Notably, the cells in this dataset have fewer counts that would be expected in a single-cell sequencing experiment and the cells with higher counts seem to be dispersed throughout the tissue. Fewer counts are expected in seqFISH experiments where probing for highly expressed genes may lead to optical crowding over multiple imaging rounds.  \n",
    "\n",
    "Since the counts are collected from several fields of view, we will visualize the number of cells and total counts for each field separately. "
   ]
  },
  {
   "cell_type": "code",
   "execution_count": null,
<<<<<<< HEAD
<<<<<<< HEAD
   "id": "932cec74",
||||||| b944554d
   "id": "c6564135",
=======
   "id": "7dd7d0c9",
>>>>>>> documentation-devel
||||||| 35cb6e7a
   "id": "7dd7d0c9",
=======
   "id": "5337c7b7",
>>>>>>> documentation-devel
   "metadata": {},
   "outputs": [],
   "source": [
    "pos <- colData(sfe)$pos\n",
    "counts_spl <- split.data.frame(t(counts(sfe)), pos)\n",
    "\n",
    "# nCounts per FOV\n",
    "df <- map_dfr(counts_spl, rowSums, .id='pos') |>\n",
    "    pivot_longer(cols=contains('embryo'), values_to = 'nCounts') |>\n",
    "    mutate(pos = factor(pos, levels = paste0(\"Pos\", seq_len(length(unique(pos)))-1))) |> \n",
    "    dplyr::filter(!is.na(nCounts))\n",
    "\n",
    "cells_fov <- colData(sfe) |> \n",
    "    as.data.frame() |> \n",
    "    mutate(pos = factor(pos, levels = paste0(\"Pos\", seq_len(length(unique(pos)))-1))) |> \n",
    "    ggplot(aes(pos,)) +\n",
    "    geom_bar() + \n",
    "    theme_minimal() + \n",
    "    labs(\n",
    "        x = \"\",\n",
    "        y = \"Number of cells\") + \n",
    "    theme(axis.text.x = element_text(angle = 90))\n",
    "\n",
    "counts_fov <- ggplot(df, aes(pos, nCounts)) +\n",
    "    geom_boxplot(outlier.size = 0.5) + \n",
    "    theme_minimal() + \n",
    "    labs(x = \"\", y = 'nCounts') + \n",
    "    theme(axis.text.x = element_text(angle = 90))\n",
    "\n",
    "cells_fov / counts_fov"
   ]
  },
  {
   "cell_type": "markdown",
<<<<<<< HEAD
<<<<<<< HEAD
   "id": "cf525c28",
||||||| b944554d
   "id": "7c204aeb",
=======
   "id": "f1f676b1",
>>>>>>> documentation-devel
||||||| 35cb6e7a
   "id": "f1f676b1",
=======
   "id": "cf6fd3ea",
>>>>>>> documentation-devel
   "metadata": {},
   "source": [
    "There is some variability in the total number of counts in each field of view. It is not completely apparent what accounts for the low number of counts in some FOVs. For example, FOV 22 has the fewest number of cells, but comparably more counts are detected there than in regions with more cells (e.g. FOV 18). \n",
    "\n",
    "Next, will will compute the number of genes detected per cell, defined here as the number of genes with non-zero counts. We will again plot this metric for each FOV as is done above."
   ]
  },
  {
   "cell_type": "code",
   "execution_count": null,
<<<<<<< HEAD
<<<<<<< HEAD
   "id": "94cf11a4",
||||||| b944554d
   "id": "9f75534c",
=======
   "id": "a0e67a71",
>>>>>>> documentation-devel
||||||| 35cb6e7a
   "id": "a0e67a71",
=======
   "id": "943bac9a",
>>>>>>> documentation-devel
   "metadata": {},
   "outputs": [],
   "source": [
    "colData(sfe)$nGenes <- colSums(counts(sfe) > 0)\n",
    "\n",
    "avg <- mean(colData(sfe)$nGenes)\n",
    "\n",
    "violin <- plotColData(sfe, \"nGenes\") +\n",
    "    geom_hline(yintercept = avg, color='red') +\n",
    "    theme(legend.position = \"top\") \n",
    "\n",
    "spatial <- plotSpatialFeature(sfe, \"nGenes\", colGeometryName = \"seg_coords\")\n",
    "\n",
    "violin + spatial"
   ]
  },
  {
   "cell_type": "markdown",
<<<<<<< HEAD
<<<<<<< HEAD
   "id": "e7edca02",
||||||| b944554d
   "id": "830a60fc",
=======
   "id": "67864de3",
>>>>>>> documentation-devel
||||||| 35cb6e7a
   "id": "67864de3",
=======
   "id": "db213d39",
>>>>>>> documentation-devel
   "metadata": {
    "lines_to_next_cell": 0
   },
   "source": [
    "Many cells have fewer than 100 detected genes. This in part reflects that the panel of 351 probed genes was chosen to distinguish cell types at these developmental stages and that distinct cell types will likely express a small subset of the 351 genes. The authors also note that the gene panel consists of lowly expressed to moderately expressed genes. Taken together, these technical details can explain the relatively low number of counts and genes per cell. \n",
    "\n",
    "Here, we plot the number of genes detected per cell in each FOV. "
   ]
  },
  {
   "cell_type": "code",
   "execution_count": null,
<<<<<<< HEAD
<<<<<<< HEAD
   "id": "4adb4b6f",
||||||| b944554d
   "id": "13cab559",
=======
   "id": "88c5e21c",
>>>>>>> documentation-devel
||||||| 35cb6e7a
   "id": "88c5e21c",
=======
   "id": "9acbcf12",
>>>>>>> documentation-devel
   "metadata": {},
   "outputs": [],
   "source": [
    "df <- map_dfr(counts_spl, ~ rowSums(.x > 0), .id='pos') |>\n",
    "    pivot_longer(cols = contains('embryo'), values_to = 'nGenes') |>\n",
    "    mutate(pos = factor(pos, levels = paste0(\"Pos\", seq_len(length(unique(pos)))-1))) |> \n",
    "    filter(!is.na(nGenes)) |>\n",
    "    merge(df)\n",
    "\n",
    "genes_fov <- ggplot(df, aes(pos, nGenes)) +\n",
    "    geom_boxplot(outlier.size = 0.5) + \n",
    "    theme_bw() + \n",
    "    labs(x = \"\") + \n",
    "    theme(axis.text.x = element_text(angle = 90))\n",
    "\n",
    "genes_fov"
   ]
  },
  {
   "cell_type": "markdown",
<<<<<<< HEAD
<<<<<<< HEAD
   "id": "a413f1a9",
||||||| b944554d
   "id": "e4909845",
=======
   "id": "a5fce06b",
>>>>>>> documentation-devel
||||||| 35cb6e7a
   "id": "a5fce06b",
=======
   "id": "5238762b",
>>>>>>> documentation-devel
   "metadata": {},
   "source": [
    "This plot mirrors the plot above for total counts. No single FOV stands out as an obvious outlier. \n",
    "\n",
    "The authors have provided cell type assignments as metadata. We can assess whether the low quality cells tend to be located in a particular FOV. "
   ]
  },
  {
   "cell_type": "code",
   "execution_count": null,
<<<<<<< HEAD
<<<<<<< HEAD
   "id": "8757fc9f",
||||||| b944554d
   "id": "3c181e7d",
=======
   "id": "eb54b69d",
>>>>>>> documentation-devel
||||||| 35cb6e7a
   "id": "eb54b69d",
=======
   "id": "3739815b",
>>>>>>> documentation-devel
   "metadata": {
    "lines_to_next_cell": 0
   },
   "outputs": [],
   "source": [
    "meta <- data.frame(colData(sfe)) \n",
    "\n",
    "meta <- meta |> \n",
    "    group_by(pos) |> \n",
    "    add_tally(name = \"nCells_FOV\") |> \n",
    "    filter(celltype_mapped_refined %in% \"Low quality\") |> \n",
    "    add_tally(name = \"nLQ_FOV\") |> \n",
    "    mutate(prop_lq = nLQ_FOV/nCells_FOV) |>\n",
    "    distinct(pos, prop_lq) |> \n",
    "    ungroup() |> \n",
    "    mutate(pos = factor(pos, levels = paste0(\"Pos\", seq_len(length(unique(pos)))-1)))\n",
    "\n",
    "prop_lq <- ggplot(meta, aes(pos, prop_lq)) + \n",
    "    geom_bar(stat = 'identity' ) + \n",
    "    theme(axis.text.x = element_text(angle = 90)) \n",
    "\n",
    "prop_lq"
   ]
  },
  {
   "cell_type": "markdown",
<<<<<<< HEAD
<<<<<<< HEAD
   "id": "bdbf7029",
||||||| b944554d
   "id": "068e4f54",
=======
   "id": "2ae412c4",
>>>>>>> documentation-devel
||||||| 35cb6e7a
   "id": "2ae412c4",
=======
   "id": "5bb75372",
>>>>>>> documentation-devel
   "metadata": {
    "lines_to_next_cell": 0
   },
   "source": [
    "It appears that FOV 26 and 31 have the largest fraction of low quality cells. Interestingly, these do not correspond to the FOVs with the largest number of cells overall. \n",
    "\n",
    "Here we plot nCounts vs. nGenes for each FOV. "
   ]
  },
  {
   "cell_type": "code",
   "execution_count": null,
<<<<<<< HEAD
<<<<<<< HEAD
   "id": "75ebdea3",
||||||| b944554d
   "id": "668fdef9",
=======
   "id": "dfa69fc7",
>>>>>>> documentation-devel
||||||| 35cb6e7a
   "id": "dfa69fc7",
=======
   "id": "e8d71df0",
>>>>>>> documentation-devel
   "metadata": {
    "fig.height": 6,
    "fig.width": 9
   },
   "outputs": [],
   "source": [
    "count_vs_genes_p <- ggplot(df, aes(nCounts, nGenes)) + \n",
    "  geom_point(\n",
    "    alpha = 0.5,\n",
    "    size = 1,\n",
    "    fill = \"white\"\n",
    "  ) +\n",
    "  facet_wrap(~ pos)\n",
    "\n",
    "count_vs_genes_p "
   ]
  },
  {
   "cell_type": "markdown",
<<<<<<< HEAD
<<<<<<< HEAD
   "id": "4722a316",
||||||| b944554d
   "id": "47c26616",
=======
   "id": "2dd916f0",
>>>>>>> documentation-devel
||||||| 35cb6e7a
   "id": "2dd916f0",
=======
   "id": "70fe4c50",
>>>>>>> documentation-devel
   "metadata": {
    "lines_to_next_cell": 0
   },
   "source": [
    "As in scRNA-seq, gene expression variance in seqFISH measurements is overdispersed compared to variance of counts that are Poisson distributed."
   ]
  },
  {
   "cell_type": "code",
   "execution_count": null,
<<<<<<< HEAD
<<<<<<< HEAD
   "id": "6c875a23",
||||||| b944554d
   "id": "13ccf4ac",
=======
   "id": "5bb4e42f",
>>>>>>> documentation-devel
||||||| 35cb6e7a
   "id": "5bb4e42f",
=======
   "id": "bd326d86",
>>>>>>> documentation-devel
   "metadata": {
    "lines_to_next_cell": 0
   },
   "outputs": [],
   "source": [
    "gene_meta <- map_dfr(counts_spl, colMeans, .id = 'pos') |> \n",
    "  pivot_longer(cols = -pos, names_to = 'gene', values_to = 'mean')\n",
    "\n",
    "gene_meta <- map_dfr(counts_spl, ~colVars(.x, useNames = TRUE), .id = 'pos') |> \n",
    "  pivot_longer(-pos, names_to = 'gene', values_to='variance') |> \n",
    "  full_join(gene_meta)"
   ]
  },
  {
   "cell_type": "markdown",
<<<<<<< HEAD
<<<<<<< HEAD
   "id": "75f6ba4c",
||||||| b944554d
   "id": "68973f4c",
=======
   "id": "41872acf",
>>>>>>> documentation-devel
||||||| 35cb6e7a
   "id": "41872acf",
=======
   "id": "94d598a9",
>>>>>>> documentation-devel
   "metadata": {
    "lines_to_next_cell": 0
   },
   "source": [
    "To understand the mean-variance relationship, we compute the mean and variance for each gene among cells in tissue. As above, we will perform this calculation separately for each FOV"
   ]
  },
  {
   "cell_type": "code",
   "execution_count": null,
<<<<<<< HEAD
<<<<<<< HEAD
   "id": "7e5ed77f",
||||||| b944554d
   "id": "f10df864",
=======
   "id": "5e8282a4",
>>>>>>> documentation-devel
||||||| 35cb6e7a
   "id": "5e8282a4",
=======
   "id": "fb7d2cb6",
>>>>>>> documentation-devel
   "metadata": {
    "fig.height": 6,
    "fig.width": 9
   },
   "outputs": [],
   "source": [
    "ggplot(gene_meta, aes(mean, variance)) + \n",
    "  geom_point(\n",
    "    alpha = 0.5,\n",
    "    size = 1,\n",
    "    fill = \"white\"\n",
    "  ) +\n",
    "  facet_wrap(~ pos) +\n",
    "  geom_abline(slope = 1, intercept = 0, color = \"red\") +\n",
    "  scale_x_log10() + scale_y_log10() +\n",
    "  annotation_logticks()"
   ]
  },
  {
   "cell_type": "markdown",
<<<<<<< HEAD
<<<<<<< HEAD
   "id": "de244821",
||||||| b944554d
   "id": "6eed455d",
=======
   "id": "7416d5e2",
>>>>>>> documentation-devel
||||||| 35cb6e7a
   "id": "7416d5e2",
=======
   "id": "f302cb6b",
>>>>>>> documentation-devel
   "metadata": {
    "lines_to_next_cell": 0
   },
   "source": [
    "The red line represents the line $y = x$, which is the mean-variance relationship that would be expected for Poisson distributed data. The data deviate from this expectation in each FOV. In each case, the variance is greater than what would be expected. \n",
    "\n",
    "# Data normalization and dimension reduction\n",
    "The exploratory analysis above indicates the presence of batch effects corresponding to FOV. We will use a normalization scheme that is batch aware. As the SFE object inherits from the `SpatialExperiment`and `SingleCellExperiment`, classes, we can take advantage of normalization methods implemented in the `scran` and `batchelor` R packages.\n",
    "\n",
    "We will first use the `multiBatchNorm()` function to scale the data within each batch. As noted in the documentation, the function uses median-based normalization on the ratio of the average counts between batches. \n",
    "\n",
    "Batch correction and dimension reduction is accomplished using `fastMNN()` which performs multi-sample PCA across multiple gene expression matrices to project all cells to a common low-dimensional space."
   ]
  },
  {
   "cell_type": "code",
   "execution_count": null,
<<<<<<< HEAD
<<<<<<< HEAD
   "id": "c9e5ca38",
||||||| b944554d
   "id": "1bc6a53e",
=======
   "id": "93c484c3",
>>>>>>> documentation-devel
||||||| 35cb6e7a
   "id": "93c484c3",
=======
   "id": "4cfe6736",
>>>>>>> documentation-devel
   "metadata": {},
   "outputs": [],
   "source": [
    "sfe <- multiBatchNorm(sfe, batch = pos)\n",
    "sfe_red <- fastMNN(sfe, batch = pos, cos.norm = FALSE, d = 20)"
   ]
  },
  {
   "cell_type": "markdown",
<<<<<<< HEAD
<<<<<<< HEAD
   "id": "8e6b3c5f",
||||||| b944554d
   "id": "5ee8e106",
=======
   "id": "892df950",
>>>>>>> documentation-devel
||||||| 35cb6e7a
   "id": "892df950",
=======
   "id": "38668bb1",
>>>>>>> documentation-devel
   "metadata": {
    "lines_to_next_cell": 0
   },
   "source": [
    "The function `fastMNN` returns a batch-corrected matrix in the `reducedDims` slot of a `SingleCellExperiment` object. We will extract the relevant data and store them in the SFE ojbject. "
   ]
  },
  {
   "cell_type": "code",
   "execution_count": null,
<<<<<<< HEAD
<<<<<<< HEAD
   "id": "d6c0a8e6",
||||||| b944554d
   "id": "bed800c2",
=======
   "id": "04bacd2b",
>>>>>>> documentation-devel
||||||| 35cb6e7a
   "id": "04bacd2b",
=======
   "id": "13eeafe6",
>>>>>>> documentation-devel
   "metadata": {},
   "outputs": [],
   "source": [
    "reducedDim(sfe, \"PCA\") <- reducedDim(sfe_red, \"corrected\")\n",
    "assay(sfe, \"reconstructed\") <- assay(sfe_red, \"reconstructed\") "
   ]
  },
  {
   "cell_type": "markdown",
<<<<<<< HEAD
<<<<<<< HEAD
   "id": "5ce972f9",
||||||| b944554d
   "id": "98b29866",
=======
   "id": "71c8a0db",
>>>>>>> documentation-devel
||||||| 35cb6e7a
   "id": "71c8a0db",
=======
   "id": "c3f6d13f",
>>>>>>> documentation-devel
   "metadata": {
    "lines_to_next_cell": 0
   },
   "source": [
    "Now we will visualize the first two PCs in space. Here we notice that the PCs may show some spatial structure that correlates to biological niches of cells. "
   ]
  },
  {
   "cell_type": "code",
   "execution_count": null,
<<<<<<< HEAD
<<<<<<< HEAD
   "id": "c84b4470",
||||||| b944554d
   "id": "365ee5c6",
=======
   "id": "0ba5b14c",
>>>>>>> documentation-devel
||||||| 35cb6e7a
   "id": "0ba5b14c",
=======
   "id": "ecb7ba54",
>>>>>>> documentation-devel
   "metadata": {},
   "outputs": [],
   "source": [
    "spatialReducedDim(sfe, \"PCA\", ncomponents = 2, divergent = TRUE, diverge_center = 0)"
   ]
  },
  {
   "cell_type": "markdown",
<<<<<<< HEAD
<<<<<<< HEAD
   "id": "0aec0be5",
||||||| b944554d
   "id": "e63cde7a",
=======
   "id": "85d9058f",
>>>>>>> documentation-devel
||||||| 35cb6e7a
   "id": "85d9058f",
=======
   "id": "557fe5b0",
>>>>>>> documentation-devel
   "metadata": {
    "lines_to_next_cell": 0
   },
   "source": [
    "Unfortunately, FOV artifacts can still be seen.\n",
    "\n",
    "# Clustering\n",
    "Much like in single cell analysis, we can use the batch-corrected data to cluster the cells. We will implement a graph-based clustering algorithm and plot the resulting clusters in space. "
   ]
  },
  {
   "cell_type": "code",
   "execution_count": null,
<<<<<<< HEAD
<<<<<<< HEAD
   "id": "b38c2f15",
||||||| b944554d
   "id": "b3c34d51",
=======
   "id": "c34f74bc",
>>>>>>> documentation-devel
||||||| 35cb6e7a
   "id": "c34f74bc",
=======
   "id": "bf5cf08d",
>>>>>>> documentation-devel
   "metadata": {},
   "outputs": [],
   "source": [
    "colData(sfe)$cluster <- \n",
    "  clusterRows(reducedDim(sfe, \"PCA\"),\n",
    "                      BLUSPARAM = SNNGraphParam(\n",
    "                        cluster.fun = \"leiden\",\n",
    "                        cluster.args = list(\n",
    "                        resolution_parameter = 0.5,\n",
    "                        objective_function = \"modularity\")\n",
    "                        )\n",
    "              )"
   ]
  },
  {
   "cell_type": "markdown",
<<<<<<< HEAD
<<<<<<< HEAD
   "id": "f9440bff",
||||||| b944554d
   "id": "573f11e9",
=======
   "id": "b0694f42",
>>>>>>> documentation-devel
||||||| 35cb6e7a
   "id": "b0694f42",
=======
   "id": "f1e0c63f",
>>>>>>> documentation-devel
   "metadata": {
    "lines_to_next_cell": 0
   },
   "source": [
    "The plot below is colored by cluster ID and by the cell types provided by the author. "
   ]
  },
  {
   "cell_type": "code",
   "execution_count": null,
<<<<<<< HEAD
<<<<<<< HEAD
   "id": "412fae82",
||||||| b944554d
   "id": "3bca40b2",
=======
   "id": "17ac1b83",
>>>>>>> documentation-devel
||||||| 35cb6e7a
   "id": "17ac1b83",
=======
   "id": "743112e7",
>>>>>>> documentation-devel
   "metadata": {
    "fig.height": 5,
    "fig.width": 10
   },
   "outputs": [],
   "source": [
    "plotSpatialFeature(sfe, c(\"cluster\", \"celltype_mapped_refined\"), \n",
    "                   colGeometryName = \"seg_coords\")"
   ]
  },
  {
   "cell_type": "markdown",
<<<<<<< HEAD
<<<<<<< HEAD
   "id": "89255d0b",
||||||| b944554d
   "id": "fcf493ef",
=======
   "id": "06cf0c9b",
>>>>>>> documentation-devel
||||||| 35cb6e7a
   "id": "06cf0c9b",
=======
   "id": "233775da",
>>>>>>> documentation-devel
   "metadata": {},
   "source": [
    "The authors have assigned cells to more types than are identified in the clustering step. In any case, the clustering results seem to recapitulate the major cell niches from the previous annotations. We can compute the [Rand index](https://en.wikipedia.org/wiki/Rand_index) using a function from the `fossil` package to assess the similarity between the two clustering results. A value of 1 would suggest the clustering results are identical, while a value of 0 would suggest that the results do not agree at all. "
   ]
  },
  {
   "cell_type": "code",
   "execution_count": null,
<<<<<<< HEAD
<<<<<<< HEAD
   "id": "9a04a5ed",
||||||| b944554d
   "id": "4a74db8c",
=======
   "id": "fcd9f778",
>>>>>>> documentation-devel
||||||| 35cb6e7a
   "id": "fcd9f778",
=======
   "id": "993ab875",
>>>>>>> documentation-devel
   "metadata": {},
   "outputs": [],
   "source": [
    "g1 <- as.numeric(colData(sfe)$cluster)\n",
    "g2 <- as.numeric(colData(sfe)$celltype_mapped_refined)\n",
    "\n",
    "rand.index(g1, g2)"
   ]
  },
  {
   "cell_type": "markdown",
<<<<<<< HEAD
<<<<<<< HEAD
   "id": "1d8d1bd9",
||||||| b944554d
   "id": "28eccbf7",
=======
   "id": "9cdee886",
>>>>>>> documentation-devel
||||||| 35cb6e7a
   "id": "9cdee886",
=======
   "id": "2e676f52",
>>>>>>> documentation-devel
   "metadata": {},
   "source": [
    "The relatively large Rand index suggests that cells are often found in the same cluster in both cases. \n",
    "\n",
    "# Univariate Spatial Statistics\n",
    "At this point, we may be interested in identifying genes that exhibit spatial variability, or whose expression depends on spatial location within the tissue. Measures of spatial autocorrelation can be useful in identifyign genes that display spatial variablity. Among the most common measures are Moran's I and Geary's C. In the latter case, a less than 1 indicates positive spatial autocorrelation, while a value larger than 1 points to negative spatial autocorrelation. In the former case, positive and negative values of Moran's I indicate positive and negative spatial autocorrelation, respectively.\n",
    "\n",
    "These tests require a spatial neighborhood graph for computation of the statistic. There are several ways to define spatial neighbors and the `findSpatialNeighbors()` function wraps all of the methods implemented in the `spdep` package. Below, we compute a k-nearest neighborhood graph. The `dist_type = \"idw\"` weights the edges of the graph by the inverse distance between neighbors."
   ]
  },
  {
   "cell_type": "code",
   "execution_count": null,
<<<<<<< HEAD
<<<<<<< HEAD
   "id": "283cb0df",
||||||| b944554d
   "id": "8b50c871",
=======
   "id": "452ca2a0",
>>>>>>> documentation-devel
||||||| 35cb6e7a
   "id": "452ca2a0",
=======
   "id": "10f7c78a",
>>>>>>> documentation-devel
   "metadata": {},
   "outputs": [],
   "source": [
    "colGraph(sfe, \"knn5\") <- findSpatialNeighbors(\n",
    "  sfe, method = \"knearneigh\", dist_type = \"idw\", \n",
    "  k = 5, style = \"W\")"
   ]
  },
  {
   "cell_type": "markdown",
<<<<<<< HEAD
<<<<<<< HEAD
   "id": "3709e21b",
||||||| b944554d
   "id": "52e7194d",
=======
   "id": "8f4a2e36",
>>>>>>> documentation-devel
||||||| 35cb6e7a
   "id": "8f4a2e36",
=======
   "id": "7ea31a69",
>>>>>>> documentation-devel
   "metadata": {
    "lines_to_next_cell": 0
   },
   "source": [
    "We will also save the most variable genes for use in the computations below. "
   ]
  },
  {
   "cell_type": "code",
   "execution_count": null,
<<<<<<< HEAD
<<<<<<< HEAD
   "id": "ae6249fc",
||||||| b944554d
   "id": "5af752d7",
=======
   "id": "a41a7a81",
>>>>>>> documentation-devel
||||||| 35cb6e7a
   "id": "a41a7a81",
=======
   "id": "4beb2f51",
>>>>>>> documentation-devel
   "metadata": {},
   "outputs": [],
   "source": [
    "dec <- modelGeneVar(sfe)\n",
    "hvgs <- getTopHVGs(dec, n = 100)"
   ]
  },
  {
   "cell_type": "markdown",
<<<<<<< HEAD
<<<<<<< HEAD
   "id": "d6fa8f40",
||||||| b944554d
   "id": "9fa55352",
=======
   "id": "d28fab9e",
>>>>>>> documentation-devel
||||||| 35cb6e7a
   "id": "d28fab9e",
=======
   "id": "bd8e9c83",
>>>>>>> documentation-devel
   "metadata": {
    "lines_to_next_cell": 0
   },
   "source": [
    "We use the `runUnivariate()` function to compute the spatial autocorrelation metrics and save the results and save them in the SFE object. The `mc` type for each test implements a permutation test for each statistic and relies on the `nsim` argument for computing a p-value for the statistic. "
   ]
  },
  {
   "cell_type": "code",
   "execution_count": null,
<<<<<<< HEAD
<<<<<<< HEAD
   "id": "8e9c79d5",
||||||| b944554d
   "id": "b34b56f8",
=======
   "id": "a658dc7f",
>>>>>>> documentation-devel
||||||| 35cb6e7a
   "id": "a658dc7f",
=======
   "id": "bb2f734f",
>>>>>>> documentation-devel
   "metadata": {},
   "outputs": [],
   "source": [
    "sfe <- runUnivariate(\n",
    "  sfe, type = \"geary.mc\", features = hvgs, \n",
    "  colGraphName = \"knn5\", nsim = 100, BPPARAM = MulticoreParam(2))"
   ]
  },
  {
   "cell_type": "code",
   "execution_count": null,
<<<<<<< HEAD
<<<<<<< HEAD
   "id": "9b70e2ad",
||||||| b944554d
   "id": "cd532878",
=======
   "id": "1e439caf",
>>>>>>> documentation-devel
||||||| 35cb6e7a
   "id": "1e439caf",
=======
   "id": "386b3ed1",
>>>>>>> documentation-devel
   "metadata": {},
   "outputs": [],
   "source": [
    "sfe <- runUnivariate(\n",
    "  sfe, type = \"moran.mc\", features = hvgs,\n",
    "  colGraphName = \"knn5\", nsim = 100, BPPARAM = MulticoreParam(2))\n",
    "\n",
    "sfe <- colDataUnivariate(\n",
    "  sfe, type = \"moran.mc\", features = c(\"nCounts\", \"nGenes\"), \n",
    "  colGraphName = \"knn5\", nsim = 100)"
   ]
  },
  {
   "cell_type": "markdown",
<<<<<<< HEAD
<<<<<<< HEAD
   "id": "b301f741",
||||||| b944554d
   "id": "c9566d72",
=======
   "id": "eeaf8e24",
>>>>>>> documentation-devel
||||||| 35cb6e7a
   "id": "eeaf8e24",
=======
   "id": "91e32722",
>>>>>>> documentation-devel
   "metadata": {
    "lines_to_next_cell": 0
   },
   "source": [
    "We can plot the results of the Monte Carlo simulations: "
   ]
  },
  {
   "cell_type": "code",
   "execution_count": null,
<<<<<<< HEAD
<<<<<<< HEAD
   "id": "2eec059a",
||||||| b944554d
   "id": "a164ebfd",
=======
   "id": "a7072521",
>>>>>>> documentation-devel
||||||| 35cb6e7a
   "id": "a7072521",
=======
   "id": "2b453c0f",
>>>>>>> documentation-devel
   "metadata": {},
   "outputs": [],
   "source": [
    "plotMoranMC(sfe, \"Meox1\")"
   ]
  },
  {
   "cell_type": "markdown",
<<<<<<< HEAD
<<<<<<< HEAD
   "id": "b08525ae",
||||||| b944554d
   "id": "7bcc7a5a",
=======
   "id": "a7b94174",
>>>>>>> documentation-devel
||||||| 35cb6e7a
   "id": "a7b94174",
=======
   "id": "731b2932",
>>>>>>> documentation-devel
   "metadata": {
    "lines_to_next_cell": 0
   },
   "source": [
    "The vertical line represents the observed value of Moran's I and the density represents Moran's I computed from the permuted data. These simulations suggest that the spatial autocorrelation for this feature is significant. \n",
    "\n",
    "The function can also be used to plot the `geary.mc` results. \n",
    "\n",
    "Now, we might ask: which genes display the most spatial autocorrelation? "
   ]
  },
  {
   "cell_type": "code",
   "execution_count": null,
<<<<<<< HEAD
<<<<<<< HEAD
   "id": "5399ad97",
||||||| b944554d
   "id": "738856aa",
=======
   "id": "ffc26d13",
>>>>>>> documentation-devel
||||||| 35cb6e7a
   "id": "ffc26d13",
=======
   "id": "b0774c2e",
>>>>>>> documentation-devel
   "metadata": {
    "fig.height": 8,
    "fig.width": 8
   },
   "outputs": [],
   "source": [
    "top_moran <- rownames(sfe)[order(-rowData(sfe)$moran.mc_statistic_sample01)[1:4]]\n",
    "\n",
    "plotSpatialFeature(sfe, top_moran, colGeometryName = \"seg_coords\")"
   ]
  },
  {
   "cell_type": "markdown",
<<<<<<< HEAD
<<<<<<< HEAD
   "id": "ef5caba1",
||||||| b944554d
   "id": "3919b38b",
=======
   "id": "8c78f12c",
>>>>>>> documentation-devel
||||||| 35cb6e7a
   "id": "8c78f12c",
=======
   "id": "24c4f6ab",
>>>>>>> documentation-devel
   "metadata": {
    "lines_to_next_cell": 0
   },
   "source": [
    "It appears that the genes with the highest spatial autocorrelation seem to have obvious expression patterns in the tissue. \n",
    "\n",
    "It would be interesting to see if these genes are also differentially expressed in the clusters above. Non-spatial differential gene expression can be interrogated using the `findMarkers()` function implemented in the `scran` package and more complex methods for identifying spatially variable genes are actively being developed. \n",
    "\n",
    "These analyses bring up interesting considerations. For one, it is unclear whether normalization scheme employed here effectively removes FOV batch effects. That said, there may be times where FOV differences are expected and represent biological differences, for example in the context of a tumor sample. It remains to be seen what normalization methods will perform best in these cases, and this is represents an area for research.\n",
    "\n",
    "# Session Info"
   ]
  },
  {
   "cell_type": "code",
   "execution_count": null,
<<<<<<< HEAD
<<<<<<< HEAD
   "id": "70260144",
||||||| b944554d
   "id": "a791d96d",
=======
   "id": "abbe35d1",
>>>>>>> documentation-devel
||||||| 35cb6e7a
   "id": "abbe35d1",
=======
   "id": "bbfb40c7",
>>>>>>> documentation-devel
   "metadata": {},
   "outputs": [],
   "source": [
    "sessionInfo()"
   ]
  },
  {
   "cell_type": "markdown",
<<<<<<< HEAD
<<<<<<< HEAD
   "id": "d5e9b37e",
||||||| b944554d
   "id": "d1ea1e87",
=======
   "id": "b0b63b5c",
>>>>>>> documentation-devel
||||||| 35cb6e7a
   "id": "b0b63b5c",
=======
   "id": "cff15870",
>>>>>>> documentation-devel
   "metadata": {},
   "source": [
    "# References"
   ]
  }
 ],
 "metadata": {
  "kernelspec": {
   "display_name": "R",
   "language": "R",
   "name": "ir"
  }
 },
 "nbformat": 4,
 "nbformat_minor": 5
}
