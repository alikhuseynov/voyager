{
 "cells": [
  {
   "cell_type": "raw",
<<<<<<< HEAD
<<<<<<< HEAD
   "id": "56e83e7d",
||||||| fa5abb84
   "id": "16f3ab52",
=======
   "id": "917fcb9f",
>>>>>>> documentation-devel
||||||| 7e3277eb
   "id": "917fcb9f",
=======
   "id": "46b3fb16",
>>>>>>> documentation-devel
   "metadata": {},
   "source": [
    "---\n",
    "title: \"SPLiT-seq basic quality control\"\n",
    "author: \"Kayla Jackson and A. Sina Booeshaghi\"\n",
    "date: \"`r Sys.Date()`\"\n",
    "output: \n",
    "  html_document:\n",
    "  toc: true\n",
    "  toc_float:\n",
    "    collapsed: false\n",
    "  toc_depth: 3\n",
    "bibliography: ref.bib\n",
    "vignette: >\n",
    "  %\\VignetteIndexEntry{splitseq_qc}\n",
    "  %\\VignetteEngine{knitr::rmarkdown}\n",
    "  %\\VignetteEncoding{UTF-8}\n",
    "---"
   ]
  },
  {
   "cell_type": "code",
   "execution_count": null,
<<<<<<< HEAD
<<<<<<< HEAD
   "id": "734b4e11",
||||||| fa5abb84
   "id": "bec4bd32",
=======
   "id": "d360f793",
>>>>>>> documentation-devel
||||||| 7e3277eb
   "id": "d360f793",
=======
   "id": "bbc34668",
>>>>>>> documentation-devel
   "metadata": {
    "tags": [
     "remove_cell"
    ]
   },
   "outputs": [],
   "source": [
    "knitr::opts_chunk$set(\n",
    "  collapse = TRUE,\n",
    "  comment = \"#>\", fig.align = \"center\"\n",
    ")"
   ]
  },
  {
   "cell_type": "code",
   "execution_count": null,
<<<<<<< HEAD
<<<<<<< HEAD
   "id": "648166e6",
||||||| fa5abb84
   "id": "1e748dad",
=======
   "id": "622ce4e9",
>>>>>>> documentation-devel
||||||| 7e3277eb
   "id": "622ce4e9",
=======
   "id": "be2b5483",
>>>>>>> documentation-devel
   "metadata": {
    "eval": false,
    "tags": [
     "remove_cell"
    ]
   },
   "outputs": [],
   "source": [
    "# Install Google Colab dependencies\n",
    "# Note: this can take 30+ minutes (many of the dependencies include C++ code, which needs to be compiled)\n",
    "\n",
    "# First install `sf`, `ragg` and `textshaping` and their system dependencies:\n",
    "system(\"apt-get -y update && apt-get install -y  libudunits2-dev libgdal-dev libgeos-dev libproj-dev libharfbuzz-dev libfribidi-dev\")\n",
    "install.packages(\"sf\")\n",
    "install.packages(\"textshaping\")\n",
    "install.packages(\"ragg\")\n",
    "\n",
    "# Install system dependencies of some other R packages that Voyager either imports or suggests:\n",
    "system(\"apt-get install -y libfribidi-dev libcairo2-dev libmagick++-dev\")\n",
    "\n",
    "# Install Voyager from Bioconductor:\n",
    "install.packages(\"BiocManager\")\n",
    "BiocManager::install(version = \"3.17\", ask = FALSE, update = FALSE, Ncpus = 2)\n",
    "BiocManager::install(\"scater\")\n",
    "system.time(\n",
    "  BiocManager::install(\"Voyager\", dependencies = TRUE, Ncpus = 2, update = FALSE)\n",
    ")\n",
    "\n",
    "\n",
    "packageVersion(\"Voyager\")"
   ]
  },
  {
   "cell_type": "code",
   "execution_count": null,
<<<<<<< HEAD
<<<<<<< HEAD
   "id": "85d52a47",
||||||| fa5abb84
   "id": "ffae6c94",
=======
   "id": "ba4e88fe",
>>>>>>> documentation-devel
||||||| 7e3277eb
   "id": "ba4e88fe",
=======
   "id": "1732b3c3",
>>>>>>> documentation-devel
   "metadata": {
    "lines_to_next_cell": 0,
    "name": "retic",
    "tags": [
     "remove_cell"
    ]
   },
   "outputs": [],
   "source": [
    "# Install anndata for cellatlas examples\n",
    "# install.packages(\"reticulate\")\n",
    "reticulate::install_miniconda(force = TRUE)\n",
    "install.packages(\"anndata\")"
   ]
  },
  {
   "cell_type": "markdown",
<<<<<<< HEAD
<<<<<<< HEAD
   "id": "9720866a",
||||||| fa5abb84
   "id": "d998ddd5",
=======
   "id": "799bf690",
>>>>>>> documentation-devel
||||||| 7e3277eb
   "id": "799bf690",
=======
   "id": "0cc709cb",
>>>>>>> documentation-devel
   "metadata": {},
   "source": [
    "# Introduction\n",
    "The data in this vignette is shipped with the `cellatlas` repository. The count matrix and metadata are provided in the `cellatlas/examples` folder as an [`AnnData`](https://anndata-tutorials.readthedocs.io/en/latest/getting-started.html) object. We will begin by loading the object and converting it to a `SpatialFeatureExperiment` object. "
   ]
  },
  {
   "cell_type": "code",
   "execution_count": null,
<<<<<<< HEAD
<<<<<<< HEAD
   "id": "889557e2",
||||||| fa5abb84
   "id": "b1e031b5",
=======
   "id": "67de57a9",
>>>>>>> documentation-devel
||||||| 7e3277eb
   "id": "67de57a9",
=======
   "id": "49f62858",
>>>>>>> documentation-devel
   "metadata": {
    "message": false,
    "name": "setup"
   },
   "outputs": [],
   "source": [
    "library(stringr)\n",
    "library(Matrix)\n",
    "library(SpatialExperiment)\n",
    "library(SpatialFeatureExperiment)\n",
    "library(scater)\n",
    "library(scuttle)\n",
    "library(Voyager)"
   ]
  },
  {
   "cell_type": "code",
   "execution_count": null,
<<<<<<< HEAD
<<<<<<< HEAD
   "id": "5e524e7f",
   "metadata": {
    "name": "dwnld"
   },
||||||| fa5abb84
   "id": "df37a646",
   "metadata": {
    "name": "dwnld"
   },
=======
   "id": "ed853039",
   "metadata": {},
>>>>>>> documentation-devel
||||||| 7e3277eb
   "id": "ed853039",
   "metadata": {},
=======
   "id": "f46da8ae",
   "metadata": {
    "message": true,
    "tags": [
     "remove_output"
    ]
   },
>>>>>>> documentation-devel
   "outputs": [],
   "source": [
    "if (!file.exists(\"splitseq.rds\"))\n",
    "    download.file(\"https://github.com/pachterlab/voyager/raw/documentation-devel/vignettes/splitseq.rds\", destfile = \"splitseq.rds\")\n",
    "sce <- readRDS(\"splitseq.rds\")"
   ]
  },
  {
   "cell_type": "code",
   "execution_count": null,
<<<<<<< HEAD
<<<<<<< HEAD
   "id": "d3134ac1",
||||||| fa5abb84
   "id": "6458e243",
=======
   "id": "4af20883",
>>>>>>> documentation-devel
||||||| 7e3277eb
   "id": "4af20883",
=======
   "id": "61fb5271",
>>>>>>> documentation-devel
   "metadata": {},
   "outputs": [],
   "source": [
    "is_mito <- str_detect(rowData(sce)$gene_name, regex(\"^mt-\", ignore_case=TRUE))\n",
    "sum(is_mito)"
   ]
  },
  {
   "cell_type": "code",
   "execution_count": null,
<<<<<<< HEAD
<<<<<<< HEAD
   "id": "fa077327",
||||||| fa5abb84
   "id": "ddd096c3",
=======
   "id": "d2ada4c9",
>>>>>>> documentation-devel
||||||| 7e3277eb
   "id": "d2ada4c9",
=======
   "id": "f5944da9",
>>>>>>> documentation-devel
   "metadata": {},
   "outputs": [],
   "source": [
    "sce <- addPerCellQCMetrics(sce, subsets = list(mito = is_mito))\n",
    "names(colData(sce))"
   ]
  },
  {
   "cell_type": "code",
   "execution_count": null,
<<<<<<< HEAD
<<<<<<< HEAD
   "id": "e21f3375",
||||||| fa5abb84
   "id": "8a9a779f",
=======
   "id": "2574d459",
>>>>>>> documentation-devel
||||||| 7e3277eb
   "id": "2574d459",
=======
   "id": "1eed4679",
>>>>>>> documentation-devel
   "metadata": {},
   "outputs": [],
   "source": [
    "plotColData(sce, \"sum\") +\n",
    "    plotColData(sce, \"detected\") +\n",
    "    plotColData(sce, \"subsets_mito_percent\")"
   ]
  },
  {
   "cell_type": "code",
   "execution_count": null,
<<<<<<< HEAD
<<<<<<< HEAD
   "id": "3a46f83f",
||||||| fa5abb84
   "id": "e0394e19",
=======
   "id": "bfe3032e",
>>>>>>> documentation-devel
||||||| 7e3277eb
   "id": "bfe3032e",
=======
   "id": "b5bcd7e7",
>>>>>>> documentation-devel
   "metadata": {},
   "outputs": [],
   "source": [
    "plotColData(sce, x = \"sum\", y = \"detected\", bins = 100) +\n",
    "    scale_fill_distiller(palette = \"Blues\", direction = 1)"
   ]
  },
  {
   "cell_type": "code",
   "execution_count": null,
<<<<<<< HEAD
<<<<<<< HEAD
   "id": "c10b52ed",
||||||| fa5abb84
   "id": "fedc43c7",
=======
   "id": "5eb379d7",
>>>>>>> documentation-devel
||||||| 7e3277eb
   "id": "5eb379d7",
=======
   "id": "1063626e",
>>>>>>> documentation-devel
   "metadata": {},
   "outputs": [],
   "source": [
    "plotColData(sce, x = \"sum\", y = \"subsets_mito_detected\", bins = 100) +\n",
    "    scale_fill_distiller(palette = \"Blues\", direction = 1)"
   ]
  },
  {
   "cell_type": "code",
   "execution_count": null,
<<<<<<< HEAD
<<<<<<< HEAD
   "id": "680dee33",
||||||| fa5abb84
   "id": "3e2f5efe",
=======
   "id": "0ba21969",
>>>>>>> documentation-devel
||||||| 7e3277eb
   "id": "0ba21969",
=======
   "id": "d1b3cad5",
>>>>>>> documentation-devel
   "metadata": {
    "name": "subset-qc"
   },
   "outputs": [],
   "source": [
    "sce <- sce[, which(sce$subsets_mito_percent < 20)]\n",
    "sce <- sce[rowSums(counts(sce)) > 0,]\n",
    "\n",
    "sce"
   ]
  },
  {
   "cell_type": "code",
   "execution_count": null,
<<<<<<< HEAD
<<<<<<< HEAD
   "id": "865a46a3",
||||||| fa5abb84
   "id": "e774debd",
=======
   "id": "70a45be3",
>>>>>>> documentation-devel
||||||| 7e3277eb
   "id": "70a45be3",
=======
   "id": "1552f4dc",
>>>>>>> documentation-devel
   "metadata": {},
   "outputs": [],
   "source": [
    "sessionInfo()"
   ]
  }
 ],
 "metadata": {
  "kernelspec": {
   "display_name": "R",
   "language": "R",
   "name": "ir"
  }
 },
 "nbformat": 4,
 "nbformat_minor": 5
}
