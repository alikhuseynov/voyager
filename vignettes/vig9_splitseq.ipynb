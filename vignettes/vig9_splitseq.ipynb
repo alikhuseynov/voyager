{
 "cells": [
  {
   "cell_type": "raw",
<<<<<<< HEAD
<<<<<<< HEAD
<<<<<<< HEAD
<<<<<<< HEAD
<<<<<<< HEAD
   "id": "589418f1",
||||||| 6a30bf1
   "id": "9d403709",
=======
   "id": "50cd692f",
>>>>>>> documentation-devel
||||||| d28b18c
   "id": "50cd692f",
=======
   "id": "168da2df",
>>>>>>> documentation-devel
||||||| 6893f63
<<<<<<< HEAD
   "id": "589418f1",
||||||| 6a30bf1
   "id": "9d403709",
=======
   "id": "50cd692f",
>>>>>>> documentation-devel
=======
   "id": "96a06a6e",
>>>>>>> c74c98c2450c2a1ba922ed9442f136238d6bc88b
||||||| 6d93b645
   "id": "168da2df",
=======
   "id": "d03420a7",
>>>>>>> documentation-devel
||||||| 804edffb
<<<<<<< HEAD
<<<<<<< HEAD
<<<<<<< HEAD
   "id": "589418f1",
||||||| 6a30bf1
   "id": "9d403709",
=======
   "id": "50cd692f",
>>>>>>> documentation-devel
||||||| d28b18c
   "id": "50cd692f",
=======
   "id": "168da2df",
>>>>>>> documentation-devel
||||||| 6893f63
<<<<<<< HEAD
   "id": "589418f1",
||||||| 6a30bf1
   "id": "9d403709",
=======
   "id": "50cd692f",
>>>>>>> documentation-devel
=======
   "id": "96a06a6e",
>>>>>>> c74c98c2450c2a1ba922ed9442f136238d6bc88b
=======
   "id": "4c00b83d",
>>>>>>> 035bb2637984ead2784fecff78c0c60cc4181202
   "metadata": {},
   "source": [
    "---\n",
    "title: \"SPLiT-seq basic quality control\"\n",
    "author: \"Kayla Jackson and A. Sina Booeshaghi\"\n",
    "date: \"`r Sys.Date()`\"\n",
    "output: \n",
    "  html_document:\n",
    "  toc: true\n",
    "  toc_float:\n",
    "    collapsed: false\n",
    "  toc_depth: 3\n",
    "bibliography: ref.bib\n",
    "vignette: >\n",
    "  %\\VignetteIndexEntry{splitseq_qc}\n",
    "  %\\VignetteEngine{knitr::rmarkdown}\n",
    "  %\\VignetteEncoding{UTF-8}\n",
    "---"
   ]
  },
  {
   "cell_type": "code",
   "execution_count": null,
<<<<<<< HEAD
<<<<<<< HEAD
<<<<<<< HEAD
<<<<<<< HEAD
<<<<<<< HEAD
   "id": "f111ee9f",
||||||| 6a30bf1
   "id": "b7f1c209",
=======
   "id": "dac66883",
>>>>>>> documentation-devel
||||||| d28b18c
   "id": "dac66883",
=======
   "id": "4824dba8",
>>>>>>> documentation-devel
||||||| 6893f63
<<<<<<< HEAD
   "id": "f111ee9f",
||||||| 6a30bf1
   "id": "b7f1c209",
=======
   "id": "dac66883",
>>>>>>> documentation-devel
=======
   "id": "85354909",
>>>>>>> c74c98c2450c2a1ba922ed9442f136238d6bc88b
||||||| 6d93b645
   "id": "4824dba8",
=======
   "id": "7b1a89b1",
>>>>>>> documentation-devel
||||||| 804edffb
<<<<<<< HEAD
<<<<<<< HEAD
<<<<<<< HEAD
   "id": "f111ee9f",
||||||| 6a30bf1
   "id": "b7f1c209",
=======
   "id": "dac66883",
>>>>>>> documentation-devel
||||||| d28b18c
   "id": "dac66883",
=======
   "id": "4824dba8",
>>>>>>> documentation-devel
||||||| 6893f63
<<<<<<< HEAD
   "id": "f111ee9f",
||||||| 6a30bf1
   "id": "b7f1c209",
=======
   "id": "dac66883",
>>>>>>> documentation-devel
=======
   "id": "85354909",
>>>>>>> c74c98c2450c2a1ba922ed9442f136238d6bc88b
=======
   "id": "b406b936",
>>>>>>> 035bb2637984ead2784fecff78c0c60cc4181202
   "metadata": {
    "tags": [
     "remove_cell"
    ]
   },
   "outputs": [],
   "source": [
    "knitr::opts_chunk$set(\n",
    "  collapse = TRUE,\n",
    "  comment = \"#>\", fig.align = \"center\"\n",
    ")"
   ]
  },
  {
   "cell_type": "code",
   "execution_count": null,
<<<<<<< HEAD
<<<<<<< HEAD
<<<<<<< HEAD
<<<<<<< HEAD
<<<<<<< HEAD
   "id": "35d1b86e",
||||||| 6a30bf1
   "id": "f0149e5b",
=======
   "id": "02d2c675",
>>>>>>> documentation-devel
||||||| d28b18c
   "id": "02d2c675",
=======
   "id": "f8d71b32",
>>>>>>> documentation-devel
||||||| 6893f63
<<<<<<< HEAD
   "id": "35d1b86e",
||||||| 6a30bf1
   "id": "f0149e5b",
=======
   "id": "02d2c675",
>>>>>>> documentation-devel
=======
   "id": "588d7fb2",
>>>>>>> c74c98c2450c2a1ba922ed9442f136238d6bc88b
||||||| 6d93b645
   "id": "f8d71b32",
=======
   "id": "eb49b33e",
>>>>>>> documentation-devel
||||||| 804edffb
<<<<<<< HEAD
<<<<<<< HEAD
<<<<<<< HEAD
   "id": "35d1b86e",
||||||| 6a30bf1
   "id": "f0149e5b",
=======
   "id": "02d2c675",
>>>>>>> documentation-devel
||||||| d28b18c
   "id": "02d2c675",
=======
   "id": "f8d71b32",
>>>>>>> documentation-devel
||||||| 6893f63
<<<<<<< HEAD
   "id": "35d1b86e",
||||||| 6a30bf1
   "id": "f0149e5b",
=======
   "id": "02d2c675",
>>>>>>> documentation-devel
=======
   "id": "588d7fb2",
>>>>>>> c74c98c2450c2a1ba922ed9442f136238d6bc88b
=======
   "id": "745e0a55",
>>>>>>> 035bb2637984ead2784fecff78c0c60cc4181202
   "metadata": {
    "eval": false,
    "tags": [
     "remove_cell"
    ]
   },
   "outputs": [],
   "source": [
    "# Install Google Colab dependencies\n",
    "# Note: this can take 30+ minutes (many of the dependencies include C++ code, which needs to be compiled)\n",
    "\n",
    "# First install `sf`, `ragg` and `textshaping` and their system dependencies:\n",
    "system(\"apt-get -y update && apt-get install -y  libudunits2-dev libgdal-dev libgeos-dev libproj-dev libharfbuzz-dev libfribidi-dev\")\n",
    "install.packages(\"sf\")\n",
    "install.packages(\"textshaping\")\n",
    "install.packages(\"ragg\")\n",
    "\n",
    "# Install system dependencies of some other R packages that Voyager either imports or suggests:\n",
    "system(\"apt-get install -y libfribidi-dev libcairo2-dev libmagick++-dev\")\n",
    "\n",
    "# Install Voyager from Bioconductor:\n",
    "install.packages(\"BiocManager\")\n",
    "BiocManager::install(version = \"3.17\", ask = FALSE, update = FALSE, Ncpus = 2)\n",
    "BiocManager::install(\"scater\")\n",
    "system.time(\n",
    "  BiocManager::install(\"Voyager\", dependencies = TRUE, Ncpus = 2, update = FALSE)\n",
    ")\n",
    "\n",
    "\n",
    "packageVersion(\"Voyager\")"
   ]
  },
  {
   "cell_type": "code",
   "execution_count": null,
<<<<<<< HEAD
<<<<<<< HEAD
<<<<<<< HEAD
<<<<<<< HEAD
<<<<<<< HEAD
   "id": "3a5a3b41",
||||||| 6a30bf1
   "id": "8e79ccab",
=======
   "id": "e38a4fae",
>>>>>>> documentation-devel
||||||| d28b18c
   "id": "e38a4fae",
=======
   "id": "09bb5215",
>>>>>>> documentation-devel
||||||| 6893f63
<<<<<<< HEAD
   "id": "3a5a3b41",
||||||| 6a30bf1
   "id": "8e79ccab",
=======
   "id": "e38a4fae",
>>>>>>> documentation-devel
=======
   "id": "d2af9198",
>>>>>>> c74c98c2450c2a1ba922ed9442f136238d6bc88b
||||||| 6d93b645
   "id": "09bb5215",
=======
   "id": "c62ad71e",
>>>>>>> documentation-devel
||||||| 804edffb
<<<<<<< HEAD
<<<<<<< HEAD
<<<<<<< HEAD
   "id": "3a5a3b41",
||||||| 6a30bf1
   "id": "8e79ccab",
=======
   "id": "e38a4fae",
>>>>>>> documentation-devel
||||||| d28b18c
   "id": "e38a4fae",
=======
   "id": "09bb5215",
>>>>>>> documentation-devel
||||||| 6893f63
<<<<<<< HEAD
   "id": "3a5a3b41",
||||||| 6a30bf1
   "id": "8e79ccab",
=======
   "id": "e38a4fae",
>>>>>>> documentation-devel
=======
   "id": "d2af9198",
>>>>>>> c74c98c2450c2a1ba922ed9442f136238d6bc88b
=======
   "id": "e1424790",
>>>>>>> 035bb2637984ead2784fecff78c0c60cc4181202
   "metadata": {
    "lines_to_next_cell": 0,
    "name": "retic",
    "tags": [
     "remove_cell"
    ]
   },
   "outputs": [],
   "source": [
    "# Install anndata for cellatlas examples\n",
    "# install.packages(\"reticulate\")\n",
    "reticulate::install_miniconda(force = TRUE)\n",
    "install.packages(\"anndata\")"
   ]
  },
  {
   "cell_type": "markdown",
<<<<<<< HEAD
<<<<<<< HEAD
<<<<<<< HEAD
<<<<<<< HEAD
<<<<<<< HEAD
   "id": "c2e4081f",
||||||| 6a30bf1
   "id": "84e20573",
=======
   "id": "60db6b56",
>>>>>>> documentation-devel
||||||| d28b18c
   "id": "60db6b56",
=======
   "id": "f9e24269",
>>>>>>> documentation-devel
||||||| 6893f63
<<<<<<< HEAD
   "id": "c2e4081f",
||||||| 6a30bf1
   "id": "84e20573",
=======
   "id": "60db6b56",
>>>>>>> documentation-devel
=======
   "id": "ec04bf12",
>>>>>>> c74c98c2450c2a1ba922ed9442f136238d6bc88b
||||||| 6d93b645
   "id": "f9e24269",
=======
   "id": "1a5aa117",
>>>>>>> documentation-devel
||||||| 804edffb
<<<<<<< HEAD
<<<<<<< HEAD
<<<<<<< HEAD
   "id": "c2e4081f",
||||||| 6a30bf1
   "id": "84e20573",
=======
   "id": "60db6b56",
>>>>>>> documentation-devel
||||||| d28b18c
   "id": "60db6b56",
=======
   "id": "f9e24269",
>>>>>>> documentation-devel
||||||| 6893f63
<<<<<<< HEAD
   "id": "c2e4081f",
||||||| 6a30bf1
   "id": "84e20573",
=======
   "id": "60db6b56",
>>>>>>> documentation-devel
=======
   "id": "ec04bf12",
>>>>>>> c74c98c2450c2a1ba922ed9442f136238d6bc88b
=======
   "id": "d42540c0",
>>>>>>> 035bb2637984ead2784fecff78c0c60cc4181202
   "metadata": {},
   "source": [
    "# Introduction\n",
    "The data in this vignette is shipped with the `cellatlas` repository. The count matrix and metadata are provided in the `cellatlas/examples` folder as an [`AnnData`](https://anndata-tutorials.readthedocs.io/en/latest/getting-started.html) object. We will begin by loading the object and converting it to a `SpatialFeatureExperiment` object. "
   ]
  },
  {
   "cell_type": "code",
   "execution_count": null,
<<<<<<< HEAD
<<<<<<< HEAD
<<<<<<< HEAD
<<<<<<< HEAD
<<<<<<< HEAD
   "id": "80a31879",
||||||| 6a30bf1
   "id": "889230a2",
=======
   "id": "6840b8fd",
>>>>>>> documentation-devel
||||||| d28b18c
   "id": "6840b8fd",
=======
   "id": "4e1800f6",
>>>>>>> documentation-devel
||||||| 6893f63
<<<<<<< HEAD
   "id": "80a31879",
||||||| 6a30bf1
   "id": "889230a2",
=======
   "id": "6840b8fd",
>>>>>>> documentation-devel
=======
   "id": "26ce2291",
>>>>>>> c74c98c2450c2a1ba922ed9442f136238d6bc88b
||||||| 6d93b645
   "id": "4e1800f6",
=======
   "id": "fd75110a",
>>>>>>> documentation-devel
||||||| 804edffb
<<<<<<< HEAD
<<<<<<< HEAD
<<<<<<< HEAD
   "id": "80a31879",
||||||| 6a30bf1
   "id": "889230a2",
=======
   "id": "6840b8fd",
>>>>>>> documentation-devel
||||||| d28b18c
   "id": "6840b8fd",
=======
   "id": "4e1800f6",
>>>>>>> documentation-devel
||||||| 6893f63
<<<<<<< HEAD
   "id": "80a31879",
||||||| 6a30bf1
   "id": "889230a2",
=======
   "id": "6840b8fd",
>>>>>>> documentation-devel
=======
   "id": "26ce2291",
>>>>>>> c74c98c2450c2a1ba922ed9442f136238d6bc88b
=======
   "id": "58391ee9",
>>>>>>> 035bb2637984ead2784fecff78c0c60cc4181202
   "metadata": {
    "name": "setup"
   },
   "outputs": [],
   "source": [
    "library(zellkonverter)\n",
    "library(stringr)\n",
    "library(Matrix)\n",
    "library(SpatialExperiment)\n",
    "library(SpatialFeatureExperiment)\n",
    "library(scater)\n",
    "library(scuttle)\n",
    "library(Voyager)"
   ]
  },
  {
   "cell_type": "code",
   "execution_count": null,
<<<<<<< HEAD
<<<<<<< HEAD
<<<<<<< HEAD
<<<<<<< HEAD
<<<<<<< HEAD
   "id": "604246c5",
||||||| 6a30bf1
   "id": "b2de9912",
=======
   "id": "35d9046d",
>>>>>>> documentation-devel
||||||| d28b18c
   "id": "35d9046d",
=======
   "id": "4dafdc94",
>>>>>>> documentation-devel
||||||| 6893f63
<<<<<<< HEAD
   "id": "604246c5",
||||||| 6a30bf1
   "id": "b2de9912",
=======
   "id": "35d9046d",
>>>>>>> documentation-devel
=======
   "id": "f0023ecf",
>>>>>>> c74c98c2450c2a1ba922ed9442f136238d6bc88b
||||||| 6d93b645
   "id": "4dafdc94",
=======
   "id": "ef98ec26",
>>>>>>> documentation-devel
||||||| 804edffb
<<<<<<< HEAD
<<<<<<< HEAD
<<<<<<< HEAD
   "id": "604246c5",
||||||| 6a30bf1
   "id": "b2de9912",
=======
   "id": "35d9046d",
>>>>>>> documentation-devel
||||||| d28b18c
   "id": "35d9046d",
=======
   "id": "4dafdc94",
>>>>>>> documentation-devel
||||||| 6893f63
<<<<<<< HEAD
   "id": "604246c5",
||||||| 6a30bf1
   "id": "b2de9912",
=======
   "id": "35d9046d",
>>>>>>> documentation-devel
=======
   "id": "f0023ecf",
>>>>>>> c74c98c2450c2a1ba922ed9442f136238d6bc88b
=======
   "id": "2750743a",
>>>>>>> 035bb2637984ead2784fecff78c0c60cc4181202
   "metadata": {
    "name": "dwnld"
   },
   "outputs": [],
   "source": [
    "download.file(\"https://github.com/cellatlas/cellatlas/raw/main/examples/rna-splitseq/cellatlas_out/adata.h5ad.gz\", \n",
    "              \"adata.h5ad.gz\", quiet = TRUE)\n",
    "system(\"gunzip -f adata.h5ad.gz\")\n",
    "sce <- readH5AD(\"adata.h5ad\")\n",
    "assayNames(sce) <- \"counts\""
   ]
  },
  {
   "cell_type": "code",
   "execution_count": null,
<<<<<<< HEAD
<<<<<<< HEAD
<<<<<<< HEAD
<<<<<<< HEAD
<<<<<<< HEAD
   "id": "2ba12c73",
||||||| 6a30bf1
   "id": "29e55a92",
=======
   "id": "0093962b",
>>>>>>> documentation-devel
||||||| d28b18c
   "id": "0093962b",
=======
   "id": "2de1a9cc",
>>>>>>> documentation-devel
||||||| 6893f63
<<<<<<< HEAD
   "id": "2ba12c73",
||||||| 6a30bf1
   "id": "29e55a92",
=======
   "id": "0093962b",
>>>>>>> documentation-devel
=======
   "id": "993c09d0",
>>>>>>> c74c98c2450c2a1ba922ed9442f136238d6bc88b
||||||| 6d93b645
   "id": "2de1a9cc",
=======
   "id": "cd47ba88",
>>>>>>> documentation-devel
||||||| 804edffb
<<<<<<< HEAD
<<<<<<< HEAD
<<<<<<< HEAD
   "id": "2ba12c73",
||||||| 6a30bf1
   "id": "29e55a92",
=======
   "id": "0093962b",
>>>>>>> documentation-devel
||||||| d28b18c
   "id": "0093962b",
=======
   "id": "2de1a9cc",
>>>>>>> documentation-devel
||||||| 6893f63
<<<<<<< HEAD
   "id": "2ba12c73",
||||||| 6a30bf1
   "id": "29e55a92",
=======
   "id": "0093962b",
>>>>>>> documentation-devel
=======
   "id": "993c09d0",
>>>>>>> c74c98c2450c2a1ba922ed9442f136238d6bc88b
=======
   "id": "13ff3e4a",
>>>>>>> 035bb2637984ead2784fecff78c0c60cc4181202
   "metadata": {},
   "outputs": [],
   "source": [
    "is_mito <- str_detect(rowData(sce)$gene_name, regex(\"^mt-\", ignore_case=TRUE))\n",
    "sum(is_mito)"
   ]
  },
  {
   "cell_type": "code",
   "execution_count": null,
<<<<<<< HEAD
<<<<<<< HEAD
<<<<<<< HEAD
<<<<<<< HEAD
<<<<<<< HEAD
   "id": "428189a6",
||||||| 6a30bf1
   "id": "4a1a0116",
=======
   "id": "1bba0c96",
>>>>>>> documentation-devel
||||||| d28b18c
   "id": "1bba0c96",
=======
   "id": "ffd5c727",
>>>>>>> documentation-devel
||||||| 6893f63
<<<<<<< HEAD
   "id": "428189a6",
||||||| 6a30bf1
   "id": "4a1a0116",
=======
   "id": "1bba0c96",
>>>>>>> documentation-devel
=======
   "id": "472f9558",
>>>>>>> c74c98c2450c2a1ba922ed9442f136238d6bc88b
||||||| 6d93b645
   "id": "ffd5c727",
=======
   "id": "c4a261cb",
>>>>>>> documentation-devel
||||||| 804edffb
<<<<<<< HEAD
<<<<<<< HEAD
<<<<<<< HEAD
   "id": "428189a6",
||||||| 6a30bf1
   "id": "4a1a0116",
=======
   "id": "1bba0c96",
>>>>>>> documentation-devel
||||||| d28b18c
   "id": "1bba0c96",
=======
   "id": "ffd5c727",
>>>>>>> documentation-devel
||||||| 6893f63
<<<<<<< HEAD
   "id": "428189a6",
||||||| 6a30bf1
   "id": "4a1a0116",
=======
   "id": "1bba0c96",
>>>>>>> documentation-devel
=======
   "id": "472f9558",
>>>>>>> c74c98c2450c2a1ba922ed9442f136238d6bc88b
=======
   "id": "369a5848",
>>>>>>> 035bb2637984ead2784fecff78c0c60cc4181202
   "metadata": {},
   "outputs": [],
   "source": [
    "sce <- addPerCellQCMetrics(sce, subsets = list(mito = is_mito))\n",
    "names(colData(sce))"
   ]
  },
  {
   "cell_type": "code",
   "execution_count": null,
<<<<<<< HEAD
<<<<<<< HEAD
<<<<<<< HEAD
<<<<<<< HEAD
<<<<<<< HEAD
   "id": "acc70a14",
||||||| 6a30bf1
   "id": "6f54650b",
=======
   "id": "441290db",
>>>>>>> documentation-devel
||||||| d28b18c
   "id": "441290db",
=======
   "id": "9151fdf1",
>>>>>>> documentation-devel
||||||| 6893f63
<<<<<<< HEAD
   "id": "acc70a14",
||||||| 6a30bf1
   "id": "6f54650b",
=======
   "id": "441290db",
>>>>>>> documentation-devel
=======
   "id": "f0363161",
>>>>>>> c74c98c2450c2a1ba922ed9442f136238d6bc88b
||||||| 6d93b645
   "id": "9151fdf1",
=======
   "id": "1da02396",
>>>>>>> documentation-devel
||||||| 804edffb
<<<<<<< HEAD
<<<<<<< HEAD
<<<<<<< HEAD
   "id": "acc70a14",
||||||| 6a30bf1
   "id": "6f54650b",
=======
   "id": "441290db",
>>>>>>> documentation-devel
||||||| d28b18c
   "id": "441290db",
=======
   "id": "9151fdf1",
>>>>>>> documentation-devel
||||||| 6893f63
<<<<<<< HEAD
   "id": "acc70a14",
||||||| 6a30bf1
   "id": "6f54650b",
=======
   "id": "441290db",
>>>>>>> documentation-devel
=======
   "id": "f0363161",
>>>>>>> c74c98c2450c2a1ba922ed9442f136238d6bc88b
=======
   "id": "f2b21191",
>>>>>>> 035bb2637984ead2784fecff78c0c60cc4181202
   "metadata": {},
   "outputs": [],
   "source": [
    "plotColData(sce, \"sum\") +\n",
    "    plotColData(sce, \"detected\") +\n",
    "    plotColData(sce, \"subsets_mito_percent\")"
   ]
  },
  {
   "cell_type": "code",
   "execution_count": null,
<<<<<<< HEAD
<<<<<<< HEAD
<<<<<<< HEAD
<<<<<<< HEAD
<<<<<<< HEAD
   "id": "ee3b3a06",
||||||| 6a30bf1
   "id": "23bd28e4",
=======
   "id": "4cabc860",
>>>>>>> documentation-devel
||||||| d28b18c
   "id": "4cabc860",
=======
   "id": "4daf8bb7",
>>>>>>> documentation-devel
||||||| 6893f63
<<<<<<< HEAD
   "id": "ee3b3a06",
||||||| 6a30bf1
   "id": "23bd28e4",
=======
   "id": "4cabc860",
>>>>>>> documentation-devel
=======
   "id": "d436a2f9",
>>>>>>> c74c98c2450c2a1ba922ed9442f136238d6bc88b
||||||| 6d93b645
   "id": "4daf8bb7",
=======
   "id": "b7dce056",
>>>>>>> documentation-devel
||||||| 804edffb
<<<<<<< HEAD
<<<<<<< HEAD
<<<<<<< HEAD
   "id": "ee3b3a06",
||||||| 6a30bf1
   "id": "23bd28e4",
=======
   "id": "4cabc860",
>>>>>>> documentation-devel
||||||| d28b18c
   "id": "4cabc860",
=======
   "id": "4daf8bb7",
>>>>>>> documentation-devel
||||||| 6893f63
<<<<<<< HEAD
   "id": "ee3b3a06",
||||||| 6a30bf1
   "id": "23bd28e4",
=======
   "id": "4cabc860",
>>>>>>> documentation-devel
=======
   "id": "d436a2f9",
>>>>>>> c74c98c2450c2a1ba922ed9442f136238d6bc88b
=======
   "id": "87758599",
>>>>>>> 035bb2637984ead2784fecff78c0c60cc4181202
   "metadata": {},
   "outputs": [],
   "source": [
    "plotColData(sce, x = \"sum\", y = \"detected\", bins = 100) +\n",
    "    scale_fill_distiller(palette = \"Blues\", direction = 1)"
   ]
  },
  {
   "cell_type": "code",
   "execution_count": null,
<<<<<<< HEAD
<<<<<<< HEAD
<<<<<<< HEAD
<<<<<<< HEAD
<<<<<<< HEAD
   "id": "1ec4521c",
||||||| 6a30bf1
   "id": "3018f6eb",
=======
   "id": "a5dc6c27",
>>>>>>> documentation-devel
||||||| d28b18c
   "id": "a5dc6c27",
=======
   "id": "1cc77bd0",
>>>>>>> documentation-devel
||||||| 6893f63
<<<<<<< HEAD
   "id": "1ec4521c",
||||||| 6a30bf1
   "id": "3018f6eb",
=======
   "id": "a5dc6c27",
>>>>>>> documentation-devel
=======
   "id": "01c2ea9c",
>>>>>>> c74c98c2450c2a1ba922ed9442f136238d6bc88b
||||||| 6d93b645
   "id": "1cc77bd0",
=======
   "id": "9309721b",
>>>>>>> documentation-devel
||||||| 804edffb
<<<<<<< HEAD
<<<<<<< HEAD
<<<<<<< HEAD
   "id": "1ec4521c",
||||||| 6a30bf1
   "id": "3018f6eb",
=======
   "id": "a5dc6c27",
>>>>>>> documentation-devel
||||||| d28b18c
   "id": "a5dc6c27",
=======
   "id": "1cc77bd0",
>>>>>>> documentation-devel
||||||| 6893f63
<<<<<<< HEAD
   "id": "1ec4521c",
||||||| 6a30bf1
   "id": "3018f6eb",
=======
   "id": "a5dc6c27",
>>>>>>> documentation-devel
=======
   "id": "01c2ea9c",
>>>>>>> c74c98c2450c2a1ba922ed9442f136238d6bc88b
=======
   "id": "33d24ccc",
>>>>>>> 035bb2637984ead2784fecff78c0c60cc4181202
   "metadata": {},
   "outputs": [],
   "source": [
    "plotColData(sce, x = \"sum\", y = \"subsets_mito_detected\", bins = 100) +\n",
    "    scale_fill_distiller(palette = \"Blues\", direction = 1)"
   ]
  },
  {
   "cell_type": "code",
   "execution_count": null,
<<<<<<< HEAD
<<<<<<< HEAD
<<<<<<< HEAD
<<<<<<< HEAD
<<<<<<< HEAD
   "id": "f3cb2ff2",
||||||| 6a30bf1
   "id": "3ed25364",
=======
   "id": "492bd487",
>>>>>>> documentation-devel
||||||| d28b18c
   "id": "492bd487",
=======
   "id": "d2e72111",
>>>>>>> documentation-devel
||||||| 6893f63
<<<<<<< HEAD
   "id": "f3cb2ff2",
||||||| 6a30bf1
   "id": "3ed25364",
=======
   "id": "492bd487",
>>>>>>> documentation-devel
=======
   "id": "7f95906d",
>>>>>>> c74c98c2450c2a1ba922ed9442f136238d6bc88b
||||||| 6d93b645
   "id": "d2e72111",
=======
   "id": "fabc8fd4",
>>>>>>> documentation-devel
||||||| 804edffb
<<<<<<< HEAD
<<<<<<< HEAD
<<<<<<< HEAD
   "id": "f3cb2ff2",
||||||| 6a30bf1
   "id": "3ed25364",
=======
   "id": "492bd487",
>>>>>>> documentation-devel
||||||| d28b18c
   "id": "492bd487",
=======
   "id": "d2e72111",
>>>>>>> documentation-devel
||||||| 6893f63
<<<<<<< HEAD
   "id": "f3cb2ff2",
||||||| 6a30bf1
   "id": "3ed25364",
=======
   "id": "492bd487",
>>>>>>> documentation-devel
=======
   "id": "7f95906d",
>>>>>>> c74c98c2450c2a1ba922ed9442f136238d6bc88b
=======
   "id": "7211a613",
>>>>>>> 035bb2637984ead2784fecff78c0c60cc4181202
   "metadata": {
    "name": "subset-qc"
   },
   "outputs": [],
   "source": [
    "sce <- sce[, which(sce$subsets_mito_percent < 20)]\n",
    "sce <- sce[rowSums(counts(sce)) > 0,]\n",
    "\n",
    "sce"
   ]
  },
  {
   "cell_type": "code",
   "execution_count": null,
<<<<<<< HEAD
<<<<<<< HEAD
<<<<<<< HEAD
<<<<<<< HEAD
<<<<<<< HEAD
   "id": "19999edc",
||||||| 6a30bf1
   "id": "39dc57db",
=======
   "id": "9e57b358",
>>>>>>> documentation-devel
||||||| d28b18c
   "id": "9e57b358",
=======
   "id": "b597efb2",
>>>>>>> documentation-devel
||||||| 6893f63
<<<<<<< HEAD
   "id": "19999edc",
||||||| 6a30bf1
   "id": "39dc57db",
=======
   "id": "9e57b358",
>>>>>>> documentation-devel
=======
   "id": "cb96db54",
>>>>>>> c74c98c2450c2a1ba922ed9442f136238d6bc88b
||||||| 6d93b645
   "id": "b597efb2",
=======
   "id": "c4907e78",
>>>>>>> documentation-devel
||||||| 804edffb
<<<<<<< HEAD
<<<<<<< HEAD
<<<<<<< HEAD
   "id": "19999edc",
||||||| 6a30bf1
   "id": "39dc57db",
=======
   "id": "9e57b358",
>>>>>>> documentation-devel
||||||| d28b18c
   "id": "9e57b358",
=======
   "id": "b597efb2",
>>>>>>> documentation-devel
||||||| 6893f63
<<<<<<< HEAD
   "id": "19999edc",
||||||| 6a30bf1
   "id": "39dc57db",
=======
   "id": "9e57b358",
>>>>>>> documentation-devel
=======
   "id": "cb96db54",
>>>>>>> c74c98c2450c2a1ba922ed9442f136238d6bc88b
=======
   "id": "1602238d",
>>>>>>> 035bb2637984ead2784fecff78c0c60cc4181202
   "metadata": {},
   "outputs": [],
   "source": [
    "sessionInfo()"
   ]
  }
 ],
 "metadata": {
  "kernelspec": {
   "display_name": "R",
   "language": "R",
   "name": "ir"
  }
 },
 "nbformat": 4,
 "nbformat_minor": 5
}
