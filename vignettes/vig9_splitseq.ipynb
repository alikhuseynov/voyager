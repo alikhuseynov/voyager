{
 "cells": [
  {
   "cell_type": "raw",
<<<<<<< HEAD
   "id": "389281b0",
||||||| ff06ad40
   "id": "e0c26876",
=======
   "id": "eda68540",
>>>>>>> documentation-devel
   "metadata": {},
   "source": [
    "---\n",
    "title: \"SPLiT-seq basic quality control\"\n",
    "author: \"Kayla Jackson and A. Sina Booeshaghi\"\n",
    "date: \"`r Sys.Date()`\"\n",
    "output: \n",
    "  html_document:\n",
    "  toc: true\n",
    "  toc_float:\n",
    "    collapsed: false\n",
    "  toc_depth: 3\n",
    "bibliography: ref.bib\n",
    "vignette: >\n",
    "  %\\VignetteIndexEntry{splitseq_qc}\n",
    "  %\\VignetteEngine{knitr::rmarkdown}\n",
    "  %\\VignetteEncoding{UTF-8}\n",
    "---"
   ]
  },
  {
   "cell_type": "code",
   "execution_count": null,
<<<<<<< HEAD
   "id": "e511d18e",
||||||| ff06ad40
   "id": "7cb86730",
=======
   "id": "0d1d3b3b",
>>>>>>> documentation-devel
   "metadata": {
    "tags": [
     "remove_cell"
    ]
   },
   "outputs": [],
   "source": [
    "knitr::opts_chunk$set(\n",
    "  collapse = TRUE,\n",
    "  comment = \"#>\", fig.align = \"center\"\n",
    ")"
   ]
  },
  {
   "cell_type": "code",
   "execution_count": null,
<<<<<<< HEAD
   "id": "c15ca754",
||||||| ff06ad40
   "id": "5608e84c",
=======
   "id": "df55d35d",
>>>>>>> documentation-devel
   "metadata": {
    "eval": false,
    "tags": [
     "remove_cell"
    ]
   },
   "outputs": [],
   "source": [
    "# Install Google Colab dependencies\n",
    "# Note: this can take 30+ minutes (many of the dependencies include C++ code, which needs to be compiled)\n",
    "\n",
    "# First install `sf`, `ragg` and `textshaping` and their system dependencies:\n",
    "system(\"apt-get -y update && apt-get install -y  libudunits2-dev libgdal-dev libgeos-dev libproj-dev libharfbuzz-dev libfribidi-dev\")\n",
    "install.packages(\"sf\")\n",
    "install.packages(\"textshaping\")\n",
    "install.packages(\"ragg\")\n",
    "\n",
    "# Install system dependencies of some other R packages that Voyager either imports or suggests:\n",
    "system(\"apt-get install -y libfribidi-dev libcairo2-dev libmagick++-dev\")\n",
    "\n",
    "# Install Voyager from Bioconductor:\n",
    "install.packages(\"BiocManager\")\n",
    "BiocManager::install(version = \"3.17\", ask = FALSE, update = FALSE, Ncpus = 2)\n",
    "BiocManager::install(\"scater\")\n",
    "system.time(\n",
    "  BiocManager::install(\"Voyager\", dependencies = TRUE, Ncpus = 2, update = FALSE)\n",
    ")\n",
    "\n",
    "\n",
    "packageVersion(\"Voyager\")"
   ]
  },
  {
   "cell_type": "code",
   "execution_count": null,
<<<<<<< HEAD
   "id": "1a220798",
||||||| ff06ad40
   "id": "b017a49a",
=======
   "id": "86cf052c",
>>>>>>> documentation-devel
   "metadata": {
    "lines_to_next_cell": 0,
    "name": "retic",
    "tags": [
     "remove_cell"
    ]
   },
   "outputs": [],
   "source": [
    "# Install anndata for cellatlas examples\n",
    "# install.packages(\"reticulate\")\n",
    "reticulate::install_miniconda(force = TRUE)\n",
    "install.packages(\"anndata\")"
   ]
  },
  {
   "cell_type": "markdown",
<<<<<<< HEAD
   "id": "f960c7da",
||||||| ff06ad40
   "id": "e623b5dc",
=======
   "id": "1764bfe8",
>>>>>>> documentation-devel
   "metadata": {},
   "source": [
    "# Introduction\n",
    "The data in this vignette is shipped with the `cellatlas` repository. The count matrix and metadata are provided in the `cellatlas/examples` folder as an [`AnnData`](https://anndata-tutorials.readthedocs.io/en/latest/getting-started.html) object. We will begin by loading the object and converting it to a `SpatialFeatureExperiment` object. "
   ]
  },
  {
   "cell_type": "code",
   "execution_count": null,
<<<<<<< HEAD
   "id": "c8812cad",
||||||| ff06ad40
   "id": "520dafad",
=======
   "id": "ad816be8",
>>>>>>> documentation-devel
   "metadata": {
    "name": "setup"
   },
   "outputs": [],
   "source": [
    "library(zellkonverter)\n",
    "library(stringr)\n",
    "library(Matrix)\n",
    "library(SpatialExperiment)\n",
    "library(SpatialFeatureExperiment)\n",
    "library(scater)\n",
    "library(scuttle)\n",
    "library(Voyager)"
   ]
  },
  {
   "cell_type": "code",
   "execution_count": null,
<<<<<<< HEAD
   "id": "263263f0",
||||||| ff06ad40
   "id": "f0eda9da",
=======
   "id": "3a8d1a91",
>>>>>>> documentation-devel
   "metadata": {
    "name": "dwnld"
   },
   "outputs": [],
   "source": [
    "download.file(\"https://github.com/cellatlas/cellatlas/raw/main/examples/rna-splitseq/cellatlas_out/adata.h5ad.gz\", \n",
    "              \"adata.h5ad.gz\", quiet = TRUE)\n",
    "system(\"gunzip -f adata.h5ad.gz\")\n",
    "sce <- readH5AD(\"adata.h5ad\")\n",
    "assayNames(sce) <- \"counts\""
   ]
  },
  {
   "cell_type": "code",
   "execution_count": null,
<<<<<<< HEAD
   "id": "7c0e083a",
||||||| ff06ad40
   "id": "f40a610c",
=======
   "id": "501e5917",
>>>>>>> documentation-devel
   "metadata": {},
   "outputs": [],
   "source": [
    "is_mito <- str_detect(rowData(sce)$gene_name, regex(\"^mt-\", ignore_case=TRUE))\n",
    "sum(is_mito)"
   ]
  },
  {
   "cell_type": "code",
   "execution_count": null,
<<<<<<< HEAD
   "id": "f33d2708",
||||||| ff06ad40
   "id": "71421aeb",
=======
   "id": "30aaa2ab",
>>>>>>> documentation-devel
   "metadata": {},
   "outputs": [],
   "source": [
    "sce <- addPerCellQCMetrics(sce, subsets = list(mito = is_mito))\n",
    "names(colData(sce))"
   ]
  },
  {
   "cell_type": "code",
   "execution_count": null,
<<<<<<< HEAD
   "id": "55c98d12",
||||||| ff06ad40
   "id": "91097cf2",
=======
   "id": "763c0938",
>>>>>>> documentation-devel
   "metadata": {},
   "outputs": [],
   "source": [
    "plotColData(sce, \"sum\") +\n",
    "    plotColData(sce, \"detected\") +\n",
    "    plotColData(sce, \"subsets_mito_percent\")"
   ]
  },
  {
   "cell_type": "code",
   "execution_count": null,
<<<<<<< HEAD
   "id": "95cd7f53",
||||||| ff06ad40
   "id": "0122fa46",
=======
   "id": "fbd192a2",
>>>>>>> documentation-devel
   "metadata": {},
   "outputs": [],
   "source": [
    "plotColData(sce, x = \"sum\", y = \"detected\", bins = 100) +\n",
    "    scale_fill_distiller(palette = \"Blues\", direction = 1)"
   ]
  },
  {
   "cell_type": "code",
   "execution_count": null,
<<<<<<< HEAD
   "id": "87e0c9b6",
||||||| ff06ad40
   "id": "6c617370",
=======
   "id": "565679c6",
>>>>>>> documentation-devel
   "metadata": {},
   "outputs": [],
   "source": [
    "plotColData(sce, x = \"sum\", y = \"subsets_mito_detected\", bins = 100) +\n",
    "    scale_fill_distiller(palette = \"Blues\", direction = 1)"
   ]
  },
  {
   "cell_type": "code",
   "execution_count": null,
<<<<<<< HEAD
   "id": "cba0d1b2",
||||||| ff06ad40
   "id": "97c195cb",
=======
   "id": "121a0740",
>>>>>>> documentation-devel
   "metadata": {
    "name": "subset-qc"
   },
   "outputs": [],
   "source": [
    "sce <- sce[, which(sce$subsets_mito_percent < 20)]\n",
    "sce <- sce[rowSums(counts(sce)) > 0,]\n",
    "\n",
    "sce"
   ]
  },
  {
   "cell_type": "code",
   "execution_count": null,
<<<<<<< HEAD
   "id": "12aea862",
||||||| ff06ad40
   "id": "39365d24",
=======
   "id": "3e848053",
>>>>>>> documentation-devel
   "metadata": {},
   "outputs": [],
   "source": [
    "sessionInfo()"
   ]
  }
 ],
 "metadata": {
  "kernelspec": {
   "display_name": "R",
   "language": "R",
   "name": "ir"
  }
 },
 "nbformat": 4,
 "nbformat_minor": 5
}
