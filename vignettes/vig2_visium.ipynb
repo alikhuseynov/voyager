{
 "cells": [
  {
   "cell_type": "raw",
<<<<<<< HEAD
<<<<<<< HEAD
   "id": "bab4c7d8",
||||||| d29fab7
   "id": "3a5d21b9",
=======
   "id": "f3434a11",
>>>>>>> documentation-devel
||||||| 565f7a7
   "id": "bab4c7d8",
=======
   "id": "13cb5c9b",
>>>>>>> e08844e1a91b8e98d8bdd4d0244954bda0b7215b
   "metadata": {},
   "source": [
    "---\n",
    "title: \"Spatial Visium exploratory data analysis\"\n",
    "author: \"Lambda Moses\"\n",
    "date: \"`r Sys.Date()`\"\n",
    "output: \n",
    "  html_document:\n",
    "  toc: true\n",
    "  toc_float:\n",
    "    collapsed: false\n",
    "  toc_depth: 3\n",
    "bibliography: ref.bib\n",
    "vignette: >\n",
    "  %\\VignetteIndexEntry{Spatial Visium exploratory data analysis}\n",
    "  %\\VignetteEngine{knitr::rmarkdown}\n",
    "  %\\VignetteEncoding{UTF-8}\n",
    "---"
   ]
  },
  {
   "cell_type": "code",
   "execution_count": null,
<<<<<<< HEAD
<<<<<<< HEAD
   "id": "3c19a7fa",
||||||| d29fab7
   "id": "1eb156b2",
=======
   "id": "313ab8b7",
>>>>>>> documentation-devel
||||||| 565f7a7
   "id": "3c19a7fa",
=======
   "id": "ec999465",
>>>>>>> e08844e1a91b8e98d8bdd4d0244954bda0b7215b
   "metadata": {
    "tags": [
     "remove_cell"
    ]
   },
   "outputs": [],
   "source": [
    "knitr::opts_chunk$set(\n",
    "  collapse = TRUE,\n",
    "  comment = \"#>\", fig.align = \"center\"\n",
    ")"
   ]
  },
  {
   "cell_type": "code",
   "execution_count": null,
<<<<<<< HEAD
<<<<<<< HEAD
   "id": "1623d9a4",
||||||| d29fab7
   "id": "674afdc9",
=======
   "id": "4c7ec3cb",
>>>>>>> documentation-devel
||||||| 565f7a7
   "id": "1623d9a4",
=======
   "id": "e206103d",
>>>>>>> e08844e1a91b8e98d8bdd4d0244954bda0b7215b
   "metadata": {
    "eval": false,
    "tags": [
     "remove_cell"
    ]
   },
   "outputs": [],
   "source": [
    "# Install Google Colab dependencies\n",
    "# Note: this can take 30+ minutes (many of the dependencies include C++ code, which needs to be compiled)\n",
    "\n",
    "# First install `sf`, `ragg` and `textshaping` and their system dependencies:\n",
    "system(\"apt-get -y update && apt-get install -y  libudunits2-dev libgdal-dev libgeos-dev libproj-dev libharfbuzz-dev libfribidi-dev\")\n",
    "install.packages(\"sf\")\n",
    "install.packages(\"textshaping\")\n",
    "install.packages(\"ragg\")\n",
    "\n",
    "# Install system dependencies of some other R packages that Voyager either imports or suggests:\n",
    "system(\"apt-get install -y libfribidi-dev libcairo2-dev libmagick++-dev\")\n",
    "\n",
    "# Install Voyager from Bioconductor:\n",
    "install.packages(\"BiocManager\")\n",
    "BiocManager::install(version = \"3.17\", ask = FALSE, update = FALSE, Ncpus = 2)\n",
    "BiocManager::install(\"scater\")\n",
    "system.time(\n",
    "  BiocManager::install(\"Voyager\", dependencies = TRUE, Ncpus = 2, update = FALSE)\n",
    ")\n",
    "\n",
    "# Additional dependencies for this notebook\n",
    "install.packages(\"reticulate\")\n",
    "system(\"pip3 install gget\")\n",
    "packageVersion(\"Voyager\")"
   ]
  },
  {
   "cell_type": "markdown",
<<<<<<< HEAD
<<<<<<< HEAD
   "id": "9e2cee85",
||||||| d29fab7
   "id": "2bb39408",
=======
   "id": "4bc74ee7",
>>>>>>> documentation-devel
||||||| 565f7a7
   "id": "9e2cee85",
=======
   "id": "f4583276",
>>>>>>> e08844e1a91b8e98d8bdd4d0244954bda0b7215b
   "metadata": {},
   "source": [
    "# Introduction \n",
    "\n",
    "This vignette provides an introduction to exploratory spatial data analysis methods via the `Voyager` package in the context of a Visium dataset."
   ]
  },
  {
   "cell_type": "code",
   "execution_count": null,
<<<<<<< HEAD
<<<<<<< HEAD
   "id": "f93ea6d3",
||||||| d29fab7
   "id": "b21cc2fe",
=======
   "id": "ddc5ad0c",
>>>>>>> documentation-devel
||||||| 565f7a7
   "id": "f93ea6d3",
=======
   "id": "f01fa758",
>>>>>>> e08844e1a91b8e98d8bdd4d0244954bda0b7215b
   "metadata": {
    "message": false,
    "name": "setup"
   },
   "outputs": [],
   "source": [
    "library(Voyager)\n",
    "library(SpatialFeatureExperiment)\n",
    "library(scater)\n",
    "library(scran)\n",
    "library(SFEData)\n",
    "library(sf)\n",
    "library(ggplot2)\n",
    "library(scales)\n",
    "library(patchwork)\n",
    "library(BiocParallel)\n",
    "library(bluster)\n",
    "library(dplyr)\n",
    "library(reticulate)\n",
    "theme_set(theme_bw(10))"
   ]
  },
  {
   "cell_type": "code",
   "execution_count": null,
<<<<<<< HEAD
<<<<<<< HEAD
   "id": "a5a04033",
||||||| d29fab7
   "id": "91d7cb13",
=======
   "id": "9d8c80ba",
>>>>>>> documentation-devel
||||||| 565f7a7
   "id": "a5a04033",
=======
   "id": "df6cac1d",
>>>>>>> e08844e1a91b8e98d8bdd4d0244954bda0b7215b
   "metadata": {
    "lines_to_next_cell": 2
   },
   "outputs": [],
   "source": [
    "# Specify Python version to use gget\n",
    "PY_PATH <- system(\"which python\", intern = TRUE)\n",
    "use_python(PY_PATH)\n",
    "py_config()\n",
    "\n",
    "# Load gget\n",
    "gget <- import(\"gget\")"
   ]
  },
  {
   "cell_type": "markdown",
<<<<<<< HEAD
<<<<<<< HEAD
   "id": "83e59afd",
||||||| d29fab7
   "id": "7d70b57e",
=======
   "id": "d015d851",
>>>>>>> documentation-devel
||||||| 565f7a7
   "id": "83e59afd",
=======
   "id": "b4181e80",
>>>>>>> e08844e1a91b8e98d8bdd4d0244954bda0b7215b
   "metadata": {},
   "source": [
    "# Dataset\n",
    "The dataset used in this vignette is from the paper [Large-scale integration of single-cell transcriptomic data captures transitional progenitor states in mouse skeletal muscle regeneration](https://doi.org/10.1038/s42003-021-02810-x) [@McKellar2021-ek]. Notexin was injected into the tibialis anterior muscle of mice to induce injury, and the healing muscle was collected 2, 5, and 7 days post injury for Visium analysis. The dataset in this vignette is from the timepoint at day 2. The vignette starts with a `SpatialFeatureExperiment` (SFE) object.\n",
    "\n",
    "The gene count matrix was directly downloaded [from GEO](https://www.ncbi.nlm.nih.gov/geo/query/acc.cgi?acc=GSM4904759). All 4992 spots, whether in tissue or not, are included. The H&E image was used for nuclei and myofiber segmentation. A subset of nuclei from randomly selected regions from all 3 timepoints were manually annotated to train a StarDist model to segment the rest of the nuclei, and the myofibers were all manually segmented. The tissue boundary was found by thresholding in OpenCV, and small polygons were removed as they are likely to be debris. Spot polygons were constructed with the spot centroid coordinates and diameter in the Space Ranger output. The `in_tissue` column in `colData` indicates which spot polygons intersect the tissue polygons, and is based on `st_intersects()`.\n",
    "\n",
    "Tissue boundary, nuclei, myofiber, and Visium spot polygons are stored as `sf` data frames in the SFE object. See [the vignette of `SpatialFeatureExperiment`](https://bioconductor.org/packages/devel/bioc/vignettes/SpatialFeatureExperiment/inst/doc/SFE.html) for more details on the structure of the SFE object. The SFE object of this dataset is provided in the `SFEData` package; we begin by downloading the data and loading it into R."
   ]
  },
  {
   "cell_type": "code",
   "execution_count": null,
<<<<<<< HEAD
<<<<<<< HEAD
   "id": "3cbd6642",
||||||| d29fab7
   "id": "24c92f47",
=======
   "id": "4b6699de",
>>>>>>> documentation-devel
||||||| 565f7a7
   "id": "3cbd6642",
=======
   "id": "b4492802",
>>>>>>> e08844e1a91b8e98d8bdd4d0244954bda0b7215b
   "metadata": {},
   "outputs": [],
   "source": [
    "(sfe <- McKellarMuscleData(\"full\"))"
   ]
  },
  {
   "cell_type": "markdown",
<<<<<<< HEAD
<<<<<<< HEAD
   "id": "061a1528",
||||||| d29fab7
   "id": "7497c39f",
=======
   "id": "3df02ef7",
>>>>>>> documentation-devel
||||||| 565f7a7
   "id": "061a1528",
=======
   "id": "c11dba1b",
>>>>>>> e08844e1a91b8e98d8bdd4d0244954bda0b7215b
   "metadata": {},
   "source": [
    "The H&E image of this section:\n",
    "![A cross section of mouse muscle is slightly off center to the lower left. In the middle of the tissue is the notexin injury site with leukocyte infiltration and fewer myofibers. The rest of the tissue section is tightly packed with myofibers.](https://raw.githubusercontent.com/pachterlab/voyager/documentation/vignettes/tissue_lowres_5a.jpeg)"
   ]
  },
  {
   "cell_type": "code",
   "execution_count": null,
<<<<<<< HEAD
<<<<<<< HEAD
   "id": "f1d4eedf",
   "metadata": {
    "tags": [
     "remove_cell"
    ]
   },
||||||| d29fab7
   "id": "2ea83838",
   "metadata": {
    "tags": [
     "remove_cell"
    ]
   },
=======
   "id": "a2eda0cc",
   "metadata": {},
>>>>>>> documentation-devel
||||||| 565f7a7
   "id": "f1d4eedf",
   "metadata": {
    "tags": [
     "remove_cell"
    ]
   },
=======
   "id": "405cf118",
   "metadata": {},
>>>>>>> e08844e1a91b8e98d8bdd4d0244954bda0b7215b
   "outputs": [],
   "source": [
    "if (!file.exists(\"tissue_lowres_5a.jpeg\")) {\n",
    "    download.file(\"https://raw.githubusercontent.com/pachterlab/voyager/main/vignettes/tissue_lowres_5a.jpeg\",\n",
    "                  destfile = \"tissue_lowres_5a.jpeg\")\n",
    "}"
   ]
  },
  {
   "cell_type": "markdown",
<<<<<<< HEAD
<<<<<<< HEAD
   "id": "e7caef78",
||||||| d29fab7
   "id": "98fd00ee",
=======
   "id": "547444bf",
>>>>>>> documentation-devel
||||||| 565f7a7
   "id": "e7caef78",
=======
   "id": "3d882b31",
>>>>>>> e08844e1a91b8e98d8bdd4d0244954bda0b7215b
   "metadata": {
    "lines_to_next_cell": 0
   },
   "source": [
    "The image can be added to the SFE object and plotted behind the geometries, and needs to be flipped to align to the spots because the origin is at the top left for the image but bottom left for geometries."
   ]
  },
  {
   "cell_type": "code",
   "execution_count": null,
<<<<<<< HEAD
<<<<<<< HEAD
   "id": "bc9baacd",
||||||| d29fab7
   "id": "df4b0b64",
=======
   "id": "d73ced13",
>>>>>>> documentation-devel
||||||| 565f7a7
   "id": "bc9baacd",
=======
   "id": "05195593",
>>>>>>> e08844e1a91b8e98d8bdd4d0244954bda0b7215b
   "metadata": {},
   "outputs": [],
   "source": [
    "sfe <- addImg(sfe, file = \"tissue_lowres_5a.jpeg\", sample_id = \"Vis5A\", \n",
    "              image_id = \"lowres\", \n",
    "              scale_fct = 1024/22208)\n",
    "sfe <- mirrorImg(sfe, sample_id = \"Vis5A\", image_id = \"lowres\")"
   ]
  },
  {
   "cell_type": "markdown",
<<<<<<< HEAD
<<<<<<< HEAD
   "id": "946e8f68",
||||||| d29fab7
   "id": "3a7e4ec6",
=======
   "id": "68f78c2f",
>>>>>>> documentation-devel
||||||| 565f7a7
   "id": "946e8f68",
=======
   "id": "fc6ef5b1",
>>>>>>> e08844e1a91b8e98d8bdd4d0244954bda0b7215b
   "metadata": {},
   "source": [
    "# Exploratory data analysis\n",
    "## Spots in tissue\n",
    "While the example dataset has all Visium spots whether on tissue or not, only spots that intersect tissue are used for further analyses. "
   ]
  },
  {
   "cell_type": "code",
   "execution_count": null,
<<<<<<< HEAD
<<<<<<< HEAD
   "id": "e08cbb53",
||||||| d29fab7
   "id": "25765a7a",
=======
   "id": "a8e5c04b",
>>>>>>> documentation-devel
||||||| 565f7a7
   "id": "e08cbb53",
=======
   "id": "82b5fdaf",
>>>>>>> e08844e1a91b8e98d8bdd4d0244954bda0b7215b
   "metadata": {},
   "outputs": [],
   "source": [
    "names(colData(sfe))"
   ]
  },
  {
   "cell_type": "markdown",
<<<<<<< HEAD
<<<<<<< HEAD
   "id": "42eaaa3f",
||||||| d29fab7
   "id": "f29c230b",
=======
   "id": "162c4a20",
>>>>>>> documentation-devel
||||||| 565f7a7
   "id": "42eaaa3f",
=======
   "id": "31d7fdc3",
>>>>>>> e08844e1a91b8e98d8bdd4d0244954bda0b7215b
   "metadata": {
    "lines_to_next_cell": 0
   },
   "source": [
    "Total UMI counts (`nCounts`), number of genes detected per spot (`nGenes`), and the proportion of mitochondrially encoded counts (`prop_mito`) have been precomputed and are in `colData(sfe)`. The `plotSpatialFeature` function can be used to visualize various attributes in space: the expression of any gene, `colData` values, and geometry attributes in `colGeometry` and `annotGeometry`. The Visium spots are plotted as polygons reflecting their actual size relative to the tissue, rather than as points, as is the case in other packages that plot Visium data. The plotting of geometries is being performed under the hood with `geom_sf`.\n",
    "\n",
    "The tissue boundary was found by thresholding the H&E image and removing small polygons that are most likely debris. The `in_tissue` column of `colData(sfe)` indicates which Visium spot polygon intersects the tissue polygon; this can be found with `SpatialFeatureExperiment::annotPred()`.\n",
    "\n",
    "We demonstrate the use of `scran` [@Lun2016-yq] for normalization below, although we note that it is not necessarily the best approach to normalizing spatial transcriptomics data. The problem of when and how to normalize spatial transcriptomics data is non-trivial because, as the `nCounts` plot in space shows above, spatial autocorrelation is evident. Furthemrore, in Visium, reverse transcription occurs in situ on the spots, but PCR amplification occurs after the cDNA is dissociated from the spots. Artifacts may be subsequently introduced from the amplification step, and these would not be associated with spatial origin. Spatial artifacts may arise from the diffusion of transcripts and tissue permeablization. However, given how the total counts seem to correspond to histological regions, the total counts may have a biological component and hence should not be treated as a technical artifact to be normalized away as in scRNA-seq data normalization methods. In other words, the issue of normalization for spatial transcriptomics data, and Visium in particular, is complex and is currently unsolved. "
   ]
  },
  {
   "cell_type": "code",
   "execution_count": null,
<<<<<<< HEAD
<<<<<<< HEAD
   "id": "e9aa79c0",
||||||| d29fab7
   "id": "4e9500fa",
=======
   "id": "bacf49ad",
>>>>>>> documentation-devel
||||||| 565f7a7
   "id": "e9aa79c0",
=======
   "id": "653a479f",
>>>>>>> e08844e1a91b8e98d8bdd4d0244954bda0b7215b
   "metadata": {},
   "outputs": [],
   "source": [
    "sfe_tissue <- sfe[,colData(sfe)$in_tissue]\n",
    "sfe_tissue <- sfe_tissue[rowSums(counts(sfe_tissue)) > 0,]"
   ]
  },
  {
   "cell_type": "code",
   "execution_count": null,
<<<<<<< HEAD
<<<<<<< HEAD
   "id": "d4b943ae",
||||||| d29fab7
   "id": "bf5b1ee8",
=======
   "id": "d3f75c1a",
>>>>>>> documentation-devel
||||||| 565f7a7
   "id": "d4b943ae",
=======
   "id": "0d5dfd68",
>>>>>>> e08844e1a91b8e98d8bdd4d0244954bda0b7215b
   "metadata": {},
   "outputs": [],
   "source": [
    "#clusters <- quickCluster(sfe_tissue)\n",
    "#sfe_tissue <- computeSumFactors(sfe_tissue, clusters=clusters)\n",
    "#sfe_tissue <- sfe_tissue[, sizeFactors(sfe_tissue) > 0]\n",
    "sfe_tissue <- logNormCounts(sfe_tissue)"
   ]
  },
  {
   "cell_type": "markdown",
<<<<<<< HEAD
<<<<<<< HEAD
   "id": "a379163f",
||||||| d29fab7
   "id": "f017ec01",
=======
   "id": "7676eaae",
>>>>>>> documentation-devel
||||||| 565f7a7
   "id": "a379163f",
=======
   "id": "ed91fc24",
>>>>>>> e08844e1a91b8e98d8bdd4d0244954bda0b7215b
   "metadata": {},
   "source": [
    "Myofiber and nuclei segmentation polygons are available in this dataset in the `annotGeometries` field. Myofibers were manually segmented, and nuclei were segmented with [`StarDist`](https://github.com/stardist/stardist) trained with a manually segmented subset. "
   ]
  },
  {
   "cell_type": "code",
   "execution_count": null,
<<<<<<< HEAD
<<<<<<< HEAD
   "id": "439caecd",
||||||| d29fab7
   "id": "97340bfb",
=======
   "id": "3dbc65d1",
>>>>>>> documentation-devel
||||||| 565f7a7
   "id": "439caecd",
=======
   "id": "eead1391",
>>>>>>> e08844e1a91b8e98d8bdd4d0244954bda0b7215b
   "metadata": {},
   "outputs": [],
   "source": [
    "annotGeometryNames(sfe_tissue)"
   ]
  },
  {
   "cell_type": "markdown",
<<<<<<< HEAD
<<<<<<< HEAD
   "id": "e70a522b",
||||||| d29fab7
   "id": "c41ce336",
=======
   "id": "28cb6389",
>>>>>>> documentation-devel
||||||| 565f7a7
   "id": "e70a522b",
=======
   "id": "e985529f",
>>>>>>> e08844e1a91b8e98d8bdd4d0244954bda0b7215b
   "metadata": {
    "lines_to_next_cell": 0
   },
   "source": [
    "### From myofibers and nuclei to Visium spots\n",
    "The `plotSpatialFeature()` function can also be used to plot attributes of geometries, i.e. the non-geometry columns in the `sf` data frames in the `rowGeometries`, `colGeometries`, or `annotGeometries` fields of the SFE object. For `rowGeometries` and `colGeometries`, such columns which are associated with the `sf` data frames rather than `rowData` or `colData`, are allowed because one can specify how these columns associate with the geometries (see [`st_agr`](https://r-spatial.github.io/sf/reference/st_agr.html) and [documentation of `st_sf`](https://r-spatial.github.io/sf/reference/sf.html#details-1)). When an attribute of an `annotGeometry` is plotted along side gene expression or `colData` or `colGeometry` attribute, the `annotGeometry` attribute is plotted with a different color palette to distinguish it from the column associated values. \n",
    "\n",
    "The myofiber polygons from `annotGeometries` can be plotted as shown below, colored by cross section area as observed in the tissue section. The `aes_use` argument is set to `color` rather than `fill` (default for polygons) to only plot the Visium spot outlines to make the myofiber polygons more visible. The `fill` argument is set to `NA` to make the Visium spots look hollow, and the `size` argument controls the thickness of the outlines. The `annot_aes` argument specifies which column in the `annotGeometry` to use to specify the values of an aesthstic, just like `aes` in `ggplot2` (`aes_string` to be precise, since `tidyeval` is not used here). The `annot_fixed` argument (not used here) can set the fixed size, alpha, color, and etc. for the `annotGeometry`. "
   ]
  },
  {
   "cell_type": "code",
   "execution_count": null,
<<<<<<< HEAD
<<<<<<< HEAD
   "id": "1b48ef61",
||||||| d29fab7
   "id": "d60345d1",
=======
   "id": "658efb45",
>>>>>>> documentation-devel
||||||| 565f7a7
   "id": "1b48ef61",
=======
   "id": "c901238d",
>>>>>>> e08844e1a91b8e98d8bdd4d0244954bda0b7215b
   "metadata": {
    "fig.alt": "Plot of Visium spots in tissue and myofiber polygons in physical space. Visium spots are colored by nCounts, and myofibers are colored by area."
   },
   "outputs": [],
   "source": [
    "plotSpatialFeature(sfe_tissue, features = \"nCounts\", \n",
    "                   colGeometryName = \"spotPoly\",\n",
    "                   annotGeometryName = \"myofiber_simplified\", \n",
    "                   aes_use = \"color\", linewidth = 0.5, fill = NA,\n",
    "                   annot_aes = list(fill = \"area\"))"
   ]
  },
  {
   "cell_type": "markdown",
<<<<<<< HEAD
<<<<<<< HEAD
   "id": "5e3da0fe",
||||||| d29fab7
   "id": "588b5731",
=======
   "id": "9f80591e",
>>>>>>> documentation-devel
||||||| 565f7a7
   "id": "5e3da0fe",
=======
   "id": "5b5829a2",
>>>>>>> e08844e1a91b8e98d8bdd4d0244954bda0b7215b
   "metadata": {
    "lines_to_next_cell": 0
   },
   "source": [
    "The larger myofibers seem to have fewer total counts, possibly because the larger size of these myofibers dilutes the transcripts. This hints at the need for a normalization procedure.\n",
    "\n",
    "With `SpatialFeatureExperiment`, we can find the number of myofibers and nuclei that intersect each Visium spot. The predicate can be [anything implemented in `sf`](https://r-spatial.github.io/sf/reference/geos_binary_pred.html), so for example, the number of nuclei fully covered by each Visium spot can also be found. The default predicate is `st_intersects()`."
   ]
  },
  {
   "cell_type": "code",
   "execution_count": null,
<<<<<<< HEAD
<<<<<<< HEAD
   "id": "d8052e75",
||||||| d29fab7
   "id": "7875aa2b",
=======
   "id": "9767e688",
>>>>>>> documentation-devel
||||||| 565f7a7
   "id": "d8052e75",
=======
   "id": "e9893598",
>>>>>>> e08844e1a91b8e98d8bdd4d0244954bda0b7215b
   "metadata": {},
   "outputs": [],
   "source": [
    "colData(sfe_tissue)$n_myofibers <- \n",
    "  annotNPred(sfe_tissue, colGeometryName = \"spotPoly\",\n",
    "             annotGeometryName = \"myofiber_simplified\")"
   ]
  },
  {
   "cell_type": "code",
   "execution_count": null,
<<<<<<< HEAD
<<<<<<< HEAD
   "id": "3f872268",
||||||| d29fab7
   "id": "21f84331",
=======
   "id": "93fe25c2",
>>>>>>> documentation-devel
||||||| 565f7a7
   "id": "3f872268",
=======
   "id": "ed80c112",
>>>>>>> e08844e1a91b8e98d8bdd4d0244954bda0b7215b
   "metadata": {
    "fig.alt": "Plot of Visium spots in tissue in physical space, colored by number of myofibers intersecting each spot.",
    "fig.height": 4,
    "fig.width": 8
   },
   "outputs": [],
   "source": [
    "plotSpatialFeature(sfe_tissue, features = \"n_myofibers\", \n",
    "                   colGeometryName = \"spotPoly\", image = \"lowres\", color = \"black\",\n",
    "                   linewidth = 0.1)"
   ]
  },
  {
   "cell_type": "markdown",
<<<<<<< HEAD
<<<<<<< HEAD
   "id": "12021f5b",
||||||| d29fab7
   "id": "0ead7056",
=======
   "id": "9388ef7e",
>>>>>>> documentation-devel
||||||| 565f7a7
   "id": "12021f5b",
=======
   "id": "beaf56f0",
>>>>>>> e08844e1a91b8e98d8bdd4d0244954bda0b7215b
   "metadata": {
    "lines_to_next_cell": 0
   },
   "source": [
    "There is no one-to-one mapping between Visium spots and myofibers. However, we can relate attributes of myofibers to gene expression detected at the Visium spots. One way to do so is to summarize the attributes of all myofibers that intersect (or choose another better predicate implemented in `sf`) each spot, such as to calculate the mean, median, or sum. This can be done with the `annotSummary()` function in `SpatialFeatureExperiment`. The default predicate is `st_intersects()`, and the default summary function is `mean()`."
   ]
  },
  {
   "cell_type": "code",
   "execution_count": null,
<<<<<<< HEAD
<<<<<<< HEAD
   "id": "fe40e0bb",
||||||| d29fab7
   "id": "ae0bde8b",
=======
   "id": "b817df0b",
>>>>>>> documentation-devel
||||||| 565f7a7
   "id": "fe40e0bb",
=======
   "id": "7449cd6a",
>>>>>>> e08844e1a91b8e98d8bdd4d0244954bda0b7215b
   "metadata": {},
   "outputs": [],
   "source": [
    "colData(sfe_tissue)$mean_myofiber_area <- \n",
    "  annotSummary(sfe_tissue, \"spotPoly\", \"myofiber_simplified\", \n",
    "               annotColNames = \"area\")[,1] # it always returns a data frame"
   ]
  },
  {
   "cell_type": "code",
   "execution_count": null,
<<<<<<< HEAD
<<<<<<< HEAD
   "id": "1227e82a",
||||||| d29fab7
   "id": "2f5b03f6",
=======
   "id": "a632c120",
>>>>>>> documentation-devel
||||||| 565f7a7
   "id": "1227e82a",
=======
   "id": "d206b135",
>>>>>>> e08844e1a91b8e98d8bdd4d0244954bda0b7215b
   "metadata": {
    "fig.alt": "Plot of Visium spots in tissue in physical space, colored by the average area of myofibers that intersect each spot. The average area is higher near the mid-top right part of the tissue."
   },
   "outputs": [],
   "source": [
    "# The gray spots don't intersect any myofiber\n",
    "plotSpatialFeature(sfe_tissue, \"mean_myofiber_area\", \"spotPoly\", image = \"lowres\", \n",
    "                   color = \"black\", linewidth = 0.1)"
   ]
  },
  {
   "cell_type": "markdown",
<<<<<<< HEAD
<<<<<<< HEAD
   "id": "bc03d0c9",
||||||| d29fab7
   "id": "688ad53c",
=======
   "id": "69db8de9",
>>>>>>> documentation-devel
||||||| 565f7a7
   "id": "bc03d0c9",
=======
   "id": "1c964391",
>>>>>>> e08844e1a91b8e98d8bdd4d0244954bda0b7215b
   "metadata": {
    "lines_to_next_cell": 0
   },
   "source": [
    "This reveals the relationship between the mean area of myofibers intersecting each Visium spot and other aspects of the spots, such as total counts and gene expression.\n",
    "\n",
    "The NAs designate spots not intersecting any myofibers, e.g. those in the inflammatory region. \n",
    "\n",
    "In the [Basic Visium vignette](https://pachterlab.github.io/Voyager/articles/vig2_visium_basic.html), we encountered two mysterious branches and two clusters in the nGenes vs. nCounts plot and the proportion of mitochondrial counts vs. nCounts plot. Now we see that the two clusters seem to be related to myofiber size."
   ]
  },
  {
   "cell_type": "code",
   "execution_count": null,
<<<<<<< HEAD
<<<<<<< HEAD
   "id": "95ea7578",
||||||| d29fab7
   "id": "8d80aa2f",
=======
   "id": "c8ef9c47",
>>>>>>> documentation-devel
||||||| 565f7a7
   "id": "95ea7578",
=======
   "id": "53fad3b3",
>>>>>>> e08844e1a91b8e98d8bdd4d0244954bda0b7215b
   "metadata": {},
   "outputs": [],
   "source": [
    "plotColData(sfe_tissue, x = \"nCounts\", y = \"nGenes\", colour_by = \"mean_myofiber_area\")"
   ]
  },
  {
   "cell_type": "code",
   "execution_count": null,
<<<<<<< HEAD
<<<<<<< HEAD
   "id": "4883a445",
||||||| d29fab7
   "id": "573f7708",
=======
   "id": "2d453f74",
>>>>>>> documentation-devel
||||||| 565f7a7
   "id": "4883a445",
=======
   "id": "f48cf1d8",
>>>>>>> e08844e1a91b8e98d8bdd4d0244954bda0b7215b
   "metadata": {},
   "outputs": [],
   "source": [
    "plotColData(sfe_tissue, x = \"nCounts\", y = \"prop_mito\", colour_by = \"mean_myofiber_area\")"
   ]
  },
  {
   "cell_type": "markdown",
<<<<<<< HEAD
<<<<<<< HEAD
   "id": "d8c6cb31",
||||||| d29fab7
   "id": "7cdeb0a5",
=======
   "id": "66bb80db",
>>>>>>> documentation-devel
||||||| 565f7a7
   "id": "d8c6cb31",
=======
   "id": "aba8edb8",
>>>>>>> e08844e1a91b8e98d8bdd4d0244954bda0b7215b
   "metadata": {
    "lines_to_next_cell": 0
   },
   "source": [
    "### Myofiber types\n",
    "Marker genes: Myh7 (Type I, slow twitch, aerobic), Myh2 (Type IIa, fast twitch, somewhat aerobic), Myh4 (Type IIb, fast twitch, anareobic), Myh1 (Type IIx, fast twitch, anaerobic), from [this protocol](https://www.ncbi.nlm.nih.gov/pmc/articles/PMC5526362/) [@Wang2017-li]"
   ]
  },
  {
   "cell_type": "code",
   "execution_count": null,
<<<<<<< HEAD
<<<<<<< HEAD
   "id": "46e5a914",
||||||| d29fab7
   "id": "1c34a690",
=======
   "id": "45d53025",
>>>>>>> documentation-devel
||||||| 565f7a7
   "id": "46e5a914",
=======
   "id": "16904d50",
>>>>>>> e08844e1a91b8e98d8bdd4d0244954bda0b7215b
   "metadata": {},
   "outputs": [],
   "source": [
    "markers <- c(I = \"Myh7\", IIa = \"Myh2\", IIb = \"Myh4\", IIx = \"Myh1\")"
   ]
  },
  {
   "cell_type": "markdown",
<<<<<<< HEAD
<<<<<<< HEAD
   "id": "f919130d",
||||||| d29fab7
   "id": "b52adf1e",
=======
   "id": "c904671f",
>>>>>>> documentation-devel
||||||| 565f7a7
   "id": "f919130d",
=======
   "id": "4bf3b49e",
>>>>>>> e08844e1a91b8e98d8bdd4d0244954bda0b7215b
   "metadata": {
    "lines_to_next_cell": 0
   },
   "source": [
    "We can use the [gget search](https://pachterlab.github.io/gget/search.html) and [gget info](https://pachterlab.github.io/gget/info.html) modules from the [gget](https://pachterlab.github.io/gget/) package to get the Ensembl IDs and additional information (for example their [NCBI](https://www.ncbi.nlm.nih.gov/) description) for these marker genes:"
   ]
  },
  {
   "cell_type": "code",
   "execution_count": null,
<<<<<<< HEAD
<<<<<<< HEAD
   "id": "b3ec6c4f",
||||||| d29fab7
   "id": "8d027ee6",
=======
   "id": "6cd4a8f0",
>>>>>>> documentation-devel
||||||| 565f7a7
   "id": "b3ec6c4f",
=======
   "id": "a1daed76",
>>>>>>> e08844e1a91b8e98d8bdd4d0244954bda0b7215b
   "metadata": {},
   "outputs": [],
   "source": [
    "gget_search <- gget$search(list(\"Myh7\", \"Myh2\", \"Myh4\", \"Myh1\"), species=\"mouse\")\n",
    "gget_search <- gget_search[gget_search$gene_name %in% list(\"Myh7\", \"Myh2\", \"Myh4\", \"Myh1\"), ]\n",
    "gget_search"
   ]
  },
  {
   "cell_type": "code",
   "execution_count": null,
<<<<<<< HEAD
<<<<<<< HEAD
   "id": "2ddbe1c9",
||||||| d29fab7
   "id": "20410775",
=======
   "id": "e926a9d1",
>>>>>>> documentation-devel
||||||| 565f7a7
   "id": "2ddbe1c9",
=======
   "id": "b212b885",
>>>>>>> e08844e1a91b8e98d8bdd4d0244954bda0b7215b
   "metadata": {},
   "outputs": [],
   "source": [
    "gget_info <- gget$info(gget_search$ensembl_id)\n",
    "\n",
    "rownames(gget_info) <- gget_info$primary_gene_name\n",
    "select(gget_info, ncbi_description)"
   ]
  },
  {
   "cell_type": "markdown",
<<<<<<< HEAD
<<<<<<< HEAD
   "id": "55bb8364",
||||||| d29fab7
   "id": "85f0f081",
=======
   "id": "95c0e07d",
>>>>>>> documentation-devel
||||||| 565f7a7
   "id": "55bb8364",
=======
   "id": "8beb4610",
>>>>>>> e08844e1a91b8e98d8bdd4d0244954bda0b7215b
   "metadata": {
    "lines_to_next_cell": 0
   },
   "source": [
    "We first examine the Type I myofibers. This is a fast twitch muscle, so we don't expect many slow twitch Type I myofibers. Row names in `sfe_tissue` are Ensembl IDs in order to avoid ambiguity as sometimes multiple Ensembl IDs have the same gene symbol and some genes have aliases. However, gene symbols are shorter and more human readable than Ensembl IDs, and are better suited to display on plots.  In the `plotSpatialFeature()` function and other functions in `Voyager`, even when the row names are recorded as Ensembl IDs, the `features` argument can take gene symbols if there is a column called \"symbols\" in `rowData(sfe)`, where the function converts the gene symbols to Ensembl IDs. By default, gene symbols are shown on the plot, but the `show_symbol` argument can be set to `FALSE` to show Ensembl IDs instead. If one gene symbol matches multiple Ensembl IDs in the dataset, then a warning will be given.\n",
    "\n",
    "The `exprs_values` argument specifies the assay to use, which is by default \"logcounts\", i.e. the log normalized data. This default may or may not be suitable in practice given that total UMI counts may have biological relevance in spatial data. Therefore, we plot both the raw counts and the log normalized counts:"
   ]
  },
  {
   "cell_type": "code",
   "execution_count": null,
<<<<<<< HEAD
<<<<<<< HEAD
   "id": "500a13d7",
||||||| d29fab7
   "id": "df2dc300",
=======
   "id": "6bb4f22e",
>>>>>>> documentation-devel
||||||| 565f7a7
   "id": "500a13d7",
=======
   "id": "b9a3d4f2",
>>>>>>> e08844e1a91b8e98d8bdd4d0244954bda0b7215b
   "metadata": {},
   "outputs": [],
   "source": [
    "# Function specific for this vignette, with some hard coded values\n",
    "plot_counts_logcounts <- function(sfe, feature) {\n",
    "  p1 <- plotSpatialFeature(sfe, feature, \"spotPoly\",\n",
    "                   annotGeometryName = \"myofiber_simplified\", \n",
    "                   annot_aes = list(fill = \"area\"), show_symbol = TRUE, \n",
    "                   exprs_values = \"counts\", aes_use = \"color\", linewidth = 0.5,\n",
    "                   fill = NA) +\n",
    "    ggtitle(\"Raw counts\")\n",
    "  p2 <- plotSpatialFeature(sfe, feature, \"spotPoly\",\n",
    "                   annotGeometryName = \"myofiber_simplified\", \n",
    "                   annot_aes = list(fill = \"area\"), show_symbol = TRUE, \n",
    "                   exprs_values = \"logcounts\", aes_use = \"color\", linewidth = 0.5,\n",
    "                   fill = NA) +\n",
    "    ggtitle(\"Log normalized counts\")\n",
    "  p1 + p2 +\n",
    "    plot_annotation(title = feature)\n",
    "}"
   ]
  },
  {
   "cell_type": "code",
   "execution_count": null,
<<<<<<< HEAD
<<<<<<< HEAD
   "id": "c8345cff",
||||||| d29fab7
   "id": "fa1d0677",
=======
   "id": "945b3587",
>>>>>>> documentation-devel
||||||| 565f7a7
   "id": "c8345cff",
=======
   "id": "c916dd9a",
>>>>>>> e08844e1a91b8e98d8bdd4d0244954bda0b7215b
   "metadata": {
    "fig.alt": "Raw and log normalized counts of Myh7, marker gene of type I myofiber, plotted side by side on Visium spots in space, with myofiber polygons colored by myofiber cross section area plotted in the background. Visium spots expressing Myh7 concentrate in the lower left part of the tissue where the myofibers tend to be smaller."
   },
   "outputs": [],
   "source": [
    "plot_counts_logcounts(sfe_tissue, markers[\"I\"])"
   ]
  },
  {
   "cell_type": "markdown",
<<<<<<< HEAD
<<<<<<< HEAD
   "id": "fb65b58a",
||||||| d29fab7
   "id": "1391a72a",
=======
   "id": "ef775057",
>>>>>>> documentation-devel
||||||| 565f7a7
   "id": "fb65b58a",
=======
   "id": "a00e1d7b",
>>>>>>> e08844e1a91b8e98d8bdd4d0244954bda0b7215b
   "metadata": {
    "lines_to_next_cell": 0
   },
   "source": [
    "A marker gene for type IIa myofibers is shown above. It is straightforward to modify the plotting to display markers for type IIb and type IIx myofibers:"
   ]
  },
  {
   "cell_type": "code",
   "execution_count": null,
<<<<<<< HEAD
<<<<<<< HEAD
   "id": "57d423d9",
||||||| d29fab7
   "id": "d3ab63ac",
=======
   "id": "7abb30be",
>>>>>>> documentation-devel
||||||| 565f7a7
   "id": "57d423d9",
=======
   "id": "de4afba3",
>>>>>>> e08844e1a91b8e98d8bdd4d0244954bda0b7215b
   "metadata": {
    "fig.alt": "Raw and log normalized counts of Myh2, a marker gene of type IIa myofiber, plotted side by side on Visium spots in space, with myofiber polygons colored by myofiber cross section area plotted in the background. Visium spots expressing Myh2 concentrate in the lower left and upper left parts of the tissue where the myofibers tend to be smaller. Log normalized counts show a wider region with higher expression."
   },
   "outputs": [],
   "source": [
    "plot_counts_logcounts(sfe_tissue, markers[\"IIa\"])"
   ]
  },
  {
   "cell_type": "markdown",
<<<<<<< HEAD
<<<<<<< HEAD
   "id": "5bf0d568",
||||||| d29fab7
   "id": "8a5c23a2",
=======
   "id": "2e16f5df",
>>>>>>> documentation-devel
||||||| 565f7a7
   "id": "5bf0d568",
=======
   "id": "c5c37685",
>>>>>>> e08844e1a91b8e98d8bdd4d0244954bda0b7215b
   "metadata": {
    "lines_to_next_cell": 0
   },
   "source": [
    "Type IIa myofibers also tend to be clustered together on left side of the tissue.\n",
    "\n",
    "As SFE inherits from SCE, the non-spatial EDA plots from the `scater` package can also be used:"
   ]
  },
  {
   "cell_type": "code",
   "execution_count": null,
<<<<<<< HEAD
<<<<<<< HEAD
   "id": "b2cb76b2",
||||||| d29fab7
   "id": "7d020ab5",
=======
   "id": "e1ca4364",
>>>>>>> documentation-devel
||||||| 565f7a7
   "id": "b2cb76b2",
=======
   "id": "c776c8dd",
>>>>>>> e08844e1a91b8e98d8bdd4d0244954bda0b7215b
   "metadata": {
    "fig.alt": "Scatter plot of mean area of myofibers intersecting each Visium spot in the x axis and proportion of mitochondrially encoded counts per spot in the y axis, with points colored by expression of Myh2."
   },
   "outputs": [],
   "source": [
    "plotColData(sfe_tissue, x = \"mean_myofiber_area\", y = \"prop_mito\", \n",
    "            colour_by = markers[\"IIa\"], by_exprs_values = \"logcounts\", \n",
    "            swap_rownames = \"symbol\")"
   ]
  },
  {
   "cell_type": "markdown",
<<<<<<< HEAD
<<<<<<< HEAD
   "id": "c5731790",
||||||| d29fab7
   "id": "a127607e",
=======
   "id": "62c4e2d9",
>>>>>>> documentation-devel
||||||| 565f7a7
   "id": "c5731790",
=======
   "id": "a3e00945",
>>>>>>> e08844e1a91b8e98d8bdd4d0244954bda0b7215b
   "metadata": {},
   "source": [
    "Plotting proportion of mitochondrial counts vs. mean myofiber area, we see two clusters, one with higher proportion of mitochondrial counts and smaller area, and another with lower proportion of mitochondrial counts and on average slightly larger area. Type IIa myofibers tend to have smaller area and a larger proportion of mitochondrial counts.\n",
    "\n",
    "# Spatial neighborhood graphs\n",
    "A spatial neighborhood graph is required to compute spatial dependency metrics such as Moran's I and Geary's C. The `SpatialFeatureExperiment` package wraps methods in `spdep` to find spatial neighborhood graphs, which are stored within the SFE object (see `spdep` documentation for `gabrielneigh()`, `knearneigh()`, `poly2nb()`, and `tri2nb()`). The `Voyager` package then uses these graphs for spatial dependency analyses, again based on `spdep` in this first version, but methods from other geospatial packages, some of which also use the spatial neighborhood graphs, may be added later.\n",
    "\n",
    "For Visium, where the spots are in a hexagonal grid, the spatial neighborhood graph is straightforward. However, for spatial technologies with single cell resolution, e.g. MERFISH, different methods can be used to find the spatial neighborhood graph. In this example, the method \"poly2nb\" was used for myofibers, and it identifies myofiber polygons that physically touch each other. `zero.policy = TRUE` will allow for singletons, i.e. nodes without neighbors in the graph; in the inflamed region, there are more singletons. We have not yet benchmarked spatial neighborhood construction methods to determine which is the \"best\" for different technologies; the particular method used here is for demonstration purposes and may not be the best in practice: "
   ]
  },
  {
   "cell_type": "code",
   "execution_count": null,
<<<<<<< HEAD
<<<<<<< HEAD
   "id": "8a99e1d5",
||||||| d29fab7
   "id": "6f8684b6",
=======
   "id": "23fa76cd",
>>>>>>> documentation-devel
||||||| 565f7a7
   "id": "8a99e1d5",
=======
   "id": "5648f61c",
>>>>>>> e08844e1a91b8e98d8bdd4d0244954bda0b7215b
   "metadata": {},
   "outputs": [],
   "source": [
    "colGraph(sfe_tissue, \"visium\") <- findVisiumGraph(sfe_tissue)\n",
    "annotGraph(sfe_tissue, \"myofiber_poly2nb\") <- \n",
    "  findSpatialNeighbors(sfe_tissue, type = \"myofiber_simplified\", MARGIN = 3,\n",
    "                       method = \"poly2nb\", zero.policy = TRUE)"
   ]
  },
  {
   "cell_type": "markdown",
<<<<<<< HEAD
<<<<<<< HEAD
   "id": "c9af17ae",
||||||| d29fab7
   "id": "0475b2dc",
=======
   "id": "200756ba",
>>>>>>> documentation-devel
||||||| 565f7a7
   "id": "c9af17ae",
=======
   "id": "3919a834",
>>>>>>> e08844e1a91b8e98d8bdd4d0244954bda0b7215b
   "metadata": {
    "lines_to_next_cell": 0
   },
   "source": [
    "The `plotColGraph()` function plots the graph in space associated with a `colGeometry`, along with the geometry of interest."
   ]
  },
  {
   "cell_type": "code",
   "execution_count": null,
<<<<<<< HEAD
<<<<<<< HEAD
   "id": "0a5e4fa0",
||||||| d29fab7
   "id": "4bf71b9f",
=======
   "id": "daa0c212",
>>>>>>> documentation-devel
||||||| 565f7a7
   "id": "0a5e4fa0",
=======
   "id": "ab9df101",
>>>>>>> e08844e1a91b8e98d8bdd4d0244954bda0b7215b
   "metadata": {
    "fig.alt": "Spatial neighborhood graph of Visium spots that intersect tissue."
   },
   "outputs": [],
   "source": [
    "plotColGraph(sfe_tissue, colGraphName = \"visium\", colGeometryName = \"spotPoly\") +\n",
    "    theme_void()"
   ]
  },
  {
   "cell_type": "markdown",
<<<<<<< HEAD
<<<<<<< HEAD
   "id": "86e38b54",
||||||| d29fab7
   "id": "8d269b13",
=======
   "id": "b7172697",
>>>>>>> documentation-devel
||||||| 565f7a7
   "id": "86e38b54",
=======
   "id": "14eba946",
>>>>>>> e08844e1a91b8e98d8bdd4d0244954bda0b7215b
   "metadata": {
    "lines_to_next_cell": 0
   },
   "source": [
    "Similarly, the `plotAnnotGraph()` function plots the graph associated with an `annotGeometry`, along with the geometry of interest. "
   ]
  },
  {
   "cell_type": "code",
   "execution_count": null,
<<<<<<< HEAD
<<<<<<< HEAD
   "id": "614dc8b3",
||||||| d29fab7
   "id": "13252e04",
=======
   "id": "9bdc6a76",
>>>>>>> documentation-devel
||||||| 565f7a7
   "id": "614dc8b3",
=======
   "id": "5c880433",
>>>>>>> e08844e1a91b8e98d8bdd4d0244954bda0b7215b
   "metadata": {
    "fig.alt": "Spatial neighborhood graph of myofibers, where each edge connects two myofibers that touch."
   },
   "outputs": [],
   "source": [
    "plotAnnotGraph(sfe_tissue, annotGraphName = \"myofiber_poly2nb\", \n",
    "               annotGeometryName = \"myofiber_simplified\") + theme_void()"
   ]
  },
  {
   "cell_type": "markdown",
<<<<<<< HEAD
<<<<<<< HEAD
   "id": "88c49db0",
||||||| d29fab7
   "id": "79635390",
=======
   "id": "9efaf7fb",
>>>>>>> documentation-devel
||||||| 565f7a7
   "id": "88c49db0",
=======
   "id": "f6411ab0",
>>>>>>> e08844e1a91b8e98d8bdd4d0244954bda0b7215b
   "metadata": {
    "lines_to_next_cell": 0
   },
   "source": [
    "There is no `plotRowGraph` yet since we haven't worked with a dataset where spatial graphs related to genes are relevant, although the SFE object supports row graphs.\n",
    "\n",
    "# Exploratory _spatial_ data analysis\n",
    "All spatial autocorrelation metrics in this package can be computed directly on a vector or a matrix rather than an SFE object. The user interface emulates those of dimension reductions in the `scater` package (e.g. `calculateUMAP()` that takes in a matrix or SCE object and returns a matrix, and `runUMAP()` that takes in an SCE object and adds the results to the `reducedDims` field of the SCE object). So `calculate*` functions take in a matrix or an SFE object and directly return the results (format of the results depends on the structure of the results), while `run*` functions take in an SFE object and add the results to the object. In addition, `colData*` functions compute the metrics for numeric variables in `colData`. `colGeometry*` functions compute the metrics for numeric columns in a `colGeometry`. `annotGeometry*` functions compute the metrics for numeric columns in a `annotGeometry`. \n",
    "\n",
    "# Univariate global\n",
    "`Voyager` supports many univariate global spatial autocorrelation implemented in `spdep` for ESDA: Moran's I and Geary's C, permutation testing for Moran's I and Geary's C, Moran plot, and correlograms. In addition, beyond `spdep`, `Voyager` can cluster Moran plots and correlograms. Plotting functions taking in SFE objects are implemented to plot the results with `ggplot2` and with more customization options than `spdep` plotting functions. The functions `calculateUnivariate()`, `runUnivariate()`, `colDataUnivariate()`, `colGeometryUnivariate()`, and `annotGeometryUnivariate()` compute univariate spatial statistics. The argument `type`, which indicates the corresponding function names in `spdep`, determines which spatial statistics are computed. \n",
    "\n",
    "All univariate global methods in `Voyager` are listed here:"
   ]
  },
  {
   "cell_type": "code",
   "execution_count": null,
<<<<<<< HEAD
<<<<<<< HEAD
   "id": "3cca1061",
||||||| d29fab7
   "id": "426014a1",
=======
   "id": "cd6a8334",
>>>>>>> documentation-devel
||||||| 565f7a7
   "id": "3cca1061",
=======
   "id": "401ca519",
>>>>>>> e08844e1a91b8e98d8bdd4d0244954bda0b7215b
   "metadata": {},
   "outputs": [],
   "source": [
    "listSFEMethods(variate = \"uni\", scope = \"global\")"
   ]
  },
  {
   "cell_type": "markdown",
<<<<<<< HEAD
<<<<<<< HEAD
   "id": "4ff430cb",
||||||| d29fab7
   "id": "161e432f",
=======
   "id": "9d3b3708",
>>>>>>> documentation-devel
||||||| 565f7a7
   "id": "4ff430cb",
=======
   "id": "df59cfa7",
>>>>>>> e08844e1a91b8e98d8bdd4d0244954bda0b7215b
   "metadata": {
    "lines_to_next_cell": 0
   },
   "source": [
    "When calling `calculate*variate()` or `run*variate()`, the `type` (2nd) argument takes either an `SFEMethod` object (see `SFEMethod()` and [vignette on `SFEMethod`](https://pachterlab.github.io/voyager/articles/sfemethod.html)) or a string that matches an entry in the `name` column in the data frame returned by `listSFEMethods()`.\n",
    "\n",
    "To demonstrate spatial autocorrelation in gene expression, top highly variable genes (HVGs) are used. The HVGs are found with the `scran` method."
   ]
  },
  {
   "cell_type": "code",
   "execution_count": null,
<<<<<<< HEAD
<<<<<<< HEAD
   "id": "e4ab456d",
||||||| d29fab7
   "id": "03dd9ba5",
=======
   "id": "9f158f77",
>>>>>>> documentation-devel
||||||| 565f7a7
   "id": "e4ab456d",
=======
   "id": "1c133e17",
>>>>>>> e08844e1a91b8e98d8bdd4d0244954bda0b7215b
   "metadata": {},
   "outputs": [],
   "source": [
    "dec <- modelGeneVar(sfe_tissue)\n",
    "hvgs <- getTopHVGs(dec, n = 50)"
   ]
  },
  {
   "cell_type": "markdown",
<<<<<<< HEAD
<<<<<<< HEAD
   "id": "4869f878",
||||||| d29fab7
   "id": "75724d2d",
=======
   "id": "1c1e30b9",
>>>>>>> documentation-devel
||||||| 565f7a7
   "id": "4869f878",
=======
   "id": "53a5c613",
>>>>>>> e08844e1a91b8e98d8bdd4d0244954bda0b7215b
   "metadata": {
    "lines_to_next_cell": 0
   },
   "source": [
    "A global statistic yields one result for the entire dataset.\n",
    "\n",
    "## Moran's I\n",
    "There are several ways to quantify spatial autocorrelation, the most common of which is Moran's I:\n",
    "\n",
    "$$\n",
    "I = \\frac{n}{\\sum_{i=1}^n \\sum_{j=1}^n w_{ij}} \\frac{\\sum_{i=1}^n \\sum_{j=1}^n w_{ij} (x_i - \\bar{x})(x_j - \\bar{x})}{\\sum_{i=1}^n (x_i - \\bar{x})^2},\n",
    "$$\n",
    "\n",
    "where $n$ is the number of spots or locations, $i$ and $j$ are different locations, or spots in the Visium context, $x$ is a variable with values at each location, and $w_{ij}$ is a spatial weight, which can be inversely proportional to distance between spots or an indicator of whether two spots are neighbors, subject to various definitions of neighborhood and whether to normalize the number of neighbors. The [`spdep`](https://r-spatial.github.io/spdep/index.html) package uses the neighborhood. \n",
    "\n",
    "Moran's I can be understood as the Pearson correlation between the value at each location and the average value at its neighbors. Just like Pearson correlation, Moran's I is generally bound between -1 and 1, where positive value indicates positive spatial autocorrelation and negative value indicates negative spatial autocorrelation. \n",
    "\n",
    "Upon visual inspection, total UMI counts per spot seem to have spatial autocorrelation. A spatial neighborhood graph is required to compute Moran's I, and is specified with the `listw` argument. \n",
    "\n",
    "For matrices, the rows are the features, as in the gene count matrix."
   ]
  },
  {
   "cell_type": "code",
   "execution_count": null,
<<<<<<< HEAD
<<<<<<< HEAD
   "id": "b3223ea7",
||||||| d29fab7
   "id": "a13f2a7e",
=======
   "id": "f0d5b0d2",
>>>>>>> documentation-devel
||||||| 565f7a7
   "id": "b3223ea7",
=======
   "id": "5e8faab8",
>>>>>>> e08844e1a91b8e98d8bdd4d0244954bda0b7215b
   "metadata": {},
   "outputs": [],
   "source": [
    "# Directly use vector or matrix, and multiple features can be specified at once\n",
    "calculateUnivariate(t(colData(sfe_tissue)[,c(\"nCounts\", \"nGenes\")]), \n",
    "                    type = \"moran\",\n",
    "                    listw = colGraph(sfe_tissue, \"visium\"))"
   ]
  },
  {
   "cell_type": "markdown",
<<<<<<< HEAD
<<<<<<< HEAD
   "id": "01102823",
||||||| d29fab7
   "id": "6ccf4aa2",
=======
   "id": "ad506956",
>>>>>>> documentation-devel
||||||| 565f7a7
   "id": "01102823",
=======
   "id": "748b7e56",
>>>>>>> e08844e1a91b8e98d8bdd4d0244954bda0b7215b
   "metadata": {
    "lines_to_next_cell": 0
   },
   "source": [
    "\"moran\" is Moran's I, and K is sample kurtosis.\n",
    "\n",
    "To add the results to the SFE object, specifically for colData:"
   ]
  },
  {
   "cell_type": "code",
   "execution_count": null,
<<<<<<< HEAD
<<<<<<< HEAD
   "id": "6aab5ce2",
||||||| d29fab7
   "id": "65875977",
=======
   "id": "672eb2a5",
>>>>>>> documentation-devel
||||||| 565f7a7
   "id": "6aab5ce2",
=======
   "id": "9ea60ab5",
>>>>>>> e08844e1a91b8e98d8bdd4d0244954bda0b7215b
   "metadata": {},
   "outputs": [],
   "source": [
    "sfe_tissue <- colDataUnivariate(sfe_tissue, features = c(\"nCounts\", \"nGenes\"),\n",
    "                                colGraphName = \"visium\", type = \"moran\")\n",
    "colFeatureData(sfe_tissue)[c(\"nCounts\", \"nGenes\"),]"
   ]
  },
  {
   "cell_type": "markdown",
<<<<<<< HEAD
<<<<<<< HEAD
   "id": "1530981a",
||||||| d29fab7
   "id": "c777efb2",
=======
   "id": "fd6c70bc",
>>>>>>> documentation-devel
||||||| 565f7a7
   "id": "1530981a",
=======
   "id": "d934d26b",
>>>>>>> e08844e1a91b8e98d8bdd4d0244954bda0b7215b
   "metadata": {
    "lines_to_next_cell": 0
   },
   "source": [
    "For `colData`, the results are added to `colFeatureData(sfe)`, and features for which Moran's I is not calculated have NA. The column names of `featureData` distinguishes between different samples (there's only one sample in this dataset), and are parsed by plotting functions. \n",
    "\n",
    "To add the results to the SFE object, specifically for geometries: Here \"area\" is the area of the cross section of each myofiber as seen in this tissue section and \"eccentricity\" is the eccentricity of the ellipse fitted to each myofiber."
   ]
  },
  {
   "cell_type": "code",
   "execution_count": null,
<<<<<<< HEAD
<<<<<<< HEAD
   "id": "4dfca05f",
||||||| d29fab7
   "id": "27b723ed",
=======
   "id": "0d553892",
>>>>>>> documentation-devel
||||||| 565f7a7
   "id": "4dfca05f",
=======
   "id": "8afc1dbe",
>>>>>>> e08844e1a91b8e98d8bdd4d0244954bda0b7215b
   "metadata": {},
   "outputs": [],
   "source": [
    "# Remember zero.policy = TRUE since there're singletons\n",
    "sfe_tissue <- annotGeometryUnivariate(sfe_tissue, type = \"moran\",\n",
    "                                      features = c(\"area\", \"eccentricity\"), \n",
    "                                      annotGeometryName = \"myofiber_simplified\",\n",
    "                                      annotGraphName = \"myofiber_poly2nb\", \n",
    "                                      zero.policy = TRUE)\n",
    "head(attr(annotGeometry(sfe_tissue, \"myofiber_simplified\"), \"featureData\"))"
   ]
  },
  {
   "cell_type": "markdown",
<<<<<<< HEAD
<<<<<<< HEAD
   "id": "93ccd497",
||||||| d29fab7
   "id": "d97c2419",
=======
   "id": "d56ca4ae",
>>>>>>> documentation-devel
||||||| 565f7a7
   "id": "93ccd497",
=======
   "id": "f86631eb",
>>>>>>> e08844e1a91b8e98d8bdd4d0244954bda0b7215b
   "metadata": {
    "lines_to_next_cell": 0
   },
   "source": [
    "For a non-geometry column in a `colGeometry`, `colGeometryUnivariate()` is like `annotGeometryUnivariate()` here, but none of the `colGeometries` in this dataset has extra columns.\n",
    "\n",
    "For gene expression, the `logcounts` assay is used by default (use the `exprs_values` argument to change the assay), though this may or may not be best practice. If the metrics are computed for a large number of features, parallel computing is supported, with [`BiocParallel`](https://bioconductor.org/packages/release/bioc/html/BiocParallel.html), with the `BPPARAM` argument."
   ]
  },
  {
   "cell_type": "code",
   "execution_count": null,
<<<<<<< HEAD
<<<<<<< HEAD
   "id": "d3314028",
||||||| d29fab7
   "id": "f3fb897a",
=======
   "id": "00684bec",
>>>>>>> documentation-devel
||||||| 565f7a7
   "id": "d3314028",
=======
   "id": "51b4b255",
>>>>>>> e08844e1a91b8e98d8bdd4d0244954bda0b7215b
   "metadata": {},
   "outputs": [],
   "source": [
    "sfe_tissue <- runUnivariate(sfe_tissue, type = \"moran\", features = hvgs, \n",
    "                            colGraphName = \"visium\", \n",
    "                            BPPARAM = MulticoreParam(2))\n",
    "rowData(sfe_tissue)[head(hvgs),]"
   ]
  },
  {
   "cell_type": "markdown",
<<<<<<< HEAD
<<<<<<< HEAD
   "id": "ccc1a5eb",
||||||| d29fab7
   "id": "00262c33",
=======
   "id": "1d382cbf",
>>>>>>> documentation-devel
||||||| 565f7a7
   "id": "ccc1a5eb",
=======
   "id": "63b988a9",
>>>>>>> e08844e1a91b8e98d8bdd4d0244954bda0b7215b
   "metadata": {
    "lines_to_next_cell": 0
   },
   "source": [
    "## Geary's C\n",
    "Another spatial autocorrelation metric is Geary's C, defined as:\n",
    "\n",
    "$$\n",
    "C = \\frac{(n-1)}{2\\sum_{i=1}^n \\sum_{j=1}^n w_{ij}} \\frac{\\sum_{i=1}^n \\sum_{j=1}^n w_{ij}(x_i - x_j)^2}{{\\sum_{i=1}^n (x_i - \\bar{x})^2}}\n",
    "$$\n",
    "\n",
    "Geary's C  below 1 indicates positive spatial autocorrelation, and above 1 indicates negative spatial autocorrelation.\n",
    "\n",
    "To compute Geary's C for features of interest replace `type = \"moran\"` in the previous section with `type = \"geary\"`, and add the results to the SFE object. For example, for `colData`"
   ]
  },
  {
   "cell_type": "code",
   "execution_count": null,
<<<<<<< HEAD
<<<<<<< HEAD
   "id": "372e43fd",
||||||| d29fab7
   "id": "d9140bc8",
=======
   "id": "7bb1dfa2",
>>>>>>> documentation-devel
||||||| 565f7a7
   "id": "372e43fd",
=======
   "id": "9247a406",
>>>>>>> e08844e1a91b8e98d8bdd4d0244954bda0b7215b
   "metadata": {},
   "outputs": [],
   "source": [
    "sfe_tissue <- colDataUnivariate(sfe_tissue, features = c(\"nCounts\", \"nGenes\"),\n",
    "                                colGraphName = \"visium\", type = \"geary\")\n",
    "colFeatureData(sfe_tissue)[c(\"nCounts\", \"nGenes\"),]"
   ]
  },
  {
   "cell_type": "markdown",
<<<<<<< HEAD
<<<<<<< HEAD
   "id": "5d427401",
||||||| d29fab7
   "id": "91c80392",
=======
   "id": "b35b4656",
>>>>>>> documentation-devel
||||||| 565f7a7
   "id": "5d427401",
=======
   "id": "2a3b2774",
>>>>>>> e08844e1a91b8e98d8bdd4d0244954bda0b7215b
   "metadata": {
    "lines_to_next_cell": 0
   },
   "source": [
    "There's only one column for K since it's the same for Moran's I and Geary's C. Here both Moran's I and Geary's C suggest positive spatial autocorrelation for `nCounts` and `nGenes`.\n",
    "\n",
    "Other univariate global methods, including permutation testing for Moran's I and Geary's C, correlograms, and Moran scatter plot can also be called with functions such as `runUnivariate`, by specifying the `type` argument. See documentation of `runUnivariate` to see the available methods and see documentation of the corresponding `spdep` functions to see the extra arguments required for each method.\n",
    "\n",
    "## Permutation testing\n",
    "To establish whether the spatial autocorrelation is statistically significant, the `moran.test()` function in `spdep` can be used. It provides a p-value, but the p-value may not be accurate if the data is not normally distributed. As gene expression data is generally not normally distributed and data normalization doesn't always work well, we use permutation testing to test the significance of Moran's I and Geary's C, wrapping `moran.mc()` in `spdep`. The \"mc\" stands for Monte Carlo. The `nsim` argument specifies the number of simulations. \n",
    "\n",
    "The following adds the results to the SFE object:"
   ]
  },
  {
   "cell_type": "code",
   "execution_count": null,
<<<<<<< HEAD
<<<<<<< HEAD
   "id": "eee85f41",
||||||| d29fab7
   "id": "7b3a95f5",
=======
   "id": "6c5a9ff7",
>>>>>>> documentation-devel
||||||| 565f7a7
   "id": "eee85f41",
=======
   "id": "80eb412c",
>>>>>>> e08844e1a91b8e98d8bdd4d0244954bda0b7215b
   "metadata": {},
   "outputs": [],
   "source": [
    "set.seed(29)\n",
    "sfe_tissue <- colDataUnivariate(sfe_tissue, features = c(\"nCounts\", \"nGenes\"), \n",
    "                                colGraphName = \"visium\", nsim = 1000,\n",
    "                                type = \"moran.mc\")\n",
    "colFeatureData(sfe_tissue)[c(\"nCounts\", \"nGenes\"),]"
   ]
  },
  {
   "cell_type": "markdown",
<<<<<<< HEAD
<<<<<<< HEAD
   "id": "236ed95e",
||||||| d29fab7
   "id": "636873fb",
=======
   "id": "c53ebd13",
>>>>>>> documentation-devel
||||||| 565f7a7
   "id": "236ed95e",
=======
   "id": "ccce8b91",
>>>>>>> e08844e1a91b8e98d8bdd4d0244954bda0b7215b
   "metadata": {
    "lines_to_next_cell": 0
   },
   "source": [
    "Note that while the test is performed for multiple features, the p-values here are not corrected for multiple hypothesis testing.\n",
    "\n",
    "The results can be plotted:"
   ]
  },
  {
   "cell_type": "code",
   "execution_count": null,
<<<<<<< HEAD
<<<<<<< HEAD
   "id": "68958a4d",
||||||| d29fab7
   "id": "e4d95f87",
=======
   "id": "835f966b",
>>>>>>> documentation-devel
||||||| 565f7a7
   "id": "68958a4d",
=======
   "id": "2010107f",
>>>>>>> e08844e1a91b8e98d8bdd4d0244954bda0b7215b
   "metadata": {
    "fig.alt": "Density plot of Moran's I values from 1000 simulations of nCounts and nGenes. The density plots center around 0 and deminish around 0.06 on the right. Vertical lines mark the actual Moran's I. For both nCounts and nGenes, the actual value, at 0.53 and 0.38 respectively, is far higher than the simulated ones, indicating positive spatial autocorrelation."
   },
   "outputs": [],
   "source": [
    "plotMoranMC(sfe_tissue, c(\"nCounts\", \"nGenes\"))"
   ]
  },
  {
   "cell_type": "markdown",
<<<<<<< HEAD
<<<<<<< HEAD
   "id": "6a510bc7",
||||||| d29fab7
   "id": "c4816e80",
=======
   "id": "cbc3f623",
>>>>>>> documentation-devel
||||||| 565f7a7
   "id": "6a510bc7",
=======
   "id": "63872297",
>>>>>>> e08844e1a91b8e98d8bdd4d0244954bda0b7215b
   "metadata": {},
   "source": [
    "By default, the colorblind friendly palette from [`dittoSeq`](https://bioconductor.org/packages/release/bioc/html/dittoSeq.html) is used for categorical variables. The density plot is of Moran's I from the simulations where the values are permuted and disconnected from spatial locations, and the vertical line is the actual Moran's I value. The simulation indicates that the actual Moran's I is much higher than that from the simulations where the values are dissociated from spatial locations and permuted among the locations, indicating that spatial autocorrelation is very significant. \n",
    "\n",
    "Use `type = \"geary.mc\"` for permutation testing for Geary's C.\n",
    "\n",
    "The `spdep` package can also compute p-values of Moran's I analytically, but the theory behind the mean and variance of the null distribution of Moran's I assumes normal distribution of the data, while gene expression data is generally non-normal. However, according to [@Griffith2010-uy], with large sample size (\"preferably at least 100\"), mean and variance of Moran's I of several iid non-normal simulated datasets (including negative binomial, which is commonly used to model gene expression data) don't seem to deviate much from the values expected from normally distributed data. Spatial transcriptomics datasets typically have thousands or more spots or cells, so sample size is most likely large enough. Hence using the analytical test on non-normal data might not be too bad. However, with large sample size, a minuscule difference can create very significant p-values. Here we perform the analytical test for Moran's I:"
   ]
  },
  {
   "cell_type": "code",
   "execution_count": null,
<<<<<<< HEAD
<<<<<<< HEAD
   "id": "a1ad069c",
||||||| d29fab7
   "id": "e2ec8a3f",
=======
   "id": "ce1f153a",
>>>>>>> documentation-devel
||||||| 565f7a7
   "id": "a1ad069c",
=======
   "id": "1d9d1835",
>>>>>>> e08844e1a91b8e98d8bdd4d0244954bda0b7215b
   "metadata": {},
   "outputs": [],
   "source": [
    "sfe_tissue <- colDataUnivariate(sfe_tissue, features = c(\"nCounts\", \"nGenes\"), \n",
    "                                colGraphName = \"visium\", type = \"moran.test\")\n",
    "names(colFeatureData(sfe_tissue))"
   ]
  },
  {
   "cell_type": "markdown",
<<<<<<< HEAD
<<<<<<< HEAD
   "id": "164daff7",
||||||| d29fab7
   "id": "7063dece",
=======
   "id": "6d9e0670",
>>>>>>> documentation-devel
||||||| 565f7a7
   "id": "164daff7",
=======
   "id": "0c7a62e0",
>>>>>>> e08844e1a91b8e98d8bdd4d0244954bda0b7215b
   "metadata": {},
   "source": [
    "Now compare the p-values from permutation and analytical test; in both cases here, the default alternative hypothesis is positive spatial autocorrelation:"
   ]
  },
  {
   "cell_type": "code",
   "execution_count": null,
<<<<<<< HEAD
<<<<<<< HEAD
   "id": "306b3289",
||||||| d29fab7
   "id": "be7fb43b",
=======
   "id": "ae85e2fd",
>>>>>>> documentation-devel
||||||| 565f7a7
   "id": "306b3289",
=======
   "id": "5ea83b31",
>>>>>>> e08844e1a91b8e98d8bdd4d0244954bda0b7215b
   "metadata": {},
   "outputs": [],
   "source": [
    "# permutation\n",
    "colFeatureData(sfe_tissue)[c(\"nCounts\", \"nGenes\"), c(\"moran.mc_p.value_Vis5A\", \"moran.test_p.value_Vis5A\")]"
   ]
  },
  {
   "cell_type": "markdown",
<<<<<<< HEAD
<<<<<<< HEAD
   "id": "4436ac7f",
||||||| d29fab7
   "id": "418d5c89",
=======
   "id": "75848872",
>>>>>>> documentation-devel
||||||| 565f7a7
   "id": "4436ac7f",
=======
   "id": "949a9b2c",
>>>>>>> e08844e1a91b8e98d8bdd4d0244954bda0b7215b
   "metadata": {
    "lines_to_next_cell": 0
   },
   "source": [
    "The p-values from permutation are limited by the number of permutations (1000 here). Either way, both permutation and analytical tests indicate very significant positive spatial autocorrelation.\n",
    "\n",
    "A limitation of permutation testing of Moran's I is that it assumes that each permutation of the values among the locations is equally likely, which is not necessarily true. For instance, in epidemiology, disease rate in regions with small population more likely assumes more extreme values [@Assuncao1999-xu], which is analogous to rare cell types and lowly expressed genes in histological space given that we divide by total UMI counts per spot. The extent this happens may depend on tissue, gene of interest, technology, and data normalization method.\n",
    "\n",
    "## Correlogram\n",
    "In a correlogram, spatial autocorrelation of higher orders of neighbors (e.g. second order neighbors are neighbors of neighbors) is calculated to see how it decays over the orders. In Visium, with the regular hexagonal grid, order of neighbors is a proxy for distance. For more irregular patterns such as single cells, different methods to find the spatial neighbors may give different results. \n",
    "\n",
    "For `colData`, Moran's I correlogram is computed with"
   ]
  },
  {
   "cell_type": "code",
   "execution_count": null,
<<<<<<< HEAD
<<<<<<< HEAD
   "id": "cdd67c35",
||||||| d29fab7
   "id": "21dd78aa",
=======
   "id": "8446ceb6",
>>>>>>> documentation-devel
||||||| 565f7a7
   "id": "cdd67c35",
=======
   "id": "e6f05515",
>>>>>>> e08844e1a91b8e98d8bdd4d0244954bda0b7215b
   "metadata": {},
   "outputs": [],
   "source": [
    "sfe_tissue <- runUnivariate(sfe_tissue, hvgs[1:2], colGraphName = \"visium\", \n",
    "                            order = 10, type = \"sp.correlogram\")"
   ]
  },
  {
   "cell_type": "markdown",
<<<<<<< HEAD
<<<<<<< HEAD
   "id": "91ccfc32",
||||||| d29fab7
   "id": "98c49115",
=======
   "id": "ea29d042",
>>>>>>> documentation-devel
||||||| 565f7a7
   "id": "91ccfc32",
=======
   "id": "8bc53323",
>>>>>>> e08844e1a91b8e98d8bdd4d0244954bda0b7215b
   "metadata": {
    "lines_to_next_cell": 0
   },
   "source": [
    "The results can be plotted with `plotCorrelogram`:"
   ]
  },
  {
   "cell_type": "code",
   "execution_count": null,
<<<<<<< HEAD
<<<<<<< HEAD
   "id": "64e467bf",
||||||| d29fab7
   "id": "b724dc0c",
=======
   "id": "f668ef07",
>>>>>>> documentation-devel
||||||| 565f7a7
   "id": "64e467bf",
=======
   "id": "5f7ff0ca",
>>>>>>> e08844e1a91b8e98d8bdd4d0244954bda0b7215b
   "metadata": {
    "fig.alt": "Line plot with order of neighbors (lags) in the x axis and Moran's I value at each lag in the y axis. The x axis ranges from 1 to 10, and the y axis ranges from 0 to 0.8. The lines show trends of decay of spatial autocorrelation with increasing distance of neighbors. Two genes, Car3 and Mb, are shown. Moran's I of both genes decay somewhat linearly from lag 1 to 10. Car3 decays from around 0.75 to around 0.23. Mb decays from around 0.7 to around 0.13. At each lag the error bars are tight (see next paragraph in the main text) and the p-values are less than 0.001 after Benjamini-Hochberg multiple testing correction over the 2 genes and 10 lags."
   },
   "outputs": [],
   "source": [
    "plotCorrelogram(sfe_tissue, hvgs[1:2], swap_rownames = \"symbol\")"
   ]
  },
  {
   "cell_type": "markdown",
<<<<<<< HEAD
<<<<<<< HEAD
   "id": "26f1c94c",
||||||| d29fab7
   "id": "6a148f27",
=======
   "id": "7dc4aa02",
>>>>>>> documentation-devel
||||||| 565f7a7
   "id": "26f1c94c",
=======
   "id": "c7c57beb",
>>>>>>> e08844e1a91b8e98d8bdd4d0244954bda0b7215b
   "metadata": {
    "lines_to_next_cell": 0
   },
   "source": [
    "The error bars are twice the standard deviation of the Moran's I value. The standard deviation and p-values (null hypothesis is that Moran's I is 0) come from `moran.test()` (for Geary's C correlogram, `geary.test()`); these should be taken with a grain of salt for data that is not normally distributed. The p-values have been corrected for multiple hypothesis testing across all orders and features. As usual, . means p < 0.1, \\* means p < 0.05, \\*\\* means p < 0.01, and \\*\\*\\* means p < 0.001. \n",
    "\n",
    "Again, this can be done for Geary's C, `colData`, `annotGeometry`, and etc.\n",
    "\n",
    "# Univariate local\n",
    "Local statistics yield a result at each location rather than the whole dataset, while global statistics may obscure local heterogeneity. See [@Fotheringham2009-ak] for an interesting discussion of relationships between global and local spatial statistics. Local statistics are stored in the `localResults` field of the SFE object, which can be accessed by the `localResult()` or `localResults()` functions in the `SpatialFeatureExperiment` package.\n",
    "\n",
    "All univariate local methods in `Voyager` are listed here:"
   ]
  },
  {
   "cell_type": "code",
   "execution_count": null,
<<<<<<< HEAD
<<<<<<< HEAD
   "id": "f79c01c0",
||||||| d29fab7
   "id": "a5cefaa8",
=======
   "id": "b3546e7c",
>>>>>>> documentation-devel
||||||| 565f7a7
   "id": "f79c01c0",
=======
   "id": "52bf3e04",
>>>>>>> e08844e1a91b8e98d8bdd4d0244954bda0b7215b
   "metadata": {
    "lines_to_next_cell": 2
   },
   "outputs": [],
   "source": [
    "listSFEMethods(variate = \"uni\", scope = \"local\")"
   ]
  },
  {
   "cell_type": "markdown",
<<<<<<< HEAD
<<<<<<< HEAD
   "id": "c25b6dbf",
||||||| d29fab7
   "id": "403bd51a",
=======
   "id": "3cbb37c4",
>>>>>>> documentation-devel
||||||| 565f7a7
   "id": "c25b6dbf",
=======
   "id": "8992bed8",
>>>>>>> e08844e1a91b8e98d8bdd4d0244954bda0b7215b
   "metadata": {
    "lines_to_next_cell": 0
   },
   "source": [
    "## Moran scatter plot\n",
    "In the Moran scatter plot [@Anselin1996-mo], the x axis is the value at a spot, and the y axis is the average value of the neighbors. The slope of the fitted line is Moran's I. Sometimes clusters appear in this plot, showing different kinds of neighborhoods. \n",
    "\n",
    "For gene expression, to use one gene (log normalized value) to demonstrate:"
   ]
  },
  {
   "cell_type": "code",
   "execution_count": null,
<<<<<<< HEAD
<<<<<<< HEAD
   "id": "e912f117",
||||||| d29fab7
   "id": "b06c24cf",
=======
   "id": "78b69471",
>>>>>>> documentation-devel
||||||| 565f7a7
   "id": "e912f117",
=======
   "id": "51028a76",
>>>>>>> e08844e1a91b8e98d8bdd4d0244954bda0b7215b
   "metadata": {},
   "outputs": [],
   "source": [
    "sfe_tissue <- runUnivariate(sfe_tissue, \"Myh2\", colGraphName = \"visium\", \n",
    "                            type = \"moran.plot\", swap_rownames = \"symbol\")"
   ]
  },
  {
   "cell_type": "code",
   "execution_count": null,
<<<<<<< HEAD
<<<<<<< HEAD
   "id": "7a31a34a",
||||||| d29fab7
   "id": "75cf47fa",
=======
   "id": "4f5a23b2",
>>>>>>> documentation-devel
||||||| 565f7a7
   "id": "7a31a34a",
=======
   "id": "17909f7f",
>>>>>>> e08844e1a91b8e98d8bdd4d0244954bda0b7215b
   "metadata": {
    "fig.alt": "Moran scatter plot of log normalized values of gene Myh2. This plot is described in the upcoming main text."
   },
   "outputs": [],
   "source": [
    "moranPlot(sfe_tissue, \"Myh2\", graphName = \"visium\", swap_rownames = \"symbol\")"
   ]
  },
  {
   "cell_type": "markdown",
<<<<<<< HEAD
<<<<<<< HEAD
   "id": "e5f4c617",
||||||| d29fab7
   "id": "8aaed777",
=======
   "id": "0532ba6e",
>>>>>>> documentation-devel
||||||| 565f7a7
   "id": "e5f4c617",
=======
   "id": "071331af",
>>>>>>> e08844e1a91b8e98d8bdd4d0244954bda0b7215b
   "metadata": {},
   "source": [
    "The dashed lines mark the mean in Myh2 and spatially lagged Myh2. There are no singletons here. Some Visium spots with lower Myh2 expression have neighbors that don't express Myh2 but spots that don't express Myh2 usually have at least some neighbors that do. There are twp main clusters for spots whose neighbors do express Myh2: those with high (above average) expression whose neighbors also have high expression, and those with low expression whose neighbors also have low expression. Other features may show different kinds of clusters. We can use k-means clustering to identify clusters, though any clustering method supported by the `bluster` package can be used."
   ]
  },
  {
   "cell_type": "code",
   "execution_count": null,
<<<<<<< HEAD
<<<<<<< HEAD
   "id": "375ebba0",
||||||| d29fab7
   "id": "4aa3f67f",
=======
   "id": "3e9c54ed",
>>>>>>> documentation-devel
||||||| 565f7a7
   "id": "375ebba0",
=======
   "id": "aef8521c",
>>>>>>> e08844e1a91b8e98d8bdd4d0244954bda0b7215b
   "metadata": {},
   "outputs": [],
   "source": [
    "set.seed(29)\n",
    "clusts <- clusterMoranPlot(sfe_tissue, \"Myh2\", BLUSPARAM = KmeansParam(2),\n",
    "                           swap_rownames = \"symbol\")"
   ]
  },
  {
   "cell_type": "markdown",
<<<<<<< HEAD
<<<<<<< HEAD
   "id": "4b67ffe6",
||||||| d29fab7
   "id": "e0ce85eb",
=======
   "id": "b21a4cf9",
>>>>>>> documentation-devel
||||||| 565f7a7
   "id": "4b67ffe6",
=======
   "id": "0a022d0a",
>>>>>>> e08844e1a91b8e98d8bdd4d0244954bda0b7215b
   "metadata": {
    "lines_to_next_cell": 0
   },
   "source": [
    "We can use the [gget search](https://pachterlab.github.io/gget/search.html) module to get the Ensembl ID for Myh2:"
   ]
  },
  {
   "cell_type": "code",
   "execution_count": null,
<<<<<<< HEAD
<<<<<<< HEAD
   "id": "dc1ca2ff",
||||||| d29fab7
   "id": "1fad3c5f",
=======
   "id": "fb0e95c1",
>>>>>>> documentation-devel
||||||| 565f7a7
   "id": "dc1ca2ff",
=======
   "id": "55d3cd84",
>>>>>>> e08844e1a91b8e98d8bdd4d0244954bda0b7215b
   "metadata": {},
   "outputs": [],
   "source": [
    "gget$search(\"Myh2\", species=\"mouse\")"
   ]
  },
  {
   "cell_type": "code",
   "execution_count": null,
<<<<<<< HEAD
<<<<<<< HEAD
   "id": "adb4b6ce",
||||||| d29fab7
   "id": "f412960c",
=======
   "id": "b22a27f4",
>>>>>>> documentation-devel
||||||| 565f7a7
   "id": "adb4b6ce",
=======
   "id": "7e11e631",
>>>>>>> e08844e1a91b8e98d8bdd4d0244954bda0b7215b
   "metadata": {
    "fig.alt": "Moran scatter plot of log normalized value of Myh1, colored by 2 k-means clusters, which correspond to the high-high and low-low spots."
   },
   "outputs": [],
   "source": [
    "moranPlot(sfe_tissue, \"Myh2\", graphName = \"visium\", \n",
    "          color_by = clusts$ENSMUSG00000033196, swap_rownames = \"symbol\")"
   ]
  },
  {
   "cell_type": "markdown",
<<<<<<< HEAD
<<<<<<< HEAD
   "id": "d8fc8fa2",
||||||| d29fab7
   "id": "224ae856",
=======
   "id": "f7cff459",
>>>>>>> documentation-devel
||||||| 565f7a7
   "id": "d8fc8fa2",
=======
   "id": "eaec0443",
>>>>>>> e08844e1a91b8e98d8bdd4d0244954bda0b7215b
   "metadata": {
    "lines_to_next_cell": 0
   },
   "source": [
    "Plot the clusters in space"
   ]
  },
  {
   "cell_type": "code",
   "execution_count": null,
<<<<<<< HEAD
<<<<<<< HEAD
   "id": "dc0e54af",
||||||| d29fab7
   "id": "9e1f963e",
=======
   "id": "4b608aac",
>>>>>>> documentation-devel
||||||| 565f7a7
   "id": "dc0e54af",
=======
   "id": "eb0bf8ea",
>>>>>>> e08844e1a91b8e98d8bdd4d0244954bda0b7215b
   "metadata": {
    "fig.alt": "Visium spots in space colored by the k-means clusters. Cluster 2 (high-high) are mostly in the upper left and lower left parts of the tissue, and the rest of the spots are cluster 1."
   },
   "outputs": [],
   "source": [
    "colData(sfe_tissue)$Myh2_moranPlot_clust <- clusts$ENSMUSG00000033196\n",
    "plotSpatialFeature(sfe_tissue, \"Myh2_moranPlot_clust\", colGeometryName = \"spotPoly\",\n",
    "                   image = \"lowres\", color = \"black\", linewidth = 0.1)"
   ]
  },
  {
   "cell_type": "markdown",
<<<<<<< HEAD
<<<<<<< HEAD
   "id": "f68df40a",
||||||| d29fab7
   "id": "b9836f8b",
=======
   "id": "c815cc8e",
>>>>>>> documentation-devel
||||||| 565f7a7
   "id": "f68df40a",
=======
   "id": "0ce11174",
>>>>>>> e08844e1a91b8e98d8bdd4d0244954bda0b7215b
   "metadata": {},
   "source": [
    "This can also be done for `colData`, `annotGeometry`, and etc. as in Moran's I and permutation testing. \n",
    "\n",
    "## Local Moran's I\n",
    "To recap, global Moran's I is defined as\n",
    "\n",
    "$$\n",
    "I = \\frac{n}{\\sum_{i=1}^n \\sum_{j=1}^n w_{ij}} \\frac{\\sum_{i=1}^n \\sum_{j=1}^n w_{ij} (x_i - \\bar{x})(x_j - \\bar{x})}{\\sum_{i=1}^n (x_i - \\bar{x})^2}.\n",
    "$$\n",
    "\n",
    "Local Moran's I [@Anselin1995-cs] is defined as\n",
    "\n",
    "$$\n",
    "I_i = (n-1)\\frac{(x_i - \\bar{x})\\sum_{j=1}^n w_{ij} (x_j - \\bar{x})}{\\sum_{i=1}^n (x_i - \\bar{x})^2}.\n",
    "$$\n",
    "\n",
    "It's similar to global Moran's I, but the values at locations $i$ are not summed and there's no normalization by the sum of spatial weights. "
   ]
  },
  {
   "cell_type": "code",
   "execution_count": null,
<<<<<<< HEAD
<<<<<<< HEAD
   "id": "ba513113",
||||||| d29fab7
   "id": "ecd89ad6",
=======
   "id": "956aa9e8",
>>>>>>> documentation-devel
||||||| 565f7a7
   "id": "ba513113",
=======
   "id": "7c99c2b9",
>>>>>>> e08844e1a91b8e98d8bdd4d0244954bda0b7215b
   "metadata": {},
   "outputs": [],
   "source": [
    "sfe_tissue <- runUnivariate(sfe_tissue, type = \"localmoran\", features = \"Myh2\",\n",
    "                            colGraphName = \"visium\", swap_rownames = \"symbol\")"
   ]
  },
  {
   "cell_type": "markdown",
<<<<<<< HEAD
<<<<<<< HEAD
   "id": "23a3dca9",
||||||| d29fab7
   "id": "7d41d00d",
=======
   "id": "64e49d44",
>>>>>>> documentation-devel
||||||| 565f7a7
   "id": "23a3dca9",
=======
   "id": "89f7c16c",
>>>>>>> e08844e1a91b8e98d8bdd4d0244954bda0b7215b
   "metadata": {
    "lines_to_next_cell": 0
   },
   "source": [
    "It is useful to plot the log normalized Myh2 gene expression as context to interpret the local results:"
   ]
  },
  {
   "cell_type": "code",
   "execution_count": null,
<<<<<<< HEAD
<<<<<<< HEAD
   "id": "08d4a0fe",
||||||| d29fab7
   "id": "22cd8594",
=======
   "id": "7cd87b02",
>>>>>>> documentation-devel
||||||| 565f7a7
   "id": "08d4a0fe",
=======
   "id": "7a278dde",
>>>>>>> e08844e1a91b8e98d8bdd4d0244954bda0b7215b
   "metadata": {},
   "outputs": [],
   "source": [
    "plotSpatialFeature(sfe_tissue, features = \"Myh2\", colGeometryName = \"spotPoly\",\n",
    "                   swap_rownames = \"symbol\", image_id = \"lowres\", color = \"black\",\n",
    "                   linewidth = 0.1)"
   ]
  },
  {
   "cell_type": "code",
   "execution_count": null,
<<<<<<< HEAD
<<<<<<< HEAD
   "id": "2dfad3ca",
||||||| d29fab7
   "id": "d4ca3a5e",
=======
   "id": "1b960ce5",
>>>>>>> documentation-devel
||||||| 565f7a7
   "id": "2dfad3ca",
=======
   "id": "a2ed4e94",
>>>>>>> e08844e1a91b8e98d8bdd4d0244954bda0b7215b
   "metadata": {},
   "outputs": [],
   "source": [
    "plotLocalResult(sfe_tissue, \"localmoran\", features = \"Myh2\", \n",
    "                colGeometryName = \"spotPoly\",divergent = TRUE,\n",
    "                diverge_center = 0, image_id = \"lowres\", \n",
    "                swap_rownames = \"symbol\", color = \"black\",\n",
    "                linewidth = 0.1)"
   ]
  },
  {
   "cell_type": "markdown",
<<<<<<< HEAD
<<<<<<< HEAD
   "id": "c8229746",
||||||| d29fab7
   "id": "0272d839",
=======
   "id": "8c193cd5",
>>>>>>> documentation-devel
||||||| 565f7a7
   "id": "c8229746",
=======
   "id": "e9caa476",
>>>>>>> e08844e1a91b8e98d8bdd4d0244954bda0b7215b
   "metadata": {},
   "source": [
    "We see that regions with higher Myh2 expression also have stronger spatial autocorrelation. It is interesting to see how spatial autocorrelation relates to gene expression level, much as finding how variance relates to mean in the expression of each gene, which usually indicates overdispersion compared to Poisson in scRNA-seq and Visium data:"
   ]
  },
  {
   "cell_type": "code",
   "execution_count": null,
<<<<<<< HEAD
<<<<<<< HEAD
   "id": "322f925b",
||||||| d29fab7
   "id": "12e8c0ad",
=======
   "id": "85e584d0",
>>>>>>> documentation-devel
||||||| 565f7a7
   "id": "322f925b",
=======
   "id": "ab0a69dd",
>>>>>>> e08844e1a91b8e98d8bdd4d0244954bda0b7215b
   "metadata": {},
   "outputs": [],
   "source": [
    "df <- data.frame(myh2 = logcounts(sfe_tissue)[rowData(sfe_tissue)$symbol == \"Myh2\",],\n",
    "                 Ii = localResult(sfe_tissue, \"localmoran\", \"Myh2\", \n",
    "                                  swap_rownames = \"symbol\")[,\"Ii\"])\n",
    "ggplot(df, aes(myh2, Ii)) + geom_point(alpha = 0.3) +\n",
    "    labs(x = \"Myh2 (log counts)\", y = \"localmoran\")"
   ]
  },
  {
   "cell_type": "markdown",
<<<<<<< HEAD
<<<<<<< HEAD
   "id": "72c4d4d6",
||||||| d29fab7
   "id": "d9adcc6c",
=======
   "id": "25bd6db7",
>>>>>>> documentation-devel
||||||| 565f7a7
   "id": "72c4d4d6",
=======
   "id": "013e9fa9",
>>>>>>> e08844e1a91b8e98d8bdd4d0244954bda0b7215b
   "metadata": {
    "lines_to_next_cell": 0
   },
   "source": [
    "For this gene, Visium spots with higher expression also tend to have higher local Moran's I, but this may or may not apply to other genes.\n",
    "\n",
    "Local spatial analyses often return a matrix or data frame. The `plotLocalResult()` function has a default column for each local spatial method, but other columns can be plotted as well. Use the `localResultAttrs()` function to see which columns are present, and use the `attribute` argument to specify which column to plot."
   ]
  },
  {
   "cell_type": "code",
   "execution_count": null,
<<<<<<< HEAD
<<<<<<< HEAD
   "id": "d3cb2062",
||||||| d29fab7
   "id": "464b30ba",
=======
   "id": "af2f474b",
>>>>>>> documentation-devel
||||||| 565f7a7
   "id": "d3cb2062",
=======
   "id": "d23de5ee",
>>>>>>> e08844e1a91b8e98d8bdd4d0244954bda0b7215b
   "metadata": {},
   "outputs": [],
   "source": [
    "localResultAttrs(sfe_tissue, \"localmoran\", \"Myh2\", swap_rownames = \"symbol\")"
   ]
  },
  {
   "cell_type": "markdown",
<<<<<<< HEAD
<<<<<<< HEAD
   "id": "f2a4bd87",
||||||| d29fab7
   "id": "a11bc5bd",
=======
   "id": "f67404a6",
>>>>>>> documentation-devel
||||||| 565f7a7
   "id": "f2a4bd87",
=======
   "id": "59656c95",
>>>>>>> e08844e1a91b8e98d8bdd4d0244954bda0b7215b
   "metadata": {},
   "source": [
    "Some local spatial methods return p-values at each location, in a column with name like `Pr(z != E(Ii))`, where the test is two sided (default, can be changed with the `alternative` argument in `runUnivariate()` which is passed to the relevant underlying function in `spdep`). Negative log of the p-value is computed to facilitate visualization, and the p-value is corrected for multiple hypothesis testing with `p.adjustSP()` in `spdep`, where the number of tests is the number of neighbors of each location rather than the total number of locations (`-log10p_adj`)."
   ]
  },
  {
   "cell_type": "code",
   "execution_count": null,
<<<<<<< HEAD
<<<<<<< HEAD
   "id": "464a612e",
||||||| d29fab7
   "id": "6ff6d7d9",
=======
   "id": "5f0c0899",
>>>>>>> documentation-devel
||||||| 565f7a7
   "id": "464a612e",
=======
   "id": "32b566c5",
>>>>>>> e08844e1a91b8e98d8bdd4d0244954bda0b7215b
   "metadata": {},
   "outputs": [],
   "source": [
    "plotLocalResult(sfe_tissue, \"localmoran\", features = \"Myh2\", \n",
    "                colGeometryName = \"spotPoly\", attribute = \"-log10p_adj\", divergent = TRUE,\n",
    "                diverge_center = -log10(0.05), swap_rownames = \"symbol\",\n",
    "                image_id = \"lowres\", color = \"black\",\n",
    "                linewidth = 0.1)"
   ]
  },
  {
   "cell_type": "markdown",
<<<<<<< HEAD
<<<<<<< HEAD
   "id": "c0e94e91",
||||||| d29fab7
   "id": "0f7fbf8f",
=======
   "id": "2f3149c2",
>>>>>>> documentation-devel
||||||| 565f7a7
   "id": "c0e94e91",
=======
   "id": "d11c9330",
>>>>>>> e08844e1a91b8e98d8bdd4d0244954bda0b7215b
   "metadata": {
    "lines_to_next_cell": 0
   },
   "source": [
    "In this plot and all following plots of p-values, a divergent palette is used to show locations that are significant after adjusting for multiple testing and those that are not significant in different colors. The center of the divergent palette is p = 0.05, so the bluish spots are significant while a dark brown means _really_ not significant.\n",
    "\n",
    "The \"pysal\" column displays the quadrants relative to the means in the Moran plot. The result is similar to that from k-means clustering shown above."
   ]
  },
  {
   "cell_type": "code",
   "execution_count": null,
<<<<<<< HEAD
<<<<<<< HEAD
   "id": "8629267b",
||||||| d29fab7
   "id": "2aff3fea",
=======
   "id": "8759baed",
>>>>>>> documentation-devel
||||||| 565f7a7
   "id": "8629267b",
=======
   "id": "26462de7",
>>>>>>> e08844e1a91b8e98d8bdd4d0244954bda0b7215b
   "metadata": {},
   "outputs": [],
   "source": [
    "plotLocalResult(sfe_tissue, \"localmoran\", features = \"Myh2\", \n",
    "                colGeometryName = \"spotPoly\", attribute = \"pysal\", \n",
    "                swap_rownames = \"symbol\", image_id = \"lowres\", color = \"black\",\n",
    "                linewidth = 0.1)"
   ]
  },
  {
   "cell_type": "markdown",
<<<<<<< HEAD
<<<<<<< HEAD
   "id": "635f1822",
||||||| d29fab7
   "id": "d55ab72f",
=======
   "id": "873564d0",
>>>>>>> documentation-devel
||||||| 565f7a7
   "id": "635f1822",
=======
   "id": "ad1e9115",
>>>>>>> e08844e1a91b8e98d8bdd4d0244954bda0b7215b
   "metadata": {
    "lines_to_next_cell": 0
   },
   "source": [
    "## Getis-Ord Gi\\*\n",
    "Getis-Ord Gi\\* is used to find hotspots and coldspots of a feature in space. A hotspot is a cluster of high values in space, and a coldspot is a cluster of low values in space. Getis-Ord Gi\\* is essentially the z-score of the spatially lagged value of the feature at each location $i$ ($\\sum_j w_{ij} x_j$), where $w_{ij}$ is the spatial weight. In the [original publication for Getis-Ord Gi\\* from 1992](https://onlinelibrary.wiley.com/doi/10.1111/j.1538-4632.1992.tb00261.x) [@Getis1992-fr], the spatial weight is a distance-based binary weight indicating whether another location is within a certain distance from each location $i$. Getis-Ord Gi excludes the location $i$ itself in the computation of mean and variance of the lagged value, while Gi\\* includes the location $i$ itself. Usually Gi and Gi\\* yield similar results. The mean and variance used in the z-score differ in Gi and Gi\\* and is described in [this paper from 1995](https://onlinelibrary.wiley.com/doi/10.1111/j.1538-4632.1995.tb00912.x) [@Ord1995-we] and derived in [@Getis1992-fr].\n",
    "\n",
    "Binary weights are recommended for Getis-Ord Gi\\*."
   ]
  },
  {
   "cell_type": "code",
   "execution_count": null,
<<<<<<< HEAD
<<<<<<< HEAD
   "id": "9056c5c8",
||||||| d29fab7
   "id": "8c40bb15",
=======
   "id": "7b5f35ea",
>>>>>>> documentation-devel
||||||| 565f7a7
   "id": "9056c5c8",
=======
   "id": "46529abb",
>>>>>>> e08844e1a91b8e98d8bdd4d0244954bda0b7215b
   "metadata": {},
   "outputs": [],
   "source": [
    "colGraph(sfe_tissue, \"visium_B\") <- findVisiumGraph(sfe_tissue, style = \"B\")"
   ]
  },
  {
   "cell_type": "code",
   "execution_count": null,
<<<<<<< HEAD
<<<<<<< HEAD
   "id": "31de79d6",
||||||| d29fab7
   "id": "5ffa0e5a",
=======
   "id": "67b3218a",
>>>>>>> documentation-devel
||||||| 565f7a7
   "id": "31de79d6",
=======
   "id": "4558bff6",
>>>>>>> e08844e1a91b8e98d8bdd4d0244954bda0b7215b
   "metadata": {},
   "outputs": [],
   "source": [
    "sfe_tissue <- runUnivariate(sfe_tissue, type = \"localG_perm\", features = \"Myh2\",\n",
    "                            colGraphName = \"visium_B\", include_self = TRUE,\n",
    "                            swap_rownames = \"symbol\")"
   ]
  },
  {
   "cell_type": "code",
   "execution_count": null,
<<<<<<< HEAD
<<<<<<< HEAD
   "id": "9ea71acd",
||||||| d29fab7
   "id": "c8ec7327",
=======
   "id": "909cb335",
>>>>>>> documentation-devel
||||||| 565f7a7
   "id": "9ea71acd",
=======
   "id": "f6af6d85",
>>>>>>> e08844e1a91b8e98d8bdd4d0244954bda0b7215b
   "metadata": {},
   "outputs": [],
   "source": [
    "plotLocalResult(sfe_tissue, \"localG_perm\", features = \"Myh2\", \n",
    "                colGeometryName = \"spotPoly\", divergent = TRUE,\n",
    "                diverge_center = 0, image_id = \"lowres\", swap_rownames = \"symbol\", \n",
    "                color = \"black\", linewidth = 0.1)"
   ]
  },
  {
   "cell_type": "markdown",
<<<<<<< HEAD
<<<<<<< HEAD
   "id": "1a240079",
||||||| d29fab7
   "id": "358f942b",
=======
   "id": "ed25ad38",
>>>>>>> documentation-devel
||||||| 565f7a7
   "id": "1a240079",
=======
   "id": "9fef67d3",
>>>>>>> e08844e1a91b8e98d8bdd4d0244954bda0b7215b
   "metadata": {},
   "source": [
    "High values of Gi\\* indicate hotspots, while low values of Gi\\* indicate coldspots."
   ]
  },
  {
   "cell_type": "code",
   "execution_count": null,
<<<<<<< HEAD
<<<<<<< HEAD
   "id": "580fd2f6",
||||||| d29fab7
   "id": "f21866eb",
=======
   "id": "8bd51bda",
>>>>>>> documentation-devel
||||||| 565f7a7
   "id": "580fd2f6",
=======
   "id": "fe9963d4",
>>>>>>> e08844e1a91b8e98d8bdd4d0244954bda0b7215b
   "metadata": {},
   "outputs": [],
   "source": [
    "localResultAttrs(sfe_tissue, \"localG_perm\", \"Myh2\", swap_rownames = \"symbol\")"
   ]
  },
  {
   "cell_type": "markdown",
<<<<<<< HEAD
<<<<<<< HEAD
   "id": "51243e94",
||||||| d29fab7
   "id": "ab661f76",
=======
   "id": "01ccf3ad",
>>>>>>> documentation-devel
||||||| 565f7a7
   "id": "51243e94",
=======
   "id": "aa3f817a",
>>>>>>> e08844e1a91b8e98d8bdd4d0244954bda0b7215b
   "metadata": {
    "lines_to_next_cell": 0
   },
   "source": [
    "Plot the pseudo-p-values from the simulation"
   ]
  },
  {
   "cell_type": "code",
   "execution_count": null,
<<<<<<< HEAD
<<<<<<< HEAD
   "id": "838423e2",
||||||| d29fab7
   "id": "65623bf2",
=======
   "id": "5706e370",
>>>>>>> documentation-devel
||||||| 565f7a7
   "id": "838423e2",
=======
   "id": "7de40455",
>>>>>>> e08844e1a91b8e98d8bdd4d0244954bda0b7215b
   "metadata": {},
   "outputs": [],
   "source": [
    "plotLocalResult(sfe_tissue, \"localG_perm\", features = \"Myh2\", \n",
    "                attribute = \"-log10p_adj Sim\",\n",
    "                colGeometryName = \"spotPoly\", divergent = TRUE,\n",
    "                diverge_center = -log10(0.05), swap_rownames = \"symbol\",\n",
    "                image_id = \"lowres\")"
   ]
  },
  {
   "cell_type": "markdown",
<<<<<<< HEAD
<<<<<<< HEAD
   "id": "590ce4f7",
||||||| d29fab7
   "id": "e7043018",
=======
   "id": "51e03625",
>>>>>>> documentation-devel
||||||| 565f7a7
   "id": "590ce4f7",
=======
   "id": "6226faed",
>>>>>>> e08844e1a91b8e98d8bdd4d0244954bda0b7215b
   "metadata": {
    "lines_to_next_cell": 0
   },
   "source": [
    "The hotspots are as expected. Here warm color indicates adjusted $p < 0.05$. \n",
    "\n",
    "Local results can also be computed for annotation geometries."
   ]
  },
  {
   "cell_type": "code",
   "execution_count": null,
<<<<<<< HEAD
<<<<<<< HEAD
   "id": "4bd842f8",
||||||| d29fab7
   "id": "be8deade",
=======
   "id": "c9a44204",
>>>>>>> documentation-devel
||||||| 565f7a7
   "id": "4bd842f8",
=======
   "id": "fe68d3b6",
>>>>>>> e08844e1a91b8e98d8bdd4d0244954bda0b7215b
   "metadata": {},
   "outputs": [],
   "source": [
    "annotGraph(sfe_tissue, \"myofiber_poly2nb_B\") <- \n",
    "  findSpatialNeighbors(sfe_tissue, type = \"myofiber_simplified\", MARGIN = 3,\n",
    "                       method = \"poly2nb\", zero.policy = TRUE, style = \"B\")"
   ]
  },
  {
   "cell_type": "code",
   "execution_count": null,
<<<<<<< HEAD
<<<<<<< HEAD
   "id": "7583133b",
||||||| d29fab7
   "id": "c57e87d1",
=======
   "id": "45f6069a",
>>>>>>> documentation-devel
||||||| 565f7a7
   "id": "7583133b",
=======
   "id": "a1bffa6c",
>>>>>>> e08844e1a91b8e98d8bdd4d0244954bda0b7215b
   "metadata": {},
   "outputs": [],
   "source": [
    "sfe_tissue <- annotGeometryUnivariate(sfe_tissue, \"localG_perm\", \"area\", \n",
    "                                      annotGeometryName = \"myofiber_simplified\",\n",
    "                                      annotGraphName = \"myofiber_poly2nb_B\",\n",
    "                                      include_self = TRUE, zero.policy = TRUE)"
   ]
  },
  {
   "cell_type": "code",
   "execution_count": null,
<<<<<<< HEAD
<<<<<<< HEAD
   "id": "91baeafa",
||||||| d29fab7
   "id": "61574fad",
=======
   "id": "7eb46cdd",
>>>>>>> documentation-devel
||||||| 565f7a7
   "id": "91baeafa",
=======
   "id": "eea92551",
>>>>>>> e08844e1a91b8e98d8bdd4d0244954bda0b7215b
   "metadata": {},
   "outputs": [],
   "source": [
    "plotLocalResult(sfe_tissue, \"localG_perm\", \"area\", \n",
    "                annotGeometryName = \"myofiber_simplified\",\n",
    "                divergent = TRUE, diverge_center = 0)"
   ]
  },
  {
   "cell_type": "code",
   "execution_count": null,
<<<<<<< HEAD
<<<<<<< HEAD
   "id": "3e5415ff",
||||||| d29fab7
   "id": "dd9c28f7",
=======
   "id": "7e15a392",
>>>>>>> documentation-devel
||||||| 565f7a7
   "id": "3e5415ff",
=======
   "id": "e3484784",
>>>>>>> e08844e1a91b8e98d8bdd4d0244954bda0b7215b
   "metadata": {},
   "outputs": [],
   "source": [
    "plotLocalResult(sfe_tissue, \"localG_perm\", \"area\", \n",
    "                annotGeometryName = \"myofiber_simplified\",\n",
    "                attribute = \"-log10p_adj Sim\",\n",
    "                divergent = TRUE, diverge_center = -log10(0.05))"
   ]
  },
  {
   "cell_type": "markdown",
<<<<<<< HEAD
<<<<<<< HEAD
   "id": "23eff2b3",
||||||| d29fab7
   "id": "d3cf038d",
=======
   "id": "6c68b86a",
>>>>>>> documentation-devel
||||||| 565f7a7
   "id": "23eff2b3",
=======
   "id": "444a0e18",
>>>>>>> e08844e1a91b8e98d8bdd4d0244954bda0b7215b
   "metadata": {
    "lines_to_next_cell": 0
   },
   "source": [
    "The hotspots and coldspots are as expected. Warm color indicates adjusted $p < 0.05$.\n",
    "\n",
    "## Local spatial heteroscedasticity (LOSH)\n",
    "LOSH [@Ord2012-qi] is defined as\n",
    "\n",
    "$$\n",
    "H_i = \\frac{\\sum_j w_{ij}\\left| e_j \\right|^a}{h_1\\sum_j w_{ij}}\n",
    "$$\n",
    "\n",
    "where$h_1 = \\sum_i \\left| e_i \\right|^a/n$, $e_j = x_j - \\bar{x}_j$, and\n",
    "\n",
    "$$\n",
    "\\bar{x}_j = \\frac{\\sum_j w_{jk}x_k}{\\sum_j w_{jk}}.\n",
    "$$\n",
    "\n",
    "By default, $a = 2$ so LOSH is like a local variance. See [@Ord2012-qi] for more details and interpretation. "
   ]
  },
  {
   "cell_type": "code",
   "execution_count": null,
<<<<<<< HEAD
<<<<<<< HEAD
   "id": "7e4d2330",
||||||| d29fab7
   "id": "a470d379",
=======
   "id": "b811a3e3",
>>>>>>> documentation-devel
||||||| 565f7a7
   "id": "7e4d2330",
=======
   "id": "4ca5bdd8",
>>>>>>> e08844e1a91b8e98d8bdd4d0244954bda0b7215b
   "metadata": {},
   "outputs": [],
   "source": [
    "sfe_tissue <- runUnivariate(sfe_tissue, \"LOSH.cs\", \"Myh2\", \n",
    "                            colGraphName = \"visium\", swap_rownames = \"symbol\")"
   ]
  },
  {
   "cell_type": "code",
   "execution_count": null,
<<<<<<< HEAD
<<<<<<< HEAD
   "id": "6603971a",
||||||| d29fab7
   "id": "51dfaeeb",
=======
   "id": "13226468",
>>>>>>> documentation-devel
||||||| 565f7a7
   "id": "6603971a",
=======
   "id": "204e6124",
>>>>>>> e08844e1a91b8e98d8bdd4d0244954bda0b7215b
   "metadata": {},
   "outputs": [],
   "source": [
    "plotLocalResult(sfe_tissue, \"LOSH.cs\", features = \"Myh2\", \n",
    "                colGeometryName = \"spotPoly\", swap_rownames = \"symbol\",\n",
    "                image_id = \"lowres\")"
   ]
  },
  {
   "cell_type": "markdown",
<<<<<<< HEAD
<<<<<<< HEAD
   "id": "81a8a338",
||||||| d29fab7
   "id": "68c55699",
=======
   "id": "a3af9d4e",
>>>>>>> documentation-devel
||||||| 565f7a7
   "id": "81a8a338",
=======
   "id": "1c4294ad",
>>>>>>> e08844e1a91b8e98d8bdd4d0244954bda0b7215b
   "metadata": {},
   "source": [
    "For this gene, it isn't clear whether LOSH relates to gene expression levels."
   ]
  },
  {
   "cell_type": "code",
   "execution_count": null,
<<<<<<< HEAD
<<<<<<< HEAD
   "id": "3b93417f",
||||||| d29fab7
   "id": "47c9e687",
=======
   "id": "4274978b",
>>>>>>> documentation-devel
||||||| 565f7a7
   "id": "3b93417f",
=======
   "id": "44ed53da",
>>>>>>> e08844e1a91b8e98d8bdd4d0244954bda0b7215b
   "metadata": {},
   "outputs": [],
   "source": [
    "localResultAttrs(sfe_tissue, \"LOSH.cs\", \"Myh2\", swap_rownames = \"symbol\")"
   ]
  },
  {
   "cell_type": "markdown",
<<<<<<< HEAD
<<<<<<< HEAD
   "id": "4443b34c",
||||||| d29fab7
   "id": "da823315",
=======
   "id": "34bd6be4",
>>>>>>> documentation-devel
||||||| 565f7a7
   "id": "4443b34c",
=======
   "id": "7266febc",
>>>>>>> e08844e1a91b8e98d8bdd4d0244954bda0b7215b
   "metadata": {},
   "source": [
    "While `Voyager` does wrap `LOSH.mc()` to perform permutation testing of LOSH, this is very time consuming. A chi-squared approximation is described in the 2012 LOSH paper to account for non-normality of the data and to approximate the mean and variance of the permutation distributions, so p-values of LOSH can be more quickly computed, with `LOSH.cs()`."
   ]
  },
  {
   "cell_type": "code",
   "execution_count": null,
<<<<<<< HEAD
<<<<<<< HEAD
   "id": "db0a913a",
||||||| d29fab7
   "id": "eda81ecf",
=======
   "id": "1fc6d5bb",
>>>>>>> documentation-devel
||||||| 565f7a7
   "id": "db0a913a",
=======
   "id": "285b5994",
>>>>>>> e08844e1a91b8e98d8bdd4d0244954bda0b7215b
   "metadata": {},
   "outputs": [],
   "source": [
    "plotLocalResult(sfe_tissue, \"LOSH.cs\", features = \"Myh2\", \n",
    "                attribute = \"-log10p_adj\", colGeometryName = \"spotPoly\",\n",
    "                divergent = TRUE, diverge_center = -log10(0.05),\n",
    "                swap_rownames = \"symbol\", image_id = \"lowres\") +\n",
    "    theme_void()"
   ]
  },
  {
   "cell_type": "markdown",
<<<<<<< HEAD
<<<<<<< HEAD
   "id": "340d9dd2",
||||||| d29fab7
   "id": "be4bdde4",
=======
   "id": "48026626",
>>>>>>> documentation-devel
||||||| 565f7a7
   "id": "340d9dd2",
=======
   "id": "7a71c4f0",
>>>>>>> e08844e1a91b8e98d8bdd4d0244954bda0b7215b
   "metadata": {
    "lines_to_next_cell": 0
   },
   "source": [
    "For this gene, the local conditions are mostly homogenous, except for a few spots most at the injury site. Warm color indicates adjusted $p < 0.05$.\n",
    "\n",
    "# Caveats\n",
    "1. In the current version of `Voyager`, only univariate spatial autocorrelation metrics are supported. Anisotropy, bivariate, and multivariate spatial analyses will be added in later versions.\n",
    "2. The H&E image can alter perception of the colors of the geometries.\n",
    "3. Only 2D data is supported at present, although in principle, `sf` and `GEOS` support 3D data.\n",
    "4. Spatial neighborhoods only make sense within the same tissue section. Then what to do with multiple tissue sections, from biological replica, and from different conditions? For the mouse brain, different biological replica can be registered to the Allen Common Coordinate Framework (CCF) to be spatially comparable. Indeed, it would be interesting to see the biological variability of healthy wild type gene expression at the same fine scaled region in the brain. However, there is no CCF for tissues without a stereotypical structure, such as adipose and skeletal muscle. We don't have a good solution to spatially compare different tissue sections yet. Perhaps global spatial statistics over the whole section or histological regions within the section can be compared. The problem remains to select the most informative metrics to compare. Perhaps a spatially-informed dimension reduction method, taking not only the gene count matrix, but also the adjacency matrices of the spatial neighborhood graphs (different sections will be different blocks in the matrix) projecting the cells or Visium spots from different sections into a shared low dimensional space can facilitate the comparison. Here batch effect must be corrected, and the dimension reduction should be interpretable, and scalable.\n",
    "\n",
    "# Session info"
   ]
  },
  {
   "cell_type": "code",
   "execution_count": null,
<<<<<<< HEAD
<<<<<<< HEAD
   "id": "c599e6a8",
||||||| d29fab7
   "id": "e8e5d877",
=======
   "id": "283c0e4e",
>>>>>>> documentation-devel
||||||| 565f7a7
   "id": "c599e6a8",
=======
   "id": "5d87c241",
>>>>>>> e08844e1a91b8e98d8bdd4d0244954bda0b7215b
   "metadata": {},
   "outputs": [],
   "source": [
    "sessionInfo()"
   ]
  },
  {
   "cell_type": "markdown",
<<<<<<< HEAD
<<<<<<< HEAD
   "id": "de242e11",
||||||| d29fab7
   "id": "46483304",
=======
   "id": "c5a39f11",
>>>>>>> documentation-devel
||||||| 565f7a7
   "id": "de242e11",
=======
   "id": "eb46cce3",
>>>>>>> e08844e1a91b8e98d8bdd4d0244954bda0b7215b
   "metadata": {},
   "source": [
    "# References"
   ]
  }
 ],
 "metadata": {
  "kernelspec": {
   "display_name": "R",
   "language": "R",
   "name": "ir"
  }
 },
 "nbformat": 4,
 "nbformat_minor": 5
}
