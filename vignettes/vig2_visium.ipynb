{
 "cells": [
  {
   "cell_type": "raw",
<<<<<<< HEAD
<<<<<<< HEAD
<<<<<<< HEAD
   "id": "a896d56b",
||||||| 3477967
   "id": "8132d891",
=======
   "id": "9da8c55a",
>>>>>>> 763a65aa00deab365d39bc26b2dcb2cc1410a666
||||||| eb63ff5
   "id": "a896d56b",
=======
   "id": "3a5d21b9",
>>>>>>> documentation-devel
||||||| cd53b20
<<<<<<< HEAD
   "id": "a896d56b",
||||||| 3477967
   "id": "8132d891",
=======
   "id": "9da8c55a",
>>>>>>> 763a65aa00deab365d39bc26b2dcb2cc1410a666
=======
   "id": "c6f46faa",
>>>>>>> 61c8f4bff1b7848db82b013fbfba194514b420ca
   "metadata": {},
   "source": [
    "---\n",
    "title: \"Spatial Visium exploratory data analysis\"\n",
    "author: \"Lambda Moses\"\n",
    "date: \"`r Sys.Date()`\"\n",
    "output: \n",
    "  html_document:\n",
    "  toc: true\n",
    "  toc_float:\n",
    "    collapsed: false\n",
    "  toc_depth: 3\n",
    "bibliography: ref.bib\n",
    "vignette: >\n",
    "  %\\VignetteIndexEntry{Spatial Visium exploratory data analysis}\n",
    "  %\\VignetteEngine{knitr::rmarkdown}\n",
    "  %\\VignetteEncoding{UTF-8}\n",
    "---"
   ]
  },
  {
   "cell_type": "code",
   "execution_count": null,
<<<<<<< HEAD
<<<<<<< HEAD
<<<<<<< HEAD
   "id": "b30a514a",
||||||| 3477967
   "id": "94d53e99",
=======
   "id": "53e004d4",
>>>>>>> 763a65aa00deab365d39bc26b2dcb2cc1410a666
||||||| eb63ff5
   "id": "b30a514a",
=======
   "id": "1eb156b2",
>>>>>>> documentation-devel
||||||| cd53b20
<<<<<<< HEAD
   "id": "b30a514a",
||||||| 3477967
   "id": "94d53e99",
=======
   "id": "53e004d4",
>>>>>>> 763a65aa00deab365d39bc26b2dcb2cc1410a666
=======
   "id": "1c0466e8",
>>>>>>> 61c8f4bff1b7848db82b013fbfba194514b420ca
   "metadata": {
    "tags": [
     "remove_cell"
    ]
   },
   "outputs": [],
   "source": [
    "knitr::opts_chunk$set(\n",
    "  collapse = TRUE,\n",
    "  comment = \"#>\", fig.align = \"center\"\n",
    ")"
   ]
  },
  {
   "cell_type": "code",
   "execution_count": null,
<<<<<<< HEAD
<<<<<<< HEAD
<<<<<<< HEAD
   "id": "53490d27",
||||||| 3477967
   "id": "b13282c3",
=======
   "id": "ab5591be",
>>>>>>> 763a65aa00deab365d39bc26b2dcb2cc1410a666
||||||| eb63ff5
   "id": "53490d27",
=======
   "id": "674afdc9",
>>>>>>> documentation-devel
||||||| cd53b20
<<<<<<< HEAD
   "id": "53490d27",
||||||| 3477967
   "id": "b13282c3",
=======
   "id": "ab5591be",
>>>>>>> 763a65aa00deab365d39bc26b2dcb2cc1410a666
=======
   "id": "4b7f3b10",
>>>>>>> 61c8f4bff1b7848db82b013fbfba194514b420ca
   "metadata": {
    "eval": false,
    "tags": [
     "remove_cell"
    ]
   },
   "outputs": [],
   "source": [
    "# Install Google Colab dependencies\n",
    "# Note: this can take 30+ minutes (many of the dependencies include C++ code, which needs to be compiled)\n",
    "\n",
    "# First install `sf`, `ragg` and `textshaping` and their system dependencies:\n",
    "system(\"apt-get -y update && apt-get install -y  libudunits2-dev libgdal-dev libgeos-dev libproj-dev libharfbuzz-dev libfribidi-dev\")\n",
    "install.packages(\"sf\")\n",
    "install.packages(\"textshaping\")\n",
    "install.packages(\"ragg\")\n",
    "\n",
    "# Install system dependencies of some other R packages that Voyager either imports or suggests:\n",
    "system(\"apt-get install -y libfribidi-dev libcairo2-dev libmagick++-dev\")\n",
    "\n",
    "# Install Voyager from Bioconductor:\n",
    "install.packages(\"BiocManager\")\n",
    "BiocManager::install(version = \"3.17\", ask = FALSE, update = FALSE, Ncpus = 2)\n",
    "BiocManager::install(\"scater\")\n",
    "system.time(\n",
    "  BiocManager::install(\"Voyager\", dependencies = TRUE, Ncpus = 2, update = FALSE)\n",
    ")\n",
    "\n",
    "# Additional dependencies for this notebook\n",
    "install.packages(\"reticulate\")\n",
    "system(\"pip3 install gget\")\n",
    "packageVersion(\"Voyager\")"
   ]
  },
  {
   "cell_type": "markdown",
<<<<<<< HEAD
<<<<<<< HEAD
<<<<<<< HEAD
   "id": "ea7460a1",
||||||| 3477967
   "id": "4d096637",
=======
   "id": "84dfc03e",
>>>>>>> 763a65aa00deab365d39bc26b2dcb2cc1410a666
||||||| eb63ff5
   "id": "ea7460a1",
=======
   "id": "2bb39408",
>>>>>>> documentation-devel
||||||| cd53b20
<<<<<<< HEAD
   "id": "ea7460a1",
||||||| 3477967
   "id": "4d096637",
=======
   "id": "84dfc03e",
>>>>>>> 763a65aa00deab365d39bc26b2dcb2cc1410a666
=======
   "id": "025aaced",
>>>>>>> 61c8f4bff1b7848db82b013fbfba194514b420ca
   "metadata": {},
   "source": [
    "# Introduction \n",
    "\n",
    "This vignette provides an introduction to exploratory spatial data analysis methods via the `Voyager` package in the context of a Visium dataset."
   ]
  },
  {
   "cell_type": "code",
   "execution_count": null,
<<<<<<< HEAD
<<<<<<< HEAD
<<<<<<< HEAD
   "id": "bda143f4",
||||||| 3477967
   "id": "8b4fb5d2",
=======
   "id": "2e3d9e78",
>>>>>>> 763a65aa00deab365d39bc26b2dcb2cc1410a666
||||||| eb63ff5
   "id": "bda143f4",
=======
   "id": "b21cc2fe",
>>>>>>> documentation-devel
||||||| cd53b20
<<<<<<< HEAD
   "id": "bda143f4",
||||||| 3477967
   "id": "8b4fb5d2",
=======
   "id": "2e3d9e78",
>>>>>>> 763a65aa00deab365d39bc26b2dcb2cc1410a666
=======
   "id": "b4663513",
>>>>>>> 61c8f4bff1b7848db82b013fbfba194514b420ca
   "metadata": {
    "message": false,
    "name": "setup"
   },
   "outputs": [],
   "source": [
    "library(Voyager)\n",
    "library(SpatialFeatureExperiment)\n",
    "library(scater)\n",
    "library(scran)\n",
    "library(SFEData)\n",
    "library(sf)\n",
    "library(ggplot2)\n",
    "library(scales)\n",
    "library(patchwork)\n",
    "library(BiocParallel)\n",
    "library(bluster)\n",
    "library(dplyr)\n",
    "library(reticulate)\n",
    "theme_set(theme_bw(10))"
   ]
  },
  {
   "cell_type": "code",
   "execution_count": null,
<<<<<<< HEAD
<<<<<<< HEAD
<<<<<<< HEAD
   "id": "49d809e4",
||||||| 3477967
   "id": "22a07c0f",
=======
   "id": "e63da3b1",
>>>>>>> 763a65aa00deab365d39bc26b2dcb2cc1410a666
||||||| eb63ff5
   "id": "49d809e4",
=======
   "id": "91d7cb13",
>>>>>>> documentation-devel
||||||| cd53b20
<<<<<<< HEAD
   "id": "49d809e4",
||||||| 3477967
   "id": "22a07c0f",
=======
   "id": "e63da3b1",
>>>>>>> 763a65aa00deab365d39bc26b2dcb2cc1410a666
=======
   "id": "4ca8ac6e",
>>>>>>> 61c8f4bff1b7848db82b013fbfba194514b420ca
   "metadata": {
    "lines_to_next_cell": 2
   },
   "outputs": [],
   "source": [
    "# Specify Python version to use gget\n",
    "PY_PATH <- system(\"which python\", intern = TRUE)\n",
    "use_python(PY_PATH)\n",
    "py_config()\n",
    "\n",
    "# Load gget\n",
    "gget <- import(\"gget\")"
   ]
  },
  {
   "cell_type": "markdown",
<<<<<<< HEAD
<<<<<<< HEAD
<<<<<<< HEAD
   "id": "aafd73a6",
||||||| 3477967
   "id": "13ecd7f5",
=======
   "id": "77dc115b",
>>>>>>> 763a65aa00deab365d39bc26b2dcb2cc1410a666
||||||| eb63ff5
   "id": "aafd73a6",
=======
   "id": "7d70b57e",
>>>>>>> documentation-devel
||||||| cd53b20
<<<<<<< HEAD
   "id": "aafd73a6",
||||||| 3477967
   "id": "13ecd7f5",
=======
   "id": "77dc115b",
>>>>>>> 763a65aa00deab365d39bc26b2dcb2cc1410a666
=======
   "id": "767a8f5b",
>>>>>>> 61c8f4bff1b7848db82b013fbfba194514b420ca
   "metadata": {},
   "source": [
    "# Dataset\n",
    "The dataset used in this vignette is from the paper [Large-scale integration of single-cell transcriptomic data captures transitional progenitor states in mouse skeletal muscle regeneration](https://doi.org/10.1038/s42003-021-02810-x) [@McKellar2021-ek]. Notexin was injected into the tibialis anterior muscle of mice to induce injury, and the healing muscle was collected 2, 5, and 7 days post injury for Visium analysis. The dataset in this vignette is from the timepoint at day 2. The vignette starts with a `SpatialFeatureExperiment` (SFE) object.\n",
    "\n",
    "The gene count matrix was directly downloaded [from GEO](https://www.ncbi.nlm.nih.gov/geo/query/acc.cgi?acc=GSM4904759). All 4992 spots, whether in tissue or not, are included. The H&E image was used for nuclei and myofiber segmentation. A subset of nuclei from randomly selected regions from all 3 timepoints were manually annotated to train a StarDist model to segment the rest of the nuclei, and the myofibers were all manually segmented. The tissue boundary was found by thresholding in OpenCV, and small polygons were removed as they are likely to be debris. Spot polygons were constructed with the spot centroid coordinates and diameter in the Space Ranger output. The `in_tissue` column in `colData` indicates which spot polygons intersect the tissue polygons, and is based on `st_intersects()`.\n",
    "\n",
    "Tissue boundary, nuclei, myofiber, and Visium spot polygons are stored as `sf` data frames in the SFE object. See [the vignette of `SpatialFeatureExperiment`](https://bioconductor.org/packages/devel/bioc/vignettes/SpatialFeatureExperiment/inst/doc/SFE.html) for more details on the structure of the SFE object. The SFE object of this dataset is provided in the `SFEData` package; we begin by downloading the data and loading it into R."
   ]
  },
  {
   "cell_type": "code",
   "execution_count": null,
<<<<<<< HEAD
<<<<<<< HEAD
<<<<<<< HEAD
   "id": "acfe0a48",
||||||| 3477967
   "id": "37148057",
=======
   "id": "eaf28e72",
>>>>>>> 763a65aa00deab365d39bc26b2dcb2cc1410a666
||||||| eb63ff5
   "id": "acfe0a48",
=======
   "id": "24c92f47",
>>>>>>> documentation-devel
||||||| cd53b20
<<<<<<< HEAD
   "id": "acfe0a48",
||||||| 3477967
   "id": "37148057",
=======
   "id": "eaf28e72",
>>>>>>> 763a65aa00deab365d39bc26b2dcb2cc1410a666
=======
   "id": "f20e8e26",
>>>>>>> 61c8f4bff1b7848db82b013fbfba194514b420ca
   "metadata": {},
   "outputs": [],
   "source": [
    "(sfe <- McKellarMuscleData(\"full\"))"
   ]
  },
  {
   "cell_type": "markdown",
<<<<<<< HEAD
<<<<<<< HEAD
<<<<<<< HEAD
   "id": "0e85f065",
||||||| 3477967
   "id": "1c482aa1",
=======
   "id": "367bc53c",
>>>>>>> 763a65aa00deab365d39bc26b2dcb2cc1410a666
||||||| eb63ff5
   "id": "0e85f065",
=======
   "id": "7497c39f",
   "metadata": {},
   "source": [
    "The H&E image of this section:\n",
    "![A cross section of mouse muscle is slightly off center to the lower left. In the middle of the tissue is the notexin injury site with leukocyte infiltration and fewer myofibers. The rest of the tissue section is tightly packed with myofibers.](https://raw.githubusercontent.com/pachterlab/voyager/documentation/vignettes/tissue_lowres_5a.jpeg)"
   ]
  },
  {
   "cell_type": "code",
   "execution_count": null,
   "id": "2ea83838",
   "metadata": {
    "tags": [
     "remove_cell"
    ]
   },
   "outputs": [],
   "source": [
    "if (!file.exists(\"tissue_lowres_5a.jpeg\")) {\n",
    "    download.file(\"https://raw.githubusercontent.com/pachterlab/voyager/main/vignettes/tissue_lowres_5a.jpeg\",\n",
    "                  destfile = \"tissue_lowres_5a.jpeg\")\n",
    "}"
   ]
  },
  {
   "cell_type": "markdown",
   "id": "98fd00ee",
>>>>>>> documentation-devel
||||||| cd53b20
<<<<<<< HEAD
   "id": "0e85f065",
||||||| 3477967
   "id": "1c482aa1",
=======
   "id": "367bc53c",
>>>>>>> 763a65aa00deab365d39bc26b2dcb2cc1410a666
=======
   "id": "c7a537d1",
>>>>>>> 61c8f4bff1b7848db82b013fbfba194514b420ca
   "metadata": {
    "lines_to_next_cell": 0
   },
   "source": [
    "The image can be added to the SFE object and plotted behind the geometries, and needs to be flipped to align to the spots because the origin is at the top left for the image but bottom left for geometries."
   ]
  },
  {
   "cell_type": "code",
   "execution_count": null,
<<<<<<< HEAD
<<<<<<< HEAD
<<<<<<< HEAD
   "id": "7181aad8",
||||||| 3477967
   "id": "02a460a9",
=======
   "id": "553b68fd",
>>>>>>> 763a65aa00deab365d39bc26b2dcb2cc1410a666
||||||| eb63ff5
   "id": "7181aad8",
=======
   "id": "df4b0b64",
>>>>>>> documentation-devel
||||||| cd53b20
<<<<<<< HEAD
   "id": "7181aad8",
||||||| 3477967
   "id": "02a460a9",
=======
   "id": "553b68fd",
>>>>>>> 763a65aa00deab365d39bc26b2dcb2cc1410a666
=======
   "id": "e67894e4",
>>>>>>> 61c8f4bff1b7848db82b013fbfba194514b420ca
   "metadata": {},
   "outputs": [],
   "source": [
    "sfe <- addImg(sfe, file = \"tissue_lowres_5a.jpeg\", sample_id = \"Vis5A\", \n",
    "              image_id = \"lowres\", \n",
    "              scale_fct = 1024/22208)\n",
    "sfe <- mirrorImg(sfe, sample_id = \"Vis5A\", image_id = \"lowres\")"
   ]
  },
  {
   "cell_type": "markdown",
<<<<<<< HEAD
<<<<<<< HEAD
<<<<<<< HEAD
   "id": "5ae77c12",
||||||| 3477967
   "id": "cce93517",
=======
   "id": "c5906fe1",
>>>>>>> 763a65aa00deab365d39bc26b2dcb2cc1410a666
||||||| eb63ff5
   "id": "5ae77c12",
=======
   "id": "3a7e4ec6",
>>>>>>> documentation-devel
||||||| cd53b20
<<<<<<< HEAD
   "id": "5ae77c12",
||||||| 3477967
   "id": "cce93517",
=======
   "id": "c5906fe1",
>>>>>>> 763a65aa00deab365d39bc26b2dcb2cc1410a666
=======
   "id": "1d8c5f51",
>>>>>>> 61c8f4bff1b7848db82b013fbfba194514b420ca
   "metadata": {},
   "source": [
    "# Exploratory data analysis\n",
    "## Spots in tissue\n",
    "While the example dataset has all Visium spots whether on tissue or not, only spots that intersect tissue are used for further analyses. "
   ]
  },
  {
   "cell_type": "code",
   "execution_count": null,
<<<<<<< HEAD
<<<<<<< HEAD
<<<<<<< HEAD
   "id": "5068f370",
||||||| 3477967
   "id": "d0056523",
=======
   "id": "63514a43",
>>>>>>> 763a65aa00deab365d39bc26b2dcb2cc1410a666
||||||| eb63ff5
   "id": "5068f370",
=======
   "id": "25765a7a",
>>>>>>> documentation-devel
||||||| cd53b20
<<<<<<< HEAD
   "id": "5068f370",
||||||| 3477967
   "id": "d0056523",
=======
   "id": "63514a43",
>>>>>>> 763a65aa00deab365d39bc26b2dcb2cc1410a666
=======
   "id": "27769703",
>>>>>>> 61c8f4bff1b7848db82b013fbfba194514b420ca
   "metadata": {},
   "outputs": [],
   "source": [
    "names(colData(sfe))"
   ]
  },
  {
   "cell_type": "markdown",
<<<<<<< HEAD
<<<<<<< HEAD
<<<<<<< HEAD
   "id": "c704474e",
||||||| 3477967
   "id": "7c8d09a5",
=======
   "id": "34c6d71d",
>>>>>>> 763a65aa00deab365d39bc26b2dcb2cc1410a666
||||||| eb63ff5
   "id": "c704474e",
=======
   "id": "f29c230b",
>>>>>>> documentation-devel
||||||| cd53b20
<<<<<<< HEAD
   "id": "c704474e",
||||||| 3477967
   "id": "7c8d09a5",
=======
   "id": "34c6d71d",
>>>>>>> 763a65aa00deab365d39bc26b2dcb2cc1410a666
=======
   "id": "08e9c054",
>>>>>>> 61c8f4bff1b7848db82b013fbfba194514b420ca
   "metadata": {
    "lines_to_next_cell": 0
   },
   "source": [
    "Total UMI counts (`nCounts`), number of genes detected per spot (`nGenes`), and the proportion of mitochondrially encoded counts (`prop_mito`) have been precomputed and are in `colData(sfe)`. The `plotSpatialFeature` function can be used to visualize various attributes in space: the expression of any gene, `colData` values, and geometry attributes in `colGeometry` and `annotGeometry`. The Visium spots are plotted as polygons reflecting their actual size relative to the tissue, rather than as points, as is the case in other packages that plot Visium data. The plotting of geometries is being performed under the hood with `geom_sf`.\n",
    "\n",
    "The tissue boundary was found by thresholding the H&E image and removing small polygons that are most likely debris. The `in_tissue` column of `colData(sfe)` indicates which Visium spot polygon intersects the tissue polygon; this can be found with `SpatialFeatureExperiment::annotPred()`.\n",
    "\n",
    "We demonstrate the use of `scran` [@Lun2016-yq] for normalization below, although we note that it is not necessarily the best approach to normalizing spatial transcriptomics data. The problem of when and how to normalize spatial transcriptomics data is non-trivial because, as the `nCounts` plot in space shows above, spatial autocorrelation is evident. Furthemrore, in Visium, reverse transcription occurs in situ on the spots, but PCR amplification occurs after the cDNA is dissociated from the spots. Artifacts may be subsequently introduced from the amplification step, and these would not be associated with spatial origin. Spatial artifacts may arise from the diffusion of transcripts and tissue permeablization. However, given how the total counts seem to correspond to histological regions, the total counts may have a biological component and hence should not be treated as a technical artifact to be normalized away as in scRNA-seq data normalization methods. In other words, the issue of normalization for spatial transcriptomics data, and Visium in particular, is complex and is currently unsolved. "
   ]
  },
  {
   "cell_type": "code",
   "execution_count": null,
<<<<<<< HEAD
<<<<<<< HEAD
<<<<<<< HEAD
   "id": "318b11e0",
||||||| 3477967
   "id": "33054927",
=======
   "id": "a24c9984",
>>>>>>> 763a65aa00deab365d39bc26b2dcb2cc1410a666
||||||| eb63ff5
   "id": "318b11e0",
=======
   "id": "4e9500fa",
>>>>>>> documentation-devel
||||||| cd53b20
<<<<<<< HEAD
   "id": "318b11e0",
||||||| 3477967
   "id": "33054927",
=======
   "id": "a24c9984",
>>>>>>> 763a65aa00deab365d39bc26b2dcb2cc1410a666
=======
   "id": "6ed6889b",
>>>>>>> 61c8f4bff1b7848db82b013fbfba194514b420ca
   "metadata": {},
   "outputs": [],
   "source": [
    "sfe_tissue <- sfe[,colData(sfe)$in_tissue]\n",
    "sfe_tissue <- sfe_tissue[rowSums(counts(sfe_tissue)) > 0,]"
   ]
  },
  {
   "cell_type": "code",
   "execution_count": null,
<<<<<<< HEAD
<<<<<<< HEAD
<<<<<<< HEAD
   "id": "0e9c44e9",
||||||| 3477967
   "id": "6a3e59da",
=======
   "id": "cfebfe56",
>>>>>>> 763a65aa00deab365d39bc26b2dcb2cc1410a666
||||||| eb63ff5
   "id": "0e9c44e9",
=======
   "id": "bf5b1ee8",
>>>>>>> documentation-devel
||||||| cd53b20
<<<<<<< HEAD
   "id": "0e9c44e9",
||||||| 3477967
   "id": "6a3e59da",
=======
   "id": "cfebfe56",
>>>>>>> 763a65aa00deab365d39bc26b2dcb2cc1410a666
=======
   "id": "c3b2681d",
>>>>>>> 61c8f4bff1b7848db82b013fbfba194514b420ca
   "metadata": {},
   "outputs": [],
   "source": [
    "#clusters <- quickCluster(sfe_tissue)\n",
    "#sfe_tissue <- computeSumFactors(sfe_tissue, clusters=clusters)\n",
    "#sfe_tissue <- sfe_tissue[, sizeFactors(sfe_tissue) > 0]\n",
    "sfe_tissue <- logNormCounts(sfe_tissue)"
   ]
  },
  {
   "cell_type": "markdown",
<<<<<<< HEAD
<<<<<<< HEAD
<<<<<<< HEAD
   "id": "e196ef94",
||||||| 3477967
   "id": "25be2202",
=======
   "id": "7b03c8ef",
>>>>>>> 763a65aa00deab365d39bc26b2dcb2cc1410a666
||||||| eb63ff5
   "id": "e196ef94",
=======
   "id": "f017ec01",
>>>>>>> documentation-devel
||||||| cd53b20
<<<<<<< HEAD
   "id": "e196ef94",
||||||| 3477967
   "id": "25be2202",
=======
   "id": "7b03c8ef",
>>>>>>> 763a65aa00deab365d39bc26b2dcb2cc1410a666
=======
   "id": "b4d5b8d1",
>>>>>>> 61c8f4bff1b7848db82b013fbfba194514b420ca
   "metadata": {},
   "source": [
    "Myofiber and nuclei segmentation polygons are available in this dataset in the `annotGeometries` field. Myofibers were manually segmented, and nuclei were segmented with [`StarDist`](https://github.com/stardist/stardist) trained with a manually segmented subset. "
   ]
  },
  {
   "cell_type": "code",
   "execution_count": null,
<<<<<<< HEAD
<<<<<<< HEAD
<<<<<<< HEAD
   "id": "15393538",
||||||| 3477967
   "id": "b985adfc",
=======
   "id": "6e10cc0a",
>>>>>>> 763a65aa00deab365d39bc26b2dcb2cc1410a666
||||||| eb63ff5
   "id": "15393538",
=======
   "id": "97340bfb",
>>>>>>> documentation-devel
||||||| cd53b20
<<<<<<< HEAD
   "id": "15393538",
||||||| 3477967
   "id": "b985adfc",
=======
   "id": "6e10cc0a",
>>>>>>> 763a65aa00deab365d39bc26b2dcb2cc1410a666
=======
   "id": "4c55a16b",
>>>>>>> 61c8f4bff1b7848db82b013fbfba194514b420ca
   "metadata": {},
   "outputs": [],
   "source": [
    "annotGeometryNames(sfe_tissue)"
   ]
  },
  {
   "cell_type": "markdown",
<<<<<<< HEAD
<<<<<<< HEAD
<<<<<<< HEAD
   "id": "9f33c675",
||||||| 3477967
   "id": "8ea083a6",
=======
   "id": "8a19caba",
>>>>>>> 763a65aa00deab365d39bc26b2dcb2cc1410a666
||||||| eb63ff5
   "id": "9f33c675",
=======
   "id": "c41ce336",
>>>>>>> documentation-devel
||||||| cd53b20
<<<<<<< HEAD
   "id": "9f33c675",
||||||| 3477967
   "id": "8ea083a6",
=======
   "id": "8a19caba",
>>>>>>> 763a65aa00deab365d39bc26b2dcb2cc1410a666
=======
   "id": "d84a8024",
>>>>>>> 61c8f4bff1b7848db82b013fbfba194514b420ca
   "metadata": {
    "lines_to_next_cell": 0
   },
   "source": [
    "### From myofibers and nuclei to Visium spots\n",
    "The `plotSpatialFeature()` function can also be used to plot attributes of geometries, i.e. the non-geometry columns in the `sf` data frames in the `rowGeometries`, `colGeometries`, or `annotGeometries` fields of the SFE object. For `rowGeometries` and `colGeometries`, such columns which are associated with the `sf` data frames rather than `rowData` or `colData`, are allowed because one can specify how these columns associate with the geometries (see [`st_agr`](https://r-spatial.github.io/sf/reference/st_agr.html) and [documentation of `st_sf`](https://r-spatial.github.io/sf/reference/sf.html#details-1)). When an attribute of an `annotGeometry` is plotted along side gene expression or `colData` or `colGeometry` attribute, the `annotGeometry` attribute is plotted with a different color palette to distinguish it from the column associated values. \n",
    "\n",
    "The myofiber polygons from `annotGeometries` can be plotted as shown below, colored by cross section area as observed in the tissue section. The `aes_use` argument is set to `color` rather than `fill` (default for polygons) to only plot the Visium spot outlines to make the myofiber polygons more visible. The `fill` argument is set to `NA` to make the Visium spots look hollow, and the `size` argument controls the thickness of the outlines. The `annot_aes` argument specifies which column in the `annotGeometry` to use to specify the values of an aesthstic, just like `aes` in `ggplot2` (`aes_string` to be precise, since `tidyeval` is not used here). The `annot_fixed` argument (not used here) can set the fixed size, alpha, color, and etc. for the `annotGeometry`. "
   ]
  },
  {
   "cell_type": "code",
   "execution_count": null,
<<<<<<< HEAD
<<<<<<< HEAD
<<<<<<< HEAD
   "id": "f9963d51",
||||||| 3477967
   "id": "2b3bef05",
=======
   "id": "882fe9c1",
>>>>>>> 763a65aa00deab365d39bc26b2dcb2cc1410a666
||||||| eb63ff5
   "id": "f9963d51",
=======
   "id": "d60345d1",
>>>>>>> documentation-devel
||||||| cd53b20
<<<<<<< HEAD
   "id": "f9963d51",
||||||| 3477967
   "id": "2b3bef05",
=======
   "id": "882fe9c1",
>>>>>>> 763a65aa00deab365d39bc26b2dcb2cc1410a666
=======
   "id": "c53af8a7",
>>>>>>> 61c8f4bff1b7848db82b013fbfba194514b420ca
   "metadata": {
    "fig.alt": "Plot of Visium spots in tissue and myofiber polygons in physical space. Visium spots are colored by nCounts, and myofibers are colored by area."
   },
   "outputs": [],
   "source": [
    "plotSpatialFeature(sfe_tissue, features = \"nCounts\", \n",
    "                   colGeometryName = \"spotPoly\",\n",
    "                   annotGeometryName = \"myofiber_simplified\", \n",
    "                   aes_use = \"color\", linewidth = 0.5, fill = NA,\n",
    "                   annot_aes = list(fill = \"area\"))"
   ]
  },
  {
   "cell_type": "markdown",
<<<<<<< HEAD
<<<<<<< HEAD
<<<<<<< HEAD
   "id": "421811d9",
||||||| 3477967
   "id": "6f0dd1a9",
=======
   "id": "9f48aac6",
>>>>>>> 763a65aa00deab365d39bc26b2dcb2cc1410a666
||||||| eb63ff5
   "id": "421811d9",
=======
   "id": "588b5731",
>>>>>>> documentation-devel
||||||| cd53b20
<<<<<<< HEAD
   "id": "421811d9",
||||||| 3477967
   "id": "6f0dd1a9",
=======
   "id": "9f48aac6",
>>>>>>> 763a65aa00deab365d39bc26b2dcb2cc1410a666
=======
   "id": "a623b607",
>>>>>>> 61c8f4bff1b7848db82b013fbfba194514b420ca
   "metadata": {
    "lines_to_next_cell": 0
   },
   "source": [
    "The larger myofibers seem to have fewer total counts, possibly because the larger size of these myofibers dilutes the transcripts. This hints at the need for a normalization procedure.\n",
    "\n",
    "With `SpatialFeatureExperiment`, we can find the number of myofibers and nuclei that intersect each Visium spot. The predicate can be [anything implemented in `sf`](https://r-spatial.github.io/sf/reference/geos_binary_pred.html), so for example, the number of nuclei fully covered by each Visium spot can also be found. The default predicate is `st_intersects()`."
   ]
  },
  {
   "cell_type": "code",
   "execution_count": null,
<<<<<<< HEAD
<<<<<<< HEAD
<<<<<<< HEAD
   "id": "ee01db11",
||||||| 3477967
   "id": "432d87d3",
=======
   "id": "5374d2e5",
>>>>>>> 763a65aa00deab365d39bc26b2dcb2cc1410a666
||||||| eb63ff5
   "id": "ee01db11",
=======
   "id": "7875aa2b",
>>>>>>> documentation-devel
||||||| cd53b20
<<<<<<< HEAD
   "id": "ee01db11",
||||||| 3477967
   "id": "432d87d3",
=======
   "id": "5374d2e5",
>>>>>>> 763a65aa00deab365d39bc26b2dcb2cc1410a666
=======
   "id": "50001135",
>>>>>>> 61c8f4bff1b7848db82b013fbfba194514b420ca
   "metadata": {},
   "outputs": [],
   "source": [
    "colData(sfe_tissue)$n_myofibers <- \n",
    "  annotNPred(sfe_tissue, colGeometryName = \"spotPoly\",\n",
    "             annotGeometryName = \"myofiber_simplified\")"
   ]
  },
  {
   "cell_type": "code",
   "execution_count": null,
<<<<<<< HEAD
<<<<<<< HEAD
<<<<<<< HEAD
   "id": "c39100c1",
||||||| 3477967
   "id": "54ddda93",
=======
   "id": "4bfbc95e",
>>>>>>> 763a65aa00deab365d39bc26b2dcb2cc1410a666
||||||| eb63ff5
   "id": "c39100c1",
=======
   "id": "21f84331",
>>>>>>> documentation-devel
||||||| cd53b20
<<<<<<< HEAD
   "id": "c39100c1",
||||||| 3477967
   "id": "54ddda93",
=======
   "id": "4bfbc95e",
>>>>>>> 763a65aa00deab365d39bc26b2dcb2cc1410a666
=======
   "id": "69135f5b",
>>>>>>> 61c8f4bff1b7848db82b013fbfba194514b420ca
   "metadata": {
    "fig.alt": "Plot of Visium spots in tissue in physical space, colored by number of myofibers intersecting each spot.",
    "fig.height": 4,
    "fig.width": 8
   },
   "outputs": [],
   "source": [
    "plotSpatialFeature(sfe_tissue, features = \"n_myofibers\", \n",
    "                   colGeometryName = \"spotPoly\", image = \"lowres\", color = \"black\",\n",
    "                   linewidth = 0.1)"
   ]
  },
  {
   "cell_type": "markdown",
<<<<<<< HEAD
<<<<<<< HEAD
<<<<<<< HEAD
   "id": "dcadfc04",
||||||| 3477967
   "id": "68b4fa8a",
=======
   "id": "a33ebcc0",
>>>>>>> 763a65aa00deab365d39bc26b2dcb2cc1410a666
||||||| eb63ff5
   "id": "dcadfc04",
=======
   "id": "0ead7056",
>>>>>>> documentation-devel
||||||| cd53b20
<<<<<<< HEAD
   "id": "dcadfc04",
||||||| 3477967
   "id": "68b4fa8a",
=======
   "id": "a33ebcc0",
>>>>>>> 763a65aa00deab365d39bc26b2dcb2cc1410a666
=======
   "id": "47a63ca2",
>>>>>>> 61c8f4bff1b7848db82b013fbfba194514b420ca
   "metadata": {
    "lines_to_next_cell": 0
   },
   "source": [
    "There is no one-to-one mapping between Visium spots and myofibers. However, we can relate attributes of myofibers to gene expression detected at the Visium spots. One way to do so is to summarize the attributes of all myofibers that intersect (or choose another better predicate implemented in `sf`) each spot, such as to calculate the mean, median, or sum. This can be done with the `annotSummary()` function in `SpatialFeatureExperiment`. The default predicate is `st_intersects()`, and the default summary function is `mean()`."
   ]
  },
  {
   "cell_type": "code",
   "execution_count": null,
<<<<<<< HEAD
<<<<<<< HEAD
<<<<<<< HEAD
   "id": "0b05dac0",
||||||| 3477967
   "id": "32eacdb4",
=======
   "id": "a9d011e4",
>>>>>>> 763a65aa00deab365d39bc26b2dcb2cc1410a666
||||||| eb63ff5
   "id": "0b05dac0",
=======
   "id": "ae0bde8b",
>>>>>>> documentation-devel
||||||| cd53b20
<<<<<<< HEAD
   "id": "0b05dac0",
||||||| 3477967
   "id": "32eacdb4",
=======
   "id": "a9d011e4",
>>>>>>> 763a65aa00deab365d39bc26b2dcb2cc1410a666
=======
   "id": "bfea7f2b",
>>>>>>> 61c8f4bff1b7848db82b013fbfba194514b420ca
   "metadata": {},
   "outputs": [],
   "source": [
    "colData(sfe_tissue)$mean_myofiber_area <- \n",
    "  annotSummary(sfe_tissue, \"spotPoly\", \"myofiber_simplified\", \n",
    "               annotColNames = \"area\")[,1] # it always returns a data frame"
   ]
  },
  {
   "cell_type": "code",
   "execution_count": null,
<<<<<<< HEAD
<<<<<<< HEAD
<<<<<<< HEAD
   "id": "4c7d3213",
||||||| 3477967
   "id": "e3c293a6",
=======
   "id": "834a23bc",
>>>>>>> 763a65aa00deab365d39bc26b2dcb2cc1410a666
||||||| eb63ff5
   "id": "4c7d3213",
=======
   "id": "2f5b03f6",
>>>>>>> documentation-devel
||||||| cd53b20
<<<<<<< HEAD
   "id": "4c7d3213",
||||||| 3477967
   "id": "e3c293a6",
=======
   "id": "834a23bc",
>>>>>>> 763a65aa00deab365d39bc26b2dcb2cc1410a666
=======
   "id": "3ea06d9b",
>>>>>>> 61c8f4bff1b7848db82b013fbfba194514b420ca
   "metadata": {
    "fig.alt": "Plot of Visium spots in tissue in physical space, colored by the average area of myofibers that intersect each spot. The average area is higher near the mid-top right part of the tissue."
   },
   "outputs": [],
   "source": [
    "# The gray spots don't intersect any myofiber\n",
    "plotSpatialFeature(sfe_tissue, \"mean_myofiber_area\", \"spotPoly\", image = \"lowres\", \n",
    "                   color = \"black\", linewidth = 0.1)"
   ]
  },
  {
   "cell_type": "markdown",
<<<<<<< HEAD
<<<<<<< HEAD
<<<<<<< HEAD
   "id": "ec4de6a1",
||||||| 3477967
   "id": "2746ef44",
=======
   "id": "dcd63b80",
>>>>>>> 763a65aa00deab365d39bc26b2dcb2cc1410a666
||||||| eb63ff5
   "id": "ec4de6a1",
=======
   "id": "688ad53c",
>>>>>>> documentation-devel
||||||| cd53b20
<<<<<<< HEAD
   "id": "ec4de6a1",
||||||| 3477967
   "id": "2746ef44",
=======
   "id": "dcd63b80",
>>>>>>> 763a65aa00deab365d39bc26b2dcb2cc1410a666
=======
   "id": "7cf75495",
>>>>>>> 61c8f4bff1b7848db82b013fbfba194514b420ca
   "metadata": {
    "lines_to_next_cell": 0
   },
   "source": [
    "This reveals the relationship between the mean area of myofibers intersecting each Visium spot and other aspects of the spots, such as total counts and gene expression.\n",
    "\n",
    "The NAs designate spots not intersecting any myofibers, e.g. those in the inflammatory region. \n",
    "\n",
    "In the [Basic Visium vignette](https://pachterlab.github.io/Voyager/articles/vig2_visium_basic.html), we encountered two mysterious branches and two clusters in the nGenes vs. nCounts plot and the proportion of mitochondrial counts vs. nCounts plot. Now we see that the two clusters seem to be related to myofiber size."
   ]
  },
  {
   "cell_type": "code",
   "execution_count": null,
<<<<<<< HEAD
<<<<<<< HEAD
<<<<<<< HEAD
   "id": "a4533414",
||||||| 3477967
   "id": "3f938ac7",
=======
   "id": "d832ccad",
>>>>>>> 763a65aa00deab365d39bc26b2dcb2cc1410a666
||||||| eb63ff5
   "id": "a4533414",
=======
   "id": "8d80aa2f",
>>>>>>> documentation-devel
||||||| cd53b20
<<<<<<< HEAD
   "id": "a4533414",
||||||| 3477967
   "id": "3f938ac7",
=======
   "id": "d832ccad",
>>>>>>> 763a65aa00deab365d39bc26b2dcb2cc1410a666
=======
   "id": "c76c97a8",
>>>>>>> 61c8f4bff1b7848db82b013fbfba194514b420ca
   "metadata": {},
   "outputs": [],
   "source": [
    "plotColData(sfe_tissue, x = \"nCounts\", y = \"nGenes\", colour_by = \"mean_myofiber_area\")"
   ]
  },
  {
   "cell_type": "code",
   "execution_count": null,
<<<<<<< HEAD
<<<<<<< HEAD
<<<<<<< HEAD
   "id": "a8be2664",
||||||| 3477967
   "id": "0bea0f1c",
=======
   "id": "b8262f57",
>>>>>>> 763a65aa00deab365d39bc26b2dcb2cc1410a666
||||||| eb63ff5
   "id": "a8be2664",
=======
   "id": "573f7708",
>>>>>>> documentation-devel
||||||| cd53b20
<<<<<<< HEAD
   "id": "a8be2664",
||||||| 3477967
   "id": "0bea0f1c",
=======
   "id": "b8262f57",
>>>>>>> 763a65aa00deab365d39bc26b2dcb2cc1410a666
=======
   "id": "965f3f0c",
>>>>>>> 61c8f4bff1b7848db82b013fbfba194514b420ca
   "metadata": {},
   "outputs": [],
   "source": [
    "plotColData(sfe_tissue, x = \"nCounts\", y = \"prop_mito\", colour_by = \"mean_myofiber_area\")"
   ]
  },
  {
   "cell_type": "markdown",
<<<<<<< HEAD
<<<<<<< HEAD
<<<<<<< HEAD
   "id": "59e0437f",
||||||| 3477967
   "id": "e68412f5",
=======
   "id": "383b5bed",
>>>>>>> 763a65aa00deab365d39bc26b2dcb2cc1410a666
||||||| eb63ff5
   "id": "59e0437f",
=======
   "id": "7cdeb0a5",
>>>>>>> documentation-devel
||||||| cd53b20
<<<<<<< HEAD
   "id": "59e0437f",
||||||| 3477967
   "id": "e68412f5",
=======
   "id": "383b5bed",
>>>>>>> 763a65aa00deab365d39bc26b2dcb2cc1410a666
=======
   "id": "812f6ccb",
>>>>>>> 61c8f4bff1b7848db82b013fbfba194514b420ca
   "metadata": {
    "lines_to_next_cell": 0
   },
   "source": [
    "### Myofiber types\n",
    "Marker genes: Myh7 (Type I, slow twitch, aerobic), Myh2 (Type IIa, fast twitch, somewhat aerobic), Myh4 (Type IIb, fast twitch, anareobic), Myh1 (Type IIx, fast twitch, anaerobic), from [this protocol](https://www.ncbi.nlm.nih.gov/pmc/articles/PMC5526362/) [@Wang2017-li]"
   ]
  },
  {
   "cell_type": "code",
   "execution_count": null,
<<<<<<< HEAD
<<<<<<< HEAD
<<<<<<< HEAD
   "id": "c544a1aa",
||||||| 3477967
   "id": "1f6a5cb8",
=======
   "id": "4784db17",
>>>>>>> 763a65aa00deab365d39bc26b2dcb2cc1410a666
||||||| eb63ff5
   "id": "c544a1aa",
=======
   "id": "1c34a690",
>>>>>>> documentation-devel
||||||| cd53b20
<<<<<<< HEAD
   "id": "c544a1aa",
||||||| 3477967
   "id": "1f6a5cb8",
=======
   "id": "4784db17",
>>>>>>> 763a65aa00deab365d39bc26b2dcb2cc1410a666
=======
   "id": "ea9d4d95",
>>>>>>> 61c8f4bff1b7848db82b013fbfba194514b420ca
   "metadata": {},
   "outputs": [],
   "source": [
    "markers <- c(I = \"Myh7\", IIa = \"Myh2\", IIb = \"Myh4\", IIx = \"Myh1\")"
   ]
  },
  {
   "cell_type": "markdown",
<<<<<<< HEAD
<<<<<<< HEAD
<<<<<<< HEAD
   "id": "6d2d40b9",
||||||| 3477967
   "id": "c1190ada",
=======
   "id": "20447a0c",
>>>>>>> 763a65aa00deab365d39bc26b2dcb2cc1410a666
||||||| eb63ff5
   "id": "6d2d40b9",
=======
   "id": "b52adf1e",
>>>>>>> documentation-devel
||||||| cd53b20
<<<<<<< HEAD
   "id": "6d2d40b9",
||||||| 3477967
   "id": "c1190ada",
=======
   "id": "20447a0c",
>>>>>>> 763a65aa00deab365d39bc26b2dcb2cc1410a666
=======
   "id": "9261d33d",
>>>>>>> 61c8f4bff1b7848db82b013fbfba194514b420ca
   "metadata": {
    "lines_to_next_cell": 0
   },
   "source": [
    "We can use the [gget search](https://pachterlab.github.io/gget/search.html) and [gget info](https://pachterlab.github.io/gget/info.html) modules from the [gget](https://pachterlab.github.io/gget/) package to get the Ensembl IDs and additional information (for example their [NCBI](https://www.ncbi.nlm.nih.gov/) description) for these marker genes:"
   ]
  },
  {
   "cell_type": "code",
   "execution_count": null,
<<<<<<< HEAD
<<<<<<< HEAD
<<<<<<< HEAD
   "id": "02decda9",
||||||| 3477967
   "id": "390accc1",
=======
   "id": "393a1c05",
>>>>>>> 763a65aa00deab365d39bc26b2dcb2cc1410a666
||||||| eb63ff5
   "id": "02decda9",
=======
   "id": "8d027ee6",
>>>>>>> documentation-devel
||||||| cd53b20
<<<<<<< HEAD
   "id": "02decda9",
||||||| 3477967
   "id": "390accc1",
=======
   "id": "393a1c05",
>>>>>>> 763a65aa00deab365d39bc26b2dcb2cc1410a666
=======
   "id": "11833c58",
>>>>>>> 61c8f4bff1b7848db82b013fbfba194514b420ca
   "metadata": {},
   "outputs": [],
   "source": [
    "gget_search <- gget$search(list(\"Myh7\", \"Myh2\", \"Myh4\", \"Myh1\"), species=\"mouse\")\n",
    "gget_search <- gget_search[gget_search$gene_name %in% list(\"Myh7\", \"Myh2\", \"Myh4\", \"Myh1\"), ]\n",
    "gget_search"
   ]
  },
  {
   "cell_type": "code",
   "execution_count": null,
<<<<<<< HEAD
<<<<<<< HEAD
<<<<<<< HEAD
   "id": "e42f75f0",
||||||| 3477967
   "id": "6e621648",
=======
   "id": "1e3e4859",
>>>>>>> 763a65aa00deab365d39bc26b2dcb2cc1410a666
||||||| eb63ff5
   "id": "e42f75f0",
=======
   "id": "20410775",
>>>>>>> documentation-devel
||||||| cd53b20
<<<<<<< HEAD
   "id": "e42f75f0",
||||||| 3477967
   "id": "6e621648",
=======
   "id": "1e3e4859",
>>>>>>> 763a65aa00deab365d39bc26b2dcb2cc1410a666
=======
   "id": "c636fffe",
>>>>>>> 61c8f4bff1b7848db82b013fbfba194514b420ca
   "metadata": {},
   "outputs": [],
   "source": [
    "gget_info <- gget$info(gget_search$ensembl_id)\n",
    "\n",
    "rownames(gget_info) <- gget_info$primary_gene_name\n",
    "select(gget_info, ncbi_description)"
   ]
  },
  {
   "cell_type": "markdown",
<<<<<<< HEAD
<<<<<<< HEAD
<<<<<<< HEAD
   "id": "4aac9a6e",
||||||| 3477967
   "id": "f11be17f",
=======
   "id": "a5f32d65",
>>>>>>> 763a65aa00deab365d39bc26b2dcb2cc1410a666
||||||| eb63ff5
   "id": "4aac9a6e",
=======
   "id": "85f0f081",
>>>>>>> documentation-devel
||||||| cd53b20
<<<<<<< HEAD
   "id": "4aac9a6e",
||||||| 3477967
   "id": "f11be17f",
=======
   "id": "a5f32d65",
>>>>>>> 763a65aa00deab365d39bc26b2dcb2cc1410a666
=======
   "id": "2c747544",
>>>>>>> 61c8f4bff1b7848db82b013fbfba194514b420ca
   "metadata": {
    "lines_to_next_cell": 0
   },
   "source": [
    "We first examine the Type I myofibers. This is a fast twitch muscle, so we don't expect many slow twitch Type I myofibers. Row names in `sfe_tissue` are Ensembl IDs in order to avoid ambiguity as sometimes multiple Ensembl IDs have the same gene symbol and some genes have aliases. However, gene symbols are shorter and more human readable than Ensembl IDs, and are better suited to display on plots.  In the `plotSpatialFeature()` function and other functions in `Voyager`, even when the row names are recorded as Ensembl IDs, the `features` argument can take gene symbols if there is a column called \"symbols\" in `rowData(sfe)`, where the function converts the gene symbols to Ensembl IDs. By default, gene symbols are shown on the plot, but the `show_symbol` argument can be set to `FALSE` to show Ensembl IDs instead. If one gene symbol matches multiple Ensembl IDs in the dataset, then a warning will be given.\n",
    "\n",
    "The `exprs_values` argument specifies the assay to use, which is by default \"logcounts\", i.e. the log normalized data. This default may or may not be suitable in practice given that total UMI counts may have biological relevance in spatial data. Therefore, we plot both the raw counts and the log normalized counts:"
   ]
  },
  {
   "cell_type": "code",
   "execution_count": null,
<<<<<<< HEAD
<<<<<<< HEAD
<<<<<<< HEAD
   "id": "b532cc92",
||||||| 3477967
   "id": "8a701a90",
=======
   "id": "ba9a935b",
>>>>>>> 763a65aa00deab365d39bc26b2dcb2cc1410a666
||||||| eb63ff5
   "id": "b532cc92",
=======
   "id": "df2dc300",
>>>>>>> documentation-devel
||||||| cd53b20
<<<<<<< HEAD
   "id": "b532cc92",
||||||| 3477967
   "id": "8a701a90",
=======
   "id": "ba9a935b",
>>>>>>> 763a65aa00deab365d39bc26b2dcb2cc1410a666
=======
   "id": "71d11668",
>>>>>>> 61c8f4bff1b7848db82b013fbfba194514b420ca
   "metadata": {},
   "outputs": [],
   "source": [
    "# Function specific for this vignette, with some hard coded values\n",
    "plot_counts_logcounts <- function(sfe, feature) {\n",
    "  p1 <- plotSpatialFeature(sfe, feature, \"spotPoly\",\n",
    "                   annotGeometryName = \"myofiber_simplified\", \n",
    "                   annot_aes = list(fill = \"area\"), show_symbol = TRUE, \n",
    "                   exprs_values = \"counts\", aes_use = \"color\", linewidth = 0.5,\n",
    "                   fill = NA) +\n",
    "    ggtitle(\"Raw counts\")\n",
    "  p2 <- plotSpatialFeature(sfe, feature, \"spotPoly\",\n",
    "                   annotGeometryName = \"myofiber_simplified\", \n",
    "                   annot_aes = list(fill = \"area\"), show_symbol = TRUE, \n",
    "                   exprs_values = \"logcounts\", aes_use = \"color\", linewidth = 0.5,\n",
    "                   fill = NA) +\n",
    "    ggtitle(\"Log normalized counts\")\n",
    "  p1 + p2 +\n",
    "    plot_annotation(title = feature)\n",
    "}"
   ]
  },
  {
   "cell_type": "code",
   "execution_count": null,
<<<<<<< HEAD
<<<<<<< HEAD
<<<<<<< HEAD
   "id": "9e116e43",
||||||| 3477967
   "id": "b5900c58",
=======
   "id": "8215cda7",
>>>>>>> 763a65aa00deab365d39bc26b2dcb2cc1410a666
||||||| eb63ff5
   "id": "9e116e43",
=======
   "id": "fa1d0677",
>>>>>>> documentation-devel
||||||| cd53b20
<<<<<<< HEAD
   "id": "9e116e43",
||||||| 3477967
   "id": "b5900c58",
=======
   "id": "8215cda7",
>>>>>>> 763a65aa00deab365d39bc26b2dcb2cc1410a666
=======
   "id": "52d420c3",
>>>>>>> 61c8f4bff1b7848db82b013fbfba194514b420ca
   "metadata": {
    "fig.alt": "Raw and log normalized counts of Myh7, marker gene of type I myofiber, plotted side by side on Visium spots in space, with myofiber polygons colored by myofiber cross section area plotted in the background. Visium spots expressing Myh7 concentrate in the lower left part of the tissue where the myofibers tend to be smaller."
   },
   "outputs": [],
   "source": [
    "plot_counts_logcounts(sfe_tissue, markers[\"I\"])"
   ]
  },
  {
   "cell_type": "markdown",
<<<<<<< HEAD
<<<<<<< HEAD
<<<<<<< HEAD
   "id": "0bea654a",
||||||| 3477967
   "id": "4e572124",
=======
   "id": "b06c3cf0",
>>>>>>> 763a65aa00deab365d39bc26b2dcb2cc1410a666
||||||| eb63ff5
   "id": "0bea654a",
=======
   "id": "1391a72a",
>>>>>>> documentation-devel
||||||| cd53b20
<<<<<<< HEAD
   "id": "0bea654a",
||||||| 3477967
   "id": "4e572124",
=======
   "id": "b06c3cf0",
>>>>>>> 763a65aa00deab365d39bc26b2dcb2cc1410a666
=======
   "id": "c72cc1b1",
>>>>>>> 61c8f4bff1b7848db82b013fbfba194514b420ca
   "metadata": {
    "lines_to_next_cell": 0
   },
   "source": [
    "A marker gene for type IIa myofibers is shown above. It is straightforward to modify the plotting to display markers for type IIb and type IIx myofibers:"
   ]
  },
  {
   "cell_type": "code",
   "execution_count": null,
<<<<<<< HEAD
<<<<<<< HEAD
<<<<<<< HEAD
   "id": "e4b9d979",
||||||| 3477967
   "id": "ee4cd8da",
=======
   "id": "99b4363a",
>>>>>>> 763a65aa00deab365d39bc26b2dcb2cc1410a666
||||||| eb63ff5
   "id": "e4b9d979",
=======
   "id": "d3ab63ac",
>>>>>>> documentation-devel
||||||| cd53b20
<<<<<<< HEAD
   "id": "e4b9d979",
||||||| 3477967
   "id": "ee4cd8da",
=======
   "id": "99b4363a",
>>>>>>> 763a65aa00deab365d39bc26b2dcb2cc1410a666
=======
   "id": "64078c5d",
>>>>>>> 61c8f4bff1b7848db82b013fbfba194514b420ca
   "metadata": {
    "fig.alt": "Raw and log normalized counts of Myh2, a marker gene of type IIa myofiber, plotted side by side on Visium spots in space, with myofiber polygons colored by myofiber cross section area plotted in the background. Visium spots expressing Myh2 concentrate in the lower left and upper left parts of the tissue where the myofibers tend to be smaller. Log normalized counts show a wider region with higher expression."
   },
   "outputs": [],
   "source": [
    "plot_counts_logcounts(sfe_tissue, markers[\"IIa\"])"
   ]
  },
  {
   "cell_type": "markdown",
<<<<<<< HEAD
<<<<<<< HEAD
<<<<<<< HEAD
   "id": "37539393",
||||||| 3477967
   "id": "0015ffbc",
=======
   "id": "b84d4672",
>>>>>>> 763a65aa00deab365d39bc26b2dcb2cc1410a666
||||||| eb63ff5
   "id": "37539393",
=======
   "id": "8a5c23a2",
>>>>>>> documentation-devel
||||||| cd53b20
<<<<<<< HEAD
   "id": "37539393",
||||||| 3477967
   "id": "0015ffbc",
=======
   "id": "b84d4672",
>>>>>>> 763a65aa00deab365d39bc26b2dcb2cc1410a666
=======
   "id": "8bbebd57",
>>>>>>> 61c8f4bff1b7848db82b013fbfba194514b420ca
   "metadata": {
    "lines_to_next_cell": 0
   },
   "source": [
    "Type IIa myofibers also tend to be clustered together on left side of the tissue.\n",
    "\n",
    "As SFE inherits from SCE, the non-spatial EDA plots from the `scater` package can also be used:"
   ]
  },
  {
   "cell_type": "code",
   "execution_count": null,
<<<<<<< HEAD
<<<<<<< HEAD
<<<<<<< HEAD
   "id": "97191838",
||||||| 3477967
   "id": "c50e2d61",
=======
   "id": "27e65daf",
>>>>>>> 763a65aa00deab365d39bc26b2dcb2cc1410a666
||||||| eb63ff5
   "id": "97191838",
=======
   "id": "7d020ab5",
>>>>>>> documentation-devel
||||||| cd53b20
<<<<<<< HEAD
   "id": "97191838",
||||||| 3477967
   "id": "c50e2d61",
=======
   "id": "27e65daf",
>>>>>>> 763a65aa00deab365d39bc26b2dcb2cc1410a666
=======
   "id": "67cb365f",
>>>>>>> 61c8f4bff1b7848db82b013fbfba194514b420ca
   "metadata": {
    "fig.alt": "Scatter plot of mean area of myofibers intersecting each Visium spot in the x axis and proportion of mitochondrially encoded counts per spot in the y axis, with points colored by expression of Myh2."
   },
   "outputs": [],
   "source": [
    "plotColData(sfe_tissue, x = \"mean_myofiber_area\", y = \"prop_mito\", \n",
    "            colour_by = markers[\"IIa\"], by_exprs_values = \"logcounts\", \n",
    "            swap_rownames = \"symbol\")"
   ]
  },
  {
   "cell_type": "markdown",
<<<<<<< HEAD
<<<<<<< HEAD
<<<<<<< HEAD
   "id": "a43858d9",
||||||| 3477967
   "id": "0a1ce90d",
=======
   "id": "13e1aeea",
>>>>>>> 763a65aa00deab365d39bc26b2dcb2cc1410a666
||||||| eb63ff5
   "id": "a43858d9",
=======
   "id": "a127607e",
>>>>>>> documentation-devel
||||||| cd53b20
<<<<<<< HEAD
   "id": "a43858d9",
||||||| 3477967
   "id": "0a1ce90d",
=======
   "id": "13e1aeea",
>>>>>>> 763a65aa00deab365d39bc26b2dcb2cc1410a666
=======
   "id": "b7e3e2f3",
>>>>>>> 61c8f4bff1b7848db82b013fbfba194514b420ca
   "metadata": {},
   "source": [
    "Plotting proportion of mitochondrial counts vs. mean myofiber area, we see two clusters, one with higher proportion of mitochondrial counts and smaller area, and another with lower proportion of mitochondrial counts and on average slightly larger area. Type IIa myofibers tend to have smaller area and a larger proportion of mitochondrial counts.\n",
    "\n",
    "# Spatial neighborhood graphs\n",
    "A spatial neighborhood graph is required to compute spatial dependency metrics such as Moran's I and Geary's C. The `SpatialFeatureExperiment` package wraps methods in `spdep` to find spatial neighborhood graphs, which are stored within the SFE object (see `spdep` documentation for `gabrielneigh()`, `knearneigh()`, `poly2nb()`, and `tri2nb()`). The `Voyager` package then uses these graphs for spatial dependency analyses, again based on `spdep` in this first version, but methods from other geospatial packages, some of which also use the spatial neighborhood graphs, may be added later.\n",
    "\n",
    "For Visium, where the spots are in a hexagonal grid, the spatial neighborhood graph is straightforward. However, for spatial technologies with single cell resolution, e.g. MERFISH, different methods can be used to find the spatial neighborhood graph. In this example, the method \"poly2nb\" was used for myofibers, and it identifies myofiber polygons that physically touch each other. `zero.policy = TRUE` will allow for singletons, i.e. nodes without neighbors in the graph; in the inflamed region, there are more singletons. We have not yet benchmarked spatial neighborhood construction methods to determine which is the \"best\" for different technologies; the particular method used here is for demonstration purposes and may not be the best in practice: "
   ]
  },
  {
   "cell_type": "code",
   "execution_count": null,
<<<<<<< HEAD
<<<<<<< HEAD
<<<<<<< HEAD
   "id": "5df64a9e",
||||||| 3477967
   "id": "0ef7bf6d",
=======
   "id": "2f0992a5",
>>>>>>> 763a65aa00deab365d39bc26b2dcb2cc1410a666
||||||| eb63ff5
   "id": "5df64a9e",
=======
   "id": "6f8684b6",
>>>>>>> documentation-devel
||||||| cd53b20
<<<<<<< HEAD
   "id": "5df64a9e",
||||||| 3477967
   "id": "0ef7bf6d",
=======
   "id": "2f0992a5",
>>>>>>> 763a65aa00deab365d39bc26b2dcb2cc1410a666
=======
   "id": "cfcc32d5",
>>>>>>> 61c8f4bff1b7848db82b013fbfba194514b420ca
   "metadata": {},
   "outputs": [],
   "source": [
    "colGraph(sfe_tissue, \"visium\") <- findVisiumGraph(sfe_tissue)\n",
    "annotGraph(sfe_tissue, \"myofiber_poly2nb\") <- \n",
    "  findSpatialNeighbors(sfe_tissue, type = \"myofiber_simplified\", MARGIN = 3,\n",
    "                       method = \"poly2nb\", zero.policy = TRUE)"
   ]
  },
  {
   "cell_type": "markdown",
<<<<<<< HEAD
<<<<<<< HEAD
<<<<<<< HEAD
   "id": "438164db",
||||||| 3477967
   "id": "648da996",
=======
   "id": "1f5615e7",
>>>>>>> 763a65aa00deab365d39bc26b2dcb2cc1410a666
||||||| eb63ff5
   "id": "438164db",
=======
   "id": "0475b2dc",
>>>>>>> documentation-devel
||||||| cd53b20
<<<<<<< HEAD
   "id": "438164db",
||||||| 3477967
   "id": "648da996",
=======
   "id": "1f5615e7",
>>>>>>> 763a65aa00deab365d39bc26b2dcb2cc1410a666
=======
   "id": "623af81e",
>>>>>>> 61c8f4bff1b7848db82b013fbfba194514b420ca
   "metadata": {
    "lines_to_next_cell": 0
   },
   "source": [
    "The `plotColGraph()` function plots the graph in space associated with a `colGeometry`, along with the geometry of interest."
   ]
  },
  {
   "cell_type": "code",
   "execution_count": null,
<<<<<<< HEAD
<<<<<<< HEAD
<<<<<<< HEAD
   "id": "5cb607d4",
||||||| 3477967
   "id": "a1735b2c",
=======
   "id": "c26316f1",
>>>>>>> 763a65aa00deab365d39bc26b2dcb2cc1410a666
||||||| eb63ff5
   "id": "5cb607d4",
=======
   "id": "4bf71b9f",
>>>>>>> documentation-devel
||||||| cd53b20
<<<<<<< HEAD
   "id": "5cb607d4",
||||||| 3477967
   "id": "a1735b2c",
=======
   "id": "c26316f1",
>>>>>>> 763a65aa00deab365d39bc26b2dcb2cc1410a666
=======
   "id": "9a14928b",
>>>>>>> 61c8f4bff1b7848db82b013fbfba194514b420ca
   "metadata": {
    "fig.alt": "Spatial neighborhood graph of Visium spots that intersect tissue."
   },
   "outputs": [],
   "source": [
    "plotColGraph(sfe_tissue, colGraphName = \"visium\", colGeometryName = \"spotPoly\") +\n",
    "    theme_void()"
   ]
  },
  {
   "cell_type": "markdown",
<<<<<<< HEAD
<<<<<<< HEAD
<<<<<<< HEAD
   "id": "eba7fc05",
||||||| 3477967
   "id": "aa778c55",
=======
   "id": "88c07692",
>>>>>>> 763a65aa00deab365d39bc26b2dcb2cc1410a666
||||||| eb63ff5
   "id": "eba7fc05",
=======
   "id": "8d269b13",
>>>>>>> documentation-devel
||||||| cd53b20
<<<<<<< HEAD
   "id": "eba7fc05",
||||||| 3477967
   "id": "aa778c55",
=======
   "id": "88c07692",
>>>>>>> 763a65aa00deab365d39bc26b2dcb2cc1410a666
=======
   "id": "d35cb5c4",
>>>>>>> 61c8f4bff1b7848db82b013fbfba194514b420ca
   "metadata": {
    "lines_to_next_cell": 0
   },
   "source": [
    "Similarly, the `plotAnnotGraph()` function plots the graph associated with an `annotGeometry`, along with the geometry of interest. "
   ]
  },
  {
   "cell_type": "code",
   "execution_count": null,
<<<<<<< HEAD
<<<<<<< HEAD
<<<<<<< HEAD
   "id": "909e18a5",
||||||| 3477967
   "id": "ecb60f50",
=======
   "id": "65f7fbd2",
>>>>>>> 763a65aa00deab365d39bc26b2dcb2cc1410a666
||||||| eb63ff5
   "id": "909e18a5",
=======
   "id": "13252e04",
>>>>>>> documentation-devel
||||||| cd53b20
<<<<<<< HEAD
   "id": "909e18a5",
||||||| 3477967
   "id": "ecb60f50",
=======
   "id": "65f7fbd2",
>>>>>>> 763a65aa00deab365d39bc26b2dcb2cc1410a666
=======
   "id": "f80981d4",
>>>>>>> 61c8f4bff1b7848db82b013fbfba194514b420ca
   "metadata": {
    "fig.alt": "Spatial neighborhood graph of myofibers, where each edge connects two myofibers that touch."
   },
   "outputs": [],
   "source": [
    "plotAnnotGraph(sfe_tissue, annotGraphName = \"myofiber_poly2nb\", \n",
    "               annotGeometryName = \"myofiber_simplified\") + theme_void()"
   ]
  },
  {
   "cell_type": "markdown",
<<<<<<< HEAD
<<<<<<< HEAD
<<<<<<< HEAD
   "id": "3d29ca30",
||||||| 3477967
   "id": "60a8f7ae",
=======
   "id": "bb06fc58",
>>>>>>> 763a65aa00deab365d39bc26b2dcb2cc1410a666
||||||| eb63ff5
   "id": "3d29ca30",
=======
   "id": "79635390",
>>>>>>> documentation-devel
||||||| cd53b20
<<<<<<< HEAD
   "id": "3d29ca30",
||||||| 3477967
   "id": "60a8f7ae",
=======
   "id": "bb06fc58",
>>>>>>> 763a65aa00deab365d39bc26b2dcb2cc1410a666
=======
   "id": "f30506c2",
>>>>>>> 61c8f4bff1b7848db82b013fbfba194514b420ca
   "metadata": {
    "lines_to_next_cell": 0
   },
   "source": [
    "There is no `plotRowGraph` yet since we haven't worked with a dataset where spatial graphs related to genes are relevant, although the SFE object supports row graphs.\n",
    "\n",
    "# Exploratory _spatial_ data analysis\n",
    "All spatial autocorrelation metrics in this package can be computed directly on a vector or a matrix rather than an SFE object. The user interface emulates those of dimension reductions in the `scater` package (e.g. `calculateUMAP()` that takes in a matrix or SCE object and returns a matrix, and `runUMAP()` that takes in an SCE object and adds the results to the `reducedDims` field of the SCE object). So `calculate*` functions take in a matrix or an SFE object and directly return the results (format of the results depends on the structure of the results), while `run*` functions take in an SFE object and add the results to the object. In addition, `colData*` functions compute the metrics for numeric variables in `colData`. `colGeometry*` functions compute the metrics for numeric columns in a `colGeometry`. `annotGeometry*` functions compute the metrics for numeric columns in a `annotGeometry`. \n",
    "\n",
    "# Univariate global\n",
    "`Voyager` supports many univariate global spatial autocorrelation implemented in `spdep` for ESDA: Moran's I and Geary's C, permutation testing for Moran's I and Geary's C, Moran plot, and correlograms. In addition, beyond `spdep`, `Voyager` can cluster Moran plots and correlograms. Plotting functions taking in SFE objects are implemented to plot the results with `ggplot2` and with more customization options than `spdep` plotting functions. The functions `calculateUnivariate()`, `runUnivariate()`, `colDataUnivariate()`, `colGeometryUnivariate()`, and `annotGeometryUnivariate()` compute univariate spatial statistics. The argument `type`, which indicates the corresponding function names in `spdep`, determines which spatial statistics are computed. \n",
    "\n",
    "All univariate global methods in `Voyager` are listed here:"
   ]
  },
  {
   "cell_type": "code",
   "execution_count": null,
<<<<<<< HEAD
<<<<<<< HEAD
<<<<<<< HEAD
   "id": "a70d5416",
||||||| 3477967
   "id": "39bb826d",
=======
   "id": "87e5aee6",
>>>>>>> 763a65aa00deab365d39bc26b2dcb2cc1410a666
||||||| eb63ff5
   "id": "a70d5416",
=======
   "id": "426014a1",
>>>>>>> documentation-devel
||||||| cd53b20
<<<<<<< HEAD
   "id": "a70d5416",
||||||| 3477967
   "id": "39bb826d",
=======
   "id": "87e5aee6",
>>>>>>> 763a65aa00deab365d39bc26b2dcb2cc1410a666
=======
   "id": "9a38b945",
>>>>>>> 61c8f4bff1b7848db82b013fbfba194514b420ca
   "metadata": {},
   "outputs": [],
   "source": [
    "listSFEMethods(variate = \"uni\", scope = \"global\")"
   ]
  },
  {
   "cell_type": "markdown",
<<<<<<< HEAD
<<<<<<< HEAD
<<<<<<< HEAD
   "id": "a1906c36",
||||||| 3477967
   "id": "ef19328d",
=======
   "id": "afd51125",
>>>>>>> 763a65aa00deab365d39bc26b2dcb2cc1410a666
||||||| eb63ff5
   "id": "a1906c36",
=======
   "id": "161e432f",
>>>>>>> documentation-devel
||||||| cd53b20
<<<<<<< HEAD
   "id": "a1906c36",
||||||| 3477967
   "id": "ef19328d",
=======
   "id": "afd51125",
>>>>>>> 763a65aa00deab365d39bc26b2dcb2cc1410a666
=======
   "id": "ecbc38b3",
>>>>>>> 61c8f4bff1b7848db82b013fbfba194514b420ca
   "metadata": {
    "lines_to_next_cell": 0
   },
   "source": [
    "When calling `calculate*variate()` or `run*variate()`, the `type` (2nd) argument takes either an `SFEMethod` object (see `SFEMethod()` and [vignette on `SFEMethod`](https://pachterlab.github.io/voyager/articles/sfemethod.html)) or a string that matches an entry in the `name` column in the data frame returned by `listSFEMethods()`.\n",
    "\n",
    "To demonstrate spatial autocorrelation in gene expression, top highly variable genes (HVGs) are used. The HVGs are found with the `scran` method."
   ]
  },
  {
   "cell_type": "code",
   "execution_count": null,
<<<<<<< HEAD
<<<<<<< HEAD
<<<<<<< HEAD
   "id": "6fb98944",
||||||| 3477967
   "id": "0ce4ce98",
=======
   "id": "e73e42f8",
>>>>>>> 763a65aa00deab365d39bc26b2dcb2cc1410a666
||||||| eb63ff5
   "id": "6fb98944",
=======
   "id": "03dd9ba5",
>>>>>>> documentation-devel
||||||| cd53b20
<<<<<<< HEAD
   "id": "6fb98944",
||||||| 3477967
   "id": "0ce4ce98",
=======
   "id": "e73e42f8",
>>>>>>> 763a65aa00deab365d39bc26b2dcb2cc1410a666
=======
   "id": "155b32d9",
>>>>>>> 61c8f4bff1b7848db82b013fbfba194514b420ca
   "metadata": {},
   "outputs": [],
   "source": [
    "dec <- modelGeneVar(sfe_tissue)\n",
    "hvgs <- getTopHVGs(dec, n = 50)"
   ]
  },
  {
   "cell_type": "markdown",
<<<<<<< HEAD
<<<<<<< HEAD
<<<<<<< HEAD
   "id": "bfc8b73b",
||||||| 3477967
   "id": "f3472211",
=======
   "id": "923baa50",
>>>>>>> 763a65aa00deab365d39bc26b2dcb2cc1410a666
||||||| eb63ff5
   "id": "bfc8b73b",
=======
   "id": "75724d2d",
>>>>>>> documentation-devel
||||||| cd53b20
<<<<<<< HEAD
   "id": "bfc8b73b",
||||||| 3477967
   "id": "f3472211",
=======
   "id": "923baa50",
>>>>>>> 763a65aa00deab365d39bc26b2dcb2cc1410a666
=======
   "id": "b7df565e",
>>>>>>> 61c8f4bff1b7848db82b013fbfba194514b420ca
   "metadata": {
    "lines_to_next_cell": 0
   },
   "source": [
    "A global statistic yields one result for the entire dataset.\n",
    "\n",
    "## Moran's I\n",
    "There are several ways to quantify spatial autocorrelation, the most common of which is Moran's I:\n",
    "\n",
    "$$\n",
    "I = \\frac{n}{\\sum_{i=1}^n \\sum_{j=1}^n w_{ij}} \\frac{\\sum_{i=1}^n \\sum_{j=1}^n w_{ij} (x_i - \\bar{x})(x_j - \\bar{x})}{\\sum_{i=1}^n (x_i - \\bar{x})^2},\n",
    "$$\n",
    "\n",
    "where $n$ is the number of spots or locations, $i$ and $j$ are different locations, or spots in the Visium context, $x$ is a variable with values at each location, and $w_{ij}$ is a spatial weight, which can be inversely proportional to distance between spots or an indicator of whether two spots are neighbors, subject to various definitions of neighborhood and whether to normalize the number of neighbors. The [`spdep`](https://r-spatial.github.io/spdep/index.html) package uses the neighborhood. \n",
    "\n",
    "Moran's I can be understood as the Pearson correlation between the value at each location and the average value at its neighbors. Just like Pearson correlation, Moran's I is generally bound between -1 and 1, where positive value indicates positive spatial autocorrelation and negative value indicates negative spatial autocorrelation. \n",
    "\n",
    "Upon visual inspection, total UMI counts per spot seem to have spatial autocorrelation. A spatial neighborhood graph is required to compute Moran's I, and is specified with the `listw` argument. \n",
    "\n",
    "For matrices, the rows are the features, as in the gene count matrix."
   ]
  },
  {
   "cell_type": "code",
   "execution_count": null,
<<<<<<< HEAD
<<<<<<< HEAD
<<<<<<< HEAD
   "id": "6da6a2bd",
||||||| 3477967
   "id": "9ad2a828",
=======
   "id": "69b2930c",
>>>>>>> 763a65aa00deab365d39bc26b2dcb2cc1410a666
||||||| eb63ff5
   "id": "6da6a2bd",
=======
   "id": "a13f2a7e",
>>>>>>> documentation-devel
||||||| cd53b20
<<<<<<< HEAD
   "id": "6da6a2bd",
||||||| 3477967
   "id": "9ad2a828",
=======
   "id": "69b2930c",
>>>>>>> 763a65aa00deab365d39bc26b2dcb2cc1410a666
=======
   "id": "67ead09a",
>>>>>>> 61c8f4bff1b7848db82b013fbfba194514b420ca
   "metadata": {},
   "outputs": [],
   "source": [
    "# Directly use vector or matrix, and multiple features can be specified at once\n",
    "calculateUnivariate(t(colData(sfe_tissue)[,c(\"nCounts\", \"nGenes\")]), \n",
    "                    type = \"moran\",\n",
    "                    listw = colGraph(sfe_tissue, \"visium\"))"
   ]
  },
  {
   "cell_type": "markdown",
<<<<<<< HEAD
<<<<<<< HEAD
<<<<<<< HEAD
   "id": "ba6839de",
||||||| 3477967
   "id": "9c3be1a4",
=======
   "id": "d09654e3",
>>>>>>> 763a65aa00deab365d39bc26b2dcb2cc1410a666
||||||| eb63ff5
   "id": "ba6839de",
=======
   "id": "6ccf4aa2",
>>>>>>> documentation-devel
||||||| cd53b20
<<<<<<< HEAD
   "id": "ba6839de",
||||||| 3477967
   "id": "9c3be1a4",
=======
   "id": "d09654e3",
>>>>>>> 763a65aa00deab365d39bc26b2dcb2cc1410a666
=======
   "id": "9d189572",
>>>>>>> 61c8f4bff1b7848db82b013fbfba194514b420ca
   "metadata": {
    "lines_to_next_cell": 0
   },
   "source": [
    "\"moran\" is Moran's I, and K is sample kurtosis.\n",
    "\n",
    "To add the results to the SFE object, specifically for colData:"
   ]
  },
  {
   "cell_type": "code",
   "execution_count": null,
<<<<<<< HEAD
<<<<<<< HEAD
<<<<<<< HEAD
   "id": "2276923c",
||||||| 3477967
   "id": "25afdaa5",
=======
   "id": "a581bf75",
>>>>>>> 763a65aa00deab365d39bc26b2dcb2cc1410a666
||||||| eb63ff5
   "id": "2276923c",
=======
   "id": "65875977",
>>>>>>> documentation-devel
||||||| cd53b20
<<<<<<< HEAD
   "id": "2276923c",
||||||| 3477967
   "id": "25afdaa5",
=======
   "id": "a581bf75",
>>>>>>> 763a65aa00deab365d39bc26b2dcb2cc1410a666
=======
   "id": "f084a94b",
>>>>>>> 61c8f4bff1b7848db82b013fbfba194514b420ca
   "metadata": {},
   "outputs": [],
   "source": [
    "sfe_tissue <- colDataUnivariate(sfe_tissue, features = c(\"nCounts\", \"nGenes\"),\n",
    "                                colGraphName = \"visium\", type = \"moran\")\n",
    "colFeatureData(sfe_tissue)[c(\"nCounts\", \"nGenes\"),]"
   ]
  },
  {
   "cell_type": "markdown",
<<<<<<< HEAD
<<<<<<< HEAD
<<<<<<< HEAD
   "id": "ed35ad4f",
||||||| 3477967
   "id": "33f9d261",
=======
   "id": "4ad2de6c",
>>>>>>> 763a65aa00deab365d39bc26b2dcb2cc1410a666
||||||| eb63ff5
   "id": "ed35ad4f",
=======
   "id": "c777efb2",
>>>>>>> documentation-devel
||||||| cd53b20
<<<<<<< HEAD
   "id": "ed35ad4f",
||||||| 3477967
   "id": "33f9d261",
=======
   "id": "4ad2de6c",
>>>>>>> 763a65aa00deab365d39bc26b2dcb2cc1410a666
=======
   "id": "2b6cf636",
>>>>>>> 61c8f4bff1b7848db82b013fbfba194514b420ca
   "metadata": {
    "lines_to_next_cell": 0
   },
   "source": [
    "For `colData`, the results are added to `colFeatureData(sfe)`, and features for which Moran's I is not calculated have NA. The column names of `featureData` distinguishes between different samples (there's only one sample in this dataset), and are parsed by plotting functions. \n",
    "\n",
    "To add the results to the SFE object, specifically for geometries: Here \"area\" is the area of the cross section of each myofiber as seen in this tissue section and \"eccentricity\" is the eccentricity of the ellipse fitted to each myofiber."
   ]
  },
  {
   "cell_type": "code",
   "execution_count": null,
<<<<<<< HEAD
<<<<<<< HEAD
<<<<<<< HEAD
   "id": "e618d15d",
||||||| 3477967
   "id": "d60b67dc",
=======
   "id": "49ea9963",
>>>>>>> 763a65aa00deab365d39bc26b2dcb2cc1410a666
||||||| eb63ff5
   "id": "e618d15d",
=======
   "id": "27b723ed",
>>>>>>> documentation-devel
||||||| cd53b20
<<<<<<< HEAD
   "id": "e618d15d",
||||||| 3477967
   "id": "d60b67dc",
=======
   "id": "49ea9963",
>>>>>>> 763a65aa00deab365d39bc26b2dcb2cc1410a666
=======
   "id": "4340f4ab",
>>>>>>> 61c8f4bff1b7848db82b013fbfba194514b420ca
   "metadata": {},
   "outputs": [],
   "source": [
    "# Remember zero.policy = TRUE since there're singletons\n",
    "sfe_tissue <- annotGeometryUnivariate(sfe_tissue, type = \"moran\",\n",
    "                                      features = c(\"area\", \"eccentricity\"), \n",
    "                                      annotGeometryName = \"myofiber_simplified\",\n",
    "                                      annotGraphName = \"myofiber_poly2nb\", \n",
    "                                      zero.policy = TRUE)\n",
    "head(attr(annotGeometry(sfe_tissue, \"myofiber_simplified\"), \"featureData\"))"
   ]
  },
  {
   "cell_type": "markdown",
<<<<<<< HEAD
<<<<<<< HEAD
<<<<<<< HEAD
   "id": "eef03276",
||||||| 3477967
   "id": "2d4c0448",
=======
   "id": "aa982f83",
>>>>>>> 763a65aa00deab365d39bc26b2dcb2cc1410a666
||||||| eb63ff5
   "id": "eef03276",
=======
   "id": "d97c2419",
>>>>>>> documentation-devel
||||||| cd53b20
<<<<<<< HEAD
   "id": "eef03276",
||||||| 3477967
   "id": "2d4c0448",
=======
   "id": "aa982f83",
>>>>>>> 763a65aa00deab365d39bc26b2dcb2cc1410a666
=======
   "id": "72737b96",
>>>>>>> 61c8f4bff1b7848db82b013fbfba194514b420ca
   "metadata": {
    "lines_to_next_cell": 0
   },
   "source": [
    "For a non-geometry column in a `colGeometry`, `colGeometryUnivariate()` is like `annotGeometryUnivariate()` here, but none of the `colGeometries` in this dataset has extra columns.\n",
    "\n",
    "For gene expression, the `logcounts` assay is used by default (use the `exprs_values` argument to change the assay), though this may or may not be best practice. If the metrics are computed for a large number of features, parallel computing is supported, with [`BiocParallel`](https://bioconductor.org/packages/release/bioc/html/BiocParallel.html), with the `BPPARAM` argument."
   ]
  },
  {
   "cell_type": "code",
   "execution_count": null,
<<<<<<< HEAD
<<<<<<< HEAD
<<<<<<< HEAD
   "id": "2e8f04f2",
||||||| 3477967
   "id": "bcd4b71c",
=======
   "id": "052243f8",
>>>>>>> 763a65aa00deab365d39bc26b2dcb2cc1410a666
||||||| eb63ff5
   "id": "2e8f04f2",
=======
   "id": "f3fb897a",
>>>>>>> documentation-devel
||||||| cd53b20
<<<<<<< HEAD
   "id": "2e8f04f2",
||||||| 3477967
   "id": "bcd4b71c",
=======
   "id": "052243f8",
>>>>>>> 763a65aa00deab365d39bc26b2dcb2cc1410a666
=======
   "id": "7e10e8a9",
>>>>>>> 61c8f4bff1b7848db82b013fbfba194514b420ca
   "metadata": {},
   "outputs": [],
   "source": [
    "sfe_tissue <- runUnivariate(sfe_tissue, type = \"moran\", features = hvgs, \n",
    "                            colGraphName = \"visium\", \n",
    "                            BPPARAM = MulticoreParam(2))\n",
    "rowData(sfe_tissue)[head(hvgs),]"
   ]
  },
  {
   "cell_type": "markdown",
<<<<<<< HEAD
<<<<<<< HEAD
<<<<<<< HEAD
   "id": "038bcdd1",
||||||| 3477967
   "id": "c0838af5",
=======
   "id": "d6d87b20",
>>>>>>> 763a65aa00deab365d39bc26b2dcb2cc1410a666
||||||| eb63ff5
   "id": "038bcdd1",
=======
   "id": "00262c33",
>>>>>>> documentation-devel
||||||| cd53b20
<<<<<<< HEAD
   "id": "038bcdd1",
||||||| 3477967
   "id": "c0838af5",
=======
   "id": "d6d87b20",
>>>>>>> 763a65aa00deab365d39bc26b2dcb2cc1410a666
=======
   "id": "494937d7",
>>>>>>> 61c8f4bff1b7848db82b013fbfba194514b420ca
   "metadata": {
    "lines_to_next_cell": 0
   },
   "source": [
    "## Geary's C\n",
    "Another spatial autocorrelation metric is Geary's C, defined as:\n",
    "\n",
    "$$\n",
    "C = \\frac{(n-1)}{2\\sum_{i=1}^n \\sum_{j=1}^n w_{ij}} \\frac{\\sum_{i=1}^n \\sum_{j=1}^n w_{ij}(x_i - x_j)^2}{{\\sum_{i=1}^n (x_i - \\bar{x})^2}}\n",
    "$$\n",
    "\n",
    "Geary's C  below 1 indicates positive spatial autocorrelation, and above 1 indicates negative spatial autocorrelation.\n",
    "\n",
    "To compute Geary's C for features of interest replace `type = \"moran\"` in the previous section with `type = \"geary\"`, and add the results to the SFE object. For example, for `colData`"
   ]
  },
  {
   "cell_type": "code",
   "execution_count": null,
<<<<<<< HEAD
<<<<<<< HEAD
<<<<<<< HEAD
   "id": "984af53c",
||||||| 3477967
   "id": "c3c1cba7",
=======
   "id": "a849db34",
>>>>>>> 763a65aa00deab365d39bc26b2dcb2cc1410a666
||||||| eb63ff5
   "id": "984af53c",
=======
   "id": "d9140bc8",
>>>>>>> documentation-devel
||||||| cd53b20
<<<<<<< HEAD
   "id": "984af53c",
||||||| 3477967
   "id": "c3c1cba7",
=======
   "id": "a849db34",
>>>>>>> 763a65aa00deab365d39bc26b2dcb2cc1410a666
=======
   "id": "5a93f5c1",
>>>>>>> 61c8f4bff1b7848db82b013fbfba194514b420ca
   "metadata": {},
   "outputs": [],
   "source": [
    "sfe_tissue <- colDataUnivariate(sfe_tissue, features = c(\"nCounts\", \"nGenes\"),\n",
    "                                colGraphName = \"visium\", type = \"geary\")\n",
    "colFeatureData(sfe_tissue)[c(\"nCounts\", \"nGenes\"),]"
   ]
  },
  {
   "cell_type": "markdown",
<<<<<<< HEAD
<<<<<<< HEAD
<<<<<<< HEAD
   "id": "3bb459aa",
||||||| 3477967
   "id": "f981fac6",
=======
   "id": "b059c173",
>>>>>>> 763a65aa00deab365d39bc26b2dcb2cc1410a666
||||||| eb63ff5
   "id": "3bb459aa",
=======
   "id": "91c80392",
>>>>>>> documentation-devel
||||||| cd53b20
<<<<<<< HEAD
   "id": "3bb459aa",
||||||| 3477967
   "id": "f981fac6",
=======
   "id": "b059c173",
>>>>>>> 763a65aa00deab365d39bc26b2dcb2cc1410a666
=======
   "id": "ec2c374f",
>>>>>>> 61c8f4bff1b7848db82b013fbfba194514b420ca
   "metadata": {
    "lines_to_next_cell": 0
   },
   "source": [
    "There's only one column for K since it's the same for Moran's I and Geary's C. Here both Moran's I and Geary's C suggest positive spatial autocorrelation for `nCounts` and `nGenes`.\n",
    "\n",
    "Other univariate global methods, including permutation testing for Moran's I and Geary's C, correlograms, and Moran scatter plot can also be called with functions such as `runUnivariate`, by specifying the `type` argument. See documentation of `runUnivariate` to see the available methods and see documentation of the corresponding `spdep` functions to see the extra arguments required for each method.\n",
    "\n",
    "## Permutation testing\n",
    "To establish whether the spatial autocorrelation is statistically significant, the `moran.test()` function in `spdep` can be used. It provides a p-value, but the p-value may not be accurate if the data is not normally distributed. As gene expression data is generally not normally distributed and data normalization doesn't always work well, we use permutation testing to test the significance of Moran's I and Geary's C, wrapping `moran.mc()` in `spdep`. The \"mc\" stands for Monte Carlo. The `nsim` argument specifies the number of simulations. \n",
    "\n",
    "The following adds the results to the SFE object:"
   ]
  },
  {
   "cell_type": "code",
   "execution_count": null,
<<<<<<< HEAD
<<<<<<< HEAD
<<<<<<< HEAD
   "id": "00539751",
||||||| 3477967
   "id": "5e72ffea",
=======
   "id": "f9e7bf84",
>>>>>>> 763a65aa00deab365d39bc26b2dcb2cc1410a666
||||||| eb63ff5
   "id": "00539751",
=======
   "id": "7b3a95f5",
>>>>>>> documentation-devel
||||||| cd53b20
<<<<<<< HEAD
   "id": "00539751",
||||||| 3477967
   "id": "5e72ffea",
=======
   "id": "f9e7bf84",
>>>>>>> 763a65aa00deab365d39bc26b2dcb2cc1410a666
=======
   "id": "04e6ccd8",
>>>>>>> 61c8f4bff1b7848db82b013fbfba194514b420ca
   "metadata": {},
   "outputs": [],
   "source": [
    "set.seed(29)\n",
    "sfe_tissue <- colDataUnivariate(sfe_tissue, features = c(\"nCounts\", \"nGenes\"), \n",
    "                                colGraphName = \"visium\", nsim = 1000,\n",
    "                                type = \"moran.mc\")\n",
    "colFeatureData(sfe_tissue)[c(\"nCounts\", \"nGenes\"),]"
   ]
  },
  {
   "cell_type": "markdown",
<<<<<<< HEAD
<<<<<<< HEAD
<<<<<<< HEAD
   "id": "e95f2089",
||||||| 3477967
   "id": "5ba0866c",
=======
   "id": "1ed588ad",
>>>>>>> 763a65aa00deab365d39bc26b2dcb2cc1410a666
||||||| eb63ff5
   "id": "e95f2089",
=======
   "id": "636873fb",
>>>>>>> documentation-devel
||||||| cd53b20
<<<<<<< HEAD
   "id": "e95f2089",
||||||| 3477967
   "id": "5ba0866c",
=======
   "id": "1ed588ad",
>>>>>>> 763a65aa00deab365d39bc26b2dcb2cc1410a666
=======
   "id": "ccbc5a1f",
>>>>>>> 61c8f4bff1b7848db82b013fbfba194514b420ca
   "metadata": {
    "lines_to_next_cell": 0
   },
   "source": [
    "Note that while the test is performed for multiple features, the p-values here are not corrected for multiple hypothesis testing.\n",
    "\n",
    "The results can be plotted:"
   ]
  },
  {
   "cell_type": "code",
   "execution_count": null,
<<<<<<< HEAD
<<<<<<< HEAD
<<<<<<< HEAD
   "id": "e76d1711",
||||||| 3477967
   "id": "1d7db0b5",
=======
   "id": "acc095cf",
>>>>>>> 763a65aa00deab365d39bc26b2dcb2cc1410a666
||||||| eb63ff5
   "id": "e76d1711",
=======
   "id": "e4d95f87",
>>>>>>> documentation-devel
||||||| cd53b20
<<<<<<< HEAD
   "id": "e76d1711",
||||||| 3477967
   "id": "1d7db0b5",
=======
   "id": "acc095cf",
>>>>>>> 763a65aa00deab365d39bc26b2dcb2cc1410a666
=======
   "id": "590fb17b",
>>>>>>> 61c8f4bff1b7848db82b013fbfba194514b420ca
   "metadata": {
    "fig.alt": "Density plot of Moran's I values from 1000 simulations of nCounts and nGenes. The density plots center around 0 and deminish around 0.06 on the right. Vertical lines mark the actual Moran's I. For both nCounts and nGenes, the actual value, at 0.53 and 0.38 respectively, is far higher than the simulated ones, indicating positive spatial autocorrelation."
   },
   "outputs": [],
   "source": [
    "plotMoranMC(sfe_tissue, c(\"nCounts\", \"nGenes\"))"
   ]
  },
  {
   "cell_type": "markdown",
<<<<<<< HEAD
<<<<<<< HEAD
<<<<<<< HEAD
   "id": "319d8f17",
||||||| 3477967
   "id": "3aa50ec5",
=======
   "id": "9e0c896f",
>>>>>>> 763a65aa00deab365d39bc26b2dcb2cc1410a666
||||||| eb63ff5
   "id": "319d8f17",
=======
   "id": "c4816e80",
>>>>>>> documentation-devel
||||||| cd53b20
<<<<<<< HEAD
   "id": "319d8f17",
||||||| 3477967
   "id": "3aa50ec5",
=======
   "id": "9e0c896f",
>>>>>>> 763a65aa00deab365d39bc26b2dcb2cc1410a666
=======
   "id": "eaa6f5c9",
>>>>>>> 61c8f4bff1b7848db82b013fbfba194514b420ca
   "metadata": {},
   "source": [
    "By default, the colorblind friendly palette from [`dittoSeq`](https://bioconductor.org/packages/release/bioc/html/dittoSeq.html) is used for categorical variables. The density plot is of Moran's I from the simulations where the values are permuted and disconnected from spatial locations, and the vertical line is the actual Moran's I value. The simulation indicates that the actual Moran's I is much higher than that from the simulations where the values are dissociated from spatial locations and permuted among the locations, indicating that spatial autocorrelation is very significant. \n",
    "\n",
    "Use `type = \"geary.mc\"` for permutation testing for Geary's C.\n",
    "\n",
    "The `spdep` package can also compute p-values of Moran's I analytically, but the theory behind the mean and variance of the null distribution of Moran's I assumes normal distribution of the data, while gene expression data is generally non-normal. However, according to [@Griffith2010-uy], with large sample size (\"preferably at least 100\"), mean and variance of Moran's I of several iid non-normal simulated datasets (including negative binomial, which is commonly used to model gene expression data) don't seem to deviate much from the values expected from normally distributed data. Spatial transcriptomics datasets typically have thousands or more spots or cells, so sample size is most likely large enough. Hence using the analytical test on non-normal data might not be too bad. However, with large sample size, a minuscule difference can create very significant p-values. Here we perform the analytical test for Moran's I:"
   ]
  },
  {
   "cell_type": "code",
   "execution_count": null,
<<<<<<< HEAD
<<<<<<< HEAD
<<<<<<< HEAD
   "id": "55078ab4",
||||||| 3477967
   "id": "b4af8181",
=======
   "id": "81045296",
>>>>>>> 763a65aa00deab365d39bc26b2dcb2cc1410a666
||||||| eb63ff5
   "id": "55078ab4",
=======
   "id": "e2ec8a3f",
>>>>>>> documentation-devel
||||||| cd53b20
<<<<<<< HEAD
   "id": "55078ab4",
||||||| 3477967
   "id": "b4af8181",
=======
   "id": "81045296",
>>>>>>> 763a65aa00deab365d39bc26b2dcb2cc1410a666
=======
   "id": "0724008e",
>>>>>>> 61c8f4bff1b7848db82b013fbfba194514b420ca
   "metadata": {},
   "outputs": [],
   "source": [
    "sfe_tissue <- colDataUnivariate(sfe_tissue, features = c(\"nCounts\", \"nGenes\"), \n",
    "                                colGraphName = \"visium\", type = \"moran.test\")\n",
    "names(colFeatureData(sfe_tissue))"
   ]
  },
  {
   "cell_type": "markdown",
<<<<<<< HEAD
<<<<<<< HEAD
<<<<<<< HEAD
   "id": "9917860c",
||||||| 3477967
   "id": "6ca9a9ca",
=======
   "id": "fdf0e0da",
>>>>>>> 763a65aa00deab365d39bc26b2dcb2cc1410a666
||||||| eb63ff5
   "id": "9917860c",
=======
   "id": "7063dece",
>>>>>>> documentation-devel
||||||| cd53b20
<<<<<<< HEAD
   "id": "9917860c",
||||||| 3477967
   "id": "6ca9a9ca",
=======
   "id": "fdf0e0da",
>>>>>>> 763a65aa00deab365d39bc26b2dcb2cc1410a666
=======
   "id": "8e7bb15b",
>>>>>>> 61c8f4bff1b7848db82b013fbfba194514b420ca
   "metadata": {},
   "source": [
    "Now compare the p-values from permutation and analytical test; in both cases here, the default alternative hypothesis is positive spatial autocorrelation:"
   ]
  },
  {
   "cell_type": "code",
   "execution_count": null,
<<<<<<< HEAD
<<<<<<< HEAD
<<<<<<< HEAD
   "id": "10415b21",
||||||| 3477967
   "id": "b47afa33",
=======
   "id": "2611ebaf",
>>>>>>> 763a65aa00deab365d39bc26b2dcb2cc1410a666
||||||| eb63ff5
   "id": "10415b21",
=======
   "id": "be7fb43b",
>>>>>>> documentation-devel
||||||| cd53b20
<<<<<<< HEAD
   "id": "10415b21",
||||||| 3477967
   "id": "b47afa33",
=======
   "id": "2611ebaf",
>>>>>>> 763a65aa00deab365d39bc26b2dcb2cc1410a666
=======
   "id": "d8749332",
>>>>>>> 61c8f4bff1b7848db82b013fbfba194514b420ca
   "metadata": {},
   "outputs": [],
   "source": [
    "# permutation\n",
    "colFeatureData(sfe_tissue)[c(\"nCounts\", \"nGenes\"), c(\"moran.mc_p.value_Vis5A\", \"moran.test_p.value_Vis5A\")]"
   ]
  },
  {
   "cell_type": "markdown",
<<<<<<< HEAD
<<<<<<< HEAD
<<<<<<< HEAD
   "id": "40504a73",
||||||| 3477967
   "id": "4e14523b",
=======
   "id": "c27d87e2",
>>>>>>> 763a65aa00deab365d39bc26b2dcb2cc1410a666
||||||| eb63ff5
   "id": "40504a73",
=======
   "id": "418d5c89",
>>>>>>> documentation-devel
||||||| cd53b20
<<<<<<< HEAD
   "id": "40504a73",
||||||| 3477967
   "id": "4e14523b",
=======
   "id": "c27d87e2",
>>>>>>> 763a65aa00deab365d39bc26b2dcb2cc1410a666
=======
   "id": "cb014402",
>>>>>>> 61c8f4bff1b7848db82b013fbfba194514b420ca
   "metadata": {
    "lines_to_next_cell": 0
   },
   "source": [
    "The p-values from permutation are limited by the number of permutations (1000 here). Either way, both permutation and analytical tests indicate very significant positive spatial autocorrelation.\n",
    "\n",
    "A limitation of permutation testing of Moran's I is that it assumes that each permutation of the values among the locations is equally likely, which is not necessarily true. For instance, in epidemiology, disease rate in regions with small population more likely assumes more extreme values [@Assuncao1999-xu], which is analogous to rare cell types and lowly expressed genes in histological space given that we divide by total UMI counts per spot. The extent this happens may depend on tissue, gene of interest, technology, and data normalization method.\n",
    "\n",
    "## Correlogram\n",
    "In a correlogram, spatial autocorrelation of higher orders of neighbors (e.g. second order neighbors are neighbors of neighbors) is calculated to see how it decays over the orders. In Visium, with the regular hexagonal grid, order of neighbors is a proxy for distance. For more irregular patterns such as single cells, different methods to find the spatial neighbors may give different results. \n",
    "\n",
    "For `colData`, Moran's I correlogram is computed with"
   ]
  },
  {
   "cell_type": "code",
   "execution_count": null,
<<<<<<< HEAD
<<<<<<< HEAD
<<<<<<< HEAD
   "id": "22ff7188",
||||||| 3477967
   "id": "7314c5b6",
=======
   "id": "761a855d",
>>>>>>> 763a65aa00deab365d39bc26b2dcb2cc1410a666
||||||| eb63ff5
   "id": "22ff7188",
=======
   "id": "21dd78aa",
>>>>>>> documentation-devel
||||||| cd53b20
<<<<<<< HEAD
   "id": "22ff7188",
||||||| 3477967
   "id": "7314c5b6",
=======
   "id": "761a855d",
>>>>>>> 763a65aa00deab365d39bc26b2dcb2cc1410a666
=======
   "id": "1a331f30",
>>>>>>> 61c8f4bff1b7848db82b013fbfba194514b420ca
   "metadata": {},
   "outputs": [],
   "source": [
    "sfe_tissue <- runUnivariate(sfe_tissue, hvgs[1:2], colGraphName = \"visium\", \n",
    "                            order = 10, type = \"sp.correlogram\")"
   ]
  },
  {
   "cell_type": "markdown",
<<<<<<< HEAD
<<<<<<< HEAD
<<<<<<< HEAD
   "id": "dc20d7d0",
||||||| 3477967
   "id": "5fe7b6e0",
=======
   "id": "068c173c",
>>>>>>> 763a65aa00deab365d39bc26b2dcb2cc1410a666
||||||| eb63ff5
   "id": "dc20d7d0",
=======
   "id": "98c49115",
>>>>>>> documentation-devel
||||||| cd53b20
<<<<<<< HEAD
   "id": "dc20d7d0",
||||||| 3477967
   "id": "5fe7b6e0",
=======
   "id": "068c173c",
>>>>>>> 763a65aa00deab365d39bc26b2dcb2cc1410a666
=======
   "id": "517f0867",
>>>>>>> 61c8f4bff1b7848db82b013fbfba194514b420ca
   "metadata": {
    "lines_to_next_cell": 0
   },
   "source": [
    "The results can be plotted with `plotCorrelogram`:"
   ]
  },
  {
   "cell_type": "code",
   "execution_count": null,
<<<<<<< HEAD
<<<<<<< HEAD
<<<<<<< HEAD
   "id": "ced59974",
||||||| 3477967
   "id": "8fdc9927",
=======
   "id": "c5e9f479",
>>>>>>> 763a65aa00deab365d39bc26b2dcb2cc1410a666
||||||| eb63ff5
   "id": "ced59974",
=======
   "id": "b724dc0c",
>>>>>>> documentation-devel
||||||| cd53b20
<<<<<<< HEAD
   "id": "ced59974",
||||||| 3477967
   "id": "8fdc9927",
=======
   "id": "c5e9f479",
>>>>>>> 763a65aa00deab365d39bc26b2dcb2cc1410a666
=======
   "id": "5ee8d3e4",
>>>>>>> 61c8f4bff1b7848db82b013fbfba194514b420ca
   "metadata": {
    "fig.alt": "Line plot with order of neighbors (lags) in the x axis and Moran's I value at each lag in the y axis. The x axis ranges from 1 to 10, and the y axis ranges from 0 to 0.8. The lines show trends of decay of spatial autocorrelation with increasing distance of neighbors. Two genes, Car3 and Mb, are shown. Moran's I of both genes decay somewhat linearly from lag 1 to 10. Car3 decays from around 0.75 to around 0.23. Mb decays from around 0.7 to around 0.13. At each lag the error bars are tight (see next paragraph in the main text) and the p-values are less than 0.001 after Benjamini-Hochberg multiple testing correction over the 2 genes and 10 lags."
   },
   "outputs": [],
   "source": [
    "plotCorrelogram(sfe_tissue, hvgs[1:2], swap_rownames = \"symbol\")"
   ]
  },
  {
   "cell_type": "markdown",
<<<<<<< HEAD
<<<<<<< HEAD
<<<<<<< HEAD
   "id": "304aac30",
||||||| 3477967
   "id": "435ee743",
=======
   "id": "5c9a6cb4",
>>>>>>> 763a65aa00deab365d39bc26b2dcb2cc1410a666
||||||| eb63ff5
   "id": "304aac30",
=======
   "id": "6a148f27",
>>>>>>> documentation-devel
||||||| cd53b20
<<<<<<< HEAD
   "id": "304aac30",
||||||| 3477967
   "id": "435ee743",
=======
   "id": "5c9a6cb4",
>>>>>>> 763a65aa00deab365d39bc26b2dcb2cc1410a666
=======
   "id": "d549ee6d",
>>>>>>> 61c8f4bff1b7848db82b013fbfba194514b420ca
   "metadata": {
    "lines_to_next_cell": 0
   },
   "source": [
    "The error bars are twice the standard deviation of the Moran's I value. The standard deviation and p-values (null hypothesis is that Moran's I is 0) come from `moran.test()` (for Geary's C correlogram, `geary.test()`); these should be taken with a grain of salt for data that is not normally distributed. The p-values have been corrected for multiple hypothesis testing across all orders and features. As usual, . means p < 0.1, \\* means p < 0.05, \\*\\* means p < 0.01, and \\*\\*\\* means p < 0.001. \n",
    "\n",
    "Again, this can be done for Geary's C, `colData`, `annotGeometry`, and etc.\n",
    "\n",
    "# Univariate local\n",
    "Local statistics yield a result at each location rather than the whole dataset, while global statistics may obscure local heterogeneity. See [@Fotheringham2009-ak] for an interesting discussion of relationships between global and local spatial statistics. Local statistics are stored in the `localResults` field of the SFE object, which can be accessed by the `localResult()` or `localResults()` functions in the `SpatialFeatureExperiment` package.\n",
    "\n",
    "All univariate local methods in `Voyager` are listed here:"
   ]
  },
  {
   "cell_type": "code",
   "execution_count": null,
<<<<<<< HEAD
<<<<<<< HEAD
<<<<<<< HEAD
   "id": "677ec4e0",
||||||| 3477967
   "id": "efc1ac82",
=======
   "id": "f3f52784",
>>>>>>> 763a65aa00deab365d39bc26b2dcb2cc1410a666
||||||| eb63ff5
   "id": "677ec4e0",
=======
   "id": "a5cefaa8",
>>>>>>> documentation-devel
||||||| cd53b20
<<<<<<< HEAD
   "id": "677ec4e0",
||||||| 3477967
   "id": "efc1ac82",
=======
   "id": "f3f52784",
>>>>>>> 763a65aa00deab365d39bc26b2dcb2cc1410a666
=======
   "id": "6e254910",
>>>>>>> 61c8f4bff1b7848db82b013fbfba194514b420ca
   "metadata": {
    "lines_to_next_cell": 2
   },
   "outputs": [],
   "source": [
    "listSFEMethods(variate = \"uni\", scope = \"local\")"
   ]
  },
  {
   "cell_type": "markdown",
<<<<<<< HEAD
<<<<<<< HEAD
<<<<<<< HEAD
   "id": "4bd46614",
||||||| 3477967
   "id": "59ace1a1",
=======
   "id": "c2be66f2",
>>>>>>> 763a65aa00deab365d39bc26b2dcb2cc1410a666
||||||| eb63ff5
   "id": "4bd46614",
=======
   "id": "403bd51a",
>>>>>>> documentation-devel
||||||| cd53b20
<<<<<<< HEAD
   "id": "4bd46614",
||||||| 3477967
   "id": "59ace1a1",
=======
   "id": "c2be66f2",
>>>>>>> 763a65aa00deab365d39bc26b2dcb2cc1410a666
=======
   "id": "80e766c2",
>>>>>>> 61c8f4bff1b7848db82b013fbfba194514b420ca
   "metadata": {
    "lines_to_next_cell": 0
   },
   "source": [
    "## Moran scatter plot\n",
    "In the Moran scatter plot [@Anselin1996-mo], the x axis is the value at a spot, and the y axis is the average value of the neighbors. The slope of the fitted line is Moran's I. Sometimes clusters appear in this plot, showing different kinds of neighborhoods. \n",
    "\n",
    "For gene expression, to use one gene (log normalized value) to demonstrate:"
   ]
  },
  {
   "cell_type": "code",
   "execution_count": null,
<<<<<<< HEAD
<<<<<<< HEAD
<<<<<<< HEAD
   "id": "ce30ca27",
||||||| 3477967
   "id": "041e57ab",
=======
   "id": "ac04ebbc",
>>>>>>> 763a65aa00deab365d39bc26b2dcb2cc1410a666
||||||| eb63ff5
   "id": "ce30ca27",
=======
   "id": "b06c24cf",
>>>>>>> documentation-devel
||||||| cd53b20
<<<<<<< HEAD
   "id": "ce30ca27",
||||||| 3477967
   "id": "041e57ab",
=======
   "id": "ac04ebbc",
>>>>>>> 763a65aa00deab365d39bc26b2dcb2cc1410a666
=======
   "id": "6cf3a7c4",
>>>>>>> 61c8f4bff1b7848db82b013fbfba194514b420ca
   "metadata": {},
   "outputs": [],
   "source": [
    "sfe_tissue <- runUnivariate(sfe_tissue, \"Myh2\", colGraphName = \"visium\", \n",
    "                            type = \"moran.plot\", swap_rownames = \"symbol\")"
   ]
  },
  {
   "cell_type": "code",
   "execution_count": null,
<<<<<<< HEAD
<<<<<<< HEAD
<<<<<<< HEAD
   "id": "ba3bc1d3",
||||||| 3477967
   "id": "1eec0f65",
=======
   "id": "86f2f5a3",
>>>>>>> 763a65aa00deab365d39bc26b2dcb2cc1410a666
||||||| eb63ff5
   "id": "ba3bc1d3",
=======
   "id": "75cf47fa",
>>>>>>> documentation-devel
||||||| cd53b20
<<<<<<< HEAD
   "id": "ba3bc1d3",
||||||| 3477967
   "id": "1eec0f65",
=======
   "id": "86f2f5a3",
>>>>>>> 763a65aa00deab365d39bc26b2dcb2cc1410a666
=======
   "id": "a5b9a424",
>>>>>>> 61c8f4bff1b7848db82b013fbfba194514b420ca
   "metadata": {
    "fig.alt": "Moran scatter plot of log normalized values of gene Myh2. This plot is described in the upcoming main text."
   },
   "outputs": [],
   "source": [
    "moranPlot(sfe_tissue, \"Myh2\", graphName = \"visium\", swap_rownames = \"symbol\")"
   ]
  },
  {
   "cell_type": "markdown",
<<<<<<< HEAD
<<<<<<< HEAD
<<<<<<< HEAD
   "id": "27dd5591",
||||||| 3477967
   "id": "724f8405",
=======
   "id": "5b27a06d",
>>>>>>> 763a65aa00deab365d39bc26b2dcb2cc1410a666
||||||| eb63ff5
   "id": "27dd5591",
=======
   "id": "8aaed777",
>>>>>>> documentation-devel
||||||| cd53b20
<<<<<<< HEAD
   "id": "27dd5591",
||||||| 3477967
   "id": "724f8405",
=======
   "id": "5b27a06d",
>>>>>>> 763a65aa00deab365d39bc26b2dcb2cc1410a666
=======
   "id": "7e2aa2a6",
>>>>>>> 61c8f4bff1b7848db82b013fbfba194514b420ca
   "metadata": {},
   "source": [
    "The dashed lines mark the mean in Myh2 and spatially lagged Myh2. There are no singletons here. Some Visium spots with lower Myh2 expression have neighbors that don't express Myh2 but spots that don't express Myh2 usually have at least some neighbors that do. There are twp main clusters for spots whose neighbors do express Myh2: those with high (above average) expression whose neighbors also have high expression, and those with low expression whose neighbors also have low expression. Other features may show different kinds of clusters. We can use k-means clustering to identify clusters, though any clustering method supported by the `bluster` package can be used."
   ]
  },
  {
   "cell_type": "code",
   "execution_count": null,
<<<<<<< HEAD
<<<<<<< HEAD
<<<<<<< HEAD
   "id": "5440c8e8",
||||||| 3477967
   "id": "bd8415f2",
=======
   "id": "68f0d62c",
>>>>>>> 763a65aa00deab365d39bc26b2dcb2cc1410a666
||||||| eb63ff5
   "id": "5440c8e8",
=======
   "id": "4aa3f67f",
>>>>>>> documentation-devel
||||||| cd53b20
<<<<<<< HEAD
   "id": "5440c8e8",
||||||| 3477967
   "id": "bd8415f2",
=======
   "id": "68f0d62c",
>>>>>>> 763a65aa00deab365d39bc26b2dcb2cc1410a666
=======
   "id": "662e3ec3",
>>>>>>> 61c8f4bff1b7848db82b013fbfba194514b420ca
   "metadata": {},
   "outputs": [],
   "source": [
    "set.seed(29)\n",
    "clusts <- clusterMoranPlot(sfe_tissue, \"Myh2\", BLUSPARAM = KmeansParam(2),\n",
    "                           swap_rownames = \"symbol\")"
   ]
  },
  {
   "cell_type": "markdown",
<<<<<<< HEAD
<<<<<<< HEAD
<<<<<<< HEAD
   "id": "07836a2a",
||||||| 3477967
   "id": "26f75b29",
=======
   "id": "3ce6421a",
>>>>>>> 763a65aa00deab365d39bc26b2dcb2cc1410a666
||||||| eb63ff5
   "id": "07836a2a",
=======
   "id": "e0ce85eb",
>>>>>>> documentation-devel
||||||| cd53b20
<<<<<<< HEAD
   "id": "07836a2a",
||||||| 3477967
   "id": "26f75b29",
=======
   "id": "3ce6421a",
>>>>>>> 763a65aa00deab365d39bc26b2dcb2cc1410a666
=======
   "id": "6fd79a24",
>>>>>>> 61c8f4bff1b7848db82b013fbfba194514b420ca
   "metadata": {
    "lines_to_next_cell": 0
   },
   "source": [
    "We can use the [gget search](https://pachterlab.github.io/gget/search.html) module to get the Ensembl ID for Myh2:"
   ]
  },
  {
   "cell_type": "code",
   "execution_count": null,
<<<<<<< HEAD
<<<<<<< HEAD
<<<<<<< HEAD
   "id": "847f1b4c",
||||||| 3477967
   "id": "9e7ca7a6",
=======
   "id": "d3179d2e",
>>>>>>> 763a65aa00deab365d39bc26b2dcb2cc1410a666
||||||| eb63ff5
   "id": "847f1b4c",
=======
   "id": "1fad3c5f",
>>>>>>> documentation-devel
||||||| cd53b20
<<<<<<< HEAD
   "id": "847f1b4c",
||||||| 3477967
   "id": "9e7ca7a6",
=======
   "id": "d3179d2e",
>>>>>>> 763a65aa00deab365d39bc26b2dcb2cc1410a666
=======
   "id": "c464f0ec",
>>>>>>> 61c8f4bff1b7848db82b013fbfba194514b420ca
   "metadata": {},
   "outputs": [],
   "source": [
    "gget$search(\"Myh2\", species=\"mouse\")"
   ]
  },
  {
   "cell_type": "code",
   "execution_count": null,
<<<<<<< HEAD
<<<<<<< HEAD
<<<<<<< HEAD
   "id": "94770115",
||||||| 3477967
   "id": "8b7ce680",
=======
   "id": "dbbb357c",
>>>>>>> 763a65aa00deab365d39bc26b2dcb2cc1410a666
||||||| eb63ff5
   "id": "94770115",
=======
   "id": "f412960c",
>>>>>>> documentation-devel
||||||| cd53b20
<<<<<<< HEAD
   "id": "94770115",
||||||| 3477967
   "id": "8b7ce680",
=======
   "id": "dbbb357c",
>>>>>>> 763a65aa00deab365d39bc26b2dcb2cc1410a666
=======
   "id": "fd06cb36",
>>>>>>> 61c8f4bff1b7848db82b013fbfba194514b420ca
   "metadata": {
    "fig.alt": "Moran scatter plot of log normalized value of Myh1, colored by 2 k-means clusters, which correspond to the high-high and low-low spots."
   },
   "outputs": [],
   "source": [
    "moranPlot(sfe_tissue, \"Myh2\", graphName = \"visium\", \n",
    "          color_by = clusts$ENSMUSG00000033196, swap_rownames = \"symbol\")"
   ]
  },
  {
   "cell_type": "markdown",
<<<<<<< HEAD
<<<<<<< HEAD
<<<<<<< HEAD
   "id": "98933a2c",
||||||| 3477967
   "id": "0ebc0369",
=======
   "id": "326f7376",
>>>>>>> 763a65aa00deab365d39bc26b2dcb2cc1410a666
||||||| eb63ff5
   "id": "98933a2c",
=======
   "id": "224ae856",
>>>>>>> documentation-devel
||||||| cd53b20
<<<<<<< HEAD
   "id": "98933a2c",
||||||| 3477967
   "id": "0ebc0369",
=======
   "id": "326f7376",
>>>>>>> 763a65aa00deab365d39bc26b2dcb2cc1410a666
=======
   "id": "8b3b2c3f",
>>>>>>> 61c8f4bff1b7848db82b013fbfba194514b420ca
   "metadata": {
    "lines_to_next_cell": 0
   },
   "source": [
    "Plot the clusters in space"
   ]
  },
  {
   "cell_type": "code",
   "execution_count": null,
<<<<<<< HEAD
<<<<<<< HEAD
<<<<<<< HEAD
   "id": "836d03ae",
||||||| 3477967
   "id": "b52db1ba",
=======
   "id": "b97e3ec8",
>>>>>>> 763a65aa00deab365d39bc26b2dcb2cc1410a666
||||||| eb63ff5
   "id": "836d03ae",
=======
   "id": "9e1f963e",
>>>>>>> documentation-devel
||||||| cd53b20
<<<<<<< HEAD
   "id": "836d03ae",
||||||| 3477967
   "id": "b52db1ba",
=======
   "id": "b97e3ec8",
>>>>>>> 763a65aa00deab365d39bc26b2dcb2cc1410a666
=======
   "id": "f208ab18",
>>>>>>> 61c8f4bff1b7848db82b013fbfba194514b420ca
   "metadata": {
    "fig.alt": "Visium spots in space colored by the k-means clusters. Cluster 2 (high-high) are mostly in the upper left and lower left parts of the tissue, and the rest of the spots are cluster 1."
   },
   "outputs": [],
   "source": [
    "colData(sfe_tissue)$Myh2_moranPlot_clust <- clusts$ENSMUSG00000033196\n",
    "plotSpatialFeature(sfe_tissue, \"Myh2_moranPlot_clust\", colGeometryName = \"spotPoly\",\n",
    "                   image = \"lowres\", color = \"black\", linewidth = 0.1)"
   ]
  },
  {
   "cell_type": "markdown",
<<<<<<< HEAD
<<<<<<< HEAD
<<<<<<< HEAD
   "id": "74967ed7",
||||||| 3477967
   "id": "36ea75ce",
=======
   "id": "1e6c856b",
>>>>>>> 763a65aa00deab365d39bc26b2dcb2cc1410a666
||||||| eb63ff5
   "id": "74967ed7",
=======
   "id": "b9836f8b",
>>>>>>> documentation-devel
||||||| cd53b20
<<<<<<< HEAD
   "id": "74967ed7",
||||||| 3477967
   "id": "36ea75ce",
=======
   "id": "1e6c856b",
>>>>>>> 763a65aa00deab365d39bc26b2dcb2cc1410a666
=======
   "id": "bc0ab20e",
>>>>>>> 61c8f4bff1b7848db82b013fbfba194514b420ca
   "metadata": {},
   "source": [
    "This can also be done for `colData`, `annotGeometry`, and etc. as in Moran's I and permutation testing. \n",
    "\n",
    "## Local Moran's I\n",
    "To recap, global Moran's I is defined as\n",
    "\n",
    "$$\n",
    "I = \\frac{n}{\\sum_{i=1}^n \\sum_{j=1}^n w_{ij}} \\frac{\\sum_{i=1}^n \\sum_{j=1}^n w_{ij} (x_i - \\bar{x})(x_j - \\bar{x})}{\\sum_{i=1}^n (x_i - \\bar{x})^2}.\n",
    "$$\n",
    "\n",
    "Local Moran's I [@Anselin1995-cs] is defined as\n",
    "\n",
    "$$\n",
    "I_i = (n-1)\\frac{(x_i - \\bar{x})\\sum_{j=1}^n w_{ij} (x_j - \\bar{x})}{\\sum_{i=1}^n (x_i - \\bar{x})^2}.\n",
    "$$\n",
    "\n",
    "It's similar to global Moran's I, but the values at locations $i$ are not summed and there's no normalization by the sum of spatial weights. "
   ]
  },
  {
   "cell_type": "code",
   "execution_count": null,
<<<<<<< HEAD
<<<<<<< HEAD
<<<<<<< HEAD
   "id": "16796015",
||||||| 3477967
   "id": "c7fe9bc3",
=======
   "id": "5ef0e5c5",
>>>>>>> 763a65aa00deab365d39bc26b2dcb2cc1410a666
||||||| eb63ff5
   "id": "16796015",
=======
   "id": "ecd89ad6",
>>>>>>> documentation-devel
||||||| cd53b20
<<<<<<< HEAD
   "id": "16796015",
||||||| 3477967
   "id": "c7fe9bc3",
=======
   "id": "5ef0e5c5",
>>>>>>> 763a65aa00deab365d39bc26b2dcb2cc1410a666
=======
   "id": "a9e8585f",
>>>>>>> 61c8f4bff1b7848db82b013fbfba194514b420ca
   "metadata": {},
   "outputs": [],
   "source": [
    "sfe_tissue <- runUnivariate(sfe_tissue, type = \"localmoran\", features = \"Myh2\",\n",
    "                            colGraphName = \"visium\", swap_rownames = \"symbol\")"
   ]
  },
  {
   "cell_type": "markdown",
<<<<<<< HEAD
<<<<<<< HEAD
<<<<<<< HEAD
   "id": "87ae7ff0",
||||||| 3477967
   "id": "a85b317c",
=======
   "id": "7acbfca4",
>>>>>>> 763a65aa00deab365d39bc26b2dcb2cc1410a666
||||||| eb63ff5
   "id": "87ae7ff0",
=======
   "id": "7d41d00d",
>>>>>>> documentation-devel
||||||| cd53b20
<<<<<<< HEAD
   "id": "87ae7ff0",
||||||| 3477967
   "id": "a85b317c",
=======
   "id": "7acbfca4",
>>>>>>> 763a65aa00deab365d39bc26b2dcb2cc1410a666
=======
   "id": "696177f7",
>>>>>>> 61c8f4bff1b7848db82b013fbfba194514b420ca
   "metadata": {
    "lines_to_next_cell": 0
   },
   "source": [
    "It is useful to plot the log normalized Myh2 gene expression as context to interpret the local results:"
   ]
  },
  {
   "cell_type": "code",
   "execution_count": null,
<<<<<<< HEAD
<<<<<<< HEAD
<<<<<<< HEAD
   "id": "3492c3b7",
||||||| 3477967
   "id": "b99ede8a",
=======
   "id": "314e412c",
>>>>>>> 763a65aa00deab365d39bc26b2dcb2cc1410a666
||||||| eb63ff5
   "id": "3492c3b7",
=======
   "id": "22cd8594",
>>>>>>> documentation-devel
||||||| cd53b20
<<<<<<< HEAD
   "id": "3492c3b7",
||||||| 3477967
   "id": "b99ede8a",
=======
   "id": "314e412c",
>>>>>>> 763a65aa00deab365d39bc26b2dcb2cc1410a666
=======
   "id": "e521554f",
>>>>>>> 61c8f4bff1b7848db82b013fbfba194514b420ca
   "metadata": {},
   "outputs": [],
   "source": [
    "plotSpatialFeature(sfe_tissue, features = \"Myh2\", colGeometryName = \"spotPoly\",\n",
    "                   swap_rownames = \"symbol\", image_id = \"lowres\", color = \"black\",\n",
    "                   linewidth = 0.1)"
   ]
  },
  {
   "cell_type": "code",
   "execution_count": null,
<<<<<<< HEAD
<<<<<<< HEAD
<<<<<<< HEAD
   "id": "11dd0444",
||||||| 3477967
   "id": "73733db3",
=======
   "id": "409f21de",
>>>>>>> 763a65aa00deab365d39bc26b2dcb2cc1410a666
||||||| eb63ff5
   "id": "11dd0444",
=======
   "id": "d4ca3a5e",
>>>>>>> documentation-devel
||||||| cd53b20
<<<<<<< HEAD
   "id": "11dd0444",
||||||| 3477967
   "id": "73733db3",
=======
   "id": "409f21de",
>>>>>>> 763a65aa00deab365d39bc26b2dcb2cc1410a666
=======
   "id": "374949a6",
>>>>>>> 61c8f4bff1b7848db82b013fbfba194514b420ca
   "metadata": {},
   "outputs": [],
   "source": [
    "plotLocalResult(sfe_tissue, \"localmoran\", features = \"Myh2\", \n",
    "                colGeometryName = \"spotPoly\",divergent = TRUE,\n",
    "                diverge_center = 0, image_id = \"lowres\", \n",
    "                swap_rownames = \"symbol\", color = \"black\",\n",
    "                linewidth = 0.1)"
   ]
  },
  {
   "cell_type": "markdown",
<<<<<<< HEAD
<<<<<<< HEAD
<<<<<<< HEAD
   "id": "74fcea72",
||||||| 3477967
   "id": "32599924",
=======
   "id": "62c52c7d",
>>>>>>> 763a65aa00deab365d39bc26b2dcb2cc1410a666
||||||| eb63ff5
   "id": "74fcea72",
=======
   "id": "0272d839",
>>>>>>> documentation-devel
||||||| cd53b20
<<<<<<< HEAD
   "id": "74fcea72",
||||||| 3477967
   "id": "32599924",
=======
   "id": "62c52c7d",
>>>>>>> 763a65aa00deab365d39bc26b2dcb2cc1410a666
=======
   "id": "e83c9fa4",
>>>>>>> 61c8f4bff1b7848db82b013fbfba194514b420ca
   "metadata": {},
   "source": [
    "We see that regions with higher Myh2 expression also have stronger spatial autocorrelation. It is interesting to see how spatial autocorrelation relates to gene expression level, much as finding how variance relates to mean in the expression of each gene, which usually indicates overdispersion compared to Poisson in scRNA-seq and Visium data:"
   ]
  },
  {
   "cell_type": "code",
   "execution_count": null,
<<<<<<< HEAD
<<<<<<< HEAD
<<<<<<< HEAD
   "id": "fb28bf0e",
||||||| 3477967
   "id": "2b53fe7b",
=======
   "id": "22d3a502",
>>>>>>> 763a65aa00deab365d39bc26b2dcb2cc1410a666
||||||| eb63ff5
   "id": "fb28bf0e",
=======
   "id": "12e8c0ad",
>>>>>>> documentation-devel
||||||| cd53b20
<<<<<<< HEAD
   "id": "fb28bf0e",
||||||| 3477967
   "id": "2b53fe7b",
=======
   "id": "22d3a502",
>>>>>>> 763a65aa00deab365d39bc26b2dcb2cc1410a666
=======
   "id": "660a665b",
>>>>>>> 61c8f4bff1b7848db82b013fbfba194514b420ca
   "metadata": {},
   "outputs": [],
   "source": [
    "df <- data.frame(myh2 = logcounts(sfe_tissue)[rowData(sfe_tissue)$symbol == \"Myh2\",],\n",
    "                 Ii = localResult(sfe_tissue, \"localmoran\", \"Myh2\", \n",
    "                                  swap_rownames = \"symbol\")[,\"Ii\"])\n",
    "ggplot(df, aes(myh2, Ii)) + geom_point(alpha = 0.3) +\n",
    "    labs(x = \"Myh2 (log counts)\", y = \"localmoran\")"
   ]
  },
  {
   "cell_type": "markdown",
<<<<<<< HEAD
<<<<<<< HEAD
<<<<<<< HEAD
   "id": "ae07f09f",
||||||| 3477967
   "id": "2278c2f0",
=======
   "id": "e518e7c4",
>>>>>>> 763a65aa00deab365d39bc26b2dcb2cc1410a666
||||||| eb63ff5
   "id": "ae07f09f",
=======
   "id": "d9adcc6c",
>>>>>>> documentation-devel
||||||| cd53b20
<<<<<<< HEAD
   "id": "ae07f09f",
||||||| 3477967
   "id": "2278c2f0",
=======
   "id": "e518e7c4",
>>>>>>> 763a65aa00deab365d39bc26b2dcb2cc1410a666
=======
   "id": "ebd36caa",
>>>>>>> 61c8f4bff1b7848db82b013fbfba194514b420ca
   "metadata": {
    "lines_to_next_cell": 0
   },
   "source": [
    "For this gene, Visium spots with higher expression also tend to have higher local Moran's I, but this may or may not apply to other genes.\n",
    "\n",
    "Local spatial analyses often return a matrix or data frame. The `plotLocalResult()` function has a default column for each local spatial method, but other columns can be plotted as well. Use the `localResultAttrs()` function to see which columns are present, and use the `attribute` argument to specify which column to plot."
   ]
  },
  {
   "cell_type": "code",
   "execution_count": null,
<<<<<<< HEAD
<<<<<<< HEAD
<<<<<<< HEAD
   "id": "2840c681",
||||||| 3477967
   "id": "0ea74156",
=======
   "id": "c0c24718",
>>>>>>> 763a65aa00deab365d39bc26b2dcb2cc1410a666
||||||| eb63ff5
   "id": "2840c681",
=======
   "id": "464b30ba",
>>>>>>> documentation-devel
||||||| cd53b20
<<<<<<< HEAD
   "id": "2840c681",
||||||| 3477967
   "id": "0ea74156",
=======
   "id": "c0c24718",
>>>>>>> 763a65aa00deab365d39bc26b2dcb2cc1410a666
=======
   "id": "36688ce9",
>>>>>>> 61c8f4bff1b7848db82b013fbfba194514b420ca
   "metadata": {},
   "outputs": [],
   "source": [
    "localResultAttrs(sfe_tissue, \"localmoran\", \"Myh2\", swap_rownames = \"symbol\")"
   ]
  },
  {
   "cell_type": "markdown",
<<<<<<< HEAD
<<<<<<< HEAD
<<<<<<< HEAD
   "id": "e3b84426",
||||||| 3477967
   "id": "fec53e39",
=======
   "id": "5a0429e3",
>>>>>>> 763a65aa00deab365d39bc26b2dcb2cc1410a666
||||||| eb63ff5
   "id": "e3b84426",
=======
   "id": "a11bc5bd",
>>>>>>> documentation-devel
||||||| cd53b20
<<<<<<< HEAD
   "id": "e3b84426",
||||||| 3477967
   "id": "fec53e39",
=======
   "id": "5a0429e3",
>>>>>>> 763a65aa00deab365d39bc26b2dcb2cc1410a666
=======
   "id": "31719fcc",
>>>>>>> 61c8f4bff1b7848db82b013fbfba194514b420ca
   "metadata": {},
   "source": [
    "Some local spatial methods return p-values at each location, in a column with name like `Pr(z != E(Ii))`, where the test is two sided (default, can be changed with the `alternative` argument in `runUnivariate()` which is passed to the relevant underlying function in `spdep`). Negative log of the p-value is computed to facilitate visualization, and the p-value is corrected for multiple hypothesis testing with `p.adjustSP()` in `spdep`, where the number of tests is the number of neighbors of each location rather than the total number of locations (`-log10p_adj`)."
   ]
  },
  {
   "cell_type": "code",
   "execution_count": null,
<<<<<<< HEAD
<<<<<<< HEAD
<<<<<<< HEAD
   "id": "d15e372e",
||||||| 3477967
   "id": "3fda43d1",
=======
   "id": "6fee346b",
>>>>>>> 763a65aa00deab365d39bc26b2dcb2cc1410a666
||||||| eb63ff5
   "id": "d15e372e",
=======
   "id": "6ff6d7d9",
>>>>>>> documentation-devel
||||||| cd53b20
<<<<<<< HEAD
   "id": "d15e372e",
||||||| 3477967
   "id": "3fda43d1",
=======
   "id": "6fee346b",
>>>>>>> 763a65aa00deab365d39bc26b2dcb2cc1410a666
=======
   "id": "984e55db",
>>>>>>> 61c8f4bff1b7848db82b013fbfba194514b420ca
   "metadata": {},
   "outputs": [],
   "source": [
    "plotLocalResult(sfe_tissue, \"localmoran\", features = \"Myh2\", \n",
    "                colGeometryName = \"spotPoly\", attribute = \"-log10p_adj\", divergent = TRUE,\n",
    "                diverge_center = -log10(0.05), swap_rownames = \"symbol\",\n",
    "                image_id = \"lowres\", color = \"black\",\n",
    "                linewidth = 0.1)"
   ]
  },
  {
   "cell_type": "markdown",
<<<<<<< HEAD
<<<<<<< HEAD
<<<<<<< HEAD
   "id": "93ac7b56",
||||||| 3477967
   "id": "5d56a5a3",
=======
   "id": "495dcd80",
>>>>>>> 763a65aa00deab365d39bc26b2dcb2cc1410a666
||||||| eb63ff5
   "id": "93ac7b56",
=======
   "id": "0f7fbf8f",
>>>>>>> documentation-devel
||||||| cd53b20
<<<<<<< HEAD
   "id": "93ac7b56",
||||||| 3477967
   "id": "5d56a5a3",
=======
   "id": "495dcd80",
>>>>>>> 763a65aa00deab365d39bc26b2dcb2cc1410a666
=======
   "id": "fda520ad",
>>>>>>> 61c8f4bff1b7848db82b013fbfba194514b420ca
   "metadata": {
    "lines_to_next_cell": 0
   },
   "source": [
    "In this plot and all following plots of p-values, a divergent palette is used to show locations that are significant after adjusting for multiple testing and those that are not significant in different colors. The center of the divergent palette is p = 0.05, so the bluish spots are significant while a dark brown means _really_ not significant.\n",
    "\n",
    "The \"pysal\" column displays the quadrants relative to the means in the Moran plot. The result is similar to that from k-means clustering shown above."
   ]
  },
  {
   "cell_type": "code",
   "execution_count": null,
<<<<<<< HEAD
<<<<<<< HEAD
<<<<<<< HEAD
   "id": "25d2ed3d",
||||||| 3477967
   "id": "fa303b28",
=======
   "id": "0bad2d24",
>>>>>>> 763a65aa00deab365d39bc26b2dcb2cc1410a666
||||||| eb63ff5
   "id": "25d2ed3d",
=======
   "id": "2aff3fea",
>>>>>>> documentation-devel
||||||| cd53b20
<<<<<<< HEAD
   "id": "25d2ed3d",
||||||| 3477967
   "id": "fa303b28",
=======
   "id": "0bad2d24",
>>>>>>> 763a65aa00deab365d39bc26b2dcb2cc1410a666
=======
   "id": "406b46a9",
>>>>>>> 61c8f4bff1b7848db82b013fbfba194514b420ca
   "metadata": {},
   "outputs": [],
   "source": [
    "plotLocalResult(sfe_tissue, \"localmoran\", features = \"Myh2\", \n",
    "                colGeometryName = \"spotPoly\", attribute = \"pysal\", \n",
    "                swap_rownames = \"symbol\", image_id = \"lowres\", color = \"black\",\n",
    "                linewidth = 0.1)"
   ]
  },
  {
   "cell_type": "markdown",
<<<<<<< HEAD
<<<<<<< HEAD
<<<<<<< HEAD
   "id": "de077f54",
||||||| eb63ff5
   "id": "de077f54",
=======
   "id": "d55ab72f",
>>>>>>> documentation-devel
   "metadata": {
    "lines_to_next_cell": 0
   },
   "source": [
    "## Getis-Ord Gi\\*\n",
    "Getis-Ord Gi\\* is used to find hotspots and coldspots of a feature in space. A hotspot is a cluster of high values in space, and a coldspot is a cluster of low values in space. Getis-Ord Gi\\* is essentially the z-score of the spatially lagged value of the feature at each location $i$ ($\\sum_j w_{ij}x_j $), where $w_{ij}$ is the spatial weight. In the [original publication for Getis-Ord Gi\\* from 1992](https://onlinelibrary.wiley.com/doi/10.1111/j.1538-4632.1992.tb00261.x) [@Getis1992-fr], the spatial weight is a distance-based binary weight indicating whether another location is within a certain distance from each location $i$. Getis-Ord Gi excludes the location $i$ itself in the computation of mean and variance of the lagged value, while Gi\\* includes the location $i$ itself. Usually Gi and Gi\\* yield similar results. The mean and variance used in the z-score differ in Gi and Gi\\* and is described in [this paper from 1995](https://onlinelibrary.wiley.com/doi/10.1111/j.1538-4632.1995.tb00912.x) [@Ord1995-we] and derived in [@Getis1992-fr].\n",
    "\n",
    "Binary weights are recommended for Getis-Ord Gi\\*."
   ]
  },
  {
   "cell_type": "code",
   "execution_count": null,
   "id": "8c40bb15",
   "metadata": {},
   "outputs": [],
   "source": [
    "colGraph(sfe_tissue, \"visium_B\") <- findVisiumGraph(sfe_tissue, style = \"B\")"
   ]
  },
  {
   "cell_type": "code",
   "execution_count": null,
   "id": "5ffa0e5a",
   "metadata": {},
   "outputs": [],
   "source": [
    "sfe_tissue <- runUnivariate(sfe_tissue, type = \"localG_perm\", features = \"Myh2\",\n",
    "                            colGraphName = \"visium_B\", include_self = TRUE,\n",
    "                            swap_rownames = \"symbol\")"
   ]
  },
  {
   "cell_type": "code",
   "execution_count": null,
   "id": "c8ec7327",
   "metadata": {},
   "outputs": [],
   "source": [
    "plotLocalResult(sfe_tissue, \"localG_perm\", features = \"Myh2\", \n",
    "                colGeometryName = \"spotPoly\", divergent = TRUE,\n",
    "                diverge_center = 0, image_id = \"lowres\", swap_rownames = \"symbol\", \n",
    "                color = \"black\", linewidth = 0.1)"
   ]
  },
  {
   "cell_type": "markdown",
   "id": "358f942b",
   "metadata": {},
   "source": [
    "High values of Gi\\* indicate hotspots, while low values of Gi\\* indicate coldspots."
   ]
  },
  {
   "cell_type": "code",
   "execution_count": null,
   "id": "f21866eb",
   "metadata": {},
   "outputs": [],
   "source": [
    "localResultAttrs(sfe_tissue, \"localG_perm\", \"Myh2\", swap_rownames = \"symbol\")"
   ]
  },
  {
   "cell_type": "markdown",
   "id": "ab661f76",
   "metadata": {
    "lines_to_next_cell": 0
   },
   "source": [
    "Plot the pseudo-p-values from the simulation"
   ]
  },
  {
   "cell_type": "code",
   "execution_count": null,
   "id": "65623bf2",
   "metadata": {},
   "outputs": [],
   "source": [
    "plotLocalResult(sfe_tissue, \"localG_perm\", features = \"Myh2\", \n",
    "                attribute = \"-log10p_adj Sim\",\n",
    "                colGeometryName = \"spotPoly\", divergent = TRUE,\n",
    "                diverge_center = -log10(0.05), swap_rownames = \"symbol\",\n",
    "                image_id = \"lowres\")"
   ]
  },
  {
   "cell_type": "markdown",
   "id": "e7043018",
   "metadata": {
    "lines_to_next_cell": 0
   },
   "source": [
    "The hotspots are as expected. Here warm color indicates adjusted $p < 0.05$. \n",
    "\n",
    "Local results can also be computed for annotation geometries."
   ]
  },
  {
   "cell_type": "code",
   "execution_count": null,
   "id": "be8deade",
   "metadata": {},
   "outputs": [],
   "source": [
    "annotGraph(sfe_tissue, \"myofiber_poly2nb_B\") <- \n",
    "  findSpatialNeighbors(sfe_tissue, type = \"myofiber_simplified\", MARGIN = 3,\n",
    "                       method = \"poly2nb\", zero.policy = TRUE, style = \"B\")"
   ]
  },
  {
   "cell_type": "code",
   "execution_count": null,
   "id": "c57e87d1",
   "metadata": {},
   "outputs": [],
   "source": [
    "sfe_tissue <- annotGeometryUnivariate(sfe_tissue, \"localG_perm\", \"area\", \n",
    "                                      annotGeometryName = \"myofiber_simplified\",\n",
    "                                      annotGraphName = \"myofiber_poly2nb_B\",\n",
    "                                      include_self = TRUE, zero.policy = TRUE)"
   ]
  },
  {
   "cell_type": "code",
   "execution_count": null,
   "id": "61574fad",
   "metadata": {},
   "outputs": [],
   "source": [
    "plotLocalResult(sfe_tissue, \"localG_perm\", \"area\", \n",
    "                annotGeometryName = \"myofiber_simplified\",\n",
    "                divergent = TRUE, diverge_center = 0)"
   ]
  },
  {
   "cell_type": "code",
   "execution_count": null,
   "id": "dd9c28f7",
   "metadata": {},
   "outputs": [],
   "source": [
    "plotLocalResult(sfe_tissue, \"localG_perm\", \"area\", \n",
    "                annotGeometryName = \"myofiber_simplified\",\n",
    "                attribute = \"-log10p_adj Sim\",\n",
    "                divergent = TRUE, diverge_center = -log10(0.05))"
   ]
  },
  {
   "cell_type": "markdown",
   "id": "d3cf038d",
   "metadata": {
    "lines_to_next_cell": 0
   },
   "source": [
    "The hotspots and coldspots are as expected. Warm color indicates adjusted $p < 0.05$.\n",
    "\n",
    "## Local spatial heteroscedasticity (LOSH)\n",
    "LOSH [@Ord2012-qi] is defined as\n",
    "\n",
    "$$\n",
    "H_i = \\frac{\\sum_j w_{ij}\\left| e_j \\right|^a}{h_1\\sum_j w_{ij}}\n",
    "$$\n",
    "\n",
    "where$h_1 = \\sum_i \\left| e_i \\right|^a/n$, $e_j = x_j - \\bar{x}_j$, and\n",
    "\n",
    "$$\n",
    "\\bar{x}_j = \\frac{\\sum_j w_{jk}x_k}{\\sum_j w_{jk}}.\n",
    "$$\n",
    "\n",
    "By default, $a = 2$ so LOSH is like a local variance. See [@Ord2012-qi] for more details and interpretation. "
   ]
  },
  {
   "cell_type": "code",
   "execution_count": null,
   "id": "a470d379",
   "metadata": {},
   "outputs": [],
   "source": [
    "sfe_tissue <- runUnivariate(sfe_tissue, \"LOSH.cs\", \"Myh2\", \n",
    "                            colGraphName = \"visium\", swap_rownames = \"symbol\")"
   ]
  },
  {
   "cell_type": "code",
   "execution_count": null,
   "id": "51dfaeeb",
   "metadata": {},
   "outputs": [],
   "source": [
    "plotLocalResult(sfe_tissue, \"LOSH.cs\", features = \"Myh2\", \n",
    "                colGeometryName = \"spotPoly\", swap_rownames = \"symbol\",\n",
    "                image_id = \"lowres\")"
   ]
  },
  {
   "cell_type": "markdown",
   "id": "68c55699",
   "metadata": {},
   "source": [
    "For this gene, it isn't clear whether LOSH relates to gene expression levels."
   ]
  },
  {
   "cell_type": "code",
   "execution_count": null,
   "id": "47c9e687",
   "metadata": {},
   "outputs": [],
   "source": [
    "localResultAttrs(sfe_tissue, \"LOSH.cs\", \"Myh2\", swap_rownames = \"symbol\")"
   ]
  },
  {
   "cell_type": "markdown",
   "id": "da823315",
   "metadata": {},
   "source": [
    "While `Voyager` does wrap `LOSH.mc()` to perform permutation testing of LOSH, this is very time consuming. A chi-squared approximation is described in the 2012 LOSH paper to account for non-normality of the data and to approximate the mean and variance of the permutation distributions, so p-values of LOSH can be more quickly computed, with `LOSH.cs()`."
   ]
  },
  {
   "cell_type": "code",
   "execution_count": null,
   "id": "eda81ecf",
   "metadata": {},
   "outputs": [],
   "source": [
    "plotLocalResult(sfe_tissue, \"LOSH.cs\", features = \"Myh2\", \n",
    "                attribute = \"-log10p_adj\", colGeometryName = \"spotPoly\",\n",
    "                divergent = TRUE, diverge_center = -log10(0.05),\n",
    "                swap_rownames = \"symbol\", image_id = \"lowres\") +\n",
    "    theme_void()"
   ]
  },
  {
   "cell_type": "markdown",
   "id": "be4bdde4",
   "metadata": {
    "lines_to_next_cell": 0
   },
   "source": [
    "For this gene, the local conditions are mostly homogenous, except for a few spots most at the injury site. Warm color indicates adjusted $p < 0.05$.\n",
    "\n",
    "# Caveats\n",
    "1. In the current version of `Voyager`, only univariate spatial autocorrelation metrics are supported. Anisotropy, bivariate, and multivariate spatial analyses will be added in later versions.\n",
    "2. The H&E image can alter perception of the colors of the geometries.\n",
    "3. Only 2D data is supported at present, although in principle, `sf` and `GEOS` support 3D data.\n",
    "4. Spatial neighborhoods only make sense within the same tissue section. Then what to do with multiple tissue sections, from biological replica, and from different conditions? For the mouse brain, different biological replica can be registered to the Allen Common Coordinate Framework (CCF) to be spatially comparable. Indeed, it would be interesting to see the biological variability of healthy wild type gene expression at the same fine scaled region in the brain. However, there is no CCF for tissues without a stereotypical structure, such as adipose and skeletal muscle. We don't have a good solution to spatially compare different tissue sections yet. Perhaps global spatial statistics over the whole section or histological regions within the section can be compared. The problem remains to select the most informative metrics to compare. Perhaps a spatially-informed dimension reduction method, taking not only the gene count matrix, but also the adjacency matrices of the spatial neighborhood graphs (different sections will be different blocks in the matrix) projecting the cells or Visium spots from different sections into a shared low dimensional space can facilitate the comparison. Here batch effect must be corrected, and the dimension reduction should be interpretable, and scalable.\n",
    "\n",
    "# Session info"
   ]
  },
  {
   "cell_type": "code",
   "execution_count": null,
   "id": "e8e5d877",
   "metadata": {},
   "outputs": [],
   "source": [
    "sessionInfo()"
   ]
  },
  {
   "cell_type": "markdown",
   "id": "46483304",
   "metadata": {},
   "source": [
    "# References"
   ]
  }
 ],
 "metadata": {
  "kernelspec": {
   "display_name": "R",
   "language": "R",
   "name": "ir"
  }
 },
 "nbformat": 4,
 "nbformat_minor": 5
}
||||||| 6b0d1f4
=======
{
 "cells": [
  {
   "cell_type": "raw",
   "id": "2f6c6e4a",
   "metadata": {},
   "source": [
    "---\n",
    "title: \"Spatial Visium exploratory data analysis\"\n",
    "author: \"Lambda Moses\"\n",
    "date: \"`r Sys.Date()`\"\n",
    "output: \n",
    "  html_document:\n",
    "  toc: true\n",
    "  toc_float:\n",
    "    collapsed: false\n",
    "  toc_depth: 3\n",
    "bibliography: ref.bib\n",
    "vignette: >\n",
    "  %\\VignetteIndexEntry{Spatial Visium exploratory data analysis}\n",
    "  %\\VignetteEngine{knitr::rmarkdown}\n",
    "  %\\VignetteEncoding{UTF-8}\n",
    "---"
   ]
  },
  {
   "cell_type": "code",
   "execution_count": null,
   "id": "99bf45d0",
   "metadata": {
    "tags": [
     "remove_cell"
    ]
   },
   "outputs": [],
   "source": [
    "knitr::opts_chunk$set(\n",
    "  collapse = TRUE,\n",
    "  comment = \"#>\", fig.align = \"center\"\n",
    ")"
   ]
  },
  {
   "cell_type": "code",
   "execution_count": null,
   "id": "d60758de",
   "metadata": {
    "eval": false,
    "tags": [
     "remove_cell"
    ]
   },
   "outputs": [],
   "source": [
    "# Install Google Colab dependencies\n",
    "# Note: this can take 30+ minutes (many of the dependencies include C++ code, which needs to be compiled)\n",
    "\n",
    "# First install `sf`, `ragg` and `textshaping` and their system dependencies:\n",
    "system(\"apt-get -y update && apt-get install -y  libudunits2-dev libgdal-dev libgeos-dev libproj-dev libharfbuzz-dev libfribidi-dev\")\n",
    "install.packages(\"sf\")\n",
    "install.packages(\"textshaping\")\n",
    "install.packages(\"ragg\")\n",
    "\n",
    "# Install system dependencies of some other R packages that Voyager either imports or suggests:\n",
    "system(\"apt-get install -y libfribidi-dev libcairo2-dev libmagick++-dev\")\n",
    "\n",
    "# Install Voyager from Bioconductor:\n",
    "install.packages(\"BiocManager\")\n",
    "BiocManager::install(version = \"3.17\", ask = FALSE, update = FALSE, Ncpus = 2)\n",
    "BiocManager::install(\"scater\")\n",
    "system.time(\n",
    "  BiocManager::install(\"Voyager\", dependencies = TRUE, Ncpus = 2, update = FALSE)\n",
    ")\n",
    "\n",
    "# Additional dependencies for this notebook\n",
    "install.packages(\"reticulate\")\n",
    "\n",
    "packageVersion(\"Voyager\")"
   ]
  },
  {
   "cell_type": "markdown",
   "id": "d6552276",
   "metadata": {},
   "source": [
    "# Introduction \n",
    "\n",
    "This vignette provides an introduction to exploratory spatial data analysis methods via the `Voyager` package in the context of a Visium dataset."
   ]
  },
  {
   "cell_type": "code",
   "execution_count": null,
   "id": "2b1a1d17",
   "metadata": {
    "message": false,
    "name": "setup"
   },
   "outputs": [],
   "source": [
    "library(Voyager)\n",
    "library(SpatialFeatureExperiment)\n",
    "library(scater)\n",
    "library(scran)\n",
    "library(SFEData)\n",
    "library(sf)\n",
    "library(ggplot2)\n",
    "library(scales)\n",
    "library(patchwork)\n",
    "library(BiocParallel)\n",
    "library(bluster)\n",
    "library(dplyr)\n",
    "library(reticulate)\n",
    "theme_set(theme_bw(10))"
   ]
  },
  {
   "cell_type": "code",
   "execution_count": null,
   "id": "4a4bf2d7",
   "metadata": {
    "lines_to_next_cell": 2
   },
   "outputs": [],
   "source": [
    "# Specify Python version to use gget\n",
    "PY_PATH <- system(\"which python\", intern = TRUE)\n",
    "use_python(PY_PATH)\n",
    "py_config()\n",
    "\n",
    "# Install and load gget\n",
    "system(\"pip3 install gget\")\n",
    "gget <- import(\"gget\")"
   ]
  },
  {
   "cell_type": "markdown",
   "id": "0a5d38b2",
   "metadata": {},
   "source": [
    "# Dataset\n",
    "The dataset used in this vignette is from the paper [Large-scale integration of single-cell transcriptomic data captures transitional progenitor states in mouse skeletal muscle regeneration](https://doi.org/10.1038/s42003-021-02810-x) [@McKellar2021-ek]. Notexin was injected into the tibialis anterior muscle of mice to induce injury, and the healing muscle was collected 2, 5, and 7 days post injury for Visium analysis. The dataset in this vignette is from the timepoint at day 2. The vignette starts with a `SpatialFeatureExperiment` (SFE) object.\n",
    "\n",
    "The gene count matrix was directly downloaded [from GEO](https://www.ncbi.nlm.nih.gov/geo/query/acc.cgi?acc=GSM4904759). All 4992 spots, whether in tissue or not, are included. The H&E image was used for nuclei and myofiber segmentation. A subset of nuclei from randomly selected regions from all 3 timepoints were manually annotated to train a StarDist model to segment the rest of the nuclei, and the myofibers were all manually segmented. The tissue boundary was found by thresholding in OpenCV, and small polygons were removed as they are likely to be debris. Spot polygons were constructed with the spot centroid coordinates and diameter in the Space Ranger output. The `in_tissue` column in `colData` indicates which spot polygons intersect the tissue polygons, and is based on `st_intersects()`.\n",
    "\n",
    "Tissue boundary, nuclei, myofiber, and Visium spot polygons are stored as `sf` data frames in the SFE object. See [the vignette of `SpatialFeatureExperiment`](https://bioconductor.org/packages/devel/bioc/vignettes/SpatialFeatureExperiment/inst/doc/SFE.html) for more details on the structure of the SFE object. The SFE object of this dataset is provided in the `SFEData` package; we begin by downloading the data and loading it into R."
   ]
  },
  {
   "cell_type": "code",
   "execution_count": null,
   "id": "9701b8b3",
   "metadata": {},
   "outputs": [],
   "source": [
    "(sfe <- McKellarMuscleData(\"full\"))"
   ]
  },
  {
   "cell_type": "markdown",
   "id": "bd464929",
   "metadata": {
    "lines_to_next_cell": 0
   },
   "source": [
    "The H&E image of this section:\n",
    "![A cross section of mouse muscle is slightly off center to the lower left. In the middle of the tissue is the notexin injury site with leukocyte infiltration and fewer myofibers. The rest of the tissue section is tightly packed with myofibers.](https://raw.githubusercontent.com/pachterlab/voyager/documentation/vignettes/tissue_lowres_5a.jpeg)\n",
    "\n",
    "The image can be added to the SFE object and plotted behind the geometries, and needs to be flipped to align to the spots because the origin is at the top left for the image but bottom left for geometries."
   ]
  },
  {
   "cell_type": "code",
   "execution_count": null,
   "id": "b3d60232",
   "metadata": {},
   "outputs": [],
   "source": [
    "sfe <- addImg(sfe, file = \"tissue_lowres_5a.jpeg\", sample_id = \"Vis5A\", \n",
    "              image_id = \"lowres\", \n",
    "              scale_fct = 1024/22208)\n",
    "sfe <- mirrorImg(sfe, sample_id = \"Vis5A\", image_id = \"lowres\")"
   ]
  },
  {
   "cell_type": "markdown",
   "id": "dce0a074",
   "metadata": {},
   "source": [
    "# Exploratory data analysis\n",
    "## Spots in tissue\n",
    "While the example dataset has all Visium spots whether on tissue or not, only spots that intersect tissue are used for further analyses. "
   ]
  },
  {
   "cell_type": "code",
   "execution_count": null,
   "id": "cc5004ea",
   "metadata": {},
   "outputs": [],
   "source": [
    "names(colData(sfe))"
   ]
  },
  {
   "cell_type": "markdown",
   "id": "62d777af",
   "metadata": {
    "lines_to_next_cell": 0
   },
   "source": [
    "Total UMI counts (`nCounts`), number of genes detected per spot (`nGenes`), and the proportion of mitochondrially encoded counts (`prop_mito`) have been precomputed and are in `colData(sfe)`. The `plotSpatialFeature` function can be used to visualize various attributes in space: the expression of any gene, `colData` values, and geometry attributes in `colGeometry` and `annotGeometry`. The Visium spots are plotted as polygons reflecting their actual size relative to the tissue, rather than as points, as is the case in other packages that plot Visium data. The plotting of geometries is being performed under the hood with `geom_sf`.\n",
    "\n",
    "The tissue boundary was found by thresholding the H&E image and removing small polygons that are most likely debris. The `in_tissue` column of `colData(sfe)` indicates which Visium spot polygon intersects the tissue polygon; this can be found with `SpatialFeatureExperiment::annotPred()`.\n",
    "\n",
    "We demonstrate the use of `scran` [@Lun2016-yq] for normalization below, although we note that it is not necessarily the best approach to normalizing spatial transcriptomics data. The problem of when and how to normalize spatial transcriptomics data is non-trivial because, as the `nCounts` plot in space shows above, spatial autocorrelation is evident. Furthemrore, in Visium, reverse transcription occurs in situ on the spots, but PCR amplification occurs after the cDNA is dissociated from the spots. Artifacts may be subsequently introduced from the amplification step, and these would not be associated with spatial origin. Spatial artifacts may arise from the diffusion of transcripts and tissue permeablization. However, given how the total counts seem to correspond to histological regions, the total counts may have a biological component and hence should not be treated as a technical artifact to be normalized away as in scRNA-seq data normalization methods. In other words, the issue of normalization for spatial transcriptomics data, and Visium in particular, is complex and is currently unsolved. "
   ]
  },
  {
   "cell_type": "code",
   "execution_count": null,
   "id": "9aebdc43",
   "metadata": {},
   "outputs": [],
   "source": [
    "sfe_tissue <- sfe[,colData(sfe)$in_tissue]\n",
    "sfe_tissue <- sfe_tissue[rowSums(counts(sfe_tissue)) > 0,]"
   ]
  },
  {
   "cell_type": "code",
   "execution_count": null,
   "id": "17c72968",
   "metadata": {},
   "outputs": [],
   "source": [
    "#clusters <- quickCluster(sfe_tissue)\n",
    "#sfe_tissue <- computeSumFactors(sfe_tissue, clusters=clusters)\n",
    "#sfe_tissue <- sfe_tissue[, sizeFactors(sfe_tissue) > 0]\n",
    "sfe_tissue <- logNormCounts(sfe_tissue)"
   ]
  },
  {
   "cell_type": "markdown",
   "id": "507bcf43",
   "metadata": {},
   "source": [
    "Myofiber and nuclei segmentation polygons are available in this dataset in the `annotGeometries` field. Myofibers were manually segmented, and nuclei were segmented with [`StarDist`](https://github.com/stardist/stardist) trained with a manually segmented subset. "
   ]
  },
  {
   "cell_type": "code",
   "execution_count": null,
   "id": "b01ca919",
   "metadata": {},
   "outputs": [],
   "source": [
    "annotGeometryNames(sfe_tissue)"
   ]
  },
  {
   "cell_type": "markdown",
   "id": "65f7fd55",
   "metadata": {
    "lines_to_next_cell": 0
   },
   "source": [
    "### From myofibers and nuclei to Visium spots\n",
    "The `plotSpatialFeature()` function can also be used to plot attributes of geometries, i.e. the non-geometry columns in the `sf` data frames in the `rowGeometries`, `colGeometries`, or `annotGeometries` fields of the SFE object. For `rowGeometries` and `colGeometries`, such columns which are associated with the `sf` data frames rather than `rowData` or `colData`, are allowed because one can specify how these columns associate with the geometries (see [`st_agr`](https://r-spatial.github.io/sf/reference/st_agr.html) and [documentation of `st_sf`](https://r-spatial.github.io/sf/reference/sf.html#details-1)). When an attribute of an `annotGeometry` is plotted along side gene expression or `colData` or `colGeometry` attribute, the `annotGeometry` attribute is plotted with a different color palette to distinguish it from the column associated values. \n",
    "\n",
    "The myofiber polygons from `annotGeometries` can be plotted as shown below, colored by cross section area as observed in the tissue section. The `aes_use` argument is set to `color` rather than `fill` (default for polygons) to only plot the Visium spot outlines to make the myofiber polygons more visible. The `fill` argument is set to `NA` to make the Visium spots look hollow, and the `size` argument controls the thickness of the outlines. The `annot_aes` argument specifies which column in the `annotGeometry` to use to specify the values of an aesthstic, just like `aes` in `ggplot2` (`aes_string` to be precise, since `tidyeval` is not used here). The `annot_fixed` argument (not used here) can set the fixed size, alpha, color, and etc. for the `annotGeometry`. "
   ]
  },
  {
   "cell_type": "code",
   "execution_count": null,
   "id": "4507932c",
   "metadata": {
    "fig.alt": "Plot of Visium spots in tissue and myofiber polygons in physical space. Visium spots are colored by nCounts, and myofibers are colored by area."
   },
   "outputs": [],
   "source": [
    "plotSpatialFeature(sfe_tissue, features = \"nCounts\", \n",
    "                   colGeometryName = \"spotPoly\",\n",
    "                   annotGeometryName = \"myofiber_simplified\", \n",
    "                   aes_use = \"color\", linewidth = 0.5, fill = NA,\n",
    "                   annot_aes = list(fill = \"area\"))"
   ]
  },
  {
   "cell_type": "markdown",
   "id": "60d252a3",
   "metadata": {
    "lines_to_next_cell": 0
   },
   "source": [
    "The larger myofibers seem to have fewer total counts, possibly because the larger size of these myofibers dilutes the transcripts. This hints at the need for a normalization procedure.\n",
    "\n",
    "With `SpatialFeatureExperiment`, we can find the number of myofibers and nuclei that intersect each Visium spot. The predicate can be [anything implemented in `sf`](https://r-spatial.github.io/sf/reference/geos_binary_pred.html), so for example, the number of nuclei fully covered by each Visium spot can also be found. The default predicate is `st_intersects()`."
   ]
  },
  {
   "cell_type": "code",
   "execution_count": null,
   "id": "6c9bd822",
   "metadata": {},
   "outputs": [],
   "source": [
    "colData(sfe_tissue)$n_myofibers <- \n",
    "  annotNPred(sfe_tissue, colGeometryName = \"spotPoly\",\n",
    "             annotGeometryName = \"myofiber_simplified\")"
   ]
  },
  {
   "cell_type": "code",
   "execution_count": null,
   "id": "5649eaca",
   "metadata": {
    "fig.alt": "Plot of Visium spots in tissue in physical space, colored by number of myofibers intersecting each spot.",
    "fig.height": 4,
    "fig.width": 8
   },
   "outputs": [],
   "source": [
    "plotSpatialFeature(sfe_tissue, features = \"n_myofibers\", \n",
    "                   colGeometryName = \"spotPoly\", image = \"lowres\", color = \"black\",\n",
    "                   linewidth = 0.1)"
   ]
  },
  {
   "cell_type": "markdown",
   "id": "a5954163",
   "metadata": {
    "lines_to_next_cell": 0
   },
   "source": [
    "There is no one-to-one mapping between Visium spots and myofibers. However, we can relate attributes of myofibers to gene expression detected at the Visium spots. One way to do so is to summarize the attributes of all myofibers that intersect (or choose another better predicate implemented in `sf`) each spot, such as to calculate the mean, median, or sum. This can be done with the `annotSummary()` function in `SpatialFeatureExperiment`. The default predicate is `st_intersects()`, and the default summary function is `mean()`."
   ]
  },
  {
   "cell_type": "code",
   "execution_count": null,
   "id": "ef294616",
   "metadata": {},
   "outputs": [],
   "source": [
    "colData(sfe_tissue)$mean_myofiber_area <- \n",
    "  annotSummary(sfe_tissue, \"spotPoly\", \"myofiber_simplified\", \n",
    "               annotColNames = \"area\")[,1] # it always returns a data frame"
   ]
  },
  {
   "cell_type": "code",
   "execution_count": null,
   "id": "4b274e60",
   "metadata": {
    "fig.alt": "Plot of Visium spots in tissue in physical space, colored by the average area of myofibers that intersect each spot. The average area is higher near the mid-top right part of the tissue."
   },
   "outputs": [],
   "source": [
    "# The gray spots don't intersect any myofiber\n",
    "plotSpatialFeature(sfe_tissue, \"mean_myofiber_area\", \"spotPoly\", image = \"lowres\", \n",
    "                   color = \"black\", linewidth = 0.1)"
   ]
  },
  {
   "cell_type": "markdown",
   "id": "a7ddfdc1",
   "metadata": {
    "lines_to_next_cell": 0
   },
   "source": [
    "This reveals the relationship between the mean area of myofibers intersecting each Visium spot and other aspects of the spots, such as total counts and gene expression.\n",
    "\n",
    "The NAs designate spots not intersecting any myofibers, e.g. those in the inflammatory region. \n",
    "\n",
    "In the [Basic Visium vignette](https://pachterlab.github.io/Voyager/articles/vig2_visium_basic.html), we encountered two mysterious branches and two clusters in the nGenes vs. nCounts plot and the proportion of mitochondrial counts vs. nCounts plot. Now we see that the two clusters seem to be related to myofiber size."
   ]
  },
  {
   "cell_type": "code",
   "execution_count": null,
   "id": "cdb5fc7e",
   "metadata": {},
   "outputs": [],
   "source": [
    "plotColData(sfe_tissue, x = \"nCounts\", y = \"nGenes\", colour_by = \"mean_myofiber_area\")"
   ]
  },
  {
   "cell_type": "code",
   "execution_count": null,
   "id": "81637bcd",
   "metadata": {},
   "outputs": [],
   "source": [
    "plotColData(sfe_tissue, x = \"nCounts\", y = \"prop_mito\", colour_by = \"mean_myofiber_area\")"
   ]
  },
  {
   "cell_type": "markdown",
   "id": "598e100c",
   "metadata": {
    "lines_to_next_cell": 0
   },
   "source": [
    "### Myofiber types\n",
    "Marker genes: Myh7 (Type I, slow twitch, aerobic), Myh2 (Type IIa, fast twitch, somewhat aerobic), Myh4 (Type IIb, fast twitch, anareobic), Myh1 (Type IIx, fast twitch, anaerobic), from [this protocol](https://www.ncbi.nlm.nih.gov/pmc/articles/PMC5526362/) [@Wang2017-li]"
   ]
  },
  {
   "cell_type": "code",
   "execution_count": null,
   "id": "2bdd4ef8",
   "metadata": {},
   "outputs": [],
   "source": [
    "markers <- c(I = \"Myh7\", IIa = \"Myh2\", IIb = \"Myh4\", IIx = \"Myh1\")"
   ]
  },
  {
   "cell_type": "markdown",
   "id": "45e4de95",
   "metadata": {
    "lines_to_next_cell": 0
   },
   "source": [
    "We can use the [gget search](https://pachterlab.github.io/gget/search.html) and [gget info](https://pachterlab.github.io/gget/info.html) modules from the [gget](https://pachterlab.github.io/gget/) package to get the Ensembl IDs and additional information (for example their [NCBI](https://www.ncbi.nlm.nih.gov/) description) for these marker genes:"
   ]
  },
  {
   "cell_type": "code",
   "execution_count": null,
   "id": "729e1118",
   "metadata": {},
   "outputs": [],
   "source": [
    "gget_search <- gget$search(list(\"Myh7\", \"Myh2\", \"Myh4\", \"Myh1\"), species=\"mouse\")\n",
    "gget_search <- gget_search[gget_search$gene_name %in% list(\"Myh7\", \"Myh2\", \"Myh4\", \"Myh1\"), ]\n",
    "gget_search"
   ]
  },
  {
   "cell_type": "code",
   "execution_count": null,
   "id": "fd5e7ae3",
   "metadata": {},
   "outputs": [],
   "source": [
    "gget_info <- gget$info(gget_search$ensembl_id)\n",
    "\n",
    "rownames(gget_info) <- gget_info$primary_gene_name\n",
    "select(gget_info, ncbi_description)"
   ]
  },
  {
   "cell_type": "markdown",
   "id": "254d824f",
   "metadata": {
    "lines_to_next_cell": 0
   },
   "source": [
    "We first examine the Type I myofibers. This is a fast twitch muscle, so we don't expect many slow twitch Type I myofibers. Row names in `sfe_tissue` are Ensembl IDs in order to avoid ambiguity as sometimes multiple Ensembl IDs have the same gene symbol and some genes have aliases. However, gene symbols are shorter and more human readable than Ensembl IDs, and are better suited to display on plots.  In the `plotSpatialFeature()` function and other functions in `Voyager`, even when the row names are recorded as Ensembl IDs, the `features` argument can take gene symbols if there is a column called \"symbols\" in `rowData(sfe)`, where the function converts the gene symbols to Ensembl IDs. By default, gene symbols are shown on the plot, but the `show_symbol` argument can be set to `FALSE` to show Ensembl IDs instead. If one gene symbol matches multiple Ensembl IDs in the dataset, then a warning will be given.\n",
    "\n",
    "The `exprs_values` argument specifies the assay to use, which is by default \"logcounts\", i.e. the log normalized data. This default may or may not be suitable in practice given that total UMI counts may have biological relevance in spatial data. Therefore, we plot both the raw counts and the log normalized counts:"
   ]
  },
  {
   "cell_type": "code",
   "execution_count": null,
   "id": "ed775b8f",
   "metadata": {},
   "outputs": [],
   "source": [
    "# Function specific for this vignette, with some hard coded values\n",
    "plot_counts_logcounts <- function(sfe, feature) {\n",
    "  p1 <- plotSpatialFeature(sfe, feature, \"spotPoly\",\n",
    "                   annotGeometryName = \"myofiber_simplified\", \n",
    "                   annot_aes = list(fill = \"area\"), show_symbol = TRUE, \n",
    "                   exprs_values = \"counts\", aes_use = \"color\", linewidth = 0.5,\n",
    "                   fill = NA) +\n",
    "    ggtitle(\"Raw counts\")\n",
    "  p2 <- plotSpatialFeature(sfe, feature, \"spotPoly\",\n",
    "                   annotGeometryName = \"myofiber_simplified\", \n",
    "                   annot_aes = list(fill = \"area\"), show_symbol = TRUE, \n",
    "                   exprs_values = \"logcounts\", aes_use = \"color\", linewidth = 0.5,\n",
    "                   fill = NA) +\n",
    "    ggtitle(\"Log normalized counts\")\n",
    "  p1 + p2 +\n",
    "    plot_annotation(title = feature)\n",
    "}"
   ]
  },
  {
   "cell_type": "code",
   "execution_count": null,
   "id": "f6fb2143",
   "metadata": {
    "fig.alt": "Raw and log normalized counts of Myh7, marker gene of type I myofiber, plotted side by side on Visium spots in space, with myofiber polygons colored by myofiber cross section area plotted in the background. Visium spots expressing Myh7 concentrate in the lower left part of the tissue where the myofibers tend to be smaller."
   },
   "outputs": [],
   "source": [
    "plot_counts_logcounts(sfe_tissue, markers[\"I\"])"
   ]
  },
  {
   "cell_type": "markdown",
   "id": "461eafaf",
   "metadata": {
    "lines_to_next_cell": 0
   },
   "source": [
    "A marker gene for type IIa myofibers is shown above. It is straightforward to modify the plotting to display markers for type IIb and type IIx myofibers:"
   ]
  },
  {
   "cell_type": "code",
   "execution_count": null,
   "id": "da10f4c9",
   "metadata": {
    "fig.alt": "Raw and log normalized counts of Myh2, a marker gene of type IIa myofiber, plotted side by side on Visium spots in space, with myofiber polygons colored by myofiber cross section area plotted in the background. Visium spots expressing Myh2 concentrate in the lower left and upper left parts of the tissue where the myofibers tend to be smaller. Log normalized counts show a wider region with higher expression."
   },
   "outputs": [],
   "source": [
    "plot_counts_logcounts(sfe_tissue, markers[\"IIa\"])"
   ]
  },
  {
   "cell_type": "markdown",
   "id": "292c7af1",
   "metadata": {
    "lines_to_next_cell": 0
   },
   "source": [
    "Type IIa myofibers also tend to be clustered together on left side of the tissue.\n",
    "\n",
    "As SFE inherits from SCE, the non-spatial EDA plots from the `scater` package can also be used:"
   ]
  },
  {
   "cell_type": "code",
   "execution_count": null,
   "id": "0597e834",
   "metadata": {
    "fig.alt": "Scatter plot of mean area of myofibers intersecting each Visium spot in the x axis and proportion of mitochondrially encoded counts per spot in the y axis, with points colored by expression of Myh2."
   },
   "outputs": [],
   "source": [
    "plotColData(sfe_tissue, x = \"mean_myofiber_area\", y = \"prop_mito\", \n",
    "            colour_by = markers[\"IIa\"], by_exprs_values = \"logcounts\", \n",
    "            swap_rownames = \"symbol\")"
   ]
  },
  {
   "cell_type": "markdown",
   "id": "1ef295d7",
   "metadata": {},
   "source": [
    "Plotting proportion of mitochondrial counts vs. mean myofiber area, we see two clusters, one with higher proportion of mitochondrial counts and smaller area, and another with lower proportion of mitochondrial counts and on average slightly larger area. Type IIa myofibers tend to have smaller area and a larger proportion of mitochondrial counts.\n",
    "\n",
    "# Spatial neighborhood graphs\n",
    "A spatial neighborhood graph is required to compute spatial dependency metrics such as Moran's I and Geary's C. The `SpatialFeatureExperiment` package wraps methods in `spdep` to find spatial neighborhood graphs, which are stored within the SFE object (see `spdep` documentation for `gabrielneigh()`, `knearneigh()`, `poly2nb()`, and `tri2nb()`). The `Voyager` package then uses these graphs for spatial dependency analyses, again based on `spdep` in this first version, but methods from other geospatial packages, some of which also use the spatial neighborhood graphs, may be added later.\n",
    "\n",
    "For Visium, where the spots are in a hexagonal grid, the spatial neighborhood graph is straightforward. However, for spatial technologies with single cell resolution, e.g. MERFISH, different methods can be used to find the spatial neighborhood graph. In this example, the method \"poly2nb\" was used for myofibers, and it identifies myofiber polygons that physically touch each other. `zero.policy = TRUE` will allow for singletons, i.e. nodes without neighbors in the graph; in the inflamed region, there are more singletons. We have not yet benchmarked spatial neighborhood construction methods to determine which is the \"best\" for different technologies; the particular method used here is for demonstration purposes and may not be the best in practice: "
   ]
  },
  {
   "cell_type": "code",
   "execution_count": null,
   "id": "9ac26c35",
   "metadata": {},
   "outputs": [],
   "source": [
    "colGraph(sfe_tissue, \"visium\") <- findVisiumGraph(sfe_tissue)\n",
    "annotGraph(sfe_tissue, \"myofiber_poly2nb\") <- \n",
    "  findSpatialNeighbors(sfe_tissue, type = \"myofiber_simplified\", MARGIN = 3,\n",
    "                       method = \"poly2nb\", zero.policy = TRUE)"
   ]
  },
  {
   "cell_type": "markdown",
   "id": "3cb328df",
   "metadata": {
    "lines_to_next_cell": 0
   },
   "source": [
    "The `plotColGraph()` function plots the graph in space associated with a `colGeometry`, along with the geometry of interest."
   ]
  },
  {
   "cell_type": "code",
   "execution_count": null,
   "id": "6ac90357",
   "metadata": {
    "fig.alt": "Spatial neighborhood graph of Visium spots that intersect tissue."
   },
   "outputs": [],
   "source": [
    "plotColGraph(sfe_tissue, colGraphName = \"visium\", colGeometryName = \"spotPoly\") +\n",
    "    theme_void()"
   ]
  },
  {
   "cell_type": "markdown",
   "id": "17d68832",
   "metadata": {
    "lines_to_next_cell": 0
   },
   "source": [
    "Similarly, the `plotAnnotGraph()` function plots the graph associated with an `annotGeometry`, along with the geometry of interest. "
   ]
  },
  {
   "cell_type": "code",
   "execution_count": null,
   "id": "e9c4110f",
   "metadata": {
    "fig.alt": "Spatial neighborhood graph of myofibers, where each edge connects two myofibers that touch."
   },
   "outputs": [],
   "source": [
    "plotAnnotGraph(sfe_tissue, annotGraphName = \"myofiber_poly2nb\", \n",
    "               annotGeometryName = \"myofiber_simplified\") + theme_void()"
   ]
  },
  {
   "cell_type": "markdown",
   "id": "167b4ae3",
   "metadata": {
    "lines_to_next_cell": 0
   },
   "source": [
    "There is no `plotRowGraph` yet since we haven't worked with a dataset where spatial graphs related to genes are relevant, although the SFE object supports row graphs.\n",
    "\n",
    "# Exploratory _spatial_ data analysis\n",
    "All spatial autocorrelation metrics in this package can be computed directly on a vector or a matrix rather than an SFE object. The user interface emulates those of dimension reductions in the `scater` package (e.g. `calculateUMAP()` that takes in a matrix or SCE object and returns a matrix, and `runUMAP()` that takes in an SCE object and adds the results to the `reducedDims` field of the SCE object). So `calculate*` functions take in a matrix or an SFE object and directly return the results (format of the results depends on the structure of the results), while `run*` functions take in an SFE object and add the results to the object. In addition, `colData*` functions compute the metrics for numeric variables in `colData`. `colGeometry*` functions compute the metrics for numeric columns in a `colGeometry`. `annotGeometry*` functions compute the metrics for numeric columns in a `annotGeometry`. \n",
    "\n",
    "# Univariate global\n",
    "`Voyager` supports many univariate global spatial autocorrelation implemented in `spdep` for ESDA: Moran's I and Geary's C, permutation testing for Moran's I and Geary's C, Moran plot, and correlograms. In addition, beyond `spdep`, `Voyager` can cluster Moran plots and correlograms. Plotting functions taking in SFE objects are implemented to plot the results with `ggplot2` and with more customization options than `spdep` plotting functions. The functions `calculateUnivariate()`, `runUnivariate()`, `colDataUnivariate()`, `colGeometryUnivariate()`, and `annotGeometryUnivariate()` compute univariate spatial statistics. The argument `type`, which indicates the corresponding function names in `spdep`, determines which spatial statistics are computed. \n",
    "\n",
    "All univariate global methods in `Voyager` are listed here:"
   ]
  },
  {
   "cell_type": "code",
   "execution_count": null,
   "id": "8af930a1",
   "metadata": {},
   "outputs": [],
   "source": [
    "listSFEMethods(variate = \"uni\", scope = \"global\")"
   ]
  },
  {
   "cell_type": "markdown",
   "id": "4468f443",
   "metadata": {
    "lines_to_next_cell": 0
   },
   "source": [
    "When calling `calculate*variate()` or `run*variate()`, the `type` (2nd) argument takes either an `SFEMethod` object (see `SFEMethod()` and [vignette on `SFEMethod`](https://pachterlab.github.io/voyager/articles/sfemethod.html)) or a string that matches an entry in the `name` column in the data frame returned by `listSFEMethods()`.\n",
    "\n",
    "To demonstrate spatial autocorrelation in gene expression, top highly variable genes (HVGs) are used. The HVGs are found with the `scran` method."
   ]
  },
  {
   "cell_type": "code",
   "execution_count": null,
   "id": "4c2713b6",
   "metadata": {},
   "outputs": [],
   "source": [
    "dec <- modelGeneVar(sfe_tissue)\n",
    "hvgs <- getTopHVGs(dec, n = 50)"
   ]
  },
  {
   "cell_type": "markdown",
   "id": "c0027e14",
   "metadata": {
    "lines_to_next_cell": 0
   },
   "source": [
    "A global statistic yields one result for the entire dataset.\n",
    "\n",
    "## Moran's I\n",
    "There are several ways to quantify spatial autocorrelation, the most common of which is Moran's I:\n",
    "\n",
    "$$\n",
    "I = \\frac{n}{\\sum_{i=1}^n \\sum_{j=1}^n w_{ij}} \\frac{\\sum_{i=1}^n \\sum_{j=1}^n w_{ij} (x_i - \\bar{x})(x_j - \\bar{x})}{\\sum_{i=1}^n (x_i - \\bar{x})^2},\n",
    "$$\n",
    "\n",
    "where $n$ is the number of spots or locations, $i$ and $j$ are different locations, or spots in the Visium context, $x$ is a variable with values at each location, and $w_{ij}$ is a spatial weight, which can be inversely proportional to distance between spots or an indicator of whether two spots are neighbors, subject to various definitions of neighborhood and whether to normalize the number of neighbors. The [`spdep`](https://r-spatial.github.io/spdep/index.html) package uses the neighborhood. \n",
    "\n",
    "Moran's I can be understood as the Pearson correlation between the value at each location and the average value at its neighbors. Just like Pearson correlation, Moran's I is generally bound between -1 and 1, where positive value indicates positive spatial autocorrelation and negative value indicates negative spatial autocorrelation. \n",
    "\n",
    "Upon visual inspection, total UMI counts per spot seem to have spatial autocorrelation. A spatial neighborhood graph is required to compute Moran's I, and is specified with the `listw` argument. \n",
    "\n",
    "For matrices, the rows are the features, as in the gene count matrix."
   ]
  },
  {
   "cell_type": "code",
   "execution_count": null,
   "id": "684f854e",
   "metadata": {},
   "outputs": [],
   "source": [
    "# Directly use vector or matrix, and multiple features can be specified at once\n",
    "calculateUnivariate(t(colData(sfe_tissue)[,c(\"nCounts\", \"nGenes\")]), \n",
    "                    type = \"moran\",\n",
    "                    listw = colGraph(sfe_tissue, \"visium\"))"
   ]
  },
  {
   "cell_type": "markdown",
   "id": "041dc5e0",
   "metadata": {
    "lines_to_next_cell": 0
   },
   "source": [
    "\"moran\" is Moran's I, and K is sample kurtosis.\n",
    "\n",
    "To add the results to the SFE object, specifically for colData:"
   ]
  },
  {
   "cell_type": "code",
   "execution_count": null,
   "id": "9df6da36",
   "metadata": {},
   "outputs": [],
   "source": [
    "sfe_tissue <- colDataUnivariate(sfe_tissue, features = c(\"nCounts\", \"nGenes\"),\n",
    "                                colGraphName = \"visium\", type = \"moran\")\n",
    "colFeatureData(sfe_tissue)[c(\"nCounts\", \"nGenes\"),]"
   ]
  },
  {
   "cell_type": "markdown",
   "id": "b3cdc243",
   "metadata": {
    "lines_to_next_cell": 0
   },
   "source": [
    "For `colData`, the results are added to `colFeatureData(sfe)`, and features for which Moran's I is not calculated have NA. The column names of `featureData` distinguishes between different samples (there's only one sample in this dataset), and are parsed by plotting functions. \n",
    "\n",
    "To add the results to the SFE object, specifically for geometries: Here \"area\" is the area of the cross section of each myofiber as seen in this tissue section and \"eccentricity\" is the eccentricity of the ellipse fitted to each myofiber."
   ]
  },
  {
   "cell_type": "code",
   "execution_count": null,
   "id": "6ffdae9d",
   "metadata": {},
   "outputs": [],
   "source": [
    "# Remember zero.policy = TRUE since there're singletons\n",
    "sfe_tissue <- annotGeometryUnivariate(sfe_tissue, type = \"moran\",\n",
    "                                      features = c(\"area\", \"eccentricity\"), \n",
    "                                      annotGeometryName = \"myofiber_simplified\",\n",
    "                                      annotGraphName = \"myofiber_poly2nb\", \n",
    "                                      zero.policy = TRUE)\n",
    "head(attr(annotGeometry(sfe_tissue, \"myofiber_simplified\"), \"featureData\"))"
   ]
  },
  {
   "cell_type": "markdown",
   "id": "e9c8c747",
   "metadata": {
    "lines_to_next_cell": 0
   },
   "source": [
    "For a non-geometry column in a `colGeometry`, `colGeometryUnivariate()` is like `annotGeometryUnivariate()` here, but none of the `colGeometries` in this dataset has extra columns.\n",
    "\n",
    "For gene expression, the `logcounts` assay is used by default (use the `exprs_values` argument to change the assay), though this may or may not be best practice. If the metrics are computed for a large number of features, parallel computing is supported, with [`BiocParallel`](https://bioconductor.org/packages/release/bioc/html/BiocParallel.html), with the `BPPARAM` argument."
   ]
  },
  {
   "cell_type": "code",
   "execution_count": null,
   "id": "f7167349",
   "metadata": {},
   "outputs": [],
   "source": [
    "sfe_tissue <- runUnivariate(sfe_tissue, type = \"moran\", features = hvgs, \n",
    "                            colGraphName = \"visium\", \n",
    "                            BPPARAM = MulticoreParam(2))\n",
    "rowData(sfe_tissue)[head(hvgs),]"
   ]
  },
  {
   "cell_type": "markdown",
   "id": "1fe5d431",
   "metadata": {
    "lines_to_next_cell": 0
   },
   "source": [
    "## Geary's C\n",
    "Another spatial autocorrelation metric is Geary's C, defined as:\n",
    "\n",
    "$$\n",
    "C = \\frac{(n-1)}{2\\sum_{i=1}^n \\sum_{j=1}^n w_{ij}} \\frac{\\sum_{i=1}^n \\sum_{j=1}^n w_{ij}(x_i - x_j)^2}{{\\sum_{i=1}^n (x_i - \\bar{x})^2}}\n",
    "$$\n",
    "\n",
    "Geary's C  below 1 indicates positive spatial autocorrelation, and above 1 indicates negative spatial autocorrelation.\n",
    "\n",
    "To compute Geary's C for features of interest replace `type = \"moran\"` in the previous section with `type = \"geary\"`, and add the results to the SFE object. For example, for `colData`"
   ]
  },
  {
   "cell_type": "code",
   "execution_count": null,
   "id": "2b628b93",
   "metadata": {},
   "outputs": [],
   "source": [
    "sfe_tissue <- colDataUnivariate(sfe_tissue, features = c(\"nCounts\", \"nGenes\"),\n",
    "                                colGraphName = \"visium\", type = \"geary\")\n",
    "colFeatureData(sfe_tissue)[c(\"nCounts\", \"nGenes\"),]"
   ]
  },
  {
   "cell_type": "markdown",
   "id": "dc1b56b0",
   "metadata": {
    "lines_to_next_cell": 0
   },
   "source": [
    "There's only one column for K since it's the same for Moran's I and Geary's C. Here both Moran's I and Geary's C suggest positive spatial autocorrelation for `nCounts` and `nGenes`.\n",
    "\n",
    "Other univariate global methods, including permutation testing for Moran's I and Geary's C, correlograms, and Moran scatter plot can also be called with functions such as `runUnivariate`, by specifying the `type` argument. See documentation of `runUnivariate` to see the available methods and see documentation of the corresponding `spdep` functions to see the extra arguments required for each method.\n",
    "\n",
    "## Permutation testing\n",
    "To establish whether the spatial autocorrelation is statistically significant, the `moran.test()` function in `spdep` can be used. It provides a p-value, but the p-value may not be accurate if the data is not normally distributed. As gene expression data is generally not normally distributed and data normalization doesn't always work well, we use permutation testing to test the significance of Moran's I and Geary's C, wrapping `moran.mc()` in `spdep`. The \"mc\" stands for Monte Carlo. The `nsim` argument specifies the number of simulations. \n",
    "\n",
    "The following adds the results to the SFE object:"
   ]
  },
  {
   "cell_type": "code",
   "execution_count": null,
   "id": "c8253a18",
   "metadata": {},
   "outputs": [],
   "source": [
    "set.seed(29)\n",
    "sfe_tissue <- colDataUnivariate(sfe_tissue, features = c(\"nCounts\", \"nGenes\"), \n",
    "                                colGraphName = \"visium\", nsim = 1000,\n",
    "                                type = \"moran.mc\")\n",
    "colFeatureData(sfe_tissue)[c(\"nCounts\", \"nGenes\"),]"
   ]
  },
  {
   "cell_type": "markdown",
   "id": "09d59cd4",
   "metadata": {
    "lines_to_next_cell": 0
   },
   "source": [
    "Note that while the test is performed for multiple features, the p-values here are not corrected for multiple hypothesis testing.\n",
    "\n",
    "The results can be plotted:"
   ]
  },
  {
   "cell_type": "code",
   "execution_count": null,
   "id": "43f2c673",
   "metadata": {
    "fig.alt": "Density plot of Moran's I values from 1000 simulations of nCounts and nGenes. The density plots center around 0 and deminish around 0.06 on the right. Vertical lines mark the actual Moran's I. For both nCounts and nGenes, the actual value, at 0.53 and 0.38 respectively, is far higher than the simulated ones, indicating positive spatial autocorrelation."
   },
   "outputs": [],
   "source": [
    "plotMoranMC(sfe_tissue, c(\"nCounts\", \"nGenes\"))"
   ]
  },
  {
   "cell_type": "markdown",
   "id": "1ab3c0c2",
   "metadata": {},
   "source": [
    "By default, the colorblind friendly palette from [`dittoSeq`](https://bioconductor.org/packages/release/bioc/html/dittoSeq.html) is used for categorical variables. The density plot is of Moran's I from the simulations where the values are permuted and disconnected from spatial locations, and the vertical line is the actual Moran's I value. The simulation indicates that the actual Moran's I is much higher than that from the simulations where the values are dissociated from spatial locations and permuted among the locations, indicating that spatial autocorrelation is very significant. \n",
    "\n",
    "Use `type = \"geary.mc\"` for permutation testing for Geary's C.\n",
    "\n",
    "The `spdep` package can also compute p-values of Moran's I analytically, but the theory behind the mean and variance of the null distribution of Moran's I assumes normal distribution of the data, while gene expression data is generally non-normal. However, according to [@Griffith2010-uy], with large sample size (\"preferably at least 100\"), mean and variance of Moran's I of several iid non-normal simulated datasets (including negative binomial, which is commonly used to model gene expression data) don't seem to deviate much from the values expected from normally distributed data. Spatial transcriptomics datasets typically have thousands or more spots or cells, so sample size is most likely large enough. Hence using the analytical test on non-normal data might not be too bad. However, with large sample size, a minuscule difference can create very significant p-values. Here we perform the analytical test for Moran's I:"
   ]
  },
  {
   "cell_type": "code",
   "execution_count": null,
   "id": "205a7482",
   "metadata": {},
   "outputs": [],
   "source": [
    "sfe_tissue <- colDataUnivariate(sfe_tissue, features = c(\"nCounts\", \"nGenes\"), \n",
    "                                colGraphName = \"visium\", type = \"moran.test\")\n",
    "names(colFeatureData(sfe_tissue))"
   ]
  },
  {
   "cell_type": "markdown",
   "id": "b864ca1c",
   "metadata": {},
   "source": [
    "Now compare the p-values from permutation and analytical test; in both cases here, the default alternative hypothesis is positive spatial autocorrelation:"
   ]
  },
  {
   "cell_type": "code",
   "execution_count": null,
   "id": "2dfd47be",
   "metadata": {},
   "outputs": [],
   "source": [
    "# permutation\n",
    "colFeatureData(sfe_tissue)[c(\"nCounts\", \"nGenes\"), c(\"moran.mc_p.value_Vis5A\", \"moran.test_p.value_Vis5A\")]"
   ]
  },
  {
   "cell_type": "markdown",
   "id": "096d178b",
   "metadata": {
    "lines_to_next_cell": 0
   },
   "source": [
    "The p-values from permutation are limited by the number of permutations (1000 here). Either way, both permutation and analytical tests indicate very significant positive spatial autocorrelation.\n",
    "\n",
    "A limitation of permutation testing of Moran's I is that it assumes that each permutation of the values among the locations is equally likely, which is not necessarily true. For instance, in epidemiology, disease rate in regions with small population more likely assumes more extreme values [@Assuncao1999-xu], which is analogous to rare cell types and lowly expressed genes in histological space given that we divide by total UMI counts per spot. The extent this happens may depend on tissue, gene of interest, technology, and data normalization method.\n",
    "\n",
    "## Correlogram\n",
    "In a correlogram, spatial autocorrelation of higher orders of neighbors (e.g. second order neighbors are neighbors of neighbors) is calculated to see how it decays over the orders. In Visium, with the regular hexagonal grid, order of neighbors is a proxy for distance. For more irregular patterns such as single cells, different methods to find the spatial neighbors may give different results. \n",
    "\n",
    "For `colData`, Moran's I correlogram is computed with"
   ]
  },
  {
   "cell_type": "code",
   "execution_count": null,
   "id": "4570831e",
   "metadata": {},
   "outputs": [],
   "source": [
    "sfe_tissue <- runUnivariate(sfe_tissue, hvgs[1:2], colGraphName = \"visium\", \n",
    "                            order = 10, type = \"sp.correlogram\")"
   ]
  },
  {
   "cell_type": "markdown",
   "id": "ed47be93",
   "metadata": {
    "lines_to_next_cell": 0
   },
   "source": [
    "The results can be plotted with `plotCorrelogram`:"
   ]
  },
  {
   "cell_type": "code",
   "execution_count": null,
   "id": "45847cd4",
   "metadata": {
    "fig.alt": "Line plot with order of neighbors (lags) in the x axis and Moran's I value at each lag in the y axis. The x axis ranges from 1 to 10, and the y axis ranges from 0 to 0.8. The lines show trends of decay of spatial autocorrelation with increasing distance of neighbors. Two genes, Car3 and Mb, are shown. Moran's I of both genes decay somewhat linearly from lag 1 to 10. Car3 decays from around 0.75 to around 0.23. Mb decays from around 0.7 to around 0.13. At each lag the error bars are tight (see next paragraph in the main text) and the p-values are less than 0.001 after Benjamini-Hochberg multiple testing correction over the 2 genes and 10 lags."
   },
   "outputs": [],
   "source": [
    "plotCorrelogram(sfe_tissue, hvgs[1:2], swap_rownames = \"symbol\")"
   ]
  },
  {
   "cell_type": "markdown",
   "id": "39c0dfcf",
   "metadata": {
    "lines_to_next_cell": 0
   },
   "source": [
    "The error bars are twice the standard deviation of the Moran's I value. The standard deviation and p-values (null hypothesis is that Moran's I is 0) come from `moran.test()` (for Geary's C correlogram, `geary.test()`); these should be taken with a grain of salt for data that is not normally distributed. The p-values have been corrected for multiple hypothesis testing across all orders and features. As usual, . means p < 0.1, \\* means p < 0.05, \\*\\* means p < 0.01, and \\*\\*\\* means p < 0.001. \n",
    "\n",
    "Again, this can be done for Geary's C, `colData`, `annotGeometry`, and etc.\n",
    "\n",
    "# Univariate local\n",
    "Local statistics yield a result at each location rather than the whole dataset, while global statistics may obscure local heterogeneity. See [@Fotheringham2009-ak] for an interesting discussion of relationships between global and local spatial statistics. Local statistics are stored in the `localResults` field of the SFE object, which can be accessed by the `localResult()` or `localResults()` functions in the `SpatialFeatureExperiment` package.\n",
    "\n",
    "All univariate local methods in `Voyager` are listed here:"
   ]
  },
  {
   "cell_type": "code",
   "execution_count": null,
   "id": "8084edc2",
   "metadata": {
    "lines_to_next_cell": 2
   },
   "outputs": [],
   "source": [
    "listSFEMethods(variate = \"uni\", scope = \"local\")"
   ]
  },
  {
   "cell_type": "markdown",
   "id": "cd95ca43",
   "metadata": {
    "lines_to_next_cell": 0
   },
   "source": [
    "## Moran scatter plot\n",
    "In the Moran scatter plot [@Anselin1996-mo], the x axis is the value at a spot, and the y axis is the average value of the neighbors. The slope of the fitted line is Moran's I. Sometimes clusters appear in this plot, showing different kinds of neighborhoods. \n",
    "\n",
    "For gene expression, to use one gene (log normalized value) to demonstrate:"
   ]
  },
  {
   "cell_type": "code",
   "execution_count": null,
   "id": "8d7aaa6c",
   "metadata": {},
   "outputs": [],
   "source": [
    "sfe_tissue <- runUnivariate(sfe_tissue, \"Myh2\", colGraphName = \"visium\", \n",
    "                            type = \"moran.plot\", swap_rownames = \"symbol\")"
   ]
  },
  {
   "cell_type": "code",
   "execution_count": null,
   "id": "03fadf52",
   "metadata": {
    "fig.alt": "Moran scatter plot of log normalized values of gene Myh2. This plot is described in the upcoming main text."
   },
   "outputs": [],
   "source": [
    "moranPlot(sfe_tissue, \"Myh2\", graphName = \"visium\", swap_rownames = \"symbol\")"
   ]
  },
  {
   "cell_type": "markdown",
   "id": "fa7b1898",
   "metadata": {},
   "source": [
    "The dashed lines mark the mean in Myh2 and spatially lagged Myh2. There are no singletons here. Some Visium spots with lower Myh2 expression have neighbors that don't express Myh2 but spots that don't express Myh2 usually have at least some neighbors that do. There are twp main clusters for spots whose neighbors do express Myh2: those with high (above average) expression whose neighbors also have high expression, and those with low expression whose neighbors also have low expression. Other features may show different kinds of clusters. We can use k-means clustering to identify clusters, though any clustering method supported by the `bluster` package can be used."
   ]
  },
  {
   "cell_type": "code",
   "execution_count": null,
   "id": "ea8a2b2b",
   "metadata": {},
   "outputs": [],
   "source": [
    "set.seed(29)\n",
    "clusts <- clusterMoranPlot(sfe_tissue, \"Myh2\", BLUSPARAM = KmeansParam(2),\n",
    "                           swap_rownames = \"symbol\")"
   ]
  },
  {
   "cell_type": "markdown",
   "id": "fd57d6f2",
   "metadata": {
    "lines_to_next_cell": 0
   },
   "source": [
    "We can use the [gget search](https://pachterlab.github.io/gget/search.html) module to get the Ensembl ID for Myh2:"
   ]
  },
  {
   "cell_type": "code",
   "execution_count": null,
   "id": "6912e6ee",
   "metadata": {},
   "outputs": [],
   "source": [
    "gget$search(\"Myh2\", species=\"mouse\")"
   ]
  },
  {
   "cell_type": "code",
   "execution_count": null,
   "id": "1e63865d",
   "metadata": {
    "fig.alt": "Moran scatter plot of log normalized value of Myh1, colored by 2 k-means clusters, which correspond to the high-high and low-low spots."
   },
   "outputs": [],
   "source": [
    "moranPlot(sfe_tissue, \"Myh2\", graphName = \"visium\", \n",
    "          color_by = clusts$ENSMUSG00000033196, swap_rownames = \"symbol\")"
   ]
  },
  {
   "cell_type": "markdown",
   "id": "b0bfed92",
   "metadata": {
    "lines_to_next_cell": 0
   },
   "source": [
    "Plot the clusters in space"
   ]
  },
  {
   "cell_type": "code",
   "execution_count": null,
   "id": "5012c95f",
   "metadata": {
    "fig.alt": "Visium spots in space colored by the k-means clusters. Cluster 2 (high-high) are mostly in the upper left and lower left parts of the tissue, and the rest of the spots are cluster 1."
   },
   "outputs": [],
   "source": [
    "colData(sfe_tissue)$Myh2_moranPlot_clust <- clusts$ENSMUSG00000033196\n",
    "plotSpatialFeature(sfe_tissue, \"Myh2_moranPlot_clust\", colGeometryName = \"spotPoly\",\n",
    "                   image = \"lowres\", color = \"black\", linewidth = 0.1)"
   ]
  },
  {
   "cell_type": "markdown",
   "id": "0f6be4ce",
   "metadata": {},
   "source": [
    "This can also be done for `colData`, `annotGeometry`, and etc. as in Moran's I and permutation testing. \n",
    "\n",
    "## Local Moran's I\n",
    "To recap, global Moran's I is defined as\n",
    "\n",
    "$$\n",
    "I = \\frac{n}{\\sum_{i=1}^n \\sum_{j=1}^n w_{ij}} \\frac{\\sum_{i=1}^n \\sum_{j=1}^n w_{ij} (x_i - \\bar{x})(x_j - \\bar{x})}{\\sum_{i=1}^n (x_i - \\bar{x})^2}.\n",
    "$$\n",
    "\n",
    "Local Moran's I [@Anselin1995-cs] is defined as\n",
    "\n",
    "$$\n",
    "I_i = (n-1)\\frac{(x_i - \\bar{x})\\sum_{j=1}^n w_{ij} (x_j - \\bar{x})}{\\sum_{i=1}^n (x_i - \\bar{x})^2}.\n",
    "$$\n",
    "\n",
    "It's similar to global Moran's I, but the values at locations $i$ are not summed and there's no normalization by the sum of spatial weights. "
   ]
  },
  {
   "cell_type": "code",
   "execution_count": null,
   "id": "3bb4e97c",
   "metadata": {},
   "outputs": [],
   "source": [
    "sfe_tissue <- runUnivariate(sfe_tissue, type = \"localmoran\", features = \"Myh2\",\n",
    "                            colGraphName = \"visium\", swap_rownames = \"symbol\")"
   ]
  },
  {
   "cell_type": "markdown",
   "id": "01ebd703",
   "metadata": {
    "lines_to_next_cell": 0
   },
   "source": [
    "It is useful to plot the log normalized Myh2 gene expression as context to interpret the local results:"
   ]
  },
  {
   "cell_type": "code",
   "execution_count": null,
   "id": "c41be6f6",
   "metadata": {},
   "outputs": [],
   "source": [
    "plotSpatialFeature(sfe_tissue, features = \"Myh2\", colGeometryName = \"spotPoly\",\n",
    "                   swap_rownames = \"symbol\", image_id = \"lowres\", color = \"black\",\n",
    "                   linewidth = 0.1)"
   ]
  },
  {
   "cell_type": "code",
   "execution_count": null,
   "id": "57038947",
   "metadata": {},
   "outputs": [],
   "source": [
    "plotLocalResult(sfe_tissue, \"localmoran\", features = \"Myh2\", \n",
    "                colGeometryName = \"spotPoly\",divergent = TRUE,\n",
    "                diverge_center = 0, image_id = \"lowres\", \n",
    "                swap_rownames = \"symbol\", color = \"black\",\n",
    "                linewidth = 0.1)"
   ]
  },
  {
   "cell_type": "markdown",
   "id": "dfc63440",
   "metadata": {},
   "source": [
    "We see that regions with higher Myh2 expression also have stronger spatial autocorrelation. It is interesting to see how spatial autocorrelation relates to gene expression level, much as finding how variance relates to mean in the expression of each gene, which usually indicates overdispersion compared to Poisson in scRNA-seq and Visium data:"
   ]
  },
  {
   "cell_type": "code",
   "execution_count": null,
   "id": "92a5c91d",
   "metadata": {},
   "outputs": [],
   "source": [
    "df <- data.frame(myh2 = logcounts(sfe_tissue)[rowData(sfe_tissue)$symbol == \"Myh2\",],\n",
    "                 Ii = localResult(sfe_tissue, \"localmoran\", \"Myh2\", \n",
    "                                  swap_rownames = \"symbol\")[,\"Ii\"])\n",
    "ggplot(df, aes(myh2, Ii)) + geom_point(alpha = 0.3) +\n",
    "    labs(x = \"Myh2 (log counts)\", y = \"localmoran\")"
   ]
  },
  {
   "cell_type": "markdown",
   "id": "e18ee6ae",
   "metadata": {
    "lines_to_next_cell": 0
   },
   "source": [
    "For this gene, Visium spots with higher expression also tend to have higher local Moran's I, but this may or may not apply to other genes.\n",
    "\n",
    "Local spatial analyses often return a matrix or data frame. The `plotLocalResult()` function has a default column for each local spatial method, but other columns can be plotted as well. Use the `localResultAttrs()` function to see which columns are present, and use the `attribute` argument to specify which column to plot."
   ]
  },
  {
   "cell_type": "code",
   "execution_count": null,
   "id": "cd439f70",
   "metadata": {},
   "outputs": [],
   "source": [
    "localResultAttrs(sfe_tissue, \"localmoran\", \"Myh2\", swap_rownames = \"symbol\")"
   ]
  },
  {
   "cell_type": "markdown",
   "id": "ab8cb84b",
   "metadata": {},
   "source": [
    "Some local spatial methods return p-values at each location, in a column with name like `Pr(z != E(Ii))`, where the test is two sided (default, can be changed with the `alternative` argument in `runUnivariate()` which is passed to the relevant underlying function in `spdep`). Negative log of the p-value is computed to facilitate visualization, and the p-value is corrected for multiple hypothesis testing with `p.adjustSP()` in `spdep`, where the number of tests is the number of neighbors of each location rather than the total number of locations (`-log10p_adj`)."
   ]
  },
  {
   "cell_type": "code",
   "execution_count": null,
   "id": "03ad114d",
   "metadata": {},
   "outputs": [],
   "source": [
    "plotLocalResult(sfe_tissue, \"localmoran\", features = \"Myh2\", \n",
    "                colGeometryName = \"spotPoly\", attribute = \"-log10p_adj\", divergent = TRUE,\n",
    "                diverge_center = -log10(0.05), swap_rownames = \"symbol\",\n",
    "                image_id = \"lowres\", color = \"black\",\n",
    "                linewidth = 0.1)"
   ]
  },
  {
   "cell_type": "markdown",
   "id": "f3656d20",
   "metadata": {
    "lines_to_next_cell": 0
   },
   "source": [
    "In this plot and all following plots of p-values, a divergent palette is used to show locations that are significant after adjusting for multiple testing and those that are not significant in different colors. The center of the divergent palette is p = 0.05, so the bluish spots are significant while a dark brown means _really_ not significant.\n",
    "\n",
    "The \"pysal\" column displays the quadrants relative to the means in the Moran plot. The result is similar to that from k-means clustering shown above."
   ]
  },
  {
   "cell_type": "code",
   "execution_count": null,
   "id": "f5fdc10c",
   "metadata": {},
   "outputs": [],
   "source": [
    "plotLocalResult(sfe_tissue, \"localmoran\", features = \"Myh2\", \n",
    "                colGeometryName = \"spotPoly\", attribute = \"pysal\", \n",
    "                swap_rownames = \"symbol\", image_id = \"lowres\", color = \"black\",\n",
    "                linewidth = 0.1)"
   ]
  },
  {
   "cell_type": "markdown",
   "id": "de6a6046",
||||||| 3477967
   "id": "a922d7d2",
   "metadata": {
    "lines_to_next_cell": 0
   },
   "source": [
    "## Getis-Ord Gi\\*\n",
    "Getis-Ord Gi\\* is used to find hotspots and coldspots of a feature in space. A hotspot is a cluster of high values in space, and a coldspot is a cluster of low values in space. Getis-Ord Gi\\* is essentially the z-score of the spatially lagged value of the feature at each location $i$ ($\\sum_j w_{ij}x_j $), where $w_{ij}$ is the spatial weight. In the [original publication for Getis-Ord Gi\\* from 1992](https://onlinelibrary.wiley.com/doi/10.1111/j.1538-4632.1992.tb00261.x) [@Getis1992-fr], the spatial weight is a distance-based binary weight indicating whether another location is within a certain distance from each location $i$. Getis-Ord Gi excludes the location $i$ itself in the computation of mean and variance of the lagged value, while Gi\\* includes the location $i$ itself. Usually Gi and Gi\\* yield similar results. The mean and variance used in the z-score differ in Gi and Gi\\* and is described in [this paper from 1995](https://onlinelibrary.wiley.com/doi/10.1111/j.1538-4632.1995.tb00912.x) [@Ord1995-we] and derived in [@Getis1992-fr].\n",
    "\n",
    "Binary weights are recommended for Getis-Ord Gi\\*."
   ]
  },
  {
   "cell_type": "code",
   "execution_count": null,
   "id": "0f206d1e",
   "metadata": {},
   "outputs": [],
   "source": [
    "colGraph(sfe_tissue, \"visium_B\") <- findVisiumGraph(sfe_tissue, style = \"B\")"
   ]
  },
  {
   "cell_type": "code",
   "execution_count": null,
   "id": "1e334c66",
   "metadata": {},
   "outputs": [],
   "source": [
    "sfe_tissue <- runUnivariate(sfe_tissue, type = \"localG_perm\", features = \"Myh2\",\n",
    "                            colGraphName = \"visium_B\", include_self = TRUE,\n",
    "                            swap_rownames = \"symbol\")"
   ]
  },
  {
   "cell_type": "code",
   "execution_count": null,
   "id": "a9eaf9b5",
   "metadata": {},
   "outputs": [],
   "source": [
    "plotLocalResult(sfe_tissue, \"localG_perm\", features = \"Myh2\", \n",
    "                colGeometryName = \"spotPoly\", divergent = TRUE,\n",
    "                diverge_center = 0, image_id = \"lowres\", swap_rownames = \"symbol\", \n",
    "                color = \"black\", linewidth = 0.1)"
   ]
  },
  {
   "cell_type": "markdown",
   "id": "6c8c0552",
   "metadata": {},
   "source": [
    "High values of Gi\\* indicate hotspots, while low values of Gi\\* indicate coldspots."
   ]
  },
  {
   "cell_type": "code",
   "execution_count": null,
   "id": "c181c90b",
   "metadata": {},
   "outputs": [],
   "source": [
    "localResultAttrs(sfe_tissue, \"localG_perm\", \"Myh2\", swap_rownames = \"symbol\")"
   ]
  },
  {
   "cell_type": "markdown",
   "id": "1dc8548d",
   "metadata": {
    "lines_to_next_cell": 0
   },
   "source": [
    "Plot the pseudo-p-values from the simulation"
   ]
  },
  {
   "cell_type": "code",
   "execution_count": null,
   "id": "1e3e8920",
   "metadata": {},
   "outputs": [],
   "source": [
    "plotLocalResult(sfe_tissue, \"localG_perm\", features = \"Myh2\", \n",
    "                attribute = \"-log10p_adj Sim\",\n",
    "                colGeometryName = \"spotPoly\", divergent = TRUE,\n",
    "                diverge_center = -log10(0.05), swap_rownames = \"symbol\",\n",
    "                image_id = \"lowres\")"
   ]
  },
  {
   "cell_type": "markdown",
   "id": "4c15eae1",
   "metadata": {
    "lines_to_next_cell": 0
   },
   "source": [
    "The hotspots are as expected. Here warm color indicates adjusted $p < 0.05$. \n",
    "\n",
    "Local results can also be computed for annotation geometries."
   ]
  },
  {
   "cell_type": "code",
   "execution_count": null,
   "id": "e8d2c9f9",
   "metadata": {},
   "outputs": [],
   "source": [
    "annotGraph(sfe_tissue, \"myofiber_poly2nb_B\") <- \n",
    "  findSpatialNeighbors(sfe_tissue, type = \"myofiber_simplified\", MARGIN = 3,\n",
    "                       method = \"poly2nb\", zero.policy = TRUE, style = \"B\")"
   ]
  },
  {
   "cell_type": "code",
   "execution_count": null,
   "id": "a4c4bc68",
   "metadata": {},
   "outputs": [],
   "source": [
    "sfe_tissue <- annotGeometryUnivariate(sfe_tissue, \"localG_perm\", \"area\", \n",
    "                                      annotGeometryName = \"myofiber_simplified\",\n",
    "                                      annotGraphName = \"myofiber_poly2nb_B\",\n",
    "                                      include_self = TRUE, zero.policy = TRUE)"
   ]
  },
  {
   "cell_type": "code",
   "execution_count": null,
   "id": "d0cacd25",
   "metadata": {},
   "outputs": [],
   "source": [
    "plotLocalResult(sfe_tissue, \"localG_perm\", \"area\", \n",
    "                annotGeometryName = \"myofiber_simplified\",\n",
    "                divergent = TRUE, diverge_center = 0)"
   ]
  },
  {
   "cell_type": "code",
   "execution_count": null,
   "id": "24c1f29e",
   "metadata": {},
   "outputs": [],
   "source": [
    "plotLocalResult(sfe_tissue, \"localG_perm\", \"area\", \n",
    "                annotGeometryName = \"myofiber_simplified\",\n",
    "                attribute = \"-log10p_adj Sim\",\n",
    "                divergent = TRUE, diverge_center = -log10(0.05))"
   ]
  },
  {
   "cell_type": "markdown",
   "id": "6a853fad",
   "metadata": {
    "lines_to_next_cell": 0
   },
   "source": [
    "The hotspots and coldspots are as expected. Warm color indicates adjusted $p < 0.05$.\n",
    "\n",
    "## Local spatial heteroscedasticity (LOSH)\n",
    "LOSH [@Ord2012-qi] is defined as\n",
    "\n",
    "$$\n",
    "H_i = \\frac{\\sum_j w_{ij}\\left| e_j \\right|^a}{h_1\\sum_j w_{ij}}\n",
    "$$\n",
    "\n",
    "where$h_1 = \\sum_i \\left| e_i \\right|^a/n$, $e_j = x_j - \\bar{x}_j$, and\n",
    "\n",
    "$$\n",
    "\\bar{x}_j = \\frac{\\sum_j w_{jk}x_k}{\\sum_j w_{jk}}.\n",
    "$$\n",
    "\n",
    "By default, $a = 2$ so LOSH is like a local variance. See [@Ord2012-qi] for more details and interpretation. "
   ]
  },
  {
   "cell_type": "code",
   "execution_count": null,
   "id": "38a2e12c",
   "metadata": {},
   "outputs": [],
   "source": [
    "sfe_tissue <- runUnivariate(sfe_tissue, \"LOSH.cs\", \"Myh2\", \n",
    "                            colGraphName = \"visium\", swap_rownames = \"symbol\")"
   ]
  },
  {
   "cell_type": "code",
   "execution_count": null,
   "id": "44cabdd1",
   "metadata": {},
   "outputs": [],
   "source": [
    "plotLocalResult(sfe_tissue, \"LOSH.cs\", features = \"Myh2\", \n",
    "                colGeometryName = \"spotPoly\", swap_rownames = \"symbol\",\n",
    "                image_id = \"lowres\")"
   ]
  },
  {
   "cell_type": "markdown",
   "id": "7768e83f",
   "metadata": {},
   "source": [
    "For this gene, it isn't clear whether LOSH relates to gene expression levels."
   ]
  },
  {
   "cell_type": "code",
   "execution_count": null,
   "id": "ac9935e3",
   "metadata": {},
   "outputs": [],
   "source": [
    "localResultAttrs(sfe_tissue, \"LOSH.cs\", \"Myh2\", swap_rownames = \"symbol\")"
   ]
  },
  {
   "cell_type": "markdown",
   "id": "be4bfa96",
   "metadata": {},
   "source": [
    "While `Voyager` does wrap `LOSH.mc()` to perform permutation testing of LOSH, this is very time consuming. A chi-squared approximation is described in the 2012 LOSH paper to account for non-normality of the data and to approximate the mean and variance of the permutation distributions, so p-values of LOSH can be more quickly computed, with `LOSH.cs()`."
   ]
  },
  {
   "cell_type": "code",
   "execution_count": null,
   "id": "88fe7252",
   "metadata": {},
   "outputs": [],
   "source": [
    "plotLocalResult(sfe_tissue, \"LOSH.cs\", features = \"Myh2\", \n",
    "                attribute = \"-log10p_adj\", colGeometryName = \"spotPoly\",\n",
    "                divergent = TRUE, diverge_center = -log10(0.05),\n",
    "                swap_rownames = \"symbol\", image_id = \"lowres\") +\n",
    "    theme_void()"
   ]
  },
  {
   "cell_type": "markdown",
   "id": "bd2799bb",
   "metadata": {
    "lines_to_next_cell": 0
   },
   "source": [
    "For this gene, the local conditions are mostly homogenous, except for a few spots most at the injury site. Warm color indicates adjusted $p < 0.05$.\n",
    "\n",
    "# Caveats\n",
    "1. In the current version of `Voyager`, only univariate spatial autocorrelation metrics are supported. Anisotropy, bivariate, and multivariate spatial analyses will be added in later versions.\n",
    "2. The H&E image can alter perception of the colors of the geometries.\n",
    "3. Only 2D data is supported at present, although in principle, `sf` and `GEOS` support 3D data.\n",
    "4. Spatial neighborhoods only make sense within the same tissue section. Then what to do with multiple tissue sections, from biological replica, and from different conditions? For the mouse brain, different biological replica can be registered to the Allen Common Coordinate Framework (CCF) to be spatially comparable. Indeed, it would be interesting to see the biological variability of healthy wild type gene expression at the same fine scaled region in the brain. However, there is no CCF for tissues without a stereotypical structure, such as adipose and skeletal muscle. We don't have a good solution to spatially compare different tissue sections yet. Perhaps global spatial statistics over the whole section or histological regions within the section can be compared. The problem remains to select the most informative metrics to compare. Perhaps a spatially-informed dimension reduction method, taking not only the gene count matrix, but also the adjacency matrices of the spatial neighborhood graphs (different sections will be different blocks in the matrix) projecting the cells or Visium spots from different sections into a shared low dimensional space can facilitate the comparison. Here batch effect must be corrected, and the dimension reduction should be interpretable, and scalable.\n",
    "\n",
    "# Session info"
   ]
  },
  {
   "cell_type": "code",
   "execution_count": null,
   "id": "3d6c9f7b",
   "metadata": {},
   "outputs": [],
   "source": [
    "sessionInfo()"
   ]
  },
  {
   "cell_type": "markdown",
   "id": "0371af58",
   "metadata": {},
   "source": [
    "# References"
   ]
  }
 ],
 "metadata": {
  "kernelspec": {
   "display_name": "R",
   "language": "R",
   "name": "ir"
  }
 },
 "nbformat": 4,
 "nbformat_minor": 5
}
||||||| 6b0d1f4
=======
{
 "cells": [
  {
   "cell_type": "raw",
   "id": "2f6c6e4a",
   "metadata": {},
   "source": [
    "---\n",
    "title: \"Spatial Visium exploratory data analysis\"\n",
    "author: \"Lambda Moses\"\n",
    "date: \"`r Sys.Date()`\"\n",
    "output: \n",
    "  html_document:\n",
    "  toc: true\n",
    "  toc_float:\n",
    "    collapsed: false\n",
    "  toc_depth: 3\n",
    "bibliography: ref.bib\n",
    "vignette: >\n",
    "  %\\VignetteIndexEntry{Spatial Visium exploratory data analysis}\n",
    "  %\\VignetteEngine{knitr::rmarkdown}\n",
    "  %\\VignetteEncoding{UTF-8}\n",
    "---"
   ]
  },
  {
   "cell_type": "code",
   "execution_count": null,
   "id": "99bf45d0",
   "metadata": {
    "tags": [
     "remove_cell"
    ]
   },
   "outputs": [],
   "source": [
    "knitr::opts_chunk$set(\n",
    "  collapse = TRUE,\n",
    "  comment = \"#>\", fig.align = \"center\"\n",
    ")"
   ]
  },
  {
   "cell_type": "code",
   "execution_count": null,
   "id": "d60758de",
   "metadata": {
    "eval": false,
    "tags": [
     "remove_cell"
    ]
   },
   "outputs": [],
   "source": [
    "# Install Google Colab dependencies\n",
    "# Note: this can take 30+ minutes (many of the dependencies include C++ code, which needs to be compiled)\n",
    "\n",
    "# First install `sf`, `ragg` and `textshaping` and their system dependencies:\n",
    "system(\"apt-get -y update && apt-get install -y  libudunits2-dev libgdal-dev libgeos-dev libproj-dev libharfbuzz-dev libfribidi-dev\")\n",
    "install.packages(\"sf\")\n",
    "install.packages(\"textshaping\")\n",
    "install.packages(\"ragg\")\n",
    "\n",
    "# Install system dependencies of some other R packages that Voyager either imports or suggests:\n",
    "system(\"apt-get install -y libfribidi-dev libcairo2-dev libmagick++-dev\")\n",
    "\n",
    "# Install Voyager from Bioconductor:\n",
    "install.packages(\"BiocManager\")\n",
    "BiocManager::install(version = \"3.17\", ask = FALSE, update = FALSE, Ncpus = 2)\n",
    "BiocManager::install(\"scater\")\n",
    "system.time(\n",
    "  BiocManager::install(\"Voyager\", dependencies = TRUE, Ncpus = 2, update = FALSE)\n",
    ")\n",
    "\n",
    "# Additional dependencies for this notebook\n",
    "install.packages(\"reticulate\")\n",
    "\n",
    "packageVersion(\"Voyager\")"
   ]
  },
  {
   "cell_type": "markdown",
   "id": "d6552276",
   "metadata": {},
   "source": [
    "# Introduction \n",
    "\n",
    "This vignette provides an introduction to exploratory spatial data analysis methods via the `Voyager` package in the context of a Visium dataset."
   ]
  },
  {
   "cell_type": "code",
   "execution_count": null,
   "id": "2b1a1d17",
   "metadata": {
    "message": false,
    "name": "setup"
   },
   "outputs": [],
   "source": [
    "library(Voyager)\n",
    "library(SpatialFeatureExperiment)\n",
    "library(scater)\n",
    "library(scran)\n",
    "library(SFEData)\n",
    "library(sf)\n",
    "library(ggplot2)\n",
    "library(scales)\n",
    "library(patchwork)\n",
    "library(BiocParallel)\n",
    "library(bluster)\n",
    "library(dplyr)\n",
    "library(reticulate)\n",
    "theme_set(theme_bw(10))"
   ]
  },
  {
   "cell_type": "code",
   "execution_count": null,
   "id": "4a4bf2d7",
   "metadata": {
    "lines_to_next_cell": 2
   },
   "outputs": [],
   "source": [
    "# Specify Python version to use gget\n",
    "PY_PATH <- system(\"which python\", intern = TRUE)\n",
    "use_python(PY_PATH)\n",
    "py_config()\n",
    "\n",
    "# Install and load gget\n",
    "system(\"pip3 install gget\")\n",
    "gget <- import(\"gget\")"
   ]
  },
  {
   "cell_type": "markdown",
   "id": "0a5d38b2",
   "metadata": {},
   "source": [
    "# Dataset\n",
    "The dataset used in this vignette is from the paper [Large-scale integration of single-cell transcriptomic data captures transitional progenitor states in mouse skeletal muscle regeneration](https://doi.org/10.1038/s42003-021-02810-x) [@McKellar2021-ek]. Notexin was injected into the tibialis anterior muscle of mice to induce injury, and the healing muscle was collected 2, 5, and 7 days post injury for Visium analysis. The dataset in this vignette is from the timepoint at day 2. The vignette starts with a `SpatialFeatureExperiment` (SFE) object.\n",
    "\n",
    "The gene count matrix was directly downloaded [from GEO](https://www.ncbi.nlm.nih.gov/geo/query/acc.cgi?acc=GSM4904759). All 4992 spots, whether in tissue or not, are included. The H&E image was used for nuclei and myofiber segmentation. A subset of nuclei from randomly selected regions from all 3 timepoints were manually annotated to train a StarDist model to segment the rest of the nuclei, and the myofibers were all manually segmented. The tissue boundary was found by thresholding in OpenCV, and small polygons were removed as they are likely to be debris. Spot polygons were constructed with the spot centroid coordinates and diameter in the Space Ranger output. The `in_tissue` column in `colData` indicates which spot polygons intersect the tissue polygons, and is based on `st_intersects()`.\n",
    "\n",
    "Tissue boundary, nuclei, myofiber, and Visium spot polygons are stored as `sf` data frames in the SFE object. See [the vignette of `SpatialFeatureExperiment`](https://bioconductor.org/packages/devel/bioc/vignettes/SpatialFeatureExperiment/inst/doc/SFE.html) for more details on the structure of the SFE object. The SFE object of this dataset is provided in the `SFEData` package; we begin by downloading the data and loading it into R."
   ]
  },
  {
   "cell_type": "code",
   "execution_count": null,
   "id": "9701b8b3",
   "metadata": {},
   "outputs": [],
   "source": [
    "(sfe <- McKellarMuscleData(\"full\"))"
   ]
  },
  {
   "cell_type": "markdown",
   "id": "bd464929",
   "metadata": {
    "lines_to_next_cell": 0
   },
   "source": [
    "The H&E image of this section:\n",
    "![A cross section of mouse muscle is slightly off center to the lower left. In the middle of the tissue is the notexin injury site with leukocyte infiltration and fewer myofibers. The rest of the tissue section is tightly packed with myofibers.](https://raw.githubusercontent.com/pachterlab/voyager/documentation/vignettes/tissue_lowres_5a.jpeg)\n",
    "\n",
    "The image can be added to the SFE object and plotted behind the geometries, and needs to be flipped to align to the spots because the origin is at the top left for the image but bottom left for geometries."
   ]
  },
  {
   "cell_type": "code",
   "execution_count": null,
   "id": "b3d60232",
   "metadata": {},
   "outputs": [],
   "source": [
    "sfe <- addImg(sfe, file = \"tissue_lowres_5a.jpeg\", sample_id = \"Vis5A\", \n",
    "              image_id = \"lowres\", \n",
    "              scale_fct = 1024/22208)\n",
    "sfe <- mirrorImg(sfe, sample_id = \"Vis5A\", image_id = \"lowres\")"
   ]
  },
  {
   "cell_type": "markdown",
   "id": "dce0a074",
   "metadata": {},
   "source": [
    "# Exploratory data analysis\n",
    "## Spots in tissue\n",
    "While the example dataset has all Visium spots whether on tissue or not, only spots that intersect tissue are used for further analyses. "
   ]
  },
  {
   "cell_type": "code",
   "execution_count": null,
   "id": "cc5004ea",
   "metadata": {},
   "outputs": [],
   "source": [
    "names(colData(sfe))"
   ]
  },
  {
   "cell_type": "markdown",
   "id": "62d777af",
   "metadata": {
    "lines_to_next_cell": 0
   },
   "source": [
    "Total UMI counts (`nCounts`), number of genes detected per spot (`nGenes`), and the proportion of mitochondrially encoded counts (`prop_mito`) have been precomputed and are in `colData(sfe)`. The `plotSpatialFeature` function can be used to visualize various attributes in space: the expression of any gene, `colData` values, and geometry attributes in `colGeometry` and `annotGeometry`. The Visium spots are plotted as polygons reflecting their actual size relative to the tissue, rather than as points, as is the case in other packages that plot Visium data. The plotting of geometries is being performed under the hood with `geom_sf`.\n",
    "\n",
    "The tissue boundary was found by thresholding the H&E image and removing small polygons that are most likely debris. The `in_tissue` column of `colData(sfe)` indicates which Visium spot polygon intersects the tissue polygon; this can be found with `SpatialFeatureExperiment::annotPred()`.\n",
    "\n",
    "We demonstrate the use of `scran` [@Lun2016-yq] for normalization below, although we note that it is not necessarily the best approach to normalizing spatial transcriptomics data. The problem of when and how to normalize spatial transcriptomics data is non-trivial because, as the `nCounts` plot in space shows above, spatial autocorrelation is evident. Furthemrore, in Visium, reverse transcription occurs in situ on the spots, but PCR amplification occurs after the cDNA is dissociated from the spots. Artifacts may be subsequently introduced from the amplification step, and these would not be associated with spatial origin. Spatial artifacts may arise from the diffusion of transcripts and tissue permeablization. However, given how the total counts seem to correspond to histological regions, the total counts may have a biological component and hence should not be treated as a technical artifact to be normalized away as in scRNA-seq data normalization methods. In other words, the issue of normalization for spatial transcriptomics data, and Visium in particular, is complex and is currently unsolved. "
   ]
  },
  {
   "cell_type": "code",
   "execution_count": null,
   "id": "9aebdc43",
   "metadata": {},
   "outputs": [],
   "source": [
    "sfe_tissue <- sfe[,colData(sfe)$in_tissue]\n",
    "sfe_tissue <- sfe_tissue[rowSums(counts(sfe_tissue)) > 0,]"
   ]
  },
  {
   "cell_type": "code",
   "execution_count": null,
   "id": "17c72968",
   "metadata": {},
   "outputs": [],
   "source": [
    "#clusters <- quickCluster(sfe_tissue)\n",
    "#sfe_tissue <- computeSumFactors(sfe_tissue, clusters=clusters)\n",
    "#sfe_tissue <- sfe_tissue[, sizeFactors(sfe_tissue) > 0]\n",
    "sfe_tissue <- logNormCounts(sfe_tissue)"
   ]
  },
  {
   "cell_type": "markdown",
   "id": "507bcf43",
   "metadata": {},
   "source": [
    "Myofiber and nuclei segmentation polygons are available in this dataset in the `annotGeometries` field. Myofibers were manually segmented, and nuclei were segmented with [`StarDist`](https://github.com/stardist/stardist) trained with a manually segmented subset. "
   ]
  },
  {
   "cell_type": "code",
   "execution_count": null,
   "id": "b01ca919",
   "metadata": {},
   "outputs": [],
   "source": [
    "annotGeometryNames(sfe_tissue)"
   ]
  },
  {
   "cell_type": "markdown",
   "id": "65f7fd55",
   "metadata": {
    "lines_to_next_cell": 0
   },
   "source": [
    "### From myofibers and nuclei to Visium spots\n",
    "The `plotSpatialFeature()` function can also be used to plot attributes of geometries, i.e. the non-geometry columns in the `sf` data frames in the `rowGeometries`, `colGeometries`, or `annotGeometries` fields of the SFE object. For `rowGeometries` and `colGeometries`, such columns which are associated with the `sf` data frames rather than `rowData` or `colData`, are allowed because one can specify how these columns associate with the geometries (see [`st_agr`](https://r-spatial.github.io/sf/reference/st_agr.html) and [documentation of `st_sf`](https://r-spatial.github.io/sf/reference/sf.html#details-1)). When an attribute of an `annotGeometry` is plotted along side gene expression or `colData` or `colGeometry` attribute, the `annotGeometry` attribute is plotted with a different color palette to distinguish it from the column associated values. \n",
    "\n",
    "The myofiber polygons from `annotGeometries` can be plotted as shown below, colored by cross section area as observed in the tissue section. The `aes_use` argument is set to `color` rather than `fill` (default for polygons) to only plot the Visium spot outlines to make the myofiber polygons more visible. The `fill` argument is set to `NA` to make the Visium spots look hollow, and the `size` argument controls the thickness of the outlines. The `annot_aes` argument specifies which column in the `annotGeometry` to use to specify the values of an aesthstic, just like `aes` in `ggplot2` (`aes_string` to be precise, since `tidyeval` is not used here). The `annot_fixed` argument (not used here) can set the fixed size, alpha, color, and etc. for the `annotGeometry`. "
   ]
  },
  {
   "cell_type": "code",
   "execution_count": null,
   "id": "4507932c",
   "metadata": {
    "fig.alt": "Plot of Visium spots in tissue and myofiber polygons in physical space. Visium spots are colored by nCounts, and myofibers are colored by area."
   },
   "outputs": [],
   "source": [
    "plotSpatialFeature(sfe_tissue, features = \"nCounts\", \n",
    "                   colGeometryName = \"spotPoly\",\n",
    "                   annotGeometryName = \"myofiber_simplified\", \n",
    "                   aes_use = \"color\", linewidth = 0.5, fill = NA,\n",
    "                   annot_aes = list(fill = \"area\"))"
   ]
  },
  {
   "cell_type": "markdown",
   "id": "60d252a3",
   "metadata": {
    "lines_to_next_cell": 0
   },
   "source": [
    "The larger myofibers seem to have fewer total counts, possibly because the larger size of these myofibers dilutes the transcripts. This hints at the need for a normalization procedure.\n",
    "\n",
    "With `SpatialFeatureExperiment`, we can find the number of myofibers and nuclei that intersect each Visium spot. The predicate can be [anything implemented in `sf`](https://r-spatial.github.io/sf/reference/geos_binary_pred.html), so for example, the number of nuclei fully covered by each Visium spot can also be found. The default predicate is `st_intersects()`."
   ]
  },
  {
   "cell_type": "code",
   "execution_count": null,
   "id": "6c9bd822",
   "metadata": {},
   "outputs": [],
   "source": [
    "colData(sfe_tissue)$n_myofibers <- \n",
    "  annotNPred(sfe_tissue, colGeometryName = \"spotPoly\",\n",
    "             annotGeometryName = \"myofiber_simplified\")"
   ]
  },
  {
   "cell_type": "code",
   "execution_count": null,
   "id": "5649eaca",
   "metadata": {
    "fig.alt": "Plot of Visium spots in tissue in physical space, colored by number of myofibers intersecting each spot.",
    "fig.height": 4,
    "fig.width": 8
   },
   "outputs": [],
   "source": [
    "plotSpatialFeature(sfe_tissue, features = \"n_myofibers\", \n",
    "                   colGeometryName = \"spotPoly\", image = \"lowres\", color = \"black\",\n",
    "                   linewidth = 0.1)"
   ]
  },
  {
   "cell_type": "markdown",
   "id": "a5954163",
   "metadata": {
    "lines_to_next_cell": 0
   },
   "source": [
    "There is no one-to-one mapping between Visium spots and myofibers. However, we can relate attributes of myofibers to gene expression detected at the Visium spots. One way to do so is to summarize the attributes of all myofibers that intersect (or choose another better predicate implemented in `sf`) each spot, such as to calculate the mean, median, or sum. This can be done with the `annotSummary()` function in `SpatialFeatureExperiment`. The default predicate is `st_intersects()`, and the default summary function is `mean()`."
   ]
  },
  {
   "cell_type": "code",
   "execution_count": null,
   "id": "ef294616",
   "metadata": {},
   "outputs": [],
   "source": [
    "colData(sfe_tissue)$mean_myofiber_area <- \n",
    "  annotSummary(sfe_tissue, \"spotPoly\", \"myofiber_simplified\", \n",
    "               annotColNames = \"area\")[,1] # it always returns a data frame"
   ]
  },
  {
   "cell_type": "code",
   "execution_count": null,
   "id": "4b274e60",
   "metadata": {
    "fig.alt": "Plot of Visium spots in tissue in physical space, colored by the average area of myofibers that intersect each spot. The average area is higher near the mid-top right part of the tissue."
   },
   "outputs": [],
   "source": [
    "# The gray spots don't intersect any myofiber\n",
    "plotSpatialFeature(sfe_tissue, \"mean_myofiber_area\", \"spotPoly\", image = \"lowres\", \n",
    "                   color = \"black\", linewidth = 0.1)"
   ]
  },
  {
   "cell_type": "markdown",
   "id": "a7ddfdc1",
   "metadata": {
    "lines_to_next_cell": 0
   },
   "source": [
    "This reveals the relationship between the mean area of myofibers intersecting each Visium spot and other aspects of the spots, such as total counts and gene expression.\n",
    "\n",
    "The NAs designate spots not intersecting any myofibers, e.g. those in the inflammatory region. \n",
    "\n",
    "In the [Basic Visium vignette](https://pachterlab.github.io/Voyager/articles/vig2_visium_basic.html), we encountered two mysterious branches and two clusters in the nGenes vs. nCounts plot and the proportion of mitochondrial counts vs. nCounts plot. Now we see that the two clusters seem to be related to myofiber size."
   ]
  },
  {
   "cell_type": "code",
   "execution_count": null,
   "id": "cdb5fc7e",
   "metadata": {},
   "outputs": [],
   "source": [
    "plotColData(sfe_tissue, x = \"nCounts\", y = \"nGenes\", colour_by = \"mean_myofiber_area\")"
   ]
  },
  {
   "cell_type": "code",
   "execution_count": null,
   "id": "81637bcd",
   "metadata": {},
   "outputs": [],
   "source": [
    "plotColData(sfe_tissue, x = \"nCounts\", y = \"prop_mito\", colour_by = \"mean_myofiber_area\")"
   ]
  },
  {
   "cell_type": "markdown",
   "id": "598e100c",
   "metadata": {
    "lines_to_next_cell": 0
   },
   "source": [
    "### Myofiber types\n",
    "Marker genes: Myh7 (Type I, slow twitch, aerobic), Myh2 (Type IIa, fast twitch, somewhat aerobic), Myh4 (Type IIb, fast twitch, anareobic), Myh1 (Type IIx, fast twitch, anaerobic), from [this protocol](https://www.ncbi.nlm.nih.gov/pmc/articles/PMC5526362/) [@Wang2017-li]"
   ]
  },
  {
   "cell_type": "code",
   "execution_count": null,
   "id": "2bdd4ef8",
   "metadata": {},
   "outputs": [],
   "source": [
    "markers <- c(I = \"Myh7\", IIa = \"Myh2\", IIb = \"Myh4\", IIx = \"Myh1\")"
   ]
  },
  {
   "cell_type": "markdown",
   "id": "45e4de95",
   "metadata": {
    "lines_to_next_cell": 0
   },
   "source": [
    "We can use the [gget search](https://pachterlab.github.io/gget/search.html) and [gget info](https://pachterlab.github.io/gget/info.html) modules from the [gget](https://pachterlab.github.io/gget/) package to get the Ensembl IDs and additional information (for example their [NCBI](https://www.ncbi.nlm.nih.gov/) description) for these marker genes:"
   ]
  },
  {
   "cell_type": "code",
   "execution_count": null,
   "id": "729e1118",
   "metadata": {},
   "outputs": [],
   "source": [
    "gget_search <- gget$search(list(\"Myh7\", \"Myh2\", \"Myh4\", \"Myh1\"), species=\"mouse\")\n",
    "gget_search <- gget_search[gget_search$gene_name %in% list(\"Myh7\", \"Myh2\", \"Myh4\", \"Myh1\"), ]\n",
    "gget_search"
   ]
  },
  {
   "cell_type": "code",
   "execution_count": null,
   "id": "fd5e7ae3",
   "metadata": {},
   "outputs": [],
   "source": [
    "gget_info <- gget$info(gget_search$ensembl_id)\n",
    "\n",
    "rownames(gget_info) <- gget_info$primary_gene_name\n",
    "select(gget_info, ncbi_description)"
   ]
  },
  {
   "cell_type": "markdown",
   "id": "254d824f",
   "metadata": {
    "lines_to_next_cell": 0
   },
   "source": [
    "We first examine the Type I myofibers. This is a fast twitch muscle, so we don't expect many slow twitch Type I myofibers. Row names in `sfe_tissue` are Ensembl IDs in order to avoid ambiguity as sometimes multiple Ensembl IDs have the same gene symbol and some genes have aliases. However, gene symbols are shorter and more human readable than Ensembl IDs, and are better suited to display on plots.  In the `plotSpatialFeature()` function and other functions in `Voyager`, even when the row names are recorded as Ensembl IDs, the `features` argument can take gene symbols if there is a column called \"symbols\" in `rowData(sfe)`, where the function converts the gene symbols to Ensembl IDs. By default, gene symbols are shown on the plot, but the `show_symbol` argument can be set to `FALSE` to show Ensembl IDs instead. If one gene symbol matches multiple Ensembl IDs in the dataset, then a warning will be given.\n",
    "\n",
    "The `exprs_values` argument specifies the assay to use, which is by default \"logcounts\", i.e. the log normalized data. This default may or may not be suitable in practice given that total UMI counts may have biological relevance in spatial data. Therefore, we plot both the raw counts and the log normalized counts:"
   ]
  },
  {
   "cell_type": "code",
   "execution_count": null,
   "id": "ed775b8f",
   "metadata": {},
   "outputs": [],
   "source": [
    "# Function specific for this vignette, with some hard coded values\n",
    "plot_counts_logcounts <- function(sfe, feature) {\n",
    "  p1 <- plotSpatialFeature(sfe, feature, \"spotPoly\",\n",
    "                   annotGeometryName = \"myofiber_simplified\", \n",
    "                   annot_aes = list(fill = \"area\"), show_symbol = TRUE, \n",
    "                   exprs_values = \"counts\", aes_use = \"color\", linewidth = 0.5,\n",
    "                   fill = NA) +\n",
    "    ggtitle(\"Raw counts\")\n",
    "  p2 <- plotSpatialFeature(sfe, feature, \"spotPoly\",\n",
    "                   annotGeometryName = \"myofiber_simplified\", \n",
    "                   annot_aes = list(fill = \"area\"), show_symbol = TRUE, \n",
    "                   exprs_values = \"logcounts\", aes_use = \"color\", linewidth = 0.5,\n",
    "                   fill = NA) +\n",
    "    ggtitle(\"Log normalized counts\")\n",
    "  p1 + p2 +\n",
    "    plot_annotation(title = feature)\n",
    "}"
   ]
  },
  {
   "cell_type": "code",
   "execution_count": null,
   "id": "f6fb2143",
   "metadata": {
    "fig.alt": "Raw and log normalized counts of Myh7, marker gene of type I myofiber, plotted side by side on Visium spots in space, with myofiber polygons colored by myofiber cross section area plotted in the background. Visium spots expressing Myh7 concentrate in the lower left part of the tissue where the myofibers tend to be smaller."
   },
   "outputs": [],
   "source": [
    "plot_counts_logcounts(sfe_tissue, markers[\"I\"])"
   ]
  },
  {
   "cell_type": "markdown",
   "id": "461eafaf",
   "metadata": {
    "lines_to_next_cell": 0
   },
   "source": [
    "A marker gene for type IIa myofibers is shown above. It is straightforward to modify the plotting to display markers for type IIb and type IIx myofibers:"
   ]
  },
  {
   "cell_type": "code",
   "execution_count": null,
   "id": "da10f4c9",
   "metadata": {
    "fig.alt": "Raw and log normalized counts of Myh2, a marker gene of type IIa myofiber, plotted side by side on Visium spots in space, with myofiber polygons colored by myofiber cross section area plotted in the background. Visium spots expressing Myh2 concentrate in the lower left and upper left parts of the tissue where the myofibers tend to be smaller. Log normalized counts show a wider region with higher expression."
   },
   "outputs": [],
   "source": [
    "plot_counts_logcounts(sfe_tissue, markers[\"IIa\"])"
   ]
  },
  {
   "cell_type": "markdown",
   "id": "292c7af1",
   "metadata": {
    "lines_to_next_cell": 0
   },
   "source": [
    "Type IIa myofibers also tend to be clustered together on left side of the tissue.\n",
    "\n",
    "As SFE inherits from SCE, the non-spatial EDA plots from the `scater` package can also be used:"
   ]
  },
  {
   "cell_type": "code",
   "execution_count": null,
   "id": "0597e834",
   "metadata": {
    "fig.alt": "Scatter plot of mean area of myofibers intersecting each Visium spot in the x axis and proportion of mitochondrially encoded counts per spot in the y axis, with points colored by expression of Myh2."
   },
   "outputs": [],
   "source": [
    "plotColData(sfe_tissue, x = \"mean_myofiber_area\", y = \"prop_mito\", \n",
    "            colour_by = markers[\"IIa\"], by_exprs_values = \"logcounts\", \n",
    "            swap_rownames = \"symbol\")"
   ]
  },
  {
   "cell_type": "markdown",
   "id": "1ef295d7",
   "metadata": {},
   "source": [
    "Plotting proportion of mitochondrial counts vs. mean myofiber area, we see two clusters, one with higher proportion of mitochondrial counts and smaller area, and another with lower proportion of mitochondrial counts and on average slightly larger area. Type IIa myofibers tend to have smaller area and a larger proportion of mitochondrial counts.\n",
    "\n",
    "# Spatial neighborhood graphs\n",
    "A spatial neighborhood graph is required to compute spatial dependency metrics such as Moran's I and Geary's C. The `SpatialFeatureExperiment` package wraps methods in `spdep` to find spatial neighborhood graphs, which are stored within the SFE object (see `spdep` documentation for `gabrielneigh()`, `knearneigh()`, `poly2nb()`, and `tri2nb()`). The `Voyager` package then uses these graphs for spatial dependency analyses, again based on `spdep` in this first version, but methods from other geospatial packages, some of which also use the spatial neighborhood graphs, may be added later.\n",
    "\n",
    "For Visium, where the spots are in a hexagonal grid, the spatial neighborhood graph is straightforward. However, for spatial technologies with single cell resolution, e.g. MERFISH, different methods can be used to find the spatial neighborhood graph. In this example, the method \"poly2nb\" was used for myofibers, and it identifies myofiber polygons that physically touch each other. `zero.policy = TRUE` will allow for singletons, i.e. nodes without neighbors in the graph; in the inflamed region, there are more singletons. We have not yet benchmarked spatial neighborhood construction methods to determine which is the \"best\" for different technologies; the particular method used here is for demonstration purposes and may not be the best in practice: "
   ]
  },
  {
   "cell_type": "code",
   "execution_count": null,
   "id": "9ac26c35",
   "metadata": {},
   "outputs": [],
   "source": [
    "colGraph(sfe_tissue, \"visium\") <- findVisiumGraph(sfe_tissue)\n",
    "annotGraph(sfe_tissue, \"myofiber_poly2nb\") <- \n",
    "  findSpatialNeighbors(sfe_tissue, type = \"myofiber_simplified\", MARGIN = 3,\n",
    "                       method = \"poly2nb\", zero.policy = TRUE)"
   ]
  },
  {
   "cell_type": "markdown",
   "id": "3cb328df",
   "metadata": {
    "lines_to_next_cell": 0
   },
   "source": [
    "The `plotColGraph()` function plots the graph in space associated with a `colGeometry`, along with the geometry of interest."
   ]
  },
  {
   "cell_type": "code",
   "execution_count": null,
   "id": "6ac90357",
   "metadata": {
    "fig.alt": "Spatial neighborhood graph of Visium spots that intersect tissue."
   },
   "outputs": [],
   "source": [
    "plotColGraph(sfe_tissue, colGraphName = \"visium\", colGeometryName = \"spotPoly\") +\n",
    "    theme_void()"
   ]
  },
  {
   "cell_type": "markdown",
   "id": "17d68832",
   "metadata": {
    "lines_to_next_cell": 0
   },
   "source": [
    "Similarly, the `plotAnnotGraph()` function plots the graph associated with an `annotGeometry`, along with the geometry of interest. "
   ]
  },
  {
   "cell_type": "code",
   "execution_count": null,
   "id": "e9c4110f",
   "metadata": {
    "fig.alt": "Spatial neighborhood graph of myofibers, where each edge connects two myofibers that touch."
   },
   "outputs": [],
   "source": [
    "plotAnnotGraph(sfe_tissue, annotGraphName = \"myofiber_poly2nb\", \n",
    "               annotGeometryName = \"myofiber_simplified\") + theme_void()"
   ]
  },
  {
   "cell_type": "markdown",
   "id": "167b4ae3",
   "metadata": {
    "lines_to_next_cell": 0
   },
   "source": [
    "There is no `plotRowGraph` yet since we haven't worked with a dataset where spatial graphs related to genes are relevant, although the SFE object supports row graphs.\n",
    "\n",
    "# Exploratory _spatial_ data analysis\n",
    "All spatial autocorrelation metrics in this package can be computed directly on a vector or a matrix rather than an SFE object. The user interface emulates those of dimension reductions in the `scater` package (e.g. `calculateUMAP()` that takes in a matrix or SCE object and returns a matrix, and `runUMAP()` that takes in an SCE object and adds the results to the `reducedDims` field of the SCE object). So `calculate*` functions take in a matrix or an SFE object and directly return the results (format of the results depends on the structure of the results), while `run*` functions take in an SFE object and add the results to the object. In addition, `colData*` functions compute the metrics for numeric variables in `colData`. `colGeometry*` functions compute the metrics for numeric columns in a `colGeometry`. `annotGeometry*` functions compute the metrics for numeric columns in a `annotGeometry`. \n",
    "\n",
    "# Univariate global\n",
    "`Voyager` supports many univariate global spatial autocorrelation implemented in `spdep` for ESDA: Moran's I and Geary's C, permutation testing for Moran's I and Geary's C, Moran plot, and correlograms. In addition, beyond `spdep`, `Voyager` can cluster Moran plots and correlograms. Plotting functions taking in SFE objects are implemented to plot the results with `ggplot2` and with more customization options than `spdep` plotting functions. The functions `calculateUnivariate()`, `runUnivariate()`, `colDataUnivariate()`, `colGeometryUnivariate()`, and `annotGeometryUnivariate()` compute univariate spatial statistics. The argument `type`, which indicates the corresponding function names in `spdep`, determines which spatial statistics are computed. \n",
    "\n",
    "All univariate global methods in `Voyager` are listed here:"
   ]
  },
  {
   "cell_type": "code",
   "execution_count": null,
   "id": "8af930a1",
   "metadata": {},
   "outputs": [],
   "source": [
    "listSFEMethods(variate = \"uni\", scope = \"global\")"
   ]
  },
  {
   "cell_type": "markdown",
   "id": "4468f443",
   "metadata": {
    "lines_to_next_cell": 0
   },
   "source": [
    "When calling `calculate*variate()` or `run*variate()`, the `type` (2nd) argument takes either an `SFEMethod` object (see `SFEMethod()` and [vignette on `SFEMethod`](https://pachterlab.github.io/voyager/articles/sfemethod.html)) or a string that matches an entry in the `name` column in the data frame returned by `listSFEMethods()`.\n",
    "\n",
    "To demonstrate spatial autocorrelation in gene expression, top highly variable genes (HVGs) are used. The HVGs are found with the `scran` method."
   ]
  },
  {
   "cell_type": "code",
   "execution_count": null,
   "id": "4c2713b6",
   "metadata": {},
   "outputs": [],
   "source": [
    "dec <- modelGeneVar(sfe_tissue)\n",
    "hvgs <- getTopHVGs(dec, n = 50)"
   ]
  },
  {
   "cell_type": "markdown",
   "id": "c0027e14",
   "metadata": {
    "lines_to_next_cell": 0
   },
   "source": [
    "A global statistic yields one result for the entire dataset.\n",
    "\n",
    "## Moran's I\n",
    "There are several ways to quantify spatial autocorrelation, the most common of which is Moran's I:\n",
    "\n",
    "$$\n",
    "I = \\frac{n}{\\sum_{i=1}^n \\sum_{j=1}^n w_{ij}} \\frac{\\sum_{i=1}^n \\sum_{j=1}^n w_{ij} (x_i - \\bar{x})(x_j - \\bar{x})}{\\sum_{i=1}^n (x_i - \\bar{x})^2},\n",
    "$$\n",
    "\n",
    "where $n$ is the number of spots or locations, $i$ and $j$ are different locations, or spots in the Visium context, $x$ is a variable with values at each location, and $w_{ij}$ is a spatial weight, which can be inversely proportional to distance between spots or an indicator of whether two spots are neighbors, subject to various definitions of neighborhood and whether to normalize the number of neighbors. The [`spdep`](https://r-spatial.github.io/spdep/index.html) package uses the neighborhood. \n",
    "\n",
    "Moran's I can be understood as the Pearson correlation between the value at each location and the average value at its neighbors. Just like Pearson correlation, Moran's I is generally bound between -1 and 1, where positive value indicates positive spatial autocorrelation and negative value indicates negative spatial autocorrelation. \n",
    "\n",
    "Upon visual inspection, total UMI counts per spot seem to have spatial autocorrelation. A spatial neighborhood graph is required to compute Moran's I, and is specified with the `listw` argument. \n",
    "\n",
    "For matrices, the rows are the features, as in the gene count matrix."
   ]
  },
  {
   "cell_type": "code",
   "execution_count": null,
   "id": "684f854e",
   "metadata": {},
   "outputs": [],
   "source": [
    "# Directly use vector or matrix, and multiple features can be specified at once\n",
    "calculateUnivariate(t(colData(sfe_tissue)[,c(\"nCounts\", \"nGenes\")]), \n",
    "                    type = \"moran\",\n",
    "                    listw = colGraph(sfe_tissue, \"visium\"))"
   ]
  },
  {
   "cell_type": "markdown",
   "id": "041dc5e0",
   "metadata": {
    "lines_to_next_cell": 0
   },
   "source": [
    "\"moran\" is Moran's I, and K is sample kurtosis.\n",
    "\n",
    "To add the results to the SFE object, specifically for colData:"
   ]
  },
  {
   "cell_type": "code",
   "execution_count": null,
   "id": "9df6da36",
   "metadata": {},
   "outputs": [],
   "source": [
    "sfe_tissue <- colDataUnivariate(sfe_tissue, features = c(\"nCounts\", \"nGenes\"),\n",
    "                                colGraphName = \"visium\", type = \"moran\")\n",
    "colFeatureData(sfe_tissue)[c(\"nCounts\", \"nGenes\"),]"
   ]
  },
  {
   "cell_type": "markdown",
   "id": "b3cdc243",
   "metadata": {
    "lines_to_next_cell": 0
   },
   "source": [
    "For `colData`, the results are added to `colFeatureData(sfe)`, and features for which Moran's I is not calculated have NA. The column names of `featureData` distinguishes between different samples (there's only one sample in this dataset), and are parsed by plotting functions. \n",
    "\n",
    "To add the results to the SFE object, specifically for geometries: Here \"area\" is the area of the cross section of each myofiber as seen in this tissue section and \"eccentricity\" is the eccentricity of the ellipse fitted to each myofiber."
   ]
  },
  {
   "cell_type": "code",
   "execution_count": null,
   "id": "6ffdae9d",
   "metadata": {},
   "outputs": [],
   "source": [
    "# Remember zero.policy = TRUE since there're singletons\n",
    "sfe_tissue <- annotGeometryUnivariate(sfe_tissue, type = \"moran\",\n",
    "                                      features = c(\"area\", \"eccentricity\"), \n",
    "                                      annotGeometryName = \"myofiber_simplified\",\n",
    "                                      annotGraphName = \"myofiber_poly2nb\", \n",
    "                                      zero.policy = TRUE)\n",
    "head(attr(annotGeometry(sfe_tissue, \"myofiber_simplified\"), \"featureData\"))"
   ]
  },
  {
   "cell_type": "markdown",
   "id": "e9c8c747",
   "metadata": {
    "lines_to_next_cell": 0
   },
   "source": [
    "For a non-geometry column in a `colGeometry`, `colGeometryUnivariate()` is like `annotGeometryUnivariate()` here, but none of the `colGeometries` in this dataset has extra columns.\n",
    "\n",
    "For gene expression, the `logcounts` assay is used by default (use the `exprs_values` argument to change the assay), though this may or may not be best practice. If the metrics are computed for a large number of features, parallel computing is supported, with [`BiocParallel`](https://bioconductor.org/packages/release/bioc/html/BiocParallel.html), with the `BPPARAM` argument."
   ]
  },
  {
   "cell_type": "code",
   "execution_count": null,
   "id": "f7167349",
   "metadata": {},
   "outputs": [],
   "source": [
    "sfe_tissue <- runUnivariate(sfe_tissue, type = \"moran\", features = hvgs, \n",
    "                            colGraphName = \"visium\", \n",
    "                            BPPARAM = MulticoreParam(2))\n",
    "rowData(sfe_tissue)[head(hvgs),]"
   ]
  },
  {
   "cell_type": "markdown",
   "id": "1fe5d431",
   "metadata": {
    "lines_to_next_cell": 0
   },
   "source": [
    "## Geary's C\n",
    "Another spatial autocorrelation metric is Geary's C, defined as:\n",
    "\n",
    "$$\n",
    "C = \\frac{(n-1)}{2\\sum_{i=1}^n \\sum_{j=1}^n w_{ij}} \\frac{\\sum_{i=1}^n \\sum_{j=1}^n w_{ij}(x_i - x_j)^2}{{\\sum_{i=1}^n (x_i - \\bar{x})^2}}\n",
    "$$\n",
    "\n",
    "Geary's C  below 1 indicates positive spatial autocorrelation, and above 1 indicates negative spatial autocorrelation.\n",
    "\n",
    "To compute Geary's C for features of interest replace `type = \"moran\"` in the previous section with `type = \"geary\"`, and add the results to the SFE object. For example, for `colData`"
   ]
  },
  {
   "cell_type": "code",
   "execution_count": null,
   "id": "2b628b93",
   "metadata": {},
   "outputs": [],
   "source": [
    "sfe_tissue <- colDataUnivariate(sfe_tissue, features = c(\"nCounts\", \"nGenes\"),\n",
    "                                colGraphName = \"visium\", type = \"geary\")\n",
    "colFeatureData(sfe_tissue)[c(\"nCounts\", \"nGenes\"),]"
   ]
  },
  {
   "cell_type": "markdown",
   "id": "dc1b56b0",
   "metadata": {
    "lines_to_next_cell": 0
   },
   "source": [
    "There's only one column for K since it's the same for Moran's I and Geary's C. Here both Moran's I and Geary's C suggest positive spatial autocorrelation for `nCounts` and `nGenes`.\n",
    "\n",
    "Other univariate global methods, including permutation testing for Moran's I and Geary's C, correlograms, and Moran scatter plot can also be called with functions such as `runUnivariate`, by specifying the `type` argument. See documentation of `runUnivariate` to see the available methods and see documentation of the corresponding `spdep` functions to see the extra arguments required for each method.\n",
    "\n",
    "## Permutation testing\n",
    "To establish whether the spatial autocorrelation is statistically significant, the `moran.test()` function in `spdep` can be used. It provides a p-value, but the p-value may not be accurate if the data is not normally distributed. As gene expression data is generally not normally distributed and data normalization doesn't always work well, we use permutation testing to test the significance of Moran's I and Geary's C, wrapping `moran.mc()` in `spdep`. The \"mc\" stands for Monte Carlo. The `nsim` argument specifies the number of simulations. \n",
    "\n",
    "The following adds the results to the SFE object:"
   ]
  },
  {
   "cell_type": "code",
   "execution_count": null,
   "id": "c8253a18",
   "metadata": {},
   "outputs": [],
   "source": [
    "set.seed(29)\n",
    "sfe_tissue <- colDataUnivariate(sfe_tissue, features = c(\"nCounts\", \"nGenes\"), \n",
    "                                colGraphName = \"visium\", nsim = 1000,\n",
    "                                type = \"moran.mc\")\n",
    "colFeatureData(sfe_tissue)[c(\"nCounts\", \"nGenes\"),]"
   ]
  },
  {
   "cell_type": "markdown",
   "id": "09d59cd4",
   "metadata": {
    "lines_to_next_cell": 0
   },
   "source": [
    "Note that while the test is performed for multiple features, the p-values here are not corrected for multiple hypothesis testing.\n",
    "\n",
    "The results can be plotted:"
   ]
  },
  {
   "cell_type": "code",
   "execution_count": null,
   "id": "43f2c673",
   "metadata": {
    "fig.alt": "Density plot of Moran's I values from 1000 simulations of nCounts and nGenes. The density plots center around 0 and deminish around 0.06 on the right. Vertical lines mark the actual Moran's I. For both nCounts and nGenes, the actual value, at 0.53 and 0.38 respectively, is far higher than the simulated ones, indicating positive spatial autocorrelation."
   },
   "outputs": [],
   "source": [
    "plotMoranMC(sfe_tissue, c(\"nCounts\", \"nGenes\"))"
   ]
  },
  {
   "cell_type": "markdown",
   "id": "1ab3c0c2",
   "metadata": {},
   "source": [
    "By default, the colorblind friendly palette from [`dittoSeq`](https://bioconductor.org/packages/release/bioc/html/dittoSeq.html) is used for categorical variables. The density plot is of Moran's I from the simulations where the values are permuted and disconnected from spatial locations, and the vertical line is the actual Moran's I value. The simulation indicates that the actual Moran's I is much higher than that from the simulations where the values are dissociated from spatial locations and permuted among the locations, indicating that spatial autocorrelation is very significant. \n",
    "\n",
    "Use `type = \"geary.mc\"` for permutation testing for Geary's C.\n",
    "\n",
    "The `spdep` package can also compute p-values of Moran's I analytically, but the theory behind the mean and variance of the null distribution of Moran's I assumes normal distribution of the data, while gene expression data is generally non-normal. However, according to [@Griffith2010-uy], with large sample size (\"preferably at least 100\"), mean and variance of Moran's I of several iid non-normal simulated datasets (including negative binomial, which is commonly used to model gene expression data) don't seem to deviate much from the values expected from normally distributed data. Spatial transcriptomics datasets typically have thousands or more spots or cells, so sample size is most likely large enough. Hence using the analytical test on non-normal data might not be too bad. However, with large sample size, a minuscule difference can create very significant p-values. Here we perform the analytical test for Moran's I:"
   ]
  },
  {
   "cell_type": "code",
   "execution_count": null,
   "id": "205a7482",
   "metadata": {},
   "outputs": [],
   "source": [
    "sfe_tissue <- colDataUnivariate(sfe_tissue, features = c(\"nCounts\", \"nGenes\"), \n",
    "                                colGraphName = \"visium\", type = \"moran.test\")\n",
    "names(colFeatureData(sfe_tissue))"
   ]
  },
  {
   "cell_type": "markdown",
   "id": "b864ca1c",
   "metadata": {},
   "source": [
    "Now compare the p-values from permutation and analytical test; in both cases here, the default alternative hypothesis is positive spatial autocorrelation:"
   ]
  },
  {
   "cell_type": "code",
   "execution_count": null,
   "id": "2dfd47be",
   "metadata": {},
   "outputs": [],
   "source": [
    "# permutation\n",
    "colFeatureData(sfe_tissue)[c(\"nCounts\", \"nGenes\"), c(\"moran.mc_p.value_Vis5A\", \"moran.test_p.value_Vis5A\")]"
   ]
  },
  {
   "cell_type": "markdown",
   "id": "096d178b",
   "metadata": {
    "lines_to_next_cell": 0
   },
   "source": [
    "The p-values from permutation are limited by the number of permutations (1000 here). Either way, both permutation and analytical tests indicate very significant positive spatial autocorrelation.\n",
    "\n",
    "A limitation of permutation testing of Moran's I is that it assumes that each permutation of the values among the locations is equally likely, which is not necessarily true. For instance, in epidemiology, disease rate in regions with small population more likely assumes more extreme values [@Assuncao1999-xu], which is analogous to rare cell types and lowly expressed genes in histological space given that we divide by total UMI counts per spot. The extent this happens may depend on tissue, gene of interest, technology, and data normalization method.\n",
    "\n",
    "## Correlogram\n",
    "In a correlogram, spatial autocorrelation of higher orders of neighbors (e.g. second order neighbors are neighbors of neighbors) is calculated to see how it decays over the orders. In Visium, with the regular hexagonal grid, order of neighbors is a proxy for distance. For more irregular patterns such as single cells, different methods to find the spatial neighbors may give different results. \n",
    "\n",
    "For `colData`, Moran's I correlogram is computed with"
   ]
  },
  {
   "cell_type": "code",
   "execution_count": null,
   "id": "4570831e",
   "metadata": {},
   "outputs": [],
   "source": [
    "sfe_tissue <- runUnivariate(sfe_tissue, hvgs[1:2], colGraphName = \"visium\", \n",
    "                            order = 10, type = \"sp.correlogram\")"
   ]
  },
  {
   "cell_type": "markdown",
   "id": "ed47be93",
   "metadata": {
    "lines_to_next_cell": 0
   },
   "source": [
    "The results can be plotted with `plotCorrelogram`:"
   ]
  },
  {
   "cell_type": "code",
   "execution_count": null,
   "id": "45847cd4",
   "metadata": {
    "fig.alt": "Line plot with order of neighbors (lags) in the x axis and Moran's I value at each lag in the y axis. The x axis ranges from 1 to 10, and the y axis ranges from 0 to 0.8. The lines show trends of decay of spatial autocorrelation with increasing distance of neighbors. Two genes, Car3 and Mb, are shown. Moran's I of both genes decay somewhat linearly from lag 1 to 10. Car3 decays from around 0.75 to around 0.23. Mb decays from around 0.7 to around 0.13. At each lag the error bars are tight (see next paragraph in the main text) and the p-values are less than 0.001 after Benjamini-Hochberg multiple testing correction over the 2 genes and 10 lags."
   },
   "outputs": [],
   "source": [
    "plotCorrelogram(sfe_tissue, hvgs[1:2], swap_rownames = \"symbol\")"
   ]
  },
  {
   "cell_type": "markdown",
   "id": "39c0dfcf",
   "metadata": {
    "lines_to_next_cell": 0
   },
   "source": [
    "The error bars are twice the standard deviation of the Moran's I value. The standard deviation and p-values (null hypothesis is that Moran's I is 0) come from `moran.test()` (for Geary's C correlogram, `geary.test()`); these should be taken with a grain of salt for data that is not normally distributed. The p-values have been corrected for multiple hypothesis testing across all orders and features. As usual, . means p < 0.1, \\* means p < 0.05, \\*\\* means p < 0.01, and \\*\\*\\* means p < 0.001. \n",
    "\n",
    "Again, this can be done for Geary's C, `colData`, `annotGeometry`, and etc.\n",
    "\n",
    "# Univariate local\n",
    "Local statistics yield a result at each location rather than the whole dataset, while global statistics may obscure local heterogeneity. See [@Fotheringham2009-ak] for an interesting discussion of relationships between global and local spatial statistics. Local statistics are stored in the `localResults` field of the SFE object, which can be accessed by the `localResult()` or `localResults()` functions in the `SpatialFeatureExperiment` package.\n",
    "\n",
    "All univariate local methods in `Voyager` are listed here:"
   ]
  },
  {
   "cell_type": "code",
   "execution_count": null,
   "id": "8084edc2",
   "metadata": {
    "lines_to_next_cell": 2
   },
   "outputs": [],
   "source": [
    "listSFEMethods(variate = \"uni\", scope = \"local\")"
   ]
  },
  {
   "cell_type": "markdown",
   "id": "cd95ca43",
   "metadata": {
    "lines_to_next_cell": 0
   },
   "source": [
    "## Moran scatter plot\n",
    "In the Moran scatter plot [@Anselin1996-mo], the x axis is the value at a spot, and the y axis is the average value of the neighbors. The slope of the fitted line is Moran's I. Sometimes clusters appear in this plot, showing different kinds of neighborhoods. \n",
    "\n",
    "For gene expression, to use one gene (log normalized value) to demonstrate:"
   ]
  },
  {
   "cell_type": "code",
   "execution_count": null,
   "id": "8d7aaa6c",
   "metadata": {},
   "outputs": [],
   "source": [
    "sfe_tissue <- runUnivariate(sfe_tissue, \"Myh2\", colGraphName = \"visium\", \n",
    "                            type = \"moran.plot\", swap_rownames = \"symbol\")"
   ]
  },
  {
   "cell_type": "code",
   "execution_count": null,
   "id": "03fadf52",
   "metadata": {
    "fig.alt": "Moran scatter plot of log normalized values of gene Myh2. This plot is described in the upcoming main text."
   },
   "outputs": [],
   "source": [
    "moranPlot(sfe_tissue, \"Myh2\", graphName = \"visium\", swap_rownames = \"symbol\")"
   ]
  },
  {
   "cell_type": "markdown",
   "id": "fa7b1898",
   "metadata": {},
   "source": [
    "The dashed lines mark the mean in Myh2 and spatially lagged Myh2. There are no singletons here. Some Visium spots with lower Myh2 expression have neighbors that don't express Myh2 but spots that don't express Myh2 usually have at least some neighbors that do. There are twp main clusters for spots whose neighbors do express Myh2: those with high (above average) expression whose neighbors also have high expression, and those with low expression whose neighbors also have low expression. Other features may show different kinds of clusters. We can use k-means clustering to identify clusters, though any clustering method supported by the `bluster` package can be used."
   ]
  },
  {
   "cell_type": "code",
   "execution_count": null,
   "id": "ea8a2b2b",
   "metadata": {},
   "outputs": [],
   "source": [
    "set.seed(29)\n",
    "clusts <- clusterMoranPlot(sfe_tissue, \"Myh2\", BLUSPARAM = KmeansParam(2),\n",
    "                           swap_rownames = \"symbol\")"
   ]
  },
  {
   "cell_type": "markdown",
   "id": "fd57d6f2",
   "metadata": {
    "lines_to_next_cell": 0
   },
   "source": [
    "We can use the [gget search](https://pachterlab.github.io/gget/search.html) module to get the Ensembl ID for Myh2:"
   ]
  },
  {
   "cell_type": "code",
   "execution_count": null,
   "id": "6912e6ee",
   "metadata": {},
   "outputs": [],
   "source": [
    "gget$search(\"Myh2\", species=\"mouse\")"
   ]
  },
  {
   "cell_type": "code",
   "execution_count": null,
   "id": "1e63865d",
   "metadata": {
    "fig.alt": "Moran scatter plot of log normalized value of Myh1, colored by 2 k-means clusters, which correspond to the high-high and low-low spots."
   },
   "outputs": [],
   "source": [
    "moranPlot(sfe_tissue, \"Myh2\", graphName = \"visium\", \n",
    "          color_by = clusts$ENSMUSG00000033196, swap_rownames = \"symbol\")"
   ]
  },
  {
   "cell_type": "markdown",
   "id": "b0bfed92",
   "metadata": {
    "lines_to_next_cell": 0
   },
   "source": [
    "Plot the clusters in space"
   ]
  },
  {
   "cell_type": "code",
   "execution_count": null,
   "id": "5012c95f",
   "metadata": {
    "fig.alt": "Visium spots in space colored by the k-means clusters. Cluster 2 (high-high) are mostly in the upper left and lower left parts of the tissue, and the rest of the spots are cluster 1."
   },
   "outputs": [],
   "source": [
    "colData(sfe_tissue)$Myh2_moranPlot_clust <- clusts$ENSMUSG00000033196\n",
    "plotSpatialFeature(sfe_tissue, \"Myh2_moranPlot_clust\", colGeometryName = \"spotPoly\",\n",
    "                   image = \"lowres\", color = \"black\", linewidth = 0.1)"
   ]
  },
  {
   "cell_type": "markdown",
   "id": "0f6be4ce",
   "metadata": {},
   "source": [
    "This can also be done for `colData`, `annotGeometry`, and etc. as in Moran's I and permutation testing. \n",
    "\n",
    "## Local Moran's I\n",
    "To recap, global Moran's I is defined as\n",
    "\n",
    "$$\n",
    "I = \\frac{n}{\\sum_{i=1}^n \\sum_{j=1}^n w_{ij}} \\frac{\\sum_{i=1}^n \\sum_{j=1}^n w_{ij} (x_i - \\bar{x})(x_j - \\bar{x})}{\\sum_{i=1}^n (x_i - \\bar{x})^2}.\n",
    "$$\n",
    "\n",
    "Local Moran's I [@Anselin1995-cs] is defined as\n",
    "\n",
    "$$\n",
    "I_i = (n-1)\\frac{(x_i - \\bar{x})\\sum_{j=1}^n w_{ij} (x_j - \\bar{x})}{\\sum_{i=1}^n (x_i - \\bar{x})^2}.\n",
    "$$\n",
    "\n",
    "It's similar to global Moran's I, but the values at locations $i$ are not summed and there's no normalization by the sum of spatial weights. "
   ]
  },
  {
   "cell_type": "code",
   "execution_count": null,
   "id": "3bb4e97c",
   "metadata": {},
   "outputs": [],
   "source": [
    "sfe_tissue <- runUnivariate(sfe_tissue, type = \"localmoran\", features = \"Myh2\",\n",
    "                            colGraphName = \"visium\", swap_rownames = \"symbol\")"
   ]
  },
  {
   "cell_type": "markdown",
   "id": "01ebd703",
   "metadata": {
    "lines_to_next_cell": 0
   },
   "source": [
    "It is useful to plot the log normalized Myh2 gene expression as context to interpret the local results:"
   ]
  },
  {
   "cell_type": "code",
   "execution_count": null,
   "id": "c41be6f6",
   "metadata": {},
   "outputs": [],
   "source": [
    "plotSpatialFeature(sfe_tissue, features = \"Myh2\", colGeometryName = \"spotPoly\",\n",
    "                   swap_rownames = \"symbol\", image_id = \"lowres\", color = \"black\",\n",
    "                   linewidth = 0.1)"
   ]
  },
  {
   "cell_type": "code",
   "execution_count": null,
   "id": "57038947",
   "metadata": {},
   "outputs": [],
   "source": [
    "plotLocalResult(sfe_tissue, \"localmoran\", features = \"Myh2\", \n",
    "                colGeometryName = \"spotPoly\",divergent = TRUE,\n",
    "                diverge_center = 0, image_id = \"lowres\", \n",
    "                swap_rownames = \"symbol\", color = \"black\",\n",
    "                linewidth = 0.1)"
   ]
  },
  {
   "cell_type": "markdown",
   "id": "dfc63440",
   "metadata": {},
   "source": [
    "We see that regions with higher Myh2 expression also have stronger spatial autocorrelation. It is interesting to see how spatial autocorrelation relates to gene expression level, much as finding how variance relates to mean in the expression of each gene, which usually indicates overdispersion compared to Poisson in scRNA-seq and Visium data:"
   ]
  },
  {
   "cell_type": "code",
   "execution_count": null,
   "id": "92a5c91d",
   "metadata": {},
   "outputs": [],
   "source": [
    "df <- data.frame(myh2 = logcounts(sfe_tissue)[rowData(sfe_tissue)$symbol == \"Myh2\",],\n",
    "                 Ii = localResult(sfe_tissue, \"localmoran\", \"Myh2\", \n",
    "                                  swap_rownames = \"symbol\")[,\"Ii\"])\n",
    "ggplot(df, aes(myh2, Ii)) + geom_point(alpha = 0.3) +\n",
    "    labs(x = \"Myh2 (log counts)\", y = \"localmoran\")"
   ]
  },
  {
   "cell_type": "markdown",
   "id": "e18ee6ae",
   "metadata": {
    "lines_to_next_cell": 0
   },
   "source": [
    "For this gene, Visium spots with higher expression also tend to have higher local Moran's I, but this may or may not apply to other genes.\n",
    "\n",
    "Local spatial analyses often return a matrix or data frame. The `plotLocalResult()` function has a default column for each local spatial method, but other columns can be plotted as well. Use the `localResultAttrs()` function to see which columns are present, and use the `attribute` argument to specify which column to plot."
   ]
  },
  {
   "cell_type": "code",
   "execution_count": null,
   "id": "cd439f70",
   "metadata": {},
   "outputs": [],
   "source": [
    "localResultAttrs(sfe_tissue, \"localmoran\", \"Myh2\", swap_rownames = \"symbol\")"
   ]
  },
  {
   "cell_type": "markdown",
   "id": "ab8cb84b",
   "metadata": {},
   "source": [
    "Some local spatial methods return p-values at each location, in a column with name like `Pr(z != E(Ii))`, where the test is two sided (default, can be changed with the `alternative` argument in `runUnivariate()` which is passed to the relevant underlying function in `spdep`). Negative log of the p-value is computed to facilitate visualization, and the p-value is corrected for multiple hypothesis testing with `p.adjustSP()` in `spdep`, where the number of tests is the number of neighbors of each location rather than the total number of locations (`-log10p_adj`)."
   ]
  },
  {
   "cell_type": "code",
   "execution_count": null,
   "id": "03ad114d",
   "metadata": {},
   "outputs": [],
   "source": [
    "plotLocalResult(sfe_tissue, \"localmoran\", features = \"Myh2\", \n",
    "                colGeometryName = \"spotPoly\", attribute = \"-log10p_adj\", divergent = TRUE,\n",
    "                diverge_center = -log10(0.05), swap_rownames = \"symbol\",\n",
    "                image_id = \"lowres\", color = \"black\",\n",
    "                linewidth = 0.1)"
   ]
  },
  {
   "cell_type": "markdown",
   "id": "f3656d20",
   "metadata": {
    "lines_to_next_cell": 0
   },
   "source": [
    "In this plot and all following plots of p-values, a divergent palette is used to show locations that are significant after adjusting for multiple testing and those that are not significant in different colors. The center of the divergent palette is p = 0.05, so the bluish spots are significant while a dark brown means _really_ not significant.\n",
    "\n",
    "The \"pysal\" column displays the quadrants relative to the means in the Moran plot. The result is similar to that from k-means clustering shown above."
   ]
  },
  {
   "cell_type": "code",
   "execution_count": null,
   "id": "f5fdc10c",
   "metadata": {},
   "outputs": [],
   "source": [
    "plotLocalResult(sfe_tissue, \"localmoran\", features = \"Myh2\", \n",
    "                colGeometryName = \"spotPoly\", attribute = \"pysal\", \n",
    "                swap_rownames = \"symbol\", image_id = \"lowres\", color = \"black\",\n",
    "                linewidth = 0.1)"
   ]
  },
  {
   "cell_type": "markdown",
   "id": "de6a6046",
=======
   "id": "f89bfd4a",
>>>>>>> 763a65aa00deab365d39bc26b2dcb2cc1410a666
||||||| cd53b20
<<<<<<< HEAD
   "id": "de077f54",
   "metadata": {
    "lines_to_next_cell": 0
   },
   "source": [
    "## Getis-Ord Gi\\*\n",
    "Getis-Ord Gi\\* is used to find hotspots and coldspots of a feature in space. A hotspot is a cluster of high values in space, and a coldspot is a cluster of low values in space. Getis-Ord Gi\\* is essentially the z-score of the spatially lagged value of the feature at each location $i$ ($\\sum_j w_{ij}x_j $), where $w_{ij}$ is the spatial weight. In the [original publication for Getis-Ord Gi\\* from 1992](https://onlinelibrary.wiley.com/doi/10.1111/j.1538-4632.1992.tb00261.x) [@Getis1992-fr], the spatial weight is a distance-based binary weight indicating whether another location is within a certain distance from each location $i$. Getis-Ord Gi excludes the location $i$ itself in the computation of mean and variance of the lagged value, while Gi\\* includes the location $i$ itself. Usually Gi and Gi\\* yield similar results. The mean and variance used in the z-score differ in Gi and Gi\\* and is described in [this paper from 1995](https://onlinelibrary.wiley.com/doi/10.1111/j.1538-4632.1995.tb00912.x) [@Ord1995-we] and derived in [@Getis1992-fr].\n",
    "\n",
    "Binary weights are recommended for Getis-Ord Gi\\*."
   ]
  },
  {
   "cell_type": "code",
   "execution_count": null,
   "id": "3ce68875",
   "metadata": {},
   "outputs": [],
   "source": [
    "colGraph(sfe_tissue, \"visium_B\") <- findVisiumGraph(sfe_tissue, style = \"B\")"
   ]
  },
  {
   "cell_type": "code",
   "execution_count": null,
   "id": "922c4ebd",
   "metadata": {},
   "outputs": [],
   "source": [
    "sfe_tissue <- runUnivariate(sfe_tissue, type = \"localG_perm\", features = \"Myh2\",\n",
    "                            colGraphName = \"visium_B\", include_self = TRUE,\n",
    "                            swap_rownames = \"symbol\")"
   ]
  },
  {
   "cell_type": "code",
   "execution_count": null,
   "id": "22f16467",
   "metadata": {},
   "outputs": [],
   "source": [
    "plotLocalResult(sfe_tissue, \"localG_perm\", features = \"Myh2\", \n",
    "                colGeometryName = \"spotPoly\", divergent = TRUE,\n",
    "                diverge_center = 0, image_id = \"lowres\", swap_rownames = \"symbol\", \n",
    "                color = \"black\", linewidth = 0.1)"
   ]
  },
  {
   "cell_type": "markdown",
   "id": "4099cdbe",
   "metadata": {},
   "source": [
    "High values of Gi\\* indicate hotspots, while low values of Gi\\* indicate coldspots."
   ]
  },
  {
   "cell_type": "code",
   "execution_count": null,
   "id": "df857b55",
   "metadata": {},
   "outputs": [],
   "source": [
    "localResultAttrs(sfe_tissue, \"localG_perm\", \"Myh2\", swap_rownames = \"symbol\")"
   ]
  },
  {
   "cell_type": "markdown",
   "id": "594e14f9",
   "metadata": {
    "lines_to_next_cell": 0
   },
   "source": [
    "Plot the pseudo-p-values from the simulation"
   ]
  },
  {
   "cell_type": "code",
   "execution_count": null,
   "id": "74b5fdda",
   "metadata": {},
   "outputs": [],
   "source": [
    "plotLocalResult(sfe_tissue, \"localG_perm\", features = \"Myh2\", \n",
    "                attribute = \"-log10p_adj Sim\",\n",
    "                colGeometryName = \"spotPoly\", divergent = TRUE,\n",
    "                diverge_center = -log10(0.05), swap_rownames = \"symbol\",\n",
    "                image_id = \"lowres\")"
   ]
  },
  {
   "cell_type": "markdown",
   "id": "d3668455",
   "metadata": {
    "lines_to_next_cell": 0
   },
   "source": [
    "The hotspots are as expected. Here warm color indicates adjusted $p < 0.05$. \n",
    "\n",
    "Local results can also be computed for annotation geometries."
   ]
  },
  {
   "cell_type": "code",
   "execution_count": null,
   "id": "3770fb34",
   "metadata": {},
   "outputs": [],
   "source": [
    "annotGraph(sfe_tissue, \"myofiber_poly2nb_B\") <- \n",
    "  findSpatialNeighbors(sfe_tissue, type = \"myofiber_simplified\", MARGIN = 3,\n",
    "                       method = \"poly2nb\", zero.policy = TRUE, style = \"B\")"
   ]
  },
  {
   "cell_type": "code",
   "execution_count": null,
   "id": "0fa7520f",
   "metadata": {},
   "outputs": [],
   "source": [
    "sfe_tissue <- annotGeometryUnivariate(sfe_tissue, \"localG_perm\", \"area\", \n",
    "                                      annotGeometryName = \"myofiber_simplified\",\n",
    "                                      annotGraphName = \"myofiber_poly2nb_B\",\n",
    "                                      include_self = TRUE, zero.policy = TRUE)"
   ]
  },
  {
   "cell_type": "code",
   "execution_count": null,
   "id": "d34e0f7b",
   "metadata": {},
   "outputs": [],
   "source": [
    "plotLocalResult(sfe_tissue, \"localG_perm\", \"area\", \n",
    "                annotGeometryName = \"myofiber_simplified\",\n",
    "                divergent = TRUE, diverge_center = 0)"
   ]
  },
  {
   "cell_type": "code",
   "execution_count": null,
   "id": "24e781a7",
   "metadata": {},
   "outputs": [],
   "source": [
    "plotLocalResult(sfe_tissue, \"localG_perm\", \"area\", \n",
    "                annotGeometryName = \"myofiber_simplified\",\n",
    "                attribute = \"-log10p_adj Sim\",\n",
    "                divergent = TRUE, diverge_center = -log10(0.05))"
   ]
  },
  {
   "cell_type": "markdown",
   "id": "32f2bb31",
   "metadata": {
    "lines_to_next_cell": 0
   },
   "source": [
    "The hotspots and coldspots are as expected. Warm color indicates adjusted $p < 0.05$.\n",
    "\n",
    "## Local spatial heteroscedasticity (LOSH)\n",
    "LOSH [@Ord2012-qi] is defined as\n",
    "\n",
    "$$\n",
    "H_i = \\frac{\\sum_j w_{ij}\\left| e_j \\right|^a}{h_1\\sum_j w_{ij}}\n",
    "$$\n",
    "\n",
    "where$h_1 = \\sum_i \\left| e_i \\right|^a/n$, $e_j = x_j - \\bar{x}_j$, and\n",
    "\n",
    "$$\n",
    "\\bar{x}_j = \\frac{\\sum_j w_{jk}x_k}{\\sum_j w_{jk}}.\n",
    "$$\n",
    "\n",
    "By default, $a = 2$ so LOSH is like a local variance. See [@Ord2012-qi] for more details and interpretation. "
   ]
  },
  {
   "cell_type": "code",
   "execution_count": null,
   "id": "3ec77c75",
   "metadata": {},
   "outputs": [],
   "source": [
    "sfe_tissue <- runUnivariate(sfe_tissue, \"LOSH.cs\", \"Myh2\", \n",
    "                            colGraphName = \"visium\", swap_rownames = \"symbol\")"
   ]
  },
  {
   "cell_type": "code",
   "execution_count": null,
   "id": "33d9b561",
   "metadata": {},
   "outputs": [],
   "source": [
    "plotLocalResult(sfe_tissue, \"LOSH.cs\", features = \"Myh2\", \n",
    "                colGeometryName = \"spotPoly\", swap_rownames = \"symbol\",\n",
    "                image_id = \"lowres\")"
   ]
  },
  {
   "cell_type": "markdown",
   "id": "3c922e45",
   "metadata": {},
   "source": [
    "For this gene, it isn't clear whether LOSH relates to gene expression levels."
   ]
  },
  {
   "cell_type": "code",
   "execution_count": null,
   "id": "ffa50ce4",
   "metadata": {},
   "outputs": [],
   "source": [
    "localResultAttrs(sfe_tissue, \"LOSH.cs\", \"Myh2\", swap_rownames = \"symbol\")"
   ]
  },
  {
   "cell_type": "markdown",
   "id": "6c5a983c",
   "metadata": {},
   "source": [
    "While `Voyager` does wrap `LOSH.mc()` to perform permutation testing of LOSH, this is very time consuming. A chi-squared approximation is described in the 2012 LOSH paper to account for non-normality of the data and to approximate the mean and variance of the permutation distributions, so p-values of LOSH can be more quickly computed, with `LOSH.cs()`."
   ]
  },
  {
   "cell_type": "code",
   "execution_count": null,
   "id": "068ec77b",
   "metadata": {},
   "outputs": [],
   "source": [
    "plotLocalResult(sfe_tissue, \"LOSH.cs\", features = \"Myh2\", \n",
    "                attribute = \"-log10p_adj\", colGeometryName = \"spotPoly\",\n",
    "                divergent = TRUE, diverge_center = -log10(0.05),\n",
    "                swap_rownames = \"symbol\", image_id = \"lowres\") +\n",
    "    theme_void()"
   ]
  },
  {
   "cell_type": "markdown",
   "id": "37f05bf3",
   "metadata": {
    "lines_to_next_cell": 0
   },
   "source": [
    "For this gene, the local conditions are mostly homogenous, except for a few spots most at the injury site. Warm color indicates adjusted $p < 0.05$.\n",
    "\n",
    "# Caveats\n",
    "1. In the current version of `Voyager`, only univariate spatial autocorrelation metrics are supported. Anisotropy, bivariate, and multivariate spatial analyses will be added in later versions.\n",
    "2. The H&E image can alter perception of the colors of the geometries.\n",
    "3. Only 2D data is supported at present, although in principle, `sf` and `GEOS` support 3D data.\n",
    "4. Spatial neighborhoods only make sense within the same tissue section. Then what to do with multiple tissue sections, from biological replica, and from different conditions? For the mouse brain, different biological replica can be registered to the Allen Common Coordinate Framework (CCF) to be spatially comparable. Indeed, it would be interesting to see the biological variability of healthy wild type gene expression at the same fine scaled region in the brain. However, there is no CCF for tissues without a stereotypical structure, such as adipose and skeletal muscle. We don't have a good solution to spatially compare different tissue sections yet. Perhaps global spatial statistics over the whole section or histological regions within the section can be compared. The problem remains to select the most informative metrics to compare. Perhaps a spatially-informed dimension reduction method, taking not only the gene count matrix, but also the adjacency matrices of the spatial neighborhood graphs (different sections will be different blocks in the matrix) projecting the cells or Visium spots from different sections into a shared low dimensional space can facilitate the comparison. Here batch effect must be corrected, and the dimension reduction should be interpretable, and scalable.\n",
    "\n",
    "# Session info"
   ]
  },
  {
   "cell_type": "code",
   "execution_count": null,
   "id": "33eca8e3",
   "metadata": {},
   "outputs": [],
   "source": [
    "sessionInfo()"
   ]
  },
  {
   "cell_type": "markdown",
   "id": "4f4ea10d",
   "metadata": {},
   "source": [
    "# References"
   ]
  }
 ],
 "metadata": {
  "kernelspec": {
   "display_name": "R",
   "language": "R",
   "name": "ir"
  }
 },
 "nbformat": 4,
 "nbformat_minor": 5
}
||||||| 6b0d1f4
=======
{
 "cells": [
  {
   "cell_type": "raw",
   "id": "2f6c6e4a",
   "metadata": {},
   "source": [
    "---\n",
    "title: \"Spatial Visium exploratory data analysis\"\n",
    "author: \"Lambda Moses\"\n",
    "date: \"`r Sys.Date()`\"\n",
    "output: \n",
    "  html_document:\n",
    "  toc: true\n",
    "  toc_float:\n",
    "    collapsed: false\n",
    "  toc_depth: 3\n",
    "bibliography: ref.bib\n",
    "vignette: >\n",
    "  %\\VignetteIndexEntry{Spatial Visium exploratory data analysis}\n",
    "  %\\VignetteEngine{knitr::rmarkdown}\n",
    "  %\\VignetteEncoding{UTF-8}\n",
    "---"
   ]
  },
  {
   "cell_type": "code",
   "execution_count": null,
   "id": "99bf45d0",
   "metadata": {
    "tags": [
     "remove_cell"
    ]
   },
   "outputs": [],
   "source": [
    "knitr::opts_chunk$set(\n",
    "  collapse = TRUE,\n",
    "  comment = \"#>\", fig.align = \"center\"\n",
    ")"
   ]
  },
  {
   "cell_type": "code",
   "execution_count": null,
   "id": "d60758de",
   "metadata": {
    "eval": false,
    "tags": [
     "remove_cell"
    ]
   },
   "outputs": [],
   "source": [
    "# Install Google Colab dependencies\n",
    "# Note: this can take 30+ minutes (many of the dependencies include C++ code, which needs to be compiled)\n",
    "\n",
    "# First install `sf`, `ragg` and `textshaping` and their system dependencies:\n",
    "system(\"apt-get -y update && apt-get install -y  libudunits2-dev libgdal-dev libgeos-dev libproj-dev libharfbuzz-dev libfribidi-dev\")\n",
    "install.packages(\"sf\")\n",
    "install.packages(\"textshaping\")\n",
    "install.packages(\"ragg\")\n",
    "\n",
    "# Install system dependencies of some other R packages that Voyager either imports or suggests:\n",
    "system(\"apt-get install -y libfribidi-dev libcairo2-dev libmagick++-dev\")\n",
    "\n",
    "# Install Voyager from Bioconductor:\n",
    "install.packages(\"BiocManager\")\n",
    "BiocManager::install(version = \"3.17\", ask = FALSE, update = FALSE, Ncpus = 2)\n",
    "BiocManager::install(\"scater\")\n",
    "system.time(\n",
    "  BiocManager::install(\"Voyager\", dependencies = TRUE, Ncpus = 2, update = FALSE)\n",
    ")\n",
    "\n",
    "# Additional dependencies for this notebook\n",
    "install.packages(\"reticulate\")\n",
    "\n",
    "packageVersion(\"Voyager\")"
   ]
  },
  {
   "cell_type": "markdown",
   "id": "d6552276",
   "metadata": {},
   "source": [
    "# Introduction \n",
    "\n",
    "This vignette provides an introduction to exploratory spatial data analysis methods via the `Voyager` package in the context of a Visium dataset."
   ]
  },
  {
   "cell_type": "code",
   "execution_count": null,
   "id": "2b1a1d17",
   "metadata": {
    "message": false,
    "name": "setup"
   },
   "outputs": [],
   "source": [
    "library(Voyager)\n",
    "library(SpatialFeatureExperiment)\n",
    "library(scater)\n",
    "library(scran)\n",
    "library(SFEData)\n",
    "library(sf)\n",
    "library(ggplot2)\n",
    "library(scales)\n",
    "library(patchwork)\n",
    "library(BiocParallel)\n",
    "library(bluster)\n",
    "library(dplyr)\n",
    "library(reticulate)\n",
    "theme_set(theme_bw(10))"
   ]
  },
  {
   "cell_type": "code",
   "execution_count": null,
   "id": "4a4bf2d7",
   "metadata": {
    "lines_to_next_cell": 2
   },
   "outputs": [],
   "source": [
    "# Specify Python version to use gget\n",
    "PY_PATH <- system(\"which python\", intern = TRUE)\n",
    "use_python(PY_PATH)\n",
    "py_config()\n",
    "\n",
    "# Install and load gget\n",
    "system(\"pip3 install gget\")\n",
    "gget <- import(\"gget\")"
   ]
  },
  {
   "cell_type": "markdown",
   "id": "0a5d38b2",
   "metadata": {},
   "source": [
    "# Dataset\n",
    "The dataset used in this vignette is from the paper [Large-scale integration of single-cell transcriptomic data captures transitional progenitor states in mouse skeletal muscle regeneration](https://doi.org/10.1038/s42003-021-02810-x) [@McKellar2021-ek]. Notexin was injected into the tibialis anterior muscle of mice to induce injury, and the healing muscle was collected 2, 5, and 7 days post injury for Visium analysis. The dataset in this vignette is from the timepoint at day 2. The vignette starts with a `SpatialFeatureExperiment` (SFE) object.\n",
    "\n",
    "The gene count matrix was directly downloaded [from GEO](https://www.ncbi.nlm.nih.gov/geo/query/acc.cgi?acc=GSM4904759). All 4992 spots, whether in tissue or not, are included. The H&E image was used for nuclei and myofiber segmentation. A subset of nuclei from randomly selected regions from all 3 timepoints were manually annotated to train a StarDist model to segment the rest of the nuclei, and the myofibers were all manually segmented. The tissue boundary was found by thresholding in OpenCV, and small polygons were removed as they are likely to be debris. Spot polygons were constructed with the spot centroid coordinates and diameter in the Space Ranger output. The `in_tissue` column in `colData` indicates which spot polygons intersect the tissue polygons, and is based on `st_intersects()`.\n",
    "\n",
    "Tissue boundary, nuclei, myofiber, and Visium spot polygons are stored as `sf` data frames in the SFE object. See [the vignette of `SpatialFeatureExperiment`](https://bioconductor.org/packages/devel/bioc/vignettes/SpatialFeatureExperiment/inst/doc/SFE.html) for more details on the structure of the SFE object. The SFE object of this dataset is provided in the `SFEData` package; we begin by downloading the data and loading it into R."
   ]
  },
  {
   "cell_type": "code",
   "execution_count": null,
   "id": "9701b8b3",
   "metadata": {},
   "outputs": [],
   "source": [
    "(sfe <- McKellarMuscleData(\"full\"))"
   ]
  },
  {
   "cell_type": "markdown",
   "id": "bd464929",
   "metadata": {
    "lines_to_next_cell": 0
   },
   "source": [
    "The H&E image of this section:\n",
    "![A cross section of mouse muscle is slightly off center to the lower left. In the middle of the tissue is the notexin injury site with leukocyte infiltration and fewer myofibers. The rest of the tissue section is tightly packed with myofibers.](https://raw.githubusercontent.com/pachterlab/voyager/documentation/vignettes/tissue_lowres_5a.jpeg)\n",
    "\n",
    "The image can be added to the SFE object and plotted behind the geometries, and needs to be flipped to align to the spots because the origin is at the top left for the image but bottom left for geometries."
   ]
  },
  {
   "cell_type": "code",
   "execution_count": null,
   "id": "b3d60232",
   "metadata": {},
   "outputs": [],
   "source": [
    "sfe <- addImg(sfe, file = \"tissue_lowres_5a.jpeg\", sample_id = \"Vis5A\", \n",
    "              image_id = \"lowres\", \n",
    "              scale_fct = 1024/22208)\n",
    "sfe <- mirrorImg(sfe, sample_id = \"Vis5A\", image_id = \"lowres\")"
   ]
  },
  {
   "cell_type": "markdown",
   "id": "dce0a074",
   "metadata": {},
   "source": [
    "# Exploratory data analysis\n",
    "## Spots in tissue\n",
    "While the example dataset has all Visium spots whether on tissue or not, only spots that intersect tissue are used for further analyses. "
   ]
  },
  {
   "cell_type": "code",
   "execution_count": null,
   "id": "cc5004ea",
   "metadata": {},
   "outputs": [],
   "source": [
    "names(colData(sfe))"
   ]
  },
  {
   "cell_type": "markdown",
   "id": "62d777af",
   "metadata": {
    "lines_to_next_cell": 0
   },
   "source": [
    "Total UMI counts (`nCounts`), number of genes detected per spot (`nGenes`), and the proportion of mitochondrially encoded counts (`prop_mito`) have been precomputed and are in `colData(sfe)`. The `plotSpatialFeature` function can be used to visualize various attributes in space: the expression of any gene, `colData` values, and geometry attributes in `colGeometry` and `annotGeometry`. The Visium spots are plotted as polygons reflecting their actual size relative to the tissue, rather than as points, as is the case in other packages that plot Visium data. The plotting of geometries is being performed under the hood with `geom_sf`.\n",
    "\n",
    "The tissue boundary was found by thresholding the H&E image and removing small polygons that are most likely debris. The `in_tissue` column of `colData(sfe)` indicates which Visium spot polygon intersects the tissue polygon; this can be found with `SpatialFeatureExperiment::annotPred()`.\n",
    "\n",
    "We demonstrate the use of `scran` [@Lun2016-yq] for normalization below, although we note that it is not necessarily the best approach to normalizing spatial transcriptomics data. The problem of when and how to normalize spatial transcriptomics data is non-trivial because, as the `nCounts` plot in space shows above, spatial autocorrelation is evident. Furthemrore, in Visium, reverse transcription occurs in situ on the spots, but PCR amplification occurs after the cDNA is dissociated from the spots. Artifacts may be subsequently introduced from the amplification step, and these would not be associated with spatial origin. Spatial artifacts may arise from the diffusion of transcripts and tissue permeablization. However, given how the total counts seem to correspond to histological regions, the total counts may have a biological component and hence should not be treated as a technical artifact to be normalized away as in scRNA-seq data normalization methods. In other words, the issue of normalization for spatial transcriptomics data, and Visium in particular, is complex and is currently unsolved. "
   ]
  },
  {
   "cell_type": "code",
   "execution_count": null,
   "id": "9aebdc43",
   "metadata": {},
   "outputs": [],
   "source": [
    "sfe_tissue <- sfe[,colData(sfe)$in_tissue]\n",
    "sfe_tissue <- sfe_tissue[rowSums(counts(sfe_tissue)) > 0,]"
   ]
  },
  {
   "cell_type": "code",
   "execution_count": null,
   "id": "17c72968",
   "metadata": {},
   "outputs": [],
   "source": [
    "#clusters <- quickCluster(sfe_tissue)\n",
    "#sfe_tissue <- computeSumFactors(sfe_tissue, clusters=clusters)\n",
    "#sfe_tissue <- sfe_tissue[, sizeFactors(sfe_tissue) > 0]\n",
    "sfe_tissue <- logNormCounts(sfe_tissue)"
   ]
  },
  {
   "cell_type": "markdown",
   "id": "507bcf43",
   "metadata": {},
   "source": [
    "Myofiber and nuclei segmentation polygons are available in this dataset in the `annotGeometries` field. Myofibers were manually segmented, and nuclei were segmented with [`StarDist`](https://github.com/stardist/stardist) trained with a manually segmented subset. "
   ]
  },
  {
   "cell_type": "code",
   "execution_count": null,
   "id": "b01ca919",
   "metadata": {},
   "outputs": [],
   "source": [
    "annotGeometryNames(sfe_tissue)"
   ]
  },
  {
   "cell_type": "markdown",
   "id": "65f7fd55",
   "metadata": {
    "lines_to_next_cell": 0
   },
   "source": [
    "### From myofibers and nuclei to Visium spots\n",
    "The `plotSpatialFeature()` function can also be used to plot attributes of geometries, i.e. the non-geometry columns in the `sf` data frames in the `rowGeometries`, `colGeometries`, or `annotGeometries` fields of the SFE object. For `rowGeometries` and `colGeometries`, such columns which are associated with the `sf` data frames rather than `rowData` or `colData`, are allowed because one can specify how these columns associate with the geometries (see [`st_agr`](https://r-spatial.github.io/sf/reference/st_agr.html) and [documentation of `st_sf`](https://r-spatial.github.io/sf/reference/sf.html#details-1)). When an attribute of an `annotGeometry` is plotted along side gene expression or `colData` or `colGeometry` attribute, the `annotGeometry` attribute is plotted with a different color palette to distinguish it from the column associated values. \n",
    "\n",
    "The myofiber polygons from `annotGeometries` can be plotted as shown below, colored by cross section area as observed in the tissue section. The `aes_use` argument is set to `color` rather than `fill` (default for polygons) to only plot the Visium spot outlines to make the myofiber polygons more visible. The `fill` argument is set to `NA` to make the Visium spots look hollow, and the `size` argument controls the thickness of the outlines. The `annot_aes` argument specifies which column in the `annotGeometry` to use to specify the values of an aesthstic, just like `aes` in `ggplot2` (`aes_string` to be precise, since `tidyeval` is not used here). The `annot_fixed` argument (not used here) can set the fixed size, alpha, color, and etc. for the `annotGeometry`. "
   ]
  },
  {
   "cell_type": "code",
   "execution_count": null,
   "id": "4507932c",
   "metadata": {
    "fig.alt": "Plot of Visium spots in tissue and myofiber polygons in physical space. Visium spots are colored by nCounts, and myofibers are colored by area."
   },
   "outputs": [],
   "source": [
    "plotSpatialFeature(sfe_tissue, features = \"nCounts\", \n",
    "                   colGeometryName = \"spotPoly\",\n",
    "                   annotGeometryName = \"myofiber_simplified\", \n",
    "                   aes_use = \"color\", linewidth = 0.5, fill = NA,\n",
    "                   annot_aes = list(fill = \"area\"))"
   ]
  },
  {
   "cell_type": "markdown",
   "id": "60d252a3",
   "metadata": {
    "lines_to_next_cell": 0
   },
   "source": [
    "The larger myofibers seem to have fewer total counts, possibly because the larger size of these myofibers dilutes the transcripts. This hints at the need for a normalization procedure.\n",
    "\n",
    "With `SpatialFeatureExperiment`, we can find the number of myofibers and nuclei that intersect each Visium spot. The predicate can be [anything implemented in `sf`](https://r-spatial.github.io/sf/reference/geos_binary_pred.html), so for example, the number of nuclei fully covered by each Visium spot can also be found. The default predicate is `st_intersects()`."
   ]
  },
  {
   "cell_type": "code",
   "execution_count": null,
   "id": "6c9bd822",
   "metadata": {},
   "outputs": [],
   "source": [
    "colData(sfe_tissue)$n_myofibers <- \n",
    "  annotNPred(sfe_tissue, colGeometryName = \"spotPoly\",\n",
    "             annotGeometryName = \"myofiber_simplified\")"
   ]
  },
  {
   "cell_type": "code",
   "execution_count": null,
   "id": "5649eaca",
   "metadata": {
    "fig.alt": "Plot of Visium spots in tissue in physical space, colored by number of myofibers intersecting each spot.",
    "fig.height": 4,
    "fig.width": 8
   },
   "outputs": [],
   "source": [
    "plotSpatialFeature(sfe_tissue, features = \"n_myofibers\", \n",
    "                   colGeometryName = \"spotPoly\", image = \"lowres\", color = \"black\",\n",
    "                   linewidth = 0.1)"
   ]
  },
  {
   "cell_type": "markdown",
   "id": "a5954163",
   "metadata": {
    "lines_to_next_cell": 0
   },
   "source": [
    "There is no one-to-one mapping between Visium spots and myofibers. However, we can relate attributes of myofibers to gene expression detected at the Visium spots. One way to do so is to summarize the attributes of all myofibers that intersect (or choose another better predicate implemented in `sf`) each spot, such as to calculate the mean, median, or sum. This can be done with the `annotSummary()` function in `SpatialFeatureExperiment`. The default predicate is `st_intersects()`, and the default summary function is `mean()`."
   ]
  },
  {
   "cell_type": "code",
   "execution_count": null,
   "id": "ef294616",
   "metadata": {},
   "outputs": [],
   "source": [
    "colData(sfe_tissue)$mean_myofiber_area <- \n",
    "  annotSummary(sfe_tissue, \"spotPoly\", \"myofiber_simplified\", \n",
    "               annotColNames = \"area\")[,1] # it always returns a data frame"
   ]
  },
  {
   "cell_type": "code",
   "execution_count": null,
   "id": "4b274e60",
   "metadata": {
    "fig.alt": "Plot of Visium spots in tissue in physical space, colored by the average area of myofibers that intersect each spot. The average area is higher near the mid-top right part of the tissue."
   },
   "outputs": [],
   "source": [
    "# The gray spots don't intersect any myofiber\n",
    "plotSpatialFeature(sfe_tissue, \"mean_myofiber_area\", \"spotPoly\", image = \"lowres\", \n",
    "                   color = \"black\", linewidth = 0.1)"
   ]
  },
  {
   "cell_type": "markdown",
   "id": "a7ddfdc1",
   "metadata": {
    "lines_to_next_cell": 0
   },
   "source": [
    "This reveals the relationship between the mean area of myofibers intersecting each Visium spot and other aspects of the spots, such as total counts and gene expression.\n",
    "\n",
    "The NAs designate spots not intersecting any myofibers, e.g. those in the inflammatory region. \n",
    "\n",
    "In the [Basic Visium vignette](https://pachterlab.github.io/Voyager/articles/vig2_visium_basic.html), we encountered two mysterious branches and two clusters in the nGenes vs. nCounts plot and the proportion of mitochondrial counts vs. nCounts plot. Now we see that the two clusters seem to be related to myofiber size."
   ]
  },
  {
   "cell_type": "code",
   "execution_count": null,
   "id": "cdb5fc7e",
   "metadata": {},
   "outputs": [],
   "source": [
    "plotColData(sfe_tissue, x = \"nCounts\", y = \"nGenes\", colour_by = \"mean_myofiber_area\")"
   ]
  },
  {
   "cell_type": "code",
   "execution_count": null,
   "id": "81637bcd",
   "metadata": {},
   "outputs": [],
   "source": [
    "plotColData(sfe_tissue, x = \"nCounts\", y = \"prop_mito\", colour_by = \"mean_myofiber_area\")"
   ]
  },
  {
   "cell_type": "markdown",
   "id": "598e100c",
   "metadata": {
    "lines_to_next_cell": 0
   },
   "source": [
    "### Myofiber types\n",
    "Marker genes: Myh7 (Type I, slow twitch, aerobic), Myh2 (Type IIa, fast twitch, somewhat aerobic), Myh4 (Type IIb, fast twitch, anareobic), Myh1 (Type IIx, fast twitch, anaerobic), from [this protocol](https://www.ncbi.nlm.nih.gov/pmc/articles/PMC5526362/) [@Wang2017-li]"
   ]
  },
  {
   "cell_type": "code",
   "execution_count": null,
   "id": "2bdd4ef8",
   "metadata": {},
   "outputs": [],
   "source": [
    "markers <- c(I = \"Myh7\", IIa = \"Myh2\", IIb = \"Myh4\", IIx = \"Myh1\")"
   ]
  },
  {
   "cell_type": "markdown",
   "id": "45e4de95",
   "metadata": {
    "lines_to_next_cell": 0
   },
   "source": [
    "We can use the [gget search](https://pachterlab.github.io/gget/search.html) and [gget info](https://pachterlab.github.io/gget/info.html) modules from the [gget](https://pachterlab.github.io/gget/) package to get the Ensembl IDs and additional information (for example their [NCBI](https://www.ncbi.nlm.nih.gov/) description) for these marker genes:"
   ]
  },
  {
   "cell_type": "code",
   "execution_count": null,
   "id": "729e1118",
   "metadata": {},
   "outputs": [],
   "source": [
    "gget_search <- gget$search(list(\"Myh7\", \"Myh2\", \"Myh4\", \"Myh1\"), species=\"mouse\")\n",
    "gget_search <- gget_search[gget_search$gene_name %in% list(\"Myh7\", \"Myh2\", \"Myh4\", \"Myh1\"), ]\n",
    "gget_search"
   ]
  },
  {
   "cell_type": "code",
   "execution_count": null,
   "id": "fd5e7ae3",
   "metadata": {},
   "outputs": [],
   "source": [
    "gget_info <- gget$info(gget_search$ensembl_id)\n",
    "\n",
    "rownames(gget_info) <- gget_info$primary_gene_name\n",
    "select(gget_info, ncbi_description)"
   ]
  },
  {
   "cell_type": "markdown",
   "id": "254d824f",
   "metadata": {
    "lines_to_next_cell": 0
   },
   "source": [
    "We first examine the Type I myofibers. This is a fast twitch muscle, so we don't expect many slow twitch Type I myofibers. Row names in `sfe_tissue` are Ensembl IDs in order to avoid ambiguity as sometimes multiple Ensembl IDs have the same gene symbol and some genes have aliases. However, gene symbols are shorter and more human readable than Ensembl IDs, and are better suited to display on plots.  In the `plotSpatialFeature()` function and other functions in `Voyager`, even when the row names are recorded as Ensembl IDs, the `features` argument can take gene symbols if there is a column called \"symbols\" in `rowData(sfe)`, where the function converts the gene symbols to Ensembl IDs. By default, gene symbols are shown on the plot, but the `show_symbol` argument can be set to `FALSE` to show Ensembl IDs instead. If one gene symbol matches multiple Ensembl IDs in the dataset, then a warning will be given.\n",
    "\n",
    "The `exprs_values` argument specifies the assay to use, which is by default \"logcounts\", i.e. the log normalized data. This default may or may not be suitable in practice given that total UMI counts may have biological relevance in spatial data. Therefore, we plot both the raw counts and the log normalized counts:"
   ]
  },
  {
   "cell_type": "code",
   "execution_count": null,
   "id": "ed775b8f",
   "metadata": {},
   "outputs": [],
   "source": [
    "# Function specific for this vignette, with some hard coded values\n",
    "plot_counts_logcounts <- function(sfe, feature) {\n",
    "  p1 <- plotSpatialFeature(sfe, feature, \"spotPoly\",\n",
    "                   annotGeometryName = \"myofiber_simplified\", \n",
    "                   annot_aes = list(fill = \"area\"), show_symbol = TRUE, \n",
    "                   exprs_values = \"counts\", aes_use = \"color\", linewidth = 0.5,\n",
    "                   fill = NA) +\n",
    "    ggtitle(\"Raw counts\")\n",
    "  p2 <- plotSpatialFeature(sfe, feature, \"spotPoly\",\n",
    "                   annotGeometryName = \"myofiber_simplified\", \n",
    "                   annot_aes = list(fill = \"area\"), show_symbol = TRUE, \n",
    "                   exprs_values = \"logcounts\", aes_use = \"color\", linewidth = 0.5,\n",
    "                   fill = NA) +\n",
    "    ggtitle(\"Log normalized counts\")\n",
    "  p1 + p2 +\n",
    "    plot_annotation(title = feature)\n",
    "}"
   ]
  },
  {
   "cell_type": "code",
   "execution_count": null,
   "id": "f6fb2143",
   "metadata": {
    "fig.alt": "Raw and log normalized counts of Myh7, marker gene of type I myofiber, plotted side by side on Visium spots in space, with myofiber polygons colored by myofiber cross section area plotted in the background. Visium spots expressing Myh7 concentrate in the lower left part of the tissue where the myofibers tend to be smaller."
   },
   "outputs": [],
   "source": [
    "plot_counts_logcounts(sfe_tissue, markers[\"I\"])"
   ]
  },
  {
   "cell_type": "markdown",
   "id": "461eafaf",
   "metadata": {
    "lines_to_next_cell": 0
   },
   "source": [
    "A marker gene for type IIa myofibers is shown above. It is straightforward to modify the plotting to display markers for type IIb and type IIx myofibers:"
   ]
  },
  {
   "cell_type": "code",
   "execution_count": null,
   "id": "da10f4c9",
   "metadata": {
    "fig.alt": "Raw and log normalized counts of Myh2, a marker gene of type IIa myofiber, plotted side by side on Visium spots in space, with myofiber polygons colored by myofiber cross section area plotted in the background. Visium spots expressing Myh2 concentrate in the lower left and upper left parts of the tissue where the myofibers tend to be smaller. Log normalized counts show a wider region with higher expression."
   },
   "outputs": [],
   "source": [
    "plot_counts_logcounts(sfe_tissue, markers[\"IIa\"])"
   ]
  },
  {
   "cell_type": "markdown",
   "id": "292c7af1",
   "metadata": {
    "lines_to_next_cell": 0
   },
   "source": [
    "Type IIa myofibers also tend to be clustered together on left side of the tissue.\n",
    "\n",
    "As SFE inherits from SCE, the non-spatial EDA plots from the `scater` package can also be used:"
   ]
  },
  {
   "cell_type": "code",
   "execution_count": null,
   "id": "0597e834",
   "metadata": {
    "fig.alt": "Scatter plot of mean area of myofibers intersecting each Visium spot in the x axis and proportion of mitochondrially encoded counts per spot in the y axis, with points colored by expression of Myh2."
   },
   "outputs": [],
   "source": [
    "plotColData(sfe_tissue, x = \"mean_myofiber_area\", y = \"prop_mito\", \n",
    "            colour_by = markers[\"IIa\"], by_exprs_values = \"logcounts\", \n",
    "            swap_rownames = \"symbol\")"
   ]
  },
  {
   "cell_type": "markdown",
   "id": "1ef295d7",
   "metadata": {},
   "source": [
    "Plotting proportion of mitochondrial counts vs. mean myofiber area, we see two clusters, one with higher proportion of mitochondrial counts and smaller area, and another with lower proportion of mitochondrial counts and on average slightly larger area. Type IIa myofibers tend to have smaller area and a larger proportion of mitochondrial counts.\n",
    "\n",
    "# Spatial neighborhood graphs\n",
    "A spatial neighborhood graph is required to compute spatial dependency metrics such as Moran's I and Geary's C. The `SpatialFeatureExperiment` package wraps methods in `spdep` to find spatial neighborhood graphs, which are stored within the SFE object (see `spdep` documentation for `gabrielneigh()`, `knearneigh()`, `poly2nb()`, and `tri2nb()`). The `Voyager` package then uses these graphs for spatial dependency analyses, again based on `spdep` in this first version, but methods from other geospatial packages, some of which also use the spatial neighborhood graphs, may be added later.\n",
    "\n",
    "For Visium, where the spots are in a hexagonal grid, the spatial neighborhood graph is straightforward. However, for spatial technologies with single cell resolution, e.g. MERFISH, different methods can be used to find the spatial neighborhood graph. In this example, the method \"poly2nb\" was used for myofibers, and it identifies myofiber polygons that physically touch each other. `zero.policy = TRUE` will allow for singletons, i.e. nodes without neighbors in the graph; in the inflamed region, there are more singletons. We have not yet benchmarked spatial neighborhood construction methods to determine which is the \"best\" for different technologies; the particular method used here is for demonstration purposes and may not be the best in practice: "
   ]
  },
  {
   "cell_type": "code",
   "execution_count": null,
   "id": "9ac26c35",
   "metadata": {},
   "outputs": [],
   "source": [
    "colGraph(sfe_tissue, \"visium\") <- findVisiumGraph(sfe_tissue)\n",
    "annotGraph(sfe_tissue, \"myofiber_poly2nb\") <- \n",
    "  findSpatialNeighbors(sfe_tissue, type = \"myofiber_simplified\", MARGIN = 3,\n",
    "                       method = \"poly2nb\", zero.policy = TRUE)"
   ]
  },
  {
   "cell_type": "markdown",
   "id": "3cb328df",
   "metadata": {
    "lines_to_next_cell": 0
   },
   "source": [
    "The `plotColGraph()` function plots the graph in space associated with a `colGeometry`, along with the geometry of interest."
   ]
  },
  {
   "cell_type": "code",
   "execution_count": null,
   "id": "6ac90357",
   "metadata": {
    "fig.alt": "Spatial neighborhood graph of Visium spots that intersect tissue."
   },
   "outputs": [],
   "source": [
    "plotColGraph(sfe_tissue, colGraphName = \"visium\", colGeometryName = \"spotPoly\") +\n",
    "    theme_void()"
   ]
  },
  {
   "cell_type": "markdown",
   "id": "17d68832",
   "metadata": {
    "lines_to_next_cell": 0
   },
   "source": [
    "Similarly, the `plotAnnotGraph()` function plots the graph associated with an `annotGeometry`, along with the geometry of interest. "
   ]
  },
  {
   "cell_type": "code",
   "execution_count": null,
   "id": "e9c4110f",
   "metadata": {
    "fig.alt": "Spatial neighborhood graph of myofibers, where each edge connects two myofibers that touch."
   },
   "outputs": [],
   "source": [
    "plotAnnotGraph(sfe_tissue, annotGraphName = \"myofiber_poly2nb\", \n",
    "               annotGeometryName = \"myofiber_simplified\") + theme_void()"
   ]
  },
  {
   "cell_type": "markdown",
   "id": "167b4ae3",
   "metadata": {
    "lines_to_next_cell": 0
   },
   "source": [
    "There is no `plotRowGraph` yet since we haven't worked with a dataset where spatial graphs related to genes are relevant, although the SFE object supports row graphs.\n",
    "\n",
    "# Exploratory _spatial_ data analysis\n",
    "All spatial autocorrelation metrics in this package can be computed directly on a vector or a matrix rather than an SFE object. The user interface emulates those of dimension reductions in the `scater` package (e.g. `calculateUMAP()` that takes in a matrix or SCE object and returns a matrix, and `runUMAP()` that takes in an SCE object and adds the results to the `reducedDims` field of the SCE object). So `calculate*` functions take in a matrix or an SFE object and directly return the results (format of the results depends on the structure of the results), while `run*` functions take in an SFE object and add the results to the object. In addition, `colData*` functions compute the metrics for numeric variables in `colData`. `colGeometry*` functions compute the metrics for numeric columns in a `colGeometry`. `annotGeometry*` functions compute the metrics for numeric columns in a `annotGeometry`. \n",
    "\n",
    "# Univariate global\n",
    "`Voyager` supports many univariate global spatial autocorrelation implemented in `spdep` for ESDA: Moran's I and Geary's C, permutation testing for Moran's I and Geary's C, Moran plot, and correlograms. In addition, beyond `spdep`, `Voyager` can cluster Moran plots and correlograms. Plotting functions taking in SFE objects are implemented to plot the results with `ggplot2` and with more customization options than `spdep` plotting functions. The functions `calculateUnivariate()`, `runUnivariate()`, `colDataUnivariate()`, `colGeometryUnivariate()`, and `annotGeometryUnivariate()` compute univariate spatial statistics. The argument `type`, which indicates the corresponding function names in `spdep`, determines which spatial statistics are computed. \n",
    "\n",
    "All univariate global methods in `Voyager` are listed here:"
   ]
  },
  {
   "cell_type": "code",
   "execution_count": null,
   "id": "8af930a1",
   "metadata": {},
   "outputs": [],
   "source": [
    "listSFEMethods(variate = \"uni\", scope = \"global\")"
   ]
  },
  {
   "cell_type": "markdown",
   "id": "4468f443",
   "metadata": {
    "lines_to_next_cell": 0
   },
   "source": [
    "When calling `calculate*variate()` or `run*variate()`, the `type` (2nd) argument takes either an `SFEMethod` object (see `SFEMethod()` and [vignette on `SFEMethod`](https://pachterlab.github.io/voyager/articles/sfemethod.html)) or a string that matches an entry in the `name` column in the data frame returned by `listSFEMethods()`.\n",
    "\n",
    "To demonstrate spatial autocorrelation in gene expression, top highly variable genes (HVGs) are used. The HVGs are found with the `scran` method."
   ]
  },
  {
   "cell_type": "code",
   "execution_count": null,
   "id": "4c2713b6",
   "metadata": {},
   "outputs": [],
   "source": [
    "dec <- modelGeneVar(sfe_tissue)\n",
    "hvgs <- getTopHVGs(dec, n = 50)"
   ]
  },
  {
   "cell_type": "markdown",
   "id": "c0027e14",
   "metadata": {
    "lines_to_next_cell": 0
   },
   "source": [
    "A global statistic yields one result for the entire dataset.\n",
    "\n",
    "## Moran's I\n",
    "There are several ways to quantify spatial autocorrelation, the most common of which is Moran's I:\n",
    "\n",
    "$$\n",
    "I = \\frac{n}{\\sum_{i=1}^n \\sum_{j=1}^n w_{ij}} \\frac{\\sum_{i=1}^n \\sum_{j=1}^n w_{ij} (x_i - \\bar{x})(x_j - \\bar{x})}{\\sum_{i=1}^n (x_i - \\bar{x})^2},\n",
    "$$\n",
    "\n",
    "where $n$ is the number of spots or locations, $i$ and $j$ are different locations, or spots in the Visium context, $x$ is a variable with values at each location, and $w_{ij}$ is a spatial weight, which can be inversely proportional to distance between spots or an indicator of whether two spots are neighbors, subject to various definitions of neighborhood and whether to normalize the number of neighbors. The [`spdep`](https://r-spatial.github.io/spdep/index.html) package uses the neighborhood. \n",
    "\n",
    "Moran's I can be understood as the Pearson correlation between the value at each location and the average value at its neighbors. Just like Pearson correlation, Moran's I is generally bound between -1 and 1, where positive value indicates positive spatial autocorrelation and negative value indicates negative spatial autocorrelation. \n",
    "\n",
    "Upon visual inspection, total UMI counts per spot seem to have spatial autocorrelation. A spatial neighborhood graph is required to compute Moran's I, and is specified with the `listw` argument. \n",
    "\n",
    "For matrices, the rows are the features, as in the gene count matrix."
   ]
  },
  {
   "cell_type": "code",
   "execution_count": null,
   "id": "684f854e",
   "metadata": {},
   "outputs": [],
   "source": [
    "# Directly use vector or matrix, and multiple features can be specified at once\n",
    "calculateUnivariate(t(colData(sfe_tissue)[,c(\"nCounts\", \"nGenes\")]), \n",
    "                    type = \"moran\",\n",
    "                    listw = colGraph(sfe_tissue, \"visium\"))"
   ]
  },
  {
   "cell_type": "markdown",
   "id": "041dc5e0",
   "metadata": {
    "lines_to_next_cell": 0
   },
   "source": [
    "\"moran\" is Moran's I, and K is sample kurtosis.\n",
    "\n",
    "To add the results to the SFE object, specifically for colData:"
   ]
  },
  {
   "cell_type": "code",
   "execution_count": null,
   "id": "9df6da36",
   "metadata": {},
   "outputs": [],
   "source": [
    "sfe_tissue <- colDataUnivariate(sfe_tissue, features = c(\"nCounts\", \"nGenes\"),\n",
    "                                colGraphName = \"visium\", type = \"moran\")\n",
    "colFeatureData(sfe_tissue)[c(\"nCounts\", \"nGenes\"),]"
   ]
  },
  {
   "cell_type": "markdown",
   "id": "b3cdc243",
   "metadata": {
    "lines_to_next_cell": 0
   },
   "source": [
    "For `colData`, the results are added to `colFeatureData(sfe)`, and features for which Moran's I is not calculated have NA. The column names of `featureData` distinguishes between different samples (there's only one sample in this dataset), and are parsed by plotting functions. \n",
    "\n",
    "To add the results to the SFE object, specifically for geometries: Here \"area\" is the area of the cross section of each myofiber as seen in this tissue section and \"eccentricity\" is the eccentricity of the ellipse fitted to each myofiber."
   ]
  },
  {
   "cell_type": "code",
   "execution_count": null,
   "id": "6ffdae9d",
   "metadata": {},
   "outputs": [],
   "source": [
    "# Remember zero.policy = TRUE since there're singletons\n",
    "sfe_tissue <- annotGeometryUnivariate(sfe_tissue, type = \"moran\",\n",
    "                                      features = c(\"area\", \"eccentricity\"), \n",
    "                                      annotGeometryName = \"myofiber_simplified\",\n",
    "                                      annotGraphName = \"myofiber_poly2nb\", \n",
    "                                      zero.policy = TRUE)\n",
    "head(attr(annotGeometry(sfe_tissue, \"myofiber_simplified\"), \"featureData\"))"
   ]
  },
  {
   "cell_type": "markdown",
   "id": "e9c8c747",
   "metadata": {
    "lines_to_next_cell": 0
   },
   "source": [
    "For a non-geometry column in a `colGeometry`, `colGeometryUnivariate()` is like `annotGeometryUnivariate()` here, but none of the `colGeometries` in this dataset has extra columns.\n",
    "\n",
    "For gene expression, the `logcounts` assay is used by default (use the `exprs_values` argument to change the assay), though this may or may not be best practice. If the metrics are computed for a large number of features, parallel computing is supported, with [`BiocParallel`](https://bioconductor.org/packages/release/bioc/html/BiocParallel.html), with the `BPPARAM` argument."
   ]
  },
  {
   "cell_type": "code",
   "execution_count": null,
   "id": "f7167349",
   "metadata": {},
   "outputs": [],
   "source": [
    "sfe_tissue <- runUnivariate(sfe_tissue, type = \"moran\", features = hvgs, \n",
    "                            colGraphName = \"visium\", \n",
    "                            BPPARAM = MulticoreParam(2))\n",
    "rowData(sfe_tissue)[head(hvgs),]"
   ]
  },
  {
   "cell_type": "markdown",
   "id": "1fe5d431",
   "metadata": {
    "lines_to_next_cell": 0
   },
   "source": [
    "## Geary's C\n",
    "Another spatial autocorrelation metric is Geary's C, defined as:\n",
    "\n",
    "$$\n",
    "C = \\frac{(n-1)}{2\\sum_{i=1}^n \\sum_{j=1}^n w_{ij}} \\frac{\\sum_{i=1}^n \\sum_{j=1}^n w_{ij}(x_i - x_j)^2}{{\\sum_{i=1}^n (x_i - \\bar{x})^2}}\n",
    "$$\n",
    "\n",
    "Geary's C  below 1 indicates positive spatial autocorrelation, and above 1 indicates negative spatial autocorrelation.\n",
    "\n",
    "To compute Geary's C for features of interest replace `type = \"moran\"` in the previous section with `type = \"geary\"`, and add the results to the SFE object. For example, for `colData`"
   ]
  },
  {
   "cell_type": "code",
   "execution_count": null,
   "id": "2b628b93",
   "metadata": {},
   "outputs": [],
   "source": [
    "sfe_tissue <- colDataUnivariate(sfe_tissue, features = c(\"nCounts\", \"nGenes\"),\n",
    "                                colGraphName = \"visium\", type = \"geary\")\n",
    "colFeatureData(sfe_tissue)[c(\"nCounts\", \"nGenes\"),]"
   ]
  },
  {
   "cell_type": "markdown",
   "id": "dc1b56b0",
   "metadata": {
    "lines_to_next_cell": 0
   },
   "source": [
    "There's only one column for K since it's the same for Moran's I and Geary's C. Here both Moran's I and Geary's C suggest positive spatial autocorrelation for `nCounts` and `nGenes`.\n",
    "\n",
    "Other univariate global methods, including permutation testing for Moran's I and Geary's C, correlograms, and Moran scatter plot can also be called with functions such as `runUnivariate`, by specifying the `type` argument. See documentation of `runUnivariate` to see the available methods and see documentation of the corresponding `spdep` functions to see the extra arguments required for each method.\n",
    "\n",
    "## Permutation testing\n",
    "To establish whether the spatial autocorrelation is statistically significant, the `moran.test()` function in `spdep` can be used. It provides a p-value, but the p-value may not be accurate if the data is not normally distributed. As gene expression data is generally not normally distributed and data normalization doesn't always work well, we use permutation testing to test the significance of Moran's I and Geary's C, wrapping `moran.mc()` in `spdep`. The \"mc\" stands for Monte Carlo. The `nsim` argument specifies the number of simulations. \n",
    "\n",
    "The following adds the results to the SFE object:"
   ]
  },
  {
   "cell_type": "code",
   "execution_count": null,
   "id": "c8253a18",
   "metadata": {},
   "outputs": [],
   "source": [
    "set.seed(29)\n",
    "sfe_tissue <- colDataUnivariate(sfe_tissue, features = c(\"nCounts\", \"nGenes\"), \n",
    "                                colGraphName = \"visium\", nsim = 1000,\n",
    "                                type = \"moran.mc\")\n",
    "colFeatureData(sfe_tissue)[c(\"nCounts\", \"nGenes\"),]"
   ]
  },
  {
   "cell_type": "markdown",
   "id": "09d59cd4",
   "metadata": {
    "lines_to_next_cell": 0
   },
   "source": [
    "Note that while the test is performed for multiple features, the p-values here are not corrected for multiple hypothesis testing.\n",
    "\n",
    "The results can be plotted:"
   ]
  },
  {
   "cell_type": "code",
   "execution_count": null,
   "id": "43f2c673",
   "metadata": {
    "fig.alt": "Density plot of Moran's I values from 1000 simulations of nCounts and nGenes. The density plots center around 0 and deminish around 0.06 on the right. Vertical lines mark the actual Moran's I. For both nCounts and nGenes, the actual value, at 0.53 and 0.38 respectively, is far higher than the simulated ones, indicating positive spatial autocorrelation."
   },
   "outputs": [],
   "source": [
    "plotMoranMC(sfe_tissue, c(\"nCounts\", \"nGenes\"))"
   ]
  },
  {
   "cell_type": "markdown",
   "id": "1ab3c0c2",
   "metadata": {},
   "source": [
    "By default, the colorblind friendly palette from [`dittoSeq`](https://bioconductor.org/packages/release/bioc/html/dittoSeq.html) is used for categorical variables. The density plot is of Moran's I from the simulations where the values are permuted and disconnected from spatial locations, and the vertical line is the actual Moran's I value. The simulation indicates that the actual Moran's I is much higher than that from the simulations where the values are dissociated from spatial locations and permuted among the locations, indicating that spatial autocorrelation is very significant. \n",
    "\n",
    "Use `type = \"geary.mc\"` for permutation testing for Geary's C.\n",
    "\n",
    "The `spdep` package can also compute p-values of Moran's I analytically, but the theory behind the mean and variance of the null distribution of Moran's I assumes normal distribution of the data, while gene expression data is generally non-normal. However, according to [@Griffith2010-uy], with large sample size (\"preferably at least 100\"), mean and variance of Moran's I of several iid non-normal simulated datasets (including negative binomial, which is commonly used to model gene expression data) don't seem to deviate much from the values expected from normally distributed data. Spatial transcriptomics datasets typically have thousands or more spots or cells, so sample size is most likely large enough. Hence using the analytical test on non-normal data might not be too bad. However, with large sample size, a minuscule difference can create very significant p-values. Here we perform the analytical test for Moran's I:"
   ]
  },
  {
   "cell_type": "code",
   "execution_count": null,
   "id": "205a7482",
   "metadata": {},
   "outputs": [],
   "source": [
    "sfe_tissue <- colDataUnivariate(sfe_tissue, features = c(\"nCounts\", \"nGenes\"), \n",
    "                                colGraphName = \"visium\", type = \"moran.test\")\n",
    "names(colFeatureData(sfe_tissue))"
   ]
  },
  {
   "cell_type": "markdown",
   "id": "b864ca1c",
   "metadata": {},
   "source": [
    "Now compare the p-values from permutation and analytical test; in both cases here, the default alternative hypothesis is positive spatial autocorrelation:"
   ]
  },
  {
   "cell_type": "code",
   "execution_count": null,
   "id": "2dfd47be",
   "metadata": {},
   "outputs": [],
   "source": [
    "# permutation\n",
    "colFeatureData(sfe_tissue)[c(\"nCounts\", \"nGenes\"), c(\"moran.mc_p.value_Vis5A\", \"moran.test_p.value_Vis5A\")]"
   ]
  },
  {
   "cell_type": "markdown",
   "id": "096d178b",
   "metadata": {
    "lines_to_next_cell": 0
   },
   "source": [
    "The p-values from permutation are limited by the number of permutations (1000 here). Either way, both permutation and analytical tests indicate very significant positive spatial autocorrelation.\n",
    "\n",
    "A limitation of permutation testing of Moran's I is that it assumes that each permutation of the values among the locations is equally likely, which is not necessarily true. For instance, in epidemiology, disease rate in regions with small population more likely assumes more extreme values [@Assuncao1999-xu], which is analogous to rare cell types and lowly expressed genes in histological space given that we divide by total UMI counts per spot. The extent this happens may depend on tissue, gene of interest, technology, and data normalization method.\n",
    "\n",
    "## Correlogram\n",
    "In a correlogram, spatial autocorrelation of higher orders of neighbors (e.g. second order neighbors are neighbors of neighbors) is calculated to see how it decays over the orders. In Visium, with the regular hexagonal grid, order of neighbors is a proxy for distance. For more irregular patterns such as single cells, different methods to find the spatial neighbors may give different results. \n",
    "\n",
    "For `colData`, Moran's I correlogram is computed with"
   ]
  },
  {
   "cell_type": "code",
   "execution_count": null,
   "id": "4570831e",
   "metadata": {},
   "outputs": [],
   "source": [
    "sfe_tissue <- runUnivariate(sfe_tissue, hvgs[1:2], colGraphName = \"visium\", \n",
    "                            order = 10, type = \"sp.correlogram\")"
   ]
  },
  {
   "cell_type": "markdown",
   "id": "ed47be93",
   "metadata": {
    "lines_to_next_cell": 0
   },
   "source": [
    "The results can be plotted with `plotCorrelogram`:"
   ]
  },
  {
   "cell_type": "code",
   "execution_count": null,
   "id": "45847cd4",
   "metadata": {
    "fig.alt": "Line plot with order of neighbors (lags) in the x axis and Moran's I value at each lag in the y axis. The x axis ranges from 1 to 10, and the y axis ranges from 0 to 0.8. The lines show trends of decay of spatial autocorrelation with increasing distance of neighbors. Two genes, Car3 and Mb, are shown. Moran's I of both genes decay somewhat linearly from lag 1 to 10. Car3 decays from around 0.75 to around 0.23. Mb decays from around 0.7 to around 0.13. At each lag the error bars are tight (see next paragraph in the main text) and the p-values are less than 0.001 after Benjamini-Hochberg multiple testing correction over the 2 genes and 10 lags."
   },
   "outputs": [],
   "source": [
    "plotCorrelogram(sfe_tissue, hvgs[1:2], swap_rownames = \"symbol\")"
   ]
  },
  {
   "cell_type": "markdown",
   "id": "39c0dfcf",
   "metadata": {
    "lines_to_next_cell": 0
   },
   "source": [
    "The error bars are twice the standard deviation of the Moran's I value. The standard deviation and p-values (null hypothesis is that Moran's I is 0) come from `moran.test()` (for Geary's C correlogram, `geary.test()`); these should be taken with a grain of salt for data that is not normally distributed. The p-values have been corrected for multiple hypothesis testing across all orders and features. As usual, . means p < 0.1, \\* means p < 0.05, \\*\\* means p < 0.01, and \\*\\*\\* means p < 0.001. \n",
    "\n",
    "Again, this can be done for Geary's C, `colData`, `annotGeometry`, and etc.\n",
    "\n",
    "# Univariate local\n",
    "Local statistics yield a result at each location rather than the whole dataset, while global statistics may obscure local heterogeneity. See [@Fotheringham2009-ak] for an interesting discussion of relationships between global and local spatial statistics. Local statistics are stored in the `localResults` field of the SFE object, which can be accessed by the `localResult()` or `localResults()` functions in the `SpatialFeatureExperiment` package.\n",
    "\n",
    "All univariate local methods in `Voyager` are listed here:"
   ]
  },
  {
   "cell_type": "code",
   "execution_count": null,
   "id": "8084edc2",
   "metadata": {
    "lines_to_next_cell": 2
   },
   "outputs": [],
   "source": [
    "listSFEMethods(variate = \"uni\", scope = \"local\")"
   ]
  },
  {
   "cell_type": "markdown",
   "id": "cd95ca43",
   "metadata": {
    "lines_to_next_cell": 0
   },
   "source": [
    "## Moran scatter plot\n",
    "In the Moran scatter plot [@Anselin1996-mo], the x axis is the value at a spot, and the y axis is the average value of the neighbors. The slope of the fitted line is Moran's I. Sometimes clusters appear in this plot, showing different kinds of neighborhoods. \n",
    "\n",
    "For gene expression, to use one gene (log normalized value) to demonstrate:"
   ]
  },
  {
   "cell_type": "code",
   "execution_count": null,
   "id": "8d7aaa6c",
   "metadata": {},
   "outputs": [],
   "source": [
    "sfe_tissue <- runUnivariate(sfe_tissue, \"Myh2\", colGraphName = \"visium\", \n",
    "                            type = \"moran.plot\", swap_rownames = \"symbol\")"
   ]
  },
  {
   "cell_type": "code",
   "execution_count": null,
   "id": "03fadf52",
   "metadata": {
    "fig.alt": "Moran scatter plot of log normalized values of gene Myh2. This plot is described in the upcoming main text."
   },
   "outputs": [],
   "source": [
    "moranPlot(sfe_tissue, \"Myh2\", graphName = \"visium\", swap_rownames = \"symbol\")"
   ]
  },
  {
   "cell_type": "markdown",
   "id": "fa7b1898",
   "metadata": {},
   "source": [
    "The dashed lines mark the mean in Myh2 and spatially lagged Myh2. There are no singletons here. Some Visium spots with lower Myh2 expression have neighbors that don't express Myh2 but spots that don't express Myh2 usually have at least some neighbors that do. There are twp main clusters for spots whose neighbors do express Myh2: those with high (above average) expression whose neighbors also have high expression, and those with low expression whose neighbors also have low expression. Other features may show different kinds of clusters. We can use k-means clustering to identify clusters, though any clustering method supported by the `bluster` package can be used."
   ]
  },
  {
   "cell_type": "code",
   "execution_count": null,
   "id": "ea8a2b2b",
   "metadata": {},
   "outputs": [],
   "source": [
    "set.seed(29)\n",
    "clusts <- clusterMoranPlot(sfe_tissue, \"Myh2\", BLUSPARAM = KmeansParam(2),\n",
    "                           swap_rownames = \"symbol\")"
   ]
  },
  {
   "cell_type": "markdown",
   "id": "fd57d6f2",
   "metadata": {
    "lines_to_next_cell": 0
   },
   "source": [
    "We can use the [gget search](https://pachterlab.github.io/gget/search.html) module to get the Ensembl ID for Myh2:"
   ]
  },
  {
   "cell_type": "code",
   "execution_count": null,
   "id": "6912e6ee",
   "metadata": {},
   "outputs": [],
   "source": [
    "gget$search(\"Myh2\", species=\"mouse\")"
   ]
  },
  {
   "cell_type": "code",
   "execution_count": null,
   "id": "1e63865d",
   "metadata": {
    "fig.alt": "Moran scatter plot of log normalized value of Myh1, colored by 2 k-means clusters, which correspond to the high-high and low-low spots."
   },
   "outputs": [],
   "source": [
    "moranPlot(sfe_tissue, \"Myh2\", graphName = \"visium\", \n",
    "          color_by = clusts$ENSMUSG00000033196, swap_rownames = \"symbol\")"
   ]
  },
  {
   "cell_type": "markdown",
   "id": "b0bfed92",
   "metadata": {
    "lines_to_next_cell": 0
   },
   "source": [
    "Plot the clusters in space"
   ]
  },
  {
   "cell_type": "code",
   "execution_count": null,
   "id": "5012c95f",
   "metadata": {
    "fig.alt": "Visium spots in space colored by the k-means clusters. Cluster 2 (high-high) are mostly in the upper left and lower left parts of the tissue, and the rest of the spots are cluster 1."
   },
   "outputs": [],
   "source": [
    "colData(sfe_tissue)$Myh2_moranPlot_clust <- clusts$ENSMUSG00000033196\n",
    "plotSpatialFeature(sfe_tissue, \"Myh2_moranPlot_clust\", colGeometryName = \"spotPoly\",\n",
    "                   image = \"lowres\", color = \"black\", linewidth = 0.1)"
   ]
  },
  {
   "cell_type": "markdown",
   "id": "0f6be4ce",
   "metadata": {},
   "source": [
    "This can also be done for `colData`, `annotGeometry`, and etc. as in Moran's I and permutation testing. \n",
    "\n",
    "## Local Moran's I\n",
    "To recap, global Moran's I is defined as\n",
    "\n",
    "$$\n",
    "I = \\frac{n}{\\sum_{i=1}^n \\sum_{j=1}^n w_{ij}} \\frac{\\sum_{i=1}^n \\sum_{j=1}^n w_{ij} (x_i - \\bar{x})(x_j - \\bar{x})}{\\sum_{i=1}^n (x_i - \\bar{x})^2}.\n",
    "$$\n",
    "\n",
    "Local Moran's I [@Anselin1995-cs] is defined as\n",
    "\n",
    "$$\n",
    "I_i = (n-1)\\frac{(x_i - \\bar{x})\\sum_{j=1}^n w_{ij} (x_j - \\bar{x})}{\\sum_{i=1}^n (x_i - \\bar{x})^2}.\n",
    "$$\n",
    "\n",
    "It's similar to global Moran's I, but the values at locations $i$ are not summed and there's no normalization by the sum of spatial weights. "
   ]
  },
  {
   "cell_type": "code",
   "execution_count": null,
   "id": "3bb4e97c",
   "metadata": {},
   "outputs": [],
   "source": [
    "sfe_tissue <- runUnivariate(sfe_tissue, type = \"localmoran\", features = \"Myh2\",\n",
    "                            colGraphName = \"visium\", swap_rownames = \"symbol\")"
   ]
  },
  {
   "cell_type": "markdown",
   "id": "01ebd703",
   "metadata": {
    "lines_to_next_cell": 0
   },
   "source": [
    "It is useful to plot the log normalized Myh2 gene expression as context to interpret the local results:"
   ]
  },
  {
   "cell_type": "code",
   "execution_count": null,
   "id": "c41be6f6",
   "metadata": {},
   "outputs": [],
   "source": [
    "plotSpatialFeature(sfe_tissue, features = \"Myh2\", colGeometryName = \"spotPoly\",\n",
    "                   swap_rownames = \"symbol\", image_id = \"lowres\", color = \"black\",\n",
    "                   linewidth = 0.1)"
   ]
  },
  {
   "cell_type": "code",
   "execution_count": null,
   "id": "57038947",
   "metadata": {},
   "outputs": [],
   "source": [
    "plotLocalResult(sfe_tissue, \"localmoran\", features = \"Myh2\", \n",
    "                colGeometryName = \"spotPoly\",divergent = TRUE,\n",
    "                diverge_center = 0, image_id = \"lowres\", \n",
    "                swap_rownames = \"symbol\", color = \"black\",\n",
    "                linewidth = 0.1)"
   ]
  },
  {
   "cell_type": "markdown",
   "id": "dfc63440",
   "metadata": {},
   "source": [
    "We see that regions with higher Myh2 expression also have stronger spatial autocorrelation. It is interesting to see how spatial autocorrelation relates to gene expression level, much as finding how variance relates to mean in the expression of each gene, which usually indicates overdispersion compared to Poisson in scRNA-seq and Visium data:"
   ]
  },
  {
   "cell_type": "code",
   "execution_count": null,
   "id": "92a5c91d",
   "metadata": {},
   "outputs": [],
   "source": [
    "df <- data.frame(myh2 = logcounts(sfe_tissue)[rowData(sfe_tissue)$symbol == \"Myh2\",],\n",
    "                 Ii = localResult(sfe_tissue, \"localmoran\", \"Myh2\", \n",
    "                                  swap_rownames = \"symbol\")[,\"Ii\"])\n",
    "ggplot(df, aes(myh2, Ii)) + geom_point(alpha = 0.3) +\n",
    "    labs(x = \"Myh2 (log counts)\", y = \"localmoran\")"
   ]
  },
  {
   "cell_type": "markdown",
   "id": "e18ee6ae",
   "metadata": {
    "lines_to_next_cell": 0
   },
   "source": [
    "For this gene, Visium spots with higher expression also tend to have higher local Moran's I, but this may or may not apply to other genes.\n",
    "\n",
    "Local spatial analyses often return a matrix or data frame. The `plotLocalResult()` function has a default column for each local spatial method, but other columns can be plotted as well. Use the `localResultAttrs()` function to see which columns are present, and use the `attribute` argument to specify which column to plot."
   ]
  },
  {
   "cell_type": "code",
   "execution_count": null,
   "id": "cd439f70",
   "metadata": {},
   "outputs": [],
   "source": [
    "localResultAttrs(sfe_tissue, \"localmoran\", \"Myh2\", swap_rownames = \"symbol\")"
   ]
  },
  {
   "cell_type": "markdown",
   "id": "ab8cb84b",
   "metadata": {},
   "source": [
    "Some local spatial methods return p-values at each location, in a column with name like `Pr(z != E(Ii))`, where the test is two sided (default, can be changed with the `alternative` argument in `runUnivariate()` which is passed to the relevant underlying function in `spdep`). Negative log of the p-value is computed to facilitate visualization, and the p-value is corrected for multiple hypothesis testing with `p.adjustSP()` in `spdep`, where the number of tests is the number of neighbors of each location rather than the total number of locations (`-log10p_adj`)."
   ]
  },
  {
   "cell_type": "code",
   "execution_count": null,
   "id": "03ad114d",
   "metadata": {},
   "outputs": [],
   "source": [
    "plotLocalResult(sfe_tissue, \"localmoran\", features = \"Myh2\", \n",
    "                colGeometryName = \"spotPoly\", attribute = \"-log10p_adj\", divergent = TRUE,\n",
    "                diverge_center = -log10(0.05), swap_rownames = \"symbol\",\n",
    "                image_id = \"lowres\", color = \"black\",\n",
    "                linewidth = 0.1)"
   ]
  },
  {
   "cell_type": "markdown",
   "id": "f3656d20",
   "metadata": {
    "lines_to_next_cell": 0
   },
   "source": [
    "In this plot and all following plots of p-values, a divergent palette is used to show locations that are significant after adjusting for multiple testing and those that are not significant in different colors. The center of the divergent palette is p = 0.05, so the bluish spots are significant while a dark brown means _really_ not significant.\n",
    "\n",
    "The \"pysal\" column displays the quadrants relative to the means in the Moran plot. The result is similar to that from k-means clustering shown above."
   ]
  },
  {
   "cell_type": "code",
   "execution_count": null,
   "id": "f5fdc10c",
   "metadata": {},
   "outputs": [],
   "source": [
    "plotLocalResult(sfe_tissue, \"localmoran\", features = \"Myh2\", \n",
    "                colGeometryName = \"spotPoly\", attribute = \"pysal\", \n",
    "                swap_rownames = \"symbol\", image_id = \"lowres\", color = \"black\",\n",
    "                linewidth = 0.1)"
   ]
  },
  {
   "cell_type": "markdown",
   "id": "de6a6046",
||||||| 3477967
   "id": "a922d7d2",
   "metadata": {
    "lines_to_next_cell": 0
   },
   "source": [
    "## Getis-Ord Gi\\*\n",
    "Getis-Ord Gi\\* is used to find hotspots and coldspots of a feature in space. A hotspot is a cluster of high values in space, and a coldspot is a cluster of low values in space. Getis-Ord Gi\\* is essentially the z-score of the spatially lagged value of the feature at each location $i$ ($\\sum_j w_{ij}x_j $), where $w_{ij}$ is the spatial weight. In the [original publication for Getis-Ord Gi\\* from 1992](https://onlinelibrary.wiley.com/doi/10.1111/j.1538-4632.1992.tb00261.x) [@Getis1992-fr], the spatial weight is a distance-based binary weight indicating whether another location is within a certain distance from each location $i$. Getis-Ord Gi excludes the location $i$ itself in the computation of mean and variance of the lagged value, while Gi\\* includes the location $i$ itself. Usually Gi and Gi\\* yield similar results. The mean and variance used in the z-score differ in Gi and Gi\\* and is described in [this paper from 1995](https://onlinelibrary.wiley.com/doi/10.1111/j.1538-4632.1995.tb00912.x) [@Ord1995-we] and derived in [@Getis1992-fr].\n",
    "\n",
    "Binary weights are recommended for Getis-Ord Gi\\*."
   ]
  },
  {
   "cell_type": "code",
   "execution_count": null,
   "id": "0f206d1e",
   "metadata": {},
   "outputs": [],
   "source": [
    "colGraph(sfe_tissue, \"visium_B\") <- findVisiumGraph(sfe_tissue, style = \"B\")"
   ]
  },
  {
   "cell_type": "code",
   "execution_count": null,
   "id": "1e334c66",
   "metadata": {},
   "outputs": [],
   "source": [
    "sfe_tissue <- runUnivariate(sfe_tissue, type = \"localG_perm\", features = \"Myh2\",\n",
    "                            colGraphName = \"visium_B\", include_self = TRUE,\n",
    "                            swap_rownames = \"symbol\")"
   ]
  },
  {
   "cell_type": "code",
   "execution_count": null,
   "id": "a9eaf9b5",
   "metadata": {},
   "outputs": [],
   "source": [
    "plotLocalResult(sfe_tissue, \"localG_perm\", features = \"Myh2\", \n",
    "                colGeometryName = \"spotPoly\", divergent = TRUE,\n",
    "                diverge_center = 0, image_id = \"lowres\", swap_rownames = \"symbol\", \n",
    "                color = \"black\", linewidth = 0.1)"
   ]
  },
  {
   "cell_type": "markdown",
   "id": "6c8c0552",
   "metadata": {},
   "source": [
    "High values of Gi\\* indicate hotspots, while low values of Gi\\* indicate coldspots."
   ]
  },
  {
   "cell_type": "code",
   "execution_count": null,
   "id": "c181c90b",
   "metadata": {},
   "outputs": [],
   "source": [
    "localResultAttrs(sfe_tissue, \"localG_perm\", \"Myh2\", swap_rownames = \"symbol\")"
   ]
  },
  {
   "cell_type": "markdown",
   "id": "1dc8548d",
   "metadata": {
    "lines_to_next_cell": 0
   },
   "source": [
    "Plot the pseudo-p-values from the simulation"
   ]
  },
  {
   "cell_type": "code",
   "execution_count": null,
   "id": "1e3e8920",
   "metadata": {},
   "outputs": [],
   "source": [
    "plotLocalResult(sfe_tissue, \"localG_perm\", features = \"Myh2\", \n",
    "                attribute = \"-log10p_adj Sim\",\n",
    "                colGeometryName = \"spotPoly\", divergent = TRUE,\n",
    "                diverge_center = -log10(0.05), swap_rownames = \"symbol\",\n",
    "                image_id = \"lowres\")"
   ]
  },
  {
   "cell_type": "markdown",
   "id": "4c15eae1",
   "metadata": {
    "lines_to_next_cell": 0
   },
   "source": [
    "The hotspots are as expected. Here warm color indicates adjusted $p < 0.05$. \n",
    "\n",
    "Local results can also be computed for annotation geometries."
   ]
  },
  {
   "cell_type": "code",
   "execution_count": null,
   "id": "e8d2c9f9",
   "metadata": {},
   "outputs": [],
   "source": [
    "annotGraph(sfe_tissue, \"myofiber_poly2nb_B\") <- \n",
    "  findSpatialNeighbors(sfe_tissue, type = \"myofiber_simplified\", MARGIN = 3,\n",
    "                       method = \"poly2nb\", zero.policy = TRUE, style = \"B\")"
   ]
  },
  {
   "cell_type": "code",
   "execution_count": null,
   "id": "a4c4bc68",
   "metadata": {},
   "outputs": [],
   "source": [
    "sfe_tissue <- annotGeometryUnivariate(sfe_tissue, \"localG_perm\", \"area\", \n",
    "                                      annotGeometryName = \"myofiber_simplified\",\n",
    "                                      annotGraphName = \"myofiber_poly2nb_B\",\n",
    "                                      include_self = TRUE, zero.policy = TRUE)"
   ]
  },
  {
   "cell_type": "code",
   "execution_count": null,
   "id": "d0cacd25",
   "metadata": {},
   "outputs": [],
   "source": [
    "plotLocalResult(sfe_tissue, \"localG_perm\", \"area\", \n",
    "                annotGeometryName = \"myofiber_simplified\",\n",
    "                divergent = TRUE, diverge_center = 0)"
   ]
  },
  {
   "cell_type": "code",
   "execution_count": null,
   "id": "24c1f29e",
   "metadata": {},
   "outputs": [],
   "source": [
    "plotLocalResult(sfe_tissue, \"localG_perm\", \"area\", \n",
    "                annotGeometryName = \"myofiber_simplified\",\n",
    "                attribute = \"-log10p_adj Sim\",\n",
    "                divergent = TRUE, diverge_center = -log10(0.05))"
   ]
  },
  {
   "cell_type": "markdown",
   "id": "6a853fad",
   "metadata": {
    "lines_to_next_cell": 0
   },
   "source": [
    "The hotspots and coldspots are as expected. Warm color indicates adjusted $p < 0.05$.\n",
    "\n",
    "## Local spatial heteroscedasticity (LOSH)\n",
    "LOSH [@Ord2012-qi] is defined as\n",
    "\n",
    "$$\n",
    "H_i = \\frac{\\sum_j w_{ij}\\left| e_j \\right|^a}{h_1\\sum_j w_{ij}}\n",
    "$$\n",
    "\n",
    "where$h_1 = \\sum_i \\left| e_i \\right|^a/n$, $e_j = x_j - \\bar{x}_j$, and\n",
    "\n",
    "$$\n",
    "\\bar{x}_j = \\frac{\\sum_j w_{jk}x_k}{\\sum_j w_{jk}}.\n",
    "$$\n",
    "\n",
    "By default, $a = 2$ so LOSH is like a local variance. See [@Ord2012-qi] for more details and interpretation. "
   ]
  },
  {
   "cell_type": "code",
   "execution_count": null,
   "id": "38a2e12c",
   "metadata": {},
   "outputs": [],
   "source": [
    "sfe_tissue <- runUnivariate(sfe_tissue, \"LOSH.cs\", \"Myh2\", \n",
    "                            colGraphName = \"visium\", swap_rownames = \"symbol\")"
   ]
  },
  {
   "cell_type": "code",
   "execution_count": null,
   "id": "44cabdd1",
   "metadata": {},
   "outputs": [],
   "source": [
    "plotLocalResult(sfe_tissue, \"LOSH.cs\", features = \"Myh2\", \n",
    "                colGeometryName = \"spotPoly\", swap_rownames = \"symbol\",\n",
    "                image_id = \"lowres\")"
   ]
  },
  {
   "cell_type": "markdown",
   "id": "7768e83f",
   "metadata": {},
   "source": [
    "For this gene, it isn't clear whether LOSH relates to gene expression levels."
   ]
  },
  {
   "cell_type": "code",
   "execution_count": null,
   "id": "ac9935e3",
   "metadata": {},
   "outputs": [],
   "source": [
    "localResultAttrs(sfe_tissue, \"LOSH.cs\", \"Myh2\", swap_rownames = \"symbol\")"
   ]
  },
  {
   "cell_type": "markdown",
   "id": "be4bfa96",
   "metadata": {},
   "source": [
    "While `Voyager` does wrap `LOSH.mc()` to perform permutation testing of LOSH, this is very time consuming. A chi-squared approximation is described in the 2012 LOSH paper to account for non-normality of the data and to approximate the mean and variance of the permutation distributions, so p-values of LOSH can be more quickly computed, with `LOSH.cs()`."
   ]
  },
  {
   "cell_type": "code",
   "execution_count": null,
   "id": "88fe7252",
   "metadata": {},
   "outputs": [],
   "source": [
    "plotLocalResult(sfe_tissue, \"LOSH.cs\", features = \"Myh2\", \n",
    "                attribute = \"-log10p_adj\", colGeometryName = \"spotPoly\",\n",
    "                divergent = TRUE, diverge_center = -log10(0.05),\n",
    "                swap_rownames = \"symbol\", image_id = \"lowres\") +\n",
    "    theme_void()"
   ]
  },
  {
   "cell_type": "markdown",
   "id": "bd2799bb",
   "metadata": {
    "lines_to_next_cell": 0
   },
   "source": [
    "For this gene, the local conditions are mostly homogenous, except for a few spots most at the injury site. Warm color indicates adjusted $p < 0.05$.\n",
    "\n",
    "# Caveats\n",
    "1. In the current version of `Voyager`, only univariate spatial autocorrelation metrics are supported. Anisotropy, bivariate, and multivariate spatial analyses will be added in later versions.\n",
    "2. The H&E image can alter perception of the colors of the geometries.\n",
    "3. Only 2D data is supported at present, although in principle, `sf` and `GEOS` support 3D data.\n",
    "4. Spatial neighborhoods only make sense within the same tissue section. Then what to do with multiple tissue sections, from biological replica, and from different conditions? For the mouse brain, different biological replica can be registered to the Allen Common Coordinate Framework (CCF) to be spatially comparable. Indeed, it would be interesting to see the biological variability of healthy wild type gene expression at the same fine scaled region in the brain. However, there is no CCF for tissues without a stereotypical structure, such as adipose and skeletal muscle. We don't have a good solution to spatially compare different tissue sections yet. Perhaps global spatial statistics over the whole section or histological regions within the section can be compared. The problem remains to select the most informative metrics to compare. Perhaps a spatially-informed dimension reduction method, taking not only the gene count matrix, but also the adjacency matrices of the spatial neighborhood graphs (different sections will be different blocks in the matrix) projecting the cells or Visium spots from different sections into a shared low dimensional space can facilitate the comparison. Here batch effect must be corrected, and the dimension reduction should be interpretable, and scalable.\n",
    "\n",
    "# Session info"
   ]
  },
  {
   "cell_type": "code",
   "execution_count": null,
   "id": "3d6c9f7b",
   "metadata": {},
   "outputs": [],
   "source": [
    "sessionInfo()"
   ]
  },
  {
   "cell_type": "markdown",
   "id": "0371af58",
   "metadata": {},
   "source": [
    "# References"
   ]
  }
 ],
 "metadata": {
  "kernelspec": {
   "display_name": "R",
   "language": "R",
   "name": "ir"
  }
 },
 "nbformat": 4,
 "nbformat_minor": 5
}
||||||| 6b0d1f4
=======
{
 "cells": [
  {
   "cell_type": "raw",
   "id": "2f6c6e4a",
   "metadata": {},
   "source": [
    "---\n",
    "title: \"Spatial Visium exploratory data analysis\"\n",
    "author: \"Lambda Moses\"\n",
    "date: \"`r Sys.Date()`\"\n",
    "output: \n",
    "  html_document:\n",
    "  toc: true\n",
    "  toc_float:\n",
    "    collapsed: false\n",
    "  toc_depth: 3\n",
    "bibliography: ref.bib\n",
    "vignette: >\n",
    "  %\\VignetteIndexEntry{Spatial Visium exploratory data analysis}\n",
    "  %\\VignetteEngine{knitr::rmarkdown}\n",
    "  %\\VignetteEncoding{UTF-8}\n",
    "---"
   ]
  },
  {
   "cell_type": "code",
   "execution_count": null,
   "id": "99bf45d0",
   "metadata": {
    "tags": [
     "remove_cell"
    ]
   },
   "outputs": [],
   "source": [
    "knitr::opts_chunk$set(\n",
    "  collapse = TRUE,\n",
    "  comment = \"#>\", fig.align = \"center\"\n",
    ")"
   ]
  },
  {
   "cell_type": "code",
   "execution_count": null,
   "id": "d60758de",
   "metadata": {
    "eval": false,
    "tags": [
     "remove_cell"
    ]
   },
   "outputs": [],
   "source": [
    "# Install Google Colab dependencies\n",
    "# Note: this can take 30+ minutes (many of the dependencies include C++ code, which needs to be compiled)\n",
    "\n",
    "# First install `sf`, `ragg` and `textshaping` and their system dependencies:\n",
    "system(\"apt-get -y update && apt-get install -y  libudunits2-dev libgdal-dev libgeos-dev libproj-dev libharfbuzz-dev libfribidi-dev\")\n",
    "install.packages(\"sf\")\n",
    "install.packages(\"textshaping\")\n",
    "install.packages(\"ragg\")\n",
    "\n",
    "# Install system dependencies of some other R packages that Voyager either imports or suggests:\n",
    "system(\"apt-get install -y libfribidi-dev libcairo2-dev libmagick++-dev\")\n",
    "\n",
    "# Install Voyager from Bioconductor:\n",
    "install.packages(\"BiocManager\")\n",
    "BiocManager::install(version = \"3.17\", ask = FALSE, update = FALSE, Ncpus = 2)\n",
    "BiocManager::install(\"scater\")\n",
    "system.time(\n",
    "  BiocManager::install(\"Voyager\", dependencies = TRUE, Ncpus = 2, update = FALSE)\n",
    ")\n",
    "\n",
    "# Additional dependencies for this notebook\n",
    "install.packages(\"reticulate\")\n",
    "\n",
    "packageVersion(\"Voyager\")"
   ]
  },
  {
   "cell_type": "markdown",
   "id": "d6552276",
   "metadata": {},
   "source": [
    "# Introduction \n",
    "\n",
    "This vignette provides an introduction to exploratory spatial data analysis methods via the `Voyager` package in the context of a Visium dataset."
   ]
  },
  {
   "cell_type": "code",
   "execution_count": null,
   "id": "2b1a1d17",
   "metadata": {
    "message": false,
    "name": "setup"
   },
   "outputs": [],
   "source": [
    "library(Voyager)\n",
    "library(SpatialFeatureExperiment)\n",
    "library(scater)\n",
    "library(scran)\n",
    "library(SFEData)\n",
    "library(sf)\n",
    "library(ggplot2)\n",
    "library(scales)\n",
    "library(patchwork)\n",
    "library(BiocParallel)\n",
    "library(bluster)\n",
    "library(dplyr)\n",
    "library(reticulate)\n",
    "theme_set(theme_bw(10))"
   ]
  },
  {
   "cell_type": "code",
   "execution_count": null,
   "id": "4a4bf2d7",
   "metadata": {
    "lines_to_next_cell": 2
   },
   "outputs": [],
   "source": [
    "# Specify Python version to use gget\n",
    "PY_PATH <- system(\"which python\", intern = TRUE)\n",
    "use_python(PY_PATH)\n",
    "py_config()\n",
    "\n",
    "# Install and load gget\n",
    "system(\"pip3 install gget\")\n",
    "gget <- import(\"gget\")"
   ]
  },
  {
   "cell_type": "markdown",
   "id": "0a5d38b2",
   "metadata": {},
   "source": [
    "# Dataset\n",
    "The dataset used in this vignette is from the paper [Large-scale integration of single-cell transcriptomic data captures transitional progenitor states in mouse skeletal muscle regeneration](https://doi.org/10.1038/s42003-021-02810-x) [@McKellar2021-ek]. Notexin was injected into the tibialis anterior muscle of mice to induce injury, and the healing muscle was collected 2, 5, and 7 days post injury for Visium analysis. The dataset in this vignette is from the timepoint at day 2. The vignette starts with a `SpatialFeatureExperiment` (SFE) object.\n",
    "\n",
    "The gene count matrix was directly downloaded [from GEO](https://www.ncbi.nlm.nih.gov/geo/query/acc.cgi?acc=GSM4904759). All 4992 spots, whether in tissue or not, are included. The H&E image was used for nuclei and myofiber segmentation. A subset of nuclei from randomly selected regions from all 3 timepoints were manually annotated to train a StarDist model to segment the rest of the nuclei, and the myofibers were all manually segmented. The tissue boundary was found by thresholding in OpenCV, and small polygons were removed as they are likely to be debris. Spot polygons were constructed with the spot centroid coordinates and diameter in the Space Ranger output. The `in_tissue` column in `colData` indicates which spot polygons intersect the tissue polygons, and is based on `st_intersects()`.\n",
    "\n",
    "Tissue boundary, nuclei, myofiber, and Visium spot polygons are stored as `sf` data frames in the SFE object. See [the vignette of `SpatialFeatureExperiment`](https://bioconductor.org/packages/devel/bioc/vignettes/SpatialFeatureExperiment/inst/doc/SFE.html) for more details on the structure of the SFE object. The SFE object of this dataset is provided in the `SFEData` package; we begin by downloading the data and loading it into R."
   ]
  },
  {
   "cell_type": "code",
   "execution_count": null,
   "id": "9701b8b3",
   "metadata": {},
   "outputs": [],
   "source": [
    "(sfe <- McKellarMuscleData(\"full\"))"
   ]
  },
  {
   "cell_type": "markdown",
   "id": "bd464929",
   "metadata": {
    "lines_to_next_cell": 0
   },
   "source": [
    "The H&E image of this section:\n",
    "![A cross section of mouse muscle is slightly off center to the lower left. In the middle of the tissue is the notexin injury site with leukocyte infiltration and fewer myofibers. The rest of the tissue section is tightly packed with myofibers.](https://raw.githubusercontent.com/pachterlab/voyager/documentation/vignettes/tissue_lowres_5a.jpeg)\n",
    "\n",
    "The image can be added to the SFE object and plotted behind the geometries, and needs to be flipped to align to the spots because the origin is at the top left for the image but bottom left for geometries."
   ]
  },
  {
   "cell_type": "code",
   "execution_count": null,
   "id": "b3d60232",
   "metadata": {},
   "outputs": [],
   "source": [
    "sfe <- addImg(sfe, file = \"tissue_lowres_5a.jpeg\", sample_id = \"Vis5A\", \n",
    "              image_id = \"lowres\", \n",
    "              scale_fct = 1024/22208)\n",
    "sfe <- mirrorImg(sfe, sample_id = \"Vis5A\", image_id = \"lowres\")"
   ]
  },
  {
   "cell_type": "markdown",
   "id": "dce0a074",
   "metadata": {},
   "source": [
    "# Exploratory data analysis\n",
    "## Spots in tissue\n",
    "While the example dataset has all Visium spots whether on tissue or not, only spots that intersect tissue are used for further analyses. "
   ]
  },
  {
   "cell_type": "code",
   "execution_count": null,
   "id": "cc5004ea",
   "metadata": {},
   "outputs": [],
   "source": [
    "names(colData(sfe))"
   ]
  },
  {
   "cell_type": "markdown",
   "id": "62d777af",
   "metadata": {
    "lines_to_next_cell": 0
   },
   "source": [
    "Total UMI counts (`nCounts`), number of genes detected per spot (`nGenes`), and the proportion of mitochondrially encoded counts (`prop_mito`) have been precomputed and are in `colData(sfe)`. The `plotSpatialFeature` function can be used to visualize various attributes in space: the expression of any gene, `colData` values, and geometry attributes in `colGeometry` and `annotGeometry`. The Visium spots are plotted as polygons reflecting their actual size relative to the tissue, rather than as points, as is the case in other packages that plot Visium data. The plotting of geometries is being performed under the hood with `geom_sf`.\n",
    "\n",
    "The tissue boundary was found by thresholding the H&E image and removing small polygons that are most likely debris. The `in_tissue` column of `colData(sfe)` indicates which Visium spot polygon intersects the tissue polygon; this can be found with `SpatialFeatureExperiment::annotPred()`.\n",
    "\n",
    "We demonstrate the use of `scran` [@Lun2016-yq] for normalization below, although we note that it is not necessarily the best approach to normalizing spatial transcriptomics data. The problem of when and how to normalize spatial transcriptomics data is non-trivial because, as the `nCounts` plot in space shows above, spatial autocorrelation is evident. Furthemrore, in Visium, reverse transcription occurs in situ on the spots, but PCR amplification occurs after the cDNA is dissociated from the spots. Artifacts may be subsequently introduced from the amplification step, and these would not be associated with spatial origin. Spatial artifacts may arise from the diffusion of transcripts and tissue permeablization. However, given how the total counts seem to correspond to histological regions, the total counts may have a biological component and hence should not be treated as a technical artifact to be normalized away as in scRNA-seq data normalization methods. In other words, the issue of normalization for spatial transcriptomics data, and Visium in particular, is complex and is currently unsolved. "
   ]
  },
  {
   "cell_type": "code",
   "execution_count": null,
   "id": "9aebdc43",
   "metadata": {},
   "outputs": [],
   "source": [
    "sfe_tissue <- sfe[,colData(sfe)$in_tissue]\n",
    "sfe_tissue <- sfe_tissue[rowSums(counts(sfe_tissue)) > 0,]"
   ]
  },
  {
   "cell_type": "code",
   "execution_count": null,
   "id": "17c72968",
   "metadata": {},
   "outputs": [],
   "source": [
    "#clusters <- quickCluster(sfe_tissue)\n",
    "#sfe_tissue <- computeSumFactors(sfe_tissue, clusters=clusters)\n",
    "#sfe_tissue <- sfe_tissue[, sizeFactors(sfe_tissue) > 0]\n",
    "sfe_tissue <- logNormCounts(sfe_tissue)"
   ]
  },
  {
   "cell_type": "markdown",
   "id": "507bcf43",
   "metadata": {},
   "source": [
    "Myofiber and nuclei segmentation polygons are available in this dataset in the `annotGeometries` field. Myofibers were manually segmented, and nuclei were segmented with [`StarDist`](https://github.com/stardist/stardist) trained with a manually segmented subset. "
   ]
  },
  {
   "cell_type": "code",
   "execution_count": null,
   "id": "b01ca919",
   "metadata": {},
   "outputs": [],
   "source": [
    "annotGeometryNames(sfe_tissue)"
   ]
  },
  {
   "cell_type": "markdown",
   "id": "65f7fd55",
   "metadata": {
    "lines_to_next_cell": 0
   },
   "source": [
    "### From myofibers and nuclei to Visium spots\n",
    "The `plotSpatialFeature()` function can also be used to plot attributes of geometries, i.e. the non-geometry columns in the `sf` data frames in the `rowGeometries`, `colGeometries`, or `annotGeometries` fields of the SFE object. For `rowGeometries` and `colGeometries`, such columns which are associated with the `sf` data frames rather than `rowData` or `colData`, are allowed because one can specify how these columns associate with the geometries (see [`st_agr`](https://r-spatial.github.io/sf/reference/st_agr.html) and [documentation of `st_sf`](https://r-spatial.github.io/sf/reference/sf.html#details-1)). When an attribute of an `annotGeometry` is plotted along side gene expression or `colData` or `colGeometry` attribute, the `annotGeometry` attribute is plotted with a different color palette to distinguish it from the column associated values. \n",
    "\n",
    "The myofiber polygons from `annotGeometries` can be plotted as shown below, colored by cross section area as observed in the tissue section. The `aes_use` argument is set to `color` rather than `fill` (default for polygons) to only plot the Visium spot outlines to make the myofiber polygons more visible. The `fill` argument is set to `NA` to make the Visium spots look hollow, and the `size` argument controls the thickness of the outlines. The `annot_aes` argument specifies which column in the `annotGeometry` to use to specify the values of an aesthstic, just like `aes` in `ggplot2` (`aes_string` to be precise, since `tidyeval` is not used here). The `annot_fixed` argument (not used here) can set the fixed size, alpha, color, and etc. for the `annotGeometry`. "
   ]
  },
  {
   "cell_type": "code",
   "execution_count": null,
   "id": "4507932c",
   "metadata": {
    "fig.alt": "Plot of Visium spots in tissue and myofiber polygons in physical space. Visium spots are colored by nCounts, and myofibers are colored by area."
   },
   "outputs": [],
   "source": [
    "plotSpatialFeature(sfe_tissue, features = \"nCounts\", \n",
    "                   colGeometryName = \"spotPoly\",\n",
    "                   annotGeometryName = \"myofiber_simplified\", \n",
    "                   aes_use = \"color\", linewidth = 0.5, fill = NA,\n",
    "                   annot_aes = list(fill = \"area\"))"
   ]
  },
  {
   "cell_type": "markdown",
   "id": "60d252a3",
   "metadata": {
    "lines_to_next_cell": 0
   },
   "source": [
    "The larger myofibers seem to have fewer total counts, possibly because the larger size of these myofibers dilutes the transcripts. This hints at the need for a normalization procedure.\n",
    "\n",
    "With `SpatialFeatureExperiment`, we can find the number of myofibers and nuclei that intersect each Visium spot. The predicate can be [anything implemented in `sf`](https://r-spatial.github.io/sf/reference/geos_binary_pred.html), so for example, the number of nuclei fully covered by each Visium spot can also be found. The default predicate is `st_intersects()`."
   ]
  },
  {
   "cell_type": "code",
   "execution_count": null,
   "id": "6c9bd822",
   "metadata": {},
   "outputs": [],
   "source": [
    "colData(sfe_tissue)$n_myofibers <- \n",
    "  annotNPred(sfe_tissue, colGeometryName = \"spotPoly\",\n",
    "             annotGeometryName = \"myofiber_simplified\")"
   ]
  },
  {
   "cell_type": "code",
   "execution_count": null,
   "id": "5649eaca",
   "metadata": {
    "fig.alt": "Plot of Visium spots in tissue in physical space, colored by number of myofibers intersecting each spot.",
    "fig.height": 4,
    "fig.width": 8
   },
   "outputs": [],
   "source": [
    "plotSpatialFeature(sfe_tissue, features = \"n_myofibers\", \n",
    "                   colGeometryName = \"spotPoly\", image = \"lowres\", color = \"black\",\n",
    "                   linewidth = 0.1)"
   ]
  },
  {
   "cell_type": "markdown",
   "id": "a5954163",
   "metadata": {
    "lines_to_next_cell": 0
   },
   "source": [
    "There is no one-to-one mapping between Visium spots and myofibers. However, we can relate attributes of myofibers to gene expression detected at the Visium spots. One way to do so is to summarize the attributes of all myofibers that intersect (or choose another better predicate implemented in `sf`) each spot, such as to calculate the mean, median, or sum. This can be done with the `annotSummary()` function in `SpatialFeatureExperiment`. The default predicate is `st_intersects()`, and the default summary function is `mean()`."
   ]
  },
  {
   "cell_type": "code",
   "execution_count": null,
   "id": "ef294616",
   "metadata": {},
   "outputs": [],
   "source": [
    "colData(sfe_tissue)$mean_myofiber_area <- \n",
    "  annotSummary(sfe_tissue, \"spotPoly\", \"myofiber_simplified\", \n",
    "               annotColNames = \"area\")[,1] # it always returns a data frame"
   ]
  },
  {
   "cell_type": "code",
   "execution_count": null,
   "id": "4b274e60",
   "metadata": {
    "fig.alt": "Plot of Visium spots in tissue in physical space, colored by the average area of myofibers that intersect each spot. The average area is higher near the mid-top right part of the tissue."
   },
   "outputs": [],
   "source": [
    "# The gray spots don't intersect any myofiber\n",
    "plotSpatialFeature(sfe_tissue, \"mean_myofiber_area\", \"spotPoly\", image = \"lowres\", \n",
    "                   color = \"black\", linewidth = 0.1)"
   ]
  },
  {
   "cell_type": "markdown",
   "id": "a7ddfdc1",
   "metadata": {
    "lines_to_next_cell": 0
   },
   "source": [
    "This reveals the relationship between the mean area of myofibers intersecting each Visium spot and other aspects of the spots, such as total counts and gene expression.\n",
    "\n",
    "The NAs designate spots not intersecting any myofibers, e.g. those in the inflammatory region. \n",
    "\n",
    "In the [Basic Visium vignette](https://pachterlab.github.io/Voyager/articles/vig2_visium_basic.html), we encountered two mysterious branches and two clusters in the nGenes vs. nCounts plot and the proportion of mitochondrial counts vs. nCounts plot. Now we see that the two clusters seem to be related to myofiber size."
   ]
  },
  {
   "cell_type": "code",
   "execution_count": null,
   "id": "cdb5fc7e",
   "metadata": {},
   "outputs": [],
   "source": [
    "plotColData(sfe_tissue, x = \"nCounts\", y = \"nGenes\", colour_by = \"mean_myofiber_area\")"
   ]
  },
  {
   "cell_type": "code",
   "execution_count": null,
   "id": "81637bcd",
   "metadata": {},
   "outputs": [],
   "source": [
    "plotColData(sfe_tissue, x = \"nCounts\", y = \"prop_mito\", colour_by = \"mean_myofiber_area\")"
   ]
  },
  {
   "cell_type": "markdown",
   "id": "598e100c",
   "metadata": {
    "lines_to_next_cell": 0
   },
   "source": [
    "### Myofiber types\n",
    "Marker genes: Myh7 (Type I, slow twitch, aerobic), Myh2 (Type IIa, fast twitch, somewhat aerobic), Myh4 (Type IIb, fast twitch, anareobic), Myh1 (Type IIx, fast twitch, anaerobic), from [this protocol](https://www.ncbi.nlm.nih.gov/pmc/articles/PMC5526362/) [@Wang2017-li]"
   ]
  },
  {
   "cell_type": "code",
   "execution_count": null,
   "id": "2bdd4ef8",
   "metadata": {},
   "outputs": [],
   "source": [
    "markers <- c(I = \"Myh7\", IIa = \"Myh2\", IIb = \"Myh4\", IIx = \"Myh1\")"
   ]
  },
  {
   "cell_type": "markdown",
   "id": "45e4de95",
   "metadata": {
    "lines_to_next_cell": 0
   },
   "source": [
    "We can use the [gget search](https://pachterlab.github.io/gget/search.html) and [gget info](https://pachterlab.github.io/gget/info.html) modules from the [gget](https://pachterlab.github.io/gget/) package to get the Ensembl IDs and additional information (for example their [NCBI](https://www.ncbi.nlm.nih.gov/) description) for these marker genes:"
   ]
  },
  {
   "cell_type": "code",
   "execution_count": null,
   "id": "729e1118",
   "metadata": {},
   "outputs": [],
   "source": [
    "gget_search <- gget$search(list(\"Myh7\", \"Myh2\", \"Myh4\", \"Myh1\"), species=\"mouse\")\n",
    "gget_search <- gget_search[gget_search$gene_name %in% list(\"Myh7\", \"Myh2\", \"Myh4\", \"Myh1\"), ]\n",
    "gget_search"
   ]
  },
  {
   "cell_type": "code",
   "execution_count": null,
   "id": "fd5e7ae3",
   "metadata": {},
   "outputs": [],
   "source": [
    "gget_info <- gget$info(gget_search$ensembl_id)\n",
    "\n",
    "rownames(gget_info) <- gget_info$primary_gene_name\n",
    "select(gget_info, ncbi_description)"
   ]
  },
  {
   "cell_type": "markdown",
   "id": "254d824f",
   "metadata": {
    "lines_to_next_cell": 0
   },
   "source": [
    "We first examine the Type I myofibers. This is a fast twitch muscle, so we don't expect many slow twitch Type I myofibers. Row names in `sfe_tissue` are Ensembl IDs in order to avoid ambiguity as sometimes multiple Ensembl IDs have the same gene symbol and some genes have aliases. However, gene symbols are shorter and more human readable than Ensembl IDs, and are better suited to display on plots.  In the `plotSpatialFeature()` function and other functions in `Voyager`, even when the row names are recorded as Ensembl IDs, the `features` argument can take gene symbols if there is a column called \"symbols\" in `rowData(sfe)`, where the function converts the gene symbols to Ensembl IDs. By default, gene symbols are shown on the plot, but the `show_symbol` argument can be set to `FALSE` to show Ensembl IDs instead. If one gene symbol matches multiple Ensembl IDs in the dataset, then a warning will be given.\n",
    "\n",
    "The `exprs_values` argument specifies the assay to use, which is by default \"logcounts\", i.e. the log normalized data. This default may or may not be suitable in practice given that total UMI counts may have biological relevance in spatial data. Therefore, we plot both the raw counts and the log normalized counts:"
   ]
  },
  {
   "cell_type": "code",
   "execution_count": null,
   "id": "ed775b8f",
   "metadata": {},
   "outputs": [],
   "source": [
    "# Function specific for this vignette, with some hard coded values\n",
    "plot_counts_logcounts <- function(sfe, feature) {\n",
    "  p1 <- plotSpatialFeature(sfe, feature, \"spotPoly\",\n",
    "                   annotGeometryName = \"myofiber_simplified\", \n",
    "                   annot_aes = list(fill = \"area\"), show_symbol = TRUE, \n",
    "                   exprs_values = \"counts\", aes_use = \"color\", linewidth = 0.5,\n",
    "                   fill = NA) +\n",
    "    ggtitle(\"Raw counts\")\n",
    "  p2 <- plotSpatialFeature(sfe, feature, \"spotPoly\",\n",
    "                   annotGeometryName = \"myofiber_simplified\", \n",
    "                   annot_aes = list(fill = \"area\"), show_symbol = TRUE, \n",
    "                   exprs_values = \"logcounts\", aes_use = \"color\", linewidth = 0.5,\n",
    "                   fill = NA) +\n",
    "    ggtitle(\"Log normalized counts\")\n",
    "  p1 + p2 +\n",
    "    plot_annotation(title = feature)\n",
    "}"
   ]
  },
  {
   "cell_type": "code",
   "execution_count": null,
   "id": "f6fb2143",
   "metadata": {
    "fig.alt": "Raw and log normalized counts of Myh7, marker gene of type I myofiber, plotted side by side on Visium spots in space, with myofiber polygons colored by myofiber cross section area plotted in the background. Visium spots expressing Myh7 concentrate in the lower left part of the tissue where the myofibers tend to be smaller."
   },
   "outputs": [],
   "source": [
    "plot_counts_logcounts(sfe_tissue, markers[\"I\"])"
   ]
  },
  {
   "cell_type": "markdown",
   "id": "461eafaf",
   "metadata": {
    "lines_to_next_cell": 0
   },
   "source": [
    "A marker gene for type IIa myofibers is shown above. It is straightforward to modify the plotting to display markers for type IIb and type IIx myofibers:"
   ]
  },
  {
   "cell_type": "code",
   "execution_count": null,
   "id": "da10f4c9",
   "metadata": {
    "fig.alt": "Raw and log normalized counts of Myh2, a marker gene of type IIa myofiber, plotted side by side on Visium spots in space, with myofiber polygons colored by myofiber cross section area plotted in the background. Visium spots expressing Myh2 concentrate in the lower left and upper left parts of the tissue where the myofibers tend to be smaller. Log normalized counts show a wider region with higher expression."
   },
   "outputs": [],
   "source": [
    "plot_counts_logcounts(sfe_tissue, markers[\"IIa\"])"
   ]
  },
  {
   "cell_type": "markdown",
   "id": "292c7af1",
   "metadata": {
    "lines_to_next_cell": 0
   },
   "source": [
    "Type IIa myofibers also tend to be clustered together on left side of the tissue.\n",
    "\n",
    "As SFE inherits from SCE, the non-spatial EDA plots from the `scater` package can also be used:"
   ]
  },
  {
   "cell_type": "code",
   "execution_count": null,
   "id": "0597e834",
   "metadata": {
    "fig.alt": "Scatter plot of mean area of myofibers intersecting each Visium spot in the x axis and proportion of mitochondrially encoded counts per spot in the y axis, with points colored by expression of Myh2."
   },
   "outputs": [],
   "source": [
    "plotColData(sfe_tissue, x = \"mean_myofiber_area\", y = \"prop_mito\", \n",
    "            colour_by = markers[\"IIa\"], by_exprs_values = \"logcounts\", \n",
    "            swap_rownames = \"symbol\")"
   ]
  },
  {
   "cell_type": "markdown",
   "id": "1ef295d7",
   "metadata": {},
   "source": [
    "Plotting proportion of mitochondrial counts vs. mean myofiber area, we see two clusters, one with higher proportion of mitochondrial counts and smaller area, and another with lower proportion of mitochondrial counts and on average slightly larger area. Type IIa myofibers tend to have smaller area and a larger proportion of mitochondrial counts.\n",
    "\n",
    "# Spatial neighborhood graphs\n",
    "A spatial neighborhood graph is required to compute spatial dependency metrics such as Moran's I and Geary's C. The `SpatialFeatureExperiment` package wraps methods in `spdep` to find spatial neighborhood graphs, which are stored within the SFE object (see `spdep` documentation for `gabrielneigh()`, `knearneigh()`, `poly2nb()`, and `tri2nb()`). The `Voyager` package then uses these graphs for spatial dependency analyses, again based on `spdep` in this first version, but methods from other geospatial packages, some of which also use the spatial neighborhood graphs, may be added later.\n",
    "\n",
    "For Visium, where the spots are in a hexagonal grid, the spatial neighborhood graph is straightforward. However, for spatial technologies with single cell resolution, e.g. MERFISH, different methods can be used to find the spatial neighborhood graph. In this example, the method \"poly2nb\" was used for myofibers, and it identifies myofiber polygons that physically touch each other. `zero.policy = TRUE` will allow for singletons, i.e. nodes without neighbors in the graph; in the inflamed region, there are more singletons. We have not yet benchmarked spatial neighborhood construction methods to determine which is the \"best\" for different technologies; the particular method used here is for demonstration purposes and may not be the best in practice: "
   ]
  },
  {
   "cell_type": "code",
   "execution_count": null,
   "id": "9ac26c35",
   "metadata": {},
   "outputs": [],
   "source": [
    "colGraph(sfe_tissue, \"visium\") <- findVisiumGraph(sfe_tissue)\n",
    "annotGraph(sfe_tissue, \"myofiber_poly2nb\") <- \n",
    "  findSpatialNeighbors(sfe_tissue, type = \"myofiber_simplified\", MARGIN = 3,\n",
    "                       method = \"poly2nb\", zero.policy = TRUE)"
   ]
  },
  {
   "cell_type": "markdown",
   "id": "3cb328df",
   "metadata": {
    "lines_to_next_cell": 0
   },
   "source": [
    "The `plotColGraph()` function plots the graph in space associated with a `colGeometry`, along with the geometry of interest."
   ]
  },
  {
   "cell_type": "code",
   "execution_count": null,
   "id": "6ac90357",
   "metadata": {
    "fig.alt": "Spatial neighborhood graph of Visium spots that intersect tissue."
   },
   "outputs": [],
   "source": [
    "plotColGraph(sfe_tissue, colGraphName = \"visium\", colGeometryName = \"spotPoly\") +\n",
    "    theme_void()"
   ]
  },
  {
   "cell_type": "markdown",
   "id": "17d68832",
   "metadata": {
    "lines_to_next_cell": 0
   },
   "source": [
    "Similarly, the `plotAnnotGraph()` function plots the graph associated with an `annotGeometry`, along with the geometry of interest. "
   ]
  },
  {
   "cell_type": "code",
   "execution_count": null,
   "id": "e9c4110f",
   "metadata": {
    "fig.alt": "Spatial neighborhood graph of myofibers, where each edge connects two myofibers that touch."
   },
   "outputs": [],
   "source": [
    "plotAnnotGraph(sfe_tissue, annotGraphName = \"myofiber_poly2nb\", \n",
    "               annotGeometryName = \"myofiber_simplified\") + theme_void()"
   ]
  },
  {
   "cell_type": "markdown",
   "id": "167b4ae3",
   "metadata": {
    "lines_to_next_cell": 0
   },
   "source": [
    "There is no `plotRowGraph` yet since we haven't worked with a dataset where spatial graphs related to genes are relevant, although the SFE object supports row graphs.\n",
    "\n",
    "# Exploratory _spatial_ data analysis\n",
    "All spatial autocorrelation metrics in this package can be computed directly on a vector or a matrix rather than an SFE object. The user interface emulates those of dimension reductions in the `scater` package (e.g. `calculateUMAP()` that takes in a matrix or SCE object and returns a matrix, and `runUMAP()` that takes in an SCE object and adds the results to the `reducedDims` field of the SCE object). So `calculate*` functions take in a matrix or an SFE object and directly return the results (format of the results depends on the structure of the results), while `run*` functions take in an SFE object and add the results to the object. In addition, `colData*` functions compute the metrics for numeric variables in `colData`. `colGeometry*` functions compute the metrics for numeric columns in a `colGeometry`. `annotGeometry*` functions compute the metrics for numeric columns in a `annotGeometry`. \n",
    "\n",
    "# Univariate global\n",
    "`Voyager` supports many univariate global spatial autocorrelation implemented in `spdep` for ESDA: Moran's I and Geary's C, permutation testing for Moran's I and Geary's C, Moran plot, and correlograms. In addition, beyond `spdep`, `Voyager` can cluster Moran plots and correlograms. Plotting functions taking in SFE objects are implemented to plot the results with `ggplot2` and with more customization options than `spdep` plotting functions. The functions `calculateUnivariate()`, `runUnivariate()`, `colDataUnivariate()`, `colGeometryUnivariate()`, and `annotGeometryUnivariate()` compute univariate spatial statistics. The argument `type`, which indicates the corresponding function names in `spdep`, determines which spatial statistics are computed. \n",
    "\n",
    "All univariate global methods in `Voyager` are listed here:"
   ]
  },
  {
   "cell_type": "code",
   "execution_count": null,
   "id": "8af930a1",
   "metadata": {},
   "outputs": [],
   "source": [
    "listSFEMethods(variate = \"uni\", scope = \"global\")"
   ]
  },
  {
   "cell_type": "markdown",
   "id": "4468f443",
   "metadata": {
    "lines_to_next_cell": 0
   },
   "source": [
    "When calling `calculate*variate()` or `run*variate()`, the `type` (2nd) argument takes either an `SFEMethod` object (see `SFEMethod()` and [vignette on `SFEMethod`](https://pachterlab.github.io/voyager/articles/sfemethod.html)) or a string that matches an entry in the `name` column in the data frame returned by `listSFEMethods()`.\n",
    "\n",
    "To demonstrate spatial autocorrelation in gene expression, top highly variable genes (HVGs) are used. The HVGs are found with the `scran` method."
   ]
  },
  {
   "cell_type": "code",
   "execution_count": null,
   "id": "4c2713b6",
   "metadata": {},
   "outputs": [],
   "source": [
    "dec <- modelGeneVar(sfe_tissue)\n",
    "hvgs <- getTopHVGs(dec, n = 50)"
   ]
  },
  {
   "cell_type": "markdown",
   "id": "c0027e14",
   "metadata": {
    "lines_to_next_cell": 0
   },
   "source": [
    "A global statistic yields one result for the entire dataset.\n",
    "\n",
    "## Moran's I\n",
    "There are several ways to quantify spatial autocorrelation, the most common of which is Moran's I:\n",
    "\n",
    "$$\n",
    "I = \\frac{n}{\\sum_{i=1}^n \\sum_{j=1}^n w_{ij}} \\frac{\\sum_{i=1}^n \\sum_{j=1}^n w_{ij} (x_i - \\bar{x})(x_j - \\bar{x})}{\\sum_{i=1}^n (x_i - \\bar{x})^2},\n",
    "$$\n",
    "\n",
    "where $n$ is the number of spots or locations, $i$ and $j$ are different locations, or spots in the Visium context, $x$ is a variable with values at each location, and $w_{ij}$ is a spatial weight, which can be inversely proportional to distance between spots or an indicator of whether two spots are neighbors, subject to various definitions of neighborhood and whether to normalize the number of neighbors. The [`spdep`](https://r-spatial.github.io/spdep/index.html) package uses the neighborhood. \n",
    "\n",
    "Moran's I can be understood as the Pearson correlation between the value at each location and the average value at its neighbors. Just like Pearson correlation, Moran's I is generally bound between -1 and 1, where positive value indicates positive spatial autocorrelation and negative value indicates negative spatial autocorrelation. \n",
    "\n",
    "Upon visual inspection, total UMI counts per spot seem to have spatial autocorrelation. A spatial neighborhood graph is required to compute Moran's I, and is specified with the `listw` argument. \n",
    "\n",
    "For matrices, the rows are the features, as in the gene count matrix."
   ]
  },
  {
   "cell_type": "code",
   "execution_count": null,
   "id": "684f854e",
   "metadata": {},
   "outputs": [],
   "source": [
    "# Directly use vector or matrix, and multiple features can be specified at once\n",
    "calculateUnivariate(t(colData(sfe_tissue)[,c(\"nCounts\", \"nGenes\")]), \n",
    "                    type = \"moran\",\n",
    "                    listw = colGraph(sfe_tissue, \"visium\"))"
   ]
  },
  {
   "cell_type": "markdown",
   "id": "041dc5e0",
   "metadata": {
    "lines_to_next_cell": 0
   },
   "source": [
    "\"moran\" is Moran's I, and K is sample kurtosis.\n",
    "\n",
    "To add the results to the SFE object, specifically for colData:"
   ]
  },
  {
   "cell_type": "code",
   "execution_count": null,
   "id": "9df6da36",
   "metadata": {},
   "outputs": [],
   "source": [
    "sfe_tissue <- colDataUnivariate(sfe_tissue, features = c(\"nCounts\", \"nGenes\"),\n",
    "                                colGraphName = \"visium\", type = \"moran\")\n",
    "colFeatureData(sfe_tissue)[c(\"nCounts\", \"nGenes\"),]"
   ]
  },
  {
   "cell_type": "markdown",
   "id": "b3cdc243",
   "metadata": {
    "lines_to_next_cell": 0
   },
   "source": [
    "For `colData`, the results are added to `colFeatureData(sfe)`, and features for which Moran's I is not calculated have NA. The column names of `featureData` distinguishes between different samples (there's only one sample in this dataset), and are parsed by plotting functions. \n",
    "\n",
    "To add the results to the SFE object, specifically for geometries: Here \"area\" is the area of the cross section of each myofiber as seen in this tissue section and \"eccentricity\" is the eccentricity of the ellipse fitted to each myofiber."
   ]
  },
  {
   "cell_type": "code",
   "execution_count": null,
   "id": "6ffdae9d",
   "metadata": {},
   "outputs": [],
   "source": [
    "# Remember zero.policy = TRUE since there're singletons\n",
    "sfe_tissue <- annotGeometryUnivariate(sfe_tissue, type = \"moran\",\n",
    "                                      features = c(\"area\", \"eccentricity\"), \n",
    "                                      annotGeometryName = \"myofiber_simplified\",\n",
    "                                      annotGraphName = \"myofiber_poly2nb\", \n",
    "                                      zero.policy = TRUE)\n",
    "head(attr(annotGeometry(sfe_tissue, \"myofiber_simplified\"), \"featureData\"))"
   ]
  },
  {
   "cell_type": "markdown",
   "id": "e9c8c747",
   "metadata": {
    "lines_to_next_cell": 0
   },
   "source": [
    "For a non-geometry column in a `colGeometry`, `colGeometryUnivariate()` is like `annotGeometryUnivariate()` here, but none of the `colGeometries` in this dataset has extra columns.\n",
    "\n",
    "For gene expression, the `logcounts` assay is used by default (use the `exprs_values` argument to change the assay), though this may or may not be best practice. If the metrics are computed for a large number of features, parallel computing is supported, with [`BiocParallel`](https://bioconductor.org/packages/release/bioc/html/BiocParallel.html), with the `BPPARAM` argument."
   ]
  },
  {
   "cell_type": "code",
   "execution_count": null,
   "id": "f7167349",
   "metadata": {},
   "outputs": [],
   "source": [
    "sfe_tissue <- runUnivariate(sfe_tissue, type = \"moran\", features = hvgs, \n",
    "                            colGraphName = \"visium\", \n",
    "                            BPPARAM = MulticoreParam(2))\n",
    "rowData(sfe_tissue)[head(hvgs),]"
   ]
  },
  {
   "cell_type": "markdown",
   "id": "1fe5d431",
   "metadata": {
    "lines_to_next_cell": 0
   },
   "source": [
    "## Geary's C\n",
    "Another spatial autocorrelation metric is Geary's C, defined as:\n",
    "\n",
    "$$\n",
    "C = \\frac{(n-1)}{2\\sum_{i=1}^n \\sum_{j=1}^n w_{ij}} \\frac{\\sum_{i=1}^n \\sum_{j=1}^n w_{ij}(x_i - x_j)^2}{{\\sum_{i=1}^n (x_i - \\bar{x})^2}}\n",
    "$$\n",
    "\n",
    "Geary's C  below 1 indicates positive spatial autocorrelation, and above 1 indicates negative spatial autocorrelation.\n",
    "\n",
    "To compute Geary's C for features of interest replace `type = \"moran\"` in the previous section with `type = \"geary\"`, and add the results to the SFE object. For example, for `colData`"
   ]
  },
  {
   "cell_type": "code",
   "execution_count": null,
   "id": "2b628b93",
   "metadata": {},
   "outputs": [],
   "source": [
    "sfe_tissue <- colDataUnivariate(sfe_tissue, features = c(\"nCounts\", \"nGenes\"),\n",
    "                                colGraphName = \"visium\", type = \"geary\")\n",
    "colFeatureData(sfe_tissue)[c(\"nCounts\", \"nGenes\"),]"
   ]
  },
  {
   "cell_type": "markdown",
   "id": "dc1b56b0",
   "metadata": {
    "lines_to_next_cell": 0
   },
   "source": [
    "There's only one column for K since it's the same for Moran's I and Geary's C. Here both Moran's I and Geary's C suggest positive spatial autocorrelation for `nCounts` and `nGenes`.\n",
    "\n",
    "Other univariate global methods, including permutation testing for Moran's I and Geary's C, correlograms, and Moran scatter plot can also be called with functions such as `runUnivariate`, by specifying the `type` argument. See documentation of `runUnivariate` to see the available methods and see documentation of the corresponding `spdep` functions to see the extra arguments required for each method.\n",
    "\n",
    "## Permutation testing\n",
    "To establish whether the spatial autocorrelation is statistically significant, the `moran.test()` function in `spdep` can be used. It provides a p-value, but the p-value may not be accurate if the data is not normally distributed. As gene expression data is generally not normally distributed and data normalization doesn't always work well, we use permutation testing to test the significance of Moran's I and Geary's C, wrapping `moran.mc()` in `spdep`. The \"mc\" stands for Monte Carlo. The `nsim` argument specifies the number of simulations. \n",
    "\n",
    "The following adds the results to the SFE object:"
   ]
  },
  {
   "cell_type": "code",
   "execution_count": null,
   "id": "c8253a18",
   "metadata": {},
   "outputs": [],
   "source": [
    "set.seed(29)\n",
    "sfe_tissue <- colDataUnivariate(sfe_tissue, features = c(\"nCounts\", \"nGenes\"), \n",
    "                                colGraphName = \"visium\", nsim = 1000,\n",
    "                                type = \"moran.mc\")\n",
    "colFeatureData(sfe_tissue)[c(\"nCounts\", \"nGenes\"),]"
   ]
  },
  {
   "cell_type": "markdown",
   "id": "09d59cd4",
   "metadata": {
    "lines_to_next_cell": 0
   },
   "source": [
    "Note that while the test is performed for multiple features, the p-values here are not corrected for multiple hypothesis testing.\n",
    "\n",
    "The results can be plotted:"
   ]
  },
  {
   "cell_type": "code",
   "execution_count": null,
   "id": "43f2c673",
   "metadata": {
    "fig.alt": "Density plot of Moran's I values from 1000 simulations of nCounts and nGenes. The density plots center around 0 and deminish around 0.06 on the right. Vertical lines mark the actual Moran's I. For both nCounts and nGenes, the actual value, at 0.53 and 0.38 respectively, is far higher than the simulated ones, indicating positive spatial autocorrelation."
   },
   "outputs": [],
   "source": [
    "plotMoranMC(sfe_tissue, c(\"nCounts\", \"nGenes\"))"
   ]
  },
  {
   "cell_type": "markdown",
   "id": "1ab3c0c2",
   "metadata": {},
   "source": [
    "By default, the colorblind friendly palette from [`dittoSeq`](https://bioconductor.org/packages/release/bioc/html/dittoSeq.html) is used for categorical variables. The density plot is of Moran's I from the simulations where the values are permuted and disconnected from spatial locations, and the vertical line is the actual Moran's I value. The simulation indicates that the actual Moran's I is much higher than that from the simulations where the values are dissociated from spatial locations and permuted among the locations, indicating that spatial autocorrelation is very significant. \n",
    "\n",
    "Use `type = \"geary.mc\"` for permutation testing for Geary's C.\n",
    "\n",
    "The `spdep` package can also compute p-values of Moran's I analytically, but the theory behind the mean and variance of the null distribution of Moran's I assumes normal distribution of the data, while gene expression data is generally non-normal. However, according to [@Griffith2010-uy], with large sample size (\"preferably at least 100\"), mean and variance of Moran's I of several iid non-normal simulated datasets (including negative binomial, which is commonly used to model gene expression data) don't seem to deviate much from the values expected from normally distributed data. Spatial transcriptomics datasets typically have thousands or more spots or cells, so sample size is most likely large enough. Hence using the analytical test on non-normal data might not be too bad. However, with large sample size, a minuscule difference can create very significant p-values. Here we perform the analytical test for Moran's I:"
   ]
  },
  {
   "cell_type": "code",
   "execution_count": null,
   "id": "205a7482",
   "metadata": {},
   "outputs": [],
   "source": [
    "sfe_tissue <- colDataUnivariate(sfe_tissue, features = c(\"nCounts\", \"nGenes\"), \n",
    "                                colGraphName = \"visium\", type = \"moran.test\")\n",
    "names(colFeatureData(sfe_tissue))"
   ]
  },
  {
   "cell_type": "markdown",
   "id": "b864ca1c",
   "metadata": {},
   "source": [
    "Now compare the p-values from permutation and analytical test; in both cases here, the default alternative hypothesis is positive spatial autocorrelation:"
   ]
  },
  {
   "cell_type": "code",
   "execution_count": null,
   "id": "2dfd47be",
   "metadata": {},
   "outputs": [],
   "source": [
    "# permutation\n",
    "colFeatureData(sfe_tissue)[c(\"nCounts\", \"nGenes\"), c(\"moran.mc_p.value_Vis5A\", \"moran.test_p.value_Vis5A\")]"
   ]
  },
  {
   "cell_type": "markdown",
   "id": "096d178b",
   "metadata": {
    "lines_to_next_cell": 0
   },
   "source": [
    "The p-values from permutation are limited by the number of permutations (1000 here). Either way, both permutation and analytical tests indicate very significant positive spatial autocorrelation.\n",
    "\n",
    "A limitation of permutation testing of Moran's I is that it assumes that each permutation of the values among the locations is equally likely, which is not necessarily true. For instance, in epidemiology, disease rate in regions with small population more likely assumes more extreme values [@Assuncao1999-xu], which is analogous to rare cell types and lowly expressed genes in histological space given that we divide by total UMI counts per spot. The extent this happens may depend on tissue, gene of interest, technology, and data normalization method.\n",
    "\n",
    "## Correlogram\n",
    "In a correlogram, spatial autocorrelation of higher orders of neighbors (e.g. second order neighbors are neighbors of neighbors) is calculated to see how it decays over the orders. In Visium, with the regular hexagonal grid, order of neighbors is a proxy for distance. For more irregular patterns such as single cells, different methods to find the spatial neighbors may give different results. \n",
    "\n",
    "For `colData`, Moran's I correlogram is computed with"
   ]
  },
  {
   "cell_type": "code",
   "execution_count": null,
   "id": "4570831e",
   "metadata": {},
   "outputs": [],
   "source": [
    "sfe_tissue <- runUnivariate(sfe_tissue, hvgs[1:2], colGraphName = \"visium\", \n",
    "                            order = 10, type = \"sp.correlogram\")"
   ]
  },
  {
   "cell_type": "markdown",
   "id": "ed47be93",
   "metadata": {
    "lines_to_next_cell": 0
   },
   "source": [
    "The results can be plotted with `plotCorrelogram`:"
   ]
  },
  {
   "cell_type": "code",
   "execution_count": null,
   "id": "45847cd4",
   "metadata": {
    "fig.alt": "Line plot with order of neighbors (lags) in the x axis and Moran's I value at each lag in the y axis. The x axis ranges from 1 to 10, and the y axis ranges from 0 to 0.8. The lines show trends of decay of spatial autocorrelation with increasing distance of neighbors. Two genes, Car3 and Mb, are shown. Moran's I of both genes decay somewhat linearly from lag 1 to 10. Car3 decays from around 0.75 to around 0.23. Mb decays from around 0.7 to around 0.13. At each lag the error bars are tight (see next paragraph in the main text) and the p-values are less than 0.001 after Benjamini-Hochberg multiple testing correction over the 2 genes and 10 lags."
   },
   "outputs": [],
   "source": [
    "plotCorrelogram(sfe_tissue, hvgs[1:2], swap_rownames = \"symbol\")"
   ]
  },
  {
   "cell_type": "markdown",
   "id": "39c0dfcf",
   "metadata": {
    "lines_to_next_cell": 0
   },
   "source": [
    "The error bars are twice the standard deviation of the Moran's I value. The standard deviation and p-values (null hypothesis is that Moran's I is 0) come from `moran.test()` (for Geary's C correlogram, `geary.test()`); these should be taken with a grain of salt for data that is not normally distributed. The p-values have been corrected for multiple hypothesis testing across all orders and features. As usual, . means p < 0.1, \\* means p < 0.05, \\*\\* means p < 0.01, and \\*\\*\\* means p < 0.001. \n",
    "\n",
    "Again, this can be done for Geary's C, `colData`, `annotGeometry`, and etc.\n",
    "\n",
    "# Univariate local\n",
    "Local statistics yield a result at each location rather than the whole dataset, while global statistics may obscure local heterogeneity. See [@Fotheringham2009-ak] for an interesting discussion of relationships between global and local spatial statistics. Local statistics are stored in the `localResults` field of the SFE object, which can be accessed by the `localResult()` or `localResults()` functions in the `SpatialFeatureExperiment` package.\n",
    "\n",
    "All univariate local methods in `Voyager` are listed here:"
   ]
  },
  {
   "cell_type": "code",
   "execution_count": null,
   "id": "8084edc2",
   "metadata": {
    "lines_to_next_cell": 2
   },
   "outputs": [],
   "source": [
    "listSFEMethods(variate = \"uni\", scope = \"local\")"
   ]
  },
  {
   "cell_type": "markdown",
   "id": "cd95ca43",
   "metadata": {
    "lines_to_next_cell": 0
   },
   "source": [
    "## Moran scatter plot\n",
    "In the Moran scatter plot [@Anselin1996-mo], the x axis is the value at a spot, and the y axis is the average value of the neighbors. The slope of the fitted line is Moran's I. Sometimes clusters appear in this plot, showing different kinds of neighborhoods. \n",
    "\n",
    "For gene expression, to use one gene (log normalized value) to demonstrate:"
   ]
  },
  {
   "cell_type": "code",
   "execution_count": null,
   "id": "8d7aaa6c",
   "metadata": {},
   "outputs": [],
   "source": [
    "sfe_tissue <- runUnivariate(sfe_tissue, \"Myh2\", colGraphName = \"visium\", \n",
    "                            type = \"moran.plot\", swap_rownames = \"symbol\")"
   ]
  },
  {
   "cell_type": "code",
   "execution_count": null,
   "id": "03fadf52",
   "metadata": {
    "fig.alt": "Moran scatter plot of log normalized values of gene Myh2. This plot is described in the upcoming main text."
   },
   "outputs": [],
   "source": [
    "moranPlot(sfe_tissue, \"Myh2\", graphName = \"visium\", swap_rownames = \"symbol\")"
   ]
  },
  {
   "cell_type": "markdown",
   "id": "fa7b1898",
   "metadata": {},
   "source": [
    "The dashed lines mark the mean in Myh2 and spatially lagged Myh2. There are no singletons here. Some Visium spots with lower Myh2 expression have neighbors that don't express Myh2 but spots that don't express Myh2 usually have at least some neighbors that do. There are twp main clusters for spots whose neighbors do express Myh2: those with high (above average) expression whose neighbors also have high expression, and those with low expression whose neighbors also have low expression. Other features may show different kinds of clusters. We can use k-means clustering to identify clusters, though any clustering method supported by the `bluster` package can be used."
   ]
  },
  {
   "cell_type": "code",
   "execution_count": null,
   "id": "ea8a2b2b",
   "metadata": {},
   "outputs": [],
   "source": [
    "set.seed(29)\n",
    "clusts <- clusterMoranPlot(sfe_tissue, \"Myh2\", BLUSPARAM = KmeansParam(2),\n",
    "                           swap_rownames = \"symbol\")"
   ]
  },
  {
   "cell_type": "markdown",
   "id": "fd57d6f2",
   "metadata": {
    "lines_to_next_cell": 0
   },
   "source": [
    "We can use the [gget search](https://pachterlab.github.io/gget/search.html) module to get the Ensembl ID for Myh2:"
   ]
  },
  {
   "cell_type": "code",
   "execution_count": null,
   "id": "6912e6ee",
   "metadata": {},
   "outputs": [],
   "source": [
    "gget$search(\"Myh2\", species=\"mouse\")"
   ]
  },
  {
   "cell_type": "code",
   "execution_count": null,
   "id": "1e63865d",
   "metadata": {
    "fig.alt": "Moran scatter plot of log normalized value of Myh1, colored by 2 k-means clusters, which correspond to the high-high and low-low spots."
   },
   "outputs": [],
   "source": [
    "moranPlot(sfe_tissue, \"Myh2\", graphName = \"visium\", \n",
    "          color_by = clusts$ENSMUSG00000033196, swap_rownames = \"symbol\")"
   ]
  },
  {
   "cell_type": "markdown",
   "id": "b0bfed92",
   "metadata": {
    "lines_to_next_cell": 0
   },
   "source": [
    "Plot the clusters in space"
   ]
  },
  {
   "cell_type": "code",
   "execution_count": null,
   "id": "5012c95f",
   "metadata": {
    "fig.alt": "Visium spots in space colored by the k-means clusters. Cluster 2 (high-high) are mostly in the upper left and lower left parts of the tissue, and the rest of the spots are cluster 1."
   },
   "outputs": [],
   "source": [
    "colData(sfe_tissue)$Myh2_moranPlot_clust <- clusts$ENSMUSG00000033196\n",
    "plotSpatialFeature(sfe_tissue, \"Myh2_moranPlot_clust\", colGeometryName = \"spotPoly\",\n",
    "                   image = \"lowres\", color = \"black\", linewidth = 0.1)"
   ]
  },
  {
   "cell_type": "markdown",
   "id": "0f6be4ce",
   "metadata": {},
   "source": [
    "This can also be done for `colData`, `annotGeometry`, and etc. as in Moran's I and permutation testing. \n",
    "\n",
    "## Local Moran's I\n",
    "To recap, global Moran's I is defined as\n",
    "\n",
    "$$\n",
    "I = \\frac{n}{\\sum_{i=1}^n \\sum_{j=1}^n w_{ij}} \\frac{\\sum_{i=1}^n \\sum_{j=1}^n w_{ij} (x_i - \\bar{x})(x_j - \\bar{x})}{\\sum_{i=1}^n (x_i - \\bar{x})^2}.\n",
    "$$\n",
    "\n",
    "Local Moran's I [@Anselin1995-cs] is defined as\n",
    "\n",
    "$$\n",
    "I_i = (n-1)\\frac{(x_i - \\bar{x})\\sum_{j=1}^n w_{ij} (x_j - \\bar{x})}{\\sum_{i=1}^n (x_i - \\bar{x})^2}.\n",
    "$$\n",
    "\n",
    "It's similar to global Moran's I, but the values at locations $i$ are not summed and there's no normalization by the sum of spatial weights. "
   ]
  },
  {
   "cell_type": "code",
   "execution_count": null,
   "id": "3bb4e97c",
   "metadata": {},
   "outputs": [],
   "source": [
    "sfe_tissue <- runUnivariate(sfe_tissue, type = \"localmoran\", features = \"Myh2\",\n",
    "                            colGraphName = \"visium\", swap_rownames = \"symbol\")"
   ]
  },
  {
   "cell_type": "markdown",
   "id": "01ebd703",
   "metadata": {
    "lines_to_next_cell": 0
   },
   "source": [
    "It is useful to plot the log normalized Myh2 gene expression as context to interpret the local results:"
   ]
  },
  {
   "cell_type": "code",
   "execution_count": null,
   "id": "c41be6f6",
   "metadata": {},
   "outputs": [],
   "source": [
    "plotSpatialFeature(sfe_tissue, features = \"Myh2\", colGeometryName = \"spotPoly\",\n",
    "                   swap_rownames = \"symbol\", image_id = \"lowres\", color = \"black\",\n",
    "                   linewidth = 0.1)"
   ]
  },
  {
   "cell_type": "code",
   "execution_count": null,
   "id": "57038947",
   "metadata": {},
   "outputs": [],
   "source": [
    "plotLocalResult(sfe_tissue, \"localmoran\", features = \"Myh2\", \n",
    "                colGeometryName = \"spotPoly\",divergent = TRUE,\n",
    "                diverge_center = 0, image_id = \"lowres\", \n",
    "                swap_rownames = \"symbol\", color = \"black\",\n",
    "                linewidth = 0.1)"
   ]
  },
  {
   "cell_type": "markdown",
   "id": "dfc63440",
   "metadata": {},
   "source": [
    "We see that regions with higher Myh2 expression also have stronger spatial autocorrelation. It is interesting to see how spatial autocorrelation relates to gene expression level, much as finding how variance relates to mean in the expression of each gene, which usually indicates overdispersion compared to Poisson in scRNA-seq and Visium data:"
   ]
  },
  {
   "cell_type": "code",
   "execution_count": null,
   "id": "92a5c91d",
   "metadata": {},
   "outputs": [],
   "source": [
    "df <- data.frame(myh2 = logcounts(sfe_tissue)[rowData(sfe_tissue)$symbol == \"Myh2\",],\n",
    "                 Ii = localResult(sfe_tissue, \"localmoran\", \"Myh2\", \n",
    "                                  swap_rownames = \"symbol\")[,\"Ii\"])\n",
    "ggplot(df, aes(myh2, Ii)) + geom_point(alpha = 0.3) +\n",
    "    labs(x = \"Myh2 (log counts)\", y = \"localmoran\")"
   ]
  },
  {
   "cell_type": "markdown",
   "id": "e18ee6ae",
   "metadata": {
    "lines_to_next_cell": 0
   },
   "source": [
    "For this gene, Visium spots with higher expression also tend to have higher local Moran's I, but this may or may not apply to other genes.\n",
    "\n",
    "Local spatial analyses often return a matrix or data frame. The `plotLocalResult()` function has a default column for each local spatial method, but other columns can be plotted as well. Use the `localResultAttrs()` function to see which columns are present, and use the `attribute` argument to specify which column to plot."
   ]
  },
  {
   "cell_type": "code",
   "execution_count": null,
   "id": "cd439f70",
   "metadata": {},
   "outputs": [],
   "source": [
    "localResultAttrs(sfe_tissue, \"localmoran\", \"Myh2\", swap_rownames = \"symbol\")"
   ]
  },
  {
   "cell_type": "markdown",
   "id": "ab8cb84b",
   "metadata": {},
   "source": [
    "Some local spatial methods return p-values at each location, in a column with name like `Pr(z != E(Ii))`, where the test is two sided (default, can be changed with the `alternative` argument in `runUnivariate()` which is passed to the relevant underlying function in `spdep`). Negative log of the p-value is computed to facilitate visualization, and the p-value is corrected for multiple hypothesis testing with `p.adjustSP()` in `spdep`, where the number of tests is the number of neighbors of each location rather than the total number of locations (`-log10p_adj`)."
   ]
  },
  {
   "cell_type": "code",
   "execution_count": null,
   "id": "03ad114d",
   "metadata": {},
   "outputs": [],
   "source": [
    "plotLocalResult(sfe_tissue, \"localmoran\", features = \"Myh2\", \n",
    "                colGeometryName = \"spotPoly\", attribute = \"-log10p_adj\", divergent = TRUE,\n",
    "                diverge_center = -log10(0.05), swap_rownames = \"symbol\",\n",
    "                image_id = \"lowres\", color = \"black\",\n",
    "                linewidth = 0.1)"
   ]
  },
  {
   "cell_type": "markdown",
   "id": "f3656d20",
   "metadata": {
    "lines_to_next_cell": 0
   },
   "source": [
    "In this plot and all following plots of p-values, a divergent palette is used to show locations that are significant after adjusting for multiple testing and those that are not significant in different colors. The center of the divergent palette is p = 0.05, so the bluish spots are significant while a dark brown means _really_ not significant.\n",
    "\n",
    "The \"pysal\" column displays the quadrants relative to the means in the Moran plot. The result is similar to that from k-means clustering shown above."
   ]
  },
  {
   "cell_type": "code",
   "execution_count": null,
   "id": "f5fdc10c",
   "metadata": {},
   "outputs": [],
   "source": [
    "plotLocalResult(sfe_tissue, \"localmoran\", features = \"Myh2\", \n",
    "                colGeometryName = \"spotPoly\", attribute = \"pysal\", \n",
    "                swap_rownames = \"symbol\", image_id = \"lowres\", color = \"black\",\n",
    "                linewidth = 0.1)"
   ]
  },
  {
   "cell_type": "markdown",
   "id": "de6a6046",
=======
   "id": "f89bfd4a",
>>>>>>> 763a65aa00deab365d39bc26b2dcb2cc1410a666
=======
   "id": "c1f6139c",
>>>>>>> 61c8f4bff1b7848db82b013fbfba194514b420ca
   "metadata": {
    "lines_to_next_cell": 0
   },
   "source": [
    "## Getis-Ord Gi\\*\n",
    "Getis-Ord Gi\\* is used to find hotspots and coldspots of a feature in space. A hotspot is a cluster of high values in space, and a coldspot is a cluster of low values in space. Getis-Ord Gi\\* is essentially the z-score of the spatially lagged value of the feature at each location $i$ ($\\sum_j w_{ij} x_j$), where $w_{ij}$ is the spatial weight. In the [original publication for Getis-Ord Gi\\* from 1992](https://onlinelibrary.wiley.com/doi/10.1111/j.1538-4632.1992.tb00261.x) [@Getis1992-fr], the spatial weight is a distance-based binary weight indicating whether another location is within a certain distance from each location $i$. Getis-Ord Gi excludes the location $i$ itself in the computation of mean and variance of the lagged value, while Gi\\* includes the location $i$ itself. Usually Gi and Gi\\* yield similar results. The mean and variance used in the z-score differ in Gi and Gi\\* and is described in [this paper from 1995](https://onlinelibrary.wiley.com/doi/10.1111/j.1538-4632.1995.tb00912.x) [@Ord1995-we] and derived in [@Getis1992-fr].\n",
    "\n",
    "Binary weights are recommended for Getis-Ord Gi\\*."
   ]
  },
  {
   "cell_type": "code",
   "execution_count": null,
   "id": "6fcc03ba",
   "metadata": {},
   "outputs": [],
   "source": [
    "colGraph(sfe_tissue, \"visium_B\") <- findVisiumGraph(sfe_tissue, style = \"B\")"
   ]
  },
  {
   "cell_type": "code",
   "execution_count": null,
   "id": "b31605c4",
   "metadata": {},
   "outputs": [],
   "source": [
    "sfe_tissue <- runUnivariate(sfe_tissue, type = \"localG_perm\", features = \"Myh2\",\n",
    "                            colGraphName = \"visium_B\", include_self = TRUE,\n",
    "                            swap_rownames = \"symbol\")"
   ]
  },
  {
   "cell_type": "code",
   "execution_count": null,
   "id": "6fedc565",
   "metadata": {},
   "outputs": [],
   "source": [
    "plotLocalResult(sfe_tissue, \"localG_perm\", features = \"Myh2\", \n",
    "                colGeometryName = \"spotPoly\", divergent = TRUE,\n",
    "                diverge_center = 0, image_id = \"lowres\", swap_rownames = \"symbol\", \n",
    "                color = \"black\", linewidth = 0.1)"
   ]
  },
  {
   "cell_type": "markdown",
   "id": "f33f6802",
   "metadata": {},
   "source": [
    "High values of Gi\\* indicate hotspots, while low values of Gi\\* indicate coldspots."
   ]
  },
  {
   "cell_type": "code",
   "execution_count": null,
   "id": "95d54ad4",
   "metadata": {},
   "outputs": [],
   "source": [
    "localResultAttrs(sfe_tissue, \"localG_perm\", \"Myh2\", swap_rownames = \"symbol\")"
   ]
  },
  {
   "cell_type": "markdown",
   "id": "1df35e62",
   "metadata": {
    "lines_to_next_cell": 0
   },
   "source": [
    "Plot the pseudo-p-values from the simulation"
   ]
  },
  {
   "cell_type": "code",
   "execution_count": null,
   "id": "e02f37ce",
   "metadata": {},
   "outputs": [],
   "source": [
    "plotLocalResult(sfe_tissue, \"localG_perm\", features = \"Myh2\", \n",
    "                attribute = \"-log10p_adj Sim\",\n",
    "                colGeometryName = \"spotPoly\", divergent = TRUE,\n",
    "                diverge_center = -log10(0.05), swap_rownames = \"symbol\",\n",
    "                image_id = \"lowres\")"
   ]
  },
  {
   "cell_type": "markdown",
   "id": "7d98c549",
   "metadata": {
    "lines_to_next_cell": 0
   },
   "source": [
    "The hotspots are as expected. Here warm color indicates adjusted $p < 0.05$. \n",
    "\n",
    "Local results can also be computed for annotation geometries."
   ]
  },
  {
   "cell_type": "code",
   "execution_count": null,
   "id": "e3321b95",
   "metadata": {},
   "outputs": [],
   "source": [
    "annotGraph(sfe_tissue, \"myofiber_poly2nb_B\") <- \n",
    "  findSpatialNeighbors(sfe_tissue, type = \"myofiber_simplified\", MARGIN = 3,\n",
    "                       method = \"poly2nb\", zero.policy = TRUE, style = \"B\")"
   ]
  },
  {
   "cell_type": "code",
   "execution_count": null,
   "id": "0b655f0c",
   "metadata": {},
   "outputs": [],
   "source": [
    "sfe_tissue <- annotGeometryUnivariate(sfe_tissue, \"localG_perm\", \"area\", \n",
    "                                      annotGeometryName = \"myofiber_simplified\",\n",
    "                                      annotGraphName = \"myofiber_poly2nb_B\",\n",
    "                                      include_self = TRUE, zero.policy = TRUE)"
   ]
  },
  {
   "cell_type": "code",
   "execution_count": null,
   "id": "31c6e3d2",
   "metadata": {},
   "outputs": [],
   "source": [
    "plotLocalResult(sfe_tissue, \"localG_perm\", \"area\", \n",
    "                annotGeometryName = \"myofiber_simplified\",\n",
    "                divergent = TRUE, diverge_center = 0)"
   ]
  },
  {
   "cell_type": "code",
   "execution_count": null,
   "id": "3ba404a8",
   "metadata": {},
   "outputs": [],
   "source": [
    "plotLocalResult(sfe_tissue, \"localG_perm\", \"area\", \n",
    "                annotGeometryName = \"myofiber_simplified\",\n",
    "                attribute = \"-log10p_adj Sim\",\n",
    "                divergent = TRUE, diverge_center = -log10(0.05))"
   ]
  },
  {
   "cell_type": "markdown",
   "id": "b23a1670",
   "metadata": {
    "lines_to_next_cell": 0
   },
   "source": [
    "The hotspots and coldspots are as expected. Warm color indicates adjusted $p < 0.05$.\n",
    "\n",
    "## Local spatial heteroscedasticity (LOSH)\n",
    "LOSH [@Ord2012-qi] is defined as\n",
    "\n",
    "$$\n",
    "H_i = \\frac{\\sum_j w_{ij}\\left| e_j \\right|^a}{h_1\\sum_j w_{ij}}\n",
    "$$\n",
    "\n",
    "where$h_1 = \\sum_i \\left| e_i \\right|^a/n$, $e_j = x_j - \\bar{x}_j$, and\n",
    "\n",
    "$$\n",
    "\\bar{x}_j = \\frac{\\sum_j w_{jk}x_k}{\\sum_j w_{jk}}.\n",
    "$$\n",
    "\n",
    "By default, $a = 2$ so LOSH is like a local variance. See [@Ord2012-qi] for more details and interpretation. "
   ]
  },
  {
   "cell_type": "code",
   "execution_count": null,
   "id": "fcd8ddab",
   "metadata": {},
   "outputs": [],
   "source": [
    "sfe_tissue <- runUnivariate(sfe_tissue, \"LOSH.cs\", \"Myh2\", \n",
    "                            colGraphName = \"visium\", swap_rownames = \"symbol\")"
   ]
  },
  {
   "cell_type": "code",
   "execution_count": null,
   "id": "c9a031d1",
   "metadata": {},
   "outputs": [],
   "source": [
    "plotLocalResult(sfe_tissue, \"LOSH.cs\", features = \"Myh2\", \n",
    "                colGeometryName = \"spotPoly\", swap_rownames = \"symbol\",\n",
    "                image_id = \"lowres\")"
   ]
  },
  {
   "cell_type": "markdown",
   "id": "9c8a57a8",
   "metadata": {},
   "source": [
    "For this gene, it isn't clear whether LOSH relates to gene expression levels."
   ]
  },
  {
   "cell_type": "code",
   "execution_count": null,
   "id": "33e0b051",
   "metadata": {},
   "outputs": [],
   "source": [
    "localResultAttrs(sfe_tissue, \"LOSH.cs\", \"Myh2\", swap_rownames = \"symbol\")"
   ]
  },
  {
   "cell_type": "markdown",
   "id": "3d42bea8",
   "metadata": {},
   "source": [
    "While `Voyager` does wrap `LOSH.mc()` to perform permutation testing of LOSH, this is very time consuming. A chi-squared approximation is described in the 2012 LOSH paper to account for non-normality of the data and to approximate the mean and variance of the permutation distributions, so p-values of LOSH can be more quickly computed, with `LOSH.cs()`."
   ]
  },
  {
   "cell_type": "code",
   "execution_count": null,
   "id": "ca39534a",
   "metadata": {},
   "outputs": [],
   "source": [
    "plotLocalResult(sfe_tissue, \"LOSH.cs\", features = \"Myh2\", \n",
    "                attribute = \"-log10p_adj\", colGeometryName = \"spotPoly\",\n",
    "                divergent = TRUE, diverge_center = -log10(0.05),\n",
    "                swap_rownames = \"symbol\", image_id = \"lowres\") +\n",
    "    theme_void()"
   ]
  },
  {
   "cell_type": "markdown",
   "id": "6a4fbf4b",
   "metadata": {
    "lines_to_next_cell": 0
   },
   "source": [
    "For this gene, the local conditions are mostly homogenous, except for a few spots most at the injury site. Warm color indicates adjusted $p < 0.05$.\n",
    "\n",
    "# Caveats\n",
    "1. In the current version of `Voyager`, only univariate spatial autocorrelation metrics are supported. Anisotropy, bivariate, and multivariate spatial analyses will be added in later versions.\n",
    "2. The H&E image can alter perception of the colors of the geometries.\n",
    "3. Only 2D data is supported at present, although in principle, `sf` and `GEOS` support 3D data.\n",
    "4. Spatial neighborhoods only make sense within the same tissue section. Then what to do with multiple tissue sections, from biological replica, and from different conditions? For the mouse brain, different biological replica can be registered to the Allen Common Coordinate Framework (CCF) to be spatially comparable. Indeed, it would be interesting to see the biological variability of healthy wild type gene expression at the same fine scaled region in the brain. However, there is no CCF for tissues without a stereotypical structure, such as adipose and skeletal muscle. We don't have a good solution to spatially compare different tissue sections yet. Perhaps global spatial statistics over the whole section or histological regions within the section can be compared. The problem remains to select the most informative metrics to compare. Perhaps a spatially-informed dimension reduction method, taking not only the gene count matrix, but also the adjacency matrices of the spatial neighborhood graphs (different sections will be different blocks in the matrix) projecting the cells or Visium spots from different sections into a shared low dimensional space can facilitate the comparison. Here batch effect must be corrected, and the dimension reduction should be interpretable, and scalable.\n",
    "\n",
    "# Session info"
   ]
  },
  {
   "cell_type": "code",
   "execution_count": null,
   "id": "741cfc23",
   "metadata": {},
   "outputs": [],
   "source": [
    "sessionInfo()"
   ]
  },
  {
   "cell_type": "markdown",
   "id": "19e67c66",
   "metadata": {},
   "source": [
    "# References"
   ]
  }
 ],
 "metadata": {
  "kernelspec": {
   "display_name": "R",
   "language": "R",
   "name": "ir"
  }
 },
 "nbformat": 4,
 "nbformat_minor": 5
}
