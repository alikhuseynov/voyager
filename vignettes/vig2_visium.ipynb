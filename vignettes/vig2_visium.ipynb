{
 "cells": [
  {
   "cell_type": "raw",
<<<<<<< HEAD
<<<<<<< HEAD
<<<<<<< HEAD
   "id": "328a7c42",
||||||| 6a30bf1
   "id": "a1ec4b14",
=======
   "id": "87c4e0e3",
>>>>>>> documentation-devel
||||||| d28b18c
   "id": "87c4e0e3",
=======
   "id": "0ad2fee7",
>>>>>>> documentation-devel
||||||| 6893f63
<<<<<<< HEAD
   "id": "328a7c42",
||||||| 6a30bf1
   "id": "a1ec4b14",
=======
   "id": "87c4e0e3",
>>>>>>> documentation-devel
=======
   "id": "8e994868",
>>>>>>> c74c98c2450c2a1ba922ed9442f136238d6bc88b
   "metadata": {},
   "source": [
    "---\n",
    "title: \"Spatial Visium exploratory data analysis\"\n",
    "author: \"Lambda Moses\"\n",
    "date: \"`r Sys.Date()`\"\n",
    "output: \n",
    "  html_document:\n",
    "  toc: true\n",
    "  toc_float:\n",
    "    collapsed: false\n",
    "  toc_depth: 3\n",
    "bibliography: ref.bib\n",
    "vignette: >\n",
    "  %\\VignetteIndexEntry{Spatial Visium exploratory data analysis}\n",
    "  %\\VignetteEngine{knitr::rmarkdown}\n",
    "  %\\VignetteEncoding{UTF-8}\n",
    "---"
   ]
  },
  {
   "cell_type": "code",
   "execution_count": null,
<<<<<<< HEAD
<<<<<<< HEAD
<<<<<<< HEAD
   "id": "a5cd35e1",
||||||| 6a30bf1
   "id": "2a525911",
=======
   "id": "e5940685",
>>>>>>> documentation-devel
||||||| d28b18c
   "id": "e5940685",
=======
   "id": "0c3292b7",
>>>>>>> documentation-devel
||||||| 6893f63
<<<<<<< HEAD
   "id": "a5cd35e1",
||||||| 6a30bf1
   "id": "2a525911",
=======
   "id": "e5940685",
>>>>>>> documentation-devel
=======
   "id": "d676e5b0",
>>>>>>> c74c98c2450c2a1ba922ed9442f136238d6bc88b
   "metadata": {
    "tags": [
     "remove_cell"
    ]
   },
   "outputs": [],
   "source": [
    "knitr::opts_chunk$set(\n",
    "  collapse = TRUE,\n",
    "  comment = \"#>\", fig.align = \"center\"\n",
    ")"
   ]
  },
  {
   "cell_type": "code",
   "execution_count": null,
<<<<<<< HEAD
<<<<<<< HEAD
<<<<<<< HEAD
   "id": "31d688df",
||||||| 6a30bf1
   "id": "79798e73",
=======
   "id": "eabc422e",
>>>>>>> documentation-devel
||||||| d28b18c
   "id": "eabc422e",
=======
   "id": "1f18ae78",
>>>>>>> documentation-devel
||||||| 6893f63
<<<<<<< HEAD
   "id": "31d688df",
||||||| 6a30bf1
   "id": "79798e73",
=======
   "id": "eabc422e",
>>>>>>> documentation-devel
=======
   "id": "f3d36b48",
>>>>>>> c74c98c2450c2a1ba922ed9442f136238d6bc88b
   "metadata": {
    "eval": false,
    "tags": [
     "remove_cell"
    ]
   },
   "outputs": [],
   "source": [
    "# Install Google Colab dependencies\n",
    "# Note: this can take 30+ minutes (many of the dependencies include C++ code, which needs to be compiled)\n",
    "\n",
    "# First install `sf`, `ragg` and `textshaping` and their system dependencies:\n",
    "system(\"apt-get -y update && apt-get install -y  libudunits2-dev libgdal-dev libgeos-dev libproj-dev libharfbuzz-dev libfribidi-dev\")\n",
    "install.packages(\"sf\")\n",
    "install.packages(\"textshaping\")\n",
    "install.packages(\"ragg\")\n",
    "\n",
    "# Install system dependencies of some other R packages that Voyager either imports or suggests:\n",
    "system(\"apt-get install -y libfribidi-dev libcairo2-dev libmagick++-dev\")\n",
    "\n",
    "# Install Voyager from Bioconductor:\n",
    "install.packages(\"BiocManager\")\n",
    "BiocManager::install(version = \"3.17\", ask = FALSE, update = FALSE, Ncpus = 2)\n",
    "BiocManager::install(\"scater\")\n",
    "system.time(\n",
    "  BiocManager::install(\"Voyager\", dependencies = TRUE, Ncpus = 2, update = FALSE)\n",
    ")\n",
    "\n",
    "# Additional dependencies for this notebook\n",
    "install.packages(\"reticulate\")\n",
    "system(\"pip3 install gget\")\n",
    "packageVersion(\"Voyager\")"
   ]
  },
  {
   "cell_type": "markdown",
<<<<<<< HEAD
<<<<<<< HEAD
<<<<<<< HEAD
   "id": "356ed4c5",
||||||| 6a30bf1
   "id": "6aad6afb",
=======
   "id": "270ca683",
>>>>>>> documentation-devel
||||||| d28b18c
   "id": "270ca683",
=======
   "id": "43b550ea",
>>>>>>> documentation-devel
||||||| 6893f63
<<<<<<< HEAD
   "id": "356ed4c5",
||||||| 6a30bf1
   "id": "6aad6afb",
=======
   "id": "270ca683",
>>>>>>> documentation-devel
=======
   "id": "f9c69663",
>>>>>>> c74c98c2450c2a1ba922ed9442f136238d6bc88b
   "metadata": {},
   "source": [
    "# Introduction \n",
    "\n",
    "This vignette provides an introduction to exploratory spatial data analysis methods via the `Voyager` package in the context of a Visium dataset."
   ]
  },
  {
   "cell_type": "code",
   "execution_count": null,
<<<<<<< HEAD
<<<<<<< HEAD
<<<<<<< HEAD
   "id": "02a12b5f",
||||||| 6a30bf1
   "id": "bdf6000b",
=======
   "id": "6c7e5aec",
>>>>>>> documentation-devel
||||||| d28b18c
   "id": "6c7e5aec",
=======
   "id": "3d07be51",
>>>>>>> documentation-devel
||||||| 6893f63
<<<<<<< HEAD
   "id": "02a12b5f",
||||||| 6a30bf1
   "id": "bdf6000b",
=======
   "id": "6c7e5aec",
>>>>>>> documentation-devel
=======
   "id": "7df5d324",
>>>>>>> c74c98c2450c2a1ba922ed9442f136238d6bc88b
   "metadata": {
    "message": false,
    "name": "setup"
   },
   "outputs": [],
   "source": [
    "library(Voyager)\n",
    "library(SpatialFeatureExperiment)\n",
    "library(scater)\n",
    "library(scran)\n",
    "library(SFEData)\n",
    "library(sf)\n",
    "library(ggplot2)\n",
    "library(scales)\n",
    "library(patchwork)\n",
    "library(BiocParallel)\n",
    "library(bluster)\n",
    "library(dplyr)\n",
    "library(reticulate)\n",
    "theme_set(theme_bw(10))"
   ]
  },
  {
   "cell_type": "code",
   "execution_count": null,
<<<<<<< HEAD
<<<<<<< HEAD
<<<<<<< HEAD
   "id": "cabba22a",
||||||| 6a30bf1
   "id": "3065626e",
=======
   "id": "981dab1a",
>>>>>>> documentation-devel
||||||| d28b18c
   "id": "981dab1a",
=======
   "id": "3c70dfb6",
>>>>>>> documentation-devel
||||||| 6893f63
<<<<<<< HEAD
   "id": "cabba22a",
||||||| 6a30bf1
   "id": "3065626e",
=======
   "id": "981dab1a",
>>>>>>> documentation-devel
=======
   "id": "a58edf4d",
>>>>>>> c74c98c2450c2a1ba922ed9442f136238d6bc88b
   "metadata": {
    "lines_to_next_cell": 2
   },
   "outputs": [],
   "source": [
    "# Specify Python version to use gget\n",
    "PY_PATH <- system(\"which python\", intern = TRUE)\n",
    "use_python(PY_PATH)\n",
    "py_config()\n",
    "\n",
    "# Load gget\n",
    "gget <- import(\"gget\")"
   ]
  },
  {
   "cell_type": "markdown",
<<<<<<< HEAD
<<<<<<< HEAD
<<<<<<< HEAD
   "id": "8c8502bb",
||||||| 6a30bf1
   "id": "abf7353e",
=======
   "id": "a19b2e01",
>>>>>>> documentation-devel
||||||| d28b18c
   "id": "a19b2e01",
=======
   "id": "c5ff61d5",
>>>>>>> documentation-devel
||||||| 6893f63
<<<<<<< HEAD
   "id": "8c8502bb",
||||||| 6a30bf1
   "id": "abf7353e",
=======
   "id": "a19b2e01",
>>>>>>> documentation-devel
=======
   "id": "1b929b62",
>>>>>>> c74c98c2450c2a1ba922ed9442f136238d6bc88b
   "metadata": {},
   "source": [
    "# Dataset\n",
    "The dataset used in this vignette is from the paper [Large-scale integration of single-cell transcriptomic data captures transitional progenitor states in mouse skeletal muscle regeneration](https://doi.org/10.1038/s42003-021-02810-x) [@McKellar2021-ek]. Notexin was injected into the tibialis anterior muscle of mice to induce injury, and the healing muscle was collected 2, 5, and 7 days post injury for Visium analysis. The dataset in this vignette is from the timepoint at day 2. The vignette starts with a `SpatialFeatureExperiment` (SFE) object.\n",
    "\n",
    "The gene count matrix was directly downloaded [from GEO](https://www.ncbi.nlm.nih.gov/geo/query/acc.cgi?acc=GSM4904759). All 4992 spots, whether in tissue or not, are included. The H&E image was used for nuclei and myofiber segmentation. A subset of nuclei from randomly selected regions from all 3 timepoints were manually annotated to train a StarDist model to segment the rest of the nuclei, and the myofibers were all manually segmented. The tissue boundary was found by thresholding in OpenCV, and small polygons were removed as they are likely to be debris. Spot polygons were constructed with the spot centroid coordinates and diameter in the Space Ranger output. The `in_tissue` column in `colData` indicates which spot polygons intersect the tissue polygons, and is based on `st_intersects()`.\n",
    "\n",
    "Tissue boundary, nuclei, myofiber, and Visium spot polygons are stored as `sf` data frames in the SFE object. See [the vignette of `SpatialFeatureExperiment`](https://bioconductor.org/packages/devel/bioc/vignettes/SpatialFeatureExperiment/inst/doc/SFE.html) for more details on the structure of the SFE object. The SFE object of this dataset is provided in the `SFEData` package; we begin by downloading the data and loading it into R."
   ]
  },
  {
   "cell_type": "code",
   "execution_count": null,
<<<<<<< HEAD
<<<<<<< HEAD
<<<<<<< HEAD
   "id": "475d9074",
||||||| 6a30bf1
   "id": "f3f60942",
=======
   "id": "05297720",
>>>>>>> documentation-devel
||||||| d28b18c
   "id": "05297720",
=======
   "id": "871c41ef",
>>>>>>> documentation-devel
||||||| 6893f63
<<<<<<< HEAD
   "id": "475d9074",
||||||| 6a30bf1
   "id": "f3f60942",
=======
   "id": "05297720",
>>>>>>> documentation-devel
=======
   "id": "3754c905",
>>>>>>> c74c98c2450c2a1ba922ed9442f136238d6bc88b
   "metadata": {},
   "outputs": [],
   "source": [
    "(sfe <- McKellarMuscleData(\"full\"))"
   ]
  },
  {
   "cell_type": "markdown",
<<<<<<< HEAD
<<<<<<< HEAD
<<<<<<< HEAD
   "id": "2cdd1796",
||||||| 6a30bf1
   "id": "cab160ce",
=======
   "id": "08c4c39b",
>>>>>>> documentation-devel
||||||| d28b18c
   "id": "08c4c39b",
=======
   "id": "4f04155b",
>>>>>>> documentation-devel
||||||| 6893f63
<<<<<<< HEAD
   "id": "2cdd1796",
||||||| 6a30bf1
   "id": "cab160ce",
=======
   "id": "08c4c39b",
>>>>>>> documentation-devel
=======
   "id": "f33efd01",
>>>>>>> c74c98c2450c2a1ba922ed9442f136238d6bc88b
   "metadata": {},
   "source": [
    "The H&E image of this section:\n",
    "![A cross section of mouse muscle is slightly off center to the lower left. In the middle of the tissue is the notexin injury site with leukocyte infiltration and fewer myofibers. The rest of the tissue section is tightly packed with myofibers.](https://raw.githubusercontent.com/pachterlab/voyager/documentation/vignettes/tissue_lowres_5a.jpeg)"
   ]
  },
  {
   "cell_type": "code",
   "execution_count": null,
<<<<<<< HEAD
<<<<<<< HEAD
<<<<<<< HEAD
   "id": "032f9e5f",
||||||| 6a30bf1
   "id": "3f3f6980",
=======
   "id": "91fb711b",
>>>>>>> documentation-devel
||||||| d28b18c
   "id": "91fb711b",
=======
   "id": "5220e177",
>>>>>>> documentation-devel
||||||| 6893f63
<<<<<<< HEAD
   "id": "032f9e5f",
||||||| 6a30bf1
   "id": "3f3f6980",
=======
   "id": "91fb711b",
>>>>>>> documentation-devel
=======
   "id": "e6a43f62",
>>>>>>> c74c98c2450c2a1ba922ed9442f136238d6bc88b
   "metadata": {},
   "outputs": [],
   "source": [
    "if (!file.exists(\"tissue_lowres_5a.jpeg\")) {\n",
    "    download.file(\"https://raw.githubusercontent.com/pachterlab/voyager/main/vignettes/tissue_lowres_5a.jpeg\",\n",
    "                  destfile = \"tissue_lowres_5a.jpeg\")\n",
    "}"
   ]
  },
  {
   "cell_type": "markdown",
<<<<<<< HEAD
<<<<<<< HEAD
<<<<<<< HEAD
   "id": "306171b6",
||||||| 6a30bf1
   "id": "5654bccd",
=======
   "id": "94fd75f0",
>>>>>>> documentation-devel
||||||| d28b18c
   "id": "94fd75f0",
=======
   "id": "6f1a65fc",
>>>>>>> documentation-devel
||||||| 6893f63
<<<<<<< HEAD
   "id": "306171b6",
||||||| 6a30bf1
   "id": "5654bccd",
=======
   "id": "94fd75f0",
>>>>>>> documentation-devel
=======
   "id": "542b81c7",
>>>>>>> c74c98c2450c2a1ba922ed9442f136238d6bc88b
   "metadata": {
    "lines_to_next_cell": 0
   },
   "source": [
    "The image can be added to the SFE object and plotted behind the geometries, and needs to be flipped to align to the spots because the origin is at the top left for the image but bottom left for geometries."
   ]
  },
  {
   "cell_type": "code",
   "execution_count": null,
<<<<<<< HEAD
<<<<<<< HEAD
<<<<<<< HEAD
   "id": "7585d359",
||||||| 6a30bf1
   "id": "a0e25777",
=======
   "id": "cfc10214",
>>>>>>> documentation-devel
||||||| d28b18c
   "id": "cfc10214",
=======
   "id": "137448dd",
>>>>>>> documentation-devel
||||||| 6893f63
<<<<<<< HEAD
   "id": "7585d359",
||||||| 6a30bf1
   "id": "a0e25777",
=======
   "id": "cfc10214",
>>>>>>> documentation-devel
=======
   "id": "18542da8",
>>>>>>> c74c98c2450c2a1ba922ed9442f136238d6bc88b
   "metadata": {},
   "outputs": [],
   "source": [
    "sfe <- addImg(sfe, file = \"tissue_lowres_5a.jpeg\", sample_id = \"Vis5A\", \n",
    "              image_id = \"lowres\", \n",
    "              scale_fct = 1024/22208)\n",
    "sfe <- mirrorImg(sfe, sample_id = \"Vis5A\", image_id = \"lowres\")"
   ]
  },
  {
   "cell_type": "markdown",
<<<<<<< HEAD
<<<<<<< HEAD
<<<<<<< HEAD
   "id": "277bcf39",
||||||| 6a30bf1
   "id": "16ae6c00",
=======
   "id": "3aacb102",
>>>>>>> documentation-devel
||||||| d28b18c
   "id": "3aacb102",
=======
   "id": "5f3e28e6",
>>>>>>> documentation-devel
||||||| 6893f63
<<<<<<< HEAD
   "id": "277bcf39",
||||||| 6a30bf1
   "id": "16ae6c00",
=======
   "id": "3aacb102",
>>>>>>> documentation-devel
=======
   "id": "325404ef",
>>>>>>> c74c98c2450c2a1ba922ed9442f136238d6bc88b
   "metadata": {},
   "source": [
    "# Exploratory data analysis\n",
    "## Spots in tissue\n",
    "While the example dataset has all Visium spots whether on tissue or not, only spots that intersect tissue are used for further analyses. "
   ]
  },
  {
   "cell_type": "code",
   "execution_count": null,
<<<<<<< HEAD
<<<<<<< HEAD
<<<<<<< HEAD
   "id": "65c43569",
||||||| 6a30bf1
   "id": "44b73f3c",
=======
   "id": "2b6da29b",
>>>>>>> documentation-devel
||||||| d28b18c
   "id": "2b6da29b",
=======
   "id": "bc14e54f",
>>>>>>> documentation-devel
||||||| 6893f63
<<<<<<< HEAD
   "id": "65c43569",
||||||| 6a30bf1
   "id": "44b73f3c",
=======
   "id": "2b6da29b",
>>>>>>> documentation-devel
=======
   "id": "1418bac3",
>>>>>>> c74c98c2450c2a1ba922ed9442f136238d6bc88b
   "metadata": {},
   "outputs": [],
   "source": [
    "names(colData(sfe))"
   ]
  },
  {
   "cell_type": "markdown",
<<<<<<< HEAD
<<<<<<< HEAD
<<<<<<< HEAD
   "id": "50d0f341",
||||||| 6a30bf1
   "id": "35b4fb3e",
=======
   "id": "1d75244b",
>>>>>>> documentation-devel
||||||| d28b18c
   "id": "1d75244b",
=======
   "id": "da0f7a63",
>>>>>>> documentation-devel
||||||| 6893f63
<<<<<<< HEAD
   "id": "50d0f341",
||||||| 6a30bf1
   "id": "35b4fb3e",
=======
   "id": "1d75244b",
>>>>>>> documentation-devel
=======
   "id": "5f7709b0",
>>>>>>> c74c98c2450c2a1ba922ed9442f136238d6bc88b
   "metadata": {
    "lines_to_next_cell": 0
   },
   "source": [
    "Total UMI counts (`nCounts`), number of genes detected per spot (`nGenes`), and the proportion of mitochondrially encoded counts (`prop_mito`) have been precomputed and are in `colData(sfe)`. The `plotSpatialFeature` function can be used to visualize various attributes in space: the expression of any gene, `colData` values, and geometry attributes in `colGeometry` and `annotGeometry`. The Visium spots are plotted as polygons reflecting their actual size relative to the tissue, rather than as points, as is the case in other packages that plot Visium data. The plotting of geometries is being performed under the hood with `geom_sf`.\n",
    "\n",
    "The tissue boundary was found by thresholding the H&E image and removing small polygons that are most likely debris. The `in_tissue` column of `colData(sfe)` indicates which Visium spot polygon intersects the tissue polygon; this can be found with `SpatialFeatureExperiment::annotPred()`.\n",
    "\n",
    "We demonstrate the use of `scran` [@Lun2016-yq] for normalization below, although we note that it is not necessarily the best approach to normalizing spatial transcriptomics data. The problem of when and how to normalize spatial transcriptomics data is non-trivial because, as the `nCounts` plot in space shows above, spatial autocorrelation is evident. Furthemrore, in Visium, reverse transcription occurs in situ on the spots, but PCR amplification occurs after the cDNA is dissociated from the spots. Artifacts may be subsequently introduced from the amplification step, and these would not be associated with spatial origin. Spatial artifacts may arise from the diffusion of transcripts and tissue permeablization. However, given how the total counts seem to correspond to histological regions, the total counts may have a biological component and hence should not be treated as a technical artifact to be normalized away as in scRNA-seq data normalization methods. In other words, the issue of normalization for spatial transcriptomics data, and Visium in particular, is complex and is currently unsolved. "
   ]
  },
  {
   "cell_type": "code",
   "execution_count": null,
<<<<<<< HEAD
<<<<<<< HEAD
<<<<<<< HEAD
   "id": "b870af72",
||||||| 6a30bf1
   "id": "68bcf1ab",
=======
   "id": "4cd8a814",
>>>>>>> documentation-devel
||||||| d28b18c
   "id": "4cd8a814",
=======
   "id": "040ca465",
>>>>>>> documentation-devel
||||||| 6893f63
<<<<<<< HEAD
   "id": "b870af72",
||||||| 6a30bf1
   "id": "68bcf1ab",
=======
   "id": "4cd8a814",
>>>>>>> documentation-devel
=======
   "id": "52ec4d08",
>>>>>>> c74c98c2450c2a1ba922ed9442f136238d6bc88b
   "metadata": {},
   "outputs": [],
   "source": [
    "sfe_tissue <- sfe[,colData(sfe)$in_tissue]\n",
    "sfe_tissue <- sfe_tissue[rowSums(counts(sfe_tissue)) > 0,]"
   ]
  },
  {
   "cell_type": "code",
   "execution_count": null,
<<<<<<< HEAD
<<<<<<< HEAD
<<<<<<< HEAD
   "id": "f684aa77",
||||||| 6a30bf1
   "id": "f864c940",
=======
   "id": "0af2f7d7",
>>>>>>> documentation-devel
||||||| d28b18c
   "id": "0af2f7d7",
=======
   "id": "1cdef7de",
>>>>>>> documentation-devel
||||||| 6893f63
<<<<<<< HEAD
   "id": "f684aa77",
||||||| 6a30bf1
   "id": "f864c940",
=======
   "id": "0af2f7d7",
>>>>>>> documentation-devel
=======
   "id": "f7e9d291",
>>>>>>> c74c98c2450c2a1ba922ed9442f136238d6bc88b
   "metadata": {},
   "outputs": [],
   "source": [
    "#clusters <- quickCluster(sfe_tissue)\n",
    "#sfe_tissue <- computeSumFactors(sfe_tissue, clusters=clusters)\n",
    "#sfe_tissue <- sfe_tissue[, sizeFactors(sfe_tissue) > 0]\n",
    "sfe_tissue <- logNormCounts(sfe_tissue)"
   ]
  },
  {
   "cell_type": "markdown",
<<<<<<< HEAD
<<<<<<< HEAD
<<<<<<< HEAD
   "id": "5f63ad66",
||||||| 6a30bf1
   "id": "93e85240",
=======
   "id": "0c04939e",
>>>>>>> documentation-devel
||||||| d28b18c
   "id": "0c04939e",
=======
   "id": "be75054e",
>>>>>>> documentation-devel
||||||| 6893f63
<<<<<<< HEAD
   "id": "5f63ad66",
||||||| 6a30bf1
   "id": "93e85240",
=======
   "id": "0c04939e",
>>>>>>> documentation-devel
=======
   "id": "3e035f69",
>>>>>>> c74c98c2450c2a1ba922ed9442f136238d6bc88b
   "metadata": {},
   "source": [
    "Myofiber and nuclei segmentation polygons are available in this dataset in the `annotGeometries` field. Myofibers were manually segmented, and nuclei were segmented with [`StarDist`](https://github.com/stardist/stardist) trained with a manually segmented subset. "
   ]
  },
  {
   "cell_type": "code",
   "execution_count": null,
<<<<<<< HEAD
<<<<<<< HEAD
<<<<<<< HEAD
   "id": "6fc62553",
||||||| 6a30bf1
   "id": "d4aa9cd5",
=======
   "id": "65e2adf8",
>>>>>>> documentation-devel
||||||| d28b18c
   "id": "65e2adf8",
=======
   "id": "e2c88476",
>>>>>>> documentation-devel
||||||| 6893f63
<<<<<<< HEAD
   "id": "6fc62553",
||||||| 6a30bf1
   "id": "d4aa9cd5",
=======
   "id": "65e2adf8",
>>>>>>> documentation-devel
=======
   "id": "14432a11",
>>>>>>> c74c98c2450c2a1ba922ed9442f136238d6bc88b
   "metadata": {},
   "outputs": [],
   "source": [
    "annotGeometryNames(sfe_tissue)"
   ]
  },
  {
   "cell_type": "markdown",
<<<<<<< HEAD
<<<<<<< HEAD
<<<<<<< HEAD
   "id": "c3001566",
||||||| 6a30bf1
   "id": "fc53588d",
=======
   "id": "0ebeabdd",
>>>>>>> documentation-devel
||||||| d28b18c
   "id": "0ebeabdd",
=======
   "id": "9f3ed9ac",
>>>>>>> documentation-devel
||||||| 6893f63
<<<<<<< HEAD
   "id": "c3001566",
||||||| 6a30bf1
   "id": "fc53588d",
=======
   "id": "0ebeabdd",
>>>>>>> documentation-devel
=======
   "id": "e6371d28",
>>>>>>> c74c98c2450c2a1ba922ed9442f136238d6bc88b
   "metadata": {
    "lines_to_next_cell": 0
   },
   "source": [
    "### From myofibers and nuclei to Visium spots\n",
    "The `plotSpatialFeature()` function can also be used to plot attributes of geometries, i.e. the non-geometry columns in the `sf` data frames in the `rowGeometries`, `colGeometries`, or `annotGeometries` fields of the SFE object. For `rowGeometries` and `colGeometries`, such columns which are associated with the `sf` data frames rather than `rowData` or `colData`, are allowed because one can specify how these columns associate with the geometries (see [`st_agr`](https://r-spatial.github.io/sf/reference/st_agr.html) and [documentation of `st_sf`](https://r-spatial.github.io/sf/reference/sf.html#details-1)). When an attribute of an `annotGeometry` is plotted along side gene expression or `colData` or `colGeometry` attribute, the `annotGeometry` attribute is plotted with a different color palette to distinguish it from the column associated values. \n",
    "\n",
    "The myofiber polygons from `annotGeometries` can be plotted as shown below, colored by cross section area as observed in the tissue section. The `aes_use` argument is set to `color` rather than `fill` (default for polygons) to only plot the Visium spot outlines to make the myofiber polygons more visible. The `fill` argument is set to `NA` to make the Visium spots look hollow, and the `size` argument controls the thickness of the outlines. The `annot_aes` argument specifies which column in the `annotGeometry` to use to specify the values of an aesthstic, just like `aes` in `ggplot2` (`aes_string` to be precise, since `tidyeval` is not used here). The `annot_fixed` argument (not used here) can set the fixed size, alpha, color, and etc. for the `annotGeometry`. "
   ]
  },
  {
   "cell_type": "code",
   "execution_count": null,
<<<<<<< HEAD
<<<<<<< HEAD
<<<<<<< HEAD
   "id": "214208ab",
||||||| 6a30bf1
   "id": "2cb12901",
=======
   "id": "2bbd9f19",
>>>>>>> documentation-devel
||||||| d28b18c
   "id": "2bbd9f19",
=======
   "id": "8156ef6b",
>>>>>>> documentation-devel
||||||| 6893f63
<<<<<<< HEAD
   "id": "214208ab",
||||||| 6a30bf1
   "id": "2cb12901",
=======
   "id": "2bbd9f19",
>>>>>>> documentation-devel
=======
   "id": "a5edb514",
>>>>>>> c74c98c2450c2a1ba922ed9442f136238d6bc88b
   "metadata": {
    "fig.alt": "Plot of Visium spots in tissue and myofiber polygons in physical space. Visium spots are colored by nCounts, and myofibers are colored by area."
   },
   "outputs": [],
   "source": [
    "plotSpatialFeature(sfe_tissue, features = \"nCounts\", \n",
    "                   colGeometryName = \"spotPoly\",\n",
    "                   annotGeometryName = \"myofiber_simplified\", \n",
    "                   aes_use = \"color\", linewidth = 0.5, fill = NA,\n",
    "                   annot_aes = list(fill = \"area\"))"
   ]
  },
  {
   "cell_type": "markdown",
<<<<<<< HEAD
<<<<<<< HEAD
<<<<<<< HEAD
   "id": "37007335",
||||||| 6a30bf1
   "id": "67774f37",
=======
   "id": "e6d26a37",
>>>>>>> documentation-devel
||||||| d28b18c
   "id": "e6d26a37",
=======
   "id": "0abcc934",
>>>>>>> documentation-devel
||||||| 6893f63
<<<<<<< HEAD
   "id": "37007335",
||||||| 6a30bf1
   "id": "67774f37",
=======
   "id": "e6d26a37",
>>>>>>> documentation-devel
=======
   "id": "dc3597e0",
>>>>>>> c74c98c2450c2a1ba922ed9442f136238d6bc88b
   "metadata": {
    "lines_to_next_cell": 0
   },
   "source": [
    "The larger myofibers seem to have fewer total counts, possibly because the larger size of these myofibers dilutes the transcripts. This hints at the need for a normalization procedure.\n",
    "\n",
    "With `SpatialFeatureExperiment`, we can find the number of myofibers and nuclei that intersect each Visium spot. The predicate can be [anything implemented in `sf`](https://r-spatial.github.io/sf/reference/geos_binary_pred.html), so for example, the number of nuclei fully covered by each Visium spot can also be found. The default predicate is `st_intersects()`."
   ]
  },
  {
   "cell_type": "code",
   "execution_count": null,
<<<<<<< HEAD
<<<<<<< HEAD
<<<<<<< HEAD
   "id": "a1f2e8d3",
||||||| 6a30bf1
   "id": "4838a3d5",
=======
   "id": "459f1c2b",
>>>>>>> documentation-devel
||||||| d28b18c
   "id": "459f1c2b",
=======
   "id": "1180fdb0",
>>>>>>> documentation-devel
||||||| 6893f63
<<<<<<< HEAD
   "id": "a1f2e8d3",
||||||| 6a30bf1
   "id": "4838a3d5",
=======
   "id": "459f1c2b",
>>>>>>> documentation-devel
=======
   "id": "983121b8",
>>>>>>> c74c98c2450c2a1ba922ed9442f136238d6bc88b
   "metadata": {},
   "outputs": [],
   "source": [
    "colData(sfe_tissue)$n_myofibers <- \n",
    "  annotNPred(sfe_tissue, colGeometryName = \"spotPoly\",\n",
    "             annotGeometryName = \"myofiber_simplified\")"
   ]
  },
  {
   "cell_type": "code",
   "execution_count": null,
<<<<<<< HEAD
<<<<<<< HEAD
<<<<<<< HEAD
   "id": "b9608f4e",
||||||| 6a30bf1
   "id": "9002f53b",
=======
   "id": "5cb6c05e",
>>>>>>> documentation-devel
||||||| d28b18c
   "id": "5cb6c05e",
=======
   "id": "a6a8e95c",
>>>>>>> documentation-devel
||||||| 6893f63
<<<<<<< HEAD
   "id": "b9608f4e",
||||||| 6a30bf1
   "id": "9002f53b",
=======
   "id": "5cb6c05e",
>>>>>>> documentation-devel
=======
   "id": "8f193371",
>>>>>>> c74c98c2450c2a1ba922ed9442f136238d6bc88b
   "metadata": {
    "fig.alt": "Plot of Visium spots in tissue in physical space, colored by number of myofibers intersecting each spot.",
    "fig.height": 4,
    "fig.width": 8
   },
   "outputs": [],
   "source": [
    "plotSpatialFeature(sfe_tissue, features = \"n_myofibers\", \n",
    "                   colGeometryName = \"spotPoly\", image = \"lowres\", color = \"black\",\n",
    "                   linewidth = 0.1)"
   ]
  },
  {
   "cell_type": "markdown",
<<<<<<< HEAD
<<<<<<< HEAD
<<<<<<< HEAD
   "id": "d61e57c9",
||||||| 6a30bf1
   "id": "240a7dca",
=======
   "id": "6da418ba",
>>>>>>> documentation-devel
||||||| d28b18c
   "id": "6da418ba",
=======
   "id": "cc1ff72d",
>>>>>>> documentation-devel
||||||| 6893f63
<<<<<<< HEAD
   "id": "d61e57c9",
||||||| 6a30bf1
   "id": "240a7dca",
=======
   "id": "6da418ba",
>>>>>>> documentation-devel
=======
   "id": "2c1e850e",
>>>>>>> c74c98c2450c2a1ba922ed9442f136238d6bc88b
   "metadata": {
    "lines_to_next_cell": 0
   },
   "source": [
    "There is no one-to-one mapping between Visium spots and myofibers. However, we can relate attributes of myofibers to gene expression detected at the Visium spots. One way to do so is to summarize the attributes of all myofibers that intersect (or choose another better predicate implemented in `sf`) each spot, such as to calculate the mean, median, or sum. This can be done with the `annotSummary()` function in `SpatialFeatureExperiment`. The default predicate is `st_intersects()`, and the default summary function is `mean()`."
   ]
  },
  {
   "cell_type": "code",
   "execution_count": null,
<<<<<<< HEAD
<<<<<<< HEAD
<<<<<<< HEAD
   "id": "d9ceb87d",
||||||| 6a30bf1
   "id": "26681699",
=======
   "id": "ad53ffc9",
>>>>>>> documentation-devel
||||||| d28b18c
   "id": "ad53ffc9",
=======
   "id": "ca6caf35",
>>>>>>> documentation-devel
||||||| 6893f63
<<<<<<< HEAD
   "id": "d9ceb87d",
||||||| 6a30bf1
   "id": "26681699",
=======
   "id": "ad53ffc9",
>>>>>>> documentation-devel
=======
   "id": "8d8c5776",
>>>>>>> c74c98c2450c2a1ba922ed9442f136238d6bc88b
   "metadata": {},
   "outputs": [],
   "source": [
    "colData(sfe_tissue)$mean_myofiber_area <- \n",
    "  annotSummary(sfe_tissue, \"spotPoly\", \"myofiber_simplified\", \n",
    "               annotColNames = \"area\")[,1] # it always returns a data frame"
   ]
  },
  {
   "cell_type": "code",
   "execution_count": null,
<<<<<<< HEAD
<<<<<<< HEAD
<<<<<<< HEAD
   "id": "52907866",
||||||| 6a30bf1
   "id": "61058b1f",
=======
   "id": "7b54478b",
>>>>>>> documentation-devel
||||||| d28b18c
   "id": "7b54478b",
=======
   "id": "bc2c1f26",
>>>>>>> documentation-devel
||||||| 6893f63
<<<<<<< HEAD
   "id": "52907866",
||||||| 6a30bf1
   "id": "61058b1f",
=======
   "id": "7b54478b",
>>>>>>> documentation-devel
=======
   "id": "d57720cd",
>>>>>>> c74c98c2450c2a1ba922ed9442f136238d6bc88b
   "metadata": {
    "fig.alt": "Plot of Visium spots in tissue in physical space, colored by the average area of myofibers that intersect each spot. The average area is higher near the mid-top right part of the tissue."
   },
   "outputs": [],
   "source": [
    "# The gray spots don't intersect any myofiber\n",
    "plotSpatialFeature(sfe_tissue, \"mean_myofiber_area\", \"spotPoly\", image = \"lowres\", \n",
    "                   color = \"black\", linewidth = 0.1)"
   ]
  },
  {
   "cell_type": "markdown",
<<<<<<< HEAD
<<<<<<< HEAD
<<<<<<< HEAD
   "id": "4215bde6",
||||||| 6a30bf1
   "id": "6be0ee01",
=======
   "id": "afa545ab",
>>>>>>> documentation-devel
||||||| d28b18c
   "id": "afa545ab",
=======
   "id": "5662b7c3",
>>>>>>> documentation-devel
||||||| 6893f63
<<<<<<< HEAD
   "id": "4215bde6",
||||||| 6a30bf1
   "id": "6be0ee01",
=======
   "id": "afa545ab",
>>>>>>> documentation-devel
=======
   "id": "dddb26ed",
>>>>>>> c74c98c2450c2a1ba922ed9442f136238d6bc88b
   "metadata": {
    "lines_to_next_cell": 0
   },
   "source": [
    "This reveals the relationship between the mean area of myofibers intersecting each Visium spot and other aspects of the spots, such as total counts and gene expression.\n",
    "\n",
    "The NAs designate spots not intersecting any myofibers, e.g. those in the inflammatory region. \n",
    "\n",
    "In the [Basic Visium vignette](https://pachterlab.github.io/Voyager/articles/vig2_visium_basic.html), we encountered two mysterious branches and two clusters in the nGenes vs. nCounts plot and the proportion of mitochondrial counts vs. nCounts plot. Now we see that the two clusters seem to be related to myofiber size."
   ]
  },
  {
   "cell_type": "code",
   "execution_count": null,
<<<<<<< HEAD
<<<<<<< HEAD
<<<<<<< HEAD
   "id": "75200171",
||||||| 6a30bf1
   "id": "fc1627d3",
=======
   "id": "956f8249",
>>>>>>> documentation-devel
||||||| d28b18c
   "id": "956f8249",
=======
   "id": "56d176c8",
>>>>>>> documentation-devel
||||||| 6893f63
<<<<<<< HEAD
   "id": "75200171",
||||||| 6a30bf1
   "id": "fc1627d3",
=======
   "id": "956f8249",
>>>>>>> documentation-devel
=======
   "id": "0b7d6365",
>>>>>>> c74c98c2450c2a1ba922ed9442f136238d6bc88b
   "metadata": {},
   "outputs": [],
   "source": [
    "plotColData(sfe_tissue, x = \"nCounts\", y = \"nGenes\", colour_by = \"mean_myofiber_area\")"
   ]
  },
  {
   "cell_type": "code",
   "execution_count": null,
<<<<<<< HEAD
<<<<<<< HEAD
<<<<<<< HEAD
   "id": "dfab863f",
||||||| 6a30bf1
   "id": "ea1be7fd",
=======
   "id": "f7dc36d1",
>>>>>>> documentation-devel
||||||| d28b18c
   "id": "f7dc36d1",
=======
   "id": "7a0689a1",
>>>>>>> documentation-devel
||||||| 6893f63
<<<<<<< HEAD
   "id": "dfab863f",
||||||| 6a30bf1
   "id": "ea1be7fd",
=======
   "id": "f7dc36d1",
>>>>>>> documentation-devel
=======
   "id": "2e48dd52",
>>>>>>> c74c98c2450c2a1ba922ed9442f136238d6bc88b
   "metadata": {},
   "outputs": [],
   "source": [
    "plotColData(sfe_tissue, x = \"nCounts\", y = \"prop_mito\", colour_by = \"mean_myofiber_area\")"
   ]
  },
  {
   "cell_type": "markdown",
<<<<<<< HEAD
<<<<<<< HEAD
<<<<<<< HEAD
   "id": "355ec81b",
||||||| 6a30bf1
   "id": "0721c146",
=======
   "id": "333af8db",
>>>>>>> documentation-devel
||||||| d28b18c
   "id": "333af8db",
=======
   "id": "33429477",
>>>>>>> documentation-devel
||||||| 6893f63
<<<<<<< HEAD
   "id": "355ec81b",
||||||| 6a30bf1
   "id": "0721c146",
=======
   "id": "333af8db",
>>>>>>> documentation-devel
=======
   "id": "21bcc03e",
>>>>>>> c74c98c2450c2a1ba922ed9442f136238d6bc88b
   "metadata": {
    "lines_to_next_cell": 0
   },
   "source": [
    "### Myofiber types\n",
    "Marker genes: Myh7 (Type I, slow twitch, aerobic), Myh2 (Type IIa, fast twitch, somewhat aerobic), Myh4 (Type IIb, fast twitch, anareobic), Myh1 (Type IIx, fast twitch, anaerobic), from [this protocol](https://www.ncbi.nlm.nih.gov/pmc/articles/PMC5526362/) [@Wang2017-li]"
   ]
  },
  {
   "cell_type": "code",
   "execution_count": null,
<<<<<<< HEAD
<<<<<<< HEAD
<<<<<<< HEAD
   "id": "9788e8ef",
||||||| 6a30bf1
   "id": "64b24534",
=======
   "id": "01c6ccbb",
>>>>>>> documentation-devel
||||||| d28b18c
   "id": "01c6ccbb",
=======
   "id": "2dff8188",
>>>>>>> documentation-devel
||||||| 6893f63
<<<<<<< HEAD
   "id": "9788e8ef",
||||||| 6a30bf1
   "id": "64b24534",
=======
   "id": "01c6ccbb",
>>>>>>> documentation-devel
=======
   "id": "d28f6658",
>>>>>>> c74c98c2450c2a1ba922ed9442f136238d6bc88b
   "metadata": {},
   "outputs": [],
   "source": [
    "markers <- c(I = \"Myh7\", IIa = \"Myh2\", IIb = \"Myh4\", IIx = \"Myh1\")"
   ]
  },
  {
   "cell_type": "markdown",
<<<<<<< HEAD
<<<<<<< HEAD
<<<<<<< HEAD
   "id": "1d9efdf8",
||||||| 6a30bf1
   "id": "d0c54d03",
=======
   "id": "9e6d04c9",
>>>>>>> documentation-devel
||||||| d28b18c
   "id": "9e6d04c9",
=======
   "id": "9f25a4c2",
>>>>>>> documentation-devel
||||||| 6893f63
<<<<<<< HEAD
   "id": "1d9efdf8",
||||||| 6a30bf1
   "id": "d0c54d03",
=======
   "id": "9e6d04c9",
>>>>>>> documentation-devel
=======
   "id": "85d09f73",
>>>>>>> c74c98c2450c2a1ba922ed9442f136238d6bc88b
   "metadata": {
    "lines_to_next_cell": 0
   },
   "source": [
    "We can use the [gget search](https://pachterlab.github.io/gget/search.html) and [gget info](https://pachterlab.github.io/gget/info.html) modules from the [gget](https://pachterlab.github.io/gget/) package to get the Ensembl IDs and additional information (for example their [NCBI](https://www.ncbi.nlm.nih.gov/) description) for these marker genes:"
   ]
  },
  {
   "cell_type": "code",
   "execution_count": null,
<<<<<<< HEAD
<<<<<<< HEAD
<<<<<<< HEAD
   "id": "62564a6f",
||||||| 6a30bf1
   "id": "599e8be8",
=======
   "id": "e33d6443",
>>>>>>> documentation-devel
||||||| d28b18c
   "id": "e33d6443",
=======
   "id": "471fa284",
>>>>>>> documentation-devel
||||||| 6893f63
<<<<<<< HEAD
   "id": "62564a6f",
||||||| 6a30bf1
   "id": "599e8be8",
=======
   "id": "e33d6443",
>>>>>>> documentation-devel
=======
   "id": "b39f1012",
>>>>>>> c74c98c2450c2a1ba922ed9442f136238d6bc88b
   "metadata": {},
   "outputs": [],
   "source": [
    "gget_search <- gget$search(list(\"Myh7\", \"Myh2\", \"Myh4\", \"Myh1\"), species=\"mouse\")\n",
    "gget_search <- gget_search[gget_search$gene_name %in% list(\"Myh7\", \"Myh2\", \"Myh4\", \"Myh1\"), ]\n",
    "gget_search"
   ]
  },
  {
   "cell_type": "code",
   "execution_count": null,
<<<<<<< HEAD
<<<<<<< HEAD
<<<<<<< HEAD
   "id": "e6b3454a",
||||||| 6a30bf1
   "id": "5927fa94",
=======
   "id": "4e69884b",
>>>>>>> documentation-devel
||||||| d28b18c
   "id": "4e69884b",
=======
   "id": "af4d75d4",
>>>>>>> documentation-devel
||||||| 6893f63
<<<<<<< HEAD
   "id": "e6b3454a",
||||||| 6a30bf1
   "id": "5927fa94",
=======
   "id": "4e69884b",
>>>>>>> documentation-devel
=======
   "id": "98617f94",
>>>>>>> c74c98c2450c2a1ba922ed9442f136238d6bc88b
   "metadata": {},
   "outputs": [],
   "source": [
    "gget_info <- gget$info(gget_search$ensembl_id)\n",
    "\n",
    "rownames(gget_info) <- gget_info$primary_gene_name\n",
    "select(gget_info, ncbi_description)"
   ]
  },
  {
   "cell_type": "markdown",
<<<<<<< HEAD
<<<<<<< HEAD
<<<<<<< HEAD
   "id": "0c1222b9",
||||||| 6a30bf1
   "id": "8efbdb76",
=======
   "id": "97f7c438",
>>>>>>> documentation-devel
||||||| d28b18c
   "id": "97f7c438",
=======
   "id": "5f769efd",
>>>>>>> documentation-devel
||||||| 6893f63
<<<<<<< HEAD
   "id": "0c1222b9",
||||||| 6a30bf1
   "id": "8efbdb76",
=======
   "id": "97f7c438",
>>>>>>> documentation-devel
=======
   "id": "2f3eaca8",
>>>>>>> c74c98c2450c2a1ba922ed9442f136238d6bc88b
   "metadata": {
    "lines_to_next_cell": 0
   },
   "source": [
    "We first examine the Type I myofibers. This is a fast twitch muscle, so we don't expect many slow twitch Type I myofibers. Row names in `sfe_tissue` are Ensembl IDs in order to avoid ambiguity as sometimes multiple Ensembl IDs have the same gene symbol and some genes have aliases. However, gene symbols are shorter and more human readable than Ensembl IDs, and are better suited to display on plots.  In the `plotSpatialFeature()` function and other functions in `Voyager`, even when the row names are recorded as Ensembl IDs, the `features` argument can take gene symbols with the `swap_rownames` argument indicating a column in `rowData(sfe)` that stores the gene symbols. Gene symbols is then also shown in plots instead of Ensembl IDs. If one gene symbol matches multiple Ensembl IDs in the dataset, then a warning will be given.\n",
    "\n",
    "The `exprs_values` argument specifies the assay to use, which is by default \"logcounts\", i.e. the log normalized data. This default may or may not be suitable in practice given that total UMI counts may have biological relevance in spatial data. Therefore, we plot both the raw counts and the log normalized counts:"
   ]
  },
  {
   "cell_type": "code",
   "execution_count": null,
<<<<<<< HEAD
<<<<<<< HEAD
<<<<<<< HEAD
   "id": "934510f6",
||||||| 6a30bf1
   "id": "97ccf226",
=======
   "id": "f4a16e65",
>>>>>>> documentation-devel
||||||| d28b18c
   "id": "f4a16e65",
=======
   "id": "afd16a0c",
>>>>>>> documentation-devel
||||||| 6893f63
<<<<<<< HEAD
   "id": "934510f6",
||||||| 6a30bf1
   "id": "97ccf226",
=======
   "id": "f4a16e65",
>>>>>>> documentation-devel
=======
   "id": "5f965bed",
>>>>>>> c74c98c2450c2a1ba922ed9442f136238d6bc88b
   "metadata": {},
   "outputs": [],
   "source": [
    "# Function specific for this vignette, with some hard coded values\n",
    "plot_counts_logcounts <- function(sfe, feature) {\n",
    "  p1 <- plotSpatialFeature(sfe, feature, \"spotPoly\",\n",
    "                   annotGeometryName = \"myofiber_simplified\", \n",
    "                   annot_aes = list(fill = \"area\"), swap_rownames = \"symbol\", \n",
    "                   exprs_values = \"counts\", aes_use = \"color\", linewidth = 0.5,\n",
    "                   fill = NA) +\n",
    "    ggtitle(\"Raw counts\")\n",
    "  p2 <- plotSpatialFeature(sfe, feature, \"spotPoly\",\n",
    "                   annotGeometryName = \"myofiber_simplified\", \n",
    "                   annot_aes = list(fill = \"area\"), swap_rownames = \"symbol\", \n",
    "                   exprs_values = \"logcounts\", aes_use = \"color\", linewidth = 0.5,\n",
    "                   fill = NA) +\n",
    "    ggtitle(\"Log normalized counts\")\n",
    "  p1 + p2 +\n",
    "    plot_annotation(title = feature)\n",
    "}"
   ]
  },
  {
   "cell_type": "code",
   "execution_count": null,
<<<<<<< HEAD
<<<<<<< HEAD
<<<<<<< HEAD
   "id": "5149e4ff",
||||||| 6a30bf1
   "id": "ae5c5d50",
=======
   "id": "889f7576",
>>>>>>> documentation-devel
||||||| d28b18c
   "id": "889f7576",
=======
   "id": "132ced6f",
>>>>>>> documentation-devel
||||||| 6893f63
<<<<<<< HEAD
   "id": "5149e4ff",
||||||| 6a30bf1
   "id": "ae5c5d50",
=======
   "id": "889f7576",
>>>>>>> documentation-devel
=======
   "id": "69f4ef6d",
>>>>>>> c74c98c2450c2a1ba922ed9442f136238d6bc88b
   "metadata": {
    "fig.alt": "Raw and log normalized counts of Myh7, marker gene of type I myofiber, plotted side by side on Visium spots in space, with myofiber polygons colored by myofiber cross section area plotted in the background. Visium spots expressing Myh7 concentrate in the lower left part of the tissue where the myofibers tend to be smaller."
   },
   "outputs": [],
   "source": [
    "plot_counts_logcounts(sfe_tissue, markers[\"I\"])"
   ]
  },
  {
   "cell_type": "markdown",
<<<<<<< HEAD
<<<<<<< HEAD
<<<<<<< HEAD
   "id": "142a4107",
||||||| 6a30bf1
   "id": "8cf7b840",
=======
   "id": "ae6aeef8",
>>>>>>> documentation-devel
||||||| d28b18c
   "id": "ae6aeef8",
=======
   "id": "f25a66eb",
>>>>>>> documentation-devel
||||||| 6893f63
<<<<<<< HEAD
   "id": "142a4107",
||||||| 6a30bf1
   "id": "8cf7b840",
=======
   "id": "ae6aeef8",
>>>>>>> documentation-devel
=======
   "id": "2cac509b",
>>>>>>> c74c98c2450c2a1ba922ed9442f136238d6bc88b
   "metadata": {
    "lines_to_next_cell": 0
   },
   "source": [
    "A marker gene for type IIa myofibers is shown above. It is straightforward to modify the plotting to display markers for type IIb and type IIx myofibers:"
   ]
  },
  {
   "cell_type": "code",
   "execution_count": null,
<<<<<<< HEAD
<<<<<<< HEAD
<<<<<<< HEAD
   "id": "6fb4c787",
||||||| 6a30bf1
   "id": "abc54940",
=======
   "id": "e28d5c54",
>>>>>>> documentation-devel
||||||| d28b18c
   "id": "e28d5c54",
=======
   "id": "2079bda7",
>>>>>>> documentation-devel
||||||| 6893f63
<<<<<<< HEAD
   "id": "6fb4c787",
||||||| 6a30bf1
   "id": "abc54940",
=======
   "id": "e28d5c54",
>>>>>>> documentation-devel
=======
   "id": "767ae538",
>>>>>>> c74c98c2450c2a1ba922ed9442f136238d6bc88b
   "metadata": {
    "fig.alt": "Raw and log normalized counts of Myh2, a marker gene of type IIa myofiber, plotted side by side on Visium spots in space, with myofiber polygons colored by myofiber cross section area plotted in the background. Visium spots expressing Myh2 concentrate in the lower left and upper left parts of the tissue where the myofibers tend to be smaller. Log normalized counts show a wider region with higher expression."
   },
   "outputs": [],
   "source": [
    "plot_counts_logcounts(sfe_tissue, markers[\"IIa\"])"
   ]
  },
  {
   "cell_type": "markdown",
<<<<<<< HEAD
<<<<<<< HEAD
<<<<<<< HEAD
   "id": "76706bcf",
||||||| 6a30bf1
   "id": "2fc3ecbb",
=======
   "id": "96607f31",
>>>>>>> documentation-devel
||||||| d28b18c
   "id": "96607f31",
=======
   "id": "4075e61f",
>>>>>>> documentation-devel
||||||| 6893f63
<<<<<<< HEAD
   "id": "76706bcf",
||||||| 6a30bf1
   "id": "2fc3ecbb",
=======
   "id": "96607f31",
>>>>>>> documentation-devel
=======
   "id": "d2fad4cc",
>>>>>>> c74c98c2450c2a1ba922ed9442f136238d6bc88b
   "metadata": {
    "lines_to_next_cell": 0
   },
   "source": [
    "Type IIa myofibers also tend to be clustered together on left side of the tissue.\n",
    "\n",
    "As SFE inherits from SCE, the non-spatial EDA plots from the `scater` package can also be used:"
   ]
  },
  {
   "cell_type": "code",
   "execution_count": null,
<<<<<<< HEAD
<<<<<<< HEAD
<<<<<<< HEAD
   "id": "70c43b74",
||||||| 6a30bf1
   "id": "8f32adb9",
=======
   "id": "6531396a",
>>>>>>> documentation-devel
||||||| d28b18c
   "id": "6531396a",
=======
   "id": "426f444c",
>>>>>>> documentation-devel
||||||| 6893f63
<<<<<<< HEAD
   "id": "70c43b74",
||||||| 6a30bf1
   "id": "8f32adb9",
=======
   "id": "6531396a",
>>>>>>> documentation-devel
=======
   "id": "aa8fd555",
>>>>>>> c74c98c2450c2a1ba922ed9442f136238d6bc88b
   "metadata": {
    "fig.alt": "Scatter plot of mean area of myofibers intersecting each Visium spot in the x axis and proportion of mitochondrially encoded counts per spot in the y axis, with points colored by expression of Myh2."
   },
   "outputs": [],
   "source": [
    "plotColData(sfe_tissue, x = \"mean_myofiber_area\", y = \"prop_mito\", \n",
    "            colour_by = markers[\"IIa\"], by_exprs_values = \"logcounts\", \n",
    "            swap_rownames = \"symbol\")"
   ]
  },
  {
   "cell_type": "markdown",
<<<<<<< HEAD
<<<<<<< HEAD
<<<<<<< HEAD
   "id": "87031bf2",
||||||| 6a30bf1
   "id": "85708e2a",
=======
   "id": "b971125e",
>>>>>>> documentation-devel
||||||| d28b18c
   "id": "b971125e",
=======
   "id": "0c1d0010",
>>>>>>> documentation-devel
||||||| 6893f63
<<<<<<< HEAD
   "id": "87031bf2",
||||||| 6a30bf1
   "id": "85708e2a",
=======
   "id": "b971125e",
>>>>>>> documentation-devel
=======
   "id": "c9f29c3c",
>>>>>>> c74c98c2450c2a1ba922ed9442f136238d6bc88b
   "metadata": {},
   "source": [
    "Plotting proportion of mitochondrial counts vs. mean myofiber area, we see two clusters, one with higher proportion of mitochondrial counts and smaller area, and another with lower proportion of mitochondrial counts and on average slightly larger area. Type IIa myofibers tend to have smaller area and a larger proportion of mitochondrial counts.\n",
    "\n",
    "# Spatial neighborhood graphs\n",
    "A spatial neighborhood graph is required to compute spatial dependency metrics such as Moran's I and Geary's C. The `SpatialFeatureExperiment` package wraps methods in `spdep` to find spatial neighborhood graphs, which are stored within the SFE object (see `spdep` documentation for `gabrielneigh()`, `knearneigh()`, `poly2nb()`, and `tri2nb()`). The `Voyager` package then uses these graphs for spatial dependency analyses, again based on `spdep` in this first version, but methods from other geospatial packages, some of which also use the spatial neighborhood graphs, may be added later.\n",
    "\n",
    "For Visium, where the spots are in a hexagonal grid, the spatial neighborhood graph is straightforward. However, for spatial technologies with single cell resolution, e.g. MERFISH, different methods can be used to find the spatial neighborhood graph. In this example, the method \"poly2nb\" was used for myofibers, and it identifies myofiber polygons that physically touch each other. `zero.policy = TRUE` will allow for singletons, i.e. nodes without neighbors in the graph; in the inflamed region, there are more singletons. We have not yet benchmarked spatial neighborhood construction methods to determine which is the \"best\" for different technologies; the particular method used here is for demonstration purposes and may not be the best in practice: "
   ]
  },
  {
   "cell_type": "code",
   "execution_count": null,
<<<<<<< HEAD
<<<<<<< HEAD
<<<<<<< HEAD
   "id": "3afff2a6",
||||||| 6a30bf1
   "id": "3ea23a38",
=======
   "id": "a6e27381",
>>>>>>> documentation-devel
||||||| d28b18c
   "id": "a6e27381",
=======
   "id": "43de2375",
>>>>>>> documentation-devel
||||||| 6893f63
<<<<<<< HEAD
   "id": "3afff2a6",
||||||| 6a30bf1
   "id": "3ea23a38",
=======
   "id": "a6e27381",
>>>>>>> documentation-devel
=======
   "id": "1af5679b",
>>>>>>> c74c98c2450c2a1ba922ed9442f136238d6bc88b
   "metadata": {},
   "outputs": [],
   "source": [
    "colGraph(sfe_tissue, \"visium\") <- findVisiumGraph(sfe_tissue)\n",
    "annotGraph(sfe_tissue, \"myofiber_poly2nb\") <- \n",
    "  findSpatialNeighbors(sfe_tissue, type = \"myofiber_simplified\", MARGIN = 3,\n",
    "                       method = \"poly2nb\", zero.policy = TRUE)"
   ]
  },
  {
   "cell_type": "markdown",
<<<<<<< HEAD
<<<<<<< HEAD
<<<<<<< HEAD
   "id": "4bf2b072",
||||||| 6a30bf1
   "id": "d356ed2f",
=======
   "id": "f11129fb",
>>>>>>> documentation-devel
||||||| d28b18c
   "id": "f11129fb",
=======
   "id": "0816364a",
>>>>>>> documentation-devel
||||||| 6893f63
<<<<<<< HEAD
   "id": "4bf2b072",
||||||| 6a30bf1
   "id": "d356ed2f",
=======
   "id": "f11129fb",
>>>>>>> documentation-devel
=======
   "id": "8d08844c",
>>>>>>> c74c98c2450c2a1ba922ed9442f136238d6bc88b
   "metadata": {
    "lines_to_next_cell": 0
   },
   "source": [
    "The `plotColGraph()` function plots the graph in space associated with a `colGeometry`, along with the geometry of interest."
   ]
  },
  {
   "cell_type": "code",
   "execution_count": null,
<<<<<<< HEAD
<<<<<<< HEAD
<<<<<<< HEAD
   "id": "4c8d949e",
||||||| 6a30bf1
   "id": "b8fc51a8",
=======
   "id": "945e9ed7",
>>>>>>> documentation-devel
||||||| d28b18c
   "id": "945e9ed7",
=======
   "id": "6368389f",
>>>>>>> documentation-devel
||||||| 6893f63
<<<<<<< HEAD
   "id": "4c8d949e",
||||||| 6a30bf1
   "id": "b8fc51a8",
=======
   "id": "945e9ed7",
>>>>>>> documentation-devel
=======
   "id": "23f8fc9f",
>>>>>>> c74c98c2450c2a1ba922ed9442f136238d6bc88b
   "metadata": {
    "fig.alt": "Spatial neighborhood graph of Visium spots that intersect tissue."
   },
   "outputs": [],
   "source": [
    "plotColGraph(sfe_tissue, colGraphName = \"visium\", colGeometryName = \"spotPoly\") +\n",
    "    theme_void()"
   ]
  },
  {
   "cell_type": "markdown",
<<<<<<< HEAD
<<<<<<< HEAD
<<<<<<< HEAD
   "id": "2e854467",
||||||| 6a30bf1
   "id": "da89e616",
=======
   "id": "8e2ba197",
>>>>>>> documentation-devel
||||||| d28b18c
   "id": "8e2ba197",
=======
   "id": "28cb719e",
>>>>>>> documentation-devel
||||||| 6893f63
<<<<<<< HEAD
   "id": "2e854467",
||||||| 6a30bf1
   "id": "da89e616",
=======
   "id": "8e2ba197",
>>>>>>> documentation-devel
=======
   "id": "bfc762fa",
>>>>>>> c74c98c2450c2a1ba922ed9442f136238d6bc88b
   "metadata": {
    "lines_to_next_cell": 0
   },
   "source": [
    "Similarly, the `plotAnnotGraph()` function plots the graph associated with an `annotGeometry`, along with the geometry of interest. "
   ]
  },
  {
   "cell_type": "code",
   "execution_count": null,
<<<<<<< HEAD
<<<<<<< HEAD
<<<<<<< HEAD
   "id": "84f4de42",
||||||| 6a30bf1
   "id": "5716bd8d",
=======
   "id": "94f0abcd",
>>>>>>> documentation-devel
||||||| d28b18c
   "id": "94f0abcd",
=======
   "id": "c9ab68a3",
>>>>>>> documentation-devel
||||||| 6893f63
<<<<<<< HEAD
   "id": "84f4de42",
||||||| 6a30bf1
   "id": "5716bd8d",
=======
   "id": "94f0abcd",
>>>>>>> documentation-devel
=======
   "id": "df706307",
>>>>>>> c74c98c2450c2a1ba922ed9442f136238d6bc88b
   "metadata": {
    "fig.alt": "Spatial neighborhood graph of myofibers, where each edge connects two myofibers that touch."
   },
   "outputs": [],
   "source": [
    "plotAnnotGraph(sfe_tissue, annotGraphName = \"myofiber_poly2nb\", \n",
    "               annotGeometryName = \"myofiber_simplified\") + theme_void()"
   ]
  },
  {
   "cell_type": "markdown",
<<<<<<< HEAD
<<<<<<< HEAD
<<<<<<< HEAD
   "id": "c872e489",
||||||| 6a30bf1
   "id": "04cc1504",
=======
   "id": "90b7757b",
>>>>>>> documentation-devel
||||||| d28b18c
   "id": "90b7757b",
=======
   "id": "ebcd5649",
>>>>>>> documentation-devel
||||||| 6893f63
<<<<<<< HEAD
   "id": "c872e489",
||||||| 6a30bf1
   "id": "04cc1504",
=======
   "id": "90b7757b",
>>>>>>> documentation-devel
=======
   "id": "64a3b2fe",
>>>>>>> c74c98c2450c2a1ba922ed9442f136238d6bc88b
   "metadata": {
    "lines_to_next_cell": 0
   },
   "source": [
    "There is no `plotRowGraph` yet since we haven't worked with a dataset where spatial graphs related to genes are relevant, although the SFE object supports row graphs.\n",
    "\n",
    "# Exploratory _spatial_ data analysis\n",
    "All spatial autocorrelation metrics in this package can be computed directly on a vector or a matrix rather than an SFE object. The user interface emulates those of dimension reductions in the `scater` package (e.g. `calculateUMAP()` that takes in a matrix or SCE object and returns a matrix, and `runUMAP()` that takes in an SCE object and adds the results to the `reducedDims` field of the SCE object). So `calculate*` functions take in a matrix or an SFE object and directly return the results (format of the results depends on the structure of the results), while `run*` functions take in an SFE object and add the results to the object. In addition, `colData*` functions compute the metrics for numeric variables in `colData`. `colGeometry*` functions compute the metrics for numeric columns in a `colGeometry`. `annotGeometry*` functions compute the metrics for numeric columns in a `annotGeometry`. \n",
    "\n",
    "# Univariate global\n",
    "`Voyager` supports many univariate global spatial autocorrelation implemented in `spdep` for ESDA: Moran's I and Geary's C, permutation testing for Moran's I and Geary's C, Moran plot, and correlograms. In addition, beyond `spdep`, `Voyager` can cluster Moran plots and correlograms. Plotting functions taking in SFE objects are implemented to plot the results with `ggplot2` and with more customization options than `spdep` plotting functions. The functions `calculateUnivariate()`, `runUnivariate()`, `colDataUnivariate()`, `colGeometryUnivariate()`, and `annotGeometryUnivariate()` compute univariate spatial statistics. The argument `type`, which indicates the corresponding function names in `spdep`, determines which spatial statistics are computed. \n",
    "\n",
    "All univariate global methods in `Voyager` are listed here:"
   ]
  },
  {
   "cell_type": "code",
   "execution_count": null,
<<<<<<< HEAD
<<<<<<< HEAD
<<<<<<< HEAD
   "id": "6813095c",
||||||| 6a30bf1
   "id": "755584e9",
=======
   "id": "bb6fc7e8",
>>>>>>> documentation-devel
||||||| d28b18c
   "id": "bb6fc7e8",
=======
   "id": "82fab70e",
>>>>>>> documentation-devel
||||||| 6893f63
<<<<<<< HEAD
   "id": "6813095c",
||||||| 6a30bf1
   "id": "755584e9",
=======
   "id": "bb6fc7e8",
>>>>>>> documentation-devel
=======
   "id": "7d2fd22b",
>>>>>>> c74c98c2450c2a1ba922ed9442f136238d6bc88b
   "metadata": {},
   "outputs": [],
   "source": [
    "listSFEMethods(variate = \"uni\", scope = \"global\")"
   ]
  },
  {
   "cell_type": "markdown",
<<<<<<< HEAD
<<<<<<< HEAD
<<<<<<< HEAD
   "id": "4ec9aa40",
||||||| 6a30bf1
   "id": "bf131ae8",
=======
   "id": "e150657e",
>>>>>>> documentation-devel
||||||| d28b18c
   "id": "e150657e",
=======
   "id": "3f969455",
>>>>>>> documentation-devel
||||||| 6893f63
<<<<<<< HEAD
   "id": "4ec9aa40",
||||||| 6a30bf1
   "id": "bf131ae8",
=======
   "id": "e150657e",
>>>>>>> documentation-devel
=======
   "id": "a3e0e8ec",
>>>>>>> c74c98c2450c2a1ba922ed9442f136238d6bc88b
   "metadata": {
    "lines_to_next_cell": 0
   },
   "source": [
    "When calling `calculate*variate()` or `run*variate()`, the `type` (2nd) argument takes either an `SFEMethod` object (see `SFEMethod()` and [vignette on `SFEMethod`](https://pachterlab.github.io/voyager/articles/sfemethod.html)) or a string that matches an entry in the `name` column in the data frame returned by `listSFEMethods()`.\n",
    "\n",
    "To demonstrate spatial autocorrelation in gene expression, top highly variable genes (HVGs) are used. The HVGs are found with the `scran` method."
   ]
  },
  {
   "cell_type": "code",
   "execution_count": null,
<<<<<<< HEAD
<<<<<<< HEAD
<<<<<<< HEAD
   "id": "b07cc775",
||||||| 6a30bf1
   "id": "6f18284f",
=======
   "id": "d8e48690",
>>>>>>> documentation-devel
||||||| d28b18c
   "id": "d8e48690",
=======
   "id": "1cfefcaa",
>>>>>>> documentation-devel
||||||| 6893f63
<<<<<<< HEAD
   "id": "b07cc775",
||||||| 6a30bf1
   "id": "6f18284f",
=======
   "id": "d8e48690",
>>>>>>> documentation-devel
=======
   "id": "a1e6b9f7",
>>>>>>> c74c98c2450c2a1ba922ed9442f136238d6bc88b
   "metadata": {},
   "outputs": [],
   "source": [
    "dec <- modelGeneVar(sfe_tissue)\n",
    "hvgs <- getTopHVGs(dec, n = 50)"
   ]
  },
  {
   "cell_type": "markdown",
<<<<<<< HEAD
<<<<<<< HEAD
<<<<<<< HEAD
   "id": "8d24d94e",
||||||| 6a30bf1
   "id": "8536d0e7",
=======
   "id": "f1f6d13d",
>>>>>>> documentation-devel
||||||| d28b18c
   "id": "f1f6d13d",
=======
   "id": "73564121",
>>>>>>> documentation-devel
||||||| 6893f63
<<<<<<< HEAD
   "id": "8d24d94e",
||||||| 6a30bf1
   "id": "8536d0e7",
=======
   "id": "f1f6d13d",
>>>>>>> documentation-devel
=======
   "id": "463efc13",
>>>>>>> c74c98c2450c2a1ba922ed9442f136238d6bc88b
   "metadata": {
    "lines_to_next_cell": 0
   },
   "source": [
    "A global statistic yields one result for the entire dataset.\n",
    "\n",
    "## Moran's I\n",
    "There are several ways to quantify spatial autocorrelation, the most common of which is Moran's I:\n",
    "\n",
    "$$\n",
    "I = \\frac{n}{\\sum_{i=1}^n \\sum_{j=1}^n w_{ij}} \\frac{\\sum_{i=1}^n \\sum_{j=1}^n w_{ij} (x_i - \\bar{x})(x_j - \\bar{x})}{\\sum_{i=1}^n (x_i - \\bar{x})^2},\n",
    "$$\n",
    "\n",
    "where $n$ is the number of spots or locations, $i$ and $j$ are different locations, or spots in the Visium context, $x$ is a variable with values at each location, and $w_{ij}$ is a spatial weight, which can be inversely proportional to distance between spots or an indicator of whether two spots are neighbors, subject to various definitions of neighborhood and whether to normalize the number of neighbors. The [`spdep`](https://r-spatial.github.io/spdep/index.html) package uses the neighborhood. \n",
    "\n",
    "Moran's I can be understood as the Pearson correlation between the value at each location and the average value at its neighbors. Just like Pearson correlation, Moran's I is generally bound between -1 and 1, where positive value indicates positive spatial autocorrelation and negative value indicates negative spatial autocorrelation. \n",
    "\n",
    "Upon visual inspection, total UMI counts per spot seem to have spatial autocorrelation. A spatial neighborhood graph is required to compute Moran's I, and is specified with the `listw` argument. \n",
    "\n",
    "For matrices, the rows are the features, as in the gene count matrix."
   ]
  },
  {
   "cell_type": "code",
   "execution_count": null,
<<<<<<< HEAD
<<<<<<< HEAD
<<<<<<< HEAD
   "id": "1bf5ecd8",
||||||| 6a30bf1
   "id": "723d6b54",
=======
   "id": "07a66c34",
>>>>>>> documentation-devel
||||||| d28b18c
   "id": "07a66c34",
=======
   "id": "062b0e67",
>>>>>>> documentation-devel
||||||| 6893f63
<<<<<<< HEAD
   "id": "1bf5ecd8",
||||||| 6a30bf1
   "id": "723d6b54",
=======
   "id": "07a66c34",
>>>>>>> documentation-devel
=======
   "id": "d28a975c",
>>>>>>> c74c98c2450c2a1ba922ed9442f136238d6bc88b
   "metadata": {},
   "outputs": [],
   "source": [
    "# Directly use vector or matrix, and multiple features can be specified at once\n",
    "calculateUnivariate(t(colData(sfe_tissue)[,c(\"nCounts\", \"nGenes\")]), \n",
    "                    type = \"moran\",\n",
    "                    listw = colGraph(sfe_tissue, \"visium\"))"
   ]
  },
  {
   "cell_type": "markdown",
<<<<<<< HEAD
<<<<<<< HEAD
<<<<<<< HEAD
   "id": "dc81fcc4",
||||||| 6a30bf1
   "id": "5d5183d2",
=======
   "id": "969832c5",
>>>>>>> documentation-devel
||||||| d28b18c
   "id": "969832c5",
=======
   "id": "6401cc9c",
>>>>>>> documentation-devel
||||||| 6893f63
<<<<<<< HEAD
   "id": "dc81fcc4",
||||||| 6a30bf1
   "id": "5d5183d2",
=======
   "id": "969832c5",
>>>>>>> documentation-devel
=======
   "id": "68405dcc",
>>>>>>> c74c98c2450c2a1ba922ed9442f136238d6bc88b
   "metadata": {
    "lines_to_next_cell": 0
   },
   "source": [
    "\"moran\" is Moran's I, and K is sample kurtosis.\n",
    "\n",
    "To add the results to the SFE object, specifically for colData:"
   ]
  },
  {
   "cell_type": "code",
   "execution_count": null,
<<<<<<< HEAD
<<<<<<< HEAD
<<<<<<< HEAD
   "id": "9d576f46",
||||||| 6a30bf1
   "id": "a4f98956",
=======
   "id": "37369d97",
>>>>>>> documentation-devel
||||||| d28b18c
   "id": "37369d97",
=======
   "id": "24bddd0e",
>>>>>>> documentation-devel
||||||| 6893f63
<<<<<<< HEAD
   "id": "9d576f46",
||||||| 6a30bf1
   "id": "a4f98956",
=======
   "id": "37369d97",
>>>>>>> documentation-devel
=======
   "id": "046b2ad9",
>>>>>>> c74c98c2450c2a1ba922ed9442f136238d6bc88b
   "metadata": {},
   "outputs": [],
   "source": [
    "sfe_tissue <- colDataUnivariate(sfe_tissue, features = c(\"nCounts\", \"nGenes\"),\n",
    "                                colGraphName = \"visium\", type = \"moran\")\n",
    "colFeatureData(sfe_tissue)[c(\"nCounts\", \"nGenes\"),]"
   ]
  },
  {
   "cell_type": "markdown",
<<<<<<< HEAD
<<<<<<< HEAD
<<<<<<< HEAD
   "id": "a52f2fbf",
||||||| 6a30bf1
   "id": "fee8230e",
=======
   "id": "568bb959",
>>>>>>> documentation-devel
||||||| d28b18c
   "id": "568bb959",
=======
   "id": "5886e06b",
>>>>>>> documentation-devel
||||||| 6893f63
<<<<<<< HEAD
   "id": "a52f2fbf",
||||||| 6a30bf1
   "id": "fee8230e",
=======
   "id": "568bb959",
>>>>>>> documentation-devel
=======
   "id": "15349fe6",
>>>>>>> c74c98c2450c2a1ba922ed9442f136238d6bc88b
   "metadata": {
    "lines_to_next_cell": 0
   },
   "source": [
    "For `colData`, the results are added to `colFeatureData(sfe)`, and features for which Moran's I is not calculated have NA. The column names of `featureData` distinguishes between different samples (there's only one sample in this dataset), and are parsed by plotting functions. \n",
    "\n",
    "To add the results to the SFE object, specifically for geometries: Here \"area\" is the area of the cross section of each myofiber as seen in this tissue section and \"eccentricity\" is the eccentricity of the ellipse fitted to each myofiber."
   ]
  },
  {
   "cell_type": "code",
   "execution_count": null,
<<<<<<< HEAD
<<<<<<< HEAD
<<<<<<< HEAD
   "id": "508f1ba9",
||||||| 6a30bf1
   "id": "2f454c34",
=======
   "id": "64993282",
>>>>>>> documentation-devel
||||||| d28b18c
   "id": "64993282",
=======
   "id": "9a536b22",
>>>>>>> documentation-devel
||||||| 6893f63
<<<<<<< HEAD
   "id": "508f1ba9",
||||||| 6a30bf1
   "id": "2f454c34",
=======
   "id": "64993282",
>>>>>>> documentation-devel
=======
   "id": "346f3ab8",
>>>>>>> c74c98c2450c2a1ba922ed9442f136238d6bc88b
   "metadata": {},
   "outputs": [],
   "source": [
    "# Remember zero.policy = TRUE since there're singletons\n",
    "sfe_tissue <- annotGeometryUnivariate(sfe_tissue, type = \"moran\",\n",
    "                                      features = c(\"area\", \"eccentricity\"), \n",
    "                                      annotGeometryName = \"myofiber_simplified\",\n",
    "                                      annotGraphName = \"myofiber_poly2nb\", \n",
    "                                      zero.policy = TRUE)\n",
    "head(attr(annotGeometry(sfe_tissue, \"myofiber_simplified\"), \"featureData\"))"
   ]
  },
  {
   "cell_type": "markdown",
<<<<<<< HEAD
<<<<<<< HEAD
<<<<<<< HEAD
   "id": "67ec8540",
||||||| 6a30bf1
   "id": "798b8c9c",
=======
   "id": "97d42e58",
>>>>>>> documentation-devel
||||||| d28b18c
   "id": "97d42e58",
=======
   "id": "add041d2",
>>>>>>> documentation-devel
||||||| 6893f63
<<<<<<< HEAD
   "id": "67ec8540",
||||||| 6a30bf1
   "id": "798b8c9c",
=======
   "id": "97d42e58",
>>>>>>> documentation-devel
=======
   "id": "241f0906",
>>>>>>> c74c98c2450c2a1ba922ed9442f136238d6bc88b
   "metadata": {
    "lines_to_next_cell": 0
   },
   "source": [
    "For a non-geometry column in a `colGeometry`, `colGeometryUnivariate()` is like `annotGeometryUnivariate()` here, but none of the `colGeometries` in this dataset has extra columns.\n",
    "\n",
    "For gene expression, the `logcounts` assay is used by default (use the `exprs_values` argument to change the assay), though this may or may not be best practice. If the metrics are computed for a large number of features, parallel computing is supported, with [`BiocParallel`](https://bioconductor.org/packages/release/bioc/html/BiocParallel.html), with the `BPPARAM` argument."
   ]
  },
  {
   "cell_type": "code",
   "execution_count": null,
<<<<<<< HEAD
<<<<<<< HEAD
<<<<<<< HEAD
   "id": "7feb883b",
||||||| 6a30bf1
   "id": "9232c112",
=======
   "id": "7c3655ee",
>>>>>>> documentation-devel
||||||| d28b18c
   "id": "7c3655ee",
=======
   "id": "7ed78399",
>>>>>>> documentation-devel
||||||| 6893f63
<<<<<<< HEAD
   "id": "7feb883b",
||||||| 6a30bf1
   "id": "9232c112",
=======
   "id": "7c3655ee",
>>>>>>> documentation-devel
=======
   "id": "a83c56db",
>>>>>>> c74c98c2450c2a1ba922ed9442f136238d6bc88b
   "metadata": {},
   "outputs": [],
   "source": [
    "sfe_tissue <- runUnivariate(sfe_tissue, type = \"moran\", features = hvgs, \n",
    "                            colGraphName = \"visium\", \n",
    "                            BPPARAM = MulticoreParam(2))\n",
    "rowData(sfe_tissue)[head(hvgs),]"
   ]
  },
  {
   "cell_type": "markdown",
<<<<<<< HEAD
<<<<<<< HEAD
<<<<<<< HEAD
   "id": "37c4bca0",
||||||| 6a30bf1
   "id": "7352b39e",
=======
   "id": "d3050785",
>>>>>>> documentation-devel
||||||| d28b18c
   "id": "d3050785",
=======
   "id": "8798f308",
>>>>>>> documentation-devel
||||||| 6893f63
<<<<<<< HEAD
   "id": "37c4bca0",
||||||| 6a30bf1
   "id": "7352b39e",
=======
   "id": "d3050785",
>>>>>>> documentation-devel
=======
   "id": "470c6ebc",
>>>>>>> c74c98c2450c2a1ba922ed9442f136238d6bc88b
   "metadata": {
    "lines_to_next_cell": 0
   },
   "source": [
    "## Geary's C\n",
    "Another spatial autocorrelation metric is Geary's C, defined as:\n",
    "\n",
    "$$\n",
    "C = \\frac{(n-1)}{2\\sum_{i=1}^n \\sum_{j=1}^n w_{ij}} \\frac{\\sum_{i=1}^n \\sum_{j=1}^n w_{ij}(x_i - x_j)^2}{{\\sum_{i=1}^n (x_i - \\bar{x})^2}}\n",
    "$$\n",
    "\n",
    "Geary's C  below 1 indicates positive spatial autocorrelation, and above 1 indicates negative spatial autocorrelation.\n",
    "\n",
    "To compute Geary's C for features of interest replace `type = \"moran\"` in the previous section with `type = \"geary\"`, and add the results to the SFE object. For example, for `colData`"
   ]
  },
  {
   "cell_type": "code",
   "execution_count": null,
<<<<<<< HEAD
<<<<<<< HEAD
<<<<<<< HEAD
   "id": "57f6a39e",
||||||| 6a30bf1
   "id": "a3eabe0b",
=======
   "id": "62e1fb3e",
>>>>>>> documentation-devel
||||||| d28b18c
   "id": "62e1fb3e",
=======
   "id": "8f2a7cf3",
>>>>>>> documentation-devel
||||||| 6893f63
<<<<<<< HEAD
   "id": "57f6a39e",
||||||| 6a30bf1
   "id": "a3eabe0b",
=======
   "id": "62e1fb3e",
>>>>>>> documentation-devel
=======
   "id": "d4c1fd42",
>>>>>>> c74c98c2450c2a1ba922ed9442f136238d6bc88b
   "metadata": {},
   "outputs": [],
   "source": [
    "sfe_tissue <- colDataUnivariate(sfe_tissue, features = c(\"nCounts\", \"nGenes\"),\n",
    "                                colGraphName = \"visium\", type = \"geary\")\n",
    "colFeatureData(sfe_tissue)[c(\"nCounts\", \"nGenes\"),]"
   ]
  },
  {
   "cell_type": "markdown",
<<<<<<< HEAD
<<<<<<< HEAD
<<<<<<< HEAD
   "id": "70cbf48e",
||||||| 6a30bf1
   "id": "03f202c2",
=======
   "id": "a62da375",
>>>>>>> documentation-devel
||||||| d28b18c
   "id": "a62da375",
=======
   "id": "c7c5f66b",
>>>>>>> documentation-devel
||||||| 6893f63
<<<<<<< HEAD
   "id": "70cbf48e",
||||||| 6a30bf1
   "id": "03f202c2",
=======
   "id": "a62da375",
>>>>>>> documentation-devel
=======
   "id": "a11553cd",
>>>>>>> c74c98c2450c2a1ba922ed9442f136238d6bc88b
   "metadata": {
    "lines_to_next_cell": 0
   },
   "source": [
    "There's only one column for K since it's the same for Moran's I and Geary's C. Here both Moran's I and Geary's C suggest positive spatial autocorrelation for `nCounts` and `nGenes`.\n",
    "\n",
    "Other univariate global methods, including permutation testing for Moran's I and Geary's C, correlograms, and Moran scatter plot can also be called with functions such as `runUnivariate`, by specifying the `type` argument. See documentation of `runUnivariate` to see the available methods and see documentation of the corresponding `spdep` functions to see the extra arguments required for each method.\n",
    "\n",
    "## Permutation testing\n",
    "To establish whether the spatial autocorrelation is statistically significant, the `moran.test()` function in `spdep` can be used. It provides a p-value, but the p-value may not be accurate if the data is not normally distributed. As gene expression data is generally not normally distributed and data normalization doesn't always work well, we use permutation testing to test the significance of Moran's I and Geary's C, wrapping `moran.mc()` in `spdep`. The \"mc\" stands for Monte Carlo. The `nsim` argument specifies the number of simulations. \n",
    "\n",
    "The following adds the results to the SFE object:"
   ]
  },
  {
   "cell_type": "code",
   "execution_count": null,
<<<<<<< HEAD
<<<<<<< HEAD
<<<<<<< HEAD
   "id": "e79ada60",
||||||| 6a30bf1
   "id": "9f2a13ac",
=======
   "id": "23d93dd0",
>>>>>>> documentation-devel
||||||| d28b18c
   "id": "23d93dd0",
=======
   "id": "3fbb223d",
>>>>>>> documentation-devel
||||||| 6893f63
<<<<<<< HEAD
   "id": "e79ada60",
||||||| 6a30bf1
   "id": "9f2a13ac",
=======
   "id": "23d93dd0",
>>>>>>> documentation-devel
=======
   "id": "915c83d5",
>>>>>>> c74c98c2450c2a1ba922ed9442f136238d6bc88b
   "metadata": {},
   "outputs": [],
   "source": [
    "set.seed(29)\n",
    "sfe_tissue <- colDataUnivariate(sfe_tissue, features = c(\"nCounts\", \"nGenes\"), \n",
    "                                colGraphName = \"visium\", nsim = 1000,\n",
    "                                type = \"moran.mc\")\n",
    "colFeatureData(sfe_tissue)[c(\"nCounts\", \"nGenes\"),]"
   ]
  },
  {
   "cell_type": "markdown",
<<<<<<< HEAD
<<<<<<< HEAD
<<<<<<< HEAD
   "id": "fb552d3d",
||||||| 6a30bf1
   "id": "6d6b4ea7",
=======
   "id": "1faed674",
>>>>>>> documentation-devel
||||||| d28b18c
   "id": "1faed674",
=======
   "id": "1ee8aec1",
>>>>>>> documentation-devel
||||||| 6893f63
<<<<<<< HEAD
   "id": "fb552d3d",
||||||| 6a30bf1
   "id": "6d6b4ea7",
=======
   "id": "1faed674",
>>>>>>> documentation-devel
=======
   "id": "18dd5dc1",
>>>>>>> c74c98c2450c2a1ba922ed9442f136238d6bc88b
   "metadata": {
    "lines_to_next_cell": 0
   },
   "source": [
    "Note that while the test is performed for multiple features, the p-values here are not corrected for multiple hypothesis testing.\n",
    "\n",
    "The results can be plotted:"
   ]
  },
  {
   "cell_type": "code",
   "execution_count": null,
<<<<<<< HEAD
<<<<<<< HEAD
<<<<<<< HEAD
   "id": "c32b155e",
||||||| 6a30bf1
   "id": "cc73410a",
=======
   "id": "7daff638",
>>>>>>> documentation-devel
||||||| d28b18c
   "id": "7daff638",
=======
   "id": "9157194e",
>>>>>>> documentation-devel
||||||| 6893f63
<<<<<<< HEAD
   "id": "c32b155e",
||||||| 6a30bf1
   "id": "cc73410a",
=======
   "id": "7daff638",
>>>>>>> documentation-devel
=======
   "id": "02d4a3f1",
>>>>>>> c74c98c2450c2a1ba922ed9442f136238d6bc88b
   "metadata": {
    "fig.alt": "Density plot of Moran's I values from 1000 simulations of nCounts and nGenes. The density plots center around 0 and deminish around 0.06 on the right. Vertical lines mark the actual Moran's I. For both nCounts and nGenes, the actual value, at 0.53 and 0.38 respectively, is far higher than the simulated ones, indicating positive spatial autocorrelation."
   },
   "outputs": [],
   "source": [
    "plotMoranMC(sfe_tissue, c(\"nCounts\", \"nGenes\"))"
   ]
  },
  {
   "cell_type": "markdown",
<<<<<<< HEAD
<<<<<<< HEAD
<<<<<<< HEAD
   "id": "8b85ac16",
||||||| 6a30bf1
   "id": "010625cb",
=======
   "id": "9363d721",
>>>>>>> documentation-devel
||||||| d28b18c
   "id": "9363d721",
=======
   "id": "0e892e3e",
>>>>>>> documentation-devel
||||||| 6893f63
<<<<<<< HEAD
   "id": "8b85ac16",
||||||| 6a30bf1
   "id": "010625cb",
=======
   "id": "9363d721",
>>>>>>> documentation-devel
=======
   "id": "2166a5f0",
>>>>>>> c74c98c2450c2a1ba922ed9442f136238d6bc88b
   "metadata": {},
   "source": [
    "By default, the colorblind friendly palette from [`dittoSeq`](https://bioconductor.org/packages/release/bioc/html/dittoSeq.html) is used for categorical variables. The density plot is of Moran's I from the simulations where the values are permuted and disconnected from spatial locations, and the vertical line is the actual Moran's I value. The simulation indicates that the actual Moran's I is much higher than that from the simulations where the values are dissociated from spatial locations and permuted among the locations, indicating that spatial autocorrelation is very significant. \n",
    "\n",
    "Use `type = \"geary.mc\"` for permutation testing for Geary's C.\n",
    "\n",
    "The `spdep` package can also compute p-values of Moran's I analytically, but the theory behind the mean and variance of the null distribution of Moran's I assumes normal distribution of the data, while gene expression data is generally non-normal. However, according to [@Griffith2010-uy], with large sample size (\"preferably at least 100\"), mean and variance of Moran's I of several iid non-normal simulated datasets (including negative binomial, which is commonly used to model gene expression data) don't seem to deviate much from the values expected from normally distributed data. Spatial transcriptomics datasets typically have thousands or more spots or cells, so sample size is most likely large enough. Hence using the analytical test on non-normal data might not be too bad. However, with large sample size, a minuscule difference can create very significant p-values. Here we perform the analytical test for Moran's I:"
   ]
  },
  {
   "cell_type": "code",
   "execution_count": null,
<<<<<<< HEAD
<<<<<<< HEAD
<<<<<<< HEAD
   "id": "885f2d50",
||||||| 6a30bf1
   "id": "ef784ba9",
=======
   "id": "e3c250e6",
>>>>>>> documentation-devel
||||||| d28b18c
   "id": "e3c250e6",
=======
   "id": "19f2bd21",
>>>>>>> documentation-devel
||||||| 6893f63
<<<<<<< HEAD
   "id": "885f2d50",
||||||| 6a30bf1
   "id": "ef784ba9",
=======
   "id": "e3c250e6",
>>>>>>> documentation-devel
=======
   "id": "7f84e122",
>>>>>>> c74c98c2450c2a1ba922ed9442f136238d6bc88b
   "metadata": {},
   "outputs": [],
   "source": [
    "sfe_tissue <- colDataUnivariate(sfe_tissue, features = c(\"nCounts\", \"nGenes\"), \n",
    "                                colGraphName = \"visium\", type = \"moran.test\")\n",
    "names(colFeatureData(sfe_tissue))"
   ]
  },
  {
   "cell_type": "markdown",
<<<<<<< HEAD
<<<<<<< HEAD
<<<<<<< HEAD
   "id": "e3e06344",
||||||| 6a30bf1
   "id": "154804e6",
=======
   "id": "11c9558d",
>>>>>>> documentation-devel
||||||| d28b18c
   "id": "11c9558d",
=======
   "id": "b1948175",
>>>>>>> documentation-devel
||||||| 6893f63
<<<<<<< HEAD
   "id": "e3e06344",
||||||| 6a30bf1
   "id": "154804e6",
=======
   "id": "11c9558d",
>>>>>>> documentation-devel
=======
   "id": "e0dd142a",
>>>>>>> c74c98c2450c2a1ba922ed9442f136238d6bc88b
   "metadata": {},
   "source": [
    "Now compare the p-values from permutation and analytical test; in both cases here, the default alternative hypothesis is positive spatial autocorrelation:"
   ]
  },
  {
   "cell_type": "code",
   "execution_count": null,
<<<<<<< HEAD
<<<<<<< HEAD
<<<<<<< HEAD
   "id": "9820ed99",
||||||| 6a30bf1
   "id": "6abe0284",
=======
   "id": "3c778c99",
>>>>>>> documentation-devel
||||||| d28b18c
   "id": "3c778c99",
=======
   "id": "ff1ce7ae",
>>>>>>> documentation-devel
||||||| 6893f63
<<<<<<< HEAD
   "id": "9820ed99",
||||||| 6a30bf1
   "id": "6abe0284",
=======
   "id": "3c778c99",
>>>>>>> documentation-devel
=======
   "id": "8e4790df",
>>>>>>> c74c98c2450c2a1ba922ed9442f136238d6bc88b
   "metadata": {},
   "outputs": [],
   "source": [
    "# permutation\n",
    "colFeatureData(sfe_tissue)[c(\"nCounts\", \"nGenes\"), c(\"moran.mc_p.value_Vis5A\", \"moran.test_p.value_Vis5A\")]"
   ]
  },
  {
   "cell_type": "markdown",
<<<<<<< HEAD
<<<<<<< HEAD
<<<<<<< HEAD
   "id": "f62b2a4f",
||||||| 6a30bf1
   "id": "e3a345e4",
=======
   "id": "829462ea",
>>>>>>> documentation-devel
||||||| d28b18c
   "id": "829462ea",
=======
   "id": "2e9b7c58",
>>>>>>> documentation-devel
||||||| 6893f63
<<<<<<< HEAD
   "id": "f62b2a4f",
||||||| 6a30bf1
   "id": "e3a345e4",
=======
   "id": "829462ea",
>>>>>>> documentation-devel
=======
   "id": "619dbbac",
>>>>>>> c74c98c2450c2a1ba922ed9442f136238d6bc88b
   "metadata": {
    "lines_to_next_cell": 0
   },
   "source": [
    "The p-values from permutation are limited by the number of permutations (1000 here). Either way, both permutation and analytical tests indicate very significant positive spatial autocorrelation.\n",
    "\n",
    "A limitation of permutation testing of Moran's I is that it assumes that each permutation of the values among the locations is equally likely, which is not necessarily true. For instance, in epidemiology, disease rate in regions with small population more likely assumes more extreme values [@Assuncao1999-xu], which is analogous to rare cell types and lowly expressed genes in histological space given that we divide by total UMI counts per spot. The extent this happens may depend on tissue, gene of interest, technology, and data normalization method.\n",
    "\n",
    "## Correlogram\n",
    "In a correlogram, spatial autocorrelation of higher orders of neighbors (e.g. second order neighbors are neighbors of neighbors) is calculated to see how it decays over the orders. In Visium, with the regular hexagonal grid, order of neighbors is a proxy for distance. For more irregular patterns such as single cells, different methods to find the spatial neighbors may give different results. \n",
    "\n",
    "For `colData`, Moran's I correlogram is computed with"
   ]
  },
  {
   "cell_type": "code",
   "execution_count": null,
<<<<<<< HEAD
<<<<<<< HEAD
<<<<<<< HEAD
   "id": "6300f9ef",
||||||| 6a30bf1
   "id": "8a887353",
=======
   "id": "c3e55c24",
>>>>>>> documentation-devel
||||||| d28b18c
   "id": "c3e55c24",
=======
   "id": "8ff82792",
>>>>>>> documentation-devel
||||||| 6893f63
<<<<<<< HEAD
   "id": "6300f9ef",
||||||| 6a30bf1
   "id": "8a887353",
=======
   "id": "c3e55c24",
>>>>>>> documentation-devel
=======
   "id": "25838179",
>>>>>>> c74c98c2450c2a1ba922ed9442f136238d6bc88b
   "metadata": {},
   "outputs": [],
   "source": [
    "sfe_tissue <- runUnivariate(sfe_tissue, hvgs[1:2], colGraphName = \"visium\", \n",
    "                            order = 10, type = \"sp.correlogram\")"
   ]
  },
  {
   "cell_type": "markdown",
<<<<<<< HEAD
<<<<<<< HEAD
<<<<<<< HEAD
   "id": "1c1ce470",
||||||| 6a30bf1
   "id": "31f66df8",
=======
   "id": "67da074b",
>>>>>>> documentation-devel
||||||| d28b18c
   "id": "67da074b",
=======
   "id": "62cb8f9d",
>>>>>>> documentation-devel
||||||| 6893f63
<<<<<<< HEAD
   "id": "1c1ce470",
||||||| 6a30bf1
   "id": "31f66df8",
=======
   "id": "67da074b",
>>>>>>> documentation-devel
=======
   "id": "2f59f3bc",
>>>>>>> c74c98c2450c2a1ba922ed9442f136238d6bc88b
   "metadata": {
    "lines_to_next_cell": 0
   },
   "source": [
    "The results can be plotted with `plotCorrelogram`:"
   ]
  },
  {
   "cell_type": "code",
   "execution_count": null,
<<<<<<< HEAD
<<<<<<< HEAD
<<<<<<< HEAD
   "id": "5ef55718",
||||||| 6a30bf1
   "id": "904f5f99",
=======
   "id": "1f7f356f",
>>>>>>> documentation-devel
||||||| d28b18c
   "id": "1f7f356f",
=======
   "id": "72d2a43d",
>>>>>>> documentation-devel
||||||| 6893f63
<<<<<<< HEAD
   "id": "5ef55718",
||||||| 6a30bf1
   "id": "904f5f99",
=======
   "id": "1f7f356f",
>>>>>>> documentation-devel
=======
   "id": "4800d01c",
>>>>>>> c74c98c2450c2a1ba922ed9442f136238d6bc88b
   "metadata": {
    "fig.alt": "Line plot with order of neighbors (lags) in the x axis and Moran's I value at each lag in the y axis. The x axis ranges from 1 to 10, and the y axis ranges from 0 to 0.8. The lines show trends of decay of spatial autocorrelation with increasing distance of neighbors. Two genes, Car3 and Mb, are shown. Moran's I of both genes decay somewhat linearly from lag 1 to 10. Car3 decays from around 0.75 to around 0.23. Mb decays from around 0.7 to around 0.13. At each lag the error bars are tight (see next paragraph in the main text) and the p-values are less than 0.001 after Benjamini-Hochberg multiple testing correction over the 2 genes and 10 lags."
   },
   "outputs": [],
   "source": [
    "plotCorrelogram(sfe_tissue, hvgs[1:2], swap_rownames = \"symbol\")"
   ]
  },
  {
   "cell_type": "markdown",
<<<<<<< HEAD
<<<<<<< HEAD
<<<<<<< HEAD
   "id": "60ef4438",
||||||| 6a30bf1
   "id": "26e17bf9",
=======
   "id": "92f301df",
>>>>>>> documentation-devel
||||||| d28b18c
   "id": "92f301df",
=======
   "id": "1072f27f",
>>>>>>> documentation-devel
||||||| 6893f63
<<<<<<< HEAD
   "id": "60ef4438",
||||||| 6a30bf1
   "id": "26e17bf9",
=======
   "id": "92f301df",
>>>>>>> documentation-devel
=======
   "id": "5b3da42e",
>>>>>>> c74c98c2450c2a1ba922ed9442f136238d6bc88b
   "metadata": {
    "lines_to_next_cell": 0
   },
   "source": [
    "The error bars are twice the standard deviation of the Moran's I value. The standard deviation and p-values (null hypothesis is that Moran's I is 0) come from `moran.test()` (for Geary's C correlogram, `geary.test()`); these should be taken with a grain of salt for data that is not normally distributed. The p-values have been corrected for multiple hypothesis testing across all orders and features. As usual, . means p < 0.1, \\* means p < 0.05, \\*\\* means p < 0.01, and \\*\\*\\* means p < 0.001. \n",
    "\n",
    "Again, this can be done for Geary's C, `colData`, `annotGeometry`, and etc.\n",
    "\n",
    "# Univariate local\n",
    "Local statistics yield a result at each location rather than the whole dataset, while global statistics may obscure local heterogeneity. See [@Fotheringham2009-ak] for an interesting discussion of relationships between global and local spatial statistics. Local statistics are stored in the `localResults` field of the SFE object, which can be accessed by the `localResult()` or `localResults()` functions in the `SpatialFeatureExperiment` package.\n",
    "\n",
    "All univariate local methods in `Voyager` are listed here:"
   ]
  },
  {
   "cell_type": "code",
   "execution_count": null,
<<<<<<< HEAD
<<<<<<< HEAD
<<<<<<< HEAD
   "id": "e8df7549",
||||||| 6a30bf1
   "id": "2d9886e6",
=======
   "id": "fa7acffe",
>>>>>>> documentation-devel
||||||| d28b18c
   "id": "fa7acffe",
=======
   "id": "528975cb",
>>>>>>> documentation-devel
||||||| 6893f63
<<<<<<< HEAD
   "id": "e8df7549",
||||||| 6a30bf1
   "id": "2d9886e6",
=======
   "id": "fa7acffe",
>>>>>>> documentation-devel
=======
   "id": "40c67852",
>>>>>>> c74c98c2450c2a1ba922ed9442f136238d6bc88b
   "metadata": {
    "lines_to_next_cell": 2
   },
   "outputs": [],
   "source": [
    "listSFEMethods(variate = \"uni\", scope = \"local\")"
   ]
  },
  {
   "cell_type": "markdown",
<<<<<<< HEAD
<<<<<<< HEAD
<<<<<<< HEAD
   "id": "0e361244",
||||||| 6a30bf1
   "id": "8a969879",
=======
   "id": "861faee6",
>>>>>>> documentation-devel
||||||| d28b18c
   "id": "861faee6",
=======
   "id": "da2b068a",
>>>>>>> documentation-devel
||||||| 6893f63
<<<<<<< HEAD
   "id": "0e361244",
||||||| 6a30bf1
   "id": "8a969879",
=======
   "id": "861faee6",
>>>>>>> documentation-devel
=======
   "id": "5719cf4b",
>>>>>>> c74c98c2450c2a1ba922ed9442f136238d6bc88b
   "metadata": {
    "lines_to_next_cell": 0
   },
   "source": [
    "## Moran scatter plot\n",
    "In the Moran scatter plot [@Anselin1996-mo], the x axis is the value at a spot, and the y axis is the average value of the neighbors. The slope of the fitted line is Moran's I. Sometimes clusters appear in this plot, showing different kinds of neighborhoods. \n",
    "\n",
    "For gene expression, to use one gene (log normalized value) to demonstrate:"
   ]
  },
  {
   "cell_type": "code",
   "execution_count": null,
<<<<<<< HEAD
<<<<<<< HEAD
<<<<<<< HEAD
   "id": "a33edd9d",
||||||| 6a30bf1
   "id": "b0af0075",
=======
   "id": "8da2975e",
>>>>>>> documentation-devel
||||||| d28b18c
   "id": "8da2975e",
=======
   "id": "13015f23",
>>>>>>> documentation-devel
||||||| 6893f63
<<<<<<< HEAD
   "id": "a33edd9d",
||||||| 6a30bf1
   "id": "b0af0075",
=======
   "id": "8da2975e",
>>>>>>> documentation-devel
=======
   "id": "ad279362",
>>>>>>> c74c98c2450c2a1ba922ed9442f136238d6bc88b
   "metadata": {},
   "outputs": [],
   "source": [
    "sfe_tissue <- runUnivariate(sfe_tissue, \"Myh2\", colGraphName = \"visium\", \n",
    "                            type = \"moran.plot\", swap_rownames = \"symbol\")"
   ]
  },
  {
   "cell_type": "code",
   "execution_count": null,
<<<<<<< HEAD
<<<<<<< HEAD
<<<<<<< HEAD
   "id": "4930641e",
||||||| 6a30bf1
   "id": "0a93f4e7",
=======
   "id": "375d3a0a",
>>>>>>> documentation-devel
||||||| d28b18c
   "id": "375d3a0a",
=======
   "id": "adbb7c20",
>>>>>>> documentation-devel
||||||| 6893f63
<<<<<<< HEAD
   "id": "4930641e",
||||||| 6a30bf1
   "id": "0a93f4e7",
=======
   "id": "375d3a0a",
>>>>>>> documentation-devel
=======
   "id": "8e3582b9",
>>>>>>> c74c98c2450c2a1ba922ed9442f136238d6bc88b
   "metadata": {
    "fig.alt": "Moran scatter plot of log normalized values of gene Myh2. This plot is described in the upcoming main text."
   },
   "outputs": [],
   "source": [
    "moranPlot(sfe_tissue, \"Myh2\", graphName = \"visium\", swap_rownames = \"symbol\")"
   ]
  },
  {
   "cell_type": "markdown",
<<<<<<< HEAD
<<<<<<< HEAD
<<<<<<< HEAD
   "id": "308b55f1",
||||||| 6a30bf1
   "id": "38ce517b",
=======
   "id": "73681cae",
>>>>>>> documentation-devel
||||||| d28b18c
   "id": "73681cae",
=======
   "id": "7604dfe2",
>>>>>>> documentation-devel
||||||| 6893f63
<<<<<<< HEAD
   "id": "308b55f1",
||||||| 6a30bf1
   "id": "38ce517b",
=======
   "id": "73681cae",
>>>>>>> documentation-devel
=======
   "id": "8287667b",
>>>>>>> c74c98c2450c2a1ba922ed9442f136238d6bc88b
   "metadata": {},
   "source": [
    "The dashed lines mark the mean in Myh2 and spatially lagged Myh2. There are no singletons here. Some Visium spots with lower Myh2 expression have neighbors that don't express Myh2 but spots that don't express Myh2 usually have at least some neighbors that do. There are twp main clusters for spots whose neighbors do express Myh2: those with high (above average) expression whose neighbors also have high expression, and those with low expression whose neighbors also have low expression. Other features may show different kinds of clusters. We can use k-means clustering to identify clusters, though any clustering method supported by the `bluster` package can be used."
   ]
  },
  {
   "cell_type": "code",
   "execution_count": null,
<<<<<<< HEAD
<<<<<<< HEAD
<<<<<<< HEAD
   "id": "8b02c82b",
||||||| 6a30bf1
   "id": "10c0a488",
=======
   "id": "9c663c2a",
>>>>>>> documentation-devel
||||||| d28b18c
   "id": "9c663c2a",
=======
   "id": "2715a8c8",
>>>>>>> documentation-devel
||||||| 6893f63
<<<<<<< HEAD
   "id": "8b02c82b",
||||||| 6a30bf1
   "id": "10c0a488",
=======
   "id": "9c663c2a",
>>>>>>> documentation-devel
=======
   "id": "ce710a02",
>>>>>>> c74c98c2450c2a1ba922ed9442f136238d6bc88b
   "metadata": {},
   "outputs": [],
   "source": [
    "set.seed(29)\n",
    "clusts <- clusterMoranPlot(sfe_tissue, \"Myh2\", BLUSPARAM = KmeansParam(2),\n",
    "                           swap_rownames = \"symbol\")"
   ]
  },
  {
   "cell_type": "markdown",
<<<<<<< HEAD
<<<<<<< HEAD
<<<<<<< HEAD
   "id": "3efad787",
||||||| 6a30bf1
   "id": "775b03b7",
=======
   "id": "f06bee9a",
>>>>>>> documentation-devel
||||||| d28b18c
   "id": "f06bee9a",
=======
   "id": "ec70c10e",
>>>>>>> documentation-devel
||||||| 6893f63
<<<<<<< HEAD
   "id": "3efad787",
||||||| 6a30bf1
   "id": "775b03b7",
=======
   "id": "f06bee9a",
>>>>>>> documentation-devel
=======
   "id": "cfa0b3d7",
>>>>>>> c74c98c2450c2a1ba922ed9442f136238d6bc88b
   "metadata": {
    "lines_to_next_cell": 0
   },
   "source": [
    "We can use the [gget search](https://pachterlab.github.io/gget/search.html) module to get the Ensembl ID for Myh2:"
   ]
  },
  {
   "cell_type": "code",
   "execution_count": null,
<<<<<<< HEAD
<<<<<<< HEAD
<<<<<<< HEAD
   "id": "40f2f000",
||||||| 6a30bf1
   "id": "e732133e",
=======
   "id": "4839ac7e",
>>>>>>> documentation-devel
||||||| d28b18c
   "id": "4839ac7e",
=======
   "id": "68e462d4",
>>>>>>> documentation-devel
||||||| 6893f63
<<<<<<< HEAD
   "id": "40f2f000",
||||||| 6a30bf1
   "id": "e732133e",
=======
   "id": "4839ac7e",
>>>>>>> documentation-devel
=======
   "id": "66f39646",
>>>>>>> c74c98c2450c2a1ba922ed9442f136238d6bc88b
   "metadata": {},
   "outputs": [],
   "source": [
    "gget$search(\"Myh2\", species=\"mouse\")"
   ]
  },
  {
   "cell_type": "code",
   "execution_count": null,
<<<<<<< HEAD
<<<<<<< HEAD
<<<<<<< HEAD
   "id": "2199dc1a",
||||||| 6a30bf1
   "id": "c0eeaac5",
=======
   "id": "972d4ba5",
>>>>>>> documentation-devel
||||||| d28b18c
   "id": "972d4ba5",
=======
   "id": "c9b3fb1a",
>>>>>>> documentation-devel
||||||| 6893f63
<<<<<<< HEAD
   "id": "2199dc1a",
||||||| 6a30bf1
   "id": "c0eeaac5",
=======
   "id": "972d4ba5",
>>>>>>> documentation-devel
=======
   "id": "179feae6",
>>>>>>> c74c98c2450c2a1ba922ed9442f136238d6bc88b
   "metadata": {
    "fig.alt": "Moran scatter plot of log normalized value of Myh1, colored by 2 k-means clusters, which correspond to the high-high and low-low spots."
   },
   "outputs": [],
   "source": [
    "moranPlot(sfe_tissue, \"Myh2\", graphName = \"visium\", \n",
    "          color_by = clusts$ENSMUSG00000033196, swap_rownames = \"symbol\")"
   ]
  },
  {
   "cell_type": "markdown",
<<<<<<< HEAD
<<<<<<< HEAD
<<<<<<< HEAD
   "id": "c3346d50",
||||||| 6a30bf1
   "id": "01c24563",
=======
   "id": "f088af06",
>>>>>>> documentation-devel
||||||| d28b18c
   "id": "f088af06",
=======
   "id": "f3b1f545",
>>>>>>> documentation-devel
||||||| 6893f63
<<<<<<< HEAD
   "id": "c3346d50",
||||||| 6a30bf1
   "id": "01c24563",
=======
   "id": "f088af06",
>>>>>>> documentation-devel
=======
   "id": "66d45565",
>>>>>>> c74c98c2450c2a1ba922ed9442f136238d6bc88b
   "metadata": {
    "lines_to_next_cell": 0
   },
   "source": [
    "Plot the clusters in space"
   ]
  },
  {
   "cell_type": "code",
   "execution_count": null,
<<<<<<< HEAD
<<<<<<< HEAD
<<<<<<< HEAD
   "id": "24fcadcd",
||||||| 6a30bf1
   "id": "20012d84",
=======
   "id": "e7f6fa98",
>>>>>>> documentation-devel
||||||| d28b18c
   "id": "e7f6fa98",
=======
   "id": "2a21d50f",
>>>>>>> documentation-devel
||||||| 6893f63
<<<<<<< HEAD
   "id": "24fcadcd",
||||||| 6a30bf1
   "id": "20012d84",
=======
   "id": "e7f6fa98",
>>>>>>> documentation-devel
=======
   "id": "5f9b8bc8",
>>>>>>> c74c98c2450c2a1ba922ed9442f136238d6bc88b
   "metadata": {
    "fig.alt": "Visium spots in space colored by the k-means clusters. Cluster 2 (high-high) are mostly in the upper left and lower left parts of the tissue, and the rest of the spots are cluster 1."
   },
   "outputs": [],
   "source": [
    "colData(sfe_tissue)$Myh2_moranPlot_clust <- clusts$ENSMUSG00000033196\n",
    "plotSpatialFeature(sfe_tissue, \"Myh2_moranPlot_clust\", colGeometryName = \"spotPoly\",\n",
    "                   image = \"lowres\", color = \"black\", linewidth = 0.1)"
   ]
  },
  {
   "cell_type": "markdown",
<<<<<<< HEAD
<<<<<<< HEAD
<<<<<<< HEAD
   "id": "cc638f89",
||||||| 6a30bf1
   "id": "1c54f1f7",
=======
   "id": "c12761bd",
>>>>>>> documentation-devel
||||||| d28b18c
   "id": "c12761bd",
=======
   "id": "64c95837",
>>>>>>> documentation-devel
||||||| 6893f63
<<<<<<< HEAD
   "id": "cc638f89",
||||||| 6a30bf1
   "id": "1c54f1f7",
=======
   "id": "c12761bd",
>>>>>>> documentation-devel
=======
   "id": "6807c5f3",
>>>>>>> c74c98c2450c2a1ba922ed9442f136238d6bc88b
   "metadata": {},
   "source": [
    "This can also be done for `colData`, `annotGeometry`, and etc. as in Moran's I and permutation testing. \n",
    "\n",
    "## Local Moran's I\n",
    "To recap, global Moran's I is defined as\n",
    "\n",
    "$$\n",
    "I = \\frac{n}{\\sum_{i=1}^n \\sum_{j=1}^n w_{ij}} \\frac{\\sum_{i=1}^n \\sum_{j=1}^n w_{ij} (x_i - \\bar{x})(x_j - \\bar{x})}{\\sum_{i=1}^n (x_i - \\bar{x})^2}.\n",
    "$$\n",
    "\n",
    "Local Moran's I [@Anselin1995-cs] is defined as\n",
    "\n",
    "$$\n",
    "I_i = (n-1)\\frac{(x_i - \\bar{x})\\sum_{j=1}^n w_{ij} (x_j - \\bar{x})}{\\sum_{i=1}^n (x_i - \\bar{x})^2}.\n",
    "$$\n",
    "\n",
    "It's similar to global Moran's I, but the values at locations $i$ are not summed and there's no normalization by the sum of spatial weights. "
   ]
  },
  {
   "cell_type": "code",
   "execution_count": null,
<<<<<<< HEAD
<<<<<<< HEAD
<<<<<<< HEAD
   "id": "45598e37",
||||||| 6a30bf1
   "id": "096d6d4b",
=======
   "id": "52603800",
>>>>>>> documentation-devel
||||||| d28b18c
   "id": "52603800",
=======
   "id": "2eaf8e95",
>>>>>>> documentation-devel
||||||| 6893f63
<<<<<<< HEAD
   "id": "45598e37",
||||||| 6a30bf1
   "id": "096d6d4b",
=======
   "id": "52603800",
>>>>>>> documentation-devel
=======
   "id": "f35fc295",
>>>>>>> c74c98c2450c2a1ba922ed9442f136238d6bc88b
   "metadata": {},
   "outputs": [],
   "source": [
    "sfe_tissue <- runUnivariate(sfe_tissue, type = \"localmoran\", features = \"Myh2\",\n",
    "                            colGraphName = \"visium\", swap_rownames = \"symbol\")"
   ]
  },
  {
   "cell_type": "markdown",
<<<<<<< HEAD
<<<<<<< HEAD
<<<<<<< HEAD
   "id": "c0e8e0fb",
||||||| 6a30bf1
   "id": "74cbdd12",
=======
   "id": "95528261",
>>>>>>> documentation-devel
||||||| d28b18c
   "id": "95528261",
=======
   "id": "a78e8ce7",
>>>>>>> documentation-devel
||||||| 6893f63
<<<<<<< HEAD
   "id": "c0e8e0fb",
||||||| 6a30bf1
   "id": "74cbdd12",
=======
   "id": "95528261",
>>>>>>> documentation-devel
=======
   "id": "e862f4f0",
>>>>>>> c74c98c2450c2a1ba922ed9442f136238d6bc88b
   "metadata": {
    "lines_to_next_cell": 0
   },
   "source": [
    "It is useful to plot the log normalized Myh2 gene expression as context to interpret the local results:"
   ]
  },
  {
   "cell_type": "code",
   "execution_count": null,
<<<<<<< HEAD
<<<<<<< HEAD
<<<<<<< HEAD
   "id": "0617e97c",
||||||| 6a30bf1
   "id": "c95d5920",
=======
   "id": "74bff65f",
>>>>>>> documentation-devel
||||||| d28b18c
   "id": "74bff65f",
=======
   "id": "cb64af03",
>>>>>>> documentation-devel
||||||| 6893f63
<<<<<<< HEAD
   "id": "0617e97c",
||||||| 6a30bf1
   "id": "c95d5920",
=======
   "id": "74bff65f",
>>>>>>> documentation-devel
=======
   "id": "7027cf68",
>>>>>>> c74c98c2450c2a1ba922ed9442f136238d6bc88b
   "metadata": {},
   "outputs": [],
   "source": [
    "plotSpatialFeature(sfe_tissue, features = \"Myh2\", colGeometryName = \"spotPoly\",\n",
    "                   swap_rownames = \"symbol\", image_id = \"lowres\", color = \"black\",\n",
    "                   linewidth = 0.1)"
   ]
  },
  {
   "cell_type": "code",
   "execution_count": null,
<<<<<<< HEAD
<<<<<<< HEAD
<<<<<<< HEAD
   "id": "0822e0eb",
||||||| 6a30bf1
   "id": "4e04fad0",
=======
   "id": "83e2c957",
>>>>>>> documentation-devel
||||||| d28b18c
   "id": "83e2c957",
=======
   "id": "76d56746",
>>>>>>> documentation-devel
||||||| 6893f63
<<<<<<< HEAD
   "id": "0822e0eb",
||||||| 6a30bf1
   "id": "4e04fad0",
=======
   "id": "83e2c957",
>>>>>>> documentation-devel
=======
   "id": "b206e1cb",
>>>>>>> c74c98c2450c2a1ba922ed9442f136238d6bc88b
   "metadata": {},
   "outputs": [],
   "source": [
    "plotLocalResult(sfe_tissue, \"localmoran\", features = \"Myh2\", \n",
    "                colGeometryName = \"spotPoly\",divergent = TRUE,\n",
    "                diverge_center = 0, image_id = \"lowres\", \n",
    "                swap_rownames = \"symbol\", color = \"black\",\n",
    "                linewidth = 0.1)"
   ]
  },
  {
   "cell_type": "markdown",
<<<<<<< HEAD
<<<<<<< HEAD
<<<<<<< HEAD
   "id": "0eb25336",
||||||| 6a30bf1
   "id": "401bf422",
=======
   "id": "b085dea5",
>>>>>>> documentation-devel
||||||| d28b18c
   "id": "b085dea5",
=======
   "id": "2896465f",
>>>>>>> documentation-devel
||||||| 6893f63
<<<<<<< HEAD
   "id": "0eb25336",
||||||| 6a30bf1
   "id": "401bf422",
=======
   "id": "b085dea5",
>>>>>>> documentation-devel
=======
   "id": "ae6e1a4f",
>>>>>>> c74c98c2450c2a1ba922ed9442f136238d6bc88b
   "metadata": {},
   "source": [
    "We see that regions with higher Myh2 expression also have stronger spatial autocorrelation. It is interesting to see how spatial autocorrelation relates to gene expression level, much as finding how variance relates to mean in the expression of each gene, which usually indicates overdispersion compared to Poisson in scRNA-seq and Visium data:"
   ]
  },
  {
   "cell_type": "code",
   "execution_count": null,
<<<<<<< HEAD
<<<<<<< HEAD
<<<<<<< HEAD
   "id": "11cd9058",
||||||| 6a30bf1
   "id": "9d54e4bb",
=======
   "id": "14fb220f",
>>>>>>> documentation-devel
||||||| d28b18c
   "id": "14fb220f",
=======
   "id": "10761a6c",
>>>>>>> documentation-devel
||||||| 6893f63
<<<<<<< HEAD
   "id": "11cd9058",
||||||| 6a30bf1
   "id": "9d54e4bb",
=======
   "id": "14fb220f",
>>>>>>> documentation-devel
=======
   "id": "7ce7c698",
>>>>>>> c74c98c2450c2a1ba922ed9442f136238d6bc88b
   "metadata": {},
   "outputs": [],
   "source": [
    "df <- data.frame(myh2 = logcounts(sfe_tissue)[rowData(sfe_tissue)$symbol == \"Myh2\",],\n",
    "                 Ii = localResult(sfe_tissue, \"localmoran\", \"Myh2\", \n",
    "                                  swap_rownames = \"symbol\")[,\"Ii\"])\n",
    "ggplot(df, aes(myh2, Ii)) + geom_point(alpha = 0.3) +\n",
    "    labs(x = \"Myh2 (log counts)\", y = \"localmoran\")"
   ]
  },
  {
   "cell_type": "markdown",
<<<<<<< HEAD
<<<<<<< HEAD
<<<<<<< HEAD
   "id": "7c2914f2",
||||||| 6a30bf1
   "id": "00f97328",
=======
   "id": "f63e7e35",
>>>>>>> documentation-devel
||||||| d28b18c
   "id": "f63e7e35",
=======
   "id": "ffaeb4bf",
>>>>>>> documentation-devel
||||||| 6893f63
<<<<<<< HEAD
   "id": "7c2914f2",
||||||| 6a30bf1
   "id": "00f97328",
=======
   "id": "f63e7e35",
>>>>>>> documentation-devel
=======
   "id": "b6dadc22",
>>>>>>> c74c98c2450c2a1ba922ed9442f136238d6bc88b
   "metadata": {
    "lines_to_next_cell": 0
   },
   "source": [
    "For this gene, Visium spots with higher expression also tend to have higher local Moran's I, but this may or may not apply to other genes.\n",
    "\n",
    "Local spatial analyses often return a matrix or data frame. The `plotLocalResult()` function has a default column for each local spatial method, but other columns can be plotted as well. Use the `localResultAttrs()` function to see which columns are present, and use the `attribute` argument to specify which column to plot."
   ]
  },
  {
   "cell_type": "code",
   "execution_count": null,
<<<<<<< HEAD
<<<<<<< HEAD
<<<<<<< HEAD
   "id": "2e172e1a",
||||||| 6a30bf1
   "id": "d3f5e395",
=======
   "id": "9de7ec20",
>>>>>>> documentation-devel
||||||| d28b18c
   "id": "9de7ec20",
=======
   "id": "8e8cc5e0",
>>>>>>> documentation-devel
||||||| 6893f63
<<<<<<< HEAD
   "id": "2e172e1a",
||||||| 6a30bf1
   "id": "d3f5e395",
=======
   "id": "9de7ec20",
>>>>>>> documentation-devel
=======
   "id": "a97fb646",
>>>>>>> c74c98c2450c2a1ba922ed9442f136238d6bc88b
   "metadata": {},
   "outputs": [],
   "source": [
    "localResultAttrs(sfe_tissue, \"localmoran\", \"Myh2\", swap_rownames = \"symbol\")"
   ]
  },
  {
   "cell_type": "markdown",
<<<<<<< HEAD
<<<<<<< HEAD
<<<<<<< HEAD
   "id": "8880c22c",
||||||| 6a30bf1
   "id": "6c5fcdb2",
=======
   "id": "e866992f",
>>>>>>> documentation-devel
||||||| d28b18c
   "id": "e866992f",
=======
   "id": "3c6d7418",
>>>>>>> documentation-devel
||||||| 6893f63
<<<<<<< HEAD
   "id": "8880c22c",
||||||| 6a30bf1
   "id": "6c5fcdb2",
=======
   "id": "e866992f",
>>>>>>> documentation-devel
=======
   "id": "d04bf334",
>>>>>>> c74c98c2450c2a1ba922ed9442f136238d6bc88b
   "metadata": {},
   "source": [
    "Some local spatial methods return p-values at each location, in a column with name like `Pr(z != E(Ii))`, where the test is two sided (default, can be changed with the `alternative` argument in `runUnivariate()` which is passed to the relevant underlying function in `spdep`). Negative log of the p-value is computed to facilitate visualization, and the p-value is corrected for multiple hypothesis testing with `p.adjustSP()` in `spdep`, where the number of tests is the number of neighbors of each location rather than the total number of locations (`-log10p_adj`)."
   ]
  },
  {
   "cell_type": "code",
   "execution_count": null,
<<<<<<< HEAD
<<<<<<< HEAD
<<<<<<< HEAD
   "id": "1b7ff82a",
||||||| 6a30bf1
   "id": "33a21766",
=======
   "id": "e73532dd",
>>>>>>> documentation-devel
||||||| d28b18c
   "id": "e73532dd",
=======
   "id": "b89fcd6a",
>>>>>>> documentation-devel
||||||| 6893f63
<<<<<<< HEAD
   "id": "1b7ff82a",
||||||| 6a30bf1
   "id": "33a21766",
=======
   "id": "e73532dd",
>>>>>>> documentation-devel
=======
   "id": "4f277d75",
>>>>>>> c74c98c2450c2a1ba922ed9442f136238d6bc88b
   "metadata": {},
   "outputs": [],
   "source": [
    "plotLocalResult(sfe_tissue, \"localmoran\", features = \"Myh2\", \n",
    "                colGeometryName = \"spotPoly\", attribute = \"-log10p_adj\", divergent = TRUE,\n",
    "                diverge_center = -log10(0.05), swap_rownames = \"symbol\",\n",
    "                image_id = \"lowres\", color = \"black\",\n",
    "                linewidth = 0.1)"
   ]
  },
  {
   "cell_type": "markdown",
<<<<<<< HEAD
<<<<<<< HEAD
<<<<<<< HEAD
   "id": "0c669189",
||||||| 6a30bf1
   "id": "7975f25a",
=======
   "id": "029763d0",
>>>>>>> documentation-devel
||||||| d28b18c
   "id": "029763d0",
=======
   "id": "95d5e6e8",
>>>>>>> documentation-devel
||||||| 6893f63
<<<<<<< HEAD
   "id": "0c669189",
||||||| 6a30bf1
   "id": "7975f25a",
=======
   "id": "029763d0",
>>>>>>> documentation-devel
=======
   "id": "f626d5dd",
>>>>>>> c74c98c2450c2a1ba922ed9442f136238d6bc88b
   "metadata": {
    "lines_to_next_cell": 0
   },
   "source": [
    "In this plot and all following plots of p-values, a divergent palette is used to show locations that are significant after adjusting for multiple testing and those that are not significant in different colors. The center of the divergent palette is p = 0.05, so the brown spots are significant while a dark blue means _really_ not significant.\n",
    "\n",
    "The \"pysal\" column displays the quadrants relative to the means in the Moran plot. The result is similar to that from k-means clustering shown above."
   ]
  },
  {
   "cell_type": "code",
   "execution_count": null,
<<<<<<< HEAD
<<<<<<< HEAD
<<<<<<< HEAD
   "id": "372be5c1",
||||||| 6a30bf1
   "id": "4b7346d6",
=======
   "id": "947b065e",
>>>>>>> documentation-devel
||||||| d28b18c
   "id": "947b065e",
=======
   "id": "f72b4985",
>>>>>>> documentation-devel
||||||| 6893f63
<<<<<<< HEAD
   "id": "372be5c1",
||||||| 6a30bf1
   "id": "4b7346d6",
=======
   "id": "947b065e",
>>>>>>> documentation-devel
=======
   "id": "69b098a6",
>>>>>>> c74c98c2450c2a1ba922ed9442f136238d6bc88b
   "metadata": {},
   "outputs": [],
   "source": [
    "plotLocalResult(sfe_tissue, \"localmoran\", features = \"Myh2\", \n",
    "                colGeometryName = \"spotPoly\", attribute = \"pysal\", \n",
    "                swap_rownames = \"symbol\", image_id = \"lowres\", color = \"black\",\n",
    "                linewidth = 0.1)"
   ]
  },
  {
   "cell_type": "markdown",
<<<<<<< HEAD
<<<<<<< HEAD
<<<<<<< HEAD
   "id": "1e1f9513",
||||||| 6a30bf1
   "id": "442f31b5",
=======
   "id": "3628bbf6",
>>>>>>> documentation-devel
||||||| d28b18c
   "id": "3628bbf6",
=======
   "id": "d196ea92",
>>>>>>> documentation-devel
||||||| 6893f63
<<<<<<< HEAD
   "id": "1e1f9513",
||||||| 6a30bf1
   "id": "442f31b5",
=======
   "id": "3628bbf6",
>>>>>>> documentation-devel
=======
   "id": "7dbd4aa3",
>>>>>>> c74c98c2450c2a1ba922ed9442f136238d6bc88b
   "metadata": {
    "lines_to_next_cell": 0
   },
   "source": [
    "## Getis-Ord Gi\\*\n",
    "Getis-Ord Gi\\* is used to find hotspots and coldspots of a feature in space. A hotspot is a cluster of high values in space, and a coldspot is a cluster of low values in space. Getis-Ord Gi\\* is essentially the z-score of the spatially lagged value of the feature at each location $i$ ($\\sum_j w_{ij} x_j$), where $w_{ij}$ is the spatial weight. In the [original publication for Getis-Ord Gi\\* from 1992](https://onlinelibrary.wiley.com/doi/10.1111/j.1538-4632.1992.tb00261.x) [@Getis1992-fr], the spatial weight is a distance-based binary weight indicating whether another location is within a certain distance from each location $i$. Getis-Ord Gi excludes the location $i$ itself in the computation of mean and variance of the lagged value, while Gi\\* includes the location $i$ itself. Usually Gi and Gi\\* yield similar results. The mean and variance used in the z-score differ in Gi and Gi\\* and is described in [this paper from 1995](https://onlinelibrary.wiley.com/doi/10.1111/j.1538-4632.1995.tb00912.x) [@Ord1995-we] and derived in [@Getis1992-fr].\n",
    "\n",
    "Binary weights are recommended for Getis-Ord Gi\\*."
   ]
  },
  {
   "cell_type": "code",
   "execution_count": null,
<<<<<<< HEAD
<<<<<<< HEAD
<<<<<<< HEAD
   "id": "cde8a401",
||||||| 6a30bf1
   "id": "8951886b",
=======
   "id": "b337caab",
>>>>>>> documentation-devel
||||||| d28b18c
   "id": "b337caab",
=======
   "id": "ca0a88be",
>>>>>>> documentation-devel
||||||| 6893f63
<<<<<<< HEAD
   "id": "cde8a401",
||||||| 6a30bf1
   "id": "8951886b",
=======
   "id": "b337caab",
>>>>>>> documentation-devel
=======
   "id": "43444106",
>>>>>>> c74c98c2450c2a1ba922ed9442f136238d6bc88b
   "metadata": {},
   "outputs": [],
   "source": [
    "colGraph(sfe_tissue, \"visium_B\") <- findVisiumGraph(sfe_tissue, style = \"B\")"
   ]
  },
  {
   "cell_type": "code",
   "execution_count": null,
<<<<<<< HEAD
<<<<<<< HEAD
<<<<<<< HEAD
   "id": "08ff7bfb",
||||||| 6a30bf1
   "id": "f1a1c65d",
=======
   "id": "8cfe0a7c",
>>>>>>> documentation-devel
||||||| d28b18c
   "id": "8cfe0a7c",
=======
   "id": "52ed0048",
>>>>>>> documentation-devel
||||||| 6893f63
<<<<<<< HEAD
   "id": "08ff7bfb",
||||||| 6a30bf1
   "id": "f1a1c65d",
=======
   "id": "8cfe0a7c",
>>>>>>> documentation-devel
=======
   "id": "9ebc062e",
>>>>>>> c74c98c2450c2a1ba922ed9442f136238d6bc88b
   "metadata": {},
   "outputs": [],
   "source": [
    "sfe_tissue <- runUnivariate(sfe_tissue, type = \"localG_perm\", features = \"Myh2\",\n",
    "                            colGraphName = \"visium_B\", include_self = TRUE,\n",
    "                            swap_rownames = \"symbol\")"
   ]
  },
  {
   "cell_type": "code",
   "execution_count": null,
<<<<<<< HEAD
<<<<<<< HEAD
<<<<<<< HEAD
   "id": "ab13b8d8",
||||||| 6a30bf1
   "id": "4bfe7c93",
=======
   "id": "f33b8fe0",
>>>>>>> documentation-devel
||||||| d28b18c
   "id": "f33b8fe0",
=======
   "id": "33a66100",
>>>>>>> documentation-devel
||||||| 6893f63
<<<<<<< HEAD
   "id": "ab13b8d8",
||||||| 6a30bf1
   "id": "4bfe7c93",
=======
   "id": "f33b8fe0",
>>>>>>> documentation-devel
=======
   "id": "ce782251",
>>>>>>> c74c98c2450c2a1ba922ed9442f136238d6bc88b
   "metadata": {},
   "outputs": [],
   "source": [
    "plotLocalResult(sfe_tissue, \"localG_perm\", features = \"Myh2\", \n",
    "                colGeometryName = \"spotPoly\", divergent = TRUE,\n",
    "                diverge_center = 0, image_id = \"lowres\", swap_rownames = \"symbol\", \n",
    "                color = \"black\", linewidth = 0.1)"
   ]
  },
  {
   "cell_type": "markdown",
<<<<<<< HEAD
<<<<<<< HEAD
<<<<<<< HEAD
   "id": "4edda291",
||||||| 6a30bf1
   "id": "09eaa4cd",
=======
   "id": "7016ebb1",
>>>>>>> documentation-devel
||||||| d28b18c
   "id": "7016ebb1",
=======
   "id": "39576e6c",
>>>>>>> documentation-devel
||||||| 6893f63
<<<<<<< HEAD
   "id": "4edda291",
||||||| 6a30bf1
   "id": "09eaa4cd",
=======
   "id": "7016ebb1",
>>>>>>> documentation-devel
=======
   "id": "4a0267e6",
>>>>>>> c74c98c2450c2a1ba922ed9442f136238d6bc88b
   "metadata": {},
   "source": [
    "High values of Gi\\* indicate hotspots, while low values of Gi\\* indicate coldspots."
   ]
  },
  {
   "cell_type": "code",
   "execution_count": null,
<<<<<<< HEAD
<<<<<<< HEAD
<<<<<<< HEAD
   "id": "4098f043",
||||||| 6a30bf1
   "id": "63f6e51c",
=======
   "id": "e7769e64",
>>>>>>> documentation-devel
||||||| d28b18c
   "id": "e7769e64",
=======
   "id": "3c7c9859",
>>>>>>> documentation-devel
||||||| 6893f63
<<<<<<< HEAD
   "id": "4098f043",
||||||| 6a30bf1
   "id": "63f6e51c",
=======
   "id": "e7769e64",
>>>>>>> documentation-devel
=======
   "id": "b4362215",
>>>>>>> c74c98c2450c2a1ba922ed9442f136238d6bc88b
   "metadata": {},
   "outputs": [],
   "source": [
    "localResultAttrs(sfe_tissue, \"localG_perm\", \"Myh2\", swap_rownames = \"symbol\")"
   ]
  },
  {
   "cell_type": "markdown",
<<<<<<< HEAD
<<<<<<< HEAD
<<<<<<< HEAD
   "id": "bb4d75d2",
||||||| 6a30bf1
   "id": "1862f918",
=======
   "id": "3cf90463",
>>>>>>> documentation-devel
||||||| d28b18c
   "id": "3cf90463",
=======
   "id": "c56e9d1c",
>>>>>>> documentation-devel
||||||| 6893f63
<<<<<<< HEAD
   "id": "bb4d75d2",
||||||| 6a30bf1
   "id": "1862f918",
=======
   "id": "3cf90463",
>>>>>>> documentation-devel
=======
   "id": "ca80fc4c",
>>>>>>> c74c98c2450c2a1ba922ed9442f136238d6bc88b
   "metadata": {
    "lines_to_next_cell": 0
   },
   "source": [
    "Plot the pseudo-p-values from the simulation"
   ]
  },
  {
   "cell_type": "code",
   "execution_count": null,
<<<<<<< HEAD
<<<<<<< HEAD
<<<<<<< HEAD
   "id": "b82632ae",
||||||| 6a30bf1
   "id": "1761bee7",
=======
   "id": "6284fa2a",
>>>>>>> documentation-devel
||||||| d28b18c
   "id": "6284fa2a",
=======
   "id": "f67f32a2",
>>>>>>> documentation-devel
||||||| 6893f63
<<<<<<< HEAD
   "id": "b82632ae",
||||||| 6a30bf1
   "id": "1761bee7",
=======
   "id": "6284fa2a",
>>>>>>> documentation-devel
=======
   "id": "e16ba9a1",
>>>>>>> c74c98c2450c2a1ba922ed9442f136238d6bc88b
   "metadata": {},
   "outputs": [],
   "source": [
    "plotLocalResult(sfe_tissue, \"localG_perm\", features = \"Myh2\", \n",
    "                attribute = \"-log10p_adj Sim\",\n",
    "                colGeometryName = \"spotPoly\", divergent = TRUE,\n",
    "                diverge_center = -log10(0.05), swap_rownames = \"symbol\",\n",
    "                image_id = \"lowres\")"
   ]
  },
  {
   "cell_type": "markdown",
<<<<<<< HEAD
<<<<<<< HEAD
<<<<<<< HEAD
   "id": "3681bb01",
||||||| 6a30bf1
   "id": "b19e2113",
=======
   "id": "b0cc0807",
>>>>>>> documentation-devel
||||||| d28b18c
   "id": "b0cc0807",
=======
   "id": "32531708",
>>>>>>> documentation-devel
||||||| 6893f63
<<<<<<< HEAD
   "id": "3681bb01",
||||||| 6a30bf1
   "id": "b19e2113",
=======
   "id": "b0cc0807",
>>>>>>> documentation-devel
=======
   "id": "82149a23",
>>>>>>> c74c98c2450c2a1ba922ed9442f136238d6bc88b
   "metadata": {
    "lines_to_next_cell": 0
   },
   "source": [
    "The hotspots are as expected. Here warm color indicates adjusted $p < 0.05$. \n",
    "\n",
    "Local results can also be computed for annotation geometries."
   ]
  },
  {
   "cell_type": "code",
   "execution_count": null,
<<<<<<< HEAD
<<<<<<< HEAD
<<<<<<< HEAD
   "id": "617ec47c",
||||||| 6a30bf1
   "id": "746d9631",
=======
   "id": "19701438",
>>>>>>> documentation-devel
||||||| d28b18c
   "id": "19701438",
=======
   "id": "62c2ed69",
>>>>>>> documentation-devel
||||||| 6893f63
<<<<<<< HEAD
   "id": "617ec47c",
||||||| 6a30bf1
   "id": "746d9631",
=======
   "id": "19701438",
>>>>>>> documentation-devel
=======
   "id": "dca67e16",
>>>>>>> c74c98c2450c2a1ba922ed9442f136238d6bc88b
   "metadata": {},
   "outputs": [],
   "source": [
    "annotGraph(sfe_tissue, \"myofiber_poly2nb_B\") <- \n",
    "  findSpatialNeighbors(sfe_tissue, type = \"myofiber_simplified\", MARGIN = 3,\n",
    "                       method = \"poly2nb\", zero.policy = TRUE, style = \"B\")"
   ]
  },
  {
   "cell_type": "code",
   "execution_count": null,
<<<<<<< HEAD
<<<<<<< HEAD
<<<<<<< HEAD
   "id": "36c6c1e0",
||||||| 6a30bf1
   "id": "ab9b5e99",
=======
   "id": "45587e3d",
>>>>>>> documentation-devel
||||||| d28b18c
   "id": "45587e3d",
=======
   "id": "bd1b9530",
>>>>>>> documentation-devel
||||||| 6893f63
<<<<<<< HEAD
   "id": "36c6c1e0",
||||||| 6a30bf1
   "id": "ab9b5e99",
=======
   "id": "45587e3d",
>>>>>>> documentation-devel
=======
   "id": "0cac6a2c",
>>>>>>> c74c98c2450c2a1ba922ed9442f136238d6bc88b
   "metadata": {},
   "outputs": [],
   "source": [
    "sfe_tissue <- annotGeometryUnivariate(sfe_tissue, \"localG_perm\", \"area\", \n",
    "                                      annotGeometryName = \"myofiber_simplified\",\n",
    "                                      annotGraphName = \"myofiber_poly2nb_B\",\n",
    "                                      include_self = TRUE, zero.policy = TRUE)"
   ]
  },
  {
   "cell_type": "code",
   "execution_count": null,
<<<<<<< HEAD
<<<<<<< HEAD
<<<<<<< HEAD
   "id": "4bd9a343",
||||||| 6a30bf1
   "id": "c88a16ad",
=======
   "id": "0a62972d",
>>>>>>> documentation-devel
||||||| d28b18c
   "id": "0a62972d",
=======
   "id": "26f77bb0",
>>>>>>> documentation-devel
||||||| 6893f63
<<<<<<< HEAD
   "id": "4bd9a343",
||||||| 6a30bf1
   "id": "c88a16ad",
=======
   "id": "0a62972d",
>>>>>>> documentation-devel
=======
   "id": "32bcc9e1",
>>>>>>> c74c98c2450c2a1ba922ed9442f136238d6bc88b
   "metadata": {},
   "outputs": [],
   "source": [
    "plotLocalResult(sfe_tissue, \"localG_perm\", \"area\", \n",
    "                annotGeometryName = \"myofiber_simplified\",\n",
    "                divergent = TRUE, diverge_center = 0)"
   ]
  },
  {
   "cell_type": "code",
   "execution_count": null,
<<<<<<< HEAD
<<<<<<< HEAD
<<<<<<< HEAD
   "id": "434828c6",
||||||| 6a30bf1
   "id": "db6d06a9",
=======
   "id": "970ac87b",
>>>>>>> documentation-devel
||||||| d28b18c
   "id": "970ac87b",
=======
   "id": "2e17277e",
>>>>>>> documentation-devel
||||||| 6893f63
<<<<<<< HEAD
   "id": "434828c6",
||||||| 6a30bf1
   "id": "db6d06a9",
=======
   "id": "970ac87b",
>>>>>>> documentation-devel
=======
   "id": "50001f08",
>>>>>>> c74c98c2450c2a1ba922ed9442f136238d6bc88b
   "metadata": {},
   "outputs": [],
   "source": [
    "plotLocalResult(sfe_tissue, \"localG_perm\", \"area\", \n",
    "                annotGeometryName = \"myofiber_simplified\",\n",
    "                attribute = \"-log10p_adj Sim\",\n",
    "                divergent = TRUE, diverge_center = -log10(0.05))"
   ]
  },
  {
   "cell_type": "markdown",
<<<<<<< HEAD
<<<<<<< HEAD
<<<<<<< HEAD
   "id": "a984988b",
||||||| 6a30bf1
   "id": "d8105aeb",
=======
   "id": "06873335",
>>>>>>> documentation-devel
||||||| d28b18c
   "id": "06873335",
=======
   "id": "152104de",
>>>>>>> documentation-devel
||||||| 6893f63
<<<<<<< HEAD
   "id": "a984988b",
||||||| 6a30bf1
   "id": "d8105aeb",
=======
   "id": "06873335",
>>>>>>> documentation-devel
=======
   "id": "e7e7a4ed",
>>>>>>> c74c98c2450c2a1ba922ed9442f136238d6bc88b
   "metadata": {
    "lines_to_next_cell": 0
   },
   "source": [
    "The hotspots and coldspots are as expected. Warm color indicates adjusted $p < 0.05$.\n",
    "\n",
    "## Local spatial heteroscedasticity (LOSH)\n",
    "LOSH [@Ord2012-qi] is defined as\n",
    "\n",
    "$$\n",
    "H_i = \\frac{\\sum_j w_{ij}\\left| e_j \\right|^a}{h_1\\sum_j w_{ij}}\n",
    "$$\n",
    "\n",
    "where$h_1 = \\sum_i \\left| e_i \\right|^a/n$, $e_j = x_j - \\bar{x}_j$, and\n",
    "\n",
    "$$\n",
    "\\bar{x}_j = \\frac{\\sum_j w_{jk}x_k}{\\sum_j w_{jk}}.\n",
    "$$\n",
    "\n",
    "By default, $a = 2$ so LOSH is like a local variance. See [@Ord2012-qi] for more details and interpretation. "
   ]
  },
  {
   "cell_type": "code",
   "execution_count": null,
<<<<<<< HEAD
<<<<<<< HEAD
<<<<<<< HEAD
   "id": "43a8a41a",
||||||| 6a30bf1
   "id": "e644684c",
=======
   "id": "21a2e6a3",
>>>>>>> documentation-devel
||||||| d28b18c
   "id": "21a2e6a3",
=======
   "id": "61aa6c80",
>>>>>>> documentation-devel
||||||| 6893f63
<<<<<<< HEAD
   "id": "43a8a41a",
||||||| 6a30bf1
   "id": "e644684c",
=======
   "id": "21a2e6a3",
>>>>>>> documentation-devel
=======
   "id": "bf6726e6",
>>>>>>> c74c98c2450c2a1ba922ed9442f136238d6bc88b
   "metadata": {},
   "outputs": [],
   "source": [
    "sfe_tissue <- runUnivariate(sfe_tissue, \"LOSH.cs\", \"Myh2\", \n",
    "                            colGraphName = \"visium\", swap_rownames = \"symbol\")"
   ]
  },
  {
   "cell_type": "code",
   "execution_count": null,
<<<<<<< HEAD
<<<<<<< HEAD
<<<<<<< HEAD
   "id": "a4781fd3",
||||||| 6a30bf1
   "id": "5d8c8be7",
=======
   "id": "45b2c7a4",
>>>>>>> documentation-devel
||||||| d28b18c
   "id": "45b2c7a4",
=======
   "id": "889230a6",
>>>>>>> documentation-devel
||||||| 6893f63
<<<<<<< HEAD
   "id": "a4781fd3",
||||||| 6a30bf1
   "id": "5d8c8be7",
=======
   "id": "45b2c7a4",
>>>>>>> documentation-devel
=======
   "id": "8d60b000",
>>>>>>> c74c98c2450c2a1ba922ed9442f136238d6bc88b
   "metadata": {},
   "outputs": [],
   "source": [
    "plotLocalResult(sfe_tissue, \"LOSH.cs\", features = \"Myh2\", \n",
    "                colGeometryName = \"spotPoly\", swap_rownames = \"symbol\",\n",
    "                image_id = \"lowres\")"
   ]
  },
  {
   "cell_type": "markdown",
<<<<<<< HEAD
<<<<<<< HEAD
<<<<<<< HEAD
   "id": "049d4854",
||||||| 6a30bf1
   "id": "e3713890",
=======
   "id": "92bc3262",
>>>>>>> documentation-devel
||||||| d28b18c
   "id": "92bc3262",
=======
   "id": "fcdb0238",
>>>>>>> documentation-devel
||||||| 6893f63
<<<<<<< HEAD
   "id": "049d4854",
||||||| 6a30bf1
   "id": "e3713890",
=======
   "id": "92bc3262",
>>>>>>> documentation-devel
=======
   "id": "a6dff8c3",
>>>>>>> c74c98c2450c2a1ba922ed9442f136238d6bc88b
   "metadata": {},
   "source": [
    "For this gene, it isn't clear whether LOSH relates to gene expression levels."
   ]
  },
  {
   "cell_type": "code",
   "execution_count": null,
<<<<<<< HEAD
<<<<<<< HEAD
<<<<<<< HEAD
   "id": "b922457a",
||||||| 6a30bf1
   "id": "9512b3f3",
=======
   "id": "e8cec80a",
>>>>>>> documentation-devel
||||||| d28b18c
   "id": "e8cec80a",
=======
   "id": "1da5921b",
>>>>>>> documentation-devel
||||||| 6893f63
<<<<<<< HEAD
   "id": "b922457a",
||||||| 6a30bf1
   "id": "9512b3f3",
=======
   "id": "e8cec80a",
>>>>>>> documentation-devel
=======
   "id": "b57f8358",
>>>>>>> c74c98c2450c2a1ba922ed9442f136238d6bc88b
   "metadata": {},
   "outputs": [],
   "source": [
    "localResultAttrs(sfe_tissue, \"LOSH.cs\", \"Myh2\", swap_rownames = \"symbol\")"
   ]
  },
  {
   "cell_type": "markdown",
<<<<<<< HEAD
<<<<<<< HEAD
<<<<<<< HEAD
   "id": "2e42dc9c",
||||||| 6a30bf1
   "id": "223f7d8e",
=======
   "id": "83b06b6c",
>>>>>>> documentation-devel
||||||| d28b18c
   "id": "83b06b6c",
=======
   "id": "b9427926",
>>>>>>> documentation-devel
||||||| 6893f63
<<<<<<< HEAD
   "id": "2e42dc9c",
||||||| 6a30bf1
   "id": "223f7d8e",
=======
   "id": "83b06b6c",
>>>>>>> documentation-devel
=======
   "id": "96cdca5d",
>>>>>>> c74c98c2450c2a1ba922ed9442f136238d6bc88b
   "metadata": {},
   "source": [
    "While `Voyager` does wrap `LOSH.mc()` to perform permutation testing of LOSH, this is very time consuming. A chi-squared approximation is described in the 2012 LOSH paper to account for non-normality of the data and to approximate the mean and variance of the permutation distributions, so p-values of LOSH can be more quickly computed, with `LOSH.cs()`."
   ]
  },
  {
   "cell_type": "code",
   "execution_count": null,
<<<<<<< HEAD
<<<<<<< HEAD
<<<<<<< HEAD
   "id": "3f4587fa",
||||||| 6a30bf1
   "id": "7704b81b",
=======
   "id": "791a024e",
>>>>>>> documentation-devel
||||||| d28b18c
   "id": "791a024e",
=======
   "id": "19527458",
>>>>>>> documentation-devel
||||||| 6893f63
<<<<<<< HEAD
   "id": "3f4587fa",
||||||| 6a30bf1
   "id": "7704b81b",
=======
   "id": "791a024e",
>>>>>>> documentation-devel
=======
   "id": "f339be8c",
>>>>>>> c74c98c2450c2a1ba922ed9442f136238d6bc88b
   "metadata": {},
   "outputs": [],
   "source": [
    "plotLocalResult(sfe_tissue, \"LOSH.cs\", features = \"Myh2\", \n",
    "                attribute = \"-log10p_adj\", colGeometryName = \"spotPoly\",\n",
    "                divergent = TRUE, diverge_center = -log10(0.05),\n",
    "                swap_rownames = \"symbol\", image_id = \"lowres\") +\n",
    "    theme_void()"
   ]
  },
  {
   "cell_type": "markdown",
<<<<<<< HEAD
<<<<<<< HEAD
<<<<<<< HEAD
   "id": "dbbcba61",
||||||| 6a30bf1
   "id": "e5e5dda1",
=======
   "id": "6d932305",
>>>>>>> documentation-devel
||||||| d28b18c
   "id": "6d932305",
=======
   "id": "c6c63715",
>>>>>>> documentation-devel
||||||| 6893f63
<<<<<<< HEAD
   "id": "dbbcba61",
||||||| 6a30bf1
   "id": "e5e5dda1",
=======
   "id": "6d932305",
>>>>>>> documentation-devel
=======
   "id": "4b0a142a",
>>>>>>> c74c98c2450c2a1ba922ed9442f136238d6bc88b
   "metadata": {
    "lines_to_next_cell": 0
   },
   "source": [
    "For this gene, the local conditions are mostly homogenous, except for a few spots most at the injury site. Warm color indicates adjusted $p < 0.05$.\n",
    "\n",
    "# Caveats\n",
    "1. In the current version of `Voyager`, only univariate spatial autocorrelation metrics are supported. Anisotropy, bivariate, and multivariate spatial analyses will be added in later versions.\n",
    "2. The H&E image can alter perception of the colors of the geometries.\n",
    "3. Only 2D data is supported at present, although in principle, `sf` and `GEOS` support 3D data.\n",
    "4. Spatial neighborhoods only make sense within the same tissue section. Then what to do with multiple tissue sections, from biological replica, and from different conditions? For the mouse brain, different biological replica can be registered to the Allen Common Coordinate Framework (CCF) to be spatially comparable. Indeed, it would be interesting to see the biological variability of healthy wild type gene expression at the same fine scaled region in the brain. However, there is no CCF for tissues without a stereotypical structure, such as adipose and skeletal muscle. We don't have a good solution to spatially compare different tissue sections yet. Perhaps global spatial statistics over the whole section or histological regions within the section can be compared. The problem remains to select the most informative metrics to compare. Perhaps a spatially-informed dimension reduction method, taking not only the gene count matrix, but also the adjacency matrices of the spatial neighborhood graphs (different sections will be different blocks in the matrix) projecting the cells or Visium spots from different sections into a shared low dimensional space can facilitate the comparison. Here batch effect must be corrected, and the dimension reduction should be interpretable, and scalable.\n",
    "\n",
    "# Session info"
   ]
  },
  {
   "cell_type": "code",
   "execution_count": null,
<<<<<<< HEAD
<<<<<<< HEAD
<<<<<<< HEAD
   "id": "c84dc1e5",
||||||| 6a30bf1
   "id": "88fa5f26",
=======
   "id": "bdc9de20",
>>>>>>> documentation-devel
||||||| d28b18c
   "id": "bdc9de20",
=======
   "id": "c22e1a11",
>>>>>>> documentation-devel
||||||| 6893f63
<<<<<<< HEAD
   "id": "c84dc1e5",
||||||| 6a30bf1
   "id": "88fa5f26",
=======
   "id": "bdc9de20",
>>>>>>> documentation-devel
=======
   "id": "68d93548",
>>>>>>> c74c98c2450c2a1ba922ed9442f136238d6bc88b
   "metadata": {},
   "outputs": [],
   "source": [
    "sessionInfo()"
   ]
  },
  {
   "cell_type": "markdown",
<<<<<<< HEAD
<<<<<<< HEAD
<<<<<<< HEAD
   "id": "b1dab5f4",
||||||| 6a30bf1
   "id": "1308c48c",
=======
   "id": "f4c2b0e1",
>>>>>>> documentation-devel
||||||| d28b18c
   "id": "f4c2b0e1",
=======
   "id": "822a450b",
>>>>>>> documentation-devel
||||||| 6893f63
<<<<<<< HEAD
   "id": "b1dab5f4",
||||||| 6a30bf1
   "id": "1308c48c",
=======
   "id": "f4c2b0e1",
>>>>>>> documentation-devel
=======
   "id": "8a7bedf1",
>>>>>>> c74c98c2450c2a1ba922ed9442f136238d6bc88b
   "metadata": {},
   "source": [
    "# References"
   ]
  }
 ],
 "metadata": {
  "kernelspec": {
   "display_name": "R",
   "language": "R",
   "name": "ir"
  }
 },
 "nbformat": 4,
 "nbformat_minor": 5
}
