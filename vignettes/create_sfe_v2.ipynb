{
 "cells": [
  {
   "cell_type": "raw",
<<<<<<< HEAD
<<<<<<< HEAD
   "id": "8bfefb38",
||||||| fa5abb84
   "id": "a7bf79b3",
=======
   "id": "eb144cf6",
>>>>>>> documentation-devel
||||||| 7e3277eb
   "id": "eb144cf6",
=======
   "id": "398e33c5",
>>>>>>> documentation-devel
   "metadata": {},
   "source": [
    "---\n",
    "title: \"How to create a SpatialFeatureExperiment object\"\n",
    "author: \"Kayla Jackson\"\n",
    "date: \"`r Sys.Date()`\"\n",
    "output: \n",
    "  html_document:\n",
    "  toc: true\n",
    "  toc_float:\n",
    "    collapsed: false\n",
    "  toc_depth: 3\n",
    "bibliography: ref.bib\n",
    "vignette: >\n",
    "  %\\VignetteIndexEntry{create_sfe_v2}\n",
    "  %\\VignetteEngine{knitr::rmarkdown}\n",
    "  %\\VignetteEncoding{UTF-8}\n",
    "---"
   ]
  },
  {
   "cell_type": "code",
   "execution_count": null,
<<<<<<< HEAD
<<<<<<< HEAD
   "id": "cf32d505",
||||||| fa5abb84
   "id": "79bff94d",
=======
   "id": "2aaa938d",
>>>>>>> documentation-devel
||||||| 7e3277eb
   "id": "2aaa938d",
=======
   "id": "fc5e44ab",
>>>>>>> documentation-devel
   "metadata": {
    "tags": [
     "remove_cell"
    ]
   },
   "outputs": [],
   "source": [
    "knitr::opts_chunk$set(\n",
    "  collapse = TRUE,\n",
    "  comment = \"#>\",\n",
    "  eval = FALSE\n",
    ")"
   ]
  },
  {
   "cell_type": "code",
   "execution_count": null,
<<<<<<< HEAD
<<<<<<< HEAD
   "id": "c7b02887",
||||||| fa5abb84
   "id": "0bcb235f",
=======
   "id": "dc3441c8",
>>>>>>> documentation-devel
||||||| 7e3277eb
   "id": "dc3441c8",
=======
   "id": "384728e9",
>>>>>>> documentation-devel
   "metadata": {
    "eval": false,
    "tags": [
     "remove_cell"
    ]
   },
   "outputs": [],
   "source": [
    "# Install Google Colab dependencies\n",
    "# Note: this can take 30+ minutes (many of the dependencies include C++ code, which needs to be compiled)\n",
    "\n",
    "# First install `sf`, `ragg` and `textshaping` and their system dependencies:\n",
    "system(\"apt-get -y update && apt-get install -y  libudunits2-dev libgdal-dev libgeos-dev libproj-dev libharfbuzz-dev libfribidi-dev\")\n",
    "install.packages(\"sf\")\n",
    "install.packages(\"textshaping\")\n",
    "install.packages(\"ragg\")\n",
    "\n",
    "# Install system dependencies of some other R packages that Voyager either imports or suggests:\n",
    "system(\"apt-get install -y libfribidi-dev libcairo2-dev libmagick++-dev\")\n",
    "\n",
    "# Install Voyager from Bioconductor:\n",
    "install.packages(\"BiocManager\")\n",
    "BiocManager::install(version = \"3.17\", ask = FALSE, update = FALSE, Ncpus = 2)\n",
    "BiocManager::install(\"scater\")\n",
    "system.time(\n",
    "  BiocManager::install(\"Voyager\", dependencies = TRUE, Ncpus = 2, update = FALSE)\n",
    ")\n",
    "\n",
    "# Install additional dependencies and download data for this vignette\n",
    "system(\"pip install ffq\")\n",
    "system(\"curl -O ftp://ftp.ncbi.nlm.nih.gov/geo/samples/GSM5713nnn/GSM5713341/suppl/GSM5713341_Puck_191112_04_MappedDGEForR.csv.gz\")\n",
    "system(\"curl -O ftp://ftp.ncbi.nlm.nih.gov/geo/samples/GSM5713nnn/GSM5713341/suppl/GSM5713341_Puck_191112_04_BeadLocationsForR.csv.gz\")\n",
    "list.files(pattern = \"*.gz\")\n",
    "\n",
    "packageVersion(\"Voyager\")"
   ]
  },
  {
   "cell_type": "code",
   "execution_count": null,
<<<<<<< HEAD
<<<<<<< HEAD
   "id": "9f817980",
||||||| fa5abb84
   "id": "db47c688",
=======
   "id": "6dd71025",
>>>>>>> documentation-devel
||||||| 7e3277eb
   "id": "6dd71025",
=======
   "id": "42b95605",
>>>>>>> documentation-devel
   "metadata": {
    "lines_to_next_cell": 0,
    "name": "setup"
   },
   "outputs": [],
   "source": [
    "library(Voyager)\n",
    "library(SpatialFeatureExperiment)\n",
    "library(rjson)\n",
    "library(Matrix)\n",
    "library(vroom)\n",
    "\n",
    "Sys.setenv(\"VROOM_CONNECTION_SIZE\" = 131072 * 3)"
   ]
  },
  {
   "cell_type": "markdown",
<<<<<<< HEAD
<<<<<<< HEAD
   "id": "76ff69f3",
||||||| fa5abb84
   "id": "62e9267c",
=======
   "id": "defbab5d",
>>>>>>> documentation-devel
||||||| 7e3277eb
   "id": "defbab5d",
=======
   "id": "bf675db9",
>>>>>>> documentation-devel
   "metadata": {},
   "source": [
    "## Downloading the data\n",
    "\n",
    "The data used are from a recent publication, [High Resolution Slide-seqV2 Spatial Transcriptomics Enables Discovery of Disease-Specific Cell Neighborhoods and Pathways](https://doi.org/10.1016/j.isci.2022.104097) and are available for download from GEO (Accession Number: [GSE190094](https://www.ncbi.nlm.nih.gov/geo/query/acc.cgi?acc=GSE190094). \n",
    "\n",
    "We will demonstrate use of [`ffq`](https://github.com/pachterlab/ffq) to access FTP links for downloading the relevant data. We will only download the data for a single WT sample. The commented line shows how to install `ffq` from the R terminal. "
   ]
  },
  {
   "cell_type": "code",
   "execution_count": null,
<<<<<<< HEAD
<<<<<<< HEAD
   "id": "0b5f9eac",
||||||| fa5abb84
   "id": "03dc2171",
=======
   "id": "26524086",
>>>>>>> documentation-devel
||||||| 7e3277eb
   "id": "26524086",
=======
   "id": "38131850",
>>>>>>> documentation-devel
   "metadata": {
    "lines_to_next_cell": 0
   },
   "outputs": [],
   "source": [
    "# system(\"pip install ffq\")\n",
    "system(\"ffq -l1 GSM5713341\")"
   ]
  },
  {
   "cell_type": "markdown",
<<<<<<< HEAD
<<<<<<< HEAD
   "id": "5704edfe",
||||||| fa5abb84
   "id": "f8d2b3c1",
=======
   "id": "83d31404",
>>>>>>> documentation-devel
||||||| 7e3277eb
   "id": "83d31404",
=======
   "id": "29ac6da9",
>>>>>>> documentation-devel
   "metadata": {
    "lines_to_next_cell": 0
   },
   "source": [
    "The output of the command is metadata for GSM5713341. We can use [`curl`](https://curl.se) or [`wget`](https://ena-docs.readthedocs.io/en/latest/retrieval/file-download.html#using-wget) to download files with FTP links one-by-one. \n",
    "\n",
    "Files beginning with `ftp://` can be read directly with the R package `vroom`. Files do not have be uncompressed before reading. These files will be automatically downloaded and uncompressed. We will use this method here, but the commented lines show how to download the files using `curl`. "
   ]
  },
  {
   "cell_type": "code",
   "execution_count": null,
<<<<<<< HEAD
<<<<<<< HEAD
   "id": "d696a49e",
||||||| fa5abb84
   "id": "74935b33",
=======
   "id": "f2e1dfe4",
>>>>>>> documentation-devel
||||||| 7e3277eb
   "id": "f2e1dfe4",
=======
   "id": "78442311",
>>>>>>> documentation-devel
   "metadata": {
    "lines_to_next_cell": 0
   },
   "outputs": [],
   "source": [
    "# system(\"curl -O ftp://ftp.ncbi.nlm.nih.gov/geo/samples/GSM5713nnn/GSM5713341/suppl/GSM5713341_Puck_191112_04_MappedDGEForR.csv.gz\")\n",
    "\n",
    "# system(\"curl -O ftp://ftp.ncbi.nlm.nih.gov/geo/samples/GSM5713nnn/GSM5713341/suppl/GSM5713341_Puck_191112_04_BeadLocationsForR.csv.gz\")\n",
    "\n",
    "# list.files(pattern = \"*.gz\")"
   ]
  },
  {
   "cell_type": "markdown",
<<<<<<< HEAD
<<<<<<< HEAD
   "id": "bd1c2a26",
||||||| fa5abb84
   "id": "96d499f6",
=======
   "id": "62c43b78",
>>>>>>> documentation-devel
||||||| 7e3277eb
   "id": "62c43b78",
=======
   "id": "4660e56d",
>>>>>>> documentation-devel
   "metadata": {
    "lines_to_next_cell": 0
   },
   "source": [
    "## Reading in the data"
   ]
  },
  {
   "cell_type": "code",
   "execution_count": null,
<<<<<<< HEAD
<<<<<<< HEAD
   "id": "47087495",
||||||| fa5abb84
   "id": "af198333",
=======
   "id": "350865ab",
>>>>>>> documentation-devel
||||||| 7e3277eb
   "id": "350865ab",
=======
   "id": "d0b16fbb",
>>>>>>> documentation-devel
   "metadata": {
    "lines_to_next_cell": 0
   },
   "outputs": [],
   "source": [
    "mtx <- vroom(\"ftp://ftp.ncbi.nlm.nih.gov/geo/samples/GSM5713nnn/GSM5713341/suppl/GSM5713341_Puck_191112_04_MappedDGEForR.csv.gz\")\n",
    "\n",
    "centroids <- vroom(\"ftp://ftp.ncbi.nlm.nih.gov/geo/samples/GSM5713nnn/GSM5713341/suppl/GSM5713341_Puck_191112_04_BeadLocationsForR.csv.gz\")"
   ]
  },
  {
   "cell_type": "markdown",
<<<<<<< HEAD
<<<<<<< HEAD
   "id": "d580ac5b",
||||||| fa5abb84
   "id": "1d431fd3",
=======
   "id": "6b6091dc",
>>>>>>> documentation-devel
||||||| 7e3277eb
   "id": "6b6091dc",
=======
   "id": "c04cc590",
>>>>>>> documentation-devel
   "metadata": {
    "lines_to_next_cell": 0
   },
   "source": [
    "## Construct a SFE object\n",
    "The count matrix and bead locations are provided by the authors. We will pass these to the constructor for the `SpatialFeatureExperiment` object. The files are read in as data frames. We will convert the gene count matrix to a matrix and then a sparse `dgCMatrix`."
   ]
  },
  {
   "cell_type": "code",
   "execution_count": null,
<<<<<<< HEAD
<<<<<<< HEAD
   "id": "205d3bc4",
||||||| fa5abb84
   "id": "dbd9d442",
=======
   "id": "3e76450b",
>>>>>>> documentation-devel
||||||| 7e3277eb
   "id": "3e76450b",
=======
   "id": "ea970e78",
>>>>>>> documentation-devel
   "metadata": {
    "lines_to_next_cell": 0
   },
   "outputs": [],
   "source": [
    "# Note: if using Google Colab, this step might run out of RAM\n",
    "# If this happens, please upgrade to Colab Pro\n",
    "\n",
    "rn <- mtx$Row\n",
    "mtx <- as.matrix(mtx[,-1])\n",
    "\n",
    "rownames(mtx) <- rn\n",
    "mtx <- as(mtx, \"dgCMatrix\")"
   ]
  },
  {
   "cell_type": "markdown",
<<<<<<< HEAD
<<<<<<< HEAD
   "id": "a0a16c15",
||||||| fa5abb84
   "id": "991e125e",
=======
   "id": "80968711",
>>>>>>> documentation-devel
||||||| 7e3277eb
   "id": "80968711",
=======
   "id": "e775d615",
>>>>>>> documentation-devel
   "metadata": {},
   "source": [
    "Here, spot locations are provided as a CSV file. There are two columns of particular interest, namely `xcoord` and `ycoord`. The barcode column corresponds to the barcodes in the count matrix. Before calling the `SpatialFeatureExperiment` constructor, the spatial coordinates must be converted to a `sf` data frame using `df2sf()`. The coordinates are centroid positions, so we will indicate that `geometryType=\"POINT\"`.  "
   ]
  },
  {
   "cell_type": "code",
   "execution_count": null,
<<<<<<< HEAD
<<<<<<< HEAD
   "id": "7b288e1d",
||||||| fa5abb84
   "id": "8b2b78de",
=======
   "id": "0b7d2a44",
>>>>>>> documentation-devel
||||||| 7e3277eb
   "id": "0b7d2a44",
=======
   "id": "91cc7c25",
>>>>>>> documentation-devel
   "metadata": {
    "lines_to_next_cell": 0
   },
   "outputs": [],
   "source": [
    "colnames(centroids)[1] <- \"ID\"\n",
    "\n",
    "centroids <- df2sf(\n",
    "  centroids, geometryType = \"POINT\",\n",
    "  spatialCoordsNames=c(\"xcoord\",\"ycoord\"))\n"
   ]
  },
  {
   "cell_type": "markdown",
<<<<<<< HEAD
<<<<<<< HEAD
   "id": "11794a7b",
||||||| fa5abb84
   "id": "0950b1b7",
=======
   "id": "708f7010",
>>>>>>> documentation-devel
||||||| 7e3277eb
   "id": "708f7010",
=======
   "id": "625d1cda",
>>>>>>> documentation-devel
   "metadata": {
    "lines_to_next_cell": 0
   },
   "source": [
    "Now we have the ingredients to create a SFE object. The values to the `assays` and `colGeometries` arguments must be passed as a list as shown below."
   ]
  },
  {
   "cell_type": "code",
   "execution_count": null,
<<<<<<< HEAD
<<<<<<< HEAD
   "id": "53ba4871",
||||||| fa5abb84
   "id": "3040a60e",
=======
   "id": "23164c72",
>>>>>>> documentation-devel
||||||| 7e3277eb
   "id": "23164c72",
=======
   "id": "c258fd7d",
>>>>>>> documentation-devel
   "metadata": {
    "lines_to_next_cell": 0
   },
   "outputs": [],
   "source": [
    "sfe <- SpatialFeatureExperiment(\n",
    "  assays = list(counts = mtx),\n",
    "  colGeometries = list(centroids = centroids)\n",
    ")\n",
    "\n",
    "sfe"
   ]
  },
  {
   "cell_type": "markdown",
<<<<<<< HEAD
<<<<<<< HEAD
   "id": "a159104e",
||||||| fa5abb84
   "id": "afda67c4",
=======
   "id": "488147dd",
>>>>>>> documentation-devel
||||||| 7e3277eb
   "id": "488147dd",
=======
   "id": "e281f11b",
>>>>>>> documentation-devel
   "metadata": {
    "lines_to_next_cell": 0
   },
   "source": [
    "# Session info"
   ]
  },
  {
   "cell_type": "code",
   "execution_count": null,
<<<<<<< HEAD
<<<<<<< HEAD
   "id": "054601f6",
||||||| fa5abb84
   "id": "902b9a55",
=======
   "id": "8d25f3e1",
>>>>>>> documentation-devel
||||||| 7e3277eb
   "id": "8d25f3e1",
=======
   "id": "d583c199",
>>>>>>> documentation-devel
   "metadata": {},
   "outputs": [],
   "source": [
    "sessionInfo()"
   ]
  }
 ],
 "metadata": {
  "kernelspec": {
   "display_name": "R",
   "language": "R",
   "name": "ir"
  }
 },
 "nbformat": 4,
 "nbformat_minor": 5
}
