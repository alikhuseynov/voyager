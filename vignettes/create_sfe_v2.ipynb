{
 "cells": [
  {
   "cell_type": "raw",
<<<<<<< HEAD
<<<<<<< HEAD
<<<<<<< HEAD
<<<<<<< HEAD
<<<<<<< HEAD
   "id": "46acdd3e",
||||||| 11b9cb7
   "id": "43c926a3",
=======
   "id": "5cf10592",
>>>>>>> documentation-devel
||||||| 614e9b1
   "id": "5cf10592",
=======
   "id": "b29a4cf2",
>>>>>>> documentation-devel
||||||| 856b4c0
<<<<<<< HEAD
   "id": "46acdd3e",
||||||| 11b9cb7
   "id": "43c926a3",
=======
   "id": "5cf10592",
>>>>>>> documentation-devel
=======
   "id": "155f7b52",
>>>>>>> 552590ea8fad969b67afdba27558a1e6cb21016e
||||||| 452c944
   "id": "b29a4cf2",
=======
   "id": "96f17c8a",
>>>>>>> documentation-devel
||||||| 4da3324
<<<<<<< HEAD
<<<<<<< HEAD
<<<<<<< HEAD
   "id": "46acdd3e",
||||||| 11b9cb7
   "id": "43c926a3",
=======
   "id": "5cf10592",
>>>>>>> documentation-devel
||||||| 614e9b1
   "id": "5cf10592",
=======
   "id": "b29a4cf2",
>>>>>>> documentation-devel
||||||| 856b4c0
<<<<<<< HEAD
   "id": "46acdd3e",
||||||| 11b9cb7
   "id": "43c926a3",
=======
   "id": "5cf10592",
>>>>>>> documentation-devel
=======
   "id": "155f7b52",
>>>>>>> 552590ea8fad969b67afdba27558a1e6cb21016e
=======
   "id": "8fb25a86",
>>>>>>> b6e07d13baac92b2c1c9b43f8e4113ffa87bf495
   "metadata": {},
   "source": [
    "---\n",
    "title: \"How to create a SpatialFeatureExperiment object\"\n",
    "author: \"Kayla Jackson\"\n",
    "date: \"`r Sys.Date()`\"\n",
    "output: \n",
    "  html_document:\n",
    "  toc: true\n",
    "  toc_float:\n",
    "    collapsed: false\n",
    "  toc_depth: 3\n",
    "bibliography: ref.bib\n",
    "vignette: >\n",
    "  %\\VignetteIndexEntry{create_sfe_v2}\n",
    "  %\\VignetteEngine{knitr::rmarkdown}\n",
    "  %\\VignetteEncoding{UTF-8}\n",
    "---"
   ]
  },
  {
   "cell_type": "code",
   "execution_count": null,
<<<<<<< HEAD
<<<<<<< HEAD
<<<<<<< HEAD
<<<<<<< HEAD
<<<<<<< HEAD
   "id": "fa3a598a",
||||||| 11b9cb7
   "id": "937fe38d",
=======
   "id": "ae0b6e6d",
>>>>>>> documentation-devel
||||||| 614e9b1
   "id": "ae0b6e6d",
=======
   "id": "ca13653e",
>>>>>>> documentation-devel
||||||| 856b4c0
<<<<<<< HEAD
   "id": "fa3a598a",
||||||| 11b9cb7
   "id": "937fe38d",
=======
   "id": "ae0b6e6d",
>>>>>>> documentation-devel
=======
   "id": "a2f49d4f",
>>>>>>> 552590ea8fad969b67afdba27558a1e6cb21016e
||||||| 452c944
   "id": "ca13653e",
=======
   "id": "07d211cc",
>>>>>>> documentation-devel
||||||| 4da3324
<<<<<<< HEAD
<<<<<<< HEAD
<<<<<<< HEAD
   "id": "fa3a598a",
||||||| 11b9cb7
   "id": "937fe38d",
=======
   "id": "ae0b6e6d",
>>>>>>> documentation-devel
||||||| 614e9b1
   "id": "ae0b6e6d",
=======
   "id": "ca13653e",
>>>>>>> documentation-devel
||||||| 856b4c0
<<<<<<< HEAD
   "id": "fa3a598a",
||||||| 11b9cb7
   "id": "937fe38d",
=======
   "id": "ae0b6e6d",
>>>>>>> documentation-devel
=======
   "id": "a2f49d4f",
>>>>>>> 552590ea8fad969b67afdba27558a1e6cb21016e
=======
   "id": "69b26f34",
>>>>>>> b6e07d13baac92b2c1c9b43f8e4113ffa87bf495
   "metadata": {
    "tags": [
     "remove_cell"
    ]
   },
   "outputs": [],
   "source": [
    "knitr::opts_chunk$set(\n",
    "  collapse = TRUE,\n",
    "  comment = \"#>\",\n",
    "  eval = FALSE\n",
    ")"
   ]
  },
  {
   "cell_type": "code",
   "execution_count": null,
<<<<<<< HEAD
<<<<<<< HEAD
<<<<<<< HEAD
<<<<<<< HEAD
<<<<<<< HEAD
   "id": "8d4f07d0",
||||||| 11b9cb7
   "id": "9b23f351",
=======
   "id": "297ae4ed",
>>>>>>> documentation-devel
||||||| 614e9b1
   "id": "297ae4ed",
=======
   "id": "e20e128f",
>>>>>>> documentation-devel
||||||| 856b4c0
<<<<<<< HEAD
   "id": "8d4f07d0",
||||||| 11b9cb7
   "id": "9b23f351",
=======
   "id": "297ae4ed",
>>>>>>> documentation-devel
=======
   "id": "5e597167",
>>>>>>> 552590ea8fad969b67afdba27558a1e6cb21016e
||||||| 452c944
   "id": "e20e128f",
=======
   "id": "277a46ff",
>>>>>>> documentation-devel
||||||| 4da3324
<<<<<<< HEAD
<<<<<<< HEAD
<<<<<<< HEAD
   "id": "8d4f07d0",
||||||| 11b9cb7
   "id": "9b23f351",
=======
   "id": "297ae4ed",
>>>>>>> documentation-devel
||||||| 614e9b1
   "id": "297ae4ed",
=======
   "id": "e20e128f",
>>>>>>> documentation-devel
||||||| 856b4c0
<<<<<<< HEAD
   "id": "8d4f07d0",
||||||| 11b9cb7
   "id": "9b23f351",
=======
   "id": "297ae4ed",
>>>>>>> documentation-devel
=======
   "id": "5e597167",
>>>>>>> 552590ea8fad969b67afdba27558a1e6cb21016e
=======
   "id": "f39c6847",
>>>>>>> b6e07d13baac92b2c1c9b43f8e4113ffa87bf495
   "metadata": {
    "eval": false,
    "tags": [
     "remove_cell"
    ]
   },
   "outputs": [],
   "source": [
    "# Install Google Colab dependencies\n",
    "# Note: this can take 30+ minutes (many of the dependencies include C++ code, which needs to be compiled)\n",
    "\n",
    "# First install `sf`, `ragg` and `textshaping` and their system dependencies:\n",
    "system(\"apt-get -y update && apt-get install -y  libudunits2-dev libgdal-dev libgeos-dev libproj-dev libharfbuzz-dev libfribidi-dev\")\n",
    "install.packages(\"sf\")\n",
    "install.packages(\"textshaping\")\n",
    "install.packages(\"ragg\")\n",
    "\n",
    "# Install system dependencies of some other R packages that Voyager either imports or suggests:\n",
    "system(\"apt-get install -y libfribidi-dev libcairo2-dev libmagick++-dev\")\n",
    "\n",
    "# Install Voyager from Bioconductor:\n",
    "install.packages(\"BiocManager\")\n",
    "BiocManager::install(version = \"3.17\", ask = FALSE, update = FALSE, Ncpus = 2)\n",
    "BiocManager::install(\"scater\")\n",
    "system.time(\n",
    "  BiocManager::install(\"Voyager\", dependencies = TRUE, Ncpus = 2, update = FALSE)\n",
    ")\n",
    "\n",
    "# Install additional dependencies and download data for this vignette\n",
    "system(\"pip install ffq\")\n",
    "system(\"curl -O ftp://ftp.ncbi.nlm.nih.gov/geo/samples/GSM5713nnn/GSM5713341/suppl/GSM5713341_Puck_191112_04_MappedDGEForR.csv.gz\")\n",
    "system(\"curl -O ftp://ftp.ncbi.nlm.nih.gov/geo/samples/GSM5713nnn/GSM5713341/suppl/GSM5713341_Puck_191112_04_BeadLocationsForR.csv.gz\")\n",
    "list.files(pattern = \"*.gz\")\n",
    "\n",
    "packageVersion(\"Voyager\")"
   ]
  },
  {
   "cell_type": "code",
   "execution_count": null,
<<<<<<< HEAD
<<<<<<< HEAD
<<<<<<< HEAD
<<<<<<< HEAD
<<<<<<< HEAD
   "id": "a9ba4104",
||||||| 11b9cb7
   "id": "1cef317c",
=======
   "id": "88fd17cc",
>>>>>>> documentation-devel
||||||| 614e9b1
   "id": "88fd17cc",
=======
   "id": "180c525e",
>>>>>>> documentation-devel
||||||| 856b4c0
<<<<<<< HEAD
   "id": "a9ba4104",
||||||| 11b9cb7
   "id": "1cef317c",
=======
   "id": "88fd17cc",
>>>>>>> documentation-devel
=======
   "id": "3140a480",
>>>>>>> 552590ea8fad969b67afdba27558a1e6cb21016e
||||||| 452c944
   "id": "180c525e",
=======
   "id": "7e9f3005",
>>>>>>> documentation-devel
||||||| 4da3324
<<<<<<< HEAD
<<<<<<< HEAD
<<<<<<< HEAD
   "id": "a9ba4104",
||||||| 11b9cb7
   "id": "1cef317c",
=======
   "id": "88fd17cc",
>>>>>>> documentation-devel
||||||| 614e9b1
   "id": "88fd17cc",
=======
   "id": "180c525e",
>>>>>>> documentation-devel
||||||| 856b4c0
<<<<<<< HEAD
   "id": "a9ba4104",
||||||| 11b9cb7
   "id": "1cef317c",
=======
   "id": "88fd17cc",
>>>>>>> documentation-devel
=======
   "id": "3140a480",
>>>>>>> 552590ea8fad969b67afdba27558a1e6cb21016e
=======
   "id": "d6681409",
>>>>>>> b6e07d13baac92b2c1c9b43f8e4113ffa87bf495
   "metadata": {
    "lines_to_next_cell": 0,
    "name": "setup"
   },
   "outputs": [],
   "source": [
    "library(Voyager)\n",
    "library(SpatialFeatureExperiment)\n",
    "library(rjson)\n",
    "library(Matrix)\n",
    "library(vroom)\n",
    "\n",
    "Sys.setenv(\"VROOM_CONNECTION_SIZE\" = 131072 * 3)"
   ]
  },
  {
   "cell_type": "markdown",
<<<<<<< HEAD
<<<<<<< HEAD
<<<<<<< HEAD
<<<<<<< HEAD
<<<<<<< HEAD
   "id": "1f2a074f",
||||||| 11b9cb7
   "id": "ef7a4348",
=======
   "id": "3edc1b77",
>>>>>>> documentation-devel
||||||| 614e9b1
   "id": "3edc1b77",
=======
   "id": "4854de70",
>>>>>>> documentation-devel
||||||| 856b4c0
<<<<<<< HEAD
   "id": "1f2a074f",
||||||| 11b9cb7
   "id": "ef7a4348",
=======
   "id": "3edc1b77",
>>>>>>> documentation-devel
=======
   "id": "a87748f6",
>>>>>>> 552590ea8fad969b67afdba27558a1e6cb21016e
||||||| 452c944
   "id": "4854de70",
=======
   "id": "9fceaf9f",
>>>>>>> documentation-devel
||||||| 4da3324
<<<<<<< HEAD
<<<<<<< HEAD
<<<<<<< HEAD
   "id": "1f2a074f",
||||||| 11b9cb7
   "id": "ef7a4348",
=======
   "id": "3edc1b77",
>>>>>>> documentation-devel
||||||| 614e9b1
   "id": "3edc1b77",
=======
   "id": "4854de70",
>>>>>>> documentation-devel
||||||| 856b4c0
<<<<<<< HEAD
   "id": "1f2a074f",
||||||| 11b9cb7
   "id": "ef7a4348",
=======
   "id": "3edc1b77",
>>>>>>> documentation-devel
=======
   "id": "a87748f6",
>>>>>>> 552590ea8fad969b67afdba27558a1e6cb21016e
=======
   "id": "1a5ee0fe",
>>>>>>> b6e07d13baac92b2c1c9b43f8e4113ffa87bf495
   "metadata": {},
   "source": [
    "## Downloading the data\n",
    "\n",
    "The data used are from a recent publication, [High Resolution Slide-seqV2 Spatial Transcriptomics Enables Discovery of Disease-Specific Cell Neighborhoods and Pathways](https://doi.org/10.1016/j.isci.2022.104097) and are available for download from GEO (Accession Number: [GSE190094](https://www.ncbi.nlm.nih.gov/geo/query/acc.cgi?acc=GSE190094). \n",
    "\n",
    "We will demonstrate use of [`ffq`](https://github.com/pachterlab/ffq) to access FTP links for downloading the relevant data. We will only download the data for a single WT sample. The commented line shows how to install `ffq` from the R terminal. "
   ]
  },
  {
   "cell_type": "code",
   "execution_count": null,
<<<<<<< HEAD
<<<<<<< HEAD
<<<<<<< HEAD
<<<<<<< HEAD
<<<<<<< HEAD
   "id": "0293b460",
||||||| 11b9cb7
   "id": "45726e1a",
=======
   "id": "9544578b",
>>>>>>> documentation-devel
||||||| 614e9b1
   "id": "9544578b",
=======
   "id": "549b3e1f",
>>>>>>> documentation-devel
||||||| 856b4c0
<<<<<<< HEAD
   "id": "0293b460",
||||||| 11b9cb7
   "id": "45726e1a",
=======
   "id": "9544578b",
>>>>>>> documentation-devel
=======
   "id": "59f5adb5",
>>>>>>> 552590ea8fad969b67afdba27558a1e6cb21016e
||||||| 452c944
   "id": "549b3e1f",
=======
   "id": "1e4422f1",
>>>>>>> documentation-devel
||||||| 4da3324
<<<<<<< HEAD
<<<<<<< HEAD
<<<<<<< HEAD
   "id": "0293b460",
||||||| 11b9cb7
   "id": "45726e1a",
=======
   "id": "9544578b",
>>>>>>> documentation-devel
||||||| 614e9b1
   "id": "9544578b",
=======
   "id": "549b3e1f",
>>>>>>> documentation-devel
||||||| 856b4c0
<<<<<<< HEAD
   "id": "0293b460",
||||||| 11b9cb7
   "id": "45726e1a",
=======
   "id": "9544578b",
>>>>>>> documentation-devel
=======
   "id": "59f5adb5",
>>>>>>> 552590ea8fad969b67afdba27558a1e6cb21016e
=======
   "id": "3734d144",
>>>>>>> b6e07d13baac92b2c1c9b43f8e4113ffa87bf495
   "metadata": {
    "lines_to_next_cell": 0
   },
   "outputs": [],
   "source": [
    "# system(\"pip install ffq\")\n",
    "system(\"ffq -l1 GSM5713341\")"
   ]
  },
  {
   "cell_type": "markdown",
<<<<<<< HEAD
<<<<<<< HEAD
<<<<<<< HEAD
<<<<<<< HEAD
<<<<<<< HEAD
   "id": "2841d940",
||||||| 11b9cb7
   "id": "352a413a",
=======
   "id": "e34175c3",
>>>>>>> documentation-devel
||||||| 614e9b1
   "id": "e34175c3",
=======
   "id": "4211820d",
>>>>>>> documentation-devel
||||||| 856b4c0
<<<<<<< HEAD
   "id": "2841d940",
||||||| 11b9cb7
   "id": "352a413a",
=======
   "id": "e34175c3",
>>>>>>> documentation-devel
=======
   "id": "7178e13a",
>>>>>>> 552590ea8fad969b67afdba27558a1e6cb21016e
||||||| 452c944
   "id": "4211820d",
=======
   "id": "148e4ffe",
>>>>>>> documentation-devel
||||||| 4da3324
<<<<<<< HEAD
<<<<<<< HEAD
<<<<<<< HEAD
   "id": "2841d940",
||||||| 11b9cb7
   "id": "352a413a",
=======
   "id": "e34175c3",
>>>>>>> documentation-devel
||||||| 614e9b1
   "id": "e34175c3",
=======
   "id": "4211820d",
>>>>>>> documentation-devel
||||||| 856b4c0
<<<<<<< HEAD
   "id": "2841d940",
||||||| 11b9cb7
   "id": "352a413a",
=======
   "id": "e34175c3",
>>>>>>> documentation-devel
=======
   "id": "7178e13a",
>>>>>>> 552590ea8fad969b67afdba27558a1e6cb21016e
=======
   "id": "6f48bfdd",
>>>>>>> b6e07d13baac92b2c1c9b43f8e4113ffa87bf495
   "metadata": {
    "lines_to_next_cell": 0
   },
   "source": [
    "The output of the command is metadata for GSM5713341. We can use [`curl`](https://curl.se) or [`wget`](https://ena-docs.readthedocs.io/en/latest/retrieval/file-download.html#using-wget) to download files with FTP links one-by-one. \n",
    "\n",
    "Files beginning with `ftp://` can be read directly with the R package `vroom`. Files do not have be uncompressed before reading. These files will be automatically downloaded and uncompressed. We will use this method here, but the commented lines show how to download the files using `curl`. "
   ]
  },
  {
   "cell_type": "code",
   "execution_count": null,
<<<<<<< HEAD
<<<<<<< HEAD
<<<<<<< HEAD
<<<<<<< HEAD
<<<<<<< HEAD
   "id": "47e90079",
||||||| 11b9cb7
   "id": "9a8a05eb",
=======
   "id": "99bbbdd1",
>>>>>>> documentation-devel
||||||| 614e9b1
   "id": "99bbbdd1",
=======
   "id": "e6d6325d",
>>>>>>> documentation-devel
||||||| 856b4c0
<<<<<<< HEAD
   "id": "47e90079",
||||||| 11b9cb7
   "id": "9a8a05eb",
=======
   "id": "99bbbdd1",
>>>>>>> documentation-devel
=======
   "id": "b02c5085",
>>>>>>> 552590ea8fad969b67afdba27558a1e6cb21016e
||||||| 452c944
   "id": "e6d6325d",
=======
   "id": "a892490d",
>>>>>>> documentation-devel
||||||| 4da3324
<<<<<<< HEAD
<<<<<<< HEAD
<<<<<<< HEAD
   "id": "47e90079",
||||||| 11b9cb7
   "id": "9a8a05eb",
=======
   "id": "99bbbdd1",
>>>>>>> documentation-devel
||||||| 614e9b1
   "id": "99bbbdd1",
=======
   "id": "e6d6325d",
>>>>>>> documentation-devel
||||||| 856b4c0
<<<<<<< HEAD
   "id": "47e90079",
||||||| 11b9cb7
   "id": "9a8a05eb",
=======
   "id": "99bbbdd1",
>>>>>>> documentation-devel
=======
   "id": "b02c5085",
>>>>>>> 552590ea8fad969b67afdba27558a1e6cb21016e
=======
   "id": "9e3ad384",
>>>>>>> b6e07d13baac92b2c1c9b43f8e4113ffa87bf495
   "metadata": {
    "lines_to_next_cell": 0
   },
   "outputs": [],
   "source": [
    "# system(\"curl -O ftp://ftp.ncbi.nlm.nih.gov/geo/samples/GSM5713nnn/GSM5713341/suppl/GSM5713341_Puck_191112_04_MappedDGEForR.csv.gz\")\n",
    "\n",
    "# system(\"curl -O ftp://ftp.ncbi.nlm.nih.gov/geo/samples/GSM5713nnn/GSM5713341/suppl/GSM5713341_Puck_191112_04_BeadLocationsForR.csv.gz\")\n",
    "\n",
    "# list.files(pattern = \"*.gz\")"
   ]
  },
  {
   "cell_type": "markdown",
<<<<<<< HEAD
<<<<<<< HEAD
<<<<<<< HEAD
<<<<<<< HEAD
<<<<<<< HEAD
   "id": "12c2a711",
||||||| 11b9cb7
   "id": "55017efa",
=======
   "id": "b11bfefb",
>>>>>>> documentation-devel
||||||| 614e9b1
   "id": "b11bfefb",
=======
   "id": "aef4b50c",
>>>>>>> documentation-devel
||||||| 856b4c0
<<<<<<< HEAD
   "id": "12c2a711",
||||||| 11b9cb7
   "id": "55017efa",
=======
   "id": "b11bfefb",
>>>>>>> documentation-devel
=======
   "id": "cb4bfd32",
>>>>>>> 552590ea8fad969b67afdba27558a1e6cb21016e
||||||| 452c944
   "id": "aef4b50c",
=======
   "id": "1b830fef",
>>>>>>> documentation-devel
||||||| 4da3324
<<<<<<< HEAD
<<<<<<< HEAD
<<<<<<< HEAD
   "id": "12c2a711",
||||||| 11b9cb7
   "id": "55017efa",
=======
   "id": "b11bfefb",
>>>>>>> documentation-devel
||||||| 614e9b1
   "id": "b11bfefb",
=======
   "id": "aef4b50c",
>>>>>>> documentation-devel
||||||| 856b4c0
<<<<<<< HEAD
   "id": "12c2a711",
||||||| 11b9cb7
   "id": "55017efa",
=======
   "id": "b11bfefb",
>>>>>>> documentation-devel
=======
   "id": "cb4bfd32",
>>>>>>> 552590ea8fad969b67afdba27558a1e6cb21016e
=======
   "id": "a5cc5617",
>>>>>>> b6e07d13baac92b2c1c9b43f8e4113ffa87bf495
   "metadata": {
    "lines_to_next_cell": 0
   },
   "source": [
    "## Reading in the data"
   ]
  },
  {
   "cell_type": "code",
   "execution_count": null,
<<<<<<< HEAD
<<<<<<< HEAD
<<<<<<< HEAD
<<<<<<< HEAD
<<<<<<< HEAD
   "id": "9159be3e",
||||||| 11b9cb7
   "id": "bc0f8c5c",
=======
   "id": "043f85e8",
>>>>>>> documentation-devel
||||||| 614e9b1
   "id": "043f85e8",
=======
   "id": "3ba10af9",
>>>>>>> documentation-devel
||||||| 856b4c0
<<<<<<< HEAD
   "id": "9159be3e",
||||||| 11b9cb7
   "id": "bc0f8c5c",
=======
   "id": "043f85e8",
>>>>>>> documentation-devel
=======
   "id": "7fd2bd89",
>>>>>>> 552590ea8fad969b67afdba27558a1e6cb21016e
||||||| 452c944
   "id": "3ba10af9",
=======
   "id": "10d3d33e",
>>>>>>> documentation-devel
||||||| 4da3324
<<<<<<< HEAD
<<<<<<< HEAD
<<<<<<< HEAD
   "id": "9159be3e",
||||||| 11b9cb7
   "id": "bc0f8c5c",
=======
   "id": "043f85e8",
>>>>>>> documentation-devel
||||||| 614e9b1
   "id": "043f85e8",
=======
   "id": "3ba10af9",
>>>>>>> documentation-devel
||||||| 856b4c0
<<<<<<< HEAD
   "id": "9159be3e",
||||||| 11b9cb7
   "id": "bc0f8c5c",
=======
   "id": "043f85e8",
>>>>>>> documentation-devel
=======
   "id": "7fd2bd89",
>>>>>>> 552590ea8fad969b67afdba27558a1e6cb21016e
=======
   "id": "d5789e7a",
>>>>>>> b6e07d13baac92b2c1c9b43f8e4113ffa87bf495
   "metadata": {
    "lines_to_next_cell": 0
   },
   "outputs": [],
   "source": [
    "mtx <- vroom(\"ftp://ftp.ncbi.nlm.nih.gov/geo/samples/GSM5713nnn/GSM5713341/suppl/GSM5713341_Puck_191112_04_MappedDGEForR.csv.gz\")\n",
    "\n",
    "centroids <- vroom(\"ftp://ftp.ncbi.nlm.nih.gov/geo/samples/GSM5713nnn/GSM5713341/suppl/GSM5713341_Puck_191112_04_BeadLocationsForR.csv.gz\")"
   ]
  },
  {
   "cell_type": "markdown",
<<<<<<< HEAD
<<<<<<< HEAD
<<<<<<< HEAD
<<<<<<< HEAD
<<<<<<< HEAD
   "id": "23e53d58",
||||||| 11b9cb7
   "id": "07ccbd70",
=======
   "id": "b32bdc56",
>>>>>>> documentation-devel
||||||| 614e9b1
   "id": "b32bdc56",
=======
   "id": "b32b621f",
>>>>>>> documentation-devel
||||||| 856b4c0
<<<<<<< HEAD
   "id": "23e53d58",
||||||| 11b9cb7
   "id": "07ccbd70",
=======
   "id": "b32bdc56",
>>>>>>> documentation-devel
=======
   "id": "d79c742f",
>>>>>>> 552590ea8fad969b67afdba27558a1e6cb21016e
||||||| 452c944
   "id": "b32b621f",
=======
   "id": "42ce961a",
>>>>>>> documentation-devel
||||||| 4da3324
<<<<<<< HEAD
<<<<<<< HEAD
<<<<<<< HEAD
   "id": "23e53d58",
||||||| 11b9cb7
   "id": "07ccbd70",
=======
   "id": "b32bdc56",
>>>>>>> documentation-devel
||||||| 614e9b1
   "id": "b32bdc56",
=======
   "id": "b32b621f",
>>>>>>> documentation-devel
||||||| 856b4c0
<<<<<<< HEAD
   "id": "23e53d58",
||||||| 11b9cb7
   "id": "07ccbd70",
=======
   "id": "b32bdc56",
>>>>>>> documentation-devel
=======
   "id": "d79c742f",
>>>>>>> 552590ea8fad969b67afdba27558a1e6cb21016e
=======
   "id": "76170ab0",
>>>>>>> b6e07d13baac92b2c1c9b43f8e4113ffa87bf495
   "metadata": {
    "lines_to_next_cell": 0
   },
   "source": [
    "## Construct a SFE object\n",
    "The count matrix and bead locations are provided by the authors. We will pass these to the constructor for the `SpatialFeatureExperiment` object. The files are read in as data frames. We will convert the gene count matrix to a matrix and then a sparse `dgCMatrix`."
   ]
  },
  {
   "cell_type": "code",
   "execution_count": null,
<<<<<<< HEAD
<<<<<<< HEAD
<<<<<<< HEAD
<<<<<<< HEAD
<<<<<<< HEAD
   "id": "a7532f13",
||||||| 11b9cb7
   "id": "195bfada",
=======
   "id": "e6f8232d",
>>>>>>> documentation-devel
||||||| 614e9b1
   "id": "e6f8232d",
=======
   "id": "39ea4c87",
>>>>>>> documentation-devel
||||||| 856b4c0
<<<<<<< HEAD
   "id": "a7532f13",
||||||| 11b9cb7
   "id": "195bfada",
=======
   "id": "e6f8232d",
>>>>>>> documentation-devel
=======
   "id": "640ed271",
>>>>>>> 552590ea8fad969b67afdba27558a1e6cb21016e
||||||| 452c944
   "id": "39ea4c87",
=======
   "id": "de39eb02",
>>>>>>> documentation-devel
||||||| 4da3324
<<<<<<< HEAD
<<<<<<< HEAD
<<<<<<< HEAD
   "id": "a7532f13",
||||||| 11b9cb7
   "id": "195bfada",
=======
   "id": "e6f8232d",
>>>>>>> documentation-devel
||||||| 614e9b1
   "id": "e6f8232d",
=======
   "id": "39ea4c87",
>>>>>>> documentation-devel
||||||| 856b4c0
<<<<<<< HEAD
   "id": "a7532f13",
||||||| 11b9cb7
   "id": "195bfada",
=======
   "id": "e6f8232d",
>>>>>>> documentation-devel
=======
   "id": "640ed271",
>>>>>>> 552590ea8fad969b67afdba27558a1e6cb21016e
=======
   "id": "e9d51675",
>>>>>>> b6e07d13baac92b2c1c9b43f8e4113ffa87bf495
   "metadata": {
    "lines_to_next_cell": 0
   },
   "outputs": [],
   "source": [
    "# Note: if using Google Colab, this step might run out of RAM\n",
    "# If this happens, please upgrade to Colab Pro\n",
    "\n",
    "rn <- mtx$Row\n",
    "mtx <- as.matrix(mtx[,-1])\n",
    "\n",
    "rownames(mtx) <- rn\n",
    "mtx <- as(mtx, \"dgCMatrix\")"
   ]
  },
  {
   "cell_type": "markdown",
<<<<<<< HEAD
<<<<<<< HEAD
<<<<<<< HEAD
<<<<<<< HEAD
<<<<<<< HEAD
   "id": "98072f56",
||||||| 11b9cb7
   "id": "c855364d",
=======
   "id": "578cfa73",
>>>>>>> documentation-devel
||||||| 614e9b1
   "id": "578cfa73",
=======
   "id": "13e86329",
>>>>>>> documentation-devel
||||||| 856b4c0
<<<<<<< HEAD
   "id": "98072f56",
||||||| 11b9cb7
   "id": "c855364d",
=======
   "id": "578cfa73",
>>>>>>> documentation-devel
=======
   "id": "877c86d6",
>>>>>>> 552590ea8fad969b67afdba27558a1e6cb21016e
||||||| 452c944
   "id": "13e86329",
=======
   "id": "19345ec9",
>>>>>>> documentation-devel
||||||| 4da3324
<<<<<<< HEAD
<<<<<<< HEAD
<<<<<<< HEAD
   "id": "98072f56",
||||||| 11b9cb7
   "id": "c855364d",
=======
   "id": "578cfa73",
>>>>>>> documentation-devel
||||||| 614e9b1
   "id": "578cfa73",
=======
   "id": "13e86329",
>>>>>>> documentation-devel
||||||| 856b4c0
<<<<<<< HEAD
   "id": "98072f56",
||||||| 11b9cb7
   "id": "c855364d",
=======
   "id": "578cfa73",
>>>>>>> documentation-devel
=======
   "id": "877c86d6",
>>>>>>> 552590ea8fad969b67afdba27558a1e6cb21016e
=======
   "id": "91b4d233",
>>>>>>> b6e07d13baac92b2c1c9b43f8e4113ffa87bf495
   "metadata": {},
   "source": [
    "Here, spot locations are provided as a CSV file. There are two columns of particular interest, namely `xcoord` and `ycoord`. The barcode column corresponds to the barcodes in the count matrix. Before calling the `SpatialFeatureExperiment` constructor, the spatial coordinates must be converted to a `sf` data frame using `df2sf()`. The coordinates are centroid positions, so we will indicate that `geometryType=\"POINT\"`.  "
   ]
  },
  {
   "cell_type": "code",
   "execution_count": null,
<<<<<<< HEAD
<<<<<<< HEAD
<<<<<<< HEAD
<<<<<<< HEAD
<<<<<<< HEAD
   "id": "42649b46",
||||||| 11b9cb7
   "id": "e90c41b8",
=======
   "id": "e6277146",
>>>>>>> documentation-devel
||||||| 614e9b1
   "id": "e6277146",
=======
   "id": "3f40bbbe",
>>>>>>> documentation-devel
||||||| 856b4c0
<<<<<<< HEAD
   "id": "42649b46",
||||||| 11b9cb7
   "id": "e90c41b8",
=======
   "id": "e6277146",
>>>>>>> documentation-devel
=======
   "id": "c987e35a",
>>>>>>> 552590ea8fad969b67afdba27558a1e6cb21016e
||||||| 452c944
   "id": "3f40bbbe",
=======
   "id": "c176cab0",
>>>>>>> documentation-devel
||||||| 4da3324
<<<<<<< HEAD
<<<<<<< HEAD
<<<<<<< HEAD
   "id": "42649b46",
||||||| 11b9cb7
   "id": "e90c41b8",
=======
   "id": "e6277146",
>>>>>>> documentation-devel
||||||| 614e9b1
   "id": "e6277146",
=======
   "id": "3f40bbbe",
>>>>>>> documentation-devel
||||||| 856b4c0
<<<<<<< HEAD
   "id": "42649b46",
||||||| 11b9cb7
   "id": "e90c41b8",
=======
   "id": "e6277146",
>>>>>>> documentation-devel
=======
   "id": "c987e35a",
>>>>>>> 552590ea8fad969b67afdba27558a1e6cb21016e
=======
   "id": "95039e52",
>>>>>>> b6e07d13baac92b2c1c9b43f8e4113ffa87bf495
   "metadata": {
    "lines_to_next_cell": 0
   },
   "outputs": [],
   "source": [
    "colnames(centroids)[1] <- \"ID\"\n",
    "\n",
    "centroids <- df2sf(\n",
    "  centroids, geometryType = \"POINT\",\n",
    "  spatialCoordsNames=c(\"xcoord\",\"ycoord\"))\n"
   ]
  },
  {
   "cell_type": "markdown",
<<<<<<< HEAD
<<<<<<< HEAD
<<<<<<< HEAD
<<<<<<< HEAD
<<<<<<< HEAD
   "id": "987f153a",
||||||| 11b9cb7
   "id": "2260bf68",
=======
   "id": "17cf814f",
>>>>>>> documentation-devel
||||||| 614e9b1
   "id": "17cf814f",
=======
   "id": "764c627b",
>>>>>>> documentation-devel
||||||| 856b4c0
<<<<<<< HEAD
   "id": "987f153a",
||||||| 11b9cb7
   "id": "2260bf68",
=======
   "id": "17cf814f",
>>>>>>> documentation-devel
=======
   "id": "e1bf001b",
>>>>>>> 552590ea8fad969b67afdba27558a1e6cb21016e
||||||| 452c944
   "id": "764c627b",
=======
   "id": "8d081ac0",
>>>>>>> documentation-devel
||||||| 4da3324
<<<<<<< HEAD
<<<<<<< HEAD
<<<<<<< HEAD
   "id": "987f153a",
||||||| 11b9cb7
   "id": "2260bf68",
=======
   "id": "17cf814f",
>>>>>>> documentation-devel
||||||| 614e9b1
   "id": "17cf814f",
=======
   "id": "764c627b",
>>>>>>> documentation-devel
||||||| 856b4c0
<<<<<<< HEAD
   "id": "987f153a",
||||||| 11b9cb7
   "id": "2260bf68",
=======
   "id": "17cf814f",
>>>>>>> documentation-devel
=======
   "id": "e1bf001b",
>>>>>>> 552590ea8fad969b67afdba27558a1e6cb21016e
=======
   "id": "912bc803",
>>>>>>> b6e07d13baac92b2c1c9b43f8e4113ffa87bf495
   "metadata": {
    "lines_to_next_cell": 0
   },
   "source": [
    "Now we have the ingredients to create a SFE object. The values to the `assays` and `colGeometries` arguments must be passed as a list as shown below."
   ]
  },
  {
   "cell_type": "code",
   "execution_count": null,
<<<<<<< HEAD
<<<<<<< HEAD
<<<<<<< HEAD
<<<<<<< HEAD
<<<<<<< HEAD
   "id": "12277b49",
||||||| 11b9cb7
   "id": "ac2872de",
=======
   "id": "2c8dc37f",
>>>>>>> documentation-devel
||||||| 614e9b1
   "id": "2c8dc37f",
=======
   "id": "bf801978",
>>>>>>> documentation-devel
||||||| 856b4c0
<<<<<<< HEAD
   "id": "12277b49",
||||||| 11b9cb7
   "id": "ac2872de",
=======
   "id": "2c8dc37f",
>>>>>>> documentation-devel
=======
   "id": "d36f7d9a",
>>>>>>> 552590ea8fad969b67afdba27558a1e6cb21016e
||||||| 452c944
   "id": "bf801978",
=======
   "id": "4e4a3004",
>>>>>>> documentation-devel
||||||| 4da3324
<<<<<<< HEAD
<<<<<<< HEAD
<<<<<<< HEAD
   "id": "12277b49",
||||||| 11b9cb7
   "id": "ac2872de",
=======
   "id": "2c8dc37f",
>>>>>>> documentation-devel
||||||| 614e9b1
   "id": "2c8dc37f",
=======
   "id": "bf801978",
>>>>>>> documentation-devel
||||||| 856b4c0
<<<<<<< HEAD
   "id": "12277b49",
||||||| 11b9cb7
   "id": "ac2872de",
=======
   "id": "2c8dc37f",
>>>>>>> documentation-devel
=======
   "id": "d36f7d9a",
>>>>>>> 552590ea8fad969b67afdba27558a1e6cb21016e
=======
   "id": "06169928",
>>>>>>> b6e07d13baac92b2c1c9b43f8e4113ffa87bf495
   "metadata": {
    "lines_to_next_cell": 0
   },
   "outputs": [],
   "source": [
    "sfe <- SpatialFeatureExperiment(\n",
    "  assays = list(counts = mtx),\n",
    "  colGeometries = list(centroids = centroids)\n",
    ")\n",
    "\n",
    "sfe"
   ]
  },
  {
   "cell_type": "markdown",
<<<<<<< HEAD
<<<<<<< HEAD
<<<<<<< HEAD
<<<<<<< HEAD
<<<<<<< HEAD
   "id": "3112126a",
||||||| 11b9cb7
   "id": "df9bbcb3",
=======
   "id": "6aeee251",
>>>>>>> documentation-devel
||||||| 614e9b1
   "id": "6aeee251",
=======
   "id": "b6dd8476",
>>>>>>> documentation-devel
||||||| 856b4c0
<<<<<<< HEAD
   "id": "3112126a",
||||||| 11b9cb7
   "id": "df9bbcb3",
=======
   "id": "6aeee251",
>>>>>>> documentation-devel
=======
   "id": "3efe1eef",
>>>>>>> 552590ea8fad969b67afdba27558a1e6cb21016e
||||||| 452c944
   "id": "b6dd8476",
=======
   "id": "7e6d8731",
>>>>>>> documentation-devel
||||||| 4da3324
<<<<<<< HEAD
<<<<<<< HEAD
<<<<<<< HEAD
   "id": "3112126a",
||||||| 11b9cb7
   "id": "df9bbcb3",
=======
   "id": "6aeee251",
>>>>>>> documentation-devel
||||||| 614e9b1
   "id": "6aeee251",
=======
   "id": "b6dd8476",
>>>>>>> documentation-devel
||||||| 856b4c0
<<<<<<< HEAD
   "id": "3112126a",
||||||| 11b9cb7
   "id": "df9bbcb3",
=======
   "id": "6aeee251",
>>>>>>> documentation-devel
=======
   "id": "3efe1eef",
>>>>>>> 552590ea8fad969b67afdba27558a1e6cb21016e
=======
   "id": "6361faa0",
>>>>>>> b6e07d13baac92b2c1c9b43f8e4113ffa87bf495
   "metadata": {
    "lines_to_next_cell": 0
   },
   "source": [
    "# Session info"
   ]
  },
  {
   "cell_type": "code",
   "execution_count": null,
<<<<<<< HEAD
<<<<<<< HEAD
<<<<<<< HEAD
<<<<<<< HEAD
<<<<<<< HEAD
   "id": "4e249135",
||||||| 11b9cb7
   "id": "16899429",
=======
   "id": "896a3dbf",
>>>>>>> documentation-devel
||||||| 614e9b1
   "id": "896a3dbf",
=======
   "id": "c7f5eb46",
>>>>>>> documentation-devel
||||||| 856b4c0
<<<<<<< HEAD
   "id": "4e249135",
||||||| 11b9cb7
   "id": "16899429",
=======
   "id": "896a3dbf",
>>>>>>> documentation-devel
=======
   "id": "f2358950",
>>>>>>> 552590ea8fad969b67afdba27558a1e6cb21016e
||||||| 452c944
   "id": "c7f5eb46",
=======
   "id": "b9dab3e7",
>>>>>>> documentation-devel
||||||| 4da3324
<<<<<<< HEAD
<<<<<<< HEAD
<<<<<<< HEAD
   "id": "4e249135",
||||||| 11b9cb7
   "id": "16899429",
=======
   "id": "896a3dbf",
>>>>>>> documentation-devel
||||||| 614e9b1
   "id": "896a3dbf",
=======
   "id": "c7f5eb46",
>>>>>>> documentation-devel
||||||| 856b4c0
<<<<<<< HEAD
   "id": "4e249135",
||||||| 11b9cb7
   "id": "16899429",
=======
   "id": "896a3dbf",
>>>>>>> documentation-devel
=======
   "id": "f2358950",
>>>>>>> 552590ea8fad969b67afdba27558a1e6cb21016e
=======
   "id": "e19e09ae",
>>>>>>> b6e07d13baac92b2c1c9b43f8e4113ffa87bf495
   "metadata": {},
   "outputs": [],
   "source": [
    "sessionInfo()"
   ]
  }
 ],
 "metadata": {
  "kernelspec": {
   "display_name": "R",
   "language": "R",
   "name": "ir"
  }
 },
 "nbformat": 4,
 "nbformat_minor": 5
}
