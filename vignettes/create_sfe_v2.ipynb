{
 "cells": [
  {
   "cell_type": "raw",
<<<<<<< HEAD
<<<<<<< HEAD
<<<<<<< HEAD
<<<<<<< HEAD
   "id": "0881aadd",
||||||| 6a30bf1
   "id": "1e8f5967",
=======
   "id": "e697d076",
>>>>>>> documentation-devel
||||||| d28b18c
   "id": "e697d076",
=======
   "id": "bacc314c",
>>>>>>> documentation-devel
||||||| 6893f63
<<<<<<< HEAD
   "id": "0881aadd",
||||||| 6a30bf1
   "id": "1e8f5967",
=======
   "id": "e697d076",
>>>>>>> documentation-devel
=======
   "id": "89346a0e",
>>>>>>> c74c98c2450c2a1ba922ed9442f136238d6bc88b
||||||| 6d93b645
   "id": "bacc314c",
=======
   "id": "471c9687",
>>>>>>> documentation-devel
   "metadata": {},
   "source": [
    "---\n",
    "title: \"How to create a SpatialFeatureExperiment object\"\n",
    "author: \"Kayla Jackson\"\n",
    "date: \"`r Sys.Date()`\"\n",
    "output: \n",
    "  html_document:\n",
    "  toc: true\n",
    "  toc_float:\n",
    "    collapsed: false\n",
    "  toc_depth: 3\n",
    "bibliography: ref.bib\n",
    "vignette: >\n",
    "  %\\VignetteIndexEntry{create_sfe_v2}\n",
    "  %\\VignetteEngine{knitr::rmarkdown}\n",
    "  %\\VignetteEncoding{UTF-8}\n",
    "---"
   ]
  },
  {
   "cell_type": "code",
   "execution_count": null,
<<<<<<< HEAD
<<<<<<< HEAD
<<<<<<< HEAD
<<<<<<< HEAD
   "id": "1a28ca56",
||||||| 6a30bf1
   "id": "7909cc66",
=======
   "id": "d141503e",
>>>>>>> documentation-devel
||||||| d28b18c
   "id": "d141503e",
=======
   "id": "dab551be",
>>>>>>> documentation-devel
||||||| 6893f63
<<<<<<< HEAD
   "id": "1a28ca56",
||||||| 6a30bf1
   "id": "7909cc66",
=======
   "id": "d141503e",
>>>>>>> documentation-devel
=======
   "id": "3942de61",
>>>>>>> c74c98c2450c2a1ba922ed9442f136238d6bc88b
||||||| 6d93b645
   "id": "dab551be",
=======
   "id": "8508e166",
>>>>>>> documentation-devel
   "metadata": {
    "tags": [
     "remove_cell"
    ]
   },
   "outputs": [],
   "source": [
    "knitr::opts_chunk$set(\n",
    "  collapse = TRUE,\n",
    "  comment = \"#>\",\n",
    "  eval = FALSE\n",
    ")"
   ]
  },
  {
   "cell_type": "code",
   "execution_count": null,
<<<<<<< HEAD
<<<<<<< HEAD
<<<<<<< HEAD
<<<<<<< HEAD
   "id": "51062c2c",
||||||| 6a30bf1
   "id": "23b3e883",
=======
   "id": "3690d32b",
>>>>>>> documentation-devel
||||||| d28b18c
   "id": "3690d32b",
=======
   "id": "d545b851",
>>>>>>> documentation-devel
||||||| 6893f63
<<<<<<< HEAD
   "id": "51062c2c",
||||||| 6a30bf1
   "id": "23b3e883",
=======
   "id": "3690d32b",
>>>>>>> documentation-devel
=======
   "id": "38eed92d",
>>>>>>> c74c98c2450c2a1ba922ed9442f136238d6bc88b
||||||| 6d93b645
   "id": "d545b851",
=======
   "id": "cb46a537",
>>>>>>> documentation-devel
   "metadata": {
    "eval": false,
    "tags": [
     "remove_cell"
    ]
   },
   "outputs": [],
   "source": [
    "# Install Google Colab dependencies\n",
    "# Note: this can take 30+ minutes (many of the dependencies include C++ code, which needs to be compiled)\n",
    "\n",
    "# First install `sf`, `ragg` and `textshaping` and their system dependencies:\n",
    "system(\"apt-get -y update && apt-get install -y  libudunits2-dev libgdal-dev libgeos-dev libproj-dev libharfbuzz-dev libfribidi-dev\")\n",
    "install.packages(\"sf\")\n",
    "install.packages(\"textshaping\")\n",
    "install.packages(\"ragg\")\n",
    "\n",
    "# Install system dependencies of some other R packages that Voyager either imports or suggests:\n",
    "system(\"apt-get install -y libfribidi-dev libcairo2-dev libmagick++-dev\")\n",
    "\n",
    "# Install Voyager from Bioconductor:\n",
    "install.packages(\"BiocManager\")\n",
    "BiocManager::install(version = \"3.17\", ask = FALSE, update = FALSE, Ncpus = 2)\n",
    "BiocManager::install(\"scater\")\n",
    "system.time(\n",
    "  BiocManager::install(\"Voyager\", dependencies = TRUE, Ncpus = 2, update = FALSE)\n",
    ")\n",
    "\n",
    "# Install additional dependencies and download data for this vignette\n",
    "system(\"pip install ffq\")\n",
    "system(\"curl -O ftp://ftp.ncbi.nlm.nih.gov/geo/samples/GSM5713nnn/GSM5713341/suppl/GSM5713341_Puck_191112_04_MappedDGEForR.csv.gz\")\n",
    "system(\"curl -O ftp://ftp.ncbi.nlm.nih.gov/geo/samples/GSM5713nnn/GSM5713341/suppl/GSM5713341_Puck_191112_04_BeadLocationsForR.csv.gz\")\n",
    "list.files(pattern = \"*.gz\")\n",
    "\n",
    "packageVersion(\"Voyager\")"
   ]
  },
  {
   "cell_type": "code",
   "execution_count": null,
<<<<<<< HEAD
<<<<<<< HEAD
<<<<<<< HEAD
<<<<<<< HEAD
   "id": "86d5f26d",
||||||| 6a30bf1
   "id": "0d82ac74",
=======
   "id": "f95aa4d3",
>>>>>>> documentation-devel
||||||| d28b18c
   "id": "f95aa4d3",
=======
   "id": "a23086be",
>>>>>>> documentation-devel
||||||| 6893f63
<<<<<<< HEAD
   "id": "86d5f26d",
||||||| 6a30bf1
   "id": "0d82ac74",
=======
   "id": "f95aa4d3",
>>>>>>> documentation-devel
=======
   "id": "abd373db",
>>>>>>> c74c98c2450c2a1ba922ed9442f136238d6bc88b
||||||| 6d93b645
   "id": "a23086be",
=======
   "id": "854e6fac",
>>>>>>> documentation-devel
   "metadata": {
    "lines_to_next_cell": 0,
    "name": "setup"
   },
   "outputs": [],
   "source": [
    "library(Voyager)\n",
    "library(SpatialFeatureExperiment)\n",
    "library(rjson)\n",
    "library(Matrix)\n",
    "library(vroom)\n",
    "\n",
    "Sys.setenv(\"VROOM_CONNECTION_SIZE\" = 131072 * 3)"
   ]
  },
  {
   "cell_type": "markdown",
<<<<<<< HEAD
<<<<<<< HEAD
<<<<<<< HEAD
<<<<<<< HEAD
   "id": "9a74a10f",
||||||| 6a30bf1
   "id": "d13f4eaa",
=======
   "id": "20b6e74f",
>>>>>>> documentation-devel
||||||| d28b18c
   "id": "20b6e74f",
=======
   "id": "9cbb4eed",
>>>>>>> documentation-devel
||||||| 6893f63
<<<<<<< HEAD
   "id": "9a74a10f",
||||||| 6a30bf1
   "id": "d13f4eaa",
=======
   "id": "20b6e74f",
>>>>>>> documentation-devel
=======
   "id": "26593c7d",
>>>>>>> c74c98c2450c2a1ba922ed9442f136238d6bc88b
||||||| 6d93b645
   "id": "9cbb4eed",
=======
   "id": "37130698",
>>>>>>> documentation-devel
   "metadata": {},
   "source": [
    "## Downloading the data\n",
    "\n",
    "The data used are from a recent publication, [High Resolution Slide-seqV2 Spatial Transcriptomics Enables Discovery of Disease-Specific Cell Neighborhoods and Pathways](https://doi.org/10.1016/j.isci.2022.104097) and are available for download from GEO (Accession Number: [GSE190094](https://www.ncbi.nlm.nih.gov/geo/query/acc.cgi?acc=GSE190094). \n",
    "\n",
    "We will demonstrate use of [`ffq`](https://github.com/pachterlab/ffq) to access FTP links for downloading the relevant data. We will only download the data for a single WT sample. The commented line shows how to install `ffq` from the R terminal. "
   ]
  },
  {
   "cell_type": "code",
   "execution_count": null,
<<<<<<< HEAD
<<<<<<< HEAD
<<<<<<< HEAD
<<<<<<< HEAD
   "id": "998b2aa1",
||||||| 6a30bf1
   "id": "a0f8c623",
=======
   "id": "d806bc63",
>>>>>>> documentation-devel
||||||| d28b18c
   "id": "d806bc63",
=======
   "id": "c279c37e",
>>>>>>> documentation-devel
||||||| 6893f63
<<<<<<< HEAD
   "id": "998b2aa1",
||||||| 6a30bf1
   "id": "a0f8c623",
=======
   "id": "d806bc63",
>>>>>>> documentation-devel
=======
   "id": "a749768f",
>>>>>>> c74c98c2450c2a1ba922ed9442f136238d6bc88b
||||||| 6d93b645
   "id": "c279c37e",
=======
   "id": "504893e2",
>>>>>>> documentation-devel
   "metadata": {
    "lines_to_next_cell": 0
   },
   "outputs": [],
   "source": [
    "# system(\"pip install ffq\")\n",
    "system(\"ffq -l1 GSM5713341\")"
   ]
  },
  {
   "cell_type": "markdown",
<<<<<<< HEAD
<<<<<<< HEAD
<<<<<<< HEAD
<<<<<<< HEAD
   "id": "7b985be3",
||||||| 6a30bf1
   "id": "0cf202f3",
=======
   "id": "6aadc59e",
>>>>>>> documentation-devel
||||||| d28b18c
   "id": "6aadc59e",
=======
   "id": "dc239c5c",
>>>>>>> documentation-devel
||||||| 6893f63
<<<<<<< HEAD
   "id": "7b985be3",
||||||| 6a30bf1
   "id": "0cf202f3",
=======
   "id": "6aadc59e",
>>>>>>> documentation-devel
=======
   "id": "695d775a",
>>>>>>> c74c98c2450c2a1ba922ed9442f136238d6bc88b
||||||| 6d93b645
   "id": "dc239c5c",
=======
   "id": "cdd0e942",
>>>>>>> documentation-devel
   "metadata": {
    "lines_to_next_cell": 0
   },
   "source": [
    "The output of the command is metadata for GSM5713341. We can use [`curl`](https://curl.se) or [`wget`](https://ena-docs.readthedocs.io/en/latest/retrieval/file-download.html#using-wget) to download files with FTP links one-by-one. \n",
    "\n",
    "Files beginning with `ftp://` can be read directly with the R package `vroom`. Files do not have be uncompressed before reading. These files will be automatically downloaded and uncompressed. We will use this method here, but the commented lines show how to download the files using `curl`. "
   ]
  },
  {
   "cell_type": "code",
   "execution_count": null,
<<<<<<< HEAD
<<<<<<< HEAD
<<<<<<< HEAD
<<<<<<< HEAD
   "id": "1a4a67ff",
||||||| 6a30bf1
   "id": "22975740",
=======
   "id": "53a80421",
>>>>>>> documentation-devel
||||||| d28b18c
   "id": "53a80421",
=======
   "id": "0d651ac0",
>>>>>>> documentation-devel
||||||| 6893f63
<<<<<<< HEAD
   "id": "1a4a67ff",
||||||| 6a30bf1
   "id": "22975740",
=======
   "id": "53a80421",
>>>>>>> documentation-devel
=======
   "id": "a31cafd6",
>>>>>>> c74c98c2450c2a1ba922ed9442f136238d6bc88b
||||||| 6d93b645
   "id": "0d651ac0",
=======
   "id": "1c0f2b09",
>>>>>>> documentation-devel
   "metadata": {
    "lines_to_next_cell": 0
   },
   "outputs": [],
   "source": [
    "# system(\"curl -O ftp://ftp.ncbi.nlm.nih.gov/geo/samples/GSM5713nnn/GSM5713341/suppl/GSM5713341_Puck_191112_04_MappedDGEForR.csv.gz\")\n",
    "\n",
    "# system(\"curl -O ftp://ftp.ncbi.nlm.nih.gov/geo/samples/GSM5713nnn/GSM5713341/suppl/GSM5713341_Puck_191112_04_BeadLocationsForR.csv.gz\")\n",
    "\n",
    "# list.files(pattern = \"*.gz\")"
   ]
  },
  {
   "cell_type": "markdown",
<<<<<<< HEAD
<<<<<<< HEAD
<<<<<<< HEAD
<<<<<<< HEAD
   "id": "acf932b7",
||||||| 6a30bf1
   "id": "94e4d451",
=======
   "id": "2f8ca16b",
>>>>>>> documentation-devel
||||||| d28b18c
   "id": "2f8ca16b",
=======
   "id": "8ab8289a",
>>>>>>> documentation-devel
||||||| 6893f63
<<<<<<< HEAD
   "id": "acf932b7",
||||||| 6a30bf1
   "id": "94e4d451",
=======
   "id": "2f8ca16b",
>>>>>>> documentation-devel
=======
   "id": "2f2df0fd",
>>>>>>> c74c98c2450c2a1ba922ed9442f136238d6bc88b
||||||| 6d93b645
   "id": "8ab8289a",
=======
   "id": "8afa6a80",
>>>>>>> documentation-devel
   "metadata": {
    "lines_to_next_cell": 0
   },
   "source": [
    "## Reading in the data"
   ]
  },
  {
   "cell_type": "code",
   "execution_count": null,
<<<<<<< HEAD
<<<<<<< HEAD
<<<<<<< HEAD
<<<<<<< HEAD
   "id": "d5e1019e",
||||||| 6a30bf1
   "id": "c4e9caf3",
=======
   "id": "2239fa44",
>>>>>>> documentation-devel
||||||| d28b18c
   "id": "2239fa44",
=======
   "id": "0aea8d34",
>>>>>>> documentation-devel
||||||| 6893f63
<<<<<<< HEAD
   "id": "d5e1019e",
||||||| 6a30bf1
   "id": "c4e9caf3",
=======
   "id": "2239fa44",
>>>>>>> documentation-devel
=======
   "id": "2ce13d89",
>>>>>>> c74c98c2450c2a1ba922ed9442f136238d6bc88b
||||||| 6d93b645
   "id": "0aea8d34",
=======
   "id": "4665ef84",
>>>>>>> documentation-devel
   "metadata": {
    "lines_to_next_cell": 0
   },
   "outputs": [],
   "source": [
    "mtx <- vroom(\"ftp://ftp.ncbi.nlm.nih.gov/geo/samples/GSM5713nnn/GSM5713341/suppl/GSM5713341_Puck_191112_04_MappedDGEForR.csv.gz\")\n",
    "\n",
    "centroids <- vroom(\"ftp://ftp.ncbi.nlm.nih.gov/geo/samples/GSM5713nnn/GSM5713341/suppl/GSM5713341_Puck_191112_04_BeadLocationsForR.csv.gz\")"
   ]
  },
  {
   "cell_type": "markdown",
<<<<<<< HEAD
<<<<<<< HEAD
<<<<<<< HEAD
<<<<<<< HEAD
   "id": "78831116",
||||||| 6a30bf1
   "id": "73f3adbb",
=======
   "id": "be6b9632",
>>>>>>> documentation-devel
||||||| d28b18c
   "id": "be6b9632",
=======
   "id": "d8c2a58d",
>>>>>>> documentation-devel
||||||| 6893f63
<<<<<<< HEAD
   "id": "78831116",
||||||| 6a30bf1
   "id": "73f3adbb",
=======
   "id": "be6b9632",
>>>>>>> documentation-devel
=======
   "id": "a3fe4825",
>>>>>>> c74c98c2450c2a1ba922ed9442f136238d6bc88b
||||||| 6d93b645
   "id": "d8c2a58d",
=======
   "id": "beb14cec",
>>>>>>> documentation-devel
   "metadata": {
    "lines_to_next_cell": 0
   },
   "source": [
    "## Construct a SFE object\n",
    "The count matrix and bead locations are provided by the authors. We will pass these to the constructor for the `SpatialFeatureExperiment` object. The files are read in as data frames. We will convert the gene count matrix to a matrix and then a sparse `dgCMatrix`."
   ]
  },
  {
   "cell_type": "code",
   "execution_count": null,
<<<<<<< HEAD
<<<<<<< HEAD
<<<<<<< HEAD
<<<<<<< HEAD
   "id": "3cc6f21f",
||||||| 6a30bf1
   "id": "647c3f8a",
=======
   "id": "fd6f90e9",
>>>>>>> documentation-devel
||||||| d28b18c
   "id": "fd6f90e9",
=======
   "id": "4a280cc5",
>>>>>>> documentation-devel
||||||| 6893f63
<<<<<<< HEAD
   "id": "3cc6f21f",
||||||| 6a30bf1
   "id": "647c3f8a",
=======
   "id": "fd6f90e9",
>>>>>>> documentation-devel
=======
   "id": "1d7df68e",
>>>>>>> c74c98c2450c2a1ba922ed9442f136238d6bc88b
||||||| 6d93b645
   "id": "4a280cc5",
=======
   "id": "151c3f4b",
>>>>>>> documentation-devel
   "metadata": {
    "lines_to_next_cell": 0
   },
   "outputs": [],
   "source": [
    "# Note: if using Google Colab, this step might run out of RAM\n",
    "# If this happens, please upgrade to Colab Pro\n",
    "\n",
    "rn <- mtx$Row\n",
    "mtx <- as.matrix(mtx[,-1])\n",
    "\n",
    "rownames(mtx) <- rn\n",
    "mtx <- as(mtx, \"dgCMatrix\")"
   ]
  },
  {
   "cell_type": "markdown",
<<<<<<< HEAD
<<<<<<< HEAD
<<<<<<< HEAD
<<<<<<< HEAD
   "id": "757a67a0",
||||||| 6a30bf1
   "id": "1c54e9fb",
=======
   "id": "57bcdf19",
>>>>>>> documentation-devel
||||||| d28b18c
   "id": "57bcdf19",
=======
   "id": "f91015a9",
>>>>>>> documentation-devel
||||||| 6893f63
<<<<<<< HEAD
   "id": "757a67a0",
||||||| 6a30bf1
   "id": "1c54e9fb",
=======
   "id": "57bcdf19",
>>>>>>> documentation-devel
=======
   "id": "a09314ae",
>>>>>>> c74c98c2450c2a1ba922ed9442f136238d6bc88b
||||||| 6d93b645
   "id": "f91015a9",
=======
   "id": "16b6b2ce",
>>>>>>> documentation-devel
   "metadata": {},
   "source": [
    "Here, spot locations are provided as a CSV file. There are two columns of particular interest, namely `xcoord` and `ycoord`. The barcode column corresponds to the barcodes in the count matrix. Before calling the `SpatialFeatureExperiment` constructor, the spatial coordinates must be converted to a `sf` data frame using `df2sf()`. The coordinates are centroid positions, so we will indicate that `geometryType=\"POINT\"`.  "
   ]
  },
  {
   "cell_type": "code",
   "execution_count": null,
<<<<<<< HEAD
<<<<<<< HEAD
<<<<<<< HEAD
<<<<<<< HEAD
   "id": "af82b26d",
||||||| 6a30bf1
   "id": "f0895502",
=======
   "id": "4f303ed3",
>>>>>>> documentation-devel
||||||| d28b18c
   "id": "4f303ed3",
=======
   "id": "538fef72",
>>>>>>> documentation-devel
||||||| 6893f63
<<<<<<< HEAD
   "id": "af82b26d",
||||||| 6a30bf1
   "id": "f0895502",
=======
   "id": "4f303ed3",
>>>>>>> documentation-devel
=======
   "id": "bacc8a67",
>>>>>>> c74c98c2450c2a1ba922ed9442f136238d6bc88b
||||||| 6d93b645
   "id": "538fef72",
=======
   "id": "061aff4b",
>>>>>>> documentation-devel
   "metadata": {
    "lines_to_next_cell": 0
   },
   "outputs": [],
   "source": [
    "colnames(centroids)[1] <- \"ID\"\n",
    "\n",
    "centroids <- df2sf(\n",
    "  centroids, geometryType = \"POINT\",\n",
    "  spatialCoordsNames=c(\"xcoord\",\"ycoord\"))\n"
   ]
  },
  {
   "cell_type": "markdown",
<<<<<<< HEAD
<<<<<<< HEAD
<<<<<<< HEAD
<<<<<<< HEAD
   "id": "c3ab8f56",
||||||| 6a30bf1
   "id": "be712933",
=======
   "id": "3a85bfd0",
>>>>>>> documentation-devel
||||||| d28b18c
   "id": "3a85bfd0",
=======
   "id": "d0a25e8b",
>>>>>>> documentation-devel
||||||| 6893f63
<<<<<<< HEAD
   "id": "c3ab8f56",
||||||| 6a30bf1
   "id": "be712933",
=======
   "id": "3a85bfd0",
>>>>>>> documentation-devel
=======
   "id": "1a06d3f7",
>>>>>>> c74c98c2450c2a1ba922ed9442f136238d6bc88b
||||||| 6d93b645
   "id": "d0a25e8b",
=======
   "id": "a81a78d7",
>>>>>>> documentation-devel
   "metadata": {
    "lines_to_next_cell": 0
   },
   "source": [
    "Now we have the ingredients to create a SFE object. The values to the `assays` and `colGeometries` arguments must be passed as a list as shown below."
   ]
  },
  {
   "cell_type": "code",
   "execution_count": null,
<<<<<<< HEAD
<<<<<<< HEAD
<<<<<<< HEAD
<<<<<<< HEAD
   "id": "18a5e310",
||||||| 6a30bf1
   "id": "1adc9b86",
=======
   "id": "d95a41dc",
>>>>>>> documentation-devel
||||||| d28b18c
   "id": "d95a41dc",
=======
   "id": "ef6d0308",
>>>>>>> documentation-devel
||||||| 6893f63
<<<<<<< HEAD
   "id": "18a5e310",
||||||| 6a30bf1
   "id": "1adc9b86",
=======
   "id": "d95a41dc",
>>>>>>> documentation-devel
=======
   "id": "823c61ce",
>>>>>>> c74c98c2450c2a1ba922ed9442f136238d6bc88b
||||||| 6d93b645
   "id": "ef6d0308",
=======
   "id": "fe1af139",
>>>>>>> documentation-devel
   "metadata": {
    "lines_to_next_cell": 0
   },
   "outputs": [],
   "source": [
    "sfe <- SpatialFeatureExperiment(\n",
    "  assays = list(counts = mtx),\n",
    "  colGeometries = list(centroids = centroids)\n",
    ")\n",
    "\n",
    "sfe"
   ]
  },
  {
   "cell_type": "markdown",
<<<<<<< HEAD
<<<<<<< HEAD
<<<<<<< HEAD
<<<<<<< HEAD
   "id": "258699aa",
||||||| 6a30bf1
   "id": "65ce152e",
=======
   "id": "4f7c476a",
>>>>>>> documentation-devel
||||||| d28b18c
   "id": "4f7c476a",
=======
   "id": "c5133528",
>>>>>>> documentation-devel
||||||| 6893f63
<<<<<<< HEAD
   "id": "258699aa",
||||||| 6a30bf1
   "id": "65ce152e",
=======
   "id": "4f7c476a",
>>>>>>> documentation-devel
=======
   "id": "8f273b46",
>>>>>>> c74c98c2450c2a1ba922ed9442f136238d6bc88b
||||||| 6d93b645
   "id": "c5133528",
=======
   "id": "572cc1f9",
>>>>>>> documentation-devel
   "metadata": {
    "lines_to_next_cell": 0
   },
   "source": [
    "# Session info"
   ]
  },
  {
   "cell_type": "code",
   "execution_count": null,
<<<<<<< HEAD
<<<<<<< HEAD
<<<<<<< HEAD
<<<<<<< HEAD
   "id": "e387ee58",
||||||| 6a30bf1
   "id": "9c5a4240",
=======
   "id": "e38db5c7",
>>>>>>> documentation-devel
||||||| d28b18c
   "id": "e38db5c7",
=======
   "id": "14e997c6",
>>>>>>> documentation-devel
||||||| 6893f63
<<<<<<< HEAD
   "id": "e387ee58",
||||||| 6a30bf1
   "id": "9c5a4240",
=======
   "id": "e38db5c7",
>>>>>>> documentation-devel
=======
   "id": "2046d55f",
>>>>>>> c74c98c2450c2a1ba922ed9442f136238d6bc88b
||||||| 6d93b645
   "id": "14e997c6",
=======
   "id": "02f745ec",
>>>>>>> documentation-devel
   "metadata": {},
   "outputs": [],
   "source": [
    "sessionInfo()"
   ]
  }
 ],
 "metadata": {
  "kernelspec": {
   "display_name": "R",
   "language": "R",
   "name": "ir"
  }
 },
 "nbformat": 4,
 "nbformat_minor": 5
}
