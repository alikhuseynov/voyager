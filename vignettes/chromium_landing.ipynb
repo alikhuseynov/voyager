{
 "cells": [
  {
   "cell_type": "raw",
   "id": "c87bb7f5",
   "metadata": {},
   "source": [
    "---\n",
    "title: \"10X Chromium Single Cell 3’ v3 Processing Workflows with Voyager\"\n",
    "output: html_document\n",
    "vignette: >\n",
    "  %\\VignetteIndexEntry{chromium_landing}\n",
    "  %\\VignetteEngine{knitr::rmarkdown}\n",
    "  %\\VignetteEncoding{UTF-8}\n",
    "---"
   ]
  },
  {
   "cell_type": "code",
   "execution_count": null,
   "id": "8273a93f",
   "metadata": {
    "tags": [
     "remove_cell"
    ]
   },
   "outputs": [],
   "source": [
    "knitr::opts_chunk$set(\n",
    "  collapse = TRUE,\n",
    "  comment = \"#>\",\n",
    "  eval = FALSE\n",
    ")"
   ]
  },
  {
   "cell_type": "markdown",
   "id": "61523a68",
   "metadata": {},
   "source": [
    "The 10X Genomics Chromium Single Cell 3' v3 solution is a droplet-based single cell sequencing technology that enables gene expression profiling in hundreds to tens of thousands of cells. In a typical protocol, cells are dissociated and captured in Gel Beads-in-emulsion (GEMs). All cDNA from a single cell share a cellular barcode. Additional 10X barcodes help associate individual reads from a cDNA library back to the originating GEMs. The gel beads in the v3 chemistry are also modified to enable feature barcoding, so that orthogonal molecules can be profiled alongside RNA. This, in addition to greater detection of RNA molecules, represents major advancements over the 10X Chromium v2 chemistry.\n",
    "\n",
    "## Analysis Workflows\n",
    "\n",
    "The analysis tasks include basic quality control, spatial exploratory data analysis, identification of spatially variable genes, and computation of global and local spatial statistics. Accompanying Colab notebooks are linked when available.\n",
    "\n",
    "| Vignette          |   Colab Notebook   | Description                   |\n",
    "  |-------------------|:------------------:|-------------------------------|\n",
    "  | [10X v3 Basic](https://pachterlab.github.io/voyager/articles/nonspatial.html) | | Standard analyses for non-spatial scRNA-seq data |\n",
    "  "
   ]
  }
 ],
 "metadata": {
  "jupytext": {
   "cell_metadata_filter": "tags,-all",
   "main_language": "R",
   "notebook_metadata_filter": "-all"
  }
 },
 "nbformat": 4,
 "nbformat_minor": 5
}
