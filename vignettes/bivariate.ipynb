{
 "cells": [
  {
   "cell_type": "raw",
<<<<<<< HEAD
<<<<<<< HEAD
   "id": "95f5ac77",
||||||| d29fab7
   "id": "e39d44af",
=======
   "id": "278f5694",
>>>>>>> documentation-devel
||||||| 565f7a7
   "id": "95f5ac77",
=======
   "id": "8ff04990",
>>>>>>> e08844e1a91b8e98d8bdd4d0244954bda0b7215b
   "metadata": {},
   "source": [
    "---\n",
    "title: \"Bivariate spatial statistics\"\n",
    "author: \"Lambda Moses\"\n",
    "date: \"`r Sys.Date()`\"\n",
    "output: \n",
    "  html_document:\n",
    "  toc: true\n",
    "  toc_float:\n",
    "    collapsed: false\n",
    "  toc_depth: 3\n",
    "bibliography: ref.bib\n",
    "vignette: >\n",
    "  %\\VignetteIndexEntry{bivariate}\n",
    "  %\\VignetteEngine{knitr::rmarkdown}\n",
    "  %\\VignetteEncoding{UTF-8}\n",
    "---"
   ]
  },
  {
   "cell_type": "code",
   "execution_count": null,
<<<<<<< HEAD
<<<<<<< HEAD
   "id": "16954d48",
||||||| d29fab7
   "id": "0d733365",
=======
   "id": "26dff4a1",
>>>>>>> documentation-devel
||||||| 565f7a7
   "id": "16954d48",
=======
   "id": "d9173859",
>>>>>>> e08844e1a91b8e98d8bdd4d0244954bda0b7215b
   "metadata": {
    "tags": [
     "remove_cell"
    ]
   },
   "outputs": [],
   "source": [
    "knitr::opts_chunk$set(\n",
    "  collapse = TRUE,\n",
    "  comment = \"#>\"\n",
    ")"
   ]
  },
  {
   "cell_type": "code",
   "execution_count": null,
<<<<<<< HEAD
<<<<<<< HEAD
   "id": "be8a5b02",
||||||| d29fab7
   "id": "a6659fff",
=======
   "id": "75e29f36",
>>>>>>> documentation-devel
||||||| 565f7a7
   "id": "be8a5b02",
=======
   "id": "62bfe3a0",
>>>>>>> e08844e1a91b8e98d8bdd4d0244954bda0b7215b
   "metadata": {
    "eval": false,
    "tags": [
     "remove_cell"
    ]
   },
   "outputs": [],
   "source": [
    "# Install Google Colab dependencies\n",
    "# Note: this can take 30+ minutes (many of the dependencies include C++ code, which needs to be compiled)\n",
    "\n",
    "# First install `sf`, `ragg` and `textshaping` and their system dependencies:\n",
    "system(\"apt-get -y update && apt-get install -y  libudunits2-dev libgdal-dev libgeos-dev libproj-dev libharfbuzz-dev libfribidi-dev\")\n",
    "install.packages(\"sf\")\n",
    "install.packages(\"textshaping\")\n",
    "install.packages(\"ragg\")\n",
    "\n",
    "# Install system dependencies of some other R packages that Voyager either imports or suggests:\n",
    "system(\"apt-get install -y libfribidi-dev libcairo2-dev libmagick++-dev\")\n",
    "\n",
    "# Install Voyager from Bioconductor:\n",
    "install.packages(\"BiocManager\")\n",
    "BiocManager::install(version = \"3.17\", ask = FALSE, update = FALSE, Ncpus = 2)\n",
    "BiocManager::install(\"scater\")\n",
    "system.time(\n",
    "  BiocManager::install(\"Voyager\", dependencies = TRUE, Ncpus = 2, update = FALSE)\n",
    ")\n",
    "\n",
    "# Other packages used in this vignette\n",
    "packageVersion(\"Voyager\")"
   ]
  },
  {
   "cell_type": "markdown",
<<<<<<< HEAD
<<<<<<< HEAD
   "id": "5e290c4b",
||||||| d29fab7
   "id": "b8e18d48",
=======
   "id": "61a93d44",
>>>>>>> documentation-devel
||||||| 565f7a7
   "id": "5e290c4b",
=======
   "id": "d85835d6",
>>>>>>> e08844e1a91b8e98d8bdd4d0244954bda0b7215b
   "metadata": {
    "lines_to_next_cell": 0
   },
   "source": [
    "# Introduction\n",
    "\n",
    "Consider two variables that are correlated, say with Pearson correlation of 0.8. The observations are spatially referenced. The locations of the observations can be permuted without affecting Pearson correlation. The purpose of bivariate spatial statistics is to indicate both correlation in value (as in Pearson correlation), and spatial autocorrelation and co-patterning. \n",
    "One of the bivariate methods implemented in `Voyager` is the cross variogram, which is shown in the [variogram vignette](https://pachterlab.github.io/voyager/articles/variogram.html). This vignette demonstrates other bivariate spatial statistics, which use a spatial neighborhood graph, on the mouse skeletal muscle Visium dataset.\n",
    "\n",
    "Here we load the packages used:"
   ]
  },
  {
   "cell_type": "code",
   "execution_count": null,
<<<<<<< HEAD
<<<<<<< HEAD
   "id": "035291f0",
||||||| d29fab7
   "id": "c99f01f0",
=======
   "id": "9bcd77cd",
>>>>>>> documentation-devel
||||||| 565f7a7
   "id": "035291f0",
=======
   "id": "908bd00d",
>>>>>>> e08844e1a91b8e98d8bdd4d0244954bda0b7215b
   "metadata": {
    "message": false
   },
   "outputs": [],
   "source": [
    "library(Voyager)\n",
    "library(SFEData)\n",
    "library(SpatialFeatureExperiment)\n",
    "library(scater)\n",
    "library(scran)\n",
    "library(ggplot2)\n",
    "library(pheatmap)\n",
    "library(scico)\n",
    "theme_set(theme_bw())"
   ]
  },
  {
   "cell_type": "markdown",
<<<<<<< HEAD
<<<<<<< HEAD
   "id": "68bc21ae",
||||||| d29fab7
   "id": "7a3d0494",
=======
   "id": "daacbafe",
>>>>>>> documentation-devel
||||||| 565f7a7
   "id": "68bc21ae",
=======
   "id": "2c2ae98c",
>>>>>>> e08844e1a91b8e98d8bdd4d0244954bda0b7215b
   "metadata": {
    "lines_to_next_cell": 0
   },
   "source": [
    "A list of all bivariate global methods can be seen here:"
   ]
  },
  {
   "cell_type": "code",
   "execution_count": null,
<<<<<<< HEAD
<<<<<<< HEAD
   "id": "2e5ccb18",
||||||| d29fab7
   "id": "04aa405d",
=======
   "id": "bc5927d4",
>>>>>>> documentation-devel
||||||| 565f7a7
   "id": "2e5ccb18",
=======
   "id": "d6f2a206",
>>>>>>> e08844e1a91b8e98d8bdd4d0244954bda0b7215b
   "metadata": {},
   "outputs": [],
   "source": [
    "listSFEMethods(variate = \"bi\", scope = \"global\")"
   ]
  },
  {
   "cell_type": "markdown",
<<<<<<< HEAD
<<<<<<< HEAD
   "id": "41331ab3",
||||||| d29fab7
   "id": "0cc9045e",
=======
   "id": "9b6dca8b",
>>>>>>> documentation-devel
||||||| 565f7a7
   "id": "41331ab3",
=======
   "id": "3cde482b",
>>>>>>> e08844e1a91b8e98d8bdd4d0244954bda0b7215b
   "metadata": {
    "lines_to_next_cell": 0
   },
   "source": [
    "When calling `calculate*variate()` or `run*variate()`, the `type` (2nd) argument takes either an `SFEMethod` object or a string that matches an entry in the `name` column in the data frame returned by `listSFEMethods()`.\n",
    "\n",
    "QC was performed in [another vignette](https://pachterlab.github.io/voyager/articles/vig1_visium_basic.html), so this vignette will not plot QC metrics."
   ]
  },
  {
   "cell_type": "code",
   "execution_count": null,
<<<<<<< HEAD
<<<<<<< HEAD
   "id": "15484a73",
||||||| d29fab7
   "id": "eee2e277",
=======
   "id": "7bf0781a",
>>>>>>> documentation-devel
||||||| 565f7a7
   "id": "15484a73",
=======
   "id": "e09200ea",
>>>>>>> e08844e1a91b8e98d8bdd4d0244954bda0b7215b
   "metadata": {},
   "outputs": [],
   "source": [
    "(sfe <- McKellarMuscleData(\"full\"))"
   ]
  },
  {
   "cell_type": "markdown",
<<<<<<< HEAD
<<<<<<< HEAD
   "id": "ccf71843",
||||||| d29fab7
   "id": "c9ab8fa4",
=======
   "id": "4d369e76",
>>>>>>> documentation-devel
||||||| 565f7a7
   "id": "ccf71843",
=======
   "id": "ba2b4a01",
>>>>>>> e08844e1a91b8e98d8bdd4d0244954bda0b7215b
   "metadata": {
    "lines_to_next_cell": 0
   },
   "source": [
    "The image can be added to the SFE object and plotted behind the geometries, and needs to be flipped to align to the spots because the origin is at the top left for the image but bottom left for geometries."
   ]
  },
  {
   "cell_type": "code",
   "execution_count": null,
<<<<<<< HEAD
<<<<<<< HEAD
   "id": "e59b842b",
||||||| d29fab7
   "id": "365f653b",
=======
   "id": "7c4598e5",
   "metadata": {},
   "outputs": [],
   "source": [
    "if (!file.exists(\"tissue_lowres_5a.jpeg\")) {\n",
    "    download.file(\"https://raw.githubusercontent.com/pachterlab/voyager/main/vignettes/tissue_lowres_5a.jpeg\",\n",
    "                  destfile = \"tissue_lowres_5a.jpeg\")\n",
    "}"
   ]
  },
  {
   "cell_type": "code",
   "execution_count": null,
   "id": "cdbcd8d7",
>>>>>>> documentation-devel
||||||| 565f7a7
   "id": "e59b842b",
=======
   "id": "d05b4765",
   "metadata": {},
   "outputs": [],
   "source": [
    "if (!file.exists(\"tissue_lowres_5a.jpeg\")) {\n",
    "    download.file(\"https://raw.githubusercontent.com/pachterlab/voyager/main/vignettes/tissue_lowres_5a.jpeg\",\n",
    "                  destfile = \"tissue_lowres_5a.jpeg\")\n",
    "}"
   ]
  },
  {
   "cell_type": "code",
   "execution_count": null,
   "id": "0f45890e",
>>>>>>> e08844e1a91b8e98d8bdd4d0244954bda0b7215b
   "metadata": {},
   "outputs": [],
   "source": [
    "sfe <- addImg(sfe, file = \"tissue_lowres_5a.jpeg\", sample_id = \"Vis5A\", \n",
    "              image_id = \"lowres\", \n",
    "              scale_fct = 1024/22208)\n",
    "sfe <- mirrorImg(sfe, sample_id = \"Vis5A\", image_id = \"lowres\")"
   ]
  },
  {
   "cell_type": "code",
   "execution_count": null,
<<<<<<< HEAD
<<<<<<< HEAD
   "id": "5a622a3e",
||||||| d29fab7
   "id": "2c473cf6",
=======
   "id": "e01255ab",
>>>>>>> documentation-devel
||||||| 565f7a7
   "id": "5a622a3e",
=======
   "id": "c5fb09f9",
>>>>>>> e08844e1a91b8e98d8bdd4d0244954bda0b7215b
   "metadata": {},
   "outputs": [],
   "source": [
    "sfe_tissue <- sfe[,colData(sfe)$in_tissue]\n",
    "sfe_tissue <- sfe_tissue[rowSums(counts(sfe_tissue)) > 0,]"
   ]
  },
  {
   "cell_type": "code",
   "execution_count": null,
<<<<<<< HEAD
<<<<<<< HEAD
   "id": "b94961fe",
||||||| d29fab7
   "id": "f59c689c",
=======
   "id": "2bf5a5c9",
>>>>>>> documentation-devel
||||||| 565f7a7
   "id": "b94961fe",
=======
   "id": "953eeead",
>>>>>>> e08844e1a91b8e98d8bdd4d0244954bda0b7215b
   "metadata": {},
   "outputs": [],
   "source": [
    "sfe_tissue <- logNormCounts(sfe_tissue)"
   ]
  },
  {
   "cell_type": "code",
   "execution_count": null,
<<<<<<< HEAD
<<<<<<< HEAD
   "id": "02780b65",
||||||| d29fab7
   "id": "2a91bf16",
=======
   "id": "5610a23c",
>>>>>>> documentation-devel
||||||| 565f7a7
   "id": "02780b65",
=======
   "id": "32e2ef59",
>>>>>>> e08844e1a91b8e98d8bdd4d0244954bda0b7215b
   "metadata": {},
   "outputs": [],
   "source": [
    "colGraph(sfe_tissue, \"visium\") <- findVisiumGraph(sfe_tissue)"
   ]
  },
  {
   "cell_type": "markdown",
<<<<<<< HEAD
<<<<<<< HEAD
   "id": "3cf0dbbf",
||||||| d29fab7
   "id": "066ae455",
=======
   "id": "f276d85a",
>>>>>>> documentation-devel
||||||| 565f7a7
   "id": "3cf0dbbf",
=======
   "id": "efe33951",
>>>>>>> e08844e1a91b8e98d8bdd4d0244954bda0b7215b
   "metadata": {
    "lines_to_next_cell": 0
   },
   "source": [
    "# Lee's L\n",
    "\n",
    "Lee's L [@Lee2001-tm] was developed from relating Moran's I to Pearson correlation, and is defined as\n",
    "\n",
    "$$\n",
    "L_{X,Y} = \\frac{n}{\\sum_{i=1}^n \\sum_{j=1}^n w_{ij}} \\frac{\\sum_{i=1}^n \\left[ \\sum_{j=1}^n w_{ij}  (x_j - \\bar{x}) \\right] \\left[ \\sum_{j=1}^n w_{ij} (y_j - \\bar{y}) \\right]}{\\sqrt{\\sum_{i=1}^n (x_i - \\bar{x})^2}\\sqrt{\\sum_{i=1}^n (y_i - \\bar{y})^2} },\n",
    "$$\n",
    "\n",
    "where $n$ is the number of spots or locations, $i$ and $j$ are different locations, or spots in the Visium context, $x$ and $y$ are variables with values at each location, and $w_{ij}$ is a spatial weight, which can be inversely proportional to distance between spots or an indicator of whether two spots are neighbors, subject to various definitions of neighborhood. \n",
    "\n",
    "Here we compute Lee's L for top highly variagle genes (HVGs) in this dataset:"
   ]
  },
  {
   "cell_type": "code",
   "execution_count": null,
<<<<<<< HEAD
<<<<<<< HEAD
   "id": "7b16ca83",
||||||| d29fab7
   "id": "8895da1e",
=======
   "id": "0d3ec82d",
>>>>>>> documentation-devel
||||||| 565f7a7
   "id": "7b16ca83",
=======
   "id": "d58ecaa8",
>>>>>>> e08844e1a91b8e98d8bdd4d0244954bda0b7215b
   "metadata": {},
   "outputs": [],
   "source": [
    "hvgs <- getTopHVGs(sfe_tissue, fdr.threshold = 0.01)"
   ]
  },
  {
   "cell_type": "markdown",
<<<<<<< HEAD
<<<<<<< HEAD
   "id": "a69477b5",
||||||| d29fab7
   "id": "cc689d04",
=======
   "id": "047b5a72",
>>>>>>> documentation-devel
||||||| 565f7a7
   "id": "a69477b5",
=======
   "id": "ad9d8a4e",
>>>>>>> e08844e1a91b8e98d8bdd4d0244954bda0b7215b
   "metadata": {},
   "source": [
    "Because bivariate global results can have very different formats (matrix for Lee's L and lists for many other methods), the results are not stored in the SFE object."
   ]
  },
  {
   "cell_type": "code",
   "execution_count": null,
<<<<<<< HEAD
<<<<<<< HEAD
   "id": "672ab405",
||||||| d29fab7
   "id": "616e81de",
=======
   "id": "b5ba3366",
>>>>>>> documentation-devel
||||||| 565f7a7
   "id": "672ab405",
=======
   "id": "082c9907",
>>>>>>> e08844e1a91b8e98d8bdd4d0244954bda0b7215b
   "metadata": {},
   "outputs": [],
   "source": [
    "res <- calculateBivariate(sfe_tissue, type = \"lee\", feature1 = hvgs)"
   ]
  },
  {
   "cell_type": "markdown",
<<<<<<< HEAD
<<<<<<< HEAD
   "id": "39f6de63",
||||||| d29fab7
   "id": "b9d7aacc",
=======
   "id": "f69763a0",
>>>>>>> documentation-devel
||||||| 565f7a7
   "id": "39f6de63",
=======
   "id": "6c8b2067",
>>>>>>> e08844e1a91b8e98d8bdd4d0244954bda0b7215b
   "metadata": {
    "lines_to_next_cell": 0
   },
   "source": [
    "This gives a spatially informed correlation matrix among the genes, which can be plotted as a heatmap:"
   ]
  },
  {
   "cell_type": "code",
   "execution_count": null,
<<<<<<< HEAD
<<<<<<< HEAD
   "id": "fb7a4bc4",
||||||| d29fab7
   "id": "9b0ee0b5",
=======
   "id": "270b97b7",
>>>>>>> documentation-devel
||||||| 565f7a7
   "id": "fb7a4bc4",
=======
   "id": "c0c12ae1",
>>>>>>> e08844e1a91b8e98d8bdd4d0244954bda0b7215b
   "metadata": {},
   "outputs": [],
   "source": [
    "pal_rng <- getDivergeRange(res)\n",
    "pal <- scico(256, begin = pal_rng[1], end = pal_rng[2], palette = \"vik\")"
   ]
  },
  {
   "cell_type": "code",
   "execution_count": null,
<<<<<<< HEAD
<<<<<<< HEAD
   "id": "74a4f1a2",
||||||| d29fab7
   "id": "5d18f7dc",
=======
   "id": "e4795bd5",
>>>>>>> documentation-devel
||||||| 565f7a7
   "id": "74a4f1a2",
=======
   "id": "6e94dc14",
>>>>>>> e08844e1a91b8e98d8bdd4d0244954bda0b7215b
   "metadata": {
    "fig.height": 6,
    "fig.width": 6
   },
   "outputs": [],
   "source": [
    "pheatmap(res, color = pal, show_rownames = FALSE, \n",
    "         show_colnames = FALSE, cellwidth = 1, cellheight = 1)"
   ]
  },
  {
   "cell_type": "markdown",
<<<<<<< HEAD
<<<<<<< HEAD
   "id": "fa29cf0b",
||||||| d29fab7
   "id": "146fee37",
=======
   "id": "15b16068",
>>>>>>> documentation-devel
||||||| 565f7a7
   "id": "fa29cf0b",
=======
   "id": "4413fa1a",
>>>>>>> e08844e1a91b8e98d8bdd4d0244954bda0b7215b
   "metadata": {
    "lines_to_next_cell": 0
   },
   "source": [
    "Some coexpression blocks can be seen. Note that unlike in Pearson correlation, the diagonal is not 1, because\n",
    "\n",
    "$$\n",
    "L_{X,X} = \\frac{\\sum_i (\\tilde x_i - \\bar x)^2}{\\sum_i (x_i - \\bar x)^2} = \\mathrm{SSS}_X,\n",
    "$$\n",
    "\n",
    "which is approximated the ratio between the variance of spatially lagged $x$ and variance of $x$. Because the spatial lag introduces smoothing, the spatial lag reduced variance, making the diagonal less than 1. This is the spatial smoothing scalar (SSS), and Moran's I is approximately Pearson correlation between $X$ and spatially lagged $X$ ($\\tilde X$) multiplied by SSS:\n",
    "\n",
    "$$\n",
    "I = \\mathrm{SSS}_X \\cdot \\rho_{X, \\tilde X}\n",
    "$$\n",
    "\n",
    "Similarly for Lee's L, as shown in [@Lee2001-tm],\n",
    "\n",
    "$$\n",
    "L_{X, Y} = \\sqrt{\\mathrm{SSS}_X}\\sqrt{\\mathrm{SSS}_Y} \\cdot \\rho_{\\tilde X, \\tilde Y}\n",
    "$$\n",
    "\n",
    "With more spatial clustering, the variance is less reduced by the spatial lag, leading to a larger SSS.\n",
    "\n",
    "Weighted correlation network analysis (WGCNA) [@Langfelder2008-fs] is a time honored method to find gene co-expression modules, and it can take any correlation matrix. Then it would be interesting to apply WGCNA to the Lee's L matrix to identify spatially informed gene co-expression modules.\n",
    "\n",
    "# Local Lee\n",
    "\n",
    "Local Lee's L is defined as\n",
    "\n",
    "$$\n",
    "L_i = \\frac{n\\left[ \\sum_{j=1}^n w_{ij}  (x_j - \\bar{x}) \\right] \\left[ \\sum_{j=1}^n w_{ij} (y_j - \\bar{y}) \\right]}{\\sqrt{\\sum_{i=1}^n (x_i - \\bar{x})^2}\\sqrt{\\sum_{i=1}^n (y_i - \\bar{y})^2} }\n",
    "$$\n",
    "\n",
    "Compare this to the global L in the previous section. Local L does not sum over the locations $i$. This is the contribution of each location to global L and can show spatial heterogeneity in the relationship between two variables. \n",
    "\n",
    "All bivariate local methods in `Voyager` is listed here:"
   ]
  },
  {
   "cell_type": "code",
   "execution_count": null,
<<<<<<< HEAD
<<<<<<< HEAD
   "id": "0af5349d",
||||||| d29fab7
   "id": "03012ee2",
=======
   "id": "28cbc073",
>>>>>>> documentation-devel
||||||| 565f7a7
   "id": "0af5349d",
=======
   "id": "0099ab30",
>>>>>>> e08844e1a91b8e98d8bdd4d0244954bda0b7215b
   "metadata": {},
   "outputs": [],
   "source": [
    "listSFEMethods(\"bi\", \"local\")"
   ]
  },
  {
   "cell_type": "markdown",
<<<<<<< HEAD
<<<<<<< HEAD
   "id": "a7cf65f4",
||||||| d29fab7
   "id": "ade127bf",
=======
   "id": "3747e2c7",
>>>>>>> documentation-devel
||||||| 565f7a7
   "id": "a7cf65f4",
=======
   "id": "872c772f",
>>>>>>> e08844e1a91b8e98d8bdd4d0244954bda0b7215b
   "metadata": {},
   "source": [
    "Here we compute local L for two myofiber marker genes and one gene highly expressed in the injury site:"
   ]
  },
  {
   "cell_type": "code",
   "execution_count": null,
<<<<<<< HEAD
<<<<<<< HEAD
   "id": "d0ae0b10",
||||||| d29fab7
   "id": "92a0a42e",
=======
   "id": "e4a5925d",
>>>>>>> documentation-devel
||||||| 565f7a7
   "id": "d0ae0b10",
=======
   "id": "557a1b6a",
>>>>>>> e08844e1a91b8e98d8bdd4d0244954bda0b7215b
   "metadata": {},
   "outputs": [],
   "source": [
    "sfe_tissue <- runBivariate(sfe_tissue, \"locallee\", swap_rownames = \"symbol\",\n",
    "                           feature1 = c(\"Myh2\", \"Myh1\", \"Ftl1\"))"
   ]
  },
  {
   "cell_type": "markdown",
<<<<<<< HEAD
<<<<<<< HEAD
   "id": "6b4859f0",
||||||| d29fab7
   "id": "0a537bb5",
=======
   "id": "a105d7aa",
>>>>>>> documentation-devel
||||||| 565f7a7
   "id": "6b4859f0",
=======
   "id": "50bc5658",
>>>>>>> e08844e1a91b8e98d8bdd4d0244954bda0b7215b
   "metadata": {},
   "source": [
    "Bivariate local results are stored in the `localResults` field and the feature names are the pairwise combinations of features supplied. When only `feature1` is specified, then the bivariate method is applied to all pairwise combinations of `feature1`. "
   ]
  },
  {
   "cell_type": "code",
   "execution_count": null,
<<<<<<< HEAD
<<<<<<< HEAD
   "id": "b340dffd",
||||||| d29fab7
   "id": "7c8ae03a",
=======
   "id": "d75c9f9f",
>>>>>>> documentation-devel
||||||| 565f7a7
   "id": "b340dffd",
=======
   "id": "62f870fa",
>>>>>>> e08844e1a91b8e98d8bdd4d0244954bda0b7215b
   "metadata": {},
   "outputs": [],
   "source": [
    "localResultFeatures(sfe_tissue, \"locallee\")"
   ]
  },
  {
   "cell_type": "markdown",
<<<<<<< HEAD
<<<<<<< HEAD
   "id": "f1e62eb4",
||||||| d29fab7
   "id": "17c805b4",
=======
   "id": "bd7a2989",
>>>>>>> documentation-devel
||||||| 565f7a7
   "id": "f1e62eb4",
=======
   "id": "8d87c0fa",
>>>>>>> e08844e1a91b8e98d8bdd4d0244954bda0b7215b
   "metadata": {
    "lines_to_next_cell": 0
   },
   "source": [
    "For Lee's L, both $L_{X,Y}$ and $L_{Y,X}$ are computed although they are the same. However, not all bivariate methods are symmetric (see next section). In the next release (Bioconductor 3.18), we may introduce another argument to indicate whether the method is symmetric and if so only compute $L_{X,Y}$ and not $L_{Y,X}$.\n",
    "\n",
    "First plot the three genes individually:"
   ]
  },
  {
   "cell_type": "code",
   "execution_count": null,
<<<<<<< HEAD
<<<<<<< HEAD
   "id": "0b902cea",
||||||| d29fab7
   "id": "15bb1755",
=======
   "id": "0b54aee4",
>>>>>>> documentation-devel
||||||| 565f7a7
   "id": "0b902cea",
=======
   "id": "d7e3baac",
>>>>>>> e08844e1a91b8e98d8bdd4d0244954bda0b7215b
   "metadata": {
    "fig.height": 4,
    "fig.width": 10
   },
   "outputs": [],
   "source": [
    "plotSpatialFeature(sfe_tissue, c(\"Myh2\", \"Myh1\", \"Ftl1\"), \n",
    "                   swap_rownames = \"symbol\", image_id = \"lowres\", maxcell = 5e4)"
   ]
  },
  {
   "cell_type": "markdown",
<<<<<<< HEAD
<<<<<<< HEAD
   "id": "6a4237f1",
||||||| d29fab7
   "id": "aab30ff9",
=======
   "id": "230b0aa4",
>>>>>>> documentation-devel
||||||| 565f7a7
   "id": "6a4237f1",
=======
   "id": "0ddc5c21",
>>>>>>> e08844e1a91b8e98d8bdd4d0244954bda0b7215b
   "metadata": {
    "lines_to_next_cell": 0
   },
   "source": [
    "Then plot the local L's:"
   ]
  },
  {
   "cell_type": "code",
   "execution_count": null,
<<<<<<< HEAD
<<<<<<< HEAD
   "id": "f27cf2d3",
||||||| d29fab7
   "id": "919dd0e4",
=======
   "id": "d6bb4791",
>>>>>>> documentation-devel
||||||| 565f7a7
   "id": "f27cf2d3",
=======
   "id": "2ff51706",
>>>>>>> e08844e1a91b8e98d8bdd4d0244954bda0b7215b
   "metadata": {
    "fig.height": 4,
    "fig.width": 10
   },
   "outputs": [],
   "source": [
    "plotLocalResult(sfe_tissue, \"locallee\", c(\"Myh1__Myh2\", \"Myh2__Ftl1\", \"Myh1__Ftl1\"),\n",
    "                colGeometryName = \"spotPoly\",\n",
    "                image_id = \"lowres\", maxcell = 5e4,\n",
    "                divergent = TRUE, diverge_center = 0)"
   ]
  },
  {
   "cell_type": "markdown",
<<<<<<< HEAD
<<<<<<< HEAD
   "id": "8797fb12",
||||||| d29fab7
   "id": "339f9d78",
=======
   "id": "c3b2191f",
>>>>>>> documentation-devel
||||||| 565f7a7
   "id": "8797fb12",
=======
   "id": "75cbbde5",
>>>>>>> e08844e1a91b8e98d8bdd4d0244954bda0b7215b
   "metadata": {
    "lines_to_next_cell": 0
   },
   "source": [
    "Here we see regions where Myh1 and Myh2 are more co-expressed, and where the myosins and Ftl1 are negatively correlated. \n",
    "\n",
    "$L_{X,X}$ is also computed, so we can plot the local SSS for the three genes:"
   ]
  },
  {
   "cell_type": "code",
   "execution_count": null,
<<<<<<< HEAD
<<<<<<< HEAD
   "id": "fb517d66",
||||||| d29fab7
   "id": "f432fb60",
=======
   "id": "54620256",
>>>>>>> documentation-devel
||||||| 565f7a7
   "id": "fb517d66",
=======
   "id": "8e5c2589",
>>>>>>> e08844e1a91b8e98d8bdd4d0244954bda0b7215b
   "metadata": {
    "fig.height": 4,
    "fig.width": 10
   },
   "outputs": [],
   "source": [
    "plotLocalResult(sfe_tissue, \"locallee\", c(\"Myh1__Myh1\", \"Myh2__Myh2\", \"Ftl1__Ftl1\"),\n",
    "                colGeometryName = \"spotPoly\",\n",
    "                image_id = \"lowres\", maxcell = 5e4)"
   ]
  },
  {
   "cell_type": "markdown",
<<<<<<< HEAD
<<<<<<< HEAD
   "id": "a6760a50",
||||||| d29fab7
   "id": "b85f090b",
=======
   "id": "d70c05e5",
>>>>>>> documentation-devel
||||||| 565f7a7
   "id": "a6760a50",
=======
   "id": "b435ba2f",
>>>>>>> e08844e1a91b8e98d8bdd4d0244954bda0b7215b
   "metadata": {
    "lines_to_next_cell": 0
   },
   "source": [
    "See how the local SSS compares to local Moran's I:"
   ]
  },
  {
   "cell_type": "code",
   "execution_count": null,
<<<<<<< HEAD
<<<<<<< HEAD
   "id": "6cff16b8",
||||||| d29fab7
   "id": "48efcfc1",
=======
   "id": "f32bba36",
>>>>>>> documentation-devel
||||||| 565f7a7
   "id": "6cff16b8",
=======
   "id": "74b96fdb",
>>>>>>> e08844e1a91b8e98d8bdd4d0244954bda0b7215b
   "metadata": {},
   "outputs": [],
   "source": [
    "sfe_tissue <- runUnivariate(sfe_tissue, \"localmoran\", c(\"Myh2\", \"Myh1\", \"Ftl1\"),\n",
    "                            swap_rownames = \"symbol\")"
   ]
  },
  {
   "cell_type": "code",
   "execution_count": null,
<<<<<<< HEAD
<<<<<<< HEAD
   "id": "c30fc0b7",
||||||| d29fab7
   "id": "44990585",
=======
   "id": "06111fb1",
>>>>>>> documentation-devel
||||||| 565f7a7
   "id": "c30fc0b7",
=======
   "id": "34f78ca7",
>>>>>>> e08844e1a91b8e98d8bdd4d0244954bda0b7215b
   "metadata": {
    "fig.height": 4,
    "fig.width": 10
   },
   "outputs": [],
   "source": [
    "plotLocalResult(sfe_tissue, \"localmoran\", c(\"Myh1\", \"Myh2\", \"Ftl1\"),\n",
    "                colGeometryName = \"spotPoly\", swap_rownames = \"symbol\",\n",
    "                image_id = \"lowres\", maxcell = 5e4,\n",
    "                divergent = TRUE, diverge_center = 0)"
   ]
  },
  {
   "cell_type": "markdown",
<<<<<<< HEAD
<<<<<<< HEAD
   "id": "44341640",
||||||| d29fab7
   "id": "f23e9ec1",
=======
   "id": "9293584c",
>>>>>>> documentation-devel
||||||| 565f7a7
   "id": "44341640",
=======
   "id": "69581cd1",
>>>>>>> e08844e1a91b8e98d8bdd4d0244954bda0b7215b
   "metadata": {},
   "source": [
    "The patterns are qualitatively the same, but while local Moran's I is negative in heterogeneous regions, the SSS can't be negative.\n",
    "\n",
    "# Bivariate local Moran\n",
    "\n",
    "The `spdep` package implements a bivariate version of local Moran, which basically is \n",
    "\n",
    "$$\n",
    "I_{X_i,Y_i} = (n-1)\\frac{(x_i - \\bar{x})\\sum_{j=1}^n w_{ij} (y_j - \\bar{y})}{\\sqrt{\\sum_{i=1}^n (x_i - \\bar{x})^2} \\sqrt{\\sum_{i=1}^n (y_i - \\bar{y})^2}}.\n",
    "$$\n",
    "\n",
    "Note that this is not symmetric, i.e. $I_{X_i,Y_i} \\neq I_{Y_i,X_i}$."
   ]
  },
  {
   "cell_type": "code",
   "execution_count": null,
<<<<<<< HEAD
<<<<<<< HEAD
   "id": "738cfa0c",
||||||| d29fab7
   "id": "cf029a44",
=======
   "id": "6c7a6138",
>>>>>>> documentation-devel
||||||| 565f7a7
   "id": "738cfa0c",
=======
   "id": "59dda43c",
>>>>>>> e08844e1a91b8e98d8bdd4d0244954bda0b7215b
   "metadata": {},
   "outputs": [],
   "source": [
    "sfe_tissue <- runBivariate(sfe_tissue, \"localmoran_bv\", c(\"Myh1\", \"Myh2\", \"Ftl1\"),\n",
    "                           swap_rownames = \"symbol\", nsim = 1000)"
   ]
  },
  {
   "cell_type": "code",
   "execution_count": null,
<<<<<<< HEAD
<<<<<<< HEAD
   "id": "56e6beb4",
||||||| d29fab7
   "id": "46d3c745",
=======
   "id": "4b81f675",
>>>>>>> documentation-devel
||||||| 565f7a7
   "id": "56e6beb4",
=======
   "id": "aecae27d",
>>>>>>> e08844e1a91b8e98d8bdd4d0244954bda0b7215b
   "metadata": {},
   "outputs": [],
   "source": [
    "localResultFeatures(sfe_tissue, \"localmoran_bv\")"
   ]
  },
  {
   "cell_type": "markdown",
<<<<<<< HEAD
<<<<<<< HEAD
   "id": "82725a4d",
||||||| d29fab7
   "id": "79eb96c7",
=======
   "id": "b1570115",
>>>>>>> documentation-devel
||||||| 565f7a7
   "id": "82725a4d",
=======
   "id": "e3a09cff",
>>>>>>> e08844e1a91b8e98d8bdd4d0244954bda0b7215b
   "metadata": {
    "lines_to_next_cell": 0
   },
   "source": [
    "Permutation testing is performed so we get a pseudo p-value"
   ]
  },
  {
   "cell_type": "code",
   "execution_count": null,
<<<<<<< HEAD
<<<<<<< HEAD
   "id": "074abd48",
||||||| d29fab7
   "id": "1e86c4d4",
=======
   "id": "1f4e1214",
>>>>>>> documentation-devel
||||||| 565f7a7
   "id": "074abd48",
=======
   "id": "bd6828df",
>>>>>>> e08844e1a91b8e98d8bdd4d0244954bda0b7215b
   "metadata": {},
   "outputs": [],
   "source": [
    "localResultAttrs(sfe_tissue, \"localmoran_bv\", \"Myh1__Myh2\")"
   ]
  },
  {
   "cell_type": "markdown",
<<<<<<< HEAD
<<<<<<< HEAD
   "id": "c3e6d916",
||||||| d29fab7
   "id": "ef33446a",
=======
   "id": "0eef25e9",
>>>>>>> documentation-devel
||||||| 565f7a7
   "id": "c3e6d916",
=======
   "id": "91b68df8",
>>>>>>> e08844e1a91b8e98d8bdd4d0244954bda0b7215b
   "metadata": {
    "lines_to_next_cell": 0
   },
   "source": [
    "First plot the bivariate local Moran's I values"
   ]
  },
  {
   "cell_type": "code",
   "execution_count": null,
<<<<<<< HEAD
<<<<<<< HEAD
   "id": "a6fff339",
||||||| d29fab7
   "id": "4b8a0dac",
=======
   "id": "8f6a6c13",
>>>>>>> documentation-devel
||||||| 565f7a7
   "id": "a6fff339",
=======
   "id": "984833eb",
>>>>>>> e08844e1a91b8e98d8bdd4d0244954bda0b7215b
   "metadata": {
    "fig.height": 7.5,
    "fig.width": 10
   },
   "outputs": [],
   "source": [
    "plotLocalResult(sfe_tissue, \"localmoran_bv\", c(\"Myh1__Myh2\", \"Myh2__Ftl1\", \"Myh1__Ftl1\",\n",
    "                                               \"Myh2__Myh1\", \"Ftl1__Myh2\", \"Ftl1__Myh1\"),\n",
    "                colGeometryName = \"spotPoly\", attribute = \"Ibvi\",\n",
    "                image_id = \"lowres\", maxcell = 5e4,\n",
    "                divergent = TRUE, diverge_center = 0)"
   ]
  },
  {
   "cell_type": "markdown",
<<<<<<< HEAD
<<<<<<< HEAD
   "id": "de0b4eba",
||||||| d29fab7
   "id": "51096a41",
=======
   "id": "cebe24ae",
>>>>>>> documentation-devel
||||||| 565f7a7
   "id": "de0b4eba",
=======
   "id": "e01ace5c",
>>>>>>> e08844e1a91b8e98d8bdd4d0244954bda0b7215b
   "metadata": {},
   "source": [
    "The first row plots XY while the second row plots YX; note that while they are similar, they are not the same. What does bivariate local Moran mean? It's kind of like contribution of each location to the correlation between $x$ and spatially lagged $y$, so $x$ is not smoothed. In contrast, Lee's L is a scaled Pearson correlation between spatially lagged $x$ and spatially lagged $y$. Because permutation testing is performed, we can plot the pseudo-p-value, after correcting for multiple testing based on the spatial neighborhood graph:"
   ]
  },
  {
   "cell_type": "code",
   "execution_count": null,
<<<<<<< HEAD
<<<<<<< HEAD
   "id": "24370aee",
||||||| d29fab7
   "id": "0f84e1c1",
=======
   "id": "d0f62c24",
>>>>>>> documentation-devel
||||||| 565f7a7
   "id": "24370aee",
=======
   "id": "b206f069",
>>>>>>> e08844e1a91b8e98d8bdd4d0244954bda0b7215b
   "metadata": {
    "fig.height": 7.5,
    "fig.width": 10
   },
   "outputs": [],
   "source": [
    "plotLocalResult(sfe_tissue, \"localmoran_bv\", c(\"Myh1__Myh2\", \"Myh2__Ftl1\", \"Myh1__Ftl1\",\n",
    "                                               \"Myh2__Myh1\", \"Ftl1__Myh2\", \"Ftl1__Myh1\"),\n",
    "                colGeometryName = \"spotPoly\", attribute = \"-log10p_adj Sim\",\n",
    "                image_id = \"lowres\", maxcell = 5e4,\n",
    "                divergent = TRUE, diverge_center = -log10(0.05))"
   ]
  },
  {
   "cell_type": "markdown",
<<<<<<< HEAD
<<<<<<< HEAD
   "id": "ae4d4cb1",
||||||| d29fab7
   "id": "01eaf513",
=======
   "id": "22cb81ca",
>>>>>>> documentation-devel
||||||| 565f7a7
   "id": "ae4d4cb1",
=======
   "id": "390bf3db",
>>>>>>> e08844e1a91b8e98d8bdd4d0244954bda0b7215b
   "metadata": {
    "lines_to_next_cell": 0
   },
   "source": [
    "Note that the p-values are asymetric, because according to the source code of `localmoran_bv()`, $y$ is permuted, but not $x$. It's also related to Wartenberg's spatial PCA [@Wartenberg1985-fk], where Moran's I is expressed in matrix form:\n",
    "\n",
    "$$\n",
    "\\mathbf{I} = \\frac{\\mathbf{Z}^T\\mathbf{WZ}}{\\mathbf 1^T \\mathbf{W1}},\n",
    "$$\n",
    "\n",
    "where $\\mathbf Z$ is the data matrix with scaled and centered variables in columns, $\\mathbf W$ is the spatial weights matrix, and $\\mathbf 1$ is a vector of all 1's, so the denominator is in effect $\\sum_{i=1}^n \\sum_{j=1}^n w_{ij}$. The diagonal entries are Moran's I's for the variables, and the off diagonal entries are the global versions of what we computed here that sum the bivariate local Moran's I's and divide by the sum of all spatial weights. Because $\\mathbf W$ doesn't have to be symmetric, this matrix may not be symmetric. Wartenberg diagonalized this matrix in place of the covariance matrix for spatial PCA. When using scaled and centered data and row normalized spatial weights matrix, MULTISPATI PCA is equivalent to Wartenberg's approach [@Dray2008-en]. Lee considered this asymmetry an inadequacy of Wartenberg's approach as a bivariate association measure [@Lee2001-tm]. While I'm not sure how bivariate local Moran's I helps with data analysis, it is an interesting piece of history. \n",
    "\n",
    "# Session info"
   ]
  },
  {
   "cell_type": "code",
   "execution_count": null,
<<<<<<< HEAD
<<<<<<< HEAD
   "id": "0a54d851",
||||||| d29fab7
   "id": "39a6443c",
=======
   "id": "ebc2a3e6",
>>>>>>> documentation-devel
||||||| 565f7a7
   "id": "0a54d851",
=======
   "id": "4b99c8aa",
>>>>>>> e08844e1a91b8e98d8bdd4d0244954bda0b7215b
   "metadata": {},
   "outputs": [],
   "source": [
    "sessionInfo()"
   ]
  },
  {
   "cell_type": "markdown",
<<<<<<< HEAD
<<<<<<< HEAD
   "id": "3831f17f",
||||||| d29fab7
   "id": "6c72c849",
=======
   "id": "42800732",
>>>>>>> documentation-devel
||||||| 565f7a7
   "id": "3831f17f",
=======
   "id": "a47c859f",
>>>>>>> e08844e1a91b8e98d8bdd4d0244954bda0b7215b
   "metadata": {},
   "source": [
    "# References"
   ]
  }
 ],
 "metadata": {
  "kernelspec": {
   "display_name": "R",
   "language": "R",
   "name": "ir"
  }
 },
 "nbformat": 4,
 "nbformat_minor": 5
}
