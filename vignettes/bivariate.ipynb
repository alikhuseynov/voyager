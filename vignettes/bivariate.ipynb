{
 "cells": [
  {
   "cell_type": "raw",
<<<<<<< HEAD
<<<<<<< HEAD
<<<<<<< HEAD
<<<<<<< HEAD
<<<<<<< HEAD
<<<<<<< HEAD
<<<<<<< HEAD
   "id": "f1f00bdc",
||||||| 6a30bf1
   "id": "0b93fe3b",
=======
   "id": "c1842ec5",
>>>>>>> documentation-devel
||||||| d28b18c
   "id": "c1842ec5",
=======
   "id": "f79068c3",
>>>>>>> documentation-devel
||||||| 6893f63
<<<<<<< HEAD
   "id": "f1f00bdc",
||||||| 6a30bf1
   "id": "0b93fe3b",
=======
   "id": "c1842ec5",
>>>>>>> documentation-devel
=======
   "id": "11534232",
>>>>>>> c74c98c2450c2a1ba922ed9442f136238d6bc88b
||||||| 6d93b645
   "id": "f79068c3",
=======
   "id": "53a77df8",
>>>>>>> documentation-devel
||||||| 804edffb
<<<<<<< HEAD
<<<<<<< HEAD
<<<<<<< HEAD
   "id": "f1f00bdc",
||||||| 6a30bf1
   "id": "0b93fe3b",
=======
   "id": "c1842ec5",
>>>>>>> documentation-devel
||||||| d28b18c
   "id": "c1842ec5",
=======
   "id": "f79068c3",
>>>>>>> documentation-devel
||||||| 6893f63
<<<<<<< HEAD
   "id": "f1f00bdc",
||||||| 6a30bf1
   "id": "0b93fe3b",
=======
   "id": "c1842ec5",
>>>>>>> documentation-devel
=======
   "id": "11534232",
>>>>>>> c74c98c2450c2a1ba922ed9442f136238d6bc88b
=======
   "id": "11c854d7",
>>>>>>> 035bb2637984ead2784fecff78c0c60cc4181202
||||||| 3effdfa5
   "id": "53a77df8",
=======
   "id": "3948ad2e",
>>>>>>> documentation-devel
||||||| 96c826da
<<<<<<< HEAD
<<<<<<< HEAD
<<<<<<< HEAD
<<<<<<< HEAD
<<<<<<< HEAD
   "id": "f1f00bdc",
||||||| 6a30bf1
   "id": "0b93fe3b",
=======
   "id": "c1842ec5",
>>>>>>> documentation-devel
||||||| d28b18c
   "id": "c1842ec5",
=======
   "id": "f79068c3",
>>>>>>> documentation-devel
||||||| 6893f63
<<<<<<< HEAD
   "id": "f1f00bdc",
||||||| 6a30bf1
   "id": "0b93fe3b",
=======
   "id": "c1842ec5",
>>>>>>> documentation-devel
=======
   "id": "11534232",
>>>>>>> c74c98c2450c2a1ba922ed9442f136238d6bc88b
||||||| 6d93b645
   "id": "f79068c3",
=======
   "id": "53a77df8",
>>>>>>> documentation-devel
||||||| 804edffb
<<<<<<< HEAD
<<<<<<< HEAD
<<<<<<< HEAD
   "id": "f1f00bdc",
||||||| 6a30bf1
   "id": "0b93fe3b",
=======
   "id": "c1842ec5",
>>>>>>> documentation-devel
||||||| d28b18c
   "id": "c1842ec5",
=======
   "id": "f79068c3",
>>>>>>> documentation-devel
||||||| 6893f63
<<<<<<< HEAD
   "id": "f1f00bdc",
||||||| 6a30bf1
   "id": "0b93fe3b",
=======
   "id": "c1842ec5",
>>>>>>> documentation-devel
=======
   "id": "11534232",
>>>>>>> c74c98c2450c2a1ba922ed9442f136238d6bc88b
=======
   "id": "11c854d7",
>>>>>>> 035bb2637984ead2784fecff78c0c60cc4181202
=======
   "id": "1c4f32ae",
>>>>>>> 619c01f26351d57ac14d974b7af136ac5756103f
   "metadata": {},
   "source": [
    "---\n",
    "title: \"Bivariate spatial statistics\"\n",
    "author: \"Lambda Moses\"\n",
    "date: \"`r Sys.Date()`\"\n",
    "output: \n",
    "  html_document:\n",
    "  toc: true\n",
    "  toc_float:\n",
    "    collapsed: false\n",
    "  toc_depth: 3\n",
    "bibliography: ref.bib\n",
    "vignette: >\n",
    "  %\\VignetteIndexEntry{bivariate}\n",
    "  %\\VignetteEngine{knitr::rmarkdown}\n",
    "  %\\VignetteEncoding{UTF-8}\n",
    "---"
   ]
  },
  {
   "cell_type": "code",
   "execution_count": null,
<<<<<<< HEAD
<<<<<<< HEAD
<<<<<<< HEAD
<<<<<<< HEAD
<<<<<<< HEAD
<<<<<<< HEAD
<<<<<<< HEAD
   "id": "f4436b6a",
||||||| 6a30bf1
   "id": "4f2431fb",
=======
   "id": "b914700d",
>>>>>>> documentation-devel
||||||| d28b18c
   "id": "b914700d",
=======
   "id": "2a8bfea2",
>>>>>>> documentation-devel
||||||| 6893f63
<<<<<<< HEAD
   "id": "f4436b6a",
||||||| 6a30bf1
   "id": "4f2431fb",
=======
   "id": "b914700d",
>>>>>>> documentation-devel
=======
   "id": "47118870",
>>>>>>> c74c98c2450c2a1ba922ed9442f136238d6bc88b
||||||| 6d93b645
   "id": "2a8bfea2",
=======
   "id": "d5e9796a",
>>>>>>> documentation-devel
||||||| 804edffb
<<<<<<< HEAD
<<<<<<< HEAD
<<<<<<< HEAD
   "id": "f4436b6a",
||||||| 6a30bf1
   "id": "4f2431fb",
=======
   "id": "b914700d",
>>>>>>> documentation-devel
||||||| d28b18c
   "id": "b914700d",
=======
   "id": "2a8bfea2",
>>>>>>> documentation-devel
||||||| 6893f63
<<<<<<< HEAD
   "id": "f4436b6a",
||||||| 6a30bf1
   "id": "4f2431fb",
=======
   "id": "b914700d",
>>>>>>> documentation-devel
=======
   "id": "47118870",
>>>>>>> c74c98c2450c2a1ba922ed9442f136238d6bc88b
=======
   "id": "a9f09aaf",
>>>>>>> 035bb2637984ead2784fecff78c0c60cc4181202
||||||| 3effdfa5
   "id": "d5e9796a",
=======
   "id": "1a107193",
>>>>>>> documentation-devel
||||||| 96c826da
<<<<<<< HEAD
<<<<<<< HEAD
<<<<<<< HEAD
<<<<<<< HEAD
<<<<<<< HEAD
   "id": "f4436b6a",
||||||| 6a30bf1
   "id": "4f2431fb",
=======
   "id": "b914700d",
>>>>>>> documentation-devel
||||||| d28b18c
   "id": "b914700d",
=======
   "id": "2a8bfea2",
>>>>>>> documentation-devel
||||||| 6893f63
<<<<<<< HEAD
   "id": "f4436b6a",
||||||| 6a30bf1
   "id": "4f2431fb",
=======
   "id": "b914700d",
>>>>>>> documentation-devel
=======
   "id": "47118870",
>>>>>>> c74c98c2450c2a1ba922ed9442f136238d6bc88b
||||||| 6d93b645
   "id": "2a8bfea2",
=======
   "id": "d5e9796a",
>>>>>>> documentation-devel
||||||| 804edffb
<<<<<<< HEAD
<<<<<<< HEAD
<<<<<<< HEAD
   "id": "f4436b6a",
||||||| 6a30bf1
   "id": "4f2431fb",
=======
   "id": "b914700d",
>>>>>>> documentation-devel
||||||| d28b18c
   "id": "b914700d",
=======
   "id": "2a8bfea2",
>>>>>>> documentation-devel
||||||| 6893f63
<<<<<<< HEAD
   "id": "f4436b6a",
||||||| 6a30bf1
   "id": "4f2431fb",
=======
   "id": "b914700d",
>>>>>>> documentation-devel
=======
   "id": "47118870",
>>>>>>> c74c98c2450c2a1ba922ed9442f136238d6bc88b
=======
   "id": "a9f09aaf",
>>>>>>> 035bb2637984ead2784fecff78c0c60cc4181202
=======
   "id": "17dc2c14",
>>>>>>> 619c01f26351d57ac14d974b7af136ac5756103f
   "metadata": {
    "tags": [
     "remove_cell"
    ]
   },
   "outputs": [],
   "source": [
    "knitr::opts_chunk$set(\n",
    "  collapse = TRUE,\n",
    "  comment = \"#>\"\n",
    ")"
   ]
  },
  {
   "cell_type": "code",
   "execution_count": null,
<<<<<<< HEAD
<<<<<<< HEAD
<<<<<<< HEAD
<<<<<<< HEAD
<<<<<<< HEAD
<<<<<<< HEAD
<<<<<<< HEAD
   "id": "b87e8942",
||||||| 6a30bf1
   "id": "f57b30bf",
=======
   "id": "07fabd88",
>>>>>>> documentation-devel
||||||| d28b18c
   "id": "07fabd88",
=======
   "id": "d5065fa7",
>>>>>>> documentation-devel
||||||| 6893f63
<<<<<<< HEAD
   "id": "b87e8942",
||||||| 6a30bf1
   "id": "f57b30bf",
=======
   "id": "07fabd88",
>>>>>>> documentation-devel
=======
   "id": "b0bc90b9",
>>>>>>> c74c98c2450c2a1ba922ed9442f136238d6bc88b
||||||| 6d93b645
   "id": "d5065fa7",
=======
   "id": "1215b64f",
>>>>>>> documentation-devel
||||||| 804edffb
<<<<<<< HEAD
<<<<<<< HEAD
<<<<<<< HEAD
   "id": "b87e8942",
||||||| 6a30bf1
   "id": "f57b30bf",
=======
   "id": "07fabd88",
>>>>>>> documentation-devel
||||||| d28b18c
   "id": "07fabd88",
=======
   "id": "d5065fa7",
>>>>>>> documentation-devel
||||||| 6893f63
<<<<<<< HEAD
   "id": "b87e8942",
||||||| 6a30bf1
   "id": "f57b30bf",
=======
   "id": "07fabd88",
>>>>>>> documentation-devel
=======
   "id": "b0bc90b9",
>>>>>>> c74c98c2450c2a1ba922ed9442f136238d6bc88b
=======
   "id": "7822864d",
>>>>>>> 035bb2637984ead2784fecff78c0c60cc4181202
||||||| 3effdfa5
   "id": "1215b64f",
=======
   "id": "9e4b8124",
>>>>>>> documentation-devel
||||||| 96c826da
<<<<<<< HEAD
<<<<<<< HEAD
<<<<<<< HEAD
<<<<<<< HEAD
<<<<<<< HEAD
   "id": "b87e8942",
||||||| 6a30bf1
   "id": "f57b30bf",
=======
   "id": "07fabd88",
>>>>>>> documentation-devel
||||||| d28b18c
   "id": "07fabd88",
=======
   "id": "d5065fa7",
>>>>>>> documentation-devel
||||||| 6893f63
<<<<<<< HEAD
   "id": "b87e8942",
||||||| 6a30bf1
   "id": "f57b30bf",
=======
   "id": "07fabd88",
>>>>>>> documentation-devel
=======
   "id": "b0bc90b9",
>>>>>>> c74c98c2450c2a1ba922ed9442f136238d6bc88b
||||||| 6d93b645
   "id": "d5065fa7",
=======
   "id": "1215b64f",
>>>>>>> documentation-devel
||||||| 804edffb
<<<<<<< HEAD
<<<<<<< HEAD
<<<<<<< HEAD
   "id": "b87e8942",
||||||| 6a30bf1
   "id": "f57b30bf",
=======
   "id": "07fabd88",
>>>>>>> documentation-devel
||||||| d28b18c
   "id": "07fabd88",
=======
   "id": "d5065fa7",
>>>>>>> documentation-devel
||||||| 6893f63
<<<<<<< HEAD
   "id": "b87e8942",
||||||| 6a30bf1
   "id": "f57b30bf",
=======
   "id": "07fabd88",
>>>>>>> documentation-devel
=======
   "id": "b0bc90b9",
>>>>>>> c74c98c2450c2a1ba922ed9442f136238d6bc88b
=======
   "id": "7822864d",
>>>>>>> 035bb2637984ead2784fecff78c0c60cc4181202
=======
   "id": "69011acc",
>>>>>>> 619c01f26351d57ac14d974b7af136ac5756103f
   "metadata": {
    "eval": false,
    "tags": [
     "remove_cell"
    ]
   },
   "outputs": [],
   "source": [
    "# Install Google Colab dependencies\n",
    "# Note: this can take 30+ minutes (many of the dependencies include C++ code, which needs to be compiled)\n",
    "\n",
    "# First install `sf`, `ragg` and `textshaping` and their system dependencies:\n",
    "system(\"apt-get -y update && apt-get install -y  libudunits2-dev libgdal-dev libgeos-dev libproj-dev libharfbuzz-dev libfribidi-dev\")\n",
    "install.packages(\"sf\")\n",
    "install.packages(\"textshaping\")\n",
    "install.packages(\"ragg\")\n",
    "\n",
    "# Install system dependencies of some other R packages that Voyager either imports or suggests:\n",
    "system(\"apt-get install -y libfribidi-dev libcairo2-dev libmagick++-dev\")\n",
    "\n",
    "# Install Voyager from Bioconductor:\n",
    "install.packages(\"BiocManager\")\n",
    "BiocManager::install(version = \"3.17\", ask = FALSE, update = FALSE, Ncpus = 2)\n",
    "BiocManager::install(\"scater\")\n",
    "system.time(\n",
    "  BiocManager::install(\"Voyager\", dependencies = TRUE, Ncpus = 2, update = FALSE)\n",
    ")\n",
    "\n",
    "# Other packages used in this vignette\n",
    "packageVersion(\"Voyager\")"
   ]
  },
  {
   "cell_type": "markdown",
<<<<<<< HEAD
<<<<<<< HEAD
<<<<<<< HEAD
<<<<<<< HEAD
<<<<<<< HEAD
<<<<<<< HEAD
<<<<<<< HEAD
   "id": "e2eec73d",
||||||| 6a30bf1
   "id": "ca695def",
=======
   "id": "03058e75",
>>>>>>> documentation-devel
||||||| d28b18c
   "id": "03058e75",
=======
   "id": "010580ed",
>>>>>>> documentation-devel
||||||| 6893f63
<<<<<<< HEAD
   "id": "e2eec73d",
||||||| 6a30bf1
   "id": "ca695def",
=======
   "id": "03058e75",
>>>>>>> documentation-devel
=======
   "id": "7d09d17f",
>>>>>>> c74c98c2450c2a1ba922ed9442f136238d6bc88b
||||||| 6d93b645
   "id": "010580ed",
=======
   "id": "209ec94e",
>>>>>>> documentation-devel
||||||| 804edffb
<<<<<<< HEAD
<<<<<<< HEAD
<<<<<<< HEAD
   "id": "e2eec73d",
||||||| 6a30bf1
   "id": "ca695def",
=======
   "id": "03058e75",
>>>>>>> documentation-devel
||||||| d28b18c
   "id": "03058e75",
=======
   "id": "010580ed",
>>>>>>> documentation-devel
||||||| 6893f63
<<<<<<< HEAD
   "id": "e2eec73d",
||||||| 6a30bf1
   "id": "ca695def",
=======
   "id": "03058e75",
>>>>>>> documentation-devel
=======
   "id": "7d09d17f",
>>>>>>> c74c98c2450c2a1ba922ed9442f136238d6bc88b
=======
   "id": "1976ee72",
>>>>>>> 035bb2637984ead2784fecff78c0c60cc4181202
||||||| 3effdfa5
   "id": "209ec94e",
=======
   "id": "91d8d55a",
>>>>>>> documentation-devel
||||||| 96c826da
<<<<<<< HEAD
<<<<<<< HEAD
<<<<<<< HEAD
<<<<<<< HEAD
<<<<<<< HEAD
   "id": "e2eec73d",
||||||| 6a30bf1
   "id": "ca695def",
=======
   "id": "03058e75",
>>>>>>> documentation-devel
||||||| d28b18c
   "id": "03058e75",
=======
   "id": "010580ed",
>>>>>>> documentation-devel
||||||| 6893f63
<<<<<<< HEAD
   "id": "e2eec73d",
||||||| 6a30bf1
   "id": "ca695def",
=======
   "id": "03058e75",
>>>>>>> documentation-devel
=======
   "id": "7d09d17f",
>>>>>>> c74c98c2450c2a1ba922ed9442f136238d6bc88b
||||||| 6d93b645
   "id": "010580ed",
=======
   "id": "209ec94e",
>>>>>>> documentation-devel
||||||| 804edffb
<<<<<<< HEAD
<<<<<<< HEAD
<<<<<<< HEAD
   "id": "e2eec73d",
||||||| 6a30bf1
   "id": "ca695def",
=======
   "id": "03058e75",
>>>>>>> documentation-devel
||||||| d28b18c
   "id": "03058e75",
=======
   "id": "010580ed",
>>>>>>> documentation-devel
||||||| 6893f63
<<<<<<< HEAD
   "id": "e2eec73d",
||||||| 6a30bf1
   "id": "ca695def",
=======
   "id": "03058e75",
>>>>>>> documentation-devel
=======
   "id": "7d09d17f",
>>>>>>> c74c98c2450c2a1ba922ed9442f136238d6bc88b
=======
   "id": "1976ee72",
>>>>>>> 035bb2637984ead2784fecff78c0c60cc4181202
=======
   "id": "69d2ff59",
>>>>>>> 619c01f26351d57ac14d974b7af136ac5756103f
   "metadata": {
    "lines_to_next_cell": 0
   },
   "source": [
    "# Introduction\n",
    "\n",
    "Consider two variables that are correlated, say with Pearson correlation of 0.8. The observations are spatially referenced. The locations of the observations can be permuted without affecting Pearson correlation. The purpose of bivariate spatial statistics is to indicate both correlation in value (as in Pearson correlation), and spatial autocorrelation and co-patterning. \n",
    "One of the bivariate methods implemented in `Voyager` is the cross variogram, which is shown in the [variogram vignette](https://pachterlab.github.io/voyager/articles/variogram.html). This vignette demonstrates other bivariate spatial statistics, which use a spatial neighborhood graph, on the mouse skeletal muscle Visium dataset.\n",
    "\n",
    "Here we load the packages used:"
   ]
  },
  {
   "cell_type": "code",
   "execution_count": null,
<<<<<<< HEAD
<<<<<<< HEAD
<<<<<<< HEAD
<<<<<<< HEAD
<<<<<<< HEAD
<<<<<<< HEAD
<<<<<<< HEAD
   "id": "78dc92ad",
||||||| 6a30bf1
   "id": "20f01d45",
=======
   "id": "23d1f63e",
>>>>>>> documentation-devel
||||||| d28b18c
   "id": "23d1f63e",
=======
   "id": "d5991432",
>>>>>>> documentation-devel
||||||| 6893f63
<<<<<<< HEAD
   "id": "78dc92ad",
||||||| 6a30bf1
   "id": "20f01d45",
=======
   "id": "23d1f63e",
>>>>>>> documentation-devel
=======
   "id": "257e0673",
>>>>>>> c74c98c2450c2a1ba922ed9442f136238d6bc88b
||||||| 6d93b645
   "id": "d5991432",
=======
   "id": "7738c5e1",
>>>>>>> documentation-devel
||||||| 804edffb
<<<<<<< HEAD
<<<<<<< HEAD
<<<<<<< HEAD
   "id": "78dc92ad",
||||||| 6a30bf1
   "id": "20f01d45",
=======
   "id": "23d1f63e",
>>>>>>> documentation-devel
||||||| d28b18c
   "id": "23d1f63e",
=======
   "id": "d5991432",
>>>>>>> documentation-devel
||||||| 6893f63
<<<<<<< HEAD
   "id": "78dc92ad",
||||||| 6a30bf1
   "id": "20f01d45",
=======
   "id": "23d1f63e",
>>>>>>> documentation-devel
=======
   "id": "257e0673",
>>>>>>> c74c98c2450c2a1ba922ed9442f136238d6bc88b
=======
   "id": "07b60b7c",
>>>>>>> 035bb2637984ead2784fecff78c0c60cc4181202
||||||| 3effdfa5
   "id": "7738c5e1",
=======
   "id": "3e44333d",
>>>>>>> documentation-devel
||||||| 96c826da
<<<<<<< HEAD
<<<<<<< HEAD
<<<<<<< HEAD
<<<<<<< HEAD
<<<<<<< HEAD
   "id": "78dc92ad",
||||||| 6a30bf1
   "id": "20f01d45",
=======
   "id": "23d1f63e",
>>>>>>> documentation-devel
||||||| d28b18c
   "id": "23d1f63e",
=======
   "id": "d5991432",
>>>>>>> documentation-devel
||||||| 6893f63
<<<<<<< HEAD
   "id": "78dc92ad",
||||||| 6a30bf1
   "id": "20f01d45",
=======
   "id": "23d1f63e",
>>>>>>> documentation-devel
=======
   "id": "257e0673",
>>>>>>> c74c98c2450c2a1ba922ed9442f136238d6bc88b
||||||| 6d93b645
   "id": "d5991432",
=======
   "id": "7738c5e1",
>>>>>>> documentation-devel
||||||| 804edffb
<<<<<<< HEAD
<<<<<<< HEAD
<<<<<<< HEAD
   "id": "78dc92ad",
||||||| 6a30bf1
   "id": "20f01d45",
=======
   "id": "23d1f63e",
>>>>>>> documentation-devel
||||||| d28b18c
   "id": "23d1f63e",
=======
   "id": "d5991432",
>>>>>>> documentation-devel
||||||| 6893f63
<<<<<<< HEAD
   "id": "78dc92ad",
||||||| 6a30bf1
   "id": "20f01d45",
=======
   "id": "23d1f63e",
>>>>>>> documentation-devel
=======
   "id": "257e0673",
>>>>>>> c74c98c2450c2a1ba922ed9442f136238d6bc88b
=======
   "id": "07b60b7c",
>>>>>>> 035bb2637984ead2784fecff78c0c60cc4181202
=======
   "id": "f46b59ae",
>>>>>>> 619c01f26351d57ac14d974b7af136ac5756103f
   "metadata": {
    "message": false
   },
   "outputs": [],
   "source": [
    "library(Voyager)\n",
    "library(SFEData)\n",
    "library(SpatialFeatureExperiment)\n",
    "library(scater)\n",
    "library(scran)\n",
    "library(ggplot2)\n",
    "library(pheatmap)\n",
    "library(scico)\n",
    "theme_set(theme_bw())"
   ]
  },
  {
   "cell_type": "markdown",
<<<<<<< HEAD
<<<<<<< HEAD
<<<<<<< HEAD
<<<<<<< HEAD
<<<<<<< HEAD
<<<<<<< HEAD
<<<<<<< HEAD
   "id": "2c3a0984",
||||||| 6a30bf1
   "id": "1f06b1ae",
=======
   "id": "f75602fb",
>>>>>>> documentation-devel
||||||| d28b18c
   "id": "f75602fb",
=======
   "id": "c01c69d1",
>>>>>>> documentation-devel
||||||| 6893f63
<<<<<<< HEAD
   "id": "2c3a0984",
||||||| 6a30bf1
   "id": "1f06b1ae",
=======
   "id": "f75602fb",
>>>>>>> documentation-devel
=======
   "id": "9958aab8",
>>>>>>> c74c98c2450c2a1ba922ed9442f136238d6bc88b
||||||| 6d93b645
   "id": "c01c69d1",
=======
   "id": "50ce5cbc",
>>>>>>> documentation-devel
||||||| 804edffb
<<<<<<< HEAD
<<<<<<< HEAD
<<<<<<< HEAD
   "id": "2c3a0984",
||||||| 6a30bf1
   "id": "1f06b1ae",
=======
   "id": "f75602fb",
>>>>>>> documentation-devel
||||||| d28b18c
   "id": "f75602fb",
=======
   "id": "c01c69d1",
>>>>>>> documentation-devel
||||||| 6893f63
<<<<<<< HEAD
   "id": "2c3a0984",
||||||| 6a30bf1
   "id": "1f06b1ae",
=======
   "id": "f75602fb",
>>>>>>> documentation-devel
=======
   "id": "9958aab8",
>>>>>>> c74c98c2450c2a1ba922ed9442f136238d6bc88b
=======
   "id": "70e72968",
>>>>>>> 035bb2637984ead2784fecff78c0c60cc4181202
||||||| 3effdfa5
   "id": "50ce5cbc",
=======
   "id": "7ac45c6a",
>>>>>>> documentation-devel
||||||| 96c826da
<<<<<<< HEAD
<<<<<<< HEAD
<<<<<<< HEAD
<<<<<<< HEAD
<<<<<<< HEAD
   "id": "2c3a0984",
||||||| 6a30bf1
   "id": "1f06b1ae",
=======
   "id": "f75602fb",
>>>>>>> documentation-devel
||||||| d28b18c
   "id": "f75602fb",
=======
   "id": "c01c69d1",
>>>>>>> documentation-devel
||||||| 6893f63
<<<<<<< HEAD
   "id": "2c3a0984",
||||||| 6a30bf1
   "id": "1f06b1ae",
=======
   "id": "f75602fb",
>>>>>>> documentation-devel
=======
   "id": "9958aab8",
>>>>>>> c74c98c2450c2a1ba922ed9442f136238d6bc88b
||||||| 6d93b645
   "id": "c01c69d1",
=======
   "id": "50ce5cbc",
>>>>>>> documentation-devel
||||||| 804edffb
<<<<<<< HEAD
<<<<<<< HEAD
<<<<<<< HEAD
   "id": "2c3a0984",
||||||| 6a30bf1
   "id": "1f06b1ae",
=======
   "id": "f75602fb",
>>>>>>> documentation-devel
||||||| d28b18c
   "id": "f75602fb",
=======
   "id": "c01c69d1",
>>>>>>> documentation-devel
||||||| 6893f63
<<<<<<< HEAD
   "id": "2c3a0984",
||||||| 6a30bf1
   "id": "1f06b1ae",
=======
   "id": "f75602fb",
>>>>>>> documentation-devel
=======
   "id": "9958aab8",
>>>>>>> c74c98c2450c2a1ba922ed9442f136238d6bc88b
=======
   "id": "70e72968",
>>>>>>> 035bb2637984ead2784fecff78c0c60cc4181202
=======
   "id": "e8bf8e41",
>>>>>>> 619c01f26351d57ac14d974b7af136ac5756103f
   "metadata": {
    "lines_to_next_cell": 0
   },
   "source": [
    "A list of all bivariate global methods can be seen here:"
   ]
  },
  {
   "cell_type": "code",
   "execution_count": null,
<<<<<<< HEAD
<<<<<<< HEAD
<<<<<<< HEAD
<<<<<<< HEAD
<<<<<<< HEAD
<<<<<<< HEAD
<<<<<<< HEAD
   "id": "59cde2a1",
||||||| 6a30bf1
   "id": "0b7ee8ed",
=======
   "id": "02686b1b",
>>>>>>> documentation-devel
||||||| d28b18c
   "id": "02686b1b",
=======
   "id": "435bda19",
>>>>>>> documentation-devel
||||||| 6893f63
<<<<<<< HEAD
   "id": "59cde2a1",
||||||| 6a30bf1
   "id": "0b7ee8ed",
=======
   "id": "02686b1b",
>>>>>>> documentation-devel
=======
   "id": "95fe63af",
>>>>>>> c74c98c2450c2a1ba922ed9442f136238d6bc88b
||||||| 6d93b645
   "id": "435bda19",
=======
   "id": "8e74f3e4",
>>>>>>> documentation-devel
||||||| 804edffb
<<<<<<< HEAD
<<<<<<< HEAD
<<<<<<< HEAD
   "id": "59cde2a1",
||||||| 6a30bf1
   "id": "0b7ee8ed",
=======
   "id": "02686b1b",
>>>>>>> documentation-devel
||||||| d28b18c
   "id": "02686b1b",
=======
   "id": "435bda19",
>>>>>>> documentation-devel
||||||| 6893f63
<<<<<<< HEAD
   "id": "59cde2a1",
||||||| 6a30bf1
   "id": "0b7ee8ed",
=======
   "id": "02686b1b",
>>>>>>> documentation-devel
=======
   "id": "95fe63af",
>>>>>>> c74c98c2450c2a1ba922ed9442f136238d6bc88b
=======
   "id": "a4fcdca4",
>>>>>>> 035bb2637984ead2784fecff78c0c60cc4181202
||||||| 3effdfa5
   "id": "8e74f3e4",
=======
   "id": "d770f665",
>>>>>>> documentation-devel
||||||| 96c826da
<<<<<<< HEAD
<<<<<<< HEAD
<<<<<<< HEAD
<<<<<<< HEAD
<<<<<<< HEAD
   "id": "59cde2a1",
||||||| 6a30bf1
   "id": "0b7ee8ed",
=======
   "id": "02686b1b",
>>>>>>> documentation-devel
||||||| d28b18c
   "id": "02686b1b",
=======
   "id": "435bda19",
>>>>>>> documentation-devel
||||||| 6893f63
<<<<<<< HEAD
   "id": "59cde2a1",
||||||| 6a30bf1
   "id": "0b7ee8ed",
=======
   "id": "02686b1b",
>>>>>>> documentation-devel
=======
   "id": "95fe63af",
>>>>>>> c74c98c2450c2a1ba922ed9442f136238d6bc88b
||||||| 6d93b645
   "id": "435bda19",
=======
   "id": "8e74f3e4",
>>>>>>> documentation-devel
||||||| 804edffb
<<<<<<< HEAD
<<<<<<< HEAD
<<<<<<< HEAD
   "id": "59cde2a1",
||||||| 6a30bf1
   "id": "0b7ee8ed",
=======
   "id": "02686b1b",
>>>>>>> documentation-devel
||||||| d28b18c
   "id": "02686b1b",
=======
   "id": "435bda19",
>>>>>>> documentation-devel
||||||| 6893f63
<<<<<<< HEAD
   "id": "59cde2a1",
||||||| 6a30bf1
   "id": "0b7ee8ed",
=======
   "id": "02686b1b",
>>>>>>> documentation-devel
=======
   "id": "95fe63af",
>>>>>>> c74c98c2450c2a1ba922ed9442f136238d6bc88b
=======
   "id": "a4fcdca4",
>>>>>>> 035bb2637984ead2784fecff78c0c60cc4181202
=======
   "id": "80c70cb8",
>>>>>>> 619c01f26351d57ac14d974b7af136ac5756103f
   "metadata": {},
   "outputs": [],
   "source": [
    "listSFEMethods(variate = \"bi\", scope = \"global\")"
   ]
  },
  {
   "cell_type": "markdown",
<<<<<<< HEAD
<<<<<<< HEAD
<<<<<<< HEAD
<<<<<<< HEAD
<<<<<<< HEAD
<<<<<<< HEAD
<<<<<<< HEAD
   "id": "72b6239d",
||||||| 6a30bf1
   "id": "4e57ccc7",
=======
   "id": "f7caef81",
>>>>>>> documentation-devel
||||||| d28b18c
   "id": "f7caef81",
=======
   "id": "2436f202",
>>>>>>> documentation-devel
||||||| 6893f63
<<<<<<< HEAD
   "id": "72b6239d",
||||||| 6a30bf1
   "id": "4e57ccc7",
=======
   "id": "f7caef81",
>>>>>>> documentation-devel
=======
   "id": "45ca47e5",
>>>>>>> c74c98c2450c2a1ba922ed9442f136238d6bc88b
||||||| 6d93b645
   "id": "2436f202",
=======
   "id": "abc4cb21",
>>>>>>> documentation-devel
||||||| 804edffb
<<<<<<< HEAD
<<<<<<< HEAD
<<<<<<< HEAD
   "id": "72b6239d",
||||||| 6a30bf1
   "id": "4e57ccc7",
=======
   "id": "f7caef81",
>>>>>>> documentation-devel
||||||| d28b18c
   "id": "f7caef81",
=======
   "id": "2436f202",
>>>>>>> documentation-devel
||||||| 6893f63
<<<<<<< HEAD
   "id": "72b6239d",
||||||| 6a30bf1
   "id": "4e57ccc7",
=======
   "id": "f7caef81",
>>>>>>> documentation-devel
=======
   "id": "45ca47e5",
>>>>>>> c74c98c2450c2a1ba922ed9442f136238d6bc88b
=======
   "id": "fbe7e0a4",
>>>>>>> 035bb2637984ead2784fecff78c0c60cc4181202
||||||| 3effdfa5
   "id": "abc4cb21",
=======
   "id": "7431a6db",
>>>>>>> documentation-devel
||||||| 96c826da
<<<<<<< HEAD
<<<<<<< HEAD
<<<<<<< HEAD
<<<<<<< HEAD
<<<<<<< HEAD
   "id": "72b6239d",
||||||| 6a30bf1
   "id": "4e57ccc7",
=======
   "id": "f7caef81",
>>>>>>> documentation-devel
||||||| d28b18c
   "id": "f7caef81",
=======
   "id": "2436f202",
>>>>>>> documentation-devel
||||||| 6893f63
<<<<<<< HEAD
   "id": "72b6239d",
||||||| 6a30bf1
   "id": "4e57ccc7",
=======
   "id": "f7caef81",
>>>>>>> documentation-devel
=======
   "id": "45ca47e5",
>>>>>>> c74c98c2450c2a1ba922ed9442f136238d6bc88b
||||||| 6d93b645
   "id": "2436f202",
=======
   "id": "abc4cb21",
>>>>>>> documentation-devel
||||||| 804edffb
<<<<<<< HEAD
<<<<<<< HEAD
<<<<<<< HEAD
   "id": "72b6239d",
||||||| 6a30bf1
   "id": "4e57ccc7",
=======
   "id": "f7caef81",
>>>>>>> documentation-devel
||||||| d28b18c
   "id": "f7caef81",
=======
   "id": "2436f202",
>>>>>>> documentation-devel
||||||| 6893f63
<<<<<<< HEAD
   "id": "72b6239d",
||||||| 6a30bf1
   "id": "4e57ccc7",
=======
   "id": "f7caef81",
>>>>>>> documentation-devel
=======
   "id": "45ca47e5",
>>>>>>> c74c98c2450c2a1ba922ed9442f136238d6bc88b
=======
   "id": "fbe7e0a4",
>>>>>>> 035bb2637984ead2784fecff78c0c60cc4181202
=======
   "id": "b0c4668a",
>>>>>>> 619c01f26351d57ac14d974b7af136ac5756103f
   "metadata": {
    "lines_to_next_cell": 0
   },
   "source": [
    "When calling `calculate*variate()` or `run*variate()`, the `type` (2nd) argument takes either an `SFEMethod` object or a string that matches an entry in the `name` column in the data frame returned by `listSFEMethods()`.\n",
    "\n",
    "QC was performed in [another vignette](https://pachterlab.github.io/voyager/articles/vig1_visium_basic.html), so this vignette will not plot QC metrics."
   ]
  },
  {
   "cell_type": "code",
   "execution_count": null,
<<<<<<< HEAD
<<<<<<< HEAD
<<<<<<< HEAD
<<<<<<< HEAD
<<<<<<< HEAD
<<<<<<< HEAD
<<<<<<< HEAD
   "id": "a92020fc",
||||||| 6a30bf1
   "id": "6c46cd2b",
=======
   "id": "c22a9e59",
>>>>>>> documentation-devel
||||||| d28b18c
   "id": "c22a9e59",
=======
   "id": "38ec7722",
>>>>>>> documentation-devel
||||||| 6893f63
<<<<<<< HEAD
   "id": "a92020fc",
||||||| 6a30bf1
   "id": "6c46cd2b",
=======
   "id": "c22a9e59",
>>>>>>> documentation-devel
=======
   "id": "ff898cca",
>>>>>>> c74c98c2450c2a1ba922ed9442f136238d6bc88b
||||||| 6d93b645
   "id": "38ec7722",
=======
   "id": "10871ad7",
>>>>>>> documentation-devel
||||||| 804edffb
<<<<<<< HEAD
<<<<<<< HEAD
<<<<<<< HEAD
   "id": "a92020fc",
||||||| 6a30bf1
   "id": "6c46cd2b",
=======
   "id": "c22a9e59",
>>>>>>> documentation-devel
||||||| d28b18c
   "id": "c22a9e59",
=======
   "id": "38ec7722",
>>>>>>> documentation-devel
||||||| 6893f63
<<<<<<< HEAD
   "id": "a92020fc",
||||||| 6a30bf1
   "id": "6c46cd2b",
=======
   "id": "c22a9e59",
>>>>>>> documentation-devel
=======
   "id": "ff898cca",
>>>>>>> c74c98c2450c2a1ba922ed9442f136238d6bc88b
=======
   "id": "ea24fa62",
>>>>>>> 035bb2637984ead2784fecff78c0c60cc4181202
||||||| 3effdfa5
   "id": "10871ad7",
=======
   "id": "0315ba8f",
>>>>>>> documentation-devel
||||||| 96c826da
<<<<<<< HEAD
<<<<<<< HEAD
<<<<<<< HEAD
<<<<<<< HEAD
<<<<<<< HEAD
   "id": "a92020fc",
||||||| 6a30bf1
   "id": "6c46cd2b",
=======
   "id": "c22a9e59",
>>>>>>> documentation-devel
||||||| d28b18c
   "id": "c22a9e59",
=======
   "id": "38ec7722",
>>>>>>> documentation-devel
||||||| 6893f63
<<<<<<< HEAD
   "id": "a92020fc",
||||||| 6a30bf1
   "id": "6c46cd2b",
=======
   "id": "c22a9e59",
>>>>>>> documentation-devel
=======
   "id": "ff898cca",
>>>>>>> c74c98c2450c2a1ba922ed9442f136238d6bc88b
||||||| 6d93b645
   "id": "38ec7722",
=======
   "id": "10871ad7",
>>>>>>> documentation-devel
||||||| 804edffb
<<<<<<< HEAD
<<<<<<< HEAD
<<<<<<< HEAD
   "id": "a92020fc",
||||||| 6a30bf1
   "id": "6c46cd2b",
=======
   "id": "c22a9e59",
>>>>>>> documentation-devel
||||||| d28b18c
   "id": "c22a9e59",
=======
   "id": "38ec7722",
>>>>>>> documentation-devel
||||||| 6893f63
<<<<<<< HEAD
   "id": "a92020fc",
||||||| 6a30bf1
   "id": "6c46cd2b",
=======
   "id": "c22a9e59",
>>>>>>> documentation-devel
=======
   "id": "ff898cca",
>>>>>>> c74c98c2450c2a1ba922ed9442f136238d6bc88b
=======
   "id": "ea24fa62",
>>>>>>> 035bb2637984ead2784fecff78c0c60cc4181202
=======
   "id": "4569a691",
>>>>>>> 619c01f26351d57ac14d974b7af136ac5756103f
   "metadata": {},
   "outputs": [],
   "source": [
    "(sfe <- McKellarMuscleData(\"full\"))"
   ]
  },
  {
   "cell_type": "markdown",
<<<<<<< HEAD
<<<<<<< HEAD
<<<<<<< HEAD
<<<<<<< HEAD
<<<<<<< HEAD
<<<<<<< HEAD
<<<<<<< HEAD
   "id": "62064d08",
||||||| 6a30bf1
   "id": "b4e1fbb3",
=======
   "id": "d4836993",
>>>>>>> documentation-devel
||||||| d28b18c
   "id": "d4836993",
=======
   "id": "cf80520a",
>>>>>>> documentation-devel
||||||| 6893f63
<<<<<<< HEAD
   "id": "62064d08",
||||||| 6a30bf1
   "id": "b4e1fbb3",
=======
   "id": "d4836993",
>>>>>>> documentation-devel
=======
   "id": "9579d826",
>>>>>>> c74c98c2450c2a1ba922ed9442f136238d6bc88b
||||||| 6d93b645
   "id": "cf80520a",
=======
   "id": "02b3273c",
>>>>>>> documentation-devel
||||||| 804edffb
<<<<<<< HEAD
<<<<<<< HEAD
<<<<<<< HEAD
   "id": "62064d08",
||||||| 6a30bf1
   "id": "b4e1fbb3",
=======
   "id": "d4836993",
>>>>>>> documentation-devel
||||||| d28b18c
   "id": "d4836993",
=======
   "id": "cf80520a",
>>>>>>> documentation-devel
||||||| 6893f63
<<<<<<< HEAD
   "id": "62064d08",
||||||| 6a30bf1
   "id": "b4e1fbb3",
=======
   "id": "d4836993",
>>>>>>> documentation-devel
=======
   "id": "9579d826",
>>>>>>> c74c98c2450c2a1ba922ed9442f136238d6bc88b
=======
   "id": "2c468873",
>>>>>>> 035bb2637984ead2784fecff78c0c60cc4181202
||||||| 3effdfa5
   "id": "02b3273c",
=======
   "id": "a84c0f42",
>>>>>>> documentation-devel
||||||| 96c826da
<<<<<<< HEAD
<<<<<<< HEAD
<<<<<<< HEAD
<<<<<<< HEAD
<<<<<<< HEAD
   "id": "62064d08",
||||||| 6a30bf1
   "id": "b4e1fbb3",
=======
   "id": "d4836993",
>>>>>>> documentation-devel
||||||| d28b18c
   "id": "d4836993",
=======
   "id": "cf80520a",
>>>>>>> documentation-devel
||||||| 6893f63
<<<<<<< HEAD
   "id": "62064d08",
||||||| 6a30bf1
   "id": "b4e1fbb3",
=======
   "id": "d4836993",
>>>>>>> documentation-devel
=======
   "id": "9579d826",
>>>>>>> c74c98c2450c2a1ba922ed9442f136238d6bc88b
||||||| 6d93b645
   "id": "cf80520a",
=======
   "id": "02b3273c",
>>>>>>> documentation-devel
||||||| 804edffb
<<<<<<< HEAD
<<<<<<< HEAD
<<<<<<< HEAD
   "id": "62064d08",
||||||| 6a30bf1
   "id": "b4e1fbb3",
=======
   "id": "d4836993",
>>>>>>> documentation-devel
||||||| d28b18c
   "id": "d4836993",
=======
   "id": "cf80520a",
>>>>>>> documentation-devel
||||||| 6893f63
<<<<<<< HEAD
   "id": "62064d08",
||||||| 6a30bf1
   "id": "b4e1fbb3",
=======
   "id": "d4836993",
>>>>>>> documentation-devel
=======
   "id": "9579d826",
>>>>>>> c74c98c2450c2a1ba922ed9442f136238d6bc88b
=======
   "id": "2c468873",
>>>>>>> 035bb2637984ead2784fecff78c0c60cc4181202
=======
   "id": "7bb209a4",
>>>>>>> 619c01f26351d57ac14d974b7af136ac5756103f
   "metadata": {
    "lines_to_next_cell": 0
   },
   "source": [
    "The image can be added to the SFE object and plotted behind the geometries, and needs to be flipped to align to the spots because the origin is at the top left for the image but bottom left for geometries."
   ]
  },
  {
   "cell_type": "code",
   "execution_count": null,
<<<<<<< HEAD
<<<<<<< HEAD
<<<<<<< HEAD
<<<<<<< HEAD
<<<<<<< HEAD
<<<<<<< HEAD
<<<<<<< HEAD
   "id": "c92b789b",
||||||| 6a30bf1
   "id": "0f93e24e",
=======
   "id": "05424e28",
>>>>>>> documentation-devel
||||||| d28b18c
   "id": "05424e28",
=======
   "id": "a3ce567b",
>>>>>>> documentation-devel
||||||| 6893f63
<<<<<<< HEAD
   "id": "c92b789b",
||||||| 6a30bf1
   "id": "0f93e24e",
=======
   "id": "05424e28",
>>>>>>> documentation-devel
=======
   "id": "79db0913",
>>>>>>> c74c98c2450c2a1ba922ed9442f136238d6bc88b
||||||| 6d93b645
   "id": "a3ce567b",
=======
   "id": "20ca03c3",
>>>>>>> documentation-devel
||||||| 804edffb
<<<<<<< HEAD
<<<<<<< HEAD
<<<<<<< HEAD
   "id": "c92b789b",
||||||| 6a30bf1
   "id": "0f93e24e",
=======
   "id": "05424e28",
>>>>>>> documentation-devel
||||||| d28b18c
   "id": "05424e28",
=======
   "id": "a3ce567b",
>>>>>>> documentation-devel
||||||| 6893f63
<<<<<<< HEAD
   "id": "c92b789b",
||||||| 6a30bf1
   "id": "0f93e24e",
=======
   "id": "05424e28",
>>>>>>> documentation-devel
=======
   "id": "79db0913",
>>>>>>> c74c98c2450c2a1ba922ed9442f136238d6bc88b
=======
   "id": "104490c4",
>>>>>>> 035bb2637984ead2784fecff78c0c60cc4181202
||||||| 3effdfa5
   "id": "20ca03c3",
=======
   "id": "9e1afd6f",
>>>>>>> documentation-devel
||||||| 96c826da
<<<<<<< HEAD
<<<<<<< HEAD
<<<<<<< HEAD
<<<<<<< HEAD
<<<<<<< HEAD
   "id": "c92b789b",
||||||| 6a30bf1
   "id": "0f93e24e",
=======
   "id": "05424e28",
>>>>>>> documentation-devel
||||||| d28b18c
   "id": "05424e28",
=======
   "id": "a3ce567b",
>>>>>>> documentation-devel
||||||| 6893f63
<<<<<<< HEAD
   "id": "c92b789b",
||||||| 6a30bf1
   "id": "0f93e24e",
=======
   "id": "05424e28",
>>>>>>> documentation-devel
=======
   "id": "79db0913",
>>>>>>> c74c98c2450c2a1ba922ed9442f136238d6bc88b
||||||| 6d93b645
   "id": "a3ce567b",
=======
   "id": "20ca03c3",
>>>>>>> documentation-devel
||||||| 804edffb
<<<<<<< HEAD
<<<<<<< HEAD
<<<<<<< HEAD
   "id": "c92b789b",
||||||| 6a30bf1
   "id": "0f93e24e",
=======
   "id": "05424e28",
>>>>>>> documentation-devel
||||||| d28b18c
   "id": "05424e28",
=======
   "id": "a3ce567b",
>>>>>>> documentation-devel
||||||| 6893f63
<<<<<<< HEAD
   "id": "c92b789b",
||||||| 6a30bf1
   "id": "0f93e24e",
=======
   "id": "05424e28",
>>>>>>> documentation-devel
=======
   "id": "79db0913",
>>>>>>> c74c98c2450c2a1ba922ed9442f136238d6bc88b
=======
   "id": "104490c4",
>>>>>>> 035bb2637984ead2784fecff78c0c60cc4181202
=======
   "id": "f6250c48",
>>>>>>> 619c01f26351d57ac14d974b7af136ac5756103f
   "metadata": {},
   "outputs": [],
   "source": [
    "if (!file.exists(\"tissue_lowres_5a.jpeg\")) {\n",
    "    download.file(\"https://raw.githubusercontent.com/pachterlab/voyager/main/vignettes/tissue_lowres_5a.jpeg\",\n",
    "                  destfile = \"tissue_lowres_5a.jpeg\")\n",
    "}"
   ]
  },
  {
   "cell_type": "code",
   "execution_count": null,
<<<<<<< HEAD
<<<<<<< HEAD
<<<<<<< HEAD
<<<<<<< HEAD
<<<<<<< HEAD
<<<<<<< HEAD
<<<<<<< HEAD
   "id": "6961cc20",
||||||| 6a30bf1
   "id": "2117b073",
=======
   "id": "9ab1ff07",
>>>>>>> documentation-devel
||||||| d28b18c
   "id": "9ab1ff07",
=======
   "id": "27faf65c",
>>>>>>> documentation-devel
||||||| 6893f63
<<<<<<< HEAD
   "id": "6961cc20",
||||||| 6a30bf1
   "id": "2117b073",
=======
   "id": "9ab1ff07",
>>>>>>> documentation-devel
=======
   "id": "7c1bba13",
>>>>>>> c74c98c2450c2a1ba922ed9442f136238d6bc88b
||||||| 6d93b645
   "id": "27faf65c",
=======
   "id": "2cfba165",
>>>>>>> documentation-devel
||||||| 804edffb
<<<<<<< HEAD
<<<<<<< HEAD
<<<<<<< HEAD
   "id": "6961cc20",
||||||| 6a30bf1
   "id": "2117b073",
=======
   "id": "9ab1ff07",
>>>>>>> documentation-devel
||||||| d28b18c
   "id": "9ab1ff07",
=======
   "id": "27faf65c",
>>>>>>> documentation-devel
||||||| 6893f63
<<<<<<< HEAD
   "id": "6961cc20",
||||||| 6a30bf1
   "id": "2117b073",
=======
   "id": "9ab1ff07",
>>>>>>> documentation-devel
=======
   "id": "7c1bba13",
>>>>>>> c74c98c2450c2a1ba922ed9442f136238d6bc88b
=======
   "id": "8f83fb4b",
>>>>>>> 035bb2637984ead2784fecff78c0c60cc4181202
||||||| 3effdfa5
   "id": "2cfba165",
=======
   "id": "7e6961f2",
>>>>>>> documentation-devel
||||||| 96c826da
<<<<<<< HEAD
<<<<<<< HEAD
<<<<<<< HEAD
<<<<<<< HEAD
<<<<<<< HEAD
   "id": "6961cc20",
||||||| 6a30bf1
   "id": "2117b073",
=======
   "id": "9ab1ff07",
>>>>>>> documentation-devel
||||||| d28b18c
   "id": "9ab1ff07",
=======
   "id": "27faf65c",
>>>>>>> documentation-devel
||||||| 6893f63
<<<<<<< HEAD
   "id": "6961cc20",
||||||| 6a30bf1
   "id": "2117b073",
=======
   "id": "9ab1ff07",
>>>>>>> documentation-devel
=======
   "id": "7c1bba13",
>>>>>>> c74c98c2450c2a1ba922ed9442f136238d6bc88b
||||||| 6d93b645
   "id": "27faf65c",
=======
   "id": "2cfba165",
>>>>>>> documentation-devel
||||||| 804edffb
<<<<<<< HEAD
<<<<<<< HEAD
<<<<<<< HEAD
   "id": "6961cc20",
||||||| 6a30bf1
   "id": "2117b073",
=======
   "id": "9ab1ff07",
>>>>>>> documentation-devel
||||||| d28b18c
   "id": "9ab1ff07",
=======
   "id": "27faf65c",
>>>>>>> documentation-devel
||||||| 6893f63
<<<<<<< HEAD
   "id": "6961cc20",
||||||| 6a30bf1
   "id": "2117b073",
=======
   "id": "9ab1ff07",
>>>>>>> documentation-devel
=======
   "id": "7c1bba13",
>>>>>>> c74c98c2450c2a1ba922ed9442f136238d6bc88b
=======
   "id": "8f83fb4b",
>>>>>>> 035bb2637984ead2784fecff78c0c60cc4181202
=======
   "id": "0545c653",
>>>>>>> 619c01f26351d57ac14d974b7af136ac5756103f
   "metadata": {},
   "outputs": [],
   "source": [
    "sfe <- addImg(sfe, file = \"tissue_lowres_5a.jpeg\", sample_id = \"Vis5A\", \n",
    "              image_id = \"lowres\", \n",
    "              scale_fct = 1024/22208)\n",
    "sfe <- mirrorImg(sfe, sample_id = \"Vis5A\", image_id = \"lowres\")"
   ]
  },
  {
   "cell_type": "code",
   "execution_count": null,
<<<<<<< HEAD
<<<<<<< HEAD
<<<<<<< HEAD
<<<<<<< HEAD
<<<<<<< HEAD
<<<<<<< HEAD
<<<<<<< HEAD
   "id": "d8396dbf",
||||||| 6a30bf1
   "id": "c49c31ab",
=======
   "id": "4ff3785f",
>>>>>>> documentation-devel
||||||| d28b18c
   "id": "4ff3785f",
=======
   "id": "a9aeb0a9",
>>>>>>> documentation-devel
||||||| 6893f63
<<<<<<< HEAD
   "id": "d8396dbf",
||||||| 6a30bf1
   "id": "c49c31ab",
=======
   "id": "4ff3785f",
>>>>>>> documentation-devel
=======
   "id": "026d5fa8",
>>>>>>> c74c98c2450c2a1ba922ed9442f136238d6bc88b
||||||| 6d93b645
   "id": "a9aeb0a9",
=======
   "id": "daa08513",
>>>>>>> documentation-devel
||||||| 804edffb
<<<<<<< HEAD
<<<<<<< HEAD
<<<<<<< HEAD
   "id": "d8396dbf",
||||||| 6a30bf1
   "id": "c49c31ab",
=======
   "id": "4ff3785f",
>>>>>>> documentation-devel
||||||| d28b18c
   "id": "4ff3785f",
=======
   "id": "a9aeb0a9",
>>>>>>> documentation-devel
||||||| 6893f63
<<<<<<< HEAD
   "id": "d8396dbf",
||||||| 6a30bf1
   "id": "c49c31ab",
=======
   "id": "4ff3785f",
>>>>>>> documentation-devel
=======
   "id": "026d5fa8",
>>>>>>> c74c98c2450c2a1ba922ed9442f136238d6bc88b
=======
   "id": "d2b4843f",
>>>>>>> 035bb2637984ead2784fecff78c0c60cc4181202
||||||| 3effdfa5
   "id": "daa08513",
=======
   "id": "f24b14a2",
>>>>>>> documentation-devel
||||||| 96c826da
<<<<<<< HEAD
<<<<<<< HEAD
<<<<<<< HEAD
<<<<<<< HEAD
<<<<<<< HEAD
   "id": "d8396dbf",
||||||| 6a30bf1
   "id": "c49c31ab",
=======
   "id": "4ff3785f",
>>>>>>> documentation-devel
||||||| d28b18c
   "id": "4ff3785f",
=======
   "id": "a9aeb0a9",
>>>>>>> documentation-devel
||||||| 6893f63
<<<<<<< HEAD
   "id": "d8396dbf",
||||||| 6a30bf1
   "id": "c49c31ab",
=======
   "id": "4ff3785f",
>>>>>>> documentation-devel
=======
   "id": "026d5fa8",
>>>>>>> c74c98c2450c2a1ba922ed9442f136238d6bc88b
||||||| 6d93b645
   "id": "a9aeb0a9",
=======
   "id": "daa08513",
>>>>>>> documentation-devel
||||||| 804edffb
<<<<<<< HEAD
<<<<<<< HEAD
<<<<<<< HEAD
   "id": "d8396dbf",
||||||| 6a30bf1
   "id": "c49c31ab",
=======
   "id": "4ff3785f",
>>>>>>> documentation-devel
||||||| d28b18c
   "id": "4ff3785f",
=======
   "id": "a9aeb0a9",
>>>>>>> documentation-devel
||||||| 6893f63
<<<<<<< HEAD
   "id": "d8396dbf",
||||||| 6a30bf1
   "id": "c49c31ab",
=======
   "id": "4ff3785f",
>>>>>>> documentation-devel
=======
   "id": "026d5fa8",
>>>>>>> c74c98c2450c2a1ba922ed9442f136238d6bc88b
=======
   "id": "d2b4843f",
>>>>>>> 035bb2637984ead2784fecff78c0c60cc4181202
=======
   "id": "79726f47",
>>>>>>> 619c01f26351d57ac14d974b7af136ac5756103f
   "metadata": {},
   "outputs": [],
   "source": [
    "sfe_tissue <- sfe[,colData(sfe)$in_tissue]\n",
    "sfe_tissue <- sfe_tissue[rowSums(counts(sfe_tissue)) > 0,]"
   ]
  },
  {
   "cell_type": "code",
   "execution_count": null,
<<<<<<< HEAD
<<<<<<< HEAD
<<<<<<< HEAD
<<<<<<< HEAD
<<<<<<< HEAD
<<<<<<< HEAD
<<<<<<< HEAD
   "id": "e6d116ab",
||||||| 6a30bf1
   "id": "07d0ec4f",
=======
   "id": "df56fa9e",
>>>>>>> documentation-devel
||||||| d28b18c
   "id": "df56fa9e",
=======
   "id": "45ab486d",
>>>>>>> documentation-devel
||||||| 6893f63
<<<<<<< HEAD
   "id": "e6d116ab",
||||||| 6a30bf1
   "id": "07d0ec4f",
=======
   "id": "df56fa9e",
>>>>>>> documentation-devel
=======
   "id": "ce270f17",
>>>>>>> c74c98c2450c2a1ba922ed9442f136238d6bc88b
||||||| 6d93b645
   "id": "45ab486d",
=======
   "id": "7cf47db6",
>>>>>>> documentation-devel
||||||| 804edffb
<<<<<<< HEAD
<<<<<<< HEAD
<<<<<<< HEAD
   "id": "e6d116ab",
||||||| 6a30bf1
   "id": "07d0ec4f",
=======
   "id": "df56fa9e",
>>>>>>> documentation-devel
||||||| d28b18c
   "id": "df56fa9e",
=======
   "id": "45ab486d",
>>>>>>> documentation-devel
||||||| 6893f63
<<<<<<< HEAD
   "id": "e6d116ab",
||||||| 6a30bf1
   "id": "07d0ec4f",
=======
   "id": "df56fa9e",
>>>>>>> documentation-devel
=======
   "id": "ce270f17",
>>>>>>> c74c98c2450c2a1ba922ed9442f136238d6bc88b
=======
   "id": "b0c6cfe4",
>>>>>>> 035bb2637984ead2784fecff78c0c60cc4181202
||||||| 3effdfa5
   "id": "7cf47db6",
=======
   "id": "cc84fc66",
>>>>>>> documentation-devel
||||||| 96c826da
<<<<<<< HEAD
<<<<<<< HEAD
<<<<<<< HEAD
<<<<<<< HEAD
<<<<<<< HEAD
   "id": "e6d116ab",
||||||| 6a30bf1
   "id": "07d0ec4f",
=======
   "id": "df56fa9e",
>>>>>>> documentation-devel
||||||| d28b18c
   "id": "df56fa9e",
=======
   "id": "45ab486d",
>>>>>>> documentation-devel
||||||| 6893f63
<<<<<<< HEAD
   "id": "e6d116ab",
||||||| 6a30bf1
   "id": "07d0ec4f",
=======
   "id": "df56fa9e",
>>>>>>> documentation-devel
=======
   "id": "ce270f17",
>>>>>>> c74c98c2450c2a1ba922ed9442f136238d6bc88b
||||||| 6d93b645
   "id": "45ab486d",
=======
   "id": "7cf47db6",
>>>>>>> documentation-devel
||||||| 804edffb
<<<<<<< HEAD
<<<<<<< HEAD
<<<<<<< HEAD
   "id": "e6d116ab",
||||||| 6a30bf1
   "id": "07d0ec4f",
=======
   "id": "df56fa9e",
>>>>>>> documentation-devel
||||||| d28b18c
   "id": "df56fa9e",
=======
   "id": "45ab486d",
>>>>>>> documentation-devel
||||||| 6893f63
<<<<<<< HEAD
   "id": "e6d116ab",
||||||| 6a30bf1
   "id": "07d0ec4f",
=======
   "id": "df56fa9e",
>>>>>>> documentation-devel
=======
   "id": "ce270f17",
>>>>>>> c74c98c2450c2a1ba922ed9442f136238d6bc88b
=======
   "id": "b0c6cfe4",
>>>>>>> 035bb2637984ead2784fecff78c0c60cc4181202
=======
   "id": "12c4f470",
>>>>>>> 619c01f26351d57ac14d974b7af136ac5756103f
   "metadata": {},
   "outputs": [],
   "source": [
    "sfe_tissue <- logNormCounts(sfe_tissue)"
   ]
  },
  {
   "cell_type": "code",
   "execution_count": null,
<<<<<<< HEAD
<<<<<<< HEAD
<<<<<<< HEAD
<<<<<<< HEAD
<<<<<<< HEAD
<<<<<<< HEAD
<<<<<<< HEAD
   "id": "f9621a9d",
||||||| 6a30bf1
   "id": "7401f7e9",
=======
   "id": "217b10d8",
>>>>>>> documentation-devel
||||||| d28b18c
   "id": "217b10d8",
=======
   "id": "5bd54013",
>>>>>>> documentation-devel
||||||| 6893f63
<<<<<<< HEAD
   "id": "f9621a9d",
||||||| 6a30bf1
   "id": "7401f7e9",
=======
   "id": "217b10d8",
>>>>>>> documentation-devel
=======
   "id": "24029b32",
>>>>>>> c74c98c2450c2a1ba922ed9442f136238d6bc88b
||||||| 6d93b645
   "id": "5bd54013",
=======
   "id": "e246a984",
>>>>>>> documentation-devel
||||||| 804edffb
<<<<<<< HEAD
<<<<<<< HEAD
<<<<<<< HEAD
   "id": "f9621a9d",
||||||| 6a30bf1
   "id": "7401f7e9",
=======
   "id": "217b10d8",
>>>>>>> documentation-devel
||||||| d28b18c
   "id": "217b10d8",
=======
   "id": "5bd54013",
>>>>>>> documentation-devel
||||||| 6893f63
<<<<<<< HEAD
   "id": "f9621a9d",
||||||| 6a30bf1
   "id": "7401f7e9",
=======
   "id": "217b10d8",
>>>>>>> documentation-devel
=======
   "id": "24029b32",
>>>>>>> c74c98c2450c2a1ba922ed9442f136238d6bc88b
=======
   "id": "32c5d347",
>>>>>>> 035bb2637984ead2784fecff78c0c60cc4181202
||||||| 3effdfa5
   "id": "e246a984",
=======
   "id": "38449ad7",
>>>>>>> documentation-devel
||||||| 96c826da
<<<<<<< HEAD
<<<<<<< HEAD
<<<<<<< HEAD
<<<<<<< HEAD
<<<<<<< HEAD
   "id": "f9621a9d",
||||||| 6a30bf1
   "id": "7401f7e9",
=======
   "id": "217b10d8",
>>>>>>> documentation-devel
||||||| d28b18c
   "id": "217b10d8",
=======
   "id": "5bd54013",
>>>>>>> documentation-devel
||||||| 6893f63
<<<<<<< HEAD
   "id": "f9621a9d",
||||||| 6a30bf1
   "id": "7401f7e9",
=======
   "id": "217b10d8",
>>>>>>> documentation-devel
=======
   "id": "24029b32",
>>>>>>> c74c98c2450c2a1ba922ed9442f136238d6bc88b
||||||| 6d93b645
   "id": "5bd54013",
=======
   "id": "e246a984",
>>>>>>> documentation-devel
||||||| 804edffb
<<<<<<< HEAD
<<<<<<< HEAD
<<<<<<< HEAD
   "id": "f9621a9d",
||||||| 6a30bf1
   "id": "7401f7e9",
=======
   "id": "217b10d8",
>>>>>>> documentation-devel
||||||| d28b18c
   "id": "217b10d8",
=======
   "id": "5bd54013",
>>>>>>> documentation-devel
||||||| 6893f63
<<<<<<< HEAD
   "id": "f9621a9d",
||||||| 6a30bf1
   "id": "7401f7e9",
=======
   "id": "217b10d8",
>>>>>>> documentation-devel
=======
   "id": "24029b32",
>>>>>>> c74c98c2450c2a1ba922ed9442f136238d6bc88b
=======
   "id": "32c5d347",
>>>>>>> 035bb2637984ead2784fecff78c0c60cc4181202
=======
   "id": "93638239",
>>>>>>> 619c01f26351d57ac14d974b7af136ac5756103f
   "metadata": {},
   "outputs": [],
   "source": [
    "colGraph(sfe_tissue, \"visium\") <- findVisiumGraph(sfe_tissue)"
   ]
  },
  {
   "cell_type": "markdown",
<<<<<<< HEAD
<<<<<<< HEAD
<<<<<<< HEAD
<<<<<<< HEAD
<<<<<<< HEAD
<<<<<<< HEAD
<<<<<<< HEAD
   "id": "dc44c880",
||||||| 6a30bf1
   "id": "978e4bc1",
=======
   "id": "ddd06c6a",
>>>>>>> documentation-devel
||||||| d28b18c
   "id": "ddd06c6a",
=======
   "id": "d6269174",
>>>>>>> documentation-devel
||||||| 6893f63
<<<<<<< HEAD
   "id": "dc44c880",
||||||| 6a30bf1
   "id": "978e4bc1",
=======
   "id": "ddd06c6a",
>>>>>>> documentation-devel
=======
   "id": "e30f1337",
>>>>>>> c74c98c2450c2a1ba922ed9442f136238d6bc88b
||||||| 6d93b645
   "id": "d6269174",
=======
   "id": "b5531c12",
>>>>>>> documentation-devel
||||||| 804edffb
<<<<<<< HEAD
<<<<<<< HEAD
<<<<<<< HEAD
   "id": "dc44c880",
||||||| 6a30bf1
   "id": "978e4bc1",
=======
   "id": "ddd06c6a",
>>>>>>> documentation-devel
||||||| d28b18c
   "id": "ddd06c6a",
=======
   "id": "d6269174",
>>>>>>> documentation-devel
||||||| 6893f63
<<<<<<< HEAD
   "id": "dc44c880",
||||||| 6a30bf1
   "id": "978e4bc1",
=======
   "id": "ddd06c6a",
>>>>>>> documentation-devel
=======
   "id": "e30f1337",
>>>>>>> c74c98c2450c2a1ba922ed9442f136238d6bc88b
=======
   "id": "716759a8",
>>>>>>> 035bb2637984ead2784fecff78c0c60cc4181202
||||||| 3effdfa5
   "id": "b5531c12",
=======
   "id": "d6b6f225",
>>>>>>> documentation-devel
||||||| 96c826da
<<<<<<< HEAD
<<<<<<< HEAD
<<<<<<< HEAD
<<<<<<< HEAD
<<<<<<< HEAD
   "id": "dc44c880",
||||||| 6a30bf1
   "id": "978e4bc1",
=======
   "id": "ddd06c6a",
>>>>>>> documentation-devel
||||||| d28b18c
   "id": "ddd06c6a",
=======
   "id": "d6269174",
>>>>>>> documentation-devel
||||||| 6893f63
<<<<<<< HEAD
   "id": "dc44c880",
||||||| 6a30bf1
   "id": "978e4bc1",
=======
   "id": "ddd06c6a",
>>>>>>> documentation-devel
=======
   "id": "e30f1337",
>>>>>>> c74c98c2450c2a1ba922ed9442f136238d6bc88b
||||||| 6d93b645
   "id": "d6269174",
=======
   "id": "b5531c12",
>>>>>>> documentation-devel
||||||| 804edffb
<<<<<<< HEAD
<<<<<<< HEAD
<<<<<<< HEAD
   "id": "dc44c880",
||||||| 6a30bf1
   "id": "978e4bc1",
=======
   "id": "ddd06c6a",
>>>>>>> documentation-devel
||||||| d28b18c
   "id": "ddd06c6a",
=======
   "id": "d6269174",
>>>>>>> documentation-devel
||||||| 6893f63
<<<<<<< HEAD
   "id": "dc44c880",
||||||| 6a30bf1
   "id": "978e4bc1",
=======
   "id": "ddd06c6a",
>>>>>>> documentation-devel
=======
   "id": "e30f1337",
>>>>>>> c74c98c2450c2a1ba922ed9442f136238d6bc88b
=======
   "id": "716759a8",
>>>>>>> 035bb2637984ead2784fecff78c0c60cc4181202
=======
   "id": "72e51338",
>>>>>>> 619c01f26351d57ac14d974b7af136ac5756103f
   "metadata": {
    "lines_to_next_cell": 0
   },
   "source": [
    "# Lee's L\n",
    "\n",
    "Lee's L [@Lee2001-tm] was developed from relating Moran's I to Pearson correlation, and is defined as\n",
    "\n",
    "$$\n",
    "L_{X,Y} = \\frac{n}{\\sum_{i=1}^n \\sum_{j=1}^n w_{ij}} \\frac{\\sum_{i=1}^n \\left[ \\sum_{j=1}^n w_{ij}  (x_j - \\bar{x}) \\right] \\left[ \\sum_{j=1}^n w_{ij} (y_j - \\bar{y}) \\right]}{\\sqrt{\\sum_{i=1}^n (x_i - \\bar{x})^2}\\sqrt{\\sum_{i=1}^n (y_i - \\bar{y})^2} },\n",
    "$$\n",
    "\n",
    "where $n$ is the number of spots or locations, $i$ and $j$ are different locations, or spots in the Visium context, $x$ and $y$ are variables with values at each location, and $w_{ij}$ is a spatial weight, which can be inversely proportional to distance between spots or an indicator of whether two spots are neighbors, subject to various definitions of neighborhood. \n",
    "\n",
    "Here we compute Lee's L for top highly variagle genes (HVGs) in this dataset:"
   ]
  },
  {
   "cell_type": "code",
   "execution_count": null,
<<<<<<< HEAD
<<<<<<< HEAD
<<<<<<< HEAD
<<<<<<< HEAD
<<<<<<< HEAD
<<<<<<< HEAD
<<<<<<< HEAD
   "id": "68c812c2",
||||||| 6a30bf1
   "id": "07f19028",
=======
   "id": "6ed13ed3",
>>>>>>> documentation-devel
||||||| d28b18c
   "id": "6ed13ed3",
=======
   "id": "60ebd7a3",
>>>>>>> documentation-devel
||||||| 6893f63
<<<<<<< HEAD
   "id": "68c812c2",
||||||| 6a30bf1
   "id": "07f19028",
=======
   "id": "6ed13ed3",
>>>>>>> documentation-devel
=======
   "id": "ab90152d",
>>>>>>> c74c98c2450c2a1ba922ed9442f136238d6bc88b
||||||| 6d93b645
   "id": "60ebd7a3",
=======
   "id": "c0eaf55a",
>>>>>>> documentation-devel
||||||| 804edffb
<<<<<<< HEAD
<<<<<<< HEAD
<<<<<<< HEAD
   "id": "68c812c2",
||||||| 6a30bf1
   "id": "07f19028",
=======
   "id": "6ed13ed3",
>>>>>>> documentation-devel
||||||| d28b18c
   "id": "6ed13ed3",
=======
   "id": "60ebd7a3",
>>>>>>> documentation-devel
||||||| 6893f63
<<<<<<< HEAD
   "id": "68c812c2",
||||||| 6a30bf1
   "id": "07f19028",
=======
   "id": "6ed13ed3",
>>>>>>> documentation-devel
=======
   "id": "ab90152d",
>>>>>>> c74c98c2450c2a1ba922ed9442f136238d6bc88b
=======
   "id": "fe2492a6",
>>>>>>> 035bb2637984ead2784fecff78c0c60cc4181202
||||||| 3effdfa5
   "id": "c0eaf55a",
=======
   "id": "91d66d32",
>>>>>>> documentation-devel
||||||| 96c826da
<<<<<<< HEAD
<<<<<<< HEAD
<<<<<<< HEAD
<<<<<<< HEAD
<<<<<<< HEAD
   "id": "68c812c2",
||||||| 6a30bf1
   "id": "07f19028",
=======
   "id": "6ed13ed3",
>>>>>>> documentation-devel
||||||| d28b18c
   "id": "6ed13ed3",
=======
   "id": "60ebd7a3",
>>>>>>> documentation-devel
||||||| 6893f63
<<<<<<< HEAD
   "id": "68c812c2",
||||||| 6a30bf1
   "id": "07f19028",
=======
   "id": "6ed13ed3",
>>>>>>> documentation-devel
=======
   "id": "ab90152d",
>>>>>>> c74c98c2450c2a1ba922ed9442f136238d6bc88b
||||||| 6d93b645
   "id": "60ebd7a3",
=======
   "id": "c0eaf55a",
>>>>>>> documentation-devel
||||||| 804edffb
<<<<<<< HEAD
<<<<<<< HEAD
<<<<<<< HEAD
   "id": "68c812c2",
||||||| 6a30bf1
   "id": "07f19028",
=======
   "id": "6ed13ed3",
>>>>>>> documentation-devel
||||||| d28b18c
   "id": "6ed13ed3",
=======
   "id": "60ebd7a3",
>>>>>>> documentation-devel
||||||| 6893f63
<<<<<<< HEAD
   "id": "68c812c2",
||||||| 6a30bf1
   "id": "07f19028",
=======
   "id": "6ed13ed3",
>>>>>>> documentation-devel
=======
   "id": "ab90152d",
>>>>>>> c74c98c2450c2a1ba922ed9442f136238d6bc88b
=======
   "id": "fe2492a6",
>>>>>>> 035bb2637984ead2784fecff78c0c60cc4181202
=======
   "id": "ff65aab0",
>>>>>>> 619c01f26351d57ac14d974b7af136ac5756103f
   "metadata": {},
   "outputs": [],
   "source": [
    "hvgs <- getTopHVGs(sfe_tissue, fdr.threshold = 0.01)"
   ]
  },
  {
   "cell_type": "markdown",
<<<<<<< HEAD
<<<<<<< HEAD
<<<<<<< HEAD
<<<<<<< HEAD
<<<<<<< HEAD
<<<<<<< HEAD
<<<<<<< HEAD
   "id": "d49fd767",
||||||| 6a30bf1
   "id": "406b97cd",
=======
   "id": "f960c33a",
>>>>>>> documentation-devel
||||||| d28b18c
   "id": "f960c33a",
=======
   "id": "b9135e7b",
>>>>>>> documentation-devel
||||||| 6893f63
<<<<<<< HEAD
   "id": "d49fd767",
||||||| 6a30bf1
   "id": "406b97cd",
=======
   "id": "f960c33a",
>>>>>>> documentation-devel
=======
   "id": "745164e6",
>>>>>>> c74c98c2450c2a1ba922ed9442f136238d6bc88b
||||||| 6d93b645
   "id": "b9135e7b",
=======
   "id": "703eb26b",
>>>>>>> documentation-devel
||||||| 804edffb
<<<<<<< HEAD
<<<<<<< HEAD
<<<<<<< HEAD
   "id": "d49fd767",
||||||| 6a30bf1
   "id": "406b97cd",
=======
   "id": "f960c33a",
>>>>>>> documentation-devel
||||||| d28b18c
   "id": "f960c33a",
=======
   "id": "b9135e7b",
>>>>>>> documentation-devel
||||||| 6893f63
<<<<<<< HEAD
   "id": "d49fd767",
||||||| 6a30bf1
   "id": "406b97cd",
=======
   "id": "f960c33a",
>>>>>>> documentation-devel
=======
   "id": "745164e6",
>>>>>>> c74c98c2450c2a1ba922ed9442f136238d6bc88b
=======
   "id": "d73e41f2",
>>>>>>> 035bb2637984ead2784fecff78c0c60cc4181202
||||||| 3effdfa5
   "id": "703eb26b",
=======
   "id": "ab7a1a41",
>>>>>>> documentation-devel
||||||| 96c826da
<<<<<<< HEAD
<<<<<<< HEAD
<<<<<<< HEAD
<<<<<<< HEAD
<<<<<<< HEAD
   "id": "d49fd767",
||||||| 6a30bf1
   "id": "406b97cd",
=======
   "id": "f960c33a",
>>>>>>> documentation-devel
||||||| d28b18c
   "id": "f960c33a",
=======
   "id": "b9135e7b",
>>>>>>> documentation-devel
||||||| 6893f63
<<<<<<< HEAD
   "id": "d49fd767",
||||||| 6a30bf1
   "id": "406b97cd",
=======
   "id": "f960c33a",
>>>>>>> documentation-devel
=======
   "id": "745164e6",
>>>>>>> c74c98c2450c2a1ba922ed9442f136238d6bc88b
||||||| 6d93b645
   "id": "b9135e7b",
=======
   "id": "703eb26b",
>>>>>>> documentation-devel
||||||| 804edffb
<<<<<<< HEAD
<<<<<<< HEAD
<<<<<<< HEAD
   "id": "d49fd767",
||||||| 6a30bf1
   "id": "406b97cd",
=======
   "id": "f960c33a",
>>>>>>> documentation-devel
||||||| d28b18c
   "id": "f960c33a",
=======
   "id": "b9135e7b",
>>>>>>> documentation-devel
||||||| 6893f63
<<<<<<< HEAD
   "id": "d49fd767",
||||||| 6a30bf1
   "id": "406b97cd",
=======
   "id": "f960c33a",
>>>>>>> documentation-devel
=======
   "id": "745164e6",
>>>>>>> c74c98c2450c2a1ba922ed9442f136238d6bc88b
=======
   "id": "d73e41f2",
>>>>>>> 035bb2637984ead2784fecff78c0c60cc4181202
=======
   "id": "cd1a294f",
>>>>>>> 619c01f26351d57ac14d974b7af136ac5756103f
   "metadata": {},
   "source": [
    "Because bivariate global results can have very different formats (matrix for Lee's L and lists for many other methods), the results are not stored in the SFE object."
   ]
  },
  {
   "cell_type": "code",
   "execution_count": null,
<<<<<<< HEAD
<<<<<<< HEAD
<<<<<<< HEAD
<<<<<<< HEAD
<<<<<<< HEAD
<<<<<<< HEAD
<<<<<<< HEAD
   "id": "e32ae460",
||||||| 6a30bf1
   "id": "020afdeb",
=======
   "id": "742cf41c",
>>>>>>> documentation-devel
||||||| d28b18c
   "id": "742cf41c",
=======
   "id": "6fee59ff",
>>>>>>> documentation-devel
||||||| 6893f63
<<<<<<< HEAD
   "id": "e32ae460",
||||||| 6a30bf1
   "id": "020afdeb",
=======
   "id": "742cf41c",
>>>>>>> documentation-devel
=======
   "id": "f2891f21",
>>>>>>> c74c98c2450c2a1ba922ed9442f136238d6bc88b
||||||| 6d93b645
   "id": "6fee59ff",
=======
   "id": "0832d31e",
>>>>>>> documentation-devel
||||||| 804edffb
<<<<<<< HEAD
<<<<<<< HEAD
<<<<<<< HEAD
   "id": "e32ae460",
||||||| 6a30bf1
   "id": "020afdeb",
=======
   "id": "742cf41c",
>>>>>>> documentation-devel
||||||| d28b18c
   "id": "742cf41c",
=======
   "id": "6fee59ff",
>>>>>>> documentation-devel
||||||| 6893f63
<<<<<<< HEAD
   "id": "e32ae460",
||||||| 6a30bf1
   "id": "020afdeb",
=======
   "id": "742cf41c",
>>>>>>> documentation-devel
=======
   "id": "f2891f21",
>>>>>>> c74c98c2450c2a1ba922ed9442f136238d6bc88b
=======
   "id": "6790facc",
>>>>>>> 035bb2637984ead2784fecff78c0c60cc4181202
||||||| 3effdfa5
   "id": "0832d31e",
=======
   "id": "58c8d9c2",
>>>>>>> documentation-devel
||||||| 96c826da
<<<<<<< HEAD
<<<<<<< HEAD
<<<<<<< HEAD
<<<<<<< HEAD
<<<<<<< HEAD
   "id": "e32ae460",
||||||| 6a30bf1
   "id": "020afdeb",
=======
   "id": "742cf41c",
>>>>>>> documentation-devel
||||||| d28b18c
   "id": "742cf41c",
=======
   "id": "6fee59ff",
>>>>>>> documentation-devel
||||||| 6893f63
<<<<<<< HEAD
   "id": "e32ae460",
||||||| 6a30bf1
   "id": "020afdeb",
=======
   "id": "742cf41c",
>>>>>>> documentation-devel
=======
   "id": "f2891f21",
>>>>>>> c74c98c2450c2a1ba922ed9442f136238d6bc88b
||||||| 6d93b645
   "id": "6fee59ff",
=======
   "id": "0832d31e",
>>>>>>> documentation-devel
||||||| 804edffb
<<<<<<< HEAD
<<<<<<< HEAD
<<<<<<< HEAD
   "id": "e32ae460",
||||||| 6a30bf1
   "id": "020afdeb",
=======
   "id": "742cf41c",
>>>>>>> documentation-devel
||||||| d28b18c
   "id": "742cf41c",
=======
   "id": "6fee59ff",
>>>>>>> documentation-devel
||||||| 6893f63
<<<<<<< HEAD
   "id": "e32ae460",
||||||| 6a30bf1
   "id": "020afdeb",
=======
   "id": "742cf41c",
>>>>>>> documentation-devel
=======
   "id": "f2891f21",
>>>>>>> c74c98c2450c2a1ba922ed9442f136238d6bc88b
=======
   "id": "6790facc",
>>>>>>> 035bb2637984ead2784fecff78c0c60cc4181202
=======
   "id": "1fc39b4f",
>>>>>>> 619c01f26351d57ac14d974b7af136ac5756103f
   "metadata": {},
   "outputs": [],
   "source": [
    "res <- calculateBivariate(sfe_tissue, type = \"lee\", feature1 = hvgs)"
   ]
  },
  {
   "cell_type": "markdown",
<<<<<<< HEAD
<<<<<<< HEAD
<<<<<<< HEAD
<<<<<<< HEAD
<<<<<<< HEAD
<<<<<<< HEAD
<<<<<<< HEAD
   "id": "e9af4617",
||||||| 6a30bf1
   "id": "11525d91",
=======
   "id": "6c87753d",
>>>>>>> documentation-devel
||||||| d28b18c
   "id": "6c87753d",
=======
   "id": "1af9a2d0",
>>>>>>> documentation-devel
||||||| 6893f63
<<<<<<< HEAD
   "id": "e9af4617",
||||||| 6a30bf1
   "id": "11525d91",
=======
   "id": "6c87753d",
>>>>>>> documentation-devel
=======
   "id": "4f85213e",
>>>>>>> c74c98c2450c2a1ba922ed9442f136238d6bc88b
||||||| 6d93b645
   "id": "1af9a2d0",
=======
   "id": "4bc265bb",
>>>>>>> documentation-devel
||||||| 804edffb
<<<<<<< HEAD
<<<<<<< HEAD
<<<<<<< HEAD
   "id": "e9af4617",
||||||| 6a30bf1
   "id": "11525d91",
=======
   "id": "6c87753d",
>>>>>>> documentation-devel
||||||| d28b18c
   "id": "6c87753d",
=======
   "id": "1af9a2d0",
>>>>>>> documentation-devel
||||||| 6893f63
<<<<<<< HEAD
   "id": "e9af4617",
||||||| 6a30bf1
   "id": "11525d91",
=======
   "id": "6c87753d",
>>>>>>> documentation-devel
=======
   "id": "4f85213e",
>>>>>>> c74c98c2450c2a1ba922ed9442f136238d6bc88b
=======
   "id": "bf70cb5b",
>>>>>>> 035bb2637984ead2784fecff78c0c60cc4181202
||||||| 3effdfa5
   "id": "4bc265bb",
=======
   "id": "70652bc5",
>>>>>>> documentation-devel
||||||| 96c826da
<<<<<<< HEAD
<<<<<<< HEAD
<<<<<<< HEAD
<<<<<<< HEAD
<<<<<<< HEAD
   "id": "e9af4617",
||||||| 6a30bf1
   "id": "11525d91",
=======
   "id": "6c87753d",
>>>>>>> documentation-devel
||||||| d28b18c
   "id": "6c87753d",
=======
   "id": "1af9a2d0",
>>>>>>> documentation-devel
||||||| 6893f63
<<<<<<< HEAD
   "id": "e9af4617",
||||||| 6a30bf1
   "id": "11525d91",
=======
   "id": "6c87753d",
>>>>>>> documentation-devel
=======
   "id": "4f85213e",
>>>>>>> c74c98c2450c2a1ba922ed9442f136238d6bc88b
||||||| 6d93b645
   "id": "1af9a2d0",
=======
   "id": "4bc265bb",
>>>>>>> documentation-devel
||||||| 804edffb
<<<<<<< HEAD
<<<<<<< HEAD
<<<<<<< HEAD
   "id": "e9af4617",
||||||| 6a30bf1
   "id": "11525d91",
=======
   "id": "6c87753d",
>>>>>>> documentation-devel
||||||| d28b18c
   "id": "6c87753d",
=======
   "id": "1af9a2d0",
>>>>>>> documentation-devel
||||||| 6893f63
<<<<<<< HEAD
   "id": "e9af4617",
||||||| 6a30bf1
   "id": "11525d91",
=======
   "id": "6c87753d",
>>>>>>> documentation-devel
=======
   "id": "4f85213e",
>>>>>>> c74c98c2450c2a1ba922ed9442f136238d6bc88b
=======
   "id": "bf70cb5b",
>>>>>>> 035bb2637984ead2784fecff78c0c60cc4181202
=======
   "id": "78a2a731",
>>>>>>> 619c01f26351d57ac14d974b7af136ac5756103f
   "metadata": {
    "lines_to_next_cell": 0
   },
   "source": [
    "This gives a spatially informed correlation matrix among the genes, which can be plotted as a heatmap:"
   ]
  },
  {
   "cell_type": "code",
   "execution_count": null,
<<<<<<< HEAD
<<<<<<< HEAD
<<<<<<< HEAD
<<<<<<< HEAD
<<<<<<< HEAD
<<<<<<< HEAD
<<<<<<< HEAD
   "id": "c745e716",
||||||| 6a30bf1
   "id": "1f9240a7",
=======
   "id": "66724b81",
>>>>>>> documentation-devel
||||||| d28b18c
   "id": "66724b81",
=======
   "id": "540ad1f5",
>>>>>>> documentation-devel
||||||| 6893f63
<<<<<<< HEAD
   "id": "c745e716",
||||||| 6a30bf1
   "id": "1f9240a7",
=======
   "id": "66724b81",
>>>>>>> documentation-devel
=======
   "id": "73151157",
>>>>>>> c74c98c2450c2a1ba922ed9442f136238d6bc88b
||||||| 6d93b645
   "id": "540ad1f5",
=======
   "id": "d25743fe",
>>>>>>> documentation-devel
||||||| 804edffb
<<<<<<< HEAD
<<<<<<< HEAD
<<<<<<< HEAD
   "id": "c745e716",
||||||| 6a30bf1
   "id": "1f9240a7",
=======
   "id": "66724b81",
>>>>>>> documentation-devel
||||||| d28b18c
   "id": "66724b81",
=======
   "id": "540ad1f5",
>>>>>>> documentation-devel
||||||| 6893f63
<<<<<<< HEAD
   "id": "c745e716",
||||||| 6a30bf1
   "id": "1f9240a7",
=======
   "id": "66724b81",
>>>>>>> documentation-devel
=======
   "id": "73151157",
>>>>>>> c74c98c2450c2a1ba922ed9442f136238d6bc88b
=======
   "id": "950aa684",
>>>>>>> 035bb2637984ead2784fecff78c0c60cc4181202
||||||| 3effdfa5
   "id": "d25743fe",
=======
   "id": "fcf3e629",
>>>>>>> documentation-devel
||||||| 96c826da
<<<<<<< HEAD
<<<<<<< HEAD
<<<<<<< HEAD
<<<<<<< HEAD
<<<<<<< HEAD
   "id": "c745e716",
||||||| 6a30bf1
   "id": "1f9240a7",
=======
   "id": "66724b81",
>>>>>>> documentation-devel
||||||| d28b18c
   "id": "66724b81",
=======
   "id": "540ad1f5",
>>>>>>> documentation-devel
||||||| 6893f63
<<<<<<< HEAD
   "id": "c745e716",
||||||| 6a30bf1
   "id": "1f9240a7",
=======
   "id": "66724b81",
>>>>>>> documentation-devel
=======
   "id": "73151157",
>>>>>>> c74c98c2450c2a1ba922ed9442f136238d6bc88b
||||||| 6d93b645
   "id": "540ad1f5",
=======
   "id": "d25743fe",
>>>>>>> documentation-devel
||||||| 804edffb
<<<<<<< HEAD
<<<<<<< HEAD
<<<<<<< HEAD
   "id": "c745e716",
||||||| 6a30bf1
   "id": "1f9240a7",
=======
   "id": "66724b81",
>>>>>>> documentation-devel
||||||| d28b18c
   "id": "66724b81",
=======
   "id": "540ad1f5",
>>>>>>> documentation-devel
||||||| 6893f63
<<<<<<< HEAD
   "id": "c745e716",
||||||| 6a30bf1
   "id": "1f9240a7",
=======
   "id": "66724b81",
>>>>>>> documentation-devel
=======
   "id": "73151157",
>>>>>>> c74c98c2450c2a1ba922ed9442f136238d6bc88b
=======
   "id": "950aa684",
>>>>>>> 035bb2637984ead2784fecff78c0c60cc4181202
=======
   "id": "79778943",
>>>>>>> 619c01f26351d57ac14d974b7af136ac5756103f
   "metadata": {},
   "outputs": [],
   "source": [
    "pal_rng <- getDivergeRange(res)\n",
    "pal <- scico(256, begin = pal_rng[1], end = pal_rng[2], palette = \"vik\")"
   ]
  },
  {
   "cell_type": "code",
   "execution_count": null,
<<<<<<< HEAD
<<<<<<< HEAD
<<<<<<< HEAD
<<<<<<< HEAD
<<<<<<< HEAD
<<<<<<< HEAD
<<<<<<< HEAD
   "id": "6f81f292",
||||||| 6a30bf1
   "id": "4b681927",
=======
   "id": "62ea0c98",
>>>>>>> documentation-devel
||||||| d28b18c
   "id": "62ea0c98",
=======
   "id": "17978c1a",
>>>>>>> documentation-devel
||||||| 6893f63
<<<<<<< HEAD
   "id": "6f81f292",
||||||| 6a30bf1
   "id": "4b681927",
=======
   "id": "62ea0c98",
>>>>>>> documentation-devel
=======
   "id": "59ad4b34",
>>>>>>> c74c98c2450c2a1ba922ed9442f136238d6bc88b
||||||| 6d93b645
   "id": "17978c1a",
=======
   "id": "0fdcba4a",
>>>>>>> documentation-devel
||||||| 804edffb
<<<<<<< HEAD
<<<<<<< HEAD
<<<<<<< HEAD
   "id": "6f81f292",
||||||| 6a30bf1
   "id": "4b681927",
=======
   "id": "62ea0c98",
>>>>>>> documentation-devel
||||||| d28b18c
   "id": "62ea0c98",
=======
   "id": "17978c1a",
>>>>>>> documentation-devel
||||||| 6893f63
<<<<<<< HEAD
   "id": "6f81f292",
||||||| 6a30bf1
   "id": "4b681927",
=======
   "id": "62ea0c98",
>>>>>>> documentation-devel
=======
   "id": "59ad4b34",
>>>>>>> c74c98c2450c2a1ba922ed9442f136238d6bc88b
=======
   "id": "1930e326",
>>>>>>> 035bb2637984ead2784fecff78c0c60cc4181202
||||||| 3effdfa5
   "id": "0fdcba4a",
=======
   "id": "509263ea",
>>>>>>> documentation-devel
||||||| 96c826da
<<<<<<< HEAD
<<<<<<< HEAD
<<<<<<< HEAD
<<<<<<< HEAD
<<<<<<< HEAD
   "id": "6f81f292",
||||||| 6a30bf1
   "id": "4b681927",
=======
   "id": "62ea0c98",
>>>>>>> documentation-devel
||||||| d28b18c
   "id": "62ea0c98",
=======
   "id": "17978c1a",
>>>>>>> documentation-devel
||||||| 6893f63
<<<<<<< HEAD
   "id": "6f81f292",
||||||| 6a30bf1
   "id": "4b681927",
=======
   "id": "62ea0c98",
>>>>>>> documentation-devel
=======
   "id": "59ad4b34",
>>>>>>> c74c98c2450c2a1ba922ed9442f136238d6bc88b
||||||| 6d93b645
   "id": "17978c1a",
=======
   "id": "0fdcba4a",
>>>>>>> documentation-devel
||||||| 804edffb
<<<<<<< HEAD
<<<<<<< HEAD
<<<<<<< HEAD
   "id": "6f81f292",
||||||| 6a30bf1
   "id": "4b681927",
=======
   "id": "62ea0c98",
>>>>>>> documentation-devel
||||||| d28b18c
   "id": "62ea0c98",
=======
   "id": "17978c1a",
>>>>>>> documentation-devel
||||||| 6893f63
<<<<<<< HEAD
   "id": "6f81f292",
||||||| 6a30bf1
   "id": "4b681927",
=======
   "id": "62ea0c98",
>>>>>>> documentation-devel
=======
   "id": "59ad4b34",
>>>>>>> c74c98c2450c2a1ba922ed9442f136238d6bc88b
=======
   "id": "1930e326",
>>>>>>> 035bb2637984ead2784fecff78c0c60cc4181202
=======
   "id": "1b76b08e",
>>>>>>> 619c01f26351d57ac14d974b7af136ac5756103f
   "metadata": {
    "fig.height": 6,
    "fig.width": 6
   },
   "outputs": [],
   "source": [
    "pheatmap(res, color = pal, show_rownames = FALSE, \n",
    "         show_colnames = FALSE, cellwidth = 1, cellheight = 1)"
   ]
  },
  {
   "cell_type": "markdown",
<<<<<<< HEAD
<<<<<<< HEAD
<<<<<<< HEAD
<<<<<<< HEAD
<<<<<<< HEAD
<<<<<<< HEAD
<<<<<<< HEAD
   "id": "07de8839",
||||||| 6a30bf1
   "id": "f856c77d",
=======
   "id": "6f36e76e",
>>>>>>> documentation-devel
||||||| d28b18c
   "id": "6f36e76e",
=======
   "id": "75e2eea9",
>>>>>>> documentation-devel
||||||| 6893f63
<<<<<<< HEAD
   "id": "07de8839",
||||||| 6a30bf1
   "id": "f856c77d",
=======
   "id": "6f36e76e",
>>>>>>> documentation-devel
=======
   "id": "e6782efb",
>>>>>>> c74c98c2450c2a1ba922ed9442f136238d6bc88b
||||||| 6d93b645
   "id": "75e2eea9",
=======
   "id": "da4343cf",
>>>>>>> documentation-devel
||||||| 804edffb
<<<<<<< HEAD
<<<<<<< HEAD
<<<<<<< HEAD
   "id": "07de8839",
||||||| 6a30bf1
   "id": "f856c77d",
=======
   "id": "6f36e76e",
>>>>>>> documentation-devel
||||||| d28b18c
   "id": "6f36e76e",
=======
   "id": "75e2eea9",
>>>>>>> documentation-devel
||||||| 6893f63
<<<<<<< HEAD
   "id": "07de8839",
||||||| 6a30bf1
   "id": "f856c77d",
=======
   "id": "6f36e76e",
>>>>>>> documentation-devel
=======
   "id": "e6782efb",
>>>>>>> c74c98c2450c2a1ba922ed9442f136238d6bc88b
=======
   "id": "69317f73",
>>>>>>> 035bb2637984ead2784fecff78c0c60cc4181202
||||||| 3effdfa5
   "id": "da4343cf",
=======
   "id": "ac84ddda",
>>>>>>> documentation-devel
||||||| 96c826da
<<<<<<< HEAD
<<<<<<< HEAD
<<<<<<< HEAD
<<<<<<< HEAD
<<<<<<< HEAD
   "id": "07de8839",
||||||| 6a30bf1
   "id": "f856c77d",
=======
   "id": "6f36e76e",
>>>>>>> documentation-devel
||||||| d28b18c
   "id": "6f36e76e",
=======
   "id": "75e2eea9",
>>>>>>> documentation-devel
||||||| 6893f63
<<<<<<< HEAD
   "id": "07de8839",
||||||| 6a30bf1
   "id": "f856c77d",
=======
   "id": "6f36e76e",
>>>>>>> documentation-devel
=======
   "id": "e6782efb",
>>>>>>> c74c98c2450c2a1ba922ed9442f136238d6bc88b
||||||| 6d93b645
   "id": "75e2eea9",
=======
   "id": "da4343cf",
>>>>>>> documentation-devel
||||||| 804edffb
<<<<<<< HEAD
<<<<<<< HEAD
<<<<<<< HEAD
   "id": "07de8839",
||||||| 6a30bf1
   "id": "f856c77d",
=======
   "id": "6f36e76e",
>>>>>>> documentation-devel
||||||| d28b18c
   "id": "6f36e76e",
=======
   "id": "75e2eea9",
>>>>>>> documentation-devel
||||||| 6893f63
<<<<<<< HEAD
   "id": "07de8839",
||||||| 6a30bf1
   "id": "f856c77d",
=======
   "id": "6f36e76e",
>>>>>>> documentation-devel
=======
   "id": "e6782efb",
>>>>>>> c74c98c2450c2a1ba922ed9442f136238d6bc88b
=======
   "id": "69317f73",
>>>>>>> 035bb2637984ead2784fecff78c0c60cc4181202
=======
   "id": "8241a92b",
>>>>>>> 619c01f26351d57ac14d974b7af136ac5756103f
   "metadata": {
    "lines_to_next_cell": 0
   },
   "source": [
    "Some coexpression blocks can be seen. Note that unlike in Pearson correlation, the diagonal is not 1, because\n",
    "\n",
    "$$\n",
    "L_{X,X} = \\frac{\\sum_i (\\tilde x_i - \\bar x)^2}{\\sum_i (x_i - \\bar x)^2} = \\mathrm{SSS}_X,\n",
    "$$\n",
    "\n",
    "which is approximated the ratio between the variance of spatially lagged $x$ and variance of $x$. Because the spatial lag introduces smoothing, the spatial lag reduced variance, making the diagonal less than 1. This is the spatial smoothing scalar (SSS), and Moran's I is approximately Pearson correlation between $X$ and spatially lagged $X$ ($\\tilde X$) multiplied by SSS:\n",
    "\n",
    "$$\n",
    "I \\approx \\mathrm{SSS}_X \\cdot \\rho_{X, \\tilde X}\n",
    "$$\n",
    "\n",
    "Similarly for Lee's L, as shown in [@Lee2001-tm],\n",
    "\n",
    "$$\n",
    "L_{X, Y} = \\sqrt{\\mathrm{SSS}_X}\\sqrt{\\mathrm{SSS}_Y} \\cdot \\rho_{\\tilde X, \\tilde Y}\n",
    "$$\n",
    "\n",
    "With more spatial clustering, the variance is less reduced by the spatial lag, leading to a larger SSS. Hence when both $X$ and $Y$ are spatially distributed like salt and pepper while strongly correlated, Lee's L will be low because the lack of spatial autocorrelation leads to a small SSS. \n",
    "\n",
    "Weighted correlation network analysis (WGCNA) [@Langfelder2008-fs] is a time honored method to find gene co-expression modules, and it can take any correlation matrix. Then it would be interesting to apply WGCNA to the Lee's L matrix to identify spatially informed gene co-expression modules.\n",
    "\n",
    "# Local Lee\n",
    "\n",
    "Local Lee's L [@Lee2001-tm] is defined as\n",
    "\n",
    "$$\n",
    "L_i = \\frac{n\\left[ \\sum_{j=1}^n w_{ij}  (x_j - \\bar{x}) \\right] \\left[ \\sum_{j=1}^n w_{ij} (y_j - \\bar{y}) \\right]}{\\sqrt{\\sum_{i=1}^n (x_i - \\bar{x})^2}\\sqrt{\\sum_{i=1}^n (y_i - \\bar{y})^2} }\n",
    "$$\n",
    "\n",
    "Compare this to the global L in the previous section. Local L does not sum over the locations $i$. This is the contribution of each location to global L and can show spatial heterogeneity in the relationship between two variables. \n",
    "\n",
    "All bivariate local methods in `Voyager` is listed here:"
   ]
  },
  {
   "cell_type": "code",
   "execution_count": null,
<<<<<<< HEAD
<<<<<<< HEAD
<<<<<<< HEAD
<<<<<<< HEAD
<<<<<<< HEAD
<<<<<<< HEAD
<<<<<<< HEAD
   "id": "ed0b3535",
||||||| 6a30bf1
   "id": "8cb7dd69",
=======
   "id": "d3f44c58",
>>>>>>> documentation-devel
||||||| d28b18c
   "id": "d3f44c58",
=======
   "id": "6e98cba6",
>>>>>>> documentation-devel
||||||| 6893f63
<<<<<<< HEAD
   "id": "ed0b3535",
||||||| 6a30bf1
   "id": "8cb7dd69",
=======
   "id": "d3f44c58",
>>>>>>> documentation-devel
=======
   "id": "38a66ceb",
>>>>>>> c74c98c2450c2a1ba922ed9442f136238d6bc88b
||||||| 6d93b645
   "id": "6e98cba6",
=======
   "id": "a7fc176f",
>>>>>>> documentation-devel
||||||| 804edffb
<<<<<<< HEAD
<<<<<<< HEAD
<<<<<<< HEAD
   "id": "ed0b3535",
||||||| 6a30bf1
   "id": "8cb7dd69",
=======
   "id": "d3f44c58",
>>>>>>> documentation-devel
||||||| d28b18c
   "id": "d3f44c58",
=======
   "id": "6e98cba6",
>>>>>>> documentation-devel
||||||| 6893f63
<<<<<<< HEAD
   "id": "ed0b3535",
||||||| 6a30bf1
   "id": "8cb7dd69",
=======
   "id": "d3f44c58",
>>>>>>> documentation-devel
=======
   "id": "38a66ceb",
>>>>>>> c74c98c2450c2a1ba922ed9442f136238d6bc88b
=======
   "id": "1475cb0d",
>>>>>>> 035bb2637984ead2784fecff78c0c60cc4181202
||||||| 3effdfa5
   "id": "a7fc176f",
=======
   "id": "a1e4e6f1",
>>>>>>> documentation-devel
||||||| 96c826da
<<<<<<< HEAD
<<<<<<< HEAD
<<<<<<< HEAD
<<<<<<< HEAD
<<<<<<< HEAD
   "id": "ed0b3535",
||||||| 6a30bf1
   "id": "8cb7dd69",
=======
   "id": "d3f44c58",
>>>>>>> documentation-devel
||||||| d28b18c
   "id": "d3f44c58",
=======
   "id": "6e98cba6",
>>>>>>> documentation-devel
||||||| 6893f63
<<<<<<< HEAD
   "id": "ed0b3535",
||||||| 6a30bf1
   "id": "8cb7dd69",
=======
   "id": "d3f44c58",
>>>>>>> documentation-devel
=======
   "id": "38a66ceb",
>>>>>>> c74c98c2450c2a1ba922ed9442f136238d6bc88b
||||||| 6d93b645
   "id": "6e98cba6",
=======
   "id": "a7fc176f",
>>>>>>> documentation-devel
||||||| 804edffb
<<<<<<< HEAD
<<<<<<< HEAD
<<<<<<< HEAD
   "id": "ed0b3535",
||||||| 6a30bf1
   "id": "8cb7dd69",
=======
   "id": "d3f44c58",
>>>>>>> documentation-devel
||||||| d28b18c
   "id": "d3f44c58",
=======
   "id": "6e98cba6",
>>>>>>> documentation-devel
||||||| 6893f63
<<<<<<< HEAD
   "id": "ed0b3535",
||||||| 6a30bf1
   "id": "8cb7dd69",
=======
   "id": "d3f44c58",
>>>>>>> documentation-devel
=======
   "id": "38a66ceb",
>>>>>>> c74c98c2450c2a1ba922ed9442f136238d6bc88b
=======
   "id": "1475cb0d",
>>>>>>> 035bb2637984ead2784fecff78c0c60cc4181202
=======
   "id": "6989f9fb",
>>>>>>> 619c01f26351d57ac14d974b7af136ac5756103f
   "metadata": {},
   "outputs": [],
   "source": [
    "listSFEMethods(\"bi\", \"local\")"
   ]
  },
  {
   "cell_type": "markdown",
<<<<<<< HEAD
<<<<<<< HEAD
<<<<<<< HEAD
<<<<<<< HEAD
<<<<<<< HEAD
<<<<<<< HEAD
<<<<<<< HEAD
   "id": "dc45de3f",
||||||| 6a30bf1
   "id": "bd0dd091",
=======
   "id": "47eade21",
>>>>>>> documentation-devel
||||||| d28b18c
   "id": "47eade21",
=======
   "id": "84b42837",
>>>>>>> documentation-devel
||||||| 6893f63
<<<<<<< HEAD
   "id": "dc45de3f",
||||||| 6a30bf1
   "id": "bd0dd091",
=======
   "id": "47eade21",
>>>>>>> documentation-devel
=======
   "id": "67420ce8",
>>>>>>> c74c98c2450c2a1ba922ed9442f136238d6bc88b
||||||| 6d93b645
   "id": "84b42837",
=======
   "id": "5782c837",
>>>>>>> documentation-devel
||||||| 804edffb
<<<<<<< HEAD
<<<<<<< HEAD
<<<<<<< HEAD
   "id": "dc45de3f",
||||||| 6a30bf1
   "id": "bd0dd091",
=======
   "id": "47eade21",
>>>>>>> documentation-devel
||||||| d28b18c
   "id": "47eade21",
=======
   "id": "84b42837",
>>>>>>> documentation-devel
||||||| 6893f63
<<<<<<< HEAD
   "id": "dc45de3f",
||||||| 6a30bf1
   "id": "bd0dd091",
=======
   "id": "47eade21",
>>>>>>> documentation-devel
=======
   "id": "67420ce8",
>>>>>>> c74c98c2450c2a1ba922ed9442f136238d6bc88b
=======
   "id": "b70be28b",
>>>>>>> 035bb2637984ead2784fecff78c0c60cc4181202
||||||| 3effdfa5
   "id": "5782c837",
=======
   "id": "044c95d7",
>>>>>>> documentation-devel
||||||| 96c826da
<<<<<<< HEAD
<<<<<<< HEAD
<<<<<<< HEAD
<<<<<<< HEAD
<<<<<<< HEAD
   "id": "dc45de3f",
||||||| 6a30bf1
   "id": "bd0dd091",
=======
   "id": "47eade21",
>>>>>>> documentation-devel
||||||| d28b18c
   "id": "47eade21",
=======
   "id": "84b42837",
>>>>>>> documentation-devel
||||||| 6893f63
<<<<<<< HEAD
   "id": "dc45de3f",
||||||| 6a30bf1
   "id": "bd0dd091",
=======
   "id": "47eade21",
>>>>>>> documentation-devel
=======
   "id": "67420ce8",
>>>>>>> c74c98c2450c2a1ba922ed9442f136238d6bc88b
||||||| 6d93b645
   "id": "84b42837",
=======
   "id": "5782c837",
>>>>>>> documentation-devel
||||||| 804edffb
<<<<<<< HEAD
<<<<<<< HEAD
<<<<<<< HEAD
   "id": "dc45de3f",
||||||| 6a30bf1
   "id": "bd0dd091",
=======
   "id": "47eade21",
>>>>>>> documentation-devel
||||||| d28b18c
   "id": "47eade21",
=======
   "id": "84b42837",
>>>>>>> documentation-devel
||||||| 6893f63
<<<<<<< HEAD
   "id": "dc45de3f",
||||||| 6a30bf1
   "id": "bd0dd091",
=======
   "id": "47eade21",
>>>>>>> documentation-devel
=======
   "id": "67420ce8",
>>>>>>> c74c98c2450c2a1ba922ed9442f136238d6bc88b
=======
   "id": "b70be28b",
>>>>>>> 035bb2637984ead2784fecff78c0c60cc4181202
=======
   "id": "6ffac6e5",
>>>>>>> 619c01f26351d57ac14d974b7af136ac5756103f
   "metadata": {},
   "source": [
    "Here we compute local L for two myofiber marker genes and one gene highly expressed in the injury site:"
   ]
  },
  {
   "cell_type": "code",
   "execution_count": null,
<<<<<<< HEAD
<<<<<<< HEAD
<<<<<<< HEAD
<<<<<<< HEAD
<<<<<<< HEAD
<<<<<<< HEAD
<<<<<<< HEAD
   "id": "2e63e2c4",
||||||| 6a30bf1
   "id": "d1e7828f",
=======
   "id": "0d4ffac2",
>>>>>>> documentation-devel
||||||| d28b18c
   "id": "0d4ffac2",
=======
   "id": "2180345e",
>>>>>>> documentation-devel
||||||| 6893f63
<<<<<<< HEAD
   "id": "2e63e2c4",
||||||| 6a30bf1
   "id": "d1e7828f",
=======
   "id": "0d4ffac2",
>>>>>>> documentation-devel
=======
   "id": "cc8b66a7",
>>>>>>> c74c98c2450c2a1ba922ed9442f136238d6bc88b
||||||| 6d93b645
   "id": "2180345e",
=======
   "id": "82c8c894",
>>>>>>> documentation-devel
||||||| 804edffb
<<<<<<< HEAD
<<<<<<< HEAD
<<<<<<< HEAD
   "id": "2e63e2c4",
||||||| 6a30bf1
   "id": "d1e7828f",
=======
   "id": "0d4ffac2",
>>>>>>> documentation-devel
||||||| d28b18c
   "id": "0d4ffac2",
=======
   "id": "2180345e",
>>>>>>> documentation-devel
||||||| 6893f63
<<<<<<< HEAD
   "id": "2e63e2c4",
||||||| 6a30bf1
   "id": "d1e7828f",
=======
   "id": "0d4ffac2",
>>>>>>> documentation-devel
=======
   "id": "cc8b66a7",
>>>>>>> c74c98c2450c2a1ba922ed9442f136238d6bc88b
=======
   "id": "2abd7703",
>>>>>>> 035bb2637984ead2784fecff78c0c60cc4181202
||||||| 3effdfa5
   "id": "82c8c894",
=======
   "id": "2b51d362",
>>>>>>> documentation-devel
||||||| 96c826da
<<<<<<< HEAD
<<<<<<< HEAD
<<<<<<< HEAD
<<<<<<< HEAD
<<<<<<< HEAD
   "id": "2e63e2c4",
||||||| 6a30bf1
   "id": "d1e7828f",
=======
   "id": "0d4ffac2",
>>>>>>> documentation-devel
||||||| d28b18c
   "id": "0d4ffac2",
=======
   "id": "2180345e",
>>>>>>> documentation-devel
||||||| 6893f63
<<<<<<< HEAD
   "id": "2e63e2c4",
||||||| 6a30bf1
   "id": "d1e7828f",
=======
   "id": "0d4ffac2",
>>>>>>> documentation-devel
=======
   "id": "cc8b66a7",
>>>>>>> c74c98c2450c2a1ba922ed9442f136238d6bc88b
||||||| 6d93b645
   "id": "2180345e",
=======
   "id": "82c8c894",
>>>>>>> documentation-devel
||||||| 804edffb
<<<<<<< HEAD
<<<<<<< HEAD
<<<<<<< HEAD
   "id": "2e63e2c4",
||||||| 6a30bf1
   "id": "d1e7828f",
=======
   "id": "0d4ffac2",
>>>>>>> documentation-devel
||||||| d28b18c
   "id": "0d4ffac2",
=======
   "id": "2180345e",
>>>>>>> documentation-devel
||||||| 6893f63
<<<<<<< HEAD
   "id": "2e63e2c4",
||||||| 6a30bf1
   "id": "d1e7828f",
=======
   "id": "0d4ffac2",
>>>>>>> documentation-devel
=======
   "id": "cc8b66a7",
>>>>>>> c74c98c2450c2a1ba922ed9442f136238d6bc88b
=======
   "id": "2abd7703",
>>>>>>> 035bb2637984ead2784fecff78c0c60cc4181202
=======
   "id": "eaa94983",
>>>>>>> 619c01f26351d57ac14d974b7af136ac5756103f
   "metadata": {},
   "outputs": [],
   "source": [
    "sfe_tissue <- runBivariate(sfe_tissue, \"locallee\", swap_rownames = \"symbol\",\n",
    "                           feature1 = c(\"Myh2\", \"Myh1\", \"Ftl1\"))"
   ]
  },
  {
   "cell_type": "markdown",
<<<<<<< HEAD
<<<<<<< HEAD
<<<<<<< HEAD
<<<<<<< HEAD
<<<<<<< HEAD
<<<<<<< HEAD
<<<<<<< HEAD
   "id": "33889a1d",
||||||| 6a30bf1
   "id": "504135a7",
=======
   "id": "446988ed",
>>>>>>> documentation-devel
||||||| d28b18c
   "id": "446988ed",
=======
   "id": "6e537476",
>>>>>>> documentation-devel
||||||| 6893f63
<<<<<<< HEAD
   "id": "33889a1d",
||||||| 6a30bf1
   "id": "504135a7",
=======
   "id": "446988ed",
>>>>>>> documentation-devel
=======
   "id": "3219618b",
>>>>>>> c74c98c2450c2a1ba922ed9442f136238d6bc88b
||||||| 6d93b645
   "id": "6e537476",
=======
   "id": "7fa0c9db",
>>>>>>> documentation-devel
||||||| 804edffb
<<<<<<< HEAD
<<<<<<< HEAD
<<<<<<< HEAD
   "id": "33889a1d",
||||||| 6a30bf1
   "id": "504135a7",
=======
   "id": "446988ed",
>>>>>>> documentation-devel
||||||| d28b18c
   "id": "446988ed",
=======
   "id": "6e537476",
>>>>>>> documentation-devel
||||||| 6893f63
<<<<<<< HEAD
   "id": "33889a1d",
||||||| 6a30bf1
   "id": "504135a7",
=======
   "id": "446988ed",
>>>>>>> documentation-devel
=======
   "id": "3219618b",
>>>>>>> c74c98c2450c2a1ba922ed9442f136238d6bc88b
=======
   "id": "948bc653",
>>>>>>> 035bb2637984ead2784fecff78c0c60cc4181202
||||||| 3effdfa5
   "id": "7fa0c9db",
=======
   "id": "2ab9a305",
>>>>>>> documentation-devel
||||||| 96c826da
<<<<<<< HEAD
<<<<<<< HEAD
<<<<<<< HEAD
<<<<<<< HEAD
<<<<<<< HEAD
   "id": "33889a1d",
||||||| 6a30bf1
   "id": "504135a7",
=======
   "id": "446988ed",
>>>>>>> documentation-devel
||||||| d28b18c
   "id": "446988ed",
=======
   "id": "6e537476",
>>>>>>> documentation-devel
||||||| 6893f63
<<<<<<< HEAD
   "id": "33889a1d",
||||||| 6a30bf1
   "id": "504135a7",
=======
   "id": "446988ed",
>>>>>>> documentation-devel
=======
   "id": "3219618b",
>>>>>>> c74c98c2450c2a1ba922ed9442f136238d6bc88b
||||||| 6d93b645
   "id": "6e537476",
=======
   "id": "7fa0c9db",
>>>>>>> documentation-devel
||||||| 804edffb
<<<<<<< HEAD
<<<<<<< HEAD
<<<<<<< HEAD
   "id": "33889a1d",
||||||| 6a30bf1
   "id": "504135a7",
=======
   "id": "446988ed",
>>>>>>> documentation-devel
||||||| d28b18c
   "id": "446988ed",
=======
   "id": "6e537476",
>>>>>>> documentation-devel
||||||| 6893f63
<<<<<<< HEAD
   "id": "33889a1d",
||||||| 6a30bf1
   "id": "504135a7",
=======
   "id": "446988ed",
>>>>>>> documentation-devel
=======
   "id": "3219618b",
>>>>>>> c74c98c2450c2a1ba922ed9442f136238d6bc88b
=======
   "id": "948bc653",
>>>>>>> 035bb2637984ead2784fecff78c0c60cc4181202
=======
   "id": "03ca329e",
>>>>>>> 619c01f26351d57ac14d974b7af136ac5756103f
   "metadata": {},
   "source": [
    "Bivariate local results are stored in the `localResults` field and the feature names are the pairwise combinations of features supplied. When only `feature1` is specified, then the bivariate method is applied to all pairwise combinations of `feature1`. "
   ]
  },
  {
   "cell_type": "code",
   "execution_count": null,
<<<<<<< HEAD
<<<<<<< HEAD
<<<<<<< HEAD
<<<<<<< HEAD
<<<<<<< HEAD
<<<<<<< HEAD
<<<<<<< HEAD
   "id": "97c3cb78",
||||||| 6a30bf1
   "id": "58b53945",
=======
   "id": "84d1e26a",
>>>>>>> documentation-devel
||||||| d28b18c
   "id": "84d1e26a",
=======
   "id": "5cb89698",
>>>>>>> documentation-devel
||||||| 6893f63
<<<<<<< HEAD
   "id": "97c3cb78",
||||||| 6a30bf1
   "id": "58b53945",
=======
   "id": "84d1e26a",
>>>>>>> documentation-devel
=======
   "id": "f4363682",
>>>>>>> c74c98c2450c2a1ba922ed9442f136238d6bc88b
||||||| 6d93b645
   "id": "5cb89698",
=======
   "id": "fa69dbd4",
>>>>>>> documentation-devel
||||||| 804edffb
<<<<<<< HEAD
<<<<<<< HEAD
<<<<<<< HEAD
   "id": "97c3cb78",
||||||| 6a30bf1
   "id": "58b53945",
=======
   "id": "84d1e26a",
>>>>>>> documentation-devel
||||||| d28b18c
   "id": "84d1e26a",
=======
   "id": "5cb89698",
>>>>>>> documentation-devel
||||||| 6893f63
<<<<<<< HEAD
   "id": "97c3cb78",
||||||| 6a30bf1
   "id": "58b53945",
=======
   "id": "84d1e26a",
>>>>>>> documentation-devel
=======
   "id": "f4363682",
>>>>>>> c74c98c2450c2a1ba922ed9442f136238d6bc88b
=======
   "id": "c915a966",
>>>>>>> 035bb2637984ead2784fecff78c0c60cc4181202
||||||| 3effdfa5
   "id": "fa69dbd4",
=======
   "id": "886755bd",
>>>>>>> documentation-devel
||||||| 96c826da
<<<<<<< HEAD
<<<<<<< HEAD
<<<<<<< HEAD
<<<<<<< HEAD
<<<<<<< HEAD
   "id": "97c3cb78",
||||||| 6a30bf1
   "id": "58b53945",
=======
   "id": "84d1e26a",
>>>>>>> documentation-devel
||||||| d28b18c
   "id": "84d1e26a",
=======
   "id": "5cb89698",
>>>>>>> documentation-devel
||||||| 6893f63
<<<<<<< HEAD
   "id": "97c3cb78",
||||||| 6a30bf1
   "id": "58b53945",
=======
   "id": "84d1e26a",
>>>>>>> documentation-devel
=======
   "id": "f4363682",
>>>>>>> c74c98c2450c2a1ba922ed9442f136238d6bc88b
||||||| 6d93b645
   "id": "5cb89698",
=======
   "id": "fa69dbd4",
>>>>>>> documentation-devel
||||||| 804edffb
<<<<<<< HEAD
<<<<<<< HEAD
<<<<<<< HEAD
   "id": "97c3cb78",
||||||| 6a30bf1
   "id": "58b53945",
=======
   "id": "84d1e26a",
>>>>>>> documentation-devel
||||||| d28b18c
   "id": "84d1e26a",
=======
   "id": "5cb89698",
>>>>>>> documentation-devel
||||||| 6893f63
<<<<<<< HEAD
   "id": "97c3cb78",
||||||| 6a30bf1
   "id": "58b53945",
=======
   "id": "84d1e26a",
>>>>>>> documentation-devel
=======
   "id": "f4363682",
>>>>>>> c74c98c2450c2a1ba922ed9442f136238d6bc88b
=======
   "id": "c915a966",
>>>>>>> 035bb2637984ead2784fecff78c0c60cc4181202
=======
   "id": "a9015d34",
>>>>>>> 619c01f26351d57ac14d974b7af136ac5756103f
   "metadata": {},
   "outputs": [],
   "source": [
    "localResultFeatures(sfe_tissue, \"locallee\")"
   ]
  },
  {
   "cell_type": "markdown",
<<<<<<< HEAD
<<<<<<< HEAD
<<<<<<< HEAD
<<<<<<< HEAD
<<<<<<< HEAD
<<<<<<< HEAD
<<<<<<< HEAD
   "id": "22fbe248",
||||||| 6a30bf1
   "id": "23375aa9",
=======
   "id": "b879861d",
>>>>>>> documentation-devel
||||||| d28b18c
   "id": "b879861d",
=======
   "id": "25a944bb",
>>>>>>> documentation-devel
||||||| 6893f63
<<<<<<< HEAD
   "id": "22fbe248",
||||||| 6a30bf1
   "id": "23375aa9",
=======
   "id": "b879861d",
>>>>>>> documentation-devel
=======
   "id": "6e546245",
>>>>>>> c74c98c2450c2a1ba922ed9442f136238d6bc88b
||||||| 6d93b645
   "id": "25a944bb",
=======
   "id": "f8e0671f",
>>>>>>> documentation-devel
||||||| 804edffb
<<<<<<< HEAD
<<<<<<< HEAD
<<<<<<< HEAD
   "id": "22fbe248",
||||||| 6a30bf1
   "id": "23375aa9",
=======
   "id": "b879861d",
>>>>>>> documentation-devel
||||||| d28b18c
   "id": "b879861d",
=======
   "id": "25a944bb",
>>>>>>> documentation-devel
||||||| 6893f63
<<<<<<< HEAD
   "id": "22fbe248",
||||||| 6a30bf1
   "id": "23375aa9",
=======
   "id": "b879861d",
>>>>>>> documentation-devel
=======
   "id": "6e546245",
>>>>>>> c74c98c2450c2a1ba922ed9442f136238d6bc88b
=======
   "id": "ef15f4d8",
>>>>>>> 035bb2637984ead2784fecff78c0c60cc4181202
||||||| 3effdfa5
   "id": "f8e0671f",
=======
   "id": "addc2e78",
>>>>>>> documentation-devel
||||||| 96c826da
<<<<<<< HEAD
<<<<<<< HEAD
<<<<<<< HEAD
<<<<<<< HEAD
<<<<<<< HEAD
   "id": "22fbe248",
||||||| 6a30bf1
   "id": "23375aa9",
=======
   "id": "b879861d",
>>>>>>> documentation-devel
||||||| d28b18c
   "id": "b879861d",
=======
   "id": "25a944bb",
>>>>>>> documentation-devel
||||||| 6893f63
<<<<<<< HEAD
   "id": "22fbe248",
||||||| 6a30bf1
   "id": "23375aa9",
=======
   "id": "b879861d",
>>>>>>> documentation-devel
=======
   "id": "6e546245",
>>>>>>> c74c98c2450c2a1ba922ed9442f136238d6bc88b
||||||| 6d93b645
   "id": "25a944bb",
=======
   "id": "f8e0671f",
>>>>>>> documentation-devel
||||||| 804edffb
<<<<<<< HEAD
<<<<<<< HEAD
<<<<<<< HEAD
   "id": "22fbe248",
||||||| 6a30bf1
   "id": "23375aa9",
=======
   "id": "b879861d",
>>>>>>> documentation-devel
||||||| d28b18c
   "id": "b879861d",
=======
   "id": "25a944bb",
>>>>>>> documentation-devel
||||||| 6893f63
<<<<<<< HEAD
   "id": "22fbe248",
||||||| 6a30bf1
   "id": "23375aa9",
=======
   "id": "b879861d",
>>>>>>> documentation-devel
=======
   "id": "6e546245",
>>>>>>> c74c98c2450c2a1ba922ed9442f136238d6bc88b
=======
   "id": "ef15f4d8",
>>>>>>> 035bb2637984ead2784fecff78c0c60cc4181202
=======
   "id": "8f4164f9",
>>>>>>> 619c01f26351d57ac14d974b7af136ac5756103f
   "metadata": {
    "lines_to_next_cell": 0
   },
   "source": [
    "For Lee's L, both $L_{X,Y}$ and $L_{Y,X}$ are computed although they are the same. However, not all bivariate methods are symmetric (see next section). In the next release (Bioconductor 3.18), we may introduce another argument to indicate whether the method is symmetric and if so only compute $L_{X,Y}$ and not $L_{Y,X}$.\n",
    "\n",
    "First plot the three genes individually:"
   ]
  },
  {
   "cell_type": "code",
   "execution_count": null,
<<<<<<< HEAD
<<<<<<< HEAD
<<<<<<< HEAD
<<<<<<< HEAD
<<<<<<< HEAD
<<<<<<< HEAD
<<<<<<< HEAD
   "id": "11ec2724",
||||||| 6a30bf1
   "id": "e36e091a",
=======
   "id": "53280df3",
>>>>>>> documentation-devel
||||||| d28b18c
   "id": "53280df3",
=======
   "id": "9097d161",
>>>>>>> documentation-devel
||||||| 6893f63
<<<<<<< HEAD
   "id": "11ec2724",
||||||| 6a30bf1
   "id": "e36e091a",
=======
   "id": "53280df3",
>>>>>>> documentation-devel
=======
   "id": "8da8012d",
>>>>>>> c74c98c2450c2a1ba922ed9442f136238d6bc88b
||||||| 6d93b645
   "id": "9097d161",
=======
   "id": "72382cf5",
>>>>>>> documentation-devel
||||||| 804edffb
<<<<<<< HEAD
<<<<<<< HEAD
<<<<<<< HEAD
   "id": "11ec2724",
||||||| 6a30bf1
   "id": "e36e091a",
=======
   "id": "53280df3",
>>>>>>> documentation-devel
||||||| d28b18c
   "id": "53280df3",
=======
   "id": "9097d161",
>>>>>>> documentation-devel
||||||| 6893f63
<<<<<<< HEAD
   "id": "11ec2724",
||||||| 6a30bf1
   "id": "e36e091a",
=======
   "id": "53280df3",
>>>>>>> documentation-devel
=======
   "id": "8da8012d",
>>>>>>> c74c98c2450c2a1ba922ed9442f136238d6bc88b
=======
   "id": "ca00ba69",
>>>>>>> 035bb2637984ead2784fecff78c0c60cc4181202
||||||| 3effdfa5
   "id": "72382cf5",
=======
   "id": "e2ac8b19",
>>>>>>> documentation-devel
||||||| 96c826da
<<<<<<< HEAD
<<<<<<< HEAD
<<<<<<< HEAD
<<<<<<< HEAD
<<<<<<< HEAD
   "id": "11ec2724",
||||||| 6a30bf1
   "id": "e36e091a",
=======
   "id": "53280df3",
>>>>>>> documentation-devel
||||||| d28b18c
   "id": "53280df3",
=======
   "id": "9097d161",
>>>>>>> documentation-devel
||||||| 6893f63
<<<<<<< HEAD
   "id": "11ec2724",
||||||| 6a30bf1
   "id": "e36e091a",
=======
   "id": "53280df3",
>>>>>>> documentation-devel
=======
   "id": "8da8012d",
>>>>>>> c74c98c2450c2a1ba922ed9442f136238d6bc88b
||||||| 6d93b645
   "id": "9097d161",
=======
   "id": "72382cf5",
>>>>>>> documentation-devel
||||||| 804edffb
<<<<<<< HEAD
<<<<<<< HEAD
<<<<<<< HEAD
   "id": "11ec2724",
||||||| 6a30bf1
   "id": "e36e091a",
=======
   "id": "53280df3",
>>>>>>> documentation-devel
||||||| d28b18c
   "id": "53280df3",
=======
   "id": "9097d161",
>>>>>>> documentation-devel
||||||| 6893f63
<<<<<<< HEAD
   "id": "11ec2724",
||||||| 6a30bf1
   "id": "e36e091a",
=======
   "id": "53280df3",
>>>>>>> documentation-devel
=======
   "id": "8da8012d",
>>>>>>> c74c98c2450c2a1ba922ed9442f136238d6bc88b
=======
   "id": "ca00ba69",
>>>>>>> 035bb2637984ead2784fecff78c0c60cc4181202
=======
   "id": "2f76f16c",
>>>>>>> 619c01f26351d57ac14d974b7af136ac5756103f
   "metadata": {
    "fig.height": 4,
    "fig.width": 10
   },
   "outputs": [],
   "source": [
    "plotSpatialFeature(sfe_tissue, c(\"Myh2\", \"Myh1\", \"Ftl1\"), \n",
    "                   swap_rownames = \"symbol\", image_id = \"lowres\", maxcell = 5e4)"
   ]
  },
  {
   "cell_type": "markdown",
<<<<<<< HEAD
<<<<<<< HEAD
<<<<<<< HEAD
<<<<<<< HEAD
<<<<<<< HEAD
<<<<<<< HEAD
<<<<<<< HEAD
   "id": "ea12c5f5",
||||||| 6a30bf1
   "id": "13d9e716",
=======
   "id": "671f2e07",
>>>>>>> documentation-devel
||||||| d28b18c
   "id": "671f2e07",
=======
   "id": "be5824bd",
>>>>>>> documentation-devel
||||||| 6893f63
<<<<<<< HEAD
   "id": "ea12c5f5",
||||||| 6a30bf1
   "id": "13d9e716",
=======
   "id": "671f2e07",
>>>>>>> documentation-devel
=======
   "id": "a45828f3",
>>>>>>> c74c98c2450c2a1ba922ed9442f136238d6bc88b
||||||| 6d93b645
   "id": "be5824bd",
=======
   "id": "3b5a288b",
>>>>>>> documentation-devel
||||||| 804edffb
<<<<<<< HEAD
<<<<<<< HEAD
<<<<<<< HEAD
   "id": "ea12c5f5",
||||||| 6a30bf1
   "id": "13d9e716",
=======
   "id": "671f2e07",
>>>>>>> documentation-devel
||||||| d28b18c
   "id": "671f2e07",
=======
   "id": "be5824bd",
>>>>>>> documentation-devel
||||||| 6893f63
<<<<<<< HEAD
   "id": "ea12c5f5",
||||||| 6a30bf1
   "id": "13d9e716",
=======
   "id": "671f2e07",
>>>>>>> documentation-devel
=======
   "id": "a45828f3",
>>>>>>> c74c98c2450c2a1ba922ed9442f136238d6bc88b
=======
   "id": "057463e8",
>>>>>>> 035bb2637984ead2784fecff78c0c60cc4181202
||||||| 3effdfa5
   "id": "3b5a288b",
=======
   "id": "024fa76f",
>>>>>>> documentation-devel
||||||| 96c826da
<<<<<<< HEAD
<<<<<<< HEAD
<<<<<<< HEAD
<<<<<<< HEAD
<<<<<<< HEAD
   "id": "ea12c5f5",
||||||| 6a30bf1
   "id": "13d9e716",
=======
   "id": "671f2e07",
>>>>>>> documentation-devel
||||||| d28b18c
   "id": "671f2e07",
=======
   "id": "be5824bd",
>>>>>>> documentation-devel
||||||| 6893f63
<<<<<<< HEAD
   "id": "ea12c5f5",
||||||| 6a30bf1
   "id": "13d9e716",
=======
   "id": "671f2e07",
>>>>>>> documentation-devel
=======
   "id": "a45828f3",
>>>>>>> c74c98c2450c2a1ba922ed9442f136238d6bc88b
||||||| 6d93b645
   "id": "be5824bd",
=======
   "id": "3b5a288b",
>>>>>>> documentation-devel
||||||| 804edffb
<<<<<<< HEAD
<<<<<<< HEAD
<<<<<<< HEAD
   "id": "ea12c5f5",
||||||| 6a30bf1
   "id": "13d9e716",
=======
   "id": "671f2e07",
>>>>>>> documentation-devel
||||||| d28b18c
   "id": "671f2e07",
=======
   "id": "be5824bd",
>>>>>>> documentation-devel
||||||| 6893f63
<<<<<<< HEAD
   "id": "ea12c5f5",
||||||| 6a30bf1
   "id": "13d9e716",
=======
   "id": "671f2e07",
>>>>>>> documentation-devel
=======
   "id": "a45828f3",
>>>>>>> c74c98c2450c2a1ba922ed9442f136238d6bc88b
=======
   "id": "057463e8",
>>>>>>> 035bb2637984ead2784fecff78c0c60cc4181202
=======
   "id": "8f331200",
>>>>>>> 619c01f26351d57ac14d974b7af136ac5756103f
   "metadata": {
    "lines_to_next_cell": 0
   },
   "source": [
    "Then plot the local L's:"
   ]
  },
  {
   "cell_type": "code",
   "execution_count": null,
<<<<<<< HEAD
<<<<<<< HEAD
<<<<<<< HEAD
<<<<<<< HEAD
<<<<<<< HEAD
<<<<<<< HEAD
<<<<<<< HEAD
   "id": "77aced10",
||||||| 6a30bf1
   "id": "16b2e0c7",
=======
   "id": "6cd7d0b0",
>>>>>>> documentation-devel
||||||| d28b18c
   "id": "6cd7d0b0",
=======
   "id": "b9468735",
>>>>>>> documentation-devel
||||||| 6893f63
<<<<<<< HEAD
   "id": "77aced10",
||||||| 6a30bf1
   "id": "16b2e0c7",
=======
   "id": "6cd7d0b0",
>>>>>>> documentation-devel
=======
   "id": "2668def0",
>>>>>>> c74c98c2450c2a1ba922ed9442f136238d6bc88b
||||||| 6d93b645
   "id": "b9468735",
=======
   "id": "43b27241",
>>>>>>> documentation-devel
||||||| 804edffb
<<<<<<< HEAD
<<<<<<< HEAD
<<<<<<< HEAD
   "id": "77aced10",
||||||| 6a30bf1
   "id": "16b2e0c7",
=======
   "id": "6cd7d0b0",
>>>>>>> documentation-devel
||||||| d28b18c
   "id": "6cd7d0b0",
=======
   "id": "b9468735",
>>>>>>> documentation-devel
||||||| 6893f63
<<<<<<< HEAD
   "id": "77aced10",
||||||| 6a30bf1
   "id": "16b2e0c7",
=======
   "id": "6cd7d0b0",
>>>>>>> documentation-devel
=======
   "id": "2668def0",
>>>>>>> c74c98c2450c2a1ba922ed9442f136238d6bc88b
=======
   "id": "516f082c",
>>>>>>> 035bb2637984ead2784fecff78c0c60cc4181202
||||||| 3effdfa5
   "id": "43b27241",
=======
   "id": "1fdffefc",
>>>>>>> documentation-devel
||||||| 96c826da
<<<<<<< HEAD
<<<<<<< HEAD
<<<<<<< HEAD
<<<<<<< HEAD
<<<<<<< HEAD
   "id": "77aced10",
||||||| 6a30bf1
   "id": "16b2e0c7",
=======
   "id": "6cd7d0b0",
>>>>>>> documentation-devel
||||||| d28b18c
   "id": "6cd7d0b0",
=======
   "id": "b9468735",
>>>>>>> documentation-devel
||||||| 6893f63
<<<<<<< HEAD
   "id": "77aced10",
||||||| 6a30bf1
   "id": "16b2e0c7",
=======
   "id": "6cd7d0b0",
>>>>>>> documentation-devel
=======
   "id": "2668def0",
>>>>>>> c74c98c2450c2a1ba922ed9442f136238d6bc88b
||||||| 6d93b645
   "id": "b9468735",
=======
   "id": "43b27241",
>>>>>>> documentation-devel
||||||| 804edffb
<<<<<<< HEAD
<<<<<<< HEAD
<<<<<<< HEAD
   "id": "77aced10",
||||||| 6a30bf1
   "id": "16b2e0c7",
=======
   "id": "6cd7d0b0",
>>>>>>> documentation-devel
||||||| d28b18c
   "id": "6cd7d0b0",
=======
   "id": "b9468735",
>>>>>>> documentation-devel
||||||| 6893f63
<<<<<<< HEAD
   "id": "77aced10",
||||||| 6a30bf1
   "id": "16b2e0c7",
=======
   "id": "6cd7d0b0",
>>>>>>> documentation-devel
=======
   "id": "2668def0",
>>>>>>> c74c98c2450c2a1ba922ed9442f136238d6bc88b
=======
   "id": "516f082c",
>>>>>>> 035bb2637984ead2784fecff78c0c60cc4181202
=======
   "id": "7c68b3b1",
>>>>>>> 619c01f26351d57ac14d974b7af136ac5756103f
   "metadata": {
    "fig.height": 4,
    "fig.width": 10
   },
   "outputs": [],
   "source": [
    "plotLocalResult(sfe_tissue, \"locallee\", c(\"Myh1__Myh2\", \"Myh2__Ftl1\", \"Myh1__Ftl1\"),\n",
    "                colGeometryName = \"spotPoly\",\n",
    "                image_id = \"lowres\", maxcell = 5e4,\n",
    "                divergent = TRUE, diverge_center = 0)"
   ]
  },
  {
   "cell_type": "markdown",
<<<<<<< HEAD
<<<<<<< HEAD
<<<<<<< HEAD
<<<<<<< HEAD
<<<<<<< HEAD
<<<<<<< HEAD
<<<<<<< HEAD
   "id": "941343e9",
||||||| 6a30bf1
   "id": "16ad059a",
=======
   "id": "c430dc26",
>>>>>>> documentation-devel
||||||| d28b18c
   "id": "c430dc26",
=======
   "id": "2f897e21",
>>>>>>> documentation-devel
||||||| 6893f63
<<<<<<< HEAD
   "id": "941343e9",
||||||| 6a30bf1
   "id": "16ad059a",
=======
   "id": "c430dc26",
>>>>>>> documentation-devel
=======
   "id": "acc79dc7",
>>>>>>> c74c98c2450c2a1ba922ed9442f136238d6bc88b
||||||| 6d93b645
   "id": "2f897e21",
=======
   "id": "f74dbb32",
>>>>>>> documentation-devel
||||||| 804edffb
<<<<<<< HEAD
<<<<<<< HEAD
<<<<<<< HEAD
   "id": "941343e9",
||||||| 6a30bf1
   "id": "16ad059a",
=======
   "id": "c430dc26",
>>>>>>> documentation-devel
||||||| d28b18c
   "id": "c430dc26",
=======
   "id": "2f897e21",
>>>>>>> documentation-devel
||||||| 6893f63
<<<<<<< HEAD
   "id": "941343e9",
||||||| 6a30bf1
   "id": "16ad059a",
=======
   "id": "c430dc26",
>>>>>>> documentation-devel
=======
   "id": "acc79dc7",
>>>>>>> c74c98c2450c2a1ba922ed9442f136238d6bc88b
=======
   "id": "4bfae38d",
>>>>>>> 035bb2637984ead2784fecff78c0c60cc4181202
||||||| 3effdfa5
   "id": "f74dbb32",
=======
   "id": "75e6cbed",
>>>>>>> documentation-devel
||||||| 96c826da
<<<<<<< HEAD
<<<<<<< HEAD
<<<<<<< HEAD
<<<<<<< HEAD
<<<<<<< HEAD
   "id": "941343e9",
||||||| 6a30bf1
   "id": "16ad059a",
=======
   "id": "c430dc26",
>>>>>>> documentation-devel
||||||| d28b18c
   "id": "c430dc26",
=======
   "id": "2f897e21",
>>>>>>> documentation-devel
||||||| 6893f63
<<<<<<< HEAD
   "id": "941343e9",
||||||| 6a30bf1
   "id": "16ad059a",
=======
   "id": "c430dc26",
>>>>>>> documentation-devel
=======
   "id": "acc79dc7",
>>>>>>> c74c98c2450c2a1ba922ed9442f136238d6bc88b
||||||| 6d93b645
   "id": "2f897e21",
=======
   "id": "f74dbb32",
>>>>>>> documentation-devel
||||||| 804edffb
<<<<<<< HEAD
<<<<<<< HEAD
<<<<<<< HEAD
   "id": "941343e9",
||||||| 6a30bf1
   "id": "16ad059a",
=======
   "id": "c430dc26",
>>>>>>> documentation-devel
||||||| d28b18c
   "id": "c430dc26",
=======
   "id": "2f897e21",
>>>>>>> documentation-devel
||||||| 6893f63
<<<<<<< HEAD
   "id": "941343e9",
||||||| 6a30bf1
   "id": "16ad059a",
=======
   "id": "c430dc26",
>>>>>>> documentation-devel
=======
   "id": "acc79dc7",
>>>>>>> c74c98c2450c2a1ba922ed9442f136238d6bc88b
=======
   "id": "4bfae38d",
>>>>>>> 035bb2637984ead2784fecff78c0c60cc4181202
=======
   "id": "4097cb19",
>>>>>>> 619c01f26351d57ac14d974b7af136ac5756103f
   "metadata": {
    "lines_to_next_cell": 0
   },
   "source": [
    "Here we see regions where Myh1 and Myh2 are more co-expressed, and where the myosins and Ftl1 are negatively correlated. \n",
    "\n",
    "$L_{X,X}$ is also computed, so we can plot the local SSS for the three genes:"
   ]
  },
  {
   "cell_type": "code",
   "execution_count": null,
<<<<<<< HEAD
<<<<<<< HEAD
<<<<<<< HEAD
<<<<<<< HEAD
<<<<<<< HEAD
<<<<<<< HEAD
<<<<<<< HEAD
   "id": "910ee7b7",
||||||| 6a30bf1
   "id": "3785e843",
=======
   "id": "b3b590aa",
>>>>>>> documentation-devel
||||||| d28b18c
   "id": "b3b590aa",
=======
   "id": "faac20ad",
>>>>>>> documentation-devel
||||||| 6893f63
<<<<<<< HEAD
   "id": "910ee7b7",
||||||| 6a30bf1
   "id": "3785e843",
=======
   "id": "b3b590aa",
>>>>>>> documentation-devel
=======
   "id": "4cbfd9ab",
>>>>>>> c74c98c2450c2a1ba922ed9442f136238d6bc88b
||||||| 6d93b645
   "id": "faac20ad",
=======
   "id": "d47d0c14",
>>>>>>> documentation-devel
||||||| 804edffb
<<<<<<< HEAD
<<<<<<< HEAD
<<<<<<< HEAD
   "id": "910ee7b7",
||||||| 6a30bf1
   "id": "3785e843",
=======
   "id": "b3b590aa",
>>>>>>> documentation-devel
||||||| d28b18c
   "id": "b3b590aa",
=======
   "id": "faac20ad",
>>>>>>> documentation-devel
||||||| 6893f63
<<<<<<< HEAD
   "id": "910ee7b7",
||||||| 6a30bf1
   "id": "3785e843",
=======
   "id": "b3b590aa",
>>>>>>> documentation-devel
=======
   "id": "4cbfd9ab",
>>>>>>> c74c98c2450c2a1ba922ed9442f136238d6bc88b
=======
   "id": "d9be576f",
>>>>>>> 035bb2637984ead2784fecff78c0c60cc4181202
||||||| 3effdfa5
   "id": "d47d0c14",
=======
   "id": "c427b5d1",
>>>>>>> documentation-devel
||||||| 96c826da
<<<<<<< HEAD
<<<<<<< HEAD
<<<<<<< HEAD
<<<<<<< HEAD
<<<<<<< HEAD
   "id": "910ee7b7",
||||||| 6a30bf1
   "id": "3785e843",
=======
   "id": "b3b590aa",
>>>>>>> documentation-devel
||||||| d28b18c
   "id": "b3b590aa",
=======
   "id": "faac20ad",
>>>>>>> documentation-devel
||||||| 6893f63
<<<<<<< HEAD
   "id": "910ee7b7",
||||||| 6a30bf1
   "id": "3785e843",
=======
   "id": "b3b590aa",
>>>>>>> documentation-devel
=======
   "id": "4cbfd9ab",
>>>>>>> c74c98c2450c2a1ba922ed9442f136238d6bc88b
||||||| 6d93b645
   "id": "faac20ad",
=======
   "id": "d47d0c14",
>>>>>>> documentation-devel
||||||| 804edffb
<<<<<<< HEAD
<<<<<<< HEAD
<<<<<<< HEAD
   "id": "910ee7b7",
||||||| 6a30bf1
   "id": "3785e843",
=======
   "id": "b3b590aa",
>>>>>>> documentation-devel
||||||| d28b18c
   "id": "b3b590aa",
=======
   "id": "faac20ad",
>>>>>>> documentation-devel
||||||| 6893f63
<<<<<<< HEAD
   "id": "910ee7b7",
||||||| 6a30bf1
   "id": "3785e843",
=======
   "id": "b3b590aa",
>>>>>>> documentation-devel
=======
   "id": "4cbfd9ab",
>>>>>>> c74c98c2450c2a1ba922ed9442f136238d6bc88b
=======
   "id": "d9be576f",
>>>>>>> 035bb2637984ead2784fecff78c0c60cc4181202
=======
   "id": "9f74d5ca",
>>>>>>> 619c01f26351d57ac14d974b7af136ac5756103f
   "metadata": {
    "fig.height": 4,
    "fig.width": 10
   },
   "outputs": [],
   "source": [
    "plotLocalResult(sfe_tissue, \"locallee\", c(\"Myh1__Myh1\", \"Myh2__Myh2\", \"Ftl1__Ftl1\"),\n",
    "                colGeometryName = \"spotPoly\",\n",
    "                image_id = \"lowres\", maxcell = 5e4)"
   ]
  },
  {
   "cell_type": "markdown",
<<<<<<< HEAD
<<<<<<< HEAD
<<<<<<< HEAD
<<<<<<< HEAD
<<<<<<< HEAD
<<<<<<< HEAD
<<<<<<< HEAD
   "id": "64291f4b",
||||||| 6a30bf1
   "id": "800dccc0",
=======
   "id": "669b88a3",
>>>>>>> documentation-devel
||||||| d28b18c
   "id": "669b88a3",
=======
   "id": "31c2cfc4",
>>>>>>> documentation-devel
||||||| 6893f63
<<<<<<< HEAD
   "id": "64291f4b",
||||||| 6a30bf1
   "id": "800dccc0",
=======
   "id": "669b88a3",
>>>>>>> documentation-devel
=======
   "id": "0ca8cfdc",
>>>>>>> c74c98c2450c2a1ba922ed9442f136238d6bc88b
||||||| 6d93b645
   "id": "31c2cfc4",
=======
   "id": "597db403",
>>>>>>> documentation-devel
||||||| 804edffb
<<<<<<< HEAD
<<<<<<< HEAD
<<<<<<< HEAD
   "id": "64291f4b",
||||||| 6a30bf1
   "id": "800dccc0",
=======
   "id": "669b88a3",
>>>>>>> documentation-devel
||||||| d28b18c
   "id": "669b88a3",
=======
   "id": "31c2cfc4",
>>>>>>> documentation-devel
||||||| 6893f63
<<<<<<< HEAD
   "id": "64291f4b",
||||||| 6a30bf1
   "id": "800dccc0",
=======
   "id": "669b88a3",
>>>>>>> documentation-devel
=======
   "id": "0ca8cfdc",
>>>>>>> c74c98c2450c2a1ba922ed9442f136238d6bc88b
=======
   "id": "9424c0ac",
>>>>>>> 035bb2637984ead2784fecff78c0c60cc4181202
||||||| 3effdfa5
   "id": "597db403",
=======
   "id": "0574f03a",
>>>>>>> documentation-devel
||||||| 96c826da
<<<<<<< HEAD
<<<<<<< HEAD
<<<<<<< HEAD
<<<<<<< HEAD
<<<<<<< HEAD
   "id": "64291f4b",
||||||| 6a30bf1
   "id": "800dccc0",
=======
   "id": "669b88a3",
>>>>>>> documentation-devel
||||||| d28b18c
   "id": "669b88a3",
=======
   "id": "31c2cfc4",
>>>>>>> documentation-devel
||||||| 6893f63
<<<<<<< HEAD
   "id": "64291f4b",
||||||| 6a30bf1
   "id": "800dccc0",
=======
   "id": "669b88a3",
>>>>>>> documentation-devel
=======
   "id": "0ca8cfdc",
>>>>>>> c74c98c2450c2a1ba922ed9442f136238d6bc88b
||||||| 6d93b645
   "id": "31c2cfc4",
=======
   "id": "597db403",
>>>>>>> documentation-devel
||||||| 804edffb
<<<<<<< HEAD
<<<<<<< HEAD
<<<<<<< HEAD
   "id": "64291f4b",
||||||| 6a30bf1
   "id": "800dccc0",
=======
   "id": "669b88a3",
>>>>>>> documentation-devel
||||||| d28b18c
   "id": "669b88a3",
=======
   "id": "31c2cfc4",
>>>>>>> documentation-devel
||||||| 6893f63
<<<<<<< HEAD
   "id": "64291f4b",
||||||| 6a30bf1
   "id": "800dccc0",
=======
   "id": "669b88a3",
>>>>>>> documentation-devel
=======
   "id": "0ca8cfdc",
>>>>>>> c74c98c2450c2a1ba922ed9442f136238d6bc88b
=======
   "id": "9424c0ac",
>>>>>>> 035bb2637984ead2784fecff78c0c60cc4181202
=======
   "id": "0d6b796e",
>>>>>>> 619c01f26351d57ac14d974b7af136ac5756103f
   "metadata": {
    "lines_to_next_cell": 0
   },
   "source": [
    "See how the local SSS compares to local Moran's I:"
   ]
  },
  {
   "cell_type": "code",
   "execution_count": null,
<<<<<<< HEAD
<<<<<<< HEAD
<<<<<<< HEAD
<<<<<<< HEAD
<<<<<<< HEAD
<<<<<<< HEAD
<<<<<<< HEAD
   "id": "6e42b8f5",
||||||| 6a30bf1
   "id": "7b2f3e25",
=======
   "id": "6c6a90af",
>>>>>>> documentation-devel
||||||| d28b18c
   "id": "6c6a90af",
=======
   "id": "831da148",
>>>>>>> documentation-devel
||||||| 6893f63
<<<<<<< HEAD
   "id": "6e42b8f5",
||||||| 6a30bf1
   "id": "7b2f3e25",
=======
   "id": "6c6a90af",
>>>>>>> documentation-devel
=======
   "id": "754b77fa",
>>>>>>> c74c98c2450c2a1ba922ed9442f136238d6bc88b
||||||| 6d93b645
   "id": "831da148",
=======
   "id": "974d4d71",
>>>>>>> documentation-devel
||||||| 804edffb
<<<<<<< HEAD
<<<<<<< HEAD
<<<<<<< HEAD
   "id": "6e42b8f5",
||||||| 6a30bf1
   "id": "7b2f3e25",
=======
   "id": "6c6a90af",
>>>>>>> documentation-devel
||||||| d28b18c
   "id": "6c6a90af",
=======
   "id": "831da148",
>>>>>>> documentation-devel
||||||| 6893f63
<<<<<<< HEAD
   "id": "6e42b8f5",
||||||| 6a30bf1
   "id": "7b2f3e25",
=======
   "id": "6c6a90af",
>>>>>>> documentation-devel
=======
   "id": "754b77fa",
>>>>>>> c74c98c2450c2a1ba922ed9442f136238d6bc88b
=======
   "id": "eeb802d3",
>>>>>>> 035bb2637984ead2784fecff78c0c60cc4181202
||||||| 3effdfa5
   "id": "974d4d71",
=======
   "id": "6c737a19",
>>>>>>> documentation-devel
||||||| 96c826da
<<<<<<< HEAD
<<<<<<< HEAD
<<<<<<< HEAD
<<<<<<< HEAD
<<<<<<< HEAD
   "id": "6e42b8f5",
||||||| 6a30bf1
   "id": "7b2f3e25",
=======
   "id": "6c6a90af",
>>>>>>> documentation-devel
||||||| d28b18c
   "id": "6c6a90af",
=======
   "id": "831da148",
>>>>>>> documentation-devel
||||||| 6893f63
<<<<<<< HEAD
   "id": "6e42b8f5",
||||||| 6a30bf1
   "id": "7b2f3e25",
=======
   "id": "6c6a90af",
>>>>>>> documentation-devel
=======
   "id": "754b77fa",
>>>>>>> c74c98c2450c2a1ba922ed9442f136238d6bc88b
||||||| 6d93b645
   "id": "831da148",
=======
   "id": "974d4d71",
>>>>>>> documentation-devel
||||||| 804edffb
<<<<<<< HEAD
<<<<<<< HEAD
<<<<<<< HEAD
   "id": "6e42b8f5",
||||||| 6a30bf1
   "id": "7b2f3e25",
=======
   "id": "6c6a90af",
>>>>>>> documentation-devel
||||||| d28b18c
   "id": "6c6a90af",
=======
   "id": "831da148",
>>>>>>> documentation-devel
||||||| 6893f63
<<<<<<< HEAD
   "id": "6e42b8f5",
||||||| 6a30bf1
   "id": "7b2f3e25",
=======
   "id": "6c6a90af",
>>>>>>> documentation-devel
=======
   "id": "754b77fa",
>>>>>>> c74c98c2450c2a1ba922ed9442f136238d6bc88b
=======
   "id": "eeb802d3",
>>>>>>> 035bb2637984ead2784fecff78c0c60cc4181202
=======
   "id": "4f8ef0db",
>>>>>>> 619c01f26351d57ac14d974b7af136ac5756103f
   "metadata": {},
   "outputs": [],
   "source": [
    "sfe_tissue <- runUnivariate(sfe_tissue, \"localmoran\", c(\"Myh2\", \"Myh1\", \"Ftl1\"),\n",
    "                            swap_rownames = \"symbol\")"
   ]
  },
  {
   "cell_type": "code",
   "execution_count": null,
<<<<<<< HEAD
<<<<<<< HEAD
<<<<<<< HEAD
<<<<<<< HEAD
<<<<<<< HEAD
<<<<<<< HEAD
<<<<<<< HEAD
   "id": "47edcae7",
||||||| 6a30bf1
   "id": "8d3812a2",
=======
   "id": "f99b32ac",
>>>>>>> documentation-devel
||||||| d28b18c
   "id": "f99b32ac",
=======
   "id": "e7365edd",
>>>>>>> documentation-devel
||||||| 6893f63
<<<<<<< HEAD
   "id": "47edcae7",
||||||| 6a30bf1
   "id": "8d3812a2",
=======
   "id": "f99b32ac",
>>>>>>> documentation-devel
=======
   "id": "941a8e4f",
>>>>>>> c74c98c2450c2a1ba922ed9442f136238d6bc88b
||||||| 6d93b645
   "id": "e7365edd",
=======
   "id": "aa335ec0",
>>>>>>> documentation-devel
||||||| 804edffb
<<<<<<< HEAD
<<<<<<< HEAD
<<<<<<< HEAD
   "id": "47edcae7",
||||||| 6a30bf1
   "id": "8d3812a2",
=======
   "id": "f99b32ac",
>>>>>>> documentation-devel
||||||| d28b18c
   "id": "f99b32ac",
=======
   "id": "e7365edd",
>>>>>>> documentation-devel
||||||| 6893f63
<<<<<<< HEAD
   "id": "47edcae7",
||||||| 6a30bf1
   "id": "8d3812a2",
=======
   "id": "f99b32ac",
>>>>>>> documentation-devel
=======
   "id": "941a8e4f",
>>>>>>> c74c98c2450c2a1ba922ed9442f136238d6bc88b
=======
   "id": "e9b64a4e",
>>>>>>> 035bb2637984ead2784fecff78c0c60cc4181202
||||||| 3effdfa5
   "id": "aa335ec0",
=======
   "id": "27b47f8d",
>>>>>>> documentation-devel
||||||| 96c826da
<<<<<<< HEAD
<<<<<<< HEAD
<<<<<<< HEAD
<<<<<<< HEAD
<<<<<<< HEAD
   "id": "47edcae7",
||||||| 6a30bf1
   "id": "8d3812a2",
=======
   "id": "f99b32ac",
>>>>>>> documentation-devel
||||||| d28b18c
   "id": "f99b32ac",
=======
   "id": "e7365edd",
>>>>>>> documentation-devel
||||||| 6893f63
<<<<<<< HEAD
   "id": "47edcae7",
||||||| 6a30bf1
   "id": "8d3812a2",
=======
   "id": "f99b32ac",
>>>>>>> documentation-devel
=======
   "id": "941a8e4f",
>>>>>>> c74c98c2450c2a1ba922ed9442f136238d6bc88b
||||||| 6d93b645
   "id": "e7365edd",
=======
   "id": "aa335ec0",
>>>>>>> documentation-devel
||||||| 804edffb
<<<<<<< HEAD
<<<<<<< HEAD
<<<<<<< HEAD
   "id": "47edcae7",
||||||| 6a30bf1
   "id": "8d3812a2",
=======
   "id": "f99b32ac",
>>>>>>> documentation-devel
||||||| d28b18c
   "id": "f99b32ac",
=======
   "id": "e7365edd",
>>>>>>> documentation-devel
||||||| 6893f63
<<<<<<< HEAD
   "id": "47edcae7",
||||||| 6a30bf1
   "id": "8d3812a2",
=======
   "id": "f99b32ac",
>>>>>>> documentation-devel
=======
   "id": "941a8e4f",
>>>>>>> c74c98c2450c2a1ba922ed9442f136238d6bc88b
=======
   "id": "e9b64a4e",
>>>>>>> 035bb2637984ead2784fecff78c0c60cc4181202
=======
   "id": "d838a08e",
>>>>>>> 619c01f26351d57ac14d974b7af136ac5756103f
   "metadata": {
    "fig.height": 4,
    "fig.width": 10
   },
   "outputs": [],
   "source": [
    "plotLocalResult(sfe_tissue, \"localmoran\", c(\"Myh1\", \"Myh2\", \"Ftl1\"),\n",
    "                colGeometryName = \"spotPoly\", swap_rownames = \"symbol\",\n",
    "                image_id = \"lowres\", maxcell = 5e4,\n",
    "                divergent = TRUE, diverge_center = 0)"
   ]
  },
  {
   "cell_type": "markdown",
<<<<<<< HEAD
<<<<<<< HEAD
<<<<<<< HEAD
<<<<<<< HEAD
<<<<<<< HEAD
<<<<<<< HEAD
<<<<<<< HEAD
   "id": "f87804ea",
||||||| 6a30bf1
   "id": "75adeaa3",
=======
   "id": "36777a93",
>>>>>>> documentation-devel
||||||| d28b18c
   "id": "36777a93",
=======
   "id": "3bf30b53",
>>>>>>> documentation-devel
||||||| 6893f63
<<<<<<< HEAD
   "id": "f87804ea",
||||||| 6a30bf1
   "id": "75adeaa3",
=======
   "id": "36777a93",
>>>>>>> documentation-devel
=======
   "id": "dcb5e3e2",
>>>>>>> c74c98c2450c2a1ba922ed9442f136238d6bc88b
||||||| 6d93b645
   "id": "3bf30b53",
=======
   "id": "ce2ed29f",
>>>>>>> documentation-devel
||||||| 804edffb
<<<<<<< HEAD
<<<<<<< HEAD
<<<<<<< HEAD
   "id": "f87804ea",
||||||| 6a30bf1
   "id": "75adeaa3",
=======
   "id": "36777a93",
>>>>>>> documentation-devel
||||||| d28b18c
   "id": "36777a93",
=======
   "id": "3bf30b53",
>>>>>>> documentation-devel
||||||| 6893f63
<<<<<<< HEAD
   "id": "f87804ea",
||||||| 6a30bf1
   "id": "75adeaa3",
=======
   "id": "36777a93",
>>>>>>> documentation-devel
=======
   "id": "dcb5e3e2",
>>>>>>> c74c98c2450c2a1ba922ed9442f136238d6bc88b
=======
   "id": "aa0969a1",
>>>>>>> 035bb2637984ead2784fecff78c0c60cc4181202
||||||| 3effdfa5
   "id": "ce2ed29f",
=======
   "id": "486371f0",
>>>>>>> documentation-devel
||||||| 96c826da
<<<<<<< HEAD
<<<<<<< HEAD
<<<<<<< HEAD
<<<<<<< HEAD
<<<<<<< HEAD
   "id": "f87804ea",
||||||| 6a30bf1
   "id": "75adeaa3",
=======
   "id": "36777a93",
>>>>>>> documentation-devel
||||||| d28b18c
   "id": "36777a93",
=======
   "id": "3bf30b53",
>>>>>>> documentation-devel
||||||| 6893f63
<<<<<<< HEAD
   "id": "f87804ea",
||||||| 6a30bf1
   "id": "75adeaa3",
=======
   "id": "36777a93",
>>>>>>> documentation-devel
=======
   "id": "dcb5e3e2",
>>>>>>> c74c98c2450c2a1ba922ed9442f136238d6bc88b
||||||| 6d93b645
   "id": "3bf30b53",
=======
   "id": "ce2ed29f",
>>>>>>> documentation-devel
||||||| 804edffb
<<<<<<< HEAD
<<<<<<< HEAD
<<<<<<< HEAD
   "id": "f87804ea",
||||||| 6a30bf1
   "id": "75adeaa3",
=======
   "id": "36777a93",
>>>>>>> documentation-devel
||||||| d28b18c
   "id": "36777a93",
=======
   "id": "3bf30b53",
>>>>>>> documentation-devel
||||||| 6893f63
<<<<<<< HEAD
   "id": "f87804ea",
||||||| 6a30bf1
   "id": "75adeaa3",
=======
   "id": "36777a93",
>>>>>>> documentation-devel
=======
   "id": "dcb5e3e2",
>>>>>>> c74c98c2450c2a1ba922ed9442f136238d6bc88b
=======
   "id": "aa0969a1",
>>>>>>> 035bb2637984ead2784fecff78c0c60cc4181202
=======
   "id": "2837e510",
>>>>>>> 619c01f26351d57ac14d974b7af136ac5756103f
   "metadata": {},
   "source": [
    "The patterns are qualitatively the same, but while local Moran's I is negative in heterogeneous regions, the SSS can't be negative.\n",
    "\n",
    "# Bivariate local Moran\n",
    "\n",
    "The `spdep` package implements a bivariate version of local Moran, which basically is \n",
    "\n",
    "$$\n",
    "I_{X_i,Y_i} = (n-1)\\frac{(x_i - \\bar{x})\\sum_{j=1}^n w_{ij} (y_j - \\bar{y})}{\\sqrt{\\sum_{i=1}^n (x_i - \\bar{x})^2} \\sqrt{\\sum_{i=1}^n (y_i - \\bar{y})^2}}.\n",
    "$$\n",
    "\n",
    "Note that this is not symmetric, i.e. $I_{X_i,Y_i} \\neq I_{Y_i,X_i}$."
   ]
  },
  {
   "cell_type": "code",
   "execution_count": null,
<<<<<<< HEAD
<<<<<<< HEAD
<<<<<<< HEAD
<<<<<<< HEAD
<<<<<<< HEAD
<<<<<<< HEAD
<<<<<<< HEAD
   "id": "803f915d",
||||||| 6a30bf1
   "id": "3294bcae",
=======
   "id": "9d86256e",
>>>>>>> documentation-devel
||||||| d28b18c
   "id": "9d86256e",
=======
   "id": "4e48e961",
>>>>>>> documentation-devel
||||||| 6893f63
<<<<<<< HEAD
   "id": "803f915d",
||||||| 6a30bf1
   "id": "3294bcae",
=======
   "id": "9d86256e",
>>>>>>> documentation-devel
=======
   "id": "7345b004",
>>>>>>> c74c98c2450c2a1ba922ed9442f136238d6bc88b
||||||| 6d93b645
   "id": "4e48e961",
=======
   "id": "cb3f8e7d",
>>>>>>> documentation-devel
||||||| 804edffb
<<<<<<< HEAD
<<<<<<< HEAD
<<<<<<< HEAD
   "id": "803f915d",
||||||| 6a30bf1
   "id": "3294bcae",
=======
   "id": "9d86256e",
>>>>>>> documentation-devel
||||||| d28b18c
   "id": "9d86256e",
=======
   "id": "4e48e961",
>>>>>>> documentation-devel
||||||| 6893f63
<<<<<<< HEAD
   "id": "803f915d",
||||||| 6a30bf1
   "id": "3294bcae",
=======
   "id": "9d86256e",
>>>>>>> documentation-devel
=======
   "id": "7345b004",
>>>>>>> c74c98c2450c2a1ba922ed9442f136238d6bc88b
=======
   "id": "b1d64afb",
>>>>>>> 035bb2637984ead2784fecff78c0c60cc4181202
||||||| 3effdfa5
   "id": "cb3f8e7d",
=======
   "id": "3a88fed4",
>>>>>>> documentation-devel
||||||| 96c826da
<<<<<<< HEAD
<<<<<<< HEAD
<<<<<<< HEAD
<<<<<<< HEAD
<<<<<<< HEAD
   "id": "803f915d",
||||||| 6a30bf1
   "id": "3294bcae",
=======
   "id": "9d86256e",
>>>>>>> documentation-devel
||||||| d28b18c
   "id": "9d86256e",
=======
   "id": "4e48e961",
>>>>>>> documentation-devel
||||||| 6893f63
<<<<<<< HEAD
   "id": "803f915d",
||||||| 6a30bf1
   "id": "3294bcae",
=======
   "id": "9d86256e",
>>>>>>> documentation-devel
=======
   "id": "7345b004",
>>>>>>> c74c98c2450c2a1ba922ed9442f136238d6bc88b
||||||| 6d93b645
   "id": "4e48e961",
=======
   "id": "cb3f8e7d",
>>>>>>> documentation-devel
||||||| 804edffb
<<<<<<< HEAD
<<<<<<< HEAD
<<<<<<< HEAD
   "id": "803f915d",
||||||| 6a30bf1
   "id": "3294bcae",
=======
   "id": "9d86256e",
>>>>>>> documentation-devel
||||||| d28b18c
   "id": "9d86256e",
=======
   "id": "4e48e961",
>>>>>>> documentation-devel
||||||| 6893f63
<<<<<<< HEAD
   "id": "803f915d",
||||||| 6a30bf1
   "id": "3294bcae",
=======
   "id": "9d86256e",
>>>>>>> documentation-devel
=======
   "id": "7345b004",
>>>>>>> c74c98c2450c2a1ba922ed9442f136238d6bc88b
=======
   "id": "b1d64afb",
>>>>>>> 035bb2637984ead2784fecff78c0c60cc4181202
=======
   "id": "d1102ee4",
>>>>>>> 619c01f26351d57ac14d974b7af136ac5756103f
   "metadata": {},
   "outputs": [],
   "source": [
    "sfe_tissue <- runBivariate(sfe_tissue, \"localmoran_bv\", c(\"Myh1\", \"Myh2\", \"Ftl1\"),\n",
    "                           swap_rownames = \"symbol\", nsim = 1000)"
   ]
  },
  {
   "cell_type": "code",
   "execution_count": null,
<<<<<<< HEAD
<<<<<<< HEAD
<<<<<<< HEAD
<<<<<<< HEAD
<<<<<<< HEAD
<<<<<<< HEAD
<<<<<<< HEAD
   "id": "34cece68",
||||||| 6a30bf1
   "id": "1b53f2a4",
=======
   "id": "09bda2eb",
>>>>>>> documentation-devel
||||||| d28b18c
   "id": "09bda2eb",
=======
   "id": "6cd5f60a",
>>>>>>> documentation-devel
||||||| 6893f63
<<<<<<< HEAD
   "id": "34cece68",
||||||| 6a30bf1
   "id": "1b53f2a4",
=======
   "id": "09bda2eb",
>>>>>>> documentation-devel
=======
   "id": "0b339dd8",
>>>>>>> c74c98c2450c2a1ba922ed9442f136238d6bc88b
||||||| 6d93b645
   "id": "6cd5f60a",
=======
   "id": "c3bbd5cb",
>>>>>>> documentation-devel
||||||| 804edffb
<<<<<<< HEAD
<<<<<<< HEAD
<<<<<<< HEAD
   "id": "34cece68",
||||||| 6a30bf1
   "id": "1b53f2a4",
=======
   "id": "09bda2eb",
>>>>>>> documentation-devel
||||||| d28b18c
   "id": "09bda2eb",
=======
   "id": "6cd5f60a",
>>>>>>> documentation-devel
||||||| 6893f63
<<<<<<< HEAD
   "id": "34cece68",
||||||| 6a30bf1
   "id": "1b53f2a4",
=======
   "id": "09bda2eb",
>>>>>>> documentation-devel
=======
   "id": "0b339dd8",
>>>>>>> c74c98c2450c2a1ba922ed9442f136238d6bc88b
=======
   "id": "c8fc91e3",
>>>>>>> 035bb2637984ead2784fecff78c0c60cc4181202
||||||| 3effdfa5
   "id": "c3bbd5cb",
=======
   "id": "ecf06093",
>>>>>>> documentation-devel
||||||| 96c826da
<<<<<<< HEAD
<<<<<<< HEAD
<<<<<<< HEAD
<<<<<<< HEAD
<<<<<<< HEAD
   "id": "34cece68",
||||||| 6a30bf1
   "id": "1b53f2a4",
=======
   "id": "09bda2eb",
>>>>>>> documentation-devel
||||||| d28b18c
   "id": "09bda2eb",
=======
   "id": "6cd5f60a",
>>>>>>> documentation-devel
||||||| 6893f63
<<<<<<< HEAD
   "id": "34cece68",
||||||| 6a30bf1
   "id": "1b53f2a4",
=======
   "id": "09bda2eb",
>>>>>>> documentation-devel
=======
   "id": "0b339dd8",
>>>>>>> c74c98c2450c2a1ba922ed9442f136238d6bc88b
||||||| 6d93b645
   "id": "6cd5f60a",
=======
   "id": "c3bbd5cb",
>>>>>>> documentation-devel
||||||| 804edffb
<<<<<<< HEAD
<<<<<<< HEAD
<<<<<<< HEAD
   "id": "34cece68",
||||||| 6a30bf1
   "id": "1b53f2a4",
=======
   "id": "09bda2eb",
>>>>>>> documentation-devel
||||||| d28b18c
   "id": "09bda2eb",
=======
   "id": "6cd5f60a",
>>>>>>> documentation-devel
||||||| 6893f63
<<<<<<< HEAD
   "id": "34cece68",
||||||| 6a30bf1
   "id": "1b53f2a4",
=======
   "id": "09bda2eb",
>>>>>>> documentation-devel
=======
   "id": "0b339dd8",
>>>>>>> c74c98c2450c2a1ba922ed9442f136238d6bc88b
=======
   "id": "c8fc91e3",
>>>>>>> 035bb2637984ead2784fecff78c0c60cc4181202
=======
   "id": "46d8ac0a",
>>>>>>> 619c01f26351d57ac14d974b7af136ac5756103f
   "metadata": {},
   "outputs": [],
   "source": [
    "localResultFeatures(sfe_tissue, \"localmoran_bv\")"
   ]
  },
  {
   "cell_type": "markdown",
<<<<<<< HEAD
<<<<<<< HEAD
<<<<<<< HEAD
<<<<<<< HEAD
<<<<<<< HEAD
<<<<<<< HEAD
<<<<<<< HEAD
   "id": "1f610377",
||||||| 6a30bf1
   "id": "8c3a8a2a",
=======
   "id": "909436e2",
>>>>>>> documentation-devel
||||||| d28b18c
   "id": "909436e2",
=======
   "id": "aad18c2f",
>>>>>>> documentation-devel
||||||| 6893f63
<<<<<<< HEAD
   "id": "1f610377",
||||||| 6a30bf1
   "id": "8c3a8a2a",
=======
   "id": "909436e2",
>>>>>>> documentation-devel
=======
   "id": "5e6ec3e3",
>>>>>>> c74c98c2450c2a1ba922ed9442f136238d6bc88b
||||||| 6d93b645
   "id": "aad18c2f",
=======
   "id": "819bf070",
>>>>>>> documentation-devel
||||||| 804edffb
<<<<<<< HEAD
<<<<<<< HEAD
<<<<<<< HEAD
   "id": "1f610377",
||||||| 6a30bf1
   "id": "8c3a8a2a",
=======
   "id": "909436e2",
>>>>>>> documentation-devel
||||||| d28b18c
   "id": "909436e2",
=======
   "id": "aad18c2f",
>>>>>>> documentation-devel
||||||| 6893f63
<<<<<<< HEAD
   "id": "1f610377",
||||||| 6a30bf1
   "id": "8c3a8a2a",
=======
   "id": "909436e2",
>>>>>>> documentation-devel
=======
   "id": "5e6ec3e3",
>>>>>>> c74c98c2450c2a1ba922ed9442f136238d6bc88b
=======
   "id": "25950557",
>>>>>>> 035bb2637984ead2784fecff78c0c60cc4181202
||||||| 3effdfa5
   "id": "819bf070",
=======
   "id": "5e050a29",
>>>>>>> documentation-devel
||||||| 96c826da
<<<<<<< HEAD
<<<<<<< HEAD
<<<<<<< HEAD
<<<<<<< HEAD
<<<<<<< HEAD
   "id": "1f610377",
||||||| 6a30bf1
   "id": "8c3a8a2a",
=======
   "id": "909436e2",
>>>>>>> documentation-devel
||||||| d28b18c
   "id": "909436e2",
=======
   "id": "aad18c2f",
>>>>>>> documentation-devel
||||||| 6893f63
<<<<<<< HEAD
   "id": "1f610377",
||||||| 6a30bf1
   "id": "8c3a8a2a",
=======
   "id": "909436e2",
>>>>>>> documentation-devel
=======
   "id": "5e6ec3e3",
>>>>>>> c74c98c2450c2a1ba922ed9442f136238d6bc88b
||||||| 6d93b645
   "id": "aad18c2f",
=======
   "id": "819bf070",
>>>>>>> documentation-devel
||||||| 804edffb
<<<<<<< HEAD
<<<<<<< HEAD
<<<<<<< HEAD
   "id": "1f610377",
||||||| 6a30bf1
   "id": "8c3a8a2a",
=======
   "id": "909436e2",
>>>>>>> documentation-devel
||||||| d28b18c
   "id": "909436e2",
=======
   "id": "aad18c2f",
>>>>>>> documentation-devel
||||||| 6893f63
<<<<<<< HEAD
   "id": "1f610377",
||||||| 6a30bf1
   "id": "8c3a8a2a",
=======
   "id": "909436e2",
>>>>>>> documentation-devel
=======
   "id": "5e6ec3e3",
>>>>>>> c74c98c2450c2a1ba922ed9442f136238d6bc88b
=======
   "id": "25950557",
>>>>>>> 035bb2637984ead2784fecff78c0c60cc4181202
=======
   "id": "eee363c4",
>>>>>>> 619c01f26351d57ac14d974b7af136ac5756103f
   "metadata": {
    "lines_to_next_cell": 0
   },
   "source": [
    "Permutation testing is performed so we get a pseudo p-value"
   ]
  },
  {
   "cell_type": "code",
   "execution_count": null,
<<<<<<< HEAD
<<<<<<< HEAD
<<<<<<< HEAD
<<<<<<< HEAD
<<<<<<< HEAD
<<<<<<< HEAD
<<<<<<< HEAD
   "id": "40c693ff",
||||||| 6a30bf1
   "id": "be60be68",
=======
   "id": "5ca24756",
>>>>>>> documentation-devel
||||||| d28b18c
   "id": "5ca24756",
=======
   "id": "3bfcf0f3",
>>>>>>> documentation-devel
||||||| 6893f63
<<<<<<< HEAD
   "id": "40c693ff",
||||||| 6a30bf1
   "id": "be60be68",
=======
   "id": "5ca24756",
>>>>>>> documentation-devel
=======
   "id": "b1feaa43",
>>>>>>> c74c98c2450c2a1ba922ed9442f136238d6bc88b
||||||| 6d93b645
   "id": "3bfcf0f3",
=======
   "id": "7df662b4",
>>>>>>> documentation-devel
||||||| 804edffb
<<<<<<< HEAD
<<<<<<< HEAD
<<<<<<< HEAD
   "id": "40c693ff",
||||||| 6a30bf1
   "id": "be60be68",
=======
   "id": "5ca24756",
>>>>>>> documentation-devel
||||||| d28b18c
   "id": "5ca24756",
=======
   "id": "3bfcf0f3",
>>>>>>> documentation-devel
||||||| 6893f63
<<<<<<< HEAD
   "id": "40c693ff",
||||||| 6a30bf1
   "id": "be60be68",
=======
   "id": "5ca24756",
>>>>>>> documentation-devel
=======
   "id": "b1feaa43",
>>>>>>> c74c98c2450c2a1ba922ed9442f136238d6bc88b
=======
   "id": "c4a1b379",
>>>>>>> 035bb2637984ead2784fecff78c0c60cc4181202
||||||| 3effdfa5
   "id": "7df662b4",
=======
   "id": "608a9e1c",
>>>>>>> documentation-devel
||||||| 96c826da
<<<<<<< HEAD
<<<<<<< HEAD
<<<<<<< HEAD
<<<<<<< HEAD
<<<<<<< HEAD
   "id": "40c693ff",
||||||| 6a30bf1
   "id": "be60be68",
=======
   "id": "5ca24756",
>>>>>>> documentation-devel
||||||| d28b18c
   "id": "5ca24756",
=======
   "id": "3bfcf0f3",
>>>>>>> documentation-devel
||||||| 6893f63
<<<<<<< HEAD
   "id": "40c693ff",
||||||| 6a30bf1
   "id": "be60be68",
=======
   "id": "5ca24756",
>>>>>>> documentation-devel
=======
   "id": "b1feaa43",
>>>>>>> c74c98c2450c2a1ba922ed9442f136238d6bc88b
||||||| 6d93b645
   "id": "3bfcf0f3",
=======
   "id": "7df662b4",
>>>>>>> documentation-devel
||||||| 804edffb
<<<<<<< HEAD
<<<<<<< HEAD
<<<<<<< HEAD
   "id": "40c693ff",
||||||| 6a30bf1
   "id": "be60be68",
=======
   "id": "5ca24756",
>>>>>>> documentation-devel
||||||| d28b18c
   "id": "5ca24756",
=======
   "id": "3bfcf0f3",
>>>>>>> documentation-devel
||||||| 6893f63
<<<<<<< HEAD
   "id": "40c693ff",
||||||| 6a30bf1
   "id": "be60be68",
=======
   "id": "5ca24756",
>>>>>>> documentation-devel
=======
   "id": "b1feaa43",
>>>>>>> c74c98c2450c2a1ba922ed9442f136238d6bc88b
=======
   "id": "c4a1b379",
>>>>>>> 035bb2637984ead2784fecff78c0c60cc4181202
=======
   "id": "14e6544a",
>>>>>>> 619c01f26351d57ac14d974b7af136ac5756103f
   "metadata": {},
   "outputs": [],
   "source": [
    "localResultAttrs(sfe_tissue, \"localmoran_bv\", \"Myh1__Myh2\")"
   ]
  },
  {
   "cell_type": "markdown",
<<<<<<< HEAD
<<<<<<< HEAD
<<<<<<< HEAD
<<<<<<< HEAD
<<<<<<< HEAD
<<<<<<< HEAD
<<<<<<< HEAD
   "id": "9626c02e",
||||||| 6a30bf1
   "id": "3a890bf6",
=======
   "id": "44563ded",
>>>>>>> documentation-devel
||||||| d28b18c
   "id": "44563ded",
=======
   "id": "87cfa787",
>>>>>>> documentation-devel
||||||| 6893f63
<<<<<<< HEAD
   "id": "9626c02e",
||||||| 6a30bf1
   "id": "3a890bf6",
=======
   "id": "44563ded",
>>>>>>> documentation-devel
=======
   "id": "dd66a11f",
>>>>>>> c74c98c2450c2a1ba922ed9442f136238d6bc88b
||||||| 6d93b645
   "id": "87cfa787",
=======
   "id": "ae5bacc7",
>>>>>>> documentation-devel
||||||| 804edffb
<<<<<<< HEAD
<<<<<<< HEAD
<<<<<<< HEAD
   "id": "9626c02e",
||||||| 6a30bf1
   "id": "3a890bf6",
=======
   "id": "44563ded",
>>>>>>> documentation-devel
||||||| d28b18c
   "id": "44563ded",
=======
   "id": "87cfa787",
>>>>>>> documentation-devel
||||||| 6893f63
<<<<<<< HEAD
   "id": "9626c02e",
||||||| 6a30bf1
   "id": "3a890bf6",
=======
   "id": "44563ded",
>>>>>>> documentation-devel
=======
   "id": "dd66a11f",
>>>>>>> c74c98c2450c2a1ba922ed9442f136238d6bc88b
=======
   "id": "215b194b",
>>>>>>> 035bb2637984ead2784fecff78c0c60cc4181202
||||||| 3effdfa5
   "id": "ae5bacc7",
=======
   "id": "e41d302b",
>>>>>>> documentation-devel
||||||| 96c826da
<<<<<<< HEAD
<<<<<<< HEAD
<<<<<<< HEAD
<<<<<<< HEAD
<<<<<<< HEAD
   "id": "9626c02e",
||||||| 6a30bf1
   "id": "3a890bf6",
=======
   "id": "44563ded",
>>>>>>> documentation-devel
||||||| d28b18c
   "id": "44563ded",
=======
   "id": "87cfa787",
>>>>>>> documentation-devel
||||||| 6893f63
<<<<<<< HEAD
   "id": "9626c02e",
||||||| 6a30bf1
   "id": "3a890bf6",
=======
   "id": "44563ded",
>>>>>>> documentation-devel
=======
   "id": "dd66a11f",
>>>>>>> c74c98c2450c2a1ba922ed9442f136238d6bc88b
||||||| 6d93b645
   "id": "87cfa787",
=======
   "id": "ae5bacc7",
>>>>>>> documentation-devel
||||||| 804edffb
<<<<<<< HEAD
<<<<<<< HEAD
<<<<<<< HEAD
   "id": "9626c02e",
||||||| 6a30bf1
   "id": "3a890bf6",
=======
   "id": "44563ded",
>>>>>>> documentation-devel
||||||| d28b18c
   "id": "44563ded",
=======
   "id": "87cfa787",
>>>>>>> documentation-devel
||||||| 6893f63
<<<<<<< HEAD
   "id": "9626c02e",
||||||| 6a30bf1
   "id": "3a890bf6",
=======
   "id": "44563ded",
>>>>>>> documentation-devel
=======
   "id": "dd66a11f",
>>>>>>> c74c98c2450c2a1ba922ed9442f136238d6bc88b
=======
   "id": "215b194b",
>>>>>>> 035bb2637984ead2784fecff78c0c60cc4181202
=======
   "id": "140f9a35",
>>>>>>> 619c01f26351d57ac14d974b7af136ac5756103f
   "metadata": {
    "lines_to_next_cell": 0
   },
   "source": [
    "First plot the bivariate local Moran's I values"
   ]
  },
  {
   "cell_type": "code",
   "execution_count": null,
<<<<<<< HEAD
<<<<<<< HEAD
<<<<<<< HEAD
<<<<<<< HEAD
<<<<<<< HEAD
<<<<<<< HEAD
<<<<<<< HEAD
   "id": "75eb2746",
||||||| 6a30bf1
   "id": "20288963",
=======
   "id": "e9d26ab3",
>>>>>>> documentation-devel
||||||| d28b18c
   "id": "e9d26ab3",
=======
   "id": "91f1d8ef",
>>>>>>> documentation-devel
||||||| 6893f63
<<<<<<< HEAD
   "id": "75eb2746",
||||||| 6a30bf1
   "id": "20288963",
=======
   "id": "e9d26ab3",
>>>>>>> documentation-devel
=======
   "id": "d7ed8425",
>>>>>>> c74c98c2450c2a1ba922ed9442f136238d6bc88b
||||||| 6d93b645
   "id": "91f1d8ef",
=======
   "id": "72b1ab53",
>>>>>>> documentation-devel
||||||| 804edffb
<<<<<<< HEAD
<<<<<<< HEAD
<<<<<<< HEAD
   "id": "75eb2746",
||||||| 6a30bf1
   "id": "20288963",
=======
   "id": "e9d26ab3",
>>>>>>> documentation-devel
||||||| d28b18c
   "id": "e9d26ab3",
=======
   "id": "91f1d8ef",
>>>>>>> documentation-devel
||||||| 6893f63
<<<<<<< HEAD
   "id": "75eb2746",
||||||| 6a30bf1
   "id": "20288963",
=======
   "id": "e9d26ab3",
>>>>>>> documentation-devel
=======
   "id": "d7ed8425",
>>>>>>> c74c98c2450c2a1ba922ed9442f136238d6bc88b
=======
   "id": "3803e988",
>>>>>>> 035bb2637984ead2784fecff78c0c60cc4181202
||||||| 3effdfa5
   "id": "72b1ab53",
=======
   "id": "5f3156dc",
>>>>>>> documentation-devel
||||||| 96c826da
<<<<<<< HEAD
<<<<<<< HEAD
<<<<<<< HEAD
<<<<<<< HEAD
<<<<<<< HEAD
   "id": "75eb2746",
||||||| 6a30bf1
   "id": "20288963",
=======
   "id": "e9d26ab3",
>>>>>>> documentation-devel
||||||| d28b18c
   "id": "e9d26ab3",
=======
   "id": "91f1d8ef",
>>>>>>> documentation-devel
||||||| 6893f63
<<<<<<< HEAD
   "id": "75eb2746",
||||||| 6a30bf1
   "id": "20288963",
=======
   "id": "e9d26ab3",
>>>>>>> documentation-devel
=======
   "id": "d7ed8425",
>>>>>>> c74c98c2450c2a1ba922ed9442f136238d6bc88b
||||||| 6d93b645
   "id": "91f1d8ef",
=======
   "id": "72b1ab53",
>>>>>>> documentation-devel
||||||| 804edffb
<<<<<<< HEAD
<<<<<<< HEAD
<<<<<<< HEAD
   "id": "75eb2746",
||||||| 6a30bf1
   "id": "20288963",
=======
   "id": "e9d26ab3",
>>>>>>> documentation-devel
||||||| d28b18c
   "id": "e9d26ab3",
=======
   "id": "91f1d8ef",
>>>>>>> documentation-devel
||||||| 6893f63
<<<<<<< HEAD
   "id": "75eb2746",
||||||| 6a30bf1
   "id": "20288963",
=======
   "id": "e9d26ab3",
>>>>>>> documentation-devel
=======
   "id": "d7ed8425",
>>>>>>> c74c98c2450c2a1ba922ed9442f136238d6bc88b
=======
   "id": "3803e988",
>>>>>>> 035bb2637984ead2784fecff78c0c60cc4181202
=======
   "id": "a96279c2",
>>>>>>> 619c01f26351d57ac14d974b7af136ac5756103f
   "metadata": {
    "fig.height": 7.5,
    "fig.width": 10
   },
   "outputs": [],
   "source": [
    "plotLocalResult(sfe_tissue, \"localmoran_bv\", c(\"Myh1__Myh2\", \"Myh2__Ftl1\", \"Myh1__Ftl1\",\n",
    "                                               \"Myh2__Myh1\", \"Ftl1__Myh2\", \"Ftl1__Myh1\"),\n",
    "                colGeometryName = \"spotPoly\", attribute = \"Ibvi\",\n",
    "                image_id = \"lowres\", maxcell = 5e4,\n",
    "                divergent = TRUE, diverge_center = 0)"
   ]
  },
  {
   "cell_type": "markdown",
<<<<<<< HEAD
<<<<<<< HEAD
<<<<<<< HEAD
<<<<<<< HEAD
<<<<<<< HEAD
<<<<<<< HEAD
<<<<<<< HEAD
   "id": "0bfb1f00",
||||||| 6a30bf1
   "id": "3ba3327b",
=======
   "id": "982f021e",
>>>>>>> documentation-devel
||||||| d28b18c
   "id": "982f021e",
=======
   "id": "11515ed8",
>>>>>>> documentation-devel
||||||| 6893f63
<<<<<<< HEAD
   "id": "0bfb1f00",
||||||| 6a30bf1
   "id": "3ba3327b",
=======
   "id": "982f021e",
>>>>>>> documentation-devel
=======
   "id": "6b5bf442",
>>>>>>> c74c98c2450c2a1ba922ed9442f136238d6bc88b
||||||| 6d93b645
   "id": "11515ed8",
=======
   "id": "12486867",
>>>>>>> documentation-devel
||||||| 804edffb
<<<<<<< HEAD
<<<<<<< HEAD
<<<<<<< HEAD
   "id": "0bfb1f00",
||||||| 6a30bf1
   "id": "3ba3327b",
=======
   "id": "982f021e",
>>>>>>> documentation-devel
||||||| d28b18c
   "id": "982f021e",
=======
   "id": "11515ed8",
>>>>>>> documentation-devel
||||||| 6893f63
<<<<<<< HEAD
   "id": "0bfb1f00",
||||||| 6a30bf1
   "id": "3ba3327b",
=======
   "id": "982f021e",
>>>>>>> documentation-devel
=======
   "id": "6b5bf442",
>>>>>>> c74c98c2450c2a1ba922ed9442f136238d6bc88b
=======
   "id": "72e90379",
>>>>>>> 035bb2637984ead2784fecff78c0c60cc4181202
||||||| 3effdfa5
   "id": "12486867",
=======
   "id": "f39a3ff2",
>>>>>>> documentation-devel
||||||| 96c826da
<<<<<<< HEAD
<<<<<<< HEAD
<<<<<<< HEAD
<<<<<<< HEAD
<<<<<<< HEAD
   "id": "0bfb1f00",
||||||| 6a30bf1
   "id": "3ba3327b",
=======
   "id": "982f021e",
>>>>>>> documentation-devel
||||||| d28b18c
   "id": "982f021e",
=======
   "id": "11515ed8",
>>>>>>> documentation-devel
||||||| 6893f63
<<<<<<< HEAD
   "id": "0bfb1f00",
||||||| 6a30bf1
   "id": "3ba3327b",
=======
   "id": "982f021e",
>>>>>>> documentation-devel
=======
   "id": "6b5bf442",
>>>>>>> c74c98c2450c2a1ba922ed9442f136238d6bc88b
||||||| 6d93b645
   "id": "11515ed8",
=======
   "id": "12486867",
>>>>>>> documentation-devel
||||||| 804edffb
<<<<<<< HEAD
<<<<<<< HEAD
<<<<<<< HEAD
   "id": "0bfb1f00",
||||||| 6a30bf1
   "id": "3ba3327b",
=======
   "id": "982f021e",
>>>>>>> documentation-devel
||||||| d28b18c
   "id": "982f021e",
=======
   "id": "11515ed8",
>>>>>>> documentation-devel
||||||| 6893f63
<<<<<<< HEAD
   "id": "0bfb1f00",
||||||| 6a30bf1
   "id": "3ba3327b",
=======
   "id": "982f021e",
>>>>>>> documentation-devel
=======
   "id": "6b5bf442",
>>>>>>> c74c98c2450c2a1ba922ed9442f136238d6bc88b
=======
   "id": "72e90379",
>>>>>>> 035bb2637984ead2784fecff78c0c60cc4181202
=======
   "id": "dee1741f",
>>>>>>> 619c01f26351d57ac14d974b7af136ac5756103f
   "metadata": {},
   "source": [
    "The first row plots XY while the second row plots YX; note that while they are similar, they are not the same. What does bivariate local Moran mean? It's kind of like contribution of each location to the correlation between $x$ and spatially lagged $y$, so $x$ is not smoothed. In contrast, Lee's L is a scaled Pearson correlation between spatially lagged $x$ and spatially lagged $y$. Because permutation testing is performed, we can plot the pseudo-p-value, after correcting for multiple testing based on the spatial neighborhood graph:"
   ]
  },
  {
   "cell_type": "code",
   "execution_count": null,
<<<<<<< HEAD
<<<<<<< HEAD
<<<<<<< HEAD
<<<<<<< HEAD
<<<<<<< HEAD
<<<<<<< HEAD
<<<<<<< HEAD
   "id": "d46860f2",
||||||| 6a30bf1
   "id": "d48119fd",
=======
   "id": "8b2dcf1a",
>>>>>>> documentation-devel
||||||| d28b18c
   "id": "8b2dcf1a",
=======
   "id": "53d161cd",
>>>>>>> documentation-devel
||||||| 6893f63
<<<<<<< HEAD
   "id": "d46860f2",
||||||| 6a30bf1
   "id": "d48119fd",
=======
   "id": "8b2dcf1a",
>>>>>>> documentation-devel
=======
   "id": "978a2c48",
>>>>>>> c74c98c2450c2a1ba922ed9442f136238d6bc88b
||||||| 6d93b645
   "id": "53d161cd",
=======
   "id": "246e56ee",
>>>>>>> documentation-devel
||||||| 804edffb
<<<<<<< HEAD
<<<<<<< HEAD
<<<<<<< HEAD
   "id": "d46860f2",
||||||| 6a30bf1
   "id": "d48119fd",
=======
   "id": "8b2dcf1a",
>>>>>>> documentation-devel
||||||| d28b18c
   "id": "8b2dcf1a",
=======
   "id": "53d161cd",
>>>>>>> documentation-devel
||||||| 6893f63
<<<<<<< HEAD
   "id": "d46860f2",
||||||| 6a30bf1
   "id": "d48119fd",
=======
   "id": "8b2dcf1a",
>>>>>>> documentation-devel
=======
   "id": "978a2c48",
>>>>>>> c74c98c2450c2a1ba922ed9442f136238d6bc88b
=======
   "id": "5dbe54fb",
>>>>>>> 035bb2637984ead2784fecff78c0c60cc4181202
||||||| 3effdfa5
   "id": "246e56ee",
=======
   "id": "d6f74ab5",
>>>>>>> documentation-devel
||||||| 96c826da
<<<<<<< HEAD
<<<<<<< HEAD
<<<<<<< HEAD
<<<<<<< HEAD
<<<<<<< HEAD
   "id": "d46860f2",
||||||| 6a30bf1
   "id": "d48119fd",
=======
   "id": "8b2dcf1a",
>>>>>>> documentation-devel
||||||| d28b18c
   "id": "8b2dcf1a",
=======
   "id": "53d161cd",
>>>>>>> documentation-devel
||||||| 6893f63
<<<<<<< HEAD
   "id": "d46860f2",
||||||| 6a30bf1
   "id": "d48119fd",
=======
   "id": "8b2dcf1a",
>>>>>>> documentation-devel
=======
   "id": "978a2c48",
>>>>>>> c74c98c2450c2a1ba922ed9442f136238d6bc88b
||||||| 6d93b645
   "id": "53d161cd",
=======
   "id": "246e56ee",
>>>>>>> documentation-devel
||||||| 804edffb
<<<<<<< HEAD
<<<<<<< HEAD
<<<<<<< HEAD
   "id": "d46860f2",
||||||| 6a30bf1
   "id": "d48119fd",
=======
   "id": "8b2dcf1a",
>>>>>>> documentation-devel
||||||| d28b18c
   "id": "8b2dcf1a",
=======
   "id": "53d161cd",
>>>>>>> documentation-devel
||||||| 6893f63
<<<<<<< HEAD
   "id": "d46860f2",
||||||| 6a30bf1
   "id": "d48119fd",
=======
   "id": "8b2dcf1a",
>>>>>>> documentation-devel
=======
   "id": "978a2c48",
>>>>>>> c74c98c2450c2a1ba922ed9442f136238d6bc88b
=======
   "id": "5dbe54fb",
>>>>>>> 035bb2637984ead2784fecff78c0c60cc4181202
=======
   "id": "e80dc4f9",
>>>>>>> 619c01f26351d57ac14d974b7af136ac5756103f
   "metadata": {
    "fig.height": 7.5,
    "fig.width": 10
   },
   "outputs": [],
   "source": [
    "plotLocalResult(sfe_tissue, \"localmoran_bv\", c(\"Myh1__Myh2\", \"Myh2__Ftl1\", \"Myh1__Ftl1\",\n",
    "                                               \"Myh2__Myh1\", \"Ftl1__Myh2\", \"Ftl1__Myh1\"),\n",
    "                colGeometryName = \"spotPoly\", attribute = \"-log10p_adj Sim\",\n",
    "                image_id = \"lowres\", maxcell = 5e4,\n",
    "                divergent = TRUE, diverge_center = -log10(0.05))"
   ]
  },
  {
   "cell_type": "markdown",
<<<<<<< HEAD
<<<<<<< HEAD
<<<<<<< HEAD
<<<<<<< HEAD
<<<<<<< HEAD
<<<<<<< HEAD
<<<<<<< HEAD
   "id": "e4af3144",
||||||| 6a30bf1
   "id": "8e6c4332",
=======
   "id": "c70664c5",
>>>>>>> documentation-devel
||||||| d28b18c
   "id": "c70664c5",
=======
   "id": "e05a6645",
>>>>>>> documentation-devel
||||||| 6893f63
<<<<<<< HEAD
   "id": "e4af3144",
||||||| 6a30bf1
   "id": "8e6c4332",
=======
   "id": "c70664c5",
>>>>>>> documentation-devel
=======
   "id": "5edcf9e4",
>>>>>>> c74c98c2450c2a1ba922ed9442f136238d6bc88b
||||||| 6d93b645
   "id": "e05a6645",
=======
   "id": "8f17db14",
>>>>>>> documentation-devel
||||||| 804edffb
<<<<<<< HEAD
<<<<<<< HEAD
<<<<<<< HEAD
   "id": "e4af3144",
||||||| 6a30bf1
   "id": "8e6c4332",
=======
   "id": "c70664c5",
>>>>>>> documentation-devel
||||||| d28b18c
   "id": "c70664c5",
=======
   "id": "e05a6645",
>>>>>>> documentation-devel
||||||| 6893f63
<<<<<<< HEAD
   "id": "e4af3144",
||||||| 6a30bf1
   "id": "8e6c4332",
=======
   "id": "c70664c5",
>>>>>>> documentation-devel
=======
   "id": "5edcf9e4",
>>>>>>> c74c98c2450c2a1ba922ed9442f136238d6bc88b
=======
   "id": "ed704923",
>>>>>>> 035bb2637984ead2784fecff78c0c60cc4181202
||||||| 3effdfa5
   "id": "8f17db14",
=======
   "id": "51f2941c",
>>>>>>> documentation-devel
||||||| 96c826da
<<<<<<< HEAD
<<<<<<< HEAD
<<<<<<< HEAD
<<<<<<< HEAD
<<<<<<< HEAD
   "id": "e4af3144",
||||||| 6a30bf1
   "id": "8e6c4332",
=======
   "id": "c70664c5",
>>>>>>> documentation-devel
||||||| d28b18c
   "id": "c70664c5",
=======
   "id": "e05a6645",
>>>>>>> documentation-devel
||||||| 6893f63
<<<<<<< HEAD
   "id": "e4af3144",
||||||| 6a30bf1
   "id": "8e6c4332",
=======
   "id": "c70664c5",
>>>>>>> documentation-devel
=======
   "id": "5edcf9e4",
>>>>>>> c74c98c2450c2a1ba922ed9442f136238d6bc88b
||||||| 6d93b645
   "id": "e05a6645",
=======
   "id": "8f17db14",
>>>>>>> documentation-devel
||||||| 804edffb
<<<<<<< HEAD
<<<<<<< HEAD
<<<<<<< HEAD
   "id": "e4af3144",
||||||| 6a30bf1
   "id": "8e6c4332",
=======
   "id": "c70664c5",
>>>>>>> documentation-devel
||||||| d28b18c
   "id": "c70664c5",
=======
   "id": "e05a6645",
>>>>>>> documentation-devel
||||||| 6893f63
<<<<<<< HEAD
   "id": "e4af3144",
||||||| 6a30bf1
   "id": "8e6c4332",
=======
   "id": "c70664c5",
>>>>>>> documentation-devel
=======
   "id": "5edcf9e4",
>>>>>>> c74c98c2450c2a1ba922ed9442f136238d6bc88b
=======
   "id": "ed704923",
>>>>>>> 035bb2637984ead2784fecff78c0c60cc4181202
=======
   "id": "3a1fd92c",
>>>>>>> 619c01f26351d57ac14d974b7af136ac5756103f
   "metadata": {
    "lines_to_next_cell": 0
   },
   "source": [
    "Note that the p-values are asymetric, because according to the source code of `localmoran_bv()`, $y$ is permuted, but not $x$. It's also related to Wartenberg's spatial PCA [@Wartenberg1985-fk], where Moran's I is expressed in matrix form:\n",
    "\n",
    "$$\n",
    "\\mathbf{I} = \\frac{\\mathbf{Z}^T\\mathbf{WZ}}{\\mathbf 1^T \\mathbf{W1}},\n",
    "$$\n",
    "\n",
    "where $\\mathbf Z$ is the data matrix with scaled and centered variables in columns, $\\mathbf W$ is the spatial weights matrix, and $\\mathbf 1$ is a vector of all 1's, so the denominator is in effect $\\sum_{i=1}^n \\sum_{j=1}^n w_{ij}$. The diagonal entries are Moran's I's for the variables, and the off diagonal entries are the global versions of what we computed here that sum the bivariate local Moran's I's and divide by the sum of all spatial weights. Because $\\mathbf W$ doesn't have to be symmetric, this matrix may not be symmetric. Wartenberg diagonalized this matrix in place of the covariance matrix for spatial PCA. When using scaled and centered data and row normalized spatial weights matrix, MULTISPATI PCA is equivalent to Wartenberg's approach [@Dray2008-en]. Lee considered this asymmetry an inadequacy of Wartenberg's approach as a bivariate association measure [@Lee2001-tm]. While I'm not sure how bivariate local Moran's I helps with data analysis, it is an interesting piece of history. \n",
    "\n",
    "# Session info"
   ]
  },
  {
   "cell_type": "code",
   "execution_count": null,
<<<<<<< HEAD
<<<<<<< HEAD
<<<<<<< HEAD
<<<<<<< HEAD
<<<<<<< HEAD
<<<<<<< HEAD
<<<<<<< HEAD
   "id": "3196be75",
||||||| 6a30bf1
   "id": "5728b964",
=======
   "id": "fb6bf97c",
>>>>>>> documentation-devel
||||||| d28b18c
   "id": "fb6bf97c",
=======
   "id": "c3af5c8f",
>>>>>>> documentation-devel
||||||| 6893f63
<<<<<<< HEAD
   "id": "3196be75",
||||||| 6a30bf1
   "id": "5728b964",
=======
   "id": "fb6bf97c",
>>>>>>> documentation-devel
=======
   "id": "3426674b",
>>>>>>> c74c98c2450c2a1ba922ed9442f136238d6bc88b
||||||| 6d93b645
   "id": "c3af5c8f",
=======
   "id": "24936fdf",
>>>>>>> documentation-devel
||||||| 804edffb
<<<<<<< HEAD
<<<<<<< HEAD
<<<<<<< HEAD
   "id": "3196be75",
||||||| 6a30bf1
   "id": "5728b964",
=======
   "id": "fb6bf97c",
>>>>>>> documentation-devel
||||||| d28b18c
   "id": "fb6bf97c",
=======
   "id": "c3af5c8f",
>>>>>>> documentation-devel
||||||| 6893f63
<<<<<<< HEAD
   "id": "3196be75",
||||||| 6a30bf1
   "id": "5728b964",
=======
   "id": "fb6bf97c",
>>>>>>> documentation-devel
=======
   "id": "3426674b",
>>>>>>> c74c98c2450c2a1ba922ed9442f136238d6bc88b
=======
   "id": "ee6526ff",
>>>>>>> 035bb2637984ead2784fecff78c0c60cc4181202
||||||| 3effdfa5
   "id": "24936fdf",
=======
   "id": "18b031c6",
>>>>>>> documentation-devel
||||||| 96c826da
<<<<<<< HEAD
<<<<<<< HEAD
<<<<<<< HEAD
<<<<<<< HEAD
<<<<<<< HEAD
   "id": "3196be75",
||||||| 6a30bf1
   "id": "5728b964",
=======
   "id": "fb6bf97c",
>>>>>>> documentation-devel
||||||| d28b18c
   "id": "fb6bf97c",
=======
   "id": "c3af5c8f",
>>>>>>> documentation-devel
||||||| 6893f63
<<<<<<< HEAD
   "id": "3196be75",
||||||| 6a30bf1
   "id": "5728b964",
=======
   "id": "fb6bf97c",
>>>>>>> documentation-devel
=======
   "id": "3426674b",
>>>>>>> c74c98c2450c2a1ba922ed9442f136238d6bc88b
||||||| 6d93b645
   "id": "c3af5c8f",
=======
   "id": "24936fdf",
>>>>>>> documentation-devel
||||||| 804edffb
<<<<<<< HEAD
<<<<<<< HEAD
<<<<<<< HEAD
   "id": "3196be75",
||||||| 6a30bf1
   "id": "5728b964",
=======
   "id": "fb6bf97c",
>>>>>>> documentation-devel
||||||| d28b18c
   "id": "fb6bf97c",
=======
   "id": "c3af5c8f",
>>>>>>> documentation-devel
||||||| 6893f63
<<<<<<< HEAD
   "id": "3196be75",
||||||| 6a30bf1
   "id": "5728b964",
=======
   "id": "fb6bf97c",
>>>>>>> documentation-devel
=======
   "id": "3426674b",
>>>>>>> c74c98c2450c2a1ba922ed9442f136238d6bc88b
=======
   "id": "ee6526ff",
>>>>>>> 035bb2637984ead2784fecff78c0c60cc4181202
=======
   "id": "d508bae1",
>>>>>>> 619c01f26351d57ac14d974b7af136ac5756103f
   "metadata": {},
   "outputs": [],
   "source": [
    "sessionInfo()"
   ]
  },
  {
   "cell_type": "markdown",
<<<<<<< HEAD
<<<<<<< HEAD
<<<<<<< HEAD
<<<<<<< HEAD
<<<<<<< HEAD
<<<<<<< HEAD
<<<<<<< HEAD
   "id": "1e22a024",
||||||| 6a30bf1
   "id": "14aa37bc",
=======
   "id": "5a851bee",
>>>>>>> documentation-devel
||||||| d28b18c
   "id": "5a851bee",
=======
   "id": "3231aa6c",
>>>>>>> documentation-devel
||||||| 6893f63
<<<<<<< HEAD
   "id": "1e22a024",
||||||| 6a30bf1
   "id": "14aa37bc",
=======
   "id": "5a851bee",
>>>>>>> documentation-devel
=======
   "id": "7a79aaba",
>>>>>>> c74c98c2450c2a1ba922ed9442f136238d6bc88b
||||||| 6d93b645
   "id": "3231aa6c",
=======
   "id": "e23033e9",
>>>>>>> documentation-devel
||||||| 804edffb
<<<<<<< HEAD
<<<<<<< HEAD
<<<<<<< HEAD
   "id": "1e22a024",
||||||| 6a30bf1
   "id": "14aa37bc",
=======
   "id": "5a851bee",
>>>>>>> documentation-devel
||||||| d28b18c
   "id": "5a851bee",
=======
   "id": "3231aa6c",
>>>>>>> documentation-devel
||||||| 6893f63
<<<<<<< HEAD
   "id": "1e22a024",
||||||| 6a30bf1
   "id": "14aa37bc",
=======
   "id": "5a851bee",
>>>>>>> documentation-devel
=======
   "id": "7a79aaba",
>>>>>>> c74c98c2450c2a1ba922ed9442f136238d6bc88b
=======
   "id": "40921f54",
>>>>>>> 035bb2637984ead2784fecff78c0c60cc4181202
||||||| 3effdfa5
   "id": "e23033e9",
=======
   "id": "5d44deed",
>>>>>>> documentation-devel
||||||| 96c826da
<<<<<<< HEAD
<<<<<<< HEAD
<<<<<<< HEAD
<<<<<<< HEAD
<<<<<<< HEAD
   "id": "1e22a024",
||||||| 6a30bf1
   "id": "14aa37bc",
=======
   "id": "5a851bee",
>>>>>>> documentation-devel
||||||| d28b18c
   "id": "5a851bee",
=======
   "id": "3231aa6c",
>>>>>>> documentation-devel
||||||| 6893f63
<<<<<<< HEAD
   "id": "1e22a024",
||||||| 6a30bf1
   "id": "14aa37bc",
=======
   "id": "5a851bee",
>>>>>>> documentation-devel
=======
   "id": "7a79aaba",
>>>>>>> c74c98c2450c2a1ba922ed9442f136238d6bc88b
||||||| 6d93b645
   "id": "3231aa6c",
=======
   "id": "e23033e9",
>>>>>>> documentation-devel
||||||| 804edffb
<<<<<<< HEAD
<<<<<<< HEAD
<<<<<<< HEAD
   "id": "1e22a024",
||||||| 6a30bf1
   "id": "14aa37bc",
=======
   "id": "5a851bee",
>>>>>>> documentation-devel
||||||| d28b18c
   "id": "5a851bee",
=======
   "id": "3231aa6c",
>>>>>>> documentation-devel
||||||| 6893f63
<<<<<<< HEAD
   "id": "1e22a024",
||||||| 6a30bf1
   "id": "14aa37bc",
=======
   "id": "5a851bee",
>>>>>>> documentation-devel
=======
   "id": "7a79aaba",
>>>>>>> c74c98c2450c2a1ba922ed9442f136238d6bc88b
=======
   "id": "40921f54",
>>>>>>> 035bb2637984ead2784fecff78c0c60cc4181202
=======
   "id": "27171229",
>>>>>>> 619c01f26351d57ac14d974b7af136ac5756103f
   "metadata": {},
   "source": [
    "# References"
   ]
  }
 ],
 "metadata": {
  "kernelspec": {
   "display_name": "R",
   "language": "R",
   "name": "ir"
  }
 },
 "nbformat": 4,
 "nbformat_minor": 5
}
