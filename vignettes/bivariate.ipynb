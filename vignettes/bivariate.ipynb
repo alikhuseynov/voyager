{
 "cells": [
  {
   "cell_type": "raw",
<<<<<<< HEAD
<<<<<<< HEAD
   "id": "c5a00a52",
||||||| fa5abb84
   "id": "14c891fc",
=======
   "id": "b1a47bfb",
>>>>>>> documentation-devel
||||||| 7e3277eb
   "id": "b1a47bfb",
=======
   "id": "a1e50153",
>>>>>>> documentation-devel
   "metadata": {},
   "source": [
    "---\n",
    "title: \"Bivariate spatial statistics\"\n",
    "author: \"Lambda Moses\"\n",
    "date: \"`r Sys.Date()`\"\n",
    "output: \n",
    "  html_document:\n",
    "  toc: true\n",
    "  toc_float:\n",
    "    collapsed: false\n",
    "  toc_depth: 3\n",
    "bibliography: ref.bib\n",
    "vignette: >\n",
    "  %\\VignetteIndexEntry{bivariate}\n",
    "  %\\VignetteEngine{knitr::rmarkdown}\n",
    "  %\\VignetteEncoding{UTF-8}\n",
    "---"
   ]
  },
  {
   "cell_type": "code",
   "execution_count": null,
<<<<<<< HEAD
<<<<<<< HEAD
   "id": "cf78fb8c",
||||||| fa5abb84
   "id": "ebe870c5",
=======
   "id": "9012d072",
>>>>>>> documentation-devel
||||||| 7e3277eb
   "id": "9012d072",
=======
   "id": "cfe0961e",
>>>>>>> documentation-devel
   "metadata": {
    "tags": [
     "remove_cell"
    ]
   },
   "outputs": [],
   "source": [
    "knitr::opts_chunk$set(\n",
    "  collapse = TRUE,\n",
    "  comment = \"#>\"\n",
    ")"
   ]
  },
  {
   "cell_type": "code",
   "execution_count": null,
<<<<<<< HEAD
<<<<<<< HEAD
   "id": "811f0c6d",
||||||| fa5abb84
   "id": "5096d132",
=======
   "id": "50f16dd4",
>>>>>>> documentation-devel
||||||| 7e3277eb
   "id": "50f16dd4",
=======
   "id": "dd82d94f",
>>>>>>> documentation-devel
   "metadata": {
    "eval": false,
    "tags": [
     "remove_cell"
    ]
   },
   "outputs": [],
   "source": [
    "# Install Google Colab dependencies\n",
    "# Note: this can take 30+ minutes (many of the dependencies include C++ code, which needs to be compiled)\n",
    "\n",
    "# First install `sf`, `ragg` and `textshaping` and their system dependencies:\n",
    "system(\"apt-get -y update && apt-get install -y  libudunits2-dev libgdal-dev libgeos-dev libproj-dev libharfbuzz-dev libfribidi-dev\")\n",
    "install.packages(\"sf\")\n",
    "install.packages(\"textshaping\")\n",
    "install.packages(\"ragg\")\n",
    "\n",
    "# Install system dependencies of some other R packages that Voyager either imports or suggests:\n",
    "system(\"apt-get install -y libfribidi-dev libcairo2-dev libmagick++-dev\")\n",
    "\n",
    "# Install Voyager from Bioconductor:\n",
    "install.packages(\"BiocManager\")\n",
    "BiocManager::install(version = \"3.17\", ask = FALSE, update = FALSE, Ncpus = 2)\n",
    "BiocManager::install(\"scater\")\n",
    "system.time(\n",
    "  BiocManager::install(\"Voyager\", dependencies = TRUE, Ncpus = 2, update = FALSE)\n",
    ")\n",
    "\n",
    "# Other packages used in this vignette\n",
    "packageVersion(\"Voyager\")"
   ]
  },
  {
   "cell_type": "markdown",
<<<<<<< HEAD
<<<<<<< HEAD
   "id": "816e36f8",
||||||| fa5abb84
   "id": "5e51512f",
=======
   "id": "c2c6ca3c",
>>>>>>> documentation-devel
||||||| 7e3277eb
   "id": "c2c6ca3c",
=======
   "id": "bde07040",
>>>>>>> documentation-devel
   "metadata": {
    "lines_to_next_cell": 0
   },
   "source": [
    "# Introduction\n",
    "\n",
    "Consider two variables that are correlated, say with Pearson correlation of 0.8. The observations are spatially referenced. The locations of the observations can be permuted without affecting Pearson correlation. The purpose of bivariate spatial statistics is to indicate both correlation in value (as in Pearson correlation), and spatial autocorrelation and co-patterning. \n",
    "One of the bivariate methods implemented in `Voyager` is the cross variogram, which is shown in the [variogram vignette](https://pachterlab.github.io/voyager/articles/variogram.html). This vignette demonstrates other bivariate spatial statistics, which use a spatial neighborhood graph, on the mouse skeletal muscle Visium dataset.\n",
    "\n",
    "Here we load the packages used:"
   ]
  },
  {
   "cell_type": "code",
   "execution_count": null,
<<<<<<< HEAD
<<<<<<< HEAD
   "id": "de900d1b",
||||||| fa5abb84
   "id": "3ca9c050",
=======
   "id": "62b18e35",
>>>>>>> documentation-devel
||||||| 7e3277eb
   "id": "62b18e35",
=======
   "id": "4a2ef9cb",
>>>>>>> documentation-devel
   "metadata": {
    "message": false
   },
   "outputs": [],
   "source": [
    "library(Voyager)\n",
    "library(SFEData)\n",
    "library(SpatialFeatureExperiment)\n",
    "library(scater)\n",
    "library(scran)\n",
    "library(ggplot2)\n",
    "library(pheatmap)\n",
    "library(scico)\n",
    "theme_set(theme_bw())"
   ]
  },
  {
   "cell_type": "markdown",
<<<<<<< HEAD
<<<<<<< HEAD
   "id": "0699a26b",
||||||| fa5abb84
   "id": "b8379504",
=======
   "id": "79297841",
>>>>>>> documentation-devel
||||||| 7e3277eb
   "id": "79297841",
=======
   "id": "42b8d2af",
>>>>>>> documentation-devel
   "metadata": {
    "lines_to_next_cell": 0
   },
   "source": [
    "A list of all bivariate global methods can be seen here:"
   ]
  },
  {
   "cell_type": "code",
   "execution_count": null,
<<<<<<< HEAD
<<<<<<< HEAD
   "id": "16233c21",
||||||| fa5abb84
   "id": "541eb342",
=======
   "id": "4d6b9ca1",
>>>>>>> documentation-devel
||||||| 7e3277eb
   "id": "4d6b9ca1",
=======
   "id": "d953e684",
>>>>>>> documentation-devel
   "metadata": {},
   "outputs": [],
   "source": [
    "listSFEMethods(variate = \"bi\", scope = \"global\")"
   ]
  },
  {
   "cell_type": "markdown",
<<<<<<< HEAD
<<<<<<< HEAD
   "id": "e9f0646d",
||||||| fa5abb84
   "id": "6470c415",
=======
   "id": "9b3f4ace",
>>>>>>> documentation-devel
||||||| 7e3277eb
   "id": "9b3f4ace",
=======
   "id": "cff5b179",
>>>>>>> documentation-devel
   "metadata": {
    "lines_to_next_cell": 0
   },
   "source": [
    "When calling `calculate*variate()` or `run*variate()`, the `type` (2nd) argument takes either an `SFEMethod` object or a string that matches an entry in the `name` column in the data frame returned by `listSFEMethods()`.\n",
    "\n",
    "QC was performed in [another vignette](https://pachterlab.github.io/voyager/articles/vig1_visium_basic.html), so this vignette will not plot QC metrics."
   ]
  },
  {
   "cell_type": "code",
   "execution_count": null,
<<<<<<< HEAD
<<<<<<< HEAD
   "id": "121e2554",
||||||| fa5abb84
   "id": "abbeff33",
=======
   "id": "e2bdd4a2",
>>>>>>> documentation-devel
||||||| 7e3277eb
   "id": "e2bdd4a2",
=======
   "id": "9adac7df",
>>>>>>> documentation-devel
   "metadata": {},
   "outputs": [],
   "source": [
    "(sfe <- McKellarMuscleData(\"full\"))"
   ]
  },
  {
   "cell_type": "markdown",
<<<<<<< HEAD
<<<<<<< HEAD
   "id": "e1d0889c",
||||||| fa5abb84
   "id": "24234314",
=======
   "id": "eddebdc7",
>>>>>>> documentation-devel
||||||| 7e3277eb
   "id": "eddebdc7",
=======
   "id": "b095831d",
>>>>>>> documentation-devel
   "metadata": {
    "lines_to_next_cell": 0
   },
   "source": [
    "The image can be added to the SFE object and plotted behind the geometries, and needs to be flipped to align to the spots because the origin is at the top left for the image but bottom left for geometries."
   ]
  },
  {
   "cell_type": "code",
   "execution_count": null,
<<<<<<< HEAD
<<<<<<< HEAD
   "id": "14f8a247",
||||||| fa5abb84
   "id": "a7a1a7df",
=======
   "id": "ca7301c0",
>>>>>>> documentation-devel
||||||| 7e3277eb
   "id": "ca7301c0",
=======
   "id": "6cfbe751",
>>>>>>> documentation-devel
   "metadata": {},
   "outputs": [],
   "source": [
    "if (!file.exists(\"tissue_lowres_5a.jpeg\")) {\n",
    "    download.file(\"https://raw.githubusercontent.com/pachterlab/voyager/main/vignettes/tissue_lowres_5a.jpeg\",\n",
    "                  destfile = \"tissue_lowres_5a.jpeg\")\n",
    "}"
   ]
  },
  {
   "cell_type": "code",
   "execution_count": null,
<<<<<<< HEAD
<<<<<<< HEAD
   "id": "94e48449",
||||||| fa5abb84
   "id": "ec544ecf",
=======
   "id": "0e39e907",
>>>>>>> documentation-devel
||||||| 7e3277eb
   "id": "0e39e907",
=======
   "id": "911023ea",
>>>>>>> documentation-devel
   "metadata": {},
   "outputs": [],
   "source": [
    "sfe <- addImg(sfe, file = \"tissue_lowres_5a.jpeg\", sample_id = \"Vis5A\", \n",
    "              image_id = \"lowres\", \n",
    "              scale_fct = 1024/22208)\n",
    "sfe <- mirrorImg(sfe, sample_id = \"Vis5A\", image_id = \"lowres\")"
   ]
  },
  {
   "cell_type": "code",
   "execution_count": null,
<<<<<<< HEAD
<<<<<<< HEAD
   "id": "7bb7e6be",
||||||| fa5abb84
   "id": "bf21ccbe",
=======
   "id": "545fa7a0",
>>>>>>> documentation-devel
||||||| 7e3277eb
   "id": "545fa7a0",
=======
   "id": "0b8f0f85",
>>>>>>> documentation-devel
   "metadata": {},
   "outputs": [],
   "source": [
    "sfe_tissue <- sfe[,colData(sfe)$in_tissue]\n",
    "sfe_tissue <- sfe_tissue[rowSums(counts(sfe_tissue)) > 0,]"
   ]
  },
  {
   "cell_type": "code",
   "execution_count": null,
<<<<<<< HEAD
<<<<<<< HEAD
   "id": "b1d93400",
||||||| fa5abb84
   "id": "888abafd",
=======
   "id": "d0849b03",
>>>>>>> documentation-devel
||||||| 7e3277eb
   "id": "d0849b03",
=======
   "id": "44e6b6e8",
>>>>>>> documentation-devel
   "metadata": {},
   "outputs": [],
   "source": [
    "sfe_tissue <- logNormCounts(sfe_tissue)"
   ]
  },
  {
   "cell_type": "code",
   "execution_count": null,
<<<<<<< HEAD
<<<<<<< HEAD
   "id": "ea94cfe3",
||||||| fa5abb84
   "id": "72dce15c",
=======
   "id": "d3b3e6c3",
>>>>>>> documentation-devel
||||||| 7e3277eb
   "id": "d3b3e6c3",
=======
   "id": "c048e936",
>>>>>>> documentation-devel
   "metadata": {},
   "outputs": [],
   "source": [
    "colGraph(sfe_tissue, \"visium\") <- findVisiumGraph(sfe_tissue)"
   ]
  },
  {
   "cell_type": "markdown",
<<<<<<< HEAD
<<<<<<< HEAD
   "id": "092c844f",
||||||| fa5abb84
   "id": "420c2c1a",
=======
   "id": "64f338bd",
>>>>>>> documentation-devel
||||||| 7e3277eb
   "id": "64f338bd",
=======
   "id": "9ffc5988",
>>>>>>> documentation-devel
   "metadata": {
    "lines_to_next_cell": 0
   },
   "source": [
    "# Lee's L\n",
    "\n",
    "Lee's L [@Lee2001-tm] was developed from relating Moran's I to Pearson correlation, and is defined as\n",
    "\n",
    "$$\n",
    "L_{X,Y} = \\frac{n}{\\sum_{i=1}^n \\sum_{j=1}^n w_{ij}} \\frac{\\sum_{i=1}^n \\left[ \\sum_{j=1}^n w_{ij}  (x_j - \\bar{x}) \\right] \\left[ \\sum_{j=1}^n w_{ij} (y_j - \\bar{y}) \\right]}{\\sqrt{\\sum_{i=1}^n (x_i - \\bar{x})^2}\\sqrt{\\sum_{i=1}^n (y_i - \\bar{y})^2} },\n",
    "$$\n",
    "\n",
    "where $n$ is the number of spots or locations, $i$ and $j$ are different locations, or spots in the Visium context, $x$ and $y$ are variables with values at each location, and $w_{ij}$ is a spatial weight, which can be inversely proportional to distance between spots or an indicator of whether two spots are neighbors, subject to various definitions of neighborhood. \n",
    "\n",
    "Here we compute Lee's L for top highly variagle genes (HVGs) in this dataset:"
   ]
  },
  {
   "cell_type": "code",
   "execution_count": null,
<<<<<<< HEAD
<<<<<<< HEAD
   "id": "377aee68",
||||||| fa5abb84
   "id": "17b560b1",
=======
   "id": "ceeb8e9c",
>>>>>>> documentation-devel
||||||| 7e3277eb
   "id": "ceeb8e9c",
=======
   "id": "1d793970",
>>>>>>> documentation-devel
   "metadata": {},
   "outputs": [],
   "source": [
    "hvgs <- getTopHVGs(sfe_tissue, fdr.threshold = 0.01)"
   ]
  },
  {
   "cell_type": "markdown",
<<<<<<< HEAD
<<<<<<< HEAD
   "id": "ba7e5613",
||||||| fa5abb84
   "id": "01298b82",
=======
   "id": "bc58dbd5",
>>>>>>> documentation-devel
||||||| 7e3277eb
   "id": "bc58dbd5",
=======
   "id": "cc0014b7",
>>>>>>> documentation-devel
   "metadata": {},
   "source": [
    "Because bivariate global results can have very different formats (matrix for Lee's L and lists for many other methods), the results are not stored in the SFE object."
   ]
  },
  {
   "cell_type": "code",
   "execution_count": null,
<<<<<<< HEAD
<<<<<<< HEAD
   "id": "db3169a9",
||||||| fa5abb84
   "id": "9f30f185",
=======
   "id": "7741f50e",
>>>>>>> documentation-devel
||||||| 7e3277eb
   "id": "7741f50e",
=======
   "id": "1ab8a700",
>>>>>>> documentation-devel
   "metadata": {},
   "outputs": [],
   "source": [
    "res <- calculateBivariate(sfe_tissue, type = \"lee\", feature1 = hvgs)"
   ]
  },
  {
   "cell_type": "markdown",
<<<<<<< HEAD
<<<<<<< HEAD
   "id": "ee35fa16",
||||||| fa5abb84
   "id": "d1b8398c",
=======
   "id": "4421a5cf",
>>>>>>> documentation-devel
||||||| 7e3277eb
   "id": "4421a5cf",
=======
   "id": "ad27d519",
>>>>>>> documentation-devel
   "metadata": {
    "lines_to_next_cell": 0
   },
   "source": [
    "This gives a spatially informed correlation matrix among the genes, which can be plotted as a heatmap:"
   ]
  },
  {
   "cell_type": "code",
   "execution_count": null,
<<<<<<< HEAD
<<<<<<< HEAD
   "id": "22e364a2",
||||||| fa5abb84
   "id": "794d3201",
=======
   "id": "8ff87f8b",
>>>>>>> documentation-devel
||||||| 7e3277eb
   "id": "8ff87f8b",
=======
   "id": "c30d31f9",
>>>>>>> documentation-devel
   "metadata": {},
   "outputs": [],
   "source": [
    "pal_rng <- getDivergeRange(res)\n",
    "pal <- scico(256, begin = pal_rng[1], end = pal_rng[2], palette = \"vik\")"
   ]
  },
  {
   "cell_type": "code",
   "execution_count": null,
<<<<<<< HEAD
<<<<<<< HEAD
   "id": "91f94b57",
||||||| fa5abb84
   "id": "e3dd063f",
=======
   "id": "819b6350",
>>>>>>> documentation-devel
||||||| 7e3277eb
   "id": "819b6350",
=======
   "id": "c9fb475e",
>>>>>>> documentation-devel
   "metadata": {
    "fig.height": 6,
    "fig.width": 6
   },
   "outputs": [],
   "source": [
    "pheatmap(res, color = pal, show_rownames = FALSE, \n",
    "         show_colnames = FALSE, cellwidth = 1, cellheight = 1)"
   ]
  },
  {
   "cell_type": "markdown",
<<<<<<< HEAD
<<<<<<< HEAD
   "id": "75d06506",
||||||| fa5abb84
   "id": "5a57c0a0",
=======
   "id": "a9b3ba21",
>>>>>>> documentation-devel
||||||| 7e3277eb
   "id": "a9b3ba21",
=======
   "id": "04a11bea",
>>>>>>> documentation-devel
   "metadata": {
    "lines_to_next_cell": 0
   },
   "source": [
    "Some coexpression blocks can be seen. Note that unlike in Pearson correlation, the diagonal is not 1, because\n",
    "\n",
    "$$\n",
    "L_{X,X} = \\frac{\\sum_i (\\tilde x_i - \\bar x)^2}{\\sum_i (x_i - \\bar x)^2} = \\mathrm{SSS}_X,\n",
    "$$\n",
    "\n",
    "which is approximated the ratio between the variance of spatially lagged $x$ and variance of $x$. Because the spatial lag introduces smoothing, the spatial lag reduced variance, making the diagonal less than 1. This is the spatial smoothing scalar (SSS), and Moran's I is approximately Pearson correlation between $X$ and spatially lagged $X$ ($\\tilde X$) multiplied by SSS:\n",
    "\n",
    "$$\n",
    "I \\approx \\mathrm{SSS}_X \\cdot \\rho_{X, \\tilde X}\n",
    "$$\n",
    "\n",
    "Similarly for Lee's L, as shown in [@Lee2001-tm],\n",
    "\n",
    "$$\n",
    "L_{X, Y} = \\sqrt{\\mathrm{SSS}_X}\\sqrt{\\mathrm{SSS}_Y} \\cdot \\rho_{\\tilde X, \\tilde Y}\n",
    "$$\n",
    "\n",
    "With more spatial clustering, the variance is less reduced by the spatial lag, leading to a larger SSS. Hence when both $X$ and $Y$ are spatially distributed like salt and pepper while strongly correlated, Lee's L will be low because the lack of spatial autocorrelation leads to a small SSS. \n",
    "\n",
    "Weighted correlation network analysis (WGCNA) [@Langfelder2008-fs] is a time honored method to find gene co-expression modules, and it can take any correlation matrix. Then it would be interesting to apply WGCNA to the Lee's L matrix to identify spatially informed gene co-expression modules.\n",
    "\n",
    "# Local Lee\n",
    "\n",
    "Local Lee's L [@Lee2001-tm] is defined as\n",
    "\n",
    "$$\n",
    "L_i = \\frac{n\\left[ \\sum_{j=1}^n w_{ij}  (x_j - \\bar{x}) \\right] \\left[ \\sum_{j=1}^n w_{ij} (y_j - \\bar{y}) \\right]}{\\sqrt{\\sum_{i=1}^n (x_i - \\bar{x})^2}\\sqrt{\\sum_{i=1}^n (y_i - \\bar{y})^2} }\n",
    "$$\n",
    "\n",
    "Compare this to the global L in the previous section. Local L does not sum over the locations $i$. This is the contribution of each location to global L and can show spatial heterogeneity in the relationship between two variables. \n",
    "\n",
    "All bivariate local methods in `Voyager` is listed here:"
   ]
  },
  {
   "cell_type": "code",
   "execution_count": null,
<<<<<<< HEAD
<<<<<<< HEAD
   "id": "853a9a63",
||||||| fa5abb84
   "id": "68b89bae",
=======
   "id": "ff21226e",
>>>>>>> documentation-devel
||||||| 7e3277eb
   "id": "ff21226e",
=======
   "id": "f30943f6",
>>>>>>> documentation-devel
   "metadata": {},
   "outputs": [],
   "source": [
    "listSFEMethods(\"bi\", \"local\")"
   ]
  },
  {
   "cell_type": "markdown",
<<<<<<< HEAD
<<<<<<< HEAD
   "id": "7df1d851",
||||||| fa5abb84
   "id": "da7d426e",
=======
   "id": "cff6048f",
>>>>>>> documentation-devel
||||||| 7e3277eb
   "id": "cff6048f",
=======
   "id": "79999f39",
>>>>>>> documentation-devel
   "metadata": {},
   "source": [
    "Here we compute local L for two myofiber marker genes and one gene highly expressed in the injury site:"
   ]
  },
  {
   "cell_type": "code",
   "execution_count": null,
<<<<<<< HEAD
<<<<<<< HEAD
   "id": "f68110f9",
||||||| fa5abb84
   "id": "73cbce7e",
=======
   "id": "1066f69e",
>>>>>>> documentation-devel
||||||| 7e3277eb
   "id": "1066f69e",
=======
   "id": "1583905f",
>>>>>>> documentation-devel
   "metadata": {},
   "outputs": [],
   "source": [
    "sfe_tissue <- runBivariate(sfe_tissue, \"locallee\", swap_rownames = \"symbol\",\n",
    "                           feature1 = c(\"Myh2\", \"Myh1\", \"Ftl1\"))"
   ]
  },
  {
   "cell_type": "markdown",
<<<<<<< HEAD
<<<<<<< HEAD
   "id": "07235e37",
||||||| fa5abb84
   "id": "6af569c9",
=======
   "id": "0543abca",
>>>>>>> documentation-devel
||||||| 7e3277eb
   "id": "0543abca",
=======
   "id": "16a9e429",
>>>>>>> documentation-devel
   "metadata": {},
   "source": [
    "Bivariate local results are stored in the `localResults` field and the feature names are the pairwise combinations of features supplied. When only `feature1` is specified, then the bivariate method is applied to all pairwise combinations of `feature1`. "
   ]
  },
  {
   "cell_type": "code",
   "execution_count": null,
<<<<<<< HEAD
<<<<<<< HEAD
   "id": "22758fb7",
||||||| fa5abb84
   "id": "cebc2762",
=======
   "id": "a16904c1",
>>>>>>> documentation-devel
||||||| 7e3277eb
   "id": "a16904c1",
=======
   "id": "12f7f9ff",
>>>>>>> documentation-devel
   "metadata": {},
   "outputs": [],
   "source": [
    "localResultFeatures(sfe_tissue, \"locallee\")"
   ]
  },
  {
   "cell_type": "markdown",
<<<<<<< HEAD
<<<<<<< HEAD
   "id": "5a3b0da2",
||||||| fa5abb84
   "id": "86bf4d97",
=======
   "id": "2198bd6d",
>>>>>>> documentation-devel
||||||| 7e3277eb
   "id": "2198bd6d",
=======
   "id": "66004286",
>>>>>>> documentation-devel
   "metadata": {
    "lines_to_next_cell": 0
   },
   "source": [
    "For Lee's L, both $L_{X,Y}$ and $L_{Y,X}$ are computed although they are the same. However, not all bivariate methods are symmetric (see next section). In the next release (Bioconductor 3.18), we may introduce another argument to indicate whether the method is symmetric and if so only compute $L_{X,Y}$ and not $L_{Y,X}$.\n",
    "\n",
    "First plot the three genes individually:"
   ]
  },
  {
   "cell_type": "code",
   "execution_count": null,
<<<<<<< HEAD
<<<<<<< HEAD
   "id": "75465468",
||||||| fa5abb84
   "id": "560ba653",
=======
   "id": "9e79b195",
>>>>>>> documentation-devel
||||||| 7e3277eb
   "id": "9e79b195",
=======
   "id": "5c0e510e",
>>>>>>> documentation-devel
   "metadata": {
    "fig.height": 4,
    "fig.width": 10
   },
   "outputs": [],
   "source": [
    "plotSpatialFeature(sfe_tissue, c(\"Myh2\", \"Myh1\", \"Ftl1\"), \n",
    "                   swap_rownames = \"symbol\", image_id = \"lowres\", maxcell = 5e4)"
   ]
  },
  {
   "cell_type": "markdown",
<<<<<<< HEAD
<<<<<<< HEAD
   "id": "30120ff1",
||||||| fa5abb84
   "id": "8515350c",
=======
   "id": "b97c94c1",
>>>>>>> documentation-devel
||||||| 7e3277eb
   "id": "b97c94c1",
=======
   "id": "906ebe8e",
>>>>>>> documentation-devel
   "metadata": {
    "lines_to_next_cell": 0
   },
   "source": [
    "Then plot the local L's:"
   ]
  },
  {
   "cell_type": "code",
   "execution_count": null,
<<<<<<< HEAD
<<<<<<< HEAD
   "id": "bb01ac63",
||||||| fa5abb84
   "id": "57e584a3",
=======
   "id": "7fb5c976",
>>>>>>> documentation-devel
||||||| 7e3277eb
   "id": "7fb5c976",
=======
   "id": "dd2b7cd5",
>>>>>>> documentation-devel
   "metadata": {
    "fig.height": 4,
    "fig.width": 10
   },
   "outputs": [],
   "source": [
    "plotLocalResult(sfe_tissue, \"locallee\", c(\"Myh1__Myh2\", \"Myh2__Ftl1\", \"Myh1__Ftl1\"),\n",
    "                colGeometryName = \"spotPoly\",\n",
    "                image_id = \"lowres\", maxcell = 5e4,\n",
    "                divergent = TRUE, diverge_center = 0)"
   ]
  },
  {
   "cell_type": "markdown",
<<<<<<< HEAD
<<<<<<< HEAD
   "id": "e7e3c327",
||||||| fa5abb84
   "id": "04034d60",
=======
   "id": "ca8b4ed4",
>>>>>>> documentation-devel
||||||| 7e3277eb
   "id": "ca8b4ed4",
=======
   "id": "b50699ea",
>>>>>>> documentation-devel
   "metadata": {
    "lines_to_next_cell": 0
   },
   "source": [
    "Here we see regions where Myh1 and Myh2 are more co-expressed, and where the myosins and Ftl1 are negatively correlated. \n",
    "\n",
    "$L_{X,X}$ is also computed, so we can plot the local SSS for the three genes:"
   ]
  },
  {
   "cell_type": "code",
   "execution_count": null,
<<<<<<< HEAD
<<<<<<< HEAD
   "id": "6c5765d6",
||||||| fa5abb84
   "id": "b847894d",
=======
   "id": "4f19330b",
>>>>>>> documentation-devel
||||||| 7e3277eb
   "id": "4f19330b",
=======
   "id": "c3d97aa0",
>>>>>>> documentation-devel
   "metadata": {
    "fig.height": 4,
    "fig.width": 10
   },
   "outputs": [],
   "source": [
    "plotLocalResult(sfe_tissue, \"locallee\", c(\"Myh1__Myh1\", \"Myh2__Myh2\", \"Ftl1__Ftl1\"),\n",
    "                colGeometryName = \"spotPoly\",\n",
    "                image_id = \"lowres\", maxcell = 5e4)"
   ]
  },
  {
   "cell_type": "markdown",
<<<<<<< HEAD
<<<<<<< HEAD
   "id": "86d4979e",
||||||| fa5abb84
   "id": "e6be0cd0",
=======
   "id": "e37bfdea",
>>>>>>> documentation-devel
||||||| 7e3277eb
   "id": "e37bfdea",
=======
   "id": "43eb6446",
>>>>>>> documentation-devel
   "metadata": {
    "lines_to_next_cell": 0
   },
   "source": [
    "See how the local SSS compares to local Moran's I:"
   ]
  },
  {
   "cell_type": "code",
   "execution_count": null,
<<<<<<< HEAD
<<<<<<< HEAD
   "id": "7543d99d",
||||||| fa5abb84
   "id": "329fb5b3",
=======
   "id": "419fa1c9",
>>>>>>> documentation-devel
||||||| 7e3277eb
   "id": "419fa1c9",
=======
   "id": "fed4b322",
>>>>>>> documentation-devel
   "metadata": {},
   "outputs": [],
   "source": [
    "sfe_tissue <- runUnivariate(sfe_tissue, \"localmoran\", c(\"Myh2\", \"Myh1\", \"Ftl1\"),\n",
    "                            swap_rownames = \"symbol\")"
   ]
  },
  {
   "cell_type": "code",
   "execution_count": null,
<<<<<<< HEAD
<<<<<<< HEAD
   "id": "d68086b8",
||||||| fa5abb84
   "id": "c1555e2c",
=======
   "id": "02793133",
>>>>>>> documentation-devel
||||||| 7e3277eb
   "id": "02793133",
=======
   "id": "f37dac11",
>>>>>>> documentation-devel
   "metadata": {
    "fig.height": 4,
    "fig.width": 10
   },
   "outputs": [],
   "source": [
    "plotLocalResult(sfe_tissue, \"localmoran\", c(\"Myh1\", \"Myh2\", \"Ftl1\"),\n",
    "                colGeometryName = \"spotPoly\", swap_rownames = \"symbol\",\n",
    "                image_id = \"lowres\", maxcell = 5e4,\n",
    "                divergent = TRUE, diverge_center = 0)"
   ]
  },
  {
   "cell_type": "markdown",
<<<<<<< HEAD
<<<<<<< HEAD
   "id": "3ef3597f",
||||||| fa5abb84
   "id": "dc12a35d",
=======
   "id": "3c1ef55e",
>>>>>>> documentation-devel
||||||| 7e3277eb
   "id": "3c1ef55e",
=======
   "id": "580fd090",
>>>>>>> documentation-devel
   "metadata": {},
   "source": [
    "The patterns are qualitatively the same, but while local Moran's I is negative in heterogeneous regions, the SSS can't be negative.\n",
    "\n",
    "# Bivariate local Moran\n",
    "\n",
    "The `spdep` package implements a bivariate version of local Moran, which basically is \n",
    "\n",
    "$$\n",
    "I_{X_i,Y_i} = (n-1)\\frac{(x_i - \\bar{x})\\sum_{j=1}^n w_{ij} (y_j - \\bar{y})}{\\sqrt{\\sum_{i=1}^n (x_i - \\bar{x})^2} \\sqrt{\\sum_{i=1}^n (y_i - \\bar{y})^2}}.\n",
    "$$\n",
    "\n",
    "Note that this is not symmetric, i.e. $I_{X_i,Y_i} \\neq I_{Y_i,X_i}$."
   ]
  },
  {
   "cell_type": "code",
   "execution_count": null,
<<<<<<< HEAD
<<<<<<< HEAD
   "id": "b79f2a7b",
||||||| fa5abb84
   "id": "5f83d43d",
=======
   "id": "a95ea40d",
>>>>>>> documentation-devel
||||||| 7e3277eb
   "id": "a95ea40d",
=======
   "id": "de5c3819",
>>>>>>> documentation-devel
   "metadata": {},
   "outputs": [],
   "source": [
    "sfe_tissue <- runBivariate(sfe_tissue, \"localmoran_bv\", c(\"Myh1\", \"Myh2\", \"Ftl1\"),\n",
    "                           swap_rownames = \"symbol\", nsim = 1000)"
   ]
  },
  {
   "cell_type": "code",
   "execution_count": null,
<<<<<<< HEAD
<<<<<<< HEAD
   "id": "375ca128",
||||||| fa5abb84
   "id": "7c1cb01a",
=======
   "id": "10cd717d",
>>>>>>> documentation-devel
||||||| 7e3277eb
   "id": "10cd717d",
=======
   "id": "04f58a00",
>>>>>>> documentation-devel
   "metadata": {},
   "outputs": [],
   "source": [
    "localResultFeatures(sfe_tissue, \"localmoran_bv\")"
   ]
  },
  {
   "cell_type": "markdown",
<<<<<<< HEAD
<<<<<<< HEAD
   "id": "642cb984",
||||||| fa5abb84
   "id": "21249fb6",
=======
   "id": "391d79a7",
>>>>>>> documentation-devel
||||||| 7e3277eb
   "id": "391d79a7",
=======
   "id": "173abc66",
>>>>>>> documentation-devel
   "metadata": {
    "lines_to_next_cell": 0
   },
   "source": [
    "Permutation testing is performed so we get a pseudo p-value"
   ]
  },
  {
   "cell_type": "code",
   "execution_count": null,
<<<<<<< HEAD
<<<<<<< HEAD
   "id": "51110432",
||||||| fa5abb84
   "id": "903b7f4c",
=======
   "id": "e8180ed6",
>>>>>>> documentation-devel
||||||| 7e3277eb
   "id": "e8180ed6",
=======
   "id": "8d701e08",
>>>>>>> documentation-devel
   "metadata": {},
   "outputs": [],
   "source": [
    "localResultAttrs(sfe_tissue, \"localmoran_bv\", \"Myh1__Myh2\")"
   ]
  },
  {
   "cell_type": "markdown",
<<<<<<< HEAD
<<<<<<< HEAD
   "id": "d01f1cfb",
||||||| fa5abb84
   "id": "708fa124",
=======
   "id": "372166d9",
>>>>>>> documentation-devel
||||||| 7e3277eb
   "id": "372166d9",
=======
   "id": "3dcdd201",
>>>>>>> documentation-devel
   "metadata": {
    "lines_to_next_cell": 0
   },
   "source": [
    "First plot the bivariate local Moran's I values"
   ]
  },
  {
   "cell_type": "code",
   "execution_count": null,
<<<<<<< HEAD
<<<<<<< HEAD
   "id": "5b488931",
||||||| fa5abb84
   "id": "d750259d",
=======
   "id": "a8f237dc",
>>>>>>> documentation-devel
||||||| 7e3277eb
   "id": "a8f237dc",
=======
   "id": "d919890a",
>>>>>>> documentation-devel
   "metadata": {
    "fig.height": 7.5,
    "fig.width": 10
   },
   "outputs": [],
   "source": [
    "plotLocalResult(sfe_tissue, \"localmoran_bv\", c(\"Myh1__Myh2\", \"Myh2__Ftl1\", \"Myh1__Ftl1\",\n",
    "                                               \"Myh2__Myh1\", \"Ftl1__Myh2\", \"Ftl1__Myh1\"),\n",
    "                colGeometryName = \"spotPoly\", attribute = \"Ibvi\",\n",
    "                image_id = \"lowres\", maxcell = 5e4,\n",
    "                divergent = TRUE, diverge_center = 0)"
   ]
  },
  {
   "cell_type": "markdown",
<<<<<<< HEAD
<<<<<<< HEAD
   "id": "d15c83b1",
||||||| fa5abb84
   "id": "05f902ea",
=======
   "id": "d9fb7eb4",
>>>>>>> documentation-devel
||||||| 7e3277eb
   "id": "d9fb7eb4",
=======
   "id": "2b3a4712",
>>>>>>> documentation-devel
   "metadata": {},
   "source": [
    "The first row plots XY while the second row plots YX; note that while they are similar, they are not the same. What does bivariate local Moran mean? It's kind of like contribution of each location to the correlation between $x$ and spatially lagged $y$, so $x$ is not smoothed. In contrast, Lee's L is a scaled Pearson correlation between spatially lagged $x$ and spatially lagged $y$. Because permutation testing is performed, we can plot the pseudo-p-value, after correcting for multiple testing based on the spatial neighborhood graph:"
   ]
  },
  {
   "cell_type": "code",
   "execution_count": null,
<<<<<<< HEAD
<<<<<<< HEAD
   "id": "cf039d62",
||||||| fa5abb84
   "id": "fac14757",
=======
   "id": "59f56ae1",
>>>>>>> documentation-devel
||||||| 7e3277eb
   "id": "59f56ae1",
=======
   "id": "fed7f94c",
>>>>>>> documentation-devel
   "metadata": {
    "fig.height": 7.5,
    "fig.width": 10
   },
   "outputs": [],
   "source": [
    "plotLocalResult(sfe_tissue, \"localmoran_bv\", c(\"Myh1__Myh2\", \"Myh2__Ftl1\", \"Myh1__Ftl1\",\n",
    "                                               \"Myh2__Myh1\", \"Ftl1__Myh2\", \"Ftl1__Myh1\"),\n",
    "                colGeometryName = \"spotPoly\", attribute = \"-log10p_adj Sim\",\n",
    "                image_id = \"lowres\", maxcell = 5e4,\n",
    "                divergent = TRUE, diverge_center = -log10(0.05))"
   ]
  },
  {
   "cell_type": "markdown",
<<<<<<< HEAD
<<<<<<< HEAD
   "id": "95646299",
||||||| fa5abb84
   "id": "60e63958",
=======
   "id": "7c1525e4",
>>>>>>> documentation-devel
||||||| 7e3277eb
   "id": "7c1525e4",
=======
   "id": "6f7e425a",
>>>>>>> documentation-devel
   "metadata": {
    "lines_to_next_cell": 0
   },
   "source": [
    "Note that the p-values are asymetric, because according to the source code of `localmoran_bv()`, $y$ is permuted, but not $x$. It's also related to Wartenberg's spatial PCA [@Wartenberg1985-fk], where Moran's I is expressed in matrix form:\n",
    "\n",
    "$$\n",
    "\\mathbf{I} = \\frac{\\mathbf{Z}^T\\mathbf{WZ}}{\\mathbf 1^T \\mathbf{W1}},\n",
    "$$\n",
    "\n",
    "where $\\mathbf Z$ is the data matrix with scaled and centered variables in columns, $\\mathbf W$ is the spatial weights matrix, and $\\mathbf 1$ is a vector of all 1's, so the denominator is in effect $\\sum_{i=1}^n \\sum_{j=1}^n w_{ij}$. The diagonal entries are Moran's I's for the variables, and the off diagonal entries are the global versions of what we computed here that sum the bivariate local Moran's I's and divide by the sum of all spatial weights. Because $\\mathbf W$ doesn't have to be symmetric, this matrix may not be symmetric. Wartenberg diagonalized this matrix in place of the covariance matrix for spatial PCA. When using scaled and centered data and row normalized spatial weights matrix, MULTISPATI PCA is equivalent to Wartenberg's approach [@Dray2008-en]. Lee considered this asymmetry an inadequacy of Wartenberg's approach as a bivariate association measure [@Lee2001-tm]. While I'm not sure how bivariate local Moran's I helps with data analysis, it is an interesting piece of history. \n",
    "\n",
    "# Session info"
   ]
  },
  {
   "cell_type": "code",
   "execution_count": null,
<<<<<<< HEAD
<<<<<<< HEAD
   "id": "dd2652eb",
||||||| fa5abb84
   "id": "2c7cacc6",
=======
   "id": "3b2a29b9",
>>>>>>> documentation-devel
||||||| 7e3277eb
   "id": "3b2a29b9",
=======
   "id": "2bbd9b40",
>>>>>>> documentation-devel
   "metadata": {},
   "outputs": [],
   "source": [
    "sessionInfo()"
   ]
  },
  {
   "cell_type": "markdown",
<<<<<<< HEAD
<<<<<<< HEAD
   "id": "efde4c5d",
||||||| fa5abb84
   "id": "869b0ec6",
=======
   "id": "149853dc",
>>>>>>> documentation-devel
||||||| 7e3277eb
   "id": "149853dc",
=======
   "id": "97304224",
>>>>>>> documentation-devel
   "metadata": {},
   "source": [
    "# References"
   ]
  }
 ],
 "metadata": {
  "kernelspec": {
   "display_name": "R",
   "language": "R",
   "name": "ir"
  }
 },
 "nbformat": 4,
 "nbformat_minor": 5
}
