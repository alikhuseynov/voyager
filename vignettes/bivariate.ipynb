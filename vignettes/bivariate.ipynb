{
 "cells": [
  {
   "cell_type": "raw",
<<<<<<< HEAD
<<<<<<< HEAD
   "id": "7d6f42c1",
||||||| 00f6fb22
   "id": "4a9855a6",
=======
   "id": "b5432a41",
>>>>>>> documentation-devel
||||||| d828f8eb
   "id": "7d6f42c1",
=======
   "id": "346a1d3a",
>>>>>>> 6c25d2f1afd31725c9595ab9d8922b9d3c838629
   "metadata": {},
   "source": [
    "---\n",
    "title: \"Bivariate spatial statistics\"\n",
    "author: \"Lambda Moses\"\n",
    "date: \"`r Sys.Date()`\"\n",
    "output: \n",
    "  html_document:\n",
    "  toc: true\n",
    "  toc_float:\n",
    "    collapsed: false\n",
    "  toc_depth: 3\n",
    "bibliography: ref.bib\n",
    "vignette: >\n",
    "  %\\VignetteIndexEntry{bivariate}\n",
    "  %\\VignetteEngine{knitr::rmarkdown}\n",
    "  %\\VignetteEncoding{UTF-8}\n",
    "---"
   ]
  },
  {
   "cell_type": "code",
   "execution_count": null,
<<<<<<< HEAD
<<<<<<< HEAD
   "id": "9dd20b63",
||||||| 00f6fb22
   "id": "548d6719",
=======
   "id": "39deb644",
>>>>>>> documentation-devel
||||||| d828f8eb
   "id": "9dd20b63",
=======
   "id": "f0296d08",
>>>>>>> 6c25d2f1afd31725c9595ab9d8922b9d3c838629
   "metadata": {
    "tags": [
     "remove_cell"
    ]
   },
   "outputs": [],
   "source": [
    "knitr::opts_chunk$set(\n",
    "  collapse = TRUE,\n",
    "  comment = \"#>\"\n",
    ")"
   ]
  },
  {
   "cell_type": "code",
   "execution_count": null,
<<<<<<< HEAD
<<<<<<< HEAD
   "id": "4811c2e6",
||||||| 00f6fb22
   "id": "b9a9671e",
=======
   "id": "3d03a2f6",
>>>>>>> documentation-devel
||||||| d828f8eb
   "id": "4811c2e6",
=======
   "id": "b7ed92fc",
>>>>>>> 6c25d2f1afd31725c9595ab9d8922b9d3c838629
   "metadata": {
    "eval": false,
    "tags": [
     "remove_cell"
    ]
   },
   "outputs": [],
   "source": [
    "# Install Google Colab dependencies\n",
    "# Note: this can take 30+ minutes (many of the dependencies include C++ code, which needs to be compiled)\n",
    "\n",
    "# First install `sf`, `ragg` and `textshaping` and their system dependencies:\n",
    "system(\"apt-get -y update && apt-get install -y  libudunits2-dev libgdal-dev libgeos-dev libproj-dev libharfbuzz-dev libfribidi-dev\")\n",
    "install.packages(\"sf\")\n",
    "install.packages(\"textshaping\")\n",
    "install.packages(\"ragg\")\n",
    "\n",
    "# Install system dependencies of some other R packages that Voyager either imports or suggests:\n",
    "system(\"apt-get install -y libfribidi-dev libcairo2-dev libmagick++-dev\")\n",
    "\n",
    "# Install Voyager from Bioconductor:\n",
    "install.packages(\"BiocManager\")\n",
    "BiocManager::install(version = \"3.17\", ask = FALSE, update = FALSE, Ncpus = 2)\n",
    "BiocManager::install(\"scater\")\n",
    "system.time(\n",
    "  BiocManager::install(\"Voyager\", dependencies = TRUE, Ncpus = 2, update = FALSE)\n",
    ")\n",
    "\n",
    "# Other packages used in this vignette\n",
    "packageVersion(\"Voyager\")"
   ]
  },
  {
   "cell_type": "markdown",
<<<<<<< HEAD
<<<<<<< HEAD
   "id": "e73f326f",
||||||| 00f6fb22
   "id": "cbc1c932",
=======
   "id": "838c95b8",
>>>>>>> documentation-devel
||||||| d828f8eb
   "id": "e73f326f",
=======
   "id": "eff70d11",
>>>>>>> 6c25d2f1afd31725c9595ab9d8922b9d3c838629
   "metadata": {
    "lines_to_next_cell": 0
   },
   "source": [
    "# Introduction\n",
    "\n",
    "Consider two variables that are correlated, say with Pearson correlation of 0.8. The observations are spatially referenced. The locations of the observations can be permuted without affecting Pearson correlation. The purpose of bivariate spatial statistics is to indicate both correlation in value (as in Pearson correlation), and spatial autocorrelation and co-patterning. \n",
    "One of the bivariate methods implemented in `Voyager` is the cross variogram, which is shown in the [variogram vignette](https://pachterlab.github.io/voyager/articles/variogram.html). This vignette demonstrates other bivariate spatial statistics, which use a spatial neighborhood graph, on the mouse skeletal muscle Visium dataset.\n",
    "\n",
    "Here we load the packages used:"
   ]
  },
  {
   "cell_type": "code",
   "execution_count": null,
<<<<<<< HEAD
<<<<<<< HEAD
   "id": "ec4bd903",
||||||| 00f6fb22
   "id": "aebe9757",
=======
   "id": "b918d53d",
>>>>>>> documentation-devel
||||||| d828f8eb
   "id": "ec4bd903",
=======
   "id": "d654d780",
>>>>>>> 6c25d2f1afd31725c9595ab9d8922b9d3c838629
   "metadata": {
    "message": false
   },
   "outputs": [],
   "source": [
    "library(Voyager)\n",
    "library(SFEData)\n",
    "library(SpatialFeatureExperiment)\n",
    "library(scater)\n",
    "library(scran)\n",
    "library(ggplot2)\n",
    "library(pheatmap)\n",
    "library(scico)\n",
    "theme_set(theme_bw())"
   ]
  },
  {
   "cell_type": "markdown",
<<<<<<< HEAD
<<<<<<< HEAD
   "id": "6b6c488a",
||||||| 00f6fb22
   "id": "a7fbd1f8",
=======
   "id": "7a5371ca",
>>>>>>> documentation-devel
||||||| d828f8eb
   "id": "6b6c488a",
=======
   "id": "9ce376a6",
>>>>>>> 6c25d2f1afd31725c9595ab9d8922b9d3c838629
   "metadata": {
    "lines_to_next_cell": 0
   },
   "source": [
    "A list of all bivariate global methods can be seen here:"
   ]
  },
  {
   "cell_type": "code",
   "execution_count": null,
<<<<<<< HEAD
<<<<<<< HEAD
   "id": "e55ce989",
||||||| 00f6fb22
   "id": "33299a8a",
=======
   "id": "00fbf84b",
>>>>>>> documentation-devel
||||||| d828f8eb
   "id": "e55ce989",
=======
   "id": "7fd356da",
>>>>>>> 6c25d2f1afd31725c9595ab9d8922b9d3c838629
   "metadata": {},
   "outputs": [],
   "source": [
    "listSFEMethods(variate = \"bi\", scope = \"global\")"
   ]
  },
  {
   "cell_type": "markdown",
<<<<<<< HEAD
<<<<<<< HEAD
   "id": "574292f2",
||||||| 00f6fb22
   "id": "04359df4",
=======
   "id": "0401837e",
>>>>>>> documentation-devel
||||||| d828f8eb
   "id": "574292f2",
=======
   "id": "05382e6f",
>>>>>>> 6c25d2f1afd31725c9595ab9d8922b9d3c838629
   "metadata": {
    "lines_to_next_cell": 0
   },
   "source": [
    "When calling `calculate*variate()` or `run*variate()`, the `type` (2nd) argument takes either an `SFEMethod` object or a string that matches an entry in the `name` column in the data frame returned by `listSFEMethods()`.\n",
    "\n",
    "QC was performed in [another vignette](https://pachterlab.github.io/voyager/articles/vig1_visium_basic.html), so this vignette will not plot QC metrics."
   ]
  },
  {
   "cell_type": "code",
   "execution_count": null,
<<<<<<< HEAD
<<<<<<< HEAD
   "id": "9c908cdc",
||||||| 00f6fb22
   "id": "71f99edb",
=======
   "id": "f07d17a1",
>>>>>>> documentation-devel
||||||| d828f8eb
   "id": "9c908cdc",
=======
   "id": "84f3f1bd",
>>>>>>> 6c25d2f1afd31725c9595ab9d8922b9d3c838629
   "metadata": {},
   "outputs": [],
   "source": [
    "(sfe <- McKellarMuscleData(\"full\"))"
   ]
  },
  {
   "cell_type": "markdown",
<<<<<<< HEAD
<<<<<<< HEAD
   "id": "0ba436fd",
||||||| 00f6fb22
   "id": "d727a6b4",
=======
   "id": "b0419348",
>>>>>>> documentation-devel
||||||| d828f8eb
   "id": "0ba436fd",
=======
   "id": "317a74c9",
>>>>>>> 6c25d2f1afd31725c9595ab9d8922b9d3c838629
   "metadata": {
    "lines_to_next_cell": 0
   },
   "source": [
    "The image can be added to the SFE object and plotted behind the geometries, and needs to be flipped to align to the spots because the origin is at the top left for the image but bottom left for geometries."
   ]
  },
  {
   "cell_type": "code",
   "execution_count": null,
<<<<<<< HEAD
<<<<<<< HEAD
   "id": "2e3f0b4b",
||||||| 00f6fb22
   "id": "2190ec86",
=======
   "id": "f4dadcda",
>>>>>>> documentation-devel
||||||| d828f8eb
   "id": "2e3f0b4b",
=======
   "id": "6083f286",
>>>>>>> 6c25d2f1afd31725c9595ab9d8922b9d3c838629
   "metadata": {},
   "outputs": [],
   "source": [
    "if (!file.exists(\"tissue_lowres_5a.jpeg\")) {\n",
    "    download.file(\"https://raw.githubusercontent.com/pachterlab/voyager/main/vignettes/tissue_lowres_5a.jpeg\",\n",
    "                  destfile = \"tissue_lowres_5a.jpeg\")\n",
    "}"
   ]
  },
  {
   "cell_type": "code",
   "execution_count": null,
<<<<<<< HEAD
<<<<<<< HEAD
   "id": "369e18ae",
||||||| 00f6fb22
   "id": "e838edb0",
=======
   "id": "7eb5ecf4",
>>>>>>> documentation-devel
||||||| d828f8eb
   "id": "369e18ae",
=======
   "id": "609320a1",
>>>>>>> 6c25d2f1afd31725c9595ab9d8922b9d3c838629
   "metadata": {},
   "outputs": [],
   "source": [
    "sfe <- addImg(sfe, file = \"tissue_lowres_5a.jpeg\", sample_id = \"Vis5A\", \n",
    "              image_id = \"lowres\", \n",
    "              scale_fct = 1024/22208)\n",
    "sfe <- mirrorImg(sfe, sample_id = \"Vis5A\", image_id = \"lowres\")"
   ]
  },
  {
   "cell_type": "code",
   "execution_count": null,
<<<<<<< HEAD
<<<<<<< HEAD
   "id": "b3e3c50e",
||||||| 00f6fb22
   "id": "6e344687",
=======
   "id": "ebfcfe64",
>>>>>>> documentation-devel
||||||| d828f8eb
   "id": "b3e3c50e",
=======
   "id": "a9de5937",
>>>>>>> 6c25d2f1afd31725c9595ab9d8922b9d3c838629
   "metadata": {},
   "outputs": [],
   "source": [
    "sfe_tissue <- sfe[,colData(sfe)$in_tissue]\n",
    "sfe_tissue <- sfe_tissue[rowSums(counts(sfe_tissue)) > 0,]"
   ]
  },
  {
   "cell_type": "code",
   "execution_count": null,
<<<<<<< HEAD
<<<<<<< HEAD
   "id": "79683b0e",
||||||| 00f6fb22
   "id": "af1a328e",
=======
   "id": "1c8c6c6c",
>>>>>>> documentation-devel
||||||| d828f8eb
   "id": "79683b0e",
=======
   "id": "07317ff1",
>>>>>>> 6c25d2f1afd31725c9595ab9d8922b9d3c838629
   "metadata": {},
   "outputs": [],
   "source": [
    "sfe_tissue <- logNormCounts(sfe_tissue)"
   ]
  },
  {
   "cell_type": "code",
   "execution_count": null,
<<<<<<< HEAD
<<<<<<< HEAD
   "id": "0025c9e1",
||||||| 00f6fb22
   "id": "5ec44e11",
=======
   "id": "06f8c627",
>>>>>>> documentation-devel
||||||| d828f8eb
   "id": "0025c9e1",
=======
   "id": "5aad834e",
>>>>>>> 6c25d2f1afd31725c9595ab9d8922b9d3c838629
   "metadata": {},
   "outputs": [],
   "source": [
    "colGraph(sfe_tissue, \"visium\") <- findVisiumGraph(sfe_tissue)"
   ]
  },
  {
   "cell_type": "markdown",
<<<<<<< HEAD
<<<<<<< HEAD
   "id": "d3fb2690",
||||||| 00f6fb22
   "id": "3afad93d",
=======
   "id": "544a4501",
>>>>>>> documentation-devel
||||||| d828f8eb
   "id": "d3fb2690",
=======
   "id": "991c9b5e",
>>>>>>> 6c25d2f1afd31725c9595ab9d8922b9d3c838629
   "metadata": {
    "lines_to_next_cell": 0
   },
   "source": [
    "# Lee's L\n",
    "\n",
    "Lee's L [@Lee2001-tm] was developed from relating Moran's I to Pearson correlation, and is defined as\n",
    "\n",
    "$$\n",
    "L_{X,Y} = \\frac{n}{\\sum_{i=1}^n \\sum_{j=1}^n w_{ij}} \\frac{\\sum_{i=1}^n \\left[ \\sum_{j=1}^n w_{ij}  (x_j - \\bar{x}) \\right] \\left[ \\sum_{j=1}^n w_{ij} (y_j - \\bar{y}) \\right]}{\\sqrt{\\sum_{i=1}^n (x_i - \\bar{x})^2}\\sqrt{\\sum_{i=1}^n (y_i - \\bar{y})^2} },\n",
    "$$\n",
    "\n",
    "where $n$ is the number of spots or locations, $i$ and $j$ are different locations, or spots in the Visium context, $x$ and $y$ are variables with values at each location, and $w_{ij}$ is a spatial weight, which can be inversely proportional to distance between spots or an indicator of whether two spots are neighbors, subject to various definitions of neighborhood. \n",
    "\n",
    "Here we compute Lee's L for top highly variagle genes (HVGs) in this dataset:"
   ]
  },
  {
   "cell_type": "code",
   "execution_count": null,
<<<<<<< HEAD
<<<<<<< HEAD
   "id": "321e8153",
||||||| 00f6fb22
   "id": "4bbdaf45",
=======
   "id": "f154372a",
>>>>>>> documentation-devel
||||||| d828f8eb
   "id": "321e8153",
=======
   "id": "24ec92cf",
>>>>>>> 6c25d2f1afd31725c9595ab9d8922b9d3c838629
   "metadata": {},
   "outputs": [],
   "source": [
    "hvgs <- getTopHVGs(sfe_tissue, fdr.threshold = 0.01)"
   ]
  },
  {
   "cell_type": "markdown",
<<<<<<< HEAD
<<<<<<< HEAD
   "id": "4e535e28",
||||||| 00f6fb22
   "id": "8e7e0b26",
=======
   "id": "b66af948",
>>>>>>> documentation-devel
||||||| d828f8eb
   "id": "4e535e28",
=======
   "id": "be365b2b",
>>>>>>> 6c25d2f1afd31725c9595ab9d8922b9d3c838629
   "metadata": {},
   "source": [
    "Because bivariate global results can have very different formats (matrix for Lee's L and lists for many other methods), the results are not stored in the SFE object."
   ]
  },
  {
   "cell_type": "code",
   "execution_count": null,
<<<<<<< HEAD
<<<<<<< HEAD
   "id": "2cce6bc0",
||||||| 00f6fb22
   "id": "441e091d",
=======
   "id": "ae1d0b90",
>>>>>>> documentation-devel
||||||| d828f8eb
   "id": "2cce6bc0",
=======
   "id": "dd8561fe",
>>>>>>> 6c25d2f1afd31725c9595ab9d8922b9d3c838629
   "metadata": {},
   "outputs": [],
   "source": [
    "res <- calculateBivariate(sfe_tissue, type = \"lee\", feature1 = hvgs)"
   ]
  },
  {
   "cell_type": "markdown",
<<<<<<< HEAD
<<<<<<< HEAD
   "id": "08099ddd",
||||||| 00f6fb22
   "id": "5b480621",
=======
   "id": "a7ebab56",
>>>>>>> documentation-devel
||||||| d828f8eb
   "id": "08099ddd",
=======
   "id": "0115909a",
>>>>>>> 6c25d2f1afd31725c9595ab9d8922b9d3c838629
   "metadata": {
    "lines_to_next_cell": 0
   },
   "source": [
    "This gives a spatially informed correlation matrix among the genes, which can be plotted as a heatmap:"
   ]
  },
  {
   "cell_type": "code",
   "execution_count": null,
<<<<<<< HEAD
<<<<<<< HEAD
   "id": "7ec523a2",
||||||| 00f6fb22
   "id": "dc197b0b",
=======
   "id": "c79be4c7",
>>>>>>> documentation-devel
||||||| d828f8eb
   "id": "7ec523a2",
=======
   "id": "2ccd4153",
>>>>>>> 6c25d2f1afd31725c9595ab9d8922b9d3c838629
   "metadata": {},
   "outputs": [],
   "source": [
    "pal_rng <- getDivergeRange(res)\n",
    "pal <- scico(256, begin = pal_rng[1], end = pal_rng[2], palette = \"vik\")"
   ]
  },
  {
   "cell_type": "code",
   "execution_count": null,
<<<<<<< HEAD
<<<<<<< HEAD
   "id": "55ce2d94",
||||||| 00f6fb22
   "id": "eee61e14",
=======
   "id": "b42f5699",
>>>>>>> documentation-devel
||||||| d828f8eb
   "id": "55ce2d94",
=======
   "id": "832cee84",
>>>>>>> 6c25d2f1afd31725c9595ab9d8922b9d3c838629
   "metadata": {
    "fig.height": 6,
    "fig.width": 6
   },
   "outputs": [],
   "source": [
    "pheatmap(res, color = pal, show_rownames = FALSE, \n",
    "         show_colnames = FALSE, cellwidth = 1, cellheight = 1)"
   ]
  },
  {
   "cell_type": "markdown",
<<<<<<< HEAD
<<<<<<< HEAD
   "id": "140613e2",
||||||| 00f6fb22
   "id": "32bb0510",
=======
   "id": "a7863f1e",
>>>>>>> documentation-devel
||||||| d828f8eb
   "id": "140613e2",
=======
   "id": "13f6259f",
>>>>>>> 6c25d2f1afd31725c9595ab9d8922b9d3c838629
   "metadata": {
    "lines_to_next_cell": 0
   },
   "source": [
    "Some coexpression blocks can be seen. Note that unlike in Pearson correlation, the diagonal is not 1, because\n",
    "\n",
    "$$\n",
    "L_{X,X} = \\frac{\\sum_i (\\tilde x_i - \\bar x)^2}{\\sum_i (x_i - \\bar x)^2} = \\mathrm{SSS}_X,\n",
    "$$\n",
    "\n",
    "which is approximated the ratio between the variance of spatially lagged $x$ and variance of $x$. Because the spatial lag introduces smoothing, the spatial lag reduced variance, making the diagonal less than 1. This is the spatial smoothing scalar (SSS), and Moran's I is approximately Pearson correlation between $X$ and spatially lagged $X$ ($\\tilde X$) multiplied by SSS:\n",
    "\n",
    "$$\n",
    "I \\approx \\mathrm{SSS}_X \\cdot \\rho_{X, \\tilde X}\n",
    "$$\n",
    "\n",
    "Similarly for Lee's L, as shown in [@Lee2001-tm],\n",
    "\n",
    "$$\n",
    "L_{X, Y} = \\sqrt{\\mathrm{SSS}_X}\\sqrt{\\mathrm{SSS}_Y} \\cdot \\rho_{\\tilde X, \\tilde Y}\n",
    "$$\n",
    "\n",
    "With more spatial clustering, the variance is less reduced by the spatial lag, leading to a larger SSS. Hence when both $X$ and $Y$ are spatially distributed like salt and pepper while strongly correlated, Lee's L will be low because the lack of spatial autocorrelation leads to a small SSS. \n",
    "\n",
    "Weighted correlation network analysis (WGCNA) [@Langfelder2008-fs] is a time honored method to find gene co-expression modules, and it can take any correlation matrix. Then it would be interesting to apply WGCNA to the Lee's L matrix to identify spatially informed gene co-expression modules.\n",
    "\n",
    "# Local Lee\n",
    "\n",
    "Local Lee's L [@Lee2001-tm] is defined as\n",
    "\n",
    "$$\n",
    "L_i = \\frac{n\\left[ \\sum_{j=1}^n w_{ij}  (x_j - \\bar{x}) \\right] \\left[ \\sum_{j=1}^n w_{ij} (y_j - \\bar{y}) \\right]}{\\sqrt{\\sum_{i=1}^n (x_i - \\bar{x})^2}\\sqrt{\\sum_{i=1}^n (y_i - \\bar{y})^2} }\n",
    "$$\n",
    "\n",
    "Compare this to the global L in the previous section. Local L does not sum over the locations $i$. This is the contribution of each location to global L and can show spatial heterogeneity in the relationship between two variables. \n",
    "\n",
    "All bivariate local methods in `Voyager` is listed here:"
   ]
  },
  {
   "cell_type": "code",
   "execution_count": null,
<<<<<<< HEAD
<<<<<<< HEAD
   "id": "5215ec11",
||||||| 00f6fb22
   "id": "9798c0df",
=======
   "id": "fb5b9dd5",
>>>>>>> documentation-devel
||||||| d828f8eb
   "id": "5215ec11",
=======
   "id": "e7df6f9f",
>>>>>>> 6c25d2f1afd31725c9595ab9d8922b9d3c838629
   "metadata": {},
   "outputs": [],
   "source": [
    "listSFEMethods(\"bi\", \"local\")"
   ]
  },
  {
   "cell_type": "markdown",
<<<<<<< HEAD
<<<<<<< HEAD
   "id": "cf973b3a",
||||||| 00f6fb22
   "id": "334c077a",
=======
   "id": "520ba8a7",
>>>>>>> documentation-devel
||||||| d828f8eb
   "id": "cf973b3a",
=======
   "id": "f0d62a00",
>>>>>>> 6c25d2f1afd31725c9595ab9d8922b9d3c838629
   "metadata": {},
   "source": [
    "Here we compute local L for two myofiber marker genes and one gene highly expressed in the injury site:"
   ]
  },
  {
   "cell_type": "code",
   "execution_count": null,
<<<<<<< HEAD
<<<<<<< HEAD
   "id": "3a4c3b1c",
||||||| 00f6fb22
   "id": "4867f190",
=======
   "id": "85f78673",
>>>>>>> documentation-devel
||||||| d828f8eb
   "id": "3a4c3b1c",
=======
   "id": "da3285fa",
>>>>>>> 6c25d2f1afd31725c9595ab9d8922b9d3c838629
   "metadata": {},
   "outputs": [],
   "source": [
    "sfe_tissue <- runBivariate(sfe_tissue, \"locallee\", swap_rownames = \"symbol\",\n",
    "                           feature1 = c(\"Myh2\", \"Myh1\", \"Ftl1\"))"
   ]
  },
  {
   "cell_type": "markdown",
<<<<<<< HEAD
<<<<<<< HEAD
   "id": "1941eb36",
||||||| 00f6fb22
   "id": "4ede1b64",
=======
   "id": "6cb31900",
>>>>>>> documentation-devel
||||||| d828f8eb
   "id": "1941eb36",
=======
   "id": "c63f9564",
>>>>>>> 6c25d2f1afd31725c9595ab9d8922b9d3c838629
   "metadata": {},
   "source": [
    "Bivariate local results are stored in the `localResults` field and the feature names are the pairwise combinations of features supplied. When only `feature1` is specified, then the bivariate method is applied to all pairwise combinations of `feature1`. "
   ]
  },
  {
   "cell_type": "code",
   "execution_count": null,
<<<<<<< HEAD
<<<<<<< HEAD
   "id": "dce7ac8b",
||||||| 00f6fb22
   "id": "9a5e5a35",
=======
   "id": "f7fb372d",
>>>>>>> documentation-devel
||||||| d828f8eb
   "id": "dce7ac8b",
=======
   "id": "4cf02ad9",
>>>>>>> 6c25d2f1afd31725c9595ab9d8922b9d3c838629
   "metadata": {},
   "outputs": [],
   "source": [
    "localResultFeatures(sfe_tissue, \"locallee\")"
   ]
  },
  {
   "cell_type": "markdown",
<<<<<<< HEAD
<<<<<<< HEAD
   "id": "b4271b2b",
||||||| 00f6fb22
   "id": "5add28b1",
=======
   "id": "c6e9a013",
>>>>>>> documentation-devel
||||||| d828f8eb
   "id": "b4271b2b",
=======
   "id": "d5207a7e",
>>>>>>> 6c25d2f1afd31725c9595ab9d8922b9d3c838629
   "metadata": {
    "lines_to_next_cell": 0
   },
   "source": [
    "For Lee's L, both $L_{X,Y}$ and $L_{Y,X}$ are computed although they are the same. However, not all bivariate methods are symmetric (see next section). In the next release (Bioconductor 3.18), we may introduce another argument to indicate whether the method is symmetric and if so only compute $L_{X,Y}$ and not $L_{Y,X}$.\n",
    "\n",
    "First plot the three genes individually:"
   ]
  },
  {
   "cell_type": "code",
   "execution_count": null,
<<<<<<< HEAD
<<<<<<< HEAD
   "id": "c44488be",
||||||| 00f6fb22
   "id": "f39a624d",
=======
   "id": "c09a5b2a",
>>>>>>> documentation-devel
||||||| d828f8eb
   "id": "c44488be",
=======
   "id": "3fa49815",
>>>>>>> 6c25d2f1afd31725c9595ab9d8922b9d3c838629
   "metadata": {
    "fig.height": 4,
    "fig.width": 10
   },
   "outputs": [],
   "source": [
    "plotSpatialFeature(sfe_tissue, c(\"Myh2\", \"Myh1\", \"Ftl1\"), \n",
    "                   swap_rownames = \"symbol\", image_id = \"lowres\", maxcell = 5e4)"
   ]
  },
  {
   "cell_type": "markdown",
<<<<<<< HEAD
<<<<<<< HEAD
   "id": "b7fb26c9",
||||||| 00f6fb22
   "id": "6212ea17",
=======
   "id": "1446aac0",
>>>>>>> documentation-devel
||||||| d828f8eb
   "id": "b7fb26c9",
=======
   "id": "2aabd54a",
>>>>>>> 6c25d2f1afd31725c9595ab9d8922b9d3c838629
   "metadata": {
    "lines_to_next_cell": 0
   },
   "source": [
    "Then plot the local L's:"
   ]
  },
  {
   "cell_type": "code",
   "execution_count": null,
<<<<<<< HEAD
<<<<<<< HEAD
   "id": "db0df85b",
||||||| 00f6fb22
   "id": "b77cebfc",
=======
   "id": "1e347e92",
>>>>>>> documentation-devel
||||||| d828f8eb
   "id": "db0df85b",
=======
   "id": "4bccc5d7",
>>>>>>> 6c25d2f1afd31725c9595ab9d8922b9d3c838629
   "metadata": {
    "fig.height": 4,
    "fig.width": 10
   },
   "outputs": [],
   "source": [
    "plotLocalResult(sfe_tissue, \"locallee\", c(\"Myh1__Myh2\", \"Myh2__Ftl1\", \"Myh1__Ftl1\"),\n",
    "                colGeometryName = \"spotPoly\",\n",
    "                image_id = \"lowres\", maxcell = 5e4,\n",
    "                divergent = TRUE, diverge_center = 0)"
   ]
  },
  {
   "cell_type": "markdown",
<<<<<<< HEAD
<<<<<<< HEAD
   "id": "547cb05f",
||||||| 00f6fb22
   "id": "61d56881",
=======
   "id": "6ae69709",
>>>>>>> documentation-devel
||||||| d828f8eb
   "id": "547cb05f",
=======
   "id": "0ec429fe",
>>>>>>> 6c25d2f1afd31725c9595ab9d8922b9d3c838629
   "metadata": {
    "lines_to_next_cell": 0
   },
   "source": [
    "Here we see regions where Myh1 and Myh2 are more co-expressed, and where the myosins and Ftl1 are negatively correlated. \n",
    "\n",
    "$L_{X,X}$ is also computed, so we can plot the local SSS for the three genes:"
   ]
  },
  {
   "cell_type": "code",
   "execution_count": null,
<<<<<<< HEAD
<<<<<<< HEAD
   "id": "156137db",
||||||| 00f6fb22
   "id": "80a81a0f",
=======
   "id": "af1c0939",
>>>>>>> documentation-devel
||||||| d828f8eb
   "id": "156137db",
=======
   "id": "af828863",
>>>>>>> 6c25d2f1afd31725c9595ab9d8922b9d3c838629
   "metadata": {
    "fig.height": 4,
    "fig.width": 10
   },
   "outputs": [],
   "source": [
    "plotLocalResult(sfe_tissue, \"locallee\", c(\"Myh1__Myh1\", \"Myh2__Myh2\", \"Ftl1__Ftl1\"),\n",
    "                colGeometryName = \"spotPoly\",\n",
    "                image_id = \"lowres\", maxcell = 5e4)"
   ]
  },
  {
   "cell_type": "markdown",
<<<<<<< HEAD
<<<<<<< HEAD
   "id": "11d175f2",
||||||| 00f6fb22
   "id": "c11c348f",
=======
   "id": "f1c3ca4a",
>>>>>>> documentation-devel
||||||| d828f8eb
   "id": "11d175f2",
=======
   "id": "525cacae",
>>>>>>> 6c25d2f1afd31725c9595ab9d8922b9d3c838629
   "metadata": {
    "lines_to_next_cell": 0
   },
   "source": [
    "See how the local SSS compares to local Moran's I:"
   ]
  },
  {
   "cell_type": "code",
   "execution_count": null,
<<<<<<< HEAD
<<<<<<< HEAD
   "id": "b9d58bb4",
||||||| 00f6fb22
   "id": "3243e762",
=======
   "id": "2f311a5b",
>>>>>>> documentation-devel
||||||| d828f8eb
   "id": "b9d58bb4",
=======
   "id": "40ea06fc",
>>>>>>> 6c25d2f1afd31725c9595ab9d8922b9d3c838629
   "metadata": {},
   "outputs": [],
   "source": [
    "sfe_tissue <- runUnivariate(sfe_tissue, \"localmoran\", c(\"Myh2\", \"Myh1\", \"Ftl1\"),\n",
    "                            swap_rownames = \"symbol\")"
   ]
  },
  {
   "cell_type": "code",
   "execution_count": null,
<<<<<<< HEAD
<<<<<<< HEAD
   "id": "4ed24f80",
||||||| 00f6fb22
   "id": "07e6562e",
=======
   "id": "ea971d95",
>>>>>>> documentation-devel
||||||| d828f8eb
   "id": "4ed24f80",
=======
   "id": "382a7331",
>>>>>>> 6c25d2f1afd31725c9595ab9d8922b9d3c838629
   "metadata": {
    "fig.height": 4,
    "fig.width": 10
   },
   "outputs": [],
   "source": [
    "plotLocalResult(sfe_tissue, \"localmoran\", c(\"Myh1\", \"Myh2\", \"Ftl1\"),\n",
    "                colGeometryName = \"spotPoly\", swap_rownames = \"symbol\",\n",
    "                image_id = \"lowres\", maxcell = 5e4,\n",
    "                divergent = TRUE, diverge_center = 0)"
   ]
  },
  {
   "cell_type": "markdown",
<<<<<<< HEAD
<<<<<<< HEAD
   "id": "e154de82",
||||||| 00f6fb22
   "id": "7aecc9d9",
=======
   "id": "6a6c7457",
>>>>>>> documentation-devel
||||||| d828f8eb
   "id": "e154de82",
=======
   "id": "fb97f852",
>>>>>>> 6c25d2f1afd31725c9595ab9d8922b9d3c838629
   "metadata": {},
   "source": [
    "The patterns are qualitatively the same, but while local Moran's I is negative in heterogeneous regions, the SSS can't be negative.\n",
    "\n",
    "# Bivariate local Moran\n",
    "\n",
    "The `spdep` package implements a bivariate version of local Moran, which basically is \n",
    "\n",
    "$$\n",
    "I_{X_i,Y_i} = (n-1)\\frac{(x_i - \\bar{x})\\sum_{j=1}^n w_{ij} (y_j - \\bar{y})}{\\sqrt{\\sum_{i=1}^n (x_i - \\bar{x})^2} \\sqrt{\\sum_{i=1}^n (y_i - \\bar{y})^2}}.\n",
    "$$\n",
    "\n",
    "Note that this is not symmetric, i.e. $I_{X_i,Y_i} \\neq I_{Y_i,X_i}$."
   ]
  },
  {
   "cell_type": "code",
   "execution_count": null,
<<<<<<< HEAD
<<<<<<< HEAD
   "id": "8ae29c6e",
||||||| 00f6fb22
   "id": "f20feac6",
=======
   "id": "0c1e76ce",
>>>>>>> documentation-devel
||||||| d828f8eb
   "id": "8ae29c6e",
=======
   "id": "fd20d160",
>>>>>>> 6c25d2f1afd31725c9595ab9d8922b9d3c838629
   "metadata": {},
   "outputs": [],
   "source": [
    "sfe_tissue <- runBivariate(sfe_tissue, \"localmoran_bv\", c(\"Myh1\", \"Myh2\", \"Ftl1\"),\n",
    "                           swap_rownames = \"symbol\", nsim = 1000)"
   ]
  },
  {
   "cell_type": "code",
   "execution_count": null,
<<<<<<< HEAD
<<<<<<< HEAD
   "id": "b1a82174",
||||||| 00f6fb22
   "id": "867f60b5",
=======
   "id": "63a69de2",
>>>>>>> documentation-devel
||||||| d828f8eb
   "id": "b1a82174",
=======
   "id": "89083037",
>>>>>>> 6c25d2f1afd31725c9595ab9d8922b9d3c838629
   "metadata": {},
   "outputs": [],
   "source": [
    "localResultFeatures(sfe_tissue, \"localmoran_bv\")"
   ]
  },
  {
   "cell_type": "markdown",
<<<<<<< HEAD
<<<<<<< HEAD
   "id": "796ae10f",
||||||| 00f6fb22
   "id": "ef731840",
=======
   "id": "966ec392",
>>>>>>> documentation-devel
||||||| d828f8eb
   "id": "796ae10f",
=======
   "id": "57a69e73",
>>>>>>> 6c25d2f1afd31725c9595ab9d8922b9d3c838629
   "metadata": {
    "lines_to_next_cell": 0
   },
   "source": [
    "Permutation testing is performed so we get a pseudo p-value"
   ]
  },
  {
   "cell_type": "code",
   "execution_count": null,
<<<<<<< HEAD
<<<<<<< HEAD
   "id": "811c5c48",
||||||| 00f6fb22
   "id": "220c30d2",
=======
   "id": "5e235c03",
>>>>>>> documentation-devel
||||||| d828f8eb
   "id": "811c5c48",
=======
   "id": "1eaa64dd",
>>>>>>> 6c25d2f1afd31725c9595ab9d8922b9d3c838629
   "metadata": {},
   "outputs": [],
   "source": [
    "localResultAttrs(sfe_tissue, \"localmoran_bv\", \"Myh1__Myh2\")"
   ]
  },
  {
   "cell_type": "markdown",
<<<<<<< HEAD
<<<<<<< HEAD
   "id": "e6a25444",
||||||| 00f6fb22
   "id": "55dc7562",
=======
   "id": "f2d5200c",
>>>>>>> documentation-devel
||||||| d828f8eb
   "id": "e6a25444",
=======
   "id": "181731a6",
>>>>>>> 6c25d2f1afd31725c9595ab9d8922b9d3c838629
   "metadata": {
    "lines_to_next_cell": 0
   },
   "source": [
    "First plot the bivariate local Moran's I values"
   ]
  },
  {
   "cell_type": "code",
   "execution_count": null,
<<<<<<< HEAD
<<<<<<< HEAD
   "id": "a66f4f45",
||||||| 00f6fb22
   "id": "3352a085",
=======
   "id": "b391be9b",
>>>>>>> documentation-devel
||||||| d828f8eb
   "id": "a66f4f45",
=======
   "id": "1cde8011",
>>>>>>> 6c25d2f1afd31725c9595ab9d8922b9d3c838629
   "metadata": {
    "fig.height": 7.5,
    "fig.width": 10
   },
   "outputs": [],
   "source": [
    "plotLocalResult(sfe_tissue, \"localmoran_bv\", c(\"Myh1__Myh2\", \"Myh2__Ftl1\", \"Myh1__Ftl1\",\n",
    "                                               \"Myh2__Myh1\", \"Ftl1__Myh2\", \"Ftl1__Myh1\"),\n",
    "                colGeometryName = \"spotPoly\", attribute = \"Ibvi\",\n",
    "                image_id = \"lowres\", maxcell = 5e4,\n",
    "                divergent = TRUE, diverge_center = 0)"
   ]
  },
  {
   "cell_type": "markdown",
<<<<<<< HEAD
<<<<<<< HEAD
   "id": "1f006045",
||||||| 00f6fb22
   "id": "3eeb5d91",
=======
   "id": "0d75584a",
>>>>>>> documentation-devel
||||||| d828f8eb
   "id": "1f006045",
=======
   "id": "fd0422fa",
>>>>>>> 6c25d2f1afd31725c9595ab9d8922b9d3c838629
   "metadata": {},
   "source": [
    "The first row plots XY while the second row plots YX; note that while they are similar, they are not the same. What does bivariate local Moran mean? It's kind of like contribution of each location to the correlation between $x$ and spatially lagged $y$, so $x$ is not smoothed. In contrast, Lee's L is a scaled Pearson correlation between spatially lagged $x$ and spatially lagged $y$. Because permutation testing is performed, we can plot the pseudo-p-value, after correcting for multiple testing based on the spatial neighborhood graph:"
   ]
  },
  {
   "cell_type": "code",
   "execution_count": null,
<<<<<<< HEAD
<<<<<<< HEAD
   "id": "c5d7c20e",
||||||| 00f6fb22
   "id": "a746583f",
=======
   "id": "9af1557a",
>>>>>>> documentation-devel
||||||| d828f8eb
   "id": "c5d7c20e",
=======
   "id": "38b31c39",
>>>>>>> 6c25d2f1afd31725c9595ab9d8922b9d3c838629
   "metadata": {
    "fig.height": 7.5,
    "fig.width": 10
   },
   "outputs": [],
   "source": [
    "plotLocalResult(sfe_tissue, \"localmoran_bv\", c(\"Myh1__Myh2\", \"Myh2__Ftl1\", \"Myh1__Ftl1\",\n",
    "                                               \"Myh2__Myh1\", \"Ftl1__Myh2\", \"Ftl1__Myh1\"),\n",
    "                colGeometryName = \"spotPoly\", attribute = \"-log10p_adj Sim\",\n",
    "                image_id = \"lowres\", maxcell = 5e4,\n",
    "                divergent = TRUE, diverge_center = -log10(0.05))"
   ]
  },
  {
   "cell_type": "markdown",
<<<<<<< HEAD
<<<<<<< HEAD
   "id": "8d7ad158",
||||||| 00f6fb22
   "id": "731be1ba",
=======
   "id": "af81494e",
>>>>>>> documentation-devel
||||||| d828f8eb
   "id": "8d7ad158",
=======
   "id": "67182f9a",
>>>>>>> 6c25d2f1afd31725c9595ab9d8922b9d3c838629
   "metadata": {
    "lines_to_next_cell": 0
   },
   "source": [
    "Note that the p-values are asymetric, because according to the source code of `localmoran_bv()`, $y$ is permuted, but not $x$. It's also related to Wartenberg's spatial PCA [@Wartenberg1985-fk], where Moran's I is expressed in matrix form:\n",
    "\n",
    "$$\n",
    "\\mathbf{I} = \\frac{\\mathbf{Z}^T\\mathbf{WZ}}{\\mathbf 1^T \\mathbf{W1}},\n",
    "$$\n",
    "\n",
    "where $\\mathbf Z$ is the data matrix with scaled and centered variables in columns, $\\mathbf W$ is the spatial weights matrix, and $\\mathbf 1$ is a vector of all 1's, so the denominator is in effect $\\sum_{i=1}^n \\sum_{j=1}^n w_{ij}$. The diagonal entries are Moran's I's for the variables, and the off diagonal entries are the global versions of what we computed here that sum the bivariate local Moran's I's and divide by the sum of all spatial weights. Because $\\mathbf W$ doesn't have to be symmetric, this matrix may not be symmetric. Wartenberg diagonalized this matrix in place of the covariance matrix for spatial PCA. When using scaled and centered data and row normalized spatial weights matrix, MULTISPATI PCA is equivalent to Wartenberg's approach [@Dray2008-en]. Lee considered this asymmetry an inadequacy of Wartenberg's approach as a bivariate association measure [@Lee2001-tm]. While I'm not sure how bivariate local Moran's I helps with data analysis, it is an interesting piece of history. \n",
    "\n",
    "# Session info"
   ]
  },
  {
   "cell_type": "code",
   "execution_count": null,
<<<<<<< HEAD
<<<<<<< HEAD
   "id": "bdf4aa30",
||||||| 00f6fb22
   "id": "7fa589c5",
=======
   "id": "319928b7",
>>>>>>> documentation-devel
||||||| d828f8eb
   "id": "bdf4aa30",
=======
   "id": "a9627aee",
>>>>>>> 6c25d2f1afd31725c9595ab9d8922b9d3c838629
   "metadata": {},
   "outputs": [],
   "source": [
    "sessionInfo()"
   ]
  },
  {
   "cell_type": "markdown",
<<<<<<< HEAD
<<<<<<< HEAD
   "id": "2f0febd5",
||||||| 00f6fb22
   "id": "fa6e3e16",
=======
   "id": "0f7c17c5",
>>>>>>> documentation-devel
||||||| d828f8eb
   "id": "2f0febd5",
=======
   "id": "811a1383",
>>>>>>> 6c25d2f1afd31725c9595ab9d8922b9d3c838629
   "metadata": {},
   "source": [
    "# References"
   ]
  }
 ],
 "metadata": {
  "kernelspec": {
   "display_name": "R",
   "language": "R",
   "name": "ir"
  }
 },
 "nbformat": 4,
 "nbformat_minor": 5
}
