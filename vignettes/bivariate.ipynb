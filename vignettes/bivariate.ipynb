{
 "cells": [
  {
   "cell_type": "raw",
<<<<<<< HEAD
<<<<<<< HEAD
<<<<<<< HEAD
   "id": "5c9a41c7",
||||||| 3477967
   "id": "cf53aaab",
=======
   "id": "23edc606",
>>>>>>> 763a65aa00deab365d39bc26b2dcb2cc1410a666
||||||| eb63ff5
   "id": "5c9a41c7",
=======
   "id": "e39d44af",
>>>>>>> documentation-devel
||||||| cd53b20
<<<<<<< HEAD
   "id": "5c9a41c7",
||||||| 3477967
   "id": "cf53aaab",
=======
   "id": "23edc606",
>>>>>>> 763a65aa00deab365d39bc26b2dcb2cc1410a666
=======
   "id": "0ee01474",
>>>>>>> 61c8f4bff1b7848db82b013fbfba194514b420ca
   "metadata": {},
   "source": [
    "---\n",
    "title: \"Bivariate spatial statistics\"\n",
    "author: \"Lambda Moses\"\n",
    "date: \"`r Sys.Date()`\"\n",
    "output: \n",
    "  html_document:\n",
    "  toc: true\n",
    "  toc_float:\n",
    "    collapsed: false\n",
    "  toc_depth: 3\n",
    "bibliography: ref.bib\n",
    "vignette: >\n",
    "  %\\VignetteIndexEntry{bivariate}\n",
    "  %\\VignetteEngine{knitr::rmarkdown}\n",
    "  %\\VignetteEncoding{UTF-8}\n",
    "---"
   ]
  },
  {
   "cell_type": "code",
   "execution_count": null,
<<<<<<< HEAD
<<<<<<< HEAD
<<<<<<< HEAD
   "id": "da5fc15b",
||||||| 3477967
   "id": "87f15b67",
=======
   "id": "2d79a949",
>>>>>>> 763a65aa00deab365d39bc26b2dcb2cc1410a666
||||||| eb63ff5
   "id": "da5fc15b",
=======
   "id": "0d733365",
>>>>>>> documentation-devel
||||||| cd53b20
<<<<<<< HEAD
   "id": "da5fc15b",
||||||| 3477967
   "id": "87f15b67",
=======
   "id": "2d79a949",
>>>>>>> 763a65aa00deab365d39bc26b2dcb2cc1410a666
=======
   "id": "b72755d5",
>>>>>>> 61c8f4bff1b7848db82b013fbfba194514b420ca
   "metadata": {
    "tags": [
     "remove_cell"
    ]
   },
   "outputs": [],
   "source": [
    "knitr::opts_chunk$set(\n",
    "  collapse = TRUE,\n",
    "  comment = \"#>\"\n",
    ")"
   ]
  },
  {
   "cell_type": "code",
   "execution_count": null,
<<<<<<< HEAD
<<<<<<< HEAD
<<<<<<< HEAD
   "id": "aa207357",
||||||| 3477967
   "id": "e5a3081a",
=======
   "id": "0cbd3788",
>>>>>>> 763a65aa00deab365d39bc26b2dcb2cc1410a666
||||||| eb63ff5
   "id": "aa207357",
=======
   "id": "a6659fff",
>>>>>>> documentation-devel
||||||| cd53b20
<<<<<<< HEAD
   "id": "aa207357",
||||||| 3477967
   "id": "e5a3081a",
=======
   "id": "0cbd3788",
>>>>>>> 763a65aa00deab365d39bc26b2dcb2cc1410a666
=======
   "id": "34a4c3e9",
>>>>>>> 61c8f4bff1b7848db82b013fbfba194514b420ca
   "metadata": {
    "eval": false,
    "tags": [
     "remove_cell"
    ]
   },
   "outputs": [],
   "source": [
    "# Install Google Colab dependencies\n",
    "# Note: this can take 30+ minutes (many of the dependencies include C++ code, which needs to be compiled)\n",
    "\n",
    "# First install `sf`, `ragg` and `textshaping` and their system dependencies:\n",
    "system(\"apt-get -y update && apt-get install -y  libudunits2-dev libgdal-dev libgeos-dev libproj-dev libharfbuzz-dev libfribidi-dev\")\n",
    "install.packages(\"sf\")\n",
    "install.packages(\"textshaping\")\n",
    "install.packages(\"ragg\")\n",
    "\n",
    "# Install system dependencies of some other R packages that Voyager either imports or suggests:\n",
    "system(\"apt-get install -y libfribidi-dev libcairo2-dev libmagick++-dev\")\n",
    "\n",
    "# Install Voyager from Bioconductor:\n",
    "install.packages(\"BiocManager\")\n",
    "BiocManager::install(version = \"3.17\", ask = FALSE, update = FALSE, Ncpus = 2)\n",
    "BiocManager::install(\"scater\")\n",
    "system.time(\n",
    "  BiocManager::install(\"Voyager\", dependencies = TRUE, Ncpus = 2, update = FALSE)\n",
    ")\n",
    "\n",
    "# Other packages used in this vignette\n",
    "packageVersion(\"Voyager\")"
   ]
  },
  {
   "cell_type": "markdown",
<<<<<<< HEAD
<<<<<<< HEAD
<<<<<<< HEAD
   "id": "3c21230d",
||||||| 3477967
   "id": "902c0584",
=======
   "id": "62cfa18f",
>>>>>>> 763a65aa00deab365d39bc26b2dcb2cc1410a666
||||||| eb63ff5
   "id": "3c21230d",
=======
   "id": "b8e18d48",
>>>>>>> documentation-devel
||||||| cd53b20
<<<<<<< HEAD
   "id": "3c21230d",
||||||| 3477967
   "id": "902c0584",
=======
   "id": "62cfa18f",
>>>>>>> 763a65aa00deab365d39bc26b2dcb2cc1410a666
=======
   "id": "0e0934d0",
>>>>>>> 61c8f4bff1b7848db82b013fbfba194514b420ca
   "metadata": {
    "lines_to_next_cell": 0
   },
   "source": [
    "# Introduction\n",
    "\n",
    "Consider two variables that are correlated, say with Pearson correlation of 0.8. The observations are spatially referenced. The locations of the observations can be permuted without affecting Pearson correlation. The purpose of bivariate spatial statistics is to indicate both correlation in value (as in Pearson correlation), and spatial autocorrelation and co-patterning. \n",
    "One of the bivariate methods implemented in `Voyager` is the cross variogram, which is shown in the [variogram vignette](https://pachterlab.github.io/voyager/articles/variogram.html). This vignette demonstrates other bivariate spatial statistics, which use a spatial neighborhood graph, on the mouse skeletal muscle Visium dataset.\n",
    "\n",
    "Here we load the packages used:"
   ]
  },
  {
   "cell_type": "code",
   "execution_count": null,
<<<<<<< HEAD
<<<<<<< HEAD
<<<<<<< HEAD
   "id": "f6878d7b",
||||||| 3477967
   "id": "21ab2a1f",
=======
   "id": "3364e9b0",
>>>>>>> 763a65aa00deab365d39bc26b2dcb2cc1410a666
||||||| eb63ff5
   "id": "f6878d7b",
=======
   "id": "c99f01f0",
>>>>>>> documentation-devel
||||||| cd53b20
<<<<<<< HEAD
   "id": "f6878d7b",
||||||| 3477967
   "id": "21ab2a1f",
=======
   "id": "3364e9b0",
>>>>>>> 763a65aa00deab365d39bc26b2dcb2cc1410a666
=======
   "id": "6c88f2a6",
>>>>>>> 61c8f4bff1b7848db82b013fbfba194514b420ca
   "metadata": {
    "message": false
   },
   "outputs": [],
   "source": [
    "library(Voyager)\n",
    "library(SFEData)\n",
    "library(SpatialFeatureExperiment)\n",
    "library(scater)\n",
    "library(scran)\n",
    "library(ggplot2)\n",
    "library(pheatmap)\n",
    "library(scico)\n",
    "theme_set(theme_bw())"
   ]
  },
  {
   "cell_type": "markdown",
<<<<<<< HEAD
<<<<<<< HEAD
<<<<<<< HEAD
   "id": "eb8fd815",
||||||| 3477967
   "id": "9858867b",
=======
   "id": "3665a427",
>>>>>>> 763a65aa00deab365d39bc26b2dcb2cc1410a666
||||||| eb63ff5
   "id": "eb8fd815",
=======
   "id": "7a3d0494",
>>>>>>> documentation-devel
||||||| cd53b20
<<<<<<< HEAD
   "id": "eb8fd815",
||||||| 3477967
   "id": "9858867b",
=======
   "id": "3665a427",
>>>>>>> 763a65aa00deab365d39bc26b2dcb2cc1410a666
=======
   "id": "1f83cf99",
>>>>>>> 61c8f4bff1b7848db82b013fbfba194514b420ca
   "metadata": {
    "lines_to_next_cell": 0
   },
   "source": [
    "A list of all bivariate global methods can be seen here:"
   ]
  },
  {
   "cell_type": "code",
   "execution_count": null,
<<<<<<< HEAD
<<<<<<< HEAD
<<<<<<< HEAD
   "id": "76b04ba5",
||||||| 3477967
   "id": "32a219be",
=======
   "id": "ea449ca2",
>>>>>>> 763a65aa00deab365d39bc26b2dcb2cc1410a666
||||||| eb63ff5
   "id": "76b04ba5",
=======
   "id": "04aa405d",
>>>>>>> documentation-devel
||||||| cd53b20
<<<<<<< HEAD
   "id": "76b04ba5",
||||||| 3477967
   "id": "32a219be",
=======
   "id": "ea449ca2",
>>>>>>> 763a65aa00deab365d39bc26b2dcb2cc1410a666
=======
   "id": "86210770",
>>>>>>> 61c8f4bff1b7848db82b013fbfba194514b420ca
   "metadata": {},
   "outputs": [],
   "source": [
    "listSFEMethods(variate = \"bi\", scope = \"global\")"
   ]
  },
  {
   "cell_type": "markdown",
<<<<<<< HEAD
<<<<<<< HEAD
<<<<<<< HEAD
   "id": "018dfe03",
||||||| 3477967
   "id": "da1c2e71",
=======
   "id": "c06a436d",
>>>>>>> 763a65aa00deab365d39bc26b2dcb2cc1410a666
||||||| eb63ff5
   "id": "018dfe03",
=======
   "id": "0cc9045e",
>>>>>>> documentation-devel
||||||| cd53b20
<<<<<<< HEAD
   "id": "018dfe03",
||||||| 3477967
   "id": "da1c2e71",
=======
   "id": "c06a436d",
>>>>>>> 763a65aa00deab365d39bc26b2dcb2cc1410a666
=======
   "id": "45957cc8",
>>>>>>> 61c8f4bff1b7848db82b013fbfba194514b420ca
   "metadata": {
    "lines_to_next_cell": 0
   },
   "source": [
    "When calling `calculate*variate()` or `run*variate()`, the `type` (2nd) argument takes either an `SFEMethod` object or a string that matches an entry in the `name` column in the data frame returned by `listSFEMethods()`.\n",
    "\n",
    "QC was performed in [another vignette](https://pachterlab.github.io/voyager/articles/vig1_visium_basic.html), so this vignette will not plot QC metrics."
   ]
  },
  {
   "cell_type": "code",
   "execution_count": null,
<<<<<<< HEAD
<<<<<<< HEAD
<<<<<<< HEAD
   "id": "51e02710",
||||||| 3477967
   "id": "2c0fac64",
=======
   "id": "c80c2416",
>>>>>>> 763a65aa00deab365d39bc26b2dcb2cc1410a666
||||||| eb63ff5
   "id": "51e02710",
=======
   "id": "eee2e277",
>>>>>>> documentation-devel
||||||| cd53b20
<<<<<<< HEAD
   "id": "51e02710",
||||||| 3477967
   "id": "2c0fac64",
=======
   "id": "c80c2416",
>>>>>>> 763a65aa00deab365d39bc26b2dcb2cc1410a666
=======
   "id": "f5ea58f0",
>>>>>>> 61c8f4bff1b7848db82b013fbfba194514b420ca
   "metadata": {},
   "outputs": [],
   "source": [
    "(sfe <- McKellarMuscleData(\"full\"))"
   ]
  },
  {
   "cell_type": "markdown",
<<<<<<< HEAD
<<<<<<< HEAD
<<<<<<< HEAD
   "id": "efdbee17",
||||||| 3477967
   "id": "f368ea4f",
=======
   "id": "bf76b644",
>>>>>>> 763a65aa00deab365d39bc26b2dcb2cc1410a666
||||||| eb63ff5
   "id": "efdbee17",
=======
   "id": "c9ab8fa4",
>>>>>>> documentation-devel
||||||| cd53b20
<<<<<<< HEAD
   "id": "efdbee17",
||||||| 3477967
   "id": "f368ea4f",
=======
   "id": "bf76b644",
>>>>>>> 763a65aa00deab365d39bc26b2dcb2cc1410a666
=======
   "id": "bbb15d32",
>>>>>>> 61c8f4bff1b7848db82b013fbfba194514b420ca
   "metadata": {
    "lines_to_next_cell": 0
   },
   "source": [
    "The image can be added to the SFE object and plotted behind the geometries, and needs to be flipped to align to the spots because the origin is at the top left for the image but bottom left for geometries."
   ]
  },
  {
   "cell_type": "code",
   "execution_count": null,
<<<<<<< HEAD
<<<<<<< HEAD
<<<<<<< HEAD
   "id": "30b0079d",
||||||| 3477967
   "id": "b2b64d40",
=======
   "id": "1a933a7c",
>>>>>>> 763a65aa00deab365d39bc26b2dcb2cc1410a666
||||||| eb63ff5
   "id": "30b0079d",
=======
   "id": "365f653b",
>>>>>>> documentation-devel
||||||| cd53b20
<<<<<<< HEAD
   "id": "30b0079d",
||||||| 3477967
   "id": "b2b64d40",
=======
   "id": "1a933a7c",
>>>>>>> 763a65aa00deab365d39bc26b2dcb2cc1410a666
=======
   "id": "a4e5a9d8",
>>>>>>> 61c8f4bff1b7848db82b013fbfba194514b420ca
   "metadata": {},
   "outputs": [],
   "source": [
    "sfe <- addImg(sfe, file = \"tissue_lowres_5a.jpeg\", sample_id = \"Vis5A\", \n",
    "              image_id = \"lowres\", \n",
    "              scale_fct = 1024/22208)\n",
    "sfe <- mirrorImg(sfe, sample_id = \"Vis5A\", image_id = \"lowres\")"
   ]
  },
  {
   "cell_type": "code",
   "execution_count": null,
<<<<<<< HEAD
<<<<<<< HEAD
<<<<<<< HEAD
   "id": "f41db71a",
||||||| 3477967
   "id": "22b69536",
=======
   "id": "b817a93b",
>>>>>>> 763a65aa00deab365d39bc26b2dcb2cc1410a666
||||||| eb63ff5
   "id": "f41db71a",
=======
   "id": "2c473cf6",
>>>>>>> documentation-devel
||||||| cd53b20
<<<<<<< HEAD
   "id": "f41db71a",
||||||| 3477967
   "id": "22b69536",
=======
   "id": "b817a93b",
>>>>>>> 763a65aa00deab365d39bc26b2dcb2cc1410a666
=======
   "id": "f85367b8",
>>>>>>> 61c8f4bff1b7848db82b013fbfba194514b420ca
   "metadata": {},
   "outputs": [],
   "source": [
    "sfe_tissue <- sfe[,colData(sfe)$in_tissue]\n",
    "sfe_tissue <- sfe_tissue[rowSums(counts(sfe_tissue)) > 0,]"
   ]
  },
  {
   "cell_type": "code",
   "execution_count": null,
<<<<<<< HEAD
<<<<<<< HEAD
<<<<<<< HEAD
   "id": "5a0a422f",
||||||| 3477967
   "id": "b5668662",
=======
   "id": "ba886587",
>>>>>>> 763a65aa00deab365d39bc26b2dcb2cc1410a666
||||||| eb63ff5
   "id": "5a0a422f",
=======
   "id": "f59c689c",
>>>>>>> documentation-devel
||||||| cd53b20
<<<<<<< HEAD
   "id": "5a0a422f",
||||||| 3477967
   "id": "b5668662",
=======
   "id": "ba886587",
>>>>>>> 763a65aa00deab365d39bc26b2dcb2cc1410a666
=======
   "id": "0d8305ae",
>>>>>>> 61c8f4bff1b7848db82b013fbfba194514b420ca
   "metadata": {},
   "outputs": [],
   "source": [
    "sfe_tissue <- logNormCounts(sfe_tissue)"
   ]
  },
  {
   "cell_type": "code",
   "execution_count": null,
<<<<<<< HEAD
<<<<<<< HEAD
<<<<<<< HEAD
   "id": "937904b8",
||||||| 3477967
   "id": "98061241",
=======
   "id": "31aa1855",
>>>>>>> 763a65aa00deab365d39bc26b2dcb2cc1410a666
||||||| eb63ff5
   "id": "937904b8",
=======
   "id": "2a91bf16",
>>>>>>> documentation-devel
||||||| cd53b20
<<<<<<< HEAD
   "id": "937904b8",
||||||| 3477967
   "id": "98061241",
=======
   "id": "31aa1855",
>>>>>>> 763a65aa00deab365d39bc26b2dcb2cc1410a666
=======
   "id": "7880c600",
>>>>>>> 61c8f4bff1b7848db82b013fbfba194514b420ca
   "metadata": {},
   "outputs": [],
   "source": [
    "colGraph(sfe_tissue, \"visium\") <- findVisiumGraph(sfe_tissue)"
   ]
  },
  {
   "cell_type": "markdown",
<<<<<<< HEAD
<<<<<<< HEAD
<<<<<<< HEAD
   "id": "6f9ae0a2",
||||||| 3477967
   "id": "641a6f9a",
=======
   "id": "3f935130",
>>>>>>> 763a65aa00deab365d39bc26b2dcb2cc1410a666
||||||| eb63ff5
   "id": "6f9ae0a2",
=======
   "id": "066ae455",
>>>>>>> documentation-devel
||||||| cd53b20
<<<<<<< HEAD
   "id": "6f9ae0a2",
||||||| 3477967
   "id": "641a6f9a",
=======
   "id": "3f935130",
>>>>>>> 763a65aa00deab365d39bc26b2dcb2cc1410a666
=======
   "id": "447ddfef",
>>>>>>> 61c8f4bff1b7848db82b013fbfba194514b420ca
   "metadata": {
    "lines_to_next_cell": 0
   },
   "source": [
    "# Lee's L\n",
    "\n",
    "Lee's L [@Lee2001-tm] was developed from relating Moran's I to Pearson correlation, and is defined as\n",
    "\n",
    "$$\n",
    "L_{X,Y} = \\frac{n}{\\sum_{i=1}^n \\sum_{j=1}^n w_{ij}} \\frac{\\sum_{i=1}^n \\left[ \\sum_{j=1}^n w_{ij}  (x_j - \\bar{x}) \\right] \\left[ \\sum_{j=1}^n w_{ij} (y_j - \\bar{y}) \\right]}{\\sqrt{\\sum_{i=1}^n (x_i - \\bar{x})^2}\\sqrt{\\sum_{i=1}^n (y_i - \\bar{y})^2} },\n",
    "$$\n",
    "\n",
    "where $n$ is the number of spots or locations, $i$ and $j$ are different locations, or spots in the Visium context, $x$ and $y$ are variables with values at each location, and $w_{ij}$ is a spatial weight, which can be inversely proportional to distance between spots or an indicator of whether two spots are neighbors, subject to various definitions of neighborhood. \n",
    "\n",
    "Here we compute Lee's L for top highly variagle genes (HVGs) in this dataset:"
   ]
  },
  {
   "cell_type": "code",
   "execution_count": null,
<<<<<<< HEAD
<<<<<<< HEAD
<<<<<<< HEAD
   "id": "5a70ccf1",
||||||| 3477967
   "id": "77b198a3",
=======
   "id": "a9dee011",
>>>>>>> 763a65aa00deab365d39bc26b2dcb2cc1410a666
||||||| eb63ff5
   "id": "5a70ccf1",
=======
   "id": "8895da1e",
>>>>>>> documentation-devel
||||||| cd53b20
<<<<<<< HEAD
   "id": "5a70ccf1",
||||||| 3477967
   "id": "77b198a3",
=======
   "id": "a9dee011",
>>>>>>> 763a65aa00deab365d39bc26b2dcb2cc1410a666
=======
   "id": "db7c577e",
>>>>>>> 61c8f4bff1b7848db82b013fbfba194514b420ca
   "metadata": {},
   "outputs": [],
   "source": [
    "hvgs <- getTopHVGs(sfe_tissue, fdr.threshold = 0.01)"
   ]
  },
  {
   "cell_type": "markdown",
<<<<<<< HEAD
<<<<<<< HEAD
<<<<<<< HEAD
   "id": "49e2f8ea",
||||||| 3477967
   "id": "48c047d3",
=======
   "id": "3ab8bf3b",
>>>>>>> 763a65aa00deab365d39bc26b2dcb2cc1410a666
||||||| eb63ff5
   "id": "49e2f8ea",
=======
   "id": "cc689d04",
>>>>>>> documentation-devel
||||||| cd53b20
<<<<<<< HEAD
   "id": "49e2f8ea",
||||||| 3477967
   "id": "48c047d3",
=======
   "id": "3ab8bf3b",
>>>>>>> 763a65aa00deab365d39bc26b2dcb2cc1410a666
=======
   "id": "3e937317",
>>>>>>> 61c8f4bff1b7848db82b013fbfba194514b420ca
   "metadata": {},
   "source": [
    "Because bivariate global results can have very different formats (matrix for Lee's L and lists for many other methods), the results are not stored in the SFE object."
   ]
  },
  {
   "cell_type": "code",
   "execution_count": null,
<<<<<<< HEAD
<<<<<<< HEAD
<<<<<<< HEAD
   "id": "ed0b7614",
||||||| 3477967
   "id": "a8a3207c",
=======
   "id": "15f3b827",
>>>>>>> 763a65aa00deab365d39bc26b2dcb2cc1410a666
||||||| eb63ff5
   "id": "ed0b7614",
=======
   "id": "616e81de",
>>>>>>> documentation-devel
||||||| cd53b20
<<<<<<< HEAD
   "id": "ed0b7614",
||||||| 3477967
   "id": "a8a3207c",
=======
   "id": "15f3b827",
>>>>>>> 763a65aa00deab365d39bc26b2dcb2cc1410a666
=======
   "id": "e8616068",
>>>>>>> 61c8f4bff1b7848db82b013fbfba194514b420ca
   "metadata": {},
   "outputs": [],
   "source": [
    "res <- calculateBivariate(sfe_tissue, type = \"lee\", feature1 = hvgs)"
   ]
  },
  {
   "cell_type": "markdown",
<<<<<<< HEAD
<<<<<<< HEAD
<<<<<<< HEAD
   "id": "e23a9e86",
||||||| 3477967
   "id": "b1485ef4",
=======
   "id": "8c7880da",
>>>>>>> 763a65aa00deab365d39bc26b2dcb2cc1410a666
||||||| eb63ff5
   "id": "e23a9e86",
=======
   "id": "b9d7aacc",
>>>>>>> documentation-devel
||||||| cd53b20
<<<<<<< HEAD
   "id": "e23a9e86",
||||||| 3477967
   "id": "b1485ef4",
=======
   "id": "8c7880da",
>>>>>>> 763a65aa00deab365d39bc26b2dcb2cc1410a666
=======
   "id": "a4995436",
>>>>>>> 61c8f4bff1b7848db82b013fbfba194514b420ca
   "metadata": {
    "lines_to_next_cell": 0
   },
   "source": [
    "This gives a spatially informed correlation matrix among the genes, which can be plotted as a heatmap:"
   ]
  },
  {
   "cell_type": "code",
   "execution_count": null,
<<<<<<< HEAD
<<<<<<< HEAD
<<<<<<< HEAD
   "id": "45795529",
||||||| 3477967
   "id": "abac7017",
=======
   "id": "c04f0185",
>>>>>>> 763a65aa00deab365d39bc26b2dcb2cc1410a666
||||||| eb63ff5
   "id": "45795529",
=======
   "id": "9b0ee0b5",
>>>>>>> documentation-devel
||||||| cd53b20
<<<<<<< HEAD
   "id": "45795529",
||||||| 3477967
   "id": "abac7017",
=======
   "id": "c04f0185",
>>>>>>> 763a65aa00deab365d39bc26b2dcb2cc1410a666
=======
   "id": "f1dce265",
>>>>>>> 61c8f4bff1b7848db82b013fbfba194514b420ca
   "metadata": {},
   "outputs": [],
   "source": [
    "pal_rng <- getDivergeRange(res)\n",
    "pal <- scico(256, begin = pal_rng[1], end = pal_rng[2], palette = \"vik\")"
   ]
  },
  {
   "cell_type": "code",
   "execution_count": null,
<<<<<<< HEAD
<<<<<<< HEAD
<<<<<<< HEAD
   "id": "fc0502fd",
||||||| 3477967
   "id": "942c7be1",
=======
   "id": "d94167e9",
>>>>>>> 763a65aa00deab365d39bc26b2dcb2cc1410a666
||||||| cd53b20
<<<<<<< HEAD
   "id": "fc0502fd",
||||||| 3477967
   "id": "942c7be1",
=======
   "id": "d94167e9",
>>>>>>> 763a65aa00deab365d39bc26b2dcb2cc1410a666
=======
   "id": "b51202da",
>>>>>>> 61c8f4bff1b7848db82b013fbfba194514b420ca
   "metadata": {},
||||||| eb63ff5
   "id": "fc0502fd",
   "metadata": {},
=======
   "id": "5d18f7dc",
   "metadata": {
    "fig.height": 6,
    "fig.width": 6
   },
>>>>>>> documentation-devel
   "outputs": [],
   "source": [
    "pheatmap(res, color = pal, show_rownames = FALSE, \n",
    "         show_colnames = FALSE, cellwidth = 1, cellheight = 1)"
   ]
  },
  {
   "cell_type": "markdown",
<<<<<<< HEAD
<<<<<<< HEAD
<<<<<<< HEAD
   "id": "4f8f5450",
||||||| 3477967
   "id": "ecc60d3e",
=======
   "id": "43c086f4",
>>>>>>> 763a65aa00deab365d39bc26b2dcb2cc1410a666
||||||| eb63ff5
   "id": "4f8f5450",
=======
   "id": "146fee37",
>>>>>>> documentation-devel
||||||| cd53b20
<<<<<<< HEAD
   "id": "4f8f5450",
||||||| 3477967
   "id": "ecc60d3e",
=======
   "id": "43c086f4",
>>>>>>> 763a65aa00deab365d39bc26b2dcb2cc1410a666
=======
   "id": "41198696",
>>>>>>> 61c8f4bff1b7848db82b013fbfba194514b420ca
   "metadata": {
    "lines_to_next_cell": 0
   },
   "source": [
    "Some coexpression blocks can be seen. Note that unlike in Pearson correlation, the diagonal is not 1, because\n",
    "\n",
    "$$\n",
    "L_{X,X} = \\frac{\\sum_i (\\tilde x_i - \\bar x)^2}{\\sum_i (x_i - \\bar x)^2} = \\mathrm{SSS}_X,\n",
    "$$\n",
    "\n",
    "which is approximated the ratio between the variance of spatially lagged $x$ and variance of $x$. Because the spatial lag introduces smoothing, the spatial lag reduced variance, making the diagonal less than 1. This is the spatial smoothing scalar (SSS), and Moran's I is approximately Pearson correlation between $X$ and spatially lagged $X$ ($\\tilde X$) multiplied by SSS:\n",
    "\n",
    "$$\n",
    "I = \\mathrm{SSS}_X \\cdot \\rho_{X, \\tilde X}\n",
    "$$\n",
    "\n",
    "Similarly for Lee's L, as shown in [@Lee2001-tm],\n",
    "\n",
    "$$\n",
    "L_{X, Y} = \\sqrt{\\mathrm{SSS}_X}\\sqrt{\\mathrm{SSS}_Y} \\cdot \\rho_{\\tilde X, \\tilde Y}\n",
    "$$\n",
    "\n",
    "With more spatial clustering, the variance is less reduced by the spatial lag, leading to a larger SSS.\n",
    "\n",
    "Weighted correlation network analysis (WGCNA) [@Langfelder2008-fs] is a time honored method to find gene co-expression modules, and it can take any correlation matrix. Then it would be interesting to apply WGCNA to the Lee's L matrix to identify spatially informed gene co-expression modules.\n",
    "\n",
    "# Local Lee\n",
    "\n",
    "Local Lee's L is defined as\n",
    "\n",
    "$$\n",
    "L_i = \\frac{n\\left[ \\sum_{j=1}^n w_{ij}  (x_j - \\bar{x}) \\right] \\left[ \\sum_{j=1}^n w_{ij} (y_j - \\bar{y}) \\right]}{\\sqrt{\\sum_{i=1}^n (x_i - \\bar{x})^2}\\sqrt{\\sum_{i=1}^n (y_i - \\bar{y})^2} }\n",
    "$$\n",
    "\n",
    "Compare this to the global L in the previous section. Local L does not sum over the locations $i$. This is the contribution of each location to global L and can show spatial heterogeneity in the relationship between two variables. \n",
    "\n",
    "All bivariate local methods in `Voyager` is listed here:"
   ]
  },
  {
   "cell_type": "code",
   "execution_count": null,
<<<<<<< HEAD
<<<<<<< HEAD
<<<<<<< HEAD
   "id": "fa330003",
||||||| 3477967
   "id": "cd30e025",
=======
   "id": "c18a8b94",
>>>>>>> 763a65aa00deab365d39bc26b2dcb2cc1410a666
||||||| eb63ff5
   "id": "fa330003",
=======
   "id": "03012ee2",
>>>>>>> documentation-devel
||||||| cd53b20
<<<<<<< HEAD
   "id": "fa330003",
||||||| 3477967
   "id": "cd30e025",
=======
   "id": "c18a8b94",
>>>>>>> 763a65aa00deab365d39bc26b2dcb2cc1410a666
=======
   "id": "f92e74cd",
>>>>>>> 61c8f4bff1b7848db82b013fbfba194514b420ca
   "metadata": {},
   "outputs": [],
   "source": [
    "listSFEMethods(\"bi\", \"local\")"
   ]
  },
  {
   "cell_type": "markdown",
<<<<<<< HEAD
<<<<<<< HEAD
<<<<<<< HEAD
   "id": "71d15583",
||||||| 3477967
   "id": "e6cbd80a",
=======
   "id": "6816af12",
>>>>>>> 763a65aa00deab365d39bc26b2dcb2cc1410a666
||||||| eb63ff5
   "id": "71d15583",
=======
   "id": "ade127bf",
>>>>>>> documentation-devel
||||||| cd53b20
<<<<<<< HEAD
   "id": "71d15583",
||||||| 3477967
   "id": "e6cbd80a",
=======
   "id": "6816af12",
>>>>>>> 763a65aa00deab365d39bc26b2dcb2cc1410a666
=======
   "id": "4bb3c00b",
>>>>>>> 61c8f4bff1b7848db82b013fbfba194514b420ca
   "metadata": {},
   "source": [
    "Here we compute local L for two myofiber marker genes and one gene highly expressed in the injury site:"
   ]
  },
  {
   "cell_type": "code",
   "execution_count": null,
<<<<<<< HEAD
<<<<<<< HEAD
<<<<<<< HEAD
   "id": "5e2e5da8",
||||||| 3477967
   "id": "61a910d7",
=======
   "id": "676d95da",
>>>>>>> 763a65aa00deab365d39bc26b2dcb2cc1410a666
||||||| eb63ff5
   "id": "5e2e5da8",
=======
   "id": "92a0a42e",
>>>>>>> documentation-devel
||||||| cd53b20
<<<<<<< HEAD
   "id": "5e2e5da8",
||||||| 3477967
   "id": "61a910d7",
=======
   "id": "676d95da",
>>>>>>> 763a65aa00deab365d39bc26b2dcb2cc1410a666
=======
   "id": "c5663288",
>>>>>>> 61c8f4bff1b7848db82b013fbfba194514b420ca
   "metadata": {},
   "outputs": [],
   "source": [
    "sfe_tissue <- runBivariate(sfe_tissue, \"locallee\", swap_rownames = \"symbol\",\n",
    "                           feature1 = c(\"Myh2\", \"Myh1\", \"Ftl1\"))"
   ]
  },
  {
   "cell_type": "markdown",
<<<<<<< HEAD
<<<<<<< HEAD
<<<<<<< HEAD
   "id": "93b97606",
||||||| 3477967
   "id": "8e200548",
=======
   "id": "1f7a2c81",
>>>>>>> 763a65aa00deab365d39bc26b2dcb2cc1410a666
||||||| eb63ff5
   "id": "93b97606",
=======
   "id": "0a537bb5",
>>>>>>> documentation-devel
||||||| cd53b20
<<<<<<< HEAD
   "id": "93b97606",
||||||| 3477967
   "id": "8e200548",
=======
   "id": "1f7a2c81",
>>>>>>> 763a65aa00deab365d39bc26b2dcb2cc1410a666
=======
   "id": "df788991",
>>>>>>> 61c8f4bff1b7848db82b013fbfba194514b420ca
   "metadata": {},
   "source": [
    "Bivariate local results are stored in the `localResults` field and the feature names are the pairwise combinations of features supplied. When only `feature1` is specified, then the bivariate method is applied to all pairwise combinations of `feature1`. "
   ]
  },
  {
   "cell_type": "code",
   "execution_count": null,
<<<<<<< HEAD
<<<<<<< HEAD
<<<<<<< HEAD
   "id": "62879b71",
||||||| 3477967
   "id": "1cd3c6b9",
=======
   "id": "ca3226e1",
>>>>>>> 763a65aa00deab365d39bc26b2dcb2cc1410a666
||||||| eb63ff5
   "id": "62879b71",
=======
   "id": "7c8ae03a",
>>>>>>> documentation-devel
||||||| cd53b20
<<<<<<< HEAD
   "id": "62879b71",
||||||| 3477967
   "id": "1cd3c6b9",
=======
   "id": "ca3226e1",
>>>>>>> 763a65aa00deab365d39bc26b2dcb2cc1410a666
=======
   "id": "a5bc31ce",
>>>>>>> 61c8f4bff1b7848db82b013fbfba194514b420ca
   "metadata": {},
   "outputs": [],
   "source": [
    "localResultFeatures(sfe_tissue, \"locallee\")"
   ]
  },
  {
   "cell_type": "markdown",
<<<<<<< HEAD
<<<<<<< HEAD
<<<<<<< HEAD
   "id": "60a88dc4",
||||||| 3477967
   "id": "2f42af3a",
=======
   "id": "7ffcbe6e",
>>>>>>> 763a65aa00deab365d39bc26b2dcb2cc1410a666
||||||| eb63ff5
   "id": "60a88dc4",
=======
   "id": "17c805b4",
>>>>>>> documentation-devel
||||||| cd53b20
<<<<<<< HEAD
   "id": "60a88dc4",
||||||| 3477967
   "id": "2f42af3a",
=======
   "id": "7ffcbe6e",
>>>>>>> 763a65aa00deab365d39bc26b2dcb2cc1410a666
=======
   "id": "f1caea87",
>>>>>>> 61c8f4bff1b7848db82b013fbfba194514b420ca
   "metadata": {
    "lines_to_next_cell": 0
   },
   "source": [
    "For Lee's L, both $L_{X,Y}$ and $L_{Y,X}$ are computed although they are the same. However, not all bivariate methods are symmetric (see next section). In the next release (Bioconductor 3.18), we may introduce another argument to indicate whether the method is symmetric and if so only compute $L_{X,Y}$ and not $L_{Y,X}$.\n",
    "\n",
    "First plot the three genes individually:"
   ]
  },
  {
   "cell_type": "code",
   "execution_count": null,
<<<<<<< HEAD
<<<<<<< HEAD
<<<<<<< HEAD
   "id": "5c5ccd7a",
||||||| 3477967
   "id": "f295e798",
=======
   "id": "eb3cfe2a",
>>>>>>> 763a65aa00deab365d39bc26b2dcb2cc1410a666
||||||| eb63ff5
   "id": "5c5ccd7a",
=======
   "id": "15bb1755",
>>>>>>> documentation-devel
||||||| cd53b20
<<<<<<< HEAD
   "id": "5c5ccd7a",
||||||| 3477967
   "id": "f295e798",
=======
   "id": "eb3cfe2a",
>>>>>>> 763a65aa00deab365d39bc26b2dcb2cc1410a666
=======
   "id": "b3229e5b",
>>>>>>> 61c8f4bff1b7848db82b013fbfba194514b420ca
   "metadata": {
    "fig.height": 4,
    "fig.width": 10
   },
   "outputs": [],
   "source": [
    "plotSpatialFeature(sfe_tissue, c(\"Myh2\", \"Myh1\", \"Ftl1\"), \n",
    "                   swap_rownames = \"symbol\", image_id = \"lowres\", maxcell = 5e4)"
   ]
  },
  {
   "cell_type": "markdown",
<<<<<<< HEAD
<<<<<<< HEAD
<<<<<<< HEAD
   "id": "46aae6a8",
||||||| 3477967
   "id": "081ab351",
=======
   "id": "1d087795",
>>>>>>> 763a65aa00deab365d39bc26b2dcb2cc1410a666
||||||| eb63ff5
   "id": "46aae6a8",
=======
   "id": "aab30ff9",
>>>>>>> documentation-devel
||||||| cd53b20
<<<<<<< HEAD
   "id": "46aae6a8",
||||||| 3477967
   "id": "081ab351",
=======
   "id": "1d087795",
>>>>>>> 763a65aa00deab365d39bc26b2dcb2cc1410a666
=======
   "id": "097ceed4",
>>>>>>> 61c8f4bff1b7848db82b013fbfba194514b420ca
   "metadata": {
    "lines_to_next_cell": 0
   },
   "source": [
    "Then plot the local L's:"
   ]
  },
  {
   "cell_type": "code",
   "execution_count": null,
<<<<<<< HEAD
<<<<<<< HEAD
<<<<<<< HEAD
   "id": "e47e03b3",
||||||| 3477967
   "id": "683992c4",
=======
   "id": "750e9479",
>>>>>>> 763a65aa00deab365d39bc26b2dcb2cc1410a666
||||||| eb63ff5
   "id": "e47e03b3",
=======
   "id": "919dd0e4",
>>>>>>> documentation-devel
||||||| cd53b20
<<<<<<< HEAD
   "id": "e47e03b3",
||||||| 3477967
   "id": "683992c4",
=======
   "id": "750e9479",
>>>>>>> 763a65aa00deab365d39bc26b2dcb2cc1410a666
=======
   "id": "1f6a0687",
>>>>>>> 61c8f4bff1b7848db82b013fbfba194514b420ca
   "metadata": {
    "fig.height": 4,
    "fig.width": 10
   },
   "outputs": [],
   "source": [
    "plotLocalResult(sfe_tissue, \"locallee\", c(\"Myh1__Myh2\", \"Myh2__Ftl1\", \"Myh1__Ftl1\"),\n",
    "                colGeometryName = \"spotPoly\",\n",
    "                image_id = \"lowres\", maxcell = 5e4,\n",
    "                divergent = TRUE, diverge_center = 0)"
   ]
  },
  {
   "cell_type": "markdown",
<<<<<<< HEAD
<<<<<<< HEAD
<<<<<<< HEAD
   "id": "3f94edfb",
||||||| 3477967
   "id": "330a1fcb",
=======
   "id": "f23138e0",
>>>>>>> 763a65aa00deab365d39bc26b2dcb2cc1410a666
||||||| eb63ff5
   "id": "3f94edfb",
=======
   "id": "339f9d78",
>>>>>>> documentation-devel
||||||| cd53b20
<<<<<<< HEAD
   "id": "3f94edfb",
||||||| 3477967
   "id": "330a1fcb",
=======
   "id": "f23138e0",
>>>>>>> 763a65aa00deab365d39bc26b2dcb2cc1410a666
=======
   "id": "7a1f428f",
>>>>>>> 61c8f4bff1b7848db82b013fbfba194514b420ca
   "metadata": {
    "lines_to_next_cell": 0
   },
   "source": [
    "Here we see regions where Myh1 and Myh2 are more co-expressed, and where the myosins and Ftl1 are negatively correlated. \n",
    "\n",
    "$L_{X,X}$ is also computed, so we can plot the local SSS for the three genes:"
   ]
  },
  {
   "cell_type": "code",
   "execution_count": null,
<<<<<<< HEAD
<<<<<<< HEAD
<<<<<<< HEAD
   "id": "46654f9f",
||||||| 3477967
   "id": "966ab730",
=======
   "id": "042fba57",
>>>>>>> 763a65aa00deab365d39bc26b2dcb2cc1410a666
||||||| eb63ff5
   "id": "46654f9f",
=======
   "id": "f432fb60",
>>>>>>> documentation-devel
||||||| cd53b20
<<<<<<< HEAD
   "id": "46654f9f",
||||||| 3477967
   "id": "966ab730",
=======
   "id": "042fba57",
>>>>>>> 763a65aa00deab365d39bc26b2dcb2cc1410a666
=======
   "id": "cd3cb3c3",
>>>>>>> 61c8f4bff1b7848db82b013fbfba194514b420ca
   "metadata": {
    "fig.height": 4,
    "fig.width": 10
   },
   "outputs": [],
   "source": [
    "plotLocalResult(sfe_tissue, \"locallee\", c(\"Myh1__Myh1\", \"Myh2__Myh2\", \"Ftl1__Ftl1\"),\n",
    "                colGeometryName = \"spotPoly\",\n",
    "                image_id = \"lowres\", maxcell = 5e4)"
   ]
  },
  {
   "cell_type": "markdown",
<<<<<<< HEAD
<<<<<<< HEAD
<<<<<<< HEAD
   "id": "e8908370",
||||||| 3477967
   "id": "0d931288",
=======
   "id": "f6ad46bf",
>>>>>>> 763a65aa00deab365d39bc26b2dcb2cc1410a666
||||||| eb63ff5
   "id": "e8908370",
=======
   "id": "b85f090b",
>>>>>>> documentation-devel
||||||| cd53b20
<<<<<<< HEAD
   "id": "e8908370",
||||||| 3477967
   "id": "0d931288",
=======
   "id": "f6ad46bf",
>>>>>>> 763a65aa00deab365d39bc26b2dcb2cc1410a666
=======
   "id": "acf65d28",
>>>>>>> 61c8f4bff1b7848db82b013fbfba194514b420ca
   "metadata": {
    "lines_to_next_cell": 0
   },
   "source": [
    "See how the local SSS compares to local Moran's I:"
   ]
  },
  {
   "cell_type": "code",
   "execution_count": null,
<<<<<<< HEAD
<<<<<<< HEAD
<<<<<<< HEAD
   "id": "74e525c9",
||||||| 3477967
   "id": "8967c8f2",
=======
   "id": "473d8036",
>>>>>>> 763a65aa00deab365d39bc26b2dcb2cc1410a666
||||||| eb63ff5
   "id": "74e525c9",
=======
   "id": "48efcfc1",
>>>>>>> documentation-devel
||||||| cd53b20
<<<<<<< HEAD
   "id": "74e525c9",
||||||| 3477967
   "id": "8967c8f2",
=======
   "id": "473d8036",
>>>>>>> 763a65aa00deab365d39bc26b2dcb2cc1410a666
=======
   "id": "c634dad7",
>>>>>>> 61c8f4bff1b7848db82b013fbfba194514b420ca
   "metadata": {},
   "outputs": [],
   "source": [
    "sfe_tissue <- runUnivariate(sfe_tissue, \"localmoran\", c(\"Myh2\", \"Myh1\", \"Ftl1\"),\n",
    "                            swap_rownames = \"symbol\")"
   ]
  },
  {
   "cell_type": "code",
   "execution_count": null,
<<<<<<< HEAD
<<<<<<< HEAD
<<<<<<< HEAD
   "id": "a928d5db",
||||||| 3477967
   "id": "2b796b0f",
=======
   "id": "cb60d5a6",
>>>>>>> 763a65aa00deab365d39bc26b2dcb2cc1410a666
||||||| eb63ff5
   "id": "a928d5db",
=======
   "id": "44990585",
>>>>>>> documentation-devel
||||||| cd53b20
<<<<<<< HEAD
   "id": "a928d5db",
||||||| 3477967
   "id": "2b796b0f",
=======
   "id": "cb60d5a6",
>>>>>>> 763a65aa00deab365d39bc26b2dcb2cc1410a666
=======
   "id": "f3ee9f20",
>>>>>>> 61c8f4bff1b7848db82b013fbfba194514b420ca
   "metadata": {
    "fig.height": 4,
    "fig.width": 10
   },
   "outputs": [],
   "source": [
    "plotLocalResult(sfe_tissue, \"localmoran\", c(\"Myh1\", \"Myh2\", \"Ftl1\"),\n",
    "                colGeometryName = \"spotPoly\", swap_rownames = \"symbol\",\n",
    "                image_id = \"lowres\", maxcell = 5e4,\n",
    "                divergent = TRUE, diverge_center = 0)"
   ]
  },
  {
   "cell_type": "markdown",
<<<<<<< HEAD
<<<<<<< HEAD
<<<<<<< HEAD
   "id": "f09242a9",
||||||| 3477967
   "id": "e219ac74",
=======
   "id": "121a5ff4",
>>>>>>> 763a65aa00deab365d39bc26b2dcb2cc1410a666
||||||| eb63ff5
   "id": "f09242a9",
=======
   "id": "f23e9ec1",
>>>>>>> documentation-devel
||||||| cd53b20
<<<<<<< HEAD
   "id": "f09242a9",
||||||| 3477967
   "id": "e219ac74",
=======
   "id": "121a5ff4",
>>>>>>> 763a65aa00deab365d39bc26b2dcb2cc1410a666
=======
   "id": "405f6124",
>>>>>>> 61c8f4bff1b7848db82b013fbfba194514b420ca
   "metadata": {},
   "source": [
    "The patterns are qualitatively the same, but while local Moran's I is negative in heterogeneous regions, the SSS can't be negative.\n",
    "\n",
    "# Bivariate local Moran\n",
    "\n",
    "The `spdep` package implements a bivariate version of local Moran, which basically is \n",
    "\n",
    "$$\n",
    "I_{X_i,Y_i} = (n-1)\\frac{(x_i - \\bar{x})\\sum_{j=1}^n w_{ij} (y_j - \\bar{y})}{\\sqrt{\\sum_{i=1}^n (x_i - \\bar{x})^2} \\sqrt{\\sum_{i=1}^n (y_i - \\bar{y})^2}}.\n",
    "$$\n",
    "\n",
    "Note that this is not symmetric, i.e. $I_{X_i,Y_i} \\neq I_{Y_i,X_i}$."
   ]
  },
  {
   "cell_type": "code",
   "execution_count": null,
<<<<<<< HEAD
<<<<<<< HEAD
<<<<<<< HEAD
   "id": "63228ee8",
||||||| 3477967
   "id": "8453601c",
=======
   "id": "a6433e81",
>>>>>>> 763a65aa00deab365d39bc26b2dcb2cc1410a666
||||||| eb63ff5
   "id": "63228ee8",
=======
   "id": "cf029a44",
>>>>>>> documentation-devel
||||||| cd53b20
<<<<<<< HEAD
   "id": "63228ee8",
||||||| 3477967
   "id": "8453601c",
=======
   "id": "a6433e81",
>>>>>>> 763a65aa00deab365d39bc26b2dcb2cc1410a666
=======
   "id": "c8997b92",
>>>>>>> 61c8f4bff1b7848db82b013fbfba194514b420ca
   "metadata": {},
   "outputs": [],
   "source": [
    "sfe_tissue <- runBivariate(sfe_tissue, \"localmoran_bv\", c(\"Myh1\", \"Myh2\", \"Ftl1\"),\n",
    "                           swap_rownames = \"symbol\", nsim = 1000)"
   ]
  },
  {
   "cell_type": "code",
   "execution_count": null,
<<<<<<< HEAD
<<<<<<< HEAD
<<<<<<< HEAD
   "id": "a3ec9aba",
||||||| 3477967
   "id": "1b028a4d",
=======
   "id": "65a02e2b",
>>>>>>> 763a65aa00deab365d39bc26b2dcb2cc1410a666
||||||| eb63ff5
   "id": "a3ec9aba",
=======
   "id": "46d3c745",
>>>>>>> documentation-devel
||||||| cd53b20
<<<<<<< HEAD
   "id": "a3ec9aba",
||||||| 3477967
   "id": "1b028a4d",
=======
   "id": "65a02e2b",
>>>>>>> 763a65aa00deab365d39bc26b2dcb2cc1410a666
=======
   "id": "000fa49b",
>>>>>>> 61c8f4bff1b7848db82b013fbfba194514b420ca
   "metadata": {},
   "outputs": [],
   "source": [
    "localResultFeatures(sfe_tissue, \"localmoran_bv\")"
   ]
  },
  {
   "cell_type": "markdown",
<<<<<<< HEAD
<<<<<<< HEAD
<<<<<<< HEAD
   "id": "41a6a4bc",
||||||| 3477967
   "id": "92d5aa1a",
=======
   "id": "fc4184fb",
>>>>>>> 763a65aa00deab365d39bc26b2dcb2cc1410a666
||||||| eb63ff5
   "id": "41a6a4bc",
=======
   "id": "79eb96c7",
>>>>>>> documentation-devel
||||||| cd53b20
<<<<<<< HEAD
   "id": "41a6a4bc",
||||||| 3477967
   "id": "92d5aa1a",
=======
   "id": "fc4184fb",
>>>>>>> 763a65aa00deab365d39bc26b2dcb2cc1410a666
=======
   "id": "4f7fb4d2",
>>>>>>> 61c8f4bff1b7848db82b013fbfba194514b420ca
   "metadata": {
    "lines_to_next_cell": 0
   },
   "source": [
    "Permutation testing is performed so we get a pseudo p-value"
   ]
  },
  {
   "cell_type": "code",
   "execution_count": null,
<<<<<<< HEAD
<<<<<<< HEAD
<<<<<<< HEAD
   "id": "527a84c6",
||||||| 3477967
   "id": "4f747a95",
=======
   "id": "3332d857",
>>>>>>> 763a65aa00deab365d39bc26b2dcb2cc1410a666
||||||| eb63ff5
   "id": "527a84c6",
=======
   "id": "1e86c4d4",
>>>>>>> documentation-devel
||||||| cd53b20
<<<<<<< HEAD
   "id": "527a84c6",
||||||| 3477967
   "id": "4f747a95",
=======
   "id": "3332d857",
>>>>>>> 763a65aa00deab365d39bc26b2dcb2cc1410a666
=======
   "id": "aba6c854",
>>>>>>> 61c8f4bff1b7848db82b013fbfba194514b420ca
   "metadata": {},
   "outputs": [],
   "source": [
    "localResultAttrs(sfe_tissue, \"localmoran_bv\", \"Myh1__Myh2\")"
   ]
  },
  {
   "cell_type": "markdown",
<<<<<<< HEAD
<<<<<<< HEAD
<<<<<<< HEAD
   "id": "ca6c87bb",
||||||| 3477967
   "id": "6e3073db",
=======
   "id": "a6ae9d8d",
>>>>>>> 763a65aa00deab365d39bc26b2dcb2cc1410a666
||||||| eb63ff5
   "id": "ca6c87bb",
=======
   "id": "ef33446a",
>>>>>>> documentation-devel
||||||| cd53b20
<<<<<<< HEAD
   "id": "ca6c87bb",
||||||| 3477967
   "id": "6e3073db",
=======
   "id": "a6ae9d8d",
>>>>>>> 763a65aa00deab365d39bc26b2dcb2cc1410a666
=======
   "id": "a480379b",
>>>>>>> 61c8f4bff1b7848db82b013fbfba194514b420ca
   "metadata": {
    "lines_to_next_cell": 0
   },
   "source": [
    "First plot the bivariate local Moran's I values"
   ]
  },
  {
   "cell_type": "code",
   "execution_count": null,
<<<<<<< HEAD
<<<<<<< HEAD
<<<<<<< HEAD
   "id": "0aabfb5c",
||||||| 3477967
   "id": "06952cce",
=======
   "id": "d3303247",
>>>>>>> 763a65aa00deab365d39bc26b2dcb2cc1410a666
||||||| eb63ff5
   "id": "0aabfb5c",
=======
   "id": "4b8a0dac",
>>>>>>> documentation-devel
||||||| cd53b20
<<<<<<< HEAD
   "id": "0aabfb5c",
||||||| 3477967
   "id": "06952cce",
=======
   "id": "d3303247",
>>>>>>> 763a65aa00deab365d39bc26b2dcb2cc1410a666
=======
   "id": "7f55e3d0",
>>>>>>> 61c8f4bff1b7848db82b013fbfba194514b420ca
   "metadata": {
    "fig.height": 7.5,
    "fig.width": 10
   },
   "outputs": [],
   "source": [
    "plotLocalResult(sfe_tissue, \"localmoran_bv\", c(\"Myh1__Myh2\", \"Myh2__Ftl1\", \"Myh1__Ftl1\",\n",
    "                                               \"Myh2__Myh1\", \"Ftl1__Myh2\", \"Ftl1__Myh1\"),\n",
    "                colGeometryName = \"spotPoly\", attribute = \"Ibvi\",\n",
    "                image_id = \"lowres\", maxcell = 5e4,\n",
    "                divergent = TRUE, diverge_center = 0)"
   ]
  },
  {
   "cell_type": "markdown",
<<<<<<< HEAD
<<<<<<< HEAD
<<<<<<< HEAD
   "id": "2c1350df",
||||||| 3477967
   "id": "489eb253",
=======
   "id": "07f5cffb",
>>>>>>> 763a65aa00deab365d39bc26b2dcb2cc1410a666
||||||| eb63ff5
   "id": "2c1350df",
=======
   "id": "51096a41",
>>>>>>> documentation-devel
||||||| cd53b20
<<<<<<< HEAD
   "id": "2c1350df",
||||||| 3477967
   "id": "489eb253",
=======
   "id": "07f5cffb",
>>>>>>> 763a65aa00deab365d39bc26b2dcb2cc1410a666
=======
   "id": "e53b12c2",
>>>>>>> 61c8f4bff1b7848db82b013fbfba194514b420ca
   "metadata": {},
   "source": [
    "The first row plots XY while the second row plots YX; note that while they are similar, they are not the same. What does bivariate local Moran mean? It's kind of like contribution of each location to the correlation between $x$ and spatially lagged $y$, so $x$ is not smoothed. In contrast, Lee's L is a scaled Pearson correlation between spatially lagged $x$ and spatially lagged $y$. Because permutation testing is performed, we can plot the pseudo-p-value, after correcting for multiple testing based on the spatial neighborhood graph:"
   ]
  },
  {
   "cell_type": "code",
   "execution_count": null,
<<<<<<< HEAD
<<<<<<< HEAD
<<<<<<< HEAD
   "id": "7313fc15",
||||||| 3477967
   "id": "b071146f",
=======
   "id": "1bbf0f5d",
>>>>>>> 763a65aa00deab365d39bc26b2dcb2cc1410a666
||||||| eb63ff5
   "id": "7313fc15",
=======
   "id": "0f84e1c1",
>>>>>>> documentation-devel
||||||| cd53b20
<<<<<<< HEAD
   "id": "7313fc15",
||||||| 3477967
   "id": "b071146f",
=======
   "id": "1bbf0f5d",
>>>>>>> 763a65aa00deab365d39bc26b2dcb2cc1410a666
=======
   "id": "bb9d124b",
>>>>>>> 61c8f4bff1b7848db82b013fbfba194514b420ca
   "metadata": {
    "fig.height": 7.5,
    "fig.width": 10
   },
   "outputs": [],
   "source": [
    "plotLocalResult(sfe_tissue, \"localmoran_bv\", c(\"Myh1__Myh2\", \"Myh2__Ftl1\", \"Myh1__Ftl1\",\n",
    "                                               \"Myh2__Myh1\", \"Ftl1__Myh2\", \"Ftl1__Myh1\"),\n",
    "                colGeometryName = \"spotPoly\", attribute = \"-log10p_adj Sim\",\n",
    "                image_id = \"lowres\", maxcell = 5e4,\n",
    "                divergent = TRUE, diverge_center = -log10(0.05))"
   ]
  },
  {
   "cell_type": "markdown",
<<<<<<< HEAD
<<<<<<< HEAD
<<<<<<< HEAD
   "id": "2bdcd794",
||||||| 3477967
   "id": "ccaa371d",
=======
   "id": "469bec29",
>>>>>>> 763a65aa00deab365d39bc26b2dcb2cc1410a666
||||||| eb63ff5
   "id": "2bdcd794",
=======
   "id": "01eaf513",
>>>>>>> documentation-devel
||||||| cd53b20
<<<<<<< HEAD
   "id": "2bdcd794",
||||||| 3477967
   "id": "ccaa371d",
=======
   "id": "469bec29",
>>>>>>> 763a65aa00deab365d39bc26b2dcb2cc1410a666
=======
   "id": "b161247f",
>>>>>>> 61c8f4bff1b7848db82b013fbfba194514b420ca
   "metadata": {
    "lines_to_next_cell": 0
   },
   "source": [
    "Note that the p-values are asymetric, because according to the source code of `localmoran_bv()`, $y$ is permuted, but not $x$. It's also related to Wartenberg's spatial PCA [@Wartenberg1985-fk], where Moran's I is expressed in matrix form:\n",
    "\n",
    "$$\n",
    "\\mathbf{I} = \\frac{\\mathbf{Z}^T\\mathbf{WZ}}{\\mathbf 1^T \\mathbf{W1}},\n",
    "$$\n",
    "\n",
    "where $\\mathbf Z$ is the data matrix with scaled and centered variables in columns, $\\mathbf W$ is the spatial weights matrix, and $\\mathbf 1$ is a vector of all 1's, so the denominator is in effect $\\sum_{i=1}^n \\sum_{j=1}^n w_{ij}$. The diagonal entries are Moran's I's for the variables, and the off diagonal entries are the global versions of what we computed here that sum the bivariate local Moran's I's and divide by the sum of all spatial weights. Because $\\mathbf W$ doesn't have to be symmetric, this matrix may not be symmetric. Wartenberg diagonalized this matrix in place of the covariance matrix for spatial PCA. When using scaled and centered data and row normalized spatial weights matrix, MULTISPATI PCA is equivalent to Wartenberg's approach [@Dray2008-en]. Lee considered this asymmetry an inadequacy of Wartenberg's approach as a bivariate association measure [@Lee2001-tm]. While I'm not sure how bivariate local Moran's I helps with data analysis, it is an interesting piece of history. \n",
    "\n",
    "# Session info"
   ]
  },
  {
   "cell_type": "code",
   "execution_count": null,
<<<<<<< HEAD
<<<<<<< HEAD
<<<<<<< HEAD
   "id": "d8fd95c0",
||||||| 3477967
   "id": "d54987e8",
=======
   "id": "3e2e306e",
>>>>>>> 763a65aa00deab365d39bc26b2dcb2cc1410a666
||||||| eb63ff5
   "id": "d8fd95c0",
=======
   "id": "39a6443c",
>>>>>>> documentation-devel
||||||| cd53b20
<<<<<<< HEAD
   "id": "d8fd95c0",
||||||| 3477967
   "id": "d54987e8",
=======
   "id": "3e2e306e",
>>>>>>> 763a65aa00deab365d39bc26b2dcb2cc1410a666
=======
   "id": "7da27e09",
>>>>>>> 61c8f4bff1b7848db82b013fbfba194514b420ca
   "metadata": {},
   "outputs": [],
   "source": [
    "sessionInfo()"
   ]
  },
  {
   "cell_type": "markdown",
<<<<<<< HEAD
<<<<<<< HEAD
<<<<<<< HEAD
   "id": "16c34a31",
||||||| 3477967
   "id": "9fc9f9b2",
=======
   "id": "37b904fb",
>>>>>>> 763a65aa00deab365d39bc26b2dcb2cc1410a666
||||||| eb63ff5
   "id": "16c34a31",
=======
   "id": "6c72c849",
>>>>>>> documentation-devel
||||||| cd53b20
<<<<<<< HEAD
   "id": "16c34a31",
||||||| 3477967
   "id": "9fc9f9b2",
=======
   "id": "37b904fb",
>>>>>>> 763a65aa00deab365d39bc26b2dcb2cc1410a666
=======
   "id": "34f3c5e0",
>>>>>>> 61c8f4bff1b7848db82b013fbfba194514b420ca
   "metadata": {},
   "source": [
    "# References"
   ]
  }
 ],
 "metadata": {
  "kernelspec": {
   "display_name": "R",
   "language": "R",
   "name": "ir"
  }
 },
 "nbformat": 4,
 "nbformat_minor": 5
}
