{
 "cells": [
  {
   "cell_type": "raw",
<<<<<<< HEAD
<<<<<<< HEAD
<<<<<<< HEAD
   "id": "1206b897",
||||||| 11b9cb7
   "id": "278f5694",
=======
   "id": "27010338",
>>>>>>> documentation-devel
||||||| 614e9b1
   "id": "27010338",
=======
   "id": "8750dfe8",
>>>>>>> documentation-devel
||||||| 856b4c0
<<<<<<< HEAD
   "id": "1206b897",
||||||| 11b9cb7
   "id": "278f5694",
=======
   "id": "27010338",
>>>>>>> documentation-devel
=======
   "id": "ef37e38d",
>>>>>>> 552590ea8fad969b67afdba27558a1e6cb21016e
   "metadata": {},
   "source": [
    "---\n",
    "title: \"Bivariate spatial statistics\"\n",
    "author: \"Lambda Moses\"\n",
    "date: \"`r Sys.Date()`\"\n",
    "output: \n",
    "  html_document:\n",
    "  toc: true\n",
    "  toc_float:\n",
    "    collapsed: false\n",
    "  toc_depth: 3\n",
    "bibliography: ref.bib\n",
    "vignette: >\n",
    "  %\\VignetteIndexEntry{bivariate}\n",
    "  %\\VignetteEngine{knitr::rmarkdown}\n",
    "  %\\VignetteEncoding{UTF-8}\n",
    "---"
   ]
  },
  {
   "cell_type": "code",
   "execution_count": null,
<<<<<<< HEAD
<<<<<<< HEAD
<<<<<<< HEAD
   "id": "96d8d81e",
||||||| 11b9cb7
   "id": "26dff4a1",
=======
   "id": "fbc30249",
>>>>>>> documentation-devel
||||||| 614e9b1
   "id": "fbc30249",
=======
   "id": "6f7aa544",
>>>>>>> documentation-devel
||||||| 856b4c0
<<<<<<< HEAD
   "id": "96d8d81e",
||||||| 11b9cb7
   "id": "26dff4a1",
=======
   "id": "fbc30249",
>>>>>>> documentation-devel
=======
   "id": "3507c004",
>>>>>>> 552590ea8fad969b67afdba27558a1e6cb21016e
   "metadata": {
    "tags": [
     "remove_cell"
    ]
   },
   "outputs": [],
   "source": [
    "knitr::opts_chunk$set(\n",
    "  collapse = TRUE,\n",
    "  comment = \"#>\"\n",
    ")"
   ]
  },
  {
   "cell_type": "code",
   "execution_count": null,
<<<<<<< HEAD
<<<<<<< HEAD
<<<<<<< HEAD
   "id": "f26f0018",
||||||| 11b9cb7
   "id": "75e29f36",
=======
   "id": "517b3dd2",
>>>>>>> documentation-devel
||||||| 614e9b1
   "id": "517b3dd2",
=======
   "id": "0a2bb91a",
>>>>>>> documentation-devel
||||||| 856b4c0
<<<<<<< HEAD
   "id": "f26f0018",
||||||| 11b9cb7
   "id": "75e29f36",
=======
   "id": "517b3dd2",
>>>>>>> documentation-devel
=======
   "id": "7c57c97e",
>>>>>>> 552590ea8fad969b67afdba27558a1e6cb21016e
   "metadata": {
    "eval": false,
    "tags": [
     "remove_cell"
    ]
   },
   "outputs": [],
   "source": [
    "# Install Google Colab dependencies\n",
    "# Note: this can take 30+ minutes (many of the dependencies include C++ code, which needs to be compiled)\n",
    "\n",
    "# First install `sf`, `ragg` and `textshaping` and their system dependencies:\n",
    "system(\"apt-get -y update && apt-get install -y  libudunits2-dev libgdal-dev libgeos-dev libproj-dev libharfbuzz-dev libfribidi-dev\")\n",
    "install.packages(\"sf\")\n",
    "install.packages(\"textshaping\")\n",
    "install.packages(\"ragg\")\n",
    "\n",
    "# Install system dependencies of some other R packages that Voyager either imports or suggests:\n",
    "system(\"apt-get install -y libfribidi-dev libcairo2-dev libmagick++-dev\")\n",
    "\n",
    "# Install Voyager from Bioconductor:\n",
    "install.packages(\"BiocManager\")\n",
    "BiocManager::install(version = \"3.17\", ask = FALSE, update = FALSE, Ncpus = 2)\n",
    "BiocManager::install(\"scater\")\n",
    "system.time(\n",
    "  BiocManager::install(\"Voyager\", dependencies = TRUE, Ncpus = 2, update = FALSE)\n",
    ")\n",
    "\n",
    "# Other packages used in this vignette\n",
    "packageVersion(\"Voyager\")"
   ]
  },
  {
   "cell_type": "markdown",
<<<<<<< HEAD
<<<<<<< HEAD
<<<<<<< HEAD
   "id": "acd3251f",
||||||| 11b9cb7
   "id": "61a93d44",
=======
   "id": "4651599e",
>>>>>>> documentation-devel
||||||| 614e9b1
   "id": "4651599e",
=======
   "id": "b7b9e6e4",
>>>>>>> documentation-devel
||||||| 856b4c0
<<<<<<< HEAD
   "id": "acd3251f",
||||||| 11b9cb7
   "id": "61a93d44",
=======
   "id": "4651599e",
>>>>>>> documentation-devel
=======
   "id": "3bd0ec4e",
>>>>>>> 552590ea8fad969b67afdba27558a1e6cb21016e
   "metadata": {
    "lines_to_next_cell": 0
   },
   "source": [
    "# Introduction\n",
    "\n",
    "Consider two variables that are correlated, say with Pearson correlation of 0.8. The observations are spatially referenced. The locations of the observations can be permuted without affecting Pearson correlation. The purpose of bivariate spatial statistics is to indicate both correlation in value (as in Pearson correlation), and spatial autocorrelation and co-patterning. \n",
    "One of the bivariate methods implemented in `Voyager` is the cross variogram, which is shown in the [variogram vignette](https://pachterlab.github.io/voyager/articles/variogram.html). This vignette demonstrates other bivariate spatial statistics, which use a spatial neighborhood graph, on the mouse skeletal muscle Visium dataset.\n",
    "\n",
    "Here we load the packages used:"
   ]
  },
  {
   "cell_type": "code",
   "execution_count": null,
<<<<<<< HEAD
<<<<<<< HEAD
<<<<<<< HEAD
   "id": "7d4461b0",
||||||| 11b9cb7
   "id": "9bcd77cd",
=======
   "id": "815591e0",
>>>>>>> documentation-devel
||||||| 614e9b1
   "id": "815591e0",
=======
   "id": "5c97a0af",
>>>>>>> documentation-devel
||||||| 856b4c0
<<<<<<< HEAD
   "id": "7d4461b0",
||||||| 11b9cb7
   "id": "9bcd77cd",
=======
   "id": "815591e0",
>>>>>>> documentation-devel
=======
   "id": "98edf3c4",
>>>>>>> 552590ea8fad969b67afdba27558a1e6cb21016e
   "metadata": {
    "message": false
   },
   "outputs": [],
   "source": [
    "library(Voyager)\n",
    "library(SFEData)\n",
    "library(SpatialFeatureExperiment)\n",
    "library(scater)\n",
    "library(scran)\n",
    "library(ggplot2)\n",
    "library(pheatmap)\n",
    "library(scico)\n",
    "theme_set(theme_bw())"
   ]
  },
  {
   "cell_type": "markdown",
<<<<<<< HEAD
<<<<<<< HEAD
<<<<<<< HEAD
   "id": "be41e44c",
||||||| 11b9cb7
   "id": "daacbafe",
=======
   "id": "4ff248b6",
>>>>>>> documentation-devel
||||||| 614e9b1
   "id": "4ff248b6",
=======
   "id": "0c39305d",
>>>>>>> documentation-devel
||||||| 856b4c0
<<<<<<< HEAD
   "id": "be41e44c",
||||||| 11b9cb7
   "id": "daacbafe",
=======
   "id": "4ff248b6",
>>>>>>> documentation-devel
=======
   "id": "90adb151",
>>>>>>> 552590ea8fad969b67afdba27558a1e6cb21016e
   "metadata": {
    "lines_to_next_cell": 0
   },
   "source": [
    "A list of all bivariate global methods can be seen here:"
   ]
  },
  {
   "cell_type": "code",
   "execution_count": null,
<<<<<<< HEAD
<<<<<<< HEAD
<<<<<<< HEAD
   "id": "181dcd52",
||||||| 11b9cb7
   "id": "bc5927d4",
=======
   "id": "4855c69f",
>>>>>>> documentation-devel
||||||| 614e9b1
   "id": "4855c69f",
=======
   "id": "591484b1",
>>>>>>> documentation-devel
||||||| 856b4c0
<<<<<<< HEAD
   "id": "181dcd52",
||||||| 11b9cb7
   "id": "bc5927d4",
=======
   "id": "4855c69f",
>>>>>>> documentation-devel
=======
   "id": "198bbedb",
>>>>>>> 552590ea8fad969b67afdba27558a1e6cb21016e
   "metadata": {},
   "outputs": [],
   "source": [
    "listSFEMethods(variate = \"bi\", scope = \"global\")"
   ]
  },
  {
   "cell_type": "markdown",
<<<<<<< HEAD
<<<<<<< HEAD
<<<<<<< HEAD
   "id": "e245c273",
||||||| 11b9cb7
   "id": "9b6dca8b",
=======
   "id": "63f7c000",
>>>>>>> documentation-devel
||||||| 614e9b1
   "id": "63f7c000",
=======
   "id": "8e645026",
>>>>>>> documentation-devel
||||||| 856b4c0
<<<<<<< HEAD
   "id": "e245c273",
||||||| 11b9cb7
   "id": "9b6dca8b",
=======
   "id": "63f7c000",
>>>>>>> documentation-devel
=======
   "id": "4a0153a5",
>>>>>>> 552590ea8fad969b67afdba27558a1e6cb21016e
   "metadata": {
    "lines_to_next_cell": 0
   },
   "source": [
    "When calling `calculate*variate()` or `run*variate()`, the `type` (2nd) argument takes either an `SFEMethod` object or a string that matches an entry in the `name` column in the data frame returned by `listSFEMethods()`.\n",
    "\n",
    "QC was performed in [another vignette](https://pachterlab.github.io/voyager/articles/vig1_visium_basic.html), so this vignette will not plot QC metrics."
   ]
  },
  {
   "cell_type": "code",
   "execution_count": null,
<<<<<<< HEAD
<<<<<<< HEAD
<<<<<<< HEAD
   "id": "e1f96eec",
||||||| 11b9cb7
   "id": "7bf0781a",
=======
   "id": "40cc2b4c",
>>>>>>> documentation-devel
||||||| 614e9b1
   "id": "40cc2b4c",
=======
   "id": "2022b000",
>>>>>>> documentation-devel
||||||| 856b4c0
<<<<<<< HEAD
   "id": "e1f96eec",
||||||| 11b9cb7
   "id": "7bf0781a",
=======
   "id": "40cc2b4c",
>>>>>>> documentation-devel
=======
   "id": "e0b039e4",
>>>>>>> 552590ea8fad969b67afdba27558a1e6cb21016e
   "metadata": {},
   "outputs": [],
   "source": [
    "(sfe <- McKellarMuscleData(\"full\"))"
   ]
  },
  {
   "cell_type": "markdown",
<<<<<<< HEAD
<<<<<<< HEAD
<<<<<<< HEAD
   "id": "541decf4",
||||||| 11b9cb7
   "id": "4d369e76",
=======
   "id": "a7e8098d",
>>>>>>> documentation-devel
||||||| 614e9b1
   "id": "a7e8098d",
=======
   "id": "8c0d8cad",
>>>>>>> documentation-devel
||||||| 856b4c0
<<<<<<< HEAD
   "id": "541decf4",
||||||| 11b9cb7
   "id": "4d369e76",
=======
   "id": "a7e8098d",
>>>>>>> documentation-devel
=======
   "id": "b172cfbe",
>>>>>>> 552590ea8fad969b67afdba27558a1e6cb21016e
   "metadata": {
    "lines_to_next_cell": 0
   },
   "source": [
    "The image can be added to the SFE object and plotted behind the geometries, and needs to be flipped to align to the spots because the origin is at the top left for the image but bottom left for geometries."
   ]
  },
  {
   "cell_type": "code",
   "execution_count": null,
<<<<<<< HEAD
<<<<<<< HEAD
<<<<<<< HEAD
   "id": "6191c637",
||||||| 11b9cb7
   "id": "7c4598e5",
=======
   "id": "5128ecab",
>>>>>>> documentation-devel
||||||| 614e9b1
   "id": "5128ecab",
=======
   "id": "527c47df",
>>>>>>> documentation-devel
||||||| 856b4c0
<<<<<<< HEAD
   "id": "6191c637",
||||||| 11b9cb7
   "id": "7c4598e5",
=======
   "id": "5128ecab",
>>>>>>> documentation-devel
=======
   "id": "d5f0302d",
>>>>>>> 552590ea8fad969b67afdba27558a1e6cb21016e
   "metadata": {},
   "outputs": [],
   "source": [
    "if (!file.exists(\"tissue_lowres_5a.jpeg\")) {\n",
    "    download.file(\"https://raw.githubusercontent.com/pachterlab/voyager/main/vignettes/tissue_lowres_5a.jpeg\",\n",
    "                  destfile = \"tissue_lowres_5a.jpeg\")\n",
    "}"
   ]
  },
  {
   "cell_type": "code",
   "execution_count": null,
<<<<<<< HEAD
<<<<<<< HEAD
<<<<<<< HEAD
   "id": "3fa11525",
||||||| 11b9cb7
   "id": "cdbcd8d7",
=======
   "id": "045e396c",
>>>>>>> documentation-devel
||||||| 614e9b1
   "id": "045e396c",
=======
   "id": "90fa83e5",
>>>>>>> documentation-devel
||||||| 856b4c0
<<<<<<< HEAD
   "id": "3fa11525",
||||||| 11b9cb7
   "id": "cdbcd8d7",
=======
   "id": "045e396c",
>>>>>>> documentation-devel
=======
   "id": "ec9287ac",
>>>>>>> 552590ea8fad969b67afdba27558a1e6cb21016e
   "metadata": {},
   "outputs": [],
   "source": [
    "sfe <- addImg(sfe, file = \"tissue_lowres_5a.jpeg\", sample_id = \"Vis5A\", \n",
    "              image_id = \"lowres\", \n",
    "              scale_fct = 1024/22208)\n",
    "sfe <- mirrorImg(sfe, sample_id = \"Vis5A\", image_id = \"lowres\")"
   ]
  },
  {
   "cell_type": "code",
   "execution_count": null,
<<<<<<< HEAD
<<<<<<< HEAD
<<<<<<< HEAD
   "id": "9eb969ad",
||||||| 11b9cb7
   "id": "e01255ab",
=======
   "id": "db2bd0b2",
>>>>>>> documentation-devel
||||||| 614e9b1
   "id": "db2bd0b2",
=======
   "id": "a73f4360",
>>>>>>> documentation-devel
||||||| 856b4c0
<<<<<<< HEAD
   "id": "9eb969ad",
||||||| 11b9cb7
   "id": "e01255ab",
=======
   "id": "db2bd0b2",
>>>>>>> documentation-devel
=======
   "id": "b7abde29",
>>>>>>> 552590ea8fad969b67afdba27558a1e6cb21016e
   "metadata": {},
   "outputs": [],
   "source": [
    "sfe_tissue <- sfe[,colData(sfe)$in_tissue]\n",
    "sfe_tissue <- sfe_tissue[rowSums(counts(sfe_tissue)) > 0,]"
   ]
  },
  {
   "cell_type": "code",
   "execution_count": null,
<<<<<<< HEAD
<<<<<<< HEAD
<<<<<<< HEAD
   "id": "d3553f14",
||||||| 11b9cb7
   "id": "2bf5a5c9",
=======
   "id": "68caa954",
>>>>>>> documentation-devel
||||||| 614e9b1
   "id": "68caa954",
=======
   "id": "2b40e533",
>>>>>>> documentation-devel
||||||| 856b4c0
<<<<<<< HEAD
   "id": "d3553f14",
||||||| 11b9cb7
   "id": "2bf5a5c9",
=======
   "id": "68caa954",
>>>>>>> documentation-devel
=======
   "id": "dbd9c6ee",
>>>>>>> 552590ea8fad969b67afdba27558a1e6cb21016e
   "metadata": {},
   "outputs": [],
   "source": [
    "sfe_tissue <- logNormCounts(sfe_tissue)"
   ]
  },
  {
   "cell_type": "code",
   "execution_count": null,
<<<<<<< HEAD
<<<<<<< HEAD
<<<<<<< HEAD
   "id": "761f8297",
||||||| 11b9cb7
   "id": "5610a23c",
=======
   "id": "cc6f4c32",
>>>>>>> documentation-devel
||||||| 614e9b1
   "id": "cc6f4c32",
=======
   "id": "5a8ee129",
>>>>>>> documentation-devel
||||||| 856b4c0
<<<<<<< HEAD
   "id": "761f8297",
||||||| 11b9cb7
   "id": "5610a23c",
=======
   "id": "cc6f4c32",
>>>>>>> documentation-devel
=======
   "id": "e88ad334",
>>>>>>> 552590ea8fad969b67afdba27558a1e6cb21016e
   "metadata": {},
   "outputs": [],
   "source": [
    "colGraph(sfe_tissue, \"visium\") <- findVisiumGraph(sfe_tissue)"
   ]
  },
  {
   "cell_type": "markdown",
<<<<<<< HEAD
<<<<<<< HEAD
<<<<<<< HEAD
   "id": "f3dac5ea",
||||||| 11b9cb7
   "id": "f276d85a",
=======
   "id": "0bb20046",
>>>>>>> documentation-devel
||||||| 614e9b1
   "id": "0bb20046",
=======
   "id": "a016cb59",
>>>>>>> documentation-devel
||||||| 856b4c0
<<<<<<< HEAD
   "id": "f3dac5ea",
||||||| 11b9cb7
   "id": "f276d85a",
=======
   "id": "0bb20046",
>>>>>>> documentation-devel
=======
   "id": "89804f77",
>>>>>>> 552590ea8fad969b67afdba27558a1e6cb21016e
   "metadata": {
    "lines_to_next_cell": 0
   },
   "source": [
    "# Lee's L\n",
    "\n",
    "Lee's L [@Lee2001-tm] was developed from relating Moran's I to Pearson correlation, and is defined as\n",
    "\n",
    "$$\n",
    "L_{X,Y} = \\frac{n}{\\sum_{i=1}^n \\sum_{j=1}^n w_{ij}} \\frac{\\sum_{i=1}^n \\left[ \\sum_{j=1}^n w_{ij}  (x_j - \\bar{x}) \\right] \\left[ \\sum_{j=1}^n w_{ij} (y_j - \\bar{y}) \\right]}{\\sqrt{\\sum_{i=1}^n (x_i - \\bar{x})^2}\\sqrt{\\sum_{i=1}^n (y_i - \\bar{y})^2} },\n",
    "$$\n",
    "\n",
    "where $n$ is the number of spots or locations, $i$ and $j$ are different locations, or spots in the Visium context, $x$ and $y$ are variables with values at each location, and $w_{ij}$ is a spatial weight, which can be inversely proportional to distance between spots or an indicator of whether two spots are neighbors, subject to various definitions of neighborhood. \n",
    "\n",
    "Here we compute Lee's L for top highly variagle genes (HVGs) in this dataset:"
   ]
  },
  {
   "cell_type": "code",
   "execution_count": null,
<<<<<<< HEAD
<<<<<<< HEAD
<<<<<<< HEAD
   "id": "33c5c3d9",
||||||| 11b9cb7
   "id": "0d3ec82d",
=======
   "id": "e2121c14",
>>>>>>> documentation-devel
||||||| 614e9b1
   "id": "e2121c14",
=======
   "id": "bb7a3005",
>>>>>>> documentation-devel
||||||| 856b4c0
<<<<<<< HEAD
   "id": "33c5c3d9",
||||||| 11b9cb7
   "id": "0d3ec82d",
=======
   "id": "e2121c14",
>>>>>>> documentation-devel
=======
   "id": "14aaa3f6",
>>>>>>> 552590ea8fad969b67afdba27558a1e6cb21016e
   "metadata": {},
   "outputs": [],
   "source": [
    "hvgs <- getTopHVGs(sfe_tissue, fdr.threshold = 0.01)"
   ]
  },
  {
   "cell_type": "markdown",
<<<<<<< HEAD
<<<<<<< HEAD
<<<<<<< HEAD
   "id": "ac5b855c",
||||||| 11b9cb7
   "id": "047b5a72",
=======
   "id": "023117fe",
>>>>>>> documentation-devel
||||||| 614e9b1
   "id": "023117fe",
=======
   "id": "f3d61363",
>>>>>>> documentation-devel
||||||| 856b4c0
<<<<<<< HEAD
   "id": "ac5b855c",
||||||| 11b9cb7
   "id": "047b5a72",
=======
   "id": "023117fe",
>>>>>>> documentation-devel
=======
   "id": "aa5c4e4f",
>>>>>>> 552590ea8fad969b67afdba27558a1e6cb21016e
   "metadata": {},
   "source": [
    "Because bivariate global results can have very different formats (matrix for Lee's L and lists for many other methods), the results are not stored in the SFE object."
   ]
  },
  {
   "cell_type": "code",
   "execution_count": null,
<<<<<<< HEAD
<<<<<<< HEAD
<<<<<<< HEAD
   "id": "01bd1c33",
||||||| 11b9cb7
   "id": "b5ba3366",
=======
   "id": "9889aabc",
>>>>>>> documentation-devel
||||||| 614e9b1
   "id": "9889aabc",
=======
   "id": "a26e80c9",
>>>>>>> documentation-devel
||||||| 856b4c0
<<<<<<< HEAD
   "id": "01bd1c33",
||||||| 11b9cb7
   "id": "b5ba3366",
=======
   "id": "9889aabc",
>>>>>>> documentation-devel
=======
   "id": "8554aa65",
>>>>>>> 552590ea8fad969b67afdba27558a1e6cb21016e
   "metadata": {},
   "outputs": [],
   "source": [
    "res <- calculateBivariate(sfe_tissue, type = \"lee\", feature1 = hvgs)"
   ]
  },
  {
   "cell_type": "markdown",
<<<<<<< HEAD
<<<<<<< HEAD
<<<<<<< HEAD
   "id": "65f00506",
||||||| 11b9cb7
   "id": "f69763a0",
=======
   "id": "21b46229",
>>>>>>> documentation-devel
||||||| 614e9b1
   "id": "21b46229",
=======
   "id": "833c7dd3",
>>>>>>> documentation-devel
||||||| 856b4c0
<<<<<<< HEAD
   "id": "65f00506",
||||||| 11b9cb7
   "id": "f69763a0",
=======
   "id": "21b46229",
>>>>>>> documentation-devel
=======
   "id": "440b8b55",
>>>>>>> 552590ea8fad969b67afdba27558a1e6cb21016e
   "metadata": {
    "lines_to_next_cell": 0
   },
   "source": [
    "This gives a spatially informed correlation matrix among the genes, which can be plotted as a heatmap:"
   ]
  },
  {
   "cell_type": "code",
   "execution_count": null,
<<<<<<< HEAD
<<<<<<< HEAD
<<<<<<< HEAD
   "id": "37df1230",
||||||| 11b9cb7
   "id": "270b97b7",
=======
   "id": "e81c3fd0",
>>>>>>> documentation-devel
||||||| 614e9b1
   "id": "e81c3fd0",
=======
   "id": "c298aa02",
>>>>>>> documentation-devel
||||||| 856b4c0
<<<<<<< HEAD
   "id": "37df1230",
||||||| 11b9cb7
   "id": "270b97b7",
=======
   "id": "e81c3fd0",
>>>>>>> documentation-devel
=======
   "id": "a7057c9d",
>>>>>>> 552590ea8fad969b67afdba27558a1e6cb21016e
   "metadata": {},
   "outputs": [],
   "source": [
    "pal_rng <- getDivergeRange(res)\n",
    "pal <- scico(256, begin = pal_rng[1], end = pal_rng[2], palette = \"vik\")"
   ]
  },
  {
   "cell_type": "code",
   "execution_count": null,
<<<<<<< HEAD
<<<<<<< HEAD
<<<<<<< HEAD
   "id": "3b90dfcc",
||||||| 11b9cb7
   "id": "e4795bd5",
=======
   "id": "14890c6e",
>>>>>>> documentation-devel
||||||| 614e9b1
   "id": "14890c6e",
=======
   "id": "126a93f4",
>>>>>>> documentation-devel
||||||| 856b4c0
<<<<<<< HEAD
   "id": "3b90dfcc",
||||||| 11b9cb7
   "id": "e4795bd5",
=======
   "id": "14890c6e",
>>>>>>> documentation-devel
=======
   "id": "cb23550d",
>>>>>>> 552590ea8fad969b67afdba27558a1e6cb21016e
   "metadata": {
    "fig.height": 6,
    "fig.width": 6
   },
   "outputs": [],
   "source": [
    "pheatmap(res, color = pal, show_rownames = FALSE, \n",
    "         show_colnames = FALSE, cellwidth = 1, cellheight = 1)"
   ]
  },
  {
   "cell_type": "markdown",
<<<<<<< HEAD
<<<<<<< HEAD
<<<<<<< HEAD
   "id": "25d70815",
||||||| 11b9cb7
   "id": "15b16068",
=======
   "id": "05fdb632",
>>>>>>> documentation-devel
||||||| 614e9b1
   "id": "05fdb632",
=======
   "id": "310c92ad",
>>>>>>> documentation-devel
||||||| 856b4c0
<<<<<<< HEAD
   "id": "25d70815",
||||||| 11b9cb7
   "id": "15b16068",
=======
   "id": "05fdb632",
>>>>>>> documentation-devel
=======
   "id": "d288ef6f",
>>>>>>> 552590ea8fad969b67afdba27558a1e6cb21016e
   "metadata": {
    "lines_to_next_cell": 0
   },
   "source": [
    "Some coexpression blocks can be seen. Note that unlike in Pearson correlation, the diagonal is not 1, because\n",
    "\n",
    "$$\n",
    "L_{X,X} = \\frac{\\sum_i (\\tilde x_i - \\bar x)^2}{\\sum_i (x_i - \\bar x)^2} = \\mathrm{SSS}_X,\n",
    "$$\n",
    "\n",
    "which is approximated the ratio between the variance of spatially lagged $x$ and variance of $x$. Because the spatial lag introduces smoothing, the spatial lag reduced variance, making the diagonal less than 1. This is the spatial smoothing scalar (SSS), and Moran's I is approximately Pearson correlation between $X$ and spatially lagged $X$ ($\\tilde X$) multiplied by SSS:\n",
    "\n",
    "$$\n",
    "I = \\mathrm{SSS}_X \\cdot \\rho_{X, \\tilde X}\n",
    "$$\n",
    "\n",
    "Similarly for Lee's L, as shown in [@Lee2001-tm],\n",
    "\n",
    "$$\n",
    "L_{X, Y} = \\sqrt{\\mathrm{SSS}_X}\\sqrt{\\mathrm{SSS}_Y} \\cdot \\rho_{\\tilde X, \\tilde Y}\n",
    "$$\n",
    "\n",
    "With more spatial clustering, the variance is less reduced by the spatial lag, leading to a larger SSS.\n",
    "\n",
    "Weighted correlation network analysis (WGCNA) [@Langfelder2008-fs] is a time honored method to find gene co-expression modules, and it can take any correlation matrix. Then it would be interesting to apply WGCNA to the Lee's L matrix to identify spatially informed gene co-expression modules.\n",
    "\n",
    "# Local Lee\n",
    "\n",
    "Local Lee's L is defined as\n",
    "\n",
    "$$\n",
    "L_i = \\frac{n\\left[ \\sum_{j=1}^n w_{ij}  (x_j - \\bar{x}) \\right] \\left[ \\sum_{j=1}^n w_{ij} (y_j - \\bar{y}) \\right]}{\\sqrt{\\sum_{i=1}^n (x_i - \\bar{x})^2}\\sqrt{\\sum_{i=1}^n (y_i - \\bar{y})^2} }\n",
    "$$\n",
    "\n",
    "Compare this to the global L in the previous section. Local L does not sum over the locations $i$. This is the contribution of each location to global L and can show spatial heterogeneity in the relationship between two variables. \n",
    "\n",
    "All bivariate local methods in `Voyager` is listed here:"
   ]
  },
  {
   "cell_type": "code",
   "execution_count": null,
<<<<<<< HEAD
<<<<<<< HEAD
<<<<<<< HEAD
   "id": "69cd70e2",
||||||| 11b9cb7
   "id": "28cbc073",
=======
   "id": "87558fe6",
>>>>>>> documentation-devel
||||||| 614e9b1
   "id": "87558fe6",
=======
   "id": "0959366e",
>>>>>>> documentation-devel
||||||| 856b4c0
<<<<<<< HEAD
   "id": "69cd70e2",
||||||| 11b9cb7
   "id": "28cbc073",
=======
   "id": "87558fe6",
>>>>>>> documentation-devel
=======
   "id": "e291e41e",
>>>>>>> 552590ea8fad969b67afdba27558a1e6cb21016e
   "metadata": {},
   "outputs": [],
   "source": [
    "listSFEMethods(\"bi\", \"local\")"
   ]
  },
  {
   "cell_type": "markdown",
<<<<<<< HEAD
<<<<<<< HEAD
<<<<<<< HEAD
   "id": "44d90967",
||||||| 11b9cb7
   "id": "3747e2c7",
=======
   "id": "48cd090c",
>>>>>>> documentation-devel
||||||| 614e9b1
   "id": "48cd090c",
=======
   "id": "4e88a514",
>>>>>>> documentation-devel
||||||| 856b4c0
<<<<<<< HEAD
   "id": "44d90967",
||||||| 11b9cb7
   "id": "3747e2c7",
=======
   "id": "48cd090c",
>>>>>>> documentation-devel
=======
   "id": "45273639",
>>>>>>> 552590ea8fad969b67afdba27558a1e6cb21016e
   "metadata": {},
   "source": [
    "Here we compute local L for two myofiber marker genes and one gene highly expressed in the injury site:"
   ]
  },
  {
   "cell_type": "code",
   "execution_count": null,
<<<<<<< HEAD
<<<<<<< HEAD
<<<<<<< HEAD
   "id": "ef5add9a",
||||||| 11b9cb7
   "id": "e4a5925d",
=======
   "id": "efde143e",
>>>>>>> documentation-devel
||||||| 614e9b1
   "id": "efde143e",
=======
   "id": "aa19f29a",
>>>>>>> documentation-devel
||||||| 856b4c0
<<<<<<< HEAD
   "id": "ef5add9a",
||||||| 11b9cb7
   "id": "e4a5925d",
=======
   "id": "efde143e",
>>>>>>> documentation-devel
=======
   "id": "38eb0313",
>>>>>>> 552590ea8fad969b67afdba27558a1e6cb21016e
   "metadata": {},
   "outputs": [],
   "source": [
    "sfe_tissue <- runBivariate(sfe_tissue, \"locallee\", swap_rownames = \"symbol\",\n",
    "                           feature1 = c(\"Myh2\", \"Myh1\", \"Ftl1\"))"
   ]
  },
  {
   "cell_type": "markdown",
<<<<<<< HEAD
<<<<<<< HEAD
<<<<<<< HEAD
   "id": "4bab358b",
||||||| 11b9cb7
   "id": "a105d7aa",
=======
   "id": "e1919811",
>>>>>>> documentation-devel
||||||| 614e9b1
   "id": "e1919811",
=======
   "id": "f90a1a97",
>>>>>>> documentation-devel
||||||| 856b4c0
<<<<<<< HEAD
   "id": "4bab358b",
||||||| 11b9cb7
   "id": "a105d7aa",
=======
   "id": "e1919811",
>>>>>>> documentation-devel
=======
   "id": "39851b5a",
>>>>>>> 552590ea8fad969b67afdba27558a1e6cb21016e
   "metadata": {},
   "source": [
    "Bivariate local results are stored in the `localResults` field and the feature names are the pairwise combinations of features supplied. When only `feature1` is specified, then the bivariate method is applied to all pairwise combinations of `feature1`. "
   ]
  },
  {
   "cell_type": "code",
   "execution_count": null,
<<<<<<< HEAD
<<<<<<< HEAD
<<<<<<< HEAD
   "id": "83edff59",
||||||| 11b9cb7
   "id": "d75c9f9f",
=======
   "id": "e1a15df5",
>>>>>>> documentation-devel
||||||| 614e9b1
   "id": "e1a15df5",
=======
   "id": "1f0ca838",
>>>>>>> documentation-devel
||||||| 856b4c0
<<<<<<< HEAD
   "id": "83edff59",
||||||| 11b9cb7
   "id": "d75c9f9f",
=======
   "id": "e1a15df5",
>>>>>>> documentation-devel
=======
   "id": "02d7336a",
>>>>>>> 552590ea8fad969b67afdba27558a1e6cb21016e
   "metadata": {},
   "outputs": [],
   "source": [
    "localResultFeatures(sfe_tissue, \"locallee\")"
   ]
  },
  {
   "cell_type": "markdown",
<<<<<<< HEAD
<<<<<<< HEAD
<<<<<<< HEAD
   "id": "a00b1f32",
||||||| 11b9cb7
   "id": "bd7a2989",
=======
   "id": "44a5e209",
>>>>>>> documentation-devel
||||||| 614e9b1
   "id": "44a5e209",
=======
   "id": "18e7d9e3",
>>>>>>> documentation-devel
||||||| 856b4c0
<<<<<<< HEAD
   "id": "a00b1f32",
||||||| 11b9cb7
   "id": "bd7a2989",
=======
   "id": "44a5e209",
>>>>>>> documentation-devel
=======
   "id": "87253a07",
>>>>>>> 552590ea8fad969b67afdba27558a1e6cb21016e
   "metadata": {
    "lines_to_next_cell": 0
   },
   "source": [
    "For Lee's L, both $L_{X,Y}$ and $L_{Y,X}$ are computed although they are the same. However, not all bivariate methods are symmetric (see next section). In the next release (Bioconductor 3.18), we may introduce another argument to indicate whether the method is symmetric and if so only compute $L_{X,Y}$ and not $L_{Y,X}$.\n",
    "\n",
    "First plot the three genes individually:"
   ]
  },
  {
   "cell_type": "code",
   "execution_count": null,
<<<<<<< HEAD
<<<<<<< HEAD
<<<<<<< HEAD
   "id": "5b7b1c3a",
||||||| 11b9cb7
   "id": "0b54aee4",
=======
   "id": "0f07d9e9",
>>>>>>> documentation-devel
||||||| 614e9b1
   "id": "0f07d9e9",
=======
   "id": "2a244feb",
>>>>>>> documentation-devel
||||||| 856b4c0
<<<<<<< HEAD
   "id": "5b7b1c3a",
||||||| 11b9cb7
   "id": "0b54aee4",
=======
   "id": "0f07d9e9",
>>>>>>> documentation-devel
=======
   "id": "7d69fd1c",
>>>>>>> 552590ea8fad969b67afdba27558a1e6cb21016e
   "metadata": {
    "fig.height": 4,
    "fig.width": 10
   },
   "outputs": [],
   "source": [
    "plotSpatialFeature(sfe_tissue, c(\"Myh2\", \"Myh1\", \"Ftl1\"), \n",
    "                   swap_rownames = \"symbol\", image_id = \"lowres\", maxcell = 5e4)"
   ]
  },
  {
   "cell_type": "markdown",
<<<<<<< HEAD
<<<<<<< HEAD
<<<<<<< HEAD
   "id": "ce98d1e8",
||||||| 11b9cb7
   "id": "230b0aa4",
=======
   "id": "19fffe89",
>>>>>>> documentation-devel
||||||| 614e9b1
   "id": "19fffe89",
=======
   "id": "7855473c",
>>>>>>> documentation-devel
||||||| 856b4c0
<<<<<<< HEAD
   "id": "ce98d1e8",
||||||| 11b9cb7
   "id": "230b0aa4",
=======
   "id": "19fffe89",
>>>>>>> documentation-devel
=======
   "id": "6f9bad71",
>>>>>>> 552590ea8fad969b67afdba27558a1e6cb21016e
   "metadata": {
    "lines_to_next_cell": 0
   },
   "source": [
    "Then plot the local L's:"
   ]
  },
  {
   "cell_type": "code",
   "execution_count": null,
<<<<<<< HEAD
<<<<<<< HEAD
<<<<<<< HEAD
   "id": "98876ebd",
||||||| 11b9cb7
   "id": "d6bb4791",
=======
   "id": "7e49e74d",
>>>>>>> documentation-devel
||||||| 614e9b1
   "id": "7e49e74d",
=======
   "id": "2d888095",
>>>>>>> documentation-devel
||||||| 856b4c0
<<<<<<< HEAD
   "id": "98876ebd",
||||||| 11b9cb7
   "id": "d6bb4791",
=======
   "id": "7e49e74d",
>>>>>>> documentation-devel
=======
   "id": "575bb505",
>>>>>>> 552590ea8fad969b67afdba27558a1e6cb21016e
   "metadata": {
    "fig.height": 4,
    "fig.width": 10
   },
   "outputs": [],
   "source": [
    "plotLocalResult(sfe_tissue, \"locallee\", c(\"Myh1__Myh2\", \"Myh2__Ftl1\", \"Myh1__Ftl1\"),\n",
    "                colGeometryName = \"spotPoly\",\n",
    "                image_id = \"lowres\", maxcell = 5e4,\n",
    "                divergent = TRUE, diverge_center = 0)"
   ]
  },
  {
   "cell_type": "markdown",
<<<<<<< HEAD
<<<<<<< HEAD
<<<<<<< HEAD
   "id": "88bf9067",
||||||| 11b9cb7
   "id": "c3b2191f",
=======
   "id": "134c82f3",
>>>>>>> documentation-devel
||||||| 614e9b1
   "id": "134c82f3",
=======
   "id": "d5d28385",
>>>>>>> documentation-devel
||||||| 856b4c0
<<<<<<< HEAD
   "id": "88bf9067",
||||||| 11b9cb7
   "id": "c3b2191f",
=======
   "id": "134c82f3",
>>>>>>> documentation-devel
=======
   "id": "d3d3e582",
>>>>>>> 552590ea8fad969b67afdba27558a1e6cb21016e
   "metadata": {
    "lines_to_next_cell": 0
   },
   "source": [
    "Here we see regions where Myh1 and Myh2 are more co-expressed, and where the myosins and Ftl1 are negatively correlated. \n",
    "\n",
    "$L_{X,X}$ is also computed, so we can plot the local SSS for the three genes:"
   ]
  },
  {
   "cell_type": "code",
   "execution_count": null,
<<<<<<< HEAD
<<<<<<< HEAD
<<<<<<< HEAD
   "id": "5d3ddb64",
||||||| 11b9cb7
   "id": "54620256",
=======
   "id": "b4ca5370",
>>>>>>> documentation-devel
||||||| 614e9b1
   "id": "b4ca5370",
=======
   "id": "41c85f62",
>>>>>>> documentation-devel
||||||| 856b4c0
<<<<<<< HEAD
   "id": "5d3ddb64",
||||||| 11b9cb7
   "id": "54620256",
=======
   "id": "b4ca5370",
>>>>>>> documentation-devel
=======
   "id": "85fffccb",
>>>>>>> 552590ea8fad969b67afdba27558a1e6cb21016e
   "metadata": {
    "fig.height": 4,
    "fig.width": 10
   },
   "outputs": [],
   "source": [
    "plotLocalResult(sfe_tissue, \"locallee\", c(\"Myh1__Myh1\", \"Myh2__Myh2\", \"Ftl1__Ftl1\"),\n",
    "                colGeometryName = \"spotPoly\",\n",
    "                image_id = \"lowres\", maxcell = 5e4)"
   ]
  },
  {
   "cell_type": "markdown",
<<<<<<< HEAD
<<<<<<< HEAD
<<<<<<< HEAD
   "id": "298fbfcd",
||||||| 11b9cb7
   "id": "d70c05e5",
=======
   "id": "ade8468d",
>>>>>>> documentation-devel
||||||| 614e9b1
   "id": "ade8468d",
=======
   "id": "91b84de9",
>>>>>>> documentation-devel
||||||| 856b4c0
<<<<<<< HEAD
   "id": "298fbfcd",
||||||| 11b9cb7
   "id": "d70c05e5",
=======
   "id": "ade8468d",
>>>>>>> documentation-devel
=======
   "id": "526c0f3d",
>>>>>>> 552590ea8fad969b67afdba27558a1e6cb21016e
   "metadata": {
    "lines_to_next_cell": 0
   },
   "source": [
    "See how the local SSS compares to local Moran's I:"
   ]
  },
  {
   "cell_type": "code",
   "execution_count": null,
<<<<<<< HEAD
<<<<<<< HEAD
<<<<<<< HEAD
   "id": "cbb3ce42",
||||||| 11b9cb7
   "id": "f32bba36",
=======
   "id": "7e74291c",
>>>>>>> documentation-devel
||||||| 614e9b1
   "id": "7e74291c",
=======
   "id": "c610a6f2",
>>>>>>> documentation-devel
||||||| 856b4c0
<<<<<<< HEAD
   "id": "cbb3ce42",
||||||| 11b9cb7
   "id": "f32bba36",
=======
   "id": "7e74291c",
>>>>>>> documentation-devel
=======
   "id": "edacb5d6",
>>>>>>> 552590ea8fad969b67afdba27558a1e6cb21016e
   "metadata": {},
   "outputs": [],
   "source": [
    "sfe_tissue <- runUnivariate(sfe_tissue, \"localmoran\", c(\"Myh2\", \"Myh1\", \"Ftl1\"),\n",
    "                            swap_rownames = \"symbol\")"
   ]
  },
  {
   "cell_type": "code",
   "execution_count": null,
<<<<<<< HEAD
<<<<<<< HEAD
<<<<<<< HEAD
   "id": "d1dc0944",
||||||| 11b9cb7
   "id": "06111fb1",
=======
   "id": "16b8f357",
>>>>>>> documentation-devel
||||||| 614e9b1
   "id": "16b8f357",
=======
   "id": "e64a12f6",
>>>>>>> documentation-devel
||||||| 856b4c0
<<<<<<< HEAD
   "id": "d1dc0944",
||||||| 11b9cb7
   "id": "06111fb1",
=======
   "id": "16b8f357",
>>>>>>> documentation-devel
=======
   "id": "7f8a09dd",
>>>>>>> 552590ea8fad969b67afdba27558a1e6cb21016e
   "metadata": {
    "fig.height": 4,
    "fig.width": 10
   },
   "outputs": [],
   "source": [
    "plotLocalResult(sfe_tissue, \"localmoran\", c(\"Myh1\", \"Myh2\", \"Ftl1\"),\n",
    "                colGeometryName = \"spotPoly\", swap_rownames = \"symbol\",\n",
    "                image_id = \"lowres\", maxcell = 5e4,\n",
    "                divergent = TRUE, diverge_center = 0)"
   ]
  },
  {
   "cell_type": "markdown",
<<<<<<< HEAD
<<<<<<< HEAD
<<<<<<< HEAD
   "id": "532ee4c1",
||||||| 11b9cb7
   "id": "9293584c",
=======
   "id": "19dd8cdc",
>>>>>>> documentation-devel
||||||| 614e9b1
   "id": "19dd8cdc",
=======
   "id": "54c20fb4",
>>>>>>> documentation-devel
||||||| 856b4c0
<<<<<<< HEAD
   "id": "532ee4c1",
||||||| 11b9cb7
   "id": "9293584c",
=======
   "id": "19dd8cdc",
>>>>>>> documentation-devel
=======
   "id": "9a87910f",
>>>>>>> 552590ea8fad969b67afdba27558a1e6cb21016e
   "metadata": {},
   "source": [
    "The patterns are qualitatively the same, but while local Moran's I is negative in heterogeneous regions, the SSS can't be negative.\n",
    "\n",
    "# Bivariate local Moran\n",
    "\n",
    "The `spdep` package implements a bivariate version of local Moran, which basically is \n",
    "\n",
    "$$\n",
    "I_{X_i,Y_i} = (n-1)\\frac{(x_i - \\bar{x})\\sum_{j=1}^n w_{ij} (y_j - \\bar{y})}{\\sqrt{\\sum_{i=1}^n (x_i - \\bar{x})^2} \\sqrt{\\sum_{i=1}^n (y_i - \\bar{y})^2}}.\n",
    "$$\n",
    "\n",
    "Note that this is not symmetric, i.e. $I_{X_i,Y_i} \\neq I_{Y_i,X_i}$."
   ]
  },
  {
   "cell_type": "code",
   "execution_count": null,
<<<<<<< HEAD
<<<<<<< HEAD
<<<<<<< HEAD
   "id": "9a16b60c",
||||||| 11b9cb7
   "id": "6c7a6138",
=======
   "id": "3b39735a",
>>>>>>> documentation-devel
||||||| 614e9b1
   "id": "3b39735a",
=======
   "id": "11be01b8",
>>>>>>> documentation-devel
||||||| 856b4c0
<<<<<<< HEAD
   "id": "9a16b60c",
||||||| 11b9cb7
   "id": "6c7a6138",
=======
   "id": "3b39735a",
>>>>>>> documentation-devel
=======
   "id": "d69a4e2d",
>>>>>>> 552590ea8fad969b67afdba27558a1e6cb21016e
   "metadata": {},
   "outputs": [],
   "source": [
    "sfe_tissue <- runBivariate(sfe_tissue, \"localmoran_bv\", c(\"Myh1\", \"Myh2\", \"Ftl1\"),\n",
    "                           swap_rownames = \"symbol\", nsim = 1000)"
   ]
  },
  {
   "cell_type": "code",
   "execution_count": null,
<<<<<<< HEAD
<<<<<<< HEAD
<<<<<<< HEAD
   "id": "cca490f4",
||||||| 11b9cb7
   "id": "4b81f675",
=======
   "id": "04de61cd",
>>>>>>> documentation-devel
||||||| 614e9b1
   "id": "04de61cd",
=======
   "id": "cf91ea76",
>>>>>>> documentation-devel
||||||| 856b4c0
<<<<<<< HEAD
   "id": "cca490f4",
||||||| 11b9cb7
   "id": "4b81f675",
=======
   "id": "04de61cd",
>>>>>>> documentation-devel
=======
   "id": "ee55c7ce",
>>>>>>> 552590ea8fad969b67afdba27558a1e6cb21016e
   "metadata": {},
   "outputs": [],
   "source": [
    "localResultFeatures(sfe_tissue, \"localmoran_bv\")"
   ]
  },
  {
   "cell_type": "markdown",
<<<<<<< HEAD
<<<<<<< HEAD
<<<<<<< HEAD
   "id": "b00dea3d",
||||||| 11b9cb7
   "id": "b1570115",
=======
   "id": "51b9f9c9",
>>>>>>> documentation-devel
||||||| 614e9b1
   "id": "51b9f9c9",
=======
   "id": "ae203e10",
>>>>>>> documentation-devel
||||||| 856b4c0
<<<<<<< HEAD
   "id": "b00dea3d",
||||||| 11b9cb7
   "id": "b1570115",
=======
   "id": "51b9f9c9",
>>>>>>> documentation-devel
=======
   "id": "16719b95",
>>>>>>> 552590ea8fad969b67afdba27558a1e6cb21016e
   "metadata": {
    "lines_to_next_cell": 0
   },
   "source": [
    "Permutation testing is performed so we get a pseudo p-value"
   ]
  },
  {
   "cell_type": "code",
   "execution_count": null,
<<<<<<< HEAD
<<<<<<< HEAD
<<<<<<< HEAD
   "id": "635cecaf",
||||||| 11b9cb7
   "id": "1f4e1214",
=======
   "id": "de15260d",
>>>>>>> documentation-devel
||||||| 614e9b1
   "id": "de15260d",
=======
   "id": "86d4bc98",
>>>>>>> documentation-devel
||||||| 856b4c0
<<<<<<< HEAD
   "id": "635cecaf",
||||||| 11b9cb7
   "id": "1f4e1214",
=======
   "id": "de15260d",
>>>>>>> documentation-devel
=======
   "id": "510e580d",
>>>>>>> 552590ea8fad969b67afdba27558a1e6cb21016e
   "metadata": {},
   "outputs": [],
   "source": [
    "localResultAttrs(sfe_tissue, \"localmoran_bv\", \"Myh1__Myh2\")"
   ]
  },
  {
   "cell_type": "markdown",
<<<<<<< HEAD
<<<<<<< HEAD
<<<<<<< HEAD
   "id": "0a1ca716",
||||||| 11b9cb7
   "id": "0eef25e9",
=======
   "id": "be2fb9ed",
>>>>>>> documentation-devel
||||||| 614e9b1
   "id": "be2fb9ed",
=======
   "id": "c1712736",
>>>>>>> documentation-devel
||||||| 856b4c0
<<<<<<< HEAD
   "id": "0a1ca716",
||||||| 11b9cb7
   "id": "0eef25e9",
=======
   "id": "be2fb9ed",
>>>>>>> documentation-devel
=======
   "id": "ce7ad8f0",
>>>>>>> 552590ea8fad969b67afdba27558a1e6cb21016e
   "metadata": {
    "lines_to_next_cell": 0
   },
   "source": [
    "First plot the bivariate local Moran's I values"
   ]
  },
  {
   "cell_type": "code",
   "execution_count": null,
<<<<<<< HEAD
<<<<<<< HEAD
<<<<<<< HEAD
   "id": "d6f8692d",
||||||| 11b9cb7
   "id": "8f6a6c13",
=======
   "id": "6eb1e910",
>>>>>>> documentation-devel
||||||| 614e9b1
   "id": "6eb1e910",
=======
   "id": "d31a597f",
>>>>>>> documentation-devel
||||||| 856b4c0
<<<<<<< HEAD
   "id": "d6f8692d",
||||||| 11b9cb7
   "id": "8f6a6c13",
=======
   "id": "6eb1e910",
>>>>>>> documentation-devel
=======
   "id": "7d33504c",
>>>>>>> 552590ea8fad969b67afdba27558a1e6cb21016e
   "metadata": {
    "fig.height": 7.5,
    "fig.width": 10
   },
   "outputs": [],
   "source": [
    "plotLocalResult(sfe_tissue, \"localmoran_bv\", c(\"Myh1__Myh2\", \"Myh2__Ftl1\", \"Myh1__Ftl1\",\n",
    "                                               \"Myh2__Myh1\", \"Ftl1__Myh2\", \"Ftl1__Myh1\"),\n",
    "                colGeometryName = \"spotPoly\", attribute = \"Ibvi\",\n",
    "                image_id = \"lowres\", maxcell = 5e4,\n",
    "                divergent = TRUE, diverge_center = 0)"
   ]
  },
  {
   "cell_type": "markdown",
<<<<<<< HEAD
<<<<<<< HEAD
<<<<<<< HEAD
   "id": "8183f3f7",
||||||| 11b9cb7
   "id": "cebe24ae",
=======
   "id": "7deeb726",
>>>>>>> documentation-devel
||||||| 614e9b1
   "id": "7deeb726",
=======
   "id": "b8cbc446",
>>>>>>> documentation-devel
||||||| 856b4c0
<<<<<<< HEAD
   "id": "8183f3f7",
||||||| 11b9cb7
   "id": "cebe24ae",
=======
   "id": "7deeb726",
>>>>>>> documentation-devel
=======
   "id": "31a80e4b",
>>>>>>> 552590ea8fad969b67afdba27558a1e6cb21016e
   "metadata": {},
   "source": [
    "The first row plots XY while the second row plots YX; note that while they are similar, they are not the same. What does bivariate local Moran mean? It's kind of like contribution of each location to the correlation between $x$ and spatially lagged $y$, so $x$ is not smoothed. In contrast, Lee's L is a scaled Pearson correlation between spatially lagged $x$ and spatially lagged $y$. Because permutation testing is performed, we can plot the pseudo-p-value, after correcting for multiple testing based on the spatial neighborhood graph:"
   ]
  },
  {
   "cell_type": "code",
   "execution_count": null,
<<<<<<< HEAD
<<<<<<< HEAD
<<<<<<< HEAD
   "id": "e2aa8829",
||||||| 11b9cb7
   "id": "d0f62c24",
=======
   "id": "d0531d2a",
>>>>>>> documentation-devel
||||||| 614e9b1
   "id": "d0531d2a",
=======
   "id": "bff64a45",
>>>>>>> documentation-devel
||||||| 856b4c0
<<<<<<< HEAD
   "id": "e2aa8829",
||||||| 11b9cb7
   "id": "d0f62c24",
=======
   "id": "d0531d2a",
>>>>>>> documentation-devel
=======
   "id": "239239e1",
>>>>>>> 552590ea8fad969b67afdba27558a1e6cb21016e
   "metadata": {
    "fig.height": 7.5,
    "fig.width": 10
   },
   "outputs": [],
   "source": [
    "plotLocalResult(sfe_tissue, \"localmoran_bv\", c(\"Myh1__Myh2\", \"Myh2__Ftl1\", \"Myh1__Ftl1\",\n",
    "                                               \"Myh2__Myh1\", \"Ftl1__Myh2\", \"Ftl1__Myh1\"),\n",
    "                colGeometryName = \"spotPoly\", attribute = \"-log10p_adj Sim\",\n",
    "                image_id = \"lowres\", maxcell = 5e4,\n",
    "                divergent = TRUE, diverge_center = -log10(0.05))"
   ]
  },
  {
   "cell_type": "markdown",
<<<<<<< HEAD
<<<<<<< HEAD
<<<<<<< HEAD
   "id": "8d941955",
||||||| 11b9cb7
   "id": "22cb81ca",
=======
   "id": "1b314dd2",
>>>>>>> documentation-devel
||||||| 614e9b1
   "id": "1b314dd2",
=======
   "id": "d53d4f31",
>>>>>>> documentation-devel
||||||| 856b4c0
<<<<<<< HEAD
   "id": "8d941955",
||||||| 11b9cb7
   "id": "22cb81ca",
=======
   "id": "1b314dd2",
>>>>>>> documentation-devel
=======
   "id": "9fad4bf0",
>>>>>>> 552590ea8fad969b67afdba27558a1e6cb21016e
   "metadata": {
    "lines_to_next_cell": 0
   },
   "source": [
    "Note that the p-values are asymetric, because according to the source code of `localmoran_bv()`, $y$ is permuted, but not $x$. It's also related to Wartenberg's spatial PCA [@Wartenberg1985-fk], where Moran's I is expressed in matrix form:\n",
    "\n",
    "$$\n",
    "\\mathbf{I} = \\frac{\\mathbf{Z}^T\\mathbf{WZ}}{\\mathbf 1^T \\mathbf{W1}},\n",
    "$$\n",
    "\n",
    "where $\\mathbf Z$ is the data matrix with scaled and centered variables in columns, $\\mathbf W$ is the spatial weights matrix, and $\\mathbf 1$ is a vector of all 1's, so the denominator is in effect $\\sum_{i=1}^n \\sum_{j=1}^n w_{ij}$. The diagonal entries are Moran's I's for the variables, and the off diagonal entries are the global versions of what we computed here that sum the bivariate local Moran's I's and divide by the sum of all spatial weights. Because $\\mathbf W$ doesn't have to be symmetric, this matrix may not be symmetric. Wartenberg diagonalized this matrix in place of the covariance matrix for spatial PCA. When using scaled and centered data and row normalized spatial weights matrix, MULTISPATI PCA is equivalent to Wartenberg's approach [@Dray2008-en]. Lee considered this asymmetry an inadequacy of Wartenberg's approach as a bivariate association measure [@Lee2001-tm]. While I'm not sure how bivariate local Moran's I helps with data analysis, it is an interesting piece of history. \n",
    "\n",
    "# Session info"
   ]
  },
  {
   "cell_type": "code",
   "execution_count": null,
<<<<<<< HEAD
<<<<<<< HEAD
<<<<<<< HEAD
   "id": "06f1536e",
||||||| 11b9cb7
   "id": "ebc2a3e6",
=======
   "id": "ec4c6360",
>>>>>>> documentation-devel
||||||| 614e9b1
   "id": "ec4c6360",
=======
   "id": "7dcda76e",
>>>>>>> documentation-devel
||||||| 856b4c0
<<<<<<< HEAD
   "id": "06f1536e",
||||||| 11b9cb7
   "id": "ebc2a3e6",
=======
   "id": "ec4c6360",
>>>>>>> documentation-devel
=======
   "id": "6fc1adf4",
>>>>>>> 552590ea8fad969b67afdba27558a1e6cb21016e
   "metadata": {},
   "outputs": [],
   "source": [
    "sessionInfo()"
   ]
  },
  {
   "cell_type": "markdown",
<<<<<<< HEAD
<<<<<<< HEAD
<<<<<<< HEAD
   "id": "017d0bcf",
||||||| 11b9cb7
   "id": "42800732",
=======
   "id": "c3218380",
>>>>>>> documentation-devel
||||||| 614e9b1
   "id": "c3218380",
=======
   "id": "50669106",
>>>>>>> documentation-devel
||||||| 856b4c0
<<<<<<< HEAD
   "id": "017d0bcf",
||||||| 11b9cb7
   "id": "42800732",
=======
   "id": "c3218380",
>>>>>>> documentation-devel
=======
   "id": "0488988d",
>>>>>>> 552590ea8fad969b67afdba27558a1e6cb21016e
   "metadata": {},
   "source": [
    "# References"
   ]
  }
 ],
 "metadata": {
  "kernelspec": {
   "display_name": "R",
   "language": "R",
   "name": "ir"
  }
 },
 "nbformat": 4,
 "nbformat_minor": 5
}
