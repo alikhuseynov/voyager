{
 "cells": [
  {
   "cell_type": "raw",
   "id": "d1c95541",
   "metadata": {},
   "source": [
    "---\n",
    "title: \"Slide-seqV2 Processing Workflows with Voyager\"\n",
    "output: html_document\n",
    "vignette: >\n",
    "  %\\VignetteIndexEntry{slideseqV2_landing}\n",
    "  %\\VignetteEngine{knitr::rmarkdown}\n",
    "  %\\VignetteEncoding{UTF-8}\n",
    "---"
   ]
  },
  {
   "cell_type": "code",
   "execution_count": null,
   "id": "1d5dab27",
   "metadata": {
    "tags": [
     "remove_cell"
    ]
   },
   "outputs": [],
   "source": [
    "knitr::opts_chunk$set(\n",
    "  collapse = TRUE,\n",
    "  comment = \"#>\",\n",
    "  eval = FALSE\n",
    ")"
   ]
  },
  {
   "cell_type": "markdown",
   "id": "fd53057c",
   "metadata": {},
   "source": [
    "The Slide-seqV2 platform enables transcriptome-wide spatial profiling of fresh-frozen tissue sections. In both Slide-seqV2 and its predecessor, Slide-seq, mRNA capture takes place on a DNA-barcoded array of $10 \\mu m$ beads immobilized on a microscopy slide. Slide-seqV2 offers improvements in capture efficiency and enzymatic library generation."
   ]
  },
  {
   "cell_type": "markdown",
   "id": "a6d2ebc0",
   "metadata": {},
   "source": [
    "## Getting Started\n",
    "\n",
    "#### Dowload Data and Create a `SpatialFeatureExperiment` object\n",
    "\n",
    "The vignettes below demonstrate how to convert sequencing data from a spatial transcriptomics experiment to a [`SpatialFeatureExperiment`](https://bioconductor.org/packages/devel/bioc/html/SpatialFeatureExperiment.html) object in R. Many technologies have not yet standardized their output formats, and the vignettes below provide examples of how to generate a SFE object with various output file types. "
   ]
  },
  {
   "cell_type": "markdown",
   "id": "3a8e6797",
   "metadata": {},
   "source": [
    "| Vignette | Colab Notebook | Description |\n",
    "|--------------------|:---------------:|---------------------------------|\n",
    "| [Create a `SpatialFeatureExperiment` object](https://pachterlab.github.io/voyager/articles/create_sfe.html) |                | Download data, create `SFE` object, perform basic QC |\n",
    "|[Create a `SpatialFeatureExperiment` from scratch](https://pachterlab.github.io/voyager/articles/create_sfe_v2.html) |               | Download data from GEO using `ffq`, create `SFE` object, perform basic QC |\n",
    "\n",
    "## Analysis Workflows\n",
    "\n",
    "The vignettes below demonstrate workflows that can be implemented with `Voyager` using data generated with the Slide-seqV2 platform. The analysis tasks include basic quality control, spatial exploratory data analysis, identification of spatially variable genes, and computation of global and local spatial statistics. Accompanying Colab notebooks are linked when available.\n",
    "\n",
    "| Vignette | Colab Notebook | Description |\n",
    "|--------------------|:---------------:|---------------------------------|\n",
    "| [Slide-seqV2 exploratory data analysis](https://pachterlab.github.io/voyager/articles/vig3_slideseq_v2.html) | | Perform basic QC, data normalization, dimension reduction, compute Moran's I|"
   ]
  }
 ],
 "metadata": {
  "jupytext": {
   "cell_metadata_filter": "tags,-all",
   "main_language": "R",
   "notebook_metadata_filter": "-all"
  }
 },
 "nbformat": 4,
 "nbformat_minor": 5
}
