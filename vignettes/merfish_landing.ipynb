{
 "cells": [
  {
   "cell_type": "raw",
   "id": "2ca5378e",
   "metadata": {},
   "source": [
    "---\n",
    "title: \"MERFISH Processing Workflows with Voyager\"\n",
    "output: html_document\n",
    "vignette: >\n",
    "  %\\VignetteIndexEntry{merfish_landing}\n",
    "  %\\VignetteEngine{knitr::rmarkdown}\n",
    "  %\\VignetteEncoding{UTF-8}\n",
    "---"
   ]
  },
  {
   "cell_type": "code",
   "execution_count": null,
   "id": "50dbdf5b",
   "metadata": {
    "tags": [
     "remove_cell"
    ]
   },
   "outputs": [],
   "source": [
    "knitr::opts_chunk$set(\n",
    "  collapse = TRUE,\n",
    "  comment = \"#>\",\n",
    "  eval = FALSE\n",
    ")"
   ]
  },
  {
   "cell_type": "markdown",
   "id": "fe9567c6",
   "metadata": {},
   "source": [
    "The MERSCOPE Platform from [Vizgen](https://vizgen.com/products/) is enabled by Multiplexed Error-Robust Fluorescence in-situ Hybridization (MERFISH). MERFISH is a spatial transcriptomics technology that expands the multiplexing capabilities of single molecule fluorescent in-situ hybridization (smFISH) via a combinatorial barcode coupled with sequential rounds of imaging. The technology enables detection of hundreds to thousands of single molecule targets at sub-cellular resolution. While MERFISH was designed to be compatible with fresh or fixed frozen tissues, Vizgen has demonstrated efficacy of the technology on FFPE tissue specimens. "
   ]
  },
  {
   "cell_type": "markdown",
   "id": "31ac8aa1",
   "metadata": {},
   "source": [
    "## Getting Started\n",
    "\n",
    "Several MERFISH datasets have been generated on the MERSCOPE Platform and are publicly available from Vizgen on their [website](https://vizgen.com/data-release-program/). We provide examples available for processing the output of various spatial transcriptomics technologies into a [`SpatialFeatureExperiment`](https://bioconductor.org/packages/devel/bioc/html/SpatialFeatureExperiment.html)(SFE) object for use with `Voyager` on the [Getting Started]() page. \n",
    "\n",
    "The vignette linked below provides technology specific notes for data downloaded from Vizgen. Briefly, Vizgen provides cell metadata and the gene count matrix as CSV files which can be read in quickly with the [`vroom`](https://cran.r-project.org/web/packages/vroom/index.html) package. Cell segmentation data are provided as HDF5 files that are delineated by field of view."
   ]
  },
  {
   "cell_type": "markdown",
   "id": "0f45199e",
   "metadata": {},
   "source": [
    "| Vignette | Colab Notebook | Description |\n",
    "|--------------------|:---------------:|---------------------------------|\n",
    "| [Create a `SFE` object](https://pachterlab.github.io/voyager/articles/create_sfe.html) |                | Download data, create `SFE` object, Vizgen/MERFISH specific notes |"
   ]
  },
  {
   "cell_type": "markdown",
   "id": "08b80523",
   "metadata": {},
   "source": [
    "## Analysis Workflows\n",
    "\n",
    "The vignettes below demonstrate workflows that can be implemented with `Voyager` using data generated with the MERFISH technology. The publicly available MERFISH datasets profile hundreds of genes in hundreds of thousands to millions of cells. Thus, the vignettes linked below can provide some context on the capabilities of `Voyager` for moderate to large datasets. \n",
    "\n",
    "| Vignette | Colab Notebook | Description |\n",
    "|--------------------|:---------------:|---------------------------------|\n",
    "| [MERFISH mouse liver analysis](https://pachterlab.github.io/voyager/articles/vig6_merfish.html) | | Perform basic QC, compute Moran's I, length scales of spatial autocorrelation, binning, variogram models, PCA for large datasets |"
   ]
  }
 ],
 "metadata": {
  "jupytext": {
   "cell_metadata_filter": "tags,-all",
   "main_language": "R",
   "notebook_metadata_filter": "-all"
  }
 },
 "nbformat": 4,
 "nbformat_minor": 5
}
