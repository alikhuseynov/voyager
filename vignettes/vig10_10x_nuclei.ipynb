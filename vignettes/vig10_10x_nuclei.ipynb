{
 "cells": [
  {
   "cell_type": "raw",
<<<<<<< HEAD
<<<<<<< HEAD
<<<<<<< HEAD
   "id": "4b7652d2",
||||||| fa5abb84
   "id": "9cc49090",
=======
   "id": "93f9669d",
>>>>>>> documentation-devel
||||||| 7e3277eb
   "id": "93f9669d",
=======
   "id": "0478f2d4",
>>>>>>> documentation-devel
||||||| 971bf77c
<<<<<<< HEAD
   "id": "4b7652d2",
||||||| fa5abb84
   "id": "9cc49090",
=======
   "id": "93f9669d",
>>>>>>> documentation-devel
=======
   "id": "70e01cf5",
>>>>>>> e1d793125c0aeb7e34aca09298b9c5b44973e4b3
   "metadata": {},
   "source": [
    "---\n",
    "title: \"Chromium nuclei isolation basic quality control\"\n",
    "author: \"Kayla Jackson and A. Sina Booeshaghi\"\n",
    "date: \"`r Sys.Date()`\"\n",
    "output: \n",
    "  html_document:\n",
    "  toc: true\n",
    "  toc_float:\n",
    "    collapsed: false\n",
    "  toc_depth: 3\n",
    "bibliography: ref.bib\n",
    "vignette: >\n",
    "  %\\VignetteIndexEntry{10xnuclei_qc}\n",
    "  %\\VignetteEngine{knitr::rmarkdown}\n",
    "  %\\VignetteEncoding{UTF-8}\n",
    "---"
   ]
  },
  {
   "cell_type": "code",
   "execution_count": null,
<<<<<<< HEAD
<<<<<<< HEAD
<<<<<<< HEAD
   "id": "f641a609",
||||||| fa5abb84
   "id": "fc3c34c4",
=======
   "id": "50fec93d",
>>>>>>> documentation-devel
||||||| 7e3277eb
   "id": "50fec93d",
=======
   "id": "5b9e4d40",
>>>>>>> documentation-devel
||||||| 971bf77c
<<<<<<< HEAD
   "id": "f641a609",
||||||| fa5abb84
   "id": "fc3c34c4",
=======
   "id": "50fec93d",
>>>>>>> documentation-devel
=======
   "id": "0d4b6137",
>>>>>>> e1d793125c0aeb7e34aca09298b9c5b44973e4b3
   "metadata": {
    "tags": [
     "remove_cell"
    ]
   },
   "outputs": [],
   "source": [
    "knitr::opts_chunk$set(\n",
    "  collapse = TRUE,\n",
    "  comment = \"#>\", fig.align = \"center\"\n",
    ")"
   ]
  },
  {
   "cell_type": "code",
   "execution_count": null,
<<<<<<< HEAD
<<<<<<< HEAD
<<<<<<< HEAD
   "id": "5732c7fc",
||||||| fa5abb84
   "id": "bb4a9f03",
=======
   "id": "c513a5bc",
>>>>>>> documentation-devel
||||||| 7e3277eb
   "id": "c513a5bc",
=======
   "id": "efb6f997",
>>>>>>> documentation-devel
||||||| 971bf77c
<<<<<<< HEAD
   "id": "5732c7fc",
||||||| fa5abb84
   "id": "bb4a9f03",
=======
   "id": "c513a5bc",
>>>>>>> documentation-devel
=======
   "id": "cb89803f",
>>>>>>> e1d793125c0aeb7e34aca09298b9c5b44973e4b3
   "metadata": {
    "eval": false,
    "tags": [
     "remove_cell"
    ]
   },
   "outputs": [],
   "source": [
    "# Install Google Colab dependencies\n",
    "# Note: this can take 30+ minutes (many of the dependencies include C++ code, which needs to be compiled)\n",
    "\n",
    "# First install `sf`, `ragg` and `textshaping` and their system dependencies:\n",
    "system(\"apt-get -y update && apt-get install -y  libudunits2-dev libgdal-dev libgeos-dev libproj-dev libharfbuzz-dev libfribidi-dev\")\n",
    "install.packages(\"sf\")\n",
    "install.packages(\"textshaping\")\n",
    "install.packages(\"ragg\")\n",
    "\n",
    "# Install system dependencies of some other R packages that Voyager either imports or suggests:\n",
    "system(\"apt-get install -y libfribidi-dev libcairo2-dev libmagick++-dev\")\n",
    "\n",
    "# Install Voyager from Bioconductor:\n",
    "install.packages(\"BiocManager\")\n",
    "BiocManager::install(version = \"3.17\", ask = FALSE, update = FALSE, Ncpus = 2)\n",
    "BiocManager::install(\"scater\")\n",
    "system.time(\n",
    "  BiocManager::install(\"Voyager\", dependencies = TRUE, Ncpus = 2, update = FALSE)\n",
    ")\n",
    "\n",
    "\n",
    "packageVersion(\"Voyager\")"
   ]
  },
  {
   "cell_type": "markdown",
<<<<<<< HEAD
<<<<<<< HEAD
<<<<<<< HEAD
   "id": "db6d12c8",
||||||| fa5abb84
   "id": "0cd6083a",
=======
   "id": "7f50dfd3",
>>>>>>> documentation-devel
||||||| 7e3277eb
   "id": "7f50dfd3",
=======
   "id": "8031ec74",
>>>>>>> documentation-devel
||||||| 971bf77c
<<<<<<< HEAD
   "id": "db6d12c8",
||||||| fa5abb84
   "id": "0cd6083a",
=======
   "id": "7f50dfd3",
>>>>>>> documentation-devel
=======
   "id": "7edb5b49",
>>>>>>> e1d793125c0aeb7e34aca09298b9c5b44973e4b3
   "metadata": {},
   "source": [
    "# Introduction\n",
    "The data in this vignette is shipped with the `cellatlas` repository. The count matrix and metadata are provided in the `cellatlas/examples` folder as an [`AnnData`](https://anndata-tutorials.readthedocs.io/en/latest/getting-started.html) object. We will begin by loading the object and converting it to a `SingleCellExperiment` object. "
   ]
  },
  {
   "cell_type": "code",
   "execution_count": null,
<<<<<<< HEAD
<<<<<<< HEAD
<<<<<<< HEAD
   "id": "48b37950",
||||||| fa5abb84
   "id": "6f2054cf",
=======
   "id": "df357006",
>>>>>>> documentation-devel
||||||| 7e3277eb
   "id": "df357006",
=======
   "id": "817a058b",
>>>>>>> documentation-devel
||||||| 971bf77c
<<<<<<< HEAD
   "id": "48b37950",
||||||| fa5abb84
   "id": "6f2054cf",
=======
   "id": "df357006",
>>>>>>> documentation-devel
=======
   "id": "6e1ec5f7",
>>>>>>> e1d793125c0aeb7e34aca09298b9c5b44973e4b3
   "metadata": {
    "message": false
   },
   "outputs": [],
   "source": [
    "library(stringr)\n",
    "library(Matrix)\n",
    "library(SpatialExperiment)\n",
    "library(SpatialFeatureExperiment)\n",
    "library(scater)\n",
    "library(scuttle)\n",
    "library(Voyager)\n",
    "library(ggplot2)\n",
    "theme_set(theme_bw())"
   ]
  },
  {
   "cell_type": "code",
   "execution_count": null,
<<<<<<< HEAD
<<<<<<< HEAD
<<<<<<< HEAD
   "id": "c284891c",
||||||| 971bf77c
<<<<<<< HEAD
   "id": "c284891c",
=======
   "id": "dbc269be",
>>>>>>> e1d793125c0aeb7e34aca09298b9c5b44973e4b3
   "metadata": {
    "message": true,
    "tags": [
     "remove_output"
    ]
   },
<<<<<<< HEAD
||||||| fa5abb84
   "id": "2b1bf694",
   "metadata": {
    "message": false,
    "name": "dwnld",
    "tags": [
     "remove_output"
    ]
   },
=======
   "id": "27365ee4",
   "metadata": {},
>>>>>>> documentation-devel
||||||| 7e3277eb
   "id": "27365ee4",
   "metadata": {},
=======
   "id": "04d173df",
   "metadata": {
    "message": true,
    "tags": [
     "remove_output"
    ]
   },
>>>>>>> documentation-devel
||||||| 971bf77c
||||||| fa5abb84
   "id": "2b1bf694",
   "metadata": {
    "message": false,
    "name": "dwnld",
    "tags": [
     "remove_output"
    ]
   },
=======
   "id": "27365ee4",
   "metadata": {},
>>>>>>> documentation-devel
=======
>>>>>>> e1d793125c0aeb7e34aca09298b9c5b44973e4b3
   "outputs": [],
   "source": [
    "if (!file.exists(\"10x_nuclei.rds\"))\n",
    "    download.file(\"https://github.com/pachterlab/voyager/raw/documentation-devel/vignettes/10x_nuclei.rds\", destfile = \"10x_nuclei.rds\")\n",
    "sce <- readRDS(\"10x_nuclei.rds\")"
   ]
  },
  {
   "cell_type": "code",
   "execution_count": null,
<<<<<<< HEAD
<<<<<<< HEAD
<<<<<<< HEAD
   "id": "fc721b09",
||||||| fa5abb84
   "id": "cd6163a6",
=======
   "id": "d647b83d",
>>>>>>> documentation-devel
||||||| 7e3277eb
   "id": "d647b83d",
=======
   "id": "063499df",
>>>>>>> documentation-devel
||||||| 971bf77c
<<<<<<< HEAD
   "id": "fc721b09",
||||||| fa5abb84
   "id": "cd6163a6",
=======
   "id": "d647b83d",
>>>>>>> documentation-devel
=======
   "id": "28ffa201",
>>>>>>> e1d793125c0aeb7e34aca09298b9c5b44973e4b3
   "metadata": {},
   "outputs": [],
   "source": [
    "is_mito <- str_detect(rowData(sce)$gene_name, regex(\"^mt-\", ignore_case=TRUE))\n",
    "sum(is_mito)"
   ]
  },
  {
   "cell_type": "code",
   "execution_count": null,
<<<<<<< HEAD
<<<<<<< HEAD
<<<<<<< HEAD
   "id": "84ddbceb",
||||||| fa5abb84
   "id": "e3243bba",
=======
   "id": "b9553b71",
>>>>>>> documentation-devel
||||||| 7e3277eb
   "id": "b9553b71",
=======
   "id": "0490736b",
>>>>>>> documentation-devel
||||||| 971bf77c
<<<<<<< HEAD
   "id": "84ddbceb",
||||||| fa5abb84
   "id": "e3243bba",
=======
   "id": "b9553b71",
>>>>>>> documentation-devel
=======
   "id": "85963ebd",
>>>>>>> e1d793125c0aeb7e34aca09298b9c5b44973e4b3
   "metadata": {},
   "outputs": [],
   "source": [
    "sce <- addPerCellQCMetrics(sce, subsets = list(mito = is_mito))\n",
    "names(colData(sce))"
   ]
  },
  {
   "cell_type": "code",
   "execution_count": null,
<<<<<<< HEAD
<<<<<<< HEAD
<<<<<<< HEAD
   "id": "386b3650",
||||||| fa5abb84
   "id": "7f141e71",
=======
   "id": "c4e15eaa",
>>>>>>> documentation-devel
||||||| 7e3277eb
   "id": "c4e15eaa",
=======
   "id": "819e9427",
>>>>>>> documentation-devel
||||||| 971bf77c
<<<<<<< HEAD
   "id": "386b3650",
||||||| fa5abb84
   "id": "7f141e71",
=======
   "id": "c4e15eaa",
>>>>>>> documentation-devel
=======
   "id": "1c3d9558",
>>>>>>> e1d793125c0aeb7e34aca09298b9c5b44973e4b3
   "metadata": {},
   "outputs": [],
   "source": [
    "plotColData(sce, \"sum\") +\n",
    "    plotColData(sce, \"detected\") +\n",
    "    plotColData(sce, \"subsets_mito_percent\")"
   ]
  },
  {
   "cell_type": "code",
   "execution_count": null,
<<<<<<< HEAD
<<<<<<< HEAD
<<<<<<< HEAD
   "id": "18db8c23",
||||||| fa5abb84
   "id": "6d2e9dff",
=======
   "id": "e344e4f0",
>>>>>>> documentation-devel
||||||| 7e3277eb
   "id": "e344e4f0",
=======
   "id": "e481fb16",
>>>>>>> documentation-devel
||||||| 971bf77c
<<<<<<< HEAD
   "id": "18db8c23",
||||||| fa5abb84
   "id": "6d2e9dff",
=======
   "id": "e344e4f0",
>>>>>>> documentation-devel
=======
   "id": "4e806f17",
>>>>>>> e1d793125c0aeb7e34aca09298b9c5b44973e4b3
   "metadata": {},
   "outputs": [],
   "source": [
    "plotColData(sce, x = \"sum\", y = \"detected\", bins = 100) +\n",
    "    scale_fill_distiller(palette = \"Blues\", direction = 1)"
   ]
  },
  {
   "cell_type": "code",
   "execution_count": null,
<<<<<<< HEAD
<<<<<<< HEAD
<<<<<<< HEAD
   "id": "94fcb409",
||||||| fa5abb84
   "id": "242853e2",
=======
   "id": "2e52d2bc",
>>>>>>> documentation-devel
||||||| 7e3277eb
   "id": "2e52d2bc",
=======
   "id": "d196889d",
>>>>>>> documentation-devel
||||||| 971bf77c
<<<<<<< HEAD
   "id": "94fcb409",
||||||| fa5abb84
   "id": "242853e2",
=======
   "id": "2e52d2bc",
>>>>>>> documentation-devel
=======
   "id": "c756b472",
>>>>>>> e1d793125c0aeb7e34aca09298b9c5b44973e4b3
   "metadata": {},
   "outputs": [],
   "source": [
    "plotColData(sce, x = \"sum\", y = \"subsets_mito_detected\", bins = 100) +\n",
    "    scale_fill_distiller(palette = \"Blues\", direction = 1)"
   ]
  },
  {
   "cell_type": "code",
   "execution_count": null,
<<<<<<< HEAD
<<<<<<< HEAD
<<<<<<< HEAD
   "id": "5d19cda2",
||||||| fa5abb84
   "id": "54596918",
=======
   "id": "b30fe169",
>>>>>>> documentation-devel
||||||| 7e3277eb
   "id": "b30fe169",
=======
   "id": "a35bdf84",
>>>>>>> documentation-devel
||||||| 971bf77c
<<<<<<< HEAD
   "id": "5d19cda2",
||||||| fa5abb84
   "id": "54596918",
=======
   "id": "b30fe169",
>>>>>>> documentation-devel
=======
   "id": "d17dfdb8",
>>>>>>> e1d793125c0aeb7e34aca09298b9c5b44973e4b3
   "metadata": {
    "name": "subset-qc"
   },
   "outputs": [],
   "source": [
    "sce <- sce[, which(sce$subsets_mito_percent < 20)]\n",
    "sce <- sce[rowSums(counts(sce)) > 0,]\n",
    "\n",
    "sce"
   ]
  },
  {
   "cell_type": "code",
   "execution_count": null,
<<<<<<< HEAD
<<<<<<< HEAD
<<<<<<< HEAD
   "id": "5731ba81",
||||||| fa5abb84
   "id": "e35e890a",
=======
   "id": "81cfb864",
>>>>>>> documentation-devel
||||||| 7e3277eb
   "id": "81cfb864",
=======
   "id": "28ebbfde",
>>>>>>> documentation-devel
||||||| 971bf77c
<<<<<<< HEAD
   "id": "5731ba81",
||||||| fa5abb84
   "id": "e35e890a",
=======
   "id": "81cfb864",
>>>>>>> documentation-devel
=======
   "id": "1507714e",
>>>>>>> e1d793125c0aeb7e34aca09298b9c5b44973e4b3
   "metadata": {},
   "outputs": [],
   "source": [
    "sessionInfo()"
   ]
  }
 ],
 "metadata": {
  "kernelspec": {
   "display_name": "R",
   "language": "R",
   "name": "ir"
  }
 },
 "nbformat": 4,
 "nbformat_minor": 5
}
