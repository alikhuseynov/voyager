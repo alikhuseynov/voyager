{
 "cells": [
  {
   "cell_type": "raw",
<<<<<<< HEAD
<<<<<<< HEAD
<<<<<<< HEAD
   "id": "eaebe34f",
||||||| b944554d
   "id": "70f1f72f",
=======
   "id": "38895180",
>>>>>>> documentation-devel
||||||| 35cb6e7a
   "id": "38895180",
=======
   "id": "9cc49090",
>>>>>>> documentation-devel
||||||| 596bf878
<<<<<<< HEAD
   "id": "eaebe34f",
||||||| b944554d
   "id": "70f1f72f",
=======
   "id": "38895180",
>>>>>>> documentation-devel
=======
   "id": "17674f32",
>>>>>>> f8a184fea58c53eb88debec89cb7180bf225886f
   "metadata": {},
   "source": [
    "---\n",
    "title: \"Chromium nuclei isolation basic quality control\"\n",
    "author: \"Kayla Jackson and A. Sina Booeshaghi\"\n",
    "date: \"`r Sys.Date()`\"\n",
    "output: \n",
    "  html_document:\n",
    "  toc: true\n",
    "  toc_float:\n",
    "    collapsed: false\n",
    "  toc_depth: 3\n",
    "bibliography: ref.bib\n",
    "vignette: >\n",
    "  %\\VignetteIndexEntry{10xnuclei_qc}\n",
    "  %\\VignetteEngine{knitr::rmarkdown}\n",
    "  %\\VignetteEncoding{UTF-8}\n",
    "---"
   ]
  },
  {
   "cell_type": "code",
   "execution_count": null,
<<<<<<< HEAD
<<<<<<< HEAD
<<<<<<< HEAD
   "id": "e74b1ee9",
||||||| b944554d
   "id": "4ee145b9",
=======
   "id": "417bcec3",
>>>>>>> documentation-devel
||||||| 35cb6e7a
   "id": "417bcec3",
=======
   "id": "fc3c34c4",
>>>>>>> documentation-devel
||||||| 596bf878
<<<<<<< HEAD
   "id": "e74b1ee9",
||||||| b944554d
   "id": "4ee145b9",
=======
   "id": "417bcec3",
>>>>>>> documentation-devel
=======
   "id": "d5edfdd7",
>>>>>>> f8a184fea58c53eb88debec89cb7180bf225886f
   "metadata": {
    "tags": [
     "remove_cell"
    ]
   },
   "outputs": [],
   "source": [
    "knitr::opts_chunk$set(\n",
    "  collapse = TRUE,\n",
    "  comment = \"#>\", fig.align = \"center\"\n",
    ")"
   ]
  },
  {
   "cell_type": "code",
   "execution_count": null,
<<<<<<< HEAD
<<<<<<< HEAD
<<<<<<< HEAD
   "id": "f7dd8ab4",
||||||| b944554d
   "id": "ea16a357",
=======
   "id": "cd0865b7",
>>>>>>> documentation-devel
||||||| 35cb6e7a
   "id": "cd0865b7",
=======
   "id": "bb4a9f03",
>>>>>>> documentation-devel
||||||| 596bf878
<<<<<<< HEAD
   "id": "f7dd8ab4",
||||||| b944554d
   "id": "ea16a357",
=======
   "id": "cd0865b7",
>>>>>>> documentation-devel
=======
   "id": "e6e3aa45",
>>>>>>> f8a184fea58c53eb88debec89cb7180bf225886f
   "metadata": {
    "eval": false,
    "tags": [
     "remove_cell"
    ]
   },
   "outputs": [],
   "source": [
    "# Install Google Colab dependencies\n",
    "# Note: this can take 30+ minutes (many of the dependencies include C++ code, which needs to be compiled)\n",
    "\n",
    "# First install `sf`, `ragg` and `textshaping` and their system dependencies:\n",
    "system(\"apt-get -y update && apt-get install -y  libudunits2-dev libgdal-dev libgeos-dev libproj-dev libharfbuzz-dev libfribidi-dev\")\n",
    "install.packages(\"sf\")\n",
    "install.packages(\"textshaping\")\n",
    "install.packages(\"ragg\")\n",
    "\n",
    "# Install system dependencies of some other R packages that Voyager either imports or suggests:\n",
    "system(\"apt-get install -y libfribidi-dev libcairo2-dev libmagick++-dev\")\n",
    "\n",
    "# Install Voyager from Bioconductor:\n",
    "install.packages(\"BiocManager\")\n",
    "BiocManager::install(version = \"3.17\", ask = FALSE, update = FALSE, Ncpus = 2)\n",
    "BiocManager::install(\"scater\")\n",
    "system.time(\n",
    "  BiocManager::install(\"Voyager\", dependencies = TRUE, Ncpus = 2, update = FALSE)\n",
    ")\n",
    "\n",
    "\n",
    "packageVersion(\"Voyager\")"
   ]
  },
  {
   "cell_type": "markdown",
<<<<<<< HEAD
<<<<<<< HEAD
<<<<<<< HEAD
   "id": "a34e743a",
||||||| b944554d
   "id": "8e4e7afa",
=======
   "id": "a739ab07",
>>>>>>> documentation-devel
||||||| 35cb6e7a
   "id": "a739ab07",
=======
   "id": "0cd6083a",
>>>>>>> documentation-devel
||||||| 596bf878
<<<<<<< HEAD
   "id": "a34e743a",
||||||| b944554d
   "id": "8e4e7afa",
=======
   "id": "a739ab07",
>>>>>>> documentation-devel
=======
   "id": "1811611f",
>>>>>>> f8a184fea58c53eb88debec89cb7180bf225886f
   "metadata": {},
   "source": [
    "# Introduction\n",
    "The data in this vignette is shipped with the `cellatlas` repository. The count matrix and metadata are provided in the `cellatlas/examples` folder as an [`AnnData`](https://anndata-tutorials.readthedocs.io/en/latest/getting-started.html) object. We will begin by loading the object and converting it to a `SingleCellExperiment` object. "
   ]
  },
  {
   "cell_type": "code",
   "execution_count": null,
<<<<<<< HEAD
<<<<<<< HEAD
<<<<<<< HEAD
   "id": "a76014a0",
||||||| b944554d
   "id": "63003554",
=======
   "id": "a0732e14",
>>>>>>> documentation-devel
||||||| 35cb6e7a
   "id": "a0732e14",
=======
   "id": "6f2054cf",
>>>>>>> documentation-devel
||||||| 596bf878
<<<<<<< HEAD
   "id": "a76014a0",
||||||| b944554d
   "id": "63003554",
=======
   "id": "a0732e14",
>>>>>>> documentation-devel
=======
   "id": "5ab6acaa",
>>>>>>> f8a184fea58c53eb88debec89cb7180bf225886f
   "metadata": {
    "message": false
   },
   "outputs": [],
   "source": [
    "library(stringr)\n",
    "library(Matrix)\n",
    "library(SpatialExperiment)\n",
    "library(SpatialFeatureExperiment)\n",
    "library(scater)\n",
    "library(scuttle)\n",
    "library(Voyager)\n",
    "library(zellkonverter)\n",
    "library(ggplot2)\n",
    "theme_set(theme_bw())"
   ]
  },
  {
   "cell_type": "code",
   "execution_count": null,
<<<<<<< HEAD
<<<<<<< HEAD
<<<<<<< HEAD
   "id": "0da8547d",
||||||| b944554d
   "id": "17ba8af4",
=======
   "id": "7e847657",
>>>>>>> documentation-devel
||||||| 35cb6e7a
   "id": "7e847657",
=======
   "id": "2b1bf694",
>>>>>>> documentation-devel
||||||| 596bf878
<<<<<<< HEAD
   "id": "0da8547d",
||||||| b944554d
   "id": "17ba8af4",
=======
   "id": "7e847657",
>>>>>>> documentation-devel
=======
   "id": "1959440d",
>>>>>>> f8a184fea58c53eb88debec89cb7180bf225886f
   "metadata": {
    "message": false,
    "name": "dwnld",
    "tags": [
     "remove_output"
    ]
   },
   "outputs": [],
   "source": [
    "download.file(\"https://github.com/cellatlas/cellatlas/raw/main/examples/rna-10xv3-nuclei/cellatlas_out/adata.h5ad.gz\", \n",
    "                  \"adata.h5ad.gz\", quiet = TRUE)\n",
    "system(\"gunzip -f adata.h5ad.gz\")\n",
    "sce <- readH5AD(\"adata.h5ad\")\n",
    "assayNames(sce) <- \"counts\""
   ]
  },
  {
   "cell_type": "code",
   "execution_count": null,
<<<<<<< HEAD
<<<<<<< HEAD
<<<<<<< HEAD
   "id": "55842d1b",
||||||| b944554d
   "id": "8e5c155c",
=======
   "id": "295117bf",
>>>>>>> documentation-devel
||||||| 35cb6e7a
   "id": "295117bf",
=======
   "id": "cd6163a6",
>>>>>>> documentation-devel
||||||| 596bf878
<<<<<<< HEAD
   "id": "55842d1b",
||||||| b944554d
   "id": "8e5c155c",
=======
   "id": "295117bf",
>>>>>>> documentation-devel
=======
   "id": "be50f8ab",
>>>>>>> f8a184fea58c53eb88debec89cb7180bf225886f
   "metadata": {},
   "outputs": [],
   "source": [
    "is_mito <- str_detect(rowData(sce)$gene_name, regex(\"^mt-\", ignore_case=TRUE))\n",
    "sum(is_mito)"
   ]
  },
  {
   "cell_type": "code",
   "execution_count": null,
<<<<<<< HEAD
<<<<<<< HEAD
<<<<<<< HEAD
   "id": "a5c7de55",
||||||| b944554d
   "id": "cf793d60",
=======
   "id": "7ec2e808",
>>>>>>> documentation-devel
||||||| 35cb6e7a
   "id": "7ec2e808",
=======
   "id": "e3243bba",
>>>>>>> documentation-devel
||||||| 596bf878
<<<<<<< HEAD
   "id": "a5c7de55",
||||||| b944554d
   "id": "cf793d60",
=======
   "id": "7ec2e808",
>>>>>>> documentation-devel
=======
   "id": "7f20f0cf",
>>>>>>> f8a184fea58c53eb88debec89cb7180bf225886f
   "metadata": {},
   "outputs": [],
   "source": [
    "sce <- addPerCellQCMetrics(sce, subsets = list(mito = is_mito))\n",
    "names(colData(sce))"
   ]
  },
  {
   "cell_type": "code",
   "execution_count": null,
<<<<<<< HEAD
<<<<<<< HEAD
<<<<<<< HEAD
   "id": "a2dd7470",
||||||| b944554d
   "id": "6a1a9a61",
=======
   "id": "3610e8f1",
>>>>>>> documentation-devel
||||||| 35cb6e7a
   "id": "3610e8f1",
=======
   "id": "7f141e71",
>>>>>>> documentation-devel
||||||| 596bf878
<<<<<<< HEAD
   "id": "a2dd7470",
||||||| b944554d
   "id": "6a1a9a61",
=======
   "id": "3610e8f1",
>>>>>>> documentation-devel
=======
   "id": "e693b54c",
>>>>>>> f8a184fea58c53eb88debec89cb7180bf225886f
   "metadata": {},
   "outputs": [],
   "source": [
    "plotColData(sce, \"sum\") +\n",
    "    plotColData(sce, \"detected\") +\n",
    "    plotColData(sce, \"subsets_mito_percent\")"
   ]
  },
  {
   "cell_type": "code",
   "execution_count": null,
<<<<<<< HEAD
<<<<<<< HEAD
<<<<<<< HEAD
   "id": "8a0bd146",
||||||| b944554d
   "id": "73ad987f",
=======
   "id": "d891d53d",
>>>>>>> documentation-devel
||||||| 35cb6e7a
   "id": "d891d53d",
=======
   "id": "6d2e9dff",
>>>>>>> documentation-devel
||||||| 596bf878
<<<<<<< HEAD
   "id": "8a0bd146",
||||||| b944554d
   "id": "73ad987f",
=======
   "id": "d891d53d",
>>>>>>> documentation-devel
=======
   "id": "e25654f5",
>>>>>>> f8a184fea58c53eb88debec89cb7180bf225886f
   "metadata": {},
   "outputs": [],
   "source": [
    "plotColData(sce, x = \"sum\", y = \"detected\", bins = 100) +\n",
    "    scale_fill_distiller(palette = \"Blues\", direction = 1)"
   ]
  },
  {
   "cell_type": "code",
   "execution_count": null,
<<<<<<< HEAD
<<<<<<< HEAD
<<<<<<< HEAD
   "id": "c0112c96",
||||||| b944554d
   "id": "61495d9c",
=======
   "id": "5e021f40",
>>>>>>> documentation-devel
||||||| 35cb6e7a
   "id": "5e021f40",
=======
   "id": "242853e2",
>>>>>>> documentation-devel
||||||| 596bf878
<<<<<<< HEAD
   "id": "c0112c96",
||||||| b944554d
   "id": "61495d9c",
=======
   "id": "5e021f40",
>>>>>>> documentation-devel
=======
   "id": "6bd4ddb3",
>>>>>>> f8a184fea58c53eb88debec89cb7180bf225886f
   "metadata": {},
   "outputs": [],
   "source": [
    "plotColData(sce, x = \"sum\", y = \"subsets_mito_detected\", bins = 100) +\n",
    "    scale_fill_distiller(palette = \"Blues\", direction = 1)"
   ]
  },
  {
   "cell_type": "code",
   "execution_count": null,
<<<<<<< HEAD
<<<<<<< HEAD
<<<<<<< HEAD
   "id": "f67b7f03",
||||||| b944554d
   "id": "4fccd980",
=======
   "id": "14b52dcb",
>>>>>>> documentation-devel
||||||| 35cb6e7a
   "id": "14b52dcb",
=======
   "id": "54596918",
>>>>>>> documentation-devel
||||||| 596bf878
<<<<<<< HEAD
   "id": "f67b7f03",
||||||| b944554d
   "id": "4fccd980",
=======
   "id": "14b52dcb",
>>>>>>> documentation-devel
=======
   "id": "e87cb248",
>>>>>>> f8a184fea58c53eb88debec89cb7180bf225886f
   "metadata": {
    "name": "subset-qc"
   },
   "outputs": [],
   "source": [
    "sce <- sce[, which(sce$subsets_mito_percent < 20)]\n",
    "sce <- sce[rowSums(counts(sce)) > 0,]\n",
    "\n",
    "sce"
   ]
  },
  {
   "cell_type": "code",
   "execution_count": null,
<<<<<<< HEAD
<<<<<<< HEAD
<<<<<<< HEAD
   "id": "0b36efb7",
||||||| b944554d
   "id": "d8598620",
=======
   "id": "c876a1a2",
>>>>>>> documentation-devel
||||||| 35cb6e7a
   "id": "c876a1a2",
=======
   "id": "e35e890a",
>>>>>>> documentation-devel
||||||| 596bf878
<<<<<<< HEAD
   "id": "0b36efb7",
||||||| b944554d
   "id": "d8598620",
=======
   "id": "c876a1a2",
>>>>>>> documentation-devel
=======
   "id": "cc812225",
>>>>>>> f8a184fea58c53eb88debec89cb7180bf225886f
   "metadata": {},
   "outputs": [],
   "source": [
    "sessionInfo()"
   ]
  }
 ],
 "metadata": {
  "kernelspec": {
   "display_name": "R",
   "language": "R",
   "name": "ir"
  }
 },
 "nbformat": 4,
 "nbformat_minor": 5
}
