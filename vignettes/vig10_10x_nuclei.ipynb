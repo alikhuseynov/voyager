{
 "cells": [
  {
   "cell_type": "raw",
<<<<<<< HEAD
<<<<<<< HEAD
<<<<<<< HEAD
<<<<<<< HEAD
<<<<<<< HEAD
<<<<<<< HEAD
   "id": "cd6d30f8",
||||||| 6a30bf1
   "id": "7e946155",
=======
   "id": "4c09122f",
>>>>>>> documentation-devel
||||||| d28b18c
   "id": "4c09122f",
=======
   "id": "e1ae5c7a",
>>>>>>> documentation-devel
||||||| 6893f63
<<<<<<< HEAD
   "id": "cd6d30f8",
||||||| 6a30bf1
   "id": "7e946155",
=======
   "id": "4c09122f",
>>>>>>> documentation-devel
=======
   "id": "00419641",
>>>>>>> c74c98c2450c2a1ba922ed9442f136238d6bc88b
||||||| 6d93b645
   "id": "e1ae5c7a",
=======
   "id": "2e07744a",
>>>>>>> documentation-devel
||||||| 804edffb
<<<<<<< HEAD
<<<<<<< HEAD
<<<<<<< HEAD
   "id": "cd6d30f8",
||||||| 6a30bf1
   "id": "7e946155",
=======
   "id": "4c09122f",
>>>>>>> documentation-devel
||||||| d28b18c
   "id": "4c09122f",
=======
   "id": "e1ae5c7a",
>>>>>>> documentation-devel
||||||| 6893f63
<<<<<<< HEAD
   "id": "cd6d30f8",
||||||| 6a30bf1
   "id": "7e946155",
=======
   "id": "4c09122f",
>>>>>>> documentation-devel
=======
   "id": "00419641",
>>>>>>> c74c98c2450c2a1ba922ed9442f136238d6bc88b
=======
   "id": "35df8bb2",
>>>>>>> 035bb2637984ead2784fecff78c0c60cc4181202
||||||| 3effdfa5
   "id": "2e07744a",
=======
   "id": "c75af9f4",
>>>>>>> documentation-devel
   "metadata": {},
   "source": [
    "---\n",
    "title: \"Chromium nuclei isolation basic quality control\"\n",
    "author: \"Kayla Jackson and A. Sina Booeshaghi\"\n",
    "date: \"`r Sys.Date()`\"\n",
    "output: \n",
    "  html_document:\n",
    "  toc: true\n",
    "  toc_float:\n",
    "    collapsed: false\n",
    "  toc_depth: 3\n",
    "bibliography: ref.bib\n",
    "vignette: >\n",
    "  %\\VignetteIndexEntry{10xnuclei_qc}\n",
    "  %\\VignetteEngine{knitr::rmarkdown}\n",
    "  %\\VignetteEncoding{UTF-8}\n",
    "---"
   ]
  },
  {
   "cell_type": "code",
   "execution_count": null,
<<<<<<< HEAD
<<<<<<< HEAD
<<<<<<< HEAD
<<<<<<< HEAD
<<<<<<< HEAD
<<<<<<< HEAD
   "id": "8d4f600f",
||||||| 6a30bf1
   "id": "769ebefb",
=======
   "id": "2d291e6f",
>>>>>>> documentation-devel
||||||| d28b18c
   "id": "2d291e6f",
=======
   "id": "1b7f47be",
>>>>>>> documentation-devel
||||||| 6893f63
<<<<<<< HEAD
   "id": "8d4f600f",
||||||| 6a30bf1
   "id": "769ebefb",
=======
   "id": "2d291e6f",
>>>>>>> documentation-devel
=======
   "id": "8ad53c6b",
>>>>>>> c74c98c2450c2a1ba922ed9442f136238d6bc88b
||||||| 6d93b645
   "id": "1b7f47be",
=======
   "id": "8afdd8da",
>>>>>>> documentation-devel
||||||| 804edffb
<<<<<<< HEAD
<<<<<<< HEAD
<<<<<<< HEAD
   "id": "8d4f600f",
||||||| 6a30bf1
   "id": "769ebefb",
=======
   "id": "2d291e6f",
>>>>>>> documentation-devel
||||||| d28b18c
   "id": "2d291e6f",
=======
   "id": "1b7f47be",
>>>>>>> documentation-devel
||||||| 6893f63
<<<<<<< HEAD
   "id": "8d4f600f",
||||||| 6a30bf1
   "id": "769ebefb",
=======
   "id": "2d291e6f",
>>>>>>> documentation-devel
=======
   "id": "8ad53c6b",
>>>>>>> c74c98c2450c2a1ba922ed9442f136238d6bc88b
=======
   "id": "d60d1c6b",
>>>>>>> 035bb2637984ead2784fecff78c0c60cc4181202
||||||| 3effdfa5
   "id": "8afdd8da",
=======
   "id": "fc1f75a9",
>>>>>>> documentation-devel
   "metadata": {
    "tags": [
     "remove_cell"
    ]
   },
   "outputs": [],
   "source": [
    "knitr::opts_chunk$set(\n",
    "  collapse = TRUE,\n",
    "  comment = \"#>\", fig.align = \"center\"\n",
    ")"
   ]
  },
  {
   "cell_type": "code",
   "execution_count": null,
<<<<<<< HEAD
<<<<<<< HEAD
<<<<<<< HEAD
<<<<<<< HEAD
<<<<<<< HEAD
<<<<<<< HEAD
   "id": "e76f87db",
||||||| 6a30bf1
   "id": "cf8944f5",
=======
   "id": "f1660163",
>>>>>>> documentation-devel
||||||| d28b18c
   "id": "f1660163",
=======
   "id": "c442441b",
>>>>>>> documentation-devel
||||||| 6893f63
<<<<<<< HEAD
   "id": "e76f87db",
||||||| 6a30bf1
   "id": "cf8944f5",
=======
   "id": "f1660163",
>>>>>>> documentation-devel
=======
   "id": "9e4043d4",
>>>>>>> c74c98c2450c2a1ba922ed9442f136238d6bc88b
||||||| 6d93b645
   "id": "c442441b",
=======
   "id": "ddb3f729",
>>>>>>> documentation-devel
||||||| 804edffb
<<<<<<< HEAD
<<<<<<< HEAD
<<<<<<< HEAD
   "id": "e76f87db",
||||||| 6a30bf1
   "id": "cf8944f5",
=======
   "id": "f1660163",
>>>>>>> documentation-devel
||||||| d28b18c
   "id": "f1660163",
=======
   "id": "c442441b",
>>>>>>> documentation-devel
||||||| 6893f63
<<<<<<< HEAD
   "id": "e76f87db",
||||||| 6a30bf1
   "id": "cf8944f5",
=======
   "id": "f1660163",
>>>>>>> documentation-devel
=======
   "id": "9e4043d4",
>>>>>>> c74c98c2450c2a1ba922ed9442f136238d6bc88b
=======
   "id": "dc220176",
>>>>>>> 035bb2637984ead2784fecff78c0c60cc4181202
||||||| 3effdfa5
   "id": "ddb3f729",
=======
   "id": "8f19caa9",
>>>>>>> documentation-devel
   "metadata": {
    "eval": false,
    "tags": [
     "remove_cell"
    ]
   },
   "outputs": [],
   "source": [
    "# Install Google Colab dependencies\n",
    "# Note: this can take 30+ minutes (many of the dependencies include C++ code, which needs to be compiled)\n",
    "\n",
    "# First install `sf`, `ragg` and `textshaping` and their system dependencies:\n",
    "system(\"apt-get -y update && apt-get install -y  libudunits2-dev libgdal-dev libgeos-dev libproj-dev libharfbuzz-dev libfribidi-dev\")\n",
    "install.packages(\"sf\")\n",
    "install.packages(\"textshaping\")\n",
    "install.packages(\"ragg\")\n",
    "\n",
    "# Install system dependencies of some other R packages that Voyager either imports or suggests:\n",
    "system(\"apt-get install -y libfribidi-dev libcairo2-dev libmagick++-dev\")\n",
    "\n",
    "# Install Voyager from Bioconductor:\n",
    "install.packages(\"BiocManager\")\n",
    "BiocManager::install(version = \"3.17\", ask = FALSE, update = FALSE, Ncpus = 2)\n",
    "BiocManager::install(\"scater\")\n",
    "system.time(\n",
    "  BiocManager::install(\"Voyager\", dependencies = TRUE, Ncpus = 2, update = FALSE)\n",
    ")\n",
    "\n",
    "\n",
    "packageVersion(\"Voyager\")"
   ]
  },
  {
   "cell_type": "markdown",
<<<<<<< HEAD
<<<<<<< HEAD
<<<<<<< HEAD
<<<<<<< HEAD
<<<<<<< HEAD
<<<<<<< HEAD
   "id": "76be5b43",
||||||| 6a30bf1
   "id": "3e68df4c",
=======
   "id": "78b7e53b",
>>>>>>> documentation-devel
||||||| d28b18c
   "id": "78b7e53b",
=======
   "id": "d6e63539",
>>>>>>> documentation-devel
||||||| 6893f63
<<<<<<< HEAD
   "id": "76be5b43",
||||||| 6a30bf1
   "id": "3e68df4c",
=======
   "id": "78b7e53b",
>>>>>>> documentation-devel
=======
   "id": "70709362",
>>>>>>> c74c98c2450c2a1ba922ed9442f136238d6bc88b
||||||| 6d93b645
   "id": "d6e63539",
=======
   "id": "939e9baa",
>>>>>>> documentation-devel
||||||| 804edffb
<<<<<<< HEAD
<<<<<<< HEAD
<<<<<<< HEAD
   "id": "76be5b43",
||||||| 6a30bf1
   "id": "3e68df4c",
=======
   "id": "78b7e53b",
>>>>>>> documentation-devel
||||||| d28b18c
   "id": "78b7e53b",
=======
   "id": "d6e63539",
>>>>>>> documentation-devel
||||||| 6893f63
<<<<<<< HEAD
   "id": "76be5b43",
||||||| 6a30bf1
   "id": "3e68df4c",
=======
   "id": "78b7e53b",
>>>>>>> documentation-devel
=======
   "id": "70709362",
>>>>>>> c74c98c2450c2a1ba922ed9442f136238d6bc88b
=======
   "id": "c3ca615f",
>>>>>>> 035bb2637984ead2784fecff78c0c60cc4181202
||||||| 3effdfa5
   "id": "939e9baa",
=======
   "id": "190a42c0",
>>>>>>> documentation-devel
   "metadata": {},
   "source": [
    "# Introduction\n",
    "The data in this vignette is shipped with the `cellatlas` repository. The count matrix and metadata are provided in the `cellatlas/examples` folder as an [`AnnData`](https://anndata-tutorials.readthedocs.io/en/latest/getting-started.html) object. We will begin by loading the object and converting it to a `SingleCellExperiment` object. "
   ]
  },
  {
   "cell_type": "code",
   "execution_count": null,
<<<<<<< HEAD
<<<<<<< HEAD
<<<<<<< HEAD
<<<<<<< HEAD
<<<<<<< HEAD
<<<<<<< HEAD
   "id": "af9cb28d",
||||||| 6a30bf1
   "id": "475fd933",
=======
   "id": "11b19b49",
>>>>>>> documentation-devel
||||||| d28b18c
   "id": "11b19b49",
=======
   "id": "c43b0aef",
>>>>>>> documentation-devel
||||||| 6893f63
<<<<<<< HEAD
   "id": "af9cb28d",
||||||| 6a30bf1
   "id": "475fd933",
=======
   "id": "11b19b49",
>>>>>>> documentation-devel
=======
   "id": "5095716f",
>>>>>>> c74c98c2450c2a1ba922ed9442f136238d6bc88b
||||||| 6d93b645
   "id": "c43b0aef",
=======
   "id": "ad96d53b",
>>>>>>> documentation-devel
||||||| 804edffb
<<<<<<< HEAD
<<<<<<< HEAD
<<<<<<< HEAD
   "id": "af9cb28d",
||||||| 6a30bf1
   "id": "475fd933",
=======
   "id": "11b19b49",
>>>>>>> documentation-devel
||||||| d28b18c
   "id": "11b19b49",
=======
   "id": "c43b0aef",
>>>>>>> documentation-devel
||||||| 6893f63
<<<<<<< HEAD
   "id": "af9cb28d",
||||||| 6a30bf1
   "id": "475fd933",
=======
   "id": "11b19b49",
>>>>>>> documentation-devel
=======
   "id": "5095716f",
>>>>>>> c74c98c2450c2a1ba922ed9442f136238d6bc88b
=======
   "id": "bb493c4c",
>>>>>>> 035bb2637984ead2784fecff78c0c60cc4181202
||||||| 3effdfa5
   "id": "ad96d53b",
=======
   "id": "056581b6",
>>>>>>> documentation-devel
   "metadata": {
    "message": false
   },
   "outputs": [],
   "source": [
    "library(stringr)\n",
    "library(Matrix)\n",
    "library(SpatialExperiment)\n",
    "library(SpatialFeatureExperiment)\n",
    "library(scater)\n",
    "library(scuttle)\n",
    "library(Voyager)\n",
    "library(zellkonverter)\n",
    "library(ggplot2)\n",
    "theme_set(theme_bw())"
   ]
  },
  {
   "cell_type": "code",
   "execution_count": null,
<<<<<<< HEAD
<<<<<<< HEAD
<<<<<<< HEAD
<<<<<<< HEAD
<<<<<<< HEAD
<<<<<<< HEAD
   "id": "09bdbd39",
||||||| 6a30bf1
   "id": "35b7b39a",
=======
   "id": "fea1b58a",
>>>>>>> documentation-devel
||||||| d28b18c
   "id": "fea1b58a",
=======
   "id": "6bfbc37b",
>>>>>>> documentation-devel
||||||| 6893f63
<<<<<<< HEAD
   "id": "09bdbd39",
||||||| 6a30bf1
   "id": "35b7b39a",
=======
   "id": "fea1b58a",
>>>>>>> documentation-devel
=======
   "id": "a7fc6cd1",
>>>>>>> c74c98c2450c2a1ba922ed9442f136238d6bc88b
||||||| 6d93b645
   "id": "6bfbc37b",
=======
   "id": "c6be998f",
>>>>>>> documentation-devel
||||||| 804edffb
<<<<<<< HEAD
<<<<<<< HEAD
<<<<<<< HEAD
   "id": "09bdbd39",
||||||| 6a30bf1
   "id": "35b7b39a",
=======
   "id": "fea1b58a",
>>>>>>> documentation-devel
||||||| d28b18c
   "id": "fea1b58a",
=======
   "id": "6bfbc37b",
>>>>>>> documentation-devel
||||||| 6893f63
<<<<<<< HEAD
   "id": "09bdbd39",
||||||| 6a30bf1
   "id": "35b7b39a",
=======
   "id": "fea1b58a",
>>>>>>> documentation-devel
=======
   "id": "a7fc6cd1",
>>>>>>> c74c98c2450c2a1ba922ed9442f136238d6bc88b
=======
   "id": "d11e83db",
>>>>>>> 035bb2637984ead2784fecff78c0c60cc4181202
||||||| 3effdfa5
   "id": "c6be998f",
=======
   "id": "c82190af",
>>>>>>> documentation-devel
   "metadata": {
    "message": false,
    "name": "dwnld",
    "tags": [
     "remove_output"
    ]
   },
   "outputs": [],
   "source": [
    "download.file(\"https://github.com/cellatlas/cellatlas/raw/main/examples/rna-10xv3-nuclei/cellatlas_out/adata.h5ad.gz\", \n",
    "                  \"adata.h5ad.gz\", quiet = TRUE)\n",
    "system(\"gunzip -f adata.h5ad.gz\")\n",
    "sce <- readH5AD(\"adata.h5ad\")\n",
    "assayNames(sce) <- \"counts\""
   ]
  },
  {
   "cell_type": "code",
   "execution_count": null,
<<<<<<< HEAD
<<<<<<< HEAD
<<<<<<< HEAD
<<<<<<< HEAD
<<<<<<< HEAD
<<<<<<< HEAD
   "id": "4e893372",
||||||| 6a30bf1
   "id": "db13ee03",
=======
   "id": "ad58d372",
>>>>>>> documentation-devel
||||||| d28b18c
   "id": "ad58d372",
=======
   "id": "aeac7c70",
>>>>>>> documentation-devel
||||||| 6893f63
<<<<<<< HEAD
   "id": "4e893372",
||||||| 6a30bf1
   "id": "db13ee03",
=======
   "id": "ad58d372",
>>>>>>> documentation-devel
=======
   "id": "7914939e",
>>>>>>> c74c98c2450c2a1ba922ed9442f136238d6bc88b
||||||| 6d93b645
   "id": "aeac7c70",
=======
   "id": "a92dffeb",
>>>>>>> documentation-devel
||||||| 804edffb
<<<<<<< HEAD
<<<<<<< HEAD
<<<<<<< HEAD
   "id": "4e893372",
||||||| 6a30bf1
   "id": "db13ee03",
=======
   "id": "ad58d372",
>>>>>>> documentation-devel
||||||| d28b18c
   "id": "ad58d372",
=======
   "id": "aeac7c70",
>>>>>>> documentation-devel
||||||| 6893f63
<<<<<<< HEAD
   "id": "4e893372",
||||||| 6a30bf1
   "id": "db13ee03",
=======
   "id": "ad58d372",
>>>>>>> documentation-devel
=======
   "id": "7914939e",
>>>>>>> c74c98c2450c2a1ba922ed9442f136238d6bc88b
=======
   "id": "c665d82f",
>>>>>>> 035bb2637984ead2784fecff78c0c60cc4181202
||||||| 3effdfa5
   "id": "a92dffeb",
=======
   "id": "3c4be895",
>>>>>>> documentation-devel
   "metadata": {},
   "outputs": [],
   "source": [
    "is_mito <- str_detect(rowData(sce)$gene_name, regex(\"^mt-\", ignore_case=TRUE))\n",
    "sum(is_mito)"
   ]
  },
  {
   "cell_type": "code",
   "execution_count": null,
<<<<<<< HEAD
<<<<<<< HEAD
<<<<<<< HEAD
<<<<<<< HEAD
<<<<<<< HEAD
<<<<<<< HEAD
   "id": "8b3d9a99",
||||||| 6a30bf1
   "id": "9e955d2a",
=======
   "id": "0fbe2415",
>>>>>>> documentation-devel
||||||| d28b18c
   "id": "0fbe2415",
=======
   "id": "86ab1b9f",
>>>>>>> documentation-devel
||||||| 6893f63
<<<<<<< HEAD
   "id": "8b3d9a99",
||||||| 6a30bf1
   "id": "9e955d2a",
=======
   "id": "0fbe2415",
>>>>>>> documentation-devel
=======
   "id": "e2b1508c",
>>>>>>> c74c98c2450c2a1ba922ed9442f136238d6bc88b
||||||| 6d93b645
   "id": "86ab1b9f",
=======
   "id": "7cdc4e86",
>>>>>>> documentation-devel
||||||| 804edffb
<<<<<<< HEAD
<<<<<<< HEAD
<<<<<<< HEAD
   "id": "8b3d9a99",
||||||| 6a30bf1
   "id": "9e955d2a",
=======
   "id": "0fbe2415",
>>>>>>> documentation-devel
||||||| d28b18c
   "id": "0fbe2415",
=======
   "id": "86ab1b9f",
>>>>>>> documentation-devel
||||||| 6893f63
<<<<<<< HEAD
   "id": "8b3d9a99",
||||||| 6a30bf1
   "id": "9e955d2a",
=======
   "id": "0fbe2415",
>>>>>>> documentation-devel
=======
   "id": "e2b1508c",
>>>>>>> c74c98c2450c2a1ba922ed9442f136238d6bc88b
=======
   "id": "27752a1f",
>>>>>>> 035bb2637984ead2784fecff78c0c60cc4181202
||||||| 3effdfa5
   "id": "7cdc4e86",
=======
   "id": "30918fdc",
>>>>>>> documentation-devel
   "metadata": {},
   "outputs": [],
   "source": [
    "sce <- addPerCellQCMetrics(sce, subsets = list(mito = is_mito))\n",
    "names(colData(sce))"
   ]
  },
  {
   "cell_type": "code",
   "execution_count": null,
<<<<<<< HEAD
<<<<<<< HEAD
<<<<<<< HEAD
<<<<<<< HEAD
<<<<<<< HEAD
<<<<<<< HEAD
   "id": "2a3fd5be",
||||||| 6a30bf1
   "id": "c1ea1711",
=======
   "id": "1ece8d66",
>>>>>>> documentation-devel
||||||| d28b18c
   "id": "1ece8d66",
=======
   "id": "81c8a618",
>>>>>>> documentation-devel
||||||| 6893f63
<<<<<<< HEAD
   "id": "2a3fd5be",
||||||| 6a30bf1
   "id": "c1ea1711",
=======
   "id": "1ece8d66",
>>>>>>> documentation-devel
=======
   "id": "b04a2838",
>>>>>>> c74c98c2450c2a1ba922ed9442f136238d6bc88b
||||||| 6d93b645
   "id": "81c8a618",
=======
   "id": "6f2656b5",
>>>>>>> documentation-devel
||||||| 804edffb
<<<<<<< HEAD
<<<<<<< HEAD
<<<<<<< HEAD
   "id": "2a3fd5be",
||||||| 6a30bf1
   "id": "c1ea1711",
=======
   "id": "1ece8d66",
>>>>>>> documentation-devel
||||||| d28b18c
   "id": "1ece8d66",
=======
   "id": "81c8a618",
>>>>>>> documentation-devel
||||||| 6893f63
<<<<<<< HEAD
   "id": "2a3fd5be",
||||||| 6a30bf1
   "id": "c1ea1711",
=======
   "id": "1ece8d66",
>>>>>>> documentation-devel
=======
   "id": "b04a2838",
>>>>>>> c74c98c2450c2a1ba922ed9442f136238d6bc88b
=======
   "id": "4903001b",
>>>>>>> 035bb2637984ead2784fecff78c0c60cc4181202
||||||| 3effdfa5
   "id": "6f2656b5",
=======
   "id": "e6f59f75",
>>>>>>> documentation-devel
   "metadata": {},
   "outputs": [],
   "source": [
    "plotColData(sce, \"sum\") +\n",
    "    plotColData(sce, \"detected\") +\n",
    "    plotColData(sce, \"subsets_mito_percent\")"
   ]
  },
  {
   "cell_type": "code",
   "execution_count": null,
<<<<<<< HEAD
<<<<<<< HEAD
<<<<<<< HEAD
<<<<<<< HEAD
<<<<<<< HEAD
<<<<<<< HEAD
   "id": "4f25a150",
||||||| 6a30bf1
   "id": "68cee92f",
=======
   "id": "df402e4c",
>>>>>>> documentation-devel
||||||| d28b18c
   "id": "df402e4c",
=======
   "id": "9bb0a4c9",
>>>>>>> documentation-devel
||||||| 6893f63
<<<<<<< HEAD
   "id": "4f25a150",
||||||| 6a30bf1
   "id": "68cee92f",
=======
   "id": "df402e4c",
>>>>>>> documentation-devel
=======
   "id": "2f31eb03",
>>>>>>> c74c98c2450c2a1ba922ed9442f136238d6bc88b
||||||| 6d93b645
   "id": "9bb0a4c9",
=======
   "id": "5cf77e45",
>>>>>>> documentation-devel
||||||| 804edffb
<<<<<<< HEAD
<<<<<<< HEAD
<<<<<<< HEAD
   "id": "4f25a150",
||||||| 6a30bf1
   "id": "68cee92f",
=======
   "id": "df402e4c",
>>>>>>> documentation-devel
||||||| d28b18c
   "id": "df402e4c",
=======
   "id": "9bb0a4c9",
>>>>>>> documentation-devel
||||||| 6893f63
<<<<<<< HEAD
   "id": "4f25a150",
||||||| 6a30bf1
   "id": "68cee92f",
=======
   "id": "df402e4c",
>>>>>>> documentation-devel
=======
   "id": "2f31eb03",
>>>>>>> c74c98c2450c2a1ba922ed9442f136238d6bc88b
=======
   "id": "359489e3",
>>>>>>> 035bb2637984ead2784fecff78c0c60cc4181202
||||||| 3effdfa5
   "id": "5cf77e45",
=======
   "id": "858f1382",
>>>>>>> documentation-devel
   "metadata": {},
   "outputs": [],
   "source": [
    "plotColData(sce, x = \"sum\", y = \"detected\", bins = 100) +\n",
    "    scale_fill_distiller(palette = \"Blues\", direction = 1)"
   ]
  },
  {
   "cell_type": "code",
   "execution_count": null,
<<<<<<< HEAD
<<<<<<< HEAD
<<<<<<< HEAD
<<<<<<< HEAD
<<<<<<< HEAD
<<<<<<< HEAD
   "id": "c73e258c",
||||||| 6a30bf1
   "id": "bb87e502",
=======
   "id": "14f2c1b9",
>>>>>>> documentation-devel
||||||| d28b18c
   "id": "14f2c1b9",
=======
   "id": "5d41b625",
>>>>>>> documentation-devel
||||||| 6893f63
<<<<<<< HEAD
   "id": "c73e258c",
||||||| 6a30bf1
   "id": "bb87e502",
=======
   "id": "14f2c1b9",
>>>>>>> documentation-devel
=======
   "id": "234897fc",
>>>>>>> c74c98c2450c2a1ba922ed9442f136238d6bc88b
||||||| 6d93b645
   "id": "5d41b625",
=======
   "id": "bba50378",
>>>>>>> documentation-devel
||||||| 804edffb
<<<<<<< HEAD
<<<<<<< HEAD
<<<<<<< HEAD
   "id": "c73e258c",
||||||| 6a30bf1
   "id": "bb87e502",
=======
   "id": "14f2c1b9",
>>>>>>> documentation-devel
||||||| d28b18c
   "id": "14f2c1b9",
=======
   "id": "5d41b625",
>>>>>>> documentation-devel
||||||| 6893f63
<<<<<<< HEAD
   "id": "c73e258c",
||||||| 6a30bf1
   "id": "bb87e502",
=======
   "id": "14f2c1b9",
>>>>>>> documentation-devel
=======
   "id": "234897fc",
>>>>>>> c74c98c2450c2a1ba922ed9442f136238d6bc88b
=======
   "id": "1d59dd29",
>>>>>>> 035bb2637984ead2784fecff78c0c60cc4181202
||||||| 3effdfa5
   "id": "bba50378",
=======
   "id": "00ef878e",
>>>>>>> documentation-devel
   "metadata": {},
   "outputs": [],
   "source": [
    "plotColData(sce, x = \"sum\", y = \"subsets_mito_detected\", bins = 100) +\n",
    "    scale_fill_distiller(palette = \"Blues\", direction = 1)"
   ]
  },
  {
   "cell_type": "code",
   "execution_count": null,
<<<<<<< HEAD
<<<<<<< HEAD
<<<<<<< HEAD
<<<<<<< HEAD
<<<<<<< HEAD
<<<<<<< HEAD
   "id": "9c9b7ebb",
||||||| 6a30bf1
   "id": "856a9ff2",
=======
   "id": "c582d449",
>>>>>>> documentation-devel
||||||| d28b18c
   "id": "c582d449",
=======
   "id": "4299138f",
>>>>>>> documentation-devel
||||||| 6893f63
<<<<<<< HEAD
   "id": "9c9b7ebb",
||||||| 6a30bf1
   "id": "856a9ff2",
=======
   "id": "c582d449",
>>>>>>> documentation-devel
=======
   "id": "58ad8d61",
>>>>>>> c74c98c2450c2a1ba922ed9442f136238d6bc88b
||||||| 6d93b645
   "id": "4299138f",
=======
   "id": "2384b17f",
>>>>>>> documentation-devel
||||||| 804edffb
<<<<<<< HEAD
<<<<<<< HEAD
<<<<<<< HEAD
   "id": "9c9b7ebb",
||||||| 6a30bf1
   "id": "856a9ff2",
=======
   "id": "c582d449",
>>>>>>> documentation-devel
||||||| d28b18c
   "id": "c582d449",
=======
   "id": "4299138f",
>>>>>>> documentation-devel
||||||| 6893f63
<<<<<<< HEAD
   "id": "9c9b7ebb",
||||||| 6a30bf1
   "id": "856a9ff2",
=======
   "id": "c582d449",
>>>>>>> documentation-devel
=======
   "id": "58ad8d61",
>>>>>>> c74c98c2450c2a1ba922ed9442f136238d6bc88b
=======
   "id": "a2065373",
>>>>>>> 035bb2637984ead2784fecff78c0c60cc4181202
||||||| 3effdfa5
   "id": "2384b17f",
=======
   "id": "c9ec7e66",
>>>>>>> documentation-devel
   "metadata": {
    "name": "subset-qc"
   },
   "outputs": [],
   "source": [
    "sce <- sce[, which(sce$subsets_mito_percent < 20)]\n",
    "sce <- sce[rowSums(counts(sce)) > 0,]\n",
    "\n",
    "sce"
   ]
  },
  {
   "cell_type": "code",
   "execution_count": null,
<<<<<<< HEAD
<<<<<<< HEAD
<<<<<<< HEAD
<<<<<<< HEAD
<<<<<<< HEAD
<<<<<<< HEAD
   "id": "4b86bb75",
||||||| 6a30bf1
   "id": "e1efdae9",
=======
   "id": "755a5a1d",
>>>>>>> documentation-devel
||||||| d28b18c
   "id": "755a5a1d",
=======
   "id": "405c2943",
>>>>>>> documentation-devel
||||||| 6893f63
<<<<<<< HEAD
   "id": "4b86bb75",
||||||| 6a30bf1
   "id": "e1efdae9",
=======
   "id": "755a5a1d",
>>>>>>> documentation-devel
=======
   "id": "802b75da",
>>>>>>> c74c98c2450c2a1ba922ed9442f136238d6bc88b
||||||| 6d93b645
   "id": "405c2943",
=======
   "id": "8b521aeb",
>>>>>>> documentation-devel
||||||| 804edffb
<<<<<<< HEAD
<<<<<<< HEAD
<<<<<<< HEAD
   "id": "4b86bb75",
||||||| 6a30bf1
   "id": "e1efdae9",
=======
   "id": "755a5a1d",
>>>>>>> documentation-devel
||||||| d28b18c
   "id": "755a5a1d",
=======
   "id": "405c2943",
>>>>>>> documentation-devel
||||||| 6893f63
<<<<<<< HEAD
   "id": "4b86bb75",
||||||| 6a30bf1
   "id": "e1efdae9",
=======
   "id": "755a5a1d",
>>>>>>> documentation-devel
=======
   "id": "802b75da",
>>>>>>> c74c98c2450c2a1ba922ed9442f136238d6bc88b
=======
   "id": "9c80b822",
>>>>>>> 035bb2637984ead2784fecff78c0c60cc4181202
||||||| 3effdfa5
   "id": "8b521aeb",
=======
   "id": "0e6a6489",
>>>>>>> documentation-devel
   "metadata": {},
   "outputs": [],
   "source": [
    "sessionInfo()"
   ]
  }
 ],
 "metadata": {
  "kernelspec": {
   "display_name": "R",
   "language": "R",
   "name": "ir"
  }
 },
 "nbformat": 4,
 "nbformat_minor": 5
}
