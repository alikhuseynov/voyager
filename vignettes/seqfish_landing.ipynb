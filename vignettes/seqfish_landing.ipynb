{
 "cells": [
  {
   "cell_type": "raw",
   "id": "99ef55e5",
   "metadata": {},
   "source": [
    "---\n",
    "title: \"seqFISH Processing Workflows with Voyager\"\n",
    "output: html_document\n",
    "vignette: >\n",
    "  %\\VignetteIndexEntry{seqfish_landing}\n",
    "  %\\VignetteEngine{knitr::rmarkdown}\n",
    "  %\\VignetteEncoding{UTF-8}\n",
    "---"
   ]
  },
  {
   "cell_type": "code",
   "execution_count": null,
   "id": "1db8b3cc",
   "metadata": {
    "tags": [
     "remove_cell"
    ]
   },
   "outputs": [],
   "source": [
    "knitr::opts_chunk$set(\n",
    "  collapse = TRUE,\n",
    "  comment = \"#>\",\n",
    "  eval = FALSE\n",
    ")"
   ]
  },
  {
   "cell_type": "markdown",
   "id": "b2981689",
   "metadata": {},
   "source": [
    "The seqFISH technology enables in situ profiling of individual molecules such as RNA, DNA, and protein via sequential rounds of fluorescent labeling and imaging ([Lubeck, et. al.](https://doi.org/10.1038/nmeth.2892)). The sequential labeling and imaging rounds can identify up to 24,000 unique targets, and recent publications have demonstrated the ability of the technology to robustly detect 10,000 genes in individual cells ([Eng, et. al.](https://doi.org/10.1038/s41586-019-1049-y)). To date, seqFISH has been applied to a number of tissue and organisms, including [brain](https://doi.org/10.1038/nbt.4260), [mouse embryo](https://doi.org/10.1038/s41587-021-01006-2), and [zebrafish embryo](https://doi.org/10.1038/s41467-021-23834-1).\n",
    "\n",
    "## Analysis Workflows\n",
    "\n",
    "The analysis tasks include basic quality control, spatial exploratory data analysis, identification of spatially variable genes, and computation of global and local spatial statistics. Accompanying Colab notebooks are linked when available.\n",
    "\n",
    "| Vignette          |   Colab Notebook   | Description                   |\n",
    "|-------------------|:------------------:|-------------------------------|\n",
    "| [seqFISH exploratory data analysis](https://pachterlab.github.io/voyager/articles/vig7_seqfish.html) | | Perform basic QC, data normalization, dimension reduction, clustering, univariate spatial statistics, significance testing |"
   ]
  }
 ],
 "metadata": {
  "jupytext": {
   "cell_metadata_filter": "tags,-all",
   "main_language": "R",
   "notebook_metadata_filter": "-all"
  }
 },
 "nbformat": 4,
 "nbformat_minor": 5
}
