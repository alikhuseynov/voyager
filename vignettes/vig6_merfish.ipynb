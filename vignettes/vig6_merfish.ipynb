<<<<<<< HEAD
{
 "cells": [
  {
   "cell_type": "raw",
   "id": "f9cfb1aa",
   "metadata": {},
   "source": [
    "---\n",
    "title: \"MERFISH mouse liver dataset and considerations of large data\"\n",
    "author: \"Lambda Moses\"\n",
    "date: \"`r Sys.Date()`\"\n",
    "output: \n",
    "  html_document:\n",
    "  toc: true\n",
    "  toc_float:\n",
    "    collapsed: false\n",
    "  toc_depth: 3\n",
    "bibliography: ref.bib\n",
    "vignette: >\n",
    "  %\\VignetteIndexEntry{merfish}\n",
    "  %\\VignetteEngine{knitr::rmarkdown}\n",
    "  %\\VignetteEncoding{UTF-8}\n",
    "---"
   ]
  },
  {
   "cell_type": "code",
   "execution_count": null,
   "id": "1923c904",
   "metadata": {
    "tags": [
     "remove_cell"
    ]
   },
   "outputs": [],
   "source": [
    "knitr::opts_chunk$set(\n",
    "  collapse = TRUE,\n",
    "  comment = \"#>\"\n",
    ")"
   ]
  },
  {
   "cell_type": "code",
   "execution_count": null,
   "id": "68051051",
   "metadata": {
    "eval": false,
    "tags": [
     "remove_cell"
    ]
   },
   "outputs": [],
   "source": [
    "# Install Google Colab dependencies\n",
    "# Note: this can take 30+ minutes (many of the dependencies include C++ code, which needs to be compiled)\n",
    "\n",
    "# First install `sf`, `ragg` and `textshaping` and their system dependencies:\n",
    "system(\"apt-get -y update && apt-get install -y  libudunits2-dev libgdal-dev libgeos-dev libproj-dev libharfbuzz-dev libfribidi-dev\")\n",
    "install.packages(\"sf\")\n",
    "install.packages(\"textshaping\")\n",
    "install.packages(\"ragg\")\n",
    "\n",
    "# Install system dependencies of some other R packages that Voyager either imports or suggests:\n",
    "system(\"apt-get install -y libfribidi-dev libcairo2-dev libmagick++-dev\")\n",
    "\n",
    "# Install Voyager from Bioconductor:\n",
    "install.packages(\"BiocManager\")\n",
    "BiocManager::install(version = \"3.17\", ask = FALSE, update = FALSE, Ncpus = 2)\n",
    "BiocManager::install(\"scater\")\n",
    "system.time(\n",
    "  BiocManager::install(\"Voyager\", dependencies = TRUE, Ncpus = 2, update = FALSE)\n",
    ")\n",
    "\n",
    "packageVersion(\"Voyager\")"
   ]
  },
  {
   "cell_type": "markdown",
   "id": "00a5e47f",
   "metadata": {
    "lines_to_next_cell": 0
   },
   "source": [
    "# Introduction\n",
    "\n",
    "The `SpatialFeatureExperiment` (SFE) and `Voyager` packages were originally developed around a relatively small Visium dataset as a proof of concept, and were hence not originally optimized for very large datasets. However, larger smFISH datasets with hundreds of thousands, sometimes over a million cells have already been produced and will soon be produced routinely. Among studies using smFISH-based spatial transcriptomics technologies that reported the number of cells per dataset, the number of cells per dataset has increased in the past years [@Moses2022-xz].\n",
    "![alt](https://pachterlab.github.io/LP_2021/05-current-techs_files/figure-html/smfish-lm-cell-1.png)\n",
    "\n",
    "In anticipation of large datasets, this vignette was produced using limited GitHub Actions resources (MacOS), which are 14 GB of RAM with 3 CPU cores and 14 GB of disk space, comparable to laptops. We therefore expect that the analyses in this vignette should scale to reasonably sized datasets.  \n",
    "\n",
    "The dataset we use in this vignette is a MERFISH mouse liver dataset downloaded from the [Vizgen website](https://console.cloud.google.com/storage/browser/vz-liver-showcase/Liver1Slice1). We will use it to discuss some issues with large datasets and some upcoming features in the next release of `Voyager`. The gene count matrix and cell metadata (including centroid coordinates) were downloaded as CSV files and read into R. While 7 z-planes were imaged, cell segmentation is only available in one z-plane. The cell polygons are in HDF5 files, with one HDF5 file per field of view (FOV), and there are over 1000 FOVs in this dataset. Converting these HDF5 files into an `sf` data frame is not trivial. See the [vignette on creating a `SpatialFeatureExperiment` (SFE) object](https://pachterlab.github.io/voyager/articles/create_sfe.html#technology-specific-notes) for code used to do the conversion, and the polygons are included in the SFE object. The cell metadata already has cell volume. If the polygons are not used in the analyses, and the polygons can't be seen on a static plot with hundreds of thousands of cells anyway, then doing the conversion is optional. While the transcript spot locations are available, we cannot yet work with such a large point dataset.\n",
    "\n",
    "Here we load the packages used. "
   ]
  },
  {
   "cell_type": "code",
   "execution_count": null,
   "id": "6b8ab87a",
   "metadata": {
    "name": "setup"
   },
   "outputs": [],
   "source": [
    "library(Voyager)\n",
    "library(SFEData)\n",
    "library(SingleCellExperiment)\n",
    "library(SpatialExperiment)\n",
    "library(scater) \n",
    "library(ggplot2)\n",
    "library(patchwork)\n",
    "library(stringr)\n",
    "library(spdep)\n",
    "library(BiocParallel)\n",
    "library(BiocSingular)\n",
    "library(gstat)\n",
    "library(BiocNeighbors)\n",
    "library(sf)\n",
    "library(automap)\n",
    "theme_set(theme_bw())"
   ]
  },
  {
   "cell_type": "code",
   "execution_count": null,
   "id": "b0b55e65",
   "metadata": {},
   "outputs": [],
   "source": [
    "(sfe <- VizgenLiverData())"
   ]
  },
  {
   "cell_type": "markdown",
   "id": "36b87103",
   "metadata": {
    "lines_to_next_cell": 0
   },
   "source": [
    "There are 395,215 cells in this dataset. Plotting them all as polygons takes a while, but it isn't too bad."
   ]
  },
  {
   "cell_type": "code",
   "execution_count": null,
   "id": "28133001",
   "metadata": {
    "fig.height": 6,
    "fig.width": 9
   },
   "outputs": [],
   "source": [
    "plotGeometry(sfe, \"cellSeg\")"
   ]
  },
  {
   "cell_type": "markdown",
   "id": "c96915b0",
   "metadata": {
    "lines_to_next_cell": 0
   },
   "source": [
    "However, we do not wish to save this plot as PDF. To avoid this problem, we can either use the `scattermore = TRUE` argument in `plotSpatialFeature()` and plot the centroids since the polygons are hard to see anyway. \n",
    "\n",
    "Cell density can be vaguely seen in the plot above. Here we count the number of cells in bins to better visualize cell density."
   ]
  },
  {
   "cell_type": "code",
   "execution_count": null,
   "id": "ceaaeda8",
   "metadata": {
    "fig.height": 6,
    "fig.width": 9
   },
   "outputs": [],
   "source": [
    "plotCellBin2D(sfe, bins = 300, hex = TRUE)"
   ]
  },
  {
   "cell_type": "markdown",
   "id": "cc786f86",
   "metadata": {
    "lines_to_next_cell": 0
   },
   "source": [
    "Cell density is for the most part homogeneous but shows some structure with denser regions that seem to relate to the blood vessels.\n",
    "\n",
    "# Quality control"
   ]
  },
  {
   "cell_type": "code",
   "execution_count": null,
   "id": "8a8be742",
   "metadata": {},
   "outputs": [],
   "source": [
    "names(colData(sfe))"
   ]
  },
  {
   "cell_type": "markdown",
   "id": "542f0f4f",
   "metadata": {
    "lines_to_next_cell": 0
   },
   "source": [
    "Plotting almost 400,000 polygons is kind of slow but doable."
   ]
  },
  {
   "cell_type": "code",
   "execution_count": null,
   "id": "d58ae836",
   "metadata": {},
   "outputs": [],
   "source": [
    "system.time(\n",
    "    print(plotSpatialFeature(sfe, \"nCounts\", colGeometryName = \"cellSeg\"))\n",
    ")"
   ]
  },
  {
   "cell_type": "markdown",
   "id": "c7c5f8b1",
   "metadata": {},
   "source": [
    "Here nCounts kind of looks like salt and pepper. Using the [`scattermore`](https://github.com/exaexa/scattermore) package can speed up plotting a large number of points. In this non-interactive plot, the cell polygons are too small to see anyway, so plotting cell centroid points should be fine. "
   ]
  },
  {
   "cell_type": "code",
   "execution_count": null,
   "id": "662c2bcf",
   "metadata": {},
   "outputs": [],
   "source": [
    "system.time({\n",
    "    print(plotSpatialFeature(sfe, \"nCounts\", colGeometryName = \"centroids\",\n",
    "                             scattermore = TRUE))\n",
    "})"
   ]
  },
  {
   "cell_type": "markdown",
   "id": "11c1dd53",
   "metadata": {},
   "source": [
    "When run on our server, plotting almost 400,000 polygons took around 23 seconds, while using `geom_scattermore()` (`scattermore = TRUE`) took about 2 seconds. Since `geom_scattermore()` rasterizes the plot, the plot will be pixelated when zoomed in. \n",
    "\n",
    "While interactive data visualization is useful for ESDA, there is a need for static figures in publications. As of Voyager 1.2.0 (Bioconductor 3.17), a bounding box can be specified to zoom into the data."
   ]
  },
  {
   "cell_type": "code",
   "execution_count": null,
   "id": "68c19866",
   "metadata": {},
   "outputs": [],
   "source": [
    "bbox_use <- c(xmin = 3000, xmax = 3500, ymin = 2500, ymax = 3000)"
   ]
  },
  {
   "cell_type": "code",
   "execution_count": null,
   "id": "3ae98d8a",
   "metadata": {},
   "outputs": [],
   "source": [
    "plotSpatialFeature(sfe, \"nCounts\", colGeometryName = \"cellSeg\", bbox = bbox_use)"
   ]
  },
  {
   "cell_type": "markdown",
   "id": "49c66332",
   "metadata": {
    "lines_to_next_cell": 0
   },
   "source": [
    "Much of the time making this plot is spent subsetting the `sf` data frame with the bounding box. Here, spatial autocorrelation is evident in the upper right region with smaller cells, but less so in the rest of this patch. nCounts seems to be related to cell size; larger cells seem to have more total counts.\n",
    "\n",
    "Interactive data visualization is currently beyond the scope of `Voyager` or this vignette. There are existing tools for interactive visualization of highly multiplexed imaging data, such as [`MERmaid`](https://github.com/JEFworks-Lab/MERmaid) [@Wang2020-sv] for MERFISH data, [`TissUUmaps`](https://github.com/TissUUmaps/TissUUmapsCore) [@Pielawski2022-wk], and [`Visinity`](https://github.com/labsyspharm/visinity) [@Warchol2022-zw].\n",
    "\n",
    "Since there aren't too many genes, all genes and negative control probes can be displayed:"
   ]
  },
  {
   "cell_type": "code",
   "execution_count": null,
   "id": "6b40f5b8",
   "metadata": {},
   "outputs": [],
   "source": [
    "rownames(sfe)"
   ]
  },
  {
   "cell_type": "markdown",
   "id": "29069cbd",
   "metadata": {},
   "source": [
    "The number of real genes is 347."
   ]
  },
  {
   "cell_type": "code",
   "execution_count": null,
   "id": "412a1b02",
   "metadata": {},
   "outputs": [],
   "source": [
    "n_panel <- 347"
   ]
  },
  {
   "cell_type": "markdown",
   "id": "bcbcacb0",
   "metadata": {
    "lines_to_next_cell": 0
   },
   "source": [
    "Next, we plot the distribution of nCounts divided by the number of genes in the panel, so this distribution is more comparable across datasets with different numbers of genes."
   ]
  },
  {
   "cell_type": "code",
   "execution_count": null,
   "id": "aa474a14",
   "metadata": {},
   "outputs": [],
   "source": [
    "colData(sfe)$nCounts_normed <- sfe$nCounts / n_panel\n",
    "colData(sfe)$nGenes_normed <- sfe$nGenes / n_panel"
   ]
  },
  {
   "cell_type": "code",
   "execution_count": null,
   "id": "3a0743f3",
   "metadata": {},
   "outputs": [],
   "source": [
    "plotColDataHistogram(sfe, c(\"nCounts_normed\", \"nGenes_normed\"))"
   ]
  },
  {
   "cell_type": "markdown",
   "id": "8c130d8e",
   "metadata": {
    "lines_to_next_cell": 0
   },
   "source": [
    "As with the [Xenium dataset](https://pachterlab.github.io/voyager/articles/vig5_xenium.html#cells), there are mysterious regular notches in the histogram of the number of genes detected.\n",
    "\n",
    "We also plot the number of genes detected per cell, with `geom_scattermore()`."
   ]
  },
  {
   "cell_type": "code",
   "execution_count": null,
   "id": "5d19b0a8",
   "metadata": {},
   "outputs": [],
   "source": [
    "plotSpatialFeature(sfe, \"nGenes\", colGeometryName = \"centroids\", scattermore = TRUE)"
   ]
  },
  {
   "cell_type": "markdown",
   "id": "a36cf773",
   "metadata": {
    "lines_to_next_cell": 0
   },
   "source": [
    "Similarly to nCounts, the points look intermingled. \n",
    "\n",
    "Distribution of cell volume in space:"
   ]
  },
  {
   "cell_type": "code",
   "execution_count": null,
   "id": "73e161e4",
   "metadata": {},
   "outputs": [],
   "source": [
    "plotSpatialFeature(sfe, \"volume\", colGeometryName = \"centroids\", scattermore = TRUE)"
   ]
  },
  {
   "cell_type": "markdown",
   "id": "eefc2d83",
   "metadata": {
    "lines_to_next_cell": 0
   },
   "source": [
    "Next, we explore how nCounts relates to nGenes:"
   ]
  },
  {
   "cell_type": "code",
   "execution_count": null,
   "id": "cc194a1f",
   "metadata": {},
   "outputs": [],
   "source": [
    "plotColDataBin2D(sfe, \"nCounts\", \"nGenes\")"
   ]
  },
  {
   "cell_type": "markdown",
   "id": "1c8ca191",
   "metadata": {
    "lines_to_next_cell": 0
   },
   "source": [
    "There are two branches in this plot. \n",
    "\n",
    "How does cell size relate to nCounts?"
   ]
  },
  {
   "cell_type": "code",
   "execution_count": null,
   "id": "f0cea88f",
   "metadata": {},
   "outputs": [],
   "source": [
    "plotColDataBin2D(sfe, \"volume\", \"nCounts\")"
   ]
  },
  {
   "cell_type": "markdown",
   "id": "6079d36d",
   "metadata": {
    "lines_to_next_cell": 0
   },
   "source": [
    "The lower branch has the larger cells that don't tend to have more total counts, and the upper branch has larger cells that tend to have more total counts.\n",
    "\n",
    "We also examine how cell size relates to number of genes detected:"
   ]
  },
  {
   "cell_type": "code",
   "execution_count": null,
   "id": "a59e1139",
   "metadata": {},
   "outputs": [],
   "source": [
    "plotColDataBin2D(sfe, \"volume\", \"nGenes\")"
   ]
  },
  {
   "cell_type": "markdown",
   "id": "8d5cd94c",
   "metadata": {
    "lines_to_next_cell": 0
   },
   "source": [
    "There seem to be clusters that are possibly related to cell type. \n",
    "\n",
    "### Negative controls\n",
    "Blank probes are used as negative controls."
   ]
  },
  {
   "cell_type": "code",
   "execution_count": null,
   "id": "a9a6f502",
   "metadata": {},
   "outputs": [],
   "source": [
    "is_blank <- str_detect(rownames(sfe), \"^Blank-\")"
   ]
  },
  {
   "cell_type": "code",
   "execution_count": null,
   "id": "ac1ee06c",
   "metadata": {},
   "outputs": [],
   "source": [
    "sfe <- addPerCellQCMetrics(sfe, subset = list(blank = is_blank))"
   ]
  },
  {
   "cell_type": "code",
   "execution_count": null,
   "id": "8dec3c44",
   "metadata": {},
   "outputs": [],
   "source": [
    "names(colData(sfe))"
   ]
  },
  {
   "cell_type": "markdown",
   "id": "a6567032",
   "metadata": {
    "lines_to_next_cell": 0
   },
   "source": [
    "Total transcript counts from the blank probes:"
   ]
  },
  {
   "cell_type": "code",
   "execution_count": null,
   "id": "5585ed3d",
   "metadata": {},
   "outputs": [],
   "source": [
    "plotSpatialFeature(sfe, \"subsets_blank_sum\", colGeometryName = \"centroids\",\n",
    "                   scattermore = TRUE)"
   ]
  },
  {
   "cell_type": "markdown",
   "id": "117155eb",
   "metadata": {
    "lines_to_next_cell": 0
   },
   "source": [
    "Number of blank features detected per cell:"
   ]
  },
  {
   "cell_type": "code",
   "execution_count": null,
   "id": "a4cf18dd",
   "metadata": {},
   "outputs": [],
   "source": [
    "plotSpatialFeature(sfe, \"subsets_blank_detected\", colGeometryName = \"centroids\",\n",
    "                   scattermore = TRUE)"
   ]
  },
  {
   "cell_type": "markdown",
   "id": "a7de72cc",
   "metadata": {
    "lines_to_next_cell": 0
   },
   "source": [
    "Percentage of blank features per cell:"
   ]
  },
  {
   "cell_type": "code",
   "execution_count": null,
   "id": "426b494d",
   "metadata": {},
   "outputs": [],
   "source": [
    "plotSpatialFeature(sfe, \"subsets_blank_percent\", colGeometryName = \"centroids\",\n",
    "                   scattermore = TRUE)"
   ]
  },
  {
   "cell_type": "markdown",
   "id": "9f3cb865",
   "metadata": {
    "lines_to_next_cell": 0
   },
   "source": [
    "The percentage is more interesting: within the tissue, cells with high percentage of blank counts are scattered like salt and pepper, but more of these cells are on the left edge of the tissue, the edges of FOVs, where the tissue itself doesn't end. \n",
    "\n",
    "Also plot histograms: "
   ]
  },
  {
   "cell_type": "code",
   "execution_count": null,
   "id": "c7ee52bf",
   "metadata": {},
   "outputs": [],
   "source": [
    "plotColDataHistogram(sfe, paste0(\"subsets_blank_\", c(\"sum\", \"detected\", \"percent\")))"
   ]
  },
  {
   "cell_type": "markdown",
   "id": "685a64c2",
   "metadata": {
    "lines_to_next_cell": 0
   },
   "source": [
    "The NA's are cells without any transcript detected. "
   ]
  },
  {
   "cell_type": "code",
   "execution_count": null,
   "id": "5587ef66",
   "metadata": {},
   "outputs": [],
   "source": [
    "mean(sfe$subsets_blank_sum > 0)"
   ]
  },
  {
   "cell_type": "markdown",
   "id": "c2b562ac",
   "metadata": {
    "lines_to_next_cell": 0
   },
   "source": [
    "Unlike in the Xenium dataset, here most cells have at least one blank count. By log transforming, the zeroes are removed from the plot. "
   ]
  },
  {
   "cell_type": "code",
   "execution_count": null,
   "id": "b815f9e8",
   "metadata": {},
   "outputs": [],
   "source": [
    "plotColDataHistogram(sfe, \"subsets_blank_percent\") +\n",
    "    scale_x_log10() +\n",
    "    annotation_logticks()"
   ]
  },
  {
   "cell_type": "markdown",
   "id": "1d2d6bd1",
   "metadata": {},
   "source": [
    "A small percentage of blank counts is acceptable. So we will remove the outlier based on the distribution of the percentage when it's greater than zero. How does the blank percentage relate to total counts?"
   ]
  },
  {
   "cell_type": "code",
   "execution_count": null,
   "id": "02831776",
   "metadata": {},
   "outputs": [],
   "source": [
    "plotColDataBin2D(sfe, \"nCounts\", \"subsets_blank_percent\") +\n",
    "    scale_fill_viridis_c()"
   ]
  },
  {
   "cell_type": "markdown",
   "id": "f3885124",
   "metadata": {
    "lines_to_next_cell": 0
   },
   "source": [
    "The outliers in percentage of blank counts have low total counts. But there are some seemingly real cells with sizable nCounts which have a relatively high percentage of blank counts. Since the distribution of this percentage has a very long tail, we log transform it when finding outliers."
   ]
  },
  {
   "cell_type": "code",
   "execution_count": null,
   "id": "5599900f",
   "metadata": {},
   "outputs": [],
   "source": [
    "get_neg_ctrl_outliers <- function(col, sfe, nmads = 3, log = FALSE) {\n",
    "    inds <- colData(sfe)$nCounts > 0 & colData(sfe)[[col]] > 0\n",
    "    df <- colData(sfe)[inds,]\n",
    "    outlier_inds <- isOutlier(df[[col]], type = \"higher\", nmads = nmads, log = log)\n",
    "    outliers <- rownames(df)[outlier_inds]\n",
    "    col2 <- str_remove(col, \"^subsets_\")\n",
    "    col2 <- str_remove(col2, \"_percent$\")\n",
    "    new_colname <- paste(\"is\", col2, \"outlier\", sep = \"_\")\n",
    "    colData(sfe)[[new_colname]] <- colnames(sfe) %in% outliers\n",
    "    sfe\n",
    "}"
   ]
  },
  {
   "cell_type": "code",
   "execution_count": null,
   "id": "664e9880",
   "metadata": {},
   "outputs": [],
   "source": [
    "sfe <- get_neg_ctrl_outliers(\"subsets_blank_percent\", sfe, log = TRUE)"
   ]
  },
  {
   "cell_type": "markdown",
   "id": "2eb46b66",
   "metadata": {
    "lines_to_next_cell": 0
   },
   "source": [
    "What proportion of all cells are outliers?"
   ]
  },
  {
   "cell_type": "code",
   "execution_count": null,
   "id": "2ccd9cbc",
   "metadata": {},
   "outputs": [],
   "source": [
    "mean(sfe$is_blank_outlier)"
   ]
  },
  {
   "cell_type": "markdown",
   "id": "d7c9d9b8",
   "metadata": {
    "lines_to_next_cell": 0
   },
   "source": [
    "What's the cutoff for outlier?"
   ]
  },
  {
   "cell_type": "code",
   "execution_count": null,
   "id": "d254bf4b",
   "metadata": {},
   "outputs": [],
   "source": [
    "min(sfe$subsets_blank_percent[sfe$is_blank_outlier])"
   ]
  },
  {
   "cell_type": "markdown",
   "id": "2700ff48",
   "metadata": {
    "lines_to_next_cell": 0
   },
   "source": [
    "Remove the outliers and empty cells:"
   ]
  },
  {
   "cell_type": "code",
   "execution_count": null,
   "id": "f36a307a",
   "metadata": {},
   "outputs": [],
   "source": [
    "(sfe <- sfe[, !sfe$is_blank_outlier & sfe$nCounts > 0])"
   ]
  },
  {
   "cell_type": "markdown",
   "id": "04d68a3f",
   "metadata": {
    "lines_to_next_cell": 0
   },
   "source": [
    "There still are over 390,000 cells left after removing the outliers.\n",
    "\n",
    "## Genes\n",
    "Here we look at the mean and variance of each gene:"
   ]
  },
  {
   "cell_type": "code",
   "execution_count": null,
   "id": "833a9b7b",
   "metadata": {},
   "outputs": [],
   "source": [
    "rowData(sfe)$means <- rowMeans(counts(sfe))\n",
    "rowData(sfe)$vars <- rowVars(counts(sfe))"
   ]
  },
  {
   "cell_type": "code",
   "execution_count": null,
   "id": "a0816eb8",
   "metadata": {},
   "outputs": [],
   "source": [
    "rowData(sfe)$is_blank <- is_blank\n",
    "plotRowData(sfe, x = \"means\", y = \"is_blank\") +\n",
    "    scale_y_log10() +\n",
    "    annotation_logticks(sides = \"b\")"
   ]
  },
  {
   "cell_type": "markdown",
   "id": "047fa66c",
   "metadata": {
    "lines_to_next_cell": 0
   },
   "source": [
    "Most genes display higher mean expression than blanks, but there is considerable overlap in the distribution, probably because some genes expressed at lower levels or in fewer cells are included.\n",
    "\n",
    "Here the \"real\" genes and negative controls are plotted in different colors:"
   ]
  },
  {
   "cell_type": "code",
   "execution_count": null,
   "id": "a387ac87",
   "metadata": {},
   "outputs": [],
   "source": [
    "plotRowData(sfe, x = \"means\", y = \"vars\", colour_by = \"is_blank\") +\n",
    "    geom_abline(slope = 1, intercept = 0, color = \"red\") +\n",
    "    scale_x_log10() + scale_y_log10() +\n",
    "    annotation_logticks() +\n",
    "    coord_equal()"
   ]
  },
  {
   "cell_type": "markdown",
   "id": "b4e54bcf",
   "metadata": {
    "lines_to_next_cell": 0
   },
   "source": [
    "The red line $y = x$ is expected when the data follows a Poisson distribution. "
   ]
  },
  {
   "cell_type": "code",
   "execution_count": null,
   "id": "262fae07",
   "metadata": {},
   "outputs": [],
   "source": [
    "as.data.frame(rowData(sfe)[is_blank,]) |> \n",
    "    ggplot(aes(means, vars)) +\n",
    "    geom_point() +\n",
    "    geom_abline(slope = 1, intercept = 0, color = \"red\") +\n",
    "    scale_x_log10() + scale_y_log10() +\n",
    "    annotation_logticks() +\n",
    "    coord_equal()"
   ]
  },
  {
   "cell_type": "markdown",
   "id": "87076b4a",
   "metadata": {
    "lines_to_next_cell": 0
   },
   "source": [
    "When zoomed in, the blanks are somewhat overdispersed.\n",
    "\n",
    "# Spatial autocorrelation of QC metrics\n",
    "\n",
    "Again, we plot that zoomed in patch to visually inspect cell-cell contiguity:"
   ]
  },
  {
   "cell_type": "code",
   "execution_count": null,
   "id": "c0659bba",
   "metadata": {
    "lines_to_next_cell": 2
   },
   "outputs": [],
   "source": [
    "plotGeometry(sfe, \"cellSeg\", bbox = bbox_use)"
   ]
  },
  {
   "cell_type": "markdown",
   "id": "6c7d094f",
   "metadata": {},
   "source": [
    "There are quite a few cells that are not contiguous to any other cell, and cell segmentation is imperfect, so purely using `poly2nb()` is problematic. In the next release, we might implement a way to blend a polygon contiguity graph with some other graph in case of singletons. For now, we use k nearest neighbors with $k = 5$, which seems like a reasonable approximation of contiguity based on the visual inspection. \n",
    "\n",
    "As of Voyager 1.2.0 (Bioconductor 3.17), `findSpatialNeighbors()` by default uses `BiocNeighbors` for k nearest neighbors and distance neighbors and saving the distances between neighbors. This bypasses the most time consuming step in `spdep` when calculating distance based edge weights, which is to compute distance, hence greatly speeding up computation."
   ]
  },
  {
   "cell_type": "code",
   "execution_count": null,
   "id": "c067b3c3",
   "metadata": {},
   "outputs": [],
   "source": [
    "system.time(\n",
    "    colGraph(sfe, \"knn5\") <- findSpatialNeighbors(sfe, method = \"knearneigh\", \n",
    "                                                  dist_type = \"idw\", k = 5, \n",
    "                                                  style = \"W\")\n",
    ")"
   ]
  },
  {
   "cell_type": "markdown",
   "id": "7d7cdab1",
   "metadata": {},
   "source": [
    "With the spatial neighborhood graph, we can compute Moran's I for QC metrics."
   ]
  },
  {
   "cell_type": "code",
   "execution_count": null,
   "id": "fa77388c",
   "metadata": {},
   "outputs": [],
   "source": [
    "sfe <- colDataMoransI(sfe, c(\"nCounts\", \"nGenes\", \"volume\"), \n",
    "                      colGraphName = \"knn5\")"
   ]
  },
  {
   "cell_type": "code",
   "execution_count": null,
   "id": "c0897b34",
   "metadata": {},
   "outputs": [],
   "source": [
    "colFeatureData(sfe)[c(\"nCounts\", \"nGenes\", \"volume\"),]"
   ]
  },
  {
   "cell_type": "markdown",
   "id": "09872513",
   "metadata": {
    "lines_to_next_cell": 0
   },
   "source": [
    "Unlike the other smFISH-based datasets on this website, nCounts and nGenes have sizable negative Moran's I's, which is closer to 0 for volume. It would be interesting to compare these metrics across different tissues, as we add more datasets to `SFEData` in future releases.\n",
    "\n",
    "Also check local Moran's I, since in that little patch we examined above, some regions may have more positive spatial autocorrelation."
   ]
  },
  {
   "cell_type": "code",
   "execution_count": null,
   "id": "38ff9414",
   "metadata": {},
   "outputs": [],
   "source": [
    "sfe <- colDataUnivariate(sfe, type = \"localmoran\", \n",
    "                         features = c(\"nCounts\", \"nGenes\", \"volume\"),\n",
    "                         colGraphName = \"knn5\")"
   ]
  },
  {
   "cell_type": "code",
   "execution_count": null,
   "id": "e7e72433",
   "metadata": {
    "fig.height": 7,
    "fig.width": 9
   },
   "outputs": [],
   "source": [
    "plotLocalResult(sfe, \"localmoran\", c(\"nCounts\", \"nGenes\", \"volume\"),\n",
    "                colGeometryName = \"centroids\", scattermore = TRUE,\n",
    "                ncol = 2, divergent = TRUE, diverge_center = 0)"
   ]
  },
  {
   "cell_type": "markdown",
   "id": "b1595c47",
   "metadata": {
    "lines_to_next_cell": 0
   },
   "source": [
    "There are some niches around smaller blood vessels with positive local Moran's I for nCounts and nGenes. This is most likely due to the more homogeneous endothelial cells compared to hepatocytes.\n",
    "\n",
    "# Moran's I"
   ]
  },
  {
   "cell_type": "code",
   "execution_count": null,
   "id": "799e4024",
   "metadata": {},
   "outputs": [],
   "source": [
    "sfe <- logNormCounts(sfe)"
   ]
  },
  {
   "cell_type": "code",
   "execution_count": null,
   "id": "dfded81e",
   "metadata": {},
   "outputs": [],
   "source": [
    "system.time(\n",
    "    sfe <- runMoransI(sfe, BPPARAM = MulticoreParam(2))\n",
    ")"
   ]
  },
  {
   "cell_type": "markdown",
   "id": "f21fa7f9",
   "metadata": {},
   "source": [
    "It's actually not as slow as I thought for almost 400,000 cells. How are Moran's I's distributed for real genes and blank probes?"
   ]
  },
  {
   "cell_type": "code",
   "execution_count": null,
   "id": "a92a798a",
   "metadata": {},
   "outputs": [],
   "source": [
    "plotRowData(sfe, x = \"moran_sample01\", y = \"is_blank\") +\n",
    "    geom_hline(yintercept = 0, linetype = 2)"
   ]
  },
  {
   "cell_type": "markdown",
   "id": "2e719527",
   "metadata": {},
   "source": [
    "The blanks are clustered tightly around 0. The vast majority of real genes have positive spatial autocorrelation, some quite strong. But some genes have negative spatial autocorrelation, although it may or may not be statistically significant.\n",
    "\n",
    "Plot the top genes with positive spatial autocorrelation:"
   ]
  },
  {
   "cell_type": "code",
   "execution_count": null,
   "id": "b88325ea",
   "metadata": {
    "fig.height": 12,
    "fig.width": 9
   },
   "outputs": [],
   "source": [
    "top_moran <- rownames(sfe)[order(rowData(sfe)$moran_sample01, decreasing = TRUE)[1:6]]\n",
    "plotSpatialFeature(sfe, top_moran, colGeometryName = \"centroids\", scattermore = TRUE,\n",
    "                   ncol = 2)"
   ]
  },
  {
   "cell_type": "markdown",
   "id": "5454b7d7",
   "metadata": {},
   "source": [
    "Unlike in the other smFISH-based cancer datasets on this dataset, the genes with the highest Moran's I highlight different histological regions. Some probably for zones in the hepatic lobule, and some for blood vessels. It would be interesting to compare spatial autocorrelation of marker genes among different tissues and cell types.\n",
    "\n",
    "Negative Moran's I means that nearby cells tend to be more dissimilar to each other. That would be hard to see when plotting the whole tissue section, so we will use that bounding box again. The gene with the most negative Moran's I is compared to one with Moran's I closest to 0."
   ]
  },
  {
   "cell_type": "code",
   "execution_count": null,
   "id": "82dce4aa",
   "metadata": {
    "fig.height": 5,
    "fig.width": 9
   },
   "outputs": [],
   "source": [
    "bottom_moran <- rownames(sfe)[order(rowData(sfe)$moran_sample01)[1]]\n",
    "bottom_abs_moran <- rownames(sfe)[order(abs(rowData(sfe)$moran_sample01))[1]]\n",
    "plotSpatialFeature(sfe, c(bottom_moran, bottom_abs_moran), \n",
    "                   colGeometryName = \"cellSeg\", bbox = bbox_use)"
   ]
  },
  {
   "cell_type": "markdown",
   "id": "26ced3a3",
   "metadata": {
    "lines_to_next_cell": 0
   },
   "source": [
    "As expected, the feature with Moran's I closest to 0 is a blank.\n",
    "\n",
    "# Spatial autocorrelation at larger length scales\n",
    "The k nearest neighbor graph used above only concerns 5 cells around each cell, which is a very small neighborhood, over a very small length scale. In the current release of `Voyager`, a correlogram can be computed to get a sense of the length scale of spatial autocorrelation. However, since finding the lag values over higher and higher orders of neighborhoods is very slow for such a large number of cells for higher orders, the correlogram is not very helpful here. In this section, we use some other methods involving binning to explore spatial autocorrelation at larger length scales.\n",
    "\n",
    "## Binning\n",
    "The `sf` package can create polygons in a grid, with which we can bin the cells and their attributes and gene expressions. Here we make a 100 by 100 hexagonal grid in the bounding box of the cell centroids."
   ]
  },
  {
   "cell_type": "code",
   "execution_count": null,
   "id": "661f2c7b",
   "metadata": {},
   "outputs": [],
   "source": [
    "(bins <- st_make_grid(colGeometry(sfe, \"centroids\"), n = 100, square = FALSE))"
   ]
  },
  {
   "cell_type": "markdown",
   "id": "5f10948e",
   "metadata": {
    "lines_to_next_cell": 0
   },
   "source": [
    "Here we use this grid to bin the QC metrics by averaging the values from the cells. Since bins not completely covered by tissue have fewer cells, the mean may be less susceptible to edge effect than the sum, as bins near the edge will have lower sums, which may spuriously increase Moran's I. "
   ]
  },
  {
   "cell_type": "code",
   "execution_count": null,
   "id": "2ec86b28",
   "metadata": {},
   "outputs": [],
   "source": [
    "df <- cbind(colGeometry(sfe, \"centroids\"), colData(sfe)[,c(\"nCounts\", \"nGenes\", \"volume\")])\n",
    "df_binned <- aggregate(df, bins, FUN = mean)\n",
    "# Remove bins not containing cells\n",
    "df_binned <- df_binned[!is.na(df_binned$nCounts),]"
   ]
  },
  {
   "cell_type": "markdown",
   "id": "4817c6d8",
   "metadata": {
    "lines_to_next_cell": 0
   },
   "source": [
    "Plot the binned values:"
   ]
  },
  {
   "cell_type": "code",
   "execution_count": null,
   "id": "779ea8fb",
   "metadata": {
    "fig.height": 7,
    "fig.width": 9
   },
   "outputs": [],
   "source": [
    "# Not using facet_wrap to give each panel its own color scale\n",
    "plts <- lapply(c(\"nCounts\", \"nGenes\", \"volume\"), function(f) {\n",
    "    ggplot(df_binned[,f]) + geom_sf(aes(fill = .data[[f]]), linewidth = 0) +\n",
    "        scale_fill_distiller(palette = \"Blues\", direction = 1) + theme_void()\n",
    "})\n",
    "wrap_plots(plts, nrow = 2)"
   ]
  },
  {
   "cell_type": "markdown",
   "id": "ffa46bff",
   "metadata": {
    "lines_to_next_cell": 0
   },
   "source": [
    "There's an outlier bin not as evident when plotting single cells. There's still some edge effect around blood vessels. This might be truly edge effect, or that endothelial cells tend to have lower values in all 3 variables here.\n",
    "\n",
    "Then compute Moran's I over the binned data, with contiguity neighborhoods. `zero.policy = TRUE` because there are some bins with no neighbors."
   ]
  },
  {
   "cell_type": "code",
   "execution_count": null,
   "id": "4cbf71d8",
   "metadata": {},
   "outputs": [],
   "source": [
    "nb <- poly2nb(df_binned)\n",
    "listw <- nb2listw(nb, zero.policy = TRUE)"
   ]
  },
  {
   "cell_type": "code",
   "execution_count": null,
   "id": "de03b8bc",
   "metadata": {},
   "outputs": [],
   "source": [
    "calculateMoransI(t(as.matrix(st_drop_geometry(df_binned[,c(\"nCounts\", \"nGenes\", \"volume\")]))),\n",
    "                 listw = listw, zero.policy = TRUE)"
   ]
  },
  {
   "cell_type": "markdown",
   "id": "2d994090",
   "metadata": {},
   "source": [
    "At a larger length scale, Moran's I becomes positive. Comparing Moran's I across different sized bins can give a sense of the length scale of spatial autocorrelation. However, there are problems with binning to watch out for:\n",
    "\n",
    "1. Edge effect, especially when using the sum when binning\n",
    "2. Which function to use to aggregate the values when binning\n",
    "3. When using a rectangular grid, whether to use rook or queen neighbors. Rook means two cells are neighbors if they share an edge, while queen means they are neighbors even if they merely share a vertex. \n",
    "\n",
    "While binning can greatly speed up computation of spatial autocorrelation metrics for larger datasets, and is in fact used for Moran's I in Seurat, it can be used for smaller datasets to find length scales of spatial autocorrelation. On the other hand, as seen here, Moran's I can flip signs at different length scales, so for larger datasets, exploring spatial autocorrelation at the cell level would still be interesting.\n",
    "\n",
    "## Semivariogram\n",
    "In geostatistical data, an underlying spatial process is sampled at known locations. Kriging uses a Gaussian process to interpolate the values between the sample locations, and the semivariogram is used to model the spatial dependency between the locations as the covariance of the Gaussian process. When not kriging, the semivariogram can be used as an exploratory data analysis tool to find the length scale and anisotropy of spatial autocorrelation. One of the classic R packages in the geostatistical tradition is [`gstat`](https://cran.r-project.org/web/packages/gstat/index.html), which we use here to find semivariograms, defined as\n",
    "\n",
    "$$\n",
    "\\gamma(t) = \\frac 1 2 \\mathrm{Var}(X_t - X_0),\n",
    "$$\n",
    "\n",
    "where $X$ is the value such as gene expression, and $t$ is a spatial vector. $X_0$ is the value at a location of interest, and $X_t$ is the value lagged by $t$. With positive spatial autocorrelation, the variance would be smaller among nearby values, so the variogram would increase with distance, eventually leveling off when the distance is beyond the length scale of spatial autocorrelation. The \"semi\" comes from the 1/2.\n",
    "\n",
    "In the next release of Voyager, this will be part of `runUnivariate()` so the learning curve for users will be minimal.\n",
    "\n",
    "First we find an empirical variogram assuming that it's the same in all directions. Here the data is binned at distance intervals, so this is much faster than the correlogram at the cell level. The `width` argument controlls the bin size. The `cutoff` argument is the maximum distance to consider. Here we use the defaults. The first argument is a formula; covariates can be specified, but is not done here.\n",
    "\n",
    "With different widths and cutoffs, the variogram can be estimated at different length scales. The `gstat` package can also fit a model to the empirical variogram. See `vgm()` for the different types of models. The [`automap`](https://cran.r-project.org/web/packages/automap/) package can choose a model for the user, and is used here. \n",
    "\n",
    "Unfortunately, `gstat` doesn't scale to 400,000 cells, although it worked for 100,000 cells in the other smFISH-based datasets on this website. But since the variogram is used to explore larger length scales here anyway, we use the binned data here, but the problems with binning will apply."
   ]
  },
  {
   "cell_type": "code",
   "execution_count": null,
   "id": "9a97524c",
   "metadata": {
    "warning": false
   },
   "outputs": [],
   "source": [
    "# as_Spatial since automap uses old fashioned sp, the predecessor of sf\n",
    "v <- autofitVariogram(nCounts ~ 1, as_Spatial(df_binned))\n",
    "plot(v)"
   ]
  },
  {
   "cell_type": "markdown",
   "id": "790cbb8e",
   "metadata": {
    "lines_to_next_cell": 0
   },
   "source": [
    "The numbers in this plot are the number of pairs in each distance bin. The variogram is not 0 at 0 distance; this is the variance within the bin size, called the nugget. The variogram levels off at greater distance, and the value of the variogram where is levels off is the sill. Range is where the variogram is leveling off, indicating length scale of spatial autocorrelation; the range from visual inspection appears closer to 1000 while the model somehow indicates 423. \n",
    "\n",
    "A variogram map can be made to see how spatial autocorrelation may differ in different directions, i.e. anisotropy"
   ]
  },
  {
   "cell_type": "code",
   "execution_count": null,
   "id": "91310625",
   "metadata": {},
   "outputs": [],
   "source": [
    "v2 <- variogram(nCounts ~ 1, data = df_binned, width = 300, cutoff = 4500, map = TRUE)\n",
    "plot(v2)"
   ]
  },
  {
   "cell_type": "markdown",
   "id": "f9399edc",
   "metadata": {
    "lines_to_next_cell": 0
   },
   "source": [
    "Here apparently there's no anisotropy at shorter length scales, but there may be some artifact from the hexagonal bins. Going beyond 2000 (whatever unit), the variance drops at the northwest and southeast direction but not in other directions, perhaps related to the repetitiveness of the hepatic lobules and the general NE/SW direction of the blood vessels seen in the previous plots. \n",
    "\n",
    "The variogram can also be calculated at specified angles, here selected as sides of the hexagon:"
   ]
  },
  {
   "cell_type": "code",
   "execution_count": null,
   "id": "01a11d7e",
   "metadata": {},
   "outputs": [],
   "source": [
    "v3 <- variogram(nCounts ~ 1, df_binned, alpha = c(30, 90, 150))\n",
    "v3_model <- fit.variogram(v3, vgm(\"Ste\"))\n",
    "plot(v3, v3_model)"
   ]
  },
  {
   "cell_type": "markdown",
   "id": "8b374d2d",
   "metadata": {},
   "source": [
    "The variogram rises when going beyond 2000 at 30 and 90 degrees and drops at 150 degrees. This is consistent with the variogram map. These differences are averaged out in the omni-directional variogram. `gstat` does not fit anisotropy parameters, so the fitted curve is omni-directional. It fits pretty well below 2000. This is only for nCounts, and may differ for other QC metrics and genes. What if anisotropy varies in space? A problem with the variogram is that it's global, giving one result for the entire dataset, albeit more nuanced than just a number as in Moran's I, because kriging assumes that the data is intrinsically stationary, meaning that the same variogram model applies everywhere, and that spatial dependence only depends on lag between two observations.\n",
    "\n",
    "Voyager 1.2.0 implements `ggplot2` based plotting functions to make better looking and more customizable plots of the variograms for SFE objects. However, the binned data is not in an SFE object. We are considering writing a method to spatially bin all cell level data in an SFE object. Here `gstat` is using `lattice`, a predecessor of `ggplot2` to make facetted plots and has been superseded by `ggplot2`. `gstat` is one of the oldest R packages still on CRAN, dating back to the days of S (prequel of R), although its oldest archive on CRAN is from 2003. `spdep` is also really old; its oldest archive on CRAN is from 2002, but it's still in active development. In using these time honored packages and methods (Moran's I and Geary's C themselves date back to the 1950s and their modern form date back to 1969 [@Cliff1969-wp; @Bivand2013-jx]) on the cool new spatial transcriptomics dataset, we are participating in a glorious tradition, which we will further develop as a spatial analysis tradition forms around spatial -omics data analysis.\n",
    "\n",
    "# PCA for larger datasets\n",
    "There are many ways to do PCA in R, and the [`BiocSingular`](https://bioconductor.org/packages/release/bioc/html/BiocSingular.html) package makes a number of different methods available with a consistent user interface, and it supports out of memory data in `DelayedArray`. According to [this benchmark](https://slowkow.com/notes/pca-benchmark/), `stats::prcomp()` shipped with R is rather slow for larger datasets. The fastest methods are `irlba::irlba()` and `RSpectra::svds()`, and the former is supported by `BiocSingular`. So here we use IRLBA and see how long it takes. Many PCA algorithms involve repeated matrix multiplications. R does not come with optimized BLAS and LAPACK, for portability reasons. However, the BLAS and LAPACK used by R can be changed to an optimized one (here's [how to do it](https://cran.r-project.org/doc/manuals/r-release/R-admin.html#Shared-BLAS)), which will speed up matrix multiplication. "
   ]
  },
  {
   "cell_type": "code",
   "execution_count": null,
   "id": "36176c39",
   "metadata": {},
   "outputs": [],
   "source": [
    "set.seed(29)\n",
    "system.time(\n",
    "    sfe <- runPCA(sfe, ncomponents = 20, subset_row = !is_blank,\n",
    "                  exprs_values = \"logcounts\",\n",
    "                  scale = TRUE, BSPARAM = IrlbaParam())\n",
    ")\n",
    "gc()"
   ]
  },
  {
   "cell_type": "markdown",
   "id": "5333f20b",
   "metadata": {},
   "source": [
    "That's pretty quick for almost 400,000 cells, but there aren't that many genes here. Use the elbow plot to see variance explained by each PC:"
   ]
  },
  {
   "cell_type": "code",
   "execution_count": null,
   "id": "fc05e866",
   "metadata": {},
   "outputs": [],
   "source": [
    "ElbowPlot(sfe)"
   ]
  },
  {
   "cell_type": "markdown",
   "id": "b94de8dc",
   "metadata": {
    "lines_to_next_cell": 0
   },
   "source": [
    "Plot top gene loadings in each PC"
   ]
  },
  {
   "cell_type": "code",
   "execution_count": null,
   "id": "a85dd064",
   "metadata": {},
   "outputs": [],
   "source": [
    "plotDimLoadings(sfe)"
   ]
  },
  {
   "cell_type": "markdown",
   "id": "a16d9226",
   "metadata": {
    "lines_to_next_cell": 0
   },
   "source": [
    "Many of these genes seem to be related to the endothelium.\n",
    "\n",
    "Plot the first 4 PCs in space"
   ]
  },
  {
   "cell_type": "code",
   "execution_count": null,
   "id": "92d49b85",
   "metadata": {
    "fig.height": 7,
    "fig.width": 9
   },
   "outputs": [],
   "source": [
    "spatialReducedDim(sfe, \"PCA\", 4, colGeometryName = \"centroids\", scattermore = TRUE,\n",
    "                  divergent = TRUE, diverge_center = 0)"
   ]
  },
  {
   "cell_type": "markdown",
   "id": "de56f2b6",
   "metadata": {
    "lines_to_next_cell": 0
   },
   "source": [
    "PC1 and PC4 highlight the major blood vessels, while PC2 and PC3 have less spatial structure. While in the CosMX and Xenium datasets on this website, the top PCs have clear spatial structures despite the absence of spatial information in non-spatial PCA because of clear spatial compartments for some cell types, which does not seem to be the case in this dataset except for the blood vessels. We have seen above that some genes have strong spatial structures. There are some methods for spatially informed PCA, such as MULTISPATI PCA [@Dray2008-en] in the [`adespatial`](https://cran.r-project.org/web/packages/adespatial/index.html) package, which seeks to maximize both variance (as in non-spatial PCA) and Moran's I on each PC. Unlike traditional PCs, where all eigenvalues, signifying variance explained, are positive, MULTISPATI PCA can have negative eigenvalues, which signify negative spatial autocorrelation. The PCs from MULTISPATI PCA with positive eigenvalues are also more spatially coherent than those from non-spatial PCA. For the CosMX and Xenium datasets on this website, the spatial coherence from MULTISPATI might not make a difference, but it might make a difference in this dataset where non-spatial PCs don't show as much spatial structure, at least at the larger scale over the entire tissue section. Voyager 1.2.0 (Bioconductor 3.17) has a faster implementation of MULTISPATI PCA than that of `adespatial`, and is demonstrated in this dataset in [another vignette](https://pachterlab.github.io/voyager/articles/multispati.html).\n",
    "\n",
    "While PC2 and PC3 don't seem to have large scale spatial structure, they may have more local spatial structure not obvious from plotting the entire section, so we zoom into the bounding box:"
   ]
  },
  {
   "cell_type": "code",
   "execution_count": null,
   "id": "7e18b723",
   "metadata": {
    "fig.height": 5,
    "fig.width": 9
   },
   "outputs": [],
   "source": [
    "spatialReducedDim(sfe, \"PCA\", ncomponents = 2:3, colGeometryName = \"cellSeg\",\n",
    "                  bbox = bbox_use, divergent = TRUE, diverge_center = 0)"
   ]
  },
  {
   "cell_type": "markdown",
   "id": "6b991e4e",
   "metadata": {},
   "source": [
    "There's some spatial structure in PC2 and PC3 at a smaller scale, perhaps some negative spatial autocorrelation.\n",
    "\n",
    "Like global Moran's I, PCA and MULTISPATI PCA return one result for the entire dataset. In contrast, [geographically weighted PCA (GWPCA)](https://rdrr.io/cran/GWmodel/man/gwpca.html) [@Harris2015-sr] can account for spatial heterogeneity. GWPCA runs PCA at each spatial location using only the nearby locations weighed by a kernel. The different locations can have different PCs, and the results can be visualized with \"winning variables\" in each PC, i.e. plotting which feature has the highest loading in each PC in space. This most likely doesn't scale to 400,000 cells, but it would still be interesting when performed on spatially binned data. GWPCA might be added in Bioconductor 3.18 and would require some changes in the user interface, because GWPCA is about the features rather than cell embeddings.\n",
    "\n",
    "# More challenges from large datasets\n",
    "Here, despite the numerous cells, the data was loaded into memory. What if the data doesn't fit into memory? We might write a new vignette with `DelayedArray` demonstrating out of memory data analysis for Bioconductor 3.18. This is already supported by `SingleCellExperiment`, which SFE inherits from. However, the geometries, graphs, and local results can take up a lot memory as well. These can possibly be stored in SQL databases and operated on with [`SQLDataFrame`](https://bioconductor.org/packages/release/bioc/html/SQLDataFrame.html). The geometric operations can be handled by [`sedona`](https://github.com/apache/incubator-sedona), although the options are limited compared to GEOS, which performs geometric operations behind the scene for `sf`.\n",
    "\n",
    "Another question can be raised about large spatial transcriptomics data: Is it still a good idea to analyze the entire dataset at once? There must be many interesting and unique neighborhoods that might not get the attention they deserve when the whole dataset is analyzed at once. After all, in the geographical space, national level data is usually not analyzed at the block resolution, although a reason for this is privacy of the subjects. County resolution is often used, but there aren't hundreds of thousands of counties. Many analyses are done for cities and counties with neighborhood resolution; using the largest geographical unit isn't always the most relevant. Back to histological space: How to aggregate cells into larger spatial units? How to decide which scale of spatial units (analogous to nation vs state vs county and etc) is relevant? We have traditional anatomical ontologies, such as from the Allen Brain Atlas, but this isn't available for all tissues. Also, with more single cell -omics data, the traditional ontologies can be improved.\n",
    "\n",
    "Furthermore, there are 3D thick section single cell resolution spatial transcriptomics data, such as from STARmap [@Wang2018-cv] and EASI-FISH [@Wang2021-fv], although the vast majority of spatial -omics data are from thin sections pretty much _de facto_ 2D. As we mostly live on the surface of Earth, there are many more 2D geospatial resources than 3D. However, some methods can in principle be applied to 3D and the existing software primarily made for 2D data might work. For example, GEOS supports 3D data, so in principle 3D geometries in `sf` should work, although there's little documentation on this. Also, k nearest neighbor, Moran's I, variograms, and etc. should in principle work in 3D, and `gstat` officially supports 3D. These are more challenges related to 3D data:\n",
    "\n",
    "1. Even when multiple z-planes are imaged, the resolution is much lower in the z direction than the x and y directions. Then should the z-plane be treated as an attribute or as a coordinate?\n",
    "2. How to make static plots for 3D data for publications? This is more complicated than plotting z-planes separately, since a 3D block can be sectioned from any other direction. Also for interactive visualization, we need to somehow see through the tissue. \n",
    "\n",
    "Finally, the geospatial tradition is only one tradition relevant to large spatial data, and at present `Voyager` only works with vector data. We are uncertain whether raster should be added in a later version, and there are existing tools for large raster data as well, such as [TileDB](https://docs.tiledb.com/geospatial/). Other traditions can be relevant, such as astronomy and image processing, but those are beyond the scope of this package.\n",
    "\n",
    "# Session Info"
   ]
  },
  {
   "cell_type": "code",
   "execution_count": null,
   "id": "06f3ef64",
   "metadata": {},
   "outputs": [],
   "source": [
    "sessionInfo()"
   ]
  },
  {
   "cell_type": "markdown",
   "id": "be9b6037",
   "metadata": {},
   "source": [
    "# References"
   ]
  }
 ],
 "metadata": {
  "kernelspec": {
   "display_name": "R",
   "language": "R",
   "name": "ir"
  }
 },
 "nbformat": 4,
 "nbformat_minor": 5
}
||||||| 6b0d1f4
=======
{
 "cells": [
  {
   "cell_type": "raw",
   "id": "9440a8da",
   "metadata": {},
   "source": [
    "---\n",
    "title: \"MERFISH mouse liver dataset and considerations of large data\"\n",
    "author: \"Lambda Moses\"\n",
    "date: \"`r Sys.Date()`\"\n",
    "output: \n",
    "  html_document:\n",
    "  toc: true\n",
    "  toc_float:\n",
    "    collapsed: false\n",
    "  toc_depth: 3\n",
    "bibliography: ref.bib\n",
    "vignette: >\n",
    "  %\\VignetteIndexEntry{merfish}\n",
    "  %\\VignetteEngine{knitr::rmarkdown}\n",
    "  %\\VignetteEncoding{UTF-8}\n",
    "---"
   ]
  },
  {
   "cell_type": "code",
   "execution_count": null,
   "id": "d1e4bb4b",
   "metadata": {
    "tags": [
     "remove_cell"
    ]
   },
   "outputs": [],
   "source": [
    "knitr::opts_chunk$set(\n",
    "  collapse = TRUE,\n",
    "  comment = \"#>\"\n",
    ")"
   ]
  },
  {
   "cell_type": "code",
   "execution_count": null,
   "id": "bdaca247",
   "metadata": {
    "eval": false,
    "tags": [
     "remove_cell"
    ]
   },
   "outputs": [],
   "source": [
    "# Install Google Colab dependencies\n",
    "# Note: this can take 30+ minutes (many of the dependencies include C++ code, which needs to be compiled)\n",
    "\n",
    "# First install `sf`, `ragg` and `textshaping` and their system dependencies:\n",
    "system(\"apt-get -y update && apt-get install -y  libudunits2-dev libgdal-dev libgeos-dev libproj-dev libharfbuzz-dev libfribidi-dev\")\n",
    "install.packages(\"sf\")\n",
    "install.packages(\"textshaping\")\n",
    "install.packages(\"ragg\")\n",
    "\n",
    "# Install system dependencies of some other R packages that Voyager either imports or suggests:\n",
    "system(\"apt-get install -y libfribidi-dev libcairo2-dev libmagick++-dev\")\n",
    "\n",
    "# Install Voyager from Bioconductor:\n",
    "install.packages(\"BiocManager\")\n",
    "BiocManager::install(version = \"3.17\", ask = FALSE, update = FALSE, Ncpus = 2)\n",
    "BiocManager::install(\"scater\")\n",
    "system.time(\n",
    "  BiocManager::install(\"Voyager\", dependencies = TRUE, Ncpus = 2, update = FALSE)\n",
    ")\n",
    "\n",
    "packageVersion(\"Voyager\")"
   ]
  },
  {
   "cell_type": "markdown",
   "id": "bd3db996",
   "metadata": {
    "lines_to_next_cell": 0
   },
   "source": [
    "# Introduction\n",
    "\n",
    "The `SpatialFeatureExperiment` (SFE) and `Voyager` packages were originally developed around a relatively small Visium dataset as a proof of concept, and were hence not originally optimized for very large datasets. However, larger smFISH datasets with hundreds of thousands, sometimes over a million cells have already been produced and will soon be produced routinely. Among studies using smFISH-based spatial transcriptomics technologies that reported the number of cells per dataset, the number of cells per dataset has increased in the past years [@Moses2022-xz].\n",
    "![alt](https://pachterlab.github.io/LP_2021/05-current-techs_files/figure-html/smfish-lm-cell-1.png)\n",
    "\n",
    "In anticipation of large datasets, this vignette was produced using limited GitHub Actions resources (MacOS), which are 14 GB of RAM with 3 CPU cores and 14 GB of disk space, comparable to laptops. We therefore expect that the analyses in this vignette should scale to reasonably sized datasets.  \n",
    "\n",
    "The dataset we use in this vignette is a MERFISH mouse liver dataset downloaded from the [Vizgen website](https://console.cloud.google.com/storage/browser/vz-liver-showcase/Liver1Slice1). We will use it to discuss some issues with large datasets and some upcoming features in the next release of `Voyager`. The gene count matrix and cell metadata (including centroid coordinates) were downloaded as CSV files and read into R. While 7 z-planes were imaged, cell segmentation is only available in one z-plane. The cell polygons are in HDF5 files, with one HDF5 file per field of view (FOV), and there are over 1000 FOVs in this dataset. Converting these HDF5 files into an `sf` data frame is not trivial. See the [vignette on creating a `SpatialFeatureExperiment` (SFE) object](https://pachterlab.github.io/voyager/articles/create_sfe.html#technology-specific-notes) for code used to do the conversion, and the polygons are included in the SFE object. The cell metadata already has cell volume. If the polygons are not used in the analyses, and the polygons can't be seen on a static plot with hundreds of thousands of cells anyway, then doing the conversion is optional. While the transcript spot locations are available, we cannot yet work with such a large point dataset.\n",
    "\n",
    "Here we load the packages used. "
   ]
  },
  {
   "cell_type": "code",
   "execution_count": null,
   "id": "4ea0cc44",
   "metadata": {
    "name": "setup"
   },
   "outputs": [],
   "source": [
    "library(Voyager)\n",
    "library(SFEData)\n",
    "library(SingleCellExperiment)\n",
    "library(SpatialExperiment)\n",
    "library(scater) \n",
    "library(ggplot2)\n",
    "library(patchwork)\n",
    "library(stringr)\n",
    "library(spdep)\n",
    "library(BiocParallel)\n",
    "library(BiocSingular)\n",
    "library(gstat)\n",
    "library(BiocNeighbors)\n",
    "library(sf)\n",
    "library(automap)\n",
    "theme_set(theme_bw())"
   ]
  },
  {
   "cell_type": "code",
   "execution_count": null,
   "id": "ddd41d01",
   "metadata": {},
   "outputs": [],
   "source": [
    "(sfe <- VizgenLiverData())"
   ]
  },
  {
   "cell_type": "markdown",
   "id": "589f54d0",
   "metadata": {
    "lines_to_next_cell": 0
   },
   "source": [
    "There are 395,215 cells in this dataset. Plotting them all as polygons takes a while, but it isn't too bad."
   ]
  },
  {
   "cell_type": "code",
   "execution_count": null,
   "id": "c8baa0d1",
   "metadata": {
    "fig.height": 6,
    "fig.width": 9
   },
   "outputs": [],
   "source": [
    "plotGeometry(sfe, \"cellSeg\")"
   ]
  },
  {
   "cell_type": "markdown",
   "id": "fdc49cff",
   "metadata": {
    "lines_to_next_cell": 0
   },
   "source": [
    "However, we do not wish to save this plot as PDF. To avoid this problem, we can either use the `scattermore = TRUE` argument in `plotSpatialFeature()` and plot the centroids since the polygons are hard to see anyway. \n",
    "\n",
    "Cell density can be vaguely seen in the plot above. Here we count the number of cells in bins to better visualize cell density."
   ]
  },
  {
   "cell_type": "code",
   "execution_count": null,
   "id": "7a4ac267",
   "metadata": {
    "fig.height": 6,
    "fig.width": 9
   },
   "outputs": [],
   "source": [
    "plotCellBin2D(sfe, bins = 300, hex = TRUE)"
   ]
  },
  {
   "cell_type": "markdown",
   "id": "6f4b9c02",
   "metadata": {
    "lines_to_next_cell": 0
   },
   "source": [
    "Cell density is for the most part homogeneous but shows some structure with denser regions that seem to relate to the blood vessels.\n",
    "\n",
    "# Quality control"
   ]
  },
  {
   "cell_type": "code",
   "execution_count": null,
   "id": "55a9c575",
   "metadata": {},
   "outputs": [],
   "source": [
    "names(colData(sfe))"
   ]
  },
  {
   "cell_type": "markdown",
   "id": "fdba3a8c",
   "metadata": {
    "lines_to_next_cell": 0
   },
   "source": [
    "Plotting almost 400,000 polygons is kind of slow but doable."
   ]
  },
  {
   "cell_type": "code",
   "execution_count": null,
   "id": "78401ca9",
   "metadata": {},
   "outputs": [],
   "source": [
    "system.time(\n",
    "    print(plotSpatialFeature(sfe, \"nCounts\", colGeometryName = \"cellSeg\"))\n",
    ")"
   ]
  },
  {
   "cell_type": "markdown",
   "id": "07cb55be",
   "metadata": {},
   "source": [
    "Here nCounts kind of looks like salt and pepper. Using the [`scattermore`](https://github.com/exaexa/scattermore) package can speed up plotting a large number of points. In this non-interactive plot, the cell polygons are too small to see anyway, so plotting cell centroid points should be fine. "
   ]
  },
  {
   "cell_type": "code",
   "execution_count": null,
   "id": "678306ab",
   "metadata": {},
   "outputs": [],
   "source": [
    "system.time({\n",
    "    print(plotSpatialFeature(sfe, \"nCounts\", colGeometryName = \"centroids\",\n",
    "                             scattermore = TRUE))\n",
    "})"
   ]
  },
  {
   "cell_type": "markdown",
   "id": "7cf597c1",
   "metadata": {},
   "source": [
    "When run on our server, plotting almost 400,000 polygons took around 23 seconds, while using `geom_scattermore()` (`scattermore = TRUE`) took about 2 seconds. Since `geom_scattermore()` rasterizes the plot, the plot will be pixelated when zoomed in. \n",
    "\n",
    "While interactive data visualization is useful for ESDA, there is a need for static figures in publications. As of Voyager 1.2.0 (Bioconductor 3.17), a bounding box can be specified to zoom into the data."
   ]
  },
  {
   "cell_type": "code",
   "execution_count": null,
   "id": "56d927c9",
   "metadata": {},
   "outputs": [],
   "source": [
    "bbox_use <- c(xmin = 3000, xmax = 3500, ymin = 2500, ymax = 3000)"
   ]
  },
  {
   "cell_type": "code",
   "execution_count": null,
   "id": "b4200be9",
   "metadata": {},
   "outputs": [],
   "source": [
    "plotSpatialFeature(sfe, \"nCounts\", colGeometryName = \"cellSeg\", bbox = bbox_use)"
   ]
  },
  {
   "cell_type": "markdown",
   "id": "94fcc60b",
   "metadata": {
    "lines_to_next_cell": 0
   },
   "source": [
    "Much of the time making this plot is spent subsetting the `sf` data frame with the bounding box. Here, spatial autocorrelation is evident in the upper right region with smaller cells, but less so in the rest of this patch. nCounts seems to be related to cell size; larger cells seem to have more total counts.\n",
    "\n",
    "Interactive data visualization is currently beyond the scope of `Voyager` or this vignette. There are existing tools for interactive visualization of highly multiplexed imaging data, such as [`MERmaid`](https://github.com/JEFworks-Lab/MERmaid) [@Wang2020-sv] for MERFISH data, [`TissUUmaps`](https://github.com/TissUUmaps/TissUUmapsCore) [@Pielawski2022-wk], and [`Visinity`](https://github.com/labsyspharm/visinity) [@Warchol2022-zw].\n",
    "\n",
    "Since there aren't too many genes, all genes and negative control probes can be displayed:"
   ]
  },
  {
   "cell_type": "code",
   "execution_count": null,
   "id": "38a289b5",
   "metadata": {},
   "outputs": [],
   "source": [
    "rownames(sfe)"
   ]
  },
  {
   "cell_type": "markdown",
   "id": "962ed9eb",
   "metadata": {},
   "source": [
    "The number of real genes is 347."
   ]
  },
  {
   "cell_type": "code",
   "execution_count": null,
   "id": "d95bbc73",
   "metadata": {},
   "outputs": [],
   "source": [
    "n_panel <- 347"
   ]
  },
  {
   "cell_type": "markdown",
   "id": "0b6da921",
   "metadata": {
    "lines_to_next_cell": 0
   },
   "source": [
    "Next, we plot the distribution of nCounts divided by the number of genes in the panel, so this distribution is more comparable across datasets with different numbers of genes."
   ]
  },
  {
   "cell_type": "code",
   "execution_count": null,
   "id": "0a80a909",
   "metadata": {},
   "outputs": [],
   "source": [
    "colData(sfe)$nCounts_normed <- sfe$nCounts / n_panel\n",
    "colData(sfe)$nGenes_normed <- sfe$nGenes / n_panel"
   ]
  },
  {
   "cell_type": "code",
   "execution_count": null,
   "id": "7d6cb6ea",
   "metadata": {},
   "outputs": [],
   "source": [
    "plotColDataHistogram(sfe, c(\"nCounts_normed\", \"nGenes_normed\"))"
   ]
  },
  {
   "cell_type": "markdown",
   "id": "21ec72b3",
   "metadata": {
    "lines_to_next_cell": 0
   },
   "source": [
    "As with the [Xenium dataset](https://pachterlab.github.io/voyager/articles/vig5_xenium.html#cells), there are mysterious regular notches in the histogram of the number of genes detected.\n",
    "\n",
    "We also plot the number of genes detected per cell, with `geom_scattermore()`."
   ]
  },
  {
   "cell_type": "code",
   "execution_count": null,
   "id": "bec876df",
   "metadata": {},
   "outputs": [],
   "source": [
    "plotSpatialFeature(sfe, \"nGenes\", colGeometryName = \"centroids\", scattermore = TRUE)"
   ]
  },
  {
   "cell_type": "markdown",
   "id": "e5be15a8",
   "metadata": {
    "lines_to_next_cell": 0
   },
   "source": [
    "Similarly to nCounts, the points look intermingled. \n",
    "\n",
    "Distribution of cell volume in space:"
   ]
  },
  {
   "cell_type": "code",
   "execution_count": null,
   "id": "b9b35c66",
   "metadata": {},
   "outputs": [],
   "source": [
    "plotSpatialFeature(sfe, \"volume\", colGeometryName = \"centroids\", scattermore = TRUE)"
   ]
  },
  {
   "cell_type": "markdown",
   "id": "5da4e761",
   "metadata": {
    "lines_to_next_cell": 0
   },
   "source": [
    "Next, we explore how nCounts relates to nGenes:"
   ]
  },
  {
   "cell_type": "code",
   "execution_count": null,
   "id": "9fbf6806",
   "metadata": {},
   "outputs": [],
   "source": [
    "plotColDataBin2D(sfe, \"nCounts\", \"nGenes\")"
   ]
  },
  {
   "cell_type": "markdown",
   "id": "cbd18d4c",
   "metadata": {
    "lines_to_next_cell": 0
   },
   "source": [
    "There are two branches in this plot. \n",
    "\n",
    "How does cell size relate to nCounts?"
   ]
  },
  {
   "cell_type": "code",
   "execution_count": null,
   "id": "044ae51c",
   "metadata": {},
   "outputs": [],
   "source": [
    "plotColDataBin2D(sfe, \"volume\", \"nCounts\")"
   ]
  },
  {
   "cell_type": "markdown",
   "id": "63e2ef8c",
   "metadata": {
    "lines_to_next_cell": 0
   },
   "source": [
    "The lower branch has the larger cells that don't tend to have more total counts, and the upper branch has larger cells that tend to have more total counts.\n",
    "\n",
    "We also examine how cell size relates to number of genes detected:"
   ]
  },
  {
   "cell_type": "code",
   "execution_count": null,
   "id": "a1bc7eb2",
   "metadata": {},
   "outputs": [],
   "source": [
    "plotColDataBin2D(sfe, \"volume\", \"nGenes\")"
   ]
  },
  {
   "cell_type": "markdown",
   "id": "40f1504c",
   "metadata": {
    "lines_to_next_cell": 0
   },
   "source": [
    "There seem to be clusters that are possibly related to cell type. \n",
    "\n",
    "### Negative controls\n",
    "Blank probes are used as negative controls."
   ]
  },
  {
   "cell_type": "code",
   "execution_count": null,
   "id": "2d55cbc6",
   "metadata": {},
   "outputs": [],
   "source": [
    "is_blank <- str_detect(rownames(sfe), \"^Blank-\")"
   ]
  },
  {
   "cell_type": "code",
   "execution_count": null,
   "id": "f233b9c0",
   "metadata": {},
   "outputs": [],
   "source": [
    "sfe <- addPerCellQCMetrics(sfe, subset = list(blank = is_blank))"
   ]
  },
  {
   "cell_type": "code",
   "execution_count": null,
   "id": "97bfddf0",
   "metadata": {},
   "outputs": [],
   "source": [
    "names(colData(sfe))"
   ]
  },
  {
   "cell_type": "markdown",
   "id": "055d6447",
   "metadata": {
    "lines_to_next_cell": 0
   },
   "source": [
    "Total transcript counts from the blank probes:"
   ]
  },
  {
   "cell_type": "code",
   "execution_count": null,
   "id": "07a95e1a",
   "metadata": {},
   "outputs": [],
   "source": [
    "plotSpatialFeature(sfe, \"subsets_blank_sum\", colGeometryName = \"centroids\",\n",
    "                   scattermore = TRUE)"
   ]
  },
  {
   "cell_type": "markdown",
   "id": "dba34439",
   "metadata": {
    "lines_to_next_cell": 0
   },
   "source": [
    "Number of blank features detected per cell:"
   ]
  },
  {
   "cell_type": "code",
   "execution_count": null,
   "id": "8374f0a9",
   "metadata": {},
   "outputs": [],
   "source": [
    "plotSpatialFeature(sfe, \"subsets_blank_detected\", colGeometryName = \"centroids\",\n",
    "                   scattermore = TRUE)"
   ]
  },
  {
   "cell_type": "markdown",
   "id": "c3c65abc",
   "metadata": {
    "lines_to_next_cell": 0
   },
   "source": [
    "Percentage of blank features per cell:"
   ]
  },
  {
   "cell_type": "code",
   "execution_count": null,
   "id": "af04bc18",
   "metadata": {},
   "outputs": [],
   "source": [
    "plotSpatialFeature(sfe, \"subsets_blank_percent\", colGeometryName = \"centroids\",\n",
    "                   scattermore = TRUE)"
   ]
  },
  {
   "cell_type": "markdown",
   "id": "c789aa50",
   "metadata": {
    "lines_to_next_cell": 0
   },
   "source": [
    "The percentage is more interesting: within the tissue, cells with high percentage of blank counts are scattered like salt and pepper, but more of these cells are on the left edge of the tissue, the edges of FOVs, where the tissue itself doesn't end. \n",
    "\n",
    "Also plot histograms: "
   ]
  },
  {
   "cell_type": "code",
   "execution_count": null,
   "id": "b09d7532",
   "metadata": {},
   "outputs": [],
   "source": [
    "plotColDataHistogram(sfe, paste0(\"subsets_blank_\", c(\"sum\", \"detected\", \"percent\")))"
   ]
  },
  {
   "cell_type": "markdown",
   "id": "a7b14364",
   "metadata": {
    "lines_to_next_cell": 0
   },
   "source": [
    "The NA's are cells without any transcript detected. "
   ]
  },
  {
   "cell_type": "code",
   "execution_count": null,
   "id": "e967ef1c",
   "metadata": {},
   "outputs": [],
   "source": [
    "mean(sfe$subsets_blank_sum > 0)"
   ]
  },
  {
   "cell_type": "markdown",
   "id": "a849bc8d",
   "metadata": {
    "lines_to_next_cell": 0
   },
   "source": [
    "Unlike in the Xenium dataset, here most cells have at least one blank count. By log transforming, the zeroes are removed from the plot. "
   ]
  },
  {
   "cell_type": "code",
   "execution_count": null,
   "id": "613cdb87",
   "metadata": {},
   "outputs": [],
   "source": [
    "plotColDataHistogram(sfe, \"subsets_blank_percent\") +\n",
    "    scale_x_log10() +\n",
    "    annotation_logticks()"
   ]
  },
  {
   "cell_type": "markdown",
   "id": "e113b9bb",
   "metadata": {},
   "source": [
    "A small percentage of blank counts is acceptable. So we will remove the outlier based on the distribution of the percentage when it's greater than zero. How does the blank percentage relate to total counts?"
   ]
  },
  {
   "cell_type": "code",
   "execution_count": null,
   "id": "1527f979",
   "metadata": {},
   "outputs": [],
   "source": [
    "plotColDataBin2D(sfe, \"nCounts\", \"subsets_blank_percent\") +\n",
    "    scale_fill_viridis_c()"
   ]
  },
  {
   "cell_type": "markdown",
   "id": "1c13974f",
   "metadata": {
    "lines_to_next_cell": 0
   },
   "source": [
    "The outliers in percentage of blank counts have low total counts. But there are some seemingly real cells with sizable nCounts which have a relatively high percentage of blank counts. Since the distribution of this percentage has a very long tail, we log transform it when finding outliers."
   ]
  },
  {
   "cell_type": "code",
   "execution_count": null,
   "id": "440a2373",
   "metadata": {},
   "outputs": [],
   "source": [
    "get_neg_ctrl_outliers <- function(col, sfe, nmads = 3, log = FALSE) {\n",
    "    inds <- colData(sfe)$nCounts > 0 & colData(sfe)[[col]] > 0\n",
    "    df <- colData(sfe)[inds,]\n",
    "    outlier_inds <- isOutlier(df[[col]], type = \"higher\", nmads = nmads, log = log)\n",
    "    outliers <- rownames(df)[outlier_inds]\n",
    "    col2 <- str_remove(col, \"^subsets_\")\n",
    "    col2 <- str_remove(col2, \"_percent$\")\n",
    "    new_colname <- paste(\"is\", col2, \"outlier\", sep = \"_\")\n",
    "    colData(sfe)[[new_colname]] <- colnames(sfe) %in% outliers\n",
    "    sfe\n",
    "}"
   ]
  },
  {
   "cell_type": "code",
   "execution_count": null,
   "id": "42be7e8b",
   "metadata": {},
   "outputs": [],
   "source": [
    "sfe <- get_neg_ctrl_outliers(\"subsets_blank_percent\", sfe, log = TRUE)"
   ]
  },
  {
   "cell_type": "markdown",
   "id": "15f6d2c8",
   "metadata": {
    "lines_to_next_cell": 0
   },
   "source": [
    "What proportion of all cells are outliers?"
   ]
  },
  {
   "cell_type": "code",
   "execution_count": null,
   "id": "c9cd0ae7",
   "metadata": {},
   "outputs": [],
   "source": [
    "mean(sfe$is_blank_outlier)"
   ]
  },
  {
   "cell_type": "markdown",
   "id": "aa361112",
   "metadata": {
    "lines_to_next_cell": 0
   },
   "source": [
    "What's the cutoff for outlier?"
   ]
  },
  {
   "cell_type": "code",
   "execution_count": null,
   "id": "f9e1e9dd",
   "metadata": {},
   "outputs": [],
   "source": [
    "min(sfe$subsets_blank_percent[sfe$is_blank_outlier])"
   ]
  },
  {
   "cell_type": "markdown",
   "id": "f60415d7",
   "metadata": {
    "lines_to_next_cell": 0
   },
   "source": [
    "Remove the outliers and empty cells:"
   ]
  },
  {
   "cell_type": "code",
   "execution_count": null,
   "id": "207a4c3c",
   "metadata": {},
   "outputs": [],
   "source": [
    "(sfe <- sfe[, !sfe$is_blank_outlier & sfe$nCounts > 0])"
   ]
  },
  {
   "cell_type": "markdown",
   "id": "4b5dd5d7",
   "metadata": {
    "lines_to_next_cell": 0
   },
   "source": [
    "There still are over 390,000 cells left after removing the outliers.\n",
    "\n",
    "## Genes\n",
    "Here we look at the mean and variance of each gene:"
   ]
  },
  {
   "cell_type": "code",
   "execution_count": null,
   "id": "9f05e051",
   "metadata": {},
   "outputs": [],
   "source": [
    "rowData(sfe)$means <- rowMeans(counts(sfe))\n",
    "rowData(sfe)$vars <- rowVars(counts(sfe))"
   ]
  },
  {
   "cell_type": "code",
   "execution_count": null,
   "id": "ba035d8b",
   "metadata": {},
   "outputs": [],
   "source": [
    "rowData(sfe)$is_blank <- is_blank\n",
    "plotRowData(sfe, x = \"means\", y = \"is_blank\") +\n",
    "    scale_y_log10() +\n",
    "    annotation_logticks(sides = \"b\")"
   ]
  },
  {
   "cell_type": "markdown",
   "id": "03069ce6",
   "metadata": {
    "lines_to_next_cell": 0
   },
   "source": [
    "Most genes display higher mean expression than blanks, but there is considerable overlap in the distribution, probably because some genes expressed at lower levels or in fewer cells are included.\n",
    "\n",
    "Here the \"real\" genes and negative controls are plotted in different colors:"
   ]
  },
  {
   "cell_type": "code",
   "execution_count": null,
   "id": "3a6e6c29",
   "metadata": {},
   "outputs": [],
   "source": [
    "plotRowData(sfe, x = \"means\", y = \"vars\", colour_by = \"is_blank\") +\n",
    "    geom_abline(slope = 1, intercept = 0, color = \"red\") +\n",
    "    scale_x_log10() + scale_y_log10() +\n",
    "    annotation_logticks() +\n",
    "    coord_equal()"
   ]
  },
  {
   "cell_type": "markdown",
   "id": "0c2a63ec",
   "metadata": {
    "lines_to_next_cell": 0
   },
   "source": [
    "The red line $y = x$ is expected when the data follows a Poisson distribution. "
   ]
  },
  {
   "cell_type": "code",
   "execution_count": null,
   "id": "76968d76",
   "metadata": {},
   "outputs": [],
   "source": [
    "as.data.frame(rowData(sfe)[is_blank,]) |> \n",
    "    ggplot(aes(means, vars)) +\n",
    "    geom_point() +\n",
    "    geom_abline(slope = 1, intercept = 0, color = \"red\") +\n",
    "    scale_x_log10() + scale_y_log10() +\n",
    "    annotation_logticks() +\n",
    "    coord_equal()"
   ]
  },
  {
   "cell_type": "markdown",
   "id": "8f8e04e6",
   "metadata": {
    "lines_to_next_cell": 0
   },
   "source": [
    "When zoomed in, the blanks are somewhat overdispersed.\n",
    "\n",
    "# Spatial autocorrelation of QC metrics\n",
    "\n",
    "Again, we plot that zoomed in patch to visually inspect cell-cell contiguity:"
   ]
  },
  {
   "cell_type": "code",
   "execution_count": null,
   "id": "418a4004",
   "metadata": {
    "lines_to_next_cell": 2
   },
   "outputs": [],
   "source": [
    "plotGeometry(sfe, \"cellSeg\", bbox = bbox_use)"
   ]
  },
  {
   "cell_type": "markdown",
   "id": "1f4f24d9",
   "metadata": {},
   "source": [
    "There are quite a few cells that are not contiguous to any other cell, and cell segmentation is imperfect, so purely using `poly2nb()` is problematic. In the next release, we might implement a way to blend a polygon contiguity graph with some other graph in case of singletons. For now, we use k nearest neighbors with $k = 5$, which seems like a reasonable approximation of contiguity based on the visual inspection. \n",
    "\n",
    "As of Voyager 1.2.0 (Bioconductor 3.17), `findSpatialNeighbors()` by default uses `BiocNeighbors` for k nearest neighbors and distance neighbors and saving the distances between neighbors. This bypasses the most time consuming step in `spdep` when calculating distance based edge weights, which is to compute distance, hence greatly speeding up computation."
   ]
  },
  {
   "cell_type": "code",
   "execution_count": null,
   "id": "675c41a5",
   "metadata": {},
   "outputs": [],
   "source": [
    "system.time(\n",
    "    colGraph(sfe, \"knn5\") <- findSpatialNeighbors(sfe, method = \"knearneigh\", \n",
    "                                                  dist_type = \"idw\", k = 5, \n",
    "                                                  style = \"W\")\n",
    ")"
   ]
  },
  {
   "cell_type": "markdown",
   "id": "abfae671",
   "metadata": {},
   "source": [
    "With the spatial neighborhood graph, we can compute Moran's I for QC metrics."
   ]
  },
  {
   "cell_type": "code",
   "execution_count": null,
   "id": "7bdfe384",
   "metadata": {},
   "outputs": [],
   "source": [
    "sfe <- colDataMoransI(sfe, c(\"nCounts\", \"nGenes\", \"volume\"), \n",
    "                      colGraphName = \"knn5\")"
   ]
  },
  {
   "cell_type": "code",
   "execution_count": null,
   "id": "dbdbf535",
   "metadata": {},
   "outputs": [],
   "source": [
    "colFeatureData(sfe)[c(\"nCounts\", \"nGenes\", \"volume\"),]"
   ]
  },
  {
   "cell_type": "markdown",
   "id": "a8163a43",
   "metadata": {
    "lines_to_next_cell": 0
   },
   "source": [
    "Unlike the other smFISH-based datasets on this website, nCounts and nGenes have sizable negative Moran's I's, which is closer to 0 for volume. It would be interesting to compare these metrics across different tissues, as we add more datasets to `SFEData` in future releases.\n",
    "\n",
    "Also check local Moran's I, since in that little patch we examined above, some regions may have more positive spatial autocorrelation."
   ]
  },
  {
   "cell_type": "code",
   "execution_count": null,
   "id": "dc6885f4",
   "metadata": {},
   "outputs": [],
   "source": [
    "sfe <- colDataUnivariate(sfe, type = \"localmoran\", \n",
    "                         features = c(\"nCounts\", \"nGenes\", \"volume\"),\n",
    "                         colGraphName = \"knn5\")"
   ]
  },
  {
   "cell_type": "code",
   "execution_count": null,
   "id": "5fa61991",
   "metadata": {
    "fig.height": 7,
    "fig.width": 9
   },
   "outputs": [],
   "source": [
    "plotLocalResult(sfe, \"localmoran\", c(\"nCounts\", \"nGenes\", \"volume\"),\n",
    "                colGeometryName = \"centroids\", scattermore = TRUE,\n",
    "                ncol = 2, divergent = TRUE, diverge_center = 0)"
   ]
  },
  {
   "cell_type": "markdown",
   "id": "cd32399c",
   "metadata": {
    "lines_to_next_cell": 0
   },
   "source": [
    "There are some niches around smaller blood vessels with positive local Moran's I for nCounts and nGenes. This is most likely due to the more homogeneous endothelial cells compared to hepatocytes.\n",
    "\n",
    "# Moran's I"
   ]
  },
  {
   "cell_type": "code",
   "execution_count": null,
   "id": "83dde5b1",
   "metadata": {},
   "outputs": [],
   "source": [
    "sfe <- logNormCounts(sfe)"
   ]
  },
  {
   "cell_type": "code",
   "execution_count": null,
   "id": "12aa3d01",
   "metadata": {},
   "outputs": [],
   "source": [
    "system.time(\n",
    "    sfe <- runMoransI(sfe, BPPARAM = MulticoreParam(2))\n",
    ")"
   ]
  },
  {
   "cell_type": "markdown",
   "id": "caffad5c",
   "metadata": {},
   "source": [
    "It's actually not as slow as I thought for almost 400,000 cells. How are Moran's I's distributed for real genes and blank probes?"
   ]
  },
  {
   "cell_type": "code",
   "execution_count": null,
   "id": "21a6be26",
   "metadata": {},
   "outputs": [],
   "source": [
    "plotRowData(sfe, x = \"moran_sample01\", y = \"is_blank\") +\n",
    "    geom_hline(yintercept = 0, linetype = 2)"
   ]
  },
  {
   "cell_type": "markdown",
   "id": "5a0c7055",
   "metadata": {},
   "source": [
    "The blanks are clustered tightly around 0. The vast majority of real genes have positive spatial autocorrelation, some quite strong. But some genes have negative spatial autocorrelation, although it may or may not be statistically significant.\n",
    "\n",
    "Plot the top genes with positive spatial autocorrelation:"
   ]
  },
  {
   "cell_type": "code",
   "execution_count": null,
   "id": "9b1b2d94",
   "metadata": {
    "fig.height": 12,
    "fig.width": 9
   },
   "outputs": [],
   "source": [
    "top_moran <- rownames(sfe)[order(rowData(sfe)$moran_sample01, decreasing = TRUE)[1:6]]\n",
    "plotSpatialFeature(sfe, top_moran, colGeometryName = \"centroids\", scattermore = TRUE,\n",
    "                   ncol = 2)"
   ]
  },
  {
   "cell_type": "markdown",
   "id": "44969e20",
   "metadata": {},
   "source": [
    "Unlike in the other smFISH-based cancer datasets on this dataset, the genes with the highest Moran's I highlight different histological regions. Some probably for zones in the hepatic lobule, and some for blood vessels. It would be interesting to compare spatial autocorrelation of marker genes among different tissues and cell types.\n",
    "\n",
    "Negative Moran's I means that nearby cells tend to be more dissimilar to each other. That would be hard to see when plotting the whole tissue section, so we will use that bounding box again. The gene with the most negative Moran's I is compared to one with Moran's I closest to 0."
   ]
  },
  {
   "cell_type": "code",
   "execution_count": null,
   "id": "4dfe2ffe",
   "metadata": {
    "fig.height": 5,
    "fig.width": 9
   },
   "outputs": [],
   "source": [
    "bottom_moran <- rownames(sfe)[order(rowData(sfe)$moran_sample01)[1]]\n",
    "bottom_abs_moran <- rownames(sfe)[order(abs(rowData(sfe)$moran_sample01))[1]]\n",
    "plotSpatialFeature(sfe, c(bottom_moran, bottom_abs_moran), \n",
    "                   colGeometryName = \"cellSeg\", bbox = bbox_use)"
   ]
  },
  {
   "cell_type": "markdown",
   "id": "96433f59",
   "metadata": {
    "lines_to_next_cell": 0
   },
   "source": [
    "As expected, the feature with Moran's I closest to 0 is a blank.\n",
    "\n",
    "# Spatial autocorrelation at larger length scales\n",
    "The k nearest neighbor graph used above only concerns 5 cells around each cell, which is a very small neighborhood, over a very small length scale. In the current release of `Voyager`, a correlogram can be computed to get a sense of the length scale of spatial autocorrelation. However, since finding the lag values over higher and higher orders of neighborhoods is very slow for such a large number of cells for higher orders, the correlogram is not very helpful here. In this section, we use some other methods involving binning to explore spatial autocorrelation at larger length scales.\n",
    "\n",
    "## Binning\n",
    "The `sf` package can create polygons in a grid, with which we can bin the cells and their attributes and gene expressions. Here we make a 100 by 100 hexagonal grid in the bounding box of the cell centroids."
   ]
  },
  {
   "cell_type": "code",
   "execution_count": null,
   "id": "2550a88f",
   "metadata": {},
   "outputs": [],
   "source": [
    "(bins <- st_make_grid(colGeometry(sfe, \"centroids\"), n = 100, square = FALSE))"
   ]
  },
  {
   "cell_type": "markdown",
   "id": "5dc87eef",
   "metadata": {
    "lines_to_next_cell": 0
   },
   "source": [
    "Here we use this grid to bin the QC metrics by averaging the values from the cells. Since bins not completely covered by tissue have fewer cells, the mean may be less susceptible to edge effect than the sum, as bins near the edge will have lower sums, which may spuriously increase Moran's I. "
   ]
  },
  {
   "cell_type": "code",
   "execution_count": null,
   "id": "a4454a8c",
   "metadata": {},
   "outputs": [],
   "source": [
    "df <- cbind(colGeometry(sfe, \"centroids\"), colData(sfe)[,c(\"nCounts\", \"nGenes\", \"volume\")])\n",
    "df_binned <- aggregate(df, bins, FUN = mean)\n",
    "# Remove bins not containing cells\n",
    "df_binned <- df_binned[!is.na(df_binned$nCounts),]"
   ]
  },
  {
   "cell_type": "markdown",
   "id": "fa01c074",
   "metadata": {
    "lines_to_next_cell": 0
   },
   "source": [
    "Plot the binned values:"
   ]
  },
  {
   "cell_type": "code",
   "execution_count": null,
   "id": "88799c83",
   "metadata": {
    "fig.height": 7,
    "fig.width": 9
   },
   "outputs": [],
   "source": [
    "# Not using facet_wrap to give each panel its own color scale\n",
    "plts <- lapply(c(\"nCounts\", \"nGenes\", \"volume\"), function(f) {\n",
    "    ggplot(df_binned[,f]) + geom_sf(aes(fill = .data[[f]]), linewidth = 0) +\n",
    "        scale_fill_distiller(palette = \"Blues\", direction = 1) + theme_void()\n",
    "})\n",
    "wrap_plots(plts, nrow = 2)"
   ]
  },
  {
   "cell_type": "markdown",
   "id": "579c3966",
   "metadata": {
    "lines_to_next_cell": 0
   },
   "source": [
    "There's an outlier bin not as evident when plotting single cells. There's still some edge effect around blood vessels. This might be truly edge effect, or that endothelial cells tend to have lower values in all 3 variables here.\n",
    "\n",
    "Then compute Moran's I over the binned data, with contiguity neighborhoods. `zero.policy = TRUE` because there are some bins with no neighbors."
   ]
  },
  {
   "cell_type": "code",
   "execution_count": null,
   "id": "b9794cc3",
   "metadata": {},
   "outputs": [],
   "source": [
    "nb <- poly2nb(df_binned)\n",
    "listw <- nb2listw(nb, zero.policy = TRUE)"
   ]
  },
  {
   "cell_type": "code",
   "execution_count": null,
   "id": "2624932f",
   "metadata": {},
   "outputs": [],
   "source": [
    "calculateMoransI(t(as.matrix(st_drop_geometry(df_binned[,c(\"nCounts\", \"nGenes\", \"volume\")]))),\n",
    "                 listw = listw, zero.policy = TRUE)"
   ]
  },
  {
   "cell_type": "markdown",
   "id": "f48770f4",
   "metadata": {},
   "source": [
    "At a larger length scale, Moran's I becomes positive. Comparing Moran's I across different sized bins can give a sense of the length scale of spatial autocorrelation. However, there are problems with binning to watch out for:\n",
    "\n",
    "1. Edge effect, especially when using the sum when binning\n",
    "2. Which function to use to aggregate the values when binning\n",
    "3. When using a rectangular grid, whether to use rook or queen neighbors. Rook means two cells are neighbors if they share an edge, while queen means they are neighbors even if they merely share a vertex. \n",
    "\n",
    "While binning can greatly speed up computation of spatial autocorrelation metrics for larger datasets, and is in fact used for Moran's I in Seurat, it can be used for smaller datasets to find length scales of spatial autocorrelation. On the other hand, as seen here, Moran's I can flip signs at different length scales, so for larger datasets, exploring spatial autocorrelation at the cell level would still be interesting.\n",
    "\n",
    "## Semivariogram\n",
    "In geostatistical data, an underlying spatial process is sampled at known locations. Kriging uses a Gaussian process to interpolate the values between the sample locations, and the semivariogram is used to model the spatial dependency between the locations as the covariance of the Gaussian process. When not kriging, the semivariogram can be used as an exploratory data analysis tool to find the length scale and anisotropy of spatial autocorrelation. One of the classic R packages in the geostatistical tradition is [`gstat`](https://cran.r-project.org/web/packages/gstat/index.html), which we use here to find semivariograms, defined as\n",
    "\n",
    "$$\n",
    "\\gamma(t) = \\frac 1 2 \\mathrm{Var}(X_t - X_0),\n",
    "$$\n",
    "\n",
    "where $X$ is the value such as gene expression, and $t$ is a spatial vector. $X_0$ is the value at a location of interest, and $X_t$ is the value lagged by $t$. With positive spatial autocorrelation, the variance would be smaller among nearby values, so the variogram would increase with distance, eventually leveling off when the distance is beyond the length scale of spatial autocorrelation. The \"semi\" comes from the 1/2.\n",
    "\n",
    "In the next release of Voyager, this will be part of `runUnivariate()` so the learning curve for users will be minimal.\n",
    "\n",
    "First we find an empirical variogram assuming that it's the same in all directions. Here the data is binned at distance intervals, so this is much faster than the correlogram at the cell level. The `width` argument controlls the bin size. The `cutoff` argument is the maximum distance to consider. Here we use the defaults. The first argument is a formula; covariates can be specified, but is not done here.\n",
    "\n",
    "With different widths and cutoffs, the variogram can be estimated at different length scales. The `gstat` package can also fit a model to the empirical variogram. See `vgm()` for the different types of models. The [`automap`](https://cran.r-project.org/web/packages/automap/) package can choose a model for the user, and is used here. \n",
    "\n",
    "Unfortunately, `gstat` doesn't scale to 400,000 cells, although it worked for 100,000 cells in the other smFISH-based datasets on this website. But since the variogram is used to explore larger length scales here anyway, we use the binned data here, but the problems with binning will apply."
   ]
  },
  {
   "cell_type": "code",
   "execution_count": null,
   "id": "4a2b5911",
   "metadata": {
    "warning": false
   },
   "outputs": [],
   "source": [
    "# as_Spatial since automap uses old fashioned sp, the predecessor of sf\n",
    "v <- autofitVariogram(nCounts ~ 1, as_Spatial(df_binned))\n",
    "plot(v)"
   ]
  },
  {
   "cell_type": "markdown",
   "id": "433aa5d0",
   "metadata": {
    "lines_to_next_cell": 0
   },
   "source": [
    "The numbers in this plot are the number of pairs in each distance bin. The variogram is not 0 at 0 distance; this is the variance within the bin size, called the nugget. The variogram levels off at greater distance, and the value of the variogram where is levels off is the sill. Range is where the variogram is leveling off, indicating length scale of spatial autocorrelation; the range from visual inspection appears closer to 1000 while the model somehow indicates 423. \n",
    "\n",
    "A variogram map can be made to see how spatial autocorrelation may differ in different directions, i.e. anisotropy"
   ]
  },
  {
   "cell_type": "code",
   "execution_count": null,
   "id": "1bbeda48",
   "metadata": {},
   "outputs": [],
   "source": [
    "v2 <- variogram(nCounts ~ 1, data = df_binned, width = 300, cutoff = 4500, map = TRUE)\n",
    "plot(v2)"
   ]
  },
  {
   "cell_type": "markdown",
   "id": "2ed84410",
   "metadata": {
    "lines_to_next_cell": 0
   },
   "source": [
    "Here apparently there's no anisotropy at shorter length scales, but there may be some artifact from the hexagonal bins. Going beyond 2000 (whatever unit), the variance drops at the northwest and southeast direction but not in other directions, perhaps related to the repetitiveness of the hepatic lobules and the general NE/SW direction of the blood vessels seen in the previous plots. \n",
    "\n",
    "The variogram can also be calculated at specified angles, here selected as sides of the hexagon:"
   ]
  },
  {
   "cell_type": "code",
   "execution_count": null,
   "id": "7ddbe0f4",
   "metadata": {},
   "outputs": [],
   "source": [
    "v3 <- variogram(nCounts ~ 1, df_binned, alpha = c(30, 90, 150))\n",
    "v3_model <- fit.variogram(v3, vgm(\"Ste\"))\n",
    "plot(v3, v3_model)"
   ]
  },
  {
   "cell_type": "markdown",
   "id": "fe4624be",
   "metadata": {},
   "source": [
    "The variogram rises when going beyond 2000 at 30 and 90 degrees and drops at 150 degrees. This is consistent with the variogram map. These differences are averaged out in the omni-directional variogram. `gstat` does not fit anisotropy parameters, so the fitted curve is omni-directional. It fits pretty well below 2000. This is only for nCounts, and may differ for other QC metrics and genes. What if anisotropy varies in space? A problem with the variogram is that it's global, giving one result for the entire dataset, albeit more nuanced than just a number as in Moran's I, because kriging assumes that the data is intrinsically stationary, meaning that the same variogram model applies everywhere, and that spatial dependence only depends on lag between two observations.\n",
    "\n",
    "Voyager 1.2.0 implements `ggplot2` based plotting functions to make better looking and more customizable plots of the variograms for SFE objects. However, the binned data is not in an SFE object. We are considering writing a method to spatially bin all cell level data in an SFE object. Here `gstat` is using `lattice`, a predecessor of `ggplot2` to make facetted plots and has been superseded by `ggplot2`. `gstat` is one of the oldest R packages still on CRAN, dating back to the days of S (prequel of R), although its oldest archive on CRAN is from 2003. `spdep` is also really old; its oldest archive on CRAN is from 2002, but it's still in active development. In using these time honored packages and methods (Moran's I and Geary's C themselves date back to the 1950s and their modern form date back to 1969 [@Cliff1969-wp; @Bivand2013-jx]) on the cool new spatial transcriptomics dataset, we are participating in a glorious tradition, which we will further develop as a spatial analysis tradition forms around spatial -omics data analysis.\n",
    "\n",
    "# PCA for larger datasets\n",
    "There are many ways to do PCA in R, and the [`BiocSingular`](https://bioconductor.org/packages/release/bioc/html/BiocSingular.html) package makes a number of different methods available with a consistent user interface, and it supports out of memory data in `DelayedArray`. According to [this benchmark](https://slowkow.com/notes/pca-benchmark/), `stats::prcomp()` shipped with R is rather slow for larger datasets. The fastest methods are `irlba::irlba()` and `RSpectra::svds()`, and the former is supported by `BiocSingular`. So here we use IRLBA and see how long it takes. Many PCA algorithms involve repeated matrix multiplications. R does not come with optimized BLAS and LAPACK, for portability reasons. However, the BLAS and LAPACK used by R can be changed to an optimized one (here's [how to do it](https://cran.r-project.org/doc/manuals/r-release/R-admin.html#Shared-BLAS)), which will speed up matrix multiplication. "
   ]
  },
  {
   "cell_type": "code",
   "execution_count": null,
   "id": "c9f05f86",
   "metadata": {},
   "outputs": [],
   "source": [
    "set.seed(29)\n",
    "system.time(\n",
    "    sfe <- runPCA(sfe, ncomponents = 20, subset_row = !is_blank,\n",
    "                  exprs_values = \"logcounts\",\n",
    "                  scale = TRUE, BSPARAM = IrlbaParam())\n",
    ")\n",
    "gc()"
   ]
  },
  {
   "cell_type": "markdown",
   "id": "23aac939",
   "metadata": {},
   "source": [
    "That's pretty quick for almost 400,000 cells, but there aren't that many genes here. Use the elbow plot to see variance explained by each PC:"
   ]
  },
  {
   "cell_type": "code",
   "execution_count": null,
   "id": "aa22009e",
   "metadata": {},
   "outputs": [],
   "source": [
    "ElbowPlot(sfe)"
   ]
  },
  {
   "cell_type": "markdown",
   "id": "378fd53b",
   "metadata": {
    "lines_to_next_cell": 0
   },
   "source": [
    "Plot top gene loadings in each PC"
   ]
  },
  {
   "cell_type": "code",
   "execution_count": null,
   "id": "97831b6d",
   "metadata": {},
   "outputs": [],
   "source": [
    "plotDimLoadings(sfe)"
   ]
  },
  {
   "cell_type": "markdown",
   "id": "b698164b",
   "metadata": {
    "lines_to_next_cell": 0
   },
   "source": [
    "Many of these genes seem to be related to the endothelium.\n",
    "\n",
    "Plot the first 4 PCs in space"
   ]
  },
  {
   "cell_type": "code",
   "execution_count": null,
   "id": "826b07f8",
   "metadata": {
    "fig.height": 7,
    "fig.width": 9
   },
   "outputs": [],
   "source": [
    "spatialReducedDim(sfe, \"PCA\", 4, colGeometryName = \"centroids\", scattermore = TRUE,\n",
    "                  divergent = TRUE, diverge_center = 0)"
   ]
  },
  {
   "cell_type": "markdown",
   "id": "19a2b79c",
   "metadata": {
    "lines_to_next_cell": 0
   },
   "source": [
    "PC1 and PC4 highlight the major blood vessels, while PC2 and PC3 have less spatial structure. While in the CosMX and Xenium datasets on this website, the top PCs have clear spatial structures despite the absence of spatial information in non-spatial PCA because of clear spatial compartments for some cell types, which does not seem to be the case in this dataset except for the blood vessels. We have seen above that some genes have strong spatial structures. There are some methods for spatially informed PCA, such as MULTISPATI PCA [@Dray2008-en] in the [`adespatial`](https://cran.r-project.org/web/packages/adespatial/index.html) package, which seeks to maximize both variance (as in non-spatial PCA) and Moran's I on each PC. Unlike traditional PCs, where all eigenvalues, signifying variance explained, are positive, MULTISPATI PCA can have negative eigenvalues, which signify negative spatial autocorrelation. The PCs from MULTISPATI PCA with positive eigenvalues are also more spatially coherent than those from non-spatial PCA. For the CosMX and Xenium datasets on this website, the spatial coherence from MULTISPATI might not make a difference, but it might make a difference in this dataset where non-spatial PCs don't show as much spatial structure, at least at the larger scale over the entire tissue section. Voyager 1.2.0 (Bioconductor 3.17) has a faster implementation of MULTISPATI PCA than that of `adespatial`, and is demonstrated in this dataset in [another vignette](https://pachterlab.github.io/voyager/articles/multispati.html).\n",
    "\n",
    "While PC2 and PC3 don't seem to have large scale spatial structure, they may have more local spatial structure not obvious from plotting the entire section, so we zoom into the bounding box:"
   ]
  },
  {
   "cell_type": "code",
   "execution_count": null,
   "id": "e68e01b7",
   "metadata": {
    "fig.height": 5,
    "fig.width": 9
   },
   "outputs": [],
   "source": [
    "spatialReducedDim(sfe, \"PCA\", ncomponents = 2:3, colGeometryName = \"cellSeg\",\n",
    "                  bbox = bbox_use, divergent = TRUE, diverge_center = 0)"
   ]
  },
  {
   "cell_type": "markdown",
   "id": "fa3abc6c",
   "metadata": {},
   "source": [
    "There's some spatial structure in PC2 and PC3 at a smaller scale, perhaps some negative spatial autocorrelation.\n",
    "\n",
    "Like global Moran's I, PCA and MULTISPATI PCA return one result for the entire dataset. In contrast, [geographically weighted PCA (GWPCA)](https://rdrr.io/cran/GWmodel/man/gwpca.html) [@Harris2015-sr] can account for spatial heterogeneity. GWPCA runs PCA at each spatial location using only the nearby locations weighed by a kernel. The different locations can have different PCs, and the results can be visualized with \"winning variables\" in each PC, i.e. plotting which feature has the highest loading in each PC in space. This most likely doesn't scale to 400,000 cells, but it would still be interesting when performed on spatially binned data. GWPCA might be added in Bioconductor 3.18 and would require some changes in the user interface, because GWPCA is about the features rather than cell embeddings.\n",
    "\n",
    "# More challenges from large datasets\n",
    "Here, despite the numerous cells, the data was loaded into memory. What if the data doesn't fit into memory? We might write a new vignette with `DelayedArray` demonstrating out of memory data analysis for Bioconductor 3.18. This is already supported by `SingleCellExperiment`, which SFE inherits from. However, the geometries, graphs, and local results can take up a lot memory as well. These can possibly be stored in SQL databases and operated on with [`SQLDataFrame`](https://bioconductor.org/packages/release/bioc/html/SQLDataFrame.html). The geometric operations can be handled by [`sedona`](https://github.com/apache/incubator-sedona), although the options are limited compared to GEOS, which performs geometric operations behind the scene for `sf`.\n",
    "\n",
    "Another question can be raised about large spatial transcriptomics data: Is it still a good idea to analyze the entire dataset at once? There must be many interesting and unique neighborhoods that might not get the attention they deserve when the whole dataset is analyzed at once. After all, in the geographical space, national level data is usually not analyzed at the block resolution, although a reason for this is privacy of the subjects. County resolution is often used, but there aren't hundreds of thousands of counties. Many analyses are done for cities and counties with neighborhood resolution; using the largest geographical unit isn't always the most relevant. Back to histological space: How to aggregate cells into larger spatial units? How to decide which scale of spatial units (analogous to nation vs state vs county and etc) is relevant? We have traditional anatomical ontologies, such as from the Allen Brain Atlas, but this isn't available for all tissues. Also, with more single cell -omics data, the traditional ontologies can be improved.\n",
    "\n",
    "Furthermore, there are 3D thick section single cell resolution spatial transcriptomics data, such as from STARmap [@Wang2018-cv] and EASI-FISH [@Wang2021-fv], although the vast majority of spatial -omics data are from thin sections pretty much _de facto_ 2D. As we mostly live on the surface of Earth, there are many more 2D geospatial resources than 3D. However, some methods can in principle be applied to 3D and the existing software primarily made for 2D data might work. For example, GEOS supports 3D data, so in principle 3D geometries in `sf` should work, although there's little documentation on this. Also, k nearest neighbor, Moran's I, variograms, and etc. should in principle work in 3D, and `gstat` officially supports 3D. These are more challenges related to 3D data:\n",
    "\n",
    "1. Even when multiple z-planes are imaged, the resolution is much lower in the z direction than the x and y directions. Then should the z-plane be treated as an attribute or as a coordinate?\n",
    "2. How to make static plots for 3D data for publications? This is more complicated than plotting z-planes separately, since a 3D block can be sectioned from any other direction. Also for interactive visualization, we need to somehow see through the tissue. \n",
    "\n",
    "Finally, the geospatial tradition is only one tradition relevant to large spatial data, and at present `Voyager` only works with vector data. We are uncertain whether raster should be added in a later version, and there are existing tools for large raster data as well, such as [TileDB](https://docs.tiledb.com/geospatial/). Other traditions can be relevant, such as astronomy and image processing, but those are beyond the scope of this package.\n",
    "\n",
    "# Session Info"
   ]
  },
  {
   "cell_type": "code",
   "execution_count": null,
   "id": "134c931d",
   "metadata": {},
   "outputs": [],
   "source": [
    "sessionInfo()"
   ]
  },
  {
   "cell_type": "markdown",
   "id": "4c86cd32",
   "metadata": {},
   "source": [
    "# References"
   ]
  }
 ],
 "metadata": {
  "kernelspec": {
   "display_name": "R",
   "language": "R",
   "name": "ir"
  }
 },
 "nbformat": 4,
 "nbformat_minor": 5
}
>>>>>>> b6ebb2cf5ab0f6403d66995e8f9c4c3db49a6956
