{
 "cells": [
  {
   "cell_type": "raw",
<<<<<<< HEAD
<<<<<<< HEAD
   "id": "f74756ba",
||||||| ff06ad40
   "id": "3d7c5898",
=======
   "id": "cd3ac177",
>>>>>>> documentation-devel
||||||| 1158767b
   "id": "f74756ba",
=======
   "id": "d73e4c0e",
>>>>>>> 6e0f6d6ef35309dec3607d4371c747197b435328
   "metadata": {},
   "source": [
    "---\n",
    "title: \"MERFISH mouse liver dataset and considerations of large data\"\n",
    "author: \"Lambda Moses\"\n",
    "date: \"`r Sys.Date()`\"\n",
    "output: \n",
    "  html_document:\n",
    "  toc: true\n",
    "  toc_float:\n",
    "    collapsed: false\n",
    "  toc_depth: 3\n",
    "bibliography: ref.bib\n",
    "vignette: >\n",
    "  %\\VignetteIndexEntry{merfish}\n",
    "  %\\VignetteEngine{knitr::rmarkdown}\n",
    "  %\\VignetteEncoding{UTF-8}\n",
    "---"
   ]
  },
  {
   "cell_type": "code",
   "execution_count": null,
<<<<<<< HEAD
<<<<<<< HEAD
   "id": "9c45bf85",
||||||| ff06ad40
   "id": "6e9cdc43",
=======
   "id": "9fa3ae45",
>>>>>>> documentation-devel
||||||| 1158767b
   "id": "9c45bf85",
=======
   "id": "48186e02",
>>>>>>> 6e0f6d6ef35309dec3607d4371c747197b435328
   "metadata": {
    "tags": [
     "remove_cell"
    ]
   },
   "outputs": [],
   "source": [
    "knitr::opts_chunk$set(\n",
    "  collapse = TRUE,\n",
    "  comment = \"#>\"\n",
    ")"
   ]
  },
  {
   "cell_type": "code",
   "execution_count": null,
<<<<<<< HEAD
<<<<<<< HEAD
   "id": "ce7372a0",
||||||| ff06ad40
   "id": "09222e3c",
=======
   "id": "3357b694",
>>>>>>> documentation-devel
||||||| 1158767b
   "id": "ce7372a0",
=======
   "id": "b4e83523",
>>>>>>> 6e0f6d6ef35309dec3607d4371c747197b435328
   "metadata": {
    "eval": false,
    "tags": [
     "remove_cell"
    ]
   },
   "outputs": [],
   "source": [
    "# Install Google Colab dependencies\n",
    "# Note: this can take 30+ minutes (many of the dependencies include C++ code, which needs to be compiled)\n",
    "\n",
    "# First install `sf`, `ragg` and `textshaping` and their system dependencies:\n",
    "system(\"apt-get -y update && apt-get install -y  libudunits2-dev libgdal-dev libgeos-dev libproj-dev libharfbuzz-dev libfribidi-dev\")\n",
    "install.packages(\"sf\")\n",
    "install.packages(\"textshaping\")\n",
    "install.packages(\"ragg\")\n",
    "\n",
    "# Install system dependencies of some other R packages that Voyager either imports or suggests:\n",
    "system(\"apt-get install -y libfribidi-dev libcairo2-dev libmagick++-dev\")\n",
    "\n",
    "# Install Voyager from Bioconductor:\n",
    "install.packages(\"BiocManager\")\n",
    "BiocManager::install(version = \"3.17\", ask = FALSE, update = FALSE, Ncpus = 2)\n",
    "BiocManager::install(\"scater\")\n",
    "system.time(\n",
    "  BiocManager::install(\"Voyager\", dependencies = TRUE, Ncpus = 2, update = FALSE)\n",
    ")\n",
    "\n",
    "packageVersion(\"Voyager\")"
   ]
  },
  {
   "cell_type": "markdown",
<<<<<<< HEAD
<<<<<<< HEAD
   "id": "56ff64a7",
||||||| ff06ad40
   "id": "594a4713",
=======
   "id": "cdef05b6",
>>>>>>> documentation-devel
||||||| 1158767b
   "id": "56ff64a7",
=======
   "id": "6543d449",
>>>>>>> 6e0f6d6ef35309dec3607d4371c747197b435328
   "metadata": {
    "lines_to_next_cell": 0
   },
   "source": [
    "# Introduction\n",
    "\n",
    "The `SpatialFeatureExperiment` (SFE) and `Voyager` packages were originally developed around a relatively small Visium dataset as a proof of concept, and were hence not originally optimized for very large datasets. However, larger smFISH datasets with hundreds of thousands, sometimes over a million cells have already been produced and will soon be produced routinely. Among studies using smFISH-based spatial transcriptomics technologies that reported the number of cells per dataset, the number of cells per dataset has increased in the past years [@Moses2022-xz].\n",
    "![alt](https://pachterlab.github.io/LP_2021/05-current-techs_files/figure-html/smfish-lm-cell-1.png)\n",
    "\n",
    "In anticipation of large datasets, this vignette was produced using limited GitHub Actions resources (MacOS), which are 14 GB of RAM with 3 CPU cores and 14 GB of disk space, comparable to laptops. We therefore expect that the analyses in this vignette should scale to reasonably sized datasets.  \n",
    "\n",
    "The dataset we use in this vignette is a MERFISH mouse liver dataset downloaded from the [Vizgen website](https://console.cloud.google.com/storage/browser/vz-liver-showcase/Liver1Slice1). We will use it to discuss some issues with large datasets and some upcoming features in the next release of `Voyager`. The gene count matrix and cell metadata (including centroid coordinates) were downloaded as CSV files and read into R. While 7 z-planes were imaged, cell segmentation is only available in one z-plane. The cell polygons are in HDF5 files, with one HDF5 file per field of view (FOV), and there are over 1000 FOVs in this dataset. Converting these HDF5 files into an `sf` data frame is not trivial. See the [vignette on creating a `SpatialFeatureExperiment` (SFE) object](https://pachterlab.github.io/voyager/articles/create_sfe.html#technology-specific-notes) for code used to do the conversion, and the polygons are included in the SFE object. The cell metadata already has cell volume. If the polygons are not used in the analyses, and the polygons can't be seen on a static plot with hundreds of thousands of cells anyway, then doing the conversion is optional. While the transcript spot locations are available, we cannot yet work with such a large point dataset.\n",
    "\n",
    "Here we load the packages used. "
   ]
  },
  {
   "cell_type": "code",
   "execution_count": null,
<<<<<<< HEAD
<<<<<<< HEAD
   "id": "23c61ee4",
||||||| ff06ad40
   "id": "d0af5638",
=======
   "id": "73423cc4",
>>>>>>> documentation-devel
||||||| 1158767b
   "id": "23c61ee4",
=======
   "id": "e888bed8",
>>>>>>> 6e0f6d6ef35309dec3607d4371c747197b435328
   "metadata": {
    "name": "setup"
   },
   "outputs": [],
   "source": [
    "library(Voyager)\n",
    "library(SFEData)\n",
    "library(SingleCellExperiment)\n",
    "library(SpatialExperiment)\n",
    "library(scater) \n",
    "library(ggplot2)\n",
    "library(patchwork)\n",
    "library(stringr)\n",
    "library(spdep)\n",
    "library(BiocParallel)\n",
    "library(BiocSingular)\n",
    "library(gstat)\n",
    "library(BiocNeighbors)\n",
    "library(sf)\n",
    "library(automap)\n",
    "theme_set(theme_bw())"
   ]
  },
  {
   "cell_type": "code",
   "execution_count": null,
<<<<<<< HEAD
<<<<<<< HEAD
   "id": "32ac37a1",
||||||| ff06ad40
   "id": "d46ea1dc",
=======
   "id": "3e7357ec",
>>>>>>> documentation-devel
||||||| 1158767b
   "id": "32ac37a1",
=======
   "id": "e991189b",
>>>>>>> 6e0f6d6ef35309dec3607d4371c747197b435328
   "metadata": {},
   "outputs": [],
   "source": [
    "(sfe <- VizgenLiverData())"
   ]
  },
  {
   "cell_type": "markdown",
<<<<<<< HEAD
<<<<<<< HEAD
   "id": "d915755c",
||||||| ff06ad40
   "id": "cb403509",
=======
   "id": "a3868ac8",
>>>>>>> documentation-devel
||||||| 1158767b
   "id": "d915755c",
=======
   "id": "e875b461",
>>>>>>> 6e0f6d6ef35309dec3607d4371c747197b435328
   "metadata": {
    "lines_to_next_cell": 0
   },
   "source": [
    "There are 395,215 cells in this dataset. Plotting them all as polygons takes a while, but it isn't too bad."
   ]
  },
  {
   "cell_type": "code",
   "execution_count": null,
<<<<<<< HEAD
<<<<<<< HEAD
   "id": "77cf992c",
||||||| ff06ad40
   "id": "07d5b45e",
=======
   "id": "b93b23f4",
>>>>>>> documentation-devel
||||||| 1158767b
   "id": "77cf992c",
=======
   "id": "b306a580",
>>>>>>> 6e0f6d6ef35309dec3607d4371c747197b435328
   "metadata": {
    "fig.height": 6,
    "fig.width": 9
   },
   "outputs": [],
   "source": [
    "plotGeometry(sfe, \"cellSeg\")"
   ]
  },
  {
   "cell_type": "markdown",
<<<<<<< HEAD
<<<<<<< HEAD
   "id": "db07109c",
||||||| ff06ad40
   "id": "bcf280a5",
=======
   "id": "2b72b096",
>>>>>>> documentation-devel
||||||| 1158767b
   "id": "db07109c",
=======
   "id": "e1ab9abc",
>>>>>>> 6e0f6d6ef35309dec3607d4371c747197b435328
   "metadata": {
    "lines_to_next_cell": 0
   },
   "source": [
    "However, we do not wish to save this plot as PDF. To avoid this problem, we can either use the `scattermore = TRUE` argument in `plotSpatialFeature()` and plot the centroids since the polygons are hard to see anyway. \n",
    "\n",
    "Cell density can be vaguely seen in the plot above. Here we count the number of cells in bins to better visualize cell density."
   ]
  },
  {
   "cell_type": "code",
   "execution_count": null,
<<<<<<< HEAD
<<<<<<< HEAD
   "id": "b633a33f",
||||||| ff06ad40
   "id": "304119fc",
=======
   "id": "e60a6d41",
>>>>>>> documentation-devel
||||||| 1158767b
   "id": "b633a33f",
=======
   "id": "792a8b6e",
>>>>>>> 6e0f6d6ef35309dec3607d4371c747197b435328
   "metadata": {
    "fig.height": 6,
    "fig.width": 9
   },
   "outputs": [],
   "source": [
    "plotCellBin2D(sfe, bins = 300, hex = TRUE)"
   ]
  },
  {
   "cell_type": "markdown",
<<<<<<< HEAD
<<<<<<< HEAD
   "id": "c583f19c",
||||||| ff06ad40
   "id": "748b286b",
=======
   "id": "a53ea5f0",
>>>>>>> documentation-devel
||||||| 1158767b
   "id": "c583f19c",
=======
   "id": "c64d20e3",
>>>>>>> 6e0f6d6ef35309dec3607d4371c747197b435328
   "metadata": {
    "lines_to_next_cell": 0
   },
   "source": [
    "Cell density is for the most part homogeneous but shows some structure with denser regions that seem to relate to the blood vessels.\n",
    "\n",
    "# Quality control"
   ]
  },
  {
   "cell_type": "code",
   "execution_count": null,
<<<<<<< HEAD
<<<<<<< HEAD
   "id": "5b1b7ff1",
||||||| ff06ad40
   "id": "3d5caa97",
=======
   "id": "499c0fff",
>>>>>>> documentation-devel
||||||| 1158767b
   "id": "5b1b7ff1",
=======
   "id": "c2fbc91d",
>>>>>>> 6e0f6d6ef35309dec3607d4371c747197b435328
   "metadata": {},
   "outputs": [],
   "source": [
    "names(colData(sfe))"
   ]
  },
  {
   "cell_type": "markdown",
<<<<<<< HEAD
<<<<<<< HEAD
   "id": "240a7c03",
||||||| ff06ad40
   "id": "e8bf11f4",
=======
   "id": "4bb41a44",
>>>>>>> documentation-devel
||||||| 1158767b
   "id": "240a7c03",
=======
   "id": "fe241992",
>>>>>>> 6e0f6d6ef35309dec3607d4371c747197b435328
   "metadata": {
    "lines_to_next_cell": 0
   },
   "source": [
    "Plotting almost 400,000 polygons is kind of slow but doable."
   ]
  },
  {
   "cell_type": "code",
   "execution_count": null,
<<<<<<< HEAD
<<<<<<< HEAD
   "id": "31a298c2",
||||||| ff06ad40
   "id": "2d0cbfa6",
=======
   "id": "0fd13888",
>>>>>>> documentation-devel
||||||| 1158767b
   "id": "31a298c2",
=======
   "id": "c8926bd1",
>>>>>>> 6e0f6d6ef35309dec3607d4371c747197b435328
   "metadata": {},
   "outputs": [],
   "source": [
    "system.time(\n",
    "    print(plotSpatialFeature(sfe, \"nCounts\", colGeometryName = \"cellSeg\"))\n",
    ")"
   ]
  },
  {
   "cell_type": "markdown",
<<<<<<< HEAD
<<<<<<< HEAD
   "id": "0065fe08",
||||||| ff06ad40
   "id": "4cdde481",
=======
   "id": "1dd1ab2f",
>>>>>>> documentation-devel
||||||| 1158767b
   "id": "0065fe08",
=======
   "id": "72c77eaf",
>>>>>>> 6e0f6d6ef35309dec3607d4371c747197b435328
   "metadata": {},
   "source": [
    "Here nCounts kind of looks like salt and pepper. Using the [`scattermore`](https://github.com/exaexa/scattermore) package can speed up plotting a large number of points. In this non-interactive plot, the cell polygons are too small to see anyway, so plotting cell centroid points should be fine. "
   ]
  },
  {
   "cell_type": "code",
   "execution_count": null,
<<<<<<< HEAD
<<<<<<< HEAD
   "id": "ddfb3471",
||||||| ff06ad40
   "id": "f9b6e082",
=======
   "id": "b8a02a22",
>>>>>>> documentation-devel
||||||| 1158767b
   "id": "ddfb3471",
=======
   "id": "3b7e2309",
>>>>>>> 6e0f6d6ef35309dec3607d4371c747197b435328
   "metadata": {},
   "outputs": [],
   "source": [
    "system.time({\n",
    "    print(plotSpatialFeature(sfe, \"nCounts\", colGeometryName = \"centroids\",\n",
    "                             scattermore = TRUE))\n",
    "})"
   ]
  },
  {
   "cell_type": "markdown",
<<<<<<< HEAD
<<<<<<< HEAD
   "id": "1dd49458",
||||||| ff06ad40
   "id": "76c56a5f",
=======
   "id": "ca140cef",
>>>>>>> documentation-devel
||||||| 1158767b
   "id": "1dd49458",
=======
   "id": "91c90b72",
>>>>>>> 6e0f6d6ef35309dec3607d4371c747197b435328
   "metadata": {},
   "source": [
    "When run on our server, plotting almost 400,000 polygons took around 23 seconds, while using `geom_scattermore()` (`scattermore = TRUE`) took about 2 seconds. Since `geom_scattermore()` rasterizes the plot, the plot will be pixelated when zoomed in. \n",
    "\n",
    "While interactive data visualization is useful for ESDA, there is a need for static figures in publications. As of Voyager 1.2.0 (Bioconductor 3.17), a bounding box can be specified to zoom into the data."
   ]
  },
  {
   "cell_type": "code",
   "execution_count": null,
<<<<<<< HEAD
<<<<<<< HEAD
   "id": "4cd26d6d",
||||||| ff06ad40
   "id": "bcb97628",
=======
   "id": "1a6bf1d9",
>>>>>>> documentation-devel
||||||| 1158767b
   "id": "4cd26d6d",
=======
   "id": "fa698e1a",
>>>>>>> 6e0f6d6ef35309dec3607d4371c747197b435328
   "metadata": {},
   "outputs": [],
   "source": [
    "bbox_use <- c(xmin = 3000, xmax = 3500, ymin = 2500, ymax = 3000)"
   ]
  },
  {
   "cell_type": "code",
   "execution_count": null,
<<<<<<< HEAD
<<<<<<< HEAD
   "id": "82ea8786",
||||||| ff06ad40
   "id": "b9d4508e",
=======
   "id": "118189a5",
>>>>>>> documentation-devel
||||||| 1158767b
   "id": "82ea8786",
=======
   "id": "1f47ff28",
>>>>>>> 6e0f6d6ef35309dec3607d4371c747197b435328
   "metadata": {},
   "outputs": [],
   "source": [
    "plotSpatialFeature(sfe, \"nCounts\", colGeometryName = \"cellSeg\", bbox = bbox_use)"
   ]
  },
  {
   "cell_type": "markdown",
<<<<<<< HEAD
<<<<<<< HEAD
   "id": "33397251",
||||||| ff06ad40
   "id": "d6090110",
=======
   "id": "aee7af7c",
>>>>>>> documentation-devel
||||||| 1158767b
   "id": "33397251",
=======
   "id": "410bbec9",
>>>>>>> 6e0f6d6ef35309dec3607d4371c747197b435328
   "metadata": {
    "lines_to_next_cell": 0
   },
   "source": [
    "Much of the time making this plot is spent subsetting the `sf` data frame with the bounding box. Here, spatial autocorrelation is evident in the upper right region with smaller cells, but less so in the rest of this patch. nCounts seems to be related to cell size; larger cells seem to have more total counts.\n",
    "\n",
    "Interactive data visualization is currently beyond the scope of `Voyager` or this vignette. There are existing tools for interactive visualization of highly multiplexed imaging data, such as [`MERmaid`](https://github.com/JEFworks-Lab/MERmaid) [@Wang2020-sv] for MERFISH data, [`TissUUmaps`](https://github.com/TissUUmaps/TissUUmapsCore) [@Pielawski2022-wk], and [`Visinity`](https://github.com/labsyspharm/visinity) [@Warchol2022-zw].\n",
    "\n",
    "Since there aren't too many genes, all genes and negative control probes can be displayed:"
   ]
  },
  {
   "cell_type": "code",
   "execution_count": null,
<<<<<<< HEAD
<<<<<<< HEAD
   "id": "0a12eb0f",
||||||| ff06ad40
   "id": "bef2c36f",
=======
   "id": "847bb861",
>>>>>>> documentation-devel
||||||| 1158767b
   "id": "0a12eb0f",
=======
   "id": "afeddf16",
>>>>>>> 6e0f6d6ef35309dec3607d4371c747197b435328
   "metadata": {},
   "outputs": [],
   "source": [
    "rownames(sfe)"
   ]
  },
  {
   "cell_type": "markdown",
<<<<<<< HEAD
<<<<<<< HEAD
   "id": "70d3d80b",
||||||| ff06ad40
   "id": "2c542996",
=======
   "id": "eb7578da",
>>>>>>> documentation-devel
||||||| 1158767b
   "id": "70d3d80b",
=======
   "id": "2a6f9885",
>>>>>>> 6e0f6d6ef35309dec3607d4371c747197b435328
   "metadata": {},
   "source": [
    "The number of real genes is 347."
   ]
  },
  {
   "cell_type": "code",
   "execution_count": null,
<<<<<<< HEAD
<<<<<<< HEAD
   "id": "bd4eb77e",
||||||| ff06ad40
   "id": "d3eba802",
=======
   "id": "a18c6dba",
>>>>>>> documentation-devel
||||||| 1158767b
   "id": "bd4eb77e",
=======
   "id": "d68d8714",
>>>>>>> 6e0f6d6ef35309dec3607d4371c747197b435328
   "metadata": {},
   "outputs": [],
   "source": [
    "n_panel <- 347"
   ]
  },
  {
   "cell_type": "markdown",
<<<<<<< HEAD
<<<<<<< HEAD
   "id": "3ea5d8ff",
||||||| ff06ad40
   "id": "9979c69d",
=======
   "id": "e69ce00b",
>>>>>>> documentation-devel
||||||| 1158767b
   "id": "3ea5d8ff",
=======
   "id": "c14d5570",
>>>>>>> 6e0f6d6ef35309dec3607d4371c747197b435328
   "metadata": {
    "lines_to_next_cell": 0
   },
   "source": [
    "Next, we plot the distribution of nCounts divided by the number of genes in the panel, so this distribution is more comparable across datasets with different numbers of genes."
   ]
  },
  {
   "cell_type": "code",
   "execution_count": null,
<<<<<<< HEAD
<<<<<<< HEAD
   "id": "37d6cf27",
||||||| ff06ad40
   "id": "936c0fc5",
=======
   "id": "fdfec38a",
>>>>>>> documentation-devel
||||||| 1158767b
   "id": "37d6cf27",
=======
   "id": "c813cc07",
>>>>>>> 6e0f6d6ef35309dec3607d4371c747197b435328
   "metadata": {},
   "outputs": [],
   "source": [
    "colData(sfe)$nCounts_normed <- sfe$nCounts / n_panel\n",
    "colData(sfe)$nGenes_normed <- sfe$nGenes / n_panel"
   ]
  },
  {
   "cell_type": "code",
   "execution_count": null,
<<<<<<< HEAD
<<<<<<< HEAD
   "id": "a15a3af5",
||||||| ff06ad40
   "id": "7266f974",
=======
   "id": "13d1c990",
>>>>>>> documentation-devel
||||||| 1158767b
   "id": "a15a3af5",
=======
   "id": "5b4db06b",
>>>>>>> 6e0f6d6ef35309dec3607d4371c747197b435328
   "metadata": {},
   "outputs": [],
   "source": [
    "plotColDataHistogram(sfe, c(\"nCounts_normed\", \"nGenes_normed\"))"
   ]
  },
  {
   "cell_type": "markdown",
<<<<<<< HEAD
<<<<<<< HEAD
   "id": "86c7cf85",
||||||| ff06ad40
   "id": "3da0faab",
=======
   "id": "44cb6272",
>>>>>>> documentation-devel
||||||| 1158767b
   "id": "86c7cf85",
=======
   "id": "bb2759c7",
>>>>>>> 6e0f6d6ef35309dec3607d4371c747197b435328
   "metadata": {
    "lines_to_next_cell": 0
   },
   "source": [
    "As with the [Xenium dataset](https://pachterlab.github.io/voyager/articles/vig5_xenium.html#cells), there are mysterious regular notches in the histogram of the number of genes detected.\n",
    "\n",
    "We also plot the number of genes detected per cell, with `geom_scattermore()`."
   ]
  },
  {
   "cell_type": "code",
   "execution_count": null,
<<<<<<< HEAD
<<<<<<< HEAD
   "id": "a0591f6e",
||||||| ff06ad40
   "id": "7db2e86e",
=======
   "id": "91b3f44c",
>>>>>>> documentation-devel
||||||| 1158767b
   "id": "a0591f6e",
=======
   "id": "906fc1ef",
>>>>>>> 6e0f6d6ef35309dec3607d4371c747197b435328
   "metadata": {},
   "outputs": [],
   "source": [
    "plotSpatialFeature(sfe, \"nGenes\", colGeometryName = \"centroids\", scattermore = TRUE)"
   ]
  },
  {
   "cell_type": "markdown",
<<<<<<< HEAD
<<<<<<< HEAD
   "id": "870412dd",
||||||| ff06ad40
   "id": "aec64cd1",
=======
   "id": "ea1d8279",
>>>>>>> documentation-devel
||||||| 1158767b
   "id": "870412dd",
=======
   "id": "96f6313b",
>>>>>>> 6e0f6d6ef35309dec3607d4371c747197b435328
   "metadata": {
    "lines_to_next_cell": 0
   },
   "source": [
    "Similarly to nCounts, the points look intermingled. \n",
    "\n",
    "Distribution of cell volume in space:"
   ]
  },
  {
   "cell_type": "code",
   "execution_count": null,
<<<<<<< HEAD
<<<<<<< HEAD
   "id": "bc262618",
||||||| ff06ad40
   "id": "cad25ce3",
=======
   "id": "5644828f",
>>>>>>> documentation-devel
||||||| 1158767b
   "id": "bc262618",
=======
   "id": "4a1d3d3e",
>>>>>>> 6e0f6d6ef35309dec3607d4371c747197b435328
   "metadata": {},
   "outputs": [],
   "source": [
    "plotSpatialFeature(sfe, \"volume\", colGeometryName = \"centroids\", scattermore = TRUE)"
   ]
  },
  {
   "cell_type": "markdown",
<<<<<<< HEAD
<<<<<<< HEAD
   "id": "45275705",
||||||| ff06ad40
   "id": "b56abf39",
=======
   "id": "e93e529a",
>>>>>>> documentation-devel
||||||| 1158767b
   "id": "45275705",
=======
   "id": "fbd9350f",
>>>>>>> 6e0f6d6ef35309dec3607d4371c747197b435328
   "metadata": {
    "lines_to_next_cell": 0
   },
   "source": [
    "Next, we explore how nCounts relates to nGenes:"
   ]
  },
  {
   "cell_type": "code",
   "execution_count": null,
<<<<<<< HEAD
<<<<<<< HEAD
   "id": "f4006598",
||||||| ff06ad40
   "id": "e94322ea",
=======
   "id": "cba48712",
>>>>>>> documentation-devel
||||||| 1158767b
   "id": "f4006598",
=======
   "id": "60282a60",
>>>>>>> 6e0f6d6ef35309dec3607d4371c747197b435328
   "metadata": {},
   "outputs": [],
   "source": [
    "plotColDataBin2D(sfe, \"nCounts\", \"nGenes\")"
   ]
  },
  {
   "cell_type": "markdown",
<<<<<<< HEAD
<<<<<<< HEAD
   "id": "3578a812",
||||||| ff06ad40
   "id": "89a7d6f6",
=======
   "id": "b3ab2a5e",
>>>>>>> documentation-devel
||||||| 1158767b
   "id": "3578a812",
=======
   "id": "65f88258",
>>>>>>> 6e0f6d6ef35309dec3607d4371c747197b435328
   "metadata": {
    "lines_to_next_cell": 0
   },
   "source": [
    "There are two branches in this plot. \n",
    "\n",
    "How does cell size relate to nCounts?"
   ]
  },
  {
   "cell_type": "code",
   "execution_count": null,
<<<<<<< HEAD
<<<<<<< HEAD
   "id": "1f7a1cc7",
||||||| ff06ad40
   "id": "9ed4360a",
=======
   "id": "3ab1a319",
>>>>>>> documentation-devel
||||||| 1158767b
   "id": "1f7a1cc7",
=======
   "id": "c666fa76",
>>>>>>> 6e0f6d6ef35309dec3607d4371c747197b435328
   "metadata": {},
   "outputs": [],
   "source": [
    "plotColDataBin2D(sfe, \"volume\", \"nCounts\")"
   ]
  },
  {
   "cell_type": "markdown",
<<<<<<< HEAD
<<<<<<< HEAD
   "id": "2b9bea05",
||||||| ff06ad40
   "id": "71064efd",
=======
   "id": "2f11b9b1",
>>>>>>> documentation-devel
||||||| 1158767b
   "id": "2b9bea05",
=======
   "id": "9450a2a5",
>>>>>>> 6e0f6d6ef35309dec3607d4371c747197b435328
   "metadata": {
    "lines_to_next_cell": 0
   },
   "source": [
    "The lower branch has the larger cells that don't tend to have more total counts, and the upper branch has larger cells that tend to have more total counts.\n",
    "\n",
    "We also examine how cell size relates to number of genes detected:"
   ]
  },
  {
   "cell_type": "code",
   "execution_count": null,
<<<<<<< HEAD
<<<<<<< HEAD
   "id": "d22fc8ef",
||||||| ff06ad40
   "id": "0e695721",
=======
   "id": "24b19e84",
>>>>>>> documentation-devel
||||||| 1158767b
   "id": "d22fc8ef",
=======
   "id": "b9e54379",
>>>>>>> 6e0f6d6ef35309dec3607d4371c747197b435328
   "metadata": {},
   "outputs": [],
   "source": [
    "plotColDataBin2D(sfe, \"volume\", \"nGenes\")"
   ]
  },
  {
   "cell_type": "markdown",
<<<<<<< HEAD
<<<<<<< HEAD
   "id": "8b0765d3",
||||||| ff06ad40
   "id": "8a7fed44",
=======
   "id": "7f561b1d",
>>>>>>> documentation-devel
||||||| 1158767b
   "id": "8b0765d3",
=======
   "id": "c214d003",
>>>>>>> 6e0f6d6ef35309dec3607d4371c747197b435328
   "metadata": {
    "lines_to_next_cell": 0
   },
   "source": [
    "There seem to be clusters that are possibly related to cell type. \n",
    "\n",
    "### Negative controls\n",
    "Blank probes are used as negative controls."
   ]
  },
  {
   "cell_type": "code",
   "execution_count": null,
<<<<<<< HEAD
<<<<<<< HEAD
   "id": "3ffb7abf",
||||||| ff06ad40
   "id": "a9957889",
=======
   "id": "3d085e89",
>>>>>>> documentation-devel
||||||| 1158767b
   "id": "3ffb7abf",
=======
   "id": "7314a693",
>>>>>>> 6e0f6d6ef35309dec3607d4371c747197b435328
   "metadata": {},
   "outputs": [],
   "source": [
    "is_blank <- str_detect(rownames(sfe), \"^Blank-\")"
   ]
  },
  {
   "cell_type": "code",
   "execution_count": null,
<<<<<<< HEAD
<<<<<<< HEAD
   "id": "7513d854",
||||||| ff06ad40
   "id": "f62d4cde",
=======
   "id": "9744231a",
>>>>>>> documentation-devel
||||||| 1158767b
   "id": "7513d854",
=======
   "id": "18b1fac1",
>>>>>>> 6e0f6d6ef35309dec3607d4371c747197b435328
   "metadata": {},
   "outputs": [],
   "source": [
    "sfe <- addPerCellQCMetrics(sfe, subset = list(blank = is_blank))"
   ]
  },
  {
   "cell_type": "code",
   "execution_count": null,
<<<<<<< HEAD
<<<<<<< HEAD
   "id": "9f8f7697",
||||||| ff06ad40
   "id": "4b0825ed",
=======
   "id": "77bb3388",
>>>>>>> documentation-devel
||||||| 1158767b
   "id": "9f8f7697",
=======
   "id": "3b069102",
>>>>>>> 6e0f6d6ef35309dec3607d4371c747197b435328
   "metadata": {},
   "outputs": [],
   "source": [
    "names(colData(sfe))"
   ]
  },
  {
   "cell_type": "markdown",
<<<<<<< HEAD
<<<<<<< HEAD
   "id": "6da51263",
||||||| ff06ad40
   "id": "6ae49318",
=======
   "id": "84ccd7ba",
>>>>>>> documentation-devel
||||||| 1158767b
   "id": "6da51263",
=======
   "id": "35c634ff",
>>>>>>> 6e0f6d6ef35309dec3607d4371c747197b435328
   "metadata": {
    "lines_to_next_cell": 0
   },
   "source": [
    "Total transcript counts from the blank probes:"
   ]
  },
  {
   "cell_type": "code",
   "execution_count": null,
<<<<<<< HEAD
<<<<<<< HEAD
   "id": "fa4318ff",
||||||| ff06ad40
   "id": "bbe1df0c",
=======
   "id": "c4b0695c",
>>>>>>> documentation-devel
||||||| 1158767b
   "id": "fa4318ff",
=======
   "id": "fc68f5cc",
>>>>>>> 6e0f6d6ef35309dec3607d4371c747197b435328
   "metadata": {},
   "outputs": [],
   "source": [
    "plotSpatialFeature(sfe, \"subsets_blank_sum\", colGeometryName = \"centroids\",\n",
    "                   scattermore = TRUE)"
   ]
  },
  {
   "cell_type": "markdown",
<<<<<<< HEAD
<<<<<<< HEAD
   "id": "69952cec",
||||||| ff06ad40
   "id": "1b4d25cb",
=======
   "id": "d5b48926",
>>>>>>> documentation-devel
||||||| 1158767b
   "id": "69952cec",
=======
   "id": "4ae4154d",
>>>>>>> 6e0f6d6ef35309dec3607d4371c747197b435328
   "metadata": {
    "lines_to_next_cell": 0
   },
   "source": [
    "Number of blank features detected per cell:"
   ]
  },
  {
   "cell_type": "code",
   "execution_count": null,
<<<<<<< HEAD
<<<<<<< HEAD
   "id": "08be2462",
||||||| ff06ad40
   "id": "0f0c7edd",
=======
   "id": "3311a1be",
>>>>>>> documentation-devel
||||||| 1158767b
   "id": "08be2462",
=======
   "id": "20533a62",
>>>>>>> 6e0f6d6ef35309dec3607d4371c747197b435328
   "metadata": {},
   "outputs": [],
   "source": [
    "plotSpatialFeature(sfe, \"subsets_blank_detected\", colGeometryName = \"centroids\",\n",
    "                   scattermore = TRUE)"
   ]
  },
  {
   "cell_type": "markdown",
<<<<<<< HEAD
<<<<<<< HEAD
   "id": "ded65933",
||||||| ff06ad40
   "id": "f17068cf",
=======
   "id": "7683e647",
>>>>>>> documentation-devel
||||||| 1158767b
   "id": "ded65933",
=======
   "id": "7151644f",
>>>>>>> 6e0f6d6ef35309dec3607d4371c747197b435328
   "metadata": {
    "lines_to_next_cell": 0
   },
   "source": [
    "Percentage of blank features per cell:"
   ]
  },
  {
   "cell_type": "code",
   "execution_count": null,
<<<<<<< HEAD
<<<<<<< HEAD
   "id": "8294a85f",
||||||| ff06ad40
   "id": "6f53aa4e",
=======
   "id": "a22d40df",
>>>>>>> documentation-devel
||||||| 1158767b
   "id": "8294a85f",
=======
   "id": "65f03dae",
>>>>>>> 6e0f6d6ef35309dec3607d4371c747197b435328
   "metadata": {},
   "outputs": [],
   "source": [
    "plotSpatialFeature(sfe, \"subsets_blank_percent\", colGeometryName = \"centroids\",\n",
    "                   scattermore = TRUE)"
   ]
  },
  {
   "cell_type": "markdown",
<<<<<<< HEAD
<<<<<<< HEAD
   "id": "a68aa5fb",
||||||| ff06ad40
   "id": "d83e2f29",
=======
   "id": "35d6eae1",
>>>>>>> documentation-devel
||||||| 1158767b
   "id": "a68aa5fb",
=======
   "id": "1d7cdd07",
>>>>>>> 6e0f6d6ef35309dec3607d4371c747197b435328
   "metadata": {
    "lines_to_next_cell": 0
   },
   "source": [
    "The percentage is more interesting: within the tissue, cells with high percentage of blank counts are scattered like salt and pepper, but more of these cells are on the left edge of the tissue, the edges of FOVs, where the tissue itself doesn't end. \n",
    "\n",
    "Also plot histograms: "
   ]
  },
  {
   "cell_type": "code",
   "execution_count": null,
<<<<<<< HEAD
<<<<<<< HEAD
   "id": "81e4f762",
||||||| ff06ad40
   "id": "b1f09577",
=======
   "id": "534d88c8",
>>>>>>> documentation-devel
||||||| 1158767b
   "id": "81e4f762",
=======
   "id": "c0069732",
>>>>>>> 6e0f6d6ef35309dec3607d4371c747197b435328
   "metadata": {},
   "outputs": [],
   "source": [
    "plotColDataHistogram(sfe, paste0(\"subsets_blank_\", c(\"sum\", \"detected\", \"percent\")))"
   ]
  },
  {
   "cell_type": "markdown",
<<<<<<< HEAD
<<<<<<< HEAD
   "id": "b001cffa",
||||||| ff06ad40
   "id": "d88f7628",
=======
   "id": "a441b109",
>>>>>>> documentation-devel
||||||| 1158767b
   "id": "b001cffa",
=======
   "id": "276575c5",
>>>>>>> 6e0f6d6ef35309dec3607d4371c747197b435328
   "metadata": {
    "lines_to_next_cell": 0
   },
   "source": [
    "The NA's are cells without any transcript detected. "
   ]
  },
  {
   "cell_type": "code",
   "execution_count": null,
<<<<<<< HEAD
<<<<<<< HEAD
   "id": "bcbdcd01",
||||||| ff06ad40
   "id": "e92cf175",
=======
   "id": "9785745e",
>>>>>>> documentation-devel
||||||| 1158767b
   "id": "bcbdcd01",
=======
   "id": "164a0d59",
>>>>>>> 6e0f6d6ef35309dec3607d4371c747197b435328
   "metadata": {},
   "outputs": [],
   "source": [
    "mean(sfe$subsets_blank_sum > 0)"
   ]
  },
  {
   "cell_type": "markdown",
<<<<<<< HEAD
<<<<<<< HEAD
   "id": "11ee0950",
||||||| ff06ad40
   "id": "c6030abf",
=======
   "id": "4a3d3d15",
>>>>>>> documentation-devel
||||||| 1158767b
   "id": "11ee0950",
=======
   "id": "0c631e03",
>>>>>>> 6e0f6d6ef35309dec3607d4371c747197b435328
   "metadata": {
    "lines_to_next_cell": 0
   },
   "source": [
    "Unlike in the Xenium dataset, here most cells have at least one blank count. By log transforming, the zeroes are removed from the plot. "
   ]
  },
  {
   "cell_type": "code",
   "execution_count": null,
<<<<<<< HEAD
<<<<<<< HEAD
   "id": "6bdaef34",
||||||| ff06ad40
   "id": "c35c8cd7",
=======
   "id": "5f3ad294",
>>>>>>> documentation-devel
||||||| 1158767b
   "id": "6bdaef34",
=======
   "id": "d8bcd7e5",
>>>>>>> 6e0f6d6ef35309dec3607d4371c747197b435328
   "metadata": {},
   "outputs": [],
   "source": [
    "plotColDataHistogram(sfe, \"subsets_blank_percent\") +\n",
    "    scale_x_log10() +\n",
    "    annotation_logticks()"
   ]
  },
  {
   "cell_type": "markdown",
<<<<<<< HEAD
<<<<<<< HEAD
   "id": "0f4f63a7",
||||||| ff06ad40
   "id": "513990f9",
=======
   "id": "38d10329",
>>>>>>> documentation-devel
||||||| 1158767b
   "id": "0f4f63a7",
=======
   "id": "3046c779",
>>>>>>> 6e0f6d6ef35309dec3607d4371c747197b435328
   "metadata": {},
   "source": [
    "A small percentage of blank counts is acceptable. So we will remove the outlier based on the distribution of the percentage when it's greater than zero. How does the blank percentage relate to total counts?"
   ]
  },
  {
   "cell_type": "code",
   "execution_count": null,
<<<<<<< HEAD
<<<<<<< HEAD
   "id": "2a1795a9",
||||||| ff06ad40
   "id": "f91b3cb3",
=======
   "id": "ed3c036d",
>>>>>>> documentation-devel
||||||| 1158767b
   "id": "2a1795a9",
=======
   "id": "559fccfd",
>>>>>>> 6e0f6d6ef35309dec3607d4371c747197b435328
   "metadata": {},
   "outputs": [],
   "source": [
    "plotColDataBin2D(sfe, \"nCounts\", \"subsets_blank_percent\") +\n",
    "    scale_fill_viridis_c()"
   ]
  },
  {
   "cell_type": "markdown",
<<<<<<< HEAD
<<<<<<< HEAD
   "id": "5f544f3d",
||||||| ff06ad40
   "id": "8a0bf715",
=======
   "id": "54e1aac0",
>>>>>>> documentation-devel
||||||| 1158767b
   "id": "5f544f3d",
=======
   "id": "3c736504",
>>>>>>> 6e0f6d6ef35309dec3607d4371c747197b435328
   "metadata": {
    "lines_to_next_cell": 0
   },
   "source": [
    "The outliers in percentage of blank counts have low total counts. But there are some seemingly real cells with sizable nCounts which have a relatively high percentage of blank counts. Since the distribution of this percentage has a very long tail, we log transform it when finding outliers."
   ]
  },
  {
   "cell_type": "code",
   "execution_count": null,
<<<<<<< HEAD
<<<<<<< HEAD
   "id": "c8699adc",
||||||| ff06ad40
   "id": "a41d8161",
=======
   "id": "49db1702",
>>>>>>> documentation-devel
||||||| 1158767b
   "id": "c8699adc",
=======
   "id": "9238dbc8",
>>>>>>> 6e0f6d6ef35309dec3607d4371c747197b435328
   "metadata": {},
   "outputs": [],
   "source": [
    "get_neg_ctrl_outliers <- function(col, sfe, nmads = 3, log = FALSE) {\n",
    "    inds <- colData(sfe)$nCounts > 0 & colData(sfe)[[col]] > 0\n",
    "    df <- colData(sfe)[inds,]\n",
    "    outlier_inds <- isOutlier(df[[col]], type = \"higher\", nmads = nmads, log = log)\n",
    "    outliers <- rownames(df)[outlier_inds]\n",
    "    col2 <- str_remove(col, \"^subsets_\")\n",
    "    col2 <- str_remove(col2, \"_percent$\")\n",
    "    new_colname <- paste(\"is\", col2, \"outlier\", sep = \"_\")\n",
    "    colData(sfe)[[new_colname]] <- colnames(sfe) %in% outliers\n",
    "    sfe\n",
    "}"
   ]
  },
  {
   "cell_type": "code",
   "execution_count": null,
<<<<<<< HEAD
<<<<<<< HEAD
   "id": "f629ba73",
||||||| ff06ad40
   "id": "d205bb14",
=======
   "id": "e2c8dbcc",
>>>>>>> documentation-devel
||||||| 1158767b
   "id": "f629ba73",
=======
   "id": "48fd98ae",
>>>>>>> 6e0f6d6ef35309dec3607d4371c747197b435328
   "metadata": {},
   "outputs": [],
   "source": [
    "sfe <- get_neg_ctrl_outliers(\"subsets_blank_percent\", sfe, log = TRUE)"
   ]
  },
  {
   "cell_type": "markdown",
<<<<<<< HEAD
<<<<<<< HEAD
   "id": "50064e2d",
||||||| ff06ad40
   "id": "b76597d7",
=======
   "id": "1000b3a4",
>>>>>>> documentation-devel
||||||| 1158767b
   "id": "50064e2d",
=======
   "id": "9d315afe",
>>>>>>> 6e0f6d6ef35309dec3607d4371c747197b435328
   "metadata": {
    "lines_to_next_cell": 0
   },
   "source": [
    "What proportion of all cells are outliers?"
   ]
  },
  {
   "cell_type": "code",
   "execution_count": null,
<<<<<<< HEAD
<<<<<<< HEAD
   "id": "534d123a",
||||||| ff06ad40
   "id": "b3204afa",
=======
   "id": "a6530f08",
>>>>>>> documentation-devel
||||||| 1158767b
   "id": "534d123a",
=======
   "id": "7390ecc9",
>>>>>>> 6e0f6d6ef35309dec3607d4371c747197b435328
   "metadata": {},
   "outputs": [],
   "source": [
    "mean(sfe$is_blank_outlier)"
   ]
  },
  {
   "cell_type": "markdown",
<<<<<<< HEAD
<<<<<<< HEAD
   "id": "dcc4f6d6",
||||||| ff06ad40
   "id": "ccad1f2d",
=======
   "id": "6880d017",
>>>>>>> documentation-devel
||||||| 1158767b
   "id": "dcc4f6d6",
=======
   "id": "abbfae2f",
>>>>>>> 6e0f6d6ef35309dec3607d4371c747197b435328
   "metadata": {
    "lines_to_next_cell": 0
   },
   "source": [
    "What's the cutoff for outlier?"
   ]
  },
  {
   "cell_type": "code",
   "execution_count": null,
<<<<<<< HEAD
<<<<<<< HEAD
   "id": "faf1e3eb",
||||||| ff06ad40
   "id": "fef125e1",
=======
   "id": "221b10bf",
>>>>>>> documentation-devel
||||||| 1158767b
   "id": "faf1e3eb",
=======
   "id": "89fea2a7",
>>>>>>> 6e0f6d6ef35309dec3607d4371c747197b435328
   "metadata": {},
   "outputs": [],
   "source": [
    "min(sfe$subsets_blank_percent[sfe$is_blank_outlier])"
   ]
  },
  {
   "cell_type": "markdown",
<<<<<<< HEAD
<<<<<<< HEAD
   "id": "9f78b129",
||||||| ff06ad40
   "id": "a23e7367",
=======
   "id": "189638cf",
>>>>>>> documentation-devel
||||||| 1158767b
   "id": "9f78b129",
=======
   "id": "a46cd90d",
>>>>>>> 6e0f6d6ef35309dec3607d4371c747197b435328
   "metadata": {
    "lines_to_next_cell": 0
   },
   "source": [
    "Remove the outliers and empty cells:"
   ]
  },
  {
   "cell_type": "code",
   "execution_count": null,
<<<<<<< HEAD
<<<<<<< HEAD
   "id": "f3dcbcdb",
||||||| ff06ad40
   "id": "040146a5",
=======
   "id": "c6c42689",
>>>>>>> documentation-devel
||||||| 1158767b
   "id": "f3dcbcdb",
=======
   "id": "94f79322",
>>>>>>> 6e0f6d6ef35309dec3607d4371c747197b435328
   "metadata": {},
   "outputs": [],
   "source": [
    "(sfe <- sfe[, !sfe$is_blank_outlier & sfe$nCounts > 0])"
   ]
  },
  {
   "cell_type": "markdown",
<<<<<<< HEAD
<<<<<<< HEAD
   "id": "6395fbdb",
||||||| ff06ad40
   "id": "e844b065",
=======
   "id": "20543335",
>>>>>>> documentation-devel
||||||| 1158767b
   "id": "6395fbdb",
=======
   "id": "0773ca98",
>>>>>>> 6e0f6d6ef35309dec3607d4371c747197b435328
   "metadata": {
    "lines_to_next_cell": 0
   },
   "source": [
    "There still are over 390,000 cells left after removing the outliers.\n",
    "\n",
    "## Genes\n",
    "Here we look at the mean and variance of each gene:"
   ]
  },
  {
   "cell_type": "code",
   "execution_count": null,
<<<<<<< HEAD
<<<<<<< HEAD
   "id": "babef22a",
||||||| ff06ad40
   "id": "69b5ec52",
=======
   "id": "08662f07",
>>>>>>> documentation-devel
||||||| 1158767b
   "id": "babef22a",
=======
   "id": "e13db448",
>>>>>>> 6e0f6d6ef35309dec3607d4371c747197b435328
   "metadata": {},
   "outputs": [],
   "source": [
    "rowData(sfe)$means <- rowMeans(counts(sfe))\n",
    "rowData(sfe)$vars <- rowVars(counts(sfe))"
   ]
  },
  {
   "cell_type": "code",
   "execution_count": null,
<<<<<<< HEAD
<<<<<<< HEAD
   "id": "5d1b499c",
||||||| ff06ad40
   "id": "abcfbbef",
=======
   "id": "b38a55d8",
>>>>>>> documentation-devel
||||||| 1158767b
   "id": "5d1b499c",
=======
   "id": "facb20df",
>>>>>>> 6e0f6d6ef35309dec3607d4371c747197b435328
   "metadata": {},
   "outputs": [],
   "source": [
    "rowData(sfe)$is_blank <- is_blank\n",
    "plotRowData(sfe, x = \"means\", y = \"is_blank\") +\n",
    "    scale_y_log10() +\n",
    "    annotation_logticks(sides = \"b\")"
   ]
  },
  {
   "cell_type": "markdown",
<<<<<<< HEAD
<<<<<<< HEAD
   "id": "21bc2cf8",
||||||| ff06ad40
   "id": "78234535",
=======
   "id": "94ff5826",
>>>>>>> documentation-devel
||||||| 1158767b
   "id": "21bc2cf8",
=======
   "id": "cff18b3c",
>>>>>>> 6e0f6d6ef35309dec3607d4371c747197b435328
   "metadata": {
    "lines_to_next_cell": 0
   },
   "source": [
    "Most genes display higher mean expression than blanks, but there is considerable overlap in the distribution, probably because some genes expressed at lower levels or in fewer cells are included.\n",
    "\n",
    "Here the \"real\" genes and negative controls are plotted in different colors:"
   ]
  },
  {
   "cell_type": "code",
   "execution_count": null,
<<<<<<< HEAD
<<<<<<< HEAD
   "id": "ab0a895e",
||||||| ff06ad40
   "id": "402c263e",
=======
   "id": "769be832",
>>>>>>> documentation-devel
||||||| 1158767b
   "id": "ab0a895e",
=======
   "id": "1310f144",
>>>>>>> 6e0f6d6ef35309dec3607d4371c747197b435328
   "metadata": {},
   "outputs": [],
   "source": [
    "plotRowData(sfe, x = \"means\", y = \"vars\", colour_by = \"is_blank\") +\n",
    "    geom_abline(slope = 1, intercept = 0, color = \"red\") +\n",
    "    scale_x_log10() + scale_y_log10() +\n",
    "    annotation_logticks() +\n",
    "    coord_equal()"
   ]
  },
  {
   "cell_type": "markdown",
<<<<<<< HEAD
<<<<<<< HEAD
   "id": "0df3a7d5",
||||||| ff06ad40
   "id": "c34b1409",
=======
   "id": "8b532a7f",
>>>>>>> documentation-devel
||||||| 1158767b
   "id": "0df3a7d5",
=======
   "id": "16e71080",
>>>>>>> 6e0f6d6ef35309dec3607d4371c747197b435328
   "metadata": {
    "lines_to_next_cell": 0
   },
   "source": [
    "The red line $y = x$ is expected when the data follows a Poisson distribution. "
   ]
  },
  {
   "cell_type": "code",
   "execution_count": null,
<<<<<<< HEAD
<<<<<<< HEAD
   "id": "e91f1135",
||||||| ff06ad40
   "id": "9535d499",
=======
   "id": "690a75d0",
>>>>>>> documentation-devel
||||||| 1158767b
   "id": "e91f1135",
=======
   "id": "902efaed",
>>>>>>> 6e0f6d6ef35309dec3607d4371c747197b435328
   "metadata": {},
   "outputs": [],
   "source": [
    "as.data.frame(rowData(sfe)[is_blank,]) |> \n",
    "    ggplot(aes(means, vars)) +\n",
    "    geom_point() +\n",
    "    geom_abline(slope = 1, intercept = 0, color = \"red\") +\n",
    "    scale_x_log10() + scale_y_log10() +\n",
    "    annotation_logticks() +\n",
    "    coord_equal()"
   ]
  },
  {
   "cell_type": "markdown",
<<<<<<< HEAD
<<<<<<< HEAD
   "id": "2825af97",
||||||| ff06ad40
   "id": "9e96cf91",
=======
   "id": "a5862a12",
>>>>>>> documentation-devel
||||||| 1158767b
   "id": "2825af97",
=======
   "id": "c6463ee2",
>>>>>>> 6e0f6d6ef35309dec3607d4371c747197b435328
   "metadata": {
    "lines_to_next_cell": 0
   },
   "source": [
    "When zoomed in, the blanks are somewhat overdispersed.\n",
    "\n",
    "# Spatial autocorrelation of QC metrics\n",
    "\n",
    "Again, we plot that zoomed in patch to visually inspect cell-cell contiguity:"
   ]
  },
  {
   "cell_type": "code",
   "execution_count": null,
<<<<<<< HEAD
<<<<<<< HEAD
   "id": "8f08760b",
||||||| ff06ad40
   "id": "561ff5b8",
=======
   "id": "0b1642e8",
>>>>>>> documentation-devel
||||||| 1158767b
   "id": "8f08760b",
=======
   "id": "3ab4cfb4",
>>>>>>> 6e0f6d6ef35309dec3607d4371c747197b435328
   "metadata": {
    "lines_to_next_cell": 2
   },
   "outputs": [],
   "source": [
    "plotGeometry(sfe, \"cellSeg\", bbox = bbox_use)"
   ]
  },
  {
   "cell_type": "markdown",
<<<<<<< HEAD
<<<<<<< HEAD
   "id": "2459f7ca",
||||||| ff06ad40
   "id": "76dae295",
=======
   "id": "1cff119f",
>>>>>>> documentation-devel
||||||| 1158767b
   "id": "2459f7ca",
=======
   "id": "4f3ff2bf",
>>>>>>> 6e0f6d6ef35309dec3607d4371c747197b435328
   "metadata": {},
   "source": [
    "There are quite a few cells that are not contiguous to any other cell, and cell segmentation is imperfect, so purely using `poly2nb()` is problematic. In the next release, we might implement a way to blend a polygon contiguity graph with some other graph in case of singletons. For now, we use k nearest neighbors with $k = 5$, which seems like a reasonable approximation of contiguity based on the visual inspection. \n",
    "\n",
    "As of Voyager 1.2.0 (Bioconductor 3.17), `findSpatialNeighbors()` by default uses `BiocNeighbors` for k nearest neighbors and distance neighbors and saving the distances between neighbors. This bypasses the most time consuming step in `spdep` when calculating distance based edge weights, which is to compute distance, hence greatly speeding up computation."
   ]
  },
  {
   "cell_type": "code",
   "execution_count": null,
<<<<<<< HEAD
<<<<<<< HEAD
   "id": "06e937f4",
||||||| ff06ad40
   "id": "6abdcd11",
=======
   "id": "12991677",
>>>>>>> documentation-devel
||||||| 1158767b
   "id": "06e937f4",
=======
   "id": "2ba49933",
>>>>>>> 6e0f6d6ef35309dec3607d4371c747197b435328
   "metadata": {},
   "outputs": [],
   "source": [
    "system.time(\n",
    "    colGraph(sfe, \"knn5\") <- findSpatialNeighbors(sfe, method = \"knearneigh\", \n",
    "                                                  dist_type = \"idw\", k = 5, \n",
    "                                                  style = \"W\")\n",
    ")"
   ]
  },
  {
   "cell_type": "markdown",
<<<<<<< HEAD
<<<<<<< HEAD
   "id": "f8610111",
||||||| ff06ad40
   "id": "6c2b98b5",
=======
   "id": "f4f8aed6",
>>>>>>> documentation-devel
||||||| 1158767b
   "id": "f8610111",
=======
   "id": "3695f712",
>>>>>>> 6e0f6d6ef35309dec3607d4371c747197b435328
   "metadata": {},
   "source": [
    "With the spatial neighborhood graph, we can compute Moran's I for QC metrics."
   ]
  },
  {
   "cell_type": "code",
   "execution_count": null,
<<<<<<< HEAD
<<<<<<< HEAD
   "id": "05161726",
||||||| ff06ad40
   "id": "76cc850e",
=======
   "id": "690214c1",
>>>>>>> documentation-devel
||||||| 1158767b
   "id": "05161726",
=======
   "id": "16ee4b83",
>>>>>>> 6e0f6d6ef35309dec3607d4371c747197b435328
   "metadata": {},
   "outputs": [],
   "source": [
    "sfe <- colDataMoransI(sfe, c(\"nCounts\", \"nGenes\", \"volume\"), \n",
    "                      colGraphName = \"knn5\")"
   ]
  },
  {
   "cell_type": "code",
   "execution_count": null,
<<<<<<< HEAD
<<<<<<< HEAD
   "id": "d0fd4f1e",
||||||| ff06ad40
   "id": "c355b86e",
=======
   "id": "1e272d87",
>>>>>>> documentation-devel
||||||| 1158767b
   "id": "d0fd4f1e",
=======
   "id": "2122ad98",
>>>>>>> 6e0f6d6ef35309dec3607d4371c747197b435328
   "metadata": {},
   "outputs": [],
   "source": [
    "colFeatureData(sfe)[c(\"nCounts\", \"nGenes\", \"volume\"),]"
   ]
  },
  {
   "cell_type": "markdown",
<<<<<<< HEAD
<<<<<<< HEAD
   "id": "8ceaa5bf",
||||||| ff06ad40
   "id": "ba29d92c",
=======
   "id": "4b69a24a",
>>>>>>> documentation-devel
||||||| 1158767b
   "id": "8ceaa5bf",
=======
   "id": "b8e028fd",
>>>>>>> 6e0f6d6ef35309dec3607d4371c747197b435328
   "metadata": {
    "lines_to_next_cell": 0
   },
   "source": [
    "Unlike the other smFISH-based datasets on this website, nCounts and nGenes have sizable negative Moran's I's, which is closer to 0 for volume. It would be interesting to compare these metrics across different tissues, as we add more datasets to `SFEData` in future releases.\n",
    "\n",
    "Also check local Moran's I, since in that little patch we examined above, some regions may have more positive spatial autocorrelation."
   ]
  },
  {
   "cell_type": "code",
   "execution_count": null,
<<<<<<< HEAD
<<<<<<< HEAD
   "id": "dfc9d383",
||||||| ff06ad40
   "id": "c3ead95b",
=======
   "id": "46a27343",
>>>>>>> documentation-devel
||||||| 1158767b
   "id": "dfc9d383",
=======
   "id": "9a77995b",
>>>>>>> 6e0f6d6ef35309dec3607d4371c747197b435328
   "metadata": {},
   "outputs": [],
   "source": [
    "sfe <- colDataUnivariate(sfe, type = \"localmoran\", \n",
    "                         features = c(\"nCounts\", \"nGenes\", \"volume\"),\n",
    "                         colGraphName = \"knn5\")"
   ]
  },
  {
   "cell_type": "code",
   "execution_count": null,
<<<<<<< HEAD
<<<<<<< HEAD
   "id": "46b9c699",
||||||| ff06ad40
   "id": "4ea3d01c",
=======
   "id": "d70ff9a3",
>>>>>>> documentation-devel
||||||| 1158767b
   "id": "46b9c699",
=======
   "id": "ee13ae2b",
>>>>>>> 6e0f6d6ef35309dec3607d4371c747197b435328
   "metadata": {
    "fig.height": 7,
    "fig.width": 9
   },
   "outputs": [],
   "source": [
    "plotLocalResult(sfe, \"localmoran\", c(\"nCounts\", \"nGenes\", \"volume\"),\n",
    "                colGeometryName = \"centroids\", scattermore = TRUE,\n",
    "                ncol = 2, divergent = TRUE, diverge_center = 0)"
   ]
  },
  {
   "cell_type": "markdown",
<<<<<<< HEAD
<<<<<<< HEAD
   "id": "47b9ac6d",
||||||| ff06ad40
   "id": "de5ba332",
=======
   "id": "b196a89f",
>>>>>>> documentation-devel
||||||| 1158767b
   "id": "47b9ac6d",
=======
   "id": "23b3b60e",
>>>>>>> 6e0f6d6ef35309dec3607d4371c747197b435328
   "metadata": {
    "lines_to_next_cell": 0
   },
   "source": [
    "There are some niches around smaller blood vessels with positive local Moran's I for nCounts and nGenes. This is most likely due to the more homogeneous endothelial cells compared to hepatocytes.\n",
    "\n",
    "# Moran's I"
   ]
  },
  {
   "cell_type": "code",
   "execution_count": null,
<<<<<<< HEAD
<<<<<<< HEAD
   "id": "5347b50a",
||||||| ff06ad40
   "id": "9a56d261",
=======
   "id": "287c37a3",
>>>>>>> documentation-devel
||||||| 1158767b
   "id": "5347b50a",
=======
   "id": "d8b2fbaf",
>>>>>>> 6e0f6d6ef35309dec3607d4371c747197b435328
   "metadata": {},
   "outputs": [],
   "source": [
    "sfe <- logNormCounts(sfe)"
   ]
  },
  {
   "cell_type": "code",
   "execution_count": null,
<<<<<<< HEAD
<<<<<<< HEAD
   "id": "b231590c",
||||||| ff06ad40
   "id": "98237cd8",
=======
   "id": "9bcbc239",
>>>>>>> documentation-devel
||||||| 1158767b
   "id": "b231590c",
=======
   "id": "b4453c0b",
>>>>>>> 6e0f6d6ef35309dec3607d4371c747197b435328
   "metadata": {},
   "outputs": [],
   "source": [
    "system.time(\n",
    "    sfe <- runMoransI(sfe, BPPARAM = MulticoreParam(2))\n",
    ")"
   ]
  },
  {
   "cell_type": "markdown",
<<<<<<< HEAD
<<<<<<< HEAD
   "id": "c6734cd0",
||||||| ff06ad40
   "id": "d8ddb2c2",
=======
   "id": "75a026b4",
>>>>>>> documentation-devel
||||||| 1158767b
   "id": "c6734cd0",
=======
   "id": "8167d77e",
>>>>>>> 6e0f6d6ef35309dec3607d4371c747197b435328
   "metadata": {},
   "source": [
    "It's actually not as slow as I thought for almost 400,000 cells. How are Moran's I's distributed for real genes and blank probes?"
   ]
  },
  {
   "cell_type": "code",
   "execution_count": null,
<<<<<<< HEAD
<<<<<<< HEAD
   "id": "391ce517",
||||||| ff06ad40
   "id": "b1f57c2f",
=======
   "id": "3fa1407b",
>>>>>>> documentation-devel
||||||| 1158767b
   "id": "391ce517",
=======
   "id": "7d98214a",
>>>>>>> 6e0f6d6ef35309dec3607d4371c747197b435328
   "metadata": {},
   "outputs": [],
   "source": [
    "plotRowData(sfe, x = \"moran_sample01\", y = \"is_blank\") +\n",
    "    geom_hline(yintercept = 0, linetype = 2)"
   ]
  },
  {
   "cell_type": "markdown",
<<<<<<< HEAD
<<<<<<< HEAD
   "id": "bd580e50",
||||||| ff06ad40
   "id": "84d90fbe",
=======
   "id": "ecb3306d",
>>>>>>> documentation-devel
||||||| 1158767b
   "id": "bd580e50",
=======
   "id": "131dd816",
>>>>>>> 6e0f6d6ef35309dec3607d4371c747197b435328
   "metadata": {},
   "source": [
    "The blanks are clustered tightly around 0. The vast majority of real genes have positive spatial autocorrelation, some quite strong. But some genes have negative spatial autocorrelation, although it may or may not be statistically significant.\n",
    "\n",
    "Plot the top genes with positive spatial autocorrelation:"
   ]
  },
  {
   "cell_type": "code",
   "execution_count": null,
<<<<<<< HEAD
<<<<<<< HEAD
   "id": "c36ce051",
||||||| ff06ad40
   "id": "3279e65e",
=======
   "id": "3baa8143",
>>>>>>> documentation-devel
||||||| 1158767b
   "id": "c36ce051",
=======
   "id": "d27bcedd",
>>>>>>> 6e0f6d6ef35309dec3607d4371c747197b435328
   "metadata": {
    "fig.height": 12,
    "fig.width": 9
   },
   "outputs": [],
   "source": [
    "top_moran <- rownames(sfe)[order(rowData(sfe)$moran_sample01, decreasing = TRUE)[1:6]]\n",
    "plotSpatialFeature(sfe, top_moran, colGeometryName = \"centroids\", scattermore = TRUE,\n",
    "                   ncol = 2)"
   ]
  },
  {
   "cell_type": "markdown",
<<<<<<< HEAD
<<<<<<< HEAD
   "id": "d852fa64",
||||||| ff06ad40
   "id": "12e920d4",
=======
   "id": "c38441b9",
>>>>>>> documentation-devel
||||||| 1158767b
   "id": "d852fa64",
=======
   "id": "2787ed6f",
>>>>>>> 6e0f6d6ef35309dec3607d4371c747197b435328
   "metadata": {},
   "source": [
    "Unlike in the other smFISH-based cancer datasets on this dataset, the genes with the highest Moran's I highlight different histological regions. Some probably for zones in the hepatic lobule, and some for blood vessels. It would be interesting to compare spatial autocorrelation of marker genes among different tissues and cell types.\n",
    "\n",
    "Negative Moran's I means that nearby cells tend to be more dissimilar to each other. That would be hard to see when plotting the whole tissue section, so we will use that bounding box again. The gene with the most negative Moran's I is compared to one with Moran's I closest to 0."
   ]
  },
  {
   "cell_type": "code",
   "execution_count": null,
<<<<<<< HEAD
<<<<<<< HEAD
   "id": "ea242dd7",
||||||| ff06ad40
   "id": "8c42d1cd",
=======
   "id": "3783858e",
>>>>>>> documentation-devel
||||||| 1158767b
   "id": "ea242dd7",
=======
   "id": "32e858ff",
>>>>>>> 6e0f6d6ef35309dec3607d4371c747197b435328
   "metadata": {
    "fig.height": 5,
    "fig.width": 9
   },
   "outputs": [],
   "source": [
    "bottom_moran <- rownames(sfe)[order(rowData(sfe)$moran_sample01)[1]]\n",
    "bottom_abs_moran <- rownames(sfe)[order(abs(rowData(sfe)$moran_sample01))[1]]\n",
    "plotSpatialFeature(sfe, c(bottom_moran, bottom_abs_moran), \n",
    "                   colGeometryName = \"cellSeg\", bbox = bbox_use)"
   ]
  },
  {
   "cell_type": "markdown",
<<<<<<< HEAD
<<<<<<< HEAD
   "id": "2c7f1d8c",
||||||| ff06ad40
   "id": "1b4bdef6",
=======
   "id": "c593d243",
>>>>>>> documentation-devel
||||||| 1158767b
   "id": "2c7f1d8c",
=======
   "id": "fed98c46",
>>>>>>> 6e0f6d6ef35309dec3607d4371c747197b435328
   "metadata": {
    "lines_to_next_cell": 0
   },
   "source": [
    "As expected, the feature with Moran's I closest to 0 is a blank.\n",
    "\n",
    "# Spatial autocorrelation at larger length scales\n",
    "The k nearest neighbor graph used above only concerns 5 cells around each cell, which is a very small neighborhood, over a very small length scale. In the current release of `Voyager`, a correlogram can be computed to get a sense of the length scale of spatial autocorrelation. However, since finding the lag values over higher and higher orders of neighborhoods is very slow for such a large number of cells for higher orders, the correlogram is not very helpful here. In this section, we use some other methods involving binning to explore spatial autocorrelation at larger length scales.\n",
    "\n",
    "## Binning\n",
    "The `sf` package can create polygons in a grid, with which we can bin the cells and their attributes and gene expressions. Here we make a 100 by 100 hexagonal grid in the bounding box of the cell centroids."
   ]
  },
  {
   "cell_type": "code",
   "execution_count": null,
<<<<<<< HEAD
<<<<<<< HEAD
   "id": "19b9cc11",
||||||| ff06ad40
   "id": "91bd9af3",
=======
   "id": "8b284df8",
>>>>>>> documentation-devel
||||||| 1158767b
   "id": "19b9cc11",
=======
   "id": "64fc7317",
>>>>>>> 6e0f6d6ef35309dec3607d4371c747197b435328
   "metadata": {},
   "outputs": [],
   "source": [
    "(bins <- st_make_grid(colGeometry(sfe, \"centroids\"), n = 100, square = FALSE))"
   ]
  },
  {
   "cell_type": "markdown",
<<<<<<< HEAD
<<<<<<< HEAD
   "id": "52b8b476",
||||||| ff06ad40
   "id": "a713bff2",
=======
   "id": "b127e1a2",
>>>>>>> documentation-devel
||||||| 1158767b
   "id": "52b8b476",
=======
   "id": "1ce5d5c6",
>>>>>>> 6e0f6d6ef35309dec3607d4371c747197b435328
   "metadata": {
    "lines_to_next_cell": 0
   },
   "source": [
    "Here we use this grid to bin the QC metrics by averaging the values from the cells. Since bins not completely covered by tissue have fewer cells, the mean may be less susceptible to edge effect than the sum, as bins near the edge will have lower sums, which may spuriously increase Moran's I. "
   ]
  },
  {
   "cell_type": "code",
   "execution_count": null,
<<<<<<< HEAD
<<<<<<< HEAD
   "id": "9d88d873",
||||||| ff06ad40
   "id": "1f30a1cc",
=======
   "id": "a39265f0",
>>>>>>> documentation-devel
||||||| 1158767b
   "id": "9d88d873",
=======
   "id": "3a0b6862",
>>>>>>> 6e0f6d6ef35309dec3607d4371c747197b435328
   "metadata": {},
   "outputs": [],
   "source": [
    "df <- cbind(colGeometry(sfe, \"centroids\"), colData(sfe)[,c(\"nCounts\", \"nGenes\", \"volume\")])\n",
    "df_binned <- aggregate(df, bins, FUN = mean)\n",
    "# Remove bins not containing cells\n",
    "df_binned <- df_binned[!is.na(df_binned$nCounts),]"
   ]
  },
  {
   "cell_type": "markdown",
<<<<<<< HEAD
<<<<<<< HEAD
   "id": "34d34d83",
||||||| ff06ad40
   "id": "90ebeb7d",
=======
   "id": "2d687dcc",
>>>>>>> documentation-devel
||||||| 1158767b
   "id": "34d34d83",
=======
   "id": "c05f1ac2",
>>>>>>> 6e0f6d6ef35309dec3607d4371c747197b435328
   "metadata": {
    "lines_to_next_cell": 0
   },
   "source": [
    "Plot the binned values:"
   ]
  },
  {
   "cell_type": "code",
   "execution_count": null,
<<<<<<< HEAD
<<<<<<< HEAD
   "id": "491228c9",
||||||| ff06ad40
   "id": "e1cb65a2",
=======
   "id": "7ff66d20",
>>>>>>> documentation-devel
||||||| 1158767b
   "id": "491228c9",
=======
   "id": "a29fd96e",
>>>>>>> 6e0f6d6ef35309dec3607d4371c747197b435328
   "metadata": {
    "fig.height": 7,
    "fig.width": 9
   },
   "outputs": [],
   "source": [
    "# Not using facet_wrap to give each panel its own color scale\n",
    "plts <- lapply(c(\"nCounts\", \"nGenes\", \"volume\"), function(f) {\n",
    "    ggplot(df_binned[,f]) + geom_sf(aes(fill = .data[[f]]), linewidth = 0) +\n",
    "        scale_fill_distiller(palette = \"Blues\", direction = 1) + theme_void()\n",
    "})\n",
    "wrap_plots(plts, nrow = 2)"
   ]
  },
  {
   "cell_type": "markdown",
<<<<<<< HEAD
<<<<<<< HEAD
   "id": "364817b3",
||||||| ff06ad40
   "id": "e639d57c",
=======
   "id": "19821432",
>>>>>>> documentation-devel
||||||| 1158767b
   "id": "364817b3",
=======
   "id": "0f920c19",
>>>>>>> 6e0f6d6ef35309dec3607d4371c747197b435328
   "metadata": {
    "lines_to_next_cell": 0
   },
   "source": [
    "There's an outlier bin not as evident when plotting single cells. There's still some edge effect around blood vessels. This might be truly edge effect, or that endothelial cells tend to have lower values in all 3 variables here.\n",
    "\n",
    "Then compute Moran's I over the binned data, with contiguity neighborhoods. `zero.policy = TRUE` because there are some bins with no neighbors."
   ]
  },
  {
   "cell_type": "code",
   "execution_count": null,
<<<<<<< HEAD
<<<<<<< HEAD
   "id": "a57cc313",
||||||| ff06ad40
   "id": "32a027a2",
=======
   "id": "593154e0",
>>>>>>> documentation-devel
||||||| 1158767b
   "id": "a57cc313",
=======
   "id": "74bb48ec",
>>>>>>> 6e0f6d6ef35309dec3607d4371c747197b435328
   "metadata": {},
   "outputs": [],
   "source": [
    "nb <- poly2nb(df_binned)\n",
    "listw <- nb2listw(nb, zero.policy = TRUE)"
   ]
  },
  {
   "cell_type": "code",
   "execution_count": null,
<<<<<<< HEAD
<<<<<<< HEAD
   "id": "68077018",
||||||| ff06ad40
   "id": "84272222",
=======
   "id": "37732a7e",
>>>>>>> documentation-devel
||||||| 1158767b
   "id": "68077018",
=======
   "id": "ab23ddf3",
>>>>>>> 6e0f6d6ef35309dec3607d4371c747197b435328
   "metadata": {},
   "outputs": [],
   "source": [
    "calculateMoransI(t(as.matrix(st_drop_geometry(df_binned[,c(\"nCounts\", \"nGenes\", \"volume\")]))),\n",
    "                 listw = listw, zero.policy = TRUE)"
   ]
  },
  {
   "cell_type": "markdown",
<<<<<<< HEAD
<<<<<<< HEAD
   "id": "c09c3134",
||||||| ff06ad40
   "id": "3cc65204",
=======
   "id": "4225d93a",
>>>>>>> documentation-devel
||||||| 1158767b
   "id": "c09c3134",
=======
   "id": "2c9ef034",
>>>>>>> 6e0f6d6ef35309dec3607d4371c747197b435328
   "metadata": {},
   "source": [
    "At a larger length scale, Moran's I becomes positive. Comparing Moran's I across different sized bins can give a sense of the length scale of spatial autocorrelation. However, there are problems with binning to watch out for:\n",
    "\n",
    "1. Edge effect, especially when using the sum when binning\n",
    "2. Which function to use to aggregate the values when binning\n",
    "3. When using a rectangular grid, whether to use rook or queen neighbors. Rook means two cells are neighbors if they share an edge, while queen means they are neighbors even if they merely share a vertex. \n",
    "\n",
    "While binning can greatly speed up computation of spatial autocorrelation metrics for larger datasets, and is in fact used for Moran's I in Seurat, it can be used for smaller datasets to find length scales of spatial autocorrelation. On the other hand, as seen here, Moran's I can flip signs at different length scales, so for larger datasets, exploring spatial autocorrelation at the cell level would still be interesting.\n",
    "\n",
    "## Semivariogram\n",
    "In geostatistical data, an underlying spatial process is sampled at known locations. Kriging uses a Gaussian process to interpolate the values between the sample locations, and the semivariogram is used to model the spatial dependency between the locations as the covariance of the Gaussian process. When not kriging, the semivariogram can be used as an exploratory data analysis tool to find the length scale and anisotropy of spatial autocorrelation. One of the classic R packages in the geostatistical tradition is [`gstat`](https://cran.r-project.org/web/packages/gstat/index.html), which we use here to find semivariograms, defined as\n",
    "\n",
    "$$\n",
    "\\gamma(t) = \\frac 1 2 \\mathrm{Var}(X_t - X_0),\n",
    "$$\n",
    "\n",
    "where $X$ is the value such as gene expression, and $t$ is a spatial vector. $X_0$ is the value at a location of interest, and $X_t$ is the value lagged by $t$. With positive spatial autocorrelation, the variance would be smaller among nearby values, so the variogram would increase with distance, eventually leveling off when the distance is beyond the length scale of spatial autocorrelation. The \"semi\" comes from the 1/2.\n",
    "\n",
    "In the next release of Voyager, this will be part of `runUnivariate()` so the learning curve for users will be minimal.\n",
    "\n",
    "First we find an empirical variogram assuming that it's the same in all directions. Here the data is binned at distance intervals, so this is much faster than the correlogram at the cell level. The `width` argument controlls the bin size. The `cutoff` argument is the maximum distance to consider. Here we use the defaults. The first argument is a formula; covariates can be specified, but is not done here.\n",
    "\n",
    "With different widths and cutoffs, the variogram can be estimated at different length scales. The `gstat` package can also fit a model to the empirical variogram. See `vgm()` for the different types of models. The [`automap`](https://cran.r-project.org/web/packages/automap/) package can choose a model for the user, and is used here. \n",
    "\n",
    "Unfortunately, `gstat` doesn't scale to 400,000 cells, although it worked for 100,000 cells in the other smFISH-based datasets on this website. But since the variogram is used to explore larger length scales here anyway, we use the binned data here, but the problems with binning will apply."
   ]
  },
  {
   "cell_type": "code",
   "execution_count": null,
<<<<<<< HEAD
<<<<<<< HEAD
   "id": "1463f414",
||||||| ff06ad40
   "id": "5fb3ff00",
=======
   "id": "106ed549",
>>>>>>> documentation-devel
||||||| 1158767b
   "id": "1463f414",
=======
   "id": "ab21e7ac",
>>>>>>> 6e0f6d6ef35309dec3607d4371c747197b435328
   "metadata": {
    "warning": false
   },
   "outputs": [],
   "source": [
    "# as_Spatial since automap uses old fashioned sp, the predecessor of sf\n",
    "v <- autofitVariogram(nCounts ~ 1, as_Spatial(df_binned))\n",
    "plot(v)"
   ]
  },
  {
   "cell_type": "markdown",
<<<<<<< HEAD
<<<<<<< HEAD
   "id": "cab912f6",
||||||| ff06ad40
   "id": "847a2dfb",
=======
   "id": "10ce34e4",
>>>>>>> documentation-devel
||||||| 1158767b
   "id": "cab912f6",
=======
   "id": "1cae9d03",
>>>>>>> 6e0f6d6ef35309dec3607d4371c747197b435328
   "metadata": {
    "lines_to_next_cell": 0
   },
   "source": [
    "The numbers in this plot are the number of pairs in each distance bin. The variogram is not 0 at 0 distance; this is the variance within the bin size, called the nugget. The variogram levels off at greater distance, and the value of the variogram where is levels off is the sill. Range is where the variogram is leveling off, indicating length scale of spatial autocorrelation; the range from visual inspection appears closer to 1000 while the model somehow indicates 423. \n",
    "\n",
    "A variogram map can be made to see how spatial autocorrelation may differ in different directions, i.e. anisotropy"
   ]
  },
  {
   "cell_type": "code",
   "execution_count": null,
<<<<<<< HEAD
<<<<<<< HEAD
   "id": "a699c33b",
||||||| ff06ad40
   "id": "2c524d41",
=======
   "id": "cbdf23dc",
>>>>>>> documentation-devel
||||||| 1158767b
   "id": "a699c33b",
=======
   "id": "08adee7c",
>>>>>>> 6e0f6d6ef35309dec3607d4371c747197b435328
   "metadata": {},
   "outputs": [],
   "source": [
    "v2 <- variogram(nCounts ~ 1, data = df_binned, width = 300, cutoff = 4500, map = TRUE)\n",
    "plot(v2)"
   ]
  },
  {
   "cell_type": "markdown",
<<<<<<< HEAD
<<<<<<< HEAD
   "id": "28172b11",
||||||| ff06ad40
   "id": "3edcd824",
=======
   "id": "d98c9303",
>>>>>>> documentation-devel
||||||| 1158767b
   "id": "28172b11",
=======
   "id": "3bb9516e",
>>>>>>> 6e0f6d6ef35309dec3607d4371c747197b435328
   "metadata": {
    "lines_to_next_cell": 0
   },
   "source": [
    "Here apparently there's no anisotropy at shorter length scales, but there may be some artifact from the hexagonal bins. Going beyond 2000 (whatever unit), the variance drops at the northwest and southeast direction but not in other directions, perhaps related to the repetitiveness of the hepatic lobules and the general NE/SW direction of the blood vessels seen in the previous plots. \n",
    "\n",
    "The variogram can also be calculated at specified angles, here selected as sides of the hexagon:"
   ]
  },
  {
   "cell_type": "code",
   "execution_count": null,
<<<<<<< HEAD
<<<<<<< HEAD
   "id": "80039988",
||||||| ff06ad40
   "id": "911e68c7",
=======
   "id": "4b636e7a",
>>>>>>> documentation-devel
||||||| 1158767b
   "id": "80039988",
=======
   "id": "4e481909",
>>>>>>> 6e0f6d6ef35309dec3607d4371c747197b435328
   "metadata": {},
   "outputs": [],
   "source": [
    "v3 <- variogram(nCounts ~ 1, df_binned, alpha = c(30, 90, 150))\n",
    "v3_model <- fit.variogram(v3, vgm(\"Ste\"))\n",
    "plot(v3, v3_model)"
   ]
  },
  {
   "cell_type": "markdown",
<<<<<<< HEAD
<<<<<<< HEAD
   "id": "21290d06",
||||||| ff06ad40
   "id": "3d8b4eb4",
=======
   "id": "04c5ebd5",
>>>>>>> documentation-devel
||||||| 1158767b
   "id": "21290d06",
=======
   "id": "7e88b0d5",
>>>>>>> 6e0f6d6ef35309dec3607d4371c747197b435328
   "metadata": {},
   "source": [
    "The variogram rises when going beyond 2000 at 30 and 90 degrees and drops at 150 degrees. This is consistent with the variogram map. These differences are averaged out in the omni-directional variogram. `gstat` does not fit anisotropy parameters, so the fitted curve is omni-directional. It fits pretty well below 2000. This is only for nCounts, and may differ for other QC metrics and genes. What if anisotropy varies in space? A problem with the variogram is that it's global, giving one result for the entire dataset, albeit more nuanced than just a number as in Moran's I, because kriging assumes that the data is intrinsically stationary, meaning that the same variogram model applies everywhere, and that spatial dependence only depends on lag between two observations.\n",
    "\n",
    "Voyager 1.2.0 implements `ggplot2` based plotting functions to make better looking and more customizable plots of the variograms for SFE objects. However, the binned data is not in an SFE object. We are considering writing a method to spatially bin all cell level data in an SFE object. Here `gstat` is using `lattice`, a predecessor of `ggplot2` to make facetted plots and has been superseded by `ggplot2`. `gstat` is one of the oldest R packages still on CRAN, dating back to the days of S (prequel of R), although its oldest archive on CRAN is from 2003. `spdep` is also really old; its oldest archive on CRAN is from 2002, but it's still in active development. In using these time honored packages and methods (Moran's I and Geary's C themselves date back to the 1950s and their modern form date back to 1969 [@Cliff1969-wp; @Bivand2013-jx]) on the cool new spatial transcriptomics dataset, we are participating in a glorious tradition, which we will further develop as a spatial analysis tradition forms around spatial -omics data analysis.\n",
    "\n",
    "# PCA for larger datasets\n",
    "There are many ways to do PCA in R, and the [`BiocSingular`](https://bioconductor.org/packages/release/bioc/html/BiocSingular.html) package makes a number of different methods available with a consistent user interface, and it supports out of memory data in `DelayedArray`. According to [this benchmark](https://slowkow.com/notes/pca-benchmark/), `stats::prcomp()` shipped with R is rather slow for larger datasets. The fastest methods are `irlba::irlba()` and `RSpectra::svds()`, and the former is supported by `BiocSingular`. So here we use IRLBA and see how long it takes. Many PCA algorithms involve repeated matrix multiplications. R does not come with optimized BLAS and LAPACK, for portability reasons. However, the BLAS and LAPACK used by R can be changed to an optimized one (here's [how to do it](https://cran.r-project.org/doc/manuals/r-release/R-admin.html#Shared-BLAS)), which will speed up matrix multiplication. "
   ]
  },
  {
   "cell_type": "code",
   "execution_count": null,
<<<<<<< HEAD
<<<<<<< HEAD
   "id": "8684ec7f",
||||||| ff06ad40
   "id": "bf3fd2ed",
=======
   "id": "dab333e3",
>>>>>>> documentation-devel
||||||| 1158767b
   "id": "8684ec7f",
=======
   "id": "a19757f0",
>>>>>>> 6e0f6d6ef35309dec3607d4371c747197b435328
   "metadata": {},
   "outputs": [],
   "source": [
    "set.seed(29)\n",
    "system.time(\n",
    "    sfe <- runPCA(sfe, ncomponents = 20, subset_row = !is_blank,\n",
    "                  exprs_values = \"logcounts\",\n",
    "                  scale = TRUE, BSPARAM = IrlbaParam())\n",
    ")\n",
    "gc()"
   ]
  },
  {
   "cell_type": "markdown",
<<<<<<< HEAD
<<<<<<< HEAD
   "id": "70d04c09",
||||||| ff06ad40
   "id": "92cad370",
=======
   "id": "26f76bf7",
>>>>>>> documentation-devel
||||||| 1158767b
   "id": "70d04c09",
=======
   "id": "87acc629",
>>>>>>> 6e0f6d6ef35309dec3607d4371c747197b435328
   "metadata": {},
   "source": [
    "That's pretty quick for almost 400,000 cells, but there aren't that many genes here. Use the elbow plot to see variance explained by each PC:"
   ]
  },
  {
   "cell_type": "code",
   "execution_count": null,
<<<<<<< HEAD
<<<<<<< HEAD
   "id": "2d02a515",
||||||| ff06ad40
   "id": "6f56443b",
=======
   "id": "7dd6ca9d",
>>>>>>> documentation-devel
||||||| 1158767b
   "id": "2d02a515",
=======
   "id": "5464fcc9",
>>>>>>> 6e0f6d6ef35309dec3607d4371c747197b435328
   "metadata": {},
   "outputs": [],
   "source": [
    "ElbowPlot(sfe)"
   ]
  },
  {
   "cell_type": "markdown",
<<<<<<< HEAD
<<<<<<< HEAD
   "id": "4965be99",
||||||| ff06ad40
   "id": "19373642",
=======
   "id": "1503a6ae",
>>>>>>> documentation-devel
||||||| 1158767b
   "id": "4965be99",
=======
   "id": "99b36060",
>>>>>>> 6e0f6d6ef35309dec3607d4371c747197b435328
   "metadata": {
    "lines_to_next_cell": 0
   },
   "source": [
    "Plot top gene loadings in each PC"
   ]
  },
  {
   "cell_type": "code",
   "execution_count": null,
<<<<<<< HEAD
<<<<<<< HEAD
   "id": "9cffd68f",
||||||| ff06ad40
   "id": "4b66b96e",
=======
   "id": "d944d0aa",
>>>>>>> documentation-devel
||||||| 1158767b
   "id": "9cffd68f",
=======
   "id": "0ae50ae5",
>>>>>>> 6e0f6d6ef35309dec3607d4371c747197b435328
   "metadata": {},
   "outputs": [],
   "source": [
    "plotDimLoadings(sfe)"
   ]
  },
  {
   "cell_type": "markdown",
<<<<<<< HEAD
<<<<<<< HEAD
   "id": "bc62a9ac",
||||||| ff06ad40
   "id": "5474fa8a",
=======
   "id": "367e4f0e",
>>>>>>> documentation-devel
||||||| 1158767b
   "id": "bc62a9ac",
=======
   "id": "c96a4c9a",
>>>>>>> 6e0f6d6ef35309dec3607d4371c747197b435328
   "metadata": {
    "lines_to_next_cell": 0
   },
   "source": [
    "Many of these genes seem to be related to the endothelium.\n",
    "\n",
    "Plot the first 4 PCs in space"
   ]
  },
  {
   "cell_type": "code",
   "execution_count": null,
<<<<<<< HEAD
<<<<<<< HEAD
   "id": "e08a763d",
||||||| ff06ad40
   "id": "ef721b47",
=======
   "id": "2a5695f1",
>>>>>>> documentation-devel
||||||| 1158767b
   "id": "e08a763d",
=======
   "id": "9e968a75",
>>>>>>> 6e0f6d6ef35309dec3607d4371c747197b435328
   "metadata": {
    "fig.height": 7,
    "fig.width": 9
   },
   "outputs": [],
   "source": [
    "spatialReducedDim(sfe, \"PCA\", 4, colGeometryName = \"centroids\", scattermore = TRUE,\n",
    "                  divergent = TRUE, diverge_center = 0)"
   ]
  },
  {
   "cell_type": "markdown",
<<<<<<< HEAD
<<<<<<< HEAD
   "id": "0ab31ce1",
||||||| ff06ad40
   "id": "89887953",
=======
   "id": "36927be6",
>>>>>>> documentation-devel
||||||| 1158767b
   "id": "0ab31ce1",
=======
   "id": "5e451161",
>>>>>>> 6e0f6d6ef35309dec3607d4371c747197b435328
   "metadata": {
    "lines_to_next_cell": 0
   },
   "source": [
    "PC1 and PC4 highlight the major blood vessels, while PC2 and PC3 have less spatial structure. While in the CosMX and Xenium datasets on this website, the top PCs have clear spatial structures despite the absence of spatial information in non-spatial PCA because of clear spatial compartments for some cell types, which does not seem to be the case in this dataset except for the blood vessels. We have seen above that some genes have strong spatial structures. There are some methods for spatially informed PCA, such as MULTISPATI PCA [@Dray2008-en] in the [`adespatial`](https://cran.r-project.org/web/packages/adespatial/index.html) package, which seeks to maximize both variance (as in non-spatial PCA) and Moran's I on each PC. Unlike traditional PCs, where all eigenvalues, signifying variance explained, are positive, MULTISPATI PCA can have negative eigenvalues, which signify negative spatial autocorrelation. The PCs from MULTISPATI PCA with positive eigenvalues are also more spatially coherent than those from non-spatial PCA. For the CosMX and Xenium datasets on this website, the spatial coherence from MULTISPATI might not make a difference, but it might make a difference in this dataset where non-spatial PCs don't show as much spatial structure, at least at the larger scale over the entire tissue section. Voyager 1.2.0 (Bioconductor 3.17) has a faster implementation of MULTISPATI PCA than that of `adespatial`, and is demonstrated in this dataset in [another vignette](https://pachterlab.github.io/voyager/articles/multispati.html).\n",
    "\n",
    "While PC2 and PC3 don't seem to have large scale spatial structure, they may have more local spatial structure not obvious from plotting the entire section, so we zoom into the bounding box:"
   ]
  },
  {
   "cell_type": "code",
   "execution_count": null,
<<<<<<< HEAD
<<<<<<< HEAD
   "id": "31fc4cc8",
||||||| ff06ad40
   "id": "77852d7e",
=======
   "id": "dcad139b",
>>>>>>> documentation-devel
||||||| 1158767b
   "id": "31fc4cc8",
=======
   "id": "7f1d5fe0",
>>>>>>> 6e0f6d6ef35309dec3607d4371c747197b435328
   "metadata": {
    "fig.height": 5,
    "fig.width": 9
   },
   "outputs": [],
   "source": [
    "spatialReducedDim(sfe, \"PCA\", ncomponents = 2:3, colGeometryName = \"cellSeg\",\n",
    "                  bbox = bbox_use, divergent = TRUE, diverge_center = 0)"
   ]
  },
  {
   "cell_type": "markdown",
<<<<<<< HEAD
<<<<<<< HEAD
   "id": "b4b294c6",
||||||| ff06ad40
   "id": "0b2db3d2",
=======
   "id": "d663a785",
>>>>>>> documentation-devel
||||||| 1158767b
   "id": "b4b294c6",
=======
   "id": "df37e4fa",
>>>>>>> 6e0f6d6ef35309dec3607d4371c747197b435328
   "metadata": {},
   "source": [
    "There's some spatial structure in PC2 and PC3 at a smaller scale, perhaps some negative spatial autocorrelation.\n",
    "\n",
    "Like global Moran's I, PCA and MULTISPATI PCA return one result for the entire dataset. In contrast, [geographically weighted PCA (GWPCA)](https://rdrr.io/cran/GWmodel/man/gwpca.html) [@Harris2015-sr] can account for spatial heterogeneity. GWPCA runs PCA at each spatial location using only the nearby locations weighed by a kernel. The different locations can have different PCs, and the results can be visualized with \"winning variables\" in each PC, i.e. plotting which feature has the highest loading in each PC in space. This most likely doesn't scale to 400,000 cells, but it would still be interesting when performed on spatially binned data. GWPCA might be added in Bioconductor 3.18 and would require some changes in the user interface, because GWPCA is about the features rather than cell embeddings.\n",
    "\n",
    "# More challenges from large datasets\n",
    "Here, despite the numerous cells, the data was loaded into memory. What if the data doesn't fit into memory? We might write a new vignette with `DelayedArray` demonstrating out of memory data analysis for Bioconductor 3.18. This is already supported by `SingleCellExperiment`, which SFE inherits from. However, the geometries, graphs, and local results can take up a lot memory as well. These can possibly be stored in SQL databases and operated on with [`SQLDataFrame`](https://bioconductor.org/packages/release/bioc/html/SQLDataFrame.html). The geometric operations can be handled by [`sedona`](https://github.com/apache/incubator-sedona), although the options are limited compared to GEOS, which performs geometric operations behind the scene for `sf`.\n",
    "\n",
    "Another question can be raised about large spatial transcriptomics data: Is it still a good idea to analyze the entire dataset at once? There must be many interesting and unique neighborhoods that might not get the attention they deserve when the whole dataset is analyzed at once. After all, in the geographical space, national level data is usually not analyzed at the block resolution, although a reason for this is privacy of the subjects. County resolution is often used, but there aren't hundreds of thousands of counties. Many analyses are done for cities and counties with neighborhood resolution; using the largest geographical unit isn't always the most relevant. Back to histological space: How to aggregate cells into larger spatial units? How to decide which scale of spatial units (analogous to nation vs state vs county and etc) is relevant? We have traditional anatomical ontologies, such as from the Allen Brain Atlas, but this isn't available for all tissues. Also, with more single cell -omics data, the traditional ontologies can be improved.\n",
    "\n",
    "Furthermore, there are 3D thick section single cell resolution spatial transcriptomics data, such as from STARmap [@Wang2018-cv] and EASI-FISH [@Wang2021-fv], although the vast majority of spatial -omics data are from thin sections pretty much _de facto_ 2D. As we mostly live on the surface of Earth, there are many more 2D geospatial resources than 3D. However, some methods can in principle be applied to 3D and the existing software primarily made for 2D data might work. For example, GEOS supports 3D data, so in principle 3D geometries in `sf` should work, although there's little documentation on this. Also, k nearest neighbor, Moran's I, variograms, and etc. should in principle work in 3D, and `gstat` officially supports 3D. These are more challenges related to 3D data:\n",
    "\n",
    "1. Even when multiple z-planes are imaged, the resolution is much lower in the z direction than the x and y directions. Then should the z-plane be treated as an attribute or as a coordinate?\n",
    "2. How to make static plots for 3D data for publications? This is more complicated than plotting z-planes separately, since a 3D block can be sectioned from any other direction. Also for interactive visualization, we need to somehow see through the tissue. \n",
    "\n",
    "Finally, the geospatial tradition is only one tradition relevant to large spatial data, and at present `Voyager` only works with vector data. We are uncertain whether raster should be added in a later version, and there are existing tools for large raster data as well, such as [TileDB](https://docs.tiledb.com/geospatial/). Other traditions can be relevant, such as astronomy and image processing, but those are beyond the scope of this package.\n",
    "\n",
    "# Session Info"
   ]
  },
  {
   "cell_type": "code",
   "execution_count": null,
<<<<<<< HEAD
<<<<<<< HEAD
   "id": "b38d4a31",
||||||| ff06ad40
   "id": "07190f75",
=======
   "id": "e0798ab9",
>>>>>>> documentation-devel
||||||| 1158767b
   "id": "b38d4a31",
=======
   "id": "2d627d4f",
>>>>>>> 6e0f6d6ef35309dec3607d4371c747197b435328
   "metadata": {},
   "outputs": [],
   "source": [
    "sessionInfo()"
   ]
  },
  {
   "cell_type": "markdown",
<<<<<<< HEAD
<<<<<<< HEAD
   "id": "7201775c",
||||||| ff06ad40
   "id": "ce3611c5",
=======
   "id": "d1189a7a",
>>>>>>> documentation-devel
||||||| 1158767b
   "id": "7201775c",
=======
   "id": "e76659df",
>>>>>>> 6e0f6d6ef35309dec3607d4371c747197b435328
   "metadata": {},
   "source": [
    "# References"
   ]
  }
 ],
 "metadata": {
  "kernelspec": {
   "display_name": "R",
   "language": "R",
   "name": "ir"
  }
 },
 "nbformat": 4,
 "nbformat_minor": 5
}
