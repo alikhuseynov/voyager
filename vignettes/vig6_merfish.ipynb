{
 "cells": [
  {
   "cell_type": "raw",
<<<<<<< HEAD
<<<<<<< HEAD
   "id": "2de07c5e",
||||||| 00f6fb22
   "id": "94f1974d",
=======
   "id": "4c1c1d98",
>>>>>>> documentation-devel
||||||| d828f8eb
   "id": "2de07c5e",
=======
   "id": "f36f595a",
>>>>>>> 6c25d2f1afd31725c9595ab9d8922b9d3c838629
   "metadata": {},
   "source": [
    "---\n",
    "title: \"MERFISH mouse liver dataset and considerations of large data\"\n",
    "author: \"Lambda Moses\"\n",
    "date: \"`r Sys.Date()`\"\n",
    "output: \n",
    "  html_document:\n",
    "  toc: true\n",
    "  toc_float:\n",
    "    collapsed: false\n",
    "  toc_depth: 3\n",
    "bibliography: ref.bib\n",
    "vignette: >\n",
    "  %\\VignetteIndexEntry{merfish}\n",
    "  %\\VignetteEngine{knitr::rmarkdown}\n",
    "  %\\VignetteEncoding{UTF-8}\n",
    "---"
   ]
  },
  {
   "cell_type": "code",
   "execution_count": null,
<<<<<<< HEAD
<<<<<<< HEAD
   "id": "3bc98d09",
||||||| 00f6fb22
   "id": "799d47e3",
=======
   "id": "d94f72c9",
>>>>>>> documentation-devel
||||||| d828f8eb
   "id": "3bc98d09",
=======
   "id": "034af891",
>>>>>>> 6c25d2f1afd31725c9595ab9d8922b9d3c838629
   "metadata": {
    "tags": [
     "remove_cell"
    ]
   },
   "outputs": [],
   "source": [
    "knitr::opts_chunk$set(\n",
    "  collapse = TRUE,\n",
    "  comment = \"#>\"\n",
    ")"
   ]
  },
  {
   "cell_type": "code",
   "execution_count": null,
<<<<<<< HEAD
<<<<<<< HEAD
   "id": "5de37908",
||||||| 00f6fb22
   "id": "7eeafb82",
=======
   "id": "dbae2183",
>>>>>>> documentation-devel
||||||| d828f8eb
   "id": "5de37908",
=======
   "id": "0a3e6cd0",
>>>>>>> 6c25d2f1afd31725c9595ab9d8922b9d3c838629
   "metadata": {
    "eval": false,
    "tags": [
     "remove_cell"
    ]
   },
   "outputs": [],
   "source": [
    "# Install Google Colab dependencies\n",
    "# Note: this can take 30+ minutes (many of the dependencies include C++ code, which needs to be compiled)\n",
    "\n",
    "# First install `sf`, `ragg` and `textshaping` and their system dependencies:\n",
    "system(\"apt-get -y update && apt-get install -y  libudunits2-dev libgdal-dev libgeos-dev libproj-dev libharfbuzz-dev libfribidi-dev\")\n",
    "install.packages(\"sf\")\n",
    "install.packages(\"textshaping\")\n",
    "install.packages(\"ragg\")\n",
    "\n",
    "# Install system dependencies of some other R packages that Voyager either imports or suggests:\n",
    "system(\"apt-get install -y libfribidi-dev libcairo2-dev libmagick++-dev\")\n",
    "\n",
    "# Install Voyager from Bioconductor:\n",
    "install.packages(\"BiocManager\")\n",
    "BiocManager::install(version = \"3.17\", ask = FALSE, update = FALSE, Ncpus = 2)\n",
    "BiocManager::install(\"scater\")\n",
    "system.time(\n",
    "  BiocManager::install(\"Voyager\", dependencies = TRUE, Ncpus = 2, update = FALSE)\n",
    ")\n",
    "\n",
    "packageVersion(\"Voyager\")"
   ]
  },
  {
   "cell_type": "markdown",
<<<<<<< HEAD
<<<<<<< HEAD
   "id": "9f7a4312",
||||||| 00f6fb22
   "id": "ee232c1a",
=======
   "id": "21542daf",
>>>>>>> documentation-devel
||||||| d828f8eb
   "id": "9f7a4312",
=======
   "id": "b8bb0dd2",
>>>>>>> 6c25d2f1afd31725c9595ab9d8922b9d3c838629
   "metadata": {
    "lines_to_next_cell": 0
   },
   "source": [
    "# Introduction\n",
    "\n",
    "The `SpatialFeatureExperiment` (SFE) and `Voyager` packages were originally developed around a relatively small Visium dataset as a proof of concept, and were hence not originally optimized for very large datasets. However, larger smFISH datasets with hundreds of thousands, sometimes over a million cells have already been produced and will soon be produced routinely. Among studies using smFISH-based spatial transcriptomics technologies that reported the number of cells per dataset, the number of cells per dataset has increased in the past years [@Moses2022-xz].\n",
    "![alt](https://pachterlab.github.io/LP_2021/05-current-techs_files/figure-html/smfish-lm-cell-1.png)\n",
    "\n",
    "In anticipation of large datasets, this vignette was produced using limited GitHub Actions resources (MacOS), which are 14 GB of RAM with 3 CPU cores and 14 GB of disk space, comparable to laptops. We therefore expect that the analyses in this vignette should scale to reasonably sized datasets.  \n",
    "\n",
    "The dataset we use in this vignette is a MERFISH mouse liver dataset downloaded from the [Vizgen website](https://console.cloud.google.com/storage/browser/vz-liver-showcase/Liver1Slice1). We will use it to discuss some issues with large datasets and some upcoming features in the next release of `Voyager`. The gene count matrix and cell metadata (including centroid coordinates) were downloaded as CSV files and read into R. While 7 z-planes were imaged, cell segmentation is only available in one z-plane. The cell polygons are in HDF5 files, with one HDF5 file per field of view (FOV), and there are over 1000 FOVs in this dataset. Converting these HDF5 files into an `sf` data frame is not trivial. See the [vignette on creating a `SpatialFeatureExperiment` (SFE) object](https://pachterlab.github.io/voyager/articles/create_sfe.html#technology-specific-notes) for code used to do the conversion, and the polygons are included in the SFE object. The cell metadata already has cell volume. If the polygons are not used in the analyses, and the polygons can't be seen on a static plot with hundreds of thousands of cells anyway, then doing the conversion is optional. While the transcript spot locations are available, we cannot yet work with such a large point dataset.\n",
    "\n",
    "Here we load the packages used. "
   ]
  },
  {
   "cell_type": "code",
   "execution_count": null,
<<<<<<< HEAD
<<<<<<< HEAD
   "id": "dccfd037",
||||||| 00f6fb22
   "id": "c796b423",
=======
   "id": "5fb61481",
>>>>>>> documentation-devel
||||||| d828f8eb
   "id": "dccfd037",
=======
   "id": "c9e3390c",
>>>>>>> 6c25d2f1afd31725c9595ab9d8922b9d3c838629
   "metadata": {
    "message": false,
    "name": "setup"
   },
   "outputs": [],
   "source": [
    "library(Voyager)\n",
    "library(SFEData)\n",
    "library(SingleCellExperiment)\n",
    "library(SpatialExperiment)\n",
    "library(scater) \n",
    "library(ggplot2)\n",
    "library(patchwork)\n",
    "library(stringr)\n",
    "library(spdep)\n",
    "library(BiocParallel)\n",
    "library(BiocSingular)\n",
    "library(gstat)\n",
    "library(BiocNeighbors)\n",
    "library(sf)\n",
    "library(automap)\n",
    "theme_set(theme_bw())"
   ]
  },
  {
   "cell_type": "code",
   "execution_count": null,
<<<<<<< HEAD
<<<<<<< HEAD
   "id": "a984797c",
||||||| 00f6fb22
   "id": "19b58f79",
=======
   "id": "e0744e9e",
>>>>>>> documentation-devel
||||||| d828f8eb
   "id": "a984797c",
=======
   "id": "7dc39118",
>>>>>>> 6c25d2f1afd31725c9595ab9d8922b9d3c838629
   "metadata": {},
   "outputs": [],
   "source": [
    "(sfe <- VizgenLiverData())"
   ]
  },
  {
   "cell_type": "markdown",
<<<<<<< HEAD
<<<<<<< HEAD
   "id": "8a556b08",
||||||| 00f6fb22
   "id": "51048adf",
=======
   "id": "b2d92b94",
>>>>>>> documentation-devel
||||||| d828f8eb
   "id": "8a556b08",
=======
   "id": "1cfe11f7",
>>>>>>> 6c25d2f1afd31725c9595ab9d8922b9d3c838629
   "metadata": {
    "lines_to_next_cell": 0
   },
   "source": [
    "There are 395,215 cells in this dataset. Plotting them all as polygons takes a while, but it isn't too bad."
   ]
  },
  {
   "cell_type": "code",
   "execution_count": null,
<<<<<<< HEAD
<<<<<<< HEAD
   "id": "aa51aa51",
||||||| 00f6fb22
   "id": "17bf9b81",
=======
   "id": "367423da",
>>>>>>> documentation-devel
||||||| d828f8eb
   "id": "aa51aa51",
=======
   "id": "e8db0b14",
>>>>>>> 6c25d2f1afd31725c9595ab9d8922b9d3c838629
   "metadata": {
    "fig.height": 6,
    "fig.width": 9
   },
   "outputs": [],
   "source": [
    "plotGeometry(sfe, \"cellSeg\")"
   ]
  },
  {
   "cell_type": "markdown",
<<<<<<< HEAD
<<<<<<< HEAD
   "id": "8c7eb11c",
||||||| 00f6fb22
   "id": "af3daf81",
=======
   "id": "7e04ba8b",
>>>>>>> documentation-devel
||||||| d828f8eb
   "id": "8c7eb11c",
=======
   "id": "00c830ee",
>>>>>>> 6c25d2f1afd31725c9595ab9d8922b9d3c838629
   "metadata": {
    "lines_to_next_cell": 0
   },
   "source": [
    "However, we do not wish to save this plot as PDF. To avoid this problem, we can either use the `scattermore = TRUE` argument in `plotSpatialFeature()` and plot the centroids since the polygons are hard to see anyway. \n",
    "\n",
    "Cell density can be vaguely seen in the plot above. Here we count the number of cells in bins to better visualize cell density."
   ]
  },
  {
   "cell_type": "code",
   "execution_count": null,
<<<<<<< HEAD
<<<<<<< HEAD
   "id": "669be40d",
||||||| 00f6fb22
   "id": "0c3e6779",
=======
   "id": "7b476a90",
>>>>>>> documentation-devel
||||||| d828f8eb
   "id": "669be40d",
=======
   "id": "2ce9703e",
>>>>>>> 6c25d2f1afd31725c9595ab9d8922b9d3c838629
   "metadata": {
    "fig.height": 6,
    "fig.width": 9
   },
   "outputs": [],
   "source": [
    "plotCellBin2D(sfe, bins = 300, hex = TRUE)"
   ]
  },
  {
   "cell_type": "markdown",
<<<<<<< HEAD
<<<<<<< HEAD
   "id": "54bb05ce",
||||||| 00f6fb22
   "id": "870f2913",
=======
   "id": "49d825d0",
>>>>>>> documentation-devel
||||||| d828f8eb
   "id": "54bb05ce",
=======
   "id": "9b62ae71",
>>>>>>> 6c25d2f1afd31725c9595ab9d8922b9d3c838629
   "metadata": {
    "lines_to_next_cell": 0
   },
   "source": [
    "Cell density is for the most part homogeneous but shows some structure with denser regions that seem to relate to the blood vessels.\n",
    "\n",
    "# Quality control"
   ]
  },
  {
   "cell_type": "code",
   "execution_count": null,
<<<<<<< HEAD
<<<<<<< HEAD
   "id": "43a14706",
||||||| 00f6fb22
   "id": "7bdaad07",
=======
   "id": "39f0acee",
>>>>>>> documentation-devel
||||||| d828f8eb
   "id": "43a14706",
=======
   "id": "7feb6812",
>>>>>>> 6c25d2f1afd31725c9595ab9d8922b9d3c838629
   "metadata": {},
   "outputs": [],
   "source": [
    "names(colData(sfe))"
   ]
  },
  {
   "cell_type": "markdown",
<<<<<<< HEAD
<<<<<<< HEAD
   "id": "7cec61e2",
||||||| 00f6fb22
   "id": "d7bd4b1f",
=======
   "id": "1cdc514f",
>>>>>>> documentation-devel
||||||| d828f8eb
   "id": "7cec61e2",
=======
   "id": "1cb1cbde",
>>>>>>> 6c25d2f1afd31725c9595ab9d8922b9d3c838629
   "metadata": {
    "lines_to_next_cell": 0
   },
   "source": [
    "Plotting almost 400,000 polygons is kind of slow but doable."
   ]
  },
  {
   "cell_type": "code",
   "execution_count": null,
<<<<<<< HEAD
<<<<<<< HEAD
   "id": "5e30873d",
||||||| 00f6fb22
   "id": "a9ed84a2",
=======
   "id": "b2044095",
>>>>>>> documentation-devel
||||||| d828f8eb
   "id": "5e30873d",
=======
   "id": "d522c869",
>>>>>>> 6c25d2f1afd31725c9595ab9d8922b9d3c838629
   "metadata": {},
   "outputs": [],
   "source": [
    "system.time(\n",
    "    print(plotSpatialFeature(sfe, \"nCounts\", colGeometryName = \"cellSeg\"))\n",
    ")"
   ]
  },
  {
   "cell_type": "markdown",
<<<<<<< HEAD
<<<<<<< HEAD
   "id": "935415ff",
||||||| 00f6fb22
   "id": "c6b2c8fe",
=======
   "id": "f8b6a5a6",
>>>>>>> documentation-devel
||||||| d828f8eb
   "id": "935415ff",
=======
   "id": "0719f8f9",
>>>>>>> 6c25d2f1afd31725c9595ab9d8922b9d3c838629
   "metadata": {},
   "source": [
    "Here nCounts kind of looks like salt and pepper. Using the [`scattermore`](https://github.com/exaexa/scattermore) package can speed up plotting a large number of points. In this non-interactive plot, the cell polygons are too small to see anyway, so plotting cell centroid points should be fine. "
   ]
  },
  {
   "cell_type": "code",
   "execution_count": null,
<<<<<<< HEAD
<<<<<<< HEAD
   "id": "981b2756",
||||||| 00f6fb22
   "id": "c687c07d",
=======
   "id": "d756ddf7",
>>>>>>> documentation-devel
||||||| d828f8eb
   "id": "981b2756",
=======
   "id": "d6a181c6",
>>>>>>> 6c25d2f1afd31725c9595ab9d8922b9d3c838629
   "metadata": {},
   "outputs": [],
   "source": [
    "system.time({\n",
    "    print(plotSpatialFeature(sfe, \"nCounts\", colGeometryName = \"centroids\",\n",
    "                             scattermore = TRUE))\n",
    "})"
   ]
  },
  {
   "cell_type": "markdown",
<<<<<<< HEAD
<<<<<<< HEAD
   "id": "867a4445",
||||||| 00f6fb22
   "id": "eab60d92",
=======
   "id": "de807078",
>>>>>>> documentation-devel
||||||| d828f8eb
   "id": "867a4445",
=======
   "id": "d49aff07",
>>>>>>> 6c25d2f1afd31725c9595ab9d8922b9d3c838629
   "metadata": {},
   "source": [
    "When run on our server, plotting almost 400,000 polygons took around 23 seconds, while using `geom_scattermore()` (`scattermore = TRUE`) took about 2 seconds. Since `geom_scattermore()` rasterizes the plot, the plot will be pixelated when zoomed in. \n",
    "\n",
    "While interactive data visualization is useful for ESDA, there is a need for static figures in publications. As of Voyager 1.2.0 (Bioconductor 3.17), a bounding box can be specified to zoom into the data."
   ]
  },
  {
   "cell_type": "code",
   "execution_count": null,
<<<<<<< HEAD
<<<<<<< HEAD
   "id": "2b7fbe71",
||||||| 00f6fb22
   "id": "5e333870",
=======
   "id": "686aa7cf",
>>>>>>> documentation-devel
||||||| d828f8eb
   "id": "2b7fbe71",
=======
   "id": "09c9512d",
>>>>>>> 6c25d2f1afd31725c9595ab9d8922b9d3c838629
   "metadata": {},
   "outputs": [],
   "source": [
    "bbox_use <- c(xmin = 3000, xmax = 3500, ymin = 2500, ymax = 3000)"
   ]
  },
  {
   "cell_type": "code",
   "execution_count": null,
<<<<<<< HEAD
<<<<<<< HEAD
   "id": "b0fd52d5",
||||||| 00f6fb22
   "id": "8b52a735",
=======
   "id": "64832475",
>>>>>>> documentation-devel
||||||| d828f8eb
   "id": "b0fd52d5",
=======
   "id": "6ea8f86b",
>>>>>>> 6c25d2f1afd31725c9595ab9d8922b9d3c838629
   "metadata": {},
   "outputs": [],
   "source": [
    "plotSpatialFeature(sfe, \"nCounts\", colGeometryName = \"cellSeg\", bbox = bbox_use)"
   ]
  },
  {
   "cell_type": "markdown",
<<<<<<< HEAD
<<<<<<< HEAD
   "id": "f5544a42",
||||||| 00f6fb22
   "id": "4dd881ee",
=======
   "id": "6c930614",
>>>>>>> documentation-devel
||||||| d828f8eb
   "id": "f5544a42",
=======
   "id": "7954d6cf",
>>>>>>> 6c25d2f1afd31725c9595ab9d8922b9d3c838629
   "metadata": {
    "lines_to_next_cell": 0
   },
   "source": [
    "Much of the time making this plot is spent subsetting the `sf` data frame with the bounding box. Here, spatial autocorrelation is evident in the upper right region with smaller cells, but less so in the rest of this patch. nCounts seems to be related to cell size; larger cells seem to have more total counts.\n",
    "\n",
    "Interactive data visualization is currently beyond the scope of `Voyager` or this vignette. There are existing tools for interactive visualization of highly multiplexed imaging data, such as [`MERmaid`](https://github.com/JEFworks-Lab/MERmaid) [@Wang2020-sv] for MERFISH data, [`TissUUmaps`](https://github.com/TissUUmaps/TissUUmapsCore) [@Behanova2023-gl], [`Visinity`](https://github.com/labsyspharm/visinity) [@Warchol2023-zw], and the [samui broswer](https://github.com/chaichontat/samui) [@Sriworarat2023-jl].\n",
    "\n",
    "Since there aren't too many genes, all genes and negative control probes can be displayed:"
   ]
  },
  {
   "cell_type": "code",
   "execution_count": null,
<<<<<<< HEAD
<<<<<<< HEAD
   "id": "7e62d58a",
||||||| 00f6fb22
   "id": "b40d1714",
=======
   "id": "0aee545a",
>>>>>>> documentation-devel
||||||| d828f8eb
   "id": "7e62d58a",
=======
   "id": "9b0fab75",
>>>>>>> 6c25d2f1afd31725c9595ab9d8922b9d3c838629
   "metadata": {},
   "outputs": [],
   "source": [
    "rownames(sfe)"
   ]
  },
  {
   "cell_type": "markdown",
<<<<<<< HEAD
<<<<<<< HEAD
   "id": "3b904e24",
||||||| 00f6fb22
   "id": "da93873b",
=======
   "id": "1c2ea1d2",
>>>>>>> documentation-devel
||||||| d828f8eb
   "id": "3b904e24",
=======
   "id": "c4d96f8f",
>>>>>>> 6c25d2f1afd31725c9595ab9d8922b9d3c838629
   "metadata": {},
   "source": [
    "The number of real genes is 347."
   ]
  },
  {
   "cell_type": "code",
   "execution_count": null,
<<<<<<< HEAD
<<<<<<< HEAD
   "id": "113284df",
||||||| 00f6fb22
   "id": "1bb130f9",
=======
   "id": "36ca3b06",
>>>>>>> documentation-devel
||||||| d828f8eb
   "id": "113284df",
=======
   "id": "f291ab35",
>>>>>>> 6c25d2f1afd31725c9595ab9d8922b9d3c838629
   "metadata": {},
   "outputs": [],
   "source": [
    "n_panel <- 347"
   ]
  },
  {
   "cell_type": "markdown",
<<<<<<< HEAD
<<<<<<< HEAD
   "id": "6fa0c9a2",
||||||| 00f6fb22
   "id": "23662346",
=======
   "id": "d6b59e9f",
>>>>>>> documentation-devel
||||||| d828f8eb
   "id": "6fa0c9a2",
=======
   "id": "7684f708",
>>>>>>> 6c25d2f1afd31725c9595ab9d8922b9d3c838629
   "metadata": {
    "lines_to_next_cell": 0
   },
   "source": [
    "Next, we plot the distribution of nCounts divided by the number of genes in the panel, so this distribution is more comparable across datasets with different numbers of genes."
   ]
  },
  {
   "cell_type": "code",
   "execution_count": null,
<<<<<<< HEAD
<<<<<<< HEAD
   "id": "45431f84",
||||||| 00f6fb22
   "id": "29ec7911",
=======
   "id": "bd712000",
>>>>>>> documentation-devel
||||||| d828f8eb
   "id": "45431f84",
=======
   "id": "fafc2628",
>>>>>>> 6c25d2f1afd31725c9595ab9d8922b9d3c838629
   "metadata": {},
   "outputs": [],
   "source": [
    "colData(sfe)$nCounts_normed <- sfe$nCounts / n_panel\n",
    "colData(sfe)$nGenes_normed <- sfe$nGenes / n_panel"
   ]
  },
  {
   "cell_type": "code",
   "execution_count": null,
<<<<<<< HEAD
<<<<<<< HEAD
   "id": "a787d3e5",
||||||| 00f6fb22
   "id": "bf1b1a4e",
=======
   "id": "a5aed268",
>>>>>>> documentation-devel
||||||| d828f8eb
   "id": "a787d3e5",
=======
   "id": "51c9f262",
>>>>>>> 6c25d2f1afd31725c9595ab9d8922b9d3c838629
   "metadata": {},
   "outputs": [],
   "source": [
    "plotColDataHistogram(sfe, c(\"nCounts_normed\", \"nGenes_normed\"))"
   ]
  },
  {
   "cell_type": "markdown",
<<<<<<< HEAD
<<<<<<< HEAD
   "id": "8cc1ded0",
||||||| 00f6fb22
   "id": "ba496cc5",
=======
   "id": "8dc2d11f",
>>>>>>> documentation-devel
||||||| d828f8eb
   "id": "8cc1ded0",
=======
   "id": "5a9ae14d",
>>>>>>> 6c25d2f1afd31725c9595ab9d8922b9d3c838629
   "metadata": {
    "lines_to_next_cell": 0
   },
   "source": [
    "As with the [Xenium dataset](https://pachterlab.github.io/voyager/articles/vig5_xenium.html#cells), there are mysterious regular notches in the histogram of the number of genes detected.\n",
    "\n",
    "We also plot the number of genes detected per cell, with `geom_scattermore()`."
   ]
  },
  {
   "cell_type": "code",
   "execution_count": null,
<<<<<<< HEAD
<<<<<<< HEAD
   "id": "42fb23ce",
||||||| 00f6fb22
   "id": "91e0e829",
=======
   "id": "c6eead13",
>>>>>>> documentation-devel
||||||| d828f8eb
   "id": "42fb23ce",
=======
   "id": "0fcb8565",
>>>>>>> 6c25d2f1afd31725c9595ab9d8922b9d3c838629
   "metadata": {},
   "outputs": [],
   "source": [
    "plotSpatialFeature(sfe, \"nGenes\", colGeometryName = \"centroids\", scattermore = TRUE)"
   ]
  },
  {
   "cell_type": "markdown",
<<<<<<< HEAD
<<<<<<< HEAD
   "id": "b1312896",
||||||| 00f6fb22
   "id": "4f9b32bd",
=======
   "id": "0aa0c606",
>>>>>>> documentation-devel
||||||| d828f8eb
   "id": "b1312896",
=======
   "id": "73a5b7f6",
>>>>>>> 6c25d2f1afd31725c9595ab9d8922b9d3c838629
   "metadata": {
    "lines_to_next_cell": 0
   },
   "source": [
    "Similarly to nCounts, the points look intermingled. \n",
    "\n",
    "Distribution of cell volume in space:"
   ]
  },
  {
   "cell_type": "code",
   "execution_count": null,
<<<<<<< HEAD
<<<<<<< HEAD
   "id": "d987638d",
||||||| 00f6fb22
   "id": "7ad32962",
=======
   "id": "fb5feb9d",
>>>>>>> documentation-devel
||||||| d828f8eb
   "id": "d987638d",
=======
   "id": "c7dccef5",
>>>>>>> 6c25d2f1afd31725c9595ab9d8922b9d3c838629
   "metadata": {},
   "outputs": [],
   "source": [
    "plotSpatialFeature(sfe, \"volume\", colGeometryName = \"centroids\", scattermore = TRUE)"
   ]
  },
  {
   "cell_type": "markdown",
<<<<<<< HEAD
<<<<<<< HEAD
   "id": "bab901d6",
||||||| 00f6fb22
   "id": "8ff0141a",
=======
   "id": "79dbfd8f",
>>>>>>> documentation-devel
||||||| d828f8eb
   "id": "bab901d6",
=======
   "id": "6fc3794b",
>>>>>>> 6c25d2f1afd31725c9595ab9d8922b9d3c838629
   "metadata": {
    "lines_to_next_cell": 0
   },
   "source": [
    "Next, we explore how nCounts relates to nGenes:"
   ]
  },
  {
   "cell_type": "code",
   "execution_count": null,
<<<<<<< HEAD
<<<<<<< HEAD
   "id": "e6473bbe",
||||||| 00f6fb22
   "id": "80101b23",
=======
   "id": "6f6b37f4",
>>>>>>> documentation-devel
||||||| d828f8eb
   "id": "e6473bbe",
=======
   "id": "4dff85ea",
>>>>>>> 6c25d2f1afd31725c9595ab9d8922b9d3c838629
   "metadata": {},
   "outputs": [],
   "source": [
    "plotColData(sfe, x=\"nCounts\", y=\"nGenes\", bins = 100)"
   ]
  },
  {
   "cell_type": "markdown",
<<<<<<< HEAD
<<<<<<< HEAD
   "id": "c528fc70",
||||||| 00f6fb22
   "id": "494a3cf5",
=======
   "id": "5cd786fe",
>>>>>>> documentation-devel
||||||| d828f8eb
   "id": "c528fc70",
=======
   "id": "16dedc6a",
>>>>>>> 6c25d2f1afd31725c9595ab9d8922b9d3c838629
   "metadata": {
    "lines_to_next_cell": 0
   },
   "source": [
    "There are two branches in this plot. \n",
    "\n",
    "How does cell size relate to nCounts?"
   ]
  },
  {
   "cell_type": "code",
   "execution_count": null,
<<<<<<< HEAD
<<<<<<< HEAD
   "id": "d36c607c",
||||||| 00f6fb22
   "id": "dd1d857a",
=======
   "id": "35d939c7",
>>>>>>> documentation-devel
||||||| d828f8eb
   "id": "d36c607c",
=======
   "id": "45bf92ae",
>>>>>>> 6c25d2f1afd31725c9595ab9d8922b9d3c838629
   "metadata": {},
   "outputs": [],
   "source": [
    "plotColData(sfe, x=\"volume\", y=\"nCounts\", bins = 100)"
   ]
  },
  {
   "cell_type": "markdown",
<<<<<<< HEAD
<<<<<<< HEAD
   "id": "5f2c640f",
||||||| 00f6fb22
   "id": "dcba8810",
=======
   "id": "8707ca22",
>>>>>>> documentation-devel
||||||| d828f8eb
   "id": "5f2c640f",
=======
   "id": "d566a2f7",
>>>>>>> 6c25d2f1afd31725c9595ab9d8922b9d3c838629
   "metadata": {
    "lines_to_next_cell": 0
   },
   "source": [
    "The lower branch has the larger cells that don't tend to have more total counts, and the upper branch has larger cells that tend to have more total counts.\n",
    "\n",
    "We also examine how cell size relates to number of genes detected:"
   ]
  },
  {
   "cell_type": "code",
   "execution_count": null,
<<<<<<< HEAD
<<<<<<< HEAD
   "id": "1d1c222a",
||||||| 00f6fb22
   "id": "02291dc5",
=======
   "id": "eeb42132",
>>>>>>> documentation-devel
||||||| d828f8eb
   "id": "1d1c222a",
=======
   "id": "4959986b",
>>>>>>> 6c25d2f1afd31725c9595ab9d8922b9d3c838629
   "metadata": {},
   "outputs": [],
   "source": [
    "plotColData(sfe, x=\"volume\", y=\"nGenes\", bins = 100)"
   ]
  },
  {
   "cell_type": "markdown",
<<<<<<< HEAD
<<<<<<< HEAD
   "id": "2127d54e",
||||||| 00f6fb22
   "id": "ab318991",
=======
   "id": "3a10994b",
>>>>>>> documentation-devel
||||||| d828f8eb
   "id": "2127d54e",
=======
   "id": "e03341d5",
>>>>>>> 6c25d2f1afd31725c9595ab9d8922b9d3c838629
   "metadata": {
    "lines_to_next_cell": 0
   },
   "source": [
    "There seem to be clusters that are possibly related to cell type. \n",
    "\n",
    "### Negative controls\n",
    "Blank probes are used as negative controls."
   ]
  },
  {
   "cell_type": "code",
   "execution_count": null,
<<<<<<< HEAD
<<<<<<< HEAD
   "id": "5455404b",
||||||| 00f6fb22
   "id": "796653b7",
=======
   "id": "ce9c88b1",
>>>>>>> documentation-devel
||||||| d828f8eb
   "id": "5455404b",
=======
   "id": "78095ec5",
>>>>>>> 6c25d2f1afd31725c9595ab9d8922b9d3c838629
   "metadata": {},
   "outputs": [],
   "source": [
    "is_blank <- str_detect(rownames(sfe), \"^Blank-\")"
   ]
  },
  {
   "cell_type": "code",
   "execution_count": null,
<<<<<<< HEAD
<<<<<<< HEAD
   "id": "0b15d976",
||||||| 00f6fb22
   "id": "e218d598",
=======
   "id": "38cc9525",
>>>>>>> documentation-devel
||||||| d828f8eb
   "id": "0b15d976",
=======
   "id": "19defe8c",
>>>>>>> 6c25d2f1afd31725c9595ab9d8922b9d3c838629
   "metadata": {},
   "outputs": [],
   "source": [
    "sfe <- addPerCellQCMetrics(sfe, subset = list(blank = is_blank))"
   ]
  },
  {
   "cell_type": "code",
   "execution_count": null,
<<<<<<< HEAD
<<<<<<< HEAD
   "id": "b77a5481",
||||||| 00f6fb22
   "id": "3791efc2",
=======
   "id": "e40aa7c9",
>>>>>>> documentation-devel
||||||| d828f8eb
   "id": "b77a5481",
=======
   "id": "160a1155",
>>>>>>> 6c25d2f1afd31725c9595ab9d8922b9d3c838629
   "metadata": {},
   "outputs": [],
   "source": [
    "names(colData(sfe))"
   ]
  },
  {
   "cell_type": "markdown",
<<<<<<< HEAD
<<<<<<< HEAD
   "id": "451cbb0b",
||||||| 00f6fb22
   "id": "4ef7044f",
=======
   "id": "dd119ca2",
>>>>>>> documentation-devel
||||||| d828f8eb
   "id": "451cbb0b",
=======
   "id": "8d5aafec",
>>>>>>> 6c25d2f1afd31725c9595ab9d8922b9d3c838629
   "metadata": {
    "lines_to_next_cell": 0
   },
   "source": [
    "Total transcript counts from the blank probes:"
   ]
  },
  {
   "cell_type": "code",
   "execution_count": null,
<<<<<<< HEAD
<<<<<<< HEAD
   "id": "83f6635d",
||||||| 00f6fb22
   "id": "9d568179",
=======
   "id": "1ff714dd",
>>>>>>> documentation-devel
||||||| d828f8eb
   "id": "83f6635d",
=======
   "id": "653548f4",
>>>>>>> 6c25d2f1afd31725c9595ab9d8922b9d3c838629
   "metadata": {},
   "outputs": [],
   "source": [
    "plotSpatialFeature(sfe, \"subsets_blank_sum\", colGeometryName = \"centroids\",\n",
    "                   scattermore = TRUE)"
   ]
  },
  {
   "cell_type": "markdown",
<<<<<<< HEAD
<<<<<<< HEAD
   "id": "37381a23",
||||||| 00f6fb22
   "id": "9aeabce9",
=======
   "id": "6c969e45",
>>>>>>> documentation-devel
||||||| d828f8eb
   "id": "37381a23",
=======
   "id": "9bb4ff67",
>>>>>>> 6c25d2f1afd31725c9595ab9d8922b9d3c838629
   "metadata": {
    "lines_to_next_cell": 0
   },
   "source": [
    "Number of blank features detected per cell:"
   ]
  },
  {
   "cell_type": "code",
   "execution_count": null,
<<<<<<< HEAD
<<<<<<< HEAD
   "id": "38526cdf",
||||||| 00f6fb22
   "id": "a30fa3ad",
=======
   "id": "edf457d7",
>>>>>>> documentation-devel
||||||| d828f8eb
   "id": "38526cdf",
=======
   "id": "190bb495",
>>>>>>> 6c25d2f1afd31725c9595ab9d8922b9d3c838629
   "metadata": {},
   "outputs": [],
   "source": [
    "plotSpatialFeature(sfe, \"subsets_blank_detected\", colGeometryName = \"centroids\",\n",
    "                   scattermore = TRUE)"
   ]
  },
  {
   "cell_type": "markdown",
<<<<<<< HEAD
<<<<<<< HEAD
   "id": "eff4a54e",
||||||| 00f6fb22
   "id": "1103e6fb",
=======
   "id": "33bc80bd",
>>>>>>> documentation-devel
||||||| d828f8eb
   "id": "eff4a54e",
=======
   "id": "a62b3281",
>>>>>>> 6c25d2f1afd31725c9595ab9d8922b9d3c838629
   "metadata": {
    "lines_to_next_cell": 0
   },
   "source": [
    "Percentage of blank features per cell:"
   ]
  },
  {
   "cell_type": "code",
   "execution_count": null,
<<<<<<< HEAD
<<<<<<< HEAD
   "id": "6a8cdc77",
||||||| 00f6fb22
   "id": "f60973b3",
=======
   "id": "9070fb48",
>>>>>>> documentation-devel
||||||| d828f8eb
   "id": "6a8cdc77",
=======
   "id": "74ce7447",
>>>>>>> 6c25d2f1afd31725c9595ab9d8922b9d3c838629
   "metadata": {},
   "outputs": [],
   "source": [
    "plotSpatialFeature(sfe, \"subsets_blank_percent\", colGeometryName = \"centroids\",\n",
    "                   scattermore = TRUE)"
   ]
  },
  {
   "cell_type": "markdown",
<<<<<<< HEAD
<<<<<<< HEAD
   "id": "8a12b442",
||||||| 00f6fb22
   "id": "c8289be4",
=======
   "id": "2a9a4bf2",
>>>>>>> documentation-devel
||||||| d828f8eb
   "id": "8a12b442",
=======
   "id": "b563f3e0",
>>>>>>> 6c25d2f1afd31725c9595ab9d8922b9d3c838629
   "metadata": {
    "lines_to_next_cell": 0
   },
   "source": [
    "The percentage is more interesting: within the tissue, cells with high percentage of blank counts are scattered like salt and pepper, but more of these cells are on the left edge of the tissue, the edges of FOVs, where the tissue itself doesn't end. \n",
    "\n",
    "Also plot histograms: "
   ]
  },
  {
   "cell_type": "code",
   "execution_count": null,
<<<<<<< HEAD
<<<<<<< HEAD
   "id": "d6b5fd20",
||||||| 00f6fb22
   "id": "2d0a912a",
=======
   "id": "2b26325a",
>>>>>>> documentation-devel
||||||| d828f8eb
   "id": "d6b5fd20",
=======
   "id": "810600f3",
>>>>>>> 6c25d2f1afd31725c9595ab9d8922b9d3c838629
   "metadata": {},
   "outputs": [],
   "source": [
    "plotColDataHistogram(sfe, paste0(\"subsets_blank_\", c(\"sum\", \"detected\", \"percent\")))"
   ]
  },
  {
   "cell_type": "markdown",
<<<<<<< HEAD
<<<<<<< HEAD
   "id": "4c64b629",
||||||| 00f6fb22
   "id": "0fa1103e",
=======
   "id": "ea3c9f9f",
>>>>>>> documentation-devel
||||||| d828f8eb
   "id": "4c64b629",
=======
   "id": "da3c2f4d",
>>>>>>> 6c25d2f1afd31725c9595ab9d8922b9d3c838629
   "metadata": {
    "lines_to_next_cell": 0
   },
   "source": [
    "The NA's are cells without any transcript detected. "
   ]
  },
  {
   "cell_type": "code",
   "execution_count": null,
<<<<<<< HEAD
<<<<<<< HEAD
   "id": "c58db195",
||||||| 00f6fb22
   "id": "42e8870b",
=======
   "id": "47537866",
>>>>>>> documentation-devel
||||||| d828f8eb
   "id": "c58db195",
=======
   "id": "ef5a7f52",
>>>>>>> 6c25d2f1afd31725c9595ab9d8922b9d3c838629
   "metadata": {},
   "outputs": [],
   "source": [
    "mean(sfe$subsets_blank_sum > 0)"
   ]
  },
  {
   "cell_type": "markdown",
<<<<<<< HEAD
<<<<<<< HEAD
   "id": "063eff93",
||||||| 00f6fb22
   "id": "59ce40e5",
=======
   "id": "10ecc2dc",
>>>>>>> documentation-devel
||||||| d828f8eb
   "id": "063eff93",
=======
   "id": "70471809",
>>>>>>> 6c25d2f1afd31725c9595ab9d8922b9d3c838629
   "metadata": {
    "lines_to_next_cell": 0
   },
   "source": [
    "Unlike in the Xenium dataset, here most cells have at least one blank count. By log transforming, the zeroes are removed from the plot. "
   ]
  },
  {
   "cell_type": "code",
   "execution_count": null,
<<<<<<< HEAD
<<<<<<< HEAD
   "id": "d751e297",
||||||| 00f6fb22
   "id": "a3b72ad1",
=======
   "id": "86ae6252",
>>>>>>> documentation-devel
||||||| d828f8eb
   "id": "d751e297",
=======
   "id": "f5b1e9eb",
>>>>>>> 6c25d2f1afd31725c9595ab9d8922b9d3c838629
   "metadata": {},
   "outputs": [],
   "source": [
    "plotColDataHistogram(sfe, \"subsets_blank_percent\") +\n",
    "    scale_x_log10() +\n",
    "    annotation_logticks()"
   ]
  },
  {
   "cell_type": "markdown",
<<<<<<< HEAD
<<<<<<< HEAD
   "id": "326960e1",
||||||| 00f6fb22
   "id": "c854ad97",
=======
   "id": "26bad50a",
>>>>>>> documentation-devel
||||||| d828f8eb
   "id": "326960e1",
=======
   "id": "f95758fb",
>>>>>>> 6c25d2f1afd31725c9595ab9d8922b9d3c838629
   "metadata": {},
   "source": [
    "A small percentage of blank counts is acceptable. So we will remove the outlier based on the distribution of the percentage when it's greater than zero. How does the blank percentage relate to total counts?"
   ]
  },
  {
   "cell_type": "code",
   "execution_count": null,
<<<<<<< HEAD
<<<<<<< HEAD
   "id": "fdb11055",
||||||| 00f6fb22
   "id": "c412ad36",
=======
   "id": "c665f494",
>>>>>>> documentation-devel
||||||| d828f8eb
   "id": "fdb11055",
=======
   "id": "672343c6",
>>>>>>> 6c25d2f1afd31725c9595ab9d8922b9d3c838629
   "metadata": {},
   "outputs": [],
   "source": [
    "plotColData(sfe, x=\"nCounts\", y=\"subsets_blank_percent\", bins = 100)"
   ]
  },
  {
   "cell_type": "markdown",
<<<<<<< HEAD
<<<<<<< HEAD
   "id": "46e8738c",
||||||| 00f6fb22
   "id": "b13f7ee4",
=======
   "id": "60939979",
>>>>>>> documentation-devel
||||||| d828f8eb
   "id": "46e8738c",
=======
   "id": "c79153f6",
>>>>>>> 6c25d2f1afd31725c9595ab9d8922b9d3c838629
   "metadata": {
    "lines_to_next_cell": 0
   },
   "source": [
    "The outliers in percentage of blank counts have low total counts. But there are some seemingly real cells with sizable nCounts which have a relatively high percentage of blank counts. Since the distribution of this percentage has a very long tail, we log transform it when finding outliers."
   ]
  },
  {
   "cell_type": "code",
   "execution_count": null,
<<<<<<< HEAD
<<<<<<< HEAD
   "id": "b889b90c",
||||||| 00f6fb22
   "id": "d01a203c",
=======
   "id": "762e4466",
>>>>>>> documentation-devel
||||||| d828f8eb
   "id": "b889b90c",
=======
   "id": "f15be936",
>>>>>>> 6c25d2f1afd31725c9595ab9d8922b9d3c838629
   "metadata": {},
   "outputs": [],
   "source": [
    "get_neg_ctrl_outliers <- function(col, sfe, nmads = 3, log = FALSE) {\n",
    "    inds <- colData(sfe)$nCounts > 0 & colData(sfe)[[col]] > 0\n",
    "    df <- colData(sfe)[inds,]\n",
    "    outlier_inds <- isOutlier(df[[col]], type = \"higher\", nmads = nmads, log = log)\n",
    "    outliers <- rownames(df)[outlier_inds]\n",
    "    col2 <- str_remove(col, \"^subsets_\")\n",
    "    col2 <- str_remove(col2, \"_percent$\")\n",
    "    new_colname <- paste(\"is\", col2, \"outlier\", sep = \"_\")\n",
    "    colData(sfe)[[new_colname]] <- colnames(sfe) %in% outliers\n",
    "    sfe\n",
    "}"
   ]
  },
  {
   "cell_type": "code",
   "execution_count": null,
<<<<<<< HEAD
<<<<<<< HEAD
   "id": "b0102f10",
||||||| 00f6fb22
   "id": "3b797808",
=======
   "id": "1ec826de",
>>>>>>> documentation-devel
||||||| d828f8eb
   "id": "b0102f10",
=======
   "id": "01880991",
>>>>>>> 6c25d2f1afd31725c9595ab9d8922b9d3c838629
   "metadata": {},
   "outputs": [],
   "source": [
    "sfe <- get_neg_ctrl_outliers(\"subsets_blank_percent\", sfe, log = TRUE)"
   ]
  },
  {
   "cell_type": "markdown",
<<<<<<< HEAD
<<<<<<< HEAD
   "id": "1e671e66",
||||||| 00f6fb22
   "id": "1d03714e",
=======
   "id": "2c627136",
>>>>>>> documentation-devel
||||||| d828f8eb
   "id": "1e671e66",
=======
   "id": "f807e4c5",
>>>>>>> 6c25d2f1afd31725c9595ab9d8922b9d3c838629
   "metadata": {
    "lines_to_next_cell": 0
   },
   "source": [
    "What proportion of all cells are outliers?"
   ]
  },
  {
   "cell_type": "code",
   "execution_count": null,
<<<<<<< HEAD
<<<<<<< HEAD
   "id": "6ab75e7a",
||||||| 00f6fb22
   "id": "8715c3f8",
=======
   "id": "12f42c3f",
>>>>>>> documentation-devel
||||||| d828f8eb
   "id": "6ab75e7a",
=======
   "id": "c6b46b86",
>>>>>>> 6c25d2f1afd31725c9595ab9d8922b9d3c838629
   "metadata": {},
   "outputs": [],
   "source": [
    "mean(sfe$is_blank_outlier)"
   ]
  },
  {
   "cell_type": "markdown",
<<<<<<< HEAD
<<<<<<< HEAD
   "id": "912e3fea",
||||||| 00f6fb22
   "id": "1cf76c04",
=======
   "id": "186212ee",
>>>>>>> documentation-devel
||||||| d828f8eb
   "id": "912e3fea",
=======
   "id": "f29dd430",
>>>>>>> 6c25d2f1afd31725c9595ab9d8922b9d3c838629
   "metadata": {
    "lines_to_next_cell": 0
   },
   "source": [
    "What's the cutoff for outlier?"
   ]
  },
  {
   "cell_type": "code",
   "execution_count": null,
<<<<<<< HEAD
<<<<<<< HEAD
   "id": "8428c94e",
||||||| 00f6fb22
   "id": "ba7bd643",
=======
   "id": "4d0d49ca",
>>>>>>> documentation-devel
||||||| d828f8eb
   "id": "8428c94e",
=======
   "id": "d16bcbac",
>>>>>>> 6c25d2f1afd31725c9595ab9d8922b9d3c838629
   "metadata": {},
   "outputs": [],
   "source": [
    "min(sfe$subsets_blank_percent[sfe$is_blank_outlier])"
   ]
  },
  {
   "cell_type": "markdown",
<<<<<<< HEAD
<<<<<<< HEAD
   "id": "cb9d1a6a",
||||||| 00f6fb22
   "id": "01ba94a3",
=======
   "id": "ba4f2890",
>>>>>>> documentation-devel
||||||| d828f8eb
   "id": "cb9d1a6a",
=======
   "id": "c102a890",
>>>>>>> 6c25d2f1afd31725c9595ab9d8922b9d3c838629
   "metadata": {
    "lines_to_next_cell": 0
   },
   "source": [
    "Remove the outliers and empty cells:"
   ]
  },
  {
   "cell_type": "code",
   "execution_count": null,
<<<<<<< HEAD
<<<<<<< HEAD
   "id": "4d5d710a",
||||||| 00f6fb22
   "id": "5b0001be",
=======
   "id": "661d61d0",
>>>>>>> documentation-devel
||||||| d828f8eb
   "id": "4d5d710a",
=======
   "id": "1ddd7031",
>>>>>>> 6c25d2f1afd31725c9595ab9d8922b9d3c838629
   "metadata": {},
   "outputs": [],
   "source": [
    "(sfe <- sfe[, !sfe$is_blank_outlier & sfe$nCounts > 0])"
   ]
  },
  {
   "cell_type": "markdown",
<<<<<<< HEAD
<<<<<<< HEAD
   "id": "d6035f86",
||||||| 00f6fb22
   "id": "d5c91669",
=======
   "id": "f2e13589",
>>>>>>> documentation-devel
||||||| d828f8eb
   "id": "d6035f86",
=======
   "id": "1b875a67",
>>>>>>> 6c25d2f1afd31725c9595ab9d8922b9d3c838629
   "metadata": {
    "lines_to_next_cell": 0
   },
   "source": [
    "There still are over 390,000 cells left after removing the outliers.\n",
    "\n",
    "## Genes\n",
    "Here we look at the mean and variance of each gene:"
   ]
  },
  {
   "cell_type": "code",
   "execution_count": null,
<<<<<<< HEAD
<<<<<<< HEAD
   "id": "a8719c34",
||||||| 00f6fb22
   "id": "3686b600",
=======
   "id": "1d8110e0",
>>>>>>> documentation-devel
||||||| d828f8eb
   "id": "a8719c34",
=======
   "id": "dc3ad590",
>>>>>>> 6c25d2f1afd31725c9595ab9d8922b9d3c838629
   "metadata": {},
   "outputs": [],
   "source": [
    "rowData(sfe)$means <- rowMeans(counts(sfe))\n",
    "rowData(sfe)$vars <- rowVars(counts(sfe))"
   ]
  },
  {
   "cell_type": "code",
   "execution_count": null,
<<<<<<< HEAD
<<<<<<< HEAD
   "id": "50f73d72",
||||||| 00f6fb22
   "id": "305bc99a",
=======
   "id": "4a5b8232",
>>>>>>> documentation-devel
||||||| d828f8eb
   "id": "50f73d72",
=======
   "id": "936f8884",
>>>>>>> 6c25d2f1afd31725c9595ab9d8922b9d3c838629
   "metadata": {},
   "outputs": [],
   "source": [
    "rowData(sfe)$is_blank <- is_blank\n",
    "plotRowData(sfe, x = \"means\", y = \"is_blank\") +\n",
    "    scale_y_log10() +\n",
    "    annotation_logticks(sides = \"b\")"
   ]
  },
  {
   "cell_type": "markdown",
<<<<<<< HEAD
<<<<<<< HEAD
   "id": "bb4801fb",
||||||| 00f6fb22
   "id": "f8d0710e",
=======
   "id": "d50e1193",
>>>>>>> documentation-devel
||||||| d828f8eb
   "id": "bb4801fb",
=======
   "id": "e8259d50",
>>>>>>> 6c25d2f1afd31725c9595ab9d8922b9d3c838629
   "metadata": {
    "lines_to_next_cell": 0
   },
   "source": [
    "Most genes display higher mean expression than blanks, but there is considerable overlap in the distribution, probably because some genes expressed at lower levels or in fewer cells are included.\n",
    "\n",
    "Here the \"real\" genes and negative controls are plotted in different colors:"
   ]
  },
  {
   "cell_type": "code",
   "execution_count": null,
<<<<<<< HEAD
<<<<<<< HEAD
   "id": "11293094",
||||||| 00f6fb22
   "id": "4247fdf3",
=======
   "id": "7f9822bb",
>>>>>>> documentation-devel
||||||| d828f8eb
   "id": "11293094",
=======
   "id": "8b78b63f",
>>>>>>> 6c25d2f1afd31725c9595ab9d8922b9d3c838629
   "metadata": {},
   "outputs": [],
   "source": [
    "plotRowData(sfe, x = \"means\", y = \"vars\", colour_by = \"is_blank\") +\n",
    "    geom_abline(slope = 1, intercept = 0, color = \"red\") +\n",
    "    scale_x_log10() + scale_y_log10() +\n",
    "    annotation_logticks() +\n",
    "    coord_equal()"
   ]
  },
  {
   "cell_type": "markdown",
<<<<<<< HEAD
<<<<<<< HEAD
   "id": "0065c878",
||||||| 00f6fb22
   "id": "77bf2db7",
=======
   "id": "f0f8d55e",
>>>>>>> documentation-devel
||||||| d828f8eb
   "id": "0065c878",
=======
   "id": "acd82eb5",
>>>>>>> 6c25d2f1afd31725c9595ab9d8922b9d3c838629
   "metadata": {
    "lines_to_next_cell": 0
   },
   "source": [
    "The red line $y = x$ is expected when the data follows a Poisson distribution. "
   ]
  },
  {
   "cell_type": "code",
   "execution_count": null,
<<<<<<< HEAD
<<<<<<< HEAD
   "id": "8cd9d72e",
||||||| 00f6fb22
   "id": "8dcba88f",
=======
   "id": "4dc0b535",
>>>>>>> documentation-devel
||||||| d828f8eb
   "id": "8cd9d72e",
=======
   "id": "aa363864",
>>>>>>> 6c25d2f1afd31725c9595ab9d8922b9d3c838629
   "metadata": {},
   "outputs": [],
   "source": [
    "as.data.frame(rowData(sfe)[is_blank,]) |> \n",
    "    ggplot(aes(means, vars)) +\n",
    "    geom_point() +\n",
    "    geom_abline(slope = 1, intercept = 0, color = \"red\") +\n",
    "    scale_x_log10() + scale_y_log10() +\n",
    "    annotation_logticks() +\n",
    "    coord_equal()"
   ]
  },
  {
   "cell_type": "markdown",
<<<<<<< HEAD
<<<<<<< HEAD
   "id": "6e5f3cfe",
||||||| 00f6fb22
   "id": "4ae4b264",
=======
   "id": "881a89d0",
>>>>>>> documentation-devel
||||||| d828f8eb
   "id": "6e5f3cfe",
=======
   "id": "8818bb64",
>>>>>>> 6c25d2f1afd31725c9595ab9d8922b9d3c838629
   "metadata": {
    "lines_to_next_cell": 0
   },
   "source": [
    "When zoomed in, the blanks are somewhat overdispersed.\n",
    "\n",
    "# Spatial autocorrelation of QC metrics\n",
    "\n",
    "Again, we plot that zoomed in patch to visually inspect cell-cell contiguity:"
   ]
  },
  {
   "cell_type": "code",
   "execution_count": null,
<<<<<<< HEAD
<<<<<<< HEAD
   "id": "1eb5918f",
||||||| 00f6fb22
   "id": "61875a36",
=======
   "id": "f34d043b",
>>>>>>> documentation-devel
||||||| d828f8eb
   "id": "1eb5918f",
=======
   "id": "313a57ef",
>>>>>>> 6c25d2f1afd31725c9595ab9d8922b9d3c838629
   "metadata": {
    "lines_to_next_cell": 2
   },
   "outputs": [],
   "source": [
    "plotGeometry(sfe, \"cellSeg\", bbox = bbox_use)"
   ]
  },
  {
   "cell_type": "markdown",
<<<<<<< HEAD
<<<<<<< HEAD
   "id": "e8754443",
||||||| 00f6fb22
   "id": "bd5c3027",
=======
   "id": "573828ff",
>>>>>>> documentation-devel
||||||| d828f8eb
   "id": "e8754443",
=======
   "id": "f1f7b510",
>>>>>>> 6c25d2f1afd31725c9595ab9d8922b9d3c838629
   "metadata": {},
   "source": [
    "There are quite a few cells that are not contiguous to any other cell, and cell segmentation is imperfect, so purely using `poly2nb()` is problematic. In the next release, we might implement a way to blend a polygon contiguity graph with some other graph in case of singletons. For now, we use k nearest neighbors with $k = 5$, which seems like a reasonable approximation of contiguity based on the visual inspection. \n",
    "\n",
    "As of Voyager 1.2.0 (Bioconductor 3.17), `findSpatialNeighbors()` by default uses `BiocNeighbors` for k nearest neighbors and distance neighbors and saving the distances between neighbors. This bypasses the most time consuming step in `spdep` when calculating distance based edge weights, which is to compute distance, hence greatly speeding up computation."
   ]
  },
  {
   "cell_type": "code",
   "execution_count": null,
<<<<<<< HEAD
<<<<<<< HEAD
   "id": "fac5768f",
||||||| 00f6fb22
   "id": "1f1cbef6",
=======
   "id": "185f01fa",
>>>>>>> documentation-devel
||||||| d828f8eb
   "id": "fac5768f",
=======
   "id": "bf372923",
>>>>>>> 6c25d2f1afd31725c9595ab9d8922b9d3c838629
   "metadata": {},
   "outputs": [],
   "source": [
    "system.time(\n",
    "    colGraph(sfe, \"knn5\") <- findSpatialNeighbors(sfe, method = \"knearneigh\", \n",
    "                                                  dist_type = \"idw\", k = 5, \n",
    "                                                  style = \"W\")\n",
    ")"
   ]
  },
  {
   "cell_type": "markdown",
<<<<<<< HEAD
<<<<<<< HEAD
   "id": "a2086b82",
||||||| 00f6fb22
   "id": "47eadb0b",
=======
   "id": "c10e2806",
>>>>>>> documentation-devel
||||||| d828f8eb
   "id": "a2086b82",
=======
   "id": "378fddba",
>>>>>>> 6c25d2f1afd31725c9595ab9d8922b9d3c838629
   "metadata": {},
   "source": [
    "With the spatial neighborhood graph, we can compute Moran's I for QC metrics."
   ]
  },
  {
   "cell_type": "code",
   "execution_count": null,
<<<<<<< HEAD
<<<<<<< HEAD
   "id": "63f7536d",
||||||| 00f6fb22
   "id": "5e116531",
=======
   "id": "8ccb56f6",
>>>>>>> documentation-devel
||||||| d828f8eb
   "id": "63f7536d",
=======
   "id": "533cb519",
>>>>>>> 6c25d2f1afd31725c9595ab9d8922b9d3c838629
   "metadata": {},
   "outputs": [],
   "source": [
    "sfe <- colDataMoransI(sfe, c(\"nCounts\", \"nGenes\", \"volume\"), \n",
    "                      colGraphName = \"knn5\")"
   ]
  },
  {
   "cell_type": "code",
   "execution_count": null,
<<<<<<< HEAD
<<<<<<< HEAD
   "id": "dc68afaa",
||||||| 00f6fb22
   "id": "2baf013f",
=======
   "id": "559c7fbc",
>>>>>>> documentation-devel
||||||| d828f8eb
   "id": "dc68afaa",
=======
   "id": "7c724e12",
>>>>>>> 6c25d2f1afd31725c9595ab9d8922b9d3c838629
   "metadata": {},
   "outputs": [],
   "source": [
    "colFeatureData(sfe)[c(\"nCounts\", \"nGenes\", \"volume\"),]"
   ]
  },
  {
   "cell_type": "markdown",
<<<<<<< HEAD
<<<<<<< HEAD
   "id": "4879b9f0",
||||||| 00f6fb22
   "id": "03435f51",
=======
   "id": "f87f1e7a",
>>>>>>> documentation-devel
||||||| d828f8eb
   "id": "4879b9f0",
=======
   "id": "f1d1057d",
>>>>>>> 6c25d2f1afd31725c9595ab9d8922b9d3c838629
   "metadata": {
    "lines_to_next_cell": 0
   },
   "source": [
    "Unlike the other smFISH-based datasets on this website, nCounts and nGenes have sizable negative Moran's I's, which is closer to 0 for volume. It would be interesting to compare these metrics across different tissues, as we add more datasets to `SFEData` in future releases.\n",
    "\n",
    "Also check local Moran's I, since in that little patch we examined above, some regions may have more positive spatial autocorrelation."
   ]
  },
  {
   "cell_type": "code",
   "execution_count": null,
<<<<<<< HEAD
<<<<<<< HEAD
   "id": "bbdcf118",
||||||| 00f6fb22
   "id": "4ba8a00c",
=======
   "id": "115aa771",
>>>>>>> documentation-devel
||||||| d828f8eb
   "id": "bbdcf118",
=======
   "id": "ba6cd870",
>>>>>>> 6c25d2f1afd31725c9595ab9d8922b9d3c838629
   "metadata": {},
   "outputs": [],
   "source": [
    "sfe <- colDataUnivariate(sfe, type = \"localmoran\", \n",
    "                         features = c(\"nCounts\", \"nGenes\", \"volume\"),\n",
    "                         colGraphName = \"knn5\")"
   ]
  },
  {
   "cell_type": "code",
   "execution_count": null,
<<<<<<< HEAD
<<<<<<< HEAD
   "id": "a9bc36e0",
||||||| 00f6fb22
   "id": "840b7967",
=======
   "id": "844d2874",
>>>>>>> documentation-devel
||||||| d828f8eb
   "id": "a9bc36e0",
=======
   "id": "abaaecb1",
>>>>>>> 6c25d2f1afd31725c9595ab9d8922b9d3c838629
   "metadata": {
    "fig.height": 7,
    "fig.width": 9
   },
   "outputs": [],
   "source": [
    "plotLocalResult(sfe, \"localmoran\", c(\"nCounts\", \"nGenes\", \"volume\"),\n",
    "                colGeometryName = \"centroids\", scattermore = TRUE,\n",
    "                ncol = 2, divergent = TRUE, diverge_center = 0)"
   ]
  },
  {
   "cell_type": "markdown",
<<<<<<< HEAD
<<<<<<< HEAD
   "id": "ee68a7db",
||||||| 00f6fb22
   "id": "cdfa4964",
=======
   "id": "459bc918",
>>>>>>> documentation-devel
||||||| d828f8eb
   "id": "ee68a7db",
=======
   "id": "d1f5cf74",
>>>>>>> 6c25d2f1afd31725c9595ab9d8922b9d3c838629
   "metadata": {
    "lines_to_next_cell": 0
   },
   "source": [
    "There are some niches around smaller blood vessels with positive local Moran's I for nCounts and nGenes. This is most likely due to the more homogeneous endothelial cells compared to hepatocytes.\n",
    "\n",
    "# Moran's I"
   ]
  },
  {
   "cell_type": "code",
   "execution_count": null,
<<<<<<< HEAD
<<<<<<< HEAD
   "id": "c47d8603",
||||||| 00f6fb22
   "id": "2f145557",
=======
   "id": "97427b5a",
>>>>>>> documentation-devel
||||||| d828f8eb
   "id": "c47d8603",
=======
   "id": "fd579d13",
>>>>>>> 6c25d2f1afd31725c9595ab9d8922b9d3c838629
   "metadata": {},
   "outputs": [],
   "source": [
    "sfe <- logNormCounts(sfe)"
   ]
  },
  {
   "cell_type": "code",
   "execution_count": null,
<<<<<<< HEAD
<<<<<<< HEAD
   "id": "a5269ae6",
||||||| 00f6fb22
   "id": "42bc95a7",
=======
   "id": "8cb9d83c",
>>>>>>> documentation-devel
||||||| d828f8eb
   "id": "a5269ae6",
=======
   "id": "ce826cfd",
>>>>>>> 6c25d2f1afd31725c9595ab9d8922b9d3c838629
   "metadata": {},
   "outputs": [],
   "source": [
    "system.time(\n",
    "    sfe <- runMoransI(sfe, BPPARAM = MulticoreParam(2))\n",
    ")"
   ]
  },
  {
   "cell_type": "markdown",
<<<<<<< HEAD
<<<<<<< HEAD
   "id": "560b05ee",
||||||| 00f6fb22
   "id": "c1e49917",
=======
   "id": "43a5eea1",
>>>>>>> documentation-devel
||||||| d828f8eb
   "id": "560b05ee",
=======
   "id": "efce4ef6",
>>>>>>> 6c25d2f1afd31725c9595ab9d8922b9d3c838629
   "metadata": {},
   "source": [
    "It's actually not as slow as I thought for almost 400,000 cells. How are Moran's I's distributed for real genes and blank probes?"
   ]
  },
  {
   "cell_type": "code",
   "execution_count": null,
<<<<<<< HEAD
<<<<<<< HEAD
   "id": "fc0406f7",
||||||| 00f6fb22
   "id": "22e5e064",
=======
   "id": "00d9fe4b",
>>>>>>> documentation-devel
||||||| d828f8eb
   "id": "fc0406f7",
=======
   "id": "0141c5e6",
>>>>>>> 6c25d2f1afd31725c9595ab9d8922b9d3c838629
   "metadata": {},
   "outputs": [],
   "source": [
    "plotRowData(sfe, x = \"moran_sample01\", y = \"is_blank\") +\n",
    "    geom_hline(yintercept = 0, linetype = 2)"
   ]
  },
  {
   "cell_type": "markdown",
<<<<<<< HEAD
<<<<<<< HEAD
   "id": "bb35fb6b",
||||||| 00f6fb22
   "id": "28b9c23f",
=======
   "id": "e7bb408a",
>>>>>>> documentation-devel
||||||| d828f8eb
   "id": "bb35fb6b",
=======
   "id": "6758930b",
>>>>>>> 6c25d2f1afd31725c9595ab9d8922b9d3c838629
   "metadata": {},
   "source": [
    "The blanks are clustered tightly around 0. The vast majority of real genes have positive spatial autocorrelation, some quite strong. But some genes have negative spatial autocorrelation, although it may or may not be statistically significant.\n",
    "\n",
    "Plot the top genes with positive spatial autocorrelation:"
   ]
  },
  {
   "cell_type": "code",
   "execution_count": null,
<<<<<<< HEAD
<<<<<<< HEAD
   "id": "2216b751",
||||||| 00f6fb22
   "id": "7ce0fa8e",
=======
   "id": "48582eac",
>>>>>>> documentation-devel
||||||| d828f8eb
   "id": "2216b751",
=======
   "id": "50230ff1",
>>>>>>> 6c25d2f1afd31725c9595ab9d8922b9d3c838629
   "metadata": {
    "fig.height": 12,
    "fig.width": 9
   },
   "outputs": [],
   "source": [
    "top_moran <- rownames(sfe)[order(rowData(sfe)$moran_sample01, decreasing = TRUE)[1:6]]\n",
    "plotSpatialFeature(sfe, top_moran, colGeometryName = \"centroids\", scattermore = TRUE,\n",
    "                   ncol = 2)"
   ]
  },
  {
   "cell_type": "markdown",
<<<<<<< HEAD
<<<<<<< HEAD
   "id": "18feefd1",
||||||| 00f6fb22
   "id": "b246666d",
=======
   "id": "f437567d",
>>>>>>> documentation-devel
||||||| d828f8eb
   "id": "18feefd1",
=======
   "id": "0679644e",
>>>>>>> 6c25d2f1afd31725c9595ab9d8922b9d3c838629
   "metadata": {},
   "source": [
    "Unlike in the other smFISH-based cancer datasets on this dataset, the genes with the highest Moran's I highlight different histological regions. Some probably for zones in the hepatic lobule, and some for blood vessels. It would be interesting to compare spatial autocorrelation of marker genes among different tissues and cell types.\n",
    "\n",
    "Negative Moran's I means that nearby cells tend to be more dissimilar to each other. That would be hard to see when plotting the whole tissue section, so we will use that bounding box again. The gene with the most negative Moran's I is compared to one with Moran's I closest to 0."
   ]
  },
  {
   "cell_type": "code",
   "execution_count": null,
<<<<<<< HEAD
<<<<<<< HEAD
   "id": "54d2a4a1",
||||||| 00f6fb22
   "id": "4a010960",
=======
   "id": "8908204c",
>>>>>>> documentation-devel
||||||| d828f8eb
   "id": "54d2a4a1",
=======
   "id": "4d3da5cb",
>>>>>>> 6c25d2f1afd31725c9595ab9d8922b9d3c838629
   "metadata": {
    "fig.height": 5,
    "fig.width": 9
   },
   "outputs": [],
   "source": [
    "bottom_moran <- rownames(sfe)[order(rowData(sfe)$moran_sample01)[1]]\n",
    "bottom_abs_moran <- rownames(sfe)[order(abs(rowData(sfe)$moran_sample01))[1]]\n",
    "plotSpatialFeature(sfe, c(bottom_moran, bottom_abs_moran), \n",
    "                   colGeometryName = \"cellSeg\", bbox = bbox_use)"
   ]
  },
  {
   "cell_type": "markdown",
<<<<<<< HEAD
<<<<<<< HEAD
   "id": "e910ecfe",
||||||| 00f6fb22
   "id": "ddd70630",
=======
   "id": "83a655c2",
>>>>>>> documentation-devel
||||||| d828f8eb
   "id": "e910ecfe",
=======
   "id": "c4569ece",
>>>>>>> 6c25d2f1afd31725c9595ab9d8922b9d3c838629
   "metadata": {
    "lines_to_next_cell": 0
   },
   "source": [
    "As expected, the feature with Moran's I closest to 0 is a blank.\n",
    "\n",
    "# Spatial autocorrelation at larger length scales\n",
    "The k nearest neighbor graph used above only concerns 5 cells around each cell, which is a very small neighborhood, over a very small length scale. In the current release of `Voyager`, a correlogram can be computed to get a sense of the length scale of spatial autocorrelation. However, since finding the lag values over higher and higher orders of neighborhoods is very slow for such a large number of cells for higher orders, the correlogram is not very helpful here. In this section, we use some other methods involving binning to explore spatial autocorrelation at larger length scales.\n",
    "\n",
    "## Binning\n",
    "The `sf` package can create polygons in a grid, with which we can bin the cells and their attributes and gene expressions. Here we make a 100 by 100 hexagonal grid in the bounding box of the cell centroids."
   ]
  },
  {
   "cell_type": "code",
   "execution_count": null,
<<<<<<< HEAD
<<<<<<< HEAD
   "id": "eb01e5e3",
||||||| 00f6fb22
   "id": "995e49c2",
=======
   "id": "c8b406b4",
>>>>>>> documentation-devel
||||||| d828f8eb
   "id": "eb01e5e3",
=======
   "id": "593f4faf",
>>>>>>> 6c25d2f1afd31725c9595ab9d8922b9d3c838629
   "metadata": {},
   "outputs": [],
   "source": [
    "(bins <- st_make_grid(colGeometry(sfe, \"centroids\"), n = 100, square = FALSE))"
   ]
  },
  {
   "cell_type": "markdown",
<<<<<<< HEAD
<<<<<<< HEAD
   "id": "61eef79f",
||||||| 00f6fb22
   "id": "322d3103",
=======
   "id": "9d0012f7",
>>>>>>> documentation-devel
||||||| d828f8eb
   "id": "61eef79f",
=======
   "id": "feab0246",
>>>>>>> 6c25d2f1afd31725c9595ab9d8922b9d3c838629
   "metadata": {
    "lines_to_next_cell": 0
   },
   "source": [
    "Here we use this grid to bin the QC metrics by averaging the values from the cells. Since bins not completely covered by tissue have fewer cells, the mean may be less susceptible to edge effect than the sum, as bins near the edge will have lower sums, which may spuriously increase Moran's I. "
   ]
  },
  {
   "cell_type": "code",
   "execution_count": null,
<<<<<<< HEAD
<<<<<<< HEAD
   "id": "000d17de",
||||||| 00f6fb22
   "id": "bef7389b",
=======
   "id": "dc9021f0",
>>>>>>> documentation-devel
||||||| d828f8eb
   "id": "000d17de",
=======
   "id": "d412b4ad",
>>>>>>> 6c25d2f1afd31725c9595ab9d8922b9d3c838629
   "metadata": {},
   "outputs": [],
   "source": [
    "df <- cbind(colGeometry(sfe, \"centroids\"), colData(sfe)[,c(\"nCounts\", \"nGenes\", \"volume\")])\n",
    "df_binned <- aggregate(df, bins, FUN = mean)\n",
    "# Remove bins not containing cells\n",
    "df_binned <- df_binned[!is.na(df_binned$nCounts),]"
   ]
  },
  {
   "cell_type": "markdown",
<<<<<<< HEAD
<<<<<<< HEAD
   "id": "395f05a1",
||||||| 00f6fb22
   "id": "0725e6c1",
=======
   "id": "640bc996",
>>>>>>> documentation-devel
||||||| d828f8eb
   "id": "395f05a1",
=======
   "id": "66da6ea2",
>>>>>>> 6c25d2f1afd31725c9595ab9d8922b9d3c838629
   "metadata": {
    "lines_to_next_cell": 0
   },
   "source": [
    "Plot the binned values:"
   ]
  },
  {
   "cell_type": "code",
   "execution_count": null,
<<<<<<< HEAD
<<<<<<< HEAD
   "id": "ea5e71c7",
||||||| 00f6fb22
   "id": "a4038b8f",
=======
   "id": "add4a57e",
>>>>>>> documentation-devel
||||||| d828f8eb
   "id": "ea5e71c7",
=======
   "id": "08d56424",
>>>>>>> 6c25d2f1afd31725c9595ab9d8922b9d3c838629
   "metadata": {
    "fig.height": 7,
    "fig.width": 9
   },
   "outputs": [],
   "source": [
    "# Not using facet_wrap to give each panel its own color scale\n",
    "plts <- lapply(c(\"nCounts\", \"nGenes\", \"volume\"), function(f) {\n",
    "    ggplot(df_binned[,f]) + geom_sf(aes(fill = .data[[f]]), linewidth = 0) +\n",
    "        scale_fill_distiller(palette = \"Blues\", direction = 1) + theme_void()\n",
    "})\n",
    "wrap_plots(plts, nrow = 2)"
   ]
  },
  {
   "cell_type": "markdown",
<<<<<<< HEAD
<<<<<<< HEAD
   "id": "75480782",
||||||| 00f6fb22
   "id": "03441476",
=======
   "id": "93edb8ca",
>>>>>>> documentation-devel
||||||| d828f8eb
   "id": "75480782",
=======
   "id": "0116ab51",
>>>>>>> 6c25d2f1afd31725c9595ab9d8922b9d3c838629
   "metadata": {
    "lines_to_next_cell": 0
   },
   "source": [
    "There's an outlier bin not as evident when plotting single cells. There's still some edge effect around blood vessels. This might be truly edge effect, or that endothelial cells tend to have lower values in all 3 variables here.\n",
    "\n",
    "Then compute Moran's I over the binned data, with contiguity neighborhoods. `zero.policy = TRUE` because there are some bins with no neighbors."
   ]
  },
  {
   "cell_type": "code",
   "execution_count": null,
<<<<<<< HEAD
<<<<<<< HEAD
   "id": "b3af4984",
||||||| 00f6fb22
   "id": "b604c684",
=======
   "id": "ec6a3baf",
>>>>>>> documentation-devel
||||||| d828f8eb
   "id": "b3af4984",
=======
   "id": "2d88db97",
>>>>>>> 6c25d2f1afd31725c9595ab9d8922b9d3c838629
   "metadata": {},
   "outputs": [],
   "source": [
    "nb <- poly2nb(df_binned)\n",
    "listw <- nb2listw(nb, zero.policy = TRUE)"
   ]
  },
  {
   "cell_type": "code",
   "execution_count": null,
<<<<<<< HEAD
<<<<<<< HEAD
   "id": "d0e6be58",
||||||| 00f6fb22
   "id": "7eada39b",
=======
   "id": "749f5703",
>>>>>>> documentation-devel
||||||| d828f8eb
   "id": "d0e6be58",
=======
   "id": "9427e927",
>>>>>>> 6c25d2f1afd31725c9595ab9d8922b9d3c838629
   "metadata": {},
   "outputs": [],
   "source": [
    "calculateMoransI(t(as.matrix(st_drop_geometry(df_binned[,c(\"nCounts\", \"nGenes\", \"volume\")]))),\n",
    "                 listw = listw, zero.policy = TRUE)"
   ]
  },
  {
   "cell_type": "markdown",
<<<<<<< HEAD
<<<<<<< HEAD
   "id": "034f5fb8",
||||||| 00f6fb22
   "id": "a5826a1d",
=======
   "id": "2bcc29d8",
>>>>>>> documentation-devel
||||||| d828f8eb
   "id": "034f5fb8",
=======
   "id": "3a13e16a",
>>>>>>> 6c25d2f1afd31725c9595ab9d8922b9d3c838629
   "metadata": {},
   "source": [
    "At a larger length scale, Moran's I becomes positive. Comparing Moran's I across different sized bins can give a sense of the length scale of spatial autocorrelation. However, there are problems with binning to watch out for:\n",
    "\n",
    "1. Edge effect, especially when using the sum when binning\n",
    "2. Which function to use to aggregate the values when binning\n",
    "3. When using a rectangular grid, whether to use rook or queen neighbors. Rook means two cells are neighbors if they share an edge, while queen means they are neighbors even if they merely share a vertex. \n",
    "\n",
    "While binning can greatly speed up computation of spatial autocorrelation metrics for larger datasets, it can be used for smaller datasets to find length scales of spatial autocorrelation. On the other hand, as seen here, Moran's I can flip signs at different length scales, so for larger datasets, exploring spatial autocorrelation at the cell level would still be interesting.\n",
    "\n",
    "## Semivariogram\n",
    "In geostatistical data, an underlying spatial process is sampled at known locations. Kriging uses a Gaussian process to interpolate the values between the sample locations, and the semivariogram is used to model the spatial dependency between the locations as the covariance of the Gaussian process. When not kriging, the semivariogram can be used as an exploratory data analysis tool to find the length scale and anisotropy of spatial autocorrelation. One of the classic R packages in the geostatistical tradition is [`gstat`](https://cran.r-project.org/web/packages/gstat/index.html), which we use here to find semivariograms, defined as\n",
    "\n",
    "$$\n",
    "\\gamma(t) = \\frac 1 2 \\mathrm{Var}(X_t - X_0),\n",
    "$$\n",
    "\n",
    "where $X$ is the value such as gene expression, and $t$ is a spatial vector. $X_0$ is the value at a location of interest, and $X_t$ is the value lagged by $t$. With positive spatial autocorrelation, the variance would be smaller among nearby values, so the variogram would increase with distance, eventually leveling off when the distance is beyond the length scale of spatial autocorrelation. The \"semi\" comes from the 1/2.\n",
    "\n",
    "The variogram is in Voyager v1.2.0 or higher (Bioconductor 3.17 or later) and can be computed with the same `runUnivariate()` function. See [vignette for variograms and variogram maps](https://pachterlab.github.io/voyager/articles/variogram.html).\n",
    "\n",
    "First we find an empirical variogram assuming that it's the same in all directions. Here the data is binned at distance intervals, so this is much faster than the correlogram at the cell level. The `width` argument controlls the bin size. The `cutoff` argument is the maximum distance to consider. Here we use the defaults. The first argument is a formula; covariates can be specified, but is not done here.\n",
    "\n",
    "With different widths and cutoffs, the variogram can be estimated at different length scales. The `gstat` package can also fit a model to the empirical variogram. See `vgm()` for the different types of models. The [`automap`](https://cran.r-project.org/web/packages/automap/) package can choose a model for the user, and is used here and in Voyager. \n",
    "\n",
    "Unfortunately, `gstat` doesn't scale to 400,000 cells, although it worked for 100,000 cells in the other smFISH-based datasets on this website. But since the variogram is used to explore larger length scales here anyway, we use the binned data here, but the problems with binning will apply."
   ]
  },
  {
   "cell_type": "code",
   "execution_count": null,
<<<<<<< HEAD
<<<<<<< HEAD
   "id": "70e220f6",
||||||| 00f6fb22
   "id": "becddd31",
=======
   "id": "8c484d14",
>>>>>>> documentation-devel
||||||| d828f8eb
   "id": "70e220f6",
=======
   "id": "cbe6946c",
>>>>>>> 6c25d2f1afd31725c9595ab9d8922b9d3c838629
   "metadata": {
    "warning": false
   },
   "outputs": [],
   "source": [
    "# as_Spatial since automap uses old fashioned sp, the predecessor of sf\n",
    "v <- autofitVariogram(nCounts ~ 1, as_Spatial(df_binned))\n",
    "plot(v)"
   ]
  },
  {
   "cell_type": "markdown",
<<<<<<< HEAD
<<<<<<< HEAD
   "id": "f2eb1ee2",
||||||| 00f6fb22
   "id": "21d9a54d",
=======
   "id": "eb4aaf8e",
>>>>>>> documentation-devel
||||||| d828f8eb
   "id": "f2eb1ee2",
=======
   "id": "6319822d",
>>>>>>> 6c25d2f1afd31725c9595ab9d8922b9d3c838629
   "metadata": {
    "lines_to_next_cell": 0
   },
   "source": [
    "The numbers in this plot are the number of pairs in each distance bin. The variogram is not 0 at 0 distance; this is the variance within the bin size, called the nugget. The variogram levels off at greater distance, and the value of the variogram where is levels off is the sill. Range is where the variogram is leveling off, indicating length scale of spatial autocorrelation; the range from visual inspection appears closer to 1000 while the model somehow indicates 423. \n",
    "\n",
    "A variogram map can be made to see how spatial autocorrelation may differ in different directions, i.e. anisotropy"
   ]
  },
  {
   "cell_type": "code",
   "execution_count": null,
<<<<<<< HEAD
<<<<<<< HEAD
   "id": "f4f3e551",
||||||| 00f6fb22
   "id": "93a6faad",
=======
   "id": "b60893a3",
>>>>>>> documentation-devel
||||||| d828f8eb
   "id": "f4f3e551",
=======
   "id": "5ff8703a",
>>>>>>> 6c25d2f1afd31725c9595ab9d8922b9d3c838629
   "metadata": {},
   "outputs": [],
   "source": [
    "v2 <- variogram(nCounts ~ 1, data = df_binned, width = 300, cutoff = 4500, map = TRUE)\n",
    "plot(v2)"
   ]
  },
  {
   "cell_type": "markdown",
<<<<<<< HEAD
<<<<<<< HEAD
   "id": "c00d82fe",
||||||| 00f6fb22
   "id": "9a827f87",
=======
   "id": "f3616000",
>>>>>>> documentation-devel
||||||| d828f8eb
   "id": "c00d82fe",
=======
   "id": "3278bae8",
>>>>>>> 6c25d2f1afd31725c9595ab9d8922b9d3c838629
   "metadata": {
    "lines_to_next_cell": 0
   },
   "source": [
    "Here apparently there's no anisotropy at shorter length scales, but there may be some artifact from the hexagonal bins. Going beyond 2000 (whatever unit), the variance drops at the northwest and southeast direction but not in other directions, perhaps related to the repetitiveness of the hepatic lobules and the general NE/SW direction of the blood vessels seen in the previous plots. \n",
    "\n",
    "The variogram can also be calculated at specified angles, here selected as sides of the hexagon:"
   ]
  },
  {
   "cell_type": "code",
   "execution_count": null,
<<<<<<< HEAD
<<<<<<< HEAD
   "id": "bec9cb15",
||||||| 00f6fb22
   "id": "29abb2ea",
=======
   "id": "8c825b81",
>>>>>>> documentation-devel
||||||| d828f8eb
   "id": "bec9cb15",
=======
   "id": "01eb146a",
>>>>>>> 6c25d2f1afd31725c9595ab9d8922b9d3c838629
   "metadata": {},
   "outputs": [],
   "source": [
    "v3 <- variogram(nCounts ~ 1, df_binned, alpha = c(30, 90, 150))\n",
    "v3_model <- fit.variogram(v3, vgm(\"Ste\"))\n",
    "plot(v3, v3_model)"
   ]
  },
  {
   "cell_type": "markdown",
<<<<<<< HEAD
<<<<<<< HEAD
   "id": "dac620ae",
||||||| 00f6fb22
   "id": "82325cf3",
=======
   "id": "d6c6bc55",
>>>>>>> documentation-devel
||||||| d828f8eb
   "id": "dac620ae",
=======
   "id": "fc912307",
>>>>>>> 6c25d2f1afd31725c9595ab9d8922b9d3c838629
   "metadata": {},
   "source": [
    "The variogram rises when going beyond 2000 at 30 and 90 degrees and drops at 150 degrees. This is consistent with the variogram map. These differences are averaged out in the omni-directional variogram. `gstat` does not fit anisotropy parameters, so the fitted curve is omni-directional. It fits pretty well below 2000. This is only for nCounts, and may differ for other QC metrics and genes. What if anisotropy varies in space? A problem with the variogram is that it's global, giving one result for the entire dataset, albeit more nuanced than just a number as in Moran's I, because kriging assumes that the data is intrinsically stationary, meaning that the same variogram model applies everywhere, and that spatial dependence only depends on lag between two observations.\n",
    "\n",
    "Voyager 1.2.0 and above implements `ggplot2` based plotting functions to make better looking and more customizable plots of the variograms for SFE objects. However, the binned data is not in an SFE object. We are considering writing a method to spatially bin all cell level data in an SFE object for Bioconductor 3.18. Here `gstat` is using `lattice`, a predecessor of `ggplot2` to make facetted plots and has been superseded by `ggplot2`. `gstat` is one of the oldest R packages still on CRAN, dating back to the days of S (prequel of R), although its oldest archive on CRAN is from 2003. `spdep` is also really old; its oldest archive on CRAN is from 2002, but it's still in active development. In using these time honored packages and methods (Moran's I and Geary's C themselves date back to the 1950s and their modern form date back to 1969 [@Cliff1969-wp; @Bivand2013-jx]) on the cool new spatial transcriptomics dataset, we are participating in a glorious tradition, which we will further develop as a spatial analysis tradition forms around spatial -omics data analysis.\n",
    "\n",
    "# PCA for larger datasets\n",
    "There are many ways to do PCA in R, and the [`BiocSingular`](https://bioconductor.org/packages/release/bioc/html/BiocSingular.html) package makes a number of different methods available with a consistent user interface, and it supports out of memory data in `DelayedArray`. According to [this benchmark](https://slowkow.com/notes/pca-benchmark/), `stats::prcomp()` shipped with R is rather slow for larger datasets. The fastest methods are `irlba::irlba()` and `RSpectra::svds()`, and the former is supported by `BiocSingular`. So here we use IRLBA and see how long it takes. Many PCA algorithms involve repeated matrix multiplications. R does not come with optimized BLAS and LAPACK, for portability reasons. However, the BLAS and LAPACK used by R can be changed to an optimized one (here's [how to do it](https://cran.r-project.org/doc/manuals/r-release/R-admin.html#Shared-BLAS)), which will speed up matrix multiplication. "
   ]
  },
  {
   "cell_type": "code",
   "execution_count": null,
<<<<<<< HEAD
<<<<<<< HEAD
   "id": "ce84f181",
||||||| 00f6fb22
   "id": "9cfcb320",
=======
   "id": "7546c6ac",
>>>>>>> documentation-devel
||||||| d828f8eb
   "id": "ce84f181",
=======
   "id": "9b2ff390",
>>>>>>> 6c25d2f1afd31725c9595ab9d8922b9d3c838629
   "metadata": {},
   "outputs": [],
   "source": [
    "set.seed(29)\n",
    "system.time(\n",
    "    sfe <- runPCA(sfe, ncomponents = 20, subset_row = !is_blank,\n",
    "                  exprs_values = \"logcounts\",\n",
    "                  scale = TRUE, BSPARAM = IrlbaParam())\n",
    ")\n",
    "gc()"
   ]
  },
  {
   "cell_type": "markdown",
<<<<<<< HEAD
<<<<<<< HEAD
   "id": "e94d16b8",
||||||| 00f6fb22
   "id": "fdf73aff",
=======
   "id": "a38281bd",
>>>>>>> documentation-devel
||||||| d828f8eb
   "id": "e94d16b8",
=======
   "id": "b21ffe11",
>>>>>>> 6c25d2f1afd31725c9595ab9d8922b9d3c838629
   "metadata": {},
   "source": [
    "That's pretty quick for almost 400,000 cells, but there aren't that many genes here. Use the elbow plot to see variance explained by each PC:"
   ]
  },
  {
   "cell_type": "code",
   "execution_count": null,
<<<<<<< HEAD
<<<<<<< HEAD
   "id": "dfa38767",
||||||| 00f6fb22
   "id": "fde38761",
=======
   "id": "e0fcf788",
>>>>>>> documentation-devel
||||||| d828f8eb
   "id": "dfa38767",
=======
   "id": "80a93ec8",
>>>>>>> 6c25d2f1afd31725c9595ab9d8922b9d3c838629
   "metadata": {},
   "outputs": [],
   "source": [
    "ElbowPlot(sfe)"
   ]
  },
  {
   "cell_type": "markdown",
<<<<<<< HEAD
<<<<<<< HEAD
   "id": "a01b85bf",
||||||| 00f6fb22
   "id": "114836a4",
=======
   "id": "b3d92fa6",
>>>>>>> documentation-devel
||||||| d828f8eb
   "id": "a01b85bf",
=======
   "id": "5074f4a3",
>>>>>>> 6c25d2f1afd31725c9595ab9d8922b9d3c838629
   "metadata": {
    "lines_to_next_cell": 0
   },
   "source": [
    "Plot top gene loadings in each PC"
   ]
  },
  {
   "cell_type": "code",
   "execution_count": null,
<<<<<<< HEAD
<<<<<<< HEAD
   "id": "7ffb48ac",
||||||| 00f6fb22
   "id": "e0e54af8",
=======
   "id": "e69d84cb",
>>>>>>> documentation-devel
||||||| d828f8eb
   "id": "7ffb48ac",
=======
   "id": "e765484f",
>>>>>>> 6c25d2f1afd31725c9595ab9d8922b9d3c838629
   "metadata": {},
   "outputs": [],
   "source": [
    "plotDimLoadings(sfe)"
   ]
  },
  {
   "cell_type": "markdown",
<<<<<<< HEAD
<<<<<<< HEAD
   "id": "79688cce",
||||||| 00f6fb22
   "id": "0bd885c9",
=======
   "id": "6b724221",
>>>>>>> documentation-devel
||||||| d828f8eb
   "id": "79688cce",
=======
   "id": "713a5dda",
>>>>>>> 6c25d2f1afd31725c9595ab9d8922b9d3c838629
   "metadata": {
    "lines_to_next_cell": 0
   },
   "source": [
    "Many of these genes seem to be related to the endothelium.\n",
    "\n",
    "Plot the first 4 PCs in space"
   ]
  },
  {
   "cell_type": "code",
   "execution_count": null,
<<<<<<< HEAD
<<<<<<< HEAD
   "id": "b58e9eb3",
||||||| 00f6fb22
   "id": "eaec0095",
=======
   "id": "9ffaa289",
>>>>>>> documentation-devel
||||||| d828f8eb
   "id": "b58e9eb3",
=======
   "id": "9b8b5e5e",
>>>>>>> 6c25d2f1afd31725c9595ab9d8922b9d3c838629
   "metadata": {
    "fig.height": 7,
    "fig.width": 9
   },
   "outputs": [],
   "source": [
    "spatialReducedDim(sfe, \"PCA\", 4, colGeometryName = \"centroids\", scattermore = TRUE,\n",
    "                  divergent = TRUE, diverge_center = 0)"
   ]
  },
  {
   "cell_type": "markdown",
<<<<<<< HEAD
<<<<<<< HEAD
   "id": "3ccd0631",
||||||| 00f6fb22
   "id": "0936b050",
=======
   "id": "9ea04b1a",
>>>>>>> documentation-devel
||||||| d828f8eb
   "id": "3ccd0631",
=======
   "id": "a35e1552",
>>>>>>> 6c25d2f1afd31725c9595ab9d8922b9d3c838629
   "metadata": {
    "lines_to_next_cell": 0
   },
   "source": [
    "PC1 and PC4 highlight the major blood vessels, while PC2 and PC3 have less spatial structure. While in the CosMX and Xenium datasets on this website, the top PCs have clear spatial structures despite the absence of spatial information in non-spatial PCA because of clear spatial compartments for some cell types, which does not seem to be the case in this dataset except for the blood vessels. We have seen above that some genes have strong spatial structures. There are some methods for spatially informed PCA, such as MULTISPATI PCA [@Dray2008-en] in the [`adespatial`](https://cran.r-project.org/web/packages/adespatial/index.html) package, which seeks to maximize both variance (as in non-spatial PCA) and Moran's I on each PC. Unlike traditional PCs, where all eigenvalues, signifying variance explained, are positive, MULTISPATI PCA can have negative eigenvalues, which signify negative spatial autocorrelation. The PCs from MULTISPATI PCA with positive eigenvalues are also more spatially coherent than those from non-spatial PCA. For the CosMX and Xenium datasets on this website, the spatial coherence from MULTISPATI might not make a difference, but it might make a difference in this dataset where non-spatial PCs don't show as much spatial structure, at least at the larger scale over the entire tissue section. Voyager 1.2.0 (Bioconductor 3.17) has a faster implementation of MULTISPATI PCA than that of `adespatial`, and is demonstrated in this dataset in [another vignette](https://pachterlab.github.io/voyager/articles/multispati.html).\n",
    "\n",
    "While PC2 and PC3 don't seem to have large scale spatial structure, they may have more local spatial structure not obvious from plotting the entire section, so we zoom into the bounding box:"
   ]
  },
  {
   "cell_type": "code",
   "execution_count": null,
<<<<<<< HEAD
<<<<<<< HEAD
   "id": "399a4824",
||||||| 00f6fb22
   "id": "74872e17",
=======
   "id": "781cb699",
>>>>>>> documentation-devel
||||||| d828f8eb
   "id": "399a4824",
=======
   "id": "6031e905",
>>>>>>> 6c25d2f1afd31725c9595ab9d8922b9d3c838629
   "metadata": {
    "fig.height": 5,
    "fig.width": 9
   },
   "outputs": [],
   "source": [
    "spatialReducedDim(sfe, \"PCA\", ncomponents = 2:3, colGeometryName = \"cellSeg\",\n",
    "                  bbox = bbox_use, divergent = TRUE, diverge_center = 0)"
   ]
  },
  {
   "cell_type": "markdown",
<<<<<<< HEAD
<<<<<<< HEAD
   "id": "a0385264",
||||||| 00f6fb22
   "id": "6b58981b",
=======
   "id": "8b530a69",
>>>>>>> documentation-devel
||||||| d828f8eb
   "id": "a0385264",
=======
   "id": "ea8834cc",
>>>>>>> 6c25d2f1afd31725c9595ab9d8922b9d3c838629
   "metadata": {},
   "source": [
    "There's some spatial structure in PC2 and PC3 at a smaller scale, perhaps some negative spatial autocorrelation.\n",
    "\n",
    "Like global Moran's I, PCA and MULTISPATI PCA return one result for the entire dataset. In contrast, [geographically weighted PCA (GWPCA)](https://rdrr.io/cran/GWmodel/man/gwpca.html) [@Harris2015-sr] can account for spatial heterogeneity. GWPCA runs PCA at each spatial location using only the nearby locations weighed by a kernel. The different locations can have different PCs, and the results can be visualized with \"winning variables\" in each PC, i.e. plotting which feature has the highest loading in each PC in space. This most likely doesn't scale to 400,000 cells, but it would still be interesting when performed on spatially binned data. GWPCA might be added in Bioconductor 3.18 and would require some changes in the user interface, because GWPCA is about the features rather than cell embeddings.\n",
    "\n",
    "# More challenges from large datasets\n",
    "Here, despite the numerous cells, the data was loaded into memory. What if the data doesn't fit into memory? We might write a new vignette with `DelayedArray` demonstrating out of memory data analysis for Bioconductor 3.18. This is already supported by `SingleCellExperiment`, which SFE inherits from. However, the geometries, graphs, and local results can take up a lot memory as well. These can possibly be stored in SQL databases and operated on with [`SQLDataFrame`](https://bioconductor.org/packages/release/bioc/html/SQLDataFrame.html). The geometric operations can be handled by [`sedona`](https://github.com/apache/incubator-sedona), although the options are limited compared to GEOS, which performs geometric operations behind the scene for `sf`.\n",
    "\n",
    "Another question can be raised about large spatial transcriptomics data: Is it still a good idea to analyze the entire dataset at once? There must be many interesting and unique neighborhoods that might not get the attention they deserve when the whole dataset is analyzed at once. After all, in the geographical space, national level data is usually not analyzed at the block resolution, although a reason for this is privacy of the subjects. County resolution is often used, but there aren't hundreds of thousands of counties. Many analyses are done for cities and counties with neighborhood resolution; using the largest geographical unit isn't always the most relevant. Back to histological space: How to aggregate cells into larger spatial units? How to decide which scale of spatial units (analogous to nation vs state vs county and etc) is relevant? We have traditional anatomical ontologies, such as from the Allen Brain Atlas, but this isn't available for all tissues. Also, with more single cell -omics data, the traditional ontologies can be improved.\n",
    "\n",
    "Furthermore, there are 3D thick section single cell resolution spatial transcriptomics data, such as from STARmap [@Wang2018-cv] and EASI-FISH [@Wang2021-fv], although the vast majority of spatial -omics data are from thin sections pretty much _de facto_ 2D. As we mostly live on the surface of Earth, there are many more 2D geospatial resources than 3D. However, some methods can in principle be applied to 3D and the existing software primarily made for 2D data might work. For example, GEOS supports 3D data, so in principle 3D geometries in `sf` should work, although there's little documentation on this. Also, k nearest neighbor, Moran's I, variograms, and etc. should in principle work in 3D, and `gstat` officially supports 3D. These are more challenges related to 3D data:\n",
    "\n",
    "1. Even when multiple z-planes are imaged, the resolution is much lower in the z direction than the x and y directions. Then should the z-plane be treated as an attribute or as a coordinate?\n",
    "2. How to make static plots for 3D data for publications? This is more complicated than plotting z-planes separately, since a 3D block can be sectioned from any other direction. Also for interactive visualization, we need to somehow see through the tissue. \n",
    "\n",
    "Finally, the geospatial tradition is only one tradition relevant to large spatial data, and at present `Voyager` only works with vector data. We are uncertain whether raster should be added in a later version, and there are existing tools for large raster data as well, such as [TileDB](https://docs.tiledb.com/geospatial/). Other traditions can be relevant, such as astronomy and image processing, but those are beyond the scope of this package.\n",
    "\n",
    "# Session Info"
   ]
  },
  {
   "cell_type": "code",
   "execution_count": null,
<<<<<<< HEAD
<<<<<<< HEAD
   "id": "7f50ef55",
||||||| 00f6fb22
   "id": "ee6cdebd",
=======
   "id": "cf518eae",
>>>>>>> documentation-devel
||||||| d828f8eb
   "id": "7f50ef55",
=======
   "id": "7f51508e",
>>>>>>> 6c25d2f1afd31725c9595ab9d8922b9d3c838629
   "metadata": {},
   "outputs": [],
   "source": [
    "sessionInfo()"
   ]
  },
  {
   "cell_type": "markdown",
<<<<<<< HEAD
<<<<<<< HEAD
   "id": "b1dd7134",
||||||| 00f6fb22
   "id": "2da9868e",
=======
   "id": "34d4637a",
>>>>>>> documentation-devel
||||||| d828f8eb
   "id": "b1dd7134",
=======
   "id": "5639913b",
>>>>>>> 6c25d2f1afd31725c9595ab9d8922b9d3c838629
   "metadata": {},
   "source": [
    "# References"
   ]
  }
 ],
 "metadata": {
  "kernelspec": {
   "display_name": "R",
   "language": "R",
   "name": "ir"
  }
 },
 "nbformat": 4,
 "nbformat_minor": 5
}
