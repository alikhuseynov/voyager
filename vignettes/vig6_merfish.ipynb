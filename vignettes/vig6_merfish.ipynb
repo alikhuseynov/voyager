{
 "cells": [
  {
   "cell_type": "raw",
<<<<<<< HEAD
<<<<<<< HEAD
   "id": "306b68ae",
||||||| fa5abb84
   "id": "24014713",
=======
   "id": "754b4bbc",
>>>>>>> documentation-devel
||||||| 7e3277eb
   "id": "754b4bbc",
=======
   "id": "0927e380",
>>>>>>> documentation-devel
   "metadata": {},
   "source": [
    "---\n",
    "title: \"MERFISH mouse liver dataset and considerations of large data\"\n",
    "author: \"Lambda Moses\"\n",
    "date: \"`r Sys.Date()`\"\n",
    "output: \n",
    "  html_document:\n",
    "  toc: true\n",
    "  toc_float:\n",
    "    collapsed: false\n",
    "  toc_depth: 3\n",
    "bibliography: ref.bib\n",
    "vignette: >\n",
    "  %\\VignetteIndexEntry{merfish}\n",
    "  %\\VignetteEngine{knitr::rmarkdown}\n",
    "  %\\VignetteEncoding{UTF-8}\n",
    "---"
   ]
  },
  {
   "cell_type": "code",
   "execution_count": null,
<<<<<<< HEAD
<<<<<<< HEAD
   "id": "f96a6241",
||||||| fa5abb84
   "id": "328f3891",
=======
   "id": "8994f82d",
>>>>>>> documentation-devel
||||||| 7e3277eb
   "id": "8994f82d",
=======
   "id": "f2183306",
>>>>>>> documentation-devel
   "metadata": {
    "tags": [
     "remove_cell"
    ]
   },
   "outputs": [],
   "source": [
    "knitr::opts_chunk$set(\n",
    "  collapse = TRUE,\n",
    "  comment = \"#>\"\n",
    ")"
   ]
  },
  {
   "cell_type": "code",
   "execution_count": null,
<<<<<<< HEAD
<<<<<<< HEAD
   "id": "8a6ae069",
||||||| fa5abb84
   "id": "a08d42a2",
=======
   "id": "1cd8dabd",
>>>>>>> documentation-devel
||||||| 7e3277eb
   "id": "1cd8dabd",
=======
   "id": "e9649740",
>>>>>>> documentation-devel
   "metadata": {
    "eval": false,
    "tags": [
     "remove_cell"
    ]
   },
   "outputs": [],
   "source": [
    "# Install Google Colab dependencies\n",
    "# Note: this can take 30+ minutes (many of the dependencies include C++ code, which needs to be compiled)\n",
    "\n",
    "# First install `sf`, `ragg` and `textshaping` and their system dependencies:\n",
    "system(\"apt-get -y update && apt-get install -y  libudunits2-dev libgdal-dev libgeos-dev libproj-dev libharfbuzz-dev libfribidi-dev\")\n",
    "install.packages(\"sf\")\n",
    "install.packages(\"textshaping\")\n",
    "install.packages(\"ragg\")\n",
    "\n",
    "# Install system dependencies of some other R packages that Voyager either imports or suggests:\n",
    "system(\"apt-get install -y libfribidi-dev libcairo2-dev libmagick++-dev\")\n",
    "\n",
    "# Install Voyager from Bioconductor:\n",
    "install.packages(\"BiocManager\")\n",
    "BiocManager::install(version = \"3.17\", ask = FALSE, update = FALSE, Ncpus = 2)\n",
    "BiocManager::install(\"scater\")\n",
    "system.time(\n",
    "  BiocManager::install(\"Voyager\", dependencies = TRUE, Ncpus = 2, update = FALSE)\n",
    ")\n",
    "\n",
    "packageVersion(\"Voyager\")"
   ]
  },
  {
   "cell_type": "markdown",
<<<<<<< HEAD
<<<<<<< HEAD
   "id": "3c175698",
||||||| fa5abb84
   "id": "9dfe95e6",
=======
   "id": "abb91040",
>>>>>>> documentation-devel
||||||| 7e3277eb
   "id": "abb91040",
=======
   "id": "8fd2a3e3",
>>>>>>> documentation-devel
   "metadata": {
    "lines_to_next_cell": 0
   },
   "source": [
    "# Introduction\n",
    "\n",
    "The `SpatialFeatureExperiment` (SFE) and `Voyager` packages were originally developed around a relatively small Visium dataset as a proof of concept, and were hence not originally optimized for very large datasets. However, larger smFISH datasets with hundreds of thousands, sometimes over a million cells have already been produced and will soon be produced routinely. Among studies using smFISH-based spatial transcriptomics technologies that reported the number of cells per dataset, the number of cells per dataset has increased in the past years [@Moses2022-xz].\n",
    "![alt](https://pachterlab.github.io/LP_2021/05-current-techs_files/figure-html/smfish-lm-cell-1.png)\n",
    "\n",
    "In anticipation of large datasets, this vignette was produced using limited GitHub Actions resources (MacOS), which are 14 GB of RAM with 3 CPU cores and 14 GB of disk space, comparable to laptops. We therefore expect that the analyses in this vignette should scale to reasonably sized datasets.  \n",
    "\n",
    "The dataset we use in this vignette is a MERFISH mouse liver dataset downloaded from the [Vizgen website](https://console.cloud.google.com/storage/browser/vz-liver-showcase/Liver1Slice1). We will use it to discuss some issues with large datasets and some upcoming features in the next release of `Voyager`. The gene count matrix and cell metadata (including centroid coordinates) were downloaded as CSV files and read into R. While 7 z-planes were imaged, cell segmentation is only available in one z-plane. The cell polygons are in HDF5 files, with one HDF5 file per field of view (FOV), and there are over 1000 FOVs in this dataset. Converting these HDF5 files into an `sf` data frame is not trivial. See the [vignette on creating a `SpatialFeatureExperiment` (SFE) object](https://pachterlab.github.io/voyager/articles/create_sfe.html#technology-specific-notes) for code used to do the conversion, and the polygons are included in the SFE object. The cell metadata already has cell volume. If the polygons are not used in the analyses, and the polygons can't be seen on a static plot with hundreds of thousands of cells anyway, then doing the conversion is optional. While the transcript spot locations are available, we cannot yet work with such a large point dataset.\n",
    "\n",
    "Here we load the packages used. "
   ]
  },
  {
   "cell_type": "code",
   "execution_count": null,
<<<<<<< HEAD
<<<<<<< HEAD
   "id": "10719a44",
||||||| fa5abb84
   "id": "5ae7e2e2",
=======
   "id": "6c3eeb77",
>>>>>>> documentation-devel
||||||| 7e3277eb
   "id": "6c3eeb77",
=======
   "id": "56ad0c79",
>>>>>>> documentation-devel
   "metadata": {
    "message": false,
    "name": "setup"
   },
   "outputs": [],
   "source": [
    "library(Voyager)\n",
    "library(SFEData)\n",
    "library(SingleCellExperiment)\n",
    "library(SpatialExperiment)\n",
    "library(scater) \n",
    "library(ggplot2)\n",
    "library(patchwork)\n",
    "library(stringr)\n",
    "library(spdep)\n",
    "library(BiocParallel)\n",
    "library(BiocSingular)\n",
    "library(gstat)\n",
    "library(BiocNeighbors)\n",
    "library(sf)\n",
    "library(automap)\n",
    "theme_set(theme_bw())"
   ]
  },
  {
   "cell_type": "code",
   "execution_count": null,
<<<<<<< HEAD
<<<<<<< HEAD
   "id": "a0684143",
||||||| fa5abb84
   "id": "269307f6",
=======
   "id": "4cb3ab6d",
>>>>>>> documentation-devel
||||||| 7e3277eb
   "id": "4cb3ab6d",
=======
   "id": "218c332a",
>>>>>>> documentation-devel
   "metadata": {},
   "outputs": [],
   "source": [
    "(sfe <- VizgenLiverData())"
   ]
  },
  {
   "cell_type": "markdown",
<<<<<<< HEAD
<<<<<<< HEAD
   "id": "7540d723",
||||||| fa5abb84
   "id": "24c01d3a",
=======
   "id": "60abc466",
>>>>>>> documentation-devel
||||||| 7e3277eb
   "id": "60abc466",
=======
   "id": "c4220b0d",
>>>>>>> documentation-devel
   "metadata": {
    "lines_to_next_cell": 0
   },
   "source": [
    "There are 395,215 cells in this dataset. Plotting them all as polygons takes a while, but it isn't too bad."
   ]
  },
  {
   "cell_type": "code",
   "execution_count": null,
<<<<<<< HEAD
<<<<<<< HEAD
   "id": "266aaa34",
||||||| fa5abb84
   "id": "7f1bb894",
=======
   "id": "551980e7",
>>>>>>> documentation-devel
||||||| 7e3277eb
   "id": "551980e7",
=======
   "id": "b7b11ab6",
>>>>>>> documentation-devel
   "metadata": {
    "fig.height": 6,
    "fig.width": 9
   },
   "outputs": [],
   "source": [
    "plotGeometry(sfe, \"cellSeg\")"
   ]
  },
  {
   "cell_type": "markdown",
<<<<<<< HEAD
<<<<<<< HEAD
   "id": "023424ed",
||||||| fa5abb84
   "id": "1e38859d",
=======
   "id": "b5e003af",
>>>>>>> documentation-devel
||||||| 7e3277eb
   "id": "b5e003af",
=======
   "id": "7ab9c3f5",
>>>>>>> documentation-devel
   "metadata": {
    "lines_to_next_cell": 0
   },
   "source": [
    "However, we do not wish to save this plot as PDF. To avoid this problem, we can either use the `scattermore = TRUE` argument in `plotSpatialFeature()` and plot the centroids since the polygons are hard to see anyway. \n",
    "\n",
    "Cell density can be vaguely seen in the plot above. Here we count the number of cells in bins to better visualize cell density."
   ]
  },
  {
   "cell_type": "code",
   "execution_count": null,
<<<<<<< HEAD
<<<<<<< HEAD
   "id": "da95fa9b",
||||||| fa5abb84
   "id": "d3d84c2a",
=======
   "id": "3a451e79",
>>>>>>> documentation-devel
||||||| 7e3277eb
   "id": "3a451e79",
=======
   "id": "80167cc8",
>>>>>>> documentation-devel
   "metadata": {
    "fig.height": 6,
    "fig.width": 9
   },
   "outputs": [],
   "source": [
    "plotCellBin2D(sfe, bins = 300, hex = TRUE)"
   ]
  },
  {
   "cell_type": "markdown",
<<<<<<< HEAD
<<<<<<< HEAD
   "id": "e29944f7",
||||||| fa5abb84
   "id": "7531440e",
=======
   "id": "322ad4b1",
>>>>>>> documentation-devel
||||||| 7e3277eb
   "id": "322ad4b1",
=======
   "id": "8fcb6111",
>>>>>>> documentation-devel
   "metadata": {
    "lines_to_next_cell": 0
   },
   "source": [
    "Cell density is for the most part homogeneous but shows some structure with denser regions that seem to relate to the blood vessels.\n",
    "\n",
    "# Quality control"
   ]
  },
  {
   "cell_type": "code",
   "execution_count": null,
<<<<<<< HEAD
<<<<<<< HEAD
   "id": "ac56e40a",
||||||| fa5abb84
   "id": "9df7ddfb",
=======
   "id": "7eb31e8e",
>>>>>>> documentation-devel
||||||| 7e3277eb
   "id": "7eb31e8e",
=======
   "id": "87dc5f44",
>>>>>>> documentation-devel
   "metadata": {},
   "outputs": [],
   "source": [
    "names(colData(sfe))"
   ]
  },
  {
   "cell_type": "markdown",
<<<<<<< HEAD
<<<<<<< HEAD
   "id": "c9c17bc5",
||||||| fa5abb84
   "id": "377a48a1",
=======
   "id": "cf624d10",
>>>>>>> documentation-devel
||||||| 7e3277eb
   "id": "cf624d10",
=======
   "id": "e3778b4f",
>>>>>>> documentation-devel
   "metadata": {
    "lines_to_next_cell": 0
   },
   "source": [
    "Plotting almost 400,000 polygons is kind of slow but doable."
   ]
  },
  {
   "cell_type": "code",
   "execution_count": null,
<<<<<<< HEAD
<<<<<<< HEAD
   "id": "29e28bb8",
||||||| fa5abb84
   "id": "bc7b4c7b",
=======
   "id": "36880732",
>>>>>>> documentation-devel
||||||| 7e3277eb
   "id": "36880732",
=======
   "id": "e9d3164e",
>>>>>>> documentation-devel
   "metadata": {},
   "outputs": [],
   "source": [
    "system.time(\n",
    "    print(plotSpatialFeature(sfe, \"nCounts\", colGeometryName = \"cellSeg\"))\n",
    ")"
   ]
  },
  {
   "cell_type": "markdown",
<<<<<<< HEAD
<<<<<<< HEAD
   "id": "d6ba34ea",
||||||| fa5abb84
   "id": "9eb12922",
=======
   "id": "238fbd0e",
>>>>>>> documentation-devel
||||||| 7e3277eb
   "id": "238fbd0e",
=======
   "id": "2ab5d755",
>>>>>>> documentation-devel
   "metadata": {},
   "source": [
    "Here nCounts kind of looks like salt and pepper. Using the [`scattermore`](https://github.com/exaexa/scattermore) package can speed up plotting a large number of points. In this non-interactive plot, the cell polygons are too small to see anyway, so plotting cell centroid points should be fine. "
   ]
  },
  {
   "cell_type": "code",
   "execution_count": null,
<<<<<<< HEAD
<<<<<<< HEAD
   "id": "db8ca517",
||||||| fa5abb84
   "id": "cc26536d",
=======
   "id": "31690089",
>>>>>>> documentation-devel
||||||| 7e3277eb
   "id": "31690089",
=======
   "id": "b2509a1a",
>>>>>>> documentation-devel
   "metadata": {},
   "outputs": [],
   "source": [
    "system.time({\n",
    "    print(plotSpatialFeature(sfe, \"nCounts\", colGeometryName = \"centroids\",\n",
    "                             scattermore = TRUE))\n",
    "})"
   ]
  },
  {
   "cell_type": "markdown",
<<<<<<< HEAD
<<<<<<< HEAD
   "id": "abb98fa7",
||||||| fa5abb84
   "id": "4a373f52",
=======
   "id": "19a09f67",
>>>>>>> documentation-devel
||||||| 7e3277eb
   "id": "19a09f67",
=======
   "id": "15f96377",
>>>>>>> documentation-devel
   "metadata": {},
   "source": [
    "When run on our server, plotting almost 400,000 polygons took around 23 seconds, while using `geom_scattermore()` (`scattermore = TRUE`) took about 2 seconds. Since `geom_scattermore()` rasterizes the plot, the plot will be pixelated when zoomed in. \n",
    "\n",
    "While interactive data visualization is useful for ESDA, there is a need for static figures in publications. As of Voyager 1.2.0 (Bioconductor 3.17), a bounding box can be specified to zoom into the data."
   ]
  },
  {
   "cell_type": "code",
   "execution_count": null,
<<<<<<< HEAD
<<<<<<< HEAD
   "id": "0ff8ab98",
||||||| fa5abb84
   "id": "ae276cc7",
=======
   "id": "58ebd301",
>>>>>>> documentation-devel
||||||| 7e3277eb
   "id": "58ebd301",
=======
   "id": "21037d4f",
>>>>>>> documentation-devel
   "metadata": {},
   "outputs": [],
   "source": [
    "bbox_use <- c(xmin = 3000, xmax = 3500, ymin = 2500, ymax = 3000)"
   ]
  },
  {
   "cell_type": "code",
   "execution_count": null,
<<<<<<< HEAD
<<<<<<< HEAD
   "id": "2013c61a",
||||||| fa5abb84
   "id": "55c69cc6",
=======
   "id": "4905e9bd",
>>>>>>> documentation-devel
||||||| 7e3277eb
   "id": "4905e9bd",
=======
   "id": "6e64e491",
>>>>>>> documentation-devel
   "metadata": {},
   "outputs": [],
   "source": [
    "plotSpatialFeature(sfe, \"nCounts\", colGeometryName = \"cellSeg\", bbox = bbox_use)"
   ]
  },
  {
   "cell_type": "markdown",
<<<<<<< HEAD
<<<<<<< HEAD
   "id": "4ea60d54",
||||||| fa5abb84
   "id": "9e9f03a5",
=======
   "id": "f0803ecb",
>>>>>>> documentation-devel
||||||| 7e3277eb
   "id": "f0803ecb",
=======
   "id": "fb42cfd3",
>>>>>>> documentation-devel
   "metadata": {
    "lines_to_next_cell": 0
   },
   "source": [
    "Much of the time making this plot is spent subsetting the `sf` data frame with the bounding box. Here, spatial autocorrelation is evident in the upper right region with smaller cells, but less so in the rest of this patch. nCounts seems to be related to cell size; larger cells seem to have more total counts.\n",
    "\n",
    "Interactive data visualization is currently beyond the scope of `Voyager` or this vignette. There are existing tools for interactive visualization of highly multiplexed imaging data, such as [`MERmaid`](https://github.com/JEFworks-Lab/MERmaid) [@Wang2020-sv] for MERFISH data, [`TissUUmaps`](https://github.com/TissUUmaps/TissUUmapsCore) [@Behanova2023-gl], [`Visinity`](https://github.com/labsyspharm/visinity) [@Warchol2023-zw], and the [samui broswer](https://github.com/chaichontat/samui) [@Sriworarat2023-jl].\n",
    "\n",
    "Since there aren't too many genes, all genes and negative control probes can be displayed:"
   ]
  },
  {
   "cell_type": "code",
   "execution_count": null,
<<<<<<< HEAD
<<<<<<< HEAD
   "id": "13209142",
||||||| fa5abb84
   "id": "0f8d8f70",
=======
   "id": "fa671743",
>>>>>>> documentation-devel
||||||| 7e3277eb
   "id": "fa671743",
=======
   "id": "10df1a7b",
>>>>>>> documentation-devel
   "metadata": {},
   "outputs": [],
   "source": [
    "rownames(sfe)"
   ]
  },
  {
   "cell_type": "markdown",
<<<<<<< HEAD
<<<<<<< HEAD
   "id": "7cbda15e",
||||||| fa5abb84
   "id": "d84990e1",
=======
   "id": "140faeed",
>>>>>>> documentation-devel
||||||| 7e3277eb
   "id": "140faeed",
=======
   "id": "ef8545c0",
>>>>>>> documentation-devel
   "metadata": {},
   "source": [
    "The number of real genes is 347."
   ]
  },
  {
   "cell_type": "code",
   "execution_count": null,
<<<<<<< HEAD
<<<<<<< HEAD
   "id": "63a081d8",
||||||| fa5abb84
   "id": "f22ebf0f",
=======
   "id": "bfe2880d",
>>>>>>> documentation-devel
||||||| 7e3277eb
   "id": "bfe2880d",
=======
   "id": "af45e28e",
>>>>>>> documentation-devel
   "metadata": {},
   "outputs": [],
   "source": [
    "n_panel <- 347"
   ]
  },
  {
   "cell_type": "markdown",
<<<<<<< HEAD
<<<<<<< HEAD
   "id": "bdb94814",
||||||| fa5abb84
   "id": "71d98882",
=======
   "id": "5f342cb2",
>>>>>>> documentation-devel
||||||| 7e3277eb
   "id": "5f342cb2",
=======
   "id": "14f3fa38",
>>>>>>> documentation-devel
   "metadata": {
    "lines_to_next_cell": 0
   },
   "source": [
    "Next, we plot the distribution of nCounts divided by the number of genes in the panel, so this distribution is more comparable across datasets with different numbers of genes."
   ]
  },
  {
   "cell_type": "code",
   "execution_count": null,
<<<<<<< HEAD
<<<<<<< HEAD
   "id": "fb2a522b",
||||||| fa5abb84
   "id": "d11800af",
=======
   "id": "67105e2e",
>>>>>>> documentation-devel
||||||| 7e3277eb
   "id": "67105e2e",
=======
   "id": "264cffeb",
>>>>>>> documentation-devel
   "metadata": {},
   "outputs": [],
   "source": [
    "colData(sfe)$nCounts_normed <- sfe$nCounts / n_panel\n",
    "colData(sfe)$nGenes_normed <- sfe$nGenes / n_panel"
   ]
  },
  {
   "cell_type": "code",
   "execution_count": null,
<<<<<<< HEAD
<<<<<<< HEAD
   "id": "2c12a39a",
||||||| fa5abb84
   "id": "8ee1d505",
=======
   "id": "c28e91d7",
>>>>>>> documentation-devel
||||||| 7e3277eb
   "id": "c28e91d7",
=======
   "id": "f85cde3d",
>>>>>>> documentation-devel
   "metadata": {},
   "outputs": [],
   "source": [
    "plotColDataHistogram(sfe, c(\"nCounts_normed\", \"nGenes_normed\"))"
   ]
  },
  {
   "cell_type": "markdown",
<<<<<<< HEAD
<<<<<<< HEAD
   "id": "8c81e053",
||||||| fa5abb84
   "id": "1bb76aa5",
=======
   "id": "22b6731e",
>>>>>>> documentation-devel
||||||| 7e3277eb
   "id": "22b6731e",
=======
   "id": "341f433b",
>>>>>>> documentation-devel
   "metadata": {
    "lines_to_next_cell": 0
   },
   "source": [
    "As with the [Xenium dataset](https://pachterlab.github.io/voyager/articles/vig5_xenium.html#cells), there are mysterious regular notches in the histogram of the number of genes detected.\n",
    "\n",
    "We also plot the number of genes detected per cell, with `geom_scattermore()`."
   ]
  },
  {
   "cell_type": "code",
   "execution_count": null,
<<<<<<< HEAD
<<<<<<< HEAD
   "id": "9db569d3",
||||||| fa5abb84
   "id": "181d47f7",
=======
   "id": "f3cf8f19",
>>>>>>> documentation-devel
||||||| 7e3277eb
   "id": "f3cf8f19",
=======
   "id": "75285ebb",
>>>>>>> documentation-devel
   "metadata": {},
   "outputs": [],
   "source": [
    "plotSpatialFeature(sfe, \"nGenes\", colGeometryName = \"centroids\", scattermore = TRUE)"
   ]
  },
  {
   "cell_type": "markdown",
<<<<<<< HEAD
<<<<<<< HEAD
   "id": "a6cc824e",
||||||| fa5abb84
   "id": "250cd03f",
=======
   "id": "2a26b0dc",
>>>>>>> documentation-devel
||||||| 7e3277eb
   "id": "2a26b0dc",
=======
   "id": "4b4d9d63",
>>>>>>> documentation-devel
   "metadata": {
    "lines_to_next_cell": 0
   },
   "source": [
    "Similarly to nCounts, the points look intermingled. \n",
    "\n",
    "Distribution of cell volume in space:"
   ]
  },
  {
   "cell_type": "code",
   "execution_count": null,
<<<<<<< HEAD
<<<<<<< HEAD
   "id": "e9529b44",
||||||| fa5abb84
   "id": "38b3a302",
=======
   "id": "a64a5fc5",
>>>>>>> documentation-devel
||||||| 7e3277eb
   "id": "a64a5fc5",
=======
   "id": "99f96199",
>>>>>>> documentation-devel
   "metadata": {},
   "outputs": [],
   "source": [
    "plotSpatialFeature(sfe, \"volume\", colGeometryName = \"centroids\", scattermore = TRUE)"
   ]
  },
  {
   "cell_type": "markdown",
<<<<<<< HEAD
<<<<<<< HEAD
   "id": "9c98f6a1",
||||||| fa5abb84
   "id": "0055efda",
=======
   "id": "77932aa5",
>>>>>>> documentation-devel
||||||| 7e3277eb
   "id": "77932aa5",
=======
   "id": "458c6c1d",
>>>>>>> documentation-devel
   "metadata": {
    "lines_to_next_cell": 0
   },
   "source": [
    "Next, we explore how nCounts relates to nGenes:"
   ]
  },
  {
   "cell_type": "code",
   "execution_count": null,
<<<<<<< HEAD
<<<<<<< HEAD
   "id": "33f1c453",
||||||| fa5abb84
   "id": "10621aee",
=======
   "id": "c40220ef",
>>>>>>> documentation-devel
||||||| 7e3277eb
   "id": "c40220ef",
=======
   "id": "64796160",
>>>>>>> documentation-devel
   "metadata": {},
   "outputs": [],
   "source": [
    "plotColData(sfe, x=\"nCounts\", y=\"nGenes\", bins = 100)"
   ]
  },
  {
   "cell_type": "markdown",
<<<<<<< HEAD
<<<<<<< HEAD
   "id": "1b50bb35",
||||||| fa5abb84
   "id": "e41b4d09",
=======
   "id": "9484dc32",
>>>>>>> documentation-devel
||||||| 7e3277eb
   "id": "9484dc32",
=======
   "id": "51fb6207",
>>>>>>> documentation-devel
   "metadata": {
    "lines_to_next_cell": 0
   },
   "source": [
    "There are two branches in this plot. \n",
    "\n",
    "How does cell size relate to nCounts?"
   ]
  },
  {
   "cell_type": "code",
   "execution_count": null,
<<<<<<< HEAD
<<<<<<< HEAD
   "id": "729f14c7",
||||||| fa5abb84
   "id": "864faa16",
=======
   "id": "b6d2d9d7",
>>>>>>> documentation-devel
||||||| 7e3277eb
   "id": "b6d2d9d7",
=======
   "id": "940253e2",
>>>>>>> documentation-devel
   "metadata": {},
   "outputs": [],
   "source": [
    "plotColData(sfe, x=\"volume\", y=\"nCounts\", bins = 100)"
   ]
  },
  {
   "cell_type": "markdown",
<<<<<<< HEAD
<<<<<<< HEAD
   "id": "45798170",
||||||| fa5abb84
   "id": "65b609f1",
=======
   "id": "1441e89e",
>>>>>>> documentation-devel
||||||| 7e3277eb
   "id": "1441e89e",
=======
   "id": "f2a177a5",
>>>>>>> documentation-devel
   "metadata": {
    "lines_to_next_cell": 0
   },
   "source": [
    "The lower branch has the larger cells that don't tend to have more total counts, and the upper branch has larger cells that tend to have more total counts.\n",
    "\n",
    "We also examine how cell size relates to number of genes detected:"
   ]
  },
  {
   "cell_type": "code",
   "execution_count": null,
<<<<<<< HEAD
<<<<<<< HEAD
   "id": "380b49dc",
||||||| fa5abb84
   "id": "5ab9ffdd",
=======
   "id": "db987011",
>>>>>>> documentation-devel
||||||| 7e3277eb
   "id": "db987011",
=======
   "id": "366ea898",
>>>>>>> documentation-devel
   "metadata": {},
   "outputs": [],
   "source": [
    "plotColData(sfe, x=\"volume\", y=\"nGenes\", bins = 100)"
   ]
  },
  {
   "cell_type": "markdown",
<<<<<<< HEAD
<<<<<<< HEAD
   "id": "5634a1f5",
||||||| fa5abb84
   "id": "ce6cd3c1",
=======
   "id": "78b39b4b",
>>>>>>> documentation-devel
||||||| 7e3277eb
   "id": "78b39b4b",
=======
   "id": "22346f82",
>>>>>>> documentation-devel
   "metadata": {
    "lines_to_next_cell": 0
   },
   "source": [
    "There seem to be clusters that are possibly related to cell type. \n",
    "\n",
    "### Negative controls\n",
    "Blank probes are used as negative controls."
   ]
  },
  {
   "cell_type": "code",
   "execution_count": null,
<<<<<<< HEAD
<<<<<<< HEAD
   "id": "3d2b2e01",
||||||| fa5abb84
   "id": "7690eb79",
=======
   "id": "416d2aa9",
>>>>>>> documentation-devel
||||||| 7e3277eb
   "id": "416d2aa9",
=======
   "id": "6ea75e8e",
>>>>>>> documentation-devel
   "metadata": {},
   "outputs": [],
   "source": [
    "is_blank <- str_detect(rownames(sfe), \"^Blank-\")"
   ]
  },
  {
   "cell_type": "code",
   "execution_count": null,
<<<<<<< HEAD
<<<<<<< HEAD
   "id": "a2fe7ea8",
||||||| fa5abb84
   "id": "9a75be59",
=======
   "id": "1a6aa551",
>>>>>>> documentation-devel
||||||| 7e3277eb
   "id": "1a6aa551",
=======
   "id": "792789c8",
>>>>>>> documentation-devel
   "metadata": {},
   "outputs": [],
   "source": [
    "sfe <- addPerCellQCMetrics(sfe, subset = list(blank = is_blank))"
   ]
  },
  {
   "cell_type": "code",
   "execution_count": null,
<<<<<<< HEAD
<<<<<<< HEAD
   "id": "d9621e5b",
||||||| fa5abb84
   "id": "c2d4aacd",
=======
   "id": "5231ee87",
>>>>>>> documentation-devel
||||||| 7e3277eb
   "id": "5231ee87",
=======
   "id": "0604b97b",
>>>>>>> documentation-devel
   "metadata": {},
   "outputs": [],
   "source": [
    "names(colData(sfe))"
   ]
  },
  {
   "cell_type": "markdown",
<<<<<<< HEAD
<<<<<<< HEAD
   "id": "53495f30",
||||||| fa5abb84
   "id": "0ba59c7a",
=======
   "id": "09dd349d",
>>>>>>> documentation-devel
||||||| 7e3277eb
   "id": "09dd349d",
=======
   "id": "64c9d774",
>>>>>>> documentation-devel
   "metadata": {
    "lines_to_next_cell": 0
   },
   "source": [
    "Total transcript counts from the blank probes:"
   ]
  },
  {
   "cell_type": "code",
   "execution_count": null,
<<<<<<< HEAD
<<<<<<< HEAD
   "id": "692b7f3b",
||||||| fa5abb84
   "id": "cf6d739f",
=======
   "id": "8916646d",
>>>>>>> documentation-devel
||||||| 7e3277eb
   "id": "8916646d",
=======
   "id": "c5977344",
>>>>>>> documentation-devel
   "metadata": {},
   "outputs": [],
   "source": [
    "plotSpatialFeature(sfe, \"subsets_blank_sum\", colGeometryName = \"centroids\",\n",
    "                   scattermore = TRUE)"
   ]
  },
  {
   "cell_type": "markdown",
<<<<<<< HEAD
<<<<<<< HEAD
   "id": "e8461b17",
||||||| fa5abb84
   "id": "5ea0c425",
=======
   "id": "b89585af",
>>>>>>> documentation-devel
||||||| 7e3277eb
   "id": "b89585af",
=======
   "id": "0467175c",
>>>>>>> documentation-devel
   "metadata": {
    "lines_to_next_cell": 0
   },
   "source": [
    "Number of blank features detected per cell:"
   ]
  },
  {
   "cell_type": "code",
   "execution_count": null,
<<<<<<< HEAD
<<<<<<< HEAD
   "id": "1acc51aa",
||||||| fa5abb84
   "id": "1d1fe66d",
=======
   "id": "b1de47c5",
>>>>>>> documentation-devel
||||||| 7e3277eb
   "id": "b1de47c5",
=======
   "id": "34cee03e",
>>>>>>> documentation-devel
   "metadata": {},
   "outputs": [],
   "source": [
    "plotSpatialFeature(sfe, \"subsets_blank_detected\", colGeometryName = \"centroids\",\n",
    "                   scattermore = TRUE)"
   ]
  },
  {
   "cell_type": "markdown",
<<<<<<< HEAD
<<<<<<< HEAD
   "id": "a987f46e",
||||||| fa5abb84
   "id": "4e44529e",
=======
   "id": "e3db6178",
>>>>>>> documentation-devel
||||||| 7e3277eb
   "id": "e3db6178",
=======
   "id": "76784110",
>>>>>>> documentation-devel
   "metadata": {
    "lines_to_next_cell": 0
   },
   "source": [
    "Percentage of blank features per cell:"
   ]
  },
  {
   "cell_type": "code",
   "execution_count": null,
<<<<<<< HEAD
<<<<<<< HEAD
   "id": "a177e5b9",
||||||| fa5abb84
   "id": "4ad091e0",
=======
   "id": "649f6054",
>>>>>>> documentation-devel
||||||| 7e3277eb
   "id": "649f6054",
=======
   "id": "4d0d1048",
>>>>>>> documentation-devel
   "metadata": {},
   "outputs": [],
   "source": [
    "plotSpatialFeature(sfe, \"subsets_blank_percent\", colGeometryName = \"centroids\",\n",
    "                   scattermore = TRUE)"
   ]
  },
  {
   "cell_type": "markdown",
<<<<<<< HEAD
<<<<<<< HEAD
   "id": "52a742ae",
||||||| fa5abb84
   "id": "0d9ae010",
=======
   "id": "c339ceeb",
>>>>>>> documentation-devel
||||||| 7e3277eb
   "id": "c339ceeb",
=======
   "id": "cdf86080",
>>>>>>> documentation-devel
   "metadata": {
    "lines_to_next_cell": 0
   },
   "source": [
    "The percentage is more interesting: within the tissue, cells with high percentage of blank counts are scattered like salt and pepper, but more of these cells are on the left edge of the tissue, the edges of FOVs, where the tissue itself doesn't end. \n",
    "\n",
    "Also plot histograms: "
   ]
  },
  {
   "cell_type": "code",
   "execution_count": null,
<<<<<<< HEAD
<<<<<<< HEAD
   "id": "4f74077a",
||||||| fa5abb84
   "id": "1c97eb1e",
=======
   "id": "6eb512e1",
>>>>>>> documentation-devel
||||||| 7e3277eb
   "id": "6eb512e1",
=======
   "id": "0fd3bbd3",
>>>>>>> documentation-devel
   "metadata": {},
   "outputs": [],
   "source": [
    "plotColDataHistogram(sfe, paste0(\"subsets_blank_\", c(\"sum\", \"detected\", \"percent\")))"
   ]
  },
  {
   "cell_type": "markdown",
<<<<<<< HEAD
<<<<<<< HEAD
   "id": "ea95e612",
||||||| fa5abb84
   "id": "e46ad615",
=======
   "id": "8759568c",
>>>>>>> documentation-devel
||||||| 7e3277eb
   "id": "8759568c",
=======
   "id": "5d02eb34",
>>>>>>> documentation-devel
   "metadata": {
    "lines_to_next_cell": 0
   },
   "source": [
    "The NA's are cells without any transcript detected. "
   ]
  },
  {
   "cell_type": "code",
   "execution_count": null,
<<<<<<< HEAD
<<<<<<< HEAD
   "id": "2d5fc4c4",
||||||| fa5abb84
   "id": "0e23d9b9",
=======
   "id": "1fb31e0a",
>>>>>>> documentation-devel
||||||| 7e3277eb
   "id": "1fb31e0a",
=======
   "id": "7ccd6f83",
>>>>>>> documentation-devel
   "metadata": {},
   "outputs": [],
   "source": [
    "mean(sfe$subsets_blank_sum > 0)"
   ]
  },
  {
   "cell_type": "markdown",
<<<<<<< HEAD
<<<<<<< HEAD
   "id": "1b3f6e4a",
||||||| fa5abb84
   "id": "3061845e",
=======
   "id": "e1ddf845",
>>>>>>> documentation-devel
||||||| 7e3277eb
   "id": "e1ddf845",
=======
   "id": "b7ad6c95",
>>>>>>> documentation-devel
   "metadata": {
    "lines_to_next_cell": 0
   },
   "source": [
    "Unlike in the Xenium dataset, here most cells have at least one blank count. By log transforming, the zeroes are removed from the plot. "
   ]
  },
  {
   "cell_type": "code",
   "execution_count": null,
<<<<<<< HEAD
<<<<<<< HEAD
   "id": "a4d13603",
||||||| fa5abb84
   "id": "e5d1e6a9",
=======
   "id": "4d460901",
>>>>>>> documentation-devel
||||||| 7e3277eb
   "id": "4d460901",
=======
   "id": "aa853f1c",
>>>>>>> documentation-devel
   "metadata": {},
   "outputs": [],
   "source": [
    "plotColDataHistogram(sfe, \"subsets_blank_percent\") +\n",
    "    scale_x_log10() +\n",
    "    annotation_logticks()"
   ]
  },
  {
   "cell_type": "markdown",
<<<<<<< HEAD
<<<<<<< HEAD
   "id": "eb8355c6",
||||||| fa5abb84
   "id": "e61839c8",
=======
   "id": "63874218",
>>>>>>> documentation-devel
||||||| 7e3277eb
   "id": "63874218",
=======
   "id": "a136d9b5",
>>>>>>> documentation-devel
   "metadata": {},
   "source": [
    "A small percentage of blank counts is acceptable. So we will remove the outlier based on the distribution of the percentage when it's greater than zero. How does the blank percentage relate to total counts?"
   ]
  },
  {
   "cell_type": "code",
   "execution_count": null,
<<<<<<< HEAD
<<<<<<< HEAD
   "id": "f5b0cc35",
||||||| fa5abb84
   "id": "f808acbf",
=======
   "id": "4739bceb",
>>>>>>> documentation-devel
||||||| 7e3277eb
   "id": "4739bceb",
=======
   "id": "e4a71fcf",
>>>>>>> documentation-devel
   "metadata": {},
   "outputs": [],
   "source": [
    "plotColData(sfe, x=\"nCounts\", y=\"subsets_blank_percent\", bins = 100)"
   ]
  },
  {
   "cell_type": "markdown",
<<<<<<< HEAD
<<<<<<< HEAD
   "id": "37ba876e",
||||||| fa5abb84
   "id": "a8a4f308",
=======
   "id": "f3a0219f",
>>>>>>> documentation-devel
||||||| 7e3277eb
   "id": "f3a0219f",
=======
   "id": "a84d1640",
>>>>>>> documentation-devel
   "metadata": {
    "lines_to_next_cell": 0
   },
   "source": [
    "The outliers in percentage of blank counts have low total counts. But there are some seemingly real cells with sizable nCounts which have a relatively high percentage of blank counts. Since the distribution of this percentage has a very long tail, we log transform it when finding outliers."
   ]
  },
  {
   "cell_type": "code",
   "execution_count": null,
<<<<<<< HEAD
<<<<<<< HEAD
   "id": "12cfcaef",
||||||| fa5abb84
   "id": "c52d7721",
=======
   "id": "c3026935",
>>>>>>> documentation-devel
||||||| 7e3277eb
   "id": "c3026935",
=======
   "id": "9a5bff85",
>>>>>>> documentation-devel
   "metadata": {},
   "outputs": [],
   "source": [
    "get_neg_ctrl_outliers <- function(col, sfe, nmads = 3, log = FALSE) {\n",
    "    inds <- colData(sfe)$nCounts > 0 & colData(sfe)[[col]] > 0\n",
    "    df <- colData(sfe)[inds,]\n",
    "    outlier_inds <- isOutlier(df[[col]], type = \"higher\", nmads = nmads, log = log)\n",
    "    outliers <- rownames(df)[outlier_inds]\n",
    "    col2 <- str_remove(col, \"^subsets_\")\n",
    "    col2 <- str_remove(col2, \"_percent$\")\n",
    "    new_colname <- paste(\"is\", col2, \"outlier\", sep = \"_\")\n",
    "    colData(sfe)[[new_colname]] <- colnames(sfe) %in% outliers\n",
    "    sfe\n",
    "}"
   ]
  },
  {
   "cell_type": "code",
   "execution_count": null,
<<<<<<< HEAD
<<<<<<< HEAD
   "id": "dfdf766d",
||||||| fa5abb84
   "id": "e91e0a55",
=======
   "id": "ad8d0ba9",
>>>>>>> documentation-devel
||||||| 7e3277eb
   "id": "ad8d0ba9",
=======
   "id": "9745ced6",
>>>>>>> documentation-devel
   "metadata": {},
   "outputs": [],
   "source": [
    "sfe <- get_neg_ctrl_outliers(\"subsets_blank_percent\", sfe, log = TRUE)"
   ]
  },
  {
   "cell_type": "markdown",
<<<<<<< HEAD
<<<<<<< HEAD
   "id": "45164463",
||||||| fa5abb84
   "id": "a1501193",
=======
   "id": "fb1c5d61",
>>>>>>> documentation-devel
||||||| 7e3277eb
   "id": "fb1c5d61",
=======
   "id": "acb71bf3",
>>>>>>> documentation-devel
   "metadata": {
    "lines_to_next_cell": 0
   },
   "source": [
    "What proportion of all cells are outliers?"
   ]
  },
  {
   "cell_type": "code",
   "execution_count": null,
<<<<<<< HEAD
<<<<<<< HEAD
   "id": "91984323",
||||||| fa5abb84
   "id": "ee635d98",
=======
   "id": "0fc75e01",
>>>>>>> documentation-devel
||||||| 7e3277eb
   "id": "0fc75e01",
=======
   "id": "9a86ea84",
>>>>>>> documentation-devel
   "metadata": {},
   "outputs": [],
   "source": [
    "mean(sfe$is_blank_outlier)"
   ]
  },
  {
   "cell_type": "markdown",
<<<<<<< HEAD
<<<<<<< HEAD
   "id": "9912fefb",
||||||| fa5abb84
   "id": "b3e48145",
=======
   "id": "4e2f8384",
>>>>>>> documentation-devel
||||||| 7e3277eb
   "id": "4e2f8384",
=======
   "id": "84f049b0",
>>>>>>> documentation-devel
   "metadata": {
    "lines_to_next_cell": 0
   },
   "source": [
    "What's the cutoff for outlier?"
   ]
  },
  {
   "cell_type": "code",
   "execution_count": null,
<<<<<<< HEAD
<<<<<<< HEAD
   "id": "69d309a7",
||||||| fa5abb84
   "id": "63f50a8d",
=======
   "id": "09351a46",
>>>>>>> documentation-devel
||||||| 7e3277eb
   "id": "09351a46",
=======
   "id": "2e149d55",
>>>>>>> documentation-devel
   "metadata": {},
   "outputs": [],
   "source": [
    "min(sfe$subsets_blank_percent[sfe$is_blank_outlier])"
   ]
  },
  {
   "cell_type": "markdown",
<<<<<<< HEAD
<<<<<<< HEAD
   "id": "20d9187a",
||||||| fa5abb84
   "id": "e3520b9d",
=======
   "id": "67d4704f",
>>>>>>> documentation-devel
||||||| 7e3277eb
   "id": "67d4704f",
=======
   "id": "ca8324d8",
>>>>>>> documentation-devel
   "metadata": {
    "lines_to_next_cell": 0
   },
   "source": [
    "Remove the outliers and empty cells:"
   ]
  },
  {
   "cell_type": "code",
   "execution_count": null,
<<<<<<< HEAD
<<<<<<< HEAD
   "id": "b4b98c8c",
||||||| fa5abb84
   "id": "83088ef9",
=======
   "id": "acb7b8fd",
>>>>>>> documentation-devel
||||||| 7e3277eb
   "id": "acb7b8fd",
=======
   "id": "a2619914",
>>>>>>> documentation-devel
   "metadata": {},
   "outputs": [],
   "source": [
    "(sfe <- sfe[, !sfe$is_blank_outlier & sfe$nCounts > 0])"
   ]
  },
  {
   "cell_type": "markdown",
<<<<<<< HEAD
<<<<<<< HEAD
   "id": "957394c7",
||||||| fa5abb84
   "id": "bdeda6d3",
=======
   "id": "5c7806f4",
>>>>>>> documentation-devel
||||||| 7e3277eb
   "id": "5c7806f4",
=======
   "id": "420e791f",
>>>>>>> documentation-devel
   "metadata": {
    "lines_to_next_cell": 0
   },
   "source": [
    "There still are over 390,000 cells left after removing the outliers.\n",
    "\n",
    "## Genes\n",
    "Here we look at the mean and variance of each gene:"
   ]
  },
  {
   "cell_type": "code",
   "execution_count": null,
<<<<<<< HEAD
<<<<<<< HEAD
   "id": "78109ab8",
||||||| fa5abb84
   "id": "2a9a2af8",
=======
   "id": "64687273",
>>>>>>> documentation-devel
||||||| 7e3277eb
   "id": "64687273",
=======
   "id": "b235519d",
>>>>>>> documentation-devel
   "metadata": {},
   "outputs": [],
   "source": [
    "rowData(sfe)$means <- rowMeans(counts(sfe))\n",
    "rowData(sfe)$vars <- rowVars(counts(sfe))"
   ]
  },
  {
   "cell_type": "code",
   "execution_count": null,
<<<<<<< HEAD
<<<<<<< HEAD
   "id": "3452224c",
||||||| fa5abb84
   "id": "d54149fc",
=======
   "id": "deee3054",
>>>>>>> documentation-devel
||||||| 7e3277eb
   "id": "deee3054",
=======
   "id": "c895b433",
>>>>>>> documentation-devel
   "metadata": {},
   "outputs": [],
   "source": [
    "rowData(sfe)$is_blank <- is_blank\n",
    "plotRowData(sfe, x = \"means\", y = \"is_blank\") +\n",
    "    scale_y_log10() +\n",
    "    annotation_logticks(sides = \"b\")"
   ]
  },
  {
   "cell_type": "markdown",
<<<<<<< HEAD
<<<<<<< HEAD
   "id": "9fed8314",
||||||| fa5abb84
   "id": "b9dd03bc",
=======
   "id": "77034503",
>>>>>>> documentation-devel
||||||| 7e3277eb
   "id": "77034503",
=======
   "id": "56ec3eb6",
>>>>>>> documentation-devel
   "metadata": {
    "lines_to_next_cell": 0
   },
   "source": [
    "Most genes display higher mean expression than blanks, but there is considerable overlap in the distribution, probably because some genes expressed at lower levels or in fewer cells are included.\n",
    "\n",
    "Here the \"real\" genes and negative controls are plotted in different colors:"
   ]
  },
  {
   "cell_type": "code",
   "execution_count": null,
<<<<<<< HEAD
<<<<<<< HEAD
   "id": "729079db",
||||||| fa5abb84
   "id": "b62717be",
=======
   "id": "c0816c98",
>>>>>>> documentation-devel
||||||| 7e3277eb
   "id": "c0816c98",
=======
   "id": "6f2f0fe3",
>>>>>>> documentation-devel
   "metadata": {},
   "outputs": [],
   "source": [
    "plotRowData(sfe, x = \"means\", y = \"vars\", colour_by = \"is_blank\") +\n",
    "    geom_abline(slope = 1, intercept = 0, color = \"red\") +\n",
    "    scale_x_log10() + scale_y_log10() +\n",
    "    annotation_logticks() +\n",
    "    coord_equal()"
   ]
  },
  {
   "cell_type": "markdown",
<<<<<<< HEAD
<<<<<<< HEAD
   "id": "eb927ab2",
||||||| fa5abb84
   "id": "846d9bae",
=======
   "id": "7e321ea5",
>>>>>>> documentation-devel
||||||| 7e3277eb
   "id": "7e321ea5",
=======
   "id": "c6057e6c",
>>>>>>> documentation-devel
   "metadata": {
    "lines_to_next_cell": 0
   },
   "source": [
    "The red line $y = x$ is expected when the data follows a Poisson distribution. "
   ]
  },
  {
   "cell_type": "code",
   "execution_count": null,
<<<<<<< HEAD
<<<<<<< HEAD
   "id": "f342a070",
||||||| fa5abb84
   "id": "20aaeb59",
=======
   "id": "cccd5eb6",
>>>>>>> documentation-devel
||||||| 7e3277eb
   "id": "cccd5eb6",
=======
   "id": "c8a4ed2d",
>>>>>>> documentation-devel
   "metadata": {},
   "outputs": [],
   "source": [
    "as.data.frame(rowData(sfe)[is_blank,]) |> \n",
    "    ggplot(aes(means, vars)) +\n",
    "    geom_point() +\n",
    "    geom_abline(slope = 1, intercept = 0, color = \"red\") +\n",
    "    scale_x_log10() + scale_y_log10() +\n",
    "    annotation_logticks() +\n",
    "    coord_equal()"
   ]
  },
  {
   "cell_type": "markdown",
<<<<<<< HEAD
<<<<<<< HEAD
   "id": "13a6775c",
||||||| fa5abb84
   "id": "ac81137b",
=======
   "id": "74b8412f",
>>>>>>> documentation-devel
||||||| 7e3277eb
   "id": "74b8412f",
=======
   "id": "bd000db2",
>>>>>>> documentation-devel
   "metadata": {
    "lines_to_next_cell": 0
   },
   "source": [
    "When zoomed in, the blanks are somewhat overdispersed.\n",
    "\n",
    "# Spatial autocorrelation of QC metrics\n",
    "\n",
    "Again, we plot that zoomed in patch to visually inspect cell-cell contiguity:"
   ]
  },
  {
   "cell_type": "code",
   "execution_count": null,
<<<<<<< HEAD
<<<<<<< HEAD
   "id": "87c151c8",
||||||| fa5abb84
   "id": "0b6b952f",
=======
   "id": "55b73fb1",
>>>>>>> documentation-devel
||||||| 7e3277eb
   "id": "55b73fb1",
=======
   "id": "737309d7",
>>>>>>> documentation-devel
   "metadata": {
    "lines_to_next_cell": 2
   },
   "outputs": [],
   "source": [
    "plotGeometry(sfe, \"cellSeg\", bbox = bbox_use)"
   ]
  },
  {
   "cell_type": "markdown",
<<<<<<< HEAD
<<<<<<< HEAD
   "id": "a1866314",
||||||| fa5abb84
   "id": "ca11cefb",
=======
   "id": "3087dd27",
>>>>>>> documentation-devel
||||||| 7e3277eb
   "id": "3087dd27",
=======
   "id": "460eafb7",
>>>>>>> documentation-devel
   "metadata": {},
   "source": [
    "There are quite a few cells that are not contiguous to any other cell, and cell segmentation is imperfect, so purely using `poly2nb()` is problematic. In the next release, we might implement a way to blend a polygon contiguity graph with some other graph in case of singletons. For now, we use k nearest neighbors with $k = 5$, which seems like a reasonable approximation of contiguity based on the visual inspection. \n",
    "\n",
    "As of Voyager 1.2.0 (Bioconductor 3.17), `findSpatialNeighbors()` by default uses `BiocNeighbors` for k nearest neighbors and distance neighbors and saving the distances between neighbors. This bypasses the most time consuming step in `spdep` when calculating distance based edge weights, which is to compute distance, hence greatly speeding up computation."
   ]
  },
  {
   "cell_type": "code",
   "execution_count": null,
<<<<<<< HEAD
<<<<<<< HEAD
   "id": "b63df391",
||||||| fa5abb84
   "id": "5d65bcbe",
=======
   "id": "eb391972",
>>>>>>> documentation-devel
||||||| 7e3277eb
   "id": "eb391972",
=======
   "id": "8dff78c5",
>>>>>>> documentation-devel
   "metadata": {},
   "outputs": [],
   "source": [
    "system.time(\n",
    "    colGraph(sfe, \"knn5\") <- findSpatialNeighbors(sfe, method = \"knearneigh\", \n",
    "                                                  dist_type = \"idw\", k = 5, \n",
    "                                                  style = \"W\")\n",
    ")"
   ]
  },
  {
   "cell_type": "markdown",
<<<<<<< HEAD
<<<<<<< HEAD
   "id": "eb30d724",
||||||| fa5abb84
   "id": "24031370",
=======
   "id": "791064cf",
>>>>>>> documentation-devel
||||||| 7e3277eb
   "id": "791064cf",
=======
   "id": "725b556a",
>>>>>>> documentation-devel
   "metadata": {},
   "source": [
    "With the spatial neighborhood graph, we can compute Moran's I for QC metrics."
   ]
  },
  {
   "cell_type": "code",
   "execution_count": null,
<<<<<<< HEAD
<<<<<<< HEAD
   "id": "e939b46e",
||||||| fa5abb84
   "id": "b5e86798",
=======
   "id": "93c2d478",
>>>>>>> documentation-devel
||||||| 7e3277eb
   "id": "93c2d478",
=======
   "id": "0bab95d1",
>>>>>>> documentation-devel
   "metadata": {},
   "outputs": [],
   "source": [
    "sfe <- colDataMoransI(sfe, c(\"nCounts\", \"nGenes\", \"volume\"), \n",
    "                      colGraphName = \"knn5\")"
   ]
  },
  {
   "cell_type": "code",
   "execution_count": null,
<<<<<<< HEAD
<<<<<<< HEAD
   "id": "02a684eb",
||||||| fa5abb84
   "id": "f0635c20",
=======
   "id": "6bd3cd85",
>>>>>>> documentation-devel
||||||| 7e3277eb
   "id": "6bd3cd85",
=======
   "id": "9f3746bd",
>>>>>>> documentation-devel
   "metadata": {},
   "outputs": [],
   "source": [
    "colFeatureData(sfe)[c(\"nCounts\", \"nGenes\", \"volume\"),]"
   ]
  },
  {
   "cell_type": "markdown",
<<<<<<< HEAD
<<<<<<< HEAD
   "id": "431ad031",
||||||| fa5abb84
   "id": "5bb09d7a",
=======
   "id": "43bd3523",
>>>>>>> documentation-devel
||||||| 7e3277eb
   "id": "43bd3523",
=======
   "id": "1bd591d8",
>>>>>>> documentation-devel
   "metadata": {
    "lines_to_next_cell": 0
   },
   "source": [
    "Unlike the other smFISH-based datasets on this website, nCounts and nGenes have sizable negative Moran's I's, which is closer to 0 for volume. It would be interesting to compare these metrics across different tissues, as we add more datasets to `SFEData` in future releases.\n",
    "\n",
    "Also check local Moran's I, since in that little patch we examined above, some regions may have more positive spatial autocorrelation."
   ]
  },
  {
   "cell_type": "code",
   "execution_count": null,
<<<<<<< HEAD
<<<<<<< HEAD
   "id": "c67c228b",
||||||| fa5abb84
   "id": "144683d0",
=======
   "id": "a1070d26",
>>>>>>> documentation-devel
||||||| 7e3277eb
   "id": "a1070d26",
=======
   "id": "39acaaf0",
>>>>>>> documentation-devel
   "metadata": {},
   "outputs": [],
   "source": [
    "sfe <- colDataUnivariate(sfe, type = \"localmoran\", \n",
    "                         features = c(\"nCounts\", \"nGenes\", \"volume\"),\n",
    "                         colGraphName = \"knn5\")"
   ]
  },
  {
   "cell_type": "code",
   "execution_count": null,
<<<<<<< HEAD
<<<<<<< HEAD
   "id": "ea906877",
||||||| fa5abb84
   "id": "89b8fde9",
=======
   "id": "39f86eb5",
>>>>>>> documentation-devel
||||||| 7e3277eb
   "id": "39f86eb5",
=======
   "id": "d936b26c",
>>>>>>> documentation-devel
   "metadata": {
    "fig.height": 7,
    "fig.width": 9
   },
   "outputs": [],
   "source": [
    "plotLocalResult(sfe, \"localmoran\", c(\"nCounts\", \"nGenes\", \"volume\"),\n",
    "                colGeometryName = \"centroids\", scattermore = TRUE,\n",
    "                ncol = 2, divergent = TRUE, diverge_center = 0)"
   ]
  },
  {
   "cell_type": "markdown",
<<<<<<< HEAD
<<<<<<< HEAD
   "id": "50e89aca",
||||||| fa5abb84
   "id": "88b1b786",
=======
   "id": "10f0b76a",
>>>>>>> documentation-devel
||||||| 7e3277eb
   "id": "10f0b76a",
=======
   "id": "7d52ff40",
>>>>>>> documentation-devel
   "metadata": {
    "lines_to_next_cell": 0
   },
   "source": [
    "There are some niches around smaller blood vessels with positive local Moran's I for nCounts and nGenes. This is most likely due to the more homogeneous endothelial cells compared to hepatocytes.\n",
    "\n",
    "# Moran's I"
   ]
  },
  {
   "cell_type": "code",
   "execution_count": null,
<<<<<<< HEAD
<<<<<<< HEAD
   "id": "ed757f64",
||||||| fa5abb84
   "id": "fc699ef5",
=======
   "id": "d8cfa752",
>>>>>>> documentation-devel
||||||| 7e3277eb
   "id": "d8cfa752",
=======
   "id": "208df324",
>>>>>>> documentation-devel
   "metadata": {},
   "outputs": [],
   "source": [
    "sfe <- logNormCounts(sfe)"
   ]
  },
  {
   "cell_type": "code",
   "execution_count": null,
<<<<<<< HEAD
<<<<<<< HEAD
   "id": "cc0c0030",
||||||| fa5abb84
   "id": "14811cc4",
=======
   "id": "70a42dcb",
>>>>>>> documentation-devel
||||||| 7e3277eb
   "id": "70a42dcb",
=======
   "id": "9675e87a",
>>>>>>> documentation-devel
   "metadata": {},
   "outputs": [],
   "source": [
    "system.time(\n",
    "    sfe <- runMoransI(sfe, BPPARAM = MulticoreParam(2))\n",
    ")"
   ]
  },
  {
   "cell_type": "markdown",
<<<<<<< HEAD
<<<<<<< HEAD
   "id": "17b5c2fe",
||||||| fa5abb84
   "id": "62ed9075",
=======
   "id": "2e856a3d",
>>>>>>> documentation-devel
||||||| 7e3277eb
   "id": "2e856a3d",
=======
   "id": "1ae196a9",
>>>>>>> documentation-devel
   "metadata": {},
   "source": [
    "It's actually not as slow as I thought for almost 400,000 cells. How are Moran's I's distributed for real genes and blank probes?"
   ]
  },
  {
   "cell_type": "code",
   "execution_count": null,
<<<<<<< HEAD
<<<<<<< HEAD
   "id": "e05e3540",
||||||| fa5abb84
   "id": "bb38c898",
=======
   "id": "2e2a1665",
>>>>>>> documentation-devel
||||||| 7e3277eb
   "id": "2e2a1665",
=======
   "id": "420adb6b",
>>>>>>> documentation-devel
   "metadata": {},
   "outputs": [],
   "source": [
    "plotRowData(sfe, x = \"moran_sample01\", y = \"is_blank\") +\n",
    "    geom_hline(yintercept = 0, linetype = 2)"
   ]
  },
  {
   "cell_type": "markdown",
<<<<<<< HEAD
<<<<<<< HEAD
   "id": "c9782c3a",
||||||| fa5abb84
   "id": "d9c509ac",
=======
   "id": "b6f2ae44",
>>>>>>> documentation-devel
||||||| 7e3277eb
   "id": "b6f2ae44",
=======
   "id": "3dc8eec4",
>>>>>>> documentation-devel
   "metadata": {},
   "source": [
    "The blanks are clustered tightly around 0. The vast majority of real genes have positive spatial autocorrelation, some quite strong. But some genes have negative spatial autocorrelation, although it may or may not be statistically significant.\n",
    "\n",
    "Plot the top genes with positive spatial autocorrelation:"
   ]
  },
  {
   "cell_type": "code",
   "execution_count": null,
<<<<<<< HEAD
<<<<<<< HEAD
   "id": "3db6ae9c",
||||||| fa5abb84
   "id": "ae88c590",
=======
   "id": "7b9efd9e",
>>>>>>> documentation-devel
||||||| 7e3277eb
   "id": "7b9efd9e",
=======
   "id": "ffebf425",
>>>>>>> documentation-devel
   "metadata": {
    "fig.height": 12,
    "fig.width": 9
   },
   "outputs": [],
   "source": [
    "top_moran <- rownames(sfe)[order(rowData(sfe)$moran_sample01, decreasing = TRUE)[1:6]]\n",
    "plotSpatialFeature(sfe, top_moran, colGeometryName = \"centroids\", scattermore = TRUE,\n",
    "                   ncol = 2)"
   ]
  },
  {
   "cell_type": "markdown",
<<<<<<< HEAD
<<<<<<< HEAD
   "id": "1aede37b",
||||||| fa5abb84
   "id": "0fcf3e2c",
=======
   "id": "33f144f8",
>>>>>>> documentation-devel
||||||| 7e3277eb
   "id": "33f144f8",
=======
   "id": "9b598d47",
>>>>>>> documentation-devel
   "metadata": {},
   "source": [
    "Unlike in the other smFISH-based cancer datasets on this dataset, the genes with the highest Moran's I highlight different histological regions. Some probably for zones in the hepatic lobule, and some for blood vessels. It would be interesting to compare spatial autocorrelation of marker genes among different tissues and cell types.\n",
    "\n",
    "Negative Moran's I means that nearby cells tend to be more dissimilar to each other. That would be hard to see when plotting the whole tissue section, so we will use that bounding box again. The gene with the most negative Moran's I is compared to one with Moran's I closest to 0."
   ]
  },
  {
   "cell_type": "code",
   "execution_count": null,
<<<<<<< HEAD
<<<<<<< HEAD
   "id": "4c583636",
||||||| fa5abb84
   "id": "3abe6724",
=======
   "id": "f125420f",
>>>>>>> documentation-devel
||||||| 7e3277eb
   "id": "f125420f",
=======
   "id": "a5f7eec1",
>>>>>>> documentation-devel
   "metadata": {
    "fig.height": 5,
    "fig.width": 9
   },
   "outputs": [],
   "source": [
    "bottom_moran <- rownames(sfe)[order(rowData(sfe)$moran_sample01)[1]]\n",
    "bottom_abs_moran <- rownames(sfe)[order(abs(rowData(sfe)$moran_sample01))[1]]\n",
    "plotSpatialFeature(sfe, c(bottom_moran, bottom_abs_moran), \n",
    "                   colGeometryName = \"cellSeg\", bbox = bbox_use)"
   ]
  },
  {
   "cell_type": "markdown",
<<<<<<< HEAD
<<<<<<< HEAD
   "id": "0371bdfc",
||||||| fa5abb84
   "id": "ba79bad1",
=======
   "id": "0ab3f68c",
>>>>>>> documentation-devel
||||||| 7e3277eb
   "id": "0ab3f68c",
=======
   "id": "735eb283",
>>>>>>> documentation-devel
   "metadata": {
    "lines_to_next_cell": 0
   },
   "source": [
    "As expected, the feature with Moran's I closest to 0 is a blank.\n",
    "\n",
    "# Spatial autocorrelation at larger length scales\n",
    "The k nearest neighbor graph used above only concerns 5 cells around each cell, which is a very small neighborhood, over a very small length scale. In the current release of `Voyager`, a correlogram can be computed to get a sense of the length scale of spatial autocorrelation. However, since finding the lag values over higher and higher orders of neighborhoods is very slow for such a large number of cells for higher orders, the correlogram is not very helpful here. In this section, we use some other methods involving binning to explore spatial autocorrelation at larger length scales.\n",
    "\n",
    "## Binning\n",
    "The `sf` package can create polygons in a grid, with which we can bin the cells and their attributes and gene expressions. Here we make a 100 by 100 hexagonal grid in the bounding box of the cell centroids."
   ]
  },
  {
   "cell_type": "code",
   "execution_count": null,
<<<<<<< HEAD
<<<<<<< HEAD
   "id": "4b8cd6a8",
||||||| fa5abb84
   "id": "f2c46f04",
=======
   "id": "fb9f089b",
>>>>>>> documentation-devel
||||||| 7e3277eb
   "id": "fb9f089b",
=======
   "id": "e4c034da",
>>>>>>> documentation-devel
   "metadata": {},
   "outputs": [],
   "source": [
    "(bins <- st_make_grid(colGeometry(sfe, \"centroids\"), n = 100, square = FALSE))"
   ]
  },
  {
   "cell_type": "markdown",
<<<<<<< HEAD
<<<<<<< HEAD
   "id": "670e6757",
||||||| fa5abb84
   "id": "3769f6c0",
=======
   "id": "252fe4ec",
>>>>>>> documentation-devel
||||||| 7e3277eb
   "id": "252fe4ec",
=======
   "id": "7dba83af",
>>>>>>> documentation-devel
   "metadata": {
    "lines_to_next_cell": 0
   },
   "source": [
    "Here we use this grid to bin the QC metrics by averaging the values from the cells. Since bins not completely covered by tissue have fewer cells, the mean may be less susceptible to edge effect than the sum, as bins near the edge will have lower sums, which may spuriously increase Moran's I. "
   ]
  },
  {
   "cell_type": "code",
   "execution_count": null,
<<<<<<< HEAD
<<<<<<< HEAD
   "id": "f3a982f6",
||||||| fa5abb84
   "id": "a648874a",
=======
   "id": "6e0b55bb",
>>>>>>> documentation-devel
||||||| 7e3277eb
   "id": "6e0b55bb",
=======
   "id": "01c3e647",
>>>>>>> documentation-devel
   "metadata": {},
   "outputs": [],
   "source": [
    "df <- cbind(colGeometry(sfe, \"centroids\"), colData(sfe)[,c(\"nCounts\", \"nGenes\", \"volume\")])\n",
    "df_binned <- aggregate(df, bins, FUN = mean)\n",
    "# Remove bins not containing cells\n",
    "df_binned <- df_binned[!is.na(df_binned$nCounts),]"
   ]
  },
  {
   "cell_type": "markdown",
<<<<<<< HEAD
<<<<<<< HEAD
   "id": "81a70a50",
||||||| fa5abb84
   "id": "605d9937",
=======
   "id": "370f20e9",
>>>>>>> documentation-devel
||||||| 7e3277eb
   "id": "370f20e9",
=======
   "id": "279dd21f",
>>>>>>> documentation-devel
   "metadata": {
    "lines_to_next_cell": 0
   },
   "source": [
    "Plot the binned values:"
   ]
  },
  {
   "cell_type": "code",
   "execution_count": null,
<<<<<<< HEAD
<<<<<<< HEAD
   "id": "a7fc359e",
||||||| fa5abb84
   "id": "af49ebc4",
=======
   "id": "c709fd76",
>>>>>>> documentation-devel
||||||| 7e3277eb
   "id": "c709fd76",
=======
   "id": "91e73179",
>>>>>>> documentation-devel
   "metadata": {
    "fig.height": 7,
    "fig.width": 9
   },
   "outputs": [],
   "source": [
    "# Not using facet_wrap to give each panel its own color scale\n",
    "plts <- lapply(c(\"nCounts\", \"nGenes\", \"volume\"), function(f) {\n",
    "    ggplot(df_binned[,f]) + geom_sf(aes(fill = .data[[f]]), linewidth = 0) +\n",
    "        scale_fill_distiller(palette = \"Blues\", direction = 1) + theme_void()\n",
    "})\n",
    "wrap_plots(plts, nrow = 2)"
   ]
  },
  {
   "cell_type": "markdown",
<<<<<<< HEAD
<<<<<<< HEAD
   "id": "ee7eefd0",
||||||| fa5abb84
   "id": "cee07b64",
=======
   "id": "14aae90b",
>>>>>>> documentation-devel
||||||| 7e3277eb
   "id": "14aae90b",
=======
   "id": "26c5d721",
>>>>>>> documentation-devel
   "metadata": {
    "lines_to_next_cell": 0
   },
   "source": [
    "There's an outlier bin not as evident when plotting single cells. There's still some edge effect around blood vessels. This might be truly edge effect, or that endothelial cells tend to have lower values in all 3 variables here.\n",
    "\n",
    "Then compute Moran's I over the binned data, with contiguity neighborhoods. `zero.policy = TRUE` because there are some bins with no neighbors."
   ]
  },
  {
   "cell_type": "code",
   "execution_count": null,
<<<<<<< HEAD
<<<<<<< HEAD
   "id": "4d61631e",
||||||| fa5abb84
   "id": "1267894f",
=======
   "id": "06f2ddfd",
>>>>>>> documentation-devel
||||||| 7e3277eb
   "id": "06f2ddfd",
=======
   "id": "42926839",
>>>>>>> documentation-devel
   "metadata": {},
   "outputs": [],
   "source": [
    "nb <- poly2nb(df_binned)\n",
    "listw <- nb2listw(nb, zero.policy = TRUE)"
   ]
  },
  {
   "cell_type": "code",
   "execution_count": null,
<<<<<<< HEAD
<<<<<<< HEAD
   "id": "931f89a4",
||||||| fa5abb84
   "id": "cd0d0017",
=======
   "id": "293571d2",
>>>>>>> documentation-devel
||||||| 7e3277eb
   "id": "293571d2",
=======
   "id": "dca557bf",
>>>>>>> documentation-devel
   "metadata": {},
   "outputs": [],
   "source": [
    "calculateMoransI(t(as.matrix(st_drop_geometry(df_binned[,c(\"nCounts\", \"nGenes\", \"volume\")]))),\n",
    "                 listw = listw, zero.policy = TRUE)"
   ]
  },
  {
   "cell_type": "markdown",
<<<<<<< HEAD
<<<<<<< HEAD
   "id": "2ef8dd05",
||||||| fa5abb84
   "id": "8319081f",
=======
   "id": "a488b2e0",
>>>>>>> documentation-devel
||||||| 7e3277eb
   "id": "a488b2e0",
=======
   "id": "702d5cf4",
>>>>>>> documentation-devel
   "metadata": {},
   "source": [
    "At a larger length scale, Moran's I becomes positive. Comparing Moran's I across different sized bins can give a sense of the length scale of spatial autocorrelation. However, there are problems with binning to watch out for:\n",
    "\n",
    "1. Edge effect, especially when using the sum when binning\n",
    "2. Which function to use to aggregate the values when binning\n",
    "3. When using a rectangular grid, whether to use rook or queen neighbors. Rook means two cells are neighbors if they share an edge, while queen means they are neighbors even if they merely share a vertex. \n",
    "\n",
    "While binning can greatly speed up computation of spatial autocorrelation metrics for larger datasets, it can be used for smaller datasets to find length scales of spatial autocorrelation. On the other hand, as seen here, Moran's I can flip signs at different length scales, so for larger datasets, exploring spatial autocorrelation at the cell level would still be interesting.\n",
    "\n",
    "## Semivariogram\n",
    "In geostatistical data, an underlying spatial process is sampled at known locations. Kriging uses a Gaussian process to interpolate the values between the sample locations, and the semivariogram is used to model the spatial dependency between the locations as the covariance of the Gaussian process. When not kriging, the semivariogram can be used as an exploratory data analysis tool to find the length scale and anisotropy of spatial autocorrelation. One of the classic R packages in the geostatistical tradition is [`gstat`](https://cran.r-project.org/web/packages/gstat/index.html), which we use here to find semivariograms, defined as\n",
    "\n",
    "$$\n",
    "\\gamma(t) = \\frac 1 2 \\mathrm{Var}(X_t - X_0),\n",
    "$$\n",
    "\n",
    "where $X$ is the value such as gene expression, and $t$ is a spatial vector. $X_0$ is the value at a location of interest, and $X_t$ is the value lagged by $t$. With positive spatial autocorrelation, the variance would be smaller among nearby values, so the variogram would increase with distance, eventually leveling off when the distance is beyond the length scale of spatial autocorrelation. The \"semi\" comes from the 1/2.\n",
    "\n",
    "The variogram is in Voyager v1.2.0 or higher (Bioconductor 3.17 or later) and can be computed with the same `runUnivariate()` function. See [vignette for variograms and variogram maps](https://pachterlab.github.io/voyager/articles/variogram.html).\n",
    "\n",
    "First we find an empirical variogram assuming that it's the same in all directions. Here the data is binned at distance intervals, so this is much faster than the correlogram at the cell level. The `width` argument controlls the bin size. The `cutoff` argument is the maximum distance to consider. Here we use the defaults. The first argument is a formula; covariates can be specified, but is not done here.\n",
    "\n",
    "With different widths and cutoffs, the variogram can be estimated at different length scales. The `gstat` package can also fit a model to the empirical variogram. See `vgm()` for the different types of models. The [`automap`](https://cran.r-project.org/web/packages/automap/) package can choose a model for the user, and is used here and in Voyager. \n",
    "\n",
    "Unfortunately, `gstat` doesn't scale to 400,000 cells, although it worked for 100,000 cells in the other smFISH-based datasets on this website. But since the variogram is used to explore larger length scales here anyway, we use the binned data here, but the problems with binning will apply."
   ]
  },
  {
   "cell_type": "code",
   "execution_count": null,
<<<<<<< HEAD
<<<<<<< HEAD
   "id": "0bcf814d",
||||||| fa5abb84
   "id": "c8195641",
=======
   "id": "152d8953",
>>>>>>> documentation-devel
||||||| 7e3277eb
   "id": "152d8953",
=======
   "id": "04f46684",
>>>>>>> documentation-devel
   "metadata": {
    "warning": false
   },
   "outputs": [],
   "source": [
    "# as_Spatial since automap uses old fashioned sp, the predecessor of sf\n",
    "v <- autofitVariogram(nCounts ~ 1, as_Spatial(df_binned))\n",
    "plot(v)"
   ]
  },
  {
   "cell_type": "markdown",
<<<<<<< HEAD
<<<<<<< HEAD
   "id": "6a97daad",
||||||| fa5abb84
   "id": "d2ec6257",
=======
   "id": "c9b4bc2c",
>>>>>>> documentation-devel
||||||| 7e3277eb
   "id": "c9b4bc2c",
=======
   "id": "a7639ac8",
>>>>>>> documentation-devel
   "metadata": {
    "lines_to_next_cell": 0
   },
   "source": [
    "The numbers in this plot are the number of pairs in each distance bin. The variogram is not 0 at 0 distance; this is the variance within the bin size, called the nugget. The variogram levels off at greater distance, and the value of the variogram where is levels off is the sill. Range is where the variogram is leveling off, indicating length scale of spatial autocorrelation; the range from visual inspection appears closer to 1000 while the model somehow indicates 423. \n",
    "\n",
    "A variogram map can be made to see how spatial autocorrelation may differ in different directions, i.e. anisotropy"
   ]
  },
  {
   "cell_type": "code",
   "execution_count": null,
<<<<<<< HEAD
<<<<<<< HEAD
   "id": "c56c3ade",
||||||| fa5abb84
   "id": "b0b0ccbb",
=======
   "id": "68554464",
>>>>>>> documentation-devel
||||||| 7e3277eb
   "id": "68554464",
=======
   "id": "ebf281c5",
>>>>>>> documentation-devel
   "metadata": {},
   "outputs": [],
   "source": [
    "v2 <- variogram(nCounts ~ 1, data = df_binned, width = 300, cutoff = 4500, map = TRUE)\n",
    "plot(v2)"
   ]
  },
  {
   "cell_type": "markdown",
<<<<<<< HEAD
<<<<<<< HEAD
   "id": "883e59ee",
||||||| fa5abb84
   "id": "af4104c3",
=======
   "id": "409bb611",
>>>>>>> documentation-devel
||||||| 7e3277eb
   "id": "409bb611",
=======
   "id": "c4a2abc3",
>>>>>>> documentation-devel
   "metadata": {
    "lines_to_next_cell": 0
   },
   "source": [
    "Here apparently there's no anisotropy at shorter length scales, but there may be some artifact from the hexagonal bins. Going beyond 2000 (whatever unit), the variance drops at the northwest and southeast direction but not in other directions, perhaps related to the repetitiveness of the hepatic lobules and the general NE/SW direction of the blood vessels seen in the previous plots. \n",
    "\n",
    "The variogram can also be calculated at specified angles, here selected as sides of the hexagon:"
   ]
  },
  {
   "cell_type": "code",
   "execution_count": null,
<<<<<<< HEAD
<<<<<<< HEAD
   "id": "cc9c68d7",
||||||| fa5abb84
   "id": "8c2134e9",
=======
   "id": "ce0df393",
>>>>>>> documentation-devel
||||||| 7e3277eb
   "id": "ce0df393",
=======
   "id": "08b5cf2d",
>>>>>>> documentation-devel
   "metadata": {},
   "outputs": [],
   "source": [
    "v3 <- variogram(nCounts ~ 1, df_binned, alpha = c(30, 90, 150))\n",
    "v3_model <- fit.variogram(v3, vgm(\"Ste\"))\n",
    "plot(v3, v3_model)"
   ]
  },
  {
   "cell_type": "markdown",
<<<<<<< HEAD
<<<<<<< HEAD
   "id": "9ab1c467",
||||||| fa5abb84
   "id": "bb5a5a13",
=======
   "id": "0e900f23",
>>>>>>> documentation-devel
||||||| 7e3277eb
   "id": "0e900f23",
=======
   "id": "f76d280d",
>>>>>>> documentation-devel
   "metadata": {},
   "source": [
    "The variogram rises when going beyond 2000 at 30 and 90 degrees and drops at 150 degrees. This is consistent with the variogram map. These differences are averaged out in the omni-directional variogram. `gstat` does not fit anisotropy parameters, so the fitted curve is omni-directional. It fits pretty well below 2000. This is only for nCounts, and may differ for other QC metrics and genes. What if anisotropy varies in space? A problem with the variogram is that it's global, giving one result for the entire dataset, albeit more nuanced than just a number as in Moran's I, because kriging assumes that the data is intrinsically stationary, meaning that the same variogram model applies everywhere, and that spatial dependence only depends on lag between two observations.\n",
    "\n",
    "Voyager 1.2.0 and above implements `ggplot2` based plotting functions to make better looking and more customizable plots of the variograms for SFE objects. However, the binned data is not in an SFE object. We are considering writing a method to spatially bin all cell level data in an SFE object for Bioconductor 3.18. Here `gstat` is using `lattice`, a predecessor of `ggplot2` to make facetted plots and has been superseded by `ggplot2`. `gstat` is one of the oldest R packages still on CRAN, dating back to the days of S (prequel of R), although its oldest archive on CRAN is from 2003. `spdep` is also really old; its oldest archive on CRAN is from 2002, but it's still in active development. In using these time honored packages and methods (Moran's I and Geary's C themselves date back to the 1950s and their modern form date back to 1969 [@Cliff1969-wp; @Bivand2013-jx]) on the cool new spatial transcriptomics dataset, we are participating in a glorious tradition, which we will further develop as a spatial analysis tradition forms around spatial -omics data analysis.\n",
    "\n",
    "# PCA for larger datasets\n",
    "There are many ways to do PCA in R, and the [`BiocSingular`](https://bioconductor.org/packages/release/bioc/html/BiocSingular.html) package makes a number of different methods available with a consistent user interface, and it supports out of memory data in `DelayedArray`. According to [this benchmark](https://slowkow.com/notes/pca-benchmark/), `stats::prcomp()` shipped with R is rather slow for larger datasets. The fastest methods are `irlba::irlba()` and `RSpectra::svds()`, and the former is supported by `BiocSingular`. So here we use IRLBA and see how long it takes. Many PCA algorithms involve repeated matrix multiplications. R does not come with optimized BLAS and LAPACK, for portability reasons. However, the BLAS and LAPACK used by R can be changed to an optimized one (here's [how to do it](https://cran.r-project.org/doc/manuals/r-release/R-admin.html#Shared-BLAS)), which will speed up matrix multiplication. "
   ]
  },
  {
   "cell_type": "code",
   "execution_count": null,
<<<<<<< HEAD
<<<<<<< HEAD
   "id": "b840a6b2",
||||||| fa5abb84
   "id": "316ef5c4",
=======
   "id": "1e9b829a",
>>>>>>> documentation-devel
||||||| 7e3277eb
   "id": "1e9b829a",
=======
   "id": "17ec4f44",
>>>>>>> documentation-devel
   "metadata": {},
   "outputs": [],
   "source": [
    "set.seed(29)\n",
    "system.time(\n",
    "    sfe <- runPCA(sfe, ncomponents = 20, subset_row = !is_blank,\n",
    "                  exprs_values = \"logcounts\",\n",
    "                  scale = TRUE, BSPARAM = IrlbaParam())\n",
    ")\n",
    "gc()"
   ]
  },
  {
   "cell_type": "markdown",
<<<<<<< HEAD
<<<<<<< HEAD
   "id": "8d147bbe",
||||||| fa5abb84
   "id": "beb04f5d",
=======
   "id": "5f6b6dea",
>>>>>>> documentation-devel
||||||| 7e3277eb
   "id": "5f6b6dea",
=======
   "id": "645cc7f6",
>>>>>>> documentation-devel
   "metadata": {},
   "source": [
    "That's pretty quick for almost 400,000 cells, but there aren't that many genes here. Use the elbow plot to see variance explained by each PC:"
   ]
  },
  {
   "cell_type": "code",
   "execution_count": null,
<<<<<<< HEAD
<<<<<<< HEAD
   "id": "2dd5a0a1",
||||||| fa5abb84
   "id": "be0b2262",
=======
   "id": "dc73f63b",
>>>>>>> documentation-devel
||||||| 7e3277eb
   "id": "dc73f63b",
=======
   "id": "2deef9c1",
>>>>>>> documentation-devel
   "metadata": {},
   "outputs": [],
   "source": [
    "ElbowPlot(sfe)"
   ]
  },
  {
   "cell_type": "markdown",
<<<<<<< HEAD
<<<<<<< HEAD
   "id": "51fbe9dd",
||||||| fa5abb84
   "id": "cf44ed25",
=======
   "id": "625c3001",
>>>>>>> documentation-devel
||||||| 7e3277eb
   "id": "625c3001",
=======
   "id": "ac5564fc",
>>>>>>> documentation-devel
   "metadata": {
    "lines_to_next_cell": 0
   },
   "source": [
    "Plot top gene loadings in each PC"
   ]
  },
  {
   "cell_type": "code",
   "execution_count": null,
<<<<<<< HEAD
<<<<<<< HEAD
   "id": "fb5ff881",
||||||| fa5abb84
   "id": "965dbb71",
=======
   "id": "5ec71ddd",
>>>>>>> documentation-devel
||||||| 7e3277eb
   "id": "5ec71ddd",
=======
   "id": "aa3a94df",
>>>>>>> documentation-devel
   "metadata": {},
   "outputs": [],
   "source": [
    "plotDimLoadings(sfe)"
   ]
  },
  {
   "cell_type": "markdown",
<<<<<<< HEAD
<<<<<<< HEAD
   "id": "48b82946",
||||||| fa5abb84
   "id": "73ce35bf",
=======
   "id": "18e63efb",
>>>>>>> documentation-devel
||||||| 7e3277eb
   "id": "18e63efb",
=======
   "id": "dccecdc2",
>>>>>>> documentation-devel
   "metadata": {
    "lines_to_next_cell": 0
   },
   "source": [
    "Many of these genes seem to be related to the endothelium.\n",
    "\n",
    "Plot the first 4 PCs in space"
   ]
  },
  {
   "cell_type": "code",
   "execution_count": null,
<<<<<<< HEAD
<<<<<<< HEAD
   "id": "92e33fe6",
||||||| fa5abb84
   "id": "f0b52dd8",
=======
   "id": "2f2163c5",
>>>>>>> documentation-devel
||||||| 7e3277eb
   "id": "2f2163c5",
=======
   "id": "3d2a22d8",
>>>>>>> documentation-devel
   "metadata": {
    "fig.height": 7,
    "fig.width": 9
   },
   "outputs": [],
   "source": [
    "spatialReducedDim(sfe, \"PCA\", 4, colGeometryName = \"centroids\", scattermore = TRUE,\n",
    "                  divergent = TRUE, diverge_center = 0)"
   ]
  },
  {
   "cell_type": "markdown",
<<<<<<< HEAD
<<<<<<< HEAD
   "id": "d07888d0",
||||||| fa5abb84
   "id": "49017392",
=======
   "id": "c5fdcb13",
>>>>>>> documentation-devel
||||||| 7e3277eb
   "id": "c5fdcb13",
=======
   "id": "54fdd64c",
>>>>>>> documentation-devel
   "metadata": {
    "lines_to_next_cell": 0
   },
   "source": [
    "PC1 and PC4 highlight the major blood vessels, while PC2 and PC3 have less spatial structure. While in the CosMX and Xenium datasets on this website, the top PCs have clear spatial structures despite the absence of spatial information in non-spatial PCA because of clear spatial compartments for some cell types, which does not seem to be the case in this dataset except for the blood vessels. We have seen above that some genes have strong spatial structures. There are some methods for spatially informed PCA, such as MULTISPATI PCA [@Dray2008-en] in the [`adespatial`](https://cran.r-project.org/web/packages/adespatial/index.html) package, which seeks to maximize both variance (as in non-spatial PCA) and Moran's I on each PC. Unlike traditional PCs, where all eigenvalues, signifying variance explained, are positive, MULTISPATI PCA can have negative eigenvalues, which signify negative spatial autocorrelation. The PCs from MULTISPATI PCA with positive eigenvalues are also more spatially coherent than those from non-spatial PCA. For the CosMX and Xenium datasets on this website, the spatial coherence from MULTISPATI might not make a difference, but it might make a difference in this dataset where non-spatial PCs don't show as much spatial structure, at least at the larger scale over the entire tissue section. Voyager 1.2.0 (Bioconductor 3.17) has a faster implementation of MULTISPATI PCA than that of `adespatial`, and is demonstrated in this dataset in [another vignette](https://pachterlab.github.io/voyager/articles/multispati.html).\n",
    "\n",
    "While PC2 and PC3 don't seem to have large scale spatial structure, they may have more local spatial structure not obvious from plotting the entire section, so we zoom into the bounding box:"
   ]
  },
  {
   "cell_type": "code",
   "execution_count": null,
<<<<<<< HEAD
<<<<<<< HEAD
   "id": "889cff55",
||||||| fa5abb84
   "id": "869e43ea",
=======
   "id": "15f459ec",
>>>>>>> documentation-devel
||||||| 7e3277eb
   "id": "15f459ec",
=======
   "id": "8a18f301",
>>>>>>> documentation-devel
   "metadata": {
    "fig.height": 5,
    "fig.width": 9
   },
   "outputs": [],
   "source": [
    "spatialReducedDim(sfe, \"PCA\", ncomponents = 2:3, colGeometryName = \"cellSeg\",\n",
    "                  bbox = bbox_use, divergent = TRUE, diverge_center = 0)"
   ]
  },
  {
   "cell_type": "markdown",
<<<<<<< HEAD
<<<<<<< HEAD
   "id": "46b3b724",
||||||| fa5abb84
   "id": "0c428e89",
=======
   "id": "0059823f",
>>>>>>> documentation-devel
||||||| 7e3277eb
   "id": "0059823f",
=======
   "id": "df20d2b2",
>>>>>>> documentation-devel
   "metadata": {},
   "source": [
    "There's some spatial structure in PC2 and PC3 at a smaller scale, perhaps some negative spatial autocorrelation.\n",
    "\n",
    "Like global Moran's I, PCA and MULTISPATI PCA return one result for the entire dataset. In contrast, [geographically weighted PCA (GWPCA)](https://rdrr.io/cran/GWmodel/man/gwpca.html) [@Harris2015-sr] can account for spatial heterogeneity. GWPCA runs PCA at each spatial location using only the nearby locations weighed by a kernel. The different locations can have different PCs, and the results can be visualized with \"winning variables\" in each PC, i.e. plotting which feature has the highest loading in each PC in space. This most likely doesn't scale to 400,000 cells, but it would still be interesting when performed on spatially binned data. GWPCA might be added in Bioconductor 3.18 and would require some changes in the user interface, because GWPCA is about the features rather than cell embeddings.\n",
    "\n",
    "# More challenges from large datasets\n",
    "Here, despite the numerous cells, the data was loaded into memory. What if the data doesn't fit into memory? We might write a new vignette with `DelayedArray` demonstrating out of memory data analysis for Bioconductor 3.18. This is already supported by `SingleCellExperiment`, which SFE inherits from. However, the geometries, graphs, and local results can take up a lot memory as well. These can possibly be stored in SQL databases and operated on with [`SQLDataFrame`](https://bioconductor.org/packages/release/bioc/html/SQLDataFrame.html). The geometric operations can be handled by [`sedona`](https://github.com/apache/incubator-sedona), although the options are limited compared to GEOS, which performs geometric operations behind the scene for `sf`.\n",
    "\n",
    "Another question can be raised about large spatial transcriptomics data: Is it still a good idea to analyze the entire dataset at once? There must be many interesting and unique neighborhoods that might not get the attention they deserve when the whole dataset is analyzed at once. After all, in the geographical space, national level data is usually not analyzed at the block resolution, although a reason for this is privacy of the subjects. County resolution is often used, but there aren't hundreds of thousands of counties. Many analyses are done for cities and counties with neighborhood resolution; using the largest geographical unit isn't always the most relevant. Back to histological space: How to aggregate cells into larger spatial units? How to decide which scale of spatial units (analogous to nation vs state vs county and etc) is relevant? We have traditional anatomical ontologies, such as from the Allen Brain Atlas, but this isn't available for all tissues. Also, with more single cell -omics data, the traditional ontologies can be improved.\n",
    "\n",
    "Furthermore, there are 3D thick section single cell resolution spatial transcriptomics data, such as from STARmap [@Wang2018-cv] and EASI-FISH [@Wang2021-fv], although the vast majority of spatial -omics data are from thin sections pretty much _de facto_ 2D. As we mostly live on the surface of Earth, there are many more 2D geospatial resources than 3D. However, some methods can in principle be applied to 3D and the existing software primarily made for 2D data might work. For example, GEOS supports 3D data, so in principle 3D geometries in `sf` should work, although there's little documentation on this. Also, k nearest neighbor, Moran's I, variograms, and etc. should in principle work in 3D, and `gstat` officially supports 3D. These are more challenges related to 3D data:\n",
    "\n",
    "1. Even when multiple z-planes are imaged, the resolution is much lower in the z direction than the x and y directions. Then should the z-plane be treated as an attribute or as a coordinate?\n",
    "2. How to make static plots for 3D data for publications? This is more complicated than plotting z-planes separately, since a 3D block can be sectioned from any other direction. Also for interactive visualization, we need to somehow see through the tissue. \n",
    "\n",
    "Finally, the geospatial tradition is only one tradition relevant to large spatial data, and at present `Voyager` only works with vector data. We are uncertain whether raster should be added in a later version, and there are existing tools for large raster data as well, such as [TileDB](https://docs.tiledb.com/geospatial/). Other traditions can be relevant, such as astronomy and image processing, but those are beyond the scope of this package.\n",
    "\n",
    "# Session Info"
   ]
  },
  {
   "cell_type": "code",
   "execution_count": null,
<<<<<<< HEAD
<<<<<<< HEAD
   "id": "c218c894",
||||||| fa5abb84
   "id": "9fab1d50",
=======
   "id": "033da006",
>>>>>>> documentation-devel
||||||| 7e3277eb
   "id": "033da006",
=======
   "id": "03bfd5f7",
>>>>>>> documentation-devel
   "metadata": {},
   "outputs": [],
   "source": [
    "sessionInfo()"
   ]
  },
  {
   "cell_type": "markdown",
<<<<<<< HEAD
<<<<<<< HEAD
   "id": "b2a884d9",
||||||| fa5abb84
   "id": "398e0dd5",
=======
   "id": "e03e14f2",
>>>>>>> documentation-devel
||||||| 7e3277eb
   "id": "e03e14f2",
=======
   "id": "53fdf266",
>>>>>>> documentation-devel
   "metadata": {},
   "source": [
    "# References"
   ]
  }
 ],
 "metadata": {
  "kernelspec": {
   "display_name": "R",
   "language": "R",
   "name": "ir"
  }
 },
 "nbformat": 4,
 "nbformat_minor": 5
}
