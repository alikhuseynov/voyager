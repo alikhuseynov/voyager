{
 "cells": [
  {
   "cell_type": "raw",
<<<<<<< HEAD
<<<<<<< HEAD
<<<<<<< HEAD
   "id": "a72e196a",
||||||| 11b9cb7
   "id": "307b3a52",
=======
   "id": "a1bab5b2",
>>>>>>> documentation-devel
||||||| 614e9b1
   "id": "a1bab5b2",
=======
   "id": "8af81260",
>>>>>>> documentation-devel
||||||| 856b4c0
<<<<<<< HEAD
   "id": "a72e196a",
||||||| 11b9cb7
   "id": "307b3a52",
=======
   "id": "a1bab5b2",
>>>>>>> documentation-devel
=======
   "id": "911da66c",
>>>>>>> 552590ea8fad969b67afdba27558a1e6cb21016e
   "metadata": {},
   "source": [
    "---\n",
    "title: \"MERFISH mouse liver dataset and considerations of large data\"\n",
    "author: \"Lambda Moses\"\n",
    "date: \"`r Sys.Date()`\"\n",
    "output: \n",
    "  html_document:\n",
    "  toc: true\n",
    "  toc_float:\n",
    "    collapsed: false\n",
    "  toc_depth: 3\n",
    "bibliography: ref.bib\n",
    "vignette: >\n",
    "  %\\VignetteIndexEntry{merfish}\n",
    "  %\\VignetteEngine{knitr::rmarkdown}\n",
    "  %\\VignetteEncoding{UTF-8}\n",
    "---"
   ]
  },
  {
   "cell_type": "code",
   "execution_count": null,
<<<<<<< HEAD
<<<<<<< HEAD
<<<<<<< HEAD
   "id": "8d05dd31",
||||||| 11b9cb7
   "id": "0ce6517e",
=======
   "id": "33e9be4b",
>>>>>>> documentation-devel
||||||| 614e9b1
   "id": "33e9be4b",
=======
   "id": "0be50de5",
>>>>>>> documentation-devel
||||||| 856b4c0
<<<<<<< HEAD
   "id": "8d05dd31",
||||||| 11b9cb7
   "id": "0ce6517e",
=======
   "id": "33e9be4b",
>>>>>>> documentation-devel
=======
   "id": "cafd08b4",
>>>>>>> 552590ea8fad969b67afdba27558a1e6cb21016e
   "metadata": {
    "tags": [
     "remove_cell"
    ]
   },
   "outputs": [],
   "source": [
    "knitr::opts_chunk$set(\n",
    "  collapse = TRUE,\n",
    "  comment = \"#>\"\n",
    ")"
   ]
  },
  {
   "cell_type": "code",
   "execution_count": null,
<<<<<<< HEAD
<<<<<<< HEAD
<<<<<<< HEAD
   "id": "c582a5cb",
||||||| 11b9cb7
   "id": "b8dd1921",
=======
   "id": "8e606928",
>>>>>>> documentation-devel
||||||| 614e9b1
   "id": "8e606928",
=======
   "id": "a95d7445",
>>>>>>> documentation-devel
||||||| 856b4c0
<<<<<<< HEAD
   "id": "c582a5cb",
||||||| 11b9cb7
   "id": "b8dd1921",
=======
   "id": "8e606928",
>>>>>>> documentation-devel
=======
   "id": "cc594fac",
>>>>>>> 552590ea8fad969b67afdba27558a1e6cb21016e
   "metadata": {
    "eval": false,
    "tags": [
     "remove_cell"
    ]
   },
   "outputs": [],
   "source": [
    "# Install Google Colab dependencies\n",
    "# Note: this can take 30+ minutes (many of the dependencies include C++ code, which needs to be compiled)\n",
    "\n",
    "# First install `sf`, `ragg` and `textshaping` and their system dependencies:\n",
    "system(\"apt-get -y update && apt-get install -y  libudunits2-dev libgdal-dev libgeos-dev libproj-dev libharfbuzz-dev libfribidi-dev\")\n",
    "install.packages(\"sf\")\n",
    "install.packages(\"textshaping\")\n",
    "install.packages(\"ragg\")\n",
    "\n",
    "# Install system dependencies of some other R packages that Voyager either imports or suggests:\n",
    "system(\"apt-get install -y libfribidi-dev libcairo2-dev libmagick++-dev\")\n",
    "\n",
    "# Install Voyager from Bioconductor:\n",
    "install.packages(\"BiocManager\")\n",
    "BiocManager::install(version = \"3.17\", ask = FALSE, update = FALSE, Ncpus = 2)\n",
    "BiocManager::install(\"scater\")\n",
    "system.time(\n",
    "  BiocManager::install(\"Voyager\", dependencies = TRUE, Ncpus = 2, update = FALSE)\n",
    ")\n",
    "\n",
    "packageVersion(\"Voyager\")"
   ]
  },
  {
   "cell_type": "markdown",
<<<<<<< HEAD
<<<<<<< HEAD
<<<<<<< HEAD
   "id": "29f48342",
||||||| 11b9cb7
   "id": "d3667129",
=======
   "id": "918c44e6",
>>>>>>> documentation-devel
||||||| 614e9b1
   "id": "918c44e6",
=======
   "id": "0313f87f",
>>>>>>> documentation-devel
||||||| 856b4c0
<<<<<<< HEAD
   "id": "29f48342",
||||||| 11b9cb7
   "id": "d3667129",
=======
   "id": "918c44e6",
>>>>>>> documentation-devel
=======
   "id": "0c045fb9",
>>>>>>> 552590ea8fad969b67afdba27558a1e6cb21016e
   "metadata": {
    "lines_to_next_cell": 0
   },
   "source": [
    "# Introduction\n",
    "\n",
    "The `SpatialFeatureExperiment` (SFE) and `Voyager` packages were originally developed around a relatively small Visium dataset as a proof of concept, and were hence not originally optimized for very large datasets. However, larger smFISH datasets with hundreds of thousands, sometimes over a million cells have already been produced and will soon be produced routinely. Among studies using smFISH-based spatial transcriptomics technologies that reported the number of cells per dataset, the number of cells per dataset has increased in the past years [@Moses2022-xz].\n",
    "![alt](https://pachterlab.github.io/LP_2021/05-current-techs_files/figure-html/smfish-lm-cell-1.png)\n",
    "\n",
    "In anticipation of large datasets, this vignette was produced using limited GitHub Actions resources (MacOS), which are 14 GB of RAM with 3 CPU cores and 14 GB of disk space, comparable to laptops. We therefore expect that the analyses in this vignette should scale to reasonably sized datasets.  \n",
    "\n",
    "The dataset we use in this vignette is a MERFISH mouse liver dataset downloaded from the [Vizgen website](https://console.cloud.google.com/storage/browser/vz-liver-showcase/Liver1Slice1). We will use it to discuss some issues with large datasets and some upcoming features in the next release of `Voyager`. The gene count matrix and cell metadata (including centroid coordinates) were downloaded as CSV files and read into R. While 7 z-planes were imaged, cell segmentation is only available in one z-plane. The cell polygons are in HDF5 files, with one HDF5 file per field of view (FOV), and there are over 1000 FOVs in this dataset. Converting these HDF5 files into an `sf` data frame is not trivial. See the [vignette on creating a `SpatialFeatureExperiment` (SFE) object](https://pachterlab.github.io/voyager/articles/create_sfe.html#technology-specific-notes) for code used to do the conversion, and the polygons are included in the SFE object. The cell metadata already has cell volume. If the polygons are not used in the analyses, and the polygons can't be seen on a static plot with hundreds of thousands of cells anyway, then doing the conversion is optional. While the transcript spot locations are available, we cannot yet work with such a large point dataset.\n",
    "\n",
    "Here we load the packages used. "
   ]
  },
  {
   "cell_type": "code",
   "execution_count": null,
<<<<<<< HEAD
<<<<<<< HEAD
<<<<<<< HEAD
   "id": "068e9e91",
||||||| 11b9cb7
   "id": "34d30c1b",
=======
   "id": "e4607100",
>>>>>>> documentation-devel
||||||| 614e9b1
   "id": "e4607100",
=======
   "id": "b82d272e",
>>>>>>> documentation-devel
||||||| 856b4c0
<<<<<<< HEAD
   "id": "068e9e91",
||||||| 11b9cb7
   "id": "34d30c1b",
=======
   "id": "e4607100",
>>>>>>> documentation-devel
=======
   "id": "9b287889",
>>>>>>> 552590ea8fad969b67afdba27558a1e6cb21016e
   "metadata": {
    "name": "setup"
   },
   "outputs": [],
   "source": [
    "library(Voyager)\n",
    "library(SFEData)\n",
    "library(SingleCellExperiment)\n",
    "library(SpatialExperiment)\n",
    "library(scater) \n",
    "library(ggplot2)\n",
    "library(patchwork)\n",
    "library(stringr)\n",
    "library(spdep)\n",
    "library(BiocParallel)\n",
    "library(BiocSingular)\n",
    "library(gstat)\n",
    "library(BiocNeighbors)\n",
    "library(sf)\n",
    "library(automap)\n",
    "theme_set(theme_bw())"
   ]
  },
  {
   "cell_type": "code",
   "execution_count": null,
<<<<<<< HEAD
<<<<<<< HEAD
<<<<<<< HEAD
   "id": "20eabfc9",
||||||| 11b9cb7
   "id": "3e8f29aa",
=======
   "id": "f32cbfe2",
>>>>>>> documentation-devel
||||||| 614e9b1
   "id": "f32cbfe2",
=======
   "id": "64036382",
>>>>>>> documentation-devel
||||||| 856b4c0
<<<<<<< HEAD
   "id": "20eabfc9",
||||||| 11b9cb7
   "id": "3e8f29aa",
=======
   "id": "f32cbfe2",
>>>>>>> documentation-devel
=======
   "id": "1264054c",
>>>>>>> 552590ea8fad969b67afdba27558a1e6cb21016e
   "metadata": {},
   "outputs": [],
   "source": [
    "(sfe <- VizgenLiverData())"
   ]
  },
  {
   "cell_type": "markdown",
<<<<<<< HEAD
<<<<<<< HEAD
<<<<<<< HEAD
   "id": "ab02f006",
||||||| 11b9cb7
   "id": "fa577e81",
=======
   "id": "6c007cc1",
>>>>>>> documentation-devel
||||||| 614e9b1
   "id": "6c007cc1",
=======
   "id": "37022049",
>>>>>>> documentation-devel
||||||| 856b4c0
<<<<<<< HEAD
   "id": "ab02f006",
||||||| 11b9cb7
   "id": "fa577e81",
=======
   "id": "6c007cc1",
>>>>>>> documentation-devel
=======
   "id": "136c86f7",
>>>>>>> 552590ea8fad969b67afdba27558a1e6cb21016e
   "metadata": {
    "lines_to_next_cell": 0
   },
   "source": [
    "There are 395,215 cells in this dataset. Plotting them all as polygons takes a while, but it isn't too bad."
   ]
  },
  {
   "cell_type": "code",
   "execution_count": null,
<<<<<<< HEAD
<<<<<<< HEAD
<<<<<<< HEAD
   "id": "fa725571",
||||||| 11b9cb7
   "id": "cc803c5a",
=======
   "id": "23f67c06",
>>>>>>> documentation-devel
||||||| 614e9b1
   "id": "23f67c06",
=======
   "id": "f0903893",
>>>>>>> documentation-devel
||||||| 856b4c0
<<<<<<< HEAD
   "id": "fa725571",
||||||| 11b9cb7
   "id": "cc803c5a",
=======
   "id": "23f67c06",
>>>>>>> documentation-devel
=======
   "id": "871ad40b",
>>>>>>> 552590ea8fad969b67afdba27558a1e6cb21016e
   "metadata": {
    "fig.height": 6,
    "fig.width": 9
   },
   "outputs": [],
   "source": [
    "plotGeometry(sfe, \"cellSeg\")"
   ]
  },
  {
   "cell_type": "markdown",
<<<<<<< HEAD
<<<<<<< HEAD
<<<<<<< HEAD
   "id": "0942cadf",
||||||| 11b9cb7
   "id": "41f0979c",
=======
   "id": "9cc65c86",
>>>>>>> documentation-devel
||||||| 614e9b1
   "id": "9cc65c86",
=======
   "id": "481fa8e9",
>>>>>>> documentation-devel
||||||| 856b4c0
<<<<<<< HEAD
   "id": "0942cadf",
||||||| 11b9cb7
   "id": "41f0979c",
=======
   "id": "9cc65c86",
>>>>>>> documentation-devel
=======
   "id": "f4e87e6e",
>>>>>>> 552590ea8fad969b67afdba27558a1e6cb21016e
   "metadata": {
    "lines_to_next_cell": 0
   },
   "source": [
    "However, we do not wish to save this plot as PDF. To avoid this problem, we can either use the `scattermore = TRUE` argument in `plotSpatialFeature()` and plot the centroids since the polygons are hard to see anyway. \n",
    "\n",
    "Cell density can be vaguely seen in the plot above. Here we count the number of cells in bins to better visualize cell density."
   ]
  },
  {
   "cell_type": "code",
   "execution_count": null,
<<<<<<< HEAD
<<<<<<< HEAD
<<<<<<< HEAD
   "id": "8b1a1ed5",
||||||| 11b9cb7
   "id": "f9d477a2",
=======
   "id": "7ba9453a",
>>>>>>> documentation-devel
||||||| 614e9b1
   "id": "7ba9453a",
=======
   "id": "50629f9a",
>>>>>>> documentation-devel
||||||| 856b4c0
<<<<<<< HEAD
   "id": "8b1a1ed5",
||||||| 11b9cb7
   "id": "f9d477a2",
=======
   "id": "7ba9453a",
>>>>>>> documentation-devel
=======
   "id": "319c9569",
>>>>>>> 552590ea8fad969b67afdba27558a1e6cb21016e
   "metadata": {
    "fig.height": 6,
    "fig.width": 9
   },
   "outputs": [],
   "source": [
    "plotCellBin2D(sfe, bins = 300, hex = TRUE)"
   ]
  },
  {
   "cell_type": "markdown",
<<<<<<< HEAD
<<<<<<< HEAD
<<<<<<< HEAD
   "id": "63dd4124",
||||||| 11b9cb7
   "id": "c4b1193e",
=======
   "id": "00160d9a",
>>>>>>> documentation-devel
||||||| 614e9b1
   "id": "00160d9a",
=======
   "id": "7d4ff74f",
>>>>>>> documentation-devel
||||||| 856b4c0
<<<<<<< HEAD
   "id": "63dd4124",
||||||| 11b9cb7
   "id": "c4b1193e",
=======
   "id": "00160d9a",
>>>>>>> documentation-devel
=======
   "id": "64ba676f",
>>>>>>> 552590ea8fad969b67afdba27558a1e6cb21016e
   "metadata": {
    "lines_to_next_cell": 0
   },
   "source": [
    "Cell density is for the most part homogeneous but shows some structure with denser regions that seem to relate to the blood vessels.\n",
    "\n",
    "# Quality control"
   ]
  },
  {
   "cell_type": "code",
   "execution_count": null,
<<<<<<< HEAD
<<<<<<< HEAD
<<<<<<< HEAD
   "id": "4b93e589",
||||||| 11b9cb7
   "id": "39d746f1",
=======
   "id": "df67f8a8",
>>>>>>> documentation-devel
||||||| 614e9b1
   "id": "df67f8a8",
=======
   "id": "abf37e61",
>>>>>>> documentation-devel
||||||| 856b4c0
<<<<<<< HEAD
   "id": "4b93e589",
||||||| 11b9cb7
   "id": "39d746f1",
=======
   "id": "df67f8a8",
>>>>>>> documentation-devel
=======
   "id": "8a582adc",
>>>>>>> 552590ea8fad969b67afdba27558a1e6cb21016e
   "metadata": {},
   "outputs": [],
   "source": [
    "names(colData(sfe))"
   ]
  },
  {
   "cell_type": "markdown",
<<<<<<< HEAD
<<<<<<< HEAD
<<<<<<< HEAD
   "id": "cfd34b2e",
||||||| 11b9cb7
   "id": "f6c7b23a",
=======
   "id": "fa93eb18",
>>>>>>> documentation-devel
||||||| 614e9b1
   "id": "fa93eb18",
=======
   "id": "9242a4f9",
>>>>>>> documentation-devel
||||||| 856b4c0
<<<<<<< HEAD
   "id": "cfd34b2e",
||||||| 11b9cb7
   "id": "f6c7b23a",
=======
   "id": "fa93eb18",
>>>>>>> documentation-devel
=======
   "id": "8d496a00",
>>>>>>> 552590ea8fad969b67afdba27558a1e6cb21016e
   "metadata": {
    "lines_to_next_cell": 0
   },
   "source": [
    "Plotting almost 400,000 polygons is kind of slow but doable."
   ]
  },
  {
   "cell_type": "code",
   "execution_count": null,
<<<<<<< HEAD
<<<<<<< HEAD
<<<<<<< HEAD
   "id": "509ffb3b",
||||||| 11b9cb7
   "id": "9befcb80",
=======
   "id": "e74749b8",
>>>>>>> documentation-devel
||||||| 614e9b1
   "id": "e74749b8",
=======
   "id": "9a225cce",
>>>>>>> documentation-devel
||||||| 856b4c0
<<<<<<< HEAD
   "id": "509ffb3b",
||||||| 11b9cb7
   "id": "9befcb80",
=======
   "id": "e74749b8",
>>>>>>> documentation-devel
=======
   "id": "0eb1211c",
>>>>>>> 552590ea8fad969b67afdba27558a1e6cb21016e
   "metadata": {},
   "outputs": [],
   "source": [
    "system.time(\n",
    "    print(plotSpatialFeature(sfe, \"nCounts\", colGeometryName = \"cellSeg\"))\n",
    ")"
   ]
  },
  {
   "cell_type": "markdown",
<<<<<<< HEAD
<<<<<<< HEAD
<<<<<<< HEAD
   "id": "e805384c",
||||||| 11b9cb7
   "id": "a588ca61",
=======
   "id": "2b9cbe54",
>>>>>>> documentation-devel
||||||| 614e9b1
   "id": "2b9cbe54",
=======
   "id": "cbf6cc4d",
>>>>>>> documentation-devel
||||||| 856b4c0
<<<<<<< HEAD
   "id": "e805384c",
||||||| 11b9cb7
   "id": "a588ca61",
=======
   "id": "2b9cbe54",
>>>>>>> documentation-devel
=======
   "id": "b2d5093a",
>>>>>>> 552590ea8fad969b67afdba27558a1e6cb21016e
   "metadata": {},
   "source": [
    "Here nCounts kind of looks like salt and pepper. Using the [`scattermore`](https://github.com/exaexa/scattermore) package can speed up plotting a large number of points. In this non-interactive plot, the cell polygons are too small to see anyway, so plotting cell centroid points should be fine. "
   ]
  },
  {
   "cell_type": "code",
   "execution_count": null,
<<<<<<< HEAD
<<<<<<< HEAD
<<<<<<< HEAD
   "id": "0b14111c",
||||||| 11b9cb7
   "id": "c8036a37",
=======
   "id": "cfc90548",
>>>>>>> documentation-devel
||||||| 614e9b1
   "id": "cfc90548",
=======
   "id": "983ea9d4",
>>>>>>> documentation-devel
||||||| 856b4c0
<<<<<<< HEAD
   "id": "0b14111c",
||||||| 11b9cb7
   "id": "c8036a37",
=======
   "id": "cfc90548",
>>>>>>> documentation-devel
=======
   "id": "d836cb73",
>>>>>>> 552590ea8fad969b67afdba27558a1e6cb21016e
   "metadata": {},
   "outputs": [],
   "source": [
    "system.time({\n",
    "    print(plotSpatialFeature(sfe, \"nCounts\", colGeometryName = \"centroids\",\n",
    "                             scattermore = TRUE))\n",
    "})"
   ]
  },
  {
   "cell_type": "markdown",
<<<<<<< HEAD
<<<<<<< HEAD
<<<<<<< HEAD
   "id": "831f87e5",
||||||| 11b9cb7
   "id": "35f4e600",
=======
   "id": "42f529ae",
>>>>>>> documentation-devel
||||||| 614e9b1
   "id": "42f529ae",
=======
   "id": "0c2e0049",
>>>>>>> documentation-devel
||||||| 856b4c0
<<<<<<< HEAD
   "id": "831f87e5",
||||||| 11b9cb7
   "id": "35f4e600",
=======
   "id": "42f529ae",
>>>>>>> documentation-devel
=======
   "id": "92252eaf",
>>>>>>> 552590ea8fad969b67afdba27558a1e6cb21016e
   "metadata": {},
   "source": [
    "When run on our server, plotting almost 400,000 polygons took around 23 seconds, while using `geom_scattermore()` (`scattermore = TRUE`) took about 2 seconds. Since `geom_scattermore()` rasterizes the plot, the plot will be pixelated when zoomed in. \n",
    "\n",
    "While interactive data visualization is useful for ESDA, there is a need for static figures in publications. As of Voyager 1.2.0 (Bioconductor 3.17), a bounding box can be specified to zoom into the data."
   ]
  },
  {
   "cell_type": "code",
   "execution_count": null,
<<<<<<< HEAD
<<<<<<< HEAD
<<<<<<< HEAD
   "id": "f26925c5",
||||||| 11b9cb7
   "id": "ad34efcf",
=======
   "id": "0a079a09",
>>>>>>> documentation-devel
||||||| 614e9b1
   "id": "0a079a09",
=======
   "id": "bc3b1910",
>>>>>>> documentation-devel
||||||| 856b4c0
<<<<<<< HEAD
   "id": "f26925c5",
||||||| 11b9cb7
   "id": "ad34efcf",
=======
   "id": "0a079a09",
>>>>>>> documentation-devel
=======
   "id": "3190bdb5",
>>>>>>> 552590ea8fad969b67afdba27558a1e6cb21016e
   "metadata": {},
   "outputs": [],
   "source": [
    "bbox_use <- c(xmin = 3000, xmax = 3500, ymin = 2500, ymax = 3000)"
   ]
  },
  {
   "cell_type": "code",
   "execution_count": null,
<<<<<<< HEAD
<<<<<<< HEAD
<<<<<<< HEAD
   "id": "9e6ad8fa",
||||||| 11b9cb7
   "id": "8dc63381",
=======
   "id": "fbfae444",
>>>>>>> documentation-devel
||||||| 614e9b1
   "id": "fbfae444",
=======
   "id": "b711628a",
>>>>>>> documentation-devel
||||||| 856b4c0
<<<<<<< HEAD
   "id": "9e6ad8fa",
||||||| 11b9cb7
   "id": "8dc63381",
=======
   "id": "fbfae444",
>>>>>>> documentation-devel
=======
   "id": "1d1d99f0",
>>>>>>> 552590ea8fad969b67afdba27558a1e6cb21016e
   "metadata": {},
   "outputs": [],
   "source": [
    "plotSpatialFeature(sfe, \"nCounts\", colGeometryName = \"cellSeg\", bbox = bbox_use)"
   ]
  },
  {
   "cell_type": "markdown",
<<<<<<< HEAD
<<<<<<< HEAD
<<<<<<< HEAD
   "id": "f17d3a31",
||||||| 11b9cb7
   "id": "9666fe93",
=======
   "id": "580fa661",
>>>>>>> documentation-devel
||||||| 614e9b1
   "id": "580fa661",
=======
   "id": "1b0e631e",
>>>>>>> documentation-devel
||||||| 856b4c0
<<<<<<< HEAD
   "id": "f17d3a31",
||||||| 11b9cb7
   "id": "9666fe93",
=======
   "id": "580fa661",
>>>>>>> documentation-devel
=======
   "id": "c844ef49",
>>>>>>> 552590ea8fad969b67afdba27558a1e6cb21016e
   "metadata": {
    "lines_to_next_cell": 0
   },
   "source": [
    "Much of the time making this plot is spent subsetting the `sf` data frame with the bounding box. Here, spatial autocorrelation is evident in the upper right region with smaller cells, but less so in the rest of this patch. nCounts seems to be related to cell size; larger cells seem to have more total counts.\n",
    "\n",
    "Interactive data visualization is currently beyond the scope of `Voyager` or this vignette. There are existing tools for interactive visualization of highly multiplexed imaging data, such as [`MERmaid`](https://github.com/JEFworks-Lab/MERmaid) [@Wang2020-sv] for MERFISH data, [`TissUUmaps`](https://github.com/TissUUmaps/TissUUmapsCore) [@Pielawski2022-wk], and [`Visinity`](https://github.com/labsyspharm/visinity) [@Warchol2022-zw].\n",
    "\n",
    "Since there aren't too many genes, all genes and negative control probes can be displayed:"
   ]
  },
  {
   "cell_type": "code",
   "execution_count": null,
<<<<<<< HEAD
<<<<<<< HEAD
<<<<<<< HEAD
   "id": "0b29eea3",
||||||| 11b9cb7
   "id": "61dd6e26",
=======
   "id": "f1c49e6d",
>>>>>>> documentation-devel
||||||| 614e9b1
   "id": "f1c49e6d",
=======
   "id": "775f0841",
>>>>>>> documentation-devel
||||||| 856b4c0
<<<<<<< HEAD
   "id": "0b29eea3",
||||||| 11b9cb7
   "id": "61dd6e26",
=======
   "id": "f1c49e6d",
>>>>>>> documentation-devel
=======
   "id": "fbe0f1ea",
>>>>>>> 552590ea8fad969b67afdba27558a1e6cb21016e
   "metadata": {},
   "outputs": [],
   "source": [
    "rownames(sfe)"
   ]
  },
  {
   "cell_type": "markdown",
<<<<<<< HEAD
<<<<<<< HEAD
<<<<<<< HEAD
   "id": "8afb87a6",
||||||| 11b9cb7
   "id": "e90588bd",
=======
   "id": "42777859",
>>>>>>> documentation-devel
||||||| 614e9b1
   "id": "42777859",
=======
   "id": "df13f22b",
>>>>>>> documentation-devel
||||||| 856b4c0
<<<<<<< HEAD
   "id": "8afb87a6",
||||||| 11b9cb7
   "id": "e90588bd",
=======
   "id": "42777859",
>>>>>>> documentation-devel
=======
   "id": "5af61b63",
>>>>>>> 552590ea8fad969b67afdba27558a1e6cb21016e
   "metadata": {},
   "source": [
    "The number of real genes is 347."
   ]
  },
  {
   "cell_type": "code",
   "execution_count": null,
<<<<<<< HEAD
<<<<<<< HEAD
<<<<<<< HEAD
   "id": "b8e1337e",
||||||| 11b9cb7
   "id": "bd69d63b",
=======
   "id": "06953c96",
>>>>>>> documentation-devel
||||||| 614e9b1
   "id": "06953c96",
=======
   "id": "7a18c172",
>>>>>>> documentation-devel
||||||| 856b4c0
<<<<<<< HEAD
   "id": "b8e1337e",
||||||| 11b9cb7
   "id": "bd69d63b",
=======
   "id": "06953c96",
>>>>>>> documentation-devel
=======
   "id": "a7350c1c",
>>>>>>> 552590ea8fad969b67afdba27558a1e6cb21016e
   "metadata": {},
   "outputs": [],
   "source": [
    "n_panel <- 347"
   ]
  },
  {
   "cell_type": "markdown",
<<<<<<< HEAD
<<<<<<< HEAD
<<<<<<< HEAD
   "id": "1e1b7fc7",
||||||| 11b9cb7
   "id": "925ea6d1",
=======
   "id": "626dcb43",
>>>>>>> documentation-devel
||||||| 614e9b1
   "id": "626dcb43",
=======
   "id": "2dce8d51",
>>>>>>> documentation-devel
||||||| 856b4c0
<<<<<<< HEAD
   "id": "1e1b7fc7",
||||||| 11b9cb7
   "id": "925ea6d1",
=======
   "id": "626dcb43",
>>>>>>> documentation-devel
=======
   "id": "86088126",
>>>>>>> 552590ea8fad969b67afdba27558a1e6cb21016e
   "metadata": {
    "lines_to_next_cell": 0
   },
   "source": [
    "Next, we plot the distribution of nCounts divided by the number of genes in the panel, so this distribution is more comparable across datasets with different numbers of genes."
   ]
  },
  {
   "cell_type": "code",
   "execution_count": null,
<<<<<<< HEAD
<<<<<<< HEAD
<<<<<<< HEAD
   "id": "78614b79",
||||||| 11b9cb7
   "id": "42d7cebf",
=======
   "id": "da57d068",
>>>>>>> documentation-devel
||||||| 614e9b1
   "id": "da57d068",
=======
   "id": "39e7d6c8",
>>>>>>> documentation-devel
||||||| 856b4c0
<<<<<<< HEAD
   "id": "78614b79",
||||||| 11b9cb7
   "id": "42d7cebf",
=======
   "id": "da57d068",
>>>>>>> documentation-devel
=======
   "id": "3a7f4efd",
>>>>>>> 552590ea8fad969b67afdba27558a1e6cb21016e
   "metadata": {},
   "outputs": [],
   "source": [
    "colData(sfe)$nCounts_normed <- sfe$nCounts / n_panel\n",
    "colData(sfe)$nGenes_normed <- sfe$nGenes / n_panel"
   ]
  },
  {
   "cell_type": "code",
   "execution_count": null,
<<<<<<< HEAD
<<<<<<< HEAD
<<<<<<< HEAD
   "id": "f18678ba",
||||||| 11b9cb7
   "id": "3e345af5",
=======
   "id": "8ab9506e",
>>>>>>> documentation-devel
||||||| 614e9b1
   "id": "8ab9506e",
=======
   "id": "a425f971",
>>>>>>> documentation-devel
||||||| 856b4c0
<<<<<<< HEAD
   "id": "f18678ba",
||||||| 11b9cb7
   "id": "3e345af5",
=======
   "id": "8ab9506e",
>>>>>>> documentation-devel
=======
   "id": "7681a53a",
>>>>>>> 552590ea8fad969b67afdba27558a1e6cb21016e
   "metadata": {},
   "outputs": [],
   "source": [
    "plotColDataHistogram(sfe, c(\"nCounts_normed\", \"nGenes_normed\"))"
   ]
  },
  {
   "cell_type": "markdown",
<<<<<<< HEAD
<<<<<<< HEAD
<<<<<<< HEAD
   "id": "05ce5deb",
||||||| 11b9cb7
   "id": "ee9dd424",
=======
   "id": "c1fe5e5b",
>>>>>>> documentation-devel
||||||| 614e9b1
   "id": "c1fe5e5b",
=======
   "id": "47eba8f7",
>>>>>>> documentation-devel
||||||| 856b4c0
<<<<<<< HEAD
   "id": "05ce5deb",
||||||| 11b9cb7
   "id": "ee9dd424",
=======
   "id": "c1fe5e5b",
>>>>>>> documentation-devel
=======
   "id": "84d38066",
>>>>>>> 552590ea8fad969b67afdba27558a1e6cb21016e
   "metadata": {
    "lines_to_next_cell": 0
   },
   "source": [
    "As with the [Xenium dataset](https://pachterlab.github.io/voyager/articles/vig5_xenium.html#cells), there are mysterious regular notches in the histogram of the number of genes detected.\n",
    "\n",
    "We also plot the number of genes detected per cell, with `geom_scattermore()`."
   ]
  },
  {
   "cell_type": "code",
   "execution_count": null,
<<<<<<< HEAD
<<<<<<< HEAD
<<<<<<< HEAD
   "id": "6361e59b",
||||||| 11b9cb7
   "id": "47d2175c",
=======
   "id": "0ebdd95d",
>>>>>>> documentation-devel
||||||| 614e9b1
   "id": "0ebdd95d",
=======
   "id": "02cf4d27",
>>>>>>> documentation-devel
||||||| 856b4c0
<<<<<<< HEAD
   "id": "6361e59b",
||||||| 11b9cb7
   "id": "47d2175c",
=======
   "id": "0ebdd95d",
>>>>>>> documentation-devel
=======
   "id": "1fc50744",
>>>>>>> 552590ea8fad969b67afdba27558a1e6cb21016e
   "metadata": {},
   "outputs": [],
   "source": [
    "plotSpatialFeature(sfe, \"nGenes\", colGeometryName = \"centroids\", scattermore = TRUE)"
   ]
  },
  {
   "cell_type": "markdown",
<<<<<<< HEAD
<<<<<<< HEAD
<<<<<<< HEAD
   "id": "7d66b092",
||||||| 11b9cb7
   "id": "d494f2ef",
=======
   "id": "ee0270af",
>>>>>>> documentation-devel
||||||| 614e9b1
   "id": "ee0270af",
=======
   "id": "7d2bac66",
>>>>>>> documentation-devel
||||||| 856b4c0
<<<<<<< HEAD
   "id": "7d66b092",
||||||| 11b9cb7
   "id": "d494f2ef",
=======
   "id": "ee0270af",
>>>>>>> documentation-devel
=======
   "id": "b08b7147",
>>>>>>> 552590ea8fad969b67afdba27558a1e6cb21016e
   "metadata": {
    "lines_to_next_cell": 0
   },
   "source": [
    "Similarly to nCounts, the points look intermingled. \n",
    "\n",
    "Distribution of cell volume in space:"
   ]
  },
  {
   "cell_type": "code",
   "execution_count": null,
<<<<<<< HEAD
<<<<<<< HEAD
<<<<<<< HEAD
   "id": "21eecf6c",
||||||| 11b9cb7
   "id": "304808f2",
=======
   "id": "36ec5517",
>>>>>>> documentation-devel
||||||| 614e9b1
   "id": "36ec5517",
=======
   "id": "9d6eaaa4",
>>>>>>> documentation-devel
||||||| 856b4c0
<<<<<<< HEAD
   "id": "21eecf6c",
||||||| 11b9cb7
   "id": "304808f2",
=======
   "id": "36ec5517",
>>>>>>> documentation-devel
=======
   "id": "a663b870",
>>>>>>> 552590ea8fad969b67afdba27558a1e6cb21016e
   "metadata": {},
   "outputs": [],
   "source": [
    "plotSpatialFeature(sfe, \"volume\", colGeometryName = \"centroids\", scattermore = TRUE)"
   ]
  },
  {
   "cell_type": "markdown",
<<<<<<< HEAD
<<<<<<< HEAD
<<<<<<< HEAD
   "id": "9b57d498",
||||||| 11b9cb7
   "id": "c594ccff",
=======
   "id": "d65c00ac",
>>>>>>> documentation-devel
||||||| 614e9b1
   "id": "d65c00ac",
=======
   "id": "7fb13d32",
>>>>>>> documentation-devel
||||||| 856b4c0
<<<<<<< HEAD
   "id": "9b57d498",
||||||| 11b9cb7
   "id": "c594ccff",
=======
   "id": "d65c00ac",
>>>>>>> documentation-devel
=======
   "id": "5864d77e",
>>>>>>> 552590ea8fad969b67afdba27558a1e6cb21016e
   "metadata": {
    "lines_to_next_cell": 0
   },
   "source": [
    "Next, we explore how nCounts relates to nGenes:"
   ]
  },
  {
   "cell_type": "code",
   "execution_count": null,
<<<<<<< HEAD
<<<<<<< HEAD
<<<<<<< HEAD
   "id": "5eb8c957",
||||||| 11b9cb7
   "id": "69806670",
=======
   "id": "c6261fe9",
>>>>>>> documentation-devel
||||||| 614e9b1
   "id": "c6261fe9",
=======
   "id": "97481526",
>>>>>>> documentation-devel
||||||| 856b4c0
<<<<<<< HEAD
   "id": "5eb8c957",
||||||| 11b9cb7
   "id": "69806670",
=======
   "id": "c6261fe9",
>>>>>>> documentation-devel
=======
   "id": "e884d4c0",
>>>>>>> 552590ea8fad969b67afdba27558a1e6cb21016e
   "metadata": {},
   "outputs": [],
   "source": [
    "plotColDataBin2D(sfe, \"nCounts\", \"nGenes\")"
   ]
  },
  {
   "cell_type": "markdown",
<<<<<<< HEAD
<<<<<<< HEAD
<<<<<<< HEAD
   "id": "0b5868d2",
||||||| 11b9cb7
   "id": "781879e6",
=======
   "id": "f2c863e8",
>>>>>>> documentation-devel
||||||| 614e9b1
   "id": "f2c863e8",
=======
   "id": "6abadeeb",
>>>>>>> documentation-devel
||||||| 856b4c0
<<<<<<< HEAD
   "id": "0b5868d2",
||||||| 11b9cb7
   "id": "781879e6",
=======
   "id": "f2c863e8",
>>>>>>> documentation-devel
=======
   "id": "2998018a",
>>>>>>> 552590ea8fad969b67afdba27558a1e6cb21016e
   "metadata": {
    "lines_to_next_cell": 0
   },
   "source": [
    "There are two branches in this plot. \n",
    "\n",
    "How does cell size relate to nCounts?"
   ]
  },
  {
   "cell_type": "code",
   "execution_count": null,
<<<<<<< HEAD
<<<<<<< HEAD
<<<<<<< HEAD
   "id": "eab4bb38",
||||||| 11b9cb7
   "id": "b313d4ac",
=======
   "id": "408bc99f",
>>>>>>> documentation-devel
||||||| 614e9b1
   "id": "408bc99f",
=======
   "id": "804ce3f6",
>>>>>>> documentation-devel
||||||| 856b4c0
<<<<<<< HEAD
   "id": "eab4bb38",
||||||| 11b9cb7
   "id": "b313d4ac",
=======
   "id": "408bc99f",
>>>>>>> documentation-devel
=======
   "id": "395129d4",
>>>>>>> 552590ea8fad969b67afdba27558a1e6cb21016e
   "metadata": {},
   "outputs": [],
   "source": [
    "plotColDataBin2D(sfe, \"volume\", \"nCounts\")"
   ]
  },
  {
   "cell_type": "markdown",
<<<<<<< HEAD
<<<<<<< HEAD
<<<<<<< HEAD
   "id": "caabe4ce",
||||||| 11b9cb7
   "id": "ec388f05",
=======
   "id": "7070c307",
>>>>>>> documentation-devel
||||||| 614e9b1
   "id": "7070c307",
=======
   "id": "5906d017",
>>>>>>> documentation-devel
||||||| 856b4c0
<<<<<<< HEAD
   "id": "caabe4ce",
||||||| 11b9cb7
   "id": "ec388f05",
=======
   "id": "7070c307",
>>>>>>> documentation-devel
=======
   "id": "cc37d27b",
>>>>>>> 552590ea8fad969b67afdba27558a1e6cb21016e
   "metadata": {
    "lines_to_next_cell": 0
   },
   "source": [
    "The lower branch has the larger cells that don't tend to have more total counts, and the upper branch has larger cells that tend to have more total counts.\n",
    "\n",
    "We also examine how cell size relates to number of genes detected:"
   ]
  },
  {
   "cell_type": "code",
   "execution_count": null,
<<<<<<< HEAD
<<<<<<< HEAD
<<<<<<< HEAD
   "id": "5c78b64c",
||||||| 11b9cb7
   "id": "d514c311",
=======
   "id": "872d3d68",
>>>>>>> documentation-devel
||||||| 614e9b1
   "id": "872d3d68",
=======
   "id": "db94bd38",
>>>>>>> documentation-devel
||||||| 856b4c0
<<<<<<< HEAD
   "id": "5c78b64c",
||||||| 11b9cb7
   "id": "d514c311",
=======
   "id": "872d3d68",
>>>>>>> documentation-devel
=======
   "id": "e3360136",
>>>>>>> 552590ea8fad969b67afdba27558a1e6cb21016e
   "metadata": {},
   "outputs": [],
   "source": [
    "plotColDataBin2D(sfe, \"volume\", \"nGenes\")"
   ]
  },
  {
   "cell_type": "markdown",
<<<<<<< HEAD
<<<<<<< HEAD
<<<<<<< HEAD
   "id": "131f59df",
||||||| 11b9cb7
   "id": "e1a61128",
=======
   "id": "e0feeefe",
>>>>>>> documentation-devel
||||||| 614e9b1
   "id": "e0feeefe",
=======
   "id": "27c7fee1",
>>>>>>> documentation-devel
||||||| 856b4c0
<<<<<<< HEAD
   "id": "131f59df",
||||||| 11b9cb7
   "id": "e1a61128",
=======
   "id": "e0feeefe",
>>>>>>> documentation-devel
=======
   "id": "e828bdae",
>>>>>>> 552590ea8fad969b67afdba27558a1e6cb21016e
   "metadata": {
    "lines_to_next_cell": 0
   },
   "source": [
    "There seem to be clusters that are possibly related to cell type. \n",
    "\n",
    "### Negative controls\n",
    "Blank probes are used as negative controls."
   ]
  },
  {
   "cell_type": "code",
   "execution_count": null,
<<<<<<< HEAD
<<<<<<< HEAD
<<<<<<< HEAD
   "id": "ce10ea1f",
||||||| 11b9cb7
   "id": "64945d59",
=======
   "id": "8d1664cc",
>>>>>>> documentation-devel
||||||| 614e9b1
   "id": "8d1664cc",
=======
   "id": "959da802",
>>>>>>> documentation-devel
||||||| 856b4c0
<<<<<<< HEAD
   "id": "ce10ea1f",
||||||| 11b9cb7
   "id": "64945d59",
=======
   "id": "8d1664cc",
>>>>>>> documentation-devel
=======
   "id": "e2e87a83",
>>>>>>> 552590ea8fad969b67afdba27558a1e6cb21016e
   "metadata": {},
   "outputs": [],
   "source": [
    "is_blank <- str_detect(rownames(sfe), \"^Blank-\")"
   ]
  },
  {
   "cell_type": "code",
   "execution_count": null,
<<<<<<< HEAD
<<<<<<< HEAD
<<<<<<< HEAD
   "id": "6b7a251d",
||||||| 11b9cb7
   "id": "336abdc0",
=======
   "id": "d2955410",
>>>>>>> documentation-devel
||||||| 614e9b1
   "id": "d2955410",
=======
   "id": "6a168c52",
>>>>>>> documentation-devel
||||||| 856b4c0
<<<<<<< HEAD
   "id": "6b7a251d",
||||||| 11b9cb7
   "id": "336abdc0",
=======
   "id": "d2955410",
>>>>>>> documentation-devel
=======
   "id": "2e02da42",
>>>>>>> 552590ea8fad969b67afdba27558a1e6cb21016e
   "metadata": {},
   "outputs": [],
   "source": [
    "sfe <- addPerCellQCMetrics(sfe, subset = list(blank = is_blank))"
   ]
  },
  {
   "cell_type": "code",
   "execution_count": null,
<<<<<<< HEAD
<<<<<<< HEAD
<<<<<<< HEAD
   "id": "76a1b4ac",
||||||| 11b9cb7
   "id": "c1eef080",
=======
   "id": "e260f78d",
>>>>>>> documentation-devel
||||||| 614e9b1
   "id": "e260f78d",
=======
   "id": "0cf4a82f",
>>>>>>> documentation-devel
||||||| 856b4c0
<<<<<<< HEAD
   "id": "76a1b4ac",
||||||| 11b9cb7
   "id": "c1eef080",
=======
   "id": "e260f78d",
>>>>>>> documentation-devel
=======
   "id": "fea6e424",
>>>>>>> 552590ea8fad969b67afdba27558a1e6cb21016e
   "metadata": {},
   "outputs": [],
   "source": [
    "names(colData(sfe))"
   ]
  },
  {
   "cell_type": "markdown",
<<<<<<< HEAD
<<<<<<< HEAD
<<<<<<< HEAD
   "id": "de4d53c4",
||||||| 11b9cb7
   "id": "443d860e",
=======
   "id": "965d0819",
>>>>>>> documentation-devel
||||||| 614e9b1
   "id": "965d0819",
=======
   "id": "d042b907",
>>>>>>> documentation-devel
||||||| 856b4c0
<<<<<<< HEAD
   "id": "de4d53c4",
||||||| 11b9cb7
   "id": "443d860e",
=======
   "id": "965d0819",
>>>>>>> documentation-devel
=======
   "id": "d4b654d4",
>>>>>>> 552590ea8fad969b67afdba27558a1e6cb21016e
   "metadata": {
    "lines_to_next_cell": 0
   },
   "source": [
    "Total transcript counts from the blank probes:"
   ]
  },
  {
   "cell_type": "code",
   "execution_count": null,
<<<<<<< HEAD
<<<<<<< HEAD
<<<<<<< HEAD
   "id": "bb1eec98",
||||||| 11b9cb7
   "id": "f74cb707",
=======
   "id": "9de6672b",
>>>>>>> documentation-devel
||||||| 614e9b1
   "id": "9de6672b",
=======
   "id": "676cd4f8",
>>>>>>> documentation-devel
||||||| 856b4c0
<<<<<<< HEAD
   "id": "bb1eec98",
||||||| 11b9cb7
   "id": "f74cb707",
=======
   "id": "9de6672b",
>>>>>>> documentation-devel
=======
   "id": "3a9c912e",
>>>>>>> 552590ea8fad969b67afdba27558a1e6cb21016e
   "metadata": {},
   "outputs": [],
   "source": [
    "plotSpatialFeature(sfe, \"subsets_blank_sum\", colGeometryName = \"centroids\",\n",
    "                   scattermore = TRUE)"
   ]
  },
  {
   "cell_type": "markdown",
<<<<<<< HEAD
<<<<<<< HEAD
<<<<<<< HEAD
   "id": "1af5d15b",
||||||| 11b9cb7
   "id": "29b59f4f",
=======
   "id": "bded34b4",
>>>>>>> documentation-devel
||||||| 614e9b1
   "id": "bded34b4",
=======
   "id": "120ecbbf",
>>>>>>> documentation-devel
||||||| 856b4c0
<<<<<<< HEAD
   "id": "1af5d15b",
||||||| 11b9cb7
   "id": "29b59f4f",
=======
   "id": "bded34b4",
>>>>>>> documentation-devel
=======
   "id": "f7792199",
>>>>>>> 552590ea8fad969b67afdba27558a1e6cb21016e
   "metadata": {
    "lines_to_next_cell": 0
   },
   "source": [
    "Number of blank features detected per cell:"
   ]
  },
  {
   "cell_type": "code",
   "execution_count": null,
<<<<<<< HEAD
<<<<<<< HEAD
<<<<<<< HEAD
   "id": "6faf79ab",
||||||| 11b9cb7
   "id": "b79b6c21",
=======
   "id": "6575e706",
>>>>>>> documentation-devel
||||||| 614e9b1
   "id": "6575e706",
=======
   "id": "5a3465e4",
>>>>>>> documentation-devel
||||||| 856b4c0
<<<<<<< HEAD
   "id": "6faf79ab",
||||||| 11b9cb7
   "id": "b79b6c21",
=======
   "id": "6575e706",
>>>>>>> documentation-devel
=======
   "id": "35d1d9ca",
>>>>>>> 552590ea8fad969b67afdba27558a1e6cb21016e
   "metadata": {},
   "outputs": [],
   "source": [
    "plotSpatialFeature(sfe, \"subsets_blank_detected\", colGeometryName = \"centroids\",\n",
    "                   scattermore = TRUE)"
   ]
  },
  {
   "cell_type": "markdown",
<<<<<<< HEAD
<<<<<<< HEAD
<<<<<<< HEAD
   "id": "34b51384",
||||||| 11b9cb7
   "id": "7189362c",
=======
   "id": "8c858f99",
>>>>>>> documentation-devel
||||||| 614e9b1
   "id": "8c858f99",
=======
   "id": "5619d127",
>>>>>>> documentation-devel
||||||| 856b4c0
<<<<<<< HEAD
   "id": "34b51384",
||||||| 11b9cb7
   "id": "7189362c",
=======
   "id": "8c858f99",
>>>>>>> documentation-devel
=======
   "id": "ccdc8880",
>>>>>>> 552590ea8fad969b67afdba27558a1e6cb21016e
   "metadata": {
    "lines_to_next_cell": 0
   },
   "source": [
    "Percentage of blank features per cell:"
   ]
  },
  {
   "cell_type": "code",
   "execution_count": null,
<<<<<<< HEAD
<<<<<<< HEAD
<<<<<<< HEAD
   "id": "7c0a9abc",
||||||| 11b9cb7
   "id": "771c0515",
=======
   "id": "8b0d932e",
>>>>>>> documentation-devel
||||||| 614e9b1
   "id": "8b0d932e",
=======
   "id": "7bece6a2",
>>>>>>> documentation-devel
||||||| 856b4c0
<<<<<<< HEAD
   "id": "7c0a9abc",
||||||| 11b9cb7
   "id": "771c0515",
=======
   "id": "8b0d932e",
>>>>>>> documentation-devel
=======
   "id": "8b8d04f4",
>>>>>>> 552590ea8fad969b67afdba27558a1e6cb21016e
   "metadata": {},
   "outputs": [],
   "source": [
    "plotSpatialFeature(sfe, \"subsets_blank_percent\", colGeometryName = \"centroids\",\n",
    "                   scattermore = TRUE)"
   ]
  },
  {
   "cell_type": "markdown",
<<<<<<< HEAD
<<<<<<< HEAD
<<<<<<< HEAD
   "id": "c2257db8",
||||||| 11b9cb7
   "id": "7510b5f9",
=======
   "id": "15366482",
>>>>>>> documentation-devel
||||||| 614e9b1
   "id": "15366482",
=======
   "id": "0fdf0e30",
>>>>>>> documentation-devel
||||||| 856b4c0
<<<<<<< HEAD
   "id": "c2257db8",
||||||| 11b9cb7
   "id": "7510b5f9",
=======
   "id": "15366482",
>>>>>>> documentation-devel
=======
   "id": "d5dd641a",
>>>>>>> 552590ea8fad969b67afdba27558a1e6cb21016e
   "metadata": {
    "lines_to_next_cell": 0
   },
   "source": [
    "The percentage is more interesting: within the tissue, cells with high percentage of blank counts are scattered like salt and pepper, but more of these cells are on the left edge of the tissue, the edges of FOVs, where the tissue itself doesn't end. \n",
    "\n",
    "Also plot histograms: "
   ]
  },
  {
   "cell_type": "code",
   "execution_count": null,
<<<<<<< HEAD
<<<<<<< HEAD
<<<<<<< HEAD
   "id": "921683d6",
||||||| 11b9cb7
   "id": "cb17730a",
=======
   "id": "81c83f99",
>>>>>>> documentation-devel
||||||| 614e9b1
   "id": "81c83f99",
=======
   "id": "ce3b84ee",
>>>>>>> documentation-devel
||||||| 856b4c0
<<<<<<< HEAD
   "id": "921683d6",
||||||| 11b9cb7
   "id": "cb17730a",
=======
   "id": "81c83f99",
>>>>>>> documentation-devel
=======
   "id": "13a4d389",
>>>>>>> 552590ea8fad969b67afdba27558a1e6cb21016e
   "metadata": {},
   "outputs": [],
   "source": [
    "plotColDataHistogram(sfe, paste0(\"subsets_blank_\", c(\"sum\", \"detected\", \"percent\")))"
   ]
  },
  {
   "cell_type": "markdown",
<<<<<<< HEAD
<<<<<<< HEAD
<<<<<<< HEAD
   "id": "0c5d2f21",
||||||| 11b9cb7
   "id": "c3624be7",
=======
   "id": "7da7622d",
>>>>>>> documentation-devel
||||||| 614e9b1
   "id": "7da7622d",
=======
   "id": "ce5b05ec",
>>>>>>> documentation-devel
||||||| 856b4c0
<<<<<<< HEAD
   "id": "0c5d2f21",
||||||| 11b9cb7
   "id": "c3624be7",
=======
   "id": "7da7622d",
>>>>>>> documentation-devel
=======
   "id": "a0c2aa94",
>>>>>>> 552590ea8fad969b67afdba27558a1e6cb21016e
   "metadata": {
    "lines_to_next_cell": 0
   },
   "source": [
    "The NA's are cells without any transcript detected. "
   ]
  },
  {
   "cell_type": "code",
   "execution_count": null,
<<<<<<< HEAD
<<<<<<< HEAD
<<<<<<< HEAD
   "id": "158a9f43",
||||||| 11b9cb7
   "id": "2de65728",
=======
   "id": "f1048fcf",
>>>>>>> documentation-devel
||||||| 614e9b1
   "id": "f1048fcf",
=======
   "id": "f42bc7cf",
>>>>>>> documentation-devel
||||||| 856b4c0
<<<<<<< HEAD
   "id": "158a9f43",
||||||| 11b9cb7
   "id": "2de65728",
=======
   "id": "f1048fcf",
>>>>>>> documentation-devel
=======
   "id": "6cdeea8e",
>>>>>>> 552590ea8fad969b67afdba27558a1e6cb21016e
   "metadata": {},
   "outputs": [],
   "source": [
    "mean(sfe$subsets_blank_sum > 0)"
   ]
  },
  {
   "cell_type": "markdown",
<<<<<<< HEAD
<<<<<<< HEAD
<<<<<<< HEAD
   "id": "b17d75b3",
||||||| 11b9cb7
   "id": "1e2cfd0d",
=======
   "id": "b77799c8",
>>>>>>> documentation-devel
||||||| 614e9b1
   "id": "b77799c8",
=======
   "id": "e1700d80",
>>>>>>> documentation-devel
||||||| 856b4c0
<<<<<<< HEAD
   "id": "b17d75b3",
||||||| 11b9cb7
   "id": "1e2cfd0d",
=======
   "id": "b77799c8",
>>>>>>> documentation-devel
=======
   "id": "740eca1d",
>>>>>>> 552590ea8fad969b67afdba27558a1e6cb21016e
   "metadata": {
    "lines_to_next_cell": 0
   },
   "source": [
    "Unlike in the Xenium dataset, here most cells have at least one blank count. By log transforming, the zeroes are removed from the plot. "
   ]
  },
  {
   "cell_type": "code",
   "execution_count": null,
<<<<<<< HEAD
<<<<<<< HEAD
<<<<<<< HEAD
   "id": "fe6e5377",
||||||| 11b9cb7
   "id": "8f0155b7",
=======
   "id": "8f3439ea",
>>>>>>> documentation-devel
||||||| 614e9b1
   "id": "8f3439ea",
=======
   "id": "34ee90ec",
>>>>>>> documentation-devel
||||||| 856b4c0
<<<<<<< HEAD
   "id": "fe6e5377",
||||||| 11b9cb7
   "id": "8f0155b7",
=======
   "id": "8f3439ea",
>>>>>>> documentation-devel
=======
   "id": "a4498fba",
>>>>>>> 552590ea8fad969b67afdba27558a1e6cb21016e
   "metadata": {},
   "outputs": [],
   "source": [
    "plotColDataHistogram(sfe, \"subsets_blank_percent\") +\n",
    "    scale_x_log10() +\n",
    "    annotation_logticks()"
   ]
  },
  {
   "cell_type": "markdown",
<<<<<<< HEAD
<<<<<<< HEAD
<<<<<<< HEAD
   "id": "c9bc9ce8",
||||||| 11b9cb7
   "id": "9c181ef9",
=======
   "id": "9c8629ee",
>>>>>>> documentation-devel
||||||| 614e9b1
   "id": "9c8629ee",
=======
   "id": "a9829daf",
>>>>>>> documentation-devel
||||||| 856b4c0
<<<<<<< HEAD
   "id": "c9bc9ce8",
||||||| 11b9cb7
   "id": "9c181ef9",
=======
   "id": "9c8629ee",
>>>>>>> documentation-devel
=======
   "id": "9acbe237",
>>>>>>> 552590ea8fad969b67afdba27558a1e6cb21016e
   "metadata": {},
   "source": [
    "A small percentage of blank counts is acceptable. So we will remove the outlier based on the distribution of the percentage when it's greater than zero. How does the blank percentage relate to total counts?"
   ]
  },
  {
   "cell_type": "code",
   "execution_count": null,
<<<<<<< HEAD
<<<<<<< HEAD
<<<<<<< HEAD
   "id": "e8a04b6a",
||||||| 11b9cb7
   "id": "d6e7922c",
=======
   "id": "84ecda05",
>>>>>>> documentation-devel
||||||| 614e9b1
   "id": "84ecda05",
=======
   "id": "03efc420",
>>>>>>> documentation-devel
||||||| 856b4c0
<<<<<<< HEAD
   "id": "e8a04b6a",
||||||| 11b9cb7
   "id": "d6e7922c",
=======
   "id": "84ecda05",
>>>>>>> documentation-devel
=======
   "id": "aa3717f3",
>>>>>>> 552590ea8fad969b67afdba27558a1e6cb21016e
   "metadata": {},
   "outputs": [],
   "source": [
    "plotColDataBin2D(sfe, \"nCounts\", \"subsets_blank_percent\") +\n",
    "    scale_fill_viridis_c()"
   ]
  },
  {
   "cell_type": "markdown",
<<<<<<< HEAD
<<<<<<< HEAD
<<<<<<< HEAD
   "id": "dc3015d0",
||||||| 11b9cb7
   "id": "5b77803b",
=======
   "id": "c23f722b",
>>>>>>> documentation-devel
||||||| 614e9b1
   "id": "c23f722b",
=======
   "id": "cc36271b",
>>>>>>> documentation-devel
||||||| 856b4c0
<<<<<<< HEAD
   "id": "dc3015d0",
||||||| 11b9cb7
   "id": "5b77803b",
=======
   "id": "c23f722b",
>>>>>>> documentation-devel
=======
   "id": "706030c7",
>>>>>>> 552590ea8fad969b67afdba27558a1e6cb21016e
   "metadata": {
    "lines_to_next_cell": 0
   },
   "source": [
    "The outliers in percentage of blank counts have low total counts. But there are some seemingly real cells with sizable nCounts which have a relatively high percentage of blank counts. Since the distribution of this percentage has a very long tail, we log transform it when finding outliers."
   ]
  },
  {
   "cell_type": "code",
   "execution_count": null,
<<<<<<< HEAD
<<<<<<< HEAD
<<<<<<< HEAD
   "id": "a11452ac",
||||||| 11b9cb7
   "id": "09eb6b9d",
=======
   "id": "02a6f416",
>>>>>>> documentation-devel
||||||| 614e9b1
   "id": "02a6f416",
=======
   "id": "af218281",
>>>>>>> documentation-devel
||||||| 856b4c0
<<<<<<< HEAD
   "id": "a11452ac",
||||||| 11b9cb7
   "id": "09eb6b9d",
=======
   "id": "02a6f416",
>>>>>>> documentation-devel
=======
   "id": "066fcd14",
>>>>>>> 552590ea8fad969b67afdba27558a1e6cb21016e
   "metadata": {},
   "outputs": [],
   "source": [
    "get_neg_ctrl_outliers <- function(col, sfe, nmads = 3, log = FALSE) {\n",
    "    inds <- colData(sfe)$nCounts > 0 & colData(sfe)[[col]] > 0\n",
    "    df <- colData(sfe)[inds,]\n",
    "    outlier_inds <- isOutlier(df[[col]], type = \"higher\", nmads = nmads, log = log)\n",
    "    outliers <- rownames(df)[outlier_inds]\n",
    "    col2 <- str_remove(col, \"^subsets_\")\n",
    "    col2 <- str_remove(col2, \"_percent$\")\n",
    "    new_colname <- paste(\"is\", col2, \"outlier\", sep = \"_\")\n",
    "    colData(sfe)[[new_colname]] <- colnames(sfe) %in% outliers\n",
    "    sfe\n",
    "}"
   ]
  },
  {
   "cell_type": "code",
   "execution_count": null,
<<<<<<< HEAD
<<<<<<< HEAD
<<<<<<< HEAD
   "id": "caa9d9ae",
||||||| 11b9cb7
   "id": "1cf16859",
=======
   "id": "dd4d4c82",
>>>>>>> documentation-devel
||||||| 614e9b1
   "id": "dd4d4c82",
=======
   "id": "d620b64c",
>>>>>>> documentation-devel
||||||| 856b4c0
<<<<<<< HEAD
   "id": "caa9d9ae",
||||||| 11b9cb7
   "id": "1cf16859",
=======
   "id": "dd4d4c82",
>>>>>>> documentation-devel
=======
   "id": "3bfe35ec",
>>>>>>> 552590ea8fad969b67afdba27558a1e6cb21016e
   "metadata": {},
   "outputs": [],
   "source": [
    "sfe <- get_neg_ctrl_outliers(\"subsets_blank_percent\", sfe, log = TRUE)"
   ]
  },
  {
   "cell_type": "markdown",
<<<<<<< HEAD
<<<<<<< HEAD
<<<<<<< HEAD
   "id": "47552e0f",
||||||| 11b9cb7
   "id": "e2091797",
=======
   "id": "a636cc3b",
>>>>>>> documentation-devel
||||||| 614e9b1
   "id": "a636cc3b",
=======
   "id": "061bc6a7",
>>>>>>> documentation-devel
||||||| 856b4c0
<<<<<<< HEAD
   "id": "47552e0f",
||||||| 11b9cb7
   "id": "e2091797",
=======
   "id": "a636cc3b",
>>>>>>> documentation-devel
=======
   "id": "768a9d2e",
>>>>>>> 552590ea8fad969b67afdba27558a1e6cb21016e
   "metadata": {
    "lines_to_next_cell": 0
   },
   "source": [
    "What proportion of all cells are outliers?"
   ]
  },
  {
   "cell_type": "code",
   "execution_count": null,
<<<<<<< HEAD
<<<<<<< HEAD
<<<<<<< HEAD
   "id": "0eb53501",
||||||| 11b9cb7
   "id": "ee7e74ee",
=======
   "id": "3f6c1651",
>>>>>>> documentation-devel
||||||| 614e9b1
   "id": "3f6c1651",
=======
   "id": "60f0418d",
>>>>>>> documentation-devel
||||||| 856b4c0
<<<<<<< HEAD
   "id": "0eb53501",
||||||| 11b9cb7
   "id": "ee7e74ee",
=======
   "id": "3f6c1651",
>>>>>>> documentation-devel
=======
   "id": "f430d488",
>>>>>>> 552590ea8fad969b67afdba27558a1e6cb21016e
   "metadata": {},
   "outputs": [],
   "source": [
    "mean(sfe$is_blank_outlier)"
   ]
  },
  {
   "cell_type": "markdown",
<<<<<<< HEAD
<<<<<<< HEAD
<<<<<<< HEAD
   "id": "aefacee3",
||||||| 11b9cb7
   "id": "8d434834",
=======
   "id": "9b3bb211",
>>>>>>> documentation-devel
||||||| 614e9b1
   "id": "9b3bb211",
=======
   "id": "d32d39e7",
>>>>>>> documentation-devel
||||||| 856b4c0
<<<<<<< HEAD
   "id": "aefacee3",
||||||| 11b9cb7
   "id": "8d434834",
=======
   "id": "9b3bb211",
>>>>>>> documentation-devel
=======
   "id": "64bb8450",
>>>>>>> 552590ea8fad969b67afdba27558a1e6cb21016e
   "metadata": {
    "lines_to_next_cell": 0
   },
   "source": [
    "What's the cutoff for outlier?"
   ]
  },
  {
   "cell_type": "code",
   "execution_count": null,
<<<<<<< HEAD
<<<<<<< HEAD
<<<<<<< HEAD
   "id": "a453aeb9",
||||||| 11b9cb7
   "id": "84aa6b6f",
=======
   "id": "49bc8a18",
>>>>>>> documentation-devel
||||||| 614e9b1
   "id": "49bc8a18",
=======
   "id": "e64c96ff",
>>>>>>> documentation-devel
||||||| 856b4c0
<<<<<<< HEAD
   "id": "a453aeb9",
||||||| 11b9cb7
   "id": "84aa6b6f",
=======
   "id": "49bc8a18",
>>>>>>> documentation-devel
=======
   "id": "cb39551d",
>>>>>>> 552590ea8fad969b67afdba27558a1e6cb21016e
   "metadata": {},
   "outputs": [],
   "source": [
    "min(sfe$subsets_blank_percent[sfe$is_blank_outlier])"
   ]
  },
  {
   "cell_type": "markdown",
<<<<<<< HEAD
<<<<<<< HEAD
<<<<<<< HEAD
   "id": "00d1786c",
||||||| 11b9cb7
   "id": "33d94ce0",
=======
   "id": "4b8de179",
>>>>>>> documentation-devel
||||||| 614e9b1
   "id": "4b8de179",
=======
   "id": "6d4977e1",
>>>>>>> documentation-devel
||||||| 856b4c0
<<<<<<< HEAD
   "id": "00d1786c",
||||||| 11b9cb7
   "id": "33d94ce0",
=======
   "id": "4b8de179",
>>>>>>> documentation-devel
=======
   "id": "818c5373",
>>>>>>> 552590ea8fad969b67afdba27558a1e6cb21016e
   "metadata": {
    "lines_to_next_cell": 0
   },
   "source": [
    "Remove the outliers and empty cells:"
   ]
  },
  {
   "cell_type": "code",
   "execution_count": null,
<<<<<<< HEAD
<<<<<<< HEAD
<<<<<<< HEAD
   "id": "615639e2",
||||||| 11b9cb7
   "id": "92189e25",
=======
   "id": "83b28ff6",
>>>>>>> documentation-devel
||||||| 614e9b1
   "id": "83b28ff6",
=======
   "id": "3e859730",
>>>>>>> documentation-devel
||||||| 856b4c0
<<<<<<< HEAD
   "id": "615639e2",
||||||| 11b9cb7
   "id": "92189e25",
=======
   "id": "83b28ff6",
>>>>>>> documentation-devel
=======
   "id": "cf51fcca",
>>>>>>> 552590ea8fad969b67afdba27558a1e6cb21016e
   "metadata": {},
   "outputs": [],
   "source": [
    "(sfe <- sfe[, !sfe$is_blank_outlier & sfe$nCounts > 0])"
   ]
  },
  {
   "cell_type": "markdown",
<<<<<<< HEAD
<<<<<<< HEAD
<<<<<<< HEAD
   "id": "dad72fe0",
||||||| 11b9cb7
   "id": "84f7dc35",
=======
   "id": "8db9a539",
>>>>>>> documentation-devel
||||||| 614e9b1
   "id": "8db9a539",
=======
   "id": "a8be299f",
>>>>>>> documentation-devel
||||||| 856b4c0
<<<<<<< HEAD
   "id": "dad72fe0",
||||||| 11b9cb7
   "id": "84f7dc35",
=======
   "id": "8db9a539",
>>>>>>> documentation-devel
=======
   "id": "388dce93",
>>>>>>> 552590ea8fad969b67afdba27558a1e6cb21016e
   "metadata": {
    "lines_to_next_cell": 0
   },
   "source": [
    "There still are over 390,000 cells left after removing the outliers.\n",
    "\n",
    "## Genes\n",
    "Here we look at the mean and variance of each gene:"
   ]
  },
  {
   "cell_type": "code",
   "execution_count": null,
<<<<<<< HEAD
<<<<<<< HEAD
<<<<<<< HEAD
   "id": "ad926d40",
||||||| 11b9cb7
   "id": "aaab2717",
=======
   "id": "e15ecdd2",
>>>>>>> documentation-devel
||||||| 614e9b1
   "id": "e15ecdd2",
=======
   "id": "73c7eba9",
>>>>>>> documentation-devel
||||||| 856b4c0
<<<<<<< HEAD
   "id": "ad926d40",
||||||| 11b9cb7
   "id": "aaab2717",
=======
   "id": "e15ecdd2",
>>>>>>> documentation-devel
=======
   "id": "0af232f4",
>>>>>>> 552590ea8fad969b67afdba27558a1e6cb21016e
   "metadata": {},
   "outputs": [],
   "source": [
    "rowData(sfe)$means <- rowMeans(counts(sfe))\n",
    "rowData(sfe)$vars <- rowVars(counts(sfe))"
   ]
  },
  {
   "cell_type": "code",
   "execution_count": null,
<<<<<<< HEAD
<<<<<<< HEAD
<<<<<<< HEAD
   "id": "ae3e7001",
||||||| 11b9cb7
   "id": "21c54de2",
=======
   "id": "711c4c44",
>>>>>>> documentation-devel
||||||| 614e9b1
   "id": "711c4c44",
=======
   "id": "9b9a7285",
>>>>>>> documentation-devel
||||||| 856b4c0
<<<<<<< HEAD
   "id": "ae3e7001",
||||||| 11b9cb7
   "id": "21c54de2",
=======
   "id": "711c4c44",
>>>>>>> documentation-devel
=======
   "id": "49c0a40b",
>>>>>>> 552590ea8fad969b67afdba27558a1e6cb21016e
   "metadata": {},
   "outputs": [],
   "source": [
    "rowData(sfe)$is_blank <- is_blank\n",
    "plotRowData(sfe, x = \"means\", y = \"is_blank\") +\n",
    "    scale_y_log10() +\n",
    "    annotation_logticks(sides = \"b\")"
   ]
  },
  {
   "cell_type": "markdown",
<<<<<<< HEAD
<<<<<<< HEAD
<<<<<<< HEAD
   "id": "254f01fd",
||||||| 11b9cb7
   "id": "7dcd1ae7",
=======
   "id": "df2924ae",
>>>>>>> documentation-devel
||||||| 614e9b1
   "id": "df2924ae",
=======
   "id": "ef33b350",
>>>>>>> documentation-devel
||||||| 856b4c0
<<<<<<< HEAD
   "id": "254f01fd",
||||||| 11b9cb7
   "id": "7dcd1ae7",
=======
   "id": "df2924ae",
>>>>>>> documentation-devel
=======
   "id": "4c79fa0c",
>>>>>>> 552590ea8fad969b67afdba27558a1e6cb21016e
   "metadata": {
    "lines_to_next_cell": 0
   },
   "source": [
    "Most genes display higher mean expression than blanks, but there is considerable overlap in the distribution, probably because some genes expressed at lower levels or in fewer cells are included.\n",
    "\n",
    "Here the \"real\" genes and negative controls are plotted in different colors:"
   ]
  },
  {
   "cell_type": "code",
   "execution_count": null,
<<<<<<< HEAD
<<<<<<< HEAD
<<<<<<< HEAD
   "id": "ba4091f9",
||||||| 11b9cb7
   "id": "88f71756",
=======
   "id": "62805371",
>>>>>>> documentation-devel
||||||| 614e9b1
   "id": "62805371",
=======
   "id": "7b7918c7",
>>>>>>> documentation-devel
||||||| 856b4c0
<<<<<<< HEAD
   "id": "ba4091f9",
||||||| 11b9cb7
   "id": "88f71756",
=======
   "id": "62805371",
>>>>>>> documentation-devel
=======
   "id": "1d8b2f00",
>>>>>>> 552590ea8fad969b67afdba27558a1e6cb21016e
   "metadata": {},
   "outputs": [],
   "source": [
    "plotRowData(sfe, x = \"means\", y = \"vars\", colour_by = \"is_blank\") +\n",
    "    geom_abline(slope = 1, intercept = 0, color = \"red\") +\n",
    "    scale_x_log10() + scale_y_log10() +\n",
    "    annotation_logticks() +\n",
    "    coord_equal()"
   ]
  },
  {
   "cell_type": "markdown",
<<<<<<< HEAD
<<<<<<< HEAD
<<<<<<< HEAD
   "id": "b6bc7bda",
||||||| 11b9cb7
   "id": "ca6adba2",
=======
   "id": "59bef645",
>>>>>>> documentation-devel
||||||| 614e9b1
   "id": "59bef645",
=======
   "id": "3d6f327b",
>>>>>>> documentation-devel
||||||| 856b4c0
<<<<<<< HEAD
   "id": "b6bc7bda",
||||||| 11b9cb7
   "id": "ca6adba2",
=======
   "id": "59bef645",
>>>>>>> documentation-devel
=======
   "id": "a5521cea",
>>>>>>> 552590ea8fad969b67afdba27558a1e6cb21016e
   "metadata": {
    "lines_to_next_cell": 0
   },
   "source": [
    "The red line $y = x$ is expected when the data follows a Poisson distribution. "
   ]
  },
  {
   "cell_type": "code",
   "execution_count": null,
<<<<<<< HEAD
<<<<<<< HEAD
<<<<<<< HEAD
   "id": "9d883919",
||||||| 11b9cb7
   "id": "85124f4e",
=======
   "id": "2b7482c2",
>>>>>>> documentation-devel
||||||| 614e9b1
   "id": "2b7482c2",
=======
   "id": "d9775989",
>>>>>>> documentation-devel
||||||| 856b4c0
<<<<<<< HEAD
   "id": "9d883919",
||||||| 11b9cb7
   "id": "85124f4e",
=======
   "id": "2b7482c2",
>>>>>>> documentation-devel
=======
   "id": "fdb3d937",
>>>>>>> 552590ea8fad969b67afdba27558a1e6cb21016e
   "metadata": {},
   "outputs": [],
   "source": [
    "as.data.frame(rowData(sfe)[is_blank,]) |> \n",
    "    ggplot(aes(means, vars)) +\n",
    "    geom_point() +\n",
    "    geom_abline(slope = 1, intercept = 0, color = \"red\") +\n",
    "    scale_x_log10() + scale_y_log10() +\n",
    "    annotation_logticks() +\n",
    "    coord_equal()"
   ]
  },
  {
   "cell_type": "markdown",
<<<<<<< HEAD
<<<<<<< HEAD
<<<<<<< HEAD
   "id": "ae8d3cb6",
||||||| 11b9cb7
   "id": "5f5dc23a",
=======
   "id": "d83bfe26",
>>>>>>> documentation-devel
||||||| 614e9b1
   "id": "d83bfe26",
=======
   "id": "72f7c496",
>>>>>>> documentation-devel
||||||| 856b4c0
<<<<<<< HEAD
   "id": "ae8d3cb6",
||||||| 11b9cb7
   "id": "5f5dc23a",
=======
   "id": "d83bfe26",
>>>>>>> documentation-devel
=======
   "id": "50f20b3e",
>>>>>>> 552590ea8fad969b67afdba27558a1e6cb21016e
   "metadata": {
    "lines_to_next_cell": 0
   },
   "source": [
    "When zoomed in, the blanks are somewhat overdispersed.\n",
    "\n",
    "# Spatial autocorrelation of QC metrics\n",
    "\n",
    "Again, we plot that zoomed in patch to visually inspect cell-cell contiguity:"
   ]
  },
  {
   "cell_type": "code",
   "execution_count": null,
<<<<<<< HEAD
<<<<<<< HEAD
<<<<<<< HEAD
   "id": "0f0bc4f5",
||||||| 11b9cb7
   "id": "a2e9ca34",
=======
   "id": "2495bf5b",
>>>>>>> documentation-devel
||||||| 614e9b1
   "id": "2495bf5b",
=======
   "id": "c452e16a",
>>>>>>> documentation-devel
||||||| 856b4c0
<<<<<<< HEAD
   "id": "0f0bc4f5",
||||||| 11b9cb7
   "id": "a2e9ca34",
=======
   "id": "2495bf5b",
>>>>>>> documentation-devel
=======
   "id": "48ef1dc5",
>>>>>>> 552590ea8fad969b67afdba27558a1e6cb21016e
   "metadata": {
    "lines_to_next_cell": 2
   },
   "outputs": [],
   "source": [
    "plotGeometry(sfe, \"cellSeg\", bbox = bbox_use)"
   ]
  },
  {
   "cell_type": "markdown",
<<<<<<< HEAD
<<<<<<< HEAD
<<<<<<< HEAD
   "id": "e42f25f3",
||||||| 11b9cb7
   "id": "226e66d2",
=======
   "id": "aff8473d",
>>>>>>> documentation-devel
||||||| 614e9b1
   "id": "aff8473d",
=======
   "id": "a0120d0e",
>>>>>>> documentation-devel
||||||| 856b4c0
<<<<<<< HEAD
   "id": "e42f25f3",
||||||| 11b9cb7
   "id": "226e66d2",
=======
   "id": "aff8473d",
>>>>>>> documentation-devel
=======
   "id": "71acaff0",
>>>>>>> 552590ea8fad969b67afdba27558a1e6cb21016e
   "metadata": {},
   "source": [
    "There are quite a few cells that are not contiguous to any other cell, and cell segmentation is imperfect, so purely using `poly2nb()` is problematic. In the next release, we might implement a way to blend a polygon contiguity graph with some other graph in case of singletons. For now, we use k nearest neighbors with $k = 5$, which seems like a reasonable approximation of contiguity based on the visual inspection. \n",
    "\n",
    "As of Voyager 1.2.0 (Bioconductor 3.17), `findSpatialNeighbors()` by default uses `BiocNeighbors` for k nearest neighbors and distance neighbors and saving the distances between neighbors. This bypasses the most time consuming step in `spdep` when calculating distance based edge weights, which is to compute distance, hence greatly speeding up computation."
   ]
  },
  {
   "cell_type": "code",
   "execution_count": null,
<<<<<<< HEAD
<<<<<<< HEAD
<<<<<<< HEAD
   "id": "4d23d190",
||||||| 11b9cb7
   "id": "8df85f61",
=======
   "id": "99ee07ad",
>>>>>>> documentation-devel
||||||| 614e9b1
   "id": "99ee07ad",
=======
   "id": "5cdc820f",
>>>>>>> documentation-devel
||||||| 856b4c0
<<<<<<< HEAD
   "id": "4d23d190",
||||||| 11b9cb7
   "id": "8df85f61",
=======
   "id": "99ee07ad",
>>>>>>> documentation-devel
=======
   "id": "abba5c41",
>>>>>>> 552590ea8fad969b67afdba27558a1e6cb21016e
   "metadata": {},
   "outputs": [],
   "source": [
    "system.time(\n",
    "    colGraph(sfe, \"knn5\") <- findSpatialNeighbors(sfe, method = \"knearneigh\", \n",
    "                                                  dist_type = \"idw\", k = 5, \n",
    "                                                  style = \"W\")\n",
    ")"
   ]
  },
  {
   "cell_type": "markdown",
<<<<<<< HEAD
<<<<<<< HEAD
<<<<<<< HEAD
   "id": "d14b8dcc",
||||||| 11b9cb7
   "id": "af675ceb",
=======
   "id": "f266e3ea",
>>>>>>> documentation-devel
||||||| 614e9b1
   "id": "f266e3ea",
=======
   "id": "d50dec52",
>>>>>>> documentation-devel
||||||| 856b4c0
<<<<<<< HEAD
   "id": "d14b8dcc",
||||||| 11b9cb7
   "id": "af675ceb",
=======
   "id": "f266e3ea",
>>>>>>> documentation-devel
=======
   "id": "dd77c647",
>>>>>>> 552590ea8fad969b67afdba27558a1e6cb21016e
   "metadata": {},
   "source": [
    "With the spatial neighborhood graph, we can compute Moran's I for QC metrics."
   ]
  },
  {
   "cell_type": "code",
   "execution_count": null,
<<<<<<< HEAD
<<<<<<< HEAD
<<<<<<< HEAD
   "id": "169598b2",
||||||| 11b9cb7
   "id": "19400393",
=======
   "id": "5fbb22de",
>>>>>>> documentation-devel
||||||| 614e9b1
   "id": "5fbb22de",
=======
   "id": "a4c0e6e5",
>>>>>>> documentation-devel
||||||| 856b4c0
<<<<<<< HEAD
   "id": "169598b2",
||||||| 11b9cb7
   "id": "19400393",
=======
   "id": "5fbb22de",
>>>>>>> documentation-devel
=======
   "id": "853ed885",
>>>>>>> 552590ea8fad969b67afdba27558a1e6cb21016e
   "metadata": {},
   "outputs": [],
   "source": [
    "sfe <- colDataMoransI(sfe, c(\"nCounts\", \"nGenes\", \"volume\"), \n",
    "                      colGraphName = \"knn5\")"
   ]
  },
  {
   "cell_type": "code",
   "execution_count": null,
<<<<<<< HEAD
<<<<<<< HEAD
<<<<<<< HEAD
   "id": "81e61820",
||||||| 11b9cb7
   "id": "429c8dd0",
=======
   "id": "43718fff",
>>>>>>> documentation-devel
||||||| 614e9b1
   "id": "43718fff",
=======
   "id": "0488db5b",
>>>>>>> documentation-devel
||||||| 856b4c0
<<<<<<< HEAD
   "id": "81e61820",
||||||| 11b9cb7
   "id": "429c8dd0",
=======
   "id": "43718fff",
>>>>>>> documentation-devel
=======
   "id": "7b73162e",
>>>>>>> 552590ea8fad969b67afdba27558a1e6cb21016e
   "metadata": {},
   "outputs": [],
   "source": [
    "colFeatureData(sfe)[c(\"nCounts\", \"nGenes\", \"volume\"),]"
   ]
  },
  {
   "cell_type": "markdown",
<<<<<<< HEAD
<<<<<<< HEAD
<<<<<<< HEAD
   "id": "a383165b",
||||||| 11b9cb7
   "id": "db224fbf",
=======
   "id": "b75a7b9b",
>>>>>>> documentation-devel
||||||| 614e9b1
   "id": "b75a7b9b",
=======
   "id": "cdceec6f",
>>>>>>> documentation-devel
||||||| 856b4c0
<<<<<<< HEAD
   "id": "a383165b",
||||||| 11b9cb7
   "id": "db224fbf",
=======
   "id": "b75a7b9b",
>>>>>>> documentation-devel
=======
   "id": "c6e956d6",
>>>>>>> 552590ea8fad969b67afdba27558a1e6cb21016e
   "metadata": {
    "lines_to_next_cell": 0
   },
   "source": [
    "Unlike the other smFISH-based datasets on this website, nCounts and nGenes have sizable negative Moran's I's, which is closer to 0 for volume. It would be interesting to compare these metrics across different tissues, as we add more datasets to `SFEData` in future releases.\n",
    "\n",
    "Also check local Moran's I, since in that little patch we examined above, some regions may have more positive spatial autocorrelation."
   ]
  },
  {
   "cell_type": "code",
   "execution_count": null,
<<<<<<< HEAD
<<<<<<< HEAD
<<<<<<< HEAD
   "id": "0445b8ba",
||||||| 11b9cb7
   "id": "7e3a3e54",
=======
   "id": "2df841f4",
>>>>>>> documentation-devel
||||||| 614e9b1
   "id": "2df841f4",
=======
   "id": "334c307f",
>>>>>>> documentation-devel
||||||| 856b4c0
<<<<<<< HEAD
   "id": "0445b8ba",
||||||| 11b9cb7
   "id": "7e3a3e54",
=======
   "id": "2df841f4",
>>>>>>> documentation-devel
=======
   "id": "b19c4602",
>>>>>>> 552590ea8fad969b67afdba27558a1e6cb21016e
   "metadata": {},
   "outputs": [],
   "source": [
    "sfe <- colDataUnivariate(sfe, type = \"localmoran\", \n",
    "                         features = c(\"nCounts\", \"nGenes\", \"volume\"),\n",
    "                         colGraphName = \"knn5\")"
   ]
  },
  {
   "cell_type": "code",
   "execution_count": null,
<<<<<<< HEAD
<<<<<<< HEAD
<<<<<<< HEAD
   "id": "4166cb3a",
||||||| 11b9cb7
   "id": "f2aada6a",
=======
   "id": "69bb919a",
>>>>>>> documentation-devel
||||||| 614e9b1
   "id": "69bb919a",
=======
   "id": "406ee8c8",
>>>>>>> documentation-devel
||||||| 856b4c0
<<<<<<< HEAD
   "id": "4166cb3a",
||||||| 11b9cb7
   "id": "f2aada6a",
=======
   "id": "69bb919a",
>>>>>>> documentation-devel
=======
   "id": "e8478607",
>>>>>>> 552590ea8fad969b67afdba27558a1e6cb21016e
   "metadata": {
    "fig.height": 7,
    "fig.width": 9
   },
   "outputs": [],
   "source": [
    "plotLocalResult(sfe, \"localmoran\", c(\"nCounts\", \"nGenes\", \"volume\"),\n",
    "                colGeometryName = \"centroids\", scattermore = TRUE,\n",
    "                ncol = 2, divergent = TRUE, diverge_center = 0)"
   ]
  },
  {
   "cell_type": "markdown",
<<<<<<< HEAD
<<<<<<< HEAD
<<<<<<< HEAD
   "id": "6fd0cfba",
||||||| 11b9cb7
   "id": "882b849c",
=======
   "id": "b627ad57",
>>>>>>> documentation-devel
||||||| 614e9b1
   "id": "b627ad57",
=======
   "id": "cc72957d",
>>>>>>> documentation-devel
||||||| 856b4c0
<<<<<<< HEAD
   "id": "6fd0cfba",
||||||| 11b9cb7
   "id": "882b849c",
=======
   "id": "b627ad57",
>>>>>>> documentation-devel
=======
   "id": "1aff17e8",
>>>>>>> 552590ea8fad969b67afdba27558a1e6cb21016e
   "metadata": {
    "lines_to_next_cell": 0
   },
   "source": [
    "There are some niches around smaller blood vessels with positive local Moran's I for nCounts and nGenes. This is most likely due to the more homogeneous endothelial cells compared to hepatocytes.\n",
    "\n",
    "# Moran's I"
   ]
  },
  {
   "cell_type": "code",
   "execution_count": null,
<<<<<<< HEAD
<<<<<<< HEAD
<<<<<<< HEAD
   "id": "f6934a03",
||||||| 11b9cb7
   "id": "e944c2cd",
=======
   "id": "cfddd36d",
>>>>>>> documentation-devel
||||||| 614e9b1
   "id": "cfddd36d",
=======
   "id": "9cbc328a",
>>>>>>> documentation-devel
||||||| 856b4c0
<<<<<<< HEAD
   "id": "f6934a03",
||||||| 11b9cb7
   "id": "e944c2cd",
=======
   "id": "cfddd36d",
>>>>>>> documentation-devel
=======
   "id": "e350e95c",
>>>>>>> 552590ea8fad969b67afdba27558a1e6cb21016e
   "metadata": {},
   "outputs": [],
   "source": [
    "sfe <- logNormCounts(sfe)"
   ]
  },
  {
   "cell_type": "code",
   "execution_count": null,
<<<<<<< HEAD
<<<<<<< HEAD
<<<<<<< HEAD
   "id": "494f479c",
||||||| 11b9cb7
   "id": "0b93ba7b",
=======
   "id": "2fabb1e9",
>>>>>>> documentation-devel
||||||| 614e9b1
   "id": "2fabb1e9",
=======
   "id": "b11937ae",
>>>>>>> documentation-devel
||||||| 856b4c0
<<<<<<< HEAD
   "id": "494f479c",
||||||| 11b9cb7
   "id": "0b93ba7b",
=======
   "id": "2fabb1e9",
>>>>>>> documentation-devel
=======
   "id": "5a780b32",
>>>>>>> 552590ea8fad969b67afdba27558a1e6cb21016e
   "metadata": {},
   "outputs": [],
   "source": [
    "system.time(\n",
    "    sfe <- runMoransI(sfe, BPPARAM = MulticoreParam(2))\n",
    ")"
   ]
  },
  {
   "cell_type": "markdown",
<<<<<<< HEAD
<<<<<<< HEAD
<<<<<<< HEAD
   "id": "f37e3e3b",
||||||| 11b9cb7
   "id": "aa1e822c",
=======
   "id": "d6630ffc",
>>>>>>> documentation-devel
||||||| 614e9b1
   "id": "d6630ffc",
=======
   "id": "3fd52944",
>>>>>>> documentation-devel
||||||| 856b4c0
<<<<<<< HEAD
   "id": "f37e3e3b",
||||||| 11b9cb7
   "id": "aa1e822c",
=======
   "id": "d6630ffc",
>>>>>>> documentation-devel
=======
   "id": "5bbf7825",
>>>>>>> 552590ea8fad969b67afdba27558a1e6cb21016e
   "metadata": {},
   "source": [
    "It's actually not as slow as I thought for almost 400,000 cells. How are Moran's I's distributed for real genes and blank probes?"
   ]
  },
  {
   "cell_type": "code",
   "execution_count": null,
<<<<<<< HEAD
<<<<<<< HEAD
<<<<<<< HEAD
   "id": "07083b85",
||||||| 11b9cb7
   "id": "eaa730c9",
=======
   "id": "393f115a",
>>>>>>> documentation-devel
||||||| 614e9b1
   "id": "393f115a",
=======
   "id": "94ed8511",
>>>>>>> documentation-devel
||||||| 856b4c0
<<<<<<< HEAD
   "id": "07083b85",
||||||| 11b9cb7
   "id": "eaa730c9",
=======
   "id": "393f115a",
>>>>>>> documentation-devel
=======
   "id": "7684bb10",
>>>>>>> 552590ea8fad969b67afdba27558a1e6cb21016e
   "metadata": {},
   "outputs": [],
   "source": [
    "plotRowData(sfe, x = \"moran_sample01\", y = \"is_blank\") +\n",
    "    geom_hline(yintercept = 0, linetype = 2)"
   ]
  },
  {
   "cell_type": "markdown",
<<<<<<< HEAD
<<<<<<< HEAD
<<<<<<< HEAD
   "id": "1e582d7a",
||||||| 11b9cb7
   "id": "f0705ed6",
=======
   "id": "9dcdc0e1",
>>>>>>> documentation-devel
||||||| 614e9b1
   "id": "9dcdc0e1",
=======
   "id": "ae8c0528",
>>>>>>> documentation-devel
||||||| 856b4c0
<<<<<<< HEAD
   "id": "1e582d7a",
||||||| 11b9cb7
   "id": "f0705ed6",
=======
   "id": "9dcdc0e1",
>>>>>>> documentation-devel
=======
   "id": "49c43b06",
>>>>>>> 552590ea8fad969b67afdba27558a1e6cb21016e
   "metadata": {},
   "source": [
    "The blanks are clustered tightly around 0. The vast majority of real genes have positive spatial autocorrelation, some quite strong. But some genes have negative spatial autocorrelation, although it may or may not be statistically significant.\n",
    "\n",
    "Plot the top genes with positive spatial autocorrelation:"
   ]
  },
  {
   "cell_type": "code",
   "execution_count": null,
<<<<<<< HEAD
<<<<<<< HEAD
<<<<<<< HEAD
   "id": "17e8f310",
||||||| 11b9cb7
   "id": "cee34f31",
=======
   "id": "69603a0b",
>>>>>>> documentation-devel
||||||| 614e9b1
   "id": "69603a0b",
=======
   "id": "bbb2f020",
>>>>>>> documentation-devel
||||||| 856b4c0
<<<<<<< HEAD
   "id": "17e8f310",
||||||| 11b9cb7
   "id": "cee34f31",
=======
   "id": "69603a0b",
>>>>>>> documentation-devel
=======
   "id": "962c84f9",
>>>>>>> 552590ea8fad969b67afdba27558a1e6cb21016e
   "metadata": {
    "fig.height": 12,
    "fig.width": 9
   },
   "outputs": [],
   "source": [
    "top_moran <- rownames(sfe)[order(rowData(sfe)$moran_sample01, decreasing = TRUE)[1:6]]\n",
    "plotSpatialFeature(sfe, top_moran, colGeometryName = \"centroids\", scattermore = TRUE,\n",
    "                   ncol = 2)"
   ]
  },
  {
   "cell_type": "markdown",
<<<<<<< HEAD
<<<<<<< HEAD
<<<<<<< HEAD
   "id": "209640ab",
||||||| 11b9cb7
   "id": "ffcf1e7a",
=======
   "id": "05960cc9",
>>>>>>> documentation-devel
||||||| 614e9b1
   "id": "05960cc9",
=======
   "id": "2b0150e3",
>>>>>>> documentation-devel
||||||| 856b4c0
<<<<<<< HEAD
   "id": "209640ab",
||||||| 11b9cb7
   "id": "ffcf1e7a",
=======
   "id": "05960cc9",
>>>>>>> documentation-devel
=======
   "id": "22d9d61e",
>>>>>>> 552590ea8fad969b67afdba27558a1e6cb21016e
   "metadata": {},
   "source": [
    "Unlike in the other smFISH-based cancer datasets on this dataset, the genes with the highest Moran's I highlight different histological regions. Some probably for zones in the hepatic lobule, and some for blood vessels. It would be interesting to compare spatial autocorrelation of marker genes among different tissues and cell types.\n",
    "\n",
    "Negative Moran's I means that nearby cells tend to be more dissimilar to each other. That would be hard to see when plotting the whole tissue section, so we will use that bounding box again. The gene with the most negative Moran's I is compared to one with Moran's I closest to 0."
   ]
  },
  {
   "cell_type": "code",
   "execution_count": null,
<<<<<<< HEAD
<<<<<<< HEAD
<<<<<<< HEAD
   "id": "c5765aa9",
||||||| 11b9cb7
   "id": "c787fab3",
=======
   "id": "aad0b385",
>>>>>>> documentation-devel
||||||| 614e9b1
   "id": "aad0b385",
=======
   "id": "94ebbe5f",
>>>>>>> documentation-devel
||||||| 856b4c0
<<<<<<< HEAD
   "id": "c5765aa9",
||||||| 11b9cb7
   "id": "c787fab3",
=======
   "id": "aad0b385",
>>>>>>> documentation-devel
=======
   "id": "105fe431",
>>>>>>> 552590ea8fad969b67afdba27558a1e6cb21016e
   "metadata": {
    "fig.height": 5,
    "fig.width": 9
   },
   "outputs": [],
   "source": [
    "bottom_moran <- rownames(sfe)[order(rowData(sfe)$moran_sample01)[1]]\n",
    "bottom_abs_moran <- rownames(sfe)[order(abs(rowData(sfe)$moran_sample01))[1]]\n",
    "plotSpatialFeature(sfe, c(bottom_moran, bottom_abs_moran), \n",
    "                   colGeometryName = \"cellSeg\", bbox = bbox_use)"
   ]
  },
  {
   "cell_type": "markdown",
<<<<<<< HEAD
<<<<<<< HEAD
<<<<<<< HEAD
   "id": "a186e4c7",
||||||| 11b9cb7
   "id": "537bd8a0",
=======
   "id": "95c6a36c",
>>>>>>> documentation-devel
||||||| 614e9b1
   "id": "95c6a36c",
=======
   "id": "5b7aec7a",
>>>>>>> documentation-devel
||||||| 856b4c0
<<<<<<< HEAD
   "id": "a186e4c7",
||||||| 11b9cb7
   "id": "537bd8a0",
=======
   "id": "95c6a36c",
>>>>>>> documentation-devel
=======
   "id": "6ba38a6c",
>>>>>>> 552590ea8fad969b67afdba27558a1e6cb21016e
   "metadata": {
    "lines_to_next_cell": 0
   },
   "source": [
    "As expected, the feature with Moran's I closest to 0 is a blank.\n",
    "\n",
    "# Spatial autocorrelation at larger length scales\n",
    "The k nearest neighbor graph used above only concerns 5 cells around each cell, which is a very small neighborhood, over a very small length scale. In the current release of `Voyager`, a correlogram can be computed to get a sense of the length scale of spatial autocorrelation. However, since finding the lag values over higher and higher orders of neighborhoods is very slow for such a large number of cells for higher orders, the correlogram is not very helpful here. In this section, we use some other methods involving binning to explore spatial autocorrelation at larger length scales.\n",
    "\n",
    "## Binning\n",
    "The `sf` package can create polygons in a grid, with which we can bin the cells and their attributes and gene expressions. Here we make a 100 by 100 hexagonal grid in the bounding box of the cell centroids."
   ]
  },
  {
   "cell_type": "code",
   "execution_count": null,
<<<<<<< HEAD
<<<<<<< HEAD
<<<<<<< HEAD
   "id": "ff816a99",
||||||| 11b9cb7
   "id": "55d2f106",
=======
   "id": "9c0c3287",
>>>>>>> documentation-devel
||||||| 614e9b1
   "id": "9c0c3287",
=======
   "id": "7ba989db",
>>>>>>> documentation-devel
||||||| 856b4c0
<<<<<<< HEAD
   "id": "ff816a99",
||||||| 11b9cb7
   "id": "55d2f106",
=======
   "id": "9c0c3287",
>>>>>>> documentation-devel
=======
   "id": "a14dfd84",
>>>>>>> 552590ea8fad969b67afdba27558a1e6cb21016e
   "metadata": {},
   "outputs": [],
   "source": [
    "(bins <- st_make_grid(colGeometry(sfe, \"centroids\"), n = 100, square = FALSE))"
   ]
  },
  {
   "cell_type": "markdown",
<<<<<<< HEAD
<<<<<<< HEAD
<<<<<<< HEAD
   "id": "b5fdd682",
||||||| 11b9cb7
   "id": "dd8dff64",
=======
   "id": "d8b785ca",
>>>>>>> documentation-devel
||||||| 614e9b1
   "id": "d8b785ca",
=======
   "id": "4bf67664",
>>>>>>> documentation-devel
||||||| 856b4c0
<<<<<<< HEAD
   "id": "b5fdd682",
||||||| 11b9cb7
   "id": "dd8dff64",
=======
   "id": "d8b785ca",
>>>>>>> documentation-devel
=======
   "id": "53c87b36",
>>>>>>> 552590ea8fad969b67afdba27558a1e6cb21016e
   "metadata": {
    "lines_to_next_cell": 0
   },
   "source": [
    "Here we use this grid to bin the QC metrics by averaging the values from the cells. Since bins not completely covered by tissue have fewer cells, the mean may be less susceptible to edge effect than the sum, as bins near the edge will have lower sums, which may spuriously increase Moran's I. "
   ]
  },
  {
   "cell_type": "code",
   "execution_count": null,
<<<<<<< HEAD
<<<<<<< HEAD
<<<<<<< HEAD
   "id": "f9d88ffb",
||||||| 11b9cb7
   "id": "b65f7e1c",
=======
   "id": "9dcb4bf4",
>>>>>>> documentation-devel
||||||| 614e9b1
   "id": "9dcb4bf4",
=======
   "id": "dc20f3af",
>>>>>>> documentation-devel
||||||| 856b4c0
<<<<<<< HEAD
   "id": "f9d88ffb",
||||||| 11b9cb7
   "id": "b65f7e1c",
=======
   "id": "9dcb4bf4",
>>>>>>> documentation-devel
=======
   "id": "68c8d0ab",
>>>>>>> 552590ea8fad969b67afdba27558a1e6cb21016e
   "metadata": {},
   "outputs": [],
   "source": [
    "df <- cbind(colGeometry(sfe, \"centroids\"), colData(sfe)[,c(\"nCounts\", \"nGenes\", \"volume\")])\n",
    "df_binned <- aggregate(df, bins, FUN = mean)\n",
    "# Remove bins not containing cells\n",
    "df_binned <- df_binned[!is.na(df_binned$nCounts),]"
   ]
  },
  {
   "cell_type": "markdown",
<<<<<<< HEAD
<<<<<<< HEAD
<<<<<<< HEAD
   "id": "c196db75",
||||||| 11b9cb7
   "id": "7f8e6041",
=======
   "id": "d7001d6b",
>>>>>>> documentation-devel
||||||| 614e9b1
   "id": "d7001d6b",
=======
   "id": "24d8676f",
>>>>>>> documentation-devel
||||||| 856b4c0
<<<<<<< HEAD
   "id": "c196db75",
||||||| 11b9cb7
   "id": "7f8e6041",
=======
   "id": "d7001d6b",
>>>>>>> documentation-devel
=======
   "id": "64ac079d",
>>>>>>> 552590ea8fad969b67afdba27558a1e6cb21016e
   "metadata": {
    "lines_to_next_cell": 0
   },
   "source": [
    "Plot the binned values:"
   ]
  },
  {
   "cell_type": "code",
   "execution_count": null,
<<<<<<< HEAD
<<<<<<< HEAD
<<<<<<< HEAD
   "id": "edf2b712",
||||||| 11b9cb7
   "id": "596a6443",
=======
   "id": "7c6910d2",
>>>>>>> documentation-devel
||||||| 614e9b1
   "id": "7c6910d2",
=======
   "id": "3ad5ef69",
>>>>>>> documentation-devel
||||||| 856b4c0
<<<<<<< HEAD
   "id": "edf2b712",
||||||| 11b9cb7
   "id": "596a6443",
=======
   "id": "7c6910d2",
>>>>>>> documentation-devel
=======
   "id": "0243d293",
>>>>>>> 552590ea8fad969b67afdba27558a1e6cb21016e
   "metadata": {
    "fig.height": 7,
    "fig.width": 9
   },
   "outputs": [],
   "source": [
    "# Not using facet_wrap to give each panel its own color scale\n",
    "plts <- lapply(c(\"nCounts\", \"nGenes\", \"volume\"), function(f) {\n",
    "    ggplot(df_binned[,f]) + geom_sf(aes(fill = .data[[f]]), linewidth = 0) +\n",
    "        scale_fill_distiller(palette = \"Blues\", direction = 1) + theme_void()\n",
    "})\n",
    "wrap_plots(plts, nrow = 2)"
   ]
  },
  {
   "cell_type": "markdown",
<<<<<<< HEAD
<<<<<<< HEAD
<<<<<<< HEAD
   "id": "4cc78f5e",
||||||| 11b9cb7
   "id": "c2d32bb9",
=======
   "id": "1454a561",
>>>>>>> documentation-devel
||||||| 614e9b1
   "id": "1454a561",
=======
   "id": "4810ed7e",
>>>>>>> documentation-devel
||||||| 856b4c0
<<<<<<< HEAD
   "id": "4cc78f5e",
||||||| 11b9cb7
   "id": "c2d32bb9",
=======
   "id": "1454a561",
>>>>>>> documentation-devel
=======
   "id": "8de21123",
>>>>>>> 552590ea8fad969b67afdba27558a1e6cb21016e
   "metadata": {
    "lines_to_next_cell": 0
   },
   "source": [
    "There's an outlier bin not as evident when plotting single cells. There's still some edge effect around blood vessels. This might be truly edge effect, or that endothelial cells tend to have lower values in all 3 variables here.\n",
    "\n",
    "Then compute Moran's I over the binned data, with contiguity neighborhoods. `zero.policy = TRUE` because there are some bins with no neighbors."
   ]
  },
  {
   "cell_type": "code",
   "execution_count": null,
<<<<<<< HEAD
<<<<<<< HEAD
<<<<<<< HEAD
   "id": "03a31ad9",
||||||| 11b9cb7
   "id": "23bb8d97",
=======
   "id": "682f11eb",
>>>>>>> documentation-devel
||||||| 614e9b1
   "id": "682f11eb",
=======
   "id": "b588e543",
>>>>>>> documentation-devel
||||||| 856b4c0
<<<<<<< HEAD
   "id": "03a31ad9",
||||||| 11b9cb7
   "id": "23bb8d97",
=======
   "id": "682f11eb",
>>>>>>> documentation-devel
=======
   "id": "fc1d124b",
>>>>>>> 552590ea8fad969b67afdba27558a1e6cb21016e
   "metadata": {},
   "outputs": [],
   "source": [
    "nb <- poly2nb(df_binned)\n",
    "listw <- nb2listw(nb, zero.policy = TRUE)"
   ]
  },
  {
   "cell_type": "code",
   "execution_count": null,
<<<<<<< HEAD
<<<<<<< HEAD
<<<<<<< HEAD
   "id": "7477f317",
||||||| 11b9cb7
   "id": "d6278a98",
=======
   "id": "3260cba0",
>>>>>>> documentation-devel
||||||| 614e9b1
   "id": "3260cba0",
=======
   "id": "40eea654",
>>>>>>> documentation-devel
||||||| 856b4c0
<<<<<<< HEAD
   "id": "7477f317",
||||||| 11b9cb7
   "id": "d6278a98",
=======
   "id": "3260cba0",
>>>>>>> documentation-devel
=======
   "id": "033a3921",
>>>>>>> 552590ea8fad969b67afdba27558a1e6cb21016e
   "metadata": {},
   "outputs": [],
   "source": [
    "calculateMoransI(t(as.matrix(st_drop_geometry(df_binned[,c(\"nCounts\", \"nGenes\", \"volume\")]))),\n",
    "                 listw = listw, zero.policy = TRUE)"
   ]
  },
  {
   "cell_type": "markdown",
<<<<<<< HEAD
<<<<<<< HEAD
<<<<<<< HEAD
   "id": "45164a93",
||||||| 11b9cb7
   "id": "a0ceaf0e",
=======
   "id": "7ad443c3",
>>>>>>> documentation-devel
||||||| 614e9b1
   "id": "7ad443c3",
=======
   "id": "9d87fdf2",
>>>>>>> documentation-devel
||||||| 856b4c0
<<<<<<< HEAD
   "id": "45164a93",
||||||| 11b9cb7
   "id": "a0ceaf0e",
=======
   "id": "7ad443c3",
>>>>>>> documentation-devel
=======
   "id": "cb0b2e64",
>>>>>>> 552590ea8fad969b67afdba27558a1e6cb21016e
   "metadata": {},
   "source": [
    "At a larger length scale, Moran's I becomes positive. Comparing Moran's I across different sized bins can give a sense of the length scale of spatial autocorrelation. However, there are problems with binning to watch out for:\n",
    "\n",
    "1. Edge effect, especially when using the sum when binning\n",
    "2. Which function to use to aggregate the values when binning\n",
    "3. When using a rectangular grid, whether to use rook or queen neighbors. Rook means two cells are neighbors if they share an edge, while queen means they are neighbors even if they merely share a vertex. \n",
    "\n",
    "While binning can greatly speed up computation of spatial autocorrelation metrics for larger datasets, and is in fact used for Moran's I in Seurat, it can be used for smaller datasets to find length scales of spatial autocorrelation. On the other hand, as seen here, Moran's I can flip signs at different length scales, so for larger datasets, exploring spatial autocorrelation at the cell level would still be interesting.\n",
    "\n",
    "## Semivariogram\n",
    "In geostatistical data, an underlying spatial process is sampled at known locations. Kriging uses a Gaussian process to interpolate the values between the sample locations, and the semivariogram is used to model the spatial dependency between the locations as the covariance of the Gaussian process. When not kriging, the semivariogram can be used as an exploratory data analysis tool to find the length scale and anisotropy of spatial autocorrelation. One of the classic R packages in the geostatistical tradition is [`gstat`](https://cran.r-project.org/web/packages/gstat/index.html), which we use here to find semivariograms, defined as\n",
    "\n",
    "$$\n",
    "\\gamma(t) = \\frac 1 2 \\mathrm{Var}(X_t - X_0),\n",
    "$$\n",
    "\n",
    "where $X$ is the value such as gene expression, and $t$ is a spatial vector. $X_0$ is the value at a location of interest, and $X_t$ is the value lagged by $t$. With positive spatial autocorrelation, the variance would be smaller among nearby values, so the variogram would increase with distance, eventually leveling off when the distance is beyond the length scale of spatial autocorrelation. The \"semi\" comes from the 1/2.\n",
    "\n",
    "In the next release of Voyager, this will be part of `runUnivariate()` so the learning curve for users will be minimal.\n",
    "\n",
    "First we find an empirical variogram assuming that it's the same in all directions. Here the data is binned at distance intervals, so this is much faster than the correlogram at the cell level. The `width` argument controlls the bin size. The `cutoff` argument is the maximum distance to consider. Here we use the defaults. The first argument is a formula; covariates can be specified, but is not done here.\n",
    "\n",
    "With different widths and cutoffs, the variogram can be estimated at different length scales. The `gstat` package can also fit a model to the empirical variogram. See `vgm()` for the different types of models. The [`automap`](https://cran.r-project.org/web/packages/automap/) package can choose a model for the user, and is used here. \n",
    "\n",
    "Unfortunately, `gstat` doesn't scale to 400,000 cells, although it worked for 100,000 cells in the other smFISH-based datasets on this website. But since the variogram is used to explore larger length scales here anyway, we use the binned data here, but the problems with binning will apply."
   ]
  },
  {
   "cell_type": "code",
   "execution_count": null,
<<<<<<< HEAD
<<<<<<< HEAD
<<<<<<< HEAD
   "id": "b2c52279",
||||||| 11b9cb7
   "id": "75387564",
=======
   "id": "8bcdbb4a",
>>>>>>> documentation-devel
||||||| 614e9b1
   "id": "8bcdbb4a",
=======
   "id": "31808726",
>>>>>>> documentation-devel
||||||| 856b4c0
<<<<<<< HEAD
   "id": "b2c52279",
||||||| 11b9cb7
   "id": "75387564",
=======
   "id": "8bcdbb4a",
>>>>>>> documentation-devel
=======
   "id": "07d042bf",
>>>>>>> 552590ea8fad969b67afdba27558a1e6cb21016e
   "metadata": {
    "warning": false
   },
   "outputs": [],
   "source": [
    "# as_Spatial since automap uses old fashioned sp, the predecessor of sf\n",
    "v <- autofitVariogram(nCounts ~ 1, as_Spatial(df_binned))\n",
    "plot(v)"
   ]
  },
  {
   "cell_type": "markdown",
<<<<<<< HEAD
<<<<<<< HEAD
<<<<<<< HEAD
   "id": "433b2f15",
||||||| 11b9cb7
   "id": "bf6ca2d3",
=======
   "id": "229b53ec",
>>>>>>> documentation-devel
||||||| 614e9b1
   "id": "229b53ec",
=======
   "id": "1b5aed67",
>>>>>>> documentation-devel
||||||| 856b4c0
<<<<<<< HEAD
   "id": "433b2f15",
||||||| 11b9cb7
   "id": "bf6ca2d3",
=======
   "id": "229b53ec",
>>>>>>> documentation-devel
=======
   "id": "f39b7bd7",
>>>>>>> 552590ea8fad969b67afdba27558a1e6cb21016e
   "metadata": {
    "lines_to_next_cell": 0
   },
   "source": [
    "The numbers in this plot are the number of pairs in each distance bin. The variogram is not 0 at 0 distance; this is the variance within the bin size, called the nugget. The variogram levels off at greater distance, and the value of the variogram where is levels off is the sill. Range is where the variogram is leveling off, indicating length scale of spatial autocorrelation; the range from visual inspection appears closer to 1000 while the model somehow indicates 423. \n",
    "\n",
    "A variogram map can be made to see how spatial autocorrelation may differ in different directions, i.e. anisotropy"
   ]
  },
  {
   "cell_type": "code",
   "execution_count": null,
<<<<<<< HEAD
<<<<<<< HEAD
<<<<<<< HEAD
   "id": "1430e28f",
||||||| 11b9cb7
   "id": "b81badb3",
=======
   "id": "dbc78d5e",
>>>>>>> documentation-devel
||||||| 614e9b1
   "id": "dbc78d5e",
=======
   "id": "30231ae4",
>>>>>>> documentation-devel
||||||| 856b4c0
<<<<<<< HEAD
   "id": "1430e28f",
||||||| 11b9cb7
   "id": "b81badb3",
=======
   "id": "dbc78d5e",
>>>>>>> documentation-devel
=======
   "id": "90efad92",
>>>>>>> 552590ea8fad969b67afdba27558a1e6cb21016e
   "metadata": {},
   "outputs": [],
   "source": [
    "v2 <- variogram(nCounts ~ 1, data = df_binned, width = 300, cutoff = 4500, map = TRUE)\n",
    "plot(v2)"
   ]
  },
  {
   "cell_type": "markdown",
<<<<<<< HEAD
<<<<<<< HEAD
<<<<<<< HEAD
   "id": "3cec147c",
||||||| 11b9cb7
   "id": "e4623f85",
=======
   "id": "78097b57",
>>>>>>> documentation-devel
||||||| 614e9b1
   "id": "78097b57",
=======
   "id": "ebd9369e",
>>>>>>> documentation-devel
||||||| 856b4c0
<<<<<<< HEAD
   "id": "3cec147c",
||||||| 11b9cb7
   "id": "e4623f85",
=======
   "id": "78097b57",
>>>>>>> documentation-devel
=======
   "id": "828cf241",
>>>>>>> 552590ea8fad969b67afdba27558a1e6cb21016e
   "metadata": {
    "lines_to_next_cell": 0
   },
   "source": [
    "Here apparently there's no anisotropy at shorter length scales, but there may be some artifact from the hexagonal bins. Going beyond 2000 (whatever unit), the variance drops at the northwest and southeast direction but not in other directions, perhaps related to the repetitiveness of the hepatic lobules and the general NE/SW direction of the blood vessels seen in the previous plots. \n",
    "\n",
    "The variogram can also be calculated at specified angles, here selected as sides of the hexagon:"
   ]
  },
  {
   "cell_type": "code",
   "execution_count": null,
<<<<<<< HEAD
<<<<<<< HEAD
<<<<<<< HEAD
   "id": "2b5b6f06",
||||||| 11b9cb7
   "id": "31751aa2",
=======
   "id": "4e08979e",
>>>>>>> documentation-devel
||||||| 614e9b1
   "id": "4e08979e",
=======
   "id": "46b4feda",
>>>>>>> documentation-devel
||||||| 856b4c0
<<<<<<< HEAD
   "id": "2b5b6f06",
||||||| 11b9cb7
   "id": "31751aa2",
=======
   "id": "4e08979e",
>>>>>>> documentation-devel
=======
   "id": "60f5ad73",
>>>>>>> 552590ea8fad969b67afdba27558a1e6cb21016e
   "metadata": {},
   "outputs": [],
   "source": [
    "v3 <- variogram(nCounts ~ 1, df_binned, alpha = c(30, 90, 150))\n",
    "v3_model <- fit.variogram(v3, vgm(\"Ste\"))\n",
    "plot(v3, v3_model)"
   ]
  },
  {
   "cell_type": "markdown",
<<<<<<< HEAD
<<<<<<< HEAD
<<<<<<< HEAD
   "id": "90174308",
||||||| 11b9cb7
   "id": "34382d95",
=======
   "id": "79215808",
>>>>>>> documentation-devel
||||||| 614e9b1
   "id": "79215808",
=======
   "id": "581729cd",
>>>>>>> documentation-devel
||||||| 856b4c0
<<<<<<< HEAD
   "id": "90174308",
||||||| 11b9cb7
   "id": "34382d95",
=======
   "id": "79215808",
>>>>>>> documentation-devel
=======
   "id": "56552d1c",
>>>>>>> 552590ea8fad969b67afdba27558a1e6cb21016e
   "metadata": {},
   "source": [
    "The variogram rises when going beyond 2000 at 30 and 90 degrees and drops at 150 degrees. This is consistent with the variogram map. These differences are averaged out in the omni-directional variogram. `gstat` does not fit anisotropy parameters, so the fitted curve is omni-directional. It fits pretty well below 2000. This is only for nCounts, and may differ for other QC metrics and genes. What if anisotropy varies in space? A problem with the variogram is that it's global, giving one result for the entire dataset, albeit more nuanced than just a number as in Moran's I, because kriging assumes that the data is intrinsically stationary, meaning that the same variogram model applies everywhere, and that spatial dependence only depends on lag between two observations.\n",
    "\n",
    "Voyager 1.2.0 implements `ggplot2` based plotting functions to make better looking and more customizable plots of the variograms for SFE objects. However, the binned data is not in an SFE object. We are considering writing a method to spatially bin all cell level data in an SFE object. Here `gstat` is using `lattice`, a predecessor of `ggplot2` to make facetted plots and has been superseded by `ggplot2`. `gstat` is one of the oldest R packages still on CRAN, dating back to the days of S (prequel of R), although its oldest archive on CRAN is from 2003. `spdep` is also really old; its oldest archive on CRAN is from 2002, but it's still in active development. In using these time honored packages and methods (Moran's I and Geary's C themselves date back to the 1950s and their modern form date back to 1969 [@Cliff1969-wp; @Bivand2013-jx]) on the cool new spatial transcriptomics dataset, we are participating in a glorious tradition, which we will further develop as a spatial analysis tradition forms around spatial -omics data analysis.\n",
    "\n",
    "# PCA for larger datasets\n",
    "There are many ways to do PCA in R, and the [`BiocSingular`](https://bioconductor.org/packages/release/bioc/html/BiocSingular.html) package makes a number of different methods available with a consistent user interface, and it supports out of memory data in `DelayedArray`. According to [this benchmark](https://slowkow.com/notes/pca-benchmark/), `stats::prcomp()` shipped with R is rather slow for larger datasets. The fastest methods are `irlba::irlba()` and `RSpectra::svds()`, and the former is supported by `BiocSingular`. So here we use IRLBA and see how long it takes. Many PCA algorithms involve repeated matrix multiplications. R does not come with optimized BLAS and LAPACK, for portability reasons. However, the BLAS and LAPACK used by R can be changed to an optimized one (here's [how to do it](https://cran.r-project.org/doc/manuals/r-release/R-admin.html#Shared-BLAS)), which will speed up matrix multiplication. "
   ]
  },
  {
   "cell_type": "code",
   "execution_count": null,
<<<<<<< HEAD
<<<<<<< HEAD
<<<<<<< HEAD
   "id": "bd5016a9",
||||||| 11b9cb7
   "id": "301eaccd",
=======
   "id": "8062bfce",
>>>>>>> documentation-devel
||||||| 614e9b1
   "id": "8062bfce",
=======
   "id": "2da910c1",
>>>>>>> documentation-devel
||||||| 856b4c0
<<<<<<< HEAD
   "id": "bd5016a9",
||||||| 11b9cb7
   "id": "301eaccd",
=======
   "id": "8062bfce",
>>>>>>> documentation-devel
=======
   "id": "1a46dce4",
>>>>>>> 552590ea8fad969b67afdba27558a1e6cb21016e
   "metadata": {},
   "outputs": [],
   "source": [
    "set.seed(29)\n",
    "system.time(\n",
    "    sfe <- runPCA(sfe, ncomponents = 20, subset_row = !is_blank,\n",
    "                  exprs_values = \"logcounts\",\n",
    "                  scale = TRUE, BSPARAM = IrlbaParam())\n",
    ")\n",
    "gc()"
   ]
  },
  {
   "cell_type": "markdown",
<<<<<<< HEAD
<<<<<<< HEAD
<<<<<<< HEAD
   "id": "6ef70242",
||||||| 11b9cb7
   "id": "d892a3cc",
=======
   "id": "7dcca162",
>>>>>>> documentation-devel
||||||| 614e9b1
   "id": "7dcca162",
=======
   "id": "5cc056e3",
>>>>>>> documentation-devel
||||||| 856b4c0
<<<<<<< HEAD
   "id": "6ef70242",
||||||| 11b9cb7
   "id": "d892a3cc",
=======
   "id": "7dcca162",
>>>>>>> documentation-devel
=======
   "id": "2e8541ef",
>>>>>>> 552590ea8fad969b67afdba27558a1e6cb21016e
   "metadata": {},
   "source": [
    "That's pretty quick for almost 400,000 cells, but there aren't that many genes here. Use the elbow plot to see variance explained by each PC:"
   ]
  },
  {
   "cell_type": "code",
   "execution_count": null,
<<<<<<< HEAD
<<<<<<< HEAD
<<<<<<< HEAD
   "id": "36442009",
||||||| 11b9cb7
   "id": "474d280b",
=======
   "id": "f5587575",
>>>>>>> documentation-devel
||||||| 614e9b1
   "id": "f5587575",
=======
   "id": "9d54d974",
>>>>>>> documentation-devel
||||||| 856b4c0
<<<<<<< HEAD
   "id": "36442009",
||||||| 11b9cb7
   "id": "474d280b",
=======
   "id": "f5587575",
>>>>>>> documentation-devel
=======
   "id": "3d63b433",
>>>>>>> 552590ea8fad969b67afdba27558a1e6cb21016e
   "metadata": {},
   "outputs": [],
   "source": [
    "ElbowPlot(sfe)"
   ]
  },
  {
   "cell_type": "markdown",
<<<<<<< HEAD
<<<<<<< HEAD
<<<<<<< HEAD
   "id": "9605cf4d",
||||||| 11b9cb7
   "id": "f6c72e4d",
=======
   "id": "a37e7822",
>>>>>>> documentation-devel
||||||| 614e9b1
   "id": "a37e7822",
=======
   "id": "a34595f1",
>>>>>>> documentation-devel
||||||| 856b4c0
<<<<<<< HEAD
   "id": "9605cf4d",
||||||| 11b9cb7
   "id": "f6c72e4d",
=======
   "id": "a37e7822",
>>>>>>> documentation-devel
=======
   "id": "ab1be6a8",
>>>>>>> 552590ea8fad969b67afdba27558a1e6cb21016e
   "metadata": {
    "lines_to_next_cell": 0
   },
   "source": [
    "Plot top gene loadings in each PC"
   ]
  },
  {
   "cell_type": "code",
   "execution_count": null,
<<<<<<< HEAD
<<<<<<< HEAD
<<<<<<< HEAD
   "id": "8fbc63e2",
||||||| 11b9cb7
   "id": "d20b3bc9",
=======
   "id": "fcfb381e",
>>>>>>> documentation-devel
||||||| 614e9b1
   "id": "fcfb381e",
=======
   "id": "69c29e61",
>>>>>>> documentation-devel
||||||| 856b4c0
<<<<<<< HEAD
   "id": "8fbc63e2",
||||||| 11b9cb7
   "id": "d20b3bc9",
=======
   "id": "fcfb381e",
>>>>>>> documentation-devel
=======
   "id": "9eb50ba1",
>>>>>>> 552590ea8fad969b67afdba27558a1e6cb21016e
   "metadata": {},
   "outputs": [],
   "source": [
    "plotDimLoadings(sfe)"
   ]
  },
  {
   "cell_type": "markdown",
<<<<<<< HEAD
<<<<<<< HEAD
<<<<<<< HEAD
   "id": "2f5f598c",
||||||| 11b9cb7
   "id": "329b799e",
=======
   "id": "149d3849",
>>>>>>> documentation-devel
||||||| 614e9b1
   "id": "149d3849",
=======
   "id": "38b75044",
>>>>>>> documentation-devel
||||||| 856b4c0
<<<<<<< HEAD
   "id": "2f5f598c",
||||||| 11b9cb7
   "id": "329b799e",
=======
   "id": "149d3849",
>>>>>>> documentation-devel
=======
   "id": "d2e5d743",
>>>>>>> 552590ea8fad969b67afdba27558a1e6cb21016e
   "metadata": {
    "lines_to_next_cell": 0
   },
   "source": [
    "Many of these genes seem to be related to the endothelium.\n",
    "\n",
    "Plot the first 4 PCs in space"
   ]
  },
  {
   "cell_type": "code",
   "execution_count": null,
<<<<<<< HEAD
<<<<<<< HEAD
<<<<<<< HEAD
   "id": "957a9b90",
||||||| 11b9cb7
   "id": "f5319e41",
=======
   "id": "e4ab3366",
>>>>>>> documentation-devel
||||||| 614e9b1
   "id": "e4ab3366",
=======
   "id": "4002ca55",
>>>>>>> documentation-devel
||||||| 856b4c0
<<<<<<< HEAD
   "id": "957a9b90",
||||||| 11b9cb7
   "id": "f5319e41",
=======
   "id": "e4ab3366",
>>>>>>> documentation-devel
=======
   "id": "238c5519",
>>>>>>> 552590ea8fad969b67afdba27558a1e6cb21016e
   "metadata": {
    "fig.height": 7,
    "fig.width": 9
   },
   "outputs": [],
   "source": [
    "spatialReducedDim(sfe, \"PCA\", 4, colGeometryName = \"centroids\", scattermore = TRUE,\n",
    "                  divergent = TRUE, diverge_center = 0)"
   ]
  },
  {
   "cell_type": "markdown",
<<<<<<< HEAD
<<<<<<< HEAD
<<<<<<< HEAD
   "id": "f7b9e34d",
||||||| 11b9cb7
   "id": "0f43c0c1",
=======
   "id": "edd30bd5",
>>>>>>> documentation-devel
||||||| 614e9b1
   "id": "edd30bd5",
=======
   "id": "9bf26647",
>>>>>>> documentation-devel
||||||| 856b4c0
<<<<<<< HEAD
   "id": "f7b9e34d",
||||||| 11b9cb7
   "id": "0f43c0c1",
=======
   "id": "edd30bd5",
>>>>>>> documentation-devel
=======
   "id": "20927991",
>>>>>>> 552590ea8fad969b67afdba27558a1e6cb21016e
   "metadata": {
    "lines_to_next_cell": 0
   },
   "source": [
    "PC1 and PC4 highlight the major blood vessels, while PC2 and PC3 have less spatial structure. While in the CosMX and Xenium datasets on this website, the top PCs have clear spatial structures despite the absence of spatial information in non-spatial PCA because of clear spatial compartments for some cell types, which does not seem to be the case in this dataset except for the blood vessels. We have seen above that some genes have strong spatial structures. There are some methods for spatially informed PCA, such as MULTISPATI PCA [@Dray2008-en] in the [`adespatial`](https://cran.r-project.org/web/packages/adespatial/index.html) package, which seeks to maximize both variance (as in non-spatial PCA) and Moran's I on each PC. Unlike traditional PCs, where all eigenvalues, signifying variance explained, are positive, MULTISPATI PCA can have negative eigenvalues, which signify negative spatial autocorrelation. The PCs from MULTISPATI PCA with positive eigenvalues are also more spatially coherent than those from non-spatial PCA. For the CosMX and Xenium datasets on this website, the spatial coherence from MULTISPATI might not make a difference, but it might make a difference in this dataset where non-spatial PCs don't show as much spatial structure, at least at the larger scale over the entire tissue section. Voyager 1.2.0 (Bioconductor 3.17) has a faster implementation of MULTISPATI PCA than that of `adespatial`, and is demonstrated in this dataset in [another vignette](https://pachterlab.github.io/voyager/articles/multispati.html).\n",
    "\n",
    "While PC2 and PC3 don't seem to have large scale spatial structure, they may have more local spatial structure not obvious from plotting the entire section, so we zoom into the bounding box:"
   ]
  },
  {
   "cell_type": "code",
   "execution_count": null,
<<<<<<< HEAD
<<<<<<< HEAD
<<<<<<< HEAD
   "id": "bbeea350",
||||||| 11b9cb7
   "id": "50c37431",
=======
   "id": "cf467cb6",
>>>>>>> documentation-devel
||||||| 614e9b1
   "id": "cf467cb6",
=======
   "id": "34bd8c41",
>>>>>>> documentation-devel
||||||| 856b4c0
<<<<<<< HEAD
   "id": "bbeea350",
||||||| 11b9cb7
   "id": "50c37431",
=======
   "id": "cf467cb6",
>>>>>>> documentation-devel
=======
   "id": "39e08c4f",
>>>>>>> 552590ea8fad969b67afdba27558a1e6cb21016e
   "metadata": {
    "fig.height": 5,
    "fig.width": 9
   },
   "outputs": [],
   "source": [
    "spatialReducedDim(sfe, \"PCA\", ncomponents = 2:3, colGeometryName = \"cellSeg\",\n",
    "                  bbox = bbox_use, divergent = TRUE, diverge_center = 0)"
   ]
  },
  {
   "cell_type": "markdown",
<<<<<<< HEAD
<<<<<<< HEAD
<<<<<<< HEAD
   "id": "3433a642",
||||||| 11b9cb7
   "id": "3e9da245",
=======
   "id": "c97b7746",
>>>>>>> documentation-devel
||||||| 614e9b1
   "id": "c97b7746",
=======
   "id": "ea96e3aa",
>>>>>>> documentation-devel
||||||| 856b4c0
<<<<<<< HEAD
   "id": "3433a642",
||||||| 11b9cb7
   "id": "3e9da245",
=======
   "id": "c97b7746",
>>>>>>> documentation-devel
=======
   "id": "5c0b91fe",
>>>>>>> 552590ea8fad969b67afdba27558a1e6cb21016e
   "metadata": {},
   "source": [
    "There's some spatial structure in PC2 and PC3 at a smaller scale, perhaps some negative spatial autocorrelation.\n",
    "\n",
    "Like global Moran's I, PCA and MULTISPATI PCA return one result for the entire dataset. In contrast, [geographically weighted PCA (GWPCA)](https://rdrr.io/cran/GWmodel/man/gwpca.html) [@Harris2015-sr] can account for spatial heterogeneity. GWPCA runs PCA at each spatial location using only the nearby locations weighed by a kernel. The different locations can have different PCs, and the results can be visualized with \"winning variables\" in each PC, i.e. plotting which feature has the highest loading in each PC in space. This most likely doesn't scale to 400,000 cells, but it would still be interesting when performed on spatially binned data. GWPCA might be added in Bioconductor 3.18 and would require some changes in the user interface, because GWPCA is about the features rather than cell embeddings.\n",
    "\n",
    "# More challenges from large datasets\n",
    "Here, despite the numerous cells, the data was loaded into memory. What if the data doesn't fit into memory? We might write a new vignette with `DelayedArray` demonstrating out of memory data analysis for Bioconductor 3.18. This is already supported by `SingleCellExperiment`, which SFE inherits from. However, the geometries, graphs, and local results can take up a lot memory as well. These can possibly be stored in SQL databases and operated on with [`SQLDataFrame`](https://bioconductor.org/packages/release/bioc/html/SQLDataFrame.html). The geometric operations can be handled by [`sedona`](https://github.com/apache/incubator-sedona), although the options are limited compared to GEOS, which performs geometric operations behind the scene for `sf`.\n",
    "\n",
    "Another question can be raised about large spatial transcriptomics data: Is it still a good idea to analyze the entire dataset at once? There must be many interesting and unique neighborhoods that might not get the attention they deserve when the whole dataset is analyzed at once. After all, in the geographical space, national level data is usually not analyzed at the block resolution, although a reason for this is privacy of the subjects. County resolution is often used, but there aren't hundreds of thousands of counties. Many analyses are done for cities and counties with neighborhood resolution; using the largest geographical unit isn't always the most relevant. Back to histological space: How to aggregate cells into larger spatial units? How to decide which scale of spatial units (analogous to nation vs state vs county and etc) is relevant? We have traditional anatomical ontologies, such as from the Allen Brain Atlas, but this isn't available for all tissues. Also, with more single cell -omics data, the traditional ontologies can be improved.\n",
    "\n",
    "Furthermore, there are 3D thick section single cell resolution spatial transcriptomics data, such as from STARmap [@Wang2018-cv] and EASI-FISH [@Wang2021-fv], although the vast majority of spatial -omics data are from thin sections pretty much _de facto_ 2D. As we mostly live on the surface of Earth, there are many more 2D geospatial resources than 3D. However, some methods can in principle be applied to 3D and the existing software primarily made for 2D data might work. For example, GEOS supports 3D data, so in principle 3D geometries in `sf` should work, although there's little documentation on this. Also, k nearest neighbor, Moran's I, variograms, and etc. should in principle work in 3D, and `gstat` officially supports 3D. These are more challenges related to 3D data:\n",
    "\n",
    "1. Even when multiple z-planes are imaged, the resolution is much lower in the z direction than the x and y directions. Then should the z-plane be treated as an attribute or as a coordinate?\n",
    "2. How to make static plots for 3D data for publications? This is more complicated than plotting z-planes separately, since a 3D block can be sectioned from any other direction. Also for interactive visualization, we need to somehow see through the tissue. \n",
    "\n",
    "Finally, the geospatial tradition is only one tradition relevant to large spatial data, and at present `Voyager` only works with vector data. We are uncertain whether raster should be added in a later version, and there are existing tools for large raster data as well, such as [TileDB](https://docs.tiledb.com/geospatial/). Other traditions can be relevant, such as astronomy and image processing, but those are beyond the scope of this package.\n",
    "\n",
    "# Session Info"
   ]
  },
  {
   "cell_type": "code",
   "execution_count": null,
<<<<<<< HEAD
<<<<<<< HEAD
<<<<<<< HEAD
   "id": "156fda73",
||||||| 11b9cb7
   "id": "5c21583e",
=======
   "id": "867079d0",
>>>>>>> documentation-devel
||||||| 614e9b1
   "id": "867079d0",
=======
   "id": "101c2f92",
>>>>>>> documentation-devel
||||||| 856b4c0
<<<<<<< HEAD
   "id": "156fda73",
||||||| 11b9cb7
   "id": "5c21583e",
=======
   "id": "867079d0",
>>>>>>> documentation-devel
=======
   "id": "0a4fc6b8",
>>>>>>> 552590ea8fad969b67afdba27558a1e6cb21016e
   "metadata": {},
   "outputs": [],
   "source": [
    "sessionInfo()"
   ]
  },
  {
   "cell_type": "markdown",
<<<<<<< HEAD
<<<<<<< HEAD
<<<<<<< HEAD
   "id": "e895514c",
||||||| 11b9cb7
   "id": "b72efa47",
=======
   "id": "64d5dfd9",
>>>>>>> documentation-devel
||||||| 614e9b1
   "id": "64d5dfd9",
=======
   "id": "7740cf2c",
>>>>>>> documentation-devel
||||||| 856b4c0
<<<<<<< HEAD
   "id": "e895514c",
||||||| 11b9cb7
   "id": "b72efa47",
=======
   "id": "64d5dfd9",
>>>>>>> documentation-devel
=======
   "id": "66f2c531",
>>>>>>> 552590ea8fad969b67afdba27558a1e6cb21016e
   "metadata": {},
   "source": [
    "# References"
   ]
  }
 ],
 "metadata": {
  "kernelspec": {
   "display_name": "R",
   "language": "R",
   "name": "ir"
  }
 },
 "nbformat": 4,
 "nbformat_minor": 5
}
