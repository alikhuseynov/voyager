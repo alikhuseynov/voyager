{
 "cells": [
  {
   "cell_type": "raw",
<<<<<<< HEAD
<<<<<<< HEAD
<<<<<<< HEAD
<<<<<<< HEAD
<<<<<<< HEAD
<<<<<<< HEAD
<<<<<<< HEAD
   "id": "4e9f254a",
||||||| 6a30bf1
   "id": "dc89983b",
=======
   "id": "52daf079",
>>>>>>> documentation-devel
||||||| d28b18c
   "id": "52daf079",
=======
   "id": "495d5afe",
>>>>>>> documentation-devel
||||||| 6893f63
<<<<<<< HEAD
   "id": "4e9f254a",
||||||| 6a30bf1
   "id": "dc89983b",
=======
   "id": "52daf079",
>>>>>>> documentation-devel
=======
   "id": "d9bce00d",
>>>>>>> c74c98c2450c2a1ba922ed9442f136238d6bc88b
||||||| 6d93b645
   "id": "495d5afe",
=======
   "id": "3c2a8d3d",
>>>>>>> documentation-devel
||||||| 804edffb
<<<<<<< HEAD
<<<<<<< HEAD
<<<<<<< HEAD
   "id": "4e9f254a",
||||||| 6a30bf1
   "id": "dc89983b",
=======
   "id": "52daf079",
>>>>>>> documentation-devel
||||||| d28b18c
   "id": "52daf079",
=======
   "id": "495d5afe",
>>>>>>> documentation-devel
||||||| 6893f63
<<<<<<< HEAD
   "id": "4e9f254a",
||||||| 6a30bf1
   "id": "dc89983b",
=======
   "id": "52daf079",
>>>>>>> documentation-devel
=======
   "id": "d9bce00d",
>>>>>>> c74c98c2450c2a1ba922ed9442f136238d6bc88b
=======
   "id": "e8287cb9",
>>>>>>> 035bb2637984ead2784fecff78c0c60cc4181202
||||||| 3effdfa5
   "id": "3c2a8d3d",
=======
   "id": "3d7c5898",
>>>>>>> documentation-devel
||||||| 96c826da
<<<<<<< HEAD
<<<<<<< HEAD
<<<<<<< HEAD
<<<<<<< HEAD
<<<<<<< HEAD
   "id": "4e9f254a",
||||||| 6a30bf1
   "id": "dc89983b",
=======
   "id": "52daf079",
>>>>>>> documentation-devel
||||||| d28b18c
   "id": "52daf079",
=======
   "id": "495d5afe",
>>>>>>> documentation-devel
||||||| 6893f63
<<<<<<< HEAD
   "id": "4e9f254a",
||||||| 6a30bf1
   "id": "dc89983b",
=======
   "id": "52daf079",
>>>>>>> documentation-devel
=======
   "id": "d9bce00d",
>>>>>>> c74c98c2450c2a1ba922ed9442f136238d6bc88b
||||||| 6d93b645
   "id": "495d5afe",
=======
   "id": "3c2a8d3d",
>>>>>>> documentation-devel
||||||| 804edffb
<<<<<<< HEAD
<<<<<<< HEAD
<<<<<<< HEAD
   "id": "4e9f254a",
||||||| 6a30bf1
   "id": "dc89983b",
=======
   "id": "52daf079",
>>>>>>> documentation-devel
||||||| d28b18c
   "id": "52daf079",
=======
   "id": "495d5afe",
>>>>>>> documentation-devel
||||||| 6893f63
<<<<<<< HEAD
   "id": "4e9f254a",
||||||| 6a30bf1
   "id": "dc89983b",
=======
   "id": "52daf079",
>>>>>>> documentation-devel
=======
   "id": "d9bce00d",
>>>>>>> c74c98c2450c2a1ba922ed9442f136238d6bc88b
=======
   "id": "e8287cb9",
>>>>>>> 035bb2637984ead2784fecff78c0c60cc4181202
=======
   "id": "2bb1cf49",
>>>>>>> 619c01f26351d57ac14d974b7af136ac5756103f
   "metadata": {},
   "source": [
    "---\n",
    "title: \"MERFISH mouse liver dataset and considerations of large data\"\n",
    "author: \"Lambda Moses\"\n",
    "date: \"`r Sys.Date()`\"\n",
    "output: \n",
    "  html_document:\n",
    "  toc: true\n",
    "  toc_float:\n",
    "    collapsed: false\n",
    "  toc_depth: 3\n",
    "bibliography: ref.bib\n",
    "vignette: >\n",
    "  %\\VignetteIndexEntry{merfish}\n",
    "  %\\VignetteEngine{knitr::rmarkdown}\n",
    "  %\\VignetteEncoding{UTF-8}\n",
    "---"
   ]
  },
  {
   "cell_type": "code",
   "execution_count": null,
<<<<<<< HEAD
<<<<<<< HEAD
<<<<<<< HEAD
<<<<<<< HEAD
<<<<<<< HEAD
<<<<<<< HEAD
<<<<<<< HEAD
   "id": "f77951b9",
||||||| 6a30bf1
   "id": "a0974774",
=======
   "id": "7e5e8ef5",
>>>>>>> documentation-devel
||||||| d28b18c
   "id": "7e5e8ef5",
=======
   "id": "a1b3ed8a",
>>>>>>> documentation-devel
||||||| 6893f63
<<<<<<< HEAD
   "id": "f77951b9",
||||||| 6a30bf1
   "id": "a0974774",
=======
   "id": "7e5e8ef5",
>>>>>>> documentation-devel
=======
   "id": "abee2457",
>>>>>>> c74c98c2450c2a1ba922ed9442f136238d6bc88b
||||||| 6d93b645
   "id": "a1b3ed8a",
=======
   "id": "59f11fc7",
>>>>>>> documentation-devel
||||||| 804edffb
<<<<<<< HEAD
<<<<<<< HEAD
<<<<<<< HEAD
   "id": "f77951b9",
||||||| 6a30bf1
   "id": "a0974774",
=======
   "id": "7e5e8ef5",
>>>>>>> documentation-devel
||||||| d28b18c
   "id": "7e5e8ef5",
=======
   "id": "a1b3ed8a",
>>>>>>> documentation-devel
||||||| 6893f63
<<<<<<< HEAD
   "id": "f77951b9",
||||||| 6a30bf1
   "id": "a0974774",
=======
   "id": "7e5e8ef5",
>>>>>>> documentation-devel
=======
   "id": "abee2457",
>>>>>>> c74c98c2450c2a1ba922ed9442f136238d6bc88b
=======
   "id": "b1ef3ace",
>>>>>>> 035bb2637984ead2784fecff78c0c60cc4181202
||||||| 3effdfa5
   "id": "59f11fc7",
=======
   "id": "6e9cdc43",
>>>>>>> documentation-devel
||||||| 96c826da
<<<<<<< HEAD
<<<<<<< HEAD
<<<<<<< HEAD
<<<<<<< HEAD
<<<<<<< HEAD
   "id": "f77951b9",
||||||| 6a30bf1
   "id": "a0974774",
=======
   "id": "7e5e8ef5",
>>>>>>> documentation-devel
||||||| d28b18c
   "id": "7e5e8ef5",
=======
   "id": "a1b3ed8a",
>>>>>>> documentation-devel
||||||| 6893f63
<<<<<<< HEAD
   "id": "f77951b9",
||||||| 6a30bf1
   "id": "a0974774",
=======
   "id": "7e5e8ef5",
>>>>>>> documentation-devel
=======
   "id": "abee2457",
>>>>>>> c74c98c2450c2a1ba922ed9442f136238d6bc88b
||||||| 6d93b645
   "id": "a1b3ed8a",
=======
   "id": "59f11fc7",
>>>>>>> documentation-devel
||||||| 804edffb
<<<<<<< HEAD
<<<<<<< HEAD
<<<<<<< HEAD
   "id": "f77951b9",
||||||| 6a30bf1
   "id": "a0974774",
=======
   "id": "7e5e8ef5",
>>>>>>> documentation-devel
||||||| d28b18c
   "id": "7e5e8ef5",
=======
   "id": "a1b3ed8a",
>>>>>>> documentation-devel
||||||| 6893f63
<<<<<<< HEAD
   "id": "f77951b9",
||||||| 6a30bf1
   "id": "a0974774",
=======
   "id": "7e5e8ef5",
>>>>>>> documentation-devel
=======
   "id": "abee2457",
>>>>>>> c74c98c2450c2a1ba922ed9442f136238d6bc88b
=======
   "id": "b1ef3ace",
>>>>>>> 035bb2637984ead2784fecff78c0c60cc4181202
=======
   "id": "c4d5731e",
>>>>>>> 619c01f26351d57ac14d974b7af136ac5756103f
   "metadata": {
    "tags": [
     "remove_cell"
    ]
   },
   "outputs": [],
   "source": [
    "knitr::opts_chunk$set(\n",
    "  collapse = TRUE,\n",
    "  comment = \"#>\"\n",
    ")"
   ]
  },
  {
   "cell_type": "code",
   "execution_count": null,
<<<<<<< HEAD
<<<<<<< HEAD
<<<<<<< HEAD
<<<<<<< HEAD
<<<<<<< HEAD
<<<<<<< HEAD
<<<<<<< HEAD
   "id": "d9e76db7",
||||||| 6a30bf1
   "id": "d320fa6e",
=======
   "id": "cee8db51",
>>>>>>> documentation-devel
||||||| d28b18c
   "id": "cee8db51",
=======
   "id": "ffdf7165",
>>>>>>> documentation-devel
||||||| 6893f63
<<<<<<< HEAD
   "id": "d9e76db7",
||||||| 6a30bf1
   "id": "d320fa6e",
=======
   "id": "cee8db51",
>>>>>>> documentation-devel
=======
   "id": "21763aa9",
>>>>>>> c74c98c2450c2a1ba922ed9442f136238d6bc88b
||||||| 6d93b645
   "id": "ffdf7165",
=======
   "id": "debe1532",
>>>>>>> documentation-devel
||||||| 804edffb
<<<<<<< HEAD
<<<<<<< HEAD
<<<<<<< HEAD
   "id": "d9e76db7",
||||||| 6a30bf1
   "id": "d320fa6e",
=======
   "id": "cee8db51",
>>>>>>> documentation-devel
||||||| d28b18c
   "id": "cee8db51",
=======
   "id": "ffdf7165",
>>>>>>> documentation-devel
||||||| 6893f63
<<<<<<< HEAD
   "id": "d9e76db7",
||||||| 6a30bf1
   "id": "d320fa6e",
=======
   "id": "cee8db51",
>>>>>>> documentation-devel
=======
   "id": "21763aa9",
>>>>>>> c74c98c2450c2a1ba922ed9442f136238d6bc88b
=======
   "id": "dfd745b3",
>>>>>>> 035bb2637984ead2784fecff78c0c60cc4181202
||||||| 3effdfa5
   "id": "debe1532",
=======
   "id": "09222e3c",
>>>>>>> documentation-devel
||||||| 96c826da
<<<<<<< HEAD
<<<<<<< HEAD
<<<<<<< HEAD
<<<<<<< HEAD
<<<<<<< HEAD
   "id": "d9e76db7",
||||||| 6a30bf1
   "id": "d320fa6e",
=======
   "id": "cee8db51",
>>>>>>> documentation-devel
||||||| d28b18c
   "id": "cee8db51",
=======
   "id": "ffdf7165",
>>>>>>> documentation-devel
||||||| 6893f63
<<<<<<< HEAD
   "id": "d9e76db7",
||||||| 6a30bf1
   "id": "d320fa6e",
=======
   "id": "cee8db51",
>>>>>>> documentation-devel
=======
   "id": "21763aa9",
>>>>>>> c74c98c2450c2a1ba922ed9442f136238d6bc88b
||||||| 6d93b645
   "id": "ffdf7165",
=======
   "id": "debe1532",
>>>>>>> documentation-devel
||||||| 804edffb
<<<<<<< HEAD
<<<<<<< HEAD
<<<<<<< HEAD
   "id": "d9e76db7",
||||||| 6a30bf1
   "id": "d320fa6e",
=======
   "id": "cee8db51",
>>>>>>> documentation-devel
||||||| d28b18c
   "id": "cee8db51",
=======
   "id": "ffdf7165",
>>>>>>> documentation-devel
||||||| 6893f63
<<<<<<< HEAD
   "id": "d9e76db7",
||||||| 6a30bf1
   "id": "d320fa6e",
=======
   "id": "cee8db51",
>>>>>>> documentation-devel
=======
   "id": "21763aa9",
>>>>>>> c74c98c2450c2a1ba922ed9442f136238d6bc88b
=======
   "id": "dfd745b3",
>>>>>>> 035bb2637984ead2784fecff78c0c60cc4181202
=======
   "id": "a32742d0",
>>>>>>> 619c01f26351d57ac14d974b7af136ac5756103f
   "metadata": {
    "eval": false,
    "tags": [
     "remove_cell"
    ]
   },
   "outputs": [],
   "source": [
    "# Install Google Colab dependencies\n",
    "# Note: this can take 30+ minutes (many of the dependencies include C++ code, which needs to be compiled)\n",
    "\n",
    "# First install `sf`, `ragg` and `textshaping` and their system dependencies:\n",
    "system(\"apt-get -y update && apt-get install -y  libudunits2-dev libgdal-dev libgeos-dev libproj-dev libharfbuzz-dev libfribidi-dev\")\n",
    "install.packages(\"sf\")\n",
    "install.packages(\"textshaping\")\n",
    "install.packages(\"ragg\")\n",
    "\n",
    "# Install system dependencies of some other R packages that Voyager either imports or suggests:\n",
    "system(\"apt-get install -y libfribidi-dev libcairo2-dev libmagick++-dev\")\n",
    "\n",
    "# Install Voyager from Bioconductor:\n",
    "install.packages(\"BiocManager\")\n",
    "BiocManager::install(version = \"3.17\", ask = FALSE, update = FALSE, Ncpus = 2)\n",
    "BiocManager::install(\"scater\")\n",
    "system.time(\n",
    "  BiocManager::install(\"Voyager\", dependencies = TRUE, Ncpus = 2, update = FALSE)\n",
    ")\n",
    "\n",
    "packageVersion(\"Voyager\")"
   ]
  },
  {
   "cell_type": "markdown",
<<<<<<< HEAD
<<<<<<< HEAD
<<<<<<< HEAD
<<<<<<< HEAD
<<<<<<< HEAD
<<<<<<< HEAD
<<<<<<< HEAD
   "id": "21b1b165",
||||||| 6a30bf1
   "id": "3fc1b7fe",
=======
   "id": "b6876822",
>>>>>>> documentation-devel
||||||| d28b18c
   "id": "b6876822",
=======
   "id": "b7195fd3",
>>>>>>> documentation-devel
||||||| 6893f63
<<<<<<< HEAD
   "id": "21b1b165",
||||||| 6a30bf1
   "id": "3fc1b7fe",
=======
   "id": "b6876822",
>>>>>>> documentation-devel
=======
   "id": "4e283cf2",
>>>>>>> c74c98c2450c2a1ba922ed9442f136238d6bc88b
||||||| 6d93b645
   "id": "b7195fd3",
=======
   "id": "d2d39a30",
>>>>>>> documentation-devel
||||||| 804edffb
<<<<<<< HEAD
<<<<<<< HEAD
<<<<<<< HEAD
   "id": "21b1b165",
||||||| 6a30bf1
   "id": "3fc1b7fe",
=======
   "id": "b6876822",
>>>>>>> documentation-devel
||||||| d28b18c
   "id": "b6876822",
=======
   "id": "b7195fd3",
>>>>>>> documentation-devel
||||||| 6893f63
<<<<<<< HEAD
   "id": "21b1b165",
||||||| 6a30bf1
   "id": "3fc1b7fe",
=======
   "id": "b6876822",
>>>>>>> documentation-devel
=======
   "id": "4e283cf2",
>>>>>>> c74c98c2450c2a1ba922ed9442f136238d6bc88b
=======
   "id": "139b4a3f",
>>>>>>> 035bb2637984ead2784fecff78c0c60cc4181202
||||||| 3effdfa5
   "id": "d2d39a30",
=======
   "id": "594a4713",
>>>>>>> documentation-devel
||||||| 96c826da
<<<<<<< HEAD
<<<<<<< HEAD
<<<<<<< HEAD
<<<<<<< HEAD
<<<<<<< HEAD
   "id": "21b1b165",
||||||| 6a30bf1
   "id": "3fc1b7fe",
=======
   "id": "b6876822",
>>>>>>> documentation-devel
||||||| d28b18c
   "id": "b6876822",
=======
   "id": "b7195fd3",
>>>>>>> documentation-devel
||||||| 6893f63
<<<<<<< HEAD
   "id": "21b1b165",
||||||| 6a30bf1
   "id": "3fc1b7fe",
=======
   "id": "b6876822",
>>>>>>> documentation-devel
=======
   "id": "4e283cf2",
>>>>>>> c74c98c2450c2a1ba922ed9442f136238d6bc88b
||||||| 6d93b645
   "id": "b7195fd3",
=======
   "id": "d2d39a30",
>>>>>>> documentation-devel
||||||| 804edffb
<<<<<<< HEAD
<<<<<<< HEAD
<<<<<<< HEAD
   "id": "21b1b165",
||||||| 6a30bf1
   "id": "3fc1b7fe",
=======
   "id": "b6876822",
>>>>>>> documentation-devel
||||||| d28b18c
   "id": "b6876822",
=======
   "id": "b7195fd3",
>>>>>>> documentation-devel
||||||| 6893f63
<<<<<<< HEAD
   "id": "21b1b165",
||||||| 6a30bf1
   "id": "3fc1b7fe",
=======
   "id": "b6876822",
>>>>>>> documentation-devel
=======
   "id": "4e283cf2",
>>>>>>> c74c98c2450c2a1ba922ed9442f136238d6bc88b
=======
   "id": "139b4a3f",
>>>>>>> 035bb2637984ead2784fecff78c0c60cc4181202
=======
   "id": "398909ad",
>>>>>>> 619c01f26351d57ac14d974b7af136ac5756103f
   "metadata": {
    "lines_to_next_cell": 0
   },
   "source": [
    "# Introduction\n",
    "\n",
    "The `SpatialFeatureExperiment` (SFE) and `Voyager` packages were originally developed around a relatively small Visium dataset as a proof of concept, and were hence not originally optimized for very large datasets. However, larger smFISH datasets with hundreds of thousands, sometimes over a million cells have already been produced and will soon be produced routinely. Among studies using smFISH-based spatial transcriptomics technologies that reported the number of cells per dataset, the number of cells per dataset has increased in the past years [@Moses2022-xz].\n",
    "![alt](https://pachterlab.github.io/LP_2021/05-current-techs_files/figure-html/smfish-lm-cell-1.png)\n",
    "\n",
    "In anticipation of large datasets, this vignette was produced using limited GitHub Actions resources (MacOS), which are 14 GB of RAM with 3 CPU cores and 14 GB of disk space, comparable to laptops. We therefore expect that the analyses in this vignette should scale to reasonably sized datasets.  \n",
    "\n",
    "The dataset we use in this vignette is a MERFISH mouse liver dataset downloaded from the [Vizgen website](https://console.cloud.google.com/storage/browser/vz-liver-showcase/Liver1Slice1). We will use it to discuss some issues with large datasets and some upcoming features in the next release of `Voyager`. The gene count matrix and cell metadata (including centroid coordinates) were downloaded as CSV files and read into R. While 7 z-planes were imaged, cell segmentation is only available in one z-plane. The cell polygons are in HDF5 files, with one HDF5 file per field of view (FOV), and there are over 1000 FOVs in this dataset. Converting these HDF5 files into an `sf` data frame is not trivial. See the [vignette on creating a `SpatialFeatureExperiment` (SFE) object](https://pachterlab.github.io/voyager/articles/create_sfe.html#technology-specific-notes) for code used to do the conversion, and the polygons are included in the SFE object. The cell metadata already has cell volume. If the polygons are not used in the analyses, and the polygons can't be seen on a static plot with hundreds of thousands of cells anyway, then doing the conversion is optional. While the transcript spot locations are available, we cannot yet work with such a large point dataset.\n",
    "\n",
    "Here we load the packages used. "
   ]
  },
  {
   "cell_type": "code",
   "execution_count": null,
<<<<<<< HEAD
<<<<<<< HEAD
<<<<<<< HEAD
<<<<<<< HEAD
<<<<<<< HEAD
<<<<<<< HEAD
<<<<<<< HEAD
   "id": "18bdd6c0",
||||||| 6a30bf1
   "id": "7473b10a",
=======
   "id": "9f22b051",
>>>>>>> documentation-devel
||||||| d28b18c
   "id": "9f22b051",
=======
   "id": "853ecc59",
>>>>>>> documentation-devel
||||||| 6893f63
<<<<<<< HEAD
   "id": "18bdd6c0",
||||||| 6a30bf1
   "id": "7473b10a",
=======
   "id": "9f22b051",
>>>>>>> documentation-devel
=======
   "id": "39b903b5",
>>>>>>> c74c98c2450c2a1ba922ed9442f136238d6bc88b
||||||| 6d93b645
   "id": "853ecc59",
=======
   "id": "73150132",
>>>>>>> documentation-devel
||||||| 804edffb
<<<<<<< HEAD
<<<<<<< HEAD
<<<<<<< HEAD
   "id": "18bdd6c0",
||||||| 6a30bf1
   "id": "7473b10a",
=======
   "id": "9f22b051",
>>>>>>> documentation-devel
||||||| d28b18c
   "id": "9f22b051",
=======
   "id": "853ecc59",
>>>>>>> documentation-devel
||||||| 6893f63
<<<<<<< HEAD
   "id": "18bdd6c0",
||||||| 6a30bf1
   "id": "7473b10a",
=======
   "id": "9f22b051",
>>>>>>> documentation-devel
=======
   "id": "39b903b5",
>>>>>>> c74c98c2450c2a1ba922ed9442f136238d6bc88b
=======
   "id": "4119ff31",
>>>>>>> 035bb2637984ead2784fecff78c0c60cc4181202
||||||| 3effdfa5
   "id": "73150132",
=======
   "id": "d0af5638",
>>>>>>> documentation-devel
||||||| 96c826da
<<<<<<< HEAD
<<<<<<< HEAD
<<<<<<< HEAD
<<<<<<< HEAD
<<<<<<< HEAD
   "id": "18bdd6c0",
||||||| 6a30bf1
   "id": "7473b10a",
=======
   "id": "9f22b051",
>>>>>>> documentation-devel
||||||| d28b18c
   "id": "9f22b051",
=======
   "id": "853ecc59",
>>>>>>> documentation-devel
||||||| 6893f63
<<<<<<< HEAD
   "id": "18bdd6c0",
||||||| 6a30bf1
   "id": "7473b10a",
=======
   "id": "9f22b051",
>>>>>>> documentation-devel
=======
   "id": "39b903b5",
>>>>>>> c74c98c2450c2a1ba922ed9442f136238d6bc88b
||||||| 6d93b645
   "id": "853ecc59",
=======
   "id": "73150132",
>>>>>>> documentation-devel
||||||| 804edffb
<<<<<<< HEAD
<<<<<<< HEAD
<<<<<<< HEAD
   "id": "18bdd6c0",
||||||| 6a30bf1
   "id": "7473b10a",
=======
   "id": "9f22b051",
>>>>>>> documentation-devel
||||||| d28b18c
   "id": "9f22b051",
=======
   "id": "853ecc59",
>>>>>>> documentation-devel
||||||| 6893f63
<<<<<<< HEAD
   "id": "18bdd6c0",
||||||| 6a30bf1
   "id": "7473b10a",
=======
   "id": "9f22b051",
>>>>>>> documentation-devel
=======
   "id": "39b903b5",
>>>>>>> c74c98c2450c2a1ba922ed9442f136238d6bc88b
=======
   "id": "4119ff31",
>>>>>>> 035bb2637984ead2784fecff78c0c60cc4181202
=======
   "id": "5bd13fcd",
>>>>>>> 619c01f26351d57ac14d974b7af136ac5756103f
   "metadata": {
    "name": "setup"
   },
   "outputs": [],
   "source": [
    "library(Voyager)\n",
    "library(SFEData)\n",
    "library(SingleCellExperiment)\n",
    "library(SpatialExperiment)\n",
    "library(scater) \n",
    "library(ggplot2)\n",
    "library(patchwork)\n",
    "library(stringr)\n",
    "library(spdep)\n",
    "library(BiocParallel)\n",
    "library(BiocSingular)\n",
    "library(gstat)\n",
    "library(BiocNeighbors)\n",
    "library(sf)\n",
    "library(automap)\n",
    "theme_set(theme_bw())"
   ]
  },
  {
   "cell_type": "code",
   "execution_count": null,
<<<<<<< HEAD
<<<<<<< HEAD
<<<<<<< HEAD
<<<<<<< HEAD
<<<<<<< HEAD
<<<<<<< HEAD
<<<<<<< HEAD
   "id": "a328c473",
||||||| 6a30bf1
   "id": "ff8e392b",
=======
   "id": "4cb235b0",
>>>>>>> documentation-devel
||||||| d28b18c
   "id": "4cb235b0",
=======
   "id": "6793c188",
>>>>>>> documentation-devel
||||||| 6893f63
<<<<<<< HEAD
   "id": "a328c473",
||||||| 6a30bf1
   "id": "ff8e392b",
=======
   "id": "4cb235b0",
>>>>>>> documentation-devel
=======
   "id": "9149dc68",
>>>>>>> c74c98c2450c2a1ba922ed9442f136238d6bc88b
||||||| 6d93b645
   "id": "6793c188",
=======
   "id": "bcb78999",
>>>>>>> documentation-devel
||||||| 804edffb
<<<<<<< HEAD
<<<<<<< HEAD
<<<<<<< HEAD
   "id": "a328c473",
||||||| 6a30bf1
   "id": "ff8e392b",
=======
   "id": "4cb235b0",
>>>>>>> documentation-devel
||||||| d28b18c
   "id": "4cb235b0",
=======
   "id": "6793c188",
>>>>>>> documentation-devel
||||||| 6893f63
<<<<<<< HEAD
   "id": "a328c473",
||||||| 6a30bf1
   "id": "ff8e392b",
=======
   "id": "4cb235b0",
>>>>>>> documentation-devel
=======
   "id": "9149dc68",
>>>>>>> c74c98c2450c2a1ba922ed9442f136238d6bc88b
=======
   "id": "cde5f0ed",
>>>>>>> 035bb2637984ead2784fecff78c0c60cc4181202
||||||| 3effdfa5
   "id": "bcb78999",
=======
   "id": "d46ea1dc",
>>>>>>> documentation-devel
||||||| 96c826da
<<<<<<< HEAD
<<<<<<< HEAD
<<<<<<< HEAD
<<<<<<< HEAD
<<<<<<< HEAD
   "id": "a328c473",
||||||| 6a30bf1
   "id": "ff8e392b",
=======
   "id": "4cb235b0",
>>>>>>> documentation-devel
||||||| d28b18c
   "id": "4cb235b0",
=======
   "id": "6793c188",
>>>>>>> documentation-devel
||||||| 6893f63
<<<<<<< HEAD
   "id": "a328c473",
||||||| 6a30bf1
   "id": "ff8e392b",
=======
   "id": "4cb235b0",
>>>>>>> documentation-devel
=======
   "id": "9149dc68",
>>>>>>> c74c98c2450c2a1ba922ed9442f136238d6bc88b
||||||| 6d93b645
   "id": "6793c188",
=======
   "id": "bcb78999",
>>>>>>> documentation-devel
||||||| 804edffb
<<<<<<< HEAD
<<<<<<< HEAD
<<<<<<< HEAD
   "id": "a328c473",
||||||| 6a30bf1
   "id": "ff8e392b",
=======
   "id": "4cb235b0",
>>>>>>> documentation-devel
||||||| d28b18c
   "id": "4cb235b0",
=======
   "id": "6793c188",
>>>>>>> documentation-devel
||||||| 6893f63
<<<<<<< HEAD
   "id": "a328c473",
||||||| 6a30bf1
   "id": "ff8e392b",
=======
   "id": "4cb235b0",
>>>>>>> documentation-devel
=======
   "id": "9149dc68",
>>>>>>> c74c98c2450c2a1ba922ed9442f136238d6bc88b
=======
   "id": "cde5f0ed",
>>>>>>> 035bb2637984ead2784fecff78c0c60cc4181202
=======
   "id": "c45cebf2",
>>>>>>> 619c01f26351d57ac14d974b7af136ac5756103f
   "metadata": {},
   "outputs": [],
   "source": [
    "(sfe <- VizgenLiverData())"
   ]
  },
  {
   "cell_type": "markdown",
<<<<<<< HEAD
<<<<<<< HEAD
<<<<<<< HEAD
<<<<<<< HEAD
<<<<<<< HEAD
<<<<<<< HEAD
<<<<<<< HEAD
   "id": "04e6561a",
||||||| 6a30bf1
   "id": "37ffbef9",
=======
   "id": "af7b8334",
>>>>>>> documentation-devel
||||||| d28b18c
   "id": "af7b8334",
=======
   "id": "739cbf31",
>>>>>>> documentation-devel
||||||| 6893f63
<<<<<<< HEAD
   "id": "04e6561a",
||||||| 6a30bf1
   "id": "37ffbef9",
=======
   "id": "af7b8334",
>>>>>>> documentation-devel
=======
   "id": "0d8848b7",
>>>>>>> c74c98c2450c2a1ba922ed9442f136238d6bc88b
||||||| 6d93b645
   "id": "739cbf31",
=======
   "id": "e5c8b407",
>>>>>>> documentation-devel
||||||| 804edffb
<<<<<<< HEAD
<<<<<<< HEAD
<<<<<<< HEAD
   "id": "04e6561a",
||||||| 6a30bf1
   "id": "37ffbef9",
=======
   "id": "af7b8334",
>>>>>>> documentation-devel
||||||| d28b18c
   "id": "af7b8334",
=======
   "id": "739cbf31",
>>>>>>> documentation-devel
||||||| 6893f63
<<<<<<< HEAD
   "id": "04e6561a",
||||||| 6a30bf1
   "id": "37ffbef9",
=======
   "id": "af7b8334",
>>>>>>> documentation-devel
=======
   "id": "0d8848b7",
>>>>>>> c74c98c2450c2a1ba922ed9442f136238d6bc88b
=======
   "id": "ac53c56b",
>>>>>>> 035bb2637984ead2784fecff78c0c60cc4181202
||||||| 3effdfa5
   "id": "e5c8b407",
=======
   "id": "cb403509",
>>>>>>> documentation-devel
||||||| 96c826da
<<<<<<< HEAD
<<<<<<< HEAD
<<<<<<< HEAD
<<<<<<< HEAD
<<<<<<< HEAD
   "id": "04e6561a",
||||||| 6a30bf1
   "id": "37ffbef9",
=======
   "id": "af7b8334",
>>>>>>> documentation-devel
||||||| d28b18c
   "id": "af7b8334",
=======
   "id": "739cbf31",
>>>>>>> documentation-devel
||||||| 6893f63
<<<<<<< HEAD
   "id": "04e6561a",
||||||| 6a30bf1
   "id": "37ffbef9",
=======
   "id": "af7b8334",
>>>>>>> documentation-devel
=======
   "id": "0d8848b7",
>>>>>>> c74c98c2450c2a1ba922ed9442f136238d6bc88b
||||||| 6d93b645
   "id": "739cbf31",
=======
   "id": "e5c8b407",
>>>>>>> documentation-devel
||||||| 804edffb
<<<<<<< HEAD
<<<<<<< HEAD
<<<<<<< HEAD
   "id": "04e6561a",
||||||| 6a30bf1
   "id": "37ffbef9",
=======
   "id": "af7b8334",
>>>>>>> documentation-devel
||||||| d28b18c
   "id": "af7b8334",
=======
   "id": "739cbf31",
>>>>>>> documentation-devel
||||||| 6893f63
<<<<<<< HEAD
   "id": "04e6561a",
||||||| 6a30bf1
   "id": "37ffbef9",
=======
   "id": "af7b8334",
>>>>>>> documentation-devel
=======
   "id": "0d8848b7",
>>>>>>> c74c98c2450c2a1ba922ed9442f136238d6bc88b
=======
   "id": "ac53c56b",
>>>>>>> 035bb2637984ead2784fecff78c0c60cc4181202
=======
   "id": "722a0751",
>>>>>>> 619c01f26351d57ac14d974b7af136ac5756103f
   "metadata": {
    "lines_to_next_cell": 0
   },
   "source": [
    "There are 395,215 cells in this dataset. Plotting them all as polygons takes a while, but it isn't too bad."
   ]
  },
  {
   "cell_type": "code",
   "execution_count": null,
<<<<<<< HEAD
<<<<<<< HEAD
<<<<<<< HEAD
<<<<<<< HEAD
<<<<<<< HEAD
<<<<<<< HEAD
<<<<<<< HEAD
   "id": "8e2d2d60",
||||||| 6a30bf1
   "id": "571cd66e",
=======
   "id": "2ee89eb6",
>>>>>>> documentation-devel
||||||| d28b18c
   "id": "2ee89eb6",
=======
   "id": "ee5bd917",
>>>>>>> documentation-devel
||||||| 6893f63
<<<<<<< HEAD
   "id": "8e2d2d60",
||||||| 6a30bf1
   "id": "571cd66e",
=======
   "id": "2ee89eb6",
>>>>>>> documentation-devel
=======
   "id": "15f42757",
>>>>>>> c74c98c2450c2a1ba922ed9442f136238d6bc88b
||||||| 6d93b645
   "id": "ee5bd917",
=======
   "id": "94b2b6b5",
>>>>>>> documentation-devel
||||||| 804edffb
<<<<<<< HEAD
<<<<<<< HEAD
<<<<<<< HEAD
   "id": "8e2d2d60",
||||||| 6a30bf1
   "id": "571cd66e",
=======
   "id": "2ee89eb6",
>>>>>>> documentation-devel
||||||| d28b18c
   "id": "2ee89eb6",
=======
   "id": "ee5bd917",
>>>>>>> documentation-devel
||||||| 6893f63
<<<<<<< HEAD
   "id": "8e2d2d60",
||||||| 6a30bf1
   "id": "571cd66e",
=======
   "id": "2ee89eb6",
>>>>>>> documentation-devel
=======
   "id": "15f42757",
>>>>>>> c74c98c2450c2a1ba922ed9442f136238d6bc88b
=======
   "id": "00b8cda6",
>>>>>>> 035bb2637984ead2784fecff78c0c60cc4181202
||||||| 3effdfa5
   "id": "94b2b6b5",
=======
   "id": "07d5b45e",
>>>>>>> documentation-devel
||||||| 96c826da
<<<<<<< HEAD
<<<<<<< HEAD
<<<<<<< HEAD
<<<<<<< HEAD
<<<<<<< HEAD
   "id": "8e2d2d60",
||||||| 6a30bf1
   "id": "571cd66e",
=======
   "id": "2ee89eb6",
>>>>>>> documentation-devel
||||||| d28b18c
   "id": "2ee89eb6",
=======
   "id": "ee5bd917",
>>>>>>> documentation-devel
||||||| 6893f63
<<<<<<< HEAD
   "id": "8e2d2d60",
||||||| 6a30bf1
   "id": "571cd66e",
=======
   "id": "2ee89eb6",
>>>>>>> documentation-devel
=======
   "id": "15f42757",
>>>>>>> c74c98c2450c2a1ba922ed9442f136238d6bc88b
||||||| 6d93b645
   "id": "ee5bd917",
=======
   "id": "94b2b6b5",
>>>>>>> documentation-devel
||||||| 804edffb
<<<<<<< HEAD
<<<<<<< HEAD
<<<<<<< HEAD
   "id": "8e2d2d60",
||||||| 6a30bf1
   "id": "571cd66e",
=======
   "id": "2ee89eb6",
>>>>>>> documentation-devel
||||||| d28b18c
   "id": "2ee89eb6",
=======
   "id": "ee5bd917",
>>>>>>> documentation-devel
||||||| 6893f63
<<<<<<< HEAD
   "id": "8e2d2d60",
||||||| 6a30bf1
   "id": "571cd66e",
=======
   "id": "2ee89eb6",
>>>>>>> documentation-devel
=======
   "id": "15f42757",
>>>>>>> c74c98c2450c2a1ba922ed9442f136238d6bc88b
=======
   "id": "00b8cda6",
>>>>>>> 035bb2637984ead2784fecff78c0c60cc4181202
=======
   "id": "5eeba30d",
>>>>>>> 619c01f26351d57ac14d974b7af136ac5756103f
   "metadata": {
    "fig.height": 6,
    "fig.width": 9
   },
   "outputs": [],
   "source": [
    "plotGeometry(sfe, \"cellSeg\")"
   ]
  },
  {
   "cell_type": "markdown",
<<<<<<< HEAD
<<<<<<< HEAD
<<<<<<< HEAD
<<<<<<< HEAD
<<<<<<< HEAD
<<<<<<< HEAD
<<<<<<< HEAD
   "id": "b4bac363",
||||||| 6a30bf1
   "id": "2b6c8209",
=======
   "id": "72c107b0",
>>>>>>> documentation-devel
||||||| d28b18c
   "id": "72c107b0",
=======
   "id": "9313427f",
>>>>>>> documentation-devel
||||||| 6893f63
<<<<<<< HEAD
   "id": "b4bac363",
||||||| 6a30bf1
   "id": "2b6c8209",
=======
   "id": "72c107b0",
>>>>>>> documentation-devel
=======
   "id": "f853185b",
>>>>>>> c74c98c2450c2a1ba922ed9442f136238d6bc88b
||||||| 6d93b645
   "id": "9313427f",
=======
   "id": "4de2fe23",
>>>>>>> documentation-devel
||||||| 804edffb
<<<<<<< HEAD
<<<<<<< HEAD
<<<<<<< HEAD
   "id": "b4bac363",
||||||| 6a30bf1
   "id": "2b6c8209",
=======
   "id": "72c107b0",
>>>>>>> documentation-devel
||||||| d28b18c
   "id": "72c107b0",
=======
   "id": "9313427f",
>>>>>>> documentation-devel
||||||| 6893f63
<<<<<<< HEAD
   "id": "b4bac363",
||||||| 6a30bf1
   "id": "2b6c8209",
=======
   "id": "72c107b0",
>>>>>>> documentation-devel
=======
   "id": "f853185b",
>>>>>>> c74c98c2450c2a1ba922ed9442f136238d6bc88b
=======
   "id": "54de8ebc",
>>>>>>> 035bb2637984ead2784fecff78c0c60cc4181202
||||||| 3effdfa5
   "id": "4de2fe23",
=======
   "id": "bcf280a5",
>>>>>>> documentation-devel
||||||| 96c826da
<<<<<<< HEAD
<<<<<<< HEAD
<<<<<<< HEAD
<<<<<<< HEAD
<<<<<<< HEAD
   "id": "b4bac363",
||||||| 6a30bf1
   "id": "2b6c8209",
=======
   "id": "72c107b0",
>>>>>>> documentation-devel
||||||| d28b18c
   "id": "72c107b0",
=======
   "id": "9313427f",
>>>>>>> documentation-devel
||||||| 6893f63
<<<<<<< HEAD
   "id": "b4bac363",
||||||| 6a30bf1
   "id": "2b6c8209",
=======
   "id": "72c107b0",
>>>>>>> documentation-devel
=======
   "id": "f853185b",
>>>>>>> c74c98c2450c2a1ba922ed9442f136238d6bc88b
||||||| 6d93b645
   "id": "9313427f",
=======
   "id": "4de2fe23",
>>>>>>> documentation-devel
||||||| 804edffb
<<<<<<< HEAD
<<<<<<< HEAD
<<<<<<< HEAD
   "id": "b4bac363",
||||||| 6a30bf1
   "id": "2b6c8209",
=======
   "id": "72c107b0",
>>>>>>> documentation-devel
||||||| d28b18c
   "id": "72c107b0",
=======
   "id": "9313427f",
>>>>>>> documentation-devel
||||||| 6893f63
<<<<<<< HEAD
   "id": "b4bac363",
||||||| 6a30bf1
   "id": "2b6c8209",
=======
   "id": "72c107b0",
>>>>>>> documentation-devel
=======
   "id": "f853185b",
>>>>>>> c74c98c2450c2a1ba922ed9442f136238d6bc88b
=======
   "id": "54de8ebc",
>>>>>>> 035bb2637984ead2784fecff78c0c60cc4181202
=======
   "id": "78dda21e",
>>>>>>> 619c01f26351d57ac14d974b7af136ac5756103f
   "metadata": {
    "lines_to_next_cell": 0
   },
   "source": [
    "However, we do not wish to save this plot as PDF. To avoid this problem, we can either use the `scattermore = TRUE` argument in `plotSpatialFeature()` and plot the centroids since the polygons are hard to see anyway. \n",
    "\n",
    "Cell density can be vaguely seen in the plot above. Here we count the number of cells in bins to better visualize cell density."
   ]
  },
  {
   "cell_type": "code",
   "execution_count": null,
<<<<<<< HEAD
<<<<<<< HEAD
<<<<<<< HEAD
<<<<<<< HEAD
<<<<<<< HEAD
<<<<<<< HEAD
<<<<<<< HEAD
   "id": "db071a43",
||||||| 6a30bf1
   "id": "9027d831",
=======
   "id": "cd344515",
>>>>>>> documentation-devel
||||||| d28b18c
   "id": "cd344515",
=======
   "id": "326a0320",
>>>>>>> documentation-devel
||||||| 6893f63
<<<<<<< HEAD
   "id": "db071a43",
||||||| 6a30bf1
   "id": "9027d831",
=======
   "id": "cd344515",
>>>>>>> documentation-devel
=======
   "id": "8bbd8ea2",
>>>>>>> c74c98c2450c2a1ba922ed9442f136238d6bc88b
||||||| 6d93b645
   "id": "326a0320",
=======
   "id": "20b7cd72",
>>>>>>> documentation-devel
||||||| 804edffb
<<<<<<< HEAD
<<<<<<< HEAD
<<<<<<< HEAD
   "id": "db071a43",
||||||| 6a30bf1
   "id": "9027d831",
=======
   "id": "cd344515",
>>>>>>> documentation-devel
||||||| d28b18c
   "id": "cd344515",
=======
   "id": "326a0320",
>>>>>>> documentation-devel
||||||| 6893f63
<<<<<<< HEAD
   "id": "db071a43",
||||||| 6a30bf1
   "id": "9027d831",
=======
   "id": "cd344515",
>>>>>>> documentation-devel
=======
   "id": "8bbd8ea2",
>>>>>>> c74c98c2450c2a1ba922ed9442f136238d6bc88b
=======
   "id": "070443f6",
>>>>>>> 035bb2637984ead2784fecff78c0c60cc4181202
||||||| 3effdfa5
   "id": "20b7cd72",
=======
   "id": "304119fc",
>>>>>>> documentation-devel
||||||| 96c826da
<<<<<<< HEAD
<<<<<<< HEAD
<<<<<<< HEAD
<<<<<<< HEAD
<<<<<<< HEAD
   "id": "db071a43",
||||||| 6a30bf1
   "id": "9027d831",
=======
   "id": "cd344515",
>>>>>>> documentation-devel
||||||| d28b18c
   "id": "cd344515",
=======
   "id": "326a0320",
>>>>>>> documentation-devel
||||||| 6893f63
<<<<<<< HEAD
   "id": "db071a43",
||||||| 6a30bf1
   "id": "9027d831",
=======
   "id": "cd344515",
>>>>>>> documentation-devel
=======
   "id": "8bbd8ea2",
>>>>>>> c74c98c2450c2a1ba922ed9442f136238d6bc88b
||||||| 6d93b645
   "id": "326a0320",
=======
   "id": "20b7cd72",
>>>>>>> documentation-devel
||||||| 804edffb
<<<<<<< HEAD
<<<<<<< HEAD
<<<<<<< HEAD
   "id": "db071a43",
||||||| 6a30bf1
   "id": "9027d831",
=======
   "id": "cd344515",
>>>>>>> documentation-devel
||||||| d28b18c
   "id": "cd344515",
=======
   "id": "326a0320",
>>>>>>> documentation-devel
||||||| 6893f63
<<<<<<< HEAD
   "id": "db071a43",
||||||| 6a30bf1
   "id": "9027d831",
=======
   "id": "cd344515",
>>>>>>> documentation-devel
=======
   "id": "8bbd8ea2",
>>>>>>> c74c98c2450c2a1ba922ed9442f136238d6bc88b
=======
   "id": "070443f6",
>>>>>>> 035bb2637984ead2784fecff78c0c60cc4181202
=======
   "id": "6c790792",
>>>>>>> 619c01f26351d57ac14d974b7af136ac5756103f
   "metadata": {
    "fig.height": 6,
    "fig.width": 9
   },
   "outputs": [],
   "source": [
    "plotCellBin2D(sfe, bins = 300, hex = TRUE)"
   ]
  },
  {
   "cell_type": "markdown",
<<<<<<< HEAD
<<<<<<< HEAD
<<<<<<< HEAD
<<<<<<< HEAD
<<<<<<< HEAD
<<<<<<< HEAD
<<<<<<< HEAD
   "id": "ab6b4927",
||||||| 6a30bf1
   "id": "625e7c60",
=======
   "id": "479d1ad3",
>>>>>>> documentation-devel
||||||| d28b18c
   "id": "479d1ad3",
=======
   "id": "9144f178",
>>>>>>> documentation-devel
||||||| 6893f63
<<<<<<< HEAD
   "id": "ab6b4927",
||||||| 6a30bf1
   "id": "625e7c60",
=======
   "id": "479d1ad3",
>>>>>>> documentation-devel
=======
   "id": "0036765b",
>>>>>>> c74c98c2450c2a1ba922ed9442f136238d6bc88b
||||||| 6d93b645
   "id": "9144f178",
=======
   "id": "c9619a16",
>>>>>>> documentation-devel
||||||| 804edffb
<<<<<<< HEAD
<<<<<<< HEAD
<<<<<<< HEAD
   "id": "ab6b4927",
||||||| 6a30bf1
   "id": "625e7c60",
=======
   "id": "479d1ad3",
>>>>>>> documentation-devel
||||||| d28b18c
   "id": "479d1ad3",
=======
   "id": "9144f178",
>>>>>>> documentation-devel
||||||| 6893f63
<<<<<<< HEAD
   "id": "ab6b4927",
||||||| 6a30bf1
   "id": "625e7c60",
=======
   "id": "479d1ad3",
>>>>>>> documentation-devel
=======
   "id": "0036765b",
>>>>>>> c74c98c2450c2a1ba922ed9442f136238d6bc88b
=======
   "id": "94d16fb6",
>>>>>>> 035bb2637984ead2784fecff78c0c60cc4181202
||||||| 3effdfa5
   "id": "c9619a16",
=======
   "id": "748b286b",
>>>>>>> documentation-devel
||||||| 96c826da
<<<<<<< HEAD
<<<<<<< HEAD
<<<<<<< HEAD
<<<<<<< HEAD
<<<<<<< HEAD
   "id": "ab6b4927",
||||||| 6a30bf1
   "id": "625e7c60",
=======
   "id": "479d1ad3",
>>>>>>> documentation-devel
||||||| d28b18c
   "id": "479d1ad3",
=======
   "id": "9144f178",
>>>>>>> documentation-devel
||||||| 6893f63
<<<<<<< HEAD
   "id": "ab6b4927",
||||||| 6a30bf1
   "id": "625e7c60",
=======
   "id": "479d1ad3",
>>>>>>> documentation-devel
=======
   "id": "0036765b",
>>>>>>> c74c98c2450c2a1ba922ed9442f136238d6bc88b
||||||| 6d93b645
   "id": "9144f178",
=======
   "id": "c9619a16",
>>>>>>> documentation-devel
||||||| 804edffb
<<<<<<< HEAD
<<<<<<< HEAD
<<<<<<< HEAD
   "id": "ab6b4927",
||||||| 6a30bf1
   "id": "625e7c60",
=======
   "id": "479d1ad3",
>>>>>>> documentation-devel
||||||| d28b18c
   "id": "479d1ad3",
=======
   "id": "9144f178",
>>>>>>> documentation-devel
||||||| 6893f63
<<<<<<< HEAD
   "id": "ab6b4927",
||||||| 6a30bf1
   "id": "625e7c60",
=======
   "id": "479d1ad3",
>>>>>>> documentation-devel
=======
   "id": "0036765b",
>>>>>>> c74c98c2450c2a1ba922ed9442f136238d6bc88b
=======
   "id": "94d16fb6",
>>>>>>> 035bb2637984ead2784fecff78c0c60cc4181202
=======
   "id": "469973bb",
>>>>>>> 619c01f26351d57ac14d974b7af136ac5756103f
   "metadata": {
    "lines_to_next_cell": 0
   },
   "source": [
    "Cell density is for the most part homogeneous but shows some structure with denser regions that seem to relate to the blood vessels.\n",
    "\n",
    "# Quality control"
   ]
  },
  {
   "cell_type": "code",
   "execution_count": null,
<<<<<<< HEAD
<<<<<<< HEAD
<<<<<<< HEAD
<<<<<<< HEAD
<<<<<<< HEAD
<<<<<<< HEAD
<<<<<<< HEAD
   "id": "b881f501",
||||||| 6a30bf1
   "id": "8935fc5d",
=======
   "id": "f8608376",
>>>>>>> documentation-devel
||||||| d28b18c
   "id": "f8608376",
=======
   "id": "6089bd13",
>>>>>>> documentation-devel
||||||| 6893f63
<<<<<<< HEAD
   "id": "b881f501",
||||||| 6a30bf1
   "id": "8935fc5d",
=======
   "id": "f8608376",
>>>>>>> documentation-devel
=======
   "id": "6db54a9e",
>>>>>>> c74c98c2450c2a1ba922ed9442f136238d6bc88b
||||||| 6d93b645
   "id": "6089bd13",
=======
   "id": "9fdce1c0",
>>>>>>> documentation-devel
||||||| 804edffb
<<<<<<< HEAD
<<<<<<< HEAD
<<<<<<< HEAD
   "id": "b881f501",
||||||| 6a30bf1
   "id": "8935fc5d",
=======
   "id": "f8608376",
>>>>>>> documentation-devel
||||||| d28b18c
   "id": "f8608376",
=======
   "id": "6089bd13",
>>>>>>> documentation-devel
||||||| 6893f63
<<<<<<< HEAD
   "id": "b881f501",
||||||| 6a30bf1
   "id": "8935fc5d",
=======
   "id": "f8608376",
>>>>>>> documentation-devel
=======
   "id": "6db54a9e",
>>>>>>> c74c98c2450c2a1ba922ed9442f136238d6bc88b
=======
   "id": "fb1f8b08",
>>>>>>> 035bb2637984ead2784fecff78c0c60cc4181202
||||||| 3effdfa5
   "id": "9fdce1c0",
=======
   "id": "3d5caa97",
>>>>>>> documentation-devel
||||||| 96c826da
<<<<<<< HEAD
<<<<<<< HEAD
<<<<<<< HEAD
<<<<<<< HEAD
<<<<<<< HEAD
   "id": "b881f501",
||||||| 6a30bf1
   "id": "8935fc5d",
=======
   "id": "f8608376",
>>>>>>> documentation-devel
||||||| d28b18c
   "id": "f8608376",
=======
   "id": "6089bd13",
>>>>>>> documentation-devel
||||||| 6893f63
<<<<<<< HEAD
   "id": "b881f501",
||||||| 6a30bf1
   "id": "8935fc5d",
=======
   "id": "f8608376",
>>>>>>> documentation-devel
=======
   "id": "6db54a9e",
>>>>>>> c74c98c2450c2a1ba922ed9442f136238d6bc88b
||||||| 6d93b645
   "id": "6089bd13",
=======
   "id": "9fdce1c0",
>>>>>>> documentation-devel
||||||| 804edffb
<<<<<<< HEAD
<<<<<<< HEAD
<<<<<<< HEAD
   "id": "b881f501",
||||||| 6a30bf1
   "id": "8935fc5d",
=======
   "id": "f8608376",
>>>>>>> documentation-devel
||||||| d28b18c
   "id": "f8608376",
=======
   "id": "6089bd13",
>>>>>>> documentation-devel
||||||| 6893f63
<<<<<<< HEAD
   "id": "b881f501",
||||||| 6a30bf1
   "id": "8935fc5d",
=======
   "id": "f8608376",
>>>>>>> documentation-devel
=======
   "id": "6db54a9e",
>>>>>>> c74c98c2450c2a1ba922ed9442f136238d6bc88b
=======
   "id": "fb1f8b08",
>>>>>>> 035bb2637984ead2784fecff78c0c60cc4181202
=======
   "id": "54b817ed",
>>>>>>> 619c01f26351d57ac14d974b7af136ac5756103f
   "metadata": {},
   "outputs": [],
   "source": [
    "names(colData(sfe))"
   ]
  },
  {
   "cell_type": "markdown",
<<<<<<< HEAD
<<<<<<< HEAD
<<<<<<< HEAD
<<<<<<< HEAD
<<<<<<< HEAD
<<<<<<< HEAD
<<<<<<< HEAD
   "id": "fa6f5007",
||||||| 6a30bf1
   "id": "c8f95b3c",
=======
   "id": "64b8c1c8",
>>>>>>> documentation-devel
||||||| d28b18c
   "id": "64b8c1c8",
=======
   "id": "da3a5b47",
>>>>>>> documentation-devel
||||||| 6893f63
<<<<<<< HEAD
   "id": "fa6f5007",
||||||| 6a30bf1
   "id": "c8f95b3c",
=======
   "id": "64b8c1c8",
>>>>>>> documentation-devel
=======
   "id": "0ad60e8f",
>>>>>>> c74c98c2450c2a1ba922ed9442f136238d6bc88b
||||||| 6d93b645
   "id": "da3a5b47",
=======
   "id": "79bc1ac3",
>>>>>>> documentation-devel
||||||| 804edffb
<<<<<<< HEAD
<<<<<<< HEAD
<<<<<<< HEAD
   "id": "fa6f5007",
||||||| 6a30bf1
   "id": "c8f95b3c",
=======
   "id": "64b8c1c8",
>>>>>>> documentation-devel
||||||| d28b18c
   "id": "64b8c1c8",
=======
   "id": "da3a5b47",
>>>>>>> documentation-devel
||||||| 6893f63
<<<<<<< HEAD
   "id": "fa6f5007",
||||||| 6a30bf1
   "id": "c8f95b3c",
=======
   "id": "64b8c1c8",
>>>>>>> documentation-devel
=======
   "id": "0ad60e8f",
>>>>>>> c74c98c2450c2a1ba922ed9442f136238d6bc88b
=======
   "id": "e099239d",
>>>>>>> 035bb2637984ead2784fecff78c0c60cc4181202
||||||| 3effdfa5
   "id": "79bc1ac3",
=======
   "id": "e8bf11f4",
>>>>>>> documentation-devel
||||||| 96c826da
<<<<<<< HEAD
<<<<<<< HEAD
<<<<<<< HEAD
<<<<<<< HEAD
<<<<<<< HEAD
   "id": "fa6f5007",
||||||| 6a30bf1
   "id": "c8f95b3c",
=======
   "id": "64b8c1c8",
>>>>>>> documentation-devel
||||||| d28b18c
   "id": "64b8c1c8",
=======
   "id": "da3a5b47",
>>>>>>> documentation-devel
||||||| 6893f63
<<<<<<< HEAD
   "id": "fa6f5007",
||||||| 6a30bf1
   "id": "c8f95b3c",
=======
   "id": "64b8c1c8",
>>>>>>> documentation-devel
=======
   "id": "0ad60e8f",
>>>>>>> c74c98c2450c2a1ba922ed9442f136238d6bc88b
||||||| 6d93b645
   "id": "da3a5b47",
=======
   "id": "79bc1ac3",
>>>>>>> documentation-devel
||||||| 804edffb
<<<<<<< HEAD
<<<<<<< HEAD
<<<<<<< HEAD
   "id": "fa6f5007",
||||||| 6a30bf1
   "id": "c8f95b3c",
=======
   "id": "64b8c1c8",
>>>>>>> documentation-devel
||||||| d28b18c
   "id": "64b8c1c8",
=======
   "id": "da3a5b47",
>>>>>>> documentation-devel
||||||| 6893f63
<<<<<<< HEAD
   "id": "fa6f5007",
||||||| 6a30bf1
   "id": "c8f95b3c",
=======
   "id": "64b8c1c8",
>>>>>>> documentation-devel
=======
   "id": "0ad60e8f",
>>>>>>> c74c98c2450c2a1ba922ed9442f136238d6bc88b
=======
   "id": "e099239d",
>>>>>>> 035bb2637984ead2784fecff78c0c60cc4181202
=======
   "id": "52784b02",
>>>>>>> 619c01f26351d57ac14d974b7af136ac5756103f
   "metadata": {
    "lines_to_next_cell": 0
   },
   "source": [
    "Plotting almost 400,000 polygons is kind of slow but doable."
   ]
  },
  {
   "cell_type": "code",
   "execution_count": null,
<<<<<<< HEAD
<<<<<<< HEAD
<<<<<<< HEAD
<<<<<<< HEAD
<<<<<<< HEAD
<<<<<<< HEAD
<<<<<<< HEAD
   "id": "5ba85df5",
||||||| 6a30bf1
   "id": "15425b2e",
=======
   "id": "3cda62b9",
>>>>>>> documentation-devel
||||||| d28b18c
   "id": "3cda62b9",
=======
   "id": "0af05c6a",
>>>>>>> documentation-devel
||||||| 6893f63
<<<<<<< HEAD
   "id": "5ba85df5",
||||||| 6a30bf1
   "id": "15425b2e",
=======
   "id": "3cda62b9",
>>>>>>> documentation-devel
=======
   "id": "4bc2f17d",
>>>>>>> c74c98c2450c2a1ba922ed9442f136238d6bc88b
||||||| 6d93b645
   "id": "0af05c6a",
=======
   "id": "3147086c",
>>>>>>> documentation-devel
||||||| 804edffb
<<<<<<< HEAD
<<<<<<< HEAD
<<<<<<< HEAD
   "id": "5ba85df5",
||||||| 6a30bf1
   "id": "15425b2e",
=======
   "id": "3cda62b9",
>>>>>>> documentation-devel
||||||| d28b18c
   "id": "3cda62b9",
=======
   "id": "0af05c6a",
>>>>>>> documentation-devel
||||||| 6893f63
<<<<<<< HEAD
   "id": "5ba85df5",
||||||| 6a30bf1
   "id": "15425b2e",
=======
   "id": "3cda62b9",
>>>>>>> documentation-devel
=======
   "id": "4bc2f17d",
>>>>>>> c74c98c2450c2a1ba922ed9442f136238d6bc88b
=======
   "id": "a33328ab",
>>>>>>> 035bb2637984ead2784fecff78c0c60cc4181202
||||||| 3effdfa5
   "id": "3147086c",
=======
   "id": "2d0cbfa6",
>>>>>>> documentation-devel
||||||| 96c826da
<<<<<<< HEAD
<<<<<<< HEAD
<<<<<<< HEAD
<<<<<<< HEAD
<<<<<<< HEAD
   "id": "5ba85df5",
||||||| 6a30bf1
   "id": "15425b2e",
=======
   "id": "3cda62b9",
>>>>>>> documentation-devel
||||||| d28b18c
   "id": "3cda62b9",
=======
   "id": "0af05c6a",
>>>>>>> documentation-devel
||||||| 6893f63
<<<<<<< HEAD
   "id": "5ba85df5",
||||||| 6a30bf1
   "id": "15425b2e",
=======
   "id": "3cda62b9",
>>>>>>> documentation-devel
=======
   "id": "4bc2f17d",
>>>>>>> c74c98c2450c2a1ba922ed9442f136238d6bc88b
||||||| 6d93b645
   "id": "0af05c6a",
=======
   "id": "3147086c",
>>>>>>> documentation-devel
||||||| 804edffb
<<<<<<< HEAD
<<<<<<< HEAD
<<<<<<< HEAD
   "id": "5ba85df5",
||||||| 6a30bf1
   "id": "15425b2e",
=======
   "id": "3cda62b9",
>>>>>>> documentation-devel
||||||| d28b18c
   "id": "3cda62b9",
=======
   "id": "0af05c6a",
>>>>>>> documentation-devel
||||||| 6893f63
<<<<<<< HEAD
   "id": "5ba85df5",
||||||| 6a30bf1
   "id": "15425b2e",
=======
   "id": "3cda62b9",
>>>>>>> documentation-devel
=======
   "id": "4bc2f17d",
>>>>>>> c74c98c2450c2a1ba922ed9442f136238d6bc88b
=======
   "id": "a33328ab",
>>>>>>> 035bb2637984ead2784fecff78c0c60cc4181202
=======
   "id": "4f5e21da",
>>>>>>> 619c01f26351d57ac14d974b7af136ac5756103f
   "metadata": {},
   "outputs": [],
   "source": [
    "system.time(\n",
    "    print(plotSpatialFeature(sfe, \"nCounts\", colGeometryName = \"cellSeg\"))\n",
    ")"
   ]
  },
  {
   "cell_type": "markdown",
<<<<<<< HEAD
<<<<<<< HEAD
<<<<<<< HEAD
<<<<<<< HEAD
<<<<<<< HEAD
<<<<<<< HEAD
<<<<<<< HEAD
   "id": "cad049d6",
||||||| 6a30bf1
   "id": "4b05926b",
=======
   "id": "e0177bd4",
>>>>>>> documentation-devel
||||||| d28b18c
   "id": "e0177bd4",
=======
   "id": "87ca557e",
>>>>>>> documentation-devel
||||||| 6893f63
<<<<<<< HEAD
   "id": "cad049d6",
||||||| 6a30bf1
   "id": "4b05926b",
=======
   "id": "e0177bd4",
>>>>>>> documentation-devel
=======
   "id": "5b3783b0",
>>>>>>> c74c98c2450c2a1ba922ed9442f136238d6bc88b
||||||| 6d93b645
   "id": "87ca557e",
=======
   "id": "dabb680b",
>>>>>>> documentation-devel
||||||| 804edffb
<<<<<<< HEAD
<<<<<<< HEAD
<<<<<<< HEAD
   "id": "cad049d6",
||||||| 6a30bf1
   "id": "4b05926b",
=======
   "id": "e0177bd4",
>>>>>>> documentation-devel
||||||| d28b18c
   "id": "e0177bd4",
=======
   "id": "87ca557e",
>>>>>>> documentation-devel
||||||| 6893f63
<<<<<<< HEAD
   "id": "cad049d6",
||||||| 6a30bf1
   "id": "4b05926b",
=======
   "id": "e0177bd4",
>>>>>>> documentation-devel
=======
   "id": "5b3783b0",
>>>>>>> c74c98c2450c2a1ba922ed9442f136238d6bc88b
=======
   "id": "54bd0cc6",
>>>>>>> 035bb2637984ead2784fecff78c0c60cc4181202
||||||| 3effdfa5
   "id": "dabb680b",
=======
   "id": "4cdde481",
>>>>>>> documentation-devel
||||||| 96c826da
<<<<<<< HEAD
<<<<<<< HEAD
<<<<<<< HEAD
<<<<<<< HEAD
<<<<<<< HEAD
   "id": "cad049d6",
||||||| 6a30bf1
   "id": "4b05926b",
=======
   "id": "e0177bd4",
>>>>>>> documentation-devel
||||||| d28b18c
   "id": "e0177bd4",
=======
   "id": "87ca557e",
>>>>>>> documentation-devel
||||||| 6893f63
<<<<<<< HEAD
   "id": "cad049d6",
||||||| 6a30bf1
   "id": "4b05926b",
=======
   "id": "e0177bd4",
>>>>>>> documentation-devel
=======
   "id": "5b3783b0",
>>>>>>> c74c98c2450c2a1ba922ed9442f136238d6bc88b
||||||| 6d93b645
   "id": "87ca557e",
=======
   "id": "dabb680b",
>>>>>>> documentation-devel
||||||| 804edffb
<<<<<<< HEAD
<<<<<<< HEAD
<<<<<<< HEAD
   "id": "cad049d6",
||||||| 6a30bf1
   "id": "4b05926b",
=======
   "id": "e0177bd4",
>>>>>>> documentation-devel
||||||| d28b18c
   "id": "e0177bd4",
=======
   "id": "87ca557e",
>>>>>>> documentation-devel
||||||| 6893f63
<<<<<<< HEAD
   "id": "cad049d6",
||||||| 6a30bf1
   "id": "4b05926b",
=======
   "id": "e0177bd4",
>>>>>>> documentation-devel
=======
   "id": "5b3783b0",
>>>>>>> c74c98c2450c2a1ba922ed9442f136238d6bc88b
=======
   "id": "54bd0cc6",
>>>>>>> 035bb2637984ead2784fecff78c0c60cc4181202
=======
   "id": "6a7864cb",
>>>>>>> 619c01f26351d57ac14d974b7af136ac5756103f
   "metadata": {},
   "source": [
    "Here nCounts kind of looks like salt and pepper. Using the [`scattermore`](https://github.com/exaexa/scattermore) package can speed up plotting a large number of points. In this non-interactive plot, the cell polygons are too small to see anyway, so plotting cell centroid points should be fine. "
   ]
  },
  {
   "cell_type": "code",
   "execution_count": null,
<<<<<<< HEAD
<<<<<<< HEAD
<<<<<<< HEAD
<<<<<<< HEAD
<<<<<<< HEAD
<<<<<<< HEAD
<<<<<<< HEAD
   "id": "755bb45c",
||||||| 6a30bf1
   "id": "632b9af2",
=======
   "id": "4dbb9e1f",
>>>>>>> documentation-devel
||||||| d28b18c
   "id": "4dbb9e1f",
=======
   "id": "e78f699c",
>>>>>>> documentation-devel
||||||| 6893f63
<<<<<<< HEAD
   "id": "755bb45c",
||||||| 6a30bf1
   "id": "632b9af2",
=======
   "id": "4dbb9e1f",
>>>>>>> documentation-devel
=======
   "id": "c4f7e7c8",
>>>>>>> c74c98c2450c2a1ba922ed9442f136238d6bc88b
||||||| 6d93b645
   "id": "e78f699c",
=======
   "id": "c863da05",
>>>>>>> documentation-devel
||||||| 804edffb
<<<<<<< HEAD
<<<<<<< HEAD
<<<<<<< HEAD
   "id": "755bb45c",
||||||| 6a30bf1
   "id": "632b9af2",
=======
   "id": "4dbb9e1f",
>>>>>>> documentation-devel
||||||| d28b18c
   "id": "4dbb9e1f",
=======
   "id": "e78f699c",
>>>>>>> documentation-devel
||||||| 6893f63
<<<<<<< HEAD
   "id": "755bb45c",
||||||| 6a30bf1
   "id": "632b9af2",
=======
   "id": "4dbb9e1f",
>>>>>>> documentation-devel
=======
   "id": "c4f7e7c8",
>>>>>>> c74c98c2450c2a1ba922ed9442f136238d6bc88b
=======
   "id": "10223e83",
>>>>>>> 035bb2637984ead2784fecff78c0c60cc4181202
||||||| 3effdfa5
   "id": "c863da05",
=======
   "id": "f9b6e082",
>>>>>>> documentation-devel
||||||| 96c826da
<<<<<<< HEAD
<<<<<<< HEAD
<<<<<<< HEAD
<<<<<<< HEAD
<<<<<<< HEAD
   "id": "755bb45c",
||||||| 6a30bf1
   "id": "632b9af2",
=======
   "id": "4dbb9e1f",
>>>>>>> documentation-devel
||||||| d28b18c
   "id": "4dbb9e1f",
=======
   "id": "e78f699c",
>>>>>>> documentation-devel
||||||| 6893f63
<<<<<<< HEAD
   "id": "755bb45c",
||||||| 6a30bf1
   "id": "632b9af2",
=======
   "id": "4dbb9e1f",
>>>>>>> documentation-devel
=======
   "id": "c4f7e7c8",
>>>>>>> c74c98c2450c2a1ba922ed9442f136238d6bc88b
||||||| 6d93b645
   "id": "e78f699c",
=======
   "id": "c863da05",
>>>>>>> documentation-devel
||||||| 804edffb
<<<<<<< HEAD
<<<<<<< HEAD
<<<<<<< HEAD
   "id": "755bb45c",
||||||| 6a30bf1
   "id": "632b9af2",
=======
   "id": "4dbb9e1f",
>>>>>>> documentation-devel
||||||| d28b18c
   "id": "4dbb9e1f",
=======
   "id": "e78f699c",
>>>>>>> documentation-devel
||||||| 6893f63
<<<<<<< HEAD
   "id": "755bb45c",
||||||| 6a30bf1
   "id": "632b9af2",
=======
   "id": "4dbb9e1f",
>>>>>>> documentation-devel
=======
   "id": "c4f7e7c8",
>>>>>>> c74c98c2450c2a1ba922ed9442f136238d6bc88b
=======
   "id": "10223e83",
>>>>>>> 035bb2637984ead2784fecff78c0c60cc4181202
=======
   "id": "602ae50f",
>>>>>>> 619c01f26351d57ac14d974b7af136ac5756103f
   "metadata": {},
   "outputs": [],
   "source": [
    "system.time({\n",
    "    print(plotSpatialFeature(sfe, \"nCounts\", colGeometryName = \"centroids\",\n",
    "                             scattermore = TRUE))\n",
    "})"
   ]
  },
  {
   "cell_type": "markdown",
<<<<<<< HEAD
<<<<<<< HEAD
<<<<<<< HEAD
<<<<<<< HEAD
<<<<<<< HEAD
<<<<<<< HEAD
<<<<<<< HEAD
   "id": "61c7fcd1",
||||||| 6a30bf1
   "id": "a4f7fc9d",
=======
   "id": "ea9ae653",
>>>>>>> documentation-devel
||||||| d28b18c
   "id": "ea9ae653",
=======
   "id": "3e083c0d",
>>>>>>> documentation-devel
||||||| 6893f63
<<<<<<< HEAD
   "id": "61c7fcd1",
||||||| 6a30bf1
   "id": "a4f7fc9d",
=======
   "id": "ea9ae653",
>>>>>>> documentation-devel
=======
   "id": "273881d5",
>>>>>>> c74c98c2450c2a1ba922ed9442f136238d6bc88b
||||||| 6d93b645
   "id": "3e083c0d",
=======
   "id": "541b31f7",
>>>>>>> documentation-devel
||||||| 804edffb
<<<<<<< HEAD
<<<<<<< HEAD
<<<<<<< HEAD
   "id": "61c7fcd1",
||||||| 6a30bf1
   "id": "a4f7fc9d",
=======
   "id": "ea9ae653",
>>>>>>> documentation-devel
||||||| d28b18c
   "id": "ea9ae653",
=======
   "id": "3e083c0d",
>>>>>>> documentation-devel
||||||| 6893f63
<<<<<<< HEAD
   "id": "61c7fcd1",
||||||| 6a30bf1
   "id": "a4f7fc9d",
=======
   "id": "ea9ae653",
>>>>>>> documentation-devel
=======
   "id": "273881d5",
>>>>>>> c74c98c2450c2a1ba922ed9442f136238d6bc88b
=======
   "id": "2ea6b979",
>>>>>>> 035bb2637984ead2784fecff78c0c60cc4181202
||||||| 3effdfa5
   "id": "541b31f7",
=======
   "id": "76c56a5f",
>>>>>>> documentation-devel
||||||| 96c826da
<<<<<<< HEAD
<<<<<<< HEAD
<<<<<<< HEAD
<<<<<<< HEAD
<<<<<<< HEAD
   "id": "61c7fcd1",
||||||| 6a30bf1
   "id": "a4f7fc9d",
=======
   "id": "ea9ae653",
>>>>>>> documentation-devel
||||||| d28b18c
   "id": "ea9ae653",
=======
   "id": "3e083c0d",
>>>>>>> documentation-devel
||||||| 6893f63
<<<<<<< HEAD
   "id": "61c7fcd1",
||||||| 6a30bf1
   "id": "a4f7fc9d",
=======
   "id": "ea9ae653",
>>>>>>> documentation-devel
=======
   "id": "273881d5",
>>>>>>> c74c98c2450c2a1ba922ed9442f136238d6bc88b
||||||| 6d93b645
   "id": "3e083c0d",
=======
   "id": "541b31f7",
>>>>>>> documentation-devel
||||||| 804edffb
<<<<<<< HEAD
<<<<<<< HEAD
<<<<<<< HEAD
   "id": "61c7fcd1",
||||||| 6a30bf1
   "id": "a4f7fc9d",
=======
   "id": "ea9ae653",
>>>>>>> documentation-devel
||||||| d28b18c
   "id": "ea9ae653",
=======
   "id": "3e083c0d",
>>>>>>> documentation-devel
||||||| 6893f63
<<<<<<< HEAD
   "id": "61c7fcd1",
||||||| 6a30bf1
   "id": "a4f7fc9d",
=======
   "id": "ea9ae653",
>>>>>>> documentation-devel
=======
   "id": "273881d5",
>>>>>>> c74c98c2450c2a1ba922ed9442f136238d6bc88b
=======
   "id": "2ea6b979",
>>>>>>> 035bb2637984ead2784fecff78c0c60cc4181202
=======
   "id": "74afae80",
>>>>>>> 619c01f26351d57ac14d974b7af136ac5756103f
   "metadata": {},
   "source": [
    "When run on our server, plotting almost 400,000 polygons took around 23 seconds, while using `geom_scattermore()` (`scattermore = TRUE`) took about 2 seconds. Since `geom_scattermore()` rasterizes the plot, the plot will be pixelated when zoomed in. \n",
    "\n",
    "While interactive data visualization is useful for ESDA, there is a need for static figures in publications. As of Voyager 1.2.0 (Bioconductor 3.17), a bounding box can be specified to zoom into the data."
   ]
  },
  {
   "cell_type": "code",
   "execution_count": null,
<<<<<<< HEAD
<<<<<<< HEAD
<<<<<<< HEAD
<<<<<<< HEAD
<<<<<<< HEAD
<<<<<<< HEAD
<<<<<<< HEAD
   "id": "a4c0adaa",
||||||| 6a30bf1
   "id": "755412ca",
=======
   "id": "95b36488",
>>>>>>> documentation-devel
||||||| d28b18c
   "id": "95b36488",
=======
   "id": "98ce8ad8",
>>>>>>> documentation-devel
||||||| 6893f63
<<<<<<< HEAD
   "id": "a4c0adaa",
||||||| 6a30bf1
   "id": "755412ca",
=======
   "id": "95b36488",
>>>>>>> documentation-devel
=======
   "id": "6ba6506b",
>>>>>>> c74c98c2450c2a1ba922ed9442f136238d6bc88b
||||||| 6d93b645
   "id": "98ce8ad8",
=======
   "id": "84385905",
>>>>>>> documentation-devel
||||||| 804edffb
<<<<<<< HEAD
<<<<<<< HEAD
<<<<<<< HEAD
   "id": "a4c0adaa",
||||||| 6a30bf1
   "id": "755412ca",
=======
   "id": "95b36488",
>>>>>>> documentation-devel
||||||| d28b18c
   "id": "95b36488",
=======
   "id": "98ce8ad8",
>>>>>>> documentation-devel
||||||| 6893f63
<<<<<<< HEAD
   "id": "a4c0adaa",
||||||| 6a30bf1
   "id": "755412ca",
=======
   "id": "95b36488",
>>>>>>> documentation-devel
=======
   "id": "6ba6506b",
>>>>>>> c74c98c2450c2a1ba922ed9442f136238d6bc88b
=======
   "id": "51d7d36f",
>>>>>>> 035bb2637984ead2784fecff78c0c60cc4181202
||||||| 3effdfa5
   "id": "84385905",
=======
   "id": "bcb97628",
>>>>>>> documentation-devel
||||||| 96c826da
<<<<<<< HEAD
<<<<<<< HEAD
<<<<<<< HEAD
<<<<<<< HEAD
<<<<<<< HEAD
   "id": "a4c0adaa",
||||||| 6a30bf1
   "id": "755412ca",
=======
   "id": "95b36488",
>>>>>>> documentation-devel
||||||| d28b18c
   "id": "95b36488",
=======
   "id": "98ce8ad8",
>>>>>>> documentation-devel
||||||| 6893f63
<<<<<<< HEAD
   "id": "a4c0adaa",
||||||| 6a30bf1
   "id": "755412ca",
=======
   "id": "95b36488",
>>>>>>> documentation-devel
=======
   "id": "6ba6506b",
>>>>>>> c74c98c2450c2a1ba922ed9442f136238d6bc88b
||||||| 6d93b645
   "id": "98ce8ad8",
=======
   "id": "84385905",
>>>>>>> documentation-devel
||||||| 804edffb
<<<<<<< HEAD
<<<<<<< HEAD
<<<<<<< HEAD
   "id": "a4c0adaa",
||||||| 6a30bf1
   "id": "755412ca",
=======
   "id": "95b36488",
>>>>>>> documentation-devel
||||||| d28b18c
   "id": "95b36488",
=======
   "id": "98ce8ad8",
>>>>>>> documentation-devel
||||||| 6893f63
<<<<<<< HEAD
   "id": "a4c0adaa",
||||||| 6a30bf1
   "id": "755412ca",
=======
   "id": "95b36488",
>>>>>>> documentation-devel
=======
   "id": "6ba6506b",
>>>>>>> c74c98c2450c2a1ba922ed9442f136238d6bc88b
=======
   "id": "51d7d36f",
>>>>>>> 035bb2637984ead2784fecff78c0c60cc4181202
=======
   "id": "51648fdb",
>>>>>>> 619c01f26351d57ac14d974b7af136ac5756103f
   "metadata": {},
   "outputs": [],
   "source": [
    "bbox_use <- c(xmin = 3000, xmax = 3500, ymin = 2500, ymax = 3000)"
   ]
  },
  {
   "cell_type": "code",
   "execution_count": null,
<<<<<<< HEAD
<<<<<<< HEAD
<<<<<<< HEAD
<<<<<<< HEAD
<<<<<<< HEAD
<<<<<<< HEAD
<<<<<<< HEAD
   "id": "8c27d4f6",
||||||| 6a30bf1
   "id": "b687a2fc",
=======
   "id": "b792f948",
>>>>>>> documentation-devel
||||||| d28b18c
   "id": "b792f948",
=======
   "id": "d25a9ccc",
>>>>>>> documentation-devel
||||||| 6893f63
<<<<<<< HEAD
   "id": "8c27d4f6",
||||||| 6a30bf1
   "id": "b687a2fc",
=======
   "id": "b792f948",
>>>>>>> documentation-devel
=======
   "id": "3f076723",
>>>>>>> c74c98c2450c2a1ba922ed9442f136238d6bc88b
||||||| 6d93b645
   "id": "d25a9ccc",
=======
   "id": "cbc17bb7",
>>>>>>> documentation-devel
||||||| 804edffb
<<<<<<< HEAD
<<<<<<< HEAD
<<<<<<< HEAD
   "id": "8c27d4f6",
||||||| 6a30bf1
   "id": "b687a2fc",
=======
   "id": "b792f948",
>>>>>>> documentation-devel
||||||| d28b18c
   "id": "b792f948",
=======
   "id": "d25a9ccc",
>>>>>>> documentation-devel
||||||| 6893f63
<<<<<<< HEAD
   "id": "8c27d4f6",
||||||| 6a30bf1
   "id": "b687a2fc",
=======
   "id": "b792f948",
>>>>>>> documentation-devel
=======
   "id": "3f076723",
>>>>>>> c74c98c2450c2a1ba922ed9442f136238d6bc88b
=======
   "id": "39f0a24c",
>>>>>>> 035bb2637984ead2784fecff78c0c60cc4181202
||||||| 3effdfa5
   "id": "cbc17bb7",
=======
   "id": "b9d4508e",
>>>>>>> documentation-devel
||||||| 96c826da
<<<<<<< HEAD
<<<<<<< HEAD
<<<<<<< HEAD
<<<<<<< HEAD
<<<<<<< HEAD
   "id": "8c27d4f6",
||||||| 6a30bf1
   "id": "b687a2fc",
=======
   "id": "b792f948",
>>>>>>> documentation-devel
||||||| d28b18c
   "id": "b792f948",
=======
   "id": "d25a9ccc",
>>>>>>> documentation-devel
||||||| 6893f63
<<<<<<< HEAD
   "id": "8c27d4f6",
||||||| 6a30bf1
   "id": "b687a2fc",
=======
   "id": "b792f948",
>>>>>>> documentation-devel
=======
   "id": "3f076723",
>>>>>>> c74c98c2450c2a1ba922ed9442f136238d6bc88b
||||||| 6d93b645
   "id": "d25a9ccc",
=======
   "id": "cbc17bb7",
>>>>>>> documentation-devel
||||||| 804edffb
<<<<<<< HEAD
<<<<<<< HEAD
<<<<<<< HEAD
   "id": "8c27d4f6",
||||||| 6a30bf1
   "id": "b687a2fc",
=======
   "id": "b792f948",
>>>>>>> documentation-devel
||||||| d28b18c
   "id": "b792f948",
=======
   "id": "d25a9ccc",
>>>>>>> documentation-devel
||||||| 6893f63
<<<<<<< HEAD
   "id": "8c27d4f6",
||||||| 6a30bf1
   "id": "b687a2fc",
=======
   "id": "b792f948",
>>>>>>> documentation-devel
=======
   "id": "3f076723",
>>>>>>> c74c98c2450c2a1ba922ed9442f136238d6bc88b
=======
   "id": "39f0a24c",
>>>>>>> 035bb2637984ead2784fecff78c0c60cc4181202
=======
   "id": "abc08fc1",
>>>>>>> 619c01f26351d57ac14d974b7af136ac5756103f
   "metadata": {},
   "outputs": [],
   "source": [
    "plotSpatialFeature(sfe, \"nCounts\", colGeometryName = \"cellSeg\", bbox = bbox_use)"
   ]
  },
  {
   "cell_type": "markdown",
<<<<<<< HEAD
<<<<<<< HEAD
<<<<<<< HEAD
<<<<<<< HEAD
<<<<<<< HEAD
<<<<<<< HEAD
<<<<<<< HEAD
   "id": "31449a33",
||||||| 6a30bf1
   "id": "98b79bfc",
=======
   "id": "31bb3b40",
>>>>>>> documentation-devel
||||||| d28b18c
   "id": "31bb3b40",
=======
   "id": "59012df7",
>>>>>>> documentation-devel
||||||| 6893f63
<<<<<<< HEAD
   "id": "31449a33",
||||||| 6a30bf1
   "id": "98b79bfc",
=======
   "id": "31bb3b40",
>>>>>>> documentation-devel
=======
   "id": "1027e502",
>>>>>>> c74c98c2450c2a1ba922ed9442f136238d6bc88b
||||||| 6d93b645
   "id": "59012df7",
=======
   "id": "3d1837fb",
>>>>>>> documentation-devel
||||||| 804edffb
<<<<<<< HEAD
<<<<<<< HEAD
<<<<<<< HEAD
   "id": "31449a33",
||||||| 6a30bf1
   "id": "98b79bfc",
=======
   "id": "31bb3b40",
>>>>>>> documentation-devel
||||||| d28b18c
   "id": "31bb3b40",
=======
   "id": "59012df7",
>>>>>>> documentation-devel
||||||| 6893f63
<<<<<<< HEAD
   "id": "31449a33",
||||||| 6a30bf1
   "id": "98b79bfc",
=======
   "id": "31bb3b40",
>>>>>>> documentation-devel
=======
   "id": "1027e502",
>>>>>>> c74c98c2450c2a1ba922ed9442f136238d6bc88b
=======
   "id": "c58a04dd",
>>>>>>> 035bb2637984ead2784fecff78c0c60cc4181202
||||||| 3effdfa5
   "id": "3d1837fb",
=======
   "id": "d6090110",
>>>>>>> documentation-devel
||||||| 96c826da
<<<<<<< HEAD
<<<<<<< HEAD
<<<<<<< HEAD
<<<<<<< HEAD
<<<<<<< HEAD
   "id": "31449a33",
||||||| 6a30bf1
   "id": "98b79bfc",
=======
   "id": "31bb3b40",
>>>>>>> documentation-devel
||||||| d28b18c
   "id": "31bb3b40",
=======
   "id": "59012df7",
>>>>>>> documentation-devel
||||||| 6893f63
<<<<<<< HEAD
   "id": "31449a33",
||||||| 6a30bf1
   "id": "98b79bfc",
=======
   "id": "31bb3b40",
>>>>>>> documentation-devel
=======
   "id": "1027e502",
>>>>>>> c74c98c2450c2a1ba922ed9442f136238d6bc88b
||||||| 6d93b645
   "id": "59012df7",
=======
   "id": "3d1837fb",
>>>>>>> documentation-devel
||||||| 804edffb
<<<<<<< HEAD
<<<<<<< HEAD
<<<<<<< HEAD
   "id": "31449a33",
||||||| 6a30bf1
   "id": "98b79bfc",
=======
   "id": "31bb3b40",
>>>>>>> documentation-devel
||||||| d28b18c
   "id": "31bb3b40",
=======
   "id": "59012df7",
>>>>>>> documentation-devel
||||||| 6893f63
<<<<<<< HEAD
   "id": "31449a33",
||||||| 6a30bf1
   "id": "98b79bfc",
=======
   "id": "31bb3b40",
>>>>>>> documentation-devel
=======
   "id": "1027e502",
>>>>>>> c74c98c2450c2a1ba922ed9442f136238d6bc88b
=======
   "id": "c58a04dd",
>>>>>>> 035bb2637984ead2784fecff78c0c60cc4181202
=======
   "id": "91091f75",
>>>>>>> 619c01f26351d57ac14d974b7af136ac5756103f
   "metadata": {
    "lines_to_next_cell": 0
   },
   "source": [
    "Much of the time making this plot is spent subsetting the `sf` data frame with the bounding box. Here, spatial autocorrelation is evident in the upper right region with smaller cells, but less so in the rest of this patch. nCounts seems to be related to cell size; larger cells seem to have more total counts.\n",
    "\n",
    "Interactive data visualization is currently beyond the scope of `Voyager` or this vignette. There are existing tools for interactive visualization of highly multiplexed imaging data, such as [`MERmaid`](https://github.com/JEFworks-Lab/MERmaid) [@Wang2020-sv] for MERFISH data, [`TissUUmaps`](https://github.com/TissUUmaps/TissUUmapsCore) [@Pielawski2022-wk], and [`Visinity`](https://github.com/labsyspharm/visinity) [@Warchol2022-zw].\n",
    "\n",
    "Since there aren't too many genes, all genes and negative control probes can be displayed:"
   ]
  },
  {
   "cell_type": "code",
   "execution_count": null,
<<<<<<< HEAD
<<<<<<< HEAD
<<<<<<< HEAD
<<<<<<< HEAD
<<<<<<< HEAD
<<<<<<< HEAD
<<<<<<< HEAD
   "id": "c8aaea9b",
||||||| 6a30bf1
   "id": "cc0d3c6c",
=======
   "id": "15e5508b",
>>>>>>> documentation-devel
||||||| d28b18c
   "id": "15e5508b",
=======
   "id": "87ca6815",
>>>>>>> documentation-devel
||||||| 6893f63
<<<<<<< HEAD
   "id": "c8aaea9b",
||||||| 6a30bf1
   "id": "cc0d3c6c",
=======
   "id": "15e5508b",
>>>>>>> documentation-devel
=======
   "id": "4ef7987d",
>>>>>>> c74c98c2450c2a1ba922ed9442f136238d6bc88b
||||||| 6d93b645
   "id": "87ca6815",
=======
   "id": "3baaea96",
>>>>>>> documentation-devel
||||||| 804edffb
<<<<<<< HEAD
<<<<<<< HEAD
<<<<<<< HEAD
   "id": "c8aaea9b",
||||||| 6a30bf1
   "id": "cc0d3c6c",
=======
   "id": "15e5508b",
>>>>>>> documentation-devel
||||||| d28b18c
   "id": "15e5508b",
=======
   "id": "87ca6815",
>>>>>>> documentation-devel
||||||| 6893f63
<<<<<<< HEAD
   "id": "c8aaea9b",
||||||| 6a30bf1
   "id": "cc0d3c6c",
=======
   "id": "15e5508b",
>>>>>>> documentation-devel
=======
   "id": "4ef7987d",
>>>>>>> c74c98c2450c2a1ba922ed9442f136238d6bc88b
=======
   "id": "783f9ab7",
>>>>>>> 035bb2637984ead2784fecff78c0c60cc4181202
||||||| 3effdfa5
   "id": "3baaea96",
=======
   "id": "bef2c36f",
>>>>>>> documentation-devel
||||||| 96c826da
<<<<<<< HEAD
<<<<<<< HEAD
<<<<<<< HEAD
<<<<<<< HEAD
<<<<<<< HEAD
   "id": "c8aaea9b",
||||||| 6a30bf1
   "id": "cc0d3c6c",
=======
   "id": "15e5508b",
>>>>>>> documentation-devel
||||||| d28b18c
   "id": "15e5508b",
=======
   "id": "87ca6815",
>>>>>>> documentation-devel
||||||| 6893f63
<<<<<<< HEAD
   "id": "c8aaea9b",
||||||| 6a30bf1
   "id": "cc0d3c6c",
=======
   "id": "15e5508b",
>>>>>>> documentation-devel
=======
   "id": "4ef7987d",
>>>>>>> c74c98c2450c2a1ba922ed9442f136238d6bc88b
||||||| 6d93b645
   "id": "87ca6815",
=======
   "id": "3baaea96",
>>>>>>> documentation-devel
||||||| 804edffb
<<<<<<< HEAD
<<<<<<< HEAD
<<<<<<< HEAD
   "id": "c8aaea9b",
||||||| 6a30bf1
   "id": "cc0d3c6c",
=======
   "id": "15e5508b",
>>>>>>> documentation-devel
||||||| d28b18c
   "id": "15e5508b",
=======
   "id": "87ca6815",
>>>>>>> documentation-devel
||||||| 6893f63
<<<<<<< HEAD
   "id": "c8aaea9b",
||||||| 6a30bf1
   "id": "cc0d3c6c",
=======
   "id": "15e5508b",
>>>>>>> documentation-devel
=======
   "id": "4ef7987d",
>>>>>>> c74c98c2450c2a1ba922ed9442f136238d6bc88b
=======
   "id": "783f9ab7",
>>>>>>> 035bb2637984ead2784fecff78c0c60cc4181202
=======
   "id": "47e0b51f",
>>>>>>> 619c01f26351d57ac14d974b7af136ac5756103f
   "metadata": {},
   "outputs": [],
   "source": [
    "rownames(sfe)"
   ]
  },
  {
   "cell_type": "markdown",
<<<<<<< HEAD
<<<<<<< HEAD
<<<<<<< HEAD
<<<<<<< HEAD
<<<<<<< HEAD
<<<<<<< HEAD
<<<<<<< HEAD
   "id": "2edaed33",
||||||| 6a30bf1
   "id": "e81781ef",
=======
   "id": "316faad7",
>>>>>>> documentation-devel
||||||| d28b18c
   "id": "316faad7",
=======
   "id": "ba98ef8f",
>>>>>>> documentation-devel
||||||| 6893f63
<<<<<<< HEAD
   "id": "2edaed33",
||||||| 6a30bf1
   "id": "e81781ef",
=======
   "id": "316faad7",
>>>>>>> documentation-devel
=======
   "id": "f94b3e2c",
>>>>>>> c74c98c2450c2a1ba922ed9442f136238d6bc88b
||||||| 6d93b645
   "id": "ba98ef8f",
=======
   "id": "7fd133fe",
>>>>>>> documentation-devel
||||||| 804edffb
<<<<<<< HEAD
<<<<<<< HEAD
<<<<<<< HEAD
   "id": "2edaed33",
||||||| 6a30bf1
   "id": "e81781ef",
=======
   "id": "316faad7",
>>>>>>> documentation-devel
||||||| d28b18c
   "id": "316faad7",
=======
   "id": "ba98ef8f",
>>>>>>> documentation-devel
||||||| 6893f63
<<<<<<< HEAD
   "id": "2edaed33",
||||||| 6a30bf1
   "id": "e81781ef",
=======
   "id": "316faad7",
>>>>>>> documentation-devel
=======
   "id": "f94b3e2c",
>>>>>>> c74c98c2450c2a1ba922ed9442f136238d6bc88b
=======
   "id": "5ad72f50",
>>>>>>> 035bb2637984ead2784fecff78c0c60cc4181202
||||||| 3effdfa5
   "id": "7fd133fe",
=======
   "id": "2c542996",
>>>>>>> documentation-devel
||||||| 96c826da
<<<<<<< HEAD
<<<<<<< HEAD
<<<<<<< HEAD
<<<<<<< HEAD
<<<<<<< HEAD
   "id": "2edaed33",
||||||| 6a30bf1
   "id": "e81781ef",
=======
   "id": "316faad7",
>>>>>>> documentation-devel
||||||| d28b18c
   "id": "316faad7",
=======
   "id": "ba98ef8f",
>>>>>>> documentation-devel
||||||| 6893f63
<<<<<<< HEAD
   "id": "2edaed33",
||||||| 6a30bf1
   "id": "e81781ef",
=======
   "id": "316faad7",
>>>>>>> documentation-devel
=======
   "id": "f94b3e2c",
>>>>>>> c74c98c2450c2a1ba922ed9442f136238d6bc88b
||||||| 6d93b645
   "id": "ba98ef8f",
=======
   "id": "7fd133fe",
>>>>>>> documentation-devel
||||||| 804edffb
<<<<<<< HEAD
<<<<<<< HEAD
<<<<<<< HEAD
   "id": "2edaed33",
||||||| 6a30bf1
   "id": "e81781ef",
=======
   "id": "316faad7",
>>>>>>> documentation-devel
||||||| d28b18c
   "id": "316faad7",
=======
   "id": "ba98ef8f",
>>>>>>> documentation-devel
||||||| 6893f63
<<<<<<< HEAD
   "id": "2edaed33",
||||||| 6a30bf1
   "id": "e81781ef",
=======
   "id": "316faad7",
>>>>>>> documentation-devel
=======
   "id": "f94b3e2c",
>>>>>>> c74c98c2450c2a1ba922ed9442f136238d6bc88b
=======
   "id": "5ad72f50",
>>>>>>> 035bb2637984ead2784fecff78c0c60cc4181202
=======
   "id": "d9cc0f08",
>>>>>>> 619c01f26351d57ac14d974b7af136ac5756103f
   "metadata": {},
   "source": [
    "The number of real genes is 347."
   ]
  },
  {
   "cell_type": "code",
   "execution_count": null,
<<<<<<< HEAD
<<<<<<< HEAD
<<<<<<< HEAD
<<<<<<< HEAD
<<<<<<< HEAD
<<<<<<< HEAD
<<<<<<< HEAD
   "id": "d03d1f79",
||||||| 6a30bf1
   "id": "da7ccd54",
=======
   "id": "56d98575",
>>>>>>> documentation-devel
||||||| d28b18c
   "id": "56d98575",
=======
   "id": "8a81eda3",
>>>>>>> documentation-devel
||||||| 6893f63
<<<<<<< HEAD
   "id": "d03d1f79",
||||||| 6a30bf1
   "id": "da7ccd54",
=======
   "id": "56d98575",
>>>>>>> documentation-devel
=======
   "id": "12e08ea4",
>>>>>>> c74c98c2450c2a1ba922ed9442f136238d6bc88b
||||||| 6d93b645
   "id": "8a81eda3",
=======
   "id": "8e8b9992",
>>>>>>> documentation-devel
||||||| 804edffb
<<<<<<< HEAD
<<<<<<< HEAD
<<<<<<< HEAD
   "id": "d03d1f79",
||||||| 6a30bf1
   "id": "da7ccd54",
=======
   "id": "56d98575",
>>>>>>> documentation-devel
||||||| d28b18c
   "id": "56d98575",
=======
   "id": "8a81eda3",
>>>>>>> documentation-devel
||||||| 6893f63
<<<<<<< HEAD
   "id": "d03d1f79",
||||||| 6a30bf1
   "id": "da7ccd54",
=======
   "id": "56d98575",
>>>>>>> documentation-devel
=======
   "id": "12e08ea4",
>>>>>>> c74c98c2450c2a1ba922ed9442f136238d6bc88b
=======
   "id": "bcfcec04",
>>>>>>> 035bb2637984ead2784fecff78c0c60cc4181202
||||||| 3effdfa5
   "id": "8e8b9992",
=======
   "id": "d3eba802",
>>>>>>> documentation-devel
||||||| 96c826da
<<<<<<< HEAD
<<<<<<< HEAD
<<<<<<< HEAD
<<<<<<< HEAD
<<<<<<< HEAD
   "id": "d03d1f79",
||||||| 6a30bf1
   "id": "da7ccd54",
=======
   "id": "56d98575",
>>>>>>> documentation-devel
||||||| d28b18c
   "id": "56d98575",
=======
   "id": "8a81eda3",
>>>>>>> documentation-devel
||||||| 6893f63
<<<<<<< HEAD
   "id": "d03d1f79",
||||||| 6a30bf1
   "id": "da7ccd54",
=======
   "id": "56d98575",
>>>>>>> documentation-devel
=======
   "id": "12e08ea4",
>>>>>>> c74c98c2450c2a1ba922ed9442f136238d6bc88b
||||||| 6d93b645
   "id": "8a81eda3",
=======
   "id": "8e8b9992",
>>>>>>> documentation-devel
||||||| 804edffb
<<<<<<< HEAD
<<<<<<< HEAD
<<<<<<< HEAD
   "id": "d03d1f79",
||||||| 6a30bf1
   "id": "da7ccd54",
=======
   "id": "56d98575",
>>>>>>> documentation-devel
||||||| d28b18c
   "id": "56d98575",
=======
   "id": "8a81eda3",
>>>>>>> documentation-devel
||||||| 6893f63
<<<<<<< HEAD
   "id": "d03d1f79",
||||||| 6a30bf1
   "id": "da7ccd54",
=======
   "id": "56d98575",
>>>>>>> documentation-devel
=======
   "id": "12e08ea4",
>>>>>>> c74c98c2450c2a1ba922ed9442f136238d6bc88b
=======
   "id": "bcfcec04",
>>>>>>> 035bb2637984ead2784fecff78c0c60cc4181202
=======
   "id": "95390554",
>>>>>>> 619c01f26351d57ac14d974b7af136ac5756103f
   "metadata": {},
   "outputs": [],
   "source": [
    "n_panel <- 347"
   ]
  },
  {
   "cell_type": "markdown",
<<<<<<< HEAD
<<<<<<< HEAD
<<<<<<< HEAD
<<<<<<< HEAD
<<<<<<< HEAD
<<<<<<< HEAD
<<<<<<< HEAD
   "id": "f0e71495",
||||||| 6a30bf1
   "id": "38aeef8a",
=======
   "id": "7a8b13e5",
>>>>>>> documentation-devel
||||||| d28b18c
   "id": "7a8b13e5",
=======
   "id": "7e39fd27",
>>>>>>> documentation-devel
||||||| 6893f63
<<<<<<< HEAD
   "id": "f0e71495",
||||||| 6a30bf1
   "id": "38aeef8a",
=======
   "id": "7a8b13e5",
>>>>>>> documentation-devel
=======
   "id": "77187c3c",
>>>>>>> c74c98c2450c2a1ba922ed9442f136238d6bc88b
||||||| 6d93b645
   "id": "7e39fd27",
=======
   "id": "8b9d6758",
>>>>>>> documentation-devel
||||||| 804edffb
<<<<<<< HEAD
<<<<<<< HEAD
<<<<<<< HEAD
   "id": "f0e71495",
||||||| 6a30bf1
   "id": "38aeef8a",
=======
   "id": "7a8b13e5",
>>>>>>> documentation-devel
||||||| d28b18c
   "id": "7a8b13e5",
=======
   "id": "7e39fd27",
>>>>>>> documentation-devel
||||||| 6893f63
<<<<<<< HEAD
   "id": "f0e71495",
||||||| 6a30bf1
   "id": "38aeef8a",
=======
   "id": "7a8b13e5",
>>>>>>> documentation-devel
=======
   "id": "77187c3c",
>>>>>>> c74c98c2450c2a1ba922ed9442f136238d6bc88b
=======
   "id": "5075aae6",
>>>>>>> 035bb2637984ead2784fecff78c0c60cc4181202
||||||| 3effdfa5
   "id": "8b9d6758",
=======
   "id": "9979c69d",
>>>>>>> documentation-devel
||||||| 96c826da
<<<<<<< HEAD
<<<<<<< HEAD
<<<<<<< HEAD
<<<<<<< HEAD
<<<<<<< HEAD
   "id": "f0e71495",
||||||| 6a30bf1
   "id": "38aeef8a",
=======
   "id": "7a8b13e5",
>>>>>>> documentation-devel
||||||| d28b18c
   "id": "7a8b13e5",
=======
   "id": "7e39fd27",
>>>>>>> documentation-devel
||||||| 6893f63
<<<<<<< HEAD
   "id": "f0e71495",
||||||| 6a30bf1
   "id": "38aeef8a",
=======
   "id": "7a8b13e5",
>>>>>>> documentation-devel
=======
   "id": "77187c3c",
>>>>>>> c74c98c2450c2a1ba922ed9442f136238d6bc88b
||||||| 6d93b645
   "id": "7e39fd27",
=======
   "id": "8b9d6758",
>>>>>>> documentation-devel
||||||| 804edffb
<<<<<<< HEAD
<<<<<<< HEAD
<<<<<<< HEAD
   "id": "f0e71495",
||||||| 6a30bf1
   "id": "38aeef8a",
=======
   "id": "7a8b13e5",
>>>>>>> documentation-devel
||||||| d28b18c
   "id": "7a8b13e5",
=======
   "id": "7e39fd27",
>>>>>>> documentation-devel
||||||| 6893f63
<<<<<<< HEAD
   "id": "f0e71495",
||||||| 6a30bf1
   "id": "38aeef8a",
=======
   "id": "7a8b13e5",
>>>>>>> documentation-devel
=======
   "id": "77187c3c",
>>>>>>> c74c98c2450c2a1ba922ed9442f136238d6bc88b
=======
   "id": "5075aae6",
>>>>>>> 035bb2637984ead2784fecff78c0c60cc4181202
=======
   "id": "be914066",
>>>>>>> 619c01f26351d57ac14d974b7af136ac5756103f
   "metadata": {
    "lines_to_next_cell": 0
   },
   "source": [
    "Next, we plot the distribution of nCounts divided by the number of genes in the panel, so this distribution is more comparable across datasets with different numbers of genes."
   ]
  },
  {
   "cell_type": "code",
   "execution_count": null,
<<<<<<< HEAD
<<<<<<< HEAD
<<<<<<< HEAD
<<<<<<< HEAD
<<<<<<< HEAD
<<<<<<< HEAD
<<<<<<< HEAD
   "id": "f6feda74",
||||||| 6a30bf1
   "id": "449a23ed",
=======
   "id": "729f42ac",
>>>>>>> documentation-devel
||||||| d28b18c
   "id": "729f42ac",
=======
   "id": "8abd432e",
>>>>>>> documentation-devel
||||||| 6893f63
<<<<<<< HEAD
   "id": "f6feda74",
||||||| 6a30bf1
   "id": "449a23ed",
=======
   "id": "729f42ac",
>>>>>>> documentation-devel
=======
   "id": "e574976a",
>>>>>>> c74c98c2450c2a1ba922ed9442f136238d6bc88b
||||||| 6d93b645
   "id": "8abd432e",
=======
   "id": "13f53c89",
>>>>>>> documentation-devel
||||||| 804edffb
<<<<<<< HEAD
<<<<<<< HEAD
<<<<<<< HEAD
   "id": "f6feda74",
||||||| 6a30bf1
   "id": "449a23ed",
=======
   "id": "729f42ac",
>>>>>>> documentation-devel
||||||| d28b18c
   "id": "729f42ac",
=======
   "id": "8abd432e",
>>>>>>> documentation-devel
||||||| 6893f63
<<<<<<< HEAD
   "id": "f6feda74",
||||||| 6a30bf1
   "id": "449a23ed",
=======
   "id": "729f42ac",
>>>>>>> documentation-devel
=======
   "id": "e574976a",
>>>>>>> c74c98c2450c2a1ba922ed9442f136238d6bc88b
=======
   "id": "a29072e9",
>>>>>>> 035bb2637984ead2784fecff78c0c60cc4181202
||||||| 3effdfa5
   "id": "13f53c89",
=======
   "id": "936c0fc5",
>>>>>>> documentation-devel
||||||| 96c826da
<<<<<<< HEAD
<<<<<<< HEAD
<<<<<<< HEAD
<<<<<<< HEAD
<<<<<<< HEAD
   "id": "f6feda74",
||||||| 6a30bf1
   "id": "449a23ed",
=======
   "id": "729f42ac",
>>>>>>> documentation-devel
||||||| d28b18c
   "id": "729f42ac",
=======
   "id": "8abd432e",
>>>>>>> documentation-devel
||||||| 6893f63
<<<<<<< HEAD
   "id": "f6feda74",
||||||| 6a30bf1
   "id": "449a23ed",
=======
   "id": "729f42ac",
>>>>>>> documentation-devel
=======
   "id": "e574976a",
>>>>>>> c74c98c2450c2a1ba922ed9442f136238d6bc88b
||||||| 6d93b645
   "id": "8abd432e",
=======
   "id": "13f53c89",
>>>>>>> documentation-devel
||||||| 804edffb
<<<<<<< HEAD
<<<<<<< HEAD
<<<<<<< HEAD
   "id": "f6feda74",
||||||| 6a30bf1
   "id": "449a23ed",
=======
   "id": "729f42ac",
>>>>>>> documentation-devel
||||||| d28b18c
   "id": "729f42ac",
=======
   "id": "8abd432e",
>>>>>>> documentation-devel
||||||| 6893f63
<<<<<<< HEAD
   "id": "f6feda74",
||||||| 6a30bf1
   "id": "449a23ed",
=======
   "id": "729f42ac",
>>>>>>> documentation-devel
=======
   "id": "e574976a",
>>>>>>> c74c98c2450c2a1ba922ed9442f136238d6bc88b
=======
   "id": "a29072e9",
>>>>>>> 035bb2637984ead2784fecff78c0c60cc4181202
=======
   "id": "999e6cdb",
>>>>>>> 619c01f26351d57ac14d974b7af136ac5756103f
   "metadata": {},
   "outputs": [],
   "source": [
    "colData(sfe)$nCounts_normed <- sfe$nCounts / n_panel\n",
    "colData(sfe)$nGenes_normed <- sfe$nGenes / n_panel"
   ]
  },
  {
   "cell_type": "code",
   "execution_count": null,
<<<<<<< HEAD
<<<<<<< HEAD
<<<<<<< HEAD
<<<<<<< HEAD
<<<<<<< HEAD
<<<<<<< HEAD
<<<<<<< HEAD
   "id": "d4e48cb9",
||||||| 6a30bf1
   "id": "7844c22d",
=======
   "id": "b493e8b1",
>>>>>>> documentation-devel
||||||| d28b18c
   "id": "b493e8b1",
=======
   "id": "d70d41dc",
>>>>>>> documentation-devel
||||||| 6893f63
<<<<<<< HEAD
   "id": "d4e48cb9",
||||||| 6a30bf1
   "id": "7844c22d",
=======
   "id": "b493e8b1",
>>>>>>> documentation-devel
=======
   "id": "6ccf4580",
>>>>>>> c74c98c2450c2a1ba922ed9442f136238d6bc88b
||||||| 6d93b645
   "id": "d70d41dc",
=======
   "id": "442d946a",
>>>>>>> documentation-devel
||||||| 804edffb
<<<<<<< HEAD
<<<<<<< HEAD
<<<<<<< HEAD
   "id": "d4e48cb9",
||||||| 6a30bf1
   "id": "7844c22d",
=======
   "id": "b493e8b1",
>>>>>>> documentation-devel
||||||| d28b18c
   "id": "b493e8b1",
=======
   "id": "d70d41dc",
>>>>>>> documentation-devel
||||||| 6893f63
<<<<<<< HEAD
   "id": "d4e48cb9",
||||||| 6a30bf1
   "id": "7844c22d",
=======
   "id": "b493e8b1",
>>>>>>> documentation-devel
=======
   "id": "6ccf4580",
>>>>>>> c74c98c2450c2a1ba922ed9442f136238d6bc88b
=======
   "id": "9c3bdf8d",
>>>>>>> 035bb2637984ead2784fecff78c0c60cc4181202
||||||| 3effdfa5
   "id": "442d946a",
=======
   "id": "7266f974",
>>>>>>> documentation-devel
||||||| 96c826da
<<<<<<< HEAD
<<<<<<< HEAD
<<<<<<< HEAD
<<<<<<< HEAD
<<<<<<< HEAD
   "id": "d4e48cb9",
||||||| 6a30bf1
   "id": "7844c22d",
=======
   "id": "b493e8b1",
>>>>>>> documentation-devel
||||||| d28b18c
   "id": "b493e8b1",
=======
   "id": "d70d41dc",
>>>>>>> documentation-devel
||||||| 6893f63
<<<<<<< HEAD
   "id": "d4e48cb9",
||||||| 6a30bf1
   "id": "7844c22d",
=======
   "id": "b493e8b1",
>>>>>>> documentation-devel
=======
   "id": "6ccf4580",
>>>>>>> c74c98c2450c2a1ba922ed9442f136238d6bc88b
||||||| 6d93b645
   "id": "d70d41dc",
=======
   "id": "442d946a",
>>>>>>> documentation-devel
||||||| 804edffb
<<<<<<< HEAD
<<<<<<< HEAD
<<<<<<< HEAD
   "id": "d4e48cb9",
||||||| 6a30bf1
   "id": "7844c22d",
=======
   "id": "b493e8b1",
>>>>>>> documentation-devel
||||||| d28b18c
   "id": "b493e8b1",
=======
   "id": "d70d41dc",
>>>>>>> documentation-devel
||||||| 6893f63
<<<<<<< HEAD
   "id": "d4e48cb9",
||||||| 6a30bf1
   "id": "7844c22d",
=======
   "id": "b493e8b1",
>>>>>>> documentation-devel
=======
   "id": "6ccf4580",
>>>>>>> c74c98c2450c2a1ba922ed9442f136238d6bc88b
=======
   "id": "9c3bdf8d",
>>>>>>> 035bb2637984ead2784fecff78c0c60cc4181202
=======
   "id": "deb344a2",
>>>>>>> 619c01f26351d57ac14d974b7af136ac5756103f
   "metadata": {},
   "outputs": [],
   "source": [
    "plotColDataHistogram(sfe, c(\"nCounts_normed\", \"nGenes_normed\"))"
   ]
  },
  {
   "cell_type": "markdown",
<<<<<<< HEAD
<<<<<<< HEAD
<<<<<<< HEAD
<<<<<<< HEAD
<<<<<<< HEAD
<<<<<<< HEAD
<<<<<<< HEAD
   "id": "d2cb1150",
||||||| 6a30bf1
   "id": "2083c3ba",
=======
   "id": "57923a31",
>>>>>>> documentation-devel
||||||| d28b18c
   "id": "57923a31",
=======
   "id": "bbfaad18",
>>>>>>> documentation-devel
||||||| 6893f63
<<<<<<< HEAD
   "id": "d2cb1150",
||||||| 6a30bf1
   "id": "2083c3ba",
=======
   "id": "57923a31",
>>>>>>> documentation-devel
=======
   "id": "3b0eb8cb",
>>>>>>> c74c98c2450c2a1ba922ed9442f136238d6bc88b
||||||| 6d93b645
   "id": "bbfaad18",
=======
   "id": "f4733719",
>>>>>>> documentation-devel
||||||| 804edffb
<<<<<<< HEAD
<<<<<<< HEAD
<<<<<<< HEAD
   "id": "d2cb1150",
||||||| 6a30bf1
   "id": "2083c3ba",
=======
   "id": "57923a31",
>>>>>>> documentation-devel
||||||| d28b18c
   "id": "57923a31",
=======
   "id": "bbfaad18",
>>>>>>> documentation-devel
||||||| 6893f63
<<<<<<< HEAD
   "id": "d2cb1150",
||||||| 6a30bf1
   "id": "2083c3ba",
=======
   "id": "57923a31",
>>>>>>> documentation-devel
=======
   "id": "3b0eb8cb",
>>>>>>> c74c98c2450c2a1ba922ed9442f136238d6bc88b
=======
   "id": "8363d6bf",
>>>>>>> 035bb2637984ead2784fecff78c0c60cc4181202
||||||| 3effdfa5
   "id": "f4733719",
=======
   "id": "3da0faab",
>>>>>>> documentation-devel
||||||| 96c826da
<<<<<<< HEAD
<<<<<<< HEAD
<<<<<<< HEAD
<<<<<<< HEAD
<<<<<<< HEAD
   "id": "d2cb1150",
||||||| 6a30bf1
   "id": "2083c3ba",
=======
   "id": "57923a31",
>>>>>>> documentation-devel
||||||| d28b18c
   "id": "57923a31",
=======
   "id": "bbfaad18",
>>>>>>> documentation-devel
||||||| 6893f63
<<<<<<< HEAD
   "id": "d2cb1150",
||||||| 6a30bf1
   "id": "2083c3ba",
=======
   "id": "57923a31",
>>>>>>> documentation-devel
=======
   "id": "3b0eb8cb",
>>>>>>> c74c98c2450c2a1ba922ed9442f136238d6bc88b
||||||| 6d93b645
   "id": "bbfaad18",
=======
   "id": "f4733719",
>>>>>>> documentation-devel
||||||| 804edffb
<<<<<<< HEAD
<<<<<<< HEAD
<<<<<<< HEAD
   "id": "d2cb1150",
||||||| 6a30bf1
   "id": "2083c3ba",
=======
   "id": "57923a31",
>>>>>>> documentation-devel
||||||| d28b18c
   "id": "57923a31",
=======
   "id": "bbfaad18",
>>>>>>> documentation-devel
||||||| 6893f63
<<<<<<< HEAD
   "id": "d2cb1150",
||||||| 6a30bf1
   "id": "2083c3ba",
=======
   "id": "57923a31",
>>>>>>> documentation-devel
=======
   "id": "3b0eb8cb",
>>>>>>> c74c98c2450c2a1ba922ed9442f136238d6bc88b
=======
   "id": "8363d6bf",
>>>>>>> 035bb2637984ead2784fecff78c0c60cc4181202
=======
   "id": "db651463",
>>>>>>> 619c01f26351d57ac14d974b7af136ac5756103f
   "metadata": {
    "lines_to_next_cell": 0
   },
   "source": [
    "As with the [Xenium dataset](https://pachterlab.github.io/voyager/articles/vig5_xenium.html#cells), there are mysterious regular notches in the histogram of the number of genes detected.\n",
    "\n",
    "We also plot the number of genes detected per cell, with `geom_scattermore()`."
   ]
  },
  {
   "cell_type": "code",
   "execution_count": null,
<<<<<<< HEAD
<<<<<<< HEAD
<<<<<<< HEAD
<<<<<<< HEAD
<<<<<<< HEAD
<<<<<<< HEAD
<<<<<<< HEAD
   "id": "1a57c09c",
||||||| 6a30bf1
   "id": "6c5d3b13",
=======
   "id": "2694676f",
>>>>>>> documentation-devel
||||||| d28b18c
   "id": "2694676f",
=======
   "id": "3519cc7f",
>>>>>>> documentation-devel
||||||| 6893f63
<<<<<<< HEAD
   "id": "1a57c09c",
||||||| 6a30bf1
   "id": "6c5d3b13",
=======
   "id": "2694676f",
>>>>>>> documentation-devel
=======
   "id": "22e89194",
>>>>>>> c74c98c2450c2a1ba922ed9442f136238d6bc88b
||||||| 6d93b645
   "id": "3519cc7f",
=======
   "id": "aef9923d",
>>>>>>> documentation-devel
||||||| 804edffb
<<<<<<< HEAD
<<<<<<< HEAD
<<<<<<< HEAD
   "id": "1a57c09c",
||||||| 6a30bf1
   "id": "6c5d3b13",
=======
   "id": "2694676f",
>>>>>>> documentation-devel
||||||| d28b18c
   "id": "2694676f",
=======
   "id": "3519cc7f",
>>>>>>> documentation-devel
||||||| 6893f63
<<<<<<< HEAD
   "id": "1a57c09c",
||||||| 6a30bf1
   "id": "6c5d3b13",
=======
   "id": "2694676f",
>>>>>>> documentation-devel
=======
   "id": "22e89194",
>>>>>>> c74c98c2450c2a1ba922ed9442f136238d6bc88b
=======
   "id": "bb784eba",
>>>>>>> 035bb2637984ead2784fecff78c0c60cc4181202
||||||| 3effdfa5
   "id": "aef9923d",
=======
   "id": "7db2e86e",
>>>>>>> documentation-devel
||||||| 96c826da
<<<<<<< HEAD
<<<<<<< HEAD
<<<<<<< HEAD
<<<<<<< HEAD
<<<<<<< HEAD
   "id": "1a57c09c",
||||||| 6a30bf1
   "id": "6c5d3b13",
=======
   "id": "2694676f",
>>>>>>> documentation-devel
||||||| d28b18c
   "id": "2694676f",
=======
   "id": "3519cc7f",
>>>>>>> documentation-devel
||||||| 6893f63
<<<<<<< HEAD
   "id": "1a57c09c",
||||||| 6a30bf1
   "id": "6c5d3b13",
=======
   "id": "2694676f",
>>>>>>> documentation-devel
=======
   "id": "22e89194",
>>>>>>> c74c98c2450c2a1ba922ed9442f136238d6bc88b
||||||| 6d93b645
   "id": "3519cc7f",
=======
   "id": "aef9923d",
>>>>>>> documentation-devel
||||||| 804edffb
<<<<<<< HEAD
<<<<<<< HEAD
<<<<<<< HEAD
   "id": "1a57c09c",
||||||| 6a30bf1
   "id": "6c5d3b13",
=======
   "id": "2694676f",
>>>>>>> documentation-devel
||||||| d28b18c
   "id": "2694676f",
=======
   "id": "3519cc7f",
>>>>>>> documentation-devel
||||||| 6893f63
<<<<<<< HEAD
   "id": "1a57c09c",
||||||| 6a30bf1
   "id": "6c5d3b13",
=======
   "id": "2694676f",
>>>>>>> documentation-devel
=======
   "id": "22e89194",
>>>>>>> c74c98c2450c2a1ba922ed9442f136238d6bc88b
=======
   "id": "bb784eba",
>>>>>>> 035bb2637984ead2784fecff78c0c60cc4181202
=======
   "id": "17bd5932",
>>>>>>> 619c01f26351d57ac14d974b7af136ac5756103f
   "metadata": {},
   "outputs": [],
   "source": [
    "plotSpatialFeature(sfe, \"nGenes\", colGeometryName = \"centroids\", scattermore = TRUE)"
   ]
  },
  {
   "cell_type": "markdown",
<<<<<<< HEAD
<<<<<<< HEAD
<<<<<<< HEAD
<<<<<<< HEAD
<<<<<<< HEAD
<<<<<<< HEAD
<<<<<<< HEAD
   "id": "bf491023",
||||||| 6a30bf1
   "id": "292b776c",
=======
   "id": "a6989340",
>>>>>>> documentation-devel
||||||| d28b18c
   "id": "a6989340",
=======
   "id": "8c8082aa",
>>>>>>> documentation-devel
||||||| 6893f63
<<<<<<< HEAD
   "id": "bf491023",
||||||| 6a30bf1
   "id": "292b776c",
=======
   "id": "a6989340",
>>>>>>> documentation-devel
=======
   "id": "8f17aeec",
>>>>>>> c74c98c2450c2a1ba922ed9442f136238d6bc88b
||||||| 6d93b645
   "id": "8c8082aa",
=======
   "id": "ee9d839f",
>>>>>>> documentation-devel
||||||| 804edffb
<<<<<<< HEAD
<<<<<<< HEAD
<<<<<<< HEAD
   "id": "bf491023",
||||||| 6a30bf1
   "id": "292b776c",
=======
   "id": "a6989340",
>>>>>>> documentation-devel
||||||| d28b18c
   "id": "a6989340",
=======
   "id": "8c8082aa",
>>>>>>> documentation-devel
||||||| 6893f63
<<<<<<< HEAD
   "id": "bf491023",
||||||| 6a30bf1
   "id": "292b776c",
=======
   "id": "a6989340",
>>>>>>> documentation-devel
=======
   "id": "8f17aeec",
>>>>>>> c74c98c2450c2a1ba922ed9442f136238d6bc88b
=======
   "id": "9cbf7104",
>>>>>>> 035bb2637984ead2784fecff78c0c60cc4181202
||||||| 3effdfa5
   "id": "ee9d839f",
=======
   "id": "aec64cd1",
>>>>>>> documentation-devel
||||||| 96c826da
<<<<<<< HEAD
<<<<<<< HEAD
<<<<<<< HEAD
<<<<<<< HEAD
<<<<<<< HEAD
   "id": "bf491023",
||||||| 6a30bf1
   "id": "292b776c",
=======
   "id": "a6989340",
>>>>>>> documentation-devel
||||||| d28b18c
   "id": "a6989340",
=======
   "id": "8c8082aa",
>>>>>>> documentation-devel
||||||| 6893f63
<<<<<<< HEAD
   "id": "bf491023",
||||||| 6a30bf1
   "id": "292b776c",
=======
   "id": "a6989340",
>>>>>>> documentation-devel
=======
   "id": "8f17aeec",
>>>>>>> c74c98c2450c2a1ba922ed9442f136238d6bc88b
||||||| 6d93b645
   "id": "8c8082aa",
=======
   "id": "ee9d839f",
>>>>>>> documentation-devel
||||||| 804edffb
<<<<<<< HEAD
<<<<<<< HEAD
<<<<<<< HEAD
   "id": "bf491023",
||||||| 6a30bf1
   "id": "292b776c",
=======
   "id": "a6989340",
>>>>>>> documentation-devel
||||||| d28b18c
   "id": "a6989340",
=======
   "id": "8c8082aa",
>>>>>>> documentation-devel
||||||| 6893f63
<<<<<<< HEAD
   "id": "bf491023",
||||||| 6a30bf1
   "id": "292b776c",
=======
   "id": "a6989340",
>>>>>>> documentation-devel
=======
   "id": "8f17aeec",
>>>>>>> c74c98c2450c2a1ba922ed9442f136238d6bc88b
=======
   "id": "9cbf7104",
>>>>>>> 035bb2637984ead2784fecff78c0c60cc4181202
=======
   "id": "2fcde5a2",
>>>>>>> 619c01f26351d57ac14d974b7af136ac5756103f
   "metadata": {
    "lines_to_next_cell": 0
   },
   "source": [
    "Similarly to nCounts, the points look intermingled. \n",
    "\n",
    "Distribution of cell volume in space:"
   ]
  },
  {
   "cell_type": "code",
   "execution_count": null,
<<<<<<< HEAD
<<<<<<< HEAD
<<<<<<< HEAD
<<<<<<< HEAD
<<<<<<< HEAD
<<<<<<< HEAD
<<<<<<< HEAD
   "id": "bb635482",
||||||| 6a30bf1
   "id": "e04f3579",
=======
   "id": "6d65bb60",
>>>>>>> documentation-devel
||||||| d28b18c
   "id": "6d65bb60",
=======
   "id": "e79e266b",
>>>>>>> documentation-devel
||||||| 6893f63
<<<<<<< HEAD
   "id": "bb635482",
||||||| 6a30bf1
   "id": "e04f3579",
=======
   "id": "6d65bb60",
>>>>>>> documentation-devel
=======
   "id": "8cfdd6dc",
>>>>>>> c74c98c2450c2a1ba922ed9442f136238d6bc88b
||||||| 6d93b645
   "id": "e79e266b",
=======
   "id": "3c89e97e",
>>>>>>> documentation-devel
||||||| 804edffb
<<<<<<< HEAD
<<<<<<< HEAD
<<<<<<< HEAD
   "id": "bb635482",
||||||| 6a30bf1
   "id": "e04f3579",
=======
   "id": "6d65bb60",
>>>>>>> documentation-devel
||||||| d28b18c
   "id": "6d65bb60",
=======
   "id": "e79e266b",
>>>>>>> documentation-devel
||||||| 6893f63
<<<<<<< HEAD
   "id": "bb635482",
||||||| 6a30bf1
   "id": "e04f3579",
=======
   "id": "6d65bb60",
>>>>>>> documentation-devel
=======
   "id": "8cfdd6dc",
>>>>>>> c74c98c2450c2a1ba922ed9442f136238d6bc88b
=======
   "id": "c0075945",
>>>>>>> 035bb2637984ead2784fecff78c0c60cc4181202
||||||| 3effdfa5
   "id": "3c89e97e",
=======
   "id": "cad25ce3",
>>>>>>> documentation-devel
||||||| 96c826da
<<<<<<< HEAD
<<<<<<< HEAD
<<<<<<< HEAD
<<<<<<< HEAD
<<<<<<< HEAD
   "id": "bb635482",
||||||| 6a30bf1
   "id": "e04f3579",
=======
   "id": "6d65bb60",
>>>>>>> documentation-devel
||||||| d28b18c
   "id": "6d65bb60",
=======
   "id": "e79e266b",
>>>>>>> documentation-devel
||||||| 6893f63
<<<<<<< HEAD
   "id": "bb635482",
||||||| 6a30bf1
   "id": "e04f3579",
=======
   "id": "6d65bb60",
>>>>>>> documentation-devel
=======
   "id": "8cfdd6dc",
>>>>>>> c74c98c2450c2a1ba922ed9442f136238d6bc88b
||||||| 6d93b645
   "id": "e79e266b",
=======
   "id": "3c89e97e",
>>>>>>> documentation-devel
||||||| 804edffb
<<<<<<< HEAD
<<<<<<< HEAD
<<<<<<< HEAD
   "id": "bb635482",
||||||| 6a30bf1
   "id": "e04f3579",
=======
   "id": "6d65bb60",
>>>>>>> documentation-devel
||||||| d28b18c
   "id": "6d65bb60",
=======
   "id": "e79e266b",
>>>>>>> documentation-devel
||||||| 6893f63
<<<<<<< HEAD
   "id": "bb635482",
||||||| 6a30bf1
   "id": "e04f3579",
=======
   "id": "6d65bb60",
>>>>>>> documentation-devel
=======
   "id": "8cfdd6dc",
>>>>>>> c74c98c2450c2a1ba922ed9442f136238d6bc88b
=======
   "id": "c0075945",
>>>>>>> 035bb2637984ead2784fecff78c0c60cc4181202
=======
   "id": "cabd9428",
>>>>>>> 619c01f26351d57ac14d974b7af136ac5756103f
   "metadata": {},
   "outputs": [],
   "source": [
    "plotSpatialFeature(sfe, \"volume\", colGeometryName = \"centroids\", scattermore = TRUE)"
   ]
  },
  {
   "cell_type": "markdown",
<<<<<<< HEAD
<<<<<<< HEAD
<<<<<<< HEAD
<<<<<<< HEAD
<<<<<<< HEAD
<<<<<<< HEAD
<<<<<<< HEAD
   "id": "3e9a811c",
||||||| 6a30bf1
   "id": "9bb15261",
=======
   "id": "d8e5a2ef",
>>>>>>> documentation-devel
||||||| d28b18c
   "id": "d8e5a2ef",
=======
   "id": "fe38a572",
>>>>>>> documentation-devel
||||||| 6893f63
<<<<<<< HEAD
   "id": "3e9a811c",
||||||| 6a30bf1
   "id": "9bb15261",
=======
   "id": "d8e5a2ef",
>>>>>>> documentation-devel
=======
   "id": "341be89d",
>>>>>>> c74c98c2450c2a1ba922ed9442f136238d6bc88b
||||||| 6d93b645
   "id": "fe38a572",
=======
   "id": "32cca748",
>>>>>>> documentation-devel
||||||| 804edffb
<<<<<<< HEAD
<<<<<<< HEAD
<<<<<<< HEAD
   "id": "3e9a811c",
||||||| 6a30bf1
   "id": "9bb15261",
=======
   "id": "d8e5a2ef",
>>>>>>> documentation-devel
||||||| d28b18c
   "id": "d8e5a2ef",
=======
   "id": "fe38a572",
>>>>>>> documentation-devel
||||||| 6893f63
<<<<<<< HEAD
   "id": "3e9a811c",
||||||| 6a30bf1
   "id": "9bb15261",
=======
   "id": "d8e5a2ef",
>>>>>>> documentation-devel
=======
   "id": "341be89d",
>>>>>>> c74c98c2450c2a1ba922ed9442f136238d6bc88b
=======
   "id": "834d5b59",
>>>>>>> 035bb2637984ead2784fecff78c0c60cc4181202
||||||| 3effdfa5
   "id": "32cca748",
=======
   "id": "b56abf39",
>>>>>>> documentation-devel
||||||| 96c826da
<<<<<<< HEAD
<<<<<<< HEAD
<<<<<<< HEAD
<<<<<<< HEAD
<<<<<<< HEAD
   "id": "3e9a811c",
||||||| 6a30bf1
   "id": "9bb15261",
=======
   "id": "d8e5a2ef",
>>>>>>> documentation-devel
||||||| d28b18c
   "id": "d8e5a2ef",
=======
   "id": "fe38a572",
>>>>>>> documentation-devel
||||||| 6893f63
<<<<<<< HEAD
   "id": "3e9a811c",
||||||| 6a30bf1
   "id": "9bb15261",
=======
   "id": "d8e5a2ef",
>>>>>>> documentation-devel
=======
   "id": "341be89d",
>>>>>>> c74c98c2450c2a1ba922ed9442f136238d6bc88b
||||||| 6d93b645
   "id": "fe38a572",
=======
   "id": "32cca748",
>>>>>>> documentation-devel
||||||| 804edffb
<<<<<<< HEAD
<<<<<<< HEAD
<<<<<<< HEAD
   "id": "3e9a811c",
||||||| 6a30bf1
   "id": "9bb15261",
=======
   "id": "d8e5a2ef",
>>>>>>> documentation-devel
||||||| d28b18c
   "id": "d8e5a2ef",
=======
   "id": "fe38a572",
>>>>>>> documentation-devel
||||||| 6893f63
<<<<<<< HEAD
   "id": "3e9a811c",
||||||| 6a30bf1
   "id": "9bb15261",
=======
   "id": "d8e5a2ef",
>>>>>>> documentation-devel
=======
   "id": "341be89d",
>>>>>>> c74c98c2450c2a1ba922ed9442f136238d6bc88b
=======
   "id": "834d5b59",
>>>>>>> 035bb2637984ead2784fecff78c0c60cc4181202
=======
   "id": "493ea79c",
>>>>>>> 619c01f26351d57ac14d974b7af136ac5756103f
   "metadata": {
    "lines_to_next_cell": 0
   },
   "source": [
    "Next, we explore how nCounts relates to nGenes:"
   ]
  },
  {
   "cell_type": "code",
   "execution_count": null,
<<<<<<< HEAD
<<<<<<< HEAD
<<<<<<< HEAD
<<<<<<< HEAD
<<<<<<< HEAD
<<<<<<< HEAD
<<<<<<< HEAD
   "id": "ff04a58b",
||||||| 6a30bf1
   "id": "6b51f2bf",
=======
   "id": "d7f6a61b",
>>>>>>> documentation-devel
||||||| d28b18c
   "id": "d7f6a61b",
=======
   "id": "20895a68",
>>>>>>> documentation-devel
||||||| 6893f63
<<<<<<< HEAD
   "id": "ff04a58b",
||||||| 6a30bf1
   "id": "6b51f2bf",
=======
   "id": "d7f6a61b",
>>>>>>> documentation-devel
=======
   "id": "a7447ae0",
>>>>>>> c74c98c2450c2a1ba922ed9442f136238d6bc88b
||||||| 6d93b645
   "id": "20895a68",
=======
   "id": "534b1427",
>>>>>>> documentation-devel
||||||| 804edffb
<<<<<<< HEAD
<<<<<<< HEAD
<<<<<<< HEAD
   "id": "ff04a58b",
||||||| 6a30bf1
   "id": "6b51f2bf",
=======
   "id": "d7f6a61b",
>>>>>>> documentation-devel
||||||| d28b18c
   "id": "d7f6a61b",
=======
   "id": "20895a68",
>>>>>>> documentation-devel
||||||| 6893f63
<<<<<<< HEAD
   "id": "ff04a58b",
||||||| 6a30bf1
   "id": "6b51f2bf",
=======
   "id": "d7f6a61b",
>>>>>>> documentation-devel
=======
   "id": "a7447ae0",
>>>>>>> c74c98c2450c2a1ba922ed9442f136238d6bc88b
=======
   "id": "a11c8431",
>>>>>>> 035bb2637984ead2784fecff78c0c60cc4181202
||||||| 3effdfa5
   "id": "534b1427",
=======
   "id": "e94322ea",
>>>>>>> documentation-devel
||||||| 96c826da
<<<<<<< HEAD
<<<<<<< HEAD
<<<<<<< HEAD
<<<<<<< HEAD
<<<<<<< HEAD
   "id": "ff04a58b",
||||||| 6a30bf1
   "id": "6b51f2bf",
=======
   "id": "d7f6a61b",
>>>>>>> documentation-devel
||||||| d28b18c
   "id": "d7f6a61b",
=======
   "id": "20895a68",
>>>>>>> documentation-devel
||||||| 6893f63
<<<<<<< HEAD
   "id": "ff04a58b",
||||||| 6a30bf1
   "id": "6b51f2bf",
=======
   "id": "d7f6a61b",
>>>>>>> documentation-devel
=======
   "id": "a7447ae0",
>>>>>>> c74c98c2450c2a1ba922ed9442f136238d6bc88b
||||||| 6d93b645
   "id": "20895a68",
=======
   "id": "534b1427",
>>>>>>> documentation-devel
||||||| 804edffb
<<<<<<< HEAD
<<<<<<< HEAD
<<<<<<< HEAD
   "id": "ff04a58b",
||||||| 6a30bf1
   "id": "6b51f2bf",
=======
   "id": "d7f6a61b",
>>>>>>> documentation-devel
||||||| d28b18c
   "id": "d7f6a61b",
=======
   "id": "20895a68",
>>>>>>> documentation-devel
||||||| 6893f63
<<<<<<< HEAD
   "id": "ff04a58b",
||||||| 6a30bf1
   "id": "6b51f2bf",
=======
   "id": "d7f6a61b",
>>>>>>> documentation-devel
=======
   "id": "a7447ae0",
>>>>>>> c74c98c2450c2a1ba922ed9442f136238d6bc88b
=======
   "id": "a11c8431",
>>>>>>> 035bb2637984ead2784fecff78c0c60cc4181202
=======
   "id": "3a396890",
>>>>>>> 619c01f26351d57ac14d974b7af136ac5756103f
   "metadata": {},
   "outputs": [],
   "source": [
    "plotColDataBin2D(sfe, \"nCounts\", \"nGenes\")"
   ]
  },
  {
   "cell_type": "markdown",
<<<<<<< HEAD
<<<<<<< HEAD
<<<<<<< HEAD
<<<<<<< HEAD
<<<<<<< HEAD
<<<<<<< HEAD
<<<<<<< HEAD
   "id": "6cc2b7da",
||||||| 6a30bf1
   "id": "27d5c312",
=======
   "id": "d69b2a5a",
>>>>>>> documentation-devel
||||||| d28b18c
   "id": "d69b2a5a",
=======
   "id": "d22b0fe2",
>>>>>>> documentation-devel
||||||| 6893f63
<<<<<<< HEAD
   "id": "6cc2b7da",
||||||| 6a30bf1
   "id": "27d5c312",
=======
   "id": "d69b2a5a",
>>>>>>> documentation-devel
=======
   "id": "5248db51",
>>>>>>> c74c98c2450c2a1ba922ed9442f136238d6bc88b
||||||| 6d93b645
   "id": "d22b0fe2",
=======
   "id": "ca6c550d",
>>>>>>> documentation-devel
||||||| 804edffb
<<<<<<< HEAD
<<<<<<< HEAD
<<<<<<< HEAD
   "id": "6cc2b7da",
||||||| 6a30bf1
   "id": "27d5c312",
=======
   "id": "d69b2a5a",
>>>>>>> documentation-devel
||||||| d28b18c
   "id": "d69b2a5a",
=======
   "id": "d22b0fe2",
>>>>>>> documentation-devel
||||||| 6893f63
<<<<<<< HEAD
   "id": "6cc2b7da",
||||||| 6a30bf1
   "id": "27d5c312",
=======
   "id": "d69b2a5a",
>>>>>>> documentation-devel
=======
   "id": "5248db51",
>>>>>>> c74c98c2450c2a1ba922ed9442f136238d6bc88b
=======
   "id": "cc2b622f",
>>>>>>> 035bb2637984ead2784fecff78c0c60cc4181202
||||||| 3effdfa5
   "id": "ca6c550d",
=======
   "id": "89a7d6f6",
>>>>>>> documentation-devel
||||||| 96c826da
<<<<<<< HEAD
<<<<<<< HEAD
<<<<<<< HEAD
<<<<<<< HEAD
<<<<<<< HEAD
   "id": "6cc2b7da",
||||||| 6a30bf1
   "id": "27d5c312",
=======
   "id": "d69b2a5a",
>>>>>>> documentation-devel
||||||| d28b18c
   "id": "d69b2a5a",
=======
   "id": "d22b0fe2",
>>>>>>> documentation-devel
||||||| 6893f63
<<<<<<< HEAD
   "id": "6cc2b7da",
||||||| 6a30bf1
   "id": "27d5c312",
=======
   "id": "d69b2a5a",
>>>>>>> documentation-devel
=======
   "id": "5248db51",
>>>>>>> c74c98c2450c2a1ba922ed9442f136238d6bc88b
||||||| 6d93b645
   "id": "d22b0fe2",
=======
   "id": "ca6c550d",
>>>>>>> documentation-devel
||||||| 804edffb
<<<<<<< HEAD
<<<<<<< HEAD
<<<<<<< HEAD
   "id": "6cc2b7da",
||||||| 6a30bf1
   "id": "27d5c312",
=======
   "id": "d69b2a5a",
>>>>>>> documentation-devel
||||||| d28b18c
   "id": "d69b2a5a",
=======
   "id": "d22b0fe2",
>>>>>>> documentation-devel
||||||| 6893f63
<<<<<<< HEAD
   "id": "6cc2b7da",
||||||| 6a30bf1
   "id": "27d5c312",
=======
   "id": "d69b2a5a",
>>>>>>> documentation-devel
=======
   "id": "5248db51",
>>>>>>> c74c98c2450c2a1ba922ed9442f136238d6bc88b
=======
   "id": "cc2b622f",
>>>>>>> 035bb2637984ead2784fecff78c0c60cc4181202
=======
   "id": "26e50d96",
>>>>>>> 619c01f26351d57ac14d974b7af136ac5756103f
   "metadata": {
    "lines_to_next_cell": 0
   },
   "source": [
    "There are two branches in this plot. \n",
    "\n",
    "How does cell size relate to nCounts?"
   ]
  },
  {
   "cell_type": "code",
   "execution_count": null,
<<<<<<< HEAD
<<<<<<< HEAD
<<<<<<< HEAD
<<<<<<< HEAD
<<<<<<< HEAD
<<<<<<< HEAD
<<<<<<< HEAD
   "id": "4ab338a5",
||||||| 6a30bf1
   "id": "01ed540b",
=======
   "id": "14843061",
>>>>>>> documentation-devel
||||||| d28b18c
   "id": "14843061",
=======
   "id": "7cc8412c",
>>>>>>> documentation-devel
||||||| 6893f63
<<<<<<< HEAD
   "id": "4ab338a5",
||||||| 6a30bf1
   "id": "01ed540b",
=======
   "id": "14843061",
>>>>>>> documentation-devel
=======
   "id": "4957ac62",
>>>>>>> c74c98c2450c2a1ba922ed9442f136238d6bc88b
||||||| 6d93b645
   "id": "7cc8412c",
=======
   "id": "5c643214",
>>>>>>> documentation-devel
||||||| 804edffb
<<<<<<< HEAD
<<<<<<< HEAD
<<<<<<< HEAD
   "id": "4ab338a5",
||||||| 6a30bf1
   "id": "01ed540b",
=======
   "id": "14843061",
>>>>>>> documentation-devel
||||||| d28b18c
   "id": "14843061",
=======
   "id": "7cc8412c",
>>>>>>> documentation-devel
||||||| 6893f63
<<<<<<< HEAD
   "id": "4ab338a5",
||||||| 6a30bf1
   "id": "01ed540b",
=======
   "id": "14843061",
>>>>>>> documentation-devel
=======
   "id": "4957ac62",
>>>>>>> c74c98c2450c2a1ba922ed9442f136238d6bc88b
=======
   "id": "6558d09a",
>>>>>>> 035bb2637984ead2784fecff78c0c60cc4181202
||||||| 3effdfa5
   "id": "5c643214",
=======
   "id": "9ed4360a",
>>>>>>> documentation-devel
||||||| 96c826da
<<<<<<< HEAD
<<<<<<< HEAD
<<<<<<< HEAD
<<<<<<< HEAD
<<<<<<< HEAD
   "id": "4ab338a5",
||||||| 6a30bf1
   "id": "01ed540b",
=======
   "id": "14843061",
>>>>>>> documentation-devel
||||||| d28b18c
   "id": "14843061",
=======
   "id": "7cc8412c",
>>>>>>> documentation-devel
||||||| 6893f63
<<<<<<< HEAD
   "id": "4ab338a5",
||||||| 6a30bf1
   "id": "01ed540b",
=======
   "id": "14843061",
>>>>>>> documentation-devel
=======
   "id": "4957ac62",
>>>>>>> c74c98c2450c2a1ba922ed9442f136238d6bc88b
||||||| 6d93b645
   "id": "7cc8412c",
=======
   "id": "5c643214",
>>>>>>> documentation-devel
||||||| 804edffb
<<<<<<< HEAD
<<<<<<< HEAD
<<<<<<< HEAD
   "id": "4ab338a5",
||||||| 6a30bf1
   "id": "01ed540b",
=======
   "id": "14843061",
>>>>>>> documentation-devel
||||||| d28b18c
   "id": "14843061",
=======
   "id": "7cc8412c",
>>>>>>> documentation-devel
||||||| 6893f63
<<<<<<< HEAD
   "id": "4ab338a5",
||||||| 6a30bf1
   "id": "01ed540b",
=======
   "id": "14843061",
>>>>>>> documentation-devel
=======
   "id": "4957ac62",
>>>>>>> c74c98c2450c2a1ba922ed9442f136238d6bc88b
=======
   "id": "6558d09a",
>>>>>>> 035bb2637984ead2784fecff78c0c60cc4181202
=======
   "id": "11dc4294",
>>>>>>> 619c01f26351d57ac14d974b7af136ac5756103f
   "metadata": {},
   "outputs": [],
   "source": [
    "plotColDataBin2D(sfe, \"volume\", \"nCounts\")"
   ]
  },
  {
   "cell_type": "markdown",
<<<<<<< HEAD
<<<<<<< HEAD
<<<<<<< HEAD
<<<<<<< HEAD
<<<<<<< HEAD
<<<<<<< HEAD
<<<<<<< HEAD
   "id": "2152dbb0",
||||||| 6a30bf1
   "id": "721155a6",
=======
   "id": "7a74d742",
>>>>>>> documentation-devel
||||||| d28b18c
   "id": "7a74d742",
=======
   "id": "d6c0e271",
>>>>>>> documentation-devel
||||||| 6893f63
<<<<<<< HEAD
   "id": "2152dbb0",
||||||| 6a30bf1
   "id": "721155a6",
=======
   "id": "7a74d742",
>>>>>>> documentation-devel
=======
   "id": "7bd581b0",
>>>>>>> c74c98c2450c2a1ba922ed9442f136238d6bc88b
||||||| 6d93b645
   "id": "d6c0e271",
=======
   "id": "88cd63dd",
>>>>>>> documentation-devel
||||||| 804edffb
<<<<<<< HEAD
<<<<<<< HEAD
<<<<<<< HEAD
   "id": "2152dbb0",
||||||| 6a30bf1
   "id": "721155a6",
=======
   "id": "7a74d742",
>>>>>>> documentation-devel
||||||| d28b18c
   "id": "7a74d742",
=======
   "id": "d6c0e271",
>>>>>>> documentation-devel
||||||| 6893f63
<<<<<<< HEAD
   "id": "2152dbb0",
||||||| 6a30bf1
   "id": "721155a6",
=======
   "id": "7a74d742",
>>>>>>> documentation-devel
=======
   "id": "7bd581b0",
>>>>>>> c74c98c2450c2a1ba922ed9442f136238d6bc88b
=======
   "id": "98df1c5a",
>>>>>>> 035bb2637984ead2784fecff78c0c60cc4181202
||||||| 3effdfa5
   "id": "88cd63dd",
=======
   "id": "71064efd",
>>>>>>> documentation-devel
||||||| 96c826da
<<<<<<< HEAD
<<<<<<< HEAD
<<<<<<< HEAD
<<<<<<< HEAD
<<<<<<< HEAD
   "id": "2152dbb0",
||||||| 6a30bf1
   "id": "721155a6",
=======
   "id": "7a74d742",
>>>>>>> documentation-devel
||||||| d28b18c
   "id": "7a74d742",
=======
   "id": "d6c0e271",
>>>>>>> documentation-devel
||||||| 6893f63
<<<<<<< HEAD
   "id": "2152dbb0",
||||||| 6a30bf1
   "id": "721155a6",
=======
   "id": "7a74d742",
>>>>>>> documentation-devel
=======
   "id": "7bd581b0",
>>>>>>> c74c98c2450c2a1ba922ed9442f136238d6bc88b
||||||| 6d93b645
   "id": "d6c0e271",
=======
   "id": "88cd63dd",
>>>>>>> documentation-devel
||||||| 804edffb
<<<<<<< HEAD
<<<<<<< HEAD
<<<<<<< HEAD
   "id": "2152dbb0",
||||||| 6a30bf1
   "id": "721155a6",
=======
   "id": "7a74d742",
>>>>>>> documentation-devel
||||||| d28b18c
   "id": "7a74d742",
=======
   "id": "d6c0e271",
>>>>>>> documentation-devel
||||||| 6893f63
<<<<<<< HEAD
   "id": "2152dbb0",
||||||| 6a30bf1
   "id": "721155a6",
=======
   "id": "7a74d742",
>>>>>>> documentation-devel
=======
   "id": "7bd581b0",
>>>>>>> c74c98c2450c2a1ba922ed9442f136238d6bc88b
=======
   "id": "98df1c5a",
>>>>>>> 035bb2637984ead2784fecff78c0c60cc4181202
=======
   "id": "26342cb3",
>>>>>>> 619c01f26351d57ac14d974b7af136ac5756103f
   "metadata": {
    "lines_to_next_cell": 0
   },
   "source": [
    "The lower branch has the larger cells that don't tend to have more total counts, and the upper branch has larger cells that tend to have more total counts.\n",
    "\n",
    "We also examine how cell size relates to number of genes detected:"
   ]
  },
  {
   "cell_type": "code",
   "execution_count": null,
<<<<<<< HEAD
<<<<<<< HEAD
<<<<<<< HEAD
<<<<<<< HEAD
<<<<<<< HEAD
<<<<<<< HEAD
<<<<<<< HEAD
   "id": "d9e3fa18",
||||||| 6a30bf1
   "id": "7351c5d5",
=======
   "id": "cf5a733a",
>>>>>>> documentation-devel
||||||| d28b18c
   "id": "cf5a733a",
=======
   "id": "73517a43",
>>>>>>> documentation-devel
||||||| 6893f63
<<<<<<< HEAD
   "id": "d9e3fa18",
||||||| 6a30bf1
   "id": "7351c5d5",
=======
   "id": "cf5a733a",
>>>>>>> documentation-devel
=======
   "id": "e6100831",
>>>>>>> c74c98c2450c2a1ba922ed9442f136238d6bc88b
||||||| 6d93b645
   "id": "73517a43",
=======
   "id": "4b2f5a0c",
>>>>>>> documentation-devel
||||||| 804edffb
<<<<<<< HEAD
<<<<<<< HEAD
<<<<<<< HEAD
   "id": "d9e3fa18",
||||||| 6a30bf1
   "id": "7351c5d5",
=======
   "id": "cf5a733a",
>>>>>>> documentation-devel
||||||| d28b18c
   "id": "cf5a733a",
=======
   "id": "73517a43",
>>>>>>> documentation-devel
||||||| 6893f63
<<<<<<< HEAD
   "id": "d9e3fa18",
||||||| 6a30bf1
   "id": "7351c5d5",
=======
   "id": "cf5a733a",
>>>>>>> documentation-devel
=======
   "id": "e6100831",
>>>>>>> c74c98c2450c2a1ba922ed9442f136238d6bc88b
=======
   "id": "6469bfea",
>>>>>>> 035bb2637984ead2784fecff78c0c60cc4181202
||||||| 3effdfa5
   "id": "4b2f5a0c",
=======
   "id": "0e695721",
>>>>>>> documentation-devel
||||||| 96c826da
<<<<<<< HEAD
<<<<<<< HEAD
<<<<<<< HEAD
<<<<<<< HEAD
<<<<<<< HEAD
   "id": "d9e3fa18",
||||||| 6a30bf1
   "id": "7351c5d5",
=======
   "id": "cf5a733a",
>>>>>>> documentation-devel
||||||| d28b18c
   "id": "cf5a733a",
=======
   "id": "73517a43",
>>>>>>> documentation-devel
||||||| 6893f63
<<<<<<< HEAD
   "id": "d9e3fa18",
||||||| 6a30bf1
   "id": "7351c5d5",
=======
   "id": "cf5a733a",
>>>>>>> documentation-devel
=======
   "id": "e6100831",
>>>>>>> c74c98c2450c2a1ba922ed9442f136238d6bc88b
||||||| 6d93b645
   "id": "73517a43",
=======
   "id": "4b2f5a0c",
>>>>>>> documentation-devel
||||||| 804edffb
<<<<<<< HEAD
<<<<<<< HEAD
<<<<<<< HEAD
   "id": "d9e3fa18",
||||||| 6a30bf1
   "id": "7351c5d5",
=======
   "id": "cf5a733a",
>>>>>>> documentation-devel
||||||| d28b18c
   "id": "cf5a733a",
=======
   "id": "73517a43",
>>>>>>> documentation-devel
||||||| 6893f63
<<<<<<< HEAD
   "id": "d9e3fa18",
||||||| 6a30bf1
   "id": "7351c5d5",
=======
   "id": "cf5a733a",
>>>>>>> documentation-devel
=======
   "id": "e6100831",
>>>>>>> c74c98c2450c2a1ba922ed9442f136238d6bc88b
=======
   "id": "6469bfea",
>>>>>>> 035bb2637984ead2784fecff78c0c60cc4181202
=======
   "id": "3c20c9db",
>>>>>>> 619c01f26351d57ac14d974b7af136ac5756103f
   "metadata": {},
   "outputs": [],
   "source": [
    "plotColDataBin2D(sfe, \"volume\", \"nGenes\")"
   ]
  },
  {
   "cell_type": "markdown",
<<<<<<< HEAD
<<<<<<< HEAD
<<<<<<< HEAD
<<<<<<< HEAD
<<<<<<< HEAD
<<<<<<< HEAD
<<<<<<< HEAD
   "id": "3f6312c7",
||||||| 6a30bf1
   "id": "72c5df11",
=======
   "id": "9faae4e9",
>>>>>>> documentation-devel
||||||| d28b18c
   "id": "9faae4e9",
=======
   "id": "2d0a6b08",
>>>>>>> documentation-devel
||||||| 6893f63
<<<<<<< HEAD
   "id": "3f6312c7",
||||||| 6a30bf1
   "id": "72c5df11",
=======
   "id": "9faae4e9",
>>>>>>> documentation-devel
=======
   "id": "81859817",
>>>>>>> c74c98c2450c2a1ba922ed9442f136238d6bc88b
||||||| 6d93b645
   "id": "2d0a6b08",
=======
   "id": "8cac053f",
>>>>>>> documentation-devel
||||||| 804edffb
<<<<<<< HEAD
<<<<<<< HEAD
<<<<<<< HEAD
   "id": "3f6312c7",
||||||| 6a30bf1
   "id": "72c5df11",
=======
   "id": "9faae4e9",
>>>>>>> documentation-devel
||||||| d28b18c
   "id": "9faae4e9",
=======
   "id": "2d0a6b08",
>>>>>>> documentation-devel
||||||| 6893f63
<<<<<<< HEAD
   "id": "3f6312c7",
||||||| 6a30bf1
   "id": "72c5df11",
=======
   "id": "9faae4e9",
>>>>>>> documentation-devel
=======
   "id": "81859817",
>>>>>>> c74c98c2450c2a1ba922ed9442f136238d6bc88b
=======
   "id": "dfa6d92c",
>>>>>>> 035bb2637984ead2784fecff78c0c60cc4181202
||||||| 3effdfa5
   "id": "8cac053f",
=======
   "id": "8a7fed44",
>>>>>>> documentation-devel
||||||| 96c826da
<<<<<<< HEAD
<<<<<<< HEAD
<<<<<<< HEAD
<<<<<<< HEAD
<<<<<<< HEAD
   "id": "3f6312c7",
||||||| 6a30bf1
   "id": "72c5df11",
=======
   "id": "9faae4e9",
>>>>>>> documentation-devel
||||||| d28b18c
   "id": "9faae4e9",
=======
   "id": "2d0a6b08",
>>>>>>> documentation-devel
||||||| 6893f63
<<<<<<< HEAD
   "id": "3f6312c7",
||||||| 6a30bf1
   "id": "72c5df11",
=======
   "id": "9faae4e9",
>>>>>>> documentation-devel
=======
   "id": "81859817",
>>>>>>> c74c98c2450c2a1ba922ed9442f136238d6bc88b
||||||| 6d93b645
   "id": "2d0a6b08",
=======
   "id": "8cac053f",
>>>>>>> documentation-devel
||||||| 804edffb
<<<<<<< HEAD
<<<<<<< HEAD
<<<<<<< HEAD
   "id": "3f6312c7",
||||||| 6a30bf1
   "id": "72c5df11",
=======
   "id": "9faae4e9",
>>>>>>> documentation-devel
||||||| d28b18c
   "id": "9faae4e9",
=======
   "id": "2d0a6b08",
>>>>>>> documentation-devel
||||||| 6893f63
<<<<<<< HEAD
   "id": "3f6312c7",
||||||| 6a30bf1
   "id": "72c5df11",
=======
   "id": "9faae4e9",
>>>>>>> documentation-devel
=======
   "id": "81859817",
>>>>>>> c74c98c2450c2a1ba922ed9442f136238d6bc88b
=======
   "id": "dfa6d92c",
>>>>>>> 035bb2637984ead2784fecff78c0c60cc4181202
=======
   "id": "d3c23c14",
>>>>>>> 619c01f26351d57ac14d974b7af136ac5756103f
   "metadata": {
    "lines_to_next_cell": 0
   },
   "source": [
    "There seem to be clusters that are possibly related to cell type. \n",
    "\n",
    "### Negative controls\n",
    "Blank probes are used as negative controls."
   ]
  },
  {
   "cell_type": "code",
   "execution_count": null,
<<<<<<< HEAD
<<<<<<< HEAD
<<<<<<< HEAD
<<<<<<< HEAD
<<<<<<< HEAD
<<<<<<< HEAD
<<<<<<< HEAD
   "id": "aa09b8a5",
||||||| 6a30bf1
   "id": "e1ca98ca",
=======
   "id": "03e4378f",
>>>>>>> documentation-devel
||||||| d28b18c
   "id": "03e4378f",
=======
   "id": "187b5a23",
>>>>>>> documentation-devel
||||||| 6893f63
<<<<<<< HEAD
   "id": "aa09b8a5",
||||||| 6a30bf1
   "id": "e1ca98ca",
=======
   "id": "03e4378f",
>>>>>>> documentation-devel
=======
   "id": "fb1c05f5",
>>>>>>> c74c98c2450c2a1ba922ed9442f136238d6bc88b
||||||| 6d93b645
   "id": "187b5a23",
=======
   "id": "ce633158",
>>>>>>> documentation-devel
||||||| 804edffb
<<<<<<< HEAD
<<<<<<< HEAD
<<<<<<< HEAD
   "id": "aa09b8a5",
||||||| 6a30bf1
   "id": "e1ca98ca",
=======
   "id": "03e4378f",
>>>>>>> documentation-devel
||||||| d28b18c
   "id": "03e4378f",
=======
   "id": "187b5a23",
>>>>>>> documentation-devel
||||||| 6893f63
<<<<<<< HEAD
   "id": "aa09b8a5",
||||||| 6a30bf1
   "id": "e1ca98ca",
=======
   "id": "03e4378f",
>>>>>>> documentation-devel
=======
   "id": "fb1c05f5",
>>>>>>> c74c98c2450c2a1ba922ed9442f136238d6bc88b
=======
   "id": "6e4b325b",
>>>>>>> 035bb2637984ead2784fecff78c0c60cc4181202
||||||| 3effdfa5
   "id": "ce633158",
=======
   "id": "a9957889",
>>>>>>> documentation-devel
||||||| 96c826da
<<<<<<< HEAD
<<<<<<< HEAD
<<<<<<< HEAD
<<<<<<< HEAD
<<<<<<< HEAD
   "id": "aa09b8a5",
||||||| 6a30bf1
   "id": "e1ca98ca",
=======
   "id": "03e4378f",
>>>>>>> documentation-devel
||||||| d28b18c
   "id": "03e4378f",
=======
   "id": "187b5a23",
>>>>>>> documentation-devel
||||||| 6893f63
<<<<<<< HEAD
   "id": "aa09b8a5",
||||||| 6a30bf1
   "id": "e1ca98ca",
=======
   "id": "03e4378f",
>>>>>>> documentation-devel
=======
   "id": "fb1c05f5",
>>>>>>> c74c98c2450c2a1ba922ed9442f136238d6bc88b
||||||| 6d93b645
   "id": "187b5a23",
=======
   "id": "ce633158",
>>>>>>> documentation-devel
||||||| 804edffb
<<<<<<< HEAD
<<<<<<< HEAD
<<<<<<< HEAD
   "id": "aa09b8a5",
||||||| 6a30bf1
   "id": "e1ca98ca",
=======
   "id": "03e4378f",
>>>>>>> documentation-devel
||||||| d28b18c
   "id": "03e4378f",
=======
   "id": "187b5a23",
>>>>>>> documentation-devel
||||||| 6893f63
<<<<<<< HEAD
   "id": "aa09b8a5",
||||||| 6a30bf1
   "id": "e1ca98ca",
=======
   "id": "03e4378f",
>>>>>>> documentation-devel
=======
   "id": "fb1c05f5",
>>>>>>> c74c98c2450c2a1ba922ed9442f136238d6bc88b
=======
   "id": "6e4b325b",
>>>>>>> 035bb2637984ead2784fecff78c0c60cc4181202
=======
   "id": "75b2f863",
>>>>>>> 619c01f26351d57ac14d974b7af136ac5756103f
   "metadata": {},
   "outputs": [],
   "source": [
    "is_blank <- str_detect(rownames(sfe), \"^Blank-\")"
   ]
  },
  {
   "cell_type": "code",
   "execution_count": null,
<<<<<<< HEAD
<<<<<<< HEAD
<<<<<<< HEAD
<<<<<<< HEAD
<<<<<<< HEAD
<<<<<<< HEAD
<<<<<<< HEAD
   "id": "1dea2823",
||||||| 6a30bf1
   "id": "dda8a195",
=======
   "id": "144ce9e5",
>>>>>>> documentation-devel
||||||| d28b18c
   "id": "144ce9e5",
=======
   "id": "32d958e3",
>>>>>>> documentation-devel
||||||| 6893f63
<<<<<<< HEAD
   "id": "1dea2823",
||||||| 6a30bf1
   "id": "dda8a195",
=======
   "id": "144ce9e5",
>>>>>>> documentation-devel
=======
   "id": "6b3d89ab",
>>>>>>> c74c98c2450c2a1ba922ed9442f136238d6bc88b
||||||| 6d93b645
   "id": "32d958e3",
=======
   "id": "6b186ded",
>>>>>>> documentation-devel
||||||| 804edffb
<<<<<<< HEAD
<<<<<<< HEAD
<<<<<<< HEAD
   "id": "1dea2823",
||||||| 6a30bf1
   "id": "dda8a195",
=======
   "id": "144ce9e5",
>>>>>>> documentation-devel
||||||| d28b18c
   "id": "144ce9e5",
=======
   "id": "32d958e3",
>>>>>>> documentation-devel
||||||| 6893f63
<<<<<<< HEAD
   "id": "1dea2823",
||||||| 6a30bf1
   "id": "dda8a195",
=======
   "id": "144ce9e5",
>>>>>>> documentation-devel
=======
   "id": "6b3d89ab",
>>>>>>> c74c98c2450c2a1ba922ed9442f136238d6bc88b
=======
   "id": "fc885c73",
>>>>>>> 035bb2637984ead2784fecff78c0c60cc4181202
||||||| 3effdfa5
   "id": "6b186ded",
=======
   "id": "f62d4cde",
>>>>>>> documentation-devel
||||||| 96c826da
<<<<<<< HEAD
<<<<<<< HEAD
<<<<<<< HEAD
<<<<<<< HEAD
<<<<<<< HEAD
   "id": "1dea2823",
||||||| 6a30bf1
   "id": "dda8a195",
=======
   "id": "144ce9e5",
>>>>>>> documentation-devel
||||||| d28b18c
   "id": "144ce9e5",
=======
   "id": "32d958e3",
>>>>>>> documentation-devel
||||||| 6893f63
<<<<<<< HEAD
   "id": "1dea2823",
||||||| 6a30bf1
   "id": "dda8a195",
=======
   "id": "144ce9e5",
>>>>>>> documentation-devel
=======
   "id": "6b3d89ab",
>>>>>>> c74c98c2450c2a1ba922ed9442f136238d6bc88b
||||||| 6d93b645
   "id": "32d958e3",
=======
   "id": "6b186ded",
>>>>>>> documentation-devel
||||||| 804edffb
<<<<<<< HEAD
<<<<<<< HEAD
<<<<<<< HEAD
   "id": "1dea2823",
||||||| 6a30bf1
   "id": "dda8a195",
=======
   "id": "144ce9e5",
>>>>>>> documentation-devel
||||||| d28b18c
   "id": "144ce9e5",
=======
   "id": "32d958e3",
>>>>>>> documentation-devel
||||||| 6893f63
<<<<<<< HEAD
   "id": "1dea2823",
||||||| 6a30bf1
   "id": "dda8a195",
=======
   "id": "144ce9e5",
>>>>>>> documentation-devel
=======
   "id": "6b3d89ab",
>>>>>>> c74c98c2450c2a1ba922ed9442f136238d6bc88b
=======
   "id": "fc885c73",
>>>>>>> 035bb2637984ead2784fecff78c0c60cc4181202
=======
   "id": "b90923e3",
>>>>>>> 619c01f26351d57ac14d974b7af136ac5756103f
   "metadata": {},
   "outputs": [],
   "source": [
    "sfe <- addPerCellQCMetrics(sfe, subset = list(blank = is_blank))"
   ]
  },
  {
   "cell_type": "code",
   "execution_count": null,
<<<<<<< HEAD
<<<<<<< HEAD
<<<<<<< HEAD
<<<<<<< HEAD
<<<<<<< HEAD
<<<<<<< HEAD
<<<<<<< HEAD
   "id": "5b8d569a",
||||||| 6a30bf1
   "id": "962ba0ad",
=======
   "id": "44076877",
>>>>>>> documentation-devel
||||||| d28b18c
   "id": "44076877",
=======
   "id": "cbde3fc1",
>>>>>>> documentation-devel
||||||| 6893f63
<<<<<<< HEAD
   "id": "5b8d569a",
||||||| 6a30bf1
   "id": "962ba0ad",
=======
   "id": "44076877",
>>>>>>> documentation-devel
=======
   "id": "27390b55",
>>>>>>> c74c98c2450c2a1ba922ed9442f136238d6bc88b
||||||| 6d93b645
   "id": "cbde3fc1",
=======
   "id": "85409e89",
>>>>>>> documentation-devel
||||||| 804edffb
<<<<<<< HEAD
<<<<<<< HEAD
<<<<<<< HEAD
   "id": "5b8d569a",
||||||| 6a30bf1
   "id": "962ba0ad",
=======
   "id": "44076877",
>>>>>>> documentation-devel
||||||| d28b18c
   "id": "44076877",
=======
   "id": "cbde3fc1",
>>>>>>> documentation-devel
||||||| 6893f63
<<<<<<< HEAD
   "id": "5b8d569a",
||||||| 6a30bf1
   "id": "962ba0ad",
=======
   "id": "44076877",
>>>>>>> documentation-devel
=======
   "id": "27390b55",
>>>>>>> c74c98c2450c2a1ba922ed9442f136238d6bc88b
=======
   "id": "04a55392",
>>>>>>> 035bb2637984ead2784fecff78c0c60cc4181202
||||||| 3effdfa5
   "id": "85409e89",
=======
   "id": "4b0825ed",
>>>>>>> documentation-devel
||||||| 96c826da
<<<<<<< HEAD
<<<<<<< HEAD
<<<<<<< HEAD
<<<<<<< HEAD
<<<<<<< HEAD
   "id": "5b8d569a",
||||||| 6a30bf1
   "id": "962ba0ad",
=======
   "id": "44076877",
>>>>>>> documentation-devel
||||||| d28b18c
   "id": "44076877",
=======
   "id": "cbde3fc1",
>>>>>>> documentation-devel
||||||| 6893f63
<<<<<<< HEAD
   "id": "5b8d569a",
||||||| 6a30bf1
   "id": "962ba0ad",
=======
   "id": "44076877",
>>>>>>> documentation-devel
=======
   "id": "27390b55",
>>>>>>> c74c98c2450c2a1ba922ed9442f136238d6bc88b
||||||| 6d93b645
   "id": "cbde3fc1",
=======
   "id": "85409e89",
>>>>>>> documentation-devel
||||||| 804edffb
<<<<<<< HEAD
<<<<<<< HEAD
<<<<<<< HEAD
   "id": "5b8d569a",
||||||| 6a30bf1
   "id": "962ba0ad",
=======
   "id": "44076877",
>>>>>>> documentation-devel
||||||| d28b18c
   "id": "44076877",
=======
   "id": "cbde3fc1",
>>>>>>> documentation-devel
||||||| 6893f63
<<<<<<< HEAD
   "id": "5b8d569a",
||||||| 6a30bf1
   "id": "962ba0ad",
=======
   "id": "44076877",
>>>>>>> documentation-devel
=======
   "id": "27390b55",
>>>>>>> c74c98c2450c2a1ba922ed9442f136238d6bc88b
=======
   "id": "04a55392",
>>>>>>> 035bb2637984ead2784fecff78c0c60cc4181202
=======
   "id": "3b25669f",
>>>>>>> 619c01f26351d57ac14d974b7af136ac5756103f
   "metadata": {},
   "outputs": [],
   "source": [
    "names(colData(sfe))"
   ]
  },
  {
   "cell_type": "markdown",
<<<<<<< HEAD
<<<<<<< HEAD
<<<<<<< HEAD
<<<<<<< HEAD
<<<<<<< HEAD
<<<<<<< HEAD
<<<<<<< HEAD
   "id": "acbe66f5",
||||||| 6a30bf1
   "id": "45cde399",
=======
   "id": "f88eb89a",
>>>>>>> documentation-devel
||||||| d28b18c
   "id": "f88eb89a",
=======
   "id": "0d19f5ab",
>>>>>>> documentation-devel
||||||| 6893f63
<<<<<<< HEAD
   "id": "acbe66f5",
||||||| 6a30bf1
   "id": "45cde399",
=======
   "id": "f88eb89a",
>>>>>>> documentation-devel
=======
   "id": "30ae57b6",
>>>>>>> c74c98c2450c2a1ba922ed9442f136238d6bc88b
||||||| 6d93b645
   "id": "0d19f5ab",
=======
   "id": "c238292b",
>>>>>>> documentation-devel
||||||| 804edffb
<<<<<<< HEAD
<<<<<<< HEAD
<<<<<<< HEAD
   "id": "acbe66f5",
||||||| 6a30bf1
   "id": "45cde399",
=======
   "id": "f88eb89a",
>>>>>>> documentation-devel
||||||| d28b18c
   "id": "f88eb89a",
=======
   "id": "0d19f5ab",
>>>>>>> documentation-devel
||||||| 6893f63
<<<<<<< HEAD
   "id": "acbe66f5",
||||||| 6a30bf1
   "id": "45cde399",
=======
   "id": "f88eb89a",
>>>>>>> documentation-devel
=======
   "id": "30ae57b6",
>>>>>>> c74c98c2450c2a1ba922ed9442f136238d6bc88b
=======
   "id": "40b433c5",
>>>>>>> 035bb2637984ead2784fecff78c0c60cc4181202
||||||| 3effdfa5
   "id": "c238292b",
=======
   "id": "6ae49318",
>>>>>>> documentation-devel
||||||| 96c826da
<<<<<<< HEAD
<<<<<<< HEAD
<<<<<<< HEAD
<<<<<<< HEAD
<<<<<<< HEAD
   "id": "acbe66f5",
||||||| 6a30bf1
   "id": "45cde399",
=======
   "id": "f88eb89a",
>>>>>>> documentation-devel
||||||| d28b18c
   "id": "f88eb89a",
=======
   "id": "0d19f5ab",
>>>>>>> documentation-devel
||||||| 6893f63
<<<<<<< HEAD
   "id": "acbe66f5",
||||||| 6a30bf1
   "id": "45cde399",
=======
   "id": "f88eb89a",
>>>>>>> documentation-devel
=======
   "id": "30ae57b6",
>>>>>>> c74c98c2450c2a1ba922ed9442f136238d6bc88b
||||||| 6d93b645
   "id": "0d19f5ab",
=======
   "id": "c238292b",
>>>>>>> documentation-devel
||||||| 804edffb
<<<<<<< HEAD
<<<<<<< HEAD
<<<<<<< HEAD
   "id": "acbe66f5",
||||||| 6a30bf1
   "id": "45cde399",
=======
   "id": "f88eb89a",
>>>>>>> documentation-devel
||||||| d28b18c
   "id": "f88eb89a",
=======
   "id": "0d19f5ab",
>>>>>>> documentation-devel
||||||| 6893f63
<<<<<<< HEAD
   "id": "acbe66f5",
||||||| 6a30bf1
   "id": "45cde399",
=======
   "id": "f88eb89a",
>>>>>>> documentation-devel
=======
   "id": "30ae57b6",
>>>>>>> c74c98c2450c2a1ba922ed9442f136238d6bc88b
=======
   "id": "40b433c5",
>>>>>>> 035bb2637984ead2784fecff78c0c60cc4181202
=======
   "id": "6f35c0ff",
>>>>>>> 619c01f26351d57ac14d974b7af136ac5756103f
   "metadata": {
    "lines_to_next_cell": 0
   },
   "source": [
    "Total transcript counts from the blank probes:"
   ]
  },
  {
   "cell_type": "code",
   "execution_count": null,
<<<<<<< HEAD
<<<<<<< HEAD
<<<<<<< HEAD
<<<<<<< HEAD
<<<<<<< HEAD
<<<<<<< HEAD
<<<<<<< HEAD
   "id": "f813cc0e",
||||||| 6a30bf1
   "id": "3c576543",
=======
   "id": "c70de9a1",
>>>>>>> documentation-devel
||||||| d28b18c
   "id": "c70de9a1",
=======
   "id": "1eeb3729",
>>>>>>> documentation-devel
||||||| 6893f63
<<<<<<< HEAD
   "id": "f813cc0e",
||||||| 6a30bf1
   "id": "3c576543",
=======
   "id": "c70de9a1",
>>>>>>> documentation-devel
=======
   "id": "81c12956",
>>>>>>> c74c98c2450c2a1ba922ed9442f136238d6bc88b
||||||| 6d93b645
   "id": "1eeb3729",
=======
   "id": "25742d7c",
>>>>>>> documentation-devel
||||||| 804edffb
<<<<<<< HEAD
<<<<<<< HEAD
<<<<<<< HEAD
   "id": "f813cc0e",
||||||| 6a30bf1
   "id": "3c576543",
=======
   "id": "c70de9a1",
>>>>>>> documentation-devel
||||||| d28b18c
   "id": "c70de9a1",
=======
   "id": "1eeb3729",
>>>>>>> documentation-devel
||||||| 6893f63
<<<<<<< HEAD
   "id": "f813cc0e",
||||||| 6a30bf1
   "id": "3c576543",
=======
   "id": "c70de9a1",
>>>>>>> documentation-devel
=======
   "id": "81c12956",
>>>>>>> c74c98c2450c2a1ba922ed9442f136238d6bc88b
=======
   "id": "f01e2fb5",
>>>>>>> 035bb2637984ead2784fecff78c0c60cc4181202
||||||| 3effdfa5
   "id": "25742d7c",
=======
   "id": "bbe1df0c",
>>>>>>> documentation-devel
||||||| 96c826da
<<<<<<< HEAD
<<<<<<< HEAD
<<<<<<< HEAD
<<<<<<< HEAD
<<<<<<< HEAD
   "id": "f813cc0e",
||||||| 6a30bf1
   "id": "3c576543",
=======
   "id": "c70de9a1",
>>>>>>> documentation-devel
||||||| d28b18c
   "id": "c70de9a1",
=======
   "id": "1eeb3729",
>>>>>>> documentation-devel
||||||| 6893f63
<<<<<<< HEAD
   "id": "f813cc0e",
||||||| 6a30bf1
   "id": "3c576543",
=======
   "id": "c70de9a1",
>>>>>>> documentation-devel
=======
   "id": "81c12956",
>>>>>>> c74c98c2450c2a1ba922ed9442f136238d6bc88b
||||||| 6d93b645
   "id": "1eeb3729",
=======
   "id": "25742d7c",
>>>>>>> documentation-devel
||||||| 804edffb
<<<<<<< HEAD
<<<<<<< HEAD
<<<<<<< HEAD
   "id": "f813cc0e",
||||||| 6a30bf1
   "id": "3c576543",
=======
   "id": "c70de9a1",
>>>>>>> documentation-devel
||||||| d28b18c
   "id": "c70de9a1",
=======
   "id": "1eeb3729",
>>>>>>> documentation-devel
||||||| 6893f63
<<<<<<< HEAD
   "id": "f813cc0e",
||||||| 6a30bf1
   "id": "3c576543",
=======
   "id": "c70de9a1",
>>>>>>> documentation-devel
=======
   "id": "81c12956",
>>>>>>> c74c98c2450c2a1ba922ed9442f136238d6bc88b
=======
   "id": "f01e2fb5",
>>>>>>> 035bb2637984ead2784fecff78c0c60cc4181202
=======
   "id": "5d76826e",
>>>>>>> 619c01f26351d57ac14d974b7af136ac5756103f
   "metadata": {},
   "outputs": [],
   "source": [
    "plotSpatialFeature(sfe, \"subsets_blank_sum\", colGeometryName = \"centroids\",\n",
    "                   scattermore = TRUE)"
   ]
  },
  {
   "cell_type": "markdown",
<<<<<<< HEAD
<<<<<<< HEAD
<<<<<<< HEAD
<<<<<<< HEAD
<<<<<<< HEAD
<<<<<<< HEAD
<<<<<<< HEAD
   "id": "da25ebec",
||||||| 6a30bf1
   "id": "963d931c",
=======
   "id": "08a2b1cc",
>>>>>>> documentation-devel
||||||| d28b18c
   "id": "08a2b1cc",
=======
   "id": "308fa78e",
>>>>>>> documentation-devel
||||||| 6893f63
<<<<<<< HEAD
   "id": "da25ebec",
||||||| 6a30bf1
   "id": "963d931c",
=======
   "id": "08a2b1cc",
>>>>>>> documentation-devel
=======
   "id": "1711f50f",
>>>>>>> c74c98c2450c2a1ba922ed9442f136238d6bc88b
||||||| 6d93b645
   "id": "308fa78e",
=======
   "id": "719be6fd",
>>>>>>> documentation-devel
||||||| 804edffb
<<<<<<< HEAD
<<<<<<< HEAD
<<<<<<< HEAD
   "id": "da25ebec",
||||||| 6a30bf1
   "id": "963d931c",
=======
   "id": "08a2b1cc",
>>>>>>> documentation-devel
||||||| d28b18c
   "id": "08a2b1cc",
=======
   "id": "308fa78e",
>>>>>>> documentation-devel
||||||| 6893f63
<<<<<<< HEAD
   "id": "da25ebec",
||||||| 6a30bf1
   "id": "963d931c",
=======
   "id": "08a2b1cc",
>>>>>>> documentation-devel
=======
   "id": "1711f50f",
>>>>>>> c74c98c2450c2a1ba922ed9442f136238d6bc88b
=======
   "id": "66da4252",
>>>>>>> 035bb2637984ead2784fecff78c0c60cc4181202
||||||| 3effdfa5
   "id": "719be6fd",
=======
   "id": "1b4d25cb",
>>>>>>> documentation-devel
||||||| 96c826da
<<<<<<< HEAD
<<<<<<< HEAD
<<<<<<< HEAD
<<<<<<< HEAD
<<<<<<< HEAD
   "id": "da25ebec",
||||||| 6a30bf1
   "id": "963d931c",
=======
   "id": "08a2b1cc",
>>>>>>> documentation-devel
||||||| d28b18c
   "id": "08a2b1cc",
=======
   "id": "308fa78e",
>>>>>>> documentation-devel
||||||| 6893f63
<<<<<<< HEAD
   "id": "da25ebec",
||||||| 6a30bf1
   "id": "963d931c",
=======
   "id": "08a2b1cc",
>>>>>>> documentation-devel
=======
   "id": "1711f50f",
>>>>>>> c74c98c2450c2a1ba922ed9442f136238d6bc88b
||||||| 6d93b645
   "id": "308fa78e",
=======
   "id": "719be6fd",
>>>>>>> documentation-devel
||||||| 804edffb
<<<<<<< HEAD
<<<<<<< HEAD
<<<<<<< HEAD
   "id": "da25ebec",
||||||| 6a30bf1
   "id": "963d931c",
=======
   "id": "08a2b1cc",
>>>>>>> documentation-devel
||||||| d28b18c
   "id": "08a2b1cc",
=======
   "id": "308fa78e",
>>>>>>> documentation-devel
||||||| 6893f63
<<<<<<< HEAD
   "id": "da25ebec",
||||||| 6a30bf1
   "id": "963d931c",
=======
   "id": "08a2b1cc",
>>>>>>> documentation-devel
=======
   "id": "1711f50f",
>>>>>>> c74c98c2450c2a1ba922ed9442f136238d6bc88b
=======
   "id": "66da4252",
>>>>>>> 035bb2637984ead2784fecff78c0c60cc4181202
=======
   "id": "e33fd3a4",
>>>>>>> 619c01f26351d57ac14d974b7af136ac5756103f
   "metadata": {
    "lines_to_next_cell": 0
   },
   "source": [
    "Number of blank features detected per cell:"
   ]
  },
  {
   "cell_type": "code",
   "execution_count": null,
<<<<<<< HEAD
<<<<<<< HEAD
<<<<<<< HEAD
<<<<<<< HEAD
<<<<<<< HEAD
<<<<<<< HEAD
<<<<<<< HEAD
   "id": "6280f0d5",
||||||| 6a30bf1
   "id": "abd17dca",
=======
   "id": "7b84f4bc",
>>>>>>> documentation-devel
||||||| d28b18c
   "id": "7b84f4bc",
=======
   "id": "9faf0a57",
>>>>>>> documentation-devel
||||||| 6893f63
<<<<<<< HEAD
   "id": "6280f0d5",
||||||| 6a30bf1
   "id": "abd17dca",
=======
   "id": "7b84f4bc",
>>>>>>> documentation-devel
=======
   "id": "ad0f7429",
>>>>>>> c74c98c2450c2a1ba922ed9442f136238d6bc88b
||||||| 6d93b645
   "id": "9faf0a57",
=======
   "id": "f2c28472",
>>>>>>> documentation-devel
||||||| 804edffb
<<<<<<< HEAD
<<<<<<< HEAD
<<<<<<< HEAD
   "id": "6280f0d5",
||||||| 6a30bf1
   "id": "abd17dca",
=======
   "id": "7b84f4bc",
>>>>>>> documentation-devel
||||||| d28b18c
   "id": "7b84f4bc",
=======
   "id": "9faf0a57",
>>>>>>> documentation-devel
||||||| 6893f63
<<<<<<< HEAD
   "id": "6280f0d5",
||||||| 6a30bf1
   "id": "abd17dca",
=======
   "id": "7b84f4bc",
>>>>>>> documentation-devel
=======
   "id": "ad0f7429",
>>>>>>> c74c98c2450c2a1ba922ed9442f136238d6bc88b
=======
   "id": "06c2243b",
>>>>>>> 035bb2637984ead2784fecff78c0c60cc4181202
||||||| 3effdfa5
   "id": "f2c28472",
=======
   "id": "0f0c7edd",
>>>>>>> documentation-devel
||||||| 96c826da
<<<<<<< HEAD
<<<<<<< HEAD
<<<<<<< HEAD
<<<<<<< HEAD
<<<<<<< HEAD
   "id": "6280f0d5",
||||||| 6a30bf1
   "id": "abd17dca",
=======
   "id": "7b84f4bc",
>>>>>>> documentation-devel
||||||| d28b18c
   "id": "7b84f4bc",
=======
   "id": "9faf0a57",
>>>>>>> documentation-devel
||||||| 6893f63
<<<<<<< HEAD
   "id": "6280f0d5",
||||||| 6a30bf1
   "id": "abd17dca",
=======
   "id": "7b84f4bc",
>>>>>>> documentation-devel
=======
   "id": "ad0f7429",
>>>>>>> c74c98c2450c2a1ba922ed9442f136238d6bc88b
||||||| 6d93b645
   "id": "9faf0a57",
=======
   "id": "f2c28472",
>>>>>>> documentation-devel
||||||| 804edffb
<<<<<<< HEAD
<<<<<<< HEAD
<<<<<<< HEAD
   "id": "6280f0d5",
||||||| 6a30bf1
   "id": "abd17dca",
=======
   "id": "7b84f4bc",
>>>>>>> documentation-devel
||||||| d28b18c
   "id": "7b84f4bc",
=======
   "id": "9faf0a57",
>>>>>>> documentation-devel
||||||| 6893f63
<<<<<<< HEAD
   "id": "6280f0d5",
||||||| 6a30bf1
   "id": "abd17dca",
=======
   "id": "7b84f4bc",
>>>>>>> documentation-devel
=======
   "id": "ad0f7429",
>>>>>>> c74c98c2450c2a1ba922ed9442f136238d6bc88b
=======
   "id": "06c2243b",
>>>>>>> 035bb2637984ead2784fecff78c0c60cc4181202
=======
   "id": "7a311b1e",
>>>>>>> 619c01f26351d57ac14d974b7af136ac5756103f
   "metadata": {},
   "outputs": [],
   "source": [
    "plotSpatialFeature(sfe, \"subsets_blank_detected\", colGeometryName = \"centroids\",\n",
    "                   scattermore = TRUE)"
   ]
  },
  {
   "cell_type": "markdown",
<<<<<<< HEAD
<<<<<<< HEAD
<<<<<<< HEAD
<<<<<<< HEAD
<<<<<<< HEAD
<<<<<<< HEAD
<<<<<<< HEAD
   "id": "698c40d8",
||||||| 6a30bf1
   "id": "b8e20615",
=======
   "id": "1950b4dc",
>>>>>>> documentation-devel
||||||| d28b18c
   "id": "1950b4dc",
=======
   "id": "7a8413ff",
>>>>>>> documentation-devel
||||||| 6893f63
<<<<<<< HEAD
   "id": "698c40d8",
||||||| 6a30bf1
   "id": "b8e20615",
=======
   "id": "1950b4dc",
>>>>>>> documentation-devel
=======
   "id": "68b0fa02",
>>>>>>> c74c98c2450c2a1ba922ed9442f136238d6bc88b
||||||| 6d93b645
   "id": "7a8413ff",
=======
   "id": "b62d2495",
>>>>>>> documentation-devel
||||||| 804edffb
<<<<<<< HEAD
<<<<<<< HEAD
<<<<<<< HEAD
   "id": "698c40d8",
||||||| 6a30bf1
   "id": "b8e20615",
=======
   "id": "1950b4dc",
>>>>>>> documentation-devel
||||||| d28b18c
   "id": "1950b4dc",
=======
   "id": "7a8413ff",
>>>>>>> documentation-devel
||||||| 6893f63
<<<<<<< HEAD
   "id": "698c40d8",
||||||| 6a30bf1
   "id": "b8e20615",
=======
   "id": "1950b4dc",
>>>>>>> documentation-devel
=======
   "id": "68b0fa02",
>>>>>>> c74c98c2450c2a1ba922ed9442f136238d6bc88b
=======
   "id": "9977205d",
>>>>>>> 035bb2637984ead2784fecff78c0c60cc4181202
||||||| 3effdfa5
   "id": "b62d2495",
=======
   "id": "f17068cf",
>>>>>>> documentation-devel
||||||| 96c826da
<<<<<<< HEAD
<<<<<<< HEAD
<<<<<<< HEAD
<<<<<<< HEAD
<<<<<<< HEAD
   "id": "698c40d8",
||||||| 6a30bf1
   "id": "b8e20615",
=======
   "id": "1950b4dc",
>>>>>>> documentation-devel
||||||| d28b18c
   "id": "1950b4dc",
=======
   "id": "7a8413ff",
>>>>>>> documentation-devel
||||||| 6893f63
<<<<<<< HEAD
   "id": "698c40d8",
||||||| 6a30bf1
   "id": "b8e20615",
=======
   "id": "1950b4dc",
>>>>>>> documentation-devel
=======
   "id": "68b0fa02",
>>>>>>> c74c98c2450c2a1ba922ed9442f136238d6bc88b
||||||| 6d93b645
   "id": "7a8413ff",
=======
   "id": "b62d2495",
>>>>>>> documentation-devel
||||||| 804edffb
<<<<<<< HEAD
<<<<<<< HEAD
<<<<<<< HEAD
   "id": "698c40d8",
||||||| 6a30bf1
   "id": "b8e20615",
=======
   "id": "1950b4dc",
>>>>>>> documentation-devel
||||||| d28b18c
   "id": "1950b4dc",
=======
   "id": "7a8413ff",
>>>>>>> documentation-devel
||||||| 6893f63
<<<<<<< HEAD
   "id": "698c40d8",
||||||| 6a30bf1
   "id": "b8e20615",
=======
   "id": "1950b4dc",
>>>>>>> documentation-devel
=======
   "id": "68b0fa02",
>>>>>>> c74c98c2450c2a1ba922ed9442f136238d6bc88b
=======
   "id": "9977205d",
>>>>>>> 035bb2637984ead2784fecff78c0c60cc4181202
=======
   "id": "845a084b",
>>>>>>> 619c01f26351d57ac14d974b7af136ac5756103f
   "metadata": {
    "lines_to_next_cell": 0
   },
   "source": [
    "Percentage of blank features per cell:"
   ]
  },
  {
   "cell_type": "code",
   "execution_count": null,
<<<<<<< HEAD
<<<<<<< HEAD
<<<<<<< HEAD
<<<<<<< HEAD
<<<<<<< HEAD
<<<<<<< HEAD
<<<<<<< HEAD
   "id": "ac8182e4",
||||||| 6a30bf1
   "id": "cb938770",
=======
   "id": "1628219f",
>>>>>>> documentation-devel
||||||| d28b18c
   "id": "1628219f",
=======
   "id": "dfa03566",
>>>>>>> documentation-devel
||||||| 6893f63
<<<<<<< HEAD
   "id": "ac8182e4",
||||||| 6a30bf1
   "id": "cb938770",
=======
   "id": "1628219f",
>>>>>>> documentation-devel
=======
   "id": "71c45a5f",
>>>>>>> c74c98c2450c2a1ba922ed9442f136238d6bc88b
||||||| 6d93b645
   "id": "dfa03566",
=======
   "id": "b42390c2",
>>>>>>> documentation-devel
||||||| 804edffb
<<<<<<< HEAD
<<<<<<< HEAD
<<<<<<< HEAD
   "id": "ac8182e4",
||||||| 6a30bf1
   "id": "cb938770",
=======
   "id": "1628219f",
>>>>>>> documentation-devel
||||||| d28b18c
   "id": "1628219f",
=======
   "id": "dfa03566",
>>>>>>> documentation-devel
||||||| 6893f63
<<<<<<< HEAD
   "id": "ac8182e4",
||||||| 6a30bf1
   "id": "cb938770",
=======
   "id": "1628219f",
>>>>>>> documentation-devel
=======
   "id": "71c45a5f",
>>>>>>> c74c98c2450c2a1ba922ed9442f136238d6bc88b
=======
   "id": "c8f49018",
>>>>>>> 035bb2637984ead2784fecff78c0c60cc4181202
||||||| 3effdfa5
   "id": "b42390c2",
=======
   "id": "6f53aa4e",
>>>>>>> documentation-devel
||||||| 96c826da
<<<<<<< HEAD
<<<<<<< HEAD
<<<<<<< HEAD
<<<<<<< HEAD
<<<<<<< HEAD
   "id": "ac8182e4",
||||||| 6a30bf1
   "id": "cb938770",
=======
   "id": "1628219f",
>>>>>>> documentation-devel
||||||| d28b18c
   "id": "1628219f",
=======
   "id": "dfa03566",
>>>>>>> documentation-devel
||||||| 6893f63
<<<<<<< HEAD
   "id": "ac8182e4",
||||||| 6a30bf1
   "id": "cb938770",
=======
   "id": "1628219f",
>>>>>>> documentation-devel
=======
   "id": "71c45a5f",
>>>>>>> c74c98c2450c2a1ba922ed9442f136238d6bc88b
||||||| 6d93b645
   "id": "dfa03566",
=======
   "id": "b42390c2",
>>>>>>> documentation-devel
||||||| 804edffb
<<<<<<< HEAD
<<<<<<< HEAD
<<<<<<< HEAD
   "id": "ac8182e4",
||||||| 6a30bf1
   "id": "cb938770",
=======
   "id": "1628219f",
>>>>>>> documentation-devel
||||||| d28b18c
   "id": "1628219f",
=======
   "id": "dfa03566",
>>>>>>> documentation-devel
||||||| 6893f63
<<<<<<< HEAD
   "id": "ac8182e4",
||||||| 6a30bf1
   "id": "cb938770",
=======
   "id": "1628219f",
>>>>>>> documentation-devel
=======
   "id": "71c45a5f",
>>>>>>> c74c98c2450c2a1ba922ed9442f136238d6bc88b
=======
   "id": "c8f49018",
>>>>>>> 035bb2637984ead2784fecff78c0c60cc4181202
=======
   "id": "60ff1437",
>>>>>>> 619c01f26351d57ac14d974b7af136ac5756103f
   "metadata": {},
   "outputs": [],
   "source": [
    "plotSpatialFeature(sfe, \"subsets_blank_percent\", colGeometryName = \"centroids\",\n",
    "                   scattermore = TRUE)"
   ]
  },
  {
   "cell_type": "markdown",
<<<<<<< HEAD
<<<<<<< HEAD
<<<<<<< HEAD
<<<<<<< HEAD
<<<<<<< HEAD
<<<<<<< HEAD
<<<<<<< HEAD
   "id": "3c7f0a54",
||||||| 6a30bf1
   "id": "e5067173",
=======
   "id": "34d76c8f",
>>>>>>> documentation-devel
||||||| d28b18c
   "id": "34d76c8f",
=======
   "id": "edda98ff",
>>>>>>> documentation-devel
||||||| 6893f63
<<<<<<< HEAD
   "id": "3c7f0a54",
||||||| 6a30bf1
   "id": "e5067173",
=======
   "id": "34d76c8f",
>>>>>>> documentation-devel
=======
   "id": "9ee0478e",
>>>>>>> c74c98c2450c2a1ba922ed9442f136238d6bc88b
||||||| 6d93b645
   "id": "edda98ff",
=======
   "id": "c2cbfe64",
>>>>>>> documentation-devel
||||||| 804edffb
<<<<<<< HEAD
<<<<<<< HEAD
<<<<<<< HEAD
   "id": "3c7f0a54",
||||||| 6a30bf1
   "id": "e5067173",
=======
   "id": "34d76c8f",
>>>>>>> documentation-devel
||||||| d28b18c
   "id": "34d76c8f",
=======
   "id": "edda98ff",
>>>>>>> documentation-devel
||||||| 6893f63
<<<<<<< HEAD
   "id": "3c7f0a54",
||||||| 6a30bf1
   "id": "e5067173",
=======
   "id": "34d76c8f",
>>>>>>> documentation-devel
=======
   "id": "9ee0478e",
>>>>>>> c74c98c2450c2a1ba922ed9442f136238d6bc88b
=======
   "id": "f1af50ba",
>>>>>>> 035bb2637984ead2784fecff78c0c60cc4181202
||||||| 3effdfa5
   "id": "c2cbfe64",
=======
   "id": "d83e2f29",
>>>>>>> documentation-devel
||||||| 96c826da
<<<<<<< HEAD
<<<<<<< HEAD
<<<<<<< HEAD
<<<<<<< HEAD
<<<<<<< HEAD
   "id": "3c7f0a54",
||||||| 6a30bf1
   "id": "e5067173",
=======
   "id": "34d76c8f",
>>>>>>> documentation-devel
||||||| d28b18c
   "id": "34d76c8f",
=======
   "id": "edda98ff",
>>>>>>> documentation-devel
||||||| 6893f63
<<<<<<< HEAD
   "id": "3c7f0a54",
||||||| 6a30bf1
   "id": "e5067173",
=======
   "id": "34d76c8f",
>>>>>>> documentation-devel
=======
   "id": "9ee0478e",
>>>>>>> c74c98c2450c2a1ba922ed9442f136238d6bc88b
||||||| 6d93b645
   "id": "edda98ff",
=======
   "id": "c2cbfe64",
>>>>>>> documentation-devel
||||||| 804edffb
<<<<<<< HEAD
<<<<<<< HEAD
<<<<<<< HEAD
   "id": "3c7f0a54",
||||||| 6a30bf1
   "id": "e5067173",
=======
   "id": "34d76c8f",
>>>>>>> documentation-devel
||||||| d28b18c
   "id": "34d76c8f",
=======
   "id": "edda98ff",
>>>>>>> documentation-devel
||||||| 6893f63
<<<<<<< HEAD
   "id": "3c7f0a54",
||||||| 6a30bf1
   "id": "e5067173",
=======
   "id": "34d76c8f",
>>>>>>> documentation-devel
=======
   "id": "9ee0478e",
>>>>>>> c74c98c2450c2a1ba922ed9442f136238d6bc88b
=======
   "id": "f1af50ba",
>>>>>>> 035bb2637984ead2784fecff78c0c60cc4181202
=======
   "id": "96787c53",
>>>>>>> 619c01f26351d57ac14d974b7af136ac5756103f
   "metadata": {
    "lines_to_next_cell": 0
   },
   "source": [
    "The percentage is more interesting: within the tissue, cells with high percentage of blank counts are scattered like salt and pepper, but more of these cells are on the left edge of the tissue, the edges of FOVs, where the tissue itself doesn't end. \n",
    "\n",
    "Also plot histograms: "
   ]
  },
  {
   "cell_type": "code",
   "execution_count": null,
<<<<<<< HEAD
<<<<<<< HEAD
<<<<<<< HEAD
<<<<<<< HEAD
<<<<<<< HEAD
<<<<<<< HEAD
<<<<<<< HEAD
   "id": "d036441f",
||||||| 6a30bf1
   "id": "d8548100",
=======
   "id": "c84ba91d",
>>>>>>> documentation-devel
||||||| d28b18c
   "id": "c84ba91d",
=======
   "id": "e6eba513",
>>>>>>> documentation-devel
||||||| 6893f63
<<<<<<< HEAD
   "id": "d036441f",
||||||| 6a30bf1
   "id": "d8548100",
=======
   "id": "c84ba91d",
>>>>>>> documentation-devel
=======
   "id": "82207c52",
>>>>>>> c74c98c2450c2a1ba922ed9442f136238d6bc88b
||||||| 6d93b645
   "id": "e6eba513",
=======
   "id": "b3b9cfc1",
>>>>>>> documentation-devel
||||||| 804edffb
<<<<<<< HEAD
<<<<<<< HEAD
<<<<<<< HEAD
   "id": "d036441f",
||||||| 6a30bf1
   "id": "d8548100",
=======
   "id": "c84ba91d",
>>>>>>> documentation-devel
||||||| d28b18c
   "id": "c84ba91d",
=======
   "id": "e6eba513",
>>>>>>> documentation-devel
||||||| 6893f63
<<<<<<< HEAD
   "id": "d036441f",
||||||| 6a30bf1
   "id": "d8548100",
=======
   "id": "c84ba91d",
>>>>>>> documentation-devel
=======
   "id": "82207c52",
>>>>>>> c74c98c2450c2a1ba922ed9442f136238d6bc88b
=======
   "id": "8e3186b1",
>>>>>>> 035bb2637984ead2784fecff78c0c60cc4181202
||||||| 3effdfa5
   "id": "b3b9cfc1",
=======
   "id": "b1f09577",
>>>>>>> documentation-devel
||||||| 96c826da
<<<<<<< HEAD
<<<<<<< HEAD
<<<<<<< HEAD
<<<<<<< HEAD
<<<<<<< HEAD
   "id": "d036441f",
||||||| 6a30bf1
   "id": "d8548100",
=======
   "id": "c84ba91d",
>>>>>>> documentation-devel
||||||| d28b18c
   "id": "c84ba91d",
=======
   "id": "e6eba513",
>>>>>>> documentation-devel
||||||| 6893f63
<<<<<<< HEAD
   "id": "d036441f",
||||||| 6a30bf1
   "id": "d8548100",
=======
   "id": "c84ba91d",
>>>>>>> documentation-devel
=======
   "id": "82207c52",
>>>>>>> c74c98c2450c2a1ba922ed9442f136238d6bc88b
||||||| 6d93b645
   "id": "e6eba513",
=======
   "id": "b3b9cfc1",
>>>>>>> documentation-devel
||||||| 804edffb
<<<<<<< HEAD
<<<<<<< HEAD
<<<<<<< HEAD
   "id": "d036441f",
||||||| 6a30bf1
   "id": "d8548100",
=======
   "id": "c84ba91d",
>>>>>>> documentation-devel
||||||| d28b18c
   "id": "c84ba91d",
=======
   "id": "e6eba513",
>>>>>>> documentation-devel
||||||| 6893f63
<<<<<<< HEAD
   "id": "d036441f",
||||||| 6a30bf1
   "id": "d8548100",
=======
   "id": "c84ba91d",
>>>>>>> documentation-devel
=======
   "id": "82207c52",
>>>>>>> c74c98c2450c2a1ba922ed9442f136238d6bc88b
=======
   "id": "8e3186b1",
>>>>>>> 035bb2637984ead2784fecff78c0c60cc4181202
=======
   "id": "c5130ebc",
>>>>>>> 619c01f26351d57ac14d974b7af136ac5756103f
   "metadata": {},
   "outputs": [],
   "source": [
    "plotColDataHistogram(sfe, paste0(\"subsets_blank_\", c(\"sum\", \"detected\", \"percent\")))"
   ]
  },
  {
   "cell_type": "markdown",
<<<<<<< HEAD
<<<<<<< HEAD
<<<<<<< HEAD
<<<<<<< HEAD
<<<<<<< HEAD
<<<<<<< HEAD
<<<<<<< HEAD
   "id": "8daa08c7",
||||||| 6a30bf1
   "id": "62d48584",
=======
   "id": "df3228b9",
>>>>>>> documentation-devel
||||||| d28b18c
   "id": "df3228b9",
=======
   "id": "7e8af23f",
>>>>>>> documentation-devel
||||||| 6893f63
<<<<<<< HEAD
   "id": "8daa08c7",
||||||| 6a30bf1
   "id": "62d48584",
=======
   "id": "df3228b9",
>>>>>>> documentation-devel
=======
   "id": "0b96b7b0",
>>>>>>> c74c98c2450c2a1ba922ed9442f136238d6bc88b
||||||| 6d93b645
   "id": "7e8af23f",
=======
   "id": "ea424b33",
>>>>>>> documentation-devel
||||||| 804edffb
<<<<<<< HEAD
<<<<<<< HEAD
<<<<<<< HEAD
   "id": "8daa08c7",
||||||| 6a30bf1
   "id": "62d48584",
=======
   "id": "df3228b9",
>>>>>>> documentation-devel
||||||| d28b18c
   "id": "df3228b9",
=======
   "id": "7e8af23f",
>>>>>>> documentation-devel
||||||| 6893f63
<<<<<<< HEAD
   "id": "8daa08c7",
||||||| 6a30bf1
   "id": "62d48584",
=======
   "id": "df3228b9",
>>>>>>> documentation-devel
=======
   "id": "0b96b7b0",
>>>>>>> c74c98c2450c2a1ba922ed9442f136238d6bc88b
=======
   "id": "610f299f",
>>>>>>> 035bb2637984ead2784fecff78c0c60cc4181202
||||||| 3effdfa5
   "id": "ea424b33",
=======
   "id": "d88f7628",
>>>>>>> documentation-devel
||||||| 96c826da
<<<<<<< HEAD
<<<<<<< HEAD
<<<<<<< HEAD
<<<<<<< HEAD
<<<<<<< HEAD
   "id": "8daa08c7",
||||||| 6a30bf1
   "id": "62d48584",
=======
   "id": "df3228b9",
>>>>>>> documentation-devel
||||||| d28b18c
   "id": "df3228b9",
=======
   "id": "7e8af23f",
>>>>>>> documentation-devel
||||||| 6893f63
<<<<<<< HEAD
   "id": "8daa08c7",
||||||| 6a30bf1
   "id": "62d48584",
=======
   "id": "df3228b9",
>>>>>>> documentation-devel
=======
   "id": "0b96b7b0",
>>>>>>> c74c98c2450c2a1ba922ed9442f136238d6bc88b
||||||| 6d93b645
   "id": "7e8af23f",
=======
   "id": "ea424b33",
>>>>>>> documentation-devel
||||||| 804edffb
<<<<<<< HEAD
<<<<<<< HEAD
<<<<<<< HEAD
   "id": "8daa08c7",
||||||| 6a30bf1
   "id": "62d48584",
=======
   "id": "df3228b9",
>>>>>>> documentation-devel
||||||| d28b18c
   "id": "df3228b9",
=======
   "id": "7e8af23f",
>>>>>>> documentation-devel
||||||| 6893f63
<<<<<<< HEAD
   "id": "8daa08c7",
||||||| 6a30bf1
   "id": "62d48584",
=======
   "id": "df3228b9",
>>>>>>> documentation-devel
=======
   "id": "0b96b7b0",
>>>>>>> c74c98c2450c2a1ba922ed9442f136238d6bc88b
=======
   "id": "610f299f",
>>>>>>> 035bb2637984ead2784fecff78c0c60cc4181202
=======
   "id": "a394f281",
>>>>>>> 619c01f26351d57ac14d974b7af136ac5756103f
   "metadata": {
    "lines_to_next_cell": 0
   },
   "source": [
    "The NA's are cells without any transcript detected. "
   ]
  },
  {
   "cell_type": "code",
   "execution_count": null,
<<<<<<< HEAD
<<<<<<< HEAD
<<<<<<< HEAD
<<<<<<< HEAD
<<<<<<< HEAD
<<<<<<< HEAD
<<<<<<< HEAD
   "id": "593506ad",
||||||| 6a30bf1
   "id": "6e6df5fb",
=======
   "id": "5d5abc52",
>>>>>>> documentation-devel
||||||| d28b18c
   "id": "5d5abc52",
=======
   "id": "01034eae",
>>>>>>> documentation-devel
||||||| 6893f63
<<<<<<< HEAD
   "id": "593506ad",
||||||| 6a30bf1
   "id": "6e6df5fb",
=======
   "id": "5d5abc52",
>>>>>>> documentation-devel
=======
   "id": "ec2e3cab",
>>>>>>> c74c98c2450c2a1ba922ed9442f136238d6bc88b
||||||| 6d93b645
   "id": "01034eae",
=======
   "id": "27f7340a",
>>>>>>> documentation-devel
||||||| 804edffb
<<<<<<< HEAD
<<<<<<< HEAD
<<<<<<< HEAD
   "id": "593506ad",
||||||| 6a30bf1
   "id": "6e6df5fb",
=======
   "id": "5d5abc52",
>>>>>>> documentation-devel
||||||| d28b18c
   "id": "5d5abc52",
=======
   "id": "01034eae",
>>>>>>> documentation-devel
||||||| 6893f63
<<<<<<< HEAD
   "id": "593506ad",
||||||| 6a30bf1
   "id": "6e6df5fb",
=======
   "id": "5d5abc52",
>>>>>>> documentation-devel
=======
   "id": "ec2e3cab",
>>>>>>> c74c98c2450c2a1ba922ed9442f136238d6bc88b
=======
   "id": "9593c73f",
>>>>>>> 035bb2637984ead2784fecff78c0c60cc4181202
||||||| 3effdfa5
   "id": "27f7340a",
=======
   "id": "e92cf175",
>>>>>>> documentation-devel
||||||| 96c826da
<<<<<<< HEAD
<<<<<<< HEAD
<<<<<<< HEAD
<<<<<<< HEAD
<<<<<<< HEAD
   "id": "593506ad",
||||||| 6a30bf1
   "id": "6e6df5fb",
=======
   "id": "5d5abc52",
>>>>>>> documentation-devel
||||||| d28b18c
   "id": "5d5abc52",
=======
   "id": "01034eae",
>>>>>>> documentation-devel
||||||| 6893f63
<<<<<<< HEAD
   "id": "593506ad",
||||||| 6a30bf1
   "id": "6e6df5fb",
=======
   "id": "5d5abc52",
>>>>>>> documentation-devel
=======
   "id": "ec2e3cab",
>>>>>>> c74c98c2450c2a1ba922ed9442f136238d6bc88b
||||||| 6d93b645
   "id": "01034eae",
=======
   "id": "27f7340a",
>>>>>>> documentation-devel
||||||| 804edffb
<<<<<<< HEAD
<<<<<<< HEAD
<<<<<<< HEAD
   "id": "593506ad",
||||||| 6a30bf1
   "id": "6e6df5fb",
=======
   "id": "5d5abc52",
>>>>>>> documentation-devel
||||||| d28b18c
   "id": "5d5abc52",
=======
   "id": "01034eae",
>>>>>>> documentation-devel
||||||| 6893f63
<<<<<<< HEAD
   "id": "593506ad",
||||||| 6a30bf1
   "id": "6e6df5fb",
=======
   "id": "5d5abc52",
>>>>>>> documentation-devel
=======
   "id": "ec2e3cab",
>>>>>>> c74c98c2450c2a1ba922ed9442f136238d6bc88b
=======
   "id": "9593c73f",
>>>>>>> 035bb2637984ead2784fecff78c0c60cc4181202
=======
   "id": "b2b49a9f",
>>>>>>> 619c01f26351d57ac14d974b7af136ac5756103f
   "metadata": {},
   "outputs": [],
   "source": [
    "mean(sfe$subsets_blank_sum > 0)"
   ]
  },
  {
   "cell_type": "markdown",
<<<<<<< HEAD
<<<<<<< HEAD
<<<<<<< HEAD
<<<<<<< HEAD
<<<<<<< HEAD
<<<<<<< HEAD
<<<<<<< HEAD
   "id": "3b1723b2",
||||||| 6a30bf1
   "id": "e3f5925d",
=======
   "id": "702248c4",
>>>>>>> documentation-devel
||||||| d28b18c
   "id": "702248c4",
=======
   "id": "fc407bab",
>>>>>>> documentation-devel
||||||| 6893f63
<<<<<<< HEAD
   "id": "3b1723b2",
||||||| 6a30bf1
   "id": "e3f5925d",
=======
   "id": "702248c4",
>>>>>>> documentation-devel
=======
   "id": "a659e3c2",
>>>>>>> c74c98c2450c2a1ba922ed9442f136238d6bc88b
||||||| 6d93b645
   "id": "fc407bab",
=======
   "id": "a308f09f",
>>>>>>> documentation-devel
||||||| 804edffb
<<<<<<< HEAD
<<<<<<< HEAD
<<<<<<< HEAD
   "id": "3b1723b2",
||||||| 6a30bf1
   "id": "e3f5925d",
=======
   "id": "702248c4",
>>>>>>> documentation-devel
||||||| d28b18c
   "id": "702248c4",
=======
   "id": "fc407bab",
>>>>>>> documentation-devel
||||||| 6893f63
<<<<<<< HEAD
   "id": "3b1723b2",
||||||| 6a30bf1
   "id": "e3f5925d",
=======
   "id": "702248c4",
>>>>>>> documentation-devel
=======
   "id": "a659e3c2",
>>>>>>> c74c98c2450c2a1ba922ed9442f136238d6bc88b
=======
   "id": "382bb5c8",
>>>>>>> 035bb2637984ead2784fecff78c0c60cc4181202
||||||| 3effdfa5
   "id": "a308f09f",
=======
   "id": "c6030abf",
>>>>>>> documentation-devel
||||||| 96c826da
<<<<<<< HEAD
<<<<<<< HEAD
<<<<<<< HEAD
<<<<<<< HEAD
<<<<<<< HEAD
   "id": "3b1723b2",
||||||| 6a30bf1
   "id": "e3f5925d",
=======
   "id": "702248c4",
>>>>>>> documentation-devel
||||||| d28b18c
   "id": "702248c4",
=======
   "id": "fc407bab",
>>>>>>> documentation-devel
||||||| 6893f63
<<<<<<< HEAD
   "id": "3b1723b2",
||||||| 6a30bf1
   "id": "e3f5925d",
=======
   "id": "702248c4",
>>>>>>> documentation-devel
=======
   "id": "a659e3c2",
>>>>>>> c74c98c2450c2a1ba922ed9442f136238d6bc88b
||||||| 6d93b645
   "id": "fc407bab",
=======
   "id": "a308f09f",
>>>>>>> documentation-devel
||||||| 804edffb
<<<<<<< HEAD
<<<<<<< HEAD
<<<<<<< HEAD
   "id": "3b1723b2",
||||||| 6a30bf1
   "id": "e3f5925d",
=======
   "id": "702248c4",
>>>>>>> documentation-devel
||||||| d28b18c
   "id": "702248c4",
=======
   "id": "fc407bab",
>>>>>>> documentation-devel
||||||| 6893f63
<<<<<<< HEAD
   "id": "3b1723b2",
||||||| 6a30bf1
   "id": "e3f5925d",
=======
   "id": "702248c4",
>>>>>>> documentation-devel
=======
   "id": "a659e3c2",
>>>>>>> c74c98c2450c2a1ba922ed9442f136238d6bc88b
=======
   "id": "382bb5c8",
>>>>>>> 035bb2637984ead2784fecff78c0c60cc4181202
=======
   "id": "bb621c8d",
>>>>>>> 619c01f26351d57ac14d974b7af136ac5756103f
   "metadata": {
    "lines_to_next_cell": 0
   },
   "source": [
    "Unlike in the Xenium dataset, here most cells have at least one blank count. By log transforming, the zeroes are removed from the plot. "
   ]
  },
  {
   "cell_type": "code",
   "execution_count": null,
<<<<<<< HEAD
<<<<<<< HEAD
<<<<<<< HEAD
<<<<<<< HEAD
<<<<<<< HEAD
<<<<<<< HEAD
<<<<<<< HEAD
   "id": "71139f69",
||||||| 6a30bf1
   "id": "1defaa96",
=======
   "id": "ed958f90",
>>>>>>> documentation-devel
||||||| d28b18c
   "id": "ed958f90",
=======
   "id": "09bcacc9",
>>>>>>> documentation-devel
||||||| 6893f63
<<<<<<< HEAD
   "id": "71139f69",
||||||| 6a30bf1
   "id": "1defaa96",
=======
   "id": "ed958f90",
>>>>>>> documentation-devel
=======
   "id": "d9ff76db",
>>>>>>> c74c98c2450c2a1ba922ed9442f136238d6bc88b
||||||| 6d93b645
   "id": "09bcacc9",
=======
   "id": "687046ea",
>>>>>>> documentation-devel
||||||| 804edffb
<<<<<<< HEAD
<<<<<<< HEAD
<<<<<<< HEAD
   "id": "71139f69",
||||||| 6a30bf1
   "id": "1defaa96",
=======
   "id": "ed958f90",
>>>>>>> documentation-devel
||||||| d28b18c
   "id": "ed958f90",
=======
   "id": "09bcacc9",
>>>>>>> documentation-devel
||||||| 6893f63
<<<<<<< HEAD
   "id": "71139f69",
||||||| 6a30bf1
   "id": "1defaa96",
=======
   "id": "ed958f90",
>>>>>>> documentation-devel
=======
   "id": "d9ff76db",
>>>>>>> c74c98c2450c2a1ba922ed9442f136238d6bc88b
=======
   "id": "fc56bdaf",
>>>>>>> 035bb2637984ead2784fecff78c0c60cc4181202
||||||| 3effdfa5
   "id": "687046ea",
=======
   "id": "c35c8cd7",
>>>>>>> documentation-devel
||||||| 96c826da
<<<<<<< HEAD
<<<<<<< HEAD
<<<<<<< HEAD
<<<<<<< HEAD
<<<<<<< HEAD
   "id": "71139f69",
||||||| 6a30bf1
   "id": "1defaa96",
=======
   "id": "ed958f90",
>>>>>>> documentation-devel
||||||| d28b18c
   "id": "ed958f90",
=======
   "id": "09bcacc9",
>>>>>>> documentation-devel
||||||| 6893f63
<<<<<<< HEAD
   "id": "71139f69",
||||||| 6a30bf1
   "id": "1defaa96",
=======
   "id": "ed958f90",
>>>>>>> documentation-devel
=======
   "id": "d9ff76db",
>>>>>>> c74c98c2450c2a1ba922ed9442f136238d6bc88b
||||||| 6d93b645
   "id": "09bcacc9",
=======
   "id": "687046ea",
>>>>>>> documentation-devel
||||||| 804edffb
<<<<<<< HEAD
<<<<<<< HEAD
<<<<<<< HEAD
   "id": "71139f69",
||||||| 6a30bf1
   "id": "1defaa96",
=======
   "id": "ed958f90",
>>>>>>> documentation-devel
||||||| d28b18c
   "id": "ed958f90",
=======
   "id": "09bcacc9",
>>>>>>> documentation-devel
||||||| 6893f63
<<<<<<< HEAD
   "id": "71139f69",
||||||| 6a30bf1
   "id": "1defaa96",
=======
   "id": "ed958f90",
>>>>>>> documentation-devel
=======
   "id": "d9ff76db",
>>>>>>> c74c98c2450c2a1ba922ed9442f136238d6bc88b
=======
   "id": "fc56bdaf",
>>>>>>> 035bb2637984ead2784fecff78c0c60cc4181202
=======
   "id": "09d40510",
>>>>>>> 619c01f26351d57ac14d974b7af136ac5756103f
   "metadata": {},
   "outputs": [],
   "source": [
    "plotColDataHistogram(sfe, \"subsets_blank_percent\") +\n",
    "    scale_x_log10() +\n",
    "    annotation_logticks()"
   ]
  },
  {
   "cell_type": "markdown",
<<<<<<< HEAD
<<<<<<< HEAD
<<<<<<< HEAD
<<<<<<< HEAD
<<<<<<< HEAD
<<<<<<< HEAD
<<<<<<< HEAD
   "id": "2f7c62b7",
||||||| 6a30bf1
   "id": "ccaded87",
=======
   "id": "177e707b",
>>>>>>> documentation-devel
||||||| d28b18c
   "id": "177e707b",
=======
   "id": "e690479a",
>>>>>>> documentation-devel
||||||| 6893f63
<<<<<<< HEAD
   "id": "2f7c62b7",
||||||| 6a30bf1
   "id": "ccaded87",
=======
   "id": "177e707b",
>>>>>>> documentation-devel
=======
   "id": "02f56aa1",
>>>>>>> c74c98c2450c2a1ba922ed9442f136238d6bc88b
||||||| 6d93b645
   "id": "e690479a",
=======
   "id": "824e017e",
>>>>>>> documentation-devel
||||||| 804edffb
<<<<<<< HEAD
<<<<<<< HEAD
<<<<<<< HEAD
   "id": "2f7c62b7",
||||||| 6a30bf1
   "id": "ccaded87",
=======
   "id": "177e707b",
>>>>>>> documentation-devel
||||||| d28b18c
   "id": "177e707b",
=======
   "id": "e690479a",
>>>>>>> documentation-devel
||||||| 6893f63
<<<<<<< HEAD
   "id": "2f7c62b7",
||||||| 6a30bf1
   "id": "ccaded87",
=======
   "id": "177e707b",
>>>>>>> documentation-devel
=======
   "id": "02f56aa1",
>>>>>>> c74c98c2450c2a1ba922ed9442f136238d6bc88b
=======
   "id": "ee79edc8",
>>>>>>> 035bb2637984ead2784fecff78c0c60cc4181202
||||||| 3effdfa5
   "id": "824e017e",
=======
   "id": "513990f9",
>>>>>>> documentation-devel
||||||| 96c826da
<<<<<<< HEAD
<<<<<<< HEAD
<<<<<<< HEAD
<<<<<<< HEAD
<<<<<<< HEAD
   "id": "2f7c62b7",
||||||| 6a30bf1
   "id": "ccaded87",
=======
   "id": "177e707b",
>>>>>>> documentation-devel
||||||| d28b18c
   "id": "177e707b",
=======
   "id": "e690479a",
>>>>>>> documentation-devel
||||||| 6893f63
<<<<<<< HEAD
   "id": "2f7c62b7",
||||||| 6a30bf1
   "id": "ccaded87",
=======
   "id": "177e707b",
>>>>>>> documentation-devel
=======
   "id": "02f56aa1",
>>>>>>> c74c98c2450c2a1ba922ed9442f136238d6bc88b
||||||| 6d93b645
   "id": "e690479a",
=======
   "id": "824e017e",
>>>>>>> documentation-devel
||||||| 804edffb
<<<<<<< HEAD
<<<<<<< HEAD
<<<<<<< HEAD
   "id": "2f7c62b7",
||||||| 6a30bf1
   "id": "ccaded87",
=======
   "id": "177e707b",
>>>>>>> documentation-devel
||||||| d28b18c
   "id": "177e707b",
=======
   "id": "e690479a",
>>>>>>> documentation-devel
||||||| 6893f63
<<<<<<< HEAD
   "id": "2f7c62b7",
||||||| 6a30bf1
   "id": "ccaded87",
=======
   "id": "177e707b",
>>>>>>> documentation-devel
=======
   "id": "02f56aa1",
>>>>>>> c74c98c2450c2a1ba922ed9442f136238d6bc88b
=======
   "id": "ee79edc8",
>>>>>>> 035bb2637984ead2784fecff78c0c60cc4181202
=======
   "id": "76625b21",
>>>>>>> 619c01f26351d57ac14d974b7af136ac5756103f
   "metadata": {},
   "source": [
    "A small percentage of blank counts is acceptable. So we will remove the outlier based on the distribution of the percentage when it's greater than zero. How does the blank percentage relate to total counts?"
   ]
  },
  {
   "cell_type": "code",
   "execution_count": null,
<<<<<<< HEAD
<<<<<<< HEAD
<<<<<<< HEAD
<<<<<<< HEAD
<<<<<<< HEAD
<<<<<<< HEAD
<<<<<<< HEAD
   "id": "3eb3ad76",
||||||| 6a30bf1
   "id": "eb76c909",
=======
   "id": "abea74e0",
>>>>>>> documentation-devel
||||||| d28b18c
   "id": "abea74e0",
=======
   "id": "3f5d21a7",
>>>>>>> documentation-devel
||||||| 6893f63
<<<<<<< HEAD
   "id": "3eb3ad76",
||||||| 6a30bf1
   "id": "eb76c909",
=======
   "id": "abea74e0",
>>>>>>> documentation-devel
=======
   "id": "675697cd",
>>>>>>> c74c98c2450c2a1ba922ed9442f136238d6bc88b
||||||| 6d93b645
   "id": "3f5d21a7",
=======
   "id": "9c464539",
>>>>>>> documentation-devel
||||||| 804edffb
<<<<<<< HEAD
<<<<<<< HEAD
<<<<<<< HEAD
   "id": "3eb3ad76",
||||||| 6a30bf1
   "id": "eb76c909",
=======
   "id": "abea74e0",
>>>>>>> documentation-devel
||||||| d28b18c
   "id": "abea74e0",
=======
   "id": "3f5d21a7",
>>>>>>> documentation-devel
||||||| 6893f63
<<<<<<< HEAD
   "id": "3eb3ad76",
||||||| 6a30bf1
   "id": "eb76c909",
=======
   "id": "abea74e0",
>>>>>>> documentation-devel
=======
   "id": "675697cd",
>>>>>>> c74c98c2450c2a1ba922ed9442f136238d6bc88b
=======
   "id": "f3ab3e46",
>>>>>>> 035bb2637984ead2784fecff78c0c60cc4181202
||||||| 3effdfa5
   "id": "9c464539",
=======
   "id": "f91b3cb3",
>>>>>>> documentation-devel
||||||| 96c826da
<<<<<<< HEAD
<<<<<<< HEAD
<<<<<<< HEAD
<<<<<<< HEAD
<<<<<<< HEAD
   "id": "3eb3ad76",
||||||| 6a30bf1
   "id": "eb76c909",
=======
   "id": "abea74e0",
>>>>>>> documentation-devel
||||||| d28b18c
   "id": "abea74e0",
=======
   "id": "3f5d21a7",
>>>>>>> documentation-devel
||||||| 6893f63
<<<<<<< HEAD
   "id": "3eb3ad76",
||||||| 6a30bf1
   "id": "eb76c909",
=======
   "id": "abea74e0",
>>>>>>> documentation-devel
=======
   "id": "675697cd",
>>>>>>> c74c98c2450c2a1ba922ed9442f136238d6bc88b
||||||| 6d93b645
   "id": "3f5d21a7",
=======
   "id": "9c464539",
>>>>>>> documentation-devel
||||||| 804edffb
<<<<<<< HEAD
<<<<<<< HEAD
<<<<<<< HEAD
   "id": "3eb3ad76",
||||||| 6a30bf1
   "id": "eb76c909",
=======
   "id": "abea74e0",
>>>>>>> documentation-devel
||||||| d28b18c
   "id": "abea74e0",
=======
   "id": "3f5d21a7",
>>>>>>> documentation-devel
||||||| 6893f63
<<<<<<< HEAD
   "id": "3eb3ad76",
||||||| 6a30bf1
   "id": "eb76c909",
=======
   "id": "abea74e0",
>>>>>>> documentation-devel
=======
   "id": "675697cd",
>>>>>>> c74c98c2450c2a1ba922ed9442f136238d6bc88b
=======
   "id": "f3ab3e46",
>>>>>>> 035bb2637984ead2784fecff78c0c60cc4181202
=======
   "id": "0ce198ee",
>>>>>>> 619c01f26351d57ac14d974b7af136ac5756103f
   "metadata": {},
   "outputs": [],
   "source": [
    "plotColDataBin2D(sfe, \"nCounts\", \"subsets_blank_percent\") +\n",
    "    scale_fill_viridis_c()"
   ]
  },
  {
   "cell_type": "markdown",
<<<<<<< HEAD
<<<<<<< HEAD
<<<<<<< HEAD
<<<<<<< HEAD
<<<<<<< HEAD
<<<<<<< HEAD
<<<<<<< HEAD
   "id": "fce60b6a",
||||||| 6a30bf1
   "id": "87dd3039",
=======
   "id": "d0704de4",
>>>>>>> documentation-devel
||||||| d28b18c
   "id": "d0704de4",
=======
   "id": "0eddda0d",
>>>>>>> documentation-devel
||||||| 6893f63
<<<<<<< HEAD
   "id": "fce60b6a",
||||||| 6a30bf1
   "id": "87dd3039",
=======
   "id": "d0704de4",
>>>>>>> documentation-devel
=======
   "id": "e8b8288c",
>>>>>>> c74c98c2450c2a1ba922ed9442f136238d6bc88b
||||||| 6d93b645
   "id": "0eddda0d",
=======
   "id": "b2fe6d01",
>>>>>>> documentation-devel
||||||| 804edffb
<<<<<<< HEAD
<<<<<<< HEAD
<<<<<<< HEAD
   "id": "fce60b6a",
||||||| 6a30bf1
   "id": "87dd3039",
=======
   "id": "d0704de4",
>>>>>>> documentation-devel
||||||| d28b18c
   "id": "d0704de4",
=======
   "id": "0eddda0d",
>>>>>>> documentation-devel
||||||| 6893f63
<<<<<<< HEAD
   "id": "fce60b6a",
||||||| 6a30bf1
   "id": "87dd3039",
=======
   "id": "d0704de4",
>>>>>>> documentation-devel
=======
   "id": "e8b8288c",
>>>>>>> c74c98c2450c2a1ba922ed9442f136238d6bc88b
=======
   "id": "19179aa2",
>>>>>>> 035bb2637984ead2784fecff78c0c60cc4181202
||||||| 3effdfa5
   "id": "b2fe6d01",
=======
   "id": "8a0bf715",
>>>>>>> documentation-devel
||||||| 96c826da
<<<<<<< HEAD
<<<<<<< HEAD
<<<<<<< HEAD
<<<<<<< HEAD
<<<<<<< HEAD
   "id": "fce60b6a",
||||||| 6a30bf1
   "id": "87dd3039",
=======
   "id": "d0704de4",
>>>>>>> documentation-devel
||||||| d28b18c
   "id": "d0704de4",
=======
   "id": "0eddda0d",
>>>>>>> documentation-devel
||||||| 6893f63
<<<<<<< HEAD
   "id": "fce60b6a",
||||||| 6a30bf1
   "id": "87dd3039",
=======
   "id": "d0704de4",
>>>>>>> documentation-devel
=======
   "id": "e8b8288c",
>>>>>>> c74c98c2450c2a1ba922ed9442f136238d6bc88b
||||||| 6d93b645
   "id": "0eddda0d",
=======
   "id": "b2fe6d01",
>>>>>>> documentation-devel
||||||| 804edffb
<<<<<<< HEAD
<<<<<<< HEAD
<<<<<<< HEAD
   "id": "fce60b6a",
||||||| 6a30bf1
   "id": "87dd3039",
=======
   "id": "d0704de4",
>>>>>>> documentation-devel
||||||| d28b18c
   "id": "d0704de4",
=======
   "id": "0eddda0d",
>>>>>>> documentation-devel
||||||| 6893f63
<<<<<<< HEAD
   "id": "fce60b6a",
||||||| 6a30bf1
   "id": "87dd3039",
=======
   "id": "d0704de4",
>>>>>>> documentation-devel
=======
   "id": "e8b8288c",
>>>>>>> c74c98c2450c2a1ba922ed9442f136238d6bc88b
=======
   "id": "19179aa2",
>>>>>>> 035bb2637984ead2784fecff78c0c60cc4181202
=======
   "id": "6095daa2",
>>>>>>> 619c01f26351d57ac14d974b7af136ac5756103f
   "metadata": {
    "lines_to_next_cell": 0
   },
   "source": [
    "The outliers in percentage of blank counts have low total counts. But there are some seemingly real cells with sizable nCounts which have a relatively high percentage of blank counts. Since the distribution of this percentage has a very long tail, we log transform it when finding outliers."
   ]
  },
  {
   "cell_type": "code",
   "execution_count": null,
<<<<<<< HEAD
<<<<<<< HEAD
<<<<<<< HEAD
<<<<<<< HEAD
<<<<<<< HEAD
<<<<<<< HEAD
<<<<<<< HEAD
   "id": "47bc497d",
||||||| 6a30bf1
   "id": "d73f90de",
=======
   "id": "afd50aec",
>>>>>>> documentation-devel
||||||| d28b18c
   "id": "afd50aec",
=======
   "id": "c0cffac8",
>>>>>>> documentation-devel
||||||| 6893f63
<<<<<<< HEAD
   "id": "47bc497d",
||||||| 6a30bf1
   "id": "d73f90de",
=======
   "id": "afd50aec",
>>>>>>> documentation-devel
=======
   "id": "c02e42e3",
>>>>>>> c74c98c2450c2a1ba922ed9442f136238d6bc88b
||||||| 6d93b645
   "id": "c0cffac8",
=======
   "id": "0c7c2ba4",
>>>>>>> documentation-devel
||||||| 804edffb
<<<<<<< HEAD
<<<<<<< HEAD
<<<<<<< HEAD
   "id": "47bc497d",
||||||| 6a30bf1
   "id": "d73f90de",
=======
   "id": "afd50aec",
>>>>>>> documentation-devel
||||||| d28b18c
   "id": "afd50aec",
=======
   "id": "c0cffac8",
>>>>>>> documentation-devel
||||||| 6893f63
<<<<<<< HEAD
   "id": "47bc497d",
||||||| 6a30bf1
   "id": "d73f90de",
=======
   "id": "afd50aec",
>>>>>>> documentation-devel
=======
   "id": "c02e42e3",
>>>>>>> c74c98c2450c2a1ba922ed9442f136238d6bc88b
=======
   "id": "b0aeb318",
>>>>>>> 035bb2637984ead2784fecff78c0c60cc4181202
||||||| 3effdfa5
   "id": "0c7c2ba4",
=======
   "id": "a41d8161",
>>>>>>> documentation-devel
||||||| 96c826da
<<<<<<< HEAD
<<<<<<< HEAD
<<<<<<< HEAD
<<<<<<< HEAD
<<<<<<< HEAD
   "id": "47bc497d",
||||||| 6a30bf1
   "id": "d73f90de",
=======
   "id": "afd50aec",
>>>>>>> documentation-devel
||||||| d28b18c
   "id": "afd50aec",
=======
   "id": "c0cffac8",
>>>>>>> documentation-devel
||||||| 6893f63
<<<<<<< HEAD
   "id": "47bc497d",
||||||| 6a30bf1
   "id": "d73f90de",
=======
   "id": "afd50aec",
>>>>>>> documentation-devel
=======
   "id": "c02e42e3",
>>>>>>> c74c98c2450c2a1ba922ed9442f136238d6bc88b
||||||| 6d93b645
   "id": "c0cffac8",
=======
   "id": "0c7c2ba4",
>>>>>>> documentation-devel
||||||| 804edffb
<<<<<<< HEAD
<<<<<<< HEAD
<<<<<<< HEAD
   "id": "47bc497d",
||||||| 6a30bf1
   "id": "d73f90de",
=======
   "id": "afd50aec",
>>>>>>> documentation-devel
||||||| d28b18c
   "id": "afd50aec",
=======
   "id": "c0cffac8",
>>>>>>> documentation-devel
||||||| 6893f63
<<<<<<< HEAD
   "id": "47bc497d",
||||||| 6a30bf1
   "id": "d73f90de",
=======
   "id": "afd50aec",
>>>>>>> documentation-devel
=======
   "id": "c02e42e3",
>>>>>>> c74c98c2450c2a1ba922ed9442f136238d6bc88b
=======
   "id": "b0aeb318",
>>>>>>> 035bb2637984ead2784fecff78c0c60cc4181202
=======
   "id": "e372fe7b",
>>>>>>> 619c01f26351d57ac14d974b7af136ac5756103f
   "metadata": {},
   "outputs": [],
   "source": [
    "get_neg_ctrl_outliers <- function(col, sfe, nmads = 3, log = FALSE) {\n",
    "    inds <- colData(sfe)$nCounts > 0 & colData(sfe)[[col]] > 0\n",
    "    df <- colData(sfe)[inds,]\n",
    "    outlier_inds <- isOutlier(df[[col]], type = \"higher\", nmads = nmads, log = log)\n",
    "    outliers <- rownames(df)[outlier_inds]\n",
    "    col2 <- str_remove(col, \"^subsets_\")\n",
    "    col2 <- str_remove(col2, \"_percent$\")\n",
    "    new_colname <- paste(\"is\", col2, \"outlier\", sep = \"_\")\n",
    "    colData(sfe)[[new_colname]] <- colnames(sfe) %in% outliers\n",
    "    sfe\n",
    "}"
   ]
  },
  {
   "cell_type": "code",
   "execution_count": null,
<<<<<<< HEAD
<<<<<<< HEAD
<<<<<<< HEAD
<<<<<<< HEAD
<<<<<<< HEAD
<<<<<<< HEAD
<<<<<<< HEAD
   "id": "5d435ad0",
||||||| 6a30bf1
   "id": "3c076683",
=======
   "id": "ed3ae111",
>>>>>>> documentation-devel
||||||| d28b18c
   "id": "ed3ae111",
=======
   "id": "0f72a9ee",
>>>>>>> documentation-devel
||||||| 6893f63
<<<<<<< HEAD
   "id": "5d435ad0",
||||||| 6a30bf1
   "id": "3c076683",
=======
   "id": "ed3ae111",
>>>>>>> documentation-devel
=======
   "id": "8301acab",
>>>>>>> c74c98c2450c2a1ba922ed9442f136238d6bc88b
||||||| 6d93b645
   "id": "0f72a9ee",
=======
   "id": "c527fb41",
>>>>>>> documentation-devel
||||||| 804edffb
<<<<<<< HEAD
<<<<<<< HEAD
<<<<<<< HEAD
   "id": "5d435ad0",
||||||| 6a30bf1
   "id": "3c076683",
=======
   "id": "ed3ae111",
>>>>>>> documentation-devel
||||||| d28b18c
   "id": "ed3ae111",
=======
   "id": "0f72a9ee",
>>>>>>> documentation-devel
||||||| 6893f63
<<<<<<< HEAD
   "id": "5d435ad0",
||||||| 6a30bf1
   "id": "3c076683",
=======
   "id": "ed3ae111",
>>>>>>> documentation-devel
=======
   "id": "8301acab",
>>>>>>> c74c98c2450c2a1ba922ed9442f136238d6bc88b
=======
   "id": "c6223d4d",
>>>>>>> 035bb2637984ead2784fecff78c0c60cc4181202
||||||| 3effdfa5
   "id": "c527fb41",
=======
   "id": "d205bb14",
>>>>>>> documentation-devel
||||||| 96c826da
<<<<<<< HEAD
<<<<<<< HEAD
<<<<<<< HEAD
<<<<<<< HEAD
<<<<<<< HEAD
   "id": "5d435ad0",
||||||| 6a30bf1
   "id": "3c076683",
=======
   "id": "ed3ae111",
>>>>>>> documentation-devel
||||||| d28b18c
   "id": "ed3ae111",
=======
   "id": "0f72a9ee",
>>>>>>> documentation-devel
||||||| 6893f63
<<<<<<< HEAD
   "id": "5d435ad0",
||||||| 6a30bf1
   "id": "3c076683",
=======
   "id": "ed3ae111",
>>>>>>> documentation-devel
=======
   "id": "8301acab",
>>>>>>> c74c98c2450c2a1ba922ed9442f136238d6bc88b
||||||| 6d93b645
   "id": "0f72a9ee",
=======
   "id": "c527fb41",
>>>>>>> documentation-devel
||||||| 804edffb
<<<<<<< HEAD
<<<<<<< HEAD
<<<<<<< HEAD
   "id": "5d435ad0",
||||||| 6a30bf1
   "id": "3c076683",
=======
   "id": "ed3ae111",
>>>>>>> documentation-devel
||||||| d28b18c
   "id": "ed3ae111",
=======
   "id": "0f72a9ee",
>>>>>>> documentation-devel
||||||| 6893f63
<<<<<<< HEAD
   "id": "5d435ad0",
||||||| 6a30bf1
   "id": "3c076683",
=======
   "id": "ed3ae111",
>>>>>>> documentation-devel
=======
   "id": "8301acab",
>>>>>>> c74c98c2450c2a1ba922ed9442f136238d6bc88b
=======
   "id": "c6223d4d",
>>>>>>> 035bb2637984ead2784fecff78c0c60cc4181202
=======
   "id": "19f2f43b",
>>>>>>> 619c01f26351d57ac14d974b7af136ac5756103f
   "metadata": {},
   "outputs": [],
   "source": [
    "sfe <- get_neg_ctrl_outliers(\"subsets_blank_percent\", sfe, log = TRUE)"
   ]
  },
  {
   "cell_type": "markdown",
<<<<<<< HEAD
<<<<<<< HEAD
<<<<<<< HEAD
<<<<<<< HEAD
<<<<<<< HEAD
<<<<<<< HEAD
<<<<<<< HEAD
   "id": "70b73640",
||||||| 6a30bf1
   "id": "ac4c68ee",
=======
   "id": "2788176c",
>>>>>>> documentation-devel
||||||| d28b18c
   "id": "2788176c",
=======
   "id": "11d2c448",
>>>>>>> documentation-devel
||||||| 6893f63
<<<<<<< HEAD
   "id": "70b73640",
||||||| 6a30bf1
   "id": "ac4c68ee",
=======
   "id": "2788176c",
>>>>>>> documentation-devel
=======
   "id": "8a589a62",
>>>>>>> c74c98c2450c2a1ba922ed9442f136238d6bc88b
||||||| 6d93b645
   "id": "11d2c448",
=======
   "id": "10f36058",
>>>>>>> documentation-devel
||||||| 804edffb
<<<<<<< HEAD
<<<<<<< HEAD
<<<<<<< HEAD
   "id": "70b73640",
||||||| 6a30bf1
   "id": "ac4c68ee",
=======
   "id": "2788176c",
>>>>>>> documentation-devel
||||||| d28b18c
   "id": "2788176c",
=======
   "id": "11d2c448",
>>>>>>> documentation-devel
||||||| 6893f63
<<<<<<< HEAD
   "id": "70b73640",
||||||| 6a30bf1
   "id": "ac4c68ee",
=======
   "id": "2788176c",
>>>>>>> documentation-devel
=======
   "id": "8a589a62",
>>>>>>> c74c98c2450c2a1ba922ed9442f136238d6bc88b
=======
   "id": "26a967b4",
>>>>>>> 035bb2637984ead2784fecff78c0c60cc4181202
||||||| 3effdfa5
   "id": "10f36058",
=======
   "id": "b76597d7",
>>>>>>> documentation-devel
||||||| 96c826da
<<<<<<< HEAD
<<<<<<< HEAD
<<<<<<< HEAD
<<<<<<< HEAD
<<<<<<< HEAD
   "id": "70b73640",
||||||| 6a30bf1
   "id": "ac4c68ee",
=======
   "id": "2788176c",
>>>>>>> documentation-devel
||||||| d28b18c
   "id": "2788176c",
=======
   "id": "11d2c448",
>>>>>>> documentation-devel
||||||| 6893f63
<<<<<<< HEAD
   "id": "70b73640",
||||||| 6a30bf1
   "id": "ac4c68ee",
=======
   "id": "2788176c",
>>>>>>> documentation-devel
=======
   "id": "8a589a62",
>>>>>>> c74c98c2450c2a1ba922ed9442f136238d6bc88b
||||||| 6d93b645
   "id": "11d2c448",
=======
   "id": "10f36058",
>>>>>>> documentation-devel
||||||| 804edffb
<<<<<<< HEAD
<<<<<<< HEAD
<<<<<<< HEAD
   "id": "70b73640",
||||||| 6a30bf1
   "id": "ac4c68ee",
=======
   "id": "2788176c",
>>>>>>> documentation-devel
||||||| d28b18c
   "id": "2788176c",
=======
   "id": "11d2c448",
>>>>>>> documentation-devel
||||||| 6893f63
<<<<<<< HEAD
   "id": "70b73640",
||||||| 6a30bf1
   "id": "ac4c68ee",
=======
   "id": "2788176c",
>>>>>>> documentation-devel
=======
   "id": "8a589a62",
>>>>>>> c74c98c2450c2a1ba922ed9442f136238d6bc88b
=======
   "id": "26a967b4",
>>>>>>> 035bb2637984ead2784fecff78c0c60cc4181202
=======
   "id": "c4fa9c79",
>>>>>>> 619c01f26351d57ac14d974b7af136ac5756103f
   "metadata": {
    "lines_to_next_cell": 0
   },
   "source": [
    "What proportion of all cells are outliers?"
   ]
  },
  {
   "cell_type": "code",
   "execution_count": null,
<<<<<<< HEAD
<<<<<<< HEAD
<<<<<<< HEAD
<<<<<<< HEAD
<<<<<<< HEAD
<<<<<<< HEAD
<<<<<<< HEAD
   "id": "4510dc22",
||||||| 6a30bf1
   "id": "0e468820",
=======
   "id": "704acbca",
>>>>>>> documentation-devel
||||||| d28b18c
   "id": "704acbca",
=======
   "id": "7478133d",
>>>>>>> documentation-devel
||||||| 6893f63
<<<<<<< HEAD
   "id": "4510dc22",
||||||| 6a30bf1
   "id": "0e468820",
=======
   "id": "704acbca",
>>>>>>> documentation-devel
=======
   "id": "0a30a9cf",
>>>>>>> c74c98c2450c2a1ba922ed9442f136238d6bc88b
||||||| 6d93b645
   "id": "7478133d",
=======
   "id": "8729194f",
>>>>>>> documentation-devel
||||||| 804edffb
<<<<<<< HEAD
<<<<<<< HEAD
<<<<<<< HEAD
   "id": "4510dc22",
||||||| 6a30bf1
   "id": "0e468820",
=======
   "id": "704acbca",
>>>>>>> documentation-devel
||||||| d28b18c
   "id": "704acbca",
=======
   "id": "7478133d",
>>>>>>> documentation-devel
||||||| 6893f63
<<<<<<< HEAD
   "id": "4510dc22",
||||||| 6a30bf1
   "id": "0e468820",
=======
   "id": "704acbca",
>>>>>>> documentation-devel
=======
   "id": "0a30a9cf",
>>>>>>> c74c98c2450c2a1ba922ed9442f136238d6bc88b
=======
   "id": "fc10b2e3",
>>>>>>> 035bb2637984ead2784fecff78c0c60cc4181202
||||||| 3effdfa5
   "id": "8729194f",
=======
   "id": "b3204afa",
>>>>>>> documentation-devel
||||||| 96c826da
<<<<<<< HEAD
<<<<<<< HEAD
<<<<<<< HEAD
<<<<<<< HEAD
<<<<<<< HEAD
   "id": "4510dc22",
||||||| 6a30bf1
   "id": "0e468820",
=======
   "id": "704acbca",
>>>>>>> documentation-devel
||||||| d28b18c
   "id": "704acbca",
=======
   "id": "7478133d",
>>>>>>> documentation-devel
||||||| 6893f63
<<<<<<< HEAD
   "id": "4510dc22",
||||||| 6a30bf1
   "id": "0e468820",
=======
   "id": "704acbca",
>>>>>>> documentation-devel
=======
   "id": "0a30a9cf",
>>>>>>> c74c98c2450c2a1ba922ed9442f136238d6bc88b
||||||| 6d93b645
   "id": "7478133d",
=======
   "id": "8729194f",
>>>>>>> documentation-devel
||||||| 804edffb
<<<<<<< HEAD
<<<<<<< HEAD
<<<<<<< HEAD
   "id": "4510dc22",
||||||| 6a30bf1
   "id": "0e468820",
=======
   "id": "704acbca",
>>>>>>> documentation-devel
||||||| d28b18c
   "id": "704acbca",
=======
   "id": "7478133d",
>>>>>>> documentation-devel
||||||| 6893f63
<<<<<<< HEAD
   "id": "4510dc22",
||||||| 6a30bf1
   "id": "0e468820",
=======
   "id": "704acbca",
>>>>>>> documentation-devel
=======
   "id": "0a30a9cf",
>>>>>>> c74c98c2450c2a1ba922ed9442f136238d6bc88b
=======
   "id": "fc10b2e3",
>>>>>>> 035bb2637984ead2784fecff78c0c60cc4181202
=======
   "id": "fee69934",
>>>>>>> 619c01f26351d57ac14d974b7af136ac5756103f
   "metadata": {},
   "outputs": [],
   "source": [
    "mean(sfe$is_blank_outlier)"
   ]
  },
  {
   "cell_type": "markdown",
<<<<<<< HEAD
<<<<<<< HEAD
<<<<<<< HEAD
<<<<<<< HEAD
<<<<<<< HEAD
<<<<<<< HEAD
<<<<<<< HEAD
   "id": "34f1df5a",
||||||| 6a30bf1
   "id": "d9a38be7",
=======
   "id": "d287ad80",
>>>>>>> documentation-devel
||||||| d28b18c
   "id": "d287ad80",
=======
   "id": "00c340f0",
>>>>>>> documentation-devel
||||||| 6893f63
<<<<<<< HEAD
   "id": "34f1df5a",
||||||| 6a30bf1
   "id": "d9a38be7",
=======
   "id": "d287ad80",
>>>>>>> documentation-devel
=======
   "id": "2a14b393",
>>>>>>> c74c98c2450c2a1ba922ed9442f136238d6bc88b
||||||| 6d93b645
   "id": "00c340f0",
=======
   "id": "5bd30b3b",
>>>>>>> documentation-devel
||||||| 804edffb
<<<<<<< HEAD
<<<<<<< HEAD
<<<<<<< HEAD
   "id": "34f1df5a",
||||||| 6a30bf1
   "id": "d9a38be7",
=======
   "id": "d287ad80",
>>>>>>> documentation-devel
||||||| d28b18c
   "id": "d287ad80",
=======
   "id": "00c340f0",
>>>>>>> documentation-devel
||||||| 6893f63
<<<<<<< HEAD
   "id": "34f1df5a",
||||||| 6a30bf1
   "id": "d9a38be7",
=======
   "id": "d287ad80",
>>>>>>> documentation-devel
=======
   "id": "2a14b393",
>>>>>>> c74c98c2450c2a1ba922ed9442f136238d6bc88b
=======
   "id": "257b0b2f",
>>>>>>> 035bb2637984ead2784fecff78c0c60cc4181202
||||||| 3effdfa5
   "id": "5bd30b3b",
=======
   "id": "ccad1f2d",
>>>>>>> documentation-devel
||||||| 96c826da
<<<<<<< HEAD
<<<<<<< HEAD
<<<<<<< HEAD
<<<<<<< HEAD
<<<<<<< HEAD
   "id": "34f1df5a",
||||||| 6a30bf1
   "id": "d9a38be7",
=======
   "id": "d287ad80",
>>>>>>> documentation-devel
||||||| d28b18c
   "id": "d287ad80",
=======
   "id": "00c340f0",
>>>>>>> documentation-devel
||||||| 6893f63
<<<<<<< HEAD
   "id": "34f1df5a",
||||||| 6a30bf1
   "id": "d9a38be7",
=======
   "id": "d287ad80",
>>>>>>> documentation-devel
=======
   "id": "2a14b393",
>>>>>>> c74c98c2450c2a1ba922ed9442f136238d6bc88b
||||||| 6d93b645
   "id": "00c340f0",
=======
   "id": "5bd30b3b",
>>>>>>> documentation-devel
||||||| 804edffb
<<<<<<< HEAD
<<<<<<< HEAD
<<<<<<< HEAD
   "id": "34f1df5a",
||||||| 6a30bf1
   "id": "d9a38be7",
=======
   "id": "d287ad80",
>>>>>>> documentation-devel
||||||| d28b18c
   "id": "d287ad80",
=======
   "id": "00c340f0",
>>>>>>> documentation-devel
||||||| 6893f63
<<<<<<< HEAD
   "id": "34f1df5a",
||||||| 6a30bf1
   "id": "d9a38be7",
=======
   "id": "d287ad80",
>>>>>>> documentation-devel
=======
   "id": "2a14b393",
>>>>>>> c74c98c2450c2a1ba922ed9442f136238d6bc88b
=======
   "id": "257b0b2f",
>>>>>>> 035bb2637984ead2784fecff78c0c60cc4181202
=======
   "id": "8bb03e22",
>>>>>>> 619c01f26351d57ac14d974b7af136ac5756103f
   "metadata": {
    "lines_to_next_cell": 0
   },
   "source": [
    "What's the cutoff for outlier?"
   ]
  },
  {
   "cell_type": "code",
   "execution_count": null,
<<<<<<< HEAD
<<<<<<< HEAD
<<<<<<< HEAD
<<<<<<< HEAD
<<<<<<< HEAD
<<<<<<< HEAD
<<<<<<< HEAD
   "id": "5c508cd6",
||||||| 6a30bf1
   "id": "d888a8ba",
=======
   "id": "51974079",
>>>>>>> documentation-devel
||||||| d28b18c
   "id": "51974079",
=======
   "id": "6cb27589",
>>>>>>> documentation-devel
||||||| 6893f63
<<<<<<< HEAD
   "id": "5c508cd6",
||||||| 6a30bf1
   "id": "d888a8ba",
=======
   "id": "51974079",
>>>>>>> documentation-devel
=======
   "id": "ae8677e5",
>>>>>>> c74c98c2450c2a1ba922ed9442f136238d6bc88b
||||||| 6d93b645
   "id": "6cb27589",
=======
   "id": "6ea12c66",
>>>>>>> documentation-devel
||||||| 804edffb
<<<<<<< HEAD
<<<<<<< HEAD
<<<<<<< HEAD
   "id": "5c508cd6",
||||||| 6a30bf1
   "id": "d888a8ba",
=======
   "id": "51974079",
>>>>>>> documentation-devel
||||||| d28b18c
   "id": "51974079",
=======
   "id": "6cb27589",
>>>>>>> documentation-devel
||||||| 6893f63
<<<<<<< HEAD
   "id": "5c508cd6",
||||||| 6a30bf1
   "id": "d888a8ba",
=======
   "id": "51974079",
>>>>>>> documentation-devel
=======
   "id": "ae8677e5",
>>>>>>> c74c98c2450c2a1ba922ed9442f136238d6bc88b
=======
   "id": "552c5c74",
>>>>>>> 035bb2637984ead2784fecff78c0c60cc4181202
||||||| 3effdfa5
   "id": "6ea12c66",
=======
   "id": "fef125e1",
>>>>>>> documentation-devel
||||||| 96c826da
<<<<<<< HEAD
<<<<<<< HEAD
<<<<<<< HEAD
<<<<<<< HEAD
<<<<<<< HEAD
   "id": "5c508cd6",
||||||| 6a30bf1
   "id": "d888a8ba",
=======
   "id": "51974079",
>>>>>>> documentation-devel
||||||| d28b18c
   "id": "51974079",
=======
   "id": "6cb27589",
>>>>>>> documentation-devel
||||||| 6893f63
<<<<<<< HEAD
   "id": "5c508cd6",
||||||| 6a30bf1
   "id": "d888a8ba",
=======
   "id": "51974079",
>>>>>>> documentation-devel
=======
   "id": "ae8677e5",
>>>>>>> c74c98c2450c2a1ba922ed9442f136238d6bc88b
||||||| 6d93b645
   "id": "6cb27589",
=======
   "id": "6ea12c66",
>>>>>>> documentation-devel
||||||| 804edffb
<<<<<<< HEAD
<<<<<<< HEAD
<<<<<<< HEAD
   "id": "5c508cd6",
||||||| 6a30bf1
   "id": "d888a8ba",
=======
   "id": "51974079",
>>>>>>> documentation-devel
||||||| d28b18c
   "id": "51974079",
=======
   "id": "6cb27589",
>>>>>>> documentation-devel
||||||| 6893f63
<<<<<<< HEAD
   "id": "5c508cd6",
||||||| 6a30bf1
   "id": "d888a8ba",
=======
   "id": "51974079",
>>>>>>> documentation-devel
=======
   "id": "ae8677e5",
>>>>>>> c74c98c2450c2a1ba922ed9442f136238d6bc88b
=======
   "id": "552c5c74",
>>>>>>> 035bb2637984ead2784fecff78c0c60cc4181202
=======
   "id": "602200bc",
>>>>>>> 619c01f26351d57ac14d974b7af136ac5756103f
   "metadata": {},
   "outputs": [],
   "source": [
    "min(sfe$subsets_blank_percent[sfe$is_blank_outlier])"
   ]
  },
  {
   "cell_type": "markdown",
<<<<<<< HEAD
<<<<<<< HEAD
<<<<<<< HEAD
<<<<<<< HEAD
<<<<<<< HEAD
<<<<<<< HEAD
<<<<<<< HEAD
   "id": "2dee29d5",
||||||| 6a30bf1
   "id": "6df187b9",
=======
   "id": "966baf5c",
>>>>>>> documentation-devel
||||||| d28b18c
   "id": "966baf5c",
=======
   "id": "10eaf276",
>>>>>>> documentation-devel
||||||| 6893f63
<<<<<<< HEAD
   "id": "2dee29d5",
||||||| 6a30bf1
   "id": "6df187b9",
=======
   "id": "966baf5c",
>>>>>>> documentation-devel
=======
   "id": "77549833",
>>>>>>> c74c98c2450c2a1ba922ed9442f136238d6bc88b
||||||| 6d93b645
   "id": "10eaf276",
=======
   "id": "b0ab640c",
>>>>>>> documentation-devel
||||||| 804edffb
<<<<<<< HEAD
<<<<<<< HEAD
<<<<<<< HEAD
   "id": "2dee29d5",
||||||| 6a30bf1
   "id": "6df187b9",
=======
   "id": "966baf5c",
>>>>>>> documentation-devel
||||||| d28b18c
   "id": "966baf5c",
=======
   "id": "10eaf276",
>>>>>>> documentation-devel
||||||| 6893f63
<<<<<<< HEAD
   "id": "2dee29d5",
||||||| 6a30bf1
   "id": "6df187b9",
=======
   "id": "966baf5c",
>>>>>>> documentation-devel
=======
   "id": "77549833",
>>>>>>> c74c98c2450c2a1ba922ed9442f136238d6bc88b
=======
   "id": "28690efe",
>>>>>>> 035bb2637984ead2784fecff78c0c60cc4181202
||||||| 3effdfa5
   "id": "b0ab640c",
=======
   "id": "a23e7367",
>>>>>>> documentation-devel
||||||| 96c826da
<<<<<<< HEAD
<<<<<<< HEAD
<<<<<<< HEAD
<<<<<<< HEAD
<<<<<<< HEAD
   "id": "2dee29d5",
||||||| 6a30bf1
   "id": "6df187b9",
=======
   "id": "966baf5c",
>>>>>>> documentation-devel
||||||| d28b18c
   "id": "966baf5c",
=======
   "id": "10eaf276",
>>>>>>> documentation-devel
||||||| 6893f63
<<<<<<< HEAD
   "id": "2dee29d5",
||||||| 6a30bf1
   "id": "6df187b9",
=======
   "id": "966baf5c",
>>>>>>> documentation-devel
=======
   "id": "77549833",
>>>>>>> c74c98c2450c2a1ba922ed9442f136238d6bc88b
||||||| 6d93b645
   "id": "10eaf276",
=======
   "id": "b0ab640c",
>>>>>>> documentation-devel
||||||| 804edffb
<<<<<<< HEAD
<<<<<<< HEAD
<<<<<<< HEAD
   "id": "2dee29d5",
||||||| 6a30bf1
   "id": "6df187b9",
=======
   "id": "966baf5c",
>>>>>>> documentation-devel
||||||| d28b18c
   "id": "966baf5c",
=======
   "id": "10eaf276",
>>>>>>> documentation-devel
||||||| 6893f63
<<<<<<< HEAD
   "id": "2dee29d5",
||||||| 6a30bf1
   "id": "6df187b9",
=======
   "id": "966baf5c",
>>>>>>> documentation-devel
=======
   "id": "77549833",
>>>>>>> c74c98c2450c2a1ba922ed9442f136238d6bc88b
=======
   "id": "28690efe",
>>>>>>> 035bb2637984ead2784fecff78c0c60cc4181202
=======
   "id": "be0ee8f7",
>>>>>>> 619c01f26351d57ac14d974b7af136ac5756103f
   "metadata": {
    "lines_to_next_cell": 0
   },
   "source": [
    "Remove the outliers and empty cells:"
   ]
  },
  {
   "cell_type": "code",
   "execution_count": null,
<<<<<<< HEAD
<<<<<<< HEAD
<<<<<<< HEAD
<<<<<<< HEAD
<<<<<<< HEAD
<<<<<<< HEAD
<<<<<<< HEAD
   "id": "fbdd83d3",
||||||| 6a30bf1
   "id": "3f339a31",
=======
   "id": "689c29e1",
>>>>>>> documentation-devel
||||||| d28b18c
   "id": "689c29e1",
=======
   "id": "c6a9426c",
>>>>>>> documentation-devel
||||||| 6893f63
<<<<<<< HEAD
   "id": "fbdd83d3",
||||||| 6a30bf1
   "id": "3f339a31",
=======
   "id": "689c29e1",
>>>>>>> documentation-devel
=======
   "id": "a540b5ae",
>>>>>>> c74c98c2450c2a1ba922ed9442f136238d6bc88b
||||||| 6d93b645
   "id": "c6a9426c",
=======
   "id": "fdc4042a",
>>>>>>> documentation-devel
||||||| 804edffb
<<<<<<< HEAD
<<<<<<< HEAD
<<<<<<< HEAD
   "id": "fbdd83d3",
||||||| 6a30bf1
   "id": "3f339a31",
=======
   "id": "689c29e1",
>>>>>>> documentation-devel
||||||| d28b18c
   "id": "689c29e1",
=======
   "id": "c6a9426c",
>>>>>>> documentation-devel
||||||| 6893f63
<<<<<<< HEAD
   "id": "fbdd83d3",
||||||| 6a30bf1
   "id": "3f339a31",
=======
   "id": "689c29e1",
>>>>>>> documentation-devel
=======
   "id": "a540b5ae",
>>>>>>> c74c98c2450c2a1ba922ed9442f136238d6bc88b
=======
   "id": "a3adaf0f",
>>>>>>> 035bb2637984ead2784fecff78c0c60cc4181202
||||||| 3effdfa5
   "id": "fdc4042a",
=======
   "id": "040146a5",
>>>>>>> documentation-devel
||||||| 96c826da
<<<<<<< HEAD
<<<<<<< HEAD
<<<<<<< HEAD
<<<<<<< HEAD
<<<<<<< HEAD
   "id": "fbdd83d3",
||||||| 6a30bf1
   "id": "3f339a31",
=======
   "id": "689c29e1",
>>>>>>> documentation-devel
||||||| d28b18c
   "id": "689c29e1",
=======
   "id": "c6a9426c",
>>>>>>> documentation-devel
||||||| 6893f63
<<<<<<< HEAD
   "id": "fbdd83d3",
||||||| 6a30bf1
   "id": "3f339a31",
=======
   "id": "689c29e1",
>>>>>>> documentation-devel
=======
   "id": "a540b5ae",
>>>>>>> c74c98c2450c2a1ba922ed9442f136238d6bc88b
||||||| 6d93b645
   "id": "c6a9426c",
=======
   "id": "fdc4042a",
>>>>>>> documentation-devel
||||||| 804edffb
<<<<<<< HEAD
<<<<<<< HEAD
<<<<<<< HEAD
   "id": "fbdd83d3",
||||||| 6a30bf1
   "id": "3f339a31",
=======
   "id": "689c29e1",
>>>>>>> documentation-devel
||||||| d28b18c
   "id": "689c29e1",
=======
   "id": "c6a9426c",
>>>>>>> documentation-devel
||||||| 6893f63
<<<<<<< HEAD
   "id": "fbdd83d3",
||||||| 6a30bf1
   "id": "3f339a31",
=======
   "id": "689c29e1",
>>>>>>> documentation-devel
=======
   "id": "a540b5ae",
>>>>>>> c74c98c2450c2a1ba922ed9442f136238d6bc88b
=======
   "id": "a3adaf0f",
>>>>>>> 035bb2637984ead2784fecff78c0c60cc4181202
=======
   "id": "111b6fac",
>>>>>>> 619c01f26351d57ac14d974b7af136ac5756103f
   "metadata": {},
   "outputs": [],
   "source": [
    "(sfe <- sfe[, !sfe$is_blank_outlier & sfe$nCounts > 0])"
   ]
  },
  {
   "cell_type": "markdown",
<<<<<<< HEAD
<<<<<<< HEAD
<<<<<<< HEAD
<<<<<<< HEAD
<<<<<<< HEAD
<<<<<<< HEAD
<<<<<<< HEAD
   "id": "835c9af3",
||||||| 6a30bf1
   "id": "01b4c057",
=======
   "id": "72ed5587",
>>>>>>> documentation-devel
||||||| d28b18c
   "id": "72ed5587",
=======
   "id": "959b3016",
>>>>>>> documentation-devel
||||||| 6893f63
<<<<<<< HEAD
   "id": "835c9af3",
||||||| 6a30bf1
   "id": "01b4c057",
=======
   "id": "72ed5587",
>>>>>>> documentation-devel
=======
   "id": "f33a7436",
>>>>>>> c74c98c2450c2a1ba922ed9442f136238d6bc88b
||||||| 6d93b645
   "id": "959b3016",
=======
   "id": "a1bce407",
>>>>>>> documentation-devel
||||||| 804edffb
<<<<<<< HEAD
<<<<<<< HEAD
<<<<<<< HEAD
   "id": "835c9af3",
||||||| 6a30bf1
   "id": "01b4c057",
=======
   "id": "72ed5587",
>>>>>>> documentation-devel
||||||| d28b18c
   "id": "72ed5587",
=======
   "id": "959b3016",
>>>>>>> documentation-devel
||||||| 6893f63
<<<<<<< HEAD
   "id": "835c9af3",
||||||| 6a30bf1
   "id": "01b4c057",
=======
   "id": "72ed5587",
>>>>>>> documentation-devel
=======
   "id": "f33a7436",
>>>>>>> c74c98c2450c2a1ba922ed9442f136238d6bc88b
=======
   "id": "6cc51008",
>>>>>>> 035bb2637984ead2784fecff78c0c60cc4181202
||||||| 3effdfa5
   "id": "a1bce407",
=======
   "id": "e844b065",
>>>>>>> documentation-devel
||||||| 96c826da
<<<<<<< HEAD
<<<<<<< HEAD
<<<<<<< HEAD
<<<<<<< HEAD
<<<<<<< HEAD
   "id": "835c9af3",
||||||| 6a30bf1
   "id": "01b4c057",
=======
   "id": "72ed5587",
>>>>>>> documentation-devel
||||||| d28b18c
   "id": "72ed5587",
=======
   "id": "959b3016",
>>>>>>> documentation-devel
||||||| 6893f63
<<<<<<< HEAD
   "id": "835c9af3",
||||||| 6a30bf1
   "id": "01b4c057",
=======
   "id": "72ed5587",
>>>>>>> documentation-devel
=======
   "id": "f33a7436",
>>>>>>> c74c98c2450c2a1ba922ed9442f136238d6bc88b
||||||| 6d93b645
   "id": "959b3016",
=======
   "id": "a1bce407",
>>>>>>> documentation-devel
||||||| 804edffb
<<<<<<< HEAD
<<<<<<< HEAD
<<<<<<< HEAD
   "id": "835c9af3",
||||||| 6a30bf1
   "id": "01b4c057",
=======
   "id": "72ed5587",
>>>>>>> documentation-devel
||||||| d28b18c
   "id": "72ed5587",
=======
   "id": "959b3016",
>>>>>>> documentation-devel
||||||| 6893f63
<<<<<<< HEAD
   "id": "835c9af3",
||||||| 6a30bf1
   "id": "01b4c057",
=======
   "id": "72ed5587",
>>>>>>> documentation-devel
=======
   "id": "f33a7436",
>>>>>>> c74c98c2450c2a1ba922ed9442f136238d6bc88b
=======
   "id": "6cc51008",
>>>>>>> 035bb2637984ead2784fecff78c0c60cc4181202
=======
   "id": "ab721ceb",
>>>>>>> 619c01f26351d57ac14d974b7af136ac5756103f
   "metadata": {
    "lines_to_next_cell": 0
   },
   "source": [
    "There still are over 390,000 cells left after removing the outliers.\n",
    "\n",
    "## Genes\n",
    "Here we look at the mean and variance of each gene:"
   ]
  },
  {
   "cell_type": "code",
   "execution_count": null,
<<<<<<< HEAD
<<<<<<< HEAD
<<<<<<< HEAD
<<<<<<< HEAD
<<<<<<< HEAD
<<<<<<< HEAD
<<<<<<< HEAD
   "id": "507c01b9",
||||||| 6a30bf1
   "id": "3a88019c",
=======
   "id": "02021899",
>>>>>>> documentation-devel
||||||| d28b18c
   "id": "02021899",
=======
   "id": "e9bfb3f0",
>>>>>>> documentation-devel
||||||| 6893f63
<<<<<<< HEAD
   "id": "507c01b9",
||||||| 6a30bf1
   "id": "3a88019c",
=======
   "id": "02021899",
>>>>>>> documentation-devel
=======
   "id": "7514696f",
>>>>>>> c74c98c2450c2a1ba922ed9442f136238d6bc88b
||||||| 6d93b645
   "id": "e9bfb3f0",
=======
   "id": "7213b8a9",
>>>>>>> documentation-devel
||||||| 804edffb
<<<<<<< HEAD
<<<<<<< HEAD
<<<<<<< HEAD
   "id": "507c01b9",
||||||| 6a30bf1
   "id": "3a88019c",
=======
   "id": "02021899",
>>>>>>> documentation-devel
||||||| d28b18c
   "id": "02021899",
=======
   "id": "e9bfb3f0",
>>>>>>> documentation-devel
||||||| 6893f63
<<<<<<< HEAD
   "id": "507c01b9",
||||||| 6a30bf1
   "id": "3a88019c",
=======
   "id": "02021899",
>>>>>>> documentation-devel
=======
   "id": "7514696f",
>>>>>>> c74c98c2450c2a1ba922ed9442f136238d6bc88b
=======
   "id": "58b3bdc4",
>>>>>>> 035bb2637984ead2784fecff78c0c60cc4181202
||||||| 3effdfa5
   "id": "7213b8a9",
=======
   "id": "69b5ec52",
>>>>>>> documentation-devel
||||||| 96c826da
<<<<<<< HEAD
<<<<<<< HEAD
<<<<<<< HEAD
<<<<<<< HEAD
<<<<<<< HEAD
   "id": "507c01b9",
||||||| 6a30bf1
   "id": "3a88019c",
=======
   "id": "02021899",
>>>>>>> documentation-devel
||||||| d28b18c
   "id": "02021899",
=======
   "id": "e9bfb3f0",
>>>>>>> documentation-devel
||||||| 6893f63
<<<<<<< HEAD
   "id": "507c01b9",
||||||| 6a30bf1
   "id": "3a88019c",
=======
   "id": "02021899",
>>>>>>> documentation-devel
=======
   "id": "7514696f",
>>>>>>> c74c98c2450c2a1ba922ed9442f136238d6bc88b
||||||| 6d93b645
   "id": "e9bfb3f0",
=======
   "id": "7213b8a9",
>>>>>>> documentation-devel
||||||| 804edffb
<<<<<<< HEAD
<<<<<<< HEAD
<<<<<<< HEAD
   "id": "507c01b9",
||||||| 6a30bf1
   "id": "3a88019c",
=======
   "id": "02021899",
>>>>>>> documentation-devel
||||||| d28b18c
   "id": "02021899",
=======
   "id": "e9bfb3f0",
>>>>>>> documentation-devel
||||||| 6893f63
<<<<<<< HEAD
   "id": "507c01b9",
||||||| 6a30bf1
   "id": "3a88019c",
=======
   "id": "02021899",
>>>>>>> documentation-devel
=======
   "id": "7514696f",
>>>>>>> c74c98c2450c2a1ba922ed9442f136238d6bc88b
=======
   "id": "58b3bdc4",
>>>>>>> 035bb2637984ead2784fecff78c0c60cc4181202
=======
   "id": "c81eb1af",
>>>>>>> 619c01f26351d57ac14d974b7af136ac5756103f
   "metadata": {},
   "outputs": [],
   "source": [
    "rowData(sfe)$means <- rowMeans(counts(sfe))\n",
    "rowData(sfe)$vars <- rowVars(counts(sfe))"
   ]
  },
  {
   "cell_type": "code",
   "execution_count": null,
<<<<<<< HEAD
<<<<<<< HEAD
<<<<<<< HEAD
<<<<<<< HEAD
<<<<<<< HEAD
<<<<<<< HEAD
<<<<<<< HEAD
   "id": "4ef36d8b",
||||||| 6a30bf1
   "id": "883a7d93",
=======
   "id": "f59ce256",
>>>>>>> documentation-devel
||||||| d28b18c
   "id": "f59ce256",
=======
   "id": "ed1d5b1c",
>>>>>>> documentation-devel
||||||| 6893f63
<<<<<<< HEAD
   "id": "4ef36d8b",
||||||| 6a30bf1
   "id": "883a7d93",
=======
   "id": "f59ce256",
>>>>>>> documentation-devel
=======
   "id": "235cc1b0",
>>>>>>> c74c98c2450c2a1ba922ed9442f136238d6bc88b
||||||| 6d93b645
   "id": "ed1d5b1c",
=======
   "id": "12a949b4",
>>>>>>> documentation-devel
||||||| 804edffb
<<<<<<< HEAD
<<<<<<< HEAD
<<<<<<< HEAD
   "id": "4ef36d8b",
||||||| 6a30bf1
   "id": "883a7d93",
=======
   "id": "f59ce256",
>>>>>>> documentation-devel
||||||| d28b18c
   "id": "f59ce256",
=======
   "id": "ed1d5b1c",
>>>>>>> documentation-devel
||||||| 6893f63
<<<<<<< HEAD
   "id": "4ef36d8b",
||||||| 6a30bf1
   "id": "883a7d93",
=======
   "id": "f59ce256",
>>>>>>> documentation-devel
=======
   "id": "235cc1b0",
>>>>>>> c74c98c2450c2a1ba922ed9442f136238d6bc88b
=======
   "id": "eda8e4e3",
>>>>>>> 035bb2637984ead2784fecff78c0c60cc4181202
||||||| 3effdfa5
   "id": "12a949b4",
=======
   "id": "abcfbbef",
>>>>>>> documentation-devel
||||||| 96c826da
<<<<<<< HEAD
<<<<<<< HEAD
<<<<<<< HEAD
<<<<<<< HEAD
<<<<<<< HEAD
   "id": "4ef36d8b",
||||||| 6a30bf1
   "id": "883a7d93",
=======
   "id": "f59ce256",
>>>>>>> documentation-devel
||||||| d28b18c
   "id": "f59ce256",
=======
   "id": "ed1d5b1c",
>>>>>>> documentation-devel
||||||| 6893f63
<<<<<<< HEAD
   "id": "4ef36d8b",
||||||| 6a30bf1
   "id": "883a7d93",
=======
   "id": "f59ce256",
>>>>>>> documentation-devel
=======
   "id": "235cc1b0",
>>>>>>> c74c98c2450c2a1ba922ed9442f136238d6bc88b
||||||| 6d93b645
   "id": "ed1d5b1c",
=======
   "id": "12a949b4",
>>>>>>> documentation-devel
||||||| 804edffb
<<<<<<< HEAD
<<<<<<< HEAD
<<<<<<< HEAD
   "id": "4ef36d8b",
||||||| 6a30bf1
   "id": "883a7d93",
=======
   "id": "f59ce256",
>>>>>>> documentation-devel
||||||| d28b18c
   "id": "f59ce256",
=======
   "id": "ed1d5b1c",
>>>>>>> documentation-devel
||||||| 6893f63
<<<<<<< HEAD
   "id": "4ef36d8b",
||||||| 6a30bf1
   "id": "883a7d93",
=======
   "id": "f59ce256",
>>>>>>> documentation-devel
=======
   "id": "235cc1b0",
>>>>>>> c74c98c2450c2a1ba922ed9442f136238d6bc88b
=======
   "id": "eda8e4e3",
>>>>>>> 035bb2637984ead2784fecff78c0c60cc4181202
=======
   "id": "1d6ad31a",
>>>>>>> 619c01f26351d57ac14d974b7af136ac5756103f
   "metadata": {},
   "outputs": [],
   "source": [
    "rowData(sfe)$is_blank <- is_blank\n",
    "plotRowData(sfe, x = \"means\", y = \"is_blank\") +\n",
    "    scale_y_log10() +\n",
    "    annotation_logticks(sides = \"b\")"
   ]
  },
  {
   "cell_type": "markdown",
<<<<<<< HEAD
<<<<<<< HEAD
<<<<<<< HEAD
<<<<<<< HEAD
<<<<<<< HEAD
<<<<<<< HEAD
<<<<<<< HEAD
   "id": "73df8fd9",
||||||| 6a30bf1
   "id": "79b2aff9",
=======
   "id": "0309ccf9",
>>>>>>> documentation-devel
||||||| d28b18c
   "id": "0309ccf9",
=======
   "id": "c9414b8b",
>>>>>>> documentation-devel
||||||| 6893f63
<<<<<<< HEAD
   "id": "73df8fd9",
||||||| 6a30bf1
   "id": "79b2aff9",
=======
   "id": "0309ccf9",
>>>>>>> documentation-devel
=======
   "id": "d3b1bf6b",
>>>>>>> c74c98c2450c2a1ba922ed9442f136238d6bc88b
||||||| 6d93b645
   "id": "c9414b8b",
=======
   "id": "e9d6130b",
>>>>>>> documentation-devel
||||||| 804edffb
<<<<<<< HEAD
<<<<<<< HEAD
<<<<<<< HEAD
   "id": "73df8fd9",
||||||| 6a30bf1
   "id": "79b2aff9",
=======
   "id": "0309ccf9",
>>>>>>> documentation-devel
||||||| d28b18c
   "id": "0309ccf9",
=======
   "id": "c9414b8b",
>>>>>>> documentation-devel
||||||| 6893f63
<<<<<<< HEAD
   "id": "73df8fd9",
||||||| 6a30bf1
   "id": "79b2aff9",
=======
   "id": "0309ccf9",
>>>>>>> documentation-devel
=======
   "id": "d3b1bf6b",
>>>>>>> c74c98c2450c2a1ba922ed9442f136238d6bc88b
=======
   "id": "d66724c3",
>>>>>>> 035bb2637984ead2784fecff78c0c60cc4181202
||||||| 3effdfa5
   "id": "e9d6130b",
=======
   "id": "78234535",
>>>>>>> documentation-devel
||||||| 96c826da
<<<<<<< HEAD
<<<<<<< HEAD
<<<<<<< HEAD
<<<<<<< HEAD
<<<<<<< HEAD
   "id": "73df8fd9",
||||||| 6a30bf1
   "id": "79b2aff9",
=======
   "id": "0309ccf9",
>>>>>>> documentation-devel
||||||| d28b18c
   "id": "0309ccf9",
=======
   "id": "c9414b8b",
>>>>>>> documentation-devel
||||||| 6893f63
<<<<<<< HEAD
   "id": "73df8fd9",
||||||| 6a30bf1
   "id": "79b2aff9",
=======
   "id": "0309ccf9",
>>>>>>> documentation-devel
=======
   "id": "d3b1bf6b",
>>>>>>> c74c98c2450c2a1ba922ed9442f136238d6bc88b
||||||| 6d93b645
   "id": "c9414b8b",
=======
   "id": "e9d6130b",
>>>>>>> documentation-devel
||||||| 804edffb
<<<<<<< HEAD
<<<<<<< HEAD
<<<<<<< HEAD
   "id": "73df8fd9",
||||||| 6a30bf1
   "id": "79b2aff9",
=======
   "id": "0309ccf9",
>>>>>>> documentation-devel
||||||| d28b18c
   "id": "0309ccf9",
=======
   "id": "c9414b8b",
>>>>>>> documentation-devel
||||||| 6893f63
<<<<<<< HEAD
   "id": "73df8fd9",
||||||| 6a30bf1
   "id": "79b2aff9",
=======
   "id": "0309ccf9",
>>>>>>> documentation-devel
=======
   "id": "d3b1bf6b",
>>>>>>> c74c98c2450c2a1ba922ed9442f136238d6bc88b
=======
   "id": "d66724c3",
>>>>>>> 035bb2637984ead2784fecff78c0c60cc4181202
=======
   "id": "13f73e90",
>>>>>>> 619c01f26351d57ac14d974b7af136ac5756103f
   "metadata": {
    "lines_to_next_cell": 0
   },
   "source": [
    "Most genes display higher mean expression than blanks, but there is considerable overlap in the distribution, probably because some genes expressed at lower levels or in fewer cells are included.\n",
    "\n",
    "Here the \"real\" genes and negative controls are plotted in different colors:"
   ]
  },
  {
   "cell_type": "code",
   "execution_count": null,
<<<<<<< HEAD
<<<<<<< HEAD
<<<<<<< HEAD
<<<<<<< HEAD
<<<<<<< HEAD
<<<<<<< HEAD
<<<<<<< HEAD
   "id": "8d77641d",
||||||| 6a30bf1
   "id": "0a1bacc0",
=======
   "id": "7be96cc4",
>>>>>>> documentation-devel
||||||| d28b18c
   "id": "7be96cc4",
=======
   "id": "6929edcd",
>>>>>>> documentation-devel
||||||| 6893f63
<<<<<<< HEAD
   "id": "8d77641d",
||||||| 6a30bf1
   "id": "0a1bacc0",
=======
   "id": "7be96cc4",
>>>>>>> documentation-devel
=======
   "id": "f17cad06",
>>>>>>> c74c98c2450c2a1ba922ed9442f136238d6bc88b
||||||| 6d93b645
   "id": "6929edcd",
=======
   "id": "1178e87f",
>>>>>>> documentation-devel
||||||| 804edffb
<<<<<<< HEAD
<<<<<<< HEAD
<<<<<<< HEAD
   "id": "8d77641d",
||||||| 6a30bf1
   "id": "0a1bacc0",
=======
   "id": "7be96cc4",
>>>>>>> documentation-devel
||||||| d28b18c
   "id": "7be96cc4",
=======
   "id": "6929edcd",
>>>>>>> documentation-devel
||||||| 6893f63
<<<<<<< HEAD
   "id": "8d77641d",
||||||| 6a30bf1
   "id": "0a1bacc0",
=======
   "id": "7be96cc4",
>>>>>>> documentation-devel
=======
   "id": "f17cad06",
>>>>>>> c74c98c2450c2a1ba922ed9442f136238d6bc88b
=======
   "id": "bc5792ac",
>>>>>>> 035bb2637984ead2784fecff78c0c60cc4181202
||||||| 3effdfa5
   "id": "1178e87f",
=======
   "id": "402c263e",
>>>>>>> documentation-devel
||||||| 96c826da
<<<<<<< HEAD
<<<<<<< HEAD
<<<<<<< HEAD
<<<<<<< HEAD
<<<<<<< HEAD
   "id": "8d77641d",
||||||| 6a30bf1
   "id": "0a1bacc0",
=======
   "id": "7be96cc4",
>>>>>>> documentation-devel
||||||| d28b18c
   "id": "7be96cc4",
=======
   "id": "6929edcd",
>>>>>>> documentation-devel
||||||| 6893f63
<<<<<<< HEAD
   "id": "8d77641d",
||||||| 6a30bf1
   "id": "0a1bacc0",
=======
   "id": "7be96cc4",
>>>>>>> documentation-devel
=======
   "id": "f17cad06",
>>>>>>> c74c98c2450c2a1ba922ed9442f136238d6bc88b
||||||| 6d93b645
   "id": "6929edcd",
=======
   "id": "1178e87f",
>>>>>>> documentation-devel
||||||| 804edffb
<<<<<<< HEAD
<<<<<<< HEAD
<<<<<<< HEAD
   "id": "8d77641d",
||||||| 6a30bf1
   "id": "0a1bacc0",
=======
   "id": "7be96cc4",
>>>>>>> documentation-devel
||||||| d28b18c
   "id": "7be96cc4",
=======
   "id": "6929edcd",
>>>>>>> documentation-devel
||||||| 6893f63
<<<<<<< HEAD
   "id": "8d77641d",
||||||| 6a30bf1
   "id": "0a1bacc0",
=======
   "id": "7be96cc4",
>>>>>>> documentation-devel
=======
   "id": "f17cad06",
>>>>>>> c74c98c2450c2a1ba922ed9442f136238d6bc88b
=======
   "id": "bc5792ac",
>>>>>>> 035bb2637984ead2784fecff78c0c60cc4181202
=======
   "id": "1d4ec99b",
>>>>>>> 619c01f26351d57ac14d974b7af136ac5756103f
   "metadata": {},
   "outputs": [],
   "source": [
    "plotRowData(sfe, x = \"means\", y = \"vars\", colour_by = \"is_blank\") +\n",
    "    geom_abline(slope = 1, intercept = 0, color = \"red\") +\n",
    "    scale_x_log10() + scale_y_log10() +\n",
    "    annotation_logticks() +\n",
    "    coord_equal()"
   ]
  },
  {
   "cell_type": "markdown",
<<<<<<< HEAD
<<<<<<< HEAD
<<<<<<< HEAD
<<<<<<< HEAD
<<<<<<< HEAD
<<<<<<< HEAD
<<<<<<< HEAD
   "id": "eb7ced81",
||||||| 6a30bf1
   "id": "81cb25bc",
=======
   "id": "73490606",
>>>>>>> documentation-devel
||||||| d28b18c
   "id": "73490606",
=======
   "id": "363fbd3e",
>>>>>>> documentation-devel
||||||| 6893f63
<<<<<<< HEAD
   "id": "eb7ced81",
||||||| 6a30bf1
   "id": "81cb25bc",
=======
   "id": "73490606",
>>>>>>> documentation-devel
=======
   "id": "39d8535e",
>>>>>>> c74c98c2450c2a1ba922ed9442f136238d6bc88b
||||||| 6d93b645
   "id": "363fbd3e",
=======
   "id": "b7b0f537",
>>>>>>> documentation-devel
||||||| 804edffb
<<<<<<< HEAD
<<<<<<< HEAD
<<<<<<< HEAD
   "id": "eb7ced81",
||||||| 6a30bf1
   "id": "81cb25bc",
=======
   "id": "73490606",
>>>>>>> documentation-devel
||||||| d28b18c
   "id": "73490606",
=======
   "id": "363fbd3e",
>>>>>>> documentation-devel
||||||| 6893f63
<<<<<<< HEAD
   "id": "eb7ced81",
||||||| 6a30bf1
   "id": "81cb25bc",
=======
   "id": "73490606",
>>>>>>> documentation-devel
=======
   "id": "39d8535e",
>>>>>>> c74c98c2450c2a1ba922ed9442f136238d6bc88b
=======
   "id": "1f9477d6",
>>>>>>> 035bb2637984ead2784fecff78c0c60cc4181202
||||||| 3effdfa5
   "id": "b7b0f537",
=======
   "id": "c34b1409",
>>>>>>> documentation-devel
||||||| 96c826da
<<<<<<< HEAD
<<<<<<< HEAD
<<<<<<< HEAD
<<<<<<< HEAD
<<<<<<< HEAD
   "id": "eb7ced81",
||||||| 6a30bf1
   "id": "81cb25bc",
=======
   "id": "73490606",
>>>>>>> documentation-devel
||||||| d28b18c
   "id": "73490606",
=======
   "id": "363fbd3e",
>>>>>>> documentation-devel
||||||| 6893f63
<<<<<<< HEAD
   "id": "eb7ced81",
||||||| 6a30bf1
   "id": "81cb25bc",
=======
   "id": "73490606",
>>>>>>> documentation-devel
=======
   "id": "39d8535e",
>>>>>>> c74c98c2450c2a1ba922ed9442f136238d6bc88b
||||||| 6d93b645
   "id": "363fbd3e",
=======
   "id": "b7b0f537",
>>>>>>> documentation-devel
||||||| 804edffb
<<<<<<< HEAD
<<<<<<< HEAD
<<<<<<< HEAD
   "id": "eb7ced81",
||||||| 6a30bf1
   "id": "81cb25bc",
=======
   "id": "73490606",
>>>>>>> documentation-devel
||||||| d28b18c
   "id": "73490606",
=======
   "id": "363fbd3e",
>>>>>>> documentation-devel
||||||| 6893f63
<<<<<<< HEAD
   "id": "eb7ced81",
||||||| 6a30bf1
   "id": "81cb25bc",
=======
   "id": "73490606",
>>>>>>> documentation-devel
=======
   "id": "39d8535e",
>>>>>>> c74c98c2450c2a1ba922ed9442f136238d6bc88b
=======
   "id": "1f9477d6",
>>>>>>> 035bb2637984ead2784fecff78c0c60cc4181202
=======
   "id": "e1d48532",
>>>>>>> 619c01f26351d57ac14d974b7af136ac5756103f
   "metadata": {
    "lines_to_next_cell": 0
   },
   "source": [
    "The red line $y = x$ is expected when the data follows a Poisson distribution. "
   ]
  },
  {
   "cell_type": "code",
   "execution_count": null,
<<<<<<< HEAD
<<<<<<< HEAD
<<<<<<< HEAD
<<<<<<< HEAD
<<<<<<< HEAD
<<<<<<< HEAD
<<<<<<< HEAD
   "id": "74e98d8d",
||||||| 6a30bf1
   "id": "c90da4ed",
=======
   "id": "f87ee32c",
>>>>>>> documentation-devel
||||||| d28b18c
   "id": "f87ee32c",
=======
   "id": "cb75a59c",
>>>>>>> documentation-devel
||||||| 6893f63
<<<<<<< HEAD
   "id": "74e98d8d",
||||||| 6a30bf1
   "id": "c90da4ed",
=======
   "id": "f87ee32c",
>>>>>>> documentation-devel
=======
   "id": "4dc0939b",
>>>>>>> c74c98c2450c2a1ba922ed9442f136238d6bc88b
||||||| 6d93b645
   "id": "cb75a59c",
=======
   "id": "7292194d",
>>>>>>> documentation-devel
||||||| 804edffb
<<<<<<< HEAD
<<<<<<< HEAD
<<<<<<< HEAD
   "id": "74e98d8d",
||||||| 6a30bf1
   "id": "c90da4ed",
=======
   "id": "f87ee32c",
>>>>>>> documentation-devel
||||||| d28b18c
   "id": "f87ee32c",
=======
   "id": "cb75a59c",
>>>>>>> documentation-devel
||||||| 6893f63
<<<<<<< HEAD
   "id": "74e98d8d",
||||||| 6a30bf1
   "id": "c90da4ed",
=======
   "id": "f87ee32c",
>>>>>>> documentation-devel
=======
   "id": "4dc0939b",
>>>>>>> c74c98c2450c2a1ba922ed9442f136238d6bc88b
=======
   "id": "7877cc9a",
>>>>>>> 035bb2637984ead2784fecff78c0c60cc4181202
||||||| 3effdfa5
   "id": "7292194d",
=======
   "id": "9535d499",
>>>>>>> documentation-devel
||||||| 96c826da
<<<<<<< HEAD
<<<<<<< HEAD
<<<<<<< HEAD
<<<<<<< HEAD
<<<<<<< HEAD
   "id": "74e98d8d",
||||||| 6a30bf1
   "id": "c90da4ed",
=======
   "id": "f87ee32c",
>>>>>>> documentation-devel
||||||| d28b18c
   "id": "f87ee32c",
=======
   "id": "cb75a59c",
>>>>>>> documentation-devel
||||||| 6893f63
<<<<<<< HEAD
   "id": "74e98d8d",
||||||| 6a30bf1
   "id": "c90da4ed",
=======
   "id": "f87ee32c",
>>>>>>> documentation-devel
=======
   "id": "4dc0939b",
>>>>>>> c74c98c2450c2a1ba922ed9442f136238d6bc88b
||||||| 6d93b645
   "id": "cb75a59c",
=======
   "id": "7292194d",
>>>>>>> documentation-devel
||||||| 804edffb
<<<<<<< HEAD
<<<<<<< HEAD
<<<<<<< HEAD
   "id": "74e98d8d",
||||||| 6a30bf1
   "id": "c90da4ed",
=======
   "id": "f87ee32c",
>>>>>>> documentation-devel
||||||| d28b18c
   "id": "f87ee32c",
=======
   "id": "cb75a59c",
>>>>>>> documentation-devel
||||||| 6893f63
<<<<<<< HEAD
   "id": "74e98d8d",
||||||| 6a30bf1
   "id": "c90da4ed",
=======
   "id": "f87ee32c",
>>>>>>> documentation-devel
=======
   "id": "4dc0939b",
>>>>>>> c74c98c2450c2a1ba922ed9442f136238d6bc88b
=======
   "id": "7877cc9a",
>>>>>>> 035bb2637984ead2784fecff78c0c60cc4181202
=======
   "id": "27bbebee",
>>>>>>> 619c01f26351d57ac14d974b7af136ac5756103f
   "metadata": {},
   "outputs": [],
   "source": [
    "as.data.frame(rowData(sfe)[is_blank,]) |> \n",
    "    ggplot(aes(means, vars)) +\n",
    "    geom_point() +\n",
    "    geom_abline(slope = 1, intercept = 0, color = \"red\") +\n",
    "    scale_x_log10() + scale_y_log10() +\n",
    "    annotation_logticks() +\n",
    "    coord_equal()"
   ]
  },
  {
   "cell_type": "markdown",
<<<<<<< HEAD
<<<<<<< HEAD
<<<<<<< HEAD
<<<<<<< HEAD
<<<<<<< HEAD
<<<<<<< HEAD
<<<<<<< HEAD
   "id": "2de88a0f",
||||||| 6a30bf1
   "id": "eba3f24a",
=======
   "id": "01cf0d12",
>>>>>>> documentation-devel
||||||| d28b18c
   "id": "01cf0d12",
=======
   "id": "381a306b",
>>>>>>> documentation-devel
||||||| 6893f63
<<<<<<< HEAD
   "id": "2de88a0f",
||||||| 6a30bf1
   "id": "eba3f24a",
=======
   "id": "01cf0d12",
>>>>>>> documentation-devel
=======
   "id": "c74d4e52",
>>>>>>> c74c98c2450c2a1ba922ed9442f136238d6bc88b
||||||| 6d93b645
   "id": "381a306b",
=======
   "id": "2893b0c7",
>>>>>>> documentation-devel
||||||| 804edffb
<<<<<<< HEAD
<<<<<<< HEAD
<<<<<<< HEAD
   "id": "2de88a0f",
||||||| 6a30bf1
   "id": "eba3f24a",
=======
   "id": "01cf0d12",
>>>>>>> documentation-devel
||||||| d28b18c
   "id": "01cf0d12",
=======
   "id": "381a306b",
>>>>>>> documentation-devel
||||||| 6893f63
<<<<<<< HEAD
   "id": "2de88a0f",
||||||| 6a30bf1
   "id": "eba3f24a",
=======
   "id": "01cf0d12",
>>>>>>> documentation-devel
=======
   "id": "c74d4e52",
>>>>>>> c74c98c2450c2a1ba922ed9442f136238d6bc88b
=======
   "id": "d7493757",
>>>>>>> 035bb2637984ead2784fecff78c0c60cc4181202
||||||| 3effdfa5
   "id": "2893b0c7",
=======
   "id": "9e96cf91",
>>>>>>> documentation-devel
||||||| 96c826da
<<<<<<< HEAD
<<<<<<< HEAD
<<<<<<< HEAD
<<<<<<< HEAD
<<<<<<< HEAD
   "id": "2de88a0f",
||||||| 6a30bf1
   "id": "eba3f24a",
=======
   "id": "01cf0d12",
>>>>>>> documentation-devel
||||||| d28b18c
   "id": "01cf0d12",
=======
   "id": "381a306b",
>>>>>>> documentation-devel
||||||| 6893f63
<<<<<<< HEAD
   "id": "2de88a0f",
||||||| 6a30bf1
   "id": "eba3f24a",
=======
   "id": "01cf0d12",
>>>>>>> documentation-devel
=======
   "id": "c74d4e52",
>>>>>>> c74c98c2450c2a1ba922ed9442f136238d6bc88b
||||||| 6d93b645
   "id": "381a306b",
=======
   "id": "2893b0c7",
>>>>>>> documentation-devel
||||||| 804edffb
<<<<<<< HEAD
<<<<<<< HEAD
<<<<<<< HEAD
   "id": "2de88a0f",
||||||| 6a30bf1
   "id": "eba3f24a",
=======
   "id": "01cf0d12",
>>>>>>> documentation-devel
||||||| d28b18c
   "id": "01cf0d12",
=======
   "id": "381a306b",
>>>>>>> documentation-devel
||||||| 6893f63
<<<<<<< HEAD
   "id": "2de88a0f",
||||||| 6a30bf1
   "id": "eba3f24a",
=======
   "id": "01cf0d12",
>>>>>>> documentation-devel
=======
   "id": "c74d4e52",
>>>>>>> c74c98c2450c2a1ba922ed9442f136238d6bc88b
=======
   "id": "d7493757",
>>>>>>> 035bb2637984ead2784fecff78c0c60cc4181202
=======
   "id": "102946c1",
>>>>>>> 619c01f26351d57ac14d974b7af136ac5756103f
   "metadata": {
    "lines_to_next_cell": 0
   },
   "source": [
    "When zoomed in, the blanks are somewhat overdispersed.\n",
    "\n",
    "# Spatial autocorrelation of QC metrics\n",
    "\n",
    "Again, we plot that zoomed in patch to visually inspect cell-cell contiguity:"
   ]
  },
  {
   "cell_type": "code",
   "execution_count": null,
<<<<<<< HEAD
<<<<<<< HEAD
<<<<<<< HEAD
<<<<<<< HEAD
<<<<<<< HEAD
<<<<<<< HEAD
<<<<<<< HEAD
   "id": "793d772d",
||||||| 6a30bf1
   "id": "a2068790",
=======
   "id": "4513f5d8",
>>>>>>> documentation-devel
||||||| d28b18c
   "id": "4513f5d8",
=======
   "id": "b5f8c33e",
>>>>>>> documentation-devel
||||||| 6893f63
<<<<<<< HEAD
   "id": "793d772d",
||||||| 6a30bf1
   "id": "a2068790",
=======
   "id": "4513f5d8",
>>>>>>> documentation-devel
=======
   "id": "d365e3b3",
>>>>>>> c74c98c2450c2a1ba922ed9442f136238d6bc88b
||||||| 6d93b645
   "id": "b5f8c33e",
=======
   "id": "1056eefd",
>>>>>>> documentation-devel
||||||| 804edffb
<<<<<<< HEAD
<<<<<<< HEAD
<<<<<<< HEAD
   "id": "793d772d",
||||||| 6a30bf1
   "id": "a2068790",
=======
   "id": "4513f5d8",
>>>>>>> documentation-devel
||||||| d28b18c
   "id": "4513f5d8",
=======
   "id": "b5f8c33e",
>>>>>>> documentation-devel
||||||| 6893f63
<<<<<<< HEAD
   "id": "793d772d",
||||||| 6a30bf1
   "id": "a2068790",
=======
   "id": "4513f5d8",
>>>>>>> documentation-devel
=======
   "id": "d365e3b3",
>>>>>>> c74c98c2450c2a1ba922ed9442f136238d6bc88b
=======
   "id": "7cf17fe8",
>>>>>>> 035bb2637984ead2784fecff78c0c60cc4181202
||||||| 3effdfa5
   "id": "1056eefd",
=======
   "id": "561ff5b8",
>>>>>>> documentation-devel
||||||| 96c826da
<<<<<<< HEAD
<<<<<<< HEAD
<<<<<<< HEAD
<<<<<<< HEAD
<<<<<<< HEAD
   "id": "793d772d",
||||||| 6a30bf1
   "id": "a2068790",
=======
   "id": "4513f5d8",
>>>>>>> documentation-devel
||||||| d28b18c
   "id": "4513f5d8",
=======
   "id": "b5f8c33e",
>>>>>>> documentation-devel
||||||| 6893f63
<<<<<<< HEAD
   "id": "793d772d",
||||||| 6a30bf1
   "id": "a2068790",
=======
   "id": "4513f5d8",
>>>>>>> documentation-devel
=======
   "id": "d365e3b3",
>>>>>>> c74c98c2450c2a1ba922ed9442f136238d6bc88b
||||||| 6d93b645
   "id": "b5f8c33e",
=======
   "id": "1056eefd",
>>>>>>> documentation-devel
||||||| 804edffb
<<<<<<< HEAD
<<<<<<< HEAD
<<<<<<< HEAD
   "id": "793d772d",
||||||| 6a30bf1
   "id": "a2068790",
=======
   "id": "4513f5d8",
>>>>>>> documentation-devel
||||||| d28b18c
   "id": "4513f5d8",
=======
   "id": "b5f8c33e",
>>>>>>> documentation-devel
||||||| 6893f63
<<<<<<< HEAD
   "id": "793d772d",
||||||| 6a30bf1
   "id": "a2068790",
=======
   "id": "4513f5d8",
>>>>>>> documentation-devel
=======
   "id": "d365e3b3",
>>>>>>> c74c98c2450c2a1ba922ed9442f136238d6bc88b
=======
   "id": "7cf17fe8",
>>>>>>> 035bb2637984ead2784fecff78c0c60cc4181202
=======
   "id": "08a66d0e",
>>>>>>> 619c01f26351d57ac14d974b7af136ac5756103f
   "metadata": {
    "lines_to_next_cell": 2
   },
   "outputs": [],
   "source": [
    "plotGeometry(sfe, \"cellSeg\", bbox = bbox_use)"
   ]
  },
  {
   "cell_type": "markdown",
<<<<<<< HEAD
<<<<<<< HEAD
<<<<<<< HEAD
<<<<<<< HEAD
<<<<<<< HEAD
<<<<<<< HEAD
<<<<<<< HEAD
   "id": "a610a1fa",
||||||| 6a30bf1
   "id": "257badf8",
=======
   "id": "da891976",
>>>>>>> documentation-devel
||||||| d28b18c
   "id": "da891976",
=======
   "id": "e1351695",
>>>>>>> documentation-devel
||||||| 6893f63
<<<<<<< HEAD
   "id": "a610a1fa",
||||||| 6a30bf1
   "id": "257badf8",
=======
   "id": "da891976",
>>>>>>> documentation-devel
=======
   "id": "a18ec2c2",
>>>>>>> c74c98c2450c2a1ba922ed9442f136238d6bc88b
||||||| 6d93b645
   "id": "e1351695",
=======
   "id": "318d5039",
>>>>>>> documentation-devel
||||||| 804edffb
<<<<<<< HEAD
<<<<<<< HEAD
<<<<<<< HEAD
   "id": "a610a1fa",
||||||| 6a30bf1
   "id": "257badf8",
=======
   "id": "da891976",
>>>>>>> documentation-devel
||||||| d28b18c
   "id": "da891976",
=======
   "id": "e1351695",
>>>>>>> documentation-devel
||||||| 6893f63
<<<<<<< HEAD
   "id": "a610a1fa",
||||||| 6a30bf1
   "id": "257badf8",
=======
   "id": "da891976",
>>>>>>> documentation-devel
=======
   "id": "a18ec2c2",
>>>>>>> c74c98c2450c2a1ba922ed9442f136238d6bc88b
=======
   "id": "9e2a7143",
>>>>>>> 035bb2637984ead2784fecff78c0c60cc4181202
||||||| 3effdfa5
   "id": "318d5039",
=======
   "id": "76dae295",
>>>>>>> documentation-devel
||||||| 96c826da
<<<<<<< HEAD
<<<<<<< HEAD
<<<<<<< HEAD
<<<<<<< HEAD
<<<<<<< HEAD
   "id": "a610a1fa",
||||||| 6a30bf1
   "id": "257badf8",
=======
   "id": "da891976",
>>>>>>> documentation-devel
||||||| d28b18c
   "id": "da891976",
=======
   "id": "e1351695",
>>>>>>> documentation-devel
||||||| 6893f63
<<<<<<< HEAD
   "id": "a610a1fa",
||||||| 6a30bf1
   "id": "257badf8",
=======
   "id": "da891976",
>>>>>>> documentation-devel
=======
   "id": "a18ec2c2",
>>>>>>> c74c98c2450c2a1ba922ed9442f136238d6bc88b
||||||| 6d93b645
   "id": "e1351695",
=======
   "id": "318d5039",
>>>>>>> documentation-devel
||||||| 804edffb
<<<<<<< HEAD
<<<<<<< HEAD
<<<<<<< HEAD
   "id": "a610a1fa",
||||||| 6a30bf1
   "id": "257badf8",
=======
   "id": "da891976",
>>>>>>> documentation-devel
||||||| d28b18c
   "id": "da891976",
=======
   "id": "e1351695",
>>>>>>> documentation-devel
||||||| 6893f63
<<<<<<< HEAD
   "id": "a610a1fa",
||||||| 6a30bf1
   "id": "257badf8",
=======
   "id": "da891976",
>>>>>>> documentation-devel
=======
   "id": "a18ec2c2",
>>>>>>> c74c98c2450c2a1ba922ed9442f136238d6bc88b
=======
   "id": "9e2a7143",
>>>>>>> 035bb2637984ead2784fecff78c0c60cc4181202
=======
   "id": "5c61637c",
>>>>>>> 619c01f26351d57ac14d974b7af136ac5756103f
   "metadata": {},
   "source": [
    "There are quite a few cells that are not contiguous to any other cell, and cell segmentation is imperfect, so purely using `poly2nb()` is problematic. In the next release, we might implement a way to blend a polygon contiguity graph with some other graph in case of singletons. For now, we use k nearest neighbors with $k = 5$, which seems like a reasonable approximation of contiguity based on the visual inspection. \n",
    "\n",
    "As of Voyager 1.2.0 (Bioconductor 3.17), `findSpatialNeighbors()` by default uses `BiocNeighbors` for k nearest neighbors and distance neighbors and saving the distances between neighbors. This bypasses the most time consuming step in `spdep` when calculating distance based edge weights, which is to compute distance, hence greatly speeding up computation."
   ]
  },
  {
   "cell_type": "code",
   "execution_count": null,
<<<<<<< HEAD
<<<<<<< HEAD
<<<<<<< HEAD
<<<<<<< HEAD
<<<<<<< HEAD
<<<<<<< HEAD
<<<<<<< HEAD
   "id": "469212ef",
||||||| 6a30bf1
   "id": "62529630",
=======
   "id": "0dc34989",
>>>>>>> documentation-devel
||||||| d28b18c
   "id": "0dc34989",
=======
   "id": "09435910",
>>>>>>> documentation-devel
||||||| 6893f63
<<<<<<< HEAD
   "id": "469212ef",
||||||| 6a30bf1
   "id": "62529630",
=======
   "id": "0dc34989",
>>>>>>> documentation-devel
=======
   "id": "48e1110d",
>>>>>>> c74c98c2450c2a1ba922ed9442f136238d6bc88b
||||||| 6d93b645
   "id": "09435910",
=======
   "id": "fb85a7d1",
>>>>>>> documentation-devel
||||||| 804edffb
<<<<<<< HEAD
<<<<<<< HEAD
<<<<<<< HEAD
   "id": "469212ef",
||||||| 6a30bf1
   "id": "62529630",
=======
   "id": "0dc34989",
>>>>>>> documentation-devel
||||||| d28b18c
   "id": "0dc34989",
=======
   "id": "09435910",
>>>>>>> documentation-devel
||||||| 6893f63
<<<<<<< HEAD
   "id": "469212ef",
||||||| 6a30bf1
   "id": "62529630",
=======
   "id": "0dc34989",
>>>>>>> documentation-devel
=======
   "id": "48e1110d",
>>>>>>> c74c98c2450c2a1ba922ed9442f136238d6bc88b
=======
   "id": "24ad734b",
>>>>>>> 035bb2637984ead2784fecff78c0c60cc4181202
||||||| 3effdfa5
   "id": "fb85a7d1",
=======
   "id": "6abdcd11",
>>>>>>> documentation-devel
||||||| 96c826da
<<<<<<< HEAD
<<<<<<< HEAD
<<<<<<< HEAD
<<<<<<< HEAD
<<<<<<< HEAD
   "id": "469212ef",
||||||| 6a30bf1
   "id": "62529630",
=======
   "id": "0dc34989",
>>>>>>> documentation-devel
||||||| d28b18c
   "id": "0dc34989",
=======
   "id": "09435910",
>>>>>>> documentation-devel
||||||| 6893f63
<<<<<<< HEAD
   "id": "469212ef",
||||||| 6a30bf1
   "id": "62529630",
=======
   "id": "0dc34989",
>>>>>>> documentation-devel
=======
   "id": "48e1110d",
>>>>>>> c74c98c2450c2a1ba922ed9442f136238d6bc88b
||||||| 6d93b645
   "id": "09435910",
=======
   "id": "fb85a7d1",
>>>>>>> documentation-devel
||||||| 804edffb
<<<<<<< HEAD
<<<<<<< HEAD
<<<<<<< HEAD
   "id": "469212ef",
||||||| 6a30bf1
   "id": "62529630",
=======
   "id": "0dc34989",
>>>>>>> documentation-devel
||||||| d28b18c
   "id": "0dc34989",
=======
   "id": "09435910",
>>>>>>> documentation-devel
||||||| 6893f63
<<<<<<< HEAD
   "id": "469212ef",
||||||| 6a30bf1
   "id": "62529630",
=======
   "id": "0dc34989",
>>>>>>> documentation-devel
=======
   "id": "48e1110d",
>>>>>>> c74c98c2450c2a1ba922ed9442f136238d6bc88b
=======
   "id": "24ad734b",
>>>>>>> 035bb2637984ead2784fecff78c0c60cc4181202
=======
   "id": "c50adbdd",
>>>>>>> 619c01f26351d57ac14d974b7af136ac5756103f
   "metadata": {},
   "outputs": [],
   "source": [
    "system.time(\n",
    "    colGraph(sfe, \"knn5\") <- findSpatialNeighbors(sfe, method = \"knearneigh\", \n",
    "                                                  dist_type = \"idw\", k = 5, \n",
    "                                                  style = \"W\")\n",
    ")"
   ]
  },
  {
   "cell_type": "markdown",
<<<<<<< HEAD
<<<<<<< HEAD
<<<<<<< HEAD
<<<<<<< HEAD
<<<<<<< HEAD
<<<<<<< HEAD
<<<<<<< HEAD
   "id": "f9080707",
||||||| 6a30bf1
   "id": "945c749c",
=======
   "id": "4157fd3b",
>>>>>>> documentation-devel
||||||| d28b18c
   "id": "4157fd3b",
=======
   "id": "5920ea5f",
>>>>>>> documentation-devel
||||||| 6893f63
<<<<<<< HEAD
   "id": "f9080707",
||||||| 6a30bf1
   "id": "945c749c",
=======
   "id": "4157fd3b",
>>>>>>> documentation-devel
=======
   "id": "eac8b7ba",
>>>>>>> c74c98c2450c2a1ba922ed9442f136238d6bc88b
||||||| 6d93b645
   "id": "5920ea5f",
=======
   "id": "6605eeca",
>>>>>>> documentation-devel
||||||| 804edffb
<<<<<<< HEAD
<<<<<<< HEAD
<<<<<<< HEAD
   "id": "f9080707",
||||||| 6a30bf1
   "id": "945c749c",
=======
   "id": "4157fd3b",
>>>>>>> documentation-devel
||||||| d28b18c
   "id": "4157fd3b",
=======
   "id": "5920ea5f",
>>>>>>> documentation-devel
||||||| 6893f63
<<<<<<< HEAD
   "id": "f9080707",
||||||| 6a30bf1
   "id": "945c749c",
=======
   "id": "4157fd3b",
>>>>>>> documentation-devel
=======
   "id": "eac8b7ba",
>>>>>>> c74c98c2450c2a1ba922ed9442f136238d6bc88b
=======
   "id": "e85c9aa4",
>>>>>>> 035bb2637984ead2784fecff78c0c60cc4181202
||||||| 3effdfa5
   "id": "6605eeca",
=======
   "id": "6c2b98b5",
>>>>>>> documentation-devel
||||||| 96c826da
<<<<<<< HEAD
<<<<<<< HEAD
<<<<<<< HEAD
<<<<<<< HEAD
<<<<<<< HEAD
   "id": "f9080707",
||||||| 6a30bf1
   "id": "945c749c",
=======
   "id": "4157fd3b",
>>>>>>> documentation-devel
||||||| d28b18c
   "id": "4157fd3b",
=======
   "id": "5920ea5f",
>>>>>>> documentation-devel
||||||| 6893f63
<<<<<<< HEAD
   "id": "f9080707",
||||||| 6a30bf1
   "id": "945c749c",
=======
   "id": "4157fd3b",
>>>>>>> documentation-devel
=======
   "id": "eac8b7ba",
>>>>>>> c74c98c2450c2a1ba922ed9442f136238d6bc88b
||||||| 6d93b645
   "id": "5920ea5f",
=======
   "id": "6605eeca",
>>>>>>> documentation-devel
||||||| 804edffb
<<<<<<< HEAD
<<<<<<< HEAD
<<<<<<< HEAD
   "id": "f9080707",
||||||| 6a30bf1
   "id": "945c749c",
=======
   "id": "4157fd3b",
>>>>>>> documentation-devel
||||||| d28b18c
   "id": "4157fd3b",
=======
   "id": "5920ea5f",
>>>>>>> documentation-devel
||||||| 6893f63
<<<<<<< HEAD
   "id": "f9080707",
||||||| 6a30bf1
   "id": "945c749c",
=======
   "id": "4157fd3b",
>>>>>>> documentation-devel
=======
   "id": "eac8b7ba",
>>>>>>> c74c98c2450c2a1ba922ed9442f136238d6bc88b
=======
   "id": "e85c9aa4",
>>>>>>> 035bb2637984ead2784fecff78c0c60cc4181202
=======
   "id": "06d44db4",
>>>>>>> 619c01f26351d57ac14d974b7af136ac5756103f
   "metadata": {},
   "source": [
    "With the spatial neighborhood graph, we can compute Moran's I for QC metrics."
   ]
  },
  {
   "cell_type": "code",
   "execution_count": null,
<<<<<<< HEAD
<<<<<<< HEAD
<<<<<<< HEAD
<<<<<<< HEAD
<<<<<<< HEAD
<<<<<<< HEAD
<<<<<<< HEAD
   "id": "0a105909",
||||||| 6a30bf1
   "id": "ce2fdc93",
=======
   "id": "9f05f9bc",
>>>>>>> documentation-devel
||||||| d28b18c
   "id": "9f05f9bc",
=======
   "id": "7bbc11ee",
>>>>>>> documentation-devel
||||||| 6893f63
<<<<<<< HEAD
   "id": "0a105909",
||||||| 6a30bf1
   "id": "ce2fdc93",
=======
   "id": "9f05f9bc",
>>>>>>> documentation-devel
=======
   "id": "154db595",
>>>>>>> c74c98c2450c2a1ba922ed9442f136238d6bc88b
||||||| 6d93b645
   "id": "7bbc11ee",
=======
   "id": "31153a07",
>>>>>>> documentation-devel
||||||| 804edffb
<<<<<<< HEAD
<<<<<<< HEAD
<<<<<<< HEAD
   "id": "0a105909",
||||||| 6a30bf1
   "id": "ce2fdc93",
=======
   "id": "9f05f9bc",
>>>>>>> documentation-devel
||||||| d28b18c
   "id": "9f05f9bc",
=======
   "id": "7bbc11ee",
>>>>>>> documentation-devel
||||||| 6893f63
<<<<<<< HEAD
   "id": "0a105909",
||||||| 6a30bf1
   "id": "ce2fdc93",
=======
   "id": "9f05f9bc",
>>>>>>> documentation-devel
=======
   "id": "154db595",
>>>>>>> c74c98c2450c2a1ba922ed9442f136238d6bc88b
=======
   "id": "d8eee859",
>>>>>>> 035bb2637984ead2784fecff78c0c60cc4181202
||||||| 3effdfa5
   "id": "31153a07",
=======
   "id": "76cc850e",
>>>>>>> documentation-devel
||||||| 96c826da
<<<<<<< HEAD
<<<<<<< HEAD
<<<<<<< HEAD
<<<<<<< HEAD
<<<<<<< HEAD
   "id": "0a105909",
||||||| 6a30bf1
   "id": "ce2fdc93",
=======
   "id": "9f05f9bc",
>>>>>>> documentation-devel
||||||| d28b18c
   "id": "9f05f9bc",
=======
   "id": "7bbc11ee",
>>>>>>> documentation-devel
||||||| 6893f63
<<<<<<< HEAD
   "id": "0a105909",
||||||| 6a30bf1
   "id": "ce2fdc93",
=======
   "id": "9f05f9bc",
>>>>>>> documentation-devel
=======
   "id": "154db595",
>>>>>>> c74c98c2450c2a1ba922ed9442f136238d6bc88b
||||||| 6d93b645
   "id": "7bbc11ee",
=======
   "id": "31153a07",
>>>>>>> documentation-devel
||||||| 804edffb
<<<<<<< HEAD
<<<<<<< HEAD
<<<<<<< HEAD
   "id": "0a105909",
||||||| 6a30bf1
   "id": "ce2fdc93",
=======
   "id": "9f05f9bc",
>>>>>>> documentation-devel
||||||| d28b18c
   "id": "9f05f9bc",
=======
   "id": "7bbc11ee",
>>>>>>> documentation-devel
||||||| 6893f63
<<<<<<< HEAD
   "id": "0a105909",
||||||| 6a30bf1
   "id": "ce2fdc93",
=======
   "id": "9f05f9bc",
>>>>>>> documentation-devel
=======
   "id": "154db595",
>>>>>>> c74c98c2450c2a1ba922ed9442f136238d6bc88b
=======
   "id": "d8eee859",
>>>>>>> 035bb2637984ead2784fecff78c0c60cc4181202
=======
   "id": "b06c68f8",
>>>>>>> 619c01f26351d57ac14d974b7af136ac5756103f
   "metadata": {},
   "outputs": [],
   "source": [
    "sfe <- colDataMoransI(sfe, c(\"nCounts\", \"nGenes\", \"volume\"), \n",
    "                      colGraphName = \"knn5\")"
   ]
  },
  {
   "cell_type": "code",
   "execution_count": null,
<<<<<<< HEAD
<<<<<<< HEAD
<<<<<<< HEAD
<<<<<<< HEAD
<<<<<<< HEAD
<<<<<<< HEAD
<<<<<<< HEAD
   "id": "396cf356",
||||||| 6a30bf1
   "id": "d94c0a7b",
=======
   "id": "6c10af6f",
>>>>>>> documentation-devel
||||||| d28b18c
   "id": "6c10af6f",
=======
   "id": "d787f9c7",
>>>>>>> documentation-devel
||||||| 6893f63
<<<<<<< HEAD
   "id": "396cf356",
||||||| 6a30bf1
   "id": "d94c0a7b",
=======
   "id": "6c10af6f",
>>>>>>> documentation-devel
=======
   "id": "2728e5ec",
>>>>>>> c74c98c2450c2a1ba922ed9442f136238d6bc88b
||||||| 6d93b645
   "id": "d787f9c7",
=======
   "id": "b226850b",
>>>>>>> documentation-devel
||||||| 804edffb
<<<<<<< HEAD
<<<<<<< HEAD
<<<<<<< HEAD
   "id": "396cf356",
||||||| 6a30bf1
   "id": "d94c0a7b",
=======
   "id": "6c10af6f",
>>>>>>> documentation-devel
||||||| d28b18c
   "id": "6c10af6f",
=======
   "id": "d787f9c7",
>>>>>>> documentation-devel
||||||| 6893f63
<<<<<<< HEAD
   "id": "396cf356",
||||||| 6a30bf1
   "id": "d94c0a7b",
=======
   "id": "6c10af6f",
>>>>>>> documentation-devel
=======
   "id": "2728e5ec",
>>>>>>> c74c98c2450c2a1ba922ed9442f136238d6bc88b
=======
   "id": "778d19a0",
>>>>>>> 035bb2637984ead2784fecff78c0c60cc4181202
||||||| 3effdfa5
   "id": "b226850b",
=======
   "id": "c355b86e",
>>>>>>> documentation-devel
||||||| 96c826da
<<<<<<< HEAD
<<<<<<< HEAD
<<<<<<< HEAD
<<<<<<< HEAD
<<<<<<< HEAD
   "id": "396cf356",
||||||| 6a30bf1
   "id": "d94c0a7b",
=======
   "id": "6c10af6f",
>>>>>>> documentation-devel
||||||| d28b18c
   "id": "6c10af6f",
=======
   "id": "d787f9c7",
>>>>>>> documentation-devel
||||||| 6893f63
<<<<<<< HEAD
   "id": "396cf356",
||||||| 6a30bf1
   "id": "d94c0a7b",
=======
   "id": "6c10af6f",
>>>>>>> documentation-devel
=======
   "id": "2728e5ec",
>>>>>>> c74c98c2450c2a1ba922ed9442f136238d6bc88b
||||||| 6d93b645
   "id": "d787f9c7",
=======
   "id": "b226850b",
>>>>>>> documentation-devel
||||||| 804edffb
<<<<<<< HEAD
<<<<<<< HEAD
<<<<<<< HEAD
   "id": "396cf356",
||||||| 6a30bf1
   "id": "d94c0a7b",
=======
   "id": "6c10af6f",
>>>>>>> documentation-devel
||||||| d28b18c
   "id": "6c10af6f",
=======
   "id": "d787f9c7",
>>>>>>> documentation-devel
||||||| 6893f63
<<<<<<< HEAD
   "id": "396cf356",
||||||| 6a30bf1
   "id": "d94c0a7b",
=======
   "id": "6c10af6f",
>>>>>>> documentation-devel
=======
   "id": "2728e5ec",
>>>>>>> c74c98c2450c2a1ba922ed9442f136238d6bc88b
=======
   "id": "778d19a0",
>>>>>>> 035bb2637984ead2784fecff78c0c60cc4181202
=======
   "id": "b293399f",
>>>>>>> 619c01f26351d57ac14d974b7af136ac5756103f
   "metadata": {},
   "outputs": [],
   "source": [
    "colFeatureData(sfe)[c(\"nCounts\", \"nGenes\", \"volume\"),]"
   ]
  },
  {
   "cell_type": "markdown",
<<<<<<< HEAD
<<<<<<< HEAD
<<<<<<< HEAD
<<<<<<< HEAD
<<<<<<< HEAD
<<<<<<< HEAD
<<<<<<< HEAD
   "id": "f33d6305",
||||||| 6a30bf1
   "id": "1bfd1049",
=======
   "id": "8eee9499",
>>>>>>> documentation-devel
||||||| d28b18c
   "id": "8eee9499",
=======
   "id": "a424183e",
>>>>>>> documentation-devel
||||||| 6893f63
<<<<<<< HEAD
   "id": "f33d6305",
||||||| 6a30bf1
   "id": "1bfd1049",
=======
   "id": "8eee9499",
>>>>>>> documentation-devel
=======
   "id": "6fac6698",
>>>>>>> c74c98c2450c2a1ba922ed9442f136238d6bc88b
||||||| 6d93b645
   "id": "a424183e",
=======
   "id": "1511edd1",
>>>>>>> documentation-devel
||||||| 804edffb
<<<<<<< HEAD
<<<<<<< HEAD
<<<<<<< HEAD
   "id": "f33d6305",
||||||| 6a30bf1
   "id": "1bfd1049",
=======
   "id": "8eee9499",
>>>>>>> documentation-devel
||||||| d28b18c
   "id": "8eee9499",
=======
   "id": "a424183e",
>>>>>>> documentation-devel
||||||| 6893f63
<<<<<<< HEAD
   "id": "f33d6305",
||||||| 6a30bf1
   "id": "1bfd1049",
=======
   "id": "8eee9499",
>>>>>>> documentation-devel
=======
   "id": "6fac6698",
>>>>>>> c74c98c2450c2a1ba922ed9442f136238d6bc88b
=======
   "id": "619a7077",
>>>>>>> 035bb2637984ead2784fecff78c0c60cc4181202
||||||| 3effdfa5
   "id": "1511edd1",
=======
   "id": "ba29d92c",
>>>>>>> documentation-devel
||||||| 96c826da
<<<<<<< HEAD
<<<<<<< HEAD
<<<<<<< HEAD
<<<<<<< HEAD
<<<<<<< HEAD
   "id": "f33d6305",
||||||| 6a30bf1
   "id": "1bfd1049",
=======
   "id": "8eee9499",
>>>>>>> documentation-devel
||||||| d28b18c
   "id": "8eee9499",
=======
   "id": "a424183e",
>>>>>>> documentation-devel
||||||| 6893f63
<<<<<<< HEAD
   "id": "f33d6305",
||||||| 6a30bf1
   "id": "1bfd1049",
=======
   "id": "8eee9499",
>>>>>>> documentation-devel
=======
   "id": "6fac6698",
>>>>>>> c74c98c2450c2a1ba922ed9442f136238d6bc88b
||||||| 6d93b645
   "id": "a424183e",
=======
   "id": "1511edd1",
>>>>>>> documentation-devel
||||||| 804edffb
<<<<<<< HEAD
<<<<<<< HEAD
<<<<<<< HEAD
   "id": "f33d6305",
||||||| 6a30bf1
   "id": "1bfd1049",
=======
   "id": "8eee9499",
>>>>>>> documentation-devel
||||||| d28b18c
   "id": "8eee9499",
=======
   "id": "a424183e",
>>>>>>> documentation-devel
||||||| 6893f63
<<<<<<< HEAD
   "id": "f33d6305",
||||||| 6a30bf1
   "id": "1bfd1049",
=======
   "id": "8eee9499",
>>>>>>> documentation-devel
=======
   "id": "6fac6698",
>>>>>>> c74c98c2450c2a1ba922ed9442f136238d6bc88b
=======
   "id": "619a7077",
>>>>>>> 035bb2637984ead2784fecff78c0c60cc4181202
=======
   "id": "0c793d6e",
>>>>>>> 619c01f26351d57ac14d974b7af136ac5756103f
   "metadata": {
    "lines_to_next_cell": 0
   },
   "source": [
    "Unlike the other smFISH-based datasets on this website, nCounts and nGenes have sizable negative Moran's I's, which is closer to 0 for volume. It would be interesting to compare these metrics across different tissues, as we add more datasets to `SFEData` in future releases.\n",
    "\n",
    "Also check local Moran's I, since in that little patch we examined above, some regions may have more positive spatial autocorrelation."
   ]
  },
  {
   "cell_type": "code",
   "execution_count": null,
<<<<<<< HEAD
<<<<<<< HEAD
<<<<<<< HEAD
<<<<<<< HEAD
<<<<<<< HEAD
<<<<<<< HEAD
<<<<<<< HEAD
   "id": "3d29714c",
||||||| 6a30bf1
   "id": "00e8d8ed",
=======
   "id": "f30367b5",
>>>>>>> documentation-devel
||||||| d28b18c
   "id": "f30367b5",
=======
   "id": "e5f47f35",
>>>>>>> documentation-devel
||||||| 6893f63
<<<<<<< HEAD
   "id": "3d29714c",
||||||| 6a30bf1
   "id": "00e8d8ed",
=======
   "id": "f30367b5",
>>>>>>> documentation-devel
=======
   "id": "2fb08c23",
>>>>>>> c74c98c2450c2a1ba922ed9442f136238d6bc88b
||||||| 6d93b645
   "id": "e5f47f35",
=======
   "id": "27dbf1fe",
>>>>>>> documentation-devel
||||||| 804edffb
<<<<<<< HEAD
<<<<<<< HEAD
<<<<<<< HEAD
   "id": "3d29714c",
||||||| 6a30bf1
   "id": "00e8d8ed",
=======
   "id": "f30367b5",
>>>>>>> documentation-devel
||||||| d28b18c
   "id": "f30367b5",
=======
   "id": "e5f47f35",
>>>>>>> documentation-devel
||||||| 6893f63
<<<<<<< HEAD
   "id": "3d29714c",
||||||| 6a30bf1
   "id": "00e8d8ed",
=======
   "id": "f30367b5",
>>>>>>> documentation-devel
=======
   "id": "2fb08c23",
>>>>>>> c74c98c2450c2a1ba922ed9442f136238d6bc88b
=======
   "id": "8218a1f5",
>>>>>>> 035bb2637984ead2784fecff78c0c60cc4181202
||||||| 3effdfa5
   "id": "27dbf1fe",
=======
   "id": "c3ead95b",
>>>>>>> documentation-devel
||||||| 96c826da
<<<<<<< HEAD
<<<<<<< HEAD
<<<<<<< HEAD
<<<<<<< HEAD
<<<<<<< HEAD
   "id": "3d29714c",
||||||| 6a30bf1
   "id": "00e8d8ed",
=======
   "id": "f30367b5",
>>>>>>> documentation-devel
||||||| d28b18c
   "id": "f30367b5",
=======
   "id": "e5f47f35",
>>>>>>> documentation-devel
||||||| 6893f63
<<<<<<< HEAD
   "id": "3d29714c",
||||||| 6a30bf1
   "id": "00e8d8ed",
=======
   "id": "f30367b5",
>>>>>>> documentation-devel
=======
   "id": "2fb08c23",
>>>>>>> c74c98c2450c2a1ba922ed9442f136238d6bc88b
||||||| 6d93b645
   "id": "e5f47f35",
=======
   "id": "27dbf1fe",
>>>>>>> documentation-devel
||||||| 804edffb
<<<<<<< HEAD
<<<<<<< HEAD
<<<<<<< HEAD
   "id": "3d29714c",
||||||| 6a30bf1
   "id": "00e8d8ed",
=======
   "id": "f30367b5",
>>>>>>> documentation-devel
||||||| d28b18c
   "id": "f30367b5",
=======
   "id": "e5f47f35",
>>>>>>> documentation-devel
||||||| 6893f63
<<<<<<< HEAD
   "id": "3d29714c",
||||||| 6a30bf1
   "id": "00e8d8ed",
=======
   "id": "f30367b5",
>>>>>>> documentation-devel
=======
   "id": "2fb08c23",
>>>>>>> c74c98c2450c2a1ba922ed9442f136238d6bc88b
=======
   "id": "8218a1f5",
>>>>>>> 035bb2637984ead2784fecff78c0c60cc4181202
=======
   "id": "29740a68",
>>>>>>> 619c01f26351d57ac14d974b7af136ac5756103f
   "metadata": {},
   "outputs": [],
   "source": [
    "sfe <- colDataUnivariate(sfe, type = \"localmoran\", \n",
    "                         features = c(\"nCounts\", \"nGenes\", \"volume\"),\n",
    "                         colGraphName = \"knn5\")"
   ]
  },
  {
   "cell_type": "code",
   "execution_count": null,
<<<<<<< HEAD
<<<<<<< HEAD
<<<<<<< HEAD
<<<<<<< HEAD
<<<<<<< HEAD
<<<<<<< HEAD
<<<<<<< HEAD
   "id": "e3fbbaa1",
||||||| 6a30bf1
   "id": "791f2db4",
=======
   "id": "06344e09",
>>>>>>> documentation-devel
||||||| d28b18c
   "id": "06344e09",
=======
   "id": "98862aad",
>>>>>>> documentation-devel
||||||| 6893f63
<<<<<<< HEAD
   "id": "e3fbbaa1",
||||||| 6a30bf1
   "id": "791f2db4",
=======
   "id": "06344e09",
>>>>>>> documentation-devel
=======
   "id": "4a50dee7",
>>>>>>> c74c98c2450c2a1ba922ed9442f136238d6bc88b
||||||| 6d93b645
   "id": "98862aad",
=======
   "id": "1f5b9bea",
>>>>>>> documentation-devel
||||||| 804edffb
<<<<<<< HEAD
<<<<<<< HEAD
<<<<<<< HEAD
   "id": "e3fbbaa1",
||||||| 6a30bf1
   "id": "791f2db4",
=======
   "id": "06344e09",
>>>>>>> documentation-devel
||||||| d28b18c
   "id": "06344e09",
=======
   "id": "98862aad",
>>>>>>> documentation-devel
||||||| 6893f63
<<<<<<< HEAD
   "id": "e3fbbaa1",
||||||| 6a30bf1
   "id": "791f2db4",
=======
   "id": "06344e09",
>>>>>>> documentation-devel
=======
   "id": "4a50dee7",
>>>>>>> c74c98c2450c2a1ba922ed9442f136238d6bc88b
=======
   "id": "ebf33603",
>>>>>>> 035bb2637984ead2784fecff78c0c60cc4181202
||||||| 3effdfa5
   "id": "1f5b9bea",
=======
   "id": "4ea3d01c",
>>>>>>> documentation-devel
||||||| 96c826da
<<<<<<< HEAD
<<<<<<< HEAD
<<<<<<< HEAD
<<<<<<< HEAD
<<<<<<< HEAD
   "id": "e3fbbaa1",
||||||| 6a30bf1
   "id": "791f2db4",
=======
   "id": "06344e09",
>>>>>>> documentation-devel
||||||| d28b18c
   "id": "06344e09",
=======
   "id": "98862aad",
>>>>>>> documentation-devel
||||||| 6893f63
<<<<<<< HEAD
   "id": "e3fbbaa1",
||||||| 6a30bf1
   "id": "791f2db4",
=======
   "id": "06344e09",
>>>>>>> documentation-devel
=======
   "id": "4a50dee7",
>>>>>>> c74c98c2450c2a1ba922ed9442f136238d6bc88b
||||||| 6d93b645
   "id": "98862aad",
=======
   "id": "1f5b9bea",
>>>>>>> documentation-devel
||||||| 804edffb
<<<<<<< HEAD
<<<<<<< HEAD
<<<<<<< HEAD
   "id": "e3fbbaa1",
||||||| 6a30bf1
   "id": "791f2db4",
=======
   "id": "06344e09",
>>>>>>> documentation-devel
||||||| d28b18c
   "id": "06344e09",
=======
   "id": "98862aad",
>>>>>>> documentation-devel
||||||| 6893f63
<<<<<<< HEAD
   "id": "e3fbbaa1",
||||||| 6a30bf1
   "id": "791f2db4",
=======
   "id": "06344e09",
>>>>>>> documentation-devel
=======
   "id": "4a50dee7",
>>>>>>> c74c98c2450c2a1ba922ed9442f136238d6bc88b
=======
   "id": "ebf33603",
>>>>>>> 035bb2637984ead2784fecff78c0c60cc4181202
=======
   "id": "ebed81a4",
>>>>>>> 619c01f26351d57ac14d974b7af136ac5756103f
   "metadata": {
    "fig.height": 7,
    "fig.width": 9
   },
   "outputs": [],
   "source": [
    "plotLocalResult(sfe, \"localmoran\", c(\"nCounts\", \"nGenes\", \"volume\"),\n",
    "                colGeometryName = \"centroids\", scattermore = TRUE,\n",
    "                ncol = 2, divergent = TRUE, diverge_center = 0)"
   ]
  },
  {
   "cell_type": "markdown",
<<<<<<< HEAD
<<<<<<< HEAD
<<<<<<< HEAD
<<<<<<< HEAD
<<<<<<< HEAD
<<<<<<< HEAD
<<<<<<< HEAD
   "id": "b5fecb77",
||||||| 6a30bf1
   "id": "7827d2ef",
=======
   "id": "e80bba1d",
>>>>>>> documentation-devel
||||||| d28b18c
   "id": "e80bba1d",
=======
   "id": "b914ecd5",
>>>>>>> documentation-devel
||||||| 6893f63
<<<<<<< HEAD
   "id": "b5fecb77",
||||||| 6a30bf1
   "id": "7827d2ef",
=======
   "id": "e80bba1d",
>>>>>>> documentation-devel
=======
   "id": "9853a010",
>>>>>>> c74c98c2450c2a1ba922ed9442f136238d6bc88b
||||||| 6d93b645
   "id": "b914ecd5",
=======
   "id": "03d710b8",
>>>>>>> documentation-devel
||||||| 804edffb
<<<<<<< HEAD
<<<<<<< HEAD
<<<<<<< HEAD
   "id": "b5fecb77",
||||||| 6a30bf1
   "id": "7827d2ef",
=======
   "id": "e80bba1d",
>>>>>>> documentation-devel
||||||| d28b18c
   "id": "e80bba1d",
=======
   "id": "b914ecd5",
>>>>>>> documentation-devel
||||||| 6893f63
<<<<<<< HEAD
   "id": "b5fecb77",
||||||| 6a30bf1
   "id": "7827d2ef",
=======
   "id": "e80bba1d",
>>>>>>> documentation-devel
=======
   "id": "9853a010",
>>>>>>> c74c98c2450c2a1ba922ed9442f136238d6bc88b
=======
   "id": "e5302f53",
>>>>>>> 035bb2637984ead2784fecff78c0c60cc4181202
||||||| 3effdfa5
   "id": "03d710b8",
=======
   "id": "de5ba332",
>>>>>>> documentation-devel
||||||| 96c826da
<<<<<<< HEAD
<<<<<<< HEAD
<<<<<<< HEAD
<<<<<<< HEAD
<<<<<<< HEAD
   "id": "b5fecb77",
||||||| 6a30bf1
   "id": "7827d2ef",
=======
   "id": "e80bba1d",
>>>>>>> documentation-devel
||||||| d28b18c
   "id": "e80bba1d",
=======
   "id": "b914ecd5",
>>>>>>> documentation-devel
||||||| 6893f63
<<<<<<< HEAD
   "id": "b5fecb77",
||||||| 6a30bf1
   "id": "7827d2ef",
=======
   "id": "e80bba1d",
>>>>>>> documentation-devel
=======
   "id": "9853a010",
>>>>>>> c74c98c2450c2a1ba922ed9442f136238d6bc88b
||||||| 6d93b645
   "id": "b914ecd5",
=======
   "id": "03d710b8",
>>>>>>> documentation-devel
||||||| 804edffb
<<<<<<< HEAD
<<<<<<< HEAD
<<<<<<< HEAD
   "id": "b5fecb77",
||||||| 6a30bf1
   "id": "7827d2ef",
=======
   "id": "e80bba1d",
>>>>>>> documentation-devel
||||||| d28b18c
   "id": "e80bba1d",
=======
   "id": "b914ecd5",
>>>>>>> documentation-devel
||||||| 6893f63
<<<<<<< HEAD
   "id": "b5fecb77",
||||||| 6a30bf1
   "id": "7827d2ef",
=======
   "id": "e80bba1d",
>>>>>>> documentation-devel
=======
   "id": "9853a010",
>>>>>>> c74c98c2450c2a1ba922ed9442f136238d6bc88b
=======
   "id": "e5302f53",
>>>>>>> 035bb2637984ead2784fecff78c0c60cc4181202
=======
   "id": "eb1d402e",
>>>>>>> 619c01f26351d57ac14d974b7af136ac5756103f
   "metadata": {
    "lines_to_next_cell": 0
   },
   "source": [
    "There are some niches around smaller blood vessels with positive local Moran's I for nCounts and nGenes. This is most likely due to the more homogeneous endothelial cells compared to hepatocytes.\n",
    "\n",
    "# Moran's I"
   ]
  },
  {
   "cell_type": "code",
   "execution_count": null,
<<<<<<< HEAD
<<<<<<< HEAD
<<<<<<< HEAD
<<<<<<< HEAD
<<<<<<< HEAD
<<<<<<< HEAD
<<<<<<< HEAD
   "id": "c51a4125",
||||||| 6a30bf1
   "id": "1c7db96b",
=======
   "id": "e1853f06",
>>>>>>> documentation-devel
||||||| d28b18c
   "id": "e1853f06",
=======
   "id": "756c642e",
>>>>>>> documentation-devel
||||||| 6893f63
<<<<<<< HEAD
   "id": "c51a4125",
||||||| 6a30bf1
   "id": "1c7db96b",
=======
   "id": "e1853f06",
>>>>>>> documentation-devel
=======
   "id": "e3ec6f0e",
>>>>>>> c74c98c2450c2a1ba922ed9442f136238d6bc88b
||||||| 6d93b645
   "id": "756c642e",
=======
   "id": "7ccde5eb",
>>>>>>> documentation-devel
||||||| 804edffb
<<<<<<< HEAD
<<<<<<< HEAD
<<<<<<< HEAD
   "id": "c51a4125",
||||||| 6a30bf1
   "id": "1c7db96b",
=======
   "id": "e1853f06",
>>>>>>> documentation-devel
||||||| d28b18c
   "id": "e1853f06",
=======
   "id": "756c642e",
>>>>>>> documentation-devel
||||||| 6893f63
<<<<<<< HEAD
   "id": "c51a4125",
||||||| 6a30bf1
   "id": "1c7db96b",
=======
   "id": "e1853f06",
>>>>>>> documentation-devel
=======
   "id": "e3ec6f0e",
>>>>>>> c74c98c2450c2a1ba922ed9442f136238d6bc88b
=======
   "id": "39ca8804",
>>>>>>> 035bb2637984ead2784fecff78c0c60cc4181202
||||||| 3effdfa5
   "id": "7ccde5eb",
=======
   "id": "9a56d261",
>>>>>>> documentation-devel
||||||| 96c826da
<<<<<<< HEAD
<<<<<<< HEAD
<<<<<<< HEAD
<<<<<<< HEAD
<<<<<<< HEAD
   "id": "c51a4125",
||||||| 6a30bf1
   "id": "1c7db96b",
=======
   "id": "e1853f06",
>>>>>>> documentation-devel
||||||| d28b18c
   "id": "e1853f06",
=======
   "id": "756c642e",
>>>>>>> documentation-devel
||||||| 6893f63
<<<<<<< HEAD
   "id": "c51a4125",
||||||| 6a30bf1
   "id": "1c7db96b",
=======
   "id": "e1853f06",
>>>>>>> documentation-devel
=======
   "id": "e3ec6f0e",
>>>>>>> c74c98c2450c2a1ba922ed9442f136238d6bc88b
||||||| 6d93b645
   "id": "756c642e",
=======
   "id": "7ccde5eb",
>>>>>>> documentation-devel
||||||| 804edffb
<<<<<<< HEAD
<<<<<<< HEAD
<<<<<<< HEAD
   "id": "c51a4125",
||||||| 6a30bf1
   "id": "1c7db96b",
=======
   "id": "e1853f06",
>>>>>>> documentation-devel
||||||| d28b18c
   "id": "e1853f06",
=======
   "id": "756c642e",
>>>>>>> documentation-devel
||||||| 6893f63
<<<<<<< HEAD
   "id": "c51a4125",
||||||| 6a30bf1
   "id": "1c7db96b",
=======
   "id": "e1853f06",
>>>>>>> documentation-devel
=======
   "id": "e3ec6f0e",
>>>>>>> c74c98c2450c2a1ba922ed9442f136238d6bc88b
=======
   "id": "39ca8804",
>>>>>>> 035bb2637984ead2784fecff78c0c60cc4181202
=======
   "id": "1b846ae8",
>>>>>>> 619c01f26351d57ac14d974b7af136ac5756103f
   "metadata": {},
   "outputs": [],
   "source": [
    "sfe <- logNormCounts(sfe)"
   ]
  },
  {
   "cell_type": "code",
   "execution_count": null,
<<<<<<< HEAD
<<<<<<< HEAD
<<<<<<< HEAD
<<<<<<< HEAD
<<<<<<< HEAD
<<<<<<< HEAD
<<<<<<< HEAD
   "id": "4fdfcda0",
||||||| 6a30bf1
   "id": "2a0795a0",
=======
   "id": "c9a624c6",
>>>>>>> documentation-devel
||||||| d28b18c
   "id": "c9a624c6",
=======
   "id": "14bde43b",
>>>>>>> documentation-devel
||||||| 6893f63
<<<<<<< HEAD
   "id": "4fdfcda0",
||||||| 6a30bf1
   "id": "2a0795a0",
=======
   "id": "c9a624c6",
>>>>>>> documentation-devel
=======
   "id": "b08184a7",
>>>>>>> c74c98c2450c2a1ba922ed9442f136238d6bc88b
||||||| 6d93b645
   "id": "14bde43b",
=======
   "id": "fafdc272",
>>>>>>> documentation-devel
||||||| 804edffb
<<<<<<< HEAD
<<<<<<< HEAD
<<<<<<< HEAD
   "id": "4fdfcda0",
||||||| 6a30bf1
   "id": "2a0795a0",
=======
   "id": "c9a624c6",
>>>>>>> documentation-devel
||||||| d28b18c
   "id": "c9a624c6",
=======
   "id": "14bde43b",
>>>>>>> documentation-devel
||||||| 6893f63
<<<<<<< HEAD
   "id": "4fdfcda0",
||||||| 6a30bf1
   "id": "2a0795a0",
=======
   "id": "c9a624c6",
>>>>>>> documentation-devel
=======
   "id": "b08184a7",
>>>>>>> c74c98c2450c2a1ba922ed9442f136238d6bc88b
=======
   "id": "2d08717b",
>>>>>>> 035bb2637984ead2784fecff78c0c60cc4181202
||||||| 3effdfa5
   "id": "fafdc272",
=======
   "id": "98237cd8",
>>>>>>> documentation-devel
||||||| 96c826da
<<<<<<< HEAD
<<<<<<< HEAD
<<<<<<< HEAD
<<<<<<< HEAD
<<<<<<< HEAD
   "id": "4fdfcda0",
||||||| 6a30bf1
   "id": "2a0795a0",
=======
   "id": "c9a624c6",
>>>>>>> documentation-devel
||||||| d28b18c
   "id": "c9a624c6",
=======
   "id": "14bde43b",
>>>>>>> documentation-devel
||||||| 6893f63
<<<<<<< HEAD
   "id": "4fdfcda0",
||||||| 6a30bf1
   "id": "2a0795a0",
=======
   "id": "c9a624c6",
>>>>>>> documentation-devel
=======
   "id": "b08184a7",
>>>>>>> c74c98c2450c2a1ba922ed9442f136238d6bc88b
||||||| 6d93b645
   "id": "14bde43b",
=======
   "id": "fafdc272",
>>>>>>> documentation-devel
||||||| 804edffb
<<<<<<< HEAD
<<<<<<< HEAD
<<<<<<< HEAD
   "id": "4fdfcda0",
||||||| 6a30bf1
   "id": "2a0795a0",
=======
   "id": "c9a624c6",
>>>>>>> documentation-devel
||||||| d28b18c
   "id": "c9a624c6",
=======
   "id": "14bde43b",
>>>>>>> documentation-devel
||||||| 6893f63
<<<<<<< HEAD
   "id": "4fdfcda0",
||||||| 6a30bf1
   "id": "2a0795a0",
=======
   "id": "c9a624c6",
>>>>>>> documentation-devel
=======
   "id": "b08184a7",
>>>>>>> c74c98c2450c2a1ba922ed9442f136238d6bc88b
=======
   "id": "2d08717b",
>>>>>>> 035bb2637984ead2784fecff78c0c60cc4181202
=======
   "id": "c09c8648",
>>>>>>> 619c01f26351d57ac14d974b7af136ac5756103f
   "metadata": {},
   "outputs": [],
   "source": [
    "system.time(\n",
    "    sfe <- runMoransI(sfe, BPPARAM = MulticoreParam(2))\n",
    ")"
   ]
  },
  {
   "cell_type": "markdown",
<<<<<<< HEAD
<<<<<<< HEAD
<<<<<<< HEAD
<<<<<<< HEAD
<<<<<<< HEAD
<<<<<<< HEAD
<<<<<<< HEAD
   "id": "0da92476",
||||||| 6a30bf1
   "id": "79af41b5",
=======
   "id": "e216a0a6",
>>>>>>> documentation-devel
||||||| d28b18c
   "id": "e216a0a6",
=======
   "id": "2628b30d",
>>>>>>> documentation-devel
||||||| 6893f63
<<<<<<< HEAD
   "id": "0da92476",
||||||| 6a30bf1
   "id": "79af41b5",
=======
   "id": "e216a0a6",
>>>>>>> documentation-devel
=======
   "id": "43d45d28",
>>>>>>> c74c98c2450c2a1ba922ed9442f136238d6bc88b
||||||| 6d93b645
   "id": "2628b30d",
=======
   "id": "204856b6",
>>>>>>> documentation-devel
||||||| 804edffb
<<<<<<< HEAD
<<<<<<< HEAD
<<<<<<< HEAD
   "id": "0da92476",
||||||| 6a30bf1
   "id": "79af41b5",
=======
   "id": "e216a0a6",
>>>>>>> documentation-devel
||||||| d28b18c
   "id": "e216a0a6",
=======
   "id": "2628b30d",
>>>>>>> documentation-devel
||||||| 6893f63
<<<<<<< HEAD
   "id": "0da92476",
||||||| 6a30bf1
   "id": "79af41b5",
=======
   "id": "e216a0a6",
>>>>>>> documentation-devel
=======
   "id": "43d45d28",
>>>>>>> c74c98c2450c2a1ba922ed9442f136238d6bc88b
=======
   "id": "cafe0666",
>>>>>>> 035bb2637984ead2784fecff78c0c60cc4181202
||||||| 3effdfa5
   "id": "204856b6",
=======
   "id": "d8ddb2c2",
>>>>>>> documentation-devel
||||||| 96c826da
<<<<<<< HEAD
<<<<<<< HEAD
<<<<<<< HEAD
<<<<<<< HEAD
<<<<<<< HEAD
   "id": "0da92476",
||||||| 6a30bf1
   "id": "79af41b5",
=======
   "id": "e216a0a6",
>>>>>>> documentation-devel
||||||| d28b18c
   "id": "e216a0a6",
=======
   "id": "2628b30d",
>>>>>>> documentation-devel
||||||| 6893f63
<<<<<<< HEAD
   "id": "0da92476",
||||||| 6a30bf1
   "id": "79af41b5",
=======
   "id": "e216a0a6",
>>>>>>> documentation-devel
=======
   "id": "43d45d28",
>>>>>>> c74c98c2450c2a1ba922ed9442f136238d6bc88b
||||||| 6d93b645
   "id": "2628b30d",
=======
   "id": "204856b6",
>>>>>>> documentation-devel
||||||| 804edffb
<<<<<<< HEAD
<<<<<<< HEAD
<<<<<<< HEAD
   "id": "0da92476",
||||||| 6a30bf1
   "id": "79af41b5",
=======
   "id": "e216a0a6",
>>>>>>> documentation-devel
||||||| d28b18c
   "id": "e216a0a6",
=======
   "id": "2628b30d",
>>>>>>> documentation-devel
||||||| 6893f63
<<<<<<< HEAD
   "id": "0da92476",
||||||| 6a30bf1
   "id": "79af41b5",
=======
   "id": "e216a0a6",
>>>>>>> documentation-devel
=======
   "id": "43d45d28",
>>>>>>> c74c98c2450c2a1ba922ed9442f136238d6bc88b
=======
   "id": "cafe0666",
>>>>>>> 035bb2637984ead2784fecff78c0c60cc4181202
=======
   "id": "f9db6df8",
>>>>>>> 619c01f26351d57ac14d974b7af136ac5756103f
   "metadata": {},
   "source": [
    "It's actually not as slow as I thought for almost 400,000 cells. How are Moran's I's distributed for real genes and blank probes?"
   ]
  },
  {
   "cell_type": "code",
   "execution_count": null,
<<<<<<< HEAD
<<<<<<< HEAD
<<<<<<< HEAD
<<<<<<< HEAD
<<<<<<< HEAD
<<<<<<< HEAD
<<<<<<< HEAD
   "id": "593093eb",
||||||| 6a30bf1
   "id": "97409b70",
=======
   "id": "015083f6",
>>>>>>> documentation-devel
||||||| d28b18c
   "id": "015083f6",
=======
   "id": "2d7747ab",
>>>>>>> documentation-devel
||||||| 6893f63
<<<<<<< HEAD
   "id": "593093eb",
||||||| 6a30bf1
   "id": "97409b70",
=======
   "id": "015083f6",
>>>>>>> documentation-devel
=======
   "id": "9df373ba",
>>>>>>> c74c98c2450c2a1ba922ed9442f136238d6bc88b
||||||| 6d93b645
   "id": "2d7747ab",
=======
   "id": "e3aa8200",
>>>>>>> documentation-devel
||||||| 804edffb
<<<<<<< HEAD
<<<<<<< HEAD
<<<<<<< HEAD
   "id": "593093eb",
||||||| 6a30bf1
   "id": "97409b70",
=======
   "id": "015083f6",
>>>>>>> documentation-devel
||||||| d28b18c
   "id": "015083f6",
=======
   "id": "2d7747ab",
>>>>>>> documentation-devel
||||||| 6893f63
<<<<<<< HEAD
   "id": "593093eb",
||||||| 6a30bf1
   "id": "97409b70",
=======
   "id": "015083f6",
>>>>>>> documentation-devel
=======
   "id": "9df373ba",
>>>>>>> c74c98c2450c2a1ba922ed9442f136238d6bc88b
=======
   "id": "17ddc1a0",
>>>>>>> 035bb2637984ead2784fecff78c0c60cc4181202
||||||| 3effdfa5
   "id": "e3aa8200",
=======
   "id": "b1f57c2f",
>>>>>>> documentation-devel
||||||| 96c826da
<<<<<<< HEAD
<<<<<<< HEAD
<<<<<<< HEAD
<<<<<<< HEAD
<<<<<<< HEAD
   "id": "593093eb",
||||||| 6a30bf1
   "id": "97409b70",
=======
   "id": "015083f6",
>>>>>>> documentation-devel
||||||| d28b18c
   "id": "015083f6",
=======
   "id": "2d7747ab",
>>>>>>> documentation-devel
||||||| 6893f63
<<<<<<< HEAD
   "id": "593093eb",
||||||| 6a30bf1
   "id": "97409b70",
=======
   "id": "015083f6",
>>>>>>> documentation-devel
=======
   "id": "9df373ba",
>>>>>>> c74c98c2450c2a1ba922ed9442f136238d6bc88b
||||||| 6d93b645
   "id": "2d7747ab",
=======
   "id": "e3aa8200",
>>>>>>> documentation-devel
||||||| 804edffb
<<<<<<< HEAD
<<<<<<< HEAD
<<<<<<< HEAD
   "id": "593093eb",
||||||| 6a30bf1
   "id": "97409b70",
=======
   "id": "015083f6",
>>>>>>> documentation-devel
||||||| d28b18c
   "id": "015083f6",
=======
   "id": "2d7747ab",
>>>>>>> documentation-devel
||||||| 6893f63
<<<<<<< HEAD
   "id": "593093eb",
||||||| 6a30bf1
   "id": "97409b70",
=======
   "id": "015083f6",
>>>>>>> documentation-devel
=======
   "id": "9df373ba",
>>>>>>> c74c98c2450c2a1ba922ed9442f136238d6bc88b
=======
   "id": "17ddc1a0",
>>>>>>> 035bb2637984ead2784fecff78c0c60cc4181202
=======
   "id": "51a04937",
>>>>>>> 619c01f26351d57ac14d974b7af136ac5756103f
   "metadata": {},
   "outputs": [],
   "source": [
    "plotRowData(sfe, x = \"moran_sample01\", y = \"is_blank\") +\n",
    "    geom_hline(yintercept = 0, linetype = 2)"
   ]
  },
  {
   "cell_type": "markdown",
<<<<<<< HEAD
<<<<<<< HEAD
<<<<<<< HEAD
<<<<<<< HEAD
<<<<<<< HEAD
<<<<<<< HEAD
<<<<<<< HEAD
   "id": "34d50c34",
||||||| 6a30bf1
   "id": "a5cb7172",
=======
   "id": "ce9667e9",
>>>>>>> documentation-devel
||||||| d28b18c
   "id": "ce9667e9",
=======
   "id": "949191c8",
>>>>>>> documentation-devel
||||||| 6893f63
<<<<<<< HEAD
   "id": "34d50c34",
||||||| 6a30bf1
   "id": "a5cb7172",
=======
   "id": "ce9667e9",
>>>>>>> documentation-devel
=======
   "id": "351093e5",
>>>>>>> c74c98c2450c2a1ba922ed9442f136238d6bc88b
||||||| 6d93b645
   "id": "949191c8",
=======
   "id": "5a14d0cb",
>>>>>>> documentation-devel
||||||| 804edffb
<<<<<<< HEAD
<<<<<<< HEAD
<<<<<<< HEAD
   "id": "34d50c34",
||||||| 6a30bf1
   "id": "a5cb7172",
=======
   "id": "ce9667e9",
>>>>>>> documentation-devel
||||||| d28b18c
   "id": "ce9667e9",
=======
   "id": "949191c8",
>>>>>>> documentation-devel
||||||| 6893f63
<<<<<<< HEAD
   "id": "34d50c34",
||||||| 6a30bf1
   "id": "a5cb7172",
=======
   "id": "ce9667e9",
>>>>>>> documentation-devel
=======
   "id": "351093e5",
>>>>>>> c74c98c2450c2a1ba922ed9442f136238d6bc88b
=======
   "id": "06a4a2a6",
>>>>>>> 035bb2637984ead2784fecff78c0c60cc4181202
||||||| 3effdfa5
   "id": "5a14d0cb",
=======
   "id": "84d90fbe",
>>>>>>> documentation-devel
||||||| 96c826da
<<<<<<< HEAD
<<<<<<< HEAD
<<<<<<< HEAD
<<<<<<< HEAD
<<<<<<< HEAD
   "id": "34d50c34",
||||||| 6a30bf1
   "id": "a5cb7172",
=======
   "id": "ce9667e9",
>>>>>>> documentation-devel
||||||| d28b18c
   "id": "ce9667e9",
=======
   "id": "949191c8",
>>>>>>> documentation-devel
||||||| 6893f63
<<<<<<< HEAD
   "id": "34d50c34",
||||||| 6a30bf1
   "id": "a5cb7172",
=======
   "id": "ce9667e9",
>>>>>>> documentation-devel
=======
   "id": "351093e5",
>>>>>>> c74c98c2450c2a1ba922ed9442f136238d6bc88b
||||||| 6d93b645
   "id": "949191c8",
=======
   "id": "5a14d0cb",
>>>>>>> documentation-devel
||||||| 804edffb
<<<<<<< HEAD
<<<<<<< HEAD
<<<<<<< HEAD
   "id": "34d50c34",
||||||| 6a30bf1
   "id": "a5cb7172",
=======
   "id": "ce9667e9",
>>>>>>> documentation-devel
||||||| d28b18c
   "id": "ce9667e9",
=======
   "id": "949191c8",
>>>>>>> documentation-devel
||||||| 6893f63
<<<<<<< HEAD
   "id": "34d50c34",
||||||| 6a30bf1
   "id": "a5cb7172",
=======
   "id": "ce9667e9",
>>>>>>> documentation-devel
=======
   "id": "351093e5",
>>>>>>> c74c98c2450c2a1ba922ed9442f136238d6bc88b
=======
   "id": "06a4a2a6",
>>>>>>> 035bb2637984ead2784fecff78c0c60cc4181202
=======
   "id": "1ec48795",
>>>>>>> 619c01f26351d57ac14d974b7af136ac5756103f
   "metadata": {},
   "source": [
    "The blanks are clustered tightly around 0. The vast majority of real genes have positive spatial autocorrelation, some quite strong. But some genes have negative spatial autocorrelation, although it may or may not be statistically significant.\n",
    "\n",
    "Plot the top genes with positive spatial autocorrelation:"
   ]
  },
  {
   "cell_type": "code",
   "execution_count": null,
<<<<<<< HEAD
<<<<<<< HEAD
<<<<<<< HEAD
<<<<<<< HEAD
<<<<<<< HEAD
<<<<<<< HEAD
<<<<<<< HEAD
   "id": "c7d9b24e",
||||||| 6a30bf1
   "id": "de4ee69f",
=======
   "id": "45cb74a9",
>>>>>>> documentation-devel
||||||| d28b18c
   "id": "45cb74a9",
=======
   "id": "603cc490",
>>>>>>> documentation-devel
||||||| 6893f63
<<<<<<< HEAD
   "id": "c7d9b24e",
||||||| 6a30bf1
   "id": "de4ee69f",
=======
   "id": "45cb74a9",
>>>>>>> documentation-devel
=======
   "id": "21cf331a",
>>>>>>> c74c98c2450c2a1ba922ed9442f136238d6bc88b
||||||| 6d93b645
   "id": "603cc490",
=======
   "id": "4944f2b7",
>>>>>>> documentation-devel
||||||| 804edffb
<<<<<<< HEAD
<<<<<<< HEAD
<<<<<<< HEAD
   "id": "c7d9b24e",
||||||| 6a30bf1
   "id": "de4ee69f",
=======
   "id": "45cb74a9",
>>>>>>> documentation-devel
||||||| d28b18c
   "id": "45cb74a9",
=======
   "id": "603cc490",
>>>>>>> documentation-devel
||||||| 6893f63
<<<<<<< HEAD
   "id": "c7d9b24e",
||||||| 6a30bf1
   "id": "de4ee69f",
=======
   "id": "45cb74a9",
>>>>>>> documentation-devel
=======
   "id": "21cf331a",
>>>>>>> c74c98c2450c2a1ba922ed9442f136238d6bc88b
=======
   "id": "6036fca4",
>>>>>>> 035bb2637984ead2784fecff78c0c60cc4181202
||||||| 3effdfa5
   "id": "4944f2b7",
=======
   "id": "3279e65e",
>>>>>>> documentation-devel
||||||| 96c826da
<<<<<<< HEAD
<<<<<<< HEAD
<<<<<<< HEAD
<<<<<<< HEAD
<<<<<<< HEAD
   "id": "c7d9b24e",
||||||| 6a30bf1
   "id": "de4ee69f",
=======
   "id": "45cb74a9",
>>>>>>> documentation-devel
||||||| d28b18c
   "id": "45cb74a9",
=======
   "id": "603cc490",
>>>>>>> documentation-devel
||||||| 6893f63
<<<<<<< HEAD
   "id": "c7d9b24e",
||||||| 6a30bf1
   "id": "de4ee69f",
=======
   "id": "45cb74a9",
>>>>>>> documentation-devel
=======
   "id": "21cf331a",
>>>>>>> c74c98c2450c2a1ba922ed9442f136238d6bc88b
||||||| 6d93b645
   "id": "603cc490",
=======
   "id": "4944f2b7",
>>>>>>> documentation-devel
||||||| 804edffb
<<<<<<< HEAD
<<<<<<< HEAD
<<<<<<< HEAD
   "id": "c7d9b24e",
||||||| 6a30bf1
   "id": "de4ee69f",
=======
   "id": "45cb74a9",
>>>>>>> documentation-devel
||||||| d28b18c
   "id": "45cb74a9",
=======
   "id": "603cc490",
>>>>>>> documentation-devel
||||||| 6893f63
<<<<<<< HEAD
   "id": "c7d9b24e",
||||||| 6a30bf1
   "id": "de4ee69f",
=======
   "id": "45cb74a9",
>>>>>>> documentation-devel
=======
   "id": "21cf331a",
>>>>>>> c74c98c2450c2a1ba922ed9442f136238d6bc88b
=======
   "id": "6036fca4",
>>>>>>> 035bb2637984ead2784fecff78c0c60cc4181202
=======
   "id": "30edcd66",
>>>>>>> 619c01f26351d57ac14d974b7af136ac5756103f
   "metadata": {
    "fig.height": 12,
    "fig.width": 9
   },
   "outputs": [],
   "source": [
    "top_moran <- rownames(sfe)[order(rowData(sfe)$moran_sample01, decreasing = TRUE)[1:6]]\n",
    "plotSpatialFeature(sfe, top_moran, colGeometryName = \"centroids\", scattermore = TRUE,\n",
    "                   ncol = 2)"
   ]
  },
  {
   "cell_type": "markdown",
<<<<<<< HEAD
<<<<<<< HEAD
<<<<<<< HEAD
<<<<<<< HEAD
<<<<<<< HEAD
<<<<<<< HEAD
<<<<<<< HEAD
   "id": "9d9d1bda",
||||||| 6a30bf1
   "id": "5cf9006b",
=======
   "id": "49a5ba4c",
>>>>>>> documentation-devel
||||||| d28b18c
   "id": "49a5ba4c",
=======
   "id": "88514034",
>>>>>>> documentation-devel
||||||| 6893f63
<<<<<<< HEAD
   "id": "9d9d1bda",
||||||| 6a30bf1
   "id": "5cf9006b",
=======
   "id": "49a5ba4c",
>>>>>>> documentation-devel
=======
   "id": "463fd732",
>>>>>>> c74c98c2450c2a1ba922ed9442f136238d6bc88b
||||||| 6d93b645
   "id": "88514034",
=======
   "id": "e1fc4d32",
>>>>>>> documentation-devel
||||||| 804edffb
<<<<<<< HEAD
<<<<<<< HEAD
<<<<<<< HEAD
   "id": "9d9d1bda",
||||||| 6a30bf1
   "id": "5cf9006b",
=======
   "id": "49a5ba4c",
>>>>>>> documentation-devel
||||||| d28b18c
   "id": "49a5ba4c",
=======
   "id": "88514034",
>>>>>>> documentation-devel
||||||| 6893f63
<<<<<<< HEAD
   "id": "9d9d1bda",
||||||| 6a30bf1
   "id": "5cf9006b",
=======
   "id": "49a5ba4c",
>>>>>>> documentation-devel
=======
   "id": "463fd732",
>>>>>>> c74c98c2450c2a1ba922ed9442f136238d6bc88b
=======
   "id": "1e56274a",
>>>>>>> 035bb2637984ead2784fecff78c0c60cc4181202
||||||| 3effdfa5
   "id": "e1fc4d32",
=======
   "id": "12e920d4",
>>>>>>> documentation-devel
||||||| 96c826da
<<<<<<< HEAD
<<<<<<< HEAD
<<<<<<< HEAD
<<<<<<< HEAD
<<<<<<< HEAD
   "id": "9d9d1bda",
||||||| 6a30bf1
   "id": "5cf9006b",
=======
   "id": "49a5ba4c",
>>>>>>> documentation-devel
||||||| d28b18c
   "id": "49a5ba4c",
=======
   "id": "88514034",
>>>>>>> documentation-devel
||||||| 6893f63
<<<<<<< HEAD
   "id": "9d9d1bda",
||||||| 6a30bf1
   "id": "5cf9006b",
=======
   "id": "49a5ba4c",
>>>>>>> documentation-devel
=======
   "id": "463fd732",
>>>>>>> c74c98c2450c2a1ba922ed9442f136238d6bc88b
||||||| 6d93b645
   "id": "88514034",
=======
   "id": "e1fc4d32",
>>>>>>> documentation-devel
||||||| 804edffb
<<<<<<< HEAD
<<<<<<< HEAD
<<<<<<< HEAD
   "id": "9d9d1bda",
||||||| 6a30bf1
   "id": "5cf9006b",
=======
   "id": "49a5ba4c",
>>>>>>> documentation-devel
||||||| d28b18c
   "id": "49a5ba4c",
=======
   "id": "88514034",
>>>>>>> documentation-devel
||||||| 6893f63
<<<<<<< HEAD
   "id": "9d9d1bda",
||||||| 6a30bf1
   "id": "5cf9006b",
=======
   "id": "49a5ba4c",
>>>>>>> documentation-devel
=======
   "id": "463fd732",
>>>>>>> c74c98c2450c2a1ba922ed9442f136238d6bc88b
=======
   "id": "1e56274a",
>>>>>>> 035bb2637984ead2784fecff78c0c60cc4181202
=======
   "id": "95faa1e2",
>>>>>>> 619c01f26351d57ac14d974b7af136ac5756103f
   "metadata": {},
   "source": [
    "Unlike in the other smFISH-based cancer datasets on this dataset, the genes with the highest Moran's I highlight different histological regions. Some probably for zones in the hepatic lobule, and some for blood vessels. It would be interesting to compare spatial autocorrelation of marker genes among different tissues and cell types.\n",
    "\n",
    "Negative Moran's I means that nearby cells tend to be more dissimilar to each other. That would be hard to see when plotting the whole tissue section, so we will use that bounding box again. The gene with the most negative Moran's I is compared to one with Moran's I closest to 0."
   ]
  },
  {
   "cell_type": "code",
   "execution_count": null,
<<<<<<< HEAD
<<<<<<< HEAD
<<<<<<< HEAD
<<<<<<< HEAD
<<<<<<< HEAD
<<<<<<< HEAD
<<<<<<< HEAD
   "id": "273a2ff9",
||||||| 6a30bf1
   "id": "6d4fdc19",
=======
   "id": "c16df5c7",
>>>>>>> documentation-devel
||||||| d28b18c
   "id": "c16df5c7",
=======
   "id": "1dde62a2",
>>>>>>> documentation-devel
||||||| 6893f63
<<<<<<< HEAD
   "id": "273a2ff9",
||||||| 6a30bf1
   "id": "6d4fdc19",
=======
   "id": "c16df5c7",
>>>>>>> documentation-devel
=======
   "id": "603a238b",
>>>>>>> c74c98c2450c2a1ba922ed9442f136238d6bc88b
||||||| 6d93b645
   "id": "1dde62a2",
=======
   "id": "2a678bdd",
>>>>>>> documentation-devel
||||||| 804edffb
<<<<<<< HEAD
<<<<<<< HEAD
<<<<<<< HEAD
   "id": "273a2ff9",
||||||| 6a30bf1
   "id": "6d4fdc19",
=======
   "id": "c16df5c7",
>>>>>>> documentation-devel
||||||| d28b18c
   "id": "c16df5c7",
=======
   "id": "1dde62a2",
>>>>>>> documentation-devel
||||||| 6893f63
<<<<<<< HEAD
   "id": "273a2ff9",
||||||| 6a30bf1
   "id": "6d4fdc19",
=======
   "id": "c16df5c7",
>>>>>>> documentation-devel
=======
   "id": "603a238b",
>>>>>>> c74c98c2450c2a1ba922ed9442f136238d6bc88b
=======
   "id": "db2ccecc",
>>>>>>> 035bb2637984ead2784fecff78c0c60cc4181202
||||||| 3effdfa5
   "id": "2a678bdd",
=======
   "id": "8c42d1cd",
>>>>>>> documentation-devel
||||||| 96c826da
<<<<<<< HEAD
<<<<<<< HEAD
<<<<<<< HEAD
<<<<<<< HEAD
<<<<<<< HEAD
   "id": "273a2ff9",
||||||| 6a30bf1
   "id": "6d4fdc19",
=======
   "id": "c16df5c7",
>>>>>>> documentation-devel
||||||| d28b18c
   "id": "c16df5c7",
=======
   "id": "1dde62a2",
>>>>>>> documentation-devel
||||||| 6893f63
<<<<<<< HEAD
   "id": "273a2ff9",
||||||| 6a30bf1
   "id": "6d4fdc19",
=======
   "id": "c16df5c7",
>>>>>>> documentation-devel
=======
   "id": "603a238b",
>>>>>>> c74c98c2450c2a1ba922ed9442f136238d6bc88b
||||||| 6d93b645
   "id": "1dde62a2",
=======
   "id": "2a678bdd",
>>>>>>> documentation-devel
||||||| 804edffb
<<<<<<< HEAD
<<<<<<< HEAD
<<<<<<< HEAD
   "id": "273a2ff9",
||||||| 6a30bf1
   "id": "6d4fdc19",
=======
   "id": "c16df5c7",
>>>>>>> documentation-devel
||||||| d28b18c
   "id": "c16df5c7",
=======
   "id": "1dde62a2",
>>>>>>> documentation-devel
||||||| 6893f63
<<<<<<< HEAD
   "id": "273a2ff9",
||||||| 6a30bf1
   "id": "6d4fdc19",
=======
   "id": "c16df5c7",
>>>>>>> documentation-devel
=======
   "id": "603a238b",
>>>>>>> c74c98c2450c2a1ba922ed9442f136238d6bc88b
=======
   "id": "db2ccecc",
>>>>>>> 035bb2637984ead2784fecff78c0c60cc4181202
=======
   "id": "d22eeac4",
>>>>>>> 619c01f26351d57ac14d974b7af136ac5756103f
   "metadata": {
    "fig.height": 5,
    "fig.width": 9
   },
   "outputs": [],
   "source": [
    "bottom_moran <- rownames(sfe)[order(rowData(sfe)$moran_sample01)[1]]\n",
    "bottom_abs_moran <- rownames(sfe)[order(abs(rowData(sfe)$moran_sample01))[1]]\n",
    "plotSpatialFeature(sfe, c(bottom_moran, bottom_abs_moran), \n",
    "                   colGeometryName = \"cellSeg\", bbox = bbox_use)"
   ]
  },
  {
   "cell_type": "markdown",
<<<<<<< HEAD
<<<<<<< HEAD
<<<<<<< HEAD
<<<<<<< HEAD
<<<<<<< HEAD
<<<<<<< HEAD
<<<<<<< HEAD
   "id": "d35ba05e",
||||||| 6a30bf1
   "id": "d77c1289",
=======
   "id": "9fedbf78",
>>>>>>> documentation-devel
||||||| d28b18c
   "id": "9fedbf78",
=======
   "id": "640fa57a",
>>>>>>> documentation-devel
||||||| 6893f63
<<<<<<< HEAD
   "id": "d35ba05e",
||||||| 6a30bf1
   "id": "d77c1289",
=======
   "id": "9fedbf78",
>>>>>>> documentation-devel
=======
   "id": "dfa08302",
>>>>>>> c74c98c2450c2a1ba922ed9442f136238d6bc88b
||||||| 6d93b645
   "id": "640fa57a",
=======
   "id": "4e259809",
>>>>>>> documentation-devel
||||||| 804edffb
<<<<<<< HEAD
<<<<<<< HEAD
<<<<<<< HEAD
   "id": "d35ba05e",
||||||| 6a30bf1
   "id": "d77c1289",
=======
   "id": "9fedbf78",
>>>>>>> documentation-devel
||||||| d28b18c
   "id": "9fedbf78",
=======
   "id": "640fa57a",
>>>>>>> documentation-devel
||||||| 6893f63
<<<<<<< HEAD
   "id": "d35ba05e",
||||||| 6a30bf1
   "id": "d77c1289",
=======
   "id": "9fedbf78",
>>>>>>> documentation-devel
=======
   "id": "dfa08302",
>>>>>>> c74c98c2450c2a1ba922ed9442f136238d6bc88b
=======
   "id": "2f404edb",
>>>>>>> 035bb2637984ead2784fecff78c0c60cc4181202
||||||| 3effdfa5
   "id": "4e259809",
=======
   "id": "1b4bdef6",
>>>>>>> documentation-devel
||||||| 96c826da
<<<<<<< HEAD
<<<<<<< HEAD
<<<<<<< HEAD
<<<<<<< HEAD
<<<<<<< HEAD
   "id": "d35ba05e",
||||||| 6a30bf1
   "id": "d77c1289",
=======
   "id": "9fedbf78",
>>>>>>> documentation-devel
||||||| d28b18c
   "id": "9fedbf78",
=======
   "id": "640fa57a",
>>>>>>> documentation-devel
||||||| 6893f63
<<<<<<< HEAD
   "id": "d35ba05e",
||||||| 6a30bf1
   "id": "d77c1289",
=======
   "id": "9fedbf78",
>>>>>>> documentation-devel
=======
   "id": "dfa08302",
>>>>>>> c74c98c2450c2a1ba922ed9442f136238d6bc88b
||||||| 6d93b645
   "id": "640fa57a",
=======
   "id": "4e259809",
>>>>>>> documentation-devel
||||||| 804edffb
<<<<<<< HEAD
<<<<<<< HEAD
<<<<<<< HEAD
   "id": "d35ba05e",
||||||| 6a30bf1
   "id": "d77c1289",
=======
   "id": "9fedbf78",
>>>>>>> documentation-devel
||||||| d28b18c
   "id": "9fedbf78",
=======
   "id": "640fa57a",
>>>>>>> documentation-devel
||||||| 6893f63
<<<<<<< HEAD
   "id": "d35ba05e",
||||||| 6a30bf1
   "id": "d77c1289",
=======
   "id": "9fedbf78",
>>>>>>> documentation-devel
=======
   "id": "dfa08302",
>>>>>>> c74c98c2450c2a1ba922ed9442f136238d6bc88b
=======
   "id": "2f404edb",
>>>>>>> 035bb2637984ead2784fecff78c0c60cc4181202
=======
   "id": "c492d0fb",
>>>>>>> 619c01f26351d57ac14d974b7af136ac5756103f
   "metadata": {
    "lines_to_next_cell": 0
   },
   "source": [
    "As expected, the feature with Moran's I closest to 0 is a blank.\n",
    "\n",
    "# Spatial autocorrelation at larger length scales\n",
    "The k nearest neighbor graph used above only concerns 5 cells around each cell, which is a very small neighborhood, over a very small length scale. In the current release of `Voyager`, a correlogram can be computed to get a sense of the length scale of spatial autocorrelation. However, since finding the lag values over higher and higher orders of neighborhoods is very slow for such a large number of cells for higher orders, the correlogram is not very helpful here. In this section, we use some other methods involving binning to explore spatial autocorrelation at larger length scales.\n",
    "\n",
    "## Binning\n",
    "The `sf` package can create polygons in a grid, with which we can bin the cells and their attributes and gene expressions. Here we make a 100 by 100 hexagonal grid in the bounding box of the cell centroids."
   ]
  },
  {
   "cell_type": "code",
   "execution_count": null,
<<<<<<< HEAD
<<<<<<< HEAD
<<<<<<< HEAD
<<<<<<< HEAD
<<<<<<< HEAD
<<<<<<< HEAD
<<<<<<< HEAD
   "id": "1b51112f",
||||||| 6a30bf1
   "id": "b2e0b359",
=======
   "id": "d6f50fce",
>>>>>>> documentation-devel
||||||| d28b18c
   "id": "d6f50fce",
=======
   "id": "a5394fc3",
>>>>>>> documentation-devel
||||||| 6893f63
<<<<<<< HEAD
   "id": "1b51112f",
||||||| 6a30bf1
   "id": "b2e0b359",
=======
   "id": "d6f50fce",
>>>>>>> documentation-devel
=======
   "id": "a2ed29a5",
>>>>>>> c74c98c2450c2a1ba922ed9442f136238d6bc88b
||||||| 6d93b645
   "id": "a5394fc3",
=======
   "id": "2cd87fa5",
>>>>>>> documentation-devel
||||||| 804edffb
<<<<<<< HEAD
<<<<<<< HEAD
<<<<<<< HEAD
   "id": "1b51112f",
||||||| 6a30bf1
   "id": "b2e0b359",
=======
   "id": "d6f50fce",
>>>>>>> documentation-devel
||||||| d28b18c
   "id": "d6f50fce",
=======
   "id": "a5394fc3",
>>>>>>> documentation-devel
||||||| 6893f63
<<<<<<< HEAD
   "id": "1b51112f",
||||||| 6a30bf1
   "id": "b2e0b359",
=======
   "id": "d6f50fce",
>>>>>>> documentation-devel
=======
   "id": "a2ed29a5",
>>>>>>> c74c98c2450c2a1ba922ed9442f136238d6bc88b
=======
   "id": "c4317b38",
>>>>>>> 035bb2637984ead2784fecff78c0c60cc4181202
||||||| 3effdfa5
   "id": "2cd87fa5",
=======
   "id": "91bd9af3",
>>>>>>> documentation-devel
||||||| 96c826da
<<<<<<< HEAD
<<<<<<< HEAD
<<<<<<< HEAD
<<<<<<< HEAD
<<<<<<< HEAD
   "id": "1b51112f",
||||||| 6a30bf1
   "id": "b2e0b359",
=======
   "id": "d6f50fce",
>>>>>>> documentation-devel
||||||| d28b18c
   "id": "d6f50fce",
=======
   "id": "a5394fc3",
>>>>>>> documentation-devel
||||||| 6893f63
<<<<<<< HEAD
   "id": "1b51112f",
||||||| 6a30bf1
   "id": "b2e0b359",
=======
   "id": "d6f50fce",
>>>>>>> documentation-devel
=======
   "id": "a2ed29a5",
>>>>>>> c74c98c2450c2a1ba922ed9442f136238d6bc88b
||||||| 6d93b645
   "id": "a5394fc3",
=======
   "id": "2cd87fa5",
>>>>>>> documentation-devel
||||||| 804edffb
<<<<<<< HEAD
<<<<<<< HEAD
<<<<<<< HEAD
   "id": "1b51112f",
||||||| 6a30bf1
   "id": "b2e0b359",
=======
   "id": "d6f50fce",
>>>>>>> documentation-devel
||||||| d28b18c
   "id": "d6f50fce",
=======
   "id": "a5394fc3",
>>>>>>> documentation-devel
||||||| 6893f63
<<<<<<< HEAD
   "id": "1b51112f",
||||||| 6a30bf1
   "id": "b2e0b359",
=======
   "id": "d6f50fce",
>>>>>>> documentation-devel
=======
   "id": "a2ed29a5",
>>>>>>> c74c98c2450c2a1ba922ed9442f136238d6bc88b
=======
   "id": "c4317b38",
>>>>>>> 035bb2637984ead2784fecff78c0c60cc4181202
=======
   "id": "ccb23785",
>>>>>>> 619c01f26351d57ac14d974b7af136ac5756103f
   "metadata": {},
   "outputs": [],
   "source": [
    "(bins <- st_make_grid(colGeometry(sfe, \"centroids\"), n = 100, square = FALSE))"
   ]
  },
  {
   "cell_type": "markdown",
<<<<<<< HEAD
<<<<<<< HEAD
<<<<<<< HEAD
<<<<<<< HEAD
<<<<<<< HEAD
<<<<<<< HEAD
<<<<<<< HEAD
   "id": "6de19b89",
||||||| 6a30bf1
   "id": "7b4a94c2",
=======
   "id": "5d329119",
>>>>>>> documentation-devel
||||||| d28b18c
   "id": "5d329119",
=======
   "id": "a5e379ce",
>>>>>>> documentation-devel
||||||| 6893f63
<<<<<<< HEAD
   "id": "6de19b89",
||||||| 6a30bf1
   "id": "7b4a94c2",
=======
   "id": "5d329119",
>>>>>>> documentation-devel
=======
   "id": "cfc25abf",
>>>>>>> c74c98c2450c2a1ba922ed9442f136238d6bc88b
||||||| 6d93b645
   "id": "a5e379ce",
=======
   "id": "eb707e27",
>>>>>>> documentation-devel
||||||| 804edffb
<<<<<<< HEAD
<<<<<<< HEAD
<<<<<<< HEAD
   "id": "6de19b89",
||||||| 6a30bf1
   "id": "7b4a94c2",
=======
   "id": "5d329119",
>>>>>>> documentation-devel
||||||| d28b18c
   "id": "5d329119",
=======
   "id": "a5e379ce",
>>>>>>> documentation-devel
||||||| 6893f63
<<<<<<< HEAD
   "id": "6de19b89",
||||||| 6a30bf1
   "id": "7b4a94c2",
=======
   "id": "5d329119",
>>>>>>> documentation-devel
=======
   "id": "cfc25abf",
>>>>>>> c74c98c2450c2a1ba922ed9442f136238d6bc88b
=======
   "id": "e454ba7b",
>>>>>>> 035bb2637984ead2784fecff78c0c60cc4181202
||||||| 3effdfa5
   "id": "eb707e27",
=======
   "id": "a713bff2",
>>>>>>> documentation-devel
||||||| 96c826da
<<<<<<< HEAD
<<<<<<< HEAD
<<<<<<< HEAD
<<<<<<< HEAD
<<<<<<< HEAD
   "id": "6de19b89",
||||||| 6a30bf1
   "id": "7b4a94c2",
=======
   "id": "5d329119",
>>>>>>> documentation-devel
||||||| d28b18c
   "id": "5d329119",
=======
   "id": "a5e379ce",
>>>>>>> documentation-devel
||||||| 6893f63
<<<<<<< HEAD
   "id": "6de19b89",
||||||| 6a30bf1
   "id": "7b4a94c2",
=======
   "id": "5d329119",
>>>>>>> documentation-devel
=======
   "id": "cfc25abf",
>>>>>>> c74c98c2450c2a1ba922ed9442f136238d6bc88b
||||||| 6d93b645
   "id": "a5e379ce",
=======
   "id": "eb707e27",
>>>>>>> documentation-devel
||||||| 804edffb
<<<<<<< HEAD
<<<<<<< HEAD
<<<<<<< HEAD
   "id": "6de19b89",
||||||| 6a30bf1
   "id": "7b4a94c2",
=======
   "id": "5d329119",
>>>>>>> documentation-devel
||||||| d28b18c
   "id": "5d329119",
=======
   "id": "a5e379ce",
>>>>>>> documentation-devel
||||||| 6893f63
<<<<<<< HEAD
   "id": "6de19b89",
||||||| 6a30bf1
   "id": "7b4a94c2",
=======
   "id": "5d329119",
>>>>>>> documentation-devel
=======
   "id": "cfc25abf",
>>>>>>> c74c98c2450c2a1ba922ed9442f136238d6bc88b
=======
   "id": "e454ba7b",
>>>>>>> 035bb2637984ead2784fecff78c0c60cc4181202
=======
   "id": "791a8cb2",
>>>>>>> 619c01f26351d57ac14d974b7af136ac5756103f
   "metadata": {
    "lines_to_next_cell": 0
   },
   "source": [
    "Here we use this grid to bin the QC metrics by averaging the values from the cells. Since bins not completely covered by tissue have fewer cells, the mean may be less susceptible to edge effect than the sum, as bins near the edge will have lower sums, which may spuriously increase Moran's I. "
   ]
  },
  {
   "cell_type": "code",
   "execution_count": null,
<<<<<<< HEAD
<<<<<<< HEAD
<<<<<<< HEAD
<<<<<<< HEAD
<<<<<<< HEAD
<<<<<<< HEAD
<<<<<<< HEAD
   "id": "d2b8b8b0",
||||||| 6a30bf1
   "id": "c8dedfde",
=======
   "id": "46174949",
>>>>>>> documentation-devel
||||||| d28b18c
   "id": "46174949",
=======
   "id": "88432e4d",
>>>>>>> documentation-devel
||||||| 6893f63
<<<<<<< HEAD
   "id": "d2b8b8b0",
||||||| 6a30bf1
   "id": "c8dedfde",
=======
   "id": "46174949",
>>>>>>> documentation-devel
=======
   "id": "b2e8ea6b",
>>>>>>> c74c98c2450c2a1ba922ed9442f136238d6bc88b
||||||| 6d93b645
   "id": "88432e4d",
=======
   "id": "a47d9f83",
>>>>>>> documentation-devel
||||||| 804edffb
<<<<<<< HEAD
<<<<<<< HEAD
<<<<<<< HEAD
   "id": "d2b8b8b0",
||||||| 6a30bf1
   "id": "c8dedfde",
=======
   "id": "46174949",
>>>>>>> documentation-devel
||||||| d28b18c
   "id": "46174949",
=======
   "id": "88432e4d",
>>>>>>> documentation-devel
||||||| 6893f63
<<<<<<< HEAD
   "id": "d2b8b8b0",
||||||| 6a30bf1
   "id": "c8dedfde",
=======
   "id": "46174949",
>>>>>>> documentation-devel
=======
   "id": "b2e8ea6b",
>>>>>>> c74c98c2450c2a1ba922ed9442f136238d6bc88b
=======
   "id": "0325ff83",
>>>>>>> 035bb2637984ead2784fecff78c0c60cc4181202
||||||| 3effdfa5
   "id": "a47d9f83",
=======
   "id": "1f30a1cc",
>>>>>>> documentation-devel
||||||| 96c826da
<<<<<<< HEAD
<<<<<<< HEAD
<<<<<<< HEAD
<<<<<<< HEAD
<<<<<<< HEAD
   "id": "d2b8b8b0",
||||||| 6a30bf1
   "id": "c8dedfde",
=======
   "id": "46174949",
>>>>>>> documentation-devel
||||||| d28b18c
   "id": "46174949",
=======
   "id": "88432e4d",
>>>>>>> documentation-devel
||||||| 6893f63
<<<<<<< HEAD
   "id": "d2b8b8b0",
||||||| 6a30bf1
   "id": "c8dedfde",
=======
   "id": "46174949",
>>>>>>> documentation-devel
=======
   "id": "b2e8ea6b",
>>>>>>> c74c98c2450c2a1ba922ed9442f136238d6bc88b
||||||| 6d93b645
   "id": "88432e4d",
=======
   "id": "a47d9f83",
>>>>>>> documentation-devel
||||||| 804edffb
<<<<<<< HEAD
<<<<<<< HEAD
<<<<<<< HEAD
   "id": "d2b8b8b0",
||||||| 6a30bf1
   "id": "c8dedfde",
=======
   "id": "46174949",
>>>>>>> documentation-devel
||||||| d28b18c
   "id": "46174949",
=======
   "id": "88432e4d",
>>>>>>> documentation-devel
||||||| 6893f63
<<<<<<< HEAD
   "id": "d2b8b8b0",
||||||| 6a30bf1
   "id": "c8dedfde",
=======
   "id": "46174949",
>>>>>>> documentation-devel
=======
   "id": "b2e8ea6b",
>>>>>>> c74c98c2450c2a1ba922ed9442f136238d6bc88b
=======
   "id": "0325ff83",
>>>>>>> 035bb2637984ead2784fecff78c0c60cc4181202
=======
   "id": "d608efd7",
>>>>>>> 619c01f26351d57ac14d974b7af136ac5756103f
   "metadata": {},
   "outputs": [],
   "source": [
    "df <- cbind(colGeometry(sfe, \"centroids\"), colData(sfe)[,c(\"nCounts\", \"nGenes\", \"volume\")])\n",
    "df_binned <- aggregate(df, bins, FUN = mean)\n",
    "# Remove bins not containing cells\n",
    "df_binned <- df_binned[!is.na(df_binned$nCounts),]"
   ]
  },
  {
   "cell_type": "markdown",
<<<<<<< HEAD
<<<<<<< HEAD
<<<<<<< HEAD
<<<<<<< HEAD
<<<<<<< HEAD
<<<<<<< HEAD
<<<<<<< HEAD
   "id": "31f57acc",
||||||| 6a30bf1
   "id": "5467ce6d",
=======
   "id": "a0188774",
>>>>>>> documentation-devel
||||||| d28b18c
   "id": "a0188774",
=======
   "id": "c943bc1c",
>>>>>>> documentation-devel
||||||| 6893f63
<<<<<<< HEAD
   "id": "31f57acc",
||||||| 6a30bf1
   "id": "5467ce6d",
=======
   "id": "a0188774",
>>>>>>> documentation-devel
=======
   "id": "b5e3d9ac",
>>>>>>> c74c98c2450c2a1ba922ed9442f136238d6bc88b
||||||| 6d93b645
   "id": "c943bc1c",
=======
   "id": "15885999",
>>>>>>> documentation-devel
||||||| 804edffb
<<<<<<< HEAD
<<<<<<< HEAD
<<<<<<< HEAD
   "id": "31f57acc",
||||||| 6a30bf1
   "id": "5467ce6d",
=======
   "id": "a0188774",
>>>>>>> documentation-devel
||||||| d28b18c
   "id": "a0188774",
=======
   "id": "c943bc1c",
>>>>>>> documentation-devel
||||||| 6893f63
<<<<<<< HEAD
   "id": "31f57acc",
||||||| 6a30bf1
   "id": "5467ce6d",
=======
   "id": "a0188774",
>>>>>>> documentation-devel
=======
   "id": "b5e3d9ac",
>>>>>>> c74c98c2450c2a1ba922ed9442f136238d6bc88b
=======
   "id": "2a993b19",
>>>>>>> 035bb2637984ead2784fecff78c0c60cc4181202
||||||| 3effdfa5
   "id": "15885999",
=======
   "id": "90ebeb7d",
>>>>>>> documentation-devel
||||||| 96c826da
<<<<<<< HEAD
<<<<<<< HEAD
<<<<<<< HEAD
<<<<<<< HEAD
<<<<<<< HEAD
   "id": "31f57acc",
||||||| 6a30bf1
   "id": "5467ce6d",
=======
   "id": "a0188774",
>>>>>>> documentation-devel
||||||| d28b18c
   "id": "a0188774",
=======
   "id": "c943bc1c",
>>>>>>> documentation-devel
||||||| 6893f63
<<<<<<< HEAD
   "id": "31f57acc",
||||||| 6a30bf1
   "id": "5467ce6d",
=======
   "id": "a0188774",
>>>>>>> documentation-devel
=======
   "id": "b5e3d9ac",
>>>>>>> c74c98c2450c2a1ba922ed9442f136238d6bc88b
||||||| 6d93b645
   "id": "c943bc1c",
=======
   "id": "15885999",
>>>>>>> documentation-devel
||||||| 804edffb
<<<<<<< HEAD
<<<<<<< HEAD
<<<<<<< HEAD
   "id": "31f57acc",
||||||| 6a30bf1
   "id": "5467ce6d",
=======
   "id": "a0188774",
>>>>>>> documentation-devel
||||||| d28b18c
   "id": "a0188774",
=======
   "id": "c943bc1c",
>>>>>>> documentation-devel
||||||| 6893f63
<<<<<<< HEAD
   "id": "31f57acc",
||||||| 6a30bf1
   "id": "5467ce6d",
=======
   "id": "a0188774",
>>>>>>> documentation-devel
=======
   "id": "b5e3d9ac",
>>>>>>> c74c98c2450c2a1ba922ed9442f136238d6bc88b
=======
   "id": "2a993b19",
>>>>>>> 035bb2637984ead2784fecff78c0c60cc4181202
=======
   "id": "386e7d60",
>>>>>>> 619c01f26351d57ac14d974b7af136ac5756103f
   "metadata": {
    "lines_to_next_cell": 0
   },
   "source": [
    "Plot the binned values:"
   ]
  },
  {
   "cell_type": "code",
   "execution_count": null,
<<<<<<< HEAD
<<<<<<< HEAD
<<<<<<< HEAD
<<<<<<< HEAD
<<<<<<< HEAD
<<<<<<< HEAD
<<<<<<< HEAD
   "id": "092c82b9",
||||||| 6a30bf1
   "id": "1695e958",
=======
   "id": "d23051e1",
>>>>>>> documentation-devel
||||||| d28b18c
   "id": "d23051e1",
=======
   "id": "7f2286d3",
>>>>>>> documentation-devel
||||||| 6893f63
<<<<<<< HEAD
   "id": "092c82b9",
||||||| 6a30bf1
   "id": "1695e958",
=======
   "id": "d23051e1",
>>>>>>> documentation-devel
=======
   "id": "46bfbc7f",
>>>>>>> c74c98c2450c2a1ba922ed9442f136238d6bc88b
||||||| 6d93b645
   "id": "7f2286d3",
=======
   "id": "c4142df1",
>>>>>>> documentation-devel
||||||| 804edffb
<<<<<<< HEAD
<<<<<<< HEAD
<<<<<<< HEAD
   "id": "092c82b9",
||||||| 6a30bf1
   "id": "1695e958",
=======
   "id": "d23051e1",
>>>>>>> documentation-devel
||||||| d28b18c
   "id": "d23051e1",
=======
   "id": "7f2286d3",
>>>>>>> documentation-devel
||||||| 6893f63
<<<<<<< HEAD
   "id": "092c82b9",
||||||| 6a30bf1
   "id": "1695e958",
=======
   "id": "d23051e1",
>>>>>>> documentation-devel
=======
   "id": "46bfbc7f",
>>>>>>> c74c98c2450c2a1ba922ed9442f136238d6bc88b
=======
   "id": "4e90ef05",
>>>>>>> 035bb2637984ead2784fecff78c0c60cc4181202
||||||| 3effdfa5
   "id": "c4142df1",
=======
   "id": "e1cb65a2",
>>>>>>> documentation-devel
||||||| 96c826da
<<<<<<< HEAD
<<<<<<< HEAD
<<<<<<< HEAD
<<<<<<< HEAD
<<<<<<< HEAD
   "id": "092c82b9",
||||||| 6a30bf1
   "id": "1695e958",
=======
   "id": "d23051e1",
>>>>>>> documentation-devel
||||||| d28b18c
   "id": "d23051e1",
=======
   "id": "7f2286d3",
>>>>>>> documentation-devel
||||||| 6893f63
<<<<<<< HEAD
   "id": "092c82b9",
||||||| 6a30bf1
   "id": "1695e958",
=======
   "id": "d23051e1",
>>>>>>> documentation-devel
=======
   "id": "46bfbc7f",
>>>>>>> c74c98c2450c2a1ba922ed9442f136238d6bc88b
||||||| 6d93b645
   "id": "7f2286d3",
=======
   "id": "c4142df1",
>>>>>>> documentation-devel
||||||| 804edffb
<<<<<<< HEAD
<<<<<<< HEAD
<<<<<<< HEAD
   "id": "092c82b9",
||||||| 6a30bf1
   "id": "1695e958",
=======
   "id": "d23051e1",
>>>>>>> documentation-devel
||||||| d28b18c
   "id": "d23051e1",
=======
   "id": "7f2286d3",
>>>>>>> documentation-devel
||||||| 6893f63
<<<<<<< HEAD
   "id": "092c82b9",
||||||| 6a30bf1
   "id": "1695e958",
=======
   "id": "d23051e1",
>>>>>>> documentation-devel
=======
   "id": "46bfbc7f",
>>>>>>> c74c98c2450c2a1ba922ed9442f136238d6bc88b
=======
   "id": "4e90ef05",
>>>>>>> 035bb2637984ead2784fecff78c0c60cc4181202
=======
   "id": "98b8b26d",
>>>>>>> 619c01f26351d57ac14d974b7af136ac5756103f
   "metadata": {
    "fig.height": 7,
    "fig.width": 9
   },
   "outputs": [],
   "source": [
    "# Not using facet_wrap to give each panel its own color scale\n",
    "plts <- lapply(c(\"nCounts\", \"nGenes\", \"volume\"), function(f) {\n",
    "    ggplot(df_binned[,f]) + geom_sf(aes(fill = .data[[f]]), linewidth = 0) +\n",
    "        scale_fill_distiller(palette = \"Blues\", direction = 1) + theme_void()\n",
    "})\n",
    "wrap_plots(plts, nrow = 2)"
   ]
  },
  {
   "cell_type": "markdown",
<<<<<<< HEAD
<<<<<<< HEAD
<<<<<<< HEAD
<<<<<<< HEAD
<<<<<<< HEAD
<<<<<<< HEAD
<<<<<<< HEAD
   "id": "c5f47527",
||||||| 6a30bf1
   "id": "6f47c858",
=======
   "id": "33a28d4c",
>>>>>>> documentation-devel
||||||| d28b18c
   "id": "33a28d4c",
=======
   "id": "8405851d",
>>>>>>> documentation-devel
||||||| 6893f63
<<<<<<< HEAD
   "id": "c5f47527",
||||||| 6a30bf1
   "id": "6f47c858",
=======
   "id": "33a28d4c",
>>>>>>> documentation-devel
=======
   "id": "366ef3d4",
>>>>>>> c74c98c2450c2a1ba922ed9442f136238d6bc88b
||||||| 6d93b645
   "id": "8405851d",
=======
   "id": "99d9c054",
>>>>>>> documentation-devel
||||||| 804edffb
<<<<<<< HEAD
<<<<<<< HEAD
<<<<<<< HEAD
   "id": "c5f47527",
||||||| 6a30bf1
   "id": "6f47c858",
=======
   "id": "33a28d4c",
>>>>>>> documentation-devel
||||||| d28b18c
   "id": "33a28d4c",
=======
   "id": "8405851d",
>>>>>>> documentation-devel
||||||| 6893f63
<<<<<<< HEAD
   "id": "c5f47527",
||||||| 6a30bf1
   "id": "6f47c858",
=======
   "id": "33a28d4c",
>>>>>>> documentation-devel
=======
   "id": "366ef3d4",
>>>>>>> c74c98c2450c2a1ba922ed9442f136238d6bc88b
=======
   "id": "4c8388a0",
>>>>>>> 035bb2637984ead2784fecff78c0c60cc4181202
||||||| 3effdfa5
   "id": "99d9c054",
=======
   "id": "e639d57c",
>>>>>>> documentation-devel
||||||| 96c826da
<<<<<<< HEAD
<<<<<<< HEAD
<<<<<<< HEAD
<<<<<<< HEAD
<<<<<<< HEAD
   "id": "c5f47527",
||||||| 6a30bf1
   "id": "6f47c858",
=======
   "id": "33a28d4c",
>>>>>>> documentation-devel
||||||| d28b18c
   "id": "33a28d4c",
=======
   "id": "8405851d",
>>>>>>> documentation-devel
||||||| 6893f63
<<<<<<< HEAD
   "id": "c5f47527",
||||||| 6a30bf1
   "id": "6f47c858",
=======
   "id": "33a28d4c",
>>>>>>> documentation-devel
=======
   "id": "366ef3d4",
>>>>>>> c74c98c2450c2a1ba922ed9442f136238d6bc88b
||||||| 6d93b645
   "id": "8405851d",
=======
   "id": "99d9c054",
>>>>>>> documentation-devel
||||||| 804edffb
<<<<<<< HEAD
<<<<<<< HEAD
<<<<<<< HEAD
   "id": "c5f47527",
||||||| 6a30bf1
   "id": "6f47c858",
=======
   "id": "33a28d4c",
>>>>>>> documentation-devel
||||||| d28b18c
   "id": "33a28d4c",
=======
   "id": "8405851d",
>>>>>>> documentation-devel
||||||| 6893f63
<<<<<<< HEAD
   "id": "c5f47527",
||||||| 6a30bf1
   "id": "6f47c858",
=======
   "id": "33a28d4c",
>>>>>>> documentation-devel
=======
   "id": "366ef3d4",
>>>>>>> c74c98c2450c2a1ba922ed9442f136238d6bc88b
=======
   "id": "4c8388a0",
>>>>>>> 035bb2637984ead2784fecff78c0c60cc4181202
=======
   "id": "6c6abd00",
>>>>>>> 619c01f26351d57ac14d974b7af136ac5756103f
   "metadata": {
    "lines_to_next_cell": 0
   },
   "source": [
    "There's an outlier bin not as evident when plotting single cells. There's still some edge effect around blood vessels. This might be truly edge effect, or that endothelial cells tend to have lower values in all 3 variables here.\n",
    "\n",
    "Then compute Moran's I over the binned data, with contiguity neighborhoods. `zero.policy = TRUE` because there are some bins with no neighbors."
   ]
  },
  {
   "cell_type": "code",
   "execution_count": null,
<<<<<<< HEAD
<<<<<<< HEAD
<<<<<<< HEAD
<<<<<<< HEAD
<<<<<<< HEAD
<<<<<<< HEAD
<<<<<<< HEAD
   "id": "99227d3f",
||||||| 6a30bf1
   "id": "a5dc6b23",
=======
   "id": "152d56b1",
>>>>>>> documentation-devel
||||||| d28b18c
   "id": "152d56b1",
=======
   "id": "0ea362ed",
>>>>>>> documentation-devel
||||||| 6893f63
<<<<<<< HEAD
   "id": "99227d3f",
||||||| 6a30bf1
   "id": "a5dc6b23",
=======
   "id": "152d56b1",
>>>>>>> documentation-devel
=======
   "id": "8a3e34c2",
>>>>>>> c74c98c2450c2a1ba922ed9442f136238d6bc88b
||||||| 6d93b645
   "id": "0ea362ed",
=======
   "id": "d8b19abc",
>>>>>>> documentation-devel
||||||| 804edffb
<<<<<<< HEAD
<<<<<<< HEAD
<<<<<<< HEAD
   "id": "99227d3f",
||||||| 6a30bf1
   "id": "a5dc6b23",
=======
   "id": "152d56b1",
>>>>>>> documentation-devel
||||||| d28b18c
   "id": "152d56b1",
=======
   "id": "0ea362ed",
>>>>>>> documentation-devel
||||||| 6893f63
<<<<<<< HEAD
   "id": "99227d3f",
||||||| 6a30bf1
   "id": "a5dc6b23",
=======
   "id": "152d56b1",
>>>>>>> documentation-devel
=======
   "id": "8a3e34c2",
>>>>>>> c74c98c2450c2a1ba922ed9442f136238d6bc88b
=======
   "id": "96e761f1",
>>>>>>> 035bb2637984ead2784fecff78c0c60cc4181202
||||||| 3effdfa5
   "id": "d8b19abc",
=======
   "id": "32a027a2",
>>>>>>> documentation-devel
||||||| 96c826da
<<<<<<< HEAD
<<<<<<< HEAD
<<<<<<< HEAD
<<<<<<< HEAD
<<<<<<< HEAD
   "id": "99227d3f",
||||||| 6a30bf1
   "id": "a5dc6b23",
=======
   "id": "152d56b1",
>>>>>>> documentation-devel
||||||| d28b18c
   "id": "152d56b1",
=======
   "id": "0ea362ed",
>>>>>>> documentation-devel
||||||| 6893f63
<<<<<<< HEAD
   "id": "99227d3f",
||||||| 6a30bf1
   "id": "a5dc6b23",
=======
   "id": "152d56b1",
>>>>>>> documentation-devel
=======
   "id": "8a3e34c2",
>>>>>>> c74c98c2450c2a1ba922ed9442f136238d6bc88b
||||||| 6d93b645
   "id": "0ea362ed",
=======
   "id": "d8b19abc",
>>>>>>> documentation-devel
||||||| 804edffb
<<<<<<< HEAD
<<<<<<< HEAD
<<<<<<< HEAD
   "id": "99227d3f",
||||||| 6a30bf1
   "id": "a5dc6b23",
=======
   "id": "152d56b1",
>>>>>>> documentation-devel
||||||| d28b18c
   "id": "152d56b1",
=======
   "id": "0ea362ed",
>>>>>>> documentation-devel
||||||| 6893f63
<<<<<<< HEAD
   "id": "99227d3f",
||||||| 6a30bf1
   "id": "a5dc6b23",
=======
   "id": "152d56b1",
>>>>>>> documentation-devel
=======
   "id": "8a3e34c2",
>>>>>>> c74c98c2450c2a1ba922ed9442f136238d6bc88b
=======
   "id": "96e761f1",
>>>>>>> 035bb2637984ead2784fecff78c0c60cc4181202
=======
   "id": "fdb3dba5",
>>>>>>> 619c01f26351d57ac14d974b7af136ac5756103f
   "metadata": {},
   "outputs": [],
   "source": [
    "nb <- poly2nb(df_binned)\n",
    "listw <- nb2listw(nb, zero.policy = TRUE)"
   ]
  },
  {
   "cell_type": "code",
   "execution_count": null,
<<<<<<< HEAD
<<<<<<< HEAD
<<<<<<< HEAD
<<<<<<< HEAD
<<<<<<< HEAD
<<<<<<< HEAD
<<<<<<< HEAD
   "id": "92f1c5a0",
||||||| 6a30bf1
   "id": "2780a309",
=======
   "id": "11e81548",
>>>>>>> documentation-devel
||||||| d28b18c
   "id": "11e81548",
=======
   "id": "1ade3c35",
>>>>>>> documentation-devel
||||||| 6893f63
<<<<<<< HEAD
   "id": "92f1c5a0",
||||||| 6a30bf1
   "id": "2780a309",
=======
   "id": "11e81548",
>>>>>>> documentation-devel
=======
   "id": "10903b97",
>>>>>>> c74c98c2450c2a1ba922ed9442f136238d6bc88b
||||||| 6d93b645
   "id": "1ade3c35",
=======
   "id": "43271a08",
>>>>>>> documentation-devel
||||||| 804edffb
<<<<<<< HEAD
<<<<<<< HEAD
<<<<<<< HEAD
   "id": "92f1c5a0",
||||||| 6a30bf1
   "id": "2780a309",
=======
   "id": "11e81548",
>>>>>>> documentation-devel
||||||| d28b18c
   "id": "11e81548",
=======
   "id": "1ade3c35",
>>>>>>> documentation-devel
||||||| 6893f63
<<<<<<< HEAD
   "id": "92f1c5a0",
||||||| 6a30bf1
   "id": "2780a309",
=======
   "id": "11e81548",
>>>>>>> documentation-devel
=======
   "id": "10903b97",
>>>>>>> c74c98c2450c2a1ba922ed9442f136238d6bc88b
=======
   "id": "d44ee939",
>>>>>>> 035bb2637984ead2784fecff78c0c60cc4181202
||||||| 3effdfa5
   "id": "43271a08",
=======
   "id": "84272222",
>>>>>>> documentation-devel
||||||| 96c826da
<<<<<<< HEAD
<<<<<<< HEAD
<<<<<<< HEAD
<<<<<<< HEAD
<<<<<<< HEAD
   "id": "92f1c5a0",
||||||| 6a30bf1
   "id": "2780a309",
=======
   "id": "11e81548",
>>>>>>> documentation-devel
||||||| d28b18c
   "id": "11e81548",
=======
   "id": "1ade3c35",
>>>>>>> documentation-devel
||||||| 6893f63
<<<<<<< HEAD
   "id": "92f1c5a0",
||||||| 6a30bf1
   "id": "2780a309",
=======
   "id": "11e81548",
>>>>>>> documentation-devel
=======
   "id": "10903b97",
>>>>>>> c74c98c2450c2a1ba922ed9442f136238d6bc88b
||||||| 6d93b645
   "id": "1ade3c35",
=======
   "id": "43271a08",
>>>>>>> documentation-devel
||||||| 804edffb
<<<<<<< HEAD
<<<<<<< HEAD
<<<<<<< HEAD
   "id": "92f1c5a0",
||||||| 6a30bf1
   "id": "2780a309",
=======
   "id": "11e81548",
>>>>>>> documentation-devel
||||||| d28b18c
   "id": "11e81548",
=======
   "id": "1ade3c35",
>>>>>>> documentation-devel
||||||| 6893f63
<<<<<<< HEAD
   "id": "92f1c5a0",
||||||| 6a30bf1
   "id": "2780a309",
=======
   "id": "11e81548",
>>>>>>> documentation-devel
=======
   "id": "10903b97",
>>>>>>> c74c98c2450c2a1ba922ed9442f136238d6bc88b
=======
   "id": "d44ee939",
>>>>>>> 035bb2637984ead2784fecff78c0c60cc4181202
=======
   "id": "157dfbb1",
>>>>>>> 619c01f26351d57ac14d974b7af136ac5756103f
   "metadata": {},
   "outputs": [],
   "source": [
    "calculateMoransI(t(as.matrix(st_drop_geometry(df_binned[,c(\"nCounts\", \"nGenes\", \"volume\")]))),\n",
    "                 listw = listw, zero.policy = TRUE)"
   ]
  },
  {
   "cell_type": "markdown",
<<<<<<< HEAD
<<<<<<< HEAD
<<<<<<< HEAD
<<<<<<< HEAD
<<<<<<< HEAD
<<<<<<< HEAD
<<<<<<< HEAD
   "id": "e7960ab0",
||||||| 6a30bf1
   "id": "699a2848",
=======
   "id": "bc807049",
>>>>>>> documentation-devel
||||||| d28b18c
   "id": "bc807049",
=======
   "id": "d9a9bd8f",
>>>>>>> documentation-devel
||||||| 6893f63
<<<<<<< HEAD
   "id": "e7960ab0",
||||||| 6a30bf1
   "id": "699a2848",
=======
   "id": "bc807049",
>>>>>>> documentation-devel
=======
   "id": "62cb6615",
>>>>>>> c74c98c2450c2a1ba922ed9442f136238d6bc88b
||||||| 6d93b645
   "id": "d9a9bd8f",
=======
   "id": "a960512f",
>>>>>>> documentation-devel
||||||| 804edffb
<<<<<<< HEAD
<<<<<<< HEAD
<<<<<<< HEAD
   "id": "e7960ab0",
||||||| 6a30bf1
   "id": "699a2848",
=======
   "id": "bc807049",
>>>>>>> documentation-devel
||||||| d28b18c
   "id": "bc807049",
=======
   "id": "d9a9bd8f",
>>>>>>> documentation-devel
||||||| 6893f63
<<<<<<< HEAD
   "id": "e7960ab0",
||||||| 6a30bf1
   "id": "699a2848",
=======
   "id": "bc807049",
>>>>>>> documentation-devel
=======
   "id": "62cb6615",
>>>>>>> c74c98c2450c2a1ba922ed9442f136238d6bc88b
=======
   "id": "b34ec80f",
>>>>>>> 035bb2637984ead2784fecff78c0c60cc4181202
||||||| 3effdfa5
   "id": "a960512f",
=======
   "id": "3cc65204",
>>>>>>> documentation-devel
||||||| 96c826da
<<<<<<< HEAD
<<<<<<< HEAD
<<<<<<< HEAD
<<<<<<< HEAD
<<<<<<< HEAD
   "id": "e7960ab0",
||||||| 6a30bf1
   "id": "699a2848",
=======
   "id": "bc807049",
>>>>>>> documentation-devel
||||||| d28b18c
   "id": "bc807049",
=======
   "id": "d9a9bd8f",
>>>>>>> documentation-devel
||||||| 6893f63
<<<<<<< HEAD
   "id": "e7960ab0",
||||||| 6a30bf1
   "id": "699a2848",
=======
   "id": "bc807049",
>>>>>>> documentation-devel
=======
   "id": "62cb6615",
>>>>>>> c74c98c2450c2a1ba922ed9442f136238d6bc88b
||||||| 6d93b645
   "id": "d9a9bd8f",
=======
   "id": "a960512f",
>>>>>>> documentation-devel
||||||| 804edffb
<<<<<<< HEAD
<<<<<<< HEAD
<<<<<<< HEAD
   "id": "e7960ab0",
||||||| 6a30bf1
   "id": "699a2848",
=======
   "id": "bc807049",
>>>>>>> documentation-devel
||||||| d28b18c
   "id": "bc807049",
=======
   "id": "d9a9bd8f",
>>>>>>> documentation-devel
||||||| 6893f63
<<<<<<< HEAD
   "id": "e7960ab0",
||||||| 6a30bf1
   "id": "699a2848",
=======
   "id": "bc807049",
>>>>>>> documentation-devel
=======
   "id": "62cb6615",
>>>>>>> c74c98c2450c2a1ba922ed9442f136238d6bc88b
=======
   "id": "b34ec80f",
>>>>>>> 035bb2637984ead2784fecff78c0c60cc4181202
=======
   "id": "f089d825",
>>>>>>> 619c01f26351d57ac14d974b7af136ac5756103f
   "metadata": {},
   "source": [
    "At a larger length scale, Moran's I becomes positive. Comparing Moran's I across different sized bins can give a sense of the length scale of spatial autocorrelation. However, there are problems with binning to watch out for:\n",
    "\n",
    "1. Edge effect, especially when using the sum when binning\n",
    "2. Which function to use to aggregate the values when binning\n",
    "3. When using a rectangular grid, whether to use rook or queen neighbors. Rook means two cells are neighbors if they share an edge, while queen means they are neighbors even if they merely share a vertex. \n",
    "\n",
    "While binning can greatly speed up computation of spatial autocorrelation metrics for larger datasets, and is in fact used for Moran's I in Seurat, it can be used for smaller datasets to find length scales of spatial autocorrelation. On the other hand, as seen here, Moran's I can flip signs at different length scales, so for larger datasets, exploring spatial autocorrelation at the cell level would still be interesting.\n",
    "\n",
    "## Semivariogram\n",
    "In geostatistical data, an underlying spatial process is sampled at known locations. Kriging uses a Gaussian process to interpolate the values between the sample locations, and the semivariogram is used to model the spatial dependency between the locations as the covariance of the Gaussian process. When not kriging, the semivariogram can be used as an exploratory data analysis tool to find the length scale and anisotropy of spatial autocorrelation. One of the classic R packages in the geostatistical tradition is [`gstat`](https://cran.r-project.org/web/packages/gstat/index.html), which we use here to find semivariograms, defined as\n",
    "\n",
    "$$\n",
    "\\gamma(t) = \\frac 1 2 \\mathrm{Var}(X_t - X_0),\n",
    "$$\n",
    "\n",
    "where $X$ is the value such as gene expression, and $t$ is a spatial vector. $X_0$ is the value at a location of interest, and $X_t$ is the value lagged by $t$. With positive spatial autocorrelation, the variance would be smaller among nearby values, so the variogram would increase with distance, eventually leveling off when the distance is beyond the length scale of spatial autocorrelation. The \"semi\" comes from the 1/2.\n",
    "\n",
    "In the next release of Voyager, this will be part of `runUnivariate()` so the learning curve for users will be minimal.\n",
    "\n",
    "First we find an empirical variogram assuming that it's the same in all directions. Here the data is binned at distance intervals, so this is much faster than the correlogram at the cell level. The `width` argument controlls the bin size. The `cutoff` argument is the maximum distance to consider. Here we use the defaults. The first argument is a formula; covariates can be specified, but is not done here.\n",
    "\n",
    "With different widths and cutoffs, the variogram can be estimated at different length scales. The `gstat` package can also fit a model to the empirical variogram. See `vgm()` for the different types of models. The [`automap`](https://cran.r-project.org/web/packages/automap/) package can choose a model for the user, and is used here. \n",
    "\n",
    "Unfortunately, `gstat` doesn't scale to 400,000 cells, although it worked for 100,000 cells in the other smFISH-based datasets on this website. But since the variogram is used to explore larger length scales here anyway, we use the binned data here, but the problems with binning will apply."
   ]
  },
  {
   "cell_type": "code",
   "execution_count": null,
<<<<<<< HEAD
<<<<<<< HEAD
<<<<<<< HEAD
<<<<<<< HEAD
<<<<<<< HEAD
<<<<<<< HEAD
<<<<<<< HEAD
   "id": "762a2ac0",
||||||| 6a30bf1
   "id": "9d13bc50",
=======
   "id": "dd1ddf8c",
>>>>>>> documentation-devel
||||||| d28b18c
   "id": "dd1ddf8c",
=======
   "id": "0e3ceae8",
>>>>>>> documentation-devel
||||||| 6893f63
<<<<<<< HEAD
   "id": "762a2ac0",
||||||| 6a30bf1
   "id": "9d13bc50",
=======
   "id": "dd1ddf8c",
>>>>>>> documentation-devel
=======
   "id": "1a1825c2",
>>>>>>> c74c98c2450c2a1ba922ed9442f136238d6bc88b
||||||| 6d93b645
   "id": "0e3ceae8",
=======
   "id": "005eb6d5",
>>>>>>> documentation-devel
||||||| 804edffb
<<<<<<< HEAD
<<<<<<< HEAD
<<<<<<< HEAD
   "id": "762a2ac0",
||||||| 6a30bf1
   "id": "9d13bc50",
=======
   "id": "dd1ddf8c",
>>>>>>> documentation-devel
||||||| d28b18c
   "id": "dd1ddf8c",
=======
   "id": "0e3ceae8",
>>>>>>> documentation-devel
||||||| 6893f63
<<<<<<< HEAD
   "id": "762a2ac0",
||||||| 6a30bf1
   "id": "9d13bc50",
=======
   "id": "dd1ddf8c",
>>>>>>> documentation-devel
=======
   "id": "1a1825c2",
>>>>>>> c74c98c2450c2a1ba922ed9442f136238d6bc88b
=======
   "id": "12c12fd6",
>>>>>>> 035bb2637984ead2784fecff78c0c60cc4181202
||||||| 3effdfa5
   "id": "005eb6d5",
=======
   "id": "5fb3ff00",
>>>>>>> documentation-devel
||||||| 96c826da
<<<<<<< HEAD
<<<<<<< HEAD
<<<<<<< HEAD
<<<<<<< HEAD
<<<<<<< HEAD
   "id": "762a2ac0",
||||||| 6a30bf1
   "id": "9d13bc50",
=======
   "id": "dd1ddf8c",
>>>>>>> documentation-devel
||||||| d28b18c
   "id": "dd1ddf8c",
=======
   "id": "0e3ceae8",
>>>>>>> documentation-devel
||||||| 6893f63
<<<<<<< HEAD
   "id": "762a2ac0",
||||||| 6a30bf1
   "id": "9d13bc50",
=======
   "id": "dd1ddf8c",
>>>>>>> documentation-devel
=======
   "id": "1a1825c2",
>>>>>>> c74c98c2450c2a1ba922ed9442f136238d6bc88b
||||||| 6d93b645
   "id": "0e3ceae8",
=======
   "id": "005eb6d5",
>>>>>>> documentation-devel
||||||| 804edffb
<<<<<<< HEAD
<<<<<<< HEAD
<<<<<<< HEAD
   "id": "762a2ac0",
||||||| 6a30bf1
   "id": "9d13bc50",
=======
   "id": "dd1ddf8c",
>>>>>>> documentation-devel
||||||| d28b18c
   "id": "dd1ddf8c",
=======
   "id": "0e3ceae8",
>>>>>>> documentation-devel
||||||| 6893f63
<<<<<<< HEAD
   "id": "762a2ac0",
||||||| 6a30bf1
   "id": "9d13bc50",
=======
   "id": "dd1ddf8c",
>>>>>>> documentation-devel
=======
   "id": "1a1825c2",
>>>>>>> c74c98c2450c2a1ba922ed9442f136238d6bc88b
=======
   "id": "12c12fd6",
>>>>>>> 035bb2637984ead2784fecff78c0c60cc4181202
=======
   "id": "f6cda5cc",
>>>>>>> 619c01f26351d57ac14d974b7af136ac5756103f
   "metadata": {
    "warning": false
   },
   "outputs": [],
   "source": [
    "# as_Spatial since automap uses old fashioned sp, the predecessor of sf\n",
    "v <- autofitVariogram(nCounts ~ 1, as_Spatial(df_binned))\n",
    "plot(v)"
   ]
  },
  {
   "cell_type": "markdown",
<<<<<<< HEAD
<<<<<<< HEAD
<<<<<<< HEAD
<<<<<<< HEAD
<<<<<<< HEAD
<<<<<<< HEAD
<<<<<<< HEAD
   "id": "4c356924",
||||||| 6a30bf1
   "id": "d993567f",
=======
   "id": "69f480d4",
>>>>>>> documentation-devel
||||||| d28b18c
   "id": "69f480d4",
=======
   "id": "94419335",
>>>>>>> documentation-devel
||||||| 6893f63
<<<<<<< HEAD
   "id": "4c356924",
||||||| 6a30bf1
   "id": "d993567f",
=======
   "id": "69f480d4",
>>>>>>> documentation-devel
=======
   "id": "6ca1bc92",
>>>>>>> c74c98c2450c2a1ba922ed9442f136238d6bc88b
||||||| 6d93b645
   "id": "94419335",
=======
   "id": "18aa67a8",
>>>>>>> documentation-devel
||||||| 804edffb
<<<<<<< HEAD
<<<<<<< HEAD
<<<<<<< HEAD
   "id": "4c356924",
||||||| 6a30bf1
   "id": "d993567f",
=======
   "id": "69f480d4",
>>>>>>> documentation-devel
||||||| d28b18c
   "id": "69f480d4",
=======
   "id": "94419335",
>>>>>>> documentation-devel
||||||| 6893f63
<<<<<<< HEAD
   "id": "4c356924",
||||||| 6a30bf1
   "id": "d993567f",
=======
   "id": "69f480d4",
>>>>>>> documentation-devel
=======
   "id": "6ca1bc92",
>>>>>>> c74c98c2450c2a1ba922ed9442f136238d6bc88b
=======
   "id": "c0dcbf3e",
>>>>>>> 035bb2637984ead2784fecff78c0c60cc4181202
||||||| 3effdfa5
   "id": "18aa67a8",
=======
   "id": "847a2dfb",
>>>>>>> documentation-devel
||||||| 96c826da
<<<<<<< HEAD
<<<<<<< HEAD
<<<<<<< HEAD
<<<<<<< HEAD
<<<<<<< HEAD
   "id": "4c356924",
||||||| 6a30bf1
   "id": "d993567f",
=======
   "id": "69f480d4",
>>>>>>> documentation-devel
||||||| d28b18c
   "id": "69f480d4",
=======
   "id": "94419335",
>>>>>>> documentation-devel
||||||| 6893f63
<<<<<<< HEAD
   "id": "4c356924",
||||||| 6a30bf1
   "id": "d993567f",
=======
   "id": "69f480d4",
>>>>>>> documentation-devel
=======
   "id": "6ca1bc92",
>>>>>>> c74c98c2450c2a1ba922ed9442f136238d6bc88b
||||||| 6d93b645
   "id": "94419335",
=======
   "id": "18aa67a8",
>>>>>>> documentation-devel
||||||| 804edffb
<<<<<<< HEAD
<<<<<<< HEAD
<<<<<<< HEAD
   "id": "4c356924",
||||||| 6a30bf1
   "id": "d993567f",
=======
   "id": "69f480d4",
>>>>>>> documentation-devel
||||||| d28b18c
   "id": "69f480d4",
=======
   "id": "94419335",
>>>>>>> documentation-devel
||||||| 6893f63
<<<<<<< HEAD
   "id": "4c356924",
||||||| 6a30bf1
   "id": "d993567f",
=======
   "id": "69f480d4",
>>>>>>> documentation-devel
=======
   "id": "6ca1bc92",
>>>>>>> c74c98c2450c2a1ba922ed9442f136238d6bc88b
=======
   "id": "c0dcbf3e",
>>>>>>> 035bb2637984ead2784fecff78c0c60cc4181202
=======
   "id": "7d9fdcc3",
>>>>>>> 619c01f26351d57ac14d974b7af136ac5756103f
   "metadata": {
    "lines_to_next_cell": 0
   },
   "source": [
    "The numbers in this plot are the number of pairs in each distance bin. The variogram is not 0 at 0 distance; this is the variance within the bin size, called the nugget. The variogram levels off at greater distance, and the value of the variogram where is levels off is the sill. Range is where the variogram is leveling off, indicating length scale of spatial autocorrelation; the range from visual inspection appears closer to 1000 while the model somehow indicates 423. \n",
    "\n",
    "A variogram map can be made to see how spatial autocorrelation may differ in different directions, i.e. anisotropy"
   ]
  },
  {
   "cell_type": "code",
   "execution_count": null,
<<<<<<< HEAD
<<<<<<< HEAD
<<<<<<< HEAD
<<<<<<< HEAD
<<<<<<< HEAD
<<<<<<< HEAD
<<<<<<< HEAD
   "id": "c20b2748",
||||||| 6a30bf1
   "id": "5c6f798c",
=======
   "id": "2da6a10e",
>>>>>>> documentation-devel
||||||| d28b18c
   "id": "2da6a10e",
=======
   "id": "2f6a8621",
>>>>>>> documentation-devel
||||||| 6893f63
<<<<<<< HEAD
   "id": "c20b2748",
||||||| 6a30bf1
   "id": "5c6f798c",
=======
   "id": "2da6a10e",
>>>>>>> documentation-devel
=======
   "id": "2f6484b3",
>>>>>>> c74c98c2450c2a1ba922ed9442f136238d6bc88b
||||||| 6d93b645
   "id": "2f6a8621",
=======
   "id": "ac609c67",
>>>>>>> documentation-devel
||||||| 804edffb
<<<<<<< HEAD
<<<<<<< HEAD
<<<<<<< HEAD
   "id": "c20b2748",
||||||| 6a30bf1
   "id": "5c6f798c",
=======
   "id": "2da6a10e",
>>>>>>> documentation-devel
||||||| d28b18c
   "id": "2da6a10e",
=======
   "id": "2f6a8621",
>>>>>>> documentation-devel
||||||| 6893f63
<<<<<<< HEAD
   "id": "c20b2748",
||||||| 6a30bf1
   "id": "5c6f798c",
=======
   "id": "2da6a10e",
>>>>>>> documentation-devel
=======
   "id": "2f6484b3",
>>>>>>> c74c98c2450c2a1ba922ed9442f136238d6bc88b
=======
   "id": "2a7c4146",
>>>>>>> 035bb2637984ead2784fecff78c0c60cc4181202
||||||| 3effdfa5
   "id": "ac609c67",
=======
   "id": "2c524d41",
>>>>>>> documentation-devel
||||||| 96c826da
<<<<<<< HEAD
<<<<<<< HEAD
<<<<<<< HEAD
<<<<<<< HEAD
<<<<<<< HEAD
   "id": "c20b2748",
||||||| 6a30bf1
   "id": "5c6f798c",
=======
   "id": "2da6a10e",
>>>>>>> documentation-devel
||||||| d28b18c
   "id": "2da6a10e",
=======
   "id": "2f6a8621",
>>>>>>> documentation-devel
||||||| 6893f63
<<<<<<< HEAD
   "id": "c20b2748",
||||||| 6a30bf1
   "id": "5c6f798c",
=======
   "id": "2da6a10e",
>>>>>>> documentation-devel
=======
   "id": "2f6484b3",
>>>>>>> c74c98c2450c2a1ba922ed9442f136238d6bc88b
||||||| 6d93b645
   "id": "2f6a8621",
=======
   "id": "ac609c67",
>>>>>>> documentation-devel
||||||| 804edffb
<<<<<<< HEAD
<<<<<<< HEAD
<<<<<<< HEAD
   "id": "c20b2748",
||||||| 6a30bf1
   "id": "5c6f798c",
=======
   "id": "2da6a10e",
>>>>>>> documentation-devel
||||||| d28b18c
   "id": "2da6a10e",
=======
   "id": "2f6a8621",
>>>>>>> documentation-devel
||||||| 6893f63
<<<<<<< HEAD
   "id": "c20b2748",
||||||| 6a30bf1
   "id": "5c6f798c",
=======
   "id": "2da6a10e",
>>>>>>> documentation-devel
=======
   "id": "2f6484b3",
>>>>>>> c74c98c2450c2a1ba922ed9442f136238d6bc88b
=======
   "id": "2a7c4146",
>>>>>>> 035bb2637984ead2784fecff78c0c60cc4181202
=======
   "id": "1bf675ae",
>>>>>>> 619c01f26351d57ac14d974b7af136ac5756103f
   "metadata": {},
   "outputs": [],
   "source": [
    "v2 <- variogram(nCounts ~ 1, data = df_binned, width = 300, cutoff = 4500, map = TRUE)\n",
    "plot(v2)"
   ]
  },
  {
   "cell_type": "markdown",
<<<<<<< HEAD
<<<<<<< HEAD
<<<<<<< HEAD
<<<<<<< HEAD
<<<<<<< HEAD
<<<<<<< HEAD
<<<<<<< HEAD
   "id": "5782abda",
||||||| 6a30bf1
   "id": "f81a03cb",
=======
   "id": "e1be721b",
>>>>>>> documentation-devel
||||||| d28b18c
   "id": "e1be721b",
=======
   "id": "4ed9029b",
>>>>>>> documentation-devel
||||||| 6893f63
<<<<<<< HEAD
   "id": "5782abda",
||||||| 6a30bf1
   "id": "f81a03cb",
=======
   "id": "e1be721b",
>>>>>>> documentation-devel
=======
   "id": "ff6510fe",
>>>>>>> c74c98c2450c2a1ba922ed9442f136238d6bc88b
||||||| 6d93b645
   "id": "4ed9029b",
=======
   "id": "11992327",
>>>>>>> documentation-devel
||||||| 804edffb
<<<<<<< HEAD
<<<<<<< HEAD
<<<<<<< HEAD
   "id": "5782abda",
||||||| 6a30bf1
   "id": "f81a03cb",
=======
   "id": "e1be721b",
>>>>>>> documentation-devel
||||||| d28b18c
   "id": "e1be721b",
=======
   "id": "4ed9029b",
>>>>>>> documentation-devel
||||||| 6893f63
<<<<<<< HEAD
   "id": "5782abda",
||||||| 6a30bf1
   "id": "f81a03cb",
=======
   "id": "e1be721b",
>>>>>>> documentation-devel
=======
   "id": "ff6510fe",
>>>>>>> c74c98c2450c2a1ba922ed9442f136238d6bc88b
=======
   "id": "37765d99",
>>>>>>> 035bb2637984ead2784fecff78c0c60cc4181202
||||||| 3effdfa5
   "id": "11992327",
=======
   "id": "3edcd824",
>>>>>>> documentation-devel
||||||| 96c826da
<<<<<<< HEAD
<<<<<<< HEAD
<<<<<<< HEAD
<<<<<<< HEAD
<<<<<<< HEAD
   "id": "5782abda",
||||||| 6a30bf1
   "id": "f81a03cb",
=======
   "id": "e1be721b",
>>>>>>> documentation-devel
||||||| d28b18c
   "id": "e1be721b",
=======
   "id": "4ed9029b",
>>>>>>> documentation-devel
||||||| 6893f63
<<<<<<< HEAD
   "id": "5782abda",
||||||| 6a30bf1
   "id": "f81a03cb",
=======
   "id": "e1be721b",
>>>>>>> documentation-devel
=======
   "id": "ff6510fe",
>>>>>>> c74c98c2450c2a1ba922ed9442f136238d6bc88b
||||||| 6d93b645
   "id": "4ed9029b",
=======
   "id": "11992327",
>>>>>>> documentation-devel
||||||| 804edffb
<<<<<<< HEAD
<<<<<<< HEAD
<<<<<<< HEAD
   "id": "5782abda",
||||||| 6a30bf1
   "id": "f81a03cb",
=======
   "id": "e1be721b",
>>>>>>> documentation-devel
||||||| d28b18c
   "id": "e1be721b",
=======
   "id": "4ed9029b",
>>>>>>> documentation-devel
||||||| 6893f63
<<<<<<< HEAD
   "id": "5782abda",
||||||| 6a30bf1
   "id": "f81a03cb",
=======
   "id": "e1be721b",
>>>>>>> documentation-devel
=======
   "id": "ff6510fe",
>>>>>>> c74c98c2450c2a1ba922ed9442f136238d6bc88b
=======
   "id": "37765d99",
>>>>>>> 035bb2637984ead2784fecff78c0c60cc4181202
=======
   "id": "2fe1cf54",
>>>>>>> 619c01f26351d57ac14d974b7af136ac5756103f
   "metadata": {
    "lines_to_next_cell": 0
   },
   "source": [
    "Here apparently there's no anisotropy at shorter length scales, but there may be some artifact from the hexagonal bins. Going beyond 2000 (whatever unit), the variance drops at the northwest and southeast direction but not in other directions, perhaps related to the repetitiveness of the hepatic lobules and the general NE/SW direction of the blood vessels seen in the previous plots. \n",
    "\n",
    "The variogram can also be calculated at specified angles, here selected as sides of the hexagon:"
   ]
  },
  {
   "cell_type": "code",
   "execution_count": null,
<<<<<<< HEAD
<<<<<<< HEAD
<<<<<<< HEAD
<<<<<<< HEAD
<<<<<<< HEAD
<<<<<<< HEAD
<<<<<<< HEAD
   "id": "28949bb7",
||||||| 6a30bf1
   "id": "98d191ff",
=======
   "id": "d8f53ae4",
>>>>>>> documentation-devel
||||||| d28b18c
   "id": "d8f53ae4",
=======
   "id": "a47197f4",
>>>>>>> documentation-devel
||||||| 6893f63
<<<<<<< HEAD
   "id": "28949bb7",
||||||| 6a30bf1
   "id": "98d191ff",
=======
   "id": "d8f53ae4",
>>>>>>> documentation-devel
=======
   "id": "314f0dc1",
>>>>>>> c74c98c2450c2a1ba922ed9442f136238d6bc88b
||||||| 6d93b645
   "id": "a47197f4",
=======
   "id": "32fd07eb",
>>>>>>> documentation-devel
||||||| 804edffb
<<<<<<< HEAD
<<<<<<< HEAD
<<<<<<< HEAD
   "id": "28949bb7",
||||||| 6a30bf1
   "id": "98d191ff",
=======
   "id": "d8f53ae4",
>>>>>>> documentation-devel
||||||| d28b18c
   "id": "d8f53ae4",
=======
   "id": "a47197f4",
>>>>>>> documentation-devel
||||||| 6893f63
<<<<<<< HEAD
   "id": "28949bb7",
||||||| 6a30bf1
   "id": "98d191ff",
=======
   "id": "d8f53ae4",
>>>>>>> documentation-devel
=======
   "id": "314f0dc1",
>>>>>>> c74c98c2450c2a1ba922ed9442f136238d6bc88b
=======
   "id": "9fbe96e4",
>>>>>>> 035bb2637984ead2784fecff78c0c60cc4181202
||||||| 3effdfa5
   "id": "32fd07eb",
=======
   "id": "911e68c7",
>>>>>>> documentation-devel
||||||| 96c826da
<<<<<<< HEAD
<<<<<<< HEAD
<<<<<<< HEAD
<<<<<<< HEAD
<<<<<<< HEAD
   "id": "28949bb7",
||||||| 6a30bf1
   "id": "98d191ff",
=======
   "id": "d8f53ae4",
>>>>>>> documentation-devel
||||||| d28b18c
   "id": "d8f53ae4",
=======
   "id": "a47197f4",
>>>>>>> documentation-devel
||||||| 6893f63
<<<<<<< HEAD
   "id": "28949bb7",
||||||| 6a30bf1
   "id": "98d191ff",
=======
   "id": "d8f53ae4",
>>>>>>> documentation-devel
=======
   "id": "314f0dc1",
>>>>>>> c74c98c2450c2a1ba922ed9442f136238d6bc88b
||||||| 6d93b645
   "id": "a47197f4",
=======
   "id": "32fd07eb",
>>>>>>> documentation-devel
||||||| 804edffb
<<<<<<< HEAD
<<<<<<< HEAD
<<<<<<< HEAD
   "id": "28949bb7",
||||||| 6a30bf1
   "id": "98d191ff",
=======
   "id": "d8f53ae4",
>>>>>>> documentation-devel
||||||| d28b18c
   "id": "d8f53ae4",
=======
   "id": "a47197f4",
>>>>>>> documentation-devel
||||||| 6893f63
<<<<<<< HEAD
   "id": "28949bb7",
||||||| 6a30bf1
   "id": "98d191ff",
=======
   "id": "d8f53ae4",
>>>>>>> documentation-devel
=======
   "id": "314f0dc1",
>>>>>>> c74c98c2450c2a1ba922ed9442f136238d6bc88b
=======
   "id": "9fbe96e4",
>>>>>>> 035bb2637984ead2784fecff78c0c60cc4181202
=======
   "id": "98332569",
>>>>>>> 619c01f26351d57ac14d974b7af136ac5756103f
   "metadata": {},
   "outputs": [],
   "source": [
    "v3 <- variogram(nCounts ~ 1, df_binned, alpha = c(30, 90, 150))\n",
    "v3_model <- fit.variogram(v3, vgm(\"Ste\"))\n",
    "plot(v3, v3_model)"
   ]
  },
  {
   "cell_type": "markdown",
<<<<<<< HEAD
<<<<<<< HEAD
<<<<<<< HEAD
<<<<<<< HEAD
<<<<<<< HEAD
<<<<<<< HEAD
<<<<<<< HEAD
   "id": "18e66159",
||||||| 6a30bf1
   "id": "cae6ceb6",
=======
   "id": "5c4bac43",
>>>>>>> documentation-devel
||||||| d28b18c
   "id": "5c4bac43",
=======
   "id": "e15593ab",
>>>>>>> documentation-devel
||||||| 6893f63
<<<<<<< HEAD
   "id": "18e66159",
||||||| 6a30bf1
   "id": "cae6ceb6",
=======
   "id": "5c4bac43",
>>>>>>> documentation-devel
=======
   "id": "b961a9bc",
>>>>>>> c74c98c2450c2a1ba922ed9442f136238d6bc88b
||||||| 6d93b645
   "id": "e15593ab",
=======
   "id": "b0847749",
>>>>>>> documentation-devel
||||||| 804edffb
<<<<<<< HEAD
<<<<<<< HEAD
<<<<<<< HEAD
   "id": "18e66159",
||||||| 6a30bf1
   "id": "cae6ceb6",
=======
   "id": "5c4bac43",
>>>>>>> documentation-devel
||||||| d28b18c
   "id": "5c4bac43",
=======
   "id": "e15593ab",
>>>>>>> documentation-devel
||||||| 6893f63
<<<<<<< HEAD
   "id": "18e66159",
||||||| 6a30bf1
   "id": "cae6ceb6",
=======
   "id": "5c4bac43",
>>>>>>> documentation-devel
=======
   "id": "b961a9bc",
>>>>>>> c74c98c2450c2a1ba922ed9442f136238d6bc88b
=======
   "id": "6c2c3049",
>>>>>>> 035bb2637984ead2784fecff78c0c60cc4181202
||||||| 3effdfa5
   "id": "b0847749",
=======
   "id": "3d8b4eb4",
>>>>>>> documentation-devel
||||||| 96c826da
<<<<<<< HEAD
<<<<<<< HEAD
<<<<<<< HEAD
<<<<<<< HEAD
<<<<<<< HEAD
   "id": "18e66159",
||||||| 6a30bf1
   "id": "cae6ceb6",
=======
   "id": "5c4bac43",
>>>>>>> documentation-devel
||||||| d28b18c
   "id": "5c4bac43",
=======
   "id": "e15593ab",
>>>>>>> documentation-devel
||||||| 6893f63
<<<<<<< HEAD
   "id": "18e66159",
||||||| 6a30bf1
   "id": "cae6ceb6",
=======
   "id": "5c4bac43",
>>>>>>> documentation-devel
=======
   "id": "b961a9bc",
>>>>>>> c74c98c2450c2a1ba922ed9442f136238d6bc88b
||||||| 6d93b645
   "id": "e15593ab",
=======
   "id": "b0847749",
>>>>>>> documentation-devel
||||||| 804edffb
<<<<<<< HEAD
<<<<<<< HEAD
<<<<<<< HEAD
   "id": "18e66159",
||||||| 6a30bf1
   "id": "cae6ceb6",
=======
   "id": "5c4bac43",
>>>>>>> documentation-devel
||||||| d28b18c
   "id": "5c4bac43",
=======
   "id": "e15593ab",
>>>>>>> documentation-devel
||||||| 6893f63
<<<<<<< HEAD
   "id": "18e66159",
||||||| 6a30bf1
   "id": "cae6ceb6",
=======
   "id": "5c4bac43",
>>>>>>> documentation-devel
=======
   "id": "b961a9bc",
>>>>>>> c74c98c2450c2a1ba922ed9442f136238d6bc88b
=======
   "id": "6c2c3049",
>>>>>>> 035bb2637984ead2784fecff78c0c60cc4181202
=======
   "id": "c475ed34",
>>>>>>> 619c01f26351d57ac14d974b7af136ac5756103f
   "metadata": {},
   "source": [
    "The variogram rises when going beyond 2000 at 30 and 90 degrees and drops at 150 degrees. This is consistent with the variogram map. These differences are averaged out in the omni-directional variogram. `gstat` does not fit anisotropy parameters, so the fitted curve is omni-directional. It fits pretty well below 2000. This is only for nCounts, and may differ for other QC metrics and genes. What if anisotropy varies in space? A problem with the variogram is that it's global, giving one result for the entire dataset, albeit more nuanced than just a number as in Moran's I, because kriging assumes that the data is intrinsically stationary, meaning that the same variogram model applies everywhere, and that spatial dependence only depends on lag between two observations.\n",
    "\n",
    "Voyager 1.2.0 implements `ggplot2` based plotting functions to make better looking and more customizable plots of the variograms for SFE objects. However, the binned data is not in an SFE object. We are considering writing a method to spatially bin all cell level data in an SFE object. Here `gstat` is using `lattice`, a predecessor of `ggplot2` to make facetted plots and has been superseded by `ggplot2`. `gstat` is one of the oldest R packages still on CRAN, dating back to the days of S (prequel of R), although its oldest archive on CRAN is from 2003. `spdep` is also really old; its oldest archive on CRAN is from 2002, but it's still in active development. In using these time honored packages and methods (Moran's I and Geary's C themselves date back to the 1950s and their modern form date back to 1969 [@Cliff1969-wp; @Bivand2013-jx]) on the cool new spatial transcriptomics dataset, we are participating in a glorious tradition, which we will further develop as a spatial analysis tradition forms around spatial -omics data analysis.\n",
    "\n",
    "# PCA for larger datasets\n",
    "There are many ways to do PCA in R, and the [`BiocSingular`](https://bioconductor.org/packages/release/bioc/html/BiocSingular.html) package makes a number of different methods available with a consistent user interface, and it supports out of memory data in `DelayedArray`. According to [this benchmark](https://slowkow.com/notes/pca-benchmark/), `stats::prcomp()` shipped with R is rather slow for larger datasets. The fastest methods are `irlba::irlba()` and `RSpectra::svds()`, and the former is supported by `BiocSingular`. So here we use IRLBA and see how long it takes. Many PCA algorithms involve repeated matrix multiplications. R does not come with optimized BLAS and LAPACK, for portability reasons. However, the BLAS and LAPACK used by R can be changed to an optimized one (here's [how to do it](https://cran.r-project.org/doc/manuals/r-release/R-admin.html#Shared-BLAS)), which will speed up matrix multiplication. "
   ]
  },
  {
   "cell_type": "code",
   "execution_count": null,
<<<<<<< HEAD
<<<<<<< HEAD
<<<<<<< HEAD
<<<<<<< HEAD
<<<<<<< HEAD
<<<<<<< HEAD
<<<<<<< HEAD
   "id": "bae9d94b",
||||||| 6a30bf1
   "id": "19f4d48e",
=======
   "id": "3bea01b0",
>>>>>>> documentation-devel
||||||| d28b18c
   "id": "3bea01b0",
=======
   "id": "f9d954dd",
>>>>>>> documentation-devel
||||||| 6893f63
<<<<<<< HEAD
   "id": "bae9d94b",
||||||| 6a30bf1
   "id": "19f4d48e",
=======
   "id": "3bea01b0",
>>>>>>> documentation-devel
=======
   "id": "3f8ee4a5",
>>>>>>> c74c98c2450c2a1ba922ed9442f136238d6bc88b
||||||| 6d93b645
   "id": "f9d954dd",
=======
   "id": "42abcc43",
>>>>>>> documentation-devel
||||||| 804edffb
<<<<<<< HEAD
<<<<<<< HEAD
<<<<<<< HEAD
   "id": "bae9d94b",
||||||| 6a30bf1
   "id": "19f4d48e",
=======
   "id": "3bea01b0",
>>>>>>> documentation-devel
||||||| d28b18c
   "id": "3bea01b0",
=======
   "id": "f9d954dd",
>>>>>>> documentation-devel
||||||| 6893f63
<<<<<<< HEAD
   "id": "bae9d94b",
||||||| 6a30bf1
   "id": "19f4d48e",
=======
   "id": "3bea01b0",
>>>>>>> documentation-devel
=======
   "id": "3f8ee4a5",
>>>>>>> c74c98c2450c2a1ba922ed9442f136238d6bc88b
=======
   "id": "51a922a2",
>>>>>>> 035bb2637984ead2784fecff78c0c60cc4181202
||||||| 3effdfa5
   "id": "42abcc43",
=======
   "id": "bf3fd2ed",
>>>>>>> documentation-devel
||||||| 96c826da
<<<<<<< HEAD
<<<<<<< HEAD
<<<<<<< HEAD
<<<<<<< HEAD
<<<<<<< HEAD
   "id": "bae9d94b",
||||||| 6a30bf1
   "id": "19f4d48e",
=======
   "id": "3bea01b0",
>>>>>>> documentation-devel
||||||| d28b18c
   "id": "3bea01b0",
=======
   "id": "f9d954dd",
>>>>>>> documentation-devel
||||||| 6893f63
<<<<<<< HEAD
   "id": "bae9d94b",
||||||| 6a30bf1
   "id": "19f4d48e",
=======
   "id": "3bea01b0",
>>>>>>> documentation-devel
=======
   "id": "3f8ee4a5",
>>>>>>> c74c98c2450c2a1ba922ed9442f136238d6bc88b
||||||| 6d93b645
   "id": "f9d954dd",
=======
   "id": "42abcc43",
>>>>>>> documentation-devel
||||||| 804edffb
<<<<<<< HEAD
<<<<<<< HEAD
<<<<<<< HEAD
   "id": "bae9d94b",
||||||| 6a30bf1
   "id": "19f4d48e",
=======
   "id": "3bea01b0",
>>>>>>> documentation-devel
||||||| d28b18c
   "id": "3bea01b0",
=======
   "id": "f9d954dd",
>>>>>>> documentation-devel
||||||| 6893f63
<<<<<<< HEAD
   "id": "bae9d94b",
||||||| 6a30bf1
   "id": "19f4d48e",
=======
   "id": "3bea01b0",
>>>>>>> documentation-devel
=======
   "id": "3f8ee4a5",
>>>>>>> c74c98c2450c2a1ba922ed9442f136238d6bc88b
=======
   "id": "51a922a2",
>>>>>>> 035bb2637984ead2784fecff78c0c60cc4181202
=======
   "id": "18d08817",
>>>>>>> 619c01f26351d57ac14d974b7af136ac5756103f
   "metadata": {},
   "outputs": [],
   "source": [
    "set.seed(29)\n",
    "system.time(\n",
    "    sfe <- runPCA(sfe, ncomponents = 20, subset_row = !is_blank,\n",
    "                  exprs_values = \"logcounts\",\n",
    "                  scale = TRUE, BSPARAM = IrlbaParam())\n",
    ")\n",
    "gc()"
   ]
  },
  {
   "cell_type": "markdown",
<<<<<<< HEAD
<<<<<<< HEAD
<<<<<<< HEAD
<<<<<<< HEAD
<<<<<<< HEAD
<<<<<<< HEAD
<<<<<<< HEAD
   "id": "8f60e6c8",
||||||| 6a30bf1
   "id": "27cca8d4",
=======
   "id": "26859f9c",
>>>>>>> documentation-devel
||||||| d28b18c
   "id": "26859f9c",
=======
   "id": "d8fc7638",
>>>>>>> documentation-devel
||||||| 6893f63
<<<<<<< HEAD
   "id": "8f60e6c8",
||||||| 6a30bf1
   "id": "27cca8d4",
=======
   "id": "26859f9c",
>>>>>>> documentation-devel
=======
   "id": "f0436c75",
>>>>>>> c74c98c2450c2a1ba922ed9442f136238d6bc88b
||||||| 6d93b645
   "id": "d8fc7638",
=======
   "id": "5da555bb",
>>>>>>> documentation-devel
||||||| 804edffb
<<<<<<< HEAD
<<<<<<< HEAD
<<<<<<< HEAD
   "id": "8f60e6c8",
||||||| 6a30bf1
   "id": "27cca8d4",
=======
   "id": "26859f9c",
>>>>>>> documentation-devel
||||||| d28b18c
   "id": "26859f9c",
=======
   "id": "d8fc7638",
>>>>>>> documentation-devel
||||||| 6893f63
<<<<<<< HEAD
   "id": "8f60e6c8",
||||||| 6a30bf1
   "id": "27cca8d4",
=======
   "id": "26859f9c",
>>>>>>> documentation-devel
=======
   "id": "f0436c75",
>>>>>>> c74c98c2450c2a1ba922ed9442f136238d6bc88b
=======
   "id": "de5ca6a4",
>>>>>>> 035bb2637984ead2784fecff78c0c60cc4181202
||||||| 3effdfa5
   "id": "5da555bb",
=======
   "id": "92cad370",
>>>>>>> documentation-devel
||||||| 96c826da
<<<<<<< HEAD
<<<<<<< HEAD
<<<<<<< HEAD
<<<<<<< HEAD
<<<<<<< HEAD
   "id": "8f60e6c8",
||||||| 6a30bf1
   "id": "27cca8d4",
=======
   "id": "26859f9c",
>>>>>>> documentation-devel
||||||| d28b18c
   "id": "26859f9c",
=======
   "id": "d8fc7638",
>>>>>>> documentation-devel
||||||| 6893f63
<<<<<<< HEAD
   "id": "8f60e6c8",
||||||| 6a30bf1
   "id": "27cca8d4",
=======
   "id": "26859f9c",
>>>>>>> documentation-devel
=======
   "id": "f0436c75",
>>>>>>> c74c98c2450c2a1ba922ed9442f136238d6bc88b
||||||| 6d93b645
   "id": "d8fc7638",
=======
   "id": "5da555bb",
>>>>>>> documentation-devel
||||||| 804edffb
<<<<<<< HEAD
<<<<<<< HEAD
<<<<<<< HEAD
   "id": "8f60e6c8",
||||||| 6a30bf1
   "id": "27cca8d4",
=======
   "id": "26859f9c",
>>>>>>> documentation-devel
||||||| d28b18c
   "id": "26859f9c",
=======
   "id": "d8fc7638",
>>>>>>> documentation-devel
||||||| 6893f63
<<<<<<< HEAD
   "id": "8f60e6c8",
||||||| 6a30bf1
   "id": "27cca8d4",
=======
   "id": "26859f9c",
>>>>>>> documentation-devel
=======
   "id": "f0436c75",
>>>>>>> c74c98c2450c2a1ba922ed9442f136238d6bc88b
=======
   "id": "de5ca6a4",
>>>>>>> 035bb2637984ead2784fecff78c0c60cc4181202
=======
   "id": "fda14ff9",
>>>>>>> 619c01f26351d57ac14d974b7af136ac5756103f
   "metadata": {},
   "source": [
    "That's pretty quick for almost 400,000 cells, but there aren't that many genes here. Use the elbow plot to see variance explained by each PC:"
   ]
  },
  {
   "cell_type": "code",
   "execution_count": null,
<<<<<<< HEAD
<<<<<<< HEAD
<<<<<<< HEAD
<<<<<<< HEAD
<<<<<<< HEAD
<<<<<<< HEAD
<<<<<<< HEAD
   "id": "8e1fa1a5",
||||||| 6a30bf1
   "id": "38b4e935",
=======
   "id": "20a93625",
>>>>>>> documentation-devel
||||||| d28b18c
   "id": "20a93625",
=======
   "id": "4929aaea",
>>>>>>> documentation-devel
||||||| 6893f63
<<<<<<< HEAD
   "id": "8e1fa1a5",
||||||| 6a30bf1
   "id": "38b4e935",
=======
   "id": "20a93625",
>>>>>>> documentation-devel
=======
   "id": "120f911f",
>>>>>>> c74c98c2450c2a1ba922ed9442f136238d6bc88b
||||||| 6d93b645
   "id": "4929aaea",
=======
   "id": "dade7657",
>>>>>>> documentation-devel
||||||| 804edffb
<<<<<<< HEAD
<<<<<<< HEAD
<<<<<<< HEAD
   "id": "8e1fa1a5",
||||||| 6a30bf1
   "id": "38b4e935",
=======
   "id": "20a93625",
>>>>>>> documentation-devel
||||||| d28b18c
   "id": "20a93625",
=======
   "id": "4929aaea",
>>>>>>> documentation-devel
||||||| 6893f63
<<<<<<< HEAD
   "id": "8e1fa1a5",
||||||| 6a30bf1
   "id": "38b4e935",
=======
   "id": "20a93625",
>>>>>>> documentation-devel
=======
   "id": "120f911f",
>>>>>>> c74c98c2450c2a1ba922ed9442f136238d6bc88b
=======
   "id": "cbd49989",
>>>>>>> 035bb2637984ead2784fecff78c0c60cc4181202
||||||| 3effdfa5
   "id": "dade7657",
=======
   "id": "6f56443b",
>>>>>>> documentation-devel
||||||| 96c826da
<<<<<<< HEAD
<<<<<<< HEAD
<<<<<<< HEAD
<<<<<<< HEAD
<<<<<<< HEAD
   "id": "8e1fa1a5",
||||||| 6a30bf1
   "id": "38b4e935",
=======
   "id": "20a93625",
>>>>>>> documentation-devel
||||||| d28b18c
   "id": "20a93625",
=======
   "id": "4929aaea",
>>>>>>> documentation-devel
||||||| 6893f63
<<<<<<< HEAD
   "id": "8e1fa1a5",
||||||| 6a30bf1
   "id": "38b4e935",
=======
   "id": "20a93625",
>>>>>>> documentation-devel
=======
   "id": "120f911f",
>>>>>>> c74c98c2450c2a1ba922ed9442f136238d6bc88b
||||||| 6d93b645
   "id": "4929aaea",
=======
   "id": "dade7657",
>>>>>>> documentation-devel
||||||| 804edffb
<<<<<<< HEAD
<<<<<<< HEAD
<<<<<<< HEAD
   "id": "8e1fa1a5",
||||||| 6a30bf1
   "id": "38b4e935",
=======
   "id": "20a93625",
>>>>>>> documentation-devel
||||||| d28b18c
   "id": "20a93625",
=======
   "id": "4929aaea",
>>>>>>> documentation-devel
||||||| 6893f63
<<<<<<< HEAD
   "id": "8e1fa1a5",
||||||| 6a30bf1
   "id": "38b4e935",
=======
   "id": "20a93625",
>>>>>>> documentation-devel
=======
   "id": "120f911f",
>>>>>>> c74c98c2450c2a1ba922ed9442f136238d6bc88b
=======
   "id": "cbd49989",
>>>>>>> 035bb2637984ead2784fecff78c0c60cc4181202
=======
   "id": "4c4fa890",
>>>>>>> 619c01f26351d57ac14d974b7af136ac5756103f
   "metadata": {},
   "outputs": [],
   "source": [
    "ElbowPlot(sfe)"
   ]
  },
  {
   "cell_type": "markdown",
<<<<<<< HEAD
<<<<<<< HEAD
<<<<<<< HEAD
<<<<<<< HEAD
<<<<<<< HEAD
<<<<<<< HEAD
<<<<<<< HEAD
   "id": "71ca34d8",
||||||| 6a30bf1
   "id": "70ea5725",
=======
   "id": "b6f4e650",
>>>>>>> documentation-devel
||||||| d28b18c
   "id": "b6f4e650",
=======
   "id": "d5e968d3",
>>>>>>> documentation-devel
||||||| 6893f63
<<<<<<< HEAD
   "id": "71ca34d8",
||||||| 6a30bf1
   "id": "70ea5725",
=======
   "id": "b6f4e650",
>>>>>>> documentation-devel
=======
   "id": "3ad7989a",
>>>>>>> c74c98c2450c2a1ba922ed9442f136238d6bc88b
||||||| 6d93b645
   "id": "d5e968d3",
=======
   "id": "a47194ce",
>>>>>>> documentation-devel
||||||| 804edffb
<<<<<<< HEAD
<<<<<<< HEAD
<<<<<<< HEAD
   "id": "71ca34d8",
||||||| 6a30bf1
   "id": "70ea5725",
=======
   "id": "b6f4e650",
>>>>>>> documentation-devel
||||||| d28b18c
   "id": "b6f4e650",
=======
   "id": "d5e968d3",
>>>>>>> documentation-devel
||||||| 6893f63
<<<<<<< HEAD
   "id": "71ca34d8",
||||||| 6a30bf1
   "id": "70ea5725",
=======
   "id": "b6f4e650",
>>>>>>> documentation-devel
=======
   "id": "3ad7989a",
>>>>>>> c74c98c2450c2a1ba922ed9442f136238d6bc88b
=======
   "id": "a0105df5",
>>>>>>> 035bb2637984ead2784fecff78c0c60cc4181202
||||||| 3effdfa5
   "id": "a47194ce",
=======
   "id": "19373642",
>>>>>>> documentation-devel
||||||| 96c826da
<<<<<<< HEAD
<<<<<<< HEAD
<<<<<<< HEAD
<<<<<<< HEAD
<<<<<<< HEAD
   "id": "71ca34d8",
||||||| 6a30bf1
   "id": "70ea5725",
=======
   "id": "b6f4e650",
>>>>>>> documentation-devel
||||||| d28b18c
   "id": "b6f4e650",
=======
   "id": "d5e968d3",
>>>>>>> documentation-devel
||||||| 6893f63
<<<<<<< HEAD
   "id": "71ca34d8",
||||||| 6a30bf1
   "id": "70ea5725",
=======
   "id": "b6f4e650",
>>>>>>> documentation-devel
=======
   "id": "3ad7989a",
>>>>>>> c74c98c2450c2a1ba922ed9442f136238d6bc88b
||||||| 6d93b645
   "id": "d5e968d3",
=======
   "id": "a47194ce",
>>>>>>> documentation-devel
||||||| 804edffb
<<<<<<< HEAD
<<<<<<< HEAD
<<<<<<< HEAD
   "id": "71ca34d8",
||||||| 6a30bf1
   "id": "70ea5725",
=======
   "id": "b6f4e650",
>>>>>>> documentation-devel
||||||| d28b18c
   "id": "b6f4e650",
=======
   "id": "d5e968d3",
>>>>>>> documentation-devel
||||||| 6893f63
<<<<<<< HEAD
   "id": "71ca34d8",
||||||| 6a30bf1
   "id": "70ea5725",
=======
   "id": "b6f4e650",
>>>>>>> documentation-devel
=======
   "id": "3ad7989a",
>>>>>>> c74c98c2450c2a1ba922ed9442f136238d6bc88b
=======
   "id": "a0105df5",
>>>>>>> 035bb2637984ead2784fecff78c0c60cc4181202
=======
   "id": "8a1196a1",
>>>>>>> 619c01f26351d57ac14d974b7af136ac5756103f
   "metadata": {
    "lines_to_next_cell": 0
   },
   "source": [
    "Plot top gene loadings in each PC"
   ]
  },
  {
   "cell_type": "code",
   "execution_count": null,
<<<<<<< HEAD
<<<<<<< HEAD
<<<<<<< HEAD
<<<<<<< HEAD
<<<<<<< HEAD
<<<<<<< HEAD
<<<<<<< HEAD
   "id": "b27d75b3",
||||||| 6a30bf1
   "id": "139132bc",
=======
   "id": "c9f192ea",
>>>>>>> documentation-devel
||||||| d28b18c
   "id": "c9f192ea",
=======
   "id": "b07959b9",
>>>>>>> documentation-devel
||||||| 6893f63
<<<<<<< HEAD
   "id": "b27d75b3",
||||||| 6a30bf1
   "id": "139132bc",
=======
   "id": "c9f192ea",
>>>>>>> documentation-devel
=======
   "id": "d932b546",
>>>>>>> c74c98c2450c2a1ba922ed9442f136238d6bc88b
||||||| 6d93b645
   "id": "b07959b9",
=======
   "id": "9e9ecfad",
>>>>>>> documentation-devel
||||||| 804edffb
<<<<<<< HEAD
<<<<<<< HEAD
<<<<<<< HEAD
   "id": "b27d75b3",
||||||| 6a30bf1
   "id": "139132bc",
=======
   "id": "c9f192ea",
>>>>>>> documentation-devel
||||||| d28b18c
   "id": "c9f192ea",
=======
   "id": "b07959b9",
>>>>>>> documentation-devel
||||||| 6893f63
<<<<<<< HEAD
   "id": "b27d75b3",
||||||| 6a30bf1
   "id": "139132bc",
=======
   "id": "c9f192ea",
>>>>>>> documentation-devel
=======
   "id": "d932b546",
>>>>>>> c74c98c2450c2a1ba922ed9442f136238d6bc88b
=======
   "id": "7939f812",
>>>>>>> 035bb2637984ead2784fecff78c0c60cc4181202
||||||| 3effdfa5
   "id": "9e9ecfad",
=======
   "id": "4b66b96e",
>>>>>>> documentation-devel
||||||| 96c826da
<<<<<<< HEAD
<<<<<<< HEAD
<<<<<<< HEAD
<<<<<<< HEAD
<<<<<<< HEAD
   "id": "b27d75b3",
||||||| 6a30bf1
   "id": "139132bc",
=======
   "id": "c9f192ea",
>>>>>>> documentation-devel
||||||| d28b18c
   "id": "c9f192ea",
=======
   "id": "b07959b9",
>>>>>>> documentation-devel
||||||| 6893f63
<<<<<<< HEAD
   "id": "b27d75b3",
||||||| 6a30bf1
   "id": "139132bc",
=======
   "id": "c9f192ea",
>>>>>>> documentation-devel
=======
   "id": "d932b546",
>>>>>>> c74c98c2450c2a1ba922ed9442f136238d6bc88b
||||||| 6d93b645
   "id": "b07959b9",
=======
   "id": "9e9ecfad",
>>>>>>> documentation-devel
||||||| 804edffb
<<<<<<< HEAD
<<<<<<< HEAD
<<<<<<< HEAD
   "id": "b27d75b3",
||||||| 6a30bf1
   "id": "139132bc",
=======
   "id": "c9f192ea",
>>>>>>> documentation-devel
||||||| d28b18c
   "id": "c9f192ea",
=======
   "id": "b07959b9",
>>>>>>> documentation-devel
||||||| 6893f63
<<<<<<< HEAD
   "id": "b27d75b3",
||||||| 6a30bf1
   "id": "139132bc",
=======
   "id": "c9f192ea",
>>>>>>> documentation-devel
=======
   "id": "d932b546",
>>>>>>> c74c98c2450c2a1ba922ed9442f136238d6bc88b
=======
   "id": "7939f812",
>>>>>>> 035bb2637984ead2784fecff78c0c60cc4181202
=======
   "id": "223b6119",
>>>>>>> 619c01f26351d57ac14d974b7af136ac5756103f
   "metadata": {},
   "outputs": [],
   "source": [
    "plotDimLoadings(sfe)"
   ]
  },
  {
   "cell_type": "markdown",
<<<<<<< HEAD
<<<<<<< HEAD
<<<<<<< HEAD
<<<<<<< HEAD
<<<<<<< HEAD
<<<<<<< HEAD
<<<<<<< HEAD
   "id": "b221986d",
||||||| 6a30bf1
   "id": "6ef45228",
=======
   "id": "e6667998",
>>>>>>> documentation-devel
||||||| d28b18c
   "id": "e6667998",
=======
   "id": "aaf19d4c",
>>>>>>> documentation-devel
||||||| 6893f63
<<<<<<< HEAD
   "id": "b221986d",
||||||| 6a30bf1
   "id": "6ef45228",
=======
   "id": "e6667998",
>>>>>>> documentation-devel
=======
   "id": "66765cf3",
>>>>>>> c74c98c2450c2a1ba922ed9442f136238d6bc88b
||||||| 6d93b645
   "id": "aaf19d4c",
=======
   "id": "0223ff0f",
>>>>>>> documentation-devel
||||||| 804edffb
<<<<<<< HEAD
<<<<<<< HEAD
<<<<<<< HEAD
   "id": "b221986d",
||||||| 6a30bf1
   "id": "6ef45228",
=======
   "id": "e6667998",
>>>>>>> documentation-devel
||||||| d28b18c
   "id": "e6667998",
=======
   "id": "aaf19d4c",
>>>>>>> documentation-devel
||||||| 6893f63
<<<<<<< HEAD
   "id": "b221986d",
||||||| 6a30bf1
   "id": "6ef45228",
=======
   "id": "e6667998",
>>>>>>> documentation-devel
=======
   "id": "66765cf3",
>>>>>>> c74c98c2450c2a1ba922ed9442f136238d6bc88b
=======
   "id": "7d1ffad3",
>>>>>>> 035bb2637984ead2784fecff78c0c60cc4181202
||||||| 3effdfa5
   "id": "0223ff0f",
=======
   "id": "5474fa8a",
>>>>>>> documentation-devel
||||||| 96c826da
<<<<<<< HEAD
<<<<<<< HEAD
<<<<<<< HEAD
<<<<<<< HEAD
<<<<<<< HEAD
   "id": "b221986d",
||||||| 6a30bf1
   "id": "6ef45228",
=======
   "id": "e6667998",
>>>>>>> documentation-devel
||||||| d28b18c
   "id": "e6667998",
=======
   "id": "aaf19d4c",
>>>>>>> documentation-devel
||||||| 6893f63
<<<<<<< HEAD
   "id": "b221986d",
||||||| 6a30bf1
   "id": "6ef45228",
=======
   "id": "e6667998",
>>>>>>> documentation-devel
=======
   "id": "66765cf3",
>>>>>>> c74c98c2450c2a1ba922ed9442f136238d6bc88b
||||||| 6d93b645
   "id": "aaf19d4c",
=======
   "id": "0223ff0f",
>>>>>>> documentation-devel
||||||| 804edffb
<<<<<<< HEAD
<<<<<<< HEAD
<<<<<<< HEAD
   "id": "b221986d",
||||||| 6a30bf1
   "id": "6ef45228",
=======
   "id": "e6667998",
>>>>>>> documentation-devel
||||||| d28b18c
   "id": "e6667998",
=======
   "id": "aaf19d4c",
>>>>>>> documentation-devel
||||||| 6893f63
<<<<<<< HEAD
   "id": "b221986d",
||||||| 6a30bf1
   "id": "6ef45228",
=======
   "id": "e6667998",
>>>>>>> documentation-devel
=======
   "id": "66765cf3",
>>>>>>> c74c98c2450c2a1ba922ed9442f136238d6bc88b
=======
   "id": "7d1ffad3",
>>>>>>> 035bb2637984ead2784fecff78c0c60cc4181202
=======
   "id": "9bab2bd9",
>>>>>>> 619c01f26351d57ac14d974b7af136ac5756103f
   "metadata": {
    "lines_to_next_cell": 0
   },
   "source": [
    "Many of these genes seem to be related to the endothelium.\n",
    "\n",
    "Plot the first 4 PCs in space"
   ]
  },
  {
   "cell_type": "code",
   "execution_count": null,
<<<<<<< HEAD
<<<<<<< HEAD
<<<<<<< HEAD
<<<<<<< HEAD
<<<<<<< HEAD
<<<<<<< HEAD
<<<<<<< HEAD
   "id": "386c9c2a",
||||||| 6a30bf1
   "id": "17e3937b",
=======
   "id": "b1a54791",
>>>>>>> documentation-devel
||||||| d28b18c
   "id": "b1a54791",
=======
   "id": "c7ebcc3e",
>>>>>>> documentation-devel
||||||| 6893f63
<<<<<<< HEAD
   "id": "386c9c2a",
||||||| 6a30bf1
   "id": "17e3937b",
=======
   "id": "b1a54791",
>>>>>>> documentation-devel
=======
   "id": "de007a73",
>>>>>>> c74c98c2450c2a1ba922ed9442f136238d6bc88b
||||||| 6d93b645
   "id": "c7ebcc3e",
=======
   "id": "579ab0a2",
>>>>>>> documentation-devel
||||||| 804edffb
<<<<<<< HEAD
<<<<<<< HEAD
<<<<<<< HEAD
   "id": "386c9c2a",
||||||| 6a30bf1
   "id": "17e3937b",
=======
   "id": "b1a54791",
>>>>>>> documentation-devel
||||||| d28b18c
   "id": "b1a54791",
=======
   "id": "c7ebcc3e",
>>>>>>> documentation-devel
||||||| 6893f63
<<<<<<< HEAD
   "id": "386c9c2a",
||||||| 6a30bf1
   "id": "17e3937b",
=======
   "id": "b1a54791",
>>>>>>> documentation-devel
=======
   "id": "de007a73",
>>>>>>> c74c98c2450c2a1ba922ed9442f136238d6bc88b
=======
   "id": "f67546c4",
>>>>>>> 035bb2637984ead2784fecff78c0c60cc4181202
||||||| 3effdfa5
   "id": "579ab0a2",
=======
   "id": "ef721b47",
>>>>>>> documentation-devel
||||||| 96c826da
<<<<<<< HEAD
<<<<<<< HEAD
<<<<<<< HEAD
<<<<<<< HEAD
<<<<<<< HEAD
   "id": "386c9c2a",
||||||| 6a30bf1
   "id": "17e3937b",
=======
   "id": "b1a54791",
>>>>>>> documentation-devel
||||||| d28b18c
   "id": "b1a54791",
=======
   "id": "c7ebcc3e",
>>>>>>> documentation-devel
||||||| 6893f63
<<<<<<< HEAD
   "id": "386c9c2a",
||||||| 6a30bf1
   "id": "17e3937b",
=======
   "id": "b1a54791",
>>>>>>> documentation-devel
=======
   "id": "de007a73",
>>>>>>> c74c98c2450c2a1ba922ed9442f136238d6bc88b
||||||| 6d93b645
   "id": "c7ebcc3e",
=======
   "id": "579ab0a2",
>>>>>>> documentation-devel
||||||| 804edffb
<<<<<<< HEAD
<<<<<<< HEAD
<<<<<<< HEAD
   "id": "386c9c2a",
||||||| 6a30bf1
   "id": "17e3937b",
=======
   "id": "b1a54791",
>>>>>>> documentation-devel
||||||| d28b18c
   "id": "b1a54791",
=======
   "id": "c7ebcc3e",
>>>>>>> documentation-devel
||||||| 6893f63
<<<<<<< HEAD
   "id": "386c9c2a",
||||||| 6a30bf1
   "id": "17e3937b",
=======
   "id": "b1a54791",
>>>>>>> documentation-devel
=======
   "id": "de007a73",
>>>>>>> c74c98c2450c2a1ba922ed9442f136238d6bc88b
=======
   "id": "f67546c4",
>>>>>>> 035bb2637984ead2784fecff78c0c60cc4181202
=======
   "id": "99b7e6f1",
>>>>>>> 619c01f26351d57ac14d974b7af136ac5756103f
   "metadata": {
    "fig.height": 7,
    "fig.width": 9
   },
   "outputs": [],
   "source": [
    "spatialReducedDim(sfe, \"PCA\", 4, colGeometryName = \"centroids\", scattermore = TRUE,\n",
    "                  divergent = TRUE, diverge_center = 0)"
   ]
  },
  {
   "cell_type": "markdown",
<<<<<<< HEAD
<<<<<<< HEAD
<<<<<<< HEAD
<<<<<<< HEAD
<<<<<<< HEAD
<<<<<<< HEAD
<<<<<<< HEAD
   "id": "598c3f5d",
||||||| 6a30bf1
   "id": "02849748",
=======
   "id": "09510df9",
>>>>>>> documentation-devel
||||||| d28b18c
   "id": "09510df9",
=======
   "id": "fd31da7e",
>>>>>>> documentation-devel
||||||| 6893f63
<<<<<<< HEAD
   "id": "598c3f5d",
||||||| 6a30bf1
   "id": "02849748",
=======
   "id": "09510df9",
>>>>>>> documentation-devel
=======
   "id": "012ef4a0",
>>>>>>> c74c98c2450c2a1ba922ed9442f136238d6bc88b
||||||| 6d93b645
   "id": "fd31da7e",
=======
   "id": "1e67d214",
>>>>>>> documentation-devel
||||||| 804edffb
<<<<<<< HEAD
<<<<<<< HEAD
<<<<<<< HEAD
   "id": "598c3f5d",
||||||| 6a30bf1
   "id": "02849748",
=======
   "id": "09510df9",
>>>>>>> documentation-devel
||||||| d28b18c
   "id": "09510df9",
=======
   "id": "fd31da7e",
>>>>>>> documentation-devel
||||||| 6893f63
<<<<<<< HEAD
   "id": "598c3f5d",
||||||| 6a30bf1
   "id": "02849748",
=======
   "id": "09510df9",
>>>>>>> documentation-devel
=======
   "id": "012ef4a0",
>>>>>>> c74c98c2450c2a1ba922ed9442f136238d6bc88b
=======
   "id": "0d3ea150",
>>>>>>> 035bb2637984ead2784fecff78c0c60cc4181202
||||||| 3effdfa5
   "id": "1e67d214",
=======
   "id": "89887953",
>>>>>>> documentation-devel
||||||| 96c826da
<<<<<<< HEAD
<<<<<<< HEAD
<<<<<<< HEAD
<<<<<<< HEAD
<<<<<<< HEAD
   "id": "598c3f5d",
||||||| 6a30bf1
   "id": "02849748",
=======
   "id": "09510df9",
>>>>>>> documentation-devel
||||||| d28b18c
   "id": "09510df9",
=======
   "id": "fd31da7e",
>>>>>>> documentation-devel
||||||| 6893f63
<<<<<<< HEAD
   "id": "598c3f5d",
||||||| 6a30bf1
   "id": "02849748",
=======
   "id": "09510df9",
>>>>>>> documentation-devel
=======
   "id": "012ef4a0",
>>>>>>> c74c98c2450c2a1ba922ed9442f136238d6bc88b
||||||| 6d93b645
   "id": "fd31da7e",
=======
   "id": "1e67d214",
>>>>>>> documentation-devel
||||||| 804edffb
<<<<<<< HEAD
<<<<<<< HEAD
<<<<<<< HEAD
   "id": "598c3f5d",
||||||| 6a30bf1
   "id": "02849748",
=======
   "id": "09510df9",
>>>>>>> documentation-devel
||||||| d28b18c
   "id": "09510df9",
=======
   "id": "fd31da7e",
>>>>>>> documentation-devel
||||||| 6893f63
<<<<<<< HEAD
   "id": "598c3f5d",
||||||| 6a30bf1
   "id": "02849748",
=======
   "id": "09510df9",
>>>>>>> documentation-devel
=======
   "id": "012ef4a0",
>>>>>>> c74c98c2450c2a1ba922ed9442f136238d6bc88b
=======
   "id": "0d3ea150",
>>>>>>> 035bb2637984ead2784fecff78c0c60cc4181202
=======
   "id": "75ccc25b",
>>>>>>> 619c01f26351d57ac14d974b7af136ac5756103f
   "metadata": {
    "lines_to_next_cell": 0
   },
   "source": [
    "PC1 and PC4 highlight the major blood vessels, while PC2 and PC3 have less spatial structure. While in the CosMX and Xenium datasets on this website, the top PCs have clear spatial structures despite the absence of spatial information in non-spatial PCA because of clear spatial compartments for some cell types, which does not seem to be the case in this dataset except for the blood vessels. We have seen above that some genes have strong spatial structures. There are some methods for spatially informed PCA, such as MULTISPATI PCA [@Dray2008-en] in the [`adespatial`](https://cran.r-project.org/web/packages/adespatial/index.html) package, which seeks to maximize both variance (as in non-spatial PCA) and Moran's I on each PC. Unlike traditional PCs, where all eigenvalues, signifying variance explained, are positive, MULTISPATI PCA can have negative eigenvalues, which signify negative spatial autocorrelation. The PCs from MULTISPATI PCA with positive eigenvalues are also more spatially coherent than those from non-spatial PCA. For the CosMX and Xenium datasets on this website, the spatial coherence from MULTISPATI might not make a difference, but it might make a difference in this dataset where non-spatial PCs don't show as much spatial structure, at least at the larger scale over the entire tissue section. Voyager 1.2.0 (Bioconductor 3.17) has a faster implementation of MULTISPATI PCA than that of `adespatial`, and is demonstrated in this dataset in [another vignette](https://pachterlab.github.io/voyager/articles/multispati.html).\n",
    "\n",
    "While PC2 and PC3 don't seem to have large scale spatial structure, they may have more local spatial structure not obvious from plotting the entire section, so we zoom into the bounding box:"
   ]
  },
  {
   "cell_type": "code",
   "execution_count": null,
<<<<<<< HEAD
<<<<<<< HEAD
<<<<<<< HEAD
<<<<<<< HEAD
<<<<<<< HEAD
<<<<<<< HEAD
<<<<<<< HEAD
   "id": "d5423e0d",
||||||| 6a30bf1
   "id": "d2f01875",
=======
   "id": "a5b27bfc",
>>>>>>> documentation-devel
||||||| d28b18c
   "id": "a5b27bfc",
=======
   "id": "d573aed4",
>>>>>>> documentation-devel
||||||| 6893f63
<<<<<<< HEAD
   "id": "d5423e0d",
||||||| 6a30bf1
   "id": "d2f01875",
=======
   "id": "a5b27bfc",
>>>>>>> documentation-devel
=======
   "id": "5fb58a24",
>>>>>>> c74c98c2450c2a1ba922ed9442f136238d6bc88b
||||||| 6d93b645
   "id": "d573aed4",
=======
   "id": "1d415ad7",
>>>>>>> documentation-devel
||||||| 804edffb
<<<<<<< HEAD
<<<<<<< HEAD
<<<<<<< HEAD
   "id": "d5423e0d",
||||||| 6a30bf1
   "id": "d2f01875",
=======
   "id": "a5b27bfc",
>>>>>>> documentation-devel
||||||| d28b18c
   "id": "a5b27bfc",
=======
   "id": "d573aed4",
>>>>>>> documentation-devel
||||||| 6893f63
<<<<<<< HEAD
   "id": "d5423e0d",
||||||| 6a30bf1
   "id": "d2f01875",
=======
   "id": "a5b27bfc",
>>>>>>> documentation-devel
=======
   "id": "5fb58a24",
>>>>>>> c74c98c2450c2a1ba922ed9442f136238d6bc88b
=======
   "id": "e3453fad",
>>>>>>> 035bb2637984ead2784fecff78c0c60cc4181202
||||||| 3effdfa5
   "id": "1d415ad7",
=======
   "id": "77852d7e",
>>>>>>> documentation-devel
||||||| 96c826da
<<<<<<< HEAD
<<<<<<< HEAD
<<<<<<< HEAD
<<<<<<< HEAD
<<<<<<< HEAD
   "id": "d5423e0d",
||||||| 6a30bf1
   "id": "d2f01875",
=======
   "id": "a5b27bfc",
>>>>>>> documentation-devel
||||||| d28b18c
   "id": "a5b27bfc",
=======
   "id": "d573aed4",
>>>>>>> documentation-devel
||||||| 6893f63
<<<<<<< HEAD
   "id": "d5423e0d",
||||||| 6a30bf1
   "id": "d2f01875",
=======
   "id": "a5b27bfc",
>>>>>>> documentation-devel
=======
   "id": "5fb58a24",
>>>>>>> c74c98c2450c2a1ba922ed9442f136238d6bc88b
||||||| 6d93b645
   "id": "d573aed4",
=======
   "id": "1d415ad7",
>>>>>>> documentation-devel
||||||| 804edffb
<<<<<<< HEAD
<<<<<<< HEAD
<<<<<<< HEAD
   "id": "d5423e0d",
||||||| 6a30bf1
   "id": "d2f01875",
=======
   "id": "a5b27bfc",
>>>>>>> documentation-devel
||||||| d28b18c
   "id": "a5b27bfc",
=======
   "id": "d573aed4",
>>>>>>> documentation-devel
||||||| 6893f63
<<<<<<< HEAD
   "id": "d5423e0d",
||||||| 6a30bf1
   "id": "d2f01875",
=======
   "id": "a5b27bfc",
>>>>>>> documentation-devel
=======
   "id": "5fb58a24",
>>>>>>> c74c98c2450c2a1ba922ed9442f136238d6bc88b
=======
   "id": "e3453fad",
>>>>>>> 035bb2637984ead2784fecff78c0c60cc4181202
=======
   "id": "bdb2c07a",
>>>>>>> 619c01f26351d57ac14d974b7af136ac5756103f
   "metadata": {
    "fig.height": 5,
    "fig.width": 9
   },
   "outputs": [],
   "source": [
    "spatialReducedDim(sfe, \"PCA\", ncomponents = 2:3, colGeometryName = \"cellSeg\",\n",
    "                  bbox = bbox_use, divergent = TRUE, diverge_center = 0)"
   ]
  },
  {
   "cell_type": "markdown",
<<<<<<< HEAD
<<<<<<< HEAD
<<<<<<< HEAD
<<<<<<< HEAD
<<<<<<< HEAD
<<<<<<< HEAD
<<<<<<< HEAD
   "id": "f466c8d9",
||||||| 6a30bf1
   "id": "643ef977",
=======
   "id": "ade052b1",
>>>>>>> documentation-devel
||||||| d28b18c
   "id": "ade052b1",
=======
   "id": "b8402b99",
>>>>>>> documentation-devel
||||||| 6893f63
<<<<<<< HEAD
   "id": "f466c8d9",
||||||| 6a30bf1
   "id": "643ef977",
=======
   "id": "ade052b1",
>>>>>>> documentation-devel
=======
   "id": "ad6b3cc6",
>>>>>>> c74c98c2450c2a1ba922ed9442f136238d6bc88b
||||||| 6d93b645
   "id": "b8402b99",
=======
   "id": "57a27ece",
>>>>>>> documentation-devel
||||||| 804edffb
<<<<<<< HEAD
<<<<<<< HEAD
<<<<<<< HEAD
   "id": "f466c8d9",
||||||| 6a30bf1
   "id": "643ef977",
=======
   "id": "ade052b1",
>>>>>>> documentation-devel
||||||| d28b18c
   "id": "ade052b1",
=======
   "id": "b8402b99",
>>>>>>> documentation-devel
||||||| 6893f63
<<<<<<< HEAD
   "id": "f466c8d9",
||||||| 6a30bf1
   "id": "643ef977",
=======
   "id": "ade052b1",
>>>>>>> documentation-devel
=======
   "id": "ad6b3cc6",
>>>>>>> c74c98c2450c2a1ba922ed9442f136238d6bc88b
=======
   "id": "18f7678e",
>>>>>>> 035bb2637984ead2784fecff78c0c60cc4181202
||||||| 3effdfa5
   "id": "57a27ece",
=======
   "id": "0b2db3d2",
>>>>>>> documentation-devel
||||||| 96c826da
<<<<<<< HEAD
<<<<<<< HEAD
<<<<<<< HEAD
<<<<<<< HEAD
<<<<<<< HEAD
   "id": "f466c8d9",
||||||| 6a30bf1
   "id": "643ef977",
=======
   "id": "ade052b1",
>>>>>>> documentation-devel
||||||| d28b18c
   "id": "ade052b1",
=======
   "id": "b8402b99",
>>>>>>> documentation-devel
||||||| 6893f63
<<<<<<< HEAD
   "id": "f466c8d9",
||||||| 6a30bf1
   "id": "643ef977",
=======
   "id": "ade052b1",
>>>>>>> documentation-devel
=======
   "id": "ad6b3cc6",
>>>>>>> c74c98c2450c2a1ba922ed9442f136238d6bc88b
||||||| 6d93b645
   "id": "b8402b99",
=======
   "id": "57a27ece",
>>>>>>> documentation-devel
||||||| 804edffb
<<<<<<< HEAD
<<<<<<< HEAD
<<<<<<< HEAD
   "id": "f466c8d9",
||||||| 6a30bf1
   "id": "643ef977",
=======
   "id": "ade052b1",
>>>>>>> documentation-devel
||||||| d28b18c
   "id": "ade052b1",
=======
   "id": "b8402b99",
>>>>>>> documentation-devel
||||||| 6893f63
<<<<<<< HEAD
   "id": "f466c8d9",
||||||| 6a30bf1
   "id": "643ef977",
=======
   "id": "ade052b1",
>>>>>>> documentation-devel
=======
   "id": "ad6b3cc6",
>>>>>>> c74c98c2450c2a1ba922ed9442f136238d6bc88b
=======
   "id": "18f7678e",
>>>>>>> 035bb2637984ead2784fecff78c0c60cc4181202
=======
   "id": "15ef5b3f",
>>>>>>> 619c01f26351d57ac14d974b7af136ac5756103f
   "metadata": {},
   "source": [
    "There's some spatial structure in PC2 and PC3 at a smaller scale, perhaps some negative spatial autocorrelation.\n",
    "\n",
    "Like global Moran's I, PCA and MULTISPATI PCA return one result for the entire dataset. In contrast, [geographically weighted PCA (GWPCA)](https://rdrr.io/cran/GWmodel/man/gwpca.html) [@Harris2015-sr] can account for spatial heterogeneity. GWPCA runs PCA at each spatial location using only the nearby locations weighed by a kernel. The different locations can have different PCs, and the results can be visualized with \"winning variables\" in each PC, i.e. plotting which feature has the highest loading in each PC in space. This most likely doesn't scale to 400,000 cells, but it would still be interesting when performed on spatially binned data. GWPCA might be added in Bioconductor 3.18 and would require some changes in the user interface, because GWPCA is about the features rather than cell embeddings.\n",
    "\n",
    "# More challenges from large datasets\n",
    "Here, despite the numerous cells, the data was loaded into memory. What if the data doesn't fit into memory? We might write a new vignette with `DelayedArray` demonstrating out of memory data analysis for Bioconductor 3.18. This is already supported by `SingleCellExperiment`, which SFE inherits from. However, the geometries, graphs, and local results can take up a lot memory as well. These can possibly be stored in SQL databases and operated on with [`SQLDataFrame`](https://bioconductor.org/packages/release/bioc/html/SQLDataFrame.html). The geometric operations can be handled by [`sedona`](https://github.com/apache/incubator-sedona), although the options are limited compared to GEOS, which performs geometric operations behind the scene for `sf`.\n",
    "\n",
    "Another question can be raised about large spatial transcriptomics data: Is it still a good idea to analyze the entire dataset at once? There must be many interesting and unique neighborhoods that might not get the attention they deserve when the whole dataset is analyzed at once. After all, in the geographical space, national level data is usually not analyzed at the block resolution, although a reason for this is privacy of the subjects. County resolution is often used, but there aren't hundreds of thousands of counties. Many analyses are done for cities and counties with neighborhood resolution; using the largest geographical unit isn't always the most relevant. Back to histological space: How to aggregate cells into larger spatial units? How to decide which scale of spatial units (analogous to nation vs state vs county and etc) is relevant? We have traditional anatomical ontologies, such as from the Allen Brain Atlas, but this isn't available for all tissues. Also, with more single cell -omics data, the traditional ontologies can be improved.\n",
    "\n",
    "Furthermore, there are 3D thick section single cell resolution spatial transcriptomics data, such as from STARmap [@Wang2018-cv] and EASI-FISH [@Wang2021-fv], although the vast majority of spatial -omics data are from thin sections pretty much _de facto_ 2D. As we mostly live on the surface of Earth, there are many more 2D geospatial resources than 3D. However, some methods can in principle be applied to 3D and the existing software primarily made for 2D data might work. For example, GEOS supports 3D data, so in principle 3D geometries in `sf` should work, although there's little documentation on this. Also, k nearest neighbor, Moran's I, variograms, and etc. should in principle work in 3D, and `gstat` officially supports 3D. These are more challenges related to 3D data:\n",
    "\n",
    "1. Even when multiple z-planes are imaged, the resolution is much lower in the z direction than the x and y directions. Then should the z-plane be treated as an attribute or as a coordinate?\n",
    "2. How to make static plots for 3D data for publications? This is more complicated than plotting z-planes separately, since a 3D block can be sectioned from any other direction. Also for interactive visualization, we need to somehow see through the tissue. \n",
    "\n",
    "Finally, the geospatial tradition is only one tradition relevant to large spatial data, and at present `Voyager` only works with vector data. We are uncertain whether raster should be added in a later version, and there are existing tools for large raster data as well, such as [TileDB](https://docs.tiledb.com/geospatial/). Other traditions can be relevant, such as astronomy and image processing, but those are beyond the scope of this package.\n",
    "\n",
    "# Session Info"
   ]
  },
  {
   "cell_type": "code",
   "execution_count": null,
<<<<<<< HEAD
<<<<<<< HEAD
<<<<<<< HEAD
<<<<<<< HEAD
<<<<<<< HEAD
<<<<<<< HEAD
<<<<<<< HEAD
   "id": "867b5e5f",
||||||| 6a30bf1
   "id": "3d4a0c69",
=======
   "id": "23a5f722",
>>>>>>> documentation-devel
||||||| d28b18c
   "id": "23a5f722",
=======
   "id": "ee570928",
>>>>>>> documentation-devel
||||||| 6893f63
<<<<<<< HEAD
   "id": "867b5e5f",
||||||| 6a30bf1
   "id": "3d4a0c69",
=======
   "id": "23a5f722",
>>>>>>> documentation-devel
=======
   "id": "dc957e1e",
>>>>>>> c74c98c2450c2a1ba922ed9442f136238d6bc88b
||||||| 6d93b645
   "id": "ee570928",
=======
   "id": "1d42d1ae",
>>>>>>> documentation-devel
||||||| 804edffb
<<<<<<< HEAD
<<<<<<< HEAD
<<<<<<< HEAD
   "id": "867b5e5f",
||||||| 6a30bf1
   "id": "3d4a0c69",
=======
   "id": "23a5f722",
>>>>>>> documentation-devel
||||||| d28b18c
   "id": "23a5f722",
=======
   "id": "ee570928",
>>>>>>> documentation-devel
||||||| 6893f63
<<<<<<< HEAD
   "id": "867b5e5f",
||||||| 6a30bf1
   "id": "3d4a0c69",
=======
   "id": "23a5f722",
>>>>>>> documentation-devel
=======
   "id": "dc957e1e",
>>>>>>> c74c98c2450c2a1ba922ed9442f136238d6bc88b
=======
   "id": "11b96ae3",
>>>>>>> 035bb2637984ead2784fecff78c0c60cc4181202
||||||| 3effdfa5
   "id": "1d42d1ae",
=======
   "id": "07190f75",
>>>>>>> documentation-devel
||||||| 96c826da
<<<<<<< HEAD
<<<<<<< HEAD
<<<<<<< HEAD
<<<<<<< HEAD
<<<<<<< HEAD
   "id": "867b5e5f",
||||||| 6a30bf1
   "id": "3d4a0c69",
=======
   "id": "23a5f722",
>>>>>>> documentation-devel
||||||| d28b18c
   "id": "23a5f722",
=======
   "id": "ee570928",
>>>>>>> documentation-devel
||||||| 6893f63
<<<<<<< HEAD
   "id": "867b5e5f",
||||||| 6a30bf1
   "id": "3d4a0c69",
=======
   "id": "23a5f722",
>>>>>>> documentation-devel
=======
   "id": "dc957e1e",
>>>>>>> c74c98c2450c2a1ba922ed9442f136238d6bc88b
||||||| 6d93b645
   "id": "ee570928",
=======
   "id": "1d42d1ae",
>>>>>>> documentation-devel
||||||| 804edffb
<<<<<<< HEAD
<<<<<<< HEAD
<<<<<<< HEAD
   "id": "867b5e5f",
||||||| 6a30bf1
   "id": "3d4a0c69",
=======
   "id": "23a5f722",
>>>>>>> documentation-devel
||||||| d28b18c
   "id": "23a5f722",
=======
   "id": "ee570928",
>>>>>>> documentation-devel
||||||| 6893f63
<<<<<<< HEAD
   "id": "867b5e5f",
||||||| 6a30bf1
   "id": "3d4a0c69",
=======
   "id": "23a5f722",
>>>>>>> documentation-devel
=======
   "id": "dc957e1e",
>>>>>>> c74c98c2450c2a1ba922ed9442f136238d6bc88b
=======
   "id": "11b96ae3",
>>>>>>> 035bb2637984ead2784fecff78c0c60cc4181202
=======
   "id": "fffff11b",
>>>>>>> 619c01f26351d57ac14d974b7af136ac5756103f
   "metadata": {},
   "outputs": [],
   "source": [
    "sessionInfo()"
   ]
  },
  {
   "cell_type": "markdown",
<<<<<<< HEAD
<<<<<<< HEAD
<<<<<<< HEAD
<<<<<<< HEAD
<<<<<<< HEAD
<<<<<<< HEAD
<<<<<<< HEAD
   "id": "0d984d71",
||||||| 6a30bf1
   "id": "8183ac28",
=======
   "id": "fd8b4f70",
>>>>>>> documentation-devel
||||||| d28b18c
   "id": "fd8b4f70",
=======
   "id": "139f1c97",
>>>>>>> documentation-devel
||||||| 6893f63
<<<<<<< HEAD
   "id": "0d984d71",
||||||| 6a30bf1
   "id": "8183ac28",
=======
   "id": "fd8b4f70",
>>>>>>> documentation-devel
=======
   "id": "e9b38369",
>>>>>>> c74c98c2450c2a1ba922ed9442f136238d6bc88b
||||||| 6d93b645
   "id": "139f1c97",
=======
   "id": "1b48100c",
>>>>>>> documentation-devel
||||||| 804edffb
<<<<<<< HEAD
<<<<<<< HEAD
<<<<<<< HEAD
   "id": "0d984d71",
||||||| 6a30bf1
   "id": "8183ac28",
=======
   "id": "fd8b4f70",
>>>>>>> documentation-devel
||||||| d28b18c
   "id": "fd8b4f70",
=======
   "id": "139f1c97",
>>>>>>> documentation-devel
||||||| 6893f63
<<<<<<< HEAD
   "id": "0d984d71",
||||||| 6a30bf1
   "id": "8183ac28",
=======
   "id": "fd8b4f70",
>>>>>>> documentation-devel
=======
   "id": "e9b38369",
>>>>>>> c74c98c2450c2a1ba922ed9442f136238d6bc88b
=======
   "id": "aeecd75e",
>>>>>>> 035bb2637984ead2784fecff78c0c60cc4181202
||||||| 3effdfa5
   "id": "1b48100c",
=======
   "id": "ce3611c5",
>>>>>>> documentation-devel
||||||| 96c826da
<<<<<<< HEAD
<<<<<<< HEAD
<<<<<<< HEAD
<<<<<<< HEAD
<<<<<<< HEAD
   "id": "0d984d71",
||||||| 6a30bf1
   "id": "8183ac28",
=======
   "id": "fd8b4f70",
>>>>>>> documentation-devel
||||||| d28b18c
   "id": "fd8b4f70",
=======
   "id": "139f1c97",
>>>>>>> documentation-devel
||||||| 6893f63
<<<<<<< HEAD
   "id": "0d984d71",
||||||| 6a30bf1
   "id": "8183ac28",
=======
   "id": "fd8b4f70",
>>>>>>> documentation-devel
=======
   "id": "e9b38369",
>>>>>>> c74c98c2450c2a1ba922ed9442f136238d6bc88b
||||||| 6d93b645
   "id": "139f1c97",
=======
   "id": "1b48100c",
>>>>>>> documentation-devel
||||||| 804edffb
<<<<<<< HEAD
<<<<<<< HEAD
<<<<<<< HEAD
   "id": "0d984d71",
||||||| 6a30bf1
   "id": "8183ac28",
=======
   "id": "fd8b4f70",
>>>>>>> documentation-devel
||||||| d28b18c
   "id": "fd8b4f70",
=======
   "id": "139f1c97",
>>>>>>> documentation-devel
||||||| 6893f63
<<<<<<< HEAD
   "id": "0d984d71",
||||||| 6a30bf1
   "id": "8183ac28",
=======
   "id": "fd8b4f70",
>>>>>>> documentation-devel
=======
   "id": "e9b38369",
>>>>>>> c74c98c2450c2a1ba922ed9442f136238d6bc88b
=======
   "id": "aeecd75e",
>>>>>>> 035bb2637984ead2784fecff78c0c60cc4181202
=======
   "id": "1f92f416",
>>>>>>> 619c01f26351d57ac14d974b7af136ac5756103f
   "metadata": {},
   "source": [
    "# References"
   ]
  }
 ],
 "metadata": {
  "kernelspec": {
   "display_name": "R",
   "language": "R",
   "name": "ir"
  }
 },
 "nbformat": 4,
 "nbformat_minor": 5
}
