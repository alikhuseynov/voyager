{
 "cells": [
  {
   "cell_type": "raw",
<<<<<<< HEAD
<<<<<<< HEAD
<<<<<<< HEAD
   "id": "f9cfb1aa",
||||||| 3477967
   "id": "a1a611e1",
=======
   "id": "5e873361",
>>>>>>> 763a65aa00deab365d39bc26b2dcb2cc1410a666
||||||| eb63ff5
   "id": "f9cfb1aa",
=======
   "id": "ef4583e5",
>>>>>>> documentation-devel
||||||| cd53b20
<<<<<<< HEAD
   "id": "f9cfb1aa",
||||||| 3477967
   "id": "a1a611e1",
=======
   "id": "5e873361",
>>>>>>> 763a65aa00deab365d39bc26b2dcb2cc1410a666
=======
   "id": "8c01af40",
>>>>>>> 61c8f4bff1b7848db82b013fbfba194514b420ca
   "metadata": {},
   "source": [
    "---\n",
    "title: \"MERFISH mouse liver dataset and considerations of large data\"\n",
    "author: \"Lambda Moses\"\n",
    "date: \"`r Sys.Date()`\"\n",
    "output: \n",
    "  html_document:\n",
    "  toc: true\n",
    "  toc_float:\n",
    "    collapsed: false\n",
    "  toc_depth: 3\n",
    "bibliography: ref.bib\n",
    "vignette: >\n",
    "  %\\VignetteIndexEntry{merfish}\n",
    "  %\\VignetteEngine{knitr::rmarkdown}\n",
    "  %\\VignetteEncoding{UTF-8}\n",
    "---"
   ]
  },
  {
   "cell_type": "code",
   "execution_count": null,
<<<<<<< HEAD
<<<<<<< HEAD
<<<<<<< HEAD
   "id": "1923c904",
||||||| 3477967
   "id": "7517e049",
=======
   "id": "b52a85fa",
>>>>>>> 763a65aa00deab365d39bc26b2dcb2cc1410a666
||||||| eb63ff5
   "id": "1923c904",
=======
   "id": "e2fedc6b",
>>>>>>> documentation-devel
||||||| cd53b20
<<<<<<< HEAD
   "id": "1923c904",
||||||| 3477967
   "id": "7517e049",
=======
   "id": "b52a85fa",
>>>>>>> 763a65aa00deab365d39bc26b2dcb2cc1410a666
=======
   "id": "7579123e",
>>>>>>> 61c8f4bff1b7848db82b013fbfba194514b420ca
   "metadata": {
    "tags": [
     "remove_cell"
    ]
   },
   "outputs": [],
   "source": [
    "knitr::opts_chunk$set(\n",
    "  collapse = TRUE,\n",
    "  comment = \"#>\"\n",
    ")"
   ]
  },
  {
   "cell_type": "code",
   "execution_count": null,
<<<<<<< HEAD
<<<<<<< HEAD
<<<<<<< HEAD
   "id": "68051051",
||||||| 3477967
   "id": "84cb3b49",
=======
   "id": "de9a6384",
>>>>>>> 763a65aa00deab365d39bc26b2dcb2cc1410a666
||||||| eb63ff5
   "id": "68051051",
=======
   "id": "a37462f8",
>>>>>>> documentation-devel
||||||| cd53b20
<<<<<<< HEAD
   "id": "68051051",
||||||| 3477967
   "id": "84cb3b49",
=======
   "id": "de9a6384",
>>>>>>> 763a65aa00deab365d39bc26b2dcb2cc1410a666
=======
   "id": "f559076d",
>>>>>>> 61c8f4bff1b7848db82b013fbfba194514b420ca
   "metadata": {
    "eval": false,
    "tags": [
     "remove_cell"
    ]
   },
   "outputs": [],
   "source": [
    "# Install Google Colab dependencies\n",
    "# Note: this can take 30+ minutes (many of the dependencies include C++ code, which needs to be compiled)\n",
    "\n",
    "# First install `sf`, `ragg` and `textshaping` and their system dependencies:\n",
    "system(\"apt-get -y update && apt-get install -y  libudunits2-dev libgdal-dev libgeos-dev libproj-dev libharfbuzz-dev libfribidi-dev\")\n",
    "install.packages(\"sf\")\n",
    "install.packages(\"textshaping\")\n",
    "install.packages(\"ragg\")\n",
    "\n",
    "# Install system dependencies of some other R packages that Voyager either imports or suggests:\n",
    "system(\"apt-get install -y libfribidi-dev libcairo2-dev libmagick++-dev\")\n",
    "\n",
    "# Install Voyager from Bioconductor:\n",
    "install.packages(\"BiocManager\")\n",
    "BiocManager::install(version = \"3.17\", ask = FALSE, update = FALSE, Ncpus = 2)\n",
    "BiocManager::install(\"scater\")\n",
    "system.time(\n",
    "  BiocManager::install(\"Voyager\", dependencies = TRUE, Ncpus = 2, update = FALSE)\n",
    ")\n",
    "\n",
    "packageVersion(\"Voyager\")"
   ]
  },
  {
   "cell_type": "markdown",
<<<<<<< HEAD
<<<<<<< HEAD
<<<<<<< HEAD
   "id": "00a5e47f",
||||||| 3477967
   "id": "7d130cf6",
=======
   "id": "64ad49c1",
>>>>>>> 763a65aa00deab365d39bc26b2dcb2cc1410a666
||||||| eb63ff5
   "id": "00a5e47f",
=======
   "id": "c839044b",
>>>>>>> documentation-devel
||||||| cd53b20
<<<<<<< HEAD
   "id": "00a5e47f",
||||||| 3477967
   "id": "7d130cf6",
=======
   "id": "64ad49c1",
>>>>>>> 763a65aa00deab365d39bc26b2dcb2cc1410a666
=======
   "id": "af6a26b1",
>>>>>>> 61c8f4bff1b7848db82b013fbfba194514b420ca
   "metadata": {
    "lines_to_next_cell": 0
   },
   "source": [
    "# Introduction\n",
    "\n",
    "The `SpatialFeatureExperiment` (SFE) and `Voyager` packages were originally developed around a relatively small Visium dataset as a proof of concept, and were hence not originally optimized for very large datasets. However, larger smFISH datasets with hundreds of thousands, sometimes over a million cells have already been produced and will soon be produced routinely. Among studies using smFISH-based spatial transcriptomics technologies that reported the number of cells per dataset, the number of cells per dataset has increased in the past years [@Moses2022-xz].\n",
    "![alt](https://pachterlab.github.io/LP_2021/05-current-techs_files/figure-html/smfish-lm-cell-1.png)\n",
    "\n",
    "In anticipation of large datasets, this vignette was produced using limited GitHub Actions resources (MacOS), which are 14 GB of RAM with 3 CPU cores and 14 GB of disk space, comparable to laptops. We therefore expect that the analyses in this vignette should scale to reasonably sized datasets.  \n",
    "\n",
    "The dataset we use in this vignette is a MERFISH mouse liver dataset downloaded from the [Vizgen website](https://console.cloud.google.com/storage/browser/vz-liver-showcase/Liver1Slice1). We will use it to discuss some issues with large datasets and some upcoming features in the next release of `Voyager`. The gene count matrix and cell metadata (including centroid coordinates) were downloaded as CSV files and read into R. While 7 z-planes were imaged, cell segmentation is only available in one z-plane. The cell polygons are in HDF5 files, with one HDF5 file per field of view (FOV), and there are over 1000 FOVs in this dataset. Converting these HDF5 files into an `sf` data frame is not trivial. See the [vignette on creating a `SpatialFeatureExperiment` (SFE) object](https://pachterlab.github.io/voyager/articles/create_sfe.html#technology-specific-notes) for code used to do the conversion, and the polygons are included in the SFE object. The cell metadata already has cell volume. If the polygons are not used in the analyses, and the polygons can't be seen on a static plot with hundreds of thousands of cells anyway, then doing the conversion is optional. While the transcript spot locations are available, we cannot yet work with such a large point dataset.\n",
    "\n",
    "Here we load the packages used. "
   ]
  },
  {
   "cell_type": "code",
   "execution_count": null,
<<<<<<< HEAD
<<<<<<< HEAD
<<<<<<< HEAD
   "id": "6b8ab87a",
||||||| 3477967
   "id": "610568fe",
=======
   "id": "eeb130a9",
>>>>>>> 763a65aa00deab365d39bc26b2dcb2cc1410a666
||||||| eb63ff5
   "id": "6b8ab87a",
=======
   "id": "dd316ef7",
>>>>>>> documentation-devel
||||||| cd53b20
<<<<<<< HEAD
   "id": "6b8ab87a",
||||||| 3477967
   "id": "610568fe",
=======
   "id": "eeb130a9",
>>>>>>> 763a65aa00deab365d39bc26b2dcb2cc1410a666
=======
   "id": "2f798acf",
>>>>>>> 61c8f4bff1b7848db82b013fbfba194514b420ca
   "metadata": {
    "name": "setup"
   },
   "outputs": [],
   "source": [
    "library(Voyager)\n",
    "library(SFEData)\n",
    "library(SingleCellExperiment)\n",
    "library(SpatialExperiment)\n",
    "library(scater) \n",
    "library(ggplot2)\n",
    "library(patchwork)\n",
    "library(stringr)\n",
    "library(spdep)\n",
    "library(BiocParallel)\n",
    "library(BiocSingular)\n",
    "library(gstat)\n",
    "library(BiocNeighbors)\n",
    "library(sf)\n",
    "library(automap)\n",
    "theme_set(theme_bw())"
   ]
  },
  {
   "cell_type": "code",
   "execution_count": null,
<<<<<<< HEAD
<<<<<<< HEAD
<<<<<<< HEAD
   "id": "b0b55e65",
||||||| 3477967
   "id": "f0fef923",
=======
   "id": "c3a3fc2f",
>>>>>>> 763a65aa00deab365d39bc26b2dcb2cc1410a666
||||||| eb63ff5
   "id": "b0b55e65",
=======
   "id": "aadcd612",
>>>>>>> documentation-devel
||||||| cd53b20
<<<<<<< HEAD
   "id": "b0b55e65",
||||||| 3477967
   "id": "f0fef923",
=======
   "id": "c3a3fc2f",
>>>>>>> 763a65aa00deab365d39bc26b2dcb2cc1410a666
=======
   "id": "71af419f",
>>>>>>> 61c8f4bff1b7848db82b013fbfba194514b420ca
   "metadata": {},
   "outputs": [],
   "source": [
    "(sfe <- VizgenLiverData())"
   ]
  },
  {
   "cell_type": "markdown",
<<<<<<< HEAD
<<<<<<< HEAD
<<<<<<< HEAD
   "id": "36b87103",
||||||| 3477967
   "id": "79a1d335",
=======
   "id": "b3f75a7e",
>>>>>>> 763a65aa00deab365d39bc26b2dcb2cc1410a666
||||||| eb63ff5
   "id": "36b87103",
=======
   "id": "8e34ddda",
>>>>>>> documentation-devel
||||||| cd53b20
<<<<<<< HEAD
   "id": "36b87103",
||||||| 3477967
   "id": "79a1d335",
=======
   "id": "b3f75a7e",
>>>>>>> 763a65aa00deab365d39bc26b2dcb2cc1410a666
=======
   "id": "b69cc727",
>>>>>>> 61c8f4bff1b7848db82b013fbfba194514b420ca
   "metadata": {
    "lines_to_next_cell": 0
   },
   "source": [
    "There are 395,215 cells in this dataset. Plotting them all as polygons takes a while, but it isn't too bad."
   ]
  },
  {
   "cell_type": "code",
   "execution_count": null,
<<<<<<< HEAD
<<<<<<< HEAD
<<<<<<< HEAD
   "id": "28133001",
||||||| 3477967
   "id": "bff35c89",
=======
   "id": "69646a7f",
>>>>>>> 763a65aa00deab365d39bc26b2dcb2cc1410a666
||||||| eb63ff5
   "id": "28133001",
=======
   "id": "addd65d4",
>>>>>>> documentation-devel
||||||| cd53b20
<<<<<<< HEAD
   "id": "28133001",
||||||| 3477967
   "id": "bff35c89",
=======
   "id": "69646a7f",
>>>>>>> 763a65aa00deab365d39bc26b2dcb2cc1410a666
=======
   "id": "8b834642",
>>>>>>> 61c8f4bff1b7848db82b013fbfba194514b420ca
   "metadata": {
    "fig.height": 6,
    "fig.width": 9
   },
   "outputs": [],
   "source": [
    "plotGeometry(sfe, \"cellSeg\")"
   ]
  },
  {
   "cell_type": "markdown",
<<<<<<< HEAD
<<<<<<< HEAD
<<<<<<< HEAD
   "id": "c96915b0",
||||||| 3477967
   "id": "a1f88eb6",
=======
   "id": "2c85b484",
>>>>>>> 763a65aa00deab365d39bc26b2dcb2cc1410a666
||||||| eb63ff5
   "id": "c96915b0",
=======
   "id": "d08f677d",
>>>>>>> documentation-devel
||||||| cd53b20
<<<<<<< HEAD
   "id": "c96915b0",
||||||| 3477967
   "id": "a1f88eb6",
=======
   "id": "2c85b484",
>>>>>>> 763a65aa00deab365d39bc26b2dcb2cc1410a666
=======
   "id": "0596638e",
>>>>>>> 61c8f4bff1b7848db82b013fbfba194514b420ca
   "metadata": {
    "lines_to_next_cell": 0
   },
   "source": [
    "However, we do not wish to save this plot as PDF. To avoid this problem, we can either use the `scattermore = TRUE` argument in `plotSpatialFeature()` and plot the centroids since the polygons are hard to see anyway. \n",
    "\n",
    "Cell density can be vaguely seen in the plot above. Here we count the number of cells in bins to better visualize cell density."
   ]
  },
  {
   "cell_type": "code",
   "execution_count": null,
<<<<<<< HEAD
<<<<<<< HEAD
<<<<<<< HEAD
   "id": "ceaaeda8",
||||||| 3477967
   "id": "6f04f1b9",
=======
   "id": "d4d9fbd8",
>>>>>>> 763a65aa00deab365d39bc26b2dcb2cc1410a666
||||||| eb63ff5
   "id": "ceaaeda8",
=======
   "id": "d7203e29",
>>>>>>> documentation-devel
||||||| cd53b20
<<<<<<< HEAD
   "id": "ceaaeda8",
||||||| 3477967
   "id": "6f04f1b9",
=======
   "id": "d4d9fbd8",
>>>>>>> 763a65aa00deab365d39bc26b2dcb2cc1410a666
=======
   "id": "61b7f991",
>>>>>>> 61c8f4bff1b7848db82b013fbfba194514b420ca
   "metadata": {
    "fig.height": 6,
    "fig.width": 9
   },
   "outputs": [],
   "source": [
    "plotCellBin2D(sfe, bins = 300, hex = TRUE)"
   ]
  },
  {
   "cell_type": "markdown",
<<<<<<< HEAD
<<<<<<< HEAD
<<<<<<< HEAD
   "id": "cc786f86",
||||||| 3477967
   "id": "a600f19e",
=======
   "id": "1e89a998",
>>>>>>> 763a65aa00deab365d39bc26b2dcb2cc1410a666
||||||| eb63ff5
   "id": "cc786f86",
=======
   "id": "bb8b93ef",
>>>>>>> documentation-devel
||||||| cd53b20
<<<<<<< HEAD
   "id": "cc786f86",
||||||| 3477967
   "id": "a600f19e",
=======
   "id": "1e89a998",
>>>>>>> 763a65aa00deab365d39bc26b2dcb2cc1410a666
=======
   "id": "24f6deaa",
>>>>>>> 61c8f4bff1b7848db82b013fbfba194514b420ca
   "metadata": {
    "lines_to_next_cell": 0
   },
   "source": [
    "Cell density is for the most part homogeneous but shows some structure with denser regions that seem to relate to the blood vessels.\n",
    "\n",
    "# Quality control"
   ]
  },
  {
   "cell_type": "code",
   "execution_count": null,
<<<<<<< HEAD
<<<<<<< HEAD
<<<<<<< HEAD
   "id": "8a8be742",
||||||| 3477967
   "id": "4a2efbc6",
=======
   "id": "142f0028",
>>>>>>> 763a65aa00deab365d39bc26b2dcb2cc1410a666
||||||| eb63ff5
   "id": "8a8be742",
=======
   "id": "72ff1cb1",
>>>>>>> documentation-devel
||||||| cd53b20
<<<<<<< HEAD
   "id": "8a8be742",
||||||| 3477967
   "id": "4a2efbc6",
=======
   "id": "142f0028",
>>>>>>> 763a65aa00deab365d39bc26b2dcb2cc1410a666
=======
   "id": "965c8ef5",
>>>>>>> 61c8f4bff1b7848db82b013fbfba194514b420ca
   "metadata": {},
   "outputs": [],
   "source": [
    "names(colData(sfe))"
   ]
  },
  {
   "cell_type": "markdown",
<<<<<<< HEAD
<<<<<<< HEAD
<<<<<<< HEAD
   "id": "542f0f4f",
||||||| 3477967
   "id": "ce2f9821",
=======
   "id": "f721ab39",
>>>>>>> 763a65aa00deab365d39bc26b2dcb2cc1410a666
||||||| eb63ff5
   "id": "542f0f4f",
=======
   "id": "47a5bf88",
>>>>>>> documentation-devel
||||||| cd53b20
<<<<<<< HEAD
   "id": "542f0f4f",
||||||| 3477967
   "id": "ce2f9821",
=======
   "id": "f721ab39",
>>>>>>> 763a65aa00deab365d39bc26b2dcb2cc1410a666
=======
   "id": "46abf73b",
>>>>>>> 61c8f4bff1b7848db82b013fbfba194514b420ca
   "metadata": {
    "lines_to_next_cell": 0
   },
   "source": [
    "Plotting almost 400,000 polygons is kind of slow but doable."
   ]
  },
  {
   "cell_type": "code",
   "execution_count": null,
<<<<<<< HEAD
<<<<<<< HEAD
<<<<<<< HEAD
   "id": "d58ae836",
||||||| 3477967
   "id": "6ed91799",
=======
   "id": "f83c904d",
>>>>>>> 763a65aa00deab365d39bc26b2dcb2cc1410a666
||||||| eb63ff5
   "id": "d58ae836",
=======
   "id": "41779064",
>>>>>>> documentation-devel
||||||| cd53b20
<<<<<<< HEAD
   "id": "d58ae836",
||||||| 3477967
   "id": "6ed91799",
=======
   "id": "f83c904d",
>>>>>>> 763a65aa00deab365d39bc26b2dcb2cc1410a666
=======
   "id": "c0b9af33",
>>>>>>> 61c8f4bff1b7848db82b013fbfba194514b420ca
   "metadata": {},
   "outputs": [],
   "source": [
    "system.time(\n",
    "    print(plotSpatialFeature(sfe, \"nCounts\", colGeometryName = \"cellSeg\"))\n",
    ")"
   ]
  },
  {
   "cell_type": "markdown",
<<<<<<< HEAD
<<<<<<< HEAD
<<<<<<< HEAD
   "id": "c7c5f8b1",
||||||| 3477967
   "id": "b040200b",
=======
   "id": "133ca020",
>>>>>>> 763a65aa00deab365d39bc26b2dcb2cc1410a666
||||||| eb63ff5
   "id": "c7c5f8b1",
=======
   "id": "302bc8be",
>>>>>>> documentation-devel
||||||| cd53b20
<<<<<<< HEAD
   "id": "c7c5f8b1",
||||||| 3477967
   "id": "b040200b",
=======
   "id": "133ca020",
>>>>>>> 763a65aa00deab365d39bc26b2dcb2cc1410a666
=======
   "id": "164ed0bb",
>>>>>>> 61c8f4bff1b7848db82b013fbfba194514b420ca
   "metadata": {},
   "source": [
    "Here nCounts kind of looks like salt and pepper. Using the [`scattermore`](https://github.com/exaexa/scattermore) package can speed up plotting a large number of points. In this non-interactive plot, the cell polygons are too small to see anyway, so plotting cell centroid points should be fine. "
   ]
  },
  {
   "cell_type": "code",
   "execution_count": null,
<<<<<<< HEAD
<<<<<<< HEAD
<<<<<<< HEAD
   "id": "662c2bcf",
||||||| 3477967
   "id": "53aeba7c",
=======
   "id": "cab249ba",
>>>>>>> 763a65aa00deab365d39bc26b2dcb2cc1410a666
||||||| eb63ff5
   "id": "662c2bcf",
=======
   "id": "20c8aa01",
>>>>>>> documentation-devel
||||||| cd53b20
<<<<<<< HEAD
   "id": "662c2bcf",
||||||| 3477967
   "id": "53aeba7c",
=======
   "id": "cab249ba",
>>>>>>> 763a65aa00deab365d39bc26b2dcb2cc1410a666
=======
   "id": "813a8fba",
>>>>>>> 61c8f4bff1b7848db82b013fbfba194514b420ca
   "metadata": {},
   "outputs": [],
   "source": [
    "system.time({\n",
    "    print(plotSpatialFeature(sfe, \"nCounts\", colGeometryName = \"centroids\",\n",
    "                             scattermore = TRUE))\n",
    "})"
   ]
  },
  {
   "cell_type": "markdown",
<<<<<<< HEAD
<<<<<<< HEAD
<<<<<<< HEAD
   "id": "11c1dd53",
||||||| 3477967
   "id": "35da1329",
=======
   "id": "444acb50",
>>>>>>> 763a65aa00deab365d39bc26b2dcb2cc1410a666
||||||| eb63ff5
   "id": "11c1dd53",
=======
   "id": "1db2f811",
>>>>>>> documentation-devel
||||||| cd53b20
<<<<<<< HEAD
   "id": "11c1dd53",
||||||| 3477967
   "id": "35da1329",
=======
   "id": "444acb50",
>>>>>>> 763a65aa00deab365d39bc26b2dcb2cc1410a666
=======
   "id": "11a0452b",
>>>>>>> 61c8f4bff1b7848db82b013fbfba194514b420ca
   "metadata": {},
   "source": [
    "When run on our server, plotting almost 400,000 polygons took around 23 seconds, while using `geom_scattermore()` (`scattermore = TRUE`) took about 2 seconds. Since `geom_scattermore()` rasterizes the plot, the plot will be pixelated when zoomed in. \n",
    "\n",
    "While interactive data visualization is useful for ESDA, there is a need for static figures in publications. As of Voyager 1.2.0 (Bioconductor 3.17), a bounding box can be specified to zoom into the data."
   ]
  },
  {
   "cell_type": "code",
   "execution_count": null,
<<<<<<< HEAD
<<<<<<< HEAD
<<<<<<< HEAD
   "id": "68c19866",
||||||| 3477967
   "id": "aa82aefc",
=======
   "id": "7803cdc3",
>>>>>>> 763a65aa00deab365d39bc26b2dcb2cc1410a666
||||||| eb63ff5
   "id": "68c19866",
=======
   "id": "5b75f4b6",
>>>>>>> documentation-devel
||||||| cd53b20
<<<<<<< HEAD
   "id": "68c19866",
||||||| 3477967
   "id": "aa82aefc",
=======
   "id": "7803cdc3",
>>>>>>> 763a65aa00deab365d39bc26b2dcb2cc1410a666
=======
   "id": "2e2e573f",
>>>>>>> 61c8f4bff1b7848db82b013fbfba194514b420ca
   "metadata": {},
   "outputs": [],
   "source": [
    "bbox_use <- c(xmin = 3000, xmax = 3500, ymin = 2500, ymax = 3000)"
   ]
  },
  {
   "cell_type": "code",
   "execution_count": null,
<<<<<<< HEAD
<<<<<<< HEAD
<<<<<<< HEAD
   "id": "3ae98d8a",
||||||| 3477967
   "id": "1d5bec5a",
=======
   "id": "002896dc",
>>>>>>> 763a65aa00deab365d39bc26b2dcb2cc1410a666
||||||| eb63ff5
   "id": "3ae98d8a",
=======
   "id": "26ad275a",
>>>>>>> documentation-devel
||||||| cd53b20
<<<<<<< HEAD
   "id": "3ae98d8a",
||||||| 3477967
   "id": "1d5bec5a",
=======
   "id": "002896dc",
>>>>>>> 763a65aa00deab365d39bc26b2dcb2cc1410a666
=======
   "id": "75fb7d04",
>>>>>>> 61c8f4bff1b7848db82b013fbfba194514b420ca
   "metadata": {},
   "outputs": [],
   "source": [
    "plotSpatialFeature(sfe, \"nCounts\", colGeometryName = \"cellSeg\", bbox = bbox_use)"
   ]
  },
  {
   "cell_type": "markdown",
<<<<<<< HEAD
<<<<<<< HEAD
<<<<<<< HEAD
   "id": "49c66332",
||||||| 3477967
   "id": "439a9733",
=======
   "id": "ee482120",
>>>>>>> 763a65aa00deab365d39bc26b2dcb2cc1410a666
||||||| eb63ff5
   "id": "49c66332",
=======
   "id": "c7f0a6ce",
>>>>>>> documentation-devel
||||||| cd53b20
<<<<<<< HEAD
   "id": "49c66332",
||||||| 3477967
   "id": "439a9733",
=======
   "id": "ee482120",
>>>>>>> 763a65aa00deab365d39bc26b2dcb2cc1410a666
=======
   "id": "76a13ec4",
>>>>>>> 61c8f4bff1b7848db82b013fbfba194514b420ca
   "metadata": {
    "lines_to_next_cell": 0
   },
   "source": [
    "Much of the time making this plot is spent subsetting the `sf` data frame with the bounding box. Here, spatial autocorrelation is evident in the upper right region with smaller cells, but less so in the rest of this patch. nCounts seems to be related to cell size; larger cells seem to have more total counts.\n",
    "\n",
    "Interactive data visualization is currently beyond the scope of `Voyager` or this vignette. There are existing tools for interactive visualization of highly multiplexed imaging data, such as [`MERmaid`](https://github.com/JEFworks-Lab/MERmaid) [@Wang2020-sv] for MERFISH data, [`TissUUmaps`](https://github.com/TissUUmaps/TissUUmapsCore) [@Pielawski2022-wk], and [`Visinity`](https://github.com/labsyspharm/visinity) [@Warchol2022-zw].\n",
    "\n",
    "Since there aren't too many genes, all genes and negative control probes can be displayed:"
   ]
  },
  {
   "cell_type": "code",
   "execution_count": null,
<<<<<<< HEAD
<<<<<<< HEAD
<<<<<<< HEAD
   "id": "6b40f5b8",
||||||| 3477967
   "id": "07630132",
=======
   "id": "9de3c960",
>>>>>>> 763a65aa00deab365d39bc26b2dcb2cc1410a666
||||||| eb63ff5
   "id": "6b40f5b8",
=======
   "id": "35e63417",
>>>>>>> documentation-devel
||||||| cd53b20
<<<<<<< HEAD
   "id": "6b40f5b8",
||||||| 3477967
   "id": "07630132",
=======
   "id": "9de3c960",
>>>>>>> 763a65aa00deab365d39bc26b2dcb2cc1410a666
=======
   "id": "33aeb509",
>>>>>>> 61c8f4bff1b7848db82b013fbfba194514b420ca
   "metadata": {},
   "outputs": [],
   "source": [
    "rownames(sfe)"
   ]
  },
  {
   "cell_type": "markdown",
<<<<<<< HEAD
<<<<<<< HEAD
<<<<<<< HEAD
   "id": "29069cbd",
||||||| 3477967
   "id": "30b95d47",
=======
   "id": "8a04c6ee",
>>>>>>> 763a65aa00deab365d39bc26b2dcb2cc1410a666
||||||| eb63ff5
   "id": "29069cbd",
=======
   "id": "8ff4a064",
>>>>>>> documentation-devel
||||||| cd53b20
<<<<<<< HEAD
   "id": "29069cbd",
||||||| 3477967
   "id": "30b95d47",
=======
   "id": "8a04c6ee",
>>>>>>> 763a65aa00deab365d39bc26b2dcb2cc1410a666
=======
   "id": "3776da52",
>>>>>>> 61c8f4bff1b7848db82b013fbfba194514b420ca
   "metadata": {},
   "source": [
    "The number of real genes is 347."
   ]
  },
  {
   "cell_type": "code",
   "execution_count": null,
<<<<<<< HEAD
<<<<<<< HEAD
<<<<<<< HEAD
   "id": "412a1b02",
||||||| 3477967
   "id": "74c98820",
=======
   "id": "8960cad2",
>>>>>>> 763a65aa00deab365d39bc26b2dcb2cc1410a666
||||||| eb63ff5
   "id": "412a1b02",
=======
   "id": "0275fc38",
>>>>>>> documentation-devel
||||||| cd53b20
<<<<<<< HEAD
   "id": "412a1b02",
||||||| 3477967
   "id": "74c98820",
=======
   "id": "8960cad2",
>>>>>>> 763a65aa00deab365d39bc26b2dcb2cc1410a666
=======
   "id": "b413815f",
>>>>>>> 61c8f4bff1b7848db82b013fbfba194514b420ca
   "metadata": {},
   "outputs": [],
   "source": [
    "n_panel <- 347"
   ]
  },
  {
   "cell_type": "markdown",
<<<<<<< HEAD
<<<<<<< HEAD
<<<<<<< HEAD
   "id": "bcbcacb0",
||||||| 3477967
   "id": "1e2494a9",
=======
   "id": "6496cc2d",
>>>>>>> 763a65aa00deab365d39bc26b2dcb2cc1410a666
||||||| eb63ff5
   "id": "bcbcacb0",
=======
   "id": "68c881f9",
>>>>>>> documentation-devel
||||||| cd53b20
<<<<<<< HEAD
   "id": "bcbcacb0",
||||||| 3477967
   "id": "1e2494a9",
=======
   "id": "6496cc2d",
>>>>>>> 763a65aa00deab365d39bc26b2dcb2cc1410a666
=======
   "id": "ed50a1bc",
>>>>>>> 61c8f4bff1b7848db82b013fbfba194514b420ca
   "metadata": {
    "lines_to_next_cell": 0
   },
   "source": [
    "Next, we plot the distribution of nCounts divided by the number of genes in the panel, so this distribution is more comparable across datasets with different numbers of genes."
   ]
  },
  {
   "cell_type": "code",
   "execution_count": null,
<<<<<<< HEAD
<<<<<<< HEAD
<<<<<<< HEAD
   "id": "aa474a14",
||||||| 3477967
   "id": "f919ef94",
=======
   "id": "f24fc53a",
>>>>>>> 763a65aa00deab365d39bc26b2dcb2cc1410a666
||||||| eb63ff5
   "id": "aa474a14",
=======
   "id": "76281c3c",
>>>>>>> documentation-devel
||||||| cd53b20
<<<<<<< HEAD
   "id": "aa474a14",
||||||| 3477967
   "id": "f919ef94",
=======
   "id": "f24fc53a",
>>>>>>> 763a65aa00deab365d39bc26b2dcb2cc1410a666
=======
   "id": "ea05ac24",
>>>>>>> 61c8f4bff1b7848db82b013fbfba194514b420ca
   "metadata": {},
   "outputs": [],
   "source": [
    "colData(sfe)$nCounts_normed <- sfe$nCounts / n_panel\n",
    "colData(sfe)$nGenes_normed <- sfe$nGenes / n_panel"
   ]
  },
  {
   "cell_type": "code",
   "execution_count": null,
<<<<<<< HEAD
<<<<<<< HEAD
<<<<<<< HEAD
   "id": "3a0743f3",
||||||| 3477967
   "id": "1ac6a203",
=======
   "id": "dbb4e98b",
>>>>>>> 763a65aa00deab365d39bc26b2dcb2cc1410a666
||||||| eb63ff5
   "id": "3a0743f3",
=======
   "id": "956aa3ef",
>>>>>>> documentation-devel
||||||| cd53b20
<<<<<<< HEAD
   "id": "3a0743f3",
||||||| 3477967
   "id": "1ac6a203",
=======
   "id": "dbb4e98b",
>>>>>>> 763a65aa00deab365d39bc26b2dcb2cc1410a666
=======
   "id": "9059261c",
>>>>>>> 61c8f4bff1b7848db82b013fbfba194514b420ca
   "metadata": {},
   "outputs": [],
   "source": [
    "plotColDataHistogram(sfe, c(\"nCounts_normed\", \"nGenes_normed\"))"
   ]
  },
  {
   "cell_type": "markdown",
<<<<<<< HEAD
<<<<<<< HEAD
<<<<<<< HEAD
   "id": "8c130d8e",
||||||| 3477967
   "id": "6f621aa8",
=======
   "id": "93df3539",
>>>>>>> 763a65aa00deab365d39bc26b2dcb2cc1410a666
||||||| eb63ff5
   "id": "8c130d8e",
=======
   "id": "1c7ae431",
>>>>>>> documentation-devel
||||||| cd53b20
<<<<<<< HEAD
   "id": "8c130d8e",
||||||| 3477967
   "id": "6f621aa8",
=======
   "id": "93df3539",
>>>>>>> 763a65aa00deab365d39bc26b2dcb2cc1410a666
=======
   "id": "06f3164d",
>>>>>>> 61c8f4bff1b7848db82b013fbfba194514b420ca
   "metadata": {
    "lines_to_next_cell": 0
   },
   "source": [
    "As with the [Xenium dataset](https://pachterlab.github.io/voyager/articles/vig5_xenium.html#cells), there are mysterious regular notches in the histogram of the number of genes detected.\n",
    "\n",
    "We also plot the number of genes detected per cell, with `geom_scattermore()`."
   ]
  },
  {
   "cell_type": "code",
   "execution_count": null,
<<<<<<< HEAD
<<<<<<< HEAD
<<<<<<< HEAD
   "id": "5d19b0a8",
||||||| 3477967
   "id": "04ec0470",
=======
   "id": "ab831dda",
>>>>>>> 763a65aa00deab365d39bc26b2dcb2cc1410a666
||||||| eb63ff5
   "id": "5d19b0a8",
=======
   "id": "fe3db6cf",
>>>>>>> documentation-devel
||||||| cd53b20
<<<<<<< HEAD
   "id": "5d19b0a8",
||||||| 3477967
   "id": "04ec0470",
=======
   "id": "ab831dda",
>>>>>>> 763a65aa00deab365d39bc26b2dcb2cc1410a666
=======
   "id": "4bb17f5f",
>>>>>>> 61c8f4bff1b7848db82b013fbfba194514b420ca
   "metadata": {},
   "outputs": [],
   "source": [
    "plotSpatialFeature(sfe, \"nGenes\", colGeometryName = \"centroids\", scattermore = TRUE)"
   ]
  },
  {
   "cell_type": "markdown",
<<<<<<< HEAD
<<<<<<< HEAD
<<<<<<< HEAD
   "id": "a36cf773",
||||||| 3477967
   "id": "f751b5aa",
=======
   "id": "d9093d4e",
>>>>>>> 763a65aa00deab365d39bc26b2dcb2cc1410a666
||||||| eb63ff5
   "id": "a36cf773",
=======
   "id": "0574ac5e",
>>>>>>> documentation-devel
||||||| cd53b20
<<<<<<< HEAD
   "id": "a36cf773",
||||||| 3477967
   "id": "f751b5aa",
=======
   "id": "d9093d4e",
>>>>>>> 763a65aa00deab365d39bc26b2dcb2cc1410a666
=======
   "id": "ef0d1b5c",
>>>>>>> 61c8f4bff1b7848db82b013fbfba194514b420ca
   "metadata": {
    "lines_to_next_cell": 0
   },
   "source": [
    "Similarly to nCounts, the points look intermingled. \n",
    "\n",
    "Distribution of cell volume in space:"
   ]
  },
  {
   "cell_type": "code",
   "execution_count": null,
<<<<<<< HEAD
<<<<<<< HEAD
<<<<<<< HEAD
   "id": "73e161e4",
||||||| 3477967
   "id": "52490462",
=======
   "id": "3d6e6e7b",
>>>>>>> 763a65aa00deab365d39bc26b2dcb2cc1410a666
||||||| eb63ff5
   "id": "73e161e4",
=======
   "id": "b2bf7697",
>>>>>>> documentation-devel
||||||| cd53b20
<<<<<<< HEAD
   "id": "73e161e4",
||||||| 3477967
   "id": "52490462",
=======
   "id": "3d6e6e7b",
>>>>>>> 763a65aa00deab365d39bc26b2dcb2cc1410a666
=======
   "id": "5d976b2d",
>>>>>>> 61c8f4bff1b7848db82b013fbfba194514b420ca
   "metadata": {},
   "outputs": [],
   "source": [
    "plotSpatialFeature(sfe, \"volume\", colGeometryName = \"centroids\", scattermore = TRUE)"
   ]
  },
  {
   "cell_type": "markdown",
<<<<<<< HEAD
<<<<<<< HEAD
<<<<<<< HEAD
   "id": "eefc2d83",
||||||| 3477967
   "id": "99a991dc",
=======
   "id": "6613f831",
>>>>>>> 763a65aa00deab365d39bc26b2dcb2cc1410a666
||||||| eb63ff5
   "id": "eefc2d83",
=======
   "id": "8277c222",
>>>>>>> documentation-devel
||||||| cd53b20
<<<<<<< HEAD
   "id": "eefc2d83",
||||||| 3477967
   "id": "99a991dc",
=======
   "id": "6613f831",
>>>>>>> 763a65aa00deab365d39bc26b2dcb2cc1410a666
=======
   "id": "456a86c2",
>>>>>>> 61c8f4bff1b7848db82b013fbfba194514b420ca
   "metadata": {
    "lines_to_next_cell": 0
   },
   "source": [
    "Next, we explore how nCounts relates to nGenes:"
   ]
  },
  {
   "cell_type": "code",
   "execution_count": null,
<<<<<<< HEAD
<<<<<<< HEAD
<<<<<<< HEAD
   "id": "cc194a1f",
||||||| 3477967
   "id": "70d9d28f",
=======
   "id": "96c095f8",
>>>>>>> 763a65aa00deab365d39bc26b2dcb2cc1410a666
||||||| eb63ff5
   "id": "cc194a1f",
=======
   "id": "fd9864e5",
>>>>>>> documentation-devel
||||||| cd53b20
<<<<<<< HEAD
   "id": "cc194a1f",
||||||| 3477967
   "id": "70d9d28f",
=======
   "id": "96c095f8",
>>>>>>> 763a65aa00deab365d39bc26b2dcb2cc1410a666
=======
   "id": "40acf836",
>>>>>>> 61c8f4bff1b7848db82b013fbfba194514b420ca
   "metadata": {},
   "outputs": [],
   "source": [
    "plotColDataBin2D(sfe, \"nCounts\", \"nGenes\")"
   ]
  },
  {
   "cell_type": "markdown",
<<<<<<< HEAD
<<<<<<< HEAD
<<<<<<< HEAD
   "id": "1c8ca191",
||||||| 3477967
   "id": "e1cf790c",
=======
   "id": "287caf32",
>>>>>>> 763a65aa00deab365d39bc26b2dcb2cc1410a666
||||||| eb63ff5
   "id": "1c8ca191",
=======
   "id": "fb2cba9c",
>>>>>>> documentation-devel
||||||| cd53b20
<<<<<<< HEAD
   "id": "1c8ca191",
||||||| 3477967
   "id": "e1cf790c",
=======
   "id": "287caf32",
>>>>>>> 763a65aa00deab365d39bc26b2dcb2cc1410a666
=======
   "id": "6d1d0c69",
>>>>>>> 61c8f4bff1b7848db82b013fbfba194514b420ca
   "metadata": {
    "lines_to_next_cell": 0
   },
   "source": [
    "There are two branches in this plot. \n",
    "\n",
    "How does cell size relate to nCounts?"
   ]
  },
  {
   "cell_type": "code",
   "execution_count": null,
<<<<<<< HEAD
<<<<<<< HEAD
<<<<<<< HEAD
   "id": "f0cea88f",
||||||| 3477967
   "id": "c93bdc0a",
=======
   "id": "4c57244a",
>>>>>>> 763a65aa00deab365d39bc26b2dcb2cc1410a666
||||||| eb63ff5
   "id": "f0cea88f",
=======
   "id": "2ebd086f",
>>>>>>> documentation-devel
||||||| cd53b20
<<<<<<< HEAD
   "id": "f0cea88f",
||||||| 3477967
   "id": "c93bdc0a",
=======
   "id": "4c57244a",
>>>>>>> 763a65aa00deab365d39bc26b2dcb2cc1410a666
=======
   "id": "07122f3c",
>>>>>>> 61c8f4bff1b7848db82b013fbfba194514b420ca
   "metadata": {},
   "outputs": [],
   "source": [
    "plotColDataBin2D(sfe, \"volume\", \"nCounts\")"
   ]
  },
  {
   "cell_type": "markdown",
<<<<<<< HEAD
<<<<<<< HEAD
<<<<<<< HEAD
   "id": "6079d36d",
||||||| 3477967
   "id": "5ff021b0",
=======
   "id": "5d553af9",
>>>>>>> 763a65aa00deab365d39bc26b2dcb2cc1410a666
||||||| eb63ff5
   "id": "6079d36d",
=======
   "id": "a998d8d1",
>>>>>>> documentation-devel
||||||| cd53b20
<<<<<<< HEAD
   "id": "6079d36d",
||||||| 3477967
   "id": "5ff021b0",
=======
   "id": "5d553af9",
>>>>>>> 763a65aa00deab365d39bc26b2dcb2cc1410a666
=======
   "id": "82b18b42",
>>>>>>> 61c8f4bff1b7848db82b013fbfba194514b420ca
   "metadata": {
    "lines_to_next_cell": 0
   },
   "source": [
    "The lower branch has the larger cells that don't tend to have more total counts, and the upper branch has larger cells that tend to have more total counts.\n",
    "\n",
    "We also examine how cell size relates to number of genes detected:"
   ]
  },
  {
   "cell_type": "code",
   "execution_count": null,
<<<<<<< HEAD
<<<<<<< HEAD
<<<<<<< HEAD
   "id": "a59e1139",
||||||| 3477967
   "id": "5fdd7600",
=======
   "id": "7d9f00d8",
>>>>>>> 763a65aa00deab365d39bc26b2dcb2cc1410a666
||||||| eb63ff5
   "id": "a59e1139",
=======
   "id": "51a0d183",
>>>>>>> documentation-devel
||||||| cd53b20
<<<<<<< HEAD
   "id": "a59e1139",
||||||| 3477967
   "id": "5fdd7600",
=======
   "id": "7d9f00d8",
>>>>>>> 763a65aa00deab365d39bc26b2dcb2cc1410a666
=======
   "id": "85988545",
>>>>>>> 61c8f4bff1b7848db82b013fbfba194514b420ca
   "metadata": {},
   "outputs": [],
   "source": [
    "plotColDataBin2D(sfe, \"volume\", \"nGenes\")"
   ]
  },
  {
   "cell_type": "markdown",
<<<<<<< HEAD
<<<<<<< HEAD
<<<<<<< HEAD
   "id": "8d5cd94c",
||||||| 3477967
   "id": "3c001249",
=======
   "id": "e4531077",
>>>>>>> 763a65aa00deab365d39bc26b2dcb2cc1410a666
||||||| eb63ff5
   "id": "8d5cd94c",
=======
   "id": "db6794f7",
>>>>>>> documentation-devel
||||||| cd53b20
<<<<<<< HEAD
   "id": "8d5cd94c",
||||||| 3477967
   "id": "3c001249",
=======
   "id": "e4531077",
>>>>>>> 763a65aa00deab365d39bc26b2dcb2cc1410a666
=======
   "id": "16f6231d",
>>>>>>> 61c8f4bff1b7848db82b013fbfba194514b420ca
   "metadata": {
    "lines_to_next_cell": 0
   },
   "source": [
    "There seem to be clusters that are possibly related to cell type. \n",
    "\n",
    "### Negative controls\n",
    "Blank probes are used as negative controls."
   ]
  },
  {
   "cell_type": "code",
   "execution_count": null,
<<<<<<< HEAD
<<<<<<< HEAD
<<<<<<< HEAD
   "id": "a9a6f502",
||||||| 3477967
   "id": "d77a3fd3",
=======
   "id": "da511cdb",
>>>>>>> 763a65aa00deab365d39bc26b2dcb2cc1410a666
||||||| eb63ff5
   "id": "a9a6f502",
=======
   "id": "f9a753c7",
>>>>>>> documentation-devel
||||||| cd53b20
<<<<<<< HEAD
   "id": "a9a6f502",
||||||| 3477967
   "id": "d77a3fd3",
=======
   "id": "da511cdb",
>>>>>>> 763a65aa00deab365d39bc26b2dcb2cc1410a666
=======
   "id": "b22cf677",
>>>>>>> 61c8f4bff1b7848db82b013fbfba194514b420ca
   "metadata": {},
   "outputs": [],
   "source": [
    "is_blank <- str_detect(rownames(sfe), \"^Blank-\")"
   ]
  },
  {
   "cell_type": "code",
   "execution_count": null,
<<<<<<< HEAD
<<<<<<< HEAD
<<<<<<< HEAD
   "id": "ac1ee06c",
||||||| 3477967
   "id": "dd3c5650",
=======
   "id": "f56662a3",
>>>>>>> 763a65aa00deab365d39bc26b2dcb2cc1410a666
||||||| eb63ff5
   "id": "ac1ee06c",
=======
   "id": "7a5e36ff",
>>>>>>> documentation-devel
||||||| cd53b20
<<<<<<< HEAD
   "id": "ac1ee06c",
||||||| 3477967
   "id": "dd3c5650",
=======
   "id": "f56662a3",
>>>>>>> 763a65aa00deab365d39bc26b2dcb2cc1410a666
=======
   "id": "2bbcf2c3",
>>>>>>> 61c8f4bff1b7848db82b013fbfba194514b420ca
   "metadata": {},
   "outputs": [],
   "source": [
    "sfe <- addPerCellQCMetrics(sfe, subset = list(blank = is_blank))"
   ]
  },
  {
   "cell_type": "code",
   "execution_count": null,
<<<<<<< HEAD
<<<<<<< HEAD
<<<<<<< HEAD
   "id": "8dec3c44",
||||||| 3477967
   "id": "229c2ee0",
=======
   "id": "747f4520",
>>>>>>> 763a65aa00deab365d39bc26b2dcb2cc1410a666
||||||| eb63ff5
   "id": "8dec3c44",
=======
   "id": "63fee2c3",
>>>>>>> documentation-devel
||||||| cd53b20
<<<<<<< HEAD
   "id": "8dec3c44",
||||||| 3477967
   "id": "229c2ee0",
=======
   "id": "747f4520",
>>>>>>> 763a65aa00deab365d39bc26b2dcb2cc1410a666
=======
   "id": "4c77fe6c",
>>>>>>> 61c8f4bff1b7848db82b013fbfba194514b420ca
   "metadata": {},
   "outputs": [],
   "source": [
    "names(colData(sfe))"
   ]
  },
  {
   "cell_type": "markdown",
<<<<<<< HEAD
<<<<<<< HEAD
<<<<<<< HEAD
   "id": "a6567032",
||||||| 3477967
   "id": "3a1dec4d",
=======
   "id": "fb47f93c",
>>>>>>> 763a65aa00deab365d39bc26b2dcb2cc1410a666
||||||| eb63ff5
   "id": "a6567032",
=======
   "id": "2891f134",
>>>>>>> documentation-devel
||||||| cd53b20
<<<<<<< HEAD
   "id": "a6567032",
||||||| 3477967
   "id": "3a1dec4d",
=======
   "id": "fb47f93c",
>>>>>>> 763a65aa00deab365d39bc26b2dcb2cc1410a666
=======
   "id": "05bf57ea",
>>>>>>> 61c8f4bff1b7848db82b013fbfba194514b420ca
   "metadata": {
    "lines_to_next_cell": 0
   },
   "source": [
    "Total transcript counts from the blank probes:"
   ]
  },
  {
   "cell_type": "code",
   "execution_count": null,
<<<<<<< HEAD
<<<<<<< HEAD
<<<<<<< HEAD
   "id": "5585ed3d",
||||||| 3477967
   "id": "0222ac51",
=======
   "id": "ab8d49f4",
>>>>>>> 763a65aa00deab365d39bc26b2dcb2cc1410a666
||||||| eb63ff5
   "id": "5585ed3d",
=======
   "id": "cb9552aa",
>>>>>>> documentation-devel
||||||| cd53b20
<<<<<<< HEAD
   "id": "5585ed3d",
||||||| 3477967
   "id": "0222ac51",
=======
   "id": "ab8d49f4",
>>>>>>> 763a65aa00deab365d39bc26b2dcb2cc1410a666
=======
   "id": "b5b9ba92",
>>>>>>> 61c8f4bff1b7848db82b013fbfba194514b420ca
   "metadata": {},
   "outputs": [],
   "source": [
    "plotSpatialFeature(sfe, \"subsets_blank_sum\", colGeometryName = \"centroids\",\n",
    "                   scattermore = TRUE)"
   ]
  },
  {
   "cell_type": "markdown",
<<<<<<< HEAD
<<<<<<< HEAD
<<<<<<< HEAD
   "id": "117155eb",
||||||| 3477967
   "id": "0ed8c85a",
=======
   "id": "261380d2",
>>>>>>> 763a65aa00deab365d39bc26b2dcb2cc1410a666
||||||| eb63ff5
   "id": "117155eb",
=======
   "id": "1aa6fe7f",
>>>>>>> documentation-devel
||||||| cd53b20
<<<<<<< HEAD
   "id": "117155eb",
||||||| 3477967
   "id": "0ed8c85a",
=======
   "id": "261380d2",
>>>>>>> 763a65aa00deab365d39bc26b2dcb2cc1410a666
=======
   "id": "2e90eb9a",
>>>>>>> 61c8f4bff1b7848db82b013fbfba194514b420ca
   "metadata": {
    "lines_to_next_cell": 0
   },
   "source": [
    "Number of blank features detected per cell:"
   ]
  },
  {
   "cell_type": "code",
   "execution_count": null,
<<<<<<< HEAD
<<<<<<< HEAD
<<<<<<< HEAD
   "id": "a4cf18dd",
||||||| 3477967
   "id": "bdf3033d",
=======
   "id": "35f9f652",
>>>>>>> 763a65aa00deab365d39bc26b2dcb2cc1410a666
||||||| eb63ff5
   "id": "a4cf18dd",
=======
   "id": "4abe2cf3",
>>>>>>> documentation-devel
||||||| cd53b20
<<<<<<< HEAD
   "id": "a4cf18dd",
||||||| 3477967
   "id": "bdf3033d",
=======
   "id": "35f9f652",
>>>>>>> 763a65aa00deab365d39bc26b2dcb2cc1410a666
=======
   "id": "452aded6",
>>>>>>> 61c8f4bff1b7848db82b013fbfba194514b420ca
   "metadata": {},
   "outputs": [],
   "source": [
    "plotSpatialFeature(sfe, \"subsets_blank_detected\", colGeometryName = \"centroids\",\n",
    "                   scattermore = TRUE)"
   ]
  },
  {
   "cell_type": "markdown",
<<<<<<< HEAD
<<<<<<< HEAD
<<<<<<< HEAD
   "id": "a7de72cc",
||||||| 3477967
   "id": "e5db3eeb",
=======
   "id": "e65fa352",
>>>>>>> 763a65aa00deab365d39bc26b2dcb2cc1410a666
||||||| eb63ff5
   "id": "a7de72cc",
=======
   "id": "f3b81e1b",
>>>>>>> documentation-devel
||||||| cd53b20
<<<<<<< HEAD
   "id": "a7de72cc",
||||||| 3477967
   "id": "e5db3eeb",
=======
   "id": "e65fa352",
>>>>>>> 763a65aa00deab365d39bc26b2dcb2cc1410a666
=======
   "id": "dd1639b2",
>>>>>>> 61c8f4bff1b7848db82b013fbfba194514b420ca
   "metadata": {
    "lines_to_next_cell": 0
   },
   "source": [
    "Percentage of blank features per cell:"
   ]
  },
  {
   "cell_type": "code",
   "execution_count": null,
<<<<<<< HEAD
<<<<<<< HEAD
<<<<<<< HEAD
   "id": "426b494d",
||||||| 3477967
   "id": "334138a0",
=======
   "id": "ba281c38",
>>>>>>> 763a65aa00deab365d39bc26b2dcb2cc1410a666
||||||| eb63ff5
   "id": "426b494d",
=======
   "id": "c510ae56",
>>>>>>> documentation-devel
||||||| cd53b20
<<<<<<< HEAD
   "id": "426b494d",
||||||| 3477967
   "id": "334138a0",
=======
   "id": "ba281c38",
>>>>>>> 763a65aa00deab365d39bc26b2dcb2cc1410a666
=======
   "id": "76d9247b",
>>>>>>> 61c8f4bff1b7848db82b013fbfba194514b420ca
   "metadata": {},
   "outputs": [],
   "source": [
    "plotSpatialFeature(sfe, \"subsets_blank_percent\", colGeometryName = \"centroids\",\n",
    "                   scattermore = TRUE)"
   ]
  },
  {
   "cell_type": "markdown",
<<<<<<< HEAD
<<<<<<< HEAD
<<<<<<< HEAD
   "id": "9f3cb865",
||||||| 3477967
   "id": "fefbf625",
=======
   "id": "e3caeada",
>>>>>>> 763a65aa00deab365d39bc26b2dcb2cc1410a666
||||||| eb63ff5
   "id": "9f3cb865",
=======
   "id": "4a8f455a",
>>>>>>> documentation-devel
||||||| cd53b20
<<<<<<< HEAD
   "id": "9f3cb865",
||||||| 3477967
   "id": "fefbf625",
=======
   "id": "e3caeada",
>>>>>>> 763a65aa00deab365d39bc26b2dcb2cc1410a666
=======
   "id": "fdaa5511",
>>>>>>> 61c8f4bff1b7848db82b013fbfba194514b420ca
   "metadata": {
    "lines_to_next_cell": 0
   },
   "source": [
    "The percentage is more interesting: within the tissue, cells with high percentage of blank counts are scattered like salt and pepper, but more of these cells are on the left edge of the tissue, the edges of FOVs, where the tissue itself doesn't end. \n",
    "\n",
    "Also plot histograms: "
   ]
  },
  {
   "cell_type": "code",
   "execution_count": null,
<<<<<<< HEAD
<<<<<<< HEAD
<<<<<<< HEAD
   "id": "c7ee52bf",
||||||| 3477967
   "id": "0d97fcdb",
=======
   "id": "95122804",
>>>>>>> 763a65aa00deab365d39bc26b2dcb2cc1410a666
||||||| eb63ff5
   "id": "c7ee52bf",
=======
   "id": "e9c640a5",
>>>>>>> documentation-devel
||||||| cd53b20
<<<<<<< HEAD
   "id": "c7ee52bf",
||||||| 3477967
   "id": "0d97fcdb",
=======
   "id": "95122804",
>>>>>>> 763a65aa00deab365d39bc26b2dcb2cc1410a666
=======
   "id": "ce7d914d",
>>>>>>> 61c8f4bff1b7848db82b013fbfba194514b420ca
   "metadata": {},
   "outputs": [],
   "source": [
    "plotColDataHistogram(sfe, paste0(\"subsets_blank_\", c(\"sum\", \"detected\", \"percent\")))"
   ]
  },
  {
   "cell_type": "markdown",
<<<<<<< HEAD
<<<<<<< HEAD
<<<<<<< HEAD
   "id": "685a64c2",
||||||| 3477967
   "id": "2308ce92",
=======
   "id": "2710940b",
>>>>>>> 763a65aa00deab365d39bc26b2dcb2cc1410a666
||||||| eb63ff5
   "id": "685a64c2",
=======
   "id": "d461ead4",
>>>>>>> documentation-devel
||||||| cd53b20
<<<<<<< HEAD
   "id": "685a64c2",
||||||| 3477967
   "id": "2308ce92",
=======
   "id": "2710940b",
>>>>>>> 763a65aa00deab365d39bc26b2dcb2cc1410a666
=======
   "id": "d1f5f76c",
>>>>>>> 61c8f4bff1b7848db82b013fbfba194514b420ca
   "metadata": {
    "lines_to_next_cell": 0
   },
   "source": [
    "The NA's are cells without any transcript detected. "
   ]
  },
  {
   "cell_type": "code",
   "execution_count": null,
<<<<<<< HEAD
<<<<<<< HEAD
<<<<<<< HEAD
   "id": "5587ef66",
||||||| 3477967
   "id": "3693c0dd",
=======
   "id": "9c49c1f0",
>>>>>>> 763a65aa00deab365d39bc26b2dcb2cc1410a666
||||||| eb63ff5
   "id": "5587ef66",
=======
   "id": "0703b60a",
>>>>>>> documentation-devel
||||||| cd53b20
<<<<<<< HEAD
   "id": "5587ef66",
||||||| 3477967
   "id": "3693c0dd",
=======
   "id": "9c49c1f0",
>>>>>>> 763a65aa00deab365d39bc26b2dcb2cc1410a666
=======
   "id": "0640342e",
>>>>>>> 61c8f4bff1b7848db82b013fbfba194514b420ca
   "metadata": {},
   "outputs": [],
   "source": [
    "mean(sfe$subsets_blank_sum > 0)"
   ]
  },
  {
   "cell_type": "markdown",
<<<<<<< HEAD
<<<<<<< HEAD
<<<<<<< HEAD
   "id": "c2b562ac",
||||||| 3477967
   "id": "f63be394",
=======
   "id": "bc7d952d",
>>>>>>> 763a65aa00deab365d39bc26b2dcb2cc1410a666
||||||| eb63ff5
   "id": "c2b562ac",
=======
   "id": "5a339ea2",
>>>>>>> documentation-devel
||||||| cd53b20
<<<<<<< HEAD
   "id": "c2b562ac",
||||||| 3477967
   "id": "f63be394",
=======
   "id": "bc7d952d",
>>>>>>> 763a65aa00deab365d39bc26b2dcb2cc1410a666
=======
   "id": "3b272ee3",
>>>>>>> 61c8f4bff1b7848db82b013fbfba194514b420ca
   "metadata": {
    "lines_to_next_cell": 0
   },
   "source": [
    "Unlike in the Xenium dataset, here most cells have at least one blank count. By log transforming, the zeroes are removed from the plot. "
   ]
  },
  {
   "cell_type": "code",
   "execution_count": null,
<<<<<<< HEAD
<<<<<<< HEAD
<<<<<<< HEAD
   "id": "b815f9e8",
||||||| 3477967
   "id": "cf9f2fca",
=======
   "id": "e202aeb8",
>>>>>>> 763a65aa00deab365d39bc26b2dcb2cc1410a666
||||||| eb63ff5
   "id": "b815f9e8",
=======
   "id": "7f46b6ba",
>>>>>>> documentation-devel
||||||| cd53b20
<<<<<<< HEAD
   "id": "b815f9e8",
||||||| 3477967
   "id": "cf9f2fca",
=======
   "id": "e202aeb8",
>>>>>>> 763a65aa00deab365d39bc26b2dcb2cc1410a666
=======
   "id": "46556446",
>>>>>>> 61c8f4bff1b7848db82b013fbfba194514b420ca
   "metadata": {},
   "outputs": [],
   "source": [
    "plotColDataHistogram(sfe, \"subsets_blank_percent\") +\n",
    "    scale_x_log10() +\n",
    "    annotation_logticks()"
   ]
  },
  {
   "cell_type": "markdown",
<<<<<<< HEAD
<<<<<<< HEAD
<<<<<<< HEAD
   "id": "1d2d6bd1",
||||||| 3477967
   "id": "0694fcf5",
=======
   "id": "d6060ffe",
>>>>>>> 763a65aa00deab365d39bc26b2dcb2cc1410a666
||||||| eb63ff5
   "id": "1d2d6bd1",
=======
   "id": "4142d0eb",
>>>>>>> documentation-devel
||||||| cd53b20
<<<<<<< HEAD
   "id": "1d2d6bd1",
||||||| 3477967
   "id": "0694fcf5",
=======
   "id": "d6060ffe",
>>>>>>> 763a65aa00deab365d39bc26b2dcb2cc1410a666
=======
   "id": "670f1710",
>>>>>>> 61c8f4bff1b7848db82b013fbfba194514b420ca
   "metadata": {},
   "source": [
    "A small percentage of blank counts is acceptable. So we will remove the outlier based on the distribution of the percentage when it's greater than zero. How does the blank percentage relate to total counts?"
   ]
  },
  {
   "cell_type": "code",
   "execution_count": null,
<<<<<<< HEAD
<<<<<<< HEAD
<<<<<<< HEAD
   "id": "02831776",
||||||| 3477967
   "id": "87fb0982",
=======
   "id": "f04b8c94",
>>>>>>> 763a65aa00deab365d39bc26b2dcb2cc1410a666
||||||| eb63ff5
   "id": "02831776",
=======
   "id": "e0c1f27f",
>>>>>>> documentation-devel
||||||| cd53b20
<<<<<<< HEAD
   "id": "02831776",
||||||| 3477967
   "id": "87fb0982",
=======
   "id": "f04b8c94",
>>>>>>> 763a65aa00deab365d39bc26b2dcb2cc1410a666
=======
   "id": "981695c0",
>>>>>>> 61c8f4bff1b7848db82b013fbfba194514b420ca
   "metadata": {},
   "outputs": [],
   "source": [
    "plotColDataBin2D(sfe, \"nCounts\", \"subsets_blank_percent\") +\n",
    "    scale_fill_viridis_c()"
   ]
  },
  {
   "cell_type": "markdown",
<<<<<<< HEAD
<<<<<<< HEAD
<<<<<<< HEAD
   "id": "f3885124",
||||||| 3477967
   "id": "6448da3d",
=======
   "id": "770c1230",
>>>>>>> 763a65aa00deab365d39bc26b2dcb2cc1410a666
||||||| eb63ff5
   "id": "f3885124",
=======
   "id": "789fa275",
>>>>>>> documentation-devel
||||||| cd53b20
<<<<<<< HEAD
   "id": "f3885124",
||||||| 3477967
   "id": "6448da3d",
=======
   "id": "770c1230",
>>>>>>> 763a65aa00deab365d39bc26b2dcb2cc1410a666
=======
   "id": "f0f033a2",
>>>>>>> 61c8f4bff1b7848db82b013fbfba194514b420ca
   "metadata": {
    "lines_to_next_cell": 0
   },
   "source": [
    "The outliers in percentage of blank counts have low total counts. But there are some seemingly real cells with sizable nCounts which have a relatively high percentage of blank counts. Since the distribution of this percentage has a very long tail, we log transform it when finding outliers."
   ]
  },
  {
   "cell_type": "code",
   "execution_count": null,
<<<<<<< HEAD
<<<<<<< HEAD
<<<<<<< HEAD
   "id": "5599900f",
||||||| 3477967
   "id": "98186bd5",
=======
   "id": "52adbbe3",
>>>>>>> 763a65aa00deab365d39bc26b2dcb2cc1410a666
||||||| eb63ff5
   "id": "5599900f",
=======
   "id": "5b9a79da",
>>>>>>> documentation-devel
||||||| cd53b20
<<<<<<< HEAD
   "id": "5599900f",
||||||| 3477967
   "id": "98186bd5",
=======
   "id": "52adbbe3",
>>>>>>> 763a65aa00deab365d39bc26b2dcb2cc1410a666
=======
   "id": "4de980f2",
>>>>>>> 61c8f4bff1b7848db82b013fbfba194514b420ca
   "metadata": {},
   "outputs": [],
   "source": [
    "get_neg_ctrl_outliers <- function(col, sfe, nmads = 3, log = FALSE) {\n",
    "    inds <- colData(sfe)$nCounts > 0 & colData(sfe)[[col]] > 0\n",
    "    df <- colData(sfe)[inds,]\n",
    "    outlier_inds <- isOutlier(df[[col]], type = \"higher\", nmads = nmads, log = log)\n",
    "    outliers <- rownames(df)[outlier_inds]\n",
    "    col2 <- str_remove(col, \"^subsets_\")\n",
    "    col2 <- str_remove(col2, \"_percent$\")\n",
    "    new_colname <- paste(\"is\", col2, \"outlier\", sep = \"_\")\n",
    "    colData(sfe)[[new_colname]] <- colnames(sfe) %in% outliers\n",
    "    sfe\n",
    "}"
   ]
  },
  {
   "cell_type": "code",
   "execution_count": null,
<<<<<<< HEAD
<<<<<<< HEAD
<<<<<<< HEAD
   "id": "664e9880",
||||||| 3477967
   "id": "344a064c",
=======
   "id": "a8f5e779",
>>>>>>> 763a65aa00deab365d39bc26b2dcb2cc1410a666
||||||| eb63ff5
   "id": "664e9880",
=======
   "id": "5665af7a",
>>>>>>> documentation-devel
||||||| cd53b20
<<<<<<< HEAD
   "id": "664e9880",
||||||| 3477967
   "id": "344a064c",
=======
   "id": "a8f5e779",
>>>>>>> 763a65aa00deab365d39bc26b2dcb2cc1410a666
=======
   "id": "88b5782a",
>>>>>>> 61c8f4bff1b7848db82b013fbfba194514b420ca
   "metadata": {},
   "outputs": [],
   "source": [
    "sfe <- get_neg_ctrl_outliers(\"subsets_blank_percent\", sfe, log = TRUE)"
   ]
  },
  {
   "cell_type": "markdown",
<<<<<<< HEAD
<<<<<<< HEAD
<<<<<<< HEAD
   "id": "2eb46b66",
||||||| 3477967
   "id": "7d4c3577",
=======
   "id": "5b1329ba",
>>>>>>> 763a65aa00deab365d39bc26b2dcb2cc1410a666
||||||| eb63ff5
   "id": "2eb46b66",
=======
   "id": "97648b37",
>>>>>>> documentation-devel
||||||| cd53b20
<<<<<<< HEAD
   "id": "2eb46b66",
||||||| 3477967
   "id": "7d4c3577",
=======
   "id": "5b1329ba",
>>>>>>> 763a65aa00deab365d39bc26b2dcb2cc1410a666
=======
   "id": "ded63156",
>>>>>>> 61c8f4bff1b7848db82b013fbfba194514b420ca
   "metadata": {
    "lines_to_next_cell": 0
   },
   "source": [
    "What proportion of all cells are outliers?"
   ]
  },
  {
   "cell_type": "code",
   "execution_count": null,
<<<<<<< HEAD
<<<<<<< HEAD
<<<<<<< HEAD
   "id": "2ccd9cbc",
||||||| 3477967
   "id": "9dd97a20",
=======
   "id": "d3630060",
>>>>>>> 763a65aa00deab365d39bc26b2dcb2cc1410a666
||||||| eb63ff5
   "id": "2ccd9cbc",
=======
   "id": "b2acfef3",
>>>>>>> documentation-devel
||||||| cd53b20
<<<<<<< HEAD
   "id": "2ccd9cbc",
||||||| 3477967
   "id": "9dd97a20",
=======
   "id": "d3630060",
>>>>>>> 763a65aa00deab365d39bc26b2dcb2cc1410a666
=======
   "id": "9123a21b",
>>>>>>> 61c8f4bff1b7848db82b013fbfba194514b420ca
   "metadata": {},
   "outputs": [],
   "source": [
    "mean(sfe$is_blank_outlier)"
   ]
  },
  {
   "cell_type": "markdown",
<<<<<<< HEAD
<<<<<<< HEAD
<<<<<<< HEAD
   "id": "d7c9d9b8",
||||||| 3477967
   "id": "10ad25fe",
=======
   "id": "59e39c50",
>>>>>>> 763a65aa00deab365d39bc26b2dcb2cc1410a666
||||||| eb63ff5
   "id": "d7c9d9b8",
=======
   "id": "113fc01d",
>>>>>>> documentation-devel
||||||| cd53b20
<<<<<<< HEAD
   "id": "d7c9d9b8",
||||||| 3477967
   "id": "10ad25fe",
=======
   "id": "59e39c50",
>>>>>>> 763a65aa00deab365d39bc26b2dcb2cc1410a666
=======
   "id": "435bf4ba",
>>>>>>> 61c8f4bff1b7848db82b013fbfba194514b420ca
   "metadata": {
    "lines_to_next_cell": 0
   },
   "source": [
    "What's the cutoff for outlier?"
   ]
  },
  {
   "cell_type": "code",
   "execution_count": null,
<<<<<<< HEAD
<<<<<<< HEAD
<<<<<<< HEAD
   "id": "d254bf4b",
||||||| 3477967
   "id": "0d43d590",
=======
   "id": "9197b68a",
>>>>>>> 763a65aa00deab365d39bc26b2dcb2cc1410a666
||||||| eb63ff5
   "id": "d254bf4b",
=======
   "id": "1b8e558a",
>>>>>>> documentation-devel
||||||| cd53b20
<<<<<<< HEAD
   "id": "d254bf4b",
||||||| 3477967
   "id": "0d43d590",
=======
   "id": "9197b68a",
>>>>>>> 763a65aa00deab365d39bc26b2dcb2cc1410a666
=======
   "id": "b92bac08",
>>>>>>> 61c8f4bff1b7848db82b013fbfba194514b420ca
   "metadata": {},
   "outputs": [],
   "source": [
    "min(sfe$subsets_blank_percent[sfe$is_blank_outlier])"
   ]
  },
  {
   "cell_type": "markdown",
<<<<<<< HEAD
<<<<<<< HEAD
<<<<<<< HEAD
   "id": "2700ff48",
||||||| 3477967
   "id": "943368b9",
=======
   "id": "05872612",
>>>>>>> 763a65aa00deab365d39bc26b2dcb2cc1410a666
||||||| eb63ff5
   "id": "2700ff48",
=======
   "id": "997a16c5",
>>>>>>> documentation-devel
||||||| cd53b20
<<<<<<< HEAD
   "id": "2700ff48",
||||||| 3477967
   "id": "943368b9",
=======
   "id": "05872612",
>>>>>>> 763a65aa00deab365d39bc26b2dcb2cc1410a666
=======
   "id": "f0aa95a3",
>>>>>>> 61c8f4bff1b7848db82b013fbfba194514b420ca
   "metadata": {
    "lines_to_next_cell": 0
   },
   "source": [
    "Remove the outliers and empty cells:"
   ]
  },
  {
   "cell_type": "code",
   "execution_count": null,
<<<<<<< HEAD
<<<<<<< HEAD
<<<<<<< HEAD
   "id": "f36a307a",
||||||| 3477967
   "id": "3a94816f",
=======
   "id": "aef4ef58",
>>>>>>> 763a65aa00deab365d39bc26b2dcb2cc1410a666
||||||| eb63ff5
   "id": "f36a307a",
=======
   "id": "a0a67032",
>>>>>>> documentation-devel
||||||| cd53b20
<<<<<<< HEAD
   "id": "f36a307a",
||||||| 3477967
   "id": "3a94816f",
=======
   "id": "aef4ef58",
>>>>>>> 763a65aa00deab365d39bc26b2dcb2cc1410a666
=======
   "id": "27bd3f44",
>>>>>>> 61c8f4bff1b7848db82b013fbfba194514b420ca
   "metadata": {},
   "outputs": [],
   "source": [
    "(sfe <- sfe[, !sfe$is_blank_outlier & sfe$nCounts > 0])"
   ]
  },
  {
   "cell_type": "markdown",
<<<<<<< HEAD
<<<<<<< HEAD
<<<<<<< HEAD
   "id": "04d68a3f",
||||||| 3477967
   "id": "8c7672f2",
=======
   "id": "02f21460",
>>>>>>> 763a65aa00deab365d39bc26b2dcb2cc1410a666
||||||| eb63ff5
   "id": "04d68a3f",
=======
   "id": "b473ac8c",
>>>>>>> documentation-devel
||||||| cd53b20
<<<<<<< HEAD
   "id": "04d68a3f",
||||||| 3477967
   "id": "8c7672f2",
=======
   "id": "02f21460",
>>>>>>> 763a65aa00deab365d39bc26b2dcb2cc1410a666
=======
   "id": "4dea1b64",
>>>>>>> 61c8f4bff1b7848db82b013fbfba194514b420ca
   "metadata": {
    "lines_to_next_cell": 0
   },
   "source": [
    "There still are over 390,000 cells left after removing the outliers.\n",
    "\n",
    "## Genes\n",
    "Here we look at the mean and variance of each gene:"
   ]
  },
  {
   "cell_type": "code",
   "execution_count": null,
<<<<<<< HEAD
<<<<<<< HEAD
<<<<<<< HEAD
   "id": "833a9b7b",
||||||| 3477967
   "id": "1b2dab2b",
=======
   "id": "d893068b",
>>>>>>> 763a65aa00deab365d39bc26b2dcb2cc1410a666
||||||| eb63ff5
   "id": "833a9b7b",
=======
   "id": "50c9768d",
>>>>>>> documentation-devel
||||||| cd53b20
<<<<<<< HEAD
   "id": "833a9b7b",
||||||| 3477967
   "id": "1b2dab2b",
=======
   "id": "d893068b",
>>>>>>> 763a65aa00deab365d39bc26b2dcb2cc1410a666
=======
   "id": "4a45253f",
>>>>>>> 61c8f4bff1b7848db82b013fbfba194514b420ca
   "metadata": {},
   "outputs": [],
   "source": [
    "rowData(sfe)$means <- rowMeans(counts(sfe))\n",
    "rowData(sfe)$vars <- rowVars(counts(sfe))"
   ]
  },
  {
   "cell_type": "code",
   "execution_count": null,
<<<<<<< HEAD
<<<<<<< HEAD
<<<<<<< HEAD
   "id": "a0816eb8",
||||||| 3477967
   "id": "8999b609",
=======
   "id": "a60e454f",
>>>>>>> 763a65aa00deab365d39bc26b2dcb2cc1410a666
||||||| eb63ff5
   "id": "a0816eb8",
=======
   "id": "44d3068e",
>>>>>>> documentation-devel
||||||| cd53b20
<<<<<<< HEAD
   "id": "a0816eb8",
||||||| 3477967
   "id": "8999b609",
=======
   "id": "a60e454f",
>>>>>>> 763a65aa00deab365d39bc26b2dcb2cc1410a666
=======
   "id": "92d7fd06",
>>>>>>> 61c8f4bff1b7848db82b013fbfba194514b420ca
   "metadata": {},
   "outputs": [],
   "source": [
    "rowData(sfe)$is_blank <- is_blank\n",
    "plotRowData(sfe, x = \"means\", y = \"is_blank\") +\n",
    "    scale_y_log10() +\n",
    "    annotation_logticks(sides = \"b\")"
   ]
  },
  {
   "cell_type": "markdown",
<<<<<<< HEAD
<<<<<<< HEAD
<<<<<<< HEAD
   "id": "047fa66c",
||||||| 3477967
   "id": "7f02d685",
=======
   "id": "06e99f05",
>>>>>>> 763a65aa00deab365d39bc26b2dcb2cc1410a666
||||||| eb63ff5
   "id": "047fa66c",
=======
   "id": "53f19d0a",
>>>>>>> documentation-devel
||||||| cd53b20
<<<<<<< HEAD
   "id": "047fa66c",
||||||| 3477967
   "id": "7f02d685",
=======
   "id": "06e99f05",
>>>>>>> 763a65aa00deab365d39bc26b2dcb2cc1410a666
=======
   "id": "aed80b6d",
>>>>>>> 61c8f4bff1b7848db82b013fbfba194514b420ca
   "metadata": {
    "lines_to_next_cell": 0
   },
   "source": [
    "Most genes display higher mean expression than blanks, but there is considerable overlap in the distribution, probably because some genes expressed at lower levels or in fewer cells are included.\n",
    "\n",
    "Here the \"real\" genes and negative controls are plotted in different colors:"
   ]
  },
  {
   "cell_type": "code",
   "execution_count": null,
<<<<<<< HEAD
<<<<<<< HEAD
<<<<<<< HEAD
   "id": "a387ac87",
||||||| 3477967
   "id": "e4fa298d",
=======
   "id": "2c7c24e0",
>>>>>>> 763a65aa00deab365d39bc26b2dcb2cc1410a666
||||||| eb63ff5
   "id": "a387ac87",
=======
   "id": "9d22c084",
>>>>>>> documentation-devel
||||||| cd53b20
<<<<<<< HEAD
   "id": "a387ac87",
||||||| 3477967
   "id": "e4fa298d",
=======
   "id": "2c7c24e0",
>>>>>>> 763a65aa00deab365d39bc26b2dcb2cc1410a666
=======
   "id": "ffd2caa4",
>>>>>>> 61c8f4bff1b7848db82b013fbfba194514b420ca
   "metadata": {},
   "outputs": [],
   "source": [
    "plotRowData(sfe, x = \"means\", y = \"vars\", colour_by = \"is_blank\") +\n",
    "    geom_abline(slope = 1, intercept = 0, color = \"red\") +\n",
    "    scale_x_log10() + scale_y_log10() +\n",
    "    annotation_logticks() +\n",
    "    coord_equal()"
   ]
  },
  {
   "cell_type": "markdown",
<<<<<<< HEAD
<<<<<<< HEAD
<<<<<<< HEAD
   "id": "b4e54bcf",
||||||| 3477967
   "id": "0220ec03",
=======
   "id": "ce7050ee",
>>>>>>> 763a65aa00deab365d39bc26b2dcb2cc1410a666
||||||| eb63ff5
   "id": "b4e54bcf",
=======
   "id": "147dd643",
>>>>>>> documentation-devel
||||||| cd53b20
<<<<<<< HEAD
   "id": "b4e54bcf",
||||||| 3477967
   "id": "0220ec03",
=======
   "id": "ce7050ee",
>>>>>>> 763a65aa00deab365d39bc26b2dcb2cc1410a666
=======
   "id": "c778399a",
>>>>>>> 61c8f4bff1b7848db82b013fbfba194514b420ca
   "metadata": {
    "lines_to_next_cell": 0
   },
   "source": [
    "The red line $y = x$ is expected when the data follows a Poisson distribution. "
   ]
  },
  {
   "cell_type": "code",
   "execution_count": null,
<<<<<<< HEAD
<<<<<<< HEAD
<<<<<<< HEAD
   "id": "262fae07",
||||||| 3477967
   "id": "206c0327",
=======
   "id": "c245e3b2",
>>>>>>> 763a65aa00deab365d39bc26b2dcb2cc1410a666
||||||| eb63ff5
   "id": "262fae07",
=======
   "id": "7b43b17d",
>>>>>>> documentation-devel
||||||| cd53b20
<<<<<<< HEAD
   "id": "262fae07",
||||||| 3477967
   "id": "206c0327",
=======
   "id": "c245e3b2",
>>>>>>> 763a65aa00deab365d39bc26b2dcb2cc1410a666
=======
   "id": "98065e38",
>>>>>>> 61c8f4bff1b7848db82b013fbfba194514b420ca
   "metadata": {},
   "outputs": [],
   "source": [
    "as.data.frame(rowData(sfe)[is_blank,]) |> \n",
    "    ggplot(aes(means, vars)) +\n",
    "    geom_point() +\n",
    "    geom_abline(slope = 1, intercept = 0, color = \"red\") +\n",
    "    scale_x_log10() + scale_y_log10() +\n",
    "    annotation_logticks() +\n",
    "    coord_equal()"
   ]
  },
  {
   "cell_type": "markdown",
<<<<<<< HEAD
<<<<<<< HEAD
<<<<<<< HEAD
   "id": "87076b4a",
||||||| 3477967
   "id": "2ae99d23",
=======
   "id": "faf00cee",
>>>>>>> 763a65aa00deab365d39bc26b2dcb2cc1410a666
||||||| eb63ff5
   "id": "87076b4a",
=======
   "id": "dd14c41b",
>>>>>>> documentation-devel
||||||| cd53b20
<<<<<<< HEAD
   "id": "87076b4a",
||||||| 3477967
   "id": "2ae99d23",
=======
   "id": "faf00cee",
>>>>>>> 763a65aa00deab365d39bc26b2dcb2cc1410a666
=======
   "id": "1f99da85",
>>>>>>> 61c8f4bff1b7848db82b013fbfba194514b420ca
   "metadata": {
    "lines_to_next_cell": 0
   },
   "source": [
    "When zoomed in, the blanks are somewhat overdispersed.\n",
    "\n",
    "# Spatial autocorrelation of QC metrics\n",
    "\n",
    "Again, we plot that zoomed in patch to visually inspect cell-cell contiguity:"
   ]
  },
  {
   "cell_type": "code",
   "execution_count": null,
<<<<<<< HEAD
<<<<<<< HEAD
<<<<<<< HEAD
   "id": "c0659bba",
||||||| 3477967
   "id": "88d4c7a6",
=======
   "id": "1c6c8d27",
>>>>>>> 763a65aa00deab365d39bc26b2dcb2cc1410a666
||||||| eb63ff5
   "id": "c0659bba",
=======
   "id": "4b1fb85a",
>>>>>>> documentation-devel
||||||| cd53b20
<<<<<<< HEAD
   "id": "c0659bba",
||||||| 3477967
   "id": "88d4c7a6",
=======
   "id": "1c6c8d27",
>>>>>>> 763a65aa00deab365d39bc26b2dcb2cc1410a666
=======
   "id": "26693bd1",
>>>>>>> 61c8f4bff1b7848db82b013fbfba194514b420ca
   "metadata": {
    "lines_to_next_cell": 2
   },
   "outputs": [],
   "source": [
    "plotGeometry(sfe, \"cellSeg\", bbox = bbox_use)"
   ]
  },
  {
   "cell_type": "markdown",
<<<<<<< HEAD
<<<<<<< HEAD
<<<<<<< HEAD
   "id": "6c7d094f",
||||||| 3477967
   "id": "392e0dac",
=======
   "id": "33313cc5",
>>>>>>> 763a65aa00deab365d39bc26b2dcb2cc1410a666
||||||| eb63ff5
   "id": "6c7d094f",
=======
   "id": "26a6ab7c",
>>>>>>> documentation-devel
||||||| cd53b20
<<<<<<< HEAD
   "id": "6c7d094f",
||||||| 3477967
   "id": "392e0dac",
=======
   "id": "33313cc5",
>>>>>>> 763a65aa00deab365d39bc26b2dcb2cc1410a666
=======
   "id": "f7f09979",
>>>>>>> 61c8f4bff1b7848db82b013fbfba194514b420ca
   "metadata": {},
   "source": [
    "There are quite a few cells that are not contiguous to any other cell, and cell segmentation is imperfect, so purely using `poly2nb()` is problematic. In the next release, we might implement a way to blend a polygon contiguity graph with some other graph in case of singletons. For now, we use k nearest neighbors with $k = 5$, which seems like a reasonable approximation of contiguity based on the visual inspection. \n",
    "\n",
    "As of Voyager 1.2.0 (Bioconductor 3.17), `findSpatialNeighbors()` by default uses `BiocNeighbors` for k nearest neighbors and distance neighbors and saving the distances between neighbors. This bypasses the most time consuming step in `spdep` when calculating distance based edge weights, which is to compute distance, hence greatly speeding up computation."
   ]
  },
  {
   "cell_type": "code",
   "execution_count": null,
<<<<<<< HEAD
<<<<<<< HEAD
<<<<<<< HEAD
   "id": "c067b3c3",
||||||| 3477967
   "id": "fc0a43ee",
=======
   "id": "38dface5",
>>>>>>> 763a65aa00deab365d39bc26b2dcb2cc1410a666
||||||| eb63ff5
   "id": "c067b3c3",
=======
   "id": "43f06000",
>>>>>>> documentation-devel
||||||| cd53b20
<<<<<<< HEAD
   "id": "c067b3c3",
||||||| 3477967
   "id": "fc0a43ee",
=======
   "id": "38dface5",
>>>>>>> 763a65aa00deab365d39bc26b2dcb2cc1410a666
=======
   "id": "c842dee3",
>>>>>>> 61c8f4bff1b7848db82b013fbfba194514b420ca
   "metadata": {},
   "outputs": [],
   "source": [
    "system.time(\n",
    "    colGraph(sfe, \"knn5\") <- findSpatialNeighbors(sfe, method = \"knearneigh\", \n",
    "                                                  dist_type = \"idw\", k = 5, \n",
    "                                                  style = \"W\")\n",
    ")"
   ]
  },
  {
   "cell_type": "markdown",
<<<<<<< HEAD
<<<<<<< HEAD
<<<<<<< HEAD
   "id": "7d7cdab1",
||||||| 3477967
   "id": "c1e38404",
=======
   "id": "da9236c2",
>>>>>>> 763a65aa00deab365d39bc26b2dcb2cc1410a666
||||||| eb63ff5
   "id": "7d7cdab1",
=======
   "id": "a7762f31",
>>>>>>> documentation-devel
||||||| cd53b20
<<<<<<< HEAD
   "id": "7d7cdab1",
||||||| 3477967
   "id": "c1e38404",
=======
   "id": "da9236c2",
>>>>>>> 763a65aa00deab365d39bc26b2dcb2cc1410a666
=======
   "id": "d976c32c",
>>>>>>> 61c8f4bff1b7848db82b013fbfba194514b420ca
   "metadata": {},
   "source": [
    "With the spatial neighborhood graph, we can compute Moran's I for QC metrics."
   ]
  },
  {
   "cell_type": "code",
   "execution_count": null,
<<<<<<< HEAD
<<<<<<< HEAD
<<<<<<< HEAD
   "id": "fa77388c",
||||||| 3477967
   "id": "b00033da",
=======
   "id": "9582378e",
>>>>>>> 763a65aa00deab365d39bc26b2dcb2cc1410a666
||||||| eb63ff5
   "id": "fa77388c",
=======
   "id": "f16c8bd7",
>>>>>>> documentation-devel
||||||| cd53b20
<<<<<<< HEAD
   "id": "fa77388c",
||||||| 3477967
   "id": "b00033da",
=======
   "id": "9582378e",
>>>>>>> 763a65aa00deab365d39bc26b2dcb2cc1410a666
=======
   "id": "cd5973e7",
>>>>>>> 61c8f4bff1b7848db82b013fbfba194514b420ca
   "metadata": {},
   "outputs": [],
   "source": [
    "sfe <- colDataMoransI(sfe, c(\"nCounts\", \"nGenes\", \"volume\"), \n",
    "                      colGraphName = \"knn5\")"
   ]
  },
  {
   "cell_type": "code",
   "execution_count": null,
<<<<<<< HEAD
<<<<<<< HEAD
<<<<<<< HEAD
   "id": "c0897b34",
||||||| 3477967
   "id": "3a429da9",
=======
   "id": "f1d415be",
>>>>>>> 763a65aa00deab365d39bc26b2dcb2cc1410a666
||||||| eb63ff5
   "id": "c0897b34",
=======
   "id": "9ded4dae",
>>>>>>> documentation-devel
||||||| cd53b20
<<<<<<< HEAD
   "id": "c0897b34",
||||||| 3477967
   "id": "3a429da9",
=======
   "id": "f1d415be",
>>>>>>> 763a65aa00deab365d39bc26b2dcb2cc1410a666
=======
   "id": "bf06edac",
>>>>>>> 61c8f4bff1b7848db82b013fbfba194514b420ca
   "metadata": {},
   "outputs": [],
   "source": [
    "colFeatureData(sfe)[c(\"nCounts\", \"nGenes\", \"volume\"),]"
   ]
  },
  {
   "cell_type": "markdown",
<<<<<<< HEAD
<<<<<<< HEAD
<<<<<<< HEAD
   "id": "09872513",
||||||| 3477967
   "id": "564628fd",
=======
   "id": "f48d9275",
>>>>>>> 763a65aa00deab365d39bc26b2dcb2cc1410a666
||||||| eb63ff5
   "id": "09872513",
=======
   "id": "f0a4de7d",
>>>>>>> documentation-devel
||||||| cd53b20
<<<<<<< HEAD
   "id": "09872513",
||||||| 3477967
   "id": "564628fd",
=======
   "id": "f48d9275",
>>>>>>> 763a65aa00deab365d39bc26b2dcb2cc1410a666
=======
   "id": "dc7b7031",
>>>>>>> 61c8f4bff1b7848db82b013fbfba194514b420ca
   "metadata": {
    "lines_to_next_cell": 0
   },
   "source": [
    "Unlike the other smFISH-based datasets on this website, nCounts and nGenes have sizable negative Moran's I's, which is closer to 0 for volume. It would be interesting to compare these metrics across different tissues, as we add more datasets to `SFEData` in future releases.\n",
    "\n",
    "Also check local Moran's I, since in that little patch we examined above, some regions may have more positive spatial autocorrelation."
   ]
  },
  {
   "cell_type": "code",
   "execution_count": null,
<<<<<<< HEAD
<<<<<<< HEAD
<<<<<<< HEAD
   "id": "38ff9414",
||||||| 3477967
   "id": "353cde4c",
=======
   "id": "427b68da",
>>>>>>> 763a65aa00deab365d39bc26b2dcb2cc1410a666
||||||| eb63ff5
   "id": "38ff9414",
=======
   "id": "c2abdf6c",
>>>>>>> documentation-devel
||||||| cd53b20
<<<<<<< HEAD
   "id": "38ff9414",
||||||| 3477967
   "id": "353cde4c",
=======
   "id": "427b68da",
>>>>>>> 763a65aa00deab365d39bc26b2dcb2cc1410a666
=======
   "id": "09cdd761",
>>>>>>> 61c8f4bff1b7848db82b013fbfba194514b420ca
   "metadata": {},
   "outputs": [],
   "source": [
    "sfe <- colDataUnivariate(sfe, type = \"localmoran\", \n",
    "                         features = c(\"nCounts\", \"nGenes\", \"volume\"),\n",
    "                         colGraphName = \"knn5\")"
   ]
  },
  {
   "cell_type": "code",
   "execution_count": null,
<<<<<<< HEAD
<<<<<<< HEAD
<<<<<<< HEAD
   "id": "e7e72433",
||||||| 3477967
   "id": "816869bd",
=======
   "id": "eeb62592",
>>>>>>> 763a65aa00deab365d39bc26b2dcb2cc1410a666
||||||| eb63ff5
   "id": "e7e72433",
=======
   "id": "3d265010",
>>>>>>> documentation-devel
||||||| cd53b20
<<<<<<< HEAD
   "id": "e7e72433",
||||||| 3477967
   "id": "816869bd",
=======
   "id": "eeb62592",
>>>>>>> 763a65aa00deab365d39bc26b2dcb2cc1410a666
=======
   "id": "bc530afd",
>>>>>>> 61c8f4bff1b7848db82b013fbfba194514b420ca
   "metadata": {
    "fig.height": 7,
    "fig.width": 9
   },
   "outputs": [],
   "source": [
    "plotLocalResult(sfe, \"localmoran\", c(\"nCounts\", \"nGenes\", \"volume\"),\n",
    "                colGeometryName = \"centroids\", scattermore = TRUE,\n",
    "                ncol = 2, divergent = TRUE, diverge_center = 0)"
   ]
  },
  {
   "cell_type": "markdown",
<<<<<<< HEAD
<<<<<<< HEAD
<<<<<<< HEAD
   "id": "b1595c47",
||||||| 3477967
   "id": "cde4903b",
=======
   "id": "9b579964",
>>>>>>> 763a65aa00deab365d39bc26b2dcb2cc1410a666
||||||| eb63ff5
   "id": "b1595c47",
=======
   "id": "9a991349",
>>>>>>> documentation-devel
||||||| cd53b20
<<<<<<< HEAD
   "id": "b1595c47",
||||||| 3477967
   "id": "cde4903b",
=======
   "id": "9b579964",
>>>>>>> 763a65aa00deab365d39bc26b2dcb2cc1410a666
=======
   "id": "11cb2444",
>>>>>>> 61c8f4bff1b7848db82b013fbfba194514b420ca
   "metadata": {
    "lines_to_next_cell": 0
   },
   "source": [
    "There are some niches around smaller blood vessels with positive local Moran's I for nCounts and nGenes. This is most likely due to the more homogeneous endothelial cells compared to hepatocytes.\n",
    "\n",
    "# Moran's I"
   ]
  },
  {
   "cell_type": "code",
   "execution_count": null,
<<<<<<< HEAD
<<<<<<< HEAD
<<<<<<< HEAD
   "id": "799e4024",
||||||| 3477967
   "id": "52a29cef",
=======
   "id": "3fe4f7f2",
>>>>>>> 763a65aa00deab365d39bc26b2dcb2cc1410a666
||||||| eb63ff5
   "id": "799e4024",
=======
   "id": "853c6e1f",
>>>>>>> documentation-devel
||||||| cd53b20
<<<<<<< HEAD
   "id": "799e4024",
||||||| 3477967
   "id": "52a29cef",
=======
   "id": "3fe4f7f2",
>>>>>>> 763a65aa00deab365d39bc26b2dcb2cc1410a666
=======
   "id": "fd596a4f",
>>>>>>> 61c8f4bff1b7848db82b013fbfba194514b420ca
   "metadata": {},
   "outputs": [],
   "source": [
    "sfe <- logNormCounts(sfe)"
   ]
  },
  {
   "cell_type": "code",
   "execution_count": null,
<<<<<<< HEAD
<<<<<<< HEAD
<<<<<<< HEAD
   "id": "dfded81e",
||||||| 3477967
   "id": "f0dffa4b",
=======
   "id": "7c7fef8e",
>>>>>>> 763a65aa00deab365d39bc26b2dcb2cc1410a666
||||||| eb63ff5
   "id": "dfded81e",
=======
   "id": "3b3c39d7",
>>>>>>> documentation-devel
||||||| cd53b20
<<<<<<< HEAD
   "id": "dfded81e",
||||||| 3477967
   "id": "f0dffa4b",
=======
   "id": "7c7fef8e",
>>>>>>> 763a65aa00deab365d39bc26b2dcb2cc1410a666
=======
   "id": "6aa2c4a6",
>>>>>>> 61c8f4bff1b7848db82b013fbfba194514b420ca
   "metadata": {},
   "outputs": [],
   "source": [
    "system.time(\n",
    "    sfe <- runMoransI(sfe, BPPARAM = MulticoreParam(2))\n",
    ")"
   ]
  },
  {
   "cell_type": "markdown",
<<<<<<< HEAD
<<<<<<< HEAD
<<<<<<< HEAD
   "id": "f21fa7f9",
||||||| 3477967
   "id": "e0691683",
=======
   "id": "9b1b0d10",
>>>>>>> 763a65aa00deab365d39bc26b2dcb2cc1410a666
||||||| eb63ff5
   "id": "f21fa7f9",
=======
   "id": "ccf625e9",
>>>>>>> documentation-devel
||||||| cd53b20
<<<<<<< HEAD
   "id": "f21fa7f9",
||||||| 3477967
   "id": "e0691683",
=======
   "id": "9b1b0d10",
>>>>>>> 763a65aa00deab365d39bc26b2dcb2cc1410a666
=======
   "id": "0b27537b",
>>>>>>> 61c8f4bff1b7848db82b013fbfba194514b420ca
   "metadata": {},
   "source": [
    "It's actually not as slow as I thought for almost 400,000 cells. How are Moran's I's distributed for real genes and blank probes?"
   ]
  },
  {
   "cell_type": "code",
   "execution_count": null,
<<<<<<< HEAD
<<<<<<< HEAD
<<<<<<< HEAD
   "id": "a92a798a",
||||||| 3477967
   "id": "ac7f5625",
=======
   "id": "0cd0ff4e",
>>>>>>> 763a65aa00deab365d39bc26b2dcb2cc1410a666
||||||| eb63ff5
   "id": "a92a798a",
=======
   "id": "aaf07263",
>>>>>>> documentation-devel
||||||| cd53b20
<<<<<<< HEAD
   "id": "a92a798a",
||||||| 3477967
   "id": "ac7f5625",
=======
   "id": "0cd0ff4e",
>>>>>>> 763a65aa00deab365d39bc26b2dcb2cc1410a666
=======
   "id": "e26975a3",
>>>>>>> 61c8f4bff1b7848db82b013fbfba194514b420ca
   "metadata": {},
   "outputs": [],
   "source": [
    "plotRowData(sfe, x = \"moran_sample01\", y = \"is_blank\") +\n",
    "    geom_hline(yintercept = 0, linetype = 2)"
   ]
  },
  {
   "cell_type": "markdown",
<<<<<<< HEAD
<<<<<<< HEAD
<<<<<<< HEAD
   "id": "2e719527",
||||||| 3477967
   "id": "1f5ba98c",
=======
   "id": "2db5b688",
>>>>>>> 763a65aa00deab365d39bc26b2dcb2cc1410a666
||||||| eb63ff5
   "id": "2e719527",
=======
   "id": "4e772669",
>>>>>>> documentation-devel
||||||| cd53b20
<<<<<<< HEAD
   "id": "2e719527",
||||||| 3477967
   "id": "1f5ba98c",
=======
   "id": "2db5b688",
>>>>>>> 763a65aa00deab365d39bc26b2dcb2cc1410a666
=======
   "id": "f040c7bb",
>>>>>>> 61c8f4bff1b7848db82b013fbfba194514b420ca
   "metadata": {},
   "source": [
    "The blanks are clustered tightly around 0. The vast majority of real genes have positive spatial autocorrelation, some quite strong. But some genes have negative spatial autocorrelation, although it may or may not be statistically significant.\n",
    "\n",
    "Plot the top genes with positive spatial autocorrelation:"
   ]
  },
  {
   "cell_type": "code",
   "execution_count": null,
<<<<<<< HEAD
<<<<<<< HEAD
<<<<<<< HEAD
   "id": "b88325ea",
||||||| 3477967
   "id": "e5b985a3",
=======
   "id": "a82e2d9e",
>>>>>>> 763a65aa00deab365d39bc26b2dcb2cc1410a666
||||||| eb63ff5
   "id": "b88325ea",
=======
   "id": "2b416012",
>>>>>>> documentation-devel
||||||| cd53b20
<<<<<<< HEAD
   "id": "b88325ea",
||||||| 3477967
   "id": "e5b985a3",
=======
   "id": "a82e2d9e",
>>>>>>> 763a65aa00deab365d39bc26b2dcb2cc1410a666
=======
   "id": "ff6bf422",
>>>>>>> 61c8f4bff1b7848db82b013fbfba194514b420ca
   "metadata": {
    "fig.height": 12,
    "fig.width": 9
   },
   "outputs": [],
   "source": [
    "top_moran <- rownames(sfe)[order(rowData(sfe)$moran_sample01, decreasing = TRUE)[1:6]]\n",
    "plotSpatialFeature(sfe, top_moran, colGeometryName = \"centroids\", scattermore = TRUE,\n",
    "                   ncol = 2)"
   ]
  },
  {
   "cell_type": "markdown",
<<<<<<< HEAD
<<<<<<< HEAD
<<<<<<< HEAD
   "id": "5454b7d7",
||||||| 3477967
   "id": "fe18fea1",
=======
   "id": "35323320",
>>>>>>> 763a65aa00deab365d39bc26b2dcb2cc1410a666
||||||| eb63ff5
   "id": "5454b7d7",
=======
   "id": "6869c5d7",
>>>>>>> documentation-devel
||||||| cd53b20
<<<<<<< HEAD
   "id": "5454b7d7",
||||||| 3477967
   "id": "fe18fea1",
=======
   "id": "35323320",
>>>>>>> 763a65aa00deab365d39bc26b2dcb2cc1410a666
=======
   "id": "122a348a",
>>>>>>> 61c8f4bff1b7848db82b013fbfba194514b420ca
   "metadata": {},
   "source": [
    "Unlike in the other smFISH-based cancer datasets on this dataset, the genes with the highest Moran's I highlight different histological regions. Some probably for zones in the hepatic lobule, and some for blood vessels. It would be interesting to compare spatial autocorrelation of marker genes among different tissues and cell types.\n",
    "\n",
    "Negative Moran's I means that nearby cells tend to be more dissimilar to each other. That would be hard to see when plotting the whole tissue section, so we will use that bounding box again. The gene with the most negative Moran's I is compared to one with Moran's I closest to 0."
   ]
  },
  {
   "cell_type": "code",
   "execution_count": null,
<<<<<<< HEAD
<<<<<<< HEAD
<<<<<<< HEAD
   "id": "82dce4aa",
||||||| 3477967
   "id": "ea85a9d4",
=======
   "id": "5f20ddcf",
>>>>>>> 763a65aa00deab365d39bc26b2dcb2cc1410a666
||||||| eb63ff5
   "id": "82dce4aa",
=======
   "id": "3f6db861",
>>>>>>> documentation-devel
||||||| cd53b20
<<<<<<< HEAD
   "id": "82dce4aa",
||||||| 3477967
   "id": "ea85a9d4",
=======
   "id": "5f20ddcf",
>>>>>>> 763a65aa00deab365d39bc26b2dcb2cc1410a666
=======
   "id": "91d791f0",
>>>>>>> 61c8f4bff1b7848db82b013fbfba194514b420ca
   "metadata": {
    "fig.height": 5,
    "fig.width": 9
   },
   "outputs": [],
   "source": [
    "bottom_moran <- rownames(sfe)[order(rowData(sfe)$moran_sample01)[1]]\n",
    "bottom_abs_moran <- rownames(sfe)[order(abs(rowData(sfe)$moran_sample01))[1]]\n",
    "plotSpatialFeature(sfe, c(bottom_moran, bottom_abs_moran), \n",
    "                   colGeometryName = \"cellSeg\", bbox = bbox_use)"
   ]
  },
  {
   "cell_type": "markdown",
<<<<<<< HEAD
<<<<<<< HEAD
<<<<<<< HEAD
   "id": "26ced3a3",
||||||| 3477967
   "id": "dd4f48e8",
=======
   "id": "90b0083d",
>>>>>>> 763a65aa00deab365d39bc26b2dcb2cc1410a666
||||||| eb63ff5
   "id": "26ced3a3",
=======
   "id": "506bb276",
>>>>>>> documentation-devel
||||||| cd53b20
<<<<<<< HEAD
   "id": "26ced3a3",
||||||| 3477967
   "id": "dd4f48e8",
=======
   "id": "90b0083d",
>>>>>>> 763a65aa00deab365d39bc26b2dcb2cc1410a666
=======
   "id": "0e6214a1",
>>>>>>> 61c8f4bff1b7848db82b013fbfba194514b420ca
   "metadata": {
    "lines_to_next_cell": 0
   },
   "source": [
    "As expected, the feature with Moran's I closest to 0 is a blank.\n",
    "\n",
    "# Spatial autocorrelation at larger length scales\n",
    "The k nearest neighbor graph used above only concerns 5 cells around each cell, which is a very small neighborhood, over a very small length scale. In the current release of `Voyager`, a correlogram can be computed to get a sense of the length scale of spatial autocorrelation. However, since finding the lag values over higher and higher orders of neighborhoods is very slow for such a large number of cells for higher orders, the correlogram is not very helpful here. In this section, we use some other methods involving binning to explore spatial autocorrelation at larger length scales.\n",
    "\n",
    "## Binning\n",
    "The `sf` package can create polygons in a grid, with which we can bin the cells and their attributes and gene expressions. Here we make a 100 by 100 hexagonal grid in the bounding box of the cell centroids."
   ]
  },
  {
   "cell_type": "code",
   "execution_count": null,
<<<<<<< HEAD
<<<<<<< HEAD
<<<<<<< HEAD
   "id": "661f2c7b",
||||||| 3477967
   "id": "121f077b",
=======
   "id": "96cd9cfc",
>>>>>>> 763a65aa00deab365d39bc26b2dcb2cc1410a666
||||||| eb63ff5
   "id": "661f2c7b",
=======
   "id": "5f987151",
>>>>>>> documentation-devel
||||||| cd53b20
<<<<<<< HEAD
   "id": "661f2c7b",
||||||| 3477967
   "id": "121f077b",
=======
   "id": "96cd9cfc",
>>>>>>> 763a65aa00deab365d39bc26b2dcb2cc1410a666
=======
   "id": "731a46f5",
>>>>>>> 61c8f4bff1b7848db82b013fbfba194514b420ca
   "metadata": {},
   "outputs": [],
   "source": [
    "(bins <- st_make_grid(colGeometry(sfe, \"centroids\"), n = 100, square = FALSE))"
   ]
  },
  {
   "cell_type": "markdown",
<<<<<<< HEAD
<<<<<<< HEAD
<<<<<<< HEAD
   "id": "5f10948e",
||||||| 3477967
   "id": "489c7672",
=======
   "id": "1ea0f163",
>>>>>>> 763a65aa00deab365d39bc26b2dcb2cc1410a666
||||||| eb63ff5
   "id": "5f10948e",
=======
   "id": "90553e33",
>>>>>>> documentation-devel
||||||| cd53b20
<<<<<<< HEAD
   "id": "5f10948e",
||||||| 3477967
   "id": "489c7672",
=======
   "id": "1ea0f163",
>>>>>>> 763a65aa00deab365d39bc26b2dcb2cc1410a666
=======
   "id": "d8413dda",
>>>>>>> 61c8f4bff1b7848db82b013fbfba194514b420ca
   "metadata": {
    "lines_to_next_cell": 0
   },
   "source": [
    "Here we use this grid to bin the QC metrics by averaging the values from the cells. Since bins not completely covered by tissue have fewer cells, the mean may be less susceptible to edge effect than the sum, as bins near the edge will have lower sums, which may spuriously increase Moran's I. "
   ]
  },
  {
   "cell_type": "code",
   "execution_count": null,
<<<<<<< HEAD
<<<<<<< HEAD
<<<<<<< HEAD
   "id": "2ec86b28",
||||||| 3477967
   "id": "cc8689d2",
=======
   "id": "d99452c4",
>>>>>>> 763a65aa00deab365d39bc26b2dcb2cc1410a666
||||||| eb63ff5
   "id": "2ec86b28",
=======
   "id": "7874cd89",
>>>>>>> documentation-devel
||||||| cd53b20
<<<<<<< HEAD
   "id": "2ec86b28",
||||||| 3477967
   "id": "cc8689d2",
=======
   "id": "d99452c4",
>>>>>>> 763a65aa00deab365d39bc26b2dcb2cc1410a666
=======
   "id": "3cb05941",
>>>>>>> 61c8f4bff1b7848db82b013fbfba194514b420ca
   "metadata": {},
   "outputs": [],
   "source": [
    "df <- cbind(colGeometry(sfe, \"centroids\"), colData(sfe)[,c(\"nCounts\", \"nGenes\", \"volume\")])\n",
    "df_binned <- aggregate(df, bins, FUN = mean)\n",
    "# Remove bins not containing cells\n",
    "df_binned <- df_binned[!is.na(df_binned$nCounts),]"
   ]
  },
  {
   "cell_type": "markdown",
<<<<<<< HEAD
<<<<<<< HEAD
<<<<<<< HEAD
   "id": "4817c6d8",
||||||| 3477967
   "id": "fde91ddc",
=======
   "id": "2f17d159",
>>>>>>> 763a65aa00deab365d39bc26b2dcb2cc1410a666
||||||| eb63ff5
   "id": "4817c6d8",
=======
   "id": "91044b66",
>>>>>>> documentation-devel
||||||| cd53b20
<<<<<<< HEAD
   "id": "4817c6d8",
||||||| 3477967
   "id": "fde91ddc",
=======
   "id": "2f17d159",
>>>>>>> 763a65aa00deab365d39bc26b2dcb2cc1410a666
=======
   "id": "449260e6",
>>>>>>> 61c8f4bff1b7848db82b013fbfba194514b420ca
   "metadata": {
    "lines_to_next_cell": 0
   },
   "source": [
    "Plot the binned values:"
   ]
  },
  {
   "cell_type": "code",
   "execution_count": null,
<<<<<<< HEAD
<<<<<<< HEAD
<<<<<<< HEAD
   "id": "779ea8fb",
||||||| 3477967
   "id": "b643ae0b",
=======
   "id": "28226de2",
>>>>>>> 763a65aa00deab365d39bc26b2dcb2cc1410a666
||||||| eb63ff5
   "id": "779ea8fb",
=======
   "id": "c2737055",
>>>>>>> documentation-devel
||||||| cd53b20
<<<<<<< HEAD
   "id": "779ea8fb",
||||||| 3477967
   "id": "b643ae0b",
=======
   "id": "28226de2",
>>>>>>> 763a65aa00deab365d39bc26b2dcb2cc1410a666
=======
   "id": "9803c313",
>>>>>>> 61c8f4bff1b7848db82b013fbfba194514b420ca
   "metadata": {
    "fig.height": 7,
    "fig.width": 9
   },
   "outputs": [],
   "source": [
    "# Not using facet_wrap to give each panel its own color scale\n",
    "plts <- lapply(c(\"nCounts\", \"nGenes\", \"volume\"), function(f) {\n",
    "    ggplot(df_binned[,f]) + geom_sf(aes(fill = .data[[f]]), linewidth = 0) +\n",
    "        scale_fill_distiller(palette = \"Blues\", direction = 1) + theme_void()\n",
    "})\n",
    "wrap_plots(plts, nrow = 2)"
   ]
  },
  {
   "cell_type": "markdown",
<<<<<<< HEAD
<<<<<<< HEAD
<<<<<<< HEAD
   "id": "ffa46bff",
||||||| 3477967
   "id": "f9524c26",
=======
   "id": "b3b290cd",
>>>>>>> 763a65aa00deab365d39bc26b2dcb2cc1410a666
||||||| eb63ff5
   "id": "ffa46bff",
=======
   "id": "708f83c0",
>>>>>>> documentation-devel
||||||| cd53b20
<<<<<<< HEAD
   "id": "ffa46bff",
||||||| 3477967
   "id": "f9524c26",
=======
   "id": "b3b290cd",
>>>>>>> 763a65aa00deab365d39bc26b2dcb2cc1410a666
=======
   "id": "595ff573",
>>>>>>> 61c8f4bff1b7848db82b013fbfba194514b420ca
   "metadata": {
    "lines_to_next_cell": 0
   },
   "source": [
    "There's an outlier bin not as evident when plotting single cells. There's still some edge effect around blood vessels. This might be truly edge effect, or that endothelial cells tend to have lower values in all 3 variables here.\n",
    "\n",
    "Then compute Moran's I over the binned data, with contiguity neighborhoods. `zero.policy = TRUE` because there are some bins with no neighbors."
   ]
  },
  {
   "cell_type": "code",
   "execution_count": null,
<<<<<<< HEAD
<<<<<<< HEAD
<<<<<<< HEAD
   "id": "4cbf71d8",
||||||| 3477967
   "id": "a641014a",
=======
   "id": "dada2229",
>>>>>>> 763a65aa00deab365d39bc26b2dcb2cc1410a666
||||||| eb63ff5
   "id": "4cbf71d8",
=======
   "id": "c7ca8a47",
>>>>>>> documentation-devel
||||||| cd53b20
<<<<<<< HEAD
   "id": "4cbf71d8",
||||||| 3477967
   "id": "a641014a",
=======
   "id": "dada2229",
>>>>>>> 763a65aa00deab365d39bc26b2dcb2cc1410a666
=======
   "id": "cc8b54ff",
>>>>>>> 61c8f4bff1b7848db82b013fbfba194514b420ca
   "metadata": {},
   "outputs": [],
   "source": [
    "nb <- poly2nb(df_binned)\n",
    "listw <- nb2listw(nb, zero.policy = TRUE)"
   ]
  },
  {
   "cell_type": "code",
   "execution_count": null,
<<<<<<< HEAD
<<<<<<< HEAD
<<<<<<< HEAD
   "id": "de03b8bc",
||||||| 3477967
   "id": "cd187c38",
=======
   "id": "0d741dfa",
>>>>>>> 763a65aa00deab365d39bc26b2dcb2cc1410a666
||||||| eb63ff5
   "id": "de03b8bc",
=======
   "id": "6b6a11fa",
>>>>>>> documentation-devel
||||||| cd53b20
<<<<<<< HEAD
   "id": "de03b8bc",
||||||| 3477967
   "id": "cd187c38",
=======
   "id": "0d741dfa",
>>>>>>> 763a65aa00deab365d39bc26b2dcb2cc1410a666
=======
   "id": "98692a3d",
>>>>>>> 61c8f4bff1b7848db82b013fbfba194514b420ca
   "metadata": {},
   "outputs": [],
   "source": [
    "calculateMoransI(t(as.matrix(st_drop_geometry(df_binned[,c(\"nCounts\", \"nGenes\", \"volume\")]))),\n",
    "                 listw = listw, zero.policy = TRUE)"
   ]
  },
  {
   "cell_type": "markdown",
<<<<<<< HEAD
<<<<<<< HEAD
<<<<<<< HEAD
   "id": "2d994090",
||||||| 3477967
   "id": "42acfbb3",
=======
   "id": "b2d8474d",
>>>>>>> 763a65aa00deab365d39bc26b2dcb2cc1410a666
||||||| eb63ff5
   "id": "2d994090",
=======
   "id": "1661a054",
>>>>>>> documentation-devel
||||||| cd53b20
<<<<<<< HEAD
   "id": "2d994090",
||||||| 3477967
   "id": "42acfbb3",
=======
   "id": "b2d8474d",
>>>>>>> 763a65aa00deab365d39bc26b2dcb2cc1410a666
=======
   "id": "75cd42c5",
>>>>>>> 61c8f4bff1b7848db82b013fbfba194514b420ca
   "metadata": {},
   "source": [
    "At a larger length scale, Moran's I becomes positive. Comparing Moran's I across different sized bins can give a sense of the length scale of spatial autocorrelation. However, there are problems with binning to watch out for:\n",
    "\n",
    "1. Edge effect, especially when using the sum when binning\n",
    "2. Which function to use to aggregate the values when binning\n",
    "3. When using a rectangular grid, whether to use rook or queen neighbors. Rook means two cells are neighbors if they share an edge, while queen means they are neighbors even if they merely share a vertex. \n",
    "\n",
    "While binning can greatly speed up computation of spatial autocorrelation metrics for larger datasets, and is in fact used for Moran's I in Seurat, it can be used for smaller datasets to find length scales of spatial autocorrelation. On the other hand, as seen here, Moran's I can flip signs at different length scales, so for larger datasets, exploring spatial autocorrelation at the cell level would still be interesting.\n",
    "\n",
    "## Semivariogram\n",
    "In geostatistical data, an underlying spatial process is sampled at known locations. Kriging uses a Gaussian process to interpolate the values between the sample locations, and the semivariogram is used to model the spatial dependency between the locations as the covariance of the Gaussian process. When not kriging, the semivariogram can be used as an exploratory data analysis tool to find the length scale and anisotropy of spatial autocorrelation. One of the classic R packages in the geostatistical tradition is [`gstat`](https://cran.r-project.org/web/packages/gstat/index.html), which we use here to find semivariograms, defined as\n",
    "\n",
    "$$\n",
    "\\gamma(t) = \\frac 1 2 \\mathrm{Var}(X_t - X_0),\n",
    "$$\n",
    "\n",
    "where $X$ is the value such as gene expression, and $t$ is a spatial vector. $X_0$ is the value at a location of interest, and $X_t$ is the value lagged by $t$. With positive spatial autocorrelation, the variance would be smaller among nearby values, so the variogram would increase with distance, eventually leveling off when the distance is beyond the length scale of spatial autocorrelation. The \"semi\" comes from the 1/2.\n",
    "\n",
    "In the next release of Voyager, this will be part of `runUnivariate()` so the learning curve for users will be minimal.\n",
    "\n",
    "First we find an empirical variogram assuming that it's the same in all directions. Here the data is binned at distance intervals, so this is much faster than the correlogram at the cell level. The `width` argument controlls the bin size. The `cutoff` argument is the maximum distance to consider. Here we use the defaults. The first argument is a formula; covariates can be specified, but is not done here.\n",
    "\n",
    "With different widths and cutoffs, the variogram can be estimated at different length scales. The `gstat` package can also fit a model to the empirical variogram. See `vgm()` for the different types of models. The [`automap`](https://cran.r-project.org/web/packages/automap/) package can choose a model for the user, and is used here. \n",
    "\n",
    "Unfortunately, `gstat` doesn't scale to 400,000 cells, although it worked for 100,000 cells in the other smFISH-based datasets on this website. But since the variogram is used to explore larger length scales here anyway, we use the binned data here, but the problems with binning will apply."
   ]
  },
  {
   "cell_type": "code",
   "execution_count": null,
<<<<<<< HEAD
<<<<<<< HEAD
<<<<<<< HEAD
   "id": "9a97524c",
||||||| 3477967
   "id": "3261a3fe",
=======
   "id": "239892cb",
>>>>>>> 763a65aa00deab365d39bc26b2dcb2cc1410a666
||||||| eb63ff5
   "id": "9a97524c",
=======
   "id": "b7fe9c2f",
>>>>>>> documentation-devel
||||||| cd53b20
<<<<<<< HEAD
   "id": "9a97524c",
||||||| 3477967
   "id": "3261a3fe",
=======
   "id": "239892cb",
>>>>>>> 763a65aa00deab365d39bc26b2dcb2cc1410a666
=======
   "id": "f6de5793",
>>>>>>> 61c8f4bff1b7848db82b013fbfba194514b420ca
   "metadata": {
    "warning": false
   },
   "outputs": [],
   "source": [
    "# as_Spatial since automap uses old fashioned sp, the predecessor of sf\n",
    "v <- autofitVariogram(nCounts ~ 1, as_Spatial(df_binned))\n",
    "plot(v)"
   ]
  },
  {
   "cell_type": "markdown",
<<<<<<< HEAD
<<<<<<< HEAD
<<<<<<< HEAD
   "id": "790cbb8e",
||||||| 3477967
   "id": "b531a024",
=======
   "id": "4e63de22",
>>>>>>> 763a65aa00deab365d39bc26b2dcb2cc1410a666
||||||| eb63ff5
   "id": "790cbb8e",
=======
   "id": "c31d6251",
>>>>>>> documentation-devel
||||||| cd53b20
<<<<<<< HEAD
   "id": "790cbb8e",
||||||| 3477967
   "id": "b531a024",
=======
   "id": "4e63de22",
>>>>>>> 763a65aa00deab365d39bc26b2dcb2cc1410a666
=======
   "id": "b5a19a86",
>>>>>>> 61c8f4bff1b7848db82b013fbfba194514b420ca
   "metadata": {
    "lines_to_next_cell": 0
   },
   "source": [
    "The numbers in this plot are the number of pairs in each distance bin. The variogram is not 0 at 0 distance; this is the variance within the bin size, called the nugget. The variogram levels off at greater distance, and the value of the variogram where is levels off is the sill. Range is where the variogram is leveling off, indicating length scale of spatial autocorrelation; the range from visual inspection appears closer to 1000 while the model somehow indicates 423. \n",
    "\n",
    "A variogram map can be made to see how spatial autocorrelation may differ in different directions, i.e. anisotropy"
   ]
  },
  {
   "cell_type": "code",
   "execution_count": null,
<<<<<<< HEAD
<<<<<<< HEAD
<<<<<<< HEAD
   "id": "91310625",
||||||| 3477967
   "id": "9b07e848",
=======
   "id": "7bbf49bc",
>>>>>>> 763a65aa00deab365d39bc26b2dcb2cc1410a666
||||||| eb63ff5
   "id": "91310625",
=======
   "id": "677d57f3",
>>>>>>> documentation-devel
||||||| cd53b20
<<<<<<< HEAD
   "id": "91310625",
||||||| 3477967
   "id": "9b07e848",
=======
   "id": "7bbf49bc",
>>>>>>> 763a65aa00deab365d39bc26b2dcb2cc1410a666
=======
   "id": "c9795b4f",
>>>>>>> 61c8f4bff1b7848db82b013fbfba194514b420ca
   "metadata": {},
   "outputs": [],
   "source": [
    "v2 <- variogram(nCounts ~ 1, data = df_binned, width = 300, cutoff = 4500, map = TRUE)\n",
    "plot(v2)"
   ]
  },
  {
   "cell_type": "markdown",
<<<<<<< HEAD
<<<<<<< HEAD
<<<<<<< HEAD
   "id": "f9399edc",
||||||| 3477967
   "id": "094415b8",
=======
   "id": "bf224d47",
>>>>>>> 763a65aa00deab365d39bc26b2dcb2cc1410a666
||||||| eb63ff5
   "id": "f9399edc",
=======
   "id": "2a950574",
>>>>>>> documentation-devel
||||||| cd53b20
<<<<<<< HEAD
   "id": "f9399edc",
||||||| 3477967
   "id": "094415b8",
=======
   "id": "bf224d47",
>>>>>>> 763a65aa00deab365d39bc26b2dcb2cc1410a666
=======
   "id": "7cd300d9",
>>>>>>> 61c8f4bff1b7848db82b013fbfba194514b420ca
   "metadata": {
    "lines_to_next_cell": 0
   },
   "source": [
    "Here apparently there's no anisotropy at shorter length scales, but there may be some artifact from the hexagonal bins. Going beyond 2000 (whatever unit), the variance drops at the northwest and southeast direction but not in other directions, perhaps related to the repetitiveness of the hepatic lobules and the general NE/SW direction of the blood vessels seen in the previous plots. \n",
    "\n",
    "The variogram can also be calculated at specified angles, here selected as sides of the hexagon:"
   ]
  },
  {
   "cell_type": "code",
   "execution_count": null,
<<<<<<< HEAD
<<<<<<< HEAD
<<<<<<< HEAD
   "id": "01a11d7e",
||||||| 3477967
   "id": "1bd4bb95",
=======
   "id": "5b45495d",
>>>>>>> 763a65aa00deab365d39bc26b2dcb2cc1410a666
||||||| eb63ff5
   "id": "01a11d7e",
=======
   "id": "6afad4c4",
>>>>>>> documentation-devel
||||||| cd53b20
<<<<<<< HEAD
   "id": "01a11d7e",
||||||| 3477967
   "id": "1bd4bb95",
=======
   "id": "5b45495d",
>>>>>>> 763a65aa00deab365d39bc26b2dcb2cc1410a666
=======
   "id": "8ceb1098",
>>>>>>> 61c8f4bff1b7848db82b013fbfba194514b420ca
   "metadata": {},
   "outputs": [],
   "source": [
    "v3 <- variogram(nCounts ~ 1, df_binned, alpha = c(30, 90, 150))\n",
    "v3_model <- fit.variogram(v3, vgm(\"Ste\"))\n",
    "plot(v3, v3_model)"
   ]
  },
  {
   "cell_type": "markdown",
<<<<<<< HEAD
<<<<<<< HEAD
<<<<<<< HEAD
   "id": "8b374d2d",
||||||| 3477967
   "id": "c41f70e5",
=======
   "id": "9ed0d657",
>>>>>>> 763a65aa00deab365d39bc26b2dcb2cc1410a666
||||||| eb63ff5
   "id": "8b374d2d",
=======
   "id": "dd700e84",
>>>>>>> documentation-devel
||||||| cd53b20
<<<<<<< HEAD
   "id": "8b374d2d",
||||||| 3477967
   "id": "c41f70e5",
=======
   "id": "9ed0d657",
>>>>>>> 763a65aa00deab365d39bc26b2dcb2cc1410a666
=======
   "id": "bb50394c",
>>>>>>> 61c8f4bff1b7848db82b013fbfba194514b420ca
   "metadata": {},
   "source": [
    "The variogram rises when going beyond 2000 at 30 and 90 degrees and drops at 150 degrees. This is consistent with the variogram map. These differences are averaged out in the omni-directional variogram. `gstat` does not fit anisotropy parameters, so the fitted curve is omni-directional. It fits pretty well below 2000. This is only for nCounts, and may differ for other QC metrics and genes. What if anisotropy varies in space? A problem with the variogram is that it's global, giving one result for the entire dataset, albeit more nuanced than just a number as in Moran's I, because kriging assumes that the data is intrinsically stationary, meaning that the same variogram model applies everywhere, and that spatial dependence only depends on lag between two observations.\n",
    "\n",
    "Voyager 1.2.0 implements `ggplot2` based plotting functions to make better looking and more customizable plots of the variograms for SFE objects. However, the binned data is not in an SFE object. We are considering writing a method to spatially bin all cell level data in an SFE object. Here `gstat` is using `lattice`, a predecessor of `ggplot2` to make facetted plots and has been superseded by `ggplot2`. `gstat` is one of the oldest R packages still on CRAN, dating back to the days of S (prequel of R), although its oldest archive on CRAN is from 2003. `spdep` is also really old; its oldest archive on CRAN is from 2002, but it's still in active development. In using these time honored packages and methods (Moran's I and Geary's C themselves date back to the 1950s and their modern form date back to 1969 [@Cliff1969-wp; @Bivand2013-jx]) on the cool new spatial transcriptomics dataset, we are participating in a glorious tradition, which we will further develop as a spatial analysis tradition forms around spatial -omics data analysis.\n",
    "\n",
    "# PCA for larger datasets\n",
    "There are many ways to do PCA in R, and the [`BiocSingular`](https://bioconductor.org/packages/release/bioc/html/BiocSingular.html) package makes a number of different methods available with a consistent user interface, and it supports out of memory data in `DelayedArray`. According to [this benchmark](https://slowkow.com/notes/pca-benchmark/), `stats::prcomp()` shipped with R is rather slow for larger datasets. The fastest methods are `irlba::irlba()` and `RSpectra::svds()`, and the former is supported by `BiocSingular`. So here we use IRLBA and see how long it takes. Many PCA algorithms involve repeated matrix multiplications. R does not come with optimized BLAS and LAPACK, for portability reasons. However, the BLAS and LAPACK used by R can be changed to an optimized one (here's [how to do it](https://cran.r-project.org/doc/manuals/r-release/R-admin.html#Shared-BLAS)), which will speed up matrix multiplication. "
   ]
  },
  {
   "cell_type": "code",
   "execution_count": null,
<<<<<<< HEAD
<<<<<<< HEAD
<<<<<<< HEAD
   "id": "36176c39",
||||||| 3477967
   "id": "5cf61844",
=======
   "id": "368b2f03",
>>>>>>> 763a65aa00deab365d39bc26b2dcb2cc1410a666
||||||| eb63ff5
   "id": "36176c39",
=======
   "id": "04fcb6c8",
>>>>>>> documentation-devel
||||||| cd53b20
<<<<<<< HEAD
   "id": "36176c39",
||||||| 3477967
   "id": "5cf61844",
=======
   "id": "368b2f03",
>>>>>>> 763a65aa00deab365d39bc26b2dcb2cc1410a666
=======
   "id": "f55b30b5",
>>>>>>> 61c8f4bff1b7848db82b013fbfba194514b420ca
   "metadata": {},
   "outputs": [],
   "source": [
    "set.seed(29)\n",
    "system.time(\n",
    "    sfe <- runPCA(sfe, ncomponents = 20, subset_row = !is_blank,\n",
    "                  exprs_values = \"logcounts\",\n",
    "                  scale = TRUE, BSPARAM = IrlbaParam())\n",
    ")\n",
    "gc()"
   ]
  },
  {
   "cell_type": "markdown",
<<<<<<< HEAD
<<<<<<< HEAD
<<<<<<< HEAD
   "id": "5333f20b",
||||||| 3477967
   "id": "277376b6",
=======
   "id": "a7010f13",
>>>>>>> 763a65aa00deab365d39bc26b2dcb2cc1410a666
||||||| eb63ff5
   "id": "5333f20b",
=======
   "id": "c9a0b2bc",
>>>>>>> documentation-devel
||||||| cd53b20
<<<<<<< HEAD
   "id": "5333f20b",
||||||| 3477967
   "id": "277376b6",
=======
   "id": "a7010f13",
>>>>>>> 763a65aa00deab365d39bc26b2dcb2cc1410a666
=======
   "id": "9870c091",
>>>>>>> 61c8f4bff1b7848db82b013fbfba194514b420ca
   "metadata": {},
   "source": [
    "That's pretty quick for almost 400,000 cells, but there aren't that many genes here. Use the elbow plot to see variance explained by each PC:"
   ]
  },
  {
   "cell_type": "code",
   "execution_count": null,
<<<<<<< HEAD
<<<<<<< HEAD
<<<<<<< HEAD
   "id": "fc05e866",
||||||| 3477967
   "id": "c3992459",
=======
   "id": "d533b054",
>>>>>>> 763a65aa00deab365d39bc26b2dcb2cc1410a666
||||||| eb63ff5
   "id": "fc05e866",
=======
   "id": "7e5592e7",
>>>>>>> documentation-devel
||||||| cd53b20
<<<<<<< HEAD
   "id": "fc05e866",
||||||| 3477967
   "id": "c3992459",
=======
   "id": "d533b054",
>>>>>>> 763a65aa00deab365d39bc26b2dcb2cc1410a666
=======
   "id": "49ba506b",
>>>>>>> 61c8f4bff1b7848db82b013fbfba194514b420ca
   "metadata": {},
   "outputs": [],
   "source": [
    "ElbowPlot(sfe)"
   ]
  },
  {
   "cell_type": "markdown",
<<<<<<< HEAD
<<<<<<< HEAD
<<<<<<< HEAD
   "id": "b94de8dc",
||||||| 3477967
   "id": "0aec56a7",
=======
   "id": "a712c7f1",
>>>>>>> 763a65aa00deab365d39bc26b2dcb2cc1410a666
||||||| eb63ff5
   "id": "b94de8dc",
=======
   "id": "45b2c922",
>>>>>>> documentation-devel
||||||| cd53b20
<<<<<<< HEAD
   "id": "b94de8dc",
||||||| 3477967
   "id": "0aec56a7",
=======
   "id": "a712c7f1",
>>>>>>> 763a65aa00deab365d39bc26b2dcb2cc1410a666
=======
   "id": "71a0e05e",
>>>>>>> 61c8f4bff1b7848db82b013fbfba194514b420ca
   "metadata": {
    "lines_to_next_cell": 0
   },
   "source": [
    "Plot top gene loadings in each PC"
   ]
  },
  {
   "cell_type": "code",
   "execution_count": null,
<<<<<<< HEAD
<<<<<<< HEAD
<<<<<<< HEAD
   "id": "a85dd064",
||||||| 3477967
   "id": "8d21b604",
=======
   "id": "a963ad25",
>>>>>>> 763a65aa00deab365d39bc26b2dcb2cc1410a666
||||||| eb63ff5
   "id": "a85dd064",
=======
   "id": "18aeb4ce",
>>>>>>> documentation-devel
||||||| cd53b20
<<<<<<< HEAD
   "id": "a85dd064",
||||||| 3477967
   "id": "8d21b604",
=======
   "id": "a963ad25",
>>>>>>> 763a65aa00deab365d39bc26b2dcb2cc1410a666
=======
   "id": "ff55aeeb",
>>>>>>> 61c8f4bff1b7848db82b013fbfba194514b420ca
   "metadata": {},
   "outputs": [],
   "source": [
    "plotDimLoadings(sfe)"
   ]
  },
  {
   "cell_type": "markdown",
<<<<<<< HEAD
<<<<<<< HEAD
<<<<<<< HEAD
   "id": "a16d9226",
||||||| 3477967
   "id": "a6c285ee",
=======
   "id": "95e314dd",
>>>>>>> 763a65aa00deab365d39bc26b2dcb2cc1410a666
||||||| eb63ff5
   "id": "a16d9226",
=======
   "id": "fab1f93d",
>>>>>>> documentation-devel
||||||| cd53b20
<<<<<<< HEAD
   "id": "a16d9226",
||||||| 3477967
   "id": "a6c285ee",
=======
   "id": "95e314dd",
>>>>>>> 763a65aa00deab365d39bc26b2dcb2cc1410a666
=======
   "id": "ab200ae2",
>>>>>>> 61c8f4bff1b7848db82b013fbfba194514b420ca
   "metadata": {
    "lines_to_next_cell": 0
   },
   "source": [
    "Many of these genes seem to be related to the endothelium.\n",
    "\n",
    "Plot the first 4 PCs in space"
   ]
  },
  {
   "cell_type": "code",
   "execution_count": null,
<<<<<<< HEAD
<<<<<<< HEAD
<<<<<<< HEAD
   "id": "92d49b85",
||||||| 3477967
   "id": "808893e0",
=======
   "id": "7b0ca557",
>>>>>>> 763a65aa00deab365d39bc26b2dcb2cc1410a666
||||||| eb63ff5
   "id": "92d49b85",
=======
   "id": "20423d83",
>>>>>>> documentation-devel
||||||| cd53b20
<<<<<<< HEAD
   "id": "92d49b85",
||||||| 3477967
   "id": "808893e0",
=======
   "id": "7b0ca557",
>>>>>>> 763a65aa00deab365d39bc26b2dcb2cc1410a666
=======
   "id": "d68c5ebe",
>>>>>>> 61c8f4bff1b7848db82b013fbfba194514b420ca
   "metadata": {
    "fig.height": 7,
    "fig.width": 9
   },
   "outputs": [],
   "source": [
    "spatialReducedDim(sfe, \"PCA\", 4, colGeometryName = \"centroids\", scattermore = TRUE,\n",
    "                  divergent = TRUE, diverge_center = 0)"
   ]
  },
  {
   "cell_type": "markdown",
<<<<<<< HEAD
<<<<<<< HEAD
<<<<<<< HEAD
   "id": "de56f2b6",
||||||| 3477967
   "id": "3f1cc285",
=======
   "id": "d86fbda4",
>>>>>>> 763a65aa00deab365d39bc26b2dcb2cc1410a666
||||||| eb63ff5
   "id": "de56f2b6",
=======
   "id": "00e94a57",
>>>>>>> documentation-devel
||||||| cd53b20
<<<<<<< HEAD
   "id": "de56f2b6",
||||||| 3477967
   "id": "3f1cc285",
=======
   "id": "d86fbda4",
>>>>>>> 763a65aa00deab365d39bc26b2dcb2cc1410a666
=======
   "id": "1152f5d8",
>>>>>>> 61c8f4bff1b7848db82b013fbfba194514b420ca
   "metadata": {
    "lines_to_next_cell": 0
   },
   "source": [
    "PC1 and PC4 highlight the major blood vessels, while PC2 and PC3 have less spatial structure. While in the CosMX and Xenium datasets on this website, the top PCs have clear spatial structures despite the absence of spatial information in non-spatial PCA because of clear spatial compartments for some cell types, which does not seem to be the case in this dataset except for the blood vessels. We have seen above that some genes have strong spatial structures. There are some methods for spatially informed PCA, such as MULTISPATI PCA [@Dray2008-en] in the [`adespatial`](https://cran.r-project.org/web/packages/adespatial/index.html) package, which seeks to maximize both variance (as in non-spatial PCA) and Moran's I on each PC. Unlike traditional PCs, where all eigenvalues, signifying variance explained, are positive, MULTISPATI PCA can have negative eigenvalues, which signify negative spatial autocorrelation. The PCs from MULTISPATI PCA with positive eigenvalues are also more spatially coherent than those from non-spatial PCA. For the CosMX and Xenium datasets on this website, the spatial coherence from MULTISPATI might not make a difference, but it might make a difference in this dataset where non-spatial PCs don't show as much spatial structure, at least at the larger scale over the entire tissue section. Voyager 1.2.0 (Bioconductor 3.17) has a faster implementation of MULTISPATI PCA than that of `adespatial`, and is demonstrated in this dataset in [another vignette](https://pachterlab.github.io/voyager/articles/multispati.html).\n",
    "\n",
    "While PC2 and PC3 don't seem to have large scale spatial structure, they may have more local spatial structure not obvious from plotting the entire section, so we zoom into the bounding box:"
   ]
  },
  {
   "cell_type": "code",
   "execution_count": null,
<<<<<<< HEAD
<<<<<<< HEAD
<<<<<<< HEAD
   "id": "7e18b723",
||||||| 3477967
   "id": "638d7baf",
=======
   "id": "7288cce6",
>>>>>>> 763a65aa00deab365d39bc26b2dcb2cc1410a666
||||||| eb63ff5
   "id": "7e18b723",
=======
   "id": "62c550b4",
>>>>>>> documentation-devel
||||||| cd53b20
<<<<<<< HEAD
   "id": "7e18b723",
||||||| 3477967
   "id": "638d7baf",
=======
   "id": "7288cce6",
>>>>>>> 763a65aa00deab365d39bc26b2dcb2cc1410a666
=======
   "id": "2d8a8e10",
>>>>>>> 61c8f4bff1b7848db82b013fbfba194514b420ca
   "metadata": {
    "fig.height": 5,
    "fig.width": 9
   },
   "outputs": [],
   "source": [
    "spatialReducedDim(sfe, \"PCA\", ncomponents = 2:3, colGeometryName = \"cellSeg\",\n",
    "                  bbox = bbox_use, divergent = TRUE, diverge_center = 0)"
   ]
  },
  {
   "cell_type": "markdown",
<<<<<<< HEAD
<<<<<<< HEAD
<<<<<<< HEAD
   "id": "6b991e4e",
||||||| 3477967
   "id": "2836a043",
=======
   "id": "a1a1c5a0",
>>>>>>> 763a65aa00deab365d39bc26b2dcb2cc1410a666
||||||| eb63ff5
   "id": "6b991e4e",
=======
   "id": "b10a0b61",
>>>>>>> documentation-devel
||||||| cd53b20
<<<<<<< HEAD
   "id": "6b991e4e",
||||||| 3477967
   "id": "2836a043",
=======
   "id": "a1a1c5a0",
>>>>>>> 763a65aa00deab365d39bc26b2dcb2cc1410a666
=======
   "id": "36fc267c",
>>>>>>> 61c8f4bff1b7848db82b013fbfba194514b420ca
   "metadata": {},
   "source": [
    "There's some spatial structure in PC2 and PC3 at a smaller scale, perhaps some negative spatial autocorrelation.\n",
    "\n",
    "Like global Moran's I, PCA and MULTISPATI PCA return one result for the entire dataset. In contrast, [geographically weighted PCA (GWPCA)](https://rdrr.io/cran/GWmodel/man/gwpca.html) [@Harris2015-sr] can account for spatial heterogeneity. GWPCA runs PCA at each spatial location using only the nearby locations weighed by a kernel. The different locations can have different PCs, and the results can be visualized with \"winning variables\" in each PC, i.e. plotting which feature has the highest loading in each PC in space. This most likely doesn't scale to 400,000 cells, but it would still be interesting when performed on spatially binned data. GWPCA might be added in Bioconductor 3.18 and would require some changes in the user interface, because GWPCA is about the features rather than cell embeddings.\n",
    "\n",
    "# More challenges from large datasets\n",
    "Here, despite the numerous cells, the data was loaded into memory. What if the data doesn't fit into memory? We might write a new vignette with `DelayedArray` demonstrating out of memory data analysis for Bioconductor 3.18. This is already supported by `SingleCellExperiment`, which SFE inherits from. However, the geometries, graphs, and local results can take up a lot memory as well. These can possibly be stored in SQL databases and operated on with [`SQLDataFrame`](https://bioconductor.org/packages/release/bioc/html/SQLDataFrame.html). The geometric operations can be handled by [`sedona`](https://github.com/apache/incubator-sedona), although the options are limited compared to GEOS, which performs geometric operations behind the scene for `sf`.\n",
    "\n",
    "Another question can be raised about large spatial transcriptomics data: Is it still a good idea to analyze the entire dataset at once? There must be many interesting and unique neighborhoods that might not get the attention they deserve when the whole dataset is analyzed at once. After all, in the geographical space, national level data is usually not analyzed at the block resolution, although a reason for this is privacy of the subjects. County resolution is often used, but there aren't hundreds of thousands of counties. Many analyses are done for cities and counties with neighborhood resolution; using the largest geographical unit isn't always the most relevant. Back to histological space: How to aggregate cells into larger spatial units? How to decide which scale of spatial units (analogous to nation vs state vs county and etc) is relevant? We have traditional anatomical ontologies, such as from the Allen Brain Atlas, but this isn't available for all tissues. Also, with more single cell -omics data, the traditional ontologies can be improved.\n",
    "\n",
    "Furthermore, there are 3D thick section single cell resolution spatial transcriptomics data, such as from STARmap [@Wang2018-cv] and EASI-FISH [@Wang2021-fv], although the vast majority of spatial -omics data are from thin sections pretty much _de facto_ 2D. As we mostly live on the surface of Earth, there are many more 2D geospatial resources than 3D. However, some methods can in principle be applied to 3D and the existing software primarily made for 2D data might work. For example, GEOS supports 3D data, so in principle 3D geometries in `sf` should work, although there's little documentation on this. Also, k nearest neighbor, Moran's I, variograms, and etc. should in principle work in 3D, and `gstat` officially supports 3D. These are more challenges related to 3D data:\n",
    "\n",
    "1. Even when multiple z-planes are imaged, the resolution is much lower in the z direction than the x and y directions. Then should the z-plane be treated as an attribute or as a coordinate?\n",
    "2. How to make static plots for 3D data for publications? This is more complicated than plotting z-planes separately, since a 3D block can be sectioned from any other direction. Also for interactive visualization, we need to somehow see through the tissue. \n",
    "\n",
    "Finally, the geospatial tradition is only one tradition relevant to large spatial data, and at present `Voyager` only works with vector data. We are uncertain whether raster should be added in a later version, and there are existing tools for large raster data as well, such as [TileDB](https://docs.tiledb.com/geospatial/). Other traditions can be relevant, such as astronomy and image processing, but those are beyond the scope of this package.\n",
    "\n",
    "# Session Info"
   ]
  },
  {
   "cell_type": "code",
   "execution_count": null,
<<<<<<< HEAD
<<<<<<< HEAD
<<<<<<< HEAD
   "id": "06f3ef64",
||||||| 3477967
   "id": "9a711673",
=======
   "id": "216713ea",
>>>>>>> 763a65aa00deab365d39bc26b2dcb2cc1410a666
||||||| eb63ff5
   "id": "06f3ef64",
=======
   "id": "88d843b5",
>>>>>>> documentation-devel
||||||| cd53b20
<<<<<<< HEAD
   "id": "06f3ef64",
||||||| 3477967
   "id": "9a711673",
=======
   "id": "216713ea",
>>>>>>> 763a65aa00deab365d39bc26b2dcb2cc1410a666
=======
   "id": "39b881f8",
>>>>>>> 61c8f4bff1b7848db82b013fbfba194514b420ca
   "metadata": {},
   "outputs": [],
   "source": [
    "sessionInfo()"
   ]
  },
  {
   "cell_type": "markdown",
<<<<<<< HEAD
<<<<<<< HEAD
<<<<<<< HEAD
   "id": "be9b6037",
||||||| 3477967
   "id": "6987ceca",
=======
   "id": "5c7f243f",
>>>>>>> 763a65aa00deab365d39bc26b2dcb2cc1410a666
||||||| eb63ff5
   "id": "be9b6037",
=======
   "id": "46ca8e61",
>>>>>>> documentation-devel
||||||| cd53b20
<<<<<<< HEAD
   "id": "be9b6037",
||||||| 3477967
   "id": "6987ceca",
=======
   "id": "5c7f243f",
>>>>>>> 763a65aa00deab365d39bc26b2dcb2cc1410a666
=======
   "id": "e84cb8ef",
>>>>>>> 61c8f4bff1b7848db82b013fbfba194514b420ca
   "metadata": {},
   "source": [
    "# References"
   ]
  }
 ],
 "metadata": {
  "kernelspec": {
   "display_name": "R",
   "language": "R",
   "name": "ir"
  }
 },
 "nbformat": 4,
 "nbformat_minor": 5
}
