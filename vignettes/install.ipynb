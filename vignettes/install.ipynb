{
 "cells": [
  {
   "cell_type": "raw",
   "id": "bb3ff235",
   "metadata": {},
   "source": [
    "---\n",
    "title: \"Installing Voyager\"\n",
    "output: html_document\n",
    "vignette: >\n",
    "  %\\VignetteIndexEntry{Install}\n",
    "  %\\VignetteEngine{knitr::rmarkdown}\n",
    "  %\\VignetteEncoding{UTF-8}\n",
    "---"
   ]
  },
  {
   "cell_type": "code",
   "execution_count": null,
   "id": "6f91e921",
   "metadata": {
    "lines_to_next_cell": 0,
    "tags": [
     "remove_cell"
    ]
   },
   "outputs": [],
   "source": [
    "knitr::opts_chunk$set(\n",
    "  collapse = TRUE,\n",
    "  comment = \"#>\",\n",
    "  eval = FALSE\n",
    ")"
   ]
  },
  {
   "cell_type": "markdown",
   "id": "a2e5f73b",
   "metadata": {},
   "source": [
    "Users that are intersted in using the Python implementation of Voyager should reference the [VoyagerPy](https://pmelsted.github.io/voyagerpy/install/) website. \n",
    "\n",
    "To install the release version of Voyager from Bioconductor, make sure that your Bioconductor installation is version 3.16 or higher (this requires R version 4.2 or higher). "
   ]
  },
  {
   "cell_type": "code",
   "execution_count": null,
   "id": "b8560f10",
   "metadata": {},
   "outputs": [],
   "source": [
    "if (!requireNamespace(\"BiocManager\", quietly = TRUE)) install.packages(\"BiocManager\")\n",
    "BiocManager::install(version = \"3.16\") # Or a higher version in the future\n",
    "BiocManager::install(\"Voyager\")"
   ]
  },
  {
   "cell_type": "markdown",
   "id": "927f8af0",
   "metadata": {
    "lines_to_next_cell": 0
   },
   "source": [
    "While Voyager itself does not require compilation, some of its dependencies, such as [`sf`](https://r-spatial.github.io/sf/), must be compiled, and in turn rely on system dependencies. See the [Installation page of `sf`](https://r-spatial.github.io/sf/) for instructions on how to install the system dependencies.\n",
    "\n",
    "The `main` branch on GitHub is the release version. The development version of Voyager can be installed from Bioconductor"
   ]
  },
  {
   "cell_type": "code",
   "execution_count": null,
   "id": "6cce6a46",
   "metadata": {},
   "outputs": [],
   "source": [
    "BiocManager::install(\"Voyager\", version = \"devel\")"
   ]
  },
  {
   "cell_type": "markdown",
   "id": "96b67d9b",
   "metadata": {
    "lines_to_next_cell": 0
   },
   "source": [
    "or directly from GitHub, from the `devel` branch:"
   ]
  },
  {
   "cell_type": "code",
   "execution_count": null,
   "id": "bda95e04",
   "metadata": {
    "lines_to_next_cell": 0
   },
   "outputs": [],
   "source": [
    "if (!requireNamespace(\"remotes\", quietly = TRUE)) install.packages(\"remotes\")\n",
    "remotes::install_github(\"pachterlab/voyager\", ref = \"devel\")"
   ]
  },
  {
   "cell_type": "markdown",
   "id": "ca21474b",
   "metadata": {},
   "source": []
  }
 ],
 "metadata": {
  "jupytext": {
   "cell_metadata_filter": "tags,-all",
   "main_language": "R",
   "notebook_metadata_filter": "-all"
  }
 },
 "nbformat": 4,
 "nbformat_minor": 5
}
