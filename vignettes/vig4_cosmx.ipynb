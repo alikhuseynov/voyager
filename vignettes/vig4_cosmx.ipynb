{
 "cells": [
  {
   "cell_type": "raw",
<<<<<<< HEAD
<<<<<<< HEAD
   "id": "3c887000",
||||||| merged common ancestors
   "id": "007d0f23",
=======
   "id": "8debe1ce",
>>>>>>> documentation-devel
||||||| f5a2d7c
   "id": "8debe1ce",
=======
   "id": "1df69f01",
>>>>>>> documentation-devel
   "metadata": {},
   "source": [
    "---\n",
    "title: \"CosMX non-small cell lung cancer data\"\n",
    "author: \"Lambda Moses\"\n",
    "date: \"`r Sys.Date()`\"\n",
    "output: \n",
    "  html_document:\n",
    "  toc: true\n",
    "  toc_float:\n",
    "    collapsed: false\n",
    "  toc_depth: 3\n",
    "bibliography: ref.bib\n",
    "vignette: >\n",
    "  %\\VignetteIndexEntry{cosmx}\n",
    "  %\\VignetteEngine{knitr::rmarkdown}\n",
    "  %\\VignetteEncoding{UTF-8}\n",
    "---"
   ]
  },
  {
   "cell_type": "code",
   "execution_count": null,
<<<<<<< HEAD
<<<<<<< HEAD
   "id": "3735cca8",
||||||| merged common ancestors
   "id": "a4dfa8e2",
=======
   "id": "c6580201",
>>>>>>> documentation-devel
||||||| f5a2d7c
   "id": "c6580201",
=======
   "id": "9483edc2",
>>>>>>> documentation-devel
   "metadata": {
    "tags": [
     "remove_cell"
    ]
   },
   "outputs": [],
   "source": [
    "knitr::opts_chunk$set(\n",
    "  collapse = TRUE,\n",
    "  comment = \"#>\", fig.align = \"center\"\n",
    ")"
   ]
  },
  {
   "cell_type": "code",
   "execution_count": null,
<<<<<<< HEAD
<<<<<<< HEAD
   "id": "3c1ac7d9",
||||||| merged common ancestors
   "id": "18857b33",
=======
   "id": "47e8691c",
>>>>>>> documentation-devel
||||||| f5a2d7c
   "id": "47e8691c",
=======
   "id": "68096e1f",
>>>>>>> documentation-devel
   "metadata": {
    "eval": false,
    "tags": [
     "remove_cell"
    ]
   },
   "outputs": [],
   "source": [
    "# Install Google Colab dependencies\n",
    "# Note: this can take 30+ minutes (many of the dependencies include C++ code, which needs to be compiled)\n",
    "\n",
    "# First install `sf`, `ragg` and `textshaping` and their system dependencies:\n",
    "system(\"apt-get -y update && apt-get install -y  libudunits2-dev libgdal-dev libgeos-dev libproj-dev libharfbuzz-dev libfribidi-dev\")\n",
    "install.packages(\"sf\")\n",
    "install.packages(\"textshaping\")\n",
    "install.packages(\"ragg\")\n",
    "\n",
    "# Install system dependencies of some other R packages that Voyager either imports or suggests:\n",
    "system(\"apt-get install -y libfribidi-dev libcairo2-dev libmagick++-dev\")\n",
    "\n",
    "# Install Voyager from Bioconductor:\n",
    "install.packages(\"BiocManager\")\n",
    "BiocManager::install(version = \"3.17\", ask = FALSE, update = FALSE, Ncpus = 2)\n",
    "BiocManager::install(\"scater\")\n",
    "system.time(\n",
    "  BiocManager::install(\"Voyager\", dependencies = TRUE, Ncpus = 2, update = FALSE)\n",
    ")\n",
    "\n",
    "packageVersion(\"Voyager\")"
   ]
  },
  {
   "cell_type": "markdown",
<<<<<<< HEAD
<<<<<<< HEAD
   "id": "ca2253a8",
||||||| merged common ancestors
   "id": "421e5adf",
=======
   "id": "fe48cde1",
>>>>>>> documentation-devel
||||||| f5a2d7c
   "id": "fe48cde1",
=======
   "id": "ac5bd157",
>>>>>>> documentation-devel
   "metadata": {},
   "source": [
    "# Introduction\n",
    "\n",
    "Nanostring GeoMX DSP is a popular spatial transcriptomics technology for formalin fixed paraffin embedded (FFPE) tissues, but it doesn't have single cell resolution. The CosMX FISH based technology for FFPE tissue [@He2021-oy] does have single cell resolution, and this vignette provides an example of how to analyze CosMX data with voyager. Note that FFPE is a common way to preserve and archive tissue, and in some cases, the only samples available may be FFPE. \n",
    "\n",
    "The CosMX dataset for non-small cell lung cancer that we used is described in [@He2021-oy]. The processed data is available for download from the [Nanostring website](https://nanostring.com/products/cosmx-spatial-molecular-imager/ffpe-dataset/). The gene count matrix, cell metadata, and cell segmentation polygon coordinates were downloaded from the Nanostring website as CSV files and read into R as data frames. The gene count matrix was then converted to a sparse matrix. The cell metadata contains centroid coordinates of the cells. The cell polygon data frames were converted into an `sf` data frame with the `df2sf()` function in `SpatialFeatureExperiment` (SFE). These were then used to construct an SFE object. Cell segmentation is only available in one z-plane."
   ]
  },
  {
   "cell_type": "code",
   "execution_count": null,
<<<<<<< HEAD
<<<<<<< HEAD
   "id": "468f4715",
||||||| merged common ancestors
   "id": "3a8760c5",
=======
   "id": "72a47ad0",
>>>>>>> documentation-devel
||||||| f5a2d7c
   "id": "72a47ad0",
=======
   "id": "0e6ee240",
>>>>>>> documentation-devel
   "metadata": {
    "name": "setup"
   },
   "outputs": [],
   "source": [
    "library(Voyager)\n",
    "library(SFEData)\n",
    "library(SingleCellExperiment)\n",
    "library(SpatialExperiment)\n",
    "library(scater) # devel version of plotExpression\n",
    "library(scran)\n",
    "library(bluster)\n",
    "library(ggplot2)\n",
    "library(patchwork)\n",
    "library(stringr)\n",
    "library(spdep)\n",
    "library(BiocParallel)\n",
    "library(BiocSingular)\n",
    "theme_set(theme_bw())"
   ]
  },
  {
   "cell_type": "code",
   "execution_count": null,
<<<<<<< HEAD
<<<<<<< HEAD
   "id": "10854cbf",
||||||| merged common ancestors
   "id": "552d4879",
=======
   "id": "aeb8368e",
>>>>>>> documentation-devel
||||||| f5a2d7c
   "id": "aeb8368e",
=======
   "id": "f40379f9",
>>>>>>> documentation-devel
   "metadata": {},
   "outputs": [],
   "source": [
    "(sfe <- HeNSCLCData())"
   ]
  },
  {
   "cell_type": "markdown",
<<<<<<< HEAD
<<<<<<< HEAD
   "id": "3d65bf2c",
||||||| merged common ancestors
   "id": "3389aacd",
=======
   "id": "5ca74ad8",
>>>>>>> documentation-devel
||||||| f5a2d7c
   "id": "5ca74ad8",
=======
   "id": "5505842a",
>>>>>>> documentation-devel
   "metadata": {
    "lines_to_next_cell": 0
   },
   "source": [
    "Only the first biological replicate is included in the `SFEData` package. This biological replicate has 980 features and 100,290 cells. Take a look at the cells in space:"
   ]
  },
  {
   "cell_type": "code",
   "execution_count": null,
<<<<<<< HEAD
<<<<<<< HEAD
   "id": "0160ccdc",
||||||| merged common ancestors
   "id": "f49c4122",
=======
   "id": "6a8610ff",
>>>>>>> documentation-devel
||||||| f5a2d7c
   "id": "6a8610ff",
=======
   "id": "18d0792d",
>>>>>>> documentation-devel
   "metadata": {},
   "outputs": [],
   "source": [
    "plotGeometry(sfe, MARGIN = 2L, type = \"cellSeg\")"
   ]
  },
  {
   "cell_type": "markdown",
<<<<<<< HEAD
<<<<<<< HEAD
   "id": "192ccbb2",
||||||| merged common ancestors
   "id": "ef70c0a5",
=======
   "id": "eb6f4812",
>>>>>>> documentation-devel
||||||| f5a2d7c
   "id": "eb6f4812",
=======
   "id": "c9fc4a1a",
>>>>>>> documentation-devel
   "metadata": {
    "lines_to_next_cell": 0
   },
   "source": [
    "With single cell resolution, a lot of the details can be seen, although there's some artifact from borders of fields of view (FOVs).\n",
    "\n",
    "Plot cell density"
   ]
  },
  {
   "cell_type": "code",
   "execution_count": null,
<<<<<<< HEAD
<<<<<<< HEAD
   "id": "aa3f3179",
||||||| merged common ancestors
   "id": "7d9bd294",
=======
   "id": "9ea7c449",
>>>>>>> documentation-devel
||||||| f5a2d7c
   "id": "9ea7c449",
=======
   "id": "95a3f24a",
>>>>>>> documentation-devel
   "metadata": {},
   "outputs": [],
   "source": [
    "plotCellBin2D(sfe, hex = TRUE)"
   ]
  },
  {
   "cell_type": "markdown",
<<<<<<< HEAD
<<<<<<< HEAD
   "id": "8921f689",
||||||| merged common ancestors
   "id": "73fac1da",
=======
   "id": "c2875d6e",
>>>>>>> documentation-devel
||||||| f5a2d7c
   "id": "c2875d6e",
=======
   "id": "4f049dfd",
>>>>>>> documentation-devel
   "metadata": {},
   "source": [
    "# Quality control (QC)\n",
    "## Cells\n",
    "\n",
    "Single cell RNA-seq (scRNA-seq) technologies typically don't quantify cell morphology, and gene expression in Visium doesn't have single cell resolution. Here for single cell resolution smFISH based data, each cell not only has gene expression and related QC metrics such as total number of transcripts detected and number of genes detected, but also cell morphology such as area (in the z-plane where the segmentation polygons are provided) and aspect ratio. Area is relevant to QC since it can flag falsely undersegmented cells, i.e. several cells falsely considered as one by the cell segmentation program. However, since a pre-defined gene panel is used and mitochondrially encoded genes are not quantified, the scRNA-seq QC metric of proportion of mitochondrially encoded counts is not applicable. \n",
    "\n",
    "Some QC metrics are precomputed and are stored in `colData`"
   ]
  },
  {
   "cell_type": "code",
   "execution_count": null,
<<<<<<< HEAD
<<<<<<< HEAD
   "id": "4b034427",
||||||| merged common ancestors
   "id": "e0d2438c",
=======
   "id": "685d4484",
>>>>>>> documentation-devel
||||||| f5a2d7c
   "id": "685d4484",
=======
   "id": "a834d701",
>>>>>>> documentation-devel
   "metadata": {
    "lines_to_next_cell": 0
   },
   "outputs": [],
   "source": [
    "names(colData(sfe))"
   ]
  },
  {
   "cell_type": "markdown",
<<<<<<< HEAD
<<<<<<< HEAD
   "id": "a263a895",
||||||| merged common ancestors
   "id": "a640ef38",
=======
   "id": "1a6b5bdf",
>>>>>>> documentation-devel
||||||| f5a2d7c
   "id": "1a6b5bdf",
=======
   "id": "20aface0",
>>>>>>> documentation-devel
   "metadata": {
    "lines_to_next_cell": 0
   },
   "source": [
    "Cell area, aspect ratio, marker and stain intensities, i.e. all columns before \"sample_id\" come from Nanostring's website. The `sf` package can compute areas of the cell polygons. In R, the `EBImage` package can compute more morphological metrics such as aspect ratio, eccentricity, orientation, and etc., but it requires the data to be converted to raster. OpenCV can compute more morphological metrics for polygons without converting to raster, but it needs to be called from Python or C++. Since the math behind many basic morphological metrics is pretty simple, we may add those to `Voyager` in a future version.\n",
    "\n",
    "Since plotting 100,000 polygons is slow and the plot isn't large enough for us to see the polygons anyway, we use [`scattermore`](https://github.com/exaexa/scattermore) to rasterize the plot to speed up plotting. Instead of plotting every single point, now `ggplot` merely displays a rasterized image."
   ]
  },
  {
   "cell_type": "code",
   "execution_count": null,
<<<<<<< HEAD
<<<<<<< HEAD
   "id": "009d7b08",
||||||| merged common ancestors
   "id": "1876b098",
=======
   "id": "3d27966b",
>>>>>>> documentation-devel
||||||| f5a2d7c
   "id": "3d27966b",
=======
   "id": "65a7b913",
>>>>>>> documentation-devel
   "metadata": {},
   "outputs": [],
   "source": [
    "# Function to plot violin plot for distribution and spatial at once\n",
    "plot_violin_spatial <- function(sfe, feature) {\n",
    "    violin <- plotColData(sfe, feature, point_fun = function(...) list())\n",
    "    spatial <- plotSpatialFeature(sfe, feature, colGeometryName = \"centroids\",\n",
    "                                  scattermore = TRUE)\n",
    "    violin + spatial +\n",
    "        plot_layout(widths = c(1, 2))\n",
    "}"
   ]
  },
  {
   "cell_type": "markdown",
<<<<<<< HEAD
<<<<<<< HEAD
   "id": "be605487",
||||||| merged common ancestors
   "id": "6f7e790e",
=======
   "id": "9efef9a0",
>>>>>>> documentation-devel
||||||| f5a2d7c
   "id": "9efef9a0",
=======
   "id": "d75fe6fc",
>>>>>>> documentation-devel
   "metadata": {
    "lines_to_next_cell": 0
   },
   "source": [
    "Number of transcript spots detected per cell"
   ]
  },
  {
   "cell_type": "code",
   "execution_count": null,
<<<<<<< HEAD
<<<<<<< HEAD
   "id": "f8aa321f",
||||||| merged common ancestors
   "id": "b9efaf05",
=======
   "id": "05d8aebc",
>>>>>>> documentation-devel
||||||| f5a2d7c
   "id": "05d8aebc",
=======
   "id": "56bef494",
>>>>>>> documentation-devel
   "metadata": {
    "fig.height": 4,
    "fig.width": 8
   },
   "outputs": [],
   "source": [
    "plot_violin_spatial(sfe, \"nCounts\")"
   ]
  },
  {
   "cell_type": "code",
   "execution_count": null,
<<<<<<< HEAD
<<<<<<< HEAD
   "id": "72641d4d",
||||||| merged common ancestors
   "id": "04391e25",
=======
   "id": "aceb3063",
>>>>>>> documentation-devel
||||||| f5a2d7c
   "id": "aceb3063",
=======
   "id": "e1a2e19f",
>>>>>>> documentation-devel
   "metadata": {},
   "outputs": [],
   "source": [
    "summary(sfe$nCounts)"
   ]
  },
  {
   "cell_type": "markdown",
<<<<<<< HEAD
<<<<<<< HEAD
   "id": "ebc47bd5",
||||||| merged common ancestors
   "id": "551d5025",
=======
   "id": "bda1eb6d",
>>>>>>> documentation-devel
||||||| f5a2d7c
   "id": "bda1eb6d",
=======
   "id": "677da734",
>>>>>>> documentation-devel
   "metadata": {},
   "source": [
    "To make nCounts and nGenes more comparable across datasets, we divide them by the number of genes probed. In this dataset, there are 960 genes, and 20 negative controls. However, because different genes may be probed in different datasets, which can be from different tissues, this does not make nCounts and nGenes completely comparable across datasets. However, it may still be somewhat comparable, since genes highly expressed in major cell types in the tissue tend to be selected for the gene panel."
   ]
  },
  {
   "cell_type": "code",
   "execution_count": null,
<<<<<<< HEAD
<<<<<<< HEAD
   "id": "4768e3ba",
||||||| merged common ancestors
   "id": "fd0a5676",
=======
   "id": "6892fddd",
>>>>>>> documentation-devel
||||||| f5a2d7c
   "id": "6892fddd",
=======
   "id": "ba3507e3",
>>>>>>> documentation-devel
   "metadata": {},
   "outputs": [],
   "source": [
    "n_panel <- 960\n",
    "colData(sfe)$nCounts_normed <- sfe$nCounts/n_panel\n",
    "colData(sfe)$nGenes_normed <- sfe$nGenes/n_panel"
   ]
  },
  {
   "cell_type": "code",
   "execution_count": null,
<<<<<<< HEAD
<<<<<<< HEAD
   "id": "37a4b414",
||||||| merged common ancestors
   "id": "0294923a",
=======
   "id": "862e8ef9",
>>>>>>> documentation-devel
||||||| f5a2d7c
   "id": "862e8ef9",
=======
   "id": "85019ab1",
>>>>>>> documentation-devel
   "metadata": {},
   "outputs": [],
   "source": [
    "plotColDataHistogram(sfe, c(\"nCounts_normed\", \"nGenes_normed\"))"
   ]
  },
  {
   "cell_type": "markdown",
<<<<<<< HEAD
<<<<<<< HEAD
   "id": "ba580e5b",
||||||| merged common ancestors
   "id": "137b79a5",
=======
   "id": "2b5ef724",
>>>>>>> documentation-devel
||||||| f5a2d7c
   "id": "2b5ef724",
=======
   "id": "8e70a79b",
>>>>>>> documentation-devel
   "metadata": {
    "lines_to_next_cell": 0
   },
   "source": [
    "This means the cells mostly have less than 1 transcript count per gene on average, which is not surprising since not all cells express all genes. Most cells are detected to express less than 30% of all genes probed.\n",
    "\n",
    "Number of genes (out of 980) detected per cell"
   ]
  },
  {
   "cell_type": "code",
   "execution_count": null,
<<<<<<< HEAD
<<<<<<< HEAD
   "id": "3c0933bc",
||||||| merged common ancestors
   "id": "29831ad3",
=======
   "id": "5907599c",
>>>>>>> documentation-devel
||||||| f5a2d7c
   "id": "5907599c",
=======
   "id": "3a26625a",
>>>>>>> documentation-devel
   "metadata": {
    "fig.height": 4,
    "fig.width": 8
   },
   "outputs": [],
   "source": [
    "plot_violin_spatial(sfe, \"nGenes\")"
   ]
  },
  {
   "cell_type": "code",
   "execution_count": null,
<<<<<<< HEAD
<<<<<<< HEAD
   "id": "2abf54f7",
||||||| merged common ancestors
   "id": "e65795df",
=======
   "id": "105dfb9e",
>>>>>>> documentation-devel
||||||| f5a2d7c
   "id": "105dfb9e",
=======
   "id": "c626f992",
>>>>>>> documentation-devel
   "metadata": {},
   "outputs": [],
   "source": [
    "summary(sfe$nGenes)"
   ]
  },
  {
   "cell_type": "markdown",
<<<<<<< HEAD
<<<<<<< HEAD
   "id": "999e9977",
||||||| merged common ancestors
   "id": "1e83cf85",
=======
   "id": "652f6790",
>>>>>>> documentation-devel
||||||| f5a2d7c
   "id": "652f6790",
=======
   "id": "355de0f3",
>>>>>>> documentation-devel
   "metadata": {
    "lines_to_next_cell": 0
   },
   "source": [
    "Based on the spatial plot, it seems that nCounts and nGenes are biologically relevant, but there are cells with no transcripts detected. \n",
    "\n",
    "How nCounts relates to nGenes"
   ]
  },
  {
   "cell_type": "code",
   "execution_count": null,
<<<<<<< HEAD
<<<<<<< HEAD
   "id": "124cfcd8",
||||||| merged common ancestors
   "id": "8bfa9d69",
=======
   "id": "b1bad84e",
>>>>>>> documentation-devel
||||||| f5a2d7c
   "id": "b1bad84e",
=======
   "id": "8876f523",
>>>>>>> documentation-devel
   "metadata": {},
   "outputs": [],
   "source": [
    "plotColDataBin2D(sfe, \"nCounts\", \"nGenes\")"
   ]
  },
  {
   "cell_type": "markdown",
<<<<<<< HEAD
<<<<<<< HEAD
   "id": "b2720fee",
||||||| merged common ancestors
   "id": "bb0ed983",
=======
   "id": "1a4f1a29",
>>>>>>> documentation-devel
||||||| f5a2d7c
   "id": "1a4f1a29",
=======
   "id": "b4b93119",
>>>>>>> documentation-devel
   "metadata": {
    "lines_to_next_cell": 0
   },
   "source": [
    "What's the nature of the cells without transcripts?"
   ]
  },
  {
   "cell_type": "code",
   "execution_count": null,
<<<<<<< HEAD
<<<<<<< HEAD
   "id": "80bee274",
||||||| merged common ancestors
   "id": "dde23d2f",
=======
   "id": "b4acd459",
>>>>>>> documentation-devel
||||||| f5a2d7c
   "id": "b4acd459",
=======
   "id": "dc5ebbec",
>>>>>>> documentation-devel
   "metadata": {},
   "outputs": [],
   "source": [
    "colData(sfe)$is_empty <- colData(sfe)$nCounts < 1"
   ]
  },
  {
   "cell_type": "code",
   "execution_count": null,
<<<<<<< HEAD
<<<<<<< HEAD
   "id": "e1bb8ee4",
||||||| merged common ancestors
   "id": "6f707ea9",
=======
   "id": "10a44f0b",
>>>>>>> documentation-devel
||||||| f5a2d7c
   "id": "10a44f0b",
=======
   "id": "cb1661ca",
>>>>>>> documentation-devel
   "metadata": {},
   "outputs": [],
   "source": [
    "plotSpatialFeature(sfe, \"is_empty\", \"cellSeg\")"
   ]
  },
  {
   "cell_type": "markdown",
<<<<<<< HEAD
<<<<<<< HEAD
   "id": "b2cc7f98",
||||||| merged common ancestors
   "id": "b3dad20b",
=======
   "id": "c185d51c",
>>>>>>> documentation-devel
||||||| f5a2d7c
   "id": "c185d51c",
=======
   "id": "9f33b740",
>>>>>>> documentation-devel
   "metadata": {
    "lines_to_next_cell": 0
   },
   "source": [
    "The cells without transcripts are in the central cavity."
   ]
  },
  {
   "cell_type": "code",
   "execution_count": null,
<<<<<<< HEAD
<<<<<<< HEAD
   "id": "c438a6e3",
||||||| merged common ancestors
   "id": "76104bc5",
=======
   "id": "9dcfb986",
>>>>>>> documentation-devel
||||||| f5a2d7c
   "id": "9dcfb986",
=======
   "id": "3072362c",
>>>>>>> documentation-devel
   "metadata": {},
   "outputs": [],
   "source": [
    "plotColData(sfe, x = \"Area\", y = \"is_empty\")"
   ]
  },
  {
   "cell_type": "markdown",
<<<<<<< HEAD
<<<<<<< HEAD
   "id": "0e5584bb",
||||||| merged common ancestors
   "id": "90e2935a",
=======
   "id": "1288bba4",
>>>>>>> documentation-devel
||||||| f5a2d7c
   "id": "1288bba4",
=======
   "id": "47bd818c",
>>>>>>> documentation-devel
   "metadata": {
    "lines_to_next_cell": 0
   },
   "source": [
    "The \"empty\" cells tend to be smaller than other cells but there are also some really large ones. \n",
    "\n",
    "Cell area distribution"
   ]
  },
  {
   "cell_type": "code",
   "execution_count": null,
<<<<<<< HEAD
<<<<<<< HEAD
   "id": "7a915525",
||||||| merged common ancestors
   "id": "bfc7e180",
=======
   "id": "26ee74df",
>>>>>>> documentation-devel
||||||| f5a2d7c
   "id": "26ee74df",
=======
   "id": "f15004bb",
>>>>>>> documentation-devel
   "metadata": {
    "fig.height": 4,
    "fig.width": 8
   },
   "outputs": [],
   "source": [
    "plot_violin_spatial(sfe, \"Area\")"
   ]
  },
  {
   "cell_type": "markdown",
<<<<<<< HEAD
<<<<<<< HEAD
   "id": "4d85bbdd",
||||||| merged common ancestors
   "id": "749d5d2c",
=======
   "id": "e63384e5",
>>>>>>> documentation-devel
||||||| f5a2d7c
   "id": "e63384e5",
=======
   "id": "4071d368",
>>>>>>> documentation-devel
   "metadata": {
    "lines_to_next_cell": 0
   },
   "source": [
    "Larger cells are more likely to be found in certain areas of the tissue. It could be biological, or that under-segmentation is more likely for that cell type or that tissue region.\n",
    "\n",
    "How does area relate to total counts?"
   ]
  },
  {
   "cell_type": "code",
   "execution_count": null,
<<<<<<< HEAD
<<<<<<< HEAD
   "id": "578cd809",
||||||| merged common ancestors
   "id": "85668f41",
=======
   "id": "e44ebfb8",
>>>>>>> documentation-devel
||||||| f5a2d7c
   "id": "e44ebfb8",
=======
   "id": "5dc94b64",
>>>>>>> documentation-devel
   "metadata": {},
   "outputs": [],
   "source": [
    "plotColDataBin2D(sfe, \"nCounts\", \"Area\") + theme_bw()"
   ]
  },
  {
   "cell_type": "markdown",
<<<<<<< HEAD
<<<<<<< HEAD
   "id": "86f381e1",
||||||| merged common ancestors
   "id": "6ca615cd",
=======
   "id": "306434d1",
>>>>>>> documentation-devel
||||||| f5a2d7c
   "id": "306434d1",
=======
   "id": "9436b444",
>>>>>>> documentation-devel
   "metadata": {
    "lines_to_next_cell": 0
   },
   "source": [
    "While there may vaguely seem that cells with more total counts tend to be larger (at least in this z-plane), there are some cells that are large but have low total counts.\n",
    "\n",
    "Negative control probes are used in this dataset for QC. Here we calculate the proportion of transcripts attributed to the negative controls."
   ]
  },
  {
   "cell_type": "code",
   "execution_count": null,
<<<<<<< HEAD
<<<<<<< HEAD
   "id": "61d21d78",
||||||| merged common ancestors
   "id": "e022bf1a",
=======
   "id": "a0a530cc",
>>>>>>> documentation-devel
||||||| f5a2d7c
   "id": "a0a530cc",
=======
   "id": "e3b843c3",
>>>>>>> documentation-devel
   "metadata": {},
   "outputs": [],
   "source": [
    "neg_inds <- str_detect(rownames(sfe), \"^NegPrb\")\n",
    "# Number of negative control probes\n",
    "sum(neg_inds)\n",
    "colData(sfe)$prop_neg <- colSums(counts(sfe)[neg_inds,])/colData(sfe)$nCounts"
   ]
  },
  {
   "cell_type": "code",
   "execution_count": null,
<<<<<<< HEAD
<<<<<<< HEAD
   "id": "48a7d3f1",
||||||| merged common ancestors
   "id": "71e19e57",
=======
   "id": "9a1b090a",
>>>>>>> documentation-devel
||||||| f5a2d7c
   "id": "9a1b090a",
=======
   "id": "fe7f2667",
>>>>>>> documentation-devel
   "metadata": {
    "fig.height": 4,
    "fig.width": 8
   },
   "outputs": [],
   "source": [
    "plot_violin_spatial(sfe, \"prop_neg\")"
   ]
  },
  {
   "cell_type": "markdown",
<<<<<<< HEAD
<<<<<<< HEAD
   "id": "352cace9",
||||||| merged common ancestors
   "id": "3e8d8ad6",
=======
   "id": "cf65c412",
>>>>>>> documentation-devel
||||||| f5a2d7c
   "id": "cf65c412",
=======
   "id": "afd5cb78",
>>>>>>> documentation-devel
   "metadata": {},
   "source": [
    "The NA's are empty cells, and the proportion is very low except for a few outliers. How does prop_neg relate to nCounts?"
   ]
  },
  {
   "cell_type": "code",
   "execution_count": null,
<<<<<<< HEAD
<<<<<<< HEAD
   "id": "1d97be6b",
||||||| merged common ancestors
   "id": "35002ed4",
=======
   "id": "79d980d2",
>>>>>>> documentation-devel
||||||| f5a2d7c
   "id": "79d980d2",
=======
   "id": "847e32df",
>>>>>>> documentation-devel
   "metadata": {},
   "outputs": [],
   "source": [
    "plotColDataBin2D(sfe, \"nCounts\", \"prop_neg\") +\n",
    "    scale_fill_viridis_c()"
   ]
  },
  {
   "cell_type": "markdown",
<<<<<<< HEAD
<<<<<<< HEAD
   "id": "bdc971f9",
||||||| merged common ancestors
   "id": "6eb14e8e",
=======
   "id": "475fae89",
>>>>>>> documentation-devel
||||||| f5a2d7c
   "id": "475fae89",
=======
   "id": "bd2e9384",
>>>>>>> documentation-devel
   "metadata": {
    "lines_to_next_cell": 0
   },
   "source": [
    "This looks kind of like the proportion of mitochondrial counts vs. nCounts plot for scRNA-seq, where cells with fewer total counts tend to have higher proportion of mitochondrial counts."
   ]
  },
  {
   "cell_type": "code",
   "execution_count": null,
<<<<<<< HEAD
<<<<<<< HEAD
   "id": "8a12e28e",
||||||| merged common ancestors
   "id": "51f42164",
=======
   "id": "fb78b61f",
>>>>>>> documentation-devel
||||||| f5a2d7c
   "id": "fb78b61f",
=======
   "id": "0d755c65",
>>>>>>> documentation-devel
   "metadata": {},
   "outputs": [],
   "source": [
    "# The zeros are removed\n",
    "plotColDataHistogram(sfe, \"prop_neg\") +\n",
    "    scale_x_log10()"
   ]
  },
  {
   "cell_type": "markdown",
<<<<<<< HEAD
<<<<<<< HEAD
   "id": "f2c3cbb0",
||||||| merged common ancestors
   "id": "9d143d83",
=======
   "id": "acabff4a",
>>>>>>> documentation-devel
||||||| f5a2d7c
   "id": "acabff4a",
=======
   "id": "b7342c3e",
>>>>>>> documentation-devel
   "metadata": {},
   "source": [
    "The distribution is not obviously bimodal, and since the x-axis is log transformed to better visualize the distribution, the 0's have been removed. It's kind of arbitrary; for now we'll remove cells with more than 10% of transcripts from negative controls."
   ]
  },
  {
   "cell_type": "code",
   "execution_count": null,
<<<<<<< HEAD
<<<<<<< HEAD
   "id": "4a13a7bd",
||||||| merged common ancestors
   "id": "5c2507a4",
=======
   "id": "0d9ad6dd",
>>>>>>> documentation-devel
||||||| f5a2d7c
   "id": "0d9ad6dd",
=======
   "id": "b28c37e5",
>>>>>>> documentation-devel
   "metadata": {},
   "outputs": [],
   "source": [
    "# Remove low quality cells\n",
    "(sfe <- sfe[,!sfe$is_empty & sfe$prop_neg < 0.1])"
   ]
  },
  {
   "cell_type": "markdown",
<<<<<<< HEAD
<<<<<<< HEAD
   "id": "16dba842",
||||||| merged common ancestors
   "id": "d733b383",
=======
   "id": "a281e902",
>>>>>>> documentation-devel
||||||| f5a2d7c
   "id": "a281e902",
=======
   "id": "2ab492d6",
>>>>>>> documentation-devel
   "metadata": {
    "lines_to_next_cell": 0
   },
   "source": [
    "After removing the low quality cells, there are 100,095 cells left.\n",
    "\n",
    "### Markers\n",
    "Nanostring provides some cell stain and marker intensities in the cell metadata."
   ]
  },
  {
   "cell_type": "code",
   "execution_count": null,
<<<<<<< HEAD
<<<<<<< HEAD
   "id": "6256742b",
||||||| merged common ancestors
   "id": "fe5f5102",
=======
   "id": "6417d1f9",
>>>>>>> documentation-devel
||||||| f5a2d7c
   "id": "6417d1f9",
=======
   "id": "fe79dc07",
>>>>>>> documentation-devel
   "metadata": {},
   "outputs": [],
   "source": [
    "names(colData(sfe))"
   ]
  },
  {
   "cell_type": "markdown",
<<<<<<< HEAD
<<<<<<< HEAD
   "id": "57eae2d8",
||||||| merged common ancestors
   "id": "d9cbcd02",
=======
   "id": "710abe1b",
>>>>>>> documentation-devel
||||||| f5a2d7c
   "id": "710abe1b",
=======
   "id": "a662cf43",
>>>>>>> documentation-devel
   "metadata": {
    "lines_to_next_cell": 0
   },
   "source": [
    "Here we plot aspect ratio and mean intensity of cells stains and markers, which have not been plotted before. PanCK is a marker for epithelial cells. CD45 is a leukocyte marker. CD3 is a T cell marker. Since it takes quite a while to plot 100,000 cells 6 times, `scattermore` really helps."
   ]
  },
  {
   "cell_type": "code",
   "execution_count": null,
<<<<<<< HEAD
<<<<<<< HEAD
   "id": "845844ac",
||||||| merged common ancestors
   "id": "a0f784cc",
=======
   "id": "caafa63d",
>>>>>>> documentation-devel
||||||| f5a2d7c
   "id": "caafa63d",
=======
   "id": "6ec3c3ba",
>>>>>>> documentation-devel
   "metadata": {
    "fig.height": 9,
    "fig.width": 10
   },
   "outputs": [],
   "source": [
    "plotSpatialFeature(sfe, c(\"AspectRatio\", \"Mean.DAPI\", \"Mean.MembraneStain\", \n",
    "                          \"Mean.PanCK\", \"Mean.CD45\", \"Mean.CD3\"),\n",
    "                   colGeometryName = \"centroids\", ncol = 2, scattermore = TRUE)"
   ]
  },
  {
   "cell_type": "markdown",
<<<<<<< HEAD
<<<<<<< HEAD
   "id": "ab0d18ce",
||||||| merged common ancestors
   "id": "d22984ef",
=======
   "id": "bf6ec259",
>>>>>>> documentation-devel
||||||| f5a2d7c
   "id": "bf6ec259",
=======
   "id": "bf53a0c1",
>>>>>>> documentation-devel
   "metadata": {
    "lines_to_next_cell": 0
   },
   "source": [
    "## Genes"
   ]
  },
  {
   "cell_type": "code",
   "execution_count": null,
<<<<<<< HEAD
<<<<<<< HEAD
   "id": "6a6d04c3",
||||||| merged common ancestors
   "id": "6cd4591f",
=======
   "id": "4b84dd6d",
>>>>>>> documentation-devel
||||||| f5a2d7c
   "id": "4b84dd6d",
=======
   "id": "90d96606",
>>>>>>> documentation-devel
   "metadata": {},
   "outputs": [],
   "source": [
    "rowData(sfe)$means <- rowMeans(counts(sfe))\n",
    "rowData(sfe)$vars <- rowVars(counts(sfe))\n",
    "rowData(sfe)$is_neg <- neg_inds"
   ]
  },
  {
   "cell_type": "code",
   "execution_count": null,
<<<<<<< HEAD
<<<<<<< HEAD
   "id": "ff366e71",
||||||| merged common ancestors
   "id": "580e0b8e",
=======
   "id": "323030f0",
>>>>>>> documentation-devel
||||||| f5a2d7c
   "id": "323030f0",
=======
   "id": "e0d43637",
>>>>>>> documentation-devel
   "metadata": {},
   "outputs": [],
   "source": [
    "plotRowDataBin2D(sfe, \"means\", \"vars\", subset = \"is_neg\", bins = 50) +\n",
    "    geom_abline(slope = 1, intercept = 0, color = \"red\") +\n",
    "    scale_x_log10() + scale_y_log10() +\n",
    "    annotation_logticks() +\n",
    "    coord_equal()"
   ]
  },
  {
   "cell_type": "markdown",
<<<<<<< HEAD
<<<<<<< HEAD
   "id": "dfe53049",
||||||| merged common ancestors
   "id": "7d20e8f8",
=======
   "id": "cb4cd719",
>>>>>>> documentation-devel
||||||| f5a2d7c
   "id": "cb4cd719",
=======
   "id": "6e7409ea",
>>>>>>> documentation-devel
   "metadata": {},
   "source": [
    "The red line $y = x$ is expected from Poisson data. Gene expression in this dataset has more variance than expected from Poisson, even for gene with lower expression. Zoom into the negative controls"
   ]
  },
  {
   "cell_type": "code",
   "execution_count": null,
<<<<<<< HEAD
<<<<<<< HEAD
   "id": "b18eb9df",
||||||| merged common ancestors
   "id": "680ac722",
=======
   "id": "eda76f0a",
>>>>>>> documentation-devel
||||||| f5a2d7c
   "id": "eda76f0a",
=======
   "id": "3ffd4631",
>>>>>>> documentation-devel
   "metadata": {},
   "outputs": [],
   "source": [
    "as.data.frame(rowData(sfe)[neg_inds,]) |> \n",
    "    ggplot(aes(means, vars)) +\n",
    "    geom_point() +\n",
    "    geom_abline(slope = 1, intercept = 0, color = \"red\") +\n",
    "    scale_x_log10() + scale_y_log10() +\n",
    "    annotation_logticks() +\n",
    "    coord_equal()"
   ]
  },
  {
   "cell_type": "markdown",
<<<<<<< HEAD
<<<<<<< HEAD
   "id": "ea146b64",
||||||| merged common ancestors
   "id": "12872bd3",
=======
   "id": "5375115d",
>>>>>>> documentation-devel
||||||| f5a2d7c
   "id": "5375115d",
=======
   "id": "07a73cfc",
>>>>>>> documentation-devel
   "metadata": {
    "lines_to_next_cell": 0
   },
   "source": [
    "Among the \"high quality\" cells, the negative controls still have higher variance relative to mean compared to Poisson. \n",
    "\n",
    "Negative controls vs. real genes"
   ]
  },
  {
   "cell_type": "code",
   "execution_count": null,
<<<<<<< HEAD
<<<<<<< HEAD
   "id": "4ca8d0e4",
||||||| merged common ancestors
   "id": "be0751e6",
=======
   "id": "b4805cc9",
>>>>>>> documentation-devel
||||||| f5a2d7c
   "id": "b4805cc9",
=======
   "id": "152b3c1e",
>>>>>>> documentation-devel
   "metadata": {},
   "outputs": [],
   "source": [
    "plotRowData(sfe, x = \"means\", y = \"is_neg\") +\n",
    "    scale_y_log10() +\n",
    "    annotation_logticks(sides = \"b\")"
   ]
  },
  {
   "cell_type": "markdown",
<<<<<<< HEAD
<<<<<<< HEAD
   "id": "d1006f70",
||||||| merged common ancestors
   "id": "fb453b8f",
=======
   "id": "d7fff65a",
>>>>>>> documentation-devel
||||||| f5a2d7c
   "id": "d7fff65a",
=======
   "id": "05264366",
>>>>>>> documentation-devel
   "metadata": {},
   "source": [
    "The negative controls have lower mean \"expression\" than the vast majority of real genes.\n",
    "\n",
    "# Spatial autocorrelation in QC metrics\n",
    "A spatial neighborhood graph is required for spatial dependence analyses with `spdep`. Without a benchmark, we don't yet know which type of neighborhood graph is the best for which purpose. \n",
    "\n",
    "Methods to find spatial neighborhood graphs in `spdep` other than `knearneigh()` (k nearest neighbors), `dnearneigh()` (find cells within a certain distance), and `poly2nb()` (polygon contiguity) are not recommended for larger datasets. While cell-cell contact may be biologically relevant, because cell segmentation is imperfect, leading to non-contiguous cell segmentation polygons for cells that appear contiguous in H&E, only using `poly2nb()` to find polygon contiguity neighbors without supplementing with another kind of neighborhood is problematic. Delaunay triangulation with the `deldir` package, which is used by `spdep` (`tri2nb()`), takes 4 to 5 minutes for a dataset of this size, but the run time increases much more drastically than linearly as the number of cells increases. Sphere of Interest (SOI) graph (`soi.graph()`) prunes edges from triangulation that are too long, and does not take long itself. So triangulation and SOI graph, while slower than `knearneigh()`, `dnearneigh()`, and `poly2nb()`, are somewhat practical considerations. The implementation of `gabrielneigh()` and `relativeneigh()` take impracticably long (over an hour and I terminated the R session out of impatience) for this dataset so are not recommended.\n",
    "\n",
    "Methods to find approximate nearest neighbors such as Annoy (`AnnoyParam()`) and HNSW (`HnswParam()`), as supported by the [`bluster`](https://bioconductor.org/packages/release/bioc/html/bluster.html) and [`BiocNeighbors`](https://bioconductor.org/packages/release/bioc/html/BiocNeighbors.html) packages might speed up finding these graphs, but we haven't formally benchmarked them. \n",
    "\n",
    "See [Chapter 14 of Spatial Data Science](https://r-spatial.org/book/14-Areal.html) on proximity in areal data for a more detailed discussion of the different neighborhood graphs in `spdep`. The methods for areal data are the first to be wrapped by Voyager because much of spatial transcriptomics data is analogous to areal geospatial data, where data from several cells are aggregated over areas, which happens in Visium spots. Just like in geospatial areal data, the Visium aggregation areas are arbitrary and do not represent the underlying spatial process. Although sometimes geographical areal units are not arbitrary, that tissues are generally not in hexagonal grids means that Visium spot polygons are arbitrary in this context. Regions of interest (ROI) selection spatial transcriptomics methods, such as laser capture microdissection (LCM) and GeoMX DSP are more obviously analogous to geospatial areal data. The aggregation also happens when we analyze smFISH-based data at the cell level, if the basic unit of observation is individual transcript spots. \n",
    "\n",
    "While `spdep` caters to areal data, `gstat` caters to geostatistical data, where a continuous spatial process is sampled at point locations. In some ways, spatial transcriptomics data is analogous to geostatistical data. Visium samples the supposed spatial biological process in a regular hexagonal grid, if we pretend that Visium spots are points. In smFISH-based single cell resolution data, the cells observed can be thought of as a sample of an underlying spatial biological process supervening on the specific locations of the cells. In a sense, the cells are not samples, since smFISH based technologies attempt to visualize all cells in the tissue section. However, as the biological function of the tissue does not depend on this particular spatial arrangement of individual cells (i.e. supervenes on this particular spatial arrangement), but more of cell types, the specific cell locations observed can be thought of as samples of the process, if we consider the cell the basic unit of the spatial process. \n",
    "\n",
    "In Voyager 1.2.0 (Bioconductor 3.17), we have added semivariograms (from the [`gstat`](https://cran.r-project.org/web/packages/gstat/index.html) package) as an exploratory tool to identify the presence of spatial autocorrelation, its length scale, and anisotropy (i.e. different in different directions). Covariates can be specified when computing the variogram to account for spatial trends and adjust for another spatial variable. However, unlike Morans's I, the semivariogram can't identify negative spatial autocorrelation, although since the spatial neighborhood graph typically does not encode spatial directions, `spdep` autocorrelation metrics can't identify anisotropy. Another problem with the semivariogram is that it assumes that the data is intrinsically stationary, i.e. the semivariogram holds in the entire dataset, or that similarity between two cells only depends on their distance from each other, which may not be the case when spatial autocorrelation varies in space as evident for some genes in local spatial analyses. \n",
    "\n",
    "Single cell smFISH based data is also dissimiliar to both areal and geostatistical data in important ways. In geospatial areal data, data from numerous basic units of the spatial process (e.g. people in epidemiology) are aggregated over areas (e.g. cities), whereas in histological space, the cell is arguably a more sensible basic unit of the biological spatial process than individual mRNA molecules. Unlike in geostatistical data, the cells as seen in the tissue section are often polygons tessellating the tissue section rather than points. Furthermore, while ideally the samples of the underlying spatial process should not affect the spatial process itself in geostatistical data, the cells play active roles in the biological spatial process. \n",
    "\n",
    "However, data analysis methods for areal and geostatistical data can still be relevant to EDA and descriptive models (not causal or mechanistic) of single cell smFISH data. Different types of spatial neighborhood graphs for cells may be relevant to different processes. For instance, contiguity of cell segmentation polygons is relevant when contact is involved in cell signaling, although cell segmentation is imperfect. Positive spatial autocorrelation here can arise from contact activation, and negative autocorrelation can arise from contact inhibition. However, cells may also be influenced by longer range factors such as secreted ligands, morphogens, and simpler spatial trends like distance to artery and vein. In this case, perhaps the semivariogram and using Euclidean distance between cells as spatial weights in spatial autocorrelation metrics would be more relevant for EDA. It would be interesting to compare the results from different spatial neighborhood graphs and spatial weights, and between `spdep` and `gstat`. Perhaps there is no one best method, but different methods reveal different phenomena. The problem of choosing a spatial neighborhood matrix has a long history far predating spatial transcriptomics. See [@Getis2009-iw] for a brief discussion of decades of work around this issue.\n",
    "\n",
    "Spatial autocorrelation metrics seek to measure how nearby things tend to be more similar or dissimilar, and the neighborhood graph and edge weights define what we mean by \"nearby\" in areal data. Note that because each Visium spot can contain from several to dozens of cells, the spatial neighborhood graphs of Visium spots describe neighborhood relationships of much longer length scales than spatial neighborhood graphs of single cells, so spatial autocorrelation metrics using the Visium graph have different meanings from cellular neighborhood graphs. \n",
    "\n",
    "For now, just to demonstrate software usage, we use the k nearest neighborhood graph with distance based edge weights, as commonly done in graph based clustering in scRNA-seq, although we don't yet know the best value for k in each scenario. For the purpose of this vignette, say use $k = 5$, and the execution time isn't outrageous. The argument `style = \"W\"` is to row normalize the adjacency matrix of the spatial neighborhood graph as this is necessary for Moran scatter plot. Inverse distance edge weights can take small values but what matter is the relative rather than the absolute values as the distance itself is in arbitrary unit; row normalizing the adjacency matrix makes the weighted average value from the neighbors comparable to the value at the cell itself. In this tissue, many cells appear contiguous, but since cell segmentation is imperfect, there are many false singletons, which makes polygon contiguity neighbors from `poly2nb()` problematic without some modification. But based on the distribution of the number of neighbors based on contiguity, $k = 5$ doesn't seem to be a bad approximate for contiguity."
   ]
  },
  {
   "cell_type": "code",
   "execution_count": null,
<<<<<<< HEAD
<<<<<<< HEAD
   "id": "324dbe45",
||||||| merged common ancestors
   "id": "bcf3b1d0",
=======
   "id": "9c968fc7",
>>>>>>> documentation-devel
||||||| f5a2d7c
   "id": "9c968fc7",
=======
   "id": "36252544",
>>>>>>> documentation-devel
   "metadata": {},
   "outputs": [],
   "source": [
    "system.time(\n",
    "    colGraph(sfe, \"knn5\") <- findSpatialNeighbors(sfe, method = \"knearneigh\",\n",
    "                                                  dist_type = \"idw\", k = 5, \n",
    "                                                  style = \"W\")\n",
    "    )"
   ]
  },
  {
   "cell_type": "markdown",
<<<<<<< HEAD
<<<<<<< HEAD
   "id": "6764d748",
||||||| merged common ancestors
   "id": "870eb6f9",
=======
   "id": "c6d45253",
>>>>>>> documentation-devel
||||||| f5a2d7c
   "id": "c6d45253",
=======
   "id": "fe9ea85e",
>>>>>>> documentation-devel
   "metadata": {
    "lines_to_next_cell": 0
   },
   "source": [
    "Now compute Moran's I for some cell QC metrics"
   ]
  },
  {
   "cell_type": "code",
   "execution_count": null,
<<<<<<< HEAD
<<<<<<< HEAD
   "id": "6f572eb5",
||||||| merged common ancestors
   "id": "b0df5c07",
=======
   "id": "2bfec40e",
>>>>>>> documentation-devel
||||||| f5a2d7c
   "id": "2bfec40e",
=======
   "id": "3e2208fc",
>>>>>>> documentation-devel
   "metadata": {},
   "outputs": [],
   "source": [
    "features_use <- c(\"nCounts\", \"nGenes\", \"Area\", \"AspectRatio\")\n",
    "sfe <- colDataMoransI(sfe, features_use, colGraphName = \"knn5\")"
   ]
  },
  {
   "cell_type": "code",
   "execution_count": null,
<<<<<<< HEAD
<<<<<<< HEAD
   "id": "7030da71",
||||||| merged common ancestors
   "id": "db57b5ae",
=======
   "id": "c374fbdd",
>>>>>>> documentation-devel
||||||| f5a2d7c
   "id": "c374fbdd",
=======
   "id": "08161495",
>>>>>>> documentation-devel
   "metadata": {},
   "outputs": [],
   "source": [
    "colFeatureData(sfe)[features_use,]"
   ]
  },
  {
   "cell_type": "markdown",
<<<<<<< HEAD
<<<<<<< HEAD
   "id": "b79140dd",
||||||| merged common ancestors
   "id": "d8cee7c5",
=======
   "id": "9b8bf0d6",
>>>>>>> documentation-devel
||||||| f5a2d7c
   "id": "9b8bf0d6",
=======
   "id": "a59295b5",
>>>>>>> documentation-devel
   "metadata": {},
   "source": [
    "Positive spatial autocorrelation is suggested, which is stronger in nCounts and nGenes.\n",
    "\n",
    "What are the length scales of spatial autocorrelation for these QC metrics? It would be nice if the lagged neighborhood graphs can be stored and reused for all features rather than recomputed for each feature as in `spdep::sp.correlogram()` called behind the scene here. This takes a few minutes to run, but not as long as a typical song. Another way to find the length scale of spatial autocorrelation is to bin the cells into bins of different sizes and then find spatial autocorrelation at each bin size, which probably is faster than finding lagged values at higher and higher neighborhoods since `geom_bin2d()` and `geom_hex()` in `ggplot2` run pretty fast even for large datasets. Or use a semivariogram; `gstat` also bins the data when estimating the semivariogram and calculating the semivariogram over very long distance is much faster than the correlogram with cell-cell neighborhood graphs. "
   ]
  },
  {
   "cell_type": "code",
   "execution_count": null,
<<<<<<< HEAD
<<<<<<< HEAD
   "id": "966f4b81",
||||||| merged common ancestors
   "id": "d4fe8349",
=======
   "id": "6fd32f9a",
>>>>>>> documentation-devel
||||||| f5a2d7c
   "id": "6fd32f9a",
=======
   "id": "8db8b5fc",
>>>>>>> documentation-devel
   "metadata": {},
   "outputs": [],
   "source": [
    "system.time(\n",
    "    sfe <- colDataUnivariate(sfe, \"sp.correlogram\", features = features_use,\n",
    "                         colGraphName = \"knn5\", order = 6, zero.policy = TRUE,\n",
    "                         BPPARAM = MulticoreParam(2))\n",
    ")"
   ]
  },
  {
   "cell_type": "markdown",
<<<<<<< HEAD
<<<<<<< HEAD
   "id": "047e571c",
||||||| merged common ancestors
   "id": "22f1c42c",
=======
   "id": "e97da58e",
>>>>>>> documentation-devel
||||||| f5a2d7c
   "id": "e97da58e",
=======
   "id": "f0ffea14",
>>>>>>> documentation-devel
   "metadata": {},
   "source": [
    "Note that `MulticoreParam()` doesn't work on Windows; this vignette was built on Linux. Use `SnowParam()` or `DoparParam()` for Windows. See `?BiocParallelParam` for the available parallel processing backends. We did not notice significant performance differences between `ShowParam()` and `MulticoreParam()` in this context."
   ]
  },
  {
   "cell_type": "code",
   "execution_count": null,
<<<<<<< HEAD
<<<<<<< HEAD
   "id": "19a91f58",
||||||| merged common ancestors
   "id": "911ce028",
=======
   "id": "f4084924",
>>>>>>> documentation-devel
||||||| f5a2d7c
   "id": "f4084924",
=======
   "id": "790e1546",
>>>>>>> documentation-devel
   "metadata": {},
   "outputs": [],
   "source": [
    "plotCorrelogram(sfe, features_use)"
   ]
  },
  {
   "cell_type": "markdown",
<<<<<<< HEAD
<<<<<<< HEAD
   "id": "b3f9a9ac",
||||||| merged common ancestors
   "id": "05e17d19",
=======
   "id": "eba660b6",
>>>>>>> documentation-devel
||||||| f5a2d7c
   "id": "eba660b6",
=======
   "id": "ea4db129",
>>>>>>> documentation-devel
   "metadata": {
    "lines_to_next_cell": 0
   },
   "source": [
    "They seem to have similar length scales, but aspect ratios tend to decay more quickly.\n",
    "\n",
    "Moran's scatter plot for nCounts. "
   ]
  },
  {
   "cell_type": "code",
   "execution_count": null,
<<<<<<< HEAD
<<<<<<< HEAD
   "id": "eb067cc2",
||||||| merged common ancestors
   "id": "7a862cae",
=======
   "id": "1ad35746",
>>>>>>> documentation-devel
||||||| f5a2d7c
   "id": "1ad35746",
=======
   "id": "42b8c299",
>>>>>>> documentation-devel
   "metadata": {},
   "outputs": [],
   "source": [
    "sfe <- colDataUnivariate(sfe, \"moran.plot\", \"nCounts\", colGraphName = \"knn5\")"
   ]
  },
  {
   "cell_type": "markdown",
<<<<<<< HEAD
<<<<<<< HEAD
   "id": "b8386445",
||||||| merged common ancestors
   "id": "b6e5a619",
=======
   "id": "15ad5ba1",
>>>>>>> documentation-devel
||||||| f5a2d7c
   "id": "15ad5ba1",
=======
   "id": "7cf0ba2e",
>>>>>>> documentation-devel
   "metadata": {
    "lines_to_next_cell": 0
   },
   "source": [
    "In the first panel, the density is for all points in this plot, and in the second, the points influential to fitting the line are highlighted in red, still a 2D histogram to avoid overplotting."
   ]
  },
  {
   "cell_type": "code",
   "execution_count": null,
<<<<<<< HEAD
<<<<<<< HEAD
   "id": "237a46ce",
||||||| merged common ancestors
   "id": "5be929a0",
=======
   "id": "4dcbde70",
>>>>>>> documentation-devel
||||||| f5a2d7c
   "id": "4dcbde70",
=======
   "id": "aa22a980",
>>>>>>> documentation-devel
   "metadata": {
    "fig.height": 7,
    "fig.width": 8
   },
   "outputs": [],
   "source": [
    "p1 <- moranPlot(sfe, \"nCounts\", binned = TRUE, plot_influential = FALSE)\n",
    "p2 <- moranPlot(sfe, \"nCounts\", binned = TRUE)\n",
    "p1 / p2 + plot_layout(guides = \"collect\")"
   ]
  },
  {
   "cell_type": "markdown",
<<<<<<< HEAD
<<<<<<< HEAD
   "id": "5e7024a8",
||||||| merged common ancestors
   "id": "78f82558",
=======
   "id": "81154ccb",
>>>>>>> documentation-devel
||||||| f5a2d7c
   "id": "81154ccb",
=======
   "id": "279e2698",
>>>>>>> documentation-devel
   "metadata": {
    "lines_to_next_cell": 0
   },
   "source": [
    "There are no obvious clusters in this plot.\n",
    "\n",
    "Local Moran's I for nCounts"
   ]
  },
  {
   "cell_type": "code",
   "execution_count": null,
<<<<<<< HEAD
<<<<<<< HEAD
   "id": "272e3a21",
||||||| merged common ancestors
   "id": "9b2b8066",
=======
   "id": "fe978a69",
>>>>>>> documentation-devel
||||||| f5a2d7c
   "id": "fe978a69",
=======
   "id": "318e4617",
>>>>>>> documentation-devel
   "metadata": {},
   "outputs": [],
   "source": [
    "sfe <- colDataUnivariate(sfe, \"localmoran\", \"nCounts\", colGraphName = \"knn5\")"
   ]
  },
  {
   "cell_type": "code",
   "execution_count": null,
<<<<<<< HEAD
<<<<<<< HEAD
   "id": "9ac08f7f",
||||||| merged common ancestors
   "id": "1aee5862",
=======
   "id": "0a13b9e9",
>>>>>>> documentation-devel
||||||| f5a2d7c
   "id": "0a13b9e9",
=======
   "id": "d89d70f7",
>>>>>>> documentation-devel
   "metadata": {},
   "outputs": [],
   "source": [
    "plotLocalResult(sfe, \"localmoran\", \"nCounts\", colGeometryName = \"cellSeg\",\n",
    "                divergent = TRUE, diverge_center = 0)"
   ]
  },
  {
   "cell_type": "markdown",
<<<<<<< HEAD
<<<<<<< HEAD
   "id": "7d697c52",
||||||| merged common ancestors
   "id": "75e0b87f",
=======
   "id": "26e965de",
>>>>>>> documentation-devel
||||||| f5a2d7c
   "id": "26e965de",
=======
   "id": "6af0171e",
>>>>>>> documentation-devel
   "metadata": {},
   "source": [
    "Cool, it appears that the epithelial regions tend to be more homogenous in nCounts.\n",
    "\n",
    "# Data normalization\n",
    "Given that there may be some relationship between cell size and total counts, and that total counts may be biological and thus not purely treated as technical, questions are raised about data normalization and how it should be different from the standard scRNA-seq practices. For instance, what are technical contributions to total counts for this kind of data? Furthermore, what to do with cell area, since part of it is technical, in where the z-plane of cell segmentation polygons intersects each cell, but for some cell types, it could be biological? Also, how would different methods of data normalization affect spatial autocorrelation? Should spatial autocorrelation be used in some ways when normalizing data? Besides correcting for technical effects and making gene expression in cells with different total counts more comparable, data normalization stabilizes variance and tries to make the data more normally distributed since many statistical methods assume normally distributed data. So while we don't know the best practice to normalize this kind of data, we will still normalize the data for downstream analyses."
   ]
  },
  {
   "cell_type": "code",
   "execution_count": null,
<<<<<<< HEAD
<<<<<<< HEAD
   "id": "8224db97",
||||||| merged common ancestors
   "id": "a79e9489",
=======
   "id": "94260aea",
>>>>>>> documentation-devel
||||||| f5a2d7c
   "id": "94260aea",
=======
   "id": "8b3b0ff8",
>>>>>>> documentation-devel
   "metadata": {},
   "outputs": [],
   "source": [
    "sfe <- logNormCounts(sfe)"
   ]
  },
  {
   "cell_type": "markdown",
<<<<<<< HEAD
<<<<<<< HEAD
   "id": "a9c8ba45",
||||||| merged common ancestors
   "id": "b10e1448",
=======
   "id": "3f08ad64",
>>>>>>> documentation-devel
||||||| f5a2d7c
   "id": "3f08ad64",
=======
   "id": "5262db9f",
>>>>>>> documentation-devel
   "metadata": {
    "lines_to_next_cell": 0
   },
   "source": [
    "# Moran's I\n",
    "\n",
    "Here we run global Moran's I on log normalized gene expression."
   ]
  },
  {
   "cell_type": "code",
   "execution_count": null,
<<<<<<< HEAD
<<<<<<< HEAD
   "id": "b629a987",
||||||| merged common ancestors
   "id": "7956f128",
=======
   "id": "57701bd2",
>>>>>>> documentation-devel
||||||| f5a2d7c
   "id": "57701bd2",
=======
   "id": "55f06f7b",
>>>>>>> documentation-devel
   "metadata": {},
   "outputs": [],
   "source": [
    "# Note: on your computer, you can put progressbar = TRUE inside MulticoreParam()\n",
    "# to show progress bar. This applies to any BiocParallParam.\n",
    "sfe <- runMoransI(sfe, features = rownames(sfe), \n",
    "                  BPPARAM = MulticoreParam(2))"
   ]
  },
  {
   "cell_type": "markdown",
<<<<<<< HEAD
<<<<<<< HEAD
   "id": "d1accecc",
||||||| merged common ancestors
   "id": "972a0f29",
=======
   "id": "f99090f3",
>>>>>>> documentation-devel
||||||| f5a2d7c
   "id": "f99090f3",
=======
   "id": "2c82e5e1",
>>>>>>> documentation-devel
   "metadata": {
    "lines_to_next_cell": 0
   },
   "source": [
    "Do real genes tend to have more spatial autocorrelation than negative controls?"
   ]
  },
  {
   "cell_type": "code",
   "execution_count": null,
<<<<<<< HEAD
<<<<<<< HEAD
   "id": "0c0106bb",
||||||| merged common ancestors
   "id": "c5ce73fa",
=======
   "id": "7c81f3f6",
>>>>>>> documentation-devel
||||||| f5a2d7c
   "id": "7c81f3f6",
=======
   "id": "b26d5155",
>>>>>>> documentation-devel
   "metadata": {},
   "outputs": [],
   "source": [
    "plotRowData(sfe, x = \"moran_sample01\", y = \"is_neg\") +\n",
    "    geom_hline(yintercept = 0, linetype = 2)"
   ]
  },
  {
   "cell_type": "markdown",
<<<<<<< HEAD
<<<<<<< HEAD
   "id": "a03ff314",
||||||| merged common ancestors
   "id": "e5607b62",
=======
   "id": "c1d8f9e5",
>>>>>>> documentation-devel
||||||| f5a2d7c
   "id": "c1d8f9e5",
=======
   "id": "a0dbfc47",
>>>>>>> documentation-devel
   "metadata": {
    "lines_to_next_cell": 0
   },
   "source": [
    "It seems that at least at the shorter length scale captured by the k nearest neighbor graph, most genes don't have strong spatial autocorrelation while some have strong positive spatial autocorrelation. In contrast, Moran's I for the negative controls is closely packed around 0, indicating lack of spatial autocorrelation, which is a good sign, that there is no evidence of a technical artifact that manifests as a spatial trend manifest in the negative controls.\n",
    "\n",
    "What are the genes with the highest Moran's I?"
   ]
  },
  {
   "cell_type": "code",
   "execution_count": null,
<<<<<<< HEAD
<<<<<<< HEAD
   "id": "5c894234",
||||||| merged common ancestors
   "id": "ec06782d",
=======
   "id": "7802905f",
>>>>>>> documentation-devel
||||||| f5a2d7c
   "id": "7802905f",
=======
   "id": "84366df8",
>>>>>>> documentation-devel
   "metadata": {
    "fig.height": 9,
    "fig.width": 9
   },
   "outputs": [],
   "source": [
    "top_moran <- rownames(sfe)[order(rowData(sfe)$moran_sample01, decreasing = TRUE)[1:6]]\n",
    "plotSpatialFeature(sfe, top_moran, colGeometryName = \"centroids\", \n",
    "                   scattermore = TRUE, ncol = 2)"
   ]
  },
  {
   "cell_type": "markdown",
<<<<<<< HEAD
<<<<<<< HEAD
   "id": "a58ce3d4",
||||||| merged common ancestors
   "id": "bd9ae56f",
=======
   "id": "13564f27",
>>>>>>> documentation-devel
||||||| f5a2d7c
   "id": "13564f27",
=======
   "id": "e6876170",
>>>>>>> documentation-devel
   "metadata": {
    "lines_to_next_cell": 0
   },
   "source": [
    "They all highlight the same epithelial regions. It could be that other regions are not as spatially organized, or that a short length scale is used for Moran's I here but the correlogram shows that Moran's I decays after the first order neighbors. I wonder how using a longer length scale would change the results.\n",
    "\n",
    "# Non-spatial dimension reduction and clustering"
   ]
  },
  {
   "cell_type": "code",
   "execution_count": null,
<<<<<<< HEAD
<<<<<<< HEAD
   "id": "f1ac89b6",
||||||| merged common ancestors
   "id": "8c92fdf2",
=======
   "id": "a0887e64",
>>>>>>> documentation-devel
||||||| f5a2d7c
   "id": "a0887e64",
=======
   "id": "f219ff69",
>>>>>>> documentation-devel
   "metadata": {},
   "outputs": [],
   "source": [
    "set.seed(29)\n",
    "sfe <- runPCA(sfe, ncomponents = 30, scale = TRUE, BSPARAM = IrlbaParam())"
   ]
  },
  {
   "cell_type": "code",
   "execution_count": null,
<<<<<<< HEAD
<<<<<<< HEAD
   "id": "98e25ddf",
||||||| merged common ancestors
   "id": "24cf4ca7",
=======
   "id": "99fdec50",
>>>>>>> documentation-devel
||||||| f5a2d7c
   "id": "99fdec50",
=======
   "id": "e680a389",
>>>>>>> documentation-devel
   "metadata": {},
   "outputs": [],
   "source": [
    "ElbowPlot(sfe, ndims = 30)"
   ]
  },
  {
   "cell_type": "code",
   "execution_count": null,
<<<<<<< HEAD
<<<<<<< HEAD
   "id": "56dff4d0",
||||||| merged common ancestors
   "id": "954fa8ab",
=======
   "id": "ab4f2858",
>>>>>>> documentation-devel
||||||| f5a2d7c
   "id": "ab4f2858",
=======
   "id": "c768f3d0",
>>>>>>> documentation-devel
   "metadata": {},
   "outputs": [],
   "source": [
    "plotDimLoadings(sfe, dims = 1:6)"
   ]
  },
  {
   "cell_type": "code",
   "execution_count": null,
<<<<<<< HEAD
<<<<<<< HEAD
   "id": "4686f8d2",
||||||| merged common ancestors
   "id": "5dbeeb7d",
=======
   "id": "8f9a2cef",
>>>>>>> documentation-devel
||||||| f5a2d7c
   "id": "8f9a2cef",
=======
   "id": "9b805af7",
>>>>>>> documentation-devel
   "metadata": {
    "fig.height": 9,
    "fig.width": 9
   },
   "outputs": [],
   "source": [
    "spatialReducedDim(sfe, \"PCA\", 6, colGeometryName = \"centroids\", divergent = TRUE,\n",
    "                  diverge_center = 0, ncol = 2, scattermore = TRUE)"
   ]
  },
  {
   "cell_type": "markdown",
<<<<<<< HEAD
<<<<<<< HEAD
   "id": "a64a1961",
||||||| merged common ancestors
   "id": "afb23dc0",
=======
   "id": "b0ca1ddc",
>>>>>>> documentation-devel
||||||| f5a2d7c
   "id": "b0ca1ddc",
=======
   "id": "32c9644d",
>>>>>>> documentation-devel
   "metadata": {
    "lines_to_next_cell": 0
   },
   "source": [
    "The first PC highlights the epithelium. PC2 highlights T cells. PC4 might highlight other leukocytes. Need to check the genes with the highest loadings to find what the other PCs mean.\n",
    "\n",
    "Non-spatial clustering and locating the clusters in space"
   ]
  },
  {
   "cell_type": "code",
   "execution_count": null,
<<<<<<< HEAD
<<<<<<< HEAD
   "id": "ce026399",
||||||| merged common ancestors
   "id": "64536ef6",
=======
   "id": "69cb8906",
>>>>>>> documentation-devel
||||||| f5a2d7c
   "id": "69cb8906",
=======
   "id": "274e1341",
>>>>>>> documentation-devel
   "metadata": {},
   "outputs": [],
   "source": [
    "colData(sfe)$cluster <- clusterRows(reducedDim(sfe, \"PCA\")[,1:15],\n",
    "                                    BLUSPARAM = SNNGraphParam(\n",
    "                                        cluster.fun = \"leiden\",\n",
    "                                        cluster.args = list(\n",
    "                                            resolution_parameter = 0.5,\n",
    "                                            objective_function = \"modularity\")))"
   ]
  },
  {
   "cell_type": "code",
   "execution_count": null,
<<<<<<< HEAD
<<<<<<< HEAD
   "id": "9f945c34",
||||||| merged common ancestors
   "id": "b04dd48f",
=======
   "id": "41973715",
>>>>>>> documentation-devel
||||||| f5a2d7c
   "id": "41973715",
=======
   "id": "78bac9e4",
>>>>>>> documentation-devel
   "metadata": {},
   "outputs": [],
   "source": [
    "data(\"ditto_colors\")"
   ]
  },
  {
   "cell_type": "code",
   "execution_count": null,
<<<<<<< HEAD
<<<<<<< HEAD
   "id": "9dae107e",
||||||| merged common ancestors
   "id": "4c5c4a4b",
=======
   "id": "a374fbf7",
>>>>>>> documentation-devel
||||||| f5a2d7c
   "id": "a374fbf7",
=======
   "id": "2ef95ba2",
>>>>>>> documentation-devel
   "metadata": {
    "fig.height": 8,
    "fig.width": 8
   },
   "outputs": [],
   "source": [
    "plotPCA(sfe, ncomponents = 4, colour_by = \"cluster\") +\n",
    "    scale_color_manual(values = ditto_colors)"
   ]
  },
  {
   "cell_type": "code",
   "execution_count": null,
<<<<<<< HEAD
<<<<<<< HEAD
   "id": "ded3c470",
||||||| merged common ancestors
   "id": "fafa4062",
=======
   "id": "499de4d7",
>>>>>>> documentation-devel
||||||| f5a2d7c
   "id": "499de4d7",
=======
   "id": "f55821dc",
>>>>>>> documentation-devel
   "metadata": {},
   "outputs": [],
   "source": [
    "plotSpatialFeature(sfe, \"cluster\", colGeometryName = \"cellSeg\")"
   ]
  },
  {
   "cell_type": "markdown",
<<<<<<< HEAD
<<<<<<< HEAD
   "id": "dba38534",
||||||| merged common ancestors
   "id": "b26f6b13",
=======
   "id": "c677eead",
>>>>>>> documentation-devel
||||||| f5a2d7c
   "id": "c677eead",
=======
   "id": "1b94a38a",
>>>>>>> documentation-devel
   "metadata": {
    "lines_to_next_cell": 0
   },
   "source": [
    "Further analyses that can be done at this stage:\n",
    "\n",
    "* Which and how many cell types are in the neighborhood of each cell? This is subject to the different definitions of the neighborhood.\n",
    "* Which cell types tend to co-localize where?\n",
    "* Find spatial regions based on cell type colocalization, which can be done with the R package [`spicyR`](https://bioconductor.org/packages/release/bioc/html/spicyR.html) [@Canete2022-tz]\n",
    "\n",
    "# Differential expression\n",
    "Cluster marker genes are found with Wilcoxon rank sum test as commonly done for scRNA-seq."
   ]
  },
  {
   "cell_type": "code",
   "execution_count": null,
<<<<<<< HEAD
<<<<<<< HEAD
   "id": "19c4d798",
||||||| merged common ancestors
   "id": "0439420a",
=======
   "id": "c8dddc3f",
>>>>>>> documentation-devel
||||||| f5a2d7c
   "id": "c8dddc3f",
=======
   "id": "f6690a8a",
>>>>>>> documentation-devel
   "metadata": {},
   "outputs": [],
   "source": [
    "markers <- findMarkers(sfe, groups = colData(sfe)$cluster,\n",
    "                       test.type = \"wilcox\", pval.type = \"all\", direction = \"up\")"
   ]
  },
  {
   "cell_type": "markdown",
<<<<<<< HEAD
<<<<<<< HEAD
   "id": "4ab6b68a",
||||||| merged common ancestors
   "id": "f14fcf60",
=======
   "id": "7a9005fc",
>>>>>>> documentation-devel
||||||| f5a2d7c
   "id": "7a9005fc",
=======
   "id": "6f1b39e7",
>>>>>>> documentation-devel
   "metadata": {
    "lines_to_next_cell": 0
   },
   "source": [
    "It's already sorted by p-values."
   ]
  },
  {
   "cell_type": "code",
   "execution_count": null,
<<<<<<< HEAD
<<<<<<< HEAD
   "id": "b2264126",
||||||| merged common ancestors
   "id": "2ceb523b",
=======
   "id": "f05350d9",
>>>>>>> documentation-devel
||||||| f5a2d7c
   "id": "f05350d9",
=======
   "id": "224cfd7d",
>>>>>>> documentation-devel
   "metadata": {},
   "outputs": [],
   "source": [
    "markers[[6]]"
   ]
  },
  {
   "cell_type": "markdown",
<<<<<<< HEAD
<<<<<<< HEAD
   "id": "a30f59d2",
||||||| merged common ancestors
   "id": "8823c5c5",
=======
   "id": "9eeb1fee",
>>>>>>> documentation-devel
||||||| f5a2d7c
   "id": "9eeb1fee",
=======
   "id": "18e79d00",
>>>>>>> documentation-devel
   "metadata": {
    "lines_to_next_cell": 0
   },
   "source": [
    "Get the the significant marker for each cluster to plot. Since there're too many points, here we used the development version of `scater` to not to plot the points, which are uninformative due to overplotting and make this plot really slow."
   ]
  },
  {
   "cell_type": "code",
   "execution_count": null,
<<<<<<< HEAD
<<<<<<< HEAD
   "id": "9cdf7480",
||||||| merged common ancestors
   "id": "2befa9a8",
=======
   "id": "9919174a",
>>>>>>> documentation-devel
||||||| f5a2d7c
   "id": "9919174a",
=======
   "id": "30b1f71d",
>>>>>>> documentation-devel
   "metadata": {},
   "outputs": [],
   "source": [
    "genes_use <- vapply(markers, function(x) rownames(x)[1], FUN.VALUE = character(1))\n",
    "plotExpression(sfe, genes_use, x = \"cluster\", point_fun = function(...) list())"
   ]
  },
  {
   "cell_type": "markdown",
<<<<<<< HEAD
<<<<<<< HEAD
   "id": "b9fcf59c",
||||||| merged common ancestors
   "id": "a5caa9b1",
=======
   "id": "ace072ed",
>>>>>>> documentation-devel
||||||| f5a2d7c
   "id": "ace072ed",
=======
   "id": "88b06f4d",
>>>>>>> documentation-devel
   "metadata": {
    "lines_to_next_cell": 0
   },
   "source": [
    "Plot more top marker genes in a heatmap"
   ]
  },
  {
   "cell_type": "code",
   "execution_count": null,
<<<<<<< HEAD
<<<<<<< HEAD
   "id": "359a364f",
||||||| merged common ancestors
   "id": "600d6ccc",
=======
   "id": "86936c54",
>>>>>>> documentation-devel
||||||| f5a2d7c
   "id": "86936c54",
=======
   "id": "4b449304",
>>>>>>> documentation-devel
   "metadata": {
    "fig.height": 7,
    "fig.width": 6
   },
   "outputs": [],
   "source": [
    "genes_use2 <- unique(unlist(lapply(markers, function(x) rownames(x)[1:5])))\n",
    "plotGroupedHeatmap(sfe, genes_use2, group = \"cluster\", colour = scales::viridis_pal()(100))"
   ]
  },
  {
   "cell_type": "markdown",
<<<<<<< HEAD
<<<<<<< HEAD
   "id": "a113acf1",
||||||| merged common ancestors
   "id": "ffad56db",
=======
   "id": "15b116a2",
>>>>>>> documentation-devel
||||||| f5a2d7c
   "id": "15b116a2",
=======
   "id": "a696c7a2",
>>>>>>> documentation-devel
   "metadata": {
    "lines_to_next_cell": 0
   },
   "source": [
    "# Local spatial statistics of marker genes\n",
    "Plot those genes in space"
   ]
  },
  {
   "cell_type": "code",
   "execution_count": null,
<<<<<<< HEAD
<<<<<<< HEAD
   "id": "7fa36223",
||||||| merged common ancestors
   "id": "dc006381",
=======
   "id": "676e1311",
>>>>>>> documentation-devel
||||||| f5a2d7c
   "id": "676e1311",
=======
   "id": "38166e73",
>>>>>>> documentation-devel
   "metadata": {
    "fig.height": 12,
    "fig.width": 8
   },
   "outputs": [],
   "source": [
    "plotSpatialFeature(sfe, genes_use, colGeometryName = \"centroids\", ncol = 2,\n",
    "                   scattermore = TRUE)"
   ]
  },
  {
   "cell_type": "markdown",
<<<<<<< HEAD
<<<<<<< HEAD
   "id": "9945c4fd",
||||||| merged common ancestors
   "id": "128cf2c3",
=======
   "id": "b97e5a2f",
>>>>>>> documentation-devel
||||||| f5a2d7c
   "id": "b97e5a2f",
=======
   "id": "39a1c244",
>>>>>>> documentation-devel
   "metadata": {},
   "source": [
    "Moran's I of these marker genes"
   ]
  },
  {
   "cell_type": "code",
   "execution_count": null,
<<<<<<< HEAD
<<<<<<< HEAD
   "id": "eae0f669",
||||||| merged common ancestors
   "id": "0cfee5ad",
=======
   "id": "e3bbaec2",
>>>>>>> documentation-devel
||||||| f5a2d7c
   "id": "e3bbaec2",
=======
   "id": "311e7907",
>>>>>>> documentation-devel
   "metadata": {},
   "outputs": [],
   "source": [
    "rowData(sfe)[genes_use, \"moran_sample01\", drop = FALSE]"
   ]
  },
  {
   "cell_type": "markdown",
<<<<<<< HEAD
<<<<<<< HEAD
   "id": "97e2f3e7",
||||||| merged common ancestors
   "id": "bd0b1113",
=======
   "id": "8d57216f",
>>>>>>> documentation-devel
||||||| f5a2d7c
   "id": "8d57216f",
=======
   "id": "a2e01ebd",
>>>>>>> documentation-devel
   "metadata": {
    "lines_to_next_cell": 0
   },
   "source": [
    "Local Moran's I of these marker genes"
   ]
  },
  {
   "cell_type": "code",
   "execution_count": null,
<<<<<<< HEAD
<<<<<<< HEAD
   "id": "96ee0c19",
||||||| merged common ancestors
   "id": "a8b69ce2",
=======
   "id": "da34ddc7",
>>>>>>> documentation-devel
||||||| f5a2d7c
   "id": "da34ddc7",
=======
   "id": "2cd0fce0",
>>>>>>> documentation-devel
   "metadata": {},
   "outputs": [],
   "source": [
    "sfe <- runUnivariate(sfe, \"localmoran\", features = genes_use, colGraphName = \"knn5\",\n",
    "                     BPPARAM = MulticoreParam(2))"
   ]
  },
  {
   "cell_type": "code",
   "execution_count": null,
<<<<<<< HEAD
<<<<<<< HEAD
   "id": "bf1ab415",
||||||| merged common ancestors
   "id": "a9fb02c1",
=======
   "id": "73ef8020",
>>>>>>> documentation-devel
||||||| f5a2d7c
   "id": "73ef8020",
=======
   "id": "82f067cc",
>>>>>>> documentation-devel
   "metadata": {
    "fig.height": 12,
    "fig.width": 8
   },
   "outputs": [],
   "source": [
    "plotLocalResult(sfe, \"localmoran\", features = genes_use, \n",
    "                colGeometryName = \"centroids\", ncol = 2, divergent = TRUE,\n",
    "                diverge_center = 0, scattermore = TRUE)"
   ]
  },
  {
   "cell_type": "markdown",
<<<<<<< HEAD
<<<<<<< HEAD
   "id": "a74ea4ad",
||||||| merged common ancestors
   "id": "418be318",
=======
   "id": "88bcd2e3",
>>>>>>> documentation-devel
||||||| f5a2d7c
   "id": "88bcd2e3",
=======
   "id": "5bc51fe6",
>>>>>>> documentation-devel
   "metadata": {
    "lines_to_next_cell": 0
   },
   "source": [
    "It seems that some histological regions tend to be more spatially homogenous in gene expression than others. The epithelial region tends to be more homogenous.\n",
    "\n",
    "Run local spatial heteroscdasticity (LOSH) for these marker genes to find local heterogeneity"
   ]
  },
  {
   "cell_type": "code",
   "execution_count": null,
<<<<<<< HEAD
<<<<<<< HEAD
   "id": "e911841c",
||||||| merged common ancestors
   "id": "af164237",
=======
   "id": "ceab055e",
>>>>>>> documentation-devel
||||||| f5a2d7c
   "id": "ceab055e",
=======
   "id": "65971ad4",
>>>>>>> documentation-devel
   "metadata": {},
   "outputs": [],
   "source": [
    "sfe <- runUnivariate(sfe, \"LOSH\", features = genes_use, colGraphName = \"knn5\",\n",
    "                     BPPARAM = MulticoreParam(2))"
   ]
  },
  {
   "cell_type": "code",
   "execution_count": null,
<<<<<<< HEAD
<<<<<<< HEAD
   "id": "2055b010",
||||||| merged common ancestors
   "id": "9c9bdfcc",
=======
   "id": "f5448837",
>>>>>>> documentation-devel
||||||| f5a2d7c
   "id": "f5448837",
=======
   "id": "04120b27",
>>>>>>> documentation-devel
   "metadata": {
    "fig.height": 12,
    "fig.width": 8
   },
   "outputs": [],
   "source": [
    "plotLocalResult(sfe, \"LOSH\", features = genes_use, \n",
    "                colGeometryName = \"centroids\", ncol = 2, scattermore = TRUE)"
   ]
  },
  {
   "cell_type": "markdown",
<<<<<<< HEAD
<<<<<<< HEAD
   "id": "7ca9f65a",
||||||| merged common ancestors
   "id": "38079e68",
=======
   "id": "32e6dd38",
>>>>>>> documentation-devel
||||||| f5a2d7c
   "id": "32e6dd38",
=======
   "id": "a2832433",
>>>>>>> documentation-devel
   "metadata": {
    "lines_to_next_cell": 0
   },
   "source": [
    "Some genes are more heterogeneous where they are also more highly expressed, such as COLA1 and IGKC. However this is not the case for all genes. For example, MZT2A is quite ubiqiutously experssed, but is more heterogeneous in some regions than others, and KRT19 does not seem to be much more heterogeneous where it's more highly expressed. For MZT2A, LOSH picked up the artifact of the edges of the FOVs, although this is not apparent for other genes plotted here. Here we don't have information on which cell belongs to which FOV, but FOV edge effects should be considered in data normalization. It would be interesting to more systematically see how LOSH relates to gene expression across more genes, and how this differs in cell types and gene functions.\n",
    "\n",
    "# Session Info"
   ]
  },
  {
   "cell_type": "code",
   "execution_count": null,
<<<<<<< HEAD
<<<<<<< HEAD
   "id": "6f4b9f62",
||||||| merged common ancestors
   "id": "6def30a3",
=======
   "id": "a3e5e285",
>>>>>>> documentation-devel
||||||| f5a2d7c
   "id": "a3e5e285",
=======
   "id": "3002bfbb",
>>>>>>> documentation-devel
   "metadata": {},
   "outputs": [],
   "source": [
    "sessionInfo()"
   ]
  },
  {
   "cell_type": "markdown",
<<<<<<< HEAD
<<<<<<< HEAD
   "id": "4e09be3e",
||||||| merged common ancestors
   "id": "6475a6cb",
=======
   "id": "d617662c",
>>>>>>> documentation-devel
||||||| f5a2d7c
   "id": "d617662c",
=======
   "id": "88ea9cae",
>>>>>>> documentation-devel
   "metadata": {},
   "source": [
    "# References"
   ]
  }
 ],
 "metadata": {
  "kernelspec": {
   "display_name": "R",
   "language": "R",
   "name": "ir"
  }
 },
 "nbformat": 4,
 "nbformat_minor": 5
}
