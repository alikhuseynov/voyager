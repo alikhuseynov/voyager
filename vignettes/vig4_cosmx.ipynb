{
 "cells": [
  {
   "cell_type": "raw",
<<<<<<< HEAD
<<<<<<< HEAD
   "id": "3d27dbd3",
||||||| ff06ad40
   "id": "29aaa34f",
=======
   "id": "7b3bfb72",
>>>>>>> documentation-devel
||||||| 1158767b
   "id": "3d27dbd3",
=======
   "id": "1c2b2b14",
>>>>>>> 6e0f6d6ef35309dec3607d4371c747197b435328
   "metadata": {},
   "source": [
    "---\n",
    "title: \"CosMX non-small cell lung cancer data\"\n",
    "author: \"Lambda Moses\"\n",
    "date: \"`r Sys.Date()`\"\n",
    "output: \n",
    "  html_document:\n",
    "  toc: true\n",
    "  toc_float:\n",
    "    collapsed: false\n",
    "  toc_depth: 3\n",
    "bibliography: ref.bib\n",
    "vignette: >\n",
    "  %\\VignetteIndexEntry{cosmx}\n",
    "  %\\VignetteEngine{knitr::rmarkdown}\n",
    "  %\\VignetteEncoding{UTF-8}\n",
    "---"
   ]
  },
  {
   "cell_type": "code",
   "execution_count": null,
<<<<<<< HEAD
<<<<<<< HEAD
   "id": "f9fc166e",
||||||| ff06ad40
   "id": "fdc50f3d",
=======
   "id": "bb3a2c49",
>>>>>>> documentation-devel
||||||| 1158767b
   "id": "f9fc166e",
=======
   "id": "62ff95f2",
>>>>>>> 6e0f6d6ef35309dec3607d4371c747197b435328
   "metadata": {
    "tags": [
     "remove_cell"
    ]
   },
   "outputs": [],
   "source": [
    "knitr::opts_chunk$set(\n",
    "  collapse = TRUE,\n",
    "  comment = \"#>\", fig.align = \"center\"\n",
    ")"
   ]
  },
  {
   "cell_type": "code",
   "execution_count": null,
<<<<<<< HEAD
<<<<<<< HEAD
   "id": "ab316e1f",
||||||| ff06ad40
   "id": "5a4ca4ea",
=======
   "id": "a4b74ad3",
>>>>>>> documentation-devel
||||||| 1158767b
   "id": "ab316e1f",
=======
   "id": "19497a24",
>>>>>>> 6e0f6d6ef35309dec3607d4371c747197b435328
   "metadata": {
    "eval": false,
    "tags": [
     "remove_cell"
    ]
   },
   "outputs": [],
   "source": [
    "# Install Google Colab dependencies\n",
    "# Note: this can take 30+ minutes (many of the dependencies include C++ code, which needs to be compiled)\n",
    "\n",
    "# First install `sf`, `ragg` and `textshaping` and their system dependencies:\n",
    "system(\"apt-get -y update && apt-get install -y  libudunits2-dev libgdal-dev libgeos-dev libproj-dev libharfbuzz-dev libfribidi-dev\")\n",
    "install.packages(\"sf\")\n",
    "install.packages(\"textshaping\")\n",
    "install.packages(\"ragg\")\n",
    "\n",
    "# Install system dependencies of some other R packages that Voyager either imports or suggests:\n",
    "system(\"apt-get install -y libfribidi-dev libcairo2-dev libmagick++-dev\")\n",
    "\n",
    "# Install Voyager from Bioconductor:\n",
    "install.packages(\"BiocManager\")\n",
    "BiocManager::install(version = \"3.17\", ask = FALSE, update = FALSE, Ncpus = 2)\n",
    "BiocManager::install(\"scater\")\n",
    "system.time(\n",
    "  BiocManager::install(\"Voyager\", dependencies = TRUE, Ncpus = 2, update = FALSE)\n",
    ")\n",
    "\n",
    "packageVersion(\"Voyager\")"
   ]
  },
  {
   "cell_type": "markdown",
<<<<<<< HEAD
<<<<<<< HEAD
   "id": "25106b90",
||||||| ff06ad40
   "id": "32b16882",
=======
   "id": "516ac875",
>>>>>>> documentation-devel
||||||| 1158767b
   "id": "25106b90",
=======
   "id": "c4b2d42c",
>>>>>>> 6e0f6d6ef35309dec3607d4371c747197b435328
   "metadata": {},
   "source": [
    "# Introduction\n",
    "\n",
    "Nanostring GeoMX DSP is a popular spatial transcriptomics technology for formalin fixed paraffin embedded (FFPE) tissues, but it doesn't have single cell resolution. The CosMX FISH based technology for FFPE tissue [@He2021-oy] does have single cell resolution, and this vignette provides an example of how to analyze CosMX data with voyager. Note that FFPE is a common way to preserve and archive tissue, and in some cases, the only samples available may be FFPE. \n",
    "\n",
    "The CosMX dataset for non-small cell lung cancer that we used is described in [@He2021-oy]. The processed data is available for download from the [Nanostring website](https://nanostring.com/products/cosmx-spatial-molecular-imager/ffpe-dataset/). The gene count matrix, cell metadata, and cell segmentation polygon coordinates were downloaded from the Nanostring website as CSV files and read into R as data frames. The gene count matrix was then converted to a sparse matrix. The cell metadata contains centroid coordinates of the cells. The cell polygon data frames were converted into an `sf` data frame with the `df2sf()` function in `SpatialFeatureExperiment` (SFE). These were then used to construct an SFE object. Cell segmentation is only available in one z-plane."
   ]
  },
  {
   "cell_type": "code",
   "execution_count": null,
<<<<<<< HEAD
<<<<<<< HEAD
   "id": "ba2f96e1",
||||||| ff06ad40
   "id": "357b7774",
=======
   "id": "8adba4eb",
>>>>>>> documentation-devel
||||||| 1158767b
   "id": "ba2f96e1",
=======
   "id": "4bf09721",
>>>>>>> 6e0f6d6ef35309dec3607d4371c747197b435328
   "metadata": {
    "name": "setup"
   },
   "outputs": [],
   "source": [
    "library(Voyager)\n",
    "library(SFEData)\n",
    "library(SingleCellExperiment)\n",
    "library(SpatialExperiment)\n",
    "library(scater) # devel version of plotExpression\n",
    "library(scran)\n",
    "library(bluster)\n",
    "library(ggplot2)\n",
    "library(patchwork)\n",
    "library(stringr)\n",
    "library(spdep)\n",
    "library(BiocParallel)\n",
    "library(BiocSingular)\n",
    "theme_set(theme_bw())"
   ]
  },
  {
   "cell_type": "code",
   "execution_count": null,
<<<<<<< HEAD
<<<<<<< HEAD
   "id": "a75f9d9f",
||||||| ff06ad40
   "id": "5fecb36a",
=======
   "id": "ff294f70",
>>>>>>> documentation-devel
||||||| 1158767b
   "id": "a75f9d9f",
=======
   "id": "96fc7053",
>>>>>>> 6e0f6d6ef35309dec3607d4371c747197b435328
   "metadata": {},
   "outputs": [],
   "source": [
    "(sfe <- HeNSCLCData())"
   ]
  },
  {
   "cell_type": "markdown",
<<<<<<< HEAD
<<<<<<< HEAD
   "id": "b3371ca3",
||||||| ff06ad40
   "id": "f166fda1",
=======
   "id": "1fe02c8b",
>>>>>>> documentation-devel
||||||| 1158767b
   "id": "b3371ca3",
=======
   "id": "09868d9c",
>>>>>>> 6e0f6d6ef35309dec3607d4371c747197b435328
   "metadata": {
    "lines_to_next_cell": 0
   },
   "source": [
    "Only the first biological replicate is included in the `SFEData` package. This biological replicate has 980 features and 100,290 cells. Take a look at the cells in space:"
   ]
  },
  {
   "cell_type": "code",
   "execution_count": null,
<<<<<<< HEAD
<<<<<<< HEAD
   "id": "4003999d",
||||||| ff06ad40
   "id": "37f171a5",
=======
   "id": "e7b15396",
>>>>>>> documentation-devel
||||||| 1158767b
   "id": "4003999d",
=======
   "id": "d9aa40f9",
>>>>>>> 6e0f6d6ef35309dec3607d4371c747197b435328
   "metadata": {},
   "outputs": [],
   "source": [
    "plotGeometry(sfe, MARGIN = 2L, type = \"cellSeg\")"
   ]
  },
  {
   "cell_type": "markdown",
<<<<<<< HEAD
<<<<<<< HEAD
   "id": "dd62dad5",
||||||| ff06ad40
   "id": "774d11fd",
=======
   "id": "b96c942a",
>>>>>>> documentation-devel
||||||| 1158767b
   "id": "dd62dad5",
=======
   "id": "ca4e2677",
>>>>>>> 6e0f6d6ef35309dec3607d4371c747197b435328
   "metadata": {
    "lines_to_next_cell": 0
   },
   "source": [
    "With single cell resolution, a lot of the details can be seen, although there's some artifact from borders of fields of view (FOVs).\n",
    "\n",
    "Plot cell density"
   ]
  },
  {
   "cell_type": "code",
   "execution_count": null,
<<<<<<< HEAD
<<<<<<< HEAD
   "id": "705fa0b2",
||||||| ff06ad40
   "id": "513202ed",
=======
   "id": "2689cc07",
>>>>>>> documentation-devel
||||||| 1158767b
   "id": "705fa0b2",
=======
   "id": "28e4eb88",
>>>>>>> 6e0f6d6ef35309dec3607d4371c747197b435328
   "metadata": {},
   "outputs": [],
   "source": [
    "plotCellBin2D(sfe, hex = TRUE)"
   ]
  },
  {
   "cell_type": "markdown",
<<<<<<< HEAD
<<<<<<< HEAD
   "id": "8ba83709",
||||||| ff06ad40
   "id": "78e8893c",
=======
   "id": "468a57b1",
>>>>>>> documentation-devel
||||||| 1158767b
   "id": "8ba83709",
=======
   "id": "d59e16c5",
>>>>>>> 6e0f6d6ef35309dec3607d4371c747197b435328
   "metadata": {},
   "source": [
    "# Quality control (QC)\n",
    "## Cells\n",
    "\n",
    "Single cell RNA-seq (scRNA-seq) technologies typically don't quantify cell morphology, and gene expression in Visium doesn't have single cell resolution. Here for single cell resolution smFISH based data, each cell not only has gene expression and related QC metrics such as total number of transcripts detected and number of genes detected, but also cell morphology such as area (in the z-plane where the segmentation polygons are provided) and aspect ratio. Area is relevant to QC since it can flag falsely undersegmented cells, i.e. several cells falsely considered as one by the cell segmentation program. However, since a pre-defined gene panel is used and mitochondrially encoded genes are not quantified, the scRNA-seq QC metric of proportion of mitochondrially encoded counts is not applicable. \n",
    "\n",
    "Some QC metrics are precomputed and are stored in `colData`"
   ]
  },
  {
   "cell_type": "code",
   "execution_count": null,
<<<<<<< HEAD
<<<<<<< HEAD
   "id": "5cfbf385",
||||||| ff06ad40
   "id": "b112e36f",
=======
   "id": "7548c4d1",
>>>>>>> documentation-devel
||||||| 1158767b
   "id": "5cfbf385",
=======
   "id": "898bd723",
>>>>>>> 6e0f6d6ef35309dec3607d4371c747197b435328
   "metadata": {
    "lines_to_next_cell": 0
   },
   "outputs": [],
   "source": [
    "names(colData(sfe))"
   ]
  },
  {
   "cell_type": "markdown",
<<<<<<< HEAD
<<<<<<< HEAD
   "id": "69e5aaa5",
||||||| ff06ad40
   "id": "e5329dca",
=======
   "id": "8660595f",
>>>>>>> documentation-devel
||||||| 1158767b
   "id": "69e5aaa5",
=======
   "id": "da96ff92",
>>>>>>> 6e0f6d6ef35309dec3607d4371c747197b435328
   "metadata": {
    "lines_to_next_cell": 0
   },
   "source": [
    "Cell area, aspect ratio, marker and stain intensities, i.e. all columns before \"sample_id\" come from Nanostring's website. The `sf` package can compute areas of the cell polygons. In R, the `EBImage` package can compute more morphological metrics such as aspect ratio, eccentricity, orientation, and etc., but it requires the data to be converted to raster. OpenCV can compute more morphological metrics for polygons without converting to raster, but it needs to be called from Python or C++. Since the math behind many basic morphological metrics is pretty simple, we may add those to `Voyager` in a future version.\n",
    "\n",
    "Since plotting 100,000 polygons is slow and the plot isn't large enough for us to see the polygons anyway, we use [`scattermore`](https://github.com/exaexa/scattermore) to rasterize the plot to speed up plotting. Instead of plotting every single point, now `ggplot` merely displays a rasterized image."
   ]
  },
  {
   "cell_type": "code",
   "execution_count": null,
<<<<<<< HEAD
<<<<<<< HEAD
   "id": "40d7b5a4",
||||||| ff06ad40
   "id": "64c2dca1",
=======
   "id": "819cdf89",
>>>>>>> documentation-devel
||||||| 1158767b
   "id": "40d7b5a4",
=======
   "id": "27c73f4d",
>>>>>>> 6e0f6d6ef35309dec3607d4371c747197b435328
   "metadata": {},
   "outputs": [],
   "source": [
    "# Function to plot violin plot for distribution and spatial at once\n",
    "plot_violin_spatial <- function(sfe, feature) {\n",
    "    violin <- plotColData(sfe, feature, point_fun = function(...) list())\n",
    "    spatial <- plotSpatialFeature(sfe, feature, colGeometryName = \"centroids\",\n",
    "                                  scattermore = TRUE)\n",
    "    violin + spatial +\n",
    "        plot_layout(widths = c(1, 2))\n",
    "}"
   ]
  },
  {
   "cell_type": "markdown",
<<<<<<< HEAD
<<<<<<< HEAD
   "id": "d2c18ac9",
||||||| ff06ad40
   "id": "6ebc2f64",
=======
   "id": "bcbd504e",
>>>>>>> documentation-devel
||||||| 1158767b
   "id": "d2c18ac9",
=======
   "id": "5740441d",
>>>>>>> 6e0f6d6ef35309dec3607d4371c747197b435328
   "metadata": {
    "lines_to_next_cell": 0
   },
   "source": [
    "Number of transcript spots detected per cell"
   ]
  },
  {
   "cell_type": "code",
   "execution_count": null,
<<<<<<< HEAD
<<<<<<< HEAD
   "id": "678af934",
||||||| ff06ad40
   "id": "bf7ed864",
=======
   "id": "49d73ff7",
>>>>>>> documentation-devel
||||||| 1158767b
   "id": "678af934",
=======
   "id": "d2e40a5a",
>>>>>>> 6e0f6d6ef35309dec3607d4371c747197b435328
   "metadata": {
    "fig.height": 4,
    "fig.width": 8
   },
   "outputs": [],
   "source": [
    "plot_violin_spatial(sfe, \"nCounts\")"
   ]
  },
  {
   "cell_type": "code",
   "execution_count": null,
<<<<<<< HEAD
<<<<<<< HEAD
   "id": "038e9100",
||||||| ff06ad40
   "id": "d8a2c127",
=======
   "id": "7491dc47",
>>>>>>> documentation-devel
||||||| 1158767b
   "id": "038e9100",
=======
   "id": "ef3d7135",
>>>>>>> 6e0f6d6ef35309dec3607d4371c747197b435328
   "metadata": {},
   "outputs": [],
   "source": [
    "summary(sfe$nCounts)"
   ]
  },
  {
   "cell_type": "markdown",
<<<<<<< HEAD
<<<<<<< HEAD
   "id": "bb7e1e81",
||||||| ff06ad40
   "id": "fd0db39e",
=======
   "id": "acf106e8",
>>>>>>> documentation-devel
||||||| 1158767b
   "id": "bb7e1e81",
=======
   "id": "361e871e",
>>>>>>> 6e0f6d6ef35309dec3607d4371c747197b435328
   "metadata": {},
   "source": [
    "To make nCounts and nGenes more comparable across datasets, we divide them by the number of genes probed. In this dataset, there are 960 genes, and 20 negative controls. However, because different genes may be probed in different datasets, which can be from different tissues, this does not make nCounts and nGenes completely comparable across datasets. However, it may still be somewhat comparable, since genes highly expressed in major cell types in the tissue tend to be selected for the gene panel."
   ]
  },
  {
   "cell_type": "code",
   "execution_count": null,
<<<<<<< HEAD
<<<<<<< HEAD
   "id": "42c63295",
||||||| ff06ad40
   "id": "b8d74c29",
=======
   "id": "63661b5b",
>>>>>>> documentation-devel
||||||| 1158767b
   "id": "42c63295",
=======
   "id": "ffb10184",
>>>>>>> 6e0f6d6ef35309dec3607d4371c747197b435328
   "metadata": {},
   "outputs": [],
   "source": [
    "n_panel <- 960\n",
    "colData(sfe)$nCounts_normed <- sfe$nCounts/n_panel\n",
    "colData(sfe)$nGenes_normed <- sfe$nGenes/n_panel"
   ]
  },
  {
   "cell_type": "code",
   "execution_count": null,
<<<<<<< HEAD
<<<<<<< HEAD
   "id": "741a0070",
||||||| ff06ad40
   "id": "b45a51ce",
=======
   "id": "7fe69d85",
>>>>>>> documentation-devel
||||||| 1158767b
   "id": "741a0070",
=======
   "id": "cb3346aa",
>>>>>>> 6e0f6d6ef35309dec3607d4371c747197b435328
   "metadata": {},
   "outputs": [],
   "source": [
    "plotColDataHistogram(sfe, c(\"nCounts_normed\", \"nGenes_normed\"))"
   ]
  },
  {
   "cell_type": "markdown",
<<<<<<< HEAD
<<<<<<< HEAD
   "id": "378dd380",
||||||| ff06ad40
   "id": "0a626fae",
=======
   "id": "5b36a69b",
>>>>>>> documentation-devel
||||||| 1158767b
   "id": "378dd380",
=======
   "id": "03933adb",
>>>>>>> 6e0f6d6ef35309dec3607d4371c747197b435328
   "metadata": {
    "lines_to_next_cell": 0
   },
   "source": [
    "This means the cells mostly have less than 1 transcript count per gene on average, which is not surprising since not all cells express all genes. Most cells are detected to express less than 30% of all genes probed.\n",
    "\n",
    "Number of genes (out of 980) detected per cell"
   ]
  },
  {
   "cell_type": "code",
   "execution_count": null,
<<<<<<< HEAD
<<<<<<< HEAD
   "id": "96841724",
||||||| ff06ad40
   "id": "b05a817f",
=======
   "id": "bdfa2a0b",
>>>>>>> documentation-devel
||||||| 1158767b
   "id": "96841724",
=======
   "id": "0e46d1c2",
>>>>>>> 6e0f6d6ef35309dec3607d4371c747197b435328
   "metadata": {
    "fig.height": 4,
    "fig.width": 8
   },
   "outputs": [],
   "source": [
    "plot_violin_spatial(sfe, \"nGenes\")"
   ]
  },
  {
   "cell_type": "code",
   "execution_count": null,
<<<<<<< HEAD
<<<<<<< HEAD
   "id": "5c26f862",
||||||| ff06ad40
   "id": "b853014a",
=======
   "id": "bfd82afa",
>>>>>>> documentation-devel
||||||| 1158767b
   "id": "5c26f862",
=======
   "id": "e8417d4a",
>>>>>>> 6e0f6d6ef35309dec3607d4371c747197b435328
   "metadata": {},
   "outputs": [],
   "source": [
    "summary(sfe$nGenes)"
   ]
  },
  {
   "cell_type": "markdown",
<<<<<<< HEAD
<<<<<<< HEAD
   "id": "561564c3",
||||||| ff06ad40
   "id": "2879d8f8",
=======
   "id": "4babe5f4",
>>>>>>> documentation-devel
||||||| 1158767b
   "id": "561564c3",
=======
   "id": "b22b8704",
>>>>>>> 6e0f6d6ef35309dec3607d4371c747197b435328
   "metadata": {
    "lines_to_next_cell": 0
   },
   "source": [
    "Based on the spatial plot, it seems that nCounts and nGenes are biologically relevant, but there are cells with no transcripts detected. \n",
    "\n",
    "How nCounts relates to nGenes"
   ]
  },
  {
   "cell_type": "code",
   "execution_count": null,
<<<<<<< HEAD
<<<<<<< HEAD
   "id": "7c825a54",
||||||| ff06ad40
   "id": "88e88788",
=======
   "id": "9ab950bc",
>>>>>>> documentation-devel
||||||| 1158767b
   "id": "7c825a54",
=======
   "id": "d1e09c1e",
>>>>>>> 6e0f6d6ef35309dec3607d4371c747197b435328
   "metadata": {},
   "outputs": [],
   "source": [
    "plotColDataBin2D(sfe, \"nCounts\", \"nGenes\")"
   ]
  },
  {
   "cell_type": "markdown",
<<<<<<< HEAD
<<<<<<< HEAD
   "id": "a0be78f0",
||||||| ff06ad40
   "id": "ea74658f",
=======
   "id": "a726a6f9",
>>>>>>> documentation-devel
||||||| 1158767b
   "id": "a0be78f0",
=======
   "id": "a9375e6a",
>>>>>>> 6e0f6d6ef35309dec3607d4371c747197b435328
   "metadata": {
    "lines_to_next_cell": 0
   },
   "source": [
    "What's the nature of the cells without transcripts?"
   ]
  },
  {
   "cell_type": "code",
   "execution_count": null,
<<<<<<< HEAD
<<<<<<< HEAD
   "id": "edac83e3",
||||||| ff06ad40
   "id": "00d6a0fa",
=======
   "id": "85a67e6b",
>>>>>>> documentation-devel
||||||| 1158767b
   "id": "edac83e3",
=======
   "id": "93f828b1",
>>>>>>> 6e0f6d6ef35309dec3607d4371c747197b435328
   "metadata": {},
   "outputs": [],
   "source": [
    "colData(sfe)$is_empty <- colData(sfe)$nCounts < 1"
   ]
  },
  {
   "cell_type": "code",
   "execution_count": null,
<<<<<<< HEAD
<<<<<<< HEAD
   "id": "72abc267",
||||||| ff06ad40
   "id": "06c32c43",
=======
   "id": "caefd9fa",
>>>>>>> documentation-devel
||||||| 1158767b
   "id": "72abc267",
=======
   "id": "506b6bde",
>>>>>>> 6e0f6d6ef35309dec3607d4371c747197b435328
   "metadata": {},
   "outputs": [],
   "source": [
    "plotSpatialFeature(sfe, \"is_empty\", \"cellSeg\")"
   ]
  },
  {
   "cell_type": "markdown",
<<<<<<< HEAD
<<<<<<< HEAD
   "id": "b5a28b06",
||||||| ff06ad40
   "id": "5b2df83d",
=======
   "id": "6fd68fb4",
>>>>>>> documentation-devel
||||||| 1158767b
   "id": "b5a28b06",
=======
   "id": "0d1fc4b9",
>>>>>>> 6e0f6d6ef35309dec3607d4371c747197b435328
   "metadata": {
    "lines_to_next_cell": 0
   },
   "source": [
    "The cells without transcripts are in the central cavity."
   ]
  },
  {
   "cell_type": "code",
   "execution_count": null,
<<<<<<< HEAD
<<<<<<< HEAD
   "id": "6abade17",
||||||| ff06ad40
   "id": "a6518208",
=======
   "id": "78aee9e5",
>>>>>>> documentation-devel
||||||| 1158767b
   "id": "6abade17",
=======
   "id": "57c6fff8",
>>>>>>> 6e0f6d6ef35309dec3607d4371c747197b435328
   "metadata": {},
   "outputs": [],
   "source": [
    "plotColData(sfe, x = \"Area\", y = \"is_empty\")"
   ]
  },
  {
   "cell_type": "markdown",
<<<<<<< HEAD
<<<<<<< HEAD
   "id": "89547dbd",
||||||| ff06ad40
   "id": "8c17b1d7",
=======
   "id": "6bab3433",
>>>>>>> documentation-devel
||||||| 1158767b
   "id": "89547dbd",
=======
   "id": "3fc7cc55",
>>>>>>> 6e0f6d6ef35309dec3607d4371c747197b435328
   "metadata": {
    "lines_to_next_cell": 0
   },
   "source": [
    "The \"empty\" cells tend to be smaller than other cells but there are also some really large ones. \n",
    "\n",
    "Cell area distribution"
   ]
  },
  {
   "cell_type": "code",
   "execution_count": null,
<<<<<<< HEAD
<<<<<<< HEAD
   "id": "26e8a52c",
||||||| ff06ad40
   "id": "b3422999",
=======
   "id": "703cbdc6",
>>>>>>> documentation-devel
||||||| 1158767b
   "id": "26e8a52c",
=======
   "id": "fd79a656",
>>>>>>> 6e0f6d6ef35309dec3607d4371c747197b435328
   "metadata": {
    "fig.height": 4,
    "fig.width": 8
   },
   "outputs": [],
   "source": [
    "plot_violin_spatial(sfe, \"Area\")"
   ]
  },
  {
   "cell_type": "markdown",
<<<<<<< HEAD
<<<<<<< HEAD
   "id": "366311d9",
||||||| ff06ad40
   "id": "29a6b23d",
=======
   "id": "58fa3fd6",
>>>>>>> documentation-devel
||||||| 1158767b
   "id": "366311d9",
=======
   "id": "deb41817",
>>>>>>> 6e0f6d6ef35309dec3607d4371c747197b435328
   "metadata": {
    "lines_to_next_cell": 0
   },
   "source": [
    "Larger cells are more likely to be found in certain areas of the tissue. It could be biological, or that under-segmentation is more likely for that cell type or that tissue region.\n",
    "\n",
    "How does area relate to total counts?"
   ]
  },
  {
   "cell_type": "code",
   "execution_count": null,
<<<<<<< HEAD
<<<<<<< HEAD
   "id": "f4f16f4b",
||||||| ff06ad40
   "id": "4cc1790f",
=======
   "id": "e0a0e95c",
>>>>>>> documentation-devel
||||||| 1158767b
   "id": "f4f16f4b",
=======
   "id": "416377f4",
>>>>>>> 6e0f6d6ef35309dec3607d4371c747197b435328
   "metadata": {},
   "outputs": [],
   "source": [
    "plotColDataBin2D(sfe, \"nCounts\", \"Area\") + theme_bw()"
   ]
  },
  {
   "cell_type": "markdown",
<<<<<<< HEAD
<<<<<<< HEAD
   "id": "09f23980",
||||||| ff06ad40
   "id": "fd9352e7",
=======
   "id": "d5e1acaf",
>>>>>>> documentation-devel
||||||| 1158767b
   "id": "09f23980",
=======
   "id": "078837b8",
>>>>>>> 6e0f6d6ef35309dec3607d4371c747197b435328
   "metadata": {
    "lines_to_next_cell": 0
   },
   "source": [
    "While there may vaguely seem that cells with more total counts tend to be larger (at least in this z-plane), there are some cells that are large but have low total counts.\n",
    "\n",
    "Negative control probes are used in this dataset for QC. Here we calculate the proportion of transcripts attributed to the negative controls."
   ]
  },
  {
   "cell_type": "code",
   "execution_count": null,
<<<<<<< HEAD
<<<<<<< HEAD
   "id": "3000d0de",
||||||| ff06ad40
   "id": "ac2bc729",
=======
   "id": "f153adde",
>>>>>>> documentation-devel
||||||| 1158767b
   "id": "3000d0de",
=======
   "id": "e5361ce2",
>>>>>>> 6e0f6d6ef35309dec3607d4371c747197b435328
   "metadata": {},
   "outputs": [],
   "source": [
    "neg_inds <- str_detect(rownames(sfe), \"^NegPrb\")\n",
    "# Number of negative control probes\n",
    "sum(neg_inds)\n",
    "colData(sfe)$prop_neg <- colSums(counts(sfe)[neg_inds,])/colData(sfe)$nCounts"
   ]
  },
  {
   "cell_type": "code",
   "execution_count": null,
<<<<<<< HEAD
<<<<<<< HEAD
   "id": "06c3ecd8",
||||||| ff06ad40
   "id": "015ec22a",
=======
   "id": "5c9fe740",
>>>>>>> documentation-devel
||||||| 1158767b
   "id": "06c3ecd8",
=======
   "id": "d2068a57",
>>>>>>> 6e0f6d6ef35309dec3607d4371c747197b435328
   "metadata": {
    "fig.height": 4,
    "fig.width": 8
   },
   "outputs": [],
   "source": [
    "plot_violin_spatial(sfe, \"prop_neg\")"
   ]
  },
  {
   "cell_type": "markdown",
<<<<<<< HEAD
<<<<<<< HEAD
   "id": "b002b399",
||||||| ff06ad40
   "id": "412771d9",
=======
   "id": "72fe311c",
>>>>>>> documentation-devel
||||||| 1158767b
   "id": "b002b399",
=======
   "id": "39ae2671",
>>>>>>> 6e0f6d6ef35309dec3607d4371c747197b435328
   "metadata": {},
   "source": [
    "The NA's are empty cells, and the proportion is very low except for a few outliers. How does prop_neg relate to nCounts?"
   ]
  },
  {
   "cell_type": "code",
   "execution_count": null,
<<<<<<< HEAD
<<<<<<< HEAD
   "id": "8d23cadb",
||||||| ff06ad40
   "id": "697d21cc",
=======
   "id": "983a10eb",
>>>>>>> documentation-devel
||||||| 1158767b
   "id": "8d23cadb",
=======
   "id": "a32b1e6f",
>>>>>>> 6e0f6d6ef35309dec3607d4371c747197b435328
   "metadata": {},
   "outputs": [],
   "source": [
    "plotColDataBin2D(sfe, \"nCounts\", \"prop_neg\") +\n",
    "    scale_fill_viridis_c()"
   ]
  },
  {
   "cell_type": "markdown",
<<<<<<< HEAD
<<<<<<< HEAD
   "id": "3fea2579",
||||||| ff06ad40
   "id": "1f82df32",
=======
   "id": "814ba7a1",
>>>>>>> documentation-devel
||||||| 1158767b
   "id": "3fea2579",
=======
   "id": "be53865f",
>>>>>>> 6e0f6d6ef35309dec3607d4371c747197b435328
   "metadata": {
    "lines_to_next_cell": 0
   },
   "source": [
    "This looks kind of like the proportion of mitochondrial counts vs. nCounts plot for scRNA-seq, where cells with fewer total counts tend to have higher proportion of mitochondrial counts."
   ]
  },
  {
   "cell_type": "code",
   "execution_count": null,
<<<<<<< HEAD
<<<<<<< HEAD
   "id": "f052e907",
||||||| ff06ad40
   "id": "b17e037a",
=======
   "id": "40d902de",
>>>>>>> documentation-devel
||||||| 1158767b
   "id": "f052e907",
=======
   "id": "577d9c62",
>>>>>>> 6e0f6d6ef35309dec3607d4371c747197b435328
   "metadata": {},
   "outputs": [],
   "source": [
    "# The zeros are removed\n",
    "plotColDataHistogram(sfe, \"prop_neg\") +\n",
    "    scale_x_log10()"
   ]
  },
  {
   "cell_type": "markdown",
<<<<<<< HEAD
<<<<<<< HEAD
   "id": "836c8959",
||||||| ff06ad40
   "id": "12707048",
=======
   "id": "d2ab447e",
>>>>>>> documentation-devel
||||||| 1158767b
   "id": "836c8959",
=======
   "id": "999049b3",
>>>>>>> 6e0f6d6ef35309dec3607d4371c747197b435328
   "metadata": {},
   "source": [
    "The distribution is not obviously bimodal, and since the x-axis is log transformed to better visualize the distribution, the 0's have been removed. It's kind of arbitrary; for now we'll remove cells with more than 10% of transcripts from negative controls."
   ]
  },
  {
   "cell_type": "code",
   "execution_count": null,
<<<<<<< HEAD
<<<<<<< HEAD
   "id": "9a0aaba1",
||||||| ff06ad40
   "id": "e7593519",
=======
   "id": "50587b86",
>>>>>>> documentation-devel
||||||| 1158767b
   "id": "9a0aaba1",
=======
   "id": "2636922e",
>>>>>>> 6e0f6d6ef35309dec3607d4371c747197b435328
   "metadata": {},
   "outputs": [],
   "source": [
    "# Remove low quality cells\n",
    "(sfe <- sfe[,!sfe$is_empty & sfe$prop_neg < 0.1])"
   ]
  },
  {
   "cell_type": "markdown",
<<<<<<< HEAD
<<<<<<< HEAD
   "id": "86f2afcc",
||||||| ff06ad40
   "id": "b17fc436",
=======
   "id": "54cb28b3",
>>>>>>> documentation-devel
||||||| 1158767b
   "id": "86f2afcc",
=======
   "id": "8690fae5",
>>>>>>> 6e0f6d6ef35309dec3607d4371c747197b435328
   "metadata": {
    "lines_to_next_cell": 0
   },
   "source": [
    "After removing the low quality cells, there are 100,095 cells left.\n",
    "\n",
    "### Markers\n",
    "Nanostring provides some cell stain and marker intensities in the cell metadata."
   ]
  },
  {
   "cell_type": "code",
   "execution_count": null,
<<<<<<< HEAD
<<<<<<< HEAD
   "id": "4baf51cc",
||||||| ff06ad40
   "id": "0844454d",
=======
   "id": "f2278c22",
>>>>>>> documentation-devel
||||||| 1158767b
   "id": "4baf51cc",
=======
   "id": "d5ba08a6",
>>>>>>> 6e0f6d6ef35309dec3607d4371c747197b435328
   "metadata": {},
   "outputs": [],
   "source": [
    "names(colData(sfe))"
   ]
  },
  {
   "cell_type": "markdown",
<<<<<<< HEAD
<<<<<<< HEAD
   "id": "97165cf1",
||||||| ff06ad40
   "id": "a1d261cf",
=======
   "id": "7c73dfa1",
>>>>>>> documentation-devel
||||||| 1158767b
   "id": "97165cf1",
=======
   "id": "c4ff8753",
>>>>>>> 6e0f6d6ef35309dec3607d4371c747197b435328
   "metadata": {
    "lines_to_next_cell": 0
   },
   "source": [
    "Here we plot aspect ratio and mean intensity of cells stains and markers, which have not been plotted before. PanCK is a marker for epithelial cells. CD45 is a leukocyte marker. CD3 is a T cell marker. Since it takes quite a while to plot 100,000 cells 6 times, `scattermore` really helps."
   ]
  },
  {
   "cell_type": "code",
   "execution_count": null,
<<<<<<< HEAD
<<<<<<< HEAD
   "id": "fd35a379",
||||||| ff06ad40
   "id": "456aa872",
=======
   "id": "b4a51ed7",
>>>>>>> documentation-devel
||||||| 1158767b
   "id": "fd35a379",
=======
   "id": "76017067",
>>>>>>> 6e0f6d6ef35309dec3607d4371c747197b435328
   "metadata": {
    "fig.height": 9,
    "fig.width": 10
   },
   "outputs": [],
   "source": [
    "plotSpatialFeature(sfe, c(\"AspectRatio\", \"Mean.DAPI\", \"Mean.MembraneStain\", \n",
    "                          \"Mean.PanCK\", \"Mean.CD45\", \"Mean.CD3\"),\n",
    "                   colGeometryName = \"centroids\", ncol = 2, scattermore = TRUE)"
   ]
  },
  {
   "cell_type": "markdown",
<<<<<<< HEAD
<<<<<<< HEAD
   "id": "3bf527b1",
||||||| ff06ad40
   "id": "9d93c4f0",
=======
   "id": "93dc40c8",
>>>>>>> documentation-devel
||||||| 1158767b
   "id": "3bf527b1",
=======
   "id": "ddf494e1",
>>>>>>> 6e0f6d6ef35309dec3607d4371c747197b435328
   "metadata": {
    "lines_to_next_cell": 0
   },
   "source": [
    "## Genes"
   ]
  },
  {
   "cell_type": "code",
   "execution_count": null,
<<<<<<< HEAD
<<<<<<< HEAD
   "id": "b2e56268",
||||||| ff06ad40
   "id": "429ecbaf",
=======
   "id": "3e26a961",
>>>>>>> documentation-devel
||||||| 1158767b
   "id": "b2e56268",
=======
   "id": "cc301bfb",
>>>>>>> 6e0f6d6ef35309dec3607d4371c747197b435328
   "metadata": {},
   "outputs": [],
   "source": [
    "rowData(sfe)$means <- rowMeans(counts(sfe))\n",
    "rowData(sfe)$vars <- rowVars(counts(sfe))\n",
    "rowData(sfe)$is_neg <- neg_inds"
   ]
  },
  {
   "cell_type": "code",
   "execution_count": null,
<<<<<<< HEAD
<<<<<<< HEAD
   "id": "a9d03ce4",
||||||| ff06ad40
   "id": "54a92cfb",
=======
   "id": "dac867d1",
>>>>>>> documentation-devel
||||||| 1158767b
   "id": "a9d03ce4",
=======
   "id": "dccd0fd5",
>>>>>>> 6e0f6d6ef35309dec3607d4371c747197b435328
   "metadata": {},
   "outputs": [],
   "source": [
    "plotRowDataBin2D(sfe, \"means\", \"vars\", subset = \"is_neg\", bins = 50) +\n",
    "    geom_abline(slope = 1, intercept = 0, color = \"red\") +\n",
    "    scale_x_log10() + scale_y_log10() +\n",
    "    annotation_logticks() +\n",
    "    coord_equal()"
   ]
  },
  {
   "cell_type": "markdown",
<<<<<<< HEAD
<<<<<<< HEAD
   "id": "d6a2c2f0",
||||||| ff06ad40
   "id": "586f182c",
=======
   "id": "dcc19ae6",
>>>>>>> documentation-devel
||||||| 1158767b
   "id": "d6a2c2f0",
=======
   "id": "6ad3cf8c",
>>>>>>> 6e0f6d6ef35309dec3607d4371c747197b435328
   "metadata": {},
   "source": [
    "The red line $y = x$ is expected from Poisson data. Gene expression in this dataset has more variance than expected from Poisson, even for gene with lower expression. Zoom into the negative controls"
   ]
  },
  {
   "cell_type": "code",
   "execution_count": null,
<<<<<<< HEAD
<<<<<<< HEAD
   "id": "34950e04",
||||||| ff06ad40
   "id": "1b6decc7",
=======
   "id": "6947528a",
>>>>>>> documentation-devel
||||||| 1158767b
   "id": "34950e04",
=======
   "id": "bab27bf3",
>>>>>>> 6e0f6d6ef35309dec3607d4371c747197b435328
   "metadata": {},
   "outputs": [],
   "source": [
    "as.data.frame(rowData(sfe)[neg_inds,]) |> \n",
    "    ggplot(aes(means, vars)) +\n",
    "    geom_point() +\n",
    "    geom_abline(slope = 1, intercept = 0, color = \"red\") +\n",
    "    scale_x_log10() + scale_y_log10() +\n",
    "    annotation_logticks() +\n",
    "    coord_equal()"
   ]
  },
  {
   "cell_type": "markdown",
<<<<<<< HEAD
<<<<<<< HEAD
   "id": "5a1a80d0",
||||||| ff06ad40
   "id": "b1079013",
=======
   "id": "f5a509b8",
>>>>>>> documentation-devel
||||||| 1158767b
   "id": "5a1a80d0",
=======
   "id": "e481963e",
>>>>>>> 6e0f6d6ef35309dec3607d4371c747197b435328
   "metadata": {
    "lines_to_next_cell": 0
   },
   "source": [
    "Among the \"high quality\" cells, the negative controls still have higher variance relative to mean compared to Poisson. \n",
    "\n",
    "Negative controls vs. real genes"
   ]
  },
  {
   "cell_type": "code",
   "execution_count": null,
<<<<<<< HEAD
<<<<<<< HEAD
   "id": "b51e3a5d",
||||||| ff06ad40
   "id": "f41d7594",
=======
   "id": "f8abbe75",
>>>>>>> documentation-devel
||||||| 1158767b
   "id": "b51e3a5d",
=======
   "id": "305dbe70",
>>>>>>> 6e0f6d6ef35309dec3607d4371c747197b435328
   "metadata": {},
   "outputs": [],
   "source": [
    "plotRowData(sfe, x = \"means\", y = \"is_neg\") +\n",
    "    scale_y_log10() +\n",
    "    annotation_logticks(sides = \"b\")"
   ]
  },
  {
   "cell_type": "markdown",
<<<<<<< HEAD
<<<<<<< HEAD
   "id": "7e1c4cb6",
||||||| ff06ad40
   "id": "a7bfbec2",
=======
   "id": "91ff06d5",
>>>>>>> documentation-devel
||||||| 1158767b
   "id": "7e1c4cb6",
=======
   "id": "f52351fd",
>>>>>>> 6e0f6d6ef35309dec3607d4371c747197b435328
   "metadata": {},
   "source": [
    "The negative controls have lower mean \"expression\" than the vast majority of real genes.\n",
    "\n",
    "# Spatial autocorrelation in QC metrics\n",
    "A spatial neighborhood graph is required for spatial dependence analyses with `spdep`. Without a benchmark, we don't yet know which type of neighborhood graph is the best for which purpose. \n",
    "\n",
    "Methods to find spatial neighborhood graphs in `spdep` other than `knearneigh()` (k nearest neighbors), `dnearneigh()` (find cells within a certain distance), and `poly2nb()` (polygon contiguity) are not recommended for larger datasets. While cell-cell contact may be biologically relevant, because cell segmentation is imperfect, leading to non-contiguous cell segmentation polygons for cells that appear contiguous in H&E, only using `poly2nb()` to find polygon contiguity neighbors without supplementing with another kind of neighborhood is problematic. Delaunay triangulation with the `deldir` package, which is used by `spdep` (`tri2nb()`), takes 4 to 5 minutes for a dataset of this size, but the run time increases much more drastically than linearly as the number of cells increases. Sphere of Interest (SOI) graph (`soi.graph()`) prunes edges from triangulation that are too long, and does not take long itself. So triangulation and SOI graph, while slower than `knearneigh()`, `dnearneigh()`, and `poly2nb()`, are somewhat practical considerations. The implementation of `gabrielneigh()` and `relativeneigh()` take impracticably long (over an hour and I terminated the R session out of impatience) for this dataset so are not recommended.\n",
    "\n",
    "Methods to find approximate nearest neighbors such as Annoy (`AnnoyParam()`) and HNSW (`HnswParam()`), as supported by the [`bluster`](https://bioconductor.org/packages/release/bioc/html/bluster.html) and [`BiocNeighbors`](https://bioconductor.org/packages/release/bioc/html/BiocNeighbors.html) packages might speed up finding these graphs, but we haven't formally benchmarked them. \n",
    "\n",
    "See [Chapter 14 of Spatial Data Science](https://r-spatial.org/book/14-Areal.html) on proximity in areal data for a more detailed discussion of the different neighborhood graphs in `spdep`. The methods for areal data are the first to be wrapped by Voyager because much of spatial transcriptomics data is analogous to areal geospatial data, where data from several cells are aggregated over areas, which happens in Visium spots. Just like in geospatial areal data, the Visium aggregation areas are arbitrary and do not represent the underlying spatial process. Although sometimes geographical areal units are not arbitrary, that tissues are generally not in hexagonal grids means that Visium spot polygons are arbitrary in this context. Regions of interest (ROI) selection spatial transcriptomics methods, such as laser capture microdissection (LCM) and GeoMX DSP are more obviously analogous to geospatial areal data. The aggregation also happens when we analyze smFISH-based data at the cell level, if the basic unit of observation is individual transcript spots. \n",
    "\n",
    "While `spdep` caters to areal data, `gstat` caters to geostatistical data, where a continuous spatial process is sampled at point locations. In some ways, spatial transcriptomics data is analogous to geostatistical data. Visium samples the supposed spatial biological process in a regular hexagonal grid, if we pretend that Visium spots are points. In smFISH-based single cell resolution data, the cells observed can be thought of as a sample of an underlying spatial biological process supervening on the specific locations of the cells. In a sense, the cells are not samples, since smFISH based technologies attempt to visualize all cells in the tissue section. However, as the biological function of the tissue does not depend on this particular spatial arrangement of individual cells (i.e. supervenes on this particular spatial arrangement), but more of cell types, the specific cell locations observed can be thought of as samples of the process, if we consider the cell the basic unit of the spatial process. \n",
    "\n",
    "In Voyager 1.2.0 (Bioconductor 3.17), we have added semivariograms (from the [`gstat`](https://cran.r-project.org/web/packages/gstat/index.html) package) as an exploratory tool to identify the presence of spatial autocorrelation, its length scale, and anisotropy (i.e. different in different directions). Covariates can be specified when computing the variogram to account for spatial trends and adjust for another spatial variable. However, unlike Morans's I, the semivariogram can't identify negative spatial autocorrelation, although since the spatial neighborhood graph typically does not encode spatial directions, `spdep` autocorrelation metrics can't identify anisotropy. Another problem with the semivariogram is that it assumes that the data is intrinsically stationary, i.e. the semivariogram holds in the entire dataset, or that similarity between two cells only depends on their distance from each other, which may not be the case when spatial autocorrelation varies in space as evident for some genes in local spatial analyses. \n",
    "\n",
    "Single cell smFISH based data is also dissimiliar to both areal and geostatistical data in important ways. In geospatial areal data, data from numerous basic units of the spatial process (e.g. people in epidemiology) are aggregated over areas (e.g. cities), whereas in histological space, the cell is arguably a more sensible basic unit of the biological spatial process than individual mRNA molecules. Unlike in geostatistical data, the cells as seen in the tissue section are often polygons tessellating the tissue section rather than points. Furthermore, while ideally the samples of the underlying spatial process should not affect the spatial process itself in geostatistical data, the cells play active roles in the biological spatial process. \n",
    "\n",
    "However, data analysis methods for areal and geostatistical data can still be relevant to EDA and descriptive models (not causal or mechanistic) of single cell smFISH data. Different types of spatial neighborhood graphs for cells may be relevant to different processes. For instance, contiguity of cell segmentation polygons is relevant when contact is involved in cell signaling, although cell segmentation is imperfect. Positive spatial autocorrelation here can arise from contact activation, and negative autocorrelation can arise from contact inhibition. However, cells may also be influenced by longer range factors such as secreted ligands, morphogens, and simpler spatial trends like distance to artery and vein. In this case, perhaps the semivariogram and using Euclidean distance between cells as spatial weights in spatial autocorrelation metrics would be more relevant for EDA. It would be interesting to compare the results from different spatial neighborhood graphs and spatial weights, and between `spdep` and `gstat`. Perhaps there is no one best method, but different methods reveal different phenomena. The problem of choosing a spatial neighborhood matrix has a long history far predating spatial transcriptomics. See [@Getis2009-iw] for a brief discussion of decades of work around this issue.\n",
    "\n",
    "Spatial autocorrelation metrics seek to measure how nearby things tend to be more similar or dissimilar, and the neighborhood graph and edge weights define what we mean by \"nearby\" in areal data. Note that because each Visium spot can contain from several to dozens of cells, the spatial neighborhood graphs of Visium spots describe neighborhood relationships of much longer length scales than spatial neighborhood graphs of single cells, so spatial autocorrelation metrics using the Visium graph have different meanings from cellular neighborhood graphs. \n",
    "\n",
    "For now, just to demonstrate software usage, we use the k nearest neighborhood graph with distance based edge weights, as commonly done in graph based clustering in scRNA-seq, although we don't yet know the best value for k in each scenario. For the purpose of this vignette, say use $k = 5$, and the execution time isn't outrageous. The argument `style = \"W\"` is to row normalize the adjacency matrix of the spatial neighborhood graph as this is necessary for Moran scatter plot. Inverse distance edge weights can take small values but what matter is the relative rather than the absolute values as the distance itself is in arbitrary unit; row normalizing the adjacency matrix makes the weighted average value from the neighbors comparable to the value at the cell itself. In this tissue, many cells appear contiguous, but since cell segmentation is imperfect, there are many false singletons, which makes polygon contiguity neighbors from `poly2nb()` problematic without some modification. But based on the distribution of the number of neighbors based on contiguity, $k = 5$ doesn't seem to be a bad approximate for contiguity."
   ]
  },
  {
   "cell_type": "code",
   "execution_count": null,
<<<<<<< HEAD
<<<<<<< HEAD
   "id": "633e393d",
||||||| ff06ad40
   "id": "1d66404d",
=======
   "id": "caf980df",
>>>>>>> documentation-devel
||||||| 1158767b
   "id": "633e393d",
=======
   "id": "50c9ca7a",
>>>>>>> 6e0f6d6ef35309dec3607d4371c747197b435328
   "metadata": {},
   "outputs": [],
   "source": [
    "system.time(\n",
    "    colGraph(sfe, \"knn5\") <- findSpatialNeighbors(sfe, method = \"knearneigh\",\n",
    "                                                  dist_type = \"idw\", k = 5, \n",
    "                                                  style = \"W\")\n",
    "    )"
   ]
  },
  {
   "cell_type": "markdown",
<<<<<<< HEAD
<<<<<<< HEAD
   "id": "c487c9cb",
||||||| ff06ad40
   "id": "fcc9d56a",
=======
   "id": "9309cf13",
>>>>>>> documentation-devel
||||||| 1158767b
   "id": "c487c9cb",
=======
   "id": "143f5306",
>>>>>>> 6e0f6d6ef35309dec3607d4371c747197b435328
   "metadata": {
    "lines_to_next_cell": 0
   },
   "source": [
    "Now compute Moran's I for some cell QC metrics"
   ]
  },
  {
   "cell_type": "code",
   "execution_count": null,
<<<<<<< HEAD
<<<<<<< HEAD
   "id": "2a8802a2",
||||||| ff06ad40
   "id": "0d4da9f9",
=======
   "id": "b6c608c5",
>>>>>>> documentation-devel
||||||| 1158767b
   "id": "2a8802a2",
=======
   "id": "86c63b0f",
>>>>>>> 6e0f6d6ef35309dec3607d4371c747197b435328
   "metadata": {},
   "outputs": [],
   "source": [
    "features_use <- c(\"nCounts\", \"nGenes\", \"Area\", \"AspectRatio\")\n",
    "sfe <- colDataMoransI(sfe, features_use, colGraphName = \"knn5\")"
   ]
  },
  {
   "cell_type": "code",
   "execution_count": null,
<<<<<<< HEAD
<<<<<<< HEAD
   "id": "3263c980",
||||||| ff06ad40
   "id": "bfadbefd",
=======
   "id": "a580581e",
>>>>>>> documentation-devel
||||||| 1158767b
   "id": "3263c980",
=======
   "id": "05f68142",
>>>>>>> 6e0f6d6ef35309dec3607d4371c747197b435328
   "metadata": {},
   "outputs": [],
   "source": [
    "colFeatureData(sfe)[features_use,]"
   ]
  },
  {
   "cell_type": "markdown",
<<<<<<< HEAD
<<<<<<< HEAD
   "id": "a9fc3b95",
||||||| ff06ad40
   "id": "51aa43b0",
=======
   "id": "4feafcf1",
>>>>>>> documentation-devel
||||||| 1158767b
   "id": "a9fc3b95",
=======
   "id": "f879bc01",
>>>>>>> 6e0f6d6ef35309dec3607d4371c747197b435328
   "metadata": {},
   "source": [
    "Positive spatial autocorrelation is suggested, which is stronger in nCounts and nGenes.\n",
    "\n",
    "What are the length scales of spatial autocorrelation for these QC metrics? It would be nice if the lagged neighborhood graphs can be stored and reused for all features rather than recomputed for each feature as in `spdep::sp.correlogram()` called behind the scene here. This takes a few minutes to run, but not as long as a typical song. Another way to find the length scale of spatial autocorrelation is to bin the cells into bins of different sizes and then find spatial autocorrelation at each bin size, which probably is faster than finding lagged values at higher and higher neighborhoods since `geom_bin2d()` and `geom_hex()` in `ggplot2` run pretty fast even for large datasets. Or use a semivariogram; `gstat` also bins the data when estimating the semivariogram and calculating the semivariogram over very long distance is much faster than the correlogram with cell-cell neighborhood graphs. "
   ]
  },
  {
   "cell_type": "code",
   "execution_count": null,
<<<<<<< HEAD
<<<<<<< HEAD
   "id": "c28a9d5b",
||||||| ff06ad40
   "id": "dd1255af",
=======
   "id": "4642bca2",
>>>>>>> documentation-devel
||||||| 1158767b
   "id": "c28a9d5b",
=======
   "id": "48441dde",
>>>>>>> 6e0f6d6ef35309dec3607d4371c747197b435328
   "metadata": {},
   "outputs": [],
   "source": [
    "system.time(\n",
    "    sfe <- colDataUnivariate(sfe, \"sp.correlogram\", features = features_use,\n",
    "                         colGraphName = \"knn5\", order = 6, zero.policy = TRUE,\n",
    "                         BPPARAM = MulticoreParam(2))\n",
    ")"
   ]
  },
  {
   "cell_type": "markdown",
<<<<<<< HEAD
<<<<<<< HEAD
   "id": "c4c913cc",
||||||| ff06ad40
   "id": "da8d9808",
=======
   "id": "089fe34a",
>>>>>>> documentation-devel
||||||| 1158767b
   "id": "c4c913cc",
=======
   "id": "dbde2141",
>>>>>>> 6e0f6d6ef35309dec3607d4371c747197b435328
   "metadata": {},
   "source": [
    "Note that `MulticoreParam()` doesn't work on Windows; this vignette was built on Linux. Use `SnowParam()` or `DoparParam()` for Windows. See `?BiocParallelParam` for the available parallel processing backends. We did not notice significant performance differences between `ShowParam()` and `MulticoreParam()` in this context."
   ]
  },
  {
   "cell_type": "code",
   "execution_count": null,
<<<<<<< HEAD
<<<<<<< HEAD
   "id": "f0614f20",
||||||| ff06ad40
   "id": "9329f8f7",
=======
   "id": "b917cee6",
>>>>>>> documentation-devel
||||||| 1158767b
   "id": "f0614f20",
=======
   "id": "5ba9cac9",
>>>>>>> 6e0f6d6ef35309dec3607d4371c747197b435328
   "metadata": {},
   "outputs": [],
   "source": [
    "plotCorrelogram(sfe, features_use)"
   ]
  },
  {
   "cell_type": "markdown",
<<<<<<< HEAD
<<<<<<< HEAD
   "id": "7abceea5",
||||||| ff06ad40
   "id": "4c75a3ca",
=======
   "id": "ca7124d1",
>>>>>>> documentation-devel
||||||| 1158767b
   "id": "7abceea5",
=======
   "id": "8035534e",
>>>>>>> 6e0f6d6ef35309dec3607d4371c747197b435328
   "metadata": {
    "lines_to_next_cell": 0
   },
   "source": [
    "They seem to have similar length scales, but aspect ratios tend to decay more quickly.\n",
    "\n",
    "Moran's scatter plot for nCounts. "
   ]
  },
  {
   "cell_type": "code",
   "execution_count": null,
<<<<<<< HEAD
<<<<<<< HEAD
   "id": "70274f64",
||||||| ff06ad40
   "id": "d6e4bfab",
=======
   "id": "6663301e",
>>>>>>> documentation-devel
||||||| 1158767b
   "id": "70274f64",
=======
   "id": "55dd382b",
>>>>>>> 6e0f6d6ef35309dec3607d4371c747197b435328
   "metadata": {},
   "outputs": [],
   "source": [
    "sfe <- colDataUnivariate(sfe, \"moran.plot\", \"nCounts\", colGraphName = \"knn5\")"
   ]
  },
  {
   "cell_type": "markdown",
<<<<<<< HEAD
<<<<<<< HEAD
   "id": "d3bde186",
||||||| ff06ad40
   "id": "f8c350d7",
=======
   "id": "4921a495",
>>>>>>> documentation-devel
||||||| 1158767b
   "id": "d3bde186",
=======
   "id": "696f929c",
>>>>>>> 6e0f6d6ef35309dec3607d4371c747197b435328
   "metadata": {
    "lines_to_next_cell": 0
   },
   "source": [
    "In the first panel, the density is for all points in this plot, and in the second, the points influential to fitting the line are highlighted in red, still a 2D histogram to avoid overplotting."
   ]
  },
  {
   "cell_type": "code",
   "execution_count": null,
<<<<<<< HEAD
<<<<<<< HEAD
   "id": "5e23fd19",
||||||| ff06ad40
   "id": "147e2445",
=======
   "id": "f90b9a0a",
>>>>>>> documentation-devel
||||||| 1158767b
   "id": "5e23fd19",
=======
   "id": "1f0d88ab",
>>>>>>> 6e0f6d6ef35309dec3607d4371c747197b435328
   "metadata": {
    "fig.height": 7,
    "fig.width": 8
   },
   "outputs": [],
   "source": [
    "p1 <- moranPlot(sfe, \"nCounts\", binned = TRUE, plot_influential = FALSE)\n",
    "p2 <- moranPlot(sfe, \"nCounts\", binned = TRUE)\n",
    "p1 / p2 + plot_layout(guides = \"collect\")"
   ]
  },
  {
   "cell_type": "markdown",
<<<<<<< HEAD
<<<<<<< HEAD
   "id": "552e164b",
||||||| ff06ad40
   "id": "d1043430",
=======
   "id": "e3bbd045",
>>>>>>> documentation-devel
||||||| 1158767b
   "id": "552e164b",
=======
   "id": "5564dccf",
>>>>>>> 6e0f6d6ef35309dec3607d4371c747197b435328
   "metadata": {
    "lines_to_next_cell": 0
   },
   "source": [
    "There are no obvious clusters in this plot.\n",
    "\n",
    "Local Moran's I for nCounts"
   ]
  },
  {
   "cell_type": "code",
   "execution_count": null,
<<<<<<< HEAD
<<<<<<< HEAD
   "id": "ce8135eb",
||||||| ff06ad40
   "id": "ff8e076d",
=======
   "id": "08464f9c",
>>>>>>> documentation-devel
||||||| 1158767b
   "id": "ce8135eb",
=======
   "id": "fbdc184b",
>>>>>>> 6e0f6d6ef35309dec3607d4371c747197b435328
   "metadata": {},
   "outputs": [],
   "source": [
    "sfe <- colDataUnivariate(sfe, \"localmoran\", \"nCounts\", colGraphName = \"knn5\")"
   ]
  },
  {
   "cell_type": "code",
   "execution_count": null,
<<<<<<< HEAD
<<<<<<< HEAD
   "id": "e248862e",
||||||| ff06ad40
   "id": "298b0062",
=======
   "id": "86c88ecc",
>>>>>>> documentation-devel
||||||| 1158767b
   "id": "e248862e",
=======
   "id": "fda80b0f",
>>>>>>> 6e0f6d6ef35309dec3607d4371c747197b435328
   "metadata": {},
   "outputs": [],
   "source": [
    "plotLocalResult(sfe, \"localmoran\", \"nCounts\", colGeometryName = \"cellSeg\",\n",
    "                divergent = TRUE, diverge_center = 0)"
   ]
  },
  {
   "cell_type": "markdown",
<<<<<<< HEAD
<<<<<<< HEAD
   "id": "9d55a4a8",
||||||| ff06ad40
   "id": "e92fc450",
=======
   "id": "36e3674e",
>>>>>>> documentation-devel
||||||| 1158767b
   "id": "9d55a4a8",
=======
   "id": "6256420d",
>>>>>>> 6e0f6d6ef35309dec3607d4371c747197b435328
   "metadata": {},
   "source": [
    "Cool, it appears that the epithelial regions tend to be more homogenous in nCounts.\n",
    "\n",
    "# Data normalization\n",
    "Given that there may be some relationship between cell size and total counts, and that total counts may be biological and thus not purely treated as technical, questions are raised about data normalization and how it should be different from the standard scRNA-seq practices. For instance, what are technical contributions to total counts for this kind of data? Furthermore, what to do with cell area, since part of it is technical, in where the z-plane of cell segmentation polygons intersects each cell, but for some cell types, it could be biological? Also, how would different methods of data normalization affect spatial autocorrelation? Should spatial autocorrelation be used in some ways when normalizing data? Besides correcting for technical effects and making gene expression in cells with different total counts more comparable, data normalization stabilizes variance and tries to make the data more normally distributed since many statistical methods assume normally distributed data. So while we don't know the best practice to normalize this kind of data, we will still normalize the data for downstream analyses."
   ]
  },
  {
   "cell_type": "code",
   "execution_count": null,
<<<<<<< HEAD
<<<<<<< HEAD
   "id": "0bc611d8",
||||||| ff06ad40
   "id": "e820ff4c",
=======
   "id": "36fe3fe2",
>>>>>>> documentation-devel
||||||| 1158767b
   "id": "0bc611d8",
=======
   "id": "0a25f895",
>>>>>>> 6e0f6d6ef35309dec3607d4371c747197b435328
   "metadata": {},
   "outputs": [],
   "source": [
    "sfe <- logNormCounts(sfe)"
   ]
  },
  {
   "cell_type": "markdown",
<<<<<<< HEAD
<<<<<<< HEAD
   "id": "25a69954",
||||||| ff06ad40
   "id": "fbc627b0",
=======
   "id": "0011bbc5",
>>>>>>> documentation-devel
||||||| 1158767b
   "id": "25a69954",
=======
   "id": "0617d1cc",
>>>>>>> 6e0f6d6ef35309dec3607d4371c747197b435328
   "metadata": {
    "lines_to_next_cell": 0
   },
   "source": [
    "# Moran's I\n",
    "\n",
    "Here we run global Moran's I on log normalized gene expression."
   ]
  },
  {
   "cell_type": "code",
   "execution_count": null,
<<<<<<< HEAD
<<<<<<< HEAD
   "id": "545b025f",
||||||| ff06ad40
   "id": "56b6b663",
=======
   "id": "55dba64c",
>>>>>>> documentation-devel
||||||| 1158767b
   "id": "545b025f",
=======
   "id": "bdd25988",
>>>>>>> 6e0f6d6ef35309dec3607d4371c747197b435328
   "metadata": {},
   "outputs": [],
   "source": [
    "# Note: on your computer, you can put progressbar = TRUE inside MulticoreParam()\n",
    "# to show progress bar. This applies to any BiocParallParam.\n",
    "sfe <- runMoransI(sfe, features = rownames(sfe), \n",
    "                  BPPARAM = MulticoreParam(2))"
   ]
  },
  {
   "cell_type": "markdown",
<<<<<<< HEAD
<<<<<<< HEAD
   "id": "ad46239f",
||||||| ff06ad40
   "id": "4ae02b94",
=======
   "id": "43c5fa07",
>>>>>>> documentation-devel
||||||| 1158767b
   "id": "ad46239f",
=======
   "id": "ec58d77c",
>>>>>>> 6e0f6d6ef35309dec3607d4371c747197b435328
   "metadata": {
    "lines_to_next_cell": 0
   },
   "source": [
    "Do real genes tend to have more spatial autocorrelation than negative controls?"
   ]
  },
  {
   "cell_type": "code",
   "execution_count": null,
<<<<<<< HEAD
<<<<<<< HEAD
   "id": "58c25428",
||||||| ff06ad40
   "id": "b16f8e40",
=======
   "id": "5cb0f580",
>>>>>>> documentation-devel
||||||| 1158767b
   "id": "58c25428",
=======
   "id": "81fc0996",
>>>>>>> 6e0f6d6ef35309dec3607d4371c747197b435328
   "metadata": {},
   "outputs": [],
   "source": [
    "plotRowData(sfe, x = \"moran_sample01\", y = \"is_neg\") +\n",
    "    geom_hline(yintercept = 0, linetype = 2)"
   ]
  },
  {
   "cell_type": "markdown",
<<<<<<< HEAD
<<<<<<< HEAD
   "id": "5fa1d0ac",
||||||| ff06ad40
   "id": "f9d87060",
=======
   "id": "6a85fe7a",
>>>>>>> documentation-devel
||||||| 1158767b
   "id": "5fa1d0ac",
=======
   "id": "27bc85ba",
>>>>>>> 6e0f6d6ef35309dec3607d4371c747197b435328
   "metadata": {
    "lines_to_next_cell": 0
   },
   "source": [
    "It seems that at least at the shorter length scale captured by the k nearest neighbor graph, most genes don't have strong spatial autocorrelation while some have strong positive spatial autocorrelation. In contrast, Moran's I for the negative controls is closely packed around 0, indicating lack of spatial autocorrelation, which is a good sign, that there is no evidence of a technical artifact that manifests as a spatial trend manifest in the negative controls.\n",
    "\n",
    "What are the genes with the highest Moran's I?"
   ]
  },
  {
   "cell_type": "code",
   "execution_count": null,
<<<<<<< HEAD
<<<<<<< HEAD
   "id": "4174e35a",
||||||| ff06ad40
   "id": "52621354",
=======
   "id": "fb316e3c",
>>>>>>> documentation-devel
||||||| 1158767b
   "id": "4174e35a",
=======
   "id": "d71f6764",
>>>>>>> 6e0f6d6ef35309dec3607d4371c747197b435328
   "metadata": {
    "fig.height": 9,
    "fig.width": 9
   },
   "outputs": [],
   "source": [
    "top_moran <- rownames(sfe)[order(rowData(sfe)$moran_sample01, decreasing = TRUE)[1:6]]\n",
    "plotSpatialFeature(sfe, top_moran, colGeometryName = \"centroids\", \n",
    "                   scattermore = TRUE, ncol = 2)"
   ]
  },
  {
   "cell_type": "markdown",
<<<<<<< HEAD
<<<<<<< HEAD
   "id": "7a737cf6",
||||||| ff06ad40
   "id": "41cdf58b",
=======
   "id": "e8c0355b",
>>>>>>> documentation-devel
||||||| 1158767b
   "id": "7a737cf6",
=======
   "id": "02340f92",
>>>>>>> 6e0f6d6ef35309dec3607d4371c747197b435328
   "metadata": {
    "lines_to_next_cell": 0
   },
   "source": [
    "They all highlight the same epithelial regions. It could be that other regions are not as spatially organized, or that a short length scale is used for Moran's I here but the correlogram shows that Moran's I decays after the first order neighbors. I wonder how using a longer length scale would change the results.\n",
    "\n",
    "# Non-spatial dimension reduction and clustering"
   ]
  },
  {
   "cell_type": "code",
   "execution_count": null,
<<<<<<< HEAD
<<<<<<< HEAD
   "id": "dd994b15",
||||||| ff06ad40
   "id": "31fe4bb7",
=======
   "id": "a41e3bc5",
>>>>>>> documentation-devel
||||||| 1158767b
   "id": "dd994b15",
=======
   "id": "d12d2c3d",
>>>>>>> 6e0f6d6ef35309dec3607d4371c747197b435328
   "metadata": {},
   "outputs": [],
   "source": [
    "set.seed(29)\n",
    "sfe <- runPCA(sfe, ncomponents = 30, scale = TRUE, BSPARAM = IrlbaParam())"
   ]
  },
  {
   "cell_type": "code",
   "execution_count": null,
<<<<<<< HEAD
<<<<<<< HEAD
   "id": "4e155043",
||||||| ff06ad40
   "id": "9398e3ca",
=======
   "id": "b85a7037",
>>>>>>> documentation-devel
||||||| 1158767b
   "id": "4e155043",
=======
   "id": "5f5003b1",
>>>>>>> 6e0f6d6ef35309dec3607d4371c747197b435328
   "metadata": {},
   "outputs": [],
   "source": [
    "ElbowPlot(sfe, ndims = 30)"
   ]
  },
  {
   "cell_type": "code",
   "execution_count": null,
<<<<<<< HEAD
<<<<<<< HEAD
   "id": "ed2bca73",
||||||| ff06ad40
   "id": "ab78558b",
=======
   "id": "75883fa3",
>>>>>>> documentation-devel
||||||| 1158767b
   "id": "ed2bca73",
=======
   "id": "6f665dcb",
>>>>>>> 6e0f6d6ef35309dec3607d4371c747197b435328
   "metadata": {},
   "outputs": [],
   "source": [
    "plotDimLoadings(sfe, dims = 1:6)"
   ]
  },
  {
   "cell_type": "code",
   "execution_count": null,
<<<<<<< HEAD
<<<<<<< HEAD
   "id": "d3942be6",
||||||| ff06ad40
   "id": "357542d6",
=======
   "id": "635c955a",
>>>>>>> documentation-devel
||||||| 1158767b
   "id": "d3942be6",
=======
   "id": "e202095d",
>>>>>>> 6e0f6d6ef35309dec3607d4371c747197b435328
   "metadata": {
    "fig.height": 9,
    "fig.width": 9
   },
   "outputs": [],
   "source": [
    "spatialReducedDim(sfe, \"PCA\", 6, colGeometryName = \"centroids\", divergent = TRUE,\n",
    "                  diverge_center = 0, ncol = 2, scattermore = TRUE)"
   ]
  },
  {
   "cell_type": "markdown",
<<<<<<< HEAD
<<<<<<< HEAD
   "id": "44d6544e",
||||||| ff06ad40
   "id": "6b130419",
=======
   "id": "1059aa22",
>>>>>>> documentation-devel
||||||| 1158767b
   "id": "44d6544e",
=======
   "id": "0c28ed4c",
>>>>>>> 6e0f6d6ef35309dec3607d4371c747197b435328
   "metadata": {
    "lines_to_next_cell": 0
   },
   "source": [
    "The first PC highlights the epithelium. PC2 highlights T cells. PC4 might highlight other leukocytes. Need to check the genes with the highest loadings to find what the other PCs mean.\n",
    "\n",
    "Non-spatial clustering and locating the clusters in space"
   ]
  },
  {
   "cell_type": "code",
   "execution_count": null,
<<<<<<< HEAD
<<<<<<< HEAD
   "id": "652cecf7",
||||||| ff06ad40
   "id": "c1b29142",
=======
   "id": "ba54ad1b",
>>>>>>> documentation-devel
||||||| 1158767b
   "id": "652cecf7",
=======
   "id": "5a3fb1b8",
>>>>>>> 6e0f6d6ef35309dec3607d4371c747197b435328
   "metadata": {},
   "outputs": [],
   "source": [
    "colData(sfe)$cluster <- clusterRows(reducedDim(sfe, \"PCA\")[,1:15],\n",
    "                                    BLUSPARAM = SNNGraphParam(\n",
    "                                        cluster.fun = \"leiden\",\n",
    "                                        cluster.args = list(\n",
    "                                            resolution_parameter = 0.5,\n",
    "                                            objective_function = \"modularity\")))"
   ]
  },
  {
   "cell_type": "code",
   "execution_count": null,
<<<<<<< HEAD
<<<<<<< HEAD
   "id": "c24a81af",
||||||| ff06ad40
   "id": "c740d800",
=======
   "id": "1ce7fd44",
>>>>>>> documentation-devel
||||||| 1158767b
   "id": "c24a81af",
=======
   "id": "f0cfeaf5",
>>>>>>> 6e0f6d6ef35309dec3607d4371c747197b435328
   "metadata": {},
   "outputs": [],
   "source": [
    "data(\"ditto_colors\")"
   ]
  },
  {
   "cell_type": "code",
   "execution_count": null,
<<<<<<< HEAD
<<<<<<< HEAD
   "id": "4ddcc977",
||||||| ff06ad40
   "id": "6858d7a4",
=======
   "id": "74cea7d7",
>>>>>>> documentation-devel
||||||| 1158767b
   "id": "4ddcc977",
=======
   "id": "5dfabad8",
>>>>>>> 6e0f6d6ef35309dec3607d4371c747197b435328
   "metadata": {
    "fig.height": 8,
    "fig.width": 8
   },
   "outputs": [],
   "source": [
    "plotPCA(sfe, ncomponents = 4, colour_by = \"cluster\") +\n",
    "    scale_color_manual(values = ditto_colors)"
   ]
  },
  {
   "cell_type": "code",
   "execution_count": null,
<<<<<<< HEAD
<<<<<<< HEAD
   "id": "48ec9c6b",
||||||| ff06ad40
   "id": "263e9233",
=======
   "id": "b4b80eba",
>>>>>>> documentation-devel
||||||| 1158767b
   "id": "48ec9c6b",
=======
   "id": "b3d9bcab",
>>>>>>> 6e0f6d6ef35309dec3607d4371c747197b435328
   "metadata": {},
   "outputs": [],
   "source": [
    "plotSpatialFeature(sfe, \"cluster\", colGeometryName = \"cellSeg\")"
   ]
  },
  {
   "cell_type": "markdown",
<<<<<<< HEAD
<<<<<<< HEAD
   "id": "d8bc222e",
||||||| ff06ad40
   "id": "24f1be0e",
=======
   "id": "89457f77",
>>>>>>> documentation-devel
||||||| 1158767b
   "id": "d8bc222e",
=======
   "id": "6bf4581c",
>>>>>>> 6e0f6d6ef35309dec3607d4371c747197b435328
   "metadata": {
    "lines_to_next_cell": 0
   },
   "source": [
    "Further analyses that can be done at this stage:\n",
    "\n",
    "* Which and how many cell types are in the neighborhood of each cell? This is subject to the different definitions of the neighborhood.\n",
    "* Which cell types tend to co-localize where?\n",
    "* Find spatial regions based on cell type colocalization, which can be done with the R package [`spicyR`](https://bioconductor.org/packages/release/bioc/html/spicyR.html) [@Canete2022-tz]\n",
    "\n",
    "# Differential expression\n",
    "Cluster marker genes are found with Wilcoxon rank sum test as commonly done for scRNA-seq."
   ]
  },
  {
   "cell_type": "code",
   "execution_count": null,
<<<<<<< HEAD
<<<<<<< HEAD
   "id": "fec9e0ef",
||||||| ff06ad40
   "id": "a555ae58",
=======
   "id": "c4d6ac59",
>>>>>>> documentation-devel
||||||| 1158767b
   "id": "fec9e0ef",
=======
   "id": "7dc1b338",
>>>>>>> 6e0f6d6ef35309dec3607d4371c747197b435328
   "metadata": {},
   "outputs": [],
   "source": [
    "markers <- findMarkers(sfe, groups = colData(sfe)$cluster,\n",
    "                       test.type = \"wilcox\", pval.type = \"all\", direction = \"up\")"
   ]
  },
  {
   "cell_type": "markdown",
<<<<<<< HEAD
<<<<<<< HEAD
   "id": "5a2430cb",
||||||| ff06ad40
   "id": "642c3b75",
=======
   "id": "7482a244",
>>>>>>> documentation-devel
||||||| 1158767b
   "id": "5a2430cb",
=======
   "id": "06956dfd",
>>>>>>> 6e0f6d6ef35309dec3607d4371c747197b435328
   "metadata": {
    "lines_to_next_cell": 0
   },
   "source": [
    "It's already sorted by p-values."
   ]
  },
  {
   "cell_type": "code",
   "execution_count": null,
<<<<<<< HEAD
<<<<<<< HEAD
   "id": "8a06ef36",
||||||| ff06ad40
   "id": "b4fcfdab",
=======
   "id": "da9f6e80",
>>>>>>> documentation-devel
||||||| 1158767b
   "id": "8a06ef36",
=======
   "id": "7650aff6",
>>>>>>> 6e0f6d6ef35309dec3607d4371c747197b435328
   "metadata": {},
   "outputs": [],
   "source": [
    "markers[[6]]"
   ]
  },
  {
   "cell_type": "markdown",
<<<<<<< HEAD
<<<<<<< HEAD
   "id": "b61ebf0a",
||||||| ff06ad40
   "id": "9f5ace8c",
=======
   "id": "c39070ae",
>>>>>>> documentation-devel
||||||| 1158767b
   "id": "b61ebf0a",
=======
   "id": "b3965fc3",
>>>>>>> 6e0f6d6ef35309dec3607d4371c747197b435328
   "metadata": {
    "lines_to_next_cell": 0
   },
   "source": [
    "Get the the significant marker for each cluster to plot. Since there're too many points, here we used the development version of `scater` to not to plot the points, which are uninformative due to overplotting and make this plot really slow."
   ]
  },
  {
   "cell_type": "code",
   "execution_count": null,
<<<<<<< HEAD
<<<<<<< HEAD
   "id": "85b85d99",
||||||| ff06ad40
   "id": "9be200d2",
=======
   "id": "9577fb20",
>>>>>>> documentation-devel
||||||| 1158767b
   "id": "85b85d99",
=======
   "id": "eddd0a88",
>>>>>>> 6e0f6d6ef35309dec3607d4371c747197b435328
   "metadata": {},
   "outputs": [],
   "source": [
    "genes_use <- vapply(markers, function(x) rownames(x)[1], FUN.VALUE = character(1))\n",
    "plotExpression(sfe, genes_use, x = \"cluster\", point_fun = function(...) list())"
   ]
  },
  {
   "cell_type": "markdown",
<<<<<<< HEAD
<<<<<<< HEAD
   "id": "054c7128",
||||||| ff06ad40
   "id": "2ed00e68",
=======
   "id": "9c96fee9",
>>>>>>> documentation-devel
||||||| 1158767b
   "id": "054c7128",
=======
   "id": "04d34fd8",
>>>>>>> 6e0f6d6ef35309dec3607d4371c747197b435328
   "metadata": {
    "lines_to_next_cell": 0
   },
   "source": [
    "Plot more top marker genes in a heatmap"
   ]
  },
  {
   "cell_type": "code",
   "execution_count": null,
<<<<<<< HEAD
<<<<<<< HEAD
   "id": "3d1aba46",
||||||| ff06ad40
   "id": "101ef66f",
=======
   "id": "1679dada",
>>>>>>> documentation-devel
||||||| 1158767b
   "id": "3d1aba46",
=======
   "id": "afb9fce4",
>>>>>>> 6e0f6d6ef35309dec3607d4371c747197b435328
   "metadata": {
    "fig.height": 7,
    "fig.width": 6
   },
   "outputs": [],
   "source": [
    "genes_use2 <- unique(unlist(lapply(markers, function(x) rownames(x)[1:5])))\n",
    "plotGroupedHeatmap(sfe, genes_use2, group = \"cluster\", colour = scales::viridis_pal()(100))"
   ]
  },
  {
   "cell_type": "markdown",
<<<<<<< HEAD
<<<<<<< HEAD
   "id": "7c9d4186",
||||||| ff06ad40
   "id": "33184291",
=======
   "id": "478dbed5",
>>>>>>> documentation-devel
||||||| 1158767b
   "id": "7c9d4186",
=======
   "id": "83808aad",
>>>>>>> 6e0f6d6ef35309dec3607d4371c747197b435328
   "metadata": {
    "lines_to_next_cell": 0
   },
   "source": [
    "# Local spatial statistics of marker genes\n",
    "Plot those genes in space"
   ]
  },
  {
   "cell_type": "code",
   "execution_count": null,
<<<<<<< HEAD
<<<<<<< HEAD
   "id": "e99dce43",
||||||| ff06ad40
   "id": "b5805fce",
=======
   "id": "83fe182d",
>>>>>>> documentation-devel
||||||| 1158767b
   "id": "e99dce43",
=======
   "id": "c5ec58d7",
>>>>>>> 6e0f6d6ef35309dec3607d4371c747197b435328
   "metadata": {
    "fig.height": 12,
    "fig.width": 8
   },
   "outputs": [],
   "source": [
    "plotSpatialFeature(sfe, genes_use, colGeometryName = \"centroids\", ncol = 2,\n",
    "                   scattermore = TRUE)"
   ]
  },
  {
   "cell_type": "markdown",
<<<<<<< HEAD
<<<<<<< HEAD
   "id": "23dba030",
||||||| ff06ad40
   "id": "ce3ee352",
=======
   "id": "a76c71f5",
>>>>>>> documentation-devel
||||||| 1158767b
   "id": "23dba030",
=======
   "id": "ff819fdb",
>>>>>>> 6e0f6d6ef35309dec3607d4371c747197b435328
   "metadata": {},
   "source": [
    "Moran's I of these marker genes"
   ]
  },
  {
   "cell_type": "code",
   "execution_count": null,
<<<<<<< HEAD
<<<<<<< HEAD
   "id": "fc7ec7f4",
||||||| ff06ad40
   "id": "a72829a7",
=======
   "id": "64a3e4a0",
>>>>>>> documentation-devel
||||||| 1158767b
   "id": "fc7ec7f4",
=======
   "id": "c2e923fe",
>>>>>>> 6e0f6d6ef35309dec3607d4371c747197b435328
   "metadata": {},
   "outputs": [],
   "source": [
    "rowData(sfe)[genes_use, \"moran_sample01\", drop = FALSE]"
   ]
  },
  {
   "cell_type": "markdown",
<<<<<<< HEAD
<<<<<<< HEAD
   "id": "b210cd3d",
||||||| ff06ad40
   "id": "9c3254bc",
=======
   "id": "b5f6a59f",
>>>>>>> documentation-devel
||||||| 1158767b
   "id": "b210cd3d",
=======
   "id": "94f918c8",
>>>>>>> 6e0f6d6ef35309dec3607d4371c747197b435328
   "metadata": {
    "lines_to_next_cell": 0
   },
   "source": [
    "Local Moran's I of these marker genes"
   ]
  },
  {
   "cell_type": "code",
   "execution_count": null,
<<<<<<< HEAD
<<<<<<< HEAD
   "id": "0ce1714a",
||||||| ff06ad40
   "id": "f92b9823",
=======
   "id": "0d8544d3",
>>>>>>> documentation-devel
||||||| 1158767b
   "id": "0ce1714a",
=======
   "id": "aa0c8bb6",
>>>>>>> 6e0f6d6ef35309dec3607d4371c747197b435328
   "metadata": {},
   "outputs": [],
   "source": [
    "sfe <- runUnivariate(sfe, \"localmoran\", features = genes_use, colGraphName = \"knn5\",\n",
    "                     BPPARAM = MulticoreParam(2))"
   ]
  },
  {
   "cell_type": "code",
   "execution_count": null,
<<<<<<< HEAD
<<<<<<< HEAD
   "id": "cd061e23",
||||||| ff06ad40
   "id": "d78f6350",
=======
   "id": "eb489a3d",
>>>>>>> documentation-devel
||||||| 1158767b
   "id": "cd061e23",
=======
   "id": "6f8acdbc",
>>>>>>> 6e0f6d6ef35309dec3607d4371c747197b435328
   "metadata": {
    "fig.height": 12,
    "fig.width": 8
   },
   "outputs": [],
   "source": [
    "plotLocalResult(sfe, \"localmoran\", features = genes_use, \n",
    "                colGeometryName = \"centroids\", ncol = 2, divergent = TRUE,\n",
    "                diverge_center = 0, scattermore = TRUE)"
   ]
  },
  {
   "cell_type": "markdown",
<<<<<<< HEAD
<<<<<<< HEAD
   "id": "59f4ad91",
||||||| ff06ad40
   "id": "2bdcde68",
=======
   "id": "06f48009",
>>>>>>> documentation-devel
||||||| 1158767b
   "id": "59f4ad91",
=======
   "id": "6f2d75ab",
>>>>>>> 6e0f6d6ef35309dec3607d4371c747197b435328
   "metadata": {
    "lines_to_next_cell": 0
   },
   "source": [
    "It seems that some histological regions tend to be more spatially homogenous in gene expression than others. The epithelial region tends to be more homogenous.\n",
    "\n",
    "Run local spatial heteroscdasticity (LOSH) for these marker genes to find local heterogeneity"
   ]
  },
  {
   "cell_type": "code",
   "execution_count": null,
<<<<<<< HEAD
<<<<<<< HEAD
   "id": "b9b0cda3",
||||||| ff06ad40
   "id": "a2032865",
=======
   "id": "26158928",
>>>>>>> documentation-devel
||||||| 1158767b
   "id": "b9b0cda3",
=======
   "id": "47f1ed17",
>>>>>>> 6e0f6d6ef35309dec3607d4371c747197b435328
   "metadata": {},
   "outputs": [],
   "source": [
    "sfe <- runUnivariate(sfe, \"LOSH\", features = genes_use, colGraphName = \"knn5\",\n",
    "                     BPPARAM = MulticoreParam(2))"
   ]
  },
  {
   "cell_type": "code",
   "execution_count": null,
<<<<<<< HEAD
<<<<<<< HEAD
   "id": "eb33b6c8",
||||||| ff06ad40
   "id": "ad88f18b",
=======
   "id": "b62757d6",
>>>>>>> documentation-devel
||||||| 1158767b
   "id": "eb33b6c8",
=======
   "id": "dfeeeea9",
>>>>>>> 6e0f6d6ef35309dec3607d4371c747197b435328
   "metadata": {
    "fig.height": 12,
    "fig.width": 8
   },
   "outputs": [],
   "source": [
    "plotLocalResult(sfe, \"LOSH\", features = genes_use, \n",
    "                colGeometryName = \"centroids\", ncol = 2, scattermore = TRUE)"
   ]
  },
  {
   "cell_type": "markdown",
<<<<<<< HEAD
<<<<<<< HEAD
   "id": "a89602a0",
||||||| ff06ad40
   "id": "471e57ca",
=======
   "id": "1f397cd0",
>>>>>>> documentation-devel
||||||| 1158767b
   "id": "a89602a0",
=======
   "id": "be1fcd7b",
>>>>>>> 6e0f6d6ef35309dec3607d4371c747197b435328
   "metadata": {
    "lines_to_next_cell": 0
   },
   "source": [
    "Some genes are more heterogeneous where they are also more highly expressed, such as COLA1 and IGKC. However this is not the case for all genes. For example, MZT2A is quite ubiqiutously experssed, but is more heterogeneous in some regions than others, and KRT19 does not seem to be much more heterogeneous where it's more highly expressed. For MZT2A, LOSH picked up the artifact of the edges of the FOVs, although this is not apparent for other genes plotted here. Here we don't have information on which cell belongs to which FOV, but FOV edge effects should be considered in data normalization. It would be interesting to more systematically see how LOSH relates to gene expression across more genes, and how this differs in cell types and gene functions.\n",
    "\n",
    "# Session Info"
   ]
  },
  {
   "cell_type": "code",
   "execution_count": null,
<<<<<<< HEAD
<<<<<<< HEAD
   "id": "2e257038",
||||||| ff06ad40
   "id": "271f8333",
=======
   "id": "3939bf7c",
>>>>>>> documentation-devel
||||||| 1158767b
   "id": "2e257038",
=======
   "id": "11bce374",
>>>>>>> 6e0f6d6ef35309dec3607d4371c747197b435328
   "metadata": {},
   "outputs": [],
   "source": [
    "sessionInfo()"
   ]
  },
  {
   "cell_type": "markdown",
<<<<<<< HEAD
<<<<<<< HEAD
   "id": "77ef301e",
||||||| ff06ad40
   "id": "4289e199",
=======
   "id": "1c23294f",
>>>>>>> documentation-devel
||||||| 1158767b
   "id": "77ef301e",
=======
   "id": "30d68d17",
>>>>>>> 6e0f6d6ef35309dec3607d4371c747197b435328
   "metadata": {},
   "source": [
    "# References"
   ]
  }
 ],
 "metadata": {
  "kernelspec": {
   "display_name": "R",
   "language": "R",
   "name": "ir"
  }
 },
 "nbformat": 4,
 "nbformat_minor": 5
}
