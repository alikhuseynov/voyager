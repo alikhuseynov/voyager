{
 "cells": [
  {
   "cell_type": "raw",
<<<<<<< HEAD
<<<<<<< HEAD
<<<<<<< HEAD
   "id": "b786d223",
||||||| 6a30bf1
   "id": "b5504681",
=======
   "id": "5e924831",
>>>>>>> documentation-devel
||||||| d28b18c
   "id": "5e924831",
=======
   "id": "6c1b058b",
>>>>>>> documentation-devel
||||||| 6893f63
<<<<<<< HEAD
   "id": "b786d223",
||||||| 6a30bf1
   "id": "b5504681",
=======
   "id": "5e924831",
>>>>>>> documentation-devel
=======
   "id": "c68cdc38",
>>>>>>> c74c98c2450c2a1ba922ed9442f136238d6bc88b
   "metadata": {},
   "source": [
    "---\n",
    "title: \"CosMX non-small cell lung cancer data\"\n",
    "author: \"Lambda Moses\"\n",
    "date: \"`r Sys.Date()`\"\n",
    "output: \n",
    "  html_document:\n",
    "  toc: true\n",
    "  toc_float:\n",
    "    collapsed: false\n",
    "  toc_depth: 3\n",
    "bibliography: ref.bib\n",
    "vignette: >\n",
    "  %\\VignetteIndexEntry{cosmx}\n",
    "  %\\VignetteEngine{knitr::rmarkdown}\n",
    "  %\\VignetteEncoding{UTF-8}\n",
    "---"
   ]
  },
  {
   "cell_type": "code",
   "execution_count": null,
<<<<<<< HEAD
<<<<<<< HEAD
<<<<<<< HEAD
   "id": "53725223",
||||||| 6a30bf1
   "id": "ee9e8361",
=======
   "id": "8af4ec11",
>>>>>>> documentation-devel
||||||| d28b18c
   "id": "8af4ec11",
=======
   "id": "1b8b088f",
>>>>>>> documentation-devel
||||||| 6893f63
<<<<<<< HEAD
   "id": "53725223",
||||||| 6a30bf1
   "id": "ee9e8361",
=======
   "id": "8af4ec11",
>>>>>>> documentation-devel
=======
   "id": "73e5580b",
>>>>>>> c74c98c2450c2a1ba922ed9442f136238d6bc88b
   "metadata": {
    "tags": [
     "remove_cell"
    ]
   },
   "outputs": [],
   "source": [
    "knitr::opts_chunk$set(\n",
    "  collapse = TRUE,\n",
    "  comment = \"#>\", fig.align = \"center\"\n",
    ")"
   ]
  },
  {
   "cell_type": "code",
   "execution_count": null,
<<<<<<< HEAD
<<<<<<< HEAD
<<<<<<< HEAD
   "id": "1e7ca00d",
||||||| 6a30bf1
   "id": "386f91c1",
=======
   "id": "46094b59",
>>>>>>> documentation-devel
||||||| d28b18c
   "id": "46094b59",
=======
   "id": "f60b3b42",
>>>>>>> documentation-devel
||||||| 6893f63
<<<<<<< HEAD
   "id": "1e7ca00d",
||||||| 6a30bf1
   "id": "386f91c1",
=======
   "id": "46094b59",
>>>>>>> documentation-devel
=======
   "id": "42d67d85",
>>>>>>> c74c98c2450c2a1ba922ed9442f136238d6bc88b
   "metadata": {
    "eval": false,
    "tags": [
     "remove_cell"
    ]
   },
   "outputs": [],
   "source": [
    "# Install Google Colab dependencies\n",
    "# Note: this can take 30+ minutes (many of the dependencies include C++ code, which needs to be compiled)\n",
    "\n",
    "# First install `sf`, `ragg` and `textshaping` and their system dependencies:\n",
    "system(\"apt-get -y update && apt-get install -y  libudunits2-dev libgdal-dev libgeos-dev libproj-dev libharfbuzz-dev libfribidi-dev\")\n",
    "install.packages(\"sf\")\n",
    "install.packages(\"textshaping\")\n",
    "install.packages(\"ragg\")\n",
    "\n",
    "# Install system dependencies of some other R packages that Voyager either imports or suggests:\n",
    "system(\"apt-get install -y libfribidi-dev libcairo2-dev libmagick++-dev\")\n",
    "\n",
    "# Install Voyager from Bioconductor:\n",
    "install.packages(\"BiocManager\")\n",
    "BiocManager::install(version = \"3.17\", ask = FALSE, update = FALSE, Ncpus = 2)\n",
    "BiocManager::install(\"scater\")\n",
    "system.time(\n",
    "  BiocManager::install(\"Voyager\", dependencies = TRUE, Ncpus = 2, update = FALSE)\n",
    ")\n",
    "\n",
    "packageVersion(\"Voyager\")"
   ]
  },
  {
   "cell_type": "markdown",
<<<<<<< HEAD
<<<<<<< HEAD
<<<<<<< HEAD
   "id": "77c6db28",
||||||| 6a30bf1
   "id": "26a37cb8",
=======
   "id": "c0d2ea42",
>>>>>>> documentation-devel
||||||| d28b18c
   "id": "c0d2ea42",
=======
   "id": "ecc7d6ad",
>>>>>>> documentation-devel
||||||| 6893f63
<<<<<<< HEAD
   "id": "77c6db28",
||||||| 6a30bf1
   "id": "26a37cb8",
=======
   "id": "c0d2ea42",
>>>>>>> documentation-devel
=======
   "id": "c76fad82",
>>>>>>> c74c98c2450c2a1ba922ed9442f136238d6bc88b
   "metadata": {},
   "source": [
    "# Introduction\n",
    "\n",
    "Nanostring GeoMX DSP is a popular spatial transcriptomics technology for formalin fixed paraffin embedded (FFPE) tissues, but it doesn't have single cell resolution. The CosMX FISH based technology for FFPE tissue [@He2021-oy] does have single cell resolution, and this vignette provides an example of how to analyze CosMX data with voyager. Note that FFPE is a common way to preserve and archive tissue, and in some cases, the only samples available may be FFPE. \n",
    "\n",
    "The CosMX dataset for non-small cell lung cancer that we used is described in [@He2021-oy]. The processed data is available for download from the [Nanostring website](https://nanostring.com/products/cosmx-spatial-molecular-imager/ffpe-dataset/). The gene count matrix, cell metadata, and cell segmentation polygon coordinates were downloaded from the Nanostring website as CSV files and read into R as data frames. The gene count matrix was then converted to a sparse matrix. The cell metadata contains centroid coordinates of the cells. The cell polygon data frames were converted into an `sf` data frame with the `df2sf()` function in `SpatialFeatureExperiment` (SFE). These were then used to construct an SFE object. Cell segmentation is only available in one z-plane."
   ]
  },
  {
   "cell_type": "code",
   "execution_count": null,
<<<<<<< HEAD
<<<<<<< HEAD
<<<<<<< HEAD
   "id": "17c9134f",
||||||| 6a30bf1
   "id": "ec5425bd",
=======
   "id": "6e60ccc7",
>>>>>>> documentation-devel
||||||| d28b18c
   "id": "6e60ccc7",
=======
   "id": "39c7f5de",
>>>>>>> documentation-devel
||||||| 6893f63
<<<<<<< HEAD
   "id": "17c9134f",
||||||| 6a30bf1
   "id": "ec5425bd",
=======
   "id": "6e60ccc7",
>>>>>>> documentation-devel
=======
   "id": "2b2f0703",
>>>>>>> c74c98c2450c2a1ba922ed9442f136238d6bc88b
   "metadata": {
    "name": "setup"
   },
   "outputs": [],
   "source": [
    "library(Voyager)\n",
    "library(SFEData)\n",
    "library(SingleCellExperiment)\n",
    "library(SpatialExperiment)\n",
    "library(scater) # devel version of plotExpression\n",
    "library(scran)\n",
    "library(bluster)\n",
    "library(ggplot2)\n",
    "library(patchwork)\n",
    "library(stringr)\n",
    "library(spdep)\n",
    "library(BiocParallel)\n",
    "library(BiocSingular)\n",
    "theme_set(theme_bw())"
   ]
  },
  {
   "cell_type": "code",
   "execution_count": null,
<<<<<<< HEAD
<<<<<<< HEAD
<<<<<<< HEAD
   "id": "7aedd472",
||||||| 6a30bf1
   "id": "9434d558",
=======
   "id": "f5e5e6b1",
>>>>>>> documentation-devel
||||||| d28b18c
   "id": "f5e5e6b1",
=======
   "id": "0475e28b",
>>>>>>> documentation-devel
||||||| 6893f63
<<<<<<< HEAD
   "id": "7aedd472",
||||||| 6a30bf1
   "id": "9434d558",
=======
   "id": "f5e5e6b1",
>>>>>>> documentation-devel
=======
   "id": "b955a9bf",
>>>>>>> c74c98c2450c2a1ba922ed9442f136238d6bc88b
   "metadata": {},
   "outputs": [],
   "source": [
    "(sfe <- HeNSCLCData())"
   ]
  },
  {
   "cell_type": "markdown",
<<<<<<< HEAD
<<<<<<< HEAD
<<<<<<< HEAD
   "id": "44005730",
||||||| 6a30bf1
   "id": "5c5869d5",
=======
   "id": "2783662d",
>>>>>>> documentation-devel
||||||| d28b18c
   "id": "2783662d",
=======
   "id": "d0dbe65c",
>>>>>>> documentation-devel
||||||| 6893f63
<<<<<<< HEAD
   "id": "44005730",
||||||| 6a30bf1
   "id": "5c5869d5",
=======
   "id": "2783662d",
>>>>>>> documentation-devel
=======
   "id": "b6b31fc1",
>>>>>>> c74c98c2450c2a1ba922ed9442f136238d6bc88b
   "metadata": {
    "lines_to_next_cell": 0
   },
   "source": [
    "Only the first biological replicate is included in the `SFEData` package. This biological replicate has 980 features and 100,290 cells. Take a look at the cells in space:"
   ]
  },
  {
   "cell_type": "code",
   "execution_count": null,
<<<<<<< HEAD
<<<<<<< HEAD
<<<<<<< HEAD
   "id": "02bba3d1",
||||||| 6a30bf1
   "id": "28398655",
=======
   "id": "a904e9ff",
>>>>>>> documentation-devel
||||||| d28b18c
   "id": "a904e9ff",
=======
   "id": "7206286e",
>>>>>>> documentation-devel
||||||| 6893f63
<<<<<<< HEAD
   "id": "02bba3d1",
||||||| 6a30bf1
   "id": "28398655",
=======
   "id": "a904e9ff",
>>>>>>> documentation-devel
=======
   "id": "d1715afb",
>>>>>>> c74c98c2450c2a1ba922ed9442f136238d6bc88b
   "metadata": {},
   "outputs": [],
   "source": [
    "plotGeometry(sfe, MARGIN = 2L, type = \"cellSeg\")"
   ]
  },
  {
   "cell_type": "markdown",
<<<<<<< HEAD
<<<<<<< HEAD
<<<<<<< HEAD
   "id": "5d4c88ad",
||||||| 6a30bf1
   "id": "a29b9226",
=======
   "id": "106c2d2b",
>>>>>>> documentation-devel
||||||| d28b18c
   "id": "106c2d2b",
=======
   "id": "505f6966",
>>>>>>> documentation-devel
||||||| 6893f63
<<<<<<< HEAD
   "id": "5d4c88ad",
||||||| 6a30bf1
   "id": "a29b9226",
=======
   "id": "106c2d2b",
>>>>>>> documentation-devel
=======
   "id": "db9cde6b",
>>>>>>> c74c98c2450c2a1ba922ed9442f136238d6bc88b
   "metadata": {
    "lines_to_next_cell": 0
   },
   "source": [
    "With single cell resolution, a lot of the details can be seen, although there's some artifact from borders of fields of view (FOVs).\n",
    "\n",
    "Plot cell density"
   ]
  },
  {
   "cell_type": "code",
   "execution_count": null,
<<<<<<< HEAD
<<<<<<< HEAD
<<<<<<< HEAD
   "id": "7bef9385",
||||||| 6a30bf1
   "id": "16f5f0aa",
=======
   "id": "c77b7327",
>>>>>>> documentation-devel
||||||| d28b18c
   "id": "c77b7327",
=======
   "id": "2ea1f5a3",
>>>>>>> documentation-devel
||||||| 6893f63
<<<<<<< HEAD
   "id": "7bef9385",
||||||| 6a30bf1
   "id": "16f5f0aa",
=======
   "id": "c77b7327",
>>>>>>> documentation-devel
=======
   "id": "80a67079",
>>>>>>> c74c98c2450c2a1ba922ed9442f136238d6bc88b
   "metadata": {},
   "outputs": [],
   "source": [
    "plotCellBin2D(sfe, hex = TRUE)"
   ]
  },
  {
   "cell_type": "markdown",
<<<<<<< HEAD
<<<<<<< HEAD
<<<<<<< HEAD
   "id": "29dc5938",
||||||| 6a30bf1
   "id": "60c38ef1",
=======
   "id": "388fead3",
>>>>>>> documentation-devel
||||||| d28b18c
   "id": "388fead3",
=======
   "id": "a01e60e0",
>>>>>>> documentation-devel
||||||| 6893f63
<<<<<<< HEAD
   "id": "29dc5938",
||||||| 6a30bf1
   "id": "60c38ef1",
=======
   "id": "388fead3",
>>>>>>> documentation-devel
=======
   "id": "6aa4c026",
>>>>>>> c74c98c2450c2a1ba922ed9442f136238d6bc88b
   "metadata": {},
   "source": [
    "# Quality control (QC)\n",
    "## Cells\n",
    "\n",
    "Single cell RNA-seq (scRNA-seq) technologies typically don't quantify cell morphology, and gene expression in Visium doesn't have single cell resolution. Here for single cell resolution smFISH based data, each cell not only has gene expression and related QC metrics such as total number of transcripts detected and number of genes detected, but also cell morphology such as area (in the z-plane where the segmentation polygons are provided) and aspect ratio. Area is relevant to QC since it can flag falsely undersegmented cells, i.e. several cells falsely considered as one by the cell segmentation program. However, since a pre-defined gene panel is used and mitochondrially encoded genes are not quantified, the scRNA-seq QC metric of proportion of mitochondrially encoded counts is not applicable. \n",
    "\n",
    "Some QC metrics are precomputed and are stored in `colData`"
   ]
  },
  {
   "cell_type": "code",
   "execution_count": null,
<<<<<<< HEAD
<<<<<<< HEAD
<<<<<<< HEAD
   "id": "ff6b04d1",
||||||| 6a30bf1
   "id": "654dc861",
=======
   "id": "8c21763c",
>>>>>>> documentation-devel
||||||| d28b18c
   "id": "8c21763c",
=======
   "id": "30fdee47",
>>>>>>> documentation-devel
||||||| 6893f63
<<<<<<< HEAD
   "id": "ff6b04d1",
||||||| 6a30bf1
   "id": "654dc861",
=======
   "id": "8c21763c",
>>>>>>> documentation-devel
=======
   "id": "b763d845",
>>>>>>> c74c98c2450c2a1ba922ed9442f136238d6bc88b
   "metadata": {
    "lines_to_next_cell": 0
   },
   "outputs": [],
   "source": [
    "names(colData(sfe))"
   ]
  },
  {
   "cell_type": "markdown",
<<<<<<< HEAD
<<<<<<< HEAD
<<<<<<< HEAD
   "id": "7712565c",
||||||| 6a30bf1
   "id": "05d5216b",
=======
   "id": "6d9aaba8",
>>>>>>> documentation-devel
||||||| d28b18c
   "id": "6d9aaba8",
=======
   "id": "0dbd93dc",
>>>>>>> documentation-devel
||||||| 6893f63
<<<<<<< HEAD
   "id": "7712565c",
||||||| 6a30bf1
   "id": "05d5216b",
=======
   "id": "6d9aaba8",
>>>>>>> documentation-devel
=======
   "id": "90265eb3",
>>>>>>> c74c98c2450c2a1ba922ed9442f136238d6bc88b
   "metadata": {
    "lines_to_next_cell": 0
   },
   "source": [
    "Cell area, aspect ratio, marker and stain intensities, i.e. all columns before \"sample_id\" come from Nanostring's website. The `sf` package can compute areas of the cell polygons. In R, the `EBImage` package can compute more morphological metrics such as aspect ratio, eccentricity, orientation, and etc., but it requires the data to be converted to raster. OpenCV can compute more morphological metrics for polygons without converting to raster, but it needs to be called from Python or C++. Since the math behind many basic morphological metrics is pretty simple, we may add those to `Voyager` in a future version.\n",
    "\n",
    "Since plotting 100,000 polygons is slow and the plot isn't large enough for us to see the polygons anyway, we use [`scattermore`](https://github.com/exaexa/scattermore) to rasterize the plot to speed up plotting. Instead of plotting every single point, now `ggplot` merely displays a rasterized image."
   ]
  },
  {
   "cell_type": "code",
   "execution_count": null,
<<<<<<< HEAD
<<<<<<< HEAD
<<<<<<< HEAD
   "id": "a2159077",
||||||| 6a30bf1
   "id": "88d6fff9",
=======
   "id": "b0c4d54a",
>>>>>>> documentation-devel
||||||| d28b18c
   "id": "b0c4d54a",
=======
   "id": "21228831",
>>>>>>> documentation-devel
||||||| 6893f63
<<<<<<< HEAD
   "id": "a2159077",
||||||| 6a30bf1
   "id": "88d6fff9",
=======
   "id": "b0c4d54a",
>>>>>>> documentation-devel
=======
   "id": "5ba982ca",
>>>>>>> c74c98c2450c2a1ba922ed9442f136238d6bc88b
   "metadata": {},
   "outputs": [],
   "source": [
    "# Function to plot violin plot for distribution and spatial at once\n",
    "plot_violin_spatial <- function(sfe, feature) {\n",
    "    violin <- plotColData(sfe, feature, point_fun = function(...) list())\n",
    "    spatial <- plotSpatialFeature(sfe, feature, colGeometryName = \"centroids\",\n",
    "                                  scattermore = TRUE)\n",
    "    violin + spatial +\n",
    "        plot_layout(widths = c(1, 2))\n",
    "}"
   ]
  },
  {
   "cell_type": "markdown",
<<<<<<< HEAD
<<<<<<< HEAD
<<<<<<< HEAD
   "id": "fc88dbc7",
||||||| 6a30bf1
   "id": "8f99e643",
=======
   "id": "efd174d1",
>>>>>>> documentation-devel
||||||| d28b18c
   "id": "efd174d1",
=======
   "id": "23e4d38e",
>>>>>>> documentation-devel
||||||| 6893f63
<<<<<<< HEAD
   "id": "fc88dbc7",
||||||| 6a30bf1
   "id": "8f99e643",
=======
   "id": "efd174d1",
>>>>>>> documentation-devel
=======
   "id": "f5b8266f",
>>>>>>> c74c98c2450c2a1ba922ed9442f136238d6bc88b
   "metadata": {
    "lines_to_next_cell": 0
   },
   "source": [
    "Number of transcript spots detected per cell"
   ]
  },
  {
   "cell_type": "code",
   "execution_count": null,
<<<<<<< HEAD
<<<<<<< HEAD
<<<<<<< HEAD
   "id": "0260a97c",
||||||| 6a30bf1
   "id": "17068296",
=======
   "id": "a4c61dbe",
>>>>>>> documentation-devel
||||||| d28b18c
   "id": "a4c61dbe",
=======
   "id": "c842cf11",
>>>>>>> documentation-devel
||||||| 6893f63
<<<<<<< HEAD
   "id": "0260a97c",
||||||| 6a30bf1
   "id": "17068296",
=======
   "id": "a4c61dbe",
>>>>>>> documentation-devel
=======
   "id": "2074a2a6",
>>>>>>> c74c98c2450c2a1ba922ed9442f136238d6bc88b
   "metadata": {
    "fig.height": 4,
    "fig.width": 8
   },
   "outputs": [],
   "source": [
    "plot_violin_spatial(sfe, \"nCounts\")"
   ]
  },
  {
   "cell_type": "code",
   "execution_count": null,
<<<<<<< HEAD
<<<<<<< HEAD
<<<<<<< HEAD
   "id": "ad3d5bad",
||||||| 6a30bf1
   "id": "587eeea4",
=======
   "id": "c5d521a4",
>>>>>>> documentation-devel
||||||| d28b18c
   "id": "c5d521a4",
=======
   "id": "32cec4fc",
>>>>>>> documentation-devel
||||||| 6893f63
<<<<<<< HEAD
   "id": "ad3d5bad",
||||||| 6a30bf1
   "id": "587eeea4",
=======
   "id": "c5d521a4",
>>>>>>> documentation-devel
=======
   "id": "0e81929b",
>>>>>>> c74c98c2450c2a1ba922ed9442f136238d6bc88b
   "metadata": {},
   "outputs": [],
   "source": [
    "summary(sfe$nCounts)"
   ]
  },
  {
   "cell_type": "markdown",
<<<<<<< HEAD
<<<<<<< HEAD
<<<<<<< HEAD
   "id": "3e41c494",
||||||| 6a30bf1
   "id": "6880a86f",
=======
   "id": "25960f28",
>>>>>>> documentation-devel
||||||| d28b18c
   "id": "25960f28",
=======
   "id": "d51bebbc",
>>>>>>> documentation-devel
||||||| 6893f63
<<<<<<< HEAD
   "id": "3e41c494",
||||||| 6a30bf1
   "id": "6880a86f",
=======
   "id": "25960f28",
>>>>>>> documentation-devel
=======
   "id": "d3902af3",
>>>>>>> c74c98c2450c2a1ba922ed9442f136238d6bc88b
   "metadata": {},
   "source": [
    "To make nCounts and nGenes more comparable across datasets, we divide them by the number of genes probed. In this dataset, there are 960 genes, and 20 negative controls. However, because different genes may be probed in different datasets, which can be from different tissues, this does not make nCounts and nGenes completely comparable across datasets. However, it may still be somewhat comparable, since genes highly expressed in major cell types in the tissue tend to be selected for the gene panel."
   ]
  },
  {
   "cell_type": "code",
   "execution_count": null,
<<<<<<< HEAD
<<<<<<< HEAD
<<<<<<< HEAD
   "id": "7ac34786",
||||||| 6a30bf1
   "id": "3b564bc3",
=======
   "id": "ba05c8ef",
>>>>>>> documentation-devel
||||||| d28b18c
   "id": "ba05c8ef",
=======
   "id": "cdbc2ced",
>>>>>>> documentation-devel
||||||| 6893f63
<<<<<<< HEAD
   "id": "7ac34786",
||||||| 6a30bf1
   "id": "3b564bc3",
=======
   "id": "ba05c8ef",
>>>>>>> documentation-devel
=======
   "id": "0dde6806",
>>>>>>> c74c98c2450c2a1ba922ed9442f136238d6bc88b
   "metadata": {},
   "outputs": [],
   "source": [
    "n_panel <- 960\n",
    "colData(sfe)$nCounts_normed <- sfe$nCounts/n_panel\n",
    "colData(sfe)$nGenes_normed <- sfe$nGenes/n_panel"
   ]
  },
  {
   "cell_type": "code",
   "execution_count": null,
<<<<<<< HEAD
<<<<<<< HEAD
<<<<<<< HEAD
   "id": "624ebaf8",
||||||| 6a30bf1
   "id": "c7efe57b",
=======
   "id": "a43f6dcf",
>>>>>>> documentation-devel
||||||| d28b18c
   "id": "a43f6dcf",
=======
   "id": "1223c3d2",
>>>>>>> documentation-devel
||||||| 6893f63
<<<<<<< HEAD
   "id": "624ebaf8",
||||||| 6a30bf1
   "id": "c7efe57b",
=======
   "id": "a43f6dcf",
>>>>>>> documentation-devel
=======
   "id": "8c832a80",
>>>>>>> c74c98c2450c2a1ba922ed9442f136238d6bc88b
   "metadata": {},
   "outputs": [],
   "source": [
    "plotColDataHistogram(sfe, c(\"nCounts_normed\", \"nGenes_normed\"))"
   ]
  },
  {
   "cell_type": "markdown",
<<<<<<< HEAD
<<<<<<< HEAD
<<<<<<< HEAD
   "id": "d8d5094a",
||||||| 6a30bf1
   "id": "18924b21",
=======
   "id": "d11fadce",
>>>>>>> documentation-devel
||||||| d28b18c
   "id": "d11fadce",
=======
   "id": "c055ef9b",
>>>>>>> documentation-devel
||||||| 6893f63
<<<<<<< HEAD
   "id": "d8d5094a",
||||||| 6a30bf1
   "id": "18924b21",
=======
   "id": "d11fadce",
>>>>>>> documentation-devel
=======
   "id": "a0a0cd18",
>>>>>>> c74c98c2450c2a1ba922ed9442f136238d6bc88b
   "metadata": {
    "lines_to_next_cell": 0
   },
   "source": [
    "This means the cells mostly have less than 1 transcript count per gene on average, which is not surprising since not all cells express all genes. Most cells are detected to express less than 30% of all genes probed.\n",
    "\n",
    "Number of genes (out of 980) detected per cell"
   ]
  },
  {
   "cell_type": "code",
   "execution_count": null,
<<<<<<< HEAD
<<<<<<< HEAD
<<<<<<< HEAD
   "id": "b9685830",
||||||| 6a30bf1
   "id": "33bacb57",
=======
   "id": "f8212c7c",
>>>>>>> documentation-devel
||||||| d28b18c
   "id": "f8212c7c",
=======
   "id": "ce59dc04",
>>>>>>> documentation-devel
||||||| 6893f63
<<<<<<< HEAD
   "id": "b9685830",
||||||| 6a30bf1
   "id": "33bacb57",
=======
   "id": "f8212c7c",
>>>>>>> documentation-devel
=======
   "id": "186b553a",
>>>>>>> c74c98c2450c2a1ba922ed9442f136238d6bc88b
   "metadata": {
    "fig.height": 4,
    "fig.width": 8
   },
   "outputs": [],
   "source": [
    "plot_violin_spatial(sfe, \"nGenes\")"
   ]
  },
  {
   "cell_type": "code",
   "execution_count": null,
<<<<<<< HEAD
<<<<<<< HEAD
<<<<<<< HEAD
   "id": "651f6daa",
||||||| 6a30bf1
   "id": "15acb139",
=======
   "id": "0a8b4f9e",
>>>>>>> documentation-devel
||||||| d28b18c
   "id": "0a8b4f9e",
=======
   "id": "ae95ed02",
>>>>>>> documentation-devel
||||||| 6893f63
<<<<<<< HEAD
   "id": "651f6daa",
||||||| 6a30bf1
   "id": "15acb139",
=======
   "id": "0a8b4f9e",
>>>>>>> documentation-devel
=======
   "id": "644d8676",
>>>>>>> c74c98c2450c2a1ba922ed9442f136238d6bc88b
   "metadata": {},
   "outputs": [],
   "source": [
    "summary(sfe$nGenes)"
   ]
  },
  {
   "cell_type": "markdown",
<<<<<<< HEAD
<<<<<<< HEAD
<<<<<<< HEAD
   "id": "59811117",
||||||| 6a30bf1
   "id": "15937b36",
=======
   "id": "dcedfb5b",
>>>>>>> documentation-devel
||||||| d28b18c
   "id": "dcedfb5b",
=======
   "id": "428f3e80",
>>>>>>> documentation-devel
||||||| 6893f63
<<<<<<< HEAD
   "id": "59811117",
||||||| 6a30bf1
   "id": "15937b36",
=======
   "id": "dcedfb5b",
>>>>>>> documentation-devel
=======
   "id": "a7f24b4b",
>>>>>>> c74c98c2450c2a1ba922ed9442f136238d6bc88b
   "metadata": {
    "lines_to_next_cell": 0
   },
   "source": [
    "Based on the spatial plot, it seems that nCounts and nGenes are biologically relevant, but there are cells with no transcripts detected. \n",
    "\n",
    "How nCounts relates to nGenes"
   ]
  },
  {
   "cell_type": "code",
   "execution_count": null,
<<<<<<< HEAD
<<<<<<< HEAD
<<<<<<< HEAD
   "id": "04683d57",
||||||| 6a30bf1
   "id": "2a49d563",
=======
   "id": "1abe2f5a",
>>>>>>> documentation-devel
||||||| d28b18c
   "id": "1abe2f5a",
=======
   "id": "9a329d4e",
>>>>>>> documentation-devel
||||||| 6893f63
<<<<<<< HEAD
   "id": "04683d57",
||||||| 6a30bf1
   "id": "2a49d563",
=======
   "id": "1abe2f5a",
>>>>>>> documentation-devel
=======
   "id": "8a0b19de",
>>>>>>> c74c98c2450c2a1ba922ed9442f136238d6bc88b
   "metadata": {},
   "outputs": [],
   "source": [
    "plotColDataBin2D(sfe, \"nCounts\", \"nGenes\")"
   ]
  },
  {
   "cell_type": "markdown",
<<<<<<< HEAD
<<<<<<< HEAD
<<<<<<< HEAD
   "id": "859bf101",
||||||| 6a30bf1
   "id": "c4db5b0c",
=======
   "id": "88f6af93",
>>>>>>> documentation-devel
||||||| d28b18c
   "id": "88f6af93",
=======
   "id": "a547644a",
>>>>>>> documentation-devel
||||||| 6893f63
<<<<<<< HEAD
   "id": "859bf101",
||||||| 6a30bf1
   "id": "c4db5b0c",
=======
   "id": "88f6af93",
>>>>>>> documentation-devel
=======
   "id": "22239354",
>>>>>>> c74c98c2450c2a1ba922ed9442f136238d6bc88b
   "metadata": {
    "lines_to_next_cell": 0
   },
   "source": [
    "What's the nature of the cells without transcripts?"
   ]
  },
  {
   "cell_type": "code",
   "execution_count": null,
<<<<<<< HEAD
<<<<<<< HEAD
<<<<<<< HEAD
   "id": "c3a4f7d4",
||||||| 6a30bf1
   "id": "67e3676e",
=======
   "id": "2b2aa897",
>>>>>>> documentation-devel
||||||| d28b18c
   "id": "2b2aa897",
=======
   "id": "5dc286aa",
>>>>>>> documentation-devel
||||||| 6893f63
<<<<<<< HEAD
   "id": "c3a4f7d4",
||||||| 6a30bf1
   "id": "67e3676e",
=======
   "id": "2b2aa897",
>>>>>>> documentation-devel
=======
   "id": "6691ea55",
>>>>>>> c74c98c2450c2a1ba922ed9442f136238d6bc88b
   "metadata": {},
   "outputs": [],
   "source": [
    "colData(sfe)$is_empty <- colData(sfe)$nCounts < 1"
   ]
  },
  {
   "cell_type": "code",
   "execution_count": null,
<<<<<<< HEAD
<<<<<<< HEAD
<<<<<<< HEAD
   "id": "1ec37ba9",
||||||| 6a30bf1
   "id": "7dde85d8",
=======
   "id": "be795ab1",
>>>>>>> documentation-devel
||||||| d28b18c
   "id": "be795ab1",
=======
   "id": "3fd95a97",
>>>>>>> documentation-devel
||||||| 6893f63
<<<<<<< HEAD
   "id": "1ec37ba9",
||||||| 6a30bf1
   "id": "7dde85d8",
=======
   "id": "be795ab1",
>>>>>>> documentation-devel
=======
   "id": "e844a7c7",
>>>>>>> c74c98c2450c2a1ba922ed9442f136238d6bc88b
   "metadata": {},
   "outputs": [],
   "source": [
    "plotSpatialFeature(sfe, \"is_empty\", \"cellSeg\")"
   ]
  },
  {
   "cell_type": "markdown",
<<<<<<< HEAD
<<<<<<< HEAD
<<<<<<< HEAD
   "id": "d7a067f3",
||||||| 6a30bf1
   "id": "8fb1609c",
=======
   "id": "481e4e74",
>>>>>>> documentation-devel
||||||| d28b18c
   "id": "481e4e74",
=======
   "id": "83dfddc4",
>>>>>>> documentation-devel
||||||| 6893f63
<<<<<<< HEAD
   "id": "d7a067f3",
||||||| 6a30bf1
   "id": "8fb1609c",
=======
   "id": "481e4e74",
>>>>>>> documentation-devel
=======
   "id": "52b8ff12",
>>>>>>> c74c98c2450c2a1ba922ed9442f136238d6bc88b
   "metadata": {
    "lines_to_next_cell": 0
   },
   "source": [
    "The cells without transcripts are in the central cavity."
   ]
  },
  {
   "cell_type": "code",
   "execution_count": null,
<<<<<<< HEAD
<<<<<<< HEAD
<<<<<<< HEAD
   "id": "02d627e5",
||||||| 6a30bf1
   "id": "63d58cfe",
=======
   "id": "a98e6cf1",
>>>>>>> documentation-devel
||||||| d28b18c
   "id": "a98e6cf1",
=======
   "id": "453525f2",
>>>>>>> documentation-devel
||||||| 6893f63
<<<<<<< HEAD
   "id": "02d627e5",
||||||| 6a30bf1
   "id": "63d58cfe",
=======
   "id": "a98e6cf1",
>>>>>>> documentation-devel
=======
   "id": "9b4cae1f",
>>>>>>> c74c98c2450c2a1ba922ed9442f136238d6bc88b
   "metadata": {},
   "outputs": [],
   "source": [
    "plotColData(sfe, x = \"Area\", y = \"is_empty\")"
   ]
  },
  {
   "cell_type": "markdown",
<<<<<<< HEAD
<<<<<<< HEAD
<<<<<<< HEAD
   "id": "89c53657",
||||||| 6a30bf1
   "id": "70e9072b",
=======
   "id": "26b0bbc6",
>>>>>>> documentation-devel
||||||| d28b18c
   "id": "26b0bbc6",
=======
   "id": "f7c74003",
>>>>>>> documentation-devel
||||||| 6893f63
<<<<<<< HEAD
   "id": "89c53657",
||||||| 6a30bf1
   "id": "70e9072b",
=======
   "id": "26b0bbc6",
>>>>>>> documentation-devel
=======
   "id": "3bba9bc1",
>>>>>>> c74c98c2450c2a1ba922ed9442f136238d6bc88b
   "metadata": {
    "lines_to_next_cell": 0
   },
   "source": [
    "The \"empty\" cells tend to be smaller than other cells but there are also some really large ones. \n",
    "\n",
    "Cell area distribution"
   ]
  },
  {
   "cell_type": "code",
   "execution_count": null,
<<<<<<< HEAD
<<<<<<< HEAD
<<<<<<< HEAD
   "id": "343f2599",
||||||| 6a30bf1
   "id": "6ff9459f",
=======
   "id": "ce52427b",
>>>>>>> documentation-devel
||||||| d28b18c
   "id": "ce52427b",
=======
   "id": "6ca8cfed",
>>>>>>> documentation-devel
||||||| 6893f63
<<<<<<< HEAD
   "id": "343f2599",
||||||| 6a30bf1
   "id": "6ff9459f",
=======
   "id": "ce52427b",
>>>>>>> documentation-devel
=======
   "id": "1080437e",
>>>>>>> c74c98c2450c2a1ba922ed9442f136238d6bc88b
   "metadata": {
    "fig.height": 4,
    "fig.width": 8
   },
   "outputs": [],
   "source": [
    "plot_violin_spatial(sfe, \"Area\")"
   ]
  },
  {
   "cell_type": "markdown",
<<<<<<< HEAD
<<<<<<< HEAD
<<<<<<< HEAD
   "id": "f10f27ab",
||||||| 6a30bf1
   "id": "ae9ab477",
=======
   "id": "e024747d",
>>>>>>> documentation-devel
||||||| d28b18c
   "id": "e024747d",
=======
   "id": "368e67ba",
>>>>>>> documentation-devel
||||||| 6893f63
<<<<<<< HEAD
   "id": "f10f27ab",
||||||| 6a30bf1
   "id": "ae9ab477",
=======
   "id": "e024747d",
>>>>>>> documentation-devel
=======
   "id": "fa82fc1f",
>>>>>>> c74c98c2450c2a1ba922ed9442f136238d6bc88b
   "metadata": {
    "lines_to_next_cell": 0
   },
   "source": [
    "Larger cells are more likely to be found in certain areas of the tissue. It could be biological, or that under-segmentation is more likely for that cell type or that tissue region.\n",
    "\n",
    "How does area relate to total counts?"
   ]
  },
  {
   "cell_type": "code",
   "execution_count": null,
<<<<<<< HEAD
<<<<<<< HEAD
<<<<<<< HEAD
   "id": "3405efb2",
||||||| 6a30bf1
   "id": "a5230bd4",
=======
   "id": "971251ad",
>>>>>>> documentation-devel
||||||| d28b18c
   "id": "971251ad",
=======
   "id": "bbe9d391",
>>>>>>> documentation-devel
||||||| 6893f63
<<<<<<< HEAD
   "id": "3405efb2",
||||||| 6a30bf1
   "id": "a5230bd4",
=======
   "id": "971251ad",
>>>>>>> documentation-devel
=======
   "id": "e0a1eae9",
>>>>>>> c74c98c2450c2a1ba922ed9442f136238d6bc88b
   "metadata": {},
   "outputs": [],
   "source": [
    "plotColDataBin2D(sfe, \"nCounts\", \"Area\") + theme_bw()"
   ]
  },
  {
   "cell_type": "markdown",
<<<<<<< HEAD
<<<<<<< HEAD
<<<<<<< HEAD
   "id": "becefff1",
||||||| 6a30bf1
   "id": "76e2ad26",
=======
   "id": "95235212",
>>>>>>> documentation-devel
||||||| d28b18c
   "id": "95235212",
=======
   "id": "9de134b0",
>>>>>>> documentation-devel
||||||| 6893f63
<<<<<<< HEAD
   "id": "becefff1",
||||||| 6a30bf1
   "id": "76e2ad26",
=======
   "id": "95235212",
>>>>>>> documentation-devel
=======
   "id": "6eb779c3",
>>>>>>> c74c98c2450c2a1ba922ed9442f136238d6bc88b
   "metadata": {
    "lines_to_next_cell": 0
   },
   "source": [
    "While there may vaguely seem that cells with more total counts tend to be larger (at least in this z-plane), there are some cells that are large but have low total counts.\n",
    "\n",
    "Negative control probes are used in this dataset for QC. Here we calculate the proportion of transcripts attributed to the negative controls."
   ]
  },
  {
   "cell_type": "code",
   "execution_count": null,
<<<<<<< HEAD
<<<<<<< HEAD
<<<<<<< HEAD
   "id": "2e207600",
||||||| 6a30bf1
   "id": "37dcdaab",
=======
   "id": "d94e6916",
>>>>>>> documentation-devel
||||||| d28b18c
   "id": "d94e6916",
=======
   "id": "7be763fc",
>>>>>>> documentation-devel
||||||| 6893f63
<<<<<<< HEAD
   "id": "2e207600",
||||||| 6a30bf1
   "id": "37dcdaab",
=======
   "id": "d94e6916",
>>>>>>> documentation-devel
=======
   "id": "a83c6765",
>>>>>>> c74c98c2450c2a1ba922ed9442f136238d6bc88b
   "metadata": {},
   "outputs": [],
   "source": [
    "neg_inds <- str_detect(rownames(sfe), \"^NegPrb\")\n",
    "# Number of negative control probes\n",
    "sum(neg_inds)\n",
    "colData(sfe)$prop_neg <- colSums(counts(sfe)[neg_inds,])/colData(sfe)$nCounts"
   ]
  },
  {
   "cell_type": "code",
   "execution_count": null,
<<<<<<< HEAD
<<<<<<< HEAD
<<<<<<< HEAD
   "id": "257640da",
||||||| 6a30bf1
   "id": "e50e7b2a",
=======
   "id": "66f4586a",
>>>>>>> documentation-devel
||||||| d28b18c
   "id": "66f4586a",
=======
   "id": "ea9f5a7e",
>>>>>>> documentation-devel
||||||| 6893f63
<<<<<<< HEAD
   "id": "257640da",
||||||| 6a30bf1
   "id": "e50e7b2a",
=======
   "id": "66f4586a",
>>>>>>> documentation-devel
=======
   "id": "3e167c4e",
>>>>>>> c74c98c2450c2a1ba922ed9442f136238d6bc88b
   "metadata": {
    "fig.height": 4,
    "fig.width": 8
   },
   "outputs": [],
   "source": [
    "plot_violin_spatial(sfe, \"prop_neg\")"
   ]
  },
  {
   "cell_type": "markdown",
<<<<<<< HEAD
<<<<<<< HEAD
<<<<<<< HEAD
   "id": "54b41bdd",
||||||| 6a30bf1
   "id": "d370171a",
=======
   "id": "d6ffcd5e",
>>>>>>> documentation-devel
||||||| d28b18c
   "id": "d6ffcd5e",
=======
   "id": "354e8a03",
>>>>>>> documentation-devel
||||||| 6893f63
<<<<<<< HEAD
   "id": "54b41bdd",
||||||| 6a30bf1
   "id": "d370171a",
=======
   "id": "d6ffcd5e",
>>>>>>> documentation-devel
=======
   "id": "97a83d99",
>>>>>>> c74c98c2450c2a1ba922ed9442f136238d6bc88b
   "metadata": {},
   "source": [
    "The NA's are empty cells, and the proportion is very low except for a few outliers. How does prop_neg relate to nCounts?"
   ]
  },
  {
   "cell_type": "code",
   "execution_count": null,
<<<<<<< HEAD
<<<<<<< HEAD
<<<<<<< HEAD
   "id": "76d016ec",
||||||| 6a30bf1
   "id": "e82e9114",
=======
   "id": "50f8ce26",
>>>>>>> documentation-devel
||||||| d28b18c
   "id": "50f8ce26",
=======
   "id": "4c3e5e19",
>>>>>>> documentation-devel
||||||| 6893f63
<<<<<<< HEAD
   "id": "76d016ec",
||||||| 6a30bf1
   "id": "e82e9114",
=======
   "id": "50f8ce26",
>>>>>>> documentation-devel
=======
   "id": "1d793fd9",
>>>>>>> c74c98c2450c2a1ba922ed9442f136238d6bc88b
   "metadata": {},
   "outputs": [],
   "source": [
    "plotColDataBin2D(sfe, \"nCounts\", \"prop_neg\") +\n",
    "    scale_fill_viridis_c()"
   ]
  },
  {
   "cell_type": "markdown",
<<<<<<< HEAD
<<<<<<< HEAD
<<<<<<< HEAD
   "id": "97ecff7f",
||||||| 6a30bf1
   "id": "e6c8fb15",
=======
   "id": "49f23aca",
>>>>>>> documentation-devel
||||||| d28b18c
   "id": "49f23aca",
=======
   "id": "dbdfa5f0",
>>>>>>> documentation-devel
||||||| 6893f63
<<<<<<< HEAD
   "id": "97ecff7f",
||||||| 6a30bf1
   "id": "e6c8fb15",
=======
   "id": "49f23aca",
>>>>>>> documentation-devel
=======
   "id": "2045a7ba",
>>>>>>> c74c98c2450c2a1ba922ed9442f136238d6bc88b
   "metadata": {
    "lines_to_next_cell": 0
   },
   "source": [
    "This looks kind of like the proportion of mitochondrial counts vs. nCounts plot for scRNA-seq, where cells with fewer total counts tend to have higher proportion of mitochondrial counts."
   ]
  },
  {
   "cell_type": "code",
   "execution_count": null,
<<<<<<< HEAD
<<<<<<< HEAD
<<<<<<< HEAD
   "id": "c7517954",
||||||| 6a30bf1
   "id": "745bc0cc",
=======
   "id": "86eba85a",
>>>>>>> documentation-devel
||||||| d28b18c
   "id": "86eba85a",
=======
   "id": "a86f5690",
>>>>>>> documentation-devel
||||||| 6893f63
<<<<<<< HEAD
   "id": "c7517954",
||||||| 6a30bf1
   "id": "745bc0cc",
=======
   "id": "86eba85a",
>>>>>>> documentation-devel
=======
   "id": "fafa4bb9",
>>>>>>> c74c98c2450c2a1ba922ed9442f136238d6bc88b
   "metadata": {},
   "outputs": [],
   "source": [
    "# The zeros are removed\n",
    "plotColDataHistogram(sfe, \"prop_neg\") +\n",
    "    scale_x_log10()"
   ]
  },
  {
   "cell_type": "markdown",
<<<<<<< HEAD
<<<<<<< HEAD
<<<<<<< HEAD
   "id": "984dfa8e",
||||||| 6a30bf1
   "id": "d5f2b9ed",
=======
   "id": "6259725f",
>>>>>>> documentation-devel
||||||| d28b18c
   "id": "6259725f",
=======
   "id": "6158829d",
>>>>>>> documentation-devel
||||||| 6893f63
<<<<<<< HEAD
   "id": "984dfa8e",
||||||| 6a30bf1
   "id": "d5f2b9ed",
=======
   "id": "6259725f",
>>>>>>> documentation-devel
=======
   "id": "7d35e26a",
>>>>>>> c74c98c2450c2a1ba922ed9442f136238d6bc88b
   "metadata": {},
   "source": [
    "The distribution is not obviously bimodal, and since the x-axis is log transformed to better visualize the distribution, the 0's have been removed. It's kind of arbitrary; for now we'll remove cells with more than 10% of transcripts from negative controls."
   ]
  },
  {
   "cell_type": "code",
   "execution_count": null,
<<<<<<< HEAD
<<<<<<< HEAD
<<<<<<< HEAD
   "id": "746d3864",
||||||| 6a30bf1
   "id": "b3bdfae3",
=======
   "id": "c28a7f33",
>>>>>>> documentation-devel
||||||| d28b18c
   "id": "c28a7f33",
=======
   "id": "41c9422f",
>>>>>>> documentation-devel
||||||| 6893f63
<<<<<<< HEAD
   "id": "746d3864",
||||||| 6a30bf1
   "id": "b3bdfae3",
=======
   "id": "c28a7f33",
>>>>>>> documentation-devel
=======
   "id": "5c563aed",
>>>>>>> c74c98c2450c2a1ba922ed9442f136238d6bc88b
   "metadata": {},
   "outputs": [],
   "source": [
    "# Remove low quality cells\n",
    "(sfe <- sfe[,!sfe$is_empty & sfe$prop_neg < 0.1])"
   ]
  },
  {
   "cell_type": "markdown",
<<<<<<< HEAD
<<<<<<< HEAD
<<<<<<< HEAD
   "id": "9be8fe4e",
||||||| 6a30bf1
   "id": "815f3f57",
=======
   "id": "fd869403",
>>>>>>> documentation-devel
||||||| d28b18c
   "id": "fd869403",
=======
   "id": "7fe3dcb7",
>>>>>>> documentation-devel
||||||| 6893f63
<<<<<<< HEAD
   "id": "9be8fe4e",
||||||| 6a30bf1
   "id": "815f3f57",
=======
   "id": "fd869403",
>>>>>>> documentation-devel
=======
   "id": "2c0f1f80",
>>>>>>> c74c98c2450c2a1ba922ed9442f136238d6bc88b
   "metadata": {
    "lines_to_next_cell": 0
   },
   "source": [
    "After removing the low quality cells, there are 100,095 cells left.\n",
    "\n",
    "### Markers\n",
    "Nanostring provides some cell stain and marker intensities in the cell metadata."
   ]
  },
  {
   "cell_type": "code",
   "execution_count": null,
<<<<<<< HEAD
<<<<<<< HEAD
<<<<<<< HEAD
   "id": "a0835b03",
||||||| 6a30bf1
   "id": "1d728d30",
=======
   "id": "8c9d7872",
>>>>>>> documentation-devel
||||||| d28b18c
   "id": "8c9d7872",
=======
   "id": "165dbf79",
>>>>>>> documentation-devel
||||||| 6893f63
<<<<<<< HEAD
   "id": "a0835b03",
||||||| 6a30bf1
   "id": "1d728d30",
=======
   "id": "8c9d7872",
>>>>>>> documentation-devel
=======
   "id": "3933407d",
>>>>>>> c74c98c2450c2a1ba922ed9442f136238d6bc88b
   "metadata": {},
   "outputs": [],
   "source": [
    "names(colData(sfe))"
   ]
  },
  {
   "cell_type": "markdown",
<<<<<<< HEAD
<<<<<<< HEAD
<<<<<<< HEAD
   "id": "693d9ebc",
||||||| 6a30bf1
   "id": "8d757e7f",
=======
   "id": "64b882dc",
>>>>>>> documentation-devel
||||||| d28b18c
   "id": "64b882dc",
=======
   "id": "8651131e",
>>>>>>> documentation-devel
||||||| 6893f63
<<<<<<< HEAD
   "id": "693d9ebc",
||||||| 6a30bf1
   "id": "8d757e7f",
=======
   "id": "64b882dc",
>>>>>>> documentation-devel
=======
   "id": "0da7f312",
>>>>>>> c74c98c2450c2a1ba922ed9442f136238d6bc88b
   "metadata": {
    "lines_to_next_cell": 0
   },
   "source": [
    "Here we plot aspect ratio and mean intensity of cells stains and markers, which have not been plotted before. PanCK is a marker for epithelial cells. CD45 is a leukocyte marker. CD3 is a T cell marker. Since it takes quite a while to plot 100,000 cells 6 times, `scattermore` really helps."
   ]
  },
  {
   "cell_type": "code",
   "execution_count": null,
<<<<<<< HEAD
<<<<<<< HEAD
<<<<<<< HEAD
   "id": "95f64b38",
||||||| 6a30bf1
   "id": "e9ac7ea9",
=======
   "id": "8abe3497",
>>>>>>> documentation-devel
||||||| d28b18c
   "id": "8abe3497",
=======
   "id": "1b01aede",
>>>>>>> documentation-devel
||||||| 6893f63
<<<<<<< HEAD
   "id": "95f64b38",
||||||| 6a30bf1
   "id": "e9ac7ea9",
=======
   "id": "8abe3497",
>>>>>>> documentation-devel
=======
   "id": "ede95eec",
>>>>>>> c74c98c2450c2a1ba922ed9442f136238d6bc88b
   "metadata": {
    "fig.height": 9,
    "fig.width": 10
   },
   "outputs": [],
   "source": [
    "plotSpatialFeature(sfe, c(\"AspectRatio\", \"Mean.DAPI\", \"Mean.MembraneStain\", \n",
    "                          \"Mean.PanCK\", \"Mean.CD45\", \"Mean.CD3\"),\n",
    "                   colGeometryName = \"centroids\", ncol = 2, scattermore = TRUE)"
   ]
  },
  {
   "cell_type": "markdown",
<<<<<<< HEAD
<<<<<<< HEAD
<<<<<<< HEAD
   "id": "8227a521",
||||||| 6a30bf1
   "id": "e25c66d8",
=======
   "id": "ad6d4ca5",
>>>>>>> documentation-devel
||||||| d28b18c
   "id": "ad6d4ca5",
=======
   "id": "545bdf48",
>>>>>>> documentation-devel
||||||| 6893f63
<<<<<<< HEAD
   "id": "8227a521",
||||||| 6a30bf1
   "id": "e25c66d8",
=======
   "id": "ad6d4ca5",
>>>>>>> documentation-devel
=======
   "id": "b632bf66",
>>>>>>> c74c98c2450c2a1ba922ed9442f136238d6bc88b
   "metadata": {
    "lines_to_next_cell": 0
   },
   "source": [
    "## Genes"
   ]
  },
  {
   "cell_type": "code",
   "execution_count": null,
<<<<<<< HEAD
<<<<<<< HEAD
<<<<<<< HEAD
   "id": "1f7e7787",
||||||| 6a30bf1
   "id": "975569c2",
=======
   "id": "c85f05ed",
>>>>>>> documentation-devel
||||||| d28b18c
   "id": "c85f05ed",
=======
   "id": "7c95e9d1",
>>>>>>> documentation-devel
||||||| 6893f63
<<<<<<< HEAD
   "id": "1f7e7787",
||||||| 6a30bf1
   "id": "975569c2",
=======
   "id": "c85f05ed",
>>>>>>> documentation-devel
=======
   "id": "2db78369",
>>>>>>> c74c98c2450c2a1ba922ed9442f136238d6bc88b
   "metadata": {},
   "outputs": [],
   "source": [
    "rowData(sfe)$means <- rowMeans(counts(sfe))\n",
    "rowData(sfe)$vars <- rowVars(counts(sfe))\n",
    "rowData(sfe)$is_neg <- neg_inds"
   ]
  },
  {
   "cell_type": "code",
   "execution_count": null,
<<<<<<< HEAD
<<<<<<< HEAD
<<<<<<< HEAD
   "id": "a295d95f",
||||||| 6a30bf1
   "id": "233ca67c",
=======
   "id": "0497a2fe",
>>>>>>> documentation-devel
||||||| d28b18c
   "id": "0497a2fe",
=======
   "id": "6630cdf1",
>>>>>>> documentation-devel
||||||| 6893f63
<<<<<<< HEAD
   "id": "a295d95f",
||||||| 6a30bf1
   "id": "233ca67c",
=======
   "id": "0497a2fe",
>>>>>>> documentation-devel
=======
   "id": "d8b7b964",
>>>>>>> c74c98c2450c2a1ba922ed9442f136238d6bc88b
   "metadata": {},
   "outputs": [],
   "source": [
    "plotRowDataBin2D(sfe, \"means\", \"vars\", subset = \"is_neg\", bins = 50) +\n",
    "    geom_abline(slope = 1, intercept = 0, color = \"red\") +\n",
    "    scale_x_log10() + scale_y_log10() +\n",
    "    annotation_logticks() +\n",
    "    coord_equal()"
   ]
  },
  {
   "cell_type": "markdown",
<<<<<<< HEAD
<<<<<<< HEAD
<<<<<<< HEAD
   "id": "cc09ec28",
||||||| 6a30bf1
   "id": "af4b99e5",
=======
   "id": "c2d0ec79",
>>>>>>> documentation-devel
||||||| d28b18c
   "id": "c2d0ec79",
=======
   "id": "c7092b56",
>>>>>>> documentation-devel
||||||| 6893f63
<<<<<<< HEAD
   "id": "cc09ec28",
||||||| 6a30bf1
   "id": "af4b99e5",
=======
   "id": "c2d0ec79",
>>>>>>> documentation-devel
=======
   "id": "5c969dd2",
>>>>>>> c74c98c2450c2a1ba922ed9442f136238d6bc88b
   "metadata": {},
   "source": [
    "The red line $y = x$ is expected from Poisson data. Gene expression in this dataset has more variance than expected from Poisson, even for gene with lower expression. Zoom into the negative controls"
   ]
  },
  {
   "cell_type": "code",
   "execution_count": null,
<<<<<<< HEAD
<<<<<<< HEAD
<<<<<<< HEAD
   "id": "d25a85f2",
||||||| 6a30bf1
   "id": "b852a113",
=======
   "id": "5bdd34e5",
>>>>>>> documentation-devel
||||||| d28b18c
   "id": "5bdd34e5",
=======
   "id": "21e25d4a",
>>>>>>> documentation-devel
||||||| 6893f63
<<<<<<< HEAD
   "id": "d25a85f2",
||||||| 6a30bf1
   "id": "b852a113",
=======
   "id": "5bdd34e5",
>>>>>>> documentation-devel
=======
   "id": "e7216d1e",
>>>>>>> c74c98c2450c2a1ba922ed9442f136238d6bc88b
   "metadata": {},
   "outputs": [],
   "source": [
    "as.data.frame(rowData(sfe)[neg_inds,]) |> \n",
    "    ggplot(aes(means, vars)) +\n",
    "    geom_point() +\n",
    "    geom_abline(slope = 1, intercept = 0, color = \"red\") +\n",
    "    scale_x_log10() + scale_y_log10() +\n",
    "    annotation_logticks() +\n",
    "    coord_equal()"
   ]
  },
  {
   "cell_type": "markdown",
<<<<<<< HEAD
<<<<<<< HEAD
<<<<<<< HEAD
   "id": "a862793d",
||||||| 6a30bf1
   "id": "a3538cff",
=======
   "id": "91851638",
>>>>>>> documentation-devel
||||||| d28b18c
   "id": "91851638",
=======
   "id": "812f79cc",
>>>>>>> documentation-devel
||||||| 6893f63
<<<<<<< HEAD
   "id": "a862793d",
||||||| 6a30bf1
   "id": "a3538cff",
=======
   "id": "91851638",
>>>>>>> documentation-devel
=======
   "id": "b3148aff",
>>>>>>> c74c98c2450c2a1ba922ed9442f136238d6bc88b
   "metadata": {
    "lines_to_next_cell": 0
   },
   "source": [
    "Among the \"high quality\" cells, the negative controls still have higher variance relative to mean compared to Poisson. \n",
    "\n",
    "Negative controls vs. real genes"
   ]
  },
  {
   "cell_type": "code",
   "execution_count": null,
<<<<<<< HEAD
<<<<<<< HEAD
<<<<<<< HEAD
   "id": "7209ca63",
||||||| 6a30bf1
   "id": "7ff662cc",
=======
   "id": "d8d687c3",
>>>>>>> documentation-devel
||||||| d28b18c
   "id": "d8d687c3",
=======
   "id": "e7cb8baa",
>>>>>>> documentation-devel
||||||| 6893f63
<<<<<<< HEAD
   "id": "7209ca63",
||||||| 6a30bf1
   "id": "7ff662cc",
=======
   "id": "d8d687c3",
>>>>>>> documentation-devel
=======
   "id": "f6099f96",
>>>>>>> c74c98c2450c2a1ba922ed9442f136238d6bc88b
   "metadata": {},
   "outputs": [],
   "source": [
    "plotRowData(sfe, x = \"means\", y = \"is_neg\") +\n",
    "    scale_y_log10() +\n",
    "    annotation_logticks(sides = \"b\")"
   ]
  },
  {
   "cell_type": "markdown",
<<<<<<< HEAD
<<<<<<< HEAD
<<<<<<< HEAD
   "id": "6b22f3c9",
||||||| 6a30bf1
   "id": "f8753e88",
=======
   "id": "d24e9311",
>>>>>>> documentation-devel
||||||| d28b18c
   "id": "d24e9311",
=======
   "id": "ea568327",
>>>>>>> documentation-devel
||||||| 6893f63
<<<<<<< HEAD
   "id": "6b22f3c9",
||||||| 6a30bf1
   "id": "f8753e88",
=======
   "id": "d24e9311",
>>>>>>> documentation-devel
=======
   "id": "e3f4cc71",
>>>>>>> c74c98c2450c2a1ba922ed9442f136238d6bc88b
   "metadata": {},
   "source": [
    "The negative controls have lower mean \"expression\" than the vast majority of real genes.\n",
    "\n",
    "# Spatial autocorrelation in QC metrics\n",
    "A spatial neighborhood graph is required for spatial dependence analyses with `spdep`. Without a benchmark, we don't yet know which type of neighborhood graph is the best for which purpose. \n",
    "\n",
    "Methods to find spatial neighborhood graphs in `spdep` other than `knearneigh()` (k nearest neighbors), `dnearneigh()` (find cells within a certain distance), and `poly2nb()` (polygon contiguity) are not recommended for larger datasets. While cell-cell contact may be biologically relevant, because cell segmentation is imperfect, leading to non-contiguous cell segmentation polygons for cells that appear contiguous in H&E, only using `poly2nb()` to find polygon contiguity neighbors without supplementing with another kind of neighborhood is problematic. Delaunay triangulation with the `deldir` package, which is used by `spdep` (`tri2nb()`), takes 4 to 5 minutes for a dataset of this size, but the run time increases much more drastically than linearly as the number of cells increases. Sphere of Interest (SOI) graph (`soi.graph()`) prunes edges from triangulation that are too long, and does not take long itself. So triangulation and SOI graph, while slower than `knearneigh()`, `dnearneigh()`, and `poly2nb()`, are somewhat practical considerations. The implementation of `gabrielneigh()` and `relativeneigh()` take impracticably long (over an hour and I terminated the R session out of impatience) for this dataset so are not recommended.\n",
    "\n",
    "Methods to find approximate nearest neighbors such as Annoy (`AnnoyParam()`) and HNSW (`HnswParam()`), as supported by the [`bluster`](https://bioconductor.org/packages/release/bioc/html/bluster.html) and [`BiocNeighbors`](https://bioconductor.org/packages/release/bioc/html/BiocNeighbors.html) packages might speed up finding these graphs, but we haven't formally benchmarked them. \n",
    "\n",
    "See [Chapter 14 of Spatial Data Science](https://r-spatial.org/book/14-Areal.html) on proximity in areal data for a more detailed discussion of the different neighborhood graphs in `spdep`. The methods for areal data are the first to be wrapped by Voyager because much of spatial transcriptomics data is analogous to areal geospatial data, where data from several cells are aggregated over areas, which happens in Visium spots. Just like in geospatial areal data, the Visium aggregation areas are arbitrary and do not represent the underlying spatial process. Although sometimes geographical areal units are not arbitrary, that tissues are generally not in hexagonal grids means that Visium spot polygons are arbitrary in this context. Regions of interest (ROI) selection spatial transcriptomics methods, such as laser capture microdissection (LCM) and GeoMX DSP are more obviously analogous to geospatial areal data. The aggregation also happens when we analyze smFISH-based data at the cell level, if the basic unit of observation is individual transcript spots. \n",
    "\n",
    "While `spdep` caters to areal data, `gstat` caters to geostatistical data, where a continuous spatial process is sampled at point locations. In some ways, spatial transcriptomics data is analogous to geostatistical data. Visium samples the supposed spatial biological process in a regular hexagonal grid, if we pretend that Visium spots are points. In smFISH-based single cell resolution data, the cells observed can be thought of as a sample of an underlying spatial biological process supervening on the specific locations of the cells. In a sense, the cells are not samples, since smFISH based technologies attempt to visualize all cells in the tissue section. However, as the biological function of the tissue does not depend on this particular spatial arrangement of individual cells (i.e. supervenes on this particular spatial arrangement), but more of cell types, the specific cell locations observed can be thought of as samples of the process, if we consider the cell the basic unit of the spatial process. \n",
    "\n",
    "In Voyager 1.2.0 (Bioconductor 3.17), we have added semivariograms (from the [`gstat`](https://cran.r-project.org/web/packages/gstat/index.html) package) as an exploratory tool to identify the presence of spatial autocorrelation, its length scale, and anisotropy (i.e. different in different directions). Covariates can be specified when computing the variogram to account for spatial trends and adjust for another spatial variable. However, unlike Morans's I, the semivariogram can't identify negative spatial autocorrelation, although since the spatial neighborhood graph typically does not encode spatial directions, `spdep` autocorrelation metrics can't identify anisotropy. Another problem with the semivariogram is that it assumes that the data is intrinsically stationary, i.e. the semivariogram holds in the entire dataset, or that similarity between two cells only depends on their distance from each other, which may not be the case when spatial autocorrelation varies in space as evident for some genes in local spatial analyses. \n",
    "\n",
    "Single cell smFISH based data is also dissimiliar to both areal and geostatistical data in important ways. In geospatial areal data, data from numerous basic units of the spatial process (e.g. people in epidemiology) are aggregated over areas (e.g. cities), whereas in histological space, the cell is arguably a more sensible basic unit of the biological spatial process than individual mRNA molecules. Unlike in geostatistical data, the cells as seen in the tissue section are often polygons tessellating the tissue section rather than points. Furthermore, while ideally the samples of the underlying spatial process should not affect the spatial process itself in geostatistical data, the cells play active roles in the biological spatial process. \n",
    "\n",
    "However, data analysis methods for areal and geostatistical data can still be relevant to EDA and descriptive models (not causal or mechanistic) of single cell smFISH data. Different types of spatial neighborhood graphs for cells may be relevant to different processes. For instance, contiguity of cell segmentation polygons is relevant when contact is involved in cell signaling, although cell segmentation is imperfect. Positive spatial autocorrelation here can arise from contact activation, and negative autocorrelation can arise from contact inhibition. However, cells may also be influenced by longer range factors such as secreted ligands, morphogens, and simpler spatial trends like distance to artery and vein. In this case, perhaps the semivariogram and using Euclidean distance between cells as spatial weights in spatial autocorrelation metrics would be more relevant for EDA. It would be interesting to compare the results from different spatial neighborhood graphs and spatial weights, and between `spdep` and `gstat`. Perhaps there is no one best method, but different methods reveal different phenomena. The problem of choosing a spatial neighborhood matrix has a long history far predating spatial transcriptomics. See [@Getis2009-iw] for a brief discussion of decades of work around this issue.\n",
    "\n",
    "Spatial autocorrelation metrics seek to measure how nearby things tend to be more similar or dissimilar, and the neighborhood graph and edge weights define what we mean by \"nearby\" in areal data. Note that because each Visium spot can contain from several to dozens of cells, the spatial neighborhood graphs of Visium spots describe neighborhood relationships of much longer length scales than spatial neighborhood graphs of single cells, so spatial autocorrelation metrics using the Visium graph have different meanings from cellular neighborhood graphs. \n",
    "\n",
    "For now, just to demonstrate software usage, we use the k nearest neighborhood graph with distance based edge weights, as commonly done in graph based clustering in scRNA-seq, although we don't yet know the best value for k in each scenario. For the purpose of this vignette, say use $k = 5$, and the execution time isn't outrageous. The argument `style = \"W\"` is to row normalize the adjacency matrix of the spatial neighborhood graph as this is necessary for Moran scatter plot. Inverse distance edge weights can take small values but what matter is the relative rather than the absolute values as the distance itself is in arbitrary unit; row normalizing the adjacency matrix makes the weighted average value from the neighbors comparable to the value at the cell itself. In this tissue, many cells appear contiguous, but since cell segmentation is imperfect, there are many false singletons, which makes polygon contiguity neighbors from `poly2nb()` problematic without some modification. But based on the distribution of the number of neighbors based on contiguity, $k = 5$ doesn't seem to be a bad approximate for contiguity."
   ]
  },
  {
   "cell_type": "code",
   "execution_count": null,
<<<<<<< HEAD
<<<<<<< HEAD
<<<<<<< HEAD
   "id": "b2dcb81d",
||||||| 6a30bf1
   "id": "74521995",
=======
   "id": "734cae47",
>>>>>>> documentation-devel
||||||| d28b18c
   "id": "734cae47",
=======
   "id": "e9f706c2",
>>>>>>> documentation-devel
||||||| 6893f63
<<<<<<< HEAD
   "id": "b2dcb81d",
||||||| 6a30bf1
   "id": "74521995",
=======
   "id": "734cae47",
>>>>>>> documentation-devel
=======
   "id": "d52c1421",
>>>>>>> c74c98c2450c2a1ba922ed9442f136238d6bc88b
   "metadata": {},
   "outputs": [],
   "source": [
    "system.time(\n",
    "    colGraph(sfe, \"knn5\") <- findSpatialNeighbors(sfe, method = \"knearneigh\",\n",
    "                                                  dist_type = \"idw\", k = 5, \n",
    "                                                  style = \"W\")\n",
    "    )"
   ]
  },
  {
   "cell_type": "markdown",
<<<<<<< HEAD
<<<<<<< HEAD
<<<<<<< HEAD
   "id": "83712716",
||||||| 6a30bf1
   "id": "928becda",
=======
   "id": "1a20b312",
>>>>>>> documentation-devel
||||||| d28b18c
   "id": "1a20b312",
=======
   "id": "17cc66bb",
>>>>>>> documentation-devel
||||||| 6893f63
<<<<<<< HEAD
   "id": "83712716",
||||||| 6a30bf1
   "id": "928becda",
=======
   "id": "1a20b312",
>>>>>>> documentation-devel
=======
   "id": "f3e1f2c6",
>>>>>>> c74c98c2450c2a1ba922ed9442f136238d6bc88b
   "metadata": {
    "lines_to_next_cell": 0
   },
   "source": [
    "Now compute Moran's I for some cell QC metrics"
   ]
  },
  {
   "cell_type": "code",
   "execution_count": null,
<<<<<<< HEAD
<<<<<<< HEAD
<<<<<<< HEAD
   "id": "abb684aa",
||||||| 6a30bf1
   "id": "f5e3b5ed",
=======
   "id": "db2859e6",
>>>>>>> documentation-devel
||||||| d28b18c
   "id": "db2859e6",
=======
   "id": "125de7a9",
>>>>>>> documentation-devel
||||||| 6893f63
<<<<<<< HEAD
   "id": "abb684aa",
||||||| 6a30bf1
   "id": "f5e3b5ed",
=======
   "id": "db2859e6",
>>>>>>> documentation-devel
=======
   "id": "56e35514",
>>>>>>> c74c98c2450c2a1ba922ed9442f136238d6bc88b
   "metadata": {},
   "outputs": [],
   "source": [
    "features_use <- c(\"nCounts\", \"nGenes\", \"Area\", \"AspectRatio\")\n",
    "sfe <- colDataMoransI(sfe, features_use, colGraphName = \"knn5\")"
   ]
  },
  {
   "cell_type": "code",
   "execution_count": null,
<<<<<<< HEAD
<<<<<<< HEAD
<<<<<<< HEAD
   "id": "c67d1809",
||||||| 6a30bf1
   "id": "4c5b0f98",
=======
   "id": "fb58bf17",
>>>>>>> documentation-devel
||||||| d28b18c
   "id": "fb58bf17",
=======
   "id": "1eb1bb60",
>>>>>>> documentation-devel
||||||| 6893f63
<<<<<<< HEAD
   "id": "c67d1809",
||||||| 6a30bf1
   "id": "4c5b0f98",
=======
   "id": "fb58bf17",
>>>>>>> documentation-devel
=======
   "id": "d8fb0850",
>>>>>>> c74c98c2450c2a1ba922ed9442f136238d6bc88b
   "metadata": {},
   "outputs": [],
   "source": [
    "colFeatureData(sfe)[features_use,]"
   ]
  },
  {
   "cell_type": "markdown",
<<<<<<< HEAD
<<<<<<< HEAD
<<<<<<< HEAD
   "id": "38921de1",
||||||| 6a30bf1
   "id": "ce14ab32",
=======
   "id": "9f212fea",
>>>>>>> documentation-devel
||||||| d28b18c
   "id": "9f212fea",
=======
   "id": "0b3683e6",
>>>>>>> documentation-devel
||||||| 6893f63
<<<<<<< HEAD
   "id": "38921de1",
||||||| 6a30bf1
   "id": "ce14ab32",
=======
   "id": "9f212fea",
>>>>>>> documentation-devel
=======
   "id": "3aad6662",
>>>>>>> c74c98c2450c2a1ba922ed9442f136238d6bc88b
   "metadata": {},
   "source": [
    "Positive spatial autocorrelation is suggested, which is stronger in nCounts and nGenes.\n",
    "\n",
    "What are the length scales of spatial autocorrelation for these QC metrics? It would be nice if the lagged neighborhood graphs can be stored and reused for all features rather than recomputed for each feature as in `spdep::sp.correlogram()` called behind the scene here. This takes a few minutes to run, but not as long as a typical song. Another way to find the length scale of spatial autocorrelation is to bin the cells into bins of different sizes and then find spatial autocorrelation at each bin size, which probably is faster than finding lagged values at higher and higher neighborhoods since `geom_bin2d()` and `geom_hex()` in `ggplot2` run pretty fast even for large datasets. Or use a semivariogram; `gstat` also bins the data when estimating the semivariogram and calculating the semivariogram over very long distance is much faster than the correlogram with cell-cell neighborhood graphs. "
   ]
  },
  {
   "cell_type": "code",
   "execution_count": null,
<<<<<<< HEAD
<<<<<<< HEAD
<<<<<<< HEAD
   "id": "9ede68ab",
||||||| 6a30bf1
   "id": "4777727e",
=======
   "id": "6f1810e1",
>>>>>>> documentation-devel
||||||| d28b18c
   "id": "6f1810e1",
=======
   "id": "6452e83f",
>>>>>>> documentation-devel
||||||| 6893f63
<<<<<<< HEAD
   "id": "9ede68ab",
||||||| 6a30bf1
   "id": "4777727e",
=======
   "id": "6f1810e1",
>>>>>>> documentation-devel
=======
   "id": "00925372",
>>>>>>> c74c98c2450c2a1ba922ed9442f136238d6bc88b
   "metadata": {},
   "outputs": [],
   "source": [
    "system.time(\n",
    "    sfe <- colDataUnivariate(sfe, \"sp.correlogram\", features = features_use,\n",
    "                         colGraphName = \"knn5\", order = 6, zero.policy = TRUE,\n",
    "                         BPPARAM = MulticoreParam(2))\n",
    ")"
   ]
  },
  {
   "cell_type": "markdown",
<<<<<<< HEAD
<<<<<<< HEAD
<<<<<<< HEAD
   "id": "8b84a85f",
||||||| 6a30bf1
   "id": "b04deb4c",
=======
   "id": "fc1aac05",
>>>>>>> documentation-devel
||||||| d28b18c
   "id": "fc1aac05",
=======
   "id": "c28d6441",
>>>>>>> documentation-devel
||||||| 6893f63
<<<<<<< HEAD
   "id": "8b84a85f",
||||||| 6a30bf1
   "id": "b04deb4c",
=======
   "id": "fc1aac05",
>>>>>>> documentation-devel
=======
   "id": "123e1f99",
>>>>>>> c74c98c2450c2a1ba922ed9442f136238d6bc88b
   "metadata": {},
   "source": [
    "Note that `MulticoreParam()` doesn't work on Windows; this vignette was built on Linux. Use `SnowParam()` or `DoparParam()` for Windows. See `?BiocParallelParam` for the available parallel processing backends. We did not notice significant performance differences between `ShowParam()` and `MulticoreParam()` in this context."
   ]
  },
  {
   "cell_type": "code",
   "execution_count": null,
<<<<<<< HEAD
<<<<<<< HEAD
<<<<<<< HEAD
   "id": "16dd7788",
||||||| 6a30bf1
   "id": "cf341737",
=======
   "id": "5916b3fb",
>>>>>>> documentation-devel
||||||| d28b18c
   "id": "5916b3fb",
=======
   "id": "09e6e28f",
>>>>>>> documentation-devel
||||||| 6893f63
<<<<<<< HEAD
   "id": "16dd7788",
||||||| 6a30bf1
   "id": "cf341737",
=======
   "id": "5916b3fb",
>>>>>>> documentation-devel
=======
   "id": "d3bab439",
>>>>>>> c74c98c2450c2a1ba922ed9442f136238d6bc88b
   "metadata": {},
   "outputs": [],
   "source": [
    "plotCorrelogram(sfe, features_use)"
   ]
  },
  {
   "cell_type": "markdown",
<<<<<<< HEAD
<<<<<<< HEAD
<<<<<<< HEAD
   "id": "fb3fa3bb",
||||||| 6a30bf1
   "id": "43565c65",
=======
   "id": "d5219ea2",
>>>>>>> documentation-devel
||||||| d28b18c
   "id": "d5219ea2",
=======
   "id": "86fd98ce",
>>>>>>> documentation-devel
||||||| 6893f63
<<<<<<< HEAD
   "id": "fb3fa3bb",
||||||| 6a30bf1
   "id": "43565c65",
=======
   "id": "d5219ea2",
>>>>>>> documentation-devel
=======
   "id": "a458c458",
>>>>>>> c74c98c2450c2a1ba922ed9442f136238d6bc88b
   "metadata": {
    "lines_to_next_cell": 0
   },
   "source": [
    "They seem to have similar length scales, but aspect ratios tend to decay more quickly.\n",
    "\n",
    "Moran's scatter plot for nCounts. "
   ]
  },
  {
   "cell_type": "code",
   "execution_count": null,
<<<<<<< HEAD
<<<<<<< HEAD
<<<<<<< HEAD
   "id": "88f3f440",
||||||| 6a30bf1
   "id": "f9b74fba",
=======
   "id": "1b4468fe",
>>>>>>> documentation-devel
||||||| d28b18c
   "id": "1b4468fe",
=======
   "id": "a0848cb6",
>>>>>>> documentation-devel
||||||| 6893f63
<<<<<<< HEAD
   "id": "88f3f440",
||||||| 6a30bf1
   "id": "f9b74fba",
=======
   "id": "1b4468fe",
>>>>>>> documentation-devel
=======
   "id": "f4655427",
>>>>>>> c74c98c2450c2a1ba922ed9442f136238d6bc88b
   "metadata": {},
   "outputs": [],
   "source": [
    "sfe <- colDataUnivariate(sfe, \"moran.plot\", \"nCounts\", colGraphName = \"knn5\")"
   ]
  },
  {
   "cell_type": "markdown",
<<<<<<< HEAD
<<<<<<< HEAD
<<<<<<< HEAD
   "id": "3d288951",
||||||| 6a30bf1
   "id": "3e580d9c",
=======
   "id": "5e136c77",
>>>>>>> documentation-devel
||||||| d28b18c
   "id": "5e136c77",
=======
   "id": "d8226344",
>>>>>>> documentation-devel
||||||| 6893f63
<<<<<<< HEAD
   "id": "3d288951",
||||||| 6a30bf1
   "id": "3e580d9c",
=======
   "id": "5e136c77",
>>>>>>> documentation-devel
=======
   "id": "5b3c388f",
>>>>>>> c74c98c2450c2a1ba922ed9442f136238d6bc88b
   "metadata": {
    "lines_to_next_cell": 0
   },
   "source": [
    "In the first panel, the density is for all points in this plot, and in the second, the points influential to fitting the line are highlighted in red, still a 2D histogram to avoid overplotting."
   ]
  },
  {
   "cell_type": "code",
   "execution_count": null,
<<<<<<< HEAD
<<<<<<< HEAD
<<<<<<< HEAD
   "id": "0ba201bb",
||||||| 6a30bf1
   "id": "9a959133",
=======
   "id": "decccd78",
>>>>>>> documentation-devel
||||||| d28b18c
   "id": "decccd78",
=======
   "id": "3b58eb21",
>>>>>>> documentation-devel
||||||| 6893f63
<<<<<<< HEAD
   "id": "0ba201bb",
||||||| 6a30bf1
   "id": "9a959133",
=======
   "id": "decccd78",
>>>>>>> documentation-devel
=======
   "id": "8781192b",
>>>>>>> c74c98c2450c2a1ba922ed9442f136238d6bc88b
   "metadata": {
    "fig.height": 7,
    "fig.width": 8
   },
   "outputs": [],
   "source": [
    "p1 <- moranPlot(sfe, \"nCounts\", binned = TRUE, plot_influential = FALSE)\n",
    "p2 <- moranPlot(sfe, \"nCounts\", binned = TRUE)\n",
    "p1 / p2 + plot_layout(guides = \"collect\")"
   ]
  },
  {
   "cell_type": "markdown",
<<<<<<< HEAD
<<<<<<< HEAD
<<<<<<< HEAD
   "id": "4159f7e7",
||||||| 6a30bf1
   "id": "eac035ad",
=======
   "id": "4f471bc2",
>>>>>>> documentation-devel
||||||| d28b18c
   "id": "4f471bc2",
=======
   "id": "f5b0c218",
>>>>>>> documentation-devel
||||||| 6893f63
<<<<<<< HEAD
   "id": "4159f7e7",
||||||| 6a30bf1
   "id": "eac035ad",
=======
   "id": "4f471bc2",
>>>>>>> documentation-devel
=======
   "id": "33fa6974",
>>>>>>> c74c98c2450c2a1ba922ed9442f136238d6bc88b
   "metadata": {
    "lines_to_next_cell": 0
   },
   "source": [
    "There are no obvious clusters in this plot.\n",
    "\n",
    "Local Moran's I for nCounts"
   ]
  },
  {
   "cell_type": "code",
   "execution_count": null,
<<<<<<< HEAD
<<<<<<< HEAD
<<<<<<< HEAD
   "id": "5e374ec6",
||||||| 6a30bf1
   "id": "24f6b8dc",
=======
   "id": "a7840cb6",
>>>>>>> documentation-devel
||||||| d28b18c
   "id": "a7840cb6",
=======
   "id": "7063c642",
>>>>>>> documentation-devel
||||||| 6893f63
<<<<<<< HEAD
   "id": "5e374ec6",
||||||| 6a30bf1
   "id": "24f6b8dc",
=======
   "id": "a7840cb6",
>>>>>>> documentation-devel
=======
   "id": "ce9b1161",
>>>>>>> c74c98c2450c2a1ba922ed9442f136238d6bc88b
   "metadata": {},
   "outputs": [],
   "source": [
    "sfe <- colDataUnivariate(sfe, \"localmoran\", \"nCounts\", colGraphName = \"knn5\")"
   ]
  },
  {
   "cell_type": "code",
   "execution_count": null,
<<<<<<< HEAD
<<<<<<< HEAD
<<<<<<< HEAD
   "id": "064a5e80",
||||||| 6a30bf1
   "id": "0106baec",
=======
   "id": "906ab482",
>>>>>>> documentation-devel
||||||| d28b18c
   "id": "906ab482",
=======
   "id": "4218cf77",
>>>>>>> documentation-devel
||||||| 6893f63
<<<<<<< HEAD
   "id": "064a5e80",
||||||| 6a30bf1
   "id": "0106baec",
=======
   "id": "906ab482",
>>>>>>> documentation-devel
=======
   "id": "94950d22",
>>>>>>> c74c98c2450c2a1ba922ed9442f136238d6bc88b
   "metadata": {},
   "outputs": [],
   "source": [
    "plotLocalResult(sfe, \"localmoran\", \"nCounts\", colGeometryName = \"cellSeg\",\n",
    "                divergent = TRUE, diverge_center = 0)"
   ]
  },
  {
   "cell_type": "markdown",
<<<<<<< HEAD
<<<<<<< HEAD
<<<<<<< HEAD
   "id": "2618286f",
||||||| 6a30bf1
   "id": "7051172a",
=======
   "id": "d07a5ab5",
>>>>>>> documentation-devel
||||||| d28b18c
   "id": "d07a5ab5",
=======
   "id": "a9372739",
>>>>>>> documentation-devel
||||||| 6893f63
<<<<<<< HEAD
   "id": "2618286f",
||||||| 6a30bf1
   "id": "7051172a",
=======
   "id": "d07a5ab5",
>>>>>>> documentation-devel
=======
   "id": "9b123e8a",
>>>>>>> c74c98c2450c2a1ba922ed9442f136238d6bc88b
   "metadata": {},
   "source": [
    "Cool, it appears that the epithelial regions tend to be more homogenous in nCounts.\n",
    "\n",
    "# Data normalization\n",
    "Given that there may be some relationship between cell size and total counts, and that total counts may be biological and thus not purely treated as technical, questions are raised about data normalization and how it should be different from the standard scRNA-seq practices. For instance, what are technical contributions to total counts for this kind of data? Furthermore, what to do with cell area, since part of it is technical, in where the z-plane of cell segmentation polygons intersects each cell, but for some cell types, it could be biological? Also, how would different methods of data normalization affect spatial autocorrelation? Should spatial autocorrelation be used in some ways when normalizing data? Besides correcting for technical effects and making gene expression in cells with different total counts more comparable, data normalization stabilizes variance and tries to make the data more normally distributed since many statistical methods assume normally distributed data. So while we don't know the best practice to normalize this kind of data, we will still normalize the data for downstream analyses."
   ]
  },
  {
   "cell_type": "code",
   "execution_count": null,
<<<<<<< HEAD
<<<<<<< HEAD
<<<<<<< HEAD
   "id": "c81ba0f8",
||||||| 6a30bf1
   "id": "d56a4748",
=======
   "id": "05e47d8a",
>>>>>>> documentation-devel
||||||| d28b18c
   "id": "05e47d8a",
=======
   "id": "1af1937a",
>>>>>>> documentation-devel
||||||| 6893f63
<<<<<<< HEAD
   "id": "c81ba0f8",
||||||| 6a30bf1
   "id": "d56a4748",
=======
   "id": "05e47d8a",
>>>>>>> documentation-devel
=======
   "id": "f630b37c",
>>>>>>> c74c98c2450c2a1ba922ed9442f136238d6bc88b
   "metadata": {},
   "outputs": [],
   "source": [
    "sfe <- logNormCounts(sfe)"
   ]
  },
  {
   "cell_type": "markdown",
<<<<<<< HEAD
<<<<<<< HEAD
<<<<<<< HEAD
   "id": "62d80540",
||||||| 6a30bf1
   "id": "d746c039",
=======
   "id": "ccc17e46",
>>>>>>> documentation-devel
||||||| d28b18c
   "id": "ccc17e46",
=======
   "id": "d0a19f83",
>>>>>>> documentation-devel
||||||| 6893f63
<<<<<<< HEAD
   "id": "62d80540",
||||||| 6a30bf1
   "id": "d746c039",
=======
   "id": "ccc17e46",
>>>>>>> documentation-devel
=======
   "id": "54819951",
>>>>>>> c74c98c2450c2a1ba922ed9442f136238d6bc88b
   "metadata": {
    "lines_to_next_cell": 0
   },
   "source": [
    "# Moran's I\n",
    "\n",
    "Here we run global Moran's I on log normalized gene expression."
   ]
  },
  {
   "cell_type": "code",
   "execution_count": null,
<<<<<<< HEAD
<<<<<<< HEAD
<<<<<<< HEAD
   "id": "c884b1ff",
||||||| 6a30bf1
   "id": "d3dd5d14",
=======
   "id": "7009bb97",
>>>>>>> documentation-devel
||||||| d28b18c
   "id": "7009bb97",
=======
   "id": "5e315c4b",
>>>>>>> documentation-devel
||||||| 6893f63
<<<<<<< HEAD
   "id": "c884b1ff",
||||||| 6a30bf1
   "id": "d3dd5d14",
=======
   "id": "7009bb97",
>>>>>>> documentation-devel
=======
   "id": "2f552e8f",
>>>>>>> c74c98c2450c2a1ba922ed9442f136238d6bc88b
   "metadata": {},
   "outputs": [],
   "source": [
    "# Note: on your computer, you can put progressbar = TRUE inside MulticoreParam()\n",
    "# to show progress bar. This applies to any BiocParallParam.\n",
    "sfe <- runMoransI(sfe, features = rownames(sfe), \n",
    "                  BPPARAM = MulticoreParam(2))"
   ]
  },
  {
   "cell_type": "markdown",
<<<<<<< HEAD
<<<<<<< HEAD
<<<<<<< HEAD
   "id": "f2113236",
||||||| 6a30bf1
   "id": "52611863",
=======
   "id": "3a4bb02a",
>>>>>>> documentation-devel
||||||| d28b18c
   "id": "3a4bb02a",
=======
   "id": "5db21df0",
>>>>>>> documentation-devel
||||||| 6893f63
<<<<<<< HEAD
   "id": "f2113236",
||||||| 6a30bf1
   "id": "52611863",
=======
   "id": "3a4bb02a",
>>>>>>> documentation-devel
=======
   "id": "e8dfd84b",
>>>>>>> c74c98c2450c2a1ba922ed9442f136238d6bc88b
   "metadata": {
    "lines_to_next_cell": 0
   },
   "source": [
    "Do real genes tend to have more spatial autocorrelation than negative controls?"
   ]
  },
  {
   "cell_type": "code",
   "execution_count": null,
<<<<<<< HEAD
<<<<<<< HEAD
<<<<<<< HEAD
   "id": "38ddffdf",
||||||| 6a30bf1
   "id": "65dd1594",
=======
   "id": "6f3b761f",
>>>>>>> documentation-devel
||||||| d28b18c
   "id": "6f3b761f",
=======
   "id": "13341f61",
>>>>>>> documentation-devel
||||||| 6893f63
<<<<<<< HEAD
   "id": "38ddffdf",
||||||| 6a30bf1
   "id": "65dd1594",
=======
   "id": "6f3b761f",
>>>>>>> documentation-devel
=======
   "id": "4506a2b6",
>>>>>>> c74c98c2450c2a1ba922ed9442f136238d6bc88b
   "metadata": {},
   "outputs": [],
   "source": [
    "plotRowData(sfe, x = \"moran_sample01\", y = \"is_neg\") +\n",
    "    geom_hline(yintercept = 0, linetype = 2)"
   ]
  },
  {
   "cell_type": "markdown",
<<<<<<< HEAD
<<<<<<< HEAD
<<<<<<< HEAD
   "id": "f7170be6",
||||||| 6a30bf1
   "id": "73415fdd",
=======
   "id": "6a7ad633",
>>>>>>> documentation-devel
||||||| d28b18c
   "id": "6a7ad633",
=======
   "id": "b271c628",
>>>>>>> documentation-devel
||||||| 6893f63
<<<<<<< HEAD
   "id": "f7170be6",
||||||| 6a30bf1
   "id": "73415fdd",
=======
   "id": "6a7ad633",
>>>>>>> documentation-devel
=======
   "id": "39419f6b",
>>>>>>> c74c98c2450c2a1ba922ed9442f136238d6bc88b
   "metadata": {
    "lines_to_next_cell": 0
   },
   "source": [
    "It seems that at least at the shorter length scale captured by the k nearest neighbor graph, most genes don't have strong spatial autocorrelation while some have strong positive spatial autocorrelation. In contrast, Moran's I for the negative controls is closely packed around 0, indicating lack of spatial autocorrelation, which is a good sign, that there is no evidence of a technical artifact that manifests as a spatial trend manifest in the negative controls.\n",
    "\n",
    "What are the genes with the highest Moran's I?"
   ]
  },
  {
   "cell_type": "code",
   "execution_count": null,
<<<<<<< HEAD
<<<<<<< HEAD
<<<<<<< HEAD
   "id": "32ee2b8a",
||||||| 6a30bf1
   "id": "803863c2",
=======
   "id": "a3d8ab9c",
>>>>>>> documentation-devel
||||||| d28b18c
   "id": "a3d8ab9c",
=======
   "id": "062cae03",
>>>>>>> documentation-devel
||||||| 6893f63
<<<<<<< HEAD
   "id": "32ee2b8a",
||||||| 6a30bf1
   "id": "803863c2",
=======
   "id": "a3d8ab9c",
>>>>>>> documentation-devel
=======
   "id": "53b18c7c",
>>>>>>> c74c98c2450c2a1ba922ed9442f136238d6bc88b
   "metadata": {
    "fig.height": 9,
    "fig.width": 9
   },
   "outputs": [],
   "source": [
    "top_moran <- rownames(sfe)[order(rowData(sfe)$moran_sample01, decreasing = TRUE)[1:6]]\n",
    "plotSpatialFeature(sfe, top_moran, colGeometryName = \"centroids\", \n",
    "                   scattermore = TRUE, ncol = 2)"
   ]
  },
  {
   "cell_type": "markdown",
<<<<<<< HEAD
<<<<<<< HEAD
<<<<<<< HEAD
   "id": "96498efd",
||||||| 6a30bf1
   "id": "88390704",
=======
   "id": "19b54e94",
>>>>>>> documentation-devel
||||||| d28b18c
   "id": "19b54e94",
=======
   "id": "d6be5025",
>>>>>>> documentation-devel
||||||| 6893f63
<<<<<<< HEAD
   "id": "96498efd",
||||||| 6a30bf1
   "id": "88390704",
=======
   "id": "19b54e94",
>>>>>>> documentation-devel
=======
   "id": "3d391b78",
>>>>>>> c74c98c2450c2a1ba922ed9442f136238d6bc88b
   "metadata": {
    "lines_to_next_cell": 0
   },
   "source": [
    "They all highlight the same epithelial regions. It could be that other regions are not as spatially organized, or that a short length scale is used for Moran's I here but the correlogram shows that Moran's I decays after the first order neighbors. I wonder how using a longer length scale would change the results.\n",
    "\n",
    "# Non-spatial dimension reduction and clustering"
   ]
  },
  {
   "cell_type": "code",
   "execution_count": null,
<<<<<<< HEAD
<<<<<<< HEAD
<<<<<<< HEAD
   "id": "fbe609bc",
||||||| 6a30bf1
   "id": "1c61f810",
=======
   "id": "3005b714",
>>>>>>> documentation-devel
||||||| d28b18c
   "id": "3005b714",
=======
   "id": "973dffd5",
>>>>>>> documentation-devel
||||||| 6893f63
<<<<<<< HEAD
   "id": "fbe609bc",
||||||| 6a30bf1
   "id": "1c61f810",
=======
   "id": "3005b714",
>>>>>>> documentation-devel
=======
   "id": "2cff642a",
>>>>>>> c74c98c2450c2a1ba922ed9442f136238d6bc88b
   "metadata": {},
   "outputs": [],
   "source": [
    "set.seed(29)\n",
    "sfe <- runPCA(sfe, ncomponents = 30, scale = TRUE, BSPARAM = IrlbaParam())"
   ]
  },
  {
   "cell_type": "code",
   "execution_count": null,
<<<<<<< HEAD
<<<<<<< HEAD
<<<<<<< HEAD
   "id": "c17b24f1",
||||||| 6a30bf1
   "id": "51cfdbce",
=======
   "id": "aaf73612",
>>>>>>> documentation-devel
||||||| d28b18c
   "id": "aaf73612",
=======
   "id": "100f6103",
>>>>>>> documentation-devel
||||||| 6893f63
<<<<<<< HEAD
   "id": "c17b24f1",
||||||| 6a30bf1
   "id": "51cfdbce",
=======
   "id": "aaf73612",
>>>>>>> documentation-devel
=======
   "id": "3d98f5d4",
>>>>>>> c74c98c2450c2a1ba922ed9442f136238d6bc88b
   "metadata": {},
   "outputs": [],
   "source": [
    "ElbowPlot(sfe, ndims = 30)"
   ]
  },
  {
   "cell_type": "code",
   "execution_count": null,
<<<<<<< HEAD
<<<<<<< HEAD
<<<<<<< HEAD
   "id": "d71e18c3",
||||||| 6a30bf1
   "id": "8cabe0ca",
=======
   "id": "6a495854",
>>>>>>> documentation-devel
||||||| d28b18c
   "id": "6a495854",
=======
   "id": "593f1edd",
>>>>>>> documentation-devel
||||||| 6893f63
<<<<<<< HEAD
   "id": "d71e18c3",
||||||| 6a30bf1
   "id": "8cabe0ca",
=======
   "id": "6a495854",
>>>>>>> documentation-devel
=======
   "id": "1ee6db3a",
>>>>>>> c74c98c2450c2a1ba922ed9442f136238d6bc88b
   "metadata": {},
   "outputs": [],
   "source": [
    "plotDimLoadings(sfe, dims = 1:6)"
   ]
  },
  {
   "cell_type": "code",
   "execution_count": null,
<<<<<<< HEAD
<<<<<<< HEAD
<<<<<<< HEAD
   "id": "dbce42e8",
||||||| 6a30bf1
   "id": "7e68a92c",
=======
   "id": "f8a36a65",
>>>>>>> documentation-devel
||||||| d28b18c
   "id": "f8a36a65",
=======
   "id": "99af88af",
>>>>>>> documentation-devel
||||||| 6893f63
<<<<<<< HEAD
   "id": "dbce42e8",
||||||| 6a30bf1
   "id": "7e68a92c",
=======
   "id": "f8a36a65",
>>>>>>> documentation-devel
=======
   "id": "bbf13576",
>>>>>>> c74c98c2450c2a1ba922ed9442f136238d6bc88b
   "metadata": {
    "fig.height": 9,
    "fig.width": 9
   },
   "outputs": [],
   "source": [
    "spatialReducedDim(sfe, \"PCA\", 6, colGeometryName = \"centroids\", divergent = TRUE,\n",
    "                  diverge_center = 0, ncol = 2, scattermore = TRUE)"
   ]
  },
  {
   "cell_type": "markdown",
<<<<<<< HEAD
<<<<<<< HEAD
<<<<<<< HEAD
   "id": "17a5673c",
||||||| 6a30bf1
   "id": "b5e270db",
=======
   "id": "4c6ea6a1",
>>>>>>> documentation-devel
||||||| d28b18c
   "id": "4c6ea6a1",
=======
   "id": "fb04e06f",
>>>>>>> documentation-devel
||||||| 6893f63
<<<<<<< HEAD
   "id": "17a5673c",
||||||| 6a30bf1
   "id": "b5e270db",
=======
   "id": "4c6ea6a1",
>>>>>>> documentation-devel
=======
   "id": "6a960f5f",
>>>>>>> c74c98c2450c2a1ba922ed9442f136238d6bc88b
   "metadata": {
    "lines_to_next_cell": 0
   },
   "source": [
    "The first PC highlights the epithelium. PC2 highlights T cells. PC4 might highlight other leukocytes. Need to check the genes with the highest loadings to find what the other PCs mean.\n",
    "\n",
    "Non-spatial clustering and locating the clusters in space"
   ]
  },
  {
   "cell_type": "code",
   "execution_count": null,
<<<<<<< HEAD
<<<<<<< HEAD
<<<<<<< HEAD
   "id": "30a4867d",
||||||| 6a30bf1
   "id": "7640e5b8",
=======
   "id": "ce9cb79f",
>>>>>>> documentation-devel
||||||| d28b18c
   "id": "ce9cb79f",
=======
   "id": "fd6c2a59",
>>>>>>> documentation-devel
||||||| 6893f63
<<<<<<< HEAD
   "id": "30a4867d",
||||||| 6a30bf1
   "id": "7640e5b8",
=======
   "id": "ce9cb79f",
>>>>>>> documentation-devel
=======
   "id": "31d3b2c9",
>>>>>>> c74c98c2450c2a1ba922ed9442f136238d6bc88b
   "metadata": {},
   "outputs": [],
   "source": [
    "colData(sfe)$cluster <- clusterRows(reducedDim(sfe, \"PCA\")[,1:15],\n",
    "                                    BLUSPARAM = SNNGraphParam(\n",
    "                                        cluster.fun = \"leiden\",\n",
    "                                        cluster.args = list(\n",
    "                                            resolution_parameter = 0.5,\n",
    "                                            objective_function = \"modularity\")))"
   ]
  },
  {
   "cell_type": "code",
   "execution_count": null,
<<<<<<< HEAD
<<<<<<< HEAD
<<<<<<< HEAD
   "id": "0da73ceb",
||||||| 6a30bf1
   "id": "ccbd9340",
=======
   "id": "29eeed9d",
>>>>>>> documentation-devel
||||||| d28b18c
   "id": "29eeed9d",
=======
   "id": "4b9b81c3",
>>>>>>> documentation-devel
||||||| 6893f63
<<<<<<< HEAD
   "id": "0da73ceb",
||||||| 6a30bf1
   "id": "ccbd9340",
=======
   "id": "29eeed9d",
>>>>>>> documentation-devel
=======
   "id": "8524c05c",
>>>>>>> c74c98c2450c2a1ba922ed9442f136238d6bc88b
   "metadata": {},
   "outputs": [],
   "source": [
    "data(\"ditto_colors\")"
   ]
  },
  {
   "cell_type": "code",
   "execution_count": null,
<<<<<<< HEAD
<<<<<<< HEAD
<<<<<<< HEAD
   "id": "95bfea3f",
||||||| 6a30bf1
   "id": "4cc05c9d",
=======
   "id": "5c6e047a",
>>>>>>> documentation-devel
||||||| d28b18c
   "id": "5c6e047a",
=======
   "id": "9b044e9b",
>>>>>>> documentation-devel
||||||| 6893f63
<<<<<<< HEAD
   "id": "95bfea3f",
||||||| 6a30bf1
   "id": "4cc05c9d",
=======
   "id": "5c6e047a",
>>>>>>> documentation-devel
=======
   "id": "bb06c991",
>>>>>>> c74c98c2450c2a1ba922ed9442f136238d6bc88b
   "metadata": {
    "fig.height": 8,
    "fig.width": 8
   },
   "outputs": [],
   "source": [
    "plotPCA(sfe, ncomponents = 4, colour_by = \"cluster\") +\n",
    "    scale_color_manual(values = ditto_colors)"
   ]
  },
  {
   "cell_type": "code",
   "execution_count": null,
<<<<<<< HEAD
<<<<<<< HEAD
<<<<<<< HEAD
   "id": "14c91ce9",
||||||| 6a30bf1
   "id": "dd57e104",
=======
   "id": "7e4786af",
>>>>>>> documentation-devel
||||||| d28b18c
   "id": "7e4786af",
=======
   "id": "9548c33e",
>>>>>>> documentation-devel
||||||| 6893f63
<<<<<<< HEAD
   "id": "14c91ce9",
||||||| 6a30bf1
   "id": "dd57e104",
=======
   "id": "7e4786af",
>>>>>>> documentation-devel
=======
   "id": "15b54726",
>>>>>>> c74c98c2450c2a1ba922ed9442f136238d6bc88b
   "metadata": {},
   "outputs": [],
   "source": [
    "plotSpatialFeature(sfe, \"cluster\", colGeometryName = \"cellSeg\")"
   ]
  },
  {
   "cell_type": "markdown",
<<<<<<< HEAD
<<<<<<< HEAD
<<<<<<< HEAD
   "id": "f3d80e9f",
||||||| 6a30bf1
   "id": "7bd788c1",
=======
   "id": "591993d9",
>>>>>>> documentation-devel
||||||| d28b18c
   "id": "591993d9",
=======
   "id": "dca0cfac",
>>>>>>> documentation-devel
||||||| 6893f63
<<<<<<< HEAD
   "id": "f3d80e9f",
||||||| 6a30bf1
   "id": "7bd788c1",
=======
   "id": "591993d9",
>>>>>>> documentation-devel
=======
   "id": "2dc841f6",
>>>>>>> c74c98c2450c2a1ba922ed9442f136238d6bc88b
   "metadata": {
    "lines_to_next_cell": 0
   },
   "source": [
    "Further analyses that can be done at this stage:\n",
    "\n",
    "* Which and how many cell types are in the neighborhood of each cell? This is subject to the different definitions of the neighborhood.\n",
    "* Which cell types tend to co-localize where?\n",
    "* Find spatial regions based on cell type colocalization, which can be done with the R package [`spicyR`](https://bioconductor.org/packages/release/bioc/html/spicyR.html) [@Canete2022-tz]\n",
    "\n",
    "# Differential expression\n",
    "Cluster marker genes are found with Wilcoxon rank sum test as commonly done for scRNA-seq."
   ]
  },
  {
   "cell_type": "code",
   "execution_count": null,
<<<<<<< HEAD
<<<<<<< HEAD
<<<<<<< HEAD
   "id": "7d5b50f9",
||||||| 6a30bf1
   "id": "099fa7f2",
=======
   "id": "b0dcb78e",
>>>>>>> documentation-devel
||||||| d28b18c
   "id": "b0dcb78e",
=======
   "id": "80bc4c5e",
>>>>>>> documentation-devel
||||||| 6893f63
<<<<<<< HEAD
   "id": "7d5b50f9",
||||||| 6a30bf1
   "id": "099fa7f2",
=======
   "id": "b0dcb78e",
>>>>>>> documentation-devel
=======
   "id": "e5bad7db",
>>>>>>> c74c98c2450c2a1ba922ed9442f136238d6bc88b
   "metadata": {},
   "outputs": [],
   "source": [
    "markers <- findMarkers(sfe, groups = colData(sfe)$cluster,\n",
    "                       test.type = \"wilcox\", pval.type = \"all\", direction = \"up\")"
   ]
  },
  {
   "cell_type": "markdown",
<<<<<<< HEAD
<<<<<<< HEAD
<<<<<<< HEAD
   "id": "99e0858d",
||||||| 6a30bf1
   "id": "03b2cdc1",
=======
   "id": "412836ad",
>>>>>>> documentation-devel
||||||| d28b18c
   "id": "412836ad",
=======
   "id": "53463751",
>>>>>>> documentation-devel
||||||| 6893f63
<<<<<<< HEAD
   "id": "99e0858d",
||||||| 6a30bf1
   "id": "03b2cdc1",
=======
   "id": "412836ad",
>>>>>>> documentation-devel
=======
   "id": "9f850d7b",
>>>>>>> c74c98c2450c2a1ba922ed9442f136238d6bc88b
   "metadata": {
    "lines_to_next_cell": 0
   },
   "source": [
    "It's already sorted by p-values."
   ]
  },
  {
   "cell_type": "code",
   "execution_count": null,
<<<<<<< HEAD
<<<<<<< HEAD
<<<<<<< HEAD
   "id": "915f6ae8",
||||||| 6a30bf1
   "id": "c4eb1900",
=======
   "id": "ea931488",
>>>>>>> documentation-devel
||||||| d28b18c
   "id": "ea931488",
=======
   "id": "450ce435",
>>>>>>> documentation-devel
||||||| 6893f63
<<<<<<< HEAD
   "id": "915f6ae8",
||||||| 6a30bf1
   "id": "c4eb1900",
=======
   "id": "ea931488",
>>>>>>> documentation-devel
=======
   "id": "0eb0c1ad",
>>>>>>> c74c98c2450c2a1ba922ed9442f136238d6bc88b
   "metadata": {},
   "outputs": [],
   "source": [
    "markers[[6]]"
   ]
  },
  {
   "cell_type": "markdown",
<<<<<<< HEAD
<<<<<<< HEAD
<<<<<<< HEAD
   "id": "6b76d8e0",
||||||| 6a30bf1
   "id": "850e9233",
=======
   "id": "e0ba07c2",
>>>>>>> documentation-devel
||||||| d28b18c
   "id": "e0ba07c2",
=======
   "id": "2552cc16",
>>>>>>> documentation-devel
||||||| 6893f63
<<<<<<< HEAD
   "id": "6b76d8e0",
||||||| 6a30bf1
   "id": "850e9233",
=======
   "id": "e0ba07c2",
>>>>>>> documentation-devel
=======
   "id": "c5b29507",
>>>>>>> c74c98c2450c2a1ba922ed9442f136238d6bc88b
   "metadata": {
    "lines_to_next_cell": 0
   },
   "source": [
    "Get the the significant marker for each cluster to plot. Since there're too many points, here we used the development version of `scater` to not to plot the points, which are uninformative due to overplotting and make this plot really slow."
   ]
  },
  {
   "cell_type": "code",
   "execution_count": null,
<<<<<<< HEAD
<<<<<<< HEAD
<<<<<<< HEAD
   "id": "1c451862",
||||||| 6a30bf1
   "id": "9d9db4fb",
=======
   "id": "b5f91210",
>>>>>>> documentation-devel
||||||| d28b18c
   "id": "b5f91210",
=======
   "id": "9e71fd7c",
>>>>>>> documentation-devel
||||||| 6893f63
<<<<<<< HEAD
   "id": "1c451862",
||||||| 6a30bf1
   "id": "9d9db4fb",
=======
   "id": "b5f91210",
>>>>>>> documentation-devel
=======
   "id": "1b4fb648",
>>>>>>> c74c98c2450c2a1ba922ed9442f136238d6bc88b
   "metadata": {},
   "outputs": [],
   "source": [
    "genes_use <- vapply(markers, function(x) rownames(x)[1], FUN.VALUE = character(1))\n",
    "plotExpression(sfe, genes_use, x = \"cluster\", point_fun = function(...) list())"
   ]
  },
  {
   "cell_type": "markdown",
<<<<<<< HEAD
<<<<<<< HEAD
<<<<<<< HEAD
   "id": "9719d176",
||||||| 6a30bf1
   "id": "8739cab5",
=======
   "id": "41fdf83a",
>>>>>>> documentation-devel
||||||| d28b18c
   "id": "41fdf83a",
=======
   "id": "956b8bee",
>>>>>>> documentation-devel
||||||| 6893f63
<<<<<<< HEAD
   "id": "9719d176",
||||||| 6a30bf1
   "id": "8739cab5",
=======
   "id": "41fdf83a",
>>>>>>> documentation-devel
=======
   "id": "9d71021b",
>>>>>>> c74c98c2450c2a1ba922ed9442f136238d6bc88b
   "metadata": {
    "lines_to_next_cell": 0
   },
   "source": [
    "Plot more top marker genes in a heatmap"
   ]
  },
  {
   "cell_type": "code",
   "execution_count": null,
<<<<<<< HEAD
<<<<<<< HEAD
<<<<<<< HEAD
   "id": "e69f13c5",
||||||| 6a30bf1
   "id": "8f32592f",
=======
   "id": "af14f44b",
>>>>>>> documentation-devel
||||||| d28b18c
   "id": "af14f44b",
=======
   "id": "01b2326b",
>>>>>>> documentation-devel
||||||| 6893f63
<<<<<<< HEAD
   "id": "e69f13c5",
||||||| 6a30bf1
   "id": "8f32592f",
=======
   "id": "af14f44b",
>>>>>>> documentation-devel
=======
   "id": "dc2559b9",
>>>>>>> c74c98c2450c2a1ba922ed9442f136238d6bc88b
   "metadata": {
    "fig.height": 7,
    "fig.width": 6
   },
   "outputs": [],
   "source": [
    "genes_use2 <- unique(unlist(lapply(markers, function(x) rownames(x)[1:5])))\n",
    "plotGroupedHeatmap(sfe, genes_use2, group = \"cluster\", colour = scales::viridis_pal()(100))"
   ]
  },
  {
   "cell_type": "markdown",
<<<<<<< HEAD
<<<<<<< HEAD
<<<<<<< HEAD
   "id": "e48b2406",
||||||| 6a30bf1
   "id": "ff50f7db",
=======
   "id": "e498d814",
>>>>>>> documentation-devel
||||||| d28b18c
   "id": "e498d814",
=======
   "id": "cacbf8eb",
>>>>>>> documentation-devel
||||||| 6893f63
<<<<<<< HEAD
   "id": "e48b2406",
||||||| 6a30bf1
   "id": "ff50f7db",
=======
   "id": "e498d814",
>>>>>>> documentation-devel
=======
   "id": "70162a03",
>>>>>>> c74c98c2450c2a1ba922ed9442f136238d6bc88b
   "metadata": {
    "lines_to_next_cell": 0
   },
   "source": [
    "# Local spatial statistics of marker genes\n",
    "Plot those genes in space"
   ]
  },
  {
   "cell_type": "code",
   "execution_count": null,
<<<<<<< HEAD
<<<<<<< HEAD
<<<<<<< HEAD
   "id": "c24677f5",
||||||| 6a30bf1
   "id": "27334724",
=======
   "id": "523cbc3e",
>>>>>>> documentation-devel
||||||| d28b18c
   "id": "523cbc3e",
=======
   "id": "23ba294c",
>>>>>>> documentation-devel
||||||| 6893f63
<<<<<<< HEAD
   "id": "c24677f5",
||||||| 6a30bf1
   "id": "27334724",
=======
   "id": "523cbc3e",
>>>>>>> documentation-devel
=======
   "id": "996cb9b4",
>>>>>>> c74c98c2450c2a1ba922ed9442f136238d6bc88b
   "metadata": {
    "fig.height": 12,
    "fig.width": 8
   },
   "outputs": [],
   "source": [
    "plotSpatialFeature(sfe, genes_use, colGeometryName = \"centroids\", ncol = 2,\n",
    "                   scattermore = TRUE)"
   ]
  },
  {
   "cell_type": "markdown",
<<<<<<< HEAD
<<<<<<< HEAD
<<<<<<< HEAD
   "id": "1e1e6a57",
||||||| 6a30bf1
   "id": "f05a5eda",
=======
   "id": "7889469a",
>>>>>>> documentation-devel
||||||| d28b18c
   "id": "7889469a",
=======
   "id": "8c400c10",
>>>>>>> documentation-devel
||||||| 6893f63
<<<<<<< HEAD
   "id": "1e1e6a57",
||||||| 6a30bf1
   "id": "f05a5eda",
=======
   "id": "7889469a",
>>>>>>> documentation-devel
=======
   "id": "760a1389",
>>>>>>> c74c98c2450c2a1ba922ed9442f136238d6bc88b
   "metadata": {},
   "source": [
    "Moran's I of these marker genes"
   ]
  },
  {
   "cell_type": "code",
   "execution_count": null,
<<<<<<< HEAD
<<<<<<< HEAD
<<<<<<< HEAD
   "id": "2bf44a6f",
||||||| 6a30bf1
   "id": "33d14a0a",
=======
   "id": "996e0121",
>>>>>>> documentation-devel
||||||| d28b18c
   "id": "996e0121",
=======
   "id": "125941a8",
>>>>>>> documentation-devel
||||||| 6893f63
<<<<<<< HEAD
   "id": "2bf44a6f",
||||||| 6a30bf1
   "id": "33d14a0a",
=======
   "id": "996e0121",
>>>>>>> documentation-devel
=======
   "id": "11dfcf1b",
>>>>>>> c74c98c2450c2a1ba922ed9442f136238d6bc88b
   "metadata": {},
   "outputs": [],
   "source": [
    "rowData(sfe)[genes_use, \"moran_sample01\", drop = FALSE]"
   ]
  },
  {
   "cell_type": "markdown",
<<<<<<< HEAD
<<<<<<< HEAD
<<<<<<< HEAD
   "id": "4e214e2a",
||||||| 6a30bf1
   "id": "0fec60ef",
=======
   "id": "337a1408",
>>>>>>> documentation-devel
||||||| d28b18c
   "id": "337a1408",
=======
   "id": "6dd79518",
>>>>>>> documentation-devel
||||||| 6893f63
<<<<<<< HEAD
   "id": "4e214e2a",
||||||| 6a30bf1
   "id": "0fec60ef",
=======
   "id": "337a1408",
>>>>>>> documentation-devel
=======
   "id": "ddc8183d",
>>>>>>> c74c98c2450c2a1ba922ed9442f136238d6bc88b
   "metadata": {
    "lines_to_next_cell": 0
   },
   "source": [
    "Local Moran's I of these marker genes"
   ]
  },
  {
   "cell_type": "code",
   "execution_count": null,
<<<<<<< HEAD
<<<<<<< HEAD
<<<<<<< HEAD
   "id": "de9c3b79",
||||||| 6a30bf1
   "id": "26aa044b",
=======
   "id": "e4207a82",
>>>>>>> documentation-devel
||||||| d28b18c
   "id": "e4207a82",
=======
   "id": "b430307f",
>>>>>>> documentation-devel
||||||| 6893f63
<<<<<<< HEAD
   "id": "de9c3b79",
||||||| 6a30bf1
   "id": "26aa044b",
=======
   "id": "e4207a82",
>>>>>>> documentation-devel
=======
   "id": "f4f0b336",
>>>>>>> c74c98c2450c2a1ba922ed9442f136238d6bc88b
   "metadata": {},
   "outputs": [],
   "source": [
    "sfe <- runUnivariate(sfe, \"localmoran\", features = genes_use, colGraphName = \"knn5\",\n",
    "                     BPPARAM = MulticoreParam(2))"
   ]
  },
  {
   "cell_type": "code",
   "execution_count": null,
<<<<<<< HEAD
<<<<<<< HEAD
<<<<<<< HEAD
   "id": "c5862812",
||||||| 6a30bf1
   "id": "22e3f228",
=======
   "id": "d5c46a74",
>>>>>>> documentation-devel
||||||| d28b18c
   "id": "d5c46a74",
=======
   "id": "8f8e00bb",
>>>>>>> documentation-devel
||||||| 6893f63
<<<<<<< HEAD
   "id": "c5862812",
||||||| 6a30bf1
   "id": "22e3f228",
=======
   "id": "d5c46a74",
>>>>>>> documentation-devel
=======
   "id": "2f1b6216",
>>>>>>> c74c98c2450c2a1ba922ed9442f136238d6bc88b
   "metadata": {
    "fig.height": 12,
    "fig.width": 8
   },
   "outputs": [],
   "source": [
    "plotLocalResult(sfe, \"localmoran\", features = genes_use, \n",
    "                colGeometryName = \"centroids\", ncol = 2, divergent = TRUE,\n",
    "                diverge_center = 0, scattermore = TRUE)"
   ]
  },
  {
   "cell_type": "markdown",
<<<<<<< HEAD
<<<<<<< HEAD
<<<<<<< HEAD
   "id": "3b5a28be",
||||||| 6a30bf1
   "id": "c3b4772e",
=======
   "id": "659f17c5",
>>>>>>> documentation-devel
||||||| d28b18c
   "id": "659f17c5",
=======
   "id": "c3ca203b",
>>>>>>> documentation-devel
||||||| 6893f63
<<<<<<< HEAD
   "id": "3b5a28be",
||||||| 6a30bf1
   "id": "c3b4772e",
=======
   "id": "659f17c5",
>>>>>>> documentation-devel
=======
   "id": "02a85f7d",
>>>>>>> c74c98c2450c2a1ba922ed9442f136238d6bc88b
   "metadata": {
    "lines_to_next_cell": 0
   },
   "source": [
    "It seems that some histological regions tend to be more spatially homogenous in gene expression than others. The epithelial region tends to be more homogenous.\n",
    "\n",
    "Run local spatial heteroscdasticity (LOSH) for these marker genes to find local heterogeneity"
   ]
  },
  {
   "cell_type": "code",
   "execution_count": null,
<<<<<<< HEAD
<<<<<<< HEAD
<<<<<<< HEAD
   "id": "bb2b408a",
||||||| 6a30bf1
   "id": "019bed81",
=======
   "id": "4d6138bf",
>>>>>>> documentation-devel
||||||| d28b18c
   "id": "4d6138bf",
=======
   "id": "a0f7a23b",
>>>>>>> documentation-devel
||||||| 6893f63
<<<<<<< HEAD
   "id": "bb2b408a",
||||||| 6a30bf1
   "id": "019bed81",
=======
   "id": "4d6138bf",
>>>>>>> documentation-devel
=======
   "id": "aa082baa",
>>>>>>> c74c98c2450c2a1ba922ed9442f136238d6bc88b
   "metadata": {},
   "outputs": [],
   "source": [
    "sfe <- runUnivariate(sfe, \"LOSH\", features = genes_use, colGraphName = \"knn5\",\n",
    "                     BPPARAM = MulticoreParam(2))"
   ]
  },
  {
   "cell_type": "code",
   "execution_count": null,
<<<<<<< HEAD
<<<<<<< HEAD
<<<<<<< HEAD
   "id": "5db60db1",
||||||| 6a30bf1
   "id": "e9c13980",
=======
   "id": "69d9db58",
>>>>>>> documentation-devel
||||||| d28b18c
   "id": "69d9db58",
=======
   "id": "fac00bea",
>>>>>>> documentation-devel
||||||| 6893f63
<<<<<<< HEAD
   "id": "5db60db1",
||||||| 6a30bf1
   "id": "e9c13980",
=======
   "id": "69d9db58",
>>>>>>> documentation-devel
=======
   "id": "d6c0ac40",
>>>>>>> c74c98c2450c2a1ba922ed9442f136238d6bc88b
   "metadata": {
    "fig.height": 12,
    "fig.width": 8
   },
   "outputs": [],
   "source": [
    "plotLocalResult(sfe, \"LOSH\", features = genes_use, \n",
    "                colGeometryName = \"centroids\", ncol = 2, scattermore = TRUE)"
   ]
  },
  {
   "cell_type": "markdown",
<<<<<<< HEAD
<<<<<<< HEAD
<<<<<<< HEAD
   "id": "f2130bb9",
||||||| 6a30bf1
   "id": "baddc561",
=======
   "id": "54faae32",
>>>>>>> documentation-devel
||||||| d28b18c
   "id": "54faae32",
=======
   "id": "775bdc7c",
>>>>>>> documentation-devel
||||||| 6893f63
<<<<<<< HEAD
   "id": "f2130bb9",
||||||| 6a30bf1
   "id": "baddc561",
=======
   "id": "54faae32",
>>>>>>> documentation-devel
=======
   "id": "014ae07e",
>>>>>>> c74c98c2450c2a1ba922ed9442f136238d6bc88b
   "metadata": {
    "lines_to_next_cell": 0
   },
   "source": [
    "Some genes are more heterogeneous where they are also more highly expressed, such as COLA1 and IGKC. However this is not the case for all genes. For example, MZT2A is quite ubiqiutously experssed, but is more heterogeneous in some regions than others, and KRT19 does not seem to be much more heterogeneous where it's more highly expressed. For MZT2A, LOSH picked up the artifact of the edges of the FOVs, although this is not apparent for other genes plotted here. Here we don't have information on which cell belongs to which FOV, but FOV edge effects should be considered in data normalization. It would be interesting to more systematically see how LOSH relates to gene expression across more genes, and how this differs in cell types and gene functions.\n",
    "\n",
    "# Session Info"
   ]
  },
  {
   "cell_type": "code",
   "execution_count": null,
<<<<<<< HEAD
<<<<<<< HEAD
<<<<<<< HEAD
   "id": "edb329b4",
||||||| 6a30bf1
   "id": "a628048f",
=======
   "id": "cea2e2b8",
>>>>>>> documentation-devel
||||||| d28b18c
   "id": "cea2e2b8",
=======
   "id": "05eb3858",
>>>>>>> documentation-devel
||||||| 6893f63
<<<<<<< HEAD
   "id": "edb329b4",
||||||| 6a30bf1
   "id": "a628048f",
=======
   "id": "cea2e2b8",
>>>>>>> documentation-devel
=======
   "id": "3ee8a0b4",
>>>>>>> c74c98c2450c2a1ba922ed9442f136238d6bc88b
   "metadata": {},
   "outputs": [],
   "source": [
    "sessionInfo()"
   ]
  },
  {
   "cell_type": "markdown",
<<<<<<< HEAD
<<<<<<< HEAD
<<<<<<< HEAD
   "id": "2d8487ac",
||||||| 6a30bf1
   "id": "3ce2722b",
=======
   "id": "4553852f",
>>>>>>> documentation-devel
||||||| d28b18c
   "id": "4553852f",
=======
   "id": "501f270f",
>>>>>>> documentation-devel
||||||| 6893f63
<<<<<<< HEAD
   "id": "2d8487ac",
||||||| 6a30bf1
   "id": "3ce2722b",
=======
   "id": "4553852f",
>>>>>>> documentation-devel
=======
   "id": "be970b41",
>>>>>>> c74c98c2450c2a1ba922ed9442f136238d6bc88b
   "metadata": {},
   "source": [
    "# References"
   ]
  }
 ],
 "metadata": {
  "kernelspec": {
   "display_name": "R",
   "language": "R",
   "name": "ir"
  }
 },
 "nbformat": 4,
 "nbformat_minor": 5
}
