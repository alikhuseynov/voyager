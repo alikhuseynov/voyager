{
 "cells": [
  {
   "cell_type": "raw",
<<<<<<< HEAD
<<<<<<< HEAD
<<<<<<< HEAD
<<<<<<< HEAD
<<<<<<< HEAD
   "id": "f98b223e",
||||||| 11b9cb7
   "id": "f6d73b85",
=======
   "id": "2451bbff",
>>>>>>> documentation-devel
||||||| 614e9b1
   "id": "2451bbff",
=======
   "id": "5d66022a",
>>>>>>> documentation-devel
||||||| 856b4c0
<<<<<<< HEAD
   "id": "f98b223e",
||||||| 11b9cb7
   "id": "f6d73b85",
=======
   "id": "2451bbff",
>>>>>>> documentation-devel
=======
   "id": "cd76b27e",
>>>>>>> 552590ea8fad969b67afdba27558a1e6cb21016e
||||||| 452c944
   "id": "5d66022a",
=======
   "id": "eb024591",
>>>>>>> documentation-devel
||||||| 4da3324
<<<<<<< HEAD
<<<<<<< HEAD
<<<<<<< HEAD
   "id": "f98b223e",
||||||| 11b9cb7
   "id": "f6d73b85",
=======
   "id": "2451bbff",
>>>>>>> documentation-devel
||||||| 614e9b1
   "id": "2451bbff",
=======
   "id": "5d66022a",
>>>>>>> documentation-devel
||||||| 856b4c0
<<<<<<< HEAD
   "id": "f98b223e",
||||||| 11b9cb7
   "id": "f6d73b85",
=======
   "id": "2451bbff",
>>>>>>> documentation-devel
=======
   "id": "cd76b27e",
>>>>>>> 552590ea8fad969b67afdba27558a1e6cb21016e
=======
   "id": "8b7fe21e",
>>>>>>> b6e07d13baac92b2c1c9b43f8e4113ffa87bf495
   "metadata": {},
   "source": [
    "---\n",
    "title: \"CosMX non-small cell lung cancer data\"\n",
    "author: \"Lambda Moses\"\n",
    "date: \"`r Sys.Date()`\"\n",
    "output: \n",
    "  html_document:\n",
    "  toc: true\n",
    "  toc_float:\n",
    "    collapsed: false\n",
    "  toc_depth: 3\n",
    "bibliography: ref.bib\n",
    "vignette: >\n",
    "  %\\VignetteIndexEntry{cosmx}\n",
    "  %\\VignetteEngine{knitr::rmarkdown}\n",
    "  %\\VignetteEncoding{UTF-8}\n",
    "---"
   ]
  },
  {
   "cell_type": "code",
   "execution_count": null,
<<<<<<< HEAD
<<<<<<< HEAD
<<<<<<< HEAD
<<<<<<< HEAD
<<<<<<< HEAD
   "id": "2be97a0d",
||||||| 11b9cb7
   "id": "9e9842de",
=======
   "id": "8a2e969a",
>>>>>>> documentation-devel
||||||| 614e9b1
   "id": "8a2e969a",
=======
   "id": "4c1a3fef",
>>>>>>> documentation-devel
||||||| 856b4c0
<<<<<<< HEAD
   "id": "2be97a0d",
||||||| 11b9cb7
   "id": "9e9842de",
=======
   "id": "8a2e969a",
>>>>>>> documentation-devel
=======
   "id": "947d6e90",
>>>>>>> 552590ea8fad969b67afdba27558a1e6cb21016e
||||||| 452c944
   "id": "4c1a3fef",
=======
   "id": "4e2e8cb2",
>>>>>>> documentation-devel
||||||| 4da3324
<<<<<<< HEAD
<<<<<<< HEAD
<<<<<<< HEAD
   "id": "2be97a0d",
||||||| 11b9cb7
   "id": "9e9842de",
=======
   "id": "8a2e969a",
>>>>>>> documentation-devel
||||||| 614e9b1
   "id": "8a2e969a",
=======
   "id": "4c1a3fef",
>>>>>>> documentation-devel
||||||| 856b4c0
<<<<<<< HEAD
   "id": "2be97a0d",
||||||| 11b9cb7
   "id": "9e9842de",
=======
   "id": "8a2e969a",
>>>>>>> documentation-devel
=======
   "id": "947d6e90",
>>>>>>> 552590ea8fad969b67afdba27558a1e6cb21016e
=======
   "id": "2ffdbbd2",
>>>>>>> b6e07d13baac92b2c1c9b43f8e4113ffa87bf495
   "metadata": {
    "tags": [
     "remove_cell"
    ]
   },
   "outputs": [],
   "source": [
    "knitr::opts_chunk$set(\n",
    "  collapse = TRUE,\n",
    "  comment = \"#>\", fig.align = \"center\"\n",
    ")"
   ]
  },
  {
   "cell_type": "code",
   "execution_count": null,
<<<<<<< HEAD
<<<<<<< HEAD
<<<<<<< HEAD
<<<<<<< HEAD
<<<<<<< HEAD
   "id": "3fa44472",
||||||| 11b9cb7
   "id": "ba49cea9",
=======
   "id": "302dd161",
>>>>>>> documentation-devel
||||||| 614e9b1
   "id": "302dd161",
=======
   "id": "45a19532",
>>>>>>> documentation-devel
||||||| 856b4c0
<<<<<<< HEAD
   "id": "3fa44472",
||||||| 11b9cb7
   "id": "ba49cea9",
=======
   "id": "302dd161",
>>>>>>> documentation-devel
=======
   "id": "8f4e65ac",
>>>>>>> 552590ea8fad969b67afdba27558a1e6cb21016e
||||||| 452c944
   "id": "45a19532",
=======
   "id": "c9701982",
>>>>>>> documentation-devel
||||||| 4da3324
<<<<<<< HEAD
<<<<<<< HEAD
<<<<<<< HEAD
   "id": "3fa44472",
||||||| 11b9cb7
   "id": "ba49cea9",
=======
   "id": "302dd161",
>>>>>>> documentation-devel
||||||| 614e9b1
   "id": "302dd161",
=======
   "id": "45a19532",
>>>>>>> documentation-devel
||||||| 856b4c0
<<<<<<< HEAD
   "id": "3fa44472",
||||||| 11b9cb7
   "id": "ba49cea9",
=======
   "id": "302dd161",
>>>>>>> documentation-devel
=======
   "id": "8f4e65ac",
>>>>>>> 552590ea8fad969b67afdba27558a1e6cb21016e
=======
   "id": "17c28551",
>>>>>>> b6e07d13baac92b2c1c9b43f8e4113ffa87bf495
   "metadata": {
    "eval": false,
    "tags": [
     "remove_cell"
    ]
   },
   "outputs": [],
   "source": [
    "# Install Google Colab dependencies\n",
    "# Note: this can take 30+ minutes (many of the dependencies include C++ code, which needs to be compiled)\n",
    "\n",
    "# First install `sf`, `ragg` and `textshaping` and their system dependencies:\n",
    "system(\"apt-get -y update && apt-get install -y  libudunits2-dev libgdal-dev libgeos-dev libproj-dev libharfbuzz-dev libfribidi-dev\")\n",
    "install.packages(\"sf\")\n",
    "install.packages(\"textshaping\")\n",
    "install.packages(\"ragg\")\n",
    "\n",
    "# Install system dependencies of some other R packages that Voyager either imports or suggests:\n",
    "system(\"apt-get install -y libfribidi-dev libcairo2-dev libmagick++-dev\")\n",
    "\n",
    "# Install Voyager from Bioconductor:\n",
    "install.packages(\"BiocManager\")\n",
    "BiocManager::install(version = \"3.17\", ask = FALSE, update = FALSE, Ncpus = 2)\n",
    "BiocManager::install(\"scater\")\n",
    "system.time(\n",
    "  BiocManager::install(\"Voyager\", dependencies = TRUE, Ncpus = 2, update = FALSE)\n",
    ")\n",
    "\n",
    "packageVersion(\"Voyager\")"
   ]
  },
  {
   "cell_type": "markdown",
<<<<<<< HEAD
<<<<<<< HEAD
<<<<<<< HEAD
<<<<<<< HEAD
<<<<<<< HEAD
   "id": "ce4e35fc",
||||||| 11b9cb7
   "id": "dd2a54a8",
=======
   "id": "e4245979",
>>>>>>> documentation-devel
||||||| 614e9b1
   "id": "e4245979",
=======
   "id": "9f7c54c4",
>>>>>>> documentation-devel
||||||| 856b4c0
<<<<<<< HEAD
   "id": "ce4e35fc",
||||||| 11b9cb7
   "id": "dd2a54a8",
=======
   "id": "e4245979",
>>>>>>> documentation-devel
=======
   "id": "07a40fe1",
>>>>>>> 552590ea8fad969b67afdba27558a1e6cb21016e
||||||| 452c944
   "id": "9f7c54c4",
=======
   "id": "7cb0828c",
>>>>>>> documentation-devel
||||||| 4da3324
<<<<<<< HEAD
<<<<<<< HEAD
<<<<<<< HEAD
   "id": "ce4e35fc",
||||||| 11b9cb7
   "id": "dd2a54a8",
=======
   "id": "e4245979",
>>>>>>> documentation-devel
||||||| 614e9b1
   "id": "e4245979",
=======
   "id": "9f7c54c4",
>>>>>>> documentation-devel
||||||| 856b4c0
<<<<<<< HEAD
   "id": "ce4e35fc",
||||||| 11b9cb7
   "id": "dd2a54a8",
=======
   "id": "e4245979",
>>>>>>> documentation-devel
=======
   "id": "07a40fe1",
>>>>>>> 552590ea8fad969b67afdba27558a1e6cb21016e
=======
   "id": "3d4bc4ff",
>>>>>>> b6e07d13baac92b2c1c9b43f8e4113ffa87bf495
   "metadata": {},
   "source": [
    "# Introduction\n",
    "\n",
    "Nanostring GeoMX DSP is a popular spatial transcriptomics technology for formalin fixed paraffin embedded (FFPE) tissues, but it doesn't have single cell resolution. The CosMX FISH based technology for FFPE tissue [@He2021-oy] does have single cell resolution, and this vignette provides an example of how to analyze CosMX data with voyager. Note that FFPE is a common way to preserve and archive tissue, and in some cases, the only samples available may be FFPE. \n",
    "\n",
    "The CosMX dataset for non-small cell lung cancer that we used is described in [@He2021-oy]. The processed data is available for download from the [Nanostring website](https://nanostring.com/products/cosmx-spatial-molecular-imager/ffpe-dataset/). The gene count matrix, cell metadata, and cell segmentation polygon coordinates were downloaded from the Nanostring website as CSV files and read into R as data frames. The gene count matrix was then converted to a sparse matrix. The cell metadata contains centroid coordinates of the cells. The cell polygon data frames were converted into an `sf` data frame with the `df2sf()` function in `SpatialFeatureExperiment` (SFE). These were then used to construct an SFE object. Cell segmentation is only available in one z-plane."
   ]
  },
  {
   "cell_type": "code",
   "execution_count": null,
<<<<<<< HEAD
<<<<<<< HEAD
<<<<<<< HEAD
<<<<<<< HEAD
<<<<<<< HEAD
   "id": "9e282eee",
||||||| 11b9cb7
   "id": "3aac73ec",
=======
   "id": "a89043fc",
>>>>>>> documentation-devel
||||||| 614e9b1
   "id": "a89043fc",
=======
   "id": "02142d09",
>>>>>>> documentation-devel
||||||| 856b4c0
<<<<<<< HEAD
   "id": "9e282eee",
||||||| 11b9cb7
   "id": "3aac73ec",
=======
   "id": "a89043fc",
>>>>>>> documentation-devel
=======
   "id": "92213e82",
>>>>>>> 552590ea8fad969b67afdba27558a1e6cb21016e
||||||| 452c944
   "id": "02142d09",
=======
   "id": "0f59087a",
>>>>>>> documentation-devel
||||||| 4da3324
<<<<<<< HEAD
<<<<<<< HEAD
<<<<<<< HEAD
   "id": "9e282eee",
||||||| 11b9cb7
   "id": "3aac73ec",
=======
   "id": "a89043fc",
>>>>>>> documentation-devel
||||||| 614e9b1
   "id": "a89043fc",
=======
   "id": "02142d09",
>>>>>>> documentation-devel
||||||| 856b4c0
<<<<<<< HEAD
   "id": "9e282eee",
||||||| 11b9cb7
   "id": "3aac73ec",
=======
   "id": "a89043fc",
>>>>>>> documentation-devel
=======
   "id": "92213e82",
>>>>>>> 552590ea8fad969b67afdba27558a1e6cb21016e
=======
   "id": "b6fd9b32",
>>>>>>> b6e07d13baac92b2c1c9b43f8e4113ffa87bf495
   "metadata": {
    "name": "setup"
   },
   "outputs": [],
   "source": [
    "library(Voyager)\n",
    "library(SFEData)\n",
    "library(SingleCellExperiment)\n",
    "library(SpatialExperiment)\n",
    "library(scater) # devel version of plotExpression\n",
    "library(scran)\n",
    "library(bluster)\n",
    "library(ggplot2)\n",
    "library(patchwork)\n",
    "library(stringr)\n",
    "library(spdep)\n",
    "library(BiocParallel)\n",
    "library(BiocSingular)\n",
    "theme_set(theme_bw())"
   ]
  },
  {
   "cell_type": "code",
   "execution_count": null,
<<<<<<< HEAD
<<<<<<< HEAD
<<<<<<< HEAD
<<<<<<< HEAD
<<<<<<< HEAD
   "id": "4aed6848",
||||||| 11b9cb7
   "id": "4efa3c67",
=======
   "id": "83b2958c",
>>>>>>> documentation-devel
||||||| 614e9b1
   "id": "83b2958c",
=======
   "id": "ae82871b",
>>>>>>> documentation-devel
||||||| 856b4c0
<<<<<<< HEAD
   "id": "4aed6848",
||||||| 11b9cb7
   "id": "4efa3c67",
=======
   "id": "83b2958c",
>>>>>>> documentation-devel
=======
   "id": "fe43618d",
>>>>>>> 552590ea8fad969b67afdba27558a1e6cb21016e
||||||| 452c944
   "id": "ae82871b",
=======
   "id": "a971d5ce",
>>>>>>> documentation-devel
||||||| 4da3324
<<<<<<< HEAD
<<<<<<< HEAD
<<<<<<< HEAD
   "id": "4aed6848",
||||||| 11b9cb7
   "id": "4efa3c67",
=======
   "id": "83b2958c",
>>>>>>> documentation-devel
||||||| 614e9b1
   "id": "83b2958c",
=======
   "id": "ae82871b",
>>>>>>> documentation-devel
||||||| 856b4c0
<<<<<<< HEAD
   "id": "4aed6848",
||||||| 11b9cb7
   "id": "4efa3c67",
=======
   "id": "83b2958c",
>>>>>>> documentation-devel
=======
   "id": "fe43618d",
>>>>>>> 552590ea8fad969b67afdba27558a1e6cb21016e
=======
   "id": "8432cc4c",
>>>>>>> b6e07d13baac92b2c1c9b43f8e4113ffa87bf495
   "metadata": {},
   "outputs": [],
   "source": [
    "(sfe <- HeNSCLCData())"
   ]
  },
  {
   "cell_type": "markdown",
<<<<<<< HEAD
<<<<<<< HEAD
<<<<<<< HEAD
<<<<<<< HEAD
<<<<<<< HEAD
   "id": "42424035",
||||||| 11b9cb7
   "id": "262c879b",
=======
   "id": "392d0aad",
>>>>>>> documentation-devel
||||||| 614e9b1
   "id": "392d0aad",
=======
   "id": "aba2b0b7",
>>>>>>> documentation-devel
||||||| 856b4c0
<<<<<<< HEAD
   "id": "42424035",
||||||| 11b9cb7
   "id": "262c879b",
=======
   "id": "392d0aad",
>>>>>>> documentation-devel
=======
   "id": "854007d6",
>>>>>>> 552590ea8fad969b67afdba27558a1e6cb21016e
||||||| 452c944
   "id": "aba2b0b7",
=======
   "id": "bc2313dd",
>>>>>>> documentation-devel
||||||| 4da3324
<<<<<<< HEAD
<<<<<<< HEAD
<<<<<<< HEAD
   "id": "42424035",
||||||| 11b9cb7
   "id": "262c879b",
=======
   "id": "392d0aad",
>>>>>>> documentation-devel
||||||| 614e9b1
   "id": "392d0aad",
=======
   "id": "aba2b0b7",
>>>>>>> documentation-devel
||||||| 856b4c0
<<<<<<< HEAD
   "id": "42424035",
||||||| 11b9cb7
   "id": "262c879b",
=======
   "id": "392d0aad",
>>>>>>> documentation-devel
=======
   "id": "854007d6",
>>>>>>> 552590ea8fad969b67afdba27558a1e6cb21016e
=======
   "id": "fbe954d7",
>>>>>>> b6e07d13baac92b2c1c9b43f8e4113ffa87bf495
   "metadata": {
    "lines_to_next_cell": 0
   },
   "source": [
    "Only the first biological replicate is included in the `SFEData` package. This biological replicate has 980 features and 100,290 cells. Take a look at the cells in space:"
   ]
  },
  {
   "cell_type": "code",
   "execution_count": null,
<<<<<<< HEAD
<<<<<<< HEAD
<<<<<<< HEAD
<<<<<<< HEAD
<<<<<<< HEAD
   "id": "114fe501",
||||||| 11b9cb7
   "id": "ceea69c5",
=======
   "id": "11f758f2",
>>>>>>> documentation-devel
||||||| 614e9b1
   "id": "11f758f2",
=======
   "id": "69e849b3",
>>>>>>> documentation-devel
||||||| 856b4c0
<<<<<<< HEAD
   "id": "114fe501",
||||||| 11b9cb7
   "id": "ceea69c5",
=======
   "id": "11f758f2",
>>>>>>> documentation-devel
=======
   "id": "30cbeb42",
>>>>>>> 552590ea8fad969b67afdba27558a1e6cb21016e
||||||| 452c944
   "id": "69e849b3",
=======
   "id": "2f4f8b58",
>>>>>>> documentation-devel
||||||| 4da3324
<<<<<<< HEAD
<<<<<<< HEAD
<<<<<<< HEAD
   "id": "114fe501",
||||||| 11b9cb7
   "id": "ceea69c5",
=======
   "id": "11f758f2",
>>>>>>> documentation-devel
||||||| 614e9b1
   "id": "11f758f2",
=======
   "id": "69e849b3",
>>>>>>> documentation-devel
||||||| 856b4c0
<<<<<<< HEAD
   "id": "114fe501",
||||||| 11b9cb7
   "id": "ceea69c5",
=======
   "id": "11f758f2",
>>>>>>> documentation-devel
=======
   "id": "30cbeb42",
>>>>>>> 552590ea8fad969b67afdba27558a1e6cb21016e
=======
   "id": "4f7b1b07",
>>>>>>> b6e07d13baac92b2c1c9b43f8e4113ffa87bf495
   "metadata": {},
   "outputs": [],
   "source": [
    "plotGeometry(sfe, MARGIN = 2L, type = \"cellSeg\")"
   ]
  },
  {
   "cell_type": "markdown",
<<<<<<< HEAD
<<<<<<< HEAD
<<<<<<< HEAD
<<<<<<< HEAD
<<<<<<< HEAD
   "id": "0e91bce5",
||||||| 11b9cb7
   "id": "3a079bd8",
=======
   "id": "4f4dee8e",
>>>>>>> documentation-devel
||||||| 614e9b1
   "id": "4f4dee8e",
=======
   "id": "3af7017f",
>>>>>>> documentation-devel
||||||| 856b4c0
<<<<<<< HEAD
   "id": "0e91bce5",
||||||| 11b9cb7
   "id": "3a079bd8",
=======
   "id": "4f4dee8e",
>>>>>>> documentation-devel
=======
   "id": "f2bb62e9",
>>>>>>> 552590ea8fad969b67afdba27558a1e6cb21016e
||||||| 452c944
   "id": "3af7017f",
=======
   "id": "396bd590",
>>>>>>> documentation-devel
||||||| 4da3324
<<<<<<< HEAD
<<<<<<< HEAD
<<<<<<< HEAD
   "id": "0e91bce5",
||||||| 11b9cb7
   "id": "3a079bd8",
=======
   "id": "4f4dee8e",
>>>>>>> documentation-devel
||||||| 614e9b1
   "id": "4f4dee8e",
=======
   "id": "3af7017f",
>>>>>>> documentation-devel
||||||| 856b4c0
<<<<<<< HEAD
   "id": "0e91bce5",
||||||| 11b9cb7
   "id": "3a079bd8",
=======
   "id": "4f4dee8e",
>>>>>>> documentation-devel
=======
   "id": "f2bb62e9",
>>>>>>> 552590ea8fad969b67afdba27558a1e6cb21016e
=======
   "id": "bc7f8ebb",
>>>>>>> b6e07d13baac92b2c1c9b43f8e4113ffa87bf495
   "metadata": {
    "lines_to_next_cell": 0
   },
   "source": [
    "With single cell resolution, a lot of the details can be seen, although there's some artifact from borders of fields of view (FOVs).\n",
    "\n",
    "Plot cell density"
   ]
  },
  {
   "cell_type": "code",
   "execution_count": null,
<<<<<<< HEAD
<<<<<<< HEAD
<<<<<<< HEAD
<<<<<<< HEAD
<<<<<<< HEAD
   "id": "83042223",
||||||| 11b9cb7
   "id": "73ac59d1",
=======
   "id": "68b2aa1b",
>>>>>>> documentation-devel
||||||| 614e9b1
   "id": "68b2aa1b",
=======
   "id": "246b6f89",
>>>>>>> documentation-devel
||||||| 856b4c0
<<<<<<< HEAD
   "id": "83042223",
||||||| 11b9cb7
   "id": "73ac59d1",
=======
   "id": "68b2aa1b",
>>>>>>> documentation-devel
=======
   "id": "8ac523c6",
>>>>>>> 552590ea8fad969b67afdba27558a1e6cb21016e
||||||| 452c944
   "id": "246b6f89",
=======
   "id": "5af5bc41",
>>>>>>> documentation-devel
||||||| 4da3324
<<<<<<< HEAD
<<<<<<< HEAD
<<<<<<< HEAD
   "id": "83042223",
||||||| 11b9cb7
   "id": "73ac59d1",
=======
   "id": "68b2aa1b",
>>>>>>> documentation-devel
||||||| 614e9b1
   "id": "68b2aa1b",
=======
   "id": "246b6f89",
>>>>>>> documentation-devel
||||||| 856b4c0
<<<<<<< HEAD
   "id": "83042223",
||||||| 11b9cb7
   "id": "73ac59d1",
=======
   "id": "68b2aa1b",
>>>>>>> documentation-devel
=======
   "id": "8ac523c6",
>>>>>>> 552590ea8fad969b67afdba27558a1e6cb21016e
=======
   "id": "a268a7e9",
>>>>>>> b6e07d13baac92b2c1c9b43f8e4113ffa87bf495
   "metadata": {},
   "outputs": [],
   "source": [
    "plotCellBin2D(sfe, hex = TRUE)"
   ]
  },
  {
   "cell_type": "markdown",
<<<<<<< HEAD
<<<<<<< HEAD
<<<<<<< HEAD
<<<<<<< HEAD
<<<<<<< HEAD
   "id": "2e4a134c",
||||||| 11b9cb7
   "id": "fd6e8aa6",
=======
   "id": "d7154cad",
>>>>>>> documentation-devel
||||||| 614e9b1
   "id": "d7154cad",
=======
   "id": "4d3b51a0",
>>>>>>> documentation-devel
||||||| 856b4c0
<<<<<<< HEAD
   "id": "2e4a134c",
||||||| 11b9cb7
   "id": "fd6e8aa6",
=======
   "id": "d7154cad",
>>>>>>> documentation-devel
=======
   "id": "a352f29d",
>>>>>>> 552590ea8fad969b67afdba27558a1e6cb21016e
||||||| 452c944
   "id": "4d3b51a0",
=======
   "id": "51b1e64f",
>>>>>>> documentation-devel
||||||| 4da3324
<<<<<<< HEAD
<<<<<<< HEAD
<<<<<<< HEAD
   "id": "2e4a134c",
||||||| 11b9cb7
   "id": "fd6e8aa6",
=======
   "id": "d7154cad",
>>>>>>> documentation-devel
||||||| 614e9b1
   "id": "d7154cad",
=======
   "id": "4d3b51a0",
>>>>>>> documentation-devel
||||||| 856b4c0
<<<<<<< HEAD
   "id": "2e4a134c",
||||||| 11b9cb7
   "id": "fd6e8aa6",
=======
   "id": "d7154cad",
>>>>>>> documentation-devel
=======
   "id": "a352f29d",
>>>>>>> 552590ea8fad969b67afdba27558a1e6cb21016e
=======
   "id": "c4b9a470",
>>>>>>> b6e07d13baac92b2c1c9b43f8e4113ffa87bf495
   "metadata": {},
   "source": [
    "# Quality control (QC)\n",
    "## Cells\n",
    "\n",
    "Single cell RNA-seq (scRNA-seq) technologies typically don't quantify cell morphology, and gene expression in Visium doesn't have single cell resolution. Here for single cell resolution smFISH based data, each cell not only has gene expression and related QC metrics such as total number of transcripts detected and number of genes detected, but also cell morphology such as area (in the z-plane where the segmentation polygons are provided) and aspect ratio. Area is relevant to QC since it can flag falsely undersegmented cells, i.e. several cells falsely considered as one by the cell segmentation program. However, since a pre-defined gene panel is used and mitochondrially encoded genes are not quantified, the scRNA-seq QC metric of proportion of mitochondrially encoded counts is not applicable. \n",
    "\n",
    "Some QC metrics are precomputed and are stored in `colData`"
   ]
  },
  {
   "cell_type": "code",
   "execution_count": null,
<<<<<<< HEAD
<<<<<<< HEAD
<<<<<<< HEAD
<<<<<<< HEAD
<<<<<<< HEAD
   "id": "60c37cb4",
||||||| 11b9cb7
   "id": "b7791f7e",
=======
   "id": "d049c1ea",
>>>>>>> documentation-devel
||||||| 614e9b1
   "id": "d049c1ea",
=======
   "id": "9388628a",
>>>>>>> documentation-devel
||||||| 856b4c0
<<<<<<< HEAD
   "id": "60c37cb4",
||||||| 11b9cb7
   "id": "b7791f7e",
=======
   "id": "d049c1ea",
>>>>>>> documentation-devel
=======
   "id": "1a616b54",
>>>>>>> 552590ea8fad969b67afdba27558a1e6cb21016e
||||||| 452c944
   "id": "9388628a",
=======
   "id": "88781286",
>>>>>>> documentation-devel
||||||| 4da3324
<<<<<<< HEAD
<<<<<<< HEAD
<<<<<<< HEAD
   "id": "60c37cb4",
||||||| 11b9cb7
   "id": "b7791f7e",
=======
   "id": "d049c1ea",
>>>>>>> documentation-devel
||||||| 614e9b1
   "id": "d049c1ea",
=======
   "id": "9388628a",
>>>>>>> documentation-devel
||||||| 856b4c0
<<<<<<< HEAD
   "id": "60c37cb4",
||||||| 11b9cb7
   "id": "b7791f7e",
=======
   "id": "d049c1ea",
>>>>>>> documentation-devel
=======
   "id": "1a616b54",
>>>>>>> 552590ea8fad969b67afdba27558a1e6cb21016e
=======
   "id": "1754c1e6",
>>>>>>> b6e07d13baac92b2c1c9b43f8e4113ffa87bf495
   "metadata": {
    "lines_to_next_cell": 0
   },
   "outputs": [],
   "source": [
    "names(colData(sfe))"
   ]
  },
  {
   "cell_type": "markdown",
<<<<<<< HEAD
<<<<<<< HEAD
<<<<<<< HEAD
<<<<<<< HEAD
<<<<<<< HEAD
   "id": "19c0d82d",
||||||| 11b9cb7
   "id": "2977415a",
=======
   "id": "ea0dd78c",
>>>>>>> documentation-devel
||||||| 614e9b1
   "id": "ea0dd78c",
=======
   "id": "0b39fadc",
>>>>>>> documentation-devel
||||||| 856b4c0
<<<<<<< HEAD
   "id": "19c0d82d",
||||||| 11b9cb7
   "id": "2977415a",
=======
   "id": "ea0dd78c",
>>>>>>> documentation-devel
=======
   "id": "fae87b3a",
>>>>>>> 552590ea8fad969b67afdba27558a1e6cb21016e
||||||| 452c944
   "id": "0b39fadc",
=======
   "id": "541d2127",
>>>>>>> documentation-devel
||||||| 4da3324
<<<<<<< HEAD
<<<<<<< HEAD
<<<<<<< HEAD
   "id": "19c0d82d",
||||||| 11b9cb7
   "id": "2977415a",
=======
   "id": "ea0dd78c",
>>>>>>> documentation-devel
||||||| 614e9b1
   "id": "ea0dd78c",
=======
   "id": "0b39fadc",
>>>>>>> documentation-devel
||||||| 856b4c0
<<<<<<< HEAD
   "id": "19c0d82d",
||||||| 11b9cb7
   "id": "2977415a",
=======
   "id": "ea0dd78c",
>>>>>>> documentation-devel
=======
   "id": "fae87b3a",
>>>>>>> 552590ea8fad969b67afdba27558a1e6cb21016e
=======
   "id": "625f22a5",
>>>>>>> b6e07d13baac92b2c1c9b43f8e4113ffa87bf495
   "metadata": {
    "lines_to_next_cell": 0
   },
   "source": [
    "Cell area, aspect ratio, marker and stain intensities, i.e. all columns before \"sample_id\" come from Nanostring's website. The `sf` package can compute areas of the cell polygons. In R, the `EBImage` package can compute more morphological metrics such as aspect ratio, eccentricity, orientation, and etc., but it requires the data to be converted to raster. OpenCV can compute more morphological metrics for polygons without converting to raster, but it needs to be called from Python or C++. Since the math behind many basic morphological metrics is pretty simple, we may add those to `Voyager` in a future version.\n",
    "\n",
    "Since plotting 100,000 polygons is slow and the plot isn't large enough for us to see the polygons anyway, we use [`scattermore`](https://github.com/exaexa/scattermore) to rasterize the plot to speed up plotting. Instead of plotting every single point, now `ggplot` merely displays a rasterized image."
   ]
  },
  {
   "cell_type": "code",
   "execution_count": null,
<<<<<<< HEAD
<<<<<<< HEAD
<<<<<<< HEAD
<<<<<<< HEAD
<<<<<<< HEAD
   "id": "2e7949d5",
||||||| 11b9cb7
   "id": "445f9886",
=======
   "id": "0a6ba7e4",
>>>>>>> documentation-devel
||||||| 614e9b1
   "id": "0a6ba7e4",
=======
   "id": "7b64038d",
>>>>>>> documentation-devel
||||||| 856b4c0
<<<<<<< HEAD
   "id": "2e7949d5",
||||||| 11b9cb7
   "id": "445f9886",
=======
   "id": "0a6ba7e4",
>>>>>>> documentation-devel
=======
   "id": "23990e02",
>>>>>>> 552590ea8fad969b67afdba27558a1e6cb21016e
||||||| 452c944
   "id": "7b64038d",
=======
   "id": "dd3dcde5",
>>>>>>> documentation-devel
||||||| 4da3324
<<<<<<< HEAD
<<<<<<< HEAD
<<<<<<< HEAD
   "id": "2e7949d5",
||||||| 11b9cb7
   "id": "445f9886",
=======
   "id": "0a6ba7e4",
>>>>>>> documentation-devel
||||||| 614e9b1
   "id": "0a6ba7e4",
=======
   "id": "7b64038d",
>>>>>>> documentation-devel
||||||| 856b4c0
<<<<<<< HEAD
   "id": "2e7949d5",
||||||| 11b9cb7
   "id": "445f9886",
=======
   "id": "0a6ba7e4",
>>>>>>> documentation-devel
=======
   "id": "23990e02",
>>>>>>> 552590ea8fad969b67afdba27558a1e6cb21016e
=======
   "id": "888ca3bd",
>>>>>>> b6e07d13baac92b2c1c9b43f8e4113ffa87bf495
   "metadata": {},
   "outputs": [],
   "source": [
    "# Function to plot violin plot for distribution and spatial at once\n",
    "plot_violin_spatial <- function(sfe, feature) {\n",
    "    violin <- plotColData(sfe, feature, point_fun = function(...) list())\n",
    "    spatial <- plotSpatialFeature(sfe, feature, colGeometryName = \"centroids\",\n",
    "                                  scattermore = TRUE)\n",
    "    violin + spatial +\n",
    "        plot_layout(widths = c(1, 2))\n",
    "}"
   ]
  },
  {
   "cell_type": "markdown",
<<<<<<< HEAD
<<<<<<< HEAD
<<<<<<< HEAD
<<<<<<< HEAD
<<<<<<< HEAD
   "id": "972af1ce",
||||||| 11b9cb7
   "id": "51682711",
=======
   "id": "bf2d25b4",
>>>>>>> documentation-devel
||||||| 614e9b1
   "id": "bf2d25b4",
=======
   "id": "4a829a44",
>>>>>>> documentation-devel
||||||| 856b4c0
<<<<<<< HEAD
   "id": "972af1ce",
||||||| 11b9cb7
   "id": "51682711",
=======
   "id": "bf2d25b4",
>>>>>>> documentation-devel
=======
   "id": "3a61fde6",
>>>>>>> 552590ea8fad969b67afdba27558a1e6cb21016e
||||||| 452c944
   "id": "4a829a44",
=======
   "id": "2590e2e1",
>>>>>>> documentation-devel
||||||| 4da3324
<<<<<<< HEAD
<<<<<<< HEAD
<<<<<<< HEAD
   "id": "972af1ce",
||||||| 11b9cb7
   "id": "51682711",
=======
   "id": "bf2d25b4",
>>>>>>> documentation-devel
||||||| 614e9b1
   "id": "bf2d25b4",
=======
   "id": "4a829a44",
>>>>>>> documentation-devel
||||||| 856b4c0
<<<<<<< HEAD
   "id": "972af1ce",
||||||| 11b9cb7
   "id": "51682711",
=======
   "id": "bf2d25b4",
>>>>>>> documentation-devel
=======
   "id": "3a61fde6",
>>>>>>> 552590ea8fad969b67afdba27558a1e6cb21016e
=======
   "id": "492a2a84",
>>>>>>> b6e07d13baac92b2c1c9b43f8e4113ffa87bf495
   "metadata": {
    "lines_to_next_cell": 0
   },
   "source": [
    "Number of transcript spots detected per cell"
   ]
  },
  {
   "cell_type": "code",
   "execution_count": null,
<<<<<<< HEAD
<<<<<<< HEAD
<<<<<<< HEAD
<<<<<<< HEAD
<<<<<<< HEAD
   "id": "3a51a8bc",
||||||| 11b9cb7
   "id": "fc315dc1",
=======
   "id": "b69f464a",
>>>>>>> documentation-devel
||||||| 614e9b1
   "id": "b69f464a",
=======
   "id": "e7621381",
>>>>>>> documentation-devel
||||||| 856b4c0
<<<<<<< HEAD
   "id": "3a51a8bc",
||||||| 11b9cb7
   "id": "fc315dc1",
=======
   "id": "b69f464a",
>>>>>>> documentation-devel
=======
   "id": "55abb1ca",
>>>>>>> 552590ea8fad969b67afdba27558a1e6cb21016e
||||||| 452c944
   "id": "e7621381",
=======
   "id": "cf8b5d01",
>>>>>>> documentation-devel
||||||| 4da3324
<<<<<<< HEAD
<<<<<<< HEAD
<<<<<<< HEAD
   "id": "3a51a8bc",
||||||| 11b9cb7
   "id": "fc315dc1",
=======
   "id": "b69f464a",
>>>>>>> documentation-devel
||||||| 614e9b1
   "id": "b69f464a",
=======
   "id": "e7621381",
>>>>>>> documentation-devel
||||||| 856b4c0
<<<<<<< HEAD
   "id": "3a51a8bc",
||||||| 11b9cb7
   "id": "fc315dc1",
=======
   "id": "b69f464a",
>>>>>>> documentation-devel
=======
   "id": "55abb1ca",
>>>>>>> 552590ea8fad969b67afdba27558a1e6cb21016e
=======
   "id": "719f7f6f",
>>>>>>> b6e07d13baac92b2c1c9b43f8e4113ffa87bf495
   "metadata": {
    "fig.height": 4,
    "fig.width": 8
   },
   "outputs": [],
   "source": [
    "plot_violin_spatial(sfe, \"nCounts\")"
   ]
  },
  {
   "cell_type": "code",
   "execution_count": null,
<<<<<<< HEAD
<<<<<<< HEAD
<<<<<<< HEAD
<<<<<<< HEAD
<<<<<<< HEAD
   "id": "ef6772e2",
||||||| 11b9cb7
   "id": "78bf5d88",
=======
   "id": "2f3c8ac7",
>>>>>>> documentation-devel
||||||| 614e9b1
   "id": "2f3c8ac7",
=======
   "id": "07550630",
>>>>>>> documentation-devel
||||||| 856b4c0
<<<<<<< HEAD
   "id": "ef6772e2",
||||||| 11b9cb7
   "id": "78bf5d88",
=======
   "id": "2f3c8ac7",
>>>>>>> documentation-devel
=======
   "id": "b048821f",
>>>>>>> 552590ea8fad969b67afdba27558a1e6cb21016e
||||||| 452c944
   "id": "07550630",
=======
   "id": "9d6f9f29",
>>>>>>> documentation-devel
||||||| 4da3324
<<<<<<< HEAD
<<<<<<< HEAD
<<<<<<< HEAD
   "id": "ef6772e2",
||||||| 11b9cb7
   "id": "78bf5d88",
=======
   "id": "2f3c8ac7",
>>>>>>> documentation-devel
||||||| 614e9b1
   "id": "2f3c8ac7",
=======
   "id": "07550630",
>>>>>>> documentation-devel
||||||| 856b4c0
<<<<<<< HEAD
   "id": "ef6772e2",
||||||| 11b9cb7
   "id": "78bf5d88",
=======
   "id": "2f3c8ac7",
>>>>>>> documentation-devel
=======
   "id": "b048821f",
>>>>>>> 552590ea8fad969b67afdba27558a1e6cb21016e
=======
   "id": "b0c5ea98",
>>>>>>> b6e07d13baac92b2c1c9b43f8e4113ffa87bf495
   "metadata": {},
   "outputs": [],
   "source": [
    "summary(sfe$nCounts)"
   ]
  },
  {
   "cell_type": "markdown",
<<<<<<< HEAD
<<<<<<< HEAD
<<<<<<< HEAD
<<<<<<< HEAD
<<<<<<< HEAD
   "id": "b3485683",
||||||| 11b9cb7
   "id": "07f8b7bb",
=======
   "id": "650b65a9",
>>>>>>> documentation-devel
||||||| 614e9b1
   "id": "650b65a9",
=======
   "id": "c94431e6",
>>>>>>> documentation-devel
||||||| 856b4c0
<<<<<<< HEAD
   "id": "b3485683",
||||||| 11b9cb7
   "id": "07f8b7bb",
=======
   "id": "650b65a9",
>>>>>>> documentation-devel
=======
   "id": "dd134023",
>>>>>>> 552590ea8fad969b67afdba27558a1e6cb21016e
||||||| 452c944
   "id": "c94431e6",
=======
   "id": "f732cd03",
>>>>>>> documentation-devel
||||||| 4da3324
<<<<<<< HEAD
<<<<<<< HEAD
<<<<<<< HEAD
   "id": "b3485683",
||||||| 11b9cb7
   "id": "07f8b7bb",
=======
   "id": "650b65a9",
>>>>>>> documentation-devel
||||||| 614e9b1
   "id": "650b65a9",
=======
   "id": "c94431e6",
>>>>>>> documentation-devel
||||||| 856b4c0
<<<<<<< HEAD
   "id": "b3485683",
||||||| 11b9cb7
   "id": "07f8b7bb",
=======
   "id": "650b65a9",
>>>>>>> documentation-devel
=======
   "id": "dd134023",
>>>>>>> 552590ea8fad969b67afdba27558a1e6cb21016e
=======
   "id": "6d7923e5",
>>>>>>> b6e07d13baac92b2c1c9b43f8e4113ffa87bf495
   "metadata": {},
   "source": [
    "To make nCounts and nGenes more comparable across datasets, we divide them by the number of genes probed. In this dataset, there are 960 genes, and 20 negative controls. However, because different genes may be probed in different datasets, which can be from different tissues, this does not make nCounts and nGenes completely comparable across datasets. However, it may still be somewhat comparable, since genes highly expressed in major cell types in the tissue tend to be selected for the gene panel."
   ]
  },
  {
   "cell_type": "code",
   "execution_count": null,
<<<<<<< HEAD
<<<<<<< HEAD
<<<<<<< HEAD
<<<<<<< HEAD
<<<<<<< HEAD
   "id": "6dc935d6",
||||||| 11b9cb7
   "id": "134d563c",
=======
   "id": "7966b512",
>>>>>>> documentation-devel
||||||| 614e9b1
   "id": "7966b512",
=======
   "id": "9377848b",
>>>>>>> documentation-devel
||||||| 856b4c0
<<<<<<< HEAD
   "id": "6dc935d6",
||||||| 11b9cb7
   "id": "134d563c",
=======
   "id": "7966b512",
>>>>>>> documentation-devel
=======
   "id": "d58a1ae5",
>>>>>>> 552590ea8fad969b67afdba27558a1e6cb21016e
||||||| 452c944
   "id": "9377848b",
=======
   "id": "9b866934",
>>>>>>> documentation-devel
||||||| 4da3324
<<<<<<< HEAD
<<<<<<< HEAD
<<<<<<< HEAD
   "id": "6dc935d6",
||||||| 11b9cb7
   "id": "134d563c",
=======
   "id": "7966b512",
>>>>>>> documentation-devel
||||||| 614e9b1
   "id": "7966b512",
=======
   "id": "9377848b",
>>>>>>> documentation-devel
||||||| 856b4c0
<<<<<<< HEAD
   "id": "6dc935d6",
||||||| 11b9cb7
   "id": "134d563c",
=======
   "id": "7966b512",
>>>>>>> documentation-devel
=======
   "id": "d58a1ae5",
>>>>>>> 552590ea8fad969b67afdba27558a1e6cb21016e
=======
   "id": "3ad457c7",
>>>>>>> b6e07d13baac92b2c1c9b43f8e4113ffa87bf495
   "metadata": {},
   "outputs": [],
   "source": [
    "n_panel <- 960\n",
    "colData(sfe)$nCounts_normed <- sfe$nCounts/n_panel\n",
    "colData(sfe)$nGenes_normed <- sfe$nGenes/n_panel"
   ]
  },
  {
   "cell_type": "code",
   "execution_count": null,
<<<<<<< HEAD
<<<<<<< HEAD
<<<<<<< HEAD
<<<<<<< HEAD
<<<<<<< HEAD
   "id": "3a573436",
||||||| 11b9cb7
   "id": "3595b5fe",
=======
   "id": "a816ff0c",
>>>>>>> documentation-devel
||||||| 614e9b1
   "id": "a816ff0c",
=======
   "id": "90b97a76",
>>>>>>> documentation-devel
||||||| 856b4c0
<<<<<<< HEAD
   "id": "3a573436",
||||||| 11b9cb7
   "id": "3595b5fe",
=======
   "id": "a816ff0c",
>>>>>>> documentation-devel
=======
   "id": "f6a66d1e",
>>>>>>> 552590ea8fad969b67afdba27558a1e6cb21016e
||||||| 452c944
   "id": "90b97a76",
=======
   "id": "85c0a87a",
>>>>>>> documentation-devel
||||||| 4da3324
<<<<<<< HEAD
<<<<<<< HEAD
<<<<<<< HEAD
   "id": "3a573436",
||||||| 11b9cb7
   "id": "3595b5fe",
=======
   "id": "a816ff0c",
>>>>>>> documentation-devel
||||||| 614e9b1
   "id": "a816ff0c",
=======
   "id": "90b97a76",
>>>>>>> documentation-devel
||||||| 856b4c0
<<<<<<< HEAD
   "id": "3a573436",
||||||| 11b9cb7
   "id": "3595b5fe",
=======
   "id": "a816ff0c",
>>>>>>> documentation-devel
=======
   "id": "f6a66d1e",
>>>>>>> 552590ea8fad969b67afdba27558a1e6cb21016e
=======
   "id": "b2052101",
>>>>>>> b6e07d13baac92b2c1c9b43f8e4113ffa87bf495
   "metadata": {},
   "outputs": [],
   "source": [
    "plotColDataHistogram(sfe, c(\"nCounts_normed\", \"nGenes_normed\"))"
   ]
  },
  {
   "cell_type": "markdown",
<<<<<<< HEAD
<<<<<<< HEAD
<<<<<<< HEAD
<<<<<<< HEAD
<<<<<<< HEAD
   "id": "50efb0d5",
||||||| 11b9cb7
   "id": "4918afa5",
=======
   "id": "fa5b1713",
>>>>>>> documentation-devel
||||||| 614e9b1
   "id": "fa5b1713",
=======
   "id": "ad03d623",
>>>>>>> documentation-devel
||||||| 856b4c0
<<<<<<< HEAD
   "id": "50efb0d5",
||||||| 11b9cb7
   "id": "4918afa5",
=======
   "id": "fa5b1713",
>>>>>>> documentation-devel
=======
   "id": "e7ac8657",
>>>>>>> 552590ea8fad969b67afdba27558a1e6cb21016e
||||||| 452c944
   "id": "ad03d623",
=======
   "id": "bcf4232e",
>>>>>>> documentation-devel
||||||| 4da3324
<<<<<<< HEAD
<<<<<<< HEAD
<<<<<<< HEAD
   "id": "50efb0d5",
||||||| 11b9cb7
   "id": "4918afa5",
=======
   "id": "fa5b1713",
>>>>>>> documentation-devel
||||||| 614e9b1
   "id": "fa5b1713",
=======
   "id": "ad03d623",
>>>>>>> documentation-devel
||||||| 856b4c0
<<<<<<< HEAD
   "id": "50efb0d5",
||||||| 11b9cb7
   "id": "4918afa5",
=======
   "id": "fa5b1713",
>>>>>>> documentation-devel
=======
   "id": "e7ac8657",
>>>>>>> 552590ea8fad969b67afdba27558a1e6cb21016e
=======
   "id": "dcdd99e6",
>>>>>>> b6e07d13baac92b2c1c9b43f8e4113ffa87bf495
   "metadata": {
    "lines_to_next_cell": 0
   },
   "source": [
    "This means the cells mostly have less than 1 transcript count per gene on average, which is not surprising since not all cells express all genes. Most cells are detected to express less than 30% of all genes probed.\n",
    "\n",
    "Number of genes (out of 980) detected per cell"
   ]
  },
  {
   "cell_type": "code",
   "execution_count": null,
<<<<<<< HEAD
<<<<<<< HEAD
<<<<<<< HEAD
<<<<<<< HEAD
<<<<<<< HEAD
   "id": "65217893",
||||||| 11b9cb7
   "id": "11ae32c9",
=======
   "id": "3f13db60",
>>>>>>> documentation-devel
||||||| 614e9b1
   "id": "3f13db60",
=======
   "id": "d7879aa4",
>>>>>>> documentation-devel
||||||| 856b4c0
<<<<<<< HEAD
   "id": "65217893",
||||||| 11b9cb7
   "id": "11ae32c9",
=======
   "id": "3f13db60",
>>>>>>> documentation-devel
=======
   "id": "f206fa34",
>>>>>>> 552590ea8fad969b67afdba27558a1e6cb21016e
||||||| 452c944
   "id": "d7879aa4",
=======
   "id": "59d74d5f",
>>>>>>> documentation-devel
||||||| 4da3324
<<<<<<< HEAD
<<<<<<< HEAD
<<<<<<< HEAD
   "id": "65217893",
||||||| 11b9cb7
   "id": "11ae32c9",
=======
   "id": "3f13db60",
>>>>>>> documentation-devel
||||||| 614e9b1
   "id": "3f13db60",
=======
   "id": "d7879aa4",
>>>>>>> documentation-devel
||||||| 856b4c0
<<<<<<< HEAD
   "id": "65217893",
||||||| 11b9cb7
   "id": "11ae32c9",
=======
   "id": "3f13db60",
>>>>>>> documentation-devel
=======
   "id": "f206fa34",
>>>>>>> 552590ea8fad969b67afdba27558a1e6cb21016e
=======
   "id": "4a938cd1",
>>>>>>> b6e07d13baac92b2c1c9b43f8e4113ffa87bf495
   "metadata": {
    "fig.height": 4,
    "fig.width": 8
   },
   "outputs": [],
   "source": [
    "plot_violin_spatial(sfe, \"nGenes\")"
   ]
  },
  {
   "cell_type": "code",
   "execution_count": null,
<<<<<<< HEAD
<<<<<<< HEAD
<<<<<<< HEAD
<<<<<<< HEAD
<<<<<<< HEAD
   "id": "52669b91",
||||||| 11b9cb7
   "id": "60a1d13b",
=======
   "id": "dfde78c3",
>>>>>>> documentation-devel
||||||| 614e9b1
   "id": "dfde78c3",
=======
   "id": "50900691",
>>>>>>> documentation-devel
||||||| 856b4c0
<<<<<<< HEAD
   "id": "52669b91",
||||||| 11b9cb7
   "id": "60a1d13b",
=======
   "id": "dfde78c3",
>>>>>>> documentation-devel
=======
   "id": "a9b5b7d5",
>>>>>>> 552590ea8fad969b67afdba27558a1e6cb21016e
||||||| 452c944
   "id": "50900691",
=======
   "id": "04804209",
>>>>>>> documentation-devel
||||||| 4da3324
<<<<<<< HEAD
<<<<<<< HEAD
<<<<<<< HEAD
   "id": "52669b91",
||||||| 11b9cb7
   "id": "60a1d13b",
=======
   "id": "dfde78c3",
>>>>>>> documentation-devel
||||||| 614e9b1
   "id": "dfde78c3",
=======
   "id": "50900691",
>>>>>>> documentation-devel
||||||| 856b4c0
<<<<<<< HEAD
   "id": "52669b91",
||||||| 11b9cb7
   "id": "60a1d13b",
=======
   "id": "dfde78c3",
>>>>>>> documentation-devel
=======
   "id": "a9b5b7d5",
>>>>>>> 552590ea8fad969b67afdba27558a1e6cb21016e
=======
   "id": "cbea7075",
>>>>>>> b6e07d13baac92b2c1c9b43f8e4113ffa87bf495
   "metadata": {},
   "outputs": [],
   "source": [
    "summary(sfe$nGenes)"
   ]
  },
  {
   "cell_type": "markdown",
<<<<<<< HEAD
<<<<<<< HEAD
<<<<<<< HEAD
<<<<<<< HEAD
<<<<<<< HEAD
   "id": "f08f72bc",
||||||| 11b9cb7
   "id": "7c2d68dd",
=======
   "id": "45aaf501",
>>>>>>> documentation-devel
||||||| 614e9b1
   "id": "45aaf501",
=======
   "id": "d6b1e55f",
>>>>>>> documentation-devel
||||||| 856b4c0
<<<<<<< HEAD
   "id": "f08f72bc",
||||||| 11b9cb7
   "id": "7c2d68dd",
=======
   "id": "45aaf501",
>>>>>>> documentation-devel
=======
   "id": "2b0fdeb1",
>>>>>>> 552590ea8fad969b67afdba27558a1e6cb21016e
||||||| 452c944
   "id": "d6b1e55f",
=======
   "id": "f0c32e52",
>>>>>>> documentation-devel
||||||| 4da3324
<<<<<<< HEAD
<<<<<<< HEAD
<<<<<<< HEAD
   "id": "f08f72bc",
||||||| 11b9cb7
   "id": "7c2d68dd",
=======
   "id": "45aaf501",
>>>>>>> documentation-devel
||||||| 614e9b1
   "id": "45aaf501",
=======
   "id": "d6b1e55f",
>>>>>>> documentation-devel
||||||| 856b4c0
<<<<<<< HEAD
   "id": "f08f72bc",
||||||| 11b9cb7
   "id": "7c2d68dd",
=======
   "id": "45aaf501",
>>>>>>> documentation-devel
=======
   "id": "2b0fdeb1",
>>>>>>> 552590ea8fad969b67afdba27558a1e6cb21016e
=======
   "id": "2898a0b3",
>>>>>>> b6e07d13baac92b2c1c9b43f8e4113ffa87bf495
   "metadata": {
    "lines_to_next_cell": 0
   },
   "source": [
    "Based on the spatial plot, it seems that nCounts and nGenes are biologically relevant, but there are cells with no transcripts detected. \n",
    "\n",
    "How nCounts relates to nGenes"
   ]
  },
  {
   "cell_type": "code",
   "execution_count": null,
<<<<<<< HEAD
<<<<<<< HEAD
<<<<<<< HEAD
<<<<<<< HEAD
<<<<<<< HEAD
   "id": "5cbad68c",
||||||| 11b9cb7
   "id": "e658eec9",
=======
   "id": "69ce575c",
>>>>>>> documentation-devel
||||||| 614e9b1
   "id": "69ce575c",
=======
   "id": "9e9ab5e6",
>>>>>>> documentation-devel
||||||| 856b4c0
<<<<<<< HEAD
   "id": "5cbad68c",
||||||| 11b9cb7
   "id": "e658eec9",
=======
   "id": "69ce575c",
>>>>>>> documentation-devel
=======
   "id": "4ac4a536",
>>>>>>> 552590ea8fad969b67afdba27558a1e6cb21016e
||||||| 452c944
   "id": "9e9ab5e6",
=======
   "id": "a444bc50",
>>>>>>> documentation-devel
||||||| 4da3324
<<<<<<< HEAD
<<<<<<< HEAD
<<<<<<< HEAD
   "id": "5cbad68c",
||||||| 11b9cb7
   "id": "e658eec9",
=======
   "id": "69ce575c",
>>>>>>> documentation-devel
||||||| 614e9b1
   "id": "69ce575c",
=======
   "id": "9e9ab5e6",
>>>>>>> documentation-devel
||||||| 856b4c0
<<<<<<< HEAD
   "id": "5cbad68c",
||||||| 11b9cb7
   "id": "e658eec9",
=======
   "id": "69ce575c",
>>>>>>> documentation-devel
=======
   "id": "4ac4a536",
>>>>>>> 552590ea8fad969b67afdba27558a1e6cb21016e
=======
   "id": "eb44e507",
>>>>>>> b6e07d13baac92b2c1c9b43f8e4113ffa87bf495
   "metadata": {},
   "outputs": [],
   "source": [
    "plotColDataBin2D(sfe, \"nCounts\", \"nGenes\")"
   ]
  },
  {
   "cell_type": "markdown",
<<<<<<< HEAD
<<<<<<< HEAD
<<<<<<< HEAD
<<<<<<< HEAD
<<<<<<< HEAD
   "id": "2881b8ec",
||||||| 11b9cb7
   "id": "2034219b",
=======
   "id": "dedce7a6",
>>>>>>> documentation-devel
||||||| 614e9b1
   "id": "dedce7a6",
=======
   "id": "fce46465",
>>>>>>> documentation-devel
||||||| 856b4c0
<<<<<<< HEAD
   "id": "2881b8ec",
||||||| 11b9cb7
   "id": "2034219b",
=======
   "id": "dedce7a6",
>>>>>>> documentation-devel
=======
   "id": "b26fad54",
>>>>>>> 552590ea8fad969b67afdba27558a1e6cb21016e
||||||| 452c944
   "id": "fce46465",
=======
   "id": "0bdc67d6",
>>>>>>> documentation-devel
||||||| 4da3324
<<<<<<< HEAD
<<<<<<< HEAD
<<<<<<< HEAD
   "id": "2881b8ec",
||||||| 11b9cb7
   "id": "2034219b",
=======
   "id": "dedce7a6",
>>>>>>> documentation-devel
||||||| 614e9b1
   "id": "dedce7a6",
=======
   "id": "fce46465",
>>>>>>> documentation-devel
||||||| 856b4c0
<<<<<<< HEAD
   "id": "2881b8ec",
||||||| 11b9cb7
   "id": "2034219b",
=======
   "id": "dedce7a6",
>>>>>>> documentation-devel
=======
   "id": "b26fad54",
>>>>>>> 552590ea8fad969b67afdba27558a1e6cb21016e
=======
   "id": "70d4e041",
>>>>>>> b6e07d13baac92b2c1c9b43f8e4113ffa87bf495
   "metadata": {
    "lines_to_next_cell": 0
   },
   "source": [
    "What's the nature of the cells without transcripts?"
   ]
  },
  {
   "cell_type": "code",
   "execution_count": null,
<<<<<<< HEAD
<<<<<<< HEAD
<<<<<<< HEAD
<<<<<<< HEAD
<<<<<<< HEAD
   "id": "01c077c6",
||||||| 11b9cb7
   "id": "8375165d",
=======
   "id": "fd3ee18a",
>>>>>>> documentation-devel
||||||| 614e9b1
   "id": "fd3ee18a",
=======
   "id": "101f9dfb",
>>>>>>> documentation-devel
||||||| 856b4c0
<<<<<<< HEAD
   "id": "01c077c6",
||||||| 11b9cb7
   "id": "8375165d",
=======
   "id": "fd3ee18a",
>>>>>>> documentation-devel
=======
   "id": "defa0b74",
>>>>>>> 552590ea8fad969b67afdba27558a1e6cb21016e
||||||| 452c944
   "id": "101f9dfb",
=======
   "id": "e3cc76bc",
>>>>>>> documentation-devel
||||||| 4da3324
<<<<<<< HEAD
<<<<<<< HEAD
<<<<<<< HEAD
   "id": "01c077c6",
||||||| 11b9cb7
   "id": "8375165d",
=======
   "id": "fd3ee18a",
>>>>>>> documentation-devel
||||||| 614e9b1
   "id": "fd3ee18a",
=======
   "id": "101f9dfb",
>>>>>>> documentation-devel
||||||| 856b4c0
<<<<<<< HEAD
   "id": "01c077c6",
||||||| 11b9cb7
   "id": "8375165d",
=======
   "id": "fd3ee18a",
>>>>>>> documentation-devel
=======
   "id": "defa0b74",
>>>>>>> 552590ea8fad969b67afdba27558a1e6cb21016e
=======
   "id": "d5153edd",
>>>>>>> b6e07d13baac92b2c1c9b43f8e4113ffa87bf495
   "metadata": {},
   "outputs": [],
   "source": [
    "colData(sfe)$is_empty <- colData(sfe)$nCounts < 1"
   ]
  },
  {
   "cell_type": "code",
   "execution_count": null,
<<<<<<< HEAD
<<<<<<< HEAD
<<<<<<< HEAD
<<<<<<< HEAD
<<<<<<< HEAD
   "id": "3030a867",
||||||| 11b9cb7
   "id": "84991b9c",
=======
   "id": "908abd3c",
>>>>>>> documentation-devel
||||||| 614e9b1
   "id": "908abd3c",
=======
   "id": "60ca69b2",
>>>>>>> documentation-devel
||||||| 856b4c0
<<<<<<< HEAD
   "id": "3030a867",
||||||| 11b9cb7
   "id": "84991b9c",
=======
   "id": "908abd3c",
>>>>>>> documentation-devel
=======
   "id": "7cacdd1a",
>>>>>>> 552590ea8fad969b67afdba27558a1e6cb21016e
||||||| 452c944
   "id": "60ca69b2",
=======
   "id": "ffbdf62d",
>>>>>>> documentation-devel
||||||| 4da3324
<<<<<<< HEAD
<<<<<<< HEAD
<<<<<<< HEAD
   "id": "3030a867",
||||||| 11b9cb7
   "id": "84991b9c",
=======
   "id": "908abd3c",
>>>>>>> documentation-devel
||||||| 614e9b1
   "id": "908abd3c",
=======
   "id": "60ca69b2",
>>>>>>> documentation-devel
||||||| 856b4c0
<<<<<<< HEAD
   "id": "3030a867",
||||||| 11b9cb7
   "id": "84991b9c",
=======
   "id": "908abd3c",
>>>>>>> documentation-devel
=======
   "id": "7cacdd1a",
>>>>>>> 552590ea8fad969b67afdba27558a1e6cb21016e
=======
   "id": "0da28f90",
>>>>>>> b6e07d13baac92b2c1c9b43f8e4113ffa87bf495
   "metadata": {},
   "outputs": [],
   "source": [
    "plotSpatialFeature(sfe, \"is_empty\", \"cellSeg\")"
   ]
  },
  {
   "cell_type": "markdown",
<<<<<<< HEAD
<<<<<<< HEAD
<<<<<<< HEAD
<<<<<<< HEAD
<<<<<<< HEAD
   "id": "a3e9c782",
||||||| 11b9cb7
   "id": "b0c1e48e",
=======
   "id": "2d212348",
>>>>>>> documentation-devel
||||||| 614e9b1
   "id": "2d212348",
=======
   "id": "0ce0f2f6",
>>>>>>> documentation-devel
||||||| 856b4c0
<<<<<<< HEAD
   "id": "a3e9c782",
||||||| 11b9cb7
   "id": "b0c1e48e",
=======
   "id": "2d212348",
>>>>>>> documentation-devel
=======
   "id": "db5b4b4f",
>>>>>>> 552590ea8fad969b67afdba27558a1e6cb21016e
||||||| 452c944
   "id": "0ce0f2f6",
=======
   "id": "ab851c26",
>>>>>>> documentation-devel
||||||| 4da3324
<<<<<<< HEAD
<<<<<<< HEAD
<<<<<<< HEAD
   "id": "a3e9c782",
||||||| 11b9cb7
   "id": "b0c1e48e",
=======
   "id": "2d212348",
>>>>>>> documentation-devel
||||||| 614e9b1
   "id": "2d212348",
=======
   "id": "0ce0f2f6",
>>>>>>> documentation-devel
||||||| 856b4c0
<<<<<<< HEAD
   "id": "a3e9c782",
||||||| 11b9cb7
   "id": "b0c1e48e",
=======
   "id": "2d212348",
>>>>>>> documentation-devel
=======
   "id": "db5b4b4f",
>>>>>>> 552590ea8fad969b67afdba27558a1e6cb21016e
=======
   "id": "742e8879",
>>>>>>> b6e07d13baac92b2c1c9b43f8e4113ffa87bf495
   "metadata": {
    "lines_to_next_cell": 0
   },
   "source": [
    "The cells without transcripts are in the central cavity."
   ]
  },
  {
   "cell_type": "code",
   "execution_count": null,
<<<<<<< HEAD
<<<<<<< HEAD
<<<<<<< HEAD
<<<<<<< HEAD
<<<<<<< HEAD
   "id": "7a5e2014",
||||||| 11b9cb7
   "id": "319bf068",
=======
   "id": "ab7b4ab9",
>>>>>>> documentation-devel
||||||| 614e9b1
   "id": "ab7b4ab9",
=======
   "id": "07fd637e",
>>>>>>> documentation-devel
||||||| 856b4c0
<<<<<<< HEAD
   "id": "7a5e2014",
||||||| 11b9cb7
   "id": "319bf068",
=======
   "id": "ab7b4ab9",
>>>>>>> documentation-devel
=======
   "id": "b57ed434",
>>>>>>> 552590ea8fad969b67afdba27558a1e6cb21016e
||||||| 452c944
   "id": "07fd637e",
=======
   "id": "59d7b41e",
>>>>>>> documentation-devel
||||||| 4da3324
<<<<<<< HEAD
<<<<<<< HEAD
<<<<<<< HEAD
   "id": "7a5e2014",
||||||| 11b9cb7
   "id": "319bf068",
=======
   "id": "ab7b4ab9",
>>>>>>> documentation-devel
||||||| 614e9b1
   "id": "ab7b4ab9",
=======
   "id": "07fd637e",
>>>>>>> documentation-devel
||||||| 856b4c0
<<<<<<< HEAD
   "id": "7a5e2014",
||||||| 11b9cb7
   "id": "319bf068",
=======
   "id": "ab7b4ab9",
>>>>>>> documentation-devel
=======
   "id": "b57ed434",
>>>>>>> 552590ea8fad969b67afdba27558a1e6cb21016e
=======
   "id": "6df8a02e",
>>>>>>> b6e07d13baac92b2c1c9b43f8e4113ffa87bf495
   "metadata": {},
   "outputs": [],
   "source": [
    "plotColData(sfe, x = \"Area\", y = \"is_empty\")"
   ]
  },
  {
   "cell_type": "markdown",
<<<<<<< HEAD
<<<<<<< HEAD
<<<<<<< HEAD
<<<<<<< HEAD
<<<<<<< HEAD
   "id": "81068478",
||||||| 11b9cb7
   "id": "c7c18c19",
=======
   "id": "3acb0837",
>>>>>>> documentation-devel
||||||| 614e9b1
   "id": "3acb0837",
=======
   "id": "e737bc3f",
>>>>>>> documentation-devel
||||||| 856b4c0
<<<<<<< HEAD
   "id": "81068478",
||||||| 11b9cb7
   "id": "c7c18c19",
=======
   "id": "3acb0837",
>>>>>>> documentation-devel
=======
   "id": "ab45c87b",
>>>>>>> 552590ea8fad969b67afdba27558a1e6cb21016e
||||||| 452c944
   "id": "e737bc3f",
=======
   "id": "10a38710",
>>>>>>> documentation-devel
||||||| 4da3324
<<<<<<< HEAD
<<<<<<< HEAD
<<<<<<< HEAD
   "id": "81068478",
||||||| 11b9cb7
   "id": "c7c18c19",
=======
   "id": "3acb0837",
>>>>>>> documentation-devel
||||||| 614e9b1
   "id": "3acb0837",
=======
   "id": "e737bc3f",
>>>>>>> documentation-devel
||||||| 856b4c0
<<<<<<< HEAD
   "id": "81068478",
||||||| 11b9cb7
   "id": "c7c18c19",
=======
   "id": "3acb0837",
>>>>>>> documentation-devel
=======
   "id": "ab45c87b",
>>>>>>> 552590ea8fad969b67afdba27558a1e6cb21016e
=======
   "id": "d8481554",
>>>>>>> b6e07d13baac92b2c1c9b43f8e4113ffa87bf495
   "metadata": {
    "lines_to_next_cell": 0
   },
   "source": [
    "The \"empty\" cells tend to be smaller than other cells but there are also some really large ones. \n",
    "\n",
    "Cell area distribution"
   ]
  },
  {
   "cell_type": "code",
   "execution_count": null,
<<<<<<< HEAD
<<<<<<< HEAD
<<<<<<< HEAD
<<<<<<< HEAD
<<<<<<< HEAD
   "id": "fd355a20",
||||||| 11b9cb7
   "id": "859e73ea",
=======
   "id": "7fa363dd",
>>>>>>> documentation-devel
||||||| 614e9b1
   "id": "7fa363dd",
=======
   "id": "ec8fb6d2",
>>>>>>> documentation-devel
||||||| 856b4c0
<<<<<<< HEAD
   "id": "fd355a20",
||||||| 11b9cb7
   "id": "859e73ea",
=======
   "id": "7fa363dd",
>>>>>>> documentation-devel
=======
   "id": "2649e39f",
>>>>>>> 552590ea8fad969b67afdba27558a1e6cb21016e
||||||| 452c944
   "id": "ec8fb6d2",
=======
   "id": "1ea5385e",
>>>>>>> documentation-devel
||||||| 4da3324
<<<<<<< HEAD
<<<<<<< HEAD
<<<<<<< HEAD
   "id": "fd355a20",
||||||| 11b9cb7
   "id": "859e73ea",
=======
   "id": "7fa363dd",
>>>>>>> documentation-devel
||||||| 614e9b1
   "id": "7fa363dd",
=======
   "id": "ec8fb6d2",
>>>>>>> documentation-devel
||||||| 856b4c0
<<<<<<< HEAD
   "id": "fd355a20",
||||||| 11b9cb7
   "id": "859e73ea",
=======
   "id": "7fa363dd",
>>>>>>> documentation-devel
=======
   "id": "2649e39f",
>>>>>>> 552590ea8fad969b67afdba27558a1e6cb21016e
=======
   "id": "f988f492",
>>>>>>> b6e07d13baac92b2c1c9b43f8e4113ffa87bf495
   "metadata": {
    "fig.height": 4,
    "fig.width": 8
   },
   "outputs": [],
   "source": [
    "plot_violin_spatial(sfe, \"Area\")"
   ]
  },
  {
   "cell_type": "markdown",
<<<<<<< HEAD
<<<<<<< HEAD
<<<<<<< HEAD
<<<<<<< HEAD
<<<<<<< HEAD
   "id": "6f6bf584",
||||||| 11b9cb7
   "id": "84047a3e",
=======
   "id": "88d879fe",
>>>>>>> documentation-devel
||||||| 614e9b1
   "id": "88d879fe",
=======
   "id": "66bed2f8",
>>>>>>> documentation-devel
||||||| 856b4c0
<<<<<<< HEAD
   "id": "6f6bf584",
||||||| 11b9cb7
   "id": "84047a3e",
=======
   "id": "88d879fe",
>>>>>>> documentation-devel
=======
   "id": "ad3eb0c8",
>>>>>>> 552590ea8fad969b67afdba27558a1e6cb21016e
||||||| 452c944
   "id": "66bed2f8",
=======
   "id": "4f54bc7b",
>>>>>>> documentation-devel
||||||| 4da3324
<<<<<<< HEAD
<<<<<<< HEAD
<<<<<<< HEAD
   "id": "6f6bf584",
||||||| 11b9cb7
   "id": "84047a3e",
=======
   "id": "88d879fe",
>>>>>>> documentation-devel
||||||| 614e9b1
   "id": "88d879fe",
=======
   "id": "66bed2f8",
>>>>>>> documentation-devel
||||||| 856b4c0
<<<<<<< HEAD
   "id": "6f6bf584",
||||||| 11b9cb7
   "id": "84047a3e",
=======
   "id": "88d879fe",
>>>>>>> documentation-devel
=======
   "id": "ad3eb0c8",
>>>>>>> 552590ea8fad969b67afdba27558a1e6cb21016e
=======
   "id": "86adcd07",
>>>>>>> b6e07d13baac92b2c1c9b43f8e4113ffa87bf495
   "metadata": {
    "lines_to_next_cell": 0
   },
   "source": [
    "Larger cells are more likely to be found in certain areas of the tissue. It could be biological, or that under-segmentation is more likely for that cell type or that tissue region.\n",
    "\n",
    "How does area relate to total counts?"
   ]
  },
  {
   "cell_type": "code",
   "execution_count": null,
<<<<<<< HEAD
<<<<<<< HEAD
<<<<<<< HEAD
<<<<<<< HEAD
<<<<<<< HEAD
   "id": "6207f36f",
||||||| 11b9cb7
   "id": "4a6ebcaf",
=======
   "id": "6fae2143",
>>>>>>> documentation-devel
||||||| 614e9b1
   "id": "6fae2143",
=======
   "id": "5073f812",
>>>>>>> documentation-devel
||||||| 856b4c0
<<<<<<< HEAD
   "id": "6207f36f",
||||||| 11b9cb7
   "id": "4a6ebcaf",
=======
   "id": "6fae2143",
>>>>>>> documentation-devel
=======
   "id": "66d7faee",
>>>>>>> 552590ea8fad969b67afdba27558a1e6cb21016e
||||||| 452c944
   "id": "5073f812",
=======
   "id": "543c63cf",
>>>>>>> documentation-devel
||||||| 4da3324
<<<<<<< HEAD
<<<<<<< HEAD
<<<<<<< HEAD
   "id": "6207f36f",
||||||| 11b9cb7
   "id": "4a6ebcaf",
=======
   "id": "6fae2143",
>>>>>>> documentation-devel
||||||| 614e9b1
   "id": "6fae2143",
=======
   "id": "5073f812",
>>>>>>> documentation-devel
||||||| 856b4c0
<<<<<<< HEAD
   "id": "6207f36f",
||||||| 11b9cb7
   "id": "4a6ebcaf",
=======
   "id": "6fae2143",
>>>>>>> documentation-devel
=======
   "id": "66d7faee",
>>>>>>> 552590ea8fad969b67afdba27558a1e6cb21016e
=======
   "id": "c4af0287",
>>>>>>> b6e07d13baac92b2c1c9b43f8e4113ffa87bf495
   "metadata": {},
   "outputs": [],
   "source": [
    "plotColDataBin2D(sfe, \"nCounts\", \"Area\") + theme_bw()"
   ]
  },
  {
   "cell_type": "markdown",
<<<<<<< HEAD
<<<<<<< HEAD
<<<<<<< HEAD
<<<<<<< HEAD
<<<<<<< HEAD
   "id": "a327da34",
||||||| 11b9cb7
   "id": "421c3bd7",
=======
   "id": "6ada00be",
>>>>>>> documentation-devel
||||||| 614e9b1
   "id": "6ada00be",
=======
   "id": "e9813a46",
>>>>>>> documentation-devel
||||||| 856b4c0
<<<<<<< HEAD
   "id": "a327da34",
||||||| 11b9cb7
   "id": "421c3bd7",
=======
   "id": "6ada00be",
>>>>>>> documentation-devel
=======
   "id": "5753a99e",
>>>>>>> 552590ea8fad969b67afdba27558a1e6cb21016e
||||||| 452c944
   "id": "e9813a46",
=======
   "id": "f92fb7b9",
>>>>>>> documentation-devel
||||||| 4da3324
<<<<<<< HEAD
<<<<<<< HEAD
<<<<<<< HEAD
   "id": "a327da34",
||||||| 11b9cb7
   "id": "421c3bd7",
=======
   "id": "6ada00be",
>>>>>>> documentation-devel
||||||| 614e9b1
   "id": "6ada00be",
=======
   "id": "e9813a46",
>>>>>>> documentation-devel
||||||| 856b4c0
<<<<<<< HEAD
   "id": "a327da34",
||||||| 11b9cb7
   "id": "421c3bd7",
=======
   "id": "6ada00be",
>>>>>>> documentation-devel
=======
   "id": "5753a99e",
>>>>>>> 552590ea8fad969b67afdba27558a1e6cb21016e
=======
   "id": "48c61cea",
>>>>>>> b6e07d13baac92b2c1c9b43f8e4113ffa87bf495
   "metadata": {
    "lines_to_next_cell": 0
   },
   "source": [
    "While there may vaguely seem that cells with more total counts tend to be larger (at least in this z-plane), there are some cells that are large but have low total counts.\n",
    "\n",
    "Negative control probes are used in this dataset for QC. Here we calculate the proportion of transcripts attributed to the negative controls."
   ]
  },
  {
   "cell_type": "code",
   "execution_count": null,
<<<<<<< HEAD
<<<<<<< HEAD
<<<<<<< HEAD
<<<<<<< HEAD
<<<<<<< HEAD
   "id": "3305f200",
||||||| 11b9cb7
   "id": "f023caee",
=======
   "id": "8a0f8440",
>>>>>>> documentation-devel
||||||| 614e9b1
   "id": "8a0f8440",
=======
   "id": "caa8d08b",
>>>>>>> documentation-devel
||||||| 856b4c0
<<<<<<< HEAD
   "id": "3305f200",
||||||| 11b9cb7
   "id": "f023caee",
=======
   "id": "8a0f8440",
>>>>>>> documentation-devel
=======
   "id": "aff99b81",
>>>>>>> 552590ea8fad969b67afdba27558a1e6cb21016e
||||||| 452c944
   "id": "caa8d08b",
=======
   "id": "d4319f81",
>>>>>>> documentation-devel
||||||| 4da3324
<<<<<<< HEAD
<<<<<<< HEAD
<<<<<<< HEAD
   "id": "3305f200",
||||||| 11b9cb7
   "id": "f023caee",
=======
   "id": "8a0f8440",
>>>>>>> documentation-devel
||||||| 614e9b1
   "id": "8a0f8440",
=======
   "id": "caa8d08b",
>>>>>>> documentation-devel
||||||| 856b4c0
<<<<<<< HEAD
   "id": "3305f200",
||||||| 11b9cb7
   "id": "f023caee",
=======
   "id": "8a0f8440",
>>>>>>> documentation-devel
=======
   "id": "aff99b81",
>>>>>>> 552590ea8fad969b67afdba27558a1e6cb21016e
=======
   "id": "e7da6372",
>>>>>>> b6e07d13baac92b2c1c9b43f8e4113ffa87bf495
   "metadata": {},
   "outputs": [],
   "source": [
    "neg_inds <- str_detect(rownames(sfe), \"^NegPrb\")\n",
    "# Number of negative control probes\n",
    "sum(neg_inds)\n",
    "colData(sfe)$prop_neg <- colSums(counts(sfe)[neg_inds,])/colData(sfe)$nCounts"
   ]
  },
  {
   "cell_type": "code",
   "execution_count": null,
<<<<<<< HEAD
<<<<<<< HEAD
<<<<<<< HEAD
<<<<<<< HEAD
<<<<<<< HEAD
   "id": "6f03133e",
||||||| 11b9cb7
   "id": "c15294ee",
=======
   "id": "9b77a10c",
>>>>>>> documentation-devel
||||||| 614e9b1
   "id": "9b77a10c",
=======
   "id": "9c43a60a",
>>>>>>> documentation-devel
||||||| 856b4c0
<<<<<<< HEAD
   "id": "6f03133e",
||||||| 11b9cb7
   "id": "c15294ee",
=======
   "id": "9b77a10c",
>>>>>>> documentation-devel
=======
   "id": "a0aaac54",
>>>>>>> 552590ea8fad969b67afdba27558a1e6cb21016e
||||||| 452c944
   "id": "9c43a60a",
=======
   "id": "4038e4b9",
>>>>>>> documentation-devel
||||||| 4da3324
<<<<<<< HEAD
<<<<<<< HEAD
<<<<<<< HEAD
   "id": "6f03133e",
||||||| 11b9cb7
   "id": "c15294ee",
=======
   "id": "9b77a10c",
>>>>>>> documentation-devel
||||||| 614e9b1
   "id": "9b77a10c",
=======
   "id": "9c43a60a",
>>>>>>> documentation-devel
||||||| 856b4c0
<<<<<<< HEAD
   "id": "6f03133e",
||||||| 11b9cb7
   "id": "c15294ee",
=======
   "id": "9b77a10c",
>>>>>>> documentation-devel
=======
   "id": "a0aaac54",
>>>>>>> 552590ea8fad969b67afdba27558a1e6cb21016e
=======
   "id": "7fc0d823",
>>>>>>> b6e07d13baac92b2c1c9b43f8e4113ffa87bf495
   "metadata": {
    "fig.height": 4,
    "fig.width": 8
   },
   "outputs": [],
   "source": [
    "plot_violin_spatial(sfe, \"prop_neg\")"
   ]
  },
  {
   "cell_type": "markdown",
<<<<<<< HEAD
<<<<<<< HEAD
<<<<<<< HEAD
<<<<<<< HEAD
<<<<<<< HEAD
   "id": "c1617da8",
||||||| 11b9cb7
   "id": "de3a20ad",
=======
   "id": "6cfb1626",
>>>>>>> documentation-devel
||||||| 614e9b1
   "id": "6cfb1626",
=======
   "id": "f1092f22",
>>>>>>> documentation-devel
||||||| 856b4c0
<<<<<<< HEAD
   "id": "c1617da8",
||||||| 11b9cb7
   "id": "de3a20ad",
=======
   "id": "6cfb1626",
>>>>>>> documentation-devel
=======
   "id": "a1bfd5f5",
>>>>>>> 552590ea8fad969b67afdba27558a1e6cb21016e
||||||| 452c944
   "id": "f1092f22",
=======
   "id": "3b244f4b",
>>>>>>> documentation-devel
||||||| 4da3324
<<<<<<< HEAD
<<<<<<< HEAD
<<<<<<< HEAD
   "id": "c1617da8",
||||||| 11b9cb7
   "id": "de3a20ad",
=======
   "id": "6cfb1626",
>>>>>>> documentation-devel
||||||| 614e9b1
   "id": "6cfb1626",
=======
   "id": "f1092f22",
>>>>>>> documentation-devel
||||||| 856b4c0
<<<<<<< HEAD
   "id": "c1617da8",
||||||| 11b9cb7
   "id": "de3a20ad",
=======
   "id": "6cfb1626",
>>>>>>> documentation-devel
=======
   "id": "a1bfd5f5",
>>>>>>> 552590ea8fad969b67afdba27558a1e6cb21016e
=======
   "id": "bbc45a76",
>>>>>>> b6e07d13baac92b2c1c9b43f8e4113ffa87bf495
   "metadata": {},
   "source": [
    "The NA's are empty cells, and the proportion is very low except for a few outliers. How does prop_neg relate to nCounts?"
   ]
  },
  {
   "cell_type": "code",
   "execution_count": null,
<<<<<<< HEAD
<<<<<<< HEAD
<<<<<<< HEAD
<<<<<<< HEAD
<<<<<<< HEAD
   "id": "ba59c557",
||||||| 11b9cb7
   "id": "906bdf22",
=======
   "id": "1c52224a",
>>>>>>> documentation-devel
||||||| 614e9b1
   "id": "1c52224a",
=======
   "id": "fa017103",
>>>>>>> documentation-devel
||||||| 856b4c0
<<<<<<< HEAD
   "id": "ba59c557",
||||||| 11b9cb7
   "id": "906bdf22",
=======
   "id": "1c52224a",
>>>>>>> documentation-devel
=======
   "id": "63c64f1b",
>>>>>>> 552590ea8fad969b67afdba27558a1e6cb21016e
||||||| 452c944
   "id": "fa017103",
=======
   "id": "e89ed57c",
>>>>>>> documentation-devel
||||||| 4da3324
<<<<<<< HEAD
<<<<<<< HEAD
<<<<<<< HEAD
   "id": "ba59c557",
||||||| 11b9cb7
   "id": "906bdf22",
=======
   "id": "1c52224a",
>>>>>>> documentation-devel
||||||| 614e9b1
   "id": "1c52224a",
=======
   "id": "fa017103",
>>>>>>> documentation-devel
||||||| 856b4c0
<<<<<<< HEAD
   "id": "ba59c557",
||||||| 11b9cb7
   "id": "906bdf22",
=======
   "id": "1c52224a",
>>>>>>> documentation-devel
=======
   "id": "63c64f1b",
>>>>>>> 552590ea8fad969b67afdba27558a1e6cb21016e
=======
   "id": "48aa66f7",
>>>>>>> b6e07d13baac92b2c1c9b43f8e4113ffa87bf495
   "metadata": {},
   "outputs": [],
   "source": [
    "plotColDataBin2D(sfe, \"nCounts\", \"prop_neg\") +\n",
    "    scale_fill_viridis_c()"
   ]
  },
  {
   "cell_type": "markdown",
<<<<<<< HEAD
<<<<<<< HEAD
<<<<<<< HEAD
<<<<<<< HEAD
<<<<<<< HEAD
   "id": "3029973b",
||||||| 11b9cb7
   "id": "d2f14af7",
=======
   "id": "64028a1f",
>>>>>>> documentation-devel
||||||| 614e9b1
   "id": "64028a1f",
=======
   "id": "a88366b1",
>>>>>>> documentation-devel
||||||| 856b4c0
<<<<<<< HEAD
   "id": "3029973b",
||||||| 11b9cb7
   "id": "d2f14af7",
=======
   "id": "64028a1f",
>>>>>>> documentation-devel
=======
   "id": "b9edbc86",
>>>>>>> 552590ea8fad969b67afdba27558a1e6cb21016e
||||||| 452c944
   "id": "a88366b1",
=======
   "id": "c00c938e",
>>>>>>> documentation-devel
||||||| 4da3324
<<<<<<< HEAD
<<<<<<< HEAD
<<<<<<< HEAD
   "id": "3029973b",
||||||| 11b9cb7
   "id": "d2f14af7",
=======
   "id": "64028a1f",
>>>>>>> documentation-devel
||||||| 614e9b1
   "id": "64028a1f",
=======
   "id": "a88366b1",
>>>>>>> documentation-devel
||||||| 856b4c0
<<<<<<< HEAD
   "id": "3029973b",
||||||| 11b9cb7
   "id": "d2f14af7",
=======
   "id": "64028a1f",
>>>>>>> documentation-devel
=======
   "id": "b9edbc86",
>>>>>>> 552590ea8fad969b67afdba27558a1e6cb21016e
=======
   "id": "44e25eaf",
>>>>>>> b6e07d13baac92b2c1c9b43f8e4113ffa87bf495
   "metadata": {
    "lines_to_next_cell": 0
   },
   "source": [
    "This looks kind of like the proportion of mitochondrial counts vs. nCounts plot for scRNA-seq, where cells with fewer total counts tend to have higher proportion of mitochondrial counts."
   ]
  },
  {
   "cell_type": "code",
   "execution_count": null,
<<<<<<< HEAD
<<<<<<< HEAD
<<<<<<< HEAD
<<<<<<< HEAD
<<<<<<< HEAD
   "id": "dbd5cadf",
||||||| 11b9cb7
   "id": "eea0a697",
=======
   "id": "10cc8a2e",
>>>>>>> documentation-devel
||||||| 614e9b1
   "id": "10cc8a2e",
=======
   "id": "11217759",
>>>>>>> documentation-devel
||||||| 856b4c0
<<<<<<< HEAD
   "id": "dbd5cadf",
||||||| 11b9cb7
   "id": "eea0a697",
=======
   "id": "10cc8a2e",
>>>>>>> documentation-devel
=======
   "id": "9f91157e",
>>>>>>> 552590ea8fad969b67afdba27558a1e6cb21016e
||||||| 452c944
   "id": "11217759",
=======
   "id": "3e244d59",
>>>>>>> documentation-devel
||||||| 4da3324
<<<<<<< HEAD
<<<<<<< HEAD
<<<<<<< HEAD
   "id": "dbd5cadf",
||||||| 11b9cb7
   "id": "eea0a697",
=======
   "id": "10cc8a2e",
>>>>>>> documentation-devel
||||||| 614e9b1
   "id": "10cc8a2e",
=======
   "id": "11217759",
>>>>>>> documentation-devel
||||||| 856b4c0
<<<<<<< HEAD
   "id": "dbd5cadf",
||||||| 11b9cb7
   "id": "eea0a697",
=======
   "id": "10cc8a2e",
>>>>>>> documentation-devel
=======
   "id": "9f91157e",
>>>>>>> 552590ea8fad969b67afdba27558a1e6cb21016e
=======
   "id": "60ddff3c",
>>>>>>> b6e07d13baac92b2c1c9b43f8e4113ffa87bf495
   "metadata": {},
   "outputs": [],
   "source": [
    "# The zeros are removed\n",
    "plotColDataHistogram(sfe, \"prop_neg\") +\n",
    "    scale_x_log10()"
   ]
  },
  {
   "cell_type": "markdown",
<<<<<<< HEAD
<<<<<<< HEAD
<<<<<<< HEAD
<<<<<<< HEAD
<<<<<<< HEAD
   "id": "f4537a74",
||||||| 11b9cb7
   "id": "60d4f35b",
=======
   "id": "19bf2901",
>>>>>>> documentation-devel
||||||| 614e9b1
   "id": "19bf2901",
=======
   "id": "4130a1bb",
>>>>>>> documentation-devel
||||||| 856b4c0
<<<<<<< HEAD
   "id": "f4537a74",
||||||| 11b9cb7
   "id": "60d4f35b",
=======
   "id": "19bf2901",
>>>>>>> documentation-devel
=======
   "id": "ff589eee",
>>>>>>> 552590ea8fad969b67afdba27558a1e6cb21016e
||||||| 452c944
   "id": "4130a1bb",
=======
   "id": "7053190a",
>>>>>>> documentation-devel
||||||| 4da3324
<<<<<<< HEAD
<<<<<<< HEAD
<<<<<<< HEAD
   "id": "f4537a74",
||||||| 11b9cb7
   "id": "60d4f35b",
=======
   "id": "19bf2901",
>>>>>>> documentation-devel
||||||| 614e9b1
   "id": "19bf2901",
=======
   "id": "4130a1bb",
>>>>>>> documentation-devel
||||||| 856b4c0
<<<<<<< HEAD
   "id": "f4537a74",
||||||| 11b9cb7
   "id": "60d4f35b",
=======
   "id": "19bf2901",
>>>>>>> documentation-devel
=======
   "id": "ff589eee",
>>>>>>> 552590ea8fad969b67afdba27558a1e6cb21016e
=======
   "id": "c66b241e",
>>>>>>> b6e07d13baac92b2c1c9b43f8e4113ffa87bf495
   "metadata": {},
   "source": [
    "The distribution is not obviously bimodal, and since the x-axis is log transformed to better visualize the distribution, the 0's have been removed. It's kind of arbitrary; for now we'll remove cells with more than 10% of transcripts from negative controls."
   ]
  },
  {
   "cell_type": "code",
   "execution_count": null,
<<<<<<< HEAD
<<<<<<< HEAD
<<<<<<< HEAD
<<<<<<< HEAD
<<<<<<< HEAD
   "id": "1c02636a",
||||||| 11b9cb7
   "id": "783e7cf4",
=======
   "id": "764a089d",
>>>>>>> documentation-devel
||||||| 614e9b1
   "id": "764a089d",
=======
   "id": "feb318b7",
>>>>>>> documentation-devel
||||||| 856b4c0
<<<<<<< HEAD
   "id": "1c02636a",
||||||| 11b9cb7
   "id": "783e7cf4",
=======
   "id": "764a089d",
>>>>>>> documentation-devel
=======
   "id": "f2d8ab8d",
>>>>>>> 552590ea8fad969b67afdba27558a1e6cb21016e
||||||| 452c944
   "id": "feb318b7",
=======
   "id": "0d74c6cd",
>>>>>>> documentation-devel
||||||| 4da3324
<<<<<<< HEAD
<<<<<<< HEAD
<<<<<<< HEAD
   "id": "1c02636a",
||||||| 11b9cb7
   "id": "783e7cf4",
=======
   "id": "764a089d",
>>>>>>> documentation-devel
||||||| 614e9b1
   "id": "764a089d",
=======
   "id": "feb318b7",
>>>>>>> documentation-devel
||||||| 856b4c0
<<<<<<< HEAD
   "id": "1c02636a",
||||||| 11b9cb7
   "id": "783e7cf4",
=======
   "id": "764a089d",
>>>>>>> documentation-devel
=======
   "id": "f2d8ab8d",
>>>>>>> 552590ea8fad969b67afdba27558a1e6cb21016e
=======
   "id": "f80b8b49",
>>>>>>> b6e07d13baac92b2c1c9b43f8e4113ffa87bf495
   "metadata": {},
   "outputs": [],
   "source": [
    "# Remove low quality cells\n",
    "(sfe <- sfe[,!sfe$is_empty & sfe$prop_neg < 0.1])"
   ]
  },
  {
   "cell_type": "markdown",
<<<<<<< HEAD
<<<<<<< HEAD
<<<<<<< HEAD
<<<<<<< HEAD
<<<<<<< HEAD
   "id": "4df670d2",
||||||| 11b9cb7
   "id": "204c740a",
=======
   "id": "5c996086",
>>>>>>> documentation-devel
||||||| 614e9b1
   "id": "5c996086",
=======
   "id": "52b0e41d",
>>>>>>> documentation-devel
||||||| 856b4c0
<<<<<<< HEAD
   "id": "4df670d2",
||||||| 11b9cb7
   "id": "204c740a",
=======
   "id": "5c996086",
>>>>>>> documentation-devel
=======
   "id": "0089b0f5",
>>>>>>> 552590ea8fad969b67afdba27558a1e6cb21016e
||||||| 452c944
   "id": "52b0e41d",
=======
   "id": "a387b175",
>>>>>>> documentation-devel
||||||| 4da3324
<<<<<<< HEAD
<<<<<<< HEAD
<<<<<<< HEAD
   "id": "4df670d2",
||||||| 11b9cb7
   "id": "204c740a",
=======
   "id": "5c996086",
>>>>>>> documentation-devel
||||||| 614e9b1
   "id": "5c996086",
=======
   "id": "52b0e41d",
>>>>>>> documentation-devel
||||||| 856b4c0
<<<<<<< HEAD
   "id": "4df670d2",
||||||| 11b9cb7
   "id": "204c740a",
=======
   "id": "5c996086",
>>>>>>> documentation-devel
=======
   "id": "0089b0f5",
>>>>>>> 552590ea8fad969b67afdba27558a1e6cb21016e
=======
   "id": "4eb70b18",
>>>>>>> b6e07d13baac92b2c1c9b43f8e4113ffa87bf495
   "metadata": {
    "lines_to_next_cell": 0
   },
   "source": [
    "After removing the low quality cells, there are 100,095 cells left.\n",
    "\n",
    "### Markers\n",
    "Nanostring provides some cell stain and marker intensities in the cell metadata."
   ]
  },
  {
   "cell_type": "code",
   "execution_count": null,
<<<<<<< HEAD
<<<<<<< HEAD
<<<<<<< HEAD
<<<<<<< HEAD
<<<<<<< HEAD
   "id": "e3c48fb0",
||||||| 11b9cb7
   "id": "cc326f01",
=======
   "id": "7ac29340",
>>>>>>> documentation-devel
||||||| 614e9b1
   "id": "7ac29340",
=======
   "id": "27c81654",
>>>>>>> documentation-devel
||||||| 856b4c0
<<<<<<< HEAD
   "id": "e3c48fb0",
||||||| 11b9cb7
   "id": "cc326f01",
=======
   "id": "7ac29340",
>>>>>>> documentation-devel
=======
   "id": "b57a54dc",
>>>>>>> 552590ea8fad969b67afdba27558a1e6cb21016e
||||||| 452c944
   "id": "27c81654",
=======
   "id": "5556fd26",
>>>>>>> documentation-devel
||||||| 4da3324
<<<<<<< HEAD
<<<<<<< HEAD
<<<<<<< HEAD
   "id": "e3c48fb0",
||||||| 11b9cb7
   "id": "cc326f01",
=======
   "id": "7ac29340",
>>>>>>> documentation-devel
||||||| 614e9b1
   "id": "7ac29340",
=======
   "id": "27c81654",
>>>>>>> documentation-devel
||||||| 856b4c0
<<<<<<< HEAD
   "id": "e3c48fb0",
||||||| 11b9cb7
   "id": "cc326f01",
=======
   "id": "7ac29340",
>>>>>>> documentation-devel
=======
   "id": "b57a54dc",
>>>>>>> 552590ea8fad969b67afdba27558a1e6cb21016e
=======
   "id": "7b90920c",
>>>>>>> b6e07d13baac92b2c1c9b43f8e4113ffa87bf495
   "metadata": {},
   "outputs": [],
   "source": [
    "names(colData(sfe))"
   ]
  },
  {
   "cell_type": "markdown",
<<<<<<< HEAD
<<<<<<< HEAD
<<<<<<< HEAD
<<<<<<< HEAD
<<<<<<< HEAD
   "id": "cb3c19a3",
||||||| 11b9cb7
   "id": "7acb8c6c",
=======
   "id": "e1433cb7",
>>>>>>> documentation-devel
||||||| 614e9b1
   "id": "e1433cb7",
=======
   "id": "9c2f24fd",
>>>>>>> documentation-devel
||||||| 856b4c0
<<<<<<< HEAD
   "id": "cb3c19a3",
||||||| 11b9cb7
   "id": "7acb8c6c",
=======
   "id": "e1433cb7",
>>>>>>> documentation-devel
=======
   "id": "6840d735",
>>>>>>> 552590ea8fad969b67afdba27558a1e6cb21016e
||||||| 452c944
   "id": "9c2f24fd",
=======
   "id": "084711c0",
>>>>>>> documentation-devel
||||||| 4da3324
<<<<<<< HEAD
<<<<<<< HEAD
<<<<<<< HEAD
   "id": "cb3c19a3",
||||||| 11b9cb7
   "id": "7acb8c6c",
=======
   "id": "e1433cb7",
>>>>>>> documentation-devel
||||||| 614e9b1
   "id": "e1433cb7",
=======
   "id": "9c2f24fd",
>>>>>>> documentation-devel
||||||| 856b4c0
<<<<<<< HEAD
   "id": "cb3c19a3",
||||||| 11b9cb7
   "id": "7acb8c6c",
=======
   "id": "e1433cb7",
>>>>>>> documentation-devel
=======
   "id": "6840d735",
>>>>>>> 552590ea8fad969b67afdba27558a1e6cb21016e
=======
   "id": "55a87c0a",
>>>>>>> b6e07d13baac92b2c1c9b43f8e4113ffa87bf495
   "metadata": {
    "lines_to_next_cell": 0
   },
   "source": [
    "Here we plot aspect ratio and mean intensity of cells stains and markers, which have not been plotted before. PanCK is a marker for epithelial cells. CD45 is a leukocyte marker. CD3 is a T cell marker. Since it takes quite a while to plot 100,000 cells 6 times, `scattermore` really helps."
   ]
  },
  {
   "cell_type": "code",
   "execution_count": null,
<<<<<<< HEAD
<<<<<<< HEAD
<<<<<<< HEAD
<<<<<<< HEAD
<<<<<<< HEAD
   "id": "798eb5ef",
||||||| 11b9cb7
   "id": "b7f382e9",
=======
   "id": "e51c4375",
>>>>>>> documentation-devel
||||||| 614e9b1
   "id": "e51c4375",
=======
   "id": "bec4142c",
>>>>>>> documentation-devel
||||||| 856b4c0
<<<<<<< HEAD
   "id": "798eb5ef",
||||||| 11b9cb7
   "id": "b7f382e9",
=======
   "id": "e51c4375",
>>>>>>> documentation-devel
=======
   "id": "421bd27b",
>>>>>>> 552590ea8fad969b67afdba27558a1e6cb21016e
||||||| 452c944
   "id": "bec4142c",
=======
   "id": "4c3b794a",
>>>>>>> documentation-devel
||||||| 4da3324
<<<<<<< HEAD
<<<<<<< HEAD
<<<<<<< HEAD
   "id": "798eb5ef",
||||||| 11b9cb7
   "id": "b7f382e9",
=======
   "id": "e51c4375",
>>>>>>> documentation-devel
||||||| 614e9b1
   "id": "e51c4375",
=======
   "id": "bec4142c",
>>>>>>> documentation-devel
||||||| 856b4c0
<<<<<<< HEAD
   "id": "798eb5ef",
||||||| 11b9cb7
   "id": "b7f382e9",
=======
   "id": "e51c4375",
>>>>>>> documentation-devel
=======
   "id": "421bd27b",
>>>>>>> 552590ea8fad969b67afdba27558a1e6cb21016e
=======
   "id": "bfd575cb",
>>>>>>> b6e07d13baac92b2c1c9b43f8e4113ffa87bf495
   "metadata": {
    "fig.height": 9,
    "fig.width": 10
   },
   "outputs": [],
   "source": [
    "plotSpatialFeature(sfe, c(\"AspectRatio\", \"Mean.DAPI\", \"Mean.MembraneStain\", \n",
    "                          \"Mean.PanCK\", \"Mean.CD45\", \"Mean.CD3\"),\n",
    "                   colGeometryName = \"centroids\", ncol = 2, scattermore = TRUE)"
   ]
  },
  {
   "cell_type": "markdown",
<<<<<<< HEAD
<<<<<<< HEAD
<<<<<<< HEAD
<<<<<<< HEAD
<<<<<<< HEAD
   "id": "b59684ff",
||||||| 11b9cb7
   "id": "d7c9cbc2",
=======
   "id": "db89b702",
>>>>>>> documentation-devel
||||||| 614e9b1
   "id": "db89b702",
=======
   "id": "d4fa8b41",
>>>>>>> documentation-devel
||||||| 856b4c0
<<<<<<< HEAD
   "id": "b59684ff",
||||||| 11b9cb7
   "id": "d7c9cbc2",
=======
   "id": "db89b702",
>>>>>>> documentation-devel
=======
   "id": "abcb8aee",
>>>>>>> 552590ea8fad969b67afdba27558a1e6cb21016e
||||||| 452c944
   "id": "d4fa8b41",
=======
   "id": "8bd8cb43",
>>>>>>> documentation-devel
||||||| 4da3324
<<<<<<< HEAD
<<<<<<< HEAD
<<<<<<< HEAD
   "id": "b59684ff",
||||||| 11b9cb7
   "id": "d7c9cbc2",
=======
   "id": "db89b702",
>>>>>>> documentation-devel
||||||| 614e9b1
   "id": "db89b702",
=======
   "id": "d4fa8b41",
>>>>>>> documentation-devel
||||||| 856b4c0
<<<<<<< HEAD
   "id": "b59684ff",
||||||| 11b9cb7
   "id": "d7c9cbc2",
=======
   "id": "db89b702",
>>>>>>> documentation-devel
=======
   "id": "abcb8aee",
>>>>>>> 552590ea8fad969b67afdba27558a1e6cb21016e
=======
   "id": "ad12ec9c",
>>>>>>> b6e07d13baac92b2c1c9b43f8e4113ffa87bf495
   "metadata": {
    "lines_to_next_cell": 0
   },
   "source": [
    "## Genes"
   ]
  },
  {
   "cell_type": "code",
   "execution_count": null,
<<<<<<< HEAD
<<<<<<< HEAD
<<<<<<< HEAD
<<<<<<< HEAD
<<<<<<< HEAD
   "id": "ce125003",
||||||| 11b9cb7
   "id": "dc364dd6",
=======
   "id": "c7f24a0d",
>>>>>>> documentation-devel
||||||| 614e9b1
   "id": "c7f24a0d",
=======
   "id": "8025a498",
>>>>>>> documentation-devel
||||||| 856b4c0
<<<<<<< HEAD
   "id": "ce125003",
||||||| 11b9cb7
   "id": "dc364dd6",
=======
   "id": "c7f24a0d",
>>>>>>> documentation-devel
=======
   "id": "9d36860a",
>>>>>>> 552590ea8fad969b67afdba27558a1e6cb21016e
||||||| 452c944
   "id": "8025a498",
=======
   "id": "86bc5203",
>>>>>>> documentation-devel
||||||| 4da3324
<<<<<<< HEAD
<<<<<<< HEAD
<<<<<<< HEAD
   "id": "ce125003",
||||||| 11b9cb7
   "id": "dc364dd6",
=======
   "id": "c7f24a0d",
>>>>>>> documentation-devel
||||||| 614e9b1
   "id": "c7f24a0d",
=======
   "id": "8025a498",
>>>>>>> documentation-devel
||||||| 856b4c0
<<<<<<< HEAD
   "id": "ce125003",
||||||| 11b9cb7
   "id": "dc364dd6",
=======
   "id": "c7f24a0d",
>>>>>>> documentation-devel
=======
   "id": "9d36860a",
>>>>>>> 552590ea8fad969b67afdba27558a1e6cb21016e
=======
   "id": "23175d34",
>>>>>>> b6e07d13baac92b2c1c9b43f8e4113ffa87bf495
   "metadata": {},
   "outputs": [],
   "source": [
    "rowData(sfe)$means <- rowMeans(counts(sfe))\n",
    "rowData(sfe)$vars <- rowVars(counts(sfe))\n",
    "rowData(sfe)$is_neg <- neg_inds"
   ]
  },
  {
   "cell_type": "code",
   "execution_count": null,
<<<<<<< HEAD
<<<<<<< HEAD
<<<<<<< HEAD
<<<<<<< HEAD
<<<<<<< HEAD
   "id": "ef2e3257",
||||||| 11b9cb7
   "id": "88202523",
=======
   "id": "80d01363",
>>>>>>> documentation-devel
||||||| 614e9b1
   "id": "80d01363",
=======
   "id": "d8b7e244",
>>>>>>> documentation-devel
||||||| 856b4c0
<<<<<<< HEAD
   "id": "ef2e3257",
||||||| 11b9cb7
   "id": "88202523",
=======
   "id": "80d01363",
>>>>>>> documentation-devel
=======
   "id": "611e16d4",
>>>>>>> 552590ea8fad969b67afdba27558a1e6cb21016e
||||||| 452c944
   "id": "d8b7e244",
=======
   "id": "bae0af5e",
>>>>>>> documentation-devel
||||||| 4da3324
<<<<<<< HEAD
<<<<<<< HEAD
<<<<<<< HEAD
   "id": "ef2e3257",
||||||| 11b9cb7
   "id": "88202523",
=======
   "id": "80d01363",
>>>>>>> documentation-devel
||||||| 614e9b1
   "id": "80d01363",
=======
   "id": "d8b7e244",
>>>>>>> documentation-devel
||||||| 856b4c0
<<<<<<< HEAD
   "id": "ef2e3257",
||||||| 11b9cb7
   "id": "88202523",
=======
   "id": "80d01363",
>>>>>>> documentation-devel
=======
   "id": "611e16d4",
>>>>>>> 552590ea8fad969b67afdba27558a1e6cb21016e
=======
   "id": "bf404deb",
>>>>>>> b6e07d13baac92b2c1c9b43f8e4113ffa87bf495
   "metadata": {},
   "outputs": [],
   "source": [
    "plotRowDataBin2D(sfe, \"means\", \"vars\", subset = \"is_neg\", bins = 50) +\n",
    "    geom_abline(slope = 1, intercept = 0, color = \"red\") +\n",
    "    scale_x_log10() + scale_y_log10() +\n",
    "    annotation_logticks() +\n",
    "    coord_equal()"
   ]
  },
  {
   "cell_type": "markdown",
<<<<<<< HEAD
<<<<<<< HEAD
<<<<<<< HEAD
<<<<<<< HEAD
<<<<<<< HEAD
   "id": "25e52852",
||||||| 11b9cb7
   "id": "1ded9b4c",
=======
   "id": "93457f70",
>>>>>>> documentation-devel
||||||| 614e9b1
   "id": "93457f70",
=======
   "id": "f3b4320f",
>>>>>>> documentation-devel
||||||| 856b4c0
<<<<<<< HEAD
   "id": "25e52852",
||||||| 11b9cb7
   "id": "1ded9b4c",
=======
   "id": "93457f70",
>>>>>>> documentation-devel
=======
   "id": "c468d3bd",
>>>>>>> 552590ea8fad969b67afdba27558a1e6cb21016e
||||||| 452c944
   "id": "f3b4320f",
=======
   "id": "01f54994",
>>>>>>> documentation-devel
||||||| 4da3324
<<<<<<< HEAD
<<<<<<< HEAD
<<<<<<< HEAD
   "id": "25e52852",
||||||| 11b9cb7
   "id": "1ded9b4c",
=======
   "id": "93457f70",
>>>>>>> documentation-devel
||||||| 614e9b1
   "id": "93457f70",
=======
   "id": "f3b4320f",
>>>>>>> documentation-devel
||||||| 856b4c0
<<<<<<< HEAD
   "id": "25e52852",
||||||| 11b9cb7
   "id": "1ded9b4c",
=======
   "id": "93457f70",
>>>>>>> documentation-devel
=======
   "id": "c468d3bd",
>>>>>>> 552590ea8fad969b67afdba27558a1e6cb21016e
=======
   "id": "5da546d0",
>>>>>>> b6e07d13baac92b2c1c9b43f8e4113ffa87bf495
   "metadata": {},
   "source": [
    "The red line $y = x$ is expected from Poisson data. Gene expression in this dataset has more variance than expected from Poisson, even for gene with lower expression. Zoom into the negative controls"
   ]
  },
  {
   "cell_type": "code",
   "execution_count": null,
<<<<<<< HEAD
<<<<<<< HEAD
<<<<<<< HEAD
<<<<<<< HEAD
<<<<<<< HEAD
   "id": "269474c6",
||||||| 11b9cb7
   "id": "e78d199a",
=======
   "id": "5eec010f",
>>>>>>> documentation-devel
||||||| 614e9b1
   "id": "5eec010f",
=======
   "id": "d4247519",
>>>>>>> documentation-devel
||||||| 856b4c0
<<<<<<< HEAD
   "id": "269474c6",
||||||| 11b9cb7
   "id": "e78d199a",
=======
   "id": "5eec010f",
>>>>>>> documentation-devel
=======
   "id": "5fd6c0d6",
>>>>>>> 552590ea8fad969b67afdba27558a1e6cb21016e
||||||| 452c944
   "id": "d4247519",
=======
   "id": "610723d2",
>>>>>>> documentation-devel
||||||| 4da3324
<<<<<<< HEAD
<<<<<<< HEAD
<<<<<<< HEAD
   "id": "269474c6",
||||||| 11b9cb7
   "id": "e78d199a",
=======
   "id": "5eec010f",
>>>>>>> documentation-devel
||||||| 614e9b1
   "id": "5eec010f",
=======
   "id": "d4247519",
>>>>>>> documentation-devel
||||||| 856b4c0
<<<<<<< HEAD
   "id": "269474c6",
||||||| 11b9cb7
   "id": "e78d199a",
=======
   "id": "5eec010f",
>>>>>>> documentation-devel
=======
   "id": "5fd6c0d6",
>>>>>>> 552590ea8fad969b67afdba27558a1e6cb21016e
=======
   "id": "ae3032bb",
>>>>>>> b6e07d13baac92b2c1c9b43f8e4113ffa87bf495
   "metadata": {},
   "outputs": [],
   "source": [
    "as.data.frame(rowData(sfe)[neg_inds,]) |> \n",
    "    ggplot(aes(means, vars)) +\n",
    "    geom_point() +\n",
    "    geom_abline(slope = 1, intercept = 0, color = \"red\") +\n",
    "    scale_x_log10() + scale_y_log10() +\n",
    "    annotation_logticks() +\n",
    "    coord_equal()"
   ]
  },
  {
   "cell_type": "markdown",
<<<<<<< HEAD
<<<<<<< HEAD
<<<<<<< HEAD
<<<<<<< HEAD
<<<<<<< HEAD
   "id": "b4bcbbb5",
||||||| 11b9cb7
   "id": "8b238c5c",
=======
   "id": "0ffd5b30",
>>>>>>> documentation-devel
||||||| 614e9b1
   "id": "0ffd5b30",
=======
   "id": "1938feb5",
>>>>>>> documentation-devel
||||||| 856b4c0
<<<<<<< HEAD
   "id": "b4bcbbb5",
||||||| 11b9cb7
   "id": "8b238c5c",
=======
   "id": "0ffd5b30",
>>>>>>> documentation-devel
=======
   "id": "b1df119e",
>>>>>>> 552590ea8fad969b67afdba27558a1e6cb21016e
||||||| 452c944
   "id": "1938feb5",
=======
   "id": "ad338f16",
>>>>>>> documentation-devel
||||||| 4da3324
<<<<<<< HEAD
<<<<<<< HEAD
<<<<<<< HEAD
   "id": "b4bcbbb5",
||||||| 11b9cb7
   "id": "8b238c5c",
=======
   "id": "0ffd5b30",
>>>>>>> documentation-devel
||||||| 614e9b1
   "id": "0ffd5b30",
=======
   "id": "1938feb5",
>>>>>>> documentation-devel
||||||| 856b4c0
<<<<<<< HEAD
   "id": "b4bcbbb5",
||||||| 11b9cb7
   "id": "8b238c5c",
=======
   "id": "0ffd5b30",
>>>>>>> documentation-devel
=======
   "id": "b1df119e",
>>>>>>> 552590ea8fad969b67afdba27558a1e6cb21016e
=======
   "id": "9cd6b20d",
>>>>>>> b6e07d13baac92b2c1c9b43f8e4113ffa87bf495
   "metadata": {
    "lines_to_next_cell": 0
   },
   "source": [
    "Among the \"high quality\" cells, the negative controls still have higher variance relative to mean compared to Poisson. \n",
    "\n",
    "Negative controls vs. real genes"
   ]
  },
  {
   "cell_type": "code",
   "execution_count": null,
<<<<<<< HEAD
<<<<<<< HEAD
<<<<<<< HEAD
<<<<<<< HEAD
<<<<<<< HEAD
   "id": "1a5eafae",
||||||| 11b9cb7
   "id": "8006ecad",
=======
   "id": "d487a7cc",
>>>>>>> documentation-devel
||||||| 614e9b1
   "id": "d487a7cc",
=======
   "id": "188a7de0",
>>>>>>> documentation-devel
||||||| 856b4c0
<<<<<<< HEAD
   "id": "1a5eafae",
||||||| 11b9cb7
   "id": "8006ecad",
=======
   "id": "d487a7cc",
>>>>>>> documentation-devel
=======
   "id": "013b527f",
>>>>>>> 552590ea8fad969b67afdba27558a1e6cb21016e
||||||| 452c944
   "id": "188a7de0",
=======
   "id": "e91e3b1b",
>>>>>>> documentation-devel
||||||| 4da3324
<<<<<<< HEAD
<<<<<<< HEAD
<<<<<<< HEAD
   "id": "1a5eafae",
||||||| 11b9cb7
   "id": "8006ecad",
=======
   "id": "d487a7cc",
>>>>>>> documentation-devel
||||||| 614e9b1
   "id": "d487a7cc",
=======
   "id": "188a7de0",
>>>>>>> documentation-devel
||||||| 856b4c0
<<<<<<< HEAD
   "id": "1a5eafae",
||||||| 11b9cb7
   "id": "8006ecad",
=======
   "id": "d487a7cc",
>>>>>>> documentation-devel
=======
   "id": "013b527f",
>>>>>>> 552590ea8fad969b67afdba27558a1e6cb21016e
=======
   "id": "41f3133e",
>>>>>>> b6e07d13baac92b2c1c9b43f8e4113ffa87bf495
   "metadata": {},
   "outputs": [],
   "source": [
    "plotRowData(sfe, x = \"means\", y = \"is_neg\") +\n",
    "    scale_y_log10() +\n",
    "    annotation_logticks(sides = \"b\")"
   ]
  },
  {
   "cell_type": "markdown",
<<<<<<< HEAD
<<<<<<< HEAD
<<<<<<< HEAD
<<<<<<< HEAD
<<<<<<< HEAD
   "id": "53cdeb4a",
||||||| 11b9cb7
   "id": "b87974ca",
=======
   "id": "21417431",
>>>>>>> documentation-devel
||||||| 614e9b1
   "id": "21417431",
=======
   "id": "7ad59eda",
>>>>>>> documentation-devel
||||||| 856b4c0
<<<<<<< HEAD
   "id": "53cdeb4a",
||||||| 11b9cb7
   "id": "b87974ca",
=======
   "id": "21417431",
>>>>>>> documentation-devel
=======
   "id": "a8863ce1",
>>>>>>> 552590ea8fad969b67afdba27558a1e6cb21016e
||||||| 452c944
   "id": "7ad59eda",
=======
   "id": "b238b1e2",
>>>>>>> documentation-devel
||||||| 4da3324
<<<<<<< HEAD
<<<<<<< HEAD
<<<<<<< HEAD
   "id": "53cdeb4a",
||||||| 11b9cb7
   "id": "b87974ca",
=======
   "id": "21417431",
>>>>>>> documentation-devel
||||||| 614e9b1
   "id": "21417431",
=======
   "id": "7ad59eda",
>>>>>>> documentation-devel
||||||| 856b4c0
<<<<<<< HEAD
   "id": "53cdeb4a",
||||||| 11b9cb7
   "id": "b87974ca",
=======
   "id": "21417431",
>>>>>>> documentation-devel
=======
   "id": "a8863ce1",
>>>>>>> 552590ea8fad969b67afdba27558a1e6cb21016e
=======
   "id": "7e07383c",
>>>>>>> b6e07d13baac92b2c1c9b43f8e4113ffa87bf495
   "metadata": {},
   "source": [
    "The negative controls have lower mean \"expression\" than the vast majority of real genes.\n",
    "\n",
    "# Spatial autocorrelation in QC metrics\n",
    "A spatial neighborhood graph is required for spatial dependence analyses with `spdep`. Without a benchmark, we don't yet know which type of neighborhood graph is the best for which purpose. \n",
    "\n",
    "Methods to find spatial neighborhood graphs in `spdep` other than `knearneigh()` (k nearest neighbors), `dnearneigh()` (find cells within a certain distance), and `poly2nb()` (polygon contiguity) are not recommended for larger datasets. While cell-cell contact may be biologically relevant, because cell segmentation is imperfect, leading to non-contiguous cell segmentation polygons for cells that appear contiguous in H&E, only using `poly2nb()` to find polygon contiguity neighbors without supplementing with another kind of neighborhood is problematic. Delaunay triangulation with the `deldir` package, which is used by `spdep` (`tri2nb()`), takes 4 to 5 minutes for a dataset of this size, but the run time increases much more drastically than linearly as the number of cells increases. Sphere of Interest (SOI) graph (`soi.graph()`) prunes edges from triangulation that are too long, and does not take long itself. So triangulation and SOI graph, while slower than `knearneigh()`, `dnearneigh()`, and `poly2nb()`, are somewhat practical considerations. The implementation of `gabrielneigh()` and `relativeneigh()` take impracticably long (over an hour and I terminated the R session out of impatience) for this dataset so are not recommended.\n",
    "\n",
    "Methods to find approximate nearest neighbors such as Annoy (`AnnoyParam()`) and HNSW (`HnswParam()`), as supported by the [`bluster`](https://bioconductor.org/packages/release/bioc/html/bluster.html) and [`BiocNeighbors`](https://bioconductor.org/packages/release/bioc/html/BiocNeighbors.html) packages might speed up finding these graphs, but we haven't formally benchmarked them. \n",
    "\n",
    "See [Chapter 14 of Spatial Data Science](https://r-spatial.org/book/14-Areal.html) on proximity in areal data for a more detailed discussion of the different neighborhood graphs in `spdep`. The methods for areal data are the first to be wrapped by Voyager because much of spatial transcriptomics data is analogous to areal geospatial data, where data from several cells are aggregated over areas, which happens in Visium spots. Just like in geospatial areal data, the Visium aggregation areas are arbitrary and do not represent the underlying spatial process. Although sometimes geographical areal units are not arbitrary, that tissues are generally not in hexagonal grids means that Visium spot polygons are arbitrary in this context. Regions of interest (ROI) selection spatial transcriptomics methods, such as laser capture microdissection (LCM) and GeoMX DSP are more obviously analogous to geospatial areal data. The aggregation also happens when we analyze smFISH-based data at the cell level, if the basic unit of observation is individual transcript spots. \n",
    "\n",
    "While `spdep` caters to areal data, `gstat` caters to geostatistical data, where a continuous spatial process is sampled at point locations. In some ways, spatial transcriptomics data is analogous to geostatistical data. Visium samples the supposed spatial biological process in a regular hexagonal grid, if we pretend that Visium spots are points. In smFISH-based single cell resolution data, the cells observed can be thought of as a sample of an underlying spatial biological process supervening on the specific locations of the cells. In a sense, the cells are not samples, since smFISH based technologies attempt to visualize all cells in the tissue section. However, as the biological function of the tissue does not depend on this particular spatial arrangement of individual cells (i.e. supervenes on this particular spatial arrangement), but more of cell types, the specific cell locations observed can be thought of as samples of the process, if we consider the cell the basic unit of the spatial process. \n",
    "\n",
    "In Voyager 1.2.0 (Bioconductor 3.17), we have added semivariograms (from the [`gstat`](https://cran.r-project.org/web/packages/gstat/index.html) package) as an exploratory tool to identify the presence of spatial autocorrelation, its length scale, and anisotropy (i.e. different in different directions). Covariates can be specified when computing the variogram to account for spatial trends and adjust for another spatial variable. However, unlike Morans's I, the semivariogram can't identify negative spatial autocorrelation, although since the spatial neighborhood graph typically does not encode spatial directions, `spdep` autocorrelation metrics can't identify anisotropy. Another problem with the semivariogram is that it assumes that the data is intrinsically stationary, i.e. the semivariogram holds in the entire dataset, or that similarity between two cells only depends on their distance from each other, which may not be the case when spatial autocorrelation varies in space as evident for some genes in local spatial analyses. \n",
    "\n",
    "Single cell smFISH based data is also dissimiliar to both areal and geostatistical data in important ways. In geospatial areal data, data from numerous basic units of the spatial process (e.g. people in epidemiology) are aggregated over areas (e.g. cities), whereas in histological space, the cell is arguably a more sensible basic unit of the biological spatial process than individual mRNA molecules. Unlike in geostatistical data, the cells as seen in the tissue section are often polygons tessellating the tissue section rather than points. Furthermore, while ideally the samples of the underlying spatial process should not affect the spatial process itself in geostatistical data, the cells play active roles in the biological spatial process. \n",
    "\n",
    "However, data analysis methods for areal and geostatistical data can still be relevant to EDA and descriptive models (not causal or mechanistic) of single cell smFISH data. Different types of spatial neighborhood graphs for cells may be relevant to different processes. For instance, contiguity of cell segmentation polygons is relevant when contact is involved in cell signaling, although cell segmentation is imperfect. Positive spatial autocorrelation here can arise from contact activation, and negative autocorrelation can arise from contact inhibition. However, cells may also be influenced by longer range factors such as secreted ligands, morphogens, and simpler spatial trends like distance to artery and vein. In this case, perhaps the semivariogram and using Euclidean distance between cells as spatial weights in spatial autocorrelation metrics would be more relevant for EDA. It would be interesting to compare the results from different spatial neighborhood graphs and spatial weights, and between `spdep` and `gstat`. Perhaps there is no one best method, but different methods reveal different phenomena. The problem of choosing a spatial neighborhood matrix has a long history far predating spatial transcriptomics. See [@Getis2009-iw] for a brief discussion of decades of work around this issue.\n",
    "\n",
    "Spatial autocorrelation metrics seek to measure how nearby things tend to be more similar or dissimilar, and the neighborhood graph and edge weights define what we mean by \"nearby\" in areal data. Note that because each Visium spot can contain from several to dozens of cells, the spatial neighborhood graphs of Visium spots describe neighborhood relationships of much longer length scales than spatial neighborhood graphs of single cells, so spatial autocorrelation metrics using the Visium graph have different meanings from cellular neighborhood graphs. \n",
    "\n",
    "For now, just to demonstrate software usage, we use the k nearest neighborhood graph with distance based edge weights, as commonly done in graph based clustering in scRNA-seq, although we don't yet know the best value for k in each scenario. For the purpose of this vignette, say use $k = 5$, and the execution time isn't outrageous. The argument `style = \"W\"` is to row normalize the adjacency matrix of the spatial neighborhood graph as this is necessary for Moran scatter plot. Inverse distance edge weights can take small values but what matter is the relative rather than the absolute values as the distance itself is in arbitrary unit; row normalizing the adjacency matrix makes the weighted average value from the neighbors comparable to the value at the cell itself. In this tissue, many cells appear contiguous, but since cell segmentation is imperfect, there are many false singletons, which makes polygon contiguity neighbors from `poly2nb()` problematic without some modification. But based on the distribution of the number of neighbors based on contiguity, $k = 5$ doesn't seem to be a bad approximate for contiguity."
   ]
  },
  {
   "cell_type": "code",
   "execution_count": null,
<<<<<<< HEAD
<<<<<<< HEAD
<<<<<<< HEAD
<<<<<<< HEAD
<<<<<<< HEAD
   "id": "f13e6814",
||||||| 11b9cb7
   "id": "74236463",
=======
   "id": "7a8a2a4f",
>>>>>>> documentation-devel
||||||| 614e9b1
   "id": "7a8a2a4f",
=======
   "id": "c86c1981",
>>>>>>> documentation-devel
||||||| 856b4c0
<<<<<<< HEAD
   "id": "f13e6814",
||||||| 11b9cb7
   "id": "74236463",
=======
   "id": "7a8a2a4f",
>>>>>>> documentation-devel
=======
   "id": "47b8745c",
>>>>>>> 552590ea8fad969b67afdba27558a1e6cb21016e
||||||| 452c944
   "id": "c86c1981",
=======
   "id": "069ded5b",
>>>>>>> documentation-devel
||||||| 4da3324
<<<<<<< HEAD
<<<<<<< HEAD
<<<<<<< HEAD
   "id": "f13e6814",
||||||| 11b9cb7
   "id": "74236463",
=======
   "id": "7a8a2a4f",
>>>>>>> documentation-devel
||||||| 614e9b1
   "id": "7a8a2a4f",
=======
   "id": "c86c1981",
>>>>>>> documentation-devel
||||||| 856b4c0
<<<<<<< HEAD
   "id": "f13e6814",
||||||| 11b9cb7
   "id": "74236463",
=======
   "id": "7a8a2a4f",
>>>>>>> documentation-devel
=======
   "id": "47b8745c",
>>>>>>> 552590ea8fad969b67afdba27558a1e6cb21016e
=======
   "id": "1e15dcbe",
>>>>>>> b6e07d13baac92b2c1c9b43f8e4113ffa87bf495
   "metadata": {},
   "outputs": [],
   "source": [
    "system.time(\n",
    "    colGraph(sfe, \"knn5\") <- findSpatialNeighbors(sfe, method = \"knearneigh\",\n",
    "                                                  dist_type = \"idw\", k = 5, \n",
    "                                                  style = \"W\")\n",
    "    )"
   ]
  },
  {
   "cell_type": "markdown",
<<<<<<< HEAD
<<<<<<< HEAD
<<<<<<< HEAD
<<<<<<< HEAD
<<<<<<< HEAD
   "id": "0030e199",
||||||| 11b9cb7
   "id": "31758689",
=======
   "id": "206f0d59",
>>>>>>> documentation-devel
||||||| 614e9b1
   "id": "206f0d59",
=======
   "id": "20cb9c67",
>>>>>>> documentation-devel
||||||| 856b4c0
<<<<<<< HEAD
   "id": "0030e199",
||||||| 11b9cb7
   "id": "31758689",
=======
   "id": "206f0d59",
>>>>>>> documentation-devel
=======
   "id": "cdc9a020",
>>>>>>> 552590ea8fad969b67afdba27558a1e6cb21016e
||||||| 452c944
   "id": "20cb9c67",
=======
   "id": "ce4473b6",
>>>>>>> documentation-devel
||||||| 4da3324
<<<<<<< HEAD
<<<<<<< HEAD
<<<<<<< HEAD
   "id": "0030e199",
||||||| 11b9cb7
   "id": "31758689",
=======
   "id": "206f0d59",
>>>>>>> documentation-devel
||||||| 614e9b1
   "id": "206f0d59",
=======
   "id": "20cb9c67",
>>>>>>> documentation-devel
||||||| 856b4c0
<<<<<<< HEAD
   "id": "0030e199",
||||||| 11b9cb7
   "id": "31758689",
=======
   "id": "206f0d59",
>>>>>>> documentation-devel
=======
   "id": "cdc9a020",
>>>>>>> 552590ea8fad969b67afdba27558a1e6cb21016e
=======
   "id": "6dba02c0",
>>>>>>> b6e07d13baac92b2c1c9b43f8e4113ffa87bf495
   "metadata": {
    "lines_to_next_cell": 0
   },
   "source": [
    "Now compute Moran's I for some cell QC metrics"
   ]
  },
  {
   "cell_type": "code",
   "execution_count": null,
<<<<<<< HEAD
<<<<<<< HEAD
<<<<<<< HEAD
<<<<<<< HEAD
<<<<<<< HEAD
   "id": "bf9fbdb6",
||||||| 11b9cb7
   "id": "5232462c",
=======
   "id": "e231eb72",
>>>>>>> documentation-devel
||||||| 614e9b1
   "id": "e231eb72",
=======
   "id": "70ebe127",
>>>>>>> documentation-devel
||||||| 856b4c0
<<<<<<< HEAD
   "id": "bf9fbdb6",
||||||| 11b9cb7
   "id": "5232462c",
=======
   "id": "e231eb72",
>>>>>>> documentation-devel
=======
   "id": "3a96a2b2",
>>>>>>> 552590ea8fad969b67afdba27558a1e6cb21016e
||||||| 452c944
   "id": "70ebe127",
=======
   "id": "c6ee2f98",
>>>>>>> documentation-devel
||||||| 4da3324
<<<<<<< HEAD
<<<<<<< HEAD
<<<<<<< HEAD
   "id": "bf9fbdb6",
||||||| 11b9cb7
   "id": "5232462c",
=======
   "id": "e231eb72",
>>>>>>> documentation-devel
||||||| 614e9b1
   "id": "e231eb72",
=======
   "id": "70ebe127",
>>>>>>> documentation-devel
||||||| 856b4c0
<<<<<<< HEAD
   "id": "bf9fbdb6",
||||||| 11b9cb7
   "id": "5232462c",
=======
   "id": "e231eb72",
>>>>>>> documentation-devel
=======
   "id": "3a96a2b2",
>>>>>>> 552590ea8fad969b67afdba27558a1e6cb21016e
=======
   "id": "5c2431a9",
>>>>>>> b6e07d13baac92b2c1c9b43f8e4113ffa87bf495
   "metadata": {},
   "outputs": [],
   "source": [
    "features_use <- c(\"nCounts\", \"nGenes\", \"Area\", \"AspectRatio\")\n",
    "sfe <- colDataMoransI(sfe, features_use, colGraphName = \"knn5\")"
   ]
  },
  {
   "cell_type": "code",
   "execution_count": null,
<<<<<<< HEAD
<<<<<<< HEAD
<<<<<<< HEAD
<<<<<<< HEAD
<<<<<<< HEAD
   "id": "9626a07a",
||||||| 11b9cb7
   "id": "09da0989",
=======
   "id": "b7400446",
>>>>>>> documentation-devel
||||||| 614e9b1
   "id": "b7400446",
=======
   "id": "5c3ef112",
>>>>>>> documentation-devel
||||||| 856b4c0
<<<<<<< HEAD
   "id": "9626a07a",
||||||| 11b9cb7
   "id": "09da0989",
=======
   "id": "b7400446",
>>>>>>> documentation-devel
=======
   "id": "b70696de",
>>>>>>> 552590ea8fad969b67afdba27558a1e6cb21016e
||||||| 452c944
   "id": "5c3ef112",
=======
   "id": "be0ecc69",
>>>>>>> documentation-devel
||||||| 4da3324
<<<<<<< HEAD
<<<<<<< HEAD
<<<<<<< HEAD
   "id": "9626a07a",
||||||| 11b9cb7
   "id": "09da0989",
=======
   "id": "b7400446",
>>>>>>> documentation-devel
||||||| 614e9b1
   "id": "b7400446",
=======
   "id": "5c3ef112",
>>>>>>> documentation-devel
||||||| 856b4c0
<<<<<<< HEAD
   "id": "9626a07a",
||||||| 11b9cb7
   "id": "09da0989",
=======
   "id": "b7400446",
>>>>>>> documentation-devel
=======
   "id": "b70696de",
>>>>>>> 552590ea8fad969b67afdba27558a1e6cb21016e
=======
   "id": "e532b82f",
>>>>>>> b6e07d13baac92b2c1c9b43f8e4113ffa87bf495
   "metadata": {},
   "outputs": [],
   "source": [
    "colFeatureData(sfe)[features_use,]"
   ]
  },
  {
   "cell_type": "markdown",
<<<<<<< HEAD
<<<<<<< HEAD
<<<<<<< HEAD
<<<<<<< HEAD
<<<<<<< HEAD
   "id": "4f58c692",
||||||| 11b9cb7
   "id": "4a651162",
=======
   "id": "c2701ace",
>>>>>>> documentation-devel
||||||| 614e9b1
   "id": "c2701ace",
=======
   "id": "c4cba8af",
>>>>>>> documentation-devel
||||||| 856b4c0
<<<<<<< HEAD
   "id": "4f58c692",
||||||| 11b9cb7
   "id": "4a651162",
=======
   "id": "c2701ace",
>>>>>>> documentation-devel
=======
   "id": "b9918ed9",
>>>>>>> 552590ea8fad969b67afdba27558a1e6cb21016e
||||||| 452c944
   "id": "c4cba8af",
=======
   "id": "38ada53a",
>>>>>>> documentation-devel
||||||| 4da3324
<<<<<<< HEAD
<<<<<<< HEAD
<<<<<<< HEAD
   "id": "4f58c692",
||||||| 11b9cb7
   "id": "4a651162",
=======
   "id": "c2701ace",
>>>>>>> documentation-devel
||||||| 614e9b1
   "id": "c2701ace",
=======
   "id": "c4cba8af",
>>>>>>> documentation-devel
||||||| 856b4c0
<<<<<<< HEAD
   "id": "4f58c692",
||||||| 11b9cb7
   "id": "4a651162",
=======
   "id": "c2701ace",
>>>>>>> documentation-devel
=======
   "id": "b9918ed9",
>>>>>>> 552590ea8fad969b67afdba27558a1e6cb21016e
=======
   "id": "0920e3da",
>>>>>>> b6e07d13baac92b2c1c9b43f8e4113ffa87bf495
   "metadata": {},
   "source": [
    "Positive spatial autocorrelation is suggested, which is stronger in nCounts and nGenes.\n",
    "\n",
    "What are the length scales of spatial autocorrelation for these QC metrics? It would be nice if the lagged neighborhood graphs can be stored and reused for all features rather than recomputed for each feature as in `spdep::sp.correlogram()` called behind the scene here. This takes a few minutes to run, but not as long as a typical song. Another way to find the length scale of spatial autocorrelation is to bin the cells into bins of different sizes and then find spatial autocorrelation at each bin size, which probably is faster than finding lagged values at higher and higher neighborhoods since `geom_bin2d()` and `geom_hex()` in `ggplot2` run pretty fast even for large datasets. Or use a semivariogram; `gstat` also bins the data when estimating the semivariogram and calculating the semivariogram over very long distance is much faster than the correlogram with cell-cell neighborhood graphs. "
   ]
  },
  {
   "cell_type": "code",
   "execution_count": null,
<<<<<<< HEAD
<<<<<<< HEAD
<<<<<<< HEAD
<<<<<<< HEAD
<<<<<<< HEAD
   "id": "abec4b76",
||||||| 11b9cb7
   "id": "307aca92",
=======
   "id": "448ee4ed",
>>>>>>> documentation-devel
||||||| 614e9b1
   "id": "448ee4ed",
=======
   "id": "12f3ac02",
>>>>>>> documentation-devel
||||||| 856b4c0
<<<<<<< HEAD
   "id": "abec4b76",
||||||| 11b9cb7
   "id": "307aca92",
=======
   "id": "448ee4ed",
>>>>>>> documentation-devel
=======
   "id": "62c1a8a2",
>>>>>>> 552590ea8fad969b67afdba27558a1e6cb21016e
||||||| 452c944
   "id": "12f3ac02",
=======
   "id": "42e3fae5",
>>>>>>> documentation-devel
||||||| 4da3324
<<<<<<< HEAD
<<<<<<< HEAD
<<<<<<< HEAD
   "id": "abec4b76",
||||||| 11b9cb7
   "id": "307aca92",
=======
   "id": "448ee4ed",
>>>>>>> documentation-devel
||||||| 614e9b1
   "id": "448ee4ed",
=======
   "id": "12f3ac02",
>>>>>>> documentation-devel
||||||| 856b4c0
<<<<<<< HEAD
   "id": "abec4b76",
||||||| 11b9cb7
   "id": "307aca92",
=======
   "id": "448ee4ed",
>>>>>>> documentation-devel
=======
   "id": "62c1a8a2",
>>>>>>> 552590ea8fad969b67afdba27558a1e6cb21016e
=======
   "id": "5c51386d",
>>>>>>> b6e07d13baac92b2c1c9b43f8e4113ffa87bf495
   "metadata": {},
   "outputs": [],
   "source": [
    "system.time(\n",
    "    sfe <- colDataUnivariate(sfe, \"sp.correlogram\", features = features_use,\n",
    "                         colGraphName = \"knn5\", order = 6, zero.policy = TRUE,\n",
    "                         BPPARAM = MulticoreParam(2))\n",
    ")"
   ]
  },
  {
   "cell_type": "markdown",
<<<<<<< HEAD
<<<<<<< HEAD
<<<<<<< HEAD
<<<<<<< HEAD
<<<<<<< HEAD
   "id": "d24b367a",
||||||| 11b9cb7
   "id": "acc334a1",
=======
   "id": "db19146c",
>>>>>>> documentation-devel
||||||| 614e9b1
   "id": "db19146c",
=======
   "id": "3d8b9a0b",
>>>>>>> documentation-devel
||||||| 856b4c0
<<<<<<< HEAD
   "id": "d24b367a",
||||||| 11b9cb7
   "id": "acc334a1",
=======
   "id": "db19146c",
>>>>>>> documentation-devel
=======
   "id": "62aec372",
>>>>>>> 552590ea8fad969b67afdba27558a1e6cb21016e
||||||| 452c944
   "id": "3d8b9a0b",
=======
   "id": "fad59625",
>>>>>>> documentation-devel
||||||| 4da3324
<<<<<<< HEAD
<<<<<<< HEAD
<<<<<<< HEAD
   "id": "d24b367a",
||||||| 11b9cb7
   "id": "acc334a1",
=======
   "id": "db19146c",
>>>>>>> documentation-devel
||||||| 614e9b1
   "id": "db19146c",
=======
   "id": "3d8b9a0b",
>>>>>>> documentation-devel
||||||| 856b4c0
<<<<<<< HEAD
   "id": "d24b367a",
||||||| 11b9cb7
   "id": "acc334a1",
=======
   "id": "db19146c",
>>>>>>> documentation-devel
=======
   "id": "62aec372",
>>>>>>> 552590ea8fad969b67afdba27558a1e6cb21016e
=======
   "id": "75777c60",
>>>>>>> b6e07d13baac92b2c1c9b43f8e4113ffa87bf495
   "metadata": {},
   "source": [
    "Note that `MulticoreParam()` doesn't work on Windows; this vignette was built on Linux. Use `SnowParam()` or `DoparParam()` for Windows. See `?BiocParallelParam` for the available parallel processing backends. We did not notice significant performance differences between `ShowParam()` and `MulticoreParam()` in this context."
   ]
  },
  {
   "cell_type": "code",
   "execution_count": null,
<<<<<<< HEAD
<<<<<<< HEAD
<<<<<<< HEAD
<<<<<<< HEAD
<<<<<<< HEAD
   "id": "de152bf3",
||||||| 11b9cb7
   "id": "d53a31f0",
=======
   "id": "e5e41923",
>>>>>>> documentation-devel
||||||| 614e9b1
   "id": "e5e41923",
=======
   "id": "3976e2b8",
>>>>>>> documentation-devel
||||||| 856b4c0
<<<<<<< HEAD
   "id": "de152bf3",
||||||| 11b9cb7
   "id": "d53a31f0",
=======
   "id": "e5e41923",
>>>>>>> documentation-devel
=======
   "id": "9f40959d",
>>>>>>> 552590ea8fad969b67afdba27558a1e6cb21016e
||||||| 452c944
   "id": "3976e2b8",
=======
   "id": "9c177d18",
>>>>>>> documentation-devel
||||||| 4da3324
<<<<<<< HEAD
<<<<<<< HEAD
<<<<<<< HEAD
   "id": "de152bf3",
||||||| 11b9cb7
   "id": "d53a31f0",
=======
   "id": "e5e41923",
>>>>>>> documentation-devel
||||||| 614e9b1
   "id": "e5e41923",
=======
   "id": "3976e2b8",
>>>>>>> documentation-devel
||||||| 856b4c0
<<<<<<< HEAD
   "id": "de152bf3",
||||||| 11b9cb7
   "id": "d53a31f0",
=======
   "id": "e5e41923",
>>>>>>> documentation-devel
=======
   "id": "9f40959d",
>>>>>>> 552590ea8fad969b67afdba27558a1e6cb21016e
=======
   "id": "31dce0ab",
>>>>>>> b6e07d13baac92b2c1c9b43f8e4113ffa87bf495
   "metadata": {},
   "outputs": [],
   "source": [
    "plotCorrelogram(sfe, features_use)"
   ]
  },
  {
   "cell_type": "markdown",
<<<<<<< HEAD
<<<<<<< HEAD
<<<<<<< HEAD
<<<<<<< HEAD
<<<<<<< HEAD
   "id": "8fb00c75",
||||||| 11b9cb7
   "id": "6fa5977a",
=======
   "id": "45051ebd",
>>>>>>> documentation-devel
||||||| 614e9b1
   "id": "45051ebd",
=======
   "id": "1d64b02b",
>>>>>>> documentation-devel
||||||| 856b4c0
<<<<<<< HEAD
   "id": "8fb00c75",
||||||| 11b9cb7
   "id": "6fa5977a",
=======
   "id": "45051ebd",
>>>>>>> documentation-devel
=======
   "id": "117f1b84",
>>>>>>> 552590ea8fad969b67afdba27558a1e6cb21016e
||||||| 452c944
   "id": "1d64b02b",
=======
   "id": "af16d920",
>>>>>>> documentation-devel
||||||| 4da3324
<<<<<<< HEAD
<<<<<<< HEAD
<<<<<<< HEAD
   "id": "8fb00c75",
||||||| 11b9cb7
   "id": "6fa5977a",
=======
   "id": "45051ebd",
>>>>>>> documentation-devel
||||||| 614e9b1
   "id": "45051ebd",
=======
   "id": "1d64b02b",
>>>>>>> documentation-devel
||||||| 856b4c0
<<<<<<< HEAD
   "id": "8fb00c75",
||||||| 11b9cb7
   "id": "6fa5977a",
=======
   "id": "45051ebd",
>>>>>>> documentation-devel
=======
   "id": "117f1b84",
>>>>>>> 552590ea8fad969b67afdba27558a1e6cb21016e
=======
   "id": "e649df8f",
>>>>>>> b6e07d13baac92b2c1c9b43f8e4113ffa87bf495
   "metadata": {
    "lines_to_next_cell": 0
   },
   "source": [
    "They seem to have similar length scales, but aspect ratios tend to decay more quickly.\n",
    "\n",
    "Moran's scatter plot for nCounts. "
   ]
  },
  {
   "cell_type": "code",
   "execution_count": null,
<<<<<<< HEAD
<<<<<<< HEAD
<<<<<<< HEAD
<<<<<<< HEAD
<<<<<<< HEAD
   "id": "7c70135c",
||||||| 11b9cb7
   "id": "b6d4edbd",
=======
   "id": "ea6a8dfe",
>>>>>>> documentation-devel
||||||| 614e9b1
   "id": "ea6a8dfe",
=======
   "id": "714a6347",
>>>>>>> documentation-devel
||||||| 856b4c0
<<<<<<< HEAD
   "id": "7c70135c",
||||||| 11b9cb7
   "id": "b6d4edbd",
=======
   "id": "ea6a8dfe",
>>>>>>> documentation-devel
=======
   "id": "edf4eafb",
>>>>>>> 552590ea8fad969b67afdba27558a1e6cb21016e
||||||| 452c944
   "id": "714a6347",
=======
   "id": "7497ffec",
>>>>>>> documentation-devel
||||||| 4da3324
<<<<<<< HEAD
<<<<<<< HEAD
<<<<<<< HEAD
   "id": "7c70135c",
||||||| 11b9cb7
   "id": "b6d4edbd",
=======
   "id": "ea6a8dfe",
>>>>>>> documentation-devel
||||||| 614e9b1
   "id": "ea6a8dfe",
=======
   "id": "714a6347",
>>>>>>> documentation-devel
||||||| 856b4c0
<<<<<<< HEAD
   "id": "7c70135c",
||||||| 11b9cb7
   "id": "b6d4edbd",
=======
   "id": "ea6a8dfe",
>>>>>>> documentation-devel
=======
   "id": "edf4eafb",
>>>>>>> 552590ea8fad969b67afdba27558a1e6cb21016e
=======
   "id": "aea5d7b1",
>>>>>>> b6e07d13baac92b2c1c9b43f8e4113ffa87bf495
   "metadata": {},
   "outputs": [],
   "source": [
    "sfe <- colDataUnivariate(sfe, \"moran.plot\", \"nCounts\", colGraphName = \"knn5\")"
   ]
  },
  {
   "cell_type": "markdown",
<<<<<<< HEAD
<<<<<<< HEAD
<<<<<<< HEAD
<<<<<<< HEAD
<<<<<<< HEAD
   "id": "f9478804",
||||||| 11b9cb7
   "id": "0185b8d7",
=======
   "id": "22895a77",
>>>>>>> documentation-devel
||||||| 614e9b1
   "id": "22895a77",
=======
   "id": "5be04ccd",
>>>>>>> documentation-devel
||||||| 856b4c0
<<<<<<< HEAD
   "id": "f9478804",
||||||| 11b9cb7
   "id": "0185b8d7",
=======
   "id": "22895a77",
>>>>>>> documentation-devel
=======
   "id": "dbe9597f",
>>>>>>> 552590ea8fad969b67afdba27558a1e6cb21016e
||||||| 452c944
   "id": "5be04ccd",
=======
   "id": "a7f60772",
>>>>>>> documentation-devel
||||||| 4da3324
<<<<<<< HEAD
<<<<<<< HEAD
<<<<<<< HEAD
   "id": "f9478804",
||||||| 11b9cb7
   "id": "0185b8d7",
=======
   "id": "22895a77",
>>>>>>> documentation-devel
||||||| 614e9b1
   "id": "22895a77",
=======
   "id": "5be04ccd",
>>>>>>> documentation-devel
||||||| 856b4c0
<<<<<<< HEAD
   "id": "f9478804",
||||||| 11b9cb7
   "id": "0185b8d7",
=======
   "id": "22895a77",
>>>>>>> documentation-devel
=======
   "id": "dbe9597f",
>>>>>>> 552590ea8fad969b67afdba27558a1e6cb21016e
=======
   "id": "85c6d72f",
>>>>>>> b6e07d13baac92b2c1c9b43f8e4113ffa87bf495
   "metadata": {
    "lines_to_next_cell": 0
   },
   "source": [
    "In the first panel, the density is for all points in this plot, and in the second, the points influential to fitting the line are highlighted in red, still a 2D histogram to avoid overplotting."
   ]
  },
  {
   "cell_type": "code",
   "execution_count": null,
<<<<<<< HEAD
<<<<<<< HEAD
<<<<<<< HEAD
<<<<<<< HEAD
<<<<<<< HEAD
   "id": "108a6376",
||||||| 11b9cb7
   "id": "2a6624aa",
=======
   "id": "26a75434",
>>>>>>> documentation-devel
||||||| 614e9b1
   "id": "26a75434",
=======
   "id": "572800a9",
>>>>>>> documentation-devel
||||||| 856b4c0
<<<<<<< HEAD
   "id": "108a6376",
||||||| 11b9cb7
   "id": "2a6624aa",
=======
   "id": "26a75434",
>>>>>>> documentation-devel
=======
   "id": "c171e18e",
>>>>>>> 552590ea8fad969b67afdba27558a1e6cb21016e
||||||| 452c944
   "id": "572800a9",
=======
   "id": "6f878de7",
>>>>>>> documentation-devel
||||||| 4da3324
<<<<<<< HEAD
<<<<<<< HEAD
<<<<<<< HEAD
   "id": "108a6376",
||||||| 11b9cb7
   "id": "2a6624aa",
=======
   "id": "26a75434",
>>>>>>> documentation-devel
||||||| 614e9b1
   "id": "26a75434",
=======
   "id": "572800a9",
>>>>>>> documentation-devel
||||||| 856b4c0
<<<<<<< HEAD
   "id": "108a6376",
||||||| 11b9cb7
   "id": "2a6624aa",
=======
   "id": "26a75434",
>>>>>>> documentation-devel
=======
   "id": "c171e18e",
>>>>>>> 552590ea8fad969b67afdba27558a1e6cb21016e
=======
   "id": "7a9a412d",
>>>>>>> b6e07d13baac92b2c1c9b43f8e4113ffa87bf495
   "metadata": {
    "fig.height": 7,
    "fig.width": 8
   },
   "outputs": [],
   "source": [
    "p1 <- moranPlot(sfe, \"nCounts\", binned = TRUE, plot_influential = FALSE)\n",
    "p2 <- moranPlot(sfe, \"nCounts\", binned = TRUE)\n",
    "p1 / p2 + plot_layout(guides = \"collect\")"
   ]
  },
  {
   "cell_type": "markdown",
<<<<<<< HEAD
<<<<<<< HEAD
<<<<<<< HEAD
<<<<<<< HEAD
<<<<<<< HEAD
   "id": "92b87f65",
||||||| 11b9cb7
   "id": "8c7ca19a",
=======
   "id": "04d77f24",
>>>>>>> documentation-devel
||||||| 614e9b1
   "id": "04d77f24",
=======
   "id": "e2451e2c",
>>>>>>> documentation-devel
||||||| 856b4c0
<<<<<<< HEAD
   "id": "92b87f65",
||||||| 11b9cb7
   "id": "8c7ca19a",
=======
   "id": "04d77f24",
>>>>>>> documentation-devel
=======
   "id": "9b9e09c7",
>>>>>>> 552590ea8fad969b67afdba27558a1e6cb21016e
||||||| 452c944
   "id": "e2451e2c",
=======
   "id": "e4a00ae0",
>>>>>>> documentation-devel
||||||| 4da3324
<<<<<<< HEAD
<<<<<<< HEAD
<<<<<<< HEAD
   "id": "92b87f65",
||||||| 11b9cb7
   "id": "8c7ca19a",
=======
   "id": "04d77f24",
>>>>>>> documentation-devel
||||||| 614e9b1
   "id": "04d77f24",
=======
   "id": "e2451e2c",
>>>>>>> documentation-devel
||||||| 856b4c0
<<<<<<< HEAD
   "id": "92b87f65",
||||||| 11b9cb7
   "id": "8c7ca19a",
=======
   "id": "04d77f24",
>>>>>>> documentation-devel
=======
   "id": "9b9e09c7",
>>>>>>> 552590ea8fad969b67afdba27558a1e6cb21016e
=======
   "id": "517cdf75",
>>>>>>> b6e07d13baac92b2c1c9b43f8e4113ffa87bf495
   "metadata": {
    "lines_to_next_cell": 0
   },
   "source": [
    "There are no obvious clusters in this plot.\n",
    "\n",
    "Local Moran's I for nCounts"
   ]
  },
  {
   "cell_type": "code",
   "execution_count": null,
<<<<<<< HEAD
<<<<<<< HEAD
<<<<<<< HEAD
<<<<<<< HEAD
<<<<<<< HEAD
   "id": "c60f3ccf",
||||||| 11b9cb7
   "id": "e61094cd",
=======
   "id": "f0c5e885",
>>>>>>> documentation-devel
||||||| 614e9b1
   "id": "f0c5e885",
=======
   "id": "c23f2ed2",
>>>>>>> documentation-devel
||||||| 856b4c0
<<<<<<< HEAD
   "id": "c60f3ccf",
||||||| 11b9cb7
   "id": "e61094cd",
=======
   "id": "f0c5e885",
>>>>>>> documentation-devel
=======
   "id": "26b33bc5",
>>>>>>> 552590ea8fad969b67afdba27558a1e6cb21016e
||||||| 452c944
   "id": "c23f2ed2",
=======
   "id": "493987d6",
>>>>>>> documentation-devel
||||||| 4da3324
<<<<<<< HEAD
<<<<<<< HEAD
<<<<<<< HEAD
   "id": "c60f3ccf",
||||||| 11b9cb7
   "id": "e61094cd",
=======
   "id": "f0c5e885",
>>>>>>> documentation-devel
||||||| 614e9b1
   "id": "f0c5e885",
=======
   "id": "c23f2ed2",
>>>>>>> documentation-devel
||||||| 856b4c0
<<<<<<< HEAD
   "id": "c60f3ccf",
||||||| 11b9cb7
   "id": "e61094cd",
=======
   "id": "f0c5e885",
>>>>>>> documentation-devel
=======
   "id": "26b33bc5",
>>>>>>> 552590ea8fad969b67afdba27558a1e6cb21016e
=======
   "id": "26ad1b60",
>>>>>>> b6e07d13baac92b2c1c9b43f8e4113ffa87bf495
   "metadata": {},
   "outputs": [],
   "source": [
    "sfe <- colDataUnivariate(sfe, \"localmoran\", \"nCounts\", colGraphName = \"knn5\")"
   ]
  },
  {
   "cell_type": "code",
   "execution_count": null,
<<<<<<< HEAD
<<<<<<< HEAD
<<<<<<< HEAD
<<<<<<< HEAD
<<<<<<< HEAD
   "id": "2e09e6b3",
||||||| 11b9cb7
   "id": "3fe04722",
=======
   "id": "60b93f2e",
>>>>>>> documentation-devel
||||||| 614e9b1
   "id": "60b93f2e",
=======
   "id": "7bd98b45",
>>>>>>> documentation-devel
||||||| 856b4c0
<<<<<<< HEAD
   "id": "2e09e6b3",
||||||| 11b9cb7
   "id": "3fe04722",
=======
   "id": "60b93f2e",
>>>>>>> documentation-devel
=======
   "id": "61909303",
>>>>>>> 552590ea8fad969b67afdba27558a1e6cb21016e
||||||| 452c944
   "id": "7bd98b45",
=======
   "id": "7683cf32",
>>>>>>> documentation-devel
||||||| 4da3324
<<<<<<< HEAD
<<<<<<< HEAD
<<<<<<< HEAD
   "id": "2e09e6b3",
||||||| 11b9cb7
   "id": "3fe04722",
=======
   "id": "60b93f2e",
>>>>>>> documentation-devel
||||||| 614e9b1
   "id": "60b93f2e",
=======
   "id": "7bd98b45",
>>>>>>> documentation-devel
||||||| 856b4c0
<<<<<<< HEAD
   "id": "2e09e6b3",
||||||| 11b9cb7
   "id": "3fe04722",
=======
   "id": "60b93f2e",
>>>>>>> documentation-devel
=======
   "id": "61909303",
>>>>>>> 552590ea8fad969b67afdba27558a1e6cb21016e
=======
   "id": "897939bf",
>>>>>>> b6e07d13baac92b2c1c9b43f8e4113ffa87bf495
   "metadata": {},
   "outputs": [],
   "source": [
    "plotLocalResult(sfe, \"localmoran\", \"nCounts\", colGeometryName = \"cellSeg\",\n",
    "                divergent = TRUE, diverge_center = 0)"
   ]
  },
  {
   "cell_type": "markdown",
<<<<<<< HEAD
<<<<<<< HEAD
<<<<<<< HEAD
<<<<<<< HEAD
<<<<<<< HEAD
   "id": "abed999b",
||||||| 11b9cb7
   "id": "289ff00d",
=======
   "id": "b8a9cf31",
>>>>>>> documentation-devel
||||||| 614e9b1
   "id": "b8a9cf31",
=======
   "id": "a39feb4b",
>>>>>>> documentation-devel
||||||| 856b4c0
<<<<<<< HEAD
   "id": "abed999b",
||||||| 11b9cb7
   "id": "289ff00d",
=======
   "id": "b8a9cf31",
>>>>>>> documentation-devel
=======
   "id": "25be4ab8",
>>>>>>> 552590ea8fad969b67afdba27558a1e6cb21016e
||||||| 452c944
   "id": "a39feb4b",
=======
   "id": "d69e585b",
>>>>>>> documentation-devel
||||||| 4da3324
<<<<<<< HEAD
<<<<<<< HEAD
<<<<<<< HEAD
   "id": "abed999b",
||||||| 11b9cb7
   "id": "289ff00d",
=======
   "id": "b8a9cf31",
>>>>>>> documentation-devel
||||||| 614e9b1
   "id": "b8a9cf31",
=======
   "id": "a39feb4b",
>>>>>>> documentation-devel
||||||| 856b4c0
<<<<<<< HEAD
   "id": "abed999b",
||||||| 11b9cb7
   "id": "289ff00d",
=======
   "id": "b8a9cf31",
>>>>>>> documentation-devel
=======
   "id": "25be4ab8",
>>>>>>> 552590ea8fad969b67afdba27558a1e6cb21016e
=======
   "id": "b4047086",
>>>>>>> b6e07d13baac92b2c1c9b43f8e4113ffa87bf495
   "metadata": {},
   "source": [
    "Cool, it appears that the epithelial regions tend to be more homogenous in nCounts.\n",
    "\n",
    "# Data normalization\n",
    "Given that there may be some relationship between cell size and total counts, and that total counts may be biological and thus not purely treated as technical, questions are raised about data normalization and how it should be different from the standard scRNA-seq practices. For instance, what are technical contributions to total counts for this kind of data? Furthermore, what to do with cell area, since part of it is technical, in where the z-plane of cell segmentation polygons intersects each cell, but for some cell types, it could be biological? Also, how would different methods of data normalization affect spatial autocorrelation? Should spatial autocorrelation be used in some ways when normalizing data? Besides correcting for technical effects and making gene expression in cells with different total counts more comparable, data normalization stabilizes variance and tries to make the data more normally distributed since many statistical methods assume normally distributed data. So while we don't know the best practice to normalize this kind of data, we will still normalize the data for downstream analyses."
   ]
  },
  {
   "cell_type": "code",
   "execution_count": null,
<<<<<<< HEAD
<<<<<<< HEAD
<<<<<<< HEAD
<<<<<<< HEAD
<<<<<<< HEAD
   "id": "bcbe5b64",
||||||| 11b9cb7
   "id": "08c4a982",
=======
   "id": "0c9ea991",
>>>>>>> documentation-devel
||||||| 614e9b1
   "id": "0c9ea991",
=======
   "id": "79ada708",
>>>>>>> documentation-devel
||||||| 856b4c0
<<<<<<< HEAD
   "id": "bcbe5b64",
||||||| 11b9cb7
   "id": "08c4a982",
=======
   "id": "0c9ea991",
>>>>>>> documentation-devel
=======
   "id": "959a5e65",
>>>>>>> 552590ea8fad969b67afdba27558a1e6cb21016e
||||||| 452c944
   "id": "79ada708",
=======
   "id": "42ac89e9",
>>>>>>> documentation-devel
||||||| 4da3324
<<<<<<< HEAD
<<<<<<< HEAD
<<<<<<< HEAD
   "id": "bcbe5b64",
||||||| 11b9cb7
   "id": "08c4a982",
=======
   "id": "0c9ea991",
>>>>>>> documentation-devel
||||||| 614e9b1
   "id": "0c9ea991",
=======
   "id": "79ada708",
>>>>>>> documentation-devel
||||||| 856b4c0
<<<<<<< HEAD
   "id": "bcbe5b64",
||||||| 11b9cb7
   "id": "08c4a982",
=======
   "id": "0c9ea991",
>>>>>>> documentation-devel
=======
   "id": "959a5e65",
>>>>>>> 552590ea8fad969b67afdba27558a1e6cb21016e
=======
   "id": "9a7b20cb",
>>>>>>> b6e07d13baac92b2c1c9b43f8e4113ffa87bf495
   "metadata": {},
   "outputs": [],
   "source": [
    "sfe <- logNormCounts(sfe)"
   ]
  },
  {
   "cell_type": "markdown",
<<<<<<< HEAD
<<<<<<< HEAD
<<<<<<< HEAD
<<<<<<< HEAD
<<<<<<< HEAD
   "id": "11a2e148",
||||||| 11b9cb7
   "id": "e179777e",
=======
   "id": "a6297e7c",
>>>>>>> documentation-devel
||||||| 614e9b1
   "id": "a6297e7c",
=======
   "id": "1fe53253",
>>>>>>> documentation-devel
||||||| 856b4c0
<<<<<<< HEAD
   "id": "11a2e148",
||||||| 11b9cb7
   "id": "e179777e",
=======
   "id": "a6297e7c",
>>>>>>> documentation-devel
=======
   "id": "664b7f70",
>>>>>>> 552590ea8fad969b67afdba27558a1e6cb21016e
||||||| 452c944
   "id": "1fe53253",
=======
   "id": "ffc28a46",
>>>>>>> documentation-devel
||||||| 4da3324
<<<<<<< HEAD
<<<<<<< HEAD
<<<<<<< HEAD
   "id": "11a2e148",
||||||| 11b9cb7
   "id": "e179777e",
=======
   "id": "a6297e7c",
>>>>>>> documentation-devel
||||||| 614e9b1
   "id": "a6297e7c",
=======
   "id": "1fe53253",
>>>>>>> documentation-devel
||||||| 856b4c0
<<<<<<< HEAD
   "id": "11a2e148",
||||||| 11b9cb7
   "id": "e179777e",
=======
   "id": "a6297e7c",
>>>>>>> documentation-devel
=======
   "id": "664b7f70",
>>>>>>> 552590ea8fad969b67afdba27558a1e6cb21016e
=======
   "id": "6d59fd80",
>>>>>>> b6e07d13baac92b2c1c9b43f8e4113ffa87bf495
   "metadata": {
    "lines_to_next_cell": 0
   },
   "source": [
    "# Moran's I\n",
    "\n",
    "Here we run global Moran's I on log normalized gene expression."
   ]
  },
  {
   "cell_type": "code",
   "execution_count": null,
<<<<<<< HEAD
<<<<<<< HEAD
<<<<<<< HEAD
<<<<<<< HEAD
<<<<<<< HEAD
   "id": "9d187512",
||||||| 11b9cb7
   "id": "bbb136e9",
=======
   "id": "a16e767d",
>>>>>>> documentation-devel
||||||| 614e9b1
   "id": "a16e767d",
=======
   "id": "ab64d446",
>>>>>>> documentation-devel
||||||| 856b4c0
<<<<<<< HEAD
   "id": "9d187512",
||||||| 11b9cb7
   "id": "bbb136e9",
=======
   "id": "a16e767d",
>>>>>>> documentation-devel
=======
   "id": "920c7cdd",
>>>>>>> 552590ea8fad969b67afdba27558a1e6cb21016e
||||||| 452c944
   "id": "ab64d446",
=======
   "id": "292243ab",
>>>>>>> documentation-devel
||||||| 4da3324
<<<<<<< HEAD
<<<<<<< HEAD
<<<<<<< HEAD
   "id": "9d187512",
||||||| 11b9cb7
   "id": "bbb136e9",
=======
   "id": "a16e767d",
>>>>>>> documentation-devel
||||||| 614e9b1
   "id": "a16e767d",
=======
   "id": "ab64d446",
>>>>>>> documentation-devel
||||||| 856b4c0
<<<<<<< HEAD
   "id": "9d187512",
||||||| 11b9cb7
   "id": "bbb136e9",
=======
   "id": "a16e767d",
>>>>>>> documentation-devel
=======
   "id": "920c7cdd",
>>>>>>> 552590ea8fad969b67afdba27558a1e6cb21016e
=======
   "id": "9a763f74",
>>>>>>> b6e07d13baac92b2c1c9b43f8e4113ffa87bf495
   "metadata": {},
   "outputs": [],
   "source": [
    "# Note: on your computer, you can put progressbar = TRUE inside MulticoreParam()\n",
    "# to show progress bar. This applies to any BiocParallParam.\n",
    "sfe <- runMoransI(sfe, features = rownames(sfe), \n",
    "                  BPPARAM = MulticoreParam(2))"
   ]
  },
  {
   "cell_type": "markdown",
<<<<<<< HEAD
<<<<<<< HEAD
<<<<<<< HEAD
<<<<<<< HEAD
<<<<<<< HEAD
   "id": "4ceabfb4",
||||||| 11b9cb7
   "id": "aaf12573",
=======
   "id": "fc1b8209",
>>>>>>> documentation-devel
||||||| 614e9b1
   "id": "fc1b8209",
=======
   "id": "6ef30fb9",
>>>>>>> documentation-devel
||||||| 856b4c0
<<<<<<< HEAD
   "id": "4ceabfb4",
||||||| 11b9cb7
   "id": "aaf12573",
=======
   "id": "fc1b8209",
>>>>>>> documentation-devel
=======
   "id": "2822295c",
>>>>>>> 552590ea8fad969b67afdba27558a1e6cb21016e
||||||| 452c944
   "id": "6ef30fb9",
=======
   "id": "f879bbd2",
>>>>>>> documentation-devel
||||||| 4da3324
<<<<<<< HEAD
<<<<<<< HEAD
<<<<<<< HEAD
   "id": "4ceabfb4",
||||||| 11b9cb7
   "id": "aaf12573",
=======
   "id": "fc1b8209",
>>>>>>> documentation-devel
||||||| 614e9b1
   "id": "fc1b8209",
=======
   "id": "6ef30fb9",
>>>>>>> documentation-devel
||||||| 856b4c0
<<<<<<< HEAD
   "id": "4ceabfb4",
||||||| 11b9cb7
   "id": "aaf12573",
=======
   "id": "fc1b8209",
>>>>>>> documentation-devel
=======
   "id": "2822295c",
>>>>>>> 552590ea8fad969b67afdba27558a1e6cb21016e
=======
   "id": "e33f0c6a",
>>>>>>> b6e07d13baac92b2c1c9b43f8e4113ffa87bf495
   "metadata": {
    "lines_to_next_cell": 0
   },
   "source": [
    "Do real genes tend to have more spatial autocorrelation than negative controls?"
   ]
  },
  {
   "cell_type": "code",
   "execution_count": null,
<<<<<<< HEAD
<<<<<<< HEAD
<<<<<<< HEAD
<<<<<<< HEAD
<<<<<<< HEAD
   "id": "92baa079",
||||||| 11b9cb7
   "id": "378252aa",
=======
   "id": "ee7acb3c",
>>>>>>> documentation-devel
||||||| 614e9b1
   "id": "ee7acb3c",
=======
   "id": "c3241904",
>>>>>>> documentation-devel
||||||| 856b4c0
<<<<<<< HEAD
   "id": "92baa079",
||||||| 11b9cb7
   "id": "378252aa",
=======
   "id": "ee7acb3c",
>>>>>>> documentation-devel
=======
   "id": "f74deee5",
>>>>>>> 552590ea8fad969b67afdba27558a1e6cb21016e
||||||| 452c944
   "id": "c3241904",
=======
   "id": "78b9187d",
>>>>>>> documentation-devel
||||||| 4da3324
<<<<<<< HEAD
<<<<<<< HEAD
<<<<<<< HEAD
   "id": "92baa079",
||||||| 11b9cb7
   "id": "378252aa",
=======
   "id": "ee7acb3c",
>>>>>>> documentation-devel
||||||| 614e9b1
   "id": "ee7acb3c",
=======
   "id": "c3241904",
>>>>>>> documentation-devel
||||||| 856b4c0
<<<<<<< HEAD
   "id": "92baa079",
||||||| 11b9cb7
   "id": "378252aa",
=======
   "id": "ee7acb3c",
>>>>>>> documentation-devel
=======
   "id": "f74deee5",
>>>>>>> 552590ea8fad969b67afdba27558a1e6cb21016e
=======
   "id": "b8091bfe",
>>>>>>> b6e07d13baac92b2c1c9b43f8e4113ffa87bf495
   "metadata": {},
   "outputs": [],
   "source": [
    "plotRowData(sfe, x = \"moran_sample01\", y = \"is_neg\") +\n",
    "    geom_hline(yintercept = 0, linetype = 2)"
   ]
  },
  {
   "cell_type": "markdown",
<<<<<<< HEAD
<<<<<<< HEAD
<<<<<<< HEAD
<<<<<<< HEAD
<<<<<<< HEAD
   "id": "6e06c0e7",
||||||| 11b9cb7
   "id": "9025c917",
=======
   "id": "94edd18f",
>>>>>>> documentation-devel
||||||| 614e9b1
   "id": "94edd18f",
=======
   "id": "4f50e2ea",
>>>>>>> documentation-devel
||||||| 856b4c0
<<<<<<< HEAD
   "id": "6e06c0e7",
||||||| 11b9cb7
   "id": "9025c917",
=======
   "id": "94edd18f",
>>>>>>> documentation-devel
=======
   "id": "f3650125",
>>>>>>> 552590ea8fad969b67afdba27558a1e6cb21016e
||||||| 452c944
   "id": "4f50e2ea",
=======
   "id": "94c613ff",
>>>>>>> documentation-devel
||||||| 4da3324
<<<<<<< HEAD
<<<<<<< HEAD
<<<<<<< HEAD
   "id": "6e06c0e7",
||||||| 11b9cb7
   "id": "9025c917",
=======
   "id": "94edd18f",
>>>>>>> documentation-devel
||||||| 614e9b1
   "id": "94edd18f",
=======
   "id": "4f50e2ea",
>>>>>>> documentation-devel
||||||| 856b4c0
<<<<<<< HEAD
   "id": "6e06c0e7",
||||||| 11b9cb7
   "id": "9025c917",
=======
   "id": "94edd18f",
>>>>>>> documentation-devel
=======
   "id": "f3650125",
>>>>>>> 552590ea8fad969b67afdba27558a1e6cb21016e
=======
   "id": "28f04b02",
>>>>>>> b6e07d13baac92b2c1c9b43f8e4113ffa87bf495
   "metadata": {
    "lines_to_next_cell": 0
   },
   "source": [
    "It seems that at least at the shorter length scale captured by the k nearest neighbor graph, most genes don't have strong spatial autocorrelation while some have strong positive spatial autocorrelation. In contrast, Moran's I for the negative controls is closely packed around 0, indicating lack of spatial autocorrelation, which is a good sign, that there is no evidence of a technical artifact that manifests as a spatial trend manifest in the negative controls.\n",
    "\n",
    "What are the genes with the highest Moran's I?"
   ]
  },
  {
   "cell_type": "code",
   "execution_count": null,
<<<<<<< HEAD
<<<<<<< HEAD
<<<<<<< HEAD
<<<<<<< HEAD
<<<<<<< HEAD
   "id": "30290d4b",
||||||| 11b9cb7
   "id": "8eb62bcf",
=======
   "id": "312eae2e",
>>>>>>> documentation-devel
||||||| 614e9b1
   "id": "312eae2e",
=======
   "id": "afefa671",
>>>>>>> documentation-devel
||||||| 856b4c0
<<<<<<< HEAD
   "id": "30290d4b",
||||||| 11b9cb7
   "id": "8eb62bcf",
=======
   "id": "312eae2e",
>>>>>>> documentation-devel
=======
   "id": "6c1b22d9",
>>>>>>> 552590ea8fad969b67afdba27558a1e6cb21016e
||||||| 452c944
   "id": "afefa671",
=======
   "id": "f2c944b9",
>>>>>>> documentation-devel
||||||| 4da3324
<<<<<<< HEAD
<<<<<<< HEAD
<<<<<<< HEAD
   "id": "30290d4b",
||||||| 11b9cb7
   "id": "8eb62bcf",
=======
   "id": "312eae2e",
>>>>>>> documentation-devel
||||||| 614e9b1
   "id": "312eae2e",
=======
   "id": "afefa671",
>>>>>>> documentation-devel
||||||| 856b4c0
<<<<<<< HEAD
   "id": "30290d4b",
||||||| 11b9cb7
   "id": "8eb62bcf",
=======
   "id": "312eae2e",
>>>>>>> documentation-devel
=======
   "id": "6c1b22d9",
>>>>>>> 552590ea8fad969b67afdba27558a1e6cb21016e
=======
   "id": "1f87ac0b",
>>>>>>> b6e07d13baac92b2c1c9b43f8e4113ffa87bf495
   "metadata": {
    "fig.height": 9,
    "fig.width": 9
   },
   "outputs": [],
   "source": [
    "top_moran <- rownames(sfe)[order(rowData(sfe)$moran_sample01, decreasing = TRUE)[1:6]]\n",
    "plotSpatialFeature(sfe, top_moran, colGeometryName = \"centroids\", \n",
    "                   scattermore = TRUE, ncol = 2)"
   ]
  },
  {
   "cell_type": "markdown",
<<<<<<< HEAD
<<<<<<< HEAD
<<<<<<< HEAD
<<<<<<< HEAD
<<<<<<< HEAD
   "id": "1c5bb6fe",
||||||| 11b9cb7
   "id": "36d113f7",
=======
   "id": "15707de7",
>>>>>>> documentation-devel
||||||| 614e9b1
   "id": "15707de7",
=======
   "id": "093ed1d5",
>>>>>>> documentation-devel
||||||| 856b4c0
<<<<<<< HEAD
   "id": "1c5bb6fe",
||||||| 11b9cb7
   "id": "36d113f7",
=======
   "id": "15707de7",
>>>>>>> documentation-devel
=======
   "id": "fa22474b",
>>>>>>> 552590ea8fad969b67afdba27558a1e6cb21016e
||||||| 452c944
   "id": "093ed1d5",
=======
   "id": "db371f68",
>>>>>>> documentation-devel
||||||| 4da3324
<<<<<<< HEAD
<<<<<<< HEAD
<<<<<<< HEAD
   "id": "1c5bb6fe",
||||||| 11b9cb7
   "id": "36d113f7",
=======
   "id": "15707de7",
>>>>>>> documentation-devel
||||||| 614e9b1
   "id": "15707de7",
=======
   "id": "093ed1d5",
>>>>>>> documentation-devel
||||||| 856b4c0
<<<<<<< HEAD
   "id": "1c5bb6fe",
||||||| 11b9cb7
   "id": "36d113f7",
=======
   "id": "15707de7",
>>>>>>> documentation-devel
=======
   "id": "fa22474b",
>>>>>>> 552590ea8fad969b67afdba27558a1e6cb21016e
=======
   "id": "bc690d8f",
>>>>>>> b6e07d13baac92b2c1c9b43f8e4113ffa87bf495
   "metadata": {
    "lines_to_next_cell": 0
   },
   "source": [
    "They all highlight the same epithelial regions. It could be that other regions are not as spatially organized, or that a short length scale is used for Moran's I here but the correlogram shows that Moran's I decays after the first order neighbors. I wonder how using a longer length scale would change the results.\n",
    "\n",
    "# Non-spatial dimension reduction and clustering"
   ]
  },
  {
   "cell_type": "code",
   "execution_count": null,
<<<<<<< HEAD
<<<<<<< HEAD
<<<<<<< HEAD
<<<<<<< HEAD
<<<<<<< HEAD
   "id": "b8b9a680",
||||||| 11b9cb7
   "id": "827bb582",
=======
   "id": "f8dfe52a",
>>>>>>> documentation-devel
||||||| 614e9b1
   "id": "f8dfe52a",
=======
   "id": "e20a5bea",
>>>>>>> documentation-devel
||||||| 856b4c0
<<<<<<< HEAD
   "id": "b8b9a680",
||||||| 11b9cb7
   "id": "827bb582",
=======
   "id": "f8dfe52a",
>>>>>>> documentation-devel
=======
   "id": "996ba18d",
>>>>>>> 552590ea8fad969b67afdba27558a1e6cb21016e
||||||| 452c944
   "id": "e20a5bea",
=======
   "id": "1ab46a42",
>>>>>>> documentation-devel
||||||| 4da3324
<<<<<<< HEAD
<<<<<<< HEAD
<<<<<<< HEAD
   "id": "b8b9a680",
||||||| 11b9cb7
   "id": "827bb582",
=======
   "id": "f8dfe52a",
>>>>>>> documentation-devel
||||||| 614e9b1
   "id": "f8dfe52a",
=======
   "id": "e20a5bea",
>>>>>>> documentation-devel
||||||| 856b4c0
<<<<<<< HEAD
   "id": "b8b9a680",
||||||| 11b9cb7
   "id": "827bb582",
=======
   "id": "f8dfe52a",
>>>>>>> documentation-devel
=======
   "id": "996ba18d",
>>>>>>> 552590ea8fad969b67afdba27558a1e6cb21016e
=======
   "id": "88549279",
>>>>>>> b6e07d13baac92b2c1c9b43f8e4113ffa87bf495
   "metadata": {},
   "outputs": [],
   "source": [
    "set.seed(29)\n",
    "sfe <- runPCA(sfe, ncomponents = 30, scale = TRUE, BSPARAM = IrlbaParam())"
   ]
  },
  {
   "cell_type": "code",
   "execution_count": null,
<<<<<<< HEAD
<<<<<<< HEAD
<<<<<<< HEAD
<<<<<<< HEAD
<<<<<<< HEAD
   "id": "f0e498fd",
||||||| 11b9cb7
   "id": "8d0ca940",
=======
   "id": "99cf8d30",
>>>>>>> documentation-devel
||||||| 614e9b1
   "id": "99cf8d30",
=======
   "id": "08fb8557",
>>>>>>> documentation-devel
||||||| 856b4c0
<<<<<<< HEAD
   "id": "f0e498fd",
||||||| 11b9cb7
   "id": "8d0ca940",
=======
   "id": "99cf8d30",
>>>>>>> documentation-devel
=======
   "id": "3d583468",
>>>>>>> 552590ea8fad969b67afdba27558a1e6cb21016e
||||||| 452c944
   "id": "08fb8557",
=======
   "id": "fedaf0c5",
>>>>>>> documentation-devel
||||||| 4da3324
<<<<<<< HEAD
<<<<<<< HEAD
<<<<<<< HEAD
   "id": "f0e498fd",
||||||| 11b9cb7
   "id": "8d0ca940",
=======
   "id": "99cf8d30",
>>>>>>> documentation-devel
||||||| 614e9b1
   "id": "99cf8d30",
=======
   "id": "08fb8557",
>>>>>>> documentation-devel
||||||| 856b4c0
<<<<<<< HEAD
   "id": "f0e498fd",
||||||| 11b9cb7
   "id": "8d0ca940",
=======
   "id": "99cf8d30",
>>>>>>> documentation-devel
=======
   "id": "3d583468",
>>>>>>> 552590ea8fad969b67afdba27558a1e6cb21016e
=======
   "id": "9b1ce312",
>>>>>>> b6e07d13baac92b2c1c9b43f8e4113ffa87bf495
   "metadata": {},
   "outputs": [],
   "source": [
    "ElbowPlot(sfe, ndims = 30)"
   ]
  },
  {
   "cell_type": "code",
   "execution_count": null,
<<<<<<< HEAD
<<<<<<< HEAD
<<<<<<< HEAD
<<<<<<< HEAD
<<<<<<< HEAD
   "id": "640846fe",
||||||| 11b9cb7
   "id": "ca4ab801",
=======
   "id": "939c6085",
>>>>>>> documentation-devel
||||||| 614e9b1
   "id": "939c6085",
=======
   "id": "e3360cd0",
>>>>>>> documentation-devel
||||||| 856b4c0
<<<<<<< HEAD
   "id": "640846fe",
||||||| 11b9cb7
   "id": "ca4ab801",
=======
   "id": "939c6085",
>>>>>>> documentation-devel
=======
   "id": "6e6ddb5b",
>>>>>>> 552590ea8fad969b67afdba27558a1e6cb21016e
||||||| 452c944
   "id": "e3360cd0",
=======
   "id": "5d5c1e47",
>>>>>>> documentation-devel
||||||| 4da3324
<<<<<<< HEAD
<<<<<<< HEAD
<<<<<<< HEAD
   "id": "640846fe",
||||||| 11b9cb7
   "id": "ca4ab801",
=======
   "id": "939c6085",
>>>>>>> documentation-devel
||||||| 614e9b1
   "id": "939c6085",
=======
   "id": "e3360cd0",
>>>>>>> documentation-devel
||||||| 856b4c0
<<<<<<< HEAD
   "id": "640846fe",
||||||| 11b9cb7
   "id": "ca4ab801",
=======
   "id": "939c6085",
>>>>>>> documentation-devel
=======
   "id": "6e6ddb5b",
>>>>>>> 552590ea8fad969b67afdba27558a1e6cb21016e
=======
   "id": "7e1e7a0f",
>>>>>>> b6e07d13baac92b2c1c9b43f8e4113ffa87bf495
   "metadata": {},
   "outputs": [],
   "source": [
    "plotDimLoadings(sfe, dims = 1:6)"
   ]
  },
  {
   "cell_type": "code",
   "execution_count": null,
<<<<<<< HEAD
<<<<<<< HEAD
<<<<<<< HEAD
<<<<<<< HEAD
<<<<<<< HEAD
   "id": "51fdc9ea",
||||||| 11b9cb7
   "id": "2fd2bd67",
=======
   "id": "125af342",
>>>>>>> documentation-devel
||||||| 614e9b1
   "id": "125af342",
=======
   "id": "906fb6cb",
>>>>>>> documentation-devel
||||||| 856b4c0
<<<<<<< HEAD
   "id": "51fdc9ea",
||||||| 11b9cb7
   "id": "2fd2bd67",
=======
   "id": "125af342",
>>>>>>> documentation-devel
=======
   "id": "63ea227d",
>>>>>>> 552590ea8fad969b67afdba27558a1e6cb21016e
||||||| 452c944
   "id": "906fb6cb",
=======
   "id": "8076a56f",
>>>>>>> documentation-devel
||||||| 4da3324
<<<<<<< HEAD
<<<<<<< HEAD
<<<<<<< HEAD
   "id": "51fdc9ea",
||||||| 11b9cb7
   "id": "2fd2bd67",
=======
   "id": "125af342",
>>>>>>> documentation-devel
||||||| 614e9b1
   "id": "125af342",
=======
   "id": "906fb6cb",
>>>>>>> documentation-devel
||||||| 856b4c0
<<<<<<< HEAD
   "id": "51fdc9ea",
||||||| 11b9cb7
   "id": "2fd2bd67",
=======
   "id": "125af342",
>>>>>>> documentation-devel
=======
   "id": "63ea227d",
>>>>>>> 552590ea8fad969b67afdba27558a1e6cb21016e
=======
   "id": "483c810c",
>>>>>>> b6e07d13baac92b2c1c9b43f8e4113ffa87bf495
   "metadata": {
    "fig.height": 9,
    "fig.width": 9
   },
   "outputs": [],
   "source": [
    "spatialReducedDim(sfe, \"PCA\", 6, colGeometryName = \"centroids\", divergent = TRUE,\n",
    "                  diverge_center = 0, ncol = 2, scattermore = TRUE)"
   ]
  },
  {
   "cell_type": "markdown",
<<<<<<< HEAD
<<<<<<< HEAD
<<<<<<< HEAD
<<<<<<< HEAD
<<<<<<< HEAD
   "id": "95ea20c6",
||||||| 11b9cb7
   "id": "fdf31d48",
=======
   "id": "04fea9e1",
>>>>>>> documentation-devel
||||||| 614e9b1
   "id": "04fea9e1",
=======
   "id": "e0fc1399",
>>>>>>> documentation-devel
||||||| 856b4c0
<<<<<<< HEAD
   "id": "95ea20c6",
||||||| 11b9cb7
   "id": "fdf31d48",
=======
   "id": "04fea9e1",
>>>>>>> documentation-devel
=======
   "id": "514098a7",
>>>>>>> 552590ea8fad969b67afdba27558a1e6cb21016e
||||||| 452c944
   "id": "e0fc1399",
=======
   "id": "e5346f18",
>>>>>>> documentation-devel
||||||| 4da3324
<<<<<<< HEAD
<<<<<<< HEAD
<<<<<<< HEAD
   "id": "95ea20c6",
||||||| 11b9cb7
   "id": "fdf31d48",
=======
   "id": "04fea9e1",
>>>>>>> documentation-devel
||||||| 614e9b1
   "id": "04fea9e1",
=======
   "id": "e0fc1399",
>>>>>>> documentation-devel
||||||| 856b4c0
<<<<<<< HEAD
   "id": "95ea20c6",
||||||| 11b9cb7
   "id": "fdf31d48",
=======
   "id": "04fea9e1",
>>>>>>> documentation-devel
=======
   "id": "514098a7",
>>>>>>> 552590ea8fad969b67afdba27558a1e6cb21016e
=======
   "id": "f6d0a874",
>>>>>>> b6e07d13baac92b2c1c9b43f8e4113ffa87bf495
   "metadata": {
    "lines_to_next_cell": 0
   },
   "source": [
    "The first PC highlights the epithelium. PC2 highlights T cells. PC4 might highlight other leukocytes. Need to check the genes with the highest loadings to find what the other PCs mean.\n",
    "\n",
    "Non-spatial clustering and locating the clusters in space"
   ]
  },
  {
   "cell_type": "code",
   "execution_count": null,
<<<<<<< HEAD
<<<<<<< HEAD
<<<<<<< HEAD
<<<<<<< HEAD
<<<<<<< HEAD
   "id": "8ac689f9",
||||||| 11b9cb7
   "id": "2af087b0",
=======
   "id": "2b2c4f46",
>>>>>>> documentation-devel
||||||| 614e9b1
   "id": "2b2c4f46",
=======
   "id": "2e492ff1",
>>>>>>> documentation-devel
||||||| 856b4c0
<<<<<<< HEAD
   "id": "8ac689f9",
||||||| 11b9cb7
   "id": "2af087b0",
=======
   "id": "2b2c4f46",
>>>>>>> documentation-devel
=======
   "id": "29a91b45",
>>>>>>> 552590ea8fad969b67afdba27558a1e6cb21016e
||||||| 452c944
   "id": "2e492ff1",
=======
   "id": "245549c5",
>>>>>>> documentation-devel
||||||| 4da3324
<<<<<<< HEAD
<<<<<<< HEAD
<<<<<<< HEAD
   "id": "8ac689f9",
||||||| 11b9cb7
   "id": "2af087b0",
=======
   "id": "2b2c4f46",
>>>>>>> documentation-devel
||||||| 614e9b1
   "id": "2b2c4f46",
=======
   "id": "2e492ff1",
>>>>>>> documentation-devel
||||||| 856b4c0
<<<<<<< HEAD
   "id": "8ac689f9",
||||||| 11b9cb7
   "id": "2af087b0",
=======
   "id": "2b2c4f46",
>>>>>>> documentation-devel
=======
   "id": "29a91b45",
>>>>>>> 552590ea8fad969b67afdba27558a1e6cb21016e
=======
   "id": "78538a83",
>>>>>>> b6e07d13baac92b2c1c9b43f8e4113ffa87bf495
   "metadata": {},
   "outputs": [],
   "source": [
    "colData(sfe)$cluster <- clusterRows(reducedDim(sfe, \"PCA\")[,1:15],\n",
    "                                    BLUSPARAM = SNNGraphParam(\n",
    "                                        cluster.fun = \"leiden\",\n",
    "                                        cluster.args = list(\n",
    "                                            resolution_parameter = 0.5,\n",
    "                                            objective_function = \"modularity\")))"
   ]
  },
  {
   "cell_type": "code",
   "execution_count": null,
<<<<<<< HEAD
<<<<<<< HEAD
<<<<<<< HEAD
<<<<<<< HEAD
<<<<<<< HEAD
   "id": "e7c93fd3",
||||||| 11b9cb7
   "id": "c1e49f39",
=======
   "id": "88520398",
>>>>>>> documentation-devel
||||||| 614e9b1
   "id": "88520398",
=======
   "id": "a4443adc",
>>>>>>> documentation-devel
||||||| 856b4c0
<<<<<<< HEAD
   "id": "e7c93fd3",
||||||| 11b9cb7
   "id": "c1e49f39",
=======
   "id": "88520398",
>>>>>>> documentation-devel
=======
   "id": "d823627e",
>>>>>>> 552590ea8fad969b67afdba27558a1e6cb21016e
||||||| 452c944
   "id": "a4443adc",
=======
   "id": "70032415",
>>>>>>> documentation-devel
||||||| 4da3324
<<<<<<< HEAD
<<<<<<< HEAD
<<<<<<< HEAD
   "id": "e7c93fd3",
||||||| 11b9cb7
   "id": "c1e49f39",
=======
   "id": "88520398",
>>>>>>> documentation-devel
||||||| 614e9b1
   "id": "88520398",
=======
   "id": "a4443adc",
>>>>>>> documentation-devel
||||||| 856b4c0
<<<<<<< HEAD
   "id": "e7c93fd3",
||||||| 11b9cb7
   "id": "c1e49f39",
=======
   "id": "88520398",
>>>>>>> documentation-devel
=======
   "id": "d823627e",
>>>>>>> 552590ea8fad969b67afdba27558a1e6cb21016e
=======
   "id": "d55ceb67",
>>>>>>> b6e07d13baac92b2c1c9b43f8e4113ffa87bf495
   "metadata": {},
   "outputs": [],
   "source": [
    "data(\"ditto_colors\")"
   ]
  },
  {
   "cell_type": "code",
   "execution_count": null,
<<<<<<< HEAD
<<<<<<< HEAD
<<<<<<< HEAD
<<<<<<< HEAD
<<<<<<< HEAD
   "id": "e20a49f7",
||||||| 11b9cb7
   "id": "006e075a",
=======
   "id": "7e980cda",
>>>>>>> documentation-devel
||||||| 614e9b1
   "id": "7e980cda",
=======
   "id": "5cb13a4f",
>>>>>>> documentation-devel
||||||| 856b4c0
<<<<<<< HEAD
   "id": "e20a49f7",
||||||| 11b9cb7
   "id": "006e075a",
=======
   "id": "7e980cda",
>>>>>>> documentation-devel
=======
   "id": "6996377e",
>>>>>>> 552590ea8fad969b67afdba27558a1e6cb21016e
||||||| 452c944
   "id": "5cb13a4f",
=======
   "id": "4c3dcd71",
>>>>>>> documentation-devel
||||||| 4da3324
<<<<<<< HEAD
<<<<<<< HEAD
<<<<<<< HEAD
   "id": "e20a49f7",
||||||| 11b9cb7
   "id": "006e075a",
=======
   "id": "7e980cda",
>>>>>>> documentation-devel
||||||| 614e9b1
   "id": "7e980cda",
=======
   "id": "5cb13a4f",
>>>>>>> documentation-devel
||||||| 856b4c0
<<<<<<< HEAD
   "id": "e20a49f7",
||||||| 11b9cb7
   "id": "006e075a",
=======
   "id": "7e980cda",
>>>>>>> documentation-devel
=======
   "id": "6996377e",
>>>>>>> 552590ea8fad969b67afdba27558a1e6cb21016e
=======
   "id": "bdc7ddc8",
>>>>>>> b6e07d13baac92b2c1c9b43f8e4113ffa87bf495
   "metadata": {
    "fig.height": 8,
    "fig.width": 8
   },
   "outputs": [],
   "source": [
    "plotPCA(sfe, ncomponents = 4, colour_by = \"cluster\") +\n",
    "    scale_color_manual(values = ditto_colors)"
   ]
  },
  {
   "cell_type": "code",
   "execution_count": null,
<<<<<<< HEAD
<<<<<<< HEAD
<<<<<<< HEAD
<<<<<<< HEAD
<<<<<<< HEAD
   "id": "a1ec4965",
||||||| 11b9cb7
   "id": "76583718",
=======
   "id": "ee00e857",
>>>>>>> documentation-devel
||||||| 614e9b1
   "id": "ee00e857",
=======
   "id": "f9fa12fe",
>>>>>>> documentation-devel
||||||| 856b4c0
<<<<<<< HEAD
   "id": "a1ec4965",
||||||| 11b9cb7
   "id": "76583718",
=======
   "id": "ee00e857",
>>>>>>> documentation-devel
=======
   "id": "83d2854b",
>>>>>>> 552590ea8fad969b67afdba27558a1e6cb21016e
||||||| 452c944
   "id": "f9fa12fe",
=======
   "id": "34e5a6d6",
>>>>>>> documentation-devel
||||||| 4da3324
<<<<<<< HEAD
<<<<<<< HEAD
<<<<<<< HEAD
   "id": "a1ec4965",
||||||| 11b9cb7
   "id": "76583718",
=======
   "id": "ee00e857",
>>>>>>> documentation-devel
||||||| 614e9b1
   "id": "ee00e857",
=======
   "id": "f9fa12fe",
>>>>>>> documentation-devel
||||||| 856b4c0
<<<<<<< HEAD
   "id": "a1ec4965",
||||||| 11b9cb7
   "id": "76583718",
=======
   "id": "ee00e857",
>>>>>>> documentation-devel
=======
   "id": "83d2854b",
>>>>>>> 552590ea8fad969b67afdba27558a1e6cb21016e
=======
   "id": "a1cb1650",
>>>>>>> b6e07d13baac92b2c1c9b43f8e4113ffa87bf495
   "metadata": {},
   "outputs": [],
   "source": [
    "plotSpatialFeature(sfe, \"cluster\", colGeometryName = \"cellSeg\")"
   ]
  },
  {
   "cell_type": "markdown",
<<<<<<< HEAD
<<<<<<< HEAD
<<<<<<< HEAD
<<<<<<< HEAD
<<<<<<< HEAD
   "id": "7faa141e",
||||||| 11b9cb7
   "id": "af75aa74",
=======
   "id": "1aa4e986",
>>>>>>> documentation-devel
||||||| 614e9b1
   "id": "1aa4e986",
=======
   "id": "452d2270",
>>>>>>> documentation-devel
||||||| 856b4c0
<<<<<<< HEAD
   "id": "7faa141e",
||||||| 11b9cb7
   "id": "af75aa74",
=======
   "id": "1aa4e986",
>>>>>>> documentation-devel
=======
   "id": "f04249b0",
>>>>>>> 552590ea8fad969b67afdba27558a1e6cb21016e
||||||| 452c944
   "id": "452d2270",
=======
   "id": "bcafdac5",
>>>>>>> documentation-devel
||||||| 4da3324
<<<<<<< HEAD
<<<<<<< HEAD
<<<<<<< HEAD
   "id": "7faa141e",
||||||| 11b9cb7
   "id": "af75aa74",
=======
   "id": "1aa4e986",
>>>>>>> documentation-devel
||||||| 614e9b1
   "id": "1aa4e986",
=======
   "id": "452d2270",
>>>>>>> documentation-devel
||||||| 856b4c0
<<<<<<< HEAD
   "id": "7faa141e",
||||||| 11b9cb7
   "id": "af75aa74",
=======
   "id": "1aa4e986",
>>>>>>> documentation-devel
=======
   "id": "f04249b0",
>>>>>>> 552590ea8fad969b67afdba27558a1e6cb21016e
=======
   "id": "1c0fbec3",
>>>>>>> b6e07d13baac92b2c1c9b43f8e4113ffa87bf495
   "metadata": {
    "lines_to_next_cell": 0
   },
   "source": [
    "Further analyses that can be done at this stage:\n",
    "\n",
    "* Which and how many cell types are in the neighborhood of each cell? This is subject to the different definitions of the neighborhood.\n",
    "* Which cell types tend to co-localize where?\n",
    "* Find spatial regions based on cell type colocalization, which can be done with the R package [`spicyR`](https://bioconductor.org/packages/release/bioc/html/spicyR.html) [@Canete2022-tz]\n",
    "\n",
    "# Differential expression\n",
    "Cluster marker genes are found with Wilcoxon rank sum test as commonly done for scRNA-seq."
   ]
  },
  {
   "cell_type": "code",
   "execution_count": null,
<<<<<<< HEAD
<<<<<<< HEAD
<<<<<<< HEAD
<<<<<<< HEAD
<<<<<<< HEAD
   "id": "ef6bc67e",
||||||| 11b9cb7
   "id": "cc3d62a6",
=======
   "id": "c7773fd0",
>>>>>>> documentation-devel
||||||| 614e9b1
   "id": "c7773fd0",
=======
   "id": "10286b0b",
>>>>>>> documentation-devel
||||||| 856b4c0
<<<<<<< HEAD
   "id": "ef6bc67e",
||||||| 11b9cb7
   "id": "cc3d62a6",
=======
   "id": "c7773fd0",
>>>>>>> documentation-devel
=======
   "id": "a3c67f80",
>>>>>>> 552590ea8fad969b67afdba27558a1e6cb21016e
||||||| 452c944
   "id": "10286b0b",
=======
   "id": "56c5e765",
>>>>>>> documentation-devel
||||||| 4da3324
<<<<<<< HEAD
<<<<<<< HEAD
<<<<<<< HEAD
   "id": "ef6bc67e",
||||||| 11b9cb7
   "id": "cc3d62a6",
=======
   "id": "c7773fd0",
>>>>>>> documentation-devel
||||||| 614e9b1
   "id": "c7773fd0",
=======
   "id": "10286b0b",
>>>>>>> documentation-devel
||||||| 856b4c0
<<<<<<< HEAD
   "id": "ef6bc67e",
||||||| 11b9cb7
   "id": "cc3d62a6",
=======
   "id": "c7773fd0",
>>>>>>> documentation-devel
=======
   "id": "a3c67f80",
>>>>>>> 552590ea8fad969b67afdba27558a1e6cb21016e
=======
   "id": "f98cc537",
>>>>>>> b6e07d13baac92b2c1c9b43f8e4113ffa87bf495
   "metadata": {},
   "outputs": [],
   "source": [
    "markers <- findMarkers(sfe, groups = colData(sfe)$cluster,\n",
    "                       test.type = \"wilcox\", pval.type = \"all\", direction = \"up\")"
   ]
  },
  {
   "cell_type": "markdown",
<<<<<<< HEAD
<<<<<<< HEAD
<<<<<<< HEAD
<<<<<<< HEAD
<<<<<<< HEAD
   "id": "92f3f550",
||||||| 11b9cb7
   "id": "c8f08ba3",
=======
   "id": "4ecdc812",
>>>>>>> documentation-devel
||||||| 614e9b1
   "id": "4ecdc812",
=======
   "id": "554c1c29",
>>>>>>> documentation-devel
||||||| 856b4c0
<<<<<<< HEAD
   "id": "92f3f550",
||||||| 11b9cb7
   "id": "c8f08ba3",
=======
   "id": "4ecdc812",
>>>>>>> documentation-devel
=======
   "id": "5fb10f09",
>>>>>>> 552590ea8fad969b67afdba27558a1e6cb21016e
||||||| 452c944
   "id": "554c1c29",
=======
   "id": "44850cc2",
>>>>>>> documentation-devel
||||||| 4da3324
<<<<<<< HEAD
<<<<<<< HEAD
<<<<<<< HEAD
   "id": "92f3f550",
||||||| 11b9cb7
   "id": "c8f08ba3",
=======
   "id": "4ecdc812",
>>>>>>> documentation-devel
||||||| 614e9b1
   "id": "4ecdc812",
=======
   "id": "554c1c29",
>>>>>>> documentation-devel
||||||| 856b4c0
<<<<<<< HEAD
   "id": "92f3f550",
||||||| 11b9cb7
   "id": "c8f08ba3",
=======
   "id": "4ecdc812",
>>>>>>> documentation-devel
=======
   "id": "5fb10f09",
>>>>>>> 552590ea8fad969b67afdba27558a1e6cb21016e
=======
   "id": "0217c14d",
>>>>>>> b6e07d13baac92b2c1c9b43f8e4113ffa87bf495
   "metadata": {
    "lines_to_next_cell": 0
   },
   "source": [
    "It's already sorted by p-values."
   ]
  },
  {
   "cell_type": "code",
   "execution_count": null,
<<<<<<< HEAD
<<<<<<< HEAD
<<<<<<< HEAD
<<<<<<< HEAD
<<<<<<< HEAD
   "id": "fa798582",
||||||| 11b9cb7
   "id": "181e2a16",
=======
   "id": "b15dbb42",
>>>>>>> documentation-devel
||||||| 614e9b1
   "id": "b15dbb42",
=======
   "id": "755475c8",
>>>>>>> documentation-devel
||||||| 856b4c0
<<<<<<< HEAD
   "id": "fa798582",
||||||| 11b9cb7
   "id": "181e2a16",
=======
   "id": "b15dbb42",
>>>>>>> documentation-devel
=======
   "id": "a8db9831",
>>>>>>> 552590ea8fad969b67afdba27558a1e6cb21016e
||||||| 452c944
   "id": "755475c8",
=======
   "id": "67304bd6",
>>>>>>> documentation-devel
||||||| 4da3324
<<<<<<< HEAD
<<<<<<< HEAD
<<<<<<< HEAD
   "id": "fa798582",
||||||| 11b9cb7
   "id": "181e2a16",
=======
   "id": "b15dbb42",
>>>>>>> documentation-devel
||||||| 614e9b1
   "id": "b15dbb42",
=======
   "id": "755475c8",
>>>>>>> documentation-devel
||||||| 856b4c0
<<<<<<< HEAD
   "id": "fa798582",
||||||| 11b9cb7
   "id": "181e2a16",
=======
   "id": "b15dbb42",
>>>>>>> documentation-devel
=======
   "id": "a8db9831",
>>>>>>> 552590ea8fad969b67afdba27558a1e6cb21016e
=======
   "id": "36fc1d43",
>>>>>>> b6e07d13baac92b2c1c9b43f8e4113ffa87bf495
   "metadata": {},
   "outputs": [],
   "source": [
    "markers[[6]]"
   ]
  },
  {
   "cell_type": "markdown",
<<<<<<< HEAD
<<<<<<< HEAD
<<<<<<< HEAD
<<<<<<< HEAD
<<<<<<< HEAD
   "id": "aaa56afa",
||||||| 11b9cb7
   "id": "57691da2",
=======
   "id": "37156a34",
>>>>>>> documentation-devel
||||||| 614e9b1
   "id": "37156a34",
=======
   "id": "8220ee1f",
>>>>>>> documentation-devel
||||||| 856b4c0
<<<<<<< HEAD
   "id": "aaa56afa",
||||||| 11b9cb7
   "id": "57691da2",
=======
   "id": "37156a34",
>>>>>>> documentation-devel
=======
   "id": "b5e42c26",
>>>>>>> 552590ea8fad969b67afdba27558a1e6cb21016e
||||||| 452c944
   "id": "8220ee1f",
=======
   "id": "994a6457",
>>>>>>> documentation-devel
||||||| 4da3324
<<<<<<< HEAD
<<<<<<< HEAD
<<<<<<< HEAD
   "id": "aaa56afa",
||||||| 11b9cb7
   "id": "57691da2",
=======
   "id": "37156a34",
>>>>>>> documentation-devel
||||||| 614e9b1
   "id": "37156a34",
=======
   "id": "8220ee1f",
>>>>>>> documentation-devel
||||||| 856b4c0
<<<<<<< HEAD
   "id": "aaa56afa",
||||||| 11b9cb7
   "id": "57691da2",
=======
   "id": "37156a34",
>>>>>>> documentation-devel
=======
   "id": "b5e42c26",
>>>>>>> 552590ea8fad969b67afdba27558a1e6cb21016e
=======
   "id": "a2952a12",
>>>>>>> b6e07d13baac92b2c1c9b43f8e4113ffa87bf495
   "metadata": {
    "lines_to_next_cell": 0
   },
   "source": [
    "Get the the significant marker for each cluster to plot. Since there're too many points, here we used the development version of `scater` to not to plot the points, which are uninformative due to overplotting and make this plot really slow."
   ]
  },
  {
   "cell_type": "code",
   "execution_count": null,
<<<<<<< HEAD
<<<<<<< HEAD
<<<<<<< HEAD
<<<<<<< HEAD
<<<<<<< HEAD
   "id": "f9e86610",
||||||| 11b9cb7
   "id": "5c646fd5",
=======
   "id": "cafbf3f4",
>>>>>>> documentation-devel
||||||| 614e9b1
   "id": "cafbf3f4",
=======
   "id": "b881b32e",
>>>>>>> documentation-devel
||||||| 856b4c0
<<<<<<< HEAD
   "id": "f9e86610",
||||||| 11b9cb7
   "id": "5c646fd5",
=======
   "id": "cafbf3f4",
>>>>>>> documentation-devel
=======
   "id": "648b343a",
>>>>>>> 552590ea8fad969b67afdba27558a1e6cb21016e
||||||| 452c944
   "id": "b881b32e",
=======
   "id": "ae20b5cf",
>>>>>>> documentation-devel
||||||| 4da3324
<<<<<<< HEAD
<<<<<<< HEAD
<<<<<<< HEAD
   "id": "f9e86610",
||||||| 11b9cb7
   "id": "5c646fd5",
=======
   "id": "cafbf3f4",
>>>>>>> documentation-devel
||||||| 614e9b1
   "id": "cafbf3f4",
=======
   "id": "b881b32e",
>>>>>>> documentation-devel
||||||| 856b4c0
<<<<<<< HEAD
   "id": "f9e86610",
||||||| 11b9cb7
   "id": "5c646fd5",
=======
   "id": "cafbf3f4",
>>>>>>> documentation-devel
=======
   "id": "648b343a",
>>>>>>> 552590ea8fad969b67afdba27558a1e6cb21016e
=======
   "id": "d7191280",
>>>>>>> b6e07d13baac92b2c1c9b43f8e4113ffa87bf495
   "metadata": {},
   "outputs": [],
   "source": [
    "genes_use <- vapply(markers, function(x) rownames(x)[1], FUN.VALUE = character(1))\n",
    "plotExpression(sfe, genes_use, x = \"cluster\", point_fun = function(...) list())"
   ]
  },
  {
   "cell_type": "markdown",
<<<<<<< HEAD
<<<<<<< HEAD
<<<<<<< HEAD
<<<<<<< HEAD
<<<<<<< HEAD
   "id": "33dd3cf7",
||||||| 11b9cb7
   "id": "6fa5558e",
=======
   "id": "e236c5b6",
>>>>>>> documentation-devel
||||||| 614e9b1
   "id": "e236c5b6",
=======
   "id": "b520331e",
>>>>>>> documentation-devel
||||||| 856b4c0
<<<<<<< HEAD
   "id": "33dd3cf7",
||||||| 11b9cb7
   "id": "6fa5558e",
=======
   "id": "e236c5b6",
>>>>>>> documentation-devel
=======
   "id": "5ec366ee",
>>>>>>> 552590ea8fad969b67afdba27558a1e6cb21016e
||||||| 452c944
   "id": "b520331e",
=======
   "id": "40ec0165",
>>>>>>> documentation-devel
||||||| 4da3324
<<<<<<< HEAD
<<<<<<< HEAD
<<<<<<< HEAD
   "id": "33dd3cf7",
||||||| 11b9cb7
   "id": "6fa5558e",
=======
   "id": "e236c5b6",
>>>>>>> documentation-devel
||||||| 614e9b1
   "id": "e236c5b6",
=======
   "id": "b520331e",
>>>>>>> documentation-devel
||||||| 856b4c0
<<<<<<< HEAD
   "id": "33dd3cf7",
||||||| 11b9cb7
   "id": "6fa5558e",
=======
   "id": "e236c5b6",
>>>>>>> documentation-devel
=======
   "id": "5ec366ee",
>>>>>>> 552590ea8fad969b67afdba27558a1e6cb21016e
=======
   "id": "1a68fe20",
>>>>>>> b6e07d13baac92b2c1c9b43f8e4113ffa87bf495
   "metadata": {
    "lines_to_next_cell": 0
   },
   "source": [
    "Plot more top marker genes in a heatmap"
   ]
  },
  {
   "cell_type": "code",
   "execution_count": null,
<<<<<<< HEAD
<<<<<<< HEAD
<<<<<<< HEAD
<<<<<<< HEAD
<<<<<<< HEAD
   "id": "1eff38c0",
||||||| 11b9cb7
   "id": "9d84be51",
=======
   "id": "e2ade6c8",
>>>>>>> documentation-devel
||||||| 614e9b1
   "id": "e2ade6c8",
=======
   "id": "a2f76684",
>>>>>>> documentation-devel
||||||| 856b4c0
<<<<<<< HEAD
   "id": "1eff38c0",
||||||| 11b9cb7
   "id": "9d84be51",
=======
   "id": "e2ade6c8",
>>>>>>> documentation-devel
=======
   "id": "ce1664bf",
>>>>>>> 552590ea8fad969b67afdba27558a1e6cb21016e
||||||| 452c944
   "id": "a2f76684",
=======
   "id": "e2758eb2",
>>>>>>> documentation-devel
||||||| 4da3324
<<<<<<< HEAD
<<<<<<< HEAD
<<<<<<< HEAD
   "id": "1eff38c0",
||||||| 11b9cb7
   "id": "9d84be51",
=======
   "id": "e2ade6c8",
>>>>>>> documentation-devel
||||||| 614e9b1
   "id": "e2ade6c8",
=======
   "id": "a2f76684",
>>>>>>> documentation-devel
||||||| 856b4c0
<<<<<<< HEAD
   "id": "1eff38c0",
||||||| 11b9cb7
   "id": "9d84be51",
=======
   "id": "e2ade6c8",
>>>>>>> documentation-devel
=======
   "id": "ce1664bf",
>>>>>>> 552590ea8fad969b67afdba27558a1e6cb21016e
=======
   "id": "b0c48d53",
>>>>>>> b6e07d13baac92b2c1c9b43f8e4113ffa87bf495
   "metadata": {
    "fig.height": 7,
    "fig.width": 6
   },
   "outputs": [],
   "source": [
    "genes_use2 <- unique(unlist(lapply(markers, function(x) rownames(x)[1:5])))\n",
    "plotGroupedHeatmap(sfe, genes_use2, group = \"cluster\", colour = scales::viridis_pal()(100))"
   ]
  },
  {
   "cell_type": "markdown",
<<<<<<< HEAD
<<<<<<< HEAD
<<<<<<< HEAD
<<<<<<< HEAD
<<<<<<< HEAD
   "id": "a3532370",
||||||| 11b9cb7
   "id": "509ed0e7",
=======
   "id": "e7a2d3ed",
>>>>>>> documentation-devel
||||||| 614e9b1
   "id": "e7a2d3ed",
=======
   "id": "dd08331a",
>>>>>>> documentation-devel
||||||| 856b4c0
<<<<<<< HEAD
   "id": "a3532370",
||||||| 11b9cb7
   "id": "509ed0e7",
=======
   "id": "e7a2d3ed",
>>>>>>> documentation-devel
=======
   "id": "d4e95884",
>>>>>>> 552590ea8fad969b67afdba27558a1e6cb21016e
||||||| 452c944
   "id": "dd08331a",
=======
   "id": "55e2b784",
>>>>>>> documentation-devel
||||||| 4da3324
<<<<<<< HEAD
<<<<<<< HEAD
<<<<<<< HEAD
   "id": "a3532370",
||||||| 11b9cb7
   "id": "509ed0e7",
=======
   "id": "e7a2d3ed",
>>>>>>> documentation-devel
||||||| 614e9b1
   "id": "e7a2d3ed",
=======
   "id": "dd08331a",
>>>>>>> documentation-devel
||||||| 856b4c0
<<<<<<< HEAD
   "id": "a3532370",
||||||| 11b9cb7
   "id": "509ed0e7",
=======
   "id": "e7a2d3ed",
>>>>>>> documentation-devel
=======
   "id": "d4e95884",
>>>>>>> 552590ea8fad969b67afdba27558a1e6cb21016e
=======
   "id": "b0fcac6d",
>>>>>>> b6e07d13baac92b2c1c9b43f8e4113ffa87bf495
   "metadata": {
    "lines_to_next_cell": 0
   },
   "source": [
    "# Local spatial statistics of marker genes\n",
    "Plot those genes in space"
   ]
  },
  {
   "cell_type": "code",
   "execution_count": null,
<<<<<<< HEAD
<<<<<<< HEAD
<<<<<<< HEAD
<<<<<<< HEAD
<<<<<<< HEAD
   "id": "5698a6f9",
||||||| 11b9cb7
   "id": "df16091b",
=======
   "id": "626ba50f",
>>>>>>> documentation-devel
||||||| 614e9b1
   "id": "626ba50f",
=======
   "id": "ac9e5e70",
>>>>>>> documentation-devel
||||||| 856b4c0
<<<<<<< HEAD
   "id": "5698a6f9",
||||||| 11b9cb7
   "id": "df16091b",
=======
   "id": "626ba50f",
>>>>>>> documentation-devel
=======
   "id": "08e7d222",
>>>>>>> 552590ea8fad969b67afdba27558a1e6cb21016e
||||||| 452c944
   "id": "ac9e5e70",
=======
   "id": "99185a8a",
>>>>>>> documentation-devel
||||||| 4da3324
<<<<<<< HEAD
<<<<<<< HEAD
<<<<<<< HEAD
   "id": "5698a6f9",
||||||| 11b9cb7
   "id": "df16091b",
=======
   "id": "626ba50f",
>>>>>>> documentation-devel
||||||| 614e9b1
   "id": "626ba50f",
=======
   "id": "ac9e5e70",
>>>>>>> documentation-devel
||||||| 856b4c0
<<<<<<< HEAD
   "id": "5698a6f9",
||||||| 11b9cb7
   "id": "df16091b",
=======
   "id": "626ba50f",
>>>>>>> documentation-devel
=======
   "id": "08e7d222",
>>>>>>> 552590ea8fad969b67afdba27558a1e6cb21016e
=======
   "id": "4a46212d",
>>>>>>> b6e07d13baac92b2c1c9b43f8e4113ffa87bf495
   "metadata": {
    "fig.height": 12,
    "fig.width": 8
   },
   "outputs": [],
   "source": [
    "plotSpatialFeature(sfe, genes_use, colGeometryName = \"centroids\", ncol = 2,\n",
    "                   scattermore = TRUE)"
   ]
  },
  {
   "cell_type": "markdown",
<<<<<<< HEAD
<<<<<<< HEAD
<<<<<<< HEAD
<<<<<<< HEAD
<<<<<<< HEAD
   "id": "32356d83",
||||||| 11b9cb7
   "id": "1c4dcb6b",
=======
   "id": "691ef011",
>>>>>>> documentation-devel
||||||| 614e9b1
   "id": "691ef011",
=======
   "id": "18a50997",
>>>>>>> documentation-devel
||||||| 856b4c0
<<<<<<< HEAD
   "id": "32356d83",
||||||| 11b9cb7
   "id": "1c4dcb6b",
=======
   "id": "691ef011",
>>>>>>> documentation-devel
=======
   "id": "0895f45f",
>>>>>>> 552590ea8fad969b67afdba27558a1e6cb21016e
||||||| 452c944
   "id": "18a50997",
=======
   "id": "e97d2a28",
>>>>>>> documentation-devel
||||||| 4da3324
<<<<<<< HEAD
<<<<<<< HEAD
<<<<<<< HEAD
   "id": "32356d83",
||||||| 11b9cb7
   "id": "1c4dcb6b",
=======
   "id": "691ef011",
>>>>>>> documentation-devel
||||||| 614e9b1
   "id": "691ef011",
=======
   "id": "18a50997",
>>>>>>> documentation-devel
||||||| 856b4c0
<<<<<<< HEAD
   "id": "32356d83",
||||||| 11b9cb7
   "id": "1c4dcb6b",
=======
   "id": "691ef011",
>>>>>>> documentation-devel
=======
   "id": "0895f45f",
>>>>>>> 552590ea8fad969b67afdba27558a1e6cb21016e
=======
   "id": "94d0b913",
>>>>>>> b6e07d13baac92b2c1c9b43f8e4113ffa87bf495
   "metadata": {},
   "source": [
    "Moran's I of these marker genes"
   ]
  },
  {
   "cell_type": "code",
   "execution_count": null,
<<<<<<< HEAD
<<<<<<< HEAD
<<<<<<< HEAD
<<<<<<< HEAD
<<<<<<< HEAD
   "id": "e937589c",
||||||| 11b9cb7
   "id": "e902c8ca",
=======
   "id": "5a0b143f",
>>>>>>> documentation-devel
||||||| 614e9b1
   "id": "5a0b143f",
=======
   "id": "cc592a74",
>>>>>>> documentation-devel
||||||| 856b4c0
<<<<<<< HEAD
   "id": "e937589c",
||||||| 11b9cb7
   "id": "e902c8ca",
=======
   "id": "5a0b143f",
>>>>>>> documentation-devel
=======
   "id": "eea4f7e9",
>>>>>>> 552590ea8fad969b67afdba27558a1e6cb21016e
||||||| 452c944
   "id": "cc592a74",
=======
   "id": "6da10fd3",
>>>>>>> documentation-devel
||||||| 4da3324
<<<<<<< HEAD
<<<<<<< HEAD
<<<<<<< HEAD
   "id": "e937589c",
||||||| 11b9cb7
   "id": "e902c8ca",
=======
   "id": "5a0b143f",
>>>>>>> documentation-devel
||||||| 614e9b1
   "id": "5a0b143f",
=======
   "id": "cc592a74",
>>>>>>> documentation-devel
||||||| 856b4c0
<<<<<<< HEAD
   "id": "e937589c",
||||||| 11b9cb7
   "id": "e902c8ca",
=======
   "id": "5a0b143f",
>>>>>>> documentation-devel
=======
   "id": "eea4f7e9",
>>>>>>> 552590ea8fad969b67afdba27558a1e6cb21016e
=======
   "id": "62cd8e75",
>>>>>>> b6e07d13baac92b2c1c9b43f8e4113ffa87bf495
   "metadata": {},
   "outputs": [],
   "source": [
    "rowData(sfe)[genes_use, \"moran_sample01\", drop = FALSE]"
   ]
  },
  {
   "cell_type": "markdown",
<<<<<<< HEAD
<<<<<<< HEAD
<<<<<<< HEAD
<<<<<<< HEAD
<<<<<<< HEAD
   "id": "558bcaa8",
||||||| 11b9cb7
   "id": "4512276e",
=======
   "id": "3b4c886c",
>>>>>>> documentation-devel
||||||| 614e9b1
   "id": "3b4c886c",
=======
   "id": "dc8b62d4",
>>>>>>> documentation-devel
||||||| 856b4c0
<<<<<<< HEAD
   "id": "558bcaa8",
||||||| 11b9cb7
   "id": "4512276e",
=======
   "id": "3b4c886c",
>>>>>>> documentation-devel
=======
   "id": "f9ab6d2c",
>>>>>>> 552590ea8fad969b67afdba27558a1e6cb21016e
||||||| 452c944
   "id": "dc8b62d4",
=======
   "id": "16bb55b9",
>>>>>>> documentation-devel
||||||| 4da3324
<<<<<<< HEAD
<<<<<<< HEAD
<<<<<<< HEAD
   "id": "558bcaa8",
||||||| 11b9cb7
   "id": "4512276e",
=======
   "id": "3b4c886c",
>>>>>>> documentation-devel
||||||| 614e9b1
   "id": "3b4c886c",
=======
   "id": "dc8b62d4",
>>>>>>> documentation-devel
||||||| 856b4c0
<<<<<<< HEAD
   "id": "558bcaa8",
||||||| 11b9cb7
   "id": "4512276e",
=======
   "id": "3b4c886c",
>>>>>>> documentation-devel
=======
   "id": "f9ab6d2c",
>>>>>>> 552590ea8fad969b67afdba27558a1e6cb21016e
=======
   "id": "5dc7491f",
>>>>>>> b6e07d13baac92b2c1c9b43f8e4113ffa87bf495
   "metadata": {
    "lines_to_next_cell": 0
   },
   "source": [
    "Local Moran's I of these marker genes"
   ]
  },
  {
   "cell_type": "code",
   "execution_count": null,
<<<<<<< HEAD
<<<<<<< HEAD
<<<<<<< HEAD
<<<<<<< HEAD
<<<<<<< HEAD
   "id": "34eba1c2",
||||||| 11b9cb7
   "id": "6f8e7b1c",
=======
   "id": "1010d0fe",
>>>>>>> documentation-devel
||||||| 614e9b1
   "id": "1010d0fe",
=======
   "id": "7a47b6f2",
>>>>>>> documentation-devel
||||||| 856b4c0
<<<<<<< HEAD
   "id": "34eba1c2",
||||||| 11b9cb7
   "id": "6f8e7b1c",
=======
   "id": "1010d0fe",
>>>>>>> documentation-devel
=======
   "id": "37724dda",
>>>>>>> 552590ea8fad969b67afdba27558a1e6cb21016e
||||||| 452c944
   "id": "7a47b6f2",
=======
   "id": "a4fbde5c",
>>>>>>> documentation-devel
||||||| 4da3324
<<<<<<< HEAD
<<<<<<< HEAD
<<<<<<< HEAD
   "id": "34eba1c2",
||||||| 11b9cb7
   "id": "6f8e7b1c",
=======
   "id": "1010d0fe",
>>>>>>> documentation-devel
||||||| 614e9b1
   "id": "1010d0fe",
=======
   "id": "7a47b6f2",
>>>>>>> documentation-devel
||||||| 856b4c0
<<<<<<< HEAD
   "id": "34eba1c2",
||||||| 11b9cb7
   "id": "6f8e7b1c",
=======
   "id": "1010d0fe",
>>>>>>> documentation-devel
=======
   "id": "37724dda",
>>>>>>> 552590ea8fad969b67afdba27558a1e6cb21016e
=======
   "id": "f42c749e",
>>>>>>> b6e07d13baac92b2c1c9b43f8e4113ffa87bf495
   "metadata": {},
   "outputs": [],
   "source": [
    "sfe <- runUnivariate(sfe, \"localmoran\", features = genes_use, colGraphName = \"knn5\",\n",
    "                     BPPARAM = MulticoreParam(2))"
   ]
  },
  {
   "cell_type": "code",
   "execution_count": null,
<<<<<<< HEAD
<<<<<<< HEAD
<<<<<<< HEAD
<<<<<<< HEAD
<<<<<<< HEAD
   "id": "a6af489c",
||||||| 11b9cb7
   "id": "70e702fe",
=======
   "id": "61913232",
>>>>>>> documentation-devel
||||||| 614e9b1
   "id": "61913232",
=======
   "id": "03c2f5fc",
>>>>>>> documentation-devel
||||||| 856b4c0
<<<<<<< HEAD
   "id": "a6af489c",
||||||| 11b9cb7
   "id": "70e702fe",
=======
   "id": "61913232",
>>>>>>> documentation-devel
=======
   "id": "7533417d",
>>>>>>> 552590ea8fad969b67afdba27558a1e6cb21016e
||||||| 452c944
   "id": "03c2f5fc",
=======
   "id": "2f8e82f2",
>>>>>>> documentation-devel
||||||| 4da3324
<<<<<<< HEAD
<<<<<<< HEAD
<<<<<<< HEAD
   "id": "a6af489c",
||||||| 11b9cb7
   "id": "70e702fe",
=======
   "id": "61913232",
>>>>>>> documentation-devel
||||||| 614e9b1
   "id": "61913232",
=======
   "id": "03c2f5fc",
>>>>>>> documentation-devel
||||||| 856b4c0
<<<<<<< HEAD
   "id": "a6af489c",
||||||| 11b9cb7
   "id": "70e702fe",
=======
   "id": "61913232",
>>>>>>> documentation-devel
=======
   "id": "7533417d",
>>>>>>> 552590ea8fad969b67afdba27558a1e6cb21016e
=======
   "id": "728f9197",
>>>>>>> b6e07d13baac92b2c1c9b43f8e4113ffa87bf495
   "metadata": {
    "fig.height": 12,
    "fig.width": 8
   },
   "outputs": [],
   "source": [
    "plotLocalResult(sfe, \"localmoran\", features = genes_use, \n",
    "                colGeometryName = \"centroids\", ncol = 2, divergent = TRUE,\n",
    "                diverge_center = 0, scattermore = TRUE)"
   ]
  },
  {
   "cell_type": "markdown",
<<<<<<< HEAD
<<<<<<< HEAD
<<<<<<< HEAD
<<<<<<< HEAD
<<<<<<< HEAD
   "id": "f3ec5bbe",
||||||| 11b9cb7
   "id": "fcbfa51c",
=======
   "id": "c09ea11f",
>>>>>>> documentation-devel
||||||| 614e9b1
   "id": "c09ea11f",
=======
   "id": "4db7f176",
>>>>>>> documentation-devel
||||||| 856b4c0
<<<<<<< HEAD
   "id": "f3ec5bbe",
||||||| 11b9cb7
   "id": "fcbfa51c",
=======
   "id": "c09ea11f",
>>>>>>> documentation-devel
=======
   "id": "410434a2",
>>>>>>> 552590ea8fad969b67afdba27558a1e6cb21016e
||||||| 452c944
   "id": "4db7f176",
=======
   "id": "5d35be21",
>>>>>>> documentation-devel
||||||| 4da3324
<<<<<<< HEAD
<<<<<<< HEAD
<<<<<<< HEAD
   "id": "f3ec5bbe",
||||||| 11b9cb7
   "id": "fcbfa51c",
=======
   "id": "c09ea11f",
>>>>>>> documentation-devel
||||||| 614e9b1
   "id": "c09ea11f",
=======
   "id": "4db7f176",
>>>>>>> documentation-devel
||||||| 856b4c0
<<<<<<< HEAD
   "id": "f3ec5bbe",
||||||| 11b9cb7
   "id": "fcbfa51c",
=======
   "id": "c09ea11f",
>>>>>>> documentation-devel
=======
   "id": "410434a2",
>>>>>>> 552590ea8fad969b67afdba27558a1e6cb21016e
=======
   "id": "5d59c3d2",
>>>>>>> b6e07d13baac92b2c1c9b43f8e4113ffa87bf495
   "metadata": {
    "lines_to_next_cell": 0
   },
   "source": [
    "It seems that some histological regions tend to be more spatially homogenous in gene expression than others. The epithelial region tends to be more homogenous.\n",
    "\n",
    "Run local spatial heteroscdasticity (LOSH) for these marker genes to find local heterogeneity"
   ]
  },
  {
   "cell_type": "code",
   "execution_count": null,
<<<<<<< HEAD
<<<<<<< HEAD
<<<<<<< HEAD
<<<<<<< HEAD
<<<<<<< HEAD
   "id": "85268914",
||||||| 11b9cb7
   "id": "0e3f0c93",
=======
   "id": "f5549683",
>>>>>>> documentation-devel
||||||| 614e9b1
   "id": "f5549683",
=======
   "id": "087795f1",
>>>>>>> documentation-devel
||||||| 856b4c0
<<<<<<< HEAD
   "id": "85268914",
||||||| 11b9cb7
   "id": "0e3f0c93",
=======
   "id": "f5549683",
>>>>>>> documentation-devel
=======
   "id": "7e0e8fcc",
>>>>>>> 552590ea8fad969b67afdba27558a1e6cb21016e
||||||| 452c944
   "id": "087795f1",
=======
   "id": "65a6e924",
>>>>>>> documentation-devel
||||||| 4da3324
<<<<<<< HEAD
<<<<<<< HEAD
<<<<<<< HEAD
   "id": "85268914",
||||||| 11b9cb7
   "id": "0e3f0c93",
=======
   "id": "f5549683",
>>>>>>> documentation-devel
||||||| 614e9b1
   "id": "f5549683",
=======
   "id": "087795f1",
>>>>>>> documentation-devel
||||||| 856b4c0
<<<<<<< HEAD
   "id": "85268914",
||||||| 11b9cb7
   "id": "0e3f0c93",
=======
   "id": "f5549683",
>>>>>>> documentation-devel
=======
   "id": "7e0e8fcc",
>>>>>>> 552590ea8fad969b67afdba27558a1e6cb21016e
=======
   "id": "7a9ca2ca",
>>>>>>> b6e07d13baac92b2c1c9b43f8e4113ffa87bf495
   "metadata": {},
   "outputs": [],
   "source": [
    "sfe <- runUnivariate(sfe, \"LOSH\", features = genes_use, colGraphName = \"knn5\",\n",
    "                     BPPARAM = MulticoreParam(2))"
   ]
  },
  {
   "cell_type": "code",
   "execution_count": null,
<<<<<<< HEAD
<<<<<<< HEAD
<<<<<<< HEAD
<<<<<<< HEAD
<<<<<<< HEAD
   "id": "b05c2ffc",
||||||| 11b9cb7
   "id": "25894af1",
=======
   "id": "df78dd99",
>>>>>>> documentation-devel
||||||| 614e9b1
   "id": "df78dd99",
=======
   "id": "72f01d39",
>>>>>>> documentation-devel
||||||| 856b4c0
<<<<<<< HEAD
   "id": "b05c2ffc",
||||||| 11b9cb7
   "id": "25894af1",
=======
   "id": "df78dd99",
>>>>>>> documentation-devel
=======
   "id": "ff6874f4",
>>>>>>> 552590ea8fad969b67afdba27558a1e6cb21016e
||||||| 452c944
   "id": "72f01d39",
=======
   "id": "bfc9ff00",
>>>>>>> documentation-devel
||||||| 4da3324
<<<<<<< HEAD
<<<<<<< HEAD
<<<<<<< HEAD
   "id": "b05c2ffc",
||||||| 11b9cb7
   "id": "25894af1",
=======
   "id": "df78dd99",
>>>>>>> documentation-devel
||||||| 614e9b1
   "id": "df78dd99",
=======
   "id": "72f01d39",
>>>>>>> documentation-devel
||||||| 856b4c0
<<<<<<< HEAD
   "id": "b05c2ffc",
||||||| 11b9cb7
   "id": "25894af1",
=======
   "id": "df78dd99",
>>>>>>> documentation-devel
=======
   "id": "ff6874f4",
>>>>>>> 552590ea8fad969b67afdba27558a1e6cb21016e
=======
   "id": "b8ff8097",
>>>>>>> b6e07d13baac92b2c1c9b43f8e4113ffa87bf495
   "metadata": {
    "fig.height": 12,
    "fig.width": 8
   },
   "outputs": [],
   "source": [
    "plotLocalResult(sfe, \"LOSH\", features = genes_use, \n",
    "                colGeometryName = \"centroids\", ncol = 2, scattermore = TRUE)"
   ]
  },
  {
   "cell_type": "markdown",
<<<<<<< HEAD
<<<<<<< HEAD
<<<<<<< HEAD
<<<<<<< HEAD
<<<<<<< HEAD
   "id": "81e1c3c3",
||||||| 11b9cb7
   "id": "f0537ddf",
=======
   "id": "21ffd167",
>>>>>>> documentation-devel
||||||| 614e9b1
   "id": "21ffd167",
=======
   "id": "33ff3e99",
>>>>>>> documentation-devel
||||||| 856b4c0
<<<<<<< HEAD
   "id": "81e1c3c3",
||||||| 11b9cb7
   "id": "f0537ddf",
=======
   "id": "21ffd167",
>>>>>>> documentation-devel
=======
   "id": "bfed702c",
>>>>>>> 552590ea8fad969b67afdba27558a1e6cb21016e
||||||| 452c944
   "id": "33ff3e99",
=======
   "id": "2632f782",
>>>>>>> documentation-devel
||||||| 4da3324
<<<<<<< HEAD
<<<<<<< HEAD
<<<<<<< HEAD
   "id": "81e1c3c3",
||||||| 11b9cb7
   "id": "f0537ddf",
=======
   "id": "21ffd167",
>>>>>>> documentation-devel
||||||| 614e9b1
   "id": "21ffd167",
=======
   "id": "33ff3e99",
>>>>>>> documentation-devel
||||||| 856b4c0
<<<<<<< HEAD
   "id": "81e1c3c3",
||||||| 11b9cb7
   "id": "f0537ddf",
=======
   "id": "21ffd167",
>>>>>>> documentation-devel
=======
   "id": "bfed702c",
>>>>>>> 552590ea8fad969b67afdba27558a1e6cb21016e
=======
   "id": "aa420e0a",
>>>>>>> b6e07d13baac92b2c1c9b43f8e4113ffa87bf495
   "metadata": {
    "lines_to_next_cell": 0
   },
   "source": [
    "Some genes are more heterogeneous where they are also more highly expressed, such as COLA1 and IGKC. However this is not the case for all genes. For example, MZT2A is quite ubiqiutously experssed, but is more heterogeneous in some regions than others, and KRT19 does not seem to be much more heterogeneous where it's more highly expressed. For MZT2A, LOSH picked up the artifact of the edges of the FOVs, although this is not apparent for other genes plotted here. Here we don't have information on which cell belongs to which FOV, but FOV edge effects should be considered in data normalization. It would be interesting to more systematically see how LOSH relates to gene expression across more genes, and how this differs in cell types and gene functions.\n",
    "\n",
    "# Session Info"
   ]
  },
  {
   "cell_type": "code",
   "execution_count": null,
<<<<<<< HEAD
<<<<<<< HEAD
<<<<<<< HEAD
<<<<<<< HEAD
<<<<<<< HEAD
   "id": "8ffdd968",
||||||| 11b9cb7
   "id": "e8667127",
=======
   "id": "b1214eb9",
>>>>>>> documentation-devel
||||||| 614e9b1
   "id": "b1214eb9",
=======
   "id": "8b4a71c0",
>>>>>>> documentation-devel
||||||| 856b4c0
<<<<<<< HEAD
   "id": "8ffdd968",
||||||| 11b9cb7
   "id": "e8667127",
=======
   "id": "b1214eb9",
>>>>>>> documentation-devel
=======
   "id": "1d93008d",
>>>>>>> 552590ea8fad969b67afdba27558a1e6cb21016e
||||||| 452c944
   "id": "8b4a71c0",
=======
   "id": "a29b76be",
>>>>>>> documentation-devel
||||||| 4da3324
<<<<<<< HEAD
<<<<<<< HEAD
<<<<<<< HEAD
   "id": "8ffdd968",
||||||| 11b9cb7
   "id": "e8667127",
=======
   "id": "b1214eb9",
>>>>>>> documentation-devel
||||||| 614e9b1
   "id": "b1214eb9",
=======
   "id": "8b4a71c0",
>>>>>>> documentation-devel
||||||| 856b4c0
<<<<<<< HEAD
   "id": "8ffdd968",
||||||| 11b9cb7
   "id": "e8667127",
=======
   "id": "b1214eb9",
>>>>>>> documentation-devel
=======
   "id": "1d93008d",
>>>>>>> 552590ea8fad969b67afdba27558a1e6cb21016e
=======
   "id": "79acb1ea",
>>>>>>> b6e07d13baac92b2c1c9b43f8e4113ffa87bf495
   "metadata": {},
   "outputs": [],
   "source": [
    "sessionInfo()"
   ]
  },
  {
   "cell_type": "markdown",
<<<<<<< HEAD
<<<<<<< HEAD
<<<<<<< HEAD
<<<<<<< HEAD
<<<<<<< HEAD
   "id": "b1007452",
||||||| 11b9cb7
   "id": "cd9eff5f",
=======
   "id": "1401b8b6",
>>>>>>> documentation-devel
||||||| 614e9b1
   "id": "1401b8b6",
=======
   "id": "5b8c242a",
>>>>>>> documentation-devel
||||||| 856b4c0
<<<<<<< HEAD
   "id": "b1007452",
||||||| 11b9cb7
   "id": "cd9eff5f",
=======
   "id": "1401b8b6",
>>>>>>> documentation-devel
=======
   "id": "ab064631",
>>>>>>> 552590ea8fad969b67afdba27558a1e6cb21016e
||||||| 452c944
   "id": "5b8c242a",
=======
   "id": "0e1d4b62",
>>>>>>> documentation-devel
||||||| 4da3324
<<<<<<< HEAD
<<<<<<< HEAD
<<<<<<< HEAD
   "id": "b1007452",
||||||| 11b9cb7
   "id": "cd9eff5f",
=======
   "id": "1401b8b6",
>>>>>>> documentation-devel
||||||| 614e9b1
   "id": "1401b8b6",
=======
   "id": "5b8c242a",
>>>>>>> documentation-devel
||||||| 856b4c0
<<<<<<< HEAD
   "id": "b1007452",
||||||| 11b9cb7
   "id": "cd9eff5f",
=======
   "id": "1401b8b6",
>>>>>>> documentation-devel
=======
   "id": "ab064631",
>>>>>>> 552590ea8fad969b67afdba27558a1e6cb21016e
=======
   "id": "8982193a",
>>>>>>> b6e07d13baac92b2c1c9b43f8e4113ffa87bf495
   "metadata": {},
   "source": [
    "# References"
   ]
  }
 ],
 "metadata": {
  "kernelspec": {
   "display_name": "R",
   "language": "R",
   "name": "ir"
  }
 },
 "nbformat": 4,
 "nbformat_minor": 5
}
