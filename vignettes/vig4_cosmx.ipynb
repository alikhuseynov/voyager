{
 "cells": [
  {
   "cell_type": "raw",
<<<<<<< HEAD
<<<<<<< HEAD
   "id": "e007a681",
||||||| b944554d
   "id": "5b1407e6",
=======
   "id": "839de9f0",
>>>>>>> documentation-devel
||||||| 35cb6e7a
   "id": "839de9f0",
=======
   "id": "b0276661",
>>>>>>> documentation-devel
   "metadata": {},
   "source": [
    "---\n",
    "title: \"CosMX non-small cell lung cancer data\"\n",
    "author: \"Lambda Moses\"\n",
    "date: \"`r Sys.Date()`\"\n",
    "output: \n",
    "  html_document:\n",
    "  toc: true\n",
    "  toc_float:\n",
    "    collapsed: false\n",
    "  toc_depth: 3\n",
    "bibliography: ref.bib\n",
    "vignette: >\n",
    "  %\\VignetteIndexEntry{cosmx}\n",
    "  %\\VignetteEngine{knitr::rmarkdown}\n",
    "  %\\VignetteEncoding{UTF-8}\n",
    "---"
   ]
  },
  {
   "cell_type": "code",
   "execution_count": null,
<<<<<<< HEAD
<<<<<<< HEAD
   "id": "e514f7f0",
||||||| b944554d
   "id": "e99562a6",
=======
   "id": "db2a0505",
>>>>>>> documentation-devel
||||||| 35cb6e7a
   "id": "db2a0505",
=======
   "id": "3c29b4b4",
>>>>>>> documentation-devel
   "metadata": {
    "tags": [
     "remove_cell"
    ]
   },
   "outputs": [],
   "source": [
    "knitr::opts_chunk$set(\n",
    "  collapse = TRUE,\n",
    "  comment = \"#>\", fig.align = \"center\"\n",
    ")"
   ]
  },
  {
   "cell_type": "code",
   "execution_count": null,
<<<<<<< HEAD
<<<<<<< HEAD
   "id": "30bd4702",
||||||| b944554d
   "id": "f6fab1f4",
=======
   "id": "963c76ea",
>>>>>>> documentation-devel
||||||| 35cb6e7a
   "id": "963c76ea",
=======
   "id": "86242f9b",
>>>>>>> documentation-devel
   "metadata": {
    "eval": false,
    "tags": [
     "remove_cell"
    ]
   },
   "outputs": [],
   "source": [
    "# Install Google Colab dependencies\n",
    "# Note: this can take 30+ minutes (many of the dependencies include C++ code, which needs to be compiled)\n",
    "\n",
    "# First install `sf`, `ragg` and `textshaping` and their system dependencies:\n",
    "system(\"apt-get -y update && apt-get install -y  libudunits2-dev libgdal-dev libgeos-dev libproj-dev libharfbuzz-dev libfribidi-dev\")\n",
    "install.packages(\"sf\")\n",
    "install.packages(\"textshaping\")\n",
    "install.packages(\"ragg\")\n",
    "\n",
    "# Install system dependencies of some other R packages that Voyager either imports or suggests:\n",
    "system(\"apt-get install -y libfribidi-dev libcairo2-dev libmagick++-dev\")\n",
    "\n",
    "# Install Voyager from Bioconductor:\n",
    "install.packages(\"BiocManager\")\n",
    "BiocManager::install(version = \"3.17\", ask = FALSE, update = FALSE, Ncpus = 2)\n",
    "BiocManager::install(\"scater\")\n",
    "system.time(\n",
    "  BiocManager::install(\"Voyager\", dependencies = TRUE, Ncpus = 2, update = FALSE)\n",
    ")\n",
    "\n",
    "packageVersion(\"Voyager\")"
   ]
  },
  {
   "cell_type": "markdown",
<<<<<<< HEAD
<<<<<<< HEAD
   "id": "e7dbf3eb",
||||||| b944554d
   "id": "9e8f5ef7",
=======
   "id": "07809149",
>>>>>>> documentation-devel
||||||| 35cb6e7a
   "id": "07809149",
=======
   "id": "e68408d8",
>>>>>>> documentation-devel
   "metadata": {},
   "source": [
    "# Introduction\n",
    "\n",
    "Nanostring GeoMX DSP is a popular spatial transcriptomics technology for formalin fixed paraffin embedded (FFPE) tissues, but it doesn't have single cell resolution. The CosMX FISH based technology for FFPE tissue [@He2021-oy] does have single cell resolution, and this vignette provides an example of how to analyze CosMX data with voyager. Note that FFPE is a common way to preserve and archive tissue, and in some cases, the only samples available may be FFPE. \n",
    "\n",
    "The CosMX dataset for non-small cell lung cancer that we used is described in [@He2021-oy]. The processed data is available for download from the [Nanostring website](https://nanostring.com/products/cosmx-spatial-molecular-imager/ffpe-dataset/). The gene count matrix, cell metadata, and cell segmentation polygon coordinates were downloaded from the Nanostring website as CSV files and read into R as data frames. The gene count matrix was then converted to a sparse matrix. The cell metadata contains centroid coordinates of the cells. The cell polygon data frames were converted into an `sf` data frame with the `df2sf()` function in `SpatialFeatureExperiment` (SFE). These were then used to construct an SFE object. Cell segmentation is only available in one z-plane."
   ]
  },
  {
   "cell_type": "code",
   "execution_count": null,
<<<<<<< HEAD
<<<<<<< HEAD
   "id": "6d4edcad",
||||||| b944554d
   "id": "3345fc25",
=======
   "id": "ff8f0cbc",
>>>>>>> documentation-devel
||||||| 35cb6e7a
   "id": "ff8f0cbc",
=======
   "id": "75951c61",
>>>>>>> documentation-devel
   "metadata": {
    "message": false,
    "name": "setup"
   },
   "outputs": [],
   "source": [
    "library(Voyager)\n",
    "library(SFEData)\n",
    "library(SingleCellExperiment)\n",
    "library(SpatialExperiment)\n",
    "library(scater) # devel version of plotExpression\n",
    "library(scran)\n",
    "library(bluster)\n",
    "library(ggplot2)\n",
    "library(patchwork)\n",
    "library(stringr)\n",
    "library(spdep)\n",
    "library(BiocParallel)\n",
    "library(BiocSingular)\n",
    "theme_set(theme_bw())"
   ]
  },
  {
   "cell_type": "code",
   "execution_count": null,
<<<<<<< HEAD
<<<<<<< HEAD
   "id": "65c307e3",
||||||| b944554d
   "id": "1f6805f2",
=======
   "id": "fed1763e",
>>>>>>> documentation-devel
||||||| 35cb6e7a
   "id": "fed1763e",
=======
   "id": "d86cdf7d",
>>>>>>> documentation-devel
   "metadata": {},
   "outputs": [],
   "source": [
    "(sfe <- HeNSCLCData())"
   ]
  },
  {
   "cell_type": "markdown",
<<<<<<< HEAD
<<<<<<< HEAD
   "id": "c58c80a9",
||||||| b944554d
   "id": "7a0a9403",
=======
   "id": "48cc42fc",
>>>>>>> documentation-devel
||||||| 35cb6e7a
   "id": "48cc42fc",
=======
   "id": "812d6c7a",
>>>>>>> documentation-devel
   "metadata": {
    "lines_to_next_cell": 0
   },
   "source": [
    "Only the first biological replicate is included in the `SFEData` package. This biological replicate has 980 features and 100,290 cells. Take a look at the cells in space:"
   ]
  },
  {
   "cell_type": "code",
   "execution_count": null,
<<<<<<< HEAD
<<<<<<< HEAD
   "id": "adb3c0af",
||||||| b944554d
   "id": "0c22522b",
=======
   "id": "62c7ea3c",
>>>>>>> documentation-devel
||||||| 35cb6e7a
   "id": "62c7ea3c",
=======
   "id": "9b7285df",
>>>>>>> documentation-devel
   "metadata": {},
   "outputs": [],
   "source": [
    "plotGeometry(sfe, MARGIN = 2L, type = \"cellSeg\")"
   ]
  },
  {
   "cell_type": "markdown",
<<<<<<< HEAD
<<<<<<< HEAD
   "id": "f1fbbc29",
||||||| b944554d
   "id": "69a95cc4",
=======
   "id": "28cc5d86",
>>>>>>> documentation-devel
||||||| 35cb6e7a
   "id": "28cc5d86",
=======
   "id": "27e62929",
>>>>>>> documentation-devel
   "metadata": {
    "lines_to_next_cell": 0
   },
   "source": [
    "With single cell resolution, a lot of the details can be seen, although there's some artifact from borders of fields of view (FOVs).\n",
    "\n",
    "Plot cell density"
   ]
  },
  {
   "cell_type": "code",
   "execution_count": null,
<<<<<<< HEAD
<<<<<<< HEAD
   "id": "91990563",
||||||| b944554d
   "id": "7bfdb05c",
=======
   "id": "29624d77",
>>>>>>> documentation-devel
||||||| 35cb6e7a
   "id": "29624d77",
=======
   "id": "ffe64b94",
>>>>>>> documentation-devel
   "metadata": {},
   "outputs": [],
   "source": [
    "plotCellBin2D(sfe, hex = TRUE)"
   ]
  },
  {
   "cell_type": "markdown",
<<<<<<< HEAD
<<<<<<< HEAD
   "id": "903066b2",
||||||| b944554d
   "id": "d6d60f3e",
=======
   "id": "52c86827",
>>>>>>> documentation-devel
||||||| 35cb6e7a
   "id": "52c86827",
=======
   "id": "436a2090",
>>>>>>> documentation-devel
   "metadata": {},
   "source": [
    "# Quality control (QC)\n",
    "## Cells\n",
    "\n",
    "Single cell RNA-seq (scRNA-seq) technologies typically don't quantify cell morphology, and gene expression in Visium doesn't have single cell resolution. Here for single cell resolution smFISH based data, each cell not only has gene expression and related QC metrics such as total number of transcripts detected and number of genes detected, but also cell morphology such as area (in the z-plane where the segmentation polygons are provided) and aspect ratio. Area is relevant to QC since it can flag falsely undersegmented cells, i.e. several cells falsely considered as one by the cell segmentation program. However, since a pre-defined gene panel is used and mitochondrially encoded genes are not quantified, the scRNA-seq QC metric of proportion of mitochondrially encoded counts is not applicable. \n",
    "\n",
    "Some QC metrics are precomputed and are stored in `colData`"
   ]
  },
  {
   "cell_type": "code",
   "execution_count": null,
<<<<<<< HEAD
<<<<<<< HEAD
   "id": "f74bb196",
||||||| b944554d
   "id": "02b89f64",
=======
   "id": "e073ca64",
>>>>>>> documentation-devel
||||||| 35cb6e7a
   "id": "e073ca64",
=======
   "id": "12dfcaae",
>>>>>>> documentation-devel
   "metadata": {
    "lines_to_next_cell": 0
   },
   "outputs": [],
   "source": [
    "names(colData(sfe))"
   ]
  },
  {
   "cell_type": "markdown",
<<<<<<< HEAD
<<<<<<< HEAD
   "id": "9889bde9",
||||||| b944554d
   "id": "227cc658",
=======
   "id": "8795523a",
>>>>>>> documentation-devel
||||||| 35cb6e7a
   "id": "8795523a",
=======
   "id": "8463f8ae",
>>>>>>> documentation-devel
   "metadata": {
    "lines_to_next_cell": 0
   },
   "source": [
    "Cell area, aspect ratio, marker and stain intensities, i.e. all columns before \"sample_id\" come from Nanostring's website. The `sf` package can compute areas of the cell polygons. In R, the `EBImage` package can compute more morphological metrics such as aspect ratio, eccentricity, orientation, and etc., but it requires the data to be converted to raster. OpenCV can compute more morphological metrics for polygons without converting to raster, but it needs to be called from Python or C++. Since the math behind many basic morphological metrics is pretty simple, we may add those to `Voyager` in a future version.\n",
    "\n",
    "Since plotting 100,000 polygons is slow and the plot isn't large enough for us to see the polygons anyway, we use [`scattermore`](https://github.com/exaexa/scattermore) to rasterize the plot to speed up plotting. Instead of plotting every single point, now `ggplot` merely displays a rasterized image."
   ]
  },
  {
   "cell_type": "code",
   "execution_count": null,
<<<<<<< HEAD
<<<<<<< HEAD
   "id": "932e7315",
||||||| b944554d
   "id": "8c4c0178",
=======
   "id": "412f214c",
>>>>>>> documentation-devel
||||||| 35cb6e7a
   "id": "412f214c",
=======
   "id": "b2a02e9b",
>>>>>>> documentation-devel
   "metadata": {},
   "outputs": [],
   "source": [
    "# Function to plot violin plot for distribution and spatial at once\n",
    "plot_violin_spatial <- function(sfe, feature) {\n",
    "    violin <- plotColData(sfe, feature, point_fun = function(...) list())\n",
    "    spatial <- plotSpatialFeature(sfe, feature, colGeometryName = \"centroids\",\n",
    "                                  scattermore = TRUE)\n",
    "    violin + spatial +\n",
    "        plot_layout(widths = c(1, 2))\n",
    "}"
   ]
  },
  {
   "cell_type": "markdown",
<<<<<<< HEAD
<<<<<<< HEAD
   "id": "36bde5ca",
||||||| b944554d
   "id": "c77edf19",
=======
   "id": "99b874c0",
>>>>>>> documentation-devel
||||||| 35cb6e7a
   "id": "99b874c0",
=======
   "id": "631884aa",
>>>>>>> documentation-devel
   "metadata": {
    "lines_to_next_cell": 0
   },
   "source": [
    "Number of transcript spots detected per cell"
   ]
  },
  {
   "cell_type": "code",
   "execution_count": null,
<<<<<<< HEAD
<<<<<<< HEAD
   "id": "8c9d7599",
||||||| b944554d
   "id": "26317196",
=======
   "id": "60b07726",
>>>>>>> documentation-devel
||||||| 35cb6e7a
   "id": "60b07726",
=======
   "id": "4204dc79",
>>>>>>> documentation-devel
   "metadata": {
    "fig.height": 4,
    "fig.width": 8
   },
   "outputs": [],
   "source": [
    "plot_violin_spatial(sfe, \"nCounts\")"
   ]
  },
  {
   "cell_type": "code",
   "execution_count": null,
<<<<<<< HEAD
<<<<<<< HEAD
   "id": "1891c8c3",
||||||| b944554d
   "id": "2dcba5d1",
=======
   "id": "50fb47f3",
>>>>>>> documentation-devel
||||||| 35cb6e7a
   "id": "50fb47f3",
=======
   "id": "ba95ffb7",
>>>>>>> documentation-devel
   "metadata": {},
   "outputs": [],
   "source": [
    "summary(sfe$nCounts)"
   ]
  },
  {
   "cell_type": "markdown",
<<<<<<< HEAD
<<<<<<< HEAD
   "id": "0eaa7432",
||||||| b944554d
   "id": "d474992a",
=======
   "id": "c23d1982",
>>>>>>> documentation-devel
||||||| 35cb6e7a
   "id": "c23d1982",
=======
   "id": "50d5335a",
>>>>>>> documentation-devel
   "metadata": {},
   "source": [
    "To make nCounts and nGenes more comparable across datasets, we divide them by the number of genes probed. In this dataset, there are 960 genes, and 20 negative controls. However, because different genes may be probed in different datasets, which can be from different tissues, this does not make nCounts and nGenes completely comparable across datasets. However, it may still be somewhat comparable, since genes highly expressed in major cell types in the tissue tend to be selected for the gene panel."
   ]
  },
  {
   "cell_type": "code",
   "execution_count": null,
<<<<<<< HEAD
<<<<<<< HEAD
   "id": "3d5a8b1b",
||||||| b944554d
   "id": "58878e44",
=======
   "id": "1acf5976",
>>>>>>> documentation-devel
||||||| 35cb6e7a
   "id": "1acf5976",
=======
   "id": "e2239b85",
>>>>>>> documentation-devel
   "metadata": {},
   "outputs": [],
   "source": [
    "n_panel <- 960\n",
    "colData(sfe)$nCounts_normed <- sfe$nCounts/n_panel\n",
    "colData(sfe)$nGenes_normed <- sfe$nGenes/n_panel"
   ]
  },
  {
   "cell_type": "code",
   "execution_count": null,
<<<<<<< HEAD
<<<<<<< HEAD
   "id": "58817baa",
||||||| b944554d
   "id": "389fe87d",
=======
   "id": "bde06478",
>>>>>>> documentation-devel
||||||| 35cb6e7a
   "id": "bde06478",
=======
   "id": "6c41676c",
>>>>>>> documentation-devel
   "metadata": {},
   "outputs": [],
   "source": [
    "plotColDataHistogram(sfe, c(\"nCounts_normed\", \"nGenes_normed\"))"
   ]
  },
  {
   "cell_type": "markdown",
<<<<<<< HEAD
<<<<<<< HEAD
   "id": "15ff4e85",
||||||| b944554d
   "id": "2332aee3",
=======
   "id": "2047cd5c",
>>>>>>> documentation-devel
||||||| 35cb6e7a
   "id": "2047cd5c",
=======
   "id": "41f08422",
>>>>>>> documentation-devel
   "metadata": {
    "lines_to_next_cell": 0
   },
   "source": [
    "This means the cells mostly have less than 1 transcript count per gene on average, which is not surprising since not all cells express all genes. Most cells are detected to express less than 30% of all genes probed.\n",
    "\n",
    "Number of genes (out of 980) detected per cell"
   ]
  },
  {
   "cell_type": "code",
   "execution_count": null,
<<<<<<< HEAD
<<<<<<< HEAD
   "id": "55204adf",
||||||| b944554d
   "id": "29b1cd5d",
=======
   "id": "9d65c042",
>>>>>>> documentation-devel
||||||| 35cb6e7a
   "id": "9d65c042",
=======
   "id": "7ace376b",
>>>>>>> documentation-devel
   "metadata": {
    "fig.height": 4,
    "fig.width": 8
   },
   "outputs": [],
   "source": [
    "plot_violin_spatial(sfe, \"nGenes\")"
   ]
  },
  {
   "cell_type": "code",
   "execution_count": null,
<<<<<<< HEAD
<<<<<<< HEAD
   "id": "13efd49c",
||||||| b944554d
   "id": "0c80523a",
=======
   "id": "e1a14d2f",
>>>>>>> documentation-devel
||||||| 35cb6e7a
   "id": "e1a14d2f",
=======
   "id": "015ec572",
>>>>>>> documentation-devel
   "metadata": {},
   "outputs": [],
   "source": [
    "summary(sfe$nGenes)"
   ]
  },
  {
   "cell_type": "markdown",
<<<<<<< HEAD
<<<<<<< HEAD
   "id": "81900ee4",
||||||| b944554d
   "id": "f37dcb7e",
=======
   "id": "0eae6a47",
>>>>>>> documentation-devel
||||||| 35cb6e7a
   "id": "0eae6a47",
=======
   "id": "d8b6ab55",
>>>>>>> documentation-devel
   "metadata": {
    "lines_to_next_cell": 0
   },
   "source": [
    "Based on the spatial plot, it seems that nCounts and nGenes are biologically relevant, but there are cells with no transcripts detected. \n",
    "\n",
    "How nCounts relates to nGenes"
   ]
  },
  {
   "cell_type": "code",
   "execution_count": null,
<<<<<<< HEAD
<<<<<<< HEAD
   "id": "eafb7d09",
||||||| b944554d
   "id": "2fb73d0d",
=======
   "id": "a9f6c571",
>>>>>>> documentation-devel
||||||| 35cb6e7a
   "id": "a9f6c571",
=======
   "id": "0097ecc1",
>>>>>>> documentation-devel
   "metadata": {},
   "outputs": [],
   "source": [
    "plotColData(sfe, x = \"nCounts\", y = \"nGenes\", bins = 100)"
   ]
  },
  {
   "cell_type": "markdown",
<<<<<<< HEAD
<<<<<<< HEAD
   "id": "f37f9fb5",
||||||| b944554d
   "id": "8b65cabf",
=======
   "id": "b5677932",
>>>>>>> documentation-devel
||||||| 35cb6e7a
   "id": "b5677932",
=======
   "id": "d50d8b91",
>>>>>>> documentation-devel
   "metadata": {
    "lines_to_next_cell": 0
   },
   "source": [
    "What's the nature of the cells without transcripts?"
   ]
  },
  {
   "cell_type": "code",
   "execution_count": null,
<<<<<<< HEAD
<<<<<<< HEAD
   "id": "944c3376",
||||||| b944554d
   "id": "e533fd2d",
=======
   "id": "e59b44e3",
>>>>>>> documentation-devel
||||||| 35cb6e7a
   "id": "e59b44e3",
=======
   "id": "cf038fec",
>>>>>>> documentation-devel
   "metadata": {},
   "outputs": [],
   "source": [
    "colData(sfe)$is_empty <- colData(sfe)$nCounts < 1"
   ]
  },
  {
   "cell_type": "code",
   "execution_count": null,
<<<<<<< HEAD
<<<<<<< HEAD
   "id": "b1941419",
||||||| b944554d
   "id": "fef1bdef",
=======
   "id": "5908c0ee",
>>>>>>> documentation-devel
||||||| 35cb6e7a
   "id": "5908c0ee",
=======
   "id": "3dee9954",
>>>>>>> documentation-devel
   "metadata": {},
   "outputs": [],
   "source": [
    "plotSpatialFeature(sfe, \"is_empty\", \"cellSeg\")"
   ]
  },
  {
   "cell_type": "markdown",
<<<<<<< HEAD
<<<<<<< HEAD
   "id": "7a445059",
||||||| b944554d
   "id": "a35eaf8f",
=======
   "id": "a458e636",
>>>>>>> documentation-devel
||||||| 35cb6e7a
   "id": "a458e636",
=======
   "id": "4b67cf9b",
>>>>>>> documentation-devel
   "metadata": {
    "lines_to_next_cell": 0
   },
   "source": [
    "The cells without transcripts are in the central cavity."
   ]
  },
  {
   "cell_type": "code",
   "execution_count": null,
<<<<<<< HEAD
<<<<<<< HEAD
   "id": "e23c2d54",
||||||| b944554d
   "id": "9d7a43ba",
=======
   "id": "e3427d72",
>>>>>>> documentation-devel
||||||| 35cb6e7a
   "id": "e3427d72",
=======
   "id": "ab65240f",
>>>>>>> documentation-devel
   "metadata": {},
   "outputs": [],
   "source": [
    "plotColData(sfe, x = \"Area\", y = \"is_empty\")"
   ]
  },
  {
   "cell_type": "markdown",
<<<<<<< HEAD
<<<<<<< HEAD
   "id": "0ac550b5",
||||||| b944554d
   "id": "d9032182",
=======
   "id": "17b0c73d",
>>>>>>> documentation-devel
||||||| 35cb6e7a
   "id": "17b0c73d",
=======
   "id": "4d9ae385",
>>>>>>> documentation-devel
   "metadata": {
    "lines_to_next_cell": 0
   },
   "source": [
    "The \"empty\" cells tend to be smaller than other cells but there are also some really large ones. \n",
    "\n",
    "Cell area distribution"
   ]
  },
  {
   "cell_type": "code",
   "execution_count": null,
<<<<<<< HEAD
<<<<<<< HEAD
   "id": "9d871614",
||||||| b944554d
   "id": "8f10f493",
=======
   "id": "57e6b9c6",
>>>>>>> documentation-devel
||||||| 35cb6e7a
   "id": "57e6b9c6",
=======
   "id": "17369495",
>>>>>>> documentation-devel
   "metadata": {
    "fig.height": 4,
    "fig.width": 8
   },
   "outputs": [],
   "source": [
    "plot_violin_spatial(sfe, \"Area\")"
   ]
  },
  {
   "cell_type": "markdown",
<<<<<<< HEAD
<<<<<<< HEAD
   "id": "5447f4ae",
||||||| b944554d
   "id": "9904912d",
=======
   "id": "9088c119",
>>>>>>> documentation-devel
||||||| 35cb6e7a
   "id": "9088c119",
=======
   "id": "1ea3fd97",
>>>>>>> documentation-devel
   "metadata": {
    "lines_to_next_cell": 0
   },
   "source": [
    "Larger cells are more likely to be found in certain areas of the tissue. It could be biological, or that under-segmentation is more likely for that cell type or that tissue region.\n",
    "\n",
    "How does area relate to total counts?"
   ]
  },
  {
   "cell_type": "code",
   "execution_count": null,
<<<<<<< HEAD
<<<<<<< HEAD
   "id": "82e07662",
||||||| b944554d
   "id": "e78e4941",
=======
   "id": "337a0491",
>>>>>>> documentation-devel
||||||| 35cb6e7a
   "id": "337a0491",
=======
   "id": "87354f36",
>>>>>>> documentation-devel
   "metadata": {},
   "outputs": [],
   "source": [
    "plotColData(sfe, x = \"nCounts\", y = \"Area\", bins = 100) + theme_bw()"
   ]
  },
  {
   "cell_type": "markdown",
<<<<<<< HEAD
<<<<<<< HEAD
   "id": "c5b91c99",
||||||| b944554d
   "id": "25807694",
=======
   "id": "184820c4",
>>>>>>> documentation-devel
||||||| 35cb6e7a
   "id": "184820c4",
=======
   "id": "b420c2e6",
>>>>>>> documentation-devel
   "metadata": {
    "lines_to_next_cell": 0
   },
   "source": [
    "While there may vaguely seem that cells with more total counts tend to be larger (at least in this z-plane), there are some cells that are large but have low total counts.\n",
    "\n",
    "Negative control probes are used in this dataset for QC. Here we calculate the proportion of transcripts attributed to the negative controls."
   ]
  },
  {
   "cell_type": "code",
   "execution_count": null,
<<<<<<< HEAD
<<<<<<< HEAD
   "id": "aa84509f",
||||||| b944554d
   "id": "4f437fa0",
=======
   "id": "c8b96a59",
>>>>>>> documentation-devel
||||||| 35cb6e7a
   "id": "c8b96a59",
=======
   "id": "47f947c8",
>>>>>>> documentation-devel
   "metadata": {},
   "outputs": [],
   "source": [
    "neg_inds <- str_detect(rownames(sfe), \"^NegPrb\")\n",
    "# Number of negative control probes\n",
    "sum(neg_inds)\n",
    "colData(sfe)$prop_neg <- colSums(counts(sfe)[neg_inds,])/colData(sfe)$nCounts"
   ]
  },
  {
   "cell_type": "code",
   "execution_count": null,
<<<<<<< HEAD
<<<<<<< HEAD
   "id": "a6a742d0",
||||||| b944554d
   "id": "ce9496e1",
=======
   "id": "ea3140c6",
>>>>>>> documentation-devel
||||||| 35cb6e7a
   "id": "ea3140c6",
=======
   "id": "d11fb173",
>>>>>>> documentation-devel
   "metadata": {
    "fig.height": 4,
    "fig.width": 8
   },
   "outputs": [],
   "source": [
    "plot_violin_spatial(sfe, \"prop_neg\")"
   ]
  },
  {
   "cell_type": "markdown",
<<<<<<< HEAD
<<<<<<< HEAD
   "id": "607b1c98",
||||||| b944554d
   "id": "5eba7af1",
=======
   "id": "01ebfb96",
>>>>>>> documentation-devel
||||||| 35cb6e7a
   "id": "01ebfb96",
=======
   "id": "5ee0788e",
>>>>>>> documentation-devel
   "metadata": {},
   "source": [
    "The NA's are empty cells, and the proportion is very low except for a few outliers. How does prop_neg relate to nCounts?"
   ]
  },
  {
   "cell_type": "code",
   "execution_count": null,
<<<<<<< HEAD
<<<<<<< HEAD
   "id": "e1f88e8c",
||||||| b944554d
   "id": "413bc8ad",
=======
   "id": "b10dd0ff",
>>>>>>> documentation-devel
||||||| 35cb6e7a
   "id": "b10dd0ff",
=======
   "id": "0df8cc00",
>>>>>>> documentation-devel
   "metadata": {},
   "outputs": [],
   "source": [
    "plotColData(sfe, x = \"nCounts\",y = \"prop_neg\", bins = 100)"
   ]
  },
  {
   "cell_type": "markdown",
<<<<<<< HEAD
<<<<<<< HEAD
   "id": "db7d83e8",
||||||| b944554d
   "id": "0acd434b",
=======
   "id": "2f2c3925",
>>>>>>> documentation-devel
||||||| 35cb6e7a
   "id": "2f2c3925",
=======
   "id": "f14be598",
>>>>>>> documentation-devel
   "metadata": {
    "lines_to_next_cell": 0
   },
   "source": [
    "This looks kind of like the proportion of mitochondrial counts vs. nCounts plot for scRNA-seq, where cells with fewer total counts tend to have higher proportion of mitochondrial counts."
   ]
  },
  {
   "cell_type": "code",
   "execution_count": null,
<<<<<<< HEAD
<<<<<<< HEAD
   "id": "353cc231",
||||||| b944554d
   "id": "2f547d7a",
=======
   "id": "ff2754b6",
>>>>>>> documentation-devel
||||||| 35cb6e7a
   "id": "ff2754b6",
=======
   "id": "ff156c1a",
>>>>>>> documentation-devel
   "metadata": {},
   "outputs": [],
   "source": [
    "# The zeros are removed\n",
    "plotColDataHistogram(sfe, \"prop_neg\") +\n",
    "    scale_x_log10()"
   ]
  },
  {
   "cell_type": "markdown",
<<<<<<< HEAD
<<<<<<< HEAD
   "id": "3b0c2807",
||||||| b944554d
   "id": "757f3410",
=======
   "id": "e90bbd15",
>>>>>>> documentation-devel
||||||| 35cb6e7a
   "id": "e90bbd15",
=======
   "id": "62abb895",
>>>>>>> documentation-devel
   "metadata": {},
   "source": [
    "The distribution is not obviously bimodal, and since the x-axis is log transformed to better visualize the distribution, the 0's have been removed. It's kind of arbitrary; for now we'll remove cells with more than 10% of transcripts from negative controls."
   ]
  },
  {
   "cell_type": "code",
   "execution_count": null,
<<<<<<< HEAD
<<<<<<< HEAD
   "id": "d88fafff",
||||||| b944554d
   "id": "056ea730",
=======
   "id": "04ba6ba6",
>>>>>>> documentation-devel
||||||| 35cb6e7a
   "id": "04ba6ba6",
=======
   "id": "ae4c556d",
>>>>>>> documentation-devel
   "metadata": {},
   "outputs": [],
   "source": [
    "# Remove low quality cells\n",
    "(sfe <- sfe[,!sfe$is_empty & sfe$prop_neg < 0.1])"
   ]
  },
  {
   "cell_type": "markdown",
<<<<<<< HEAD
<<<<<<< HEAD
   "id": "de622c95",
||||||| b944554d
   "id": "868f0007",
=======
   "id": "1272cbe6",
>>>>>>> documentation-devel
||||||| 35cb6e7a
   "id": "1272cbe6",
=======
   "id": "8f2f33eb",
>>>>>>> documentation-devel
   "metadata": {
    "lines_to_next_cell": 0
   },
   "source": [
    "After removing the low quality cells, there are 100,095 cells left.\n",
    "\n",
    "### Markers\n",
    "Nanostring provides some cell stain and marker intensities in the cell metadata."
   ]
  },
  {
   "cell_type": "code",
   "execution_count": null,
<<<<<<< HEAD
<<<<<<< HEAD
   "id": "c7e7e6f5",
||||||| b944554d
   "id": "648d3b35",
=======
   "id": "21f913d4",
>>>>>>> documentation-devel
||||||| 35cb6e7a
   "id": "21f913d4",
=======
   "id": "b300e78b",
>>>>>>> documentation-devel
   "metadata": {},
   "outputs": [],
   "source": [
    "names(colData(sfe))"
   ]
  },
  {
   "cell_type": "markdown",
<<<<<<< HEAD
<<<<<<< HEAD
   "id": "5018c76f",
||||||| b944554d
   "id": "5ba96584",
=======
   "id": "c59512f7",
>>>>>>> documentation-devel
||||||| 35cb6e7a
   "id": "c59512f7",
=======
   "id": "9bd82c07",
>>>>>>> documentation-devel
   "metadata": {
    "lines_to_next_cell": 0
   },
   "source": [
    "Here we plot aspect ratio and mean intensity of cells stains and markers, which have not been plotted before. PanCK is a marker for epithelial cells. CD45 is a leukocyte marker. CD3 is a T cell marker. Since it takes quite a while to plot 100,000 cells 6 times, `scattermore` really helps."
   ]
  },
  {
   "cell_type": "code",
   "execution_count": null,
<<<<<<< HEAD
<<<<<<< HEAD
   "id": "ca25d325",
||||||| b944554d
   "id": "ab9e2b0e",
=======
   "id": "9a9260ec",
>>>>>>> documentation-devel
||||||| 35cb6e7a
   "id": "9a9260ec",
=======
   "id": "0d735eca",
>>>>>>> documentation-devel
   "metadata": {
    "fig.height": 9,
    "fig.width": 10
   },
   "outputs": [],
   "source": [
    "plotSpatialFeature(sfe, c(\"AspectRatio\", \"Mean.DAPI\", \"Mean.MembraneStain\", \n",
    "                          \"Mean.PanCK\", \"Mean.CD45\", \"Mean.CD3\"),\n",
    "                   colGeometryName = \"centroids\", ncol = 2, scattermore = TRUE)"
   ]
  },
  {
   "cell_type": "markdown",
<<<<<<< HEAD
<<<<<<< HEAD
   "id": "e96d082d",
||||||| b944554d
   "id": "d5117d7b",
=======
   "id": "8b501296",
>>>>>>> documentation-devel
||||||| 35cb6e7a
   "id": "8b501296",
=======
   "id": "504dd99d",
>>>>>>> documentation-devel
   "metadata": {
    "lines_to_next_cell": 0
   },
   "source": [
    "## Genes"
   ]
  },
  {
   "cell_type": "code",
   "execution_count": null,
<<<<<<< HEAD
<<<<<<< HEAD
   "id": "a6f7ae21",
||||||| b944554d
   "id": "17c4a951",
=======
   "id": "45370ca5",
>>>>>>> documentation-devel
||||||| 35cb6e7a
   "id": "45370ca5",
=======
   "id": "39d5d606",
>>>>>>> documentation-devel
   "metadata": {},
   "outputs": [],
   "source": [
    "rowData(sfe)$means <- rowMeans(counts(sfe))\n",
    "rowData(sfe)$vars <- rowVars(counts(sfe))\n",
    "rowData(sfe)$is_neg <- neg_inds"
   ]
  },
  {
   "cell_type": "code",
   "execution_count": null,
<<<<<<< HEAD
<<<<<<< HEAD
   "id": "28fec987",
||||||| b944554d
   "id": "eeefaa72",
=======
   "id": "d7e596af",
>>>>>>> documentation-devel
||||||| 35cb6e7a
   "id": "d7e596af",
=======
   "id": "9b1f97f1",
>>>>>>> documentation-devel
   "metadata": {},
   "outputs": [],
   "source": [
    "plotRowData(sfe, x = \"means\", y = \"vars\", bins = 50) +\n",
    "    geom_abline(slope = 1, intercept = 0, color = \"red\") +\n",
    "    scale_x_log10() + scale_y_log10() +\n",
    "    annotation_logticks() +\n",
    "    coord_equal()"
   ]
  },
  {
   "cell_type": "markdown",
<<<<<<< HEAD
<<<<<<< HEAD
   "id": "8a4629d0",
||||||| b944554d
   "id": "9c7fc539",
=======
   "id": "dc8d5685",
>>>>>>> documentation-devel
||||||| 35cb6e7a
   "id": "dc8d5685",
=======
   "id": "0988b44c",
>>>>>>> documentation-devel
   "metadata": {},
   "source": [
    "The red line $y = x$ is expected from Poisson data. Gene expression in this dataset has more variance than expected from Poisson, even for gene with lower expression. Zoom into the negative controls"
   ]
  },
  {
   "cell_type": "code",
   "execution_count": null,
<<<<<<< HEAD
<<<<<<< HEAD
   "id": "b222772f",
||||||| b944554d
   "id": "7f78d001",
=======
   "id": "8166b6b2",
>>>>>>> documentation-devel
||||||| 35cb6e7a
   "id": "8166b6b2",
=======
   "id": "3bbba519",
>>>>>>> documentation-devel
   "metadata": {},
   "outputs": [],
   "source": [
    "as.data.frame(rowData(sfe)[neg_inds,]) |> \n",
    "    ggplot(aes(means, vars)) +\n",
    "    geom_point() +\n",
    "    geom_abline(slope = 1, intercept = 0, color = \"red\") +\n",
    "    scale_x_log10() + scale_y_log10() +\n",
    "    annotation_logticks() +\n",
    "    coord_equal()"
   ]
  },
  {
   "cell_type": "markdown",
<<<<<<< HEAD
<<<<<<< HEAD
   "id": "f6d6eb58",
||||||| b944554d
   "id": "9565115f",
=======
   "id": "449aa933",
>>>>>>> documentation-devel
||||||| 35cb6e7a
   "id": "449aa933",
=======
   "id": "0f92a950",
>>>>>>> documentation-devel
   "metadata": {
    "lines_to_next_cell": 0
   },
   "source": [
    "Among the \"high quality\" cells, the negative controls still have higher variance relative to mean compared to Poisson. \n",
    "\n",
    "Negative controls vs. real genes"
   ]
  },
  {
   "cell_type": "code",
   "execution_count": null,
<<<<<<< HEAD
<<<<<<< HEAD
   "id": "3936b7d3",
||||||| b944554d
   "id": "4e394f26",
=======
   "id": "696759f5",
>>>>>>> documentation-devel
||||||| 35cb6e7a
   "id": "696759f5",
=======
   "id": "63caa468",
>>>>>>> documentation-devel
   "metadata": {},
   "outputs": [],
   "source": [
    "plotRowData(sfe, x = \"means\", y = \"is_neg\") +\n",
    "    scale_y_log10() +\n",
    "    annotation_logticks(sides = \"b\")"
   ]
  },
  {
   "cell_type": "markdown",
<<<<<<< HEAD
<<<<<<< HEAD
   "id": "ba611607",
||||||| b944554d
   "id": "1d5c3aef",
=======
   "id": "fa8f668d",
>>>>>>> documentation-devel
||||||| 35cb6e7a
   "id": "fa8f668d",
=======
   "id": "0dfde2b7",
>>>>>>> documentation-devel
   "metadata": {},
   "source": [
    "The negative controls have lower mean \"expression\" than the vast majority of real genes.\n",
    "\n",
    "# Spatial autocorrelation in QC metrics\n",
    "A spatial neighborhood graph is required for spatial dependence analyses with `spdep`. Without a benchmark, we don't yet know which type of neighborhood graph is the best for which purpose. \n",
    "\n",
    "Methods to find spatial neighborhood graphs in `spdep` other than `knearneigh()` (k nearest neighbors), `dnearneigh()` (find cells within a certain distance), and `poly2nb()` (polygon contiguity) are not recommended for larger datasets. While cell-cell contact may be biologically relevant, because cell segmentation is imperfect, leading to non-contiguous cell segmentation polygons for cells that appear contiguous in H&E, only using `poly2nb()` to find polygon contiguity neighbors without supplementing with another kind of neighborhood is problematic. Delaunay triangulation with the `deldir` package, which is used by `spdep` (`tri2nb()`), takes 4 to 5 minutes for a dataset of this size, but the run time increases much more drastically than linearly as the number of cells increases. Sphere of Interest (SOI) graph (`soi.graph()`) prunes edges from triangulation that are too long, and does not take long itself. So triangulation and SOI graph, while slower than `knearneigh()`, `dnearneigh()`, and `poly2nb()`, are somewhat practical considerations. The implementation of `gabrielneigh()` and `relativeneigh()` take impracticably long (over an hour and I terminated the R session out of impatience) for this dataset so are not recommended.\n",
    "\n",
    "Methods to find approximate nearest neighbors such as Annoy (`AnnoyParam()`) and HNSW (`HnswParam()`), as supported by the [`bluster`](https://bioconductor.org/packages/release/bioc/html/bluster.html) and [`BiocNeighbors`](https://bioconductor.org/packages/release/bioc/html/BiocNeighbors.html) packages might speed up finding these graphs, but we haven't formally benchmarked them. \n",
    "\n",
    "See [Chapter 14 of Spatial Data Science](https://r-spatial.org/book/14-Areal.html) on proximity in areal data for a more detailed discussion of the different neighborhood graphs in `spdep`. The methods for areal data are the first to be wrapped by Voyager because much of spatial transcriptomics data is analogous to areal geospatial data, where data from several cells are aggregated over areas, which happens in Visium spots. Just like in geospatial areal data, the Visium aggregation areas are arbitrary and do not represent the underlying spatial process. Although sometimes geographical areal units are not arbitrary, that tissues are generally not in hexagonal grids means that Visium spot polygons are arbitrary in this context. Regions of interest (ROI) selection spatial transcriptomics methods, such as laser capture microdissection (LCM) and GeoMX DSP are more obviously analogous to geospatial areal data. The aggregation also happens when we analyze smFISH-based data at the cell level, if the basic unit of observation is individual transcript spots. \n",
    "\n",
    "While `spdep` caters to areal data, `gstat` caters to geostatistical data, where a continuous spatial process is sampled at point locations. In some ways, spatial transcriptomics data is analogous to geostatistical data. Visium samples the supposed spatial biological process in a regular hexagonal grid, if we pretend that Visium spots are points. In smFISH-based single cell resolution data, the cells observed can be thought of as a sample of an underlying spatial biological process supervening on the specific locations of the cells. In a sense, the cells are not samples, since smFISH based technologies attempt to visualize all cells in the tissue section. However, as the biological function of the tissue does not depend on this particular spatial arrangement of individual cells (i.e. supervenes on this particular spatial arrangement), but more of cell types, the specific cell locations observed can be thought of as samples of the process, if we consider the cell the basic unit of the spatial process. \n",
    "\n",
    "In Voyager 1.2.0 (Bioconductor 3.17), we have added semivariograms (from the [`gstat`](https://cran.r-project.org/web/packages/gstat/index.html) package) as an exploratory tool to identify the presence of spatial autocorrelation, its length scale, and anisotropy (i.e. different in different directions). Covariates can be specified when computing the variogram to account for spatial trends and adjust for another spatial variable. However, unlike Morans's I, the semivariogram can't identify negative spatial autocorrelation, although since the spatial neighborhood graph typically does not encode spatial directions, `spdep` autocorrelation metrics can't identify anisotropy. Another problem with the semivariogram is that it assumes that the data is intrinsically stationary, i.e. the semivariogram holds in the entire dataset, or that similarity between two cells only depends on their distance from each other, which may not be the case when spatial autocorrelation varies in space as evident for some genes in local spatial analyses. \n",
    "\n",
    "Single cell smFISH based data is also dissimiliar to both areal and geostatistical data in important ways. In geospatial areal data, data from numerous basic units of the spatial process (e.g. people in epidemiology) are aggregated over areas (e.g. cities), whereas in histological space, the cell is arguably a more sensible basic unit of the biological spatial process than individual mRNA molecules. Unlike in geostatistical data, the cells as seen in the tissue section are often polygons tessellating the tissue section rather than points. Furthermore, while ideally the samples of the underlying spatial process should not affect the spatial process itself in geostatistical data, the cells play active roles in the biological spatial process. \n",
    "\n",
    "However, data analysis methods for areal and geostatistical data can still be relevant to EDA and descriptive models (not causal or mechanistic) of single cell smFISH data. Different types of spatial neighborhood graphs for cells may be relevant to different processes. For instance, contiguity of cell segmentation polygons is relevant when contact is involved in cell signaling, although cell segmentation is imperfect. Positive spatial autocorrelation here can arise from contact activation, and negative autocorrelation can arise from contact inhibition. However, cells may also be influenced by longer range factors such as secreted ligands, morphogens, and simpler spatial trends like distance to artery and vein. In this case, perhaps the semivariogram and using Euclidean distance between cells as spatial weights in spatial autocorrelation metrics would be more relevant for EDA. It would be interesting to compare the results from different spatial neighborhood graphs and spatial weights, and between `spdep` and `gstat`. Perhaps there is no one best method, but different methods reveal different phenomena. The problem of choosing a spatial neighborhood matrix has a long history far predating spatial transcriptomics. See [@Getis2009-iw] for a brief discussion of decades of work around this issue.\n",
    "\n",
    "Spatial autocorrelation metrics seek to measure how nearby things tend to be more similar or dissimilar, and the neighborhood graph and edge weights define what we mean by \"nearby\" in areal data. Note that because each Visium spot can contain from several to dozens of cells, the spatial neighborhood graphs of Visium spots describe neighborhood relationships of much longer length scales than spatial neighborhood graphs of single cells, so spatial autocorrelation metrics using the Visium graph have different meanings from cellular neighborhood graphs. \n",
    "\n",
    "For now, just to demonstrate software usage, we use the k nearest neighborhood graph with distance based edge weights, as commonly done in graph based clustering in scRNA-seq, although we don't yet know the best value for k in each scenario. For the purpose of this vignette, say use $k = 5$, and the execution time isn't outrageous. The argument `style = \"W\"` is to row normalize the adjacency matrix of the spatial neighborhood graph as this is necessary for Moran scatter plot. Inverse distance edge weights can take small values but what matter is the relative rather than the absolute values as the distance itself is in arbitrary unit; row normalizing the adjacency matrix makes the weighted average value from the neighbors comparable to the value at the cell itself. In this tissue, many cells appear contiguous, but since cell segmentation is imperfect, there are many false singletons, which makes polygon contiguity neighbors from `poly2nb()` problematic without some modification. But based on the distribution of the number of neighbors based on contiguity, $k = 5$ doesn't seem to be a bad approximate for contiguity."
   ]
  },
  {
   "cell_type": "code",
   "execution_count": null,
<<<<<<< HEAD
<<<<<<< HEAD
   "id": "500b66a5",
||||||| b944554d
   "id": "2ec2e624",
=======
   "id": "d95770e9",
>>>>>>> documentation-devel
||||||| 35cb6e7a
   "id": "d95770e9",
=======
   "id": "c9e2376c",
>>>>>>> documentation-devel
   "metadata": {},
   "outputs": [],
   "source": [
    "system.time(\n",
    "    colGraph(sfe, \"knn5\") <- findSpatialNeighbors(sfe, method = \"knearneigh\",\n",
    "                                                  dist_type = \"idw\", k = 5, \n",
    "                                                  style = \"W\")\n",
    "    )"
   ]
  },
  {
   "cell_type": "markdown",
<<<<<<< HEAD
<<<<<<< HEAD
   "id": "8852e28e",
||||||| b944554d
   "id": "190892ed",
=======
   "id": "4fc095a9",
>>>>>>> documentation-devel
||||||| 35cb6e7a
   "id": "4fc095a9",
=======
   "id": "9d74c69e",
>>>>>>> documentation-devel
   "metadata": {
    "lines_to_next_cell": 0
   },
   "source": [
    "Now compute Moran's I for some cell QC metrics"
   ]
  },
  {
   "cell_type": "code",
   "execution_count": null,
<<<<<<< HEAD
<<<<<<< HEAD
   "id": "4a354f4a",
||||||| b944554d
   "id": "3a400ba8",
=======
   "id": "c514eb76",
>>>>>>> documentation-devel
||||||| 35cb6e7a
   "id": "c514eb76",
=======
   "id": "4dd60d6d",
>>>>>>> documentation-devel
   "metadata": {},
   "outputs": [],
   "source": [
    "features_use <- c(\"nCounts\", \"nGenes\", \"Area\", \"AspectRatio\")\n",
    "sfe <- colDataMoransI(sfe, features_use, colGraphName = \"knn5\")"
   ]
  },
  {
   "cell_type": "code",
   "execution_count": null,
<<<<<<< HEAD
<<<<<<< HEAD
   "id": "9ddb0746",
||||||| b944554d
   "id": "ca84a72d",
=======
   "id": "13949275",
>>>>>>> documentation-devel
||||||| 35cb6e7a
   "id": "13949275",
=======
   "id": "8077092b",
>>>>>>> documentation-devel
   "metadata": {},
   "outputs": [],
   "source": [
    "colFeatureData(sfe)[features_use,]"
   ]
  },
  {
   "cell_type": "markdown",
<<<<<<< HEAD
<<<<<<< HEAD
   "id": "5fa12e01",
||||||| b944554d
   "id": "48f96468",
=======
   "id": "61593cb6",
>>>>>>> documentation-devel
||||||| 35cb6e7a
   "id": "61593cb6",
=======
   "id": "fba0ea24",
>>>>>>> documentation-devel
   "metadata": {},
   "source": [
    "Positive spatial autocorrelation is suggested, which is stronger in nCounts and nGenes.\n",
    "\n",
    "What are the length scales of spatial autocorrelation for these QC metrics? It would be nice if the lagged neighborhood graphs can be stored and reused for all features rather than recomputed for each feature as in `spdep::sp.correlogram()` called behind the scene here. This takes a few minutes to run, but not as long as a typical song. Another way to find the length scale of spatial autocorrelation is to bin the cells into bins of different sizes and then find spatial autocorrelation at each bin size, which probably is faster than finding lagged values at higher and higher neighborhoods since `geom_bin2d()` and `geom_hex()` in `ggplot2` run pretty fast even for large datasets. Or use a semivariogram; `gstat` also bins the data when estimating the semivariogram and calculating the semivariogram over very long distance is much faster than the correlogram with cell-cell neighborhood graphs. "
   ]
  },
  {
   "cell_type": "code",
   "execution_count": null,
<<<<<<< HEAD
<<<<<<< HEAD
   "id": "cb8c0bec",
||||||| b944554d
   "id": "c1c6517b",
=======
   "id": "185ca0aa",
>>>>>>> documentation-devel
||||||| 35cb6e7a
   "id": "185ca0aa",
=======
   "id": "5eb1209c",
>>>>>>> documentation-devel
   "metadata": {},
   "outputs": [],
   "source": [
    "system.time(\n",
    "    sfe <- colDataUnivariate(sfe, \"sp.correlogram\", features = features_use,\n",
    "                         colGraphName = \"knn5\", order = 6, zero.policy = TRUE,\n",
    "                         BPPARAM = MulticoreParam(2))\n",
    ")"
   ]
  },
  {
   "cell_type": "markdown",
<<<<<<< HEAD
<<<<<<< HEAD
   "id": "fe351d57",
||||||| b944554d
   "id": "95632046",
=======
   "id": "3537fd37",
>>>>>>> documentation-devel
||||||| 35cb6e7a
   "id": "3537fd37",
=======
   "id": "eb9cd498",
>>>>>>> documentation-devel
   "metadata": {},
   "source": [
    "Note that `MulticoreParam()` doesn't work on Windows; this vignette was built on Linux. Use `SnowParam()` or `DoparParam()` for Windows. See `?BiocParallelParam` for the available parallel processing backends. We did not notice significant performance differences between `ShowParam()` and `MulticoreParam()` in this context."
   ]
  },
  {
   "cell_type": "code",
   "execution_count": null,
<<<<<<< HEAD
<<<<<<< HEAD
   "id": "6985ac02",
||||||| b944554d
   "id": "112d5008",
=======
   "id": "4083d86d",
>>>>>>> documentation-devel
||||||| 35cb6e7a
   "id": "4083d86d",
=======
   "id": "dcf57215",
>>>>>>> documentation-devel
   "metadata": {},
   "outputs": [],
   "source": [
    "plotCorrelogram(sfe, features_use)"
   ]
  },
  {
   "cell_type": "markdown",
<<<<<<< HEAD
<<<<<<< HEAD
   "id": "f72982d7",
||||||| b944554d
   "id": "1f9f6743",
=======
   "id": "e8ecb290",
>>>>>>> documentation-devel
||||||| 35cb6e7a
   "id": "e8ecb290",
=======
   "id": "fc1d8749",
>>>>>>> documentation-devel
   "metadata": {
    "lines_to_next_cell": 0
   },
   "source": [
    "They seem to have similar length scales, but aspect ratios tend to decay more quickly.\n",
    "\n",
    "Moran's scatter plot for nCounts. "
   ]
  },
  {
   "cell_type": "code",
   "execution_count": null,
<<<<<<< HEAD
<<<<<<< HEAD
   "id": "0839469a",
||||||| b944554d
   "id": "74ecc072",
=======
   "id": "e727a349",
>>>>>>> documentation-devel
||||||| 35cb6e7a
   "id": "e727a349",
=======
   "id": "9147615f",
>>>>>>> documentation-devel
   "metadata": {},
   "outputs": [],
   "source": [
    "sfe <- colDataUnivariate(sfe, \"moran.plot\", \"nCounts\", colGraphName = \"knn5\")"
   ]
  },
  {
   "cell_type": "markdown",
<<<<<<< HEAD
<<<<<<< HEAD
   "id": "27c4badf",
||||||| b944554d
   "id": "4aee3e5d",
=======
   "id": "37331b98",
>>>>>>> documentation-devel
||||||| 35cb6e7a
   "id": "37331b98",
=======
   "id": "7aab6852",
>>>>>>> documentation-devel
   "metadata": {
    "lines_to_next_cell": 0
   },
   "source": [
    "In the first panel, the density is for all points in this plot, and in the second, the points influential to fitting the line are highlighted in red, still a 2D histogram to avoid overplotting."
   ]
  },
  {
   "cell_type": "code",
   "execution_count": null,
<<<<<<< HEAD
<<<<<<< HEAD
   "id": "11de38b4",
||||||| b944554d
   "id": "0ad5fe60",
=======
   "id": "e574d2ce",
>>>>>>> documentation-devel
||||||| 35cb6e7a
   "id": "e574d2ce",
=======
   "id": "2db34bf9",
>>>>>>> documentation-devel
   "metadata": {
    "fig.height": 7,
    "fig.width": 8
   },
   "outputs": [],
   "source": [
    "p1 <- moranPlot(sfe, \"nCounts\", binned = TRUE, plot_influential = FALSE)\n",
    "p2 <- moranPlot(sfe, \"nCounts\", binned = TRUE)\n",
    "p1 / p2 + plot_layout(guides = \"collect\")"
   ]
  },
  {
   "cell_type": "markdown",
<<<<<<< HEAD
<<<<<<< HEAD
   "id": "80248117",
||||||| b944554d
   "id": "7beacae7",
=======
   "id": "b511e3c2",
>>>>>>> documentation-devel
||||||| 35cb6e7a
   "id": "b511e3c2",
=======
   "id": "ca2ebd84",
>>>>>>> documentation-devel
   "metadata": {
    "lines_to_next_cell": 0
   },
   "source": [
    "There are no obvious clusters in this plot.\n",
    "\n",
    "Local Moran's I for nCounts"
   ]
  },
  {
   "cell_type": "code",
   "execution_count": null,
<<<<<<< HEAD
<<<<<<< HEAD
   "id": "dd41a7e5",
||||||| b944554d
   "id": "8109280f",
=======
   "id": "ec50e615",
>>>>>>> documentation-devel
||||||| 35cb6e7a
   "id": "ec50e615",
=======
   "id": "04ea1977",
>>>>>>> documentation-devel
   "metadata": {},
   "outputs": [],
   "source": [
    "sfe <- colDataUnivariate(sfe, \"localmoran\", \"nCounts\", colGraphName = \"knn5\")"
   ]
  },
  {
   "cell_type": "code",
   "execution_count": null,
<<<<<<< HEAD
<<<<<<< HEAD
   "id": "0c78b431",
||||||| b944554d
   "id": "08bbdff1",
=======
   "id": "322af018",
>>>>>>> documentation-devel
||||||| 35cb6e7a
   "id": "322af018",
=======
   "id": "368bf5e3",
>>>>>>> documentation-devel
   "metadata": {},
   "outputs": [],
   "source": [
    "plotLocalResult(sfe, \"localmoran\", \"nCounts\", colGeometryName = \"cellSeg\",\n",
    "                divergent = TRUE, diverge_center = 0)"
   ]
  },
  {
   "cell_type": "markdown",
<<<<<<< HEAD
<<<<<<< HEAD
   "id": "ee08707e",
||||||| b944554d
   "id": "51114ce6",
=======
   "id": "0560d272",
>>>>>>> documentation-devel
||||||| 35cb6e7a
   "id": "0560d272",
=======
   "id": "fc92d561",
>>>>>>> documentation-devel
   "metadata": {},
   "source": [
    "Cool, it appears that the epithelial regions tend to be more homogenous in nCounts.\n",
    "\n",
    "# Data normalization\n",
    "Given that there may be some relationship between cell size and total counts, and that total counts may be biological and thus not purely treated as technical, questions are raised about data normalization and how it should be different from the standard scRNA-seq practices. For instance, what are technical contributions to total counts for this kind of data? Furthermore, what to do with cell area, since part of it is technical, in where the z-plane of cell segmentation polygons intersects each cell, but for some cell types, it could be biological? Also, how would different methods of data normalization affect spatial autocorrelation? Should spatial autocorrelation be used in some ways when normalizing data? Besides correcting for technical effects and making gene expression in cells with different total counts more comparable, data normalization stabilizes variance and tries to make the data more normally distributed since many statistical methods assume normally distributed data. So while we don't know the best practice to normalize this kind of data, we will still normalize the data for downstream analyses."
   ]
  },
  {
   "cell_type": "code",
   "execution_count": null,
<<<<<<< HEAD
<<<<<<< HEAD
   "id": "f986dd32",
||||||| b944554d
   "id": "d3628a58",
=======
   "id": "3f6e1171",
>>>>>>> documentation-devel
||||||| 35cb6e7a
   "id": "3f6e1171",
=======
   "id": "945ef23f",
>>>>>>> documentation-devel
   "metadata": {},
   "outputs": [],
   "source": [
    "sfe <- logNormCounts(sfe)"
   ]
  },
  {
   "cell_type": "markdown",
<<<<<<< HEAD
<<<<<<< HEAD
   "id": "9a0982a8",
||||||| b944554d
   "id": "6e8c435d",
=======
   "id": "2b767794",
>>>>>>> documentation-devel
||||||| 35cb6e7a
   "id": "2b767794",
=======
   "id": "bfaec8e6",
>>>>>>> documentation-devel
   "metadata": {
    "lines_to_next_cell": 0
   },
   "source": [
    "# Moran's I\n",
    "\n",
    "Here we run global Moran's I on log normalized gene expression."
   ]
  },
  {
   "cell_type": "code",
   "execution_count": null,
<<<<<<< HEAD
<<<<<<< HEAD
   "id": "456d6265",
||||||| b944554d
   "id": "afabade5",
=======
   "id": "5ba2a16e",
>>>>>>> documentation-devel
||||||| 35cb6e7a
   "id": "5ba2a16e",
=======
   "id": "04c45739",
>>>>>>> documentation-devel
   "metadata": {},
   "outputs": [],
   "source": [
    "# Note: on your computer, you can put progressbar = TRUE inside MulticoreParam()\n",
    "# to show progress bar. This applies to any BiocParallParam.\n",
    "sfe <- runMoransI(sfe, features = rownames(sfe), \n",
    "                  BPPARAM = MulticoreParam(2))"
   ]
  },
  {
   "cell_type": "markdown",
<<<<<<< HEAD
<<<<<<< HEAD
   "id": "a122a53f",
||||||| b944554d
   "id": "d9d6af09",
=======
   "id": "600749e4",
>>>>>>> documentation-devel
||||||| 35cb6e7a
   "id": "600749e4",
=======
   "id": "3066f4ba",
>>>>>>> documentation-devel
   "metadata": {
    "lines_to_next_cell": 0
   },
   "source": [
    "Do real genes tend to have more spatial autocorrelation than negative controls?"
   ]
  },
  {
   "cell_type": "code",
   "execution_count": null,
<<<<<<< HEAD
<<<<<<< HEAD
   "id": "1295ae7b",
||||||| b944554d
   "id": "2b1d8704",
=======
   "id": "1d377ad3",
>>>>>>> documentation-devel
||||||| 35cb6e7a
   "id": "1d377ad3",
=======
   "id": "28418c14",
>>>>>>> documentation-devel
   "metadata": {},
   "outputs": [],
   "source": [
    "plotRowData(sfe, x = \"moran_sample01\", y = \"is_neg\") +\n",
    "    geom_hline(yintercept = 0, linetype = 2)"
   ]
  },
  {
   "cell_type": "markdown",
<<<<<<< HEAD
<<<<<<< HEAD
   "id": "86e153f2",
||||||| b944554d
   "id": "de1bccdb",
=======
   "id": "16fccac8",
>>>>>>> documentation-devel
||||||| 35cb6e7a
   "id": "16fccac8",
=======
   "id": "876d6784",
>>>>>>> documentation-devel
   "metadata": {
    "lines_to_next_cell": 0
   },
   "source": [
    "It seems that at least at the shorter length scale captured by the k nearest neighbor graph, most genes don't have strong spatial autocorrelation while some have strong positive spatial autocorrelation. In contrast, Moran's I for the negative controls is closely packed around 0, indicating lack of spatial autocorrelation, which is a good sign, that there is no evidence of a technical artifact that manifests as a spatial trend manifest in the negative controls.\n",
    "\n",
    "What are the genes with the highest Moran's I?"
   ]
  },
  {
   "cell_type": "code",
   "execution_count": null,
<<<<<<< HEAD
<<<<<<< HEAD
   "id": "e6442ddb",
||||||| b944554d
   "id": "4f4042c8",
=======
   "id": "86392f66",
>>>>>>> documentation-devel
||||||| 35cb6e7a
   "id": "86392f66",
=======
   "id": "350f5823",
>>>>>>> documentation-devel
   "metadata": {
    "fig.height": 9,
    "fig.width": 9
   },
   "outputs": [],
   "source": [
    "top_moran <- rownames(sfe)[order(rowData(sfe)$moran_sample01, decreasing = TRUE)[1:6]]\n",
    "plotSpatialFeature(sfe, top_moran, colGeometryName = \"centroids\", \n",
    "                   scattermore = TRUE, ncol = 2)"
   ]
  },
  {
   "cell_type": "markdown",
<<<<<<< HEAD
<<<<<<< HEAD
   "id": "b05ba757",
||||||| b944554d
   "id": "6cb6ae1d",
=======
   "id": "0167a27c",
>>>>>>> documentation-devel
||||||| 35cb6e7a
   "id": "0167a27c",
=======
   "id": "2cf3a565",
>>>>>>> documentation-devel
   "metadata": {
    "lines_to_next_cell": 0
   },
   "source": [
    "They all highlight the same epithelial regions. It could be that other regions are not as spatially organized, or that a short length scale is used for Moran's I here but the correlogram shows that Moran's I decays after the first order neighbors. I wonder how using a longer length scale would change the results.\n",
    "\n",
    "# Non-spatial dimension reduction and clustering"
   ]
  },
  {
   "cell_type": "code",
   "execution_count": null,
<<<<<<< HEAD
<<<<<<< HEAD
   "id": "6448b20e",
||||||| b944554d
   "id": "0dd51e59",
=======
   "id": "91c71c19",
>>>>>>> documentation-devel
||||||| 35cb6e7a
   "id": "91c71c19",
=======
   "id": "76040f41",
>>>>>>> documentation-devel
   "metadata": {},
   "outputs": [],
   "source": [
    "set.seed(29)\n",
    "sfe <- runPCA(sfe, ncomponents = 30, scale = TRUE, BSPARAM = IrlbaParam())"
   ]
  },
  {
   "cell_type": "code",
   "execution_count": null,
<<<<<<< HEAD
<<<<<<< HEAD
   "id": "0486ae7c",
||||||| b944554d
   "id": "c8514f29",
=======
   "id": "8f61d144",
>>>>>>> documentation-devel
||||||| 35cb6e7a
   "id": "8f61d144",
=======
   "id": "1cca8563",
>>>>>>> documentation-devel
   "metadata": {},
   "outputs": [],
   "source": [
    "ElbowPlot(sfe, ndims = 30)"
   ]
  },
  {
   "cell_type": "code",
   "execution_count": null,
<<<<<<< HEAD
<<<<<<< HEAD
   "id": "c29a8302",
||||||| b944554d
   "id": "a823cc66",
=======
   "id": "59d72398",
>>>>>>> documentation-devel
||||||| 35cb6e7a
   "id": "59d72398",
=======
   "id": "31398dac",
>>>>>>> documentation-devel
   "metadata": {},
   "outputs": [],
   "source": [
    "plotDimLoadings(sfe, dims = 1:6)"
   ]
  },
  {
   "cell_type": "code",
   "execution_count": null,
<<<<<<< HEAD
<<<<<<< HEAD
   "id": "28deecf9",
||||||| b944554d
   "id": "2f0118bf",
=======
   "id": "3ced58c1",
>>>>>>> documentation-devel
||||||| 35cb6e7a
   "id": "3ced58c1",
=======
   "id": "2b587c7d",
>>>>>>> documentation-devel
   "metadata": {
    "fig.height": 9,
    "fig.width": 9
   },
   "outputs": [],
   "source": [
    "spatialReducedDim(sfe, \"PCA\", 6, colGeometryName = \"centroids\", divergent = TRUE,\n",
    "                  diverge_center = 0, ncol = 2, scattermore = TRUE)"
   ]
  },
  {
   "cell_type": "markdown",
<<<<<<< HEAD
<<<<<<< HEAD
   "id": "e2524793",
||||||| b944554d
   "id": "a39f77a4",
=======
   "id": "7a8d8dcb",
>>>>>>> documentation-devel
||||||| 35cb6e7a
   "id": "7a8d8dcb",
=======
   "id": "0519f90c",
>>>>>>> documentation-devel
   "metadata": {
    "lines_to_next_cell": 0
   },
   "source": [
    "The first PC highlights the epithelium. PC2 highlights T cells. PC4 might highlight other leukocytes. Need to check the genes with the highest loadings to find what the other PCs mean.\n",
    "\n",
    "Non-spatial clustering and locating the clusters in space"
   ]
  },
  {
   "cell_type": "code",
   "execution_count": null,
<<<<<<< HEAD
<<<<<<< HEAD
   "id": "e45d10fe",
||||||| b944554d
   "id": "7357d610",
=======
   "id": "1db28224",
>>>>>>> documentation-devel
||||||| 35cb6e7a
   "id": "1db28224",
=======
   "id": "18de31da",
>>>>>>> documentation-devel
   "metadata": {},
   "outputs": [],
   "source": [
    "colData(sfe)$cluster <- clusterRows(reducedDim(sfe, \"PCA\")[,1:15],\n",
    "                                    BLUSPARAM = SNNGraphParam(\n",
    "                                        cluster.fun = \"leiden\",\n",
    "                                        cluster.args = list(\n",
    "                                            resolution_parameter = 0.5,\n",
    "                                            objective_function = \"modularity\")))"
   ]
  },
  {
   "cell_type": "code",
   "execution_count": null,
<<<<<<< HEAD
<<<<<<< HEAD
   "id": "3fa7d6f6",
||||||| b944554d
   "id": "34223ed8",
=======
   "id": "5beb475f",
>>>>>>> documentation-devel
||||||| 35cb6e7a
   "id": "5beb475f",
=======
   "id": "ce69594f",
>>>>>>> documentation-devel
   "metadata": {},
   "outputs": [],
   "source": [
    "data(\"ditto_colors\")"
   ]
  },
  {
   "cell_type": "code",
   "execution_count": null,
<<<<<<< HEAD
<<<<<<< HEAD
   "id": "9712d494",
||||||| b944554d
   "id": "67af40d0",
=======
   "id": "2c42a47e",
>>>>>>> documentation-devel
||||||| 35cb6e7a
   "id": "2c42a47e",
=======
   "id": "4108c9b3",
>>>>>>> documentation-devel
   "metadata": {
    "fig.height": 8,
    "fig.width": 8
   },
   "outputs": [],
   "source": [
    "plotPCA(sfe, ncomponents = 4, colour_by = \"cluster\") +\n",
    "    scale_color_manual(values = ditto_colors)"
   ]
  },
  {
   "cell_type": "code",
   "execution_count": null,
<<<<<<< HEAD
<<<<<<< HEAD
   "id": "9f956d32",
||||||| b944554d
   "id": "fc9e18cc",
=======
   "id": "ac2cb91b",
>>>>>>> documentation-devel
||||||| 35cb6e7a
   "id": "ac2cb91b",
=======
   "id": "7b61c345",
>>>>>>> documentation-devel
   "metadata": {},
   "outputs": [],
   "source": [
    "plotSpatialFeature(sfe, \"cluster\", colGeometryName = \"cellSeg\")"
   ]
  },
  {
   "cell_type": "markdown",
<<<<<<< HEAD
<<<<<<< HEAD
   "id": "51e3ac4c",
||||||| b944554d
   "id": "48ca46e8",
=======
   "id": "4b90454d",
>>>>>>> documentation-devel
||||||| 35cb6e7a
   "id": "4b90454d",
=======
   "id": "220135e0",
>>>>>>> documentation-devel
   "metadata": {
    "lines_to_next_cell": 0
   },
   "source": [
    "Further analyses that can be done at this stage:\n",
    "\n",
    "* Which and how many cell types are in the neighborhood of each cell? This is subject to the different definitions of the neighborhood.\n",
    "* Which cell types tend to co-localize where?\n",
    "* Find spatial regions based on cell type colocalization, which can be done with the R package [`spicyR`](https://bioconductor.org/packages/release/bioc/html/spicyR.html) [@Canete2022-tz]\n",
    "\n",
    "# Differential expression\n",
    "Cluster marker genes are found with Wilcoxon rank sum test as commonly done for scRNA-seq."
   ]
  },
  {
   "cell_type": "code",
   "execution_count": null,
<<<<<<< HEAD
<<<<<<< HEAD
   "id": "feddc487",
||||||| b944554d
   "id": "1326c93a",
=======
   "id": "ba2d989c",
>>>>>>> documentation-devel
||||||| 35cb6e7a
   "id": "ba2d989c",
=======
   "id": "373581ae",
>>>>>>> documentation-devel
   "metadata": {},
   "outputs": [],
   "source": [
    "markers <- findMarkers(sfe, groups = colData(sfe)$cluster,\n",
    "                       test.type = \"wilcox\", pval.type = \"all\", direction = \"up\")"
   ]
  },
  {
   "cell_type": "markdown",
<<<<<<< HEAD
<<<<<<< HEAD
   "id": "3e9ee549",
||||||| b944554d
   "id": "bad78684",
=======
   "id": "ed1e7c8b",
>>>>>>> documentation-devel
||||||| 35cb6e7a
   "id": "ed1e7c8b",
=======
   "id": "88927470",
>>>>>>> documentation-devel
   "metadata": {
    "lines_to_next_cell": 0
   },
   "source": [
    "It's already sorted by p-values."
   ]
  },
  {
   "cell_type": "code",
   "execution_count": null,
<<<<<<< HEAD
<<<<<<< HEAD
   "id": "1625bd34",
||||||| b944554d
   "id": "d65c5324",
=======
   "id": "d1be04af",
>>>>>>> documentation-devel
||||||| 35cb6e7a
   "id": "d1be04af",
=======
   "id": "8bc45ec1",
>>>>>>> documentation-devel
   "metadata": {},
   "outputs": [],
   "source": [
    "markers[[6]]"
   ]
  },
  {
   "cell_type": "markdown",
<<<<<<< HEAD
<<<<<<< HEAD
   "id": "dae2c94f",
||||||| b944554d
   "id": "581d5315",
=======
   "id": "173943ab",
>>>>>>> documentation-devel
||||||| 35cb6e7a
   "id": "173943ab",
=======
   "id": "6046bde0",
>>>>>>> documentation-devel
   "metadata": {
    "lines_to_next_cell": 0
   },
   "source": [
    "Get the the significant marker for each cluster to plot. Since there're too many points, here we used the development version of `scater` to not to plot the points, which are uninformative due to overplotting and make this plot really slow."
   ]
  },
  {
   "cell_type": "code",
   "execution_count": null,
<<<<<<< HEAD
<<<<<<< HEAD
   "id": "467387e2",
||||||| b944554d
   "id": "90cb6fb8",
=======
   "id": "18f2f26f",
>>>>>>> documentation-devel
||||||| 35cb6e7a
   "id": "18f2f26f",
=======
   "id": "91da4dc9",
>>>>>>> documentation-devel
   "metadata": {},
   "outputs": [],
   "source": [
    "genes_use <- vapply(markers, function(x) rownames(x)[1], FUN.VALUE = character(1))\n",
    "plotExpression(sfe, genes_use, x = \"cluster\", point_fun = function(...) list())"
   ]
  },
  {
   "cell_type": "markdown",
<<<<<<< HEAD
<<<<<<< HEAD
   "id": "d99648d2",
||||||| b944554d
   "id": "c94a39f8",
=======
   "id": "f5f27289",
>>>>>>> documentation-devel
||||||| 35cb6e7a
   "id": "f5f27289",
=======
   "id": "d0767912",
>>>>>>> documentation-devel
   "metadata": {
    "lines_to_next_cell": 0
   },
   "source": [
    "Plot more top marker genes in a heatmap"
   ]
  },
  {
   "cell_type": "code",
   "execution_count": null,
<<<<<<< HEAD
<<<<<<< HEAD
   "id": "ba531095",
||||||| b944554d
   "id": "d552a89c",
=======
   "id": "74691fc7",
>>>>>>> documentation-devel
||||||| 35cb6e7a
   "id": "74691fc7",
=======
   "id": "a7c5f2d6",
>>>>>>> documentation-devel
   "metadata": {
    "fig.height": 7,
    "fig.width": 6
   },
   "outputs": [],
   "source": [
    "genes_use2 <- unique(unlist(lapply(markers, function(x) rownames(x)[1:5])))\n",
    "plotGroupedHeatmap(sfe, genes_use2, group = \"cluster\", colour = scales::viridis_pal()(100))"
   ]
  },
  {
   "cell_type": "markdown",
<<<<<<< HEAD
<<<<<<< HEAD
   "id": "bff92a63",
||||||| b944554d
   "id": "d363df53",
=======
   "id": "ba1021d4",
>>>>>>> documentation-devel
||||||| 35cb6e7a
   "id": "ba1021d4",
=======
   "id": "554ece3c",
>>>>>>> documentation-devel
   "metadata": {
    "lines_to_next_cell": 0
   },
   "source": [
    "# Local spatial statistics of marker genes\n",
    "Plot those genes in space"
   ]
  },
  {
   "cell_type": "code",
   "execution_count": null,
<<<<<<< HEAD
<<<<<<< HEAD
   "id": "4dd97f66",
||||||| b944554d
   "id": "cb560c39",
=======
   "id": "906e2922",
>>>>>>> documentation-devel
||||||| 35cb6e7a
   "id": "906e2922",
=======
   "id": "07734699",
>>>>>>> documentation-devel
   "metadata": {
    "fig.height": 12,
    "fig.width": 8
   },
   "outputs": [],
   "source": [
    "plotSpatialFeature(sfe, genes_use, colGeometryName = \"centroids\", ncol = 2,\n",
    "                   scattermore = TRUE)"
   ]
  },
  {
   "cell_type": "markdown",
<<<<<<< HEAD
<<<<<<< HEAD
   "id": "fc33ddca",
||||||| b944554d
   "id": "c6ab0c2a",
=======
   "id": "c97d6e32",
>>>>>>> documentation-devel
||||||| 35cb6e7a
   "id": "c97d6e32",
=======
   "id": "8ca4a57c",
>>>>>>> documentation-devel
   "metadata": {},
   "source": [
    "Moran's I of these marker genes"
   ]
  },
  {
   "cell_type": "code",
   "execution_count": null,
<<<<<<< HEAD
<<<<<<< HEAD
   "id": "163b0399",
||||||| b944554d
   "id": "4a546709",
=======
   "id": "ebbe580d",
>>>>>>> documentation-devel
||||||| 35cb6e7a
   "id": "ebbe580d",
=======
   "id": "7ec81b7e",
>>>>>>> documentation-devel
   "metadata": {},
   "outputs": [],
   "source": [
    "rowData(sfe)[genes_use, \"moran_sample01\", drop = FALSE]"
   ]
  },
  {
   "cell_type": "markdown",
<<<<<<< HEAD
<<<<<<< HEAD
   "id": "85c60fa4",
||||||| b944554d
   "id": "d04873e0",
=======
   "id": "1a07087b",
>>>>>>> documentation-devel
||||||| 35cb6e7a
   "id": "1a07087b",
=======
   "id": "dad510a0",
>>>>>>> documentation-devel
   "metadata": {
    "lines_to_next_cell": 0
   },
   "source": [
    "Local Moran's I of these marker genes"
   ]
  },
  {
   "cell_type": "code",
   "execution_count": null,
<<<<<<< HEAD
<<<<<<< HEAD
   "id": "a7aaa4de",
||||||| b944554d
   "id": "9042a41b",
=======
   "id": "7ead196a",
>>>>>>> documentation-devel
||||||| 35cb6e7a
   "id": "7ead196a",
=======
   "id": "181eae56",
>>>>>>> documentation-devel
   "metadata": {},
   "outputs": [],
   "source": [
    "sfe <- runUnivariate(sfe, \"localmoran\", features = genes_use, colGraphName = \"knn5\",\n",
    "                     BPPARAM = MulticoreParam(2))"
   ]
  },
  {
   "cell_type": "code",
   "execution_count": null,
<<<<<<< HEAD
<<<<<<< HEAD
   "id": "b486f706",
||||||| b944554d
   "id": "0884fe0a",
=======
   "id": "47fb68b1",
>>>>>>> documentation-devel
||||||| 35cb6e7a
   "id": "47fb68b1",
=======
   "id": "06b2aef3",
>>>>>>> documentation-devel
   "metadata": {
    "fig.height": 12,
    "fig.width": 8
   },
   "outputs": [],
   "source": [
    "plotLocalResult(sfe, \"localmoran\", features = genes_use, \n",
    "                colGeometryName = \"centroids\", ncol = 2, divergent = TRUE,\n",
    "                diverge_center = 0, scattermore = TRUE)"
   ]
  },
  {
   "cell_type": "markdown",
<<<<<<< HEAD
<<<<<<< HEAD
   "id": "887889e9",
||||||| b944554d
   "id": "d6f7bda5",
=======
   "id": "75f34e4e",
>>>>>>> documentation-devel
||||||| 35cb6e7a
   "id": "75f34e4e",
=======
   "id": "0e7ae49f",
>>>>>>> documentation-devel
   "metadata": {
    "lines_to_next_cell": 0
   },
   "source": [
    "It seems that some histological regions tend to be more spatially homogenous in gene expression than others. The epithelial region tends to be more homogenous.\n",
    "\n",
    "Run local spatial heteroscdasticity (LOSH) for these marker genes to find local heterogeneity"
   ]
  },
  {
   "cell_type": "code",
   "execution_count": null,
<<<<<<< HEAD
<<<<<<< HEAD
   "id": "4168e510",
||||||| b944554d
   "id": "4e5e41ed",
=======
   "id": "d8d9e8f5",
>>>>>>> documentation-devel
||||||| 35cb6e7a
   "id": "d8d9e8f5",
=======
   "id": "a3ea53f3",
>>>>>>> documentation-devel
   "metadata": {},
   "outputs": [],
   "source": [
    "sfe <- runUnivariate(sfe, \"LOSH\", features = genes_use, colGraphName = \"knn5\",\n",
    "                     BPPARAM = MulticoreParam(2))"
   ]
  },
  {
   "cell_type": "code",
   "execution_count": null,
<<<<<<< HEAD
<<<<<<< HEAD
   "id": "24f6e0ec",
||||||| b944554d
   "id": "86ccc8c1",
=======
   "id": "90a02041",
>>>>>>> documentation-devel
||||||| 35cb6e7a
   "id": "90a02041",
=======
   "id": "0c1ab034",
>>>>>>> documentation-devel
   "metadata": {
    "fig.height": 12,
    "fig.width": 8
   },
   "outputs": [],
   "source": [
    "plotLocalResult(sfe, \"LOSH\", features = genes_use, \n",
    "                colGeometryName = \"centroids\", ncol = 2, scattermore = TRUE)"
   ]
  },
  {
   "cell_type": "markdown",
<<<<<<< HEAD
<<<<<<< HEAD
   "id": "43da4376",
||||||| b944554d
   "id": "053b08a8",
=======
   "id": "202b16e2",
>>>>>>> documentation-devel
||||||| 35cb6e7a
   "id": "202b16e2",
=======
   "id": "65c918ff",
>>>>>>> documentation-devel
   "metadata": {
    "lines_to_next_cell": 0
   },
   "source": [
    "Some genes are more heterogeneous where they are also more highly expressed, such as COLA1 and IGKC. However this is not the case for all genes. For example, MZT2A is quite ubiqiutously experssed, but is more heterogeneous in some regions than others, and KRT19 does not seem to be much more heterogeneous where it's more highly expressed. For MZT2A, LOSH picked up the artifact of the edges of the FOVs, although this is not apparent for other genes plotted here. Here we don't have information on which cell belongs to which FOV, but FOV edge effects should be considered in data normalization. It would be interesting to more systematically see how LOSH relates to gene expression across more genes, and how this differs in cell types and gene functions.\n",
    "\n",
    "# Session Info"
   ]
  },
  {
   "cell_type": "code",
   "execution_count": null,
<<<<<<< HEAD
<<<<<<< HEAD
   "id": "d056924f",
||||||| b944554d
   "id": "0cdf5e59",
=======
   "id": "6d5ddf5c",
>>>>>>> documentation-devel
||||||| 35cb6e7a
   "id": "6d5ddf5c",
=======
   "id": "e6ed29cc",
>>>>>>> documentation-devel
   "metadata": {},
   "outputs": [],
   "source": [
    "sessionInfo()"
   ]
  },
  {
   "cell_type": "markdown",
<<<<<<< HEAD
<<<<<<< HEAD
   "id": "50c8f8e5",
||||||| b944554d
   "id": "26e71e98",
=======
   "id": "356b748e",
>>>>>>> documentation-devel
||||||| 35cb6e7a
   "id": "356b748e",
=======
   "id": "05d834a5",
>>>>>>> documentation-devel
   "metadata": {},
   "source": [
    "# References"
   ]
  }
 ],
 "metadata": {
  "kernelspec": {
   "display_name": "R",
   "language": "R",
   "name": "ir"
  }
 },
 "nbformat": 4,
 "nbformat_minor": 5
}
