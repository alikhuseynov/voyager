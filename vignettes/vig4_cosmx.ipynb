{
 "cells": [
  {
   "cell_type": "raw",
<<<<<<< HEAD
<<<<<<< HEAD
<<<<<<< HEAD
   "id": "7ffd8255",
||||||| fa5abb84
   "id": "b0276661",
=======
   "id": "f812bcaf",
>>>>>>> documentation-devel
||||||| 7e3277eb
   "id": "f812bcaf",
=======
   "id": "926327ef",
>>>>>>> documentation-devel
||||||| 971bf77c
<<<<<<< HEAD
   "id": "7ffd8255",
||||||| fa5abb84
   "id": "b0276661",
=======
   "id": "f812bcaf",
>>>>>>> documentation-devel
=======
   "id": "f9ad177f",
>>>>>>> e1d793125c0aeb7e34aca09298b9c5b44973e4b3
   "metadata": {},
   "source": [
    "---\n",
    "title: \"CosMX non-small cell lung cancer data\"\n",
    "author: \"Lambda Moses\"\n",
    "date: \"`r Sys.Date()`\"\n",
    "output: \n",
    "  html_document:\n",
    "  toc: true\n",
    "  toc_float:\n",
    "    collapsed: false\n",
    "  toc_depth: 3\n",
    "bibliography: ref.bib\n",
    "vignette: >\n",
    "  %\\VignetteIndexEntry{cosmx}\n",
    "  %\\VignetteEngine{knitr::rmarkdown}\n",
    "  %\\VignetteEncoding{UTF-8}\n",
    "---"
   ]
  },
  {
   "cell_type": "code",
   "execution_count": null,
<<<<<<< HEAD
<<<<<<< HEAD
<<<<<<< HEAD
   "id": "b0495d34",
||||||| fa5abb84
   "id": "3c29b4b4",
=======
   "id": "daba5d29",
>>>>>>> documentation-devel
||||||| 7e3277eb
   "id": "daba5d29",
=======
   "id": "2eede449",
>>>>>>> documentation-devel
||||||| 971bf77c
<<<<<<< HEAD
   "id": "b0495d34",
||||||| fa5abb84
   "id": "3c29b4b4",
=======
   "id": "daba5d29",
>>>>>>> documentation-devel
=======
   "id": "269fcfa2",
>>>>>>> e1d793125c0aeb7e34aca09298b9c5b44973e4b3
   "metadata": {
    "tags": [
     "remove_cell"
    ]
   },
   "outputs": [],
   "source": [
    "knitr::opts_chunk$set(\n",
    "  collapse = TRUE,\n",
    "  comment = \"#>\", fig.align = \"center\"\n",
    ")"
   ]
  },
  {
   "cell_type": "code",
   "execution_count": null,
<<<<<<< HEAD
<<<<<<< HEAD
<<<<<<< HEAD
   "id": "506b063a",
||||||| fa5abb84
   "id": "86242f9b",
=======
   "id": "f7fbf98b",
>>>>>>> documentation-devel
||||||| 7e3277eb
   "id": "f7fbf98b",
=======
   "id": "311c72bb",
>>>>>>> documentation-devel
||||||| 971bf77c
<<<<<<< HEAD
   "id": "506b063a",
||||||| fa5abb84
   "id": "86242f9b",
=======
   "id": "f7fbf98b",
>>>>>>> documentation-devel
=======
   "id": "8dde14cd",
>>>>>>> e1d793125c0aeb7e34aca09298b9c5b44973e4b3
   "metadata": {
    "eval": false,
    "tags": [
     "remove_cell"
    ]
   },
   "outputs": [],
   "source": [
    "# Install Google Colab dependencies\n",
    "# Note: this can take 30+ minutes (many of the dependencies include C++ code, which needs to be compiled)\n",
    "\n",
    "# First install `sf`, `ragg` and `textshaping` and their system dependencies:\n",
    "system(\"apt-get -y update && apt-get install -y  libudunits2-dev libgdal-dev libgeos-dev libproj-dev libharfbuzz-dev libfribidi-dev\")\n",
    "install.packages(\"sf\")\n",
    "install.packages(\"textshaping\")\n",
    "install.packages(\"ragg\")\n",
    "\n",
    "# Install system dependencies of some other R packages that Voyager either imports or suggests:\n",
    "system(\"apt-get install -y libfribidi-dev libcairo2-dev libmagick++-dev\")\n",
    "\n",
    "# Install Voyager from Bioconductor:\n",
    "install.packages(\"BiocManager\")\n",
    "BiocManager::install(version = \"3.17\", ask = FALSE, update = FALSE, Ncpus = 2)\n",
    "BiocManager::install(\"scater\")\n",
    "system.time(\n",
    "  BiocManager::install(\"Voyager\", dependencies = TRUE, Ncpus = 2, update = FALSE)\n",
    ")\n",
    "\n",
    "packageVersion(\"Voyager\")"
   ]
  },
  {
   "cell_type": "markdown",
<<<<<<< HEAD
<<<<<<< HEAD
<<<<<<< HEAD
   "id": "049a4ba2",
||||||| fa5abb84
   "id": "e68408d8",
=======
   "id": "d2198d0b",
>>>>>>> documentation-devel
||||||| 7e3277eb
   "id": "d2198d0b",
=======
   "id": "74adf765",
>>>>>>> documentation-devel
||||||| 971bf77c
<<<<<<< HEAD
   "id": "049a4ba2",
||||||| fa5abb84
   "id": "e68408d8",
=======
   "id": "d2198d0b",
>>>>>>> documentation-devel
=======
   "id": "f04abffe",
>>>>>>> e1d793125c0aeb7e34aca09298b9c5b44973e4b3
   "metadata": {},
   "source": [
    "# Introduction\n",
    "\n",
    "Nanostring GeoMX DSP is a popular spatial transcriptomics technology for formalin fixed paraffin embedded (FFPE) tissues, but it doesn't have single cell resolution. The CosMX FISH based technology for FFPE tissue [@He2021-oy] does have single cell resolution, and this vignette provides an example of how to analyze CosMX data with voyager. Note that FFPE is a common way to preserve and archive tissue, and in some cases, the only samples available may be FFPE. \n",
    "\n",
    "The CosMX dataset for non-small cell lung cancer that we used is described in [@He2021-oy]. The processed data is available for download from the [Nanostring website](https://nanostring.com/products/cosmx-spatial-molecular-imager/ffpe-dataset/). The gene count matrix, cell metadata, and cell segmentation polygon coordinates were downloaded from the Nanostring website as CSV files and read into R as data frames. The gene count matrix was then converted to a sparse matrix. The cell metadata contains centroid coordinates of the cells. The cell polygon data frames were converted into an `sf` data frame with the `df2sf()` function in `SpatialFeatureExperiment` (SFE). These were then used to construct an SFE object. Cell segmentation is only available in one z-plane."
   ]
  },
  {
   "cell_type": "code",
   "execution_count": null,
<<<<<<< HEAD
<<<<<<< HEAD
<<<<<<< HEAD
   "id": "3e34929b",
||||||| fa5abb84
   "id": "75951c61",
=======
   "id": "116c9ae0",
>>>>>>> documentation-devel
||||||| 7e3277eb
   "id": "116c9ae0",
=======
   "id": "94a714d0",
>>>>>>> documentation-devel
||||||| 971bf77c
<<<<<<< HEAD
   "id": "3e34929b",
||||||| fa5abb84
   "id": "75951c61",
=======
   "id": "116c9ae0",
>>>>>>> documentation-devel
=======
   "id": "db92384c",
>>>>>>> e1d793125c0aeb7e34aca09298b9c5b44973e4b3
   "metadata": {
    "message": false,
    "name": "setup"
   },
   "outputs": [],
   "source": [
    "library(Voyager)\n",
    "library(SFEData)\n",
    "library(SingleCellExperiment)\n",
    "library(SpatialExperiment)\n",
    "library(scater) # devel version of plotExpression\n",
    "library(scran)\n",
    "library(bluster)\n",
    "library(ggplot2)\n",
    "library(patchwork)\n",
    "library(stringr)\n",
    "library(spdep)\n",
    "library(BiocParallel)\n",
    "library(BiocSingular)\n",
    "theme_set(theme_bw())"
   ]
  },
  {
   "cell_type": "code",
   "execution_count": null,
<<<<<<< HEAD
<<<<<<< HEAD
<<<<<<< HEAD
   "id": "dc8d173c",
||||||| fa5abb84
   "id": "d86cdf7d",
=======
   "id": "ca8db61a",
>>>>>>> documentation-devel
||||||| 7e3277eb
   "id": "ca8db61a",
=======
   "id": "25dd3011",
>>>>>>> documentation-devel
||||||| 971bf77c
<<<<<<< HEAD
   "id": "dc8d173c",
||||||| fa5abb84
   "id": "d86cdf7d",
=======
   "id": "ca8db61a",
>>>>>>> documentation-devel
=======
   "id": "e5bb2481",
>>>>>>> e1d793125c0aeb7e34aca09298b9c5b44973e4b3
   "metadata": {},
   "outputs": [],
   "source": [
    "(sfe <- HeNSCLCData())"
   ]
  },
  {
   "cell_type": "markdown",
<<<<<<< HEAD
<<<<<<< HEAD
<<<<<<< HEAD
   "id": "b60128c9",
||||||| fa5abb84
   "id": "812d6c7a",
=======
   "id": "f66d313b",
>>>>>>> documentation-devel
||||||| 7e3277eb
   "id": "f66d313b",
=======
   "id": "60f552b6",
>>>>>>> documentation-devel
||||||| 971bf77c
<<<<<<< HEAD
   "id": "b60128c9",
||||||| fa5abb84
   "id": "812d6c7a",
=======
   "id": "f66d313b",
>>>>>>> documentation-devel
=======
   "id": "ccd3cabc",
>>>>>>> e1d793125c0aeb7e34aca09298b9c5b44973e4b3
   "metadata": {
    "lines_to_next_cell": 0
   },
   "source": [
    "Only the first biological replicate is included in the `SFEData` package. This biological replicate has 980 features and 100,290 cells. Take a look at the cells in space:"
   ]
  },
  {
   "cell_type": "code",
   "execution_count": null,
<<<<<<< HEAD
<<<<<<< HEAD
<<<<<<< HEAD
   "id": "12e6a0ce",
||||||| fa5abb84
   "id": "9b7285df",
=======
   "id": "3dfb5b97",
>>>>>>> documentation-devel
||||||| 7e3277eb
   "id": "3dfb5b97",
=======
   "id": "6740a130",
>>>>>>> documentation-devel
||||||| 971bf77c
<<<<<<< HEAD
   "id": "12e6a0ce",
||||||| fa5abb84
   "id": "9b7285df",
=======
   "id": "3dfb5b97",
>>>>>>> documentation-devel
=======
   "id": "346a19cd",
>>>>>>> e1d793125c0aeb7e34aca09298b9c5b44973e4b3
   "metadata": {},
   "outputs": [],
   "source": [
    "plotGeometry(sfe, MARGIN = 2L, type = \"cellSeg\")"
   ]
  },
  {
   "cell_type": "markdown",
<<<<<<< HEAD
<<<<<<< HEAD
<<<<<<< HEAD
   "id": "7c58c676",
||||||| fa5abb84
   "id": "27e62929",
=======
   "id": "8a5845e7",
>>>>>>> documentation-devel
||||||| 7e3277eb
   "id": "8a5845e7",
=======
   "id": "a918f823",
>>>>>>> documentation-devel
||||||| 971bf77c
<<<<<<< HEAD
   "id": "7c58c676",
||||||| fa5abb84
   "id": "27e62929",
=======
   "id": "8a5845e7",
>>>>>>> documentation-devel
=======
   "id": "abc9c980",
>>>>>>> e1d793125c0aeb7e34aca09298b9c5b44973e4b3
   "metadata": {
    "lines_to_next_cell": 0
   },
   "source": [
    "With single cell resolution, a lot of the details can be seen, although there's some artifact from borders of fields of view (FOVs).\n",
    "\n",
    "Plot cell density"
   ]
  },
  {
   "cell_type": "code",
   "execution_count": null,
<<<<<<< HEAD
<<<<<<< HEAD
<<<<<<< HEAD
   "id": "1f2ebffd",
||||||| fa5abb84
   "id": "ffe64b94",
=======
   "id": "b66e69ca",
>>>>>>> documentation-devel
||||||| 7e3277eb
   "id": "b66e69ca",
=======
   "id": "1a30cda2",
>>>>>>> documentation-devel
||||||| 971bf77c
<<<<<<< HEAD
   "id": "1f2ebffd",
||||||| fa5abb84
   "id": "ffe64b94",
=======
   "id": "b66e69ca",
>>>>>>> documentation-devel
=======
   "id": "14a2d128",
>>>>>>> e1d793125c0aeb7e34aca09298b9c5b44973e4b3
   "metadata": {},
   "outputs": [],
   "source": [
    "plotCellBin2D(sfe, hex = TRUE)"
   ]
  },
  {
   "cell_type": "markdown",
<<<<<<< HEAD
<<<<<<< HEAD
<<<<<<< HEAD
   "id": "699127f7",
||||||| fa5abb84
   "id": "436a2090",
=======
   "id": "854fd387",
>>>>>>> documentation-devel
||||||| 7e3277eb
   "id": "854fd387",
=======
   "id": "1abfbb93",
>>>>>>> documentation-devel
||||||| 971bf77c
<<<<<<< HEAD
   "id": "699127f7",
||||||| fa5abb84
   "id": "436a2090",
=======
   "id": "854fd387",
>>>>>>> documentation-devel
=======
   "id": "413cd260",
>>>>>>> e1d793125c0aeb7e34aca09298b9c5b44973e4b3
   "metadata": {},
   "source": [
    "# Quality control (QC)\n",
    "## Cells\n",
    "\n",
    "Single cell RNA-seq (scRNA-seq) technologies typically don't quantify cell morphology, and gene expression in Visium doesn't have single cell resolution. Here for single cell resolution smFISH based data, each cell not only has gene expression and related QC metrics such as total number of transcripts detected and number of genes detected, but also cell morphology such as area (in the z-plane where the segmentation polygons are provided) and aspect ratio. Area is relevant to QC since it can flag falsely undersegmented cells, i.e. several cells falsely considered as one by the cell segmentation program. However, since a pre-defined gene panel is used and mitochondrially encoded genes are not quantified, the scRNA-seq QC metric of proportion of mitochondrially encoded counts is not applicable. \n",
    "\n",
    "Some QC metrics are precomputed and are stored in `colData`"
   ]
  },
  {
   "cell_type": "code",
   "execution_count": null,
<<<<<<< HEAD
<<<<<<< HEAD
<<<<<<< HEAD
   "id": "0d161e66",
||||||| fa5abb84
   "id": "12dfcaae",
=======
   "id": "8412fb14",
>>>>>>> documentation-devel
||||||| 7e3277eb
   "id": "8412fb14",
=======
   "id": "2dc36efa",
>>>>>>> documentation-devel
||||||| 971bf77c
<<<<<<< HEAD
   "id": "0d161e66",
||||||| fa5abb84
   "id": "12dfcaae",
=======
   "id": "8412fb14",
>>>>>>> documentation-devel
=======
   "id": "09f23a22",
>>>>>>> e1d793125c0aeb7e34aca09298b9c5b44973e4b3
   "metadata": {
    "lines_to_next_cell": 0
   },
   "outputs": [],
   "source": [
    "names(colData(sfe))"
   ]
  },
  {
   "cell_type": "markdown",
<<<<<<< HEAD
<<<<<<< HEAD
<<<<<<< HEAD
   "id": "44b122d1",
||||||| fa5abb84
   "id": "8463f8ae",
=======
   "id": "6cfa51b2",
>>>>>>> documentation-devel
||||||| 7e3277eb
   "id": "6cfa51b2",
=======
   "id": "4960bf35",
>>>>>>> documentation-devel
||||||| 971bf77c
<<<<<<< HEAD
   "id": "44b122d1",
||||||| fa5abb84
   "id": "8463f8ae",
=======
   "id": "6cfa51b2",
>>>>>>> documentation-devel
=======
   "id": "df0bf91e",
>>>>>>> e1d793125c0aeb7e34aca09298b9c5b44973e4b3
   "metadata": {
    "lines_to_next_cell": 0
   },
   "source": [
    "Cell area, aspect ratio, marker and stain intensities, i.e. all columns before \"sample_id\" come from Nanostring's website. The `sf` package can compute areas of the cell polygons. In R, the `EBImage` package can compute more morphological metrics such as aspect ratio, eccentricity, orientation, and etc., but it requires the data to be converted to raster. OpenCV can compute more morphological metrics for polygons without converting to raster, but it needs to be called from Python or C++. Since the math behind many basic morphological metrics is pretty simple, we may add those to `Voyager` in a future version.\n",
    "\n",
    "Since plotting 100,000 polygons is slow and the plot isn't large enough for us to see the polygons anyway, we use [`scattermore`](https://github.com/exaexa/scattermore) to rasterize the plot to speed up plotting. Instead of plotting every single point, now `ggplot` merely displays a rasterized image."
   ]
  },
  {
   "cell_type": "code",
   "execution_count": null,
<<<<<<< HEAD
<<<<<<< HEAD
<<<<<<< HEAD
   "id": "1810f87c",
||||||| fa5abb84
   "id": "b2a02e9b",
=======
   "id": "fda4d3d9",
>>>>>>> documentation-devel
||||||| 7e3277eb
   "id": "fda4d3d9",
=======
   "id": "417b3fde",
>>>>>>> documentation-devel
||||||| 971bf77c
<<<<<<< HEAD
   "id": "1810f87c",
||||||| fa5abb84
   "id": "b2a02e9b",
=======
   "id": "fda4d3d9",
>>>>>>> documentation-devel
=======
   "id": "561f5a5e",
>>>>>>> e1d793125c0aeb7e34aca09298b9c5b44973e4b3
   "metadata": {},
   "outputs": [],
   "source": [
    "# Function to plot violin plot for distribution and spatial at once\n",
    "plot_violin_spatial <- function(sfe, feature) {\n",
    "    violin <- plotColData(sfe, feature, point_fun = function(...) list())\n",
    "    spatial <- plotSpatialFeature(sfe, feature, colGeometryName = \"centroids\",\n",
    "                                  scattermore = TRUE)\n",
    "    violin + spatial +\n",
    "        plot_layout(widths = c(1, 2))\n",
    "}"
   ]
  },
  {
   "cell_type": "markdown",
<<<<<<< HEAD
<<<<<<< HEAD
<<<<<<< HEAD
   "id": "91efba99",
||||||| fa5abb84
   "id": "631884aa",
=======
   "id": "a7434a8a",
>>>>>>> documentation-devel
||||||| 7e3277eb
   "id": "a7434a8a",
=======
   "id": "16178b76",
>>>>>>> documentation-devel
||||||| 971bf77c
<<<<<<< HEAD
   "id": "91efba99",
||||||| fa5abb84
   "id": "631884aa",
=======
   "id": "a7434a8a",
>>>>>>> documentation-devel
=======
   "id": "5ae4d898",
>>>>>>> e1d793125c0aeb7e34aca09298b9c5b44973e4b3
   "metadata": {
    "lines_to_next_cell": 0
   },
   "source": [
    "Number of transcript spots detected per cell"
   ]
  },
  {
   "cell_type": "code",
   "execution_count": null,
<<<<<<< HEAD
<<<<<<< HEAD
<<<<<<< HEAD
   "id": "94347d47",
||||||| fa5abb84
   "id": "4204dc79",
=======
   "id": "53fe83da",
>>>>>>> documentation-devel
||||||| 7e3277eb
   "id": "53fe83da",
=======
   "id": "f2ad1ae0",
>>>>>>> documentation-devel
||||||| 971bf77c
<<<<<<< HEAD
   "id": "94347d47",
||||||| fa5abb84
   "id": "4204dc79",
=======
   "id": "53fe83da",
>>>>>>> documentation-devel
=======
   "id": "612868c1",
>>>>>>> e1d793125c0aeb7e34aca09298b9c5b44973e4b3
   "metadata": {
    "fig.height": 4,
    "fig.width": 8
   },
   "outputs": [],
   "source": [
    "plot_violin_spatial(sfe, \"nCounts\")"
   ]
  },
  {
   "cell_type": "code",
   "execution_count": null,
<<<<<<< HEAD
<<<<<<< HEAD
<<<<<<< HEAD
   "id": "46aa309f",
||||||| fa5abb84
   "id": "ba95ffb7",
=======
   "id": "3614768a",
>>>>>>> documentation-devel
||||||| 7e3277eb
   "id": "3614768a",
=======
   "id": "d6f0715d",
>>>>>>> documentation-devel
||||||| 971bf77c
<<<<<<< HEAD
   "id": "46aa309f",
||||||| fa5abb84
   "id": "ba95ffb7",
=======
   "id": "3614768a",
>>>>>>> documentation-devel
=======
   "id": "c889636a",
>>>>>>> e1d793125c0aeb7e34aca09298b9c5b44973e4b3
   "metadata": {},
   "outputs": [],
   "source": [
    "summary(sfe$nCounts)"
   ]
  },
  {
   "cell_type": "markdown",
<<<<<<< HEAD
<<<<<<< HEAD
<<<<<<< HEAD
   "id": "10e6cce4",
||||||| fa5abb84
   "id": "50d5335a",
=======
   "id": "da9119d8",
>>>>>>> documentation-devel
||||||| 7e3277eb
   "id": "da9119d8",
=======
   "id": "50d13a02",
>>>>>>> documentation-devel
||||||| 971bf77c
<<<<<<< HEAD
   "id": "10e6cce4",
||||||| fa5abb84
   "id": "50d5335a",
=======
   "id": "da9119d8",
>>>>>>> documentation-devel
=======
   "id": "05cbcd0f",
>>>>>>> e1d793125c0aeb7e34aca09298b9c5b44973e4b3
   "metadata": {},
   "source": [
    "To make nCounts and nGenes more comparable across datasets, we divide them by the number of genes probed. In this dataset, there are 960 genes, and 20 negative controls. However, because different genes may be probed in different datasets, which can be from different tissues, this does not make nCounts and nGenes completely comparable across datasets. However, it may still be somewhat comparable, since genes highly expressed in major cell types in the tissue tend to be selected for the gene panel."
   ]
  },
  {
   "cell_type": "code",
   "execution_count": null,
<<<<<<< HEAD
<<<<<<< HEAD
<<<<<<< HEAD
   "id": "170b6539",
||||||| fa5abb84
   "id": "e2239b85",
=======
   "id": "fa85be14",
>>>>>>> documentation-devel
||||||| 7e3277eb
   "id": "fa85be14",
=======
   "id": "c388cd42",
>>>>>>> documentation-devel
||||||| 971bf77c
<<<<<<< HEAD
   "id": "170b6539",
||||||| fa5abb84
   "id": "e2239b85",
=======
   "id": "fa85be14",
>>>>>>> documentation-devel
=======
   "id": "18c1ef95",
>>>>>>> e1d793125c0aeb7e34aca09298b9c5b44973e4b3
   "metadata": {},
   "outputs": [],
   "source": [
    "n_panel <- 960\n",
    "colData(sfe)$nCounts_normed <- sfe$nCounts/n_panel\n",
    "colData(sfe)$nGenes_normed <- sfe$nGenes/n_panel"
   ]
  },
  {
   "cell_type": "code",
   "execution_count": null,
<<<<<<< HEAD
<<<<<<< HEAD
<<<<<<< HEAD
   "id": "bfc614f4",
||||||| fa5abb84
   "id": "6c41676c",
=======
   "id": "62f4aea5",
>>>>>>> documentation-devel
||||||| 7e3277eb
   "id": "62f4aea5",
=======
   "id": "0fba6b55",
>>>>>>> documentation-devel
||||||| 971bf77c
<<<<<<< HEAD
   "id": "bfc614f4",
||||||| fa5abb84
   "id": "6c41676c",
=======
   "id": "62f4aea5",
>>>>>>> documentation-devel
=======
   "id": "cfa5a273",
>>>>>>> e1d793125c0aeb7e34aca09298b9c5b44973e4b3
   "metadata": {},
   "outputs": [],
   "source": [
    "plotColDataHistogram(sfe, c(\"nCounts_normed\", \"nGenes_normed\"))"
   ]
  },
  {
   "cell_type": "markdown",
<<<<<<< HEAD
<<<<<<< HEAD
<<<<<<< HEAD
   "id": "7e74dd46",
||||||| fa5abb84
   "id": "41f08422",
=======
   "id": "71eb1954",
>>>>>>> documentation-devel
||||||| 7e3277eb
   "id": "71eb1954",
=======
   "id": "bdf7cff8",
>>>>>>> documentation-devel
||||||| 971bf77c
<<<<<<< HEAD
   "id": "7e74dd46",
||||||| fa5abb84
   "id": "41f08422",
=======
   "id": "71eb1954",
>>>>>>> documentation-devel
=======
   "id": "8de3faca",
>>>>>>> e1d793125c0aeb7e34aca09298b9c5b44973e4b3
   "metadata": {
    "lines_to_next_cell": 0
   },
   "source": [
    "This means the cells mostly have less than 1 transcript count per gene on average, which is not surprising since not all cells express all genes. Most cells are detected to express less than 30% of all genes probed.\n",
    "\n",
    "Number of genes (out of 980) detected per cell"
   ]
  },
  {
   "cell_type": "code",
   "execution_count": null,
<<<<<<< HEAD
<<<<<<< HEAD
<<<<<<< HEAD
   "id": "d5d3b677",
||||||| fa5abb84
   "id": "7ace376b",
=======
   "id": "ac1a4ec2",
>>>>>>> documentation-devel
||||||| 7e3277eb
   "id": "ac1a4ec2",
=======
   "id": "4c834be7",
>>>>>>> documentation-devel
||||||| 971bf77c
<<<<<<< HEAD
   "id": "d5d3b677",
||||||| fa5abb84
   "id": "7ace376b",
=======
   "id": "ac1a4ec2",
>>>>>>> documentation-devel
=======
   "id": "b0c8fe51",
>>>>>>> e1d793125c0aeb7e34aca09298b9c5b44973e4b3
   "metadata": {
    "fig.height": 4,
    "fig.width": 8
   },
   "outputs": [],
   "source": [
    "plot_violin_spatial(sfe, \"nGenes\")"
   ]
  },
  {
   "cell_type": "code",
   "execution_count": null,
<<<<<<< HEAD
<<<<<<< HEAD
<<<<<<< HEAD
   "id": "24c68958",
||||||| fa5abb84
   "id": "015ec572",
=======
   "id": "3a22e7ab",
>>>>>>> documentation-devel
||||||| 7e3277eb
   "id": "3a22e7ab",
=======
   "id": "ca0b0617",
>>>>>>> documentation-devel
||||||| 971bf77c
<<<<<<< HEAD
   "id": "24c68958",
||||||| fa5abb84
   "id": "015ec572",
=======
   "id": "3a22e7ab",
>>>>>>> documentation-devel
=======
   "id": "3c4f5851",
>>>>>>> e1d793125c0aeb7e34aca09298b9c5b44973e4b3
   "metadata": {},
   "outputs": [],
   "source": [
    "summary(sfe$nGenes)"
   ]
  },
  {
   "cell_type": "markdown",
<<<<<<< HEAD
<<<<<<< HEAD
<<<<<<< HEAD
   "id": "dcafa726",
||||||| fa5abb84
   "id": "d8b6ab55",
=======
   "id": "70a7a4a2",
>>>>>>> documentation-devel
||||||| 7e3277eb
   "id": "70a7a4a2",
=======
   "id": "ff85456f",
>>>>>>> documentation-devel
||||||| 971bf77c
<<<<<<< HEAD
   "id": "dcafa726",
||||||| fa5abb84
   "id": "d8b6ab55",
=======
   "id": "70a7a4a2",
>>>>>>> documentation-devel
=======
   "id": "7a451cae",
>>>>>>> e1d793125c0aeb7e34aca09298b9c5b44973e4b3
   "metadata": {
    "lines_to_next_cell": 0
   },
   "source": [
    "Based on the spatial plot, it seems that nCounts and nGenes are biologically relevant, but there are cells with no transcripts detected. \n",
    "\n",
    "How nCounts relates to nGenes"
   ]
  },
  {
   "cell_type": "code",
   "execution_count": null,
<<<<<<< HEAD
<<<<<<< HEAD
<<<<<<< HEAD
   "id": "44b6456f",
||||||| fa5abb84
   "id": "0097ecc1",
=======
   "id": "0246f8ff",
>>>>>>> documentation-devel
||||||| 7e3277eb
   "id": "0246f8ff",
=======
   "id": "1e39cf8d",
>>>>>>> documentation-devel
||||||| 971bf77c
<<<<<<< HEAD
   "id": "44b6456f",
||||||| fa5abb84
   "id": "0097ecc1",
=======
   "id": "0246f8ff",
>>>>>>> documentation-devel
=======
   "id": "04886f9c",
>>>>>>> e1d793125c0aeb7e34aca09298b9c5b44973e4b3
   "metadata": {},
   "outputs": [],
   "source": [
    "plotColData(sfe, x = \"nCounts\", y = \"nGenes\", bins = 100)"
   ]
  },
  {
   "cell_type": "markdown",
<<<<<<< HEAD
<<<<<<< HEAD
<<<<<<< HEAD
   "id": "bac7c7c9",
||||||| fa5abb84
   "id": "d50d8b91",
=======
   "id": "cee0f2a2",
>>>>>>> documentation-devel
||||||| 7e3277eb
   "id": "cee0f2a2",
=======
   "id": "8c278afc",
>>>>>>> documentation-devel
||||||| 971bf77c
<<<<<<< HEAD
   "id": "bac7c7c9",
||||||| fa5abb84
   "id": "d50d8b91",
=======
   "id": "cee0f2a2",
>>>>>>> documentation-devel
=======
   "id": "381a164f",
>>>>>>> e1d793125c0aeb7e34aca09298b9c5b44973e4b3
   "metadata": {
    "lines_to_next_cell": 0
   },
   "source": [
    "What's the nature of the cells without transcripts?"
   ]
  },
  {
   "cell_type": "code",
   "execution_count": null,
<<<<<<< HEAD
<<<<<<< HEAD
<<<<<<< HEAD
   "id": "e3725365",
||||||| fa5abb84
   "id": "cf038fec",
=======
   "id": "8fabfd99",
>>>>>>> documentation-devel
||||||| 7e3277eb
   "id": "8fabfd99",
=======
   "id": "d270ad09",
>>>>>>> documentation-devel
||||||| 971bf77c
<<<<<<< HEAD
   "id": "e3725365",
||||||| fa5abb84
   "id": "cf038fec",
=======
   "id": "8fabfd99",
>>>>>>> documentation-devel
=======
   "id": "eb341583",
>>>>>>> e1d793125c0aeb7e34aca09298b9c5b44973e4b3
   "metadata": {},
   "outputs": [],
   "source": [
    "colData(sfe)$is_empty <- colData(sfe)$nCounts < 1"
   ]
  },
  {
   "cell_type": "code",
   "execution_count": null,
<<<<<<< HEAD
<<<<<<< HEAD
<<<<<<< HEAD
   "id": "d291b3ad",
||||||| fa5abb84
   "id": "3dee9954",
=======
   "id": "99e01d2b",
>>>>>>> documentation-devel
||||||| 7e3277eb
   "id": "99e01d2b",
=======
   "id": "584597bb",
>>>>>>> documentation-devel
||||||| 971bf77c
<<<<<<< HEAD
   "id": "d291b3ad",
||||||| fa5abb84
   "id": "3dee9954",
=======
   "id": "99e01d2b",
>>>>>>> documentation-devel
=======
   "id": "c83db30e",
>>>>>>> e1d793125c0aeb7e34aca09298b9c5b44973e4b3
   "metadata": {},
   "outputs": [],
   "source": [
    "plotSpatialFeature(sfe, \"is_empty\", \"cellSeg\")"
   ]
  },
  {
   "cell_type": "markdown",
<<<<<<< HEAD
<<<<<<< HEAD
<<<<<<< HEAD
   "id": "f91d4b31",
||||||| fa5abb84
   "id": "4b67cf9b",
=======
   "id": "bfc90ca0",
>>>>>>> documentation-devel
||||||| 7e3277eb
   "id": "bfc90ca0",
=======
   "id": "42ba47d6",
>>>>>>> documentation-devel
||||||| 971bf77c
<<<<<<< HEAD
   "id": "f91d4b31",
||||||| fa5abb84
   "id": "4b67cf9b",
=======
   "id": "bfc90ca0",
>>>>>>> documentation-devel
=======
   "id": "c301c51d",
>>>>>>> e1d793125c0aeb7e34aca09298b9c5b44973e4b3
   "metadata": {
    "lines_to_next_cell": 0
   },
   "source": [
    "The cells without transcripts are in the central cavity."
   ]
  },
  {
   "cell_type": "code",
   "execution_count": null,
<<<<<<< HEAD
<<<<<<< HEAD
<<<<<<< HEAD
   "id": "a95d1d6e",
||||||| fa5abb84
   "id": "ab65240f",
=======
   "id": "fa469c59",
>>>>>>> documentation-devel
||||||| 7e3277eb
   "id": "fa469c59",
=======
   "id": "b91e9034",
>>>>>>> documentation-devel
||||||| 971bf77c
<<<<<<< HEAD
   "id": "a95d1d6e",
||||||| fa5abb84
   "id": "ab65240f",
=======
   "id": "fa469c59",
>>>>>>> documentation-devel
=======
   "id": "ff8501f7",
>>>>>>> e1d793125c0aeb7e34aca09298b9c5b44973e4b3
   "metadata": {},
   "outputs": [],
   "source": [
    "plotColData(sfe, x = \"Area\", y = \"is_empty\")"
   ]
  },
  {
   "cell_type": "markdown",
<<<<<<< HEAD
<<<<<<< HEAD
<<<<<<< HEAD
   "id": "df972095",
||||||| fa5abb84
   "id": "4d9ae385",
=======
   "id": "30a0498a",
>>>>>>> documentation-devel
||||||| 7e3277eb
   "id": "30a0498a",
=======
   "id": "55ac4def",
>>>>>>> documentation-devel
||||||| 971bf77c
<<<<<<< HEAD
   "id": "df972095",
||||||| fa5abb84
   "id": "4d9ae385",
=======
   "id": "30a0498a",
>>>>>>> documentation-devel
=======
   "id": "730101a0",
>>>>>>> e1d793125c0aeb7e34aca09298b9c5b44973e4b3
   "metadata": {
    "lines_to_next_cell": 0
   },
   "source": [
    "The \"empty\" cells tend to be smaller than other cells but there are also some really large ones. \n",
    "\n",
    "Cell area distribution"
   ]
  },
  {
   "cell_type": "code",
   "execution_count": null,
<<<<<<< HEAD
<<<<<<< HEAD
<<<<<<< HEAD
   "id": "5255ed55",
||||||| fa5abb84
   "id": "17369495",
=======
   "id": "b2ab2aa3",
>>>>>>> documentation-devel
||||||| 7e3277eb
   "id": "b2ab2aa3",
=======
   "id": "c9913bee",
>>>>>>> documentation-devel
||||||| 971bf77c
<<<<<<< HEAD
   "id": "5255ed55",
||||||| fa5abb84
   "id": "17369495",
=======
   "id": "b2ab2aa3",
>>>>>>> documentation-devel
=======
   "id": "bb5bf66e",
>>>>>>> e1d793125c0aeb7e34aca09298b9c5b44973e4b3
   "metadata": {
    "fig.height": 4,
    "fig.width": 8
   },
   "outputs": [],
   "source": [
    "plot_violin_spatial(sfe, \"Area\")"
   ]
  },
  {
   "cell_type": "markdown",
<<<<<<< HEAD
<<<<<<< HEAD
<<<<<<< HEAD
   "id": "5d93f80b",
||||||| fa5abb84
   "id": "1ea3fd97",
=======
   "id": "bececdbc",
>>>>>>> documentation-devel
||||||| 7e3277eb
   "id": "bececdbc",
=======
   "id": "06c75155",
>>>>>>> documentation-devel
||||||| 971bf77c
<<<<<<< HEAD
   "id": "5d93f80b",
||||||| fa5abb84
   "id": "1ea3fd97",
=======
   "id": "bececdbc",
>>>>>>> documentation-devel
=======
   "id": "a8b66d17",
>>>>>>> e1d793125c0aeb7e34aca09298b9c5b44973e4b3
   "metadata": {
    "lines_to_next_cell": 0
   },
   "source": [
    "Larger cells are more likely to be found in certain areas of the tissue. It could be biological, or that under-segmentation is more likely for that cell type or that tissue region.\n",
    "\n",
    "How does area relate to total counts?"
   ]
  },
  {
   "cell_type": "code",
   "execution_count": null,
<<<<<<< HEAD
<<<<<<< HEAD
<<<<<<< HEAD
   "id": "ae870895",
||||||| fa5abb84
   "id": "87354f36",
=======
   "id": "9bfeba6e",
>>>>>>> documentation-devel
||||||| 7e3277eb
   "id": "9bfeba6e",
=======
   "id": "dc19735b",
>>>>>>> documentation-devel
||||||| 971bf77c
<<<<<<< HEAD
   "id": "ae870895",
||||||| fa5abb84
   "id": "87354f36",
=======
   "id": "9bfeba6e",
>>>>>>> documentation-devel
=======
   "id": "29e0346e",
>>>>>>> e1d793125c0aeb7e34aca09298b9c5b44973e4b3
   "metadata": {},
   "outputs": [],
   "source": [
    "plotColData(sfe, x = \"nCounts\", y = \"Area\", bins = 100) + theme_bw()"
   ]
  },
  {
   "cell_type": "markdown",
<<<<<<< HEAD
<<<<<<< HEAD
<<<<<<< HEAD
   "id": "48e827d8",
||||||| fa5abb84
   "id": "b420c2e6",
=======
   "id": "8cf557b1",
>>>>>>> documentation-devel
||||||| 7e3277eb
   "id": "8cf557b1",
=======
   "id": "d9b7628c",
>>>>>>> documentation-devel
||||||| 971bf77c
<<<<<<< HEAD
   "id": "48e827d8",
||||||| fa5abb84
   "id": "b420c2e6",
=======
   "id": "8cf557b1",
>>>>>>> documentation-devel
=======
   "id": "d56417bd",
>>>>>>> e1d793125c0aeb7e34aca09298b9c5b44973e4b3
   "metadata": {
    "lines_to_next_cell": 0
   },
   "source": [
    "While there may vaguely seem that cells with more total counts tend to be larger (at least in this z-plane), there are some cells that are large but have low total counts.\n",
    "\n",
    "Negative control probes are used in this dataset for QC. Here we calculate the proportion of transcripts attributed to the negative controls."
   ]
  },
  {
   "cell_type": "code",
   "execution_count": null,
<<<<<<< HEAD
<<<<<<< HEAD
<<<<<<< HEAD
   "id": "c58ade08",
||||||| fa5abb84
   "id": "47f947c8",
=======
   "id": "841b8339",
>>>>>>> documentation-devel
||||||| 7e3277eb
   "id": "841b8339",
=======
   "id": "9d970aad",
>>>>>>> documentation-devel
||||||| 971bf77c
<<<<<<< HEAD
   "id": "c58ade08",
||||||| fa5abb84
   "id": "47f947c8",
=======
   "id": "841b8339",
>>>>>>> documentation-devel
=======
   "id": "47bffb38",
>>>>>>> e1d793125c0aeb7e34aca09298b9c5b44973e4b3
   "metadata": {},
   "outputs": [],
   "source": [
    "neg_inds <- str_detect(rownames(sfe), \"^NegPrb\")\n",
    "# Number of negative control probes\n",
    "sum(neg_inds)\n",
    "colData(sfe)$prop_neg <- colSums(counts(sfe)[neg_inds,])/colData(sfe)$nCounts"
   ]
  },
  {
   "cell_type": "code",
   "execution_count": null,
<<<<<<< HEAD
<<<<<<< HEAD
<<<<<<< HEAD
   "id": "f0a3342c",
||||||| fa5abb84
   "id": "d11fb173",
=======
   "id": "03e0422e",
>>>>>>> documentation-devel
||||||| 7e3277eb
   "id": "03e0422e",
=======
   "id": "14cc7e4c",
>>>>>>> documentation-devel
||||||| 971bf77c
<<<<<<< HEAD
   "id": "f0a3342c",
||||||| fa5abb84
   "id": "d11fb173",
=======
   "id": "03e0422e",
>>>>>>> documentation-devel
=======
   "id": "7e894d14",
>>>>>>> e1d793125c0aeb7e34aca09298b9c5b44973e4b3
   "metadata": {
    "fig.height": 4,
    "fig.width": 8
   },
   "outputs": [],
   "source": [
    "plot_violin_spatial(sfe, \"prop_neg\")"
   ]
  },
  {
   "cell_type": "markdown",
<<<<<<< HEAD
<<<<<<< HEAD
<<<<<<< HEAD
   "id": "ebd8ec39",
||||||| fa5abb84
   "id": "5ee0788e",
=======
   "id": "ce358b5e",
>>>>>>> documentation-devel
||||||| 7e3277eb
   "id": "ce358b5e",
=======
   "id": "ff33d16f",
>>>>>>> documentation-devel
||||||| 971bf77c
<<<<<<< HEAD
   "id": "ebd8ec39",
||||||| fa5abb84
   "id": "5ee0788e",
=======
   "id": "ce358b5e",
>>>>>>> documentation-devel
=======
   "id": "ea55f324",
>>>>>>> e1d793125c0aeb7e34aca09298b9c5b44973e4b3
   "metadata": {},
   "source": [
    "The NA's are empty cells, and the proportion is very low except for a few outliers. How does prop_neg relate to nCounts?"
   ]
  },
  {
   "cell_type": "code",
   "execution_count": null,
<<<<<<< HEAD
<<<<<<< HEAD
<<<<<<< HEAD
   "id": "e144ffe2",
||||||| fa5abb84
   "id": "0df8cc00",
=======
   "id": "ffdab6b7",
>>>>>>> documentation-devel
||||||| 7e3277eb
   "id": "ffdab6b7",
=======
   "id": "dda8e975",
>>>>>>> documentation-devel
||||||| 971bf77c
<<<<<<< HEAD
   "id": "e144ffe2",
||||||| fa5abb84
   "id": "0df8cc00",
=======
   "id": "ffdab6b7",
>>>>>>> documentation-devel
=======
   "id": "68674a4c",
>>>>>>> e1d793125c0aeb7e34aca09298b9c5b44973e4b3
   "metadata": {},
   "outputs": [],
   "source": [
    "plotColData(sfe, x = \"nCounts\",y = \"prop_neg\", bins = 100)"
   ]
  },
  {
   "cell_type": "markdown",
<<<<<<< HEAD
<<<<<<< HEAD
<<<<<<< HEAD
   "id": "df642667",
||||||| fa5abb84
   "id": "f14be598",
=======
   "id": "a7e33027",
>>>>>>> documentation-devel
||||||| 7e3277eb
   "id": "a7e33027",
=======
   "id": "af25ab1a",
>>>>>>> documentation-devel
||||||| 971bf77c
<<<<<<< HEAD
   "id": "df642667",
||||||| fa5abb84
   "id": "f14be598",
=======
   "id": "a7e33027",
>>>>>>> documentation-devel
=======
   "id": "50528548",
>>>>>>> e1d793125c0aeb7e34aca09298b9c5b44973e4b3
   "metadata": {
    "lines_to_next_cell": 0
   },
   "source": [
    "This looks kind of like the proportion of mitochondrial counts vs. nCounts plot for scRNA-seq, where cells with fewer total counts tend to have higher proportion of mitochondrial counts."
   ]
  },
  {
   "cell_type": "code",
   "execution_count": null,
<<<<<<< HEAD
<<<<<<< HEAD
<<<<<<< HEAD
   "id": "db3545f4",
||||||| fa5abb84
   "id": "ff156c1a",
=======
   "id": "e8d5084e",
>>>>>>> documentation-devel
||||||| 7e3277eb
   "id": "e8d5084e",
=======
   "id": "62ceaa82",
>>>>>>> documentation-devel
||||||| 971bf77c
<<<<<<< HEAD
   "id": "db3545f4",
||||||| fa5abb84
   "id": "ff156c1a",
=======
   "id": "e8d5084e",
>>>>>>> documentation-devel
=======
   "id": "c6b08ff2",
>>>>>>> e1d793125c0aeb7e34aca09298b9c5b44973e4b3
   "metadata": {},
   "outputs": [],
   "source": [
    "# The zeros are removed\n",
    "plotColDataHistogram(sfe, \"prop_neg\") +\n",
    "    scale_x_log10()"
   ]
  },
  {
   "cell_type": "markdown",
<<<<<<< HEAD
<<<<<<< HEAD
<<<<<<< HEAD
   "id": "cf47c6ba",
||||||| fa5abb84
   "id": "62abb895",
=======
   "id": "3e4b336d",
>>>>>>> documentation-devel
||||||| 7e3277eb
   "id": "3e4b336d",
=======
   "id": "a4f3fc0a",
>>>>>>> documentation-devel
||||||| 971bf77c
<<<<<<< HEAD
   "id": "cf47c6ba",
||||||| fa5abb84
   "id": "62abb895",
=======
   "id": "3e4b336d",
>>>>>>> documentation-devel
=======
   "id": "33794093",
>>>>>>> e1d793125c0aeb7e34aca09298b9c5b44973e4b3
   "metadata": {},
   "source": [
    "The distribution is not obviously bimodal, and since the x-axis is log transformed to better visualize the distribution, the 0's have been removed. It's kind of arbitrary; for now we'll remove cells with more than 10% of transcripts from negative controls."
   ]
  },
  {
   "cell_type": "code",
   "execution_count": null,
<<<<<<< HEAD
<<<<<<< HEAD
<<<<<<< HEAD
   "id": "3acaea6d",
||||||| fa5abb84
   "id": "ae4c556d",
=======
   "id": "044a9f3a",
>>>>>>> documentation-devel
||||||| 7e3277eb
   "id": "044a9f3a",
=======
   "id": "656d306a",
>>>>>>> documentation-devel
||||||| 971bf77c
<<<<<<< HEAD
   "id": "3acaea6d",
||||||| fa5abb84
   "id": "ae4c556d",
=======
   "id": "044a9f3a",
>>>>>>> documentation-devel
=======
   "id": "3971d738",
>>>>>>> e1d793125c0aeb7e34aca09298b9c5b44973e4b3
   "metadata": {},
   "outputs": [],
   "source": [
    "# Remove low quality cells\n",
    "(sfe <- sfe[,!sfe$is_empty & sfe$prop_neg < 0.1])"
   ]
  },
  {
   "cell_type": "markdown",
<<<<<<< HEAD
<<<<<<< HEAD
<<<<<<< HEAD
   "id": "bd198f40",
||||||| fa5abb84
   "id": "8f2f33eb",
=======
   "id": "1b26a881",
>>>>>>> documentation-devel
||||||| 7e3277eb
   "id": "1b26a881",
=======
   "id": "9a06a12e",
>>>>>>> documentation-devel
||||||| 971bf77c
<<<<<<< HEAD
   "id": "bd198f40",
||||||| fa5abb84
   "id": "8f2f33eb",
=======
   "id": "1b26a881",
>>>>>>> documentation-devel
=======
   "id": "0515e1ea",
>>>>>>> e1d793125c0aeb7e34aca09298b9c5b44973e4b3
   "metadata": {
    "lines_to_next_cell": 0
   },
   "source": [
    "After removing the low quality cells, there are 100,095 cells left.\n",
    "\n",
    "### Markers\n",
    "Nanostring provides some cell stain and marker intensities in the cell metadata."
   ]
  },
  {
   "cell_type": "code",
   "execution_count": null,
<<<<<<< HEAD
<<<<<<< HEAD
<<<<<<< HEAD
   "id": "80e301ab",
||||||| fa5abb84
   "id": "b300e78b",
=======
   "id": "a099a748",
>>>>>>> documentation-devel
||||||| 7e3277eb
   "id": "a099a748",
=======
   "id": "419f9fd7",
>>>>>>> documentation-devel
||||||| 971bf77c
<<<<<<< HEAD
   "id": "80e301ab",
||||||| fa5abb84
   "id": "b300e78b",
=======
   "id": "a099a748",
>>>>>>> documentation-devel
=======
   "id": "45dc0f82",
>>>>>>> e1d793125c0aeb7e34aca09298b9c5b44973e4b3
   "metadata": {},
   "outputs": [],
   "source": [
    "names(colData(sfe))"
   ]
  },
  {
   "cell_type": "markdown",
<<<<<<< HEAD
<<<<<<< HEAD
<<<<<<< HEAD
   "id": "e5d0aef7",
||||||| fa5abb84
   "id": "9bd82c07",
=======
   "id": "3b9b7343",
>>>>>>> documentation-devel
||||||| 7e3277eb
   "id": "3b9b7343",
=======
   "id": "bf1ceaaf",
>>>>>>> documentation-devel
||||||| 971bf77c
<<<<<<< HEAD
   "id": "e5d0aef7",
||||||| fa5abb84
   "id": "9bd82c07",
=======
   "id": "3b9b7343",
>>>>>>> documentation-devel
=======
   "id": "abc16109",
>>>>>>> e1d793125c0aeb7e34aca09298b9c5b44973e4b3
   "metadata": {
    "lines_to_next_cell": 0
   },
   "source": [
    "Here we plot aspect ratio and mean intensity of cells stains and markers, which have not been plotted before. PanCK is a marker for epithelial cells. CD45 is a leukocyte marker. CD3 is a T cell marker. Since it takes quite a while to plot 100,000 cells 6 times, `scattermore` really helps."
   ]
  },
  {
   "cell_type": "code",
   "execution_count": null,
<<<<<<< HEAD
<<<<<<< HEAD
<<<<<<< HEAD
   "id": "be4e0587",
||||||| fa5abb84
   "id": "0d735eca",
=======
   "id": "997fc6e6",
>>>>>>> documentation-devel
||||||| 7e3277eb
   "id": "997fc6e6",
=======
   "id": "c6bbfaa5",
>>>>>>> documentation-devel
||||||| 971bf77c
<<<<<<< HEAD
   "id": "be4e0587",
||||||| fa5abb84
   "id": "0d735eca",
=======
   "id": "997fc6e6",
>>>>>>> documentation-devel
=======
   "id": "9d887a9a",
>>>>>>> e1d793125c0aeb7e34aca09298b9c5b44973e4b3
   "metadata": {
    "fig.height": 9,
    "fig.width": 10
   },
   "outputs": [],
   "source": [
    "plotSpatialFeature(sfe, c(\"AspectRatio\", \"Mean.DAPI\", \"Mean.MembraneStain\", \n",
    "                          \"Mean.PanCK\", \"Mean.CD45\", \"Mean.CD3\"),\n",
    "                   colGeometryName = \"centroids\", ncol = 2, scattermore = TRUE)"
   ]
  },
  {
   "cell_type": "markdown",
<<<<<<< HEAD
<<<<<<< HEAD
<<<<<<< HEAD
   "id": "aefbe478",
||||||| fa5abb84
   "id": "504dd99d",
=======
   "id": "bf6c2560",
>>>>>>> documentation-devel
||||||| 7e3277eb
   "id": "bf6c2560",
=======
   "id": "09423345",
>>>>>>> documentation-devel
||||||| 971bf77c
<<<<<<< HEAD
   "id": "aefbe478",
||||||| fa5abb84
   "id": "504dd99d",
=======
   "id": "bf6c2560",
>>>>>>> documentation-devel
=======
   "id": "e02202aa",
>>>>>>> e1d793125c0aeb7e34aca09298b9c5b44973e4b3
   "metadata": {
    "lines_to_next_cell": 0
   },
   "source": [
    "## Genes"
   ]
  },
  {
   "cell_type": "code",
   "execution_count": null,
<<<<<<< HEAD
<<<<<<< HEAD
<<<<<<< HEAD
   "id": "773bb946",
||||||| fa5abb84
   "id": "39d5d606",
=======
   "id": "55000352",
>>>>>>> documentation-devel
||||||| 7e3277eb
   "id": "55000352",
=======
   "id": "9313f5e4",
>>>>>>> documentation-devel
||||||| 971bf77c
<<<<<<< HEAD
   "id": "773bb946",
||||||| fa5abb84
   "id": "39d5d606",
=======
   "id": "55000352",
>>>>>>> documentation-devel
=======
   "id": "732b474d",
>>>>>>> e1d793125c0aeb7e34aca09298b9c5b44973e4b3
   "metadata": {},
   "outputs": [],
   "source": [
    "rowData(sfe)$means <- rowMeans(counts(sfe))\n",
    "rowData(sfe)$vars <- rowVars(counts(sfe))\n",
    "rowData(sfe)$is_neg <- neg_inds"
   ]
  },
  {
   "cell_type": "code",
   "execution_count": null,
<<<<<<< HEAD
<<<<<<< HEAD
<<<<<<< HEAD
   "id": "6bfcd53f",
||||||| fa5abb84
   "id": "9b1f97f1",
=======
   "id": "be42dae2",
>>>>>>> documentation-devel
||||||| 7e3277eb
   "id": "be42dae2",
=======
   "id": "0830f21b",
>>>>>>> documentation-devel
||||||| 971bf77c
<<<<<<< HEAD
   "id": "6bfcd53f",
||||||| fa5abb84
   "id": "9b1f97f1",
=======
   "id": "be42dae2",
>>>>>>> documentation-devel
=======
   "id": "e5f405b2",
>>>>>>> e1d793125c0aeb7e34aca09298b9c5b44973e4b3
   "metadata": {},
   "outputs": [],
   "source": [
    "plotRowData(sfe, x = \"means\", y = \"vars\", bins = 50) +\n",
    "    geom_abline(slope = 1, intercept = 0, color = \"red\") +\n",
    "    scale_x_log10() + scale_y_log10() +\n",
    "    annotation_logticks() +\n",
    "    coord_equal()"
   ]
  },
  {
   "cell_type": "markdown",
<<<<<<< HEAD
<<<<<<< HEAD
<<<<<<< HEAD
   "id": "563aea69",
||||||| fa5abb84
   "id": "0988b44c",
=======
   "id": "33db662c",
>>>>>>> documentation-devel
||||||| 7e3277eb
   "id": "33db662c",
=======
   "id": "e693ca9f",
>>>>>>> documentation-devel
||||||| 971bf77c
<<<<<<< HEAD
   "id": "563aea69",
||||||| fa5abb84
   "id": "0988b44c",
=======
   "id": "33db662c",
>>>>>>> documentation-devel
=======
   "id": "11392bea",
>>>>>>> e1d793125c0aeb7e34aca09298b9c5b44973e4b3
   "metadata": {},
   "source": [
    "The red line $y = x$ is expected from Poisson data. Gene expression in this dataset has more variance than expected from Poisson, even for gene with lower expression. Zoom into the negative controls"
   ]
  },
  {
   "cell_type": "code",
   "execution_count": null,
<<<<<<< HEAD
<<<<<<< HEAD
<<<<<<< HEAD
   "id": "79053195",
||||||| fa5abb84
   "id": "3bbba519",
=======
   "id": "d8a6acc4",
>>>>>>> documentation-devel
||||||| 7e3277eb
   "id": "d8a6acc4",
=======
   "id": "88205c3c",
>>>>>>> documentation-devel
||||||| 971bf77c
<<<<<<< HEAD
   "id": "79053195",
||||||| fa5abb84
   "id": "3bbba519",
=======
   "id": "d8a6acc4",
>>>>>>> documentation-devel
=======
   "id": "5ca3d43a",
>>>>>>> e1d793125c0aeb7e34aca09298b9c5b44973e4b3
   "metadata": {},
   "outputs": [],
   "source": [
    "as.data.frame(rowData(sfe)[neg_inds,]) |> \n",
    "    ggplot(aes(means, vars)) +\n",
    "    geom_point() +\n",
    "    geom_abline(slope = 1, intercept = 0, color = \"red\") +\n",
    "    scale_x_log10() + scale_y_log10() +\n",
    "    annotation_logticks() +\n",
    "    coord_equal()"
   ]
  },
  {
   "cell_type": "markdown",
<<<<<<< HEAD
<<<<<<< HEAD
<<<<<<< HEAD
   "id": "b7b69594",
||||||| fa5abb84
   "id": "0f92a950",
=======
   "id": "367fd573",
>>>>>>> documentation-devel
||||||| 7e3277eb
   "id": "367fd573",
=======
   "id": "1508550d",
>>>>>>> documentation-devel
||||||| 971bf77c
<<<<<<< HEAD
   "id": "b7b69594",
||||||| fa5abb84
   "id": "0f92a950",
=======
   "id": "367fd573",
>>>>>>> documentation-devel
=======
   "id": "77705cfe",
>>>>>>> e1d793125c0aeb7e34aca09298b9c5b44973e4b3
   "metadata": {
    "lines_to_next_cell": 0
   },
   "source": [
    "Among the \"high quality\" cells, the negative controls still have higher variance relative to mean compared to Poisson. \n",
    "\n",
    "Negative controls vs. real genes"
   ]
  },
  {
   "cell_type": "code",
   "execution_count": null,
<<<<<<< HEAD
<<<<<<< HEAD
<<<<<<< HEAD
   "id": "6e845b86",
||||||| fa5abb84
   "id": "63caa468",
=======
   "id": "024a7f48",
>>>>>>> documentation-devel
||||||| 7e3277eb
   "id": "024a7f48",
=======
   "id": "86decd5c",
>>>>>>> documentation-devel
||||||| 971bf77c
<<<<<<< HEAD
   "id": "6e845b86",
||||||| fa5abb84
   "id": "63caa468",
=======
   "id": "024a7f48",
>>>>>>> documentation-devel
=======
   "id": "30161f58",
>>>>>>> e1d793125c0aeb7e34aca09298b9c5b44973e4b3
   "metadata": {},
   "outputs": [],
   "source": [
    "plotRowData(sfe, x = \"means\", y = \"is_neg\") +\n",
    "    scale_y_log10() +\n",
    "    annotation_logticks(sides = \"b\")"
   ]
  },
  {
   "cell_type": "markdown",
<<<<<<< HEAD
<<<<<<< HEAD
<<<<<<< HEAD
   "id": "ad7e3c0a",
||||||| fa5abb84
   "id": "0dfde2b7",
=======
   "id": "9064fdbb",
>>>>>>> documentation-devel
||||||| 7e3277eb
   "id": "9064fdbb",
=======
   "id": "2aef5ffa",
>>>>>>> documentation-devel
||||||| 971bf77c
<<<<<<< HEAD
   "id": "ad7e3c0a",
||||||| fa5abb84
   "id": "0dfde2b7",
=======
   "id": "9064fdbb",
>>>>>>> documentation-devel
=======
   "id": "c935eeec",
>>>>>>> e1d793125c0aeb7e34aca09298b9c5b44973e4b3
   "metadata": {},
   "source": [
    "The negative controls have lower mean \"expression\" than the vast majority of real genes.\n",
    "\n",
    "# Spatial autocorrelation in QC metrics\n",
    "A spatial neighborhood graph is required for spatial dependence analyses with `spdep`. Without a benchmark, we don't yet know which type of neighborhood graph is the best for which purpose. \n",
    "\n",
    "Methods to find spatial neighborhood graphs in `spdep` other than `knearneigh()` (k nearest neighbors), `dnearneigh()` (find cells within a certain distance), and `poly2nb()` (polygon contiguity) are not recommended for larger datasets. While cell-cell contact may be biologically relevant, because cell segmentation is imperfect, leading to non-contiguous cell segmentation polygons for cells that appear contiguous in H&E, only using `poly2nb()` to find polygon contiguity neighbors without supplementing with another kind of neighborhood is problematic. Delaunay triangulation with the `deldir` package, which is used by `spdep` (`tri2nb()`), takes 4 to 5 minutes for a dataset of this size, but the run time increases much more drastically than linearly as the number of cells increases. Sphere of Interest (SOI) graph (`soi.graph()`) prunes edges from triangulation that are too long, and does not take long itself. So triangulation and SOI graph, while slower than `knearneigh()`, `dnearneigh()`, and `poly2nb()`, are somewhat practical considerations. The implementation of `gabrielneigh()` and `relativeneigh()` take impracticably long (over an hour and I terminated the R session out of impatience) for this dataset so are not recommended.\n",
    "\n",
    "Methods to find approximate nearest neighbors such as Annoy (`AnnoyParam()`) and HNSW (`HnswParam()`), as supported by the [`bluster`](https://bioconductor.org/packages/release/bioc/html/bluster.html) and [`BiocNeighbors`](https://bioconductor.org/packages/release/bioc/html/BiocNeighbors.html) packages might speed up finding these graphs, but we haven't formally benchmarked them. \n",
    "\n",
    "See [Chapter 14 of Spatial Data Science](https://r-spatial.org/book/14-Areal.html) on proximity in areal data for a more detailed discussion of the different neighborhood graphs in `spdep`. The methods for areal data are the first to be wrapped by Voyager because much of spatial transcriptomics data is analogous to areal geospatial data, where data from several cells are aggregated over areas, which happens in Visium spots. Just like in geospatial areal data, the Visium aggregation areas are arbitrary and do not represent the underlying spatial process. Although sometimes geographical areal units are not arbitrary, that tissues are generally not in hexagonal grids means that Visium spot polygons are arbitrary in this context. Regions of interest (ROI) selection spatial transcriptomics methods, such as laser capture microdissection (LCM) and GeoMX DSP are more obviously analogous to geospatial areal data. The aggregation also happens when we analyze smFISH-based data at the cell level, if the basic unit of observation is individual transcript spots. \n",
    "\n",
    "While `spdep` caters to areal data, `gstat` caters to geostatistical data, where a continuous spatial process is sampled at point locations. In some ways, spatial transcriptomics data is analogous to geostatistical data. Visium samples the supposed spatial biological process in a regular hexagonal grid, if we pretend that Visium spots are points. In smFISH-based single cell resolution data, the cells observed can be thought of as a sample of an underlying spatial biological process supervening on the specific locations of the cells. In a sense, the cells are not samples, since smFISH based technologies attempt to visualize all cells in the tissue section. However, as the biological function of the tissue does not depend on this particular spatial arrangement of individual cells (i.e. supervenes on this particular spatial arrangement), but more of cell types, the specific cell locations observed can be thought of as samples of the process, if we consider the cell the basic unit of the spatial process. \n",
    "\n",
    "In Voyager 1.2.0 (Bioconductor 3.17), we have added semivariograms (from the [`gstat`](https://cran.r-project.org/web/packages/gstat/index.html) package) as an exploratory tool to identify the presence of spatial autocorrelation, its length scale, and anisotropy (i.e. different in different directions). Covariates can be specified when computing the variogram to account for spatial trends and adjust for another spatial variable. However, unlike Morans's I, the semivariogram can't identify negative spatial autocorrelation, although since the spatial neighborhood graph typically does not encode spatial directions, `spdep` autocorrelation metrics can't identify anisotropy. Another problem with the semivariogram is that it assumes that the data is intrinsically stationary, i.e. the semivariogram holds in the entire dataset, or that similarity between two cells only depends on their distance from each other, which may not be the case when spatial autocorrelation varies in space as evident for some genes in local spatial analyses. \n",
    "\n",
    "Single cell smFISH based data is also dissimiliar to both areal and geostatistical data in important ways. In geospatial areal data, data from numerous basic units of the spatial process (e.g. people in epidemiology) are aggregated over areas (e.g. cities), whereas in histological space, the cell is arguably a more sensible basic unit of the biological spatial process than individual mRNA molecules. Unlike in geostatistical data, the cells as seen in the tissue section are often polygons tessellating the tissue section rather than points. Furthermore, while ideally the samples of the underlying spatial process should not affect the spatial process itself in geostatistical data, the cells play active roles in the biological spatial process. \n",
    "\n",
    "However, data analysis methods for areal and geostatistical data can still be relevant to EDA and descriptive models (not causal or mechanistic) of single cell smFISH data. Different types of spatial neighborhood graphs for cells may be relevant to different processes. For instance, contiguity of cell segmentation polygons is relevant when contact is involved in cell signaling, although cell segmentation is imperfect. Positive spatial autocorrelation here can arise from contact activation, and negative autocorrelation can arise from contact inhibition. However, cells may also be influenced by longer range factors such as secreted ligands, morphogens, and simpler spatial trends like distance to artery and vein. In this case, perhaps the semivariogram and using Euclidean distance between cells as spatial weights in spatial autocorrelation metrics would be more relevant for EDA. It would be interesting to compare the results from different spatial neighborhood graphs and spatial weights, and between `spdep` and `gstat`. Perhaps there is no one best method, but different methods reveal different phenomena. The problem of choosing a spatial neighborhood matrix has a long history far predating spatial transcriptomics. See [@Getis2009-iw] for a brief discussion of decades of work around this issue.\n",
    "\n",
    "Spatial autocorrelation metrics seek to measure how nearby things tend to be more similar or dissimilar, and the neighborhood graph and edge weights define what we mean by \"nearby\" in areal data. Note that because each Visium spot can contain from several to dozens of cells, the spatial neighborhood graphs of Visium spots describe neighborhood relationships of much longer length scales than spatial neighborhood graphs of single cells, so spatial autocorrelation metrics using the Visium graph have different meanings from cellular neighborhood graphs. \n",
    "\n",
    "For now, just to demonstrate software usage, we use the k nearest neighborhood graph with distance based edge weights, as commonly done in graph based clustering in scRNA-seq, although we don't yet know the best value for k in each scenario. For the purpose of this vignette, say use $k = 5$, and the execution time isn't outrageous. The argument `style = \"W\"` is to row normalize the adjacency matrix of the spatial neighborhood graph as this is necessary for Moran scatter plot. Inverse distance edge weights can take small values but what matter is the relative rather than the absolute values as the distance itself is in arbitrary unit; row normalizing the adjacency matrix makes the weighted average value from the neighbors comparable to the value at the cell itself. In this tissue, many cells appear contiguous, but since cell segmentation is imperfect, there are many false singletons, which makes polygon contiguity neighbors from `poly2nb()` problematic without some modification. But based on the distribution of the number of neighbors based on contiguity, $k = 5$ doesn't seem to be a bad approximate for contiguity."
   ]
  },
  {
   "cell_type": "code",
   "execution_count": null,
<<<<<<< HEAD
<<<<<<< HEAD
<<<<<<< HEAD
   "id": "1ff9e0fc",
||||||| fa5abb84
   "id": "c9e2376c",
=======
   "id": "a8d82ad1",
>>>>>>> documentation-devel
||||||| 7e3277eb
   "id": "a8d82ad1",
=======
   "id": "a15d6ddc",
>>>>>>> documentation-devel
||||||| 971bf77c
<<<<<<< HEAD
   "id": "1ff9e0fc",
||||||| fa5abb84
   "id": "c9e2376c",
=======
   "id": "a8d82ad1",
>>>>>>> documentation-devel
=======
   "id": "f45e4161",
>>>>>>> e1d793125c0aeb7e34aca09298b9c5b44973e4b3
   "metadata": {},
   "outputs": [],
   "source": [
    "system.time(\n",
    "    colGraph(sfe, \"knn5\") <- findSpatialNeighbors(sfe, method = \"knearneigh\",\n",
    "                                                  dist_type = \"idw\", k = 5, \n",
    "                                                  style = \"W\")\n",
    "    )"
   ]
  },
  {
   "cell_type": "markdown",
<<<<<<< HEAD
<<<<<<< HEAD
<<<<<<< HEAD
   "id": "8c8bfd6e",
||||||| fa5abb84
   "id": "9d74c69e",
=======
   "id": "e6f602ca",
>>>>>>> documentation-devel
||||||| 7e3277eb
   "id": "e6f602ca",
=======
   "id": "c952114e",
>>>>>>> documentation-devel
||||||| 971bf77c
<<<<<<< HEAD
   "id": "8c8bfd6e",
||||||| fa5abb84
   "id": "9d74c69e",
=======
   "id": "e6f602ca",
>>>>>>> documentation-devel
=======
   "id": "2e2c0a03",
>>>>>>> e1d793125c0aeb7e34aca09298b9c5b44973e4b3
   "metadata": {
    "lines_to_next_cell": 0
   },
   "source": [
    "Now compute Moran's I for some cell QC metrics"
   ]
  },
  {
   "cell_type": "code",
   "execution_count": null,
<<<<<<< HEAD
<<<<<<< HEAD
<<<<<<< HEAD
   "id": "ea3b47cf",
||||||| fa5abb84
   "id": "4dd60d6d",
=======
   "id": "76f07894",
>>>>>>> documentation-devel
||||||| 7e3277eb
   "id": "76f07894",
=======
   "id": "c667272b",
>>>>>>> documentation-devel
||||||| 971bf77c
<<<<<<< HEAD
   "id": "ea3b47cf",
||||||| fa5abb84
   "id": "4dd60d6d",
=======
   "id": "76f07894",
>>>>>>> documentation-devel
=======
   "id": "040f301d",
>>>>>>> e1d793125c0aeb7e34aca09298b9c5b44973e4b3
   "metadata": {},
   "outputs": [],
   "source": [
    "features_use <- c(\"nCounts\", \"nGenes\", \"Area\", \"AspectRatio\")\n",
    "sfe <- colDataMoransI(sfe, features_use, colGraphName = \"knn5\")"
   ]
  },
  {
   "cell_type": "code",
   "execution_count": null,
<<<<<<< HEAD
<<<<<<< HEAD
<<<<<<< HEAD
   "id": "20a76975",
||||||| fa5abb84
   "id": "8077092b",
=======
   "id": "ba1bb436",
>>>>>>> documentation-devel
||||||| 7e3277eb
   "id": "ba1bb436",
=======
   "id": "752c490e",
>>>>>>> documentation-devel
||||||| 971bf77c
<<<<<<< HEAD
   "id": "20a76975",
||||||| fa5abb84
   "id": "8077092b",
=======
   "id": "ba1bb436",
>>>>>>> documentation-devel
=======
   "id": "ff8ef7a1",
>>>>>>> e1d793125c0aeb7e34aca09298b9c5b44973e4b3
   "metadata": {},
   "outputs": [],
   "source": [
    "colFeatureData(sfe)[features_use,]"
   ]
  },
  {
   "cell_type": "markdown",
<<<<<<< HEAD
<<<<<<< HEAD
<<<<<<< HEAD
   "id": "d5bf4193",
||||||| fa5abb84
   "id": "fba0ea24",
=======
   "id": "6960358a",
>>>>>>> documentation-devel
||||||| 7e3277eb
   "id": "6960358a",
=======
   "id": "f5bf37ac",
>>>>>>> documentation-devel
||||||| 971bf77c
<<<<<<< HEAD
   "id": "d5bf4193",
||||||| fa5abb84
   "id": "fba0ea24",
=======
   "id": "6960358a",
>>>>>>> documentation-devel
=======
   "id": "79bda803",
>>>>>>> e1d793125c0aeb7e34aca09298b9c5b44973e4b3
   "metadata": {},
   "source": [
    "Positive spatial autocorrelation is suggested, which is stronger in nCounts and nGenes.\n",
    "\n",
    "What are the length scales of spatial autocorrelation for these QC metrics? It would be nice if the lagged neighborhood graphs can be stored and reused for all features rather than recomputed for each feature as in `spdep::sp.correlogram()` called behind the scene here. This takes a few minutes to run, but not as long as a typical song. Another way to find the length scale of spatial autocorrelation is to bin the cells into bins of different sizes and then find spatial autocorrelation at each bin size, which probably is faster than finding lagged values at higher and higher neighborhoods since `geom_bin2d()` and `geom_hex()` in `ggplot2` run pretty fast even for large datasets. Or use a semivariogram; `gstat` also bins the data when estimating the semivariogram and calculating the semivariogram over very long distance is much faster than the correlogram with cell-cell neighborhood graphs. "
   ]
  },
  {
   "cell_type": "code",
   "execution_count": null,
<<<<<<< HEAD
<<<<<<< HEAD
<<<<<<< HEAD
   "id": "2f1a42f7",
||||||| fa5abb84
   "id": "5eb1209c",
=======
   "id": "13fcadd4",
>>>>>>> documentation-devel
||||||| 7e3277eb
   "id": "13fcadd4",
=======
   "id": "8331c4b4",
>>>>>>> documentation-devel
||||||| 971bf77c
<<<<<<< HEAD
   "id": "2f1a42f7",
||||||| fa5abb84
   "id": "5eb1209c",
=======
   "id": "13fcadd4",
>>>>>>> documentation-devel
=======
   "id": "69b901b2",
>>>>>>> e1d793125c0aeb7e34aca09298b9c5b44973e4b3
   "metadata": {},
   "outputs": [],
   "source": [
    "system.time(\n",
    "    sfe <- colDataUnivariate(sfe, \"sp.correlogram\", features = features_use,\n",
    "                         colGraphName = \"knn5\", order = 6, zero.policy = TRUE,\n",
    "                         BPPARAM = MulticoreParam(2))\n",
    ")"
   ]
  },
  {
   "cell_type": "markdown",
<<<<<<< HEAD
<<<<<<< HEAD
<<<<<<< HEAD
   "id": "ed2d59e3",
||||||| fa5abb84
   "id": "eb9cd498",
=======
   "id": "3e5307f3",
>>>>>>> documentation-devel
||||||| 7e3277eb
   "id": "3e5307f3",
=======
   "id": "0aadd746",
>>>>>>> documentation-devel
||||||| 971bf77c
<<<<<<< HEAD
   "id": "ed2d59e3",
||||||| fa5abb84
   "id": "eb9cd498",
=======
   "id": "3e5307f3",
>>>>>>> documentation-devel
=======
   "id": "e5870b6c",
>>>>>>> e1d793125c0aeb7e34aca09298b9c5b44973e4b3
   "metadata": {},
   "source": [
    "Note that `MulticoreParam()` doesn't work on Windows; this vignette was built on Linux. Use `SnowParam()` or `DoparParam()` for Windows. See `?BiocParallelParam` for the available parallel processing backends. We did not notice significant performance differences between `ShowParam()` and `MulticoreParam()` in this context."
   ]
  },
  {
   "cell_type": "code",
   "execution_count": null,
<<<<<<< HEAD
<<<<<<< HEAD
<<<<<<< HEAD
   "id": "dff8c4be",
||||||| fa5abb84
   "id": "dcf57215",
=======
   "id": "a77e9fd3",
>>>>>>> documentation-devel
||||||| 7e3277eb
   "id": "a77e9fd3",
=======
   "id": "e2ed8a92",
>>>>>>> documentation-devel
||||||| 971bf77c
<<<<<<< HEAD
   "id": "dff8c4be",
||||||| fa5abb84
   "id": "dcf57215",
=======
   "id": "a77e9fd3",
>>>>>>> documentation-devel
=======
   "id": "6e9a816c",
>>>>>>> e1d793125c0aeb7e34aca09298b9c5b44973e4b3
   "metadata": {},
   "outputs": [],
   "source": [
    "plotCorrelogram(sfe, features_use)"
   ]
  },
  {
   "cell_type": "markdown",
<<<<<<< HEAD
<<<<<<< HEAD
<<<<<<< HEAD
   "id": "35c37915",
||||||| fa5abb84
   "id": "fc1d8749",
=======
   "id": "9f337c2b",
>>>>>>> documentation-devel
||||||| 7e3277eb
   "id": "9f337c2b",
=======
   "id": "dd31671d",
>>>>>>> documentation-devel
||||||| 971bf77c
<<<<<<< HEAD
   "id": "35c37915",
||||||| fa5abb84
   "id": "fc1d8749",
=======
   "id": "9f337c2b",
>>>>>>> documentation-devel
=======
   "id": "c9e70fdd",
>>>>>>> e1d793125c0aeb7e34aca09298b9c5b44973e4b3
   "metadata": {
    "lines_to_next_cell": 0
   },
   "source": [
    "They seem to have similar length scales, but aspect ratios tend to decay more quickly.\n",
    "\n",
    "Moran's scatter plot for nCounts. "
   ]
  },
  {
   "cell_type": "code",
   "execution_count": null,
<<<<<<< HEAD
<<<<<<< HEAD
<<<<<<< HEAD
   "id": "599f352e",
||||||| fa5abb84
   "id": "9147615f",
=======
   "id": "49da050e",
>>>>>>> documentation-devel
||||||| 7e3277eb
   "id": "49da050e",
=======
   "id": "9d46cf1a",
>>>>>>> documentation-devel
||||||| 971bf77c
<<<<<<< HEAD
   "id": "599f352e",
||||||| fa5abb84
   "id": "9147615f",
=======
   "id": "49da050e",
>>>>>>> documentation-devel
=======
   "id": "1dc268a6",
>>>>>>> e1d793125c0aeb7e34aca09298b9c5b44973e4b3
   "metadata": {},
   "outputs": [],
   "source": [
    "sfe <- colDataUnivariate(sfe, \"moran.plot\", \"nCounts\", colGraphName = \"knn5\")"
   ]
  },
  {
   "cell_type": "markdown",
<<<<<<< HEAD
<<<<<<< HEAD
<<<<<<< HEAD
   "id": "73acf8eb",
||||||| fa5abb84
   "id": "7aab6852",
=======
   "id": "1da35168",
>>>>>>> documentation-devel
||||||| 7e3277eb
   "id": "1da35168",
=======
   "id": "25926321",
>>>>>>> documentation-devel
||||||| 971bf77c
<<<<<<< HEAD
   "id": "73acf8eb",
||||||| fa5abb84
   "id": "7aab6852",
=======
   "id": "1da35168",
>>>>>>> documentation-devel
=======
   "id": "ffcc87bd",
>>>>>>> e1d793125c0aeb7e34aca09298b9c5b44973e4b3
   "metadata": {
    "lines_to_next_cell": 0
   },
   "source": [
    "In the first panel, the density is for all points in this plot, and in the second, the points influential to fitting the line are highlighted in red, still a 2D histogram to avoid overplotting."
   ]
  },
  {
   "cell_type": "code",
   "execution_count": null,
<<<<<<< HEAD
<<<<<<< HEAD
<<<<<<< HEAD
   "id": "f7da84de",
||||||| fa5abb84
   "id": "2db34bf9",
=======
   "id": "33ee6c24",
>>>>>>> documentation-devel
||||||| 7e3277eb
   "id": "33ee6c24",
=======
   "id": "a402fbf2",
>>>>>>> documentation-devel
||||||| 971bf77c
<<<<<<< HEAD
   "id": "f7da84de",
||||||| fa5abb84
   "id": "2db34bf9",
=======
   "id": "33ee6c24",
>>>>>>> documentation-devel
=======
   "id": "5296e2cb",
>>>>>>> e1d793125c0aeb7e34aca09298b9c5b44973e4b3
   "metadata": {
    "fig.height": 7,
    "fig.width": 8
   },
   "outputs": [],
   "source": [
    "p1 <- moranPlot(sfe, \"nCounts\", binned = TRUE, plot_influential = FALSE)\n",
    "p2 <- moranPlot(sfe, \"nCounts\", binned = TRUE)\n",
    "p1 / p2 + plot_layout(guides = \"collect\")"
   ]
  },
  {
   "cell_type": "markdown",
<<<<<<< HEAD
<<<<<<< HEAD
<<<<<<< HEAD
   "id": "54dbce76",
||||||| fa5abb84
   "id": "ca2ebd84",
=======
   "id": "b3638535",
>>>>>>> documentation-devel
||||||| 7e3277eb
   "id": "b3638535",
=======
   "id": "912177bb",
>>>>>>> documentation-devel
||||||| 971bf77c
<<<<<<< HEAD
   "id": "54dbce76",
||||||| fa5abb84
   "id": "ca2ebd84",
=======
   "id": "b3638535",
>>>>>>> documentation-devel
=======
   "id": "d12ad152",
>>>>>>> e1d793125c0aeb7e34aca09298b9c5b44973e4b3
   "metadata": {
    "lines_to_next_cell": 0
   },
   "source": [
    "There are no obvious clusters in this plot.\n",
    "\n",
    "Local Moran's I for nCounts"
   ]
  },
  {
   "cell_type": "code",
   "execution_count": null,
<<<<<<< HEAD
<<<<<<< HEAD
<<<<<<< HEAD
   "id": "649f89c7",
||||||| fa5abb84
   "id": "04ea1977",
=======
   "id": "9a5d46eb",
>>>>>>> documentation-devel
||||||| 7e3277eb
   "id": "9a5d46eb",
=======
   "id": "9a173465",
>>>>>>> documentation-devel
||||||| 971bf77c
<<<<<<< HEAD
   "id": "649f89c7",
||||||| fa5abb84
   "id": "04ea1977",
=======
   "id": "9a5d46eb",
>>>>>>> documentation-devel
=======
   "id": "7ee6907b",
>>>>>>> e1d793125c0aeb7e34aca09298b9c5b44973e4b3
   "metadata": {},
   "outputs": [],
   "source": [
    "sfe <- colDataUnivariate(sfe, \"localmoran\", \"nCounts\", colGraphName = \"knn5\")"
   ]
  },
  {
   "cell_type": "code",
   "execution_count": null,
<<<<<<< HEAD
<<<<<<< HEAD
<<<<<<< HEAD
   "id": "2628c327",
||||||| fa5abb84
   "id": "368bf5e3",
=======
   "id": "8b4b7246",
>>>>>>> documentation-devel
||||||| 7e3277eb
   "id": "8b4b7246",
=======
   "id": "9a37f8d1",
>>>>>>> documentation-devel
||||||| 971bf77c
<<<<<<< HEAD
   "id": "2628c327",
||||||| fa5abb84
   "id": "368bf5e3",
=======
   "id": "8b4b7246",
>>>>>>> documentation-devel
=======
   "id": "b01e74f3",
>>>>>>> e1d793125c0aeb7e34aca09298b9c5b44973e4b3
   "metadata": {},
   "outputs": [],
   "source": [
    "plotLocalResult(sfe, \"localmoran\", \"nCounts\", colGeometryName = \"cellSeg\",\n",
    "                divergent = TRUE, diverge_center = 0)"
   ]
  },
  {
   "cell_type": "markdown",
<<<<<<< HEAD
<<<<<<< HEAD
<<<<<<< HEAD
   "id": "bcbf6ed7",
||||||| fa5abb84
   "id": "fc92d561",
=======
   "id": "66c5ccb9",
>>>>>>> documentation-devel
||||||| 7e3277eb
   "id": "66c5ccb9",
=======
   "id": "7b2e17dd",
>>>>>>> documentation-devel
||||||| 971bf77c
<<<<<<< HEAD
   "id": "bcbf6ed7",
||||||| fa5abb84
   "id": "fc92d561",
=======
   "id": "66c5ccb9",
>>>>>>> documentation-devel
=======
   "id": "d71e5b10",
>>>>>>> e1d793125c0aeb7e34aca09298b9c5b44973e4b3
   "metadata": {},
   "source": [
    "Cool, it appears that the epithelial regions tend to be more homogenous in nCounts.\n",
    "\n",
    "# Data normalization\n",
    "Given that there may be some relationship between cell size and total counts, and that total counts may be biological and thus not purely treated as technical, questions are raised about data normalization and how it should be different from the standard scRNA-seq practices. For instance, what are technical contributions to total counts for this kind of data? Furthermore, what to do with cell area, since part of it is technical, in where the z-plane of cell segmentation polygons intersects each cell, but for some cell types, it could be biological? Also, how would different methods of data normalization affect spatial autocorrelation? Should spatial autocorrelation be used in some ways when normalizing data? Besides correcting for technical effects and making gene expression in cells with different total counts more comparable, data normalization stabilizes variance and tries to make the data more normally distributed since many statistical methods assume normally distributed data. So while we don't know the best practice to normalize this kind of data, we will still normalize the data for downstream analyses."
   ]
  },
  {
   "cell_type": "code",
   "execution_count": null,
<<<<<<< HEAD
<<<<<<< HEAD
<<<<<<< HEAD
   "id": "7ab442fd",
||||||| fa5abb84
   "id": "945ef23f",
=======
   "id": "cf023f80",
>>>>>>> documentation-devel
||||||| 7e3277eb
   "id": "cf023f80",
=======
   "id": "b795f5b7",
>>>>>>> documentation-devel
||||||| 971bf77c
<<<<<<< HEAD
   "id": "7ab442fd",
||||||| fa5abb84
   "id": "945ef23f",
=======
   "id": "cf023f80",
>>>>>>> documentation-devel
=======
   "id": "9e7647a2",
>>>>>>> e1d793125c0aeb7e34aca09298b9c5b44973e4b3
   "metadata": {},
   "outputs": [],
   "source": [
    "sfe <- logNormCounts(sfe)"
   ]
  },
  {
   "cell_type": "markdown",
<<<<<<< HEAD
<<<<<<< HEAD
<<<<<<< HEAD
   "id": "e5704381",
||||||| fa5abb84
   "id": "bfaec8e6",
=======
   "id": "418ee6a2",
>>>>>>> documentation-devel
||||||| 7e3277eb
   "id": "418ee6a2",
=======
   "id": "c4c4ab3a",
>>>>>>> documentation-devel
||||||| 971bf77c
<<<<<<< HEAD
   "id": "e5704381",
||||||| fa5abb84
   "id": "bfaec8e6",
=======
   "id": "418ee6a2",
>>>>>>> documentation-devel
=======
   "id": "40c722a9",
>>>>>>> e1d793125c0aeb7e34aca09298b9c5b44973e4b3
   "metadata": {
    "lines_to_next_cell": 0
   },
   "source": [
    "# Moran's I\n",
    "\n",
    "Here we run global Moran's I on log normalized gene expression."
   ]
  },
  {
   "cell_type": "code",
   "execution_count": null,
<<<<<<< HEAD
<<<<<<< HEAD
<<<<<<< HEAD
   "id": "0a8bb211",
||||||| fa5abb84
   "id": "04c45739",
=======
   "id": "686695f0",
>>>>>>> documentation-devel
||||||| 7e3277eb
   "id": "686695f0",
=======
   "id": "596afb18",
>>>>>>> documentation-devel
||||||| 971bf77c
<<<<<<< HEAD
   "id": "0a8bb211",
||||||| fa5abb84
   "id": "04c45739",
=======
   "id": "686695f0",
>>>>>>> documentation-devel
=======
   "id": "0f190331",
>>>>>>> e1d793125c0aeb7e34aca09298b9c5b44973e4b3
   "metadata": {},
   "outputs": [],
   "source": [
    "# Note: on your computer, you can put progressbar = TRUE inside MulticoreParam()\n",
    "# to show progress bar. This applies to any BiocParallParam.\n",
    "sfe <- runMoransI(sfe, features = rownames(sfe), \n",
    "                  BPPARAM = MulticoreParam(2))"
   ]
  },
  {
   "cell_type": "markdown",
<<<<<<< HEAD
<<<<<<< HEAD
<<<<<<< HEAD
   "id": "38f9bbe6",
||||||| fa5abb84
   "id": "3066f4ba",
=======
   "id": "e835b2b7",
>>>>>>> documentation-devel
||||||| 7e3277eb
   "id": "e835b2b7",
=======
   "id": "9ce10646",
>>>>>>> documentation-devel
||||||| 971bf77c
<<<<<<< HEAD
   "id": "38f9bbe6",
||||||| fa5abb84
   "id": "3066f4ba",
=======
   "id": "e835b2b7",
>>>>>>> documentation-devel
=======
   "id": "2482810a",
>>>>>>> e1d793125c0aeb7e34aca09298b9c5b44973e4b3
   "metadata": {
    "lines_to_next_cell": 0
   },
   "source": [
    "Do real genes tend to have more spatial autocorrelation than negative controls?"
   ]
  },
  {
   "cell_type": "code",
   "execution_count": null,
<<<<<<< HEAD
<<<<<<< HEAD
<<<<<<< HEAD
   "id": "1230da93",
||||||| fa5abb84
   "id": "28418c14",
=======
   "id": "32328256",
>>>>>>> documentation-devel
||||||| 7e3277eb
   "id": "32328256",
=======
   "id": "619384c1",
>>>>>>> documentation-devel
||||||| 971bf77c
<<<<<<< HEAD
   "id": "1230da93",
||||||| fa5abb84
   "id": "28418c14",
=======
   "id": "32328256",
>>>>>>> documentation-devel
=======
   "id": "030d23c4",
>>>>>>> e1d793125c0aeb7e34aca09298b9c5b44973e4b3
   "metadata": {},
   "outputs": [],
   "source": [
    "plotRowData(sfe, x = \"moran_sample01\", y = \"is_neg\") +\n",
    "    geom_hline(yintercept = 0, linetype = 2)"
   ]
  },
  {
   "cell_type": "markdown",
<<<<<<< HEAD
<<<<<<< HEAD
<<<<<<< HEAD
   "id": "10028f6a",
||||||| fa5abb84
   "id": "876d6784",
=======
   "id": "b950ade7",
>>>>>>> documentation-devel
||||||| 7e3277eb
   "id": "b950ade7",
=======
   "id": "3a0b5e3c",
>>>>>>> documentation-devel
||||||| 971bf77c
<<<<<<< HEAD
   "id": "10028f6a",
||||||| fa5abb84
   "id": "876d6784",
=======
   "id": "b950ade7",
>>>>>>> documentation-devel
=======
   "id": "26a0e952",
>>>>>>> e1d793125c0aeb7e34aca09298b9c5b44973e4b3
   "metadata": {
    "lines_to_next_cell": 0
   },
   "source": [
    "It seems that at least at the shorter length scale captured by the k nearest neighbor graph, most genes don't have strong spatial autocorrelation while some have strong positive spatial autocorrelation. In contrast, Moran's I for the negative controls is closely packed around 0, indicating lack of spatial autocorrelation, which is a good sign, that there is no evidence of a technical artifact that manifests as a spatial trend manifest in the negative controls.\n",
    "\n",
    "What are the genes with the highest Moran's I?"
   ]
  },
  {
   "cell_type": "code",
   "execution_count": null,
<<<<<<< HEAD
<<<<<<< HEAD
<<<<<<< HEAD
   "id": "d1995c0d",
||||||| fa5abb84
   "id": "350f5823",
=======
   "id": "f722aa8a",
>>>>>>> documentation-devel
||||||| 7e3277eb
   "id": "f722aa8a",
=======
   "id": "34233659",
>>>>>>> documentation-devel
||||||| 971bf77c
<<<<<<< HEAD
   "id": "d1995c0d",
||||||| fa5abb84
   "id": "350f5823",
=======
   "id": "f722aa8a",
>>>>>>> documentation-devel
=======
   "id": "f2132bc1",
>>>>>>> e1d793125c0aeb7e34aca09298b9c5b44973e4b3
   "metadata": {
    "fig.height": 9,
    "fig.width": 9
   },
   "outputs": [],
   "source": [
    "top_moran <- rownames(sfe)[order(rowData(sfe)$moran_sample01, decreasing = TRUE)[1:6]]\n",
    "plotSpatialFeature(sfe, top_moran, colGeometryName = \"centroids\", \n",
    "                   scattermore = TRUE, ncol = 2)"
   ]
  },
  {
   "cell_type": "markdown",
<<<<<<< HEAD
<<<<<<< HEAD
<<<<<<< HEAD
   "id": "2a0ff59a",
||||||| fa5abb84
   "id": "2cf3a565",
=======
   "id": "a2c4cb20",
>>>>>>> documentation-devel
||||||| 7e3277eb
   "id": "a2c4cb20",
=======
   "id": "60fdd3b9",
>>>>>>> documentation-devel
||||||| 971bf77c
<<<<<<< HEAD
   "id": "2a0ff59a",
||||||| fa5abb84
   "id": "2cf3a565",
=======
   "id": "a2c4cb20",
>>>>>>> documentation-devel
=======
   "id": "78ed6c98",
>>>>>>> e1d793125c0aeb7e34aca09298b9c5b44973e4b3
   "metadata": {
    "lines_to_next_cell": 0
   },
   "source": [
    "They all highlight the same epithelial regions. It could be that other regions are not as spatially organized, or that a short length scale is used for Moran's I here but the correlogram shows that Moran's I decays after the first order neighbors. I wonder how using a longer length scale would change the results.\n",
    "\n",
    "# Non-spatial dimension reduction and clustering"
   ]
  },
  {
   "cell_type": "code",
   "execution_count": null,
<<<<<<< HEAD
<<<<<<< HEAD
<<<<<<< HEAD
   "id": "bea71000",
||||||| fa5abb84
   "id": "76040f41",
=======
   "id": "4f0d86bc",
>>>>>>> documentation-devel
||||||| 7e3277eb
   "id": "4f0d86bc",
=======
   "id": "d2db0a67",
>>>>>>> documentation-devel
||||||| 971bf77c
<<<<<<< HEAD
   "id": "bea71000",
||||||| fa5abb84
   "id": "76040f41",
=======
   "id": "4f0d86bc",
>>>>>>> documentation-devel
=======
   "id": "c4d822d2",
>>>>>>> e1d793125c0aeb7e34aca09298b9c5b44973e4b3
   "metadata": {},
   "outputs": [],
   "source": [
    "set.seed(29)\n",
    "sfe <- runPCA(sfe, ncomponents = 30, scale = TRUE, BSPARAM = IrlbaParam())"
   ]
  },
  {
   "cell_type": "code",
   "execution_count": null,
<<<<<<< HEAD
<<<<<<< HEAD
<<<<<<< HEAD
   "id": "3d4ec809",
||||||| fa5abb84
   "id": "1cca8563",
=======
   "id": "35dc945e",
>>>>>>> documentation-devel
||||||| 7e3277eb
   "id": "35dc945e",
=======
   "id": "95ff73dc",
>>>>>>> documentation-devel
||||||| 971bf77c
<<<<<<< HEAD
   "id": "3d4ec809",
||||||| fa5abb84
   "id": "1cca8563",
=======
   "id": "35dc945e",
>>>>>>> documentation-devel
=======
   "id": "912bbf9b",
>>>>>>> e1d793125c0aeb7e34aca09298b9c5b44973e4b3
   "metadata": {},
   "outputs": [],
   "source": [
    "ElbowPlot(sfe, ndims = 30)"
   ]
  },
  {
   "cell_type": "code",
   "execution_count": null,
<<<<<<< HEAD
<<<<<<< HEAD
<<<<<<< HEAD
   "id": "e1cead8a",
||||||| fa5abb84
   "id": "31398dac",
=======
   "id": "4c249428",
>>>>>>> documentation-devel
||||||| 7e3277eb
   "id": "4c249428",
=======
   "id": "da2b90de",
>>>>>>> documentation-devel
||||||| 971bf77c
<<<<<<< HEAD
   "id": "e1cead8a",
||||||| fa5abb84
   "id": "31398dac",
=======
   "id": "4c249428",
>>>>>>> documentation-devel
=======
   "id": "097e0d17",
>>>>>>> e1d793125c0aeb7e34aca09298b9c5b44973e4b3
   "metadata": {},
   "outputs": [],
   "source": [
    "plotDimLoadings(sfe, dims = 1:6)"
   ]
  },
  {
   "cell_type": "code",
   "execution_count": null,
<<<<<<< HEAD
<<<<<<< HEAD
<<<<<<< HEAD
   "id": "46b77528",
||||||| fa5abb84
   "id": "2b587c7d",
=======
   "id": "7c2d4537",
>>>>>>> documentation-devel
||||||| 7e3277eb
   "id": "7c2d4537",
=======
   "id": "f66a20fe",
>>>>>>> documentation-devel
||||||| 971bf77c
<<<<<<< HEAD
   "id": "46b77528",
||||||| fa5abb84
   "id": "2b587c7d",
=======
   "id": "7c2d4537",
>>>>>>> documentation-devel
=======
   "id": "34332afb",
>>>>>>> e1d793125c0aeb7e34aca09298b9c5b44973e4b3
   "metadata": {
    "fig.height": 9,
    "fig.width": 9
   },
   "outputs": [],
   "source": [
    "spatialReducedDim(sfe, \"PCA\", 6, colGeometryName = \"centroids\", divergent = TRUE,\n",
    "                  diverge_center = 0, ncol = 2, scattermore = TRUE)"
   ]
  },
  {
   "cell_type": "markdown",
<<<<<<< HEAD
<<<<<<< HEAD
<<<<<<< HEAD
   "id": "00772f59",
||||||| fa5abb84
   "id": "0519f90c",
=======
   "id": "3248c6b8",
>>>>>>> documentation-devel
||||||| 7e3277eb
   "id": "3248c6b8",
=======
   "id": "398bc1f7",
>>>>>>> documentation-devel
||||||| 971bf77c
<<<<<<< HEAD
   "id": "00772f59",
||||||| fa5abb84
   "id": "0519f90c",
=======
   "id": "3248c6b8",
>>>>>>> documentation-devel
=======
   "id": "981bbe90",
>>>>>>> e1d793125c0aeb7e34aca09298b9c5b44973e4b3
   "metadata": {
    "lines_to_next_cell": 0
   },
   "source": [
    "The first PC highlights the epithelium. PC2 highlights T cells. PC4 might highlight other leukocytes. Need to check the genes with the highest loadings to find what the other PCs mean.\n",
    "\n",
    "Non-spatial clustering and locating the clusters in space"
   ]
  },
  {
   "cell_type": "code",
   "execution_count": null,
<<<<<<< HEAD
<<<<<<< HEAD
<<<<<<< HEAD
   "id": "f3e9ec28",
||||||| fa5abb84
   "id": "18de31da",
=======
   "id": "b5420015",
>>>>>>> documentation-devel
||||||| 7e3277eb
   "id": "b5420015",
=======
   "id": "57b57131",
>>>>>>> documentation-devel
||||||| 971bf77c
<<<<<<< HEAD
   "id": "f3e9ec28",
||||||| fa5abb84
   "id": "18de31da",
=======
   "id": "b5420015",
>>>>>>> documentation-devel
=======
   "id": "ade8af6b",
>>>>>>> e1d793125c0aeb7e34aca09298b9c5b44973e4b3
   "metadata": {},
   "outputs": [],
   "source": [
    "colData(sfe)$cluster <- clusterRows(reducedDim(sfe, \"PCA\")[,1:15],\n",
    "                                    BLUSPARAM = SNNGraphParam(\n",
    "                                        cluster.fun = \"leiden\",\n",
    "                                        cluster.args = list(\n",
    "                                            resolution_parameter = 0.5,\n",
    "                                            objective_function = \"modularity\")))"
   ]
  },
  {
   "cell_type": "code",
   "execution_count": null,
<<<<<<< HEAD
<<<<<<< HEAD
<<<<<<< HEAD
   "id": "64799b71",
||||||| fa5abb84
   "id": "ce69594f",
=======
   "id": "b14d186b",
>>>>>>> documentation-devel
||||||| 7e3277eb
   "id": "b14d186b",
=======
   "id": "7e57e288",
>>>>>>> documentation-devel
||||||| 971bf77c
<<<<<<< HEAD
   "id": "64799b71",
||||||| fa5abb84
   "id": "ce69594f",
=======
   "id": "b14d186b",
>>>>>>> documentation-devel
=======
   "id": "ea998ac9",
>>>>>>> e1d793125c0aeb7e34aca09298b9c5b44973e4b3
   "metadata": {},
   "outputs": [],
   "source": [
    "data(\"ditto_colors\")"
   ]
  },
  {
   "cell_type": "code",
   "execution_count": null,
<<<<<<< HEAD
<<<<<<< HEAD
<<<<<<< HEAD
   "id": "c6ec880b",
||||||| fa5abb84
   "id": "4108c9b3",
=======
   "id": "7ae1afb7",
>>>>>>> documentation-devel
||||||| 7e3277eb
   "id": "7ae1afb7",
=======
   "id": "52a1755d",
>>>>>>> documentation-devel
||||||| 971bf77c
<<<<<<< HEAD
   "id": "c6ec880b",
||||||| fa5abb84
   "id": "4108c9b3",
=======
   "id": "7ae1afb7",
>>>>>>> documentation-devel
=======
   "id": "31470c66",
>>>>>>> e1d793125c0aeb7e34aca09298b9c5b44973e4b3
   "metadata": {
    "fig.height": 8,
    "fig.width": 8
   },
   "outputs": [],
   "source": [
    "plotPCA(sfe, ncomponents = 4, colour_by = \"cluster\") +\n",
    "    scale_color_manual(values = ditto_colors)"
   ]
  },
  {
   "cell_type": "code",
   "execution_count": null,
<<<<<<< HEAD
<<<<<<< HEAD
<<<<<<< HEAD
   "id": "e08c3b7d",
||||||| fa5abb84
   "id": "7b61c345",
=======
   "id": "63af7b6f",
>>>>>>> documentation-devel
||||||| 7e3277eb
   "id": "63af7b6f",
=======
   "id": "2d67428e",
>>>>>>> documentation-devel
||||||| 971bf77c
<<<<<<< HEAD
   "id": "e08c3b7d",
||||||| fa5abb84
   "id": "7b61c345",
=======
   "id": "63af7b6f",
>>>>>>> documentation-devel
=======
   "id": "d11e29ac",
>>>>>>> e1d793125c0aeb7e34aca09298b9c5b44973e4b3
   "metadata": {},
   "outputs": [],
   "source": [
    "plotSpatialFeature(sfe, \"cluster\", colGeometryName = \"cellSeg\")"
   ]
  },
  {
   "cell_type": "markdown",
<<<<<<< HEAD
<<<<<<< HEAD
<<<<<<< HEAD
   "id": "a7abba4b",
||||||| fa5abb84
   "id": "220135e0",
=======
   "id": "9b272a2e",
>>>>>>> documentation-devel
||||||| 7e3277eb
   "id": "9b272a2e",
=======
   "id": "9f7eeab8",
>>>>>>> documentation-devel
||||||| 971bf77c
<<<<<<< HEAD
   "id": "a7abba4b",
||||||| fa5abb84
   "id": "220135e0",
=======
   "id": "9b272a2e",
>>>>>>> documentation-devel
=======
   "id": "82e79f42",
>>>>>>> e1d793125c0aeb7e34aca09298b9c5b44973e4b3
   "metadata": {
    "lines_to_next_cell": 0
   },
   "source": [
    "Further analyses that can be done at this stage:\n",
    "\n",
    "* Which and how many cell types are in the neighborhood of each cell? This is subject to the different definitions of the neighborhood.\n",
    "* Which cell types tend to co-localize where?\n",
    "* Find spatial regions based on cell type colocalization, which can be done with the R package [`spicyR`](https://bioconductor.org/packages/release/bioc/html/spicyR.html) [@Canete2022-tz]\n",
    "\n",
    "# Differential expression\n",
    "Cluster marker genes are found with Wilcoxon rank sum test as commonly done for scRNA-seq."
   ]
  },
  {
   "cell_type": "code",
   "execution_count": null,
<<<<<<< HEAD
<<<<<<< HEAD
<<<<<<< HEAD
   "id": "600e8719",
||||||| fa5abb84
   "id": "373581ae",
=======
   "id": "41a3edf3",
>>>>>>> documentation-devel
||||||| 7e3277eb
   "id": "41a3edf3",
=======
   "id": "4f2c2d2b",
>>>>>>> documentation-devel
||||||| 971bf77c
<<<<<<< HEAD
   "id": "600e8719",
||||||| fa5abb84
   "id": "373581ae",
=======
   "id": "41a3edf3",
>>>>>>> documentation-devel
=======
   "id": "764beaae",
>>>>>>> e1d793125c0aeb7e34aca09298b9c5b44973e4b3
   "metadata": {},
   "outputs": [],
   "source": [
    "markers <- findMarkers(sfe, groups = colData(sfe)$cluster,\n",
    "                       test.type = \"wilcox\", pval.type = \"all\", direction = \"up\")"
   ]
  },
  {
   "cell_type": "markdown",
<<<<<<< HEAD
<<<<<<< HEAD
<<<<<<< HEAD
   "id": "8a6d95b0",
||||||| fa5abb84
   "id": "88927470",
=======
   "id": "ff15c5d7",
>>>>>>> documentation-devel
||||||| 7e3277eb
   "id": "ff15c5d7",
=======
   "id": "f56bad08",
>>>>>>> documentation-devel
||||||| 971bf77c
<<<<<<< HEAD
   "id": "8a6d95b0",
||||||| fa5abb84
   "id": "88927470",
=======
   "id": "ff15c5d7",
>>>>>>> documentation-devel
=======
   "id": "d333916c",
>>>>>>> e1d793125c0aeb7e34aca09298b9c5b44973e4b3
   "metadata": {
    "lines_to_next_cell": 0
   },
   "source": [
    "It's already sorted by p-values."
   ]
  },
  {
   "cell_type": "code",
   "execution_count": null,
<<<<<<< HEAD
<<<<<<< HEAD
<<<<<<< HEAD
   "id": "702f791d",
||||||| fa5abb84
   "id": "8bc45ec1",
=======
   "id": "c8ffae0e",
>>>>>>> documentation-devel
||||||| 7e3277eb
   "id": "c8ffae0e",
=======
   "id": "69af3df8",
>>>>>>> documentation-devel
||||||| 971bf77c
<<<<<<< HEAD
   "id": "702f791d",
||||||| fa5abb84
   "id": "8bc45ec1",
=======
   "id": "c8ffae0e",
>>>>>>> documentation-devel
=======
   "id": "9d791736",
>>>>>>> e1d793125c0aeb7e34aca09298b9c5b44973e4b3
   "metadata": {},
   "outputs": [],
   "source": [
    "markers[[6]]"
   ]
  },
  {
   "cell_type": "markdown",
<<<<<<< HEAD
<<<<<<< HEAD
<<<<<<< HEAD
   "id": "66a8177f",
||||||| fa5abb84
   "id": "6046bde0",
=======
   "id": "4d81b007",
>>>>>>> documentation-devel
||||||| 7e3277eb
   "id": "4d81b007",
=======
   "id": "feb5c0cc",
>>>>>>> documentation-devel
||||||| 971bf77c
<<<<<<< HEAD
   "id": "66a8177f",
||||||| fa5abb84
   "id": "6046bde0",
=======
   "id": "4d81b007",
>>>>>>> documentation-devel
=======
   "id": "2836bb98",
>>>>>>> e1d793125c0aeb7e34aca09298b9c5b44973e4b3
   "metadata": {
    "lines_to_next_cell": 0
   },
   "source": [
    "Get the the significant marker for each cluster to plot. Since there're too many points, here we used the development version of `scater` to not to plot the points, which are uninformative due to overplotting and make this plot really slow."
   ]
  },
  {
   "cell_type": "code",
   "execution_count": null,
<<<<<<< HEAD
<<<<<<< HEAD
<<<<<<< HEAD
   "id": "79710756",
||||||| fa5abb84
   "id": "91da4dc9",
=======
   "id": "7e368e7f",
>>>>>>> documentation-devel
||||||| 7e3277eb
   "id": "7e368e7f",
=======
   "id": "61c7db19",
>>>>>>> documentation-devel
||||||| 971bf77c
<<<<<<< HEAD
   "id": "79710756",
||||||| fa5abb84
   "id": "91da4dc9",
=======
   "id": "7e368e7f",
>>>>>>> documentation-devel
=======
   "id": "056c92a1",
>>>>>>> e1d793125c0aeb7e34aca09298b9c5b44973e4b3
   "metadata": {},
   "outputs": [],
   "source": [
    "genes_use <- vapply(markers, function(x) rownames(x)[1], FUN.VALUE = character(1))\n",
    "plotExpression(sfe, genes_use, x = \"cluster\", point_fun = function(...) list())"
   ]
  },
  {
   "cell_type": "markdown",
<<<<<<< HEAD
<<<<<<< HEAD
<<<<<<< HEAD
   "id": "8a0148fe",
||||||| fa5abb84
   "id": "d0767912",
=======
   "id": "115b10f9",
>>>>>>> documentation-devel
||||||| 7e3277eb
   "id": "115b10f9",
=======
   "id": "c9c9edb1",
>>>>>>> documentation-devel
||||||| 971bf77c
<<<<<<< HEAD
   "id": "8a0148fe",
||||||| fa5abb84
   "id": "d0767912",
=======
   "id": "115b10f9",
>>>>>>> documentation-devel
=======
   "id": "143c12be",
>>>>>>> e1d793125c0aeb7e34aca09298b9c5b44973e4b3
   "metadata": {
    "lines_to_next_cell": 0
   },
   "source": [
    "Plot more top marker genes in a heatmap"
   ]
  },
  {
   "cell_type": "code",
   "execution_count": null,
<<<<<<< HEAD
<<<<<<< HEAD
<<<<<<< HEAD
   "id": "1cf0c2e8",
||||||| fa5abb84
   "id": "a7c5f2d6",
=======
   "id": "8b77c916",
>>>>>>> documentation-devel
||||||| 7e3277eb
   "id": "8b77c916",
=======
   "id": "44cb51b0",
>>>>>>> documentation-devel
||||||| 971bf77c
<<<<<<< HEAD
   "id": "1cf0c2e8",
||||||| fa5abb84
   "id": "a7c5f2d6",
=======
   "id": "8b77c916",
>>>>>>> documentation-devel
=======
   "id": "9cea20ec",
>>>>>>> e1d793125c0aeb7e34aca09298b9c5b44973e4b3
   "metadata": {
    "fig.height": 7,
    "fig.width": 6
   },
   "outputs": [],
   "source": [
    "genes_use2 <- unique(unlist(lapply(markers, function(x) rownames(x)[1:5])))\n",
    "plotGroupedHeatmap(sfe, genes_use2, group = \"cluster\", colour = scales::viridis_pal()(100))"
   ]
  },
  {
   "cell_type": "markdown",
<<<<<<< HEAD
<<<<<<< HEAD
<<<<<<< HEAD
   "id": "317b36b5",
||||||| fa5abb84
   "id": "554ece3c",
=======
   "id": "33c94102",
>>>>>>> documentation-devel
||||||| 7e3277eb
   "id": "33c94102",
=======
   "id": "0bfacb69",
>>>>>>> documentation-devel
||||||| 971bf77c
<<<<<<< HEAD
   "id": "317b36b5",
||||||| fa5abb84
   "id": "554ece3c",
=======
   "id": "33c94102",
>>>>>>> documentation-devel
=======
   "id": "37c49f56",
>>>>>>> e1d793125c0aeb7e34aca09298b9c5b44973e4b3
   "metadata": {
    "lines_to_next_cell": 0
   },
   "source": [
    "# Local spatial statistics of marker genes\n",
    "Plot those genes in space"
   ]
  },
  {
   "cell_type": "code",
   "execution_count": null,
<<<<<<< HEAD
<<<<<<< HEAD
<<<<<<< HEAD
   "id": "aaa31b36",
||||||| fa5abb84
   "id": "07734699",
=======
   "id": "856fcf44",
>>>>>>> documentation-devel
||||||| 7e3277eb
   "id": "856fcf44",
=======
   "id": "47b023f6",
>>>>>>> documentation-devel
||||||| 971bf77c
<<<<<<< HEAD
   "id": "aaa31b36",
||||||| fa5abb84
   "id": "07734699",
=======
   "id": "856fcf44",
>>>>>>> documentation-devel
=======
   "id": "272a8316",
>>>>>>> e1d793125c0aeb7e34aca09298b9c5b44973e4b3
   "metadata": {
    "fig.height": 12,
    "fig.width": 8
   },
   "outputs": [],
   "source": [
    "plotSpatialFeature(sfe, genes_use, colGeometryName = \"centroids\", ncol = 2,\n",
    "                   scattermore = TRUE)"
   ]
  },
  {
   "cell_type": "markdown",
<<<<<<< HEAD
<<<<<<< HEAD
<<<<<<< HEAD
   "id": "6c4513dc",
||||||| fa5abb84
   "id": "8ca4a57c",
=======
   "id": "e65c1f2d",
>>>>>>> documentation-devel
||||||| 7e3277eb
   "id": "e65c1f2d",
=======
   "id": "a91f6377",
>>>>>>> documentation-devel
||||||| 971bf77c
<<<<<<< HEAD
   "id": "6c4513dc",
||||||| fa5abb84
   "id": "8ca4a57c",
=======
   "id": "e65c1f2d",
>>>>>>> documentation-devel
=======
   "id": "0aa23d07",
>>>>>>> e1d793125c0aeb7e34aca09298b9c5b44973e4b3
   "metadata": {},
   "source": [
    "Moran's I of these marker genes"
   ]
  },
  {
   "cell_type": "code",
   "execution_count": null,
<<<<<<< HEAD
<<<<<<< HEAD
<<<<<<< HEAD
   "id": "9808603d",
||||||| fa5abb84
   "id": "7ec81b7e",
=======
   "id": "1d9a4635",
>>>>>>> documentation-devel
||||||| 7e3277eb
   "id": "1d9a4635",
=======
   "id": "1e97ec78",
>>>>>>> documentation-devel
||||||| 971bf77c
<<<<<<< HEAD
   "id": "9808603d",
||||||| fa5abb84
   "id": "7ec81b7e",
=======
   "id": "1d9a4635",
>>>>>>> documentation-devel
=======
   "id": "3951ea89",
>>>>>>> e1d793125c0aeb7e34aca09298b9c5b44973e4b3
   "metadata": {},
   "outputs": [],
   "source": [
    "rowData(sfe)[genes_use, \"moran_sample01\", drop = FALSE]"
   ]
  },
  {
   "cell_type": "markdown",
<<<<<<< HEAD
<<<<<<< HEAD
<<<<<<< HEAD
   "id": "b4015772",
||||||| fa5abb84
   "id": "dad510a0",
=======
   "id": "6a5b4e98",
>>>>>>> documentation-devel
||||||| 7e3277eb
   "id": "6a5b4e98",
=======
   "id": "500a184d",
>>>>>>> documentation-devel
||||||| 971bf77c
<<<<<<< HEAD
   "id": "b4015772",
||||||| fa5abb84
   "id": "dad510a0",
=======
   "id": "6a5b4e98",
>>>>>>> documentation-devel
=======
   "id": "b4b93a77",
>>>>>>> e1d793125c0aeb7e34aca09298b9c5b44973e4b3
   "metadata": {
    "lines_to_next_cell": 0
   },
   "source": [
    "Local Moran's I of these marker genes"
   ]
  },
  {
   "cell_type": "code",
   "execution_count": null,
<<<<<<< HEAD
<<<<<<< HEAD
<<<<<<< HEAD
   "id": "ad024904",
||||||| fa5abb84
   "id": "181eae56",
=======
   "id": "51d10641",
>>>>>>> documentation-devel
||||||| 7e3277eb
   "id": "51d10641",
=======
   "id": "e6e654df",
>>>>>>> documentation-devel
||||||| 971bf77c
<<<<<<< HEAD
   "id": "ad024904",
||||||| fa5abb84
   "id": "181eae56",
=======
   "id": "51d10641",
>>>>>>> documentation-devel
=======
   "id": "3f227632",
>>>>>>> e1d793125c0aeb7e34aca09298b9c5b44973e4b3
   "metadata": {},
   "outputs": [],
   "source": [
    "sfe <- runUnivariate(sfe, \"localmoran\", features = genes_use, colGraphName = \"knn5\",\n",
    "                     BPPARAM = MulticoreParam(2))"
   ]
  },
  {
   "cell_type": "code",
   "execution_count": null,
<<<<<<< HEAD
<<<<<<< HEAD
<<<<<<< HEAD
   "id": "2effcab2",
||||||| fa5abb84
   "id": "06b2aef3",
=======
   "id": "aeaa47a3",
>>>>>>> documentation-devel
||||||| 7e3277eb
   "id": "aeaa47a3",
=======
   "id": "d6ffae5d",
>>>>>>> documentation-devel
||||||| 971bf77c
<<<<<<< HEAD
   "id": "2effcab2",
||||||| fa5abb84
   "id": "06b2aef3",
=======
   "id": "aeaa47a3",
>>>>>>> documentation-devel
=======
   "id": "50174991",
>>>>>>> e1d793125c0aeb7e34aca09298b9c5b44973e4b3
   "metadata": {
    "fig.height": 12,
    "fig.width": 8
   },
   "outputs": [],
   "source": [
    "plotLocalResult(sfe, \"localmoran\", features = genes_use, \n",
    "                colGeometryName = \"centroids\", ncol = 2, divergent = TRUE,\n",
    "                diverge_center = 0, scattermore = TRUE)"
   ]
  },
  {
   "cell_type": "markdown",
<<<<<<< HEAD
<<<<<<< HEAD
<<<<<<< HEAD
   "id": "1e8f57fc",
||||||| fa5abb84
   "id": "0e7ae49f",
=======
   "id": "c6a3d314",
>>>>>>> documentation-devel
||||||| 7e3277eb
   "id": "c6a3d314",
=======
   "id": "59990358",
>>>>>>> documentation-devel
||||||| 971bf77c
<<<<<<< HEAD
   "id": "1e8f57fc",
||||||| fa5abb84
   "id": "0e7ae49f",
=======
   "id": "c6a3d314",
>>>>>>> documentation-devel
=======
   "id": "7d066986",
>>>>>>> e1d793125c0aeb7e34aca09298b9c5b44973e4b3
   "metadata": {
    "lines_to_next_cell": 0
   },
   "source": [
    "It seems that some histological regions tend to be more spatially homogenous in gene expression than others. The epithelial region tends to be more homogenous.\n",
    "\n",
    "Run local spatial heteroscdasticity (LOSH) for these marker genes to find local heterogeneity"
   ]
  },
  {
   "cell_type": "code",
   "execution_count": null,
<<<<<<< HEAD
<<<<<<< HEAD
<<<<<<< HEAD
   "id": "9166b63e",
||||||| fa5abb84
   "id": "a3ea53f3",
=======
   "id": "61937841",
>>>>>>> documentation-devel
||||||| 7e3277eb
   "id": "61937841",
=======
   "id": "88cedf94",
>>>>>>> documentation-devel
||||||| 971bf77c
<<<<<<< HEAD
   "id": "9166b63e",
||||||| fa5abb84
   "id": "a3ea53f3",
=======
   "id": "61937841",
>>>>>>> documentation-devel
=======
   "id": "628fc0d2",
>>>>>>> e1d793125c0aeb7e34aca09298b9c5b44973e4b3
   "metadata": {},
   "outputs": [],
   "source": [
    "sfe <- runUnivariate(sfe, \"LOSH\", features = genes_use, colGraphName = \"knn5\",\n",
    "                     BPPARAM = MulticoreParam(2))"
   ]
  },
  {
   "cell_type": "code",
   "execution_count": null,
<<<<<<< HEAD
<<<<<<< HEAD
<<<<<<< HEAD
   "id": "51f5628e",
||||||| fa5abb84
   "id": "0c1ab034",
=======
   "id": "762d82ff",
>>>>>>> documentation-devel
||||||| 7e3277eb
   "id": "762d82ff",
=======
   "id": "eaed525f",
>>>>>>> documentation-devel
||||||| 971bf77c
<<<<<<< HEAD
   "id": "51f5628e",
||||||| fa5abb84
   "id": "0c1ab034",
=======
   "id": "762d82ff",
>>>>>>> documentation-devel
=======
   "id": "6a9465e3",
>>>>>>> e1d793125c0aeb7e34aca09298b9c5b44973e4b3
   "metadata": {
    "fig.height": 12,
    "fig.width": 8
   },
   "outputs": [],
   "source": [
    "plotLocalResult(sfe, \"LOSH\", features = genes_use, \n",
    "                colGeometryName = \"centroids\", ncol = 2, scattermore = TRUE)"
   ]
  },
  {
   "cell_type": "markdown",
<<<<<<< HEAD
<<<<<<< HEAD
<<<<<<< HEAD
   "id": "4d87b0b5",
||||||| fa5abb84
   "id": "65c918ff",
=======
   "id": "fe259a26",
>>>>>>> documentation-devel
||||||| 7e3277eb
   "id": "fe259a26",
=======
   "id": "0aa00929",
>>>>>>> documentation-devel
||||||| 971bf77c
<<<<<<< HEAD
   "id": "4d87b0b5",
||||||| fa5abb84
   "id": "65c918ff",
=======
   "id": "fe259a26",
>>>>>>> documentation-devel
=======
   "id": "b0d074ec",
>>>>>>> e1d793125c0aeb7e34aca09298b9c5b44973e4b3
   "metadata": {
    "lines_to_next_cell": 0
   },
   "source": [
    "Some genes are more heterogeneous where they are also more highly expressed, such as COLA1 and IGKC. However this is not the case for all genes. For example, MZT2A is quite ubiqiutously experssed, but is more heterogeneous in some regions than others, and KRT19 does not seem to be much more heterogeneous where it's more highly expressed. For MZT2A, LOSH picked up the artifact of the edges of the FOVs, although this is not apparent for other genes plotted here. Here we don't have information on which cell belongs to which FOV, but FOV edge effects should be considered in data normalization. It would be interesting to more systematically see how LOSH relates to gene expression across more genes, and how this differs in cell types and gene functions.\n",
    "\n",
    "# Session Info"
   ]
  },
  {
   "cell_type": "code",
   "execution_count": null,
<<<<<<< HEAD
<<<<<<< HEAD
<<<<<<< HEAD
   "id": "703a03ee",
||||||| fa5abb84
   "id": "e6ed29cc",
=======
   "id": "0cef1c48",
>>>>>>> documentation-devel
||||||| 7e3277eb
   "id": "0cef1c48",
=======
   "id": "454afb6a",
>>>>>>> documentation-devel
||||||| 971bf77c
<<<<<<< HEAD
   "id": "703a03ee",
||||||| fa5abb84
   "id": "e6ed29cc",
=======
   "id": "0cef1c48",
>>>>>>> documentation-devel
=======
   "id": "97da0029",
>>>>>>> e1d793125c0aeb7e34aca09298b9c5b44973e4b3
   "metadata": {},
   "outputs": [],
   "source": [
    "sessionInfo()"
   ]
  },
  {
   "cell_type": "markdown",
<<<<<<< HEAD
<<<<<<< HEAD
<<<<<<< HEAD
   "id": "28fb8137",
||||||| fa5abb84
   "id": "05d834a5",
=======
   "id": "c61abdfa",
>>>>>>> documentation-devel
||||||| 7e3277eb
   "id": "c61abdfa",
=======
   "id": "116f1536",
>>>>>>> documentation-devel
||||||| 971bf77c
<<<<<<< HEAD
   "id": "28fb8137",
||||||| fa5abb84
   "id": "05d834a5",
=======
   "id": "c61abdfa",
>>>>>>> documentation-devel
=======
   "id": "75345005",
>>>>>>> e1d793125c0aeb7e34aca09298b9c5b44973e4b3
   "metadata": {},
   "source": [
    "# References"
   ]
  }
 ],
 "metadata": {
  "kernelspec": {
   "display_name": "R",
   "language": "R",
   "name": "ir"
  }
 },
 "nbformat": 4,
 "nbformat_minor": 5
}
