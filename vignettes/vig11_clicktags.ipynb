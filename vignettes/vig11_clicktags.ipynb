{
 "cells": [
  {
   "cell_type": "raw",
   "id": "4dca95b2",
   "metadata": {},
   "source": [
    "---\n",
    "title: \"Basic quality control on scRNA-seq data with ClickTag barcodes\"\n",
    "author: \"Kayla Jackson and A. Sina Booeshaghi\"\n",
    "date: \"`r Sys.Date()`\"\n",
    "output: \n",
    "  html_document:\n",
    "  toc: true\n",
    "  toc_float:\n",
    "    collapsed: false\n",
    "  toc_depth: 3\n",
    "bibliography: ref.bib\n",
    "vignette: >\n",
    "  %\\VignetteIndexEntry{clicktag_qc}\n",
    "  %\\VignetteEngine{knitr::rmarkdown}\n",
    "  %\\VignetteEncoding{UTF-8}\n",
    "---"
   ]
  },
  {
   "cell_type": "code",
   "execution_count": null,
   "id": "0645158c",
   "metadata": {
    "tags": [
     "remove_cell"
    ]
   },
   "outputs": [],
   "source": [
    "knitr::opts_chunk$set(\n",
    "  collapse = TRUE,\n",
    "  comment = \"#>\", fig.align = \"center\"\n",
    ")"
   ]
  },
  {
   "cell_type": "code",
   "execution_count": null,
   "id": "d986efce",
   "metadata": {
    "eval": false,
    "tags": [
     "remove_cell"
    ]
   },
   "outputs": [],
   "source": [
    "# Install Google Colab dependencies\n",
    "# Note: this can take 30+ minutes (many of the dependencies include C++ code, which needs to be compiled)\n",
    "\n",
    "# First install `sf`, `ragg` and `textshaping` and their system dependencies:\n",
    "system(\"apt-get -y update && apt-get install -y  libudunits2-dev libgdal-dev libgeos-dev libproj-dev libharfbuzz-dev libfribidi-dev\")\n",
    "install.packages(\"sf\")\n",
    "install.packages(\"textshaping\")\n",
    "install.packages(\"ragg\")\n",
    "\n",
    "# Install system dependencies of some other R packages that Voyager either imports or suggests:\n",
    "system(\"apt-get install -y libfribidi-dev libcairo2-dev libmagick++-dev\")\n",
    "\n",
    "# Install Voyager from Bioconductor:\n",
    "install.packages(\"BiocManager\")\n",
    "BiocManager::install(version = \"3.17\", ask = FALSE, update = FALSE, Ncpus = 2)\n",
    "BiocManager::install(\"scater\")\n",
    "system.time(\n",
    "  BiocManager::install(\"Voyager\", dependencies = TRUE, Ncpus = 2, update = FALSE)\n",
    ")\n",
    "\n",
    "\n",
    "packageVersion(\"Voyager\")"
   ]
  },
  {
   "cell_type": "markdown",
   "id": "7e7a4816",
   "metadata": {},
   "source": [
    "# Introduction\n",
    "The data in this vignette is shipped with the `cellatlas` repository. The count matrix and metadata are provided in the `cellatlas/examples` folder as an [`AnnData`](https://anndata-tutorials.readthedocs.io/en/latest/getting-started.html) object. We will begin by loading the object and converting it to a `SingleCellExperiment` object. "
   ]
  },
  {
   "cell_type": "code",
   "execution_count": null,
   "id": "b0c8b84c",
   "metadata": {
    "message": false
   },
   "outputs": [],
   "source": [
    "library(stringr)\n",
    "library(Matrix)\n",
    "library(SpatialExperiment)\n",
    "library(SpatialFeatureExperiment)\n",
    "library(scater)\n",
    "library(scuttle)\n",
    "library(Voyager)\n",
    "library(zellkonverter)\n",
    "library(ggplot2)\n",
    "theme_set(theme_bw())"
   ]
  },
  {
   "cell_type": "code",
   "execution_count": null,
   "id": "8a06512f",
   "metadata": {
    "message": false,
    "name": "dwnld",
    "tags": [
     "remove_output"
    ]
   },
   "outputs": [],
   "source": [
    "download.file(\"https://github.com/cellatlas/cellatlas/raw/main/examples/tag-clicktag/cellatlas_out/adata.h5ad.gz\", \n",
    "                  \"adata.h5ad.gz\", quiet = TRUE)\n",
    "system(\"gunzip adata.h5ad.gz\")\n",
    "sce <- readH5AD(\"adata.h5ad\")\n",
    "assayNames(sce) <- \"counts\""
   ]
  },
  {
   "cell_type": "code",
   "execution_count": null,
   "id": "4155d68e",
   "metadata": {},
   "outputs": [],
   "source": [
    "is_mito <- str_detect(rowData(sce)$gene_name, regex(\"^mt-\", ignore_case=TRUE))\n",
    "sum(is_mito)"
   ]
  },
  {
   "cell_type": "code",
   "execution_count": null,
   "id": "349bad98",
   "metadata": {},
   "outputs": [],
   "source": [
    "sce <- addPerCellQCMetrics(sce, subsets = list(mito = is_mito))\n",
    "names(colData(sce))"
   ]
  },
  {
   "cell_type": "code",
   "execution_count": null,
   "id": "babafaf7",
   "metadata": {},
   "outputs": [],
   "source": [
    "plotColData(sce, \"sum\") +\n",
    "    plotColData(sce, \"detected\") +\n",
    "    plotColData(sce, \"subsets_mito_percent\")"
   ]
  },
  {
   "cell_type": "code",
   "execution_count": null,
   "id": "da7d0317",
   "metadata": {},
   "outputs": [],
   "source": [
    "plotColData(sce, x = \"sum\", y = \"detected\", bins = 100) +\n",
    "    scale_fill_distiller(palette = \"Blues\", direction = 1)"
   ]
  },
  {
   "cell_type": "code",
   "execution_count": null,
   "id": "0055a83e",
   "metadata": {},
   "outputs": [],
   "source": [
    "plotColData(sce, x = \"sum\", y = \"subsets_mito_detected\", bins = 100) +\n",
    "    scale_fill_distiller(palette = \"Blues\", direction = 1)"
   ]
  },
  {
   "cell_type": "code",
   "execution_count": null,
   "id": "770c9a25",
   "metadata": {
    "name": "subset-qc"
   },
   "outputs": [],
   "source": [
    "sce <- sce[, which(sce$subsets_mito_percent < 20)]\n",
    "sce <- sce[rowSums(counts(sce)) > 0,]\n",
    "\n",
    "sce"
   ]
  },
  {
   "cell_type": "code",
   "execution_count": null,
   "id": "eac2f61b",
   "metadata": {
    "lines_to_next_cell": 0
   },
   "outputs": [],
   "source": [
    "sessionInfo()"
   ]
  },
  {
   "cell_type": "markdown",
   "id": "7e2e36e6",
   "metadata": {},
   "source": []
  }
 ],
 "metadata": {
  "kernelspec": {
   "display_name": "R",
   "language": "R",
   "name": "ir"
  }
 },
 "nbformat": 4,
 "nbformat_minor": 5
}
