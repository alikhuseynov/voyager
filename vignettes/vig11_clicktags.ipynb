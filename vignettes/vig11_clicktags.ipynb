{
 "cells": [
  {
   "cell_type": "raw",
<<<<<<< HEAD
<<<<<<< HEAD
<<<<<<< HEAD
   "id": "77ebb5e6",
||||||| fa5abb84
   "id": "d10e1c47",
=======
   "id": "8c646018",
>>>>>>> documentation-devel
||||||| 7e3277eb
   "id": "8c646018",
=======
   "id": "e7227b00",
>>>>>>> documentation-devel
||||||| 971bf77c
<<<<<<< HEAD
   "id": "77ebb5e6",
||||||| fa5abb84
   "id": "d10e1c47",
=======
   "id": "8c646018",
>>>>>>> documentation-devel
=======
   "id": "d77b32d0",
>>>>>>> e1d793125c0aeb7e34aca09298b9c5b44973e4b3
   "metadata": {},
   "source": [
    "---\n",
    "title: \"Basic quality control on scRNA-seq data with ClickTag barcodes\"\n",
    "author: \"Kayla Jackson and A. Sina Booeshaghi\"\n",
    "date: \"`r Sys.Date()`\"\n",
    "output: \n",
    "  html_document:\n",
    "  toc: true\n",
    "  toc_float:\n",
    "    collapsed: false\n",
    "  toc_depth: 3\n",
    "bibliography: ref.bib\n",
    "vignette: >\n",
    "  %\\VignetteIndexEntry{clicktag_qc}\n",
    "  %\\VignetteEngine{knitr::rmarkdown}\n",
    "  %\\VignetteEncoding{UTF-8}\n",
    "---"
   ]
  },
  {
   "cell_type": "code",
   "execution_count": null,
<<<<<<< HEAD
<<<<<<< HEAD
<<<<<<< HEAD
   "id": "2b90e9e7",
||||||| fa5abb84
   "id": "9723246e",
=======
   "id": "14413378",
>>>>>>> documentation-devel
||||||| 7e3277eb
   "id": "14413378",
=======
   "id": "25b20482",
>>>>>>> documentation-devel
||||||| 971bf77c
<<<<<<< HEAD
   "id": "2b90e9e7",
||||||| fa5abb84
   "id": "9723246e",
=======
   "id": "14413378",
>>>>>>> documentation-devel
=======
   "id": "f8e9094d",
>>>>>>> e1d793125c0aeb7e34aca09298b9c5b44973e4b3
   "metadata": {
    "tags": [
     "remove_cell"
    ]
   },
   "outputs": [],
   "source": [
    "knitr::opts_chunk$set(\n",
    "  collapse = TRUE,\n",
    "  comment = \"#>\", fig.align = \"center\"\n",
    ")"
   ]
  },
  {
   "cell_type": "code",
   "execution_count": null,
<<<<<<< HEAD
<<<<<<< HEAD
<<<<<<< HEAD
   "id": "0d539d93",
||||||| fa5abb84
   "id": "a1aab0f2",
=======
   "id": "78be626d",
>>>>>>> documentation-devel
||||||| 7e3277eb
   "id": "78be626d",
=======
   "id": "cfe2b6e4",
>>>>>>> documentation-devel
||||||| 971bf77c
<<<<<<< HEAD
   "id": "0d539d93",
||||||| fa5abb84
   "id": "a1aab0f2",
=======
   "id": "78be626d",
>>>>>>> documentation-devel
=======
   "id": "313861a5",
>>>>>>> e1d793125c0aeb7e34aca09298b9c5b44973e4b3
   "metadata": {
    "eval": false,
    "tags": [
     "remove_cell"
    ]
   },
   "outputs": [],
   "source": [
    "# Install Google Colab dependencies\n",
    "# Note: this can take 30+ minutes (many of the dependencies include C++ code, which needs to be compiled)\n",
    "\n",
    "# First install `sf`, `ragg` and `textshaping` and their system dependencies:\n",
    "system(\"apt-get -y update && apt-get install -y  libudunits2-dev libgdal-dev libgeos-dev libproj-dev libharfbuzz-dev libfribidi-dev\")\n",
    "install.packages(\"sf\")\n",
    "install.packages(\"textshaping\")\n",
    "install.packages(\"ragg\")\n",
    "\n",
    "# Install system dependencies of some other R packages that Voyager either imports or suggests:\n",
    "system(\"apt-get install -y libfribidi-dev libcairo2-dev libmagick++-dev\")\n",
    "\n",
    "# Install Voyager from Bioconductor:\n",
    "install.packages(\"BiocManager\")\n",
    "BiocManager::install(version = \"3.17\", ask = FALSE, update = FALSE, Ncpus = 2)\n",
    "BiocManager::install(\"scater\")\n",
    "system.time(\n",
    "  BiocManager::install(\"Voyager\", dependencies = TRUE, Ncpus = 2, update = FALSE)\n",
    ")\n",
    "\n",
    "\n",
    "packageVersion(\"Voyager\")"
   ]
  },
  {
   "cell_type": "markdown",
<<<<<<< HEAD
<<<<<<< HEAD
<<<<<<< HEAD
   "id": "3e1ba89d",
||||||| fa5abb84
   "id": "3b533740",
=======
   "id": "e97397bf",
>>>>>>> documentation-devel
||||||| 7e3277eb
   "id": "e97397bf",
=======
   "id": "17125e09",
>>>>>>> documentation-devel
||||||| 971bf77c
<<<<<<< HEAD
   "id": "3e1ba89d",
||||||| fa5abb84
   "id": "3b533740",
=======
   "id": "e97397bf",
>>>>>>> documentation-devel
=======
   "id": "96011c8d",
>>>>>>> e1d793125c0aeb7e34aca09298b9c5b44973e4b3
   "metadata": {},
   "source": [
    "# Introduction\n",
    "The data in this vignette is shipped with the `cellatlas` repository. The count matrix and metadata are provided in the `cellatlas/examples` folder as an [`AnnData`](https://anndata-tutorials.readthedocs.io/en/latest/getting-started.html) object. We will begin by loading the object and converting it to a `SingleCellExperiment` object. "
   ]
  },
  {
   "cell_type": "code",
   "execution_count": null,
<<<<<<< HEAD
<<<<<<< HEAD
<<<<<<< HEAD
   "id": "a81e9291",
||||||| fa5abb84
   "id": "b4de7ffc",
=======
   "id": "147baee9",
>>>>>>> documentation-devel
||||||| 7e3277eb
   "id": "147baee9",
=======
   "id": "e602faba",
>>>>>>> documentation-devel
||||||| 971bf77c
<<<<<<< HEAD
   "id": "a81e9291",
||||||| fa5abb84
   "id": "b4de7ffc",
=======
   "id": "147baee9",
>>>>>>> documentation-devel
=======
   "id": "e0e7608c",
>>>>>>> e1d793125c0aeb7e34aca09298b9c5b44973e4b3
   "metadata": {
    "message": false
   },
   "outputs": [],
   "source": [
    "library(stringr)\n",
    "library(DropletUtils)\n",
    "library(Matrix)\n",
    "library(SpatialExperiment)\n",
    "library(SpatialFeatureExperiment)\n",
    "library(scater)\n",
    "library(scuttle)\n",
    "library(Voyager)\n",
    "library(ggplot2)\n",
    "theme_set(theme_bw())"
   ]
  },
  {
   "cell_type": "code",
   "execution_count": null,
<<<<<<< HEAD
<<<<<<< HEAD
<<<<<<< HEAD
   "id": "1df0acd1",
||||||| 971bf77c
<<<<<<< HEAD
   "id": "1df0acd1",
=======
   "id": "81d4284e",
>>>>>>> e1d793125c0aeb7e34aca09298b9c5b44973e4b3
   "metadata": {
    "message": true,
    "tags": [
     "remove_output"
    ]
   },
<<<<<<< HEAD
||||||| fa5abb84
   "id": "42c1aa7b",
   "metadata": {
    "message": false,
    "name": "dwnld",
    "tags": [
     "remove_output"
    ]
   },
=======
   "id": "2628fba2",
   "metadata": {},
>>>>>>> documentation-devel
||||||| 7e3277eb
   "id": "2628fba2",
   "metadata": {},
=======
   "id": "16c492a1",
   "metadata": {
    "message": true,
    "tags": [
     "remove_output"
    ]
   },
>>>>>>> documentation-devel
||||||| 971bf77c
||||||| fa5abb84
   "id": "42c1aa7b",
   "metadata": {
    "message": false,
    "name": "dwnld",
    "tags": [
     "remove_output"
    ]
   },
=======
   "id": "2628fba2",
   "metadata": {},
>>>>>>> documentation-devel
=======
>>>>>>> e1d793125c0aeb7e34aca09298b9c5b44973e4b3
   "outputs": [],
   "source": [
    "if (!file.exists(\"clicktags.rds\"))\n",
    "    download.file(\"https://github.com/pachterlab/voyager/raw/documentation-devel/vignettes/clicktags.rds\", destfile = \"clicktags.rds\")\n",
    "sce <- readRDS(\"clicktags.rds\")"
   ]
  },
  {
   "cell_type": "code",
   "execution_count": null,
<<<<<<< HEAD
<<<<<<< HEAD
<<<<<<< HEAD
   "id": "c12129b8",
||||||| fa5abb84
   "id": "bbf56d62",
=======
   "id": "4f644021",
>>>>>>> documentation-devel
||||||| 7e3277eb
   "id": "4f644021",
=======
   "id": "4d2b0a30",
>>>>>>> documentation-devel
||||||| 971bf77c
<<<<<<< HEAD
   "id": "c12129b8",
||||||| fa5abb84
   "id": "bbf56d62",
=======
   "id": "4f644021",
>>>>>>> documentation-devel
=======
   "id": "2d8ebf79",
>>>>>>> e1d793125c0aeb7e34aca09298b9c5b44973e4b3
   "metadata": {},
   "outputs": [],
   "source": [
    "sce <- addPerCellQCMetrics(sce)\n",
    "names(colData(sce))"
   ]
  },
  {
   "cell_type": "code",
   "execution_count": null,
<<<<<<< HEAD
<<<<<<< HEAD
<<<<<<< HEAD
   "id": "44a50353",
||||||| fa5abb84
   "id": "9f2e7a28",
=======
   "id": "a81ca7d3",
>>>>>>> documentation-devel
||||||| 7e3277eb
   "id": "a81ca7d3",
=======
   "id": "0c4c22f4",
>>>>>>> documentation-devel
||||||| 971bf77c
<<<<<<< HEAD
   "id": "44a50353",
||||||| fa5abb84
   "id": "9f2e7a28",
=======
   "id": "a81ca7d3",
>>>>>>> documentation-devel
=======
   "id": "624132b4",
>>>>>>> e1d793125c0aeb7e34aca09298b9c5b44973e4b3
   "metadata": {},
   "outputs": [],
   "source": [
    "plotColData(sce, \"sum\") +\n",
    "    plotColData(sce, \"detected\") "
   ]
  },
  {
   "cell_type": "code",
   "execution_count": null,
<<<<<<< HEAD
<<<<<<< HEAD
<<<<<<< HEAD
   "id": "767a728d",
||||||| fa5abb84
   "id": "e0b5e1b6",
=======
   "id": "69473662",
>>>>>>> documentation-devel
||||||| 7e3277eb
   "id": "69473662",
=======
   "id": "f8c9ffbd",
>>>>>>> documentation-devel
||||||| 971bf77c
<<<<<<< HEAD
   "id": "767a728d",
||||||| fa5abb84
   "id": "e0b5e1b6",
=======
   "id": "69473662",
>>>>>>> documentation-devel
=======
   "id": "20a2c7e3",
>>>>>>> e1d793125c0aeb7e34aca09298b9c5b44973e4b3
   "metadata": {
    "lines_to_next_cell": 0
   },
   "outputs": [],
   "source": [
    "plotColData(sce, x = \"sum\", y = \"detected\", bins = 100) +\n",
    "    scale_fill_distiller(palette = \"Blues\", direction = 1)"
   ]
  },
  {
   "cell_type": "code",
   "execution_count": null,
<<<<<<< HEAD
<<<<<<< HEAD
<<<<<<< HEAD
   "id": "49871b18",
||||||| fa5abb84
   "id": "7514ad6e",
=======
   "id": "e5e270e3",
>>>>>>> documentation-devel
||||||| 7e3277eb
   "id": "e5e270e3",
=======
   "id": "2e5a27d1",
>>>>>>> documentation-devel
||||||| 971bf77c
<<<<<<< HEAD
   "id": "49871b18",
||||||| fa5abb84
   "id": "7514ad6e",
=======
   "id": "e5e270e3",
>>>>>>> documentation-devel
=======
   "id": "9052f149",
>>>>>>> e1d793125c0aeb7e34aca09298b9c5b44973e4b3
   "metadata": {
    "name": "knee-plot"
   },
   "outputs": [],
   "source": [
    "bcrank <- barcodeRanks(counts(sce))\n",
    "\n",
    "knee <- metadata(bcrank)$knee\n",
    "inflection <- metadata(bcrank)$inflection\n",
    "\n",
    "plot(bcrank$rank, bcrank$total, log=\"xy\",\n",
    "      xlab=\"Rank\", ylab=\"Total ClickTags count\", cex.lab=1.2)\n",
    "\n",
    "abline(h=inflection, col=\"darkgreen\", lty=2)\n",
    "abline(h=knee, col=\"dodgerblue\", lty=2)"
   ]
  },
  {
   "cell_type": "code",
   "execution_count": null,
<<<<<<< HEAD
<<<<<<< HEAD
<<<<<<< HEAD
   "id": "0ee7c8ed",
||||||| fa5abb84
   "id": "b09051bf",
=======
   "id": "8e58d7df",
>>>>>>> documentation-devel
||||||| 7e3277eb
   "id": "8e58d7df",
=======
   "id": "c50b7812",
>>>>>>> documentation-devel
||||||| 971bf77c
<<<<<<< HEAD
   "id": "0ee7c8ed",
||||||| fa5abb84
   "id": "b09051bf",
=======
   "id": "8e58d7df",
>>>>>>> documentation-devel
=======
   "id": "0bc142f8",
>>>>>>> e1d793125c0aeb7e34aca09298b9c5b44973e4b3
   "metadata": {
    "name": "subset-qc"
   },
   "outputs": [],
   "source": [
    "sce <- sce[, colSums(counts(sce)) > inflection]\n",
    "\n",
    "sce"
   ]
  },
  {
   "cell_type": "code",
   "execution_count": null,
<<<<<<< HEAD
<<<<<<< HEAD
<<<<<<< HEAD
   "id": "3dfcd535",
||||||| fa5abb84
   "id": "5b33488a",
=======
   "id": "4b0ecee4",
>>>>>>> documentation-devel
||||||| 7e3277eb
   "id": "4b0ecee4",
=======
   "id": "8c140ec4",
>>>>>>> documentation-devel
||||||| 971bf77c
<<<<<<< HEAD
   "id": "3dfcd535",
||||||| fa5abb84
   "id": "5b33488a",
=======
   "id": "4b0ecee4",
>>>>>>> documentation-devel
=======
   "id": "2f16060c",
>>>>>>> e1d793125c0aeb7e34aca09298b9c5b44973e4b3
   "metadata": {
    "lines_to_next_cell": 0
   },
   "outputs": [],
   "source": [
    "sessionInfo()"
   ]
  },
  {
   "cell_type": "markdown",
<<<<<<< HEAD
<<<<<<< HEAD
<<<<<<< HEAD
   "id": "0569b5cd",
||||||| fa5abb84
   "id": "5ff8d69d",
=======
   "id": "7db7d483",
>>>>>>> documentation-devel
||||||| 7e3277eb
   "id": "7db7d483",
=======
   "id": "9521761b",
>>>>>>> documentation-devel
||||||| 971bf77c
<<<<<<< HEAD
   "id": "0569b5cd",
||||||| fa5abb84
   "id": "5ff8d69d",
=======
   "id": "7db7d483",
>>>>>>> documentation-devel
=======
   "id": "cb4c888d",
>>>>>>> e1d793125c0aeb7e34aca09298b9c5b44973e4b3
   "metadata": {},
   "source": []
  }
 ],
 "metadata": {
  "kernelspec": {
   "display_name": "R",
   "language": "R",
   "name": "ir"
  }
 },
 "nbformat": 4,
 "nbformat_minor": 5
}
