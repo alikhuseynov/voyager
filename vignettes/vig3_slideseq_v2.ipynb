{
 "cells": [
  {
   "cell_type": "raw",
<<<<<<< HEAD
<<<<<<< HEAD
   "id": "73cd08d5",
||||||| b944554d
   "id": "1d220152",
=======
   "id": "141e2172",
>>>>>>> documentation-devel
||||||| 35cb6e7a
   "id": "141e2172",
=======
   "id": "632e114a",
>>>>>>> documentation-devel
   "metadata": {},
   "source": [
    "---\n",
    "title: \"Slide-Seq V2 Exploratory Data Analysis\"\n",
    "author: \"Kayla Jackson\"\n",
    "date: \"`r Sys.Date()`\"\n",
    "output: \n",
    "  html_document:\n",
    "  toc: true\n",
    "  toc_float:\n",
    "    collapsed: false\n",
    "  toc_depth: 3\n",
    "bibliography: ref.bib\n",
    "vignette: >\n",
    "  %\\VignetteIndexEntry{slideseq_v2}\n",
    "  %\\VignetteEngine{knitr::rmarkdown}\n",
    "  %\\VignetteEncoding{UTF-8}\n",
    "---"
   ]
  },
  {
   "cell_type": "code",
   "execution_count": null,
<<<<<<< HEAD
<<<<<<< HEAD
   "id": "aca01552",
||||||| b944554d
   "id": "e5d1c542",
=======
   "id": "8050eb39",
>>>>>>> documentation-devel
||||||| 35cb6e7a
   "id": "8050eb39",
=======
   "id": "9c81591c",
>>>>>>> documentation-devel
   "metadata": {
    "tags": [
     "remove_cell"
    ]
   },
   "outputs": [],
   "source": [
    "knitr::opts_chunk$set(\n",
    "  collapse = TRUE,\n",
    "  comment = \"#>\", fig.align = \"center\"\n",
    ")"
   ]
  },
  {
   "cell_type": "code",
   "execution_count": null,
<<<<<<< HEAD
<<<<<<< HEAD
   "id": "76f6fe61",
||||||| b944554d
   "id": "c4fb3713",
=======
   "id": "40321a8b",
>>>>>>> documentation-devel
||||||| 35cb6e7a
   "id": "40321a8b",
=======
   "id": "fb812f7d",
>>>>>>> documentation-devel
   "metadata": {
    "eval": false,
    "tags": [
     "remove_cell"
    ]
   },
   "outputs": [],
   "source": [
    "# Install Google Colab dependencies\n",
    "# Note: this can take 30+ minutes (many of the dependencies include C++ code, which needs to be compiled)\n",
    "\n",
    "# First install `sf`, `ragg` and `textshaping` and their system dependencies:\n",
    "system(\"apt-get -y update && apt-get install -y  libudunits2-dev libgdal-dev libgeos-dev libproj-dev libharfbuzz-dev libfribidi-dev\")\n",
    "install.packages(\"sf\")\n",
    "install.packages(\"textshaping\")\n",
    "install.packages(\"ragg\")\n",
    "\n",
    "# Install system dependencies of some other R packages that Voyager either imports or suggests:\n",
    "system(\"apt-get install -y libfribidi-dev libcairo2-dev libmagick++-dev\")\n",
    "\n",
    "# Install Voyager from Bioconductor:\n",
    "install.packages(\"BiocManager\")\n",
    "BiocManager::install(version = \"3.17\", ask = FALSE, update = FALSE, Ncpus = 2)\n",
    "BiocManager::install(\"scater\")\n",
    "system.time(\n",
    "  BiocManager::install(\"Voyager\", dependencies = TRUE, Ncpus = 2, update = FALSE)\n",
    ")\n",
    "\n",
    "packageVersion(\"Voyager\")"
   ]
  },
  {
   "cell_type": "markdown",
<<<<<<< HEAD
<<<<<<< HEAD
   "id": "5568a8b6",
||||||| b944554d
   "id": "ceb5ffa1",
=======
   "id": "6762c8fd",
>>>>>>> documentation-devel
||||||| 35cb6e7a
   "id": "6762c8fd",
=======
   "id": "4b208a2b",
>>>>>>> documentation-devel
   "metadata": {},
   "source": [
    "## Introduction\n",
    "\n",
    "[Slide-seq V2](https://doi.org/10.1038/s41587-020-0739-1) is a spatial transcriptomic tool that measures genome-wide expression using DNA-barcoded beads patterned on a slide in an non-regular array. The beads used in the current protocol have a diameter of $10 \\mu m$ and are thus larger than a single cell, but the number of detected transcripts is an order of magnitude higher compared to the previous iteration of the technology.\n",
    "\n",
    "In this vignette, we use `Voyager` to analyze a dataset generated using the Slide-Seq V2 technology. The data is described in [Dissecting the treatment-naive ecosystem of human melanoma brain metastasis](https://doi.org/10.1016/j.cell.2022.06.007) [@Biermann2022-cu]. The raw counts and cell metadata are publicly available from GEO. We will focus on one of the human melanoma brain metastasis (MBM) samples that are provided in the `SFEData` package as a `SpatialFeatureExperiment`(SFE) object. The SFE object contains raw counts, QC metrics such as number of UMIs and genes detected per barcode, and centroid coordinates for each barcode as a `sf` POINT geometry."
   ]
  },
  {
   "cell_type": "code",
   "execution_count": null,
<<<<<<< HEAD
<<<<<<< HEAD
   "id": "252cea06",
||||||| b944554d
   "id": "550df5e8",
=======
   "id": "f6dabbc6",
>>>>>>> documentation-devel
||||||| 35cb6e7a
   "id": "f6dabbc6",
=======
   "id": "039e8166",
>>>>>>> documentation-devel
   "metadata": {
    "message": false,
    "name": "setup"
   },
   "outputs": [],
   "source": [
    "library(Voyager)\n",
    "library(SFEData)\n",
    "library(SingleCellExperiment)\n",
    "library(SpatialExperiment)\n",
    "library(scater)\n",
    "library(scran)\n",
    "library(bluster)\n",
    "library(ggplot2)\n",
    "library(patchwork)\n",
    "library(spdep)\n",
    "library(BiocParallel)\n",
    "\n",
    "theme_set(theme_bw())"
   ]
  },
  {
   "cell_type": "code",
   "execution_count": null,
<<<<<<< HEAD
<<<<<<< HEAD
   "id": "c0e25928",
||||||| b944554d
   "id": "452fe74e",
=======
   "id": "04e58560",
>>>>>>> documentation-devel
||||||| 35cb6e7a
   "id": "04e58560",
=======
   "id": "00c729ee",
>>>>>>> documentation-devel
   "metadata": {},
   "outputs": [],
   "source": [
    "(sfe <- BiermannMelaMetasData(dataset = \"MBM05_rep1\"))"
   ]
  },
  {
   "cell_type": "markdown",
<<<<<<< HEAD
<<<<<<< HEAD
   "id": "4209466e",
||||||| b944554d
   "id": "efed3103",
=======
   "id": "c5c8ace2",
>>>>>>> documentation-devel
||||||| 35cb6e7a
   "id": "c5c8ace2",
=======
   "id": "3b4eaca1",
>>>>>>> documentation-devel
   "metadata": {},
   "source": [
    "The SFE object in the `SFEData` package includes information for 27,566 features and 29,536 beads/barcodes.\n",
    "\n",
    "# Quality control (QC)\n",
    "\n",
    "We begin by performing some exploratory data analysis on the barcodes in the tissue. There are some pre-computed QC measures that are stored in the object."
   ]
  },
  {
   "cell_type": "code",
   "execution_count": null,
<<<<<<< HEAD
<<<<<<< HEAD
   "id": "e586993a",
||||||| b944554d
   "id": "b443cc0b",
=======
   "id": "9ecf4cb9",
>>>>>>> documentation-devel
||||||| 35cb6e7a
   "id": "9ecf4cb9",
=======
   "id": "d54eb529",
>>>>>>> documentation-devel
   "metadata": {},
   "outputs": [],
   "source": [
    "names(colData(sfe))"
   ]
  },
  {
   "cell_type": "markdown",
<<<<<<< HEAD
<<<<<<< HEAD
   "id": "c6fcfe77",
||||||| b944554d
   "id": "058bdd11",
=======
   "id": "274df2e7",
>>>>>>> documentation-devel
||||||| 35cb6e7a
   "id": "274df2e7",
=======
   "id": "10a0aa69",
>>>>>>> documentation-devel
   "metadata": {},
   "source": [
    "Total UMI counts (`nCounts`), number of genes detected per spot (`nGenes`), and the proportion of mitochondrially encoded counts (`prop_mito`). Below, we plot the total number of UMI counts per barcode as a violin plot and in space. For the latter task, we leverage the function `plotSpatialFeature()` which uses `geom_sf()` to plot geometries where applicable. The first few lines compute the average number of UMI counts per barcode and this average is plotted as a red line in the violin plot. "
   ]
  },
  {
   "cell_type": "code",
   "execution_count": null,
<<<<<<< HEAD
<<<<<<< HEAD
   "id": "8b2b9352",
||||||| b944554d
   "id": "dc8154fb",
=======
   "id": "73cdaccd",
>>>>>>> documentation-devel
||||||| 35cb6e7a
   "id": "73cdaccd",
=======
   "id": "667896fe",
>>>>>>> documentation-devel
   "metadata": {},
   "outputs": [],
   "source": [
    "avg <- as.data.frame(colData(sfe)) |>\n",
    "  dplyr::summarise(across(-sample_id, mean))\n",
    "\n",
    "violin <- plotColData(sfe, \"nCounts\") +\n",
    "  geom_hline(aes(yintercept = nCounts), avg, color=\"red\") +\n",
    "  theme(legend.position = \"top\") \n",
    "\n",
    "spatial <- plotSpatialFeature(sfe, features = \"nCounts\",\n",
    "                               colGeometryName = \"centroids\", size = 0.2) +\n",
    "    theme_void()\n",
    "violin + spatial"
   ]
  },
  {
   "cell_type": "markdown",
<<<<<<< HEAD
<<<<<<< HEAD
   "id": "b75eb1f9",
||||||| b944554d
   "id": "3aa8c017",
=======
   "id": "5dd05e69",
>>>>>>> documentation-devel
||||||| 35cb6e7a
   "id": "5dd05e69",
=======
   "id": "d92eaaab",
>>>>>>> documentation-devel
   "metadata": {
    "lines_to_next_cell": 0
   },
   "source": [
    "Each barcode is represented as an `sf` POINT geometry In the plot above, we note that many beads have quite low UMI counts, but there are small regions throughout the tissue that appear to have high counts. This is perhaps due to high cellular density of the melanoma cells, but we can only speculate without an image of the tissue. Interestingly, there are not any barcodes with zero counts. This is in contrast to many scRNA-seq dataset were many cells have zero counts. \n",
    "\n",
    "Given the density of points, we may choose to aggregate points into a hexagonal grid to avoid overplotting. Each hexagon will be colored by the total number of UMI counts in that space and each hexagon may represent more than one barcode. "
   ]
  },
  {
   "cell_type": "code",
   "execution_count": null,
<<<<<<< HEAD
<<<<<<< HEAD
   "id": "622f5b99",
||||||| b944554d
   "id": "5d155231",
=======
   "id": "fe39479f",
>>>>>>> documentation-devel
||||||| 35cb6e7a
   "id": "fe39479f",
=======
   "id": "4f545560",
>>>>>>> documentation-devel
   "metadata": {},
   "outputs": [],
   "source": [
    "as.data.frame(cbind(spatialCoords(sfe), colData(sfe))) |> \n",
    "    ggplot(aes(xcoord, ycoord, z=nCounts)) +\n",
    "    stat_summary_hex(fun = function(x) sum(x), bins=100) + \n",
    "    scale_fill_distiller(palette = \"Blues\", direction = 1) +\n",
    "    labs(fill='nCounts')  +\n",
    "    theme_bw() + coord_equal() +\n",
    "    scale_x_continuous(expand = expansion()) +\n",
    "    scale_y_continuous(expand = expansion()) +\n",
    "    theme_void()"
   ]
  },
  {
   "cell_type": "markdown",
<<<<<<< HEAD
<<<<<<< HEAD
   "id": "c746063f",
||||||| b944554d
   "id": "9e8b4ccb",
=======
   "id": "fbce48de",
>>>>>>> documentation-devel
||||||| 35cb6e7a
   "id": "fbce48de",
=======
   "id": "96972c58",
>>>>>>> documentation-devel
   "metadata": {},
   "source": [
    "It is worthwhile to note that cell segmentation data were not included with this dataset. Even though Slide-Seq V2 does not profile gene expression at single cell resolution, cell segmentation data can be flexibly stored as `annotGeometries` in the `SFE` object. These geometries can be plotted with barcode-level data and can be used with `sf` for operations like finding the number of barcodes localized to a single cell."
   ]
  },
  {
   "cell_type": "code",
   "execution_count": null,
<<<<<<< HEAD
<<<<<<< HEAD
   "id": "f7958c1d",
||||||| b944554d
   "id": "649c13a9",
=======
   "id": "18d46dfa",
>>>>>>> documentation-devel
||||||| 35cb6e7a
   "id": "18d46dfa",
=======
   "id": "facb0116",
>>>>>>> documentation-devel
   "metadata": {},
   "outputs": [],
   "source": [
    "colData(sfe)$log_nCounts <- log(colData(sfe)$nCounts)\n",
    "\n",
    "avg <- as.data.frame(colData(sfe)) |>\n",
    "  dplyr::summarise(across(-sample_id, mean))\n",
    "\n",
    "violin <- plotColData(sfe, \"log_nCounts\") +\n",
    "  geom_hline(aes(yintercept = log_nCounts), avg, color=\"red\") +\n",
    "  theme(legend.position = \"top\") \n",
    "\n",
    "spatial <- plotSpatialFeature(sfe, features = \"log_nCounts\",\n",
    "                               colGeometryName = \"centroids\",\n",
    "                              size = 0.2)\n",
    "violin + spatial"
   ]
  },
  {
   "cell_type": "markdown",
<<<<<<< HEAD
<<<<<<< HEAD
   "id": "7175b77b",
||||||| b944554d
   "id": "4295bd49",
=======
   "id": "52674f39",
>>>>>>> documentation-devel
||||||| 35cb6e7a
   "id": "52674f39",
=======
   "id": "b9f9af42",
>>>>>>> documentation-devel
   "metadata": {},
   "source": [
    "The plot above visualizes the number of UMI counts per barcode on a log scale. It appears that barcodes with higher counts are co-localized in regions throughout the tissue, however, these regions are rather small and may not suggest spatial autocorrelation.\n",
    "\n",
    "Next we find number of genes detected per barcode. Again, this QC feature is provided as `nGenes` in the `colData` attribute for barcodes."
   ]
  },
  {
   "cell_type": "code",
   "execution_count": null,
<<<<<<< HEAD
<<<<<<< HEAD
   "id": "c34f39ec",
||||||| b944554d
   "id": "58334e43",
=======
   "id": "d42a484f",
>>>>>>> documentation-devel
||||||| 35cb6e7a
   "id": "d42a484f",
=======
   "id": "25a593db",
>>>>>>> documentation-devel
   "metadata": {},
   "outputs": [],
   "source": [
    "violin <- plotColData(sfe, \"nGenes\") +\n",
    "   geom_hline(aes(yintercept = nGenes), avg, color=\"red\") +\n",
    "  theme(legend.position = \"top\") \n",
    "\n",
    "spatial <- plotSpatialFeature(sfe, features = \"nGenes\",\n",
    "                              colGeometryName = \"centroids\",\n",
    "                              size = 0.2)\n",
    "violin + spatial"
   ]
  },
  {
   "cell_type": "markdown",
<<<<<<< HEAD
<<<<<<< HEAD
   "id": "fabcd248",
||||||| b944554d
   "id": "ac95432a",
=======
   "id": "dd1cfed4",
>>>>>>> documentation-devel
||||||| 35cb6e7a
   "id": "dd1cfed4",
=======
   "id": "e7e029a9",
>>>>>>> documentation-devel
   "metadata": {},
   "source": [
    "Similar to the number of UMI counts per barcode, there seem to be small regions with higher number of genes throughout the tissue. These may correspond to regions of cellular diversity or high cellular density, as might be expected in the context of melanoma.\n",
    "\n",
    "We can compute the degree to which the number of UMI counts per barcode depends on the spatial location of each measurement. This relationship, spatial autocorrelation, can be quantified using Moran's index of spatial autocorrelation, or Moran's *I*. The computation of Moran's *I* requires first a definition of what constitutes objects being \"near\" to each other. Most simply, this is represented as a spatial weights matrix. One possible representation is an adjacency matrix. This matrix can be computed for polygonal data and the resulting matrix can be binary, where entries are 1 if polygons share a border, and 0 elsewhere (including the diagonal). These entries can be weighted in different ways, including by the length of border shared between two polygons.\n",
    "\n",
    "This schema does not necessarily lend itself well to spatial transcriptomic technologies, where the polygonal boundaries of cell objects may not correspond to the measurements in the count matrix, or individual spots or barcodes may themselves correspond to multiple neighborhoods of cells. Certainly, the interpretation of spatial weights matrix will change depending on the technology.\n",
    "\n",
    "In any case, we can generate a putative spatial graph using the k-nearest neighbors algorithm. This is implemented in the `findSpatialNeighbors()` function with the argument `method = \"knearneigh\"` . We will store the result in the `colGraphs()` slot of the SFE object."
   ]
  },
  {
   "cell_type": "code",
   "execution_count": null,
<<<<<<< HEAD
<<<<<<< HEAD
   "id": "d1800dc4",
||||||| b944554d
   "id": "85251437",
=======
   "id": "06abe2bc",
>>>>>>> documentation-devel
||||||| 35cb6e7a
   "id": "06abe2bc",
=======
   "id": "d9e54aff",
>>>>>>> documentation-devel
   "metadata": {},
   "outputs": [],
   "source": [
    "colGraph(sfe, \"knn5\") <- findSpatialNeighbors(sfe, method = \"knearneigh\",\n",
    "                                              dist_type = \"idw\", k = 5, \n",
    "                                              style = \"W\")"
   ]
  },
  {
   "cell_type": "markdown",
<<<<<<< HEAD
<<<<<<< HEAD
   "id": "5e34d47f",
||||||| b944554d
   "id": "9b3f4522",
=======
   "id": "6bfd519e",
>>>>>>> documentation-devel
||||||| 35cb6e7a
   "id": "6bfd519e",
=======
   "id": "2930bddb",
>>>>>>> documentation-devel
   "metadata": {},
   "source": [
    "Now compute Moran\\'s I for some barcode QC metrics using `colDataMoransI()`."
   ]
  },
  {
   "cell_type": "code",
   "execution_count": null,
<<<<<<< HEAD
<<<<<<< HEAD
   "id": "487e8d16",
||||||| b944554d
   "id": "b1eac259",
=======
   "id": "5f8588c3",
>>>>>>> documentation-devel
||||||| 35cb6e7a
   "id": "5f8588c3",
=======
   "id": "9b76675b",
>>>>>>> documentation-devel
   "metadata": {},
   "outputs": [],
   "source": [
    "features_use <- c(\"nCounts\", \"nGenes\")\n",
    "sfe <- colDataMoransI(sfe, features_use, colGraphName = \"knn5\")"
   ]
  },
  {
   "cell_type": "code",
   "execution_count": null,
<<<<<<< HEAD
<<<<<<< HEAD
   "id": "7334ab79",
||||||| b944554d
   "id": "23239d2d",
=======
   "id": "81feb632",
>>>>>>> documentation-devel
||||||| 35cb6e7a
   "id": "81feb632",
=======
   "id": "37caa3a6",
>>>>>>> documentation-devel
   "metadata": {
    "lines_to_next_cell": 0
   },
   "outputs": [],
   "source": [
    "colFeatureData(sfe)[features_use,]"
   ]
  },
  {
   "cell_type": "markdown",
<<<<<<< HEAD
<<<<<<< HEAD
   "id": "9e374a96",
||||||| b944554d
   "id": "31efb9b2",
=======
   "id": "f57c2e41",
>>>>>>> documentation-devel
||||||| 35cb6e7a
   "id": "f57c2e41",
=======
   "id": "f78297e0",
>>>>>>> documentation-devel
   "metadata": {},
   "source": [
    "The results above do not substantiate the visual check for spatial autocorrelation. We will continue with investigating other QC metrics.\n",
    "\n",
    "The proportion of UMIs mapping to mitochondrial genes is a useful metric for assessing cell quality in scRNA-seq data. We will examine this QC metric below by plotting it versus total number of UMI counts for each barcode."
   ]
  },
  {
   "cell_type": "code",
   "execution_count": null,
<<<<<<< HEAD
<<<<<<< HEAD
   "id": "bdf8e7ca",
||||||| b944554d
   "id": "b998facc",
=======
   "id": "64006426",
>>>>>>> documentation-devel
||||||| 35cb6e7a
   "id": "64006426",
=======
   "id": "ce5a0881",
>>>>>>> documentation-devel
   "metadata": {},
   "outputs": [],
   "source": [
    "\n",
    "violin <- plotColData(sfe, \"prop_mito\") +\n",
    "    geom_hline(aes(yintercept = prop_mito), avg, color=\"red\") +\n",
    "    theme(legend.position = \"top\") \n",
    "\n",
    "mito <- plotColData(sfe, x = \"nCounts\", y = \"prop_mito\")\n",
    "\n",
    "violin + mito"
   ]
  },
  {
   "cell_type": "markdown",
<<<<<<< HEAD
<<<<<<< HEAD
   "id": "e5098ad0",
||||||| b944554d
   "id": "c09f39b5",
=======
   "id": "5be0d93b",
>>>>>>> documentation-devel
||||||| 35cb6e7a
   "id": "5be0d93b",
=======
   "id": "cc46f4e9",
>>>>>>> documentation-devel
   "metadata": {},
   "source": [
    "In keeping with expectations, barcodes associated with fewer counts appear to be associated with higher proportions of mitochondrial reads. We will exclude barcodes containing more than \\>10% mitochondrial reads for subsequent analysis. The second line removes barcodes with zero counts, but this is not necessary for this dataset as there are no barcodes with zero counts. We keep it here just to demonstrate the method. "
   ]
  },
  {
   "cell_type": "code",
   "execution_count": null,
<<<<<<< HEAD
<<<<<<< HEAD
   "id": "31f41a1a",
||||||| b944554d
   "id": "464b2249",
=======
   "id": "45e9b868",
>>>>>>> documentation-devel
||||||| 35cb6e7a
   "id": "45e9b868",
=======
   "id": "cb791f9e",
>>>>>>> documentation-devel
   "metadata": {},
   "outputs": [],
   "source": [
    "# Spatial neighborhood graph is reconstructed when subsetting columns\n",
    "# Use drop = TRUE to drop the graph without reconstruction, whose indices are \n",
    "# no longer valid\n",
    "sfe_filt <- sfe[, colData(sfe)$prop_mito < 0.1]\n",
    "sfe_filt <- sfe_filt[rowSums(counts(sfe_filt)) > 0,]"
   ]
  },
  {
   "cell_type": "markdown",
<<<<<<< HEAD
<<<<<<< HEAD
   "id": "5e5c0a88",
||||||| b944554d
   "id": "7c764a6a",
=======
   "id": "86957199",
>>>>>>> documentation-devel
||||||| 35cb6e7a
   "id": "86957199",
=======
   "id": "75b5e7c9",
>>>>>>> documentation-devel
   "metadata": {},
   "source": [
    "# Data Normalization\n",
    "\n",
    "Normalization of spatial transcriptomics data is non-trivial and requires thoughtful consideration. Similarly to scRNA-seq data analysis, the goal of normalization is to remove the effects of technical variation and derive a quantity that reflects biological variation. However, several questions arise when considering best practices for spatial data normalization. For example, spatial methods on average detect fewer UMIs than their single-cell counterparts, which may preclude the use normalization techniques such as log transformation as shown [here](<https://doi.org/10.1093/bioinformatics/btab085>). What's more, it is not always evident whether spatial autocorrelation between genes (or QC measures) is an artifact of the technology, and thus, whether normalization methods should preserve the spatial autocorrelation architecture. These questions provide avenues for active research and development, but are currently unresolved. To this end, we log-normalize the data in the cell below and identify variable genes for subsequent analysis."
   ]
  },
  {
   "cell_type": "code",
   "execution_count": null,
<<<<<<< HEAD
<<<<<<< HEAD
   "id": "a51a45e7",
||||||| b944554d
   "id": "02073e50",
=======
   "id": "add97aa2",
>>>>>>> documentation-devel
||||||| 35cb6e7a
   "id": "add97aa2",
=======
   "id": "39535310",
>>>>>>> documentation-devel
   "metadata": {},
   "outputs": [],
   "source": [
    "sfe_filt <- logNormCounts(sfe_filt)\n",
    "\n",
    "dec <- modelGeneVar(sfe_filt)\n",
    "hvgs <- getTopHVGs(dec, n = 2000)"
   ]
  },
  {
   "cell_type": "markdown",
<<<<<<< HEAD
<<<<<<< HEAD
   "id": "a664efc7",
||||||| b944554d
   "id": "0f1cf2ae",
=======
   "id": "80dceab9",
>>>>>>> documentation-devel
||||||| 35cb6e7a
   "id": "80dceab9",
=======
   "id": "d3435695",
>>>>>>> documentation-devel
   "metadata": {
    "lines_to_next_cell": 0
   },
   "source": [
    "# Dimension Reduction and Clustering\n",
    "Much like in scRNA-seq analysis, we perform principal component analysis (PCA) before clustering. We note that the method does not use any spatial information. "
   ]
  },
  {
   "cell_type": "code",
   "execution_count": null,
<<<<<<< HEAD
<<<<<<< HEAD
   "id": "1b663933",
||||||| b944554d
   "id": "9c5a8e8b",
=======
   "id": "97e88540",
>>>>>>> documentation-devel
||||||| 35cb6e7a
   "id": "97e88540",
=======
   "id": "7367ee3c",
>>>>>>> documentation-devel
   "metadata": {
    "lines_to_next_cell": 0
   },
   "outputs": [],
   "source": [
    "set.seed(29)\n",
    "sfe_filt <- runPCA(sfe_filt, ncomponents = 30, subset_row = hvgs,\n",
    "                   scale = TRUE, BSPARAM = BiocSingular::IrlbaParam()) \n",
    "# scale as in Seurat"
   ]
  },
  {
   "cell_type": "markdown",
<<<<<<< HEAD
<<<<<<< HEAD
   "id": "e2a3c63f",
||||||| b944554d
   "id": "109b7515",
=======
   "id": "c34d284c",
>>>>>>> documentation-devel
||||||| 35cb6e7a
   "id": "c34d284c",
=======
   "id": "5c4eb5b4",
>>>>>>> documentation-devel
   "metadata": {
    "lines_to_next_cell": 0
   },
   "source": [
    "We can plot the variance explained by each PC. "
   ]
  },
  {
   "cell_type": "code",
   "execution_count": null,
<<<<<<< HEAD
<<<<<<< HEAD
   "id": "908a7aff",
||||||| b944554d
   "id": "889bb7fa",
=======
   "id": "d37502ad",
>>>>>>> documentation-devel
||||||| 35cb6e7a
   "id": "d37502ad",
=======
   "id": "9f4f6e46",
>>>>>>> documentation-devel
   "metadata": {},
   "outputs": [],
   "source": [
    "ElbowPlot(sfe_filt, ndims = 30) + theme_bw()"
   ]
  },
  {
   "cell_type": "markdown",
<<<<<<< HEAD
<<<<<<< HEAD
   "id": "08577413",
||||||| b944554d
   "id": "3a155d8f",
=======
   "id": "f2941072",
>>>>>>> documentation-devel
||||||| 35cb6e7a
   "id": "f2941072",
=======
   "id": "27aa3107",
>>>>>>> documentation-devel
   "metadata": {
    "lines_to_next_cell": 0
   },
   "source": [
    "We see that the first few components explain most of the variance in the data. The principal components (PCs) can be plotted in space. Here we notice that the PCs may show some spatial structure that correlates to biological niches of cells. "
   ]
  },
  {
   "cell_type": "code",
   "execution_count": null,
<<<<<<< HEAD
<<<<<<< HEAD
   "id": "5af71bbf",
||||||| b944554d
   "id": "08aec560",
=======
   "id": "0525759c",
>>>>>>> documentation-devel
||||||| 35cb6e7a
   "id": "0525759c",
=======
   "id": "3d02ffc6",
>>>>>>> documentation-devel
   "metadata": {},
   "outputs": [],
   "source": [
    "spatialReducedDim(sfe_filt, \"PCA\", ncomponents = 4, \n",
    "                  colGeometryName = \"centroids\", divergent = TRUE, \n",
    "                  diverge_center = 0, scattermore = TRUE, pointsize = 0.5)"
   ]
  },
  {
   "cell_type": "markdown",
<<<<<<< HEAD
<<<<<<< HEAD
   "id": "68a611fe",
||||||| b944554d
   "id": "4d207e6a",
=======
   "id": "06bd9e5c",
>>>>>>> documentation-devel
||||||| 35cb6e7a
   "id": "06bd9e5c",
=======
   "id": "6b6bc455",
>>>>>>> documentation-devel
   "metadata": {},
   "source": [
    "Without the cellular overlays, we can only speculate about the potential relevance of the barcodes that seem to be separated by each PC, but each PC doe seem to separate distinct neighborhoods of barcodes.  "
   ]
  },
  {
   "cell_type": "markdown",
<<<<<<< HEAD
<<<<<<< HEAD
   "id": "f761a957",
||||||| b944554d
   "id": "c100671b",
=======
   "id": "2a93410e",
>>>>>>> documentation-devel
||||||| 35cb6e7a
   "id": "2a93410e",
=======
   "id": "36ee39de",
>>>>>>> documentation-devel
   "metadata": {
    "lines_to_next_cell": 0
   },
   "source": [
    "Now we can cluster the barcodes using a graph-based clustering algorithm and plot them in space. "
   ]
  },
  {
   "cell_type": "code",
   "execution_count": null,
<<<<<<< HEAD
<<<<<<< HEAD
   "id": "7c7eafb0",
||||||| b944554d
   "id": "32fe7eee",
=======
   "id": "c9ea852a",
>>>>>>> documentation-devel
||||||| 35cb6e7a
   "id": "c9ea852a",
=======
   "id": "c5d1a1b3",
>>>>>>> documentation-devel
   "metadata": {},
   "outputs": [],
   "source": [
    "colData(sfe_filt)$cluster <- clusterRows(reducedDim(sfe_filt, \"PCA\")[,1:3],\n",
    "                                           BLUSPARAM = SNNGraphParam(\n",
    "                                               cluster.fun = \"leiden\",\n",
    "                                               cluster.args = list(\n",
    "                                                   resolution_parameter = 0.5,\n",
    "                                                   objective_function = \"modularity\")))"
   ]
  },
  {
   "cell_type": "markdown",
<<<<<<< HEAD
<<<<<<< HEAD
   "id": "df403da6",
||||||| b944554d
   "id": "36656be1",
=======
   "id": "218d0ff8",
>>>>>>> documentation-devel
||||||| 35cb6e7a
   "id": "218d0ff8",
=======
   "id": "9c69ed13",
>>>>>>> documentation-devel
   "metadata": {
    "lines_to_next_cell": 0
   },
   "source": [
    "The plot below is colored by cluster id. A naive interpretation of the plot shows distinct niches of barcodes separated by more abundant, intervening types. This may be indicative of the biological processes at hand, namely melanoma metastasis, where 'hotspots' of melanoma proliferation would be separated by unaffected normal tissue. "
   ]
  },
  {
   "cell_type": "code",
   "execution_count": null,
<<<<<<< HEAD
<<<<<<< HEAD
   "id": "37f2ac69",
||||||| b944554d
   "id": "3b967961",
=======
   "id": "642a4114",
>>>>>>> documentation-devel
||||||| 35cb6e7a
   "id": "642a4114",
=======
   "id": "ea951fdb",
>>>>>>> documentation-devel
   "metadata": {},
   "outputs": [],
   "source": [
    "plotSpatialFeature(sfe_filt, \"cluster\", colGeometryName = \"centroids\") +\n",
    "  guides(colour = guide_legend(override.aes = list(size=3)))"
   ]
  },
  {
   "cell_type": "markdown",
<<<<<<< HEAD
<<<<<<< HEAD
   "id": "e1c1ca32",
||||||| b944554d
   "id": "cdf4a641",
=======
   "id": "e9c5cdda",
>>>>>>> documentation-devel
||||||| 35cb6e7a
   "id": "e9c5cdda",
=======
   "id": "f6699631",
>>>>>>> documentation-devel
   "metadata": {
    "lines_to_next_cell": 0
   },
   "source": [
    "## Moran's *I*\n",
    "\n",
    "One avenue for future analysis includes identifying genes that are differentially expressed in each cluster, This can be interrogated with `findMarkers()` in a non-spatial context and with `calculateMoransI()` in a spatial context. In the spatial case, some consideration should be given to whether the differences seen in across the tissue represent biological difference or artifacts from field of view. \n",
    "\n",
    "Here we run global Moran’s *I* on log normalized gene expression."
   ]
  },
  {
   "cell_type": "code",
   "execution_count": null,
<<<<<<< HEAD
<<<<<<< HEAD
   "id": "d7185d20",
||||||| b944554d
   "id": "941e2b79",
=======
   "id": "89a3e487",
>>>>>>> documentation-devel
||||||| 35cb6e7a
   "id": "89a3e487",
=======
   "id": "3828affe",
>>>>>>> documentation-devel
   "metadata": {},
   "outputs": [],
   "source": [
    "sfe_filt <- runMoransI(sfe_filt, features = hvgs, \n",
    "                       BPPARAM = MulticoreParam(2))"
   ]
  },
  {
   "cell_type": "markdown",
<<<<<<< HEAD
<<<<<<< HEAD
   "id": "ac34159c",
||||||| b944554d
   "id": "9cf9587f",
=======
   "id": "9e337519",
>>>>>>> documentation-devel
||||||| 35cb6e7a
   "id": "9e337519",
=======
   "id": "f1f64f4e",
>>>>>>> documentation-devel
   "metadata": {
    "lines_to_next_cell": 0
   },
   "source": [
    "Now, we might ask: which genes display the most spatial autocorrelation? "
   ]
  },
  {
   "cell_type": "code",
   "execution_count": null,
<<<<<<< HEAD
<<<<<<< HEAD
   "id": "9622fc86",
||||||| b944554d
   "id": "2402e32e",
=======
   "id": "9fff1b58",
>>>>>>> documentation-devel
||||||| 35cb6e7a
   "id": "9fff1b58",
=======
   "id": "89327172",
>>>>>>> documentation-devel
   "metadata": {},
   "outputs": [],
   "source": [
    "top_moran <- rownames(sfe_filt)[order(rowData(sfe_filt)$moran_sample01, \n",
    "                                      decreasing = TRUE)[1:4]]\n",
    "plotSpatialFeature(sfe_filt, top_moran, colGeometryName = \"centroids\",\n",
    "                   scattermore = TRUE, pointsize = 0.5)"
   ]
  },
  {
   "cell_type": "markdown",
<<<<<<< HEAD
<<<<<<< HEAD
   "id": "e3976b0d",
||||||| b944554d
   "id": "c8f4064e",
=======
   "id": "e7b8eb4b",
>>>>>>> documentation-devel
||||||| 35cb6e7a
   "id": "e7b8eb4b",
=======
   "id": "9f6341fd",
>>>>>>> documentation-devel
   "metadata": {},
   "source": [
    "Spatial variability can also be investigated using  differential expression testing known anatomical regions complemented with spatial location. One potential drawback to this approach is the variability that is induced by the melanoma, rather than the native tissue architecture, which may preclude identification of typical structures. \n",
    "\n",
    "Further analyses that can be done at this stage:\n",
    "\n",
    "1. What gene expression patterns, if any, differentiate the neighborhoods of melanoma cells?\n",
    "2. What genes are differentially expressed in each cluster? "
   ]
  },
  {
   "cell_type": "markdown",
<<<<<<< HEAD
<<<<<<< HEAD
   "id": "c761718f",
||||||| b944554d
   "id": "3fb0a3ab",
=======
   "id": "df612185",
>>>>>>> documentation-devel
||||||| 35cb6e7a
   "id": "df612185",
=======
   "id": "0f26c045",
>>>>>>> documentation-devel
   "metadata": {},
   "source": [
    "# Session Info"
   ]
  },
  {
   "cell_type": "code",
   "execution_count": null,
<<<<<<< HEAD
<<<<<<< HEAD
   "id": "13ed719b",
||||||| b944554d
   "id": "430ad673",
=======
   "id": "25d94742",
>>>>>>> documentation-devel
||||||| 35cb6e7a
   "id": "25d94742",
=======
   "id": "ab71f988",
>>>>>>> documentation-devel
   "metadata": {},
   "outputs": [],
   "source": [
    "sessionInfo()"
   ]
  },
  {
   "cell_type": "markdown",
<<<<<<< HEAD
<<<<<<< HEAD
   "id": "8806ada7",
||||||| b944554d
   "id": "db21c6f5",
=======
   "id": "a58e1925",
>>>>>>> documentation-devel
||||||| 35cb6e7a
   "id": "a58e1925",
=======
   "id": "e0b7e6b9",
>>>>>>> documentation-devel
   "metadata": {},
   "source": [
    "# References"
   ]
  }
 ],
 "metadata": {
  "kernelspec": {
   "display_name": "R",
   "language": "R",
   "name": "ir"
  }
 },
 "nbformat": 4,
 "nbformat_minor": 5
}
