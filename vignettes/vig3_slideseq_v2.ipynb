{
 "cells": [
  {
   "cell_type": "raw",
<<<<<<< HEAD
<<<<<<< HEAD
<<<<<<< HEAD
<<<<<<< HEAD
   "id": "715a027a",
||||||| 6a30bf1
   "id": "532ca79c",
=======
   "id": "0125801b",
>>>>>>> documentation-devel
||||||| d28b18c
   "id": "0125801b",
=======
   "id": "2c1960db",
>>>>>>> documentation-devel
||||||| 6893f63
<<<<<<< HEAD
   "id": "715a027a",
||||||| 6a30bf1
   "id": "532ca79c",
=======
   "id": "0125801b",
>>>>>>> documentation-devel
=======
   "id": "3171c09b",
>>>>>>> c74c98c2450c2a1ba922ed9442f136238d6bc88b
||||||| 6d93b645
   "id": "2c1960db",
=======
   "id": "5c56d423",
>>>>>>> documentation-devel
   "metadata": {},
   "source": [
    "---\n",
    "title: \"Slide-Seq V2 Exploratory Data Analysis\"\n",
    "author: \"Kayla Jackson\"\n",
    "date: \"`r Sys.Date()`\"\n",
    "output: \n",
    "  html_document:\n",
    "  toc: true\n",
    "  toc_float:\n",
    "    collapsed: false\n",
    "  toc_depth: 3\n",
    "bibliography: ref.bib\n",
    "vignette: >\n",
    "  %\\VignetteIndexEntry{slideseq_v2}\n",
    "  %\\VignetteEngine{knitr::rmarkdown}\n",
    "  %\\VignetteEncoding{UTF-8}\n",
    "---"
   ]
  },
  {
   "cell_type": "code",
   "execution_count": null,
<<<<<<< HEAD
<<<<<<< HEAD
<<<<<<< HEAD
<<<<<<< HEAD
   "id": "3eaf1cc1",
||||||| 6a30bf1
   "id": "dbc3854e",
=======
   "id": "97f9c4e8",
>>>>>>> documentation-devel
||||||| d28b18c
   "id": "97f9c4e8",
=======
   "id": "f5417b3b",
>>>>>>> documentation-devel
||||||| 6893f63
<<<<<<< HEAD
   "id": "3eaf1cc1",
||||||| 6a30bf1
   "id": "dbc3854e",
=======
   "id": "97f9c4e8",
>>>>>>> documentation-devel
=======
   "id": "9cba190b",
>>>>>>> c74c98c2450c2a1ba922ed9442f136238d6bc88b
||||||| 6d93b645
   "id": "f5417b3b",
=======
   "id": "49e97b3c",
>>>>>>> documentation-devel
   "metadata": {
    "tags": [
     "remove_cell"
    ]
   },
   "outputs": [],
   "source": [
    "knitr::opts_chunk$set(\n",
    "  collapse = TRUE,\n",
    "  comment = \"#>\", fig.align = \"center\"\n",
    ")"
   ]
  },
  {
   "cell_type": "code",
   "execution_count": null,
<<<<<<< HEAD
<<<<<<< HEAD
<<<<<<< HEAD
<<<<<<< HEAD
   "id": "24cf9dee",
||||||| 6a30bf1
   "id": "918007ba",
=======
   "id": "7ae80feb",
>>>>>>> documentation-devel
||||||| d28b18c
   "id": "7ae80feb",
=======
   "id": "c8e00c56",
>>>>>>> documentation-devel
||||||| 6893f63
<<<<<<< HEAD
   "id": "24cf9dee",
||||||| 6a30bf1
   "id": "918007ba",
=======
   "id": "7ae80feb",
>>>>>>> documentation-devel
=======
   "id": "7fdf1f89",
>>>>>>> c74c98c2450c2a1ba922ed9442f136238d6bc88b
||||||| 6d93b645
   "id": "c8e00c56",
=======
   "id": "8b8ca624",
>>>>>>> documentation-devel
   "metadata": {
    "eval": false,
    "tags": [
     "remove_cell"
    ]
   },
   "outputs": [],
   "source": [
    "# Install Google Colab dependencies\n",
    "# Note: this can take 30+ minutes (many of the dependencies include C++ code, which needs to be compiled)\n",
    "\n",
    "# First install `sf`, `ragg` and `textshaping` and their system dependencies:\n",
    "system(\"apt-get -y update && apt-get install -y  libudunits2-dev libgdal-dev libgeos-dev libproj-dev libharfbuzz-dev libfribidi-dev\")\n",
    "install.packages(\"sf\")\n",
    "install.packages(\"textshaping\")\n",
    "install.packages(\"ragg\")\n",
    "\n",
    "# Install system dependencies of some other R packages that Voyager either imports or suggests:\n",
    "system(\"apt-get install -y libfribidi-dev libcairo2-dev libmagick++-dev\")\n",
    "\n",
    "# Install Voyager from Bioconductor:\n",
    "install.packages(\"BiocManager\")\n",
    "BiocManager::install(version = \"3.17\", ask = FALSE, update = FALSE, Ncpus = 2)\n",
    "BiocManager::install(\"scater\")\n",
    "system.time(\n",
    "  BiocManager::install(\"Voyager\", dependencies = TRUE, Ncpus = 2, update = FALSE)\n",
    ")\n",
    "\n",
    "packageVersion(\"Voyager\")"
   ]
  },
  {
   "cell_type": "markdown",
<<<<<<< HEAD
<<<<<<< HEAD
<<<<<<< HEAD
<<<<<<< HEAD
   "id": "8b8ae135",
||||||| 6a30bf1
   "id": "74a25a13",
=======
   "id": "94194a79",
>>>>>>> documentation-devel
||||||| d28b18c
   "id": "94194a79",
=======
   "id": "5a5c7f9b",
>>>>>>> documentation-devel
||||||| 6893f63
<<<<<<< HEAD
   "id": "8b8ae135",
||||||| 6a30bf1
   "id": "74a25a13",
=======
   "id": "94194a79",
>>>>>>> documentation-devel
=======
   "id": "e27b74a6",
>>>>>>> c74c98c2450c2a1ba922ed9442f136238d6bc88b
||||||| 6d93b645
   "id": "5a5c7f9b",
=======
   "id": "048e00c9",
>>>>>>> documentation-devel
   "metadata": {},
   "source": [
    "## Introduction\n",
    "\n",
    "[Slide-seq V2](https://doi.org/10.1038/s41587-020-0739-1) is a spatial transcriptomic tool that measures genome-wide expression using DNA-barcoded beads patterned on a slide in an non-regular array. The beads used in the current protocol have a diameter of $10 \\mu m$ and are thus larger than a single cell, but the number of detected transcripts is an order of magnitude higher compared to the previous iteration of the technology.\n",
    "\n",
    "In this vignette, we use `Voyager` to analyze a dataset generated using the Slide-Seq V2 technology. The data is described in [Dissecting the treatment-naive ecosystem of human melanoma brain metastasis](https://doi.org/10.1016/j.cell.2022.06.007) [@Biermann2022-cu]. The raw counts and cell metadata are publicly available from GEO. We will focus on one of the human melanoma brain metastasis (MBM) samples that are provided in the `SFEData` package as a `SpatialFeatureExperiment`(SFE) object. The SFE object contains raw counts, QC metrics such as number of UMIs and genes detected per barcode, and centroid coordinates for each barcode as a `sf` POINT geometry."
   ]
  },
  {
   "cell_type": "code",
   "execution_count": null,
<<<<<<< HEAD
<<<<<<< HEAD
<<<<<<< HEAD
<<<<<<< HEAD
   "id": "aa79aef2",
||||||| 6a30bf1
   "id": "ee8d2a1e",
=======
   "id": "52b210a5",
>>>>>>> documentation-devel
||||||| d28b18c
   "id": "52b210a5",
=======
   "id": "e98a114d",
>>>>>>> documentation-devel
||||||| 6893f63
<<<<<<< HEAD
   "id": "aa79aef2",
||||||| 6a30bf1
   "id": "ee8d2a1e",
=======
   "id": "52b210a5",
>>>>>>> documentation-devel
=======
   "id": "6d4d3d1a",
>>>>>>> c74c98c2450c2a1ba922ed9442f136238d6bc88b
||||||| 6d93b645
   "id": "e98a114d",
=======
   "id": "d905738f",
>>>>>>> documentation-devel
   "metadata": {
    "name": "setup"
   },
   "outputs": [],
   "source": [
    "library(Voyager)\n",
    "library(SFEData)\n",
    "library(SingleCellExperiment)\n",
    "library(SpatialExperiment)\n",
    "library(scater)\n",
    "library(scran)\n",
    "library(bluster)\n",
    "library(ggplot2)\n",
    "library(patchwork)\n",
    "library(spdep)\n",
    "library(BiocParallel)\n",
    "\n",
    "theme_set(theme_bw())"
   ]
  },
  {
   "cell_type": "code",
   "execution_count": null,
<<<<<<< HEAD
<<<<<<< HEAD
<<<<<<< HEAD
<<<<<<< HEAD
   "id": "7fc137c0",
||||||| 6a30bf1
   "id": "7ffd0ab0",
=======
   "id": "9fe1b623",
>>>>>>> documentation-devel
||||||| d28b18c
   "id": "9fe1b623",
=======
   "id": "332e1193",
>>>>>>> documentation-devel
||||||| 6893f63
<<<<<<< HEAD
   "id": "7fc137c0",
||||||| 6a30bf1
   "id": "7ffd0ab0",
=======
   "id": "9fe1b623",
>>>>>>> documentation-devel
=======
   "id": "2759d9ef",
>>>>>>> c74c98c2450c2a1ba922ed9442f136238d6bc88b
||||||| 6d93b645
   "id": "332e1193",
=======
   "id": "353dab8b",
>>>>>>> documentation-devel
   "metadata": {},
   "outputs": [],
   "source": [
    "(sfe <- BiermannMelaMetasData(dataset = \"MBM05_rep1\"))"
   ]
  },
  {
   "cell_type": "markdown",
<<<<<<< HEAD
<<<<<<< HEAD
<<<<<<< HEAD
<<<<<<< HEAD
   "id": "a9e052e1",
||||||| 6a30bf1
   "id": "78960eb0",
=======
   "id": "dda4f8e2",
>>>>>>> documentation-devel
||||||| d28b18c
   "id": "dda4f8e2",
=======
   "id": "8bc522d6",
>>>>>>> documentation-devel
||||||| 6893f63
<<<<<<< HEAD
   "id": "a9e052e1",
||||||| 6a30bf1
   "id": "78960eb0",
=======
   "id": "dda4f8e2",
>>>>>>> documentation-devel
=======
   "id": "68815970",
>>>>>>> c74c98c2450c2a1ba922ed9442f136238d6bc88b
||||||| 6d93b645
   "id": "8bc522d6",
=======
   "id": "5d5450a6",
>>>>>>> documentation-devel
   "metadata": {},
   "source": [
    "The SFE object in the `SFEData` package includes information for 27,566 features and 29,536 beads/barcodes.\n",
    "\n",
    "# Quality control (QC)\n",
    "\n",
    "We begin by performing some exploratory data analysis on the barcodes in the tissue. There are some pre-computed QC measures that are stored in the object."
   ]
  },
  {
   "cell_type": "code",
   "execution_count": null,
<<<<<<< HEAD
<<<<<<< HEAD
<<<<<<< HEAD
<<<<<<< HEAD
   "id": "b89d64bf",
||||||| 6a30bf1
   "id": "69c2ffe2",
=======
   "id": "33d2e905",
>>>>>>> documentation-devel
||||||| d28b18c
   "id": "33d2e905",
=======
   "id": "dc84fb08",
>>>>>>> documentation-devel
||||||| 6893f63
<<<<<<< HEAD
   "id": "b89d64bf",
||||||| 6a30bf1
   "id": "69c2ffe2",
=======
   "id": "33d2e905",
>>>>>>> documentation-devel
=======
   "id": "561b164b",
>>>>>>> c74c98c2450c2a1ba922ed9442f136238d6bc88b
||||||| 6d93b645
   "id": "dc84fb08",
=======
   "id": "a8fdce21",
>>>>>>> documentation-devel
   "metadata": {},
   "outputs": [],
   "source": [
    "names(colData(sfe))"
   ]
  },
  {
   "cell_type": "markdown",
<<<<<<< HEAD
<<<<<<< HEAD
<<<<<<< HEAD
<<<<<<< HEAD
   "id": "d3dc3567",
||||||| 6a30bf1
   "id": "c3a99bfa",
=======
   "id": "20038743",
>>>>>>> documentation-devel
||||||| d28b18c
   "id": "20038743",
=======
   "id": "5efd2fae",
>>>>>>> documentation-devel
||||||| 6893f63
<<<<<<< HEAD
   "id": "d3dc3567",
||||||| 6a30bf1
   "id": "c3a99bfa",
=======
   "id": "20038743",
>>>>>>> documentation-devel
=======
   "id": "acdf323f",
>>>>>>> c74c98c2450c2a1ba922ed9442f136238d6bc88b
||||||| 6d93b645
   "id": "5efd2fae",
=======
   "id": "d1d6d98f",
>>>>>>> documentation-devel
   "metadata": {},
   "source": [
    "Total UMI counts (`nCounts`), number of genes detected per spot (`nGenes`), and the proportion of mitochondrially encoded counts (`prop_mito`). Below, we plot the total number of UMI counts per barcode as a violin plot and in space. For the latter task, we leverage the function `plotSpatialFeature()` which uses `geom_sf()` to plot geometries where applicable. The first few lines compute the average number of UMI counts per barcode and this average is plotted as a red line in the violin plot. "
   ]
  },
  {
   "cell_type": "code",
   "execution_count": null,
<<<<<<< HEAD
<<<<<<< HEAD
<<<<<<< HEAD
<<<<<<< HEAD
   "id": "0972ce80",
||||||| 6a30bf1
   "id": "715b21da",
=======
   "id": "91e4ad9c",
>>>>>>> documentation-devel
||||||| d28b18c
   "id": "91e4ad9c",
=======
   "id": "468ef6f5",
>>>>>>> documentation-devel
||||||| 6893f63
<<<<<<< HEAD
   "id": "0972ce80",
||||||| 6a30bf1
   "id": "715b21da",
=======
   "id": "91e4ad9c",
>>>>>>> documentation-devel
=======
   "id": "437d0b56",
>>>>>>> c74c98c2450c2a1ba922ed9442f136238d6bc88b
||||||| 6d93b645
   "id": "468ef6f5",
=======
   "id": "abf2c58d",
>>>>>>> documentation-devel
   "metadata": {},
   "outputs": [],
   "source": [
    "avg <- as.data.frame(colData(sfe)) |>\n",
    "  dplyr::summarise(across(-sample_id, mean))\n",
    "\n",
    "violin <- plotColData(sfe, \"nCounts\") +\n",
    "  geom_hline(aes(yintercept = nCounts), avg, color=\"red\") +\n",
    "  theme(legend.position = \"top\") \n",
    "\n",
    "spatial <- plotSpatialFeature(sfe, features = \"nCounts\",\n",
    "                               colGeometryName = \"centroids\", size = 0.2) +\n",
    "    theme_void()\n",
    "violin + spatial"
   ]
  },
  {
   "cell_type": "markdown",
<<<<<<< HEAD
<<<<<<< HEAD
<<<<<<< HEAD
<<<<<<< HEAD
   "id": "a7859c5a",
||||||| 6a30bf1
   "id": "2933ff6e",
=======
   "id": "48fdbd5c",
>>>>>>> documentation-devel
||||||| d28b18c
   "id": "48fdbd5c",
=======
   "id": "627db42e",
>>>>>>> documentation-devel
||||||| 6893f63
<<<<<<< HEAD
   "id": "a7859c5a",
||||||| 6a30bf1
   "id": "2933ff6e",
=======
   "id": "48fdbd5c",
>>>>>>> documentation-devel
=======
   "id": "a0b14091",
>>>>>>> c74c98c2450c2a1ba922ed9442f136238d6bc88b
||||||| 6d93b645
   "id": "627db42e",
=======
   "id": "29edb5ac",
>>>>>>> documentation-devel
   "metadata": {
    "lines_to_next_cell": 0
   },
   "source": [
    "Each barcode is represented as an `sf` POINT geometry In the plot above, we note that many beads have quite low UMI counts, but there are small regions throughout the tissue that appear to have high counts. This is perhaps due to high cellular density of the melanoma cells, but we can only speculate without an image of the tissue. Interestingly, there are not any barcodes with zero counts. This is in contrast to many scRNA-seq dataset were many cells have zero counts. \n",
    "\n",
    "Given the density of points, we may choose to aggregate points into a hexagonal grid to avoid overplotting. Each hexagon will be colored by the total number of UMI counts in that space and each hexagon may represent more than one barcode. "
   ]
  },
  {
   "cell_type": "code",
   "execution_count": null,
<<<<<<< HEAD
<<<<<<< HEAD
<<<<<<< HEAD
<<<<<<< HEAD
   "id": "19ab4698",
||||||| 6a30bf1
   "id": "66cb600f",
=======
   "id": "1d652ba6",
>>>>>>> documentation-devel
||||||| d28b18c
   "id": "1d652ba6",
=======
   "id": "f3870069",
>>>>>>> documentation-devel
||||||| 6893f63
<<<<<<< HEAD
   "id": "19ab4698",
||||||| 6a30bf1
   "id": "66cb600f",
=======
   "id": "1d652ba6",
>>>>>>> documentation-devel
=======
   "id": "8de0fdcf",
>>>>>>> c74c98c2450c2a1ba922ed9442f136238d6bc88b
||||||| 6d93b645
   "id": "f3870069",
=======
   "id": "a2898d79",
>>>>>>> documentation-devel
   "metadata": {},
   "outputs": [],
   "source": [
    "as.data.frame(cbind(spatialCoords(sfe), colData(sfe))) |> \n",
    "    ggplot(aes(xcoord, ycoord, z=nCounts)) +\n",
    "    stat_summary_hex(fun = function(x) sum(x), bins=100) + \n",
    "    scale_fill_distiller(palette = \"Blues\", direction = 1) +\n",
    "    labs(fill='nCounts')  +\n",
    "    theme_bw() + coord_equal() +\n",
    "    scale_x_continuous(expand = expansion()) +\n",
    "    scale_y_continuous(expand = expansion()) +\n",
    "    theme_void()"
   ]
  },
  {
   "cell_type": "markdown",
<<<<<<< HEAD
<<<<<<< HEAD
<<<<<<< HEAD
<<<<<<< HEAD
   "id": "e99b56ee",
||||||| 6a30bf1
   "id": "16a5cfc5",
=======
   "id": "7aef07ea",
>>>>>>> documentation-devel
||||||| d28b18c
   "id": "7aef07ea",
=======
   "id": "970e28b3",
>>>>>>> documentation-devel
||||||| 6893f63
<<<<<<< HEAD
   "id": "e99b56ee",
||||||| 6a30bf1
   "id": "16a5cfc5",
=======
   "id": "7aef07ea",
>>>>>>> documentation-devel
=======
   "id": "6412b147",
>>>>>>> c74c98c2450c2a1ba922ed9442f136238d6bc88b
||||||| 6d93b645
   "id": "970e28b3",
=======
   "id": "35daefbd",
>>>>>>> documentation-devel
   "metadata": {},
   "source": [
    "It is worthwhile to note that cell segmentation data were not included with this dataset. Even though Slide-Seq V2 does not profile gene expression at single cell resolution, cell segmentation data can be flexibly stored as `annotGeometries` in the `SFE` object. These geometries can be plotted with barcode-level data and can be used with `sf` for operations like finding the number of barcodes localized to a single cell."
   ]
  },
  {
   "cell_type": "code",
   "execution_count": null,
<<<<<<< HEAD
<<<<<<< HEAD
<<<<<<< HEAD
<<<<<<< HEAD
   "id": "b6d84498",
||||||| 6a30bf1
   "id": "57837327",
=======
   "id": "131014fe",
>>>>>>> documentation-devel
||||||| d28b18c
   "id": "131014fe",
=======
   "id": "84946ff5",
>>>>>>> documentation-devel
||||||| 6893f63
<<<<<<< HEAD
   "id": "b6d84498",
||||||| 6a30bf1
   "id": "57837327",
=======
   "id": "131014fe",
>>>>>>> documentation-devel
=======
   "id": "be6cf57e",
>>>>>>> c74c98c2450c2a1ba922ed9442f136238d6bc88b
||||||| 6d93b645
   "id": "84946ff5",
=======
   "id": "eb6ba39e",
>>>>>>> documentation-devel
   "metadata": {},
   "outputs": [],
   "source": [
    "colData(sfe)$log_nCounts <- log(colData(sfe)$nCounts)\n",
    "\n",
    "avg <- as.data.frame(colData(sfe)) |>\n",
    "  dplyr::summarise(across(-sample_id, mean))\n",
    "\n",
    "violin <- plotColData(sfe, \"log_nCounts\") +\n",
    "  geom_hline(aes(yintercept = log_nCounts), avg, color=\"red\") +\n",
    "  theme(legend.position = \"top\") \n",
    "\n",
    "spatial <- plotSpatialFeature(sfe, features = \"log_nCounts\",\n",
    "                               colGeometryName = \"centroids\",\n",
    "                              size = 0.2)\n",
    "violin + spatial"
   ]
  },
  {
   "cell_type": "markdown",
<<<<<<< HEAD
<<<<<<< HEAD
<<<<<<< HEAD
<<<<<<< HEAD
   "id": "d6141a46",
||||||| 6a30bf1
   "id": "7ae02b52",
=======
   "id": "deb42c57",
>>>>>>> documentation-devel
||||||| d28b18c
   "id": "deb42c57",
=======
   "id": "4a264e3d",
>>>>>>> documentation-devel
||||||| 6893f63
<<<<<<< HEAD
   "id": "d6141a46",
||||||| 6a30bf1
   "id": "7ae02b52",
=======
   "id": "deb42c57",
>>>>>>> documentation-devel
=======
   "id": "4ef35421",
>>>>>>> c74c98c2450c2a1ba922ed9442f136238d6bc88b
||||||| 6d93b645
   "id": "4a264e3d",
=======
   "id": "9d8ce09f",
>>>>>>> documentation-devel
   "metadata": {},
   "source": [
    "The plot above visualizes the number of UMI counts per barcode on a log scale. It appears that barcodes with higher counts are co-localized in regions throughout the tissue, however, these regions are rather small and may not suggest spatial autocorrelation.\n",
    "\n",
    "Next we find number of genes detected per barcode. Again, this QC feature is provided as `nGenes` in the `colData` attribute for barcodes."
   ]
  },
  {
   "cell_type": "code",
   "execution_count": null,
<<<<<<< HEAD
<<<<<<< HEAD
<<<<<<< HEAD
<<<<<<< HEAD
   "id": "f610a22f",
||||||| 6a30bf1
   "id": "f48ec65f",
=======
   "id": "2972bae4",
>>>>>>> documentation-devel
||||||| d28b18c
   "id": "2972bae4",
=======
   "id": "8ca7f1aa",
>>>>>>> documentation-devel
||||||| 6893f63
<<<<<<< HEAD
   "id": "f610a22f",
||||||| 6a30bf1
   "id": "f48ec65f",
=======
   "id": "2972bae4",
>>>>>>> documentation-devel
=======
   "id": "7a34d7fc",
>>>>>>> c74c98c2450c2a1ba922ed9442f136238d6bc88b
||||||| 6d93b645
   "id": "8ca7f1aa",
=======
   "id": "ed3c3973",
>>>>>>> documentation-devel
   "metadata": {},
   "outputs": [],
   "source": [
    "violin <- plotColData(sfe, \"nGenes\") +\n",
    "   geom_hline(aes(yintercept = nGenes), avg, color=\"red\") +\n",
    "  theme(legend.position = \"top\") \n",
    "\n",
    "spatial <- plotSpatialFeature(sfe, features = \"nGenes\",\n",
    "                              colGeometryName = \"centroids\",\n",
    "                              size = 0.2)\n",
    "violin + spatial"
   ]
  },
  {
   "cell_type": "markdown",
<<<<<<< HEAD
<<<<<<< HEAD
<<<<<<< HEAD
<<<<<<< HEAD
   "id": "d9cfaaa7",
||||||| 6a30bf1
   "id": "cbf44288",
=======
   "id": "851b83da",
>>>>>>> documentation-devel
||||||| d28b18c
   "id": "851b83da",
=======
   "id": "5268e30a",
>>>>>>> documentation-devel
||||||| 6893f63
<<<<<<< HEAD
   "id": "d9cfaaa7",
||||||| 6a30bf1
   "id": "cbf44288",
=======
   "id": "851b83da",
>>>>>>> documentation-devel
=======
   "id": "53e942ac",
>>>>>>> c74c98c2450c2a1ba922ed9442f136238d6bc88b
||||||| 6d93b645
   "id": "5268e30a",
=======
   "id": "d74d5b4a",
>>>>>>> documentation-devel
   "metadata": {},
   "source": [
    "Similar to the number of UMI counts per barcode, there seem to be small regions with higher number of genes throughout the tissue. These may correspond to regions of cellular diversity or high cellular density, as might be expected in the context of melanoma.\n",
    "\n",
    "We can compute the degree to which the number of UMI counts per barcode depends on the spatial location of each measurement. This relationship, spatial autocorrelation, can be quantified using Moran's index of spatial autocorrelation, or Moran's *I*. The computation of Moran's *I* requires first a definition of what constitutes objects being \"near\" to each other. Most simply, this is represented as a spatial weights matrix. One possible representation is an adjacency matrix. This matrix can be computed for polygonal data and the resulting matrix can be binary, where entries are 1 if polygons share a border, and 0 elsewhere (including the diagonal). These entries can be weighted in different ways, including by the length of border shared between two polygons.\n",
    "\n",
    "This schema does not necessarily lend itself well to spatial transcriptomic technologies, where the polygonal boundaries of cell objects may not correspond to the measurements in the count matrix, or individual spots or barcodes may themselves correspond to multiple neighborhoods of cells. Certainly, the interpretation of spatial weights matrix will change depending on the technology.\n",
    "\n",
    "In any case, we can generate a putative spatial graph using the k-nearest neighbors algorithm. This is implemented in the `findSpatialNeighbors()` function with the argument `method = \"knearneigh\"` . We will store the result in the `colGraphs()` slot of the SFE object."
   ]
  },
  {
   "cell_type": "code",
   "execution_count": null,
<<<<<<< HEAD
<<<<<<< HEAD
<<<<<<< HEAD
<<<<<<< HEAD
   "id": "c85d1d5c",
||||||| 6a30bf1
   "id": "e025b65c",
=======
   "id": "9e3fe80f",
>>>>>>> documentation-devel
||||||| d28b18c
   "id": "9e3fe80f",
=======
   "id": "67f89050",
>>>>>>> documentation-devel
||||||| 6893f63
<<<<<<< HEAD
   "id": "c85d1d5c",
||||||| 6a30bf1
   "id": "e025b65c",
=======
   "id": "9e3fe80f",
>>>>>>> documentation-devel
=======
   "id": "d5512b74",
>>>>>>> c74c98c2450c2a1ba922ed9442f136238d6bc88b
||||||| 6d93b645
   "id": "67f89050",
=======
   "id": "2301e6c2",
>>>>>>> documentation-devel
   "metadata": {},
   "outputs": [],
   "source": [
    "colGraph(sfe, \"knn5\") <- findSpatialNeighbors(sfe, method = \"knearneigh\",\n",
    "                                              dist_type = \"idw\", k = 5, \n",
    "                                              style = \"W\")"
   ]
  },
  {
   "cell_type": "markdown",
<<<<<<< HEAD
<<<<<<< HEAD
<<<<<<< HEAD
<<<<<<< HEAD
   "id": "42791ba9",
||||||| 6a30bf1
   "id": "b9e05dca",
=======
   "id": "14f1cbac",
>>>>>>> documentation-devel
||||||| d28b18c
   "id": "14f1cbac",
=======
   "id": "b081ab8a",
>>>>>>> documentation-devel
||||||| 6893f63
<<<<<<< HEAD
   "id": "42791ba9",
||||||| 6a30bf1
   "id": "b9e05dca",
=======
   "id": "14f1cbac",
>>>>>>> documentation-devel
=======
   "id": "1a2f3e65",
>>>>>>> c74c98c2450c2a1ba922ed9442f136238d6bc88b
||||||| 6d93b645
   "id": "b081ab8a",
=======
   "id": "1bc6e265",
>>>>>>> documentation-devel
   "metadata": {},
   "source": [
    "Now compute Moran\\'s I for some barcode QC metrics using `colDataMoransI()`."
   ]
  },
  {
   "cell_type": "code",
   "execution_count": null,
<<<<<<< HEAD
<<<<<<< HEAD
<<<<<<< HEAD
<<<<<<< HEAD
   "id": "c5bbec3f",
||||||| 6a30bf1
   "id": "eae9e31a",
=======
   "id": "a34b6aa4",
>>>>>>> documentation-devel
||||||| d28b18c
   "id": "a34b6aa4",
=======
   "id": "0dacb81e",
>>>>>>> documentation-devel
||||||| 6893f63
<<<<<<< HEAD
   "id": "c5bbec3f",
||||||| 6a30bf1
   "id": "eae9e31a",
=======
   "id": "a34b6aa4",
>>>>>>> documentation-devel
=======
   "id": "cf46d7d3",
>>>>>>> c74c98c2450c2a1ba922ed9442f136238d6bc88b
||||||| 6d93b645
   "id": "0dacb81e",
=======
   "id": "7c23ef12",
>>>>>>> documentation-devel
   "metadata": {},
   "outputs": [],
   "source": [
    "features_use <- c(\"nCounts\", \"nGenes\")\n",
    "sfe <- colDataMoransI(sfe, features_use, colGraphName = \"knn5\")"
   ]
  },
  {
   "cell_type": "code",
   "execution_count": null,
<<<<<<< HEAD
<<<<<<< HEAD
<<<<<<< HEAD
<<<<<<< HEAD
   "id": "b4662900",
||||||| 6a30bf1
   "id": "e9d692e6",
=======
   "id": "5b0b414b",
>>>>>>> documentation-devel
||||||| d28b18c
   "id": "5b0b414b",
=======
   "id": "8990022b",
>>>>>>> documentation-devel
||||||| 6893f63
<<<<<<< HEAD
   "id": "b4662900",
||||||| 6a30bf1
   "id": "e9d692e6",
=======
   "id": "5b0b414b",
>>>>>>> documentation-devel
=======
   "id": "42bcf4cb",
>>>>>>> c74c98c2450c2a1ba922ed9442f136238d6bc88b
||||||| 6d93b645
   "id": "8990022b",
=======
   "id": "2c8d7718",
>>>>>>> documentation-devel
   "metadata": {
    "lines_to_next_cell": 0
   },
   "outputs": [],
   "source": [
    "colFeatureData(sfe)[features_use,]"
   ]
  },
  {
   "cell_type": "markdown",
<<<<<<< HEAD
<<<<<<< HEAD
<<<<<<< HEAD
<<<<<<< HEAD
   "id": "d8493ac3",
||||||| 6a30bf1
   "id": "89808073",
=======
   "id": "2a8fb930",
>>>>>>> documentation-devel
||||||| d28b18c
   "id": "2a8fb930",
=======
   "id": "916d5c1c",
>>>>>>> documentation-devel
||||||| 6893f63
<<<<<<< HEAD
   "id": "d8493ac3",
||||||| 6a30bf1
   "id": "89808073",
=======
   "id": "2a8fb930",
>>>>>>> documentation-devel
=======
   "id": "961d013b",
>>>>>>> c74c98c2450c2a1ba922ed9442f136238d6bc88b
||||||| 6d93b645
   "id": "916d5c1c",
=======
   "id": "49f8191f",
>>>>>>> documentation-devel
   "metadata": {},
   "source": [
    "The results above do not substantiate the visual check for spatial autocorrelation. We will continue with investigating other QC metrics.\n",
    "\n",
    "The proportion of UMIs mapping to mitochondrial genes is a useful metric for assessing cell quality in scRNA-seq data. We will examine this QC metric below by plotting it versus total number of UMI counts for each barcode."
   ]
  },
  {
   "cell_type": "code",
   "execution_count": null,
<<<<<<< HEAD
<<<<<<< HEAD
<<<<<<< HEAD
<<<<<<< HEAD
   "id": "62abf9b7",
||||||| 6a30bf1
   "id": "27fbc557",
=======
   "id": "5b278dee",
>>>>>>> documentation-devel
||||||| d28b18c
   "id": "5b278dee",
=======
   "id": "782da711",
>>>>>>> documentation-devel
||||||| 6893f63
<<<<<<< HEAD
   "id": "62abf9b7",
||||||| 6a30bf1
   "id": "27fbc557",
=======
   "id": "5b278dee",
>>>>>>> documentation-devel
=======
   "id": "042523bc",
>>>>>>> c74c98c2450c2a1ba922ed9442f136238d6bc88b
||||||| 6d93b645
   "id": "782da711",
=======
   "id": "8e4fc600",
>>>>>>> documentation-devel
   "metadata": {},
   "outputs": [],
   "source": [
    "\n",
    "violin <- plotColData(sfe, \"prop_mito\") +\n",
    "    geom_hline(aes(yintercept = prop_mito), avg, color=\"red\") +\n",
    "    theme(legend.position = \"top\") \n",
    "\n",
    "mito <- plotColData(sfe, x = \"nCounts\", y = \"prop_mito\")\n",
    "\n",
    "violin + mito"
   ]
  },
  {
   "cell_type": "markdown",
<<<<<<< HEAD
<<<<<<< HEAD
<<<<<<< HEAD
<<<<<<< HEAD
   "id": "034eeb5f",
||||||| 6a30bf1
   "id": "dbfaaa8f",
=======
   "id": "71d25f6c",
>>>>>>> documentation-devel
||||||| d28b18c
   "id": "71d25f6c",
=======
   "id": "e6140caa",
>>>>>>> documentation-devel
||||||| 6893f63
<<<<<<< HEAD
   "id": "034eeb5f",
||||||| 6a30bf1
   "id": "dbfaaa8f",
=======
   "id": "71d25f6c",
>>>>>>> documentation-devel
=======
   "id": "82b15e7a",
>>>>>>> c74c98c2450c2a1ba922ed9442f136238d6bc88b
||||||| 6d93b645
   "id": "e6140caa",
=======
   "id": "92395d37",
>>>>>>> documentation-devel
   "metadata": {},
   "source": [
    "In keeping with expectations, barcodes associated with fewer counts appear to be associated with higher proportions of mitochondrial reads. We will exclude barcodes containing more than \\>10% mitochondrial reads for subsequent analysis. The second line removes barcodes with zero counts, but this is not necessary for this dataset as there are no barcodes with zero counts. We keep it here just to demonstrate the method. "
   ]
  },
  {
   "cell_type": "code",
   "execution_count": null,
<<<<<<< HEAD
<<<<<<< HEAD
<<<<<<< HEAD
<<<<<<< HEAD
   "id": "4a14a457",
||||||| 6a30bf1
   "id": "601fa40b",
=======
   "id": "5eb2ad56",
>>>>>>> documentation-devel
||||||| d28b18c
   "id": "5eb2ad56",
=======
   "id": "7f2dd5a5",
>>>>>>> documentation-devel
||||||| 6893f63
<<<<<<< HEAD
   "id": "4a14a457",
||||||| 6a30bf1
   "id": "601fa40b",
=======
   "id": "5eb2ad56",
>>>>>>> documentation-devel
=======
   "id": "751c14d9",
>>>>>>> c74c98c2450c2a1ba922ed9442f136238d6bc88b
||||||| 6d93b645
   "id": "7f2dd5a5",
=======
   "id": "d24338fd",
>>>>>>> documentation-devel
   "metadata": {},
   "outputs": [],
   "source": [
    "# Spatial neighborhood graph is reconstructed when subsetting columns\n",
    "# Use drop = TRUE to drop the graph without reconstruction, whose indices are \n",
    "# no longer valid\n",
    "sfe_filt <- sfe[, colData(sfe)$prop_mito < 0.1]\n",
    "sfe_filt <- sfe_filt[rowSums(counts(sfe_filt)) > 0,]"
   ]
  },
  {
   "cell_type": "markdown",
<<<<<<< HEAD
<<<<<<< HEAD
<<<<<<< HEAD
<<<<<<< HEAD
   "id": "8a6934a2",
||||||| 6a30bf1
   "id": "cdebeb01",
=======
   "id": "566a1280",
>>>>>>> documentation-devel
||||||| d28b18c
   "id": "566a1280",
=======
   "id": "793d64ff",
>>>>>>> documentation-devel
||||||| 6893f63
<<<<<<< HEAD
   "id": "8a6934a2",
||||||| 6a30bf1
   "id": "cdebeb01",
=======
   "id": "566a1280",
>>>>>>> documentation-devel
=======
   "id": "cf06a850",
>>>>>>> c74c98c2450c2a1ba922ed9442f136238d6bc88b
||||||| 6d93b645
   "id": "793d64ff",
=======
   "id": "ddc4190a",
>>>>>>> documentation-devel
   "metadata": {},
   "source": [
    "# Data Normalization\n",
    "\n",
    "Normalization of spatial transcriptomics data is non-trivial and requires thoughtful consideration. Similarly to scRNA-seq data analysis, the goal of normalization is to remove the effects of technical variation and derive a quantity that reflects biological variation. However, several questions arise when considering best practices for spatial data normalization. For example, spatial methods on average detect fewer UMIs than their single-cell counterparts, which may preclude the use normalization techniques such as log transformation as shown [here](<https://doi.org/10.1093/bioinformatics/btab085>). What's more, it is not always evident whether spatial autocorrelation between genes (or QC measures) is an artifact of the technology, and thus, whether normalization methods should preserve the spatial autocorrelation architecture. These questions provide avenues for active research and development, but are currently unresolved. To this end, we log-normalize the data in the cell below and identify variable genes for subsequent analysis."
   ]
  },
  {
   "cell_type": "code",
   "execution_count": null,
<<<<<<< HEAD
<<<<<<< HEAD
<<<<<<< HEAD
<<<<<<< HEAD
   "id": "1d9edd98",
||||||| 6a30bf1
   "id": "b9e8409e",
=======
   "id": "109b3905",
>>>>>>> documentation-devel
||||||| d28b18c
   "id": "109b3905",
=======
   "id": "52772ee5",
>>>>>>> documentation-devel
||||||| 6893f63
<<<<<<< HEAD
   "id": "1d9edd98",
||||||| 6a30bf1
   "id": "b9e8409e",
=======
   "id": "109b3905",
>>>>>>> documentation-devel
=======
   "id": "87be9291",
>>>>>>> c74c98c2450c2a1ba922ed9442f136238d6bc88b
||||||| 6d93b645
   "id": "52772ee5",
=======
   "id": "057fb492",
>>>>>>> documentation-devel
   "metadata": {},
   "outputs": [],
   "source": [
    "sfe_filt <- logNormCounts(sfe_filt)\n",
    "\n",
    "dec <- modelGeneVar(sfe_filt)\n",
    "hvgs <- getTopHVGs(dec, n = 2000)"
   ]
  },
  {
   "cell_type": "markdown",
<<<<<<< HEAD
<<<<<<< HEAD
<<<<<<< HEAD
<<<<<<< HEAD
   "id": "683bf4d5",
||||||| 6a30bf1
   "id": "dac62a24",
=======
   "id": "6b7123e7",
>>>>>>> documentation-devel
||||||| d28b18c
   "id": "6b7123e7",
=======
   "id": "bb0e1bce",
>>>>>>> documentation-devel
||||||| 6893f63
<<<<<<< HEAD
   "id": "683bf4d5",
||||||| 6a30bf1
   "id": "dac62a24",
=======
   "id": "6b7123e7",
>>>>>>> documentation-devel
=======
   "id": "248152c9",
>>>>>>> c74c98c2450c2a1ba922ed9442f136238d6bc88b
||||||| 6d93b645
   "id": "bb0e1bce",
=======
   "id": "5c539e5e",
>>>>>>> documentation-devel
   "metadata": {
    "lines_to_next_cell": 0
   },
   "source": [
    "# Dimension Reduction and Clustering\n",
    "Much like in scRNA-seq analysis, we perform principal component analysis (PCA) before clustering. We note that the method does not use any spatial information. "
   ]
  },
  {
   "cell_type": "code",
   "execution_count": null,
<<<<<<< HEAD
<<<<<<< HEAD
<<<<<<< HEAD
<<<<<<< HEAD
   "id": "adb4788b",
||||||| 6a30bf1
   "id": "5f43d491",
=======
   "id": "0a23ea2f",
>>>>>>> documentation-devel
||||||| d28b18c
   "id": "0a23ea2f",
=======
   "id": "d70fdb1d",
>>>>>>> documentation-devel
||||||| 6893f63
<<<<<<< HEAD
   "id": "adb4788b",
||||||| 6a30bf1
   "id": "5f43d491",
=======
   "id": "0a23ea2f",
>>>>>>> documentation-devel
=======
   "id": "33943c55",
>>>>>>> c74c98c2450c2a1ba922ed9442f136238d6bc88b
||||||| 6d93b645
   "id": "d70fdb1d",
=======
   "id": "4a2a17e7",
>>>>>>> documentation-devel
   "metadata": {
    "lines_to_next_cell": 0
   },
   "outputs": [],
   "source": [
    "set.seed(29)\n",
    "sfe_filt <- runPCA(sfe_filt, ncomponents = 30, subset_row = hvgs,\n",
    "                   scale = TRUE, BSPARAM = BiocSingular::IrlbaParam()) \n",
    "# scale as in Seurat"
   ]
  },
  {
   "cell_type": "markdown",
<<<<<<< HEAD
<<<<<<< HEAD
<<<<<<< HEAD
<<<<<<< HEAD
   "id": "7e687cea",
||||||| 6a30bf1
   "id": "c21caa5d",
=======
   "id": "bf72df79",
>>>>>>> documentation-devel
||||||| d28b18c
   "id": "bf72df79",
=======
   "id": "d4ac31ac",
>>>>>>> documentation-devel
||||||| 6893f63
<<<<<<< HEAD
   "id": "7e687cea",
||||||| 6a30bf1
   "id": "c21caa5d",
=======
   "id": "bf72df79",
>>>>>>> documentation-devel
=======
   "id": "6d4ffea6",
>>>>>>> c74c98c2450c2a1ba922ed9442f136238d6bc88b
||||||| 6d93b645
   "id": "d4ac31ac",
=======
   "id": "585075df",
>>>>>>> documentation-devel
   "metadata": {
    "lines_to_next_cell": 0
   },
   "source": [
    "We can plot the variance explained by each PC. "
   ]
  },
  {
   "cell_type": "code",
   "execution_count": null,
<<<<<<< HEAD
<<<<<<< HEAD
<<<<<<< HEAD
<<<<<<< HEAD
   "id": "03057feb",
||||||| 6a30bf1
   "id": "50a99586",
=======
   "id": "56a1abce",
>>>>>>> documentation-devel
||||||| d28b18c
   "id": "56a1abce",
=======
   "id": "30fea038",
>>>>>>> documentation-devel
||||||| 6893f63
<<<<<<< HEAD
   "id": "03057feb",
||||||| 6a30bf1
   "id": "50a99586",
=======
   "id": "56a1abce",
>>>>>>> documentation-devel
=======
   "id": "8f14de27",
>>>>>>> c74c98c2450c2a1ba922ed9442f136238d6bc88b
||||||| 6d93b645
   "id": "30fea038",
=======
   "id": "280c2361",
>>>>>>> documentation-devel
   "metadata": {},
   "outputs": [],
   "source": [
    "ElbowPlot(sfe_filt, ndims = 30) + theme_bw()"
   ]
  },
  {
   "cell_type": "markdown",
<<<<<<< HEAD
<<<<<<< HEAD
<<<<<<< HEAD
<<<<<<< HEAD
   "id": "60e24792",
||||||| 6a30bf1
   "id": "d25efc11",
=======
   "id": "8c312f3b",
>>>>>>> documentation-devel
||||||| d28b18c
   "id": "8c312f3b",
=======
   "id": "924dd662",
>>>>>>> documentation-devel
||||||| 6893f63
<<<<<<< HEAD
   "id": "60e24792",
||||||| 6a30bf1
   "id": "d25efc11",
=======
   "id": "8c312f3b",
>>>>>>> documentation-devel
=======
   "id": "58bab7d7",
>>>>>>> c74c98c2450c2a1ba922ed9442f136238d6bc88b
||||||| 6d93b645
   "id": "924dd662",
=======
   "id": "5c2f964b",
>>>>>>> documentation-devel
   "metadata": {
    "lines_to_next_cell": 0
   },
   "source": [
    "We see that the first few components explain most of the variance in the data. The principal components (PCs) can be plotted in space. Here we notice that the PCs may show some spatial structure that correlates to biological niches of cells. "
   ]
  },
  {
   "cell_type": "code",
   "execution_count": null,
<<<<<<< HEAD
<<<<<<< HEAD
<<<<<<< HEAD
<<<<<<< HEAD
   "id": "fa748a02",
||||||| 6a30bf1
   "id": "051b4016",
=======
   "id": "23c84800",
>>>>>>> documentation-devel
||||||| d28b18c
   "id": "23c84800",
=======
   "id": "9eeadade",
>>>>>>> documentation-devel
||||||| 6893f63
<<<<<<< HEAD
   "id": "fa748a02",
||||||| 6a30bf1
   "id": "051b4016",
=======
   "id": "23c84800",
>>>>>>> documentation-devel
=======
   "id": "05c5fc1c",
>>>>>>> c74c98c2450c2a1ba922ed9442f136238d6bc88b
||||||| 6d93b645
   "id": "9eeadade",
=======
   "id": "835e478b",
>>>>>>> documentation-devel
   "metadata": {},
   "outputs": [],
   "source": [
    "spatialReducedDim(sfe_filt, \"PCA\", ncomponents = 4, \n",
    "                  colGeometryName = \"centroids\", divergent = TRUE, \n",
    "                  diverge_center = 0, scattermore = TRUE, pointsize = 0.5)"
   ]
  },
  {
   "cell_type": "markdown",
<<<<<<< HEAD
<<<<<<< HEAD
<<<<<<< HEAD
<<<<<<< HEAD
   "id": "3ba358fb",
||||||| 6a30bf1
   "id": "37bb1b41",
=======
   "id": "9dac3422",
>>>>>>> documentation-devel
||||||| d28b18c
   "id": "9dac3422",
=======
   "id": "3ba5b5f4",
>>>>>>> documentation-devel
||||||| 6893f63
<<<<<<< HEAD
   "id": "3ba358fb",
||||||| 6a30bf1
   "id": "37bb1b41",
=======
   "id": "9dac3422",
>>>>>>> documentation-devel
=======
   "id": "b7078090",
>>>>>>> c74c98c2450c2a1ba922ed9442f136238d6bc88b
||||||| 6d93b645
   "id": "3ba5b5f4",
=======
   "id": "dc60a53f",
>>>>>>> documentation-devel
   "metadata": {},
   "source": [
    "Without the cellular overlays, we can only speculate about the potential relevance of the barcodes that seem to be separated by each PC, but each PC doe seem to separate distinct neighborhoods of barcodes.  "
   ]
  },
  {
   "cell_type": "markdown",
<<<<<<< HEAD
<<<<<<< HEAD
<<<<<<< HEAD
<<<<<<< HEAD
   "id": "28c15c1c",
||||||| 6a30bf1
   "id": "52015556",
=======
   "id": "aaa3fc64",
>>>>>>> documentation-devel
||||||| d28b18c
   "id": "aaa3fc64",
=======
   "id": "60a83e87",
>>>>>>> documentation-devel
||||||| 6893f63
<<<<<<< HEAD
   "id": "28c15c1c",
||||||| 6a30bf1
   "id": "52015556",
=======
   "id": "aaa3fc64",
>>>>>>> documentation-devel
=======
   "id": "1435a189",
>>>>>>> c74c98c2450c2a1ba922ed9442f136238d6bc88b
||||||| 6d93b645
   "id": "60a83e87",
=======
   "id": "36fc09ae",
>>>>>>> documentation-devel
   "metadata": {
    "lines_to_next_cell": 0
   },
   "source": [
    "Now we can cluster the barcodes using a graph-based clustering algorithm and plot them in space. "
   ]
  },
  {
   "cell_type": "code",
   "execution_count": null,
<<<<<<< HEAD
<<<<<<< HEAD
<<<<<<< HEAD
<<<<<<< HEAD
   "id": "6b5b792f",
||||||| 6a30bf1
   "id": "462628a9",
=======
   "id": "5353b788",
>>>>>>> documentation-devel
||||||| d28b18c
   "id": "5353b788",
=======
   "id": "8ed67e00",
>>>>>>> documentation-devel
||||||| 6893f63
<<<<<<< HEAD
   "id": "6b5b792f",
||||||| 6a30bf1
   "id": "462628a9",
=======
   "id": "5353b788",
>>>>>>> documentation-devel
=======
   "id": "90986a1a",
>>>>>>> c74c98c2450c2a1ba922ed9442f136238d6bc88b
||||||| 6d93b645
   "id": "8ed67e00",
=======
   "id": "79879ea4",
>>>>>>> documentation-devel
   "metadata": {},
   "outputs": [],
   "source": [
    "colData(sfe_filt)$cluster <- clusterRows(reducedDim(sfe_filt, \"PCA\")[,1:3],\n",
    "                                           BLUSPARAM = SNNGraphParam(\n",
    "                                               cluster.fun = \"leiden\",\n",
    "                                               cluster.args = list(\n",
    "                                                   resolution_parameter = 0.5,\n",
    "                                                   objective_function = \"modularity\")))"
   ]
  },
  {
   "cell_type": "markdown",
<<<<<<< HEAD
<<<<<<< HEAD
<<<<<<< HEAD
<<<<<<< HEAD
   "id": "3729f270",
||||||| 6a30bf1
   "id": "659978ff",
=======
   "id": "ce7aac50",
>>>>>>> documentation-devel
||||||| d28b18c
   "id": "ce7aac50",
=======
   "id": "4d44a162",
>>>>>>> documentation-devel
||||||| 6893f63
<<<<<<< HEAD
   "id": "3729f270",
||||||| 6a30bf1
   "id": "659978ff",
=======
   "id": "ce7aac50",
>>>>>>> documentation-devel
=======
   "id": "0321a67e",
>>>>>>> c74c98c2450c2a1ba922ed9442f136238d6bc88b
||||||| 6d93b645
   "id": "4d44a162",
=======
   "id": "e5b0d0d8",
>>>>>>> documentation-devel
   "metadata": {
    "lines_to_next_cell": 0
   },
   "source": [
    "The plot below is colored by cluster id. A naive interpretation of the plot shows distinct niches of barcodes separated by more abundant, intervening types. This may be indicative of the biological processes at hand, namely melanoma metastasis, where 'hotspots' of melanoma proliferation would be separated by unaffected normal tissue. "
   ]
  },
  {
   "cell_type": "code",
   "execution_count": null,
<<<<<<< HEAD
<<<<<<< HEAD
<<<<<<< HEAD
<<<<<<< HEAD
   "id": "9973db29",
||||||| 6a30bf1
   "id": "227a768b",
=======
   "id": "4722e3da",
>>>>>>> documentation-devel
||||||| d28b18c
   "id": "4722e3da",
=======
   "id": "1388be3e",
>>>>>>> documentation-devel
||||||| 6893f63
<<<<<<< HEAD
   "id": "9973db29",
||||||| 6a30bf1
   "id": "227a768b",
=======
   "id": "4722e3da",
>>>>>>> documentation-devel
=======
   "id": "0b8f1f4d",
>>>>>>> c74c98c2450c2a1ba922ed9442f136238d6bc88b
||||||| 6d93b645
   "id": "1388be3e",
=======
   "id": "d901c929",
>>>>>>> documentation-devel
   "metadata": {},
   "outputs": [],
   "source": [
    "plotSpatialFeature(sfe_filt, \"cluster\", colGeometryName = \"centroids\") +\n",
    "  guides(colour = guide_legend(override.aes = list(size=3)))"
   ]
  },
  {
   "cell_type": "markdown",
<<<<<<< HEAD
<<<<<<< HEAD
<<<<<<< HEAD
<<<<<<< HEAD
   "id": "0c72619b",
||||||| 6a30bf1
   "id": "e8c50c04",
=======
   "id": "47dad345",
>>>>>>> documentation-devel
||||||| d28b18c
   "id": "47dad345",
=======
   "id": "954acbb3",
>>>>>>> documentation-devel
||||||| 6893f63
<<<<<<< HEAD
   "id": "0c72619b",
||||||| 6a30bf1
   "id": "e8c50c04",
=======
   "id": "47dad345",
>>>>>>> documentation-devel
=======
   "id": "14b7f30f",
>>>>>>> c74c98c2450c2a1ba922ed9442f136238d6bc88b
||||||| 6d93b645
   "id": "954acbb3",
=======
   "id": "e7ab92ab",
>>>>>>> documentation-devel
   "metadata": {
    "lines_to_next_cell": 0
   },
   "source": [
    "## Moran's *I*\n",
    "\n",
    "One avenue for future analysis includes identifying genes that are differentially expressed in each cluster, This can be interrogated with `findMarkers()` in a non-spatial context and with `calculateMoransI()` in a spatial context. In the spatial case, some consideration should be given to whether the differences seen in across the tissue represent biological difference or artifacts from field of view. \n",
    "\n",
    "Here we run global Moran’s *I* on log normalized gene expression."
   ]
  },
  {
   "cell_type": "code",
   "execution_count": null,
<<<<<<< HEAD
<<<<<<< HEAD
<<<<<<< HEAD
<<<<<<< HEAD
   "id": "da0223f9",
||||||| 6a30bf1
   "id": "2c15cf8a",
=======
   "id": "9e3d4f72",
>>>>>>> documentation-devel
||||||| d28b18c
   "id": "9e3d4f72",
=======
   "id": "0fb9226d",
>>>>>>> documentation-devel
||||||| 6893f63
<<<<<<< HEAD
   "id": "da0223f9",
||||||| 6a30bf1
   "id": "2c15cf8a",
=======
   "id": "9e3d4f72",
>>>>>>> documentation-devel
=======
   "id": "4df87226",
>>>>>>> c74c98c2450c2a1ba922ed9442f136238d6bc88b
||||||| 6d93b645
   "id": "0fb9226d",
=======
   "id": "2d5eda0e",
>>>>>>> documentation-devel
   "metadata": {},
   "outputs": [],
   "source": [
    "sfe_filt <- runMoransI(sfe_filt, features = hvgs, \n",
    "                       BPPARAM = MulticoreParam(2))"
   ]
  },
  {
   "cell_type": "markdown",
<<<<<<< HEAD
<<<<<<< HEAD
<<<<<<< HEAD
<<<<<<< HEAD
   "id": "437ab2ab",
||||||| 6a30bf1
   "id": "517b1a0f",
=======
   "id": "67015f3d",
>>>>>>> documentation-devel
||||||| d28b18c
   "id": "67015f3d",
=======
   "id": "479ad45b",
>>>>>>> documentation-devel
||||||| 6893f63
<<<<<<< HEAD
   "id": "437ab2ab",
||||||| 6a30bf1
   "id": "517b1a0f",
=======
   "id": "67015f3d",
>>>>>>> documentation-devel
=======
   "id": "aaf1e8e5",
>>>>>>> c74c98c2450c2a1ba922ed9442f136238d6bc88b
||||||| 6d93b645
   "id": "479ad45b",
=======
   "id": "031c02e9",
>>>>>>> documentation-devel
   "metadata": {
    "lines_to_next_cell": 0
   },
   "source": [
    "Now, we might ask: which genes display the most spatial autocorrelation? "
   ]
  },
  {
   "cell_type": "code",
   "execution_count": null,
<<<<<<< HEAD
<<<<<<< HEAD
<<<<<<< HEAD
<<<<<<< HEAD
   "id": "369b644a",
||||||| 6a30bf1
   "id": "f7e3c83c",
=======
   "id": "b12ea6f6",
>>>>>>> documentation-devel
||||||| d28b18c
   "id": "b12ea6f6",
=======
   "id": "c9da6c24",
>>>>>>> documentation-devel
||||||| 6893f63
<<<<<<< HEAD
   "id": "369b644a",
||||||| 6a30bf1
   "id": "f7e3c83c",
=======
   "id": "b12ea6f6",
>>>>>>> documentation-devel
=======
   "id": "10e68a2f",
>>>>>>> c74c98c2450c2a1ba922ed9442f136238d6bc88b
||||||| 6d93b645
   "id": "c9da6c24",
=======
   "id": "05adb46f",
>>>>>>> documentation-devel
   "metadata": {},
   "outputs": [],
   "source": [
    "top_moran <- rownames(sfe_filt)[order(rowData(sfe_filt)$moran_sample01, \n",
    "                                      decreasing = TRUE)[1:4]]\n",
    "plotSpatialFeature(sfe_filt, top_moran, colGeometryName = \"centroids\",\n",
    "                   scattermore = TRUE, pointsize = 0.5)"
   ]
  },
  {
   "cell_type": "markdown",
<<<<<<< HEAD
<<<<<<< HEAD
<<<<<<< HEAD
<<<<<<< HEAD
   "id": "6b0a7807",
||||||| 6a30bf1
   "id": "dbd2004c",
=======
   "id": "25c180c0",
>>>>>>> documentation-devel
||||||| d28b18c
   "id": "25c180c0",
=======
   "id": "e201aa02",
>>>>>>> documentation-devel
||||||| 6893f63
<<<<<<< HEAD
   "id": "6b0a7807",
||||||| 6a30bf1
   "id": "dbd2004c",
=======
   "id": "25c180c0",
>>>>>>> documentation-devel
=======
   "id": "f2d3ba1a",
>>>>>>> c74c98c2450c2a1ba922ed9442f136238d6bc88b
||||||| 6d93b645
   "id": "e201aa02",
=======
   "id": "42c07676",
>>>>>>> documentation-devel
   "metadata": {},
   "source": [
    "Spatial variability can also be investigated using  differential expression testing known anatomical regions complemented with spatial location. One potential drawback to this approach is the variability that is induced by the melanoma, rather than the native tissue architecture, which may preclude identification of typical structures. \n",
    "\n",
    "Further analyses that can be done at this stage:\n",
    "\n",
    "1. What gene expression patterns, if any, differentiate the neighborhoods of melanoma cells?\n",
    "2. What genes are differentially expressed in each cluster? "
   ]
  },
  {
   "cell_type": "markdown",
<<<<<<< HEAD
<<<<<<< HEAD
<<<<<<< HEAD
<<<<<<< HEAD
   "id": "2d516a5e",
||||||| 6a30bf1
   "id": "c6f306f9",
=======
   "id": "a1329626",
>>>>>>> documentation-devel
||||||| d28b18c
   "id": "a1329626",
=======
   "id": "480e7b85",
>>>>>>> documentation-devel
||||||| 6893f63
<<<<<<< HEAD
   "id": "2d516a5e",
||||||| 6a30bf1
   "id": "c6f306f9",
=======
   "id": "a1329626",
>>>>>>> documentation-devel
=======
   "id": "475dbd7f",
>>>>>>> c74c98c2450c2a1ba922ed9442f136238d6bc88b
||||||| 6d93b645
   "id": "480e7b85",
=======
   "id": "29579b98",
>>>>>>> documentation-devel
   "metadata": {},
   "source": [
    "# Session Info"
   ]
  },
  {
   "cell_type": "code",
   "execution_count": null,
<<<<<<< HEAD
<<<<<<< HEAD
<<<<<<< HEAD
<<<<<<< HEAD
   "id": "44efa65f",
||||||| 6a30bf1
   "id": "3fbc3fda",
=======
   "id": "1b7036f7",
>>>>>>> documentation-devel
||||||| d28b18c
   "id": "1b7036f7",
=======
   "id": "d493edef",
>>>>>>> documentation-devel
||||||| 6893f63
<<<<<<< HEAD
   "id": "44efa65f",
||||||| 6a30bf1
   "id": "3fbc3fda",
=======
   "id": "1b7036f7",
>>>>>>> documentation-devel
=======
   "id": "37d40d11",
>>>>>>> c74c98c2450c2a1ba922ed9442f136238d6bc88b
||||||| 6d93b645
   "id": "d493edef",
=======
   "id": "e5b85ad6",
>>>>>>> documentation-devel
   "metadata": {},
   "outputs": [],
   "source": [
    "sessionInfo()"
   ]
  },
  {
   "cell_type": "markdown",
<<<<<<< HEAD
<<<<<<< HEAD
<<<<<<< HEAD
<<<<<<< HEAD
   "id": "ba985594",
||||||| 6a30bf1
   "id": "4312feb3",
=======
   "id": "4922eff7",
>>>>>>> documentation-devel
||||||| d28b18c
   "id": "4922eff7",
=======
   "id": "e7bd9b2e",
>>>>>>> documentation-devel
||||||| 6893f63
<<<<<<< HEAD
   "id": "ba985594",
||||||| 6a30bf1
   "id": "4312feb3",
=======
   "id": "4922eff7",
>>>>>>> documentation-devel
=======
   "id": "213170ff",
>>>>>>> c74c98c2450c2a1ba922ed9442f136238d6bc88b
||||||| 6d93b645
   "id": "e7bd9b2e",
=======
   "id": "7af8679f",
>>>>>>> documentation-devel
   "metadata": {},
   "source": [
    "# References"
   ]
  }
 ],
 "metadata": {
  "kernelspec": {
   "display_name": "R",
   "language": "R",
   "name": "ir"
  }
 },
 "nbformat": 4,
 "nbformat_minor": 5
}
