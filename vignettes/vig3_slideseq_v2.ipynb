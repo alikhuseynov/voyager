{
 "cells": [
  {
   "cell_type": "raw",
<<<<<<< HEAD
<<<<<<< HEAD
   "id": "15f0c6a3",
||||||| d29fab7
   "id": "2e1e5649",
=======
   "id": "42578a88",
>>>>>>> documentation-devel
||||||| 565f7a7
   "id": "15f0c6a3",
=======
   "id": "aee341b3",
>>>>>>> e08844e1a91b8e98d8bdd4d0244954bda0b7215b
   "metadata": {},
   "source": [
    "---\n",
    "title: \"Slide-Seq V2 Exploratory Data Analysis\"\n",
    "author: \"Kayla Jackson\"\n",
    "date: \"`r Sys.Date()`\"\n",
    "output: \n",
    "  html_document:\n",
    "  toc: true\n",
    "  toc_float:\n",
    "    collapsed: false\n",
    "  toc_depth: 3\n",
    "bibliography: ref.bib\n",
    "vignette: >\n",
    "  %\\VignetteIndexEntry{slideseq_v2}\n",
    "  %\\VignetteEngine{knitr::rmarkdown}\n",
    "  %\\VignetteEncoding{UTF-8}\n",
    "---"
   ]
  },
  {
   "cell_type": "code",
   "execution_count": null,
<<<<<<< HEAD
<<<<<<< HEAD
   "id": "cf75ffbd",
||||||| d29fab7
   "id": "e849d5e5",
=======
   "id": "9ed0890f",
>>>>>>> documentation-devel
||||||| 565f7a7
   "id": "cf75ffbd",
=======
   "id": "b1152566",
>>>>>>> e08844e1a91b8e98d8bdd4d0244954bda0b7215b
   "metadata": {
    "tags": [
     "remove_cell"
    ]
   },
   "outputs": [],
   "source": [
    "knitr::opts_chunk$set(\n",
    "  collapse = TRUE,\n",
    "  comment = \"#>\", fig.align = \"center\"\n",
    ")"
   ]
  },
  {
   "cell_type": "code",
   "execution_count": null,
<<<<<<< HEAD
<<<<<<< HEAD
   "id": "1ef6224f",
||||||| d29fab7
   "id": "a8785db2",
=======
   "id": "ea8b3856",
>>>>>>> documentation-devel
||||||| 565f7a7
   "id": "1ef6224f",
=======
   "id": "4a1062fb",
>>>>>>> e08844e1a91b8e98d8bdd4d0244954bda0b7215b
   "metadata": {
    "eval": false,
    "tags": [
     "remove_cell"
    ]
   },
   "outputs": [],
   "source": [
    "# Install Google Colab dependencies\n",
    "# Note: this can take 30+ minutes (many of the dependencies include C++ code, which needs to be compiled)\n",
    "\n",
    "# First install `sf`, `ragg` and `textshaping` and their system dependencies:\n",
    "system(\"apt-get -y update && apt-get install -y  libudunits2-dev libgdal-dev libgeos-dev libproj-dev libharfbuzz-dev libfribidi-dev\")\n",
    "install.packages(\"sf\")\n",
    "install.packages(\"textshaping\")\n",
    "install.packages(\"ragg\")\n",
    "\n",
    "# Install system dependencies of some other R packages that Voyager either imports or suggests:\n",
    "system(\"apt-get install -y libfribidi-dev libcairo2-dev libmagick++-dev\")\n",
    "\n",
    "# Install Voyager from Bioconductor:\n",
    "install.packages(\"BiocManager\")\n",
    "BiocManager::install(version = \"3.17\", ask = FALSE, update = FALSE, Ncpus = 2)\n",
    "BiocManager::install(\"scater\")\n",
    "system.time(\n",
    "  BiocManager::install(\"Voyager\", dependencies = TRUE, Ncpus = 2, update = FALSE)\n",
    ")\n",
    "\n",
    "packageVersion(\"Voyager\")"
   ]
  },
  {
   "cell_type": "markdown",
<<<<<<< HEAD
<<<<<<< HEAD
   "id": "3f907183",
||||||| d29fab7
   "id": "a329d624",
=======
   "id": "da75895a",
>>>>>>> documentation-devel
||||||| 565f7a7
   "id": "3f907183",
=======
   "id": "87a17629",
>>>>>>> e08844e1a91b8e98d8bdd4d0244954bda0b7215b
   "metadata": {},
   "source": [
    "## Introduction\n",
    "\n",
    "[Slide-seq V2](https://doi.org/10.1038/s41587-020-0739-1) is a spatial transcriptomic tool that measures genome-wide expression using DNA-barcoded beads patterned on a slide in an non-regular array. The beads used in the current protocol have a diameter of $10 \\mu m$ and are thus larger than a single cell, but the number of detected transcripts is an order of magnitude higher compared to the previous iteration of the technology.\n",
    "\n",
    "In this vignette, we use `Voyager` to analyze a dataset generated using the Slide-Seq V2 technology. The data is described in [Dissecting the treatment-naive ecosystem of human melanoma brain metastasis](https://doi.org/10.1016/j.cell.2022.06.007) [@Biermann2022-cu]. The raw counts and cell metadata are publicly available from GEO. We will focus on one of the human melanoma brain metastasis (MBM) samples that are provided in the `SFEData` package as a `SpatialFeatureExperiment`(SFE) object. The SFE object contains raw counts, QC metrics such as number of UMIs and genes detected per barcode, and centroid coordinates for each barcode as a `sf` POINT geometry."
   ]
  },
  {
   "cell_type": "code",
   "execution_count": null,
<<<<<<< HEAD
<<<<<<< HEAD
   "id": "12e9d780",
||||||| d29fab7
   "id": "55b8362b",
=======
   "id": "233a30da",
>>>>>>> documentation-devel
||||||| 565f7a7
   "id": "12e9d780",
=======
   "id": "ee49f119",
>>>>>>> e08844e1a91b8e98d8bdd4d0244954bda0b7215b
   "metadata": {
    "name": "setup"
   },
   "outputs": [],
   "source": [
    "library(Voyager)\n",
    "library(SFEData)\n",
    "library(SingleCellExperiment)\n",
    "library(SpatialExperiment)\n",
    "library(scater)\n",
    "library(scran)\n",
    "library(bluster)\n",
    "library(ggplot2)\n",
    "library(patchwork)\n",
    "library(spdep)\n",
    "library(BiocParallel)\n",
    "\n",
    "theme_set(theme_bw())"
   ]
  },
  {
   "cell_type": "code",
   "execution_count": null,
<<<<<<< HEAD
<<<<<<< HEAD
   "id": "5da33f39",
||||||| d29fab7
   "id": "859d6129",
=======
   "id": "1bb0486c",
>>>>>>> documentation-devel
||||||| 565f7a7
   "id": "5da33f39",
=======
   "id": "d1d08051",
>>>>>>> e08844e1a91b8e98d8bdd4d0244954bda0b7215b
   "metadata": {},
   "outputs": [],
   "source": [
    "(sfe <- BiermannMelaMetasData(dataset = \"MBM05_rep1\"))"
   ]
  },
  {
   "cell_type": "markdown",
<<<<<<< HEAD
<<<<<<< HEAD
   "id": "02ea0101",
||||||| d29fab7
   "id": "8a0ed053",
=======
   "id": "51355012",
>>>>>>> documentation-devel
||||||| 565f7a7
   "id": "02ea0101",
=======
   "id": "bd703d4f",
>>>>>>> e08844e1a91b8e98d8bdd4d0244954bda0b7215b
   "metadata": {},
   "source": [
    "The SFE object in the `SFEData` package includes information for 27,566 features and 29,536 beads/barcodes.\n",
    "\n",
    "# Quality control (QC)\n",
    "\n",
    "We begin by performing some exploratory data analysis on the barcodes in the tissue. There are some pre-computed QC measures that are stored in the object."
   ]
  },
  {
   "cell_type": "code",
   "execution_count": null,
<<<<<<< HEAD
<<<<<<< HEAD
   "id": "90f6f7b9",
||||||| d29fab7
   "id": "4c440944",
=======
   "id": "36997eed",
>>>>>>> documentation-devel
||||||| 565f7a7
   "id": "90f6f7b9",
=======
   "id": "f150bf5a",
>>>>>>> e08844e1a91b8e98d8bdd4d0244954bda0b7215b
   "metadata": {},
   "outputs": [],
   "source": [
    "names(colData(sfe))"
   ]
  },
  {
   "cell_type": "markdown",
<<<<<<< HEAD
<<<<<<< HEAD
   "id": "44bbc25b",
||||||| d29fab7
   "id": "140a14a3",
=======
   "id": "a4d1a604",
>>>>>>> documentation-devel
||||||| 565f7a7
   "id": "44bbc25b",
=======
   "id": "532593d4",
>>>>>>> e08844e1a91b8e98d8bdd4d0244954bda0b7215b
   "metadata": {},
   "source": [
    "Total UMI counts (`nCounts`), number of genes detected per spot (`nGenes`), and the proportion of mitochondrially encoded counts (`prop_mito`). Below, we plot the total number of UMI counts per barcode as a violin plot and in space. For the latter task, we leverage the function `plotSpatialFeature()` which uses `geom_sf()` to plot geometries where applicable. The first few lines compute the average number of UMI counts per barcode and this average is plotted as a red line in the violin plot. "
   ]
  },
  {
   "cell_type": "code",
   "execution_count": null,
<<<<<<< HEAD
<<<<<<< HEAD
   "id": "1d0976ca",
||||||| d29fab7
   "id": "611cd2d1",
=======
   "id": "b84efa29",
>>>>>>> documentation-devel
||||||| 565f7a7
   "id": "1d0976ca",
=======
   "id": "8ed76cc5",
>>>>>>> e08844e1a91b8e98d8bdd4d0244954bda0b7215b
   "metadata": {},
   "outputs": [],
   "source": [
    "avg <- as.data.frame(colData(sfe)) |>\n",
    "  dplyr::summarise(across(-sample_id, mean))\n",
    "\n",
    "violin <- plotColData(sfe, \"nCounts\") +\n",
    "  geom_hline(aes(yintercept = nCounts), avg, color=\"red\") +\n",
    "  theme(legend.position = \"top\") \n",
    "\n",
    "spatial <- plotSpatialFeature(sfe, features = \"nCounts\",\n",
    "                               colGeometryName = \"centroids\", size = 0.2) +\n",
    "    theme_void()\n",
    "violin + spatial"
   ]
  },
  {
   "cell_type": "markdown",
<<<<<<< HEAD
<<<<<<< HEAD
   "id": "9cc0551e",
||||||| d29fab7
   "id": "4b3fbea7",
=======
   "id": "49ae647d",
>>>>>>> documentation-devel
||||||| 565f7a7
   "id": "9cc0551e",
=======
   "id": "78597575",
>>>>>>> e08844e1a91b8e98d8bdd4d0244954bda0b7215b
   "metadata": {
    "lines_to_next_cell": 0
   },
   "source": [
    "Each barcode is represented as an `sf` POINT geometry In the plot above, we note that many beads have quite low UMI counts, but there are small regions throughout the tissue that appear to have high counts. This is perhaps due to high cellular density of the melanoma cells, but we can only speculate without an image of the tissue. Interestingly, there are not any barcodes with zero counts. This is in contrast to many scRNA-seq dataset were many cells have zero counts. \n",
    "\n",
    "Given the density of points, we may choose to aggregate points into a hexagonal grid to avoid overplotting. Each hexagon will be colored by the total number of UMI counts in that space and each hexagon may represent more than one barcode. "
   ]
  },
  {
   "cell_type": "code",
   "execution_count": null,
<<<<<<< HEAD
<<<<<<< HEAD
   "id": "eb97e129",
||||||| d29fab7
   "id": "f27d7777",
=======
   "id": "c0115e5f",
>>>>>>> documentation-devel
||||||| 565f7a7
   "id": "eb97e129",
=======
   "id": "12c8753d",
>>>>>>> e08844e1a91b8e98d8bdd4d0244954bda0b7215b
   "metadata": {},
   "outputs": [],
   "source": [
    "as.data.frame(cbind(spatialCoords(sfe), colData(sfe))) |> \n",
    "    ggplot(aes(xcoord, ycoord, z=nCounts)) +\n",
    "    stat_summary_hex(fun = function(x) sum(x), bins=100) + \n",
    "    scale_fill_distiller(palette = \"Blues\", direction = 1) +\n",
    "    labs(fill='nCounts')  +\n",
    "    theme_bw() + coord_equal() +\n",
    "    scale_x_continuous(expand = expansion()) +\n",
    "    scale_y_continuous(expand = expansion()) +\n",
    "    theme_void()"
   ]
  },
  {
   "cell_type": "markdown",
<<<<<<< HEAD
<<<<<<< HEAD
   "id": "8a3805c1",
||||||| d29fab7
   "id": "f1ea17b5",
=======
   "id": "db798247",
>>>>>>> documentation-devel
||||||| 565f7a7
   "id": "8a3805c1",
=======
   "id": "9ce02a13",
>>>>>>> e08844e1a91b8e98d8bdd4d0244954bda0b7215b
   "metadata": {},
   "source": [
    "It is worthwhile to note that cell segmentation data were not included with this dataset. Even though Slide-Seq V2 does not profile gene expression at single cell resolution, cell segmentation data can be flexibly stored as `annotGeometries` in the `SFE` object. These geometries can be plotted with barcode-level data and can be used with `sf` for operations like finding the number of barcodes localized to a single cell."
   ]
  },
  {
   "cell_type": "code",
   "execution_count": null,
<<<<<<< HEAD
<<<<<<< HEAD
   "id": "61322203",
||||||| d29fab7
   "id": "e8e4686b",
=======
   "id": "b05cda79",
>>>>>>> documentation-devel
||||||| 565f7a7
   "id": "61322203",
=======
   "id": "09c7f9fa",
>>>>>>> e08844e1a91b8e98d8bdd4d0244954bda0b7215b
   "metadata": {},
   "outputs": [],
   "source": [
    "colData(sfe)$log_nCounts <- log(colData(sfe)$nCounts)\n",
    "\n",
    "avg <- as.data.frame(colData(sfe)) |>\n",
    "  dplyr::summarise(across(-sample_id, mean))\n",
    "\n",
    "violin <- plotColData(sfe, \"log_nCounts\") +\n",
    "  geom_hline(aes(yintercept = log_nCounts), avg, color=\"red\") +\n",
    "  theme(legend.position = \"top\") \n",
    "\n",
    "spatial <- plotSpatialFeature(sfe, features = \"log_nCounts\",\n",
    "                               colGeometryName = \"centroids\",\n",
    "                              size = 0.2)\n",
    "violin + spatial"
   ]
  },
  {
   "cell_type": "markdown",
<<<<<<< HEAD
<<<<<<< HEAD
   "id": "43618ce9",
||||||| d29fab7
   "id": "4c879627",
=======
   "id": "fb5f2d66",
>>>>>>> documentation-devel
||||||| 565f7a7
   "id": "43618ce9",
=======
   "id": "bea9362d",
>>>>>>> e08844e1a91b8e98d8bdd4d0244954bda0b7215b
   "metadata": {},
   "source": [
    "The plot above visualizes the number of UMI counts per barcode on a log scale. It appears that barcodes with higher counts are co-localized in regions throughout the tissue, however, these regions are rather small and may not suggest spatial autocorrelation.\n",
    "\n",
    "Next we find number of genes detected per barcode. Again, this QC feature is provided as `nGenes` in the `colData` attribute for barcodes."
   ]
  },
  {
   "cell_type": "code",
   "execution_count": null,
<<<<<<< HEAD
<<<<<<< HEAD
   "id": "467de49a",
||||||| d29fab7
   "id": "9cd0fbf0",
=======
   "id": "a5e3532c",
>>>>>>> documentation-devel
||||||| 565f7a7
   "id": "467de49a",
=======
   "id": "250d5072",
>>>>>>> e08844e1a91b8e98d8bdd4d0244954bda0b7215b
   "metadata": {},
   "outputs": [],
   "source": [
    "violin <- plotColData(sfe, \"nGenes\") +\n",
    "   geom_hline(aes(yintercept = nGenes), avg, color=\"red\") +\n",
    "  theme(legend.position = \"top\") \n",
    "\n",
    "spatial <- plotSpatialFeature(sfe, features = \"nGenes\",\n",
    "                              colGeometryName = \"centroids\",\n",
    "                              size = 0.2)\n",
    "violin + spatial"
   ]
  },
  {
   "cell_type": "markdown",
<<<<<<< HEAD
<<<<<<< HEAD
   "id": "d784c6ea",
||||||| d29fab7
   "id": "4e06bea1",
=======
   "id": "22805adf",
>>>>>>> documentation-devel
||||||| 565f7a7
   "id": "d784c6ea",
=======
   "id": "cac7fce3",
>>>>>>> e08844e1a91b8e98d8bdd4d0244954bda0b7215b
   "metadata": {},
   "source": [
    "Similar to the number of UMI counts per barcode, there seem to be small regions with higher number of genes throughout the tissue. These may correspond to regions of cellular diversity or high cellular density, as might be expected in the context of melanoma.\n",
    "\n",
    "We can compute the degree to which the number of UMI counts per barcode depends on the spatial location of each measurement. This relationship, spatial autocorrelation, can be quantified using Moran's index of spatial autocorrelation, or Moran's *I*. The computation of Moran's *I* requires first a definition of what constitutes objects being \"near\" to each other. Most simply, this is represented as a spatial weights matrix. One possible representation is an adjacency matrix. This matrix can be computed for polygonal data and the resulting matrix can be binary, where entries are 1 if polygons share a border, and 0 elsewhere (including the diagonal). These entries can be weighted in different ways, including by the length of border shared between two polygons.\n",
    "\n",
    "This schema does not necessarily lend itself well to spatial transcriptomic technologies, where the polygonal boundaries of cell objects may not correspond to the measurements in the count matrix, or individual spots or barcodes may themselves correspond to multiple neighborhoods of cells. Certainly, the interpretation of spatial weights matrix will change depending on the technology.\n",
    "\n",
    "In any case, we can generate a putative spatial graph using the k-nearest neighbors algorithm. This is implemented in the `findSpatialNeighbors()` function with the argument `method = \"knearneigh\"` . We will store the result in the `colGraphs()` slot of the SFE object."
   ]
  },
  {
   "cell_type": "code",
   "execution_count": null,
<<<<<<< HEAD
<<<<<<< HEAD
   "id": "e83206d4",
||||||| d29fab7
   "id": "6630dbf5",
=======
   "id": "46264246",
>>>>>>> documentation-devel
||||||| 565f7a7
   "id": "e83206d4",
=======
   "id": "72266402",
>>>>>>> e08844e1a91b8e98d8bdd4d0244954bda0b7215b
   "metadata": {},
   "outputs": [],
   "source": [
    "colGraph(sfe, \"knn5\") <- findSpatialNeighbors(sfe, method = \"knearneigh\",\n",
    "                                              dist_type = \"idw\", k = 5, \n",
    "                                              style = \"W\")"
   ]
  },
  {
   "cell_type": "markdown",
<<<<<<< HEAD
<<<<<<< HEAD
   "id": "8e803b94",
||||||| d29fab7
   "id": "878130a0",
=======
   "id": "6c74dc82",
>>>>>>> documentation-devel
||||||| 565f7a7
   "id": "8e803b94",
=======
   "id": "5a1789bc",
>>>>>>> e08844e1a91b8e98d8bdd4d0244954bda0b7215b
   "metadata": {},
   "source": [
    "Now compute Moran\\'s I for some barcode QC metrics using `colDataMoransI()`."
   ]
  },
  {
   "cell_type": "code",
   "execution_count": null,
<<<<<<< HEAD
<<<<<<< HEAD
   "id": "995c4136",
||||||| d29fab7
   "id": "04bbd0f6",
=======
   "id": "ef8a0cab",
>>>>>>> documentation-devel
||||||| 565f7a7
   "id": "995c4136",
=======
   "id": "b6dd8886",
>>>>>>> e08844e1a91b8e98d8bdd4d0244954bda0b7215b
   "metadata": {},
   "outputs": [],
   "source": [
    "features_use <- c(\"nCounts\", \"nGenes\")\n",
    "sfe <- colDataMoransI(sfe, features_use, colGraphName = \"knn5\")"
   ]
  },
  {
   "cell_type": "code",
   "execution_count": null,
<<<<<<< HEAD
<<<<<<< HEAD
   "id": "6c441ba6",
||||||| d29fab7
   "id": "0b57b857",
=======
   "id": "244813f4",
>>>>>>> documentation-devel
||||||| 565f7a7
   "id": "6c441ba6",
=======
   "id": "d51c4acb",
>>>>>>> e08844e1a91b8e98d8bdd4d0244954bda0b7215b
   "metadata": {
    "lines_to_next_cell": 0
   },
   "outputs": [],
   "source": [
    "colFeatureData(sfe)[features_use,]"
   ]
  },
  {
   "cell_type": "markdown",
<<<<<<< HEAD
<<<<<<< HEAD
   "id": "c734591e",
||||||| d29fab7
   "id": "931f0403",
=======
   "id": "bb020685",
>>>>>>> documentation-devel
||||||| 565f7a7
   "id": "c734591e",
=======
   "id": "af27127a",
>>>>>>> e08844e1a91b8e98d8bdd4d0244954bda0b7215b
   "metadata": {},
   "source": [
    "The results above do not substantiate the visual check for spatial autocorrelation. We will continue with investigating other QC metrics.\n",
    "\n",
    "The proportion of UMIs mapping to mitochondrial genes is a useful metric for assessing cell quality in scRNA-seq data. We will examine this QC metric below by plotting it versus total number of UMI counts for each barcode."
   ]
  },
  {
   "cell_type": "code",
   "execution_count": null,
<<<<<<< HEAD
<<<<<<< HEAD
   "id": "605bca3e",
||||||| d29fab7
   "id": "64a1e44e",
=======
   "id": "dabf467f",
>>>>>>> documentation-devel
||||||| 565f7a7
   "id": "605bca3e",
=======
   "id": "e35b0260",
>>>>>>> e08844e1a91b8e98d8bdd4d0244954bda0b7215b
   "metadata": {},
   "outputs": [],
   "source": [
    "\n",
    "violin <- plotColData(sfe, \"prop_mito\") +\n",
    "    geom_hline(aes(yintercept = prop_mito), avg, color=\"red\") +\n",
    "    theme(legend.position = \"top\") \n",
    "\n",
    "mito <- plotColData(sfe, x = \"nCounts\", y = \"prop_mito\")\n",
    "\n",
    "violin + mito"
   ]
  },
  {
   "cell_type": "markdown",
<<<<<<< HEAD
<<<<<<< HEAD
   "id": "fbc368c7",
||||||| d29fab7
   "id": "5898f86c",
=======
   "id": "c9918b86",
>>>>>>> documentation-devel
||||||| 565f7a7
   "id": "fbc368c7",
=======
   "id": "8dc558be",
>>>>>>> e08844e1a91b8e98d8bdd4d0244954bda0b7215b
   "metadata": {},
   "source": [
    "In keeping with expectations, barcodes associated with fewer counts appear to be associated with higher proportions of mitochondrial reads. We will exclude barcodes containing more than \\>10% mitochondrial reads for subsequent analysis. The second line removes barcodes with zero counts, but this is not necessary for this dataset as there are no barcodes with zero counts. We keep it here just to demonstrate the method. "
   ]
  },
  {
   "cell_type": "code",
   "execution_count": null,
<<<<<<< HEAD
<<<<<<< HEAD
   "id": "bbbdc137",
||||||| d29fab7
   "id": "e79ad1ff",
=======
   "id": "f0fc91ac",
>>>>>>> documentation-devel
||||||| 565f7a7
   "id": "bbbdc137",
=======
   "id": "8b094248",
>>>>>>> e08844e1a91b8e98d8bdd4d0244954bda0b7215b
   "metadata": {},
   "outputs": [],
   "source": [
    "# Spatial neighborhood graph is reconstructed when subsetting columns\n",
    "# Use drop = TRUE to drop the graph without reconstruction, whose indices are \n",
    "# no longer valid\n",
    "sfe_filt <- sfe[, colData(sfe)$prop_mito < 0.1]\n",
    "sfe_filt <- sfe_filt[rowSums(counts(sfe_filt)) > 0,]"
   ]
  },
  {
   "cell_type": "markdown",
<<<<<<< HEAD
<<<<<<< HEAD
   "id": "f131ea4a",
||||||| d29fab7
   "id": "a877cd6b",
=======
   "id": "2998bd2b",
>>>>>>> documentation-devel
||||||| 565f7a7
   "id": "f131ea4a",
=======
   "id": "ddcb2c59",
>>>>>>> e08844e1a91b8e98d8bdd4d0244954bda0b7215b
   "metadata": {},
   "source": [
    "# Data Normalization\n",
    "\n",
    "Normalization of spatial transcriptomics data is non-trivial and requires thoughtful consideration. Similarly to scRNA-seq data analysis, the goal of normalization is to remove the effects of technical variation and derive a quantity that reflects biological variation. However, several questions arise when considering best practices for spatial data normalization. For example, spatial methods on average detect fewer UMIs than their single-cell counterparts, which may preclude the use normalization techniques such as log transformation as shown [here](<https://doi.org/10.1093/bioinformatics/btab085>). What's more, it is not always evident whether spatial autocorrelation between genes (or QC measures) is an artifact of the technology, and thus, whether normalization methods should preserve the spatial autocorrelation architecture. These questions provide avenues for active research and development, but are currently unresolved. To this end, we log-normalize the data in the cell below and identify variable genes for subsequent analysis."
   ]
  },
  {
   "cell_type": "code",
   "execution_count": null,
<<<<<<< HEAD
<<<<<<< HEAD
   "id": "04b295d8",
||||||| d29fab7
   "id": "49797beb",
=======
   "id": "51664f89",
>>>>>>> documentation-devel
||||||| 565f7a7
   "id": "04b295d8",
=======
   "id": "686dbffd",
>>>>>>> e08844e1a91b8e98d8bdd4d0244954bda0b7215b
   "metadata": {},
   "outputs": [],
   "source": [
    "sfe_filt <- logNormCounts(sfe_filt)\n",
    "\n",
    "dec <- modelGeneVar(sfe_filt)\n",
    "hvgs <- getTopHVGs(dec, n = 2000)"
   ]
  },
  {
   "cell_type": "markdown",
<<<<<<< HEAD
<<<<<<< HEAD
   "id": "b107c6df",
||||||| d29fab7
   "id": "250029e4",
=======
   "id": "d7a1f4ec",
>>>>>>> documentation-devel
||||||| 565f7a7
   "id": "b107c6df",
=======
   "id": "eb08bdc5",
>>>>>>> e08844e1a91b8e98d8bdd4d0244954bda0b7215b
   "metadata": {
    "lines_to_next_cell": 0
   },
   "source": [
    "# Dimension Reduction and Clustering\n",
    "Much like in scRNA-seq analysis, we perform principal component analysis (PCA) before clustering. We note that the method does not use any spatial information. "
   ]
  },
  {
   "cell_type": "code",
   "execution_count": null,
<<<<<<< HEAD
<<<<<<< HEAD
   "id": "7148cb35",
||||||| d29fab7
   "id": "e7536177",
=======
   "id": "2bf2ffa8",
>>>>>>> documentation-devel
||||||| 565f7a7
   "id": "7148cb35",
=======
   "id": "c25f9229",
>>>>>>> e08844e1a91b8e98d8bdd4d0244954bda0b7215b
   "metadata": {
    "lines_to_next_cell": 0
   },
   "outputs": [],
   "source": [
    "set.seed(29)\n",
    "sfe_filt <- runPCA(sfe_filt, ncomponents = 30, subset_row = hvgs,\n",
    "                   scale = TRUE, BSPARAM = BiocSingular::IrlbaParam()) \n",
    "# scale as in Seurat"
   ]
  },
  {
   "cell_type": "markdown",
<<<<<<< HEAD
<<<<<<< HEAD
   "id": "bb8ed8e6",
||||||| d29fab7
   "id": "35ce7788",
=======
   "id": "7f876398",
>>>>>>> documentation-devel
||||||| 565f7a7
   "id": "bb8ed8e6",
=======
   "id": "f364d1ee",
>>>>>>> e08844e1a91b8e98d8bdd4d0244954bda0b7215b
   "metadata": {
    "lines_to_next_cell": 0
   },
   "source": [
    "We can plot the variance explained by each PC. "
   ]
  },
  {
   "cell_type": "code",
   "execution_count": null,
<<<<<<< HEAD
<<<<<<< HEAD
   "id": "90097ae2",
||||||| d29fab7
   "id": "c43bc19a",
=======
   "id": "0ac4d8ce",
>>>>>>> documentation-devel
||||||| 565f7a7
   "id": "90097ae2",
=======
   "id": "41620bef",
>>>>>>> e08844e1a91b8e98d8bdd4d0244954bda0b7215b
   "metadata": {},
   "outputs": [],
   "source": [
    "ElbowPlot(sfe_filt, ndims = 30) + theme_bw()"
   ]
  },
  {
   "cell_type": "markdown",
<<<<<<< HEAD
<<<<<<< HEAD
   "id": "b35b7885",
||||||| d29fab7
   "id": "f1ab90f3",
=======
   "id": "875860bc",
>>>>>>> documentation-devel
||||||| 565f7a7
   "id": "b35b7885",
=======
   "id": "20d7ff81",
>>>>>>> e08844e1a91b8e98d8bdd4d0244954bda0b7215b
   "metadata": {
    "lines_to_next_cell": 0
   },
   "source": [
    "We see that the first few components explain most of the variance in the data. The principal components (PCs) can be plotted in space. Here we notice that the PCs may show some spatial structure that correlates to biological niches of cells. "
   ]
  },
  {
   "cell_type": "code",
   "execution_count": null,
<<<<<<< HEAD
<<<<<<< HEAD
   "id": "11fb6a95",
||||||| d29fab7
   "id": "29af963a",
=======
   "id": "2483b77e",
>>>>>>> documentation-devel
||||||| 565f7a7
   "id": "11fb6a95",
=======
   "id": "ab9f4cc4",
>>>>>>> e08844e1a91b8e98d8bdd4d0244954bda0b7215b
   "metadata": {},
   "outputs": [],
   "source": [
    "spatialReducedDim(sfe_filt, \"PCA\", ncomponents = 4, \n",
    "                  colGeometryName = \"centroids\", divergent = TRUE, \n",
    "                  diverge_center = 0, scattermore = TRUE, pointsize = 0.5)"
   ]
  },
  {
   "cell_type": "markdown",
<<<<<<< HEAD
<<<<<<< HEAD
   "id": "de97d941",
||||||| d29fab7
   "id": "2ebf90a9",
=======
   "id": "68f3fbd3",
>>>>>>> documentation-devel
||||||| 565f7a7
   "id": "de97d941",
=======
   "id": "b9a8b200",
>>>>>>> e08844e1a91b8e98d8bdd4d0244954bda0b7215b
   "metadata": {},
   "source": [
    "Without the cellular overlays, we can only speculate about the potential relevance of the barcodes that seem to be separated by each PC, but each PC doe seem to separate distinct neighborhoods of barcodes.  "
   ]
  },
  {
   "cell_type": "markdown",
<<<<<<< HEAD
<<<<<<< HEAD
   "id": "9ec64f83",
||||||| d29fab7
   "id": "dfc86f5a",
=======
   "id": "47b6c75c",
>>>>>>> documentation-devel
||||||| 565f7a7
   "id": "9ec64f83",
=======
   "id": "02c135c1",
>>>>>>> e08844e1a91b8e98d8bdd4d0244954bda0b7215b
   "metadata": {
    "lines_to_next_cell": 0
   },
   "source": [
    "Now we can cluster the barcodes using a graph-based clustering algorithm and plot them in space. "
   ]
  },
  {
   "cell_type": "code",
   "execution_count": null,
<<<<<<< HEAD
<<<<<<< HEAD
   "id": "9d8b6761",
||||||| d29fab7
   "id": "1cc74a42",
=======
   "id": "1272c973",
>>>>>>> documentation-devel
||||||| 565f7a7
   "id": "9d8b6761",
=======
   "id": "6b9a44c9",
>>>>>>> e08844e1a91b8e98d8bdd4d0244954bda0b7215b
   "metadata": {},
   "outputs": [],
   "source": [
    "colData(sfe_filt)$cluster <- clusterRows(reducedDim(sfe_filt, \"PCA\")[,1:3],\n",
    "                                           BLUSPARAM = SNNGraphParam(\n",
    "                                               cluster.fun = \"leiden\",\n",
    "                                               cluster.args = list(\n",
    "                                                   resolution_parameter = 0.5,\n",
    "                                                   objective_function = \"modularity\")))"
   ]
  },
  {
   "cell_type": "markdown",
<<<<<<< HEAD
<<<<<<< HEAD
   "id": "7b5764c5",
||||||| d29fab7
   "id": "aa9ae3ca",
=======
   "id": "1fedff5e",
>>>>>>> documentation-devel
||||||| 565f7a7
   "id": "7b5764c5",
=======
   "id": "374b7318",
>>>>>>> e08844e1a91b8e98d8bdd4d0244954bda0b7215b
   "metadata": {
    "lines_to_next_cell": 0
   },
   "source": [
    "The plot below is colored by cluster id. A naive interpretation of the plot shows distinct niches of barcodes separated by more abundant, intervening types. This may be indicative of the biological processes at hand, namely melanoma metastasis, where 'hotspots' of melanoma proliferation would be separated by unaffected normal tissue. "
   ]
  },
  {
   "cell_type": "code",
   "execution_count": null,
<<<<<<< HEAD
<<<<<<< HEAD
   "id": "f5d6d404",
||||||| d29fab7
   "id": "5db8cf64",
=======
   "id": "f3af6728",
>>>>>>> documentation-devel
||||||| 565f7a7
   "id": "f5d6d404",
=======
   "id": "cf704c40",
>>>>>>> e08844e1a91b8e98d8bdd4d0244954bda0b7215b
   "metadata": {},
   "outputs": [],
   "source": [
    "plotSpatialFeature(sfe_filt, \"cluster\", colGeometryName = \"centroids\") +\n",
    "  guides(colour = guide_legend(override.aes = list(size=3)))"
   ]
  },
  {
   "cell_type": "markdown",
<<<<<<< HEAD
<<<<<<< HEAD
   "id": "80da7ae3",
||||||| d29fab7
   "id": "5b08e23a",
=======
   "id": "51caaea1",
>>>>>>> documentation-devel
||||||| 565f7a7
   "id": "80da7ae3",
=======
   "id": "78a2abb2",
>>>>>>> e08844e1a91b8e98d8bdd4d0244954bda0b7215b
   "metadata": {
    "lines_to_next_cell": 0
   },
   "source": [
    "## Moran's *I*\n",
    "\n",
    "One avenue for future analysis includes identifying genes that are differentially expressed in each cluster, This can be interrogated with `findMarkers()` in a non-spatial context and with `calculateMoransI()` in a spatial context. In the spatial case, some consideration should be given to whether the differences seen in across the tissue represent biological difference or artifacts from field of view. \n",
    "\n",
    "Here we run global Moran’s *I* on log normalized gene expression."
   ]
  },
  {
   "cell_type": "code",
   "execution_count": null,
<<<<<<< HEAD
<<<<<<< HEAD
   "id": "43fb2693",
||||||| d29fab7
   "id": "fecde271",
=======
   "id": "85e8107a",
>>>>>>> documentation-devel
||||||| 565f7a7
   "id": "43fb2693",
=======
   "id": "a10164c4",
>>>>>>> e08844e1a91b8e98d8bdd4d0244954bda0b7215b
   "metadata": {},
   "outputs": [],
   "source": [
    "sfe_filt <- runMoransI(sfe_filt, features = hvgs, \n",
    "                       BPPARAM = MulticoreParam(2))"
   ]
  },
  {
   "cell_type": "markdown",
<<<<<<< HEAD
<<<<<<< HEAD
   "id": "ab0cb438",
||||||| d29fab7
   "id": "a8edb490",
=======
   "id": "ed02781f",
>>>>>>> documentation-devel
||||||| 565f7a7
   "id": "ab0cb438",
=======
   "id": "7bd099b9",
>>>>>>> e08844e1a91b8e98d8bdd4d0244954bda0b7215b
   "metadata": {
    "lines_to_next_cell": 0
   },
   "source": [
    "Now, we might ask: which genes display the most spatial autocorrelation? "
   ]
  },
  {
   "cell_type": "code",
   "execution_count": null,
<<<<<<< HEAD
<<<<<<< HEAD
   "id": "c767305c",
||||||| d29fab7
   "id": "b1f00c50",
=======
   "id": "60c6b42f",
>>>>>>> documentation-devel
||||||| 565f7a7
   "id": "c767305c",
=======
   "id": "b3ad47f6",
>>>>>>> e08844e1a91b8e98d8bdd4d0244954bda0b7215b
   "metadata": {},
   "outputs": [],
   "source": [
    "top_moran <- rownames(sfe_filt)[order(rowData(sfe_filt)$moran_sample01, \n",
    "                                      decreasing = TRUE)[1:4]]\n",
    "plotSpatialFeature(sfe_filt, top_moran, colGeometryName = \"centroids\",\n",
    "                   scattermore = TRUE, pointsize = 0.5)"
   ]
  },
  {
   "cell_type": "markdown",
<<<<<<< HEAD
<<<<<<< HEAD
   "id": "db678ff6",
||||||| d29fab7
   "id": "1b068326",
=======
   "id": "e5c18014",
>>>>>>> documentation-devel
||||||| 565f7a7
   "id": "db678ff6",
=======
   "id": "4e1c480f",
>>>>>>> e08844e1a91b8e98d8bdd4d0244954bda0b7215b
   "metadata": {},
   "source": [
    "Spatial variability can also be investigated using  differential expression testing known anatomical regions complemented with spatial location. One potential drawback to this approach is the variability that is induced by the melanoma, rather than the native tissue architecture, which may preclude identification of typical structures. \n",
    "\n",
    "Further analyses that can be done at this stage:\n",
    "\n",
    "1. What gene expression patterns, if any, differentiate the neighborhoods of melanoma cells?\n",
    "2. What genes are differentially expressed in each cluster? "
   ]
  },
  {
   "cell_type": "markdown",
<<<<<<< HEAD
<<<<<<< HEAD
   "id": "0797fced",
||||||| d29fab7
   "id": "61f61074",
=======
   "id": "a7a2106c",
>>>>>>> documentation-devel
||||||| 565f7a7
   "id": "0797fced",
=======
   "id": "8f69e022",
>>>>>>> e08844e1a91b8e98d8bdd4d0244954bda0b7215b
   "metadata": {},
   "source": [
    "# Session Info"
   ]
  },
  {
   "cell_type": "code",
   "execution_count": null,
<<<<<<< HEAD
<<<<<<< HEAD
   "id": "254d61b4",
||||||| d29fab7
   "id": "ba3f7ae1",
=======
   "id": "933468cb",
>>>>>>> documentation-devel
||||||| 565f7a7
   "id": "254d61b4",
=======
   "id": "1b38b5bf",
>>>>>>> e08844e1a91b8e98d8bdd4d0244954bda0b7215b
   "metadata": {},
   "outputs": [],
   "source": [
    "sessionInfo()"
   ]
  },
  {
   "cell_type": "markdown",
<<<<<<< HEAD
<<<<<<< HEAD
   "id": "64441e80",
||||||| d29fab7
   "id": "8504ef85",
=======
   "id": "36a10028",
>>>>>>> documentation-devel
||||||| 565f7a7
   "id": "64441e80",
=======
   "id": "d524fc74",
>>>>>>> e08844e1a91b8e98d8bdd4d0244954bda0b7215b
   "metadata": {},
   "source": [
    "# References"
   ]
  }
 ],
 "metadata": {
  "kernelspec": {
   "display_name": "R",
   "language": "R",
   "name": "ir"
  }
 },
 "nbformat": 4,
 "nbformat_minor": 5
}
