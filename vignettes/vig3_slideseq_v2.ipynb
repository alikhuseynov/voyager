{
 "cells": [
  {
   "cell_type": "raw",
<<<<<<< HEAD
<<<<<<< HEAD
   "id": "e209a01d",
||||||| fa5abb84
   "id": "632e114a",
=======
   "id": "d533280a",
>>>>>>> documentation-devel
||||||| 7e3277eb
   "id": "d533280a",
=======
   "id": "c2f468e4",
>>>>>>> documentation-devel
   "metadata": {},
   "source": [
    "---\n",
    "title: \"Slide-Seq V2 Exploratory Data Analysis\"\n",
    "author: \"Kayla Jackson\"\n",
    "date: \"`r Sys.Date()`\"\n",
    "output: \n",
    "  html_document:\n",
    "  toc: true\n",
    "  toc_float:\n",
    "    collapsed: false\n",
    "  toc_depth: 3\n",
    "bibliography: ref.bib\n",
    "vignette: >\n",
    "  %\\VignetteIndexEntry{slideseq_v2}\n",
    "  %\\VignetteEngine{knitr::rmarkdown}\n",
    "  %\\VignetteEncoding{UTF-8}\n",
    "---"
   ]
  },
  {
   "cell_type": "code",
   "execution_count": null,
<<<<<<< HEAD
<<<<<<< HEAD
   "id": "1055f349",
||||||| fa5abb84
   "id": "9c81591c",
=======
   "id": "f01d143b",
>>>>>>> documentation-devel
||||||| 7e3277eb
   "id": "f01d143b",
=======
   "id": "e3bf1690",
>>>>>>> documentation-devel
   "metadata": {
    "tags": [
     "remove_cell"
    ]
   },
   "outputs": [],
   "source": [
    "knitr::opts_chunk$set(\n",
    "  collapse = TRUE,\n",
    "  comment = \"#>\", fig.align = \"center\"\n",
    ")"
   ]
  },
  {
   "cell_type": "code",
   "execution_count": null,
<<<<<<< HEAD
<<<<<<< HEAD
   "id": "112f88ab",
||||||| fa5abb84
   "id": "fb812f7d",
=======
   "id": "fece135d",
>>>>>>> documentation-devel
||||||| 7e3277eb
   "id": "fece135d",
=======
   "id": "2df99f5b",
>>>>>>> documentation-devel
   "metadata": {
    "eval": false,
    "tags": [
     "remove_cell"
    ]
   },
   "outputs": [],
   "source": [
    "# Install Google Colab dependencies\n",
    "# Note: this can take 30+ minutes (many of the dependencies include C++ code, which needs to be compiled)\n",
    "\n",
    "# First install `sf`, `ragg` and `textshaping` and their system dependencies:\n",
    "system(\"apt-get -y update && apt-get install -y  libudunits2-dev libgdal-dev libgeos-dev libproj-dev libharfbuzz-dev libfribidi-dev\")\n",
    "install.packages(\"sf\")\n",
    "install.packages(\"textshaping\")\n",
    "install.packages(\"ragg\")\n",
    "\n",
    "# Install system dependencies of some other R packages that Voyager either imports or suggests:\n",
    "system(\"apt-get install -y libfribidi-dev libcairo2-dev libmagick++-dev\")\n",
    "\n",
    "# Install Voyager from Bioconductor:\n",
    "install.packages(\"BiocManager\")\n",
    "BiocManager::install(version = \"3.17\", ask = FALSE, update = FALSE, Ncpus = 2)\n",
    "BiocManager::install(\"scater\")\n",
    "system.time(\n",
    "  BiocManager::install(\"Voyager\", dependencies = TRUE, Ncpus = 2, update = FALSE)\n",
    ")\n",
    "\n",
    "packageVersion(\"Voyager\")"
   ]
  },
  {
   "cell_type": "markdown",
<<<<<<< HEAD
<<<<<<< HEAD
   "id": "cbb4d733",
||||||| fa5abb84
   "id": "4b208a2b",
=======
   "id": "c90ac91a",
>>>>>>> documentation-devel
||||||| 7e3277eb
   "id": "c90ac91a",
=======
   "id": "fb0b5ec5",
>>>>>>> documentation-devel
   "metadata": {},
   "source": [
    "## Introduction\n",
    "\n",
    "[Slide-seq V2](https://doi.org/10.1038/s41587-020-0739-1) is a spatial transcriptomic tool that measures genome-wide expression using DNA-barcoded beads patterned on a slide in an non-regular array. The beads used in the current protocol have a diameter of $10 \\mu m$ and are thus larger than a single cell, but the number of detected transcripts is an order of magnitude higher compared to the previous iteration of the technology.\n",
    "\n",
    "In this vignette, we use `Voyager` to analyze a dataset generated using the Slide-Seq V2 technology. The data is described in [Dissecting the treatment-naive ecosystem of human melanoma brain metastasis](https://doi.org/10.1016/j.cell.2022.06.007) [@Biermann2022-cu]. The raw counts and cell metadata are publicly available from GEO. We will focus on one of the human melanoma brain metastasis (MBM) samples that are provided in the `SFEData` package as a `SpatialFeatureExperiment`(SFE) object. The SFE object contains raw counts, QC metrics such as number of UMIs and genes detected per barcode, and centroid coordinates for each barcode as a `sf` POINT geometry."
   ]
  },
  {
   "cell_type": "code",
   "execution_count": null,
<<<<<<< HEAD
<<<<<<< HEAD
   "id": "47164cb1",
||||||| fa5abb84
   "id": "039e8166",
=======
   "id": "221f64ef",
>>>>>>> documentation-devel
||||||| 7e3277eb
   "id": "221f64ef",
=======
   "id": "62ee3bb4",
>>>>>>> documentation-devel
   "metadata": {
    "message": false,
    "name": "setup"
   },
   "outputs": [],
   "source": [
    "library(Voyager)\n",
    "library(SFEData)\n",
    "library(SingleCellExperiment)\n",
    "library(SpatialExperiment)\n",
    "library(scater)\n",
    "library(scran)\n",
    "library(bluster)\n",
    "library(ggplot2)\n",
    "library(patchwork)\n",
    "library(spdep)\n",
    "library(BiocParallel)\n",
    "\n",
    "theme_set(theme_bw())"
   ]
  },
  {
   "cell_type": "code",
   "execution_count": null,
<<<<<<< HEAD
<<<<<<< HEAD
   "id": "49716b26",
||||||| fa5abb84
   "id": "00c729ee",
=======
   "id": "6ef3aa08",
>>>>>>> documentation-devel
||||||| 7e3277eb
   "id": "6ef3aa08",
=======
   "id": "8ed5fe37",
>>>>>>> documentation-devel
   "metadata": {},
   "outputs": [],
   "source": [
    "(sfe <- BiermannMelaMetasData(dataset = \"MBM05_rep1\"))"
   ]
  },
  {
   "cell_type": "markdown",
<<<<<<< HEAD
<<<<<<< HEAD
   "id": "a3e2eb95",
||||||| fa5abb84
   "id": "3b4eaca1",
=======
   "id": "19c4a73d",
>>>>>>> documentation-devel
||||||| 7e3277eb
   "id": "19c4a73d",
=======
   "id": "0017797f",
>>>>>>> documentation-devel
   "metadata": {},
   "source": [
    "The SFE object in the `SFEData` package includes information for 27,566 features and 29,536 beads/barcodes.\n",
    "\n",
    "# Quality control (QC)\n",
    "\n",
    "We begin by performing some exploratory data analysis on the barcodes in the tissue. There are some pre-computed QC measures that are stored in the object."
   ]
  },
  {
   "cell_type": "code",
   "execution_count": null,
<<<<<<< HEAD
<<<<<<< HEAD
   "id": "1630fc9a",
||||||| fa5abb84
   "id": "d54eb529",
=======
   "id": "fbba5a6b",
>>>>>>> documentation-devel
||||||| 7e3277eb
   "id": "fbba5a6b",
=======
   "id": "dae0a68b",
>>>>>>> documentation-devel
   "metadata": {},
   "outputs": [],
   "source": [
    "names(colData(sfe))"
   ]
  },
  {
   "cell_type": "markdown",
<<<<<<< HEAD
<<<<<<< HEAD
   "id": "beae3ad3",
||||||| fa5abb84
   "id": "10a0aa69",
=======
   "id": "f5b8ef37",
>>>>>>> documentation-devel
||||||| 7e3277eb
   "id": "f5b8ef37",
=======
   "id": "5d81c976",
>>>>>>> documentation-devel
   "metadata": {},
   "source": [
    "Total UMI counts (`nCounts`), number of genes detected per spot (`nGenes`), and the proportion of mitochondrially encoded counts (`prop_mito`). Below, we plot the total number of UMI counts per barcode as a violin plot and in space. For the latter task, we leverage the function `plotSpatialFeature()` which uses `geom_sf()` to plot geometries where applicable. The first few lines compute the average number of UMI counts per barcode and this average is plotted as a red line in the violin plot. "
   ]
  },
  {
   "cell_type": "code",
   "execution_count": null,
<<<<<<< HEAD
<<<<<<< HEAD
   "id": "4ebed07a",
||||||| fa5abb84
   "id": "667896fe",
=======
   "id": "0e78ea82",
>>>>>>> documentation-devel
||||||| 7e3277eb
   "id": "0e78ea82",
=======
   "id": "d24eedda",
>>>>>>> documentation-devel
   "metadata": {},
   "outputs": [],
   "source": [
    "avg <- as.data.frame(colData(sfe)) |>\n",
    "  dplyr::summarise(across(-sample_id, mean))\n",
    "\n",
    "violin <- plotColData(sfe, \"nCounts\") +\n",
    "  geom_hline(aes(yintercept = nCounts), avg, color=\"red\") +\n",
    "  theme(legend.position = \"top\") \n",
    "\n",
    "spatial <- plotSpatialFeature(sfe, features = \"nCounts\",\n",
    "                               colGeometryName = \"centroids\", size = 0.2) +\n",
    "    theme_void()\n",
    "violin + spatial"
   ]
  },
  {
   "cell_type": "markdown",
<<<<<<< HEAD
<<<<<<< HEAD
   "id": "12acb2a3",
||||||| fa5abb84
   "id": "d92eaaab",
=======
   "id": "5643b040",
>>>>>>> documentation-devel
||||||| 7e3277eb
   "id": "5643b040",
=======
   "id": "37e9aeb0",
>>>>>>> documentation-devel
   "metadata": {
    "lines_to_next_cell": 0
   },
   "source": [
    "Each barcode is represented as an `sf` POINT geometry In the plot above, we note that many beads have quite low UMI counts, but there are small regions throughout the tissue that appear to have high counts. This is perhaps due to high cellular density of the melanoma cells, but we can only speculate without an image of the tissue. Interestingly, there are not any barcodes with zero counts. This is in contrast to many scRNA-seq dataset were many cells have zero counts. \n",
    "\n",
    "Given the density of points, we may choose to aggregate points into a hexagonal grid to avoid overplotting. Each hexagon will be colored by the total number of UMI counts in that space and each hexagon may represent more than one barcode. "
   ]
  },
  {
   "cell_type": "code",
   "execution_count": null,
<<<<<<< HEAD
<<<<<<< HEAD
   "id": "480fd8e1",
||||||| fa5abb84
   "id": "4f545560",
=======
   "id": "ca98aee9",
>>>>>>> documentation-devel
||||||| 7e3277eb
   "id": "ca98aee9",
=======
   "id": "2a931bc3",
>>>>>>> documentation-devel
   "metadata": {},
   "outputs": [],
   "source": [
    "as.data.frame(cbind(spatialCoords(sfe), colData(sfe))) |> \n",
    "    ggplot(aes(xcoord, ycoord, z=nCounts)) +\n",
    "    stat_summary_hex(fun = function(x) sum(x), bins=100) + \n",
    "    scale_fill_distiller(palette = \"Blues\", direction = 1) +\n",
    "    labs(fill='nCounts')  +\n",
    "    theme_bw() + coord_equal() +\n",
    "    scale_x_continuous(expand = expansion()) +\n",
    "    scale_y_continuous(expand = expansion()) +\n",
    "    theme_void()"
   ]
  },
  {
   "cell_type": "markdown",
<<<<<<< HEAD
<<<<<<< HEAD
   "id": "d4320001",
||||||| fa5abb84
   "id": "96972c58",
=======
   "id": "37e54e22",
>>>>>>> documentation-devel
||||||| 7e3277eb
   "id": "37e54e22",
=======
   "id": "3d72bcb7",
>>>>>>> documentation-devel
   "metadata": {},
   "source": [
    "It is worthwhile to note that cell segmentation data were not included with this dataset. Even though Slide-Seq V2 does not profile gene expression at single cell resolution, cell segmentation data can be flexibly stored as `annotGeometries` in the `SFE` object. These geometries can be plotted with barcode-level data and can be used with `sf` for operations like finding the number of barcodes localized to a single cell."
   ]
  },
  {
   "cell_type": "code",
   "execution_count": null,
<<<<<<< HEAD
<<<<<<< HEAD
   "id": "1e710e82",
||||||| fa5abb84
   "id": "facb0116",
=======
   "id": "31eb10d5",
>>>>>>> documentation-devel
||||||| 7e3277eb
   "id": "31eb10d5",
=======
   "id": "355b2dde",
>>>>>>> documentation-devel
   "metadata": {},
   "outputs": [],
   "source": [
    "colData(sfe)$log_nCounts <- log(colData(sfe)$nCounts)\n",
    "\n",
    "avg <- as.data.frame(colData(sfe)) |>\n",
    "  dplyr::summarise(across(-sample_id, mean))\n",
    "\n",
    "violin <- plotColData(sfe, \"log_nCounts\") +\n",
    "  geom_hline(aes(yintercept = log_nCounts), avg, color=\"red\") +\n",
    "  theme(legend.position = \"top\") \n",
    "\n",
    "spatial <- plotSpatialFeature(sfe, features = \"log_nCounts\",\n",
    "                               colGeometryName = \"centroids\",\n",
    "                              size = 0.2)\n",
    "violin + spatial"
   ]
  },
  {
   "cell_type": "markdown",
<<<<<<< HEAD
<<<<<<< HEAD
   "id": "c1e59f03",
||||||| fa5abb84
   "id": "b9f9af42",
=======
   "id": "6f85a357",
>>>>>>> documentation-devel
||||||| 7e3277eb
   "id": "6f85a357",
=======
   "id": "882348e6",
>>>>>>> documentation-devel
   "metadata": {},
   "source": [
    "The plot above visualizes the number of UMI counts per barcode on a log scale. It appears that barcodes with higher counts are co-localized in regions throughout the tissue, however, these regions are rather small and may not suggest spatial autocorrelation.\n",
    "\n",
    "Next we find number of genes detected per barcode. Again, this QC feature is provided as `nGenes` in the `colData` attribute for barcodes."
   ]
  },
  {
   "cell_type": "code",
   "execution_count": null,
<<<<<<< HEAD
<<<<<<< HEAD
   "id": "ea24a793",
||||||| fa5abb84
   "id": "25a593db",
=======
   "id": "3be2c2ca",
>>>>>>> documentation-devel
||||||| 7e3277eb
   "id": "3be2c2ca",
=======
   "id": "d2f16427",
>>>>>>> documentation-devel
   "metadata": {},
   "outputs": [],
   "source": [
    "violin <- plotColData(sfe, \"nGenes\") +\n",
    "   geom_hline(aes(yintercept = nGenes), avg, color=\"red\") +\n",
    "  theme(legend.position = \"top\") \n",
    "\n",
    "spatial <- plotSpatialFeature(sfe, features = \"nGenes\",\n",
    "                              colGeometryName = \"centroids\",\n",
    "                              size = 0.2)\n",
    "violin + spatial"
   ]
  },
  {
   "cell_type": "markdown",
<<<<<<< HEAD
<<<<<<< HEAD
   "id": "57593b80",
||||||| fa5abb84
   "id": "e7e029a9",
=======
   "id": "54eb7eec",
>>>>>>> documentation-devel
||||||| 7e3277eb
   "id": "54eb7eec",
=======
   "id": "1633112b",
>>>>>>> documentation-devel
   "metadata": {},
   "source": [
    "Similar to the number of UMI counts per barcode, there seem to be small regions with higher number of genes throughout the tissue. These may correspond to regions of cellular diversity or high cellular density, as might be expected in the context of melanoma.\n",
    "\n",
    "We can compute the degree to which the number of UMI counts per barcode depends on the spatial location of each measurement. This relationship, spatial autocorrelation, can be quantified using Moran's index of spatial autocorrelation, or Moran's *I*. The computation of Moran's *I* requires first a definition of what constitutes objects being \"near\" to each other. Most simply, this is represented as a spatial weights matrix. One possible representation is an adjacency matrix. This matrix can be computed for polygonal data and the resulting matrix can be binary, where entries are 1 if polygons share a border, and 0 elsewhere (including the diagonal). These entries can be weighted in different ways, including by the length of border shared between two polygons.\n",
    "\n",
    "This schema does not necessarily lend itself well to spatial transcriptomic technologies, where the polygonal boundaries of cell objects may not correspond to the measurements in the count matrix, or individual spots or barcodes may themselves correspond to multiple neighborhoods of cells. Certainly, the interpretation of spatial weights matrix will change depending on the technology.\n",
    "\n",
    "In any case, we can generate a putative spatial graph using the k-nearest neighbors algorithm. This is implemented in the `findSpatialNeighbors()` function with the argument `method = \"knearneigh\"` . We will store the result in the `colGraphs()` slot of the SFE object."
   ]
  },
  {
   "cell_type": "code",
   "execution_count": null,
<<<<<<< HEAD
<<<<<<< HEAD
   "id": "c0f94e5f",
||||||| fa5abb84
   "id": "d9e54aff",
=======
   "id": "74bbd9ff",
>>>>>>> documentation-devel
||||||| 7e3277eb
   "id": "74bbd9ff",
=======
   "id": "6c6aed5d",
>>>>>>> documentation-devel
   "metadata": {},
   "outputs": [],
   "source": [
    "colGraph(sfe, \"knn5\") <- findSpatialNeighbors(sfe, method = \"knearneigh\",\n",
    "                                              dist_type = \"idw\", k = 5, \n",
    "                                              style = \"W\")"
   ]
  },
  {
   "cell_type": "markdown",
<<<<<<< HEAD
<<<<<<< HEAD
   "id": "595518ec",
||||||| fa5abb84
   "id": "2930bddb",
=======
   "id": "8df8e985",
>>>>>>> documentation-devel
||||||| 7e3277eb
   "id": "8df8e985",
=======
   "id": "b8960986",
>>>>>>> documentation-devel
   "metadata": {},
   "source": [
    "Now compute Moran\\'s I for some barcode QC metrics using `colDataMoransI()`."
   ]
  },
  {
   "cell_type": "code",
   "execution_count": null,
<<<<<<< HEAD
<<<<<<< HEAD
   "id": "1d1c6fd5",
||||||| fa5abb84
   "id": "9b76675b",
=======
   "id": "0a262ccd",
>>>>>>> documentation-devel
||||||| 7e3277eb
   "id": "0a262ccd",
=======
   "id": "7731f307",
>>>>>>> documentation-devel
   "metadata": {},
   "outputs": [],
   "source": [
    "features_use <- c(\"nCounts\", \"nGenes\")\n",
    "sfe <- colDataMoransI(sfe, features_use, colGraphName = \"knn5\")"
   ]
  },
  {
   "cell_type": "code",
   "execution_count": null,
<<<<<<< HEAD
<<<<<<< HEAD
   "id": "b2852390",
||||||| fa5abb84
   "id": "37caa3a6",
=======
   "id": "9473a113",
>>>>>>> documentation-devel
||||||| 7e3277eb
   "id": "9473a113",
=======
   "id": "2f7958f6",
>>>>>>> documentation-devel
   "metadata": {
    "lines_to_next_cell": 0
   },
   "outputs": [],
   "source": [
    "colFeatureData(sfe)[features_use,]"
   ]
  },
  {
   "cell_type": "markdown",
<<<<<<< HEAD
<<<<<<< HEAD
   "id": "66663b50",
||||||| fa5abb84
   "id": "f78297e0",
=======
   "id": "1abb0108",
>>>>>>> documentation-devel
||||||| 7e3277eb
   "id": "1abb0108",
=======
   "id": "91eed6bb",
>>>>>>> documentation-devel
   "metadata": {},
   "source": [
    "The results above do not substantiate the visual check for spatial autocorrelation. We will continue with investigating other QC metrics.\n",
    "\n",
    "The proportion of UMIs mapping to mitochondrial genes is a useful metric for assessing cell quality in scRNA-seq data. We will examine this QC metric below by plotting it versus total number of UMI counts for each barcode."
   ]
  },
  {
   "cell_type": "code",
   "execution_count": null,
<<<<<<< HEAD
<<<<<<< HEAD
   "id": "56fb81f4",
||||||| fa5abb84
   "id": "ce5a0881",
=======
   "id": "24758bc3",
>>>>>>> documentation-devel
||||||| 7e3277eb
   "id": "24758bc3",
=======
   "id": "06987ccd",
>>>>>>> documentation-devel
   "metadata": {},
   "outputs": [],
   "source": [
    "\n",
    "violin <- plotColData(sfe, \"prop_mito\") +\n",
    "    geom_hline(aes(yintercept = prop_mito), avg, color=\"red\") +\n",
    "    theme(legend.position = \"top\") \n",
    "\n",
    "mito <- plotColData(sfe, x = \"nCounts\", y = \"prop_mito\")\n",
    "\n",
    "violin + mito"
   ]
  },
  {
   "cell_type": "markdown",
<<<<<<< HEAD
<<<<<<< HEAD
   "id": "640d1d61",
||||||| fa5abb84
   "id": "cc46f4e9",
=======
   "id": "9b9b4fa4",
>>>>>>> documentation-devel
||||||| 7e3277eb
   "id": "9b9b4fa4",
=======
   "id": "fdb7088a",
>>>>>>> documentation-devel
   "metadata": {},
   "source": [
    "In keeping with expectations, barcodes associated with fewer counts appear to be associated with higher proportions of mitochondrial reads. We will exclude barcodes containing more than \\>10% mitochondrial reads for subsequent analysis. The second line removes barcodes with zero counts, but this is not necessary for this dataset as there are no barcodes with zero counts. We keep it here just to demonstrate the method. "
   ]
  },
  {
   "cell_type": "code",
   "execution_count": null,
<<<<<<< HEAD
<<<<<<< HEAD
   "id": "792e49f1",
||||||| fa5abb84
   "id": "cb791f9e",
=======
   "id": "cae534fd",
>>>>>>> documentation-devel
||||||| 7e3277eb
   "id": "cae534fd",
=======
   "id": "9772f687",
>>>>>>> documentation-devel
   "metadata": {},
   "outputs": [],
   "source": [
    "# Spatial neighborhood graph is reconstructed when subsetting columns\n",
    "# Use drop = TRUE to drop the graph without reconstruction, whose indices are \n",
    "# no longer valid\n",
    "sfe_filt <- sfe[, colData(sfe)$prop_mito < 0.1]\n",
    "sfe_filt <- sfe_filt[rowSums(counts(sfe_filt)) > 0,]"
   ]
  },
  {
   "cell_type": "markdown",
<<<<<<< HEAD
<<<<<<< HEAD
   "id": "8c38ef24",
||||||| fa5abb84
   "id": "75b5e7c9",
=======
   "id": "c9809bb9",
>>>>>>> documentation-devel
||||||| 7e3277eb
   "id": "c9809bb9",
=======
   "id": "3ddf1a3a",
>>>>>>> documentation-devel
   "metadata": {},
   "source": [
    "# Data Normalization\n",
    "\n",
    "Normalization of spatial transcriptomics data is non-trivial and requires thoughtful consideration. Similarly to scRNA-seq data analysis, the goal of normalization is to remove the effects of technical variation and derive a quantity that reflects biological variation. However, several questions arise when considering best practices for spatial data normalization. For example, spatial methods on average detect fewer UMIs than their single-cell counterparts, which may preclude the use normalization techniques such as log transformation as shown [here](<https://doi.org/10.1093/bioinformatics/btab085>). What's more, it is not always evident whether spatial autocorrelation between genes (or QC measures) is an artifact of the technology, and thus, whether normalization methods should preserve the spatial autocorrelation architecture. These questions provide avenues for active research and development, but are currently unresolved. To this end, we log-normalize the data in the cell below and identify variable genes for subsequent analysis."
   ]
  },
  {
   "cell_type": "code",
   "execution_count": null,
<<<<<<< HEAD
<<<<<<< HEAD
   "id": "0062516b",
||||||| fa5abb84
   "id": "39535310",
=======
   "id": "95eaa899",
>>>>>>> documentation-devel
||||||| 7e3277eb
   "id": "95eaa899",
=======
   "id": "27187d7b",
>>>>>>> documentation-devel
   "metadata": {},
   "outputs": [],
   "source": [
    "sfe_filt <- logNormCounts(sfe_filt)\n",
    "\n",
    "dec <- modelGeneVar(sfe_filt)\n",
    "hvgs <- getTopHVGs(dec, n = 2000)"
   ]
  },
  {
   "cell_type": "markdown",
<<<<<<< HEAD
<<<<<<< HEAD
   "id": "0bab8bf3",
||||||| fa5abb84
   "id": "d3435695",
=======
   "id": "75887519",
>>>>>>> documentation-devel
||||||| 7e3277eb
   "id": "75887519",
=======
   "id": "699ebfb2",
>>>>>>> documentation-devel
   "metadata": {
    "lines_to_next_cell": 0
   },
   "source": [
    "# Dimension Reduction and Clustering\n",
    "Much like in scRNA-seq analysis, we perform principal component analysis (PCA) before clustering. We note that the method does not use any spatial information. "
   ]
  },
  {
   "cell_type": "code",
   "execution_count": null,
<<<<<<< HEAD
<<<<<<< HEAD
   "id": "e40775fa",
||||||| fa5abb84
   "id": "7367ee3c",
=======
   "id": "a6be03b3",
>>>>>>> documentation-devel
||||||| 7e3277eb
   "id": "a6be03b3",
=======
   "id": "7fe63b26",
>>>>>>> documentation-devel
   "metadata": {
    "lines_to_next_cell": 0
   },
   "outputs": [],
   "source": [
    "set.seed(29)\n",
    "sfe_filt <- runPCA(sfe_filt, ncomponents = 30, subset_row = hvgs,\n",
    "                   scale = TRUE, BSPARAM = BiocSingular::IrlbaParam()) \n",
    "# scale as in Seurat"
   ]
  },
  {
   "cell_type": "markdown",
<<<<<<< HEAD
<<<<<<< HEAD
   "id": "996eb43e",
||||||| fa5abb84
   "id": "5c4eb5b4",
=======
   "id": "d82d8ce1",
>>>>>>> documentation-devel
||||||| 7e3277eb
   "id": "d82d8ce1",
=======
   "id": "7312b847",
>>>>>>> documentation-devel
   "metadata": {
    "lines_to_next_cell": 0
   },
   "source": [
    "We can plot the variance explained by each PC. "
   ]
  },
  {
   "cell_type": "code",
   "execution_count": null,
<<<<<<< HEAD
<<<<<<< HEAD
   "id": "bfc3c9e0",
||||||| fa5abb84
   "id": "9f4f6e46",
=======
   "id": "3854609d",
>>>>>>> documentation-devel
||||||| 7e3277eb
   "id": "3854609d",
=======
   "id": "f152d9b6",
>>>>>>> documentation-devel
   "metadata": {},
   "outputs": [],
   "source": [
    "ElbowPlot(sfe_filt, ndims = 30) + theme_bw()"
   ]
  },
  {
   "cell_type": "markdown",
<<<<<<< HEAD
<<<<<<< HEAD
   "id": "ec494076",
||||||| fa5abb84
   "id": "27aa3107",
=======
   "id": "054c5a27",
>>>>>>> documentation-devel
||||||| 7e3277eb
   "id": "054c5a27",
=======
   "id": "a6427df2",
>>>>>>> documentation-devel
   "metadata": {
    "lines_to_next_cell": 0
   },
   "source": [
    "We see that the first few components explain most of the variance in the data. The principal components (PCs) can be plotted in space. Here we notice that the PCs may show some spatial structure that correlates to biological niches of cells. "
   ]
  },
  {
   "cell_type": "code",
   "execution_count": null,
<<<<<<< HEAD
<<<<<<< HEAD
   "id": "6cad15a1",
||||||| fa5abb84
   "id": "3d02ffc6",
=======
   "id": "d116e844",
>>>>>>> documentation-devel
||||||| 7e3277eb
   "id": "d116e844",
=======
   "id": "75813d90",
>>>>>>> documentation-devel
   "metadata": {},
   "outputs": [],
   "source": [
    "spatialReducedDim(sfe_filt, \"PCA\", ncomponents = 4, \n",
    "                  colGeometryName = \"centroids\", divergent = TRUE, \n",
    "                  diverge_center = 0, scattermore = TRUE, pointsize = 0.5)"
   ]
  },
  {
   "cell_type": "markdown",
<<<<<<< HEAD
<<<<<<< HEAD
   "id": "9f798a84",
||||||| fa5abb84
   "id": "6b6bc455",
=======
   "id": "ea7c7b65",
>>>>>>> documentation-devel
||||||| 7e3277eb
   "id": "ea7c7b65",
=======
   "id": "5f741d4e",
>>>>>>> documentation-devel
   "metadata": {},
   "source": [
    "Without the cellular overlays, we can only speculate about the potential relevance of the barcodes that seem to be separated by each PC, but each PC doe seem to separate distinct neighborhoods of barcodes.  "
   ]
  },
  {
   "cell_type": "markdown",
<<<<<<< HEAD
<<<<<<< HEAD
   "id": "9169dfca",
||||||| fa5abb84
   "id": "36ee39de",
=======
   "id": "5603e05a",
>>>>>>> documentation-devel
||||||| 7e3277eb
   "id": "5603e05a",
=======
   "id": "ae810fb0",
>>>>>>> documentation-devel
   "metadata": {
    "lines_to_next_cell": 0
   },
   "source": [
    "Now we can cluster the barcodes using a graph-based clustering algorithm and plot them in space. "
   ]
  },
  {
   "cell_type": "code",
   "execution_count": null,
<<<<<<< HEAD
<<<<<<< HEAD
   "id": "a173d456",
||||||| fa5abb84
   "id": "c5d1a1b3",
=======
   "id": "b5efbfc9",
>>>>>>> documentation-devel
||||||| 7e3277eb
   "id": "b5efbfc9",
=======
   "id": "6a07573d",
>>>>>>> documentation-devel
   "metadata": {},
   "outputs": [],
   "source": [
    "colData(sfe_filt)$cluster <- clusterRows(reducedDim(sfe_filt, \"PCA\")[,1:3],\n",
    "                                           BLUSPARAM = SNNGraphParam(\n",
    "                                               cluster.fun = \"leiden\",\n",
    "                                               cluster.args = list(\n",
    "                                                   resolution_parameter = 0.5,\n",
    "                                                   objective_function = \"modularity\")))"
   ]
  },
  {
   "cell_type": "markdown",
<<<<<<< HEAD
<<<<<<< HEAD
   "id": "79876014",
||||||| fa5abb84
   "id": "9c69ed13",
=======
   "id": "58e12df6",
>>>>>>> documentation-devel
||||||| 7e3277eb
   "id": "58e12df6",
=======
   "id": "4456ae83",
>>>>>>> documentation-devel
   "metadata": {
    "lines_to_next_cell": 0
   },
   "source": [
    "The plot below is colored by cluster id. A naive interpretation of the plot shows distinct niches of barcodes separated by more abundant, intervening types. This may be indicative of the biological processes at hand, namely melanoma metastasis, where 'hotspots' of melanoma proliferation would be separated by unaffected normal tissue. "
   ]
  },
  {
   "cell_type": "code",
   "execution_count": null,
<<<<<<< HEAD
<<<<<<< HEAD
   "id": "0ce8c19d",
||||||| fa5abb84
   "id": "ea951fdb",
=======
   "id": "bd1a7d3c",
>>>>>>> documentation-devel
||||||| 7e3277eb
   "id": "bd1a7d3c",
=======
   "id": "41f76aae",
>>>>>>> documentation-devel
   "metadata": {},
   "outputs": [],
   "source": [
    "plotSpatialFeature(sfe_filt, \"cluster\", colGeometryName = \"centroids\") +\n",
    "  guides(colour = guide_legend(override.aes = list(size=3)))"
   ]
  },
  {
   "cell_type": "markdown",
<<<<<<< HEAD
<<<<<<< HEAD
   "id": "f116527d",
||||||| fa5abb84
   "id": "f6699631",
=======
   "id": "9604c7fe",
>>>>>>> documentation-devel
||||||| 7e3277eb
   "id": "9604c7fe",
=======
   "id": "da4044af",
>>>>>>> documentation-devel
   "metadata": {
    "lines_to_next_cell": 0
   },
   "source": [
    "## Moran's *I*\n",
    "\n",
    "One avenue for future analysis includes identifying genes that are differentially expressed in each cluster, This can be interrogated with `findMarkers()` in a non-spatial context and with `calculateMoransI()` in a spatial context. In the spatial case, some consideration should be given to whether the differences seen in across the tissue represent biological difference or artifacts from field of view. \n",
    "\n",
    "Here we run global Moran’s *I* on log normalized gene expression."
   ]
  },
  {
   "cell_type": "code",
   "execution_count": null,
<<<<<<< HEAD
<<<<<<< HEAD
   "id": "44d0efb7",
||||||| fa5abb84
   "id": "3828affe",
=======
   "id": "45c0425f",
>>>>>>> documentation-devel
||||||| 7e3277eb
   "id": "45c0425f",
=======
   "id": "77b3536d",
>>>>>>> documentation-devel
   "metadata": {},
   "outputs": [],
   "source": [
    "sfe_filt <- runMoransI(sfe_filt, features = hvgs, \n",
    "                       BPPARAM = MulticoreParam(2))"
   ]
  },
  {
   "cell_type": "markdown",
<<<<<<< HEAD
<<<<<<< HEAD
   "id": "e629a57e",
||||||| fa5abb84
   "id": "f1f64f4e",
=======
   "id": "c8488cbd",
>>>>>>> documentation-devel
||||||| 7e3277eb
   "id": "c8488cbd",
=======
   "id": "4c532596",
>>>>>>> documentation-devel
   "metadata": {
    "lines_to_next_cell": 0
   },
   "source": [
    "Now, we might ask: which genes display the most spatial autocorrelation? "
   ]
  },
  {
   "cell_type": "code",
   "execution_count": null,
<<<<<<< HEAD
<<<<<<< HEAD
   "id": "83df0fd1",
||||||| fa5abb84
   "id": "89327172",
=======
   "id": "08ce9c55",
>>>>>>> documentation-devel
||||||| 7e3277eb
   "id": "08ce9c55",
=======
   "id": "90818786",
>>>>>>> documentation-devel
   "metadata": {},
   "outputs": [],
   "source": [
    "top_moran <- rownames(sfe_filt)[order(rowData(sfe_filt)$moran_sample01, \n",
    "                                      decreasing = TRUE)[1:4]]\n",
    "plotSpatialFeature(sfe_filt, top_moran, colGeometryName = \"centroids\",\n",
    "                   scattermore = TRUE, pointsize = 0.5)"
   ]
  },
  {
   "cell_type": "markdown",
<<<<<<< HEAD
<<<<<<< HEAD
   "id": "25562b12",
||||||| fa5abb84
   "id": "9f6341fd",
=======
   "id": "d2b34091",
>>>>>>> documentation-devel
||||||| 7e3277eb
   "id": "d2b34091",
=======
   "id": "746ebf32",
>>>>>>> documentation-devel
   "metadata": {},
   "source": [
    "Spatial variability can also be investigated using  differential expression testing known anatomical regions complemented with spatial location. One potential drawback to this approach is the variability that is induced by the melanoma, rather than the native tissue architecture, which may preclude identification of typical structures. \n",
    "\n",
    "Further analyses that can be done at this stage:\n",
    "\n",
    "1. What gene expression patterns, if any, differentiate the neighborhoods of melanoma cells?\n",
    "2. What genes are differentially expressed in each cluster? "
   ]
  },
  {
   "cell_type": "markdown",
<<<<<<< HEAD
<<<<<<< HEAD
   "id": "603cfb80",
||||||| fa5abb84
   "id": "0f26c045",
=======
   "id": "04a68875",
>>>>>>> documentation-devel
||||||| 7e3277eb
   "id": "04a68875",
=======
   "id": "99e0fd54",
>>>>>>> documentation-devel
   "metadata": {},
   "source": [
    "# Session Info"
   ]
  },
  {
   "cell_type": "code",
   "execution_count": null,
<<<<<<< HEAD
<<<<<<< HEAD
   "id": "6cb758a5",
||||||| fa5abb84
   "id": "ab71f988",
=======
   "id": "26929c13",
>>>>>>> documentation-devel
||||||| 7e3277eb
   "id": "26929c13",
=======
   "id": "699486f0",
>>>>>>> documentation-devel
   "metadata": {},
   "outputs": [],
   "source": [
    "sessionInfo()"
   ]
  },
  {
   "cell_type": "markdown",
<<<<<<< HEAD
<<<<<<< HEAD
   "id": "6b2ae02e",
||||||| fa5abb84
   "id": "e0b7e6b9",
=======
   "id": "02bb8a2a",
>>>>>>> documentation-devel
||||||| 7e3277eb
   "id": "02bb8a2a",
=======
   "id": "cd371104",
>>>>>>> documentation-devel
   "metadata": {},
   "source": [
    "# References"
   ]
  }
 ],
 "metadata": {
  "kernelspec": {
   "display_name": "R",
   "language": "R",
   "name": "ir"
  }
 },
 "nbformat": 4,
 "nbformat_minor": 5
}
