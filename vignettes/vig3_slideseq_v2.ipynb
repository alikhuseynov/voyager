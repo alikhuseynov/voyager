{
 "cells": [
  {
   "cell_type": "raw",
<<<<<<< HEAD
<<<<<<< HEAD
<<<<<<< HEAD
<<<<<<< HEAD
<<<<<<< HEAD
   "id": "b80de077",
||||||| 11b9cb7
   "id": "42578a88",
=======
   "id": "56f5390c",
>>>>>>> documentation-devel
||||||| 614e9b1
   "id": "56f5390c",
=======
   "id": "cd4c593e",
>>>>>>> documentation-devel
||||||| 856b4c0
<<<<<<< HEAD
   "id": "b80de077",
||||||| 11b9cb7
   "id": "42578a88",
=======
   "id": "56f5390c",
>>>>>>> documentation-devel
=======
   "id": "b268c2fc",
>>>>>>> 552590ea8fad969b67afdba27558a1e6cb21016e
||||||| 452c944
   "id": "cd4c593e",
=======
   "id": "1db59088",
>>>>>>> documentation-devel
||||||| 4da3324
<<<<<<< HEAD
<<<<<<< HEAD
<<<<<<< HEAD
   "id": "b80de077",
||||||| 11b9cb7
   "id": "42578a88",
=======
   "id": "56f5390c",
>>>>>>> documentation-devel
||||||| 614e9b1
   "id": "56f5390c",
=======
   "id": "cd4c593e",
>>>>>>> documentation-devel
||||||| 856b4c0
<<<<<<< HEAD
   "id": "b80de077",
||||||| 11b9cb7
   "id": "42578a88",
=======
   "id": "56f5390c",
>>>>>>> documentation-devel
=======
   "id": "b268c2fc",
>>>>>>> 552590ea8fad969b67afdba27558a1e6cb21016e
=======
   "id": "f2052f98",
>>>>>>> b6e07d13baac92b2c1c9b43f8e4113ffa87bf495
   "metadata": {},
   "source": [
    "---\n",
    "title: \"Slide-Seq V2 Exploratory Data Analysis\"\n",
    "author: \"Kayla Jackson\"\n",
    "date: \"`r Sys.Date()`\"\n",
    "output: \n",
    "  html_document:\n",
    "  toc: true\n",
    "  toc_float:\n",
    "    collapsed: false\n",
    "  toc_depth: 3\n",
    "bibliography: ref.bib\n",
    "vignette: >\n",
    "  %\\VignetteIndexEntry{slideseq_v2}\n",
    "  %\\VignetteEngine{knitr::rmarkdown}\n",
    "  %\\VignetteEncoding{UTF-8}\n",
    "---"
   ]
  },
  {
   "cell_type": "code",
   "execution_count": null,
<<<<<<< HEAD
<<<<<<< HEAD
<<<<<<< HEAD
<<<<<<< HEAD
<<<<<<< HEAD
   "id": "b0a53454",
||||||| 11b9cb7
   "id": "9ed0890f",
=======
   "id": "5b3a302c",
>>>>>>> documentation-devel
||||||| 614e9b1
   "id": "5b3a302c",
=======
   "id": "13d5ebb0",
>>>>>>> documentation-devel
||||||| 856b4c0
<<<<<<< HEAD
   "id": "b0a53454",
||||||| 11b9cb7
   "id": "9ed0890f",
=======
   "id": "5b3a302c",
>>>>>>> documentation-devel
=======
   "id": "59e4c274",
>>>>>>> 552590ea8fad969b67afdba27558a1e6cb21016e
||||||| 452c944
   "id": "13d5ebb0",
=======
   "id": "d4508b37",
>>>>>>> documentation-devel
||||||| 4da3324
<<<<<<< HEAD
<<<<<<< HEAD
<<<<<<< HEAD
   "id": "b0a53454",
||||||| 11b9cb7
   "id": "9ed0890f",
=======
   "id": "5b3a302c",
>>>>>>> documentation-devel
||||||| 614e9b1
   "id": "5b3a302c",
=======
   "id": "13d5ebb0",
>>>>>>> documentation-devel
||||||| 856b4c0
<<<<<<< HEAD
   "id": "b0a53454",
||||||| 11b9cb7
   "id": "9ed0890f",
=======
   "id": "5b3a302c",
>>>>>>> documentation-devel
=======
   "id": "59e4c274",
>>>>>>> 552590ea8fad969b67afdba27558a1e6cb21016e
=======
   "id": "89414149",
>>>>>>> b6e07d13baac92b2c1c9b43f8e4113ffa87bf495
   "metadata": {
    "tags": [
     "remove_cell"
    ]
   },
   "outputs": [],
   "source": [
    "knitr::opts_chunk$set(\n",
    "  collapse = TRUE,\n",
    "  comment = \"#>\", fig.align = \"center\"\n",
    ")"
   ]
  },
  {
   "cell_type": "code",
   "execution_count": null,
<<<<<<< HEAD
<<<<<<< HEAD
<<<<<<< HEAD
<<<<<<< HEAD
<<<<<<< HEAD
   "id": "f7caa4d6",
||||||| 11b9cb7
   "id": "ea8b3856",
=======
   "id": "656d4955",
>>>>>>> documentation-devel
||||||| 614e9b1
   "id": "656d4955",
=======
   "id": "34e6bb08",
>>>>>>> documentation-devel
||||||| 856b4c0
<<<<<<< HEAD
   "id": "f7caa4d6",
||||||| 11b9cb7
   "id": "ea8b3856",
=======
   "id": "656d4955",
>>>>>>> documentation-devel
=======
   "id": "a5338a91",
>>>>>>> 552590ea8fad969b67afdba27558a1e6cb21016e
||||||| 452c944
   "id": "34e6bb08",
=======
   "id": "687a98c8",
>>>>>>> documentation-devel
||||||| 4da3324
<<<<<<< HEAD
<<<<<<< HEAD
<<<<<<< HEAD
   "id": "f7caa4d6",
||||||| 11b9cb7
   "id": "ea8b3856",
=======
   "id": "656d4955",
>>>>>>> documentation-devel
||||||| 614e9b1
   "id": "656d4955",
=======
   "id": "34e6bb08",
>>>>>>> documentation-devel
||||||| 856b4c0
<<<<<<< HEAD
   "id": "f7caa4d6",
||||||| 11b9cb7
   "id": "ea8b3856",
=======
   "id": "656d4955",
>>>>>>> documentation-devel
=======
   "id": "a5338a91",
>>>>>>> 552590ea8fad969b67afdba27558a1e6cb21016e
=======
   "id": "07e3d659",
>>>>>>> b6e07d13baac92b2c1c9b43f8e4113ffa87bf495
   "metadata": {
    "eval": false,
    "tags": [
     "remove_cell"
    ]
   },
   "outputs": [],
   "source": [
    "# Install Google Colab dependencies\n",
    "# Note: this can take 30+ minutes (many of the dependencies include C++ code, which needs to be compiled)\n",
    "\n",
    "# First install `sf`, `ragg` and `textshaping` and their system dependencies:\n",
    "system(\"apt-get -y update && apt-get install -y  libudunits2-dev libgdal-dev libgeos-dev libproj-dev libharfbuzz-dev libfribidi-dev\")\n",
    "install.packages(\"sf\")\n",
    "install.packages(\"textshaping\")\n",
    "install.packages(\"ragg\")\n",
    "\n",
    "# Install system dependencies of some other R packages that Voyager either imports or suggests:\n",
    "system(\"apt-get install -y libfribidi-dev libcairo2-dev libmagick++-dev\")\n",
    "\n",
    "# Install Voyager from Bioconductor:\n",
    "install.packages(\"BiocManager\")\n",
    "BiocManager::install(version = \"3.17\", ask = FALSE, update = FALSE, Ncpus = 2)\n",
    "BiocManager::install(\"scater\")\n",
    "system.time(\n",
    "  BiocManager::install(\"Voyager\", dependencies = TRUE, Ncpus = 2, update = FALSE)\n",
    ")\n",
    "\n",
    "packageVersion(\"Voyager\")"
   ]
  },
  {
   "cell_type": "markdown",
<<<<<<< HEAD
<<<<<<< HEAD
<<<<<<< HEAD
<<<<<<< HEAD
<<<<<<< HEAD
   "id": "bf63c0ba",
||||||| 11b9cb7
   "id": "da75895a",
=======
   "id": "a9f8bbc0",
>>>>>>> documentation-devel
||||||| 614e9b1
   "id": "a9f8bbc0",
=======
   "id": "6c31a5d1",
>>>>>>> documentation-devel
||||||| 856b4c0
<<<<<<< HEAD
   "id": "bf63c0ba",
||||||| 11b9cb7
   "id": "da75895a",
=======
   "id": "a9f8bbc0",
>>>>>>> documentation-devel
=======
   "id": "1a906ee6",
>>>>>>> 552590ea8fad969b67afdba27558a1e6cb21016e
||||||| 452c944
   "id": "6c31a5d1",
=======
   "id": "e097f66b",
>>>>>>> documentation-devel
||||||| 4da3324
<<<<<<< HEAD
<<<<<<< HEAD
<<<<<<< HEAD
   "id": "bf63c0ba",
||||||| 11b9cb7
   "id": "da75895a",
=======
   "id": "a9f8bbc0",
>>>>>>> documentation-devel
||||||| 614e9b1
   "id": "a9f8bbc0",
=======
   "id": "6c31a5d1",
>>>>>>> documentation-devel
||||||| 856b4c0
<<<<<<< HEAD
   "id": "bf63c0ba",
||||||| 11b9cb7
   "id": "da75895a",
=======
   "id": "a9f8bbc0",
>>>>>>> documentation-devel
=======
   "id": "1a906ee6",
>>>>>>> 552590ea8fad969b67afdba27558a1e6cb21016e
=======
   "id": "cf8ceb06",
>>>>>>> b6e07d13baac92b2c1c9b43f8e4113ffa87bf495
   "metadata": {},
   "source": [
    "## Introduction\n",
    "\n",
    "[Slide-seq V2](https://doi.org/10.1038/s41587-020-0739-1) is a spatial transcriptomic tool that measures genome-wide expression using DNA-barcoded beads patterned on a slide in an non-regular array. The beads used in the current protocol have a diameter of $10 \\mu m$ and are thus larger than a single cell, but the number of detected transcripts is an order of magnitude higher compared to the previous iteration of the technology.\n",
    "\n",
    "In this vignette, we use `Voyager` to analyze a dataset generated using the Slide-Seq V2 technology. The data is described in [Dissecting the treatment-naive ecosystem of human melanoma brain metastasis](https://doi.org/10.1016/j.cell.2022.06.007) [@Biermann2022-cu]. The raw counts and cell metadata are publicly available from GEO. We will focus on one of the human melanoma brain metastasis (MBM) samples that are provided in the `SFEData` package as a `SpatialFeatureExperiment`(SFE) object. The SFE object contains raw counts, QC metrics such as number of UMIs and genes detected per barcode, and centroid coordinates for each barcode as a `sf` POINT geometry."
   ]
  },
  {
   "cell_type": "code",
   "execution_count": null,
<<<<<<< HEAD
<<<<<<< HEAD
<<<<<<< HEAD
<<<<<<< HEAD
<<<<<<< HEAD
   "id": "753083e8",
||||||| 11b9cb7
   "id": "233a30da",
=======
   "id": "8a4a0ad6",
>>>>>>> documentation-devel
||||||| 614e9b1
   "id": "8a4a0ad6",
=======
   "id": "dcc33d32",
>>>>>>> documentation-devel
||||||| 856b4c0
<<<<<<< HEAD
   "id": "753083e8",
||||||| 11b9cb7
   "id": "233a30da",
=======
   "id": "8a4a0ad6",
>>>>>>> documentation-devel
=======
   "id": "28658ab8",
>>>>>>> 552590ea8fad969b67afdba27558a1e6cb21016e
||||||| 452c944
   "id": "dcc33d32",
=======
   "id": "e0cd6c99",
>>>>>>> documentation-devel
||||||| 4da3324
<<<<<<< HEAD
<<<<<<< HEAD
<<<<<<< HEAD
   "id": "753083e8",
||||||| 11b9cb7
   "id": "233a30da",
=======
   "id": "8a4a0ad6",
>>>>>>> documentation-devel
||||||| 614e9b1
   "id": "8a4a0ad6",
=======
   "id": "dcc33d32",
>>>>>>> documentation-devel
||||||| 856b4c0
<<<<<<< HEAD
   "id": "753083e8",
||||||| 11b9cb7
   "id": "233a30da",
=======
   "id": "8a4a0ad6",
>>>>>>> documentation-devel
=======
   "id": "28658ab8",
>>>>>>> 552590ea8fad969b67afdba27558a1e6cb21016e
=======
   "id": "d1f7a7a8",
>>>>>>> b6e07d13baac92b2c1c9b43f8e4113ffa87bf495
   "metadata": {
    "name": "setup"
   },
   "outputs": [],
   "source": [
    "library(Voyager)\n",
    "library(SFEData)\n",
    "library(SingleCellExperiment)\n",
    "library(SpatialExperiment)\n",
    "library(scater)\n",
    "library(scran)\n",
    "library(bluster)\n",
    "library(ggplot2)\n",
    "library(patchwork)\n",
    "library(spdep)\n",
    "library(BiocParallel)\n",
    "\n",
    "theme_set(theme_bw())"
   ]
  },
  {
   "cell_type": "code",
   "execution_count": null,
<<<<<<< HEAD
<<<<<<< HEAD
<<<<<<< HEAD
<<<<<<< HEAD
<<<<<<< HEAD
   "id": "56afb61a",
||||||| 11b9cb7
   "id": "1bb0486c",
=======
   "id": "3a12e4a6",
>>>>>>> documentation-devel
||||||| 614e9b1
   "id": "3a12e4a6",
=======
   "id": "99982b0d",
>>>>>>> documentation-devel
||||||| 856b4c0
<<<<<<< HEAD
   "id": "56afb61a",
||||||| 11b9cb7
   "id": "1bb0486c",
=======
   "id": "3a12e4a6",
>>>>>>> documentation-devel
=======
   "id": "21f6056a",
>>>>>>> 552590ea8fad969b67afdba27558a1e6cb21016e
||||||| 452c944
   "id": "99982b0d",
=======
   "id": "82be0692",
>>>>>>> documentation-devel
||||||| 4da3324
<<<<<<< HEAD
<<<<<<< HEAD
<<<<<<< HEAD
   "id": "56afb61a",
||||||| 11b9cb7
   "id": "1bb0486c",
=======
   "id": "3a12e4a6",
>>>>>>> documentation-devel
||||||| 614e9b1
   "id": "3a12e4a6",
=======
   "id": "99982b0d",
>>>>>>> documentation-devel
||||||| 856b4c0
<<<<<<< HEAD
   "id": "56afb61a",
||||||| 11b9cb7
   "id": "1bb0486c",
=======
   "id": "3a12e4a6",
>>>>>>> documentation-devel
=======
   "id": "21f6056a",
>>>>>>> 552590ea8fad969b67afdba27558a1e6cb21016e
=======
   "id": "2b57c239",
>>>>>>> b6e07d13baac92b2c1c9b43f8e4113ffa87bf495
   "metadata": {},
   "outputs": [],
   "source": [
    "(sfe <- BiermannMelaMetasData(dataset = \"MBM05_rep1\"))"
   ]
  },
  {
   "cell_type": "markdown",
<<<<<<< HEAD
<<<<<<< HEAD
<<<<<<< HEAD
<<<<<<< HEAD
<<<<<<< HEAD
   "id": "ef4a4fad",
||||||| 11b9cb7
   "id": "51355012",
=======
   "id": "f798b731",
>>>>>>> documentation-devel
||||||| 614e9b1
   "id": "f798b731",
=======
   "id": "243d4401",
>>>>>>> documentation-devel
||||||| 856b4c0
<<<<<<< HEAD
   "id": "ef4a4fad",
||||||| 11b9cb7
   "id": "51355012",
=======
   "id": "f798b731",
>>>>>>> documentation-devel
=======
   "id": "c223e832",
>>>>>>> 552590ea8fad969b67afdba27558a1e6cb21016e
||||||| 452c944
   "id": "243d4401",
=======
   "id": "47f41c5b",
>>>>>>> documentation-devel
||||||| 4da3324
<<<<<<< HEAD
<<<<<<< HEAD
<<<<<<< HEAD
   "id": "ef4a4fad",
||||||| 11b9cb7
   "id": "51355012",
=======
   "id": "f798b731",
>>>>>>> documentation-devel
||||||| 614e9b1
   "id": "f798b731",
=======
   "id": "243d4401",
>>>>>>> documentation-devel
||||||| 856b4c0
<<<<<<< HEAD
   "id": "ef4a4fad",
||||||| 11b9cb7
   "id": "51355012",
=======
   "id": "f798b731",
>>>>>>> documentation-devel
=======
   "id": "c223e832",
>>>>>>> 552590ea8fad969b67afdba27558a1e6cb21016e
=======
   "id": "5b7db9d6",
>>>>>>> b6e07d13baac92b2c1c9b43f8e4113ffa87bf495
   "metadata": {},
   "source": [
    "The SFE object in the `SFEData` package includes information for 27,566 features and 29,536 beads/barcodes.\n",
    "\n",
    "# Quality control (QC)\n",
    "\n",
    "We begin by performing some exploratory data analysis on the barcodes in the tissue. There are some pre-computed QC measures that are stored in the object."
   ]
  },
  {
   "cell_type": "code",
   "execution_count": null,
<<<<<<< HEAD
<<<<<<< HEAD
<<<<<<< HEAD
<<<<<<< HEAD
<<<<<<< HEAD
   "id": "8910fa7c",
||||||| 11b9cb7
   "id": "36997eed",
=======
   "id": "b2388dfe",
>>>>>>> documentation-devel
||||||| 614e9b1
   "id": "b2388dfe",
=======
   "id": "fbbe56ec",
>>>>>>> documentation-devel
||||||| 856b4c0
<<<<<<< HEAD
   "id": "8910fa7c",
||||||| 11b9cb7
   "id": "36997eed",
=======
   "id": "b2388dfe",
>>>>>>> documentation-devel
=======
   "id": "97a0aab9",
>>>>>>> 552590ea8fad969b67afdba27558a1e6cb21016e
||||||| 452c944
   "id": "fbbe56ec",
=======
   "id": "5716f908",
>>>>>>> documentation-devel
||||||| 4da3324
<<<<<<< HEAD
<<<<<<< HEAD
<<<<<<< HEAD
   "id": "8910fa7c",
||||||| 11b9cb7
   "id": "36997eed",
=======
   "id": "b2388dfe",
>>>>>>> documentation-devel
||||||| 614e9b1
   "id": "b2388dfe",
=======
   "id": "fbbe56ec",
>>>>>>> documentation-devel
||||||| 856b4c0
<<<<<<< HEAD
   "id": "8910fa7c",
||||||| 11b9cb7
   "id": "36997eed",
=======
   "id": "b2388dfe",
>>>>>>> documentation-devel
=======
   "id": "97a0aab9",
>>>>>>> 552590ea8fad969b67afdba27558a1e6cb21016e
=======
   "id": "5679f55a",
>>>>>>> b6e07d13baac92b2c1c9b43f8e4113ffa87bf495
   "metadata": {},
   "outputs": [],
   "source": [
    "names(colData(sfe))"
   ]
  },
  {
   "cell_type": "markdown",
<<<<<<< HEAD
<<<<<<< HEAD
<<<<<<< HEAD
<<<<<<< HEAD
<<<<<<< HEAD
   "id": "78bc1907",
||||||| 11b9cb7
   "id": "a4d1a604",
=======
   "id": "ca5863d5",
>>>>>>> documentation-devel
||||||| 614e9b1
   "id": "ca5863d5",
=======
   "id": "5744d29e",
>>>>>>> documentation-devel
||||||| 856b4c0
<<<<<<< HEAD
   "id": "78bc1907",
||||||| 11b9cb7
   "id": "a4d1a604",
=======
   "id": "ca5863d5",
>>>>>>> documentation-devel
=======
   "id": "f39575a6",
>>>>>>> 552590ea8fad969b67afdba27558a1e6cb21016e
||||||| 452c944
   "id": "5744d29e",
=======
   "id": "341bbaa5",
>>>>>>> documentation-devel
||||||| 4da3324
<<<<<<< HEAD
<<<<<<< HEAD
<<<<<<< HEAD
   "id": "78bc1907",
||||||| 11b9cb7
   "id": "a4d1a604",
=======
   "id": "ca5863d5",
>>>>>>> documentation-devel
||||||| 614e9b1
   "id": "ca5863d5",
=======
   "id": "5744d29e",
>>>>>>> documentation-devel
||||||| 856b4c0
<<<<<<< HEAD
   "id": "78bc1907",
||||||| 11b9cb7
   "id": "a4d1a604",
=======
   "id": "ca5863d5",
>>>>>>> documentation-devel
=======
   "id": "f39575a6",
>>>>>>> 552590ea8fad969b67afdba27558a1e6cb21016e
=======
   "id": "231314a6",
>>>>>>> b6e07d13baac92b2c1c9b43f8e4113ffa87bf495
   "metadata": {},
   "source": [
    "Total UMI counts (`nCounts`), number of genes detected per spot (`nGenes`), and the proportion of mitochondrially encoded counts (`prop_mito`). Below, we plot the total number of UMI counts per barcode as a violin plot and in space. For the latter task, we leverage the function `plotSpatialFeature()` which uses `geom_sf()` to plot geometries where applicable. The first few lines compute the average number of UMI counts per barcode and this average is plotted as a red line in the violin plot. "
   ]
  },
  {
   "cell_type": "code",
   "execution_count": null,
<<<<<<< HEAD
<<<<<<< HEAD
<<<<<<< HEAD
<<<<<<< HEAD
<<<<<<< HEAD
   "id": "b6292251",
||||||| 11b9cb7
   "id": "b84efa29",
=======
   "id": "f7a726b7",
>>>>>>> documentation-devel
||||||| 614e9b1
   "id": "f7a726b7",
=======
   "id": "04bb4cb2",
>>>>>>> documentation-devel
||||||| 856b4c0
<<<<<<< HEAD
   "id": "b6292251",
||||||| 11b9cb7
   "id": "b84efa29",
=======
   "id": "f7a726b7",
>>>>>>> documentation-devel
=======
   "id": "8be037f0",
>>>>>>> 552590ea8fad969b67afdba27558a1e6cb21016e
||||||| 452c944
   "id": "04bb4cb2",
=======
   "id": "25dceb51",
>>>>>>> documentation-devel
||||||| 4da3324
<<<<<<< HEAD
<<<<<<< HEAD
<<<<<<< HEAD
   "id": "b6292251",
||||||| 11b9cb7
   "id": "b84efa29",
=======
   "id": "f7a726b7",
>>>>>>> documentation-devel
||||||| 614e9b1
   "id": "f7a726b7",
=======
   "id": "04bb4cb2",
>>>>>>> documentation-devel
||||||| 856b4c0
<<<<<<< HEAD
   "id": "b6292251",
||||||| 11b9cb7
   "id": "b84efa29",
=======
   "id": "f7a726b7",
>>>>>>> documentation-devel
=======
   "id": "8be037f0",
>>>>>>> 552590ea8fad969b67afdba27558a1e6cb21016e
=======
   "id": "1c03c06a",
>>>>>>> b6e07d13baac92b2c1c9b43f8e4113ffa87bf495
   "metadata": {},
   "outputs": [],
   "source": [
    "avg <- as.data.frame(colData(sfe)) |>\n",
    "  dplyr::summarise(across(-sample_id, mean))\n",
    "\n",
    "violin <- plotColData(sfe, \"nCounts\") +\n",
    "  geom_hline(aes(yintercept = nCounts), avg, color=\"red\") +\n",
    "  theme(legend.position = \"top\") \n",
    "\n",
    "spatial <- plotSpatialFeature(sfe, features = \"nCounts\",\n",
    "                               colGeometryName = \"centroids\", size = 0.2) +\n",
    "    theme_void()\n",
    "violin + spatial"
   ]
  },
  {
   "cell_type": "markdown",
<<<<<<< HEAD
<<<<<<< HEAD
<<<<<<< HEAD
<<<<<<< HEAD
<<<<<<< HEAD
   "id": "d13e342a",
||||||| 11b9cb7
   "id": "49ae647d",
=======
   "id": "581d10c6",
>>>>>>> documentation-devel
||||||| 614e9b1
   "id": "581d10c6",
=======
   "id": "494b2edd",
>>>>>>> documentation-devel
||||||| 856b4c0
<<<<<<< HEAD
   "id": "d13e342a",
||||||| 11b9cb7
   "id": "49ae647d",
=======
   "id": "581d10c6",
>>>>>>> documentation-devel
=======
   "id": "1ae766f8",
>>>>>>> 552590ea8fad969b67afdba27558a1e6cb21016e
||||||| 452c944
   "id": "494b2edd",
=======
   "id": "ea809897",
>>>>>>> documentation-devel
||||||| 4da3324
<<<<<<< HEAD
<<<<<<< HEAD
<<<<<<< HEAD
   "id": "d13e342a",
||||||| 11b9cb7
   "id": "49ae647d",
=======
   "id": "581d10c6",
>>>>>>> documentation-devel
||||||| 614e9b1
   "id": "581d10c6",
=======
   "id": "494b2edd",
>>>>>>> documentation-devel
||||||| 856b4c0
<<<<<<< HEAD
   "id": "d13e342a",
||||||| 11b9cb7
   "id": "49ae647d",
=======
   "id": "581d10c6",
>>>>>>> documentation-devel
=======
   "id": "1ae766f8",
>>>>>>> 552590ea8fad969b67afdba27558a1e6cb21016e
=======
   "id": "f785a489",
>>>>>>> b6e07d13baac92b2c1c9b43f8e4113ffa87bf495
   "metadata": {
    "lines_to_next_cell": 0
   },
   "source": [
    "Each barcode is represented as an `sf` POINT geometry In the plot above, we note that many beads have quite low UMI counts, but there are small regions throughout the tissue that appear to have high counts. This is perhaps due to high cellular density of the melanoma cells, but we can only speculate without an image of the tissue. Interestingly, there are not any barcodes with zero counts. This is in contrast to many scRNA-seq dataset were many cells have zero counts. \n",
    "\n",
    "Given the density of points, we may choose to aggregate points into a hexagonal grid to avoid overplotting. Each hexagon will be colored by the total number of UMI counts in that space and each hexagon may represent more than one barcode. "
   ]
  },
  {
   "cell_type": "code",
   "execution_count": null,
<<<<<<< HEAD
<<<<<<< HEAD
<<<<<<< HEAD
<<<<<<< HEAD
<<<<<<< HEAD
   "id": "f0699026",
||||||| 11b9cb7
   "id": "c0115e5f",
=======
   "id": "eceee850",
>>>>>>> documentation-devel
||||||| 614e9b1
   "id": "eceee850",
=======
   "id": "fa52b29a",
>>>>>>> documentation-devel
||||||| 856b4c0
<<<<<<< HEAD
   "id": "f0699026",
||||||| 11b9cb7
   "id": "c0115e5f",
=======
   "id": "eceee850",
>>>>>>> documentation-devel
=======
   "id": "d38a4fb4",
>>>>>>> 552590ea8fad969b67afdba27558a1e6cb21016e
||||||| 452c944
   "id": "fa52b29a",
=======
   "id": "7e073112",
>>>>>>> documentation-devel
||||||| 4da3324
<<<<<<< HEAD
<<<<<<< HEAD
<<<<<<< HEAD
   "id": "f0699026",
||||||| 11b9cb7
   "id": "c0115e5f",
=======
   "id": "eceee850",
>>>>>>> documentation-devel
||||||| 614e9b1
   "id": "eceee850",
=======
   "id": "fa52b29a",
>>>>>>> documentation-devel
||||||| 856b4c0
<<<<<<< HEAD
   "id": "f0699026",
||||||| 11b9cb7
   "id": "c0115e5f",
=======
   "id": "eceee850",
>>>>>>> documentation-devel
=======
   "id": "d38a4fb4",
>>>>>>> 552590ea8fad969b67afdba27558a1e6cb21016e
=======
   "id": "a92a1bed",
>>>>>>> b6e07d13baac92b2c1c9b43f8e4113ffa87bf495
   "metadata": {},
   "outputs": [],
   "source": [
    "as.data.frame(cbind(spatialCoords(sfe), colData(sfe))) |> \n",
    "    ggplot(aes(xcoord, ycoord, z=nCounts)) +\n",
    "    stat_summary_hex(fun = function(x) sum(x), bins=100) + \n",
    "    scale_fill_distiller(palette = \"Blues\", direction = 1) +\n",
    "    labs(fill='nCounts')  +\n",
    "    theme_bw() + coord_equal() +\n",
    "    scale_x_continuous(expand = expansion()) +\n",
    "    scale_y_continuous(expand = expansion()) +\n",
    "    theme_void()"
   ]
  },
  {
   "cell_type": "markdown",
<<<<<<< HEAD
<<<<<<< HEAD
<<<<<<< HEAD
<<<<<<< HEAD
<<<<<<< HEAD
   "id": "f7e4c604",
||||||| 11b9cb7
   "id": "db798247",
=======
   "id": "02d72ad5",
>>>>>>> documentation-devel
||||||| 614e9b1
   "id": "02d72ad5",
=======
   "id": "c43b207c",
>>>>>>> documentation-devel
||||||| 856b4c0
<<<<<<< HEAD
   "id": "f7e4c604",
||||||| 11b9cb7
   "id": "db798247",
=======
   "id": "02d72ad5",
>>>>>>> documentation-devel
=======
   "id": "f46ce1fd",
>>>>>>> 552590ea8fad969b67afdba27558a1e6cb21016e
||||||| 452c944
   "id": "c43b207c",
=======
   "id": "a01416e2",
>>>>>>> documentation-devel
||||||| 4da3324
<<<<<<< HEAD
<<<<<<< HEAD
<<<<<<< HEAD
   "id": "f7e4c604",
||||||| 11b9cb7
   "id": "db798247",
=======
   "id": "02d72ad5",
>>>>>>> documentation-devel
||||||| 614e9b1
   "id": "02d72ad5",
=======
   "id": "c43b207c",
>>>>>>> documentation-devel
||||||| 856b4c0
<<<<<<< HEAD
   "id": "f7e4c604",
||||||| 11b9cb7
   "id": "db798247",
=======
   "id": "02d72ad5",
>>>>>>> documentation-devel
=======
   "id": "f46ce1fd",
>>>>>>> 552590ea8fad969b67afdba27558a1e6cb21016e
=======
   "id": "c79cd2c8",
>>>>>>> b6e07d13baac92b2c1c9b43f8e4113ffa87bf495
   "metadata": {},
   "source": [
    "It is worthwhile to note that cell segmentation data were not included with this dataset. Even though Slide-Seq V2 does not profile gene expression at single cell resolution, cell segmentation data can be flexibly stored as `annotGeometries` in the `SFE` object. These geometries can be plotted with barcode-level data and can be used with `sf` for operations like finding the number of barcodes localized to a single cell."
   ]
  },
  {
   "cell_type": "code",
   "execution_count": null,
<<<<<<< HEAD
<<<<<<< HEAD
<<<<<<< HEAD
<<<<<<< HEAD
<<<<<<< HEAD
   "id": "8ca2b710",
||||||| 11b9cb7
   "id": "b05cda79",
=======
   "id": "8c82877f",
>>>>>>> documentation-devel
||||||| 614e9b1
   "id": "8c82877f",
=======
   "id": "ec1d2782",
>>>>>>> documentation-devel
||||||| 856b4c0
<<<<<<< HEAD
   "id": "8ca2b710",
||||||| 11b9cb7
   "id": "b05cda79",
=======
   "id": "8c82877f",
>>>>>>> documentation-devel
=======
   "id": "4da1a889",
>>>>>>> 552590ea8fad969b67afdba27558a1e6cb21016e
||||||| 452c944
   "id": "ec1d2782",
=======
   "id": "c431f558",
>>>>>>> documentation-devel
||||||| 4da3324
<<<<<<< HEAD
<<<<<<< HEAD
<<<<<<< HEAD
   "id": "8ca2b710",
||||||| 11b9cb7
   "id": "b05cda79",
=======
   "id": "8c82877f",
>>>>>>> documentation-devel
||||||| 614e9b1
   "id": "8c82877f",
=======
   "id": "ec1d2782",
>>>>>>> documentation-devel
||||||| 856b4c0
<<<<<<< HEAD
   "id": "8ca2b710",
||||||| 11b9cb7
   "id": "b05cda79",
=======
   "id": "8c82877f",
>>>>>>> documentation-devel
=======
   "id": "4da1a889",
>>>>>>> 552590ea8fad969b67afdba27558a1e6cb21016e
=======
   "id": "8eda6c73",
>>>>>>> b6e07d13baac92b2c1c9b43f8e4113ffa87bf495
   "metadata": {},
   "outputs": [],
   "source": [
    "colData(sfe)$log_nCounts <- log(colData(sfe)$nCounts)\n",
    "\n",
    "avg <- as.data.frame(colData(sfe)) |>\n",
    "  dplyr::summarise(across(-sample_id, mean))\n",
    "\n",
    "violin <- plotColData(sfe, \"log_nCounts\") +\n",
    "  geom_hline(aes(yintercept = log_nCounts), avg, color=\"red\") +\n",
    "  theme(legend.position = \"top\") \n",
    "\n",
    "spatial <- plotSpatialFeature(sfe, features = \"log_nCounts\",\n",
    "                               colGeometryName = \"centroids\",\n",
    "                              size = 0.2)\n",
    "violin + spatial"
   ]
  },
  {
   "cell_type": "markdown",
<<<<<<< HEAD
<<<<<<< HEAD
<<<<<<< HEAD
<<<<<<< HEAD
<<<<<<< HEAD
   "id": "fb384ee6",
||||||| 11b9cb7
   "id": "fb5f2d66",
=======
   "id": "d185980e",
>>>>>>> documentation-devel
||||||| 614e9b1
   "id": "d185980e",
=======
   "id": "67919c4e",
>>>>>>> documentation-devel
||||||| 856b4c0
<<<<<<< HEAD
   "id": "fb384ee6",
||||||| 11b9cb7
   "id": "fb5f2d66",
=======
   "id": "d185980e",
>>>>>>> documentation-devel
=======
   "id": "1c7e2ced",
>>>>>>> 552590ea8fad969b67afdba27558a1e6cb21016e
||||||| 452c944
   "id": "67919c4e",
=======
   "id": "c0647515",
>>>>>>> documentation-devel
||||||| 4da3324
<<<<<<< HEAD
<<<<<<< HEAD
<<<<<<< HEAD
   "id": "fb384ee6",
||||||| 11b9cb7
   "id": "fb5f2d66",
=======
   "id": "d185980e",
>>>>>>> documentation-devel
||||||| 614e9b1
   "id": "d185980e",
=======
   "id": "67919c4e",
>>>>>>> documentation-devel
||||||| 856b4c0
<<<<<<< HEAD
   "id": "fb384ee6",
||||||| 11b9cb7
   "id": "fb5f2d66",
=======
   "id": "d185980e",
>>>>>>> documentation-devel
=======
   "id": "1c7e2ced",
>>>>>>> 552590ea8fad969b67afdba27558a1e6cb21016e
=======
   "id": "c42ee5d5",
>>>>>>> b6e07d13baac92b2c1c9b43f8e4113ffa87bf495
   "metadata": {},
   "source": [
    "The plot above visualizes the number of UMI counts per barcode on a log scale. It appears that barcodes with higher counts are co-localized in regions throughout the tissue, however, these regions are rather small and may not suggest spatial autocorrelation.\n",
    "\n",
    "Next we find number of genes detected per barcode. Again, this QC feature is provided as `nGenes` in the `colData` attribute for barcodes."
   ]
  },
  {
   "cell_type": "code",
   "execution_count": null,
<<<<<<< HEAD
<<<<<<< HEAD
<<<<<<< HEAD
<<<<<<< HEAD
<<<<<<< HEAD
   "id": "cfd95545",
||||||| 11b9cb7
   "id": "a5e3532c",
=======
   "id": "6f40b651",
>>>>>>> documentation-devel
||||||| 614e9b1
   "id": "6f40b651",
=======
   "id": "21415559",
>>>>>>> documentation-devel
||||||| 856b4c0
<<<<<<< HEAD
   "id": "cfd95545",
||||||| 11b9cb7
   "id": "a5e3532c",
=======
   "id": "6f40b651",
>>>>>>> documentation-devel
=======
   "id": "3803cf51",
>>>>>>> 552590ea8fad969b67afdba27558a1e6cb21016e
||||||| 452c944
   "id": "21415559",
=======
   "id": "c27aa7b7",
>>>>>>> documentation-devel
||||||| 4da3324
<<<<<<< HEAD
<<<<<<< HEAD
<<<<<<< HEAD
   "id": "cfd95545",
||||||| 11b9cb7
   "id": "a5e3532c",
=======
   "id": "6f40b651",
>>>>>>> documentation-devel
||||||| 614e9b1
   "id": "6f40b651",
=======
   "id": "21415559",
>>>>>>> documentation-devel
||||||| 856b4c0
<<<<<<< HEAD
   "id": "cfd95545",
||||||| 11b9cb7
   "id": "a5e3532c",
=======
   "id": "6f40b651",
>>>>>>> documentation-devel
=======
   "id": "3803cf51",
>>>>>>> 552590ea8fad969b67afdba27558a1e6cb21016e
=======
   "id": "f2c15cc6",
>>>>>>> b6e07d13baac92b2c1c9b43f8e4113ffa87bf495
   "metadata": {},
   "outputs": [],
   "source": [
    "violin <- plotColData(sfe, \"nGenes\") +\n",
    "   geom_hline(aes(yintercept = nGenes), avg, color=\"red\") +\n",
    "  theme(legend.position = \"top\") \n",
    "\n",
    "spatial <- plotSpatialFeature(sfe, features = \"nGenes\",\n",
    "                              colGeometryName = \"centroids\",\n",
    "                              size = 0.2)\n",
    "violin + spatial"
   ]
  },
  {
   "cell_type": "markdown",
<<<<<<< HEAD
<<<<<<< HEAD
<<<<<<< HEAD
<<<<<<< HEAD
<<<<<<< HEAD
   "id": "d3cbf304",
||||||| 11b9cb7
   "id": "22805adf",
=======
   "id": "f3185311",
>>>>>>> documentation-devel
||||||| 614e9b1
   "id": "f3185311",
=======
   "id": "578759be",
>>>>>>> documentation-devel
||||||| 856b4c0
<<<<<<< HEAD
   "id": "d3cbf304",
||||||| 11b9cb7
   "id": "22805adf",
=======
   "id": "f3185311",
>>>>>>> documentation-devel
=======
   "id": "096d5455",
>>>>>>> 552590ea8fad969b67afdba27558a1e6cb21016e
||||||| 452c944
   "id": "578759be",
=======
   "id": "b33b8742",
>>>>>>> documentation-devel
||||||| 4da3324
<<<<<<< HEAD
<<<<<<< HEAD
<<<<<<< HEAD
   "id": "d3cbf304",
||||||| 11b9cb7
   "id": "22805adf",
=======
   "id": "f3185311",
>>>>>>> documentation-devel
||||||| 614e9b1
   "id": "f3185311",
=======
   "id": "578759be",
>>>>>>> documentation-devel
||||||| 856b4c0
<<<<<<< HEAD
   "id": "d3cbf304",
||||||| 11b9cb7
   "id": "22805adf",
=======
   "id": "f3185311",
>>>>>>> documentation-devel
=======
   "id": "096d5455",
>>>>>>> 552590ea8fad969b67afdba27558a1e6cb21016e
=======
   "id": "b3112400",
>>>>>>> b6e07d13baac92b2c1c9b43f8e4113ffa87bf495
   "metadata": {},
   "source": [
    "Similar to the number of UMI counts per barcode, there seem to be small regions with higher number of genes throughout the tissue. These may correspond to regions of cellular diversity or high cellular density, as might be expected in the context of melanoma.\n",
    "\n",
    "We can compute the degree to which the number of UMI counts per barcode depends on the spatial location of each measurement. This relationship, spatial autocorrelation, can be quantified using Moran's index of spatial autocorrelation, or Moran's *I*. The computation of Moran's *I* requires first a definition of what constitutes objects being \"near\" to each other. Most simply, this is represented as a spatial weights matrix. One possible representation is an adjacency matrix. This matrix can be computed for polygonal data and the resulting matrix can be binary, where entries are 1 if polygons share a border, and 0 elsewhere (including the diagonal). These entries can be weighted in different ways, including by the length of border shared between two polygons.\n",
    "\n",
    "This schema does not necessarily lend itself well to spatial transcriptomic technologies, where the polygonal boundaries of cell objects may not correspond to the measurements in the count matrix, or individual spots or barcodes may themselves correspond to multiple neighborhoods of cells. Certainly, the interpretation of spatial weights matrix will change depending on the technology.\n",
    "\n",
    "In any case, we can generate a putative spatial graph using the k-nearest neighbors algorithm. This is implemented in the `findSpatialNeighbors()` function with the argument `method = \"knearneigh\"` . We will store the result in the `colGraphs()` slot of the SFE object."
   ]
  },
  {
   "cell_type": "code",
   "execution_count": null,
<<<<<<< HEAD
<<<<<<< HEAD
<<<<<<< HEAD
<<<<<<< HEAD
<<<<<<< HEAD
   "id": "5808d214",
||||||| 11b9cb7
   "id": "46264246",
=======
   "id": "03f6c922",
>>>>>>> documentation-devel
||||||| 614e9b1
   "id": "03f6c922",
=======
   "id": "ab38cf22",
>>>>>>> documentation-devel
||||||| 856b4c0
<<<<<<< HEAD
   "id": "5808d214",
||||||| 11b9cb7
   "id": "46264246",
=======
   "id": "03f6c922",
>>>>>>> documentation-devel
=======
   "id": "ec4be41f",
>>>>>>> 552590ea8fad969b67afdba27558a1e6cb21016e
||||||| 452c944
   "id": "ab38cf22",
=======
   "id": "a13e9aa3",
>>>>>>> documentation-devel
||||||| 4da3324
<<<<<<< HEAD
<<<<<<< HEAD
<<<<<<< HEAD
   "id": "5808d214",
||||||| 11b9cb7
   "id": "46264246",
=======
   "id": "03f6c922",
>>>>>>> documentation-devel
||||||| 614e9b1
   "id": "03f6c922",
=======
   "id": "ab38cf22",
>>>>>>> documentation-devel
||||||| 856b4c0
<<<<<<< HEAD
   "id": "5808d214",
||||||| 11b9cb7
   "id": "46264246",
=======
   "id": "03f6c922",
>>>>>>> documentation-devel
=======
   "id": "ec4be41f",
>>>>>>> 552590ea8fad969b67afdba27558a1e6cb21016e
=======
   "id": "6bcc0d47",
>>>>>>> b6e07d13baac92b2c1c9b43f8e4113ffa87bf495
   "metadata": {},
   "outputs": [],
   "source": [
    "colGraph(sfe, \"knn5\") <- findSpatialNeighbors(sfe, method = \"knearneigh\",\n",
    "                                              dist_type = \"idw\", k = 5, \n",
    "                                              style = \"W\")"
   ]
  },
  {
   "cell_type": "markdown",
<<<<<<< HEAD
<<<<<<< HEAD
<<<<<<< HEAD
<<<<<<< HEAD
<<<<<<< HEAD
   "id": "0c97dd7b",
||||||| 11b9cb7
   "id": "6c74dc82",
=======
   "id": "a34c6029",
>>>>>>> documentation-devel
||||||| 614e9b1
   "id": "a34c6029",
=======
   "id": "13c95ec4",
>>>>>>> documentation-devel
||||||| 856b4c0
<<<<<<< HEAD
   "id": "0c97dd7b",
||||||| 11b9cb7
   "id": "6c74dc82",
=======
   "id": "a34c6029",
>>>>>>> documentation-devel
=======
   "id": "3d194e5d",
>>>>>>> 552590ea8fad969b67afdba27558a1e6cb21016e
||||||| 452c944
   "id": "13c95ec4",
=======
   "id": "23f55eb5",
>>>>>>> documentation-devel
||||||| 4da3324
<<<<<<< HEAD
<<<<<<< HEAD
<<<<<<< HEAD
   "id": "0c97dd7b",
||||||| 11b9cb7
   "id": "6c74dc82",
=======
   "id": "a34c6029",
>>>>>>> documentation-devel
||||||| 614e9b1
   "id": "a34c6029",
=======
   "id": "13c95ec4",
>>>>>>> documentation-devel
||||||| 856b4c0
<<<<<<< HEAD
   "id": "0c97dd7b",
||||||| 11b9cb7
   "id": "6c74dc82",
=======
   "id": "a34c6029",
>>>>>>> documentation-devel
=======
   "id": "3d194e5d",
>>>>>>> 552590ea8fad969b67afdba27558a1e6cb21016e
=======
   "id": "c90d0490",
>>>>>>> b6e07d13baac92b2c1c9b43f8e4113ffa87bf495
   "metadata": {},
   "source": [
    "Now compute Moran\\'s I for some barcode QC metrics using `colDataMoransI()`."
   ]
  },
  {
   "cell_type": "code",
   "execution_count": null,
<<<<<<< HEAD
<<<<<<< HEAD
<<<<<<< HEAD
<<<<<<< HEAD
<<<<<<< HEAD
   "id": "ee03abba",
||||||| 11b9cb7
   "id": "ef8a0cab",
=======
   "id": "38616a40",
>>>>>>> documentation-devel
||||||| 614e9b1
   "id": "38616a40",
=======
   "id": "8ac26570",
>>>>>>> documentation-devel
||||||| 856b4c0
<<<<<<< HEAD
   "id": "ee03abba",
||||||| 11b9cb7
   "id": "ef8a0cab",
=======
   "id": "38616a40",
>>>>>>> documentation-devel
=======
   "id": "2e5608e1",
>>>>>>> 552590ea8fad969b67afdba27558a1e6cb21016e
||||||| 452c944
   "id": "8ac26570",
=======
   "id": "3ab20d28",
>>>>>>> documentation-devel
||||||| 4da3324
<<<<<<< HEAD
<<<<<<< HEAD
<<<<<<< HEAD
   "id": "ee03abba",
||||||| 11b9cb7
   "id": "ef8a0cab",
=======
   "id": "38616a40",
>>>>>>> documentation-devel
||||||| 614e9b1
   "id": "38616a40",
=======
   "id": "8ac26570",
>>>>>>> documentation-devel
||||||| 856b4c0
<<<<<<< HEAD
   "id": "ee03abba",
||||||| 11b9cb7
   "id": "ef8a0cab",
=======
   "id": "38616a40",
>>>>>>> documentation-devel
=======
   "id": "2e5608e1",
>>>>>>> 552590ea8fad969b67afdba27558a1e6cb21016e
=======
   "id": "eabb0e39",
>>>>>>> b6e07d13baac92b2c1c9b43f8e4113ffa87bf495
   "metadata": {},
   "outputs": [],
   "source": [
    "features_use <- c(\"nCounts\", \"nGenes\")\n",
    "sfe <- colDataMoransI(sfe, features_use, colGraphName = \"knn5\")"
   ]
  },
  {
   "cell_type": "code",
   "execution_count": null,
<<<<<<< HEAD
<<<<<<< HEAD
<<<<<<< HEAD
<<<<<<< HEAD
<<<<<<< HEAD
   "id": "5aec3b33",
||||||| 11b9cb7
   "id": "244813f4",
=======
   "id": "79fd7ad8",
>>>>>>> documentation-devel
||||||| 614e9b1
   "id": "79fd7ad8",
=======
   "id": "bcb3e74a",
>>>>>>> documentation-devel
||||||| 856b4c0
<<<<<<< HEAD
   "id": "5aec3b33",
||||||| 11b9cb7
   "id": "244813f4",
=======
   "id": "79fd7ad8",
>>>>>>> documentation-devel
=======
   "id": "d0e88c02",
>>>>>>> 552590ea8fad969b67afdba27558a1e6cb21016e
||||||| 452c944
   "id": "bcb3e74a",
=======
   "id": "73b930cf",
>>>>>>> documentation-devel
||||||| 4da3324
<<<<<<< HEAD
<<<<<<< HEAD
<<<<<<< HEAD
   "id": "5aec3b33",
||||||| 11b9cb7
   "id": "244813f4",
=======
   "id": "79fd7ad8",
>>>>>>> documentation-devel
||||||| 614e9b1
   "id": "79fd7ad8",
=======
   "id": "bcb3e74a",
>>>>>>> documentation-devel
||||||| 856b4c0
<<<<<<< HEAD
   "id": "5aec3b33",
||||||| 11b9cb7
   "id": "244813f4",
=======
   "id": "79fd7ad8",
>>>>>>> documentation-devel
=======
   "id": "d0e88c02",
>>>>>>> 552590ea8fad969b67afdba27558a1e6cb21016e
=======
   "id": "801fee6e",
>>>>>>> b6e07d13baac92b2c1c9b43f8e4113ffa87bf495
   "metadata": {
    "lines_to_next_cell": 0
   },
   "outputs": [],
   "source": [
    "colFeatureData(sfe)[features_use,]"
   ]
  },
  {
   "cell_type": "markdown",
<<<<<<< HEAD
<<<<<<< HEAD
<<<<<<< HEAD
<<<<<<< HEAD
<<<<<<< HEAD
   "id": "d99debec",
||||||| 11b9cb7
   "id": "bb020685",
=======
   "id": "4c872700",
>>>>>>> documentation-devel
||||||| 614e9b1
   "id": "4c872700",
=======
   "id": "49774d7e",
>>>>>>> documentation-devel
||||||| 856b4c0
<<<<<<< HEAD
   "id": "d99debec",
||||||| 11b9cb7
   "id": "bb020685",
=======
   "id": "4c872700",
>>>>>>> documentation-devel
=======
   "id": "1d713f70",
>>>>>>> 552590ea8fad969b67afdba27558a1e6cb21016e
||||||| 452c944
   "id": "49774d7e",
=======
   "id": "053d72d2",
>>>>>>> documentation-devel
||||||| 4da3324
<<<<<<< HEAD
<<<<<<< HEAD
<<<<<<< HEAD
   "id": "d99debec",
||||||| 11b9cb7
   "id": "bb020685",
=======
   "id": "4c872700",
>>>>>>> documentation-devel
||||||| 614e9b1
   "id": "4c872700",
=======
   "id": "49774d7e",
>>>>>>> documentation-devel
||||||| 856b4c0
<<<<<<< HEAD
   "id": "d99debec",
||||||| 11b9cb7
   "id": "bb020685",
=======
   "id": "4c872700",
>>>>>>> documentation-devel
=======
   "id": "1d713f70",
>>>>>>> 552590ea8fad969b67afdba27558a1e6cb21016e
=======
   "id": "eaa966d4",
>>>>>>> b6e07d13baac92b2c1c9b43f8e4113ffa87bf495
   "metadata": {},
   "source": [
    "The results above do not substantiate the visual check for spatial autocorrelation. We will continue with investigating other QC metrics.\n",
    "\n",
    "The proportion of UMIs mapping to mitochondrial genes is a useful metric for assessing cell quality in scRNA-seq data. We will examine this QC metric below by plotting it versus total number of UMI counts for each barcode."
   ]
  },
  {
   "cell_type": "code",
   "execution_count": null,
<<<<<<< HEAD
<<<<<<< HEAD
<<<<<<< HEAD
<<<<<<< HEAD
<<<<<<< HEAD
   "id": "586bd918",
||||||| 11b9cb7
   "id": "dabf467f",
=======
   "id": "dd427bee",
>>>>>>> documentation-devel
||||||| 614e9b1
   "id": "dd427bee",
=======
   "id": "881f5a19",
>>>>>>> documentation-devel
||||||| 856b4c0
<<<<<<< HEAD
   "id": "586bd918",
||||||| 11b9cb7
   "id": "dabf467f",
=======
   "id": "dd427bee",
>>>>>>> documentation-devel
=======
   "id": "e4e4a538",
>>>>>>> 552590ea8fad969b67afdba27558a1e6cb21016e
||||||| 452c944
   "id": "881f5a19",
=======
   "id": "8d4d7ef4",
>>>>>>> documentation-devel
||||||| 4da3324
<<<<<<< HEAD
<<<<<<< HEAD
<<<<<<< HEAD
   "id": "586bd918",
||||||| 11b9cb7
   "id": "dabf467f",
=======
   "id": "dd427bee",
>>>>>>> documentation-devel
||||||| 614e9b1
   "id": "dd427bee",
=======
   "id": "881f5a19",
>>>>>>> documentation-devel
||||||| 856b4c0
<<<<<<< HEAD
   "id": "586bd918",
||||||| 11b9cb7
   "id": "dabf467f",
=======
   "id": "dd427bee",
>>>>>>> documentation-devel
=======
   "id": "e4e4a538",
>>>>>>> 552590ea8fad969b67afdba27558a1e6cb21016e
=======
   "id": "f4cdaf1a",
>>>>>>> b6e07d13baac92b2c1c9b43f8e4113ffa87bf495
   "metadata": {},
   "outputs": [],
   "source": [
    "\n",
    "violin <- plotColData(sfe, \"prop_mito\") +\n",
    "    geom_hline(aes(yintercept = prop_mito), avg, color=\"red\") +\n",
    "    theme(legend.position = \"top\") \n",
    "\n",
    "mito <- plotColData(sfe, x = \"nCounts\", y = \"prop_mito\")\n",
    "\n",
    "violin + mito"
   ]
  },
  {
   "cell_type": "markdown",
<<<<<<< HEAD
<<<<<<< HEAD
<<<<<<< HEAD
<<<<<<< HEAD
<<<<<<< HEAD
   "id": "319e698d",
||||||| 11b9cb7
   "id": "c9918b86",
=======
   "id": "3f4ad152",
>>>>>>> documentation-devel
||||||| 614e9b1
   "id": "3f4ad152",
=======
   "id": "aba6c20c",
>>>>>>> documentation-devel
||||||| 856b4c0
<<<<<<< HEAD
   "id": "319e698d",
||||||| 11b9cb7
   "id": "c9918b86",
=======
   "id": "3f4ad152",
>>>>>>> documentation-devel
=======
   "id": "567262ef",
>>>>>>> 552590ea8fad969b67afdba27558a1e6cb21016e
||||||| 452c944
   "id": "aba6c20c",
=======
   "id": "0291b9a1",
>>>>>>> documentation-devel
||||||| 4da3324
<<<<<<< HEAD
<<<<<<< HEAD
<<<<<<< HEAD
   "id": "319e698d",
||||||| 11b9cb7
   "id": "c9918b86",
=======
   "id": "3f4ad152",
>>>>>>> documentation-devel
||||||| 614e9b1
   "id": "3f4ad152",
=======
   "id": "aba6c20c",
>>>>>>> documentation-devel
||||||| 856b4c0
<<<<<<< HEAD
   "id": "319e698d",
||||||| 11b9cb7
   "id": "c9918b86",
=======
   "id": "3f4ad152",
>>>>>>> documentation-devel
=======
   "id": "567262ef",
>>>>>>> 552590ea8fad969b67afdba27558a1e6cb21016e
=======
   "id": "36d7fe59",
>>>>>>> b6e07d13baac92b2c1c9b43f8e4113ffa87bf495
   "metadata": {},
   "source": [
    "In keeping with expectations, barcodes associated with fewer counts appear to be associated with higher proportions of mitochondrial reads. We will exclude barcodes containing more than \\>10% mitochondrial reads for subsequent analysis. The second line removes barcodes with zero counts, but this is not necessary for this dataset as there are no barcodes with zero counts. We keep it here just to demonstrate the method. "
   ]
  },
  {
   "cell_type": "code",
   "execution_count": null,
<<<<<<< HEAD
<<<<<<< HEAD
<<<<<<< HEAD
<<<<<<< HEAD
<<<<<<< HEAD
   "id": "fca1a336",
||||||| 11b9cb7
   "id": "f0fc91ac",
=======
   "id": "fa09f807",
>>>>>>> documentation-devel
||||||| 614e9b1
   "id": "fa09f807",
=======
   "id": "0df6b88a",
>>>>>>> documentation-devel
||||||| 856b4c0
<<<<<<< HEAD
   "id": "fca1a336",
||||||| 11b9cb7
   "id": "f0fc91ac",
=======
   "id": "fa09f807",
>>>>>>> documentation-devel
=======
   "id": "05b315b0",
>>>>>>> 552590ea8fad969b67afdba27558a1e6cb21016e
||||||| 452c944
   "id": "0df6b88a",
=======
   "id": "ce16c63f",
>>>>>>> documentation-devel
||||||| 4da3324
<<<<<<< HEAD
<<<<<<< HEAD
<<<<<<< HEAD
   "id": "fca1a336",
||||||| 11b9cb7
   "id": "f0fc91ac",
=======
   "id": "fa09f807",
>>>>>>> documentation-devel
||||||| 614e9b1
   "id": "fa09f807",
=======
   "id": "0df6b88a",
>>>>>>> documentation-devel
||||||| 856b4c0
<<<<<<< HEAD
   "id": "fca1a336",
||||||| 11b9cb7
   "id": "f0fc91ac",
=======
   "id": "fa09f807",
>>>>>>> documentation-devel
=======
   "id": "05b315b0",
>>>>>>> 552590ea8fad969b67afdba27558a1e6cb21016e
=======
   "id": "edccf347",
>>>>>>> b6e07d13baac92b2c1c9b43f8e4113ffa87bf495
   "metadata": {},
   "outputs": [],
   "source": [
    "# Spatial neighborhood graph is reconstructed when subsetting columns\n",
    "# Use drop = TRUE to drop the graph without reconstruction, whose indices are \n",
    "# no longer valid\n",
    "sfe_filt <- sfe[, colData(sfe)$prop_mito < 0.1]\n",
    "sfe_filt <- sfe_filt[rowSums(counts(sfe_filt)) > 0,]"
   ]
  },
  {
   "cell_type": "markdown",
<<<<<<< HEAD
<<<<<<< HEAD
<<<<<<< HEAD
<<<<<<< HEAD
<<<<<<< HEAD
   "id": "cf708fa3",
||||||| 11b9cb7
   "id": "2998bd2b",
=======
   "id": "81cdc0dc",
>>>>>>> documentation-devel
||||||| 614e9b1
   "id": "81cdc0dc",
=======
   "id": "043397a9",
>>>>>>> documentation-devel
||||||| 856b4c0
<<<<<<< HEAD
   "id": "cf708fa3",
||||||| 11b9cb7
   "id": "2998bd2b",
=======
   "id": "81cdc0dc",
>>>>>>> documentation-devel
=======
   "id": "b0193bd8",
>>>>>>> 552590ea8fad969b67afdba27558a1e6cb21016e
||||||| 452c944
   "id": "043397a9",
=======
   "id": "92d4cb7e",
>>>>>>> documentation-devel
||||||| 4da3324
<<<<<<< HEAD
<<<<<<< HEAD
<<<<<<< HEAD
   "id": "cf708fa3",
||||||| 11b9cb7
   "id": "2998bd2b",
=======
   "id": "81cdc0dc",
>>>>>>> documentation-devel
||||||| 614e9b1
   "id": "81cdc0dc",
=======
   "id": "043397a9",
>>>>>>> documentation-devel
||||||| 856b4c0
<<<<<<< HEAD
   "id": "cf708fa3",
||||||| 11b9cb7
   "id": "2998bd2b",
=======
   "id": "81cdc0dc",
>>>>>>> documentation-devel
=======
   "id": "b0193bd8",
>>>>>>> 552590ea8fad969b67afdba27558a1e6cb21016e
=======
   "id": "55547ef0",
>>>>>>> b6e07d13baac92b2c1c9b43f8e4113ffa87bf495
   "metadata": {},
   "source": [
    "# Data Normalization\n",
    "\n",
    "Normalization of spatial transcriptomics data is non-trivial and requires thoughtful consideration. Similarly to scRNA-seq data analysis, the goal of normalization is to remove the effects of technical variation and derive a quantity that reflects biological variation. However, several questions arise when considering best practices for spatial data normalization. For example, spatial methods on average detect fewer UMIs than their single-cell counterparts, which may preclude the use normalization techniques such as log transformation as shown [here](<https://doi.org/10.1093/bioinformatics/btab085>). What's more, it is not always evident whether spatial autocorrelation between genes (or QC measures) is an artifact of the technology, and thus, whether normalization methods should preserve the spatial autocorrelation architecture. These questions provide avenues for active research and development, but are currently unresolved. To this end, we log-normalize the data in the cell below and identify variable genes for subsequent analysis."
   ]
  },
  {
   "cell_type": "code",
   "execution_count": null,
<<<<<<< HEAD
<<<<<<< HEAD
<<<<<<< HEAD
<<<<<<< HEAD
<<<<<<< HEAD
   "id": "f4ea492c",
||||||| 11b9cb7
   "id": "51664f89",
=======
   "id": "3952d171",
>>>>>>> documentation-devel
||||||| 614e9b1
   "id": "3952d171",
=======
   "id": "8f732d77",
>>>>>>> documentation-devel
||||||| 856b4c0
<<<<<<< HEAD
   "id": "f4ea492c",
||||||| 11b9cb7
   "id": "51664f89",
=======
   "id": "3952d171",
>>>>>>> documentation-devel
=======
   "id": "a078330d",
>>>>>>> 552590ea8fad969b67afdba27558a1e6cb21016e
||||||| 452c944
   "id": "8f732d77",
=======
   "id": "c613c761",
>>>>>>> documentation-devel
||||||| 4da3324
<<<<<<< HEAD
<<<<<<< HEAD
<<<<<<< HEAD
   "id": "f4ea492c",
||||||| 11b9cb7
   "id": "51664f89",
=======
   "id": "3952d171",
>>>>>>> documentation-devel
||||||| 614e9b1
   "id": "3952d171",
=======
   "id": "8f732d77",
>>>>>>> documentation-devel
||||||| 856b4c0
<<<<<<< HEAD
   "id": "f4ea492c",
||||||| 11b9cb7
   "id": "51664f89",
=======
   "id": "3952d171",
>>>>>>> documentation-devel
=======
   "id": "a078330d",
>>>>>>> 552590ea8fad969b67afdba27558a1e6cb21016e
=======
   "id": "e6f968ac",
>>>>>>> b6e07d13baac92b2c1c9b43f8e4113ffa87bf495
   "metadata": {},
   "outputs": [],
   "source": [
    "sfe_filt <- logNormCounts(sfe_filt)\n",
    "\n",
    "dec <- modelGeneVar(sfe_filt)\n",
    "hvgs <- getTopHVGs(dec, n = 2000)"
   ]
  },
  {
   "cell_type": "markdown",
<<<<<<< HEAD
<<<<<<< HEAD
<<<<<<< HEAD
<<<<<<< HEAD
<<<<<<< HEAD
   "id": "e4dbd1b0",
||||||| 11b9cb7
   "id": "d7a1f4ec",
=======
   "id": "3a05ddd5",
>>>>>>> documentation-devel
||||||| 614e9b1
   "id": "3a05ddd5",
=======
   "id": "ac110985",
>>>>>>> documentation-devel
||||||| 856b4c0
<<<<<<< HEAD
   "id": "e4dbd1b0",
||||||| 11b9cb7
   "id": "d7a1f4ec",
=======
   "id": "3a05ddd5",
>>>>>>> documentation-devel
=======
   "id": "f79b7c62",
>>>>>>> 552590ea8fad969b67afdba27558a1e6cb21016e
||||||| 452c944
   "id": "ac110985",
=======
   "id": "55574fed",
>>>>>>> documentation-devel
||||||| 4da3324
<<<<<<< HEAD
<<<<<<< HEAD
<<<<<<< HEAD
   "id": "e4dbd1b0",
||||||| 11b9cb7
   "id": "d7a1f4ec",
=======
   "id": "3a05ddd5",
>>>>>>> documentation-devel
||||||| 614e9b1
   "id": "3a05ddd5",
=======
   "id": "ac110985",
>>>>>>> documentation-devel
||||||| 856b4c0
<<<<<<< HEAD
   "id": "e4dbd1b0",
||||||| 11b9cb7
   "id": "d7a1f4ec",
=======
   "id": "3a05ddd5",
>>>>>>> documentation-devel
=======
   "id": "f79b7c62",
>>>>>>> 552590ea8fad969b67afdba27558a1e6cb21016e
=======
   "id": "939cd930",
>>>>>>> b6e07d13baac92b2c1c9b43f8e4113ffa87bf495
   "metadata": {
    "lines_to_next_cell": 0
   },
   "source": [
    "# Dimension Reduction and Clustering\n",
    "Much like in scRNA-seq analysis, we perform principal component analysis (PCA) before clustering. We note that the method does not use any spatial information. "
   ]
  },
  {
   "cell_type": "code",
   "execution_count": null,
<<<<<<< HEAD
<<<<<<< HEAD
<<<<<<< HEAD
<<<<<<< HEAD
<<<<<<< HEAD
   "id": "fabc0e95",
||||||| 11b9cb7
   "id": "2bf2ffa8",
=======
   "id": "51fc18bb",
>>>>>>> documentation-devel
||||||| 614e9b1
   "id": "51fc18bb",
=======
   "id": "1ab38ca1",
>>>>>>> documentation-devel
||||||| 856b4c0
<<<<<<< HEAD
   "id": "fabc0e95",
||||||| 11b9cb7
   "id": "2bf2ffa8",
=======
   "id": "51fc18bb",
>>>>>>> documentation-devel
=======
   "id": "d321dc65",
>>>>>>> 552590ea8fad969b67afdba27558a1e6cb21016e
||||||| 452c944
   "id": "1ab38ca1",
=======
   "id": "925ce3fc",
>>>>>>> documentation-devel
||||||| 4da3324
<<<<<<< HEAD
<<<<<<< HEAD
<<<<<<< HEAD
   "id": "fabc0e95",
||||||| 11b9cb7
   "id": "2bf2ffa8",
=======
   "id": "51fc18bb",
>>>>>>> documentation-devel
||||||| 614e9b1
   "id": "51fc18bb",
=======
   "id": "1ab38ca1",
>>>>>>> documentation-devel
||||||| 856b4c0
<<<<<<< HEAD
   "id": "fabc0e95",
||||||| 11b9cb7
   "id": "2bf2ffa8",
=======
   "id": "51fc18bb",
>>>>>>> documentation-devel
=======
   "id": "d321dc65",
>>>>>>> 552590ea8fad969b67afdba27558a1e6cb21016e
=======
   "id": "277bc6f9",
>>>>>>> b6e07d13baac92b2c1c9b43f8e4113ffa87bf495
   "metadata": {
    "lines_to_next_cell": 0
   },
   "outputs": [],
   "source": [
    "set.seed(29)\n",
    "sfe_filt <- runPCA(sfe_filt, ncomponents = 30, subset_row = hvgs,\n",
    "                   scale = TRUE, BSPARAM = BiocSingular::IrlbaParam()) \n",
    "# scale as in Seurat"
   ]
  },
  {
   "cell_type": "markdown",
<<<<<<< HEAD
<<<<<<< HEAD
<<<<<<< HEAD
<<<<<<< HEAD
<<<<<<< HEAD
   "id": "78db6528",
||||||| 11b9cb7
   "id": "7f876398",
=======
   "id": "d0a67ee2",
>>>>>>> documentation-devel
||||||| 614e9b1
   "id": "d0a67ee2",
=======
   "id": "f5b112f3",
>>>>>>> documentation-devel
||||||| 856b4c0
<<<<<<< HEAD
   "id": "78db6528",
||||||| 11b9cb7
   "id": "7f876398",
=======
   "id": "d0a67ee2",
>>>>>>> documentation-devel
=======
   "id": "9ca3be6b",
>>>>>>> 552590ea8fad969b67afdba27558a1e6cb21016e
||||||| 452c944
   "id": "f5b112f3",
=======
   "id": "39ece681",
>>>>>>> documentation-devel
||||||| 4da3324
<<<<<<< HEAD
<<<<<<< HEAD
<<<<<<< HEAD
   "id": "78db6528",
||||||| 11b9cb7
   "id": "7f876398",
=======
   "id": "d0a67ee2",
>>>>>>> documentation-devel
||||||| 614e9b1
   "id": "d0a67ee2",
=======
   "id": "f5b112f3",
>>>>>>> documentation-devel
||||||| 856b4c0
<<<<<<< HEAD
   "id": "78db6528",
||||||| 11b9cb7
   "id": "7f876398",
=======
   "id": "d0a67ee2",
>>>>>>> documentation-devel
=======
   "id": "9ca3be6b",
>>>>>>> 552590ea8fad969b67afdba27558a1e6cb21016e
=======
   "id": "58f1932d",
>>>>>>> b6e07d13baac92b2c1c9b43f8e4113ffa87bf495
   "metadata": {
    "lines_to_next_cell": 0
   },
   "source": [
    "We can plot the variance explained by each PC. "
   ]
  },
  {
   "cell_type": "code",
   "execution_count": null,
<<<<<<< HEAD
<<<<<<< HEAD
<<<<<<< HEAD
<<<<<<< HEAD
<<<<<<< HEAD
   "id": "fc0c8dfa",
||||||| 11b9cb7
   "id": "0ac4d8ce",
=======
   "id": "4497e1b5",
>>>>>>> documentation-devel
||||||| 614e9b1
   "id": "4497e1b5",
=======
   "id": "4f694286",
>>>>>>> documentation-devel
||||||| 856b4c0
<<<<<<< HEAD
   "id": "fc0c8dfa",
||||||| 11b9cb7
   "id": "0ac4d8ce",
=======
   "id": "4497e1b5",
>>>>>>> documentation-devel
=======
   "id": "aaa31add",
>>>>>>> 552590ea8fad969b67afdba27558a1e6cb21016e
||||||| 452c944
   "id": "4f694286",
=======
   "id": "5e6a9aba",
>>>>>>> documentation-devel
||||||| 4da3324
<<<<<<< HEAD
<<<<<<< HEAD
<<<<<<< HEAD
   "id": "fc0c8dfa",
||||||| 11b9cb7
   "id": "0ac4d8ce",
=======
   "id": "4497e1b5",
>>>>>>> documentation-devel
||||||| 614e9b1
   "id": "4497e1b5",
=======
   "id": "4f694286",
>>>>>>> documentation-devel
||||||| 856b4c0
<<<<<<< HEAD
   "id": "fc0c8dfa",
||||||| 11b9cb7
   "id": "0ac4d8ce",
=======
   "id": "4497e1b5",
>>>>>>> documentation-devel
=======
   "id": "aaa31add",
>>>>>>> 552590ea8fad969b67afdba27558a1e6cb21016e
=======
   "id": "098121c7",
>>>>>>> b6e07d13baac92b2c1c9b43f8e4113ffa87bf495
   "metadata": {},
   "outputs": [],
   "source": [
    "ElbowPlot(sfe_filt, ndims = 30) + theme_bw()"
   ]
  },
  {
   "cell_type": "markdown",
<<<<<<< HEAD
<<<<<<< HEAD
<<<<<<< HEAD
<<<<<<< HEAD
<<<<<<< HEAD
   "id": "03a8be05",
||||||| 11b9cb7
   "id": "875860bc",
=======
   "id": "c56ee6b7",
>>>>>>> documentation-devel
||||||| 614e9b1
   "id": "c56ee6b7",
=======
   "id": "e9862978",
>>>>>>> documentation-devel
||||||| 856b4c0
<<<<<<< HEAD
   "id": "03a8be05",
||||||| 11b9cb7
   "id": "875860bc",
=======
   "id": "c56ee6b7",
>>>>>>> documentation-devel
=======
   "id": "2478cdaa",
>>>>>>> 552590ea8fad969b67afdba27558a1e6cb21016e
||||||| 452c944
   "id": "e9862978",
=======
   "id": "5cb670a3",
>>>>>>> documentation-devel
||||||| 4da3324
<<<<<<< HEAD
<<<<<<< HEAD
<<<<<<< HEAD
   "id": "03a8be05",
||||||| 11b9cb7
   "id": "875860bc",
=======
   "id": "c56ee6b7",
>>>>>>> documentation-devel
||||||| 614e9b1
   "id": "c56ee6b7",
=======
   "id": "e9862978",
>>>>>>> documentation-devel
||||||| 856b4c0
<<<<<<< HEAD
   "id": "03a8be05",
||||||| 11b9cb7
   "id": "875860bc",
=======
   "id": "c56ee6b7",
>>>>>>> documentation-devel
=======
   "id": "2478cdaa",
>>>>>>> 552590ea8fad969b67afdba27558a1e6cb21016e
=======
   "id": "2fbdcd60",
>>>>>>> b6e07d13baac92b2c1c9b43f8e4113ffa87bf495
   "metadata": {
    "lines_to_next_cell": 0
   },
   "source": [
    "We see that the first few components explain most of the variance in the data. The principal components (PCs) can be plotted in space. Here we notice that the PCs may show some spatial structure that correlates to biological niches of cells. "
   ]
  },
  {
   "cell_type": "code",
   "execution_count": null,
<<<<<<< HEAD
<<<<<<< HEAD
<<<<<<< HEAD
<<<<<<< HEAD
<<<<<<< HEAD
   "id": "5e87953c",
||||||| 11b9cb7
   "id": "2483b77e",
=======
   "id": "640163b7",
>>>>>>> documentation-devel
||||||| 614e9b1
   "id": "640163b7",
=======
   "id": "dcbeabc3",
>>>>>>> documentation-devel
||||||| 856b4c0
<<<<<<< HEAD
   "id": "5e87953c",
||||||| 11b9cb7
   "id": "2483b77e",
=======
   "id": "640163b7",
>>>>>>> documentation-devel
=======
   "id": "f5ad6722",
>>>>>>> 552590ea8fad969b67afdba27558a1e6cb21016e
||||||| 452c944
   "id": "dcbeabc3",
=======
   "id": "6ce76d5d",
>>>>>>> documentation-devel
||||||| 4da3324
<<<<<<< HEAD
<<<<<<< HEAD
<<<<<<< HEAD
   "id": "5e87953c",
||||||| 11b9cb7
   "id": "2483b77e",
=======
   "id": "640163b7",
>>>>>>> documentation-devel
||||||| 614e9b1
   "id": "640163b7",
=======
   "id": "dcbeabc3",
>>>>>>> documentation-devel
||||||| 856b4c0
<<<<<<< HEAD
   "id": "5e87953c",
||||||| 11b9cb7
   "id": "2483b77e",
=======
   "id": "640163b7",
>>>>>>> documentation-devel
=======
   "id": "f5ad6722",
>>>>>>> 552590ea8fad969b67afdba27558a1e6cb21016e
=======
   "id": "1a7efe4d",
>>>>>>> b6e07d13baac92b2c1c9b43f8e4113ffa87bf495
   "metadata": {},
   "outputs": [],
   "source": [
    "spatialReducedDim(sfe_filt, \"PCA\", ncomponents = 4, \n",
    "                  colGeometryName = \"centroids\", divergent = TRUE, \n",
    "                  diverge_center = 0, scattermore = TRUE, pointsize = 0.5)"
   ]
  },
  {
   "cell_type": "markdown",
<<<<<<< HEAD
<<<<<<< HEAD
<<<<<<< HEAD
<<<<<<< HEAD
<<<<<<< HEAD
   "id": "09bd2615",
||||||| 11b9cb7
   "id": "68f3fbd3",
=======
   "id": "400de8e4",
>>>>>>> documentation-devel
||||||| 614e9b1
   "id": "400de8e4",
=======
   "id": "c960a0ae",
>>>>>>> documentation-devel
||||||| 856b4c0
<<<<<<< HEAD
   "id": "09bd2615",
||||||| 11b9cb7
   "id": "68f3fbd3",
=======
   "id": "400de8e4",
>>>>>>> documentation-devel
=======
   "id": "df369e8a",
>>>>>>> 552590ea8fad969b67afdba27558a1e6cb21016e
||||||| 452c944
   "id": "c960a0ae",
=======
   "id": "05539552",
>>>>>>> documentation-devel
||||||| 4da3324
<<<<<<< HEAD
<<<<<<< HEAD
<<<<<<< HEAD
   "id": "09bd2615",
||||||| 11b9cb7
   "id": "68f3fbd3",
=======
   "id": "400de8e4",
>>>>>>> documentation-devel
||||||| 614e9b1
   "id": "400de8e4",
=======
   "id": "c960a0ae",
>>>>>>> documentation-devel
||||||| 856b4c0
<<<<<<< HEAD
   "id": "09bd2615",
||||||| 11b9cb7
   "id": "68f3fbd3",
=======
   "id": "400de8e4",
>>>>>>> documentation-devel
=======
   "id": "df369e8a",
>>>>>>> 552590ea8fad969b67afdba27558a1e6cb21016e
=======
   "id": "66a73382",
>>>>>>> b6e07d13baac92b2c1c9b43f8e4113ffa87bf495
   "metadata": {},
   "source": [
    "Without the cellular overlays, we can only speculate about the potential relevance of the barcodes that seem to be separated by each PC, but each PC doe seem to separate distinct neighborhoods of barcodes.  "
   ]
  },
  {
   "cell_type": "markdown",
<<<<<<< HEAD
<<<<<<< HEAD
<<<<<<< HEAD
<<<<<<< HEAD
<<<<<<< HEAD
   "id": "8909125e",
||||||| 11b9cb7
   "id": "47b6c75c",
=======
   "id": "fcca636d",
>>>>>>> documentation-devel
||||||| 614e9b1
   "id": "fcca636d",
=======
   "id": "8cbbf73e",
>>>>>>> documentation-devel
||||||| 856b4c0
<<<<<<< HEAD
   "id": "8909125e",
||||||| 11b9cb7
   "id": "47b6c75c",
=======
   "id": "fcca636d",
>>>>>>> documentation-devel
=======
   "id": "f5e653ab",
>>>>>>> 552590ea8fad969b67afdba27558a1e6cb21016e
||||||| 452c944
   "id": "8cbbf73e",
=======
   "id": "9585879e",
>>>>>>> documentation-devel
||||||| 4da3324
<<<<<<< HEAD
<<<<<<< HEAD
<<<<<<< HEAD
   "id": "8909125e",
||||||| 11b9cb7
   "id": "47b6c75c",
=======
   "id": "fcca636d",
>>>>>>> documentation-devel
||||||| 614e9b1
   "id": "fcca636d",
=======
   "id": "8cbbf73e",
>>>>>>> documentation-devel
||||||| 856b4c0
<<<<<<< HEAD
   "id": "8909125e",
||||||| 11b9cb7
   "id": "47b6c75c",
=======
   "id": "fcca636d",
>>>>>>> documentation-devel
=======
   "id": "f5e653ab",
>>>>>>> 552590ea8fad969b67afdba27558a1e6cb21016e
=======
   "id": "3ef037fb",
>>>>>>> b6e07d13baac92b2c1c9b43f8e4113ffa87bf495
   "metadata": {
    "lines_to_next_cell": 0
   },
   "source": [
    "Now we can cluster the barcodes using a graph-based clustering algorithm and plot them in space. "
   ]
  },
  {
   "cell_type": "code",
   "execution_count": null,
<<<<<<< HEAD
<<<<<<< HEAD
<<<<<<< HEAD
<<<<<<< HEAD
<<<<<<< HEAD
   "id": "59328777",
||||||| 11b9cb7
   "id": "1272c973",
=======
   "id": "1553d006",
>>>>>>> documentation-devel
||||||| 614e9b1
   "id": "1553d006",
=======
   "id": "a53d307b",
>>>>>>> documentation-devel
||||||| 856b4c0
<<<<<<< HEAD
   "id": "59328777",
||||||| 11b9cb7
   "id": "1272c973",
=======
   "id": "1553d006",
>>>>>>> documentation-devel
=======
   "id": "b5d902ea",
>>>>>>> 552590ea8fad969b67afdba27558a1e6cb21016e
||||||| 452c944
   "id": "a53d307b",
=======
   "id": "4ec65e30",
>>>>>>> documentation-devel
||||||| 4da3324
<<<<<<< HEAD
<<<<<<< HEAD
<<<<<<< HEAD
   "id": "59328777",
||||||| 11b9cb7
   "id": "1272c973",
=======
   "id": "1553d006",
>>>>>>> documentation-devel
||||||| 614e9b1
   "id": "1553d006",
=======
   "id": "a53d307b",
>>>>>>> documentation-devel
||||||| 856b4c0
<<<<<<< HEAD
   "id": "59328777",
||||||| 11b9cb7
   "id": "1272c973",
=======
   "id": "1553d006",
>>>>>>> documentation-devel
=======
   "id": "b5d902ea",
>>>>>>> 552590ea8fad969b67afdba27558a1e6cb21016e
=======
   "id": "568b9883",
>>>>>>> b6e07d13baac92b2c1c9b43f8e4113ffa87bf495
   "metadata": {},
   "outputs": [],
   "source": [
    "colData(sfe_filt)$cluster <- clusterRows(reducedDim(sfe_filt, \"PCA\")[,1:3],\n",
    "                                           BLUSPARAM = SNNGraphParam(\n",
    "                                               cluster.fun = \"leiden\",\n",
    "                                               cluster.args = list(\n",
    "                                                   resolution_parameter = 0.5,\n",
    "                                                   objective_function = \"modularity\")))"
   ]
  },
  {
   "cell_type": "markdown",
<<<<<<< HEAD
<<<<<<< HEAD
<<<<<<< HEAD
<<<<<<< HEAD
<<<<<<< HEAD
   "id": "fa5ff495",
||||||| 11b9cb7
   "id": "1fedff5e",
=======
   "id": "39c367d4",
>>>>>>> documentation-devel
||||||| 614e9b1
   "id": "39c367d4",
=======
   "id": "58b43f01",
>>>>>>> documentation-devel
||||||| 856b4c0
<<<<<<< HEAD
   "id": "fa5ff495",
||||||| 11b9cb7
   "id": "1fedff5e",
=======
   "id": "39c367d4",
>>>>>>> documentation-devel
=======
   "id": "fe8801aa",
>>>>>>> 552590ea8fad969b67afdba27558a1e6cb21016e
||||||| 452c944
   "id": "58b43f01",
=======
   "id": "838fa1ee",
>>>>>>> documentation-devel
||||||| 4da3324
<<<<<<< HEAD
<<<<<<< HEAD
<<<<<<< HEAD
   "id": "fa5ff495",
||||||| 11b9cb7
   "id": "1fedff5e",
=======
   "id": "39c367d4",
>>>>>>> documentation-devel
||||||| 614e9b1
   "id": "39c367d4",
=======
   "id": "58b43f01",
>>>>>>> documentation-devel
||||||| 856b4c0
<<<<<<< HEAD
   "id": "fa5ff495",
||||||| 11b9cb7
   "id": "1fedff5e",
=======
   "id": "39c367d4",
>>>>>>> documentation-devel
=======
   "id": "fe8801aa",
>>>>>>> 552590ea8fad969b67afdba27558a1e6cb21016e
=======
   "id": "121afa12",
>>>>>>> b6e07d13baac92b2c1c9b43f8e4113ffa87bf495
   "metadata": {
    "lines_to_next_cell": 0
   },
   "source": [
    "The plot below is colored by cluster id. A naive interpretation of the plot shows distinct niches of barcodes separated by more abundant, intervening types. This may be indicative of the biological processes at hand, namely melanoma metastasis, where 'hotspots' of melanoma proliferation would be separated by unaffected normal tissue. "
   ]
  },
  {
   "cell_type": "code",
   "execution_count": null,
<<<<<<< HEAD
<<<<<<< HEAD
<<<<<<< HEAD
<<<<<<< HEAD
<<<<<<< HEAD
   "id": "ff132a0b",
||||||| 11b9cb7
   "id": "f3af6728",
=======
   "id": "7125836d",
>>>>>>> documentation-devel
||||||| 614e9b1
   "id": "7125836d",
=======
   "id": "bcb9927a",
>>>>>>> documentation-devel
||||||| 856b4c0
<<<<<<< HEAD
   "id": "ff132a0b",
||||||| 11b9cb7
   "id": "f3af6728",
=======
   "id": "7125836d",
>>>>>>> documentation-devel
=======
   "id": "27c57b3c",
>>>>>>> 552590ea8fad969b67afdba27558a1e6cb21016e
||||||| 452c944
   "id": "bcb9927a",
=======
   "id": "7fa64200",
>>>>>>> documentation-devel
||||||| 4da3324
<<<<<<< HEAD
<<<<<<< HEAD
<<<<<<< HEAD
   "id": "ff132a0b",
||||||| 11b9cb7
   "id": "f3af6728",
=======
   "id": "7125836d",
>>>>>>> documentation-devel
||||||| 614e9b1
   "id": "7125836d",
=======
   "id": "bcb9927a",
>>>>>>> documentation-devel
||||||| 856b4c0
<<<<<<< HEAD
   "id": "ff132a0b",
||||||| 11b9cb7
   "id": "f3af6728",
=======
   "id": "7125836d",
>>>>>>> documentation-devel
=======
   "id": "27c57b3c",
>>>>>>> 552590ea8fad969b67afdba27558a1e6cb21016e
=======
   "id": "b205c9f3",
>>>>>>> b6e07d13baac92b2c1c9b43f8e4113ffa87bf495
   "metadata": {},
   "outputs": [],
   "source": [
    "plotSpatialFeature(sfe_filt, \"cluster\", colGeometryName = \"centroids\") +\n",
    "  guides(colour = guide_legend(override.aes = list(size=3)))"
   ]
  },
  {
   "cell_type": "markdown",
<<<<<<< HEAD
<<<<<<< HEAD
<<<<<<< HEAD
<<<<<<< HEAD
<<<<<<< HEAD
   "id": "143e7c20",
||||||| 11b9cb7
   "id": "51caaea1",
=======
   "id": "b05abd63",
>>>>>>> documentation-devel
||||||| 614e9b1
   "id": "b05abd63",
=======
   "id": "969a3eca",
>>>>>>> documentation-devel
||||||| 856b4c0
<<<<<<< HEAD
   "id": "143e7c20",
||||||| 11b9cb7
   "id": "51caaea1",
=======
   "id": "b05abd63",
>>>>>>> documentation-devel
=======
   "id": "8239f880",
>>>>>>> 552590ea8fad969b67afdba27558a1e6cb21016e
||||||| 452c944
   "id": "969a3eca",
=======
   "id": "f59012ba",
>>>>>>> documentation-devel
||||||| 4da3324
<<<<<<< HEAD
<<<<<<< HEAD
<<<<<<< HEAD
   "id": "143e7c20",
||||||| 11b9cb7
   "id": "51caaea1",
=======
   "id": "b05abd63",
>>>>>>> documentation-devel
||||||| 614e9b1
   "id": "b05abd63",
=======
   "id": "969a3eca",
>>>>>>> documentation-devel
||||||| 856b4c0
<<<<<<< HEAD
   "id": "143e7c20",
||||||| 11b9cb7
   "id": "51caaea1",
=======
   "id": "b05abd63",
>>>>>>> documentation-devel
=======
   "id": "8239f880",
>>>>>>> 552590ea8fad969b67afdba27558a1e6cb21016e
=======
   "id": "d01ea3ca",
>>>>>>> b6e07d13baac92b2c1c9b43f8e4113ffa87bf495
   "metadata": {
    "lines_to_next_cell": 0
   },
   "source": [
    "## Moran's *I*\n",
    "\n",
    "One avenue for future analysis includes identifying genes that are differentially expressed in each cluster, This can be interrogated with `findMarkers()` in a non-spatial context and with `calculateMoransI()` in a spatial context. In the spatial case, some consideration should be given to whether the differences seen in across the tissue represent biological difference or artifacts from field of view. \n",
    "\n",
    "Here we run global Moran’s *I* on log normalized gene expression."
   ]
  },
  {
   "cell_type": "code",
   "execution_count": null,
<<<<<<< HEAD
<<<<<<< HEAD
<<<<<<< HEAD
<<<<<<< HEAD
<<<<<<< HEAD
   "id": "c71728e2",
||||||| 11b9cb7
   "id": "85e8107a",
=======
   "id": "b7271ace",
>>>>>>> documentation-devel
||||||| 614e9b1
   "id": "b7271ace",
=======
   "id": "cb0ed37e",
>>>>>>> documentation-devel
||||||| 856b4c0
<<<<<<< HEAD
   "id": "c71728e2",
||||||| 11b9cb7
   "id": "85e8107a",
=======
   "id": "b7271ace",
>>>>>>> documentation-devel
=======
   "id": "0f4bdbd8",
>>>>>>> 552590ea8fad969b67afdba27558a1e6cb21016e
||||||| 452c944
   "id": "cb0ed37e",
=======
   "id": "832d9a9e",
>>>>>>> documentation-devel
||||||| 4da3324
<<<<<<< HEAD
<<<<<<< HEAD
<<<<<<< HEAD
   "id": "c71728e2",
||||||| 11b9cb7
   "id": "85e8107a",
=======
   "id": "b7271ace",
>>>>>>> documentation-devel
||||||| 614e9b1
   "id": "b7271ace",
=======
   "id": "cb0ed37e",
>>>>>>> documentation-devel
||||||| 856b4c0
<<<<<<< HEAD
   "id": "c71728e2",
||||||| 11b9cb7
   "id": "85e8107a",
=======
   "id": "b7271ace",
>>>>>>> documentation-devel
=======
   "id": "0f4bdbd8",
>>>>>>> 552590ea8fad969b67afdba27558a1e6cb21016e
=======
   "id": "35a26e8d",
>>>>>>> b6e07d13baac92b2c1c9b43f8e4113ffa87bf495
   "metadata": {},
   "outputs": [],
   "source": [
    "sfe_filt <- runMoransI(sfe_filt, features = hvgs, \n",
    "                       BPPARAM = MulticoreParam(2))"
   ]
  },
  {
   "cell_type": "markdown",
<<<<<<< HEAD
<<<<<<< HEAD
<<<<<<< HEAD
<<<<<<< HEAD
<<<<<<< HEAD
   "id": "6fc54361",
||||||| 11b9cb7
   "id": "ed02781f",
=======
   "id": "d4d5e4a8",
>>>>>>> documentation-devel
||||||| 614e9b1
   "id": "d4d5e4a8",
=======
   "id": "a6abfc51",
>>>>>>> documentation-devel
||||||| 856b4c0
<<<<<<< HEAD
   "id": "6fc54361",
||||||| 11b9cb7
   "id": "ed02781f",
=======
   "id": "d4d5e4a8",
>>>>>>> documentation-devel
=======
   "id": "72daaf93",
>>>>>>> 552590ea8fad969b67afdba27558a1e6cb21016e
||||||| 452c944
   "id": "a6abfc51",
=======
   "id": "bc95b10c",
>>>>>>> documentation-devel
||||||| 4da3324
<<<<<<< HEAD
<<<<<<< HEAD
<<<<<<< HEAD
   "id": "6fc54361",
||||||| 11b9cb7
   "id": "ed02781f",
=======
   "id": "d4d5e4a8",
>>>>>>> documentation-devel
||||||| 614e9b1
   "id": "d4d5e4a8",
=======
   "id": "a6abfc51",
>>>>>>> documentation-devel
||||||| 856b4c0
<<<<<<< HEAD
   "id": "6fc54361",
||||||| 11b9cb7
   "id": "ed02781f",
=======
   "id": "d4d5e4a8",
>>>>>>> documentation-devel
=======
   "id": "72daaf93",
>>>>>>> 552590ea8fad969b67afdba27558a1e6cb21016e
=======
   "id": "16efd6d6",
>>>>>>> b6e07d13baac92b2c1c9b43f8e4113ffa87bf495
   "metadata": {
    "lines_to_next_cell": 0
   },
   "source": [
    "Now, we might ask: which genes display the most spatial autocorrelation? "
   ]
  },
  {
   "cell_type": "code",
   "execution_count": null,
<<<<<<< HEAD
<<<<<<< HEAD
<<<<<<< HEAD
<<<<<<< HEAD
<<<<<<< HEAD
   "id": "f8f255cb",
||||||| 11b9cb7
   "id": "60c6b42f",
=======
   "id": "d2c87ac5",
>>>>>>> documentation-devel
||||||| 614e9b1
   "id": "d2c87ac5",
=======
   "id": "488ba391",
>>>>>>> documentation-devel
||||||| 856b4c0
<<<<<<< HEAD
   "id": "f8f255cb",
||||||| 11b9cb7
   "id": "60c6b42f",
=======
   "id": "d2c87ac5",
>>>>>>> documentation-devel
=======
   "id": "33b23e7e",
>>>>>>> 552590ea8fad969b67afdba27558a1e6cb21016e
||||||| 452c944
   "id": "488ba391",
=======
   "id": "fef075fe",
>>>>>>> documentation-devel
||||||| 4da3324
<<<<<<< HEAD
<<<<<<< HEAD
<<<<<<< HEAD
   "id": "f8f255cb",
||||||| 11b9cb7
   "id": "60c6b42f",
=======
   "id": "d2c87ac5",
>>>>>>> documentation-devel
||||||| 614e9b1
   "id": "d2c87ac5",
=======
   "id": "488ba391",
>>>>>>> documentation-devel
||||||| 856b4c0
<<<<<<< HEAD
   "id": "f8f255cb",
||||||| 11b9cb7
   "id": "60c6b42f",
=======
   "id": "d2c87ac5",
>>>>>>> documentation-devel
=======
   "id": "33b23e7e",
>>>>>>> 552590ea8fad969b67afdba27558a1e6cb21016e
=======
   "id": "3e39294e",
>>>>>>> b6e07d13baac92b2c1c9b43f8e4113ffa87bf495
   "metadata": {},
   "outputs": [],
   "source": [
    "top_moran <- rownames(sfe_filt)[order(rowData(sfe_filt)$moran_sample01, \n",
    "                                      decreasing = TRUE)[1:4]]\n",
    "plotSpatialFeature(sfe_filt, top_moran, colGeometryName = \"centroids\",\n",
    "                   scattermore = TRUE, pointsize = 0.5)"
   ]
  },
  {
   "cell_type": "markdown",
<<<<<<< HEAD
<<<<<<< HEAD
<<<<<<< HEAD
<<<<<<< HEAD
<<<<<<< HEAD
   "id": "36be8714",
||||||| 11b9cb7
   "id": "e5c18014",
=======
   "id": "0489ee6e",
>>>>>>> documentation-devel
||||||| 614e9b1
   "id": "0489ee6e",
=======
   "id": "d5706e3e",
>>>>>>> documentation-devel
||||||| 856b4c0
<<<<<<< HEAD
   "id": "36be8714",
||||||| 11b9cb7
   "id": "e5c18014",
=======
   "id": "0489ee6e",
>>>>>>> documentation-devel
=======
   "id": "f37dcf54",
>>>>>>> 552590ea8fad969b67afdba27558a1e6cb21016e
||||||| 452c944
   "id": "d5706e3e",
=======
   "id": "4110d4e1",
>>>>>>> documentation-devel
||||||| 4da3324
<<<<<<< HEAD
<<<<<<< HEAD
<<<<<<< HEAD
   "id": "36be8714",
||||||| 11b9cb7
   "id": "e5c18014",
=======
   "id": "0489ee6e",
>>>>>>> documentation-devel
||||||| 614e9b1
   "id": "0489ee6e",
=======
   "id": "d5706e3e",
>>>>>>> documentation-devel
||||||| 856b4c0
<<<<<<< HEAD
   "id": "36be8714",
||||||| 11b9cb7
   "id": "e5c18014",
=======
   "id": "0489ee6e",
>>>>>>> documentation-devel
=======
   "id": "f37dcf54",
>>>>>>> 552590ea8fad969b67afdba27558a1e6cb21016e
=======
   "id": "18d8b49b",
>>>>>>> b6e07d13baac92b2c1c9b43f8e4113ffa87bf495
   "metadata": {},
   "source": [
    "Spatial variability can also be investigated using  differential expression testing known anatomical regions complemented with spatial location. One potential drawback to this approach is the variability that is induced by the melanoma, rather than the native tissue architecture, which may preclude identification of typical structures. \n",
    "\n",
    "Further analyses that can be done at this stage:\n",
    "\n",
    "1. What gene expression patterns, if any, differentiate the neighborhoods of melanoma cells?\n",
    "2. What genes are differentially expressed in each cluster? "
   ]
  },
  {
   "cell_type": "markdown",
<<<<<<< HEAD
<<<<<<< HEAD
<<<<<<< HEAD
<<<<<<< HEAD
<<<<<<< HEAD
   "id": "a32fa9f4",
||||||| 11b9cb7
   "id": "a7a2106c",
=======
   "id": "04260cef",
>>>>>>> documentation-devel
||||||| 614e9b1
   "id": "04260cef",
=======
   "id": "078bfa5b",
>>>>>>> documentation-devel
||||||| 856b4c0
<<<<<<< HEAD
   "id": "a32fa9f4",
||||||| 11b9cb7
   "id": "a7a2106c",
=======
   "id": "04260cef",
>>>>>>> documentation-devel
=======
   "id": "421a15a5",
>>>>>>> 552590ea8fad969b67afdba27558a1e6cb21016e
||||||| 452c944
   "id": "078bfa5b",
=======
   "id": "f5646da0",
>>>>>>> documentation-devel
||||||| 4da3324
<<<<<<< HEAD
<<<<<<< HEAD
<<<<<<< HEAD
   "id": "a32fa9f4",
||||||| 11b9cb7
   "id": "a7a2106c",
=======
   "id": "04260cef",
>>>>>>> documentation-devel
||||||| 614e9b1
   "id": "04260cef",
=======
   "id": "078bfa5b",
>>>>>>> documentation-devel
||||||| 856b4c0
<<<<<<< HEAD
   "id": "a32fa9f4",
||||||| 11b9cb7
   "id": "a7a2106c",
=======
   "id": "04260cef",
>>>>>>> documentation-devel
=======
   "id": "421a15a5",
>>>>>>> 552590ea8fad969b67afdba27558a1e6cb21016e
=======
   "id": "4d77d720",
>>>>>>> b6e07d13baac92b2c1c9b43f8e4113ffa87bf495
   "metadata": {},
   "source": [
    "# Session Info"
   ]
  },
  {
   "cell_type": "code",
   "execution_count": null,
<<<<<<< HEAD
<<<<<<< HEAD
<<<<<<< HEAD
<<<<<<< HEAD
<<<<<<< HEAD
   "id": "5f0a8907",
||||||| 11b9cb7
   "id": "933468cb",
=======
   "id": "c4022a0e",
>>>>>>> documentation-devel
||||||| 614e9b1
   "id": "c4022a0e",
=======
   "id": "9b73e325",
>>>>>>> documentation-devel
||||||| 856b4c0
<<<<<<< HEAD
   "id": "5f0a8907",
||||||| 11b9cb7
   "id": "933468cb",
=======
   "id": "c4022a0e",
>>>>>>> documentation-devel
=======
   "id": "9e4f06d5",
>>>>>>> 552590ea8fad969b67afdba27558a1e6cb21016e
||||||| 452c944
   "id": "9b73e325",
=======
   "id": "70730518",
>>>>>>> documentation-devel
||||||| 4da3324
<<<<<<< HEAD
<<<<<<< HEAD
<<<<<<< HEAD
   "id": "5f0a8907",
||||||| 11b9cb7
   "id": "933468cb",
=======
   "id": "c4022a0e",
>>>>>>> documentation-devel
||||||| 614e9b1
   "id": "c4022a0e",
=======
   "id": "9b73e325",
>>>>>>> documentation-devel
||||||| 856b4c0
<<<<<<< HEAD
   "id": "5f0a8907",
||||||| 11b9cb7
   "id": "933468cb",
=======
   "id": "c4022a0e",
>>>>>>> documentation-devel
=======
   "id": "9e4f06d5",
>>>>>>> 552590ea8fad969b67afdba27558a1e6cb21016e
=======
   "id": "e3980ba4",
>>>>>>> b6e07d13baac92b2c1c9b43f8e4113ffa87bf495
   "metadata": {},
   "outputs": [],
   "source": [
    "sessionInfo()"
   ]
  },
  {
   "cell_type": "markdown",
<<<<<<< HEAD
<<<<<<< HEAD
<<<<<<< HEAD
<<<<<<< HEAD
<<<<<<< HEAD
   "id": "eda1c2fa",
||||||| 11b9cb7
   "id": "36a10028",
=======
   "id": "4ddb547c",
>>>>>>> documentation-devel
||||||| 614e9b1
   "id": "4ddb547c",
=======
   "id": "88686f72",
>>>>>>> documentation-devel
||||||| 856b4c0
<<<<<<< HEAD
   "id": "eda1c2fa",
||||||| 11b9cb7
   "id": "36a10028",
=======
   "id": "4ddb547c",
>>>>>>> documentation-devel
=======
   "id": "d456cf1d",
>>>>>>> 552590ea8fad969b67afdba27558a1e6cb21016e
||||||| 452c944
   "id": "88686f72",
=======
   "id": "82e4b6fc",
>>>>>>> documentation-devel
||||||| 4da3324
<<<<<<< HEAD
<<<<<<< HEAD
<<<<<<< HEAD
   "id": "eda1c2fa",
||||||| 11b9cb7
   "id": "36a10028",
=======
   "id": "4ddb547c",
>>>>>>> documentation-devel
||||||| 614e9b1
   "id": "4ddb547c",
=======
   "id": "88686f72",
>>>>>>> documentation-devel
||||||| 856b4c0
<<<<<<< HEAD
   "id": "eda1c2fa",
||||||| 11b9cb7
   "id": "36a10028",
=======
   "id": "4ddb547c",
>>>>>>> documentation-devel
=======
   "id": "d456cf1d",
>>>>>>> 552590ea8fad969b67afdba27558a1e6cb21016e
=======
   "id": "ba367087",
>>>>>>> b6e07d13baac92b2c1c9b43f8e4113ffa87bf495
   "metadata": {},
   "source": [
    "# References"
   ]
  }
 ],
 "metadata": {
  "kernelspec": {
   "display_name": "R",
   "language": "R",
   "name": "ir"
  }
 },
 "nbformat": 4,
 "nbformat_minor": 5
}
