{
 "cells": [
  {
   "cell_type": "raw",
   "id": "4592185e",
   "metadata": {},
   "source": [
    "---\n",
    "title: \"Visium Processing Workflows with Voyager\"\n",
    "output: html_document\n",
    "vignette: >\n",
    "  %\\VignetteIndexEntry{xenium_landing}\n",
    "  %\\VignetteEngine{knitr::rmarkdown}\n",
    "  %\\VignetteEncoding{UTF-8}\n",
    "---"
   ]
  },
  {
   "cell_type": "code",
   "execution_count": null,
   "id": "8a5282b8",
   "metadata": {
    "tags": [
     "remove_cell"
    ]
   },
   "outputs": [],
   "source": [
    "knitr::opts_chunk$set(\n",
    "  collapse = TRUE,\n",
    "  comment = \"#>\",\n",
    "  eval = FALSE\n",
    ")"
   ]
  },
  {
   "cell_type": "markdown",
   "id": "4b95d66f",
   "metadata": {},
   "source": [
    "The 10X Genomics Xenium platform is a microscopy based spatial profiling technology capable of detecting hundreds of gene targets at cellular resolution. The technology is compatible with both fresh frozen and formalin-fixed paraffin embedded (FFPE) tissue samples. Similar to other technologies that extend single molecule fluorescent in-situ hybridization (smFISH), Xenium increases multiplexing capabilities by barcoding genes over multiple rounds of imaging and probe hybridization. In contrast those technologies, circular DNA readout probes are amplified and fluorescently tagged after ligation of a detection probe. The amplification step greatly increases signal-to-noise ratio and improves imaging efficiency. \n",
    "\n",
    "## Getting Started\n",
    "\n",
    "10x Genomics has publicly released a Xenium human breast cancer dataset on their [website](https://www.10xgenomics.com/products/xenium-in-situ/preview-dataset-human-breast).  tutorial for processing the output of various spatial transcriptomics technologies into a [`SpatialFeatureExperiment`](https://bioconductor.org/packages/devel/bioc/html/SpatialFeatureExperiment.html)(SFE) object for use with `Voyager` on the [Getting Started]() page. The output files and format for Xenium data may change as the technology is developed and released. "
   ]
  },
  {
   "cell_type": "markdown",
   "id": "cb3df4af",
   "metadata": {},
   "source": [
    "| Vignette | Colab Notebook | Description |\n",
    "|--------------------|:---------------:|---------------------------------|\n",
    "| [Create a `SFE` object](https://pachterlab.github.io/voyager/articles/create_sfe.html) |                | Xenium specific technology notes |\n",
    "\n",
    "## Analysis Workflows\n",
    "\n",
    "The vignettes below demonstrate workflows that can be implemented with `Voyager` using a variety of Visium datasets. The analysis tasks include basic quality control, spatial exploratory data analysis, identification of spatially variable genes, and computation of global and local spatial statistics. Accompanying Colab notebooks are linked when available.\n",
    "\n",
    "| Vignette | Colab Notebook | Description |\n",
    "|--------------------|:---------------:|---------------------------------|\n",
    "| [Xenium breast cancer analysis](https://pachterlab.github.io/voyager/articles/vig5_xenium.html) |  | Perform basic QC, compute Moran's I, local spatial statistics, differential gene expression |"
   ]
  }
 ],
 "metadata": {
  "jupytext": {
   "cell_metadata_filter": "tags,-all",
   "main_language": "R",
   "notebook_metadata_filter": "-all"
  }
 },
 "nbformat": 4,
 "nbformat_minor": 5
}
